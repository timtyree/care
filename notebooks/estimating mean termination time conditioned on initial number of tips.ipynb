{
 "cells": [
  {
   "cell_type": "markdown",
   "id": "5198b9a0",
   "metadata": {},
   "source": [
    "# estimating mean termination time conditioned on initial number of tips\n",
    "Tim Tyree<br>\n",
    "7.20.2023"
   ]
  },
  {
   "cell_type": "code",
   "execution_count": 1,
   "id": "df23fc47",
   "metadata": {
    "ExecuteTime": {
     "end_time": "2023-10-23T00:56:36.943224Z",
     "start_time": "2023-10-23T00:56:31.376099Z"
    }
   },
   "outputs": [
    {
     "name": "stderr",
     "output_type": "stream",
     "text": [
      "/Users/timothytyree/opt/miniconda3/envs/pyenv/lib/python3.9/site-packages/statsmodels/compat/pandas.py:61: FutureWarning: pandas.Int64Index is deprecated and will be removed from pandas in a future version. Use pandas.Index with the appropriate dtype instead.\n",
      "  from pandas import Int64Index as NumericIndex\n"
     ]
    }
   ],
   "source": [
    "import sys,os\n",
    "og_stdout=sys.stdout\n",
    "from lib.my_initialization import *\n",
    "os.chdir(nb_dir)\n",
    "from lib import *\n",
    "# import cupy, cudf\n",
    "# from lib.rapids_func import *\n",
    "import seaborn as sns\n",
    "import matplotlib.ticker as mtick\n",
    "import warnings\n",
    "warnings.simplefilter(\"ignore\", UserWarning)\n",
    "%load_ext autoreload\n",
    "%autoreload 2"
   ]
  },
  {
   "cell_type": "code",
   "execution_count": 2,
   "id": "5e96d242",
   "metadata": {
    "ExecuteTime": {
     "end_time": "2023-10-23T00:56:37.022973Z",
     "start_time": "2023-10-23T00:56:36.945854Z"
    }
   },
   "outputs": [],
   "source": [
    "import seaborn as sns\n",
    "#reset matplotlib\n",
    "plt.plot([1]*4)\n",
    "plt.close()\n",
    "#reset matplotlib settings\n",
    "import matplotlib as mpl\n",
    "sns.reset_orig()\n",
    "mpl.rc_file_defaults()"
   ]
  },
  {
   "cell_type": "markdown",
   "id": "0e6b980f",
   "metadata": {},
   "source": [
    "# define module"
   ]
  },
  {
   "cell_type": "code",
   "execution_count": null,
   "id": "e24085b9",
   "metadata": {},
   "outputs": [],
   "source": []
  },
  {
   "cell_type": "markdown",
   "id": "5af1a46c",
   "metadata": {},
   "source": [
    "# compute $\\tau(N_0)$"
   ]
  },
  {
   "cell_type": "code",
   "execution_count": 3,
   "id": "48030849",
   "metadata": {
    "ExecuteTime": {
     "end_time": "2023-10-23T00:56:37.082417Z",
     "start_time": "2023-10-23T00:56:37.024181Z"
    }
   },
   "outputs": [],
   "source": [
    "printing=True\n",
    "use_save_df_to_parquet_by=True\n",
    "use_save_df_to_parquet_by=False\n",
    "#load fortranic tip positions\n",
    "folder=f\"{nb_dir}/Data/from_wjr/positions_fk/200x200\"\n",
    "fn = 'tippos_per_c_001'\n",
    "folder=f\"{nb_dir}/Data/from_wjr/positions_lr/200x200\"\n",
    "fn = 'tippos_per_001'\n",
    "input_dir = os.path.join(folder,fn)\n",
    "log_folder_parquet=f'{folder}/positions'\n",
    "assert os.path.exists(input_dir)\n",
    "if use_save_df_to_parquet_by:\n",
    "    df_log=parse_fortranic_tip_pos(input_dir)\n",
    "    #partition df_log into a folder of tip logs\n",
    "    save_df_to_parquet_by(df_log,log_folder_parquet,by='trial_num',compression='snappy',index=None)\n",
    "    print(f\"saved to spiral tip positions to {log_folder_parquet=}\")\n",
    "    #determine width and height of the computational domain input the discretization\n",
    "    width,height=df_log.describe().loc['max'][['x','y']].values.T\n",
    "    del df_log\n",
    "else:\n",
    "    width=200\n",
    "    height=200"
   ]
  },
  {
   "cell_type": "code",
   "execution_count": 4,
   "id": "9a5ba2cc",
   "metadata": {
    "ExecuteTime": {
     "end_time": "2023-10-23T00:56:40.806697Z",
     "start_time": "2023-10-23T00:56:37.085436Z"
    }
   },
   "outputs": [
    {
     "data": {
      "text/plain": [
       "14"
      ]
     },
     "execution_count": 4,
     "metadata": {},
     "output_type": "execute_result"
    }
   ],
   "source": [
    "N0=2\n",
    "t_lst=[]\n",
    "for fn in os.listdir(log_folder_parquet):\n",
    "    try:\n",
    "        trial_num = eval(fn.split('=')[1])\n",
    "        # load tip position data\n",
    "        g=load_parquet_by_trial_num(trial_num=trial_num,folder_parquet=log_folder_parquet)\n",
    "        n_series = g.groupby(by='t')['n'].min()\n",
    "        t0_values = n_series[n_series==N0].index.values\n",
    "        tf = n_series.index.values.max()\n",
    "        t_values = tf-t0_values\n",
    "        #record\n",
    "        t_lst.extend(t_values)\n",
    "    except IndexError as e:\n",
    "        pass\n",
    "        #print(f\"IndexError for {fn}: {e}\")\n",
    "n_series.max()"
   ]
  },
  {
   "cell_type": "code",
   "execution_count": 5,
   "id": "e27b4670",
   "metadata": {
    "ExecuteTime": {
     "end_time": "2023-10-23T00:56:40.871302Z",
     "start_time": "2023-10-23T00:56:40.808736Z"
    },
    "run_control": {
     "marked": true
    }
   },
   "outputs": [],
   "source": [
    "# mtt = np.mean(t_lst)\n",
    "# bootstrap_95CI_Delta_mean?\n",
    "# plt.hist(t_lst,bins=np.arange(0,10000,100),color='k')\n",
    "# plt.show()"
   ]
  },
  {
   "cell_type": "code",
   "execution_count": 6,
   "id": "c7792c03",
   "metadata": {
    "ExecuteTime": {
     "end_time": "2023-10-23T00:56:42.235160Z",
     "start_time": "2023-10-23T00:56:40.873168Z"
    }
   },
   "outputs": [
    {
     "name": "stdout",
     "output_type": "stream",
     "text": [
      "mtt=551.57±4.09 ms (num_obs=112062, p_normal=0.7113)\n"
     ]
    }
   ],
   "source": [
    "mtt,Delta_mtt,num_obs,p_normal=comp_mean_bootstrap_uncertainty(np.array(t_lst))\n",
    "print(f\"{mtt=:.2f}±{Delta_mtt:.2f} ms ({num_obs=}, {p_normal=:.4f})\")\n",
    "# mtt=24266.95±197.80 ms (num_obs=81503,p_normal=0.9881103097963074)"
   ]
  },
  {
   "cell_type": "code",
   "execution_count": 8,
   "id": "609de91e",
   "metadata": {
    "ExecuteTime": {
     "end_time": "2023-10-23T00:57:15.177761Z",
     "start_time": "2023-10-23T00:57:14.695490Z"
    }
   },
   "outputs": [
    {
     "data": {
      "image/png": "[encoded data removed]",
      "text/plain": [
       "<Figure size 640x480 with 1 Axes>"
      ]
     },
     "metadata": {},
     "output_type": "display_data"
    }
   ],
   "source": [
    "fontsize=16\n",
    "fig,ax=plt.subplots()\n",
    "bins=16\n",
    "# bins=np.arange(0,0.4,0.02)\n",
    "# bins=32\n",
    "bins=np.arange(0,5,0.1)\n",
    "ax.hist(np.array(t_lst)/1e3,color='k',bins=bins,density=True,alpha=1,label='Data',edgecolor='w')#,**kwargs)\n",
    "format_plot(xlabel='Termination Time  (s)',ylabel='Probability',ax=ax,fontsize=fontsize)\n",
    "ax.tick_params(top=True, right=True,direction='in',which='both')\n",
    "ax.set_yscale('log')\n",
    "# plt.tick_params(top=False, right=False,direction='in',which='both')\n",
    "# plt.gca().spines[['right', 'top']].set_visible(False)\n",
    "plt.show()"
   ]
  },
  {
   "cell_type": "markdown",
   "id": "c928746a",
   "metadata": {},
   "source": [
    "# compute $\\tau(N_0)$ versus $N_0$"
   ]
  },
  {
   "cell_type": "code",
   "execution_count": 9,
   "id": "a55aa1f3",
   "metadata": {
    "ExecuteTime": {
     "end_time": "2023-10-23T01:00:45.048877Z",
     "start_time": "2023-10-23T01:00:29.256139Z"
    }
   },
   "outputs": [
    {
     "name": "stdout",
     "output_type": "stream",
     "text": [
      "N0=2: mtt=551.566382895183 ms\n",
      "N0=4: mtt=694.4088721964355 ms\n",
      "N0=6: mtt=769.820986672323 ms\n"
     ]
    },
    {
     "ename": "KeyboardInterrupt",
     "evalue": "",
     "output_type": "error",
     "traceback": [
      "\u001b[0;31m---------------------------------------------------------------------------\u001b[0m",
      "\u001b[0;31mKeyboardInterrupt\u001b[0m                         Traceback (most recent call last)",
      "\u001b[0;32m/var/folders/0h/p4cbb7yx22jbxm0qb47vhfbh0000gn/T/ipykernel_22478/3672859579.py\u001b[0m in \u001b[0;36m<module>\u001b[0;34m\u001b[0m\n\u001b[1;32m      6\u001b[0m             \u001b[0mtrial_num\u001b[0m \u001b[0;34m=\u001b[0m \u001b[0meval\u001b[0m\u001b[0;34m(\u001b[0m\u001b[0mfn\u001b[0m\u001b[0;34m.\u001b[0m\u001b[0msplit\u001b[0m\u001b[0;34m(\u001b[0m\u001b[0;34m'='\u001b[0m\u001b[0;34m)\u001b[0m\u001b[0;34m[\u001b[0m\u001b[0;36m1\u001b[0m\u001b[0;34m]\u001b[0m\u001b[0;34m)\u001b[0m\u001b[0;34m\u001b[0m\u001b[0;34m\u001b[0m\u001b[0m\n\u001b[1;32m      7\u001b[0m             \u001b[0;31m# load tip position data\u001b[0m\u001b[0;34m\u001b[0m\u001b[0;34m\u001b[0m\u001b[0;34m\u001b[0m\u001b[0m\n\u001b[0;32m----> 8\u001b[0;31m             \u001b[0mg\u001b[0m\u001b[0;34m=\u001b[0m\u001b[0mload_parquet_by_trial_num\u001b[0m\u001b[0;34m(\u001b[0m\u001b[0mtrial_num\u001b[0m\u001b[0;34m=\u001b[0m\u001b[0mtrial_num\u001b[0m\u001b[0;34m,\u001b[0m\u001b[0mfolder_parquet\u001b[0m\u001b[0;34m=\u001b[0m\u001b[0mlog_folder_parquet\u001b[0m\u001b[0;34m)\u001b[0m\u001b[0;34m\u001b[0m\u001b[0;34m\u001b[0m\u001b[0m\n\u001b[0m\u001b[1;32m      9\u001b[0m             \u001b[0mn_series\u001b[0m \u001b[0;34m=\u001b[0m \u001b[0mg\u001b[0m\u001b[0;34m.\u001b[0m\u001b[0mgroupby\u001b[0m\u001b[0;34m(\u001b[0m\u001b[0mby\u001b[0m\u001b[0;34m=\u001b[0m\u001b[0;34m't'\u001b[0m\u001b[0;34m)\u001b[0m\u001b[0;34m[\u001b[0m\u001b[0;34m'n'\u001b[0m\u001b[0;34m]\u001b[0m\u001b[0;34m.\u001b[0m\u001b[0mmin\u001b[0m\u001b[0;34m(\u001b[0m\u001b[0;34m)\u001b[0m\u001b[0;34m\u001b[0m\u001b[0;34m\u001b[0m\u001b[0m\n\u001b[1;32m     10\u001b[0m             \u001b[0mt0_values\u001b[0m \u001b[0;34m=\u001b[0m \u001b[0mn_series\u001b[0m\u001b[0;34m[\u001b[0m\u001b[0mn_series\u001b[0m\u001b[0;34m==\u001b[0m\u001b[0mN0\u001b[0m\u001b[0;34m]\u001b[0m\u001b[0;34m.\u001b[0m\u001b[0mindex\u001b[0m\u001b[0;34m.\u001b[0m\u001b[0mvalues\u001b[0m\u001b[0;34m\u001b[0m\u001b[0;34m\u001b[0m\u001b[0m\n",
      "\u001b[0;32m~/Documents/GitHub/care/notebooks/lib/utils/parquetio.py\u001b[0m in \u001b[0;36mload_parquet_by_trial_num\u001b[0;34m(trial_num, folder_parquet, reset_index, **kwargs)\u001b[0m\n\u001b[1;32m     32\u001b[0m     \"\"\"\n\u001b[1;32m     33\u001b[0m     \u001b[0mlog_dir_parquet\u001b[0m\u001b[0;34m=\u001b[0m\u001b[0mos\u001b[0m\u001b[0;34m.\u001b[0m\u001b[0mpath\u001b[0m\u001b[0;34m.\u001b[0m\u001b[0mjoin\u001b[0m\u001b[0;34m(\u001b[0m\u001b[0mfolder_parquet\u001b[0m\u001b[0;34m,\u001b[0m\u001b[0;34mf\"{trial_num=}\"\u001b[0m\u001b[0;34m)\u001b[0m\u001b[0;34m\u001b[0m\u001b[0;34m\u001b[0m\u001b[0m\n\u001b[0;32m---> 34\u001b[0;31m     \u001b[0mdf\u001b[0m\u001b[0;34m=\u001b[0m\u001b[0mpd\u001b[0m\u001b[0;34m.\u001b[0m\u001b[0mread_parquet\u001b[0m\u001b[0;34m(\u001b[0m\u001b[0mlog_dir_parquet\u001b[0m\u001b[0;34m)\u001b[0m\u001b[0;34m\u001b[0m\u001b[0;34m\u001b[0m\u001b[0m\n\u001b[0m\u001b[1;32m     35\u001b[0m     \u001b[0mdf\u001b[0m\u001b[0;34m[\u001b[0m\u001b[0;34m'trial_num'\u001b[0m\u001b[0;34m]\u001b[0m\u001b[0;34m=\u001b[0m\u001b[0mtrial_num\u001b[0m\u001b[0;34m\u001b[0m\u001b[0;34m\u001b[0m\u001b[0m\n\u001b[1;32m     36\u001b[0m     \u001b[0;32mif\u001b[0m \u001b[0mreset_index\u001b[0m\u001b[0;34m:\u001b[0m\u001b[0;34m\u001b[0m\u001b[0;34m\u001b[0m\u001b[0m\n",
      "\u001b[0;32m~/opt/miniconda3/envs/pyenv/lib/python3.9/site-packages/pandas/io/parquet.py\u001b[0m in \u001b[0;36mread_parquet\u001b[0;34m(path, engine, columns, storage_options, use_nullable_dtypes, **kwargs)\u001b[0m\n\u001b[1;32m    489\u001b[0m     \u001b[0mDataFrame\u001b[0m\u001b[0;34m\u001b[0m\u001b[0;34m\u001b[0m\u001b[0m\n\u001b[1;32m    490\u001b[0m     \"\"\"\n\u001b[0;32m--> 491\u001b[0;31m     \u001b[0mimpl\u001b[0m \u001b[0;34m=\u001b[0m \u001b[0mget_engine\u001b[0m\u001b[0;34m(\u001b[0m\u001b[0mengine\u001b[0m\u001b[0;34m)\u001b[0m\u001b[0;34m\u001b[0m\u001b[0;34m\u001b[0m\u001b[0m\n\u001b[0m\u001b[1;32m    492\u001b[0m \u001b[0;34m\u001b[0m\u001b[0m\n\u001b[1;32m    493\u001b[0m     return impl.read(\n",
      "\u001b[0;32m~/opt/miniconda3/envs/pyenv/lib/python3.9/site-packages/pandas/io/parquet.py\u001b[0m in \u001b[0;36mget_engine\u001b[0;34m(engine)\u001b[0m\n\u001b[1;32m     46\u001b[0m         \u001b[0;32mfor\u001b[0m \u001b[0mengine_class\u001b[0m \u001b[0;32min\u001b[0m \u001b[0mengine_classes\u001b[0m\u001b[0;34m:\u001b[0m\u001b[0;34m\u001b[0m\u001b[0;34m\u001b[0m\u001b[0m\n\u001b[1;32m     47\u001b[0m             \u001b[0;32mtry\u001b[0m\u001b[0;34m:\u001b[0m\u001b[0;34m\u001b[0m\u001b[0;34m\u001b[0m\u001b[0m\n\u001b[0;32m---> 48\u001b[0;31m                 \u001b[0;32mreturn\u001b[0m \u001b[0mengine_class\u001b[0m\u001b[0;34m(\u001b[0m\u001b[0;34m)\u001b[0m\u001b[0;34m\u001b[0m\u001b[0;34m\u001b[0m\u001b[0m\n\u001b[0m\u001b[1;32m     49\u001b[0m             \u001b[0;32mexcept\u001b[0m \u001b[0mImportError\u001b[0m \u001b[0;32mas\u001b[0m \u001b[0merr\u001b[0m\u001b[0;34m:\u001b[0m\u001b[0;34m\u001b[0m\u001b[0;34m\u001b[0m\u001b[0m\n\u001b[1;32m     50\u001b[0m                 \u001b[0merror_msgs\u001b[0m \u001b[0;34m+=\u001b[0m \u001b[0;34m\"\\n - \"\u001b[0m \u001b[0;34m+\u001b[0m \u001b[0mstr\u001b[0m\u001b[0;34m(\u001b[0m\u001b[0merr\u001b[0m\u001b[0;34m)\u001b[0m\u001b[0;34m\u001b[0m\u001b[0;34m\u001b[0m\u001b[0m\n",
      "\u001b[0;32m~/opt/miniconda3/envs/pyenv/lib/python3.9/site-packages/pandas/io/parquet.py\u001b[0m in \u001b[0;36m__init__\u001b[0;34m(self)\u001b[0m\n\u001b[1;32m    146\u001b[0m \u001b[0;32mclass\u001b[0m \u001b[0mPyArrowImpl\u001b[0m\u001b[0;34m(\u001b[0m\u001b[0mBaseImpl\u001b[0m\u001b[0;34m)\u001b[0m\u001b[0;34m:\u001b[0m\u001b[0;34m\u001b[0m\u001b[0;34m\u001b[0m\u001b[0m\n\u001b[1;32m    147\u001b[0m     \u001b[0;32mdef\u001b[0m \u001b[0m__init__\u001b[0m\u001b[0;34m(\u001b[0m\u001b[0mself\u001b[0m\u001b[0;34m)\u001b[0m\u001b[0;34m:\u001b[0m\u001b[0;34m\u001b[0m\u001b[0;34m\u001b[0m\u001b[0m\n\u001b[0;32m--> 148\u001b[0;31m         import_optional_dependency(\n\u001b[0m\u001b[1;32m    149\u001b[0m             \u001b[0;34m\"pyarrow\"\u001b[0m\u001b[0;34m,\u001b[0m \u001b[0mextra\u001b[0m\u001b[0;34m=\u001b[0m\u001b[0;34m\"pyarrow is required for parquet support.\"\u001b[0m\u001b[0;34m\u001b[0m\u001b[0;34m\u001b[0m\u001b[0m\n\u001b[1;32m    150\u001b[0m         )\n",
      "\u001b[0;32m~/opt/miniconda3/envs/pyenv/lib/python3.9/site-packages/pandas/compat/_optional.py\u001b[0m in \u001b[0;36mimport_optional_dependency\u001b[0;34m(name, extra, errors, min_version)\u001b[0m\n\u001b[1;32m    141\u001b[0m     \u001b[0;32mif\u001b[0m \u001b[0mminimum_version\u001b[0m\u001b[0;34m:\u001b[0m\u001b[0;34m\u001b[0m\u001b[0;34m\u001b[0m\u001b[0m\n\u001b[1;32m    142\u001b[0m         \u001b[0mversion\u001b[0m \u001b[0;34m=\u001b[0m \u001b[0mget_version\u001b[0m\u001b[0;34m(\u001b[0m\u001b[0mmodule_to_get\u001b[0m\u001b[0;34m)\u001b[0m\u001b[0;34m\u001b[0m\u001b[0;34m\u001b[0m\u001b[0m\n\u001b[0;32m--> 143\u001b[0;31m         \u001b[0;32mif\u001b[0m \u001b[0mVersion\u001b[0m\u001b[0;34m(\u001b[0m\u001b[0mversion\u001b[0m\u001b[0;34m)\u001b[0m \u001b[0;34m<\u001b[0m \u001b[0mVersion\u001b[0m\u001b[0;34m(\u001b[0m\u001b[0mminimum_version\u001b[0m\u001b[0;34m)\u001b[0m\u001b[0;34m:\u001b[0m\u001b[0;34m\u001b[0m\u001b[0;34m\u001b[0m\u001b[0m\n\u001b[0m\u001b[1;32m    144\u001b[0m             msg = (\n\u001b[1;32m    145\u001b[0m                 \u001b[0;34mf\"Pandas requires version '{minimum_version}' or newer of '{parent}' \"\u001b[0m\u001b[0;34m\u001b[0m\u001b[0;34m\u001b[0m\u001b[0m\n",
      "\u001b[0;32m~/opt/miniconda3/envs/pyenv/lib/python3.9/site-packages/pandas/util/version/__init__.py\u001b[0m in \u001b[0;36m__init__\u001b[0;34m(self, version)\u001b[0m\n\u001b[1;32m    345\u001b[0m             \u001b[0mepoch\u001b[0m\u001b[0;34m=\u001b[0m\u001b[0mint\u001b[0m\u001b[0;34m(\u001b[0m\u001b[0mmatch\u001b[0m\u001b[0;34m.\u001b[0m\u001b[0mgroup\u001b[0m\u001b[0;34m(\u001b[0m\u001b[0;34m\"epoch\"\u001b[0m\u001b[0;34m)\u001b[0m\u001b[0;34m)\u001b[0m \u001b[0;32mif\u001b[0m \u001b[0mmatch\u001b[0m\u001b[0;34m.\u001b[0m\u001b[0mgroup\u001b[0m\u001b[0;34m(\u001b[0m\u001b[0;34m\"epoch\"\u001b[0m\u001b[0;34m)\u001b[0m \u001b[0;32melse\u001b[0m \u001b[0;36m0\u001b[0m\u001b[0;34m,\u001b[0m\u001b[0;34m\u001b[0m\u001b[0;34m\u001b[0m\u001b[0m\n\u001b[1;32m    346\u001b[0m             \u001b[0mrelease\u001b[0m\u001b[0;34m=\u001b[0m\u001b[0mtuple\u001b[0m\u001b[0;34m(\u001b[0m\u001b[0mint\u001b[0m\u001b[0;34m(\u001b[0m\u001b[0mi\u001b[0m\u001b[0;34m)\u001b[0m \u001b[0;32mfor\u001b[0m \u001b[0mi\u001b[0m \u001b[0;32min\u001b[0m \u001b[0mmatch\u001b[0m\u001b[0;34m.\u001b[0m\u001b[0mgroup\u001b[0m\u001b[0;34m(\u001b[0m\u001b[0;34m\"release\"\u001b[0m\u001b[0;34m)\u001b[0m\u001b[0;34m.\u001b[0m\u001b[0msplit\u001b[0m\u001b[0;34m(\u001b[0m\u001b[0;34m\".\"\u001b[0m\u001b[0;34m)\u001b[0m\u001b[0;34m)\u001b[0m\u001b[0;34m,\u001b[0m\u001b[0;34m\u001b[0m\u001b[0;34m\u001b[0m\u001b[0m\n\u001b[0;32m--> 347\u001b[0;31m             \u001b[0mpre\u001b[0m\u001b[0;34m=\u001b[0m\u001b[0m_parse_letter_version\u001b[0m\u001b[0;34m(\u001b[0m\u001b[0mmatch\u001b[0m\u001b[0;34m.\u001b[0m\u001b[0mgroup\u001b[0m\u001b[0;34m(\u001b[0m\u001b[0;34m\"pre_l\"\u001b[0m\u001b[0;34m)\u001b[0m\u001b[0;34m,\u001b[0m \u001b[0mmatch\u001b[0m\u001b[0;34m.\u001b[0m\u001b[0mgroup\u001b[0m\u001b[0;34m(\u001b[0m\u001b[0;34m\"pre_n\"\u001b[0m\u001b[0;34m)\u001b[0m\u001b[0;34m)\u001b[0m\u001b[0;34m,\u001b[0m\u001b[0;34m\u001b[0m\u001b[0;34m\u001b[0m\u001b[0m\n\u001b[0m\u001b[1;32m    348\u001b[0m             post=_parse_letter_version(\n\u001b[1;32m    349\u001b[0m                 \u001b[0mmatch\u001b[0m\u001b[0;34m.\u001b[0m\u001b[0mgroup\u001b[0m\u001b[0;34m(\u001b[0m\u001b[0;34m\"post_l\"\u001b[0m\u001b[0;34m)\u001b[0m\u001b[0;34m,\u001b[0m \u001b[0mmatch\u001b[0m\u001b[0;34m.\u001b[0m\u001b[0mgroup\u001b[0m\u001b[0;34m(\u001b[0m\u001b[0;34m\"post_n1\"\u001b[0m\u001b[0;34m)\u001b[0m \u001b[0;32mor\u001b[0m \u001b[0mmatch\u001b[0m\u001b[0;34m.\u001b[0m\u001b[0mgroup\u001b[0m\u001b[0;34m(\u001b[0m\u001b[0;34m\"post_n2\"\u001b[0m\u001b[0;34m)\u001b[0m\u001b[0;34m\u001b[0m\u001b[0;34m\u001b[0m\u001b[0m\n",
      "\u001b[0;31mKeyboardInterrupt\u001b[0m: "
     ]
    }
   ],
   "source": [
    "dict_lst=[]\n",
    "for N0 in range(2,16,2):\n",
    "    t_lst=[]\n",
    "    for fn in os.listdir(log_folder_parquet):\n",
    "        try:\n",
    "            trial_num = eval(fn.split('=')[1])\n",
    "            # load tip position data\n",
    "            g=load_parquet_by_trial_num(trial_num=trial_num,folder_parquet=log_folder_parquet)\n",
    "            n_series = g.groupby(by='t')['n'].min()\n",
    "            t0_values = n_series[n_series==N0].index.values\n",
    "            tf = n_series.index.values.max()\n",
    "            t_values = tf-t0_values\n",
    "            #record\n",
    "            t_lst.extend(t_values)\n",
    "        except IndexError as e:\n",
    "            pass\n",
    "            #print(f\"IndexError for {fn}: {e}\")\n",
    "    mtt,Delta_mtt,num_obs,p_normal=comp_mean_bootstrap_uncertainty(np.array(t_lst))\n",
    "    dict_lst.append(dict(\n",
    "        N0=N0,mtt=mtt,Delta_mtt=Delta_mtt,num_obs=num_obs,p_normal=p_normal\n",
    "    ))\n",
    "    print(f\"{N0=}: {mtt=} ms\")"
   ]
  },
  {
   "cell_type": "code",
   "execution_count": null,
   "id": "f6694bfb",
   "metadata": {
    "ExecuteTime": {
     "end_time": "2023-10-23T01:00:45.051580Z",
     "start_time": "2023-10-23T01:00:45.051554Z"
    }
   },
   "outputs": [],
   "source": [
    "df=pd.DataFrame(dict_lst)\n",
    "df.head()"
   ]
  },
  {
   "cell_type": "code",
   "execution_count": null,
   "id": "961c2f6f",
   "metadata": {
    "ExecuteTime": {
     "end_time": "2023-10-23T01:00:45.056324Z",
     "start_time": "2023-10-23T01:00:45.056295Z"
    }
   },
   "outputs": [],
   "source": [
    "n_series.max()"
   ]
  },
  {
   "cell_type": "code",
   "execution_count": 86,
   "id": "a99f85e4",
   "metadata": {
    "ExecuteTime": {
     "end_time": "2023-07-20T23:48:43.029815Z",
     "start_time": "2023-07-20T23:48:42.875648Z"
    }
   },
   "outputs": [
    {
     "name": "stdout",
     "output_type": "stream",
     "text": [
      "csv_dir = '/Users/timothytyree/Documents/GitHub/care/notebooks/Data/from_wjr/positions_lr/200x200/mtt_vs_N0.csv'\n"
     ]
    }
   ],
   "source": [
    "fn_out = os.path.join(folder,'mtt_vs_N0.csv')\n",
    "df.to_csv(fn_out,index=False)\n",
    "print(f\"csv_dir = '{fn_out}'\")"
   ]
  },
  {
   "cell_type": "markdown",
   "id": "9c3f5c4a",
   "metadata": {},
   "source": [
    "# visualize mean termination time conditioned on initial number of tips"
   ]
  },
  {
   "cell_type": "code",
   "execution_count": 10,
   "id": "da24ef30",
   "metadata": {
    "ExecuteTime": {
     "end_time": "2023-10-23T01:00:46.475475Z",
     "start_time": "2023-10-23T01:00:46.411176Z"
    }
   },
   "outputs": [],
   "source": [
    "csv_dir_fk = '/Users/timothytyree/Documents/GitHub/care/notebooks/Data/from_wjr/positions_fk/200x200/mtt_vs_N0.csv'\n",
    "csv_dir_lr = '/Users/timothytyree/Documents/GitHub/care/notebooks/Data/from_wjr/positions_lr/200x200/mtt_vs_N0.csv'"
   ]
  },
  {
   "cell_type": "code",
   "execution_count": 11,
   "id": "63838d58",
   "metadata": {
    "ExecuteTime": {
     "end_time": "2023-10-23T01:00:46.911840Z",
     "start_time": "2023-10-23T01:00:46.847319Z"
    }
   },
   "outputs": [],
   "source": [
    "dffk=pd.read_csv(csv_dir_fk)\n",
    "dflr=pd.read_csv(csv_dir_lr)"
   ]
  },
  {
   "cell_type": "code",
   "execution_count": 12,
   "id": "66bfad83",
   "metadata": {
    "ExecuteTime": {
     "end_time": "2023-10-23T01:00:47.344942Z",
     "start_time": "2023-10-23T01:00:47.272639Z"
    }
   },
   "outputs": [],
   "source": [
    "yscale=1e-3\n",
    "x_values1 = dffk['N0'].values\n",
    "y_values1 = dffk['mtt'].values*yscale\n",
    "yerr_values1 = dffk['Delta_mtt'].values*yscale\n",
    "x_values2 = dflr['N0'].values\n",
    "y_values2 = dflr['mtt'].values*yscale\n",
    "yerr_values2 = dflr['Delta_mtt'].values*yscale"
   ]
  },
  {
   "cell_type": "code",
   "execution_count": 13,
   "id": "a70e3f25",
   "metadata": {
    "ExecuteTime": {
     "end_time": "2023-10-23T01:00:48.235943Z",
     "start_time": "2023-10-23T01:00:47.723610Z"
    }
   },
   "outputs": [
    {
     "data": {
      "image/png": "[encoded data removed]",
      "text/plain": [
       "<Figure size 600x400 with 1 Axes>"
      ]
     },
     "metadata": {},
     "output_type": "display_data"
    }
   ],
   "source": [
    "fig,ax=plt.subplots(figsize=(6,4))\n",
    "ax.plot(x_values1,y_values1,color='C0',lw=2,label='Fenton-Karma')\n",
    "ax.fill_between(x_values1,y_values1-yerr_values1,y_values1+yerr_values1,color='C0',lw=2,alpha=0.4)\n",
    "\n",
    "ax.plot(x_values2,y_values2,color='C1',lw=2,label='Luo-Rudy')\n",
    "ax.fill_between(x_values2,y_values2-yerr_values2,y_values2+yerr_values2,color='C1',lw=2,alpha=0.4)\n",
    "\n",
    "format_plot(xlabel='Initial Number of Tips',ylabel='Mean Termination Time  (s)',ax=ax,fontsize=fontsize)\n",
    "ax.tick_params(top=True, right=True,direction='in',which='both')\n",
    "ax.set_yscale('log')\n",
    "ax.legend(fontsize=12)\n",
    "ax.set_xticks([2,4,6,8,10,12,14])\n",
    "plt.show()"
   ]
  },
  {
   "cell_type": "code",
   "execution_count": 14,
   "id": "1c760ee5",
   "metadata": {
    "ExecuteTime": {
     "end_time": "2023-10-23T01:00:50.866800Z",
     "start_time": "2023-10-23T01:00:50.797308Z"
    }
   },
   "outputs": [
    {
     "data": {
      "text/plain": [
       "14"
      ]
     },
     "execution_count": 14,
     "metadata": {},
     "output_type": "execute_result"
    }
   ],
   "source": [
    "3+1_1"
   ]
  },
  {
   "cell_type": "code",
   "execution_count": 15,
   "id": "599a098d",
   "metadata": {
    "ExecuteTime": {
     "end_time": "2023-10-23T01:00:51.402071Z",
     "start_time": "2023-10-23T01:00:51.336591Z"
    }
   },
   "outputs": [
    {
     "data": {
      "text/plain": [
       "0.3662040962227033"
      ]
     },
     "execution_count": 15,
     "metadata": {},
     "output_type": "execute_result"
    }
   ],
   "source": [
    "np.log(3)/3"
   ]
  },
  {
   "cell_type": "code",
   "execution_count": 35,
   "id": "f4fa06e3",
   "metadata": {
    "ExecuteTime": {
     "end_time": "2023-10-25T20:17:55.205285Z",
     "start_time": "2023-10-25T20:17:54.342657Z"
    }
   },
   "outputs": [],
   "source": [
    "# Ninitial=14, R_c_bar=1.25, mean termination time: 0.653381050000028 +/- 0.018159030486425386 seconds (num_trials=5000)\n",
    "# Ninitial=12, R_c_bar=1.25, mean termination time: 0.7304856760095639 +/- 0.05931961201580523 seconds (num_trials=5000)\n",
    "# Ninitial=10, R_c_bar=1.25, mean termination time: 0.6745262240032438 +/- 0.035317313982767384 seconds (num_trials=5000)\n",
    "# Ninitial=8, R_c_bar=1.25, mean termination time: 0.7279121360082963 +/- 0.05768301149384409 seconds (num_trials=5000)\n",
    "# Ninitial=6, R_c_bar=1.25, mean termination time: 0.6834717560049279 +/- 0.04115161508164275 seconds (num_trials=5000)\n",
    "# Ninitial=4, R_c_bar=1.25, mean termination time: 0.6713320280064632 +/- 0.050606042880702404 seconds (num_trials=5000)\n",
    "# Ninitial=2, R_c_bar=1.25, mean termination time: 0.5571799440032732 +/- 0.036710952082747786 seconds (num_trials=5000)\n",
    "N_lst=[14,12,10,8,6,4,2,]\n",
    "tau_lst=[0.653381050000028,0.7304856760095639,0.6745262240032438,0.7279121360082963,0.6834717560049279,0.6713320280064632,0.5571799440032732]\n",
    "Delta_tau_lst=[0.018159030486425386,0.05931961201580523,0.035317313982767384,0.05768301149384409,0.04115161508164275,0.050606042880702404,0.036710952082747786]\n",
    "# df_lpm=pd.DataFrame(N=N_lst,tau=tau_lst,Delta_tau=Delta_tau_lst)\n",
    "# df_lpm"
   ]
  },
  {
   "cell_type": "code",
   "execution_count": 38,
   "id": "cd2ed770",
   "metadata": {
    "ExecuteTime": {
     "end_time": "2023-10-25T20:18:38.456592Z",
     "start_time": "2023-10-25T20:18:38.246799Z"
    }
   },
   "outputs": [
    {
     "data": {
      "image/png": "[encoded data removed]",
      "text/plain": [
       "<Figure size 600x400 with 1 Axes>"
      ]
     },
     "metadata": {},
     "output_type": "display_data"
    }
   ],
   "source": [
    "fig,ax=plt.subplots(figsize=(6,4))\n",
    "# ax.plot(x_values1,y_values1,color='C0',lw=2,label='Fenton-Karma')\n",
    "# ax.fill_between(x_values1,y_values1-yerr_values1,y_values1+yerr_values1,color='C0',lw=2,alpha=0.4)\n",
    "\n",
    "ax.plot(x_values2,y_values2,color='C1',lw=2,label='full cardiac model')\n",
    "ax.fill_between(x_values2,y_values2-yerr_values2,y_values2+yerr_values2,color='C1',lw=2,alpha=0.4)\n",
    "\n",
    "ax.errorbar(x=N_lst,y=tau_lst,yerr=Delta_tau_lst,marker='x',color='k',label='particle with creation')\n",
    "\n",
    "format_plot(xlabel='Initial Number of Tips',ylabel='Mean Termination Time  (s)',ax=ax,fontsize=fontsize)\n",
    "# ax.set_yscale('log')\n",
    "ax.legend(fontsize=12,loc='lower right')\n",
    "ax.set_xticks([2,4,6,8,10,12,14])\n",
    "ax.set_ylim([0,1])\n",
    "ax.spines[['right', 'top']].set_visible(False)\n",
    "ax.tick_params(top=False, right=False,direction='in',which='both')\n",
    "# ax.tick_params(top=True, right=True,direction='in',which='both')\n",
    "plt.show()"
   ]
  },
  {
   "cell_type": "code",
   "execution_count": null,
   "id": "c1fbf00b",
   "metadata": {},
   "outputs": [],
   "source": []
  }
 ],
 "metadata": {
  "hide_input": false,
  "kernelspec": {
   "display_name": "Python 3 (ipykernel)",
   "language": "python",
   "name": "python3"
  },
  "language_info": {
   "codemirror_mode": {
    "name": "ipython",
    "version": 3
   },
   "file_extension": ".py",
   "mimetype": "text/x-python",
   "name": "python",
   "nbconvert_exporter": "python",
   "pygments_lexer": "ipython3",
   "version": "3.9.5"
  },
  "nbTranslate": {
   "displayLangs": [
    "*"
   ],
   "hotkey": "alt-t",
   "langInMainMenu": true,
   "sourceLang": "en",
   "targetLang": "fr",
   "useGoogleTranslate": true
  },
  "toc": {
   "base_numbering": 1,
   "nav_menu": {},
   "number_sections": true,
   "sideBar": true,
   "skip_h1_title": false,
   "title_cell": "Table of Contents",
   "title_sidebar": "Contents",
   "toc_cell": false,
   "toc_position": {},
   "toc_section_display": true,
   "toc_window_display": false
  }
 },
 "nbformat": 4,
 "nbformat_minor": 5
}
