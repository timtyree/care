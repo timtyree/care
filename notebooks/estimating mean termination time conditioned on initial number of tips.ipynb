{
 "cells": [
  {
   "cell_type": "markdown",
   "id": "5198b9a0",
   "metadata": {},
   "source": [
    "# estimating mean termination time conditioned on initial number of tips\n",
    "Tim Tyree<br>\n",
    "7.20.2023"
   ]
  },
  {
   "cell_type": "code",
   "execution_count": 1,
   "id": "df23fc47",
   "metadata": {
    "ExecuteTime": {
     "end_time": "2023-07-20T20:12:31.897887Z",
     "start_time": "2023-07-20T20:12:26.726098Z"
    }
   },
   "outputs": [
    {
     "name": "stderr",
     "output_type": "stream",
     "text": [
      "/Users/timothytyree/opt/miniconda3/envs/pyenv/lib/python3.9/site-packages/statsmodels/compat/pandas.py:61: FutureWarning: pandas.Int64Index is deprecated and will be removed from pandas in a future version. Use pandas.Index with the appropriate dtype instead.\n",
      "  from pandas import Int64Index as NumericIndex\n"
     ]
    }
   ],
   "source": [
    "import sys,os\n",
    "og_stdout=sys.stdout\n",
    "from lib.my_initialization import *\n",
    "os.chdir(nb_dir)\n",
    "from lib import *\n",
    "# import cupy, cudf\n",
    "# from lib.rapids_func import *\n",
    "import seaborn as sns\n",
    "import matplotlib.ticker as mtick\n",
    "import warnings\n",
    "warnings.simplefilter(\"ignore\", UserWarning)\n",
    "%load_ext autoreload\n",
    "%autoreload 2"
   ]
  },
  {
   "cell_type": "code",
   "execution_count": 2,
   "id": "5e96d242",
   "metadata": {
    "ExecuteTime": {
     "end_time": "2023-07-20T20:12:34.634692Z",
     "start_time": "2023-07-20T20:12:34.539487Z"
    }
   },
   "outputs": [],
   "source": [
    "import seaborn as sns\n",
    "#reset matplotlib\n",
    "plt.plot([1]*4)\n",
    "plt.close()\n",
    "#reset matplotlib settings\n",
    "import matplotlib as mpl\n",
    "sns.reset_orig()\n",
    "mpl.rc_file_defaults()"
   ]
  },
  {
   "cell_type": "markdown",
   "id": "0e6b980f",
   "metadata": {},
   "source": [
    "# define module"
   ]
  },
  {
   "cell_type": "code",
   "execution_count": null,
   "id": "e24085b9",
   "metadata": {},
   "outputs": [],
   "source": []
  },
  {
   "cell_type": "markdown",
   "id": "5af1a46c",
   "metadata": {},
   "source": [
    "# compute $\\tau(N_0)$"
   ]
  },
  {
   "cell_type": "code",
   "execution_count": 78,
   "id": "48030849",
   "metadata": {
    "ExecuteTime": {
     "end_time": "2023-07-20T23:47:41.289536Z",
     "start_time": "2023-07-20T23:47:41.118214Z"
    }
   },
   "outputs": [],
   "source": [
    "printing=True\n",
    "use_save_df_to_parquet_by=True\n",
    "use_save_df_to_parquet_by=False\n",
    "#load fortranic tip positions\n",
    "folder=f\"{nb_dir}/Data/from_wjr/positions_fk/200x200\"\n",
    "fn = 'tippos_per_c_001'\n",
    "folder=f\"{nb_dir}/Data/from_wjr/positions_lr/200x200\"\n",
    "fn = 'tippos_per_001'\n",
    "input_dir = os.path.join(folder,fn)\n",
    "log_folder_parquet=f'{folder}/positions'\n",
    "assert os.path.exists(input_dir)\n",
    "if use_save_df_to_parquet_by:\n",
    "    df_log=parse_fortranic_tip_pos(input_dir)\n",
    "    #partition df_log into a folder of tip logs\n",
    "    save_df_to_parquet_by(df_log,log_folder_parquet,by='trial_num',compression='snappy',index=None)\n",
    "    print(f\"saved to spiral tip positions to {log_folder_parquet=}\")\n",
    "    #determine width and height of the computational domain input the discretization\n",
    "    width,height=df_log.describe().loc['max'][['x','y']].values.T\n",
    "    del df_log\n",
    "else:\n",
    "    width=200\n",
    "    height=200"
   ]
  },
  {
   "cell_type": "code",
   "execution_count": 79,
   "id": "9a5ba2cc",
   "metadata": {
    "ExecuteTime": {
     "end_time": "2023-07-20T23:47:46.321844Z",
     "start_time": "2023-07-20T23:47:41.784253Z"
    }
   },
   "outputs": [
    {
     "data": {
      "text/plain": [
       "14"
      ]
     },
     "execution_count": 79,
     "metadata": {},
     "output_type": "execute_result"
    }
   ],
   "source": [
    "N0=2\n",
    "t_lst=[]\n",
    "for fn in os.listdir(log_folder_parquet):\n",
    "    try:\n",
    "        trial_num = eval(fn.split('=')[1])\n",
    "        # load tip position data\n",
    "        g=load_parquet_by_trial_num(trial_num=trial_num,folder_parquet=log_folder_parquet)\n",
    "        n_series = g.groupby(by='t')['n'].min()\n",
    "        t0_values = n_series[n_series==N0].index.values\n",
    "        tf = n_series.index.values.max()\n",
    "        t_values = tf-t0_values\n",
    "        #record\n",
    "        t_lst.extend(t_values)\n",
    "    except IndexError as e:\n",
    "        pass\n",
    "        #print(f\"IndexError for {fn}: {e}\")\n",
    "n_series.max()"
   ]
  },
  {
   "cell_type": "code",
   "execution_count": 80,
   "id": "e27b4670",
   "metadata": {
    "ExecuteTime": {
     "end_time": "2023-07-20T23:47:46.484573Z",
     "start_time": "2023-07-20T23:47:46.327811Z"
    },
    "run_control": {
     "marked": true
    }
   },
   "outputs": [],
   "source": [
    "# mtt = np.mean(t_lst)\n",
    "# bootstrap_95CI_Delta_mean?\n",
    "# plt.hist(t_lst,bins=np.arange(0,10000,100),color='k')\n",
    "# plt.show()"
   ]
  },
  {
   "cell_type": "code",
   "execution_count": 81,
   "id": "c7792c03",
   "metadata": {
    "ExecuteTime": {
     "end_time": "2023-07-20T23:47:49.386025Z",
     "start_time": "2023-07-20T23:47:46.487920Z"
    }
   },
   "outputs": [
    {
     "name": "stdout",
     "output_type": "stream",
     "text": [
      "mtt=551.57±3.94 ms (num_obs=112062, p_normal=0.5867)\n"
     ]
    }
   ],
   "source": [
    "mtt,Delta_mtt,num_obs,p_normal=comp_mean_bootstrap_uncertainty(np.array(t_lst))\n",
    "print(f\"{mtt=:.2f}±{Delta_mtt:.2f} ms ({num_obs=}, {p_normal=:.4f})\")\n",
    "# mtt=24266.95±197.80 ms (num_obs=81503,p_normal=0.9881103097963074)"
   ]
  },
  {
   "cell_type": "code",
   "execution_count": 82,
   "id": "609de91e",
   "metadata": {
    "ExecuteTime": {
     "end_time": "2023-07-20T23:47:50.424432Z",
     "start_time": "2023-07-20T23:47:49.412603Z"
    }
   },
   "outputs": [
    {
     "data": {
      "image/png": "[encoded data removed]",
      "text/plain": [
       "<Figure size 640x480 with 1 Axes>"
      ]
     },
     "metadata": {},
     "output_type": "display_data"
    }
   ],
   "source": [
    "fontsize=16\n",
    "fig,ax=plt.subplots()\n",
    "bins=16\n",
    "# bins=np.arange(0,0.4,0.02)\n",
    "bins=32\n",
    "ax.hist(np.array(t_lst)/1e3,color='k',bins=bins,density=True,alpha=1,label='Data',edgecolor='w')#,**kwargs)\n",
    "format_plot(xlabel='Termination Time  (s)',ylabel='Probability',ax=ax,fontsize=fontsize)\n",
    "ax.tick_params(top=True, right=True,direction='in',which='both')\n",
    "ax.set_yscale('log')\n",
    "plt.show()"
   ]
  },
  {
   "cell_type": "markdown",
   "id": "c928746a",
   "metadata": {},
   "source": [
    "# compute $\\tau(N_0)$ versus $N_0$"
   ]
  },
  {
   "cell_type": "code",
   "execution_count": 83,
   "id": "a55aa1f3",
   "metadata": {
    "ExecuteTime": {
     "end_time": "2023-07-20T23:48:39.686145Z",
     "start_time": "2023-07-20T23:47:54.937715Z"
    }
   },
   "outputs": [
    {
     "name": "stdout",
     "output_type": "stream",
     "text": [
      "N0=2: mtt=551.566382895183 ms\n",
      "N0=4: mtt=694.4088721964355 ms\n",
      "N0=6: mtt=769.820986672323 ms\n",
      "N0=8: mtt=809.1375994746799 ms\n",
      "N0=10: mtt=831.2367033676434 ms\n",
      "N0=12: mtt=891.6356617989024 ms\n",
      "N0=14: mtt=886.8749024707412 ms\n"
     ]
    }
   ],
   "source": [
    "dict_lst=[]\n",
    "for N0 in range(2,16,2):\n",
    "    t_lst=[]\n",
    "    for fn in os.listdir(log_folder_parquet):\n",
    "        try:\n",
    "            trial_num = eval(fn.split('=')[1])\n",
    "            # load tip position data\n",
    "            g=load_parquet_by_trial_num(trial_num=trial_num,folder_parquet=log_folder_parquet)\n",
    "            n_series = g.groupby(by='t')['n'].min()\n",
    "            t0_values = n_series[n_series==N0].index.values\n",
    "            tf = n_series.index.values.max()\n",
    "            t_values = tf-t0_values\n",
    "            #record\n",
    "            t_lst.extend(t_values)\n",
    "        except IndexError as e:\n",
    "            pass\n",
    "            #print(f\"IndexError for {fn}: {e}\")\n",
    "    mtt,Delta_mtt,num_obs,p_normal=comp_mean_bootstrap_uncertainty(np.array(t_lst))\n",
    "    dict_lst.append(dict(\n",
    "        N0=N0,mtt=mtt,Delta_mtt=Delta_mtt,num_obs=num_obs,p_normal=p_normal\n",
    "    ))\n",
    "    print(f\"{N0=}: {mtt=} ms\")"
   ]
  },
  {
   "cell_type": "code",
   "execution_count": 84,
   "id": "f6694bfb",
   "metadata": {
    "ExecuteTime": {
     "end_time": "2023-07-20T23:48:41.424108Z",
     "start_time": "2023-07-20T23:48:41.252687Z"
    }
   },
   "outputs": [
    {
     "data": {
      "text/html": [
       "<div>\n",
       "<style scoped>\n",
       "    .dataframe tbody tr th:only-of-type {\n",
       "        vertical-align: middle;\n",
       "    }\n",
       "\n",
       "    .dataframe tbody tr th {\n",
       "        vertical-align: top;\n",
       "    }\n",
       "\n",
       "    .dataframe thead th {\n",
       "        text-align: right;\n",
       "    }\n",
       "</style>\n",
       "<table border=\"1\" class=\"dataframe\">\n",
       "  <thead>\n",
       "    <tr style=\"text-align: right;\">\n",
       "      <th></th>\n",
       "      <th>N0</th>\n",
       "      <th>mtt</th>\n",
       "      <th>Delta_mtt</th>\n",
       "      <th>num_obs</th>\n",
       "      <th>p_normal</th>\n",
       "    </tr>\n",
       "  </thead>\n",
       "  <tbody>\n",
       "    <tr>\n",
       "      <th>0</th>\n",
       "      <td>2</td>\n",
       "      <td>551.566383</td>\n",
       "      <td>3.952828</td>\n",
       "      <td>112062</td>\n",
       "      <td>0.497724</td>\n",
       "    </tr>\n",
       "    <tr>\n",
       "      <th>1</th>\n",
       "      <td>4</td>\n",
       "      <td>694.408872</td>\n",
       "      <td>3.597160</td>\n",
       "      <td>141115</td>\n",
       "      <td>0.281438</td>\n",
       "    </tr>\n",
       "    <tr>\n",
       "      <th>2</th>\n",
       "      <td>6</td>\n",
       "      <td>769.820987</td>\n",
       "      <td>4.070692</td>\n",
       "      <td>113148</td>\n",
       "      <td>0.192640</td>\n",
       "    </tr>\n",
       "    <tr>\n",
       "      <th>3</th>\n",
       "      <td>8</td>\n",
       "      <td>809.137599</td>\n",
       "      <td>5.570481</td>\n",
       "      <td>63961</td>\n",
       "      <td>0.029750</td>\n",
       "    </tr>\n",
       "    <tr>\n",
       "      <th>4</th>\n",
       "      <td>10</td>\n",
       "      <td>831.236703</td>\n",
       "      <td>8.460279</td>\n",
       "      <td>27883</td>\n",
       "      <td>0.272621</td>\n",
       "    </tr>\n",
       "  </tbody>\n",
       "</table>\n",
       "</div>"
      ],
      "text/plain": [
       "   N0         mtt  Delta_mtt  num_obs  p_normal\n",
       "0   2  551.566383   3.952828   112062  0.497724\n",
       "1   4  694.408872   3.597160   141115  0.281438\n",
       "2   6  769.820987   4.070692   113148  0.192640\n",
       "3   8  809.137599   5.570481    63961  0.029750\n",
       "4  10  831.236703   8.460279    27883  0.272621"
      ]
     },
     "execution_count": 84,
     "metadata": {},
     "output_type": "execute_result"
    }
   ],
   "source": [
    "df=pd.DataFrame(dict_lst)\n",
    "df.head()"
   ]
  },
  {
   "cell_type": "code",
   "execution_count": 85,
   "id": "961c2f6f",
   "metadata": {
    "ExecuteTime": {
     "end_time": "2023-07-20T23:48:42.248347Z",
     "start_time": "2023-07-20T23:48:42.092967Z"
    }
   },
   "outputs": [
    {
     "data": {
      "text/plain": [
       "14"
      ]
     },
     "execution_count": 85,
     "metadata": {},
     "output_type": "execute_result"
    }
   ],
   "source": [
    "n_series.max()"
   ]
  },
  {
   "cell_type": "code",
   "execution_count": 86,
   "id": "a99f85e4",
   "metadata": {
    "ExecuteTime": {
     "end_time": "2023-07-20T23:48:43.029815Z",
     "start_time": "2023-07-20T23:48:42.875648Z"
    }
   },
   "outputs": [
    {
     "name": "stdout",
     "output_type": "stream",
     "text": [
      "csv_dir = '/Users/timothytyree/Documents/GitHub/care/notebooks/Data/from_wjr/positions_lr/200x200/mtt_vs_N0.csv'\n"
     ]
    }
   ],
   "source": [
    "fn_out = os.path.join(folder,'mtt_vs_N0.csv')\n",
    "df.to_csv(fn_out,index=False)\n",
    "print(f\"csv_dir = '{fn_out}'\")"
   ]
  },
  {
   "cell_type": "markdown",
   "id": "9c3f5c4a",
   "metadata": {},
   "source": [
    "# visualize mean termination time conditioned on initial number of tips"
   ]
  },
  {
   "cell_type": "code",
   "execution_count": 87,
   "id": "da24ef30",
   "metadata": {
    "ExecuteTime": {
     "end_time": "2023-07-20T23:48:46.425072Z",
     "start_time": "2023-07-20T23:48:46.276406Z"
    }
   },
   "outputs": [],
   "source": [
    "csv_dir_fk = '/Users/timothytyree/Documents/GitHub/care/notebooks/Data/from_wjr/positions_fk/200x200/mtt_vs_N0.csv'\n",
    "csv_dir_lr = '/Users/timothytyree/Documents/GitHub/care/notebooks/Data/from_wjr/positions_lr/200x200/mtt_vs_N0.csv'"
   ]
  },
  {
   "cell_type": "code",
   "execution_count": 88,
   "id": "63838d58",
   "metadata": {
    "ExecuteTime": {
     "end_time": "2023-07-20T23:48:47.314031Z",
     "start_time": "2023-07-20T23:48:47.166923Z"
    }
   },
   "outputs": [],
   "source": [
    "dffk=pd.read_csv(csv_dir_fk)\n",
    "dflr=pd.read_csv(csv_dir_lr)"
   ]
  },
  {
   "cell_type": "code",
   "execution_count": 89,
   "id": "66bfad83",
   "metadata": {
    "ExecuteTime": {
     "end_time": "2023-07-20T23:48:47.810600Z",
     "start_time": "2023-07-20T23:48:47.659121Z"
    }
   },
   "outputs": [],
   "source": [
    "yscale=1e-3\n",
    "x_values1 = dffk['N0'].values\n",
    "y_values1 = dffk['mtt'].values*yscale\n",
    "yerr_values1 = dffk['Delta_mtt'].values*yscale\n",
    "x_values2 = dflr['N0'].values\n",
    "y_values2 = dflr['mtt'].values*yscale\n",
    "yerr_values2 = dflr['Delta_mtt'].values*yscale"
   ]
  },
  {
   "cell_type": "code",
   "execution_count": 96,
   "id": "a70e3f25",
   "metadata": {
    "ExecuteTime": {
     "end_time": "2023-07-20T23:50:22.668221Z",
     "start_time": "2023-07-20T23:50:21.929847Z"
    }
   },
   "outputs": [
    {
     "data": {
      "image/png": "[encoded data removed]",
      "text/plain": [
       "<Figure size 600x400 with 1 Axes>"
      ]
     },
     "metadata": {},
     "output_type": "display_data"
    }
   ],
   "source": [
    "fig,ax=plt.subplots(figsize=(6,4))\n",
    "ax.plot(x_values1,y_values1,color='C0',lw=2,label='Fenton-Karma')\n",
    "ax.fill_between(x_values1,y_values1-yerr_values1,y_values1+yerr_values1,color='C0',lw=2,alpha=0.4)\n",
    "\n",
    "ax.plot(x_values2,y_values2,color='C1',lw=2,label='Luo-Rudy')\n",
    "ax.fill_between(x_values2,y_values2-yerr_values2,y_values2+yerr_values2,color='C1',lw=2,alpha=0.4)\n",
    "\n",
    "format_plot(xlabel='Initial Number of Tips',ylabel='Mean Termination Time  (s)',ax=ax,fontsize=fontsize)\n",
    "ax.tick_params(top=True, right=True,direction='in',which='both')\n",
    "ax.set_yscale('log')\n",
    "ax.legend(fontsize=12)\n",
    "ax.set_xticks([2,4,6,8,10,12,14])\n",
    "plt.show()"
   ]
  },
  {
   "cell_type": "code",
   "execution_count": 102,
   "id": "1c760ee5",
   "metadata": {
    "ExecuteTime": {
     "end_time": "2023-07-21T19:56:15.563262Z",
     "start_time": "2023-07-21T19:56:15.390638Z"
    }
   },
   "outputs": [
    {
     "data": {
      "text/plain": [
       "14"
      ]
     },
     "execution_count": 102,
     "metadata": {},
     "output_type": "execute_result"
    }
   ],
   "source": [
    "3+1_1"
   ]
  },
  {
   "cell_type": "code",
   "execution_count": 107,
   "id": "599a098d",
   "metadata": {
    "ExecuteTime": {
     "end_time": "2023-07-24T13:32:58.527094Z",
     "start_time": "2023-07-24T13:32:58.344324Z"
    }
   },
   "outputs": [
    {
     "data": {
      "text/plain": [
       "0.3662040962227033"
      ]
     },
     "execution_count": 107,
     "metadata": {},
     "output_type": "execute_result"
    }
   ],
   "source": [
    "np.log(3)/3"
   ]
  },
  {
   "cell_type": "code",
   "execution_count": null,
   "id": "f4fa06e3",
   "metadata": {},
   "outputs": [],
   "source": []
  }
 ],
 "metadata": {
  "hide_input": false,
  "kernelspec": {
   "display_name": "Python 3 (ipykernel)",
   "language": "python",
   "name": "python3"
  },
  "language_info": {
   "codemirror_mode": {
    "name": "ipython",
    "version": 3
   },
   "file_extension": ".py",
   "mimetype": "text/x-python",
   "name": "python",
   "nbconvert_exporter": "python",
   "pygments_lexer": "ipython3",
   "version": "3.9.5"
  },
  "nbTranslate": {
   "displayLangs": [
    "*"
   ],
   "hotkey": "alt-t",
   "langInMainMenu": true,
   "sourceLang": "en",
   "targetLang": "fr",
   "useGoogleTranslate": true
  },
  "toc": {
   "base_numbering": 1,
   "nav_menu": {},
   "number_sections": true,
   "sideBar": true,
   "skip_h1_title": false,
   "title_cell": "Table of Contents",
   "title_sidebar": "Contents",
   "toc_cell": false,
   "toc_position": {},
   "toc_section_display": true,
   "toc_window_display": false
  }
 },
 "nbformat": 4,
 "nbformat_minor": 5
}
