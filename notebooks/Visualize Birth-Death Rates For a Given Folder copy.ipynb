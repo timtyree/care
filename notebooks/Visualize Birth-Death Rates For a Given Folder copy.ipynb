{
 "cells": [
  {
   "cell_type": "markdown",
   "metadata": {
    "heading_collapsed": true
   },
   "source": [
    "# Visualize Birth Death Rates For a Given Folder\n",
    "Tim Tyree<br>\n",
    "8.12.2020"
   ]
  },
  {
   "cell_type": "code",
   "execution_count": 1,
   "metadata": {
    "ExecuteTime": {
     "end_time": "2020-12-26T19:47:44.337181Z",
     "start_time": "2020-12-26T19:47:41.444079Z"
    },
    "hidden": true
   },
   "outputs": [
    {
     "name": "stdout",
     "output_type": "stream",
     "text": [
      "Automatic calling is: Smart\n"
     ]
    }
   ],
   "source": [
    "import pandas as pd, numpy as np, matplotlib.pyplot as plt\n",
    "\n",
    "#automate the boring stuff\n",
    "# from IPython import utils\n",
    "import time, os, sys, re\n",
    "beep = lambda x: os.system(\"echo -n '\\\\a';sleep 0.2;\" * x)\n",
    "if not 'nb_dir' in globals():\n",
    "    nb_dir = os.getcwd()\n",
    "    \n",
    "#load the libraries\n",
    "from lib import *\n",
    "\n",
    "import dask.bag as db\n",
    "\n",
    "%autocall 1\n",
    "%load_ext autoreload\n",
    "%autoreload 2\n",
    "# awareness&chill"
   ]
  },
  {
   "cell_type": "markdown",
   "metadata": {
    "heading_collapsed": true
   },
   "source": [
    "# combine all of the relevant bdrates files within a given folder into one .csv"
   ]
  },
  {
   "cell_type": "code",
   "execution_count": 7,
   "metadata": {
    "ExecuteTime": {
     "end_time": "2020-11-13T21:40:55.080152Z",
     "start_time": "2020-11-13T21:40:29.827920Z"
    },
    "hidden": true
   },
   "outputs": [
    {
     "name": "stdout",
     "output_type": "stream",
     "text": [
      "please select a file from within the desired folder.\n",
      "File: /home/timothytyree/Documents/GitHub/care/notebooks/Data/initial-conditions-suite-2/ds_5_param_set_8/Log/ic_200x200.001.12_log.csv\n"
     ]
    }
   ],
   "source": [
    "#find file interactively\n",
    "print(\"please select a file from within the desired folder.\")\n",
    "file = search_for_file()"
   ]
  },
  {
   "cell_type": "code",
   "execution_count": 27,
   "metadata": {
    "ExecuteTime": {
     "end_time": "2020-11-15T18:40:57.902682Z",
     "start_time": "2020-11-15T18:40:57.889909Z"
    },
    "hidden": true
   },
   "outputs": [],
   "source": [
    "# file = \"/home/timothytyree/Documents/GitHub/care/notebooks/Data/initial-conditions-suite-2/ds_5_param_set_8_laurener_archive/archive-laurener/termination_times_ic_001-019.csv\"\n",
    "# file = \"/home/timothytyree/Documents/GitHub/care/notebooks/Data/initial-conditions-suite-2/ds_5_param_set_8/Log/ic_200x200.001.12_log.csv\"\n",
    "\n",
    "file = \"/home/timothytyree/Documents/GitHub/care/notebooks/Data/initial-conditions-suite-2/ds_5_param_set_8/birth-death-rates/ic_200x200.007.22_sr_3_mem_2_tmin_100_LT_0_bdrates.csv\""
   ]
  },
  {
   "cell_type": "code",
   "execution_count": 28,
   "metadata": {
    "ExecuteTime": {
     "end_time": "2020-11-15T18:41:00.644440Z",
     "start_time": "2020-11-15T18:41:00.621224Z"
    },
    "hidden": true
   },
   "outputs": [],
   "source": [
    "#9 samples LT = 0\n",
    "# file =  '/Users/timothytyree/Documents/GitHub/care/notebooks/Data/ds_5_param_set_8/birth-death-rates/33_ds_5_sigma_1.5_threshold_0.6__traj_sr_40_mem_2_bdrates.csv'\n",
    "\n",
    "#>60 samples LT = 2\n",
    "# file = '/Users/timothytyree/Documents/GitHub/care/notebooks/Data/initial-conditions-suite-1/ds_5_param_set_8/birth-death-rates/ic_200x200.117.21_ds_5_sigma_1.5_threshold_0.6_sr_50_mem_2_tmin_100_LT_2_bdrates.csv'\n",
    "#change to the directory containing file\n",
    "folder_name = os.path.dirname(file)\n",
    "\n",
    "\n",
    "#find folder interactively. Crashes jupyter's root kernel :(\n",
    "# from tkinter import Tk\n",
    "# from tkinter.filedialog import askdirectory\n",
    "# path = askdirectory(title='Select Folder') # shows dialog box and return the path\n",
    "# print(path) \n",
    "\n",
    "# get all .csv files in the current working directory\n",
    "os.chdir(folder_name)\n",
    "retval = !ls\n",
    "file_name_list = list(retval)\n",
    "# check each file if it ends in .csv before merging it\n",
    "def is_csv(file_name):\n",
    "    return file_name[-4:]=='.csv'\n",
    "file_name_list = [f for f in file_name_list if is_csv(f)]\n",
    "# remove all files with 'threshold'\n",
    "# file_name_list = [f for f in file_name_list if f.find('threshold')==-1]"
   ]
  },
  {
   "cell_type": "code",
   "execution_count": 29,
   "metadata": {
    "ExecuteTime": {
     "end_time": "2020-11-15T18:41:01.280768Z",
     "start_time": "2020-11-15T18:41:01.265104Z"
    },
    "hidden": true
   },
   "outputs": [
    {
     "name": "stdout",
     "output_type": "stream",
     "text": [
      "165\n"
     ]
    }
   ],
   "source": [
    "print(len(file_name_list))"
   ]
  },
  {
   "cell_type": "code",
   "execution_count": 30,
   "metadata": {
    "ExecuteTime": {
     "end_time": "2020-11-15T18:41:04.545829Z",
     "start_time": "2020-11-15T18:41:04.529290Z"
    },
    "hidden": true
   },
   "outputs": [],
   "source": [
    "# from lib.routines.compute_bdrates import *\n",
    "\n",
    "# kwargs = get_kwargs(input_file_name)\n",
    "\n",
    "# retval = birth_death_rates_from_log(input_file_name, \n",
    "#                                col_n = 'n', col_t = 't', \n",
    "#                                kill_all_odd_rows = True, \n",
    "#                                min_time = 1000, printing = True, **kwargs)"
   ]
  },
  {
   "cell_type": "code",
   "execution_count": 31,
   "metadata": {
    "ExecuteTime": {
     "end_time": "2020-11-15T18:41:05.145883Z",
     "start_time": "2020-11-15T18:41:05.132682Z"
    },
    "hidden": true
   },
   "outputs": [],
   "source": [
    "def produce_one_csv(list_of_files, file_out):\n",
    "   # Consolidate all csv files into one object\n",
    "   result_obj = pd.concat([pd.read_csv(file) for file in list_of_files])\n",
    "   # Convert the above object into a csv file and export\n",
    "   result_obj.to_csv(file_out, index=False, encoding=\"utf-8\")"
   ]
  },
  {
   "cell_type": "code",
   "execution_count": 32,
   "metadata": {
    "ExecuteTime": {
     "end_time": "2020-11-15T18:41:23.160429Z",
     "start_time": "2020-11-15T18:41:22.326304Z"
    },
    "hidden": true
   },
   "outputs": [],
   "source": [
    "file_out = \"../consolidated_rates.csv\"\n",
    "# file_out = \"../consolidated_rates-from-log-set-.csv\"\n",
    "produce_one_csv(list_of_files=file_name_list, file_out=file_out)"
   ]
  },
  {
   "cell_type": "markdown",
   "metadata": {
    "heading_collapsed": true,
    "hidden": true
   },
   "source": [
    "## visualize the consolidated_rates.csv"
   ]
  },
  {
   "cell_type": "markdown",
   "metadata": {
    "heading_collapsed": true
   },
   "source": [
    "# visualize termination times"
   ]
  },
  {
   "cell_type": "code",
   "execution_count": 217,
   "metadata": {
    "ExecuteTime": {
     "end_time": "2020-11-16T00:32:54.406077Z",
     "start_time": "2020-11-16T00:32:54.393387Z"
    },
    "hidden": true
   },
   "outputs": [],
   "source": [
    "# file_out = \"../consolidated_rates.csv\"\n",
    "# os.chdir(folder_name)\n",
    "\n",
    "min_time_between_samples = 1\n",
    "os.chdir(base_folder)\n",
    "file_out = f'consolidated_rates-sampled-every-{min_time_between_samples}-ms.csv'"
   ]
  },
  {
   "cell_type": "code",
   "execution_count": 218,
   "metadata": {
    "ExecuteTime": {
     "end_time": "2020-11-16T00:32:55.849972Z",
     "start_time": "2020-11-16T00:32:55.776021Z"
    },
    "hidden": true
   },
   "outputs": [],
   "source": [
    "#sort a df into the rows with termination times and everything else\n",
    "df = pd.read_csv(file_out)\n",
    "# np.nan values mark termination times/the final datum for a trial.\n",
    "na_loc = df.isna().T.any()\n",
    "df_term = df[na_loc].copy()\n",
    "termination_times = df_term['t'].values  #lookup the time value for each such datum\n",
    "# df_bd = df[~na_loc].copy() "
   ]
  },
  {
   "cell_type": "code",
   "execution_count": 219,
   "metadata": {
    "ExecuteTime": {
     "end_time": "2020-11-16T00:32:57.007756Z",
     "start_time": "2020-11-16T00:32:56.996541Z"
    },
    "hidden": true
   },
   "outputs": [],
   "source": [
    "# #add zeros for the trials that terminated faster than 100ms\n",
    "# total_num_trials = 19*9\n",
    "\n",
    "# l = list(termination_times)\n",
    "# while len(l)<total_num_trials:\n",
    "#     l.append(0.)\n",
    "# termination_times = np.array(l)"
   ]
  },
  {
   "cell_type": "code",
   "execution_count": 220,
   "metadata": {
    "ExecuteTime": {
     "end_time": "2020-11-16T00:32:57.364197Z",
     "start_time": "2020-11-16T00:32:57.349086Z"
    },
    "hidden": true
   },
   "outputs": [
    {
     "data": {
      "text/html": [
       "<div>\n",
       "<style scoped>\n",
       "    .dataframe tbody tr th:only-of-type {\n",
       "        vertical-align: middle;\n",
       "    }\n",
       "\n",
       "    .dataframe tbody tr th {\n",
       "        vertical-align: top;\n",
       "    }\n",
       "\n",
       "    .dataframe thead th {\n",
       "        text-align: right;\n",
       "    }\n",
       "</style>\n",
       "<table border=\"1\" class=\"dataframe\">\n",
       "  <thead>\n",
       "    <tr style=\"text-align: right;\">\n",
       "      <th></th>\n",
       "      <th>t</th>\n",
       "      <th>n</th>\n",
       "      <th>dn</th>\n",
       "      <th>rates</th>\n",
       "    </tr>\n",
       "  </thead>\n",
       "  <tbody>\n",
       "    <tr>\n",
       "      <th>0</th>\n",
       "      <td>43</td>\n",
       "      <td>22</td>\n",
       "      <td>4.0</td>\n",
       "      <td>0.019231</td>\n",
       "    </tr>\n",
       "    <tr>\n",
       "      <th>1</th>\n",
       "      <td>95</td>\n",
       "      <td>26</td>\n",
       "      <td>-6.0</td>\n",
       "      <td>0.012500</td>\n",
       "    </tr>\n",
       "    <tr>\n",
       "      <th>2</th>\n",
       "      <td>175</td>\n",
       "      <td>20</td>\n",
       "      <td>-2.0</td>\n",
       "      <td>0.013889</td>\n",
       "    </tr>\n",
       "    <tr>\n",
       "      <th>3</th>\n",
       "      <td>247</td>\n",
       "      <td>18</td>\n",
       "      <td>-2.0</td>\n",
       "      <td>0.002404</td>\n",
       "    </tr>\n",
       "    <tr>\n",
       "      <th>4</th>\n",
       "      <td>663</td>\n",
       "      <td>16</td>\n",
       "      <td>2.0</td>\n",
       "      <td>0.005556</td>\n",
       "    </tr>\n",
       "  </tbody>\n",
       "</table>\n",
       "</div>"
      ],
      "text/plain": [
       "     t   n   dn     rates\n",
       "0   43  22  4.0  0.019231\n",
       "1   95  26 -6.0  0.012500\n",
       "2  175  20 -2.0  0.013889\n",
       "3  247  18 -2.0  0.002404\n",
       "4  663  16  2.0  0.005556"
      ]
     },
     "execution_count": 220,
     "metadata": {},
     "output_type": "execute_result"
    }
   ],
   "source": [
    "# awareness&chill\n",
    "df.head()"
   ]
  },
  {
   "cell_type": "code",
   "execution_count": 221,
   "metadata": {
    "ExecuteTime": {
     "end_time": "2020-11-16T00:32:59.244420Z",
     "start_time": "2020-11-16T00:32:59.224244Z"
    },
    "hidden": true
   },
   "outputs": [
    {
     "name": "stdout",
     "output_type": "stream",
     "text": [
      "the mean termination time is \n",
      "                445.1 ± 495.8 s\n",
      "                \n",
      "the median termination time is \n",
      "                311.5 s (IQR:  104.2 s - 610.4 s)\n",
      "                \n",
      "the max termination time is 4085 s\n",
      "no. trials considered = 171.\n"
     ]
    }
   ],
   "source": [
    "print(f\"\"\"the mean termination time is \n",
    "                {10**-3*np.mean(termination_times):.1f} ± {10**-3*np.std(termination_times):.1f} s\n",
    "                \"\"\")\n",
    "print(f\"\"\"the median termination time is \n",
    "                {10**-3*np.median(termination_times):.1f} s (IQR:  {10**-3*np.quantile(termination_times, 0.25):.1f} s - {10**-3*np.quantile(termination_times, 0.75):.1f} s)\n",
    "                \"\"\")\n",
    "print(f\"\"\"the max termination time is {10**-3*np.max(termination_times):.0f} s\"\"\")\n",
    "print(f'no. trials considered = {len(termination_times)}.')  # print(f'no. trials considered = {len(file_name_list)}.')"
   ]
  },
  {
   "cell_type": "code",
   "execution_count": 38,
   "metadata": {
    "ExecuteTime": {
     "end_time": "2020-11-15T18:53:38.009385Z",
     "start_time": "2020-11-15T18:53:37.995533Z"
    },
    "hidden": true
   },
   "outputs": [
    {
     "data": {
      "text/plain": [
       "13564489"
      ]
     },
     "execution_count": 38,
     "metadata": {},
     "output_type": "execute_result"
    }
   ],
   "source": [
    "3683**2"
   ]
  },
  {
   "cell_type": "code",
   "execution_count": 39,
   "metadata": {
    "ExecuteTime": {
     "end_time": "2020-11-15T18:53:45.034576Z",
     "start_time": "2020-11-15T18:53:45.009235Z"
    },
    "hidden": true
   },
   "outputs": [
    {
     "data": {
      "text/plain": [
       "27199.87207555555"
      ]
     },
     "execution_count": 39,
     "metadata": {},
     "output_type": "execute_result"
    }
   ],
   "source": [
    "np.sum(termination_times)/(19*9)"
   ]
  },
  {
   "cell_type": "code",
   "execution_count": 40,
   "metadata": {
    "ExecuteTime": {
     "end_time": "2020-11-15T18:53:48.372674Z",
     "start_time": "2020-11-15T18:53:48.359329Z"
    },
    "hidden": true
   },
   "outputs": [],
   "source": [
    "r = 10**3/np.mean(termination_times)\n",
    "def P(k,t):\n",
    "    '''the probability that k events occur in time t'''\n",
    "    return (r*t)**k*np.exp(-r*t)/np.math.factorial(k)"
   ]
  },
  {
   "cell_type": "code",
   "execution_count": 41,
   "metadata": {
    "ExecuteTime": {
     "end_time": "2020-11-15T18:54:11.593628Z",
     "start_time": "2020-11-15T18:54:10.836688Z"
    },
    "hidden": true,
    "scrolled": true
   },
   "outputs": [
    {
     "name": "stdout",
     "output_type": "stream",
     "text": [
      "saved figure in \n",
      "\thistogram_termination_times_suite-2-11152020.png.\n"
     ]
    },
    {
     "data": {
      "image/png": "[encoded data removed]",
      "text/plain": [
       "<Figure size 360x360 with 1 Axes>"
      ]
     },
     "metadata": {
      "needs_background": "light"
     },
     "output_type": "display_data"
    }
   ],
   "source": [
    "#plot the histogram of termination times\n",
    "saving = True\n",
    "fontsize=16\n",
    "\n",
    "savefig_dir = f'{nb_dir}/Figures/birth_death_analysis'\n",
    "savefig_fn = 'histogram_termination_times_suite-2-11152020.png'\n",
    "\n",
    "fig, ax = plt.subplots(figsize=(5, 5))\n",
    "ax.hist(np.array(termination_times)/10**3, bins = 10)\n",
    "\n",
    "#overlay a poisson distribution\n",
    "N = len(termination_times)\n",
    "x_values = np.linspace(1,220000,100)/10**3\n",
    "y_values = N*P(0,x_values)\n",
    "ax.plot(x_values,y_values)\n",
    "\n",
    "#format plot\n",
    "# plt.title(f'''termination times for 9 200x200 patches''', fontsize=fontsize)\n",
    "ax.set_ylabel('freq.', fontsize=fontsize)\n",
    "ax.set_xlabel('termination times (s)', fontsize=fontsize)\n",
    "ax.tick_params(axis='both', which='both', labelsize=fontsize)\n",
    "# ax.set_ylim((0,80))\n",
    "ax.set_yscale('log')\n",
    "if not saving: \n",
    "    plt.show() \n",
    "else:\n",
    "    plt.tight_layout()\n",
    "    os.chdir(savefig_dir)\n",
    "    plt.savefig(savefig_fn, dpi=300)\n",
    "    print(f\"saved figure in \\n\\t{savefig_fn}.\")"
   ]
  },
  {
   "cell_type": "code",
   "execution_count": 42,
   "metadata": {
    "ExecuteTime": {
     "end_time": "2020-11-15T18:56:06.752969Z",
     "start_time": "2020-11-15T18:56:06.740209Z"
    },
    "hidden": true
   },
   "outputs": [
    {
     "name": "stdout",
     "output_type": "stream",
     "text": [
      "0.035474883044355136\n"
     ]
    }
   ],
   "source": [
    "# termination_times[termination_times>=10000]\n",
    "print(r)"
   ]
  },
  {
   "cell_type": "code",
   "execution_count": 43,
   "metadata": {
    "ExecuteTime": {
     "end_time": "2020-11-15T18:56:09.806413Z",
     "start_time": "2020-11-15T18:56:09.794641Z"
    },
    "hidden": true
   },
   "outputs": [],
   "source": [
    "# from scipy.stats import poisson"
   ]
  },
  {
   "cell_type": "code",
   "execution_count": 44,
   "metadata": {
    "ExecuteTime": {
     "end_time": "2020-11-15T18:56:21.805463Z",
     "start_time": "2020-11-15T18:56:21.792227Z"
    },
    "hidden": true
   },
   "outputs": [
    {
     "data": {
      "text/plain": [
       "'../consolidated_rates.csv'"
      ]
     },
     "execution_count": 44,
     "metadata": {},
     "output_type": "execute_result"
    }
   ],
   "source": [
    "# dist.pmf(5)\n",
    "file_out"
   ]
  },
  {
   "cell_type": "code",
   "execution_count": 50,
   "metadata": {
    "ExecuteTime": {
     "end_time": "2020-11-15T18:58:07.519864Z",
     "start_time": "2020-11-15T18:58:07.504250Z"
    },
    "hidden": true
   },
   "outputs": [
    {
     "name": "stdout",
     "output_type": "stream",
     "text": [
      "it is False that odd tips are present.\n"
     ]
    }
   ],
   "source": [
    "#check for odd tips\n",
    "print(f\"it is {(df.n%2==1).values.any()} that odd tips are present.\")"
   ]
  },
  {
   "cell_type": "markdown",
   "metadata": {},
   "source": [
    "# visualize birth death rates"
   ]
  },
  {
   "cell_type": "code",
   "execution_count": 363,
   "metadata": {
    "ExecuteTime": {
     "end_time": "2020-11-16T01:15:32.774849Z",
     "start_time": "2020-11-16T01:15:32.728995Z"
    }
   },
   "outputs": [],
   "source": [
    "# file_out = \"../consolidated_rates.csv\"\n",
    "# os.chdir(folder_name)\n",
    "\n",
    "min_time_between_samples = 60\n",
    "os.chdir(base_folder)\n",
    "file_out = f'consolidated_rates-sampled-every-{min_time_between_samples}-ms.csv'\n",
    "max_rate = 1000\n",
    "\n",
    "#import data\n",
    "os.chdir(base_folder)\n",
    "df = pd.read_csv(file_out)\n",
    "\n",
    "#drop termination times\n",
    "df.dropna(inplace=True)\n",
    "\n",
    "#drop rows with rates over 100/ms\n",
    "df = df.loc[df.rates<=max_rate].copy()\n",
    "\n",
    "# df = df.loc[df.rates<=0.02].copy()\n",
    "# df = df.loc[df.rates<=0.1].copy()\n",
    "\n",
    "dn_list = sorted(set(df.dn.values))\n",
    "dn_list = [-2,2]"
   ]
  },
  {
   "cell_type": "code",
   "execution_count": 364,
   "metadata": {
    "ExecuteTime": {
     "end_time": "2020-11-16T01:15:33.676560Z",
     "start_time": "2020-11-16T01:15:33.658334Z"
    }
   },
   "outputs": [
    {
     "data": {
      "text/plain": [
       "8.618163962599995"
      ]
     },
     "execution_count": 364,
     "metadata": {},
     "output_type": "execute_result"
    }
   ],
   "source": [
    "np.mean(df.n.values)"
   ]
  },
  {
   "cell_type": "code",
   "execution_count": 365,
   "metadata": {
    "ExecuteTime": {
     "end_time": "2020-11-16T01:15:34.421816Z",
     "start_time": "2020-11-16T01:15:34.251643Z"
    }
   },
   "outputs": [],
   "source": [
    "#compute median rates and IQR for the error bars corresponding to each category in dn_list\n",
    "errorbar_data_list = []\n",
    "for dn in dn_list:  \n",
    "    #iterate over n for each dn\n",
    "    df2 = df.loc[df.dn==dn].copy()\n",
    "    n_list = sorted(set(df2.n.values))\n",
    "    y_val_list = []\n",
    "    y_err_1_list = []\n",
    "    y_err_2_list = []\n",
    "    for n in n_list:\n",
    "        df3 = df2.loc[df2.n == n].copy()\n",
    "        y_val, y_err_1, y_err_2 = df3.describe().T[['50%', '25%', '75%']].loc['rates'].values\n",
    "        y_err_2 = float(y_err_2 - y_val)\n",
    "        y_err_1 = float(y_val - y_err_1)\n",
    "        y_val = float(y_val)\n",
    "        y_val_list.append(y_val)\n",
    "        y_err_1_list.append(y_err_1)\n",
    "        y_err_2_list.append(y_err_2)\n",
    "    # errorbar_data = (dn, n_list, y_val_list, y_err_1_list, y_err_2_list)\n",
    "    errorbar_data = {'dn':dn, \n",
    "                     'n_list':n_list, \n",
    "                     'y_val_list':y_val_list, \n",
    "                     'y_err_1_list':y_err_1_list, \n",
    "                     'y_err_2_list':y_err_2_list\n",
    "                    }\n",
    "    errorbar_data_list.append(errorbar_data)    "
   ]
  },
  {
   "cell_type": "code",
   "execution_count": 366,
   "metadata": {
    "ExecuteTime": {
     "end_time": "2020-11-16T01:15:34.617271Z",
     "start_time": "2020-11-16T01:15:34.602423Z"
    }
   },
   "outputs": [],
   "source": [
    "#retrieve scatter plot data points for each category in dn_list\n",
    "scatter_data_list = []\n",
    "for dn in dn_list:  \n",
    "    df2 = df.loc[df.dn==dn].copy()\n",
    "    x_values = df2.n.values\n",
    "    y_values = df2.rates.values\n",
    "    scatter_data = {'dn':dn, \n",
    "                     'x_values':x_values, \n",
    "                     'y_values':y_values, \n",
    "                    }\n",
    "    scatter_data_list.append(scatter_data)"
   ]
  },
  {
   "cell_type": "code",
   "execution_count": 367,
   "metadata": {
    "ExecuteTime": {
     "end_time": "2020-11-16T01:15:34.941130Z",
     "start_time": "2020-11-16T01:15:34.928518Z"
    }
   },
   "outputs": [],
   "source": [
    "#assign a color/label/other formatting to each category in dn_list\n",
    "color_list_raw = ['red', 'blue', 'green', 'orange', 'brown', 'purple']\n",
    "formatting_data_list = []\n",
    "for i, dn in enumerate(dn_list):\n",
    "    formatting_data = {\n",
    "        'dn': dn,\n",
    "        'color': color_list_raw[i],\n",
    "        'label':f'$W_{{{int(dn):+d}}}$'\n",
    "    }\n",
    "    formatting_data_list.append(formatting_data)   "
   ]
  },
  {
   "cell_type": "code",
   "execution_count": 368,
   "metadata": {
    "ExecuteTime": {
     "end_time": "2020-11-16T01:15:35.333000Z",
     "start_time": "2020-11-16T01:15:35.315055Z"
    }
   },
   "outputs": [],
   "source": [
    "assert (len(formatting_data_list) is len(scatter_data_list ))\n",
    "assert (len(formatting_data_list) is len(errorbar_data_list))"
   ]
  },
  {
   "cell_type": "code",
   "execution_count": 369,
   "metadata": {
    "ExecuteTime": {
     "end_time": "2020-11-16T01:15:36.490176Z",
     "start_time": "2020-11-16T01:15:35.666469Z"
    }
   },
   "outputs": [
    {
     "name": "stdout",
     "output_type": "stream",
     "text": [
      "saved figure in \n",
      "\tbirth_death_rates_ic2-every-60-ms.png.\n"
     ]
    },
    {
     "data": {
      "image/png": "[encoded data removed]",
      "text/plain": [
       "<Figure size 432x360 with 1 Axes>"
      ]
     },
     "metadata": {
      "needs_background": "light"
     },
     "output_type": "display_data"
    }
   ],
   "source": [
    "saving = True\n",
    "\n",
    "savefig_dir = f'{nb_dir}/Figures/birth_death_analysis'\n",
    "savefig_fn = f'birth_death_rates_ic2-every-{min_time_between_samples}-ms.png'\n",
    "log_scale = False\n",
    "fontsize=20\n",
    "figsize=(6,5)\n",
    "\n",
    "# def birth_death_plot(*y_axis_struct_list):\n",
    "\n",
    "# plot birth death rates with IQR y error bars with n on the x axis\n",
    "fig, ax = plt.subplots(figsize=figsize)\n",
    "for scatter_data, errorbar_data, formatting_data in zip(\n",
    "    scatter_data_list, errorbar_data_list, formatting_data_list):\n",
    "\n",
    "    dn, x_values, y_values = scatter_data.values()\n",
    "    dn, n_list, y_val_list, y_err_1_list, y_err_2_list = errorbar_data.values()\n",
    "    dn, color, label = formatting_data.values()\n",
    "    yerr = np.array(list(zip(y_err_1_list,y_err_2_list))).T\n",
    "    if scatter_data['dn'] == -2:\n",
    "        delta = 1\n",
    "    else:\n",
    "        delta = 0\n",
    "    ax.scatter(x=x_values/2-delta,y=y_values, c=color, s=10, alpha=0.05, label=label)\n",
    "    ax.errorbar([n/2 for n in n_list], y_val_list, yerr=yerr, c=color)\n",
    "    \n",
    "# ax.legend(loc='top')\n",
    "\n",
    "ax.set_xticks([2,4,6,8, 10, 12])\n",
    "# # ax.set_yticks([0,10,20,30,40,50])\n",
    "# ymin, ymax = ax.get_ylim()\n",
    "# ax.set_ylim((1e-3,0.4))\n",
    "\n",
    "ax.legend(loc='best', fontsize= fontsize-8)\n",
    "ax.tick_params(axis='both', labelsize= fontsize)\n",
    "ax.set_ylabel('birth/death rate (ms$^{-1}$)', fontsize=fontsize)\n",
    "ax.set_xlabel('n/2', fontsize=fontsize) \n",
    "if log_scale:\n",
    "    ax.set_yscale('log')\n",
    "# ax.set_title(f'$\\sigma = {sigma}$, threshold = {threshold}', fontsize=fontsize)\n",
    "                    \n",
    "# ax.set_title('high frequency birth deaths observed', fontsize=fontsize)\n",
    "# ax.axis([20,60,0,7])\n",
    "  \n",
    "    \n",
    "if not saving: \n",
    "    plt.show() \n",
    "else:\n",
    "    plt.tight_layout()\n",
    "    os.chdir(savefig_dir)\n",
    "    plt.savefig(savefig_fn, dpi=300)\n",
    "    print(f\"saved figure in \\n\\t{savefig_fn}.\")\n"
   ]
  },
  {
   "cell_type": "code",
   "execution_count": 370,
   "metadata": {
    "ExecuteTime": {
     "end_time": "2020-11-16T01:15:37.601357Z",
     "start_time": "2020-11-16T01:15:36.563621Z"
    },
    "scrolled": true
   },
   "outputs": [
    {
     "name": "stdout",
     "output_type": "stream",
     "text": [
      "saved figure in \n",
      "\tbirth_death_rates_ic2-every-60-ms-log.png.\n"
     ]
    },
    {
     "data": {
      "image/png": "[encoded data removed]",
      "text/plain": [
       "<Figure size 432x360 with 1 Axes>"
      ]
     },
     "metadata": {
      "needs_background": "light"
     },
     "output_type": "display_data"
    }
   ],
   "source": [
    "saving = True\n",
    "\n",
    "savefig_dir = f'{nb_dir}/Figures/birth_death_analysis'\n",
    "savefig_fn = f'birth_death_rates_ic2-every-{min_time_between_samples}-ms-log.png'\n",
    "log_scale = True\n",
    "fontsize=20\n",
    "figsize=(6,5)\n",
    "\n",
    "# def birth_death_plot(*y_axis_struct_list):\n",
    "\n",
    "# plot birth death rates with IQR y error bars with n on the x axis\n",
    "fig, ax = plt.subplots(figsize=figsize)\n",
    "for scatter_data, errorbar_data, formatting_data in zip(\n",
    "    scatter_data_list, errorbar_data_list, formatting_data_list):\n",
    "\n",
    "    dn, x_values, y_values = scatter_data.values()\n",
    "    dn, n_list, y_val_list, y_err_1_list, y_err_2_list = errorbar_data.values()\n",
    "    dn, color, label = formatting_data.values()\n",
    "    yerr = np.array(list(zip(y_err_1_list,y_err_2_list))).T\n",
    "    if scatter_data['dn'] == -2:\n",
    "        delta = 1\n",
    "    else:\n",
    "        delta = 0\n",
    "    ax.scatter(x=x_values/2-delta,y=y_values, c=color, s=10, alpha=0.1, label=label)\n",
    "    ax.errorbar([n/2 for n in n_list], y_val_list, yerr=yerr, c=color)\n",
    "    \n",
    "# ax.legend(loc='top')\n",
    "\n",
    "ax.set_xticks([2,4,6,8, 10, 12])\n",
    "# # ax.set_yticks([0,10,20,30,40,50])\n",
    "# ymin, ymax = ax.get_ylim()\n",
    "# ax.set_ylim((1e-3,0.4))\n",
    "\n",
    "ax.legend(loc='best', fontsize= fontsize-8)\n",
    "ax.tick_params(axis='both', labelsize= fontsize)\n",
    "ax.set_ylabel('birth/death rate (ms$^{-1}$)', fontsize=fontsize)\n",
    "ax.set_xlabel('n/2', fontsize=fontsize) \n",
    "if log_scale:\n",
    "    ax.set_yscale('log')\n",
    "# ax.set_title(f'$\\sigma = {sigma}$, threshold = {threshold}', fontsize=fontsize)\n",
    "                    \n",
    "# ax.set_title('high frequency birth deaths observed', fontsize=fontsize)\n",
    "# ax.axis([20,60,0,7])\n",
    "  \n",
    "    \n",
    "if not saving: \n",
    "    plt.show() \n",
    "else:\n",
    "    plt.tight_layout()\n",
    "    os.chdir(savefig_dir)\n",
    "    plt.savefig(savefig_fn, dpi=300)\n",
    "    print(f\"saved figure in \\n\\t{savefig_fn}.\")\n"
   ]
  },
  {
   "cell_type": "code",
   "execution_count": 362,
   "metadata": {
    "ExecuteTime": {
     "end_time": "2020-11-16T01:15:23.766429Z",
     "start_time": "2020-11-16T01:15:23.751077Z"
    }
   },
   "outputs": [
    {
     "data": {
      "text/plain": [
       "(35098,)"
      ]
     },
     "execution_count": 362,
     "metadata": {},
     "output_type": "execute_result"
    }
   ],
   "source": [
    "#the number when considering rates <= 0.1, we have\n",
    "y_values.shape"
   ]
  },
  {
   "cell_type": "code",
   "execution_count": 273,
   "metadata": {
    "ExecuteTime": {
     "end_time": "2020-11-16T01:09:35.777825Z",
     "start_time": "2020-11-16T01:09:35.765119Z"
    }
   },
   "outputs": [
    {
     "data": {
      "text/plain": [
       "(165260,)"
      ]
     },
     "execution_count": 273,
     "metadata": {},
     "output_type": "execute_result"
    }
   ],
   "source": [
    "df.n.values.shape"
   ]
  },
  {
   "cell_type": "code",
   "execution_count": 274,
   "metadata": {
    "ExecuteTime": {
     "end_time": "2020-11-16T01:09:36.197335Z",
     "start_time": "2020-11-16T01:09:36.181437Z"
    }
   },
   "outputs": [
    {
     "data": {
      "text/html": [
       "<div>\n",
       "<style scoped>\n",
       "    .dataframe tbody tr th:only-of-type {\n",
       "        vertical-align: middle;\n",
       "    }\n",
       "\n",
       "    .dataframe tbody tr th {\n",
       "        vertical-align: top;\n",
       "    }\n",
       "\n",
       "    .dataframe thead th {\n",
       "        text-align: right;\n",
       "    }\n",
       "</style>\n",
       "<table border=\"1\" class=\"dataframe\">\n",
       "  <thead>\n",
       "    <tr style=\"text-align: right;\">\n",
       "      <th></th>\n",
       "      <th>t</th>\n",
       "      <th>n</th>\n",
       "      <th>dn</th>\n",
       "      <th>rates</th>\n",
       "    </tr>\n",
       "  </thead>\n",
       "  <tbody>\n",
       "  </tbody>\n",
       "</table>\n",
       "</div>"
      ],
      "text/plain": [
       "Empty DataFrame\n",
       "Columns: [t, n, dn, rates]\n",
       "Index: []"
      ]
     },
     "execution_count": 274,
     "metadata": {},
     "output_type": "execute_result"
    }
   ],
   "source": [
    "df[(df.n%2==1)]"
   ]
  },
  {
   "cell_type": "code",
   "execution_count": 275,
   "metadata": {
    "ExecuteTime": {
     "end_time": "2020-11-16T01:09:36.824785Z",
     "start_time": "2020-11-16T01:09:36.810945Z"
    }
   },
   "outputs": [
    {
     "data": {
      "text/plain": [
       "t        5255.000000\n",
       "n          10.000000\n",
       "dn         -2.000000\n",
       "rates       0.003731\n",
       "Name: 14, dtype: float64"
      ]
     },
     "execution_count": 275,
     "metadata": {},
     "output_type": "execute_result"
    }
   ],
   "source": [
    "df.iloc[14]"
   ]
  },
  {
   "cell_type": "code",
   "execution_count": 276,
   "metadata": {
    "ExecuteTime": {
     "end_time": "2020-11-16T01:09:37.845865Z",
     "start_time": "2020-11-16T01:09:37.834660Z"
    }
   },
   "outputs": [],
   "source": [
    "# from lib.birth_death_rates_from_ic import *\n",
    "# initial_condition_dir = '/Users/timothytyree/Documents/GitHub/care/notebooks/Data/initial-conditions-suite-1/ic-in/ic_200x200.121.33.npz'\n",
    "# birth_death_rates_from_ic(initial_condition_dir)"
   ]
  },
  {
   "cell_type": "markdown",
   "metadata": {
    "heading_collapsed": true
   },
   "source": [
    "### warning! odd tips detected!  Have no/less fear... This is in the filtered n, not in the raw n.\n",
    "These could be caused by \n",
    "- (made padding huge, problem still persists)padding being too small (with this new D)\n",
    "- something funny in the tracking\n",
    "    - pad=5\n",
    "    - edge_tolerance = 3"
   ]
  },
  {
   "cell_type": "code",
   "execution_count": 30,
   "metadata": {
    "ExecuteTime": {
     "end_time": "2020-08-19T20:32:40.675109Z",
     "start_time": "2020-08-19T20:32:40.657348Z"
    },
    "hidden": true
   },
   "outputs": [],
   "source": [
    "# save_every_n_frames = 100"
   ]
  },
  {
   "cell_type": "code",
   "execution_count": 31,
   "metadata": {
    "ExecuteTime": {
     "end_time": "2020-08-19T20:32:41.473208Z",
     "start_time": "2020-08-19T20:32:41.458023Z"
    },
    "hidden": true
   },
   "outputs": [
    {
     "data": {
      "text/plain": [
       "100.0"
      ]
     },
     "execution_count": 31,
     "metadata": {},
     "output_type": "execute_result"
    }
   ],
   "source": [
    "10**6/10/10**3"
   ]
  },
  {
   "cell_type": "code",
   "execution_count": 32,
   "metadata": {
    "ExecuteTime": {
     "end_time": "2020-08-19T20:32:42.375889Z",
     "start_time": "2020-08-19T20:32:42.362134Z"
    },
    "hidden": true
   },
   "outputs": [
    {
     "name": "stdout",
     "output_type": "stream",
     "text": [
      "the max termination time was 24.21 seconds.\n"
     ]
    }
   ],
   "source": [
    "print(f\"the max termination time was {np.max(termination_times)/10**3:.2f} seconds.\")"
   ]
  },
  {
   "cell_type": "markdown",
   "metadata": {
    "ExecuteTime": {
     "end_time": "2020-08-15T18:24:04.873325Z",
     "start_time": "2020-08-15T18:24:04.848885Z"
    },
    "hidden": true
   },
   "source": [
    "my max duration was 6.18 seconds.  wouter's mean termination time was ~26 seconds\n",
    "\n",
    "he saw 405 events, I saw ~3000 events"
   ]
  },
  {
   "cell_type": "markdown",
   "metadata": {
    "heading_collapsed": true
   },
   "source": [
    "# plot an odd birth death event's trajectory"
   ]
  },
  {
   "cell_type": "code",
   "execution_count": 33,
   "metadata": {
    "ExecuteTime": {
     "end_time": "2020-08-19T20:32:58.443121Z",
     "start_time": "2020-08-19T20:32:49.109727Z"
    },
    "hidden": true
   },
   "outputs": [
    {
     "name": "stdout",
     "output_type": "stream",
     "text": [
      "please select a file from within the desired folder.\n",
      "File: /home/timothytyree/Documents/GitHub/care/notebooks/Data/initial-conditions-suite-2/ds_5_param_set_8/trajectories/ic_200x200.001.13_ds_5_sigma_1.5_threshold_0.6_sr_10_mem_2_traj.csv\n"
     ]
    }
   ],
   "source": [
    "#TODO: load a given trajectory file,\n",
    "#find file interactively/\n",
    "print(\"please select a file from within the desired folder.\")\n",
    "file = search_for_file()"
   ]
  },
  {
   "cell_type": "code",
   "execution_count": 34,
   "metadata": {
    "ExecuteTime": {
     "end_time": "2020-08-19T20:33:00.570620Z",
     "start_time": "2020-08-19T20:33:00.556767Z"
    },
    "hidden": true
   },
   "outputs": [],
   "source": [
    "def check_csv_for_odds(file):\n",
    "    df = pd.read_csv(file)\n",
    "    return (df.n%2==1).any()"
   ]
  },
  {
   "cell_type": "code",
   "execution_count": null,
   "metadata": {
    "ExecuteTime": {
     "end_time": "2020-08-19T20:33:42.843775Z",
     "start_time": "2020-08-19T20:33:42.703162Z"
    },
    "hidden": true
   },
   "outputs": [],
   "source": []
  },
  {
   "cell_type": "code",
   "execution_count": 40,
   "metadata": {
    "ExecuteTime": {
     "end_time": "2020-08-19T20:34:04.882320Z",
     "start_time": "2020-08-19T20:34:04.830787Z"
    },
    "hidden": true
   },
   "outputs": [],
   "source": [
    "folder_name = os.path.dirname(file)\n",
    "os.chdir(folder_name)\n",
    "file_name_list = !ls\n",
    "file_name_list = [f for f in file_name_list if is_csv(f)]"
   ]
  },
  {
   "cell_type": "code",
   "execution_count": 41,
   "metadata": {
    "ExecuteTime": {
     "end_time": "2020-08-19T20:34:06.517720Z",
     "start_time": "2020-08-19T20:34:05.561086Z"
    },
    "hidden": true
   },
   "outputs": [],
   "source": [
    "for f in file_name_list:\n",
    "#     print(f)\n",
    "    assert(not  check_csv_for_odds(f) )"
   ]
  },
  {
   "cell_type": "code",
   "execution_count": 42,
   "metadata": {
    "ExecuteTime": {
     "end_time": "2020-08-19T20:34:08.260535Z",
     "start_time": "2020-08-19T20:34:08.243415Z"
    },
    "hidden": true
   },
   "outputs": [
    {
     "name": "stdout",
     "output_type": "stream",
     "text": [
      "ic_200x200.019.33_ds_5_sigma_1.5_threshold_0.6_sr_10_mem_2_traj.csv\n"
     ]
    }
   ],
   "source": [
    "# f = 'ic_200x200.001.11_ds_5_sigma_1.5_threshold_0.6_sr_50_mem_2_traj.csv'\n",
    "df = pd.read_csv(f)\n",
    "print(f)"
   ]
  },
  {
   "cell_type": "code",
   "execution_count": 43,
   "metadata": {
    "ExecuteTime": {
     "end_time": "2020-08-19T20:34:11.687026Z",
     "start_time": "2020-08-19T20:34:11.664412Z"
    },
    "hidden": true
   },
   "outputs": [
    {
     "data": {
      "text/html": [
       "<div>\n",
       "<style scoped>\n",
       "    .dataframe tbody tr th:only-of-type {\n",
       "        vertical-align: middle;\n",
       "    }\n",
       "\n",
       "    .dataframe tbody tr th {\n",
       "        vertical-align: top;\n",
       "    }\n",
       "\n",
       "    .dataframe thead th {\n",
       "        text-align: right;\n",
       "    }\n",
       "</style>\n",
       "<table border=\"1\" class=\"dataframe\">\n",
       "  <thead>\n",
       "    <tr style=\"text-align: right;\">\n",
       "      <th></th>\n",
       "      <th>t</th>\n",
       "      <th>x</th>\n",
       "      <th>y</th>\n",
       "      <th>s1</th>\n",
       "      <th>s2</th>\n",
       "      <th>n</th>\n",
       "      <th>V</th>\n",
       "      <th>f</th>\n",
       "      <th>s</th>\n",
       "      <th>frame</th>\n",
       "      <th>particle</th>\n",
       "    </tr>\n",
       "  </thead>\n",
       "  <tbody>\n",
       "  </tbody>\n",
       "</table>\n",
       "</div>"
      ],
      "text/plain": [
       "Empty DataFrame\n",
       "Columns: [t, x, y, s1, s2, n, V, f, s, frame, particle]\n",
       "Index: []"
      ]
     },
     "execution_count": 43,
     "metadata": {},
     "output_type": "execute_result"
    }
   ],
   "source": [
    "df.loc[df.n%2==1]\n",
    "#TODO: compute change in RAW spiral tip number\n",
    "#TODO: can I find any ODD changes in the RAW spiral tip number?\n"
   ]
  },
  {
   "cell_type": "code",
   "execution_count": 44,
   "metadata": {
    "ExecuteTime": {
     "end_time": "2020-08-19T20:34:23.390335Z",
     "start_time": "2020-08-19T20:34:23.364089Z"
    },
    "hidden": true
   },
   "outputs": [
    {
     "data": {
      "text/plain": [
       "False"
      ]
     },
     "execution_count": 44,
     "metadata": {},
     "output_type": "execute_result"
    }
   ],
   "source": [
    "check_csv_for_odds(f)"
   ]
  },
  {
   "cell_type": "markdown",
   "metadata": {
    "heading_collapsed": true,
    "hidden": true
   },
   "source": [
    "## view odd trajectory"
   ]
  },
  {
   "cell_type": "code",
   "execution_count": 58,
   "metadata": {
    "ExecuteTime": {
     "end_time": "2020-08-18T19:18:36.959703Z",
     "start_time": "2020-08-18T19:18:36.902419Z"
    },
    "hidden": true
   },
   "outputs": [],
   "source": [
    "file_name_traj = f.replace('_tmin_100_LT_0_bdrates','_traj')\n",
    "folder_name_traj = folder_name.replace('birth-death-rates','trajectories')"
   ]
  },
  {
   "cell_type": "code",
   "execution_count": 59,
   "metadata": {
    "ExecuteTime": {
     "end_time": "2020-08-18T19:18:37.730276Z",
     "start_time": "2020-08-18T19:18:37.680797Z"
    },
    "hidden": true
   },
   "outputs": [],
   "source": [
    "os.chdir(folder_name_traj)\n",
    "df = pd.read_csv(file_name_traj)"
   ]
  },
  {
   "cell_type": "code",
   "execution_count": 62,
   "metadata": {
    "ExecuteTime": {
     "end_time": "2020-08-18T19:19:16.329792Z",
     "start_time": "2020-08-18T19:19:16.276501Z"
    },
    "hidden": true
   },
   "outputs": [
    {
     "data": {
      "text/plain": [
       "False"
      ]
     },
     "execution_count": 62,
     "metadata": {},
     "output_type": "execute_result"
    }
   ],
   "source": [
    "(df.n%2==1).any()"
   ]
  },
  {
   "cell_type": "markdown",
   "metadata": {
    "hidden": true
   },
   "source": [
    "The first odd birth death event in the bdrates for ic_200x200.003.32 does not exist in the raw tip number data.  The problem must lie strictly between the tip detection and the final computation of number of tip trajectories.\n",
    "\n",
    "- TODO(option A): compute the birth-death rates from the raw tip number\n",
    "    - TODO: LOG TO BDRATES\n",
    "        - 1. import log and isolate n timeseries\n",
    "        - 1. use the existing method to compute birth-death rates\n",
    "- TODO(option B): tune the tracking to get the right tip number.  This is already partially done in another .ipynb"
   ]
  },
  {
   "cell_type": "code",
   "execution_count": 63,
   "metadata": {
    "ExecuteTime": {
     "end_time": "2020-08-18T19:19:44.490266Z",
     "start_time": "2020-08-18T19:19:44.437399Z"
    },
    "hidden": true
   },
   "outputs": [
    {
     "data": {
      "text/plain": [
       "'ic_200x200.003.32_ds_5_sigma_1.5_threshold_0.6_sr_10_mem_2_traj.csv'"
      ]
     },
     "execution_count": 63,
     "metadata": {},
     "output_type": "execute_result"
    }
   ],
   "source": [
    "file_name_traj"
   ]
  },
  {
   "cell_type": "code",
   "execution_count": null,
   "metadata": {
    "hidden": true
   },
   "outputs": [],
   "source": []
  },
  {
   "cell_type": "code",
   "execution_count": null,
   "metadata": {
    "hidden": true
   },
   "outputs": [],
   "source": []
  },
  {
   "cell_type": "markdown",
   "metadata": {
    "heading_collapsed": true
   },
   "source": [
    "# view kwargs"
   ]
  },
  {
   "cell_type": "markdown",
   "metadata": {
    "ExecuteTime": {
     "end_time": "2020-08-15T23:31:52.720770Z",
     "start_time": "2020-08-15T23:31:52.709029Z"
    },
    "hidden": true
   },
   "source": [
    "No RAW odd spiral tips exist in the new spiral tip data\n",
    "\n",
    "TODO(after finding the tracking problem): CHECK if RAW odd spiral tips exist in the OLD spiral tip data.\n",
    "\n",
    "THUS, it is in the tracking. RETRY with LT_thresh=0"
   ]
  },
  {
   "cell_type": "code",
   "execution_count": 63,
   "metadata": {
    "ExecuteTime": {
     "end_time": "2020-08-15T23:33:03.191271Z",
     "start_time": "2020-08-15T23:33:03.176666Z"
    },
    "hidden": true
   },
   "outputs": [],
   "source": [
    "#TODO(later): compute the spiral tip number from the number of tips to confirm it is from the tracking (waste of time)\n",
    "# TODO: recompute all trajectories with LT=0 and see if the problem goes away\n"
   ]
  },
  {
   "cell_type": "code",
   "execution_count": 2,
   "metadata": {
    "ExecuteTime": {
     "end_time": "2020-08-18T18:13:24.367815Z",
     "start_time": "2020-08-18T18:13:24.365580Z"
    },
    "hidden": true
   },
   "outputs": [],
   "source": [
    "#DONE: get the function for computing bdrates from trajectory file\n",
    "#DONE: get kwargs, give it width and height = 200 pixels\n",
    "#TODO: archive old bdrates\n",
    "#TODO: recompute bdrates WITH LT_THRESH=0, see if the problem goes away,\n",
    "#TODO: if it does, recompute on the ic-suite-1 results with LT=0 and see if the problem goes away.\n",
    "\n",
    "\n",
    "file = '/home/timothytyree/Documents/GitHub/care/notebooks/Data/initial-conditions-suite-2/ic-out/ic_200x200.001.13.npz'"
   ]
  },
  {
   "cell_type": "code",
   "execution_count": 3,
   "metadata": {
    "ExecuteTime": {
     "end_time": "2020-08-18T18:13:24.882060Z",
     "start_time": "2020-08-18T18:13:24.875208Z"
    },
    "hidden": true
   },
   "outputs": [],
   "source": [
    "from lib.birth_death_rates_from_ic import _get_kwargs, compute_birth_death_rates\n",
    "\n",
    "\n",
    "#NOTE kwargs need to be initial conditions, NOT .trajectory files\n",
    "kwargs = _get_kwargs(file)\n",
    "kwargs['width']=200\n",
    "kwargs['height']=200\n",
    "kwargs['LT_thresh'] = 0"
   ]
  },
  {
   "cell_type": "code",
   "execution_count": 5,
   "metadata": {
    "ExecuteTime": {
     "end_time": "2020-08-18T18:13:39.024707Z",
     "start_time": "2020-08-18T18:13:39.019367Z"
    },
    "hidden": true
   },
   "outputs": [
    {
     "data": {
      "text/plain": [
       "{'beeping': False,\n",
       " 'asserting': False,\n",
       " 'printing': True,\n",
       " 'plotting': False,\n",
       " 'logging': True,\n",
       " 'sigma': 1.5,\n",
       " 'threshold': 0.6,\n",
       " 'V_threshold': 0.5,\n",
       " 'edge_tolerance': 20,\n",
       " 'pad': 21,\n",
       " 'atol': 1e-10,\n",
       " 'color_values': None,\n",
       " 'h': 0.025,\n",
       " 'nsteps': 10000000,\n",
       " 'save_every_n_frames': 100,\n",
       " 'max_time': 250000.0,\n",
       " 'max_buffers_to_save': 0,\n",
       " 'buffers_saved_counter': 0,\n",
       " 'start_saving_buffers_at_step': 0,\n",
       " 'timing': False,\n",
       " 'recording_if_odd': True,\n",
       " 'recording': True,\n",
       " 'descrip': 'sigma_1.5_threshold_0.6',\n",
       " 'save': True,\n",
       " 'mem': 2,\n",
       " 'sr': 10,\n",
       " 'ds': 5,\n",
       " 'tmin': 100,\n",
       " 'LT_thresh': 0,\n",
       " 'base_dir': '/home/timothytyree/Documents/GitHub/care/notebooks/Data/initial-conditions-suite-2',\n",
       " 'base_save_dir': '/home/timothytyree/Documents/GitHub/care/notebooks/Data/initial-conditions-suite-2/ds_5_param_set_8',\n",
       " 'data_folder_bdrates': '/home/timothytyree/Documents/GitHub/care/notebooks/Data/initial-conditions-suite-2/ds_5_param_set_8/birth-death-rates',\n",
       " 'data_folder_traj': '/home/timothytyree/Documents/GitHub/care/notebooks/Data/initial-conditions-suite-2/ds_5_param_set_8/trajectories',\n",
       " 'data_folder_log': '/home/timothytyree/Documents/GitHub/care/notebooks/Data/initial-conditions-suite-2/ds_5_param_set_8/Log',\n",
       " 'data_fn': 'ic_200x200.001.13.npz',\n",
       " 'data_fn_log': 'ic_200x200.001.13_ds_5_sigma_1.5_threshold_0.6_log.csv',\n",
       " 'data_fn_tips': 'ic_200x200.001.13_ds_5_sigma_1.5_threshold_0.6_processed.csv',\n",
       " 'data_fn_traj': 'ic_200x200.001.13_ds_5_sigma_1.5_threshold_0.6_sr_10_mem_2_traj.csv',\n",
       " 'data_fn_bdrates': 'ic_200x200.001.13_ds_5_sigma_1.5_threshold_0.6_sr_10_mem_2_tmin_100_LT_0_bdrates.csv',\n",
       " 'data_dir_bdrates': '/home/timothytyree/Documents/GitHub/care/notebooks/Data/initial-conditions-suite-2/ds_5_param_set_8/birth-death-rates/ic_200x200.001.13_ds_5_sigma_1.5_threshold_0.6_sr_10_mem_2_tmin_100_LT_0_bdrates.csv',\n",
       " 'data_dir_traj': '/home/timothytyree/Documents/GitHub/care/notebooks/Data/initial-conditions-suite-2/ds_5_param_set_8/trajectories/ic_200x200.001.13_ds_5_sigma_1.5_threshold_0.6_sr_10_mem_2_traj.csv',\n",
       " 'data_dir_tips': '/home/timothytyree/Documents/GitHub/care/notebooks/Data/initial-conditions-suite-2/ds_5_param_set_8/Log/ic_200x200.001.13_ds_5_sigma_1.5_threshold_0.6_processed.csv',\n",
       " 'data_dir_log': '/home/timothytyree/Documents/GitHub/care/notebooks/Data/initial-conditions-suite-2/ds_5_param_set_8/Log/ic_200x200.001.13_ds_5_sigma_1.5_threshold_0.6_log.csv',\n",
       " 'print_log_dir': '/home/timothytyree/Documents/GitHub/care/notebooks/Data/initial-conditions-suite-2/ds_5_param_set_8/Log/ic_200x200.001.13_ds_5_sigma_1.5_threshold_0.6.log',\n",
       " 'width': 200,\n",
       " 'height': 200}"
      ]
     },
     "execution_count": 5,
     "metadata": {},
     "output_type": "execute_result"
    }
   ],
   "source": [
    "# os.chdir('..')\n",
    "# os.path.abspath(file)\n",
    "kwargs"
   ]
  },
  {
   "cell_type": "code",
   "execution_count": 101,
   "metadata": {
    "ExecuteTime": {
     "end_time": "2020-08-16T00:17:11.070402Z",
     "start_time": "2020-08-16T00:17:11.039377Z"
    },
    "hidden": true,
    "scrolled": true
   },
   "outputs": [
    {
     "name": "stdout",
     "output_type": "stream",
     "text": [
      "loading trajectories from data_fn_traj: /home/timothytyree/Documents/GitHub/care/notebooks/Data/initial-conditions-suite-2/ds_5_param_set_8/ic_200x200.001.11_ds_5_sigma_1.5_threshold_0.6_sr_50_mem_2_traj.csv.\n"
     ]
    },
    {
     "ename": "FileNotFoundError",
     "evalue": "[Errno 2] File /home/timothytyree/Documents/GitHub/care/notebooks/Data/initial-conditions-suite-2/ds_5_param_set_8/ic_200x200.001.11_ds_5_sigma_1.5_threshold_0.6_sr_50_mem_2_traj.csv does not exist: '/home/timothytyree/Documents/GitHub/care/notebooks/Data/initial-conditions-suite-2/ds_5_param_set_8/ic_200x200.001.11_ds_5_sigma_1.5_threshold_0.6_sr_50_mem_2_traj.csv'",
     "output_type": "error",
     "traceback": [
      "\u001b[0;31m---------------------------------------------------------------------------\u001b[0m",
      "\u001b[0;31mFileNotFoundError\u001b[0m                         Traceback (most recent call last)",
      "\u001b[0;32m<ipython-input-101-3aefa99f9f30>\u001b[0m in \u001b[0;36m<module>\u001b[0;34m\u001b[0m\n\u001b[1;32m      1\u001b[0m \u001b[0;32mfor\u001b[0m \u001b[0mfile\u001b[0m \u001b[0;32min\u001b[0m \u001b[0mfile_name_list\u001b[0m\u001b[0;34m:\u001b[0m\u001b[0;34m\u001b[0m\u001b[0;34m\u001b[0m\u001b[0m\n\u001b[0;32m----> 2\u001b[0;31m     \u001b[0mretval\u001b[0m \u001b[0;34m=\u001b[0m \u001b[0mcompute_birth_death_rates\u001b[0m\u001b[0;34m(\u001b[0m\u001b[0mdata_fn_trajectories\u001b[0m\u001b[0;34m=\u001b[0m\u001b[0mos\u001b[0m\u001b[0;34m.\u001b[0m\u001b[0mpath\u001b[0m\u001b[0;34m.\u001b[0m\u001b[0mabspath\u001b[0m\u001b[0;34m(\u001b[0m\u001b[0mfile\u001b[0m\u001b[0;34m)\u001b[0m\u001b[0;34m,\u001b[0m\u001b[0;34m**\u001b[0m\u001b[0mkwargs\u001b[0m\u001b[0;34m)\u001b[0m\u001b[0;34m\u001b[0m\u001b[0;34m\u001b[0m\u001b[0m\n\u001b[0m",
      "\u001b[0;32m~/Documents/GitHub/care/notebooks/lib/birth_death_rates_from_ic.py\u001b[0m in \u001b[0;36mcompute_birth_death_rates\u001b[0;34m(data_fn_trajectories, **kwargs)\u001b[0m\n\u001b[1;32m    551\u001b[0m         \u001b[0mdata_folder_traj\u001b[0m\u001b[0;34m=\u001b[0m\u001b[0mkwargs\u001b[0m\u001b[0;34m[\u001b[0m\u001b[0;34m'data_folder_traj'\u001b[0m\u001b[0;34m]\u001b[0m\u001b[0;34m\u001b[0m\u001b[0;34m\u001b[0m\u001b[0m\n\u001b[1;32m    552\u001b[0m         \u001b[0mos\u001b[0m\u001b[0;34m.\u001b[0m\u001b[0mchdir\u001b[0m\u001b[0;34m(\u001b[0m\u001b[0mdata_folder_traj\u001b[0m\u001b[0;34m)\u001b[0m\u001b[0;34m\u001b[0m\u001b[0;34m\u001b[0m\u001b[0m\n\u001b[0;32m--> 553\u001b[0;31m         \u001b[0mdf\u001b[0m \u001b[0;34m=\u001b[0m \u001b[0mpd\u001b[0m\u001b[0;34m.\u001b[0m\u001b[0mread_csv\u001b[0m\u001b[0;34m(\u001b[0m\u001b[0mdata_fn_traj\u001b[0m\u001b[0;34m)\u001b[0m\u001b[0;34m\u001b[0m\u001b[0;34m\u001b[0m\u001b[0m\n\u001b[0m\u001b[1;32m    554\u001b[0m \u001b[0;34m\u001b[0m\u001b[0m\n\u001b[1;32m    555\u001b[0m         \u001b[0;31m# select only data after tmin milliseconds\u001b[0m\u001b[0;34m\u001b[0m\u001b[0;34m\u001b[0m\u001b[0;34m\u001b[0m\u001b[0m\n",
      "\u001b[0;32m~/anaconda3/lib/python3.7/site-packages/pandas/io/parsers.py\u001b[0m in \u001b[0;36mparser_f\u001b[0;34m(filepath_or_buffer, sep, delimiter, header, names, index_col, usecols, squeeze, prefix, mangle_dupe_cols, dtype, engine, converters, true_values, false_values, skipinitialspace, skiprows, skipfooter, nrows, na_values, keep_default_na, na_filter, verbose, skip_blank_lines, parse_dates, infer_datetime_format, keep_date_col, date_parser, dayfirst, cache_dates, iterator, chunksize, compression, thousands, decimal, lineterminator, quotechar, quoting, doublequote, escapechar, comment, encoding, dialect, error_bad_lines, warn_bad_lines, delim_whitespace, low_memory, memory_map, float_precision)\u001b[0m\n\u001b[1;32m    674\u001b[0m         )\n\u001b[1;32m    675\u001b[0m \u001b[0;34m\u001b[0m\u001b[0m\n\u001b[0;32m--> 676\u001b[0;31m         \u001b[0;32mreturn\u001b[0m \u001b[0m_read\u001b[0m\u001b[0;34m(\u001b[0m\u001b[0mfilepath_or_buffer\u001b[0m\u001b[0;34m,\u001b[0m \u001b[0mkwds\u001b[0m\u001b[0;34m)\u001b[0m\u001b[0;34m\u001b[0m\u001b[0;34m\u001b[0m\u001b[0m\n\u001b[0m\u001b[1;32m    677\u001b[0m \u001b[0;34m\u001b[0m\u001b[0m\n\u001b[1;32m    678\u001b[0m     \u001b[0mparser_f\u001b[0m\u001b[0;34m.\u001b[0m\u001b[0m__name__\u001b[0m \u001b[0;34m=\u001b[0m \u001b[0mname\u001b[0m\u001b[0;34m\u001b[0m\u001b[0;34m\u001b[0m\u001b[0m\n",
      "\u001b[0;32m~/anaconda3/lib/python3.7/site-packages/pandas/io/parsers.py\u001b[0m in \u001b[0;36m_read\u001b[0;34m(filepath_or_buffer, kwds)\u001b[0m\n\u001b[1;32m    446\u001b[0m \u001b[0;34m\u001b[0m\u001b[0m\n\u001b[1;32m    447\u001b[0m     \u001b[0;31m# Create the parser.\u001b[0m\u001b[0;34m\u001b[0m\u001b[0;34m\u001b[0m\u001b[0;34m\u001b[0m\u001b[0m\n\u001b[0;32m--> 448\u001b[0;31m     \u001b[0mparser\u001b[0m \u001b[0;34m=\u001b[0m \u001b[0mTextFileReader\u001b[0m\u001b[0;34m(\u001b[0m\u001b[0mfp_or_buf\u001b[0m\u001b[0;34m,\u001b[0m \u001b[0;34m**\u001b[0m\u001b[0mkwds\u001b[0m\u001b[0;34m)\u001b[0m\u001b[0;34m\u001b[0m\u001b[0;34m\u001b[0m\u001b[0m\n\u001b[0m\u001b[1;32m    449\u001b[0m \u001b[0;34m\u001b[0m\u001b[0m\n\u001b[1;32m    450\u001b[0m     \u001b[0;32mif\u001b[0m \u001b[0mchunksize\u001b[0m \u001b[0;32mor\u001b[0m \u001b[0miterator\u001b[0m\u001b[0;34m:\u001b[0m\u001b[0;34m\u001b[0m\u001b[0;34m\u001b[0m\u001b[0m\n",
      "\u001b[0;32m~/anaconda3/lib/python3.7/site-packages/pandas/io/parsers.py\u001b[0m in \u001b[0;36m__init__\u001b[0;34m(self, f, engine, **kwds)\u001b[0m\n\u001b[1;32m    878\u001b[0m             \u001b[0mself\u001b[0m\u001b[0;34m.\u001b[0m\u001b[0moptions\u001b[0m\u001b[0;34m[\u001b[0m\u001b[0;34m\"has_index_names\"\u001b[0m\u001b[0;34m]\u001b[0m \u001b[0;34m=\u001b[0m \u001b[0mkwds\u001b[0m\u001b[0;34m[\u001b[0m\u001b[0;34m\"has_index_names\"\u001b[0m\u001b[0;34m]\u001b[0m\u001b[0;34m\u001b[0m\u001b[0;34m\u001b[0m\u001b[0m\n\u001b[1;32m    879\u001b[0m \u001b[0;34m\u001b[0m\u001b[0m\n\u001b[0;32m--> 880\u001b[0;31m         \u001b[0mself\u001b[0m\u001b[0;34m.\u001b[0m\u001b[0m_make_engine\u001b[0m\u001b[0;34m(\u001b[0m\u001b[0mself\u001b[0m\u001b[0;34m.\u001b[0m\u001b[0mengine\u001b[0m\u001b[0;34m)\u001b[0m\u001b[0;34m\u001b[0m\u001b[0;34m\u001b[0m\u001b[0m\n\u001b[0m\u001b[1;32m    881\u001b[0m \u001b[0;34m\u001b[0m\u001b[0m\n\u001b[1;32m    882\u001b[0m     \u001b[0;32mdef\u001b[0m \u001b[0mclose\u001b[0m\u001b[0;34m(\u001b[0m\u001b[0mself\u001b[0m\u001b[0;34m)\u001b[0m\u001b[0;34m:\u001b[0m\u001b[0;34m\u001b[0m\u001b[0;34m\u001b[0m\u001b[0m\n",
      "\u001b[0;32m~/anaconda3/lib/python3.7/site-packages/pandas/io/parsers.py\u001b[0m in \u001b[0;36m_make_engine\u001b[0;34m(self, engine)\u001b[0m\n\u001b[1;32m   1112\u001b[0m     \u001b[0;32mdef\u001b[0m \u001b[0m_make_engine\u001b[0m\u001b[0;34m(\u001b[0m\u001b[0mself\u001b[0m\u001b[0;34m,\u001b[0m \u001b[0mengine\u001b[0m\u001b[0;34m=\u001b[0m\u001b[0;34m\"c\"\u001b[0m\u001b[0;34m)\u001b[0m\u001b[0;34m:\u001b[0m\u001b[0;34m\u001b[0m\u001b[0;34m\u001b[0m\u001b[0m\n\u001b[1;32m   1113\u001b[0m         \u001b[0;32mif\u001b[0m \u001b[0mengine\u001b[0m \u001b[0;34m==\u001b[0m \u001b[0;34m\"c\"\u001b[0m\u001b[0;34m:\u001b[0m\u001b[0;34m\u001b[0m\u001b[0;34m\u001b[0m\u001b[0m\n\u001b[0;32m-> 1114\u001b[0;31m             \u001b[0mself\u001b[0m\u001b[0;34m.\u001b[0m\u001b[0m_engine\u001b[0m \u001b[0;34m=\u001b[0m \u001b[0mCParserWrapper\u001b[0m\u001b[0;34m(\u001b[0m\u001b[0mself\u001b[0m\u001b[0;34m.\u001b[0m\u001b[0mf\u001b[0m\u001b[0;34m,\u001b[0m \u001b[0;34m**\u001b[0m\u001b[0mself\u001b[0m\u001b[0;34m.\u001b[0m\u001b[0moptions\u001b[0m\u001b[0;34m)\u001b[0m\u001b[0;34m\u001b[0m\u001b[0;34m\u001b[0m\u001b[0m\n\u001b[0m\u001b[1;32m   1115\u001b[0m         \u001b[0;32melse\u001b[0m\u001b[0;34m:\u001b[0m\u001b[0;34m\u001b[0m\u001b[0;34m\u001b[0m\u001b[0m\n\u001b[1;32m   1116\u001b[0m             \u001b[0;32mif\u001b[0m \u001b[0mengine\u001b[0m \u001b[0;34m==\u001b[0m \u001b[0;34m\"python\"\u001b[0m\u001b[0;34m:\u001b[0m\u001b[0;34m\u001b[0m\u001b[0;34m\u001b[0m\u001b[0m\n",
      "\u001b[0;32m~/anaconda3/lib/python3.7/site-packages/pandas/io/parsers.py\u001b[0m in \u001b[0;36m__init__\u001b[0;34m(self, src, **kwds)\u001b[0m\n\u001b[1;32m   1889\u001b[0m         \u001b[0mkwds\u001b[0m\u001b[0;34m[\u001b[0m\u001b[0;34m\"usecols\"\u001b[0m\u001b[0;34m]\u001b[0m \u001b[0;34m=\u001b[0m \u001b[0mself\u001b[0m\u001b[0;34m.\u001b[0m\u001b[0musecols\u001b[0m\u001b[0;34m\u001b[0m\u001b[0;34m\u001b[0m\u001b[0m\n\u001b[1;32m   1890\u001b[0m \u001b[0;34m\u001b[0m\u001b[0m\n\u001b[0;32m-> 1891\u001b[0;31m         \u001b[0mself\u001b[0m\u001b[0;34m.\u001b[0m\u001b[0m_reader\u001b[0m \u001b[0;34m=\u001b[0m \u001b[0mparsers\u001b[0m\u001b[0;34m.\u001b[0m\u001b[0mTextReader\u001b[0m\u001b[0;34m(\u001b[0m\u001b[0msrc\u001b[0m\u001b[0;34m,\u001b[0m \u001b[0;34m**\u001b[0m\u001b[0mkwds\u001b[0m\u001b[0;34m)\u001b[0m\u001b[0;34m\u001b[0m\u001b[0;34m\u001b[0m\u001b[0m\n\u001b[0m\u001b[1;32m   1892\u001b[0m         \u001b[0mself\u001b[0m\u001b[0;34m.\u001b[0m\u001b[0munnamed_cols\u001b[0m \u001b[0;34m=\u001b[0m \u001b[0mself\u001b[0m\u001b[0;34m.\u001b[0m\u001b[0m_reader\u001b[0m\u001b[0;34m.\u001b[0m\u001b[0munnamed_cols\u001b[0m\u001b[0;34m\u001b[0m\u001b[0;34m\u001b[0m\u001b[0m\n\u001b[1;32m   1893\u001b[0m \u001b[0;34m\u001b[0m\u001b[0m\n",
      "\u001b[0;32mpandas/_libs/parsers.pyx\u001b[0m in \u001b[0;36mpandas._libs.parsers.TextReader.__cinit__\u001b[0;34m()\u001b[0m\n",
      "\u001b[0;32mpandas/_libs/parsers.pyx\u001b[0m in \u001b[0;36mpandas._libs.parsers.TextReader._setup_parser_source\u001b[0;34m()\u001b[0m\n",
      "\u001b[0;31mFileNotFoundError\u001b[0m: [Errno 2] File /home/timothytyree/Documents/GitHub/care/notebooks/Data/initial-conditions-suite-2/ds_5_param_set_8/ic_200x200.001.11_ds_5_sigma_1.5_threshold_0.6_sr_50_mem_2_traj.csv does not exist: '/home/timothytyree/Documents/GitHub/care/notebooks/Data/initial-conditions-suite-2/ds_5_param_set_8/ic_200x200.001.11_ds_5_sigma_1.5_threshold_0.6_sr_50_mem_2_traj.csv'"
     ]
    }
   ],
   "source": [
    "for file in file_name_list:\n",
    "    retval = compute_birth_death_rates(data_fn_trajectories=os.path.abspath(file),**kwargs)"
   ]
  },
  {
   "cell_type": "code",
   "execution_count": 100,
   "metadata": {
    "ExecuteTime": {
     "end_time": "2020-08-16T00:17:07.452961Z",
     "start_time": "2020-08-16T00:17:07.439033Z"
    },
    "hidden": true
   },
   "outputs": [
    {
     "data": {
      "text/plain": [
       "'/home/timothytyree/Documents/GitHub/care/notebooks/Data/initial-conditions-suite-2/ds_5_param_set_8/trajectories'"
      ]
     },
     "execution_count": 100,
     "metadata": {},
     "output_type": "execute_result"
    }
   ],
   "source": [
    "kwargs['data_folder_traj']"
   ]
  },
  {
   "cell_type": "markdown",
   "metadata": {
    "heading_collapsed": true
   },
   "source": [
    "#IT's hard to check .  file's not found.  just rerun with LT_thresh set to zero \n",
    "- Result: odd tips exist even when LT is zero\n",
    "- try rerunning with a large runtime and with lt=0\n",
    "    - "
   ]
  },
  {
   "cell_type": "markdown",
   "metadata": {
    "ExecuteTime": {
     "end_time": "2020-08-18T19:32:11.120795Z",
     "start_time": "2020-08-18T19:32:11.118472Z"
    },
    "heading_collapsed": true
   },
   "source": [
    "# compute birth-death rates for a folder of tip logs\n",
    "- TODO: change folder name too!!!!!"
   ]
  },
  {
   "cell_type": "code",
   "execution_count": 55,
   "metadata": {
    "ExecuteTime": {
     "end_time": "2020-09-27T21:44:18.036597Z",
     "start_time": "2020-09-27T21:44:18.018022Z"
    },
    "hidden": true
   },
   "outputs": [],
   "source": [
    "def log_to_bdrates(input_file_name, output_file_name):\n",
    "    '''imports a raw output tip log file from input_file_name and saves to a birth-death rate file in output_file_name. '''\n",
    "    df = pd.read_csv(input_file_name)\n",
    "\n",
    "    #extract n_series\n",
    "    n_list = []\n",
    "    for i, row in df.iterrows():\n",
    "        n = len(eval(row.x))\n",
    "        n_list.append(n)\n",
    "    df['n'] = n_list\n",
    "    n_series = df.n\n",
    "    n_series.index = df.t\n",
    "\n",
    "    #compute birth-death rates\n",
    "    #store as a pandas.DataFrame\n",
    "    df = pd.DataFrame({\"t\":n_series.index.values,\"n\":n_series.values})\n",
    "\n",
    "    #compute birth death rates\n",
    "    df['dn'] = df.n.diff().shift(-1)\n",
    "    df = df.query('dn != 0').copy()\n",
    "    rates = 1/df['t'].diff().shift(-1).dropna() # birth death rates in unites of 1/ms\n",
    "    df['rates'] = rates\n",
    "\n",
    "    #save birth death rates to a file named according to all of the relevant parameters in a special folder.\n",
    "    df.to_csv(output_file_name)\n",
    "    return True"
   ]
  },
  {
   "cell_type": "code",
   "execution_count": 56,
   "metadata": {
    "ExecuteTime": {
     "end_time": "2020-09-27T21:46:05.999984Z",
     "start_time": "2020-09-27T21:44:47.534622Z"
    },
    "hidden": true
   },
   "outputs": [
    {
     "name": "stdout",
     "output_type": "stream",
     "text": [
      "please select a file from within the desired folder.\n",
      "File: /home/timothytyree/Documents/GitHub/care/notebooks/Data/initial-conditions-suite-2/ds_5_param_set_8/Log/ic_200x200.014.32_ds_5_sigma_1.5_threshold_0.6_log.csv\n"
     ]
    }
   ],
   "source": [
    "#get a folder of filenames of tip log files ending in log.csv\n",
    "#find file interactively\n",
    "print(\"please select a file from within the desired folder.\")\n",
    "file = search_for_file()\n",
    "folder_name = os.path.dirname(file)\n",
    "os.chdir(folder_name)\n",
    "\n",
    "# get all .csv files in the current working directory\n",
    "retval = !ls\n",
    "file_name_list = list(retval)\n",
    "# check each file if it ends in .csv before merging it\n",
    "def is_target(file_name, target = '_log.csv'):\n",
    "    return file_name[-len(target):]==target\n",
    "\n",
    "\n",
    "file_name_list = [f for f in file_name_list if is_target(f, target = 'log.csv')]\n",
    "# file_name_list = [f for f in file_name_list if f.find('threshold')!=-1]\n",
    "\n",
    "\n"
   ]
  },
  {
   "cell_type": "code",
   "execution_count": 57,
   "metadata": {
    "ExecuteTime": {
     "end_time": "2020-09-27T21:46:16.661935Z",
     "start_time": "2020-09-27T21:46:16.648233Z"
    },
    "hidden": true
   },
   "outputs": [],
   "source": [
    "#create a save_folder, for bdrates if it doesn't already exist\n",
    "save_folder = folder_name.replace('/Log','/birth-death-rates-from-log-simplified')\n",
    "if not os.path.exists(save_folder):\n",
    "    os.mkdir(save_folder)"
   ]
  },
  {
   "cell_type": "code",
   "execution_count": 60,
   "metadata": {
    "ExecuteTime": {
     "end_time": "2020-09-27T21:46:36.043291Z",
     "start_time": "2020-09-27T21:46:36.022771Z"
    },
    "hidden": true
   },
   "outputs": [
    {
     "name": "stdout",
     "output_type": "stream",
     "text": [
      "171\n"
     ]
    }
   ],
   "source": [
    "print(len(file_name_list))"
   ]
  },
  {
   "cell_type": "code",
   "execution_count": 61,
   "metadata": {
    "ExecuteTime": {
     "end_time": "2020-09-27T21:49:41.982280Z",
     "start_time": "2020-09-27T21:46:38.768318Z"
    },
    "hidden": true
   },
   "outputs": [],
   "source": [
    "#for each file in the folder, compute the birth-death rates\n",
    "#TODO(later): daskbag accelerate this process\n",
    "os.chdir(folder_name)\n",
    "for input_file_name in file_name_list:\n",
    "    #TODO: change folder name too!!!!!!\n",
    "    output_file_name = input_file_name.replace('log.csv','bdrates.csv')\n",
    "    output_dir = os.path.join(save_folder,output_file_name)\n",
    "    log_to_bdrates(input_file_name=input_file_name, \n",
    "                   output_file_name=output_dir)"
   ]
  },
  {
   "cell_type": "code",
   "execution_count": 62,
   "metadata": {
    "ExecuteTime": {
     "end_time": "2020-09-27T21:49:42.664082Z",
     "start_time": "2020-09-27T21:49:42.043016Z"
    },
    "hidden": true
   },
   "outputs": [
    {
     "data": {
      "text/plain": [
       "0"
      ]
     },
     "execution_count": 62,
     "metadata": {},
     "output_type": "execute_result"
    }
   ],
   "source": [
    "beep(3)"
   ]
  },
  {
   "cell_type": "code",
   "execution_count": 63,
   "metadata": {
    "ExecuteTime": {
     "end_time": "2020-09-27T21:51:42.353312Z",
     "start_time": "2020-09-27T21:51:29.362811Z"
    },
    "hidden": true
   },
   "outputs": [
    {
     "name": "stdout",
     "output_type": "stream",
     "text": [
      "File: /home/timothytyree/Documents/GitHub/care/notebooks/Data/initial-conditions-suite-2/ds_5_param_set_8/birth-death-rates-from-log-simplified/ic_200x200.001.12_ds_5_sigma_1.5_threshold_0.6_bdrates.csv\n"
     ]
    }
   ],
   "source": [
    "#9 samples LT = 0\n",
    "# file =  '/Users/timothytyree/Documents/GitHub/care/notebooks/Data/ds_5_param_set_8/birth-death-rates/33_ds_5_sigma_1.5_threshold_0.6__traj_sr_40_mem_2_bdrates.csv'\n",
    "\n",
    "#>60 samples LT = 2\n",
    "file = search_for_file()\n",
    "# file = '/Users/timothytyree/Documents/GitHub/care/notebooks/Data/initial-conditions-suite-1/ds_5_param_set_8/birth-death-rates/ic_200x200.117.21_ds_5_sigma_1.5_threshold_0.6_sr_50_mem_2_tmin_100_LT_2_bdrates.csv'\n",
    "#change to the directory containing file\n",
    "folder_name = os.path.dirname(file)\n",
    "\n",
    "\n",
    "#find folder interactively. Crashes jupyter's root kernel :(\n",
    "# from tkinter import Tk\n",
    "# from tkinter.filedialog import askdirectory\n",
    "# path = askdirectory(title='Select Folder') # shows dialog box and return the path\n",
    "# print(path) "
   ]
  },
  {
   "cell_type": "code",
   "execution_count": 64,
   "metadata": {
    "ExecuteTime": {
     "end_time": "2020-09-27T21:51:44.634261Z",
     "start_time": "2020-09-27T21:51:44.580909Z"
    },
    "hidden": true
   },
   "outputs": [],
   "source": [
    "# get all .csv files in the current working directory\n",
    "os.chdir(folder_name)\n",
    "retval = !ls\n",
    "file_name_list = list(retval)\n",
    "# check each file if it ends in .csv before merging it\n",
    "def is_csv(file_name):\n",
    "    return file_name[-4:]=='.csv'\n",
    "file_name_list = [f for f in file_name_list if is_csv(f)]\n",
    "# remove all files with 'threshold'\n",
    "# file_name_list = [f for f in file_name_list if f.find('threshold')==-1]"
   ]
  },
  {
   "cell_type": "code",
   "execution_count": 65,
   "metadata": {
    "ExecuteTime": {
     "end_time": "2020-09-27T21:51:45.586897Z",
     "start_time": "2020-09-27T21:51:45.574856Z"
    },
    "hidden": true
   },
   "outputs": [
    {
     "name": "stdout",
     "output_type": "stream",
     "text": [
      "171\n"
     ]
    }
   ],
   "source": [
    "print(len(file_name_list))"
   ]
  },
  {
   "cell_type": "code",
   "execution_count": 36,
   "metadata": {
    "ExecuteTime": {
     "end_time": "2020-11-15T18:46:47.726233Z",
     "start_time": "2020-11-15T18:46:47.712552Z"
    },
    "hidden": true
   },
   "outputs": [
    {
     "name": "stdout",
     "output_type": "stream",
     "text": [
      "['ic_200x200.001.11_sr_3_mem_2_tmin_100_LT_0_bdrates.csv', 'ic_200x200.001.12_sr_3_mem_2_tmin_100_LT_0_bdrates.csv', 'ic_200x200.001.13_sr_3_mem_2_tmin_100_LT_0_bdrates.csv']\n"
     ]
    }
   ],
   "source": [
    "\n",
    "print(file_name_list[:3])"
   ]
  },
  {
   "cell_type": "code",
   "execution_count": 67,
   "metadata": {
    "ExecuteTime": {
     "end_time": "2020-09-27T21:51:51.555340Z",
     "start_time": "2020-09-27T21:51:51.542457Z"
    },
    "hidden": true
   },
   "outputs": [],
   "source": [
    "def produce_one_csv(list_of_files, file_out):\n",
    "   # Consolidate all csv files into one object\n",
    "   result_obj = pd.concat([pd.read_csv(file) for file in list_of_files])\n",
    "   # Convert the above object into a csv file and export\n",
    "   result_obj.to_csv(file_out, index=False, encoding=\"utf-8\")"
   ]
  },
  {
   "cell_type": "code",
   "execution_count": 68,
   "metadata": {
    "ExecuteTime": {
     "end_time": "2020-09-27T21:51:52.842158Z",
     "start_time": "2020-09-27T21:51:51.968258Z"
    },
    "hidden": true
   },
   "outputs": [],
   "source": [
    "# file_out = \"../consolidated_rates.csv\"\n",
    "file_out = \"../consolidated_rates-from-log.csv\"\n",
    "produce_one_csv(list_of_files=file_name_list, file_out=file_out)"
   ]
  },
  {
   "cell_type": "code",
   "execution_count": null,
   "metadata": {
    "hidden": true
   },
   "outputs": [],
   "source": []
  },
  {
   "cell_type": "markdown",
   "metadata": {
    "heading_collapsed": true
   },
   "source": [
    "# make .csv of termination times of trials"
   ]
  },
  {
   "cell_type": "code",
   "execution_count": 72,
   "metadata": {
    "ExecuteTime": {
     "end_time": "2020-10-04T01:51:10.120980Z",
     "start_time": "2020-10-04T01:51:01.623035Z"
    },
    "hidden": true
   },
   "outputs": [
    {
     "name": "stdout",
     "output_type": "stream",
     "text": [
      "File: /home/timothytyree/Documents/GitHub/care/notebooks/Data/initial-conditions-suite-2/ds_5_param_set_8/birth-death-rates-from-log-simplifiedd-set-A/ic_200x200.001.21_ds_5_sigma_1.5_threshold_0.6_bdrates.csv\n"
     ]
    }
   ],
   "source": [
    "#for one input_file_name .csv get its termination time\n",
    "file = search_for_file()\n"
   ]
  },
  {
   "cell_type": "code",
   "execution_count": 27,
   "metadata": {
    "ExecuteTime": {
     "end_time": "2020-10-04T01:27:33.010483Z",
     "start_time": "2020-10-04T01:27:32.990428Z"
    },
    "hidden": true
   },
   "outputs": [],
   "source": [
    "folder_name = os.path.dirname(file)\n",
    "file_name = os.path.basename(file)"
   ]
  },
  {
   "cell_type": "code",
   "execution_count": 45,
   "metadata": {
    "ExecuteTime": {
     "end_time": "2020-10-04T01:32:07.695286Z",
     "start_time": "2020-10-04T01:32:07.678439Z"
    },
    "hidden": true
   },
   "outputs": [],
   "source": [
    "def get_termination_time(input_file_name):\n",
    "    df = pd.read_csv(input_file_name)\n",
    "    tt = float(df.loc[df.isna()['rates']]['t'].values)\n",
    "    return tt"
   ]
  },
  {
   "cell_type": "code",
   "execution_count": 75,
   "metadata": {
    "ExecuteTime": {
     "end_time": "2020-10-04T01:53:59.582507Z",
     "start_time": "2020-10-04T01:53:59.559050Z"
    },
    "hidden": true
   },
   "outputs": [
    {
     "name": "stdout",
     "output_type": "stream",
     "text": [
      "61\n"
     ]
    }
   ],
   "source": [
    "folder_name = \"/home/timothytyree/Documents/GitHub/care/notebooks/Data/initial-conditions-suite-2/ds_5_param_set_8/birth-death-rates-from-log-simplified-set-B/\"\n",
    "\n",
    "# get all .csv files in the current working directory\n",
    "os.chdir(folder_name)\n",
    "retval = !ls\n",
    "file_name_list = list(retval)\n",
    "# check each file if it ends in .csv before merging it\n",
    "def is_csv(file_name):\n",
    "    return file_name[-4:]=='.csv'\n",
    "file_name_list = [f for f in file_name_list if is_csv(f)]\n",
    "print(len(file_name_list))"
   ]
  },
  {
   "cell_type": "code",
   "execution_count": 76,
   "metadata": {
    "ExecuteTime": {
     "end_time": "2020-10-04T01:54:03.940292Z",
     "start_time": "2020-10-04T01:54:03.804263Z"
    },
    "hidden": true
   },
   "outputs": [],
   "source": [
    "os.chdir(folder_name)\n",
    "fn_lst = []; tt_lst = []; ic_lst = []; part_lst = []; method_lst = [];\n",
    "for input_file_name in file_name_list:\n",
    "    file_name = os.path.basename(input_file_name)\n",
    "    tt = get_termination_time(input_file_name)\n",
    "    \n",
    "    ic = file_name.split('.')[1]\n",
    "    part = file_name.split('.')[2].split('_')[0]\n",
    "    \n",
    "    fn_lst.append(file_name)\n",
    "    tt_lst.append(tt)\n",
    "    ic_lst.append(ic)\n",
    "    part_lst.append(part)\n",
    "    method_lst.append('B')"
   ]
  },
  {
   "cell_type": "code",
   "execution_count": 77,
   "metadata": {
    "ExecuteTime": {
     "end_time": "2020-10-04T01:54:08.090297Z",
     "start_time": "2020-10-04T01:54:08.053442Z"
    },
    "hidden": true
   },
   "outputs": [
    {
     "name": "stdout",
     "output_type": "stream",
     "text": [
      "110\n"
     ]
    }
   ],
   "source": [
    "folder_name = \"/home/timothytyree/Documents/GitHub/care/notebooks/Data/initial-conditions-suite-2/ds_5_param_set_8/birth-death-rates-from-log-simplified-set-A\"\n",
    "\n",
    "# get all .csv files in the current working directory\n",
    "os.chdir(folder_name)\n",
    "retval = !ls\n",
    "file_name_list = list(retval)\n",
    "# check each file if it ends in .csv before merging it\n",
    "def is_csv(file_name):\n",
    "    return file_name[-4:]=='.csv'\n",
    "file_name_list = [f for f in file_name_list if is_csv(f)]\n",
    "print(len(file_name_list))\n"
   ]
  },
  {
   "cell_type": "code",
   "execution_count": 78,
   "metadata": {
    "ExecuteTime": {
     "end_time": "2020-10-04T01:54:17.498020Z",
     "start_time": "2020-10-04T01:54:17.271456Z"
    },
    "hidden": true
   },
   "outputs": [],
   "source": [
    "os.chdir(folder_name)\n",
    "# fn_lst = []; tt_lst = []; ic_lst = []; part_lst = []; method_lst = [];\n",
    "for input_file_name in file_name_list:\n",
    "    file_name = os.path.basename(input_file_name)\n",
    "    tt = get_termination_time(input_file_name)\n",
    "    \n",
    "    ic = file_name.split('.')[1]\n",
    "    part = file_name.split('.')[2].split('_')[0]\n",
    "    \n",
    "    fn_lst.append(file_name)\n",
    "    tt_lst.append(tt)\n",
    "    ic_lst.append(ic)\n",
    "    part_lst.append(part)\n",
    "    method_lst.append('A')"
   ]
  },
  {
   "cell_type": "code",
   "execution_count": 79,
   "metadata": {
    "ExecuteTime": {
     "end_time": "2020-10-04T01:54:24.915037Z",
     "start_time": "2020-10-04T01:54:24.891145Z"
    },
    "hidden": true
   },
   "outputs": [],
   "source": [
    "df = pd.DataFrame({'ic':ic_lst, 'part':part_lst, 'term_time':tt_lst, 'method':method_lst, 'file_name':fn_lst})"
   ]
  },
  {
   "cell_type": "code",
   "execution_count": 86,
   "metadata": {
    "ExecuteTime": {
     "end_time": "2020-10-04T01:57:16.661097Z",
     "start_time": "2020-10-04T01:57:16.642637Z"
    },
    "hidden": true
   },
   "outputs": [],
   "source": [
    "save_folder = os.path.join(nb_dir,'Data','initial-conditions-suite-2/ds_5_param_set_8')\n",
    "os.chdir(save_folder)\n",
    "df.to_csv('termination_times_ic_001-019.csv', index=False)"
   ]
  },
  {
   "cell_type": "markdown",
   "metadata": {
    "ExecuteTime": {
     "end_time": "2020-08-20T02:01:10.518061Z",
     "start_time": "2020-08-20T02:01:10.495129Z"
    },
    "heading_collapsed": true
   },
   "source": [
    "# plot the resultingtermination times for the desired folder of bdrates\n",
    "and then, document this, comparing to WJ's old results.  Do this with a .pdf made in OpenOffice Draw"
   ]
  },
  {
   "cell_type": "markdown",
   "metadata": {
    "ExecuteTime": {
     "end_time": "2020-10-04T01:56:51.768772Z",
     "start_time": "2020-10-04T01:56:51.722654Z"
    },
    "heading_collapsed": true,
    "hidden": true
   },
   "source": [
    "### plot termination times"
   ]
  },
  {
   "cell_type": "code",
   "execution_count": 3,
   "metadata": {
    "ExecuteTime": {
     "end_time": "2020-10-26T17:25:41.108351Z",
     "start_time": "2020-10-26T17:25:41.089470Z"
    },
    "hidden": true
   },
   "outputs": [],
   "source": [
    "file = \"/home/timothytyree/Documents/GitHub/care/notebooks/Data/initial-conditions-suite-2/ds_5_param_set_8_laurener_archive/archive-laurener/termination_times_ic_001-019.csv\""
   ]
  },
  {
   "cell_type": "code",
   "execution_count": 4,
   "metadata": {
    "ExecuteTime": {
     "end_time": "2020-10-26T17:25:49.850326Z",
     "start_time": "2020-10-26T17:25:49.820269Z"
    },
    "hidden": true
   },
   "outputs": [],
   "source": [
    "df = pd.read_csv(file)"
   ]
  },
  {
   "cell_type": "code",
   "execution_count": 5,
   "metadata": {
    "ExecuteTime": {
     "end_time": "2020-10-26T17:25:54.788549Z",
     "start_time": "2020-10-26T17:25:54.756290Z"
    },
    "hidden": true
   },
   "outputs": [
    {
     "data": {
      "text/html": [
       "<div>\n",
       "<style scoped>\n",
       "    .dataframe tbody tr th:only-of-type {\n",
       "        vertical-align: middle;\n",
       "    }\n",
       "\n",
       "    .dataframe tbody tr th {\n",
       "        vertical-align: top;\n",
       "    }\n",
       "\n",
       "    .dataframe thead th {\n",
       "        text-align: right;\n",
       "    }\n",
       "</style>\n",
       "<table border=\"1\" class=\"dataframe\">\n",
       "  <thead>\n",
       "    <tr style=\"text-align: right;\">\n",
       "      <th></th>\n",
       "      <th>ic</th>\n",
       "      <th>part</th>\n",
       "      <th>term_time</th>\n",
       "      <th>method</th>\n",
       "      <th>file_name</th>\n",
       "    </tr>\n",
       "  </thead>\n",
       "  <tbody>\n",
       "    <tr>\n",
       "      <th>0</th>\n",
       "      <td>1</td>\n",
       "      <td>33</td>\n",
       "      <td>96605.0</td>\n",
       "      <td>B</td>\n",
       "      <td>ic_200x200.001.33_bdrates.csv</td>\n",
       "    </tr>\n",
       "    <tr>\n",
       "      <th>1</th>\n",
       "      <td>2</td>\n",
       "      <td>11</td>\n",
       "      <td>51365.0</td>\n",
       "      <td>B</td>\n",
       "      <td>ic_200x200.002.11_bdrates.csv</td>\n",
       "    </tr>\n",
       "    <tr>\n",
       "      <th>2</th>\n",
       "      <td>2</td>\n",
       "      <td>12</td>\n",
       "      <td>65162.5</td>\n",
       "      <td>B</td>\n",
       "      <td>ic_200x200.002.12_bdrates.csv</td>\n",
       "    </tr>\n",
       "    <tr>\n",
       "      <th>3</th>\n",
       "      <td>2</td>\n",
       "      <td>13</td>\n",
       "      <td>70932.5</td>\n",
       "      <td>B</td>\n",
       "      <td>ic_200x200.002.13_bdrates.csv</td>\n",
       "    </tr>\n",
       "    <tr>\n",
       "      <th>4</th>\n",
       "      <td>2</td>\n",
       "      <td>21</td>\n",
       "      <td>24097.5</td>\n",
       "      <td>B</td>\n",
       "      <td>ic_200x200.002.21_bdrates.csv</td>\n",
       "    </tr>\n",
       "  </tbody>\n",
       "</table>\n",
       "</div>"
      ],
      "text/plain": [
       "   ic  part  term_time method                      file_name\n",
       "0   1    33    96605.0      B  ic_200x200.001.33_bdrates.csv\n",
       "1   2    11    51365.0      B  ic_200x200.002.11_bdrates.csv\n",
       "2   2    12    65162.5      B  ic_200x200.002.12_bdrates.csv\n",
       "3   2    13    70932.5      B  ic_200x200.002.13_bdrates.csv\n",
       "4   2    21    24097.5      B  ic_200x200.002.21_bdrates.csv"
      ]
     },
     "execution_count": 5,
     "metadata": {},
     "output_type": "execute_result"
    }
   ],
   "source": [
    "df.head()"
   ]
  },
  {
   "cell_type": "code",
   "execution_count": 8,
   "metadata": {
    "ExecuteTime": {
     "end_time": "2020-10-26T17:26:50.220071Z",
     "start_time": "2020-10-26T17:26:50.204848Z"
    },
    "hidden": true
   },
   "outputs": [],
   "source": [
    "termination_times = df.term_time.values"
   ]
  },
  {
   "cell_type": "code",
   "execution_count": 10,
   "metadata": {
    "ExecuteTime": {
     "end_time": "2020-10-26T17:27:57.362167Z",
     "start_time": "2020-10-26T17:27:56.891905Z"
    },
    "hidden": true
   },
   "outputs": [
    {
     "name": "stdout",
     "output_type": "stream",
     "text": [
      "saved figure in \n",
      "\thistogram_termination_times_suite-2-log.png.\n"
     ]
    },
    {
     "data": {
      "image/png": "[encoded data removed]",
      "text/plain": [
       "<Figure size 360x360 with 1 Axes>"
      ]
     },
     "metadata": {
      "needs_background": "light"
     },
     "output_type": "display_data"
    }
   ],
   "source": [
    "r = 10**3/np.mean(termination_times)\n",
    "def P(k,t):\n",
    "    '''the probability that k events occur in time t'''\n",
    "    return (r*t)**k*np.exp(-r*t)/np.math.factorial(k)\n",
    "\n",
    "#plot the histogram of termination times\n",
    "saving = True\n",
    "fontsize=16\n",
    "\n",
    "savefig_dir = f'{nb_dir}/Figures/birth_death_analysis'\n",
    "savefig_fn = 'histogram_termination_times_suite-2-log.png'\n",
    "\n",
    "fig, ax = plt.subplots(figsize=(5, 5))\n",
    "ax.hist(np.array(termination_times)/10**3, bins = 10)\n",
    "\n",
    "#overlay a poisson distribution\n",
    "N = len(termination_times)\n",
    "x_values = np.linspace(1,220000,100)/10**3\n",
    "y_values = N*P(0,x_values)\n",
    "ax.plot(x_values,y_values)\n",
    "\n",
    "#format plot\n",
    "# plt.title(f'''termination times for 9 200x200 patches''', fontsize=fontsize)\n",
    "ax.set_ylabel('freq.', fontsize=fontsize)\n",
    "ax.set_xlabel('termination times (s)', fontsize=fontsize)\n",
    "ax.tick_params(axis='both', which='both', labelsize=fontsize)\n",
    "# ax.set_ylim((0,80))\n",
    "ax.set_yscale('log')\n",
    "if not saving: \n",
    "    plt.show() \n",
    "else:\n",
    "    plt.tight_layout()\n",
    "    os.chdir(savefig_dir)\n",
    "    plt.savefig(savefig_fn, dpi=300)\n",
    "    print(f\"saved figure in \\n\\t{savefig_fn}.\")"
   ]
  },
  {
   "cell_type": "code",
   "execution_count": 12,
   "metadata": {
    "ExecuteTime": {
     "end_time": "2020-10-26T17:32:16.791655Z",
     "start_time": "2020-10-26T17:32:16.768954Z"
    },
    "hidden": true
   },
   "outputs": [
    {
     "data": {
      "text/plain": [
       "30240.352339083354"
      ]
     },
     "execution_count": 12,
     "metadata": {},
     "output_type": "execute_result"
    }
   ],
   "source": [
    "np.mean(termination_times)"
   ]
  },
  {
   "cell_type": "code",
   "execution_count": 13,
   "metadata": {
    "ExecuteTime": {
     "end_time": "2020-10-26T17:32:28.561464Z",
     "start_time": "2020-10-26T17:32:28.541929Z"
    },
    "hidden": true
   },
   "outputs": [
    {
     "data": {
      "text/plain": [
       "32597.54377007532"
      ]
     },
     "execution_count": 13,
     "metadata": {},
     "output_type": "execute_result"
    }
   ],
   "source": [
    "np.std(termination_times)"
   ]
  },
  {
   "cell_type": "markdown",
   "metadata": {
    "heading_collapsed": true
   },
   "source": [
    "# move all files matching a condition from one folder to another"
   ]
  },
  {
   "cell_type": "code",
   "execution_count": 3,
   "metadata": {
    "ExecuteTime": {
     "end_time": "2020-11-15T18:15:38.071804Z",
     "start_time": "2020-11-15T18:15:25.037258Z"
    },
    "hidden": true
   },
   "outputs": [
    {
     "name": "stdout",
     "output_type": "stream",
     "text": [
      "File: /home/timothytyree/Documents/GitHub/care/notebooks/Data/initial-conditions-suite-2/ds_5_param_set_8/Log/ic_200x200.001.12_sr_3_mem_2_tmin_100_LT_0_bdrates.csv\n"
     ]
    }
   ],
   "source": [
    "# os.path.join(nb_dir, ''\n",
    "file = search_for_file(nb_dir)"
   ]
  },
  {
   "cell_type": "code",
   "execution_count": 4,
   "metadata": {
    "ExecuteTime": {
     "end_time": "2020-11-15T18:16:57.447975Z",
     "start_time": "2020-11-15T18:16:57.435339Z"
    },
    "hidden": true
   },
   "outputs": [],
   "source": [
    "file = \"/home/timothytyree/Documents/GitHub/care/notebooks/Data/initial-conditions-suite-2/ds_5_param_set_8/Log/ic_200x200.001.12_sr_3_mem_2_tmin_100_LT_0_bdrates.csv\""
   ]
  },
  {
   "cell_type": "code",
   "execution_count": 10,
   "metadata": {
    "ExecuteTime": {
     "end_time": "2020-11-15T18:20:08.807350Z",
     "start_time": "2020-11-15T18:20:08.793737Z"
    },
    "hidden": true
   },
   "outputs": [],
   "source": [
    "fn = os.path.basename(file)\n",
    "folder_in = os.path.dirname(file)\n",
    "folder_out = folder_in.replace('/Log','/birth-death-rates')"
   ]
  },
  {
   "cell_type": "code",
   "execution_count": 11,
   "metadata": {
    "ExecuteTime": {
     "end_time": "2020-11-15T18:21:37.078825Z",
     "start_time": "2020-11-15T18:21:37.065910Z"
    },
    "hidden": true
   },
   "outputs": [
    {
     "data": {
      "text/plain": [
       "True"
      ]
     },
     "execution_count": 11,
     "metadata": {},
     "output_type": "execute_result"
    }
   ],
   "source": [
    "def is_target(file_name, target = '_log.csv'):\n",
    "    return file_name[-len(target):]==target"
   ]
  },
  {
   "cell_type": "code",
   "execution_count": 19,
   "metadata": {
    "ExecuteTime": {
     "end_time": "2020-11-15T18:23:30.134884Z",
     "start_time": "2020-11-15T18:23:30.119731Z"
    },
    "hidden": true
   },
   "outputs": [],
   "source": [
    "os.chdir(folder_in)\n",
    "input_fn_list = os.listdir()\n",
    "input_fn_list = [fn for fn in input_fn_list if is_target(fn,target='_bdrates.csv')]"
   ]
  },
  {
   "cell_type": "code",
   "execution_count": 22,
   "metadata": {
    "ExecuteTime": {
     "end_time": "2020-11-15T18:36:01.154515Z",
     "start_time": "2020-11-15T18:36:01.140509Z"
    },
    "hidden": true
   },
   "outputs": [
    {
     "data": {
      "text/plain": [
       "165"
      ]
     },
     "execution_count": 22,
     "metadata": {},
     "output_type": "execute_result"
    }
   ],
   "source": [
    "len(input_fn_list)"
   ]
  },
  {
   "cell_type": "code",
   "execution_count": 25,
   "metadata": {
    "ExecuteTime": {
     "end_time": "2020-11-15T18:38:17.440594Z",
     "start_time": "2020-11-15T18:38:17.215487Z"
    },
    "hidden": true
   },
   "outputs": [
    {
     "data": {
      "text/plain": [
       "0"
      ]
     },
     "execution_count": 25,
     "metadata": {},
     "output_type": "execute_result"
    }
   ],
   "source": [
    "for fn in input_fn_list:\n",
    "    src = os.path.join(folder_in,fn)\n",
    "    dst = os.path.join(folder_out,fn)\n",
    "    os.rename(src,dst)\n",
    "beep(1)"
   ]
  },
  {
   "cell_type": "code",
   "execution_count": 26,
   "metadata": {
    "ExecuteTime": {
     "end_time": "2020-11-15T18:40:32.253419Z",
     "start_time": "2020-11-15T18:40:32.230588Z"
    },
    "hidden": true
   },
   "outputs": [
    {
     "name": "stdout",
     "output_type": "stream",
     "text": [
      "/home/timothytyree/Documents/GitHub/care/notebooks/Data/initial-conditions-suite-2/ds_5_param_set_8/birth-death-rates/ic_200x200.007.22_sr_3_mem_2_tmin_100_LT_0_bdrates.csv\n"
     ]
    }
   ],
   "source": [
    "print(dst)"
   ]
  },
  {
   "cell_type": "markdown",
   "metadata": {
    "heading_collapsed": true
   },
   "source": [
    "# TODO: investigate this particular 'fast double death' in depth\n",
    "11.15.2020<br>\n",
    "'ic_200x200.007.11_sr_3_mem_2_tmin_100_LT_0_bdrates.csv' (it's a very short file!)\n",
    "- [] compare bdrates to log.  are the tip timeseries consisent?\n",
    "- [] determine whether the tips are very close to one another\n",
    "- [] consider plotting these tips over the original texture\n",
    "- [] does any of ^this validate collecting these fast double deaths as \"quadruple deaths\"?\n",
    "    - if so, I should look at bdrates resulting from rows dropped that have an n_tips that changes rapidly.\n",
    "    \n"
   ]
  },
  {
   "cell_type": "markdown",
   "metadata": {
    "hidden": true
   },
   "source": [
    "__Possible Explanation of High Freq. Birth Death Rates__\n",
    "\n",
    "Tips create/annihilate in pairs.  Claim: if the sampling frequency is sufficiently small and the numerical precision is sufficiently small, then birth-deaths will only occur in pairs for any system that lacks any global geometric symmetry.\n",
    "\n",
    "If sampling frequency is not small, then two birth/death events could be captured in the same time interval.\n",
    "\n",
    "__Hypothesis:__\n",
    "\n",
    "If we raise the sampling frequency enough (perhaps above 2ms or 10ms), then only low frequency birth-death events will be observed, and WJ's results will be reproduced.\n",
    "\n",
    "\n"
   ]
  },
  {
   "cell_type": "markdown",
   "metadata": {
    "heading_collapsed": true
   },
   "source": [
    "# Compute birth-death rates, subsampling the logs\n",
    "11.15.2020\n",
    "- ^this is much easier than manually collecting bd events, and is easily turned into a condition for collecting data.\n"
   ]
  },
  {
   "cell_type": "code",
   "execution_count": 3,
   "metadata": {
    "ExecuteTime": {
     "end_time": "2020-11-28T22:09:45.604123Z",
     "start_time": "2020-11-28T22:09:25.980233Z"
    },
    "hidden": true
   },
   "outputs": [
    {
     "name": "stdout",
     "output_type": "stream",
     "text": [
      "File: /Users/timothytyree/Documents/GitHub/care/notebooks/Data/test_data/fast_kernel_V_0.6/ic_200x200.001.13_log.csv\n",
      "/Users/timothytyree/Documents/GitHub/care/notebooks/Data/test_data/fast_kernel_V_0.6/ic_200x200.001.13_log.csv\n"
     ]
    }
   ],
   "source": [
    "def compute_bdrates_from_log_w_subsampling(src,min_time_between_samples, **kwargs):\n",
    "    df = pd.read_csv(src)\n",
    "\n",
    "    #subsample tip log rows to mimick lower sampling rates\n",
    "    times_raw = sorted(set(df.t.values))\n",
    "    times_filtered = []\n",
    "    time_counter = min_time_between_samples\n",
    "    while len(times_raw)>1:\n",
    "        DT = times_raw[1]-times_raw[0] #suppose constant sampling period\n",
    "        t = times_raw.pop(0)\n",
    "        time_counter += DT\n",
    "        if time_counter >= min_time_between_samples:\n",
    "            times_filtered.append(t)\n",
    "            time_counter = 0\n",
    "\n",
    "\n",
    "    #make a boolean index for these times_filtered\n",
    "    boo = df.t==-9999\n",
    "    for t in times_filtered:\n",
    "        boo |= df.t==t\n",
    "\n",
    "    #extract the timeseries of tip number\n",
    "    n_series = df[boo].n\n",
    "    t_series = df[boo].t\n",
    "\n",
    "    #compute birth-death rates\n",
    "    #store as a pandas.DataFrame\n",
    "    df = pd.DataFrame({\"t\":n_series.index.values,\"n\":n_series.values})\n",
    "\n",
    "\n",
    "    #compute birth death rates\n",
    "    df['dn'] = df.n.diff().shift(-1)\n",
    "    df = df.query('dn != 0').copy()\n",
    "    rates = 1/df['t'].diff().shift(-1).dropna() # birth death rates in unites of 1/ms\n",
    "    df['rates'] = rates\n",
    "\n",
    "    return df\n",
    "\n",
    "#test cases for computing birth death rates from tip log resulting from the fast tip detection kernel \n",
    "# input_file_name = file_name_list[0]\n",
    "# src = os.path.join(folder_name,input_file_name)\n",
    "# src = \"/home/timothytyree/Documents/GitHub/care/notebooks/Data/initial-conditions-suite-2/ds_5_param_set_8/Log/ic_200x200.001.11_log.csv\"\n",
    "# src = search_for_file()\n",
    "src = \"/Users/timothytyree/Documents/GitHub/care/notebooks/Data/test_data/fast_kernel_V_0.6/ic_200x200.001.13_log.csv\"\n",
    "min_time_between_samples = 10 #milliseconds\n",
    "df = compute_bdrates_from_log_w_subsampling(src,min_time_between_samples)\n",
    "assert ( type(df) is type (pd.DataFrame()) )\n",
    "assert ( df.dn.size > 0 ) \n",
    "print( src )"
   ]
  },
  {
   "cell_type": "code",
   "execution_count": 13,
   "metadata": {
    "ExecuteTime": {
     "end_time": "2020-11-28T22:13:29.175427Z",
     "start_time": "2020-11-28T22:13:28.358802Z"
    },
    "hidden": true
   },
   "outputs": [],
   "source": [
    "# - TODO: fix compute_bdrates_from_log_w_subsampling to compute from times instead of indices.\n",
    "\n",
    "print( src )\n",
    "df = pd.read_csv(src)\n",
    "#compute birth death rates\n",
    "df['dn'] = df.n.diff().shift(-1)\n",
    "df = df.query('dn != 0').copy()\n",
    "# #extract the timeseries of tip number\n",
    "# n_series = df.n#df[boo].n\n",
    "# t_series = df.t#df[boo].t\n",
    "\n",
    "time_to_next_event = df.t.diff().shift(-1).values\n",
    "event_times = df.t.values\n",
    "print(1/time_to_next_event)\n",
    "print(event_times)"
   ]
  },
  {
   "cell_type": "code",
   "execution_count": 205,
   "metadata": {
    "ExecuteTime": {
     "end_time": "2020-11-15T21:01:04.922519Z",
     "start_time": "2020-11-15T21:01:04.909756Z"
    },
    "hidden": true
   },
   "outputs": [],
   "source": [
    "def log_to_bdrates_routine(input_file_name, save_folder, min_time_between_samples):\n",
    "    '''input_file_name contains the log of spiral tips.  birth-death rates are computed and saved to output_file_name.\n",
    "    subsampling is used, such that the time between two frames is no less than min_time_between_samples'''\n",
    "    #compute the input/output absolute paths\n",
    "    #     src = os.path.join(folder_name,os.path.basename(input_file_name))\n",
    "    output_file_name = os.path.basename(input_file_name).replace('log.csv','bdrates.csv')\n",
    "    dst = os.path.join(save_folder,output_file_name)    \n",
    "    df = compute_bdrates_from_log_w_subsampling(input_file_name,min_time_between_samples=min_time_between_samples)\n",
    "\n",
    "    #save birth death rates to a file named according to all of the relevant parameters in a special folder.\n",
    "    df.to_csv(dst, index=False, encoding=\"utf-8\")\n",
    "    return dst"
   ]
  },
  {
   "cell_type": "code",
   "execution_count": 207,
   "metadata": {
    "ExecuteTime": {
     "end_time": "2020-11-15T21:01:23.177509Z",
     "start_time": "2020-11-15T21:01:23.163938Z"
    },
    "hidden": true
   },
   "outputs": [],
   "source": [
    "def produce_one_csv(list_of_files, file_out):\n",
    "   # Consolidate all csv files into one object\n",
    "   result_obj = pd.concat([pd.read_csv(file) for file in list_of_files])\n",
    "   # Convert the above object into a csv file and export\n",
    "   result_obj.to_csv(file_out, index=False, encoding=\"utf-8\")"
   ]
  },
  {
   "cell_type": "code",
   "execution_count": 185,
   "metadata": {
    "ExecuteTime": {
     "end_time": "2020-11-15T20:37:06.337746Z",
     "start_time": "2020-11-15T20:36:55.087215Z"
    },
    "hidden": true,
    "scrolled": true
   },
   "outputs": [
    {
     "name": "stdout",
     "output_type": "stream",
     "text": [
      "please select a file from within the desired folder.\n",
      "File: /home/timothytyree/Documents/GitHub/care/notebooks/Data/initial-conditions-suite-2/ds_5_param_set_8/Log/ic_200x200.001.13_log.csv\n"
     ]
    }
   ],
   "source": [
    "#get a folder of filenames of tip log files ending in log.csv\n",
    "#find file interactively\n",
    "print(\"please select a file from within the desired folder.\")\n",
    "file = search_for_file()\n",
    "folder_name = os.path.dirname(file)\n",
    "os.chdir(folder_name)\n",
    "\n",
    "# get all .csv files in the current working directory\n",
    "retval = !ls\n",
    "file_name_list = list(retval)\n",
    "# check each file if it ends in .csv before merging it\n",
    "def is_target(file_name, target = '_log.csv'):\n",
    "    return file_name[-len(target):]==target\n",
    "\n",
    "file_name_list = [os.path.join(folder_name,f) for f in file_name_list if is_target(f, target = 'log.csv')]"
   ]
  },
  {
   "cell_type": "code",
   "execution_count": 186,
   "metadata": {
    "ExecuteTime": {
     "end_time": "2020-11-15T20:37:18.798228Z",
     "start_time": "2020-11-15T20:37:18.782450Z"
    },
    "hidden": true
   },
   "outputs": [
    {
     "name": "stdout",
     "output_type": "stream",
     "text": [
      "created save folder at /home/timothytyree/Documents/GitHub/care/notebooks/Data/initial-conditions-suite-2/ds_5_param_set_8/birth-death-rates-sampled-every-20-ms.\n"
     ]
    }
   ],
   "source": [
    "min_time_between_samples = 20 #milliseconds\n",
    "\n",
    "#create a save_folder, for bdrates if it doesn't already exist\n",
    "base_folder = os.path.dirname(folder_name)\n",
    "save_folder_name = os.path.join(base_folder,f'birth-death-rates-sampled-every-{min_time_between_samples}-ms')\n",
    "save_folder = os.path.join(base_folder,save_folder_name)\n",
    "if not os.path.exists(save_folder):\n",
    "    os.chdir(base_folder)\n",
    "    os.mkdir(save_folder_name)\n",
    "    print(f\"created save folder at {save_folder}.\")"
   ]
  },
  {
   "cell_type": "code",
   "execution_count": 187,
   "metadata": {
    "ExecuteTime": {
     "end_time": "2020-11-15T20:37:43.919666Z",
     "start_time": "2020-11-15T20:37:20.673439Z"
    },
    "hidden": true
   },
   "outputs": [
    {
     "name": "stdout",
     "output_type": "stream",
     "text": [
      "this should be an absolute path:\n",
      "/home/timothytyree/Documents/GitHub/care/notebooks/Data/initial-conditions-suite-2/ds_5_param_set_8/Log/ic_200x200.001.11_log.csv\n"
     ]
    }
   ],
   "source": [
    "#run routine\n",
    "print('this should be an absolute path:')\n",
    "print(file_name_list[0])\n",
    "output_file_name_list = []\n",
    "for input_file_name in file_name_list:\n",
    "    outdir = log_to_bdrates_routine(input_file_name, save_folder, min_time_between_samples)\n",
    "    output_file_name_list.append(outdir)"
   ]
  },
  {
   "cell_type": "code",
   "execution_count": 188,
   "metadata": {
    "ExecuteTime": {
     "end_time": "2020-11-15T20:37:48.533732Z",
     "start_time": "2020-11-15T20:37:48.279855Z"
    },
    "hidden": true
   },
   "outputs": [],
   "source": [
    "# file_out = \"../consolidated_rates.csv\"\n",
    "os.chdir(save_folder)\n",
    "file_out = f\"../consolidated_rates-sampled-every-{min_time_between_samples}-ms.csv\"\n",
    "produce_one_csv(list_of_files=output_file_name_list, file_out=file_out)"
   ]
  },
  {
   "cell_type": "code",
   "execution_count": 189,
   "metadata": {
    "ExecuteTime": {
     "end_time": "2020-11-15T20:37:49.996757Z",
     "start_time": "2020-11-15T20:37:49.984758Z"
    },
    "hidden": true
   },
   "outputs": [
    {
     "name": "stdout",
     "output_type": "stream",
     "text": [
      "171\n"
     ]
    }
   ],
   "source": [
    "print(len(output_file_name_list))"
   ]
  },
  {
   "cell_type": "markdown",
   "metadata": {
    "ExecuteTime": {
     "end_time": "2020-11-15T20:32:58.764461Z",
     "start_time": "2020-11-15T20:32:58.740014Z"
    },
    "heading_collapsed": true,
    "hidden": true
   },
   "source": [
    "### run this for a collection of min_time_between_samples"
   ]
  },
  {
   "cell_type": "code",
   "execution_count": 208,
   "metadata": {
    "ExecuteTime": {
     "end_time": "2020-11-15T21:01:31.212767Z",
     "start_time": "2020-11-15T21:01:31.198102Z"
    },
    "hidden": true
   },
   "outputs": [
    {
     "data": {
      "text/plain": [
       "'/home/timothytyree/Documents/GitHub/care/notebooks/Data/initial-conditions-suite-2/ds_5_param_set_8/Log/ic_200x200.019.33_log.csv'"
      ]
     },
     "execution_count": 208,
     "metadata": {},
     "output_type": "execute_result"
    }
   ],
   "source": [
    "input_file_name"
   ]
  },
  {
   "cell_type": "code",
   "execution_count": 214,
   "metadata": {
    "ExecuteTime": {
     "end_time": "2020-11-15T22:50:48.458893Z",
     "start_time": "2020-11-15T21:39:36.438319Z"
    },
    "hidden": true
   },
   "outputs": [
    {
     "name": "stdout",
     "output_type": "stream",
     "text": [
      "171\n"
     ]
    },
    {
     "ename": "KeyboardInterrupt",
     "evalue": "",
     "output_type": "error",
     "traceback": [
      "\u001b[0;31m---------------------------------------------------------------------------\u001b[0m",
      "\u001b[0;31mKeyboardInterrupt\u001b[0m                         Traceback (most recent call last)",
      "\u001b[0;32m<ipython-input-214-fc5ba1ae3ab5>\u001b[0m in \u001b[0;36m<module>\u001b[0;34m\u001b[0m\n\u001b[1;32m     13\u001b[0m     \u001b[0moutput_file_name_list\u001b[0m \u001b[0;34m=\u001b[0m \u001b[0;34m[\u001b[0m\u001b[0;34m]\u001b[0m\u001b[0;34m\u001b[0m\u001b[0;34m\u001b[0m\u001b[0m\n\u001b[1;32m     14\u001b[0m     \u001b[0;32mfor\u001b[0m \u001b[0minput_file_name\u001b[0m \u001b[0;32min\u001b[0m \u001b[0mfile_name_list\u001b[0m\u001b[0;34m:\u001b[0m\u001b[0;34m\u001b[0m\u001b[0;34m\u001b[0m\u001b[0m\n\u001b[0;32m---> 15\u001b[0;31m         \u001b[0moutdir\u001b[0m \u001b[0;34m=\u001b[0m \u001b[0mlog_to_bdrates_routine\u001b[0m\u001b[0;34m(\u001b[0m\u001b[0minput_file_name\u001b[0m\u001b[0;34m,\u001b[0m \u001b[0msave_folder\u001b[0m\u001b[0;34m,\u001b[0m \u001b[0mmin_time_between_samples\u001b[0m\u001b[0;34m)\u001b[0m\u001b[0;34m\u001b[0m\u001b[0;34m\u001b[0m\u001b[0m\n\u001b[0m\u001b[1;32m     16\u001b[0m         \u001b[0moutput_file_name_list\u001b[0m\u001b[0;34m.\u001b[0m\u001b[0mappend\u001b[0m\u001b[0;34m(\u001b[0m\u001b[0moutdir\u001b[0m\u001b[0;34m)\u001b[0m\u001b[0;34m\u001b[0m\u001b[0;34m\u001b[0m\u001b[0m\n\u001b[1;32m     17\u001b[0m \u001b[0;34m\u001b[0m\u001b[0m\n",
      "\u001b[0;32m<ipython-input-205-d5cc8f3dcef5>\u001b[0m in \u001b[0;36mlog_to_bdrates_routine\u001b[0;34m(input_file_name, save_folder, min_time_between_samples)\u001b[0m\n\u001b[1;32m      6\u001b[0m     \u001b[0moutput_file_name\u001b[0m \u001b[0;34m=\u001b[0m \u001b[0mos\u001b[0m\u001b[0;34m.\u001b[0m\u001b[0mpath\u001b[0m\u001b[0;34m.\u001b[0m\u001b[0mbasename\u001b[0m\u001b[0;34m(\u001b[0m\u001b[0minput_file_name\u001b[0m\u001b[0;34m)\u001b[0m\u001b[0;34m.\u001b[0m\u001b[0mreplace\u001b[0m\u001b[0;34m(\u001b[0m\u001b[0;34m'log.csv'\u001b[0m\u001b[0;34m,\u001b[0m\u001b[0;34m'bdrates.csv'\u001b[0m\u001b[0;34m)\u001b[0m\u001b[0;34m\u001b[0m\u001b[0;34m\u001b[0m\u001b[0m\n\u001b[1;32m      7\u001b[0m     \u001b[0mdst\u001b[0m \u001b[0;34m=\u001b[0m \u001b[0mos\u001b[0m\u001b[0;34m.\u001b[0m\u001b[0mpath\u001b[0m\u001b[0;34m.\u001b[0m\u001b[0mjoin\u001b[0m\u001b[0;34m(\u001b[0m\u001b[0msave_folder\u001b[0m\u001b[0;34m,\u001b[0m\u001b[0moutput_file_name\u001b[0m\u001b[0;34m)\u001b[0m\u001b[0;34m\u001b[0m\u001b[0;34m\u001b[0m\u001b[0m\n\u001b[0;32m----> 8\u001b[0;31m     \u001b[0mdf\u001b[0m \u001b[0;34m=\u001b[0m \u001b[0mcompute_bdrates_from_log_w_subsampling\u001b[0m\u001b[0;34m(\u001b[0m\u001b[0minput_file_name\u001b[0m\u001b[0;34m,\u001b[0m\u001b[0mmin_time_between_samples\u001b[0m\u001b[0;34m=\u001b[0m\u001b[0mmin_time_between_samples\u001b[0m\u001b[0;34m)\u001b[0m\u001b[0;34m\u001b[0m\u001b[0;34m\u001b[0m\u001b[0m\n\u001b[0m\u001b[1;32m      9\u001b[0m \u001b[0;34m\u001b[0m\u001b[0m\n\u001b[1;32m     10\u001b[0m     \u001b[0;31m#save birth death rates to a file named according to all of the relevant parameters in a special folder.\u001b[0m\u001b[0;34m\u001b[0m\u001b[0;34m\u001b[0m\u001b[0;34m\u001b[0m\u001b[0m\n",
      "\u001b[0;32m<ipython-input-204-53783ac0bdd9>\u001b[0m in \u001b[0;36mcompute_bdrates_from_log_w_subsampling\u001b[0;34m(src, min_time_between_samples, **kwargs)\u001b[0m\n\u001b[1;32m     18\u001b[0m     \u001b[0mboo\u001b[0m \u001b[0;34m=\u001b[0m \u001b[0mdf\u001b[0m\u001b[0;34m.\u001b[0m\u001b[0mt\u001b[0m\u001b[0;34m==\u001b[0m\u001b[0;34m-\u001b[0m\u001b[0;36m9999\u001b[0m\u001b[0;34m\u001b[0m\u001b[0;34m\u001b[0m\u001b[0m\n\u001b[1;32m     19\u001b[0m     \u001b[0;32mfor\u001b[0m \u001b[0mt\u001b[0m \u001b[0;32min\u001b[0m \u001b[0mtimes_filtered\u001b[0m\u001b[0;34m:\u001b[0m\u001b[0;34m\u001b[0m\u001b[0;34m\u001b[0m\u001b[0m\n\u001b[0;32m---> 20\u001b[0;31m         \u001b[0mboo\u001b[0m \u001b[0;34m|=\u001b[0m \u001b[0mdf\u001b[0m\u001b[0;34m.\u001b[0m\u001b[0mt\u001b[0m\u001b[0;34m==\u001b[0m\u001b[0mt\u001b[0m\u001b[0;34m\u001b[0m\u001b[0;34m\u001b[0m\u001b[0m\n\u001b[0m\u001b[1;32m     21\u001b[0m \u001b[0;34m\u001b[0m\u001b[0m\n\u001b[1;32m     22\u001b[0m     \u001b[0;31m#extract the timeseries of tip number\u001b[0m\u001b[0;34m\u001b[0m\u001b[0;34m\u001b[0m\u001b[0;34m\u001b[0m\u001b[0m\n",
      "\u001b[0;32m~/anaconda3/lib/python3.7/site-packages/pandas/core/ops/methods.py\u001b[0m in \u001b[0;36mf\u001b[0;34m(self, other)\u001b[0m\n\u001b[1;32m     93\u001b[0m \u001b[0;34m\u001b[0m\u001b[0m\n\u001b[1;32m     94\u001b[0m         \u001b[0;32mdef\u001b[0m \u001b[0mf\u001b[0m\u001b[0;34m(\u001b[0m\u001b[0mself\u001b[0m\u001b[0;34m,\u001b[0m \u001b[0mother\u001b[0m\u001b[0;34m)\u001b[0m\u001b[0;34m:\u001b[0m\u001b[0;34m\u001b[0m\u001b[0;34m\u001b[0m\u001b[0m\n\u001b[0;32m---> 95\u001b[0;31m             \u001b[0mresult\u001b[0m \u001b[0;34m=\u001b[0m \u001b[0mmethod\u001b[0m\u001b[0;34m(\u001b[0m\u001b[0mself\u001b[0m\u001b[0;34m,\u001b[0m \u001b[0mother\u001b[0m\u001b[0;34m)\u001b[0m\u001b[0;34m\u001b[0m\u001b[0;34m\u001b[0m\u001b[0m\n\u001b[0m\u001b[1;32m     96\u001b[0m \u001b[0;34m\u001b[0m\u001b[0m\n\u001b[1;32m     97\u001b[0m             \u001b[0;31m# this makes sure that we are aligned like the input\u001b[0m\u001b[0;34m\u001b[0m\u001b[0;34m\u001b[0m\u001b[0;34m\u001b[0m\u001b[0m\n",
      "\u001b[0;32m~/anaconda3/lib/python3.7/site-packages/pandas/core/ops/common.py\u001b[0m in \u001b[0;36mnew_method\u001b[0;34m(self, other)\u001b[0m\n\u001b[1;32m     62\u001b[0m         \u001b[0mother\u001b[0m \u001b[0;34m=\u001b[0m \u001b[0mitem_from_zerodim\u001b[0m\u001b[0;34m(\u001b[0m\u001b[0mother\u001b[0m\u001b[0;34m)\u001b[0m\u001b[0;34m\u001b[0m\u001b[0;34m\u001b[0m\u001b[0m\n\u001b[1;32m     63\u001b[0m \u001b[0;34m\u001b[0m\u001b[0m\n\u001b[0;32m---> 64\u001b[0;31m         \u001b[0;32mreturn\u001b[0m \u001b[0mmethod\u001b[0m\u001b[0;34m(\u001b[0m\u001b[0mself\u001b[0m\u001b[0;34m,\u001b[0m \u001b[0mother\u001b[0m\u001b[0;34m)\u001b[0m\u001b[0;34m\u001b[0m\u001b[0;34m\u001b[0m\u001b[0m\n\u001b[0m\u001b[1;32m     65\u001b[0m \u001b[0;34m\u001b[0m\u001b[0m\n\u001b[1;32m     66\u001b[0m     \u001b[0;32mreturn\u001b[0m \u001b[0mnew_method\u001b[0m\u001b[0;34m\u001b[0m\u001b[0;34m\u001b[0m\u001b[0m\n",
      "\u001b[0;32m~/anaconda3/lib/python3.7/site-packages/pandas/core/ops/__init__.py\u001b[0m in \u001b[0;36mwrapper\u001b[0;34m(self, other)\u001b[0m\n\u001b[1;32m    550\u001b[0m         \u001b[0mrvalues\u001b[0m \u001b[0;34m=\u001b[0m \u001b[0mextract_array\u001b[0m\u001b[0;34m(\u001b[0m\u001b[0mother\u001b[0m\u001b[0;34m,\u001b[0m \u001b[0mextract_numpy\u001b[0m\u001b[0;34m=\u001b[0m\u001b[0;32mTrue\u001b[0m\u001b[0;34m)\u001b[0m\u001b[0;34m\u001b[0m\u001b[0;34m\u001b[0m\u001b[0m\n\u001b[1;32m    551\u001b[0m \u001b[0;34m\u001b[0m\u001b[0m\n\u001b[0;32m--> 552\u001b[0;31m         \u001b[0mres_values\u001b[0m \u001b[0;34m=\u001b[0m \u001b[0mlogical_op\u001b[0m\u001b[0;34m(\u001b[0m\u001b[0mlvalues\u001b[0m\u001b[0;34m,\u001b[0m \u001b[0mrvalues\u001b[0m\u001b[0;34m,\u001b[0m \u001b[0mop\u001b[0m\u001b[0;34m)\u001b[0m\u001b[0;34m\u001b[0m\u001b[0;34m\u001b[0m\u001b[0m\n\u001b[0m\u001b[1;32m    553\u001b[0m         \u001b[0;32mreturn\u001b[0m \u001b[0m_construct_result\u001b[0m\u001b[0;34m(\u001b[0m\u001b[0mself\u001b[0m\u001b[0;34m,\u001b[0m \u001b[0mres_values\u001b[0m\u001b[0;34m,\u001b[0m \u001b[0mindex\u001b[0m\u001b[0;34m=\u001b[0m\u001b[0mself\u001b[0m\u001b[0;34m.\u001b[0m\u001b[0mindex\u001b[0m\u001b[0;34m,\u001b[0m \u001b[0mname\u001b[0m\u001b[0;34m=\u001b[0m\u001b[0mres_name\u001b[0m\u001b[0;34m)\u001b[0m\u001b[0;34m\u001b[0m\u001b[0;34m\u001b[0m\u001b[0m\n\u001b[1;32m    554\u001b[0m \u001b[0;34m\u001b[0m\u001b[0m\n",
      "\u001b[0;32m~/anaconda3/lib/python3.7/site-packages/pandas/core/ops/array_ops.py\u001b[0m in \u001b[0;36mlogical_op\u001b[0;34m(left, right, op)\u001b[0m\n\u001b[1;32m    354\u001b[0m         \u001b[0;32mif\u001b[0m \u001b[0misinstance\u001b[0m\u001b[0;34m(\u001b[0m\u001b[0mrvalues\u001b[0m\u001b[0;34m,\u001b[0m \u001b[0mnp\u001b[0m\u001b[0;34m.\u001b[0m\u001b[0mndarray\u001b[0m\u001b[0;34m)\u001b[0m\u001b[0;34m:\u001b[0m\u001b[0;34m\u001b[0m\u001b[0;34m\u001b[0m\u001b[0m\n\u001b[1;32m    355\u001b[0m             \u001b[0mis_other_int_dtype\u001b[0m \u001b[0;34m=\u001b[0m \u001b[0mis_integer_dtype\u001b[0m\u001b[0;34m(\u001b[0m\u001b[0mrvalues\u001b[0m\u001b[0;34m.\u001b[0m\u001b[0mdtype\u001b[0m\u001b[0;34m)\u001b[0m\u001b[0;34m\u001b[0m\u001b[0;34m\u001b[0m\u001b[0m\n\u001b[0;32m--> 356\u001b[0;31m             \u001b[0mrvalues\u001b[0m \u001b[0;34m=\u001b[0m \u001b[0mrvalues\u001b[0m \u001b[0;32mif\u001b[0m \u001b[0mis_other_int_dtype\u001b[0m \u001b[0;32melse\u001b[0m \u001b[0mfill_bool\u001b[0m\u001b[0;34m(\u001b[0m\u001b[0mrvalues\u001b[0m\u001b[0;34m,\u001b[0m \u001b[0mlvalues\u001b[0m\u001b[0;34m)\u001b[0m\u001b[0;34m\u001b[0m\u001b[0;34m\u001b[0m\u001b[0m\n\u001b[0m\u001b[1;32m    357\u001b[0m \u001b[0;34m\u001b[0m\u001b[0m\n\u001b[1;32m    358\u001b[0m         \u001b[0;32melse\u001b[0m\u001b[0;34m:\u001b[0m\u001b[0;34m\u001b[0m\u001b[0;34m\u001b[0m\u001b[0m\n",
      "\u001b[0;32m~/anaconda3/lib/python3.7/site-packages/pandas/core/ops/array_ops.py\u001b[0m in \u001b[0;36mfill_bool\u001b[0;34m(x, left)\u001b[0m\n\u001b[1;32m    334\u001b[0m \u001b[0;34m\u001b[0m\u001b[0m\n\u001b[1;32m    335\u001b[0m         \u001b[0;32mif\u001b[0m \u001b[0mleft\u001b[0m \u001b[0;32mis\u001b[0m \u001b[0;32mNone\u001b[0m \u001b[0;32mor\u001b[0m \u001b[0mis_bool_dtype\u001b[0m\u001b[0;34m(\u001b[0m\u001b[0mleft\u001b[0m\u001b[0;34m.\u001b[0m\u001b[0mdtype\u001b[0m\u001b[0;34m)\u001b[0m\u001b[0;34m:\u001b[0m\u001b[0;34m\u001b[0m\u001b[0;34m\u001b[0m\u001b[0m\n\u001b[0;32m--> 336\u001b[0;31m             \u001b[0mx\u001b[0m \u001b[0;34m=\u001b[0m \u001b[0mx\u001b[0m\u001b[0;34m.\u001b[0m\u001b[0mastype\u001b[0m\u001b[0;34m(\u001b[0m\u001b[0mbool\u001b[0m\u001b[0;34m)\u001b[0m\u001b[0;34m\u001b[0m\u001b[0;34m\u001b[0m\u001b[0m\n\u001b[0m\u001b[1;32m    337\u001b[0m         \u001b[0;32mreturn\u001b[0m \u001b[0mx\u001b[0m\u001b[0;34m\u001b[0m\u001b[0;34m\u001b[0m\u001b[0m\n\u001b[1;32m    338\u001b[0m \u001b[0;34m\u001b[0m\u001b[0m\n",
      "\u001b[0;31mKeyboardInterrupt\u001b[0m: "
     ]
    }
   ],
   "source": [
    "mtbs_lst = [1,2,3,4,5,6,7,8,9,10,15,20,25,30,60]#milliseconds\n",
    "base_folder = os.path.dirname(folder_name)\n",
    "for min_time_between_samples in mtbs_lst:\n",
    "    os.chdir(base_folder)\n",
    "    #create a save_folder, for bdrates if it doesn't already exist\n",
    "    save_folder_name = os.path.join(base_folder,f'birth-death-rates-sampled-every-{min_time_between_samples}-ms')\n",
    "    save_folder = os.path.join(base_folder,save_folder_name)\n",
    "    if not os.path.exists(save_folder):\n",
    "        os.mkdir(save_folder_name)\n",
    "        print(f\"created save folder at {save_folder}.\")\n",
    "\n",
    "    #run routine\n",
    "    output_file_name_list = []\n",
    "    for input_file_name in file_name_list:\n",
    "        outdir = log_to_bdrates_routine(input_file_name, save_folder, min_time_between_samples)\n",
    "        output_file_name_list.append(outdir)\n",
    "\n",
    "    # file_out = \"../consolidated_rates.csv\"\n",
    "    os.chdir(save_folder)\n",
    "    file_out = f\"../consolidated_rates-sampled-every-{min_time_between_samples}-ms.csv\"\n",
    "    produce_one_csv(list_of_files=output_file_name_list, file_out=file_out)\n",
    "\n",
    "    print(len(output_file_name_list))\n",
    "beep(10)"
   ]
  },
  {
   "cell_type": "code",
   "execution_count": 215,
   "metadata": {
    "ExecuteTime": {
     "end_time": "2020-11-15T22:51:29.756489Z",
     "start_time": "2020-11-15T22:51:29.742083Z"
    },
    "hidden": true
   },
   "outputs": [],
   "source": [
    "##The test case for run_routine is not terminating... Because it takes ~ 40 min. each time\n",
    "\n",
    "base_folder = os.path.dirname(folder_name)\n",
    "# for min_time_between_samples in mtbs_lst:\n",
    "def run_routine(min_time_between_samples):\n",
    "    os.chdir(base_folder)\n",
    "    #create a save_folder, for bdrates if it doesn't already exist\n",
    "    save_folder_name = os.path.join(base_folder,f'birth-death-rates-sampled-every-{min_time_between_samples}-ms')\n",
    "    save_folder = os.path.join(base_folder,save_folder_name)\n",
    "    if not os.path.exists(save_folder):\n",
    "        os.mkdir(save_folder_name)\n",
    "#         print(f\"created save folder at {save_folder}.\")\n",
    "\n",
    "    #run routine\n",
    "    output_file_name_list = []\n",
    "    for input_file_name in file_name_list:\n",
    "        outdir = log_to_bdrates_routine(input_file_name, save_folder, min_time_between_samples)\n",
    "        output_file_name_list.append(outdir)\n",
    "\n",
    "    # file_out = \"../consolidated_rates.csv\"\n",
    "    os.chdir(save_folder)\n",
    "    file_out = f\"../consolidated_rates-sampled-every-{min_time_between_samples}-ms.csv\"\n",
    "    produce_one_csv(list_of_files=output_file_name_list, file_out=file_out)\n",
    "    return True\n",
    "#     print(len(output_file_name_list))\n",
    "# beep(10)\n",
    "# run_routine(1)"
   ]
  },
  {
   "cell_type": "code",
   "execution_count": 210,
   "metadata": {
    "ExecuteTime": {
     "end_time": "2020-11-15T21:03:00.534168Z",
     "start_time": "2020-11-15T21:03:00.501911Z"
    },
    "hidden": true
   },
   "outputs": [],
   "source": [
    "import dask.bag as db"
   ]
  },
  {
   "cell_type": "code",
   "execution_count": null,
   "metadata": {
    "ExecuteTime": {
     "end_time": "2020-11-15T21:39:11.660598Z",
     "start_time": "2020-11-15T21:35:19.191Z"
    },
    "hidden": true
   },
   "outputs": [],
   "source": [
    "beep(1)"
   ]
  },
  {
   "cell_type": "code",
   "execution_count": 216,
   "metadata": {
    "ExecuteTime": {
     "end_time": "2020-11-16T00:28:02.194436Z",
     "start_time": "2020-11-15T22:52:50.973628Z"
    },
    "hidden": true
   },
   "outputs": [
    {
     "name": "stdout",
     "output_type": "stream",
     "text": [
      "run time for generating birth-death rates from file_name_list: 5706.99 seconds.\n"
     ]
    },
    {
     "data": {
      "text/plain": [
       "0"
      ]
     },
     "execution_count": 216,
     "metadata": {},
     "output_type": "execute_result"
    }
   ],
   "source": [
    "# mtbs_lst = [1,2,3,4,5,6,7,8,9,10,15,20,25,30,60]#milliseconds\n",
    "mtbs_lst = [2,3,4,5,6,7,8,9,10,20,25]#milliseconds\n",
    "\n",
    "b = db.from_sequence(mtbs_lst, npartitions=6).map(run_routine)\n",
    "\n",
    "start = time.time()\n",
    "retval = list(b)\n",
    "print(f\"run time for generating birth-death rates from file_name_list: {time.time()-start:.2f} seconds.\")\n",
    "beep(21)"
   ]
  },
  {
   "cell_type": "code",
   "execution_count": 190,
   "metadata": {
    "ExecuteTime": {
     "end_time": "2020-11-15T20:41:52.962078Z",
     "start_time": "2020-11-15T20:41:52.949099Z"
    },
    "hidden": true
   },
   "outputs": [
    {
     "data": {
      "text/plain": [
       "'/home/timothytyree/Documents/GitHub/care/notebooks/Data/initial-conditions-suite-2/ds_5_param_set_8/Log'"
      ]
     },
     "execution_count": 190,
     "metadata": {},
     "output_type": "execute_result"
    }
   ],
   "source": [
    "folder_name"
   ]
  },
  {
   "cell_type": "markdown",
   "metadata": {
    "heading_collapsed": true
   },
   "source": [
    "# Old log_to_bdrates routine for tip data logged from topological routine"
   ]
  },
  {
   "cell_type": "code",
   "execution_count": 55,
   "metadata": {
    "ExecuteTime": {
     "end_time": "2020-09-27T21:44:18.036597Z",
     "start_time": "2020-09-27T21:44:18.018022Z"
    },
    "hidden": true
   },
   "outputs": [],
   "source": [
    "def log_to_bdrates(input_file_name, output_file_name):\n",
    "    '''imports a raw output tip log file from input_file_name and saves to a birth-death rate file in output_file_name. '''\n",
    "    df = pd.read_csv(input_file_name)\n",
    "\n",
    "    #extract n_series\n",
    "    n_list = []\n",
    "    for i, row in df.iterrows():\n",
    "        n = len(eval(row.x))\n",
    "        n_list.append(n)\n",
    "    df['n'] = n_list\n",
    "    n_series = df.n\n",
    "    n_series.index = df.t\n",
    "\n",
    "    #compute birth-death rates\n",
    "    #store as a pandas.DataFrame\n",
    "    df = pd.DataFrame({\"t\":n_series.index.values,\"n\":n_series.values})\n",
    "\n",
    "    #compute birth death rates\n",
    "    df['dn'] = df.n.diff().shift(-1)\n",
    "    df = df.query('dn != 0').copy()\n",
    "    rates = 1/df['t'].diff().shift(-1).dropna() # birth death rates in unites of 1/ms\n",
    "    df['rates'] = rates\n",
    "\n",
    "    #save birth death rates to a file named according to all of the relevant parameters in a special folder.\n",
    "    df.to_csv(output_file_name)\n",
    "    return True"
   ]
  },
  {
   "cell_type": "code",
   "execution_count": null,
   "metadata": {
    "hidden": true
   },
   "outputs": [],
   "source": []
  },
  {
   "cell_type": "code",
   "execution_count": 143,
   "metadata": {
    "ExecuteTime": {
     "end_time": "2020-11-15T20:18:09.610106Z",
     "start_time": "2020-11-15T20:18:09.597596Z"
    },
    "hidden": true
   },
   "outputs": [],
   "source": [
    "##############\n"
   ]
  },
  {
   "cell_type": "code",
   "execution_count": 67,
   "metadata": {
    "ExecuteTime": {
     "end_time": "2020-11-15T19:06:43.210323Z",
     "start_time": "2020-11-15T19:06:29.739637Z"
    },
    "hidden": true
   },
   "outputs": [
    {
     "name": "stdout",
     "output_type": "stream",
     "text": [
      "please select a file from within the desired folder.\n",
      "File: /home/timothytyree/Documents/GitHub/care/notebooks/Data/initial-conditions-suite-2/ds_5_param_set_8/Log/ic_200x200.001.13_log.csv\n"
     ]
    }
   ],
   "source": [
    "#get a folder of filenames of tip log files ending in log.csv\n",
    "#find file interactively\n",
    "print(\"please select a file from within the desired folder.\")\n",
    "file = search_for_file()\n",
    "folder_name = os.path.dirname(file)\n",
    "os.chdir(folder_name)\n",
    "\n",
    "# get all .csv files in the current working directory\n",
    "retval = !ls\n",
    "file_name_list = list(retval)\n",
    "# check each file if it ends in .csv before merging it\n",
    "def is_target(file_name, target = '_log.csv'):\n",
    "    return file_name[-len(target):]==target\n",
    "\n",
    "\n",
    "file_name_list = [f for f in file_name_list if is_target(f, target = 'log.csv')]\n",
    "# file_name_list = [f for f in file_name_list if f.find('threshold')!=-1]\n",
    "\n",
    "\n"
   ]
  },
  {
   "cell_type": "code",
   "execution_count": 115,
   "metadata": {
    "ExecuteTime": {
     "end_time": "2020-11-15T19:51:30.148571Z",
     "start_time": "2020-11-15T19:51:30.135736Z"
    },
    "hidden": true
   },
   "outputs": [
    {
     "name": "stdout",
     "output_type": "stream",
     "text": [
      "171\n"
     ]
    }
   ],
   "source": [
    "print(len(file_name_list))"
   ]
  },
  {
   "cell_type": "code",
   "execution_count": 61,
   "metadata": {
    "ExecuteTime": {
     "end_time": "2020-09-27T21:49:41.982280Z",
     "start_time": "2020-09-27T21:46:38.768318Z"
    },
    "hidden": true
   },
   "outputs": [],
   "source": [
    "#for each file in the folder, compute the birth-death rates\n",
    "#TODO(later): daskbag accelerate this process\n",
    "os.chdir(folder_name)\n",
    "for input_file_name in file_name_list:\n",
    "    #TODO: change folder name too!!!!!!\n",
    "    output_file_name = input_file_name.replace('log.csv','bdrates.csv')\n",
    "    output_dir = os.path.join(save_folder,output_file_name)\n",
    "    log_to_bdrates(input_file_name=input_file_name, \n",
    "                   output_file_name=output_dir)"
   ]
  },
  {
   "cell_type": "code",
   "execution_count": 62,
   "metadata": {
    "ExecuteTime": {
     "end_time": "2020-09-27T21:49:42.664082Z",
     "start_time": "2020-09-27T21:49:42.043016Z"
    },
    "hidden": true
   },
   "outputs": [
    {
     "data": {
      "text/plain": [
       "0"
      ]
     },
     "execution_count": 62,
     "metadata": {},
     "output_type": "execute_result"
    }
   ],
   "source": [
    "beep(3)"
   ]
  },
  {
   "cell_type": "code",
   "execution_count": 63,
   "metadata": {
    "ExecuteTime": {
     "end_time": "2020-09-27T21:51:42.353312Z",
     "start_time": "2020-09-27T21:51:29.362811Z"
    },
    "hidden": true
   },
   "outputs": [
    {
     "name": "stdout",
     "output_type": "stream",
     "text": [
      "File: /home/timothytyree/Documents/GitHub/care/notebooks/Data/initial-conditions-suite-2/ds_5_param_set_8/birth-death-rates-from-log-simplified/ic_200x200.001.12_ds_5_sigma_1.5_threshold_0.6_bdrates.csv\n"
     ]
    }
   ],
   "source": [
    "#9 samples LT = 0\n",
    "# file =  '/Users/timothytyree/Documents/GitHub/care/notebooks/Data/ds_5_param_set_8/birth-death-rates/33_ds_5_sigma_1.5_threshold_0.6__traj_sr_40_mem_2_bdrates.csv'\n",
    "\n",
    "#>60 samples LT = 2\n",
    "file = search_for_file()\n",
    "# file = '/Users/timothytyree/Documents/GitHub/care/notebooks/Data/initial-conditions-suite-1/ds_5_param_set_8/birth-death-rates/ic_200x200.117.21_ds_5_sigma_1.5_threshold_0.6_sr_50_mem_2_tmin_100_LT_2_bdrates.csv'\n",
    "#change to the directory containing file\n",
    "folder_name = os.path.dirname(file)\n",
    "\n",
    "\n",
    "#find folder interactively. Crashes jupyter's root kernel :(\n",
    "# from tkinter import Tk\n",
    "# from tkinter.filedialog import askdirectory\n",
    "# path = askdirectory(title='Select Folder') # shows dialog box and return the path\n",
    "# print(path) "
   ]
  },
  {
   "cell_type": "code",
   "execution_count": 64,
   "metadata": {
    "ExecuteTime": {
     "end_time": "2020-09-27T21:51:44.634261Z",
     "start_time": "2020-09-27T21:51:44.580909Z"
    },
    "hidden": true
   },
   "outputs": [],
   "source": [
    "# get all .csv files in the current working directory\n",
    "os.chdir(folder_name)\n",
    "retval = !ls\n",
    "file_name_list = list(retval)\n",
    "# check each file if it ends in .csv before merging it\n",
    "def is_csv(file_name):\n",
    "    return file_name[-4:]=='.csv'\n",
    "file_name_list = [f for f in file_name_list if is_csv(f)]\n",
    "# remove all files with 'threshold'\n",
    "# file_name_list = [f for f in file_name_list if f.find('threshold')==-1]"
   ]
  },
  {
   "cell_type": "code",
   "execution_count": 65,
   "metadata": {
    "ExecuteTime": {
     "end_time": "2020-09-27T21:51:45.586897Z",
     "start_time": "2020-09-27T21:51:45.574856Z"
    },
    "hidden": true
   },
   "outputs": [
    {
     "name": "stdout",
     "output_type": "stream",
     "text": [
      "171\n"
     ]
    }
   ],
   "source": [
    "print(len(file_name_list))"
   ]
  },
  {
   "cell_type": "code",
   "execution_count": 36,
   "metadata": {
    "ExecuteTime": {
     "end_time": "2020-11-15T18:46:47.726233Z",
     "start_time": "2020-11-15T18:46:47.712552Z"
    },
    "hidden": true
   },
   "outputs": [
    {
     "name": "stdout",
     "output_type": "stream",
     "text": [
      "['ic_200x200.001.11_sr_3_mem_2_tmin_100_LT_0_bdrates.csv', 'ic_200x200.001.12_sr_3_mem_2_tmin_100_LT_0_bdrates.csv', 'ic_200x200.001.13_sr_3_mem_2_tmin_100_LT_0_bdrates.csv']\n"
     ]
    }
   ],
   "source": [
    "\n",
    "print(file_name_list[:3])"
   ]
  },
  {
   "cell_type": "code",
   "execution_count": 67,
   "metadata": {
    "ExecuteTime": {
     "end_time": "2020-09-27T21:51:51.555340Z",
     "start_time": "2020-09-27T21:51:51.542457Z"
    },
    "hidden": true
   },
   "outputs": [],
   "source": [
    "def produce_one_csv(list_of_files, file_out):\n",
    "   # Consolidate all csv files into one object\n",
    "   result_obj = pd.concat([pd.read_csv(file) for file in list_of_files])\n",
    "   # Convert the above object into a csv file and export\n",
    "   result_obj.to_csv(file_out, index=False, encoding=\"utf-8\")"
   ]
  },
  {
   "cell_type": "code",
   "execution_count": 68,
   "metadata": {
    "ExecuteTime": {
     "end_time": "2020-09-27T21:51:52.842158Z",
     "start_time": "2020-09-27T21:51:51.968258Z"
    },
    "hidden": true
   },
   "outputs": [],
   "source": [
    "# file_out = \"../consolidated_rates.csv\"\n",
    "file_out = \"../consolidated_rates-from-log.csv\"\n",
    "produce_one_csv(list_of_files=file_name_list, file_out=file_out)"
   ]
  },
  {
   "cell_type": "markdown",
   "metadata": {
    "heading_collapsed": true
   },
   "source": [
    "# TODO: see if I can use the L2pbc distance function to compute MSD.  See tracking implementation."
   ]
  },
  {
   "cell_type": "markdown",
   "metadata": {
    "heading_collapsed": true
   },
   "source": [
    "# make a bdrates plot for one consolidated-rates....csv file"
   ]
  },
  {
   "cell_type": "markdown",
   "metadata": {
    "heading_collapsed": true
   },
   "source": [
    "# make a movie of dV/dt.  Come'on, it would look awesome."
   ]
  },
  {
   "cell_type": "code",
   "execution_count": 14,
   "metadata": {
    "ExecuteTime": {
     "end_time": "2020-11-16T04:30:37.179586Z",
     "start_time": "2020-11-16T04:30:37.049719Z"
    },
    "hidden": true
   },
   "outputs": [
    {
     "ename": "NameError",
     "evalue": "name 'tmax' is not defined",
     "output_type": "error",
     "traceback": [
      "\u001b[0;31m---------------------------------------------------------------------------\u001b[0m",
      "\u001b[0;31mNameError\u001b[0m                                 Traceback (most recent call last)",
      "\u001b[0;32m<ipython-input-14-9b6ef34b4fb4>\u001b[0m in \u001b[0;36m<module>\u001b[0;34m\u001b[0m\n\u001b[1;32m      4\u001b[0m \u001b[0;31m#TODO: compute dV/dt and save to folder as img_000000001.png\u001b[0m\u001b[0;34m\u001b[0m\u001b[0;34m\u001b[0m\u001b[0;34m\u001b[0m\u001b[0m\n\u001b[1;32m      5\u001b[0m \u001b[0;31m#TODO: do a loop over the time_step for nsteps\u001b[0m\u001b[0;34m\u001b[0m\u001b[0;34m\u001b[0m\u001b[0;34m\u001b[0m\u001b[0m\n\u001b[0;32m----> 6\u001b[0;31m \u001b[0mnsteps\u001b[0m \u001b[0;34m=\u001b[0m \u001b[0mnp\u001b[0m\u001b[0;34m.\u001b[0m\u001b[0mfloor\u001b[0m\u001b[0;34m(\u001b[0m \u001b[0;34m(\u001b[0m\u001b[0mtmax\u001b[0m \u001b[0;34m-\u001b[0m \u001b[0mtinit\u001b[0m\u001b[0;34m)\u001b[0m \u001b[0;34m/\u001b[0m \u001b[0mh\u001b[0m \u001b[0;34m)\u001b[0m\u001b[0;34m\u001b[0m\u001b[0;34m\u001b[0m\u001b[0m\n\u001b[0m\u001b[1;32m      7\u001b[0m \u001b[0;31m#TODO: in each step. save to ^that pattern of .png\u001b[0m\u001b[0;34m\u001b[0m\u001b[0;34m\u001b[0m\u001b[0;34m\u001b[0m\u001b[0m\n\u001b[1;32m      8\u001b[0m \u001b[0;34m\u001b[0m\u001b[0m\n",
      "\u001b[0;31mNameError\u001b[0m: name 'tmax' is not defined"
     ]
    }
   ],
   "source": [
    "#TODO: make a folder of .pngs.\n",
    "#TODO: load an ic\n",
    "#TODO: try initiating a folder if it doesn't exist\n",
    "#TODO: compute dV/dt and save to folder as img_000000001.png\n",
    "#TODO: do a loop over the time_step for nsteps\n",
    "nsteps = np.floor( (tmax - tinit) / h )\n",
    "#TODO: in each step. save to ^that pattern of .png\n",
    "\n",
    "#TODO: ffmpeg thusing the following:\n",
    "!ffmpeg -r 1/5 -i img%03d.png -c:v libx264 -vf -vf '' fps=25 -pix_fmt yuv420p out.mov\n",
    "# !ffmpeg -r 1/5 -i img%03d.png -c:v libx264 -vf fps=25 -pix_fmt yuv420p out.mov\n",
    "# !ffmpeg -r 1/5 -i img%03d.png -c:v libx264 -vf fps=25 -pix_fmt yuv420p out.mp4"
   ]
  },
  {
   "cell_type": "code",
   "execution_count": 5,
   "metadata": {
    "ExecuteTime": {
     "end_time": "2020-11-16T04:20:42.917083Z",
     "start_time": "2020-11-16T04:20:42.879414Z"
    },
    "hidden": true
   },
   "outputs": [
    {
     "ename": "SyntaxError",
     "evalue": "invalid syntax (<ipython-input-5-94489512ea5e>, line 1)",
     "output_type": "error",
     "traceback": [
      "\u001b[0;36m  File \u001b[0;32m\"<ipython-input-5-94489512ea5e>\"\u001b[0;36m, line \u001b[0;32m1\u001b[0m\n\u001b[0;31m    ffmpeg -i $INFN -y -c:v libx264 -vf \"scale=trunc(iw/2)*2:trunc(ih/2)*2\" -r 30 -pix_fmt yuv420p $OUTFN\u001b[0m\n\u001b[0m              ^\u001b[0m\n\u001b[0;31mSyntaxError\u001b[0m\u001b[0;31m:\u001b[0m invalid syntax\n"
     ]
    }
   ],
   "source": [
    "#fixes edge case for odd row number\n",
    "ffmpeg -i $INFN -y -c:v libx264 -vf \"scale=trunc(iw/2)*2:trunc(ih/2)*2\" -r 30 -pix_fmt yuv420p $OUTFN"
   ]
  },
  {
   "cell_type": "code",
   "execution_count": 12,
   "metadata": {
    "ExecuteTime": {
     "end_time": "2020-11-16T04:26:44.401697Z",
     "start_time": "2020-11-16T04:26:44.373241Z"
    },
    "hidden": true
   },
   "outputs": [
    {
     "ename": "SyntaxError",
     "evalue": "invalid syntax (<ipython-input-12-c791e0de6791>, line 6)",
     "output_type": "error",
     "traceback": [
      "\u001b[0;36m  File \u001b[0;32m\"<ipython-input-12-c791e0de6791>\"\u001b[0;36m, line \u001b[0;32m6\u001b[0m\n\u001b[0;31m    ffmpeg -i $FILE -y -vf \"scale=1280:720:force_original_aspect_ratio=decrease,pad=1280:720:-1:-1:color=black\" $OUT\u001b[0m\n\u001b[0m              ^\u001b[0m\n\u001b[0;31mSyntaxError\u001b[0m\u001b[0;31m:\u001b[0m invalid syntax\n"
     ]
    }
   ],
   "source": [
    "# adds black background. gives input movie a youtube aspect ratio.\n",
    "FILE=\"aprA-.avi\" # \"aprA-.avi\"\n",
    "TMP=\"tmp.mp4\"\n",
    "OUT=\"tmp.mp4\"\n",
    "\n",
    "ffmpeg -i $FILE -y -vf \"scale=1280:720:force_original_aspect_ratio=decrease,pad=1280:720:-1:-1:color=black\" $OUT\n"
   ]
  },
  {
   "cell_type": "code",
   "execution_count": 9,
   "metadata": {
    "ExecuteTime": {
     "end_time": "2020-11-16T04:22:59.542221Z",
     "start_time": "2020-11-16T04:22:59.512917Z"
    },
    "hidden": true
   },
   "outputs": [
    {
     "ename": "SyntaxError",
     "evalue": "invalid syntax (<ipython-input-9-3d11d8e20fa4>, line 4)",
     "output_type": "error",
     "traceback": [
      "\u001b[0;36m  File \u001b[0;32m\"<ipython-input-9-3d11d8e20fa4>\"\u001b[0;36m, line \u001b[0;32m4\u001b[0m\n\u001b[0;31m    TEXT=$'Tim Tyree\\nPHYS 2C Spring 2020\\n05-18-2020'\u001b[0m\n\u001b[0m         ^\u001b[0m\n\u001b[0;31mSyntaxError\u001b[0m\u001b[0;31m:\u001b[0m invalid syntax\n"
     ]
    }
   ],
   "source": [
    "#maek mtf intro 1?\n",
    "#make text frames\n",
    "TEXT=$'Tim Tyree\\nPHYS 2C Spring 2020\\n05-18-2020'\n",
    "SAVEFN='intro.mov'\n",
    "echo \n",
    "echo \"The value of \\\"TEXT\\\" is now $TEXT.\"\n",
    "ffmpeg -f lavfi -r 20 -i color=black:1280x720 -f lavfi -i anullsrc -vf drawtext=\"arial.ttf:fontcolor=FFFFFF:fontsize=50:text=$TEXT:x=(main_w-text_w)/2:y=(main_h-text_h)/2,fade=t=in:st=0:d=0,fade=t=out:st=2:d=1\" -c:v libx264 -b:v 1000k -pix_fmt yuv420p -video_track_timescale 5000 -y -c:a aac -ar 0 -ac 0 -sample_fmt fltp -t 4 $SAVEFN"
   ]
  },
  {
   "cell_type": "code",
   "execution_count": 10,
   "metadata": {
    "ExecuteTime": {
     "end_time": "2020-11-16T04:23:28.667249Z",
     "start_time": "2020-11-16T04:23:28.642189Z"
    },
    "hidden": true
   },
   "outputs": [
    {
     "ename": "SyntaxError",
     "evalue": "invalid syntax (<ipython-input-10-9abf22aa6809>, line 3)",
     "output_type": "error",
     "traceback": [
      "\u001b[0;36m  File \u001b[0;32m\"<ipython-input-10-9abf22aa6809>\"\u001b[0;36m, line \u001b[0;32m3\u001b[0m\n\u001b[0;31m    ffmpeg -i $INFN -y -c:v libx264 -vf \"scale=trunc(iw/2)*2:trunc(ih/2)*2\" \\\u001b[0m\n\u001b[0m              ^\u001b[0m\n\u001b[0;31mSyntaxError\u001b[0m\u001b[0;31m:\u001b[0m invalid syntax\n"
     ]
    }
   ],
   "source": [
    "#maek mtf intro 2?\n",
    "INFN='aprA-.avi'\n",
    "OUTFN='aprA-.mp4'\n",
    "ffmpeg -i $INFN -y -c:v libx264 -vf \"scale=trunc(iw/2)*2:trunc(ih/2)*2\" \\\n",
    " -r 30 -pix_fmt yuv420p $TMP\n",
    "ffmpeg -i $TMP -y -q 0 -vf lutyuv=y='((val - minval)*255)/(maxval - minval)' -vf \"scale=1280:720:force_original_aspect_ratio=decrease,pad=1280:720:-1:-1:color=black\" $OUTFN\n",
    "\n"
   ]
  },
  {
   "cell_type": "code",
   "execution_count": 13,
   "metadata": {
    "ExecuteTime": {
     "end_time": "2020-11-16T04:28:15.162456Z",
     "start_time": "2020-11-16T04:28:15.043622Z"
    },
    "hidden": true
   },
   "outputs": [
    {
     "ename": "SyntaxError",
     "evalue": "invalid syntax (<ipython-input-13-6c0e25b9e3a9>, line 2)",
     "output_type": "error",
     "traceback": [
      "\u001b[0;36m  File \u001b[0;32m\"<ipython-input-13-6c0e25b9e3a9>\"\u001b[0;36m, line \u001b[0;32m2\u001b[0m\n\u001b[0;31m    ffmpeg -i intro-ctnA-.mp4 -y -q 0 clip-9.MTS\u001b[0m\n\u001b[0m              ^\u001b[0m\n\u001b[0;31mSyntaxError\u001b[0m\u001b[0;31m:\u001b[0m invalid syntax\n"
     ]
    }
   ],
   "source": [
    "#concat the intro to the main clip\n",
    "ffmpeg -i intro-ctnA-.mp4 -y -q 0 clip-9.MTS\n",
    "ffmpeg -i ctnA-.mp4 -y -q 0 clip-10.MTS\n",
    "\n",
    "ffmpeg -f concat -i mylist.txt -c copy -y mutants-disperse.MTS\n",
    "\n",
    "#make it small enough to fit in an email\n",
    "ffmpeg -i mutants-disperse.MTS -y -c:v libx264 -crf 30 -r 30 -pix_fmt yuv420p mutants-disperse.mov\n"
   ]
  },
  {
   "cell_type": "code",
   "execution_count": null,
   "metadata": {
    "hidden": true
   },
   "outputs": [],
   "source": [
    "#!/bin/bash\n",
    "# mymake-mov.sh\n",
    "\n",
    "./mymtf.sh\n",
    "./mycompress.sh\n",
    "# ./concat-list.sh\n",
    "./concat-that-works.sh"
   ]
  },
  {
   "cell_type": "markdown",
   "metadata": {
    "heading_collapsed": true
   },
   "source": [
    "# test based dev for computing bdrates correctly"
   ]
  },
  {
   "cell_type": "markdown",
   "metadata": {
    "hidden": true
   },
   "source": [
    "__results__ \n",
    "    setting min_time_to_next_event >1 made dn=0 appear every time.  Thus, don't use it (=set it to zero)"
   ]
  },
  {
   "cell_type": "code",
   "execution_count": null,
   "metadata": {
    "hidden": true
   },
   "outputs": [],
   "source": [
    "#I've been stupid all day. I'm computing dn wrong\n"
   ]
  },
  {
   "cell_type": "code",
   "execution_count": 323,
   "metadata": {
    "ExecuteTime": {
     "end_time": "2020-11-29T03:01:41.872465Z",
     "start_time": "2020-11-29T03:01:41.758076Z"
    },
    "hidden": true
   },
   "outputs": [],
   "source": [
    "df = pd.read_csv(input_fn_list[0])\n",
    "df = df.groupby('t').n.mean().reset_index()"
   ]
  },
  {
   "cell_type": "code",
   "execution_count": null,
   "metadata": {
    "ExecuteTime": {
     "end_time": "2020-11-29T03:02:14.026864Z",
     "start_time": "2020-11-29T03:02:14.007723Z"
    },
    "hidden": true
   },
   "outputs": [],
   "source": []
  },
  {
   "cell_type": "code",
   "execution_count": null,
   "metadata": {
    "hidden": true
   },
   "outputs": [],
   "source": []
  },
  {
   "cell_type": "code",
   "execution_count": 333,
   "metadata": {
    "ExecuteTime": {
     "end_time": "2020-11-29T03:04:29.254549Z",
     "start_time": "2020-11-29T03:04:29.228414Z"
    },
    "hidden": true
   },
   "outputs": [],
   "source": [
    "#Goal: fix compute_bdrates_from_log_w_subsampling to compute from times instead of indices.\n",
    "\n",
    "def compute_bdrates_from_log_w_mean(src, min_time_to_next_event = 0, min_time = 100):\n",
    "    '''returns pandas.DataFrame instance with the mean rate for a given change in tip number and tip number.\n",
    "    min_time_to_next_event is in units of milliseconds.  \n",
    "    min_time is the time when bd events stop being considered garbage in milliseconds.\n",
    "    src is a .csv filename.'''\n",
    "    df = pd.read_csv(src)\n",
    "    df = df[df.t>=min_time].copy()\n",
    "    df = df.groupby('t').n.mean().reset_index()\n",
    "    #compute birth death rates\n",
    "    df['dn'] = df.n.diff().shift(-1)\n",
    "    df = df.query('dn != 0').copy()\n",
    "    # #extract the timeseries of tip number\n",
    "    # n_series = df.n#df[boo].n\n",
    "    # t_series = df.t#df[boo].t\n",
    "\n",
    "    time_to_next_event = df.t.diff().shift(-1).dropna().values\n",
    "    event_times = df.t.values\n",
    "    dn_lst = df.dn.values\n",
    "    \n",
    "    #iterate through times, if time_to_next_event[j] is too small, then merge add it to the bucket\n",
    "    time_to_next_event = list(df.t.diff().shift(-1).dropna().values)\n",
    "    n_lst = list(df.n.values)\n",
    "    event_times = list(df.t.values)\n",
    "\n",
    "    #pop the first entry\n",
    "    t0 = time_to_next_event.pop(0)\n",
    "    n0 = n_lst.pop(0)\n",
    "\n",
    "    bucket = 0.\n",
    "    dn_lst_out = []\n",
    "    n_lst_out = []\n",
    "    rate_lst = []\n",
    "    time_lst = []\n",
    "    time = min_time\n",
    "    for j, wait in enumerate(time_to_next_event):\n",
    "        n1 = n_lst[j]\n",
    "        time   += wait\n",
    "        bucket += wait\n",
    "\n",
    "        #if the event took enough time\n",
    "        if (wait>min_time_to_next_event):\n",
    "            #empty the bucket\n",
    "            rate = 1/bucket\n",
    "            t0 = time-bucket\n",
    "            bucket = 0.\n",
    "\n",
    "            #and append the rate\n",
    "            rate_lst.append(rate)\n",
    "\n",
    "            #compute the change in n. Append\n",
    "            dn = n1 - n0\n",
    "            n_lst_out.append(n0) #number of tips at beginning of transition\n",
    "#             n_lst_out.append(n1) #number of tips at end of transition\n",
    "            dn_lst_out.append(dn)\n",
    "            n0 = n1\n",
    "            time_lst.append(t0)\n",
    "\n",
    "    dct = {'dn':dn_lst_out,'rate':rate_lst, 'n':n_lst_out,'time':time_lst}\n",
    "    gf = pd.DataFrame(dct)\n",
    "    df_output = gf.groupby(['dn','n']).mean().reset_index()\n",
    "    return df_output, gf"
   ]
  },
  {
   "cell_type": "code",
   "execution_count": 335,
   "metadata": {
    "ExecuteTime": {
     "end_time": "2020-11-29T03:05:18.899030Z",
     "start_time": "2020-11-29T03:05:18.744015Z"
    },
    "hidden": true
   },
   "outputs": [
    {
     "data": {
      "text/html": [
       "<div>\n",
       "<style scoped>\n",
       "    .dataframe tbody tr th:only-of-type {\n",
       "        vertical-align: middle;\n",
       "    }\n",
       "\n",
       "    .dataframe tbody tr th {\n",
       "        vertical-align: top;\n",
       "    }\n",
       "\n",
       "    .dataframe thead th {\n",
       "        text-align: right;\n",
       "    }\n",
       "</style>\n",
       "<table border=\"1\" class=\"dataframe\">\n",
       "  <thead>\n",
       "    <tr style=\"text-align: right;\">\n",
       "      <th></th>\n",
       "      <th>dn</th>\n",
       "      <th>n</th>\n",
       "      <th>rate</th>\n",
       "      <th>time</th>\n",
       "    </tr>\n",
       "  </thead>\n",
       "  <tbody>\n",
       "    <tr>\n",
       "      <th>0</th>\n",
       "      <td>-4</td>\n",
       "      <td>10</td>\n",
       "      <td>0.035714</td>\n",
       "      <td>1553.0</td>\n",
       "    </tr>\n",
       "    <tr>\n",
       "      <th>1</th>\n",
       "      <td>-4</td>\n",
       "      <td>14</td>\n",
       "      <td>0.500000</td>\n",
       "      <td>819.0</td>\n",
       "    </tr>\n",
       "    <tr>\n",
       "      <th>2</th>\n",
       "      <td>-4</td>\n",
       "      <td>16</td>\n",
       "      <td>0.060662</td>\n",
       "      <td>1957.0</td>\n",
       "    </tr>\n",
       "    <tr>\n",
       "      <th>3</th>\n",
       "      <td>-4</td>\n",
       "      <td>18</td>\n",
       "      <td>0.083333</td>\n",
       "      <td>3039.0</td>\n",
       "    </tr>\n",
       "    <tr>\n",
       "      <th>4</th>\n",
       "      <td>-2</td>\n",
       "      <td>4</td>\n",
       "      <td>0.493827</td>\n",
       "      <td>3729.0</td>\n",
       "    </tr>\n",
       "  </tbody>\n",
       "</table>\n",
       "</div>"
      ],
      "text/plain": [
       "   dn   n      rate    time\n",
       "0  -4  10  0.035714  1553.0\n",
       "1  -4  14  0.500000   819.0\n",
       "2  -4  16  0.060662  1957.0\n",
       "3  -4  18  0.083333  3039.0\n",
       "4  -2   4  0.493827  3729.0"
      ]
     },
     "execution_count": 335,
     "metadata": {},
     "output_type": "execute_result"
    }
   ],
   "source": [
    "#test compute_bdrates_from_log_w_mean\n",
    "rv = compute_bdrates_from_log_w_mean(src=input_fn_list[0], min_time_to_next_event = 0, min_time = 100)\n",
    "a = rv[1]\n",
    "# n_lst_out\n",
    "df_output = rv[0]\n",
    "df_output.head()"
   ]
  },
  {
   "cell_type": "code",
   "execution_count": 336,
   "metadata": {
    "ExecuteTime": {
     "end_time": "2020-11-29T03:05:22.314879Z",
     "start_time": "2020-11-29T03:05:22.299135Z"
    },
    "code_folding": [],
    "hidden": true
   },
   "outputs": [],
   "source": [
    "#consistency check to test averages are working how I expect, that average is done per trial over dn and n fixed.\n",
    "assert ( np.mean(a[(a.dn==2) & (a.n==4)].rate.values)==df_output[(df_output.dn==2) & (df_output.n==4)].rate.values[0] )\n"
   ]
  },
  {
   "cell_type": "code",
   "execution_count": 337,
   "metadata": {
    "ExecuteTime": {
     "end_time": "2020-11-29T03:05:24.071741Z",
     "start_time": "2020-11-29T03:05:24.056706Z"
    },
    "hidden": true,
    "scrolled": true
   },
   "outputs": [],
   "source": [
    "# df = pd.read_csv(src)\n",
    "# #compute birth death rates\n",
    "# df['dn'] = df.n.diff().shift(-1)\n",
    "# df = df.query('dn != 0').copy()\n",
    "# # #extract the timeseries of tip number\n",
    "# # n_series = df.n#df[boo].n\n",
    "# # t_series = df.t#df[boo].t\n",
    "\n",
    "# time_to_next_event = df.t.diff().shift(-1).dropna().values\n",
    "# event_times = df.t.values\n",
    "# dn_lst = df.dn.values\n",
    "\n",
    "# #iterate through times, if time_to_next_event[j] is too small, then merge add it to the bucket\n",
    "# time_to_next_event = list(df.t.diff().shift(-1).dropna().values)\n",
    "# n_lst = list(df.n.values)\n",
    "# event_times = list(df.t.values)\n",
    "\n",
    "# #pop the first entry\n",
    "# t0 = time_to_next_event.pop(0)\n",
    "# n0 = n_lst.pop(0)\n",
    "\n",
    "# bucket = 0.\n",
    "# dn_lst_out = []\n",
    "# rate_lst = []\n",
    "# for j, wait in enumerate(time_to_next_event):\n",
    "#     n1 = n_lst[j]\n",
    "#     bucket += wait\n",
    "\n",
    "#     #if the event took enough time\n",
    "#     if wait>min_time_to_next_event:\n",
    "#         #empty the bucket\n",
    "#         rate = 1/bucket\n",
    "#         bucket = 0.\n",
    "\n",
    "#         #and append the rate\n",
    "#         rate_lst.append(rate)\n",
    "\n",
    "#         #Tcompute the change in n. Append\n",
    "#         dn = n1 - n0\n",
    "#         dn_lst_out.append(dn)\n",
    "#         n0 = n1\n",
    "\n",
    "# dct = {'dn':dn_lst_out,'rate':rate_lst}\n",
    "# gf = pd.DataFrame(dct)\n",
    "# df_output = gf.groupby('dn').mean().reset_index()\n",
    "\n",
    "# #visualize ^those rates\n",
    "# x_values = dn_lst_out\n",
    "# y_values = rate_lst\n",
    "\n",
    "# plt.scatter(x=x_values, y=y_values)\n",
    "# plt.plot(gf.groupby('dn').mean(), 'r')\n",
    "# plt.xlabel('dn')\n",
    "# plt.ylabel('rate (1/ms)')\n",
    "# plt.show()\n",
    "#  print('if there is a dn=0 value somewhere, then this parameter is wrong/not good.')"
   ]
  },
  {
   "cell_type": "code",
   "execution_count": 307,
   "metadata": {
    "ExecuteTime": {
     "end_time": "2020-11-29T02:54:00.386428Z",
     "start_time": "2020-11-29T02:54:00.369493Z"
    },
    "hidden": true
   },
   "outputs": [],
   "source": [
    "# #Assert this makes sense\n",
    "# print ( sum(time_to_next_event) )\n",
    "# print ( event_times[-1] )"
   ]
  },
  {
   "cell_type": "markdown",
   "metadata": {
    "hidden": true
   },
   "source": [
    "__Results__\n",
    "\n",
    "these results suggest that virtual spiral tips are long lived.  Thus, it is necessary to identify them using features that may distinguish them from other spiral tips."
   ]
  },
  {
   "cell_type": "code",
   "execution_count": 220,
   "metadata": {
    "ExecuteTime": {
     "end_time": "2020-11-29T02:25:59.681184Z",
     "start_time": "2020-11-29T02:25:59.666060Z"
    },
    "hidden": true
   },
   "outputs": [],
   "source": [
    "# #fraction of virtual spiral tip events\n",
    "# 1-len(dn_lst_out)/len(dn_lst)"
   ]
  },
  {
   "cell_type": "code",
   "execution_count": 171,
   "metadata": {
    "ExecuteTime": {
     "end_time": "2020-11-29T00:19:35.654403Z",
     "start_time": "2020-11-29T00:19:35.632062Z"
    },
    "hidden": true
   },
   "outputs": [],
   "source": [
    "#DONE: get the list of all input_file_names\n",
    "#DONE: compute compute_bdrates_from_log_w_mean for all such trials. run in a daskbag without /bdrates\n",
    "#DONE: plot the means for each trial."
   ]
  },
  {
   "cell_type": "markdown",
   "metadata": {
    "heading_collapsed": true
   },
   "source": [
    "# compute bdrates averaged by trial for all trials"
   ]
  },
  {
   "cell_type": "markdown",
   "metadata": {
    "hidden": true
   },
   "source": [
    "__Results__\n",
    "- This method failed to reproduce WJ's results (Fig. 4 - d,e, Vidmar & Rappel, 2019).  The method is to use the raw tip logs by filtering by averaging over n for dn fixed for each trial and then averaging over trials. \n",
    "- setting min_time_to_next_event>1ms returned garbage\n",
    "    - in Fig. 4(d,e)WJ has dn=-2 going up to 0.1/ms and dn=+2 going up to 0.02/ms\n",
    "- Virtual spiral tips need to be dealt with directly.\n",
    "    - TODO: make that 4 panel plot of tip trajectories\n",
    "    \n",
    "- This method produces results comparable to my old method\n",
    "    - --> Therefore,\n",
    " - TODO: 4 panel plot of spiral tip trajectories"
   ]
  },
  {
   "cell_type": "code",
   "execution_count": 367,
   "metadata": {
    "ExecuteTime": {
     "end_time": "2020-11-29T03:42:23.261016Z",
     "start_time": "2020-11-29T03:42:23.243627Z"
    },
    "hidden": true
   },
   "outputs": [],
   "source": [
    "#get input_fn_list interactively\n",
    "#TODO: select only files that match the extension of the one selected.\n",
    "#find file interactively\n",
    "\n",
    "# print(\"please select a file from within the desired folder.\")\n",
    "# file = search_for_file()\n",
    "\n",
    "##for ic suite 2\n",
    "# # #V = 0.4 archive \n",
    "V_threshold = 0.4\n",
    "file = \"/home/timothytyree/Documents/GitHub/care/notebooks/Data/initial-conditions-suite-2/ds_5_param_set_8/Log/ic_200x200.001.13_log.csv\"\n",
    "\n",
    "#V = 0.5 archive \n",
    "# V_threshold = 0.5\n",
    "# file = \"/home/timothytyree/Documents/GitHub/care/notebooks/Data/initial-conditions-suite-2/ds_5_param_set_8_fastkernel_V_0.5_archive/Log/ic_200x200.001.32_log.csv\"\n",
    "\n",
    "# # #V = 0.6 archive \n",
    "# V_threshold = 0.6\n",
    "# file = \"/home/timothytyree/Documents/GitHub/care/notebooks/Data/initial-conditions-suite-2/ds_5_param_set_8_fastkernel_V_0.6_archive/Log/ic_200x200.001.32_log.csv\""
   ]
  },
  {
   "cell_type": "code",
   "execution_count": 368,
   "metadata": {
    "ExecuteTime": {
     "end_time": "2020-11-29T03:42:24.034260Z",
     "start_time": "2020-11-29T03:42:23.997161Z"
    },
    "hidden": true
   },
   "outputs": [
    {
     "name": "stdout",
     "output_type": "stream",
     "text": [
      "Number of files in input_fn_list is 167.\n"
     ]
    }
   ],
   "source": [
    "#get a list of all files\n",
    "#change to the directory containing file\n",
    "folder_name = os.path.dirname(file)\n",
    "os.chdir(folder_name)\n",
    "\n",
    "# get all ic files that are in the current working directory that are not .csv's\n",
    "retval = !ls\n",
    "file_name_list = list(retval)\n",
    "# check each file if it ends in .csv before merging it\n",
    "def is_csv(file_name):\n",
    "    return file_name[-4:]=='.csv'\n",
    "file_name_list = [f for f in file_name_list if is_csv(f)]\n",
    "cwd = os.getcwd()\n",
    "input_fn_list = ['/'.join((cwd,fn)) for fn in file_name_list]\n",
    "print(f\"Number of files in input_fn_list is {len(input_fn_list)}.\")"
   ]
  },
  {
   "cell_type": "code",
   "execution_count": 369,
   "metadata": {
    "ExecuteTime": {
     "end_time": "2020-11-29T03:42:35.861437Z",
     "start_time": "2020-11-29T03:42:35.730057Z"
    },
    "hidden": true
   },
   "outputs": [
    {
     "name": "stdout",
     "output_type": "stream",
     "text": [
      "example of value returned by run_routine\n"
     ]
    },
    {
     "data": {
      "text/html": [
       "<div>\n",
       "<style scoped>\n",
       "    .dataframe tbody tr th:only-of-type {\n",
       "        vertical-align: middle;\n",
       "    }\n",
       "\n",
       "    .dataframe tbody tr th {\n",
       "        vertical-align: top;\n",
       "    }\n",
       "\n",
       "    .dataframe thead th {\n",
       "        text-align: right;\n",
       "    }\n",
       "</style>\n",
       "<table border=\"1\" class=\"dataframe\">\n",
       "  <thead>\n",
       "    <tr style=\"text-align: right;\">\n",
       "      <th></th>\n",
       "      <th>dn</th>\n",
       "      <th>n</th>\n",
       "      <th>rate</th>\n",
       "      <th>time</th>\n",
       "    </tr>\n",
       "  </thead>\n",
       "  <tbody>\n",
       "    <tr>\n",
       "      <th>0</th>\n",
       "      <td>-4</td>\n",
       "      <td>8</td>\n",
       "      <td>0.030645</td>\n",
       "      <td>1490.333333</td>\n",
       "    </tr>\n",
       "    <tr>\n",
       "      <th>1</th>\n",
       "      <td>-4</td>\n",
       "      <td>10</td>\n",
       "      <td>0.037037</td>\n",
       "      <td>1549.000000</td>\n",
       "    </tr>\n",
       "    <tr>\n",
       "      <th>2</th>\n",
       "      <td>-2</td>\n",
       "      <td>6</td>\n",
       "      <td>0.039240</td>\n",
       "      <td>2613.000000</td>\n",
       "    </tr>\n",
       "    <tr>\n",
       "      <th>3</th>\n",
       "      <td>-2</td>\n",
       "      <td>8</td>\n",
       "      <td>0.046294</td>\n",
       "      <td>1268.125000</td>\n",
       "    </tr>\n",
       "    <tr>\n",
       "      <th>4</th>\n",
       "      <td>-2</td>\n",
       "      <td>10</td>\n",
       "      <td>0.042754</td>\n",
       "      <td>1679.666667</td>\n",
       "    </tr>\n",
       "  </tbody>\n",
       "</table>\n",
       "</div>"
      ],
      "text/plain": [
       "   dn   n      rate         time\n",
       "0  -4   8  0.030645  1490.333333\n",
       "1  -4  10  0.037037  1549.000000\n",
       "2  -2   6  0.039240  2613.000000\n",
       "3  -2   8  0.046294  1268.125000\n",
       "4  -2  10  0.042754  1679.666667"
      ]
     },
     "execution_count": 369,
     "metadata": {},
     "output_type": "execute_result"
    }
   ],
   "source": [
    "#compute bdrates, averaging by trial\n",
    "def run_routine(ic):\n",
    "    #     kwargs = get_kwargs(ic)\n",
    "    retval = compute_bdrates_from_log_w_mean(src=ic, min_time_to_next_event = 5, min_time=100)\n",
    "    df_mean, __ = retval\n",
    "    return df_mean\n",
    "\n",
    "#Test routine\n",
    "rv = run_routine(input_fn_list[0])\n",
    "print('example of value returned by run_routine')\n",
    "rv.head()"
   ]
  },
  {
   "cell_type": "code",
   "execution_count": 370,
   "metadata": {
    "ExecuteTime": {
     "end_time": "2020-11-29T03:43:08.308311Z",
     "start_time": "2020-11-29T03:42:41.418100Z"
    },
    "hidden": true
   },
   "outputs": [
    {
     "name": "stdout",
     "output_type": "stream",
     "text": [
      "run time for generating birth-death rates from file_name_list: 26.26 seconds.\n"
     ]
    },
    {
     "data": {
      "text/plain": [
       "0"
      ]
     },
     "execution_count": 370,
     "metadata": {},
     "output_type": "execute_result"
    }
   ],
   "source": [
    "b = db.from_sequence(input_fn_list, npartitions=7).map(run_routine)\n",
    "\n",
    "start = time.time()\n",
    "retval = list(b)\n",
    "print(f\"run time for generating birth-death rates from file_name_list: {time.time()-start:.2f} seconds.\")\n",
    "beep(3)"
   ]
  },
  {
   "cell_type": "code",
   "execution_count": 371,
   "metadata": {
    "ExecuteTime": {
     "end_time": "2020-11-29T03:43:13.836584Z",
     "start_time": "2020-11-29T03:43:13.766926Z"
    },
    "hidden": true
   },
   "outputs": [],
   "source": [
    "#concatenate dataframes containing bdrates\n",
    "df = pd.concat(retval)"
   ]
  },
  {
   "cell_type": "code",
   "execution_count": 375,
   "metadata": {
    "ExecuteTime": {
     "end_time": "2020-11-29T03:45:41.736569Z",
     "start_time": "2020-11-29T03:45:41.524899Z"
    },
    "hidden": true
   },
   "outputs": [
    {
     "data": {
      "image/png": "[encoded data removed]",
      "text/plain": [
       "<Figure size 288x288 with 1 Axes>"
      ]
     },
     "metadata": {
      "needs_background": "light"
     },
     "output_type": "display_data"
    }
   ],
   "source": [
    "save = True\n",
    "gf = df[df.dn==2]\n",
    "x_values = gf.n.values/2#-1\n",
    "y_values = gf.rate.values\n",
    "y_values_avg = gf.groupby('n').rate.mean().values\n",
    "x_values_avg = gf.groupby('n').rate.mean().index.values/2#-1\n",
    "y_values_err = gf.groupby('n').rate.std().values\n",
    "\n",
    "plt.figure(figsize=(4,4))\n",
    "plt.scatter(x_values,y_values, alpha=0.1)\n",
    "plt.errorbar(x=x_values_avg,y=y_values_avg,yerr=y_values_err,\n",
    "             ecolor=None,elinewidth=2,capsize=4,errorevery=1,capthick=2,lw=2);\n",
    "\n",
    "# plt.scatter(x=x_values, y=y_values)\n",
    "# plt.plot(gf.groupby('dn').mean(), 'r')\n",
    "plt.xlabel('n/2')\n",
    "plt.ylabel('rate (1/ms)')\n",
    "plt.title('change in tip number = +2')\n",
    "plt.xticks(range(12))\n",
    "plt.xlim([0,12])\n",
    "# plt.show()\n",
    "#  print('if there is a dn=0 value somewhere, then this parameter is wrong/not good.')\n",
    "\n",
    "if not save:\n",
    "    plt.show()\n",
    "else:\n",
    "    save_fn = os.path.join(nb_dir,'Figures')+f'/bdrates/rates_V_{V_threshold}_dn_2_min_ttne_5.png'\n",
    "#     save_fn = os.path.join(nb_dir,'Figures')+f'bdrates/rates_V_{V_threshold}_dn_2.png'\n",
    "    plt.tight_layout\n",
    "    plt.savefig(save_fn)"
   ]
  },
  {
   "cell_type": "code",
   "execution_count": 376,
   "metadata": {
    "ExecuteTime": {
     "end_time": "2020-11-29T03:45:46.610800Z",
     "start_time": "2020-11-29T03:45:46.406718Z"
    },
    "hidden": true
   },
   "outputs": [
    {
     "data": {
      "image/png": "[encoded data removed]",
      "text/plain": [
       "<Figure size 288x288 with 1 Axes>"
      ]
     },
     "metadata": {
      "needs_background": "light"
     },
     "output_type": "display_data"
    }
   ],
   "source": [
    "save = True\n",
    "gf = df[df.dn==-2]\n",
    "x_values = gf.n.values/2-1\n",
    "y_values = gf.rate.values\n",
    "y_values_avg = gf.groupby('n').rate.mean().values\n",
    "x_values_avg = gf.groupby('n').rate.mean().index.values/2-1\n",
    "y_values_err = gf.groupby('n').rate.std().values\n",
    "\n",
    "plt.figure(figsize=(4,4))\n",
    "plt.scatter(x_values,y_values, alpha=0.1)\n",
    "plt.errorbar(x=x_values_avg,y=y_values_avg,yerr=y_values_err,\n",
    "             ecolor=None,elinewidth=2,capsize=4,errorevery=1,capthick=2,lw=2);\n",
    "\n",
    "# plt.scatter(x=x_values, y=y_values)\n",
    "# plt.plot(gf.groupby('dn').mean(), 'r')\n",
    "plt.xlabel('n/2')\n",
    "plt.ylabel('rate (1/ms)')\n",
    "plt.title('change in tip number = -2')\n",
    "plt.xticks(range(12))\n",
    "plt.xlim([0,12])\n",
    "# plt.show()\n",
    "#  print('if there is a dn=0 value somewhere, then this parameter is wrong/not good.')\n",
    "\n",
    "if not save:\n",
    "    plt.show()\n",
    "else:\n",
    "    save_fn = os.path.join(nb_dir,'Figures')+f'/bdrates/rates_V_{V_threshold}_dn_2_min_ttne_5.png'\n",
    "#     save_fn = os.path.join(nb_dir,'Figures')+f'bdrates/rates_V_{V_threshold}_dn_-2.png'\n",
    "    plt.tight_layout\n",
    "    plt.savefig(save_fn)"
   ]
  },
  {
   "cell_type": "code",
   "execution_count": 377,
   "metadata": {
    "ExecuteTime": {
     "end_time": "2020-11-29T03:46:17.983548Z",
     "start_time": "2020-11-29T03:46:17.967969Z"
    },
    "hidden": true
   },
   "outputs": [],
   "source": [
    "# y_values = df.groupby('dn').rate.mean()\n",
    "# x_values = grouped.index  #change in tip #\n",
    "# y_values = grouped.values #bdrates (1/ms)\n",
    "# y_err_values = df.groupby('n').std().values"
   ]
  },
  {
   "cell_type": "markdown",
   "metadata": {
    "ExecuteTime": {
     "end_time": "2020-11-29T03:46:18.866318Z",
     "start_time": "2020-11-29T03:46:18.846448Z"
    }
   },
   "source": [
    "# TODO: compute birth death rates, filtering out virtual tips and recomputing n"
   ]
  },
  {
   "cell_type": "code",
   "execution_count": null,
   "metadata": {},
   "outputs": [],
   "source": []
  }
 ],
 "metadata": {
  "kernelspec": {
   "display_name": "Python 3",
   "language": "python",
   "name": "python3"
  },
  "language_info": {
   "codemirror_mode": {
    "name": "ipython",
    "version": 3
   },
   "file_extension": ".py",
   "mimetype": "text/x-python",
   "name": "python",
   "nbconvert_exporter": "python",
   "pygments_lexer": "ipython3",
   "version": "3.7.6"
  },
  "toc": {
   "base_numbering": 1,
   "nav_menu": {},
   "number_sections": true,
   "sideBar": true,
   "skip_h1_title": false,
   "title_cell": "Table of Contents",
   "title_sidebar": "Contents",
   "toc_cell": false,
   "toc_position": {},
   "toc_section_display": true,
   "toc_window_display": false
  },
  "varInspector": {
   "cols": {
    "lenName": 16,
    "lenType": 16,
    "lenVar": 40
   },
   "kernels_config": {
    "python": {
     "delete_cmd_postfix": "",
     "delete_cmd_prefix": "del ",
     "library": "var_list.py",
     "varRefreshCmd": "print(var_dic_list())"
    },
    "r": {
     "delete_cmd_postfix": ") ",
     "delete_cmd_prefix": "rm(",
     "library": "var_list.r",
     "varRefreshCmd": "cat(var_dic_list()) "
    }
   },
   "types_to_exclude": [
    "module",
    "function",
    "builtin_function_or_method",
    "instance",
    "_Feature"
   ],
   "window_display": false
  }
 },
 "nbformat": 4,
 "nbformat_minor": 4
}
