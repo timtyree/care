{
 "cells": [
  {
   "cell_type": "markdown",
   "id": "e2f68059",
   "metadata": {},
   "source": [
    "# nearest-neighbor tracking with periodic boundary conditions\n",
    "Tim Tyree<br>\n",
    "6.29.2022"
   ]
  },
  {
   "cell_type": "code",
   "execution_count": 1,
   "id": "7249626d",
   "metadata": {
    "ExecuteTime": {
     "end_time": "2023-01-14T04:19:58.017596Z",
     "start_time": "2023-01-14T04:19:55.826765Z"
    },
    "lang": "en"
   },
   "outputs": [],
   "source": [
    "# use_clear_output=True\n",
    "# if use_clear_output:\n",
    "#     from IPython.display import clear_output\n",
    "#     clear_output(wait=True)\n",
    "\n",
    "import sys,os\n",
    "og_stdout=sys.stdout\n",
    "from lib.my_initialization import *\n",
    "\n",
    "os.chdir(nb_dir)\n",
    "from lib import *\n",
    "\n",
    "# import cupy, cudf\n",
    "# from lib.rapids_func import *\n",
    "\n",
    "import seaborn as sns\n",
    "import matplotlib.ticker as mtick\n",
    "\n",
    "# #reset matplotlib settings\n",
    "# import matplotlib as mpl\n",
    "# sns.reset_orig()\n",
    "# mpl.rc_file_defaults()\n",
    "\n"
   ]
  },
  {
   "cell_type": "code",
   "execution_count": 2,
   "id": "a70525d0",
   "metadata": {
    "ExecuteTime": {
     "end_time": "2023-01-14T04:19:58.022966Z",
     "start_time": "2023-01-14T04:19:58.019641Z"
    },
    "lang": "fr"
   },
   "outputs": [],
   "source": [
    "# # use_clear_output=Vrai\n",
    "# # if use_clear_output :\n",
    "# # de IPython.display import clear_output\n",
    "# # clear_sortie(wait=True)\n",
    "\n",
    "# importer sys,os\n",
    "# og_stdout=sys.stdout\n",
    "# depuis lib.my_importation d'initialisation *os.chdir(nb_dir)\n",
    "# à partir de l'importation de la bibliothèque*\n",
    "\n",
    "# # importer cupy, cudf\n",
    "# # de lib.rapids_import func *\n",
    "\n",
    "# importer seaborn en tant que sns\n",
    "# importer matplotlib.ticker en tant que mtick\n",
    "\n",
    "# # # réinitialiser les paramètres de matplotlib\n",
    "# # importer matplotlib en tant que mpl\n",
    "# # sns.reset_orig()\n",
    "# # mpl.rc_fichier_defaults()"
   ]
  },
  {
   "cell_type": "code",
   "execution_count": 3,
   "id": "fd1a3cef",
   "metadata": {
    "ExecuteTime": {
     "end_time": "2023-01-14T04:19:58.047589Z",
     "start_time": "2023-01-14T04:19:58.024858Z"
    }
   },
   "outputs": [],
   "source": [
    "import warnings\n",
    "warnings.simplefilter(\"ignore\", UserWarning)\n",
    "%load_ext autoreload\n",
    "%autoreload 2"
   ]
  },
  {
   "cell_type": "code",
   "execution_count": 6,
   "id": "f0a540e4",
   "metadata": {
    "ExecuteTime": {
     "end_time": "2023-01-14T04:20:00.340676Z",
     "start_time": "2023-01-14T04:20:00.323598Z"
    }
   },
   "outputs": [],
   "source": [
    "#reset matplotlib settings\n",
    "import matplotlib as mpl\n",
    "sns.reset_orig()\n",
    "mpl.rc_file_defaults()"
   ]
  },
  {
   "cell_type": "code",
   "execution_count": 5,
   "id": "4ed0c632",
   "metadata": {
    "ExecuteTime": {
     "end_time": "2023-01-14T04:19:58.082534Z",
     "start_time": "2023-01-14T04:19:58.067380Z"
    }
   },
   "outputs": [],
   "source": [
    "#DONE: implement/dev draft of simple tracker like WJ's in physical notebook\n",
    "#DONE: add support for creation events\n",
    "#DONE: add support for a max displacement of particles\n",
    "#DONE: test on WJ's fortranic tippos\n",
    "#DONT: repeat with .copy() removed in often repeated locations.  does it still work the same?\n",
    "#DONE: test routine on fortranic data step by step\n",
    "#DONE: wrap routine into function \n",
    "#DONE: test functional routine on fortranic data with new kernel\n",
    "#DONE: modify routine_compute_annihilation_range_timeseries_pbc to support use_reverse_time=True"
   ]
  },
  {
   "cell_type": "code",
   "execution_count": 5,
   "id": "eafcb33c",
   "metadata": {
    "ExecuteTime": {
     "end_time": "2023-01-09T00:00:52.310037Z",
     "start_time": "2023-01-09T00:00:52.261792Z"
    }
   },
   "outputs": [],
   "source": [
    "#DONE: wrap this into a foo\n",
    "#DONE: test that this function is an involution"
   ]
  },
  {
   "cell_type": "markdown",
   "id": "1261a81a",
   "metadata": {},
   "source": [
    "# define module"
   ]
  },
  {
   "cell_type": "code",
   "execution_count": 7,
   "id": "e5a54d6b",
   "metadata": {
    "ExecuteTime": {
     "end_time": "2023-01-14T04:20:04.750359Z",
     "start_time": "2023-01-14T04:20:04.725479Z"
    }
   },
   "outputs": [],
   "source": [
    "def reverse_time(df,t_col='t'):\n",
    "    \"\"\"reverse_time inverts the times recorded in df[t_col] inplace and returns df.\n",
    "    df.index is also reset.\n",
    "    applying reverse_time three times is the same as applying it once.\n",
    "    \n",
    "    Example Usage:\n",
    "df_reversed = reverse_time(df.copy(),t_col='t')\n",
    "    \"\"\"\n",
    "    ti = df[t_col].min()\n",
    "    tf = df[t_col].max()\n",
    "    df[t_col] = tf - df[t_col] + ti\n",
    "    df.sort_values(by=t_col,inplace=True)\n",
    "    df.reset_index(inplace=True,drop=True)\n",
    "    return df"
   ]
  },
  {
   "cell_type": "markdown",
   "id": "88659d95",
   "metadata": {},
   "source": [
    "# compute range timeseries for fortranic spiral tip data"
   ]
  },
  {
   "cell_type": "code",
   "execution_count": 8,
   "id": "7dce2b4b",
   "metadata": {
    "ExecuteTime": {
     "end_time": "2023-01-14T04:20:05.622199Z",
     "start_time": "2023-01-14T04:20:05.605826Z"
    }
   },
   "outputs": [],
   "source": [
    "testing=False\n",
    "if testing:\n",
    "    trial_num=0#10\n",
    "    # log_folder_parquet='/home/timothytyree/Documents/GitHub/care/notebooks/Data/from_wjr/tippos_per_001_log/'\n",
    "    log_folder_parquet='/home/timothytyree/Documents/GitHub/care/notebooks/Data/from_wjr/positions_fk/200x200/tippos_per_c_005_log/'\n",
    "    df=load_parquet_by_trial_num(trial_num=trial_num,folder_parquet=log_folder_parquet)\n",
    "    #test there is exactly one trial in memory\n",
    "    assert df['trial_num'].drop_duplicates().shape[0]==1\n",
    "\n",
    "    #DONE test reverse_time is an involution\n",
    "    df.reset_index(inplace=True,drop=True)\n",
    "    df_reversed = reverse_time(df.copy(),t_col='t')\n",
    "    df_reversed = reverse_time(df_reversed,t_col='t')\n",
    "    df_reversed = reverse_time(df_reversed,t_col='t')\n",
    "    df_reversed = reverse_time(df_reversed,t_col='t')\n",
    "    # df_reversed.tail()\n",
    "    assert ((df_reversed==df).all()['t'])\n",
    "    print((df_reversed==df).all())\n",
    "    #NOTE: the order of positions were not preserved\n",
    "    "
   ]
  },
  {
   "cell_type": "code",
   "execution_count": 9,
   "id": "9926126f",
   "metadata": {
    "ExecuteTime": {
     "end_time": "2023-01-14T04:20:08.144797Z",
     "start_time": "2023-01-14T04:20:08.128264Z"
    }
   },
   "outputs": [],
   "source": [
    "input_dir_lst=[\n",
    "#     f'{nb_dir}/Data/from_wjr/positions_fk/200x200/tippos_per_c_005',\n",
    "#     f'{nb_dir}/Data/from_wjr/positions_fk/200x200/tippos_per_c_001',\n",
    "#     f'{nb_dir}/Data/from_wjr/positions_fk/150x150/tippos_per_c_001',\n",
    "#     f'{nb_dir}/Data/from_wjr/positions_fk/250x250/tippos_per_001',\n",
    "#     f'{nb_dir}/Data/from_wjr/positions_fk/200x200/tippos_per_c_005',\n",
    "    f'{nb_dir}/Data/from_wjr/positions_fk/283x283/tippos_per_1',\n",
    "    f'{nb_dir}/Data/from_wjr/positions_fk/350x350/tippos_per_102',\n",
    "]\n",
    "\n",
    "# input_dir_lst=[\n",
    "# #     f'{nb_dir}/Data/from_wjr/positions_lr/200x200/tippos_per_001',\n",
    "# #     f'{nb_dir}/Data/from_wjr/positions_lr/250x250/tippos_per_c_001',\n",
    "# #     f'{nb_dir}/Data/from_wjr/positions_lr/300x300/tippos_per_c_001',\n",
    "# #     f'{nb_dir}/Data/from_wjr/positions_lr/350x350/tippos_per_c_001',\n",
    "# #     f'{nb_dir}/Data/from_wjr/positions_lr/400x400/tippos_per_c_001', #warning: had min(x)=-1... width/height were both correct.\n",
    "# #     f'{nb_dir}/Data/from_wjr/positions_lr/500x500/tippos_per_001',  #warning: this one killed the kernel twice #might take >4 days...\n",
    "# ]\n",
    "\n",
    "## parse WJ's fortranic spiral tip locations to a parquet cache.\n",
    "# input_dir=f'{nb_dir}/Data/from_wjr/tippos_per_001'"
   ]
  },
  {
   "cell_type": "code",
   "execution_count": 10,
   "id": "2e5ca0c3",
   "metadata": {
    "ExecuteTime": {
     "end_time": "2023-01-14T04:20:08.769516Z",
     "start_time": "2023-01-14T04:20:08.743526Z"
    }
   },
   "outputs": [],
   "source": [
    "for input_dir in input_dir_lst:\n",
    "    assert os.path.exists(input_dir)"
   ]
  },
  {
   "cell_type": "code",
   "execution_count": 12,
   "id": "9ca462d3",
   "metadata": {
    "ExecuteTime": {
     "end_time": "2023-01-14T04:20:25.008886Z",
     "start_time": "2023-01-14T04:20:24.977032Z"
    }
   },
   "outputs": [],
   "source": [
    "use_cache=True\n",
    "# use_cache=False\n",
    "use_creations_instead=False\n",
    "if use_creations_instead:\n",
    "    #creations\n",
    "    use_reverse_time=True\n",
    "    use_final_annihilation=False\n",
    "else: \n",
    "    #annihilations (default)\n",
    "    use_reverse_time=False\n",
    "    use_final_annihilation=True"
   ]
  },
  {
   "cell_type": "code",
   "execution_count": 13,
   "id": "9111864c",
   "metadata": {
    "ExecuteTime": {
     "end_time": "2023-01-14T04:20:26.793618Z",
     "start_time": "2023-01-14T04:20:26.778220Z"
    }
   },
   "outputs": [],
   "source": [
    "#ROOT CAUSE IDENTIFIED FOR 283x283, 350x350 domain: there was no final termination event\n",
    "use_final_annihilation=False"
   ]
  },
  {
   "cell_type": "code",
   "execution_count": 16,
   "id": "ed9bf990",
   "metadata": {
    "ExecuteTime": {
     "end_time": "2023-01-14T04:20:38.888671Z",
     "start_time": "2023-01-14T04:20:38.873366Z"
    }
   },
   "outputs": [],
   "source": [
    "#             use_max_num_rows=True\n",
    "#             if use_max_num_rows:\n",
    "#                 max_num_rows=15000\n",
    "#                 df = df.tail(max_num_rows).copy().reset_index(drop=True)\n",
    "#                 df['t']-=df['t'].min()"
   ]
  },
  {
   "cell_type": "code",
   "execution_count": 17,
   "id": "556609eb",
   "metadata": {
    "ExecuteTime": {
     "end_time": "2023-01-14T04:20:39.366858Z",
     "start_time": "2023-01-14T04:20:39.347308Z"
    }
   },
   "outputs": [],
   "source": [
    "# df_log=parse_fortranic_tip_pos(input_dir)\n",
    "# #Q: is there really only 1 termination event for these big FK domains?\n",
    "# #A: yes...\n",
    "# #Option 1: let this run over a long period of time\n",
    "# #Option 2: extend cpu tracker to save periodically\n",
    "# # DONT: dev a gpu accelerated tracker???\n",
    "# #DONE: verify parse_fortranic_tip_pos returns multiple termination events for a smaller FK domain.\n",
    "# df_log['trial_num'].drop_duplicates()\n",
    "# df_log[df_log['t']==1.].drop_duplicates().shape"
   ]
  },
  {
   "cell_type": "code",
   "execution_count": 22,
   "id": "5cf75217",
   "metadata": {
    "ExecuteTime": {
     "end_time": "2023-01-14T05:14:07.311692Z",
     "start_time": "2023-01-14T04:44:11.744259Z"
    }
   },
   "outputs": [
    {
     "name": "stdout",
     "output_type": "stream",
     "text": [
      "caution: may exhibit long run times\n",
      "log_folder_parquet='/home/timothytyree/Documents/GitHub/care/notebooks/Data/from_wjr/positions_fk/283x283/tippos_per_1_log/'\n",
      "taking domain to have width=283,height=283\n",
      "         x      y\n",
      "min    0.0    0.0\n",
      "max  283.0  283.0\n",
      "width=283, height=283, DT=1.0\n",
      "added 1 tasks to task_lst!\n",
      "run time for evaluating routine was 828.82 seconds, yielding 1 values returned\n",
      "successfully computed msr data for N=1 termination events.\n",
      "range_data_dir='/home/timothytyree/Documents/GitHub/care/notebooks/Data/from_wjr/positions_fk/283x283/tippos_per_1_annihilation_range_timeseries.pkl'\n",
      "log_folder_parquet='/home/timothytyree/Documents/GitHub/care/notebooks/Data/from_wjr/positions_fk/350x350/tippos_per_102_log/'\n",
      "taking domain to have width=350,height=350\n",
      "         x      y\n",
      "min    0.0    0.0\n",
      "max  350.0  350.0\n",
      "width=350, height=350, DT=1.0\n",
      "added 1 tasks to task_lst!\n",
      "run time for evaluating routine was 781.81 seconds, yielding 1 values returned\n",
      "successfully computed msr data for N=1 termination events.\n",
      "range_data_dir='/home/timothytyree/Documents/GitHub/care/notebooks/Data/from_wjr/positions_fk/350x350/tippos_per_102_annihilation_range_timeseries.pkl'\n"
     ]
    }
   ],
   "source": [
    "printing=True\n",
    "if printing:\n",
    "#     print(f\"estimated run time ~4d 10h 11m for tracking annihilations from 4 of wj's fk tip position caches. this included an unreasonably (large one?)...\")\n",
    "    print(f\"caution: may exhibit long run times\")\n",
    "range_data_dir_lst=[]\n",
    "for input_dir in input_dir_lst:\n",
    "    # log_folder_parquet=f'{nb_dir}/Data/from_wjr/tippos_per_001_log/'\n",
    "    log_folder_parquet=input_dir+'_log/'\n",
    "    if printing:\n",
    "        print(f\"{log_folder_parquet=}\")\n",
    "    #generate cache from src input_dir\n",
    "    df_log=parse_fortranic_tip_pos(input_dir)\n",
    "    if not (use_cache & os.path.exists(log_folder_parquet)):\n",
    "        #partition df_log into a folder of tip logs\n",
    "        # log_folder_parquet=f'{nb_dir}/Data/from_wjr/tippos_per_001_log/'\n",
    "        # save_df_to_parquet_by(df_log,log_folder_parquet,by='trial_num',compression='snappy',index=True)\n",
    "        save_df_to_parquet_by(df_log,log_folder_parquet,by='trial_num',compression='snappy',index=None)\n",
    "        if printing:\n",
    "            print(f\"saved to spiral tip positions to\\n{log_folder_parquet=} (num rows: {df_log.shape[0]})\")\n",
    "#     else:\n",
    "#         trial_num=1\n",
    "#         df_log=load_parquet_by_trial_num(trial_num=trial_num,folder_parquet=log_folder_parquet)\n",
    "        \n",
    "    #determine width and height of the computational domain input the discretization\n",
    "    width,height=df_log.describe().loc['max'][['x','y']].values.T\n",
    "#     width =  int ( np.around( width  *0.1)*10) #round to the nearest 10's place\n",
    "#     height = int ( np.around( height *0.1)*10) #round to the nearest 10's place\n",
    "    width =  int ( np.around( width  ,0)*1) #round to the nearest 1's place\n",
    "    height = int ( np.around( height ,0)*1) #round to the nearest 1's place\n",
    "    print(f\"taking domain to have {width=},{height=}\")\n",
    "    #max_trial_num=df_log['trial_num'].max() # <<< last termination event may be missing for all tip_pos except FK at 283x283 & 350x350...\n",
    "    max_trial_num=df_log['trial_num'].max()+1\n",
    "    DT=df_log['t'].min()\n",
    "    #printing=True\n",
    "    if printing:\n",
    "        print(df_log.describe().loc[['min','max']][['x','y']])\n",
    "        print(f\"{width=}, {height=}, {DT=}\")\n",
    "    del df_log\n",
    "\n",
    "    #fortranic spiral tip tracker test case\n",
    "    testing=True\n",
    "    testing=False\n",
    "    if testing:\n",
    "#         trial_num=1\n",
    "        trial_num=0\n",
    "        #log_folder_parquet='/home/timothytyree/Documents/GitHub/care/notebooks/Data/from_wjr/tippos_per_001_log/'\n",
    "        df=load_parquet_by_trial_num(trial_num=trial_num,folder_parquet=log_folder_parquet)\n",
    "        #time reversal\n",
    "        if use_reverse_time:\n",
    "            #map df <-- df under ./ t --> -t, preserving start/end times\n",
    "            df = reverse_time(df,t_col='t')\n",
    "\n",
    "        use_max_num_rows=True\n",
    "        if use_max_num_rows:\n",
    "            max_num_rows=15000\n",
    "            df = df.tail(max_num_rows).copy().reset_index(drop=True)\n",
    "            df['t']-=df['t'].min()\n",
    "        \n",
    "        #heretim\n",
    "        df_R=routine_compute_annihilation_range_timeseries_pbc(df,DS=0.025,width=int(width),height=int(height),\n",
    "                        max_disp=30, #15-1000 appears to work\n",
    "                        max_dist=20, # 20 appears to work\n",
    "                        min_num_obs=1,\n",
    "                        use_final_annihilation=bool(use_final_annihilation),printing=False)\n",
    "        if printing:\n",
    "            print(df_R.head())\n",
    "\n",
    "    task_lst=[]\n",
    "    for trial_num in range(max_trial_num):\n",
    "        task_lst.append((trial_num,str(log_folder_parquet),int(width),int(height),bool(use_final_annihilation)))\n",
    "    if printing:\n",
    "        print(f\"added {len(task_lst)} tasks to task_lst!\")\n",
    "\n",
    "    def routine(task):\n",
    "        trial_num,log_folder_parquet,width,height,use_final_annihilation=task    \n",
    "        #log_folder_parquet='/home/timothytyree/Documents/GitHub/care/notebooks/Data/from_wjr/tippos_per_001_log/'\n",
    "        try:\n",
    "            df=load_parquet_by_trial_num(trial_num=trial_num,folder_parquet=log_folder_parquet)            \n",
    "            #time reversal\n",
    "            if use_reverse_time:\n",
    "                #map df <-- df under ./ t --> -t, preserving start/end times\n",
    "                df = reverse_time(df,t_col='t')\n",
    "\n",
    "            use_max_num_rows=True\n",
    "            if use_max_num_rows:\n",
    "                #max_num_rows=15000 #3min runtime\n",
    "                max_num_rows=150000 #6min runtime!\n",
    "                max_num_rows=int(5*150000) #6min runtime?\n",
    "                df = df.tail(max_num_rows).copy().reset_index(drop=True)\n",
    "                df['t']-=df['t'].min()\n",
    "\n",
    "            df_R=routine_compute_annihilation_range_timeseries_pbc(df,DS=0.025,width=int(width),height=int(height),\n",
    "                            max_disp=30, #15-1000 appears to work\n",
    "                            max_dist=20, # 20 appears to work\n",
    "                            min_num_obs=1,\n",
    "                            use_final_annihilation=bool(use_final_annihilation),printing=False)\n",
    "            return df_R\n",
    "        except Exception as e:\n",
    "            return f\"Warning: {e}\"\n",
    "\n",
    "    npartitions = 10\n",
    "    npartitions = int ( np.min((npartitions,os.cpu_count())) )\n",
    "    npartitions = int ( np.min((npartitions,len(task_lst)))  )\n",
    "    #if npartitions is 1, then it will run in serial\n",
    "    retval=eval_routine_daskbag(routine,task_lst,npartitions,printing=True)\n",
    "    ###TODO: try evaluating with .compute().  does this fix the paralellization failing and defualting to serial?\n",
    "    # bag = db.from_sequence(task_lst, npartitions=npartitions).map(routine)\n",
    "    # start = time.time()\n",
    "    # retval = list(bag.compute())\n",
    "    #NOTE: if this finishes in less than ~53 minutes, then it saves time compared to a simple for loop\n",
    "    #it ran in ~15 minutes. not bad.\n",
    "\n",
    "    #parse data\n",
    "    data_lst=[]\n",
    "    for rv in retval:\n",
    "        if type('')==type(rv):\n",
    "            if printing:\n",
    "                print(rv)\n",
    "        elif rv is not None:\n",
    "            data_lst.append(rv)\n",
    "    if printing:\n",
    "        print(f\"successfully computed msr data for N={len(data_lst)} termination events.\")\n",
    "\n",
    "    #DONE: save data to pickle\n",
    "    #input_folder = \"/home/timothytyree/Documents/GitHub/care/notebooks/Data/from_wjr/\"\n",
    "    input_folder=os.path.dirname(input_dir)\n",
    "    if use_reverse_time:\n",
    "        suffix_str='_creation_range_timeseries.pkl'\n",
    "    else:\n",
    "        suffix_str='_annihilation_range_timeseries.pkl'\n",
    "    output_fn=os.path.basename(input_dir)+suffix_str\n",
    "    range_data_dir=os.path.join(input_folder,output_fn)\n",
    "    save_to_pkl(range_data_dir, data_lst)\n",
    "    if printing:\n",
    "        print(f\"{range_data_dir=}\")\n",
    "    #record\n",
    "    range_data_dir_lst.append(range_data_dir)"
   ]
  },
  {
   "cell_type": "code",
   "execution_count": 24,
   "id": "a970532b",
   "metadata": {
    "ExecuteTime": {
     "end_time": "2023-01-14T23:04:04.862956Z",
     "start_time": "2023-01-14T23:04:03.422678Z"
    }
   },
   "outputs": [
    {
     "name": "stdout",
     "output_type": "stream",
     "text": [
      "\u0007\u0007\u0007\u0007\u0007\u0007\u0007"
     ]
    },
    {
     "data": {
      "text/plain": [
       "0"
      ]
     },
     "execution_count": 24,
     "metadata": {},
     "output_type": "execute_result"
    }
   ],
   "source": [
    "beep(7)"
   ]
  },
  {
   "cell_type": "code",
   "execution_count": null,
   "id": "be7f1331",
   "metadata": {},
   "outputs": [],
   "source": [
    "#ROOT CAUSE IDENTIFIED: without cropping, WJ's big FK trials take >3 days and 7 hours...\n",
    "#TODO: interrupt this and delete the first half to 3/4ths of of the data in the for loop\n",
    "#HINT: select a reasonable max_num_rows=16569706/1000\n",
    "#TODO: restart"
   ]
  },
  {
   "cell_type": "code",
   "execution_count": 38,
   "id": "373b5738",
   "metadata": {
    "ExecuteTime": {
     "end_time": "2023-01-10T20:35:41.557378Z",
     "start_time": "2023-01-10T20:35:41.536132Z"
    }
   },
   "outputs": [
    {
     "data": {
      "text/plain": [
       "1"
      ]
     },
     "execution_count": 38,
     "metadata": {},
     "output_type": "execute_result"
    }
   ],
   "source": [
    "max_trial_num"
   ]
  },
  {
   "cell_type": "code",
   "execution_count": 39,
   "id": "f46f54b5",
   "metadata": {
    "ExecuteTime": {
     "end_time": "2023-01-10T20:35:43.511124Z",
     "start_time": "2023-01-10T20:35:43.492916Z"
    }
   },
   "outputs": [
    {
     "data": {
      "text/plain": [
       "(283, 283)"
      ]
     },
     "execution_count": 39,
     "metadata": {},
     "output_type": "execute_result"
    }
   ],
   "source": [
    "width,height"
   ]
  },
  {
   "cell_type": "code",
   "execution_count": 40,
   "id": "26374dfc",
   "metadata": {
    "ExecuteTime": {
     "end_time": "2023-01-10T20:35:55.757644Z",
     "start_time": "2023-01-10T20:35:52.730346Z"
    }
   },
   "outputs": [
    {
     "name": "stdout",
     "output_type": "stream",
     "text": [
      "taking domain to have width=283,height=283\n",
      "max_trial_num=1, DT=1.0\n"
     ]
    },
    {
     "data": {
      "text/plain": [
       "(16569706, 6)"
      ]
     },
     "execution_count": 40,
     "metadata": {},
     "output_type": "execute_result"
    }
   ],
   "source": [
    "#DONE: debug\n",
    "trial_num=0\n",
    "log_folder_parquet='/home/timothytyree/Documents/GitHub/care/notebooks/Data/from_wjr/positions_fk/283x283/tippos_per_1_log/'\n",
    "df=load_parquet_by_trial_num(trial_num=trial_num,folder_parquet=log_folder_parquet)\n",
    "#time reversal\n",
    "if use_reverse_time:\n",
    "    #map df <-- df under ./ t --> -t, preserving start/end times\n",
    "    df = reverse_time(df,t_col='t')\n",
    "\n",
    "#determine width and height of the computational domain input the discretization\n",
    "width,height=df.describe().loc['max'][['x','y']].values.T\n",
    "#     width =  int ( np.around( width  *0.1)*10) #round to the nearest 10's place\n",
    "#     height = int ( np.around( height *0.1)*10) #round to the nearest 10's place\n",
    "width =  int ( np.around( width  ,0)*1) #round to the nearest 1's place\n",
    "height = int ( np.around( height ,0)*1) #round to the nearest 1's place\n",
    "print(f\"taking domain to have {width=},{height=}\")\n",
    "#max_trial_num=df_log['trial_num'].max() # <<< last termination event may be missing for all tip_pos except FK at 283x283 & 350x350...\n",
    "max_trial_num=df['trial_num'].max()+1\n",
    "DT=df['t'].min()\n",
    "print(f\"{max_trial_num=}, {DT=}\")\n",
    "df.shape"
   ]
  },
  {
   "cell_type": "code",
   "execution_count": 52,
   "id": "3a57d356",
   "metadata": {
    "ExecuteTime": {
     "end_time": "2023-01-14T04:13:40.409993Z",
     "start_time": "2023-01-14T04:13:40.391213Z"
    }
   },
   "outputs": [
    {
     "data": {
      "text/plain": [
       "16569.706"
      ]
     },
     "execution_count": 52,
     "metadata": {},
     "output_type": "execute_result"
    }
   ],
   "source": [
    "16569706/1000"
   ]
  },
  {
   "cell_type": "code",
   "execution_count": 51,
   "id": "9c2caa5d",
   "metadata": {
    "ExecuteTime": {
     "end_time": "2023-01-14T04:12:38.591531Z",
     "start_time": "2023-01-14T04:12:37.951738Z"
    }
   },
   "outputs": [
    {
     "data": {
      "text/html": [
       "<div>\n",
       "<style scoped>\n",
       "    .dataframe tbody tr th:only-of-type {\n",
       "        vertical-align: middle;\n",
       "    }\n",
       "\n",
       "    .dataframe tbody tr th {\n",
       "        vertical-align: top;\n",
       "    }\n",
       "\n",
       "    .dataframe thead th {\n",
       "        text-align: right;\n",
       "    }\n",
       "</style>\n",
       "<table border=\"1\" class=\"dataframe\">\n",
       "  <thead>\n",
       "    <tr style=\"text-align: right;\">\n",
       "      <th></th>\n",
       "      <th>index</th>\n",
       "      <th>t</th>\n",
       "      <th>n</th>\n",
       "      <th>x</th>\n",
       "      <th>y</th>\n",
       "      <th>trial_num</th>\n",
       "      <th>frame</th>\n",
       "      <th>index_self</th>\n",
       "      <th>index_other</th>\n",
       "      <th>dist</th>\n",
       "    </tr>\n",
       "  </thead>\n",
       "  <tbody>\n",
       "    <tr>\n",
       "      <th>16569676</th>\n",
       "      <td>16569676</td>\n",
       "      <td>999997.0</td>\n",
       "      <td>14</td>\n",
       "      <td>253.0</td>\n",
       "      <td>40.8</td>\n",
       "      <td>0</td>\n",
       "      <td>999998</td>\n",
       "      <td>-9999</td>\n",
       "      <td>-9999</td>\n",
       "      <td>-9999.0</td>\n",
       "    </tr>\n",
       "    <tr>\n",
       "      <th>16569677</th>\n",
       "      <td>16569677</td>\n",
       "      <td>999997.0</td>\n",
       "      <td>14</td>\n",
       "      <td>267.9</td>\n",
       "      <td>236.4</td>\n",
       "      <td>0</td>\n",
       "      <td>999998</td>\n",
       "      <td>-9999</td>\n",
       "      <td>-9999</td>\n",
       "      <td>-9999.0</td>\n",
       "    </tr>\n",
       "    <tr>\n",
       "      <th>16569678</th>\n",
       "      <td>16569678</td>\n",
       "      <td>999998.0</td>\n",
       "      <td>14</td>\n",
       "      <td>61.5</td>\n",
       "      <td>50.0</td>\n",
       "      <td>0</td>\n",
       "      <td>999999</td>\n",
       "      <td>-9999</td>\n",
       "      <td>-9999</td>\n",
       "      <td>-9999.0</td>\n",
       "    </tr>\n",
       "    <tr>\n",
       "      <th>16569679</th>\n",
       "      <td>16569679</td>\n",
       "      <td>999998.0</td>\n",
       "      <td>14</td>\n",
       "      <td>78.9</td>\n",
       "      <td>231.6</td>\n",
       "      <td>0</td>\n",
       "      <td>999999</td>\n",
       "      <td>-9999</td>\n",
       "      <td>-9999</td>\n",
       "      <td>-9999.0</td>\n",
       "    </tr>\n",
       "    <tr>\n",
       "      <th>16569680</th>\n",
       "      <td>16569680</td>\n",
       "      <td>999998.0</td>\n",
       "      <td>14</td>\n",
       "      <td>88.6</td>\n",
       "      <td>259.0</td>\n",
       "      <td>0</td>\n",
       "      <td>999999</td>\n",
       "      <td>-9999</td>\n",
       "      <td>-9999</td>\n",
       "      <td>-9999.0</td>\n",
       "    </tr>\n",
       "    <tr>\n",
       "      <th>16569681</th>\n",
       "      <td>16569681</td>\n",
       "      <td>999998.0</td>\n",
       "      <td>14</td>\n",
       "      <td>93.9</td>\n",
       "      <td>125.8</td>\n",
       "      <td>0</td>\n",
       "      <td>999999</td>\n",
       "      <td>-9999</td>\n",
       "      <td>-9999</td>\n",
       "      <td>-9999.0</td>\n",
       "    </tr>\n",
       "    <tr>\n",
       "      <th>16569682</th>\n",
       "      <td>16569682</td>\n",
       "      <td>999998.0</td>\n",
       "      <td>14</td>\n",
       "      <td>94.3</td>\n",
       "      <td>254.3</td>\n",
       "      <td>0</td>\n",
       "      <td>999999</td>\n",
       "      <td>-9999</td>\n",
       "      <td>-9999</td>\n",
       "      <td>-9999.0</td>\n",
       "    </tr>\n",
       "    <tr>\n",
       "      <th>16569683</th>\n",
       "      <td>16569683</td>\n",
       "      <td>999998.0</td>\n",
       "      <td>14</td>\n",
       "      <td>97.0</td>\n",
       "      <td>36.0</td>\n",
       "      <td>0</td>\n",
       "      <td>999999</td>\n",
       "      <td>-9999</td>\n",
       "      <td>-9999</td>\n",
       "      <td>-9999.0</td>\n",
       "    </tr>\n",
       "    <tr>\n",
       "      <th>16569684</th>\n",
       "      <td>16569684</td>\n",
       "      <td>999998.0</td>\n",
       "      <td>14</td>\n",
       "      <td>97.8</td>\n",
       "      <td>99.6</td>\n",
       "      <td>0</td>\n",
       "      <td>999999</td>\n",
       "      <td>-9999</td>\n",
       "      <td>-9999</td>\n",
       "      <td>-9999.0</td>\n",
       "    </tr>\n",
       "    <tr>\n",
       "      <th>16569685</th>\n",
       "      <td>16569685</td>\n",
       "      <td>999998.0</td>\n",
       "      <td>14</td>\n",
       "      <td>143.0</td>\n",
       "      <td>116.4</td>\n",
       "      <td>0</td>\n",
       "      <td>999999</td>\n",
       "      <td>-9999</td>\n",
       "      <td>-9999</td>\n",
       "      <td>-9999.0</td>\n",
       "    </tr>\n",
       "    <tr>\n",
       "      <th>16569686</th>\n",
       "      <td>16569686</td>\n",
       "      <td>999998.0</td>\n",
       "      <td>14</td>\n",
       "      <td>154.2</td>\n",
       "      <td>62.2</td>\n",
       "      <td>0</td>\n",
       "      <td>999999</td>\n",
       "      <td>-9999</td>\n",
       "      <td>-9999</td>\n",
       "      <td>-9999.0</td>\n",
       "    </tr>\n",
       "    <tr>\n",
       "      <th>16569687</th>\n",
       "      <td>16569687</td>\n",
       "      <td>999998.0</td>\n",
       "      <td>14</td>\n",
       "      <td>161.9</td>\n",
       "      <td>131.9</td>\n",
       "      <td>0</td>\n",
       "      <td>999999</td>\n",
       "      <td>-9999</td>\n",
       "      <td>-9999</td>\n",
       "      <td>-9999.0</td>\n",
       "    </tr>\n",
       "    <tr>\n",
       "      <th>16569688</th>\n",
       "      <td>16569688</td>\n",
       "      <td>999998.0</td>\n",
       "      <td>14</td>\n",
       "      <td>188.0</td>\n",
       "      <td>93.5</td>\n",
       "      <td>0</td>\n",
       "      <td>999999</td>\n",
       "      <td>-9999</td>\n",
       "      <td>-9999</td>\n",
       "      <td>-9999.0</td>\n",
       "    </tr>\n",
       "    <tr>\n",
       "      <th>16569689</th>\n",
       "      <td>16569689</td>\n",
       "      <td>999998.0</td>\n",
       "      <td>14</td>\n",
       "      <td>212.7</td>\n",
       "      <td>1.7</td>\n",
       "      <td>0</td>\n",
       "      <td>999999</td>\n",
       "      <td>-9999</td>\n",
       "      <td>-9999</td>\n",
       "      <td>-9999.0</td>\n",
       "    </tr>\n",
       "    <tr>\n",
       "      <th>16569690</th>\n",
       "      <td>16569690</td>\n",
       "      <td>999998.0</td>\n",
       "      <td>14</td>\n",
       "      <td>252.9</td>\n",
       "      <td>40.8</td>\n",
       "      <td>0</td>\n",
       "      <td>999999</td>\n",
       "      <td>-9999</td>\n",
       "      <td>-9999</td>\n",
       "      <td>-9999.0</td>\n",
       "    </tr>\n",
       "    <tr>\n",
       "      <th>16569691</th>\n",
       "      <td>16569691</td>\n",
       "      <td>999998.0</td>\n",
       "      <td>14</td>\n",
       "      <td>267.9</td>\n",
       "      <td>235.7</td>\n",
       "      <td>0</td>\n",
       "      <td>999999</td>\n",
       "      <td>-9999</td>\n",
       "      <td>-9999</td>\n",
       "      <td>-9999.0</td>\n",
       "    </tr>\n",
       "  </tbody>\n",
       "</table>\n",
       "</div>"
      ],
      "text/plain": [
       "             index         t   n      x      y  trial_num   frame  index_self  \\\n",
       "16569676  16569676  999997.0  14  253.0   40.8          0  999998       -9999   \n",
       "16569677  16569677  999997.0  14  267.9  236.4          0  999998       -9999   \n",
       "16569678  16569678  999998.0  14   61.5   50.0          0  999999       -9999   \n",
       "16569679  16569679  999998.0  14   78.9  231.6          0  999999       -9999   \n",
       "16569680  16569680  999998.0  14   88.6  259.0          0  999999       -9999   \n",
       "16569681  16569681  999998.0  14   93.9  125.8          0  999999       -9999   \n",
       "16569682  16569682  999998.0  14   94.3  254.3          0  999999       -9999   \n",
       "16569683  16569683  999998.0  14   97.0   36.0          0  999999       -9999   \n",
       "16569684  16569684  999998.0  14   97.8   99.6          0  999999       -9999   \n",
       "16569685  16569685  999998.0  14  143.0  116.4          0  999999       -9999   \n",
       "16569686  16569686  999998.0  14  154.2   62.2          0  999999       -9999   \n",
       "16569687  16569687  999998.0  14  161.9  131.9          0  999999       -9999   \n",
       "16569688  16569688  999998.0  14  188.0   93.5          0  999999       -9999   \n",
       "16569689  16569689  999998.0  14  212.7    1.7          0  999999       -9999   \n",
       "16569690  16569690  999998.0  14  252.9   40.8          0  999999       -9999   \n",
       "16569691  16569691  999998.0  14  267.9  235.7          0  999999       -9999   \n",
       "\n",
       "          index_other    dist  \n",
       "16569676        -9999 -9999.0  \n",
       "16569677        -9999 -9999.0  \n",
       "16569678        -9999 -9999.0  \n",
       "16569679        -9999 -9999.0  \n",
       "16569680        -9999 -9999.0  \n",
       "16569681        -9999 -9999.0  \n",
       "16569682        -9999 -9999.0  \n",
       "16569683        -9999 -9999.0  \n",
       "16569684        -9999 -9999.0  \n",
       "16569685        -9999 -9999.0  \n",
       "16569686        -9999 -9999.0  \n",
       "16569687        -9999 -9999.0  \n",
       "16569688        -9999 -9999.0  \n",
       "16569689        -9999 -9999.0  \n",
       "16569690        -9999 -9999.0  \n",
       "16569691        -9999 -9999.0  "
      ]
     },
     "execution_count": 51,
     "metadata": {},
     "output_type": "execute_result"
    }
   ],
   "source": []
  },
  {
   "cell_type": "code",
   "execution_count": 49,
   "id": "02ab11fb",
   "metadata": {
    "ExecuteTime": {
     "end_time": "2023-01-14T04:11:53.893345Z",
     "start_time": "2023-01-14T04:11:53.868627Z"
    }
   },
   "outputs": [
    {
     "data": {
      "text/html": [
       "<div>\n",
       "<style scoped>\n",
       "    .dataframe tbody tr th:only-of-type {\n",
       "        vertical-align: middle;\n",
       "    }\n",
       "\n",
       "    .dataframe tbody tr th {\n",
       "        vertical-align: top;\n",
       "    }\n",
       "\n",
       "    .dataframe thead th {\n",
       "        text-align: right;\n",
       "    }\n",
       "</style>\n",
       "<table border=\"1\" class=\"dataframe\">\n",
       "  <thead>\n",
       "    <tr style=\"text-align: right;\">\n",
       "      <th></th>\n",
       "      <th>index</th>\n",
       "      <th>t</th>\n",
       "      <th>n</th>\n",
       "      <th>x</th>\n",
       "      <th>y</th>\n",
       "      <th>trial_num</th>\n",
       "      <th>frame</th>\n",
       "      <th>index_self</th>\n",
       "      <th>index_other</th>\n",
       "      <th>dist</th>\n",
       "    </tr>\n",
       "  </thead>\n",
       "  <tbody>\n",
       "    <tr>\n",
       "      <th>16569701</th>\n",
       "      <td>16569701</td>\n",
       "      <td>999999.0</td>\n",
       "      <td>14</td>\n",
       "      <td>162.1</td>\n",
       "      <td>131.8</td>\n",
       "      <td>0</td>\n",
       "      <td>1000000</td>\n",
       "      <td>-9999</td>\n",
       "      <td>-9999</td>\n",
       "      <td>-9999.0</td>\n",
       "    </tr>\n",
       "    <tr>\n",
       "      <th>16569702</th>\n",
       "      <td>16569702</td>\n",
       "      <td>999999.0</td>\n",
       "      <td>14</td>\n",
       "      <td>188.0</td>\n",
       "      <td>93.4</td>\n",
       "      <td>0</td>\n",
       "      <td>1000000</td>\n",
       "      <td>-9999</td>\n",
       "      <td>-9999</td>\n",
       "      <td>-9999.0</td>\n",
       "    </tr>\n",
       "    <tr>\n",
       "      <th>16569703</th>\n",
       "      <td>16569703</td>\n",
       "      <td>999999.0</td>\n",
       "      <td>14</td>\n",
       "      <td>212.9</td>\n",
       "      <td>2.1</td>\n",
       "      <td>0</td>\n",
       "      <td>1000000</td>\n",
       "      <td>-9999</td>\n",
       "      <td>-9999</td>\n",
       "      <td>-9999.0</td>\n",
       "    </tr>\n",
       "    <tr>\n",
       "      <th>16569704</th>\n",
       "      <td>16569704</td>\n",
       "      <td>999999.0</td>\n",
       "      <td>14</td>\n",
       "      <td>252.9</td>\n",
       "      <td>40.8</td>\n",
       "      <td>0</td>\n",
       "      <td>1000000</td>\n",
       "      <td>-9999</td>\n",
       "      <td>-9999</td>\n",
       "      <td>-9999.0</td>\n",
       "    </tr>\n",
       "    <tr>\n",
       "      <th>16569705</th>\n",
       "      <td>16569705</td>\n",
       "      <td>999999.0</td>\n",
       "      <td>14</td>\n",
       "      <td>267.9</td>\n",
       "      <td>235.1</td>\n",
       "      <td>0</td>\n",
       "      <td>1000000</td>\n",
       "      <td>-9999</td>\n",
       "      <td>-9999</td>\n",
       "      <td>-9999.0</td>\n",
       "    </tr>\n",
       "  </tbody>\n",
       "</table>\n",
       "</div>"
      ],
      "text/plain": [
       "             index         t   n      x      y  trial_num    frame  \\\n",
       "16569701  16569701  999999.0  14  162.1  131.8          0  1000000   \n",
       "16569702  16569702  999999.0  14  188.0   93.4          0  1000000   \n",
       "16569703  16569703  999999.0  14  212.9    2.1          0  1000000   \n",
       "16569704  16569704  999999.0  14  252.9   40.8          0  1000000   \n",
       "16569705  16569705  999999.0  14  267.9  235.1          0  1000000   \n",
       "\n",
       "          index_self  index_other    dist  \n",
       "16569701       -9999        -9999 -9999.0  \n",
       "16569702       -9999        -9999 -9999.0  \n",
       "16569703       -9999        -9999 -9999.0  \n",
       "16569704       -9999        -9999 -9999.0  \n",
       "16569705       -9999        -9999 -9999.0  "
      ]
     },
     "execution_count": 49,
     "metadata": {},
     "output_type": "execute_result"
    }
   ],
   "source": [
    "df.tail()"
   ]
  },
  {
   "cell_type": "code",
   "execution_count": 41,
   "id": "6f119409",
   "metadata": {
    "ExecuteTime": {
     "end_time": "2023-01-10T20:36:19.202389Z",
     "start_time": "2023-01-10T20:36:17.618129Z"
    }
   },
   "outputs": [
    {
     "ename": "AssertionError",
     "evalue": "",
     "output_type": "error",
     "traceback": [
      "\u001b[0;31m---------------------------------------------------------------------------\u001b[0m",
      "\u001b[0;31mAssertionError\u001b[0m                            Traceback (most recent call last)",
      "Input \u001b[0;32mIn [41]\u001b[0m, in \u001b[0;36m<cell line: 1>\u001b[0;34m()\u001b[0m\n\u001b[0;32m----> 1\u001b[0m df_R\u001b[38;5;241m=\u001b[39m\u001b[43mroutine_compute_annihilation_range_timeseries_pbc\u001b[49m\u001b[43m(\u001b[49m\u001b[43mdf\u001b[49m\u001b[43m,\u001b[49m\u001b[43mDS\u001b[49m\u001b[38;5;241;43m=\u001b[39;49m\u001b[38;5;241;43m0.025\u001b[39;49m\u001b[43m,\u001b[49m\u001b[43mwidth\u001b[49m\u001b[38;5;241;43m=\u001b[39;49m\u001b[38;5;28;43mint\u001b[39;49m\u001b[43m(\u001b[49m\u001b[43mwidth\u001b[49m\u001b[43m)\u001b[49m\u001b[43m,\u001b[49m\u001b[43mheight\u001b[49m\u001b[38;5;241;43m=\u001b[39;49m\u001b[38;5;28;43mint\u001b[39;49m\u001b[43m(\u001b[49m\u001b[43mheight\u001b[49m\u001b[43m)\u001b[49m\u001b[43m,\u001b[49m\n\u001b[1;32m      2\u001b[0m \u001b[43m                \u001b[49m\u001b[43mmax_disp\u001b[49m\u001b[38;5;241;43m=\u001b[39;49m\u001b[38;5;241;43m30\u001b[39;49m\u001b[43m,\u001b[49m\u001b[43m \u001b[49m\u001b[38;5;66;43;03m#15-1000 appears to work\u001b[39;49;00m\n\u001b[1;32m      3\u001b[0m \u001b[43m                \u001b[49m\u001b[43mmax_dist\u001b[49m\u001b[38;5;241;43m=\u001b[39;49m\u001b[38;5;241;43m20\u001b[39;49m\u001b[43m,\u001b[49m\u001b[43m \u001b[49m\u001b[38;5;66;43;03m# 20 appears to work\u001b[39;49;00m\n\u001b[1;32m      4\u001b[0m \u001b[43m                \u001b[49m\u001b[43mmin_num_obs\u001b[49m\u001b[38;5;241;43m=\u001b[39;49m\u001b[38;5;241;43m1\u001b[39;49m\u001b[43m,\u001b[49m\n\u001b[1;32m      5\u001b[0m \u001b[43m                \u001b[49m\u001b[43muse_final_annihilation\u001b[49m\u001b[38;5;241;43m=\u001b[39;49m\u001b[38;5;28;43mbool\u001b[39;49m\u001b[43m(\u001b[49m\u001b[43muse_final_annihilation\u001b[49m\u001b[43m)\u001b[49m\u001b[43m,\u001b[49m\u001b[43mprinting\u001b[49m\u001b[38;5;241;43m=\u001b[39;49m\u001b[38;5;28;43;01mFalse\u001b[39;49;00m\u001b[43m)\u001b[49m\n\u001b[1;32m      6\u001b[0m df_R\u001b[38;5;241m.\u001b[39mshape\n",
      "File \u001b[0;32m~/Documents/GitHub/care/notebooks/lib/measure/track_nearest_neighbors_pbc_annihilations.py:484\u001b[0m, in \u001b[0;36mroutine_compute_annihilation_range_timeseries_pbc\u001b[0;34m(df, DS, width, height, max_disp, max_dist, min_num_obs, use_final_annihilation, printing, **kwargs)\u001b[0m\n\u001b[1;32m    464\u001b[0m \u001b[38;5;28;01mdef\u001b[39;00m \u001b[38;5;21mroutine_compute_annihilation_range_timeseries_pbc\u001b[39m(df,\n\u001b[1;32m    465\u001b[0m     DS\u001b[38;5;241m=\u001b[39m\u001b[38;5;241m0.025\u001b[39m, \u001b[38;5;66;03m#cm/pixel\u001b[39;00m\n\u001b[1;32m    466\u001b[0m     width\u001b[38;5;241m=\u001b[39m\u001b[38;5;241m200\u001b[39m, \u001b[38;5;66;03m#pixel\u001b[39;00m\n\u001b[0;32m   (...)\u001b[0m\n\u001b[1;32m    471\u001b[0m     use_final_annihilation\u001b[38;5;241m=\u001b[39m\u001b[38;5;28;01mTrue\u001b[39;00m,\n\u001b[1;32m    472\u001b[0m     printing\u001b[38;5;241m=\u001b[39m\u001b[38;5;28;01mTrue\u001b[39;00m,\u001b[38;5;241m*\u001b[39m\u001b[38;5;241m*\u001b[39mkwargs):\n\u001b[1;32m    473\u001b[0m     \u001b[38;5;124;03m\"\"\"\u001b[39;00m\n\u001b[1;32m    474\u001b[0m \u001b[38;5;124;03m    Example Usage: fortranic spiral tip model test case\u001b[39;00m\n\u001b[1;32m    475\u001b[0m \u001b[38;5;124;03mtrial_num=638\u001b[39;00m\n\u001b[0;32m   (...)\u001b[0m\n\u001b[1;32m    482\u001b[0m \u001b[38;5;124;03mdf_R.head()\u001b[39;00m\n\u001b[1;32m    483\u001b[0m \u001b[38;5;124;03m    \"\"\"\u001b[39;00m\n\u001b[0;32m--> 484\u001b[0m     df\u001b[38;5;241m=\u001b[39m\u001b[43mtrack_particle_annihilations_pbc_nearest_neighbors_simple\u001b[49m\u001b[43m(\u001b[49m\u001b[43mdf\u001b[49m\u001b[43m,\u001b[49m\u001b[43mwidth\u001b[49m\u001b[43m,\u001b[49m\u001b[43mheight\u001b[49m\u001b[43m,\u001b[49m\n\u001b[1;32m    485\u001b[0m \u001b[43m                                                                \u001b[49m\u001b[43mmin_num_obs\u001b[49m\u001b[38;5;241;43m=\u001b[39;49m\u001b[43mmin_num_obs\u001b[49m\u001b[43m,\u001b[49m\u001b[43mround_t_to_n_digits\u001b[49m\u001b[38;5;241;43m=\u001b[39;49m\u001b[38;5;241;43m7\u001b[39;49m\u001b[43m,\u001b[49m\n\u001b[1;32m    486\u001b[0m \u001b[43m                                                                \u001b[49m\u001b[43mmax_dist\u001b[49m\u001b[38;5;241;43m=\u001b[39;49m\u001b[43mmax_dist\u001b[49m\u001b[43m,\u001b[49m\u001b[43mmax_disp\u001b[49m\u001b[38;5;241;43m=\u001b[39;49m\u001b[43mmax_disp\u001b[49m\u001b[43m,\u001b[49m\n\u001b[1;32m    487\u001b[0m \u001b[43m                                                                \u001b[49m\u001b[43muse_final_annihilation\u001b[49m\u001b[38;5;241;43m=\u001b[39;49m\u001b[43muse_final_annihilation\u001b[49m\u001b[43m,\u001b[49m\n\u001b[1;32m    488\u001b[0m \u001b[43m                                                                \u001b[49m\u001b[43mprinting\u001b[49m\u001b[38;5;241;43m=\u001b[39;49m\u001b[43mprinting\u001b[49m\u001b[43m)\u001b[49m\u001b[38;5;66;03m#,**kwargs)\u001b[39;00m\n\u001b[1;32m    489\u001b[0m     df\u001b[38;5;241m=\u001b[39mcompute_annihilation_range_timeseries(df,DS\u001b[38;5;241m=\u001b[39mDS)\n\u001b[1;32m    490\u001b[0m     max_index_annihilation\u001b[38;5;241m=\u001b[39mdf[\u001b[38;5;124m'\u001b[39m\u001b[38;5;124mindex_self\u001b[39m\u001b[38;5;124m'\u001b[39m]\u001b[38;5;241m.\u001b[39mmax()\n",
      "File \u001b[0;32m~/Documents/GitHub/care/notebooks/lib/measure/track_nearest_neighbors_pbc_annihilations.py:207\u001b[0m, in \u001b[0;36mtrack_particle_annihilations_pbc_nearest_neighbors_simple\u001b[0;34m(df, width, height, min_num_obs, round_t_to_n_digits, max_dist, max_disp, use_final_annihilation, printing, **kwargs)\u001b[0m\n\u001b[1;32m    202\u001b[0m \u001b[38;5;28;01mif\u001b[39;00m use_final_annihilation:\n\u001b[1;32m    203\u001b[0m     \u001b[38;5;66;03m#compute the first frame when n=0, supposing it is not present in the frame_values\u001b[39;00m\n\u001b[1;32m    204\u001b[0m     \u001b[38;5;66;03m#note: if this step fails, try the (~complicated) workaround of checking for n=0 in the df\u001b[39;00m\n\u001b[1;32m    205\u001b[0m     \u001b[38;5;66;03m#note: one row per position does not support n=0 anywhere\u001b[39;00m\n\u001b[1;32m    206\u001b[0m     \u001b[38;5;28;01massert\u001b[39;00m \u001b[38;5;129;01mnot\u001b[39;00m (df[\u001b[38;5;124m'\u001b[39m\u001b[38;5;124mn\u001b[39m\u001b[38;5;124m'\u001b[39m]\u001b[38;5;241m==\u001b[39m\u001b[38;5;241m0\u001b[39m)\u001b[38;5;241m.\u001b[39many()\n\u001b[0;32m--> 207\u001b[0m     \u001b[38;5;28;01massert\u001b[39;00m (df\u001b[38;5;241m.\u001b[39mtail(\u001b[38;5;241m1\u001b[39m)[\u001b[38;5;124m'\u001b[39m\u001b[38;5;124mn\u001b[39m\u001b[38;5;124m'\u001b[39m]\u001b[38;5;241m==\u001b[39m\u001b[38;5;241m2\u001b[39m)\u001b[38;5;241m.\u001b[39mall()\n\u001b[1;32m    208\u001b[0m     \u001b[38;5;66;03m#frame_final=(df.tail(1)['frame']+1).values[0]\u001b[39;00m\n\u001b[1;32m    209\u001b[0m     frame_final\u001b[38;5;241m=\u001b[39mdf[\u001b[38;5;124m'\u001b[39m\u001b[38;5;124mframe\u001b[39m\u001b[38;5;124m'\u001b[39m]\u001b[38;5;241m.\u001b[39mmax()\u001b[38;5;241m+\u001b[39m\u001b[38;5;241m1\u001b[39m\n",
      "\u001b[0;31mAssertionError\u001b[0m: "
     ]
    }
   ],
   "source": [
    "df_R=routine_compute_annihilation_range_timeseries_pbc(df,DS=0.025,width=int(width),height=int(height),\n",
    "                max_disp=30, #15-1000 appears to work\n",
    "                max_dist=20, # 20 appears to work\n",
    "                min_num_obs=1,\n",
    "                use_final_annihilation=bool(use_final_annihilation),printing=False)\n",
    "df_R.shape"
   ]
  },
  {
   "cell_type": "code",
   "execution_count": null,
   "id": "16788f88",
   "metadata": {},
   "outputs": [],
   "source": [
    "beep"
   ]
  },
  {
   "cell_type": "code",
   "execution_count": 46,
   "id": "b919b2ca",
   "metadata": {
    "ExecuteTime": {
     "end_time": "2023-01-14T04:10:53.069177Z",
     "start_time": "2023-01-14T04:10:53.044095Z"
    }
   },
   "outputs": [
    {
     "data": {
      "text/plain": [
       "16569.706"
      ]
     },
     "execution_count": 46,
     "metadata": {},
     "output_type": "execute_result"
    }
   ],
   "source": [
    "# 16569706/1000\n",
    "15000"
   ]
  },
  {
   "cell_type": "raw",
   "id": "74b4f721",
   "metadata": {},
   "source": [
    "# range_data_dir='/home/timothytyree/Documents/GitHub/care/notebooks/Data/from_wjr/positions_fk/200x200/tippos_per_c_005_creation_range_timeseries.pkl'\n",
    "# range_data_dir='/home/timothytyree/Documents/GitHub/care/notebooks/Data/from_wjr/positions_fk/250x250/tippos_per_001_creation_range_timeseries.pkl'\n",
    "# range_data_dir='/home/timothytyree/Documents/GitHub/care/notebooks/Data/from_wjr/positions_lr/350x350/tippos_per_c_001_creation_range_timeseries.pkl'\n",
    "# range_data_dir='/home/timothytyree/Documents/GitHub/care/notebooks/Data/from_wjr/positions_lr/400x400/tippos_per_c_001_creation_range_timeseries.pkl'"
   ]
  },
  {
   "cell_type": "markdown",
   "id": "b9acee0f",
   "metadata": {},
   "source": [
    "\n",
    "WARNING: min(x) was -1 instead of 0 for one run...\n",
    "\n",
    "x      y\n",
    "min   -1.0    0.0\n",
    "max  400.0  400.0\n",
    "width=400, height=400, DT=1.0"
   ]
  },
  {
   "cell_type": "code",
   "execution_count": null,
   "id": "0a17d01b",
   "metadata": {
    "ExecuteTime": {
     "start_time": "2022-08-03T00:20:45.966Z"
    }
   },
   "outputs": [],
   "source": [
    "# DONE: add support for creation range timeseries\n",
    "#heretim\n",
    "print(*range_data_dir_lst)"
   ]
  },
  {
   "cell_type": "code",
   "execution_count": null,
   "id": "567f2f36",
   "metadata": {
    "ExecuteTime": {
     "end_time": "2022-07-20T21:29:11.981736Z",
     "start_time": "2022-07-20T21:29:11.981717Z"
    }
   },
   "outputs": [],
   "source": [
    "beep(7)"
   ]
  },
  {
   "cell_type": "markdown",
   "id": "8b3e3a14",
   "metadata": {
    "heading_collapsed": true
   },
   "source": [
    "## etc"
   ]
  },
  {
   "cell_type": "code",
   "execution_count": null,
   "id": "c1c9331a",
   "metadata": {
    "ExecuteTime": {
     "end_time": "2022-07-20T22:22:41.333220Z",
     "start_time": "2022-07-20T22:22:41.333208Z"
    },
    "hidden": true
   },
   "outputs": [],
   "source": [
    "# range_data_dir='/home/timothytyree/Documents/GitHub/care/notebooks/Data/from_wjr/positions_fk/200x200/tippos_per_c_001_annihilation_range_timeseries.pkl'\n",
    "# range_data_dir='/home/timothytyree/Documents/GitHub/care/notebooks/Data/from_wjr/positions_fk/150x150/tippos_per_c_001_annihilation_range_timeseries.pkl'\n",
    "!rm /home/timothytyree/Documents/GitHub/care/notebooks/Data/from_wjr/positions_fk/150x150/tippos_per_c_001_annihilation_range_timeseries.pkl\n"
   ]
  },
  {
   "cell_type": "code",
   "execution_count": 38,
   "id": "52fb6aa7",
   "metadata": {
    "ExecuteTime": {
     "end_time": "2022-07-06T03:18:03.421762Z",
     "start_time": "2022-07-06T03:18:03.402948Z"
    },
    "hidden": true
   },
   "outputs": [],
   "source": [
    "def routine(task):\n",
    "    trial_num=task    \n",
    "    log_folder_parquet='/home/timothytyree/Documents/GitHub/care/notebooks/Data/from_wjr/tippos_per_001_log/'\n",
    "    try:\n",
    "        df=load_parquet_by_trial_num(trial_num=trial_num,folder_parquet=log_folder_parquet)\n",
    "        df_R=routine_compute_annihilation_range_timeseries_pbc(df,DS=0.025,width=200,height=200,\n",
    "                        max_disp=30, #15-1000 appears to work\n",
    "                        max_dist=20, # appears to work\n",
    "                        min_num_obs=1,use_final_annihilation=True,printing=False)\n",
    "        return df_R\n",
    "    except Exception as e:\n",
    "        return f\"Warning: {e}\""
   ]
  },
  {
   "cell_type": "code",
   "execution_count": 39,
   "id": "682b1cbd",
   "metadata": {
    "ExecuteTime": {
     "end_time": "2022-07-06T03:33:35.208389Z",
     "start_time": "2022-07-06T03:18:04.575764Z"
    },
    "hidden": true
   },
   "outputs": [
    {
     "name": "stdout",
     "output_type": "stream",
     "text": [
      "run time for evaluating routine was 930.61 seconds, yielding 641 values returned\n"
     ]
    }
   ],
   "source": [
    "npartitions=11\n",
    "retval=eval_routine_daskbag(routine,task_lst,npartitions,printing=True)\n",
    "#NOTE: if this finishes in less than ~53 minutes, then it saves time compared to a simple for loop\n",
    "#it ran in ~15 minutes. not bad."
   ]
  },
  {
   "cell_type": "code",
   "execution_count": 40,
   "id": "dceef667",
   "metadata": {
    "ExecuteTime": {
     "end_time": "2022-07-06T03:33:39.013737Z",
     "start_time": "2022-07-06T03:33:38.996167Z"
    },
    "hidden": true
   },
   "outputs": [
    {
     "name": "stdout",
     "output_type": "stream",
     "text": [
      "Warning: 'NoneType' object is not subscriptable\n",
      "Warning: 'NoneType' object is not subscriptable\n",
      "Warning: \n",
      "Warning: \n",
      "Warning: \n",
      "Warning: 'NoneType' object is not subscriptable\n",
      "Warning: \n",
      "Warning: 'NoneType' object is not subscriptable\n",
      "Warning: \n",
      "Warning: \n",
      "Warning: \n",
      "Warning: \n",
      "Warning: \n",
      "Warning: \n",
      "Warning: 'NoneType' object is not subscriptable\n",
      "Warning: \n",
      "Warning: \n",
      "Warning: \n",
      "Warning: \n",
      "Warning: \n",
      "Warning: \n",
      "Warning: \n",
      "Warning: \n",
      "Warning: \n",
      "Warning: \n",
      "Warning: \n",
      "Warning: \n",
      "Warning: 'NoneType' object is not subscriptable\n",
      "Warning: \n",
      "Warning: \n",
      "Warning: \n",
      "Warning: \n",
      "Warning: \n",
      "Warning: \n",
      "Warning: \n",
      "Warning: 'NoneType' object is not subscriptable\n",
      "Warning: \n",
      "Warning: \n",
      "Warning: \n",
      "Warning: \n",
      "Warning: \n",
      "Warning: \n",
      "Warning: \n",
      "Warning: \n",
      "Warning: \n",
      "Warning: \n",
      "successfully computed msr data for N=595 termiantion events.\n"
     ]
    }
   ],
   "source": [
    "#parse data\n",
    "data_lst=[]\n",
    "for rv in retval:\n",
    "    if type('')==type(rv):\n",
    "        print(rv)\n",
    "    elif rv is not None:\n",
    "        data_lst.append(rv)\n",
    "print(f\"successfully computed msr data for N={len(data_lst)} termination events.\")"
   ]
  },
  {
   "cell_type": "code",
   "execution_count": 41,
   "id": "1090603a",
   "metadata": {
    "ExecuteTime": {
     "end_time": "2022-07-06T03:33:46.493479Z",
     "start_time": "2022-07-06T03:33:46.427049Z"
    },
    "hidden": true
   },
   "outputs": [
    {
     "name": "stdout",
     "output_type": "stream",
     "text": [
      "range_data_dir='/home/timothytyree/Documents/GitHub/care/notebooks/Data/from_wjr/tippos_per_001_annihilation_range_timeseries.pkl'\n"
     ]
    }
   ],
   "source": [
    "#DONE: save data to pickle\n",
    "input_folder = \"/home/timothytyree/Documents/GitHub/care/notebooks/Data/from_wjr/\"\n",
    "output_fn='tippos_per_001'+'_annihilation_range_timeseries.pkl'\n",
    "range_data_dir=os.path.join(input_folder,output_fn)\n",
    "save_to_pkl(range_data_dir, data_lst)\n",
    "print(f\"{range_data_dir=}\")"
   ]
  },
  {
   "cell_type": "code",
   "execution_count": 33,
   "id": "4dcb9529",
   "metadata": {
    "ExecuteTime": {
     "end_time": "2022-07-06T03:15:44.903861Z",
     "start_time": "2022-07-06T03:15:44.885116Z"
    },
    "hidden": true,
    "run_control": {
     "marked": true
    }
   },
   "outputs": [
    {
     "name": "stdout",
     "output_type": "stream",
     "text": [
      "added 641 tasks to task_lst!\n"
     ]
    }
   ],
   "source": [
    "# task_lst=[]\n",
    "# for trial_num in range(641):\n",
    "#     task_lst.append(trial_num)\n",
    "# print(f\"added {len(task_lst)} tasks to task_lst!\")\n",
    "\n",
    "# def routine(task):\n",
    "#     trial_num=task    \n",
    "#     log_folder_parquet='/home/timothytyree/Documents/GitHub/care/notebooks/Data/from_wjr/tippos_per_001_log/'\n",
    "#     try:\n",
    "#         df=load_parquet_by_trial_num(trial_num=trial_num,folder_parquet=log_folder_parquet)\n",
    "#         df_R=routine_compute_annihilation_range_timeseries_pbc(df,DS=0.025,width=200,height=200,\n",
    "#                         max_disp=30, #15-1000 appears to work\n",
    "#                         max_dist=20, # appears to work\n",
    "#                         min_num_obs=1,use_final_annihilation=True,printing=False)\n",
    "#         return df_R\n",
    "#     except Exception as e:\n",
    "#         return f\"Warning: {e}\"\n",
    "\n",
    "# npartitions=10\n",
    "# retval=eval_routine_daskbag(routine,task_lst,npartitions,printing=True)\n",
    "# #NOTE: if this finishes in less than ~53 minutes, then it saves time compared to a simple for loop\n",
    "# #it ran in ~15 minutes. not bad.\n",
    "\n",
    "# #parse data\n",
    "# data_lst=[]\n",
    "# for rv in retval:\n",
    "#     if type('')==type(rv):\n",
    "#         print(rv)\n",
    "#     elif rv is not None:\n",
    "#         data_lst.append(rv)\n",
    "# print(f\"successfully computed msr data for N={len(data_lst)} termination events.\")\n",
    "\n",
    "# #DONE: save data to pickle\n",
    "# input_folder = \"/home/timothytyree/Documents/GitHub/care/notebooks/Data/from_wjr/\"\n",
    "# output_fn='tippos_per_001'+'_annihilation_range_timeseries.pkl'\n",
    "# range_data_dir=os.path.join(input_folder,output_fn)\n",
    "# save_to_pkl(range_data_dir, data_lst)\n",
    "# print(f\"{range_data_dir=}\")"
   ]
  },
  {
   "cell_type": "markdown",
   "id": "efe6c983",
   "metadata": {
    "heading_collapsed": true
   },
   "source": [
    "# compute range timeseries for pythonic spiral tip data"
   ]
  },
  {
   "cell_type": "code",
   "execution_count": 4,
   "id": "914d6392",
   "metadata": {
    "ExecuteTime": {
     "end_time": "2022-07-20T06:49:22.642188Z",
     "start_time": "2022-07-20T06:49:22.636508Z"
    },
    "hidden": true
   },
   "outputs": [],
   "source": [
    "def drop_every_other_time_point(df):\n",
    "    \"\"\"\n",
    "    Example Usage:\n",
    "drop_every_other_time_point(df)\n",
    "    \"\"\"\n",
    "    t_values_keep = df['t'].drop_duplicates()[1::2].values\n",
    "    boo_keep = df['t']<-9999\n",
    "    for t in t_values_keep:\n",
    "        boo_keep |= df['t']==t\n",
    "    df = df[boo_keep].copy()\n",
    "    return df"
   ]
  },
  {
   "cell_type": "code",
   "execution_count": 6,
   "id": "78285ae4",
   "metadata": {
    "ExecuteTime": {
     "end_time": "2022-07-20T06:49:41.073311Z",
     "start_time": "2022-07-20T06:49:41.067179Z"
    },
    "hidden": true
   },
   "outputs": [],
   "source": [
    "# search_for_file()"
   ]
  },
  {
   "cell_type": "code",
   "execution_count": 7,
   "id": "22d2aea5",
   "metadata": {
    "ExecuteTime": {
     "end_time": "2022-07-20T06:49:42.401912Z",
     "start_time": "2022-07-20T06:49:42.395512Z"
    },
    "hidden": true
   },
   "outputs": [],
   "source": [
    "#completed\n",
    "# input_folder='/home/timothytyree/Documents/GitHub/care/notebooks/Data/initial-conditions-suite-3-LR/ds_5_param_qu_tmax_30_Ko_5.4_diffCoef_0.001/Log/'\n",
    "# fn_lst=[os.path.join(input_folder,x) for x in sorted(os.listdir(input_folder))]\n",
    "# fn_lst[0],len(fn_lst)\n",
    "# print(f\"{input_folder=}\")"
   ]
  },
  {
   "cell_type": "code",
   "execution_count": 25,
   "id": "fa958d21",
   "metadata": {
    "ExecuteTime": {
     "end_time": "2022-07-06T05:55:15.909935Z",
     "start_time": "2022-07-06T05:55:15.723355Z"
    },
    "hidden": true
   },
   "outputs": [
    {
     "name": "stdout",
     "output_type": "stream",
     "text": [
      "before drop_duplicates: df.shape=(133269, 8)\n",
      "after drop_duplicates: df.shape=(133269, 8)\n"
     ]
    },
    {
     "data": {
      "text/html": [
       "<div>\n",
       "<style scoped>\n",
       "    .dataframe tbody tr th:only-of-type {\n",
       "        vertical-align: middle;\n",
       "    }\n",
       "\n",
       "    .dataframe tbody tr th {\n",
       "        vertical-align: top;\n",
       "    }\n",
       "\n",
       "    .dataframe thead th {\n",
       "        text-align: right;\n",
       "    }\n",
       "</style>\n",
       "<table border=\"1\" class=\"dataframe\">\n",
       "  <thead>\n",
       "    <tr style=\"text-align: right;\">\n",
       "      <th></th>\n",
       "      <th>index</th>\n",
       "      <th>t</th>\n",
       "      <th>n</th>\n",
       "      <th>x</th>\n",
       "      <th>y</th>\n",
       "      <th>grad_ux</th>\n",
       "      <th>grad_uy</th>\n",
       "      <th>grad_vx</th>\n",
       "      <th>grad_vy</th>\n",
       "    </tr>\n",
       "  </thead>\n",
       "  <tbody>\n",
       "    <tr>\n",
       "      <th>0</th>\n",
       "      <td>0</td>\n",
       "      <td>0.5</td>\n",
       "      <td>8</td>\n",
       "      <td>30.970498</td>\n",
       "      <td>191.730527</td>\n",
       "      <td>-0.066684</td>\n",
       "      <td>1.172466</td>\n",
       "      <td>6.688934</td>\n",
       "      <td>0.077292</td>\n",
       "    </tr>\n",
       "    <tr>\n",
       "      <th>1</th>\n",
       "      <td>1</td>\n",
       "      <td>0.5</td>\n",
       "      <td>8</td>\n",
       "      <td>62.724662</td>\n",
       "      <td>158.404917</td>\n",
       "      <td>2.426485</td>\n",
       "      <td>0.433045</td>\n",
       "      <td>-1.436105</td>\n",
       "      <td>1.967648</td>\n",
       "    </tr>\n",
       "    <tr>\n",
       "      <th>2</th>\n",
       "      <td>2</td>\n",
       "      <td>0.5</td>\n",
       "      <td>8</td>\n",
       "      <td>86.944705</td>\n",
       "      <td>168.813958</td>\n",
       "      <td>-0.650947</td>\n",
       "      <td>1.850735</td>\n",
       "      <td>4.180481</td>\n",
       "      <td>-0.643616</td>\n",
       "    </tr>\n",
       "    <tr>\n",
       "      <th>3</th>\n",
       "      <td>3</td>\n",
       "      <td>0.5</td>\n",
       "      <td>8</td>\n",
       "      <td>114.748439</td>\n",
       "      <td>142.986244</td>\n",
       "      <td>0.324528</td>\n",
       "      <td>1.543465</td>\n",
       "      <td>1.744883</td>\n",
       "      <td>0.402295</td>\n",
       "    </tr>\n",
       "    <tr>\n",
       "      <th>4</th>\n",
       "      <td>4</td>\n",
       "      <td>0.5</td>\n",
       "      <td>8</td>\n",
       "      <td>133.438658</td>\n",
       "      <td>6.224695</td>\n",
       "      <td>1.012537</td>\n",
       "      <td>0.720855</td>\n",
       "      <td>1.102857</td>\n",
       "      <td>-1.016976</td>\n",
       "    </tr>\n",
       "  </tbody>\n",
       "</table>\n",
       "</div>"
      ],
      "text/plain": [
       "   index    t  n           x           y   grad_ux   grad_uy   grad_vx  \\\n",
       "0      0  0.5  8   30.970498  191.730527 -0.066684  1.172466  6.688934   \n",
       "1      1  0.5  8   62.724662  158.404917  2.426485  0.433045 -1.436105   \n",
       "2      2  0.5  8   86.944705  168.813958 -0.650947  1.850735  4.180481   \n",
       "3      3  0.5  8  114.748439  142.986244  0.324528  1.543465  1.744883   \n",
       "4      4  0.5  8  133.438658    6.224695  1.012537  0.720855  1.102857   \n",
       "\n",
       "    grad_vy  \n",
       "0  0.077292  \n",
       "1  1.967648  \n",
       "2 -0.643616  \n",
       "3  0.402295  \n",
       "4 -1.016976  "
      ]
     },
     "execution_count": 25,
     "metadata": {},
     "output_type": "execute_result"
    }
   ],
   "source": [
    "# input_dir='/home/timothytyree/Documents/GitHub/care/notebooks/Data/initial-conditions-suite-3-LR/ds_5_param_qu_tmax_30_Ko_5.4_diffCoef_0.001/Log/ic001.12_log.csv'\n",
    "input_dir='/home/timothytyree/Documents/GitHub/care/notebooks/Data/initial-conditions-suite-3-LR/param_qu_tmax_30_Ko_5.4_diffCoef_0.0005_dt_0.5/Log/ic001.21_log.csv'\n",
    "df=load_tip_pos_from_csv(input_dir,round_t_to_n_digits=7,printing=True)\n",
    "df.head()"
   ]
  },
  {
   "cell_type": "code",
   "execution_count": 26,
   "id": "48efad28",
   "metadata": {
    "ExecuteTime": {
     "end_time": "2022-07-06T05:55:22.571364Z",
     "start_time": "2022-07-06T05:55:22.488355Z"
    },
    "hidden": true,
    "run_control": {
     "marked": true
    }
   },
   "outputs": [
    {
     "name": "stdout",
     "output_type": "stream",
     "text": [
      "              x           y\n",
      "min    0.000990    0.000959\n",
      "max  199.998708  199.999086\n",
      "width=199.9987081729576, height=199.9990858828612, DT=0.5\n"
     ]
    }
   ],
   "source": [
    "width,height=df.describe().loc['max'][['x','y']].values.T\n",
    "\n",
    "DT=df['t'].min()\n",
    "\n",
    "# DT=sorted(df['t'].drop_duplicates().values)[1]\n",
    "printing=True\n",
    "if printing:\n",
    "    print(df.describe().loc[['min','max']][['x','y']])\n",
    "    print(f\"{width=}, {height=}, {DT=}\")\n",
    "# del df_log"
   ]
  },
  {
   "cell_type": "code",
   "execution_count": 48,
   "id": "da53e67c",
   "metadata": {
    "ExecuteTime": {
     "end_time": "2022-07-06T04:31:14.757766Z",
     "start_time": "2022-07-06T04:31:14.720124Z"
    },
    "hidden": true
   },
   "outputs": [
    {
     "name": "stdout",
     "output_type": "stream",
     "text": [
      "input_folder='/home/timothytyree/Documents/GitHub/care/notebooks/Data/initial-conditions-suite-3-LR/param_qu_tmax_30_Ko_5.4_diffCoef_0.0005_dt_0.5/Log'\n"
     ]
    }
   ],
   "source": [
    "input_folder=os.path.dirname(input_dir)\n",
    "# print(f\"{input_folder=}\")"
   ]
  },
  {
   "cell_type": "code",
   "execution_count": 27,
   "id": "63524ca4",
   "metadata": {
    "ExecuteTime": {
     "end_time": "2022-07-06T05:56:37.418291Z",
     "start_time": "2022-07-06T05:56:37.414352Z"
    },
    "hidden": true
   },
   "outputs": [],
   "source": [
    "input_dir='/home/timothytyree/Documents/GitHub/care/notebooks/Data/initial-conditions-suite-3-LR/param_qu_tmax_30_Ko_5.4_diffCoef_0.0005_dt_0.5/Log/ic001.21_log.csv'\n"
   ]
  },
  {
   "cell_type": "code",
   "execution_count": 39,
   "id": "1b777b1d",
   "metadata": {
    "ExecuteTime": {
     "end_time": "2022-07-06T06:02:36.715874Z",
     "start_time": "2022-07-06T06:02:36.713349Z"
    },
    "hidden": true
   },
   "outputs": [],
   "source": [
    "#needs filtering by .find('_log.csv')\n",
    "input_dir_lst=[\n",
    "    '/home/timothytyree/Documents/GitHub/care/notebooks/Data/initial-conditions-suite-3-LR/param_qu_tmax_30_Ko_5.4_diffCoef_0.0005_dt_0.5/Log/ic001.21_log.csv',\n",
    "    #i think the following (first) one is what i used for the FK model\n",
    "    '/home/timothytyree/Documents/GitHub/care/notebooks/Data/initial-conditions-fk-200x200/param_set_8_ds_5.0_tmax_10_diffCoef_0.0005/Log/ic200x200.0.1_log.csv',\n",
    "    '/home/timothytyree/Documents/GitHub/care/notebooks/Data/initial-conditions-fk-200x200/param_set_8_ds_5.0_tmax_30_diffCoef_0.001_dt_1/Log/ic200x200.0.1_log.csv',    \n",
    "    '/home/timothytyree/Documents/GitHub/care/notebooks/Data/initial-conditions-fk-200x200/param_set_8_ds_5.0_tmax_10_diffCoef_0.0005/Log/ic200x200.0.0_log.csv',\n",
    "    '/home/timothytyree/Documents/GitHub/care/notebooks/Data/initial-conditions-fk-200x200/param_set_8_ds_5.0_tmax_30_diffCoef_0.001_dt_0.025/Log/ic200x200.0.0_log.csv'\n",
    "]"
   ]
  },
  {
   "cell_type": "code",
   "execution_count": 40,
   "id": "4e2016eb",
   "metadata": {
    "ExecuteTime": {
     "end_time": "2022-07-06T12:46:04.508126Z",
     "start_time": "2022-07-06T06:04:39.044201Z"
    },
    "hidden": true
   },
   "outputs": [
    {
     "name": "stdout",
     "output_type": "stream",
     "text": [
      "found 159 files comparable to /home/timothytyree/Documents/GitHub/care/notebooks/Data/initial-conditions-suite-3-LR/param_qu_tmax_30_Ko_5.4_diffCoef_0.0005_dt_0.5/Log/ic001.11_log.csv\n",
      "added 159 tasks to task_lst!\n",
      "run time for evaluating routine was 2478.27 seconds, yielding 159 values returned\n",
      "Warning: \n",
      "Warning: \n",
      "Warning: \n",
      "Warning: \n",
      "Warning: \n",
      "Warning: \n",
      "Warning: \n",
      "Warning: \n",
      "Warning: \n",
      "Warning: index 1 is out of bounds for axis 0 with size 1\n",
      "Warning: \n",
      "Warning: \n",
      "Warning: \n",
      "Warning: \n",
      "Warning: \n",
      "Warning: \n",
      "Warning: \n",
      "Warning: \n",
      "Warning: \n",
      "Warning: \n",
      "Warning: \n",
      "Warning: \n",
      "Warning: \n",
      "Warning: \n",
      "Warning: \n",
      "Warning: \n",
      "Warning: \n",
      "Warning: \n",
      "Warning: \n",
      "Warning: \n",
      "successfully computed msr data for N=129 termination events.\n",
      "*** range_data_dir='/home/timothytyree/Documents/GitHub/care/notebooks/Data/initial-conditions-suite-3-LR/param_qu_tmax_30_Ko_5.4_diffCoef_0.0005_dt_0.5/annihilation_range_timeseries.pkl'\n",
      "found 324 files comparable to /home/timothytyree/Documents/GitHub/care/notebooks/Data/initial-conditions-fk-200x200/param_set_8_ds_5.0_tmax_10_diffCoef_0.0005/Log/ic200x200.0.0_log.csv\n",
      "added 324 tasks to task_lst!\n",
      "run time for evaluating routine was 2116.09 seconds, yielding 324 values returned\n",
      "Warning: \n",
      "Warning: \n",
      "Warning: \n",
      "Warning: \n",
      "Warning: \n",
      "Warning: \n",
      "Warning: \n",
      "Warning: \n",
      "Warning: \n",
      "Warning: \n",
      "Warning: \n",
      "Warning: \n",
      "Warning: \n",
      "Warning: \n",
      "Warning: \n",
      "Warning: \n",
      "Warning: \n",
      "Warning: \n",
      "Warning: \n",
      "Warning: \n",
      "Warning: \n",
      "Warning: \n",
      "Warning: \n",
      "Warning: \n",
      "Warning: \n",
      "Warning: \n",
      "Warning: \n",
      "Warning: \n",
      "Warning: \n",
      "Warning: \n",
      "Warning: \n",
      "Warning: \n",
      "Warning: \n",
      "Warning: \n",
      "Warning: \n",
      "Warning: \n",
      "Warning: \n",
      "Warning: \n",
      "Warning: \n",
      "Warning: \n",
      "Warning: \n",
      "Warning: \n",
      "Warning: \n",
      "Warning: \n",
      "Warning: \n",
      "Warning: \n",
      "Warning: \n",
      "Warning: \n",
      "Warning: \n",
      "Warning: \n",
      "Warning: \n",
      "Warning: \n",
      "Warning: \n",
      "Warning: \n",
      "Warning: \n",
      "Warning: \n",
      "Warning: \n",
      "Warning: \n",
      "Warning: \n",
      "Warning: \n",
      "Warning: \n",
      "Warning: \n",
      "Warning: \n",
      "Warning: \n",
      "Warning: \n",
      "Warning: \n",
      "Warning: \n",
      "Warning: \n",
      "Warning: \n",
      "Warning: \n",
      "Warning: \n",
      "Warning: \n",
      "Warning: \n",
      "Warning: \n",
      "Warning: \n",
      "Warning: \n",
      "Warning: \n",
      "Warning: \n",
      "Warning: \n",
      "Warning: \n",
      "Warning: \n",
      "Warning: \n",
      "Warning: \n",
      "Warning: \n",
      "Warning: \n",
      "Warning: \n",
      "Warning: \n",
      "Warning: \n",
      "Warning: \n",
      "Warning: \n",
      "Warning: \n",
      "Warning: \n",
      "Warning: \n",
      "Warning: \n",
      "Warning: \n",
      "Warning: \n",
      "Warning: \n",
      "Warning: \n",
      "Warning: \n",
      "Warning: \n",
      "Warning: \n",
      "Warning: \n",
      "Warning: \n",
      "Warning: \n",
      "Warning: \n",
      "Warning: \n",
      "Warning: \n",
      "Warning: \n",
      "Warning: \n",
      "Warning: \n",
      "Warning: \n",
      "Warning: \n",
      "Warning: \n",
      "Warning: \n",
      "Warning: \n",
      "Warning: \n",
      "Warning: \n",
      "Warning: \n",
      "Warning: \n",
      "Warning: \n",
      "Warning: \n",
      "Warning: \n",
      "Warning: \n",
      "Warning: \n",
      "Warning: \n",
      "Warning: \n",
      "Warning: \n",
      "Warning: \n",
      "Warning: \n",
      "Warning: \n",
      "Warning: \n",
      "Warning: \n",
      "Warning: \n",
      "Warning: \n",
      "Warning: \n",
      "Warning: \n",
      "Warning: \n",
      "Warning: \n",
      "Warning: \n",
      "Warning: \n",
      "Warning: \n",
      "Warning: \n",
      "Warning: \n",
      "Warning: \n",
      "Warning: \n",
      "Warning: \n",
      "Warning: \n",
      "Warning: \n",
      "Warning: \n",
      "Warning: \n",
      "Warning: \n",
      "Warning: \n",
      "Warning: \n",
      "Warning: \n",
      "Warning: \n",
      "Warning: \n",
      "Warning: \n",
      "Warning: \n",
      "Warning: \n",
      "Warning: \n",
      "Warning: \n",
      "Warning: \n",
      "Warning: \n",
      "Warning: \n",
      "Warning: \n",
      "Warning: \n",
      "Warning: \n",
      "Warning: \n",
      "Warning: \n",
      "Warning: \n",
      "Warning: \n",
      "Warning: \n",
      "Warning: \n",
      "Warning: \n",
      "Warning: \n",
      "Warning: \n",
      "Warning: \n",
      "Warning: \n",
      "Warning: \n",
      "Warning: \n",
      "Warning: \n",
      "Warning: \n",
      "Warning: \n",
      "Warning: \n",
      "Warning: \n",
      "Warning: \n",
      "Warning: \n",
      "Warning: \n",
      "Warning: \n",
      "Warning: \n",
      "Warning: \n",
      "Warning: \n",
      "Warning: \n",
      "Warning: \n",
      "Warning: \n",
      "Warning: \n",
      "Warning: \n",
      "Warning: \n",
      "Warning: \n",
      "Warning: \n",
      "Warning: \n",
      "Warning: \n",
      "Warning: \n",
      "successfully computed msr data for N=121 termination events.\n",
      "*** range_data_dir='/home/timothytyree/Documents/GitHub/care/notebooks/Data/initial-conditions-fk-200x200/param_set_8_ds_5.0_tmax_10_diffCoef_0.0005/annihilation_range_timeseries.pkl'\n",
      "found 324 files comparable to /home/timothytyree/Documents/GitHub/care/notebooks/Data/initial-conditions-fk-200x200/param_set_8_ds_5.0_tmax_30_diffCoef_0.001_dt_1/Log/ic200x200.0.0_log.csv\n",
      "added 324 tasks to task_lst!\n",
      "run time for evaluating routine was 1715.53 seconds, yielding 324 values returned\n",
      "Warning: \n",
      "Warning: \n",
      "Warning: \n",
      "Warning: \n",
      "Warning: \n",
      "Warning: \n",
      "Warning: \n",
      "Warning: \n",
      "successfully computed msr data for N=316 termination events.\n",
      "*** range_data_dir='/home/timothytyree/Documents/GitHub/care/notebooks/Data/initial-conditions-fk-200x200/param_set_8_ds_5.0_tmax_30_diffCoef_0.001_dt_1/annihilation_range_timeseries.pkl'\n",
      "found 324 files comparable to /home/timothytyree/Documents/GitHub/care/notebooks/Data/initial-conditions-fk-200x200/param_set_8_ds_5.0_tmax_10_diffCoef_0.0005/Log/ic200x200.0.0_log.csv\n",
      "added 324 tasks to task_lst!\n",
      "run time for evaluating routine was 2098.07 seconds, yielding 324 values returned\n",
      "Warning: \n",
      "Warning: \n",
      "Warning: \n",
      "Warning: \n",
      "Warning: \n",
      "Warning: \n",
      "Warning: \n",
      "Warning: \n",
      "Warning: \n",
      "Warning: \n",
      "Warning: \n",
      "Warning: \n",
      "Warning: \n",
      "Warning: \n",
      "Warning: \n",
      "Warning: \n",
      "Warning: \n",
      "Warning: \n",
      "Warning: \n",
      "Warning: \n",
      "Warning: \n",
      "Warning: \n",
      "Warning: \n",
      "Warning: \n",
      "Warning: \n",
      "Warning: \n",
      "Warning: \n",
      "Warning: \n",
      "Warning: \n",
      "Warning: \n",
      "Warning: \n",
      "Warning: \n",
      "Warning: \n",
      "Warning: \n",
      "Warning: \n",
      "Warning: \n",
      "Warning: \n",
      "Warning: \n",
      "Warning: \n",
      "Warning: \n",
      "Warning: \n",
      "Warning: \n",
      "Warning: \n",
      "Warning: \n",
      "Warning: \n",
      "Warning: \n",
      "Warning: \n",
      "Warning: \n",
      "Warning: \n",
      "Warning: \n",
      "Warning: \n",
      "Warning: \n",
      "Warning: \n",
      "Warning: \n",
      "Warning: \n",
      "Warning: \n",
      "Warning: \n",
      "Warning: \n",
      "Warning: \n",
      "Warning: \n",
      "Warning: \n",
      "Warning: \n",
      "Warning: \n",
      "Warning: \n",
      "Warning: \n",
      "Warning: \n",
      "Warning: \n",
      "Warning: \n",
      "Warning: \n",
      "Warning: \n",
      "Warning: \n",
      "Warning: \n",
      "Warning: \n",
      "Warning: \n",
      "Warning: \n",
      "Warning: \n",
      "Warning: \n",
      "Warning: \n",
      "Warning: \n",
      "Warning: \n",
      "Warning: \n",
      "Warning: \n",
      "Warning: \n",
      "Warning: \n",
      "Warning: \n",
      "Warning: \n",
      "Warning: \n",
      "Warning: \n",
      "Warning: \n",
      "Warning: \n",
      "Warning: \n",
      "Warning: \n",
      "Warning: \n",
      "Warning: \n",
      "Warning: \n",
      "Warning: \n",
      "Warning: \n",
      "Warning: \n",
      "Warning: \n",
      "Warning: \n",
      "Warning: \n",
      "Warning: \n",
      "Warning: \n",
      "Warning: \n",
      "Warning: \n",
      "Warning: \n",
      "Warning: \n",
      "Warning: \n",
      "Warning: \n",
      "Warning: \n",
      "Warning: \n",
      "Warning: \n",
      "Warning: \n",
      "Warning: \n",
      "Warning: \n",
      "Warning: \n",
      "Warning: \n",
      "Warning: \n",
      "Warning: \n",
      "Warning: \n",
      "Warning: \n",
      "Warning: \n",
      "Warning: \n",
      "Warning: \n",
      "Warning: \n",
      "Warning: \n",
      "Warning: \n",
      "Warning: \n",
      "Warning: \n",
      "Warning: \n",
      "Warning: \n",
      "Warning: \n",
      "Warning: \n",
      "Warning: \n",
      "Warning: \n",
      "Warning: \n",
      "Warning: \n",
      "Warning: \n",
      "Warning: \n",
      "Warning: \n",
      "Warning: \n",
      "Warning: \n",
      "Warning: \n",
      "Warning: \n",
      "Warning: \n",
      "Warning: \n",
      "Warning: \n",
      "Warning: \n",
      "Warning: \n",
      "Warning: \n",
      "Warning: \n",
      "Warning: \n",
      "Warning: \n",
      "Warning: \n",
      "Warning: \n",
      "Warning: \n",
      "Warning: \n",
      "Warning: \n",
      "Warning: \n",
      "Warning: \n",
      "Warning: \n",
      "Warning: \n",
      "Warning: \n",
      "Warning: \n",
      "Warning: \n",
      "Warning: \n",
      "Warning: \n",
      "Warning: \n",
      "Warning: \n",
      "Warning: \n",
      "Warning: \n",
      "Warning: \n",
      "Warning: \n",
      "Warning: \n",
      "Warning: \n",
      "Warning: \n",
      "Warning: \n",
      "Warning: \n",
      "Warning: \n",
      "Warning: \n",
      "Warning: \n",
      "Warning: \n",
      "Warning: \n",
      "Warning: \n",
      "Warning: \n",
      "Warning: \n",
      "Warning: \n",
      "Warning: \n",
      "Warning: \n",
      "Warning: \n",
      "Warning: \n",
      "Warning: \n",
      "Warning: \n",
      "Warning: \n",
      "Warning: \n",
      "Warning: \n",
      "Warning: \n",
      "Warning: \n",
      "Warning: \n",
      "Warning: \n",
      "Warning: \n",
      "Warning: \n",
      "Warning: \n",
      "successfully computed msr data for N=121 termination events.\n",
      "*** range_data_dir='/home/timothytyree/Documents/GitHub/care/notebooks/Data/initial-conditions-fk-200x200/param_set_8_ds_5.0_tmax_10_diffCoef_0.0005/annihilation_range_timeseries.pkl'\n",
      "found 324 files comparable to /home/timothytyree/Documents/GitHub/care/notebooks/Data/initial-conditions-fk-200x200/param_set_8_ds_5.0_tmax_30_diffCoef_0.001_dt_0.025/Log/ic200x200.0.0_log.csv\n",
      "added 324 tasks to task_lst!\n",
      "run time for evaluating routine was 15677.03 seconds, yielding 324 values returned\n",
      "Warning: \n",
      "Warning: \n",
      "Warning: \n",
      "Warning: \n",
      "Warning: \n",
      "Warning: \n",
      "Warning: \n",
      "Warning: \n",
      "successfully computed msr data for N=316 termination events.\n",
      "*** range_data_dir='/home/timothytyree/Documents/GitHub/care/notebooks/Data/initial-conditions-fk-200x200/param_set_8_ds_5.0_tmax_30_diffCoef_0.001_dt_0.025/annihilation_range_timeseries.pkl'\n"
     ]
    }
   ],
   "source": [
    "#compute range time series data and save to cache for a list of trial types\n",
    "range_data_dir_lst=[]\n",
    "for input_dir in input_dir_lst:\n",
    "    #find files with '_log.csv' filtering\n",
    "    input_folder=os.path.dirname(input_dir)\n",
    "    fn_lst=[os.path.join(input_folder,x) for x in sorted(os.listdir(input_folder)) if x.find('_log.csv')!=-1]\n",
    "    print(f\"found {len(fn_lst)} files comparable to {fn_lst[0]}\")\n",
    "\n",
    "    task_lst=[]\n",
    "    for trial_num,fn in enumerate(fn_lst):\n",
    "        task=trial_num,fn\n",
    "        task_lst.append(task)\n",
    "    print(f\"added {len(task_lst)} tasks to task_lst!\")\n",
    "\n",
    "    #pythonic spiral tip tracker test case\n",
    "    testing=False\n",
    "    if testing:\n",
    "        task = task_lst[0]\n",
    "        trial_num,input_dir = task\n",
    "        #load data\n",
    "        df=load_tip_pos_from_csv(input_dir,round_t_to_n_digits=7,printing=False)\n",
    "        #if DT<1 ms, double it until DT>=1 ms, and then drop that many members from df\n",
    "        DT=df['t'].min()\n",
    "        while DT<1:\n",
    "            df = drop_every_other_time_point(df).copy()\n",
    "            DT=df['t'].min()\n",
    "        #perform routine\n",
    "        df_R=routine_compute_annihilation_range_timeseries_pbc(df,DS=0.025,width=200,height=200,\n",
    "                        max_disp=30, #15-1000 appears to work\n",
    "                        max_dist=20, # appears to work\n",
    "                        min_num_obs=1,use_final_annihilation=True,printing=True)\n",
    "        df_R['trial_num']=trial_num\n",
    "        print(df_R.head())\n",
    "\n",
    "    def routine(task):\n",
    "        trial_num,input_dir = task\n",
    "        try:\n",
    "            #load data\n",
    "            df=load_tip_pos_from_csv(input_dir,round_t_to_n_digits=7,printing=False)\n",
    "            #if DT<1 ms, double it until DT>=1 ms, and then drop that many members from df\n",
    "            DT=df['t'].min()\n",
    "            while DT<1:\n",
    "                df = drop_every_other_time_point(df).copy()\n",
    "                DT=df['t'].min()\n",
    "            #perform routine\n",
    "            df_R=routine_compute_annihilation_range_timeseries_pbc(df,DS=0.025,width=200,height=200,\n",
    "                            max_disp=30, #15-1000 appears to work\n",
    "                            max_dist=20, # appears to work\n",
    "                            min_num_obs=1,use_final_annihilation=True,printing=False)\n",
    "            df_R['trial_num']=trial_num\n",
    "            return df_R\n",
    "        except Exception as e:\n",
    "            return f\"Warning: {e}\"\n",
    "\n",
    "    npartitions=8\n",
    "    printing=True\n",
    "    if npartitions>1:\n",
    "        bag = db.from_sequence(task_lst, npartitions=npartitions).map(routine)\n",
    "        start = time.time()\n",
    "        retval = list(bag)\n",
    "    else:\n",
    "        start=time.time()\n",
    "        retval=[]\n",
    "        for task in task_lst:\n",
    "            retval.append(routine(task))\n",
    "    if printing:\n",
    "        print(f\"run time for evaluating routine was {time.time()-start:.2f} seconds, yielding {len(retval)} values returned\")\n",
    "\n",
    "    #parse data\n",
    "    data_lst=[]\n",
    "    for rv in retval:\n",
    "        if type('')==type(rv):\n",
    "            print(rv)\n",
    "        elif rv is not None:\n",
    "            data_lst.append(rv)\n",
    "    print(f\"successfully computed msr data for N={len(data_lst)} termination events.\")\n",
    "\n",
    "    #DONE: save data to pickle\n",
    "    # input_folder = \"/home/timothytyree/Documents/GitHub/care/notebooks/Data/from_wjr/\"\n",
    "    # input_folder='/home/timothytyree/Documents/GitHub/care/notebooks/Data/initial-conditions-suite-3-LR/ds_5_param_qu_tmax_30_Ko_5.4_diffCoef_0.001'#/Log/'\n",
    "    save_folder=os.path.dirname(os.path.dirname(input_dir))\n",
    "    output_fn='annihilation_range_timeseries.pkl'\n",
    "    range_data_dir=os.path.join(save_folder,output_fn)\n",
    "    save_to_pkl(range_data_dir, data_lst)\n",
    "    print(f\"*** {range_data_dir=}\")\n",
    "    range_data_dir_lst.append(range_data_dir)\n",
    "    del data_lst\n",
    "    del retval"
   ]
  },
  {
   "cell_type": "code",
   "execution_count": 41,
   "id": "6e098be2",
   "metadata": {
    "ExecuteTime": {
     "end_time": "2022-07-06T12:46:05.197999Z",
     "start_time": "2022-07-06T12:46:04.585021Z"
    },
    "hidden": true
   },
   "outputs": [
    {
     "name": "stdout",
     "output_type": "stream",
     "text": [
      "range_data_dir='/home/timothytyree/Documents/GitHub/care/notebooks/Data/initial-conditions-suite-3-LR/param_qu_tmax_30_Ko_5.4_diffCoef_0.0005_dt_0.5/annihilation_range_timeseries.pkl'\n",
      "range_data_dir='/home/timothytyree/Documents/GitHub/care/notebooks/Data/initial-conditions-fk-200x200/param_set_8_ds_5.0_tmax_10_diffCoef_0.0005/annihilation_range_timeseries.pkl'\n",
      "range_data_dir='/home/timothytyree/Documents/GitHub/care/notebooks/Data/initial-conditions-fk-200x200/param_set_8_ds_5.0_tmax_30_diffCoef_0.001_dt_1/annihilation_range_timeseries.pkl'\n",
      "range_data_dir='/home/timothytyree/Documents/GitHub/care/notebooks/Data/initial-conditions-fk-200x200/param_set_8_ds_5.0_tmax_10_diffCoef_0.0005/annihilation_range_timeseries.pkl'\n",
      "range_data_dir='/home/timothytyree/Documents/GitHub/care/notebooks/Data/initial-conditions-fk-200x200/param_set_8_ds_5.0_tmax_30_diffCoef_0.001_dt_0.025/annihilation_range_timeseries.pkl'\n",
      "\u0007\u0007\u0007"
     ]
    },
    {
     "data": {
      "text/plain": [
       "0"
      ]
     },
     "execution_count": 41,
     "metadata": {},
     "output_type": "execute_result"
    }
   ],
   "source": [
    "for range_data_dir in range_data_dir_lst:\n",
    "    print(f\"{range_data_dir=}\")\n",
    "beep(3)"
   ]
  },
  {
   "cell_type": "code",
   "execution_count": null,
   "id": "27225d3b",
   "metadata": {
    "hidden": true
   },
   "outputs": [],
   "source": []
  },
  {
   "cell_type": "markdown",
   "id": "5819703b",
   "metadata": {
    "ExecuteTime": {
     "end_time": "2022-07-06T03:10:37.210315Z",
     "start_time": "2022-07-06T03:10:37.210304Z"
    }
   },
   "source": [
    "# evaluate track_particle_annihilations_pbc_nearest_neighbors_simple (can be used for MSD and MSR after creation)"
   ]
  },
  {
   "cell_type": "code",
   "execution_count": null,
   "id": "8468782d",
   "metadata": {
    "ExecuteTime": {
     "end_time": "2022-07-06T03:10:37.211145Z",
     "start_time": "2022-07-06T03:10:37.211134Z"
    }
   },
   "outputs": [],
   "source": [
    "df=track_particle_annihilations_pbc_nearest_neighbors_simple(df,width=200,height=200,\n",
    "                max_disp=30, #15-1000 appears to work\n",
    "                max_dist=20, # appears to work\n",
    "                min_num_obs=1,use_final_annihilation=True,printing=True)"
   ]
  },
  {
   "cell_type": "code",
   "execution_count": 4,
   "id": "a7fd1579",
   "metadata": {
    "ExecuteTime": {
     "end_time": "2022-07-06T03:56:51.997362Z",
     "start_time": "2022-07-06T03:55:41.965667Z"
    }
   },
   "outputs": [
    {
     "name": "stdout",
     "output_type": "stream",
     "text": [
      "File: /home/timothytyree/Documents/GitHub/care/notebooks/Data/initial-conditions-suite-3-LR/ds_5_param_qu_tmax_30_Ko_5.4_diffCoef_0.001/Log/ic001.12_log.csv\n"
     ]
    },
    {
     "data": {
      "text/plain": [
       "'/home/timothytyree/Documents/GitHub/care/notebooks/Data/initial-conditions-suite-3-LR/ds_5_param_qu_tmax_30_Ko_5.4_diffCoef_0.001/Log/ic001.12_log.csv'"
      ]
     },
     "execution_count": 4,
     "metadata": {},
     "output_type": "execute_result"
    }
   ],
   "source": [
    "# # #DONE: load the data from bgmc that has pid_explicit\n",
    "# # #HINT: its on ub in bgmc/python/data/local_results\n",
    "# search_for_file()\n",
    "\n",
    "# #linear particle model test case\n",
    "# input_dir='/home/timothytyree/Documents/GitHub/bgmc/python/data/local_results/euic_False_fc_2_r_0.1_D_2_L_10_kappa_1500_varkappa_5/Log/pbc_particle_log2_log.csv'\n",
    "# df=load_tip_pos_from_csv(input_dir,round_t_to_n_digits=round_t_to_n_digits,printing=False)\n",
    "# round_t_to_n_digits=7\n",
    "# min_num_obs=10\n",
    "# min_dist=2. #pixels\n",
    "# # width=200\n",
    "# # height=200 \n",
    "# width=10\n",
    "# height=10\n",
    "# from collections import deque\n"
   ]
  },
  {
   "cell_type": "code",
   "execution_count": null,
   "id": "48913583",
   "metadata": {
    "ExecuteTime": {
     "end_time": "2022-07-06T03:10:37.212440Z",
     "start_time": "2022-07-06T03:10:37.212428Z"
    }
   },
   "outputs": [],
   "source": [
    "max_index_annihilation=df['index_self'].max()\n",
    "fontsize=14\n",
    "fig,axs=plt.subplots(ncols=2,figsize=(9,4))\n",
    "ax=axs[0]\n",
    "for index_annihilation in range(max_index_annihilation):\n",
    "    df[df['index_self']==index_annihilation].plot(x='x',y='y',color=f'C{index_annihilation}',ax=ax,alpha=0.5,legend=None)\n",
    "    df[df['index_other']==index_annihilation].plot(x='x',y='y',color=f'C{index_annihilation*2}',ax=ax,alpha=0.5,legend=None)\n",
    "df.plot.scatter(x='x',y='y',color=f'k',ax=ax,alpha=0.2,legend=None,s=10)\n",
    "format_plot(ax=ax,xlabel=\"x (pixels)\",ylabel='y (pixels)', fontsize=fontsize)\n",
    "ax=axs[1]\n",
    "for index_annihilation in range(max_index_annihilation):\n",
    "    df[df['index_self']==index_annihilation].plot(x='x',y='y',color=f'C{index_annihilation}',ax=ax,alpha=0.5,legend=None)\n",
    "    df[df['index_other']==index_annihilation].plot(x='x',y='y',color=f'C{index_annihilation*2}',ax=ax,alpha=0.5,legend=None)\n",
    "\n",
    "format_plot(ax=ax,xlabel=\"x (pixels)\",ylabel='y (pixels)', fontsize=fontsize)\n",
    "plt.tight_layout()\n",
    "plt.show()"
   ]
  },
  {
   "cell_type": "code",
   "execution_count": null,
   "id": "17b59276",
   "metadata": {
    "ExecuteTime": {
     "end_time": "2022-07-06T03:10:37.213728Z",
     "start_time": "2022-07-06T03:10:37.213716Z"
    }
   },
   "outputs": [],
   "source": [
    "fig,ax=plt.subplots()\n",
    "max_index_annihilation=df['index_self'].max()\n",
    "for index_annihilation in range(max_index_annihilation):\n",
    "    df[(df['index_self']==index_annihilation)&(df['dist']>0)].\\\n",
    "    plot(x='t',y='dist',color=f'C{index_annihilation}',ax=ax,alpha=0.5, legend=None)\n",
    "# df.tail(8).plot.scatter(x='x',y='y',color='g',ax=ax)\n",
    "# plt.legend()\n",
    "plt.show()"
   ]
  },
  {
   "cell_type": "code",
   "execution_count": null,
   "id": "d2689ddc",
   "metadata": {
    "ExecuteTime": {
     "end_time": "2022-07-06T03:10:37.214851Z",
     "start_time": "2022-07-06T03:10:37.214838Z"
    }
   },
   "outputs": [],
   "source": [
    "fontsize=14\n",
    "df=compute_annihilation_range_timeseries(df,DS=0.025)\n",
    "fig,ax=plt.subplots(figsize=(6,4))\n",
    "max_index_annihilation=df['index_self'].max()\n",
    "for index_annihilation in range(max_index_annihilation):\n",
    "    df[(df['index_self']==index_annihilation)&(df['dist']>0)].\\\n",
    "    plot(x='tdeath',y='R',color=f'C{index_annihilation}',ax=ax,alpha=0.5, legend=None)\n",
    "# df.tail(8).plot.scatter(x='x',y='y',color='g',ax=ax)\n",
    "format_plot(ax=ax,xlabel=\"t' (ms)\",ylabel='R (cm)', fontsize=fontsize)\n",
    "plt.show()\n",
    "print(f\"{trial_num=}, {max_disp=}\")"
   ]
  },
  {
   "cell_type": "markdown",
   "id": "43f0191c",
   "metadata": {
    "heading_collapsed": true
   },
   "source": [
    "# old tests of dev on linear particle model"
   ]
  },
  {
   "cell_type": "code",
   "execution_count": null,
   "id": "1ec683bc",
   "metadata": {
    "ExecuteTime": {
     "end_time": "2022-07-06T03:10:37.215743Z",
     "start_time": "2022-07-06T03:10:37.215730Z"
    },
    "hidden": true
   },
   "outputs": [],
   "source": [
    "#reset matplotlib settings\n",
    "import matplotlib as mpl\n",
    "sns.reset_orig()\n",
    "mpl.rc_file_defaults()"
   ]
  },
  {
   "cell_type": "code",
   "execution_count": null,
   "id": "a4eb636e",
   "metadata": {
    "ExecuteTime": {
     "end_time": "2022-07-06T03:10:37.216932Z",
     "start_time": "2022-07-06T03:10:37.216917Z"
    },
    "hidden": true
   },
   "outputs": [],
   "source": [
    "# index_annihilation_plot=index_annihilation-1\n",
    "index_annihilation_plot=0\n",
    "df.loc[df['index_other']==index_annihilation_plot,'index_other'].shape"
   ]
  },
  {
   "cell_type": "code",
   "execution_count": null,
   "id": "af5a8374",
   "metadata": {
    "ExecuteTime": {
     "end_time": "2022-07-06T03:10:37.218271Z",
     "start_time": "2022-07-06T03:10:37.218256Z"
    },
    "hidden": true
   },
   "outputs": [],
   "source": [
    "#plot the points i just computed and verify they look reasonable\n",
    "fig,ax=plt.subplots(figsize=(5,5))\n",
    "df[df['index_self']==index_annihilation_plot].plot.scatter(x='x',y='y',ax=ax,color='r',alpha=0.6,marker='v',s=2)\n",
    "df[df['index_other']==index_annihilation_plot].plot.scatter(x='x',y='y',ax=ax,color='g',alpha=0.6,marker='^',s=2)\n",
    "d_prev.plot.scatter(x='x',y='y',ax=ax,color='C0',alpha=0.2,marker='o',s=300)\n",
    "d_next.plot.scatter(x='x',y='y',ax=ax,color='C1',alpha=0.2,marker='o',s=300)\n",
    "format_plot(ax=ax,xlabel='x (cm)',ylabel='y (cm)')\n",
    "plt.show()"
   ]
  },
  {
   "cell_type": "code",
   "execution_count": null,
   "id": "7bb915fa",
   "metadata": {
    "ExecuteTime": {
     "end_time": "2022-07-06T03:10:37.219358Z",
     "start_time": "2022-07-06T03:10:37.219345Z"
    },
    "hidden": true
   },
   "outputs": [],
   "source": [
    "#plot the points i just computed and verify they look reasonable\n",
    "fig,ax=plt.subplots(figsize=(5,5))\n",
    "for index_annihilation_plot in range (8):\n",
    "    df[df['index_self']==index_annihilation_plot].plot.scatter(x='x',y='y',ax=ax,color=f'C{index_annihilation_plot}',alpha=0.9,marker='v',s=2)\n",
    "    df[df['index_other']==index_annihilation_plot].plot.scatter(x='x',y='y',ax=ax,color=f'C{index_annihilation_plot*2}',alpha=0.9,marker='.',s=2)\n",
    "# d_prev.plot.scatter(x='x',y='y',ax=ax,color='C0',alpha=0.2,marker='o',s=300)\n",
    "# d_next.plot.scatter(x='x',y='y',ax=ax,color='C1',alpha=0.2,marker='o',s=300)\n",
    "format_plot(ax=ax,xlabel='x (cm)',ylabel='y (cm)')\n",
    "plt.show()"
   ]
  },
  {
   "cell_type": "code",
   "execution_count": null,
   "id": "36004ec0",
   "metadata": {
    "ExecuteTime": {
     "end_time": "2022-07-06T03:10:37.220579Z",
     "start_time": "2022-07-06T03:10:37.220567Z"
    },
    "hidden": true
   },
   "outputs": [],
   "source": [
    "#DONE: test for equivalence between my particle tracking and the ground truth\n",
    "#HINT: make dict between particle and pid_explicit, asserting that particle maps to one and only one pid_explicit\n",
    "#now the big test:\n",
    "# index_annihilation_test=0\n",
    "index_annihilation_test=index_annihilation_plot\n",
    "print(f\"Do no more than two known particle identities get assigned to {index_annihilation_test=}?\")\n",
    "pid_explicit_set_lst_self=list(set(df.loc[df['index_self']==index_annihilation_plot,'pid_explicit'].values))\n",
    "pid_explicit_set_lst_other=list(set(df.loc[df['index_other']==index_annihilation_plot,'pid_explicit'].values))\n",
    "print(f\"{pid_explicit_set_lst_self=}\")\n",
    "print(f\"{pid_explicit_set_lst_other=}\")\n",
    "print(f\"{num_obs=} is greater than {min_num_obs=}, so this pair-annihilation event is _kept_.\")"
   ]
  },
  {
   "cell_type": "code",
   "execution_count": null,
   "id": "7c4a1639",
   "metadata": {
    "ExecuteTime": {
     "end_time": "2022-07-06T03:10:37.221424Z",
     "start_time": "2022-07-06T03:10:37.221414Z"
    },
    "hidden": true
   },
   "outputs": [],
   "source": [
    "#TODO: simple test for whether results for an example R(t') look reasonable\n",
    "#plot the points i just computed and verify they look reasonable\n",
    "fig,ax=plt.subplots(figsize=(5,5))\n",
    "d=df.loc[df['index_self']==index_annihilation_plot]\n",
    "d.plot.scatter(x='t',y='dist',ax=ax,color='r',alpha=0.6,marker='v',s=2)\n",
    "# df[df['index_self']==index_annihilation_plot].plot.scatter(x='x',y='y',ax=ax,color='r',alpha=0.6,marker='v',s=2)\n",
    "# df[df['index_other']==index_annihilation_plot].plot.scatter(x='x',y='y',ax=ax,color='g',alpha=0.6,marker='^',s=2)\n",
    "# d_prev.plot.scatter(x='x',y='y',ax=ax,color='C0',alpha=0.2,marker='o',s=300)\n",
    "# d_next.plot.scatter(x='x',y='y',ax=ax,color='C1',alpha=0.2,marker='o',s=300)\n",
    "format_plot(ax=ax,xlabel='t (ms)',ylabel='R (cm)')\n",
    "plt.show()"
   ]
  },
  {
   "cell_type": "code",
   "execution_count": null,
   "id": "67940092",
   "metadata": {
    "ExecuteTime": {
     "end_time": "2022-07-06T03:10:37.222323Z",
     "start_time": "2022-07-06T03:10:37.222312Z"
    },
    "hidden": true
   },
   "outputs": [],
   "source": [
    "#Q: why is the final; distance so far away?\n",
    "#A: it's just where i killed the simulation, man! Don't worry about it\n",
    "#TODO: add check to set working=False if the initial distance between particles is greater than a certain amount"
   ]
  },
  {
   "cell_type": "code",
   "execution_count": null,
   "id": "b36571d6",
   "metadata": {
    "ExecuteTime": {
     "end_time": "2022-07-06T03:10:37.223238Z",
     "start_time": "2022-07-06T03:10:37.223226Z"
    },
    "hidden": true
   },
   "outputs": [],
   "source": [
    "d.tail()"
   ]
  },
  {
   "cell_type": "code",
   "execution_count": null,
   "id": "665c7f20",
   "metadata": {
    "ExecuteTime": {
     "end_time": "2022-07-06T03:10:37.224065Z",
     "start_time": "2022-07-06T03:10:37.224054Z"
    },
    "hidden": true
   },
   "outputs": [],
   "source": [
    "df.tail()"
   ]
  },
  {
   "cell_type": "code",
   "execution_count": null,
   "id": "515119f7",
   "metadata": {
    "ExecuteTime": {
     "end_time": "2022-07-06T03:10:37.224924Z",
     "start_time": "2022-07-06T03:10:37.224913Z"
    },
    "hidden": true
   },
   "outputs": [],
   "source": [
    "#DONE: ROOT CAUSE ANALYSIS: why is index 3 not being returned?\n",
    "#YEP. #ROOT CAUSE IDENTIFIED: recall annihilating particles vibrate around eachother as they annihilate\n",
    "#NOPE. #POTENTIAL ROOT CAUSE: map_prev_next,map_next_prev are not inverses of each other\n",
    "# #simplest fix: recompute the other if either is found\n",
    "# id_pair_lst=find_nearest_neighbors_simple(d_prev,d_next,distance_L2_pbc)#,xy_col_lst=['x','y'],**kwargs)\n",
    "# assert len(id_pair_lst)==d_prev.shape[0]"
   ]
  },
  {
   "cell_type": "code",
   "execution_count": null,
   "id": "9762b25d",
   "metadata": {
    "ExecuteTime": {
     "end_time": "2022-07-06T03:10:37.225763Z",
     "start_time": "2022-07-06T03:10:37.225752Z"
    },
    "hidden": true
   },
   "outputs": [],
   "source": [
    "#DONT(this would clearly break it): simple test for whether results for an example R(t') stop looking reasonable if i do:\n",
    "# d_next=df[df['frame']==frame_next].copy()\n",
    "# d_next=df[df['frame']==frame_next]"
   ]
  },
  {
   "cell_type": "code",
   "execution_count": null,
   "id": "90dd38d6",
   "metadata": {
    "hidden": true
   },
   "outputs": [],
   "source": []
  },
  {
   "cell_type": "code",
   "execution_count": null,
   "id": "74a96257",
   "metadata": {
    "hidden": true
   },
   "outputs": [],
   "source": []
  }
 ],
 "metadata": {
  "hide_input": false,
  "kernelspec": {
   "display_name": "Python 3 (ipykernel)",
   "language": "python",
   "name": "python3"
  },
  "language_info": {
   "codemirror_mode": {
    "name": "ipython",
    "version": 3
   },
   "file_extension": ".py",
   "mimetype": "text/x-python",
   "name": "python",
   "nbconvert_exporter": "python",
   "pygments_lexer": "ipython3",
   "version": "3.9.13"
  },
  "latex_envs": {
   "LaTeX_envs_menu_present": true,
   "autoclose": true,
   "autocomplete": false,
   "bibliofile": "biblio.bib",
   "cite_by": "apalike",
   "current_citInitial": 1,
   "eqLabelWithNumbers": false,
   "eqNumInitial": 1,
   "hotkeys": {
    "equation": "Ctrl-E",
    "itemize": "Ctrl-I"
   },
   "labels_anchors": false,
   "latex_user_defs": false,
   "report_style_numbering": false,
   "user_envs_cfg": false
  },
  "nbTranslate": {
   "displayLangs": [
    "*"
   ],
   "hotkey": "alt-t",
   "langInMainMenu": true,
   "sourceLang": "en",
   "targetLang": "fr",
   "useGoogleTranslate": true
  },
  "toc": {
   "base_numbering": 1,
   "nav_menu": {},
   "number_sections": true,
   "sideBar": true,
   "skip_h1_title": false,
   "title_cell": "Table of Contents",
   "title_sidebar": "Contents",
   "toc_cell": false,
   "toc_position": {},
   "toc_section_display": true,
   "toc_window_display": false
  },
  "varInspector": {
   "cols": {
    "lenName": 16,
    "lenType": 16,
    "lenVar": 40
   },
   "kernels_config": {
    "python": {
     "delete_cmd_postfix": "",
     "delete_cmd_prefix": "del ",
     "library": "var_list.py",
     "varRefreshCmd": "print(var_dic_list())"
    },
    "r": {
     "delete_cmd_postfix": ") ",
     "delete_cmd_prefix": "rm(",
     "library": "var_list.r",
     "varRefreshCmd": "cat(var_dic_list()) "
    }
   },
   "types_to_exclude": [
    "module",
    "function",
    "builtin_function_or_method",
    "instance",
    "_Feature"
   ],
   "window_display": false
  }
 },
 "nbformat": 4,
 "nbformat_minor": 5
}
