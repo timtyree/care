{
 "cells": [
  {
   "cell_type": "markdown",
   "id": "e2f68059",
   "metadata": {},
   "source": [
    "# dev nearest-neighbor tracking with periodic boundary conditions\n",
    "Tim Tyree<br>\n",
    "6.29.2022"
   ]
  },
  {
   "cell_type": "code",
   "execution_count": 1,
   "id": "7249626d",
   "metadata": {
    "ExecuteTime": {
     "end_time": "2022-08-03T01:14:54.244240Z",
     "start_time": "2022-08-03T01:14:52.192111Z"
    }
   },
   "outputs": [],
   "source": [
    "# use_clear_output=True\n",
    "# if use_clear_output:\n",
    "#     from IPython.display import clear_output\n",
    "#     clear_output(wait=True)\n",
    "\n",
    "import sys,os\n",
    "og_stdout=sys.stdout\n",
    "from lib.my_initialization import *\n",
    "\n",
    "os.chdir(nb_dir)\n",
    "from lib import *\n",
    "\n",
    "# import cupy, cudf\n",
    "# from lib.rapids_func import *\n",
    "\n",
    "import seaborn as sns\n",
    "import matplotlib.ticker as mtick\n",
    "\n",
    "# #reset matplotlib settings\n",
    "# import matplotlib as mpl\n",
    "# sns.reset_orig()\n",
    "# mpl.rc_file_defaults()\n",
    "\n"
   ]
  },
  {
   "cell_type": "code",
   "execution_count": 2,
   "id": "fd1a3cef",
   "metadata": {
    "ExecuteTime": {
     "end_time": "2022-08-03T01:14:54.281081Z",
     "start_time": "2022-08-03T01:14:54.260310Z"
    }
   },
   "outputs": [],
   "source": [
    "import warnings\n",
    "warnings.simplefilter(\"ignore\", UserWarning)\n",
    "%load_ext autoreload\n",
    "%autoreload 2"
   ]
  },
  {
   "cell_type": "code",
   "execution_count": 3,
   "id": "f0a540e4",
   "metadata": {
    "ExecuteTime": {
     "end_time": "2022-08-03T01:14:54.337527Z",
     "start_time": "2022-08-03T01:14:54.321185Z"
    }
   },
   "outputs": [],
   "source": [
    "#reset matplotlib settings\n",
    "import matplotlib as mpl\n",
    "sns.reset_orig()\n",
    "mpl.rc_file_defaults()"
   ]
  },
  {
   "cell_type": "code",
   "execution_count": 4,
   "id": "4ed0c632",
   "metadata": {
    "ExecuteTime": {
     "end_time": "2022-08-03T01:14:54.395608Z",
     "start_time": "2022-08-03T01:14:54.379269Z"
    }
   },
   "outputs": [],
   "source": [
    "#DONE: implement/dev draft of simple tracker like WJ's in physical notebook\n",
    "#DONE: add support for creation events\n",
    "#DONE: add support for a max displacement of particles\n",
    "#DONE: test on WJ's fortranic tippos\n",
    "#DONT: repeat with .copy() removed in often repeated locations.  does it still work the same?\n",
    "#DONE: test routine on fortranic data step by step\n",
    "#DONE: wrap routine into function \n",
    "#DONE: test functional routine on fortranic data with new kernel\n",
    "#DONE: modify routine_compute_annihilation_range_timeseries_pbc to support use_reverse_time=True"
   ]
  },
  {
   "cell_type": "code",
   "execution_count": 50,
   "id": "eafcb33c",
   "metadata": {
    "ExecuteTime": {
     "end_time": "2022-08-03T00:17:08.216189Z",
     "start_time": "2022-08-03T00:17:08.186288Z"
    }
   },
   "outputs": [],
   "source": [
    "#DONE: wrap this into a foo\n",
    "#DONE: test that this function is an involution"
   ]
  },
  {
   "cell_type": "markdown",
   "id": "1261a81a",
   "metadata": {},
   "source": [
    "# define module"
   ]
  },
  {
   "cell_type": "code",
   "execution_count": 10,
   "id": "e5a54d6b",
   "metadata": {
    "ExecuteTime": {
     "end_time": "2022-08-03T01:16:20.244874Z",
     "start_time": "2022-08-03T01:16:20.226068Z"
    }
   },
   "outputs": [],
   "source": [
    "def reverse_time(df,t_col='t'):\n",
    "    \"\"\"reverse_time inverts the times recorded in df[t_col] inplace and returns df.\n",
    "    df.index is also reset.\n",
    "    applying reverse_time three times is the same as applying it once.\n",
    "    \n",
    "    Example Usage:\n",
    "df_reversed = reverse_time(df.copy(),t_col='t')\n",
    "    \"\"\"\n",
    "    ti = df[t_col].min()\n",
    "    tf = df[t_col].max()\n",
    "    df[t_col] = tf - df[t_col] + ti\n",
    "    df.sort_values(by=t_col,inplace=True)\n",
    "    df.reset_index(inplace=True,drop=True)\n",
    "    return df"
   ]
  },
  {
   "cell_type": "code",
   "execution_count": 11,
   "id": "7dce2b4b",
   "metadata": {
    "ExecuteTime": {
     "end_time": "2022-08-03T01:16:20.573705Z",
     "start_time": "2022-08-03T01:16:20.507999Z"
    }
   },
   "outputs": [
    {
     "name": "stdout",
     "output_type": "stream",
     "text": [
      "index        False\n",
      "t             True\n",
      "n             True\n",
      "x            False\n",
      "y            False\n",
      "trial_num     True\n",
      "dtype: bool\n"
     ]
    }
   ],
   "source": [
    "testing=True\n",
    "if testing:\n",
    "    trial_num=10\n",
    "    # log_folder_parquet='/home/timothytyree/Documents/GitHub/care/notebooks/Data/from_wjr/tippos_per_001_log/'\n",
    "    log_folder_parquet='/home/timothytyree/Documents/GitHub/care/notebooks/Data/from_wjr/positions_fk/200x200/tippos_per_c_005_log/'\n",
    "    df=load_parquet_by_trial_num(trial_num=trial_num,folder_parquet=log_folder_parquet)\n",
    "    #test there is exactly one trial in memory\n",
    "    assert df['trial_num'].drop_duplicates().shape[0]==1\n",
    "\n",
    "    #DONE test reverse_time is an involution\n",
    "    df.reset_index(inplace=True,drop=True)\n",
    "    df_reversed = reverse_time(df.copy(),t_col='t')\n",
    "    df_reversed = reverse_time(df_reversed,t_col='t')\n",
    "    df_reversed = reverse_time(df_reversed,t_col='t')\n",
    "    df_reversed = reverse_time(df_reversed,t_col='t')\n",
    "    # df_reversed.tail()\n",
    "    assert ((df_reversed==df).all()['t'])\n",
    "    print((df_reversed==df).all())\n",
    "    #NOTE: the order of positions were not preserved\n",
    "    "
   ]
  },
  {
   "cell_type": "markdown",
   "id": "88659d95",
   "metadata": {},
   "source": [
    "# compute range timeseries for fortranic spiral tip data"
   ]
  },
  {
   "cell_type": "code",
   "execution_count": 26,
   "id": "9926126f",
   "metadata": {
    "ExecuteTime": {
     "end_time": "2022-08-08T21:25:16.445826Z",
     "start_time": "2022-08-08T21:25:16.421030Z"
    }
   },
   "outputs": [],
   "source": [
    "# input_dir_lst=[\n",
    "#     f'{nb_dir}/Data/from_wjr/positions_fk/200x200/tippos_per_c_005',\n",
    "#     f'{nb_dir}/Data/from_wjr/positions_fk/200x200/tippos_per_c_001',\n",
    "#     f'{nb_dir}/Data/from_wjr/positions_fk/150x150/tippos_per_c_001',\n",
    "#     f'{nb_dir}/Data/from_wjr/positions_fk/250x250/tippos_per_001',\n",
    "#     f'{nb_dir}/Data/from_wjr/positions_fk/200x200/tippos_per_c_005',\n",
    "# ]\n",
    "\n",
    "input_dir_lst=[\n",
    "#     f'{nb_dir}/Data/from_wjr/positions_lr/200x200/tippos_per_001',\n",
    "    f'{nb_dir}/Data/from_wjr/positions_lr/250x250/tippos_per_c_001',\n",
    "    f'{nb_dir}/Data/from_wjr/positions_lr/300x300/tippos_per_c_001',\n",
    "    f'{nb_dir}/Data/from_wjr/positions_lr/350x350/tippos_per_c_001',\n",
    "    f'{nb_dir}/Data/from_wjr/positions_lr/400x400/tippos_per_c_001',\n",
    "    f'{nb_dir}/Data/from_wjr/positions_lr/500x500/tippos_per_001',\n",
    "]\n",
    "\n",
    "## parse WJ's fortranic spiral tip locations to a parquet cache.\n",
    "# input_dir=f'{nb_dir}/Data/from_wjr/tippos_per_001'"
   ]
  },
  {
   "cell_type": "code",
   "execution_count": 27,
   "id": "2e5ca0c3",
   "metadata": {
    "ExecuteTime": {
     "end_time": "2022-08-08T21:25:17.714190Z",
     "start_time": "2022-08-08T21:25:17.697587Z"
    }
   },
   "outputs": [],
   "source": [
    "for input_dir in input_dir_lst:\n",
    "    assert os.path.exists(input_dir)"
   ]
  },
  {
   "cell_type": "code",
   "execution_count": null,
   "id": "5cf75217",
   "metadata": {
    "ExecuteTime": {
     "start_time": "2022-08-08T21:25:20.730Z"
    }
   },
   "outputs": [
    {
     "name": "stdout",
     "output_type": "stream",
     "text": [
      "estimated run time ~4d 10h 11m for tracking annihilations from 4 of wj's fk tip position caches:\n",
      "log_folder_parquet='/home/timothytyree/Documents/GitHub/care/notebooks/Data/from_wjr/positions_lr/250x250/tippos_per_c_001_log/'\n",
      "saved to spiral tip positions to\n",
      "log_folder_parquet='/home/timothytyree/Documents/GitHub/care/notebooks/Data/from_wjr/positions_lr/250x250/tippos_per_c_001_log/'\n",
      "         x      y\n",
      "min    0.0    0.0\n",
      "max  250.0  250.0\n",
      "width=250, height=250, DT=1.0\n",
      "       annihilation_index         R  tdeath       t  n     x     y  trial_num  \\\n",
      "43544                   0  0.183848     0.0  6239.0  2  11.1  13.3          1   \n",
      "43542                   0  0.261880     1.0  6238.0  2  10.3  11.5          1   \n",
      "43540                   0  0.297752     2.0  6237.0  2   9.7  10.2          1   \n",
      "43538                   0  0.331549     3.0  6236.0  2   9.4   9.5          1   \n",
      "43536                   0  0.351923     4.0  6235.0  2   9.1   9.1          1   \n",
      "\n",
      "       frame  \n",
      "43544   6240  \n",
      "43542   6239  \n",
      "43540   6238  \n",
      "43538   6237  \n",
      "43536   6236  \n",
      "added 396 tasks to task_lst!\n"
     ]
    }
   ],
   "source": [
    "use_cache=True\n",
    "\n",
    "# #creations\n",
    "# use_reverse_time=True\n",
    "# use_final_annihilation=False\n",
    "#annihilations (default)\n",
    "use_reverse_time=False\n",
    "use_final_annihilation=True\n",
    "\n",
    "printing=True\n",
    "if printing:\n",
    "    print(f\"estimated run time ~4d 10h 11m for tracking annihilations from 4 of wj's fk tip position caches:\")\n",
    "\n",
    "range_data_dir_lst=[]\n",
    "for input_dir in input_dir_lst:\n",
    "    # log_folder_parquet=f'{nb_dir}/Data/from_wjr/tippos_per_001_log/'\n",
    "    log_folder_parquet=input_dir+'_log/'\n",
    "    if printing:\n",
    "        print(f\"{log_folder_parquet=}\")\n",
    "    #generate cache from src input_dir\n",
    "    df_log=parse_fortranic_tip_pos(input_dir)\n",
    "    if not (use_cache & os.path.exists(log_folder_parquet)):\n",
    "        #partition df_log into a folder of tip logs\n",
    "        # log_folder_parquet=f'{nb_dir}/Data/from_wjr/tippos_per_001_log/'\n",
    "        # save_df_to_parquet_by(df_log,log_folder_parquet,by='trial_num',compression='snappy',index=True)\n",
    "        save_df_to_parquet_by(df_log,log_folder_parquet,by='trial_num',compression='snappy',index=None)\n",
    "        if printing:\n",
    "            print(f\"saved to spiral tip positions to\\n{log_folder_parquet=}\")\n",
    "#     else:\n",
    "#         trial_num=1\n",
    "#         df_log=load_parquet_by_trial_num(trial_num=trial_num,folder_parquet=log_folder_parquet)\n",
    "        \n",
    "    #determine width and height of the computational domain input the discretization\n",
    "    width,height=df_log.describe().loc['max'][['x','y']].values.T\n",
    "    width =  int ( np.around( width  ))\n",
    "    height = int ( np.around( height ))\n",
    "    max_trial_num=df_log['trial_num'].max()\n",
    "    DT=df_log['t'].min()\n",
    "    #printing=True\n",
    "    if printing:\n",
    "        print(df_log.describe().loc[['min','max']][['x','y']])\n",
    "        print(f\"{width=}, {height=}, {DT=}\")\n",
    "    del df_log\n",
    "\n",
    "    #fortranic spiral tip tracker test case\n",
    "    testing=True\n",
    "    if testing:\n",
    "        trial_num=1\n",
    "        #log_folder_parquet='/home/timothytyree/Documents/GitHub/care/notebooks/Data/from_wjr/tippos_per_001_log/'\n",
    "        df=load_parquet_by_trial_num(trial_num=trial_num,folder_parquet=log_folder_parquet)\n",
    "        #time reversal\n",
    "        if use_reverse_time:\n",
    "            #map df <-- df under ./ t --> -t, preserving start/end times\n",
    "            df = reverse_time(df,t_col='t')\n",
    "\n",
    "        df_R=routine_compute_annihilation_range_timeseries_pbc(df,DS=0.025,width=int(width),height=int(height),\n",
    "                        max_disp=30, #15-1000 appears to work\n",
    "                        max_dist=20, # 20 appears to work\n",
    "                        min_num_obs=1,\n",
    "                        use_final_annihilation=bool(use_final_annihilation),printing=False)\n",
    "        if printing:\n",
    "            print(df_R.head())\n",
    "\n",
    "    task_lst=[]\n",
    "    for trial_num in range(max_trial_num):\n",
    "        task_lst.append((trial_num,str(log_folder_parquet),int(width),int(height)))\n",
    "    if printing:\n",
    "        print(f\"added {len(task_lst)} tasks to task_lst!\")\n",
    "\n",
    "    def routine(task):\n",
    "        trial_num,log_folder_parquet,width,height=task    \n",
    "        #log_folder_parquet='/home/timothytyree/Documents/GitHub/care/notebooks/Data/from_wjr/tippos_per_001_log/'\n",
    "        try:\n",
    "            df=load_parquet_by_trial_num(trial_num=trial_num,folder_parquet=log_folder_parquet)            \n",
    "            #time reversal\n",
    "            if use_reverse_time:\n",
    "                #map df <-- df under ./ t --> -t, preserving start/end times\n",
    "                df = reverse_time(df,t_col='t')\n",
    "            \n",
    "            df_R=routine_compute_annihilation_range_timeseries_pbc(df,DS=0.025,width=int(width),height=int(height),\n",
    "                            max_disp=30, #15-1000 appears to work\n",
    "                            max_dist=20, # 20 appears to work\n",
    "                            min_num_obs=1,\n",
    "                            use_final_annihilation=bool(use_final_annihilation),printing=False)\n",
    "            return df_R\n",
    "        except Exception as e:\n",
    "            return f\"Warning: {e}\"\n",
    "\n",
    "    npartitions=10\n",
    "    retval=eval_routine_daskbag(routine,task_lst,npartitions,printing=True)\n",
    "    #NOTE: if this finishes in less than ~53 minutes, then it saves time compared to a simple for loop\n",
    "    #it ran in ~15 minutes. not bad.\n",
    "\n",
    "    #parse data\n",
    "    data_lst=[]\n",
    "    for rv in retval:\n",
    "        if type('')==type(rv):\n",
    "            if printing:\n",
    "                print(rv)\n",
    "        elif rv is not None:\n",
    "            data_lst.append(rv)\n",
    "    if printing:\n",
    "        print(f\"successfully computed msr data for N={len(data_lst)} termination events.\")\n",
    "\n",
    "    #DONE: save data to pickle\n",
    "    #input_folder = \"/home/timothytyree/Documents/GitHub/care/notebooks/Data/from_wjr/\"\n",
    "    input_folder=os.path.dirname(input_dir)\n",
    "    if use_reverse_time:\n",
    "        suffix_str='_creation_range_timeseries.pkl'\n",
    "    else:\n",
    "        suffix_str='_annihilation_range_timeseries.pkl'\n",
    "    output_fn=os.path.basename(input_dir)+suffix_str\n",
    "    range_data_dir=os.path.join(input_folder,output_fn)\n",
    "    save_to_pkl(range_data_dir, data_lst)\n",
    "    if printing:\n",
    "        print(f\"{range_data_dir=}\")\n",
    "    #record\n",
    "    range_data_dir_lst.append(range_data_dir)"
   ]
  },
  {
   "cell_type": "code",
   "execution_count": null,
   "id": "b81f7cc1",
   "metadata": {},
   "outputs": [],
   "source": [
    "# range_data_dir='/home/timothytyree/Documents/GitHub/care/notebooks/Data/from_wjr/positions_fk/200x200/tippos_per_c_005_creation_range_timeseries.pkl'\n",
    "# range_data_dir='/home/timothytyree/Documents/GitHub/care/notebooks/Data/from_wjr/positions_fk/250x250/tippos_per_001_creation_range_timeseries.pkl'\n"
   ]
  },
  {
   "cell_type": "code",
   "execution_count": null,
   "id": "0a17d01b",
   "metadata": {
    "ExecuteTime": {
     "start_time": "2022-08-03T00:20:45.966Z"
    }
   },
   "outputs": [],
   "source": [
    "# DONE: add support for creation range timeseries\n",
    "#heretim\n",
    "print(*range_data_dir_lst)"
   ]
  },
  {
   "cell_type": "code",
   "execution_count": null,
   "id": "567f2f36",
   "metadata": {
    "ExecuteTime": {
     "end_time": "2022-07-20T21:29:11.981736Z",
     "start_time": "2022-07-20T21:29:11.981717Z"
    }
   },
   "outputs": [],
   "source": [
    "beep(7)"
   ]
  },
  {
   "cell_type": "markdown",
   "id": "8b3e3a14",
   "metadata": {
    "heading_collapsed": true
   },
   "source": [
    "## etc"
   ]
  },
  {
   "cell_type": "code",
   "execution_count": null,
   "id": "c1c9331a",
   "metadata": {
    "ExecuteTime": {
     "end_time": "2022-07-20T22:22:41.333220Z",
     "start_time": "2022-07-20T22:22:41.333208Z"
    },
    "hidden": true
   },
   "outputs": [],
   "source": [
    "# range_data_dir='/home/timothytyree/Documents/GitHub/care/notebooks/Data/from_wjr/positions_fk/200x200/tippos_per_c_001_annihilation_range_timeseries.pkl'\n",
    "# range_data_dir='/home/timothytyree/Documents/GitHub/care/notebooks/Data/from_wjr/positions_fk/150x150/tippos_per_c_001_annihilation_range_timeseries.pkl'\n",
    "!rm /home/timothytyree/Documents/GitHub/care/notebooks/Data/from_wjr/positions_fk/150x150/tippos_per_c_001_annihilation_range_timeseries.pkl\n"
   ]
  },
  {
   "cell_type": "code",
   "execution_count": 38,
   "id": "52fb6aa7",
   "metadata": {
    "ExecuteTime": {
     "end_time": "2022-07-06T03:18:03.421762Z",
     "start_time": "2022-07-06T03:18:03.402948Z"
    },
    "hidden": true
   },
   "outputs": [],
   "source": [
    "def routine(task):\n",
    "    trial_num=task    \n",
    "    log_folder_parquet='/home/timothytyree/Documents/GitHub/care/notebooks/Data/from_wjr/tippos_per_001_log/'\n",
    "    try:\n",
    "        df=load_parquet_by_trial_num(trial_num=trial_num,folder_parquet=log_folder_parquet)\n",
    "        df_R=routine_compute_annihilation_range_timeseries_pbc(df,DS=0.025,width=200,height=200,\n",
    "                        max_disp=30, #15-1000 appears to work\n",
    "                        max_dist=20, # appears to work\n",
    "                        min_num_obs=1,use_final_annihilation=True,printing=False)\n",
    "        return df_R\n",
    "    except Exception as e:\n",
    "        return f\"Warning: {e}\""
   ]
  },
  {
   "cell_type": "code",
   "execution_count": 39,
   "id": "682b1cbd",
   "metadata": {
    "ExecuteTime": {
     "end_time": "2022-07-06T03:33:35.208389Z",
     "start_time": "2022-07-06T03:18:04.575764Z"
    },
    "hidden": true
   },
   "outputs": [
    {
     "name": "stdout",
     "output_type": "stream",
     "text": [
      "run time for evaluating routine was 930.61 seconds, yielding 641 values returned\n"
     ]
    }
   ],
   "source": [
    "npartitions=11\n",
    "retval=eval_routine_daskbag(routine,task_lst,npartitions,printing=True)\n",
    "#NOTE: if this finishes in less than ~53 minutes, then it saves time compared to a simple for loop\n",
    "#it ran in ~15 minutes. not bad."
   ]
  },
  {
   "cell_type": "code",
   "execution_count": 40,
   "id": "dceef667",
   "metadata": {
    "ExecuteTime": {
     "end_time": "2022-07-06T03:33:39.013737Z",
     "start_time": "2022-07-06T03:33:38.996167Z"
    },
    "hidden": true
   },
   "outputs": [
    {
     "name": "stdout",
     "output_type": "stream",
     "text": [
      "Warning: 'NoneType' object is not subscriptable\n",
      "Warning: 'NoneType' object is not subscriptable\n",
      "Warning: \n",
      "Warning: \n",
      "Warning: \n",
      "Warning: 'NoneType' object is not subscriptable\n",
      "Warning: \n",
      "Warning: 'NoneType' object is not subscriptable\n",
      "Warning: \n",
      "Warning: \n",
      "Warning: \n",
      "Warning: \n",
      "Warning: \n",
      "Warning: \n",
      "Warning: 'NoneType' object is not subscriptable\n",
      "Warning: \n",
      "Warning: \n",
      "Warning: \n",
      "Warning: \n",
      "Warning: \n",
      "Warning: \n",
      "Warning: \n",
      "Warning: \n",
      "Warning: \n",
      "Warning: \n",
      "Warning: \n",
      "Warning: \n",
      "Warning: 'NoneType' object is not subscriptable\n",
      "Warning: \n",
      "Warning: \n",
      "Warning: \n",
      "Warning: \n",
      "Warning: \n",
      "Warning: \n",
      "Warning: \n",
      "Warning: 'NoneType' object is not subscriptable\n",
      "Warning: \n",
      "Warning: \n",
      "Warning: \n",
      "Warning: \n",
      "Warning: \n",
      "Warning: \n",
      "Warning: \n",
      "Warning: \n",
      "Warning: \n",
      "Warning: \n",
      "successfully computed msr data for N=595 termiantion events.\n"
     ]
    }
   ],
   "source": [
    "#parse data\n",
    "data_lst=[]\n",
    "for rv in retval:\n",
    "    if type('')==type(rv):\n",
    "        print(rv)\n",
    "    elif rv is not None:\n",
    "        data_lst.append(rv)\n",
    "print(f\"successfully computed msr data for N={len(data_lst)} termination events.\")"
   ]
  },
  {
   "cell_type": "code",
   "execution_count": 41,
   "id": "1090603a",
   "metadata": {
    "ExecuteTime": {
     "end_time": "2022-07-06T03:33:46.493479Z",
     "start_time": "2022-07-06T03:33:46.427049Z"
    },
    "hidden": true
   },
   "outputs": [
    {
     "name": "stdout",
     "output_type": "stream",
     "text": [
      "range_data_dir='/home/timothytyree/Documents/GitHub/care/notebooks/Data/from_wjr/tippos_per_001_annihilation_range_timeseries.pkl'\n"
     ]
    }
   ],
   "source": [
    "#DONE: save data to pickle\n",
    "input_folder = \"/home/timothytyree/Documents/GitHub/care/notebooks/Data/from_wjr/\"\n",
    "output_fn='tippos_per_001'+'_annihilation_range_timeseries.pkl'\n",
    "range_data_dir=os.path.join(input_folder,output_fn)\n",
    "save_to_pkl(range_data_dir, data_lst)\n",
    "print(f\"{range_data_dir=}\")"
   ]
  },
  {
   "cell_type": "code",
   "execution_count": 33,
   "id": "4dcb9529",
   "metadata": {
    "ExecuteTime": {
     "end_time": "2022-07-06T03:15:44.903861Z",
     "start_time": "2022-07-06T03:15:44.885116Z"
    },
    "hidden": true,
    "run_control": {
     "marked": true
    }
   },
   "outputs": [
    {
     "name": "stdout",
     "output_type": "stream",
     "text": [
      "added 641 tasks to task_lst!\n"
     ]
    }
   ],
   "source": [
    "# task_lst=[]\n",
    "# for trial_num in range(641):\n",
    "#     task_lst.append(trial_num)\n",
    "# print(f\"added {len(task_lst)} tasks to task_lst!\")\n",
    "\n",
    "# def routine(task):\n",
    "#     trial_num=task    \n",
    "#     log_folder_parquet='/home/timothytyree/Documents/GitHub/care/notebooks/Data/from_wjr/tippos_per_001_log/'\n",
    "#     try:\n",
    "#         df=load_parquet_by_trial_num(trial_num=trial_num,folder_parquet=log_folder_parquet)\n",
    "#         df_R=routine_compute_annihilation_range_timeseries_pbc(df,DS=0.025,width=200,height=200,\n",
    "#                         max_disp=30, #15-1000 appears to work\n",
    "#                         max_dist=20, # appears to work\n",
    "#                         min_num_obs=1,use_final_annihilation=True,printing=False)\n",
    "#         return df_R\n",
    "#     except Exception as e:\n",
    "#         return f\"Warning: {e}\"\n",
    "\n",
    "# npartitions=10\n",
    "# retval=eval_routine_daskbag(routine,task_lst,npartitions,printing=True)\n",
    "# #NOTE: if this finishes in less than ~53 minutes, then it saves time compared to a simple for loop\n",
    "# #it ran in ~15 minutes. not bad.\n",
    "\n",
    "# #parse data\n",
    "# data_lst=[]\n",
    "# for rv in retval:\n",
    "#     if type('')==type(rv):\n",
    "#         print(rv)\n",
    "#     elif rv is not None:\n",
    "#         data_lst.append(rv)\n",
    "# print(f\"successfully computed msr data for N={len(data_lst)} termination events.\")\n",
    "\n",
    "# #DONE: save data to pickle\n",
    "# input_folder = \"/home/timothytyree/Documents/GitHub/care/notebooks/Data/from_wjr/\"\n",
    "# output_fn='tippos_per_001'+'_annihilation_range_timeseries.pkl'\n",
    "# range_data_dir=os.path.join(input_folder,output_fn)\n",
    "# save_to_pkl(range_data_dir, data_lst)\n",
    "# print(f\"{range_data_dir=}\")"
   ]
  },
  {
   "cell_type": "markdown",
   "id": "efe6c983",
   "metadata": {
    "heading_collapsed": true
   },
   "source": [
    "# compute range timeseries for pythonic spiral tip data"
   ]
  },
  {
   "cell_type": "code",
   "execution_count": 4,
   "id": "914d6392",
   "metadata": {
    "ExecuteTime": {
     "end_time": "2022-07-20T06:49:22.642188Z",
     "start_time": "2022-07-20T06:49:22.636508Z"
    },
    "hidden": true
   },
   "outputs": [],
   "source": [
    "def drop_every_other_time_point(df):\n",
    "    \"\"\"\n",
    "    Example Usage:\n",
    "drop_every_other_time_point(df)\n",
    "    \"\"\"\n",
    "    t_values_keep = df['t'].drop_duplicates()[1::2].values\n",
    "    boo_keep = df['t']<-9999\n",
    "    for t in t_values_keep:\n",
    "        boo_keep |= df['t']==t\n",
    "    df = df[boo_keep].copy()\n",
    "    return df"
   ]
  },
  {
   "cell_type": "code",
   "execution_count": 6,
   "id": "78285ae4",
   "metadata": {
    "ExecuteTime": {
     "end_time": "2022-07-20T06:49:41.073311Z",
     "start_time": "2022-07-20T06:49:41.067179Z"
    },
    "hidden": true
   },
   "outputs": [],
   "source": [
    "# search_for_file()"
   ]
  },
  {
   "cell_type": "code",
   "execution_count": 7,
   "id": "22d2aea5",
   "metadata": {
    "ExecuteTime": {
     "end_time": "2022-07-20T06:49:42.401912Z",
     "start_time": "2022-07-20T06:49:42.395512Z"
    },
    "hidden": true
   },
   "outputs": [],
   "source": [
    "#completed\n",
    "# input_folder='/home/timothytyree/Documents/GitHub/care/notebooks/Data/initial-conditions-suite-3-LR/ds_5_param_qu_tmax_30_Ko_5.4_diffCoef_0.001/Log/'\n",
    "# fn_lst=[os.path.join(input_folder,x) for x in sorted(os.listdir(input_folder))]\n",
    "# fn_lst[0],len(fn_lst)\n",
    "# print(f\"{input_folder=}\")"
   ]
  },
  {
   "cell_type": "code",
   "execution_count": 25,
   "id": "fa958d21",
   "metadata": {
    "ExecuteTime": {
     "end_time": "2022-07-06T05:55:15.909935Z",
     "start_time": "2022-07-06T05:55:15.723355Z"
    },
    "hidden": true
   },
   "outputs": [
    {
     "name": "stdout",
     "output_type": "stream",
     "text": [
      "before drop_duplicates: df.shape=(133269, 8)\n",
      "after drop_duplicates: df.shape=(133269, 8)\n"
     ]
    },
    {
     "data": {
      "text/html": [
       "<div>\n",
       "<style scoped>\n",
       "    .dataframe tbody tr th:only-of-type {\n",
       "        vertical-align: middle;\n",
       "    }\n",
       "\n",
       "    .dataframe tbody tr th {\n",
       "        vertical-align: top;\n",
       "    }\n",
       "\n",
       "    .dataframe thead th {\n",
       "        text-align: right;\n",
       "    }\n",
       "</style>\n",
       "<table border=\"1\" class=\"dataframe\">\n",
       "  <thead>\n",
       "    <tr style=\"text-align: right;\">\n",
       "      <th></th>\n",
       "      <th>index</th>\n",
       "      <th>t</th>\n",
       "      <th>n</th>\n",
       "      <th>x</th>\n",
       "      <th>y</th>\n",
       "      <th>grad_ux</th>\n",
       "      <th>grad_uy</th>\n",
       "      <th>grad_vx</th>\n",
       "      <th>grad_vy</th>\n",
       "    </tr>\n",
       "  </thead>\n",
       "  <tbody>\n",
       "    <tr>\n",
       "      <th>0</th>\n",
       "      <td>0</td>\n",
       "      <td>0.5</td>\n",
       "      <td>8</td>\n",
       "      <td>30.970498</td>\n",
       "      <td>191.730527</td>\n",
       "      <td>-0.066684</td>\n",
       "      <td>1.172466</td>\n",
       "      <td>6.688934</td>\n",
       "      <td>0.077292</td>\n",
       "    </tr>\n",
       "    <tr>\n",
       "      <th>1</th>\n",
       "      <td>1</td>\n",
       "      <td>0.5</td>\n",
       "      <td>8</td>\n",
       "      <td>62.724662</td>\n",
       "      <td>158.404917</td>\n",
       "      <td>2.426485</td>\n",
       "      <td>0.433045</td>\n",
       "      <td>-1.436105</td>\n",
       "      <td>1.967648</td>\n",
       "    </tr>\n",
       "    <tr>\n",
       "      <th>2</th>\n",
       "      <td>2</td>\n",
       "      <td>0.5</td>\n",
       "      <td>8</td>\n",
       "      <td>86.944705</td>\n",
       "      <td>168.813958</td>\n",
       "      <td>-0.650947</td>\n",
       "      <td>1.850735</td>\n",
       "      <td>4.180481</td>\n",
       "      <td>-0.643616</td>\n",
       "    </tr>\n",
       "    <tr>\n",
       "      <th>3</th>\n",
       "      <td>3</td>\n",
       "      <td>0.5</td>\n",
       "      <td>8</td>\n",
       "      <td>114.748439</td>\n",
       "      <td>142.986244</td>\n",
       "      <td>0.324528</td>\n",
       "      <td>1.543465</td>\n",
       "      <td>1.744883</td>\n",
       "      <td>0.402295</td>\n",
       "    </tr>\n",
       "    <tr>\n",
       "      <th>4</th>\n",
       "      <td>4</td>\n",
       "      <td>0.5</td>\n",
       "      <td>8</td>\n",
       "      <td>133.438658</td>\n",
       "      <td>6.224695</td>\n",
       "      <td>1.012537</td>\n",
       "      <td>0.720855</td>\n",
       "      <td>1.102857</td>\n",
       "      <td>-1.016976</td>\n",
       "    </tr>\n",
       "  </tbody>\n",
       "</table>\n",
       "</div>"
      ],
      "text/plain": [
       "   index    t  n           x           y   grad_ux   grad_uy   grad_vx  \\\n",
       "0      0  0.5  8   30.970498  191.730527 -0.066684  1.172466  6.688934   \n",
       "1      1  0.5  8   62.724662  158.404917  2.426485  0.433045 -1.436105   \n",
       "2      2  0.5  8   86.944705  168.813958 -0.650947  1.850735  4.180481   \n",
       "3      3  0.5  8  114.748439  142.986244  0.324528  1.543465  1.744883   \n",
       "4      4  0.5  8  133.438658    6.224695  1.012537  0.720855  1.102857   \n",
       "\n",
       "    grad_vy  \n",
       "0  0.077292  \n",
       "1  1.967648  \n",
       "2 -0.643616  \n",
       "3  0.402295  \n",
       "4 -1.016976  "
      ]
     },
     "execution_count": 25,
     "metadata": {},
     "output_type": "execute_result"
    }
   ],
   "source": [
    "# input_dir='/home/timothytyree/Documents/GitHub/care/notebooks/Data/initial-conditions-suite-3-LR/ds_5_param_qu_tmax_30_Ko_5.4_diffCoef_0.001/Log/ic001.12_log.csv'\n",
    "input_dir='/home/timothytyree/Documents/GitHub/care/notebooks/Data/initial-conditions-suite-3-LR/param_qu_tmax_30_Ko_5.4_diffCoef_0.0005_dt_0.5/Log/ic001.21_log.csv'\n",
    "df=load_tip_pos_from_csv(input_dir,round_t_to_n_digits=7,printing=True)\n",
    "df.head()"
   ]
  },
  {
   "cell_type": "code",
   "execution_count": 26,
   "id": "48efad28",
   "metadata": {
    "ExecuteTime": {
     "end_time": "2022-07-06T05:55:22.571364Z",
     "start_time": "2022-07-06T05:55:22.488355Z"
    },
    "hidden": true,
    "run_control": {
     "marked": true
    }
   },
   "outputs": [
    {
     "name": "stdout",
     "output_type": "stream",
     "text": [
      "              x           y\n",
      "min    0.000990    0.000959\n",
      "max  199.998708  199.999086\n",
      "width=199.9987081729576, height=199.9990858828612, DT=0.5\n"
     ]
    }
   ],
   "source": [
    "width,height=df.describe().loc['max'][['x','y']].values.T\n",
    "\n",
    "DT=df['t'].min()\n",
    "\n",
    "# DT=sorted(df['t'].drop_duplicates().values)[1]\n",
    "printing=True\n",
    "if printing:\n",
    "    print(df.describe().loc[['min','max']][['x','y']])\n",
    "    print(f\"{width=}, {height=}, {DT=}\")\n",
    "# del df_log"
   ]
  },
  {
   "cell_type": "code",
   "execution_count": 48,
   "id": "da53e67c",
   "metadata": {
    "ExecuteTime": {
     "end_time": "2022-07-06T04:31:14.757766Z",
     "start_time": "2022-07-06T04:31:14.720124Z"
    },
    "hidden": true
   },
   "outputs": [
    {
     "name": "stdout",
     "output_type": "stream",
     "text": [
      "input_folder='/home/timothytyree/Documents/GitHub/care/notebooks/Data/initial-conditions-suite-3-LR/param_qu_tmax_30_Ko_5.4_diffCoef_0.0005_dt_0.5/Log'\n"
     ]
    }
   ],
   "source": [
    "input_folder=os.path.dirname(input_dir)\n",
    "# print(f\"{input_folder=}\")"
   ]
  },
  {
   "cell_type": "code",
   "execution_count": 27,
   "id": "63524ca4",
   "metadata": {
    "ExecuteTime": {
     "end_time": "2022-07-06T05:56:37.418291Z",
     "start_time": "2022-07-06T05:56:37.414352Z"
    },
    "hidden": true
   },
   "outputs": [],
   "source": [
    "input_dir='/home/timothytyree/Documents/GitHub/care/notebooks/Data/initial-conditions-suite-3-LR/param_qu_tmax_30_Ko_5.4_diffCoef_0.0005_dt_0.5/Log/ic001.21_log.csv'\n"
   ]
  },
  {
   "cell_type": "code",
   "execution_count": 39,
   "id": "1b777b1d",
   "metadata": {
    "ExecuteTime": {
     "end_time": "2022-07-06T06:02:36.715874Z",
     "start_time": "2022-07-06T06:02:36.713349Z"
    },
    "hidden": true
   },
   "outputs": [],
   "source": [
    "#needs filtering by .find('_log.csv')\n",
    "input_dir_lst=[\n",
    "    '/home/timothytyree/Documents/GitHub/care/notebooks/Data/initial-conditions-suite-3-LR/param_qu_tmax_30_Ko_5.4_diffCoef_0.0005_dt_0.5/Log/ic001.21_log.csv',\n",
    "    #i think the following (first) one is what i used for the FK model\n",
    "    '/home/timothytyree/Documents/GitHub/care/notebooks/Data/initial-conditions-fk-200x200/param_set_8_ds_5.0_tmax_10_diffCoef_0.0005/Log/ic200x200.0.1_log.csv',\n",
    "    '/home/timothytyree/Documents/GitHub/care/notebooks/Data/initial-conditions-fk-200x200/param_set_8_ds_5.0_tmax_30_diffCoef_0.001_dt_1/Log/ic200x200.0.1_log.csv',    \n",
    "    '/home/timothytyree/Documents/GitHub/care/notebooks/Data/initial-conditions-fk-200x200/param_set_8_ds_5.0_tmax_10_diffCoef_0.0005/Log/ic200x200.0.0_log.csv',\n",
    "    '/home/timothytyree/Documents/GitHub/care/notebooks/Data/initial-conditions-fk-200x200/param_set_8_ds_5.0_tmax_30_diffCoef_0.001_dt_0.025/Log/ic200x200.0.0_log.csv'\n",
    "]"
   ]
  },
  {
   "cell_type": "code",
   "execution_count": 40,
   "id": "4e2016eb",
   "metadata": {
    "ExecuteTime": {
     "end_time": "2022-07-06T12:46:04.508126Z",
     "start_time": "2022-07-06T06:04:39.044201Z"
    },
    "hidden": true
   },
   "outputs": [
    {
     "name": "stdout",
     "output_type": "stream",
     "text": [
      "found 159 files comparable to /home/timothytyree/Documents/GitHub/care/notebooks/Data/initial-conditions-suite-3-LR/param_qu_tmax_30_Ko_5.4_diffCoef_0.0005_dt_0.5/Log/ic001.11_log.csv\n",
      "added 159 tasks to task_lst!\n",
      "run time for evaluating routine was 2478.27 seconds, yielding 159 values returned\n",
      "Warning: \n",
      "Warning: \n",
      "Warning: \n",
      "Warning: \n",
      "Warning: \n",
      "Warning: \n",
      "Warning: \n",
      "Warning: \n",
      "Warning: \n",
      "Warning: index 1 is out of bounds for axis 0 with size 1\n",
      "Warning: \n",
      "Warning: \n",
      "Warning: \n",
      "Warning: \n",
      "Warning: \n",
      "Warning: \n",
      "Warning: \n",
      "Warning: \n",
      "Warning: \n",
      "Warning: \n",
      "Warning: \n",
      "Warning: \n",
      "Warning: \n",
      "Warning: \n",
      "Warning: \n",
      "Warning: \n",
      "Warning: \n",
      "Warning: \n",
      "Warning: \n",
      "Warning: \n",
      "successfully computed msr data for N=129 termination events.\n",
      "*** range_data_dir='/home/timothytyree/Documents/GitHub/care/notebooks/Data/initial-conditions-suite-3-LR/param_qu_tmax_30_Ko_5.4_diffCoef_0.0005_dt_0.5/annihilation_range_timeseries.pkl'\n",
      "found 324 files comparable to /home/timothytyree/Documents/GitHub/care/notebooks/Data/initial-conditions-fk-200x200/param_set_8_ds_5.0_tmax_10_diffCoef_0.0005/Log/ic200x200.0.0_log.csv\n",
      "added 324 tasks to task_lst!\n",
      "run time for evaluating routine was 2116.09 seconds, yielding 324 values returned\n",
      "Warning: \n",
      "Warning: \n",
      "Warning: \n",
      "Warning: \n",
      "Warning: \n",
      "Warning: \n",
      "Warning: \n",
      "Warning: \n",
      "Warning: \n",
      "Warning: \n",
      "Warning: \n",
      "Warning: \n",
      "Warning: \n",
      "Warning: \n",
      "Warning: \n",
      "Warning: \n",
      "Warning: \n",
      "Warning: \n",
      "Warning: \n",
      "Warning: \n",
      "Warning: \n",
      "Warning: \n",
      "Warning: \n",
      "Warning: \n",
      "Warning: \n",
      "Warning: \n",
      "Warning: \n",
      "Warning: \n",
      "Warning: \n",
      "Warning: \n",
      "Warning: \n",
      "Warning: \n",
      "Warning: \n",
      "Warning: \n",
      "Warning: \n",
      "Warning: \n",
      "Warning: \n",
      "Warning: \n",
      "Warning: \n",
      "Warning: \n",
      "Warning: \n",
      "Warning: \n",
      "Warning: \n",
      "Warning: \n",
      "Warning: \n",
      "Warning: \n",
      "Warning: \n",
      "Warning: \n",
      "Warning: \n",
      "Warning: \n",
      "Warning: \n",
      "Warning: \n",
      "Warning: \n",
      "Warning: \n",
      "Warning: \n",
      "Warning: \n",
      "Warning: \n",
      "Warning: \n",
      "Warning: \n",
      "Warning: \n",
      "Warning: \n",
      "Warning: \n",
      "Warning: \n",
      "Warning: \n",
      "Warning: \n",
      "Warning: \n",
      "Warning: \n",
      "Warning: \n",
      "Warning: \n",
      "Warning: \n",
      "Warning: \n",
      "Warning: \n",
      "Warning: \n",
      "Warning: \n",
      "Warning: \n",
      "Warning: \n",
      "Warning: \n",
      "Warning: \n",
      "Warning: \n",
      "Warning: \n",
      "Warning: \n",
      "Warning: \n",
      "Warning: \n",
      "Warning: \n",
      "Warning: \n",
      "Warning: \n",
      "Warning: \n",
      "Warning: \n",
      "Warning: \n",
      "Warning: \n",
      "Warning: \n",
      "Warning: \n",
      "Warning: \n",
      "Warning: \n",
      "Warning: \n",
      "Warning: \n",
      "Warning: \n",
      "Warning: \n",
      "Warning: \n",
      "Warning: \n",
      "Warning: \n",
      "Warning: \n",
      "Warning: \n",
      "Warning: \n",
      "Warning: \n",
      "Warning: \n",
      "Warning: \n",
      "Warning: \n",
      "Warning: \n",
      "Warning: \n",
      "Warning: \n",
      "Warning: \n",
      "Warning: \n",
      "Warning: \n",
      "Warning: \n",
      "Warning: \n",
      "Warning: \n",
      "Warning: \n",
      "Warning: \n",
      "Warning: \n",
      "Warning: \n",
      "Warning: \n",
      "Warning: \n",
      "Warning: \n",
      "Warning: \n",
      "Warning: \n",
      "Warning: \n",
      "Warning: \n",
      "Warning: \n",
      "Warning: \n",
      "Warning: \n",
      "Warning: \n",
      "Warning: \n",
      "Warning: \n",
      "Warning: \n",
      "Warning: \n",
      "Warning: \n",
      "Warning: \n",
      "Warning: \n",
      "Warning: \n",
      "Warning: \n",
      "Warning: \n",
      "Warning: \n",
      "Warning: \n",
      "Warning: \n",
      "Warning: \n",
      "Warning: \n",
      "Warning: \n",
      "Warning: \n",
      "Warning: \n",
      "Warning: \n",
      "Warning: \n",
      "Warning: \n",
      "Warning: \n",
      "Warning: \n",
      "Warning: \n",
      "Warning: \n",
      "Warning: \n",
      "Warning: \n",
      "Warning: \n",
      "Warning: \n",
      "Warning: \n",
      "Warning: \n",
      "Warning: \n",
      "Warning: \n",
      "Warning: \n",
      "Warning: \n",
      "Warning: \n",
      "Warning: \n",
      "Warning: \n",
      "Warning: \n",
      "Warning: \n",
      "Warning: \n",
      "Warning: \n",
      "Warning: \n",
      "Warning: \n",
      "Warning: \n",
      "Warning: \n",
      "Warning: \n",
      "Warning: \n",
      "Warning: \n",
      "Warning: \n",
      "Warning: \n",
      "Warning: \n",
      "Warning: \n",
      "Warning: \n",
      "Warning: \n",
      "Warning: \n",
      "Warning: \n",
      "Warning: \n",
      "Warning: \n",
      "Warning: \n",
      "Warning: \n",
      "Warning: \n",
      "Warning: \n",
      "Warning: \n",
      "Warning: \n",
      "Warning: \n",
      "Warning: \n",
      "Warning: \n",
      "Warning: \n",
      "Warning: \n",
      "Warning: \n",
      "successfully computed msr data for N=121 termination events.\n",
      "*** range_data_dir='/home/timothytyree/Documents/GitHub/care/notebooks/Data/initial-conditions-fk-200x200/param_set_8_ds_5.0_tmax_10_diffCoef_0.0005/annihilation_range_timeseries.pkl'\n",
      "found 324 files comparable to /home/timothytyree/Documents/GitHub/care/notebooks/Data/initial-conditions-fk-200x200/param_set_8_ds_5.0_tmax_30_diffCoef_0.001_dt_1/Log/ic200x200.0.0_log.csv\n",
      "added 324 tasks to task_lst!\n",
      "run time for evaluating routine was 1715.53 seconds, yielding 324 values returned\n",
      "Warning: \n",
      "Warning: \n",
      "Warning: \n",
      "Warning: \n",
      "Warning: \n",
      "Warning: \n",
      "Warning: \n",
      "Warning: \n",
      "successfully computed msr data for N=316 termination events.\n",
      "*** range_data_dir='/home/timothytyree/Documents/GitHub/care/notebooks/Data/initial-conditions-fk-200x200/param_set_8_ds_5.0_tmax_30_diffCoef_0.001_dt_1/annihilation_range_timeseries.pkl'\n",
      "found 324 files comparable to /home/timothytyree/Documents/GitHub/care/notebooks/Data/initial-conditions-fk-200x200/param_set_8_ds_5.0_tmax_10_diffCoef_0.0005/Log/ic200x200.0.0_log.csv\n",
      "added 324 tasks to task_lst!\n",
      "run time for evaluating routine was 2098.07 seconds, yielding 324 values returned\n",
      "Warning: \n",
      "Warning: \n",
      "Warning: \n",
      "Warning: \n",
      "Warning: \n",
      "Warning: \n",
      "Warning: \n",
      "Warning: \n",
      "Warning: \n",
      "Warning: \n",
      "Warning: \n",
      "Warning: \n",
      "Warning: \n",
      "Warning: \n",
      "Warning: \n",
      "Warning: \n",
      "Warning: \n",
      "Warning: \n",
      "Warning: \n",
      "Warning: \n",
      "Warning: \n",
      "Warning: \n",
      "Warning: \n",
      "Warning: \n",
      "Warning: \n",
      "Warning: \n",
      "Warning: \n",
      "Warning: \n",
      "Warning: \n",
      "Warning: \n",
      "Warning: \n",
      "Warning: \n",
      "Warning: \n",
      "Warning: \n",
      "Warning: \n",
      "Warning: \n",
      "Warning: \n",
      "Warning: \n",
      "Warning: \n",
      "Warning: \n",
      "Warning: \n",
      "Warning: \n",
      "Warning: \n",
      "Warning: \n",
      "Warning: \n",
      "Warning: \n",
      "Warning: \n",
      "Warning: \n",
      "Warning: \n",
      "Warning: \n",
      "Warning: \n",
      "Warning: \n",
      "Warning: \n",
      "Warning: \n",
      "Warning: \n",
      "Warning: \n",
      "Warning: \n",
      "Warning: \n",
      "Warning: \n",
      "Warning: \n",
      "Warning: \n",
      "Warning: \n",
      "Warning: \n",
      "Warning: \n",
      "Warning: \n",
      "Warning: \n",
      "Warning: \n",
      "Warning: \n",
      "Warning: \n",
      "Warning: \n",
      "Warning: \n",
      "Warning: \n",
      "Warning: \n",
      "Warning: \n",
      "Warning: \n",
      "Warning: \n",
      "Warning: \n",
      "Warning: \n",
      "Warning: \n",
      "Warning: \n",
      "Warning: \n",
      "Warning: \n",
      "Warning: \n",
      "Warning: \n",
      "Warning: \n",
      "Warning: \n",
      "Warning: \n",
      "Warning: \n",
      "Warning: \n",
      "Warning: \n",
      "Warning: \n",
      "Warning: \n",
      "Warning: \n",
      "Warning: \n",
      "Warning: \n",
      "Warning: \n",
      "Warning: \n",
      "Warning: \n",
      "Warning: \n",
      "Warning: \n",
      "Warning: \n",
      "Warning: \n",
      "Warning: \n",
      "Warning: \n",
      "Warning: \n",
      "Warning: \n",
      "Warning: \n",
      "Warning: \n",
      "Warning: \n",
      "Warning: \n",
      "Warning: \n",
      "Warning: \n",
      "Warning: \n",
      "Warning: \n",
      "Warning: \n",
      "Warning: \n",
      "Warning: \n",
      "Warning: \n",
      "Warning: \n",
      "Warning: \n",
      "Warning: \n",
      "Warning: \n",
      "Warning: \n",
      "Warning: \n",
      "Warning: \n",
      "Warning: \n",
      "Warning: \n",
      "Warning: \n",
      "Warning: \n",
      "Warning: \n",
      "Warning: \n",
      "Warning: \n",
      "Warning: \n",
      "Warning: \n",
      "Warning: \n",
      "Warning: \n",
      "Warning: \n",
      "Warning: \n",
      "Warning: \n",
      "Warning: \n",
      "Warning: \n",
      "Warning: \n",
      "Warning: \n",
      "Warning: \n",
      "Warning: \n",
      "Warning: \n",
      "Warning: \n",
      "Warning: \n",
      "Warning: \n",
      "Warning: \n",
      "Warning: \n",
      "Warning: \n",
      "Warning: \n",
      "Warning: \n",
      "Warning: \n",
      "Warning: \n",
      "Warning: \n",
      "Warning: \n",
      "Warning: \n",
      "Warning: \n",
      "Warning: \n",
      "Warning: \n",
      "Warning: \n",
      "Warning: \n",
      "Warning: \n",
      "Warning: \n",
      "Warning: \n",
      "Warning: \n",
      "Warning: \n",
      "Warning: \n",
      "Warning: \n",
      "Warning: \n",
      "Warning: \n",
      "Warning: \n",
      "Warning: \n",
      "Warning: \n",
      "Warning: \n",
      "Warning: \n",
      "Warning: \n",
      "Warning: \n",
      "Warning: \n",
      "Warning: \n",
      "Warning: \n",
      "Warning: \n",
      "Warning: \n",
      "Warning: \n",
      "Warning: \n",
      "Warning: \n",
      "Warning: \n",
      "Warning: \n",
      "Warning: \n",
      "Warning: \n",
      "Warning: \n",
      "Warning: \n",
      "Warning: \n",
      "Warning: \n",
      "Warning: \n",
      "Warning: \n",
      "Warning: \n",
      "Warning: \n",
      "Warning: \n",
      "Warning: \n",
      "Warning: \n",
      "successfully computed msr data for N=121 termination events.\n",
      "*** range_data_dir='/home/timothytyree/Documents/GitHub/care/notebooks/Data/initial-conditions-fk-200x200/param_set_8_ds_5.0_tmax_10_diffCoef_0.0005/annihilation_range_timeseries.pkl'\n",
      "found 324 files comparable to /home/timothytyree/Documents/GitHub/care/notebooks/Data/initial-conditions-fk-200x200/param_set_8_ds_5.0_tmax_30_diffCoef_0.001_dt_0.025/Log/ic200x200.0.0_log.csv\n",
      "added 324 tasks to task_lst!\n",
      "run time for evaluating routine was 15677.03 seconds, yielding 324 values returned\n",
      "Warning: \n",
      "Warning: \n",
      "Warning: \n",
      "Warning: \n",
      "Warning: \n",
      "Warning: \n",
      "Warning: \n",
      "Warning: \n",
      "successfully computed msr data for N=316 termination events.\n",
      "*** range_data_dir='/home/timothytyree/Documents/GitHub/care/notebooks/Data/initial-conditions-fk-200x200/param_set_8_ds_5.0_tmax_30_diffCoef_0.001_dt_0.025/annihilation_range_timeseries.pkl'\n"
     ]
    }
   ],
   "source": [
    "#compute range time series data and save to cache for a list of trial types\n",
    "range_data_dir_lst=[]\n",
    "for input_dir in input_dir_lst:\n",
    "    #find files with '_log.csv' filtering\n",
    "    input_folder=os.path.dirname(input_dir)\n",
    "    fn_lst=[os.path.join(input_folder,x) for x in sorted(os.listdir(input_folder)) if x.find('_log.csv')!=-1]\n",
    "    print(f\"found {len(fn_lst)} files comparable to {fn_lst[0]}\")\n",
    "\n",
    "    task_lst=[]\n",
    "    for trial_num,fn in enumerate(fn_lst):\n",
    "        task=trial_num,fn\n",
    "        task_lst.append(task)\n",
    "    print(f\"added {len(task_lst)} tasks to task_lst!\")\n",
    "\n",
    "    #pythonic spiral tip tracker test case\n",
    "    testing=False\n",
    "    if testing:\n",
    "        task = task_lst[0]\n",
    "        trial_num,input_dir = task\n",
    "        #load data\n",
    "        df=load_tip_pos_from_csv(input_dir,round_t_to_n_digits=7,printing=False)\n",
    "        #if DT<1 ms, double it until DT>=1 ms, and then drop that many members from df\n",
    "        DT=df['t'].min()\n",
    "        while DT<1:\n",
    "            df = drop_every_other_time_point(df).copy()\n",
    "            DT=df['t'].min()\n",
    "        #perform routine\n",
    "        df_R=routine_compute_annihilation_range_timeseries_pbc(df,DS=0.025,width=200,height=200,\n",
    "                        max_disp=30, #15-1000 appears to work\n",
    "                        max_dist=20, # appears to work\n",
    "                        min_num_obs=1,use_final_annihilation=True,printing=True)\n",
    "        df_R['trial_num']=trial_num\n",
    "        print(df_R.head())\n",
    "\n",
    "    def routine(task):\n",
    "        trial_num,input_dir = task\n",
    "        try:\n",
    "            #load data\n",
    "            df=load_tip_pos_from_csv(input_dir,round_t_to_n_digits=7,printing=False)\n",
    "            #if DT<1 ms, double it until DT>=1 ms, and then drop that many members from df\n",
    "            DT=df['t'].min()\n",
    "            while DT<1:\n",
    "                df = drop_every_other_time_point(df).copy()\n",
    "                DT=df['t'].min()\n",
    "            #perform routine\n",
    "            df_R=routine_compute_annihilation_range_timeseries_pbc(df,DS=0.025,width=200,height=200,\n",
    "                            max_disp=30, #15-1000 appears to work\n",
    "                            max_dist=20, # appears to work\n",
    "                            min_num_obs=1,use_final_annihilation=True,printing=False)\n",
    "            df_R['trial_num']=trial_num\n",
    "            return df_R\n",
    "        except Exception as e:\n",
    "            return f\"Warning: {e}\"\n",
    "\n",
    "    npartitions=8\n",
    "    printing=True\n",
    "    if npartitions>1:\n",
    "        bag = db.from_sequence(task_lst, npartitions=npartitions).map(routine)\n",
    "        start = time.time()\n",
    "        retval = list(bag)\n",
    "    else:\n",
    "        start=time.time()\n",
    "        retval=[]\n",
    "        for task in task_lst:\n",
    "            retval.append(routine(task))\n",
    "    if printing:\n",
    "        print(f\"run time for evaluating routine was {time.time()-start:.2f} seconds, yielding {len(retval)} values returned\")\n",
    "\n",
    "    #parse data\n",
    "    data_lst=[]\n",
    "    for rv in retval:\n",
    "        if type('')==type(rv):\n",
    "            print(rv)\n",
    "        elif rv is not None:\n",
    "            data_lst.append(rv)\n",
    "    print(f\"successfully computed msr data for N={len(data_lst)} termination events.\")\n",
    "\n",
    "    #DONE: save data to pickle\n",
    "    # input_folder = \"/home/timothytyree/Documents/GitHub/care/notebooks/Data/from_wjr/\"\n",
    "    # input_folder='/home/timothytyree/Documents/GitHub/care/notebooks/Data/initial-conditions-suite-3-LR/ds_5_param_qu_tmax_30_Ko_5.4_diffCoef_0.001'#/Log/'\n",
    "    save_folder=os.path.dirname(os.path.dirname(input_dir))\n",
    "    output_fn='annihilation_range_timeseries.pkl'\n",
    "    range_data_dir=os.path.join(save_folder,output_fn)\n",
    "    save_to_pkl(range_data_dir, data_lst)\n",
    "    print(f\"*** {range_data_dir=}\")\n",
    "    range_data_dir_lst.append(range_data_dir)\n",
    "    del data_lst\n",
    "    del retval"
   ]
  },
  {
   "cell_type": "code",
   "execution_count": 41,
   "id": "6e098be2",
   "metadata": {
    "ExecuteTime": {
     "end_time": "2022-07-06T12:46:05.197999Z",
     "start_time": "2022-07-06T12:46:04.585021Z"
    },
    "hidden": true
   },
   "outputs": [
    {
     "name": "stdout",
     "output_type": "stream",
     "text": [
      "range_data_dir='/home/timothytyree/Documents/GitHub/care/notebooks/Data/initial-conditions-suite-3-LR/param_qu_tmax_30_Ko_5.4_diffCoef_0.0005_dt_0.5/annihilation_range_timeseries.pkl'\n",
      "range_data_dir='/home/timothytyree/Documents/GitHub/care/notebooks/Data/initial-conditions-fk-200x200/param_set_8_ds_5.0_tmax_10_diffCoef_0.0005/annihilation_range_timeseries.pkl'\n",
      "range_data_dir='/home/timothytyree/Documents/GitHub/care/notebooks/Data/initial-conditions-fk-200x200/param_set_8_ds_5.0_tmax_30_diffCoef_0.001_dt_1/annihilation_range_timeseries.pkl'\n",
      "range_data_dir='/home/timothytyree/Documents/GitHub/care/notebooks/Data/initial-conditions-fk-200x200/param_set_8_ds_5.0_tmax_10_diffCoef_0.0005/annihilation_range_timeseries.pkl'\n",
      "range_data_dir='/home/timothytyree/Documents/GitHub/care/notebooks/Data/initial-conditions-fk-200x200/param_set_8_ds_5.0_tmax_30_diffCoef_0.001_dt_0.025/annihilation_range_timeseries.pkl'\n",
      "\u0007\u0007\u0007"
     ]
    },
    {
     "data": {
      "text/plain": [
       "0"
      ]
     },
     "execution_count": 41,
     "metadata": {},
     "output_type": "execute_result"
    }
   ],
   "source": [
    "for range_data_dir in range_data_dir_lst:\n",
    "    print(f\"{range_data_dir=}\")\n",
    "beep(3)"
   ]
  },
  {
   "cell_type": "code",
   "execution_count": null,
   "id": "27225d3b",
   "metadata": {
    "hidden": true
   },
   "outputs": [],
   "source": []
  },
  {
   "cell_type": "markdown",
   "id": "5819703b",
   "metadata": {
    "ExecuteTime": {
     "end_time": "2022-07-06T03:10:37.210315Z",
     "start_time": "2022-07-06T03:10:37.210304Z"
    },
    "heading_collapsed": true
   },
   "source": [
    "# evaluate track_particle_annihilations_pbc_nearest_neighbors_simple (can be used for MSD and MSR after creation)"
   ]
  },
  {
   "cell_type": "code",
   "execution_count": null,
   "id": "8468782d",
   "metadata": {
    "ExecuteTime": {
     "end_time": "2022-07-06T03:10:37.211145Z",
     "start_time": "2022-07-06T03:10:37.211134Z"
    },
    "hidden": true
   },
   "outputs": [],
   "source": [
    "df=track_particle_annihilations_pbc_nearest_neighbors_simple(df,width=200,height=200,\n",
    "                max_disp=30, #15-1000 appears to work\n",
    "                max_dist=20, # appears to work\n",
    "                min_num_obs=1,use_final_annihilation=True,printing=True)"
   ]
  },
  {
   "cell_type": "code",
   "execution_count": 4,
   "id": "a7fd1579",
   "metadata": {
    "ExecuteTime": {
     "end_time": "2022-07-06T03:56:51.997362Z",
     "start_time": "2022-07-06T03:55:41.965667Z"
    },
    "hidden": true
   },
   "outputs": [
    {
     "name": "stdout",
     "output_type": "stream",
     "text": [
      "File: /home/timothytyree/Documents/GitHub/care/notebooks/Data/initial-conditions-suite-3-LR/ds_5_param_qu_tmax_30_Ko_5.4_diffCoef_0.001/Log/ic001.12_log.csv\n"
     ]
    },
    {
     "data": {
      "text/plain": [
       "'/home/timothytyree/Documents/GitHub/care/notebooks/Data/initial-conditions-suite-3-LR/ds_5_param_qu_tmax_30_Ko_5.4_diffCoef_0.001/Log/ic001.12_log.csv'"
      ]
     },
     "execution_count": 4,
     "metadata": {},
     "output_type": "execute_result"
    }
   ],
   "source": [
    "# # #DONE: load the data from bgmc that has pid_explicit\n",
    "# # #HINT: its on ub in bgmc/python/data/local_results\n",
    "# search_for_file()\n",
    "\n",
    "# #linear particle model test case\n",
    "# input_dir='/home/timothytyree/Documents/GitHub/bgmc/python/data/local_results/euic_False_fc_2_r_0.1_D_2_L_10_kappa_1500_varkappa_5/Log/pbc_particle_log2_log.csv'\n",
    "# df=load_tip_pos_from_csv(input_dir,round_t_to_n_digits=round_t_to_n_digits,printing=False)\n",
    "# round_t_to_n_digits=7\n",
    "# min_num_obs=10\n",
    "# min_dist=2. #pixels\n",
    "# # width=200\n",
    "# # height=200 \n",
    "# width=10\n",
    "# height=10\n",
    "# from collections import deque\n"
   ]
  },
  {
   "cell_type": "code",
   "execution_count": null,
   "id": "48913583",
   "metadata": {
    "ExecuteTime": {
     "end_time": "2022-07-06T03:10:37.212440Z",
     "start_time": "2022-07-06T03:10:37.212428Z"
    },
    "hidden": true
   },
   "outputs": [],
   "source": [
    "max_index_annihilation=df['index_self'].max()\n",
    "fontsize=14\n",
    "fig,axs=plt.subplots(ncols=2,figsize=(9,4))\n",
    "ax=axs[0]\n",
    "for index_annihilation in range(max_index_annihilation):\n",
    "    df[df['index_self']==index_annihilation].plot(x='x',y='y',color=f'C{index_annihilation}',ax=ax,alpha=0.5,legend=None)\n",
    "    df[df['index_other']==index_annihilation].plot(x='x',y='y',color=f'C{index_annihilation*2}',ax=ax,alpha=0.5,legend=None)\n",
    "df.plot.scatter(x='x',y='y',color=f'k',ax=ax,alpha=0.2,legend=None,s=10)\n",
    "format_plot(ax=ax,xlabel=\"x (pixels)\",ylabel='y (pixels)', fontsize=fontsize)\n",
    "ax=axs[1]\n",
    "for index_annihilation in range(max_index_annihilation):\n",
    "    df[df['index_self']==index_annihilation].plot(x='x',y='y',color=f'C{index_annihilation}',ax=ax,alpha=0.5,legend=None)\n",
    "    df[df['index_other']==index_annihilation].plot(x='x',y='y',color=f'C{index_annihilation*2}',ax=ax,alpha=0.5,legend=None)\n",
    "\n",
    "format_plot(ax=ax,xlabel=\"x (pixels)\",ylabel='y (pixels)', fontsize=fontsize)\n",
    "plt.tight_layout()\n",
    "plt.show()"
   ]
  },
  {
   "cell_type": "code",
   "execution_count": null,
   "id": "17b59276",
   "metadata": {
    "ExecuteTime": {
     "end_time": "2022-07-06T03:10:37.213728Z",
     "start_time": "2022-07-06T03:10:37.213716Z"
    },
    "hidden": true
   },
   "outputs": [],
   "source": [
    "fig,ax=plt.subplots()\n",
    "max_index_annihilation=df['index_self'].max()\n",
    "for index_annihilation in range(max_index_annihilation):\n",
    "    df[(df['index_self']==index_annihilation)&(df['dist']>0)].\\\n",
    "    plot(x='t',y='dist',color=f'C{index_annihilation}',ax=ax,alpha=0.5, legend=None)\n",
    "# df.tail(8).plot.scatter(x='x',y='y',color='g',ax=ax)\n",
    "# plt.legend()\n",
    "plt.show()"
   ]
  },
  {
   "cell_type": "code",
   "execution_count": null,
   "id": "d2689ddc",
   "metadata": {
    "ExecuteTime": {
     "end_time": "2022-07-06T03:10:37.214851Z",
     "start_time": "2022-07-06T03:10:37.214838Z"
    },
    "hidden": true
   },
   "outputs": [],
   "source": [
    "fontsize=14\n",
    "df=compute_annihilation_range_timeseries(df,DS=0.025)\n",
    "fig,ax=plt.subplots(figsize=(6,4))\n",
    "max_index_annihilation=df['index_self'].max()\n",
    "for index_annihilation in range(max_index_annihilation):\n",
    "    df[(df['index_self']==index_annihilation)&(df['dist']>0)].\\\n",
    "    plot(x='tdeath',y='R',color=f'C{index_annihilation}',ax=ax,alpha=0.5, legend=None)\n",
    "# df.tail(8).plot.scatter(x='x',y='y',color='g',ax=ax)\n",
    "format_plot(ax=ax,xlabel=\"t' (ms)\",ylabel='R (cm)', fontsize=fontsize)\n",
    "plt.show()\n",
    "print(f\"{trial_num=}, {max_disp=}\")"
   ]
  },
  {
   "cell_type": "markdown",
   "id": "43f0191c",
   "metadata": {
    "heading_collapsed": true
   },
   "source": [
    "# old tests of dev on linear particle model"
   ]
  },
  {
   "cell_type": "code",
   "execution_count": null,
   "id": "1ec683bc",
   "metadata": {
    "ExecuteTime": {
     "end_time": "2022-07-06T03:10:37.215743Z",
     "start_time": "2022-07-06T03:10:37.215730Z"
    },
    "hidden": true
   },
   "outputs": [],
   "source": [
    "#reset matplotlib settings\n",
    "import matplotlib as mpl\n",
    "sns.reset_orig()\n",
    "mpl.rc_file_defaults()"
   ]
  },
  {
   "cell_type": "code",
   "execution_count": null,
   "id": "a4eb636e",
   "metadata": {
    "ExecuteTime": {
     "end_time": "2022-07-06T03:10:37.216932Z",
     "start_time": "2022-07-06T03:10:37.216917Z"
    },
    "hidden": true
   },
   "outputs": [],
   "source": [
    "# index_annihilation_plot=index_annihilation-1\n",
    "index_annihilation_plot=0\n",
    "df.loc[df['index_other']==index_annihilation_plot,'index_other'].shape"
   ]
  },
  {
   "cell_type": "code",
   "execution_count": null,
   "id": "af5a8374",
   "metadata": {
    "ExecuteTime": {
     "end_time": "2022-07-06T03:10:37.218271Z",
     "start_time": "2022-07-06T03:10:37.218256Z"
    },
    "hidden": true
   },
   "outputs": [],
   "source": [
    "#plot the points i just computed and verify they look reasonable\n",
    "fig,ax=plt.subplots(figsize=(5,5))\n",
    "df[df['index_self']==index_annihilation_plot].plot.scatter(x='x',y='y',ax=ax,color='r',alpha=0.6,marker='v',s=2)\n",
    "df[df['index_other']==index_annihilation_plot].plot.scatter(x='x',y='y',ax=ax,color='g',alpha=0.6,marker='^',s=2)\n",
    "d_prev.plot.scatter(x='x',y='y',ax=ax,color='C0',alpha=0.2,marker='o',s=300)\n",
    "d_next.plot.scatter(x='x',y='y',ax=ax,color='C1',alpha=0.2,marker='o',s=300)\n",
    "format_plot(ax=ax,xlabel='x (cm)',ylabel='y (cm)')\n",
    "plt.show()"
   ]
  },
  {
   "cell_type": "code",
   "execution_count": null,
   "id": "7bb915fa",
   "metadata": {
    "ExecuteTime": {
     "end_time": "2022-07-06T03:10:37.219358Z",
     "start_time": "2022-07-06T03:10:37.219345Z"
    },
    "hidden": true
   },
   "outputs": [],
   "source": [
    "#plot the points i just computed and verify they look reasonable\n",
    "fig,ax=plt.subplots(figsize=(5,5))\n",
    "for index_annihilation_plot in range (8):\n",
    "    df[df['index_self']==index_annihilation_plot].plot.scatter(x='x',y='y',ax=ax,color=f'C{index_annihilation_plot}',alpha=0.9,marker='v',s=2)\n",
    "    df[df['index_other']==index_annihilation_plot].plot.scatter(x='x',y='y',ax=ax,color=f'C{index_annihilation_plot*2}',alpha=0.9,marker='.',s=2)\n",
    "# d_prev.plot.scatter(x='x',y='y',ax=ax,color='C0',alpha=0.2,marker='o',s=300)\n",
    "# d_next.plot.scatter(x='x',y='y',ax=ax,color='C1',alpha=0.2,marker='o',s=300)\n",
    "format_plot(ax=ax,xlabel='x (cm)',ylabel='y (cm)')\n",
    "plt.show()"
   ]
  },
  {
   "cell_type": "code",
   "execution_count": null,
   "id": "36004ec0",
   "metadata": {
    "ExecuteTime": {
     "end_time": "2022-07-06T03:10:37.220579Z",
     "start_time": "2022-07-06T03:10:37.220567Z"
    },
    "hidden": true
   },
   "outputs": [],
   "source": [
    "#DONE: test for equivalence between my particle tracking and the ground truth\n",
    "#HINT: make dict between particle and pid_explicit, asserting that particle maps to one and only one pid_explicit\n",
    "#now the big test:\n",
    "# index_annihilation_test=0\n",
    "index_annihilation_test=index_annihilation_plot\n",
    "print(f\"Do no more than two known particle identities get assigned to {index_annihilation_test=}?\")\n",
    "pid_explicit_set_lst_self=list(set(df.loc[df['index_self']==index_annihilation_plot,'pid_explicit'].values))\n",
    "pid_explicit_set_lst_other=list(set(df.loc[df['index_other']==index_annihilation_plot,'pid_explicit'].values))\n",
    "print(f\"{pid_explicit_set_lst_self=}\")\n",
    "print(f\"{pid_explicit_set_lst_other=}\")\n",
    "print(f\"{num_obs=} is greater than {min_num_obs=}, so this pair-annihilation event is _kept_.\")"
   ]
  },
  {
   "cell_type": "code",
   "execution_count": null,
   "id": "7c4a1639",
   "metadata": {
    "ExecuteTime": {
     "end_time": "2022-07-06T03:10:37.221424Z",
     "start_time": "2022-07-06T03:10:37.221414Z"
    },
    "hidden": true
   },
   "outputs": [],
   "source": [
    "#TODO: simple test for whether results for an example R(t') look reasonable\n",
    "#plot the points i just computed and verify they look reasonable\n",
    "fig,ax=plt.subplots(figsize=(5,5))\n",
    "d=df.loc[df['index_self']==index_annihilation_plot]\n",
    "d.plot.scatter(x='t',y='dist',ax=ax,color='r',alpha=0.6,marker='v',s=2)\n",
    "# df[df['index_self']==index_annihilation_plot].plot.scatter(x='x',y='y',ax=ax,color='r',alpha=0.6,marker='v',s=2)\n",
    "# df[df['index_other']==index_annihilation_plot].plot.scatter(x='x',y='y',ax=ax,color='g',alpha=0.6,marker='^',s=2)\n",
    "# d_prev.plot.scatter(x='x',y='y',ax=ax,color='C0',alpha=0.2,marker='o',s=300)\n",
    "# d_next.plot.scatter(x='x',y='y',ax=ax,color='C1',alpha=0.2,marker='o',s=300)\n",
    "format_plot(ax=ax,xlabel='t (ms)',ylabel='R (cm)')\n",
    "plt.show()"
   ]
  },
  {
   "cell_type": "code",
   "execution_count": null,
   "id": "67940092",
   "metadata": {
    "ExecuteTime": {
     "end_time": "2022-07-06T03:10:37.222323Z",
     "start_time": "2022-07-06T03:10:37.222312Z"
    },
    "hidden": true
   },
   "outputs": [],
   "source": [
    "#Q: why is the final; distance so far away?\n",
    "#A: it's just where i killed the simulation, man! Don't worry about it\n",
    "#TODO: add check to set working=False if the initial distance between particles is greater than a certain amount"
   ]
  },
  {
   "cell_type": "code",
   "execution_count": null,
   "id": "b36571d6",
   "metadata": {
    "ExecuteTime": {
     "end_time": "2022-07-06T03:10:37.223238Z",
     "start_time": "2022-07-06T03:10:37.223226Z"
    },
    "hidden": true
   },
   "outputs": [],
   "source": [
    "d.tail()"
   ]
  },
  {
   "cell_type": "code",
   "execution_count": null,
   "id": "665c7f20",
   "metadata": {
    "ExecuteTime": {
     "end_time": "2022-07-06T03:10:37.224065Z",
     "start_time": "2022-07-06T03:10:37.224054Z"
    },
    "hidden": true
   },
   "outputs": [],
   "source": [
    "df.tail()"
   ]
  },
  {
   "cell_type": "code",
   "execution_count": null,
   "id": "515119f7",
   "metadata": {
    "ExecuteTime": {
     "end_time": "2022-07-06T03:10:37.224924Z",
     "start_time": "2022-07-06T03:10:37.224913Z"
    },
    "hidden": true
   },
   "outputs": [],
   "source": [
    "#DONE: ROOT CAUSE ANALYSIS: why is index 3 not being returned?\n",
    "#YEP. #ROOT CAUSE IDENTIFIED: recall annihilating particles vibrate around eachother as they annihilate\n",
    "#NOPE. #POTENTIAL ROOT CAUSE: map_prev_next,map_next_prev are not inverses of each other\n",
    "# #simplest fix: recompute the other if either is found\n",
    "# id_pair_lst=find_nearest_neighbors_simple(d_prev,d_next,distance_L2_pbc)#,xy_col_lst=['x','y'],**kwargs)\n",
    "# assert len(id_pair_lst)==d_prev.shape[0]"
   ]
  },
  {
   "cell_type": "code",
   "execution_count": null,
   "id": "9762b25d",
   "metadata": {
    "ExecuteTime": {
     "end_time": "2022-07-06T03:10:37.225763Z",
     "start_time": "2022-07-06T03:10:37.225752Z"
    },
    "hidden": true
   },
   "outputs": [],
   "source": [
    "#DONT(this would clearly break it): simple test for whether results for an example R(t') stop looking reasonable if i do:\n",
    "# d_next=df[df['frame']==frame_next].copy()\n",
    "# d_next=df[df['frame']==frame_next]"
   ]
  },
  {
   "cell_type": "code",
   "execution_count": null,
   "id": "90dd38d6",
   "metadata": {
    "hidden": true
   },
   "outputs": [],
   "source": []
  },
  {
   "cell_type": "code",
   "execution_count": null,
   "id": "74a96257",
   "metadata": {
    "hidden": true
   },
   "outputs": [],
   "source": []
  }
 ],
 "metadata": {
  "hide_input": false,
  "kernelspec": {
   "display_name": "Python 3 (ipykernel)",
   "language": "python",
   "name": "python3"
  },
  "language_info": {
   "codemirror_mode": {
    "name": "ipython",
    "version": 3
   },
   "file_extension": ".py",
   "mimetype": "text/x-python",
   "name": "python",
   "nbconvert_exporter": "python",
   "pygments_lexer": "ipython3",
   "version": "3.9.13"
  },
  "nbTranslate": {
   "displayLangs": [
    "*"
   ],
   "hotkey": "alt-t",
   "langInMainMenu": true,
   "sourceLang": "en",
   "targetLang": "fr",
   "useGoogleTranslate": true
  },
  "toc": {
   "base_numbering": 1,
   "nav_menu": {},
   "number_sections": true,
   "sideBar": true,
   "skip_h1_title": false,
   "title_cell": "Table of Contents",
   "title_sidebar": "Contents",
   "toc_cell": false,
   "toc_position": {},
   "toc_section_display": true,
   "toc_window_display": false
  },
  "varInspector": {
   "cols": {
    "lenName": 16,
    "lenType": 16,
    "lenVar": 40
   },
   "kernels_config": {
    "python": {
     "delete_cmd_postfix": "",
     "delete_cmd_prefix": "del ",
     "library": "var_list.py",
     "varRefreshCmd": "print(var_dic_list())"
    },
    "r": {
     "delete_cmd_postfix": ") ",
     "delete_cmd_prefix": "rm(",
     "library": "var_list.r",
     "varRefreshCmd": "cat(var_dic_list()) "
    }
   },
   "types_to_exclude": [
    "module",
    "function",
    "builtin_function_or_method",
    "instance",
    "_Feature"
   ],
   "window_display": false
  }
 },
 "nbformat": 4,
 "nbformat_minor": 5
}
