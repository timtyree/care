{
 "cells": [
  {
   "cell_type": "markdown",
   "id": "e2f68059",
   "metadata": {},
   "source": [
    "# dev nearest-neighbor tracking with periodic boundary conditions\n",
    "Tim Tyree<br>\n",
    "6.29.2022"
   ]
  },
  {
   "cell_type": "code",
   "execution_count": 1,
   "id": "7249626d",
   "metadata": {
    "ExecuteTime": {
     "end_time": "2022-06-30T09:24:35.371454Z",
     "start_time": "2022-06-30T09:24:33.704377Z"
    }
   },
   "outputs": [],
   "source": [
    "use_clear_output=True\n",
    "if use_clear_output:\n",
    "    from IPython.display import clear_output\n",
    "    clear_output(wait=True)\n",
    "\n",
    "import sys,os\n",
    "og_stdout=sys.stdout\n",
    "from lib.my_initialization import *\n",
    "\n",
    "os.chdir(nb_dir)\n",
    "from lib import *\n",
    "\n",
    "# import cupy, cudf\n",
    "# from lib.rapids_func import *\n",
    "\n",
    "import seaborn as sns\n",
    "import matplotlib.ticker as mtick\n",
    "\n",
    "#reset matplotlib settings\n",
    "import matplotlib as mpl\n",
    "sns.reset_orig()\n",
    "mpl.rc_file_defaults()\n",
    "\n",
    "import warnings\n",
    "warnings.simplefilter(\"ignore\", UserWarning)\n",
    "%load_ext autoreload\n",
    "%autoreload 2"
   ]
  },
  {
   "cell_type": "code",
   "execution_count": 2,
   "id": "f0a540e4",
   "metadata": {
    "ExecuteTime": {
     "end_time": "2022-06-30T09:24:35.397296Z",
     "start_time": "2022-06-30T09:24:35.375216Z"
    }
   },
   "outputs": [],
   "source": [
    "#reset matplotlib settings\n",
    "import matplotlib as mpl\n",
    "sns.reset_orig()\n",
    "mpl.rc_file_defaults()"
   ]
  },
  {
   "cell_type": "markdown",
   "id": "1261a81a",
   "metadata": {},
   "source": [
    "# define module"
   ]
  },
  {
   "cell_type": "code",
   "execution_count": 3,
   "id": "1dd18d59",
   "metadata": {
    "ExecuteTime": {
     "end_time": "2022-06-30T09:24:35.422238Z",
     "start_time": "2022-06-30T09:24:35.400111Z"
    }
   },
   "outputs": [],
   "source": [
    "def load_tip_pos_from_csv(input_dir,round_t_to_n_digits=7,t_col='t',\n",
    "                          reset_index=True,printing=True,**kwargs):\n",
    "    \"\"\"\n",
    "    Example Usage:\n",
    "df=load_tip_pos_from_csv(input_dir,round_t_to_n_digits=7,printing=True)\n",
    "    \"\"\"\n",
    "    df=pd.read_csv(input_dir)\n",
    "    df[t_col]=np.around(df[t_col],round_t_to_n_digits)\n",
    "    if printing:\n",
    "        print(f\"{df.shape=}\")\n",
    "    df.drop_duplicates(inplace=True)\n",
    "    if printing:\n",
    "        print(f\"{df.shape=}\")\n",
    "    if reset_index:\n",
    "        df.reset_index(inplace=True)\n",
    "    return df"
   ]
  },
  {
   "cell_type": "code",
   "execution_count": 4,
   "id": "7d01c486",
   "metadata": {
    "ExecuteTime": {
     "end_time": "2022-06-30T09:24:35.446274Z",
     "start_time": "2022-06-30T09:24:35.424527Z"
    }
   },
   "outputs": [],
   "source": [
    "#TODO: move to lib.utils.utils_traj.py\n",
    "def find_nearest_neighbor_simple(xy,xy_others,distance_L2_pbc):\n",
    "    \"\"\"returns (nearest_id,nearest_dist) from xy_others, where distance is computed by distance_L2_pbc.\n",
    "    note that distance_L2_pbc does not necessarily need to be the L2 norm with periodic boundary conditions.\n",
    "    distance_L2_pbc has the signature:\n",
    "    dist = distance_L2_pbc ( xy_others[j], xy)\n",
    "    \n",
    "    Example Usage:    \n",
    "distance_L2_pbc = get_distance_L2_pbc(width=width,height=height)\n",
    "nearest_id, nearest_dist = find_nearest_neighbor_simple(xy,xy_others,distance_L2_pbc)\n",
    "    \"\"\"\n",
    "    num_other=xy_others.shape[0]\n",
    "    nearest_id   =  -1\n",
    "    nearest_dist = 9999.\n",
    "    for j in range(num_other):\n",
    "        dist = distance_L2_pbc ( xy_others[j], xy)\n",
    "        if dist<nearest_dist:\n",
    "            nearest_dist = dist\n",
    "            nearest_id  = j\n",
    "    return nearest_id, nearest_dist"
   ]
  },
  {
   "cell_type": "code",
   "execution_count": 5,
   "id": "a5e33c6a",
   "metadata": {
    "ExecuteTime": {
     "end_time": "2022-06-30T09:24:35.470025Z",
     "start_time": "2022-06-30T09:24:35.448095Z"
    }
   },
   "outputs": [],
   "source": [
    "def comp_consistent_nearest_neighbors(map_prev_next,map_next_prev):\n",
    "    \"\"\"for each key of map_prev_next, look for consistent nearest neighbors\n",
    "    map_prev_next and map_next_prev are dictionaries that map indices from prev to/from next, respectively.\n",
    "    \n",
    "    Example Usage:\n",
    "id_pair_lst=comp_consistent_nearest_neighbors(map_prev_next,map_next_prev)\n",
    "dict_map_prev_next_consistent=dict(id_pair_lst)\n",
    "    \"\"\"\n",
    "    id_pair_lst=[]\n",
    "    for key_next in map_next_prev:\n",
    "        key_prev=map_next_prev[key_next]\n",
    "        if map_prev_next[key_prev]==key_next:\n",
    "            #record key match\n",
    "            id_pair_lst.append((key_prev,key_next))\n",
    "    return id_pair_lst\n",
    "#     id_pair_lst=[]\n",
    "#     for key_prev in map_prev_next:\n",
    "#         key_next=map_prev_next[key_prev]\n",
    "#         if map_next_prev[key_next]==key_prev:\n",
    "#             #record key match\n",
    "#             id_pair_lst.append((key_prev,key_next))\n",
    "#     return id_pair_lst\n",
    "    \n"
   ]
  },
  {
   "cell_type": "code",
   "execution_count": 6,
   "id": "5d0781ea",
   "metadata": {
    "ExecuteTime": {
     "end_time": "2022-06-30T09:24:35.493147Z",
     "start_time": "2022-06-30T09:24:35.471573Z"
    }
   },
   "outputs": [],
   "source": [
    "def find_nearest_neighbors_simple(d_prev,d_next,distance_L2_pbc,xy_col_lst=['x','y'],**kwargs):\n",
    "    \"\"\"find_nearest_neighbors_pbc returns a list of pairs of indices, where each pair indexes \n",
    "    a member of d_prev and d_next that are mutually nearest neighbors, respectively.\n",
    "    distance_L2_pbc is passed to find_nearest_neighbor_simple directly\n",
    "    Example Usage:\n",
    "id_pair_lst=find_nearest_neighbors_simple(d_prev,d_next,distance_L2_pbc)#,xy_col_lst=['x','y'],**kwargs)\n",
    "    \"\"\"\n",
    "    #extract positions\n",
    "    xy_prev=d_prev[xy_col_lst].values.copy()\n",
    "    xy_next=d_next[xy_col_lst].values.copy()\n",
    "    #compute the map from prev to next\n",
    "    map_prev_next={}\n",
    "    for i,xy_self in enumerate(xy_prev):\n",
    "        #compute the nearest neighbor\n",
    "        nearest_id, nearest_dist = find_nearest_neighbor_simple(xy=xy_self,xy_others=xy_next,distance_L2_pbc=distance_L2_pbc)\n",
    "        map_prev_next[i]=nearest_id\n",
    "    #compute the map from next to prev\n",
    "    map_next_prev={}\n",
    "    for i,xy_self in enumerate(xy_next):\n",
    "        #compute the nearest neighbor\n",
    "        nearest_id, nearest_dist = find_nearest_neighbor_simple(xy=xy_self,xy_others=xy_prev,distance_L2_pbc=distance_L2_pbc)\n",
    "        map_next_prev[i]=nearest_id\n",
    "    id_pair_lst=comp_consistent_nearest_neighbors(map_prev_next,map_next_prev)\n",
    "    return id_pair_lst"
   ]
  },
  {
   "cell_type": "code",
   "execution_count": 7,
   "id": "7e616e6f",
   "metadata": {
    "ExecuteTime": {
     "end_time": "2022-06-30T09:24:35.512553Z",
     "start_time": "2022-06-30T09:24:35.495179Z"
    }
   },
   "outputs": [],
   "source": [
    "def get_map_noother(id_next_values,id_other):\n",
    "    \"\"\"compute map from noother_to_all\n",
    "    Example Usage:\n",
    "map_noother_to_all=get_map_noother(id_next_values,id_other)\n",
    "    \"\"\"\n",
    "    mappy=dict()\n",
    "    for i in id_next_values:\n",
    "        if i<id_other:\n",
    "            mappy[i]=i\n",
    "        elif i>id_other:\n",
    "            mappy[i-1]=i\n",
    "    map_noother_to_all=mappy\n",
    "    return map_noother_to_all"
   ]
  },
  {
   "cell_type": "code",
   "execution_count": 8,
   "id": "cbcef33e",
   "metadata": {
    "ExecuteTime": {
     "end_time": "2022-06-30T09:24:35.535007Z",
     "start_time": "2022-06-30T09:24:35.513990Z"
    }
   },
   "outputs": [],
   "source": [
    "def find_nearest_neighbors_noother(d_prev,d_next,id_other_prev,id_other,distance_L2_pbc,xy_col_lst=['x','y'],**kwargs):\n",
    "    \"\"\"find_nearest_neighbors_pbc returns a list of pairs of indices, where each pair indexes \n",
    "    a member of d_prev and d_next that are mutually nearest neighbors, respectively.\n",
    "    distance_L2_pbc is passed to find_nearest_neighbor_simple directly\n",
    "    Example Usage:\n",
    "id_pair_lst=find_nearest_neighbors_noother(d_prev,d_next,id_other_prev,id_other,distance_L2_pbc)#,xy_col_lst=['x','y'],**kwargs)\n",
    "    \"\"\"\n",
    "    #extract positions\n",
    "    xy_prev=d_prev[xy_col_lst].values.copy()\n",
    "    xy_next=d_next[xy_col_lst].values.copy()\n",
    "    id_prev_values=np.arange(xy_prev.shape[0])\n",
    "    id_next_values=np.arange(xy_next.shape[0])\n",
    "    \n",
    "    ##remove other from both\n",
    "    #compute map from _noother basis to full basis of indices\n",
    "    map_noother_to_next=get_map_noother(id_next_values,id_other)\n",
    "    #remove other from next\n",
    "    boo=(xy_next[id_other]==xy_next)\n",
    "    boo_not_other=~(boo[:,0]&boo[:,1])\n",
    "    xy_next=xy_next[boo_not_other].copy()\n",
    "    #compute map from _noother basis to full basis of indices\n",
    "    map_noother_to_prev=get_map_noother(id_prev_values,id_other_prev)\n",
    "    #remove other from prev\n",
    "    boo=(xy_prev[id_other]==xy_prev)\n",
    "    boo_not_other=~(boo[:,0]&boo[:,1])\n",
    "    xy_prev=xy_prev[boo_not_other].copy()\n",
    "\n",
    "    #compute the map from prev to next\n",
    "    map_prev_next={}\n",
    "    for i,xy_self in enumerate(xy_prev):\n",
    "        #compute the nearest neighbor\n",
    "        nearest_id, nearest_dist = find_nearest_neighbor_simple(xy=xy_self,xy_others=xy_next,distance_L2_pbc=distance_L2_pbc)\n",
    "        map_prev_next[map_noother_to_prev[i]]=map_noother_to_next[nearest_id]\n",
    "    #compute the map from next to prev\n",
    "    map_next_prev={}\n",
    "    for i,xy_self in enumerate(xy_next):\n",
    "        #compute the nearest neighbor\n",
    "        nearest_id, nearest_dist = find_nearest_neighbor_simple(xy=xy_self,xy_others=xy_prev,distance_L2_pbc=distance_L2_pbc)\n",
    "        map_next_prev[map_noother_to_next[i]]=map_noother_to_prev[nearest_id]\n",
    "    #compute nearest neighbors, as before\n",
    "    id_pair_lst=comp_consistent_nearest_neighbors(map_prev_next,map_next_prev)\n",
    "    return id_pair_lst"
   ]
  },
  {
   "cell_type": "markdown",
   "id": "88659d95",
   "metadata": {},
   "source": [
    "# dev"
   ]
  },
  {
   "cell_type": "code",
   "execution_count": 9,
   "id": "a7fd1579",
   "metadata": {
    "ExecuteTime": {
     "end_time": "2022-06-30T09:24:35.553938Z",
     "start_time": "2022-06-30T09:24:35.538307Z"
    }
   },
   "outputs": [],
   "source": [
    "# #DONE: load the data from bgmc that has pid_explicit\n",
    "# #HINT: its on ub in bgmc/python/data/local_results\n",
    "# search_for_file()"
   ]
  },
  {
   "cell_type": "code",
   "execution_count": 10,
   "id": "3edef02a",
   "metadata": {
    "ExecuteTime": {
     "end_time": "2022-06-30T09:24:35.571581Z",
     "start_time": "2022-06-30T09:24:35.555190Z"
    }
   },
   "outputs": [],
   "source": [
    "#TODO: implement/dev draft of simple tracker like WJ's in physical notebook\n",
    "def comp_particle_trajectories_pbc_nearest_neighbors_simple(df):\n",
    "    pass\n",
    "#input: df  # from df_log\n",
    "#output: df_traj\n",
    "#TODO: test simple tracker on the data by comparing 'particle' and 'pid_explicit'. do they all agree exactly?"
   ]
  },
  {
   "cell_type": "code",
   "execution_count": 11,
   "id": "45d908d8",
   "metadata": {
    "ExecuteTime": {
     "end_time": "2022-06-30T09:24:35.956665Z",
     "start_time": "2022-06-30T09:24:35.573040Z"
    }
   },
   "outputs": [],
   "source": [
    "input_dir='/home/timothytyree/Documents/GitHub/bgmc/python/data/local_results/euic_False_fc_2_r_0.1_D_2_L_10_kappa_1500_varkappa_5/Log/pbc_particle_log2_log.csv'\n",
    "round_t_to_n_digits=7\n",
    "min_num_obs=10\n",
    "min_dist=2. #pixels\n",
    "# width=200\n",
    "# height=200\n",
    "width=10\n",
    "height=10\n",
    "\n",
    "printing=True\n",
    "# t_col='t' #don't worry about t_col and such...\n",
    "#jit compile distance function\n",
    "distance_L2_pbc = get_distance_L2_pbc(width=width,height=height)\n",
    "df=load_tip_pos_from_csv(input_dir,round_t_to_n_digits=round_t_to_n_digits,printing=False)\n",
    "\n",
    "if df.shape[0]<=min_num_obs:\n",
    "    if printing:\n",
    "        print(f\"Warning: termination event occured before {min_num_obs=} were recorded.\")\n",
    "#     return None\n",
    "    \n",
    "#test that the positions are within the computational domain\n",
    "assert (df['x'].max()<=width)&(df['x'].max()<=height)\n",
    "\n",
    "# #extract time step\n",
    "#DT shouldn't be needed utnil the end. use frames instead, unless if it makes getting frames easy\n",
    "DT=np.max(np.diff(df['t'].drop_duplicates().values))\n",
    "\n",
    "#define 'frame' field if it doesn't already exist\n",
    "if not set(df.columns).issuperset({'frame'}):\n",
    "    # #DONE: test method of computing frame number works\n",
    "    # assert (np.around((df[t_col]/DT+1),round_t_to_n_digits).astype(int)==df['frame']).all()\n",
    "#     df['frame']=np.around((df[t_col]/DT+1),round_t_to_n_digits).astype(int)\n",
    "    df['frame']=np.around((df['t']/DT+1),round_t_to_n_digits).astype(int)\n",
    "\n",
    "#initialize field 'particle'\n",
    "df['index_self']=-9999\n",
    "df['index_other']=-9999\n",
    "df['dist']=-9999. #distance in pixels"
   ]
  },
  {
   "cell_type": "code",
   "execution_count": 12,
   "id": "ce0f09c6",
   "metadata": {
    "ExecuteTime": {
     "end_time": "2022-06-30T09:24:35.974900Z",
     "start_time": "2022-06-30T09:24:35.957908Z"
    }
   },
   "outputs": [],
   "source": [
    "frame_min=df['frame'].min()\n",
    "frame_max=df['frame'].max()"
   ]
  },
  {
   "cell_type": "code",
   "execution_count": 13,
   "id": "49d25cea",
   "metadata": {
    "ExecuteTime": {
     "end_time": "2022-06-30T09:24:36.000090Z",
     "start_time": "2022-06-30T09:24:35.976331Z"
    }
   },
   "outputs": [],
   "source": [
    "#compute n(t)\n",
    "# df_n=df.groupby(by='t')['n'].median().astype('int')\n",
    "df_n=df.groupby(by='frame')['n'].median().astype('int')\n",
    "boo_annihilation=df_n.diff()==-2 #for n-2 only\n",
    "# boo_annihilation=df_n.diff()<0 #for n-2 and n-4 events (complicated)\n",
    "\n",
    "#identify all annihilation events where n --> n-2\n",
    "boo_annihiations_exist=boo_annihilation.any()\n",
    "if not boo_annihiations_exist:\n",
    "    if printing:\n",
    "        print(\"Warning: no annihilations were found.\")\n",
    "    #return None"
   ]
  },
  {
   "cell_type": "code",
   "execution_count": 14,
   "id": "7cf8cf3d",
   "metadata": {
    "ExecuteTime": {
     "end_time": "2022-06-30T09:24:36.017067Z",
     "start_time": "2022-06-30T09:24:36.001427Z"
    }
   },
   "outputs": [],
   "source": [
    "# #DONE: print confirmation that the mean n value is an integer numerically\n",
    "# df_n=df.groupby(by=t_col)['n'].mean()\n",
    "# print(np.unique(df_n.values))"
   ]
  },
  {
   "cell_type": "code",
   "execution_count": 15,
   "id": "20885868",
   "metadata": {
    "ExecuteTime": {
     "end_time": "2022-06-30T09:24:36.037896Z",
     "start_time": "2022-06-30T09:24:36.018340Z"
    }
   },
   "outputs": [
    {
     "name": "stdout",
     "output_type": "stream",
     "text": [
      "tracking 8 potential annihilation events...\n"
     ]
    }
   ],
   "source": [
    "#DONE: identify all transition frames\n",
    "#identify all transition times\n",
    "frame_annihilation_values=df_n[boo_annihilation].index.values\n",
    "frame_annihilation_lst=list((df_n[boo_annihilation].index.values))\n",
    "\n",
    "use_final_annihilation=True\n",
    "if use_final_annihilation:\n",
    "    #compute the first frame when n=0, supposing it is not present in the frame_values\n",
    "    #note: if this step fails, try the (~complicated) workaround of checking for n=0 in the df\n",
    "    #note: one row per position does not support n=0 anywhere\n",
    "    assert not (df['n']==0).any()\n",
    "    assert (df.tail(1)['n']==2).all()\n",
    "    #frame_final=(df.tail(1)['frame']+1).values[0]\n",
    "    frame_final=df['frame'].max()+1\n",
    "    frame_annihilation_lst.append(frame_final)\n",
    "\n",
    "#sort the annihilation events in reverse order\n",
    "frame_annihilation_lst=sorted(frame_annihilation_lst,reverse=True)\n",
    "if printing:\n",
    "    print(f\"tracking {len(frame_annihilation_lst)} potential annihilation events...\")"
   ]
  },
  {
   "cell_type": "code",
   "execution_count": 16,
   "id": "0d05d0ee",
   "metadata": {
    "ExecuteTime": {
     "end_time": "2022-06-30T09:24:36.055342Z",
     "start_time": "2022-06-30T09:24:36.039339Z"
    }
   },
   "outputs": [],
   "source": [
    "# frame_max,frame_annihilation"
   ]
  },
  {
   "cell_type": "code",
   "execution_count": 17,
   "id": "15c1d231",
   "metadata": {
    "ExecuteTime": {
     "end_time": "2022-06-30T09:24:46.133350Z",
     "start_time": "2022-06-30T09:24:36.056721Z"
    }
   },
   "outputs": [
    {
     "name": "stdout",
     "output_type": "stream",
     "text": [
      "Warning: num_obs=0 < min_num_obs=10.  removed index_annihilation=0 from dataframe\n"
     ]
    }
   ],
   "source": [
    "index_annihilation=0\n",
    "for frame_annihilation in frame_annihilation_lst:\n",
    "    frame_next=frame_annihilation\n",
    "    frame_prev=frame_next-1\n",
    "\n",
    "    #extract data from frame_prev,frame_next\n",
    "    #boo_available=(df['index_self']<0)&(df['index_other']<0)\n",
    "    #d_prev=df[(df['frame']==frame_prev)&boo_available].copy()\n",
    "    d_prev=df[(df['frame']==frame_prev)].copy()\n",
    "    num_prev=d_prev.shape[0]\n",
    "    if frame_annihilation<=frame_max:\n",
    "        #extract d_next like normal\n",
    "        d_next=df[df['frame']==frame_next].copy()\n",
    "        num_next=d_next.shape[0]\n",
    "    else:\n",
    "        num_next=0\n",
    "    \n",
    "    ###################################\n",
    "    # initialize new tips\n",
    "    ###################################\n",
    "    # if (num_next==0)|(num_prev==2): #could cause more edge cases than it fixes...\n",
    "    if (num_next==0)&(num_prev==2):\n",
    "        # #identify the new pair if trivial case\n",
    "        # id_values_prev_new=np.arange(d_prev.shape[0])\n",
    "        # id_self=id_values_prev_new[0]\n",
    "        # id_other=id_values_prev_new[1]\n",
    "        id_self =0  # d_prev.head(1).index.values[0]\n",
    "        id_other=1 # d_prev.tail(1).index.values[0]\n",
    "    else:\n",
    "        # #otherwise identify the new pair in general pbc case\n",
    "        #find_nearest_neighbors\n",
    "        id_pair_lst=find_nearest_neighbors_simple(d_prev,d_next,distance_L2_pbc)#,xy_col_lst=['x','y'],**kwargs)\n",
    "        #identify which two indices are new in the previous frame\n",
    "        id_pair_values=np.array(id_pair_lst)\n",
    "        id_values_prev_taken=id_pair_values[:,0]\n",
    "        id_values_prev=np.arange(d_prev.shape[0])\n",
    "        id_values_prev_new=np.setdiff1d(id_values_prev,id_values_prev_taken)\n",
    "        id_self=id_values_prev_new[0]\n",
    "        id_other=id_values_prev_new[1]\n",
    "    index_values_prev=d_prev.index.values\n",
    "    index_self=index_values_prev[id_self]\n",
    "    index_other=index_values_prev[id_other]\n",
    "    xy_self=df.loc[index_self,['x','y']].values\n",
    "    xy_other=df.loc[index_other,['x','y']].values\n",
    "    dist=distance_L2_pbc(xy_self,xy_other)\n",
    "    if dist>min_dist:\n",
    "        num_obs=0\n",
    "        working=False\n",
    "    else:\n",
    "        # initialize next setting\n",
    "        num_obs=1\n",
    "        working=True\n",
    "        #DONE: add check to set working=False if the initial distance between particles is greater than a certain amount\n",
    "        #record new tips to self and other\n",
    "        df.loc[index_self,'dist']=dist\n",
    "        df.loc[index_self,'index_self']=index_annihilation\n",
    "        df.loc[index_other,'index_other']=index_annihilation\n",
    "        #compute distance between self and other only\n",
    "\n",
    "    #end initialization of new tips\n",
    "    # #DONE: plot the points i just initialized and verify they look reasonable\n",
    "    # fig,ax=plt.subplots(figsize=(5,5))\n",
    "    # df[df['index_self']==index_annihilation].plot.scatter(x='x',y='y',ax=ax,color='r',alpha=0.6,marker='v',s=100)\n",
    "    # df[df['index_other']==index_annihilation].plot.scatter(x='x',y='y',ax=ax,color='r',alpha=0.6,marker='^',s=100)\n",
    "    # d_prev.plot.scatter(x='x',y='y',ax=ax,color='C0',alpha=0.2,marker='o',s=300)\n",
    "    # d_next.plot.scatter(x='x',y='y',ax=ax,color='C1',alpha=0.2,marker='o',s=300)\n",
    "    # # df.loc[index_other].plot.scatter(x='x',y='y',ax=ax,color='r',alpha=0.6)\n",
    "    # plt.show()\n",
    "\n",
    "    ##########################################\n",
    "    # generate annihilating trajectories only\n",
    "    ##########################################\n",
    "    # while previous positions are found, grow only the trajectories involved in this annihilation event\n",
    "    while working:\n",
    "        #time step backward\n",
    "        frame_next=frame_prev\n",
    "        frame_prev=frame_prev-1\n",
    "        #break if end of data\n",
    "        if frame_prev<=frame_min:\n",
    "            working=False\n",
    "\n",
    "        #extract data from frame_prev,frame_next\n",
    "        boo_available=(df['index_self']<0)&(df['index_other']<0)\n",
    "        d_prev=df[(df['frame']==frame_prev)&boo_available].copy()\n",
    "        #limit d_next to only consider values that have not been assigned to a particle or the just assigned particles\n",
    "        boo_annihilation=(df['index_self']==index_annihilation)|(df['index_other']==index_annihilation)\n",
    "        boo_available_next=boo_available|boo_annihilation\n",
    "        d_next=df[((df['frame']==frame_next)&boo_available_next)].copy()\n",
    "        #d_next=df[(df['frame']==frame_next)].copy()\n",
    "        #d_next=df[(df['frame']==frame_next)&boo_available].copy()\n",
    "        \n",
    "        #DONE: filter d_prev by taken values\n",
    "        #compute id_self from index_self\n",
    "        id_self=int(np.argwhere((d_next['index_self']==index_annihilation).values))\n",
    "        #compute id_self from index_self\n",
    "        id_other=int(np.argwhere((d_next['index_other']==index_annihilation).values))\n",
    "\n",
    "        #find next neighbor match set\n",
    "        id_pair_lst=find_nearest_neighbors_simple(d_prev,d_next,distance_L2_pbc)#,xy_col_lst=['x','y'],**kwargs)\n",
    "        #comp inverse pair map\n",
    "        id_pair_values=np.array(id_pair_lst)\n",
    "        dict_map_next_prev_consistent = dict(zip(id_pair_values[:,1],id_pair_values[:,0]))\n",
    "        #determine which matches were found\n",
    "        id_matched_next=set(dict_map_next_prev_consistent.keys())\n",
    "        boo_self_matched=id_matched_next.issuperset({id_self})\n",
    "        boo_other_matched=id_matched_next.issuperset({id_other})\n",
    "        #check for either particle not found ==> working=False\n",
    "        if not (boo_self_matched or boo_other_matched):\n",
    "            working=False\n",
    "        else:\n",
    "            #recompute the other if either is found\n",
    "            if (boo_self_matched and boo_other_matched):\n",
    "                #simply update both in the local basis\n",
    "                id_self=dict_map_next_prev_consistent[id_self]\n",
    "                id_other=dict_map_next_prev_consistent[id_other]\n",
    "            elif boo_self_matched:\n",
    "                #one step back self in the local basis\n",
    "                id_self_prev=dict_map_next_prev_consistent[id_self]\n",
    "                #compute nearest neighbors without self\n",
    "                id_pair_lst_noother=find_nearest_neighbors_noother(d_prev,d_next,\n",
    "                                                   id_other_prev=id_self_prev,\n",
    "                                                   id_other=id_self,\n",
    "                                                   distance_L2_pbc=distance_L2_pbc)#,xy_col_lst=['x','y'],**kwargs)\n",
    "                #comp inverse pair map\n",
    "                id_pair_values_noother=np.array(id_pair_lst_noother)\n",
    "                dict_map_next_prev_consistent_noother = dict(zip(id_pair_values_noother[:,1],id_pair_values_noother[:,0]))\n",
    "                #one step back other in the local basis\n",
    "                id_other=dict_map_next_prev_consistent_noother[id_other]\n",
    "                #update id_self\n",
    "                id_self=id_self_prev\n",
    "            elif boo_other_matched:\n",
    "                #one step back other in the local basis\n",
    "                id_other_prev=dict_map_next_prev_consistent[id_other]\n",
    "                #compute nearest neighbors without self\n",
    "                id_pair_lst_noother=find_nearest_neighbors_noother(d_prev,d_next,\n",
    "                                                   id_other_prev=id_other_prev,\n",
    "                                                   id_other=id_other,\n",
    "                                                   distance_L2_pbc=distance_L2_pbc)#,xy_col_lst=['x','y'],**kwargs)\n",
    "                #comp inverse pair map\n",
    "                id_pair_values_noother=np.array(id_pair_lst_noother)\n",
    "                dict_map_next_prev_consistent_noother = dict(zip(id_pair_values_noother[:,1],id_pair_values_noother[:,0]))\n",
    "                #one step back self in the local basis\n",
    "                id_self=dict_map_next_prev_consistent_noother[id_self]\n",
    "                #update id_other\n",
    "                id_other=id_other_prev\n",
    "            else:\n",
    "                print(f\"Warning: {num_prev=}, {num_next=}, {boo_self_matched=}, {boo_other_matched=}. breaking...\")\n",
    "                working=False\n",
    "        if working:\n",
    "            #record new tips to self and other\n",
    "            index_values_prev=d_prev.index.values\n",
    "            index_self=index_values_prev[id_self]\n",
    "            index_other=index_values_prev[id_other]\n",
    "            df.loc[index_self,'index_self']=index_annihilation\n",
    "            df.loc[index_other,'index_other']=index_annihilation\n",
    "            #compute distance between self and other only\n",
    "            xy_self=df.loc[index_self,['x','y']].values\n",
    "            xy_other=df.loc[index_other,['x','y']].values\n",
    "            dist=distance_L2_pbc(xy_self,xy_other)\n",
    "            df.loc[index_self,'dist']=dist\n",
    "            #record increment to num_obs\n",
    "            num_obs+=1\n",
    "    #end while\n",
    "    if min_num_obs>num_obs:\n",
    "        #TODO: reset any instance of index_annihilation to null in 'index_self' and 'index_other'\n",
    "        if printing:\n",
    "            print(f\"Warning: {num_obs=} < {min_num_obs=}.  removed {index_annihilation=} from dataframe\")\n",
    "        df.loc[df['index_self']==index_annihilation,'index_self']=-9999\n",
    "        df.loc[df['index_other']==index_annihilation,'index_other']=-9999\n",
    "    else:\n",
    "        #keep this annihilation\n",
    "        index_annihilation+=1\n",
    "    #move on to the next annihilation event\n",
    "    #end for loop over annihilating trajectories\n",
    "# return df\n",
    "#end generation annihilating trajectories"
   ]
  },
  {
   "cell_type": "code",
   "execution_count": 18,
   "id": "f173e9ac",
   "metadata": {
    "ExecuteTime": {
     "end_time": "2022-06-30T09:24:46.156728Z",
     "start_time": "2022-06-30T09:24:46.134729Z"
    }
   },
   "outputs": [
    {
     "data": {
      "text/plain": [
       "1.0212769754506552"
      ]
     },
     "execution_count": 18,
     "metadata": {},
     "output_type": "execute_result"
    }
   ],
   "source": [
    "dist"
   ]
  },
  {
   "cell_type": "code",
   "execution_count": 19,
   "id": "269f4f4d",
   "metadata": {
    "ExecuteTime": {
     "end_time": "2022-06-30T09:24:46.177866Z",
     "start_time": "2022-06-30T09:24:46.158503Z"
    }
   },
   "outputs": [
    {
     "data": {
      "text/plain": [
       "(7, 98, True, True)"
      ]
     },
     "execution_count": 19,
     "metadata": {},
     "output_type": "execute_result"
    }
   ],
   "source": [
    "index_annihilation, num_obs, boo_self_matched, boo_other_matched"
   ]
  },
  {
   "cell_type": "code",
   "execution_count": 20,
   "id": "a6944eeb",
   "metadata": {
    "ExecuteTime": {
     "end_time": "2022-06-30T09:24:46.196306Z",
     "start_time": "2022-06-30T09:24:46.179565Z"
    }
   },
   "outputs": [],
   "source": [
    "#DONE: ROOT CAUSE ANALYSIS ON WHY the wrong id_other is is getting passed to find_nearest_neighbors_noother"
   ]
  },
  {
   "cell_type": "markdown",
   "id": "43f0191c",
   "metadata": {},
   "source": [
    "# tests of dev"
   ]
  },
  {
   "cell_type": "code",
   "execution_count": 21,
   "id": "1ec683bc",
   "metadata": {
    "ExecuteTime": {
     "end_time": "2022-06-30T09:24:46.216867Z",
     "start_time": "2022-06-30T09:24:46.197885Z"
    }
   },
   "outputs": [],
   "source": [
    "#reset matplotlib settings\n",
    "import matplotlib as mpl\n",
    "sns.reset_orig()\n",
    "mpl.rc_file_defaults()"
   ]
  },
  {
   "cell_type": "code",
   "execution_count": 22,
   "id": "a4eb636e",
   "metadata": {
    "ExecuteTime": {
     "end_time": "2022-06-30T09:24:46.238814Z",
     "start_time": "2022-06-30T09:24:46.218894Z"
    }
   },
   "outputs": [
    {
     "data": {
      "text/plain": [
       "(975,)"
      ]
     },
     "execution_count": 22,
     "metadata": {},
     "output_type": "execute_result"
    }
   ],
   "source": [
    "# index_annihilation_plot=index_annihilation-1\n",
    "index_annihilation_plot=0\n",
    "df.loc[df['index_other']==index_annihilation_plot,'index_other'].shape"
   ]
  },
  {
   "cell_type": "code",
   "execution_count": 23,
   "id": "af5a8374",
   "metadata": {
    "ExecuteTime": {
     "end_time": "2022-06-30T09:24:46.381709Z",
     "start_time": "2022-06-30T09:24:46.240090Z"
    }
   },
   "outputs": [
    {
     "data": {
      "image/png": "[encoded data removed]",
      "text/plain": [
       "<Figure size 360x360 with 1 Axes>"
      ]
     },
     "metadata": {
      "needs_background": "light"
     },
     "output_type": "display_data"
    }
   ],
   "source": [
    "#plot the points i just computed and verify they look reasonable\n",
    "fig,ax=plt.subplots(figsize=(5,5))\n",
    "df[df['index_self']==index_annihilation_plot].plot.scatter(x='x',y='y',ax=ax,color='r',alpha=0.6,marker='v',s=2)\n",
    "df[df['index_other']==index_annihilation_plot].plot.scatter(x='x',y='y',ax=ax,color='g',alpha=0.6,marker='^',s=2)\n",
    "d_prev.plot.scatter(x='x',y='y',ax=ax,color='C0',alpha=0.2,marker='o',s=300)\n",
    "d_next.plot.scatter(x='x',y='y',ax=ax,color='C1',alpha=0.2,marker='o',s=300)\n",
    "format_plot(ax=ax,xlabel='x (cm)',ylabel='y (cm)')\n",
    "plt.show()"
   ]
  },
  {
   "cell_type": "code",
   "execution_count": 37,
   "id": "7bb915fa",
   "metadata": {
    "ExecuteTime": {
     "end_time": "2022-06-30T15:52:35.220382Z",
     "start_time": "2022-06-30T15:52:35.030747Z"
    }
   },
   "outputs": [
    {
     "data": {
      "image/png": "[encoded data removed]",
      "text/plain": [
       "<Figure size 360x360 with 1 Axes>"
      ]
     },
     "metadata": {
      "needs_background": "light"
     },
     "output_type": "display_data"
    }
   ],
   "source": [
    "#plot the points i just computed and verify they look reasonable\n",
    "fig,ax=plt.subplots(figsize=(5,5))\n",
    "for index_annihilation_plot in range (8):\n",
    "    df[df['index_self']==index_annihilation_plot].plot.scatter(x='x',y='y',ax=ax,color=f'C{index_annihilation_plot}',alpha=0.9,marker='v',s=2)\n",
    "    df[df['index_other']==index_annihilation_plot].plot.scatter(x='x',y='y',ax=ax,color=f'C{index_annihilation_plot*2}',alpha=0.9,marker='.',s=2)\n",
    "# d_prev.plot.scatter(x='x',y='y',ax=ax,color='C0',alpha=0.2,marker='o',s=300)\n",
    "# d_next.plot.scatter(x='x',y='y',ax=ax,color='C1',alpha=0.2,marker='o',s=300)\n",
    "format_plot(ax=ax,xlabel='x (cm)',ylabel='y (cm)')\n",
    "plt.show()"
   ]
  },
  {
   "cell_type": "code",
   "execution_count": 24,
   "id": "36004ec0",
   "metadata": {
    "ExecuteTime": {
     "end_time": "2022-06-30T09:24:46.403412Z",
     "start_time": "2022-06-30T09:24:46.383324Z"
    }
   },
   "outputs": [
    {
     "name": "stdout",
     "output_type": "stream",
     "text": [
      "Do no more than two known particle identities get assigned to index_annihilation_test=0?\n",
      "pid_explicit_set_lst_self=[3]\n",
      "pid_explicit_set_lst_other=[7]\n",
      "num_obs=98 is greater than min_num_obs=10, so this pair-annihilation event is _kept_.\n"
     ]
    }
   ],
   "source": [
    "#DONE: test for equivalence between my particle tracking and the ground truth\n",
    "#HINT: make dict between particle and pid_explicit, asserting that particle maps to one and only one pid_explicit\n",
    "#now the big test:\n",
    "# index_annihilation_test=0\n",
    "index_annihilation_test=index_annihilation_plot\n",
    "print(f\"Do no more than two known particle identities get assigned to {index_annihilation_test=}?\")\n",
    "pid_explicit_set_lst_self=list(set(df.loc[df['index_self']==index_annihilation_plot,'pid_explicit'].values))\n",
    "pid_explicit_set_lst_other=list(set(df.loc[df['index_other']==index_annihilation_plot,'pid_explicit'].values))\n",
    "print(f\"{pid_explicit_set_lst_self=}\")\n",
    "print(f\"{pid_explicit_set_lst_other=}\")\n",
    "print(f\"{num_obs=} is greater than {min_num_obs=}, so this pair-annihilation event is _kept_.\")"
   ]
  },
  {
   "cell_type": "code",
   "execution_count": 25,
   "id": "7c4a1639",
   "metadata": {
    "ExecuteTime": {
     "end_time": "2022-06-30T09:24:46.494021Z",
     "start_time": "2022-06-30T09:24:46.404719Z"
    }
   },
   "outputs": [
    {
     "data": {
      "image/png": "[encoded data removed]",
      "text/plain": [
       "<Figure size 360x360 with 1 Axes>"
      ]
     },
     "metadata": {
      "needs_background": "light"
     },
     "output_type": "display_data"
    }
   ],
   "source": [
    "#TODO: simple test for whether results for an example R(t') look reasonable\n",
    "#plot the points i just computed and verify they look reasonable\n",
    "fig,ax=plt.subplots(figsize=(5,5))\n",
    "d=df.loc[df['index_self']==index_annihilation_plot]\n",
    "d.plot.scatter(x='t',y='dist',ax=ax,color='r',alpha=0.6,marker='v',s=2)\n",
    "# df[df['index_self']==index_annihilation_plot].plot.scatter(x='x',y='y',ax=ax,color='r',alpha=0.6,marker='v',s=2)\n",
    "# df[df['index_other']==index_annihilation_plot].plot.scatter(x='x',y='y',ax=ax,color='g',alpha=0.6,marker='^',s=2)\n",
    "# d_prev.plot.scatter(x='x',y='y',ax=ax,color='C0',alpha=0.2,marker='o',s=300)\n",
    "# d_next.plot.scatter(x='x',y='y',ax=ax,color='C1',alpha=0.2,marker='o',s=300)\n",
    "format_plot(ax=ax,xlabel='t (ms)',ylabel='R (cm)')\n",
    "plt.show()"
   ]
  },
  {
   "cell_type": "code",
   "execution_count": 26,
   "id": "67940092",
   "metadata": {
    "ExecuteTime": {
     "end_time": "2022-06-30T09:24:46.516248Z",
     "start_time": "2022-06-30T09:24:46.496107Z"
    }
   },
   "outputs": [],
   "source": [
    "#Q: why is the final; distance so far away?\n",
    "#A: it's just where i killed the simulation, man! Don't worry about it\n",
    "#TODO: add check to set working=False if the initial distance between particles is greater than a certain amount"
   ]
  },
  {
   "cell_type": "code",
   "execution_count": 27,
   "id": "b36571d6",
   "metadata": {
    "ExecuteTime": {
     "end_time": "2022-06-30T09:24:46.547488Z",
     "start_time": "2022-06-30T09:24:46.521438Z"
    }
   },
   "outputs": [
    {
     "data": {
      "text/html": [
       "<div>\n",
       "<style scoped>\n",
       "    .dataframe tbody tr th:only-of-type {\n",
       "        vertical-align: middle;\n",
       "    }\n",
       "\n",
       "    .dataframe tbody tr th {\n",
       "        vertical-align: top;\n",
       "    }\n",
       "\n",
       "    .dataframe thead th {\n",
       "        text-align: right;\n",
       "    }\n",
       "</style>\n",
       "<table border=\"1\" class=\"dataframe\">\n",
       "  <thead>\n",
       "    <tr style=\"text-align: right;\">\n",
       "      <th></th>\n",
       "      <th>index</th>\n",
       "      <th>frame</th>\n",
       "      <th>t</th>\n",
       "      <th>n</th>\n",
       "      <th>x</th>\n",
       "      <th>y</th>\n",
       "      <th>pid_explicit</th>\n",
       "      <th>index_self</th>\n",
       "      <th>index_other</th>\n",
       "      <th>dist</th>\n",
       "    </tr>\n",
       "  </thead>\n",
       "  <tbody>\n",
       "    <tr>\n",
       "      <th>7134</th>\n",
       "      <td>7134</td>\n",
       "      <td>972</td>\n",
       "      <td>242.75</td>\n",
       "      <td>4</td>\n",
       "      <td>4.590947</td>\n",
       "      <td>8.229685</td>\n",
       "      <td>3</td>\n",
       "      <td>0</td>\n",
       "      <td>-9999</td>\n",
       "      <td>0.197205</td>\n",
       "    </tr>\n",
       "    <tr>\n",
       "      <th>7138</th>\n",
       "      <td>7138</td>\n",
       "      <td>973</td>\n",
       "      <td>243.00</td>\n",
       "      <td>4</td>\n",
       "      <td>4.604876</td>\n",
       "      <td>8.229697</td>\n",
       "      <td>3</td>\n",
       "      <td>0</td>\n",
       "      <td>-9999</td>\n",
       "      <td>0.173529</td>\n",
       "    </tr>\n",
       "    <tr>\n",
       "      <th>7142</th>\n",
       "      <td>7142</td>\n",
       "      <td>974</td>\n",
       "      <td>243.25</td>\n",
       "      <td>4</td>\n",
       "      <td>4.614060</td>\n",
       "      <td>8.261937</td>\n",
       "      <td>3</td>\n",
       "      <td>0</td>\n",
       "      <td>-9999</td>\n",
       "      <td>0.123376</td>\n",
       "    </tr>\n",
       "    <tr>\n",
       "      <th>7146</th>\n",
       "      <td>7146</td>\n",
       "      <td>975</td>\n",
       "      <td>243.50</td>\n",
       "      <td>4</td>\n",
       "      <td>4.595442</td>\n",
       "      <td>8.228966</td>\n",
       "      <td>3</td>\n",
       "      <td>0</td>\n",
       "      <td>-9999</td>\n",
       "      <td>0.125009</td>\n",
       "    </tr>\n",
       "    <tr>\n",
       "      <th>7150</th>\n",
       "      <td>7150</td>\n",
       "      <td>976</td>\n",
       "      <td>243.75</td>\n",
       "      <td>4</td>\n",
       "      <td>4.587405</td>\n",
       "      <td>8.211438</td>\n",
       "      <td>3</td>\n",
       "      <td>0</td>\n",
       "      <td>-9999</td>\n",
       "      <td>0.132469</td>\n",
       "    </tr>\n",
       "  </tbody>\n",
       "</table>\n",
       "</div>"
      ],
      "text/plain": [
       "      index  frame       t  n         x         y  pid_explicit  index_self  \\\n",
       "7134   7134    972  242.75  4  4.590947  8.229685             3           0   \n",
       "7138   7138    973  243.00  4  4.604876  8.229697             3           0   \n",
       "7142   7142    974  243.25  4  4.614060  8.261937             3           0   \n",
       "7146   7146    975  243.50  4  4.595442  8.228966             3           0   \n",
       "7150   7150    976  243.75  4  4.587405  8.211438             3           0   \n",
       "\n",
       "      index_other      dist  \n",
       "7134        -9999  0.197205  \n",
       "7138        -9999  0.173529  \n",
       "7142        -9999  0.123376  \n",
       "7146        -9999  0.125009  \n",
       "7150        -9999  0.132469  "
      ]
     },
     "execution_count": 27,
     "metadata": {},
     "output_type": "execute_result"
    }
   ],
   "source": [
    "d.tail()"
   ]
  },
  {
   "cell_type": "code",
   "execution_count": 28,
   "id": "665c7f20",
   "metadata": {
    "ExecuteTime": {
     "end_time": "2022-06-30T09:24:46.571674Z",
     "start_time": "2022-06-30T09:24:46.549266Z"
    }
   },
   "outputs": [
    {
     "data": {
      "text/html": [
       "<div>\n",
       "<style scoped>\n",
       "    .dataframe tbody tr th:only-of-type {\n",
       "        vertical-align: middle;\n",
       "    }\n",
       "\n",
       "    .dataframe tbody tr th {\n",
       "        vertical-align: top;\n",
       "    }\n",
       "\n",
       "    .dataframe thead th {\n",
       "        text-align: right;\n",
       "    }\n",
       "</style>\n",
       "<table border=\"1\" class=\"dataframe\">\n",
       "  <thead>\n",
       "    <tr style=\"text-align: right;\">\n",
       "      <th></th>\n",
       "      <th>index</th>\n",
       "      <th>frame</th>\n",
       "      <th>t</th>\n",
       "      <th>n</th>\n",
       "      <th>x</th>\n",
       "      <th>y</th>\n",
       "      <th>pid_explicit</th>\n",
       "      <th>index_self</th>\n",
       "      <th>index_other</th>\n",
       "      <th>dist</th>\n",
       "    </tr>\n",
       "  </thead>\n",
       "  <tbody>\n",
       "    <tr>\n",
       "      <th>85199</th>\n",
       "      <td>85199</td>\n",
       "      <td>39999</td>\n",
       "      <td>9999.50</td>\n",
       "      <td>2</td>\n",
       "      <td>9.295363</td>\n",
       "      <td>6.435280</td>\n",
       "      <td>15</td>\n",
       "      <td>-9999</td>\n",
       "      <td>-9999</td>\n",
       "      <td>-9999.0</td>\n",
       "    </tr>\n",
       "    <tr>\n",
       "      <th>85200</th>\n",
       "      <td>85200</td>\n",
       "      <td>40000</td>\n",
       "      <td>9999.75</td>\n",
       "      <td>2</td>\n",
       "      <td>4.330187</td>\n",
       "      <td>3.962795</td>\n",
       "      <td>14</td>\n",
       "      <td>-9999</td>\n",
       "      <td>-9999</td>\n",
       "      <td>-9999.0</td>\n",
       "    </tr>\n",
       "    <tr>\n",
       "      <th>85201</th>\n",
       "      <td>85201</td>\n",
       "      <td>40000</td>\n",
       "      <td>9999.75</td>\n",
       "      <td>2</td>\n",
       "      <td>9.253390</td>\n",
       "      <td>6.452116</td>\n",
       "      <td>15</td>\n",
       "      <td>-9999</td>\n",
       "      <td>-9999</td>\n",
       "      <td>-9999.0</td>\n",
       "    </tr>\n",
       "    <tr>\n",
       "      <th>85202</th>\n",
       "      <td>85202</td>\n",
       "      <td>40001</td>\n",
       "      <td>10000.00</td>\n",
       "      <td>2</td>\n",
       "      <td>4.335643</td>\n",
       "      <td>3.967257</td>\n",
       "      <td>14</td>\n",
       "      <td>-9999</td>\n",
       "      <td>-9999</td>\n",
       "      <td>-9999.0</td>\n",
       "    </tr>\n",
       "    <tr>\n",
       "      <th>85203</th>\n",
       "      <td>85203</td>\n",
       "      <td>40001</td>\n",
       "      <td>10000.00</td>\n",
       "      <td>2</td>\n",
       "      <td>9.322021</td>\n",
       "      <td>6.518097</td>\n",
       "      <td>15</td>\n",
       "      <td>-9999</td>\n",
       "      <td>-9999</td>\n",
       "      <td>-9999.0</td>\n",
       "    </tr>\n",
       "  </tbody>\n",
       "</table>\n",
       "</div>"
      ],
      "text/plain": [
       "       index  frame         t  n         x         y  pid_explicit  \\\n",
       "85199  85199  39999   9999.50  2  9.295363  6.435280            15   \n",
       "85200  85200  40000   9999.75  2  4.330187  3.962795            14   \n",
       "85201  85201  40000   9999.75  2  9.253390  6.452116            15   \n",
       "85202  85202  40001  10000.00  2  4.335643  3.967257            14   \n",
       "85203  85203  40001  10000.00  2  9.322021  6.518097            15   \n",
       "\n",
       "       index_self  index_other    dist  \n",
       "85199       -9999        -9999 -9999.0  \n",
       "85200       -9999        -9999 -9999.0  \n",
       "85201       -9999        -9999 -9999.0  \n",
       "85202       -9999        -9999 -9999.0  \n",
       "85203       -9999        -9999 -9999.0  "
      ]
     },
     "execution_count": 28,
     "metadata": {},
     "output_type": "execute_result"
    }
   ],
   "source": [
    "df.tail()"
   ]
  },
  {
   "cell_type": "code",
   "execution_count": 29,
   "id": "515119f7",
   "metadata": {
    "ExecuteTime": {
     "end_time": "2022-06-30T09:24:46.589147Z",
     "start_time": "2022-06-30T09:24:46.572878Z"
    }
   },
   "outputs": [],
   "source": [
    "#DONE: ROOT CAUSE ANALYSIS: why is index 3 not being returned?\n",
    "#YEP. #ROOT CAUSE IDENTIFIED: recall annihilating particles vibrate around eachother as they annihilate\n",
    "#NOPE. #POTENTIAL ROOT CAUSE: map_prev_next,map_next_prev are not inverses of each other\n",
    "# #simplest fix: recompute the other if either is found\n",
    "# id_pair_lst=find_nearest_neighbors_simple(d_prev,d_next,distance_L2_pbc)#,xy_col_lst=['x','y'],**kwargs)\n",
    "# assert len(id_pair_lst)==d_prev.shape[0]"
   ]
  },
  {
   "cell_type": "code",
   "execution_count": 30,
   "id": "9762b25d",
   "metadata": {
    "ExecuteTime": {
     "end_time": "2022-06-30T09:24:46.606298Z",
     "start_time": "2022-06-30T09:24:46.590617Z"
    }
   },
   "outputs": [],
   "source": [
    "#DONT(this would clearly break it): simple test for whether results for an example R(t') stop looking reasonable if i do:\n",
    "# d_next=df[df['frame']==frame_next].copy()\n",
    "# d_next=df[df['frame']==frame_next]"
   ]
  },
  {
   "cell_type": "code",
   "execution_count": null,
   "id": "90dd38d6",
   "metadata": {},
   "outputs": [],
   "source": []
  },
  {
   "cell_type": "code",
   "execution_count": null,
   "id": "74a96257",
   "metadata": {},
   "outputs": [],
   "source": []
  }
 ],
 "metadata": {
  "hide_input": false,
  "kernelspec": {
   "display_name": "Python 3 (ipykernel)",
   "language": "python",
   "name": "python3"
  },
  "language_info": {
   "codemirror_mode": {
    "name": "ipython",
    "version": 3
   },
   "file_extension": ".py",
   "mimetype": "text/x-python",
   "name": "python",
   "nbconvert_exporter": "python",
   "pygments_lexer": "ipython3",
   "version": "3.9.13"
  },
  "nbTranslate": {
   "displayLangs": [
    "*"
   ],
   "hotkey": "alt-t",
   "langInMainMenu": true,
   "sourceLang": "en",
   "targetLang": "fr",
   "useGoogleTranslate": true
  },
  "toc": {
   "base_numbering": 1,
   "nav_menu": {},
   "number_sections": true,
   "sideBar": true,
   "skip_h1_title": false,
   "title_cell": "Table of Contents",
   "title_sidebar": "Contents",
   "toc_cell": false,
   "toc_position": {},
   "toc_section_display": true,
   "toc_window_display": false
  },
  "varInspector": {
   "cols": {
    "lenName": 16,
    "lenType": 16,
    "lenVar": 40
   },
   "kernels_config": {
    "python": {
     "delete_cmd_postfix": "",
     "delete_cmd_prefix": "del ",
     "library": "var_list.py",
     "varRefreshCmd": "print(var_dic_list())"
    },
    "r": {
     "delete_cmd_postfix": ") ",
     "delete_cmd_prefix": "rm(",
     "library": "var_list.r",
     "varRefreshCmd": "cat(var_dic_list()) "
    }
   },
   "types_to_exclude": [
    "module",
    "function",
    "builtin_function_or_method",
    "instance",
    "_Feature"
   ],
   "window_display": false
  }
 },
 "nbformat": 4,
 "nbformat_minor": 5
}
