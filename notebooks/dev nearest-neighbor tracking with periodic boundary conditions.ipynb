{
 "cells": [
  {
   "cell_type": "markdown",
   "id": "e2f68059",
   "metadata": {},
   "source": [
    "# dev nearest-neighbor tracking with periodic boundary conditions\n",
    "Tim Tyree<br>\n",
    "6.29.2022"
   ]
  },
  {
   "cell_type": "code",
   "execution_count": 1,
   "id": "7249626d",
   "metadata": {
    "ExecuteTime": {
     "end_time": "2022-06-29T22:11:21.442411Z",
     "start_time": "2022-06-29T22:11:19.312585Z"
    }
   },
   "outputs": [],
   "source": [
    "use_clear_output=True\n",
    "if use_clear_output:\n",
    "    from IPython.display import clear_output\n",
    "    clear_output(wait=True)\n",
    "\n",
    "import sys,os\n",
    "og_stdout=sys.stdout\n",
    "from lib.my_initialization import *\n",
    "\n",
    "os.chdir(nb_dir)\n",
    "from lib import *\n",
    "\n",
    "# import cupy, cudf\n",
    "# from lib.rapids_func import *\n",
    "\n",
    "import seaborn as sns\n",
    "import matplotlib.ticker as mtick\n",
    "\n",
    "#reset matplotlib settings\n",
    "import matplotlib as mpl\n",
    "sns.reset_orig()\n",
    "mpl.rc_file_defaults()\n",
    "\n",
    "import warnings\n",
    "warnings.simplefilter(\"ignore\", UserWarning)\n",
    "%load_ext autoreload\n",
    "%autoreload 2"
   ]
  },
  {
   "cell_type": "markdown",
   "id": "1261a81a",
   "metadata": {},
   "source": [
    "# define module"
   ]
  },
  {
   "cell_type": "code",
   "execution_count": null,
   "id": "7e616e6f",
   "metadata": {},
   "outputs": [],
   "source": []
  },
  {
   "cell_type": "markdown",
   "id": "88659d95",
   "metadata": {},
   "source": [
    "# dev"
   ]
  },
  {
   "cell_type": "code",
   "execution_count": 2,
   "id": "a7fd1579",
   "metadata": {
    "ExecuteTime": {
     "end_time": "2022-06-29T22:11:36.809268Z",
     "start_time": "2022-06-29T22:11:36.762220Z"
    }
   },
   "outputs": [],
   "source": [
    "#TODO: load the data from bgmc that has pid_explicit\n",
    "#HINT: its on ub in bgmc/python/data/local_results\n"
   ]
  },
  {
   "cell_type": "code",
   "execution_count": null,
   "id": "1dd18d59",
   "metadata": {},
   "outputs": [],
   "source": []
  },
  {
   "cell_type": "code",
   "execution_count": 3,
   "id": "3edef02a",
   "metadata": {
    "ExecuteTime": {
     "end_time": "2022-06-29T22:16:21.146496Z",
     "start_time": "2022-06-29T22:16:21.094627Z"
    }
   },
   "outputs": [],
   "source": [
    "#TODO: implement/dev draft of simple tracker like WJ's in physical notebook\n",
    "def comp_particle_trajectories_pbc_nearest_neighbors_simple(df):\n",
    "    pass\n",
    "#input: df  # from df_log\n",
    "#output: df_traj"
   ]
  },
  {
   "cell_type": "code",
   "execution_count": null,
   "id": "45d908d8",
   "metadata": {},
   "outputs": [],
   "source": []
  },
  {
   "cell_type": "code",
   "execution_count": 4,
   "id": "7cf8cf3d",
   "metadata": {
    "ExecuteTime": {
     "end_time": "2022-06-29T22:17:03.222389Z",
     "start_time": "2022-06-29T22:17:03.182515Z"
    }
   },
   "outputs": [],
   "source": [
    "#TODO: test simple tracker on the data by comparing 'particle' and 'pid_explicit'"
   ]
  },
  {
   "cell_type": "code",
   "execution_count": null,
   "id": "2c054cab",
   "metadata": {},
   "outputs": [],
   "source": []
  }
 ],
 "metadata": {
  "hide_input": false,
  "kernelspec": {
   "display_name": "Python 3 (ipykernel)",
   "language": "python",
   "name": "python3"
  },
  "language_info": {
   "codemirror_mode": {
    "name": "ipython",
    "version": 3
   },
   "file_extension": ".py",
   "mimetype": "text/x-python",
   "name": "python",
   "nbconvert_exporter": "python",
   "pygments_lexer": "ipython3",
   "version": "3.9.5"
  },
  "nbTranslate": {
   "displayLangs": [
    "*"
   ],
   "hotkey": "alt-t",
   "langInMainMenu": true,
   "sourceLang": "en",
   "targetLang": "fr",
   "useGoogleTranslate": true
  },
  "toc": {
   "base_numbering": 1,
   "nav_menu": {},
   "number_sections": true,
   "sideBar": true,
   "skip_h1_title": false,
   "title_cell": "Table of Contents",
   "title_sidebar": "Contents",
   "toc_cell": false,
   "toc_position": {},
   "toc_section_display": true,
   "toc_window_display": false
  }
 },
 "nbformat": 4,
 "nbformat_minor": 5
}
