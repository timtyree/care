{
 "cells": [
  {
   "cell_type": "markdown",
   "metadata": {},
   "source": [
    "# Processing a Folder of Tip Logs\n",
    "Tim Tyree<br>\n",
    "6.22.2021"
   ]
  },
  {
   "cell_type": "code",
   "execution_count": 1,
   "metadata": {
    "ExecuteTime": {
     "end_time": "2021-06-29T18:02:23.151720Z",
     "start_time": "2021-06-29T18:02:21.563543Z"
    }
   },
   "outputs": [
    {
     "name": "stdout",
     "output_type": "stream",
     "text": [
      "Automatic calling is: Smart\n"
     ]
    }
   ],
   "source": [
    "from lib.my_initialization import *\n",
    "from lib import *\n",
    "\n",
    "from lib.my_initialization import *\n",
    "from lib.utils.utils_traj import *\n",
    "\n",
    "from lib.utils.operari import *\n",
    "\n",
    "\n",
    "import trackpy, pandas as pd, numpy as np\n",
    "from lib import *\n",
    "from lib.routines.track_tips import *\n",
    "from lib.utils.dist_func import *\n",
    "from lib.utils.utils_traj import *\n",
    "\n",
    "from lib.routines.compute_trajectories import *\n",
    "from lib.routines.dag_log_to_msd import *\n",
    "from lib.routines.compute_msd import *\n",
    "\n",
    "import trackpy\n",
    "%autocall 1\n",
    "%load_ext autoreload\n",
    "%autoreload 2\n",
    "# awareness&chill"
   ]
  },
  {
   "cell_type": "markdown",
   "metadata": {},
   "source": [
    "# particle tracking and computation of mean squared displacements for a folder of tip logs"
   ]
  },
  {
   "cell_type": "code",
   "execution_count": 28,
   "metadata": {
    "ExecuteTime": {
     "end_time": "2021-06-30T02:40:34.002141Z",
     "start_time": "2021-06-30T02:39:32.457429Z"
    }
   },
   "outputs": [
    {
     "name": "stdout",
     "output_type": "stream",
     "text": [
      "File: /home/timothytyree/Documents/GitHub/care/notebooks/Data/initial-conditions-suite-3-LR/param_qu_tmax_30_Ko_5.4_diffCoef_0.0005_dt_0.025/Log/ic003.13_log.csv\n",
      "/home/timothytyree/Documents/GitHub/care/notebooks/Data/initial-conditions-suite-3-LR/param_qu_tmax_30_Ko_5.4_diffCoef_0.0005_dt_0.025/Log/ic003.13_log.csv\n",
      "number of files in list: 37\n"
     ]
    }
   ],
   "source": [
    "# #find file interactively\n",
    "# print(\"please select a file from within the desired folder.\")\n",
    "file = search_for_file()\n",
    "# file='/home/timothytyree/Documents/GitHub/care/notebooks/Data/initial-conditions-suite-3-LR/param_qu_tmax_30_Ko_5.4_diffCoef_0.0005_dt_0.5/Log/ic001.21_log.csv'\n",
    "print(file)\n",
    "# file='/home/timothytyree/Documents/GitHub/care/notebooks/Data/initial-conditions-suite-2/ds_2_param_set_8/Log/ic_200x200.001.12_log.csv'\n",
    "\n",
    "ds=5\n",
    "width=200\n",
    "height=width\n",
    "DS=ds/width\n",
    "\n",
    "# # input_fn=search_for_file()\n",
    "# input_fn=f\"/home/timothytyree/Documents/GitHub/care/notebooks/Data/initial-conditions-fk-200x200/param_set_8_ds_5.0_tmax_10_diffCoef_0.0005/Log/ic200x200.0.3_traj_sr_400_mem_0.csv\"\n",
    "# df=pd.read_csv(input_fn)\n",
    "# print(input_fn)\n",
    "# DT=compute_DT(df,round_t_to_n_digits=3);print(f\"the time resolution is {DT} ms.\")\n",
    "\n",
    "\n",
    "trgt='log.csv'\n",
    "assert(file[-len(trgt):]==trgt)\n",
    "\n",
    "file_name_list=get_all_files_matching_pattern(file,trgt)\n",
    "print(f\"number of files in list: {len(file_name_list)}\")\n",
    "os.chdir(nb_dir)"
   ]
  },
  {
   "cell_type": "code",
   "execution_count": 29,
   "metadata": {
    "ExecuteTime": {
     "end_time": "2021-06-30T02:40:38.101103Z",
     "start_time": "2021-06-30T02:40:38.085804Z"
    }
   },
   "outputs": [
    {
     "name": "stdout",
     "output_type": "stream",
     "text": [
      "/home/timothytyree/Documents/GitHub/care/notebooks/Data/initial-conditions-suite-3-LR\n",
      "param_qu_tmax_30_Ko_5.4_diffCoef_0.0005_dt_0.025\n"
     ]
    }
   ],
   "source": [
    "input_fn=file\n",
    "os.path.dirname(input_fn)\n",
    "str_lst=input_fn[input_fn.find('/Data/')+len('/Data/'):].split('/')\n",
    "ic_suite_fn=f\"{nb_dir}/Data/\"+str_lst[0]\n",
    "trial_folder_name=str_lst[1]\n",
    "print(ic_suite_fn)\n",
    "print(trial_folder_name)"
   ]
  },
  {
   "cell_type": "code",
   "execution_count": 30,
   "metadata": {
    "ExecuteTime": {
     "end_time": "2021-06-30T02:41:18.596140Z",
     "start_time": "2021-06-30T02:41:18.571832Z"
    }
   },
   "outputs": [],
   "source": [
    "#generate trajectories, unwrapped trajectories, and mean squared displacements for folder of tip logs\n",
    "npartitions=5\n",
    "ds=5\n",
    "width=200\n",
    "kwargs={\n",
    "    'input_fn_lst':file_name_list,\n",
    "    'L':width,\n",
    "    'DS':ds/width,\n",
    "    'use_cache_0':True,\n",
    "    'use_cache_1':True,\n",
    "    'npartitions':npartitions,\n",
    "    'sr':3*width,\n",
    "    'mem':0,\n",
    "    'trial_folder_name':trial_folder_name,\n",
    "    'ic_suite_fn':ic_suite_fn\n",
    "}\n"
   ]
  },
  {
   "cell_type": "code",
   "execution_count": 31,
   "metadata": {
    "ExecuteTime": {
     "end_time": "2021-06-30T02:41:22.775800Z",
     "start_time": "2021-06-30T02:41:20.125637Z"
    }
   },
   "outputs": [
    {
     "name": "stdout",
     "output_type": "stream",
     "text": [
      "the total number of trials recorded is 37\n",
      "reducing 37 unwrapped trajectories files to a single row describing the diffusion coefficient of spiral tips for that trial...\n"
     ]
    },
    {
     "data": {
      "text/plain": [
       "0"
      ]
     },
     "execution_count": 31,
     "metadata": {},
     "output_type": "execute_result"
    }
   ],
   "source": [
    "df_summary=workflow_reduce_logs_to_diffcoeff_summary(**kwargs)\n",
    "beep(7)"
   ]
  },
  {
   "cell_type": "code",
   "execution_count": null,
   "metadata": {
    "ExecuteTime": {
     "start_time": "2021-06-30T21:46:18.816Z"
    }
   },
   "outputs": [],
   "source": [
    "#TODO: fix D and Delta_D measurements for functions that compute df_summary"
   ]
  },
  {
   "cell_type": "markdown",
   "metadata": {},
   "source": [
    "# analyze annihilation/creation events"
   ]
  },
  {
   "cell_type": "markdown",
   "metadata": {},
   "source": [
    "## annihilation events"
   ]
  },
  {
   "cell_type": "code",
   "execution_count": 66,
   "metadata": {
    "ExecuteTime": {
     "end_time": "2021-06-30T19:53:02.139500Z",
     "start_time": "2021-06-30T19:53:01.830171Z"
    }
   },
   "outputs": [
    {
     "name": "stdout",
     "output_type": "stream",
     "text": [
      "/home/timothytyree/Documents/GitHub/care/notebooks/Data/initial-conditions-suite-3-LR/param_qu_tmax_30_Ko_5.4_diffCoef_0.0005_dt_0.025/trajectories/ic004.13_traj_sr_600_mem_0.csv\n",
      "the time resolution is 0.025 ms.\n"
     ]
    }
   ],
   "source": [
    "#select a file from trajectories/\n",
    "# input_fn=search_for_file()\n",
    "#LR\n",
    "# input_fn='/home/timothytyree/Documents/GitHub/care/notebooks/Data/initial-conditions-suite-3-LR/param_qu_tmax_30_Ko_5.4_diffCoef_0.0005_dt_0.5/trajectories/ic001.21_traj_sr_600_mem_0.csv'\n",
    "# # input_fn=f\"/home/timothytyree/Documents/GitHub/care/notebooks/Data/initial-conditions-fk-200x200/param_set_8_ds_5.0_tmax_10_diffCoef_0.0005/Log/ic200x200.0.3_traj_sr_400_mem_0.csv\"\n",
    "# input_fn='/home/timothytyree/Documents/GitHub/care/notebooks/Data/initial-conditions-suite-3-LR/param_qu_tmax_30_Ko_5.4_diffCoef_0.0005_dt_0.025/trajectories/ic002.23_traj_sr_600_mem_0.csv'\n",
    "input_fn='/home/timothytyree/Documents/GitHub/care/notebooks/Data/initial-conditions-suite-3-LR/param_qu_tmax_30_Ko_5.4_diffCoef_0.0005_dt_0.025/trajectories/ic004.13_traj_sr_600_mem_0.csv'\n",
    "\n",
    "#FK\n",
    "# input_fn=f\"/home/timothytyree/Documents/GitHub/care/notebooks/Data/initial-conditions-fk-200x200/param_set_8_ds_5.0_tmax_10_diffCoef_0.0005/Log/ic200x200.0.3_traj_sr_400_mem_0.csv\"\n",
    "ds=5\n",
    "width=200\n",
    "height=width\n",
    "\n",
    "df=pd.read_csv(input_fn);print(input_fn)\n",
    "DT=compute_DT(df,round_t_to_n_digits=3);print(f\"the time resolution is {DT} ms.\")\n",
    "DS=ds/width"
   ]
  },
  {
   "cell_type": "code",
   "execution_count": 67,
   "metadata": {
    "ExecuteTime": {
     "end_time": "2021-06-30T19:53:02.367430Z",
     "start_time": "2021-06-30T19:53:02.335059Z"
    }
   },
   "outputs": [
    {
     "name": "stdout",
     "output_type": "stream",
     "text": [
      "number of files in list: 37\n"
     ]
    }
   ],
   "source": [
    "trgt='_traj_sr_600_mem_0.csv'\n",
    "assert(input_fn[-len(trgt):]==trgt)\n",
    "\n",
    "file_name_list=get_all_files_matching_pattern(input_fn,trgt)\n",
    "print(f\"number of files in list: {len(file_name_list)}\")\n",
    "os.chdir(nb_dir)"
   ]
  },
  {
   "cell_type": "code",
   "execution_count": 68,
   "metadata": {
    "ExecuteTime": {
     "end_time": "2021-06-30T19:53:04.551219Z",
     "start_time": "2021-06-30T19:53:04.528712Z"
    }
   },
   "outputs": [
    {
     "data": {
      "text/html": [
       "<div>\n",
       "<style scoped>\n",
       "    .dataframe tbody tr th:only-of-type {\n",
       "        vertical-align: middle;\n",
       "    }\n",
       "\n",
       "    .dataframe tbody tr th {\n",
       "        vertical-align: top;\n",
       "    }\n",
       "\n",
       "    .dataframe thead th {\n",
       "        text-align: right;\n",
       "    }\n",
       "</style>\n",
       "<table border=\"1\" class=\"dataframe\">\n",
       "  <thead>\n",
       "    <tr style=\"text-align: right;\">\n",
       "      <th></th>\n",
       "      <th>t</th>\n",
       "      <th>n</th>\n",
       "      <th>x</th>\n",
       "      <th>y</th>\n",
       "      <th>grad_ux</th>\n",
       "      <th>grad_uy</th>\n",
       "      <th>grad_vx</th>\n",
       "      <th>grad_vy</th>\n",
       "      <th>frame</th>\n",
       "      <th>particle</th>\n",
       "    </tr>\n",
       "  </thead>\n",
       "  <tbody>\n",
       "    <tr>\n",
       "      <th>0</th>\n",
       "      <td>100.0</td>\n",
       "      <td>6</td>\n",
       "      <td>7.411289</td>\n",
       "      <td>164.337551</td>\n",
       "      <td>11.115080</td>\n",
       "      <td>0.541877</td>\n",
       "      <td>-0.495148</td>\n",
       "      <td>1.063760</td>\n",
       "      <td>0</td>\n",
       "      <td>0</td>\n",
       "    </tr>\n",
       "    <tr>\n",
       "      <th>1</th>\n",
       "      <td>100.0</td>\n",
       "      <td>6</td>\n",
       "      <td>60.237231</td>\n",
       "      <td>134.630483</td>\n",
       "      <td>0.985308</td>\n",
       "      <td>1.006675</td>\n",
       "      <td>1.162123</td>\n",
       "      <td>0.927906</td>\n",
       "      <td>0</td>\n",
       "      <td>1</td>\n",
       "    </tr>\n",
       "    <tr>\n",
       "      <th>2</th>\n",
       "      <td>100.0</td>\n",
       "      <td>6</td>\n",
       "      <td>131.438155</td>\n",
       "      <td>140.397736</td>\n",
       "      <td>-2.704397</td>\n",
       "      <td>4.462986</td>\n",
       "      <td>1.681528</td>\n",
       "      <td>0.365322</td>\n",
       "      <td>0</td>\n",
       "      <td>2</td>\n",
       "    </tr>\n",
       "    <tr>\n",
       "      <th>3</th>\n",
       "      <td>100.0</td>\n",
       "      <td>6</td>\n",
       "      <td>133.085805</td>\n",
       "      <td>3.074293</td>\n",
       "      <td>1.105898</td>\n",
       "      <td>-3.620738</td>\n",
       "      <td>0.856910</td>\n",
       "      <td>7.378265</td>\n",
       "      <td>0</td>\n",
       "      <td>3</td>\n",
       "    </tr>\n",
       "    <tr>\n",
       "      <th>4</th>\n",
       "      <td>100.0</td>\n",
       "      <td>6</td>\n",
       "      <td>172.948788</td>\n",
       "      <td>150.277630</td>\n",
       "      <td>0.445670</td>\n",
       "      <td>1.633366</td>\n",
       "      <td>-6.134807</td>\n",
       "      <td>9.211745</td>\n",
       "      <td>0</td>\n",
       "      <td>4</td>\n",
       "    </tr>\n",
       "  </tbody>\n",
       "</table>\n",
       "</div>"
      ],
      "text/plain": [
       "       t  n           x           y    grad_ux   grad_uy   grad_vx   grad_vy  \\\n",
       "0  100.0  6    7.411289  164.337551  11.115080  0.541877 -0.495148  1.063760   \n",
       "1  100.0  6   60.237231  134.630483   0.985308  1.006675  1.162123  0.927906   \n",
       "2  100.0  6  131.438155  140.397736  -2.704397  4.462986  1.681528  0.365322   \n",
       "3  100.0  6  133.085805    3.074293   1.105898 -3.620738  0.856910  7.378265   \n",
       "4  100.0  6  172.948788  150.277630   0.445670  1.633366 -6.134807  9.211745   \n",
       "\n",
       "   frame  particle  \n",
       "0      0         0  \n",
       "1      0         1  \n",
       "2      0         2  \n",
       "3      0         3  \n",
       "4      0         4  "
      ]
     },
     "execution_count": 68,
     "metadata": {},
     "output_type": "execute_result"
    }
   ],
   "source": [
    "df.head()"
   ]
  },
  {
   "cell_type": "code",
   "execution_count": 69,
   "metadata": {
    "ExecuteTime": {
     "end_time": "2021-06-30T19:53:08.539203Z",
     "start_time": "2021-06-30T19:53:08.513926Z"
    }
   },
   "outputs": [],
   "source": [
    "min_duration=10##20. #ms\n",
    "min_range   =1.  #cm\n",
    "npartitions=11\n",
    "kwargs={\n",
    "    'width':width,\n",
    "    'height':height,\n",
    "    'ds':ds,\n",
    "    'printing':False,\n",
    "    'min_range':min_range,\n",
    "    'min_duration':min_duration,\n",
    "    'npartitions':npartitions,\n",
    "}"
   ]
  },
  {
   "cell_type": "code",
   "execution_count": 70,
   "metadata": {
    "ExecuteTime": {
     "end_time": "2021-06-30T19:53:09.062241Z",
     "start_time": "2021-06-30T19:53:09.038037Z"
    }
   },
   "outputs": [],
   "source": [
    "routine_traj_to_annihilation=get_routine_traj_to_annihilation(**kwargs)\n",
    "def routine(input_fn):\n",
    "    return routine_traj_to_annihilation(input_fn)"
   ]
  },
  {
   "cell_type": "code",
   "execution_count": null,
   "metadata": {
    "ExecuteTime": {
     "start_time": "2021-06-30T19:53:36.896Z"
    }
   },
   "outputs": [],
   "source": [
    "routine(input_fn)\n",
    "\n",
    "\n",
    "#already done deep in pipeline\n",
    "# def filter_before(df,tmin=100,t_column='t'):\n",
    "#     '''filter all time earlier than tmin'''\n",
    "#     tmin=100#ms\n",
    "#     boo=df[t_column]<tmin\n",
    "#     df.drop(df[boo],inplace=True)\n",
    "#     return df"
   ]
  },
  {
   "cell_type": "code",
   "execution_count": 61,
   "metadata": {
    "ExecuteTime": {
     "end_time": "2021-06-30T12:11:08.556536Z",
     "start_time": "2021-06-30T03:05:04.883563Z"
    }
   },
   "outputs": [
    {
     "name": "stdout",
     "output_type": "stream",
     "text": [
      "computing features of annihilation events for 37 trajectory .csv files...\n",
      "token example fn: /home/timothytyree/Documents/GitHub/care/notebooks/Data/initial-conditions-suite-3-LR/param_qu_tmax_30_Ko_5.4_diffCoef_0.0005_dt_0.025/trajectories/ic016.21_traj_sr_600_mem_0.csv\n",
      "run time for computing features of annihilation events was 32763.05 seconds.\n"
     ]
    },
    {
     "data": {
      "text/plain": [
       "0"
      ]
     },
     "execution_count": 61,
     "metadata": {},
     "output_type": "execute_result"
    }
   ],
   "source": [
    "#find all files matching pattern\n",
    "trgt_raw='_traj_'\n",
    "trgt=input_fn[input_fn.find(trgt_raw):]\n",
    "input_fn_lst=get_all_files_matching_pattern(file=input_fn, trgt=trgt)\n",
    "print(f\"computing features of annihilation events for {len(input_fn_lst)} trajectory .csv files...\")\n",
    "print(f\"token example fn: {input_fn_lst[0]}\")\n",
    "#all CPU version\n",
    "b = db.from_sequence(input_fn_lst, npartitions=npartitions).map(routine)\n",
    "start = time.time()\n",
    "retval = list(b)\n",
    "print(f\"run time for computing features of annihilation events was {time.time()-start:.2f} seconds.\")\n",
    "beep(3)"
   ]
  },
  {
   "cell_type": "code",
   "execution_count": null,
   "metadata": {
    "ExecuteTime": {
     "start_time": "2021-06-30T20:54:22.261Z"
    }
   },
   "outputs": [],
   "source": [
    "list_of_files=retval\n",
    "list_of_files=[fn for fn in list_of_files if type(fn)==type(str) and fn.find('Warning:')==-1]"
   ]
  },
  {
   "cell_type": "code",
   "execution_count": null,
   "metadata": {
    "ExecuteTime": {
     "start_time": "2021-06-30T20:54:31.301Z"
    }
   },
   "outputs": [],
   "source": [
    "assert (len(list_of_files)>0)"
   ]
  },
  {
   "cell_type": "code",
   "execution_count": 65,
   "metadata": {
    "ExecuteTime": {
     "end_time": "2021-06-30T19:28:56.759759Z",
     "start_time": "2021-06-30T19:28:56.728465Z"
    }
   },
   "outputs": [
    {
     "ename": "IndexError",
     "evalue": "list index out of range",
     "output_type": "error",
     "traceback": [
      "\u001b[0;31m---------------------------------------------------------------------------\u001b[0m",
      "\u001b[0;31mIndexError\u001b[0m                                Traceback (most recent call last)",
      "\u001b[0;32m<ipython-input-65-739938458fa9>\u001b[0m in \u001b[0;36m<module>\u001b[0;34m\u001b[0m\n\u001b[1;32m      1\u001b[0m \u001b[0;31m#merge all csv files into one big-ol' csv file\u001b[0m\u001b[0;34m\u001b[0m\u001b[0;34m\u001b[0m\u001b[0;34m\u001b[0m\u001b[0m\n\u001b[0;32m----> 2\u001b[0;31m \u001b[0mfile_out\u001b[0m\u001b[0;34m=\u001b[0m\u001b[0mos\u001b[0m\u001b[0;34m.\u001b[0m\u001b[0mpath\u001b[0m\u001b[0;34m.\u001b[0m\u001b[0mjoin\u001b[0m\u001b[0;34m(\u001b[0m\u001b[0mos\u001b[0m\u001b[0;34m.\u001b[0m\u001b[0mpath\u001b[0m\u001b[0;34m.\u001b[0m\u001b[0mdirname\u001b[0m\u001b[0;34m(\u001b[0m\u001b[0mos\u001b[0m\u001b[0;34m.\u001b[0m\u001b[0mpath\u001b[0m\u001b[0;34m.\u001b[0m\u001b[0mdirname\u001b[0m\u001b[0;34m(\u001b[0m\u001b[0mlist_of_files\u001b[0m\u001b[0;34m[\u001b[0m\u001b[0;36m0\u001b[0m\u001b[0;34m]\u001b[0m\u001b[0;34m)\u001b[0m\u001b[0;34m)\u001b[0m\u001b[0;34m,\u001b[0m\u001b[0;34mf'annihilations_minr_{min_range}_mindur_{min_duration}.csv'\u001b[0m\u001b[0;34m)\u001b[0m\u001b[0;34m\u001b[0m\u001b[0;34m\u001b[0m\u001b[0m\n\u001b[0m\u001b[1;32m      3\u001b[0m \u001b[0mreval\u001b[0m\u001b[0;34m=\u001b[0m\u001b[0mproduce_one_csv\u001b[0m\u001b[0;34m(\u001b[0m\u001b[0mlist_of_files\u001b[0m\u001b[0;34m,\u001b[0m \u001b[0mfile_out\u001b[0m\u001b[0;34m)\u001b[0m\u001b[0;31m#, encoding=\"utf-8\")\u001b[0m\u001b[0;34m\u001b[0m\u001b[0;34m\u001b[0m\u001b[0m\n\u001b[1;32m      4\u001b[0m \u001b[0mprint\u001b[0m\u001b[0;34m(\u001b[0m\u001b[0;34m'results saved in:'\u001b[0m\u001b[0;34m)\u001b[0m\u001b[0;34m\u001b[0m\u001b[0;34m\u001b[0m\u001b[0m\n\u001b[1;32m      5\u001b[0m \u001b[0mprint\u001b[0m\u001b[0;34m(\u001b[0m\u001b[0mfile_out\u001b[0m\u001b[0;34m)\u001b[0m\u001b[0;34m\u001b[0m\u001b[0;34m\u001b[0m\u001b[0m\n",
      "\u001b[0;31mIndexError\u001b[0m: list index out of range"
     ]
    }
   ],
   "source": [
    "#merge all csv files into one big-ol' csv file\n",
    "file_out=os.path.join(os.path.dirname(os.path.dirname(list_of_files[0])),f'annihilations_minr_{min_range}_mindur_{min_duration}.csv')\n",
    "reval=produce_one_csv(list_of_files, file_out)#, encoding=\"utf-8\")\n",
    "print('results saved in:')\n",
    "print(file_out)"
   ]
  },
  {
   "cell_type": "markdown",
   "metadata": {},
   "source": [
    "## creation events"
   ]
  },
  {
   "cell_type": "code",
   "execution_count": null,
   "metadata": {
    "ExecuteTime": {
     "end_time": "2021-06-30T12:11:08.738414Z",
     "start_time": "2021-06-30T03:05:46.426Z"
    }
   },
   "outputs": [],
   "source": [
    "routine_traj_to_creation=get_routine_traj_to_creation(**kwargs)\n",
    "def routine(input_fn):\n",
    "    return routine_traj_to_creation(input_fn)"
   ]
  },
  {
   "cell_type": "code",
   "execution_count": null,
   "metadata": {
    "ExecuteTime": {
     "end_time": "2021-06-30T12:11:08.741560Z",
     "start_time": "2021-06-30T03:05:51.558Z"
    }
   },
   "outputs": [],
   "source": [
    "#find all files matching pattern\n",
    "trgt_raw='_traj_'\n",
    "trgt=input_fn[input_fn.find(trgt_raw):]\n",
    "input_fn_lst=get_all_files_matching_pattern(file=input_fn, trgt=trgt)\n",
    "print(f\"computing features of creation events for {len(input_fn_lst)} trajectory .csv files...\")\n",
    "\n",
    "#all CPU version\n",
    "b = db.from_sequence(input_fn_lst, npartitions=npartitions).map(routine)\n",
    "start = time.time()\n",
    "retval = list(b)\n",
    "print(f\"run time for computing features of creation events was {time.time()-start:.2f} seconds.\")\n",
    "beep(3)"
   ]
  },
  {
   "cell_type": "code",
   "execution_count": null,
   "metadata": {
    "ExecuteTime": {
     "end_time": "2021-06-30T12:11:08.744908Z",
     "start_time": "2021-06-30T03:05:54.193Z"
    }
   },
   "outputs": [],
   "source": [
    "list_of_files=retval\n",
    "list_of_files=[fn for fn in list_of_files if fn.find('Warning:')==-1]"
   ]
  },
  {
   "cell_type": "code",
   "execution_count": null,
   "metadata": {
    "ExecuteTime": {
     "end_time": "2021-06-30T12:11:08.748420Z",
     "start_time": "2021-06-30T03:05:58.848Z"
    }
   },
   "outputs": [],
   "source": [
    "assert (len(list_of_files)>0)"
   ]
  },
  {
   "cell_type": "code",
   "execution_count": null,
   "metadata": {
    "ExecuteTime": {
     "end_time": "2021-06-30T12:11:08.752127Z",
     "start_time": "2021-06-30T03:06:00.934Z"
    }
   },
   "outputs": [],
   "source": [
    "#merge all csv files into one big-ol' csv file\n",
    "file_out=os.path.join(os.path.dirname(os.path.dirname(list_of_files[0])),f'creations_minr_{min_range}_mindur_{min_duration}.csv')\n",
    "reval=produce_one_csv(list_of_files, file_out)#, encoding=\"utf-8\")\n",
    "print('results saved in:')\n",
    "print(file_out)"
   ]
  },
  {
   "cell_type": "code",
   "execution_count": null,
   "metadata": {
    "ExecuteTime": {
     "end_time": "2021-06-30T12:11:08.755687Z",
     "start_time": "2021-06-30T03:06:05.043Z"
    }
   },
   "outputs": [],
   "source": [
    "beep(10)"
   ]
  },
  {
   "cell_type": "code",
   "execution_count": null,
   "metadata": {},
   "outputs": [],
   "source": []
  },
  {
   "cell_type": "code",
   "execution_count": null,
   "metadata": {},
   "outputs": [],
   "source": []
  }
 ],
 "metadata": {
  "kernelspec": {
   "display_name": "Python 3",
   "language": "python",
   "name": "python3"
  },
  "language_info": {
   "codemirror_mode": {
    "name": "ipython",
    "version": 3
   },
   "file_extension": ".py",
   "mimetype": "text/x-python",
   "name": "python",
   "nbconvert_exporter": "python",
   "pygments_lexer": "ipython3",
   "version": "3.7.6"
  },
  "toc": {
   "base_numbering": 1,
   "nav_menu": {},
   "number_sections": true,
   "sideBar": true,
   "skip_h1_title": false,
   "title_cell": "Table of Contents",
   "title_sidebar": "Contents",
   "toc_cell": false,
   "toc_position": {},
   "toc_section_display": true,
   "toc_window_display": false
  },
  "varInspector": {
   "cols": {
    "lenName": 16,
    "lenType": 16,
    "lenVar": 40
   },
   "kernels_config": {
    "python": {
     "delete_cmd_postfix": "",
     "delete_cmd_prefix": "del ",
     "library": "var_list.py",
     "varRefreshCmd": "print(var_dic_list())"
    },
    "r": {
     "delete_cmd_postfix": ") ",
     "delete_cmd_prefix": "rm(",
     "library": "var_list.r",
     "varRefreshCmd": "cat(var_dic_list()) "
    }
   },
   "types_to_exclude": [
    "module",
    "function",
    "builtin_function_or_method",
    "instance",
    "_Feature"
   ],
   "window_display": false
  }
 },
 "nbformat": 4,
 "nbformat_minor": 4
}
