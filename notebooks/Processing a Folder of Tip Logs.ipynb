{
 "cells": [
  {
   "cell_type": "markdown",
   "metadata": {},
   "source": [
    "# Processing a Folder of Tip Logs\n",
    "Tim Tyree<br>\n",
    "6.22.2021"
   ]
  },
  {
   "cell_type": "code",
   "execution_count": 1,
   "metadata": {
    "ExecuteTime": {
     "end_time": "2021-07-08T22:38:12.039546Z",
     "start_time": "2021-07-08T22:38:10.771187Z"
    }
   },
   "outputs": [
    {
     "name": "stdout",
     "output_type": "stream",
     "text": [
      "Automatic calling is: Smart\n"
     ]
    }
   ],
   "source": [
    "from lib.my_initialization import *\n",
    "from lib import *\n",
    "\n",
    "from lib.my_initialization import *\n",
    "from lib.utils.utils_traj import *\n",
    "\n",
    "from lib.utils.operari import *\n",
    "\n",
    "\n",
    "import trackpy, pandas as pd, numpy as np\n",
    "from lib import *\n",
    "from lib.routines.track_tips import *\n",
    "from lib.utils.dist_func import *\n",
    "from lib.utils.utils_traj import *\n",
    "\n",
    "from lib.routines.compute_trajectories import *\n",
    "from lib.routines.dag_log_to_msd import *\n",
    "from lib.routines.compute_msd import *\n",
    "\n",
    "import trackpy\n",
    "%autocall 1\n",
    "%load_ext autoreload\n",
    "%autoreload 2\n",
    "# awareness&chill"
   ]
  },
  {
   "cell_type": "markdown",
   "metadata": {},
   "source": [
    "# particle tracking and computation of mean squared displacements for a folder of tip logs"
   ]
  },
  {
   "cell_type": "code",
   "execution_count": 6,
   "metadata": {
    "ExecuteTime": {
     "end_time": "2021-07-08T22:41:19.579939Z",
     "start_time": "2021-07-08T22:41:19.557974Z"
    }
   },
   "outputs": [
    {
     "name": "stdout",
     "output_type": "stream",
     "text": [
      "/home/timothytyree/Documents/GitHub/care/notebooks/Data/initial-conditions-suite-3-LR/param_qu_tmax_30_Ko_5.4_diffCoef_0.0005_dt_0.025/Log/ic001.21_log.csv\n",
      "number of files in list: 159\n"
     ]
    }
   ],
   "source": [
    "# #find file interactively\n",
    "# print(\"please select a file from within the desired folder.\")\n",
    "# file = search_for_file()\n",
    "# file='/home/timothytyree/Documents/GitHub/care/notebooks/Data/initial-conditions-suite-3-LR/param_qu_tmax_30_Ko_5.4_diffCoef_0.0005_dt_0.5/Log/ic001.21_log.csv'\n",
    "print(file)\n",
    "# file='/home/timothytyree/Documents/GitHub/care/notebooks/Data/initial-conditions-suite-2/ds_2_param_set_8/Log/ic_200x200.001.12_log.csv'\n",
    "input_fn=file\n",
    "# ds=10\n",
    "# width=10\n",
    "ds=5\n",
    "width=200\n",
    "height=width\n",
    "DS=ds/width\n",
    "\n",
    "# # input_fn=search_for_file()\n",
    "# input_fn=f\"/home/timothytyree/Documents/GitHub/care/notebooks/Data/initial-conditions-fk-200x200/param_set_8_ds_5.0_tmax_10_diffCoef_0.0005/Log/ic200x200.0.3_traj_sr_400_mem_0.csv\"\n",
    "# df=pd.read_csv(input_fn)\n",
    "# print(input_fn)\n",
    "# DT=compute_DT(df,round_t_to_n_digits=3);print(f\"the time resolution is {DT} ms.\")\n",
    "\n",
    "trgt='log.csv'\n",
    "assert(file[-len(trgt):]==trgt)\n",
    "\n",
    "file_name_list=get_all_files_matching_pattern(file,trgt)\n",
    "print(f\"number of files in list: {len(file_name_list)}\")\n",
    "os.chdir(nb_dir)"
   ]
  },
  {
   "cell_type": "code",
   "execution_count": 9,
   "metadata": {
    "ExecuteTime": {
     "end_time": "2021-07-08T22:41:54.496149Z",
     "start_time": "2021-07-08T22:41:54.477843Z"
    }
   },
   "outputs": [],
   "source": [
    "# df.head()\n",
    "\n",
    "#Does df need to have the column, 'frame'?"
   ]
  },
  {
   "cell_type": "code",
   "execution_count": 10,
   "metadata": {
    "ExecuteTime": {
     "end_time": "2021-07-08T22:41:55.831185Z",
     "start_time": "2021-07-08T22:41:55.812889Z"
    }
   },
   "outputs": [
    {
     "name": "stdout",
     "output_type": "stream",
     "text": [
      "/home/timothytyree/Documents/GitHub/care/notebooks/Data/initial-conditions-suite-3-LR\n",
      "param_qu_tmax_30_Ko_5.4_diffCoef_0.0005_dt_0.025\n"
     ]
    }
   ],
   "source": [
    "#works for repositories outside of care\n",
    "input_fn=file\n",
    "trial_folder_name=os.path.dirname(os.path.dirname(input_fn))\n",
    "ic_suite_fn=os.path.dirname(trial_folder_name)\n",
    "# ic_suite_fn=ic_suite_fn.split('/')[-1]\n",
    "print(ic_suite_fn)\n",
    "trial_folder_name=trial_folder_name.split('/')[-1]\n",
    "print(trial_folder_name)"
   ]
  },
  {
   "cell_type": "code",
   "execution_count": 11,
   "metadata": {
    "ExecuteTime": {
     "end_time": "2021-07-08T22:41:57.843926Z",
     "start_time": "2021-07-08T22:41:57.829813Z"
    }
   },
   "outputs": [],
   "source": [
    "# input_fn=file\n",
    "# os.path.dirname(input_fn)\n",
    "# str_lst=input_fn[input_fn.find('/Data/')+len('/Data/'):].split('/')\n",
    "# ic_suite_fn=f\"{nb_dir}/Data/\"+str_lst[0]\n",
    "# trial_folder_name=str_lst[1]\n",
    "# print(ic_suite_fn)\n",
    "# print(trial_folder_name)"
   ]
  },
  {
   "cell_type": "code",
   "execution_count": 12,
   "metadata": {
    "ExecuteTime": {
     "end_time": "2021-07-08T22:42:09.874595Z",
     "start_time": "2021-07-08T22:42:09.854698Z"
    }
   },
   "outputs": [],
   "source": [
    "#generate trajectories, unwrapped trajectories, and mean squared displacements for folder of tip logs\n",
    "npartitions=os.cpu_count()\n",
    "\n",
    "# #particle models\n",
    "# ds=10\n",
    "# width=10\n",
    "# kwargs={\n",
    "#     'input_fn_lst':file_name_list,\n",
    "#     'L':width,\n",
    "#     'DS':ds/width,\n",
    "#     'use_cache_0':True,\n",
    "#     'use_cache_1':True,\n",
    "#     'npartitions':npartitions,\n",
    "#     'sr':3*width,\n",
    "#     'mem':0,\n",
    "#     'trial_folder_name':trial_folder_name,\n",
    "#     'ic_suite_fn':ic_suite_fn\n",
    "# }\n",
    "\n",
    "#full models\n",
    "ds=5\n",
    "width=200\n",
    "kwargs={\n",
    "    'input_fn_lst':file_name_list,\n",
    "    'L':width,\n",
    "    'DS':ds/width,\n",
    "    'use_cache_0':True,\n",
    "    'use_cache_1':True,\n",
    "    'npartitions':npartitions,\n",
    "    'sr':3*width,\n",
    "    'mem':0,\n",
    "    'trial_folder_name':trial_folder_name,\n",
    "    'ic_suite_fn':ic_suite_fn\n",
    "}\n"
   ]
  },
  {
   "cell_type": "code",
   "execution_count": null,
   "metadata": {
    "ExecuteTime": {
     "start_time": "2021-07-08T22:42:15.193Z"
    }
   },
   "outputs": [
    {
     "name": "stdout",
     "output_type": "stream",
     "text": [
      "Frame 91412: 2 trajectories present.\n"
     ]
    }
   ],
   "source": [
    "df_summary=workflow_reduce_logs_to_diffcoeff_summary(**kwargs)\n",
    "beep(1)"
   ]
  },
  {
   "cell_type": "code",
   "execution_count": 20,
   "metadata": {
    "ExecuteTime": {
     "end_time": "2021-07-02T01:31:10.514955Z",
     "start_time": "2021-07-02T01:31:10.449386Z"
    }
   },
   "outputs": [],
   "source": [
    "#TODO: fix D and Delta_D measurements for functions that compute df_summary"
   ]
  },
  {
   "cell_type": "markdown",
   "metadata": {},
   "source": [
    "# analyze annihilation/creation events"
   ]
  },
  {
   "cell_type": "markdown",
   "metadata": {},
   "source": [
    "## annihilation events"
   ]
  },
  {
   "cell_type": "code",
   "execution_count": null,
   "metadata": {
    "ExecuteTime": {
     "start_time": "2021-07-08T22:43:26.776Z"
    }
   },
   "outputs": [],
   "source": [
    "#select a file from trajectories/\n",
    "# input_fn=search_for_file()\n",
    "\n",
    "# #particle model\n",
    "# input_fn=\"/Users/timothytyree/Documents/GitHub/bgmc/python/data/local_results/euic_False_fc_2_r_0.1_D_2_L_10_kappa_1500_varkappa_5/trajectories/pbc_particle_log81_traj_sr_30_mem_0.csv\"\n",
    "# ds=10\n",
    "# width=10\n",
    "\n",
    "\n",
    "#LR\n",
    "# input_fn='/home/timothytyree/Documents/GitHub/care/notebooks/Data/initial-conditions-suite-3-LR/param_qu_tmax_30_Ko_5.4_diffCoef_0.0005_dt_0.5/trajectories/ic001.21_traj_sr_600_mem_0.csv'\n",
    "# # input_fn=f\"/home/timothytyree/Documents/GitHub/care/notebooks/Data/initial-conditions-fk-200x200/param_set_8_ds_5.0_tmax_10_diffCoef_0.0005/Log/ic200x200.0.3_traj_sr_400_mem_0.csv\"\n",
    "# input_fn='/home/timothytyree/Documents/GitHub/care/notebooks/Data/initial-conditions-suite-3-LR/param_qu_tmax_30_Ko_5.4_diffCoef_0.0005_dt_0.025/trajectories/ic002.23_traj_sr_600_mem_0.csv'\n",
    "input_fn='/home/timothytyree/Documents/GitHub/care/notebooks/Data/initial-conditions-suite-3-LR/param_qu_tmax_30_Ko_5.4_diffCoef_0.0005_dt_0.025/trajectories/ic004.13_traj_sr_600_mem_0.csv'\n",
    "\n",
    "#FK\n",
    "# input_fn=f\"/home/timothytyree/Documents/GitHub/care/notebooks/Data/initial-conditions-fk-200x200/param_set_8_ds_5.0_tmax_10_diffCoef_0.0005/Log/ic200x200.0.3_traj_sr_400_mem_0.csv\"\n",
    "ds=5\n",
    "width=200\n",
    "\n",
    "height=width\n",
    "df=pd.read_csv(input_fn);print(input_fn)\n",
    "DT=compute_DT(df,round_t_to_n_digits=5);print(f\"the time resolution is {DT} ms.\")\n",
    "DS=ds/width"
   ]
  },
  {
   "cell_type": "code",
   "execution_count": null,
   "metadata": {
    "ExecuteTime": {
     "end_time": "2021-07-02T01:35:24.950696Z",
     "start_time": "2021-07-02T01:35:24.863449Z"
    }
   },
   "outputs": [],
   "source": []
  },
  {
   "cell_type": "code",
   "execution_count": null,
   "metadata": {
    "ExecuteTime": {
     "start_time": "2021-07-08T22:43:34.642Z"
    }
   },
   "outputs": [],
   "source": [
    "trgt=input_fn[input_fn.find('_traj_'):]\n",
    "# trgt='_traj_sr_600_mem_0.csv'\n",
    "assert(input_fn[-len(trgt):]==trgt)\n",
    "\n",
    "file_name_list=get_all_files_matching_pattern(input_fn,trgt)\n",
    "print(f\"number of files in list: {len(file_name_list)}\")\n",
    "os.chdir(nb_dir)"
   ]
  },
  {
   "cell_type": "code",
   "execution_count": 5,
   "metadata": {
    "ExecuteTime": {
     "end_time": "2021-07-06T16:48:32.023529Z",
     "start_time": "2021-07-06T16:48:31.929244Z"
    }
   },
   "outputs": [],
   "source": [
    "# df.head()"
   ]
  },
  {
   "cell_type": "code",
   "execution_count": null,
   "metadata": {
    "ExecuteTime": {
     "start_time": "2021-07-08T22:44:53.674Z"
    }
   },
   "outputs": [],
   "source": [
    "# #particle model\n",
    "min_duration=20  #20. #ms\n",
    "min_range   =1  #cm\n",
    "filter_beginning=True\n",
    "use_min_duration=True\n",
    "use_grad_voltage=False\n",
    "range_threshold=10 #cm\n",
    "round_t_to_n_digits=5\n",
    "tmin=100.\n",
    "\n",
    "#full model\n",
    "min_duration=20##20. #ms\n",
    "min_range   =1.  #cm\n",
    "filter_beginning=True\n",
    "use_min_duration=True\n",
    "use_grad_voltage=True\n",
    "tmin=100#ms\n",
    "\n",
    "\n",
    "# npartitions=1#1\n",
    "npartitions=os.cpu_count()\n",
    "\n",
    "kwargs={\n",
    "    'width':width,\n",
    "    'height':height,\n",
    "    'ds':ds,\n",
    "    'printing':False,\n",
    "    'min_range':min_range,\n",
    "    'min_duration':min_duration,\n",
    "    'npartitions':npartitions,\n",
    "    'filter_beginning':filter_beginning,\n",
    "    'use_grad_voltage':use_grad_voltage,\n",
    "    'use_min_duration':use_min_duration,\n",
    "    'range_threshold':range_threshold,\n",
    "    'round_t_to_n_digits':round_t_to_n_digits,\n",
    "    'tmin':tmin\n",
    "}"
   ]
  },
  {
   "cell_type": "code",
   "execution_count": null,
   "metadata": {
    "ExecuteTime": {
     "start_time": "2021-07-08T22:44:57.502Z"
    }
   },
   "outputs": [],
   "source": [
    "routine_traj_to_annihilation=get_routine_traj_to_annihilation(**kwargs)\n",
    "def routine(input_fn):\n",
    "    return routine_traj_to_annihilation(input_fn)"
   ]
  },
  {
   "cell_type": "code",
   "execution_count": 8,
   "metadata": {
    "ExecuteTime": {
     "end_time": "2021-07-06T16:48:37.725958Z",
     "start_time": "2021-07-06T16:48:37.636244Z"
    }
   },
   "outputs": [],
   "source": [
    "# df_phases = compute_annihilation_events(input_fn, **kwargs)\n",
    "\n",
    "# type(df_phases)==type(pd.DataFrame())"
   ]
  },
  {
   "cell_type": "code",
   "execution_count": 9,
   "metadata": {
    "ExecuteTime": {
     "end_time": "2021-07-06T16:48:42.261551Z",
     "start_time": "2021-07-06T16:48:38.573330Z"
    }
   },
   "outputs": [
    {
     "data": {
      "text/plain": [
       "'/Users/timothytyree/Documents/GitHub/bgmc/python/data/local_results/euic_False_fc_2_r_0.1_D_2_L_10_kappa_1500_varkappa_5/annihilations/pbc_particle_log81_traj_sr_30_mem_0_annihilations.csv'"
      ]
     },
     "execution_count": 9,
     "metadata": {},
     "output_type": "execute_result"
    }
   ],
   "source": [
    "#test the routine on one case\n",
    "# routine(input_fn)\n",
    "\n",
    "# #already done deep in pipeline\n",
    "# # def filter_before(df,tmin=100,t_column='t'):\n",
    "# #     '''filter all time earlier than tmin'''\n",
    "# #     tmin=100#ms\n",
    "# #     boo=df[t_column]<tmin\n",
    "# #     df.drop(df[boo],inplace=True)\n",
    "# #     return df"
   ]
  },
  {
   "cell_type": "code",
   "execution_count": 10,
   "metadata": {
    "ExecuteTime": {
     "end_time": "2021-07-06T16:48:45.553014Z",
     "start_time": "2021-07-06T16:48:45.460777Z"
    }
   },
   "outputs": [],
   "source": [
    "# #compute interactions\n",
    "# df_interactions = compute_df_interactions(input_fn, DS=DS,width=width,height=height,tmin=tmin)\n",
    "# df_interactions.dropna(inplace=True)\n",
    "# death_ranges = DS * df_interactions.rT.values\n",
    "# birth_ranges = DS * df_interactions.r0.values\n",
    "# df_interactions.head()"
   ]
  },
  {
   "cell_type": "code",
   "execution_count": 11,
   "metadata": {
    "ExecuteTime": {
     "end_time": "2021-07-06T16:48:46.347412Z",
     "start_time": "2021-07-06T16:48:46.251236Z"
    }
   },
   "outputs": [],
   "source": [
    "# #TODO: investigate 1 annihilation event in detail...\n",
    "# df.head()"
   ]
  },
  {
   "cell_type": "code",
   "execution_count": 12,
   "metadata": {
    "ExecuteTime": {
     "end_time": "2021-07-06T16:48:47.722946Z",
     "start_time": "2021-07-06T16:48:47.632664Z"
    }
   },
   "outputs": [],
   "source": [
    "# #TODO: fix this bug... Is df_interactions empty in compute_annihilation_events?\n",
    "# df_phases = compute_annihilation_events(input_fn, **kwargs)"
   ]
  },
  {
   "cell_type": "code",
   "execution_count": null,
   "metadata": {
    "ExecuteTime": {
     "start_time": "2021-07-08T22:45:23.561Z"
    }
   },
   "outputs": [],
   "source": [
    "#find all files matching pattern\n",
    "trgt_raw='_traj_'\n",
    "trgt=input_fn[input_fn.find(trgt_raw):]\n",
    "input_fn_lst=get_all_files_matching_pattern(file=input_fn, trgt=trgt)\n",
    "print(f\"computing features of annihilation events for {len(input_fn_lst)} trajectory .csv files...\")\n",
    "print(f\"token example fn: {input_fn_lst[0]}\")\n",
    "#all CPU version\n",
    "b = db.from_sequence(input_fn_lst, npartitions=npartitions).map(routine)\n",
    "start = time.time()\n",
    "retval = list(b)\n",
    "print(f\"run time for computing features of annihilation events was {time.time()-start:.2f} seconds.\")\n",
    "beep(3)"
   ]
  },
  {
   "cell_type": "code",
   "execution_count": null,
   "metadata": {
    "ExecuteTime": {
     "start_time": "2021-07-08T22:45:25.352Z"
    }
   },
   "outputs": [],
   "source": [
    "list_of_files=retval\n",
    "list_of_files=[fn for fn in list_of_files if type(fn)==type(str()) and fn.find('Warning:')==-1]"
   ]
  },
  {
   "cell_type": "code",
   "execution_count": null,
   "metadata": {
    "ExecuteTime": {
     "start_time": "2021-07-08T22:45:26.256Z"
    }
   },
   "outputs": [],
   "source": [
    "# fn=retval[0]\n",
    "# type(fn)==type(str())"
   ]
  },
  {
   "cell_type": "code",
   "execution_count": null,
   "metadata": {
    "ExecuteTime": {
     "start_time": "2021-07-08T22:45:33.393Z"
    }
   },
   "outputs": [],
   "source": [
    "assert (len(list_of_files)>0)"
   ]
  },
  {
   "cell_type": "code",
   "execution_count": null,
   "metadata": {
    "ExecuteTime": {
     "start_time": "2021-07-08T22:45:50.893Z"
    }
   },
   "outputs": [],
   "source": [
    "#merge all csv files into one big-ol' csv file\n",
    "file_out=os.path.join(os.path.dirname(os.path.dirname(list_of_files[0])),f'annihilations_minr_{min_range}_mindur_{min_duration}.csv')\n",
    "reval=produce_one_csv(list_of_files, file_out)#, encoding=\"utf-8\")\n",
    "print('results saved in:')\n",
    "print(file_out)"
   ]
  },
  {
   "cell_type": "markdown",
   "metadata": {},
   "source": [
    "## creation events"
   ]
  },
  {
   "cell_type": "code",
   "execution_count": null,
   "metadata": {
    "ExecuteTime": {
     "start_time": "2021-07-08T22:45:57.759Z"
    }
   },
   "outputs": [],
   "source": [
    "routine_traj_to_creation=get_routine_traj_to_creation(**kwargs)\n",
    "def routine(input_fn):\n",
    "    return routine_traj_to_creation(input_fn)"
   ]
  },
  {
   "cell_type": "code",
   "execution_count": null,
   "metadata": {
    "ExecuteTime": {
     "start_time": "2021-07-08T22:46:00.167Z"
    }
   },
   "outputs": [],
   "source": [
    "#find all files matching pattern\n",
    "trgt_raw='_traj_'\n",
    "trgt=input_fn[input_fn.find(trgt_raw):]\n",
    "input_fn_lst=get_all_files_matching_pattern(file=input_fn, trgt=trgt)\n",
    "print(f\"computing features of creation events for {len(input_fn_lst)} trajectory .csv files...\")\n",
    "\n",
    "#all CPU version\n",
    "b = db.from_sequence(input_fn_lst, npartitions=npartitions).map(routine)\n",
    "start = time.time()\n",
    "retval = list(b)\n",
    "print(f\"run time for computing features of creation events was {time.time()-start:.2f} seconds.\")\n",
    "beep(3)"
   ]
  },
  {
   "cell_type": "code",
   "execution_count": null,
   "metadata": {
    "ExecuteTime": {
     "start_time": "2021-07-08T22:46:02.794Z"
    }
   },
   "outputs": [],
   "source": [
    "list_of_files=retval\n",
    "list_of_files=[fn for fn in list_of_files if type(fn)==type(str()) and fn.find('Warning:')==-1]\n",
    "# list_of_files=[fn for fn in list_of_files if fn.find('Warning:')==-1]"
   ]
  },
  {
   "cell_type": "code",
   "execution_count": null,
   "metadata": {
    "ExecuteTime": {
     "start_time": "2021-07-08T22:46:04.727Z"
    }
   },
   "outputs": [],
   "source": [
    "print(len(list_of_files))\n",
    "assert (len(list_of_files)>0)"
   ]
  },
  {
   "cell_type": "code",
   "execution_count": null,
   "metadata": {
    "ExecuteTime": {
     "start_time": "2021-07-08T22:46:07.783Z"
    }
   },
   "outputs": [],
   "source": [
    "#merge all csv files into one big-ol' csv file\n",
    "file_out=os.path.join(os.path.dirname(os.path.dirname(list_of_files[0])),f'creations_minr_{min_range}_mindur_{min_duration}.csv')\n",
    "reval=produce_one_csv(list_of_files, file_out)#, encoding=\"utf-8\")\n",
    "print('results saved in:')\n",
    "print(file_out)"
   ]
  },
  {
   "cell_type": "code",
   "execution_count": null,
   "metadata": {
    "ExecuteTime": {
     "start_time": "2021-07-08T22:46:09.122Z"
    }
   },
   "outputs": [],
   "source": [
    "beep(10)"
   ]
  },
  {
   "cell_type": "code",
   "execution_count": null,
   "metadata": {},
   "outputs": [],
   "source": []
  },
  {
   "cell_type": "code",
   "execution_count": null,
   "metadata": {},
   "outputs": [],
   "source": []
  }
 ],
 "metadata": {
  "kernelspec": {
   "display_name": "Python 3",
   "language": "python",
   "name": "python3"
  },
  "language_info": {
   "codemirror_mode": {
    "name": "ipython",
    "version": 3
   },
   "file_extension": ".py",
   "mimetype": "text/x-python",
   "name": "python",
   "nbconvert_exporter": "python",
   "pygments_lexer": "ipython3",
   "version": "3.7.6"
  },
  "toc": {
   "base_numbering": 1,
   "nav_menu": {},
   "number_sections": true,
   "sideBar": true,
   "skip_h1_title": false,
   "title_cell": "Table of Contents",
   "title_sidebar": "Contents",
   "toc_cell": false,
   "toc_position": {},
   "toc_section_display": true,
   "toc_window_display": false
  },
  "varInspector": {
   "cols": {
    "lenName": 16,
    "lenType": 16,
    "lenVar": 40
   },
   "kernels_config": {
    "python": {
     "delete_cmd_postfix": "",
     "delete_cmd_prefix": "del ",
     "library": "var_list.py",
     "varRefreshCmd": "print(var_dic_list())"
    },
    "r": {
     "delete_cmd_postfix": ") ",
     "delete_cmd_prefix": "rm(",
     "library": "var_list.r",
     "varRefreshCmd": "cat(var_dic_list()) "
    }
   },
   "types_to_exclude": [
    "module",
    "function",
    "builtin_function_or_method",
    "instance",
    "_Feature"
   ],
   "window_display": false
  }
 },
 "nbformat": 4,
 "nbformat_minor": 4
}
