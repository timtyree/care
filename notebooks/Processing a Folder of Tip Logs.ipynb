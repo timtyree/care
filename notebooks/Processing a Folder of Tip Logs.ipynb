{
 "cells": [
  {
   "cell_type": "markdown",
   "metadata": {},
   "source": [
    "# Processing a Folder of Tip Logs\n",
    "Tim Tyree<br>\n",
    "6.22.2021"
   ]
  },
  {
   "cell_type": "code",
   "execution_count": 7,
   "metadata": {
    "ExecuteTime": {
     "end_time": "2021-07-22T02:20:25.430430Z",
     "start_time": "2021-07-22T02:20:25.293363Z"
    }
   },
   "outputs": [
    {
     "name": "stdout",
     "output_type": "stream",
     "text": [
      "Automatic calling is: Smart\n",
      "The autoreload extension is already loaded. To reload it, use:\n",
      "  %reload_ext autoreload\n"
     ]
    }
   ],
   "source": [
    "from lib.my_initialization import *\n",
    "from lib import *\n",
    "\n",
    "from lib.my_initialization import *\n",
    "from lib.utils.utils_traj import *\n",
    "\n",
    "from lib.utils.operari import *\n",
    "\n",
    "\n",
    "import trackpy, pandas as pd, numpy as np\n",
    "from lib import *\n",
    "from lib.routines.track_tips import *\n",
    "from lib.utils.dist_func import *\n",
    "from lib.utils.utils_traj import *\n",
    "\n",
    "from lib.routines.compute_trajectories import *\n",
    "from lib.routines.dag_log_to_msd import *\n",
    "from lib.routines.compute_msd import *\n",
    "\n",
    "from lib.utils.utils_traj import get_DT\n",
    "from lib.routines import *\n",
    "\n",
    "import trackpy\n",
    "%autocall 1\n",
    "%load_ext autoreload\n",
    "%autoreload 2\n",
    "# awareness&chill"
   ]
  },
  {
   "cell_type": "markdown",
   "metadata": {
    "heading_collapsed": true
   },
   "source": [
    "# particle tracking by nearest neighbors for a folder of tip logs"
   ]
  },
  {
   "cell_type": "code",
   "execution_count": 3,
   "metadata": {
    "ExecuteTime": {
     "end_time": "2021-07-19T18:11:11.664757Z",
     "start_time": "2021-07-19T18:10:52.215191Z"
    },
    "hidden": true
   },
   "outputs": [
    {
     "name": "stdout",
     "output_type": "stream",
     "text": [
      "please select a file from within the desired folder.\n",
      "File: /home/timothytyree/Documents/GitHub/care/notebooks/Data/initial-conditions-fk-200x200/param_set_8_ds_5.0_tmax_30_diffCoef_0.001_dt_0.025/Log/ic200x200.0.3_log.csv\n",
      "/home/timothytyree/Documents/GitHub/care/notebooks/Data/initial-conditions-fk-200x200/param_set_8_ds_5.0_tmax_30_diffCoef_0.001_dt_0.025/Log/ic200x200.0.3_log.csv\n",
      "number of files in list: 324\n"
     ]
    }
   ],
   "source": [
    "# #find file interactively\n",
    "print(\"please select a file from within the desired folder.\")\n",
    "file = search_for_file()\n",
    "# file='/home/timothytyree/Documents/GitHub/care/notebooks/Data/initial-conditions-suite-3-LR/param_qu_tmax_30_Ko_5.4_diffCoef_0.0005_dt_0.5/Log/ic001.21_log.csv'\n",
    "print(file)\n",
    "# file='/home/timothytyree/Documents/GitHub/care/notebooks/Data/initial-conditions-suite-2/ds_2_param_set_8/Log/ic_200x200.001.12_log.csv'\n",
    "input_fn=file\n",
    "# ds=10\n",
    "# width=10\n",
    "ds=5\n",
    "width=200\n",
    "height=width\n",
    "DS=ds/width\n",
    "\n",
    "# # input_fn=search_for_file()\n",
    "# input_fn=f\"/home/timothytyree/Documents/GitHub/care/notebooks/Data/initial-conditions-fk-200x200/param_set_8_ds_5.0_tmax_10_diffCoef_0.0005/Log/ic200x200.0.3_traj_sr_400_mem_0.csv\"\n",
    "# df=pd.read_csv(input_fn)\n",
    "# print(input_fn)\n",
    "# DT=compute_DT(df,round_t_to_n_digits=3);print(f\"the time resolution is {DT} ms.\")\n",
    "\n",
    "trgt='log.csv'\n",
    "assert(file[-len(trgt):]==trgt)\n",
    "\n",
    "file_name_list=get_all_files_matching_pattern(file,trgt)\n",
    "print(f\"number of files in list: {len(file_name_list)}\")\n",
    "os.chdir(nb_dir)"
   ]
  },
  {
   "cell_type": "code",
   "execution_count": 4,
   "metadata": {
    "ExecuteTime": {
     "end_time": "2021-07-19T18:11:47.451488Z",
     "start_time": "2021-07-19T18:11:47.438480Z"
    },
    "hidden": true
   },
   "outputs": [],
   "source": [
    "# df.head()\n",
    "\n",
    "#Does df need to have the column, 'frame'?"
   ]
  },
  {
   "cell_type": "code",
   "execution_count": 5,
   "metadata": {
    "ExecuteTime": {
     "end_time": "2021-07-19T18:11:49.347754Z",
     "start_time": "2021-07-19T18:11:49.331981Z"
    },
    "hidden": true
   },
   "outputs": [
    {
     "name": "stdout",
     "output_type": "stream",
     "text": [
      "/home/timothytyree/Documents/GitHub/care/notebooks/Data/initial-conditions-fk-200x200\n",
      "param_set_8_ds_5.0_tmax_30_diffCoef_0.001_dt_0.025\n"
     ]
    }
   ],
   "source": [
    "#works for repositories outside of care\n",
    "input_fn=file\n",
    "trial_folder_name=os.path.dirname(os.path.dirname(input_fn))\n",
    "ic_suite_fn=os.path.dirname(trial_folder_name)\n",
    "# ic_suite_fn=ic_suite_fn.split('/')[-1]\n",
    "print(ic_suite_fn)\n",
    "trial_folder_name=trial_folder_name.split('/')[-1]\n",
    "print(trial_folder_name)"
   ]
  },
  {
   "cell_type": "code",
   "execution_count": 6,
   "metadata": {
    "ExecuteTime": {
     "end_time": "2021-07-19T18:11:51.063759Z",
     "start_time": "2021-07-19T18:11:51.045424Z"
    },
    "hidden": true
   },
   "outputs": [],
   "source": [
    "# input_fn=file\n",
    "# os.path.dirname(input_fn)\n",
    "# str_lst=input_fn[input_fn.find('/Data/')+len('/Data/'):].split('/')\n",
    "# ic_suite_fn=f\"{nb_dir}/Data/\"+str_lst[0]\n",
    "# trial_folder_name=str_lst[1]\n",
    "# print(ic_suite_fn)\n",
    "# print(trial_folder_name)"
   ]
  },
  {
   "cell_type": "code",
   "execution_count": 7,
   "metadata": {
    "ExecuteTime": {
     "end_time": "2021-07-19T18:11:56.172645Z",
     "start_time": "2021-07-19T18:11:56.152973Z"
    },
    "hidden": true
   },
   "outputs": [],
   "source": [
    "#generate trajectories, unwrapped trajectories, and mean squared displacements for folder of tip logs\n",
    "npartitions=os.cpu_count()\n",
    "\n",
    "# #particle models\n",
    "# ds=10\n",
    "# width=10\n",
    "# kwargs={\n",
    "#     'input_fn_lst':file_name_list,\n",
    "#     'L':width,\n",
    "#     'DS':ds/width,\n",
    "#     'use_cache_0':True,\n",
    "#     'use_cache_1':True,\n",
    "#     'npartitions':npartitions,\n",
    "#     'sr':3*width,\n",
    "#     'mem':0,\n",
    "#     'trial_folder_name':trial_folder_name,\n",
    "#     'ic_suite_fn':ic_suite_fn\n",
    "# }\n",
    "\n",
    "#full models\n",
    "ds=5\n",
    "width=200\n",
    "kwargs={\n",
    "    'input_fn_lst':file_name_list,\n",
    "    'L':width,\n",
    "    'DS':ds/width,\n",
    "    'use_cache_0':True,\n",
    "    'use_cache_1':True,\n",
    "    'npartitions':npartitions,\n",
    "    'sr':3*width,\n",
    "    'mem':0,\n",
    "    'trial_folder_name':trial_folder_name,\n",
    "    'ic_suite_fn':ic_suite_fn\n",
    "}\n"
   ]
  },
  {
   "cell_type": "code",
   "execution_count": 8,
   "metadata": {
    "ExecuteTime": {
     "end_time": "2021-07-20T14:19:22.384735Z",
     "start_time": "2021-07-19T18:11:57.667554Z"
    },
    "hidden": true
   },
   "outputs": [
    {
     "name": "stdout",
     "output_type": "stream",
     "text": [
      "Frame 148671: 2 trajectories present.\n",
      "reducing 324 unwrapped trajectories files to a single row describing the diffusion coefficient of spiral tips for that trial...\n",
      "Num. file names in list = 324.\n",
      "saved figure in \n",
      "\t/home/timothytyree/Documents/GitHub/care/notebooks/Data/initial-conditions-fk-200x200/param_set_8_ds_5.0_tmax_30_diffCoef_0.001_dt_0.025/msd/fig\n",
      "saved figure in \n",
      "\t/home/timothytyree/Documents/GitHub/care/notebooks/Data/initial-conditions-fk-200x200/param_set_8_ds_5.0_tmax_30_diffCoef_0.001_dt_0.025/msd/fig\n",
      "saved figure in \n",
      "\t/home/timothytyree/Documents/GitHub/care/notebooks/Data/initial-conditions-fk-200x200/param_set_8_ds_5.0_tmax_30_diffCoef_0.001_dt_0.025/msd/fig\n",
      "generating diffcoeff_figures for param_set_8_ds_5.0_tmax_30_diffCoef_0.001_dt_0.025\n",
      "\tnum. trials that didn't show a tip lasing longer than 150ms is 0, and that didn't show am Rsquared of at least 0.0 is 61\n",
      "saved diffcoeff_summary to /home/timothytyree/Documents/GitHub/care/notebooks/Data/initial-conditions-fk-200x200/param_set_8_ds_5.0_tmax_30_diffCoef_0.001_dt_0.025/msd\n",
      "the total number of trials considered in summary is 219\n"
     ]
    },
    {
     "data": {
      "text/plain": [
       "0"
      ]
     },
     "execution_count": 8,
     "metadata": {},
     "output_type": "execute_result"
    }
   ],
   "source": [
    "df_summary=workflow_reduce_logs_to_diffcoeff_summary(**kwargs)\n",
    "beep(1)"
   ]
  },
  {
   "cell_type": "code",
   "execution_count": 20,
   "metadata": {
    "ExecuteTime": {
     "end_time": "2021-07-02T01:31:10.514955Z",
     "start_time": "2021-07-02T01:31:10.449386Z"
    },
    "hidden": true
   },
   "outputs": [],
   "source": [
    "#TODO: fix D and Delta_D measurements for functions that compute df_summary"
   ]
  },
  {
   "cell_type": "markdown",
   "metadata": {
    "heading_collapsed": true
   },
   "source": [
    "# analyze annihilation/creation events"
   ]
  },
  {
   "cell_type": "markdown",
   "metadata": {
    "hidden": true
   },
   "source": [
    "## annihilation events"
   ]
  },
  {
   "cell_type": "code",
   "execution_count": null,
   "metadata": {
    "ExecuteTime": {
     "start_time": "2021-07-08T22:43:26.776Z"
    },
    "hidden": true
   },
   "outputs": [],
   "source": [
    "#select a file from trajectories/\n",
    "# input_fn=search_for_file()\n",
    "\n",
    "# #particle model\n",
    "# input_fn=\"/Users/timothytyree/Documents/GitHub/bgmc/python/data/local_results/euic_False_fc_2_r_0.1_D_2_L_10_kappa_1500_varkappa_5/trajectories/pbc_particle_log81_traj_sr_30_mem_0.csv\"\n",
    "# ds=10\n",
    "# width=10\n",
    "\n",
    "\n",
    "#LR\n",
    "# input_fn='/home/timothytyree/Documents/GitHub/care/notebooks/Data/initial-conditions-suite-3-LR/param_qu_tmax_30_Ko_5.4_diffCoef_0.0005_dt_0.5/trajectories/ic001.21_traj_sr_600_mem_0.csv'\n",
    "# # input_fn=f\"/home/timothytyree/Documents/GitHub/care/notebooks/Data/initial-conditions-fk-200x200/param_set_8_ds_5.0_tmax_10_diffCoef_0.0005/Log/ic200x200.0.3_traj_sr_400_mem_0.csv\"\n",
    "# input_fn='/home/timothytyree/Documents/GitHub/care/notebooks/Data/initial-conditions-suite-3-LR/param_qu_tmax_30_Ko_5.4_diffCoef_0.0005_dt_0.025/trajectories/ic002.23_traj_sr_600_mem_0.csv'\n",
    "input_fn='/home/timothytyree/Documents/GitHub/care/notebooks/Data/initial-conditions-suite-3-LR/param_qu_tmax_30_Ko_5.4_diffCoef_0.0005_dt_0.025/trajectories/ic004.13_traj_sr_600_mem_0.csv'\n",
    "\n",
    "#FK\n",
    "# input_fn=f\"/home/timothytyree/Documents/GitHub/care/notebooks/Data/initial-conditions-fk-200x200/param_set_8_ds_5.0_tmax_10_diffCoef_0.0005/Log/ic200x200.0.3_traj_sr_400_mem_0.csv\"\n",
    "ds=5\n",
    "width=200\n",
    "\n",
    "height=width\n",
    "df=pd.read_csv(input_fn);print(input_fn)\n",
    "DT=compute_DT(df,round_t_to_n_digits=5);print(f\"the time resolution is {DT} ms.\")\n",
    "DS=ds/width"
   ]
  },
  {
   "cell_type": "code",
   "execution_count": null,
   "metadata": {
    "ExecuteTime": {
     "end_time": "2021-07-02T01:35:24.950696Z",
     "start_time": "2021-07-02T01:35:24.863449Z"
    },
    "hidden": true
   },
   "outputs": [],
   "source": []
  },
  {
   "cell_type": "code",
   "execution_count": null,
   "metadata": {
    "ExecuteTime": {
     "start_time": "2021-07-08T22:43:34.642Z"
    },
    "hidden": true
   },
   "outputs": [],
   "source": [
    "trgt=input_fn[input_fn.find('_traj_'):]\n",
    "# trgt='_traj_sr_600_mem_0.csv'\n",
    "assert(input_fn[-len(trgt):]==trgt)\n",
    "\n",
    "file_name_list=get_all_files_matching_pattern(input_fn,trgt)\n",
    "print(f\"number of files in list: {len(file_name_list)}\")\n",
    "os.chdir(nb_dir)"
   ]
  },
  {
   "cell_type": "code",
   "execution_count": 5,
   "metadata": {
    "ExecuteTime": {
     "end_time": "2021-07-06T16:48:32.023529Z",
     "start_time": "2021-07-06T16:48:31.929244Z"
    },
    "hidden": true
   },
   "outputs": [],
   "source": [
    "# df.head()"
   ]
  },
  {
   "cell_type": "code",
   "execution_count": null,
   "metadata": {
    "ExecuteTime": {
     "start_time": "2021-07-08T22:44:53.674Z"
    },
    "hidden": true
   },
   "outputs": [],
   "source": [
    "# #particle model\n",
    "min_duration=20  #20. #ms\n",
    "min_range   =1  #cm\n",
    "filter_beginning=True\n",
    "use_min_duration=True\n",
    "use_grad_voltage=False\n",
    "range_threshold=10 #cm\n",
    "round_t_to_n_digits=5\n",
    "tmin=100.\n",
    "\n",
    "#full model\n",
    "min_duration=20##20. #ms\n",
    "min_range   =1.  #cm\n",
    "filter_beginning=True\n",
    "use_min_duration=True\n",
    "use_grad_voltage=True\n",
    "tmin=100#ms\n",
    "\n",
    "\n",
    "# npartitions=1#1\n",
    "npartitions=os.cpu_count()\n",
    "\n",
    "kwargs={\n",
    "    'width':width,\n",
    "    'height':height,\n",
    "    'ds':ds,\n",
    "    'printing':False,\n",
    "    'min_range':min_range,\n",
    "    'min_duration':min_duration,\n",
    "    'npartitions':npartitions,\n",
    "    'filter_beginning':filter_beginning,\n",
    "    'use_grad_voltage':use_grad_voltage,\n",
    "    'use_min_duration':use_min_duration,\n",
    "    'range_threshold':range_threshold,\n",
    "    'round_t_to_n_digits':round_t_to_n_digits,\n",
    "    'tmin':tmin\n",
    "}"
   ]
  },
  {
   "cell_type": "code",
   "execution_count": null,
   "metadata": {
    "ExecuteTime": {
     "start_time": "2021-07-08T22:44:57.502Z"
    },
    "hidden": true
   },
   "outputs": [],
   "source": [
    "routine_traj_to_annihilation=get_routine_traj_to_annihilation(**kwargs)\n",
    "def routine(input_fn):\n",
    "    return routine_traj_to_annihilation(input_fn)"
   ]
  },
  {
   "cell_type": "code",
   "execution_count": 8,
   "metadata": {
    "ExecuteTime": {
     "end_time": "2021-07-06T16:48:37.725958Z",
     "start_time": "2021-07-06T16:48:37.636244Z"
    },
    "hidden": true
   },
   "outputs": [],
   "source": [
    "# df_phases = compute_annihilation_events(input_fn, **kwargs)\n",
    "\n",
    "# type(df_phases)==type(pd.DataFrame())"
   ]
  },
  {
   "cell_type": "code",
   "execution_count": 9,
   "metadata": {
    "ExecuteTime": {
     "end_time": "2021-07-06T16:48:42.261551Z",
     "start_time": "2021-07-06T16:48:38.573330Z"
    },
    "hidden": true
   },
   "outputs": [
    {
     "data": {
      "text/plain": [
       "'/Users/timothytyree/Documents/GitHub/bgmc/python/data/local_results/euic_False_fc_2_r_0.1_D_2_L_10_kappa_1500_varkappa_5/annihilations/pbc_particle_log81_traj_sr_30_mem_0_annihilations.csv'"
      ]
     },
     "execution_count": 9,
     "metadata": {},
     "output_type": "execute_result"
    }
   ],
   "source": [
    "#test the routine on one case\n",
    "# routine(input_fn)\n",
    "\n",
    "# #already done deep in pipeline\n",
    "# # def filter_before(df,tmin=100,t_column='t'):\n",
    "# #     '''filter all time earlier than tmin'''\n",
    "# #     tmin=100#ms\n",
    "# #     boo=df[t_column]<tmin\n",
    "# #     df.drop(df[boo],inplace=True)\n",
    "# #     return df"
   ]
  },
  {
   "cell_type": "code",
   "execution_count": 10,
   "metadata": {
    "ExecuteTime": {
     "end_time": "2021-07-06T16:48:45.553014Z",
     "start_time": "2021-07-06T16:48:45.460777Z"
    },
    "hidden": true
   },
   "outputs": [],
   "source": [
    "# #compute interactions\n",
    "# df_interactions = compute_df_interactions(input_fn, DS=DS,width=width,height=height,tmin=tmin)\n",
    "# df_interactions.dropna(inplace=True)\n",
    "# death_ranges = DS * df_interactions.rT.values\n",
    "# birth_ranges = DS * df_interactions.r0.values\n",
    "# df_interactions.head()"
   ]
  },
  {
   "cell_type": "code",
   "execution_count": 11,
   "metadata": {
    "ExecuteTime": {
     "end_time": "2021-07-06T16:48:46.347412Z",
     "start_time": "2021-07-06T16:48:46.251236Z"
    },
    "hidden": true
   },
   "outputs": [],
   "source": [
    "# #TODO: investigate 1 annihilation event in detail...\n",
    "# df.head()"
   ]
  },
  {
   "cell_type": "code",
   "execution_count": 12,
   "metadata": {
    "ExecuteTime": {
     "end_time": "2021-07-06T16:48:47.722946Z",
     "start_time": "2021-07-06T16:48:47.632664Z"
    },
    "hidden": true
   },
   "outputs": [],
   "source": [
    "# #TODO: fix this bug... Is df_interactions empty in compute_annihilation_events?\n",
    "# df_phases = compute_annihilation_events(input_fn, **kwargs)"
   ]
  },
  {
   "cell_type": "code",
   "execution_count": null,
   "metadata": {
    "ExecuteTime": {
     "start_time": "2021-07-08T22:45:23.561Z"
    },
    "hidden": true
   },
   "outputs": [],
   "source": [
    "#find all files matching pattern\n",
    "trgt_raw='_traj_'\n",
    "trgt=input_fn[input_fn.find(trgt_raw):]\n",
    "input_fn_lst=get_all_files_matching_pattern(file=input_fn, trgt=trgt)\n",
    "print(f\"computing features of annihilation events for {len(input_fn_lst)} trajectory .csv files...\")\n",
    "print(f\"token example fn: {input_fn_lst[0]}\")\n",
    "#all CPU version\n",
    "b = db.from_sequence(input_fn_lst, npartitions=npartitions).map(routine)\n",
    "start = time.time()\n",
    "retval = list(b)\n",
    "print(f\"run time for computing features of annihilation events was {time.time()-start:.2f} seconds.\")\n",
    "beep(3)"
   ]
  },
  {
   "cell_type": "code",
   "execution_count": null,
   "metadata": {
    "ExecuteTime": {
     "start_time": "2021-07-08T22:45:25.352Z"
    },
    "hidden": true
   },
   "outputs": [],
   "source": [
    "list_of_files=retval\n",
    "list_of_files=[fn for fn in list_of_files if type(fn)==type(str()) and fn.find('Warning:')==-1]"
   ]
  },
  {
   "cell_type": "code",
   "execution_count": null,
   "metadata": {
    "ExecuteTime": {
     "start_time": "2021-07-08T22:45:26.256Z"
    },
    "hidden": true
   },
   "outputs": [],
   "source": [
    "# fn=retval[0]\n",
    "# type(fn)==type(str())"
   ]
  },
  {
   "cell_type": "code",
   "execution_count": null,
   "metadata": {
    "ExecuteTime": {
     "start_time": "2021-07-08T22:45:33.393Z"
    },
    "hidden": true
   },
   "outputs": [],
   "source": [
    "assert (len(list_of_files)>0)"
   ]
  },
  {
   "cell_type": "code",
   "execution_count": null,
   "metadata": {
    "ExecuteTime": {
     "start_time": "2021-07-08T22:45:50.893Z"
    },
    "hidden": true
   },
   "outputs": [],
   "source": [
    "#merge all csv files into one big-ol' csv file\n",
    "file_out=os.path.join(os.path.dirname(os.path.dirname(list_of_files[0])),f'annihilations_minr_{min_range}_mindur_{min_duration}.csv')\n",
    "reval=produce_one_csv(list_of_files, file_out)#, encoding=\"utf-8\")\n",
    "print('results saved in:')\n",
    "print(file_out)"
   ]
  },
  {
   "cell_type": "markdown",
   "metadata": {
    "hidden": true
   },
   "source": [
    "## creation events"
   ]
  },
  {
   "cell_type": "code",
   "execution_count": null,
   "metadata": {
    "ExecuteTime": {
     "start_time": "2021-07-08T22:45:57.759Z"
    },
    "hidden": true
   },
   "outputs": [],
   "source": [
    "routine_traj_to_creation=get_routine_traj_to_creation(**kwargs)\n",
    "def routine(input_fn):\n",
    "    return routine_traj_to_creation(input_fn)"
   ]
  },
  {
   "cell_type": "code",
   "execution_count": null,
   "metadata": {
    "ExecuteTime": {
     "start_time": "2021-07-08T22:46:00.167Z"
    },
    "hidden": true
   },
   "outputs": [],
   "source": [
    "#find all files matching pattern\n",
    "trgt_raw='_traj_'\n",
    "trgt=input_fn[input_fn.find(trgt_raw):]\n",
    "input_fn_lst=get_all_files_matching_pattern(file=input_fn, trgt=trgt)\n",
    "print(f\"computing features of creation events for {len(input_fn_lst)} trajectory .csv files...\")\n",
    "\n",
    "#all CPU version\n",
    "b = db.from_sequence(input_fn_lst, npartitions=npartitions).map(routine)\n",
    "start = time.time()\n",
    "retval = list(b)\n",
    "print(f\"run time for computing features of creation events was {time.time()-start:.2f} seconds.\")\n",
    "beep(3)"
   ]
  },
  {
   "cell_type": "code",
   "execution_count": null,
   "metadata": {
    "ExecuteTime": {
     "start_time": "2021-07-08T22:46:02.794Z"
    },
    "hidden": true
   },
   "outputs": [],
   "source": [
    "list_of_files=retval\n",
    "list_of_files=[fn for fn in list_of_files if type(fn)==type(str()) and fn.find('Warning:')==-1]\n",
    "# list_of_files=[fn for fn in list_of_files if fn.find('Warning:')==-1]"
   ]
  },
  {
   "cell_type": "code",
   "execution_count": null,
   "metadata": {
    "ExecuteTime": {
     "start_time": "2021-07-08T22:46:04.727Z"
    },
    "hidden": true
   },
   "outputs": [],
   "source": [
    "print(len(list_of_files))\n",
    "assert (len(list_of_files)>0)"
   ]
  },
  {
   "cell_type": "code",
   "execution_count": null,
   "metadata": {
    "ExecuteTime": {
     "start_time": "2021-07-08T22:46:07.783Z"
    },
    "hidden": true
   },
   "outputs": [],
   "source": [
    "#merge all csv files into one big-ol' csv file\n",
    "file_out=os.path.join(os.path.dirname(os.path.dirname(list_of_files[0])),f'creations_minr_{min_range}_mindur_{min_duration}.csv')\n",
    "reval=produce_one_csv(list_of_files, file_out)#, encoding=\"utf-8\")\n",
    "print('results saved in:')\n",
    "print(file_out)"
   ]
  },
  {
   "cell_type": "code",
   "execution_count": null,
   "metadata": {
    "ExecuteTime": {
     "start_time": "2021-07-08T22:46:09.122Z"
    },
    "hidden": true
   },
   "outputs": [],
   "source": [
    "beep(10)"
   ]
  },
  {
   "cell_type": "markdown",
   "metadata": {},
   "source": [
    "# MSD computation in the bulk"
   ]
  },
  {
   "cell_type": "code",
   "execution_count": 6,
   "metadata": {
    "ExecuteTime": {
     "end_time": "2021-07-22T02:20:13.547427Z",
     "start_time": "2021-07-22T02:20:13.475572Z"
    }
   },
   "outputs": [],
   "source": []
  },
  {
   "cell_type": "code",
   "execution_count": 8,
   "metadata": {
    "ExecuteTime": {
     "end_time": "2021-07-22T02:20:46.382096Z",
     "start_time": "2021-07-22T02:20:28.945921Z"
    }
   },
   "outputs": [
    {
     "data": {
      "text/html": [
       "<div>\n",
       "<style scoped>\n",
       "    .dataframe tbody tr th:only-of-type {\n",
       "        vertical-align: middle;\n",
       "    }\n",
       "\n",
       "    .dataframe tbody tr th {\n",
       "        vertical-align: top;\n",
       "    }\n",
       "\n",
       "    .dataframe thead th {\n",
       "        text-align: right;\n",
       "    }\n",
       "</style>\n",
       "<table border=\"1\" class=\"dataframe\">\n",
       "  <thead>\n",
       "    <tr style=\"text-align: right;\">\n",
       "      <th></th>\n",
       "      <th>frame</th>\n",
       "      <th>t</th>\n",
       "      <th>n</th>\n",
       "      <th>x</th>\n",
       "      <th>y</th>\n",
       "      <th>pid_explicit</th>\n",
       "    </tr>\n",
       "  </thead>\n",
       "  <tbody>\n",
       "    <tr>\n",
       "      <th>count</th>\n",
       "      <td>16.0</td>\n",
       "      <td>16.00</td>\n",
       "      <td>16.0</td>\n",
       "      <td>16.000000</td>\n",
       "      <td>16.000000</td>\n",
       "      <td>16.000000</td>\n",
       "    </tr>\n",
       "    <tr>\n",
       "      <th>mean</th>\n",
       "      <td>2.0</td>\n",
       "      <td>0.25</td>\n",
       "      <td>16.0</td>\n",
       "      <td>0.009780</td>\n",
       "      <td>0.001405</td>\n",
       "      <td>7.500000</td>\n",
       "    </tr>\n",
       "    <tr>\n",
       "      <th>std</th>\n",
       "      <td>0.0</td>\n",
       "      <td>0.00</td>\n",
       "      <td>0.0</td>\n",
       "      <td>0.030812</td>\n",
       "      <td>0.032280</td>\n",
       "      <td>4.760952</td>\n",
       "    </tr>\n",
       "    <tr>\n",
       "      <th>min</th>\n",
       "      <td>2.0</td>\n",
       "      <td>0.25</td>\n",
       "      <td>16.0</td>\n",
       "      <td>-0.063857</td>\n",
       "      <td>-0.049938</td>\n",
       "      <td>0.000000</td>\n",
       "    </tr>\n",
       "    <tr>\n",
       "      <th>25%</th>\n",
       "      <td>2.0</td>\n",
       "      <td>0.25</td>\n",
       "      <td>16.0</td>\n",
       "      <td>-0.002600</td>\n",
       "      <td>-0.012319</td>\n",
       "      <td>3.750000</td>\n",
       "    </tr>\n",
       "    <tr>\n",
       "      <th>50%</th>\n",
       "      <td>2.0</td>\n",
       "      <td>0.25</td>\n",
       "      <td>16.0</td>\n",
       "      <td>0.010339</td>\n",
       "      <td>-0.002505</td>\n",
       "      <td>7.500000</td>\n",
       "    </tr>\n",
       "    <tr>\n",
       "      <th>75%</th>\n",
       "      <td>2.0</td>\n",
       "      <td>0.25</td>\n",
       "      <td>16.0</td>\n",
       "      <td>0.030818</td>\n",
       "      <td>0.011225</td>\n",
       "      <td>11.250000</td>\n",
       "    </tr>\n",
       "    <tr>\n",
       "      <th>max</th>\n",
       "      <td>2.0</td>\n",
       "      <td>0.25</td>\n",
       "      <td>16.0</td>\n",
       "      <td>0.052833</td>\n",
       "      <td>0.086836</td>\n",
       "      <td>15.000000</td>\n",
       "    </tr>\n",
       "  </tbody>\n",
       "</table>\n",
       "</div>"
      ],
      "text/plain": [
       "       frame      t     n          x          y  pid_explicit\n",
       "count   16.0  16.00  16.0  16.000000  16.000000     16.000000\n",
       "mean     2.0   0.25  16.0   0.009780   0.001405      7.500000\n",
       "std      0.0   0.00   0.0   0.030812   0.032280      4.760952\n",
       "min      2.0   0.25  16.0  -0.063857  -0.049938      0.000000\n",
       "25%      2.0   0.25  16.0  -0.002600  -0.012319      3.750000\n",
       "50%      2.0   0.25  16.0   0.010339  -0.002505      7.500000\n",
       "75%      2.0   0.25  16.0   0.030818   0.011225     11.250000\n",
       "max      2.0   0.25  16.0   0.052833   0.086836     15.000000"
      ]
     },
     "execution_count": 8,
     "metadata": {},
     "output_type": "execute_result"
    }
   ],
   "source": [
    "#input_fn is any sort of trajectory .csv file.  it must have a column reffered to by pid_col that uniquely identifies each particle\n",
    "#Load example particle Log file where I want to compute MSD and tracking has already been done \n",
    "#(good): data that uses explicit particle tracking\n",
    "# input_fn=search_for_file()\n",
    "input_fn=\"/home/timothytyree/Documents/GitHub/bgmc/python/data/local_results/euic_False_fc_2_r_0.1_D_2_L_10_kappa_0_varkappa_0/Log/pbc_particle_log1_log.csv\"\n",
    "# input_fn='/Users/timothytyree/Documents/GitHub/care/notebooks/Data/test_data/pbc_particle_log69_log.csv'\n",
    "trial_folder_name=os.path.dirname(os.path.dirname(input_fn))\n",
    "pid_col='pid_explicit'\n",
    "t_col='t'\n",
    "#(bad)particle data analyzed using full model pipeline\n",
    "# input_fn=\"/Users/timothytyree/Documents/GitHub/bgmc/python/data/local_results/euic_False_fc_2_r_0.1_D_2_L_10_kappa_1500_varkappa_0/trajectories_unwrap/pbc_particle_log121_traj_sr_30_mem_0_unwrap.csv\"\n",
    "df=pd.read_csv(input_fn)\n",
    "kwargs={}\n",
    "width=10 #width of computational domain\n",
    "ds   =5  #cm\n",
    "#from here on, we will use units in terms of those used by the full model\n",
    "height=width\n",
    "DS=ds/width\n",
    "\n",
    "#unwrap trajectories\n",
    "pid_lst = sorted(set(df[pid_col].values))\n",
    "#(duplicates filtered earlier in full model pipeline.  Unnecessary in particle model with explicit tracking_ _  _ _ ) filter_duplicate_trajectory_indices is slow (and can probs be accelerated with a sexy pandas one liner)\n",
    "# pid_lst_filtered = filter_duplicate_trajectory_indices(pid_lst,df)\n",
    "df = pd.concat([unwrap_traj_and_center(df[df[pid_col]==pid], width, height, DS, **kwargs) for pid in pid_lst])\n",
    "DT=get_DT(df,pid_col=pid_col) #ms\n",
    "df[df.frame==2].describe()"
   ]
  },
  {
   "cell_type": "code",
   "execution_count": 9,
   "metadata": {
    "ExecuteTime": {
     "end_time": "2021-07-22T02:20:57.222122Z",
     "start_time": "2021-07-22T02:20:56.984473Z"
    }
   },
   "outputs": [
    {
     "name": "stdout",
     "output_type": "stream",
     "text": [
      "printing summary stats on particle lifetimes for one input folder in /home/timothytyree/Documents/GitHub/bgmc/python/data/local_results/euic_False_fc_2_r_0.1_D_2_L_10_kappa_0_varkappa_0:\n",
      "count      16.0\n",
      "mean     3000.0\n",
      "std         0.0\n",
      "min      3000.0\n",
      "25%      3000.0\n",
      "50%      3000.0\n",
      "75%      3000.0\n",
      "max      3000.0\n",
      "Name: min, dtype: float64\n",
      "\n",
      "Please make a manual decision about minimum_lifetime, crop_start_by, and crop_end_by\n"
     ]
    }
   ],
   "source": [
    "#print summary stats on particle lifetimes for one input folder\n",
    "dft=df.groupby(pid_col)[t_col].describe()\n",
    "df_lifetimes=-dft[['max','min']].T.diff().loc['min']\n",
    "\n",
    "print(f\"printing summary stats on particle lifetimes for one input folder in {trial_folder_name}:\")\n",
    "print(df_lifetimes.describe())\n",
    "# print(df_lifetimes.head(10))\n",
    "print(\"\\nPlease make a manual decision about minimum_lifetime, crop_start_by, and crop_end_by\")"
   ]
  },
  {
   "cell_type": "code",
   "execution_count": 10,
   "metadata": {
    "ExecuteTime": {
     "end_time": "2021-07-22T02:21:02.478724Z",
     "start_time": "2021-07-22T02:21:02.401286Z"
    }
   },
   "outputs": [],
   "source": [
    "minimum_lifetime=500. #ms\n",
    "crop_start_by=0\n",
    "crop_end_by=0"
   ]
  },
  {
   "cell_type": "code",
   "execution_count": 11,
   "metadata": {
    "ExecuteTime": {
     "end_time": "2021-07-22T02:21:04.623448Z",
     "start_time": "2021-07-22T02:21:04.531788Z"
    }
   },
   "outputs": [],
   "source": [
    "width=10\n",
    "ds   =5  #cm\n",
    "pid_col='pid_explicit'\n",
    "t_col='t'\n",
    "\n",
    "kwargs={\n",
    "    'DT':DT,\n",
    "    'ds':ds,\n",
    "    'width':width,\n",
    "    'minimum_lifetime':minimum_lifetime,\n",
    "    'crop_start_by':crop_start_by,\n",
    "    'crop_end_by':crop_end_by,\n",
    "    'pid_col':pid_col,\n",
    "    't_col':t_col,\n",
    "    'max_lagtime':None\n",
    "}"
   ]
  },
  {
   "cell_type": "code",
   "execution_count": 15,
   "metadata": {
    "ExecuteTime": {
     "end_time": "2021-07-22T02:24:02.372005Z",
     "start_time": "2021-07-22T02:23:21.491993Z"
    }
   },
   "outputs": [],
   "source": [
    "use_test=True\n",
    "#runtime for one file was roughly 40 seconds while sharing with 12 other python processes\n",
    "if use_test:\n",
    "    #optionally test the routine\n",
    "    df_msd=compute_each_mean_squared_displacement(input_fn,**kwargs)\n",
    "    routine_compute_imsd(input_fn,**kwargs)\n",
    "\n",
    "def routine(input_fn):\n",
    "    try:\n",
    "        return routine_compute_imsd(input_fn,**kwargs)\n",
    "    except Exception as e:\n",
    "        return f\"Warning: something went wrong, {e}\""
   ]
  },
  {
   "cell_type": "code",
   "execution_count": 16,
   "metadata": {
    "ExecuteTime": {
     "end_time": "2021-07-22T02:24:26.163136Z",
     "start_time": "2021-07-22T02:24:26.065870Z"
    }
   },
   "outputs": [
    {
     "name": "stdout",
     "output_type": "stream",
     "text": [
      "We're about to use 12 cores to obliterate 400 trajectory files from /home/timothytyree/Documents/GitHub/bgmc/python/data/local_results/euic_False_fc_2_r_0.1_D_2_L_10_kappa_0_varkappa_0\n"
     ]
    }
   ],
   "source": [
    "trial_folder_name=os.path.dirname(os.path.dirname(input_fn))\n",
    "npartitions=os.cpu_count()\n",
    "input_fn_lst=get_log_files(trial_folder_name, extension='/Log/', trgt='.csv')\n",
    "# input_fn_lst=get_log_files(trial_folder_name, extension='', trgt='.csv')\n",
    "print(f\"We're about to use {npartitions} cores to obliterate {len(input_fn_lst)} trajectory files from {trial_folder_name}\")"
   ]
  },
  {
   "cell_type": "code",
   "execution_count": 17,
   "metadata": {
    "ExecuteTime": {
     "end_time": "2021-07-22T02:36:35.068431Z",
     "start_time": "2021-07-22T02:24:33.721165Z"
    }
   },
   "outputs": [
    {
     "name": "stdout",
     "output_type": "stream",
     "text": [
      "run time for computing mean squared displacements was 720.62 seconds.\n",
      "wrote 200 output files to a common folder\n"
     ]
    }
   ],
   "source": [
    "#all CPU version\n",
    "b = db.from_sequence(input_fn_lst, npartitions=npartitions).map(routine)\n",
    "start = time.time()\n",
    "retval = list(b)\n",
    "print(f\"run time for computing mean squared displacements was {time.time()-start:.2f} seconds.\")\n",
    "beep(3)\n",
    "\n",
    "list_of_files=retval\n",
    "list_of_files=[fn for fn in list_of_files if type(fn)==type(str()) and fn.find('Warning:')==-1]\n",
    "# list_of_files=[fn for fn in list_of_files if fn.find('Warning:')==-1]\n",
    "print(f\"wrote {len(list_of_files)} output files to a common folder\")\n",
    "assert (len(list_of_files)>0)"
   ]
  },
  {
   "cell_type": "markdown",
   "metadata": {},
   "source": [
    "Estimated run time for MSD calculation is 40 minutes"
   ]
  },
  {
   "cell_type": "code",
   "execution_count": 18,
   "metadata": {
    "ExecuteTime": {
     "end_time": "2021-07-22T02:41:01.957685Z",
     "start_time": "2021-07-22T02:36:35.336031Z"
    }
   },
   "outputs": [
    {
     "name": "stdout",
     "output_type": "stream",
     "text": [
      "merged results saved in:\n",
      "/home/timothytyree/Documents/GitHub/bgmc/python/data/local_results/euic_False_fc_2_r_0.1_D_2_L_10_kappa_0_varkappa_0/msd.csv\n"
     ]
    },
    {
     "data": {
      "text/plain": [
       "0"
      ]
     },
     "execution_count": 18,
     "metadata": {},
     "output_type": "execute_result"
    }
   ],
   "source": [
    "#merge all csv files into one big-ol' csv file\n",
    "file_in=os.path.join(os.path.dirname(os.path.dirname(list_of_files[0])),f'msd.csv')\n",
    "reval=produce_one_csv(list_of_files, file_in)#, encoding=\"utf-8\")\n",
    "print('merged results saved in:')\n",
    "print(file_in)\n",
    "beep(10)"
   ]
  },
  {
   "cell_type": "code",
   "execution_count": 19,
   "metadata": {
    "ExecuteTime": {
     "end_time": "2021-07-22T02:41:22.016422Z",
     "start_time": "2021-07-22T02:41:02.260185Z"
    }
   },
   "outputs": [
    {
     "data": {
      "text/html": [
       "<div>\n",
       "<style scoped>\n",
       "    .dataframe tbody tr th:only-of-type {\n",
       "        vertical-align: middle;\n",
       "    }\n",
       "\n",
       "    .dataframe tbody tr th {\n",
       "        vertical-align: top;\n",
       "    }\n",
       "\n",
       "    .dataframe thead th {\n",
       "        text-align: right;\n",
       "    }\n",
       "</style>\n",
       "<table border=\"1\" class=\"dataframe\">\n",
       "  <thead>\n",
       "    <tr style=\"text-align: right;\">\n",
       "      <th></th>\n",
       "      <th>index</th>\n",
       "      <th>pid</th>\n",
       "      <th>lagt</th>\n",
       "      <th>msd</th>\n",
       "    </tr>\n",
       "  </thead>\n",
       "  <tbody>\n",
       "    <tr>\n",
       "      <th>0</th>\n",
       "      <td>0</td>\n",
       "      <td>0</td>\n",
       "      <td>0.00</td>\n",
       "      <td>0.000000</td>\n",
       "    </tr>\n",
       "    <tr>\n",
       "      <th>1</th>\n",
       "      <td>1</td>\n",
       "      <td>0</td>\n",
       "      <td>0.25</td>\n",
       "      <td>0.000496</td>\n",
       "    </tr>\n",
       "    <tr>\n",
       "      <th>2</th>\n",
       "      <td>2</td>\n",
       "      <td>0</td>\n",
       "      <td>0.50</td>\n",
       "      <td>0.000995</td>\n",
       "    </tr>\n",
       "    <tr>\n",
       "      <th>3</th>\n",
       "      <td>3</td>\n",
       "      <td>0</td>\n",
       "      <td>0.75</td>\n",
       "      <td>0.001492</td>\n",
       "    </tr>\n",
       "    <tr>\n",
       "      <th>4</th>\n",
       "      <td>4</td>\n",
       "      <td>0</td>\n",
       "      <td>1.00</td>\n",
       "      <td>0.001981</td>\n",
       "    </tr>\n",
       "  </tbody>\n",
       "</table>\n",
       "</div>"
      ],
      "text/plain": [
       "   index  pid  lagt       msd\n",
       "0      0    0  0.00  0.000000\n",
       "1      1    0  0.25  0.000496\n",
       "2      2    0  0.50  0.000995\n",
       "3      3    0  0.75  0.001492\n",
       "4      4    0  1.00  0.001981"
      ]
     },
     "execution_count": 19,
     "metadata": {},
     "output_type": "execute_result"
    }
   ],
   "source": [
    "#load an enormous number of samples into a pandas.DataFrame\n",
    "df_in=pd.read_csv(file_in)\n",
    "df_in.head()"
   ]
  },
  {
   "cell_type": "code",
   "execution_count": 20,
   "metadata": {
    "ExecuteTime": {
     "end_time": "2021-07-22T02:41:22.237856Z",
     "start_time": "2021-07-22T02:41:22.211944Z"
    }
   },
   "outputs": [],
   "source": [
    "#extract values\n",
    "lagt_values=df_in['lagt'].values\n",
    "msd_values=df_in['msd'].values"
   ]
  },
  {
   "cell_type": "code",
   "execution_count": 21,
   "metadata": {
    "ExecuteTime": {
     "end_time": "2021-07-22T02:41:22.429441Z",
     "start_time": "2021-07-22T02:41:22.396221Z"
    }
   },
   "outputs": [],
   "source": [
    "from lib.measure.bootstrap import bin_and_bootstrap_xy_values"
   ]
  },
  {
   "cell_type": "code",
   "execution_count": 25,
   "metadata": {
    "ExecuteTime": {
     "end_time": "2021-07-22T17:05:30.384621Z",
     "start_time": "2021-07-22T17:05:30.363167Z"
    }
   },
   "outputs": [
    {
     "data": {
      "text/plain": [
       "12"
      ]
     },
     "execution_count": 25,
     "metadata": {},
     "output_type": "execute_result"
    }
   ],
   "source": [
    "#TODO(accelerate bin_and_bootstrap_xy_values): parallelize bootstrapping by putting num_bootstrap_samples into a dask bag\n",
    "#TODO(if control looks reasonable): \n",
    "npartitions\n"
   ]
  },
  {
   "cell_type": "code",
   "execution_count": null,
   "metadata": {
    "ExecuteTime": {
     "start_time": "2021-07-22T17:23:42.157Z"
    }
   },
   "outputs": [],
   "source": [
    "#bin and bootstrap results\n",
    "bins = 'auto'  #50#\n",
    "dict_out = bin_and_bootstrap_xy_values(x=lagt_values,\n",
    "                                       y=msd_values,\n",
    "                                       xlabel='lagt',\n",
    "                                       ylabel=r'msd',\n",
    "                                       bins=bins,\n",
    "                                       min_numobs=None,\n",
    "                                       num_bootstrap_samples=1000,\n",
    "                                      npartitions=npartitions)\n",
    "df_emsd = pd.DataFrame(dict_out)\n",
    "df_emsd.head()"
   ]
  },
  {
   "cell_type": "code",
   "execution_count": null,
   "metadata": {
    "ExecuteTime": {
     "start_time": "2021-07-22T17:23:49.661Z"
    }
   },
   "outputs": [],
   "source": [
    "#save ensemble msd\n",
    "#merge all csv files into one big-ol' csv file\n",
    "file_out=os.path.join(os.path.dirname(os.path.dirname(list_of_files[0])),f'ensemble_msd.csv')\n",
    "df_emsd.to_csv(index=False)\n",
    "print('merged results saved in:')\n",
    "print(file_out)\n",
    "beep(10)"
   ]
  },
  {
   "cell_type": "code",
   "execution_count": null,
   "metadata": {
    "ExecuteTime": {
     "start_time": "2021-07-22T17:23:50.191Z"
    }
   },
   "outputs": [],
   "source": [
    "df_emsd.head()"
   ]
  },
  {
   "cell_type": "code",
   "execution_count": null,
   "metadata": {
    "ExecuteTime": {
     "start_time": "2021-07-22T17:23:50.709Z"
    }
   },
   "outputs": [],
   "source": [
    "#compute the linear fit of bootstrapped msd\n",
    "df=df_emsd\n",
    "xmin=0. #ms\n",
    "xmax=500 #ms\n",
    "\n",
    "x_values=df['lagt'].values\n",
    "y_values=df['msd'].values\n",
    "x_err_values=df['Delta_lagt'].values\n",
    "y_err_values=df['Delta_msd'].values\n",
    "counts=df['counts'].values\n",
    "\n",
    "#fit drdt_values to F0+F1/r with OLS fit for LR model where 1/r is greater than some 1/cm\n",
    "boo=(x_values>xmin)&(x_values<xmax)\n",
    "x=x_values[boo]\n",
    "y=y_values[boo]\n",
    "dict_force_fit=compute_95CI_ols(x,y)\n",
    "y_hat_values=dict_force_fit['b']+dict_force_fit['m']*x_values\n",
    "\n",
    "#(optional) rename specific values\n",
    "dict_force_fit=dict_force_fit\n",
    "y_hat_values=y_hat_values\n",
    "\n",
    "#bluf\n",
    "print(f\"the ols fit for diffusion coefficient is:\")\n",
    "print_dict(dict_force_fit)\n",
    "print(f\"Nobs= {np.mean(counts):.0f} +- {np.std(counts):.0f}\")\n",
    "print(f\"trial_folder_name: {trial_folder_name}\")"
   ]
  },
  {
   "cell_type": "code",
   "execution_count": null,
   "metadata": {
    "ExecuteTime": {
     "start_time": "2021-07-22T17:23:51.695Z"
    }
   },
   "outputs": [],
   "source": [
    "from lib import *\n",
    "from lib.viewer.PlotMeanSquaredDisplacements import PlotMeanSquaredDisplacements\n",
    "\n",
    "df=pd.read_csv(input_fn)\n",
    "#compute t0 and tf for each particle\n",
    "dft=df.groupby(pid_col)[t_col].describe()\n",
    "dft0=dft['min']\n",
    "dftf=dft['max']\n",
    "\n",
    "#compute t1 and t2 for each particle\n",
    "dft1=dft0+crop_start_by\n",
    "dft2=dftf-crop_end_by\n",
    "\n",
    "#get the list of particles dft2-dft1 \\ge minimum_lifetime\n",
    "dflifetime_considered=dft2-dft1\n",
    "pid_values_to_consider=dflifetime_considered[dflifetime_considered>=minimum_lifetime].index.values"
   ]
  },
  {
   "cell_type": "code",
   "execution_count": null,
   "metadata": {
    "ExecuteTime": {
     "start_time": "2021-07-22T17:23:52.554Z"
    }
   },
   "outputs": [],
   "source": [
    "ylim=15\n",
    "#plot mean radial velocities\n",
    "fig, ax = plt.subplots(ncols=1, figsize=(6, 4))\n",
    "for pid in pid_values_to_consider[:]:\n",
    "    lagt_values,msd_values=compute_individual_mean_squared_displacement(df,dft1,dft2,DT,pid,pid_col=pid_col)\n",
    "    ax.plot(lagt_values,msd_values*DS**2,alpha=0.4,color='gray')\n",
    "    \n",
    "#PlotMeanSquaredDisplacements     \n",
    "PlotMeanSquaredDisplacements(ax, x_values, y_values, y_err_values, y_hat_values,c='C3')\n",
    "# PlotMeanSquaredDisplacements(ax, x_values2, y_values2, y_err_values2, y_hat_values2,c='C4')\n",
    "ax.set_ylim([0,ylim])\n",
    "# plt.tight_layout()\n",
    "# plt.show()\n",
    "plt.xlim([0,3000])\n",
    "plt.ylim([0,ylim])\n",
    "plt.show()"
   ]
  },
  {
   "cell_type": "code",
   "execution_count": null,
   "metadata": {},
   "outputs": [],
   "source": []
  },
  {
   "cell_type": "code",
   "execution_count": 41,
   "metadata": {
    "ExecuteTime": {
     "end_time": "2021-07-21T19:24:08.968984Z",
     "start_time": "2021-07-21T19:24:08.951682Z"
    }
   },
   "outputs": [],
   "source": [
    "# #TODO(later): make text interface for choosing new max_lagtime. Note max_lagtime is in units of frames, not time...\n",
    "# print(f\"If you want to save memory and decrease runtime decide on a reasonable value for max_lagtime!  maxt={max_lagtime}\")\n",
    "\n",
    "#TODO: load all of ^those imsd into python and compute the mean imsd, binning by lagt\n",
    "#TODO: save resulting emsd to csv\n",
    "#TODO: generate plots\n",
    "#TODO: look at plots and decide whether to change the default tau_min and tau_max\n",
    "#TODO: compute linear regression with tau_min and tau_max"
   ]
  }
 ],
 "metadata": {
  "kernelspec": {
   "display_name": "Python 3",
   "language": "python",
   "name": "python3"
  },
  "language_info": {
   "codemirror_mode": {
    "name": "ipython",
    "version": 3
   },
   "file_extension": ".py",
   "mimetype": "text/x-python",
   "name": "python",
   "nbconvert_exporter": "python",
   "pygments_lexer": "ipython3",
   "version": "3.7.6"
  },
  "toc": {
   "base_numbering": 1,
   "nav_menu": {},
   "number_sections": true,
   "sideBar": true,
   "skip_h1_title": false,
   "title_cell": "Table of Contents",
   "title_sidebar": "Contents",
   "toc_cell": false,
   "toc_position": {},
   "toc_section_display": true,
   "toc_window_display": false
  },
  "varInspector": {
   "cols": {
    "lenName": 16,
    "lenType": 16,
    "lenVar": 40
   },
   "kernels_config": {
    "python": {
     "delete_cmd_postfix": "",
     "delete_cmd_prefix": "del ",
     "library": "var_list.py",
     "varRefreshCmd": "print(var_dic_list())"
    },
    "r": {
     "delete_cmd_postfix": ") ",
     "delete_cmd_prefix": "rm(",
     "library": "var_list.r",
     "varRefreshCmd": "cat(var_dic_list()) "
    }
   },
   "types_to_exclude": [
    "module",
    "function",
    "builtin_function_or_method",
    "instance",
    "_Feature"
   ],
   "window_display": false
  }
 },
 "nbformat": 4,
 "nbformat_minor": 4
}
