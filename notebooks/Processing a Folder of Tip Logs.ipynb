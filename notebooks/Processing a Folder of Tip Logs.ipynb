{
 "cells": [
  {
   "cell_type": "markdown",
   "metadata": {},
   "source": [
    "# Processing a Folder of Tip Logs\n",
    "Tim Tyree<br>\n",
    "6.22.2021"
   ]
  },
  {
   "cell_type": "code",
   "execution_count": 1,
   "metadata": {
    "ExecuteTime": {
     "end_time": "2021-07-14T23:08:14.807300Z",
     "start_time": "2021-07-14T23:08:11.930666Z"
    }
   },
   "outputs": [
    {
     "name": "stdout",
     "output_type": "stream",
     "text": [
      "Automatic calling is: Smart\n"
     ]
    }
   ],
   "source": [
    "from lib.my_initialization import *\n",
    "from lib import *\n",
    "\n",
    "from lib.my_initialization import *\n",
    "from lib.utils.utils_traj import *\n",
    "\n",
    "from lib.utils.operari import *\n",
    "\n",
    "\n",
    "import trackpy, pandas as pd, numpy as np\n",
    "from lib import *\n",
    "from lib.routines.track_tips import *\n",
    "from lib.utils.dist_func import *\n",
    "from lib.utils.utils_traj import *\n",
    "\n",
    "from lib.routines.compute_trajectories import *\n",
    "from lib.routines.dag_log_to_msd import *\n",
    "from lib.routines.compute_msd import *\n",
    "\n",
    "import trackpy\n",
    "%autocall 1\n",
    "%load_ext autoreload\n",
    "%autoreload 2\n",
    "# awareness&chill"
   ]
  },
  {
   "cell_type": "code",
   "execution_count": 96,
   "metadata": {
    "ExecuteTime": {
     "end_time": "2021-07-14T19:39:45.793818Z",
     "start_time": "2021-07-14T19:39:45.587185Z"
    }
   },
   "outputs": [],
   "source": [
    "darkmode=True\n",
    "if darkmode:\n",
    "    # For darkmode plots\n",
    "    from jupyterthemes import jtplot\n",
    "    jtplot.style(theme='monokai', context='notebook', ticks=True, grid=False)"
   ]
  },
  {
   "cell_type": "markdown",
   "metadata": {},
   "source": [
    "# particle tracking and computation of mean squared displacements for a folder of tip logs"
   ]
  },
  {
   "cell_type": "code",
   "execution_count": 28,
   "metadata": {
    "ExecuteTime": {
     "end_time": "2021-07-12T18:53:19.301790Z",
     "start_time": "2021-07-12T18:53:04.508457Z"
    }
   },
   "outputs": [
    {
     "name": "stdout",
     "output_type": "stream",
     "text": [
      "File: /Users/timothytyree/Documents/GitHub/bgmc/python/data/local_results/euic_False_fc_2_r_0.1_D_2_L_10_kappa_1500_varkappa_0/Log/pbc_particle_log175_log.csv\n",
      "/Users/timothytyree/Documents/GitHub/bgmc/python/data/local_results/euic_False_fc_2_r_0.1_D_2_L_10_kappa_1500_varkappa_0/Log/pbc_particle_log175_log.csv\n",
      "number of files in list: 200\n"
     ]
    }
   ],
   "source": [
    "# #find file interactively\n",
    "# print(\"please select a file from within the desired folder.\")\n",
    "file = search_for_file()\n",
    "# file='/home/timothytyree/Documents/GitHub/care/notebooks/Data/initial-conditions-suite-3-LR/param_qu_tmax_30_Ko_5.4_diffCoef_0.0005_dt_0.5/Log/ic001.21_log.csv'\n",
    "print(file)\n",
    "# file='/home/timothytyree/Documents/GitHub/care/notebooks/Data/initial-conditions-suite-2/ds_2_param_set_8/Log/ic_200x200.001.12_log.csv'\n",
    "\n",
    "ds=10\n",
    "width=10\n",
    "# ds=5\n",
    "# width=200\n",
    "height=width\n",
    "DS=ds/width\n",
    "\n",
    "# # input_fn=search_for_file()\n",
    "# input_fn=f\"/home/timothytyree/Documents/GitHub/care/notebooks/Data/initial-conditions-fk-200x200/param_set_8_ds_5.0_tmax_10_diffCoef_0.0005/Log/ic200x200.0.3_traj_sr_400_mem_0.csv\"\n",
    "# df=pd.read_csv(input_fn)\n",
    "# print(input_fn)\n",
    "# DT=compute_DT(df,round_t_to_n_digits=3);print(f\"the time resolution is {DT} ms.\")\n",
    "\n",
    "\n",
    "trgt='log.csv'\n",
    "assert(file[-len(trgt):]==trgt)\n",
    "\n",
    "file_name_list=get_all_files_matching_pattern(file,trgt)\n",
    "print(f\"number of files in list: {len(file_name_list)}\")\n",
    "os.chdir(nb_dir)"
   ]
  },
  {
   "cell_type": "code",
   "execution_count": 29,
   "metadata": {
    "ExecuteTime": {
     "end_time": "2021-07-12T18:53:22.709261Z",
     "start_time": "2021-07-12T18:53:22.657690Z"
    }
   },
   "outputs": [
    {
     "name": "stdout",
     "output_type": "stream",
     "text": [
      "/Users/timothytyree/Documents/GitHub/bgmc/python/data/local_results\n",
      "euic_False_fc_2_r_0.1_D_2_L_10_kappa_1500_varkappa_0\n"
     ]
    }
   ],
   "source": [
    "#works for repositories outside of care\n",
    "input_fn=file\n",
    "trial_folder_name=os.path.dirname(os.path.dirname(input_fn))\n",
    "ic_suite_fn=os.path.dirname(trial_folder_name)\n",
    "# ic_suite_fn=ic_suite_fn.split('/')[-1]\n",
    "print(ic_suite_fn)\n",
    "trial_folder_name=trial_folder_name.split('/')[-1]\n",
    "print(trial_folder_name)"
   ]
  },
  {
   "cell_type": "code",
   "execution_count": 30,
   "metadata": {
    "ExecuteTime": {
     "end_time": "2021-07-12T18:53:24.002935Z",
     "start_time": "2021-07-12T18:53:23.961537Z"
    }
   },
   "outputs": [],
   "source": [
    "# input_fn=file\n",
    "# os.path.dirname(input_fn)\n",
    "# str_lst=input_fn[input_fn.find('/Data/')+len('/Data/'):].split('/')\n",
    "# ic_suite_fn=f\"{nb_dir}/Data/\"+str_lst[0]\n",
    "# trial_folder_name=str_lst[1]\n",
    "# print(ic_suite_fn)\n",
    "# print(trial_folder_name)"
   ]
  },
  {
   "cell_type": "code",
   "execution_count": 31,
   "metadata": {
    "ExecuteTime": {
     "end_time": "2021-07-12T18:53:26.986894Z",
     "start_time": "2021-07-12T18:53:26.938398Z"
    }
   },
   "outputs": [],
   "source": [
    "#generate trajectories, unwrapped trajectories, and mean squared displacements for folder of tip logs\n",
    "npartitions=os.cpu_count()\n",
    "\n",
    "#particle models\n",
    "ds=10\n",
    "width=10\n",
    "kwargs={\n",
    "    'input_fn_lst':file_name_list,\n",
    "    'L':width,\n",
    "    'DS':ds/width,\n",
    "    'use_cache_0':True,\n",
    "    'use_cache_1':True,\n",
    "    'npartitions':npartitions,\n",
    "    'sr':3*width,\n",
    "    'mem':0,\n",
    "    'trial_folder_name':trial_folder_name,\n",
    "    'ic_suite_fn':ic_suite_fn\n",
    "}\n",
    "\n",
    "# #full models\n",
    "# ds=5\n",
    "# width=200\n",
    "# kwargs={\n",
    "#     'input_fn_lst':file_name_list,\n",
    "#     'L':width,\n",
    "#     'DS':ds/width,\n",
    "#     'use_cache_0':True,\n",
    "#     'use_cache_1':True,\n",
    "#     'npartitions':npartitions,\n",
    "#     'sr':3*width,\n",
    "#     'mem':0,\n",
    "#     'trial_folder_name':trial_folder_name,\n",
    "#     'ic_suite_fn':ic_suite_fn\n",
    "# }\n"
   ]
  },
  {
   "cell_type": "code",
   "execution_count": 32,
   "metadata": {
    "ExecuteTime": {
     "end_time": "2021-07-12T22:17:33.921167Z",
     "start_time": "2021-07-12T18:53:27.912945Z"
    }
   },
   "outputs": [
    {
     "name": "stdout",
     "output_type": "stream",
     "text": [
      "the total number of trials recorded is 200\n",
      "reducing 200 unwrapped trajectories files to a single row describing the diffusion coefficient of spiral tips for that trial...\n",
      "Num. file names in list = 200.\n",
      "saved figure in \n",
      "\t/Users/timothytyree/Documents/GitHub/bgmc/python/data/local_results/euic_False_fc_2_r_0.1_D_2_L_10_kappa_1500_varkappa_0/msd/fig\n",
      "saved figure in \n",
      "\t/Users/timothytyree/Documents/GitHub/bgmc/python/data/local_results/euic_False_fc_2_r_0.1_D_2_L_10_kappa_1500_varkappa_0/msd/fig\n",
      "saved figure in \n",
      "\t/Users/timothytyree/Documents/GitHub/bgmc/python/data/local_results/euic_False_fc_2_r_0.1_D_2_L_10_kappa_1500_varkappa_0/msd/fig\n",
      "generating diffcoeff_figures for euic_False_fc_2_r_0.1_D_2_L_10_kappa_1500_varkappa_0\n",
      "\tnum. trials that didn't show a tip lasing longer than 150ms is 0, and that didn't show am Rsquared of at least 0.0 is 0\n",
      "saved diffcoeff_summary to /Users/timothytyree/Documents/GitHub/bgmc/python/data/local_results/euic_False_fc_2_r_0.1_D_2_L_10_kappa_1500_varkappa_0/msd\n",
      "the total number of trials considered in summary is 0\n"
     ]
    },
    {
     "data": {
      "text/plain": [
       "0"
      ]
     },
     "execution_count": 32,
     "metadata": {},
     "output_type": "execute_result"
    }
   ],
   "source": [
    "df_summary=workflow_reduce_logs_to_diffcoeff_summary(**kwargs)\n",
    "beep(1)"
   ]
  },
  {
   "cell_type": "code",
   "execution_count": 7,
   "metadata": {
    "ExecuteTime": {
     "end_time": "2021-07-11T23:41:36.248255Z",
     "start_time": "2021-07-11T23:41:36.211409Z"
    }
   },
   "outputs": [],
   "source": [
    "#TODO: fix D and Delta_D measurements for functions that compute df_summary"
   ]
  },
  {
   "cell_type": "markdown",
   "metadata": {},
   "source": [
    "# analyze annihilation/creation events"
   ]
  },
  {
   "cell_type": "markdown",
   "metadata": {},
   "source": [
    "## annihilation events"
   ]
  },
  {
   "cell_type": "code",
   "execution_count": 33,
   "metadata": {
    "ExecuteTime": {
     "end_time": "2021-07-12T22:17:34.198191Z",
     "start_time": "2021-07-12T22:17:34.012095Z"
    }
   },
   "outputs": [
    {
     "name": "stdout",
     "output_type": "stream",
     "text": [
      "/Users/timothytyree/Documents/GitHub/bgmc/python/data/local_results/euic_False_fc_2_r_0.1_D_2_L_10_kappa_1500_varkappa_0/trajectories/pbc_particle_log81_traj_sr_30_mem_0.csv\n",
      "the time resolution is 0.25 ms.\n"
     ]
    }
   ],
   "source": [
    "#select a file from trajectories/\n",
    "# input_fn=search_for_file()\n",
    "\n",
    "#particle model\n",
    "input_fn=\"/Users/timothytyree/Documents/GitHub/bgmc/python/data/local_results/euic_False_fc_2_r_0.1_D_2_L_10_kappa_1500_varkappa_0/trajectories/pbc_particle_log81_traj_sr_30_mem_0.csv\"\n",
    "ds=10\n",
    "width=10\n",
    "\n",
    "\n",
    "#LR\n",
    "# input_fn='/home/timothytyree/Documents/GitHub/care/notebooks/Data/initial-conditions-suite-3-LR/param_qu_tmax_30_Ko_5.4_diffCoef_0.0005_dt_0.5/trajectories/ic001.21_traj_sr_600_mem_0.csv'\n",
    "# # input_fn=f\"/home/timothytyree/Documents/GitHub/care/notebooks/Data/initial-conditions-fk-200x200/param_set_8_ds_5.0_tmax_10_diffCoef_0.0005/Log/ic200x200.0.3_traj_sr_400_mem_0.csv\"\n",
    "# input_fn='/home/timothytyree/Documents/GitHub/care/notebooks/Data/initial-conditions-suite-3-LR/param_qu_tmax_30_Ko_5.4_diffCoef_0.0005_dt_0.025/trajectories/ic002.23_traj_sr_600_mem_0.csv'\n",
    "# input_fn='/home/timothytyree/Documents/GitHub/care/notebooks/Data/initial-conditions-suite-3-LR/param_qu_tmax_30_Ko_5.4_diffCoef_0.0005_dt_0.025/trajectories/ic004.13_traj_sr_600_mem_0.csv'\n",
    "\n",
    "#FK\n",
    "# input_fn=f\"/home/timothytyree/Documents/GitHub/care/notebooks/Data/initial-conditions-fk-200x200/param_set_8_ds_5.0_tmax_10_diffCoef_0.0005/Log/ic200x200.0.3_traj_sr_400_mem_0.csv\"\n",
    "# ds=5\n",
    "# width=200\n",
    "\n",
    "height=width\n",
    "df=pd.read_csv(input_fn);print(input_fn)\n",
    "DT=compute_DT(df,round_t_to_n_digits=5);print(f\"the time resolution is {DT} ms.\")\n",
    "DS=ds/width"
   ]
  },
  {
   "cell_type": "code",
   "execution_count": null,
   "metadata": {
    "ExecuteTime": {
     "end_time": "2021-07-02T01:35:24.950696Z",
     "start_time": "2021-07-02T01:35:24.863449Z"
    }
   },
   "outputs": [],
   "source": []
  },
  {
   "cell_type": "code",
   "execution_count": 34,
   "metadata": {
    "ExecuteTime": {
     "end_time": "2021-07-12T22:17:34.302106Z",
     "start_time": "2021-07-12T22:17:34.253386Z"
    }
   },
   "outputs": [
    {
     "name": "stdout",
     "output_type": "stream",
     "text": [
      "number of files in list: 200\n"
     ]
    }
   ],
   "source": [
    "trgt=input_fn[input_fn.find('_traj_'):]\n",
    "# trgt='_traj_sr_600_mem_0.csv'\n",
    "assert(input_fn[-len(trgt):]==trgt)\n",
    "\n",
    "file_name_list=get_all_files_matching_pattern(input_fn,trgt)\n",
    "print(f\"number of files in list: {len(file_name_list)}\")\n",
    "os.chdir(nb_dir)"
   ]
  },
  {
   "cell_type": "code",
   "execution_count": 35,
   "metadata": {
    "ExecuteTime": {
     "end_time": "2021-07-12T22:17:34.393030Z",
     "start_time": "2021-07-12T22:17:34.355367Z"
    }
   },
   "outputs": [],
   "source": [
    "# df.head()"
   ]
  },
  {
   "cell_type": "code",
   "execution_count": 36,
   "metadata": {
    "ExecuteTime": {
     "end_time": "2021-07-12T22:17:34.489953Z",
     "start_time": "2021-07-12T22:17:34.449626Z"
    }
   },
   "outputs": [],
   "source": [
    "min_duration=20  #20. #ms\n",
    "min_range   =1  #cm\n",
    "filter_beginning=True\n",
    "use_min_duration=True\n",
    "use_grad_voltage=False\n",
    "range_threshold=10 #cm\n",
    "round_t_to_n_digits=5\n",
    "tmin=100.\n",
    "\n",
    "\n",
    "# min_duration=10##20. #ms\n",
    "# min_range   =1.  #cm\n",
    "# filter_beginning=True\n",
    "# use_min_duration=True\n",
    "# use_grad_voltage=True\n",
    "# tmin=100#ms\n",
    "# npartitions=1#1\n",
    "npartitions=os.cpu_count()\n",
    "\n",
    "kwargs={\n",
    "    'width':width,\n",
    "    'height':height,\n",
    "    'ds':ds,\n",
    "    'printing':False,\n",
    "    'min_range':min_range,\n",
    "    'min_duration':min_duration,\n",
    "    'npartitions':npartitions,\n",
    "    'filter_beginning':filter_beginning,\n",
    "    'use_grad_voltage':use_grad_voltage,\n",
    "    'use_min_duration':use_min_duration,\n",
    "    'range_threshold':range_threshold,\n",
    "    'round_t_to_n_digits':round_t_to_n_digits,\n",
    "    'tmin':tmin\n",
    "}"
   ]
  },
  {
   "cell_type": "code",
   "execution_count": 37,
   "metadata": {
    "ExecuteTime": {
     "end_time": "2021-07-12T22:17:34.582005Z",
     "start_time": "2021-07-12T22:17:34.543329Z"
    }
   },
   "outputs": [],
   "source": [
    "routine_traj_to_annihilation=get_routine_traj_to_annihilation(**kwargs)\n",
    "def routine(input_fn):\n",
    "    return routine_traj_to_annihilation(input_fn)"
   ]
  },
  {
   "cell_type": "code",
   "execution_count": 38,
   "metadata": {
    "ExecuteTime": {
     "end_time": "2021-07-12T22:17:34.674071Z",
     "start_time": "2021-07-12T22:17:34.635972Z"
    }
   },
   "outputs": [],
   "source": [
    "# df_phases = compute_annihilation_events(input_fn, **kwargs)\n",
    "\n",
    "# type(df_phases)==type(pd.DataFrame())"
   ]
  },
  {
   "cell_type": "code",
   "execution_count": 39,
   "metadata": {
    "ExecuteTime": {
     "end_time": "2021-07-12T22:17:34.768002Z",
     "start_time": "2021-07-12T22:17:34.729141Z"
    }
   },
   "outputs": [],
   "source": [
    "#test the routine on one case\n",
    "# routine(input_fn)\n",
    "\n",
    "# #already done deep in pipeline\n",
    "# # def filter_before(df,tmin=100,t_column='t'):\n",
    "# #     '''filter all time earlier than tmin'''\n",
    "# #     tmin=100#ms\n",
    "# #     boo=df[t_column]<tmin\n",
    "# #     df.drop(df[boo],inplace=True)\n",
    "# #     return df"
   ]
  },
  {
   "cell_type": "code",
   "execution_count": 40,
   "metadata": {
    "ExecuteTime": {
     "end_time": "2021-07-12T22:17:34.858885Z",
     "start_time": "2021-07-12T22:17:34.821192Z"
    }
   },
   "outputs": [],
   "source": [
    "# #compute interactions\n",
    "# df_interactions = compute_df_interactions(input_fn, DS=DS,width=width,height=height,tmin=tmin)\n",
    "# df_interactions.dropna(inplace=True)\n",
    "# death_ranges = DS * df_interactions.rT.values\n",
    "# birth_ranges = DS * df_interactions.r0.values\n",
    "# df_interactions.head()"
   ]
  },
  {
   "cell_type": "code",
   "execution_count": 41,
   "metadata": {
    "ExecuteTime": {
     "end_time": "2021-07-12T22:17:34.951369Z",
     "start_time": "2021-07-12T22:17:34.913141Z"
    }
   },
   "outputs": [],
   "source": [
    "# #TODO: investigate 1 annihilation event in detail...\n",
    "# df.head()"
   ]
  },
  {
   "cell_type": "code",
   "execution_count": 42,
   "metadata": {
    "ExecuteTime": {
     "end_time": "2021-07-12T22:17:35.044132Z",
     "start_time": "2021-07-12T22:17:35.006844Z"
    }
   },
   "outputs": [],
   "source": [
    "# #TODO: fix this bug... Is df_interactions empty in compute_annihilation_events?\n",
    "# df_phases = compute_annihilation_events(input_fn, **kwargs)"
   ]
  },
  {
   "cell_type": "code",
   "execution_count": 43,
   "metadata": {
    "ExecuteTime": {
     "end_time": "2021-07-12T22:19:36.862184Z",
     "start_time": "2021-07-12T22:17:35.101507Z"
    }
   },
   "outputs": [
    {
     "name": "stdout",
     "output_type": "stream",
     "text": [
      "computing features of annihilation events for 200 trajectory .csv files...\n",
      "token example fn: /Users/timothytyree/Documents/GitHub/bgmc/python/data/local_results/euic_False_fc_2_r_0.1_D_2_L_10_kappa_1500_varkappa_0/trajectories/pbc_particle_log144_traj_sr_30_mem_0.csv\n",
      "run time for computing features of annihilation events was 121.07 seconds.\n"
     ]
    },
    {
     "data": {
      "text/plain": [
       "0"
      ]
     },
     "execution_count": 43,
     "metadata": {},
     "output_type": "execute_result"
    }
   ],
   "source": [
    "#find all files matching pattern\n",
    "trgt_raw='_traj_'\n",
    "trgt=input_fn[input_fn.find(trgt_raw):]\n",
    "input_fn_lst=get_all_files_matching_pattern(file=input_fn, trgt=trgt)\n",
    "print(f\"computing features of annihilation events for {len(input_fn_lst)} trajectory .csv files...\")\n",
    "print(f\"token example fn: {input_fn_lst[0]}\")\n",
    "#all CPU version\n",
    "b = db.from_sequence(input_fn_lst, npartitions=npartitions).map(routine)\n",
    "start = time.time()\n",
    "retval = list(b)\n",
    "print(f\"run time for computing features of annihilation events was {time.time()-start:.2f} seconds.\")\n",
    "beep(3)"
   ]
  },
  {
   "cell_type": "code",
   "execution_count": 44,
   "metadata": {
    "ExecuteTime": {
     "end_time": "2021-07-12T22:19:37.014374Z",
     "start_time": "2021-07-12T22:19:36.969791Z"
    }
   },
   "outputs": [],
   "source": [
    "list_of_files=retval\n",
    "list_of_files=[fn for fn in list_of_files if type(fn)==type(str()) and fn.find('Warning:')==-1]"
   ]
  },
  {
   "cell_type": "code",
   "execution_count": 45,
   "metadata": {
    "ExecuteTime": {
     "end_time": "2021-07-12T22:19:37.109681Z",
     "start_time": "2021-07-12T22:19:37.071433Z"
    }
   },
   "outputs": [],
   "source": [
    "# fn=retval[0]\n",
    "# type(fn)==type(str())"
   ]
  },
  {
   "cell_type": "code",
   "execution_count": 46,
   "metadata": {
    "ExecuteTime": {
     "end_time": "2021-07-12T22:19:37.203008Z",
     "start_time": "2021-07-12T22:19:37.164687Z"
    }
   },
   "outputs": [],
   "source": [
    "assert (len(list_of_files)>0)"
   ]
  },
  {
   "cell_type": "code",
   "execution_count": 47,
   "metadata": {
    "ExecuteTime": {
     "end_time": "2021-07-12T22:20:38.604568Z",
     "start_time": "2021-07-12T22:19:37.257179Z"
    }
   },
   "outputs": [
    {
     "name": "stdout",
     "output_type": "stream",
     "text": [
      "results saved in:\n",
      "/Users/timothytyree/Documents/GitHub/bgmc/python/data/local_results/euic_False_fc_2_r_0.1_D_2_L_10_kappa_1500_varkappa_0/annihilations_minr_1_mindur_20.csv\n"
     ]
    }
   ],
   "source": [
    "#merge all csv files into one big-ol' csv file\n",
    "file_out=os.path.join(os.path.dirname(os.path.dirname(list_of_files[0])),f'annihilations_minr_{min_range}_mindur_{min_duration}.csv')\n",
    "reval=produce_one_csv(list_of_files, file_out)#, encoding=\"utf-8\")\n",
    "print('results saved in:')\n",
    "print(file_out)"
   ]
  },
  {
   "cell_type": "markdown",
   "metadata": {},
   "source": [
    "## creation events"
   ]
  },
  {
   "cell_type": "code",
   "execution_count": 48,
   "metadata": {
    "ExecuteTime": {
     "end_time": "2021-07-12T22:20:38.696403Z",
     "start_time": "2021-07-12T22:20:38.657940Z"
    }
   },
   "outputs": [],
   "source": [
    "routine_traj_to_creation=get_routine_traj_to_creation(**kwargs)\n",
    "def routine(input_fn):\n",
    "    return routine_traj_to_creation(input_fn)"
   ]
  },
  {
   "cell_type": "code",
   "execution_count": 49,
   "metadata": {
    "ExecuteTime": {
     "end_time": "2021-07-12T22:22:37.691324Z",
     "start_time": "2021-07-12T22:20:38.754665Z"
    }
   },
   "outputs": [
    {
     "name": "stdout",
     "output_type": "stream",
     "text": [
      "computing features of creation events for 200 trajectory .csv files...\n",
      "run time for computing features of creation events was 118.26 seconds.\n"
     ]
    },
    {
     "data": {
      "text/plain": [
       "0"
      ]
     },
     "execution_count": 49,
     "metadata": {},
     "output_type": "execute_result"
    }
   ],
   "source": [
    "#find all files matching pattern\n",
    "trgt_raw='_traj_'\n",
    "trgt=input_fn[input_fn.find(trgt_raw):]\n",
    "input_fn_lst=get_all_files_matching_pattern(file=input_fn, trgt=trgt)\n",
    "print(f\"computing features of creation events for {len(input_fn_lst)} trajectory .csv files...\")\n",
    "\n",
    "#all CPU version\n",
    "b = db.from_sequence(input_fn_lst, npartitions=npartitions).map(routine)\n",
    "start = time.time()\n",
    "retval = list(b)\n",
    "print(f\"run time for computing features of creation events was {time.time()-start:.2f} seconds.\")\n",
    "beep(3)"
   ]
  },
  {
   "cell_type": "code",
   "execution_count": 50,
   "metadata": {
    "ExecuteTime": {
     "end_time": "2021-07-12T22:22:37.789889Z",
     "start_time": "2021-07-12T22:22:37.750265Z"
    }
   },
   "outputs": [],
   "source": [
    "list_of_files=retval\n",
    "list_of_files=[fn for fn in list_of_files if type(fn)==type(str()) and fn.find('Warning:')==-1]\n",
    "# list_of_files=[fn for fn in list_of_files if fn.find('Warning:')==-1]"
   ]
  },
  {
   "cell_type": "code",
   "execution_count": 51,
   "metadata": {
    "ExecuteTime": {
     "end_time": "2021-07-12T22:22:37.888338Z",
     "start_time": "2021-07-12T22:22:37.851387Z"
    }
   },
   "outputs": [
    {
     "name": "stdout",
     "output_type": "stream",
     "text": [
      "145\n"
     ]
    }
   ],
   "source": [
    "print(len(list_of_files))\n",
    "assert (len(list_of_files)>0)"
   ]
  },
  {
   "cell_type": "code",
   "execution_count": 52,
   "metadata": {
    "ExecuteTime": {
     "end_time": "2021-07-12T22:22:52.823734Z",
     "start_time": "2021-07-12T22:22:37.940005Z"
    }
   },
   "outputs": [
    {
     "name": "stdout",
     "output_type": "stream",
     "text": [
      "results saved in:\n",
      "/Users/timothytyree/Documents/GitHub/bgmc/python/data/local_results/euic_False_fc_2_r_0.1_D_2_L_10_kappa_1500_varkappa_0/creations_minr_1_mindur_20.csv\n"
     ]
    }
   ],
   "source": [
    "#merge all csv files into one big-ol' csv file\n",
    "file_out=os.path.join(os.path.dirname(os.path.dirname(list_of_files[0])),f'creations_minr_{min_range}_mindur_{min_duration}.csv')\n",
    "reval=produce_one_csv(list_of_files, file_out)#, encoding=\"utf-8\")\n",
    "print('results saved in:')\n",
    "print(file_out)"
   ]
  },
  {
   "cell_type": "code",
   "execution_count": 53,
   "metadata": {
    "ExecuteTime": {
     "end_time": "2021-07-12T22:22:54.979167Z",
     "start_time": "2021-07-12T22:22:52.877106Z"
    }
   },
   "outputs": [
    {
     "data": {
      "text/plain": [
       "0"
      ]
     },
     "execution_count": 53,
     "metadata": {},
     "output_type": "execute_result"
    }
   ],
   "source": [
    "beep(10)"
   ]
  },
  {
   "cell_type": "markdown",
   "metadata": {},
   "source": [
    "# dev computing mean radial velocities between nearest neighbors"
   ]
  },
  {
   "cell_type": "code",
   "execution_count": 207,
   "metadata": {
    "ExecuteTime": {
     "end_time": "2021-07-14T22:12:10.914739Z",
     "start_time": "2021-07-14T22:12:10.865792Z"
    }
   },
   "outputs": [],
   "source": [
    "# def get_ranges_to_others(xy_self,xy_others, pid_others, distance_L2_pbc,dist_thresh):\n",
    "#     pid_lst = []\n",
    "#     R_lst=[]\n",
    "#     xy_self=xy_self[0]\n",
    "#     for j,pid_other in enumerate(pid_others):\n",
    "#         dist = distance_L2_pbc ( xy_others[j], xy_self)\n",
    "#         if dist<dist_thresh:\n",
    "#             pid_lst.append (  int(pid_other) )\n",
    "#             R_lst.append (  float(dist) )\n",
    "#     return np.array(R_lst), np.array(pid_lst)"
   ]
  },
  {
   "cell_type": "code",
   "execution_count": 208,
   "metadata": {
    "ExecuteTime": {
     "end_time": "2021-07-14T22:12:11.299338Z",
     "start_time": "2021-07-14T22:12:11.245845Z"
    }
   },
   "outputs": [],
   "source": [
    "# def comp_radial_velocities_between_frames(df,frame,frame_nxt,pid=None,use_forward_R=False):\n",
    "#     #get data in the current frame\n",
    "#     dff=df[df.frame==frame]\n",
    "#     xy_values=dff[['x','y']].values\n",
    "#     pid_values=dff['particle'].values\n",
    "\n",
    "#     if pid is None:\n",
    "#         #(optional) randomly pick 1 particle from the current frame\n",
    "#         pid=random.choice(pid_values)\n",
    "\n",
    "#     #compute the range to each tip in the current frame\n",
    "#     xy_self=xy_values[pid_values==pid]\n",
    "#     boo=pid_values!=pid\n",
    "#     pid_others=pid_values[boo]\n",
    "#     xy_others=xy_values[boo]\n",
    "#     pid_in_range=get_tips_in_range(xy_self,xy_others, pid_others, distance_L2_pbc, dist_thresh=dist_thresh)\n",
    "#     R_lst, pid_lst=get_ranges_to_others(xy_self,xy_others, pid_others, distance_L2_pbc,dist_thresh)\n",
    "\n",
    "#     #get data in the next frame\n",
    "#     dff=df[df.frame==frame_nxt]\n",
    "#     xy_values=dff[['x','y']].values\n",
    "#     pid_values=dff['particle'].values\n",
    "\n",
    "#     R_out_lst=[]\n",
    "#     dRdt_out_lst=[]\n",
    "#     #if the randomly selected particle is still present\n",
    "#     if (pid==pid_values).any():\n",
    "#         xy_self=xy_values[pid_values==pid]\n",
    "#         #for each pid_other in pid_lst\n",
    "#         for j,pid_other in enumerate(pid_lst):\n",
    "#             #if the other particle is still present\n",
    "#             boo=pid_other==pid_values\n",
    "#             if boo.any():\n",
    "#                 #get the next location of that other particle\n",
    "#                 xy_other=xy_values[boo]\n",
    "#                 #compute the range between those tips in the next frame\n",
    "#                 R_nxt=distance_L2_pbc ( xy_other[0], xy_self[0])\n",
    "#                 R_prv=R_lst[j]\n",
    "#                 #compute dRdt and average R for those tips\n",
    "#                 dRdt_out=DS*(R_nxt-R_prv)/DT\n",
    "#                 #optionally, measure range from previous time point only\n",
    "#                 if use_forward_R:\n",
    "#                     R_out=R_prv\n",
    "#                 else:\n",
    "#                     R_out=DS*0.5*(R_nxt+R_prv)\n",
    "                \n",
    "#                 #append results to list\n",
    "#                 R_out_lst.append(R_out)\n",
    "#                 dRdt_out_lst.append(dRdt_out)\n",
    "\n",
    "#                 #TODO(later, optionally): mark rows that have been visited as visited\n",
    "#     return R_out_lst, dRdt_out_lst"
   ]
  },
  {
   "cell_type": "code",
   "execution_count": 209,
   "metadata": {
    "ExecuteTime": {
     "end_time": "2021-07-14T22:12:13.284823Z",
     "start_time": "2021-07-14T22:12:13.227458Z"
    }
   },
   "outputs": [],
   "source": [
    "# #TODO: move to bootstrap.py\n",
    "# def bin_and_bootstrap_xy_values(x,y,xlabel='r',ylabel='drdt',bins='auto',min_numobs=None,num_bootstrap_samples=1000):\n",
    "#     R_values=x\n",
    "#     dRdt_values=y\n",
    "#     num_samples=num_bootstrap_samples\n",
    "#     #implement measure of dRdt that explicitely bins by radius\n",
    "#     counts,r_edges=np.histogram(R_values,bins=bins)\n",
    "#     range_values=r_edges\n",
    "#     if min_numobs is None:\n",
    "#         min_numobs=np.mean(counts)/8\n",
    "\n",
    "#     r_lst=[];drdt_lst=[];Delta_r_lst=[];Delta_drdt_lst=[];\n",
    "#     count_lst=[];p_r_lst=[];p_drdt_lst=[]\n",
    "#     for j in range(r_edges.shape[0]-1):\n",
    "#         numobs=counts[j]\n",
    "#         if numobs>min_numobs:\n",
    "#             boo=(R_values>=r_edges[j])&(R_values<r_edges[j+1])\n",
    "#             r_values=R_values[boo]\n",
    "#             drdt_values=dRdt_values[boo]\n",
    "#             #compute mean values in bin\n",
    "#             r=np.mean(r_values)\n",
    "#             drdt=np.mean(drdt_values)\n",
    "#             # compute 95% CI for mean\n",
    "#             Delta_r,p_r=bootstrap_95CI_Delta_mean(r_values,\n",
    "#                                                  num_samples=num_samples)\n",
    "#             Delta_drdt,p_drdt=bootstrap_95CI_Delta_mean(drdt_values,\n",
    "#                                                  num_samples=num_samples)\n",
    "#             #append results to list\n",
    "#             r_lst.append(r)\n",
    "#             drdt_lst.append(drdt)\n",
    "#             Delta_r_lst.append(Delta_r)\n",
    "#             Delta_drdt_lst.append(Delta_drdt)\n",
    "#             p_r_lst.append(p_r)\n",
    "#             p_drdt_lst.append(p_drdt)\n",
    "#             count_lst.append(numobs)\n",
    "#     r_values=np.array(r_lst)\n",
    "#     drdt_values=np.array(drdt_lst)\n",
    "#     Delta_r_values=np.array(Delta_r_lst)\n",
    "#     Delta_drdt_values=np.array(Delta_drdt_lst)\n",
    "#     p_r_values=np.array(p_r_lst)\n",
    "#     p_drdt_values=np.array(p_drdt_lst)\n",
    "#     count_values=np.array(count_lst)\n",
    "#     dict_out={\n",
    "#         xlabel:r_values,\n",
    "#         ylabel:drdt_values,\n",
    "#         f'Delta_{xlabel}':Delta_r_values,\n",
    "#         f'Delta_{ylabel}':Delta_drdt_values,\n",
    "#         f'p_{xlabel}':p_r_values,\n",
    "#         f'p_{ylabel}':p_drdt_values,\n",
    "#         'counts':count_values\n",
    "#     }\n",
    "#     return dict_out"
   ]
  },
  {
   "cell_type": "code",
   "execution_count": 251,
   "metadata": {
    "ExecuteTime": {
     "end_time": "2021-07-14T22:38:19.129860Z",
     "start_time": "2021-07-14T22:38:19.074713Z"
    }
   },
   "outputs": [],
   "source": [
    "# def comp_all_radial_velocities_between_frames(df,frame,frame_nxt,Rthresh=9999.):\n",
    "#     '''Computes all radial velocities between frames, frame and frame_nxt.  Filters values when minimum R is larger than Rthresh\n",
    "#     TODO(later): remove the frequent double counting of observations...\n",
    "#     Example Usage:\n",
    "#     R_lst, dRdt_lst = comp_all_radial_velocities_between_frames(df,frame=frame,frame_nxt=frame+num_frames_between,Rthresh=0.8)\n",
    "#     '''\n",
    "#     #simplest way to compute the smallest R:\n",
    "#     #compute R and dRdt for each choice of pid_self and choose the smallest...\n",
    "#     #in that case, I might as well just choose all of them...\n",
    "#     #but then the resulting data would be huge...\n",
    "#     #use Rthresh to filter the data that isn't near anything and thus contains no information.\n",
    "#     frame_values=np.array(sorted(set(df.frame.values)))\n",
    "#     #get data in the current frame\n",
    "#     dff=df[df.frame==frame]\n",
    "#     xy_values=dff[['x','y']].values\n",
    "#     pid_values=dff['particle'].values\n",
    "#     R_lst=[];dRdt_lst=[]\n",
    "#     for pid in pid_values:\n",
    "#         _R_lst,_dRdt_lst = comp_radial_velocities_between_frames(df,frame=frame,frame_nxt=frame+num_frames_between,pid=pid)\n",
    "#         Rmin=np.min(_R_lst)\n",
    "#         if Rmin<=Rthresh:\n",
    "#             R_lst.extend(_R_lst)\n",
    "#             dRdt_lst.extend(_dRdt_lst)\n",
    "#     return R_lst, dRdt_lst"
   ]
  },
  {
   "cell_type": "code",
   "execution_count": 302,
   "metadata": {
    "ExecuteTime": {
     "end_time": "2021-07-14T22:53:13.500342Z",
     "start_time": "2021-07-14T22:53:13.441106Z"
    }
   },
   "outputs": [],
   "source": [
    "# def comp_neighboring_radial_velocities_between_frames(df,frame,num_frames_between):\n",
    "#     '''Computes radial velocities between frames, frame and frame_nxt, for particles that are nearest to eachother.  Filters values when minimum R is larger than Rthresh\n",
    "#     Example Usage:\n",
    "#     R_values, dRdt_values = comp_neighboring_radial_velocities_between_frames(df,frame=frame,frame_nxt=frame+num_frames_between)\n",
    "#     '''\n",
    "#     frame_values=np.array(sorted(set(df.frame.values)))\n",
    "#     #get data in the current frame\n",
    "#     dff=df[df.frame==frame]\n",
    "#     xy_values=dff[['x','y']].values\n",
    "#     pid_values=dff['particle'].values\n",
    "#     R_lst=[];dRdt_lst=[]\n",
    "#     for pid in pid_values:\n",
    "#         _R_lst,_dRdt_lst = comp_radial_velocities_between_frames(df,frame=frame,frame_nxt=frame+num_frames_between,pid=pid)\n",
    "#         if len(_R_lst)>0:\n",
    "#             Rmin=np.min(_R_lst)\n",
    "#             arg=np.argmin(_R_lst)\n",
    "#             dRdtmin=_dRdt_lst[arg]\n",
    "#             R_lst.append(Rmin)\n",
    "#             dRdt_lst.append(dRdtmin)\n",
    "#     #remove duplicates\n",
    "#     d=pd.DataFrame()\n",
    "#     d['R']=R_lst\n",
    "#     d['dRdt']=dRdt_lst\n",
    "#     d=d.round(12).drop_duplicates()\n",
    "#     R_values=d['R'].values\n",
    "#     dRdt_values=d['dRdt'].values\n",
    "#     return R_values, dRdt_values"
   ]
  },
  {
   "cell_type": "code",
   "execution_count": 74,
   "metadata": {
    "ExecuteTime": {
     "end_time": "2021-07-15T01:55:01.009402Z",
     "start_time": "2021-07-15T01:55:00.791814Z"
    }
   },
   "outputs": [
    {
     "name": "stdout",
     "output_type": "stream",
     "text": [
      "number of files in list: 200\n",
      "/Users/timothytyree/Documents/GitHub/bgmc/python/data/local_results/euic_False_fc_2_r_0.1_D_2_L_10_kappa_1500_varkappa_0/trajectories/pbc_particle_log81_traj_sr_30_mem_0.csv\n"
     ]
    }
   ],
   "source": [
    "import random\n",
    "\n",
    "#particle model\n",
    "input_fn=\"/Users/timothytyree/Documents/GitHub/bgmc/python/data/local_results/euic_False_fc_2_r_0.1_D_2_L_10_kappa_1500_varkappa_0/trajectories/pbc_particle_log81_traj_sr_30_mem_0.csv\"\n",
    "ds=10\n",
    "width=10;height=width\n",
    "distance_L2_pbc=get_distance_L2_pbc(width,height)\n",
    "\n",
    "trgt=input_fn[input_fn.find('_traj_'):]\n",
    "# trgt='_traj_sr_600_mem_0.csv'\n",
    "assert(input_fn[-len(trgt):]==trgt)\n",
    "\n",
    "input_fn_lst=get_all_files_matching_pattern(input_fn,trgt)\n",
    "print(f\"number of files in list: {len(input_fn_lst)}\")\n",
    "os.chdir(nb_dir)\n",
    "print(input_fn)"
   ]
  },
  {
   "cell_type": "code",
   "execution_count": 75,
   "metadata": {
    "ExecuteTime": {
     "end_time": "2021-07-15T01:55:02.306748Z",
     "start_time": "2021-07-15T01:55:02.241920Z"
    }
   },
   "outputs": [],
   "source": [
    "dist_thresh=width/2\n",
    "use_drop_shorter_than=False\n",
    "drop_shorter_than=150 #ms\n",
    "round_t_to_n_digits=5\n",
    "frame_min=0\n",
    "num_frames_between=1\n",
    "use_random_frames=False\n",
    "num_random_frames=500\n",
    "\n",
    "# def routine_for_computing_dRdt_in_bulk(input_fn):\n",
    "def routine(input_fn):\n",
    "    #load the data\n",
    "    df_raw=pd.read_csv(input_fn)\n",
    "    DT = compute_DT(df_raw, round_t_to_n_digits=round_t_to_n_digits) #ms/frame\n",
    "    DS=ds/width #cm/pixel\n",
    "    # print(f\"time between two observations is {DT} milliseconds.\")\n",
    "    if use_drop_shorter_than:\n",
    "        #drop any trajectories don't last longer than T_min\n",
    "        df_raw=get_all_longer_than(df_raw.copy(),DT,T_min=drop_shorter_than)\n",
    "    #     print(f\"percent of observations not filtered by minimum duration of {drop_shorter_than} ms was {100*df.size/df_raw.size:.2f}%.\")\n",
    "\n",
    "    frame_values=np.array(sorted(set(df_raw.frame.values)))#[:-num_frames_between]#not sure if needed, bc \n",
    "    boo=frame_values>=frame_min\n",
    "    frame_values=frame_values[boo]\n",
    "    #randomly select some frames to sample\n",
    "    if use_random_frames:\n",
    "        random_frames=np.random.choice(frame_values[boo],size=num_random_frames,replace=False)\n",
    "        frames_input=random_frames\n",
    "    else:\n",
    "        frames_input=frame_values\n",
    "\n",
    "    #for each frame considered, measure dRdt and R\n",
    "    R_out_lst=[];dRdt_out_lst=[]\n",
    "    # for frame in random_frames:\n",
    "    frame_final=frames_input[-1]\n",
    "    for frame in frames_input:\n",
    "        #TODO: extend to consider all pid present in frame\n",
    "        R_values, dRdt_values = comp_neighboring_radial_velocities_between_frames(df_raw,frame=frame,num_frames_between=num_frames_between,\n",
    "                                distance_L2_pbc=distance_L2_pbc,dist_thresh=dist_thresh,DS=DS,DT=DT)\n",
    "        R_out_lst.extend(R_values)\n",
    "        dRdt_out_lst.extend(dRdt_values)\n",
    "    #     printProgressBar(frame + 1, frame_final, prefix = 'Progress:', suffix = 'Complete', length = 50)\n",
    "\n",
    "    R_values=np.array(R_out_lst)\n",
    "    dRdt_values=np.array(dRdt_out_lst)\n",
    "    #(optional) bootstrap the output\n",
    "    # dict_out=bin_and_bootstrap_xy_values(x=R_values,y=dRdt_values,xlabel='r',ylabel='drdt',bins='auto',min_numobs=None,num_bootstrap_samples=1000)\n",
    "    # df_drdt=pd.DataFrame(dict_out)\n",
    "\n",
    "    #save the output as csv\n",
    "    df_out=pd.DataFrame({\n",
    "        'r':R_values,\n",
    "        'drdt':dRdt_values,\n",
    "    })\n",
    "    save_folder='/'.join(os.path.dirname(input_fn).split('/')[:-1])+'/general_radial_velocities'\n",
    "    if not os.path.exists(save_folder):\n",
    "        os.mkdir(save_folder)\n",
    "    os.chdir(save_folder)\n",
    "    save_fn=os.path.basename(input_fn).replace('.csv',f'_drdt_distthrsh_{dist_thresh}.csv')\n",
    "    df_out.to_csv(save_fn,index=False)\n",
    "    return os.path.abspath(save_fn)"
   ]
  },
  {
   "cell_type": "markdown",
   "metadata": {},
   "source": [
    "It takes ~35 minutes to run 1 trial on 1 core in a dense way"
   ]
  },
  {
   "cell_type": "code",
   "execution_count": null,
   "metadata": {
    "ExecuteTime": {
     "start_time": "2021-07-15T01:55:12.586Z"
    }
   },
   "outputs": [
    {
     "name": "stdout",
     "output_type": "stream",
     "text": [
      "mean radial velocities the bulk of 200 trajectory .csv files...\n",
      "token example fn: /Users/timothytyree/Documents/GitHub/bgmc/python/data/local_results/euic_False_fc_2_r_0.1_D_2_L_10_kappa_1500_varkappa_0/trajectories/pbc_particle_log144_traj_sr_30_mem_0.csv\n"
     ]
    }
   ],
   "source": [
    "npartitions=os.cpu_count()\n",
    "print(f\"mean radial velocities the bulk of {len(input_fn_lst)} trajectory .csv files...\")\n",
    "print(f\"token example fn: {input_fn_lst[0]}\")\n",
    "#all CPU version\n",
    "b = db.from_sequence(input_fn_lst, npartitions=npartitions).map(routine)\n",
    "start = time.time()\n",
    "retval = list(b)\n",
    "print(f\"run time for computing features of annihilation events was {time.time()-start:.2f} seconds.\")\n",
    "beep(3)"
   ]
  },
  {
   "cell_type": "code",
   "execution_count": null,
   "metadata": {},
   "outputs": [],
   "source": []
  },
  {
   "cell_type": "code",
   "execution_count": 29,
   "metadata": {
    "ExecuteTime": {
     "end_time": "2021-07-14T23:21:35.194007Z",
     "start_time": "2021-07-14T23:21:35.139912Z"
    }
   },
   "outputs": [],
   "source": [
    "# #for each frame considered, measure every dRdt and R for a randomly chosen particle\n",
    "# dRdt_out_lst=[]\n",
    "# R_out_lst=[]\n",
    "# for frame in random_frames:\n",
    "#     R_lst,dRdt_lst = comp_radial_velocities_between_frames(df_raw,frame=frame,frame_nxt=frame+num_frames_between,pid=None)\n",
    "#     dRdt_out_lst.extend(dRdt_lst)\n",
    "#     R_out_lst.extend(R_lst)\n",
    "\n",
    "# fontsize=22\n",
    "# plt.scatter(R_out_lst,dRdt_out_lst, alpha=0.3)\n",
    "# plt.plot(x_values, y_values,lw=3,color='C3')\n",
    "\n",
    "# plt.xlabel('R (cm)',fontsize=fontsize)\n",
    "# plt.ylabel('dR/dt (cm/ms)',fontsize=fontsize)\n",
    "# plt.show()\n",
    "# #DONE: basic test for ^that... try it on 50 random frames\n",
    "# #DONE: run ^that on many frames...  do the results make sense? "
   ]
  },
  {
   "cell_type": "code",
   "execution_count": 41,
   "metadata": {
    "ExecuteTime": {
     "end_time": "2021-07-15T00:07:48.172273Z",
     "start_time": "2021-07-15T00:07:48.107885Z"
    }
   },
   "outputs": [
    {
     "name": "stdout",
     "output_type": "stream",
     "text": [
      "the ols fit for particle model:\n",
      "m=-0.004449360000315027\n",
      "Delta_m=0.006128274569303969\n",
      "b=0.004194677779880161\n",
      "Delta_b=0.005203350872470987\n",
      "Rsquared=0.03318354846186404\n",
      "Nobs= 1783 +- 736\n",
      "\n",
      "input_fn: /Users/timothytyree/Documents/GitHub/bgmc/python/data/local_results/euic_False_fc_2_r_0.1_D_2_L_10_kappa_1500_varkappa_0/trajectories/pbc_particle_log144_traj_sr_30_mem_0.csv\n"
     ]
    }
   ],
   "source": [
    "# (optional) bootstrap the output\n",
    "dict_out=bin_and_bootstrap_xy_values(x=R_values,y=dRdt_values,xlabel='r',ylabel='drdt',bins='auto',min_numobs=None,num_bootstrap_samples=1000)\n",
    "df_drdt=pd.DataFrame(dict_out)\n",
    "\n",
    "#compute the fit\n",
    "df=df_drdt\n",
    "rmin=0.3 #cm\n",
    "rmax=5 #cm\n",
    "\n",
    "r_values=df['r'].values\n",
    "drdt_values=df['drdt'].values\n",
    "Delta_r_values=df['Delta_r'].values\n",
    "Delta_drdt_values=df['Delta_drdt'].values\n",
    "counts=df['counts'].values\n",
    "\n",
    "#fit drdt_values to F0+F1/r with OLS fit for LR model where 1/r is greater than some 1/cm\n",
    "x_values=r_values\n",
    "y_values=drdt_values\n",
    "x_err_values=Delta_r_values\n",
    "y_err_values=Delta_drdt_values\n",
    "\n",
    "#fit drdt_values to F0+F1/r with OLS fit for LR model where 1/r is greater than some 1/cm\n",
    "boo=(r_values>rmin)&(r_values<rmax)\n",
    "x=1/r_values[boo]\n",
    "y=drdt_values[boo]\n",
    "dict_force_fit=compute_95CI_ols(x,y)\n",
    "y_hat_values=dict_force_fit['b']+dict_force_fit['m']/r_values\n",
    "\n",
    "#(optional) rename specific values\n",
    "dict_force_fit=dict_force_fit\n",
    "y_hat_values=y_hat_values\n",
    "\n",
    "#bluf\n",
    "print(f\"the ols fit for particle model:\")\n",
    "print_dict(dict_force_fit)\n",
    "print(f\"Nobs= {np.mean(counts):.0f} +- {np.std(counts):.0f}\")\n",
    "print(f\"\\ninput_fn: {input_fn}\")"
   ]
  },
  {
   "cell_type": "code",
   "execution_count": 42,
   "metadata": {
    "ExecuteTime": {
     "end_time": "2021-07-15T00:07:57.086298Z",
     "start_time": "2021-07-15T00:07:57.020773Z"
    }
   },
   "outputs": [
    {
     "data": {
      "text/plain": [
       "0.2384668166465103"
      ]
     },
     "execution_count": 42,
     "metadata": {},
     "output_type": "execute_result"
    }
   ],
   "source": [
    "np.min(r_values)"
   ]
  },
  {
   "cell_type": "code",
   "execution_count": 20,
   "metadata": {
    "ExecuteTime": {
     "end_time": "2021-07-14T23:19:30.392199Z",
     "start_time": "2021-07-14T23:19:30.298768Z"
    }
   },
   "outputs": [],
   "source": [
    "#TODO: move this cell to the test folder\n",
    "#trivial test to see what happens if a bad int is passed for frame_nxt\n",
    "frame_values = np.array(sorted(set(df.frame.values)))\n",
    "R_lst, dRdt_lst = comp_radial_velocities_between_frames(\n",
    "    df,dist_thresh=dist_thresh,\n",
    "    frame=frame_values[-1],\n",
    "    frame_nxt=frame_values[-1] + 1,\n",
    "    pid=None,\n",
    "    distance_L2_pbc=distance_L2_pbc,DS=DS,DT=DT)\n",
    "assert (len(R_lst) == 0)\n",
    "assert (len(dRdt_lst) == 0)\n",
    "\n",
    "#basic test forcomp_radial_velocities_between_frames. if frame_nxt is frame, then dRdt should always be zero...\n",
    "random.seed(1234)\n",
    "R_lst, dRdt_lst = comp_radial_velocities_between_frames(\n",
    "    df, frame=100, frame_nxt=100, pid=None, distance_L2_pbc=distance_L2_pbc,dist_thresh=dist_thresh,DS=DS,DT=DT)\n",
    "dRdt_values = np.array(dRdt_lst)\n",
    "assert (np.isclose(dRdt_values, 0.).all())\n",
    "\n",
    "#basic test forcomp_radial_velocities_between_frames. if frame_nxt is frame, then dRdt should always be zero...\n",
    "random.seed(1234)\n",
    "frame=frame_values[100]\n",
    "R_values, dRdt_values = comp_neighboring_radial_velocities_between_frames(df_raw,frame=frame,num_frames_between=0,\n",
    "                            distance_L2_pbc=distance_L2_pbc,dist_thresh=dist_thresh,DS=DS,DT=DT)\n",
    "assert(np.isclose(dRdt_values,0.).all())"
   ]
  },
  {
   "cell_type": "code",
   "execution_count": 43,
   "metadata": {
    "ExecuteTime": {
     "end_time": "2021-07-15T00:07:58.790510Z",
     "start_time": "2021-07-15T00:07:58.383191Z"
    }
   },
   "outputs": [
    {
     "data": {
      "image/png": "[encoded data removed]",
      "text/plain": [
       "<Figure size 648x288 with 2 Axes>"
      ]
     },
     "metadata": {
      "needs_background": "light"
     },
     "output_type": "display_data"
    }
   ],
   "source": [
    "#plot mean radial velocities\n",
    "fig, axs = plt.subplots(ncols=2, figsize=(9, 4))\n",
    "PlotMeanRadialVelocities(axs, x_values, y_values, y_err_values, y_hat_values,c='C3')\n",
    "# PlotMeanRadialVelocities(axs, x_values2, y_values2, y_err_values2, y_hat_values2,c='C4')\n",
    "plt.tight_layout()\n",
    "plt.show()"
   ]
  },
  {
   "cell_type": "code",
   "execution_count": 205,
   "metadata": {
    "ExecuteTime": {
     "end_time": "2021-07-14T22:11:21.065269Z",
     "start_time": "2021-07-14T22:11:21.015199Z"
    }
   },
   "outputs": [
    {
     "data": {
      "text/plain": [
       "[1, 2, 3]"
      ]
     },
     "execution_count": 205,
     "metadata": {},
     "output_type": "execute_result"
    }
   ],
   "source": [
    "#TODO: make a dense plot for 1 trial using a daskbag routine on all frames for 1 trial\n"
   ]
  },
  {
   "cell_type": "code",
   "execution_count": null,
   "metadata": {},
   "outputs": [],
   "source": []
  }
 ],
 "metadata": {
  "kernelspec": {
   "display_name": "Python 3",
   "language": "python",
   "name": "python3"
  },
  "language_info": {
   "codemirror_mode": {
    "name": "ipython",
    "version": 3
   },
   "file_extension": ".py",
   "mimetype": "text/x-python",
   "name": "python",
   "nbconvert_exporter": "python",
   "pygments_lexer": "ipython3",
   "version": "3.8.7"
  },
  "toc": {
   "base_numbering": 1,
   "nav_menu": {},
   "number_sections": true,
   "sideBar": true,
   "skip_h1_title": false,
   "title_cell": "Table of Contents",
   "title_sidebar": "Contents",
   "toc_cell": false,
   "toc_position": {},
   "toc_section_display": true,
   "toc_window_display": false
  },
  "varInspector": {
   "cols": {
    "lenName": 16,
    "lenType": 16,
    "lenVar": 40
   },
   "kernels_config": {
    "python": {
     "delete_cmd_postfix": "",
     "delete_cmd_prefix": "del ",
     "library": "var_list.py",
     "varRefreshCmd": "print(var_dic_list())"
    },
    "r": {
     "delete_cmd_postfix": ") ",
     "delete_cmd_prefix": "rm(",
     "library": "var_list.r",
     "varRefreshCmd": "cat(var_dic_list()) "
    }
   },
   "types_to_exclude": [
    "module",
    "function",
    "builtin_function_or_method",
    "instance",
    "_Feature"
   ],
   "window_display": false
  }
 },
 "nbformat": 4,
 "nbformat_minor": 4
}
