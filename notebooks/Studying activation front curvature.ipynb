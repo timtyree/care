{
 "cells": [
  {
   "cell_type": "markdown",
   "metadata": {},
   "source": [
    "# TODO(after verifying whether there are repeatable forces acting along activation fronts): Studying activation front curvature\n",
    "Tim Tyree<br>\n",
    "5.3.2021"
   ]
  },
  {
   "cell_type": "code",
   "execution_count": 1,
   "metadata": {
    "ExecuteTime": {
     "end_time": "2021-05-03T18:16:38.498694Z",
     "start_time": "2021-05-03T18:16:35.763773Z"
    }
   },
   "outputs": [],
   "source": [
    "from lib.my_initialization import *"
   ]
  },
  {
   "cell_type": "code",
   "execution_count": null,
   "metadata": {},
   "outputs": [],
   "source": [
    "#TODO: import example and compute arclen_values\n",
    "#TODO: interpolate txt to contour nodes\n",
    "#TODO: get a sample activation front identified in terms of arcVc_values\n",
    "#TODO: plot curvature versus sigma at t=900\n",
    "#TODO: see how ^that evolves with time"
   ]
  },
  {
   "cell_type": "markdown",
   "metadata": {},
   "source": [
    "- ...TODO: come up with some simple rules for curvature versus time\n",
    "- ...TODO: use intersections to compute interactions between activation fronts"
   ]
  },
  {
   "cell_type": "code",
   "execution_count": 2,
   "metadata": {
    "ExecuteTime": {
     "end_time": "2021-05-03T19:38:28.565654Z",
     "start_time": "2021-05-03T19:38:28.560485Z"
    }
   },
   "outputs": [],
   "source": [
    "#dev curvature of line\n",
    "import numpy as np\n",
    "\n",
    "a = np.array([ [  0.  ,   0.  ],[  0.3 ,   0.  ],[  1.25,  -0.1 ],\n",
    "              [  2.1 ,  -0.9 ],[  2.85,  -2.3 ],[  3.8 ,  -3.95],\n",
    "              [  5.  ,  -5.75],[  6.4 ,  -7.8 ],[  8.05,  -9.9 ],\n",
    "              [  9.9 , -11.6 ],[ 12.05, -12.85],[ 14.25, -13.7 ],\n",
    "              [ 16.5 , -13.8 ],[ 19.25, -13.35],[ 21.3 , -12.2 ],\n",
    "              [ 22.8 , -10.5 ],[ 23.55,  -8.15],[ 22.95,  -6.1 ],\n",
    "              [ 21.35,  -3.95],[ 19.1 ,  -1.9 ]])"
   ]
  },
  {
   "cell_type": "code",
   "execution_count": 7,
   "metadata": {
    "ExecuteTime": {
     "end_time": "2021-05-03T19:39:43.298930Z",
     "start_time": "2021-05-03T19:39:43.290363Z"
    }
   },
   "outputs": [],
   "source": [
    "dx_dt = np.gradient(a[:, 0])\n",
    "dy_dt = np.gradient(a[:, 1])\n",
    "velocity = np.array([ [dx_dt[i], dy_dt[i]] for i in range(dx_dt.size)])\n",
    "ds_dt = np.sqrt(dx_dt * dx_dt + dy_dt * dy_dt)\n",
    "tangent = np.array([1/ds_dt] * 2).transpose() * velocity\n",
    "tangent_x = tangent[:, 0]\n",
    "tangent_y = tangent[:, 1]\n",
    "\n",
    "deriv_tangent_x = np.gradient(tangent_x)\n",
    "deriv_tangent_y = np.gradient(tangent_y)\n",
    "\n",
    "dT_dt = np.array([ [deriv_tangent_x[i], deriv_tangent_y[i]] for i in range(deriv_tangent_x.size)])\n",
    "\n",
    "length_dT_dt = np.sqrt(deriv_tangent_x * deriv_tangent_x + deriv_tangent_y * deriv_tangent_y)\n",
    "\n",
    "normal = np.array([1/length_dT_dt] * 2).transpose() * dT_dt\n",
    "\n",
    "d2s_dt2 = np.gradient(ds_dt)\n",
    "d2x_dt2 = np.gradient(dx_dt)\n",
    "d2y_dt2 = np.gradient(dy_dt)\n",
    "\n",
    "curvature = np.abs(d2x_dt2 * dy_dt - dx_dt * d2y_dt2) / (dx_dt * dx_dt + dy_dt * dy_dt)**1.5\n",
    "t_component = np.array([d2s_dt2] * 2).transpose()\n",
    "n_component = np.array([curvature * ds_dt * ds_dt] * 2).transpose()\n",
    "\n",
    "acceleration = t_component * tangent + n_component * normal"
   ]
  },
  {
   "cell_type": "code",
   "execution_count": 13,
   "metadata": {
    "ExecuteTime": {
     "end_time": "2021-05-03T19:43:47.622611Z",
     "start_time": "2021-05-03T19:43:47.465633Z"
    }
   },
   "outputs": [
    {
     "data": {
      "image/png": "[encoded data removed]",
      "text/plain": [
       "<Figure size 432x288 with 1 Axes>"
      ]
     },
     "metadata": {
      "needs_background": "light"
     },
     "output_type": "display_data"
    }
   ],
   "source": [
    "sigma_unitless_values=np.linspace(0,1,curvature.shape[0])\n",
    "plt.plot(sigma_unitless_values,curvature)\n",
    "plt.xlabel('position')\n",
    "plt.ylabel('curvature')\n",
    "plt.show()"
   ]
  },
  {
   "cell_type": "markdown",
   "metadata": {
    "ExecuteTime": {
     "end_time": "2021-05-03T19:41:12.953774Z",
     "start_time": "2021-05-03T19:41:12.948940Z"
    }
   },
   "source": [
    "NOTE: ^this curve can be made smoother by \n",
    "1. fitting a BSpline through the data points and \n",
    "1. computing the curvature as a function of derivatives of ^that BSpline fit."
   ]
  },
  {
   "cell_type": "code",
   "execution_count": null,
   "metadata": {},
   "outputs": [],
   "source": []
  }
 ],
 "metadata": {
  "kernelspec": {
   "display_name": "Python 3",
   "language": "python",
   "name": "python3"
  },
  "language_info": {
   "codemirror_mode": {
    "name": "ipython",
    "version": 3
   },
   "file_extension": ".py",
   "mimetype": "text/x-python",
   "name": "python",
   "nbconvert_exporter": "python",
   "pygments_lexer": "ipython3",
   "version": "3.8.7"
  },
  "varInspector": {
   "cols": {
    "lenName": 16,
    "lenType": 16,
    "lenVar": 40
   },
   "kernels_config": {
    "python": {
     "delete_cmd_postfix": "",
     "delete_cmd_prefix": "del ",
     "library": "var_list.py",
     "varRefreshCmd": "print(var_dic_list())"
    },
    "r": {
     "delete_cmd_postfix": ") ",
     "delete_cmd_prefix": "rm(",
     "library": "var_list.r",
     "varRefreshCmd": "cat(var_dic_list()) "
    }
   },
   "types_to_exclude": [
    "module",
    "function",
    "builtin_function_or_method",
    "instance",
    "_Feature"
   ],
   "window_display": false
  }
 },
 "nbformat": 4,
 "nbformat_minor": 4
}
