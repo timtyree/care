{
 "cells": [
  {
   "cell_type": "markdown",
   "metadata": {},
   "source": [
    "# TODO(after verifying whether there are repeatable forces acting along activation fronts): Studying activation front curvature\n",
    "Tim Tyree<br>\n",
    "5.3.2021"
   ]
  },
  {
   "cell_type": "code",
   "execution_count": 1,
   "metadata": {
    "ExecuteTime": {
     "end_time": "2021-05-12T15:48:04.704944Z",
     "start_time": "2021-05-12T15:48:01.935454Z"
    }
   },
   "outputs": [],
   "source": [
    "from lib.my_initialization import *"
   ]
  },
  {
   "cell_type": "code",
   "execution_count": 2,
   "metadata": {
    "ExecuteTime": {
     "end_time": "2021-05-12T15:48:04.715670Z",
     "start_time": "2021-05-12T15:48:04.713127Z"
    }
   },
   "outputs": [],
   "source": [
    "#TODO: import example and compute arclen_values\n",
    "#TODO: interpolate txt to contour nodes\n",
    "#TODO: get a sample activation front identified in terms of arcVc_values\n",
    "#TODO: plot curvature versus sigma at t=900\n",
    "#TODO: see how ^that evolves with time"
   ]
  },
  {
   "cell_type": "markdown",
   "metadata": {},
   "source": [
    "- ...TODO: come up with some simple rules for curvature versus time\n",
    "- ...TODO: use intersections to compute interactions between activation fronts"
   ]
  },
  {
   "cell_type": "code",
   "execution_count": 3,
   "metadata": {
    "ExecuteTime": {
     "end_time": "2021-05-12T15:48:04.729030Z",
     "start_time": "2021-05-12T15:48:04.723929Z"
    }
   },
   "outputs": [],
   "source": [
    "#dev curvature of line\n",
    "import numpy as np\n",
    "\n",
    "a = np.array([ [  0.  ,   0.  ],[  0.3 ,   0.  ],[  1.25,  -0.1 ],\n",
    "              [  2.1 ,  -0.9 ],[  2.85,  -2.3 ],[  3.8 ,  -3.95],\n",
    "              [  5.  ,  -5.75],[  6.4 ,  -7.8 ],[  8.05,  -9.9 ],\n",
    "              [  9.9 , -11.6 ],[ 12.05, -12.85],[ 14.25, -13.7 ],\n",
    "              [ 16.5 , -13.8 ],[ 19.25, -13.35],[ 21.3 , -12.2 ],\n",
    "              [ 22.8 , -10.5 ],[ 23.55,  -8.15],[ 22.95,  -6.1 ],\n",
    "              [ 21.35,  -3.95],[ 19.1 ,  -1.9 ]])"
   ]
  },
  {
   "cell_type": "code",
   "execution_count": 7,
   "metadata": {
    "ExecuteTime": {
     "end_time": "2021-05-12T15:48:38.915858Z",
     "start_time": "2021-05-12T15:48:38.913006Z"
    }
   },
   "outputs": [],
   "source": [
    "# # TODO(for modeling the curvature dynamics...)\n",
    "# # TODO: get location values of an activation front identified via voltage>V_threshold values or dVcdt_avg>0\n",
    "# def compute_curvature(array):\n",
    "#     '''array is a numpy array of size N-by-2 that indicates\n",
    "#     a continuous curve embedded in the extended real plane.\n",
    "#     returns a dict of (signed?) curvature values (with other geometric values)\n",
    "#     Example Usage:\n",
    "#     dict_curvature=compute_curvature(array=a)\n",
    "#     sigma_unitless_values=np.linspace(0,1,curvature.shape[0])\n",
    "#     curvature_values=dict_curvature['curvature']\n",
    "#     plt.plot(sigma_unitless_values,curvature_values)\n",
    "#     plt.xlabel('position')\n",
    "#     plt.ylabel('curvature')\n",
    "#     plt.show()\n",
    "#     '''\n",
    "#     a=array\n",
    "#     dx_dt = np.gradient(a[:, 0])\n",
    "#     dy_dt = np.gradient(a[:, 1])\n",
    "#     velocity = np.array([ [dx_dt[i], dy_dt[i]] for i in range(dx_dt.size)])\n",
    "#     ds_dt = np.sqrt(dx_dt * dx_dt + dy_dt * dy_dt)\n",
    "#     tangent = np.array([1/ds_dt] * 2).transpose() * velocity\n",
    "#     tangent_x = tangent[:, 0]\n",
    "#     tangent_y = tangent[:, 1]\n",
    "\n",
    "#     deriv_tangent_x = np.gradient(tangent_x)\n",
    "#     deriv_tangent_y = np.gradient(tangent_y)\n",
    "\n",
    "#     dT_dt = np.array([ [deriv_tangent_x[i], deriv_tangent_y[i]] for i in range(deriv_tangent_x.size)])\n",
    "\n",
    "#     length_dT_dt = np.sqrt(deriv_tangent_x * deriv_tangent_x + deriv_tangent_y * deriv_tangent_y)\n",
    "\n",
    "#     normal = np.array([1/length_dT_dt] * 2).transpose() * dT_dt\n",
    "\n",
    "#     d2s_dt2 = np.gradient(ds_dt)\n",
    "#     d2x_dt2 = np.gradient(dx_dt)\n",
    "#     d2y_dt2 = np.gradient(dy_dt)\n",
    "\n",
    "#     curvature = np.abs(d2x_dt2 * dy_dt - dx_dt * d2y_dt2) / (dx_dt * dx_dt + dy_dt * dy_dt)**1.5\n",
    "#     t_component = np.array([d2s_dt2] * 2).transpose()\n",
    "#     n_component = np.array([curvature * ds_dt * ds_dt] * 2).transpose()\n",
    "#     acceleration = t_component * tangent + n_component * normal\n",
    "#     dict_curvature={'normal':normal,\n",
    "#                    'curvature':curvature,\n",
    "#                     'n_component':n_component,\n",
    "#                     't_component':t_component,\n",
    "#                     'acceleration':acceleration,\n",
    "#                    }\n",
    "#     return dict_curvature\n",
    "from lib.measure.curvature import *"
   ]
  },
  {
   "cell_type": "code",
   "execution_count": 10,
   "metadata": {
    "ExecuteTime": {
     "end_time": "2021-05-12T15:49:09.777601Z",
     "start_time": "2021-05-12T15:49:09.606757Z"
    }
   },
   "outputs": [
    {
     "data": {
      "image/png": "[encoded data removed]",
      "text/plain": [
       "<Figure size 432x288 with 1 Axes>"
      ]
     },
     "metadata": {
      "needs_background": "light"
     },
     "output_type": "display_data"
    }
   ],
   "source": [
    "dict_curvature=compute_curvature(a)\n",
    "curvature=dict_curvature['curvature']\n",
    "sigma_unitless_values=np.linspace(0,1,curvature.shape[0])\n",
    "plt.plot(sigma_unitless_values,curvature)\n",
    "plt.xlabel('position')\n",
    "plt.ylabel('curvature')\n",
    "plt.show()"
   ]
  },
  {
   "cell_type": "markdown",
   "metadata": {
    "ExecuteTime": {
     "end_time": "2021-05-03T19:41:12.953774Z",
     "start_time": "2021-05-03T19:41:12.948940Z"
    }
   },
   "source": [
    "NOTE: ^this curve can be made smoother by \n",
    "1. fitting a BSpline through the data points and \n",
    "1. computing the curvature as a function of derivatives of ^that BSpline fit."
   ]
  },
  {
   "cell_type": "markdown",
   "metadata": {},
   "source": [
    "- __TODO__: save an activation front curvature values versus time as .csv"
   ]
  },
  {
   "cell_type": "code",
   "execution_count": 11,
   "metadata": {
    "ExecuteTime": {
     "end_time": "2021-05-12T22:10:27.983547Z",
     "start_time": "2021-05-12T22:10:27.975292Z"
    }
   },
   "outputs": [],
   "source": [
    "#TODO: fit a BSpline through these contour data points\n",
    "#TODO: compute curvature function of ^that BSpline\n",
    "#TODO: interpolate curvature function to node points\n"
   ]
  },
  {
   "cell_type": "code",
   "execution_count": 12,
   "metadata": {
    "ExecuteTime": {
     "end_time": "2021-05-12T22:11:01.700357Z",
     "start_time": "2021-05-12T22:11:01.697153Z"
    }
   },
   "outputs": [],
   "source": [
    "#TODO(and then...): use ^this method to compute apparent forces from a time series of positions"
   ]
  },
  {
   "cell_type": "code",
   "execution_count": null,
   "metadata": {},
   "outputs": [],
   "source": []
  },
  {
   "cell_type": "code",
   "execution_count": 13,
   "metadata": {
    "ExecuteTime": {
     "end_time": "2021-05-12T22:42:56.771935Z",
     "start_time": "2021-05-12T22:42:56.704329Z"
    }
   },
   "outputs": [
    {
     "ename": "NameError",
     "evalue": "name 'load_buffer' is not defined",
     "output_type": "error",
     "traceback": [
      "\u001b[0;31m---------------------------------------------------------------------------\u001b[0m",
      "\u001b[0;31mNameError\u001b[0m                                 Traceback (most recent call last)",
      "\u001b[0;32m<ipython-input-13-3267146c75e9>\u001b[0m in \u001b[0;36m<module>\u001b[0;34m\u001b[0m\n\u001b[1;32m      3\u001b[0m \u001b[0;32mtry\u001b[0m\u001b[0;34m:\u001b[0m\u001b[0;34m\u001b[0m\u001b[0;34m\u001b[0m\u001b[0m\n\u001b[1;32m      4\u001b[0m     \u001b[0mic_fn\u001b[0m\u001b[0;34m=\u001b[0m\u001b[0;34mf\"{nb_dir}/Data/initial-conditions-suite-3-LR/ic-out/ic008.33.npz\"\u001b[0m\u001b[0;34m\u001b[0m\u001b[0;34m\u001b[0m\u001b[0m\n\u001b[0;32m----> 5\u001b[0;31m     \u001b[0mtxt\u001b[0m\u001b[0;34m=\u001b[0m\u001b[0mload_buffer\u001b[0m\u001b[0;34m(\u001b[0m\u001b[0mic_fn\u001b[0m\u001b[0;34m)\u001b[0m\u001b[0;34m\u001b[0m\u001b[0;34m\u001b[0m\u001b[0m\n\u001b[0m\u001b[1;32m      6\u001b[0m     \u001b[0mt\u001b[0m\u001b[0;34m=\u001b[0m\u001b[0;36m0\u001b[0m\u001b[0;34m\u001b[0m\u001b[0;34m\u001b[0m\u001b[0m\n\u001b[1;32m      7\u001b[0m \u001b[0;32mexcept\u001b[0m \u001b[0mFileNotFoundError\u001b[0m \u001b[0;32mas\u001b[0m \u001b[0me\u001b[0m\u001b[0;34m:\u001b[0m\u001b[0;34m\u001b[0m\u001b[0;34m\u001b[0m\u001b[0m\n",
      "\u001b[0;31mNameError\u001b[0m: name 'load_buffer' is not defined"
     ]
    }
   ],
   "source": [
    "# #load a mesh from Luo-Rudy\n",
    "# ic_fn=search_for_file()\n",
    "try:\n",
    "    ic_fn=f\"{nb_dir}/Data/initial-conditions-suite-3-LR/ic-out/ic008.33.npz\"\n",
    "    txt=load_buffer(ic_fn)\n",
    "    t=0\n",
    "except FileNotFoundError as e:\n",
    "    ic_fn=f\"{nb_dir}/Data/initial-conditions-suite-3-LR/ic-in/ic008.33.npz\"\n",
    "    txt=load_buffer(ic_fn)\n",
    "    t=0   \n",
    "    \n",
    "save_folder=f\"{nb_dir}/Figures/mov\"    \n",
    "ds=5.\n",
    "frameno=0\n",
    "DT=2.\n",
    "dt=0.01\n",
    "nsteps_per_DT=int(DT/dt)\n",
    "save_every_n_frames=50\n",
    "\n",
    "inVc,outVc,inmhjdfx,outmhjdfx,dVcdt=unstack_txt(txt)\n",
    "width,height=txt.shape[:2]\n",
    "V_threshold=-50;dt=0.01\n",
    "\n",
    "# comp_dict_topo_full_color=get_comp_dict_topo_full_color(width=width,height=height,level1=V_threshold,level2=0.)\n",
    "# get_one_step at this dt\n",
    "__, arr39, one_step = get_one_step_explicit_synchronous_splitting(\n",
    "    nb_dir,dt=dt,width=width,height=height,ds=ds,diffCoef=0.0005,Cm=1.0)\n",
    "# comp_dict_topo_simple=get_comp_dict_topo_simple(width=width,height=height,level1=V_threshold,level2=0)\n",
    "txt=stack_txt(inVc,outVc,inmhjdfx,outmhjdfx,dVcdt)\n",
    "\n",
    "img_prev=txt[...,0].copy()\n",
    "inVc,outVc,inmhjdfx,outmhjdfx,dVcdt=unstack_txt(txt)\n",
    "for n in range(nsteps_per_DT):\n",
    "    one_step(inVc,outVc,inmhjdfx,outmhjdfx,dVcdt)\n",
    "    t+=dt\n",
    "txt=stack_txt(inVc,outVc,inmhjdfx,outmhjdfx,dVcdt)\n",
    "img=inVc[...,0]\n",
    "dimgdt=dVcdt[...,0]\n",
    "\n",
    "comp_tips=get_comp_tips(width,height,V_threshold)\n",
    "dict_tips=comp_tips(img,img_prev,dimgdt,t,txt)\n",
    "pdict=ParticlePBCDict(dict_tips=dict_tips, width=width, height=width)#, **kwargs)\n"
   ]
  },
  {
   "cell_type": "code",
   "execution_count": 8,
   "metadata": {
    "ExecuteTime": {
     "end_time": "2021-05-12T15:44:04.699731Z",
     "start_time": "2021-05-12T15:44:04.648331Z"
    }
   },
   "outputs": [],
   "source": [
    "xy_values_lst =dict_tips['lesser_xy_values']\n",
    "\n",
    "c_values_lst =dict_tips['lesser_curvature_values']\n",
    "i=1\n",
    "c_values=np.abs(c_values_lst[i])#.copy()\n",
    "xy_values=xy_values_lst[i]\n",
    "# #compute moving average of c_values\n",
    "# for k in range(navg):\n",
    "#     c_values[1:]=(c_values[1:]+c_values[:-1])/2."
   ]
  },
  {
   "cell_type": "code",
   "execution_count": 15,
   "metadata": {
    "ExecuteTime": {
     "end_time": "2021-05-12T15:45:51.244963Z",
     "start_time": "2021-05-12T15:45:51.041595Z"
    }
   },
   "outputs": [
    {
     "data": {
      "text/plain": [
       "<matplotlib.collections.PathCollection at 0x13a6588e0>"
      ]
     },
     "execution_count": 15,
     "metadata": {},
     "output_type": "execute_result"
    },
    {
     "data": {
      "image/png": "[encoded data removed]",
      "text/plain": [
       "<Figure size 432x288 with 1 Axes>"
      ]
     },
     "metadata": {
      "needs_background": "light"
     },
     "output_type": "display_data"
    }
   ],
   "source": [
    "plt.scatter(x=xy_values[:,0],y=xy_values[:,1],c=c_values,vmin=0,vmax=5)"
   ]
  },
  {
   "cell_type": "code",
   "execution_count": 16,
   "metadata": {
    "ExecuteTime": {
     "end_time": "2021-05-12T15:47:37.536143Z",
     "start_time": "2021-05-12T15:47:37.475392Z"
    }
   },
   "outputs": [
    {
     "ename": "NameError",
     "evalue": "name 'BSpline' is not defined",
     "output_type": "error",
     "traceback": [
      "\u001b[0;31m---------------------------------------------------------------------------\u001b[0m",
      "\u001b[0;31mNameError\u001b[0m                                 Traceback (most recent call last)",
      "\u001b[0;32m<ipython-input-16-ad3c9cc4dc1c>\u001b[0m in \u001b[0;36m<module>\u001b[0;34m\u001b[0m\n\u001b[1;32m      2\u001b[0m \u001b[0;31m#TODO: compute curvature function of ^that BSpline\u001b[0m\u001b[0;34m\u001b[0m\u001b[0;34m\u001b[0m\u001b[0;34m\u001b[0m\u001b[0m\n\u001b[1;32m      3\u001b[0m \u001b[0;31m#TODO: interpolate curvature function to node points\u001b[0m\u001b[0;34m\u001b[0m\u001b[0;34m\u001b[0m\u001b[0;34m\u001b[0m\u001b[0m\n\u001b[0;32m----> 4\u001b[0;31m \u001b[0mBSpline\u001b[0m\u001b[0;34m\u001b[0m\u001b[0;34m\u001b[0m\u001b[0m\n\u001b[0m",
      "\u001b[0;31mNameError\u001b[0m: name 'BSpline' is not defined"
     ]
    }
   ],
   "source": [
    "#TODO: fit a BSpline through these contour data points\n",
    "#TODO: compute curvature function of ^that BSpline\n",
    "#TODO: interpolate curvature function to node points\n"
   ]
  },
  {
   "cell_type": "code",
   "execution_count": null,
   "metadata": {},
   "outputs": [],
   "source": []
  },
  {
   "cell_type": "code",
   "execution_count": null,
   "metadata": {},
   "outputs": [],
   "source": []
  }
 ],
 "metadata": {
  "kernelspec": {
   "display_name": "Python 3",
   "language": "python",
   "name": "python3"
  },
  "language_info": {
   "codemirror_mode": {
    "name": "ipython",
    "version": 3
   },
   "file_extension": ".py",
   "mimetype": "text/x-python",
   "name": "python",
   "nbconvert_exporter": "python",
   "pygments_lexer": "ipython3",
   "version": "3.8.7"
  },
  "toc": {
   "base_numbering": 1,
   "nav_menu": {},
   "number_sections": true,
   "sideBar": true,
   "skip_h1_title": false,
   "title_cell": "Table of Contents",
   "title_sidebar": "Contents",
   "toc_cell": false,
   "toc_position": {},
   "toc_section_display": true,
   "toc_window_display": false
  },
  "varInspector": {
   "cols": {
    "lenName": 16,
    "lenType": 16,
    "lenVar": 40
   },
   "kernels_config": {
    "python": {
     "delete_cmd_postfix": "",
     "delete_cmd_prefix": "del ",
     "library": "var_list.py",
     "varRefreshCmd": "print(var_dic_list())"
    },
    "r": {
     "delete_cmd_postfix": ") ",
     "delete_cmd_prefix": "rm(",
     "library": "var_list.r",
     "varRefreshCmd": "cat(var_dic_list()) "
    }
   },
   "types_to_exclude": [
    "module",
    "function",
    "builtin_function_or_method",
    "instance",
    "_Feature"
   ],
   "window_display": false
  }
 },
 "nbformat": 4,
 "nbformat_minor": 4
}
