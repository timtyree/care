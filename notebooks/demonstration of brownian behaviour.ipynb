{
 "cells": [
  {
   "cell_type": "markdown",
   "id": "c3a73b5b",
   "metadata": {},
   "source": [
    "# demonstration of brownian behaviour\n",
    "Tim Tyree<br>\n",
    "9.18.2022"
   ]
  },
  {
   "cell_type": "code",
   "execution_count": 1,
   "id": "5ed16c97",
   "metadata": {
    "ExecuteTime": {
     "end_time": "2023-06-16T21:51:24.295483Z",
     "start_time": "2023-06-16T21:51:22.725313Z"
    }
   },
   "outputs": [
    {
     "name": "stdout",
     "output_type": "stream",
     "text": [
      "Automatic calling is: Smart\n"
     ]
    }
   ],
   "source": [
    "from lib.my_initialization import *\n",
    "from lib import *\n",
    "import shutil\n",
    "%autocall 1\n",
    "%load_ext autoreload\n",
    "%autoreload 2"
   ]
  },
  {
   "cell_type": "code",
   "execution_count": 12,
   "id": "9aedb8b3",
   "metadata": {
    "ExecuteTime": {
     "end_time": "2023-06-16T21:52:03.156355Z",
     "start_time": "2023-06-16T21:52:03.111743Z"
    }
   },
   "outputs": [],
   "source": [
    "#reset matplotlib\n",
    "import matplotlib as mpl\n",
    "# import seaborn as sns\n",
    "# sns.reset_orig()\n",
    "mpl.rc_file_defaults()"
   ]
  },
  {
   "cell_type": "markdown",
   "id": "5deb14db",
   "metadata": {},
   "source": [
    "# define module"
   ]
  },
  {
   "cell_type": "code",
   "execution_count": 3,
   "id": "7bf312cc",
   "metadata": {
    "ExecuteTime": {
     "end_time": "2023-06-16T21:51:24.769142Z",
     "start_time": "2023-06-16T21:51:24.739400Z"
    }
   },
   "outputs": [],
   "source": [
    "def comp_time_averaged_msd(df_ranges,DS,DT,\n",
    "                min_lifetime=200., #ms   # 100. #ms\n",
    "                crop_start_by=40., #ms\n",
    "                max_lagtime=1e5,   #ms\n",
    "                num_bootstrap_samples=100, # 1000,\n",
    "                detail=False, # True # True performs expensive computation to determine an effective number of observations\n",
    "                bins='auto',\n",
    "                min_numobs=None,\n",
    "                npartitions=None,\n",
    "                printing=True,**kwargs):\n",
    "    \"\"\"df_ranges has fields ['x','y','tdeath','trial_num','annihilation_index']. one trajectory is uniquely identified by fields ['trial_num','annihilation_index'].\n",
    "    \n",
    "    Example Usage:\n",
    "df_msd_creation,df_bootstrapped_creation = comp_time_averaged_msd(\n",
    "                df_ranges=df_ranges_creation,\n",
    "                DS=DS,\n",
    "                DT=DT,\n",
    "                min_lifetime=200., #ms   # 100. #ms\n",
    "                crop_start_by=40., #ms\n",
    "                max_lagtime=1e5,   #ms\n",
    "                num_bootstrap_samples=100, # 1000,\n",
    "                npartitions=None,\n",
    "                detail=False, # True # True performs expensive computation to determine an effective number of observations\n",
    "                bins='auto')  # ,min_numobs=None,npartitions=None,printing=True,**kwargs)\n",
    "    \"\"\"\n",
    "    groups=df_ranges.groupby(by=['trial_num','annihilation_index'])\n",
    "    #identify the long-lived particles\n",
    "    boo_ll = groups['tdeath'].max()>min_lifetime\n",
    "    group_names_selected = boo_ll[boo_ll].index.values\n",
    "    df_msd_lst=[]\n",
    "    num_steps=group_names_selected.shape[0]\n",
    "    if printing:\n",
    "        print(f\"computing time averaged msd for {num_steps} spiral tip trajectories...\")\n",
    "    assert (num_steps>0)\n",
    "    for step,(trial_num,pid) in enumerate(group_names_selected):\n",
    "        g = groups.get_group((trial_num,pid)).sort_values(by='tdeath') #tdeath is used for both df_ranges.\n",
    "        x_values = g['x'].values\n",
    "        y_values = g['y'].values\n",
    "        t_values = g['tdeath'].values\n",
    "        #unwrap pbc for given trajectory\n",
    "        xv,yv = unwrap_and_center_xy_values(x_values,y_values,width,height)#,jump_thresh=None,**kwargs)\n",
    "        boo=t_values>crop_start_by\n",
    "        frame_values = np.arange(np.sum(boo))\n",
    "        traj=pd.DataFrame({'x':xv[boo],'y':yv[boo],'frame':frame_values})#,'t':t_values[boo]})\n",
    "        #compute msd for the first trajectory\n",
    "        df_msd = trackpy.msd(\n",
    "            traj,\n",
    "            mpp=DS,\n",
    "            fps=fps,\n",
    "            max_lagtime=max_lagtime,\n",
    "            detail=detail)\n",
    "        df_msd.reset_index(drop=True)\n",
    "        df_msd['trial_num'] = trial_num\n",
    "        df_msd['annihilation_index']  = pid\n",
    "        #record\n",
    "        df_msd_lst.append(df_msd)\n",
    "        #printProgressBar\n",
    "        if printing:\n",
    "            printProgressBar(step + 1, num_steps, prefix = 'Progress:', suffix = 'Complete', length = 50)\n",
    "    \n",
    "    df_msd = pd.concat(df_msd_lst)\n",
    "    if printing:\n",
    "        print(f\"\\ncomputing bootstrapped mean over {len(df_msd_lst)} spiral tip trajectories...\")\n",
    "    df_bootstrapped=bin_and_bootstrap_xy_values_parallel(\n",
    "                                   x=df_msd['lagt'].values,\n",
    "                                   y=df_msd['msd'].values,\n",
    "                                   xlabel='lagt',\n",
    "                                   ylabel='msd',\n",
    "                                   bins=bins,\n",
    "                                   min_numobs=min_numobs,\n",
    "                                   num_bootstrap_samples=num_bootstrap_samples, # 1000,\n",
    "                                   npartitions=npartitions,\n",
    "                                   use_test=False,test_val=0,printing=False)#,**kwargs)\n",
    "    return df_msd,df_bootstrapped"
   ]
  },
  {
   "cell_type": "code",
   "execution_count": 4,
   "id": "409648bb",
   "metadata": {
    "ExecuteTime": {
     "end_time": "2023-06-16T21:51:25.296271Z",
     "start_time": "2023-06-16T21:51:25.269302Z"
    }
   },
   "outputs": [],
   "source": [
    "def comp_radial_velocities(df_ranges,DT,\n",
    "            tavg2=14, #ms\n",
    "            min_minlifetime=40., #ms 200.,# #100.\n",
    "            min_minrange = 0.2, #cm\n",
    "            max_tdeath=40., #ms\n",
    "            num_bootstrap_samples=100, # 1000,\n",
    "            bins='auto',\n",
    "            min_numobs=None,\n",
    "            npartitions=None,\n",
    "            printing=True,**kwargs):\n",
    "    \"\"\"\n",
    "    Example Usage:\n",
    "df_dRdt,df_bootstrapped = comp_radial_velocities(df_ranges,DT,\n",
    "            tavg2=14, #ms\n",
    "            min_minlifetime=40., #ms 200.,# #100.\n",
    "            min_minrange = 0.2, #cm\n",
    "            max_tdeath=40., #ms\n",
    "            num_bootstrap_samples=100, # 1000,\n",
    "            bins='auto',\n",
    "            min_numobs=None,\n",
    "            npartitions=None,\n",
    "            printing=True)#,**kwargs)\n",
    "    \"\"\"\n",
    "    tavg2*=1e-3 #s                 \n",
    "    navg2=int(tavg2/DT)\n",
    "    fps=np.around (1/DT,  5)\n",
    "    if not (navg2%2==1): #odd navg2 is required by savgol_filter\n",
    "        navg2+=1\n",
    "        tavg2=np.around(navg2*DT,7)\n",
    "\n",
    "    #compute the xy values\n",
    "    savgol_kwargs0=dict(window_length=navg2,polyorder=3,\n",
    "        deriv=0,delta=1.0,axis=-1,mode='interp')\n",
    "    #compute the xy velocities\n",
    "    savgol_kwargs1=dict(window_length=navg2,polyorder=3,\n",
    "        deriv=1,delta=1.0,axis=-1,mode='interp')\n",
    "    #compute the xy accelerations\n",
    "    savgol_kwargs2=dict(window_length=navg2,polyorder=3,\n",
    "        deriv=2,delta=1.0,axis=-1,mode='interp')\n",
    "\n",
    "    #preallocate memory\n",
    "#     df_ranges['xRinv']=np.nan\n",
    "    df_ranges['xR']=np.nan\n",
    "    df_ranges['vR']=np.nan\n",
    "#     df_ranges['aR']=np.nan\n",
    "    #identify particles to be considered\n",
    "    name_lst=[]\n",
    "    groups=df_ranges.groupby(by=['trial_num','annihilation_index'])\n",
    "    for n,g in groups:\n",
    "        minlifetime = g['tdeath'].max()\n",
    "        minrange = g['R'].min()\n",
    "        if (minlifetime>=min_minlifetime)&(minrange<=min_minrange):\n",
    "            name_lst.append(n)\n",
    "    if printing:\n",
    "        print(f\"identified {len(name_lst)} annihilation events that look reasonable.\")\n",
    "    num_steps = len(name_lst)\n",
    "\n",
    "    if printing:\n",
    "        print(f\"computing radial velocities...\")\n",
    "    for step,(trial_num,annihilation_index) in enumerate(name_lst):\n",
    "        boo = df_ranges['trial_num'] ==trial_num\n",
    "        boo&= df_ranges['annihilation_index'] ==annihilation_index\n",
    "        #compute smoothed derivatives\n",
    "        R_values = df_ranges[boo]['R'] #cm\n",
    "#         df_ranges.loc[boo,'xRinv'] = savgol_filter(1/R_values,**savgol_kwargs0) #cm\n",
    "        df_ranges.loc[boo,'xR'] = savgol_filter(R_values,**savgol_kwargs0) #cm\n",
    "        df_ranges.loc[boo,'vR'] = savgol_filter(R_values,**savgol_kwargs1)*fps #cm per s\n",
    "#         df_ranges.loc[boo,'aR'] = savgol_filter(R_values,**savgol_kwargs2)*fps**2 #cm per s^2\n",
    "        #printProgressBar\n",
    "        if printing:\n",
    "            printProgressBar(step + 1, num_steps, prefix = 'Progress:', suffix = 'Complete', length = 50)\n",
    "\n",
    "    #scatter of dRdt versus 1/R\n",
    "    boo_null = df_ranges['xR'].isnull()\n",
    "    bootdeath=df_ranges['tdeath']>=max_tdeath\n",
    "    df_dRdt = df_ranges[(~boo_null)&(~bootdeath)].copy()\n",
    "    df_dRdt['invR'] = 1/df_dRdt['R'].values\n",
    "    df_dRdt['dRdt'] = -df_dRdt['vR'].values #orient axes\n",
    "    \n",
    "    if printing:\n",
    "        print(f\"\\ncomputing bootstrapped mean over {num_steps} spiral tip trajectories...\")\n",
    "    df_bootstrapped=bin_and_bootstrap_xy_values_parallel(\n",
    "                                   x=df_dRdt['xR'].values,\n",
    "                                   y=df_dRdt['dRdt'].values,\n",
    "                                   xlabel='R',\n",
    "                                   ylabel='dRdt',\n",
    "                                   bins=bins,\n",
    "                                   min_numobs=min_numobs,\n",
    "                                   num_bootstrap_samples=num_bootstrap_samples, # 1000,\n",
    "                                   npartitions=npartitions,\n",
    "                                   use_test=False,test_val=0,printing=False)#,**kwargs)\n",
    "    return df_dRdt,df_bootstrapped"
   ]
  },
  {
   "cell_type": "code",
   "execution_count": 5,
   "id": "98d377c5",
   "metadata": {
    "ExecuteTime": {
     "end_time": "2023-06-16T21:51:25.730869Z",
     "start_time": "2023-06-16T21:51:25.710652Z"
    }
   },
   "outputs": [],
   "source": [
    "#forked from tbins\n",
    "def gener_normal_random_perturbations(\n",
    "        num_iter=100,\n",
    "        random_state=42,\n",
    "        use_random_seed=True,\n",
    "        use_include_original=True,\n",
    "    **kwargs):\n",
    "    \"\"\"default values of loc=0.0, scale=1.0, are can be modified through kwargs\n",
    "\n",
    "    Example Usage:\n",
    "rand_values1,rand_values2=gener_normal_random_perturbations(num_iter=100,random_state=42,use_random_seed=True)#,use_include_original=True,**kwargs)\n",
    "    \"\"\"\n",
    "    if use_random_seed:\n",
    "        np.random.seed(random_state)\n",
    "    rand_values1=np.random.normal(size=num_iter+1, **kwargs)\n",
    "    rand_values2=np.random.normal(size=num_iter+1, **kwargs)\n",
    "    if use_include_original:\n",
    "        #include the original at the start\n",
    "        rand_values1[0]*=0.\n",
    "        rand_values2[0]*=0.\n",
    "    return rand_values1,rand_values2"
   ]
  },
  {
   "cell_type": "markdown",
   "id": "1a55d12f",
   "metadata": {
    "heading_collapsed": true
   },
   "source": [
    "# compute the mean squared distance using time averaging on each trajectory after unwrapping periodic boundary conditions"
   ]
  },
  {
   "cell_type": "code",
   "execution_count": 39,
   "id": "a9c12c8a",
   "metadata": {
    "ExecuteTime": {
     "end_time": "2022-11-18T23:55:32.134711Z",
     "start_time": "2022-11-18T23:55:31.261789Z"
    },
    "hidden": true
   },
   "outputs": [],
   "source": [
    "#FK model trajectories\n",
    "#per 005\n",
    "annihil_range_dir_fk = f\"{nb_dir}/Data/from_wjr/positions_fk/200x200/tippos_per_c_005_annihilation_range_timeseries.pkl\"\n",
    "creation_range_dir_fk = f\"{nb_dir}/Data/from_wjr/positions_fk/200x200/tippos_per_c_005_creation_range_timeseries.pkl\" # 79 trials\n",
    "\n",
    "\n",
    "# annihil_range_dir_fk = \"/Users/timothytyree/Documents/GitHub/care/notebooks/Data/from_wjr/positions_fk/200x200/tippos_per_c_005_annihilation_range_timeseries.pkl\"\n",
    "# creation_range_dir_fk = \"/Users/timothytyree/Documents/GitHub/care/notebooks/Data/from_wjr/positions_fk/200x200/tippos_per_c_005_creation_range_timeseries.pkl\" # 79 trials\n",
    "DT = 5e-3 # s / frame\n",
    "#per 001\n",
    "# annihil_range_dir_fk = \"/Users/timothytyree/Documents/GitHub/care/notebooks/Data/from_wjr/positions_fk/200x200/tippos_per_c_001_annihilation_range_timeseries.pkl\"\n",
    "# creation_range_dir_fk = \"/Users/timothytyree/Documents/GitHub/care/notebooks/Data/from_wjr/positions_fk/200x200/tippos_per_c_001_creation_range_timeseries.pkl\"\n",
    "# DT = 1e-3 # s / frame\n",
    "# DS = 0.0025 # cm / px\n",
    "DS = 0.025 # cm / px\n",
    "assert os.path.exists(annihil_range_dir_fk)\n",
    "assert os.path.exists(creation_range_dir_fk)\n",
    "data_annihil=load_from_pickle(annihil_range_dir_fk)\n",
    "data_creation=load_from_pickle(creation_range_dir_fk)"
   ]
  },
  {
   "cell_type": "code",
   "execution_count": null,
   "id": "d6760a95",
   "metadata": {
    "hidden": true
   },
   "outputs": [],
   "source": []
  },
  {
   "cell_type": "code",
   "execution_count": 40,
   "id": "cab4c740",
   "metadata": {
    "ExecuteTime": {
     "end_time": "2022-11-18T23:55:33.788617Z",
     "start_time": "2022-11-18T23:55:33.742633Z"
    },
    "hidden": true
   },
   "outputs": [],
   "source": [
    "fps=np.around (1/DT,  5)\n",
    "width=200\n",
    "height=200"
   ]
  },
  {
   "cell_type": "code",
   "execution_count": 41,
   "id": "5d680529",
   "metadata": {
    "ExecuteTime": {
     "end_time": "2022-11-18T23:55:35.053181Z",
     "start_time": "2022-11-18T23:55:34.193886Z"
    },
    "hidden": true
   },
   "outputs": [],
   "source": [
    "df_ranges_annihiln = pd.concat(data_annihil)\n",
    "df_ranges_creation = pd.concat(data_creation)"
   ]
  },
  {
   "cell_type": "code",
   "execution_count": 42,
   "id": "5edabac7",
   "metadata": {
    "ExecuteTime": {
     "end_time": "2022-11-18T23:55:36.337006Z",
     "start_time": "2022-11-18T23:55:36.280421Z"
    },
    "hidden": true
   },
   "outputs": [
    {
     "name": "stdout",
     "output_type": "stream",
     "text": [
      "num. trials in cached annihilation ranges: 79\n",
      "num. trials in cached creation ranges: 79\n"
     ]
    }
   ],
   "source": [
    "print(f\"num. trials in cached annihilation ranges: {df_ranges_annihiln['trial_num'].max()}\")\n",
    "print(f\"num. trials in cached creation ranges: {df_ranges_creation['trial_num'].max()}\")"
   ]
  },
  {
   "cell_type": "code",
   "execution_count": 12,
   "id": "ba68d361",
   "metadata": {
    "ExecuteTime": {
     "end_time": "2022-11-18T04:09:01.211634Z",
     "start_time": "2022-11-18T04:09:01.176967Z"
    },
    "hidden": true
   },
   "outputs": [],
   "source": [
    "#DONE: compute the minimum lifetimes of particles\n",
    "#DONE: plot the minimum lifetimes of particles"
   ]
  },
  {
   "cell_type": "code",
   "execution_count": 149,
   "id": "976daee7",
   "metadata": {
    "ExecuteTime": {
     "end_time": "2022-11-09T00:48:16.022087Z",
     "start_time": "2022-11-09T00:28:49.321026Z"
    },
    "hidden": true
   },
   "outputs": [
    {
     "name": "stdout",
     "output_type": "stream",
     "text": [
      "computing time averaged msd for 5146 spiral tip trajectories...\n",
      "Progress: |██████████████████████████████████████████████████| 100.0% Complete\n",
      "computing bootstrapped mean over 5146 spiral tip trajectories...\n",
      "computing time averaged msd for 4854 spiral tip trajectories...\n",
      "Progress: |██████████████████████████████████████████████████| 100.0% Complete\n",
      "computing bootstrapped mean over 4854 spiral tip trajectories...\n"
     ]
    }
   ],
   "source": [
    "#compute msd for both creation and annihilation\n",
    "df_msd_creation,df_bootstrapped_creation = comp_time_averaged_msd(\n",
    "                df_ranges=df_ranges_creation,\n",
    "                DS=DS,\n",
    "                DT=DT,\n",
    "                min_lifetime=200., #ms   # 100. #ms\n",
    "                crop_start_by=0,#40., #ms\n",
    "                max_lagtime=1e5,   #ms\n",
    "                num_bootstrap_samples=100, # 1000,\n",
    "                npartitions=None,\n",
    "                detail=False, # True # True performs expensive computation to determine an effective number of observations\n",
    "                bins='auto')  # ,min_numobs=None,npartitions=None,printing=True,**kwargs)\n",
    "\n",
    "df_msd_annihiln,df_bootstrapped_annihiln = comp_time_averaged_msd(\n",
    "                df_ranges=df_ranges_annihiln,\n",
    "                DS=DS,\n",
    "                DT=DT,\n",
    "                min_lifetime=200., #ms   # 100. #ms\n",
    "                crop_start_by=0,#40., #ms\n",
    "                max_lagtime=1e5,   #ms\n",
    "                num_bootstrap_samples=100, # 1000,\n",
    "                npartitions=None,\n",
    "                detail=False, # True # True performs expensive computation to determine an effective number of observations\n",
    "                bins='auto')  # ,min_numobs=None,npartitions=None,printing=True,**kwargs)"
   ]
  },
  {
   "cell_type": "code",
   "execution_count": 150,
   "id": "ffb5099a",
   "metadata": {
    "ExecuteTime": {
     "end_time": "2022-11-09T00:48:16.062865Z",
     "start_time": "2022-11-09T00:48:16.039956Z"
    },
    "hidden": true
   },
   "outputs": [],
   "source": [
    "#record\n",
    "dict_msd_fk = dict(df_msd_creation=df_msd_creation,\n",
    "                   df_bootstrapped_creation=df_bootstrapped_creation,\n",
    "                   df_msd_annihiln=df_msd_annihiln,\n",
    "                   df_bootstrapped_annihiln=df_bootstrapped_annihiln\n",
    "                  )"
   ]
  },
  {
   "cell_type": "code",
   "execution_count": 43,
   "id": "2ef1aa2d",
   "metadata": {
    "ExecuteTime": {
     "end_time": "2022-11-18T23:55:50.345968Z",
     "start_time": "2022-11-18T23:55:50.296126Z"
    },
    "hidden": true
   },
   "outputs": [],
   "source": [
    "#LR model trajectories\n",
    "#per 001\n",
    "annihil_range_dir_lr = f\"{nb_dir}/Data/from_wjr/positions_lr/200x200/tippos_per_001_annihilation_range_timeseries.pkl\"\n",
    "creation_range_dir_lr = f\"{nb_dir}/Data/from_wjr/positions_lr//200x200/tippos_per_001_creation_range_timeseries.pkl\"\n",
    "assert os.path.exists(annihil_range_dir_lr)\n",
    "assert os.path.exists(creation_range_dir_lr)\n"
   ]
  },
  {
   "cell_type": "code",
   "execution_count": 152,
   "id": "9b5e849a",
   "metadata": {
    "ExecuteTime": {
     "end_time": "2022-11-09T00:52:09.688250Z",
     "start_time": "2022-11-09T00:48:16.082258Z"
    },
    "hidden": true
   },
   "outputs": [
    {
     "name": "stdout",
     "output_type": "stream",
     "text": [
      "num. trials in cached annihilation ranges: 640\n",
      "num. trials in cached creation ranges: 638\n",
      "computing time averaged msd for 896 spiral tip trajectories...\n",
      "Progress: |██████████████████████████████████████████████████| 100.0% Complete\n",
      "computing bootstrapped mean over 896 spiral tip trajectories...\n",
      "computing time averaged msd for 1189 spiral tip trajectories...\n",
      "Progress: |██████████████████████████████████████████████████| 100.0% Complete\n",
      "computing bootstrapped mean over 1189 spiral tip trajectories...\n"
     ]
    }
   ],
   "source": [
    "#TODO: wrap this cell to foo.  pass it over a list of folders to measure Area-law dependence of apparent D of spiral tips.\n",
    "DS = 0.025 # cm / px\n",
    "# DS = 0.0025 # cm / px\n",
    "DT = 1e-3 # s / frame\n",
    "fps=np.around (1/DT,  5)\n",
    "width=200\n",
    "height=200\n",
    "data_annihil=load_from_pickle(annihil_range_dir_lr)\n",
    "data_creation=load_from_pickle(creation_range_dir_lr)\n",
    "df_ranges_annihiln = pd.concat(data_annihil)\n",
    "df_ranges_creation = pd.concat(data_creation)\n",
    "print(f\"num. trials in cached annihilation ranges: {df_ranges_annihiln['trial_num'].max()}\")\n",
    "print(f\"num. trials in cached creation ranges: {df_ranges_creation['trial_num'].max()}\")\n",
    "\n",
    "#compute msd for both creation and annihilation\n",
    "df_msd_creation,df_bootstrapped_creation = comp_time_averaged_msd(\n",
    "                df_ranges=df_ranges_creation,\n",
    "                DS=DS,\n",
    "                DT=DT,\n",
    "                min_lifetime=100., #ms   # 100. #ms\n",
    "                crop_start_by=0,#40., #ms\n",
    "                max_lagtime=1e5,   #ms\n",
    "                num_bootstrap_samples=100, # 1000,\n",
    "                npartitions=None,\n",
    "                detail=False, # True # True performs expensive computation to determine an effective number of observations\n",
    "                bins='auto')  # ,min_numobs=None,npartitions=None,printing=True,**kwargs)\n",
    "\n",
    "df_msd_annihiln,df_bootstrapped_annihiln = comp_time_averaged_msd(\n",
    "                df_ranges=df_ranges_annihiln,\n",
    "                DS=DS,\n",
    "                DT=DT,\n",
    "                min_lifetime=100., #ms   # 100. #ms\n",
    "                crop_start_by=0,#40., #ms\n",
    "                max_lagtime=1e5,   #ms\n",
    "                num_bootstrap_samples=100, # 1000,\n",
    "                npartitions=None,\n",
    "                detail=False, # True # True performs expensive computation to determine an effective number of observations\n",
    "                bins='auto')  # ,min_numobs=None,npartitions=None,printing=True,**kwargs)\n",
    "\n",
    "#record\n",
    "dict_msd_lr= dict(df_msd_creation=df_msd_creation,\n",
    "                   df_bootstrapped_creation=df_bootstrapped_creation,\n",
    "                   df_msd_annihiln=df_msd_annihiln,\n",
    "                   df_bootstrapped_annihiln=df_bootstrapped_annihiln\n",
    "                  )"
   ]
  },
  {
   "cell_type": "code",
   "execution_count": 153,
   "id": "70897aa4",
   "metadata": {
    "ExecuteTime": {
     "end_time": "2022-11-09T00:52:09.743718Z",
     "start_time": "2022-11-09T00:52:09.691611Z"
    },
    "hidden": true
   },
   "outputs": [
    {
     "name": "stdout",
     "output_type": "stream",
     "text": [
      "msd_dir_lr='/home/timothytyree/Documents/GitHub/care/notebooks/Data/from_wjr/positions_lr/200x200/tippos_per_001_msd.pkl'\n"
     ]
    }
   ],
   "source": [
    "# msd_dir_lr = \"/Users/timothytyree/Documents/GitHub/care/notebooks/Data/from_wjr/positions_lr/200x200/tippos_per_001_msd.pkl\"\n",
    "msd_dir_lr = f\"{nb_dir}/Data/from_wjr/positions_lr/200x200/tippos_per_001_msd.pkl\"\n",
    "# msd_dir_lr = f\"{nb_dir}/Data/from_wjr/positions_lr/200x200/tippos_per_001_msd_uncropped.pkl\"\n",
    "# msd_dir_lr = f\"{nb_dir}/Data/from_wjr/positions_lr/200x200/tippos_per_001_msd_uncropped_abstracted_units.pkl\"\n",
    "save_to_pickle(msd_dir_lr,dict_msd_lr)\n",
    "print(f\"{msd_dir_lr=}\")"
   ]
  },
  {
   "cell_type": "code",
   "execution_count": 154,
   "id": "26c4b3e7",
   "metadata": {
    "ExecuteTime": {
     "end_time": "2022-11-09T00:52:10.374133Z",
     "start_time": "2022-11-09T00:52:09.745545Z"
    },
    "hidden": true
   },
   "outputs": [
    {
     "name": "stdout",
     "output_type": "stream",
     "text": [
      "msd_dir_fk='/home/timothytyree/Documents/GitHub/care/notebooks/Data/from_wjr/positions_lr/200x200/tippos_per_c_005_msd.pkl'\n"
     ]
    }
   ],
   "source": [
    "# msd_dir_fk = \"/Users/timothytyree/Documents/GitHub/care/notebooks/Data/from_wjr/fk200x200/tippos_per_c_001_msd.pkl\"\n",
    "# msd_dir_fk = \"/Users/timothytyree/Documents/GitHub/care/notebooks/Data/from_wjr/positions_lr/200x200/tippos_per_c_005_msd.pkl\"\n",
    "\n",
    "msd_dir_fk = f\"{nb_dir}/Data/from_wjr/positions_lr/200x200/tippos_per_c_005_msd.pkl\"\n",
    "# msd_dir_fk = f\"{nb_dir}/Data/from_wjr/positions_lr/200x200/tippos_per_c_005_msd_uncropped.pkl\"\n",
    "# msd_dir_fk = f\"{nb_dir}/Data/from_wjr/positions_lr/200x200/tippos_per_c_005_msd_uncropped_abstracted_units.pkl\"\n",
    "save_to_pickle(msd_dir_fk,dict_msd_fk)\n",
    "print(f\"{msd_dir_fk=}\")"
   ]
  },
  {
   "cell_type": "markdown",
   "id": "1c5208e2",
   "metadata": {},
   "source": [
    "# DONE: plot time averaged MSD computed via Fourier method described in Ref. 1"
   ]
  },
  {
   "cell_type": "markdown",
   "id": "aa47c678",
   "metadata": {},
   "source": [
    "Ref. 1:\n",
    "- DOI: 10.1051/sfn/201112010\n",
    "- https://www.neutron-sciences.org/articles/sfn/abs/2011/01/sfn201112010/sfn201112010.html"
   ]
  },
  {
   "cell_type": "code",
   "execution_count": 50,
   "id": "fdf57a35",
   "metadata": {
    "ExecuteTime": {
     "end_time": "2023-06-16T22:07:51.906720Z",
     "start_time": "2023-06-16T22:07:51.890406Z"
    }
   },
   "outputs": [],
   "source": [
    "# msd_dir_fk"
   ]
  },
  {
   "cell_type": "code",
   "execution_count": 46,
   "id": "6e3fd9e3",
   "metadata": {
    "ExecuteTime": {
     "end_time": "2023-06-16T22:07:23.161193Z",
     "start_time": "2023-06-16T22:07:23.082220Z"
    }
   },
   "outputs": [],
   "source": [
    "# msd_dir_lr = \"/Users/timothytyree/Documents/GitHub/care/notebooks/Data/from_wjr/positions_lr/200x200/tippos_per_001_msd.pkl\"\n",
    "# msd_dir_fk = \"/Users/timothytyree/Documents/GitHub/care/notebooks/Data/from_wjr/positions_lr/200x200/tippos_per_c_005_msd.pkl\"\n",
    "msd_dir_lr = f\"{nb_dir}/Data/from_wjr/positions_lr/200x200/tippos_per_001_msd.pkl\"\n",
    "# msd_dir_fk = f\"{nb_dir}/Data/from_wjr/positions_lr/200x200/tippos_per_c_005_msd.pkl\" #<< note: per_c was used in wj's fk tips\n",
    "msd_dir_fk = f\"{nb_dir}/Data/from_wjr/positions_fk/200x200/tippos_per_c_005_msd.pkl\"\n",
    "dict_msd_lr = load_from_pickle(msd_dir_lr)\n",
    "dict_msd_fk = load_from_pickle(msd_dir_fk)\n",
    "\n",
    "yscale=1e0\n",
    "\n",
    "#extract the xy values for either of the full models\n",
    "df = dict_msd_fk['df_bootstrapped_annihiln']\n",
    "# df = dict_msd_fk['df_bootstrapped_creation']\n",
    "x_values_fk = df['lagt'].values\n",
    "y_values_fk = df['msd'].values\n",
    "Delta_y_values_fk = df['Delta_msd'].values\n",
    "\n",
    "#extract the xy values for either of the full models\n",
    "df = dict_msd_lr['df_bootstrapped_annihiln']\n",
    "# df = dict_msd_lr['df_bootstrapped_creation']\n",
    "x_values_lr = df['lagt'].values\n",
    "y_values_lr = df['msd'].values\n",
    "Delta_y_values_lr = df['Delta_msd'].values\n",
    "\n",
    "y_values_fk*=yscale**2\n",
    "Delta_y_values_fk*=yscale**2\n",
    "y_values_lr*=yscale**2\n",
    "Delta_y_values_lr*=yscale**2\n"
   ]
  },
  {
   "cell_type": "code",
   "execution_count": 73,
   "id": "b7adfcba",
   "metadata": {
    "ExecuteTime": {
     "end_time": "2023-06-16T22:23:03.354283Z",
     "start_time": "2023-06-16T22:23:03.326003Z"
    }
   },
   "outputs": [
    {
     "name": "stdout",
     "output_type": "stream",
     "text": [
      "(Fenton-Karma) msd powerlaw fit of msd from lagt=0.1 to 4:\n",
      "m = 1.001574 +/- 0.012169\n",
      "M = 0.601874 +/- 0.004858 Hz/cm^2; B=0.602354 +/- 0.008501\n",
      "RMSE=0.1207 Hz/cm^2; R^2=0.9930; MPE=10.1104%; N=186\n",
      "D = 0.1505 +/- 0.0012 cm^2/s\n",
      "\n",
      "(Luo-Rudy) msd powerlaw fit of msd from lagt=0.02 to 0.2:\n",
      "m = 0.995682 +/- 0.019039\n",
      "M = 16.334743 +/- 1.080847 Hz/cm^2; B=16.533842 +/- 0.174579\n",
      "RMSE=0.0574 Hz/cm^2; R^2=0.9940; MPE=3.9124%; N=65\n",
      "D = 4.0837 +/- 0.2702 cm^2/s\n"
     ]
    }
   ],
   "source": [
    "#powerlaw fits of msd versus t in a range that looks reasonable \n",
    "# xmin_fk=0.01\n",
    "# xmax_fk=10\n",
    "xmin_fk=0.1\n",
    "xmax_fk=4\n",
    "# xmax_fk=3\n",
    "# xmax_fk=1\n",
    "boo=(x_values_fk>=xmin_fk)&(x_values_fk<xmax_fk)\n",
    "print(f\"(Fenton-Karma) msd powerlaw fit of msd from lagt={xmin_fk} to {xmax_fk}:\")\n",
    "dict_fit_fk = print_fit_power_law(x=x_values_fk[boo],y=y_values_fk[boo])\n",
    "D_fk = dict_fit_fk['M']/4\n",
    "Delta_D_fk = dict_fit_fk['Delta_M']/4\n",
    "print(f\"D = {D_fk:.4f} +/- {Delta_D_fk:.4f} cm^2/s\")\n",
    "\n",
    "xmin_lr=0.02\n",
    "# xmin_lr=0.06\n",
    "# xmin_lr=0.1\n",
    "# xmax_lr=0.1\n",
    "xmax_lr=0.2\n",
    "# xmax_lr=0.3\n",
    "boo=(x_values_lr>=xmin_lr)&(x_values_lr<xmax_lr)\n",
    "print(f\"\\n(Luo-Rudy) msd powerlaw fit of msd from lagt={xmin_lr} to {xmax_lr}:\")\n",
    "dict_fit_lr = print_fit_power_law(x=x_values_lr[boo],y=y_values_lr[boo])\n",
    "D_lr = dict_fit_lr['M']/4\n",
    "Delta_D_lr = dict_fit_lr['Delta_M']/4\n",
    "print(f\"D = {D_lr:.4f} +/- {Delta_D_lr:.4f} cm^2/s\")"
   ]
  },
  {
   "cell_type": "code",
   "execution_count": 74,
   "id": "b315ee58",
   "metadata": {
    "ExecuteTime": {
     "end_time": "2023-06-16T22:23:21.817844Z",
     "start_time": "2023-06-16T22:23:21.801718Z"
    }
   },
   "outputs": [],
   "source": [
    "#GOAL: dev mvp figure for fig. 2a re: the slope of the autocorrelation function at long time scales is brownian\n",
    "#DONE: add 95% CI\n",
    "#DONE: compute expected brownian values / i.e. D = slope / 4\n",
    "#DONE: verified brownian motion agrees with D = slope / 4\n",
    "#DONE: choose reasonable min/max for powerlaw fit equivalent brownian values\n",
    "#TODO: plot expected brownian values plus offset to show msd is parallel with brownian at some point...\n",
    "#TODO(optionally, if ^that all remains sus...): crop the janky ending\n",
    "#TODO: recompute msd for lr using longer lived particles\n",
    "#  Q: does ^this make straighter for longer?"
   ]
  },
  {
   "cell_type": "code",
   "execution_count": 80,
   "id": "66a4cd5c",
   "metadata": {
    "ExecuteTime": {
     "end_time": "2023-06-16T22:32:01.491915Z",
     "start_time": "2023-06-16T22:32:01.046150Z"
    }
   },
   "outputs": [
    {
     "data": {
      "image/png": "[encoded data removed]",
      "text/plain": [
       "<Figure size 600x400 with 1 Axes>"
      ]
     },
     "metadata": {},
     "output_type": "display_data"
    }
   ],
   "source": [
    "#plot the values on a log-log plot along with an ideal brownian particle of equal diffusion coefficient#TODO: plot expected brownian values plus offset to show msd is parallel with brownian at some point...\n",
    "lw=2\n",
    "alpha=0.9\n",
    "fontsize=18\n",
    "use_loglog=True\n",
    "#check if msd=0 at lagt=0\n",
    "fig,ax=plt.subplots(figsize=(6,4))\n",
    "\n",
    "#plot expected brownian values plus offset to show msd is parallel with brownian at some point...\n",
    "xv1=np.linspace(0.01,0.15,10)\n",
    "xv2=np.linspace(0.1,5,10)\n",
    "ax.plot(xv1,dict_fit_lr['M']*xv1+0.,'k-',lw=2,alpha=0.7,label='Diffusive')\n",
    "# ax.plot(xv1,dict_fit_lr['M']*xv1+0.,'k-',lw=2,alpha=0.7)\n",
    "ax.plot(xv2,dict_fit_fk['M']*xv2+0.,'k-',lw=2,alpha=0.7)\n",
    "\n",
    "#plot the full models\n",
    "ax.plot(x_values_fk,y_values_fk,c='C0',lw=lw,alpha=alpha,label='Fenton-Karma')\n",
    "ax.fill_between(x_values_fk,y_values_fk-Delta_y_values_fk,y_values_fk+Delta_y_values_fk,color='C0',lw=lw,alpha=alpha/2)\n",
    "boo=x_values_lr<=xmax_lr\n",
    "ax.plot(x_values_lr[boo],y_values_lr[boo],c='C1',lw=lw,alpha=alpha,label='Luo-Rudy')\n",
    "ax.fill_between(x_values_lr[boo],y_values_lr[boo]-Delta_y_values_lr[boo],y_values_lr[boo]+Delta_y_values_lr[boo],color='C1',lw=lw,alpha=alpha/2)\n",
    "\n",
    "# ax.plot(x_values_lr,y_values_lr,c='C1',lw=lw,alpha=alpha,label='Luo-Rudy')\n",
    "# ax.fill_between(x_values_lr,y_values_lr-Delta_y_values_lr,y_values_lr+Delta_y_values_lr,color='C1',lw=lw,alpha=alpha/2)\n",
    "# ax.set_ylim((1.0178650359332904e-05, 0.14507306398356945))\n",
    "\n",
    "#format_plot\n",
    "format_plot(ax=ax,xlabel='Lag (s)',ylabel=r'MSD (cm$^2$)',fontsize=fontsize,use_loglog=use_loglog)\n",
    "ax.tick_params(top=True, right=True,direction='in',which='both')\n",
    "ax.legend(fontsize=fontsize-2,frameon=False)\n",
    "plt.show()\n",
    "# ax.get_ylim()"
   ]
  },
  {
   "cell_type": "code",
   "execution_count": 19,
   "id": "ac423cca",
   "metadata": {
    "ExecuteTime": {
     "end_time": "2023-06-16T21:56:44.654510Z",
     "start_time": "2023-06-16T21:56:44.632592Z"
    }
   },
   "outputs": [],
   "source": [
    "# #DONE: period scratchwork\n",
    "# period_fk_hat = 105.3 / 0.9082 # (1.6/ 0.9082) ms  \n",
    "# Delta_period_fk_hat = 1.7 / 0.9082\n",
    "# # number of particles considered with at least 1 loop: 12368\n",
    "# period_lr_hat = 33.37/ 0.3427 # (73/ 0.3427) ms / 0.3427\n",
    "# Delta_period_lr_hat = 0.73/ 0.3427\n",
    "# # number of particles considered: 29402\n",
    "# print(f\"{period_fk_hat=:.4f} +/- {Delta_period_fk_hat:.4f} ms\")\n",
    "# print(f\"{period_lr_hat=:.4f} +/- {Delta_period_lr_hat:.4f} ms\")\n",
    "#>>> yielded\n",
    "# period_fk_hat=115.9436 +/- 1.8718 ms\n",
    "# period_lr_hat=97.3738 +/- 2.1301 ms"
   ]
  },
  {
   "cell_type": "markdown",
   "id": "90ccb83e",
   "metadata": {
    "heading_collapsed": true
   },
   "source": [
    "## DONE: control estimation of D for pure diffusion process samples"
   ]
  },
  {
   "cell_type": "code",
   "execution_count": 96,
   "id": "56ea77e4",
   "metadata": {
    "ExecuteTime": {
     "end_time": "2022-11-08T21:38:53.714278Z",
     "start_time": "2022-11-08T21:38:53.678063Z"
    },
    "hidden": true
   },
   "outputs": [],
   "source": [
    "#DONE: find how i generated a matrix of normal random variables in neurophysics / in tbins\n",
    "#DONE: generate M brownian random walk with N steps \n",
    "num_iter=40000\n",
    "# random_state=42\n",
    "# random_state=43\n",
    "random_state=44\n",
    "use_random_seed=True\n",
    "Dinput=1. #cm^2/s\n",
    "DT=1. #s\n",
    "stepsize=np.sqrt(2*Dinput*DT) #cm\n",
    "rand_values1,rand_values2=gener_normal_random_perturbations(num_iter=num_iter,random_state=random_state,use_random_seed=use_random_seed)#,use_include_original=True,**kwargs)\n",
    "#integrate Wiener process\n",
    "x_values = stepsize*np.cumsum(rand_values1)\n",
    "y_values = stepsize*np.cumsum(rand_values2)\n",
    "frame_values = np.arange(num_iter+1)\n"
   ]
  },
  {
   "cell_type": "code",
   "execution_count": 97,
   "id": "ac2d4864",
   "metadata": {
    "ExecuteTime": {
     "end_time": "2022-11-08T21:38:54.122913Z",
     "start_time": "2022-11-08T21:38:54.105739Z"
    },
    "hidden": true
   },
   "outputs": [],
   "source": [
    "traj=pd.DataFrame({'x':x_values,'y':y_values,'frame':frame_values})\n"
   ]
  },
  {
   "cell_type": "code",
   "execution_count": 98,
   "id": "3fddfeca",
   "metadata": {
    "ExecuteTime": {
     "end_time": "2022-11-08T21:38:54.989885Z",
     "start_time": "2022-11-08T21:38:54.574876Z"
    },
    "hidden": true
   },
   "outputs": [
    {
     "data": {
      "image/png": "[encoded data removed]",
      "text/plain": [
       "<Figure size 432x288 with 2 Axes>"
      ]
     },
     "metadata": {
      "needs_background": "light"
     },
     "output_type": "display_data"
    }
   ],
   "source": [
    "#plot the final trajectory\n",
    "fig,ax=plt.subplots()\n",
    "traj.plot.scatter(x='x',y='y',c='frame',vmin=0,vmax=num_iter+1,s=1,alpha=0.7,ax=ax,cmap='bwr')\n",
    "format_plot(ax=ax,xlabel='x (cm)', ylabel='y (cm)',fontsize=14)\n",
    "plt.title(f'time between frames: {DT:.0f} s',fontsize=14)\n",
    "plt.show()"
   ]
  },
  {
   "cell_type": "code",
   "execution_count": 102,
   "id": "aeca02ff",
   "metadata": {
    "ExecuteTime": {
     "end_time": "2022-11-08T21:48:41.898081Z",
     "start_time": "2022-11-08T21:48:41.849834Z"
    },
    "hidden": true
   },
   "outputs": [
    {
     "data": {
      "text/html": [
       "<div>\n",
       "<style scoped>\n",
       "    .dataframe tbody tr th:only-of-type {\n",
       "        vertical-align: middle;\n",
       "    }\n",
       "\n",
       "    .dataframe tbody tr th {\n",
       "        vertical-align: top;\n",
       "    }\n",
       "\n",
       "    .dataframe thead th {\n",
       "        text-align: right;\n",
       "    }\n",
       "</style>\n",
       "<table border=\"1\" class=\"dataframe\">\n",
       "  <thead>\n",
       "    <tr style=\"text-align: right;\">\n",
       "      <th></th>\n",
       "      <th>&lt;x&gt;</th>\n",
       "      <th>&lt;y&gt;</th>\n",
       "      <th>&lt;x^2&gt;</th>\n",
       "      <th>&lt;y^2&gt;</th>\n",
       "      <th>msd</th>\n",
       "      <th>N</th>\n",
       "      <th>lagt</th>\n",
       "    </tr>\n",
       "    <tr>\n",
       "      <th>lagt</th>\n",
       "      <th></th>\n",
       "      <th></th>\n",
       "      <th></th>\n",
       "      <th></th>\n",
       "      <th></th>\n",
       "      <th></th>\n",
       "      <th></th>\n",
       "    </tr>\n",
       "  </thead>\n",
       "  <tbody>\n",
       "    <tr>\n",
       "      <th>1</th>\n",
       "      <td>0.001359</td>\n",
       "      <td>-0.003578</td>\n",
       "      <td>2.000784</td>\n",
       "      <td>1.983703</td>\n",
       "      <td>3.984488</td>\n",
       "      <td>40000.000000</td>\n",
       "      <td>1.0</td>\n",
       "    </tr>\n",
       "    <tr>\n",
       "      <th>2</th>\n",
       "      <td>0.002701</td>\n",
       "      <td>-0.007153</td>\n",
       "      <td>4.030176</td>\n",
       "      <td>3.992175</td>\n",
       "      <td>8.022351</td>\n",
       "      <td>26666.222224</td>\n",
       "      <td>2.0</td>\n",
       "    </tr>\n",
       "    <tr>\n",
       "      <th>3</th>\n",
       "      <td>0.004034</td>\n",
       "      <td>-0.010695</td>\n",
       "      <td>6.040061</td>\n",
       "      <td>6.022178</td>\n",
       "      <td>12.062239</td>\n",
       "      <td>18946.720226</td>\n",
       "      <td>3.0</td>\n",
       "    </tr>\n",
       "    <tr>\n",
       "      <th>4</th>\n",
       "      <td>0.005378</td>\n",
       "      <td>-0.014263</td>\n",
       "      <td>8.063749</td>\n",
       "      <td>8.085351</td>\n",
       "      <td>16.149100</td>\n",
       "      <td>14544.694222</td>\n",
       "      <td>4.0</td>\n",
       "    </tr>\n",
       "    <tr>\n",
       "      <th>5</th>\n",
       "      <td>0.006754</td>\n",
       "      <td>-0.017828</td>\n",
       "      <td>10.083432</td>\n",
       "      <td>10.142158</td>\n",
       "      <td>20.225591</td>\n",
       "      <td>11763.875443</td>\n",
       "      <td>5.0</td>\n",
       "    </tr>\n",
       "  </tbody>\n",
       "</table>\n",
       "</div>"
      ],
      "text/plain": [
       "           <x>       <y>      <x^2>      <y^2>        msd             N  lagt\n",
       "lagt                                                                         \n",
       "1     0.001359 -0.003578   2.000784   1.983703   3.984488  40000.000000   1.0\n",
       "2     0.002701 -0.007153   4.030176   3.992175   8.022351  26666.222224   2.0\n",
       "3     0.004034 -0.010695   6.040061   6.022178  12.062239  18946.720226   3.0\n",
       "4     0.005378 -0.014263   8.063749   8.085351  16.149100  14544.694222   4.0\n",
       "5     0.006754 -0.017828  10.083432  10.142158  20.225591  11763.875443   5.0"
      ]
     },
     "execution_count": 102,
     "metadata": {},
     "output_type": "execute_result"
    }
   ],
   "source": [
    "#DONE: compute the MSD from the FFT method used in fig. 2a\n",
    "#TODO: check I'm not stupidly putting in the wrong units when I use trackpy.msd above\n",
    "#Q: is it a mistake that I am passing DS the distance between pixels, mpp?\n",
    "# Q: <--> is x in units of length or pixels in the above? \n",
    "#compute msd for the first trajectory\n",
    "DS=1.\n",
    "num_digits_round=7\n",
    "# detail=False\n",
    "detail=True\n",
    "max_lagtime=int(DT*num_iter)\n",
    "fps=np.around(1/DT,num_digits_round)\n",
    "df_msd = trackpy.msd(\n",
    "    traj,\n",
    "    mpp=DS,\n",
    "    fps=fps,\n",
    "    max_lagtime=max_lagtime,\n",
    "    detail=detail)\n",
    "df_msd.head()\n"
   ]
  },
  {
   "cell_type": "code",
   "execution_count": 100,
   "id": "879b465e",
   "metadata": {
    "ExecuteTime": {
     "end_time": "2022-11-08T21:38:56.298641Z",
     "start_time": "2022-11-08T21:38:56.268085Z"
    },
    "hidden": true
   },
   "outputs": [],
   "source": [
    "#compute expected\n",
    "xv=DT*np.arange(num_iter)\n",
    "yv=4*Dinput*DT*np.arange(num_iter)\n",
    "tmax=(np.max(xv)+DT)/60"
   ]
  },
  {
   "cell_type": "code",
   "execution_count": 101,
   "id": "8fcd63fc",
   "metadata": {
    "ExecuteTime": {
     "end_time": "2022-11-08T21:38:56.763297Z",
     "start_time": "2022-11-08T21:38:56.648281Z"
    },
    "hidden": true
   },
   "outputs": [
    {
     "data": {
      "image/png": "[encoded data removed]",
      "text/plain": [
       "<Figure size 432x288 with 1 Axes>"
      ]
     },
     "metadata": {
      "needs_background": "light"
     },
     "output_type": "display_data"
    }
   ],
   "source": [
    "fig,ax=plt.subplots()\n",
    "\n",
    "#TODO: plot msd expected\n",
    "ax.plot(xv,yv,'r--',alpha=0.9,label='Expected')\n",
    "\n",
    "#TODO: plot msd of this trajectory\n",
    "df_msd.plot(x='lagt',y='msd',c='gray',#c='N',#vmin=0,vmax=num_iter+1,s=1,\n",
    "                    alpha=0.7,ax=ax, label='Simulated')#,cmap='bwr')\n",
    "\n",
    "#format_plot\n",
    "format_plot(ax=ax,xlabel='x (cm)', ylabel='y (cm)',fontsize=14)\n",
    "AddLegend(ax=ax,xy=(0.04,0.8))\n",
    "# ax.legend(loc='upper left')#,fancybox=False)\n",
    "plt.title(f'time between frames: {DT:.0f} s, {tmax=:.0f} min',fontsize=14)\n",
    "plt.show()\n",
    "\n",
    "#TODO: estimate the slope by ols\n",
    "\n",
    "#TODO: compute Doutput\n",
    "\n",
    "#TODO: compare to expected value Dinput\n",
    "\n",
    "#TODO: print the effective number of observations that trackpy offers to return..."
   ]
  },
  {
   "cell_type": "code",
   "execution_count": 69,
   "id": "7d737331",
   "metadata": {
    "ExecuteTime": {
     "end_time": "2022-11-08T21:31:24.643225Z",
     "start_time": "2022-11-08T21:31:24.614624Z"
    },
    "hidden": true
   },
   "outputs": [
    {
     "data": {
      "text/plain": [
       "<function lib.viewer.bluf.LegendPlot.AddLegend(ax=None, xy=(1.04, 1.04), fontsize=15, loc='upper left', frameon=False, **kwargs)>"
      ]
     },
     "execution_count": 69,
     "metadata": {},
     "output_type": "execute_result"
    }
   ],
   "source": [
    "AddLegend"
   ]
  },
  {
   "cell_type": "code",
   "execution_count": null,
   "id": "a2bdbb28",
   "metadata": {
    "hidden": true
   },
   "outputs": [],
   "source": [
    "# g = groups.get_group((trial_num,pid)).sort_values(by='tdeath') #tdeath is used for both df_ranges.\n",
    "# x_values = g['x'].values\n",
    "# y_values = g['y'].values\n",
    "# t_values = g['tdeath'].values\n",
    "# #unwrap pbc for given trajectory\n",
    "# xv,yv = unwrap_and_center_xy_values(x_values,y_values,width,height)#,jump_thresh=None,**kwargs)\n",
    "# boo=t_values>crop_start_by\n",
    "# frame_values = np.arange(np.sum(boo))\n",
    "# traj=pd.DataFrame({'x':xv[boo],'y':yv[boo],'frame':frame_values})#,'t':t_values[boo]})\n"
   ]
  },
  {
   "cell_type": "code",
   "execution_count": null,
   "id": "492b1528",
   "metadata": {
    "hidden": true
   },
   "outputs": [],
   "source": []
  },
  {
   "cell_type": "markdown",
   "id": "4336ba8d",
   "metadata": {
    "ExecuteTime": {
     "end_time": "2022-09-19T04:08:12.993406Z",
     "start_time": "2022-09-19T04:08:12.931890Z"
    }
   },
   "source": [
    "# demonstration of attractive behavior, which deviates from the brownian behavior"
   ]
  },
  {
   "cell_type": "markdown",
   "id": "bd1a5bfa",
   "metadata": {},
   "source": [
    "## old notes on the parameter settings i eventually decided on...\n"
   ]
  },
  {
   "cell_type": "code",
   "execution_count": 20,
   "id": "27b48821",
   "metadata": {
    "ExecuteTime": {
     "end_time": "2022-11-18T04:09:34.319297Z",
     "start_time": "2022-11-18T04:09:34.270016Z"
    }
   },
   "outputs": [
    {
     "name": "stdout",
     "output_type": "stream",
     "text": [
      "/home/timothytyree/Documents/GitHub/bgmc/python/data/local_results/neighbors_1_uniformic_0_fc_2_r_0.1_D_0.7_L_10_kappa_1500_varkappa_5_N_2/Log/pbc_particle_log1_log.csv\n"
     ]
    }
   ],
   "source": [
    "tavg1=4#8#4 #moving average window, in ms\n",
    "\n",
    "# tavg2=12#24 #ms #savgol_filter time window performed on R \n",
    "tavg2=24# #ms #savgol_filter time window performed on R  #12 ms was no longer smooth\n",
    "# tavg2=10.# #ms #savgol_filter time window performed on R  #12 ms was no longer smooth\n",
    "\n",
    "#particle model token trajectories\n",
    "# # #neighbors=0\n",
    "# input_fn_lst = [\n",
    "#     '/home/timothytyree/Documents/GitHub/bgmc/python/data/local_results/euic_False_fc_2_r_0.1_D_0_L_10_kappa_0_varkappa_0/Log/pbc_particle_log1_log.csv',\n",
    "#     '/home/timothytyree/Documents/GitHub/bgmc/python/data/local_results/euic_False_fc_2_r_0.1_D_0_L_10_kappa_1500_varkappa_5/Log/pbc_particle_log2_log.csv',\n",
    "#     '/home/timothytyree/Documents/GitHub/bgmc/python/data/local_results/euic_False_fc_2_r_0.1_D_2_L_10_kappa_0_varkappa_0/Log/pbc_particle_log5_log.csv',\n",
    "#     '/home/timothytyree/Documents/GitHub/bgmc/python/data/local_results/euic_False_fc_2_r_0.1_D_2_L_10_kappa_1500_varkappa_0/Log/pbc_particle_log5_log.csv',\n",
    "#     '/home/timothytyree/Documents/GitHub/bgmc/python/data/local_results/euic_False_fc_2_r_0.1_D_2_L_10_kappa_1500_varkappa_5/Log/pbc_particle_log5_log.csv'\n",
    "# ]\n",
    "\n",
    "\n",
    "# # #neighbors=1\n",
    "# input_fn='/home/timothytyree/Documents/GitHub/bgmc/python/data/local_results/neighbors_1_uniformic_0_fc_2_r_0.1_D_0_L_10_kappa_1500_varkappa_5_N_2/Log/pbc_particle_log2_log.csv' \n",
    "# # # input_fn='/home/timothytyree/Documents/GitHub/bgmc/python/data/local_results/neighbors_1_uniformic_0_fc_2_r_0.1_D_0_L_10_kappa_1500_varkappa_5/Log/pbc_particle_log2_log.csv'  \n",
    "# # # input_fn='/home/timothytyree/Documents/GitHub/bgmc/python/data/local_results/neighbors_1_uniformic_0_fc_2_r_0.1_D_2_L_10_kappa_1500_varkappa_5/Log/pbc_particle_log2_log.csv'\n",
    "\n",
    "\n",
    "#two particle control with diffusion\n",
    "input_fn_lst = [\n",
    "    '/home/timothytyree/Documents/GitHub/bgmc/python/data/local_results/neighbors_1_uniformic_0_fc_2_r_0.1_D_0.7_L_10_kappa_1500_varkappa_5_N_2/Log/pbc_particle_log1_log.csv'\n",
    "]\n",
    "\n",
    "#choose a file for initialization/testing \n",
    "input_fn=input_fn_lst[-1]\n",
    "print(input_fn)\n",
    "#choose parameters\n",
    "pid_col='pid_explicit'\n",
    "width=10\n",
    "ds=10. #cm for the whole domain\n",
    "tmin=0.\n",
    "c='C3'\n",
    "\n",
    "\n",
    "##########################\n",
    "# Perform Averaging\n",
    "##########################\n",
    "tavg1=0\n",
    "tavg2=14#todo 0\n",
    "#one token trajectory file for the fenton karma model and the luo-rudy model\n",
    "input_fn_lst=[\n",
    "    # c='C0'\n",
    "    # #token FK at DT=0.4 (src: TT)\n",
    "    \"/home/timothytyree/Documents/GitHub/care/notebooks/Data/initial-conditions-fk-200x200/param_set_8_ds_5.0_tmax_10_diffCoef_0.0005/Log/ic200x200.0.2_traj_sr_400_mem_0.csv\",\n",
    "    # c='C1'\n",
    "    # #tokenLR at DT=0.5 (src: TT)\n",
    "    \"/home/timothytyree/Documents/GitHub/care/notebooks/Data/initial-conditions-suite-3-LR/param_qu_tmax_30_Ko_5.4_diffCoef_0.0005_dt_0.5/trajectories/ic002.11_traj_sr_600_mem_0.csv\",   \n",
    "]\n",
    "\n",
    "kwargs_particle=dict(\n",
    "        max_dtmax_thresh=0,  #ms\n",
    "        max_Rfinal_thresh=0.2,  #cm\n",
    "        min_duration_thresh=15,  #ms\n",
    "        npartitions=10,#None,\n",
    "        width=10,\n",
    "        height=10,\n",
    "        ds=10,\n",
    "        use_drop_shorter_than=False,\n",
    "        drop_shorter_than=0,  #ms\n",
    "        tmin=0.,  #ms\n",
    "        pid_col='pid_explicit',\n",
    "        t_col='t',\n",
    "        npartitions2=1,\n",
    "        printing=True)\n",
    "\n",
    "kwargs_full=dict(\n",
    "        max_dtmax_thresh = 0,      #ms\n",
    "        max_Rfinal_thresh = 0.2,   #cm\n",
    "        min_duration_thresh = 40,  #ms\n",
    "        npartitions=None,\n",
    "        width=200,\n",
    "        height=200,\n",
    "        ds=5,\n",
    "        use_drop_shorter_than=True,\n",
    "        drop_shorter_than=40, #ms\n",
    "        tmin=100., #ms\n",
    "        pid_col='particle',\n",
    "        t_col='t',\n",
    "        npartitions2=1,\n",
    "        printing=True)\n"
   ]
  },
  {
   "cell_type": "markdown",
   "id": "6c95bd16",
   "metadata": {},
   "source": [
    "## load the range timeseries from the full models"
   ]
  },
  {
   "cell_type": "code",
   "execution_count": 21,
   "id": "3e1df147",
   "metadata": {
    "ExecuteTime": {
     "end_time": "2022-11-18T04:09:37.048566Z",
     "start_time": "2022-11-18T04:09:36.164746Z"
    }
   },
   "outputs": [
    {
     "name": "stdout",
     "output_type": "stream",
     "text": [
      "num. trials in cached annihilation ranges: 640\n",
      "num. trials in cached creation ranges: 638\n"
     ]
    }
   ],
   "source": [
    "#LR model trajectories\n",
    "#per 001\n",
    "annihil_range_dir_lr = \"/Users/timothytyree/Documents/GitHub/care/notebooks/Data/from_wjr/positions_lr/200x200/tippos_per_001_annihilation_range_timeseries.pkl\"\n",
    "creation_range_dir_lr = \"/Users/timothytyree/Documents/GitHub/care/notebooks/Data/from_wjr/positions_lr//200x200/tippos_per_001_creation_range_timeseries.pkl\"\n",
    "# annihil_range_dir_lr = \"/home/timothytyree/Documents/GitHub/care/notebooks/Data/from_wjr/positions_lr/200x200/tippos_per_001_annihilation_range_timeseries.pkl\"\n",
    "# creation_range_dir_lr = \"/home/timothytyree/Documents/GitHub/care/notebooks/Data/from_wjr/positions_lr//200x200/tippos_per_001_creation_range_timeseries.pkl\"\n",
    "assert os.path.exists(annihil_range_dir_lr)\n",
    "assert os.path.exists(creation_range_dir_lr)\n",
    "# DS = 0.0025 # cm / px\n",
    "DT = 1e-3 # s / frame\n",
    "data_annihil=load_from_pickle(annihil_range_dir_lr)\n",
    "data_creation=load_from_pickle(creation_range_dir_lr)\n",
    "df_ranges_annihiln = pd.concat(data_annihil)\n",
    "df_ranges_creation = pd.concat(data_creation)\n",
    "print(f\"num. trials in cached annihilation ranges: {df_ranges_annihiln['trial_num'].max()}\")\n",
    "print(f\"num. trials in cached creation ranges: {df_ranges_creation['trial_num'].max()}\")\n",
    "#TODO: dev dRdt routine\n",
    "#TODO: eval dRdt routine\n",
    "# #TODO: record\n",
    "# dict_dRdt_lr= dict(df_dRdt_creation=df_dRdt_creation,\n",
    "#                    df_bootstrapped_creation=df_bootstrapped_creation,\n",
    "#                    df_dRdt_annihiln=df_dRdt_annihiln,\n",
    "#                    df_bootstrapped_annihiln=df_bootstrapped_annihiln\n",
    "#                   )"
   ]
  },
  {
   "cell_type": "code",
   "execution_count": 22,
   "id": "320e3f29",
   "metadata": {
    "ExecuteTime": {
     "end_time": "2022-11-18T04:09:37.931237Z",
     "start_time": "2022-11-18T04:09:37.887793Z"
    }
   },
   "outputs": [],
   "source": [
    "bins=np.linspace(1e-6,3,50)\n",
    "kwargs_dRdt=dict(tavg2=14, #ms\n",
    "            min_minlifetime=40,#100.,#200.,#40., #ms  #\n",
    "            min_minrange = 0.2, #cm\n",
    "            max_tdeath=100.,#200.,#40., #ms\n",
    "            num_bootstrap_samples=100, # 1000,\n",
    "            bins=bins, #'auto',\n",
    "            min_numobs=None,npartitions=None,printing=True)\n"
   ]
  },
  {
   "cell_type": "code",
   "execution_count": 23,
   "id": "e7424fc5",
   "metadata": {
    "ExecuteTime": {
     "end_time": "2022-11-18T04:09:38.424807Z",
     "start_time": "2022-11-18T04:09:38.379036Z"
    }
   },
   "outputs": [],
   "source": [
    "use_cache=True\n",
    "if not use_cache:\n",
    "    #sort by particle and then by time\n",
    "    df_ranges=df_ranges_annihiln\\\n",
    "        .sort_values(by=['trial_num','annihilation_index','tdeath'])\n",
    "    df_ranges.reset_index(inplace=True)\n",
    "    df_dRdt_annihiln,df_bootstrapped_annihiln = comp_radial_velocities(df_ranges,DT,**kwargs_dRdt)\n",
    "    df_ranges=df_ranges_creation\\\n",
    "        .sort_values(by=['trial_num','annihilation_index','tdeath'])\n",
    "    df_ranges.reset_index(inplace=True)\n",
    "    df_dRdt_creation,df_bootstrapped_creation = comp_radial_velocities(df_ranges,DT,**kwargs_dRdt)\n",
    "    #record\n",
    "    dict_dRdt_lr= dict(df_dRdt_creation=df_dRdt_creation,\n",
    "                       df_bootstrapped_creation=df_bootstrapped_creation,\n",
    "                       df_dRdt_annihiln=df_dRdt_annihiln,\n",
    "                       df_bootstrapped_annihiln=df_bootstrapped_annihiln\n",
    "                      )"
   ]
  },
  {
   "cell_type": "code",
   "execution_count": null,
   "id": "a3129a5c",
   "metadata": {},
   "outputs": [],
   "source": []
  },
  {
   "cell_type": "code",
   "execution_count": 24,
   "id": "f028ae36",
   "metadata": {
    "ExecuteTime": {
     "end_time": "2022-11-18T04:09:42.162146Z",
     "start_time": "2022-11-18T04:09:40.260787Z"
    }
   },
   "outputs": [
    {
     "name": "stdout",
     "output_type": "stream",
     "text": [
      "num. trials in cached annihilation ranges: 79\n",
      "num. trials in cached creation ranges: 79\n"
     ]
    }
   ],
   "source": [
    "#FK model trajectories\n",
    "# #per 005\n",
    "# annihil_range_dir_fk = \"/Users/timothytyree/Documents/GitHub/care/notebooks/Data/from_wjr/positions_fk/200x200/tippos_per_c_005_annihilation_range_timeseries.pkl\"\n",
    "# creation_range_dir_fk = \"/Users/timothytyree/Documents/GitHub/care/notebooks/Data/from_wjr/positions_fk/200x200/tippos_per_c_005_creation_range_timeseries.pkl\" # 79 trials\n",
    "# DT = 5e-3 # s / frame\n",
    "#per 001\n",
    "# annihil_range_dir_fk = \"/home/timothytyree/Documents/GitHub/care/notebooks/Data/from_wjr/positions_fk/200x200/tippos_per_c_001_annihilation_range_timeseries.pkl\"\n",
    "# creation_range_dir_fk = \"/home/timothytyree/Documents/GitHub/care/notebooks/Data/from_wjr/positions_fk/200x200/tippos_per_c_001_creation_range_timeseries.pkl\"\n",
    "annihil_range_dir_fk = \"/Users/timothytyree/Documents/GitHub/care/notebooks/Data/from_wjr/positions_fk/200x200/tippos_per_c_001_annihilation_range_timeseries.pkl\"\n",
    "creation_range_dir_fk = \"/Users/timothytyree/Documents/GitHub/care/notebooks/Data/from_wjr/positions_fk/200x200/tippos_per_c_001_creation_range_timeseries.pkl\"\n",
    "DT = 1e-3 # s / frame\n",
    "# DS = 0.0025 # cm / px\n",
    "assert os.path.exists(annihil_range_dir_fk)\n",
    "assert os.path.exists(creation_range_dir_fk)\n",
    "data_annihil=load_from_pickle(annihil_range_dir_fk)\n",
    "data_creation=load_from_pickle(creation_range_dir_fk)\n",
    "df_ranges_annihiln = pd.concat(data_annihil)\n",
    "df_ranges_creation = pd.concat(data_creation)\n",
    "print(f\"num. trials in cached annihilation ranges: {df_ranges_annihiln['trial_num'].max()}\")\n",
    "print(f\"num. trials in cached creation ranges: {df_ranges_creation['trial_num'].max()}\")\n",
    "#TODO: dev dRdt routine\n",
    "#TODO: eval dRdt routine\n",
    "# #TODO: record\n",
    "# dict_dRdt_fk= dict(df_dRdt_creation=df_dRdt_creation,\n",
    "#                    df_bootstrapped_creation=df_bootstrapped_creation,\n",
    "#                    df_dRdt_annihiln=df_dRdt_annihiln,\n",
    "#                    df_bootstrapped_annihiln=df_bootstrapped_annihiln\n",
    "#                   )"
   ]
  },
  {
   "cell_type": "code",
   "execution_count": 25,
   "id": "6c4b0deb",
   "metadata": {
    "ExecuteTime": {
     "end_time": "2022-11-18T04:09:42.208217Z",
     "start_time": "2022-11-18T04:09:42.164612Z"
    }
   },
   "outputs": [],
   "source": [
    "kwargs_dRdt=dict(tavg2=14, #ms\n",
    "            min_minlifetime=200.,#ms  # #40.,  takes forever to run... \n",
    "            min_minrange = 0.2, #cm\n",
    "            max_tdeath=100.,#200.,#40., #ms\n",
    "            num_bootstrap_samples=100, # 1000,\n",
    "            bins=bins, #'auto',\n",
    "            min_numobs=None,npartitions=None,printing=True)\n",
    "if not use_cache:\n",
    "\n",
    "    #sort by particle and then by time\n",
    "    df_ranges=df_ranges_annihiln\\\n",
    "        .sort_values(by=['trial_num','annihilation_index','tdeath'])\n",
    "    df_ranges.reset_index(inplace=True)\n",
    "    df_dRdt_annihiln,df_bootstrapped_annihiln = comp_radial_velocities(df_ranges,DT,**kwargs_dRdt)\n",
    "    df_ranges=df_ranges_creation\\\n",
    "        .sort_values(by=['trial_num','annihilation_index','tdeath'])\n",
    "    df_ranges.reset_index(inplace=True)\n",
    "    df_dRdt_creation,df_bootstrapped_creation = comp_radial_velocities(df_ranges,DT,**kwargs_dRdt)\n",
    "    #record\n",
    "    dict_dRdt_fk= dict(df_dRdt_creation=df_dRdt_creation,\n",
    "                       df_bootstrapped_creation=df_bootstrapped_creation,\n",
    "                       df_dRdt_annihiln=df_dRdt_annihiln,\n",
    "                       df_bootstrapped_annihiln=df_bootstrapped_annihiln\n",
    "                      )"
   ]
  },
  {
   "cell_type": "markdown",
   "id": "4b6ff82d",
   "metadata": {},
   "source": [
    "## plot from cache"
   ]
  },
  {
   "cell_type": "code",
   "execution_count": 26,
   "id": "be75c00a",
   "metadata": {
    "ExecuteTime": {
     "end_time": "2022-11-18T04:09:43.196568Z",
     "start_time": "2022-11-18T04:09:43.150897Z"
    }
   },
   "outputs": [],
   "source": [
    "def print_fit_ols(x,y,printing=True):\n",
    "    \"\"\"print_fit_power_law prints fit to power law by ordinary least squares (ols).\n",
    "    Delta_... indicates the radial distance to the 95% CI resulting from ols.\n",
    "    print_fit_power_law returns a dictionary of floats with the following schema:\n",
    "\n",
    "    schema:\n",
    "        m: exponent\n",
    "        M: magnitude\n",
    "        B: y-intercept\n",
    "        rmse: root mean squared error\n",
    "        Rsq: R squared\n",
    "        num_obs: number of observations\n",
    "\n",
    "    Example Usage:\n",
    "dict_fit = print_fit_ols(x,y,printing=True)\n",
    "    \"\"\"\n",
    "    dict_fit=compute_95CI_ols(x,y)\n",
    "    yhat=dict_fit['b']+dict_fit['m']*x\n",
    "    rmse=np.sqrt(np.mean((yhat-y)**2))\n",
    "    num_obs = x.shape[0]\n",
    "    #record\n",
    "    dict_fit['num_obs'] = num_obs\n",
    "    dict_fit['rmse'] = rmse\n",
    "    dict_fit['Rsq'] = dict_fit['Rsquared'] #alias\n",
    "    if printing:\n",
    "        print_dict(dict_fit)\n",
    "    return dict_fit"
   ]
  },
  {
   "cell_type": "code",
   "execution_count": 27,
   "id": "6567a48b",
   "metadata": {
    "ExecuteTime": {
     "end_time": "2022-11-18T04:09:43.899503Z",
     "start_time": "2022-11-18T04:09:43.669761Z"
    }
   },
   "outputs": [],
   "source": [
    "# use_cache=True\n",
    "if use_cache:\n",
    "#     dRdt_dir_fk='/home/timothytyree/Documents/GitHub/care/notebooks/Data/from_wjr/positions_fk/200x200/tippos_per_c_001_radial_velocities.pkl'\n",
    "#     dRdt_dir_lr='/home/timothytyree/Documents/GitHub/care/notebooks/Data/from_wjr/positions_lr/200x200/tippos_per_001_radial_velocities.pkl'\n",
    "    dRdt_dir_fk='/Users/timothytyree/Documents/GitHub/care/notebooks/Data/from_wjr/positions_fk/200x200/tippos_per_c_001_radial_velocities.pkl'\n",
    "    dRdt_dir_lr='/Users/timothytyree/Documents/GitHub/care/notebooks/Data/from_wjr/positions_lr/200x200/tippos_per_001_radial_velocities.pkl'\n",
    "    dict_dRdt_fk = load_from_pickle(dRdt_dir_fk)\n",
    "    dict_dRdt_lr = load_from_pickle(dRdt_dir_lr)"
   ]
  },
  {
   "cell_type": "code",
   "execution_count": null,
   "id": "9d365905",
   "metadata": {},
   "outputs": [],
   "source": []
  },
  {
   "cell_type": "code",
   "execution_count": null,
   "id": "ae90b251",
   "metadata": {},
   "outputs": [],
   "source": []
  },
  {
   "cell_type": "code",
   "execution_count": 28,
   "id": "f1cd1d87",
   "metadata": {
    "ExecuteTime": {
     "end_time": "2022-11-18T04:09:45.633987Z",
     "start_time": "2022-11-18T04:09:45.598215Z"
    }
   },
   "outputs": [],
   "source": [
    "#attempt to measure a reasonable value for the attraction coefficient\n",
    "df_bootstrapped_lr=dict_dRdt_lr['df_bootstrapped_annihiln']\n",
    "x_values_lr = 1/df_bootstrapped_lr['R'].values\n",
    "y_values_lr = df_bootstrapped_lr['dRdt'].values\n",
    "Delta_y_values_lr = df_bootstrapped_lr['Delta_dRdt'].values\n",
    "\n",
    "df_bootstrapped_fk=dict_dRdt_fk['df_bootstrapped_annihiln']\n",
    "x_values_fk = 1/df_bootstrapped_fk['R'].values\n",
    "y_values_fk = df_bootstrapped_fk['dRdt'].values\n",
    "Delta_y_values_fk = df_bootstrapped_fk['Delta_dRdt'].values"
   ]
  },
  {
   "cell_type": "code",
   "execution_count": 29,
   "id": "c6ada4d6",
   "metadata": {
    "ExecuteTime": {
     "end_time": "2022-11-18T04:09:46.121306Z",
     "start_time": "2022-11-18T04:09:46.081141Z"
    }
   },
   "outputs": [
    {
     "name": "stdout",
     "output_type": "stream",
     "text": [
      "\n",
      "(Fenton-Karma) linear fit of dRdt from 1/R=0.0 to 10:\n",
      "m=-4.550823917522961\n",
      "Delta_m=0.8299672832720622\n",
      "b=-0.7883724177008169\n",
      "Delta_b=1.5044154352605568\n",
      "Rsquared=0.7674370424368964\n",
      "num_obs=37\n",
      "rmse=3.1625294434003433\n",
      "Rsq=0.7674370424368964\n",
      "ahat = 2.2754 +/- 0.4150 cm^2/s\n",
      "\n",
      "(Luo-Rudy) linear fit of dRdt from 1/R=0.0 to 10:\n",
      "m=-8.087927742495596\n",
      "Delta_m=0.4593631505563615\n",
      "b=-2.310333356275457\n",
      "Delta_b=0.7439196689530453\n",
      "Rsquared=0.9635892116333213\n",
      "num_obs=47\n",
      "rmse=1.8623782485431748\n",
      "Rsq=0.9635892116333213\n",
      "ahat = 4.0440 +/- 0.2297 cm^2/s\n"
     ]
    }
   ],
   "source": [
    "xmin_fk=0.0\n",
    "# xmax_fk=3\n",
    "# xmin_fk=3\n",
    "xmax_fk=10\n",
    "boo=(x_values_fk>=xmin_fk)&(x_values_fk<xmax_fk)\n",
    "print(f\"\\n(Fenton-Karma) linear fit of dRdt from 1/R={xmin_fk} to {xmax_fk}:\")\n",
    "dict_fit_fk = print_fit_ols(x=x_values_fk[boo],y=y_values_fk[boo],printing=True)\n",
    "ahat_fk = -dict_fit_fk['m']/2\n",
    "Delta_ahat_fk = dict_fit_fk['Delta_m']/2\n",
    "print(f\"ahat = {ahat_fk:.4f} +/- {Delta_ahat_fk:.4f} cm^2/s\")\n",
    "\n",
    "xmin_lr=0.0\n",
    "# xmax_lr=3\n",
    "# xmin_lr=3\n",
    "xmax_lr=10\n",
    "boo=(x_values_lr>=xmin_lr)&(x_values_lr<xmax_lr)\n",
    "print(f\"\\n(Luo-Rudy) linear fit of dRdt from 1/R={xmin_lr} to {xmax_lr}:\")\n",
    "dict_fit_lr = print_fit_ols(x=x_values_lr[boo],y=y_values_lr[boo],printing=True)\n",
    "ahat_lr = -dict_fit_lr['m']/2\n",
    "Delta_ahat_lr = dict_fit_lr['Delta_m']/2\n",
    "print(f\"ahat = {ahat_lr:.4f} +/- {Delta_ahat_lr:.4f} cm^2/s\")"
   ]
  },
  {
   "cell_type": "code",
   "execution_count": 30,
   "id": "521bd8da",
   "metadata": {
    "ExecuteTime": {
     "end_time": "2022-11-18T04:09:46.820414Z",
     "start_time": "2022-11-18T04:09:46.782224Z"
    }
   },
   "outputs": [
    {
     "name": "stdout",
     "output_type": "stream",
     "text": [
      "\n",
      "(Luo-Rudy) msd linear fit of dRdt from 1/R=0.0 to 10:\n",
      "m=-8.087927742495596\n",
      "Delta_m=0.4593631505563615\n",
      "b=-2.310333356275457\n",
      "Delta_b=0.7439196689530453\n",
      "Rsquared=0.9635892116333213\n",
      "num_obs=47\n",
      "rmse=1.8623782485431748\n",
      "Rsq=0.9635892116333213\n",
      "ahat = 4.0440 +/- 0.2297 cm^2/s\n"
     ]
    }
   ],
   "source": [
    "xmin_lr=0.0\n",
    "# xmax_lr=3\n",
    "# xmin_lr=3\n",
    "xmax_lr=10\n",
    "boo=(x_values_lr>=xmin_lr)&(x_values_lr<xmax_lr)\n",
    "print(f\"\\n(Luo-Rudy) msd linear fit of dRdt from 1/R={xmin_lr} to {xmax_lr}:\")\n",
    "dict_fit_lr = print_fit_ols(x=x_values_lr[boo],y=y_values_lr[boo],printing=True)\n",
    "ahat_lr = -dict_fit_lr['m']/2\n",
    "Delta_ahat_lr = dict_fit_lr['Delta_m']/2\n",
    "print(f\"ahat = {ahat_lr:.4f} +/- {Delta_ahat_lr:.4f} cm^2/s\")"
   ]
  },
  {
   "cell_type": "code",
   "execution_count": 31,
   "id": "032c0f46",
   "metadata": {
    "ExecuteTime": {
     "end_time": "2022-11-18T04:09:47.354354Z",
     "start_time": "2022-11-18T04:09:47.318694Z"
    }
   },
   "outputs": [],
   "source": [
    "# print(f\"Fenton-Karma fit:\")\n",
    "# # boo = \n",
    "# # dict_fit_fk = print_fit_ols(x=x_values_fk[boo],y=y_values_fk[boo],printing=True)\n",
    "# # dict_fit_fk = print_fit_ols(x=x_values_fk,y=y_values_fk,printing=True)\n",
    "\n",
    "# print(f\"\\nLuo-Rudy fit:\")\n",
    "# dict_fit_lr = print_fit_ols(x=x_values_lr[boo],y=y_values_lr[boo],printing=True)\n",
    "# # dict_fit_lr = print_fit_ols(x=x_values_lr,y=y_values_lr,printing=True)\n"
   ]
  },
  {
   "cell_type": "code",
   "execution_count": null,
   "id": "348664df",
   "metadata": {},
   "outputs": [],
   "source": []
  },
  {
   "cell_type": "code",
   "execution_count": 33,
   "id": "92f3faf7",
   "metadata": {
    "ExecuteTime": {
     "end_time": "2022-11-18T04:11:42.970072Z",
     "start_time": "2022-11-18T04:11:42.757189Z"
    }
   },
   "outputs": [
    {
     "data": {
      "image/png": "[encoded data removed]",
      "text/plain": [
       "<Figure size 600x400 with 1 Axes>"
      ]
     },
     "metadata": {},
     "output_type": "display_data"
    }
   ],
   "source": [
    "#plot the values on a log-log plot along with an ideal brownian particle of equal diffusion coefficient#TODO: plot expected brownian values plus offset to show msd is parallel with brownian at some point...\n",
    "lw=2\n",
    "alpha=0.9\n",
    "fontsize=18\n",
    "use_loglog=True\n",
    "#check if msd=0 at lagt=0\n",
    "fig,ax=plt.subplots(figsize=(6,4))\n",
    "\n",
    "#plot the full models results\n",
    "xmin=1\n",
    "boofk=x_values_fk>=xmin\n",
    "boolr=x_values_lr>=xmin\n",
    "ax.plot(x_values_fk[boofk],y_values_fk[boofk],c='C0',lw=lw,alpha=alpha,label='Fenton-Karma')\n",
    "ax.fill_between(x_values_fk[boofk],y_values_fk[boofk]-Delta_y_values_fk[boofk],y_values_fk[boofk]+Delta_y_values_fk[boofk],color='C0',lw=lw,alpha=alpha/2)\n",
    "ax.plot(x_values_lr[boolr],y_values_lr[boolr],c='C1',lw=lw,alpha=alpha,label='Luo-Rudy')\n",
    "ax.fill_between(x_values_lr[boolr],y_values_lr[boolr]-Delta_y_values_lr[boolr],\n",
    "                y_values_lr[boolr]+Delta_y_values_lr[boolr],color='C1',lw=lw,alpha=alpha/2)\n",
    "\n",
    "#TODO: plot ols fits and print the apparent attraction coefficients\n",
    "\n",
    "# # ax.set_ylim((1.0178650359332904e-05, 0.14507306398356945))\n",
    "# #plot expected values plus offset to show msd is parallel with brownian at some point...\n",
    "# xv=np.linspace(0.0,10,100)\n",
    "# ax.plot(xv,dict_fit_lr['m']*xv+dict_fit_lr['b'],'k-',lw=2,alpha=0.7)\n",
    "# ax.plot(xv,dict_fit_fk['m']*xv+dict_fit_fk['b'],'k-',lw=2,alpha=0.7)\n",
    "# # ax.plot(xv,dict_fit_lr['m']*xv+0.,'r-',lw=2,alpha=0.7)\n",
    "# # ax.plot(xv,dict_fit_fk['m']*xv+0.,'k-',lw=2,alpha=0.7)\n",
    "\n",
    "xv1=np.linspace(0.01,10,10)\n",
    "ax.plot(xv1,xv1*0.,'k--',lw=2,alpha=1.)\n",
    "\n",
    "\n",
    "#format_plot\n",
    "format_plot(ax, xlabel=r'$1/R$ (1/cm)', ylabel=r'$dR/dt$ (cm/s)', fontsize=fontsize, use_loglog=False)\n",
    "ax.tick_params(top=True, right=True,direction='in',which='both')\n",
    "ax.legend(fontsize=fontsize-2,frameon=False)\n",
    "ax.set_ylim([-90,30])\n",
    "plt.show()\n",
    "# ax.get_ylim()"
   ]
  },
  {
   "cell_type": "code",
   "execution_count": 43,
   "id": "f2c7120c",
   "metadata": {
    "ExecuteTime": {
     "end_time": "2022-10-14T23:52:55.222284Z",
     "start_time": "2022-10-14T23:52:55.183433Z"
    }
   },
   "outputs": [],
   "source": [
    "#TODO: attempt to measure a reasonable value for the attraction coefficient\n",
    "df_bootstrapped_lr_dagger=dict_dRdt_lr['df_bootstrapped_creation']\n",
    "x_values_lr_dagger = 1/df_bootstrapped_lr_dagger['R'].values\n",
    "y_values_lr_dagger = -df_bootstrapped_lr_dagger['dRdt'].values\n",
    "Delta_y_values_lr_dagger = df_bootstrapped_lr_dagger['Delta_dRdt'].values\n",
    "\n",
    "df_bootstrapped_fk_dagger=dict_dRdt_fk['df_bootstrapped_creation']\n",
    "x_values_fk_dagger = 1/df_bootstrapped_fk_dagger['R'].values\n",
    "y_values_fk_dagger = -df_bootstrapped_fk_dagger['dRdt'].values\n",
    "Delta_y_values_fk_dagger = df_bootstrapped_fk_dagger['Delta_dRdt'].values"
   ]
  },
  {
   "cell_type": "code",
   "execution_count": 44,
   "id": "796d4ab6",
   "metadata": {
    "ExecuteTime": {
     "end_time": "2022-10-14T23:52:57.391819Z",
     "start_time": "2022-10-14T23:52:57.341612Z"
    }
   },
   "outputs": [
    {
     "name": "stdout",
     "output_type": "stream",
     "text": [
      "\n",
      "(Fenton-Karma) linear fit of dRdt from 1/R=0.0 to 10: (Creation)\n",
      "m=9.310993680303415\n",
      "Delta_m=0.8278023935479061\n",
      "b=-1.6016969018476477\n",
      "Delta_b=1.3694108517449324\n",
      "Rsquared=0.9187170630749573\n",
      "num_obs=45\n",
      "rmse=3.3253649701370316\n",
      "Rsq=0.9187170630749573\n",
      "ahat = 4.6555 +/- 0.4139 cm^2/s\n",
      "\n",
      "(Luo-Rudy) linear fit of dRdt from 1/R=0.0 to 10: (Creation)\n",
      "m=9.474432100893113\n",
      "Delta_m=1.138208466888485\n",
      "b=6.313476423148073\n",
      "Delta_b=1.8646119645784094\n",
      "Rsquared=0.858146734918594\n",
      "num_obs=46\n",
      "rmse=4.600352216339196\n",
      "Rsq=0.858146734918594\n",
      "ahat = 4.7372 +/- 0.5691 cm^2/s\n"
     ]
    }
   ],
   "source": [
    "xmin_fk=0.0\n",
    "# xmax_fk=3\n",
    "# xmin_fk=3\n",
    "xmax_fk=10\n",
    "boo=(x_values_fk_dagger>=xmin_fk)&(x_values_fk_dagger<xmax_fk)\n",
    "print(f\"\\n(Fenton-Karma) linear fit of dRdt from 1/R={xmin_fk} to {xmax_fk}: (Creation)\")\n",
    "dict_fit_fk = print_fit_ols(x=x_values_fk_dagger[boo],y=y_values_fk_dagger[boo],printing=True)\n",
    "ahat_fk = dict_fit_fk['m']/2\n",
    "Delta_ahat_fk = dict_fit_fk['Delta_m']/2\n",
    "print(f\"ahat = {ahat_fk:.4f} +/- {Delta_ahat_fk:.4f} cm^2/s\")\n",
    "\n",
    "xmin_lr=0.0\n",
    "# xmax_lr=3\n",
    "# xmin_lr=3\n",
    "xmax_lr=10\n",
    "boo=(x_values_lr_dagger>=xmin_lr)&(x_values_lr_dagger<xmax_lr)\n",
    "print(f\"\\n(Luo-Rudy) linear fit of dRdt from 1/R={xmin_lr} to {xmax_lr}: (Creation)\")\n",
    "dict_fit_lr = print_fit_ols(x=x_values_lr_dagger[boo],y=y_values_lr_dagger[boo],printing=True)\n",
    "ahat_lr = dict_fit_lr['m']/2\n",
    "Delta_ahat_lr = dict_fit_lr['Delta_m']/2\n",
    "print(f\"ahat = {ahat_lr:.4f} +/- {Delta_ahat_lr:.4f} cm^2/s\")"
   ]
  },
  {
   "cell_type": "code",
   "execution_count": 47,
   "id": "94327c8c",
   "metadata": {
    "ExecuteTime": {
     "end_time": "2022-10-14T23:53:52.362161Z",
     "start_time": "2022-10-14T23:53:52.168256Z"
    },
    "run_control": {
     "marked": true
    }
   },
   "outputs": [
    {
     "data": {
      "image/png": "[encoded data removed]",
      "text/plain": [
       "<Figure size 600x400 with 1 Axes>"
      ]
     },
     "metadata": {},
     "output_type": "display_data"
    }
   ],
   "source": [
    "#plot the values on a log-log plot along with an ideal brownian particle of equal diffusion coefficient#TODO: plot expected brownian values plus offset to show msd is parallel with brownian at some point...\n",
    "lw=2\n",
    "alpha=0.9\n",
    "fontsize=18\n",
    "use_loglog=True\n",
    "#check if msd=0 at lagt=0\n",
    "fig,ax=plt.subplots(figsize=(6,4))\n",
    "\n",
    "#plot the full models results\n",
    "ax.plot(x_values_fk,y_values_fk,c='C0',lw=lw,alpha=alpha,label='Fenton-Karma (Annihilation)')\n",
    "ax.fill_between(x_values_fk,y_values_fk-Delta_y_values_fk,y_values_fk+Delta_y_values_fk,color='C0',lw=lw,alpha=alpha/2)\n",
    "ax.plot(x_values_lr,y_values_lr,c='C1',lw=lw,alpha=alpha,label='Luo-Rudy (Annihilation)')\n",
    "ax.fill_between(x_values_lr,y_values_lr-Delta_y_values_lr,y_values_lr+Delta_y_values_lr,color='C1',lw=lw,alpha=alpha/2)\n",
    "\n",
    "#plot the dagger of the full models results\n",
    "ax.plot(x_values_fk_dagger,y_values_fk_dagger,c='k',lw=lw,alpha=alpha,label='Fenton-Karma (Creation)')\n",
    "ax.fill_between(x_values_fk_dagger,y_values_fk_dagger-Delta_y_values_fk_dagger,y_values_fk_dagger+Delta_y_values_fk_dagger,color='k',lw=lw,alpha=alpha/2)\n",
    "ax.plot(x_values_lr_dagger,y_values_lr_dagger,c='r',lw=lw,alpha=alpha,label='Luo-Rudy (Creation)')\n",
    "ax.fill_between(x_values_lr_dagger,y_values_lr_dagger-Delta_y_values_lr_dagger,y_values_lr_dagger+Delta_y_values_lr_dagger,color='r',lw=lw,alpha=alpha/2)\n",
    "\n",
    "\n",
    "#TODO(later): plot ols fits and print the apparent attraction coefficients\n",
    "\n",
    "# ax.set_ylim((1.0178650359332904e-05, 0.14507306398356945))\n",
    "# #plot expected brownian values plus offset to show msd is parallel with brownian at some point...\n",
    "# xv2=np.linspace(0.1,5,10)\n",
    "xv1=np.linspace(0.01,10,10)\n",
    "ax.plot(xv1,xv1*0.,'k--',lw=2,alpha=1.)\n",
    "# ax.plot(xv2,dict_fit_fk['M']*xv2+0.,'k-',lw=2,alpha=0.7)\n",
    "\n",
    "\n",
    "#format_plot\n",
    "format_plot(ax, xlabel=r'$1/R$ (1/cm)', ylabel=r'$dR/dt$ (cm/s)', fontsize=fontsize, use_loglog=False)\n",
    "ax.tick_params(top=True, right=True,direction='in',which='both')\n",
    "# ax.legend(fontsize=fontsize-2,frameon=False)\n",
    "ax.legend(fontsize=fontsize-2,frameon=False,loc=(1.04,0.3))\n",
    "plt.show()\n",
    "# ax.get_ylim()"
   ]
  },
  {
   "cell_type": "code",
   "execution_count": null,
   "id": "04dd2041",
   "metadata": {},
   "outputs": [],
   "source": []
  },
  {
   "cell_type": "code",
   "execution_count": 46,
   "id": "38e2a616",
   "metadata": {
    "ExecuteTime": {
     "end_time": "2022-10-14T23:53:14.237650Z",
     "start_time": "2022-10-14T23:53:14.181112Z"
    }
   },
   "outputs": [],
   "source": [
    "saving=False\n",
    "if saving:\n",
    "    #both as pickles\n",
    "    dRdt_dir_fk = \"/Users/timothytyree/Documents/GitHub/care/notebooks/Data/from_wjr/positions_fk/200x200/tippos_per_c_001_radial_velocities.pkl\"\n",
    "    save_to_pickle(dRdt_dir_fk,dict_dRdt_fk)\n",
    "    print(f\"{dRdt_dir_fk=}\")\n",
    "\n",
    "    dRdt_dir_lr = \"/Users/timothytyree/Documents/GitHub/care/notebooks/Data/from_wjr/positions_lr/200x200/tippos_per_001_radial_velocities.pkl\"\n",
    "    save_to_pickle(dRdt_dir_lr,dict_dRdt_lr)\n",
    "    print(f\"{dRdt_dir_lr=}\")"
   ]
  },
  {
   "cell_type": "code",
   "execution_count": 616,
   "id": "e64a57fe",
   "metadata": {
    "ExecuteTime": {
     "end_time": "2022-09-19T21:33:46.648082Z",
     "start_time": "2022-09-19T21:33:46.595170Z"
    }
   },
   "outputs": [],
   "source": [
    "# fig,ax=plt.subplots()\n",
    "# # df_bootstrapped_fk.plot.scatter(x='R',y='dRdt',c='C0',s=20,alpha=0.7,ax=ax)\n",
    "# # df_bootstrapped_lr.plot.scatter(x='R',y='dRdt',c='C1',s=20,alpha=0.7,ax=ax)\n",
    "# df_bootstrapped_annihiln.plot.scatter(x='R',y='dRdt',c='k',s=20,alpha=0.7,ax=ax)\n",
    "# df_bootstrapped_creation.plot.scatter(x='R',y='dRdt',c='C1',s=20,alpha=0.7,ax=ax)\n",
    "# format_plot(ax=ax,xlabel=r'$R$ (cm)',ylabel=r'$dR/dt$ (cm/s)')\n",
    "# plt.show()"
   ]
  },
  {
   "cell_type": "code",
   "execution_count": 621,
   "id": "9a6b8e23",
   "metadata": {
    "ExecuteTime": {
     "end_time": "2022-09-19T21:39:05.446814Z",
     "start_time": "2022-09-19T21:39:05.386001Z"
    }
   },
   "outputs": [],
   "source": [
    "# bins=np.linspace(1e-6,3,50)\n",
    "# kwargs_dRdt=dict(tavg2=14, #ms\n",
    "#             min_minlifetime=200.,#40., #ms  #100.\n",
    "#             min_minrange = 0.2, #cm\n",
    "#             max_tdeath=200.,#40., #ms\n",
    "#             num_bootstrap_samples=100, # 1000,\n",
    "#             bins=bins, #'auto',\n",
    "#             min_numobs=None,npartitions=None,printing=True)\n",
    "\n",
    "# #sort by particle and then by time\n",
    "# df_ranges=df_ranges_annihiln\\\n",
    "#     .sort_values(by=['trial_num','annihilation_index','tdeath'])\n",
    "# df_ranges.reset_index(inplace=True)\n",
    "# df_dRdt_annihiln,df_bootstrapped_annihiln = comp_radial_velocities(df_ranges,DT,**kwargs_dRdt)\n",
    "# df_ranges=df_ranges_creation\\\n",
    "#     .sort_values(by=['trial_num','annihilation_index','tdeath'])\n",
    "# df_ranges.reset_index(inplace=True)\n",
    "# df_dRdt_creation,df_bootstrapped_creation = comp_radial_velocities(df_ranges,DT,**kwargs_dRdt)\n",
    "# #record\n",
    "# dict_dRdt_fk= dict(df_dRdt_creation=df_dRdt_creation,\n",
    "#                    df_bootstrapped_creation=df_bootstrapped_creation,\n",
    "#                    df_dRdt_annihiln=df_dRdt_annihiln,\n",
    "#                    df_bootstrapped_annihiln=df_bootstrapped_annihiln\n",
    "#                   )"
   ]
  },
  {
   "cell_type": "markdown",
   "id": "97d9e355",
   "metadata": {
    "heading_collapsed": true
   },
   "source": [
    "## DONE: plot the boostrapped average $dR/dt$ versus $1/R$"
   ]
  },
  {
   "cell_type": "code",
   "execution_count": 557,
   "id": "2d46156f",
   "metadata": {
    "ExecuteTime": {
     "end_time": "2022-09-19T20:43:47.601011Z",
     "start_time": "2022-09-19T20:43:47.551549Z"
    },
    "hidden": true
   },
   "outputs": [],
   "source": [
    "dRdt_dir_fk='/Users/timothytyree/Documents/GitHub/care/notebooks/Data/from_wjr/positions_fk/200x200/tippos_per_c_001_radial_velocities.pkl'\n",
    "dRdt_dir_lr='/Users/timothytyree/Documents/GitHub/care/notebooks/Data/from_wjr/positions_lr/200x200/tippos_per_001_radial_velocities.pkl'\n",
    "#TODO: plot ^that as potential final produce\n",
    "#TODO(failing ^that): try increasing tavg2 to 24 ms..."
   ]
  },
  {
   "cell_type": "code",
   "execution_count": 588,
   "id": "41e11bfd",
   "metadata": {
    "ExecuteTime": {
     "end_time": "2022-09-19T21:01:22.232649Z",
     "start_time": "2022-09-19T21:01:22.000213Z"
    },
    "hidden": true
   },
   "outputs": [],
   "source": [
    "#extract the xy values for either of the full models\n",
    "dict_dRdt_fk = load_from_pickle(dRdt_dir_fk)\n",
    "df = dict_dRdt_fk['df_bootstrapped_annihiln']\n",
    "# df = dict_dRdt_fk['df_bootstrapped_creation']\n",
    "x_values_fk = df['invR'].values\n",
    "y_values_fk = df['dRdt'].values\n",
    "Delta_y_values_fk = df['Delta_dRdt'].values\n",
    "\n",
    "#extract the xy values for either of the full models\n",
    "dict_dRdt_lr = load_from_pickle(dRdt_dir_lr)\n",
    "df = dict_dRdt_lr['df_bootstrapped_annihiln']\n",
    "# df = dict_dRdt_lr['df_bootstrapped_creation']\n",
    "x_values_lr = df['invR'].values\n",
    "y_values_lr = df['dRdt'].values\n",
    "Delta_y_values_lr = df['Delta_dRdt'].values"
   ]
  },
  {
   "cell_type": "code",
   "execution_count": 591,
   "id": "1803be98",
   "metadata": {
    "ExecuteTime": {
     "end_time": "2022-09-19T21:02:16.310563Z",
     "start_time": "2022-09-19T21:02:16.271871Z"
    },
    "hidden": true
   },
   "outputs": [],
   "source": [
    "# df_dRdt=dict_dRdt_fk['df_dRdt_annihiln']\n",
    "# df_dRdt.head()"
   ]
  },
  {
   "cell_type": "code",
   "execution_count": 596,
   "id": "48a27fb7",
   "metadata": {
    "ExecuteTime": {
     "end_time": "2022-09-19T21:07:51.469814Z",
     "start_time": "2022-09-19T21:07:15.865749Z"
    },
    "hidden": true
   },
   "outputs": [
    {
     "name": "stderr",
     "output_type": "stream",
     "text": [
      "/Users/timothytyree/opt/miniconda3/envs/pyenv/lib/python3.9/site-packages/statsmodels/compat/pandas.py:61: FutureWarning: pandas.Int64Index is deprecated and will be removed from pandas in a future version. Use pandas.Index with the appropriate dtype instead.\n",
      "  from pandas import Int64Index as NumericIndex\n",
      "/Users/timothytyree/opt/miniconda3/envs/pyenv/lib/python3.9/site-packages/statsmodels/compat/pandas.py:61: FutureWarning: pandas.Int64Index is deprecated and will be removed from pandas in a future version. Use pandas.Index with the appropriate dtype instead.\n",
      "  from pandas import Int64Index as NumericIndex\n",
      "/Users/timothytyree/opt/miniconda3/envs/pyenv/lib/python3.9/site-packages/statsmodels/compat/pandas.py:61: FutureWarning: pandas.Int64Index is deprecated and will be removed from pandas in a future version. Use pandas.Index with the appropriate dtype instead.\n",
      "  from pandas import Int64Index as NumericIndex\n",
      "/Users/timothytyree/opt/miniconda3/envs/pyenv/lib/python3.9/site-packages/statsmodels/compat/pandas.py:61: FutureWarning: pandas.Int64Index is deprecated and will be removed from pandas in a future version. Use pandas.Index with the appropriate dtype instead.\n",
      "  from pandas import Int64Index as NumericIndex\n"
     ]
    }
   ],
   "source": [
    "# df_dRdt=dict_dRdt_fk['df_bootstrapped_creation']\n",
    "# #scatter of dRdt versus 1/R\n",
    "# boo_null = df_ranges['xR'].isnull()\n",
    "# bootdeath=df_ranges['tdeath']>=max_tdeath\n",
    "# df_dRdt = df_ranges[(~boo_null)&(~bootdeath)].copy()\n",
    "# df_dRdt['invR'] = 1/df_dRdt['R'].values\n",
    "# df_dRdt['dRdt'] = df_dRdt['vR'].values #orient axes\n",
    "# if printing:\n",
    "#     print(f\"\\ncomputing bootstrapped mean over {num_steps} spiral tip trajectories...\")\n",
    "\n",
    "df_dRdt=dict_dRdt_lr['df_dRdt_annihiln']\n",
    "bins=np.linspace(1e-6,3,50)\n",
    "df_bootstrapped_lr=bin_and_bootstrap_xy_values_parallel(\n",
    "#                                x=df_dRdt['invR'].values,\n",
    "#                                x=1./df_dRdt['xR'].values,\n",
    "                               x=df_dRdt['xR'].values,\n",
    "                               y=-df_dRdt['dRdt'].values, # minus bc correcting sign for time inversion...\n",
    "                               xlabel='R',\n",
    "                               ylabel='dRdt',\n",
    "                               bins=bins)\n",
    "\n",
    "df_dRdt=dict_dRdt_fk['df_dRdt_annihiln']\n",
    "bins=np.linspace(1e-6,3,50)\n",
    "df_bootstrapped_fk=bin_and_bootstrap_xy_values_parallel(\n",
    "#                                x=df_dRdt['invR'].values,\n",
    "#                                x=1./df_dRdt['xR'].values,\n",
    "                               x=df_dRdt['xR'].values,\n",
    "                               y=-df_dRdt['dRdt'].values, # minus bc correcting sign for time inversion...\n",
    "                               xlabel='R',\n",
    "                               ylabel='dRdt',\n",
    "                               bins=bins)\n",
    "#                                min_numobs=min_numobs,\n",
    "#                                num_bootstrap_samples=num_bootstrap_samples, # 1000,\n",
    "#                                npartitions=npartitions,\n",
    "#                                use_test=False,test_val=0,printing=False)#,**kwargs)\n",
    "# return df_dRdt,df_bootstrapped"
   ]
  },
  {
   "cell_type": "code",
   "execution_count": 600,
   "id": "aa8d37c9",
   "metadata": {
    "ExecuteTime": {
     "end_time": "2022-09-19T21:13:35.724711Z",
     "start_time": "2022-09-19T21:13:35.677368Z"
    },
    "hidden": true
   },
   "outputs": [],
   "source": [
    "#TODO: dev mvp for fig. 2c NOW!\n",
    "#TODO: remake dRdt bootstrapped traces using t=24 ms smoothing time and with maxt before death set to 200 ms instead of 40 ms"
   ]
  },
  {
   "cell_type": "code",
   "execution_count": 601,
   "id": "a9e88b98",
   "metadata": {
    "ExecuteTime": {
     "end_time": "2022-09-19T21:13:38.906017Z",
     "start_time": "2022-09-19T21:13:38.615632Z"
    },
    "hidden": true
   },
   "outputs": [
    {
     "data": {
      "text/plain": [
       "True"
      ]
     },
     "execution_count": 601,
     "metadata": {},
     "output_type": "execute_result"
    },
    {
     "data": {
      "image/png": "[encoded data removed]",
      "text/plain": [
       "<Figure size 640x480 with 1 Axes>"
      ]
     },
     "metadata": {},
     "output_type": "display_data"
    }
   ],
   "source": [
    "fig,ax=plt.subplots()\n",
    "df_bootstrapped_fk.plot.scatter(x='R',y='dRdt',c='C0',s=20,alpha=0.7,ax=ax)\n",
    "df_bootstrapped_lr.plot.scatter(x='R',y='dRdt',c='C1',s=20,alpha=0.7,ax=ax)\n",
    "format_plot(ax=ax,xlabel=r'$R$ (cm)',ylabel=r'$dR/dt$ (cm/s)')"
   ]
  },
  {
   "cell_type": "code",
   "execution_count": 595,
   "id": "c544ae13",
   "metadata": {
    "ExecuteTime": {
     "end_time": "2022-09-19T21:04:43.815194Z",
     "start_time": "2022-09-19T21:04:43.763984Z"
    },
    "hidden": true
   },
   "outputs": [],
   "source": [
    "# df_bootstrapped.plot.scatter(x='invR',y='dRdt',c='k',s=20,alpha=0.7)"
   ]
  },
  {
   "cell_type": "code",
   "execution_count": 582,
   "id": "14c5141d",
   "metadata": {
    "ExecuteTime": {
     "end_time": "2022-09-19T20:56:35.405039Z",
     "start_time": "2022-09-19T20:56:35.339774Z"
    },
    "hidden": true
   },
   "outputs": [
    {
     "ename": "NameError",
     "evalue": "name 'dRdt' is not defined",
     "output_type": "error",
     "traceback": [
      "\u001b[0;31m---------------------------------------------------------------------------\u001b[0m",
      "\u001b[0;31mNameError\u001b[0m                                 Traceback (most recent call last)",
      "\u001b[0;32m/var/folders/0h/p4cbb7yx22jbxm0qb47vhfbh0000gn/T/ipykernel_62948/2362773761.py\u001b[0m in \u001b[0;36m<module>\u001b[0;34m\u001b[0m\n\u001b[1;32m      1\u001b[0m \u001b[0;31m# Q: why am i gettings dRdt > 0?\u001b[0m\u001b[0;34m\u001b[0m\u001b[0;34m\u001b[0m\u001b[0;34m\u001b[0m\u001b[0m\n\u001b[0;32m----> 2\u001b[0;31m \u001b[0mdRdt\u001b[0m\u001b[0;34m\u001b[0m\u001b[0;34m\u001b[0m\u001b[0m\n\u001b[0m",
      "\u001b[0;31mNameError\u001b[0m: name 'dRdt' is not defined"
     ]
    }
   ],
   "source": [
    "# Q: why am i gettings dRdt > 0?\n",
    "dRdt"
   ]
  },
  {
   "cell_type": "code",
   "execution_count": null,
   "id": "c2a195fb",
   "metadata": {
    "hidden": true
   },
   "outputs": [],
   "source": []
  },
  {
   "cell_type": "markdown",
   "id": "236d0750",
   "metadata": {
    "hidden": true
   },
   "source": [
    "- TODO(failing ^that): rerun with 1/R smoothed by savgol"
   ]
  },
  {
   "cell_type": "code",
   "execution_count": 556,
   "id": "6be30b2c",
   "metadata": {
    "ExecuteTime": {
     "end_time": "2022-09-19T20:43:42.404976Z",
     "start_time": "2022-09-19T20:43:42.351464Z"
    },
    "hidden": true
   },
   "outputs": [
    {
     "name": "stdout",
     "output_type": "stream",
     "text": [
      "m = 0.573007 +/- 0.020248\n",
      "M = 8.265974 +/- 0.952421 Hz/cm^2; B=39.888093 +/- 2.382492\n",
      "RMSE=15.2114 Hz/cm^2; R^2=0.8044; N=750\n",
      "m = nan +/- nan\n",
      "M = nan +/- nan Hz/cm^2; B=nan +/- nan\n",
      "RMSE=nan Hz/cm^2; R^2=nan; N=476\n"
     ]
    }
   ],
   "source": [
    "#powerlaw fits of dRdt versus invR in a range that looks reasonable \n",
    "xmin_fk=0.\n",
    "xmax_fk=100\n",
    "boo=(x_values_fk>=xmin_fk)&(x_values_fk<xmax_fk)\n",
    "dict_fit_fk = print_fit_power_law(x=x_values_fk[boo],y=y_values_fk[boo])\n",
    "# print(f\"(Fenton-Karma) msd powerlaw fit of msd from lagt={xmin_fk} to {xmax_fk}:\")\n",
    "# dict_fit_fk = print_fit_power_law(x=x_values_fk[boo],y=y_values_fk[boo])\n",
    "# D_fk = dict_fit_fk['M']/4\n",
    "# Delta_D_fk = dict_fit_fk['Delta_M']/4\n",
    "# print(f\"D = {D_fk:.4f} +/- {Delta_D_fk:.4f} cm^2/s\")\n",
    "\n",
    "xmin_lr=0.0\n",
    "xmax_lr=100.\n",
    "# dict_fit_lr = print_fit_power_law(x=x_values_lr,y=y_values_lr)\n",
    "boo=(x_values_lr>=xmin_lr)&(x_values_lr<xmax_lr)\n",
    "# print(f\"\\n(Luo-Rudy) msd powerlaw fit of msd from lagt={xmin_lr} to {xmax_lr}:\")\n",
    "dict_fit_lr = print_fit_power_law(x=x_values_lr[boo],y=y_values_lr[boo])\n",
    "# D_lr = dict_fit_lr['M']/4\n",
    "# Delta_D_lr = dict_fit_lr['Delta_M']/4\n",
    "# print(f\"D = {D_lr:.4f} +/- {Delta_D_lr:.4f} cm^2/s\")\n"
   ]
  },
  {
   "cell_type": "code",
   "execution_count": 551,
   "id": "4116fae2",
   "metadata": {
    "ExecuteTime": {
     "end_time": "2022-09-19T20:36:32.384655Z",
     "start_time": "2022-09-19T20:36:32.174820Z"
    },
    "hidden": true
   },
   "outputs": [
    {
     "data": {
      "text/plain": [
       "[<matplotlib.lines.Line2D at 0x7fd7b4d06580>]"
      ]
     },
     "execution_count": 551,
     "metadata": {},
     "output_type": "execute_result"
    },
    {
     "data": {
      "image/png": "[encoded data removed]",
      "text/plain": [
       "<Figure size 640x480 with 1 Axes>"
      ]
     },
     "metadata": {},
     "output_type": "display_data"
    }
   ],
   "source": [
    "plt.plot(x_values_lr,y_values_lr)"
   ]
  },
  {
   "cell_type": "code",
   "execution_count": null,
   "id": "e67d9de8",
   "metadata": {
    "hidden": true
   },
   "outputs": [],
   "source": []
  },
  {
   "cell_type": "code",
   "execution_count": 539,
   "id": "e7dd92ed",
   "metadata": {
    "ExecuteTime": {
     "end_time": "2022-09-19T20:30:23.580462Z",
     "start_time": "2022-09-19T20:30:23.328751Z"
    },
    "hidden": true
   },
   "outputs": [
    {
     "data": {
      "image/png": "[encoded data removed]",
      "text/plain": [
       "<Figure size 600x400 with 1 Axes>"
      ]
     },
     "metadata": {},
     "output_type": "display_data"
    }
   ],
   "source": [
    "#plot the values on a log-log plot along with an ideal brownian particle of equal diffusion coefficient#TODO: plot expected brownian values plus offset to show msd is parallel with brownian at some point...\n",
    "lw=2\n",
    "alpha=0.9\n",
    "fontsize=18\n",
    "use_loglog=True\n",
    "#check if msd=0 at lagt=0\n",
    "fig,ax=plt.subplots(figsize=(6,4))\n",
    "ax.plot(x_values_fk,y_values_fk,c='C0',lw=lw,alpha=alpha,label='Fenton-Karma')\n",
    "ax.fill_between(x_values_fk,y_values_fk-Delta_y_values_fk,y_values_fk+Delta_y_values_fk,color='C0',lw=lw,alpha=alpha/2)\n",
    "ax.plot(x_values_lr,y_values_lr,c='C1',lw=lw,alpha=alpha,label='Luo-Rudy')\n",
    "ax.fill_between(x_values_lr,y_values_lr-Delta_y_values_lr,y_values_lr+Delta_y_values_lr,color='C1',lw=lw,alpha=alpha/2)\n",
    "# ax.set_ylim((1.0178650359332904e-05, 0.14507306398356945))\n",
    "# #plot expected brownian values plus offset to show msd is parallel with brownian at some point...\n",
    "# xv1=np.linspace(0.01,0.5,10)\n",
    "# xv2=np.linspace(0.1,5,10)\n",
    "# ax.plot(xv1,dict_fit_lr['M']*xv1+0.,'k-',lw=2,alpha=0.7)\n",
    "# ax.plot(xv2,dict_fit_fk['M']*xv2+0.,'k-',lw=2,alpha=0.7)\n",
    "#format_plot\n",
    "format_plot(ax, xlabel=r'$1/R$ (1/cm)', ylabel=r'$dR/dt$ (cm/s)', fontsize=fontsize, use_loglog=False)\n",
    "ax.tick_params(top=True, right=True,direction='in',which='both')\n",
    "ax.legend(fontsize=fontsize-2,frameon=False)\n",
    "plt.show()\n",
    "# ax.get_ylim()"
   ]
  },
  {
   "cell_type": "code",
   "execution_count": null,
   "id": "4a80d4dc",
   "metadata": {
    "hidden": true
   },
   "outputs": [],
   "source": [
    "# #plot a few particle events\n",
    "# fontsize=14\n",
    "# fig,ax=plt.subplots(figsize=(7,4))\n",
    "\n",
    "# #TODO: recreate fig. 2C\n",
    "\n",
    "\n",
    "# format_plot(ax, xlabel=r'$1/R$ (1/cm)', ylabel=r'$dR/dt$ (cm/s)', fontsize=fontsize, use_loglog=False)\n",
    "# ax.legend(fontsize=fontsize-2)\n",
    "# plt.tight_layout()\n",
    "# plt.show()"
   ]
  },
  {
   "cell_type": "code",
   "execution_count": null,
   "id": "5e59bccd",
   "metadata": {
    "hidden": true
   },
   "outputs": [],
   "source": []
  },
  {
   "cell_type": "markdown",
   "id": "156d9c9e",
   "metadata": {
    "heading_collapsed": true
   },
   "source": [
    "## DONE: perform smoothing to compute dRdt. \n",
    "- DONE: scatter plot points\n",
    "- DONE: bootstrap the mean versus 1/R"
   ]
  },
  {
   "cell_type": "code",
   "execution_count": 496,
   "id": "50f0f324",
   "metadata": {
    "ExecuteTime": {
     "end_time": "2022-09-19T19:17:08.519501Z",
     "start_time": "2022-09-19T19:17:08.466512Z"
    },
    "hidden": true
   },
   "outputs": [
    {
     "data": {
      "text/plain": [
       "15"
      ]
     },
     "execution_count": 496,
     "metadata": {},
     "output_type": "execute_result"
    }
   ],
   "source": [
    "# DS=5/200 #cm per pixel\n",
    "tavg2=14 #ms\n",
    "# DT=1. #ms\n",
    "tavg2*=1e-3\n",
    "width=200. #px\n",
    "height=200. #px\n",
    "min_minlifetime=40. #ms\n",
    "navg2=int(tavg2/DT)\n",
    "fps=np.around (1/DT,  5)\n",
    "if not (navg2%2==1): #odd navg2 is required by savgol_filter\n",
    "    navg2+=1\n",
    "    tavg2=np.around(navg2*DT,7)\n",
    "navg2"
   ]
  },
  {
   "cell_type": "code",
   "execution_count": 497,
   "id": "a307ed4d",
   "metadata": {
    "ExecuteTime": {
     "end_time": "2022-09-19T19:17:11.534816Z",
     "start_time": "2022-09-19T19:17:09.923875Z"
    },
    "hidden": true
   },
   "outputs": [],
   "source": [
    "#sort by particle and then by time\n",
    "# df_ranges=df_ranges_creation\n",
    "df_ranges=df_ranges_annihiln\\\n",
    "    .sort_values(by=['trial_num','annihilation_index','tdeath'])#.reset_index()\n",
    "df_ranges.reset_index(inplace=True)\n",
    "# df_ranges.reset_index(inplace=True)\n",
    "# df_ranges.sort_values(by=['trial_num','annihilation_index','tdeath'],inplace=True)"
   ]
  },
  {
   "cell_type": "code",
   "execution_count": 499,
   "id": "a64bd928",
   "metadata": {
    "ExecuteTime": {
     "end_time": "2022-09-19T19:17:11.638514Z",
     "start_time": "2022-09-19T19:17:11.591732Z"
    },
    "hidden": true
   },
   "outputs": [],
   "source": [
    "min_minrange = 0.2 #cm\n",
    "min_minlifetime = 40. #ms"
   ]
  },
  {
   "cell_type": "code",
   "execution_count": 498,
   "id": "e58daacc",
   "metadata": {
    "ExecuteTime": {
     "end_time": "2022-09-19T19:17:11.588829Z",
     "start_time": "2022-09-19T19:17:11.537560Z"
    },
    "hidden": true
   },
   "outputs": [],
   "source": [
    "#compute the xy values\n",
    "savgol_kwargs0=dict(window_length=navg2,polyorder=3,\n",
    "    deriv=0,delta=1.0,axis=-1,mode='interp')\n",
    "#compute the xy velocities\n",
    "savgol_kwargs1=dict(window_length=navg2,polyorder=3,\n",
    "    deriv=1,delta=1.0,axis=-1,mode='interp')\n",
    "#compute the xy accelerations\n",
    "savgol_kwargs2=dict(window_length=navg2,polyorder=3,\n",
    "    deriv=2,delta=1.0,axis=-1,mode='interp')"
   ]
  },
  {
   "cell_type": "code",
   "execution_count": 500,
   "id": "50856d5b",
   "metadata": {
    "ExecuteTime": {
     "end_time": "2022-09-19T19:17:12.154066Z",
     "start_time": "2022-09-19T19:17:12.091604Z"
    },
    "hidden": true
   },
   "outputs": [
    {
     "data": {
      "text/plain": [
       "3.5196457563226446"
      ]
     },
     "execution_count": 500,
     "metadata": {},
     "output_type": "execute_result"
    }
   ],
   "source": [
    "df_ranges['R'].max() #cm"
   ]
  },
  {
   "cell_type": "code",
   "execution_count": 501,
   "id": "fdc9b97f",
   "metadata": {
    "ExecuteTime": {
     "end_time": "2022-09-19T19:17:18.664066Z",
     "start_time": "2022-09-19T19:17:12.683988Z"
    },
    "hidden": true
   },
   "outputs": [
    {
     "name": "stdout",
     "output_type": "stream",
     "text": [
      "identified 17088 annihilation events that look reasonable.\n"
     ]
    }
   ],
   "source": [
    "#preallocate memory\n",
    "df_ranges['xRinv']=np.nan\n",
    "df_ranges['xR']=np.nan\n",
    "df_ranges['vR']=np.nan\n",
    "df_ranges['aR']=np.nan\n",
    "#identify particles to be considered\n",
    "name_lst=[]\n",
    "groups=df_ranges.groupby(by=['trial_num','annihilation_index'])\n",
    "for n,g in groups:\n",
    "    minlifetime = g['tdeath'].max()\n",
    "    minrange = g['R'].min()\n",
    "#     if minrange>min_minrange:\n",
    "#         print(f\"Warning: minrange>min_minrange for {n}\")\n",
    "    if (minlifetime>=min_minlifetime)&(minrange<=min_minrange):\n",
    "        name_lst.append(n)\n",
    "        #gg = g#.sort_values(by='tdeath') # >> ~10% slowdown for fixing inordinal edge case solved by .sort_values(by=['trial_num','annihilation_index','tdeath'])#.reset_index()\n",
    "print(f\"identified {len(name_lst)} annihilation events that look reasonable.\")\n",
    "\n"
   ]
  },
  {
   "cell_type": "code",
   "execution_count": 504,
   "id": "408a5549",
   "metadata": {
    "ExecuteTime": {
     "end_time": "2022-09-19T19:21:10.617353Z",
     "start_time": "2022-09-19T19:21:07.074503Z"
    },
    "hidden": true
   },
   "outputs": [
    {
     "name": "stdout",
     "output_type": "stream",
     "text": [
      "computing radial velocities...\n"
     ]
    }
   ],
   "source": [
    "print(f\"computing radial velocities...\")\n",
    "# for (trial_num,annihilation_index) in name_lst:\n",
    "for (trial_num,annihilation_index) in np.array(name_lst)[:200]:\n",
    "    boo = df_ranges['trial_num'] ==trial_num\n",
    "    boo&= df_ranges['annihilation_index'] ==annihilation_index\n",
    "    #compute smoothed derivatives\n",
    "    R_values = df_ranges[boo]['R'] #cm\n",
    "    df_ranges.loc[boo,'xRinv'] = savgol_filter(1/R_values,**savgol_kwargs0) #cm\n",
    "    df_ranges.loc[boo,'xR'] = savgol_filter(R_values,**savgol_kwargs0) #cm\n",
    "    df_ranges.loc[boo,'vR'] = savgol_filter(R_values,**savgol_kwargs1)*fps #cm per s\n",
    "    df_ranges.loc[boo,'aR'] = savgol_filter(R_values,**savgol_kwargs2)*fps**2 #cm per s^2"
   ]
  },
  {
   "cell_type": "code",
   "execution_count": 505,
   "id": "2ab6f030",
   "metadata": {
    "ExecuteTime": {
     "end_time": "2022-09-19T19:21:11.872771Z",
     "start_time": "2022-09-19T19:21:11.467640Z"
    },
    "hidden": true
   },
   "outputs": [],
   "source": [
    "#heretim\n",
    "#scatter plot dRdt versus 1/R\n",
    "boo_null = df_ranges['xR'].isnull()\n",
    "df_dRdt = df_ranges[~boo_null].copy()\n",
    "# df_dRdt['invR'] = 1/df_dRdt['xR'].values\n",
    "df_dRdt['invR'] = 1/df_dRdt['R'].values\n",
    "df_dRdt['dRdt'] = df_dRdt['vR'].values #orient axes\n",
    "# df_dRdt['dRdt'] = 1/df_dRdt['aR'].values\n",
    "# Rinv_values = 1/df_dRdt['xR'].values\n",
    "# dRdt_values = df_dRdt['vR'].values\n",
    "# dRdt2_values = df_dRdt['aR'].values"
   ]
  },
  {
   "cell_type": "code",
   "execution_count": 506,
   "id": "43c1cc02",
   "metadata": {
    "ExecuteTime": {
     "end_time": "2022-09-19T19:21:38.482362Z",
     "start_time": "2022-09-19T19:21:11.875438Z"
    },
    "hidden": true
   },
   "outputs": [
    {
     "data": {
      "image/png": "[encoded data removed]",
      "text/plain": [
       "<Figure size 700x400 with 1 Axes>"
      ]
     },
     "metadata": {},
     "output_type": "display_data"
    }
   ],
   "source": [
    "xlim=[0,3]\n",
    "ylim=[-75,50]\n",
    "max_tdeath=40. #ms\n",
    "alpha=0.1\n",
    "fig,ax=plt.subplots(figsize=(7,4))\n",
    "bootdeath=df_dRdt['tdeath']>=max_tdeath\n",
    "df_dRdt[~bootdeath].plot.scatter(x='invR',y='dRdt',alpha=alpha,s=30,c='r',ax=ax,label=f\"t'>{max_tdeath} ms\")\n",
    "df_dRdt[bootdeath].plot.scatter(x='invR',y='dRdt',alpha=alpha,s=30,c='k',ax=ax,label=f\"t'≤{max_tdeath} ms\")\n",
    "format_plot(ax=ax, xlabel=r'$1/R$ (1/cm)', ylabel=r'$dR/dt$ (cm/s)', fontsize=fontsize, use_loglog=False)\n",
    "ax.legend(fontsize=fontsize-2)\n",
    "plt.tight_layout()\n",
    "plt.show()"
   ]
  },
  {
   "cell_type": "code",
   "execution_count": 492,
   "id": "9d070c14",
   "metadata": {
    "ExecuteTime": {
     "end_time": "2022-09-19T19:09:07.826340Z",
     "start_time": "2022-09-19T19:09:07.765509Z"
    },
    "hidden": true
   },
   "outputs": [],
   "source": [
    "# df_dRdt.plot.scatter(x='R',y='vR',alpha=0.4,s=30,c='k')"
   ]
  },
  {
   "cell_type": "code",
   "execution_count": null,
   "id": "5c6f0a42",
   "metadata": {
    "hidden": true
   },
   "outputs": [],
   "source": []
  },
  {
   "cell_type": "code",
   "execution_count": null,
   "id": "96ccf679",
   "metadata": {
    "hidden": true
   },
   "outputs": [],
   "source": []
  },
  {
   "cell_type": "code",
   "execution_count": 450,
   "id": "16db4e35",
   "metadata": {
    "ExecuteTime": {
     "end_time": "2022-09-19T18:53:41.738554Z",
     "start_time": "2022-09-19T18:53:41.488285Z"
    },
    "hidden": true
   },
   "outputs": [
    {
     "data": {
      "text/plain": [
       "<AxesSubplot:xlabel='invR', ylabel='vR'>"
      ]
     },
     "execution_count": 450,
     "metadata": {},
     "output_type": "execute_result"
    },
    {
     "data": {
      "image/png": "[encoded data removed]",
      "text/plain": [
       "<Figure size 640x480 with 1 Axes>"
      ]
     },
     "metadata": {},
     "output_type": "display_data"
    }
   ],
   "source": [
    "groups=df_dRdt.groupby(by=['trial_num','annihilation_index'])\n",
    "groups.median().plot.scatter(x='invR',y='vR')"
   ]
  },
  {
   "cell_type": "code",
   "execution_count": null,
   "id": "a98e8cc8",
   "metadata": {
    "ExecuteTime": {
     "end_time": "2022-09-19T19:20:44.078395Z",
     "start_time": "2022-09-19T19:20:44.078360Z"
    },
    "hidden": true
   },
   "outputs": [],
   "source": [
    "# for n in [name_lst[5]]:\n",
    "#     g = groups.get_group(n)\n",
    "# g"
   ]
  },
  {
   "cell_type": "code",
   "execution_count": 393,
   "id": "740fb022",
   "metadata": {
    "ExecuteTime": {
     "end_time": "2022-09-19T18:34:12.830573Z",
     "start_time": "2022-09-19T18:34:12.756649Z"
    },
    "hidden": true
   },
   "outputs": [
    {
     "data": {
      "text/plain": [
       "True"
      ]
     },
     "execution_count": 393,
     "metadata": {},
     "output_type": "execute_result"
    }
   ],
   "source": [
    "# df_ranges['aR'].isnull().all()"
   ]
  },
  {
   "cell_type": "code",
   "execution_count": 392,
   "id": "fc417401",
   "metadata": {
    "ExecuteTime": {
     "end_time": "2022-09-19T18:34:07.976295Z",
     "start_time": "2022-09-19T18:34:07.929012Z"
    },
    "hidden": true
   },
   "outputs": [],
   "source": [
    "# df_ranges.loc[gg.index.values]"
   ]
  },
  {
   "cell_type": "code",
   "execution_count": 451,
   "id": "e3e89140",
   "metadata": {
    "ExecuteTime": {
     "end_time": "2022-09-19T18:55:56.903781Z",
     "start_time": "2022-09-19T18:55:56.845742Z"
    },
    "hidden": true
   },
   "outputs": [],
   "source": [
    "# #compute smoothed derivatives\n",
    "# # dd = gg #pd.DataFrame(dict_traj)\n",
    "# df_ranges.iloc[gg.index]['xt'] = savgol_filter(gg['tdeath'],**savgol_kwargs0) #ms\n",
    "# df_ranges.iloc[gg.index]['xR'] = savgol_filter(gg['R'],**savgol_kwargs0) #cm\n",
    "# df_ranges.iloc[gg.index]['vR'] = savgol_filter(gg['R'],**savgol_kwargs1)*fps #cm per s\n",
    "# df_ranges.iloc[gg.index]['aR'] = savgol_filter(gg['R'],**savgol_kwargs2)*fps**2 #cm per s^2\n",
    "# # #test that smoothing has no effect on time\n",
    "# # assert np.isclose(dd['xt'].values-dd['tdeath'].values,0.).all()"
   ]
  },
  {
   "cell_type": "code",
   "execution_count": 452,
   "id": "177bbf2b",
   "metadata": {
    "ExecuteTime": {
     "end_time": "2022-09-19T18:55:58.929868Z",
     "start_time": "2022-09-19T18:55:58.879506Z"
    },
    "hidden": true
   },
   "outputs": [],
   "source": [
    "# df_ranges.loc[gg.index]"
   ]
  },
  {
   "cell_type": "code",
   "execution_count": 369,
   "id": "2a561ddd",
   "metadata": {
    "ExecuteTime": {
     "end_time": "2022-09-19T18:21:04.454733Z",
     "start_time": "2022-09-19T18:21:04.376187Z"
    },
    "hidden": true
   },
   "outputs": [],
   "source": [
    "# #compute smoothed derivatives\n",
    "# dd = gg #pd.DataFrame(dict_traj)\n",
    "# dd['xt'] = savgol_filter(dd['tdeath'],**savgol_kwargs0) #ms\n",
    "# dd['xR'] = savgol_filter(dd['R'],**savgol_kwargs0) #cm\n",
    "# dd['vR'] = savgol_filter(dd['R'],**savgol_kwargs1)*fps #cm per s\n",
    "# dd['aR'] = savgol_filter(dd['R'],**savgol_kwargs2)*fps**2 #cm per s^2\n",
    "# #test that smoothing has no effect on time\n",
    "# assert np.isclose(dd['xt'].values-dd['tdeath'].values,0.).all()"
   ]
  },
  {
   "cell_type": "code",
   "execution_count": null,
   "id": "bc192890",
   "metadata": {
    "hidden": true
   },
   "outputs": [],
   "source": []
  },
  {
   "cell_type": "code",
   "execution_count": null,
   "id": "d9829367",
   "metadata": {
    "hidden": true
   },
   "outputs": [],
   "source": []
  },
  {
   "cell_type": "code",
   "execution_count": null,
   "id": "17bdd9b0",
   "metadata": {
    "hidden": true
   },
   "outputs": [],
   "source": []
  },
  {
   "cell_type": "code",
   "execution_count": null,
   "id": "834f5b85",
   "metadata": {
    "hidden": true
   },
   "outputs": [],
   "source": []
  },
  {
   "cell_type": "code",
   "execution_count": 300,
   "id": "a1370f21",
   "metadata": {
    "ExecuteTime": {
     "end_time": "2022-09-19T17:45:13.933903Z",
     "start_time": "2022-09-19T17:45:13.886702Z"
    },
    "hidden": true
   },
   "outputs": [],
   "source": [
    "# #estimated run time ~ 20 minutes for 20 trials\n",
    "# #recall how many particles were considered and scale accordingly\n",
    "# range_dir=\"/home/timothytyree/Documents/GitHub/care/notebooks/Data/from_wjr/positions_fk/200x200/tippos_per_c_001_annihilation_range_timeseries.pkl\"\n",
    "# # range_dir=\"/home/timothytyree/Documents/GitHub/care/notebooks/Data/from_wjr/positions_lr/200x200/tippos_per_001_annihilation_range_timeseries.pkl\"\n",
    "# data_lst_all = load_from_pickle(range_dir)\n",
    "# max_num_trials=20\n",
    "# data_lst=[]\n",
    "# for i in range(max_num_trials):\n",
    "#     data_lst.append(data_lst_all[i])\n",
    "# # # Initial call to print 0% progress\n",
    "# num_steps=len(data_lst)\n",
    "# printProgressBar(0, num_steps, prefix = 'Progress:', suffix = 'Complete', length = 50)\n",
    "# trial_num_lst=[]\n",
    "# annihilation_count_lst=[]\n",
    "# traj_lst=[]\n",
    "# for step,data in enumerate(data_lst):\n",
    "#     pass"
   ]
  },
  {
   "cell_type": "code",
   "execution_count": null,
   "id": "1ae1c86d",
   "metadata": {
    "hidden": true
   },
   "outputs": [],
   "source": [
    "\n",
    "# trial_num=np.max(data['trial_num'])\n",
    "# trial_num_lst.append(trial_num)\n",
    "# annihilation_count_lst.append(np.max(data['annihilation_index']))\n",
    "\n",
    "# d = pd.DataFrame(data)#.sort_values(by='t')\n",
    "# #extract trajectories of particle self\n",
    "# for annihilation_index,g in d.groupby('annihilation_index'):\n",
    "#     gg = g.sort_values('tdeath')\n",
    "#     t_values=gg['tdeath']\n",
    "#     x_values,y_values = unwrap_and_center_xy_values(gg['x'].values,gg['y'].values,width,height)#,**kwargs)\n",
    "#     minlifetime=np.max(t_values)\n",
    "#     if minlifetime>=min_minlifetime:\n",
    "#         dict_traj=dict(trial_num=trial_num,\n",
    "#                        particle=annihilation_index,\n",
    "#                        t=t_values,\n",
    "#                        x=x_values,\n",
    "#                        y=y_values)\n",
    "#         #compute smoothed derivatives\n",
    "#         dd = pd.DataFrame(dict_traj)\n",
    "#         dd['vx'] = savgol_filter(dd['x'],**savgol_kwargs1)/DT #pixels per ms\n",
    "#         dd['vy'] = savgol_filter(dd['y'],**savgol_kwargs1)/DT #pixels per ms\n",
    "#         dd['ax'] = savgol_filter(dd['x'],**savgol_kwargs2)/(DT**2) #pixels per ms^2\n",
    "#         dd['ay'] = savgol_filter(dd['y'],**savgol_kwargs2)/(DT**2) #pixels per ms^2\n",
    "#         #compute instantaneous period\n",
    "#         dd['T']=2*np.pi*(dd['vx']**2+dd['vy']**2)/np.abs(dd['vx']*dd['ay'] - dd['vy']*dd['ax'])\n",
    "#         dd['sq_vel']=dd['vx']**2+dd['vy']**2\n",
    "#         T_values=dd['T'].values        \n",
    "#         #record\n",
    "#         traj_lst.append(dd[['trial_num','particle','t','T','sq_vel']].copy())\n",
    "# printProgressBar(step + 1, num_steps, prefix = 'Progress:', suffix = 'Complete', length = 50)\n",
    "# df_inst_period_fk = pd.concat(traj_lst)\n",
    "# df_count_fk = pd.DataFrame(dict(trial_num=trial_num_lst,annihilation_count=annihilation_count_lst))\n",
    "# #save df_inst_period_fk,lr as .csv\n",
    "# inst_period_fk_dir=\"/home/timothytyree/Documents/GitHub/care/notebooks/Data/from_wjr/positions_fk/200x200/tippos_per_c_001_annihilation_inst_period_timeseries.csv\"\n",
    "# df_inst_period_fk.to_csv(inst_period_fk_dir,index=False)"
   ]
  },
  {
   "cell_type": "code",
   "execution_count": null,
   "id": "ca33a94f",
   "metadata": {
    "hidden": true
   },
   "outputs": [],
   "source": []
  },
  {
   "cell_type": "code",
   "execution_count": null,
   "id": "540e5e6a",
   "metadata": {
    "hidden": true
   },
   "outputs": [],
   "source": []
  }
 ],
 "metadata": {
  "hide_input": false,
  "kernelspec": {
   "display_name": "Python 3 (ipykernel)",
   "language": "python",
   "name": "python3"
  },
  "language_info": {
   "codemirror_mode": {
    "name": "ipython",
    "version": 3
   },
   "file_extension": ".py",
   "mimetype": "text/x-python",
   "name": "python",
   "nbconvert_exporter": "python",
   "pygments_lexer": "ipython3",
   "version": "3.9.5"
  },
  "latex_envs": {
   "LaTeX_envs_menu_present": true,
   "autoclose": true,
   "autocomplete": false,
   "bibliofile": "biblio.bib",
   "cite_by": "apalike",
   "current_citInitial": 1,
   "eqLabelWithNumbers": false,
   "eqNumInitial": 1,
   "hotkeys": {
    "equation": "Ctrl-E",
    "itemize": "Ctrl-I"
   },
   "labels_anchors": false,
   "latex_user_defs": false,
   "report_style_numbering": false,
   "user_envs_cfg": false
  },
  "nbTranslate": {
   "displayLangs": [
    "*"
   ],
   "hotkey": "alt-t",
   "langInMainMenu": true,
   "sourceLang": "en",
   "targetLang": "fr",
   "useGoogleTranslate": true
  },
  "toc": {
   "base_numbering": 1,
   "nav_menu": {},
   "number_sections": true,
   "sideBar": true,
   "skip_h1_title": false,
   "title_cell": "Table of Contents",
   "title_sidebar": "Contents",
   "toc_cell": false,
   "toc_position": {},
   "toc_section_display": true,
   "toc_window_display": false
  }
 },
 "nbformat": 4,
 "nbformat_minor": 5
}
