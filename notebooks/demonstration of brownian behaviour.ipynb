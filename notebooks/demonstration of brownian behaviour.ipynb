{
 "cells": [
  {
   "cell_type": "markdown",
   "id": "c3a73b5b",
   "metadata": {},
   "source": [
    "# demonstration of brownian behaviour\n",
    "Tim Tyree<br>\n",
    "9.18.2022"
   ]
  },
  {
   "cell_type": "code",
   "execution_count": 1,
   "id": "5ed16c97",
   "metadata": {
    "ExecuteTime": {
     "end_time": "2022-10-14T23:44:09.026336Z",
     "start_time": "2022-10-14T23:44:05.614057Z"
    }
   },
   "outputs": [
    {
     "name": "stdout",
     "output_type": "stream",
     "text": [
      "Automatic calling is: Smart\n"
     ]
    },
    {
     "name": "stderr",
     "output_type": "stream",
     "text": [
      "/Users/timothytyree/opt/miniconda3/envs/pyenv/lib/python3.9/site-packages/statsmodels/compat/pandas.py:61: FutureWarning: pandas.Int64Index is deprecated and will be removed from pandas in a future version. Use pandas.Index with the appropriate dtype instead.\n",
      "  from pandas import Int64Index as NumericIndex\n"
     ]
    }
   ],
   "source": [
    "from lib.my_initialization import *\n",
    "from lib import *\n",
    "import shutil\n",
    "%autocall 1\n",
    "%load_ext autoreload\n",
    "%autoreload 2"
   ]
  },
  {
   "cell_type": "code",
   "execution_count": 2,
   "id": "9aedb8b3",
   "metadata": {
    "ExecuteTime": {
     "end_time": "2022-10-14T23:44:09.069114Z",
     "start_time": "2022-10-14T23:44:09.028454Z"
    }
   },
   "outputs": [],
   "source": [
    "#reset matplotlib\n",
    "import matplotlib as mpl\n",
    "# import seaborn as sns\n",
    "# sns.reset_orig()\n",
    "mpl.rc_file_defaults()"
   ]
  },
  {
   "cell_type": "markdown",
   "id": "5deb14db",
   "metadata": {},
   "source": [
    "# define module"
   ]
  },
  {
   "cell_type": "code",
   "execution_count": 3,
   "id": "7bf312cc",
   "metadata": {
    "ExecuteTime": {
     "end_time": "2022-10-14T23:44:09.128460Z",
     "start_time": "2022-10-14T23:44:09.071947Z"
    }
   },
   "outputs": [],
   "source": [
    "def comp_time_averaged_msd(df_ranges,DS,DT,\n",
    "                min_lifetime=200., #ms   # 100. #ms\n",
    "                crop_start_by=40., #ms\n",
    "                max_lagtime=1e5,   #ms\n",
    "                num_bootstrap_samples=100, # 1000,\n",
    "                detail=False, # True # True performs expensive computation to determine an effective number of observations\n",
    "                bins='auto',\n",
    "                min_numobs=None,\n",
    "                npartitions=None,\n",
    "                printing=True,**kwargs):\n",
    "    \"\"\"df_ranges has fields ['x','y','tdeath','trial_num','annihilation_index']. one trajectory is uniquely identified by fields ['trial_num','annihilation_index'].\n",
    "    \n",
    "    Example Usage:\n",
    "df_msd_creation,df_bootstrapped_creation = comp_time_averaged_msd(\n",
    "                df_ranges=df_ranges_creation,\n",
    "                DS=DS,\n",
    "                DT=DT,\n",
    "                min_lifetime=200., #ms   # 100. #ms\n",
    "                crop_start_by=40., #ms\n",
    "                max_lagtime=1e5,   #ms\n",
    "                num_bootstrap_samples=100, # 1000,\n",
    "                npartitions=None,\n",
    "                detail=False, # True # True performs expensive computation to determine an effective number of observations\n",
    "                bins='auto')  # ,min_numobs=None,npartitions=None,printing=True,**kwargs)\n",
    "    \"\"\"\n",
    "    groups=df_ranges.groupby(by=['trial_num','annihilation_index'])\n",
    "    #identify the long-lived particles\n",
    "    boo_ll = groups['tdeath'].max()>min_lifetime\n",
    "    group_names_selected = boo_ll[boo_ll].index.values\n",
    "    df_msd_lst=[]\n",
    "    num_steps=group_names_selected.shape[0]\n",
    "    if printing:\n",
    "        print(f\"computing time averaged msd for {num_steps} spiral tip trajectories...\")\n",
    "    assert (num_steps>0)\n",
    "    for step,(trial_num,pid) in enumerate(group_names_selected):\n",
    "        g = groups.get_group((trial_num,pid)).sort_values(by='tdeath') #tdeath is used for both df_ranges.\n",
    "        x_values = g['x'].values\n",
    "        y_values = g['y'].values\n",
    "        t_values = g['tdeath'].values\n",
    "        #unwrap pbc for given trajectory\n",
    "        xv,yv = unwrap_and_center_xy_values(x_values,y_values,width,height)#,jump_thresh=None,**kwargs)\n",
    "        boo=t_values>crop_start_by\n",
    "        frame_values = np.arange(np.sum(boo))\n",
    "        traj=pd.DataFrame({'x':xv[boo],'y':yv[boo],'frame':frame_values})#,'t':t_values[boo]})\n",
    "        #compute msd for the first trajectory\n",
    "        df_msd = trackpy.msd(\n",
    "            traj,\n",
    "            mpp=DS,\n",
    "            fps=fps,\n",
    "            max_lagtime=max_lagtime,\n",
    "            detail=detail)\n",
    "        df_msd.reset_index(drop=True)\n",
    "        df_msd['trial_num'] = trial_num\n",
    "        df_msd['annihilation_index']  = pid\n",
    "        #record\n",
    "        df_msd_lst.append(df_msd)\n",
    "        #printProgressBar\n",
    "        if printing:\n",
    "            printProgressBar(step + 1, num_steps, prefix = 'Progress:', suffix = 'Complete', length = 50)\n",
    "    \n",
    "    df_msd = pd.concat(df_msd_lst)\n",
    "    if printing:\n",
    "        print(f\"\\ncomputing bootstrapped mean over {len(df_msd_lst)} spiral tip trajectories...\")\n",
    "    df_bootstrapped=bin_and_bootstrap_xy_values_parallel(\n",
    "                                   x=df_msd['lagt'].values,\n",
    "                                   y=df_msd['msd'].values,\n",
    "                                   xlabel='lagt',\n",
    "                                   ylabel='msd',\n",
    "                                   bins=bins,\n",
    "                                   min_numobs=min_numobs,\n",
    "                                   num_bootstrap_samples=num_bootstrap_samples, # 1000,\n",
    "                                   npartitions=npartitions,\n",
    "                                   use_test=False,test_val=0,printing=False)#,**kwargs)\n",
    "    return df_msd,df_bootstrapped"
   ]
  },
  {
   "cell_type": "code",
   "execution_count": 4,
   "id": "409648bb",
   "metadata": {
    "ExecuteTime": {
     "end_time": "2022-10-14T23:44:09.183967Z",
     "start_time": "2022-10-14T23:44:09.131640Z"
    }
   },
   "outputs": [],
   "source": [
    "def comp_radial_velocities(df_ranges,DT,\n",
    "            tavg2=14, #ms\n",
    "            min_minlifetime=40., #ms 200.,# #100.\n",
    "            min_minrange = 0.2, #cm\n",
    "            max_tdeath=40., #ms\n",
    "            num_bootstrap_samples=100, # 1000,\n",
    "            bins='auto',\n",
    "            min_numobs=None,\n",
    "            npartitions=None,\n",
    "            printing=True,**kwargs):\n",
    "    \"\"\"\n",
    "    Example Usage:\n",
    "df_dRdt,df_bootstrapped = comp_radial_velocities(df_ranges,DT,\n",
    "            tavg2=14, #ms\n",
    "            min_minlifetime=40., #ms 200.,# #100.\n",
    "            min_minrange = 0.2, #cm\n",
    "            max_tdeath=40., #ms\n",
    "            num_bootstrap_samples=100, # 1000,\n",
    "            bins='auto',\n",
    "            min_numobs=None,\n",
    "            npartitions=None,\n",
    "            printing=True)#,**kwargs)\n",
    "    \"\"\"\n",
    "    tavg2*=1e-3 #s                 \n",
    "    navg2=int(tavg2/DT)\n",
    "    fps=np.around (1/DT,  5)\n",
    "    if not (navg2%2==1): #odd navg2 is required by savgol_filter\n",
    "        navg2+=1\n",
    "        tavg2=np.around(navg2*DT,7)\n",
    "\n",
    "    #compute the xy values\n",
    "    savgol_kwargs0=dict(window_length=navg2,polyorder=3,\n",
    "        deriv=0,delta=1.0,axis=-1,mode='interp')\n",
    "    #compute the xy velocities\n",
    "    savgol_kwargs1=dict(window_length=navg2,polyorder=3,\n",
    "        deriv=1,delta=1.0,axis=-1,mode='interp')\n",
    "    #compute the xy accelerations\n",
    "    savgol_kwargs2=dict(window_length=navg2,polyorder=3,\n",
    "        deriv=2,delta=1.0,axis=-1,mode='interp')\n",
    "\n",
    "    #preallocate memory\n",
    "#     df_ranges['xRinv']=np.nan\n",
    "    df_ranges['xR']=np.nan\n",
    "    df_ranges['vR']=np.nan\n",
    "#     df_ranges['aR']=np.nan\n",
    "    #identify particles to be considered\n",
    "    name_lst=[]\n",
    "    groups=df_ranges.groupby(by=['trial_num','annihilation_index'])\n",
    "    for n,g in groups:\n",
    "        minlifetime = g['tdeath'].max()\n",
    "        minrange = g['R'].min()\n",
    "        if (minlifetime>=min_minlifetime)&(minrange<=min_minrange):\n",
    "            name_lst.append(n)\n",
    "    if printing:\n",
    "        print(f\"identified {len(name_lst)} annihilation events that look reasonable.\")\n",
    "    num_steps = len(name_lst)\n",
    "\n",
    "    if printing:\n",
    "        print(f\"computing radial velocities...\")\n",
    "    for step,(trial_num,annihilation_index) in enumerate(name_lst):\n",
    "        boo = df_ranges['trial_num'] ==trial_num\n",
    "        boo&= df_ranges['annihilation_index'] ==annihilation_index\n",
    "        #compute smoothed derivatives\n",
    "        R_values = df_ranges[boo]['R'] #cm\n",
    "#         df_ranges.loc[boo,'xRinv'] = savgol_filter(1/R_values,**savgol_kwargs0) #cm\n",
    "        df_ranges.loc[boo,'xR'] = savgol_filter(R_values,**savgol_kwargs0) #cm\n",
    "        df_ranges.loc[boo,'vR'] = savgol_filter(R_values,**savgol_kwargs1)*fps #cm per s\n",
    "#         df_ranges.loc[boo,'aR'] = savgol_filter(R_values,**savgol_kwargs2)*fps**2 #cm per s^2\n",
    "        #printProgressBar\n",
    "        if printing:\n",
    "            printProgressBar(step + 1, num_steps, prefix = 'Progress:', suffix = 'Complete', length = 50)\n",
    "\n",
    "    #scatter of dRdt versus 1/R\n",
    "    boo_null = df_ranges['xR'].isnull()\n",
    "    bootdeath=df_ranges['tdeath']>=max_tdeath\n",
    "    df_dRdt = df_ranges[(~boo_null)&(~bootdeath)].copy()\n",
    "    df_dRdt['invR'] = 1/df_dRdt['R'].values\n",
    "    df_dRdt['dRdt'] = -df_dRdt['vR'].values #orient axes\n",
    "    \n",
    "    if printing:\n",
    "        print(f\"\\ncomputing bootstrapped mean over {num_steps} spiral tip trajectories...\")\n",
    "    df_bootstrapped=bin_and_bootstrap_xy_values_parallel(\n",
    "                                   x=df_dRdt['xR'].values,\n",
    "                                   y=df_dRdt['dRdt'].values,\n",
    "                                   xlabel='R',\n",
    "                                   ylabel='dRdt',\n",
    "                                   bins=bins,\n",
    "                                   min_numobs=min_numobs,\n",
    "                                   num_bootstrap_samples=num_bootstrap_samples, # 1000,\n",
    "                                   npartitions=npartitions,\n",
    "                                   use_test=False,test_val=0,printing=False)#,**kwargs)\n",
    "    return df_dRdt,df_bootstrapped"
   ]
  },
  {
   "cell_type": "code",
   "execution_count": null,
   "id": "98d377c5",
   "metadata": {},
   "outputs": [],
   "source": []
  },
  {
   "cell_type": "markdown",
   "id": "1a55d12f",
   "metadata": {},
   "source": [
    "# compute the mean squared distance using time averaging on each trajectory after unwrapping periodic boundary conditions"
   ]
  },
  {
   "cell_type": "code",
   "execution_count": 5,
   "id": "a9c12c8a",
   "metadata": {
    "ExecuteTime": {
     "end_time": "2022-10-14T23:44:09.645667Z",
     "start_time": "2022-10-14T23:44:09.185440Z"
    }
   },
   "outputs": [],
   "source": [
    "#FK model trajectories\n",
    "#per 005\n",
    "annihil_range_dir_fk = \"/Users/timothytyree/Documents/GitHub/care/notebooks/Data/from_wjr/positions_fk/200x200/tippos_per_c_005_annihilation_range_timeseries.pkl\"\n",
    "creation_range_dir_fk = \"/Users/timothytyree/Documents/GitHub/care/notebooks/Data/from_wjr/positions_fk/200x200/tippos_per_c_005_creation_range_timeseries.pkl\" # 79 trials\n",
    "DT = 5e-3 # s / frame\n",
    "#per 001\n",
    "# annihil_range_dir_fk = \"/Users/timothytyree/Documents/GitHub/care/notebooks/Data/from_wjr/positions_fk/200x200/tippos_per_c_001_annihilation_range_timeseries.pkl\"\n",
    "# creation_range_dir_fk = \"/Users/timothytyree/Documents/GitHub/care/notebooks/Data/from_wjr/positions_fk/200x200/tippos_per_c_001_creation_range_timeseries.pkl\"\n",
    "# DT = 1e-3 # s / frame\n",
    "DS = 0.0025 # cm / px\n",
    "assert os.path.exists(annihil_range_dir_fk)\n",
    "assert os.path.exists(creation_range_dir_fk)\n",
    "data_annihil=load_from_pickle(annihil_range_dir_fk)\n",
    "data_creation=load_from_pickle(creation_range_dir_fk)"
   ]
  },
  {
   "cell_type": "code",
   "execution_count": 6,
   "id": "cab4c740",
   "metadata": {
    "ExecuteTime": {
     "end_time": "2022-10-14T23:44:09.702009Z",
     "start_time": "2022-10-14T23:44:09.647600Z"
    }
   },
   "outputs": [],
   "source": [
    "fps=np.around (1/DT,  5)\n",
    "width=200\n",
    "height=200"
   ]
  },
  {
   "cell_type": "code",
   "execution_count": 7,
   "id": "5d680529",
   "metadata": {
    "ExecuteTime": {
     "end_time": "2022-10-14T23:44:10.642567Z",
     "start_time": "2022-10-14T23:44:09.868576Z"
    }
   },
   "outputs": [],
   "source": [
    "df_ranges_annihiln = pd.concat(data_annihil)\n",
    "df_ranges_creation = pd.concat(data_creation)"
   ]
  },
  {
   "cell_type": "code",
   "execution_count": 8,
   "id": "5edabac7",
   "metadata": {
    "ExecuteTime": {
     "end_time": "2022-10-14T23:44:10.696205Z",
     "start_time": "2022-10-14T23:44:10.644808Z"
    }
   },
   "outputs": [
    {
     "name": "stdout",
     "output_type": "stream",
     "text": [
      "num. trials in cached annihilation ranges: 79\n",
      "num. trials in cached creation ranges: 79\n"
     ]
    }
   ],
   "source": [
    "print(f\"num. trials in cached annihilation ranges: {df_ranges_annihiln['trial_num'].max()}\")\n",
    "print(f\"num. trials in cached creation ranges: {df_ranges_creation['trial_num'].max()}\")"
   ]
  },
  {
   "cell_type": "code",
   "execution_count": 9,
   "id": "ba68d361",
   "metadata": {
    "ExecuteTime": {
     "end_time": "2022-10-14T23:44:11.152357Z",
     "start_time": "2022-10-14T23:44:11.112938Z"
    }
   },
   "outputs": [],
   "source": [
    "#DONE: compute the minimum lifetimes of particles\n",
    "#DONE: plot the minimum lifetimes of particles"
   ]
  },
  {
   "cell_type": "code",
   "execution_count": null,
   "id": "ffe9e283",
   "metadata": {},
   "outputs": [],
   "source": []
  },
  {
   "cell_type": "code",
   "execution_count": null,
   "id": "85baf394",
   "metadata": {},
   "outputs": [],
   "source": []
  },
  {
   "cell_type": "code",
   "execution_count": 10,
   "id": "976daee7",
   "metadata": {
    "ExecuteTime": {
     "end_time": "2022-10-14T23:44:51.047862Z",
     "start_time": "2022-10-14T23:44:12.507593Z"
    }
   },
   "outputs": [
    {
     "name": "stdout",
     "output_type": "stream",
     "text": [
      "computing time averaged msd for 5146 spiral tip trajectories...\n",
      "Progress: |██------------------------------------------------| 4.9% Complete\r"
     ]
    },
    {
     "name": "stderr",
     "output_type": "stream",
     "text": [
      "Exception ignored in: <function WeakValueDictionary.__init__.<locals>.remove at 0x7fe07a297d30>\n",
      "Traceback (most recent call last):\n",
      "  File \"/Users/timothytyree/opt/miniconda3/envs/pyenv/lib/python3.9/weakref.py\", line 106, in remove\n",
      "    def remove(wr, selfref=ref(self), _atomic_removal=_remove_dead_weakref):\n",
      "KeyboardInterrupt: \n"
     ]
    },
    {
     "name": "stdout",
     "output_type": "stream",
     "text": [
      "Progress: |██------------------------------------------------| 5.7% Complete\r"
     ]
    },
    {
     "ename": "KeyboardInterrupt",
     "evalue": "",
     "output_type": "error",
     "traceback": [
      "\u001b[0;31m---------------------------------------------------------------------------\u001b[0m",
      "\u001b[0;31mKeyboardInterrupt\u001b[0m                         Traceback (most recent call last)",
      "\u001b[0;32m/var/folders/0h/p4cbb7yx22jbxm0qb47vhfbh0000gn/T/ipykernel_11380/3022962183.py\u001b[0m in \u001b[0;36m<module>\u001b[0;34m\u001b[0m\n\u001b[1;32m      1\u001b[0m \u001b[0;31m#compute msd for both creation and annihilation\u001b[0m\u001b[0;34m\u001b[0m\u001b[0;34m\u001b[0m\u001b[0;34m\u001b[0m\u001b[0m\n\u001b[0;32m----> 2\u001b[0;31m df_msd_creation,df_bootstrapped_creation = comp_time_averaged_msd(\n\u001b[0m\u001b[1;32m      3\u001b[0m                 \u001b[0mdf_ranges\u001b[0m\u001b[0;34m=\u001b[0m\u001b[0mdf_ranges_creation\u001b[0m\u001b[0;34m,\u001b[0m\u001b[0;34m\u001b[0m\u001b[0;34m\u001b[0m\u001b[0m\n\u001b[1;32m      4\u001b[0m                 \u001b[0mDS\u001b[0m\u001b[0;34m=\u001b[0m\u001b[0mDS\u001b[0m\u001b[0;34m,\u001b[0m\u001b[0;34m\u001b[0m\u001b[0;34m\u001b[0m\u001b[0m\n\u001b[1;32m      5\u001b[0m                 \u001b[0mDT\u001b[0m\u001b[0;34m=\u001b[0m\u001b[0mDT\u001b[0m\u001b[0;34m,\u001b[0m\u001b[0;34m\u001b[0m\u001b[0;34m\u001b[0m\u001b[0m\n",
      "\u001b[0;32m/var/folders/0h/p4cbb7yx22jbxm0qb47vhfbh0000gn/T/ipykernel_11380/1659213012.py\u001b[0m in \u001b[0;36mcomp_time_averaged_msd\u001b[0;34m(df_ranges, DS, DT, min_lifetime, crop_start_by, max_lagtime, num_bootstrap_samples, detail, bins, min_numobs, npartitions, printing, **kwargs)\u001b[0m\n\u001b[1;32m     39\u001b[0m         \u001b[0mt_values\u001b[0m \u001b[0;34m=\u001b[0m \u001b[0mg\u001b[0m\u001b[0;34m[\u001b[0m\u001b[0;34m'tdeath'\u001b[0m\u001b[0;34m]\u001b[0m\u001b[0;34m.\u001b[0m\u001b[0mvalues\u001b[0m\u001b[0;34m\u001b[0m\u001b[0;34m\u001b[0m\u001b[0m\n\u001b[1;32m     40\u001b[0m         \u001b[0;31m#unwrap pbc for given trajectory\u001b[0m\u001b[0;34m\u001b[0m\u001b[0;34m\u001b[0m\u001b[0;34m\u001b[0m\u001b[0m\n\u001b[0;32m---> 41\u001b[0;31m         \u001b[0mxv\u001b[0m\u001b[0;34m,\u001b[0m\u001b[0myv\u001b[0m \u001b[0;34m=\u001b[0m \u001b[0munwrap_and_center_xy_values\u001b[0m\u001b[0;34m(\u001b[0m\u001b[0mx_values\u001b[0m\u001b[0;34m,\u001b[0m\u001b[0my_values\u001b[0m\u001b[0;34m,\u001b[0m\u001b[0mwidth\u001b[0m\u001b[0;34m,\u001b[0m\u001b[0mheight\u001b[0m\u001b[0;34m)\u001b[0m\u001b[0;31m#,jump_thresh=None,**kwargs)\u001b[0m\u001b[0;34m\u001b[0m\u001b[0;34m\u001b[0m\u001b[0m\n\u001b[0m\u001b[1;32m     42\u001b[0m         \u001b[0mboo\u001b[0m\u001b[0;34m=\u001b[0m\u001b[0mt_values\u001b[0m\u001b[0;34m>\u001b[0m\u001b[0mcrop_start_by\u001b[0m\u001b[0;34m\u001b[0m\u001b[0;34m\u001b[0m\u001b[0m\n\u001b[1;32m     43\u001b[0m         \u001b[0mframe_values\u001b[0m \u001b[0;34m=\u001b[0m \u001b[0mnp\u001b[0m\u001b[0;34m.\u001b[0m\u001b[0marange\u001b[0m\u001b[0;34m(\u001b[0m\u001b[0mnp\u001b[0m\u001b[0;34m.\u001b[0m\u001b[0msum\u001b[0m\u001b[0;34m(\u001b[0m\u001b[0mboo\u001b[0m\u001b[0;34m)\u001b[0m\u001b[0;34m)\u001b[0m\u001b[0;34m\u001b[0m\u001b[0;34m\u001b[0m\u001b[0m\n",
      "\u001b[0;32m~/Documents/GitHub/care/notebooks/lib/utils/utils_traj.py\u001b[0m in \u001b[0;36munwrap_and_center_xy_values\u001b[0;34m(x_values, y_values, width, height, jump_thresh, **kwargs)\u001b[0m\n\u001b[1;32m     69\u001b[0m     \u001b[0;32mif\u001b[0m \u001b[0mjump_thresh\u001b[0m \u001b[0;32mis\u001b[0m \u001b[0;32mNone\u001b[0m\u001b[0;34m:\u001b[0m \u001b[0mjump_thresh\u001b[0m\u001b[0;34m=\u001b[0m\u001b[0mnp\u001b[0m\u001b[0;34m.\u001b[0m\u001b[0mmin\u001b[0m\u001b[0;34m(\u001b[0m\u001b[0;34m(\u001b[0m\u001b[0mwidth\u001b[0m\u001b[0;34m,\u001b[0m\u001b[0mheight\u001b[0m\u001b[0;34m)\u001b[0m\u001b[0;34m)\u001b[0m\u001b[0;34m/\u001b[0m\u001b[0;36m2.\u001b[0m\u001b[0;34m\u001b[0m\u001b[0;34m\u001b[0m\u001b[0m\n\u001b[1;32m     70\u001b[0m     \u001b[0;31m# TODO: add support for re-using jit compiled distance_L2_pbc'''\u001b[0m\u001b[0;34m\u001b[0m\u001b[0;34m\u001b[0m\u001b[0;34m\u001b[0m\u001b[0m\n\u001b[0;32m---> 71\u001b[0;31m     \u001b[0mxv\u001b[0m\u001b[0;34m,\u001b[0m\u001b[0myv\u001b[0m\u001b[0;34m=\u001b[0m\u001b[0munwrap_xy_values\u001b[0m\u001b[0;34m(\u001b[0m\u001b[0mx_values\u001b[0m\u001b[0;34m,\u001b[0m\u001b[0my_values\u001b[0m\u001b[0;34m,\u001b[0m\u001b[0mwidth\u001b[0m\u001b[0;34m,\u001b[0m\u001b[0mheight\u001b[0m\u001b[0;34m,\u001b[0m\u001b[0mjump_thresh\u001b[0m\u001b[0;34m=\u001b[0m\u001b[0mjump_thresh\u001b[0m\u001b[0;34m,\u001b[0m\u001b[0;34m**\u001b[0m\u001b[0mkwargs\u001b[0m\u001b[0;34m)\u001b[0m\u001b[0;34m\u001b[0m\u001b[0;34m\u001b[0m\u001b[0m\n\u001b[0m\u001b[1;32m     72\u001b[0m     \u001b[0;31m#subtract off the initial position for plotting's sake\u001b[0m\u001b[0;34m\u001b[0m\u001b[0;34m\u001b[0m\u001b[0;34m\u001b[0m\u001b[0m\n\u001b[1;32m     73\u001b[0m     \u001b[0mxv\u001b[0m \u001b[0;34m-=\u001b[0m \u001b[0mxv\u001b[0m\u001b[0;34m[\u001b[0m\u001b[0;36m0\u001b[0m\u001b[0;34m]\u001b[0m\u001b[0;34m\u001b[0m\u001b[0;34m\u001b[0m\u001b[0m\n",
      "\u001b[0;32m~/Documents/GitHub/care/notebooks/lib/utils/utils_traj.py\u001b[0m in \u001b[0;36munwrap_xy_values\u001b[0;34m(x_values, y_values, width, height, jump_thresh, **kwargs)\u001b[0m\n\u001b[1;32m     55\u001b[0m     \u001b[0;32mif\u001b[0m \u001b[0mjump_thresh\u001b[0m\u001b[0;34m=\u001b[0m\u001b[0;32mNone\u001b[0m\u001b[0;34m,\u001b[0m \u001b[0mthen\u001b[0m \u001b[0mjump_thresh\u001b[0m\u001b[0;34m=\u001b[0m\u001b[0mnp\u001b[0m\u001b[0;34m.\u001b[0m\u001b[0mmin\u001b[0m\u001b[0;34m(\u001b[0m\u001b[0mwidth\u001b[0m\u001b[0;34m,\u001b[0m\u001b[0mheight\u001b[0m\u001b[0;34m)\u001b[0m\u001b[0;34m/\u001b[0m\u001b[0;36m2.\u001b[0m\u001b[0;34m\u001b[0m\u001b[0;34m\u001b[0m\u001b[0m\n\u001b[1;32m     56\u001b[0m     TODO: add support for re-using jit compiled distance_L2_pbc'''\n\u001b[0;32m---> 57\u001b[0;31m     \u001b[0mjump_index_array\u001b[0m\u001b[0;34m,\u001b[0m \u001b[0mspd_lst\u001b[0m \u001b[0;34m=\u001b[0m \u001b[0mfind_jumps\u001b[0m\u001b[0;34m(\u001b[0m\u001b[0mx_values\u001b[0m\u001b[0;34m,\u001b[0m\u001b[0my_values\u001b[0m\u001b[0;34m,\u001b[0m\u001b[0mwidth\u001b[0m\u001b[0;34m,\u001b[0m\u001b[0mheight\u001b[0m\u001b[0;34m,\u001b[0m\u001b[0mjump_thresh\u001b[0m\u001b[0;34m=\u001b[0m\u001b[0mjump_thresh\u001b[0m\u001b[0;34m,\u001b[0m\u001b[0;34m**\u001b[0m\u001b[0mkwargs\u001b[0m\u001b[0;34m)\u001b[0m\u001b[0;34m\u001b[0m\u001b[0;34m\u001b[0m\u001b[0m\n\u001b[0m\u001b[1;32m     58\u001b[0m     \u001b[0mxv\u001b[0m\u001b[0;34m,\u001b[0m\u001b[0myv\u001b[0m \u001b[0;34m=\u001b[0m \u001b[0munwrap_for_each_jump\u001b[0m\u001b[0;34m(\u001b[0m\u001b[0mx_values\u001b[0m\u001b[0;34m,\u001b[0m\u001b[0my_values\u001b[0m\u001b[0;34m,\u001b[0m\u001b[0mjump_index_array\u001b[0m\u001b[0;34m,\u001b[0m \u001b[0mwidth\u001b[0m\u001b[0;34m=\u001b[0m\u001b[0mwidth\u001b[0m\u001b[0;34m,\u001b[0m\u001b[0mheight\u001b[0m\u001b[0;34m=\u001b[0m\u001b[0mheight\u001b[0m\u001b[0;34m,\u001b[0m\u001b[0mjump_thresh\u001b[0m\u001b[0;34m=\u001b[0m\u001b[0mjump_thresh\u001b[0m\u001b[0;34m,\u001b[0m\u001b[0;34m**\u001b[0m\u001b[0mkwargs\u001b[0m\u001b[0;34m)\u001b[0m\u001b[0;34m\u001b[0m\u001b[0;34m\u001b[0m\u001b[0m\n\u001b[1;32m     59\u001b[0m     \u001b[0;32mreturn\u001b[0m \u001b[0mxv\u001b[0m\u001b[0;34m,\u001b[0m\u001b[0myv\u001b[0m\u001b[0;34m\u001b[0m\u001b[0;34m\u001b[0m\u001b[0m\n",
      "\u001b[0;32m~/Documents/GitHub/care/notebooks/lib/utils/utils_traj.py\u001b[0m in \u001b[0;36mfind_jumps\u001b[0;34m(x_values, y_values, width, height, jump_thresh, distance_L2_pbc, **kwargs)\u001b[0m\n\u001b[1;32m    147\u001b[0m         \u001b[0mthresh\u001b[0m \u001b[0;34m=\u001b[0m \u001b[0mjump_thresh\u001b[0m\u001b[0;34m\u001b[0m\u001b[0;34m\u001b[0m\u001b[0m\n\u001b[1;32m    148\u001b[0m     \u001b[0;32mif\u001b[0m \u001b[0mdistance_L2_pbc\u001b[0m \u001b[0;32mis\u001b[0m \u001b[0;32mNone\u001b[0m\u001b[0;34m:\u001b[0m\u001b[0;34m\u001b[0m\u001b[0;34m\u001b[0m\u001b[0m\n\u001b[0;32m--> 149\u001b[0;31m         \u001b[0mdistance_L2_pbc\u001b[0m \u001b[0;34m=\u001b[0m \u001b[0mget_distance_L2_pbc\u001b[0m\u001b[0;34m(\u001b[0m\u001b[0mwidth\u001b[0m\u001b[0;34m,\u001b[0m\u001b[0mheight\u001b[0m\u001b[0;34m)\u001b[0m\u001b[0;34m\u001b[0m\u001b[0;34m\u001b[0m\u001b[0m\n\u001b[0m\u001b[1;32m    150\u001b[0m     \u001b[0;31m#     DT = 1.#np.mean(d.t.diff().dropna().values) #ms per frame\u001b[0m\u001b[0;34m\u001b[0m\u001b[0;34m\u001b[0m\u001b[0;34m\u001b[0m\u001b[0m\n\u001b[1;32m    151\u001b[0m     \u001b[0;31m#     DS = 5/200 #cm per pixels\u001b[0m\u001b[0;34m\u001b[0m\u001b[0;34m\u001b[0m\u001b[0;34m\u001b[0m\u001b[0m\n",
      "\u001b[0;32m~/Documents/GitHub/care/notebooks/lib/utils/dist_func.py\u001b[0m in \u001b[0;36mget_distance_L2_pbc\u001b[0;34m(width, height)\u001b[0m\n\u001b[1;32m     32\u001b[0m         \u001b[0mmesh_shape\u001b[0m\u001b[0;34m=\u001b[0m\u001b[0mnp\u001b[0m\u001b[0;34m.\u001b[0m\u001b[0marray\u001b[0m\u001b[0;34m(\u001b[0m\u001b[0;34m(\u001b[0m\u001b[0mwidth\u001b[0m\u001b[0;34m,\u001b[0m\u001b[0mheight\u001b[0m\u001b[0;34m)\u001b[0m\u001b[0;34m)\u001b[0m\u001b[0;34m\u001b[0m\u001b[0;34m\u001b[0m\u001b[0m\n\u001b[1;32m     33\u001b[0m         \u001b[0;34m@\u001b[0m\u001b[0mjit\u001b[0m\u001b[0;34m(\u001b[0m\u001b[0;34m'f8(f8[:],f8[:])'\u001b[0m\u001b[0;34m,\u001b[0m \u001b[0mnopython\u001b[0m\u001b[0;34m=\u001b[0m\u001b[0;32mTrue\u001b[0m\u001b[0;34m)\u001b[0m\u001b[0;34m\u001b[0m\u001b[0;34m\u001b[0m\u001b[0m\n\u001b[0;32m---> 34\u001b[0;31m         \u001b[0;32mdef\u001b[0m \u001b[0mdistance_L2_pbc\u001b[0m\u001b[0;34m(\u001b[0m\u001b[0mpoint_1\u001b[0m\u001b[0;34m,\u001b[0m \u001b[0mpoint_2\u001b[0m\u001b[0;34m)\u001b[0m\u001b[0;34m:\u001b[0m\u001b[0;34m\u001b[0m\u001b[0;34m\u001b[0m\u001b[0m\n\u001b[0m\u001b[1;32m     35\u001b[0m                 \u001b[0;34m'''assumes getting shortest distance between two points with periodic boundary conditions in 2D.  point_1 and point_2 are iterables of length 2'''\u001b[0m\u001b[0;34m\u001b[0m\u001b[0;34m\u001b[0m\u001b[0m\n\u001b[1;32m     36\u001b[0m                 \u001b[0mdq2\u001b[0m \u001b[0;34m=\u001b[0m \u001b[0;36m0.\u001b[0m\u001b[0;34m\u001b[0m\u001b[0;34m\u001b[0m\u001b[0m\n",
      "\u001b[0;32m~/opt/miniconda3/envs/pyenv/lib/python3.9/site-packages/numba/core/decorators.py\u001b[0m in \u001b[0;36mwrapper\u001b[0;34m(func)\u001b[0m\n\u001b[1;32m    219\u001b[0m             \u001b[0;32mwith\u001b[0m \u001b[0mtypeinfer\u001b[0m\u001b[0;34m.\u001b[0m\u001b[0mregister_dispatcher\u001b[0m\u001b[0;34m(\u001b[0m\u001b[0mdisp\u001b[0m\u001b[0;34m)\u001b[0m\u001b[0;34m:\u001b[0m\u001b[0;34m\u001b[0m\u001b[0;34m\u001b[0m\u001b[0m\n\u001b[1;32m    220\u001b[0m                 \u001b[0;32mfor\u001b[0m \u001b[0msig\u001b[0m \u001b[0;32min\u001b[0m \u001b[0msigs\u001b[0m\u001b[0;34m:\u001b[0m\u001b[0;34m\u001b[0m\u001b[0;34m\u001b[0m\u001b[0m\n\u001b[0;32m--> 221\u001b[0;31m                     \u001b[0mdisp\u001b[0m\u001b[0;34m.\u001b[0m\u001b[0mcompile\u001b[0m\u001b[0;34m(\u001b[0m\u001b[0msig\u001b[0m\u001b[0;34m)\u001b[0m\u001b[0;34m\u001b[0m\u001b[0;34m\u001b[0m\u001b[0m\n\u001b[0m\u001b[1;32m    222\u001b[0m                 \u001b[0mdisp\u001b[0m\u001b[0;34m.\u001b[0m\u001b[0mdisable_compile\u001b[0m\u001b[0;34m(\u001b[0m\u001b[0;34m)\u001b[0m\u001b[0;34m\u001b[0m\u001b[0;34m\u001b[0m\u001b[0m\n\u001b[1;32m    223\u001b[0m         \u001b[0;32mreturn\u001b[0m \u001b[0mdisp\u001b[0m\u001b[0;34m\u001b[0m\u001b[0;34m\u001b[0m\u001b[0m\n",
      "\u001b[0;32m~/opt/miniconda3/envs/pyenv/lib/python3.9/site-packages/numba/core/dispatcher.py\u001b[0m in \u001b[0;36mcompile\u001b[0;34m(self, sig)\u001b[0m\n\u001b[1;32m    907\u001b[0m                 \u001b[0;32mwith\u001b[0m \u001b[0mev\u001b[0m\u001b[0;34m.\u001b[0m\u001b[0mtrigger_event\u001b[0m\u001b[0;34m(\u001b[0m\u001b[0;34m\"numba:compile\"\u001b[0m\u001b[0;34m,\u001b[0m \u001b[0mdata\u001b[0m\u001b[0;34m=\u001b[0m\u001b[0mev_details\u001b[0m\u001b[0;34m)\u001b[0m\u001b[0;34m:\u001b[0m\u001b[0;34m\u001b[0m\u001b[0;34m\u001b[0m\u001b[0m\n\u001b[1;32m    908\u001b[0m                     \u001b[0;32mtry\u001b[0m\u001b[0;34m:\u001b[0m\u001b[0;34m\u001b[0m\u001b[0;34m\u001b[0m\u001b[0m\n\u001b[0;32m--> 909\u001b[0;31m                         \u001b[0mcres\u001b[0m \u001b[0;34m=\u001b[0m \u001b[0mself\u001b[0m\u001b[0;34m.\u001b[0m\u001b[0m_compiler\u001b[0m\u001b[0;34m.\u001b[0m\u001b[0mcompile\u001b[0m\u001b[0;34m(\u001b[0m\u001b[0margs\u001b[0m\u001b[0;34m,\u001b[0m \u001b[0mreturn_type\u001b[0m\u001b[0;34m)\u001b[0m\u001b[0;34m\u001b[0m\u001b[0;34m\u001b[0m\u001b[0m\n\u001b[0m\u001b[1;32m    910\u001b[0m                     \u001b[0;32mexcept\u001b[0m \u001b[0merrors\u001b[0m\u001b[0;34m.\u001b[0m\u001b[0mForceLiteralArg\u001b[0m \u001b[0;32mas\u001b[0m \u001b[0me\u001b[0m\u001b[0;34m:\u001b[0m\u001b[0;34m\u001b[0m\u001b[0;34m\u001b[0m\u001b[0m\n\u001b[1;32m    911\u001b[0m                         \u001b[0;32mdef\u001b[0m \u001b[0mfolded\u001b[0m\u001b[0;34m(\u001b[0m\u001b[0margs\u001b[0m\u001b[0;34m,\u001b[0m \u001b[0mkws\u001b[0m\u001b[0;34m)\u001b[0m\u001b[0;34m:\u001b[0m\u001b[0;34m\u001b[0m\u001b[0;34m\u001b[0m\u001b[0m\n",
      "\u001b[0;32m~/opt/miniconda3/envs/pyenv/lib/python3.9/site-packages/numba/core/dispatcher.py\u001b[0m in \u001b[0;36mcompile\u001b[0;34m(self, args, return_type)\u001b[0m\n\u001b[1;32m     77\u001b[0m \u001b[0;34m\u001b[0m\u001b[0m\n\u001b[1;32m     78\u001b[0m     \u001b[0;32mdef\u001b[0m \u001b[0mcompile\u001b[0m\u001b[0;34m(\u001b[0m\u001b[0mself\u001b[0m\u001b[0;34m,\u001b[0m \u001b[0margs\u001b[0m\u001b[0;34m,\u001b[0m \u001b[0mreturn_type\u001b[0m\u001b[0;34m)\u001b[0m\u001b[0;34m:\u001b[0m\u001b[0;34m\u001b[0m\u001b[0;34m\u001b[0m\u001b[0m\n\u001b[0;32m---> 79\u001b[0;31m         \u001b[0mstatus\u001b[0m\u001b[0;34m,\u001b[0m \u001b[0mretval\u001b[0m \u001b[0;34m=\u001b[0m \u001b[0mself\u001b[0m\u001b[0;34m.\u001b[0m\u001b[0m_compile_cached\u001b[0m\u001b[0;34m(\u001b[0m\u001b[0margs\u001b[0m\u001b[0;34m,\u001b[0m \u001b[0mreturn_type\u001b[0m\u001b[0;34m)\u001b[0m\u001b[0;34m\u001b[0m\u001b[0;34m\u001b[0m\u001b[0m\n\u001b[0m\u001b[1;32m     80\u001b[0m         \u001b[0;32mif\u001b[0m \u001b[0mstatus\u001b[0m\u001b[0;34m:\u001b[0m\u001b[0;34m\u001b[0m\u001b[0;34m\u001b[0m\u001b[0m\n\u001b[1;32m     81\u001b[0m             \u001b[0;32mreturn\u001b[0m \u001b[0mretval\u001b[0m\u001b[0;34m\u001b[0m\u001b[0;34m\u001b[0m\u001b[0m\n",
      "\u001b[0;32m~/opt/miniconda3/envs/pyenv/lib/python3.9/site-packages/numba/core/dispatcher.py\u001b[0m in \u001b[0;36m_compile_cached\u001b[0;34m(self, args, return_type)\u001b[0m\n\u001b[1;32m     91\u001b[0m \u001b[0;34m\u001b[0m\u001b[0m\n\u001b[1;32m     92\u001b[0m         \u001b[0;32mtry\u001b[0m\u001b[0;34m:\u001b[0m\u001b[0;34m\u001b[0m\u001b[0;34m\u001b[0m\u001b[0m\n\u001b[0;32m---> 93\u001b[0;31m             \u001b[0mretval\u001b[0m \u001b[0;34m=\u001b[0m \u001b[0mself\u001b[0m\u001b[0;34m.\u001b[0m\u001b[0m_compile_core\u001b[0m\u001b[0;34m(\u001b[0m\u001b[0margs\u001b[0m\u001b[0;34m,\u001b[0m \u001b[0mreturn_type\u001b[0m\u001b[0;34m)\u001b[0m\u001b[0;34m\u001b[0m\u001b[0;34m\u001b[0m\u001b[0m\n\u001b[0m\u001b[1;32m     94\u001b[0m         \u001b[0;32mexcept\u001b[0m \u001b[0merrors\u001b[0m\u001b[0;34m.\u001b[0m\u001b[0mTypingError\u001b[0m \u001b[0;32mas\u001b[0m \u001b[0me\u001b[0m\u001b[0;34m:\u001b[0m\u001b[0;34m\u001b[0m\u001b[0;34m\u001b[0m\u001b[0m\n\u001b[1;32m     95\u001b[0m             \u001b[0mself\u001b[0m\u001b[0;34m.\u001b[0m\u001b[0m_failed_cache\u001b[0m\u001b[0;34m[\u001b[0m\u001b[0mkey\u001b[0m\u001b[0;34m]\u001b[0m \u001b[0;34m=\u001b[0m \u001b[0me\u001b[0m\u001b[0;34m\u001b[0m\u001b[0;34m\u001b[0m\u001b[0m\n",
      "\u001b[0;32m~/opt/miniconda3/envs/pyenv/lib/python3.9/site-packages/numba/core/dispatcher.py\u001b[0m in \u001b[0;36m_compile_core\u001b[0;34m(self, args, return_type)\u001b[0m\n\u001b[1;32m    104\u001b[0m \u001b[0;34m\u001b[0m\u001b[0m\n\u001b[1;32m    105\u001b[0m         \u001b[0mimpl\u001b[0m \u001b[0;34m=\u001b[0m \u001b[0mself\u001b[0m\u001b[0;34m.\u001b[0m\u001b[0m_get_implementation\u001b[0m\u001b[0;34m(\u001b[0m\u001b[0margs\u001b[0m\u001b[0;34m,\u001b[0m \u001b[0;34m{\u001b[0m\u001b[0;34m}\u001b[0m\u001b[0;34m)\u001b[0m\u001b[0;34m\u001b[0m\u001b[0;34m\u001b[0m\u001b[0m\n\u001b[0;32m--> 106\u001b[0;31m         cres = compiler.compile_extra(self.targetdescr.typing_context,\n\u001b[0m\u001b[1;32m    107\u001b[0m                                       \u001b[0mself\u001b[0m\u001b[0;34m.\u001b[0m\u001b[0mtargetdescr\u001b[0m\u001b[0;34m.\u001b[0m\u001b[0mtarget_context\u001b[0m\u001b[0;34m,\u001b[0m\u001b[0;34m\u001b[0m\u001b[0;34m\u001b[0m\u001b[0m\n\u001b[1;32m    108\u001b[0m                                       \u001b[0mimpl\u001b[0m\u001b[0;34m,\u001b[0m\u001b[0;34m\u001b[0m\u001b[0;34m\u001b[0m\u001b[0m\n",
      "\u001b[0;32m~/opt/miniconda3/envs/pyenv/lib/python3.9/site-packages/numba/core/compiler.py\u001b[0m in \u001b[0;36mcompile_extra\u001b[0;34m(typingctx, targetctx, func, args, return_type, flags, locals, library, pipeline_class)\u001b[0m\n\u001b[1;32m    604\u001b[0m     pipeline = pipeline_class(typingctx, targetctx, library,\n\u001b[1;32m    605\u001b[0m                               args, return_type, flags, locals)\n\u001b[0;32m--> 606\u001b[0;31m     \u001b[0;32mreturn\u001b[0m \u001b[0mpipeline\u001b[0m\u001b[0;34m.\u001b[0m\u001b[0mcompile_extra\u001b[0m\u001b[0;34m(\u001b[0m\u001b[0mfunc\u001b[0m\u001b[0;34m)\u001b[0m\u001b[0;34m\u001b[0m\u001b[0;34m\u001b[0m\u001b[0m\n\u001b[0m\u001b[1;32m    607\u001b[0m \u001b[0;34m\u001b[0m\u001b[0m\n\u001b[1;32m    608\u001b[0m \u001b[0;34m\u001b[0m\u001b[0m\n",
      "\u001b[0;32m~/opt/miniconda3/envs/pyenv/lib/python3.9/site-packages/numba/core/compiler.py\u001b[0m in \u001b[0;36mcompile_extra\u001b[0;34m(self, func)\u001b[0m\n\u001b[1;32m    351\u001b[0m         \u001b[0mself\u001b[0m\u001b[0;34m.\u001b[0m\u001b[0mstate\u001b[0m\u001b[0;34m.\u001b[0m\u001b[0mlifted\u001b[0m \u001b[0;34m=\u001b[0m \u001b[0;34m(\u001b[0m\u001b[0;34m)\u001b[0m\u001b[0;34m\u001b[0m\u001b[0;34m\u001b[0m\u001b[0m\n\u001b[1;32m    352\u001b[0m         \u001b[0mself\u001b[0m\u001b[0;34m.\u001b[0m\u001b[0mstate\u001b[0m\u001b[0;34m.\u001b[0m\u001b[0mlifted_from\u001b[0m \u001b[0;34m=\u001b[0m \u001b[0;32mNone\u001b[0m\u001b[0;34m\u001b[0m\u001b[0;34m\u001b[0m\u001b[0m\n\u001b[0;32m--> 353\u001b[0;31m         \u001b[0;32mreturn\u001b[0m \u001b[0mself\u001b[0m\u001b[0;34m.\u001b[0m\u001b[0m_compile_bytecode\u001b[0m\u001b[0;34m(\u001b[0m\u001b[0;34m)\u001b[0m\u001b[0;34m\u001b[0m\u001b[0;34m\u001b[0m\u001b[0m\n\u001b[0m\u001b[1;32m    354\u001b[0m \u001b[0;34m\u001b[0m\u001b[0m\n\u001b[1;32m    355\u001b[0m     \u001b[0;32mdef\u001b[0m \u001b[0mcompile_ir\u001b[0m\u001b[0;34m(\u001b[0m\u001b[0mself\u001b[0m\u001b[0;34m,\u001b[0m \u001b[0mfunc_ir\u001b[0m\u001b[0;34m,\u001b[0m \u001b[0mlifted\u001b[0m\u001b[0;34m=\u001b[0m\u001b[0;34m(\u001b[0m\u001b[0;34m)\u001b[0m\u001b[0;34m,\u001b[0m \u001b[0mlifted_from\u001b[0m\u001b[0;34m=\u001b[0m\u001b[0;32mNone\u001b[0m\u001b[0;34m)\u001b[0m\u001b[0;34m:\u001b[0m\u001b[0;34m\u001b[0m\u001b[0;34m\u001b[0m\u001b[0m\n",
      "\u001b[0;32m~/opt/miniconda3/envs/pyenv/lib/python3.9/site-packages/numba/core/compiler.py\u001b[0m in \u001b[0;36m_compile_bytecode\u001b[0;34m(self)\u001b[0m\n\u001b[1;32m    413\u001b[0m         \"\"\"\n\u001b[1;32m    414\u001b[0m         \u001b[0;32massert\u001b[0m \u001b[0mself\u001b[0m\u001b[0;34m.\u001b[0m\u001b[0mstate\u001b[0m\u001b[0;34m.\u001b[0m\u001b[0mfunc_ir\u001b[0m \u001b[0;32mis\u001b[0m \u001b[0;32mNone\u001b[0m\u001b[0;34m\u001b[0m\u001b[0;34m\u001b[0m\u001b[0m\n\u001b[0;32m--> 415\u001b[0;31m         \u001b[0;32mreturn\u001b[0m \u001b[0mself\u001b[0m\u001b[0;34m.\u001b[0m\u001b[0m_compile_core\u001b[0m\u001b[0;34m(\u001b[0m\u001b[0;34m)\u001b[0m\u001b[0;34m\u001b[0m\u001b[0;34m\u001b[0m\u001b[0m\n\u001b[0m\u001b[1;32m    416\u001b[0m \u001b[0;34m\u001b[0m\u001b[0m\n\u001b[1;32m    417\u001b[0m     \u001b[0;32mdef\u001b[0m \u001b[0m_compile_ir\u001b[0m\u001b[0;34m(\u001b[0m\u001b[0mself\u001b[0m\u001b[0;34m)\u001b[0m\u001b[0;34m:\u001b[0m\u001b[0;34m\u001b[0m\u001b[0;34m\u001b[0m\u001b[0m\n",
      "\u001b[0;32m~/opt/miniconda3/envs/pyenv/lib/python3.9/site-packages/numba/core/compiler.py\u001b[0m in \u001b[0;36m_compile_core\u001b[0;34m(self)\u001b[0m\n\u001b[1;32m    384\u001b[0m             \u001b[0mres\u001b[0m \u001b[0;34m=\u001b[0m \u001b[0;32mNone\u001b[0m\u001b[0;34m\u001b[0m\u001b[0;34m\u001b[0m\u001b[0m\n\u001b[1;32m    385\u001b[0m             \u001b[0;32mtry\u001b[0m\u001b[0;34m:\u001b[0m\u001b[0;34m\u001b[0m\u001b[0;34m\u001b[0m\u001b[0m\n\u001b[0;32m--> 386\u001b[0;31m                 \u001b[0mpm\u001b[0m\u001b[0;34m.\u001b[0m\u001b[0mrun\u001b[0m\u001b[0;34m(\u001b[0m\u001b[0mself\u001b[0m\u001b[0;34m.\u001b[0m\u001b[0mstate\u001b[0m\u001b[0;34m)\u001b[0m\u001b[0;34m\u001b[0m\u001b[0;34m\u001b[0m\u001b[0m\n\u001b[0m\u001b[1;32m    387\u001b[0m                 \u001b[0;32mif\u001b[0m \u001b[0mself\u001b[0m\u001b[0;34m.\u001b[0m\u001b[0mstate\u001b[0m\u001b[0;34m.\u001b[0m\u001b[0mcr\u001b[0m \u001b[0;32mis\u001b[0m \u001b[0;32mnot\u001b[0m \u001b[0;32mNone\u001b[0m\u001b[0;34m:\u001b[0m\u001b[0;34m\u001b[0m\u001b[0;34m\u001b[0m\u001b[0m\n\u001b[1;32m    388\u001b[0m                     \u001b[0;32mbreak\u001b[0m\u001b[0;34m\u001b[0m\u001b[0;34m\u001b[0m\u001b[0m\n",
      "\u001b[0;32m~/opt/miniconda3/envs/pyenv/lib/python3.9/site-packages/numba/core/compiler_machinery.py\u001b[0m in \u001b[0;36mrun\u001b[0;34m(self, state)\u001b[0m\n\u001b[1;32m    328\u001b[0m                 \u001b[0mpass_inst\u001b[0m \u001b[0;34m=\u001b[0m \u001b[0m_pass_registry\u001b[0m\u001b[0;34m.\u001b[0m\u001b[0mget\u001b[0m\u001b[0;34m(\u001b[0m\u001b[0mpss\u001b[0m\u001b[0;34m)\u001b[0m\u001b[0;34m.\u001b[0m\u001b[0mpass_inst\u001b[0m\u001b[0;34m\u001b[0m\u001b[0;34m\u001b[0m\u001b[0m\n\u001b[1;32m    329\u001b[0m                 \u001b[0;32mif\u001b[0m \u001b[0misinstance\u001b[0m\u001b[0;34m(\u001b[0m\u001b[0mpass_inst\u001b[0m\u001b[0;34m,\u001b[0m \u001b[0mCompilerPass\u001b[0m\u001b[0;34m)\u001b[0m\u001b[0;34m:\u001b[0m\u001b[0;34m\u001b[0m\u001b[0;34m\u001b[0m\u001b[0m\n\u001b[0;32m--> 330\u001b[0;31m                     \u001b[0mself\u001b[0m\u001b[0;34m.\u001b[0m\u001b[0m_runPass\u001b[0m\u001b[0;34m(\u001b[0m\u001b[0midx\u001b[0m\u001b[0;34m,\u001b[0m \u001b[0mpass_inst\u001b[0m\u001b[0;34m,\u001b[0m \u001b[0mstate\u001b[0m\u001b[0;34m)\u001b[0m\u001b[0;34m\u001b[0m\u001b[0;34m\u001b[0m\u001b[0m\n\u001b[0m\u001b[1;32m    331\u001b[0m                 \u001b[0;32melse\u001b[0m\u001b[0;34m:\u001b[0m\u001b[0;34m\u001b[0m\u001b[0;34m\u001b[0m\u001b[0m\n\u001b[1;32m    332\u001b[0m                     \u001b[0;32mraise\u001b[0m \u001b[0mBaseException\u001b[0m\u001b[0;34m(\u001b[0m\u001b[0;34m\"Legacy pass in use\"\u001b[0m\u001b[0;34m)\u001b[0m\u001b[0;34m\u001b[0m\u001b[0;34m\u001b[0m\u001b[0m\n",
      "\u001b[0;32m~/opt/miniconda3/envs/pyenv/lib/python3.9/site-packages/numba/core/compiler_lock.py\u001b[0m in \u001b[0;36m_acquire_compile_lock\u001b[0;34m(*args, **kwargs)\u001b[0m\n\u001b[1;32m     33\u001b[0m         \u001b[0;32mdef\u001b[0m \u001b[0m_acquire_compile_lock\u001b[0m\u001b[0;34m(\u001b[0m\u001b[0;34m*\u001b[0m\u001b[0margs\u001b[0m\u001b[0;34m,\u001b[0m \u001b[0;34m**\u001b[0m\u001b[0mkwargs\u001b[0m\u001b[0;34m)\u001b[0m\u001b[0;34m:\u001b[0m\u001b[0;34m\u001b[0m\u001b[0;34m\u001b[0m\u001b[0m\n\u001b[1;32m     34\u001b[0m             \u001b[0;32mwith\u001b[0m \u001b[0mself\u001b[0m\u001b[0;34m:\u001b[0m\u001b[0;34m\u001b[0m\u001b[0;34m\u001b[0m\u001b[0m\n\u001b[0;32m---> 35\u001b[0;31m                 \u001b[0;32mreturn\u001b[0m \u001b[0mfunc\u001b[0m\u001b[0;34m(\u001b[0m\u001b[0;34m*\u001b[0m\u001b[0margs\u001b[0m\u001b[0;34m,\u001b[0m \u001b[0;34m**\u001b[0m\u001b[0mkwargs\u001b[0m\u001b[0;34m)\u001b[0m\u001b[0;34m\u001b[0m\u001b[0;34m\u001b[0m\u001b[0m\n\u001b[0m\u001b[1;32m     36\u001b[0m         \u001b[0;32mreturn\u001b[0m \u001b[0m_acquire_compile_lock\u001b[0m\u001b[0;34m\u001b[0m\u001b[0;34m\u001b[0m\u001b[0m\n\u001b[1;32m     37\u001b[0m \u001b[0;34m\u001b[0m\u001b[0m\n",
      "\u001b[0;32m~/opt/miniconda3/envs/pyenv/lib/python3.9/site-packages/numba/core/compiler_machinery.py\u001b[0m in \u001b[0;36m_runPass\u001b[0;34m(self, index, pss, internal_state)\u001b[0m\n\u001b[1;32m    287\u001b[0m             \u001b[0mmutated\u001b[0m \u001b[0;34m|=\u001b[0m \u001b[0mcheck\u001b[0m\u001b[0;34m(\u001b[0m\u001b[0mpss\u001b[0m\u001b[0;34m.\u001b[0m\u001b[0mrun_initialization\u001b[0m\u001b[0;34m,\u001b[0m \u001b[0minternal_state\u001b[0m\u001b[0;34m)\u001b[0m\u001b[0;34m\u001b[0m\u001b[0;34m\u001b[0m\u001b[0m\n\u001b[1;32m    288\u001b[0m         \u001b[0;32mwith\u001b[0m \u001b[0mSimpleTimer\u001b[0m\u001b[0;34m(\u001b[0m\u001b[0;34m)\u001b[0m \u001b[0;32mas\u001b[0m \u001b[0mpass_time\u001b[0m\u001b[0;34m:\u001b[0m\u001b[0;34m\u001b[0m\u001b[0;34m\u001b[0m\u001b[0m\n\u001b[0;32m--> 289\u001b[0;31m             \u001b[0mmutated\u001b[0m \u001b[0;34m|=\u001b[0m \u001b[0mcheck\u001b[0m\u001b[0;34m(\u001b[0m\u001b[0mpss\u001b[0m\u001b[0;34m.\u001b[0m\u001b[0mrun_pass\u001b[0m\u001b[0;34m,\u001b[0m \u001b[0minternal_state\u001b[0m\u001b[0;34m)\u001b[0m\u001b[0;34m\u001b[0m\u001b[0;34m\u001b[0m\u001b[0m\n\u001b[0m\u001b[1;32m    290\u001b[0m         \u001b[0;32mwith\u001b[0m \u001b[0mSimpleTimer\u001b[0m\u001b[0;34m(\u001b[0m\u001b[0;34m)\u001b[0m \u001b[0;32mas\u001b[0m \u001b[0mfinalize_time\u001b[0m\u001b[0;34m:\u001b[0m\u001b[0;34m\u001b[0m\u001b[0;34m\u001b[0m\u001b[0m\n\u001b[1;32m    291\u001b[0m             \u001b[0mmutated\u001b[0m \u001b[0;34m|=\u001b[0m \u001b[0mcheck\u001b[0m\u001b[0;34m(\u001b[0m\u001b[0mpss\u001b[0m\u001b[0;34m.\u001b[0m\u001b[0mrun_finalizer\u001b[0m\u001b[0;34m,\u001b[0m \u001b[0minternal_state\u001b[0m\u001b[0;34m)\u001b[0m\u001b[0;34m\u001b[0m\u001b[0;34m\u001b[0m\u001b[0m\n",
      "\u001b[0;32m~/opt/miniconda3/envs/pyenv/lib/python3.9/site-packages/numba/core/compiler_machinery.py\u001b[0m in \u001b[0;36mcheck\u001b[0;34m(func, compiler_state)\u001b[0m\n\u001b[1;32m    260\u001b[0m \u001b[0;34m\u001b[0m\u001b[0m\n\u001b[1;32m    261\u001b[0m         \u001b[0;32mdef\u001b[0m \u001b[0mcheck\u001b[0m\u001b[0;34m(\u001b[0m\u001b[0mfunc\u001b[0m\u001b[0;34m,\u001b[0m \u001b[0mcompiler_state\u001b[0m\u001b[0;34m)\u001b[0m\u001b[0;34m:\u001b[0m\u001b[0;34m\u001b[0m\u001b[0;34m\u001b[0m\u001b[0m\n\u001b[0;32m--> 262\u001b[0;31m             \u001b[0mmangled\u001b[0m \u001b[0;34m=\u001b[0m \u001b[0mfunc\u001b[0m\u001b[0;34m(\u001b[0m\u001b[0mcompiler_state\u001b[0m\u001b[0;34m)\u001b[0m\u001b[0;34m\u001b[0m\u001b[0;34m\u001b[0m\u001b[0m\n\u001b[0m\u001b[1;32m    263\u001b[0m             \u001b[0;32mif\u001b[0m \u001b[0mmangled\u001b[0m \u001b[0;32mnot\u001b[0m \u001b[0;32min\u001b[0m \u001b[0;34m(\u001b[0m\u001b[0;32mTrue\u001b[0m\u001b[0;34m,\u001b[0m \u001b[0;32mFalse\u001b[0m\u001b[0;34m)\u001b[0m\u001b[0;34m:\u001b[0m\u001b[0;34m\u001b[0m\u001b[0;34m\u001b[0m\u001b[0m\n\u001b[1;32m    264\u001b[0m                 msg = (\"CompilerPass implementations should return True/False. \"\n",
      "\u001b[0;32m~/opt/miniconda3/envs/pyenv/lib/python3.9/site-packages/numba/core/typed_passes.py\u001b[0m in \u001b[0;36mrun_pass\u001b[0;34m(self, state)\u001b[0m\n\u001b[1;32m    102\u001b[0m                               % (state.func_id.func_name,)):\n\u001b[1;32m    103\u001b[0m             \u001b[0;31m# Type inference\u001b[0m\u001b[0;34m\u001b[0m\u001b[0;34m\u001b[0m\u001b[0;34m\u001b[0m\u001b[0m\n\u001b[0;32m--> 104\u001b[0;31m             typemap, return_type, calltypes, errs = type_inference_stage(\n\u001b[0m\u001b[1;32m    105\u001b[0m                 \u001b[0mstate\u001b[0m\u001b[0;34m.\u001b[0m\u001b[0mtypingctx\u001b[0m\u001b[0;34m,\u001b[0m\u001b[0;34m\u001b[0m\u001b[0;34m\u001b[0m\u001b[0m\n\u001b[1;32m    106\u001b[0m                 \u001b[0mstate\u001b[0m\u001b[0;34m.\u001b[0m\u001b[0mfunc_ir\u001b[0m\u001b[0;34m,\u001b[0m\u001b[0;34m\u001b[0m\u001b[0;34m\u001b[0m\u001b[0m\n",
      "\u001b[0;32m~/opt/miniconda3/envs/pyenv/lib/python3.9/site-packages/numba/core/typed_passes.py\u001b[0m in \u001b[0;36mtype_inference_stage\u001b[0;34m(typingctx, interp, args, return_type, locals, raise_errors)\u001b[0m\n\u001b[1;32m     80\u001b[0m         \u001b[0minfer\u001b[0m\u001b[0;34m.\u001b[0m\u001b[0mbuild_constraint\u001b[0m\u001b[0;34m(\u001b[0m\u001b[0;34m)\u001b[0m\u001b[0;34m\u001b[0m\u001b[0;34m\u001b[0m\u001b[0m\n\u001b[1;32m     81\u001b[0m         \u001b[0;31m# return errors in case of partial typing\u001b[0m\u001b[0;34m\u001b[0m\u001b[0;34m\u001b[0m\u001b[0;34m\u001b[0m\u001b[0m\n\u001b[0;32m---> 82\u001b[0;31m         \u001b[0merrs\u001b[0m \u001b[0;34m=\u001b[0m \u001b[0minfer\u001b[0m\u001b[0;34m.\u001b[0m\u001b[0mpropagate\u001b[0m\u001b[0;34m(\u001b[0m\u001b[0mraise_errors\u001b[0m\u001b[0;34m=\u001b[0m\u001b[0mraise_errors\u001b[0m\u001b[0;34m)\u001b[0m\u001b[0;34m\u001b[0m\u001b[0;34m\u001b[0m\u001b[0m\n\u001b[0m\u001b[1;32m     83\u001b[0m         \u001b[0mtypemap\u001b[0m\u001b[0;34m,\u001b[0m \u001b[0mrestype\u001b[0m\u001b[0;34m,\u001b[0m \u001b[0mcalltypes\u001b[0m \u001b[0;34m=\u001b[0m \u001b[0minfer\u001b[0m\u001b[0;34m.\u001b[0m\u001b[0munify\u001b[0m\u001b[0;34m(\u001b[0m\u001b[0mraise_errors\u001b[0m\u001b[0;34m=\u001b[0m\u001b[0mraise_errors\u001b[0m\u001b[0;34m)\u001b[0m\u001b[0;34m\u001b[0m\u001b[0;34m\u001b[0m\u001b[0m\n\u001b[1;32m     84\u001b[0m \u001b[0;34m\u001b[0m\u001b[0m\n",
      "\u001b[0;32m~/opt/miniconda3/envs/pyenv/lib/python3.9/site-packages/numba/core/typeinfer.py\u001b[0m in \u001b[0;36mpropagate\u001b[0;34m(self, raise_errors)\u001b[0m\n\u001b[1;32m   1061\u001b[0m             \u001b[0;31m# Errors can appear when the type set is incomplete; only\u001b[0m\u001b[0;34m\u001b[0m\u001b[0;34m\u001b[0m\u001b[0;34m\u001b[0m\u001b[0m\n\u001b[1;32m   1062\u001b[0m             \u001b[0;31m# raise them when there is no progress anymore.\u001b[0m\u001b[0;34m\u001b[0m\u001b[0;34m\u001b[0m\u001b[0;34m\u001b[0m\u001b[0m\n\u001b[0;32m-> 1063\u001b[0;31m             \u001b[0merrors\u001b[0m \u001b[0;34m=\u001b[0m \u001b[0mself\u001b[0m\u001b[0;34m.\u001b[0m\u001b[0mconstraints\u001b[0m\u001b[0;34m.\u001b[0m\u001b[0mpropagate\u001b[0m\u001b[0;34m(\u001b[0m\u001b[0mself\u001b[0m\u001b[0;34m)\u001b[0m\u001b[0;34m\u001b[0m\u001b[0;34m\u001b[0m\u001b[0m\n\u001b[0m\u001b[1;32m   1064\u001b[0m             \u001b[0mnewtoken\u001b[0m \u001b[0;34m=\u001b[0m \u001b[0mself\u001b[0m\u001b[0;34m.\u001b[0m\u001b[0mget_state_token\u001b[0m\u001b[0;34m(\u001b[0m\u001b[0;34m)\u001b[0m\u001b[0;34m\u001b[0m\u001b[0;34m\u001b[0m\u001b[0m\n\u001b[1;32m   1065\u001b[0m             \u001b[0mself\u001b[0m\u001b[0;34m.\u001b[0m\u001b[0mdebug\u001b[0m\u001b[0;34m.\u001b[0m\u001b[0mpropagate_finished\u001b[0m\u001b[0;34m(\u001b[0m\u001b[0;34m)\u001b[0m\u001b[0;34m\u001b[0m\u001b[0;34m\u001b[0m\u001b[0m\n",
      "\u001b[0;32m~/opt/miniconda3/envs/pyenv/lib/python3.9/site-packages/numba/core/typeinfer.py\u001b[0m in \u001b[0;36mpropagate\u001b[0;34m(self, typeinfer)\u001b[0m\n\u001b[1;32m    152\u001b[0m                                                    lineno=loc.line):\n\u001b[1;32m    153\u001b[0m                 \u001b[0;32mtry\u001b[0m\u001b[0;34m:\u001b[0m\u001b[0;34m\u001b[0m\u001b[0;34m\u001b[0m\u001b[0m\n\u001b[0;32m--> 154\u001b[0;31m                     \u001b[0mconstraint\u001b[0m\u001b[0;34m(\u001b[0m\u001b[0mtypeinfer\u001b[0m\u001b[0;34m)\u001b[0m\u001b[0;34m\u001b[0m\u001b[0;34m\u001b[0m\u001b[0m\n\u001b[0m\u001b[1;32m    155\u001b[0m                 \u001b[0;32mexcept\u001b[0m \u001b[0mForceLiteralArg\u001b[0m \u001b[0;32mas\u001b[0m \u001b[0me\u001b[0m\u001b[0;34m:\u001b[0m\u001b[0;34m\u001b[0m\u001b[0;34m\u001b[0m\u001b[0m\n\u001b[1;32m    156\u001b[0m                     \u001b[0merrors\u001b[0m\u001b[0;34m.\u001b[0m\u001b[0mappend\u001b[0m\u001b[0;34m(\u001b[0m\u001b[0me\u001b[0m\u001b[0;34m)\u001b[0m\u001b[0;34m\u001b[0m\u001b[0;34m\u001b[0m\u001b[0m\n",
      "\u001b[0;32m~/opt/miniconda3/envs/pyenv/lib/python3.9/site-packages/numba/core/typeinfer.py\u001b[0m in \u001b[0;36m__call__\u001b[0;34m(self, typeinfer)\u001b[0m\n\u001b[1;32m    687\u001b[0m             \u001b[0;32mif\u001b[0m \u001b[0mfnty\u001b[0m \u001b[0;32min\u001b[0m \u001b[0mutils\u001b[0m\u001b[0;34m.\u001b[0m\u001b[0mOPERATORS_TO_BUILTINS\u001b[0m\u001b[0;34m:\u001b[0m\u001b[0;34m\u001b[0m\u001b[0;34m\u001b[0m\u001b[0m\n\u001b[1;32m    688\u001b[0m                 \u001b[0mfnty\u001b[0m \u001b[0;34m=\u001b[0m \u001b[0mtypeinfer\u001b[0m\u001b[0;34m.\u001b[0m\u001b[0mresolve_value_type\u001b[0m\u001b[0;34m(\u001b[0m\u001b[0;32mNone\u001b[0m\u001b[0;34m,\u001b[0m \u001b[0mfnty\u001b[0m\u001b[0;34m)\u001b[0m\u001b[0;34m\u001b[0m\u001b[0;34m\u001b[0m\u001b[0m\n\u001b[0;32m--> 689\u001b[0;31m             \u001b[0mself\u001b[0m\u001b[0;34m.\u001b[0m\u001b[0mresolve\u001b[0m\u001b[0;34m(\u001b[0m\u001b[0mtypeinfer\u001b[0m\u001b[0;34m,\u001b[0m \u001b[0mtypeinfer\u001b[0m\u001b[0;34m.\u001b[0m\u001b[0mtypevars\u001b[0m\u001b[0;34m,\u001b[0m \u001b[0mfnty\u001b[0m\u001b[0;34m=\u001b[0m\u001b[0mfnty\u001b[0m\u001b[0;34m)\u001b[0m\u001b[0;34m\u001b[0m\u001b[0;34m\u001b[0m\u001b[0m\n\u001b[0m\u001b[1;32m    690\u001b[0m \u001b[0;34m\u001b[0m\u001b[0m\n\u001b[1;32m    691\u001b[0m \u001b[0;34m\u001b[0m\u001b[0m\n",
      "\u001b[0;32m~/opt/miniconda3/envs/pyenv/lib/python3.9/site-packages/numba/core/typeinfer.py\u001b[0m in \u001b[0;36mresolve\u001b[0;34m(self, typeinfer, typevars, fnty)\u001b[0m\n\u001b[1;32m    570\u001b[0m         \u001b[0mcontext\u001b[0m \u001b[0;34m=\u001b[0m \u001b[0mtypeinfer\u001b[0m\u001b[0;34m.\u001b[0m\u001b[0mcontext\u001b[0m\u001b[0;34m\u001b[0m\u001b[0;34m\u001b[0m\u001b[0m\n\u001b[1;32m    571\u001b[0m \u001b[0;34m\u001b[0m\u001b[0m\n\u001b[0;32m--> 572\u001b[0;31m         \u001b[0mr\u001b[0m \u001b[0;34m=\u001b[0m \u001b[0mfold_arg_vars\u001b[0m\u001b[0;34m(\u001b[0m\u001b[0mtypevars\u001b[0m\u001b[0;34m,\u001b[0m \u001b[0mself\u001b[0m\u001b[0;34m.\u001b[0m\u001b[0margs\u001b[0m\u001b[0;34m,\u001b[0m \u001b[0mself\u001b[0m\u001b[0;34m.\u001b[0m\u001b[0mvararg\u001b[0m\u001b[0;34m,\u001b[0m \u001b[0mself\u001b[0m\u001b[0;34m.\u001b[0m\u001b[0mkws\u001b[0m\u001b[0;34m)\u001b[0m\u001b[0;34m\u001b[0m\u001b[0;34m\u001b[0m\u001b[0m\n\u001b[0m\u001b[1;32m    573\u001b[0m         \u001b[0;32mif\u001b[0m \u001b[0mr\u001b[0m \u001b[0;32mis\u001b[0m \u001b[0;32mNone\u001b[0m\u001b[0;34m:\u001b[0m\u001b[0;34m\u001b[0m\u001b[0;34m\u001b[0m\u001b[0m\n\u001b[1;32m    574\u001b[0m             \u001b[0;31m# Cannot resolve call type until all argument types are known\u001b[0m\u001b[0;34m\u001b[0m\u001b[0;34m\u001b[0m\u001b[0;34m\u001b[0m\u001b[0m\n",
      "\u001b[0;32m~/opt/miniconda3/envs/pyenv/lib/python3.9/site-packages/numba/core/typeinfer.py\u001b[0m in \u001b[0;36mfold_arg_vars\u001b[0;34m(typevars, args, vararg, kws)\u001b[0m\n\u001b[1;32m    506\u001b[0m         \u001b[0margtypes\u001b[0m\u001b[0;34m.\u001b[0m\u001b[0mappend\u001b[0m\u001b[0;34m(\u001b[0m\u001b[0mtypevars\u001b[0m\u001b[0;34m[\u001b[0m\u001b[0mvararg\u001b[0m\u001b[0;34m.\u001b[0m\u001b[0mname\u001b[0m\u001b[0;34m]\u001b[0m\u001b[0;34m)\u001b[0m\u001b[0;34m\u001b[0m\u001b[0;34m\u001b[0m\u001b[0m\n\u001b[1;32m    507\u001b[0m \u001b[0;34m\u001b[0m\u001b[0m\n\u001b[0;32m--> 508\u001b[0;31m     \u001b[0;32mif\u001b[0m \u001b[0;32mnot\u001b[0m \u001b[0mall\u001b[0m\u001b[0;34m(\u001b[0m\u001b[0ma\u001b[0m\u001b[0;34m.\u001b[0m\u001b[0mdefined\u001b[0m \u001b[0;32mfor\u001b[0m \u001b[0ma\u001b[0m \u001b[0;32min\u001b[0m \u001b[0margtypes\u001b[0m\u001b[0;34m)\u001b[0m\u001b[0;34m:\u001b[0m\u001b[0;34m\u001b[0m\u001b[0;34m\u001b[0m\u001b[0m\n\u001b[0m\u001b[1;32m    509\u001b[0m         \u001b[0;32mreturn\u001b[0m\u001b[0;34m\u001b[0m\u001b[0;34m\u001b[0m\u001b[0m\n\u001b[1;32m    510\u001b[0m \u001b[0;34m\u001b[0m\u001b[0m\n",
      "\u001b[0;32m~/opt/miniconda3/envs/pyenv/lib/python3.9/site-packages/numba/core/typeinfer.py\u001b[0m in \u001b[0;36m<genexpr>\u001b[0;34m(.0)\u001b[0m\n\u001b[1;32m    506\u001b[0m         \u001b[0margtypes\u001b[0m\u001b[0;34m.\u001b[0m\u001b[0mappend\u001b[0m\u001b[0;34m(\u001b[0m\u001b[0mtypevars\u001b[0m\u001b[0;34m[\u001b[0m\u001b[0mvararg\u001b[0m\u001b[0;34m.\u001b[0m\u001b[0mname\u001b[0m\u001b[0;34m]\u001b[0m\u001b[0;34m)\u001b[0m\u001b[0;34m\u001b[0m\u001b[0;34m\u001b[0m\u001b[0m\n\u001b[1;32m    507\u001b[0m \u001b[0;34m\u001b[0m\u001b[0m\n\u001b[0;32m--> 508\u001b[0;31m     \u001b[0;32mif\u001b[0m \u001b[0;32mnot\u001b[0m \u001b[0mall\u001b[0m\u001b[0;34m(\u001b[0m\u001b[0ma\u001b[0m\u001b[0;34m.\u001b[0m\u001b[0mdefined\u001b[0m \u001b[0;32mfor\u001b[0m \u001b[0ma\u001b[0m \u001b[0;32min\u001b[0m \u001b[0margtypes\u001b[0m\u001b[0;34m)\u001b[0m\u001b[0;34m:\u001b[0m\u001b[0;34m\u001b[0m\u001b[0;34m\u001b[0m\u001b[0m\n\u001b[0m\u001b[1;32m    509\u001b[0m         \u001b[0;32mreturn\u001b[0m\u001b[0;34m\u001b[0m\u001b[0;34m\u001b[0m\u001b[0m\n\u001b[1;32m    510\u001b[0m \u001b[0;34m\u001b[0m\u001b[0m\n",
      "\u001b[0;32m~/opt/miniconda3/envs/pyenv/lib/python3.9/site-packages/numba/core/typeinfer.py\u001b[0m in \u001b[0;36mdefined\u001b[0;34m(self)\u001b[0m\n\u001b[1;32m    111\u001b[0m         \u001b[0;32mreturn\u001b[0m \u001b[0;34m'%s := %s'\u001b[0m \u001b[0;34m%\u001b[0m \u001b[0;34m(\u001b[0m\u001b[0mself\u001b[0m\u001b[0;34m.\u001b[0m\u001b[0mvar\u001b[0m\u001b[0;34m,\u001b[0m \u001b[0mself\u001b[0m\u001b[0;34m.\u001b[0m\u001b[0mtype\u001b[0m \u001b[0;32mor\u001b[0m \u001b[0;34m\"<undecided>\"\u001b[0m\u001b[0;34m)\u001b[0m\u001b[0;34m\u001b[0m\u001b[0;34m\u001b[0m\u001b[0m\n\u001b[1;32m    112\u001b[0m \u001b[0;34m\u001b[0m\u001b[0m\n\u001b[0;32m--> 113\u001b[0;31m     \u001b[0;34m@\u001b[0m\u001b[0mproperty\u001b[0m\u001b[0;34m\u001b[0m\u001b[0;34m\u001b[0m\u001b[0m\n\u001b[0m\u001b[1;32m    114\u001b[0m     \u001b[0;32mdef\u001b[0m \u001b[0mdefined\u001b[0m\u001b[0;34m(\u001b[0m\u001b[0mself\u001b[0m\u001b[0;34m)\u001b[0m\u001b[0;34m:\u001b[0m\u001b[0;34m\u001b[0m\u001b[0;34m\u001b[0m\u001b[0m\n\u001b[1;32m    115\u001b[0m         \u001b[0;32mreturn\u001b[0m \u001b[0mself\u001b[0m\u001b[0;34m.\u001b[0m\u001b[0mtype\u001b[0m \u001b[0;32mis\u001b[0m \u001b[0;32mnot\u001b[0m \u001b[0;32mNone\u001b[0m\u001b[0;34m\u001b[0m\u001b[0;34m\u001b[0m\u001b[0m\n",
      "\u001b[0;31mKeyboardInterrupt\u001b[0m: "
     ]
    }
   ],
   "source": [
    "#compute msd for both creation and annihilation\n",
    "df_msd_creation,df_bootstrapped_creation = comp_time_averaged_msd(\n",
    "                df_ranges=df_ranges_creation,\n",
    "                DS=DS,\n",
    "                DT=DT,\n",
    "                min_lifetime=200., #ms   # 100. #ms\n",
    "                crop_start_by=40., #ms\n",
    "                max_lagtime=1e5,   #ms\n",
    "                num_bootstrap_samples=100, # 1000,\n",
    "                npartitions=None,\n",
    "                detail=False, # True # True performs expensive computation to determine an effective number of observations\n",
    "                bins='auto')  # ,min_numobs=None,npartitions=None,printing=True,**kwargs)\n",
    "\n",
    "df_msd_annihiln,df_bootstrapped_annihiln = comp_time_averaged_msd(\n",
    "                df_ranges=df_ranges_annihiln,\n",
    "                DS=DS,\n",
    "                DT=DT,\n",
    "                min_lifetime=200., #ms   # 100. #ms\n",
    "                crop_start_by=40., #ms\n",
    "                max_lagtime=1e5,   #ms\n",
    "                num_bootstrap_samples=100, # 1000,\n",
    "                npartitions=None,\n",
    "                detail=False, # True # True performs expensive computation to determine an effective number of observations\n",
    "                bins='auto')  # ,min_numobs=None,npartitions=None,printing=True,**kwargs)"
   ]
  },
  {
   "cell_type": "code",
   "execution_count": null,
   "id": "ffb5099a",
   "metadata": {
    "ExecuteTime": {
     "end_time": "2022-10-14T23:44:51.050668Z",
     "start_time": "2022-10-14T23:44:51.050652Z"
    }
   },
   "outputs": [],
   "source": [
    "#record\n",
    "dict_msd_fk = dict(df_msd_creation=df_msd_creation,\n",
    "                   df_bootstrapped_creation=df_bootstrapped_creation,\n",
    "                   df_msd_annihiln=df_msd_annihiln,\n",
    "                   df_bootstrapped_annihiln=df_bootstrapped_annihiln\n",
    "                  )"
   ]
  },
  {
   "cell_type": "code",
   "execution_count": null,
   "id": "2ef1aa2d",
   "metadata": {
    "ExecuteTime": {
     "end_time": "2022-10-14T23:44:51.051974Z",
     "start_time": "2022-10-14T23:44:51.051958Z"
    }
   },
   "outputs": [],
   "source": [
    "#LR model trajectories\n",
    "#per 001\n",
    "annihil_range_dir_lr = \"/Users/timothytyree/Documents/GitHub/care/notebooks/Data/from_wjr/positions_lr/200x200/tippos_per_001_annihilation_range_timeseries.pkl\"\n",
    "creation_range_dir_lr = \"/Users/timothytyree/Documents/GitHub/care/notebooks/Data/from_wjr/positions_lr//200x200/tippos_per_001_creation_range_timeseries.pkl\"\n",
    "assert os.path.exists(annihil_range_dir_lr)\n",
    "assert os.path.exists(creation_range_dir_lr)\n"
   ]
  },
  {
   "cell_type": "code",
   "execution_count": null,
   "id": "9b5e849a",
   "metadata": {
    "ExecuteTime": {
     "end_time": "2022-10-14T23:44:51.053614Z",
     "start_time": "2022-10-14T23:44:51.053598Z"
    }
   },
   "outputs": [],
   "source": [
    "#TODO: wrap this cell to foo.  pass it over a list of folders to measure Area-law dependence of apparent D of spiral tips.\n",
    "DS = 0.0025 # cm / px\n",
    "DT = 1e-3 # s / frame\n",
    "fps=np.around (1/DT,  5)\n",
    "width=200\n",
    "height=200\n",
    "data_annihil=load_from_pickle(annihil_range_dir_lr)\n",
    "data_creation=load_from_pickle(creation_range_dir_lr)\n",
    "df_ranges_annihiln = pd.concat(data_annihil)\n",
    "df_ranges_creation = pd.concat(data_creation)\n",
    "print(f\"num. trials in cached annihilation ranges: {df_ranges_annihiln['trial_num'].max()}\")\n",
    "print(f\"num. trials in cached creation ranges: {df_ranges_creation['trial_num'].max()}\")\n",
    "\n",
    "#compute msd for both creation and annihilation\n",
    "df_msd_creation,df_bootstrapped_creation = comp_time_averaged_msd(\n",
    "                df_ranges=df_ranges_creation,\n",
    "                DS=DS,\n",
    "                DT=DT,\n",
    "                min_lifetime=100., #ms   # 100. #ms\n",
    "                crop_start_by=40., #ms\n",
    "                max_lagtime=1e5,   #ms\n",
    "                num_bootstrap_samples=100, # 1000,\n",
    "                npartitions=None,\n",
    "                detail=False, # True # True performs expensive computation to determine an effective number of observations\n",
    "                bins='auto')  # ,min_numobs=None,npartitions=None,printing=True,**kwargs)\n",
    "\n",
    "df_msd_annihiln,df_bootstrapped_annihiln = comp_time_averaged_msd(\n",
    "                df_ranges=df_ranges_annihiln,\n",
    "                DS=DS,\n",
    "                DT=DT,\n",
    "                min_lifetime=100., #ms   # 100. #ms\n",
    "                crop_start_by=40., #ms\n",
    "                max_lagtime=1e5,   #ms\n",
    "                num_bootstrap_samples=100, # 1000,\n",
    "                npartitions=None,\n",
    "                detail=False, # True # True performs expensive computation to determine an effective number of observations\n",
    "                bins='auto')  # ,min_numobs=None,npartitions=None,printing=True,**kwargs)\n",
    "\n",
    "#record\n",
    "dict_msd_lr= dict(df_msd_creation=df_msd_creation,\n",
    "                   df_bootstrapped_creation=df_bootstrapped_creation,\n",
    "                   df_msd_annihiln=df_msd_annihiln,\n",
    "                   df_bootstrapped_annihiln=df_bootstrapped_annihiln\n",
    "                  )"
   ]
  },
  {
   "cell_type": "code",
   "execution_count": null,
   "id": "70897aa4",
   "metadata": {
    "ExecuteTime": {
     "end_time": "2022-10-14T23:44:51.054859Z",
     "start_time": "2022-10-14T23:44:51.054844Z"
    }
   },
   "outputs": [],
   "source": [
    "msd_dir_lr = \"/Users/timothytyree/Documents/GitHub/care/notebooks/Data/from_wjr/positions_lr/200x200/tippos_per_001_msd.pkl\"\n",
    "save_to_pickle(msd_dir_lr,dict_msd_lr)\n",
    "print(f\"{msd_dir_lr=}\")"
   ]
  },
  {
   "cell_type": "code",
   "execution_count": 187,
   "id": "26c4b3e7",
   "metadata": {
    "ExecuteTime": {
     "end_time": "2022-09-19T02:19:54.861101Z",
     "start_time": "2022-09-19T02:19:54.245289Z"
    }
   },
   "outputs": [
    {
     "name": "stdout",
     "output_type": "stream",
     "text": [
      "msd_dir_fk='/Users/timothytyree/Documents/GitHub/care/notebooks/Data/from_wjr/positions_lr/200x200/tippos_per_c_005_msd.pkl'\n"
     ]
    }
   ],
   "source": [
    "# msd_dir_fk = \"/Users/timothytyree/Documents/GitHub/care/notebooks/Data/from_wjr/fk200x200/tippos_per_c_001_msd.pkl\"\n",
    "msd_dir_fk = \"/Users/timothytyree/Documents/GitHub/care/notebooks/Data/from_wjr/positions_lr/200x200/tippos_per_c_005_msd.pkl\"\n",
    "save_to_pickle(msd_dir_fk,dict_msd_fk)\n",
    "print(f\"{msd_dir_fk=}\")"
   ]
  },
  {
   "cell_type": "markdown",
   "id": "1c5208e2",
   "metadata": {},
   "source": [
    "# DONE: plot time averaged MSD computed via Fourier method described in Ref. 1"
   ]
  },
  {
   "cell_type": "markdown",
   "id": "aa47c678",
   "metadata": {},
   "source": [
    "Ref. 1:\n",
    "- DOI: 10.1051/sfn/201112010\n",
    "- https://www.neutron-sciences.org/articles/sfn/abs/2011/01/sfn201112010/sfn201112010.html"
   ]
  },
  {
   "cell_type": "code",
   "execution_count": 12,
   "id": "6e3fd9e3",
   "metadata": {
    "ExecuteTime": {
     "end_time": "2022-10-14T23:45:32.789915Z",
     "start_time": "2022-10-14T23:45:32.164635Z"
    }
   },
   "outputs": [],
   "source": [
    "msd_dir_lr = \"/Users/timothytyree/Documents/GitHub/care/notebooks/Data/from_wjr/positions_lr/200x200/tippos_per_001_msd.pkl\"\n",
    "msd_dir_fk = \"/Users/timothytyree/Documents/GitHub/care/notebooks/Data/from_wjr/positions_lr/200x200/tippos_per_c_005_msd.pkl\"\n",
    "dict_msd_lr = load_from_pickle(msd_dir_lr)\n",
    "dict_msd_fk = load_from_pickle(msd_dir_fk)"
   ]
  },
  {
   "cell_type": "code",
   "execution_count": 13,
   "id": "0347130c",
   "metadata": {
    "ExecuteTime": {
     "end_time": "2022-10-14T23:45:33.363943Z",
     "start_time": "2022-10-14T23:45:33.325065Z"
    }
   },
   "outputs": [],
   "source": [
    "df=dict_msd_fk['df_bootstrapped_creation']\n",
    "x_values_fk = df['lagt'].values\n",
    "y_values_fk = df['msd'].values\n",
    "Delta_y_values_fk = df['Delta_msd'].values\n",
    "\n",
    "#extract the xy values for either of the full models\n",
    "# df = dict_msd_lr['df_bootstrapped_annihiln']\n",
    "df = dict_msd_lr['df_bootstrapped_creation']"
   ]
  },
  {
   "cell_type": "code",
   "execution_count": null,
   "id": "6f6f3ace",
   "metadata": {},
   "outputs": [],
   "source": []
  },
  {
   "cell_type": "code",
   "execution_count": null,
   "id": "96b53db5",
   "metadata": {},
   "outputs": [],
   "source": []
  },
  {
   "cell_type": "code",
   "execution_count": null,
   "id": "37677ee2",
   "metadata": {},
   "outputs": [],
   "source": []
  },
  {
   "cell_type": "code",
   "execution_count": 14,
   "id": "8931811f",
   "metadata": {
    "ExecuteTime": {
     "end_time": "2022-10-14T23:45:35.067231Z",
     "start_time": "2022-10-14T23:45:35.017637Z"
    }
   },
   "outputs": [],
   "source": [
    "#extract the xy values for either of the full models\n",
    "# df = dict_msd_fk['df_bootstrapped_annihiln']\n",
    "df = dict_msd_fk['df_bootstrapped_creation']\n",
    "x_values_fk = df['lagt'].values\n",
    "y_values_fk = df['msd'].values\n",
    "Delta_y_values_fk = df['Delta_msd'].values\n",
    "\n",
    "#extract the xy values for either of the full models\n",
    "# df = dict_msd_lr['df_bootstrapped_annihiln']\n",
    "df = dict_msd_lr['df_bootstrapped_creation']\n",
    "x_values_lr = df['lagt'].values\n",
    "y_values_lr = df['msd'].values\n",
    "Delta_y_values_lr = df['Delta_msd'].values\n"
   ]
  },
  {
   "cell_type": "code",
   "execution_count": 15,
   "id": "b7adfcba",
   "metadata": {
    "ExecuteTime": {
     "end_time": "2022-10-14T23:45:35.653975Z",
     "start_time": "2022-10-14T23:45:35.599372Z"
    }
   },
   "outputs": [
    {
     "name": "stdout",
     "output_type": "stream",
     "text": [
      "(Fenton-Karma) msd powerlaw fit of msd from lagt=0.1 to 3:\n",
      "m = 1.001994 +/- 0.015057\n",
      "M = 0.005766 +/- 0.000384 Hz/cm^2; B=0.005826 +/- 0.000076\n",
      "RMSE=0.0008 Hz/cm^2; R^2=0.9921; N=138\n",
      "D = 0.0014 +/- 0.0001 cm^2/s\n",
      "\n",
      "(Luo-Rudy) msd powerlaw fit of msd from lagt=0.06 to 0.2:\n",
      "m = 0.981067 +/- 0.044880\n",
      "M = 0.148857 +/- 0.005591 Hz/cm^2; B=0.143485 +/- 0.007501\n",
      "RMSE=0.0011 Hz/cm^2; R^2=0.9750; N=49\n",
      "D = 0.0372 +/- 0.0014 cm^2/s\n"
     ]
    }
   ],
   "source": [
    "#TODO: powerlaw fits of msd versus t in a range that looks reasonable \n",
    "# xmin_fk=0.01\n",
    "# xmax_fk=10\n",
    "xmin_fk=0.1\n",
    "xmax_fk=3\n",
    "boo=(x_values_fk>=xmin_fk)&(x_values_fk<xmax_fk)\n",
    "print(f\"(Fenton-Karma) msd powerlaw fit of msd from lagt={xmin_fk} to {xmax_fk}:\")\n",
    "dict_fit_fk = print_fit_power_law(x=x_values_fk[boo],y=y_values_fk[boo])\n",
    "D_fk = dict_fit_fk['M']/4\n",
    "Delta_D_fk = dict_fit_fk['Delta_M']/4\n",
    "print(f\"D = {D_fk:.4f} +/- {Delta_D_fk:.4f} cm^2/s\")\n",
    "\n",
    "xmin_lr=0.06\n",
    "# xmin_lr=0.1\n",
    "# xmax_lr=0.1\n",
    "xmax_lr=0.2\n",
    "# xmax_lr=0.3\n",
    "boo=(x_values_lr>=xmin_lr)&(x_values_lr<xmax_lr)\n",
    "print(f\"\\n(Luo-Rudy) msd powerlaw fit of msd from lagt={xmin_lr} to {xmax_lr}:\")\n",
    "dict_fit_lr = print_fit_power_law(x=x_values_lr[boo],y=y_values_lr[boo])\n",
    "D_lr = dict_fit_lr['M']/4\n",
    "Delta_D_lr = dict_fit_lr['Delta_M']/4\n",
    "print(f\"D = {D_lr:.4f} +/- {Delta_D_lr:.4f} cm^2/s\")"
   ]
  },
  {
   "cell_type": "code",
   "execution_count": 16,
   "id": "b315ee58",
   "metadata": {
    "ExecuteTime": {
     "end_time": "2022-10-14T23:45:39.523768Z",
     "start_time": "2022-10-14T23:45:39.478809Z"
    }
   },
   "outputs": [],
   "source": [
    "#GOAL: dev mvp figure for fig. 2a re: the slope of the autocorrelation function at long time scales is brownian\n",
    "#DONE: add 95% CI\n",
    "#DONE: compute expected brownian values / i.e. D = slope / 4\n",
    "#TODO: choose reasonable min/max for powerlaw fit equivalent brownian values\n",
    "#TODO: plot expected brownian values plus offset to show msd is parallel with brownian at some point...\n",
    "#TODO(optionally, if ^that all remains sus...): crop the janky ending\n",
    "#TODO: recompute msd for lr using longer lived particles\n",
    "#  Q: does ^this make straighter for longer?"
   ]
  },
  {
   "cell_type": "code",
   "execution_count": 17,
   "id": "66a4cd5c",
   "metadata": {
    "ExecuteTime": {
     "end_time": "2022-10-14T23:45:41.097400Z",
     "start_time": "2022-10-14T23:45:40.318200Z"
    }
   },
   "outputs": [
    {
     "data": {
      "image/png": "[encoded data removed]",
      "text/plain": [
       "<Figure size 600x400 with 1 Axes>"
      ]
     },
     "metadata": {},
     "output_type": "display_data"
    }
   ],
   "source": [
    "#plot the values on a log-log plot along with an ideal brownian particle of equal diffusion coefficient#TODO: plot expected brownian values plus offset to show msd is parallel with brownian at some point...\n",
    "lw=2\n",
    "alpha=0.9\n",
    "fontsize=18\n",
    "use_loglog=True\n",
    "#check if msd=0 at lagt=0\n",
    "fig,ax=plt.subplots(figsize=(6,4))\n",
    "ax.plot(x_values_fk,y_values_fk,c='C0',lw=lw,alpha=alpha,label='Fenton-Karma')\n",
    "ax.fill_between(x_values_fk,y_values_fk-Delta_y_values_fk,y_values_fk+Delta_y_values_fk,color='C0',lw=lw,alpha=alpha/2)\n",
    "ax.plot(x_values_lr,y_values_lr,c='C1',lw=lw,alpha=alpha,label='Luo-Rudy')\n",
    "ax.fill_between(x_values_lr,y_values_lr-Delta_y_values_lr,y_values_lr+Delta_y_values_lr,color='C1',lw=lw,alpha=alpha/2)\n",
    "ax.set_ylim((1.0178650359332904e-05, 0.14507306398356945))\n",
    "#plot expected brownian values plus offset to show msd is parallel with brownian at some point...\n",
    "xv1=np.linspace(0.01,0.5,10)\n",
    "xv2=np.linspace(0.1,5,10)\n",
    "ax.plot(xv1,dict_fit_lr['M']*xv1+0.,'k-',lw=2,alpha=0.7)\n",
    "ax.plot(xv2,dict_fit_fk['M']*xv2+0.,'k-',lw=2,alpha=0.7)\n",
    "#format_plot\n",
    "format_plot(ax=ax,xlabel='Time Lag (s)',ylabel=r'MSD (cm$^2$)',fontsize=fontsize,use_loglog=use_loglog)\n",
    "ax.tick_params(top=True, right=True,direction='in',which='both')\n",
    "ax.legend(fontsize=fontsize-2,frameon=False)\n",
    "plt.show()\n",
    "# ax.get_ylim()"
   ]
  },
  {
   "cell_type": "markdown",
   "id": "4336ba8d",
   "metadata": {
    "ExecuteTime": {
     "end_time": "2022-09-19T04:08:12.993406Z",
     "start_time": "2022-09-19T04:08:12.931890Z"
    }
   },
   "source": [
    "# demonstration of attractive behavior, which deviates from the brownian behavior"
   ]
  },
  {
   "cell_type": "markdown",
   "id": "bd1a5bfa",
   "metadata": {},
   "source": [
    "## old notes on the parameter settings i eventually decided on...\n"
   ]
  },
  {
   "cell_type": "code",
   "execution_count": 18,
   "id": "27b48821",
   "metadata": {
    "ExecuteTime": {
     "end_time": "2022-10-14T23:47:50.339865Z",
     "start_time": "2022-10-14T23:47:50.281327Z"
    }
   },
   "outputs": [
    {
     "name": "stdout",
     "output_type": "stream",
     "text": [
      "/home/timothytyree/Documents/GitHub/bgmc/python/data/local_results/neighbors_1_uniformic_0_fc_2_r_0.1_D_0.7_L_10_kappa_1500_varkappa_5_N_2/Log/pbc_particle_log1_log.csv\n"
     ]
    }
   ],
   "source": [
    "tavg1=4#8#4 #moving average window, in ms\n",
    "\n",
    "# tavg2=12#24 #ms #savgol_filter time window performed on R \n",
    "tavg2=24# #ms #savgol_filter time window performed on R  #12 ms was no longer smooth\n",
    "# tavg2=10.# #ms #savgol_filter time window performed on R  #12 ms was no longer smooth\n",
    "\n",
    "#particle model token trajectories\n",
    "# # #neighbors=0\n",
    "# input_fn_lst = [\n",
    "#     '/home/timothytyree/Documents/GitHub/bgmc/python/data/local_results/euic_False_fc_2_r_0.1_D_0_L_10_kappa_0_varkappa_0/Log/pbc_particle_log1_log.csv',\n",
    "#     '/home/timothytyree/Documents/GitHub/bgmc/python/data/local_results/euic_False_fc_2_r_0.1_D_0_L_10_kappa_1500_varkappa_5/Log/pbc_particle_log2_log.csv',\n",
    "#     '/home/timothytyree/Documents/GitHub/bgmc/python/data/local_results/euic_False_fc_2_r_0.1_D_2_L_10_kappa_0_varkappa_0/Log/pbc_particle_log5_log.csv',\n",
    "#     '/home/timothytyree/Documents/GitHub/bgmc/python/data/local_results/euic_False_fc_2_r_0.1_D_2_L_10_kappa_1500_varkappa_0/Log/pbc_particle_log5_log.csv',\n",
    "#     '/home/timothytyree/Documents/GitHub/bgmc/python/data/local_results/euic_False_fc_2_r_0.1_D_2_L_10_kappa_1500_varkappa_5/Log/pbc_particle_log5_log.csv'\n",
    "# ]\n",
    "\n",
    "\n",
    "# # #neighbors=1\n",
    "# input_fn='/home/timothytyree/Documents/GitHub/bgmc/python/data/local_results/neighbors_1_uniformic_0_fc_2_r_0.1_D_0_L_10_kappa_1500_varkappa_5_N_2/Log/pbc_particle_log2_log.csv' \n",
    "# # # input_fn='/home/timothytyree/Documents/GitHub/bgmc/python/data/local_results/neighbors_1_uniformic_0_fc_2_r_0.1_D_0_L_10_kappa_1500_varkappa_5/Log/pbc_particle_log2_log.csv'  \n",
    "# # # input_fn='/home/timothytyree/Documents/GitHub/bgmc/python/data/local_results/neighbors_1_uniformic_0_fc_2_r_0.1_D_2_L_10_kappa_1500_varkappa_5/Log/pbc_particle_log2_log.csv'\n",
    "\n",
    "\n",
    "#two particle control with diffusion\n",
    "input_fn_lst = [\n",
    "    '/home/timothytyree/Documents/GitHub/bgmc/python/data/local_results/neighbors_1_uniformic_0_fc_2_r_0.1_D_0.7_L_10_kappa_1500_varkappa_5_N_2/Log/pbc_particle_log1_log.csv'\n",
    "]\n",
    "\n",
    "#choose a file for initialization/testing \n",
    "input_fn=input_fn_lst[-1]\n",
    "print(input_fn)\n",
    "#choose parameters\n",
    "pid_col='pid_explicit'\n",
    "width=10\n",
    "ds=10. #cm for the whole domain\n",
    "tmin=0.\n",
    "c='C3'\n",
    "\n",
    "\n",
    "##########################\n",
    "# Perform Averaging\n",
    "##########################\n",
    "tavg1=0\n",
    "tavg2=14#todo 0\n",
    "#one token trajectory file for the fenton karma model and the luo-rudy model\n",
    "input_fn_lst=[\n",
    "    # c='C0'\n",
    "    # #token FK at DT=0.4 (src: TT)\n",
    "    \"/home/timothytyree/Documents/GitHub/care/notebooks/Data/initial-conditions-fk-200x200/param_set_8_ds_5.0_tmax_10_diffCoef_0.0005/Log/ic200x200.0.2_traj_sr_400_mem_0.csv\",\n",
    "    # c='C1'\n",
    "    # #tokenLR at DT=0.5 (src: TT)\n",
    "    \"/home/timothytyree/Documents/GitHub/care/notebooks/Data/initial-conditions-suite-3-LR/param_qu_tmax_30_Ko_5.4_diffCoef_0.0005_dt_0.5/trajectories/ic002.11_traj_sr_600_mem_0.csv\",   \n",
    "]\n",
    "\n",
    "kwargs_particle=dict(\n",
    "        max_dtmax_thresh=0,  #ms\n",
    "        max_Rfinal_thresh=0.2,  #cm\n",
    "        min_duration_thresh=15,  #ms\n",
    "        npartitions=10,#None,\n",
    "        width=10,\n",
    "        height=10,\n",
    "        ds=10,\n",
    "        use_drop_shorter_than=False,\n",
    "        drop_shorter_than=0,  #ms\n",
    "        tmin=0.,  #ms\n",
    "        pid_col='pid_explicit',\n",
    "        t_col='t',\n",
    "        npartitions2=1,\n",
    "        printing=True)\n",
    "\n",
    "kwargs_full=dict(\n",
    "        max_dtmax_thresh = 0,      #ms\n",
    "        max_Rfinal_thresh = 0.2,   #cm\n",
    "        min_duration_thresh = 40,  #ms\n",
    "        npartitions=None,\n",
    "        width=200,\n",
    "        height=200,\n",
    "        ds=5,\n",
    "        use_drop_shorter_than=True,\n",
    "        drop_shorter_than=40, #ms\n",
    "        tmin=100., #ms\n",
    "        pid_col='particle',\n",
    "        t_col='t',\n",
    "        npartitions2=1,\n",
    "        printing=True)\n"
   ]
  },
  {
   "cell_type": "markdown",
   "id": "6c95bd16",
   "metadata": {},
   "source": [
    "## load the range timeseries from the full models"
   ]
  },
  {
   "cell_type": "code",
   "execution_count": 19,
   "id": "3e1df147",
   "metadata": {
    "ExecuteTime": {
     "end_time": "2022-10-14T23:47:52.589045Z",
     "start_time": "2022-10-14T23:47:51.955193Z"
    }
   },
   "outputs": [
    {
     "name": "stdout",
     "output_type": "stream",
     "text": [
      "num. trials in cached annihilation ranges: 640\n",
      "num. trials in cached creation ranges: 638\n"
     ]
    }
   ],
   "source": [
    "#LR model trajectories\n",
    "#per 001\n",
    "annihil_range_dir_lr = \"/Users/timothytyree/Documents/GitHub/care/notebooks/Data/from_wjr/positions_lr/200x200/tippos_per_001_annihilation_range_timeseries.pkl\"\n",
    "creation_range_dir_lr = \"/Users/timothytyree/Documents/GitHub/care/notebooks/Data/from_wjr/positions_lr//200x200/tippos_per_001_creation_range_timeseries.pkl\"\n",
    "assert os.path.exists(annihil_range_dir_lr)\n",
    "assert os.path.exists(creation_range_dir_lr)\n",
    "# DS = 0.0025 # cm / px\n",
    "DT = 1e-3 # s / frame\n",
    "data_annihil=load_from_pickle(annihil_range_dir_lr)\n",
    "data_creation=load_from_pickle(creation_range_dir_lr)\n",
    "df_ranges_annihiln = pd.concat(data_annihil)\n",
    "df_ranges_creation = pd.concat(data_creation)\n",
    "print(f\"num. trials in cached annihilation ranges: {df_ranges_annihiln['trial_num'].max()}\")\n",
    "print(f\"num. trials in cached creation ranges: {df_ranges_creation['trial_num'].max()}\")\n",
    "#TODO: dev dRdt routine\n",
    "#TODO: eval dRdt routine\n",
    "# #TODO: record\n",
    "# dict_dRdt_lr= dict(df_dRdt_creation=df_dRdt_creation,\n",
    "#                    df_bootstrapped_creation=df_bootstrapped_creation,\n",
    "#                    df_dRdt_annihiln=df_dRdt_annihiln,\n",
    "#                    df_bootstrapped_annihiln=df_bootstrapped_annihiln\n",
    "#                   )"
   ]
  },
  {
   "cell_type": "code",
   "execution_count": 22,
   "id": "320e3f29",
   "metadata": {
    "ExecuteTime": {
     "end_time": "2022-10-14T23:48:45.037781Z",
     "start_time": "2022-10-14T23:48:44.991924Z"
    }
   },
   "outputs": [],
   "source": [
    "bins=np.linspace(1e-6,3,50)\n",
    "kwargs_dRdt=dict(tavg2=14, #ms\n",
    "            min_minlifetime=40,#100.,#200.,#40., #ms  #\n",
    "            min_minrange = 0.2, #cm\n",
    "            max_tdeath=100.,#200.,#40., #ms\n",
    "            num_bootstrap_samples=100, # 1000,\n",
    "            bins=bins, #'auto',\n",
    "            min_numobs=None,npartitions=None,printing=True)\n"
   ]
  },
  {
   "cell_type": "code",
   "execution_count": 634,
   "id": "e7424fc5",
   "metadata": {
    "ExecuteTime": {
     "end_time": "2022-09-19T21:48:23.580214Z",
     "start_time": "2022-09-19T21:47:50.166069Z"
    }
   },
   "outputs": [
    {
     "name": "stdout",
     "output_type": "stream",
     "text": [
      "identified 2787 annihilation events that look reasonable.\n",
      "computing radial velocities...\n",
      "Progress: |██████████████████████████████████████████████████| 100.0% Complete\n",
      "computing bootstrapped mean over 2787 spiral tip trajectories...\n"
     ]
    },
    {
     "name": "stderr",
     "output_type": "stream",
     "text": [
      "/Users/timothytyree/opt/miniconda3/envs/pyenv/lib/python3.9/site-packages/statsmodels/compat/pandas.py:61: FutureWarning: pandas.Int64Index is deprecated and will be removed from pandas in a future version. Use pandas.Index with the appropriate dtype instead.\n",
      "  from pandas import Int64Index as NumericIndex\n",
      "/Users/timothytyree/opt/miniconda3/envs/pyenv/lib/python3.9/site-packages/statsmodels/compat/pandas.py:61: FutureWarning: pandas.Int64Index is deprecated and will be removed from pandas in a future version. Use pandas.Index with the appropriate dtype instead.\n",
      "  from pandas import Int64Index as NumericIndex\n"
     ]
    },
    {
     "name": "stdout",
     "output_type": "stream",
     "text": [
      "identified 2142 annihilation events that look reasonable.\n",
      "computing radial velocities...\n",
      "Progress: |██████████████████████████████████████████████████| 100.0% Complete\n",
      "computing bootstrapped mean over 2142 spiral tip trajectories...\n"
     ]
    },
    {
     "name": "stderr",
     "output_type": "stream",
     "text": [
      "/Users/timothytyree/opt/miniconda3/envs/pyenv/lib/python3.9/site-packages/statsmodels/compat/pandas.py:61: FutureWarning: pandas.Int64Index is deprecated and will be removed from pandas in a future version. Use pandas.Index with the appropriate dtype instead.\n",
      "  from pandas import Int64Index as NumericIndex\n",
      "/Users/timothytyree/opt/miniconda3/envs/pyenv/lib/python3.9/site-packages/statsmodels/compat/pandas.py:61: FutureWarning: pandas.Int64Index is deprecated and will be removed from pandas in a future version. Use pandas.Index with the appropriate dtype instead.\n",
      "  from pandas import Int64Index as NumericIndex\n"
     ]
    }
   ],
   "source": [
    "use_cache=True\n",
    "if not use_cache:\n",
    "    #sort by particle and then by time\n",
    "    df_ranges=df_ranges_annihiln\\\n",
    "        .sort_values(by=['trial_num','annihilation_index','tdeath'])\n",
    "    df_ranges.reset_index(inplace=True)\n",
    "    df_dRdt_annihiln,df_bootstrapped_annihiln = comp_radial_velocities(df_ranges,DT,**kwargs_dRdt)\n",
    "    df_ranges=df_ranges_creation\\\n",
    "        .sort_values(by=['trial_num','annihilation_index','tdeath'])\n",
    "    df_ranges.reset_index(inplace=True)\n",
    "    df_dRdt_creation,df_bootstrapped_creation = comp_radial_velocities(df_ranges,DT,**kwargs_dRdt)\n",
    "    #record\n",
    "    dict_dRdt_lr= dict(df_dRdt_creation=df_dRdt_creation,\n",
    "                       df_bootstrapped_creation=df_bootstrapped_creation,\n",
    "                       df_dRdt_annihiln=df_dRdt_annihiln,\n",
    "                       df_bootstrapped_annihiln=df_bootstrapped_annihiln\n",
    "                      )"
   ]
  },
  {
   "cell_type": "code",
   "execution_count": null,
   "id": "a3129a5c",
   "metadata": {},
   "outputs": [],
   "source": []
  },
  {
   "cell_type": "code",
   "execution_count": 23,
   "id": "f028ae36",
   "metadata": {
    "ExecuteTime": {
     "end_time": "2022-10-14T23:49:19.594779Z",
     "start_time": "2022-10-14T23:49:18.411100Z"
    }
   },
   "outputs": [
    {
     "name": "stdout",
     "output_type": "stream",
     "text": [
      "num. trials in cached annihilation ranges: 79\n",
      "num. trials in cached creation ranges: 79\n"
     ]
    }
   ],
   "source": [
    "#FK model trajectories\n",
    "# #per 005\n",
    "# annihil_range_dir_fk = \"/Users/timothytyree/Documents/GitHub/care/notebooks/Data/from_wjr/positions_fk/200x200/tippos_per_c_005_annihilation_range_timeseries.pkl\"\n",
    "# creation_range_dir_fk = \"/Users/timothytyree/Documents/GitHub/care/notebooks/Data/from_wjr/positions_fk/200x200/tippos_per_c_005_creation_range_timeseries.pkl\" # 79 trials\n",
    "# DT = 5e-3 # s / frame\n",
    "#per 001\n",
    "annihil_range_dir_fk = \"/Users/timothytyree/Documents/GitHub/care/notebooks/Data/from_wjr/positions_fk/200x200/tippos_per_c_001_annihilation_range_timeseries.pkl\"\n",
    "creation_range_dir_fk = \"/Users/timothytyree/Documents/GitHub/care/notebooks/Data/from_wjr/positions_fk/200x200/tippos_per_c_001_creation_range_timeseries.pkl\"\n",
    "DT = 1e-3 # s / frame\n",
    "# DS = 0.0025 # cm / px\n",
    "assert os.path.exists(annihil_range_dir_fk)\n",
    "assert os.path.exists(creation_range_dir_fk)\n",
    "data_annihil=load_from_pickle(annihil_range_dir_fk)\n",
    "data_creation=load_from_pickle(creation_range_dir_fk)\n",
    "df_ranges_annihiln = pd.concat(data_annihil)\n",
    "df_ranges_creation = pd.concat(data_creation)\n",
    "print(f\"num. trials in cached annihilation ranges: {df_ranges_annihiln['trial_num'].max()}\")\n",
    "print(f\"num. trials in cached creation ranges: {df_ranges_creation['trial_num'].max()}\")\n",
    "#TODO: dev dRdt routine\n",
    "#TODO: eval dRdt routine\n",
    "# #TODO: record\n",
    "# dict_dRdt_fk= dict(df_dRdt_creation=df_dRdt_creation,\n",
    "#                    df_bootstrapped_creation=df_bootstrapped_creation,\n",
    "#                    df_dRdt_annihiln=df_dRdt_annihiln,\n",
    "#                    df_bootstrapped_annihiln=df_bootstrapped_annihiln\n",
    "#                   )"
   ]
  },
  {
   "cell_type": "code",
   "execution_count": 24,
   "id": "6c4b0deb",
   "metadata": {
    "ExecuteTime": {
     "end_time": "2022-10-14T23:51:39.747551Z",
     "start_time": "2022-10-14T23:49:20.767385Z"
    }
   },
   "outputs": [
    {
     "name": "stdout",
     "output_type": "stream",
     "text": [
      "identified 4187 annihilation events that look reasonable.\n",
      "computing radial velocities...\n",
      "Progress: |██████████████████████████████████████████████████| 100.0% Complete\n",
      "computing bootstrapped mean over 4187 spiral tip trajectories...\n"
     ]
    },
    {
     "name": "stderr",
     "output_type": "stream",
     "text": [
      "/Users/timothytyree/opt/miniconda3/envs/pyenv/lib/python3.9/site-packages/statsmodels/compat/pandas.py:61: FutureWarning: pandas.Int64Index is deprecated and will be removed from pandas in a future version. Use pandas.Index with the appropriate dtype instead.\n",
      "  from pandas import Int64Index as NumericIndex\n",
      "/Users/timothytyree/opt/miniconda3/envs/pyenv/lib/python3.9/site-packages/statsmodels/compat/pandas.py:61: FutureWarning: pandas.Int64Index is deprecated and will be removed from pandas in a future version. Use pandas.Index with the appropriate dtype instead.\n",
      "  from pandas import Int64Index as NumericIndex\n"
     ]
    },
    {
     "name": "stdout",
     "output_type": "stream",
     "text": [
      "identified 4336 annihilation events that look reasonable.\n",
      "computing radial velocities...\n",
      "Progress: |██████████████████████████████████████████████████| 100.0% Complete\n",
      "computing bootstrapped mean over 4336 spiral tip trajectories...\n"
     ]
    },
    {
     "name": "stderr",
     "output_type": "stream",
     "text": [
      "/Users/timothytyree/opt/miniconda3/envs/pyenv/lib/python3.9/site-packages/statsmodels/compat/pandas.py:61: FutureWarning: pandas.Int64Index is deprecated and will be removed from pandas in a future version. Use pandas.Index with the appropriate dtype instead.\n",
      "  from pandas import Int64Index as NumericIndex\n",
      "/Users/timothytyree/opt/miniconda3/envs/pyenv/lib/python3.9/site-packages/statsmodels/compat/pandas.py:61: FutureWarning: pandas.Int64Index is deprecated and will be removed from pandas in a future version. Use pandas.Index with the appropriate dtype instead.\n",
      "  from pandas import Int64Index as NumericIndex\n"
     ]
    }
   ],
   "source": [
    "kwargs_dRdt=dict(tavg2=14, #ms\n",
    "            min_minlifetime=200.,#ms  # #40.,  takes forever to run... \n",
    "            min_minrange = 0.2, #cm\n",
    "            max_tdeath=100.,#200.,#40., #ms\n",
    "            num_bootstrap_samples=100, # 1000,\n",
    "            bins=bins, #'auto',\n",
    "            min_numobs=None,npartitions=None,printing=True)\n",
    "\n",
    "#sort by particle and then by time\n",
    "df_ranges=df_ranges_annihiln\\\n",
    "    .sort_values(by=['trial_num','annihilation_index','tdeath'])\n",
    "df_ranges.reset_index(inplace=True)\n",
    "df_dRdt_annihiln,df_bootstrapped_annihiln = comp_radial_velocities(df_ranges,DT,**kwargs_dRdt)\n",
    "df_ranges=df_ranges_creation\\\n",
    "    .sort_values(by=['trial_num','annihilation_index','tdeath'])\n",
    "df_ranges.reset_index(inplace=True)\n",
    "df_dRdt_creation,df_bootstrapped_creation = comp_radial_velocities(df_ranges,DT,**kwargs_dRdt)\n",
    "#record\n",
    "dict_dRdt_fk= dict(df_dRdt_creation=df_dRdt_creation,\n",
    "                   df_bootstrapped_creation=df_bootstrapped_creation,\n",
    "                   df_dRdt_annihiln=df_dRdt_annihiln,\n",
    "                   df_bootstrapped_annihiln=df_bootstrapped_annihiln\n",
    "                  )"
   ]
  },
  {
   "cell_type": "markdown",
   "id": "4b6ff82d",
   "metadata": {},
   "source": [
    "## plot from cache"
   ]
  },
  {
   "cell_type": "code",
   "execution_count": 34,
   "id": "be75c00a",
   "metadata": {
    "ExecuteTime": {
     "end_time": "2022-10-14T23:52:15.653774Z",
     "start_time": "2022-10-14T23:52:15.612885Z"
    }
   },
   "outputs": [],
   "source": [
    "def print_fit_ols(x,y,printing=True):\n",
    "    \"\"\"print_fit_power_law prints fit to power law by ordinary least squares (ols).\n",
    "    Delta_... indicates the radial distance to the 95% CI resulting from ols.\n",
    "    print_fit_power_law returns a dictionary of floats with the following schema:\n",
    "\n",
    "    schema:\n",
    "        m: exponent\n",
    "        M: magnitude\n",
    "        B: y-intercept\n",
    "        rmse: root mean squared error\n",
    "        Rsq: R squared\n",
    "        num_obs: number of observations\n",
    "\n",
    "    Example Usage:\n",
    "dict_fit = print_fit_ols(x,y,printing=True)\n",
    "    \"\"\"\n",
    "    dict_fit=compute_95CI_ols(x,y)\n",
    "    yhat=dict_fit['b']+dict_fit['m']*x\n",
    "    rmse=np.sqrt(np.mean((yhat-y)**2))\n",
    "    num_obs = x.shape[0]\n",
    "    #record\n",
    "    dict_fit['num_obs'] = num_obs\n",
    "    dict_fit['rmse'] = rmse\n",
    "    dict_fit['Rsq'] = dict_fit['Rsquared'] #alias\n",
    "    if printing:\n",
    "        print_dict(dict_fit)\n",
    "    return dict_fit"
   ]
  },
  {
   "cell_type": "code",
   "execution_count": 35,
   "id": "6567a48b",
   "metadata": {
    "ExecuteTime": {
     "end_time": "2022-10-14T23:52:16.329285Z",
     "start_time": "2022-10-14T23:52:16.084058Z"
    }
   },
   "outputs": [],
   "source": [
    "use_cache=True\n",
    "if use_cache:\n",
    "    dRdt_dir_fk='/Users/timothytyree/Documents/GitHub/care/notebooks/Data/from_wjr/positions_fk/200x200/tippos_per_c_001_radial_velocities.pkl'\n",
    "    dRdt_dir_lr='/Users/timothytyree/Documents/GitHub/care/notebooks/Data/from_wjr/positions_lr/200x200/tippos_per_001_radial_velocities.pkl'\n",
    "    dict_dRdt_fk = load_from_pickle(dRdt_dir_fk)\n",
    "    dict_dRdt_lr = load_from_pickle(dRdt_dir_lr)"
   ]
  },
  {
   "cell_type": "code",
   "execution_count": null,
   "id": "9d365905",
   "metadata": {},
   "outputs": [],
   "source": []
  },
  {
   "cell_type": "code",
   "execution_count": null,
   "id": "ae90b251",
   "metadata": {},
   "outputs": [],
   "source": []
  },
  {
   "cell_type": "code",
   "execution_count": 36,
   "id": "f1cd1d87",
   "metadata": {
    "ExecuteTime": {
     "end_time": "2022-10-14T23:52:17.347777Z",
     "start_time": "2022-10-14T23:52:17.301769Z"
    }
   },
   "outputs": [],
   "source": [
    "#attempt to measure a reasonable value for the attraction coefficient\n",
    "df_bootstrapped_lr=dict_dRdt_lr['df_bootstrapped_annihiln']\n",
    "x_values_lr = 1/df_bootstrapped_lr['R'].values\n",
    "y_values_lr = df_bootstrapped_lr['dRdt'].values\n",
    "Delta_y_values_lr = df_bootstrapped_lr['Delta_dRdt'].values\n",
    "\n",
    "df_bootstrapped_fk=dict_dRdt_fk['df_bootstrapped_annihiln']\n",
    "x_values_fk = 1/df_bootstrapped_fk['R'].values\n",
    "y_values_fk = df_bootstrapped_fk['dRdt'].values\n",
    "Delta_y_values_fk = df_bootstrapped_fk['Delta_dRdt'].values"
   ]
  },
  {
   "cell_type": "code",
   "execution_count": 37,
   "id": "c6ada4d6",
   "metadata": {
    "ExecuteTime": {
     "end_time": "2022-10-14T23:52:17.742426Z",
     "start_time": "2022-10-14T23:52:17.689822Z"
    }
   },
   "outputs": [
    {
     "name": "stdout",
     "output_type": "stream",
     "text": [
      "\n",
      "(Fenton-Karma) linear fit of dRdt from 1/R=0.0 to 10:\n",
      "m=-4.550823917522961\n",
      "Delta_m=0.8299672832720622\n",
      "b=-0.7883724177008169\n",
      "Delta_b=1.5044154352605568\n",
      "Rsquared=0.7674370424368964\n",
      "num_obs=37\n",
      "rmse=3.1625294434003433\n",
      "Rsq=0.7674370424368964\n",
      "ahat = 2.2754 +/- 0.4150 cm^2/s\n",
      "\n",
      "(Luo-Rudy) linear fit of dRdt from 1/R=0.0 to 10:\n",
      "m=-8.087927742495596\n",
      "Delta_m=0.4593631505563615\n",
      "b=-2.310333356275457\n",
      "Delta_b=0.7439196689530453\n",
      "Rsquared=0.9635892116333213\n",
      "num_obs=47\n",
      "rmse=1.8623782485431748\n",
      "Rsq=0.9635892116333213\n",
      "ahat = 4.0440 +/- 0.2297 cm^2/s\n"
     ]
    }
   ],
   "source": [
    "xmin_fk=0.0\n",
    "# xmax_fk=3\n",
    "# xmin_fk=3\n",
    "xmax_fk=10\n",
    "boo=(x_values_fk>=xmin_fk)&(x_values_fk<xmax_fk)\n",
    "print(f\"\\n(Fenton-Karma) linear fit of dRdt from 1/R={xmin_fk} to {xmax_fk}:\")\n",
    "dict_fit_fk = print_fit_ols(x=x_values_fk[boo],y=y_values_fk[boo],printing=True)\n",
    "ahat_fk = -dict_fit_fk['m']/2\n",
    "Delta_ahat_fk = dict_fit_fk['Delta_m']/2\n",
    "print(f\"ahat = {ahat_fk:.4f} +/- {Delta_ahat_fk:.4f} cm^2/s\")\n",
    "\n",
    "xmin_lr=0.0\n",
    "# xmax_lr=3\n",
    "# xmin_lr=3\n",
    "xmax_lr=10\n",
    "boo=(x_values_lr>=xmin_lr)&(x_values_lr<xmax_lr)\n",
    "print(f\"\\n(Luo-Rudy) linear fit of dRdt from 1/R={xmin_lr} to {xmax_lr}:\")\n",
    "dict_fit_lr = print_fit_ols(x=x_values_lr[boo],y=y_values_lr[boo],printing=True)\n",
    "ahat_lr = -dict_fit_lr['m']/2\n",
    "Delta_ahat_lr = dict_fit_lr['Delta_m']/2\n",
    "print(f\"ahat = {ahat_lr:.4f} +/- {Delta_ahat_lr:.4f} cm^2/s\")"
   ]
  },
  {
   "cell_type": "code",
   "execution_count": 38,
   "id": "521bd8da",
   "metadata": {
    "ExecuteTime": {
     "end_time": "2022-10-14T23:52:18.225732Z",
     "start_time": "2022-10-14T23:52:18.174144Z"
    }
   },
   "outputs": [
    {
     "name": "stdout",
     "output_type": "stream",
     "text": [
      "\n",
      "(Luo-Rudy) msd linear fit of dRdt from 1/R=0.0 to 10:\n",
      "m=-8.087927742495596\n",
      "Delta_m=0.4593631505563615\n",
      "b=-2.310333356275457\n",
      "Delta_b=0.7439196689530453\n",
      "Rsquared=0.9635892116333213\n",
      "num_obs=47\n",
      "rmse=1.8623782485431748\n",
      "Rsq=0.9635892116333213\n",
      "ahat = 4.0440 +/- 0.2297 cm^2/s\n"
     ]
    }
   ],
   "source": [
    "xmin_lr=0.0\n",
    "# xmax_lr=3\n",
    "# xmin_lr=3\n",
    "xmax_lr=10\n",
    "boo=(x_values_lr>=xmin_lr)&(x_values_lr<xmax_lr)\n",
    "print(f\"\\n(Luo-Rudy) msd linear fit of dRdt from 1/R={xmin_lr} to {xmax_lr}:\")\n",
    "dict_fit_lr = print_fit_ols(x=x_values_lr[boo],y=y_values_lr[boo],printing=True)\n",
    "ahat_lr = -dict_fit_lr['m']/2\n",
    "Delta_ahat_lr = dict_fit_lr['Delta_m']/2\n",
    "print(f\"ahat = {ahat_lr:.4f} +/- {Delta_ahat_lr:.4f} cm^2/s\")"
   ]
  },
  {
   "cell_type": "code",
   "execution_count": 39,
   "id": "032c0f46",
   "metadata": {
    "ExecuteTime": {
     "end_time": "2022-10-14T23:52:18.655956Z",
     "start_time": "2022-10-14T23:52:18.604736Z"
    }
   },
   "outputs": [],
   "source": [
    "# print(f\"Fenton-Karma fit:\")\n",
    "# # boo = \n",
    "# # dict_fit_fk = print_fit_ols(x=x_values_fk[boo],y=y_values_fk[boo],printing=True)\n",
    "# # dict_fit_fk = print_fit_ols(x=x_values_fk,y=y_values_fk,printing=True)\n",
    "\n",
    "# print(f\"\\nLuo-Rudy fit:\")\n",
    "# dict_fit_lr = print_fit_ols(x=x_values_lr[boo],y=y_values_lr[boo],printing=True)\n",
    "# # dict_fit_lr = print_fit_ols(x=x_values_lr,y=y_values_lr,printing=True)\n"
   ]
  },
  {
   "cell_type": "code",
   "execution_count": null,
   "id": "348664df",
   "metadata": {},
   "outputs": [],
   "source": []
  },
  {
   "cell_type": "code",
   "execution_count": 41,
   "id": "92f3faf7",
   "metadata": {
    "ExecuteTime": {
     "end_time": "2022-10-14T23:52:30.864916Z",
     "start_time": "2022-10-14T23:52:30.649113Z"
    }
   },
   "outputs": [
    {
     "data": {
      "image/png": "[encoded data removed]",
      "text/plain": [
       "<Figure size 600x400 with 1 Axes>"
      ]
     },
     "metadata": {},
     "output_type": "display_data"
    }
   ],
   "source": [
    "#plot the values on a log-log plot along with an ideal brownian particle of equal diffusion coefficient#TODO: plot expected brownian values plus offset to show msd is parallel with brownian at some point...\n",
    "lw=2\n",
    "alpha=0.9\n",
    "fontsize=18\n",
    "use_loglog=True\n",
    "#check if msd=0 at lagt=0\n",
    "fig,ax=plt.subplots(figsize=(6,4))\n",
    "\n",
    "#plot the full models results\n",
    "ax.plot(x_values_fk,y_values_fk,c='C0',lw=lw,alpha=alpha,label='Fenton-Karma')\n",
    "ax.fill_between(x_values_fk,y_values_fk-Delta_y_values_fk,y_values_fk+Delta_y_values_fk,color='C0',lw=lw,alpha=alpha/2)\n",
    "ax.plot(x_values_lr,y_values_lr,c='C1',lw=lw,alpha=alpha,label='Luo-Rudy')\n",
    "ax.fill_between(x_values_lr,y_values_lr-Delta_y_values_lr,y_values_lr+Delta_y_values_lr,color='C1',lw=lw,alpha=alpha/2)\n",
    "\n",
    "#TODO: plot ols fits and print the apparent attraction coefficients\n",
    "\n",
    "# # ax.set_ylim((1.0178650359332904e-05, 0.14507306398356945))\n",
    "# #plot expected values plus offset to show msd is parallel with brownian at some point...\n",
    "# xv=np.linspace(0.0,10,100)\n",
    "# ax.plot(xv,dict_fit_lr['m']*xv+dict_fit_lr['b'],'k-',lw=2,alpha=0.7)\n",
    "# ax.plot(xv,dict_fit_fk['m']*xv+dict_fit_fk['b'],'k-',lw=2,alpha=0.7)\n",
    "# # ax.plot(xv,dict_fit_lr['m']*xv+0.,'r-',lw=2,alpha=0.7)\n",
    "# # ax.plot(xv,dict_fit_fk['m']*xv+0.,'k-',lw=2,alpha=0.7)\n",
    "\n",
    "xv1=np.linspace(0.01,10,10)\n",
    "ax.plot(xv1,xv1*0.,'k--',lw=2,alpha=1.)\n",
    "\n",
    "\n",
    "#format_plot\n",
    "format_plot(ax, xlabel=r'$1/R$ (1/cm)', ylabel=r'$dR/dt$ (cm/s)', fontsize=fontsize, use_loglog=False)\n",
    "ax.tick_params(top=True, right=True,direction='in',which='both')\n",
    "ax.legend(fontsize=fontsize-2,frameon=False)\n",
    "ax.set_ylim([-90,30])\n",
    "plt.show()\n",
    "# ax.get_ylim()"
   ]
  },
  {
   "cell_type": "code",
   "execution_count": 43,
   "id": "f2c7120c",
   "metadata": {
    "ExecuteTime": {
     "end_time": "2022-10-14T23:52:55.222284Z",
     "start_time": "2022-10-14T23:52:55.183433Z"
    }
   },
   "outputs": [],
   "source": [
    "#TODO: attempt to measure a reasonable value for the attraction coefficient\n",
    "df_bootstrapped_lr_dagger=dict_dRdt_lr['df_bootstrapped_creation']\n",
    "x_values_lr_dagger = 1/df_bootstrapped_lr_dagger['R'].values\n",
    "y_values_lr_dagger = -df_bootstrapped_lr_dagger['dRdt'].values\n",
    "Delta_y_values_lr_dagger = df_bootstrapped_lr_dagger['Delta_dRdt'].values\n",
    "\n",
    "df_bootstrapped_fk_dagger=dict_dRdt_fk['df_bootstrapped_creation']\n",
    "x_values_fk_dagger = 1/df_bootstrapped_fk_dagger['R'].values\n",
    "y_values_fk_dagger = -df_bootstrapped_fk_dagger['dRdt'].values\n",
    "Delta_y_values_fk_dagger = df_bootstrapped_fk_dagger['Delta_dRdt'].values"
   ]
  },
  {
   "cell_type": "code",
   "execution_count": 44,
   "id": "796d4ab6",
   "metadata": {
    "ExecuteTime": {
     "end_time": "2022-10-14T23:52:57.391819Z",
     "start_time": "2022-10-14T23:52:57.341612Z"
    }
   },
   "outputs": [
    {
     "name": "stdout",
     "output_type": "stream",
     "text": [
      "\n",
      "(Fenton-Karma) linear fit of dRdt from 1/R=0.0 to 10: (Creation)\n",
      "m=9.310993680303415\n",
      "Delta_m=0.8278023935479061\n",
      "b=-1.6016969018476477\n",
      "Delta_b=1.3694108517449324\n",
      "Rsquared=0.9187170630749573\n",
      "num_obs=45\n",
      "rmse=3.3253649701370316\n",
      "Rsq=0.9187170630749573\n",
      "ahat = 4.6555 +/- 0.4139 cm^2/s\n",
      "\n",
      "(Luo-Rudy) linear fit of dRdt from 1/R=0.0 to 10: (Creation)\n",
      "m=9.474432100893113\n",
      "Delta_m=1.138208466888485\n",
      "b=6.313476423148073\n",
      "Delta_b=1.8646119645784094\n",
      "Rsquared=0.858146734918594\n",
      "num_obs=46\n",
      "rmse=4.600352216339196\n",
      "Rsq=0.858146734918594\n",
      "ahat = 4.7372 +/- 0.5691 cm^2/s\n"
     ]
    }
   ],
   "source": [
    "xmin_fk=0.0\n",
    "# xmax_fk=3\n",
    "# xmin_fk=3\n",
    "xmax_fk=10\n",
    "boo=(x_values_fk_dagger>=xmin_fk)&(x_values_fk_dagger<xmax_fk)\n",
    "print(f\"\\n(Fenton-Karma) linear fit of dRdt from 1/R={xmin_fk} to {xmax_fk}: (Creation)\")\n",
    "dict_fit_fk = print_fit_ols(x=x_values_fk_dagger[boo],y=y_values_fk_dagger[boo],printing=True)\n",
    "ahat_fk = dict_fit_fk['m']/2\n",
    "Delta_ahat_fk = dict_fit_fk['Delta_m']/2\n",
    "print(f\"ahat = {ahat_fk:.4f} +/- {Delta_ahat_fk:.4f} cm^2/s\")\n",
    "\n",
    "xmin_lr=0.0\n",
    "# xmax_lr=3\n",
    "# xmin_lr=3\n",
    "xmax_lr=10\n",
    "boo=(x_values_lr_dagger>=xmin_lr)&(x_values_lr_dagger<xmax_lr)\n",
    "print(f\"\\n(Luo-Rudy) linear fit of dRdt from 1/R={xmin_lr} to {xmax_lr}: (Creation)\")\n",
    "dict_fit_lr = print_fit_ols(x=x_values_lr_dagger[boo],y=y_values_lr_dagger[boo],printing=True)\n",
    "ahat_lr = dict_fit_lr['m']/2\n",
    "Delta_ahat_lr = dict_fit_lr['Delta_m']/2\n",
    "print(f\"ahat = {ahat_lr:.4f} +/- {Delta_ahat_lr:.4f} cm^2/s\")"
   ]
  },
  {
   "cell_type": "code",
   "execution_count": 47,
   "id": "94327c8c",
   "metadata": {
    "ExecuteTime": {
     "end_time": "2022-10-14T23:53:52.362161Z",
     "start_time": "2022-10-14T23:53:52.168256Z"
    },
    "run_control": {
     "marked": true
    }
   },
   "outputs": [
    {
     "data": {
      "image/png": "[encoded data removed]",
      "text/plain": [
       "<Figure size 600x400 with 1 Axes>"
      ]
     },
     "metadata": {},
     "output_type": "display_data"
    }
   ],
   "source": [
    "#plot the values on a log-log plot along with an ideal brownian particle of equal diffusion coefficient#TODO: plot expected brownian values plus offset to show msd is parallel with brownian at some point...\n",
    "lw=2\n",
    "alpha=0.9\n",
    "fontsize=18\n",
    "use_loglog=True\n",
    "#check if msd=0 at lagt=0\n",
    "fig,ax=plt.subplots(figsize=(6,4))\n",
    "\n",
    "#plot the full models results\n",
    "ax.plot(x_values_fk,y_values_fk,c='C0',lw=lw,alpha=alpha,label='Fenton-Karma (Annihilation)')\n",
    "ax.fill_between(x_values_fk,y_values_fk-Delta_y_values_fk,y_values_fk+Delta_y_values_fk,color='C0',lw=lw,alpha=alpha/2)\n",
    "ax.plot(x_values_lr,y_values_lr,c='C1',lw=lw,alpha=alpha,label='Luo-Rudy (Annihilation)')\n",
    "ax.fill_between(x_values_lr,y_values_lr-Delta_y_values_lr,y_values_lr+Delta_y_values_lr,color='C1',lw=lw,alpha=alpha/2)\n",
    "\n",
    "#plot the dagger of the full models results\n",
    "ax.plot(x_values_fk_dagger,y_values_fk_dagger,c='k',lw=lw,alpha=alpha,label='Fenton-Karma (Creation)')\n",
    "ax.fill_between(x_values_fk_dagger,y_values_fk_dagger-Delta_y_values_fk_dagger,y_values_fk_dagger+Delta_y_values_fk_dagger,color='k',lw=lw,alpha=alpha/2)\n",
    "ax.plot(x_values_lr_dagger,y_values_lr_dagger,c='r',lw=lw,alpha=alpha,label='Luo-Rudy (Creation)')\n",
    "ax.fill_between(x_values_lr_dagger,y_values_lr_dagger-Delta_y_values_lr_dagger,y_values_lr_dagger+Delta_y_values_lr_dagger,color='r',lw=lw,alpha=alpha/2)\n",
    "\n",
    "\n",
    "#TODO(later): plot ols fits and print the apparent attraction coefficients\n",
    "\n",
    "# ax.set_ylim((1.0178650359332904e-05, 0.14507306398356945))\n",
    "# #plot expected brownian values plus offset to show msd is parallel with brownian at some point...\n",
    "# xv2=np.linspace(0.1,5,10)\n",
    "xv1=np.linspace(0.01,10,10)\n",
    "ax.plot(xv1,xv1*0.,'k--',lw=2,alpha=1.)\n",
    "# ax.plot(xv2,dict_fit_fk['M']*xv2+0.,'k-',lw=2,alpha=0.7)\n",
    "\n",
    "\n",
    "#format_plot\n",
    "format_plot(ax, xlabel=r'$1/R$ (1/cm)', ylabel=r'$dR/dt$ (cm/s)', fontsize=fontsize, use_loglog=False)\n",
    "ax.tick_params(top=True, right=True,direction='in',which='both')\n",
    "# ax.legend(fontsize=fontsize-2,frameon=False)\n",
    "ax.legend(fontsize=fontsize-2,frameon=False,loc=(1.04,0.3))\n",
    "plt.show()\n",
    "# ax.get_ylim()"
   ]
  },
  {
   "cell_type": "code",
   "execution_count": null,
   "id": "04dd2041",
   "metadata": {},
   "outputs": [],
   "source": []
  },
  {
   "cell_type": "code",
   "execution_count": 46,
   "id": "38e2a616",
   "metadata": {
    "ExecuteTime": {
     "end_time": "2022-10-14T23:53:14.237650Z",
     "start_time": "2022-10-14T23:53:14.181112Z"
    }
   },
   "outputs": [],
   "source": [
    "saving=False\n",
    "if saving:\n",
    "    #both as pickles\n",
    "    dRdt_dir_fk = \"/Users/timothytyree/Documents/GitHub/care/notebooks/Data/from_wjr/positions_fk/200x200/tippos_per_c_001_radial_velocities.pkl\"\n",
    "    save_to_pickle(dRdt_dir_fk,dict_dRdt_fk)\n",
    "    print(f\"{dRdt_dir_fk=}\")\n",
    "\n",
    "    dRdt_dir_lr = \"/Users/timothytyree/Documents/GitHub/care/notebooks/Data/from_wjr/positions_lr/200x200/tippos_per_001_radial_velocities.pkl\"\n",
    "    save_to_pickle(dRdt_dir_lr,dict_dRdt_lr)\n",
    "    print(f\"{dRdt_dir_lr=}\")"
   ]
  },
  {
   "cell_type": "code",
   "execution_count": 616,
   "id": "e64a57fe",
   "metadata": {
    "ExecuteTime": {
     "end_time": "2022-09-19T21:33:46.648082Z",
     "start_time": "2022-09-19T21:33:46.595170Z"
    }
   },
   "outputs": [],
   "source": [
    "# fig,ax=plt.subplots()\n",
    "# # df_bootstrapped_fk.plot.scatter(x='R',y='dRdt',c='C0',s=20,alpha=0.7,ax=ax)\n",
    "# # df_bootstrapped_lr.plot.scatter(x='R',y='dRdt',c='C1',s=20,alpha=0.7,ax=ax)\n",
    "# df_bootstrapped_annihiln.plot.scatter(x='R',y='dRdt',c='k',s=20,alpha=0.7,ax=ax)\n",
    "# df_bootstrapped_creation.plot.scatter(x='R',y='dRdt',c='C1',s=20,alpha=0.7,ax=ax)\n",
    "# format_plot(ax=ax,xlabel=r'$R$ (cm)',ylabel=r'$dR/dt$ (cm/s)')\n",
    "# plt.show()"
   ]
  },
  {
   "cell_type": "code",
   "execution_count": 621,
   "id": "9a6b8e23",
   "metadata": {
    "ExecuteTime": {
     "end_time": "2022-09-19T21:39:05.446814Z",
     "start_time": "2022-09-19T21:39:05.386001Z"
    }
   },
   "outputs": [],
   "source": [
    "# bins=np.linspace(1e-6,3,50)\n",
    "# kwargs_dRdt=dict(tavg2=14, #ms\n",
    "#             min_minlifetime=200.,#40., #ms  #100.\n",
    "#             min_minrange = 0.2, #cm\n",
    "#             max_tdeath=200.,#40., #ms\n",
    "#             num_bootstrap_samples=100, # 1000,\n",
    "#             bins=bins, #'auto',\n",
    "#             min_numobs=None,npartitions=None,printing=True)\n",
    "\n",
    "# #sort by particle and then by time\n",
    "# df_ranges=df_ranges_annihiln\\\n",
    "#     .sort_values(by=['trial_num','annihilation_index','tdeath'])\n",
    "# df_ranges.reset_index(inplace=True)\n",
    "# df_dRdt_annihiln,df_bootstrapped_annihiln = comp_radial_velocities(df_ranges,DT,**kwargs_dRdt)\n",
    "# df_ranges=df_ranges_creation\\\n",
    "#     .sort_values(by=['trial_num','annihilation_index','tdeath'])\n",
    "# df_ranges.reset_index(inplace=True)\n",
    "# df_dRdt_creation,df_bootstrapped_creation = comp_radial_velocities(df_ranges,DT,**kwargs_dRdt)\n",
    "# #record\n",
    "# dict_dRdt_fk= dict(df_dRdt_creation=df_dRdt_creation,\n",
    "#                    df_bootstrapped_creation=df_bootstrapped_creation,\n",
    "#                    df_dRdt_annihiln=df_dRdt_annihiln,\n",
    "#                    df_bootstrapped_annihiln=df_bootstrapped_annihiln\n",
    "#                   )"
   ]
  },
  {
   "cell_type": "markdown",
   "id": "97d9e355",
   "metadata": {
    "heading_collapsed": true
   },
   "source": [
    "## DONE: plot the boostrapped average $dR/dt$ versus $1/R$"
   ]
  },
  {
   "cell_type": "code",
   "execution_count": 557,
   "id": "2d46156f",
   "metadata": {
    "ExecuteTime": {
     "end_time": "2022-09-19T20:43:47.601011Z",
     "start_time": "2022-09-19T20:43:47.551549Z"
    },
    "hidden": true
   },
   "outputs": [],
   "source": [
    "dRdt_dir_fk='/Users/timothytyree/Documents/GitHub/care/notebooks/Data/from_wjr/positions_fk/200x200/tippos_per_c_001_radial_velocities.pkl'\n",
    "dRdt_dir_lr='/Users/timothytyree/Documents/GitHub/care/notebooks/Data/from_wjr/positions_lr/200x200/tippos_per_001_radial_velocities.pkl'\n",
    "#TODO: plot ^that as potential final produce\n",
    "#TODO(failing ^that): try increasing tavg2 to 24 ms..."
   ]
  },
  {
   "cell_type": "code",
   "execution_count": 588,
   "id": "41e11bfd",
   "metadata": {
    "ExecuteTime": {
     "end_time": "2022-09-19T21:01:22.232649Z",
     "start_time": "2022-09-19T21:01:22.000213Z"
    },
    "hidden": true
   },
   "outputs": [],
   "source": [
    "#extract the xy values for either of the full models\n",
    "dict_dRdt_fk = load_from_pickle(dRdt_dir_fk)\n",
    "df = dict_dRdt_fk['df_bootstrapped_annihiln']\n",
    "# df = dict_dRdt_fk['df_bootstrapped_creation']\n",
    "x_values_fk = df['invR'].values\n",
    "y_values_fk = df['dRdt'].values\n",
    "Delta_y_values_fk = df['Delta_dRdt'].values\n",
    "\n",
    "#extract the xy values for either of the full models\n",
    "dict_dRdt_lr = load_from_pickle(dRdt_dir_lr)\n",
    "df = dict_dRdt_lr['df_bootstrapped_annihiln']\n",
    "# df = dict_dRdt_lr['df_bootstrapped_creation']\n",
    "x_values_lr = df['invR'].values\n",
    "y_values_lr = df['dRdt'].values\n",
    "Delta_y_values_lr = df['Delta_dRdt'].values"
   ]
  },
  {
   "cell_type": "code",
   "execution_count": 591,
   "id": "1803be98",
   "metadata": {
    "ExecuteTime": {
     "end_time": "2022-09-19T21:02:16.310563Z",
     "start_time": "2022-09-19T21:02:16.271871Z"
    },
    "hidden": true
   },
   "outputs": [],
   "source": [
    "# df_dRdt=dict_dRdt_fk['df_dRdt_annihiln']\n",
    "# df_dRdt.head()"
   ]
  },
  {
   "cell_type": "code",
   "execution_count": 596,
   "id": "48a27fb7",
   "metadata": {
    "ExecuteTime": {
     "end_time": "2022-09-19T21:07:51.469814Z",
     "start_time": "2022-09-19T21:07:15.865749Z"
    },
    "hidden": true
   },
   "outputs": [
    {
     "name": "stderr",
     "output_type": "stream",
     "text": [
      "/Users/timothytyree/opt/miniconda3/envs/pyenv/lib/python3.9/site-packages/statsmodels/compat/pandas.py:61: FutureWarning: pandas.Int64Index is deprecated and will be removed from pandas in a future version. Use pandas.Index with the appropriate dtype instead.\n",
      "  from pandas import Int64Index as NumericIndex\n",
      "/Users/timothytyree/opt/miniconda3/envs/pyenv/lib/python3.9/site-packages/statsmodels/compat/pandas.py:61: FutureWarning: pandas.Int64Index is deprecated and will be removed from pandas in a future version. Use pandas.Index with the appropriate dtype instead.\n",
      "  from pandas import Int64Index as NumericIndex\n",
      "/Users/timothytyree/opt/miniconda3/envs/pyenv/lib/python3.9/site-packages/statsmodels/compat/pandas.py:61: FutureWarning: pandas.Int64Index is deprecated and will be removed from pandas in a future version. Use pandas.Index with the appropriate dtype instead.\n",
      "  from pandas import Int64Index as NumericIndex\n",
      "/Users/timothytyree/opt/miniconda3/envs/pyenv/lib/python3.9/site-packages/statsmodels/compat/pandas.py:61: FutureWarning: pandas.Int64Index is deprecated and will be removed from pandas in a future version. Use pandas.Index with the appropriate dtype instead.\n",
      "  from pandas import Int64Index as NumericIndex\n"
     ]
    }
   ],
   "source": [
    "# df_dRdt=dict_dRdt_fk['df_bootstrapped_creation']\n",
    "# #scatter of dRdt versus 1/R\n",
    "# boo_null = df_ranges['xR'].isnull()\n",
    "# bootdeath=df_ranges['tdeath']>=max_tdeath\n",
    "# df_dRdt = df_ranges[(~boo_null)&(~bootdeath)].copy()\n",
    "# df_dRdt['invR'] = 1/df_dRdt['R'].values\n",
    "# df_dRdt['dRdt'] = df_dRdt['vR'].values #orient axes\n",
    "# if printing:\n",
    "#     print(f\"\\ncomputing bootstrapped mean over {num_steps} spiral tip trajectories...\")\n",
    "\n",
    "df_dRdt=dict_dRdt_lr['df_dRdt_annihiln']\n",
    "bins=np.linspace(1e-6,3,50)\n",
    "df_bootstrapped_lr=bin_and_bootstrap_xy_values_parallel(\n",
    "#                                x=df_dRdt['invR'].values,\n",
    "#                                x=1./df_dRdt['xR'].values,\n",
    "                               x=df_dRdt['xR'].values,\n",
    "                               y=-df_dRdt['dRdt'].values, # minus bc correcting sign for time inversion...\n",
    "                               xlabel='R',\n",
    "                               ylabel='dRdt',\n",
    "                               bins=bins)\n",
    "\n",
    "df_dRdt=dict_dRdt_fk['df_dRdt_annihiln']\n",
    "bins=np.linspace(1e-6,3,50)\n",
    "df_bootstrapped_fk=bin_and_bootstrap_xy_values_parallel(\n",
    "#                                x=df_dRdt['invR'].values,\n",
    "#                                x=1./df_dRdt['xR'].values,\n",
    "                               x=df_dRdt['xR'].values,\n",
    "                               y=-df_dRdt['dRdt'].values, # minus bc correcting sign for time inversion...\n",
    "                               xlabel='R',\n",
    "                               ylabel='dRdt',\n",
    "                               bins=bins)\n",
    "#                                min_numobs=min_numobs,\n",
    "#                                num_bootstrap_samples=num_bootstrap_samples, # 1000,\n",
    "#                                npartitions=npartitions,\n",
    "#                                use_test=False,test_val=0,printing=False)#,**kwargs)\n",
    "# return df_dRdt,df_bootstrapped"
   ]
  },
  {
   "cell_type": "code",
   "execution_count": 600,
   "id": "aa8d37c9",
   "metadata": {
    "ExecuteTime": {
     "end_time": "2022-09-19T21:13:35.724711Z",
     "start_time": "2022-09-19T21:13:35.677368Z"
    },
    "hidden": true
   },
   "outputs": [],
   "source": [
    "#TODO: dev mvp for fig. 2c NOW!\n",
    "#TODO: remake dRdt bootstrapped traces using t=24 ms smoothing time and with maxt before death set to 200 ms instead of 40 ms"
   ]
  },
  {
   "cell_type": "code",
   "execution_count": 601,
   "id": "a9e88b98",
   "metadata": {
    "ExecuteTime": {
     "end_time": "2022-09-19T21:13:38.906017Z",
     "start_time": "2022-09-19T21:13:38.615632Z"
    },
    "hidden": true
   },
   "outputs": [
    {
     "data": {
      "text/plain": [
       "True"
      ]
     },
     "execution_count": 601,
     "metadata": {},
     "output_type": "execute_result"
    },
    {
     "data": {
      "image/png": "[encoded data removed]",
      "text/plain": [
       "<Figure size 640x480 with 1 Axes>"
      ]
     },
     "metadata": {},
     "output_type": "display_data"
    }
   ],
   "source": [
    "fig,ax=plt.subplots()\n",
    "df_bootstrapped_fk.plot.scatter(x='R',y='dRdt',c='C0',s=20,alpha=0.7,ax=ax)\n",
    "df_bootstrapped_lr.plot.scatter(x='R',y='dRdt',c='C1',s=20,alpha=0.7,ax=ax)\n",
    "format_plot(ax=ax,xlabel=r'$R$ (cm)',ylabel=r'$dR/dt$ (cm/s)')"
   ]
  },
  {
   "cell_type": "code",
   "execution_count": 595,
   "id": "c544ae13",
   "metadata": {
    "ExecuteTime": {
     "end_time": "2022-09-19T21:04:43.815194Z",
     "start_time": "2022-09-19T21:04:43.763984Z"
    },
    "hidden": true
   },
   "outputs": [],
   "source": [
    "# df_bootstrapped.plot.scatter(x='invR',y='dRdt',c='k',s=20,alpha=0.7)"
   ]
  },
  {
   "cell_type": "code",
   "execution_count": 582,
   "id": "14c5141d",
   "metadata": {
    "ExecuteTime": {
     "end_time": "2022-09-19T20:56:35.405039Z",
     "start_time": "2022-09-19T20:56:35.339774Z"
    },
    "hidden": true
   },
   "outputs": [
    {
     "ename": "NameError",
     "evalue": "name 'dRdt' is not defined",
     "output_type": "error",
     "traceback": [
      "\u001b[0;31m---------------------------------------------------------------------------\u001b[0m",
      "\u001b[0;31mNameError\u001b[0m                                 Traceback (most recent call last)",
      "\u001b[0;32m/var/folders/0h/p4cbb7yx22jbxm0qb47vhfbh0000gn/T/ipykernel_62948/2362773761.py\u001b[0m in \u001b[0;36m<module>\u001b[0;34m\u001b[0m\n\u001b[1;32m      1\u001b[0m \u001b[0;31m# Q: why am i gettings dRdt > 0?\u001b[0m\u001b[0;34m\u001b[0m\u001b[0;34m\u001b[0m\u001b[0;34m\u001b[0m\u001b[0m\n\u001b[0;32m----> 2\u001b[0;31m \u001b[0mdRdt\u001b[0m\u001b[0;34m\u001b[0m\u001b[0;34m\u001b[0m\u001b[0m\n\u001b[0m",
      "\u001b[0;31mNameError\u001b[0m: name 'dRdt' is not defined"
     ]
    }
   ],
   "source": [
    "# Q: why am i gettings dRdt > 0?\n",
    "dRdt"
   ]
  },
  {
   "cell_type": "code",
   "execution_count": null,
   "id": "c2a195fb",
   "metadata": {
    "hidden": true
   },
   "outputs": [],
   "source": []
  },
  {
   "cell_type": "markdown",
   "id": "236d0750",
   "metadata": {
    "hidden": true
   },
   "source": [
    "- TODO(failing ^that): rerun with 1/R smoothed by savgol"
   ]
  },
  {
   "cell_type": "code",
   "execution_count": 556,
   "id": "6be30b2c",
   "metadata": {
    "ExecuteTime": {
     "end_time": "2022-09-19T20:43:42.404976Z",
     "start_time": "2022-09-19T20:43:42.351464Z"
    },
    "hidden": true
   },
   "outputs": [
    {
     "name": "stdout",
     "output_type": "stream",
     "text": [
      "m = 0.573007 +/- 0.020248\n",
      "M = 8.265974 +/- 0.952421 Hz/cm^2; B=39.888093 +/- 2.382492\n",
      "RMSE=15.2114 Hz/cm^2; R^2=0.8044; N=750\n",
      "m = nan +/- nan\n",
      "M = nan +/- nan Hz/cm^2; B=nan +/- nan\n",
      "RMSE=nan Hz/cm^2; R^2=nan; N=476\n"
     ]
    }
   ],
   "source": [
    "#powerlaw fits of dRdt versus invR in a range that looks reasonable \n",
    "xmin_fk=0.\n",
    "xmax_fk=100\n",
    "boo=(x_values_fk>=xmin_fk)&(x_values_fk<xmax_fk)\n",
    "dict_fit_fk = print_fit_power_law(x=x_values_fk[boo],y=y_values_fk[boo])\n",
    "# print(f\"(Fenton-Karma) msd powerlaw fit of msd from lagt={xmin_fk} to {xmax_fk}:\")\n",
    "# dict_fit_fk = print_fit_power_law(x=x_values_fk[boo],y=y_values_fk[boo])\n",
    "# D_fk = dict_fit_fk['M']/4\n",
    "# Delta_D_fk = dict_fit_fk['Delta_M']/4\n",
    "# print(f\"D = {D_fk:.4f} +/- {Delta_D_fk:.4f} cm^2/s\")\n",
    "\n",
    "xmin_lr=0.0\n",
    "xmax_lr=100.\n",
    "# dict_fit_lr = print_fit_power_law(x=x_values_lr,y=y_values_lr)\n",
    "boo=(x_values_lr>=xmin_lr)&(x_values_lr<xmax_lr)\n",
    "# print(f\"\\n(Luo-Rudy) msd powerlaw fit of msd from lagt={xmin_lr} to {xmax_lr}:\")\n",
    "dict_fit_lr = print_fit_power_law(x=x_values_lr[boo],y=y_values_lr[boo])\n",
    "# D_lr = dict_fit_lr['M']/4\n",
    "# Delta_D_lr = dict_fit_lr['Delta_M']/4\n",
    "# print(f\"D = {D_lr:.4f} +/- {Delta_D_lr:.4f} cm^2/s\")\n"
   ]
  },
  {
   "cell_type": "code",
   "execution_count": 551,
   "id": "4116fae2",
   "metadata": {
    "ExecuteTime": {
     "end_time": "2022-09-19T20:36:32.384655Z",
     "start_time": "2022-09-19T20:36:32.174820Z"
    },
    "hidden": true
   },
   "outputs": [
    {
     "data": {
      "text/plain": [
       "[<matplotlib.lines.Line2D at 0x7fd7b4d06580>]"
      ]
     },
     "execution_count": 551,
     "metadata": {},
     "output_type": "execute_result"
    },
    {
     "data": {
      "image/png": "[encoded data removed]",
      "text/plain": [
       "<Figure size 640x480 with 1 Axes>"
      ]
     },
     "metadata": {},
     "output_type": "display_data"
    }
   ],
   "source": [
    "plt.plot(x_values_lr,y_values_lr)"
   ]
  },
  {
   "cell_type": "code",
   "execution_count": null,
   "id": "e67d9de8",
   "metadata": {
    "hidden": true
   },
   "outputs": [],
   "source": []
  },
  {
   "cell_type": "code",
   "execution_count": 539,
   "id": "e7dd92ed",
   "metadata": {
    "ExecuteTime": {
     "end_time": "2022-09-19T20:30:23.580462Z",
     "start_time": "2022-09-19T20:30:23.328751Z"
    },
    "hidden": true
   },
   "outputs": [
    {
     "data": {
      "image/png": "[encoded data removed]",
      "text/plain": [
       "<Figure size 600x400 with 1 Axes>"
      ]
     },
     "metadata": {},
     "output_type": "display_data"
    }
   ],
   "source": [
    "#plot the values on a log-log plot along with an ideal brownian particle of equal diffusion coefficient#TODO: plot expected brownian values plus offset to show msd is parallel with brownian at some point...\n",
    "lw=2\n",
    "alpha=0.9\n",
    "fontsize=18\n",
    "use_loglog=True\n",
    "#check if msd=0 at lagt=0\n",
    "fig,ax=plt.subplots(figsize=(6,4))\n",
    "ax.plot(x_values_fk,y_values_fk,c='C0',lw=lw,alpha=alpha,label='Fenton-Karma')\n",
    "ax.fill_between(x_values_fk,y_values_fk-Delta_y_values_fk,y_values_fk+Delta_y_values_fk,color='C0',lw=lw,alpha=alpha/2)\n",
    "ax.plot(x_values_lr,y_values_lr,c='C1',lw=lw,alpha=alpha,label='Luo-Rudy')\n",
    "ax.fill_between(x_values_lr,y_values_lr-Delta_y_values_lr,y_values_lr+Delta_y_values_lr,color='C1',lw=lw,alpha=alpha/2)\n",
    "# ax.set_ylim((1.0178650359332904e-05, 0.14507306398356945))\n",
    "# #plot expected brownian values plus offset to show msd is parallel with brownian at some point...\n",
    "# xv1=np.linspace(0.01,0.5,10)\n",
    "# xv2=np.linspace(0.1,5,10)\n",
    "# ax.plot(xv1,dict_fit_lr['M']*xv1+0.,'k-',lw=2,alpha=0.7)\n",
    "# ax.plot(xv2,dict_fit_fk['M']*xv2+0.,'k-',lw=2,alpha=0.7)\n",
    "#format_plot\n",
    "format_plot(ax, xlabel=r'$1/R$ (1/cm)', ylabel=r'$dR/dt$ (cm/s)', fontsize=fontsize, use_loglog=False)\n",
    "ax.tick_params(top=True, right=True,direction='in',which='both')\n",
    "ax.legend(fontsize=fontsize-2,frameon=False)\n",
    "plt.show()\n",
    "# ax.get_ylim()"
   ]
  },
  {
   "cell_type": "code",
   "execution_count": null,
   "id": "4a80d4dc",
   "metadata": {
    "hidden": true
   },
   "outputs": [],
   "source": [
    "# #plot a few particle events\n",
    "# fontsize=14\n",
    "# fig,ax=plt.subplots(figsize=(7,4))\n",
    "\n",
    "# #TODO: recreate fig. 2C\n",
    "\n",
    "\n",
    "# format_plot(ax, xlabel=r'$1/R$ (1/cm)', ylabel=r'$dR/dt$ (cm/s)', fontsize=fontsize, use_loglog=False)\n",
    "# ax.legend(fontsize=fontsize-2)\n",
    "# plt.tight_layout()\n",
    "# plt.show()"
   ]
  },
  {
   "cell_type": "code",
   "execution_count": null,
   "id": "5e59bccd",
   "metadata": {
    "hidden": true
   },
   "outputs": [],
   "source": []
  },
  {
   "cell_type": "markdown",
   "id": "156d9c9e",
   "metadata": {
    "heading_collapsed": true
   },
   "source": [
    "## DONE: perform smoothing to compute dRdt. \n",
    "- DONE: scatter plot points\n",
    "- DONE: bootstrap the mean versus 1/R"
   ]
  },
  {
   "cell_type": "code",
   "execution_count": 496,
   "id": "50f0f324",
   "metadata": {
    "ExecuteTime": {
     "end_time": "2022-09-19T19:17:08.519501Z",
     "start_time": "2022-09-19T19:17:08.466512Z"
    },
    "hidden": true
   },
   "outputs": [
    {
     "data": {
      "text/plain": [
       "15"
      ]
     },
     "execution_count": 496,
     "metadata": {},
     "output_type": "execute_result"
    }
   ],
   "source": [
    "# DS=5/200 #cm per pixel\n",
    "tavg2=14 #ms\n",
    "# DT=1. #ms\n",
    "tavg2*=1e-3\n",
    "width=200. #px\n",
    "height=200. #px\n",
    "min_minlifetime=40. #ms\n",
    "navg2=int(tavg2/DT)\n",
    "fps=np.around (1/DT,  5)\n",
    "if not (navg2%2==1): #odd navg2 is required by savgol_filter\n",
    "    navg2+=1\n",
    "    tavg2=np.around(navg2*DT,7)\n",
    "navg2"
   ]
  },
  {
   "cell_type": "code",
   "execution_count": 497,
   "id": "a307ed4d",
   "metadata": {
    "ExecuteTime": {
     "end_time": "2022-09-19T19:17:11.534816Z",
     "start_time": "2022-09-19T19:17:09.923875Z"
    },
    "hidden": true
   },
   "outputs": [],
   "source": [
    "#sort by particle and then by time\n",
    "# df_ranges=df_ranges_creation\n",
    "df_ranges=df_ranges_annihiln\\\n",
    "    .sort_values(by=['trial_num','annihilation_index','tdeath'])#.reset_index()\n",
    "df_ranges.reset_index(inplace=True)\n",
    "# df_ranges.reset_index(inplace=True)\n",
    "# df_ranges.sort_values(by=['trial_num','annihilation_index','tdeath'],inplace=True)"
   ]
  },
  {
   "cell_type": "code",
   "execution_count": 499,
   "id": "a64bd928",
   "metadata": {
    "ExecuteTime": {
     "end_time": "2022-09-19T19:17:11.638514Z",
     "start_time": "2022-09-19T19:17:11.591732Z"
    },
    "hidden": true
   },
   "outputs": [],
   "source": [
    "min_minrange = 0.2 #cm\n",
    "min_minlifetime = 40. #ms"
   ]
  },
  {
   "cell_type": "code",
   "execution_count": 498,
   "id": "e58daacc",
   "metadata": {
    "ExecuteTime": {
     "end_time": "2022-09-19T19:17:11.588829Z",
     "start_time": "2022-09-19T19:17:11.537560Z"
    },
    "hidden": true
   },
   "outputs": [],
   "source": [
    "#compute the xy values\n",
    "savgol_kwargs0=dict(window_length=navg2,polyorder=3,\n",
    "    deriv=0,delta=1.0,axis=-1,mode='interp')\n",
    "#compute the xy velocities\n",
    "savgol_kwargs1=dict(window_length=navg2,polyorder=3,\n",
    "    deriv=1,delta=1.0,axis=-1,mode='interp')\n",
    "#compute the xy accelerations\n",
    "savgol_kwargs2=dict(window_length=navg2,polyorder=3,\n",
    "    deriv=2,delta=1.0,axis=-1,mode='interp')"
   ]
  },
  {
   "cell_type": "code",
   "execution_count": 500,
   "id": "50856d5b",
   "metadata": {
    "ExecuteTime": {
     "end_time": "2022-09-19T19:17:12.154066Z",
     "start_time": "2022-09-19T19:17:12.091604Z"
    },
    "hidden": true
   },
   "outputs": [
    {
     "data": {
      "text/plain": [
       "3.5196457563226446"
      ]
     },
     "execution_count": 500,
     "metadata": {},
     "output_type": "execute_result"
    }
   ],
   "source": [
    "df_ranges['R'].max() #cm"
   ]
  },
  {
   "cell_type": "code",
   "execution_count": 501,
   "id": "fdc9b97f",
   "metadata": {
    "ExecuteTime": {
     "end_time": "2022-09-19T19:17:18.664066Z",
     "start_time": "2022-09-19T19:17:12.683988Z"
    },
    "hidden": true
   },
   "outputs": [
    {
     "name": "stdout",
     "output_type": "stream",
     "text": [
      "identified 17088 annihilation events that look reasonable.\n"
     ]
    }
   ],
   "source": [
    "#preallocate memory\n",
    "df_ranges['xRinv']=np.nan\n",
    "df_ranges['xR']=np.nan\n",
    "df_ranges['vR']=np.nan\n",
    "df_ranges['aR']=np.nan\n",
    "#identify particles to be considered\n",
    "name_lst=[]\n",
    "groups=df_ranges.groupby(by=['trial_num','annihilation_index'])\n",
    "for n,g in groups:\n",
    "    minlifetime = g['tdeath'].max()\n",
    "    minrange = g['R'].min()\n",
    "#     if minrange>min_minrange:\n",
    "#         print(f\"Warning: minrange>min_minrange for {n}\")\n",
    "    if (minlifetime>=min_minlifetime)&(minrange<=min_minrange):\n",
    "        name_lst.append(n)\n",
    "        #gg = g#.sort_values(by='tdeath') # >> ~10% slowdown for fixing inordinal edge case solved by .sort_values(by=['trial_num','annihilation_index','tdeath'])#.reset_index()\n",
    "print(f\"identified {len(name_lst)} annihilation events that look reasonable.\")\n",
    "\n"
   ]
  },
  {
   "cell_type": "code",
   "execution_count": 504,
   "id": "408a5549",
   "metadata": {
    "ExecuteTime": {
     "end_time": "2022-09-19T19:21:10.617353Z",
     "start_time": "2022-09-19T19:21:07.074503Z"
    },
    "hidden": true
   },
   "outputs": [
    {
     "name": "stdout",
     "output_type": "stream",
     "text": [
      "computing radial velocities...\n"
     ]
    }
   ],
   "source": [
    "print(f\"computing radial velocities...\")\n",
    "# for (trial_num,annihilation_index) in name_lst:\n",
    "for (trial_num,annihilation_index) in np.array(name_lst)[:200]:\n",
    "    boo = df_ranges['trial_num'] ==trial_num\n",
    "    boo&= df_ranges['annihilation_index'] ==annihilation_index\n",
    "    #compute smoothed derivatives\n",
    "    R_values = df_ranges[boo]['R'] #cm\n",
    "    df_ranges.loc[boo,'xRinv'] = savgol_filter(1/R_values,**savgol_kwargs0) #cm\n",
    "    df_ranges.loc[boo,'xR'] = savgol_filter(R_values,**savgol_kwargs0) #cm\n",
    "    df_ranges.loc[boo,'vR'] = savgol_filter(R_values,**savgol_kwargs1)*fps #cm per s\n",
    "    df_ranges.loc[boo,'aR'] = savgol_filter(R_values,**savgol_kwargs2)*fps**2 #cm per s^2"
   ]
  },
  {
   "cell_type": "code",
   "execution_count": 505,
   "id": "2ab6f030",
   "metadata": {
    "ExecuteTime": {
     "end_time": "2022-09-19T19:21:11.872771Z",
     "start_time": "2022-09-19T19:21:11.467640Z"
    },
    "hidden": true
   },
   "outputs": [],
   "source": [
    "#heretim\n",
    "#scatter plot dRdt versus 1/R\n",
    "boo_null = df_ranges['xR'].isnull()\n",
    "df_dRdt = df_ranges[~boo_null].copy()\n",
    "# df_dRdt['invR'] = 1/df_dRdt['xR'].values\n",
    "df_dRdt['invR'] = 1/df_dRdt['R'].values\n",
    "df_dRdt['dRdt'] = df_dRdt['vR'].values #orient axes\n",
    "# df_dRdt['dRdt'] = 1/df_dRdt['aR'].values\n",
    "# Rinv_values = 1/df_dRdt['xR'].values\n",
    "# dRdt_values = df_dRdt['vR'].values\n",
    "# dRdt2_values = df_dRdt['aR'].values"
   ]
  },
  {
   "cell_type": "code",
   "execution_count": 506,
   "id": "43c1cc02",
   "metadata": {
    "ExecuteTime": {
     "end_time": "2022-09-19T19:21:38.482362Z",
     "start_time": "2022-09-19T19:21:11.875438Z"
    },
    "hidden": true
   },
   "outputs": [
    {
     "data": {
      "image/png": "[encoded data removed]",
      "text/plain": [
       "<Figure size 700x400 with 1 Axes>"
      ]
     },
     "metadata": {},
     "output_type": "display_data"
    }
   ],
   "source": [
    "xlim=[0,3]\n",
    "ylim=[-75,50]\n",
    "max_tdeath=40. #ms\n",
    "alpha=0.1\n",
    "fig,ax=plt.subplots(figsize=(7,4))\n",
    "bootdeath=df_dRdt['tdeath']>=max_tdeath\n",
    "df_dRdt[~bootdeath].plot.scatter(x='invR',y='dRdt',alpha=alpha,s=30,c='r',ax=ax,label=f\"t'>{max_tdeath} ms\")\n",
    "df_dRdt[bootdeath].plot.scatter(x='invR',y='dRdt',alpha=alpha,s=30,c='k',ax=ax,label=f\"t'≤{max_tdeath} ms\")\n",
    "format_plot(ax=ax, xlabel=r'$1/R$ (1/cm)', ylabel=r'$dR/dt$ (cm/s)', fontsize=fontsize, use_loglog=False)\n",
    "ax.legend(fontsize=fontsize-2)\n",
    "plt.tight_layout()\n",
    "plt.show()"
   ]
  },
  {
   "cell_type": "code",
   "execution_count": 492,
   "id": "9d070c14",
   "metadata": {
    "ExecuteTime": {
     "end_time": "2022-09-19T19:09:07.826340Z",
     "start_time": "2022-09-19T19:09:07.765509Z"
    },
    "hidden": true
   },
   "outputs": [],
   "source": [
    "# df_dRdt.plot.scatter(x='R',y='vR',alpha=0.4,s=30,c='k')"
   ]
  },
  {
   "cell_type": "code",
   "execution_count": null,
   "id": "5c6f0a42",
   "metadata": {
    "hidden": true
   },
   "outputs": [],
   "source": []
  },
  {
   "cell_type": "code",
   "execution_count": null,
   "id": "96ccf679",
   "metadata": {
    "hidden": true
   },
   "outputs": [],
   "source": []
  },
  {
   "cell_type": "code",
   "execution_count": 450,
   "id": "16db4e35",
   "metadata": {
    "ExecuteTime": {
     "end_time": "2022-09-19T18:53:41.738554Z",
     "start_time": "2022-09-19T18:53:41.488285Z"
    },
    "hidden": true
   },
   "outputs": [
    {
     "data": {
      "text/plain": [
       "<AxesSubplot:xlabel='invR', ylabel='vR'>"
      ]
     },
     "execution_count": 450,
     "metadata": {},
     "output_type": "execute_result"
    },
    {
     "data": {
      "image/png": "[encoded data removed]",
      "text/plain": [
       "<Figure size 640x480 with 1 Axes>"
      ]
     },
     "metadata": {},
     "output_type": "display_data"
    }
   ],
   "source": [
    "groups=df_dRdt.groupby(by=['trial_num','annihilation_index'])\n",
    "groups.median().plot.scatter(x='invR',y='vR')"
   ]
  },
  {
   "cell_type": "code",
   "execution_count": null,
   "id": "a98e8cc8",
   "metadata": {
    "ExecuteTime": {
     "end_time": "2022-09-19T19:20:44.078395Z",
     "start_time": "2022-09-19T19:20:44.078360Z"
    },
    "hidden": true
   },
   "outputs": [],
   "source": [
    "# for n in [name_lst[5]]:\n",
    "#     g = groups.get_group(n)\n",
    "# g"
   ]
  },
  {
   "cell_type": "code",
   "execution_count": 393,
   "id": "740fb022",
   "metadata": {
    "ExecuteTime": {
     "end_time": "2022-09-19T18:34:12.830573Z",
     "start_time": "2022-09-19T18:34:12.756649Z"
    },
    "hidden": true
   },
   "outputs": [
    {
     "data": {
      "text/plain": [
       "True"
      ]
     },
     "execution_count": 393,
     "metadata": {},
     "output_type": "execute_result"
    }
   ],
   "source": [
    "# df_ranges['aR'].isnull().all()"
   ]
  },
  {
   "cell_type": "code",
   "execution_count": 392,
   "id": "fc417401",
   "metadata": {
    "ExecuteTime": {
     "end_time": "2022-09-19T18:34:07.976295Z",
     "start_time": "2022-09-19T18:34:07.929012Z"
    },
    "hidden": true
   },
   "outputs": [],
   "source": [
    "# df_ranges.loc[gg.index.values]"
   ]
  },
  {
   "cell_type": "code",
   "execution_count": 451,
   "id": "e3e89140",
   "metadata": {
    "ExecuteTime": {
     "end_time": "2022-09-19T18:55:56.903781Z",
     "start_time": "2022-09-19T18:55:56.845742Z"
    },
    "hidden": true
   },
   "outputs": [],
   "source": [
    "# #compute smoothed derivatives\n",
    "# # dd = gg #pd.DataFrame(dict_traj)\n",
    "# df_ranges.iloc[gg.index]['xt'] = savgol_filter(gg['tdeath'],**savgol_kwargs0) #ms\n",
    "# df_ranges.iloc[gg.index]['xR'] = savgol_filter(gg['R'],**savgol_kwargs0) #cm\n",
    "# df_ranges.iloc[gg.index]['vR'] = savgol_filter(gg['R'],**savgol_kwargs1)*fps #cm per s\n",
    "# df_ranges.iloc[gg.index]['aR'] = savgol_filter(gg['R'],**savgol_kwargs2)*fps**2 #cm per s^2\n",
    "# # #test that smoothing has no effect on time\n",
    "# # assert np.isclose(dd['xt'].values-dd['tdeath'].values,0.).all()"
   ]
  },
  {
   "cell_type": "code",
   "execution_count": 452,
   "id": "177bbf2b",
   "metadata": {
    "ExecuteTime": {
     "end_time": "2022-09-19T18:55:58.929868Z",
     "start_time": "2022-09-19T18:55:58.879506Z"
    },
    "hidden": true
   },
   "outputs": [],
   "source": [
    "# df_ranges.loc[gg.index]"
   ]
  },
  {
   "cell_type": "code",
   "execution_count": 369,
   "id": "2a561ddd",
   "metadata": {
    "ExecuteTime": {
     "end_time": "2022-09-19T18:21:04.454733Z",
     "start_time": "2022-09-19T18:21:04.376187Z"
    },
    "hidden": true
   },
   "outputs": [],
   "source": [
    "# #compute smoothed derivatives\n",
    "# dd = gg #pd.DataFrame(dict_traj)\n",
    "# dd['xt'] = savgol_filter(dd['tdeath'],**savgol_kwargs0) #ms\n",
    "# dd['xR'] = savgol_filter(dd['R'],**savgol_kwargs0) #cm\n",
    "# dd['vR'] = savgol_filter(dd['R'],**savgol_kwargs1)*fps #cm per s\n",
    "# dd['aR'] = savgol_filter(dd['R'],**savgol_kwargs2)*fps**2 #cm per s^2\n",
    "# #test that smoothing has no effect on time\n",
    "# assert np.isclose(dd['xt'].values-dd['tdeath'].values,0.).all()"
   ]
  },
  {
   "cell_type": "code",
   "execution_count": null,
   "id": "bc192890",
   "metadata": {
    "hidden": true
   },
   "outputs": [],
   "source": []
  },
  {
   "cell_type": "code",
   "execution_count": null,
   "id": "d9829367",
   "metadata": {
    "hidden": true
   },
   "outputs": [],
   "source": []
  },
  {
   "cell_type": "code",
   "execution_count": null,
   "id": "17bdd9b0",
   "metadata": {
    "hidden": true
   },
   "outputs": [],
   "source": []
  },
  {
   "cell_type": "code",
   "execution_count": null,
   "id": "834f5b85",
   "metadata": {
    "hidden": true
   },
   "outputs": [],
   "source": []
  },
  {
   "cell_type": "code",
   "execution_count": 300,
   "id": "a1370f21",
   "metadata": {
    "ExecuteTime": {
     "end_time": "2022-09-19T17:45:13.933903Z",
     "start_time": "2022-09-19T17:45:13.886702Z"
    },
    "hidden": true
   },
   "outputs": [],
   "source": [
    "# #estimated run time ~ 20 minutes for 20 trials\n",
    "# #recall how many particles were considered and scale accordingly\n",
    "# range_dir=\"/home/timothytyree/Documents/GitHub/care/notebooks/Data/from_wjr/positions_fk/200x200/tippos_per_c_001_annihilation_range_timeseries.pkl\"\n",
    "# # range_dir=\"/home/timothytyree/Documents/GitHub/care/notebooks/Data/from_wjr/positions_lr/200x200/tippos_per_001_annihilation_range_timeseries.pkl\"\n",
    "# data_lst_all = load_from_pickle(range_dir)\n",
    "# max_num_trials=20\n",
    "# data_lst=[]\n",
    "# for i in range(max_num_trials):\n",
    "#     data_lst.append(data_lst_all[i])\n",
    "# # # Initial call to print 0% progress\n",
    "# num_steps=len(data_lst)\n",
    "# printProgressBar(0, num_steps, prefix = 'Progress:', suffix = 'Complete', length = 50)\n",
    "# trial_num_lst=[]\n",
    "# annihilation_count_lst=[]\n",
    "# traj_lst=[]\n",
    "# for step,data in enumerate(data_lst):\n",
    "#     pass"
   ]
  },
  {
   "cell_type": "code",
   "execution_count": null,
   "id": "1ae1c86d",
   "metadata": {
    "hidden": true
   },
   "outputs": [],
   "source": [
    "\n",
    "# trial_num=np.max(data['trial_num'])\n",
    "# trial_num_lst.append(trial_num)\n",
    "# annihilation_count_lst.append(np.max(data['annihilation_index']))\n",
    "\n",
    "# d = pd.DataFrame(data)#.sort_values(by='t')\n",
    "# #extract trajectories of particle self\n",
    "# for annihilation_index,g in d.groupby('annihilation_index'):\n",
    "#     gg = g.sort_values('tdeath')\n",
    "#     t_values=gg['tdeath']\n",
    "#     x_values,y_values = unwrap_and_center_xy_values(gg['x'].values,gg['y'].values,width,height)#,**kwargs)\n",
    "#     minlifetime=np.max(t_values)\n",
    "#     if minlifetime>=min_minlifetime:\n",
    "#         dict_traj=dict(trial_num=trial_num,\n",
    "#                        particle=annihilation_index,\n",
    "#                        t=t_values,\n",
    "#                        x=x_values,\n",
    "#                        y=y_values)\n",
    "#         #compute smoothed derivatives\n",
    "#         dd = pd.DataFrame(dict_traj)\n",
    "#         dd['vx'] = savgol_filter(dd['x'],**savgol_kwargs1)/DT #pixels per ms\n",
    "#         dd['vy'] = savgol_filter(dd['y'],**savgol_kwargs1)/DT #pixels per ms\n",
    "#         dd['ax'] = savgol_filter(dd['x'],**savgol_kwargs2)/(DT**2) #pixels per ms^2\n",
    "#         dd['ay'] = savgol_filter(dd['y'],**savgol_kwargs2)/(DT**2) #pixels per ms^2\n",
    "#         #compute instantaneous period\n",
    "#         dd['T']=2*np.pi*(dd['vx']**2+dd['vy']**2)/np.abs(dd['vx']*dd['ay'] - dd['vy']*dd['ax'])\n",
    "#         dd['sq_vel']=dd['vx']**2+dd['vy']**2\n",
    "#         T_values=dd['T'].values        \n",
    "#         #record\n",
    "#         traj_lst.append(dd[['trial_num','particle','t','T','sq_vel']].copy())\n",
    "# printProgressBar(step + 1, num_steps, prefix = 'Progress:', suffix = 'Complete', length = 50)\n",
    "# df_inst_period_fk = pd.concat(traj_lst)\n",
    "# df_count_fk = pd.DataFrame(dict(trial_num=trial_num_lst,annihilation_count=annihilation_count_lst))\n",
    "# #save df_inst_period_fk,lr as .csv\n",
    "# inst_period_fk_dir=\"/home/timothytyree/Documents/GitHub/care/notebooks/Data/from_wjr/positions_fk/200x200/tippos_per_c_001_annihilation_inst_period_timeseries.csv\"\n",
    "# df_inst_period_fk.to_csv(inst_period_fk_dir,index=False)"
   ]
  },
  {
   "cell_type": "code",
   "execution_count": null,
   "id": "ca33a94f",
   "metadata": {
    "hidden": true
   },
   "outputs": [],
   "source": []
  },
  {
   "cell_type": "code",
   "execution_count": null,
   "id": "540e5e6a",
   "metadata": {
    "hidden": true
   },
   "outputs": [],
   "source": []
  }
 ],
 "metadata": {
  "hide_input": false,
  "kernelspec": {
   "display_name": "Python 3 (ipykernel)",
   "language": "python",
   "name": "python3"
  },
  "language_info": {
   "codemirror_mode": {
    "name": "ipython",
    "version": 3
   },
   "file_extension": ".py",
   "mimetype": "text/x-python",
   "name": "python",
   "nbconvert_exporter": "python",
   "pygments_lexer": "ipython3",
   "version": "3.9.5"
  },
  "latex_envs": {
   "LaTeX_envs_menu_present": true,
   "autoclose": true,
   "autocomplete": false,
   "bibliofile": "biblio.bib",
   "cite_by": "apalike",
   "current_citInitial": 1,
   "eqLabelWithNumbers": false,
   "eqNumInitial": 1,
   "hotkeys": {
    "equation": "Ctrl-E",
    "itemize": "Ctrl-I"
   },
   "labels_anchors": false,
   "latex_user_defs": false,
   "report_style_numbering": false,
   "user_envs_cfg": false
  },
  "nbTranslate": {
   "displayLangs": [
    "*"
   ],
   "hotkey": "alt-t",
   "langInMainMenu": true,
   "sourceLang": "en",
   "targetLang": "fr",
   "useGoogleTranslate": true
  },
  "toc": {
   "base_numbering": 1,
   "nav_menu": {},
   "number_sections": true,
   "sideBar": true,
   "skip_h1_title": false,
   "title_cell": "Table of Contents",
   "title_sidebar": "Contents",
   "toc_cell": false,
   "toc_position": {},
   "toc_section_display": true,
   "toc_window_display": true
  }
 },
 "nbformat": 4,
 "nbformat_minor": 5
}
