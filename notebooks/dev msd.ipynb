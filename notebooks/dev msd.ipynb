{
 "cells": [
  {
   "cell_type": "markdown",
   "metadata": {},
   "source": [
    "# Get 1 good MSD from 1 trial\n",
    "Tim Tyree<br>\n",
    "12.17.2020"
   ]
  },
  {
   "cell_type": "code",
   "execution_count": 9,
   "metadata": {
    "ExecuteTime": {
     "end_time": "2021-08-03T22:58:29.389879Z",
     "start_time": "2021-08-03T22:58:29.371285Z"
    }
   },
   "outputs": [
    {
     "name": "stdout",
     "output_type": "stream",
     "text": [
      "Automatic calling is: Smart\n",
      "The autoreload extension is already loaded. To reload it, use:\n",
      "  %reload_ext autoreload\n"
     ]
    }
   ],
   "source": [
    "from lib.my_initialization import *\n",
    "from lib import *\n",
    "\n",
    "%autocall 1\n",
    "%load_ext autoreload\n",
    "%autoreload 2\n",
    "# awareness&chill"
   ]
  },
  {
   "cell_type": "code",
   "execution_count": 10,
   "metadata": {
    "ExecuteTime": {
     "end_time": "2021-08-03T22:58:36.647460Z",
     "start_time": "2021-08-03T22:58:36.626576Z"
    }
   },
   "outputs": [
    {
     "name": "stdout",
     "output_type": "stream",
     "text": [
      "Automatic calling is: Smart\n",
      "The autoreload extension is already loaded. To reload it, use:\n",
      "  %reload_ext autoreload\n"
     ]
    }
   ],
   "source": [
    "import pandas as pd, numpy as np, matplotlib.pyplot as plt\n",
    "\n",
    "#automate the boring stuff\n",
    "# from IPython import utils\n",
    "import time, os, sys, re\n",
    "beep = lambda x: os.system(\"echo -n '\\\\a';sleep 0.2;\" * x)\n",
    "if not 'nb_dir' in globals():\n",
    "    nb_dir = os.getcwd()\n",
    "    \n",
    "#load the libraries\n",
    "from lib import *\n",
    "import dask.bag as db\n",
    "\n",
    "%autocall 1\n",
    "%load_ext autoreload\n",
    "%autoreload 2\n",
    "# awareness&chill"
   ]
  },
  {
   "cell_type": "code",
   "execution_count": 11,
   "metadata": {
    "ExecuteTime": {
     "end_time": "2021-08-03T22:58:45.770077Z",
     "start_time": "2021-08-03T22:58:45.753374Z"
    }
   },
   "outputs": [],
   "source": [
    "darkmode=False\n",
    "if darkmode:\n",
    "    # For darkmode plots\n",
    "    from jupyterthemes import jtplot\n",
    "    jtplot.style(theme='monokai', context='notebook', ticks=True, grid=False)"
   ]
  },
  {
   "cell_type": "markdown",
   "metadata": {
    "heading_collapsed": true
   },
   "source": [
    "# Get 1 good trajectory from 1 trial"
   ]
  },
  {
   "cell_type": "code",
   "execution_count": 2,
   "metadata": {
    "ExecuteTime": {
     "end_time": "2020-12-17T23:27:19.722345Z",
     "start_time": "2020-12-17T23:27:19.702822Z"
    },
    "hidden": true
   },
   "outputs": [],
   "source": [
    "#find file interactively\n",
    "# print(\"please select a file from within the desired folder.\")\n",
    "# file = search_for_file()\n",
    "# file = '/home/timothytyree/Documents/GitHub/care/notebooks/Data/initial-conditions-suite-2/ic-in/ic_200x200.001.11.npz'\n",
    "input_file_name = \"/home/timothytyree/Documents/GitHub/care/notebooks/Data/initial-conditions-suite-2/ds_5_param_set_8_fastkernel_V_0.4_archive/Log/ic_200x200.001.11_log.csv\"\n",
    "\n"
   ]
  },
  {
   "cell_type": "code",
   "execution_count": 3,
   "metadata": {
    "ExecuteTime": {
     "end_time": "2020-12-17T20:39:59.364547Z",
     "start_time": "2020-12-17T20:39:29.672107Z"
    },
    "hidden": true
   },
   "outputs": [
    {
     "name": "stdout",
     "output_type": "stream",
     "text": [
      "Frame 3811: 4 trajectories present.\n"
     ]
    }
   ],
   "source": [
    "output_file_name = generate_track_tips_pbc(input_file_name, save_fn=None)"
   ]
  },
  {
   "cell_type": "code",
   "execution_count": 4,
   "metadata": {
    "ExecuteTime": {
     "end_time": "2020-12-17T20:42:24.483527Z",
     "start_time": "2020-12-17T20:42:24.362739Z"
    },
    "hidden": true
   },
   "outputs": [],
   "source": [
    "df = pd.read_csv(output_file_name)"
   ]
  },
  {
   "cell_type": "code",
   "execution_count": 6,
   "metadata": {
    "ExecuteTime": {
     "end_time": "2020-12-17T20:42:35.188399Z",
     "start_time": "2020-12-17T20:42:35.173779Z"
    },
    "hidden": true
   },
   "outputs": [
    {
     "data": {
      "text/plain": [
       "Index(['t', 'n', 'x', 'y', 'theta', 'grad_ux', 'grad_uy', 'grad_vx', 'grad_vy',\n",
       "       'v', 'f', 's', 'dvdt', 'dfdt', 'dsdt', 'frame', 'particle'],\n",
       "      dtype='object')"
      ]
     },
     "execution_count": 6,
     "metadata": {},
     "output_type": "execute_result"
    }
   ],
   "source": [
    "df.columns"
   ]
  },
  {
   "cell_type": "code",
   "execution_count": 25,
   "metadata": {
    "ExecuteTime": {
     "end_time": "2020-12-17T20:47:11.746300Z",
     "start_time": "2020-12-17T20:47:11.727022Z"
    },
    "hidden": true
   },
   "outputs": [
    {
     "name": "stdout",
     "output_type": "stream",
     "text": [
      "218\n",
      "particle\n",
      "218    1850\n",
      "219    1850\n",
      "195    1700\n",
      "194    1700\n",
      "96     1444\n",
      "Name: t, dtype: int64\n"
     ]
    }
   ],
   "source": [
    "#select the longest trajectory\n",
    "s = df.groupby('particle').t.count()\n",
    "s = s.sort_values(ascending=False)\n",
    "pid_longest = s.index.values[0]\n",
    "d = df[df.particle==pid_longest]\n",
    "\n",
    "print(pid_longest)\n",
    "print(s.head())"
   ]
  },
  {
   "cell_type": "code",
   "execution_count": 46,
   "metadata": {
    "ExecuteTime": {
     "end_time": "2020-12-17T21:19:55.182351Z",
     "start_time": "2020-12-17T21:19:54.899985Z"
    },
    "hidden": true
   },
   "outputs": [],
   "source": [
    "#compute the speed of this longest trajectory using pbc\n",
    "width = 200; height = 200;\n",
    "distance_L2_pbc = get_distance_L2_pbc(width,height)\n",
    "DT = np.mean(d.t.diff().dropna().values) #ms per frame\n",
    "DS = 5/200 #cm per pixels"
   ]
  },
  {
   "cell_type": "code",
   "execution_count": 51,
   "metadata": {
    "ExecuteTime": {
     "end_time": "2020-12-17T21:23:08.112534Z",
     "start_time": "2020-12-17T21:23:08.072075Z"
    },
    "hidden": true
   },
   "outputs": [],
   "source": [
    "x_values = d.x.values\n",
    "y_values = d.y.values\n",
    "N = x_values.shape[0]\n",
    "spd_lst = []\n",
    "for i in range(N-1):\n",
    "    #compute a speed for i = 0,1,2,...,N-1\n",
    "    pt_nxt = np.array((x_values[i+1],y_values[i+1]))\n",
    "    pt_prv = np.array((x_values[i],y_values[i]))\n",
    "    spd = distance_L2_pbc(pt_nxt,pt_prv)*DS/DT #pixels per ms\n",
    "    spd_lst.append(spd)"
   ]
  },
  {
   "cell_type": "code",
   "execution_count": 52,
   "metadata": {
    "ExecuteTime": {
     "end_time": "2020-12-17T21:23:16.652560Z",
     "start_time": "2020-12-17T21:23:16.620921Z"
    },
    "hidden": true
   },
   "outputs": [],
   "source": [
    "# import inspect\n",
    "# print(inspect.getsource(get_distance_L2_pbc))"
   ]
  },
  {
   "cell_type": "code",
   "execution_count": 53,
   "metadata": {
    "ExecuteTime": {
     "end_time": "2020-12-17T21:23:22.249575Z",
     "start_time": "2020-12-17T21:23:22.105702Z"
    },
    "hidden": true
   },
   "outputs": [
    {
     "data": {
      "image/png": "[encoded data removed]",
      "text/plain": [
       "<Figure size 432x288 with 1 Axes>"
      ]
     },
     "metadata": {
      "needs_background": "light"
     },
     "output_type": "display_data"
    }
   ],
   "source": [
    "#identify any unreasonable speeds\n",
    "sarr = np.array(spd_lst)\n",
    "plt.hist(sarr, bins=30)\n",
    "plt.show()"
   ]
  },
  {
   "cell_type": "code",
   "execution_count": 54,
   "metadata": {
    "ExecuteTime": {
     "end_time": "2020-12-17T21:24:02.612100Z",
     "start_time": "2020-12-17T21:24:02.590059Z"
    },
    "hidden": true
   },
   "outputs": [
    {
     "data": {
      "text/plain": [
       "True"
      ]
     },
     "execution_count": 54,
     "metadata": {},
     "output_type": "execute_result"
    }
   ],
   "source": [
    "min_spd_jump = 0.1#0.06\n",
    "barr = sarr>min_spd_jump\n",
    "barr.any()"
   ]
  },
  {
   "cell_type": "code",
   "execution_count": 55,
   "metadata": {
    "ExecuteTime": {
     "end_time": "2020-12-17T21:24:38.720385Z",
     "start_time": "2020-12-17T21:24:38.699009Z"
    },
    "hidden": true
   },
   "outputs": [
    {
     "data": {
      "text/plain": [
       "array([[1055],\n",
       "       [1056]])"
      ]
     },
     "execution_count": 55,
     "metadata": {},
     "output_type": "execute_result"
    }
   ],
   "source": [
    "np.argwhere(min_spd_jump<sarr)"
   ]
  },
  {
   "cell_type": "code",
   "execution_count": 67,
   "metadata": {
    "ExecuteTime": {
     "end_time": "2020-12-17T21:31:44.609017Z",
     "start_time": "2020-12-17T21:31:44.557682Z"
    },
    "hidden": true
   },
   "outputs": [
    {
     "data": {
      "text/html": [
       "<div>\n",
       "<style scoped>\n",
       "    .dataframe tbody tr th:only-of-type {\n",
       "        vertical-align: middle;\n",
       "    }\n",
       "\n",
       "    .dataframe tbody tr th {\n",
       "        vertical-align: top;\n",
       "    }\n",
       "\n",
       "    .dataframe thead th {\n",
       "        text-align: right;\n",
       "    }\n",
       "</style>\n",
       "<table border=\"1\" class=\"dataframe\">\n",
       "  <thead>\n",
       "    <tr style=\"text-align: right;\">\n",
       "      <th></th>\n",
       "      <th>index</th>\n",
       "      <th>t</th>\n",
       "      <th>n</th>\n",
       "      <th>x</th>\n",
       "      <th>y</th>\n",
       "      <th>theta</th>\n",
       "      <th>grad_ux</th>\n",
       "      <th>grad_uy</th>\n",
       "      <th>grad_vx</th>\n",
       "      <th>grad_vy</th>\n",
       "      <th>v</th>\n",
       "      <th>f</th>\n",
       "      <th>s</th>\n",
       "      <th>dvdt</th>\n",
       "      <th>dfdt</th>\n",
       "      <th>dsdt</th>\n",
       "      <th>frame</th>\n",
       "      <th>particle</th>\n",
       "    </tr>\n",
       "  </thead>\n",
       "  <tbody>\n",
       "    <tr>\n",
       "      <th>1050</th>\n",
       "      <td>54385</td>\n",
       "      <td>2891.0</td>\n",
       "      <td>10</td>\n",
       "      <td>74.99498</td>\n",
       "      <td>24.50554</td>\n",
       "      <td>2.58878</td>\n",
       "      <td>1.28331</td>\n",
       "      <td>0.15079</td>\n",
       "      <td>1.78230</td>\n",
       "      <td>-1.43129</td>\n",
       "      <td>0.35983</td>\n",
       "      <td>0.13508</td>\n",
       "      <td>0.83881</td>\n",
       "      <td>0.00293</td>\n",
       "      <td>-0.01037</td>\n",
       "      <td>-0.00105</td>\n",
       "      <td>2891</td>\n",
       "      <td>218</td>\n",
       "    </tr>\n",
       "    <tr>\n",
       "      <th>1051</th>\n",
       "      <td>54400</td>\n",
       "      <td>2892.0</td>\n",
       "      <td>10</td>\n",
       "      <td>74.93767</td>\n",
       "      <td>25.53564</td>\n",
       "      <td>2.22591</td>\n",
       "      <td>1.34769</td>\n",
       "      <td>-0.00213</td>\n",
       "      <td>1.87445</td>\n",
       "      <td>-1.60512</td>\n",
       "      <td>0.36379</td>\n",
       "      <td>0.13383</td>\n",
       "      <td>0.83739</td>\n",
       "      <td>0.00245</td>\n",
       "      <td>-0.01027</td>\n",
       "      <td>-0.00105</td>\n",
       "      <td>2892</td>\n",
       "      <td>218</td>\n",
       "    </tr>\n",
       "    <tr>\n",
       "      <th>1052</th>\n",
       "      <td>54412</td>\n",
       "      <td>2893.0</td>\n",
       "      <td>10</td>\n",
       "      <td>75.01928</td>\n",
       "      <td>26.63973</td>\n",
       "      <td>2.54378</td>\n",
       "      <td>1.42583</td>\n",
       "      <td>-0.18391</td>\n",
       "      <td>2.09475</td>\n",
       "      <td>-2.08434</td>\n",
       "      <td>0.45769</td>\n",
       "      <td>0.10932</td>\n",
       "      <td>0.83344</td>\n",
       "      <td>-0.00383</td>\n",
       "      <td>-0.00839</td>\n",
       "      <td>-0.00104</td>\n",
       "      <td>2893</td>\n",
       "      <td>218</td>\n",
       "    </tr>\n",
       "    <tr>\n",
       "      <th>1053</th>\n",
       "      <td>54432</td>\n",
       "      <td>2894.0</td>\n",
       "      <td>10</td>\n",
       "      <td>75.30656</td>\n",
       "      <td>27.90478</td>\n",
       "      <td>2.03426</td>\n",
       "      <td>1.51744</td>\n",
       "      <td>-0.39212</td>\n",
       "      <td>2.32174</td>\n",
       "      <td>-2.58781</td>\n",
       "      <td>0.45907</td>\n",
       "      <td>0.10821</td>\n",
       "      <td>0.83311</td>\n",
       "      <td>-0.00356</td>\n",
       "      <td>-0.00830</td>\n",
       "      <td>-0.00104</td>\n",
       "      <td>2894</td>\n",
       "      <td>218</td>\n",
       "    </tr>\n",
       "    <tr>\n",
       "      <th>1054</th>\n",
       "      <td>54453</td>\n",
       "      <td>2895.0</td>\n",
       "      <td>10</td>\n",
       "      <td>75.93289</td>\n",
       "      <td>29.33195</td>\n",
       "      <td>NaN</td>\n",
       "      <td>1.77723</td>\n",
       "      <td>-1.00571</td>\n",
       "      <td>3.03434</td>\n",
       "      <td>-4.29371</td>\n",
       "      <td>0.33317</td>\n",
       "      <td>0.14298</td>\n",
       "      <td>0.83908</td>\n",
       "      <td>0.00349</td>\n",
       "      <td>-0.01097</td>\n",
       "      <td>-0.00105</td>\n",
       "      <td>2895</td>\n",
       "      <td>218</td>\n",
       "    </tr>\n",
       "    <tr>\n",
       "      <th>1055</th>\n",
       "      <td>54479</td>\n",
       "      <td>2896.0</td>\n",
       "      <td>10</td>\n",
       "      <td>77.09803</td>\n",
       "      <td>30.91954</td>\n",
       "      <td>NaN</td>\n",
       "      <td>2.23294</td>\n",
       "      <td>-2.06932</td>\n",
       "      <td>5.04727</td>\n",
       "      <td>-9.09682</td>\n",
       "      <td>0.48615</td>\n",
       "      <td>0.09988</td>\n",
       "      <td>0.83319</td>\n",
       "      <td>-0.00450</td>\n",
       "      <td>-0.00767</td>\n",
       "      <td>-0.00104</td>\n",
       "      <td>2896</td>\n",
       "      <td>218</td>\n",
       "    </tr>\n",
       "    <tr>\n",
       "      <th>1056</th>\n",
       "      <td>54508</td>\n",
       "      <td>2897.0</td>\n",
       "      <td>10</td>\n",
       "      <td>80.99624</td>\n",
       "      <td>33.35312</td>\n",
       "      <td>NaN</td>\n",
       "      <td>-26.22259</td>\n",
       "      <td>67.10875</td>\n",
       "      <td>-3.56114</td>\n",
       "      <td>12.03777</td>\n",
       "      <td>0.33429</td>\n",
       "      <td>0.12849</td>\n",
       "      <td>0.83616</td>\n",
       "      <td>0.00287</td>\n",
       "      <td>-0.00986</td>\n",
       "      <td>-0.00105</td>\n",
       "      <td>2897</td>\n",
       "      <td>218</td>\n",
       "    </tr>\n",
       "    <tr>\n",
       "      <th>1057</th>\n",
       "      <td>54513</td>\n",
       "      <td>2898.0</td>\n",
       "      <td>10</td>\n",
       "      <td>85.40044</td>\n",
       "      <td>34.22292</td>\n",
       "      <td>2.92913</td>\n",
       "      <td>-0.41583</td>\n",
       "      <td>4.55222</td>\n",
       "      <td>0.39295</td>\n",
       "      <td>2.50497</td>\n",
       "      <td>0.38533</td>\n",
       "      <td>0.10274</td>\n",
       "      <td>0.83659</td>\n",
       "      <td>0.00054</td>\n",
       "      <td>-0.00788</td>\n",
       "      <td>-0.00105</td>\n",
       "      <td>2898</td>\n",
       "      <td>218</td>\n",
       "    </tr>\n",
       "    <tr>\n",
       "      <th>1058</th>\n",
       "      <td>54546</td>\n",
       "      <td>2899.0</td>\n",
       "      <td>10</td>\n",
       "      <td>87.41877</td>\n",
       "      <td>34.38556</td>\n",
       "      <td>2.85675</td>\n",
       "      <td>-0.34975</td>\n",
       "      <td>4.44971</td>\n",
       "      <td>0.73204</td>\n",
       "      <td>1.67439</td>\n",
       "      <td>0.39746</td>\n",
       "      <td>0.09682</td>\n",
       "      <td>0.83858</td>\n",
       "      <td>0.00009</td>\n",
       "      <td>-0.00743</td>\n",
       "      <td>-0.00105</td>\n",
       "      <td>2899</td>\n",
       "      <td>218</td>\n",
       "    </tr>\n",
       "    <tr>\n",
       "      <th>1059</th>\n",
       "      <td>54571</td>\n",
       "      <td>2900.0</td>\n",
       "      <td>10</td>\n",
       "      <td>88.45332</td>\n",
       "      <td>34.48548</td>\n",
       "      <td>2.72527</td>\n",
       "      <td>-0.62380</td>\n",
       "      <td>5.18272</td>\n",
       "      <td>0.84098</td>\n",
       "      <td>1.40261</td>\n",
       "      <td>0.40230</td>\n",
       "      <td>0.09382</td>\n",
       "      <td>0.83977</td>\n",
       "      <td>0.00001</td>\n",
       "      <td>-0.00720</td>\n",
       "      <td>-0.00105</td>\n",
       "      <td>2900</td>\n",
       "      <td>218</td>\n",
       "    </tr>\n",
       "  </tbody>\n",
       "</table>\n",
       "</div>"
      ],
      "text/plain": [
       "      index       t   n         x         y    theta   grad_ux   grad_uy  \\\n",
       "1050  54385  2891.0  10  74.99498  24.50554  2.58878   1.28331   0.15079   \n",
       "1051  54400  2892.0  10  74.93767  25.53564  2.22591   1.34769  -0.00213   \n",
       "1052  54412  2893.0  10  75.01928  26.63973  2.54378   1.42583  -0.18391   \n",
       "1053  54432  2894.0  10  75.30656  27.90478  2.03426   1.51744  -0.39212   \n",
       "1054  54453  2895.0  10  75.93289  29.33195      NaN   1.77723  -1.00571   \n",
       "1055  54479  2896.0  10  77.09803  30.91954      NaN   2.23294  -2.06932   \n",
       "1056  54508  2897.0  10  80.99624  33.35312      NaN -26.22259  67.10875   \n",
       "1057  54513  2898.0  10  85.40044  34.22292  2.92913  -0.41583   4.55222   \n",
       "1058  54546  2899.0  10  87.41877  34.38556  2.85675  -0.34975   4.44971   \n",
       "1059  54571  2900.0  10  88.45332  34.48548  2.72527  -0.62380   5.18272   \n",
       "\n",
       "      grad_vx   grad_vy        v        f        s     dvdt     dfdt     dsdt  \\\n",
       "1050  1.78230  -1.43129  0.35983  0.13508  0.83881  0.00293 -0.01037 -0.00105   \n",
       "1051  1.87445  -1.60512  0.36379  0.13383  0.83739  0.00245 -0.01027 -0.00105   \n",
       "1052  2.09475  -2.08434  0.45769  0.10932  0.83344 -0.00383 -0.00839 -0.00104   \n",
       "1053  2.32174  -2.58781  0.45907  0.10821  0.83311 -0.00356 -0.00830 -0.00104   \n",
       "1054  3.03434  -4.29371  0.33317  0.14298  0.83908  0.00349 -0.01097 -0.00105   \n",
       "1055  5.04727  -9.09682  0.48615  0.09988  0.83319 -0.00450 -0.00767 -0.00104   \n",
       "1056 -3.56114  12.03777  0.33429  0.12849  0.83616  0.00287 -0.00986 -0.00105   \n",
       "1057  0.39295   2.50497  0.38533  0.10274  0.83659  0.00054 -0.00788 -0.00105   \n",
       "1058  0.73204   1.67439  0.39746  0.09682  0.83858  0.00009 -0.00743 -0.00105   \n",
       "1059  0.84098   1.40261  0.40230  0.09382  0.83977  0.00001 -0.00720 -0.00105   \n",
       "\n",
       "      frame  particle  \n",
       "1050   2891       218  \n",
       "1051   2892       218  \n",
       "1052   2893       218  \n",
       "1053   2894       218  \n",
       "1054   2895       218  \n",
       "1055   2896       218  \n",
       "1056   2897       218  \n",
       "1057   2898       218  \n",
       "1058   2899       218  \n",
       "1059   2900       218  "
      ]
     },
     "execution_count": 67,
     "metadata": {},
     "output_type": "execute_result"
    }
   ],
   "source": [
    "dd = d.reset_index()\n",
    "dd.iloc[1050:1060]"
   ]
  },
  {
   "cell_type": "code",
   "execution_count": 61,
   "metadata": {
    "ExecuteTime": {
     "end_time": "2020-12-17T21:26:27.617988Z",
     "start_time": "2020-12-17T21:26:27.595595Z"
    },
    "hidden": true
   },
   "outputs": [
    {
     "data": {
      "text/plain": [
       "array([77.09803, 80.99624, 85.40044, 87.41877])"
      ]
     },
     "execution_count": 61,
     "metadata": {},
     "output_type": "execute_result"
    }
   ],
   "source": [
    "x_values[1055:1059]"
   ]
  },
  {
   "cell_type": "code",
   "execution_count": 65,
   "metadata": {
    "ExecuteTime": {
     "end_time": "2020-12-17T21:27:42.502286Z",
     "start_time": "2020-12-17T21:27:42.486625Z"
    },
    "hidden": true
   },
   "outputs": [
    {
     "data": {
      "text/plain": [
       "array([77.09803, 80.99624, 85.40044, 87.41877])"
      ]
     },
     "execution_count": 65,
     "metadata": {},
     "output_type": "execute_result"
    }
   ],
   "source": [
    "x_values[1055:1059]"
   ]
  },
  {
   "cell_type": "code",
   "execution_count": 66,
   "metadata": {
    "ExecuteTime": {
     "end_time": "2020-12-17T21:27:47.197247Z",
     "start_time": "2020-12-17T21:27:47.182887Z"
    },
    "hidden": true
   },
   "outputs": [
    {
     "data": {
      "text/plain": [
       "(1850,)"
      ]
     },
     "execution_count": 66,
     "metadata": {},
     "output_type": "execute_result"
    }
   ],
   "source": [
    "x_values.shape"
   ]
  },
  {
   "cell_type": "markdown",
   "metadata": {
    "hidden": true
   },
   "source": [
    "__Result__ the longest lasting tip from this trial lasts 1.85 seconds.  It's max speed is roughly 0.11.  This largest speed has theta==Nan for 3 consecutive locations, and the nearby trajectory has theta>2. for all observations.\n",
    "\n",
    "- DONE: plot this trajectory and verify that it looks reasonable\n",
    "- TODO: compute the MSD for this trajectory, write result to txt file (hint: with open(fnout) as file:)\n",
    "- TODO: turn ^this into a quick accept/reject MSD recording file, and cycle through the N=171 files, manually verifying each one.  Keep track of files I reject in a separate file\n",
    "\n"
   ]
  },
  {
   "cell_type": "code",
   "execution_count": 73,
   "metadata": {
    "ExecuteTime": {
     "end_time": "2020-12-17T21:53:19.634389Z",
     "start_time": "2020-12-17T21:53:19.239114Z"
    },
    "hidden": true
   },
   "outputs": [
    {
     "data": {
      "image/png": "[encoded data removed]",
      "text/plain": [
       "<Figure size 360x360 with 1 Axes>"
      ]
     },
     "metadata": {
      "needs_background": "light"
     },
     "output_type": "display_data"
    }
   ],
   "source": [
    "#plot the xy trajectory for longliving tips\n",
    "saving = False\n",
    "fontsize=24\n",
    "df_traj = d.copy()\n",
    "col = \"t\"#'theta'\n",
    "# df_traj = df.query('t < 110 and t > 90').copy()\n",
    "# df_traj = df.query('t > 500').copy()\n",
    "# df_traj = df.copy()\n",
    "# savefig_dir = f'{nb_dir}/Figures/lifetime_analysis'\n",
    "# savefig_fn = data_fn.replace('.csv',f'_mistake_still_exists?_sigma_{sigma}_threshold_{threshold}.png')\n",
    "\n",
    "xmin=0; ymin=0; xmax=width; ymax=height; \n",
    "axis = [xmin,xmax,ymin,ymax]\n",
    "\n",
    "fig, ax = plt.subplots(figsize=(5,5))\n",
    "for pid in list(set(df_traj['particle'].values)):\n",
    "    x_values ,y_values, c_values = df_traj[(df_traj.particle==pid)][['x','y', col]].values.T \n",
    "    plt.scatter(x_values,y_values, s=5,#s=0.1\n",
    "                c=c_values, vmin = np.min(c_values), vmax = np.max(c_values), cmap=\"Blues\")\n",
    "    \n",
    "    plt.scatter([x_values[0]],[y_values[0]], s=10,color='green')\n",
    "    plt.scatter([x_values[-1]],[y_values[-1]], s=10,color='red')\n",
    "plt.axis(axis)\n",
    "plt.title(f'''more {col} = more blue''', fontsize=fontsize)\n",
    "ax.set_xlabel('x coordinate (pixels)', fontsize=fontsize)\n",
    "ax.set_ylabel('y coordinate (pixels)', fontsize=fontsize)\n",
    "if not saving: \n",
    "    plt.show() \n",
    "else:\n",
    "    plt.tight_layout()\n",
    "    os.chdir(savefig_dir)\n",
    "    plt.savefig(savefig_fn, dpi=300)\n",
    "    print(f\"saved figure in \\n\\t{savefig_fn}.\")"
   ]
  },
  {
   "cell_type": "code",
   "execution_count": 75,
   "metadata": {
    "ExecuteTime": {
     "end_time": "2020-12-17T21:56:19.047209Z",
     "start_time": "2020-12-17T21:56:19.021481Z"
    },
    "hidden": true
   },
   "outputs": [
    {
     "data": {
      "text/plain": [
       "lagt\n",
       "1.0     21.816803\n",
       "2.0     43.995041\n",
       "3.0     66.507777\n",
       "4.0     89.314673\n",
       "5.0    112.386659\n",
       "Name: msd, dtype: float64"
      ]
     },
     "execution_count": 75,
     "metadata": {},
     "output_type": "execute_result"
    }
   ],
   "source": [
    "# compute the MSD for this trajectory,\n",
    "msd_series = trackpy.motion.emsd(df_traj,mpp=1., fps=1.)\n",
    "msd_series.head()"
   ]
  },
  {
   "cell_type": "code",
   "execution_count": null,
   "metadata": {
    "hidden": true
   },
   "outputs": [],
   "source": [
    "#TODO: make trackpy.motion.emsd is using distance_L2_pbc\n",
    "kwa"
   ]
  },
  {
   "cell_type": "code",
   "execution_count": null,
   "metadata": {
    "hidden": true
   },
   "outputs": [],
   "source": []
  },
  {
   "cell_type": "code",
   "execution_count": 850,
   "metadata": {
    "ExecuteTime": {
     "end_time": "2020-11-06T06:41:49.652327Z",
     "start_time": "2020-11-06T06:41:49.533360Z"
    },
    "hidden": true
   },
   "outputs": [],
   "source": [
    "traj2 = pd.concat([traj.query(f'particle == {pid}') for pid in lst_pid_long_enough])"
   ]
  },
  {
   "cell_type": "code",
   "execution_count": 851,
   "metadata": {
    "ExecuteTime": {
     "end_time": "2020-11-06T06:41:50.236040Z",
     "start_time": "2020-11-06T06:41:50.216002Z"
    },
    "hidden": true
   },
   "outputs": [],
   "source": [
    "fps = 1/h*10**3 #frames per second\n",
    "mpp = 5/200*10**4 #microns per pixel"
   ]
  },
  {
   "cell_type": "code",
   "execution_count": 852,
   "metadata": {
    "ExecuteTime": {
     "end_time": "2020-11-06T06:41:50.982131Z",
     "start_time": "2020-11-06T06:41:50.806932Z"
    },
    "hidden": true
   },
   "outputs": [],
   "source": [
    "\n",
    "# msd_series = trackpy.motion.emsd(traj,mpp=mpp, fps=fps)\n",
    "msd_series = trackpy.motion.emsd(traj2,mpp=mpp, fps=fps)\n",
    "x_values = msd_series.index.values*10**3\n",
    "y_values = msd_series.values/10**6"
   ]
  },
  {
   "cell_type": "code",
   "execution_count": 853,
   "metadata": {
    "ExecuteTime": {
     "end_time": "2020-11-06T06:41:51.681148Z",
     "start_time": "2020-11-06T06:41:51.529372Z"
    },
    "hidden": true,
    "scrolled": true
   },
   "outputs": [
    {
     "data": {
      "image/png": "[encoded data removed]",
      "text/plain": [
       "<Figure size 432x288 with 1 Axes>"
      ]
     },
     "metadata": {
      "needs_background": "light"
     },
     "output_type": "display_data"
    }
   ],
   "source": [
    "# plt.plot(msd_series.index.values,msd_series.values)\n",
    "plt.scatter(x=x_values,y=y_values)\n",
    "# plt.xscale('log')\n",
    "# plt.yscale('log')\n",
    "plt.xlabel('lag (ms)')\n",
    "plt.ylabel('MSD (cm^2)')\n",
    "plt.show()"
   ]
  },
  {
   "cell_type": "code",
   "execution_count": 857,
   "metadata": {
    "ExecuteTime": {
     "end_time": "2020-11-06T06:42:13.768032Z",
     "start_time": "2020-11-06T06:42:13.741851Z"
    },
    "hidden": true,
    "scrolled": true
   },
   "outputs": [
    {
     "data": {
      "text/plain": [
       "array([2.500e-05, 5.000e-05, 7.500e-05, 1.000e-04, 1.250e-04, 1.500e-04,\n",
       "       1.750e-04, 2.000e-04, 2.250e-04, 2.500e-04, 2.750e-04, 3.000e-04,\n",
       "       3.250e-04, 3.500e-04, 3.750e-04, 4.000e-04, 4.250e-04, 4.500e-04,\n",
       "       4.750e-04, 5.000e-04, 5.250e-04, 5.500e-04, 5.750e-04, 6.000e-04,\n",
       "       6.250e-04, 6.500e-04, 6.750e-04, 7.000e-04, 7.250e-04, 7.500e-04,\n",
       "       7.750e-04, 8.000e-04, 8.250e-04, 8.500e-04, 8.750e-04, 9.000e-04,\n",
       "       9.250e-04, 9.500e-04, 9.750e-04, 1.000e-03, 1.025e-03, 1.050e-03,\n",
       "       1.075e-03, 1.100e-03, 1.125e-03, 1.150e-03, 1.175e-03, 1.200e-03,\n",
       "       1.225e-03, 1.250e-03, 1.275e-03, 1.300e-03, 1.325e-03, 1.350e-03,\n",
       "       1.375e-03, 1.400e-03, 1.425e-03, 1.450e-03, 1.475e-03, 1.500e-03,\n",
       "       1.525e-03, 1.550e-03, 1.575e-03, 1.600e-03, 1.625e-03, 1.650e-03,\n",
       "       1.675e-03, 1.700e-03, 1.725e-03, 1.750e-03, 1.775e-03, 1.800e-03,\n",
       "       1.825e-03, 1.850e-03, 1.875e-03, 1.900e-03, 1.925e-03, 1.950e-03,\n",
       "       1.975e-03, 2.000e-03, 2.025e-03, 2.050e-03, 2.075e-03, 2.100e-03,\n",
       "       2.125e-03, 2.150e-03, 2.175e-03, 2.200e-03, 2.225e-03, 2.250e-03,\n",
       "       2.275e-03, 2.300e-03, 2.325e-03, 2.350e-03, 2.375e-03, 2.400e-03,\n",
       "       2.425e-03, 2.450e-03, 2.475e-03, 2.500e-03])"
      ]
     },
     "execution_count": 857,
     "metadata": {},
     "output_type": "execute_result"
    }
   ],
   "source": [
    "msd_series.index.values"
   ]
  },
  {
   "cell_type": "code",
   "execution_count": 82,
   "metadata": {
    "ExecuteTime": {
     "end_time": "2020-12-17T22:00:17.322265Z",
     "start_time": "2020-12-17T22:00:17.204834Z"
    },
    "hidden": true
   },
   "outputs": [
    {
     "ename": "TypeError",
     "evalue": "emsd() got an unexpected keyword argument 'dist_func'",
     "output_type": "error",
     "traceback": [
      "\u001b[0;31m---------------------------------------------------------------------------\u001b[0m",
      "\u001b[0;31mTypeError\u001b[0m                                 Traceback (most recent call last)",
      "\u001b[0;32m<ipython-input-82-f58659b83c78>\u001b[0m in \u001b[0;36m<module>\u001b[0;34m\u001b[0m\n\u001b[1;32m     14\u001b[0m \u001b[0;34m\u001b[0m\u001b[0m\n\u001b[1;32m     15\u001b[0m traj = trackpy.motion.emsd(\n\u001b[0;32m---> 16\u001b[0;31m     df_traj,**link_kwargs)\n\u001b[0m",
      "\u001b[0;31mTypeError\u001b[0m: emsd() got an unexpected keyword argument 'dist_func'"
     ]
    }
   ],
   "source": [
    "mem=2; sr=400;#width=200, height=200, \n",
    "adaptive_step=0.5;adaptive_stop=1e-5#, **kwargs\n",
    "\n",
    "distance_L2_pbc = get_distance_L2_pbc(width,height)\n",
    "\n",
    "link_kwargs = {\n",
    "#     'neighbor_strategy' : 'BTree',\n",
    "#     'adaptive_step':adaptive_step,\n",
    "#     'adaptive_stop': adaptive_stop,\n",
    "    'dist_func'         : distance_L2_pbc,\n",
    "    'memory': mem,\n",
    "    'search_range':sr\n",
    "}\n",
    "\n",
    "traj = trackpy.motion.emsd(\n",
    "    df_traj,**link_kwargs)"
   ]
  },
  {
   "cell_type": "code",
   "execution_count": 83,
   "metadata": {
    "ExecuteTime": {
     "end_time": "2020-12-17T22:00:48.512836Z",
     "start_time": "2020-12-17T22:00:48.498621Z"
    },
    "hidden": true
   },
   "outputs": [],
   "source": [
    "trackpy.motion.msd?"
   ]
  },
  {
   "cell_type": "markdown",
   "metadata": {
    "heading_collapsed": true
   },
   "source": [
    "# (ignore) pbc enforced msd is not implemented.\n",
    "- TODO: implement it on this trajectory \n",
    "- TODO: simply generalize ^that.  hint: square grid indexed by winding_number_x and winding_number_y"
   ]
  },
  {
   "cell_type": "code",
   "execution_count": 84,
   "metadata": {
    "ExecuteTime": {
     "end_time": "2020-12-17T22:10:10.579340Z",
     "start_time": "2020-12-17T22:10:10.565816Z"
    },
    "hidden": true
   },
   "outputs": [
    {
     "data": {
      "text/plain": [
       "array([150.30597, 152.6806 , 154.25487, ...,  47.6068 ,  48.99844,\n",
       "        50.59024])"
      ]
     },
     "execution_count": 84,
     "metadata": {},
     "output_type": "execute_result"
    }
   ],
   "source": [
    "x_values\n",
    "y_values"
   ]
  },
  {
   "cell_type": "code",
   "execution_count": 85,
   "metadata": {
    "ExecuteTime": {
     "end_time": "2020-12-17T22:10:25.377652Z",
     "start_time": "2020-12-17T22:10:25.359748Z"
    },
    "hidden": true
   },
   "outputs": [],
   "source": [
    "from inspect import getsource"
   ]
  },
  {
   "cell_type": "markdown",
   "metadata": {
    "ExecuteTime": {
     "end_time": "2020-12-17T22:15:15.790066Z",
     "start_time": "2020-12-17T22:15:15.777305Z"
    },
    "hidden": true
   },
   "source": [
    "print (getsource (trackpy.motion._msd_fft))\n",
    "\n",
    "#this takes time O(N^2), and ^they present an O(N) method that uses FFT.  Howeever, my task is short, and it needs to explicitly obey periodic boundary conditions, which would mean I would need to understand their complicated method.\n"
   ]
  },
  {
   "cell_type": "code",
   "execution_count": 93,
   "metadata": {
    "ExecuteTime": {
     "end_time": "2020-12-17T22:16:59.074550Z",
     "start_time": "2020-12-17T22:16:59.059581Z"
    },
    "hidden": true
   },
   "outputs": [],
   "source": [
    "# from https://stackoverflow.com/questions/34222272/computing-mean-square-displacement-using-python-and-fft#34222273.\n",
    "def msd_straight_forward(r):\n",
    "    shifts = np.arange(len(r))\n",
    "    msds = np.zeros(shifts.size)    \n",
    "\n",
    "    for i, shift in enumerate(shifts):\n",
    "        diffs = r[:-shift if shift else None] - r[shift:]\n",
    "        sqdist = np.square(diffs).sum(axis=1)\n",
    "        msds[i] = sqdist.mean()\n",
    "\n",
    "    return msds"
   ]
  },
  {
   "cell_type": "code",
   "execution_count": 94,
   "metadata": {
    "ExecuteTime": {
     "end_time": "2020-12-17T22:17:39.742409Z",
     "start_time": "2020-12-17T22:17:39.728627Z"
    },
    "hidden": true
   },
   "outputs": [],
   "source": [
    "# def msd_pbc(r):\n"
   ]
  },
  {
   "cell_type": "code",
   "execution_count": 104,
   "metadata": {
    "ExecuteTime": {
     "end_time": "2020-12-17T22:19:04.007558Z",
     "start_time": "2020-12-17T22:19:03.986389Z"
    },
    "hidden": true
   },
   "outputs": [],
   "source": [
    "pos_arr = np.vstack([x_values,y_values]).T\n",
    "shifts = np.arange(len(pos_arr))"
   ]
  },
  {
   "cell_type": "code",
   "execution_count": 113,
   "metadata": {
    "ExecuteTime": {
     "end_time": "2020-12-17T22:21:46.333279Z",
     "start_time": "2020-12-17T22:21:46.313681Z"
    },
    "hidden": true
   },
   "outputs": [],
   "source": [
    "i = 1\n",
    "shift = shifts[i]"
   ]
  },
  {
   "cell_type": "code",
   "execution_count": 107,
   "metadata": {
    "ExecuteTime": {
     "end_time": "2020-12-17T22:20:01.419079Z",
     "start_time": "2020-12-17T22:20:01.400381Z"
    },
    "hidden": true
   },
   "outputs": [
    {
     "ename": "NameError",
     "evalue": "name 'msd' is not defined",
     "output_type": "error",
     "traceback": [
      "\u001b[0;31m---------------------------------------------------------------------------\u001b[0m",
      "\u001b[0;31mNameError\u001b[0m                                 Traceback (most recent call last)",
      "\u001b[0;32m<ipython-input-107-4743851bd94f>\u001b[0m in \u001b[0;36m<module>\u001b[0;34m\u001b[0m\n\u001b[0;32m----> 1\u001b[0;31m \u001b[0mmsd_lst\u001b[0m \u001b[0;34m=\u001b[0m \u001b[0;34m[\u001b[0m\u001b[0mmsd\u001b[0m\u001b[0;34m]\u001b[0m\u001b[0;34m\u001b[0m\u001b[0;34m\u001b[0m\u001b[0m\n\u001b[0m",
      "\u001b[0;31mNameError\u001b[0m: name 'msd' is not defined"
     ]
    }
   ],
   "source": [
    "msd_lst = [msd]\n"
   ]
  },
  {
   "cell_type": "code",
   "execution_count": 114,
   "metadata": {
    "ExecuteTime": {
     "end_time": "2020-12-17T22:21:50.662308Z",
     "start_time": "2020-12-17T22:21:50.647001Z"
    },
    "hidden": true
   },
   "outputs": [
    {
     "data": {
      "text/plain": [
       "21.816802733236894"
      ]
     },
     "execution_count": 114,
     "metadata": {},
     "output_type": "execute_result"
    }
   ],
   "source": [
    "#TODO: compute all lag-1 msd's\n",
    "diffs = pos_arr[:-shift if shift else None] - pos_arr[shift:]\n",
    "sqdist = np.square(diffs).sum(axis=1)\n",
    "# msds[i] = \n",
    "sqdist.mean()"
   ]
  },
  {
   "cell_type": "markdown",
   "metadata": {
    "hidden": true
   },
   "source": [
    "np.square is not square_pbc"
   ]
  },
  {
   "cell_type": "code",
   "execution_count": 131,
   "metadata": {
    "ExecuteTime": {
     "end_time": "2020-12-17T22:29:43.377252Z",
     "start_time": "2020-12-17T22:29:43.356936Z"
    },
    "hidden": true
   },
   "outputs": [],
   "source": [
    "\n",
    "dist0_lst = []\n",
    "shift=1\n",
    "for i in range(N-shift):\n",
    "    dist0_lst.append(distance_L2_pbc(pos_arr[i+shift],pos_arr[i]))"
   ]
  },
  {
   "cell_type": "code",
   "execution_count": 133,
   "metadata": {
    "ExecuteTime": {
     "end_time": "2020-12-17T22:31:33.099663Z",
     "start_time": "2020-12-17T22:31:33.085321Z"
    },
    "hidden": true
   },
   "outputs": [],
   "source": [
    "# !pip install jaxlib\n",
    "dist0_arr = np.array(dist0_lst)"
   ]
  },
  {
   "cell_type": "code",
   "execution_count": 128,
   "metadata": {
    "ExecuteTime": {
     "end_time": "2020-12-17T22:28:27.502190Z",
     "start_time": "2020-12-17T22:28:27.488898Z"
    },
    "hidden": true
   },
   "outputs": [],
   "source": [
    "# from numba import vectorize\n",
    "# from jax import vmap"
   ]
  },
  {
   "cell_type": "code",
   "execution_count": 127,
   "metadata": {
    "ExecuteTime": {
     "end_time": "2020-12-17T22:28:05.503757Z",
     "start_time": "2020-12-17T22:28:05.449617Z"
    },
    "hidden": true
   },
   "outputs": [
    {
     "ename": "TypeError",
     "evalue": "No matching definition for argument type(s) pyobject, pyobject",
     "output_type": "error",
     "traceback": [
      "\u001b[0;31m---------------------------------------------------------------------------\u001b[0m",
      "\u001b[0;31mFilteredStackTrace\u001b[0m                        Traceback (most recent call last)",
      "\u001b[0;32m<ipython-input-127-959f752ee780>\u001b[0m in \u001b[0;36m<module>\u001b[0;34m\u001b[0m\n\u001b[0;32m----> 1\u001b[0;31m \u001b[0mretval\u001b[0m \u001b[0;34m=\u001b[0m \u001b[0mvmap\u001b[0m\u001b[0;34m(\u001b[0m\u001b[0mdistance_L2_pbc\u001b[0m\u001b[0;34m)\u001b[0m\u001b[0;34m(\u001b[0m\u001b[0mpos_arr\u001b[0m\u001b[0;34m[\u001b[0m\u001b[0;34m:\u001b[0m\u001b[0;34m-\u001b[0m\u001b[0mshift\u001b[0m \u001b[0;32mif\u001b[0m \u001b[0mshift\u001b[0m \u001b[0;32melse\u001b[0m \u001b[0;32mNone\u001b[0m\u001b[0;34m]\u001b[0m \u001b[0;34m,\u001b[0m \u001b[0mpos_arr\u001b[0m\u001b[0;34m[\u001b[0m\u001b[0mshift\u001b[0m\u001b[0;34m:\u001b[0m\u001b[0;34m]\u001b[0m\u001b[0;34m)\u001b[0m\u001b[0;34m\u001b[0m\u001b[0;34m\u001b[0m\u001b[0m\n\u001b[0m",
      "\u001b[0;32m~/anaconda3/lib/python3.7/site-packages/numba/dispatcher.py\u001b[0m in \u001b[0;36m_explain_matching_error\u001b[0;34m(self, *args, **kws)\u001b[0m\n\u001b[1;32m    573\u001b[0m                % ', '.join(map(str, args)))\n\u001b[0;32m--> 574\u001b[0;31m         \u001b[0;32mraise\u001b[0m \u001b[0mTypeError\u001b[0m\u001b[0;34m(\u001b[0m\u001b[0mmsg\u001b[0m\u001b[0;34m)\u001b[0m\u001b[0;34m\u001b[0m\u001b[0;34m\u001b[0m\u001b[0m\n\u001b[0m\u001b[1;32m    575\u001b[0m \u001b[0;34m\u001b[0m\u001b[0m\n",
      "\u001b[0;31mFilteredStackTrace\u001b[0m: TypeError: No matching definition for argument type(s) pyobject, pyobject\n\nThe stack trace above excludes JAX-internal frames.\nThe following is the original exception that occurred, unmodified.\n\n--------------------",
      "\nThe above exception was the direct cause of the following exception:\n",
      "\u001b[0;31mTypeError\u001b[0m                                 Traceback (most recent call last)",
      "\u001b[0;32m<ipython-input-127-959f752ee780>\u001b[0m in \u001b[0;36m<module>\u001b[0;34m\u001b[0m\n\u001b[0;32m----> 1\u001b[0;31m \u001b[0mretval\u001b[0m \u001b[0;34m=\u001b[0m \u001b[0mvmap\u001b[0m\u001b[0;34m(\u001b[0m\u001b[0mdistance_L2_pbc\u001b[0m\u001b[0;34m)\u001b[0m\u001b[0;34m(\u001b[0m\u001b[0mpos_arr\u001b[0m\u001b[0;34m[\u001b[0m\u001b[0;34m:\u001b[0m\u001b[0;34m-\u001b[0m\u001b[0mshift\u001b[0m \u001b[0;32mif\u001b[0m \u001b[0mshift\u001b[0m \u001b[0;32melse\u001b[0m \u001b[0;32mNone\u001b[0m\u001b[0;34m]\u001b[0m \u001b[0;34m,\u001b[0m \u001b[0mpos_arr\u001b[0m\u001b[0;34m[\u001b[0m\u001b[0mshift\u001b[0m\u001b[0;34m:\u001b[0m\u001b[0;34m]\u001b[0m\u001b[0;34m)\u001b[0m\u001b[0;34m\u001b[0m\u001b[0;34m\u001b[0m\u001b[0m\n\u001b[0m",
      "\u001b[0;32m~/anaconda3/lib/python3.7/site-packages/jax/_src/traceback_util.py\u001b[0m in \u001b[0;36mreraise_with_filtered_traceback\u001b[0;34m(*args, **kwargs)\u001b[0m\n\u001b[1;32m    137\u001b[0m   \u001b[0;32mdef\u001b[0m \u001b[0mreraise_with_filtered_traceback\u001b[0m\u001b[0;34m(\u001b[0m\u001b[0;34m*\u001b[0m\u001b[0margs\u001b[0m\u001b[0;34m,\u001b[0m \u001b[0;34m**\u001b[0m\u001b[0mkwargs\u001b[0m\u001b[0;34m)\u001b[0m\u001b[0;34m:\u001b[0m\u001b[0;34m\u001b[0m\u001b[0;34m\u001b[0m\u001b[0m\n\u001b[1;32m    138\u001b[0m     \u001b[0;32mtry\u001b[0m\u001b[0;34m:\u001b[0m\u001b[0;34m\u001b[0m\u001b[0;34m\u001b[0m\u001b[0m\n\u001b[0;32m--> 139\u001b[0;31m       \u001b[0;32mreturn\u001b[0m \u001b[0mfun\u001b[0m\u001b[0;34m(\u001b[0m\u001b[0;34m*\u001b[0m\u001b[0margs\u001b[0m\u001b[0;34m,\u001b[0m \u001b[0;34m**\u001b[0m\u001b[0mkwargs\u001b[0m\u001b[0;34m)\u001b[0m\u001b[0;34m\u001b[0m\u001b[0;34m\u001b[0m\u001b[0m\n\u001b[0m\u001b[1;32m    140\u001b[0m     \u001b[0;32mexcept\u001b[0m \u001b[0mException\u001b[0m \u001b[0;32mas\u001b[0m \u001b[0me\u001b[0m\u001b[0;34m:\u001b[0m\u001b[0;34m\u001b[0m\u001b[0;34m\u001b[0m\u001b[0m\n\u001b[1;32m    141\u001b[0m       \u001b[0;32mif\u001b[0m \u001b[0;32mnot\u001b[0m \u001b[0mis_under_reraiser\u001b[0m\u001b[0;34m(\u001b[0m\u001b[0me\u001b[0m\u001b[0;34m)\u001b[0m\u001b[0;34m:\u001b[0m\u001b[0;34m\u001b[0m\u001b[0;34m\u001b[0m\u001b[0m\n",
      "\u001b[0;32m~/anaconda3/lib/python3.7/site-packages/jax/api.py\u001b[0m in \u001b[0;36mbatched_fun\u001b[0;34m(*args)\u001b[0m\n\u001b[1;32m   1187\u001b[0m                               lambda: flatten_axes(\"vmap out_axes\", out_tree(),\n\u001b[1;32m   1188\u001b[0m                                                    out_axes),\n\u001b[0;32m-> 1189\u001b[0;31m                               axis_name=axis_name)\n\u001b[0m\u001b[1;32m   1190\u001b[0m     \u001b[0;32mreturn\u001b[0m \u001b[0mtree_unflatten\u001b[0m\u001b[0;34m(\u001b[0m\u001b[0mout_tree\u001b[0m\u001b[0;34m(\u001b[0m\u001b[0;34m)\u001b[0m\u001b[0;34m,\u001b[0m \u001b[0mout_flat\u001b[0m\u001b[0;34m)\u001b[0m\u001b[0;34m\u001b[0m\u001b[0;34m\u001b[0m\u001b[0m\n\u001b[1;32m   1191\u001b[0m \u001b[0;34m\u001b[0m\u001b[0m\n",
      "\u001b[0;32m~/anaconda3/lib/python3.7/site-packages/jax/interpreters/batching.py\u001b[0m in \u001b[0;36mbatch\u001b[0;34m(fun, in_vals, in_dims, out_dim_dests, axis_name)\u001b[0m\n\u001b[1;32m     33\u001b[0m   \u001b[0;31m# executes a batched version of `fun` following out_dim_dests\u001b[0m\u001b[0;34m\u001b[0m\u001b[0;34m\u001b[0m\u001b[0;34m\u001b[0m\u001b[0m\n\u001b[1;32m     34\u001b[0m   \u001b[0mbatched_fun\u001b[0m \u001b[0;34m=\u001b[0m \u001b[0mbatch_fun\u001b[0m\u001b[0;34m(\u001b[0m\u001b[0mfun\u001b[0m\u001b[0;34m,\u001b[0m \u001b[0min_dims\u001b[0m\u001b[0;34m,\u001b[0m \u001b[0mout_dim_dests\u001b[0m\u001b[0;34m,\u001b[0m \u001b[0maxis_name\u001b[0m\u001b[0;34m=\u001b[0m\u001b[0maxis_name\u001b[0m\u001b[0;34m)\u001b[0m\u001b[0;34m\u001b[0m\u001b[0;34m\u001b[0m\u001b[0m\n\u001b[0;32m---> 35\u001b[0;31m   \u001b[0;32mreturn\u001b[0m \u001b[0mbatched_fun\u001b[0m\u001b[0;34m.\u001b[0m\u001b[0mcall_wrapped\u001b[0m\u001b[0;34m(\u001b[0m\u001b[0;34m*\u001b[0m\u001b[0min_vals\u001b[0m\u001b[0;34m)\u001b[0m\u001b[0;34m\u001b[0m\u001b[0;34m\u001b[0m\u001b[0m\n\u001b[0m\u001b[1;32m     36\u001b[0m \u001b[0;34m\u001b[0m\u001b[0m\n\u001b[1;32m     37\u001b[0m \u001b[0;34m@\u001b[0m\u001b[0mlu\u001b[0m\u001b[0;34m.\u001b[0m\u001b[0mtransformation_with_aux\u001b[0m\u001b[0;34m\u001b[0m\u001b[0;34m\u001b[0m\u001b[0m\n",
      "\u001b[0;32m~/anaconda3/lib/python3.7/site-packages/jax/linear_util.py\u001b[0m in \u001b[0;36mcall_wrapped\u001b[0;34m(self, *args, **kwargs)\u001b[0m\n\u001b[1;32m    158\u001b[0m \u001b[0;34m\u001b[0m\u001b[0m\n\u001b[1;32m    159\u001b[0m     \u001b[0;32mtry\u001b[0m\u001b[0;34m:\u001b[0m\u001b[0;34m\u001b[0m\u001b[0;34m\u001b[0m\u001b[0m\n\u001b[0;32m--> 160\u001b[0;31m       \u001b[0mans\u001b[0m \u001b[0;34m=\u001b[0m \u001b[0mself\u001b[0m\u001b[0;34m.\u001b[0m\u001b[0mf\u001b[0m\u001b[0;34m(\u001b[0m\u001b[0;34m*\u001b[0m\u001b[0margs\u001b[0m\u001b[0;34m,\u001b[0m \u001b[0;34m**\u001b[0m\u001b[0mdict\u001b[0m\u001b[0;34m(\u001b[0m\u001b[0mself\u001b[0m\u001b[0;34m.\u001b[0m\u001b[0mparams\u001b[0m\u001b[0;34m,\u001b[0m \u001b[0;34m**\u001b[0m\u001b[0mkwargs\u001b[0m\u001b[0;34m)\u001b[0m\u001b[0;34m)\u001b[0m\u001b[0;34m\u001b[0m\u001b[0;34m\u001b[0m\u001b[0m\n\u001b[0m\u001b[1;32m    161\u001b[0m     \u001b[0;32mexcept\u001b[0m\u001b[0;34m:\u001b[0m\u001b[0;34m\u001b[0m\u001b[0;34m\u001b[0m\u001b[0m\n\u001b[1;32m    162\u001b[0m       \u001b[0;31m# Some transformations yield from inside context managers, so we have to\u001b[0m\u001b[0;34m\u001b[0m\u001b[0;34m\u001b[0m\u001b[0;34m\u001b[0m\u001b[0m\n",
      "\u001b[0;32m~/anaconda3/lib/python3.7/site-packages/numba/dispatcher.py\u001b[0m in \u001b[0;36m_explain_matching_error\u001b[0;34m(self, *args, **kws)\u001b[0m\n\u001b[1;32m    572\u001b[0m         msg = (\"No matching definition for argument type(s) %s\"\n\u001b[1;32m    573\u001b[0m                % ', '.join(map(str, args)))\n\u001b[0;32m--> 574\u001b[0;31m         \u001b[0;32mraise\u001b[0m \u001b[0mTypeError\u001b[0m\u001b[0;34m(\u001b[0m\u001b[0mmsg\u001b[0m\u001b[0;34m)\u001b[0m\u001b[0;34m\u001b[0m\u001b[0;34m\u001b[0m\u001b[0m\n\u001b[0m\u001b[1;32m    575\u001b[0m \u001b[0;34m\u001b[0m\u001b[0m\n\u001b[1;32m    576\u001b[0m     \u001b[0;32mdef\u001b[0m \u001b[0m_search_new_conversions\u001b[0m\u001b[0;34m(\u001b[0m\u001b[0mself\u001b[0m\u001b[0;34m,\u001b[0m \u001b[0;34m*\u001b[0m\u001b[0margs\u001b[0m\u001b[0;34m,\u001b[0m \u001b[0;34m**\u001b[0m\u001b[0mkws\u001b[0m\u001b[0;34m)\u001b[0m\u001b[0;34m:\u001b[0m\u001b[0;34m\u001b[0m\u001b[0;34m\u001b[0m\u001b[0m\n",
      "\u001b[0;31mTypeError\u001b[0m: No matching definition for argument type(s) pyobject, pyobject"
     ]
    }
   ],
   "source": [
    "# retval = vmap(distance_L2_pbc)(pos_arr[:-shift if shift else None] , pos_arr[shift:])"
   ]
  },
  {
   "cell_type": "code",
   "execution_count": 135,
   "metadata": {
    "ExecuteTime": {
     "end_time": "2020-12-17T22:34:04.036273Z",
     "start_time": "2020-12-17T22:34:04.015045Z"
    },
    "hidden": true
   },
   "outputs": [],
   "source": [
    "#compute the set of all msd's given a starting positon\n",
    "starting_position = 7\n",
    "ending_position = N-1\n",
    "msd_lst_from_starting_position = [dist0_lst[starting_position]]"
   ]
  },
  {
   "cell_type": "code",
   "execution_count": 136,
   "metadata": {
    "ExecuteTime": {
     "end_time": "2020-12-17T22:34:20.375819Z",
     "start_time": "2020-12-17T22:34:20.357550Z"
    },
    "hidden": true
   },
   "outputs": [
    {
     "ename": "NameError",
     "evalue": "name 'compute' is not defined",
     "output_type": "error",
     "traceback": [
      "\u001b[0;31m---------------------------------------------------------------------------\u001b[0m",
      "\u001b[0;31mNameError\u001b[0m                                 Traceback (most recent call last)",
      "\u001b[0;32m<ipython-input-136-14db34e22eee>\u001b[0m in \u001b[0;36m<module>\u001b[0;34m\u001b[0m\n\u001b[0;32m----> 1\u001b[0;31m \u001b[0mcompute\u001b[0m\u001b[0;34m\u001b[0m\u001b[0;34m\u001b[0m\u001b[0m\n\u001b[0m",
      "\u001b[0;31mNameError\u001b[0m: name 'compute' is not defined"
     ]
    }
   ],
   "source": [
    "compute"
   ]
  },
  {
   "cell_type": "code",
   "execution_count": null,
   "metadata": {
    "hidden": true
   },
   "outputs": [],
   "source": []
  },
  {
   "cell_type": "markdown",
   "metadata": {
    "ExecuteTime": {
     "end_time": "2020-12-17T22:35:05.606441Z",
     "start_time": "2020-12-17T22:35:05.589406Z"
    },
    "heading_collapsed": true
   },
   "source": [
    "# easierway: unwrap the trajectory from pbc \n",
    "to spatially extended euclidean, then just run it through the function from trackpy!"
   ]
  },
  {
   "cell_type": "code",
   "execution_count": 182,
   "metadata": {
    "ExecuteTime": {
     "end_time": "2020-12-18T00:24:31.102754Z",
     "start_time": "2020-12-18T00:24:31.087104Z"
    },
    "hidden": true
   },
   "outputs": [],
   "source": [
    "#DONE: identify any jumps\n",
    "# x_values ,y_values, c_values = df_traj[(df_traj.particle==pid)][['x','y', col]].values.T\n",
    "# DT = np.mean(d.t.diff().dropna().values) #ms per frame\n",
    "# x_values = d.x.values\n",
    "# y_values = d.y.values\n",
    "\n",
    "def find_jumps(x_values,y_values,width=200,height=200, DS=5/200,DT=1):\n",
    "    '''\n",
    "    jump_index_array, spd_lst = find_jumps(x_values,y_values)\n",
    "    '''\n",
    "    #compute the speed of this longest trajectory using pbc\n",
    "    #     width = 200; height = 200;\n",
    "    thresh = np.min((width,height))/2 #threshold displacement to be considered a jump\n",
    "    distance_L2_pbc = get_distance_L2_pbc(width,height)\n",
    "    #     DT = 1.#np.mean(d.t.diff().dropna().values) #ms per frame\n",
    "    #     DS = 5/200 #cm per pixels\n",
    "    N = x_values.shape[0]\n",
    "    spd_lst = []\n",
    "    spd_lst_naive = []\n",
    "    for i in range(N-1):\n",
    "        #compute a speed for i = 0,1,2,...,N-1\n",
    "        pt_nxt = np.array((x_values[i+1],y_values[i+1]))\n",
    "        pt_prv = np.array((x_values[i],y_values[i]))\n",
    "        spd = distance_L2_pbc(pt_nxt,pt_prv)*DS/DT #pixels per ms\n",
    "        spd_lst.append(spd)\n",
    "        spd = np.linalg.norm(pt_nxt-pt_prv)\n",
    "        spd_lst_naive.append(np.linalg.norm(spd))\n",
    "    boo = (np.array(spd_lst_naive)>thresh)\n",
    "    #     boo.any()\n",
    "    jump_index_array = np.argwhere(boo).flatten()\n",
    "    return jump_index_array, spd_lst"
   ]
  },
  {
   "cell_type": "code",
   "execution_count": 183,
   "metadata": {
    "ExecuteTime": {
     "end_time": "2020-12-18T00:24:31.720410Z",
     "start_time": "2020-12-18T00:24:31.704518Z"
    },
    "hidden": true
   },
   "outputs": [],
   "source": [
    "def unwrap_for_each_jump(x_values,y_values,jump_index_array, width=200,height=200):\n",
    "    '''ux,yv = unwrap_for_each_jump(x_values,y_values,jump_index_array) '''\n",
    "    yv = y_values.copy()\n",
    "    xv = x_values.copy()\n",
    "    for j in  jump_index_array:\n",
    "        DX = xv[j]-xv[j+1]\n",
    "        DY = yv[j]-yv[j+1]\n",
    "        BX = True\n",
    "        BY = True\n",
    "        if np.abs(DY)>np.abs(DX):\n",
    "            #the jump happened over the y boundary\n",
    "            if DY>0:\n",
    "                #the jump happend from bottom to top\n",
    "                if BY:\n",
    "                    yv[j+1:] = yv[j+1:]+height\n",
    "#                     BY=False\n",
    "                else:\n",
    "                    #taking care of parity\n",
    "                    BY=True\n",
    "            else: \n",
    "                #the jump happened from top to bottom\n",
    "                if BY:\n",
    "                    yv[j+1:] = yv[j+1:]-height\n",
    "#                     BY=False\n",
    "                else:\n",
    "                    #taking care of parity\n",
    "                    BY=True\n",
    "        else:\n",
    "            #the jump happened over the x boundary\n",
    "            if DX>0:\n",
    "                #the jump happend from left to right                \n",
    "                if BX:\n",
    "                    xv[j+1:] = xv[j+1:]+width\n",
    "#                     BX=False\n",
    "                else:\n",
    "                    #taking care of parity\n",
    "                    BX=True\n",
    "\n",
    "            else: \n",
    "                #the jump happend from left to right                \n",
    "                if BX:\n",
    "                    xv[j+1:] = xv[j+1:]-width\n",
    "#                     BX=False\n",
    "                else:\n",
    "                    #taking care of parity\n",
    "                    BX=True\n",
    "    return xv,yv\n"
   ]
  },
  {
   "cell_type": "code",
   "execution_count": 184,
   "metadata": {
    "ExecuteTime": {
     "end_time": "2020-12-18T00:24:32.251182Z",
     "start_time": "2020-12-18T00:24:32.238175Z"
    },
    "hidden": true
   },
   "outputs": [],
   "source": [
    "# def unwrap_for_each_jump(x_values,y_values,jump_index_array, width=200,height=200):\n",
    "#     '''ux,yv = unwrap_for_each_jump(x_values,y_values,jump_index_array) '''\n",
    "#     yv = y_values.copy()\n",
    "#     xv = x_values.copy()\n",
    "#     for j in  jump_index_array:\n",
    "#         DX = xv[j]-xv[j+1]\n",
    "#         DY = yv[j]-yv[j+1]\n",
    "#         last_jump_x = 'neither'\n",
    "#         last_jump_y = 'neither'\n",
    "# #         BX = True\n",
    "# #         BY = True\n",
    "#         if np.abs(DY)>np.abs(DX):\n",
    "#             #the jump happened over the y boundary\n",
    "#             if DY>0:\n",
    "#                 #the jump happend from bottom to top\n",
    "#                 if last_jump_x!='tb':\n",
    "#                     yv[j+1:] = yv[j+1:]+height\n",
    "#                 last_jump_x='bt'\n",
    "# #                 else:\n",
    "# #                     #taking care of parity\n",
    "# #                     BY=True\n",
    "#             else: \n",
    "#                 #the jump happened from top to bottom\n",
    "#                 if last_jump_x!='bt':\n",
    "#                     yv[j+1:] = yv[j+1:]-height\n",
    "#                 last_jump_x='tb'\n",
    "            \n",
    "#                 if BY:\n",
    "#                     yv[j+1:] = yv[j+1:]-height\n",
    "#                     BY=False\n",
    "# #                 else:\n",
    "# #                     #taking care of parity\n",
    "# #                     BY=True\n",
    "#         else:\n",
    "#             #the jump happened over the x boundary\n",
    "#             if DX>0:\n",
    "#                 #the jump happend from left to right                \n",
    "#                 if BX:\n",
    "#                     xv[j+1:] = xv[j+1:]+width\n",
    "#                     BX=False\n",
    "#                 else:\n",
    "#                     #taking care of parity\n",
    "#                     BX=True\n",
    "\n",
    "#             else: \n",
    "#                 #the jump happend from left to right                \n",
    "#                 if BX:\n",
    "#                     xv[j+1:] = xv[j+1:]+width\n",
    "#                     BX=False\n",
    "#                 else:\n",
    "#                     #taking care of parity\n",
    "#                     BX=True\n"
   ]
  },
  {
   "cell_type": "code",
   "execution_count": 192,
   "metadata": {
    "ExecuteTime": {
     "end_time": "2020-12-18T00:25:15.024339Z",
     "start_time": "2020-12-18T00:25:14.994373Z"
    },
    "hidden": true
   },
   "outputs": [],
   "source": [
    "def unwrap_traj_and_center(d):\n",
    "    '''d is a dataframe of 1 trajectory with pbc.  edits d to have pbc-unwrapped x,y coords and returns d.'''\n",
    "    DT = np.mean(d.t.diff().dropna().values) #ms per frame\n",
    "    DS = 5/200\n",
    "    x_values = d.x.values.astype('float64')\n",
    "    y_values = d.y.values.astype('float64')\n",
    "    jump_index_array, spd_lst = find_jumps(x_values,y_values,DS=DS,DT=DT)\n",
    "    xv,yv = unwrap_for_each_jump(x_values,y_values,jump_index_array, width=200,height=200)\n",
    "\n",
    "    #subtract off the initial position for plotting's sake\n",
    "    xv -= xv[0]\n",
    "    yv -= yv[0]\n",
    "    #     return xv,yv\n",
    "\n",
    "    #store these values in the dataframe\n",
    "    d = d.copy()\n",
    "    #store these values in the dataframe\n",
    "    d.loc[:,'x'] = xv\n",
    "    d.loc[:,'y'] = yv\n",
    "    return d\n"
   ]
  },
  {
   "cell_type": "code",
   "execution_count": 310,
   "metadata": {
    "ExecuteTime": {
     "end_time": "2020-12-18T02:21:32.024912Z",
     "start_time": "2020-12-18T02:21:32.004090Z"
    },
    "hidden": true
   },
   "outputs": [],
   "source": [
    "def filter_duplicate_trajectory_indices(pid_longest_lst,df_traj):\n",
    "    pid_longest_lst_filtered = sorted(pid_longest_lst)\n",
    "    M = len(pid_longest_lst)\n",
    "    for n,pid1 in enumerate(pid_longest_lst_filtered):\n",
    "        x1 = df_traj[df_traj.particle==pid1].x.tail(1).values\n",
    "        y1 = df_traj[df_traj.particle==pid1].y.tail(1).values\n",
    "        if n<M+1:\n",
    "            for pid2 in pid_longest_lst_filtered[n+1:]:\n",
    "                x2 = df_traj[df_traj.particle==pid2].x.tail(1).values\n",
    "                y2 = df_traj[df_traj.particle==pid2].y.tail(1).values\n",
    "                #two tips are the same if their final coordinates are equal to machine precision\n",
    "                same_tip = bool(x1 == x2) & bool(y1 == y2)\n",
    "                if same_tip:\n",
    "                    #pop pid2\n",
    "                    pid_longest_lst_filtered.remove(pid2)\n",
    "    return pid_longest_lst_filtered"
   ]
  },
  {
   "cell_type": "code",
   "execution_count": 168,
   "metadata": {
    "ExecuteTime": {
     "end_time": "2020-12-18T00:22:44.375014Z",
     "start_time": "2020-12-18T00:22:44.069734Z"
    },
    "hidden": true
   },
   "outputs": [],
   "source": [
    "d = unwrap_traj_and_center(d).copy()\n",
    "\n",
    "#test that unwrap_traj_and_center removed all jump detections\n",
    "x_values = d.x.values.astype('float64')\n",
    "y_values = d.y.values.astype('float64')\n",
    "jump_index_array, spd_lst = find_jumps(x_values,y_values)\n",
    "assert (jump_index_array.size==0)"
   ]
  },
  {
   "cell_type": "code",
   "execution_count": 96,
   "metadata": {
    "ExecuteTime": {
     "end_time": "2020-12-17T23:57:13.996043Z",
     "start_time": "2020-12-17T23:57:13.976628Z"
    },
    "hidden": true
   },
   "outputs": [],
   "source": [
    "# # thresh = np.min((width,height))/2\n",
    "# # boo = (np.array(spd_lst_naive)>thresh)\n",
    "# # boo.any()\n",
    "# # jump_index_array = np.argwhere(boo).flatten()\n",
    "# # print(jump_index_array)\n",
    "# xv,yv = unwrap_traj_and_center(d);\n",
    "# d = d.copy()\n",
    "# # plt.scatter(xv,yv)\n",
    "# #store these values in the dataframe\n",
    "# d.loc[:,'x'] = xv\n",
    "# d.loc[:,'y'] = yv\n",
    "# # return d"
   ]
  },
  {
   "cell_type": "code",
   "execution_count": 111,
   "metadata": {
    "ExecuteTime": {
     "end_time": "2020-12-18T00:01:13.137574Z",
     "start_time": "2020-12-18T00:01:13.113081Z"
    },
    "hidden": true
   },
   "outputs": [],
   "source": [
    "# print(xv.size)\n",
    "# d.x.values.size"
   ]
  },
  {
   "cell_type": "code",
   "execution_count": 42,
   "metadata": {
    "ExecuteTime": {
     "end_time": "2020-12-17T23:39:28.586697Z",
     "start_time": "2020-12-17T23:39:28.574867Z"
    },
    "hidden": true
   },
   "outputs": [],
   "source": [
    "# #DONE: for each jump, map all later positions onto 1 contiguous trajectory\n",
    "# j = jump_index_array[0]\n",
    "# x_values[j-2:j+6]"
   ]
  },
  {
   "cell_type": "code",
   "execution_count": 28,
   "metadata": {
    "ExecuteTime": {
     "end_time": "2020-12-17T23:34:21.229502Z",
     "start_time": "2020-12-17T23:34:21.197864Z"
    },
    "hidden": true
   },
   "outputs": [],
   "source": [
    "# y_values[j-2:j+6]"
   ]
  },
  {
   "cell_type": "code",
   "execution_count": 97,
   "metadata": {
    "ExecuteTime": {
     "end_time": "2020-12-17T23:57:21.823749Z",
     "start_time": "2020-12-17T23:57:21.803545Z"
    },
    "hidden": true
   },
   "outputs": [],
   "source": [
    "# #plot the xy trajectory for longliving tips\n",
    "# saving = False\n",
    "# fontsize=24\n",
    "# df_traj = d.copy()\n",
    "# col = \"t\"#'theta'\n",
    "# # df_traj = df.query('t < 110 and t > 90').copy()\n",
    "# # df_traj = df.query('t > 500').copy()\n",
    "# # df_traj = df.copy()\n",
    "# # savefig_dir = f'{nb_dir}/Figures/lifetime_analysis'\n",
    "# # savefig_fn = data_fn.replace('.csv',f'_mistake_still_exists?_sigma_{sigma}_threshold_{threshold}.png')\n",
    "\n",
    "# xmin=0; ymin=0; xmax=width; ymax=height; \n",
    "# axis = [xmin,xmax,ymin,ymax]\n",
    "\n",
    "# fig, ax = plt.subplots(figsize=(5,5))\n",
    "# for pid in list(set(df_traj['particle'].values)):\n",
    "#     x_values ,y_values, c_values = df_traj[(df_traj.particle==pid)][['x','y', col]].values.T \n",
    "#     plt.scatter(xv,yv, s=5)#,#s=0.1)\n",
    "    \n",
    "# #     plt.scatter(x_values,y_values, s=5,#s=0.1\n",
    "# #                 c=c_values, vmin = np.min(c_values), vmax = np.max(c_values), cmap=\"Blues\")\n",
    "    \n",
    "# #     plt.scatter([x_values[0]],[y_vaalues[-1]], s=10,color='red')\n",
    "# # plt.axis(axis)\n",
    "# plt.title(f'''more {col} = more blue''', fontsize=fontsize)\n",
    "# ax.set_xlabel('x coordinate (pixels)', fontsize=fontsize)\n",
    "# ax.set_ylabel('y coordinate (pixels)', fontsize=fontsize)\n",
    "# if not saving: \n",
    "#     plt.show() \n",
    "# else:\n",
    "#     plt.tight_layout()\n",
    "#     os.chdir(savefig_dir)\n",
    "#     plt.savefig(savefig_fn, dpi=300)\n",
    "#     print(f\"saved figure in \\n\\t{savefig_fn}.\")"
   ]
  },
  {
   "cell_type": "code",
   "execution_count": 181,
   "metadata": {
    "ExecuteTime": {
     "end_time": "2020-12-17T22:54:22.855928Z",
     "start_time": "2020-12-17T22:54:22.839164Z"
    },
    "hidden": true
   },
   "outputs": [],
   "source": [
    "#DONE: map this trajectory back into the dataframe under fields x and y"
   ]
  },
  {
   "cell_type": "code",
   "execution_count": 182,
   "metadata": {
    "ExecuteTime": {
     "end_time": "2020-12-17T22:54:46.950867Z",
     "start_time": "2020-12-17T22:54:46.916471Z"
    },
    "hidden": true
   },
   "outputs": [],
   "source": [
    "#TODO: run ^that msd through trackpy.motion.imsd"
   ]
  },
  {
   "cell_type": "markdown",
   "metadata": {
    "ExecuteTime": {
     "end_time": "2020-12-17T23:15:52.302159Z",
     "start_time": "2020-12-17T23:15:52.289280Z"
    },
    "heading_collapsed": true
   },
   "source": [
    "# test unwrap_traj_and_center by plotting a selectiono of trajectories before & after"
   ]
  },
  {
   "cell_type": "code",
   "execution_count": 65,
   "metadata": {
    "ExecuteTime": {
     "end_time": "2020-12-19T01:58:41.311601Z",
     "start_time": "2020-12-19T01:58:32.051204Z"
    },
    "hidden": true
   },
   "outputs": [
    {
     "name": "stdout",
     "output_type": "stream",
     "text": [
      "Frame 345: 6 trajectories present.\n"
     ]
    },
    {
     "ename": "KeyboardInterrupt",
     "evalue": "",
     "output_type": "error",
     "traceback": [
      "\u001b[0;31m---------------------------------------------------------\u001b[0m",
      "\u001b[0;31mKeyboardInterrupt\u001b[0m       Traceback (most recent call last)",
      "\u001b[0;32m<ipython-input-65-a5ce26447a0f>\u001b[0m in \u001b[0;36m<module>\u001b[0;34m\u001b[0m\n\u001b[1;32m      1\u001b[0m \u001b[0;31m#track tips for given input file\u001b[0m\u001b[0;34m\u001b[0m\u001b[0;34m\u001b[0m\u001b[0;34m\u001b[0m\u001b[0m\n\u001b[1;32m      2\u001b[0m \u001b[0minput_file_name\u001b[0m \u001b[0;34m=\u001b[0m \u001b[0;34m\"/home/timothytyree/Documents/GitHub/care/notebooks/Data/initial-conditions-suite-2/ds_5_param_set_8_fastkernel_V_0.4_archive/Log/ic_200x200.001.11_log.csv\"\u001b[0m\u001b[0;34m\u001b[0m\u001b[0;34m\u001b[0m\u001b[0m\n\u001b[0;32m----> 3\u001b[0;31m \u001b[0moutput_file_name\u001b[0m \u001b[0;34m=\u001b[0m \u001b[0mgenerate_track_tips_pbc\u001b[0m\u001b[0;34m(\u001b[0m\u001b[0minput_file_name\u001b[0m\u001b[0;34m,\u001b[0m \u001b[0msave_fn\u001b[0m\u001b[0;34m=\u001b[0m\u001b[0;32mNone\u001b[0m\u001b[0;34m)\u001b[0m\u001b[0;34m\u001b[0m\u001b[0;34m\u001b[0m\u001b[0m\n\u001b[0m",
      "\u001b[0;32m~/Documents/GitHub/care/notebooks/lib/routines/track_tips.py\u001b[0m in \u001b[0;36mgenerate_track_tips_pbc\u001b[0;34m(input_file_name, save_fn, mem, sr, width, height, adaptive_step, adaptive_stop, **kwargs)\u001b[0m\n\u001b[1;32m     43\u001b[0m     \u001b[0mdf\u001b[0m\u001b[0;34m.\u001b[0m\u001b[0mdrop_duplicates\u001b[0m\u001b[0;34m(\u001b[0m\u001b[0msubset\u001b[0m\u001b[0;34m=\u001b[0m\u001b[0;34m[\u001b[0m\u001b[0;34m'x'\u001b[0m\u001b[0;34m,\u001b[0m\u001b[0;34m'y'\u001b[0m\u001b[0;34m]\u001b[0m\u001b[0;34m,\u001b[0m\u001b[0mkeep\u001b[0m\u001b[0;34m=\u001b[0m\u001b[0;34m'first'\u001b[0m\u001b[0;34m,\u001b[0m\u001b[0minplace\u001b[0m\u001b[0;34m=\u001b[0m\u001b[0;32mTrue\u001b[0m\u001b[0;34m,\u001b[0m\u001b[0mignore_index\u001b[0m\u001b[0;34m=\u001b[0m\u001b[0;32mTrue\u001b[0m\u001b[0;34m)\u001b[0m\u001b[0;34m\u001b[0m\u001b[0;34m\u001b[0m\u001b[0m\n\u001b[1;32m     44\u001b[0m     \u001b[0;31m# df.dropduplicate(inplace=True)1\u001b[0m\u001b[0;34m\u001b[0m\u001b[0;34m\u001b[0m\u001b[0;34m\u001b[0m\u001b[0m\n\u001b[0;32m---> 45\u001b[0;31m     \u001b[0mtraj\u001b[0m \u001b[0;34m=\u001b[0m \u001b[0mcompute_track_tips_pbc\u001b[0m\u001b[0;34m(\u001b[0m\u001b[0mdf\u001b[0m\u001b[0;34m,\u001b[0m \u001b[0;34m**\u001b[0m\u001b[0mkwargs\u001b[0m\u001b[0;34m)\u001b[0m\u001b[0;34m\u001b[0m\u001b[0;34m\u001b[0m\u001b[0m\n\u001b[0m\u001b[1;32m     46\u001b[0m     \u001b[0mtraj\u001b[0m\u001b[0;34m.\u001b[0m\u001b[0mto_csv\u001b[0m\u001b[0;34m(\u001b[0m\u001b[0msave_fn\u001b[0m\u001b[0;34m,\u001b[0m \u001b[0mindex\u001b[0m\u001b[0;34m=\u001b[0m\u001b[0;32mFalse\u001b[0m\u001b[0;34m)\u001b[0m\u001b[0;34m\u001b[0m\u001b[0;34m\u001b[0m\u001b[0m\n\u001b[1;32m     47\u001b[0m     \u001b[0;32mreturn\u001b[0m \u001b[0msave_fn\u001b[0m\u001b[0;34m\u001b[0m\u001b[0;34m\u001b[0m\u001b[0m\n",
      "\u001b[0;32m~/Documents/GitHub/care/notebooks/lib/routines/track_tips.py\u001b[0m in \u001b[0;36mcompute_track_tips_pbc\u001b[0;34m(df, mem, sr, width, height, adaptive_step, adaptive_stop, **kwargs)\u001b[0m\n\u001b[1;32m     31\u001b[0m \u001b[0;34m\u001b[0m\u001b[0m\n\u001b[1;32m     32\u001b[0m     traj = trackpy.link_df(\n\u001b[0;32m---> 33\u001b[0;31m         f=df.head(-1),t_column='frame',**link_kwargs)\n\u001b[0m\u001b[1;32m     34\u001b[0m     \u001b[0;32mreturn\u001b[0m \u001b[0mtraj\u001b[0m\u001b[0;34m\u001b[0m\u001b[0;34m\u001b[0m\u001b[0m\n\u001b[1;32m     35\u001b[0m def generate_track_tips_pbc(input_file_name, save_fn=None, mem=2, sr=400,\n",
      "\u001b[0;32m~/anaconda3/lib/python3.7/site-packages/trackpy/linking/linking.py\u001b[0m in \u001b[0;36mlink\u001b[0;34m(f, search_range, pos_columns, t_column, **kwargs)\u001b[0m\n\u001b[1;32m    190\u001b[0m     \u001b[0mcoords_iter\u001b[0m \u001b[0;34m=\u001b[0m \u001b[0mcoords_from_df\u001b[0m\u001b[0;34m(\u001b[0m\u001b[0mf\u001b[0m\u001b[0;34m,\u001b[0m \u001b[0mpos_columns\u001b[0m\u001b[0;34m,\u001b[0m \u001b[0mt_column\u001b[0m\u001b[0;34m)\u001b[0m\u001b[0;34m\u001b[0m\u001b[0;34m\u001b[0m\u001b[0m\n\u001b[1;32m    191\u001b[0m     \u001b[0mids\u001b[0m \u001b[0;34m=\u001b[0m \u001b[0;34m[\u001b[0m\u001b[0;34m]\u001b[0m\u001b[0;34m\u001b[0m\u001b[0;34m\u001b[0m\u001b[0m\n\u001b[0;32m--> 192\u001b[0;31m     \u001b[0;32mfor\u001b[0m \u001b[0mi\u001b[0m\u001b[0;34m,\u001b[0m \u001b[0m_ids\u001b[0m \u001b[0;32min\u001b[0m \u001b[0mlink_iter\u001b[0m\u001b[0;34m(\u001b[0m\u001b[0mcoords_iter\u001b[0m\u001b[0;34m,\u001b[0m \u001b[0msearch_range\u001b[0m\u001b[0;34m,\u001b[0m \u001b[0;34m**\u001b[0m\u001b[0mkwargs\u001b[0m\u001b[0;34m)\u001b[0m\u001b[0;34m:\u001b[0m\u001b[0;34m\u001b[0m\u001b[0;34m\u001b[0m\u001b[0m\n\u001b[0m\u001b[1;32m    193\u001b[0m         \u001b[0mids\u001b[0m\u001b[0;34m.\u001b[0m\u001b[0mextend\u001b[0m\u001b[0;34m(\u001b[0m\u001b[0m_ids\u001b[0m\u001b[0;34m)\u001b[0m\u001b[0;34m\u001b[0m\u001b[0;34m\u001b[0m\u001b[0m\n\u001b[1;32m    194\u001b[0m \u001b[0;34m\u001b[0m\u001b[0m\n",
      "\u001b[0;32m~/anaconda3/lib/python3.7/site-packages/trackpy/linking/linking.py\u001b[0m in \u001b[0;36mlink_iter\u001b[0;34m(coords_iter, search_range, **kwargs)\u001b[0m\n\u001b[1;32m    102\u001b[0m \u001b[0;34m\u001b[0m\u001b[0m\n\u001b[1;32m    103\u001b[0m     \u001b[0;32mfor\u001b[0m \u001b[0mt\u001b[0m\u001b[0;34m,\u001b[0m \u001b[0mcoords\u001b[0m \u001b[0;32min\u001b[0m \u001b[0mcoords_iter\u001b[0m\u001b[0;34m:\u001b[0m\u001b[0;34m\u001b[0m\u001b[0;34m\u001b[0m\u001b[0m\n\u001b[0;32m--> 104\u001b[0;31m         \u001b[0mlinker\u001b[0m\u001b[0;34m.\u001b[0m\u001b[0mnext_level\u001b[0m\u001b[0;34m(\u001b[0m\u001b[0mcoords\u001b[0m\u001b[0;34m,\u001b[0m \u001b[0mt\u001b[0m\u001b[0;34m)\u001b[0m\u001b[0;34m\u001b[0m\u001b[0;34m\u001b[0m\u001b[0m\n\u001b[0m\u001b[1;32m    105\u001b[0m         \u001b[0mlogger\u001b[0m\u001b[0;34m.\u001b[0m\u001b[0minfo\u001b[0m\u001b[0;34m(\u001b[0m\u001b[0;34m\"Frame {0}: {1} trajectories present.\"\u001b[0m\u001b[0;34m.\u001b[0m\u001b[0mformat\u001b[0m\u001b[0;34m(\u001b[0m\u001b[0mt\u001b[0m\u001b[0;34m,\u001b[0m \u001b[0mlen\u001b[0m\u001b[0;34m(\u001b[0m\u001b[0mlinker\u001b[0m\u001b[0;34m.\u001b[0m\u001b[0mparticle_ids\u001b[0m\u001b[0;34m)\u001b[0m\u001b[0;34m)\u001b[0m\u001b[0;34m)\u001b[0m\u001b[0;34m\u001b[0m\u001b[0;34m\u001b[0m\u001b[0m\n\u001b[1;32m    106\u001b[0m         \u001b[0;32myield\u001b[0m \u001b[0mt\u001b[0m\u001b[0;34m,\u001b[0m \u001b[0mlinker\u001b[0m\u001b[0;34m.\u001b[0m\u001b[0mparticle_ids\u001b[0m\u001b[0;34m\u001b[0m\u001b[0;34m\u001b[0m\u001b[0m\n",
      "\u001b[0;32m~/anaconda3/lib/python3.7/site-packages/trackpy/linking/linking.py\u001b[0m in \u001b[0;36mnext_level\u001b[0;34m(self, coords, t, extra_data)\u001b[0m\n\u001b[1;32m    513\u001b[0m \u001b[0;34m\u001b[0m\u001b[0m\n\u001b[1;32m    514\u001b[0m         self.subnets = Subnets(prev_hash, self.hash, self.search_range,\n\u001b[0;32m--> 515\u001b[0;31m                                self.MAX_NEIGHBORS)\n\u001b[0m\u001b[1;32m    516\u001b[0m         \u001b[0mspl\u001b[0m\u001b[0;34m,\u001b[0m \u001b[0mdpl\u001b[0m \u001b[0;34m=\u001b[0m \u001b[0mself\u001b[0m\u001b[0;34m.\u001b[0m\u001b[0massign_links\u001b[0m\u001b[0;34m(\u001b[0m\u001b[0;34m)\u001b[0m\u001b[0;34m\u001b[0m\u001b[0;34m\u001b[0m\u001b[0m\n\u001b[1;32m    517\u001b[0m         \u001b[0mself\u001b[0m\u001b[0;34m.\u001b[0m\u001b[0mapply_links\u001b[0m\u001b[0;34m(\u001b[0m\u001b[0mspl\u001b[0m\u001b[0;34m,\u001b[0m \u001b[0mdpl\u001b[0m\u001b[0;34m)\u001b[0m\u001b[0;34m\u001b[0m\u001b[0;34m\u001b[0m\u001b[0m\n",
      "\u001b[0;32m~/anaconda3/lib/python3.7/site-packages/trackpy/linking/subnet.py\u001b[0m in \u001b[0;36m__init__\u001b[0;34m(self, source_hash, dest_hash, search_range, max_neighbors)\u001b[0m\n\u001b[1;32m    343\u001b[0m         \u001b[0mself\u001b[0m\u001b[0;34m.\u001b[0m\u001b[0msearch_range\u001b[0m \u001b[0;34m=\u001b[0m \u001b[0msearch_range\u001b[0m\u001b[0;34m\u001b[0m\u001b[0;34m\u001b[0m\u001b[0m\n\u001b[1;32m    344\u001b[0m         \u001b[0mself\u001b[0m\u001b[0;34m.\u001b[0m\u001b[0mincludes_lost\u001b[0m \u001b[0;34m=\u001b[0m \u001b[0;32mFalse\u001b[0m\u001b[0;34m\u001b[0m\u001b[0;34m\u001b[0m\u001b[0m\n\u001b[0;32m--> 345\u001b[0;31m         \u001b[0mself\u001b[0m\u001b[0;34m.\u001b[0m\u001b[0mreset\u001b[0m\u001b[0;34m(\u001b[0m\u001b[0;34m)\u001b[0m\u001b[0;34m\u001b[0m\u001b[0;34m\u001b[0m\u001b[0m\n\u001b[0m\u001b[1;32m    346\u001b[0m         \u001b[0mself\u001b[0m\u001b[0;34m.\u001b[0m\u001b[0mcompute\u001b[0m\u001b[0;34m(\u001b[0m\u001b[0;34m)\u001b[0m\u001b[0;34m\u001b[0m\u001b[0;34m\u001b[0m\u001b[0m\n\u001b[1;32m    347\u001b[0m \u001b[0;34m\u001b[0m\u001b[0m\n",
      "\u001b[0;32m~/anaconda3/lib/python3.7/site-packages/trackpy/linking/subnet.py\u001b[0m in \u001b[0;36mreset\u001b[0;34m(self)\u001b[0m\n\u001b[1;32m    349\u001b[0m         \u001b[0;34m\"\"\" Clear the subnets and candidates for all points in both frames \"\"\"\u001b[0m\u001b[0;34m\u001b[0m\u001b[0;34m\u001b[0m\u001b[0m\n\u001b[1;32m    350\u001b[0m         \u001b[0mself\u001b[0m\u001b[0;34m.\u001b[0m\u001b[0msubnets\u001b[0m \u001b[0;34m=\u001b[0m \u001b[0mdict\u001b[0m\u001b[0;34m(\u001b[0m\u001b[0;34m)\u001b[0m\u001b[0;34m\u001b[0m\u001b[0;34m\u001b[0m\u001b[0m\n\u001b[0;32m--> 351\u001b[0;31m         \u001b[0;32mfor\u001b[0m \u001b[0mp\u001b[0m \u001b[0;32min\u001b[0m \u001b[0mself\u001b[0m\u001b[0;34m.\u001b[0m\u001b[0msource_hash\u001b[0m\u001b[0;34m.\u001b[0m\u001b[0mpoints\u001b[0m\u001b[0;34m:\u001b[0m\u001b[0;34m\u001b[0m\u001b[0;34m\u001b[0m\u001b[0m\n\u001b[0m\u001b[1;32m    352\u001b[0m             \u001b[0mp\u001b[0m\u001b[0;34m.\u001b[0m\u001b[0mforward_cands\u001b[0m \u001b[0;34m=\u001b[0m \u001b[0;34m[\u001b[0m\u001b[0;34m]\u001b[0m\u001b[0;34m\u001b[0m\u001b[0;34m\u001b[0m\u001b[0m\n\u001b[1;32m    353\u001b[0m             \u001b[0mp\u001b[0m\u001b[0;34m.\u001b[0m\u001b[0msubnet\u001b[0m \u001b[0;34m=\u001b[0m \u001b[0;32mNone\u001b[0m\u001b[0;34m\u001b[0m\u001b[0;34m\u001b[0m\u001b[0m\n",
      "\u001b[0;31mKeyboardInterrupt\u001b[0m: "
     ]
    }
   ],
   "source": [
    "#track tips for given input file\n",
    "input_file_name = \"/home/timothytyree/Documents/GitHub/care/notebooks/Data/initial-conditions-suite-2/ds_5_param_set_8_fastkernel_V_0.4_archive/Log/ic_200x200.001.11_log.csv\"\n",
    "output_file_name = generate_track_tips_pbc(input_file_name, save_fn=None)"
   ]
  },
  {
   "cell_type": "code",
   "execution_count": 329,
   "metadata": {
    "ExecuteTime": {
     "end_time": "2020-12-18T02:39:53.264428Z",
     "start_time": "2020-12-18T02:39:25.930067Z"
    },
    "hidden": true
   },
   "outputs": [
    {
     "name": "stdout",
     "output_type": "stream",
     "text": [
      "/home/timothytyree/Documents/GitHub/care/notebooks/Data/initial-conditions-suite-2/ds_5_param_set_8_fastkernel_V_0.4_archive/trajectories/ic_200x200.001.11_traj_sr_400_mem_2.csv\n"
     ]
    }
   ],
   "source": [
    "#load trajectories\n",
    "df = pd.read_csv(output_file_name)\n",
    "pid_lst = sorted(set(df.particle.values))\n",
    "#filter_duplicate_trajectory_indices is slow (and can probs be accelerated with a sexy pandas one liner)\n",
    "pid_lst_filtered = filter_duplicate_trajectory_indices(pid_lst,df)\n",
    "df = pd.concat([df[df.particle==pid] for pid in pid_lst_filtered])\n",
    "print(output_file_name)"
   ]
  },
  {
   "cell_type": "code",
   "execution_count": 330,
   "metadata": {
    "ExecuteTime": {
     "end_time": "2020-12-18T02:39:54.063448Z",
     "start_time": "2020-12-18T02:39:54.046705Z"
    },
    "hidden": true
   },
   "outputs": [],
   "source": [
    "#TODO: select the longest n trajectories\n",
    "n_tips = 1#15\n",
    "s = df.groupby('particle').t.count()\n",
    "s = s.sort_values(ascending=False)\n",
    "pid_longest_lst = list(s.index.values[:n_tips])\n",
    "# d = df[df.particle==pid_longest]\n",
    "# print(pid_longest)\n",
    "# print(s.head())\n",
    "# pid_longest_lst = s.head(n_tips).values\n",
    "df_traj = pd.concat([df[df.particle==pid] for pid in pid_longest_lst])"
   ]
  },
  {
   "cell_type": "code",
   "execution_count": 331,
   "metadata": {
    "ExecuteTime": {
     "end_time": "2020-12-18T02:39:54.859051Z",
     "start_time": "2020-12-18T02:39:54.846259Z"
    },
    "hidden": true
   },
   "outputs": [],
   "source": [
    "assert ( (np.array(sorted(set(df_traj['particle'].values)))==np.array(sorted(pid_longest_lst))).all())"
   ]
  },
  {
   "cell_type": "code",
   "execution_count": 332,
   "metadata": {
    "ExecuteTime": {
     "end_time": "2020-12-18T02:39:55.637991Z",
     "start_time": "2020-12-18T02:39:55.626380Z"
    },
    "hidden": true
   },
   "outputs": [],
   "source": [
    "# pid_longest_lst"
   ]
  },
  {
   "cell_type": "code",
   "execution_count": 333,
   "metadata": {
    "ExecuteTime": {
     "end_time": "2020-12-18T02:39:56.613948Z",
     "start_time": "2020-12-18T02:39:56.464602Z"
    },
    "hidden": true
   },
   "outputs": [
    {
     "data": {
      "image/png": "[encoded data removed]",
      "text/plain": [
       "<Figure size 360x360 with 1 Axes>"
      ]
     },
     "metadata": {
      "needs_background": "light"
     },
     "output_type": "display_data"
    }
   ],
   "source": [
    "#plot the xy trajectory for longliving tips\n",
    "width=200;height=200;saving = False;fontsize=24\n",
    "# df_traj = d.copy()\n",
    "col = \"t\"#'theta'\n",
    "xmin=0; ymin=0; xmax=width; ymax=height; \n",
    "axis = [xmin,xmax,ymin,ymax]\n",
    "\n",
    "fig, ax = plt.subplots(figsize=(5,5))\n",
    "for pid in  pid_longest_lst:\n",
    "    x_values ,y_values, c_values = df_traj[(df_traj.particle==pid)][['x','y', col]].values.T \n",
    "#     plt.scatter(xv,yv, s=5)#,#s=0.1)\n",
    "    \n",
    "    plt.scatter(x_values,y_values, s=10,#s=0.1\n",
    "                c=c_values, vmin = np.min(c_values), vmax = np.max(c_values), cmap=\"Blues\")\n",
    "    plt.scatter([x_values[0]],[y_values[0]], s=20,color='green')\n",
    "    plt.scatter([x_values[-1]],[y_values[-1]], s=20,color='red')\n",
    "# plt.axis(axis)\n",
    "plt.title(f'''more {col} = more blue''', fontsize=fontsize)\n",
    "ax.set_xlabel('x coordinate (pixels)', fontsize=fontsize)\n",
    "ax.set_ylabel('y coordinate (pixels)', fontsize=fontsize)\n",
    "if not saving: \n",
    "    plt.show() \n",
    "else:\n",
    "    plt.tight_layout()\n",
    "    os.chdir(savefig_dir)\n",
    "    plt.savefig(savefig_fn, dpi=300)\n",
    "    print(f\"saved figure in \\n\\t{savefig_fn}.\")"
   ]
  },
  {
   "cell_type": "code",
   "execution_count": null,
   "metadata": {
    "hidden": true
   },
   "outputs": [],
   "source": []
  },
  {
   "cell_type": "code",
   "execution_count": 334,
   "metadata": {
    "ExecuteTime": {
     "end_time": "2020-12-18T02:39:57.386330Z",
     "start_time": "2020-12-18T02:39:57.251369Z"
    },
    "hidden": true
   },
   "outputs": [],
   "source": [
    "for pid in pid_longest_lst:\n",
    "    d = df_traj[df_traj.particle==pid]\n",
    "    df_traj[df_traj.particle==pid] = unwrap_traj_and_center(d);"
   ]
  },
  {
   "cell_type": "code",
   "execution_count": 335,
   "metadata": {
    "ExecuteTime": {
     "end_time": "2020-12-18T02:39:58.498411Z",
     "start_time": "2020-12-18T02:39:58.013877Z"
    },
    "hidden": true
   },
   "outputs": [
    {
     "name": "stdout",
     "output_type": "stream",
     "text": [
      "saved figure in \n",
      "\tic_200x200.001.11_1_longest_tips.png.\n"
     ]
    },
    {
     "data": {
      "image/png": "[encoded data removed]",
      "text/plain": [
       "<Figure size 576x576 with 1 Axes>"
      ]
     },
     "metadata": {
      "needs_background": "light"
     },
     "output_type": "display_data"
    }
   ],
   "source": [
    "#plot the xy trajectory for longliving tips\n",
    "width=200;height=200;saving = True;fontsize=24\n",
    "savefig_dir = os.path.join(nb_dir,'Figures/msd')\n",
    "savefig_fn = os.path.basename(input_file_name).replace('log.csv',f'{n_tips}_longest_tips.png')\n",
    "# df_traj = d.copy()\n",
    "col = \"t\"#'theta'\n",
    "xmin=0; ymin=0; xmax=width; ymax=height; \n",
    "axis = [xmin,xmax,ymin,ymax]\n",
    "DS = 5/200\n",
    "fig, ax = plt.subplots(figsize=(8,8))\n",
    "for pid in  pid_longest_lst:#[2:]:\n",
    "    x_values ,y_values, c_values = df_traj[(df_traj.particle==pid)][['x','y', col]].values.T \n",
    "    #scale to real coords\n",
    "    x_values *= DS\n",
    "    y_values *= DS\n",
    "    plt.scatter(x_values,y_values, s=20,#s=0.1\n",
    "                c=c_values, vmin = np.min(c_values), vmax = np.max(c_values), cmap=\"Blues\",alpha=0.01)\n",
    "    plt.scatter([x_values[0]],[y_values[0]], s=40,color='green')\n",
    "    plt.scatter([x_values[-1]],[y_values[-1]], s=40,color='red')\n",
    "# plt.axis(axis)\n",
    "# plt.title(f'''more time = more blue''', fontsize=fontsize)\n",
    "#plt.title(f'''more {col} = more blue''', fontsize=fontsize)\n",
    "ax.set_xlabel('x (cm)', fontsize=fontsize)\n",
    "ax.set_ylabel('y (cm)', fontsize=fontsize)\n",
    "# We change the fontsize of minor ticks label \n",
    "ax.tick_params(axis='both', which='major', labelsize=fontsize)\n",
    "ax.tick_params(axis='both', which='minor', labelsize=0)\n",
    "ax.grid('on')\n",
    "ax.set_aspect('equal')\n",
    "if not saving: \n",
    "    plt.show() \n",
    "else:\n",
    "    plt.tight_layout()\n",
    "    os.chdir(savefig_dir)\n",
    "    plt.savefig(savefig_fn, dpi=300)\n",
    "\n",
    "    print(f\"saved figure in \\n\\t{savefig_fn}.\")"
   ]
  },
  {
   "cell_type": "code",
   "execution_count": 336,
   "metadata": {
    "ExecuteTime": {
     "end_time": "2020-12-18T02:39:59.222150Z",
     "start_time": "2020-12-18T02:39:59.187065Z"
    },
    "hidden": true
   },
   "outputs": [],
   "source": [
    "#save as csv\n",
    "savedata_folder = os.path.dirname(input_file_name).replace('Log','msd')\n",
    "if not os.path.exists(savedata_folder):\n",
    "    os.mkdir(savedata_folder)\n",
    "os.chdir(savedata_folder)\n",
    "savedata_fn = os.path.basename(input_file_name).replace('.csv',f'_ntips_{n_tips}_msd.csv')\n",
    "df_traj.to_csv(savedata_fn,index=False)"
   ]
  },
  {
   "cell_type": "code",
   "execution_count": 337,
   "metadata": {
    "ExecuteTime": {
     "end_time": "2020-12-18T02:39:59.859731Z",
     "start_time": "2020-12-18T02:39:59.847005Z"
    },
    "hidden": true
   },
   "outputs": [
    {
     "data": {
      "text/plain": [
       "<function posixpath.dirname(p)>"
      ]
     },
     "execution_count": 337,
     "metadata": {},
     "output_type": "execute_result"
    }
   ],
   "source": [
    "os.path.dirname"
   ]
  },
  {
   "cell_type": "code",
   "execution_count": 338,
   "metadata": {
    "ExecuteTime": {
     "end_time": "2020-12-18T02:40:00.552338Z",
     "start_time": "2020-12-18T02:40:00.538308Z"
    },
    "hidden": true
   },
   "outputs": [
    {
     "data": {
      "text/plain": [
       "'/home/timothytyree/Documents/GitHub/care/notebooks/Data/initial-conditions-suite-2/ds_5_param_set_8_fastkernel_V_0.4_archive/msd'"
      ]
     },
     "execution_count": 338,
     "metadata": {},
     "output_type": "execute_result"
    }
   ],
   "source": [
    "savedata_folder"
   ]
  },
  {
   "cell_type": "code",
   "execution_count": 339,
   "metadata": {
    "ExecuteTime": {
     "end_time": "2020-12-18T02:40:01.825619Z",
     "start_time": "2020-12-18T02:40:01.201845Z"
    },
    "hidden": true
   },
   "outputs": [
    {
     "data": {
      "text/plain": [
       "0"
      ]
     },
     "execution_count": 339,
     "metadata": {},
     "output_type": "execute_result"
    }
   ],
   "source": [
    "beep(3)"
   ]
  },
  {
   "cell_type": "markdown",
   "metadata": {
    "heading_collapsed": true
   },
   "source": [
    "# homerun! compute msds functionally for one trial for the n_tips longest tips"
   ]
  },
  {
   "cell_type": "code",
   "execution_count": 276,
   "metadata": {
    "ExecuteTime": {
     "end_time": "2020-12-18T01:21:22.321562Z",
     "start_time": "2020-12-18T01:21:22.294737Z"
    },
    "hidden": true
   },
   "outputs": [],
   "source": [
    "#confirmed.  There is approximately 1 duplicate for each spiral tip...  \n",
    "\n",
    "#SCRUM FOR TONIGHT 12.17.2020\n",
    "# DONE: remove all duplicate spiral tips\n",
    "# DONE: save ^this prepared dataframe as .csv \n",
    "# DONE**SWITCH TO DARKMODE***\n",
    "# DONE: put all ^that functionality in a .py file\n",
    "# DONE: insert a cache that saves unduplicated trajectories to .csv in H/trajectories/\n",
    "# TODO: generate a plot for the ensemble msd versus lag for a given input .csv\n",
    "# TODO: compute n=1 .csv for each of the N=171 trials\n",
    "# TODO: compute such a .csv for ^that n=1 .csv\n",
    "# TODO: generate such a plot for ^that n = 1 .png\n",
    "# TODO: see how any trends vary with n"
   ]
  },
  {
   "cell_type": "code",
   "execution_count": 9,
   "metadata": {
    "ExecuteTime": {
     "end_time": "2020-12-18T03:36:47.469434Z",
     "start_time": "2020-12-18T03:36:47.449438Z"
    },
    "hidden": true
   },
   "outputs": [],
   "source": [
    "# DONE: compute emsd with trackpy (\n",
    "# DONE??:) *sanity check (optional way--> , and my own routine and check that they match)\n",
    "input_file_name = \"/home/timothytyree/Documents/GitHub/care/notebooks/Data/initial-conditions-suite-2/ds_5_param_set_8_fastkernel_V_0.4_archive/Log/ic_200x200.001.11_log.csv\"\n",
    "output_file_name = preprocess_log(input_file_name)\n"
   ]
  },
  {
   "cell_type": "code",
   "execution_count": 5,
   "metadata": {
    "ExecuteTime": {
     "end_time": "2020-12-18T03:36:02.689865Z",
     "start_time": "2020-12-18T03:36:02.619216Z"
    },
    "hidden": true
   },
   "outputs": [],
   "source": [
    "\n",
    "#select the longest n trajectories\n",
    "n_tips = 1#15\n",
    "df = pd.read_csv(output_file_name)\n",
    "s = df.groupby('particle').t.count()\n",
    "s = s.sort_values(ascending=False)\n",
    "pid_longest_lst = list(s.index.values[:n_tips])\n",
    "# d = df[df.particle==pid_longest]\n",
    "# print(pid_longest)\n",
    "# print(s.head())\n",
    "# pid_longest_lst = s.head(n_tips).values\n",
    "df_traj = pd.concat([df[df.particle==pid] for pid in pid_longest_lst])\n",
    "assert ( (np.array(sorted(set(df_traj['particle'].values)))==np.array(sorted(pid_longest_lst))).all())\n"
   ]
  },
  {
   "cell_type": "code",
   "execution_count": 14,
   "metadata": {
    "ExecuteTime": {
     "end_time": "2020-12-18T03:40:56.749798Z",
     "start_time": "2020-12-18T03:40:56.722313Z"
    },
    "hidden": true
   },
   "outputs": [],
   "source": [
    "emsd = trackpy.motion.emsd(df_traj, mpp=1., fps=1.,max_lagtime=40000)\n",
    "# imsd = trackpy.motion.imsd(df_traj, mpp=1., fps=1.)"
   ]
  },
  {
   "cell_type": "code",
   "execution_count": 13,
   "metadata": {
    "ExecuteTime": {
     "end_time": "2020-12-18T03:40:25.826352Z",
     "start_time": "2020-12-18T03:40:25.799475Z"
    },
    "hidden": true
   },
   "outputs": [],
   "source": [
    "output_file_name_msd = output_file_name.replace(\"trajectories/\",\"msd/\").replace(\"traj_\",f\"emsd_ntips_{n_tips}\")\n",
    "emsd.to_csv(output_file_name_msd, index=False)"
   ]
  },
  {
   "cell_type": "code",
   "execution_count": 42,
   "metadata": {
    "ExecuteTime": {
     "end_time": "2020-12-18T03:56:30.702222Z",
     "start_time": "2020-12-18T03:56:30.551516Z"
    },
    "hidden": true
   },
   "outputs": [
    {
     "name": "stdout",
     "output_type": "stream",
     "text": [
      "saved figure in \n",
      "\tic_200x200.001.11_emsd_ntips_1sr_400_mem_2.svg\n"
     ]
    },
    {
     "data": {
      "image/png": "[encoded data removed]",
      "text/plain": [
       "<Figure size 432x288 with 1 Axes>"
      ]
     },
     "metadata": {},
     "output_type": "display_data"
    }
   ],
   "source": [
    "saving = True\n",
    "savefig_fn = os.path.basename(output_file_name_msd).replace('.csv','.svg')\n",
    "savefig_folder = os.path.join(nb_dir,'Figures/msd')\n",
    "fontsize =22\n",
    "figsize=(6,4)\n",
    "DS = 5/200 #cm per pixel\n",
    "DT = 1. #ms per frame\n",
    "x_values = emsd.index.values*DT/10**3 #lag in seconds\n",
    "y_values = emsd.values*DS**2 #msd\n",
    "\n",
    "fig, ax = plt.subplots(figsize=figsize)\n",
    "ax.plot(x_values,y_values)\n",
    "ax.set_xlabel('lag (s)', fontsize=fontsize)\n",
    "ax.set_ylabel(r'MSD (cm$^2$)', fontsize=fontsize)\n",
    "ax.tick_params(axis='both', which='major', labelsize=fontsize)\n",
    "ax.tick_params(axis='both', which='minor', labelsize=0)\n",
    "if not saving: \n",
    "    plt.show() \n",
    "else:\n",
    "    plt.tight_layout()\n",
    "    os.chdir(savefig_folder)\n",
    "    plt.savefig(savefig_fn, dpi=300)\n",
    "    print(f\"saved figure in \\n\\t{savefig_fn}\")"
   ]
  },
  {
   "cell_type": "markdown",
   "metadata": {
    "ExecuteTime": {
     "end_time": "2020-12-18T03:54:26.909316Z",
     "start_time": "2020-12-18T03:54:26.895135Z"
    },
    "hidden": true
   },
   "source": [
    "now... make msd for each trial!!! mwuhahaha"
   ]
  },
  {
   "cell_type": "code",
   "execution_count": 44,
   "metadata": {
    "ExecuteTime": {
     "end_time": "2020-12-18T04:58:27.097694Z",
     "start_time": "2020-12-18T04:58:27.069432Z"
    },
    "hidden": true
   },
   "outputs": [
    {
     "name": "stdout",
     "output_type": "stream",
     "text": [
      "/home/timothytyree/Documents/GitHub/care/notebooks/Data/initial-conditions-suite-2/ds_5_param_set_8_fastkernel_V_0.4_archive/trajectories/ic_200x200.001.11_traj_sr_400_mem_2.csv\n"
     ]
    }
   ],
   "source": [
    "#TODO: make save_fn replace Log with trajectories because apparently it isn't\n",
    "sr = 400\n",
    "mem = 2\n",
    "save_fn = input_file_name.replace('/Log','/trajectories').replace('log.csv', f'traj_sr_{sr}_mem_{mem}.csv')\n",
    "print(save_fn)"
   ]
  },
  {
   "cell_type": "code",
   "execution_count": 45,
   "metadata": {
    "ExecuteTime": {
     "end_time": "2020-12-18T04:58:47.060498Z",
     "start_time": "2020-12-18T04:58:47.044812Z"
    },
    "hidden": true
   },
   "outputs": [
    {
     "data": {
      "text/plain": [
       "True"
      ]
     },
     "execution_count": 45,
     "metadata": {},
     "output_type": "execute_result"
    }
   ],
   "source": [
    "os.path.exists(save_fn)"
   ]
  },
  {
   "cell_type": "code",
   "execution_count": 46,
   "metadata": {
    "ExecuteTime": {
     "end_time": "2020-12-18T05:08:21.187147Z",
     "start_time": "2020-12-18T05:08:21.163346Z"
    },
    "hidden": true
   },
   "outputs": [],
   "source": [
    "# #TODO: accelerate preprocess_log using a pandas 1 liner\n",
    "# #track tips for given input file\n",
    "# output_file_name = generate_track_tips_pbc(input_file_name, save_fn=None)\n",
    "# #load trajectories\n",
    "# df = pd.read_csv(output_file_name)\n",
    "# pid_lst = sorted(set(df.particle.values))\n",
    "# #filter_duplicate_trajectory_indices is slow (and can probs be accelerated with a sexy pandas one liner)\n",
    "# pid_lst_filtered = filter_duplicate_trajectory_indices(pid_lst,df)\n",
    "# df = pd.concat([df[df.particle==pid] for pid in pid_lst_filtered])\n",
    "# df.to_csv(output_file_name,index=False)"
   ]
  },
  {
   "cell_type": "code",
   "execution_count": 47,
   "metadata": {
    "ExecuteTime": {
     "end_time": "2020-12-18T05:08:53.398041Z",
     "start_time": "2020-12-18T05:08:53.382651Z"
    },
    "hidden": true
   },
   "outputs": [],
   "source": [
    "# DONE: turn off the slow part of the tracking"
   ]
  },
  {
   "cell_type": "markdown",
   "metadata": {
    "heading_collapsed": true
   },
   "source": [
    "# TODO: try adding a filter to the longest trajectory on the basis of speed\n",
    "- before computing which is longest? --> complicated\n",
    "- after computing which is simplest? --> simple and extensible"
   ]
  },
  {
   "cell_type": "code",
   "execution_count": 48,
   "metadata": {
    "ExecuteTime": {
     "end_time": "2020-12-18T23:35:35.008118Z",
     "start_time": "2020-12-18T23:35:34.979121Z"
    },
    "hidden": true
   },
   "outputs": [
    {
     "data": {
      "text/html": [
       "<div>\n",
       "<style scoped>\n",
       "    .dataframe tbody tr th:only-of-type {\n",
       "        vertical-align: middle;\n",
       "    }\n",
       "\n",
       "    .dataframe tbody tr th {\n",
       "        vertical-align: top;\n",
       "    }\n",
       "\n",
       "    .dataframe thead th {\n",
       "        text-align: right;\n",
       "    }\n",
       "</style>\n",
       "<table border=\"1\" class=\"dataframe\">\n",
       "  <thead>\n",
       "    <tr style=\"text-align: right;\">\n",
       "      <th></th>\n",
       "      <th>t</th>\n",
       "      <th>n</th>\n",
       "      <th>x</th>\n",
       "      <th>y</th>\n",
       "      <th>theta</th>\n",
       "      <th>grad_ux</th>\n",
       "      <th>grad_uy</th>\n",
       "      <th>grad_vx</th>\n",
       "      <th>grad_vy</th>\n",
       "      <th>v</th>\n",
       "      <th>f</th>\n",
       "      <th>s</th>\n",
       "      <th>dvdt</th>\n",
       "      <th>dfdt</th>\n",
       "      <th>dsdt</th>\n",
       "      <th>frame</th>\n",
       "      <th>particle</th>\n",
       "    </tr>\n",
       "  </thead>\n",
       "  <tbody>\n",
       "    <tr>\n",
       "      <th>20906</th>\n",
       "      <td>1841.0</td>\n",
       "      <td>12</td>\n",
       "      <td>46.46108</td>\n",
       "      <td>150.30597</td>\n",
       "      <td>2.78050</td>\n",
       "      <td>2.06489</td>\n",
       "      <td>0.67394</td>\n",
       "      <td>3.13610</td>\n",
       "      <td>0.33789</td>\n",
       "      <td>0.39318</td>\n",
       "      <td>0.09534</td>\n",
       "      <td>0.86259</td>\n",
       "      <td>0.00049</td>\n",
       "      <td>-0.00732</td>\n",
       "      <td>-0.00108</td>\n",
       "      <td>1841</td>\n",
       "      <td>218</td>\n",
       "    </tr>\n",
       "    <tr>\n",
       "      <th>20907</th>\n",
       "      <td>1842.0</td>\n",
       "      <td>12</td>\n",
       "      <td>45.65619</td>\n",
       "      <td>152.68060</td>\n",
       "      <td>2.67952</td>\n",
       "      <td>2.01478</td>\n",
       "      <td>0.69792</td>\n",
       "      <td>4.22583</td>\n",
       "      <td>0.03095</td>\n",
       "      <td>0.40114</td>\n",
       "      <td>0.09237</td>\n",
       "      <td>0.86183</td>\n",
       "      <td>-0.00009</td>\n",
       "      <td>-0.00709</td>\n",
       "      <td>-0.00108</td>\n",
       "      <td>1842</td>\n",
       "      <td>218</td>\n",
       "    </tr>\n",
       "    <tr>\n",
       "      <th>20908</th>\n",
       "      <td>1843.0</td>\n",
       "      <td>12</td>\n",
       "      <td>45.08325</td>\n",
       "      <td>154.25487</td>\n",
       "      <td>NaN</td>\n",
       "      <td>1.91642</td>\n",
       "      <td>0.73303</td>\n",
       "      <td>5.69676</td>\n",
       "      <td>-0.37446</td>\n",
       "      <td>0.40693</td>\n",
       "      <td>0.08940</td>\n",
       "      <td>0.86123</td>\n",
       "      <td>-0.00063</td>\n",
       "      <td>-0.00686</td>\n",
       "      <td>-0.00108</td>\n",
       "      <td>1843</td>\n",
       "      <td>218</td>\n",
       "    </tr>\n",
       "    <tr>\n",
       "      <th>20909</th>\n",
       "      <td>1844.0</td>\n",
       "      <td>12</td>\n",
       "      <td>44.57639</td>\n",
       "      <td>155.62812</td>\n",
       "      <td>2.55740</td>\n",
       "      <td>1.94376</td>\n",
       "      <td>0.73117</td>\n",
       "      <td>8.04533</td>\n",
       "      <td>-1.02253</td>\n",
       "      <td>0.40228</td>\n",
       "      <td>0.09215</td>\n",
       "      <td>0.86175</td>\n",
       "      <td>-0.00021</td>\n",
       "      <td>-0.00707</td>\n",
       "      <td>-0.00108</td>\n",
       "      <td>1844</td>\n",
       "      <td>218</td>\n",
       "    </tr>\n",
       "    <tr>\n",
       "      <th>20910</th>\n",
       "      <td>1845.0</td>\n",
       "      <td>12</td>\n",
       "      <td>44.15069</td>\n",
       "      <td>156.72936</td>\n",
       "      <td>2.50126</td>\n",
       "      <td>1.88329</td>\n",
       "      <td>0.75221</td>\n",
       "      <td>12.03938</td>\n",
       "      <td>-2.11527</td>\n",
       "      <td>0.42248</td>\n",
       "      <td>0.08268</td>\n",
       "      <td>0.85975</td>\n",
       "      <td>-0.00239</td>\n",
       "      <td>-0.00635</td>\n",
       "      <td>-0.00107</td>\n",
       "      <td>1845</td>\n",
       "      <td>218</td>\n",
       "    </tr>\n",
       "    <tr>\n",
       "      <th>...</th>\n",
       "      <td>...</td>\n",
       "      <td>...</td>\n",
       "      <td>...</td>\n",
       "      <td>...</td>\n",
       "      <td>...</td>\n",
       "      <td>...</td>\n",
       "      <td>...</td>\n",
       "      <td>...</td>\n",
       "      <td>...</td>\n",
       "      <td>...</td>\n",
       "      <td>...</td>\n",
       "      <td>...</td>\n",
       "      <td>...</td>\n",
       "      <td>...</td>\n",
       "      <td>...</td>\n",
       "      <td>...</td>\n",
       "      <td>...</td>\n",
       "    </tr>\n",
       "    <tr>\n",
       "      <th>22751</th>\n",
       "      <td>3686.0</td>\n",
       "      <td>6</td>\n",
       "      <td>74.83158</td>\n",
       "      <td>45.05953</td>\n",
       "      <td>1.96686</td>\n",
       "      <td>1.98705</td>\n",
       "      <td>-0.62357</td>\n",
       "      <td>16.57432</td>\n",
       "      <td>-24.86799</td>\n",
       "      <td>0.29260</td>\n",
       "      <td>0.09737</td>\n",
       "      <td>0.83577</td>\n",
       "      <td>0.00337</td>\n",
       "      <td>-0.00747</td>\n",
       "      <td>-0.00104</td>\n",
       "      <td>3686</td>\n",
       "      <td>218</td>\n",
       "    </tr>\n",
       "    <tr>\n",
       "      <th>22752</th>\n",
       "      <td>3687.0</td>\n",
       "      <td>6</td>\n",
       "      <td>75.26452</td>\n",
       "      <td>46.34132</td>\n",
       "      <td>2.62515</td>\n",
       "      <td>2.19242</td>\n",
       "      <td>-0.91649</td>\n",
       "      <td>-79.63756</td>\n",
       "      <td>131.95707</td>\n",
       "      <td>0.41193</td>\n",
       "      <td>0.10130</td>\n",
       "      <td>0.83645</td>\n",
       "      <td>-0.00044</td>\n",
       "      <td>-0.00777</td>\n",
       "      <td>-0.00105</td>\n",
       "      <td>3687</td>\n",
       "      <td>218</td>\n",
       "    </tr>\n",
       "    <tr>\n",
       "      <th>22753</th>\n",
       "      <td>3688.0</td>\n",
       "      <td>6</td>\n",
       "      <td>75.86199</td>\n",
       "      <td>47.60680</td>\n",
       "      <td>2.88991</td>\n",
       "      <td>2.45070</td>\n",
       "      <td>-1.30336</td>\n",
       "      <td>-10.55397</td>\n",
       "      <td>19.38342</td>\n",
       "      <td>0.36356</td>\n",
       "      <td>0.10078</td>\n",
       "      <td>0.83418</td>\n",
       "      <td>0.00118</td>\n",
       "      <td>-0.00773</td>\n",
       "      <td>-0.00104</td>\n",
       "      <td>3688</td>\n",
       "      <td>218</td>\n",
       "    </tr>\n",
       "    <tr>\n",
       "      <th>22754</th>\n",
       "      <td>3689.0</td>\n",
       "      <td>6</td>\n",
       "      <td>76.75585</td>\n",
       "      <td>48.99844</td>\n",
       "      <td>2.20967</td>\n",
       "      <td>2.87252</td>\n",
       "      <td>-1.93323</td>\n",
       "      <td>-4.46741</td>\n",
       "      <td>9.54202</td>\n",
       "      <td>0.43524</td>\n",
       "      <td>0.10254</td>\n",
       "      <td>0.83416</td>\n",
       "      <td>-0.00116</td>\n",
       "      <td>-0.00787</td>\n",
       "      <td>-0.00104</td>\n",
       "      <td>3689</td>\n",
       "      <td>218</td>\n",
       "    </tr>\n",
       "    <tr>\n",
       "      <th>22755</th>\n",
       "      <td>3690.0</td>\n",
       "      <td>6</td>\n",
       "      <td>78.30361</td>\n",
       "      <td>50.59024</td>\n",
       "      <td>2.90811</td>\n",
       "      <td>9.69890</td>\n",
       "      <td>-12.44567</td>\n",
       "      <td>-2.35904</td>\n",
       "      <td>6.19083</td>\n",
       "      <td>0.43864</td>\n",
       "      <td>0.10847</td>\n",
       "      <td>0.83465</td>\n",
       "      <td>-0.00143</td>\n",
       "      <td>-0.00832</td>\n",
       "      <td>-0.00104</td>\n",
       "      <td>3690</td>\n",
       "      <td>218</td>\n",
       "    </tr>\n",
       "  </tbody>\n",
       "</table>\n",
       "<p>1850 rows × 17 columns</p>\n",
       "</div>"
      ],
      "text/plain": [
       "            t   n         x          y    theta  grad_ux   grad_uy   grad_vx  \\\n",
       "20906  1841.0  12  46.46108  150.30597  2.78050  2.06489   0.67394   3.13610   \n",
       "20907  1842.0  12  45.65619  152.68060  2.67952  2.01478   0.69792   4.22583   \n",
       "20908  1843.0  12  45.08325  154.25487      NaN  1.91642   0.73303   5.69676   \n",
       "20909  1844.0  12  44.57639  155.62812  2.55740  1.94376   0.73117   8.04533   \n",
       "20910  1845.0  12  44.15069  156.72936  2.50126  1.88329   0.75221  12.03938   \n",
       "...       ...  ..       ...        ...      ...      ...       ...       ...   \n",
       "22751  3686.0   6  74.83158   45.05953  1.96686  1.98705  -0.62357  16.57432   \n",
       "22752  3687.0   6  75.26452   46.34132  2.62515  2.19242  -0.91649 -79.63756   \n",
       "22753  3688.0   6  75.86199   47.60680  2.88991  2.45070  -1.30336 -10.55397   \n",
       "22754  3689.0   6  76.75585   48.99844  2.20967  2.87252  -1.93323  -4.46741   \n",
       "22755  3690.0   6  78.30361   50.59024  2.90811  9.69890 -12.44567  -2.35904   \n",
       "\n",
       "         grad_vy        v        f        s     dvdt     dfdt     dsdt  frame  \\\n",
       "20906    0.33789  0.39318  0.09534  0.86259  0.00049 -0.00732 -0.00108   1841   \n",
       "20907    0.03095  0.40114  0.09237  0.86183 -0.00009 -0.00709 -0.00108   1842   \n",
       "20908   -0.37446  0.40693  0.08940  0.86123 -0.00063 -0.00686 -0.00108   1843   \n",
       "20909   -1.02253  0.40228  0.09215  0.86175 -0.00021 -0.00707 -0.00108   1844   \n",
       "20910   -2.11527  0.42248  0.08268  0.85975 -0.00239 -0.00635 -0.00107   1845   \n",
       "...          ...      ...      ...      ...      ...      ...      ...    ...   \n",
       "22751  -24.86799  0.29260  0.09737  0.83577  0.00337 -0.00747 -0.00104   3686   \n",
       "22752  131.95707  0.41193  0.10130  0.83645 -0.00044 -0.00777 -0.00105   3687   \n",
       "22753   19.38342  0.36356  0.10078  0.83418  0.00118 -0.00773 -0.00104   3688   \n",
       "22754    9.54202  0.43524  0.10254  0.83416 -0.00116 -0.00787 -0.00104   3689   \n",
       "22755    6.19083  0.43864  0.10847  0.83465 -0.00143 -0.00832 -0.00104   3690   \n",
       "\n",
       "       particle  \n",
       "20906       218  \n",
       "20907       218  \n",
       "20908       218  \n",
       "20909       218  \n",
       "20910       218  \n",
       "...         ...  \n",
       "22751       218  \n",
       "22752       218  \n",
       "22753       218  \n",
       "22754       218  \n",
       "22755       218  \n",
       "\n",
       "[1850 rows x 17 columns]"
      ]
     },
     "execution_count": 48,
     "metadata": {},
     "output_type": "execute_result"
    }
   ],
   "source": [
    "df_traj"
   ]
  },
  {
   "cell_type": "markdown",
   "metadata": {
    "hidden": true
   },
   "source": [
    "\n"
   ]
  },
  {
   "cell_type": "code",
   "execution_count": 60,
   "metadata": {
    "ExecuteTime": {
     "end_time": "2020-12-19T01:19:36.838354Z",
     "start_time": "2020-12-19T01:19:36.309738Z"
    },
    "hidden": true,
    "run_control": {
     "marked": true
    }
   },
   "outputs": [
    {
     "data": {
      "text/plain": [
       "array([ 845, 1055, 1056])"
      ]
     },
     "execution_count": 60,
     "metadata": {},
     "output_type": "execute_result"
    }
   ],
   "source": [
    "x_values = df_traj.x.values\n",
    "y_values = df_traj.y.values\n",
    "\n",
    "jump_index_array, spd_lst = find_jumps(x_values,y_values,width=200,height=200, DS=5/200,DT=1, jump_thresh=4)\n",
    "\n",
    "jump_index_array"
   ]
  },
  {
   "cell_type": "code",
   "execution_count": 63,
   "metadata": {
    "ExecuteTime": {
     "end_time": "2020-12-19T01:21:17.622455Z",
     "start_time": "2020-12-19T01:21:17.336795Z"
    },
    "hidden": true
   },
   "outputs": [
    {
     "data": {
      "image/png": "[encoded data removed]",
      "text/plain": [
       "<Figure size 576x504 with 1 Axes>"
      ]
     },
     "metadata": {},
     "output_type": "display_data"
    }
   ],
   "source": [
    "frm=1055\n",
    "rng=300\n",
    "plt.plot(x_values[frm-rng:frm+rng],y_values[frm-rng:frm+rng])\n",
    "plt.show()"
   ]
  },
  {
   "cell_type": "markdown",
   "metadata": {
    "hidden": true
   },
   "source": [
    "## validate MSD plots"
   ]
  },
  {
   "cell_type": "markdown",
   "metadata": {
    "ExecuteTime": {
     "end_time": "2020-12-19T01:49:14.501953Z",
     "start_time": "2020-12-19T01:49:14.477507Z"
    },
    "heading_collapsed": true
   },
   "source": [
    "# make some flower plots"
   ]
  },
  {
   "cell_type": "code",
   "execution_count": 69,
   "metadata": {
    "ExecuteTime": {
     "end_time": "2020-12-19T02:02:13.885926Z",
     "start_time": "2020-12-19T02:01:58.774124Z"
    },
    "hidden": true
   },
   "outputs": [
    {
     "name": "stdout",
     "output_type": "stream",
     "text": [
      "File: /home/timothytyree/Documents/GitHub/care/notebooks/Data/initial-conditions-suite-2/ds_5_param_set_8_fastkernel_V_0.5_archive/trajectories_unwrapped/ic_200x200.001.13_traj_sr_400_mem_2.csv\n"
     ]
    }
   ],
   "source": [
    "input_file_name = search_for_file()"
   ]
  },
  {
   "cell_type": "code",
   "execution_count": 124,
   "metadata": {
    "ExecuteTime": {
     "end_time": "2020-12-19T03:25:31.251794Z",
     "start_time": "2020-12-19T03:25:30.425472Z"
    },
    "hidden": true
   },
   "outputs": [],
   "source": [
    "n_tips = 50\n",
    "df = pd.read_csv(input_file_name)\n",
    "s = df.groupby('particle').t.count()\n",
    "s = s.sort_values(ascending=False)\n",
    "pid_longest_lst = list(s.index.values[:n_tips])\n",
    "# d = df[df.particle==pid_longest]\n",
    "# print(pid_longest)\n",
    "# print(s.head())\n",
    "# pid_longest_lst = s.head(n_tips).values\n",
    "df_traj = pd.concat([df[df.particle==pid] for pid in pid_longest_lst])"
   ]
  },
  {
   "cell_type": "code",
   "execution_count": 125,
   "metadata": {
    "ExecuteTime": {
     "end_time": "2020-12-19T03:25:54.855155Z",
     "start_time": "2020-12-19T03:25:33.716052Z"
    },
    "hidden": true
   },
   "outputs": [
    {
     "name": "stdout",
     "output_type": "stream",
     "text": [
      "saved figure in \n",
      "\tic_200x200.001.13_traj_sr_400_mem_2_ntips_50_longest_tips.png.\n"
     ]
    },
    {
     "data": {
      "image/png": "[encoded data removed]",
      "text/plain": [
       "<Figure size 576x576 with 1 Axes>"
      ]
     },
     "metadata": {},
     "output_type": "display_data"
    }
   ],
   "source": [
    "#plot the xy trajectory for longliving tips\n",
    "width=200;height=200;saving = True;fontsize=24\n",
    "V_thresh = eval(input_file_name[input_file_name.find('_V_')+len('_V_'):].split('_')[0])\n",
    "savefig_dir = os.path.join(nb_dir,f'Figures/flower-plots/V_{V_thresh}')\n",
    "savefig_fn = os.path.basename(input_file_name).replace('.csv',f'_ntips_{n_tips}_longest_tips.png')\n",
    "# df_traj = d.copy()\n",
    "col = \"t\"#'theta'\n",
    "xmin=0; ymin=0; xmax=width; ymax=height; \n",
    "axis = [xmin,xmax,ymin,ymax]\n",
    "DS = 5/200\n",
    "fig, ax = plt.subplots(figsize=(8,8))\n",
    "for pid in  pid_longest_lst:#[2:]:\n",
    "    x_values ,y_values, c_values = df_traj[(df_traj.particle==pid)][['x','y', col]].values.T \n",
    "    jump_index_array, spd_lst = find_jumps(x_values,y_values,width=200,height=200, DS=5/200,DT=1, jump_thresh=10.)#.25)\n",
    "    if len(jump_index_array)>0:\n",
    "        ji = jump_index_array[0]\n",
    "        x_values = x_values[:ji]\n",
    "        y_values = y_values[:ji]\n",
    "        c_values = c_values[:ji]\n",
    "    \n",
    "    #scale to real coords\n",
    "    x_values *= DS\n",
    "    y_values *= DS\n",
    "    plt.scatter(x_values,y_values, s=20,#s=0.1\n",
    "                c=c_values, vmin = np.min(c_values), vmax = np.max(c_values), cmap=\"Blues\",alpha=.01)\n",
    "    plt.scatter([x_values[0]],[y_values[0]], s=40,color='green')\n",
    "    plt.scatter([x_values[-1]],[y_values[-1]], s=40,color='red')\n",
    "# plt.axis(axis)\n",
    "# plt.title(f'''more time = more blue''', fontsize=fontsize)\n",
    "#plt.title(f'''more {col} = more blue''', fontsize=fontsize)\n",
    "ax.set_xlabel('x (cm)', fontsize=fontsize)\n",
    "ax.set_ylabel('y (cm)', fontsize=fontsize)\n",
    "# We change the fontsize of minor ticks label \n",
    "ax.tick_params(axis='both', which='major', labelsize=fontsize)\n",
    "ax.tick_params(axis='both', which='minor', labelsize=0)\n",
    "ax.grid('on')\n",
    "ax.set_aspect('equal')\n",
    "if not saving: \n",
    "    plt.show() \n",
    "else:\n",
    "    plt.tight_layout()\n",
    "    os.chdir(savefig_dir)\n",
    "    plt.savefig(savefig_fn, dpi=300)\n",
    "\n",
    "    print(f\"saved figure in \\n\\t{savefig_fn}.\")"
   ]
  },
  {
   "cell_type": "markdown",
   "metadata": {
    "heading_collapsed": true,
    "hidden": true
   },
   "source": [
    "## TODO: make a function that lops off msd if it jumps by more than a certain amount.\n",
    "- don't do ^that before checking all files for funny jumps"
   ]
  },
  {
   "cell_type": "code",
   "execution_count": 112,
   "metadata": {
    "ExecuteTime": {
     "end_time": "2020-12-19T02:41:12.096698Z",
     "start_time": "2020-12-19T02:41:11.609522Z"
    },
    "hidden": true
   },
   "outputs": [],
   "source": [
    "jump_index_array, spd_lst = find_jumps(x_values,y_values,width=200,height=200, DS=5/200,DT=1, jump_thresh=.25)"
   ]
  },
  {
   "cell_type": "code",
   "execution_count": 113,
   "metadata": {
    "ExecuteTime": {
     "end_time": "2020-12-19T02:41:13.674374Z",
     "start_time": "2020-12-19T02:41:13.331523Z"
    },
    "hidden": true
   },
   "outputs": [
    {
     "data": {
      "image/png": "[encoded data removed]",
      "text/plain": [
       "<Figure size 576x504 with 1 Axes>"
      ]
     },
     "metadata": {},
     "output_type": "display_data"
    },
    {
     "name": "stdout",
     "output_type": "stream",
     "text": [
      "[548]\n"
     ]
    }
   ],
   "source": [
    "plt.plot(spd_lst)\n",
    "plt.show()\n",
    "print(jump_index_array)"
   ]
  },
  {
   "cell_type": "code",
   "execution_count": 127,
   "metadata": {
    "ExecuteTime": {
     "end_time": "2020-12-19T05:01:47.234363Z",
     "start_time": "2020-12-19T05:01:47.189495Z"
    },
    "hidden": true
   },
   "outputs": [],
   "source": [
    "def PlotFlowerTrajectories(input_file_name, n_tips=1,col=\"t\",width=200,height=200,saving = True,fontsize=24,DS = 5/200, DT=1., jump_thresh=10., alpha=0.01):\n",
    "    '''plot the xy trajectory for longliving tips'''\n",
    "    V_thresh = eval(input_file_name[input_file_name.find('_V_')+len('_V_'):].split('_')[0])\n",
    "    savefig_dir = os.path.join(nb_dir,f'Figures/flower-plots/V_{V_thresh}')\n",
    "    savefig_fn = os.path.basename(input_file_name).replace('.csv',f'_ntips_{n_tips}_longest_tips.png')\n",
    "    xmin=0; ymin=0; xmax=width; ymax=height; \n",
    "    axis = [xmin,xmax,ymin,ymax]\n",
    "    fig, ax = plt.subplots(figsize=(8,8))\n",
    "    for pid in  pid_longest_lst:#[2:]:\n",
    "        x_values ,y_values, c_values = df_traj[(df_traj.particle==pid)][['x','y', col]].values.T \n",
    "        jump_index_array, spd_lst = find_jumps(x_values,y_values,width=width,height=height, DS=DS,DT=DT, jump_thresh=jump_thresh)#.25)\n",
    "        if len(jump_index_array)>0:\n",
    "            ji = jump_index_array[0]\n",
    "            x_values = x_values[:ji]\n",
    "            y_values = y_values[:ji]\n",
    "            c_values = c_values[:ji]\n",
    "\n",
    "        #scale to real coords\n",
    "        x_values *= DS\n",
    "        y_values *= DS\n",
    "        plt.scatter(x_values,y_values, s=20,#s=0.1\n",
    "                    c=c_values, vmin = np.min(c_values), vmax = np.max(c_values), cmap=\"Blues\",alpha=alpha)\n",
    "        plt.scatter([x_values[0]],[y_values[0]], s=40,color='green')\n",
    "        plt.scatter([x_values[-1]],[y_values[-1]], s=40,color='red')\n",
    "    # plt.axis(axis)\n",
    "    # plt.title(f'''more time = more blue''', fontsize=fontsize)\n",
    "    #plt.title(f'''more {col} = more blue''', fontsize=fontsize)\n",
    "    ax.set_xlabel('x (cm)', fontsize=fontsize)\n",
    "    ax.set_ylabel('y (cm)', fontsize=fontsize)\n",
    "    # We change the fontsize of minor ticks label \n",
    "    ax.tick_params(axis='both', which='major', labelsize=fontsize)\n",
    "    ax.tick_params(axis='both', which='minor', labelsize=0)\n",
    "    ax.grid('on')\n",
    "    ax.set_aspect('equal')\n",
    "    if not saving: \n",
    "        plt.show() \n",
    "    else:\n",
    "        plt.tight_layout()\n",
    "        os.chdir(savefig_dir)\n",
    "        plt.savefig(savefig_fn, dpi=300)\n",
    "        plt.close()\n",
    "        print(f\"saved figure in \\n\\t{savefig_fn}.\")\n",
    "    return savefig_fn"
   ]
  },
  {
   "cell_type": "markdown",
   "metadata": {
    "heading_collapsed": true
   },
   "source": [
    "# TODO: debug the msd output of the primary analysis pipeline\n",
    "- TODO: identify the part that's broken\n",
    "- TODO: tunnel into that part"
   ]
  },
  {
   "cell_type": "code",
   "execution_count": 4,
   "metadata": {
    "ExecuteTime": {
     "end_time": "2021-07-20T22:57:01.144521Z",
     "start_time": "2021-07-20T22:57:01.086784Z"
    },
    "hidden": true
   },
   "outputs": [],
   "source": [
    "from lib.routines.compute_trajectories import *\n",
    "from lib.routines.dag_log_to_msd import *\n",
    "from lib.routines.compute_msd import *"
   ]
  },
  {
   "cell_type": "code",
   "execution_count": 5,
   "metadata": {
    "ExecuteTime": {
     "end_time": "2021-07-20T22:57:01.536206Z",
     "start_time": "2021-07-20T22:57:01.482648Z"
    },
    "hidden": true
   },
   "outputs": [],
   "source": [
    "from lib.my_initialization import *\n",
    "from lib import *\n",
    "from lib.my_initialization import *\n",
    "from lib.utils.utils_traj import *\n",
    "from lib.utils.operari import *\n",
    "\n",
    "import trackpy, pandas as pd, numpy as np\n",
    "from lib import *\n",
    "from lib.routines.track_tips import *\n",
    "from lib.utils.dist_func import *\n",
    "from lib.utils.utils_traj import *\n",
    "\n",
    "from lib.routines.compute_trajectories import *\n",
    "from lib.routines.dag_log_to_msd import *\n",
    "from lib.routines.compute_msd import *"
   ]
  },
  {
   "cell_type": "code",
   "execution_count": 7,
   "metadata": {
    "ExecuteTime": {
     "end_time": "2021-07-20T23:00:56.229764Z",
     "start_time": "2021-07-20T23:00:45.541939Z"
    },
    "hidden": true
   },
   "outputs": [
    {
     "name": "stdout",
     "output_type": "stream",
     "text": [
      "File: /Users/timothytyree/Documents/GitHub/care/notebooks/Data/test_data/pbc_particle_log69_log.csv\n"
     ]
    },
    {
     "data": {
      "text/plain": [
       "'/Users/timothytyree/Documents/GitHub/care/notebooks/Data/test_data/pbc_particle_log69_log.csv'"
      ]
     },
     "execution_count": 7,
     "metadata": {},
     "output_type": "execute_result"
    }
   ],
   "source": [
    "# search_for_file()"
   ]
  },
  {
   "cell_type": "code",
   "execution_count": 20,
   "metadata": {
    "ExecuteTime": {
     "end_time": "2021-07-20T23:17:44.265553Z",
     "start_time": "2021-07-20T23:17:38.773873Z"
    },
    "hidden": true
   },
   "outputs": [
    {
     "data": {
      "text/html": [
       "<div>\n",
       "<style scoped>\n",
       "    .dataframe tbody tr th:only-of-type {\n",
       "        vertical-align: middle;\n",
       "    }\n",
       "\n",
       "    .dataframe tbody tr th {\n",
       "        vertical-align: top;\n",
       "    }\n",
       "\n",
       "    .dataframe thead th {\n",
       "        text-align: right;\n",
       "    }\n",
       "</style>\n",
       "<table border=\"1\" class=\"dataframe\">\n",
       "  <thead>\n",
       "    <tr style=\"text-align: right;\">\n",
       "      <th></th>\n",
       "      <th>frame</th>\n",
       "      <th>t</th>\n",
       "      <th>n</th>\n",
       "      <th>x</th>\n",
       "      <th>y</th>\n",
       "      <th>pid_explicit</th>\n",
       "    </tr>\n",
       "  </thead>\n",
       "  <tbody>\n",
       "    <tr>\n",
       "      <th>0</th>\n",
       "      <td>1</td>\n",
       "      <td>0.00</td>\n",
       "      <td>16</td>\n",
       "      <td>0.000000</td>\n",
       "      <td>0.000000</td>\n",
       "      <td>0</td>\n",
       "    </tr>\n",
       "    <tr>\n",
       "      <th>16</th>\n",
       "      <td>2</td>\n",
       "      <td>0.25</td>\n",
       "      <td>16</td>\n",
       "      <td>-0.040104</td>\n",
       "      <td>0.009229</td>\n",
       "      <td>0</td>\n",
       "    </tr>\n",
       "    <tr>\n",
       "      <th>32</th>\n",
       "      <td>3</td>\n",
       "      <td>0.50</td>\n",
       "      <td>16</td>\n",
       "      <td>-0.006310</td>\n",
       "      <td>0.087671</td>\n",
       "      <td>0</td>\n",
       "    </tr>\n",
       "    <tr>\n",
       "      <th>48</th>\n",
       "      <td>4</td>\n",
       "      <td>0.75</td>\n",
       "      <td>16</td>\n",
       "      <td>0.000519</td>\n",
       "      <td>0.023270</td>\n",
       "      <td>0</td>\n",
       "    </tr>\n",
       "    <tr>\n",
       "      <th>64</th>\n",
       "      <td>5</td>\n",
       "      <td>1.00</td>\n",
       "      <td>16</td>\n",
       "      <td>-0.063225</td>\n",
       "      <td>0.062974</td>\n",
       "      <td>0</td>\n",
       "    </tr>\n",
       "  </tbody>\n",
       "</table>\n",
       "</div>"
      ],
      "text/plain": [
       "    frame     t   n         x         y  pid_explicit\n",
       "0       1  0.00  16  0.000000  0.000000             0\n",
       "16      2  0.25  16 -0.040104  0.009229             0\n",
       "32      3  0.50  16 -0.006310  0.087671             0\n",
       "48      4  0.75  16  0.000519  0.023270             0\n",
       "64      5  1.00  16 -0.063225  0.062974             0"
      ]
     },
     "execution_count": 20,
     "metadata": {},
     "output_type": "execute_result"
    }
   ],
   "source": [
    "# #(good): data that uses explicit particle tracking\n",
    "# input_fn='/Users/timothytyree/Documents/GitHub/care/notebooks/Data/test_data/pbc_particle_log69_log.csv'\n",
    "# pid_col='pid_explicit'\n",
    "# #(bad)particle data analyzed using full model pipeline\n",
    "# # input_fn=\"/Users/timothytyree/Documents/GitHub/bgmc/python/data/local_results/euic_False_fc_2_r_0.1_D_2_L_10_kappa_1500_varkappa_0/trajectories_unwrap/pbc_particle_log121_traj_sr_30_mem_0_unwrap.csv\"\n",
    "# df=pd.read_csv(input_fn)\n",
    "\n",
    "# kwargs={}\n",
    "# width=10\n",
    "# ds=10\n",
    "# height=width\n",
    "# DS=ds/width\n",
    "\n",
    "# #unwrap trajectories\n",
    "# pid_lst = sorted(set(df[pid_col].values))\n",
    "# #(duplicates filtered earlier in full model pipeline.  Unnecessary in particle model with explicit tracking_ _  _ _ ) filter_duplicate_trajectory_indices is slow (and can probs be accelerated with a sexy pandas one liner)\n",
    "# # pid_lst_filtered = filter_duplicate_trajectory_indices(pid_lst,df)\n",
    "# df = pd.concat([unwrap_traj_and_center(df[df[pid_col]==pid], width, height, DS, **kwargs) for pid in pid_lst_filtered])\n",
    "# DT=get_DT(df,pid_col=pid_col) #ms\n",
    "# df.head()"
   ]
  },
  {
   "cell_type": "code",
   "execution_count": null,
   "metadata": {
    "hidden": true
   },
   "outputs": [],
   "source": [
    "# #TODO: compute imsd for these values\n",
    "# #compute ensemble mean squared displacement\n",
    "# emsd = trackpy.motion.emsd(df_traj, mpp=1., fps=1.,max_lagtime=40000)\n",
    "# #cast ensemble mean squared displacement into units of cm^2 and seconds\n",
    "# return pd.DataFrame({'msd':DS**2*emsd.values, 'lagt':emsd.index.values*DT/10**3, 'src':os.path.basename(input_file_name)})"
   ]
  },
  {
   "cell_type": "code",
   "execution_count": null,
   "metadata": {
    "hidden": true
   },
   "outputs": [],
   "source": []
  },
  {
   "cell_type": "code",
   "execution_count": 22,
   "metadata": {
    "ExecuteTime": {
     "end_time": "2021-07-20T23:20:29.875479Z",
     "start_time": "2021-07-20T23:20:29.832159Z"
    },
    "hidden": true
   },
   "outputs": [],
   "source": [
    "# #TODO: find the broken part of the routine \n",
    "\n",
    "# # workflow_reduce_logs_to_diffcoeff_summary\n",
    "# #TODO: show whether unwrapped trajectories make sense\n",
    "# # run_routine_unwrapped_trajectories_to_diffcoeff_summary\n",
    "# generate_msd_figures_routine_for_list\n",
    "\n",
    "\n",
    "# #DONE: checked outputs emsd_fn makes sense\n",
    "# #TODO: add bootstrapping 95%CI for a tighter looking std dev of msd values\n",
    "# #TODO: check the units of msd makes sense\n",
    "# compute_emsd_for_longest_trajectories\n",
    "\n",
    "# #If none of ^that is broken, then the problem may be in \n",
    "# # dag_a_postprocess"
   ]
  },
  {
   "cell_type": "code",
   "execution_count": 13,
   "metadata": {
    "ExecuteTime": {
     "end_time": "2021-07-19T20:45:32.637438Z",
     "start_time": "2021-07-19T20:45:29.216781Z"
    },
    "hidden": true
   },
   "outputs": [],
   "source": [
    "# ds=10\n",
    "# width=10\n",
    "# n_tips=1\n",
    "# L=width\n",
    "# DS=ds/width\n",
    "# DT = np.mean(df.t.diff().dropna().values)\n",
    "# retval=compute_emsd_for_longest_trajectories(input_file_name=input_fn, n_tips=n_tips,DS=DS,DT=DT,L=L)"
   ]
  },
  {
   "cell_type": "code",
   "execution_count": 21,
   "metadata": {
    "ExecuteTime": {
     "end_time": "2021-07-20T23:18:19.624226Z",
     "start_time": "2021-07-20T23:18:19.575110Z"
    },
    "hidden": true
   },
   "outputs": [
    {
     "data": {
      "text/plain": [
       "(12001, 3)"
      ]
     },
     "execution_count": 21,
     "metadata": {},
     "output_type": "execute_result"
    }
   ],
   "source": [
    "# #(later)isolate the xyt_values for a given particle\n",
    "# pid=0\n",
    "# t1=df1\n",
    "# dff=df[(df[pid_col]==pid)]\n",
    "# xyt_values=dff[['x','y','t']].values\n",
    "# xyt_values.shape\n",
    "\n",
    "# # Input units are pixels and frames. Output units are microns and seconds.\n",
    "# df_out=trackpy.motion.msd(\n",
    "#     traj,\n",
    "#     mpp,\n",
    "#     fps,\n",
    "#     max_lagtime=100,\n",
    "#     detail=False\n",
    "# )\n",
    "# #in this form???\n",
    "# # pd.DataFrame({'msd':DS**2*emsd.values, 'lagt':emsd.index.values*DT/10**3, 'src':os.path.basename(input_file_name)})"
   ]
  },
  {
   "cell_type": "code",
   "execution_count": 32,
   "metadata": {
    "ExecuteTime": {
     "end_time": "2021-07-19T21:16:35.886167Z",
     "start_time": "2021-07-19T21:16:35.799008Z"
    },
    "hidden": true
   },
   "outputs": [
    {
     "data": {
      "text/plain": [
       "['pbc_particle_log121_traj_sr_30_mem_0_unwrap.csv']"
      ]
     },
     "execution_count": 32,
     "metadata": {},
     "output_type": "execute_result"
    }
   ],
   "source": [
    "# sorted(set(retval.src.values))\n",
    "\n",
    "# x_values=retval.lagt.values\n",
    "# y_values=retval.msd.values\n",
    "\n",
    "# plt.plot(x_values,y_values)\n",
    "# plt.show()\n",
    "\n",
    "# emsd_fn=search_for_file()\n",
    "# df=pd.read_csv(emsd_fn)\n",
    "# df.head()\n",
    "\n",
    "# DT=0.25 #ms between two frames\n",
    "# # DT=df.t.head(2).diff().dropna().values[0]\n",
    "# DT\n",
    "\n",
    "# #TODO: load the cached emsd file\n",
    "# #TODO: see if the aggregated df goes to the average and stddev correctly\n",
    "# t_values, msd_values, std_values = compute_average_std_msd(df,DT)"
   ]
  },
  {
   "cell_type": "code",
   "execution_count": 3,
   "metadata": {
    "ExecuteTime": {
     "end_time": "2021-07-21T01:58:06.624127Z",
     "start_time": "2021-07-21T01:58:06.572137Z"
    },
    "hidden": true
   },
   "outputs": [],
   "source": [
    "# x_values=t_values\n",
    "# y_values=msd_values\n",
    "# y_err_values=1.96*std_values\n",
    "\n",
    "# plt.plot(x_values,y_values)\n",
    "# plt.fill_between(x_values,y_values-y_err_values,y_values+y_err_values,alpha=0.4)\n",
    "# plt.show()"
   ]
  },
  {
   "cell_type": "code",
   "execution_count": 34,
   "metadata": {
    "ExecuteTime": {
     "end_time": "2021-07-19T21:16:50.235134Z",
     "start_time": "2021-07-19T21:16:50.167491Z"
    },
    "hidden": true
   },
   "outputs": [],
   "source": [
    "#TODO: add bootstrapping 95%CI to replace\n",
    "# t_values, msd_values, std_values = compute_average_std_msd(df,DT)"
   ]
  },
  {
   "cell_type": "code",
   "execution_count": 42,
   "metadata": {
    "ExecuteTime": {
     "end_time": "2021-07-19T21:20:22.457487Z",
     "start_time": "2021-07-19T21:20:22.385016Z"
    },
    "hidden": true
   },
   "outputs": [],
   "source": [
    "# #TODO(later): debug plotting if it still isn't working\n",
    "# savefig_fn = os.path.basename(output_file_name).replace('.csv','_short_time_std.png')\n",
    "# retval = PlotMSD(df, t_values, msd_values, std_values, savefig_folder,savefig_fn,xlim = [0,0.2],ylim=[0,1],saving = True,fontsize =22,figsize=(9,6),D=3.5)\n",
    "input_file_name=input_fn\n",
    "folder_name=os.path.dirname(input_file_name)\n",
    "dirname = os.path.dirname(input_file_name).split('/')[-1]\n",
    "save_folder = folder_name.replace(dirname,'msd')"
   ]
  },
  {
   "cell_type": "code",
   "execution_count": 50,
   "metadata": {
    "ExecuteTime": {
     "end_time": "2021-07-19T21:22:34.480725Z",
     "start_time": "2021-07-19T21:22:34.409692Z"
    },
    "hidden": true
   },
   "outputs": [
    {
     "data": {
      "text/plain": [
       "'euic_False_fc_2_r_0.1_D_2_L_10_kappa_1500_varkappa_0'"
      ]
     },
     "execution_count": 50,
     "metadata": {},
     "output_type": "execute_result"
    }
   ],
   "source": [
    "trial_folder_name=os.path.dirname(os.path.dirname(input_fn))\n",
    "trial_folder_name=os.path.basename(os.path.dirname(os.path.dirname(input_fn)))\n",
    "trial_folder_name"
   ]
  },
  {
   "cell_type": "code",
   "execution_count": 52,
   "metadata": {
    "ExecuteTime": {
     "end_time": "2021-07-19T21:27:01.882967Z",
     "start_time": "2021-07-19T21:22:53.719523Z"
    },
    "hidden": true
   },
   "outputs": [
    {
     "name": "stdout",
     "output_type": "stream",
     "text": [
      "generating diffcoeff_figures for euic_False_fc_2_r_0.1_D_2_L_10_kappa_1500_varkappa_0\n",
      "\tnum. trials that didn't show a tip lasing longer than 150ms is 0, and that didn't show am Rsquared of at least 0.0 is 0\n",
      "saved diffcoeff_summary to /Users/timothytyree/Documents/GitHub/bgmc/python/data/local_results/euic_False_fc_2_r_0.1_D_2_L_10_kappa_1500_varkappa_0/msd\n",
      "the total number of trials considered in summary is 0\n"
     ]
    }
   ],
   "source": [
    "use_cache=False\n",
    "#TODO: follow emsd_fn in the outer pipeline to the summary \n",
    "#compute the diffusion coefficient summary\n",
    "os.chdir(os.path.dirname(emsd_fn))\n",
    "dir_out=os.path.join(save_folder,\"diffcoeff_summary_\"+os.path.basename(emsd_fn))\n",
    "if not use_cache or not os.path.exists(dir_out):\n",
    "    dir_out = dag_a_postprocess(emsd_fn=emsd_fn,\n",
    "                            trial_folder_name=trial_folder_name,\n",
    "                            dir_out=dir_out)#,**kwargs)"
   ]
  },
  {
   "cell_type": "markdown",
   "metadata": {
    "ExecuteTime": {
     "end_time": "2021-07-19T21:21:28.771692Z",
     "start_time": "2021-07-19T21:21:28.703755Z"
    },
    "hidden": true
   },
   "source": [
    "### dag_a_postprocess is broken\n",
    "### compute_diffusion_coeffs is giving lame output"
   ]
  },
  {
   "cell_type": "code",
   "execution_count": 55,
   "metadata": {
    "ExecuteTime": {
     "end_time": "2021-07-19T21:36:17.561878Z",
     "start_time": "2021-07-19T21:32:14.973256Z"
    },
    "hidden": true
   },
   "outputs": [
    {
     "name": "stdout",
     "output_type": "stream",
     "text": [
      "generating diffcoeff_figures for euic_False_fc_2_r_0.1_D_2_L_10_kappa_1500_varkappa_0\n",
      "\tnum. trials that didn't show a tip lasing longer than 150ms is 0, and that didn't show am Rsquared of at least 0.0 is 0\n",
      "saved diffcoeff_summary to /Users/timothytyree/Documents/GitHub/bgmc/python/data/local_results/euic_False_fc_2_r_0.1_D_2_L_10_kappa_1500_varkappa_0/msd\n",
      "the total number of trials considered in summary is 0\n"
     ]
    }
   ],
   "source": [
    "# dag_a_postprocess\n",
    "kwargs={}\n",
    "fn2= compute_diffusion_coeffs(input_file_name=emsd_fn,**kwargs)\n",
    "retval= generate_diffcoeff_figures(input_file_name=os.path.abspath(fn2),trial_folder_name,dir_out=dir_out,**kwargs)\n"
   ]
  },
  {
   "cell_type": "code",
   "execution_count": 58,
   "metadata": {
    "ExecuteTime": {
     "end_time": "2021-07-19T21:39:22.333945Z",
     "start_time": "2021-07-19T21:39:22.234826Z"
    },
    "hidden": true
   },
   "outputs": [
    {
     "data": {
      "text/html": [
       "<div>\n",
       "<style scoped>\n",
       "    .dataframe tbody tr th:only-of-type {\n",
       "        vertical-align: middle;\n",
       "    }\n",
       "\n",
       "    .dataframe tbody tr th {\n",
       "        vertical-align: top;\n",
       "    }\n",
       "\n",
       "    .dataframe thead th {\n",
       "        text-align: right;\n",
       "    }\n",
       "</style>\n",
       "<table border=\"1\" class=\"dataframe\">\n",
       "  <thead>\n",
       "    <tr style=\"text-align: right;\">\n",
       "      <th></th>\n",
       "      <th>Unnamed: 0</th>\n",
       "      <th>src</th>\n",
       "      <th>N</th>\n",
       "      <th>D_expval</th>\n",
       "      <th>D_stderr</th>\n",
       "      <th>duration_of_traj</th>\n",
       "      <th>intercept</th>\n",
       "      <th>Rsquared</th>\n",
       "      <th>p_value</th>\n",
       "    </tr>\n",
       "  </thead>\n",
       "  <tbody>\n",
       "    <tr>\n",
       "      <th>0</th>\n",
       "      <td>0</td>\n",
       "      <td>pbc_particle_log100_traj_sr_30_mem_0_unwrap.csv</td>\n",
       "      <td>40000</td>\n",
       "      <td>-9999.0</td>\n",
       "      <td>-9999.0</td>\n",
       "      <td>0.138409</td>\n",
       "      <td>-9999.0</td>\n",
       "      <td>99980001.0</td>\n",
       "      <td>-9999.0</td>\n",
       "    </tr>\n",
       "    <tr>\n",
       "      <th>1</th>\n",
       "      <td>1</td>\n",
       "      <td>pbc_particle_log101_traj_sr_30_mem_0_unwrap.csv</td>\n",
       "      <td>40000</td>\n",
       "      <td>-9999.0</td>\n",
       "      <td>-9999.0</td>\n",
       "      <td>0.138409</td>\n",
       "      <td>-9999.0</td>\n",
       "      <td>99980001.0</td>\n",
       "      <td>-9999.0</td>\n",
       "    </tr>\n",
       "    <tr>\n",
       "      <th>2</th>\n",
       "      <td>2</td>\n",
       "      <td>pbc_particle_log102_traj_sr_30_mem_0_unwrap.csv</td>\n",
       "      <td>40000</td>\n",
       "      <td>-9999.0</td>\n",
       "      <td>-9999.0</td>\n",
       "      <td>0.138409</td>\n",
       "      <td>-9999.0</td>\n",
       "      <td>99980001.0</td>\n",
       "      <td>-9999.0</td>\n",
       "    </tr>\n",
       "    <tr>\n",
       "      <th>3</th>\n",
       "      <td>3</td>\n",
       "      <td>pbc_particle_log103_traj_sr_30_mem_0_unwrap.csv</td>\n",
       "      <td>40000</td>\n",
       "      <td>-9999.0</td>\n",
       "      <td>-9999.0</td>\n",
       "      <td>0.138409</td>\n",
       "      <td>-9999.0</td>\n",
       "      <td>99980001.0</td>\n",
       "      <td>-9999.0</td>\n",
       "    </tr>\n",
       "    <tr>\n",
       "      <th>4</th>\n",
       "      <td>4</td>\n",
       "      <td>pbc_particle_log104_traj_sr_30_mem_0_unwrap.csv</td>\n",
       "      <td>40000</td>\n",
       "      <td>-9999.0</td>\n",
       "      <td>-9999.0</td>\n",
       "      <td>0.138409</td>\n",
       "      <td>-9999.0</td>\n",
       "      <td>99980001.0</td>\n",
       "      <td>-9999.0</td>\n",
       "    </tr>\n",
       "  </tbody>\n",
       "</table>\n",
       "</div>"
      ],
      "text/plain": [
       "   Unnamed: 0                                              src      N  \\\n",
       "0           0  pbc_particle_log100_traj_sr_30_mem_0_unwrap.csv  40000   \n",
       "1           1  pbc_particle_log101_traj_sr_30_mem_0_unwrap.csv  40000   \n",
       "2           2  pbc_particle_log102_traj_sr_30_mem_0_unwrap.csv  40000   \n",
       "3           3  pbc_particle_log103_traj_sr_30_mem_0_unwrap.csv  40000   \n",
       "4           4  pbc_particle_log104_traj_sr_30_mem_0_unwrap.csv  40000   \n",
       "\n",
       "   D_expval  D_stderr  duration_of_traj  intercept    Rsquared  p_value  \n",
       "0   -9999.0   -9999.0          0.138409    -9999.0  99980001.0  -9999.0  \n",
       "1   -9999.0   -9999.0          0.138409    -9999.0  99980001.0  -9999.0  \n",
       "2   -9999.0   -9999.0          0.138409    -9999.0  99980001.0  -9999.0  \n",
       "3   -9999.0   -9999.0          0.138409    -9999.0  99980001.0  -9999.0  \n",
       "4   -9999.0   -9999.0          0.138409    -9999.0  99980001.0  -9999.0  "
      ]
     },
     "execution_count": 58,
     "metadata": {},
     "output_type": "execute_result"
    }
   ],
   "source": [
    "os.path.exists(fn2)\n",
    "df=pd.read_csv(fn2)\n",
    "df.head()"
   ]
  },
  {
   "cell_type": "code",
   "execution_count": 72,
   "metadata": {
    "ExecuteTime": {
     "end_time": "2021-07-19T21:54:37.415659Z",
     "start_time": "2021-07-19T21:54:30.463738Z"
    },
    "hidden": true
   },
   "outputs": [],
   "source": [
    "#NOTE: tau_min and tau_max is not causing the bug\n",
    "\n",
    "input_file_name=emsd_fn\n",
    "tau_min=0#.15\n",
    "tau_max=0.5\n",
    "\n",
    "# compute_diffusion_coeffs\n",
    "df=pd.read_csv(input_file_name)\n",
    "\n",
    "#initialize output dataframe by counting the number of trials that apppear in each tip log, listed in src\n",
    "ef=df.groupby('src').src.count()\n",
    "sv=ef.index;nv=ef.values\n",
    "df2=pd.DataFrame({'src':sv,'N':nv})\n",
    "\n",
    "# select msd data for single trial\n",
    "src_lst=list(set(df.src.values))\n",
    "\n",
    "# for src in src_lst:   #UNCOMMENT_HERE\n",
    "for src in src_lst[:2]: #COMMENT_HERE\n",
    "    \n",
    "    \n",
    "    # src=src_lst[0]\n",
    "    tau_values,msd_values=df[df.src==src][['lagt','msd']].values.T\n",
    "\n",
    "    boo=(tau_values>=tau_min)&(tau_values<=tau_max)\n",
    "    x_values=tau_values[boo]\n",
    "    y_values=msd_values[boo]\n",
    "    duration_of_traj=tau_values[-1]\n",
    "\n",
    "    if x_values.shape[0]>0:\n",
    "        #compute diffusion coefficient\n",
    "        slope, intercept, r_value, p_value, std_err = stats.linregress(x_values,y_values)\n",
    "        #    std_err: D_stderr : Standard error of the estimated gradient.\n",
    "        #    slope  : D_expval : diffcoef of msd curve\n",
    "        D_expval=slope\n",
    "        D_stderr=std_err\n",
    "        #     retval=src,duration_of_traj,D_expval,D_stderr,intercept,r_value,p_value\n",
    "    else:\n",
    "        #no value was found\n",
    "        D_expval=-9999.;D_stderr=-9999.;intercept=-9999.;r_value=-9999.;p_value=-9999.\n",
    "\n",
    "    #update output dataframe with diffusion coefficient measurements\n",
    "    df2.loc[df2.src==src,'D_expval']=D_expval#df2.loc[df2.src==src,\n",
    "    df2.loc[df2.src==src,'D_stderr']=D_stderr#df2.loc[df2.src==src,\n",
    "    df2.loc[df2.src==src,'duration_of_traj']=duration_of_traj#df2.loc[df2.src==src,\n",
    "    df2.loc[df2.src==src,'intercept']=intercept#df2.loc[df2.src==src,\n",
    "    df2.loc[df2.src==src,'Rsquared']=r_value**2#df2.loc[df2.src==src,\n",
    "    df2.loc[df2.src==src,'p_value']=p_value#df2.loc[df2.src==src,\n",
    "\n",
    "\n",
    "#save results to csv\n",
    "os.chdir(os.path.dirname(input_file_name))\n",
    "savefn=(\"diffcoeff_\"+os.path.basename(input_file_name)).replace('.csv',f'_Tmin_{tau_min}_Tmax_{tau_max}.csv')\n",
    "df2.to_csv(savefn)"
   ]
  },
  {
   "cell_type": "code",
   "execution_count": 74,
   "metadata": {
    "ExecuteTime": {
     "end_time": "2021-07-19T21:54:54.501439Z",
     "start_time": "2021-07-19T21:54:54.420116Z"
    },
    "hidden": true
   },
   "outputs": [
    {
     "name": "stdout",
     "output_type": "stream",
     "text": [
      "(3.4602301098535286e-06, 0.13840920439414114)\n"
     ]
    },
    {
     "data": {
      "text/html": [
       "<div>\n",
       "<style scoped>\n",
       "    .dataframe tbody tr th:only-of-type {\n",
       "        vertical-align: middle;\n",
       "    }\n",
       "\n",
       "    .dataframe tbody tr th {\n",
       "        vertical-align: top;\n",
       "    }\n",
       "\n",
       "    .dataframe thead th {\n",
       "        text-align: right;\n",
       "    }\n",
       "</style>\n",
       "<table border=\"1\" class=\"dataframe\">\n",
       "  <thead>\n",
       "    <tr style=\"text-align: right;\">\n",
       "      <th></th>\n",
       "      <th>src</th>\n",
       "      <th>N</th>\n",
       "      <th>D_expval</th>\n",
       "      <th>D_stderr</th>\n",
       "      <th>duration_of_traj</th>\n",
       "      <th>intercept</th>\n",
       "      <th>Rsquared</th>\n",
       "      <th>p_value</th>\n",
       "    </tr>\n",
       "  </thead>\n",
       "  <tbody>\n",
       "    <tr>\n",
       "      <th>0</th>\n",
       "      <td>pbc_particle_log100_traj_sr_30_mem_0_unwrap.csv</td>\n",
       "      <td>40000</td>\n",
       "      <td>NaN</td>\n",
       "      <td>NaN</td>\n",
       "      <td>NaN</td>\n",
       "      <td>NaN</td>\n",
       "      <td>NaN</td>\n",
       "      <td>NaN</td>\n",
       "    </tr>\n",
       "    <tr>\n",
       "      <th>1</th>\n",
       "      <td>pbc_particle_log101_traj_sr_30_mem_0_unwrap.csv</td>\n",
       "      <td>40000</td>\n",
       "      <td>NaN</td>\n",
       "      <td>NaN</td>\n",
       "      <td>NaN</td>\n",
       "      <td>NaN</td>\n",
       "      <td>NaN</td>\n",
       "      <td>NaN</td>\n",
       "    </tr>\n",
       "    <tr>\n",
       "      <th>2</th>\n",
       "      <td>pbc_particle_log102_traj_sr_30_mem_0_unwrap.csv</td>\n",
       "      <td>40000</td>\n",
       "      <td>NaN</td>\n",
       "      <td>NaN</td>\n",
       "      <td>NaN</td>\n",
       "      <td>NaN</td>\n",
       "      <td>NaN</td>\n",
       "      <td>NaN</td>\n",
       "    </tr>\n",
       "    <tr>\n",
       "      <th>3</th>\n",
       "      <td>pbc_particle_log103_traj_sr_30_mem_0_unwrap.csv</td>\n",
       "      <td>40000</td>\n",
       "      <td>NaN</td>\n",
       "      <td>NaN</td>\n",
       "      <td>NaN</td>\n",
       "      <td>NaN</td>\n",
       "      <td>NaN</td>\n",
       "      <td>NaN</td>\n",
       "    </tr>\n",
       "    <tr>\n",
       "      <th>4</th>\n",
       "      <td>pbc_particle_log104_traj_sr_30_mem_0_unwrap.csv</td>\n",
       "      <td>40000</td>\n",
       "      <td>NaN</td>\n",
       "      <td>NaN</td>\n",
       "      <td>NaN</td>\n",
       "      <td>NaN</td>\n",
       "      <td>NaN</td>\n",
       "      <td>NaN</td>\n",
       "    </tr>\n",
       "  </tbody>\n",
       "</table>\n",
       "</div>"
      ],
      "text/plain": [
       "                                               src      N  D_expval  D_stderr  \\\n",
       "0  pbc_particle_log100_traj_sr_30_mem_0_unwrap.csv  40000       NaN       NaN   \n",
       "1  pbc_particle_log101_traj_sr_30_mem_0_unwrap.csv  40000       NaN       NaN   \n",
       "2  pbc_particle_log102_traj_sr_30_mem_0_unwrap.csv  40000       NaN       NaN   \n",
       "3  pbc_particle_log103_traj_sr_30_mem_0_unwrap.csv  40000       NaN       NaN   \n",
       "4  pbc_particle_log104_traj_sr_30_mem_0_unwrap.csv  40000       NaN       NaN   \n",
       "\n",
       "   duration_of_traj  intercept  Rsquared  p_value  \n",
       "0               NaN        NaN       NaN      NaN  \n",
       "1               NaN        NaN       NaN      NaN  \n",
       "2               NaN        NaN       NaN      NaN  \n",
       "3               NaN        NaN       NaN      NaN  \n",
       "4               NaN        NaN       NaN      NaN  "
      ]
     },
     "execution_count": 74,
     "metadata": {},
     "output_type": "execute_result"
    }
   ],
   "source": [
    "print ((np.min(tau_values),np.max(tau_values)))\n",
    "df2.head()\n"
   ]
  },
  {
   "cell_type": "code",
   "execution_count": 71,
   "metadata": {
    "ExecuteTime": {
     "end_time": "2021-07-19T21:53:04.910051Z",
     "start_time": "2021-07-19T21:53:04.598632Z"
    },
    "hidden": true
   },
   "outputs": [
    {
     "data": {
      "image/png": "[encoded data removed]",
      "text/plain": [
       "<Figure size 432x288 with 1 Axes>"
      ]
     },
     "metadata": {
      "needs_background": "light"
     },
     "output_type": "display_data"
    }
   ],
   "source": [
    "x_values=tau_values\n",
    "y_values=msd_values\n",
    "\n",
    "plt.plot(x_values,y_values)\n",
    "plt.show()"
   ]
  },
  {
   "cell_type": "code",
   "execution_count": 75,
   "metadata": {
    "ExecuteTime": {
     "end_time": "2021-07-19T22:07:18.666731Z",
     "start_time": "2021-07-19T22:07:18.562670Z"
    },
    "hidden": true
   },
   "outputs": [],
   "source": [
    "#TODO: copy the aggregation routine used to generate the fits for the dRdt versus R\n",
    "#TODO: change emsd routine to \n",
    "#TODO: change ^that routine to take a folder of emsd files as input"
   ]
  },
  {
   "cell_type": "code",
   "execution_count": 222,
   "metadata": {
    "ExecuteTime": {
     "end_time": "2021-07-21T01:47:00.170061Z",
     "start_time": "2021-07-21T01:47:00.076660Z"
    },
    "hidden": true
   },
   "outputs": [],
   "source": [
    "#Root Cause: a scaling problem could be causing tau_min/tau_max to be missing the sparsly sampled trajectories\n",
    "#DONT DO THIS ONE(option A), lower quality, perhaps quick fix of setting tau_min and tau_max to input determined values... but that ignores a root cause, which probably involves a scaling problem\n",
    "#DO THIS ONE(option B, higher quality results with boostrapping)\n",
    "#TODO: get a folder of unwrapped trajectory file names\n",
    "#TODO: print summary stats on particle lifetimes for one input folder\n",
    "#TODO: print make a manual decision about minimum_lifetime, crop_start_by, and crop_end_by\n",
    "#TODO: for each unwrapped trajectory file, compute imsd for each particle lasting longer than minimum_lifetime. save each as csv\n",
    "#TODO: load all of ^those imsd into python and compute the mean imsd, binning by lagt\n",
    "#TODO: save resulting emsd to csv\n",
    "#TODO: generate plots\n",
    "#TODO: look at plots and decide whether to change the default tau_min and tau_max\n",
    "#TODO: compute linear regression with tau_min and tau_max\n",
    "\n",
    "def get_log_files(trial_folder_name, extension='/Log/', trgt='.csv'):\n",
    "    '''TODO: move this function to utils\n",
    "    \n",
    "    #Example Usage:\n",
    "    input_fn=\"/Users/timothytyree/Documents/GitHub/bgmc/python/data/local_results/euic_False_fc_2_r_0.1_D_2_L_10_kappa_1500_varkappa_0/trajectories/pbc_particle_log144_traj_sr_30_mem_0.csv\"\n",
    "    trial_folder_name=os.path.dirname(os.path.dirname(input_fn))\n",
    "    input_fn_lst=get_unwrapped_Log_files(trial_folder_name)\n",
    "\n",
    "    '''\n",
    "    os.chdir(trial_folder_name+extension)\n",
    "    input_fn_lst=[os.path.abspath(fn) for fn in os.listdir() if fn[-4:]==trgt]\n",
    "    return input_fn_lst\n",
    "\n",
    "def get_trajectory_files(trial_folder_name,trgt='.csv', extension='/trajectories/'):\n",
    "    '''TODO: move this function to utils'''\n",
    "    os.chdir(trial_folder_name+extension)\n",
    "    input_fn_lst=[os.path.abspath(fn) for fn in os.listdir() if fn[-4:]==trgt]\n",
    "    return input_fn_lst\n",
    "\n",
    "def get_unwrapped_trajectory_files(trial_folder_name, extension='/trajectories_unwrap/',trgt='.csv'):\n",
    "    '''TODO: move this function to utils'''\n",
    "    os.chdir(trial_folder_name+extension)\n",
    "    input_fn_lst=[os.path.abspath(fn) for fn in os.listdir() if fn[-4:]==trgt]\n",
    "    return input_fn_lst"
   ]
  },
  {
   "cell_type": "code",
   "execution_count": 106,
   "metadata": {
    "ExecuteTime": {
     "end_time": "2021-07-19T23:04:10.749261Z",
     "start_time": "2021-07-19T23:04:10.700758Z"
    },
    "hidden": true
   },
   "outputs": [
    {
     "data": {
      "text/plain": [
       "True"
      ]
     },
     "execution_count": 106,
     "metadata": {},
     "output_type": "execute_result"
    }
   ],
   "source": [
    "extension='/trajectories_unwrap/'\n",
    "os.chdir(trial_folder_name+extension)\n",
    "fn=os.listdir()[0]\n",
    "os.path.exists(fn)"
   ]
  },
  {
   "cell_type": "code",
   "execution_count": 141,
   "metadata": {
    "ExecuteTime": {
     "end_time": "2021-07-21T00:42:05.658830Z",
     "start_time": "2021-07-21T00:42:05.604806Z"
    },
    "hidden": true
   },
   "outputs": [
    {
     "ename": "NameError",
     "evalue": "name 'input_fn_lst' is not defined",
     "output_type": "error",
     "traceback": [
      "\u001b[0;31m---------------------------------------------------------------------------\u001b[0m",
      "\u001b[0;31mNameError\u001b[0m                                 Traceback (most recent call last)",
      "\u001b[0;32m<ipython-input-141-599b382d1ff0>\u001b[0m in \u001b[0;36m<module>\u001b[0;34m\u001b[0m\n\u001b[1;32m      1\u001b[0m \u001b[0;31m#all CPU version\u001b[0m\u001b[0;34m\u001b[0m\u001b[0;34m\u001b[0m\u001b[0;34m\u001b[0m\u001b[0m\n\u001b[0;32m----> 2\u001b[0;31m \u001b[0mb\u001b[0m \u001b[0;34m=\u001b[0m \u001b[0mdb\u001b[0m\u001b[0;34m.\u001b[0m\u001b[0mfrom_sequence\u001b[0m\u001b[0;34m(\u001b[0m\u001b[0minput_fn_lst\u001b[0m\u001b[0;34m,\u001b[0m \u001b[0mnpartitions\u001b[0m\u001b[0;34m=\u001b[0m\u001b[0mnpartitions\u001b[0m\u001b[0;34m)\u001b[0m\u001b[0;34m.\u001b[0m\u001b[0mmap\u001b[0m\u001b[0;34m(\u001b[0m\u001b[0mroutine\u001b[0m\u001b[0;34m)\u001b[0m\u001b[0;34m\u001b[0m\u001b[0;34m\u001b[0m\u001b[0m\n\u001b[0m\u001b[1;32m      3\u001b[0m \u001b[0mstart\u001b[0m \u001b[0;34m=\u001b[0m \u001b[0mtime\u001b[0m\u001b[0;34m.\u001b[0m\u001b[0mtime\u001b[0m\u001b[0;34m(\u001b[0m\u001b[0;34m)\u001b[0m\u001b[0;34m\u001b[0m\u001b[0;34m\u001b[0m\u001b[0m\n\u001b[1;32m      4\u001b[0m \u001b[0mretval\u001b[0m \u001b[0;34m=\u001b[0m \u001b[0mlist\u001b[0m\u001b[0;34m(\u001b[0m\u001b[0mb\u001b[0m\u001b[0;34m)\u001b[0m\u001b[0;34m\u001b[0m\u001b[0;34m\u001b[0m\u001b[0m\n\u001b[1;32m      5\u001b[0m \u001b[0mprint\u001b[0m\u001b[0;34m(\u001b[0m\u001b[0;34mf\"run time for computing features of annihilation events was {time.time()-start:.2f} seconds.\"\u001b[0m\u001b[0;34m)\u001b[0m\u001b[0;34m\u001b[0m\u001b[0;34m\u001b[0m\u001b[0m\n",
      "\u001b[0;31mNameError\u001b[0m: name 'input_fn_lst' is not defined"
     ]
    }
   ],
   "source": [
    "#all CPU version\n",
    "b = db.from_sequence(input_fn_lst, npartitions=npartitions).map(routine)\n",
    "start = time.time()\n",
    "retval = list(b)\n",
    "print(f\"run time for computing features of annihilation events was {time.time()-start:.2f} seconds.\")\n",
    "beep(3)\n"
   ]
  },
  {
   "cell_type": "code",
   "execution_count": 142,
   "metadata": {
    "ExecuteTime": {
     "end_time": "2021-07-19T23:17:42.716712Z",
     "start_time": "2021-07-19T23:17:42.548775Z"
    },
    "hidden": true
   },
   "outputs": [
    {
     "name": "stdout",
     "output_type": "stream",
     "text": [
      "computing mean squared for 200 unwrapped trajectory .csv files...\n",
      "looking at a token example input from /Users/timothytyree/Documents/GitHub/bgmc/python/data/local_results/euic_False_fc_2_r_0.1_D_2_L_10_kappa_1500_varkappa_0/trajectories_unwrap/pbc_particle_log3_traj_sr_30_mem_0_unwrap.csv\n"
     ]
    }
   ],
   "source": [
    "#TODO: get a folder of unwrapped trajectory file names\n",
    "trgt='.csv'\n",
    "#Example Usage:\n",
    "input_fn=\"/Users/timothytyree/Documents/GitHub/bgmc/python/data/local_results/euic_False_fc_2_r_0.1_D_2_L_10_kappa_1500_varkappa_0/trajectories/pbc_particle_log144_traj_sr_30_mem_0.csv\"\n",
    "trial_folder_name=os.path.dirname(os.path.dirname(input_fn))\n",
    "input_fn_lst=get_unwrapped_trajectory_files(trial_folder_name)\n",
    "\n",
    "# input_fn_lst=[os.path.abspath(fn) for fn in os.listdir(trial_folder_name+'/trajectories_unwrap/') if fn[-4:]==trgt]\n",
    "print(f\"computing mean squared for {len(input_fn_lst)} unwrapped trajectory .csv files...\")\n",
    "print(f\"looking at a token example input from {input_fn_lst[0]}\")\n",
    "\n",
    "df=pd.read_csv(input_fn_lst[0])\n",
    "df.head()\n",
    "def get_DT(df,t_col='t',pid_col='particle'):\n",
    "    DT=np.mean(df[df[pid_col]==0][t_col].diff().dropna().values)\n",
    "    return DT\n",
    "DT=get_DT(df) #ms"
   ]
  },
  {
   "cell_type": "markdown",
   "metadata": {
    "heading_collapsed": true
   },
   "source": [
    "# start test data\n",
    "- TODO: wrap routine up to bootstrapping\n",
    "- TODO(later?): consider parallelizing bootstrapping?\n",
    "- TODO: "
   ]
  },
  {
   "cell_type": "markdown",
   "metadata": {
    "heading_collapsed": true,
    "hidden": true
   },
   "source": [
    "## dev fast msd"
   ]
  },
  {
   "cell_type": "code",
   "execution_count": 4,
   "metadata": {
    "ExecuteTime": {
     "end_time": "2021-07-21T21:58:11.300088Z",
     "start_time": "2021-07-21T21:58:11.148722Z"
    },
    "hidden": true
   },
   "outputs": [
    {
     "ename": "FileNotFoundError",
     "evalue": "[Errno 2] File /Users/timothytyree/Documents/GitHub/care/notebooks/Data/test_data/pbc_particle_log69_log.csv does not exist: '/Users/timothytyree/Documents/GitHub/care/notebooks/Data/test_data/pbc_particle_log69_log.csv'",
     "output_type": "error",
     "traceback": [
      "\u001b[0;31m---------------------------------------------------------------------------\u001b[0m",
      "\u001b[0;31mFileNotFoundError\u001b[0m                         Traceback (most recent call last)",
      "\u001b[0;32m<ipython-input-4-7dd4a7f94047>\u001b[0m in \u001b[0;36m<module>\u001b[0;34m\u001b[0m\n\u001b[1;32m      8\u001b[0m \u001b[0;31m#(bad)particle data analyzed using full model pipeline\u001b[0m\u001b[0;34m\u001b[0m\u001b[0;34m\u001b[0m\u001b[0;34m\u001b[0m\u001b[0m\n\u001b[1;32m      9\u001b[0m \u001b[0;31m# input_fn=\"/Users/timothytyree/Documents/GitHub/bgmc/python/data/local_results/euic_False_fc_2_r_0.1_D_2_L_10_kappa_1500_varkappa_0/trajectories_unwrap/pbc_particle_log121_traj_sr_30_mem_0_unwrap.csv\"\u001b[0m\u001b[0;34m\u001b[0m\u001b[0;34m\u001b[0m\u001b[0;34m\u001b[0m\u001b[0m\n\u001b[0;32m---> 10\u001b[0;31m \u001b[0mdf\u001b[0m\u001b[0;34m=\u001b[0m\u001b[0mpd\u001b[0m\u001b[0;34m.\u001b[0m\u001b[0mread_csv\u001b[0m\u001b[0;34m(\u001b[0m\u001b[0minput_fn\u001b[0m\u001b[0;34m)\u001b[0m\u001b[0;34m\u001b[0m\u001b[0;34m\u001b[0m\u001b[0m\n\u001b[0m\u001b[1;32m     11\u001b[0m \u001b[0mkwargs\u001b[0m\u001b[0;34m=\u001b[0m\u001b[0;34m{\u001b[0m\u001b[0;34m}\u001b[0m\u001b[0;34m\u001b[0m\u001b[0;34m\u001b[0m\u001b[0m\n\u001b[1;32m     12\u001b[0m \u001b[0mwidth\u001b[0m\u001b[0;34m=\u001b[0m\u001b[0;36m10\u001b[0m \u001b[0;31m#width of computational domain\u001b[0m\u001b[0;34m\u001b[0m\u001b[0;34m\u001b[0m\u001b[0m\n",
      "\u001b[0;32m~/anaconda3/lib/python3.7/site-packages/pandas/io/parsers.py\u001b[0m in \u001b[0;36mparser_f\u001b[0;34m(filepath_or_buffer, sep, delimiter, header, names, index_col, usecols, squeeze, prefix, mangle_dupe_cols, dtype, engine, converters, true_values, false_values, skipinitialspace, skiprows, skipfooter, nrows, na_values, keep_default_na, na_filter, verbose, skip_blank_lines, parse_dates, infer_datetime_format, keep_date_col, date_parser, dayfirst, cache_dates, iterator, chunksize, compression, thousands, decimal, lineterminator, quotechar, quoting, doublequote, escapechar, comment, encoding, dialect, error_bad_lines, warn_bad_lines, delim_whitespace, low_memory, memory_map, float_precision)\u001b[0m\n\u001b[1;32m    674\u001b[0m         )\n\u001b[1;32m    675\u001b[0m \u001b[0;34m\u001b[0m\u001b[0m\n\u001b[0;32m--> 676\u001b[0;31m         \u001b[0;32mreturn\u001b[0m \u001b[0m_read\u001b[0m\u001b[0;34m(\u001b[0m\u001b[0mfilepath_or_buffer\u001b[0m\u001b[0;34m,\u001b[0m \u001b[0mkwds\u001b[0m\u001b[0;34m)\u001b[0m\u001b[0;34m\u001b[0m\u001b[0;34m\u001b[0m\u001b[0m\n\u001b[0m\u001b[1;32m    677\u001b[0m \u001b[0;34m\u001b[0m\u001b[0m\n\u001b[1;32m    678\u001b[0m     \u001b[0mparser_f\u001b[0m\u001b[0;34m.\u001b[0m\u001b[0m__name__\u001b[0m \u001b[0;34m=\u001b[0m \u001b[0mname\u001b[0m\u001b[0;34m\u001b[0m\u001b[0;34m\u001b[0m\u001b[0m\n",
      "\u001b[0;32m~/anaconda3/lib/python3.7/site-packages/pandas/io/parsers.py\u001b[0m in \u001b[0;36m_read\u001b[0;34m(filepath_or_buffer, kwds)\u001b[0m\n\u001b[1;32m    446\u001b[0m \u001b[0;34m\u001b[0m\u001b[0m\n\u001b[1;32m    447\u001b[0m     \u001b[0;31m# Create the parser.\u001b[0m\u001b[0;34m\u001b[0m\u001b[0;34m\u001b[0m\u001b[0;34m\u001b[0m\u001b[0m\n\u001b[0;32m--> 448\u001b[0;31m     \u001b[0mparser\u001b[0m \u001b[0;34m=\u001b[0m \u001b[0mTextFileReader\u001b[0m\u001b[0;34m(\u001b[0m\u001b[0mfp_or_buf\u001b[0m\u001b[0;34m,\u001b[0m \u001b[0;34m**\u001b[0m\u001b[0mkwds\u001b[0m\u001b[0;34m)\u001b[0m\u001b[0;34m\u001b[0m\u001b[0;34m\u001b[0m\u001b[0m\n\u001b[0m\u001b[1;32m    449\u001b[0m \u001b[0;34m\u001b[0m\u001b[0m\n\u001b[1;32m    450\u001b[0m     \u001b[0;32mif\u001b[0m \u001b[0mchunksize\u001b[0m \u001b[0;32mor\u001b[0m \u001b[0miterator\u001b[0m\u001b[0;34m:\u001b[0m\u001b[0;34m\u001b[0m\u001b[0;34m\u001b[0m\u001b[0m\n",
      "\u001b[0;32m~/anaconda3/lib/python3.7/site-packages/pandas/io/parsers.py\u001b[0m in \u001b[0;36m__init__\u001b[0;34m(self, f, engine, **kwds)\u001b[0m\n\u001b[1;32m    878\u001b[0m             \u001b[0mself\u001b[0m\u001b[0;34m.\u001b[0m\u001b[0moptions\u001b[0m\u001b[0;34m[\u001b[0m\u001b[0;34m\"has_index_names\"\u001b[0m\u001b[0;34m]\u001b[0m \u001b[0;34m=\u001b[0m \u001b[0mkwds\u001b[0m\u001b[0;34m[\u001b[0m\u001b[0;34m\"has_index_names\"\u001b[0m\u001b[0;34m]\u001b[0m\u001b[0;34m\u001b[0m\u001b[0;34m\u001b[0m\u001b[0m\n\u001b[1;32m    879\u001b[0m \u001b[0;34m\u001b[0m\u001b[0m\n\u001b[0;32m--> 880\u001b[0;31m         \u001b[0mself\u001b[0m\u001b[0;34m.\u001b[0m\u001b[0m_make_engine\u001b[0m\u001b[0;34m(\u001b[0m\u001b[0mself\u001b[0m\u001b[0;34m.\u001b[0m\u001b[0mengine\u001b[0m\u001b[0;34m)\u001b[0m\u001b[0;34m\u001b[0m\u001b[0;34m\u001b[0m\u001b[0m\n\u001b[0m\u001b[1;32m    881\u001b[0m \u001b[0;34m\u001b[0m\u001b[0m\n\u001b[1;32m    882\u001b[0m     \u001b[0;32mdef\u001b[0m \u001b[0mclose\u001b[0m\u001b[0;34m(\u001b[0m\u001b[0mself\u001b[0m\u001b[0;34m)\u001b[0m\u001b[0;34m:\u001b[0m\u001b[0;34m\u001b[0m\u001b[0;34m\u001b[0m\u001b[0m\n",
      "\u001b[0;32m~/anaconda3/lib/python3.7/site-packages/pandas/io/parsers.py\u001b[0m in \u001b[0;36m_make_engine\u001b[0;34m(self, engine)\u001b[0m\n\u001b[1;32m   1112\u001b[0m     \u001b[0;32mdef\u001b[0m \u001b[0m_make_engine\u001b[0m\u001b[0;34m(\u001b[0m\u001b[0mself\u001b[0m\u001b[0;34m,\u001b[0m \u001b[0mengine\u001b[0m\u001b[0;34m=\u001b[0m\u001b[0;34m\"c\"\u001b[0m\u001b[0;34m)\u001b[0m\u001b[0;34m:\u001b[0m\u001b[0;34m\u001b[0m\u001b[0;34m\u001b[0m\u001b[0m\n\u001b[1;32m   1113\u001b[0m         \u001b[0;32mif\u001b[0m \u001b[0mengine\u001b[0m \u001b[0;34m==\u001b[0m \u001b[0;34m\"c\"\u001b[0m\u001b[0;34m:\u001b[0m\u001b[0;34m\u001b[0m\u001b[0;34m\u001b[0m\u001b[0m\n\u001b[0;32m-> 1114\u001b[0;31m             \u001b[0mself\u001b[0m\u001b[0;34m.\u001b[0m\u001b[0m_engine\u001b[0m \u001b[0;34m=\u001b[0m \u001b[0mCParserWrapper\u001b[0m\u001b[0;34m(\u001b[0m\u001b[0mself\u001b[0m\u001b[0;34m.\u001b[0m\u001b[0mf\u001b[0m\u001b[0;34m,\u001b[0m \u001b[0;34m**\u001b[0m\u001b[0mself\u001b[0m\u001b[0;34m.\u001b[0m\u001b[0moptions\u001b[0m\u001b[0;34m)\u001b[0m\u001b[0;34m\u001b[0m\u001b[0;34m\u001b[0m\u001b[0m\n\u001b[0m\u001b[1;32m   1115\u001b[0m         \u001b[0;32melse\u001b[0m\u001b[0;34m:\u001b[0m\u001b[0;34m\u001b[0m\u001b[0;34m\u001b[0m\u001b[0m\n\u001b[1;32m   1116\u001b[0m             \u001b[0;32mif\u001b[0m \u001b[0mengine\u001b[0m \u001b[0;34m==\u001b[0m \u001b[0;34m\"python\"\u001b[0m\u001b[0;34m:\u001b[0m\u001b[0;34m\u001b[0m\u001b[0;34m\u001b[0m\u001b[0m\n",
      "\u001b[0;32m~/anaconda3/lib/python3.7/site-packages/pandas/io/parsers.py\u001b[0m in \u001b[0;36m__init__\u001b[0;34m(self, src, **kwds)\u001b[0m\n\u001b[1;32m   1889\u001b[0m         \u001b[0mkwds\u001b[0m\u001b[0;34m[\u001b[0m\u001b[0;34m\"usecols\"\u001b[0m\u001b[0;34m]\u001b[0m \u001b[0;34m=\u001b[0m \u001b[0mself\u001b[0m\u001b[0;34m.\u001b[0m\u001b[0musecols\u001b[0m\u001b[0;34m\u001b[0m\u001b[0;34m\u001b[0m\u001b[0m\n\u001b[1;32m   1890\u001b[0m \u001b[0;34m\u001b[0m\u001b[0m\n\u001b[0;32m-> 1891\u001b[0;31m         \u001b[0mself\u001b[0m\u001b[0;34m.\u001b[0m\u001b[0m_reader\u001b[0m \u001b[0;34m=\u001b[0m \u001b[0mparsers\u001b[0m\u001b[0;34m.\u001b[0m\u001b[0mTextReader\u001b[0m\u001b[0;34m(\u001b[0m\u001b[0msrc\u001b[0m\u001b[0;34m,\u001b[0m \u001b[0;34m**\u001b[0m\u001b[0mkwds\u001b[0m\u001b[0;34m)\u001b[0m\u001b[0;34m\u001b[0m\u001b[0;34m\u001b[0m\u001b[0m\n\u001b[0m\u001b[1;32m   1892\u001b[0m         \u001b[0mself\u001b[0m\u001b[0;34m.\u001b[0m\u001b[0munnamed_cols\u001b[0m \u001b[0;34m=\u001b[0m \u001b[0mself\u001b[0m\u001b[0;34m.\u001b[0m\u001b[0m_reader\u001b[0m\u001b[0;34m.\u001b[0m\u001b[0munnamed_cols\u001b[0m\u001b[0;34m\u001b[0m\u001b[0;34m\u001b[0m\u001b[0m\n\u001b[1;32m   1893\u001b[0m \u001b[0;34m\u001b[0m\u001b[0m\n",
      "\u001b[0;32mpandas/_libs/parsers.pyx\u001b[0m in \u001b[0;36mpandas._libs.parsers.TextReader.__cinit__\u001b[0;34m()\u001b[0m\n",
      "\u001b[0;32mpandas/_libs/parsers.pyx\u001b[0m in \u001b[0;36mpandas._libs.parsers.TextReader._setup_parser_source\u001b[0;34m()\u001b[0m\n",
      "\u001b[0;31mFileNotFoundError\u001b[0m: [Errno 2] File /Users/timothytyree/Documents/GitHub/care/notebooks/Data/test_data/pbc_particle_log69_log.csv does not exist: '/Users/timothytyree/Documents/GitHub/care/notebooks/Data/test_data/pbc_particle_log69_log.csv'"
     ]
    }
   ],
   "source": [
    "#input_fn is any sort of trajectory .csv file.  it must have a column reffered to by pid_col that uniquely identifies each particle\n",
    "#Load example particle Log file where I want to compute MSD and tracking has already been done \n",
    "#(good): data that uses explicit particle tracking\n",
    "input_fn='/Users/timothytyree/Documents/GitHub/care/notebooks/Data/test_data/pbc_particle_log69_log.csv'\n",
    "trial_folder_name=os.path.dirname(os.path.dirname(input_fn))\n",
    "pid_col='pid_explicit'\n",
    "t_col='t'\n",
    "#(bad)particle data analyzed using full model pipeline\n",
    "# input_fn=\"/Users/timothytyree/Documents/GitHub/bgmc/python/data/local_results/euic_False_fc_2_r_0.1_D_2_L_10_kappa_1500_varkappa_0/trajectories_unwrap/pbc_particle_log121_traj_sr_30_mem_0_unwrap.csv\"\n",
    "df=pd.read_csv(input_fn)\n",
    "kwargs={}\n",
    "width=10 #width of computational domain\n",
    "ds   =5  #cm\n",
    "#from here on, we will use units in terms of those used by the full model\n",
    "height=width\n",
    "DS=ds/width\n",
    "\n",
    "#unwrap trajectories\n",
    "pid_lst = sorted(set(df[pid_col].values))\n",
    "#(duplicates filtered earlier in full model pipeline.  Unnecessary in particle model with explicit tracking_ _  _ _ ) filter_duplicate_trajectory_indices is slow (and can probs be accelerated with a sexy pandas one liner)\n",
    "# pid_lst_filtered = filter_duplicate_trajectory_indices(pid_lst,df)\n",
    "df = pd.concat([unwrap_traj_and_center(df[df[pid_col]==pid], width, height, DS, **kwargs) for pid in pid_lst])\n",
    "DT=get_DT(df,pid_col=pid_col) #ms\n",
    "df.head()"
   ]
  },
  {
   "cell_type": "code",
   "execution_count": 3,
   "metadata": {
    "ExecuteTime": {
     "end_time": "2021-07-21T02:00:42.488093Z",
     "start_time": "2021-07-21T02:00:42.425383Z"
    },
    "hidden": true
   },
   "outputs": [
    {
     "data": {
      "text/html": [
       "<div>\n",
       "<style scoped>\n",
       "    .dataframe tbody tr th:only-of-type {\n",
       "        vertical-align: middle;\n",
       "    }\n",
       "\n",
       "    .dataframe tbody tr th {\n",
       "        vertical-align: top;\n",
       "    }\n",
       "\n",
       "    .dataframe thead th {\n",
       "        text-align: right;\n",
       "    }\n",
       "</style>\n",
       "<table border=\"1\" class=\"dataframe\">\n",
       "  <thead>\n",
       "    <tr style=\"text-align: right;\">\n",
       "      <th></th>\n",
       "      <th>frame</th>\n",
       "      <th>t</th>\n",
       "      <th>n</th>\n",
       "      <th>x</th>\n",
       "      <th>y</th>\n",
       "      <th>pid_explicit</th>\n",
       "    </tr>\n",
       "  </thead>\n",
       "  <tbody>\n",
       "    <tr>\n",
       "      <th>count</th>\n",
       "      <td>16.0</td>\n",
       "      <td>16.00</td>\n",
       "      <td>16.0</td>\n",
       "      <td>16.000000</td>\n",
       "      <td>16.000000</td>\n",
       "      <td>16.000000</td>\n",
       "    </tr>\n",
       "    <tr>\n",
       "      <th>mean</th>\n",
       "      <td>2.0</td>\n",
       "      <td>0.25</td>\n",
       "      <td>16.0</td>\n",
       "      <td>0.002237</td>\n",
       "      <td>-0.002213</td>\n",
       "      <td>7.500000</td>\n",
       "    </tr>\n",
       "    <tr>\n",
       "      <th>std</th>\n",
       "      <td>0.0</td>\n",
       "      <td>0.00</td>\n",
       "      <td>0.0</td>\n",
       "      <td>0.033202</td>\n",
       "      <td>0.036687</td>\n",
       "      <td>4.760952</td>\n",
       "    </tr>\n",
       "    <tr>\n",
       "      <th>min</th>\n",
       "      <td>2.0</td>\n",
       "      <td>0.25</td>\n",
       "      <td>16.0</td>\n",
       "      <td>-0.044786</td>\n",
       "      <td>-0.084995</td>\n",
       "      <td>0.000000</td>\n",
       "    </tr>\n",
       "    <tr>\n",
       "      <th>25%</th>\n",
       "      <td>2.0</td>\n",
       "      <td>0.25</td>\n",
       "      <td>16.0</td>\n",
       "      <td>-0.027915</td>\n",
       "      <td>-0.022203</td>\n",
       "      <td>3.750000</td>\n",
       "    </tr>\n",
       "    <tr>\n",
       "      <th>50%</th>\n",
       "      <td>2.0</td>\n",
       "      <td>0.25</td>\n",
       "      <td>16.0</td>\n",
       "      <td>-0.001693</td>\n",
       "      <td>0.003719</td>\n",
       "      <td>7.500000</td>\n",
       "    </tr>\n",
       "    <tr>\n",
       "      <th>75%</th>\n",
       "      <td>2.0</td>\n",
       "      <td>0.25</td>\n",
       "      <td>16.0</td>\n",
       "      <td>0.030018</td>\n",
       "      <td>0.019456</td>\n",
       "      <td>11.250000</td>\n",
       "    </tr>\n",
       "    <tr>\n",
       "      <th>max</th>\n",
       "      <td>2.0</td>\n",
       "      <td>0.25</td>\n",
       "      <td>16.0</td>\n",
       "      <td>0.050437</td>\n",
       "      <td>0.055976</td>\n",
       "      <td>15.000000</td>\n",
       "    </tr>\n",
       "  </tbody>\n",
       "</table>\n",
       "</div>"
      ],
      "text/plain": [
       "       frame      t     n          x          y  pid_explicit\n",
       "count   16.0  16.00  16.0  16.000000  16.000000     16.000000\n",
       "mean     2.0   0.25  16.0   0.002237  -0.002213      7.500000\n",
       "std      0.0   0.00   0.0   0.033202   0.036687      4.760952\n",
       "min      2.0   0.25  16.0  -0.044786  -0.084995      0.000000\n",
       "25%      2.0   0.25  16.0  -0.027915  -0.022203      3.750000\n",
       "50%      2.0   0.25  16.0  -0.001693   0.003719      7.500000\n",
       "75%      2.0   0.25  16.0   0.030018   0.019456     11.250000\n",
       "max      2.0   0.25  16.0   0.050437   0.055976     15.000000"
      ]
     },
     "execution_count": 3,
     "metadata": {},
     "output_type": "execute_result"
    }
   ],
   "source": [
    "df[df.frame==2].describe()"
   ]
  },
  {
   "cell_type": "code",
   "execution_count": 4,
   "metadata": {
    "ExecuteTime": {
     "end_time": "2021-07-21T02:00:42.763793Z",
     "start_time": "2021-07-21T02:00:42.723985Z"
    },
    "hidden": true
   },
   "outputs": [
    {
     "data": {
      "text/plain": [
       "0.0018"
      ]
     },
     "execution_count": 4,
     "metadata": {},
     "output_type": "execute_result"
    }
   ],
   "source": [
    "#back of envelop estimate\n",
    "2*.03**2*DS**2/DT"
   ]
  },
  {
   "cell_type": "code",
   "execution_count": 9,
   "metadata": {
    "ExecuteTime": {
     "end_time": "2021-07-21T02:01:02.867235Z",
     "start_time": "2021-07-21T02:01:02.766509Z"
    },
    "hidden": true
   },
   "outputs": [
    {
     "name": "stdout",
     "output_type": "stream",
     "text": [
      "printing summary stats on particle lifetimes for one input folder in /Users/timothytyree/Documents/GitHub/care/notebooks/Data:\n",
      "count      16.0\n",
      "mean     3000.0\n",
      "std         0.0\n",
      "min      3000.0\n",
      "25%      3000.0\n",
      "50%      3000.0\n",
      "75%      3000.0\n",
      "max      3000.0\n",
      "Name: min, dtype: float64\n",
      "\n",
      "Please make a manual decision about minimum_lifetime, crop_start_by, and crop_end_by\n"
     ]
    }
   ],
   "source": [
    "#print summary stats on particle lifetimes for one input folder\n",
    "dft=df.groupby(pid_col)[t_col].describe()\n",
    "df_lifetimes=-dft[['max','min']].T.diff().loc['min']\n",
    "\n",
    "print(f\"printing summary stats on particle lifetimes for one input folder in {trial_folder_name}:\")\n",
    "print(df_lifetimes.describe())\n",
    "# print(df_lifetimes.head(10))\n",
    "print(\"\\nPlease make a manual decision about minimum_lifetime, crop_start_by, and crop_end_by\")"
   ]
  },
  {
   "cell_type": "code",
   "execution_count": 10,
   "metadata": {
    "ExecuteTime": {
     "end_time": "2021-07-21T02:01:08.160843Z",
     "start_time": "2021-07-21T02:01:08.116609Z"
    },
    "hidden": true
   },
   "outputs": [],
   "source": [
    "minimum_lifetime=500. #ms\n",
    "crop_start_by=0\n",
    "crop_end_by=0"
   ]
  },
  {
   "cell_type": "code",
   "execution_count": 11,
   "metadata": {
    "ExecuteTime": {
     "end_time": "2021-07-21T02:01:12.506586Z",
     "start_time": "2021-07-21T02:01:12.452610Z"
    },
    "hidden": true
   },
   "outputs": [],
   "source": [
    "width=10\n",
    "ds   =5  #cm\n",
    "pid_col='pid_explicit'\n",
    "t_col='t'\n",
    "\n",
    "kwargs={\n",
    "    'DT':DT,\n",
    "    'ds':ds,\n",
    "    'width':width,\n",
    "    'minimum_lifetime':minimum_lifetime,\n",
    "    'crop_start_by':crop_start_by,\n",
    "    'crop_end_by':crop_end_by,\n",
    "    'pid_col':pid_col,\n",
    "    't_col':t_col,\n",
    "    'max_lagtime':None\n",
    "}"
   ]
  },
  {
   "cell_type": "code",
   "execution_count": 14,
   "metadata": {
    "ExecuteTime": {
     "end_time": "2021-07-21T02:02:13.250839Z",
     "start_time": "2021-07-21T02:02:06.449574Z"
    },
    "hidden": true
   },
   "outputs": [],
   "source": [
    "use_test=True\n",
    "if use_test:\n",
    "    #optionally test the routine\n",
    "    df_msd=compute_each_mean_squared_displacement(input_fn,**kwargs)\n",
    "#     routine_compute_imsd(input_fn,**kwargs)"
   ]
  },
  {
   "cell_type": "code",
   "execution_count": 15,
   "metadata": {
    "ExecuteTime": {
     "end_time": "2021-07-21T02:02:16.796346Z",
     "start_time": "2021-07-21T02:02:16.750561Z"
    },
    "hidden": true
   },
   "outputs": [],
   "source": [
    "def routine(input_fn):\n",
    "    return routine_compute_imsd(input_fn,**kwargs)\n"
   ]
  },
  {
   "cell_type": "code",
   "execution_count": 16,
   "metadata": {
    "ExecuteTime": {
     "end_time": "2021-07-21T02:02:18.148546Z",
     "start_time": "2021-07-21T02:02:18.096823Z"
    },
    "hidden": true
   },
   "outputs": [
    {
     "name": "stdout",
     "output_type": "stream",
     "text": [
      "We're about to obliterate 1 trajectory files from /Users/timothytyree/Documents/GitHub/care/notebooks/Data...\n"
     ]
    }
   ],
   "source": [
    "trial_folder_name=os.path.dirname(os.path.dirname(input_fn))\n",
    "# input_fn_lst=get_log_files(trial_folder_name, extension='/Log/', trgt='.csv')\n",
    "input_fn_lst=get_log_files(trial_folder_name, extension='', trgt='.csv')\n",
    "print(f\"We're about to obliterate {len(input_fn_lst)} trajectory files from {trial_folder_name}...\")"
   ]
  },
  {
   "cell_type": "code",
   "execution_count": 17,
   "metadata": {
    "ExecuteTime": {
     "end_time": "2021-07-21T02:02:31.120661Z",
     "start_time": "2021-07-21T02:02:24.907647Z"
    },
    "hidden": true
   },
   "outputs": [],
   "source": [
    "#extract values\n",
    "df_out=compute_each_mean_squared_displacement(input_fn,**kwargs)\n",
    "df_in=df_out\n",
    "lagt_values=df_in['lagt'].values\n",
    "msd_values=df_in['msd'].values"
   ]
  },
  {
   "cell_type": "code",
   "execution_count": 18,
   "metadata": {
    "ExecuteTime": {
     "end_time": "2021-07-21T02:02:39.345251Z",
     "start_time": "2021-07-21T02:02:32.698312Z"
    },
    "hidden": true
   },
   "outputs": [
    {
     "data": {
      "text/html": [
       "<div>\n",
       "<style scoped>\n",
       "    .dataframe tbody tr th:only-of-type {\n",
       "        vertical-align: middle;\n",
       "    }\n",
       "\n",
       "    .dataframe tbody tr th {\n",
       "        vertical-align: top;\n",
       "    }\n",
       "\n",
       "    .dataframe thead th {\n",
       "        text-align: right;\n",
       "    }\n",
       "</style>\n",
       "<table border=\"1\" class=\"dataframe\">\n",
       "  <thead>\n",
       "    <tr style=\"text-align: right;\">\n",
       "      <th></th>\n",
       "      <th>lagt</th>\n",
       "      <th>msd</th>\n",
       "      <th>Delta_lagt</th>\n",
       "      <th>Delta_msd</th>\n",
       "      <th>p_lagt</th>\n",
       "      <th>p_msd</th>\n",
       "      <th>counts</th>\n",
       "    </tr>\n",
       "  </thead>\n",
       "  <tbody>\n",
       "    <tr>\n",
       "      <th>0</th>\n",
       "      <td>26.00</td>\n",
       "      <td>0.051178</td>\n",
       "      <td>0.511760</td>\n",
       "      <td>0.001006</td>\n",
       "      <td>0.933783</td>\n",
       "      <td>0.625983</td>\n",
       "      <td>3312</td>\n",
       "    </tr>\n",
       "    <tr>\n",
       "      <th>1</th>\n",
       "      <td>77.75</td>\n",
       "      <td>0.151440</td>\n",
       "      <td>0.486682</td>\n",
       "      <td>0.001069</td>\n",
       "      <td>0.641911</td>\n",
       "      <td>0.397815</td>\n",
       "      <td>3312</td>\n",
       "    </tr>\n",
       "    <tr>\n",
       "      <th>2</th>\n",
       "      <td>129.50</td>\n",
       "      <td>0.250366</td>\n",
       "      <td>0.509670</td>\n",
       "      <td>0.001514</td>\n",
       "      <td>0.815254</td>\n",
       "      <td>0.602810</td>\n",
       "      <td>3312</td>\n",
       "    </tr>\n",
       "    <tr>\n",
       "      <th>3</th>\n",
       "      <td>181.25</td>\n",
       "      <td>0.349894</td>\n",
       "      <td>0.488614</td>\n",
       "      <td>0.002085</td>\n",
       "      <td>0.002968</td>\n",
       "      <td>0.954943</td>\n",
       "      <td>3312</td>\n",
       "    </tr>\n",
       "    <tr>\n",
       "      <th>4</th>\n",
       "      <td>233.00</td>\n",
       "      <td>0.454443</td>\n",
       "      <td>0.516458</td>\n",
       "      <td>0.002974</td>\n",
       "      <td>0.669735</td>\n",
       "      <td>0.896575</td>\n",
       "      <td>3312</td>\n",
       "    </tr>\n",
       "  </tbody>\n",
       "</table>\n",
       "</div>"
      ],
      "text/plain": [
       "     lagt       msd  Delta_lagt  Delta_msd    p_lagt     p_msd  counts\n",
       "0   26.00  0.051178    0.511760   0.001006  0.933783  0.625983    3312\n",
       "1   77.75  0.151440    0.486682   0.001069  0.641911  0.397815    3312\n",
       "2  129.50  0.250366    0.509670   0.001514  0.815254  0.602810    3312\n",
       "3  181.25  0.349894    0.488614   0.002085  0.002968  0.954943    3312\n",
       "4  233.00  0.454443    0.516458   0.002974  0.669735  0.896575    3312"
      ]
     },
     "execution_count": 18,
     "metadata": {},
     "output_type": "execute_result"
    }
   ],
   "source": [
    "#bin and bootstrap results\n",
    "bins='auto'#50#\n",
    "dict_out=bin_and_bootstrap_xy_values(x=lagt_values,y=msd_values,xlabel='lagt',ylabel=r'msd',bins=bins,min_numobs=None,num_bootstrap_samples=1000)\n",
    "df_emsd=pd.DataFrame(dict_out)\n",
    "df_emsd.head()"
   ]
  },
  {
   "cell_type": "code",
   "execution_count": 19,
   "metadata": {
    "ExecuteTime": {
     "end_time": "2021-07-21T02:02:41.850375Z",
     "start_time": "2021-07-21T02:02:41.798340Z"
    },
    "hidden": true
   },
   "outputs": [],
   "source": [
    "# #TODO(later): make text interface for choosing new max_lagtime. Note max_lagtime is in units of frames, not time...\n",
    "# print(f\"If you want to save memory and decrease runtime decide on a reasonable value for max_lagtime!  maxt={max_lagtime}\")\n",
    "\n",
    "#TODO: load all of ^those imsd into python and compute the mean imsd, binning by lagt\n",
    "#TODO: save resulting emsd to csv\n",
    "#TODO: generate plots\n",
    "#TODO: look at plots and decide whether to change the default tau_min and tau_max\n",
    "#TODO: compute linear regression with tau_min and tau_max"
   ]
  },
  {
   "cell_type": "code",
   "execution_count": 20,
   "metadata": {
    "ExecuteTime": {
     "end_time": "2021-07-21T02:02:43.157380Z",
     "start_time": "2021-07-21T02:02:43.104634Z"
    },
    "hidden": true
   },
   "outputs": [
    {
     "name": "stdout",
     "output_type": "stream",
     "text": [
      "the ols fit for particle model:\n",
      "m=0.002085242608139578\n",
      "Delta_m=4.3300602109248706e-05\n",
      "b=-0.017242820634599587\n",
      "Delta_b=0.012923231478108333\n",
      "Rsquared=0.9991028548074199\n",
      "Nobs= 3310 +- 5\n",
      "trial_folder_name: /Users/timothytyree/Documents/GitHub/care/notebooks/Data\n"
     ]
    }
   ],
   "source": [
    "#compute the linear fit of bootstrapped msd\n",
    "df=df_emsd\n",
    "xmin=0. #ms\n",
    "xmax=500 #ms\n",
    "\n",
    "x_values=df['lagt'].values\n",
    "y_values=df['msd'].values\n",
    "x_err_values=df['Delta_lagt'].values\n",
    "y_err_values=df['Delta_msd'].values\n",
    "counts=df['counts'].values\n",
    "\n",
    "#fit drdt_values to F0+F1/r with OLS fit for LR model where 1/r is greater than some 1/cm\n",
    "boo=(x_values>xmin)&(x_values<xmax)\n",
    "x=x_values[boo]\n",
    "y=y_values[boo]\n",
    "dict_force_fit=compute_95CI_ols(x,y)\n",
    "y_hat_values=dict_force_fit['b']+dict_force_fit['m']*x_values\n",
    "\n",
    "#(optional) rename specific values\n",
    "dict_force_fit=dict_force_fit\n",
    "y_hat_values=y_hat_values\n",
    "\n",
    "#bluf\n",
    "print(f\"the ols fit for particle model:\")\n",
    "print_dict(dict_force_fit)\n",
    "print(f\"Nobs= {np.mean(counts):.0f} +- {np.std(counts):.0f}\")\n",
    "print(f\"trial_folder_name: {trial_folder_name}\")"
   ]
  },
  {
   "cell_type": "code",
   "execution_count": 21,
   "metadata": {
    "ExecuteTime": {
     "end_time": "2021-07-21T02:02:50.501082Z",
     "start_time": "2021-07-21T02:02:50.297818Z"
    },
    "hidden": true
   },
   "outputs": [],
   "source": [
    "from lib import *\n",
    "from lib.viewer.PlotMeanSquaredDisplacements import PlotMeanSquaredDisplacements\n",
    "\n",
    "df=pd.read_csv(input_fn)\n",
    "#compute t0 and tf for each particle\n",
    "dft=df.groupby(pid_col)[t_col].describe()\n",
    "dft0=dft['min']\n",
    "dftf=dft['max']\n",
    "\n",
    "#compute t1 and t2 for each particle\n",
    "dft1=dft0+crop_start_by\n",
    "dft2=dftf-crop_end_by\n",
    "\n",
    "#get the list of particles dft2-dft1 \\ge minimum_lifetime\n",
    "dflifetime_considered=dft2-dft1\n",
    "pid_values_to_consider=dflifetime_considered[dflifetime_considered>=minimum_lifetime].index.values"
   ]
  },
  {
   "cell_type": "code",
   "execution_count": 26,
   "metadata": {
    "ExecuteTime": {
     "end_time": "2021-07-21T02:04:21.483068Z",
     "start_time": "2021-07-21T02:04:21.430031Z"
    },
    "hidden": true
   },
   "outputs": [
    {
     "data": {
      "text/plain": [
       "array([  26.   ,   77.75 ,  129.5  ,  181.25 ,  233.   ,  284.75 ,\n",
       "        336.5  ,  388.25 ,  439.875,  491.5  ,  543.25 ,  595.   ,\n",
       "        646.75 ,  698.5  ,  750.25 ,  802.   ,  853.625,  905.25 ,\n",
       "        957.   , 1008.75 , 1060.5  , 1112.25 , 1164.   , 1215.75 ,\n",
       "       1267.375, 1319.   , 1370.75 , 1422.5  , 1474.25 , 1526.   ,\n",
       "       1577.75 , 1629.5  , 1681.25 , 1732.875, 1784.5  , 1836.25 ,\n",
       "       1888.   , 1939.75 , 1991.5  , 2043.25 , 2095.   , 2146.625,\n",
       "       2198.25 , 2250.   , 2301.75 , 2353.5  , 2405.25 , 2457.   ,\n",
       "       2508.75 , 2560.375, 2612.   , 2663.75 , 2715.5  , 2767.25 ,\n",
       "       2819.   , 2870.75 , 2922.5  , 2974.125])"
      ]
     },
     "execution_count": 26,
     "metadata": {},
     "output_type": "execute_result"
    }
   ],
   "source": []
  },
  {
   "cell_type": "code",
   "execution_count": 33,
   "metadata": {
    "ExecuteTime": {
     "end_time": "2021-07-21T02:06:00.417076Z",
     "start_time": "2021-07-21T02:05:59.889914Z"
    },
    "hidden": true
   },
   "outputs": [
    {
     "data": {
      "image/png": "[encoded data removed]",
      "text/plain": [
       "<Figure size 432x288 with 1 Axes>"
      ]
     },
     "metadata": {
      "needs_background": "light"
     },
     "output_type": "display_data"
    }
   ],
   "source": [
    "ylim=15\n",
    "#plot mean radial velocities\n",
    "fig, ax = plt.subplots(ncols=1, figsize=(6, 4))\n",
    "for pid in pid_values_to_consider[:]:\n",
    "    lagt_values,msd_values=compute_individual_mean_squared_displacement(df,dft1,dft2,DT,pid,pid_col=pid_col)\n",
    "    ax.plot(lagt_values,msd_values*DS**2,alpha=0.4,color='gray')\n",
    "    \n",
    "#PlotMeanSquaredDisplacements     \n",
    "PlotMeanSquaredDisplacements(ax, x_values, y_values, y_err_values, y_hat_values,c='C3')\n",
    "# PlotMeanSquaredDisplacements(ax, x_values2, y_values2, y_err_values2, y_hat_values2,c='C4')\n",
    "ax.set_ylim([0,ylim])\n",
    "# plt.tight_layout()\n",
    "# plt.show()\n",
    "plt.xlim([0,3000])\n",
    "plt.ylim([0,ylim])\n",
    "plt.show()"
   ]
  },
  {
   "cell_type": "code",
   "execution_count": 255,
   "metadata": {
    "ExecuteTime": {
     "end_time": "2021-07-21T01:57:53.537554Z",
     "start_time": "2021-07-21T01:57:53.494837Z"
    },
    "hidden": true
   },
   "outputs": [],
   "source": [
    "# def compute_individual_mean_squared_displacement(df,dft1,dft2,DT,pid,pid_col='particle',max_lagtime=None,**kwargs):\n",
    "#     '''\n",
    "#     Example Usage:\n",
    "#     lagt_values,msd_values=compute_individual_mean_squared_displacement(df,dft1,dft2,DT,pid,pid_col='pid_explicit')\n",
    "#     '''\n",
    "#     fps = 1./DT #output time units is in same time units as inputs\n",
    "\n",
    "#     #extract the trajectory as a DataFrame instance\n",
    "#     t1=dft1[dft1.index==pid].values[0]\n",
    "#     t2=dft2[dft2.index==pid].values[0]\n",
    "#     # print(f\"computing msd for particle {pid} from times {t1} to {t2} ms...\")\n",
    "\n",
    "#     #extract the trajectory as a DataFrame instance\n",
    "#     boo = df[pid_col]==pid\n",
    "#     boo&= df[t_col]>=t1\n",
    "#     boo&= df[t_col]<=t2\n",
    "#     dff=df[boo]\n",
    "\n",
    "#     if max_lagtime is None:\n",
    "#         max_lagtime=dff.index.values.shape[0]\n",
    "\n",
    "#     # Input units are pixels and frames. Output units are microns and seconds.\n",
    "#     df_out=trackpy.motion.msd(\n",
    "#         traj=dff,\n",
    "#         mpp=1.,#does nothing\n",
    "#         fps=fps,\n",
    "#         max_lagtime=max_lagtime,\n",
    "#         detail=False\n",
    "#     )\n",
    "#     lagt_values,msd_values=df_out[['lagt','msd']].values.T\n",
    "#     return lagt_values,msd_values"
   ]
  },
  {
   "cell_type": "code",
   "execution_count": 168,
   "metadata": {
    "ExecuteTime": {
     "end_time": "2021-07-21T01:19:54.462825Z",
     "start_time": "2021-07-21T01:19:54.410096Z"
    },
    "hidden": true
   },
   "outputs": [],
   "source": [
    "# def compute_each_mean_squared_displacement(input_fn,DT,ds,width,\n",
    "#                          minimum_lifetime,crop_start_by,crop_end_by,\n",
    "#                          pid_col,t_col,max_lagtime=None,\n",
    "#                          **kwargs):\n",
    "#     '''\n",
    "#     computes the mean squared displacements for each trajectory listed in input_fn\n",
    "#     input_fn gives the location of a trajectory file with columns x,y,frames, and some pid_col.\n",
    "#     trajectory that may have periodic periodic boundary conditions on a square domain.\n",
    "#     '''\n",
    "#     df=pd.read_csv(input_fn)\n",
    "#     height=width\n",
    "#     DS=ds/width\n",
    "\n",
    "#     #unwrap trajectories\n",
    "#     pid_lst = sorted(set(df[pid_col].values))\n",
    "#     #(duplicates filtered earlier in full model pipeline.  Unnecessary in particle model with explicit tracking... filter_duplicate_trajectory_indices is slow (and can probably be accelerated with a sexy pandas one liner)\n",
    "#     # pid_lst = filter_duplicate_trajectory_indices(pid_lst,df)\n",
    "#     df = pd.concat([unwrap_traj_and_center(df[df[pid_col]==pid], width, height, DS, **kwargs) for pid in pid_lst_filtered])\n",
    "\n",
    "#     #compute t0 and tf for each particle\n",
    "#     dft=df.groupby(pid_col)[t_col].describe()\n",
    "#     dft0=dft['min']\n",
    "#     dftf=dft['max']\n",
    "\n",
    "#     #compute t1 and t2 for each particle\n",
    "#     dft1=dft0+crop_start_by\n",
    "#     dft2=dftf-crop_end_by\n",
    "\n",
    "#     #get the list of particles dft2-dft1 \\ge minimum_lifetime\n",
    "#     dflifetime_considered=dft2-dft1\n",
    "#     pid_values_to_consider=dflifetime_considered[dflifetime_considered>=minimum_lifetime].index.values\n",
    "\n",
    "#     #compute number of num_individuals\n",
    "#     pid_lst=sorted(set(df[pid_col].values))\n",
    "#     num_individuals=len(pid_lst)\n",
    "#     # print(f'Computing msd values for {num_individuals} particles...')\n",
    "\n",
    "#     #how long does it take 1 core to compute the msd's for every particle in this trial?\n",
    "#     lagt_out_lst=[];msd_out_lst=[];pid_out_lst=[]\n",
    "#     for pid in pid_lst:\n",
    "#         #compute output\n",
    "#         lagt_values,msd_values=compute_individual_mean_squared_displacement(df,dft1,dft2,DT,pid,pid_col='pid_explicit')    \n",
    "#         pid_values=np.zeros_like(msd_values,dtype='int')\n",
    "#         #record output\n",
    "#         pid_out_lst.extend(pid_values)       #indices that identify the particles\n",
    "#         lagt_out_lst.extend(lagt_values)     #ms\n",
    "#         msd_out_lst.extend(DS**2*msd_values) #units of ds\n",
    "\n",
    "#     df_out=pd.DataFrame({'pid':pid_out_lst,'lagt':lagt_out_lst,'msd':msd_out_lst})\n",
    "#     return df_out\n",
    "\n",
    "# def routine_compute_imsd(input_fn,save_folder=None,**kwargs):\n",
    "#     #compute results\n",
    "#     df_msd=compute_each_mean_squared_displacement(input_fn,**kwargs)\n",
    "#     #save results\n",
    "#     dirname = os.path.dirname(input_fn).split('/')[-1]\n",
    "#     folder_name=os.path.dirname(input_fn)\n",
    "#     if save_folder is None:\n",
    "#         save_folder = folder_name.replace(dirname,'msd')\n",
    "#     if not os.path.exists(save_folder):\n",
    "#         os.mkdir(save_folder)\n",
    "#     os.chdir(save_folder)\n",
    "#     output_fn=input_fn.replace('.csv','_emsd.csv')\n",
    "#     df_msd.to_csv(output_fn, index=False)\n",
    "#     return os.path.abspath(output_fn)"
   ]
  },
  {
   "cell_type": "code",
   "execution_count": 144,
   "metadata": {
    "ExecuteTime": {
     "end_time": "2021-07-21T00:49:22.165969Z",
     "start_time": "2021-07-21T00:49:22.111523Z"
    },
    "hidden": true
   },
   "outputs": [],
   "source": [
    "# def PlotMeanSquaredDisplacements(ax,\n",
    "#                              x_values,\n",
    "#                              y_values,\n",
    "#                              y_err_values,\n",
    "#                              y_hat_values,\n",
    "#                              alpha=0.5,\n",
    "#                              c='C3',\n",
    "#                              fontsize=18,\n",
    "#                              elinewidth=3,\n",
    "#                              markersize=4,\n",
    "#                              capsize=3,\n",
    "#                              xlim=[0, 0.5],\n",
    "#                              ylim=[0, 500],\n",
    "#                              **kwargs):\n",
    "\n",
    "#     x_label=r'lag (ms)'\n",
    "#     y_label=r'MSD (cm$^{2}$)'\n",
    "\n",
    "#     # ax.scatter(x_values,y_values,c=c,s=20,alpha=alpha)\n",
    "#     #plot error bars\n",
    "#     ax.errorbar(x=x_values,\n",
    "#                 y=y_values,\n",
    "#                 yerr=y_err_values,\n",
    "#                 c=c,\n",
    "#                 alpha=alpha,\n",
    "#                 fmt='o',\n",
    "#                 markersize=markersize,\n",
    "#                 ecolor=c,\n",
    "#                 elinewidth=elinewidth,\n",
    "#                 errorevery=1,\n",
    "#                 capsize=capsize)\n",
    "#     #plot fits\n",
    "#     ax.plot(x_values, y_hat_values, c=c, lw=2, alpha=1, linestyle='solid')\n",
    "\n",
    "#     #format plot\n",
    "#     ax.set_xlim(xlim)\n",
    "#     ax.set_ylim(ylim)\n",
    "#     ax.set_xlabel(x1_label, fontsize=fontsize)\n",
    "#     ax.set_ylabel(y_label, fontsize=fontsize)\n",
    "#     ax.tick_params(axis='both', which='major', labelsize=fontsize)\n",
    "#     ax.tick_params(axis='both', which='minor', labelsize=1)\n",
    "#     return True"
   ]
  },
  {
   "cell_type": "markdown",
   "metadata": {
    "hidden": true
   },
   "source": [
    "## dev bootstrap parallelization"
   ]
  },
  {
   "cell_type": "code",
   "execution_count": null,
   "metadata": {
    "hidden": true
   },
   "outputs": [],
   "source": [
    "#     R_values=x\n",
    "#     dRdt_values=y\n",
    "#     num_samples=num_bootstrap_samples\n",
    "#     #implement measure of dRdt that explicitely bins by radius\n",
    "#     counts,r_edges=np.histogram(R_values,bins=bins)\n",
    "#     range_values=r_edges\n",
    "#     if min_numobs is None:\n",
    "#         min_numobs=np.mean(counts)/8\n",
    "\n",
    "#     r_lst=[];drdt_lst=[];Delta_r_lst=[];Delta_drdt_lst=[];\n",
    "#     count_lst=[];p_r_lst=[];p_drdt_lst=[]\n",
    "#     if npartitions==1:\n",
    "#         for j in range(r_edges.shape[0]-1):\n",
    "#             numobs=counts[j]\n",
    "#             if numobs>min_numobs:\n",
    "#                 boo=(R_values>=r_edges[j])&(R_values<r_edges[j+1])\n",
    "#                 r_values=R_values[boo]\n",
    "#                 drdt_values=dRdt_values[boo]\n",
    "#                 #compute mean values in bin\n",
    "#                 r=np.mean(r_values)\n",
    "#                 drdt=np.mean(drdt_values)\n",
    "#                 # compute 95% CI for mean\n",
    "#                 Delta_r,p_r=bootstrap_95CI_Delta_mean(r_values,\n",
    "#                                                      num_samples=num_samples)\n",
    "#                 Delta_drdt,p_drdt=bootstrap_95CI_Delta_mean(drdt_values,\n",
    "#                                                      num_samples=num_samples)\n",
    "#                 #append results to list\n",
    "#                 r_lst.append(r)\n",
    "#                 drdt_lst.append(drdt)\n",
    "#                 Delta_r_lst.append(Delta_r)\n",
    "#                 Delta_drdt_lst.append(Delta_drdt)\n",
    "#                 p_r_lst.append(p_r)\n",
    "#                 p_drdt_lst.append(p_drdt)\n",
    "#                 count_lst.append(numobs)\n",
    "#     else:\n",
    "#         raise \"Warning: npartitions>1 not yet implemented!\""
   ]
  },
  {
   "cell_type": "code",
   "execution_count": 73,
   "metadata": {
    "ExecuteTime": {
     "end_time": "2021-07-21T22:29:59.285439Z",
     "start_time": "2021-07-21T22:29:59.258338Z"
    },
    "hidden": true
   },
   "outputs": [],
   "source": [
    "#baked input: x=R_values, x_edges=r_edges, y=dRdt_values\n",
    "#input: bin_id\n",
    "#output: np.array of values for 1 bootstrapped output\n",
    "\n",
    "# def get_routine_bootstrap_bin(x_values,y_values,x_bin_edges,num_samples=100,min_numobs=100,**kwargs):\n",
    "#     '''x_values,y_values,x_bin_edges are 1 dimensional numpy arrays.\n",
    "#     returns the function, routine_bootstrap_bin.'''\n",
    "#     R_values=x_values\n",
    "#     dRdt_values=y_values\n",
    "#     r_edges=x_bin_edges\n",
    "#     def routine_bootstrap_bin(bin_id):\n",
    "#         j=bin_id\n",
    "#         numobs=counts[j]\n",
    "#         if numobs>min_numobs:\n",
    "#             boo=(R_values>=r_edges[j])&(R_values<r_edges[j+1])\n",
    "#             r_values=R_values[boo]\n",
    "#             drdt_values=dRdt_values[boo]\n",
    "#             #compute mean values in bin\n",
    "#             r=np.mean(r_values)\n",
    "#             drdt=np.mean(drdt_values)\n",
    "#             # compute 95% CI for mean\n",
    "#             Delta_r,p_r=bootstrap_95CI_Delta_mean(r_values,\n",
    "#                                                  num_samples=num_samples)\n",
    "#             Delta_drdt,p_drdt=bootstrap_95CI_Delta_mean(drdt_values,\n",
    "#                                                  num_samples=num_samples)\n",
    "#             return np.array((r,drdt,Delta_r,Delta_drdt,p_r,p_drdt,numobs))\n",
    "#     return routine_bootstrap_bin\n"
   ]
  },
  {
   "cell_type": "code",
   "execution_count": 70,
   "metadata": {
    "ExecuteTime": {
     "end_time": "2021-07-21T22:28:53.216267Z",
     "start_time": "2021-07-21T22:28:53.184235Z"
    },
    "hidden": true
   },
   "outputs": [],
   "source": [
    "from lib.measure.bootstrap import bin_and_bootstrap_xy_values\n",
    "import dask.bag as db\n",
    "num_bootstrap_samples=100\n",
    "bins='auto'\n",
    "min_numobs=None\n",
    "file_in='/home/timothytyree/Documents/GitHub/bgmc/python/data/local_results/euic_False_fc_2_r_0.1_D_2_L_10_kappa_1500_varkappa_0/drdt.csv'\n",
    "npartitions=os.cpu_count()\n",
    "#load an enormous number of samples into a pandas.DataFrame\n",
    "df_in=pd.read_csv(file_in)\n",
    "#extract values\n",
    "xlabel='r'\n",
    "ylabel='drdt'\n",
    "x_values=df_in[xlabel].values\n",
    "y_values=df_in[ylabel].values\n",
    "\n",
    "\n",
    "# def bin_and_bootstrap_xy_values_parallel(x,\n",
    "#                                y,\n",
    "#                                xlabel,\n",
    "#                                ylabel,\n",
    "#                                bins=bins,\n",
    "#                                min_numobs=None,\n",
    "#                                num_bootstrap_samples=1000,\n",
    "#                                npartitions=1,\n",
    "#                                use_test=True,\n",
    "#                                 test_val=0,printing=True):\n",
    "#     num_samples=num_bootstrap_samples\n",
    "#     counts,x_bin_edges=np.histogram(x_values,bins=bins)\n",
    "#     bin_id_lst=list(range(x_bin_edges.shape[0]-1))\n",
    "#     if min_numobs is None:\n",
    "#         min_numobs=np.mean(counts)/8\n",
    "\n",
    "#     #bake method to bootstrap 95%CI of mean of y conditioned on x being within a given bin\n",
    "#     routine_bootstrap_bin=get_routine_bootstrap_bin(x_values,y_values,x_bin_edges,num_samples=num_samples,min_numobs=min_numobs)\n",
    "#     def routine(input_val):\n",
    "#         try:\n",
    "#             return routine_bootstrap_bin(input_val)\n",
    "#         except Exception as e:\n",
    "#             return f\"Warning: something went wrong, {e}\"\n",
    "\n",
    "#     #optionally test the routine\n",
    "#     if use_test:\n",
    "#         retval=routine(test_val)\n",
    "\n",
    "#     #all CPU version\n",
    "#     b = db.from_sequence(bin_id_lst, npartitions=npartitions).map(routine)\n",
    "#     start = time.time()\n",
    "#     retval = list(b)\n",
    "#     if printing:\n",
    "#         print(f\"run time for bootstrapping was {time.time()-start:.2f} seconds.\")\n",
    "    \n",
    "#     array_out=np.stack([x for x in retval if x is not None])\n",
    "#     columns=['r','drdt','Delta_r','Delta_drdt','p_r','p_drdt','count']\n",
    "#     df=pd.DataFrame(data=array_out,columns=columns)\n",
    "#     df=df.astype({'count': 'int32'})\n",
    "#     return df"
   ]
  },
  {
   "cell_type": "code",
   "execution_count": 71,
   "metadata": {
    "ExecuteTime": {
     "end_time": "2021-07-21T22:28:55.918374Z",
     "start_time": "2021-07-21T22:28:53.579498Z"
    },
    "hidden": true
   },
   "outputs": [
    {
     "name": "stdout",
     "output_type": "stream",
     "text": [
      "run time for bootstrapping was 2.31 seconds.\n"
     ]
    }
   ],
   "source": [
    "df_boot=bin_and_bootstrap_xy_values(x=x_values,\n",
    "                               y=y_values,\n",
    "                               xlabel='r',\n",
    "                               ylabel='drdt',\n",
    "                               bins=bins,\n",
    "                               min_numobs=None,\n",
    "                               num_bootstrap_samples=1000,\n",
    "                               npartitions=1,\n",
    "                               use_test=True,\n",
    "                                test_val=0)"
   ]
  },
  {
   "cell_type": "code",
   "execution_count": 75,
   "metadata": {
    "ExecuteTime": {
     "end_time": "2021-07-21T22:30:33.764760Z",
     "start_time": "2021-07-21T22:30:33.649629Z"
    },
    "hidden": true
   },
   "outputs": [
    {
     "data": {
      "image/png": "[encoded data removed]",
      "text/plain": [
       "<Figure size 432x288 with 1 Axes>"
      ]
     },
     "metadata": {
      "needs_background": "light"
     },
     "output_type": "display_data"
    }
   ],
   "source": [
    "df_boot.plot(x='r',y='drdt')\n",
    "plt.show()"
   ]
  },
  {
   "cell_type": "markdown",
   "metadata": {
    "heading_collapsed": true
   },
   "source": [
    "# DONE: verify numerical inequivalence of trackpy's MSD to simple MSD in numpy. \n",
    "DONE: moved everything except the plots to lib.measure.compute_msd_simple.py"
   ]
  },
  {
   "cell_type": "code",
   "execution_count": 73,
   "metadata": {
    "ExecuteTime": {
     "end_time": "2021-07-22T01:22:32.693347Z",
     "start_time": "2021-07-22T01:22:32.571041Z"
    },
    "hidden": true
   },
   "outputs": [
    {
     "name": "stdout",
     "output_type": "stream",
     "text": [
      "the numerical aggrement between slower and faster methods was numerical_tolerance = -1.4024603700590887e-13.\n"
     ]
    }
   ],
   "source": [
    "def autocorrFFT(x):\n",
    "    N=len(x)\n",
    "    F = np.fft.fft(x, n=2*N)  #2*N because of zero-padding\n",
    "    PSD = F * F.conjugate()\n",
    "    res = np.fft.ifft(PSD)\n",
    "    res= (res[:N]).real   #now we have the autocorrelation in convention B\n",
    "    n=N*np.ones(N)-np.arange(0,N) #divide res(m) by (N-m)\n",
    "    return res/n #this is the autocorrelation in convention A\n",
    "\n",
    "def msd_fft(r):\n",
    "    N=len(r)\n",
    "    D=np.square(r).sum(axis=1) \n",
    "    D=np.append(D,0) \n",
    "    S2=sum([autocorrFFT(r[:, i]) for i in range(r.shape[1])])\n",
    "    Q=2*D.sum()\n",
    "    S1=np.zeros(N)\n",
    "    for m in range(N):\n",
    "        Q=Q-D[m-1]-D[N-m]\n",
    "        S1[m]=Q/(N-m)\n",
    "    return S1-2*S2\n",
    "\n",
    "def msd_straight_forward(r):\n",
    "    shifts = np.arange(len(r))\n",
    "    msds = np.zeros(shifts.size)    \n",
    "\n",
    "    for i, shift in enumerate(shifts):\n",
    "        diffs = r[:-shift if shift else None] - r[shift:]\n",
    "        sqdist = np.square(diffs).sum(axis=1)\n",
    "        msds[i] = sqdist.mean()\n",
    "\n",
    "    return msds\n",
    "\n",
    "#test that msd_fft results in msd_straight_forward to machine precision for an unseeded random walk\n",
    "N=1000\n",
    "r = np.cumsum(np.random.choice([-1., 0., 1.], size=(N, 11)), axis=0)\n",
    "assert ( np.isclose(msd_fft(r)-msd_straight_forward(r),0.).all() )\n",
    "numerical_tolerance=np.mean(msd_fft(r)-msd_straight_forward(r))\n",
    "print(f\"the numerical aggrement between slower and faster methods was numerical_tolerance = {numerical_tolerance}.\")\n"
   ]
  },
  {
   "cell_type": "code",
   "execution_count": 93,
   "metadata": {
    "ExecuteTime": {
     "end_time": "2021-07-22T01:40:40.678490Z",
     "start_time": "2021-07-22T01:40:40.626529Z"
    },
    "hidden": true
   },
   "outputs": [],
   "source": [
    "#TODO(later): use msd_fft on a 2D array where rows:observations::columns:xycoordinate_of_particle\n",
    "numobs=msd_fft(r).shape[0]\n",
    "\n"
   ]
  },
  {
   "cell_type": "code",
   "execution_count": 85,
   "metadata": {
    "ExecuteTime": {
     "end_time": "2021-07-22T01:35:46.928041Z",
     "start_time": "2021-07-22T01:35:46.876494Z"
    },
    "hidden": true
   },
   "outputs": [],
   "source": [
    "#GOAL:establish numerical equivalency between msd_fft and what I'm currently using\n",
    "save_folder=nb_dir+f\"Data/test_data\"\n",
    "save_fn=save_folder+'/test_msd.csv'"
   ]
  },
  {
   "cell_type": "code",
   "execution_count": 86,
   "metadata": {
    "ExecuteTime": {
     "end_time": "2021-07-22T01:35:47.436640Z",
     "start_time": "2021-07-22T01:35:47.387585Z"
    },
    "hidden": true
   },
   "outputs": [],
   "source": [
    "##TODO: generate MSD by saving to some file directory in Data/test_data\n",
    "input_fn='';kwargs={}\n",
    "df_msd=comp_each_mean_squared_displacement(df,input_fn,DT,ds,width,\n",
    "                         minimum_lifetime=0,crop_start_by=0,crop_end_by=0,\n",
    "                         pid_col='pid',t_col='t',max_lagtime=None,\n",
    "                         **kwargs)"
   ]
  },
  {
   "cell_type": "code",
   "execution_count": 88,
   "metadata": {
    "ExecuteTime": {
     "end_time": "2021-07-22T01:39:06.918193Z",
     "start_time": "2021-07-22T01:39:06.818522Z"
    },
    "hidden": true
   },
   "outputs": [],
   "source": []
  },
  {
   "cell_type": "code",
   "execution_count": 90,
   "metadata": {
    "ExecuteTime": {
     "end_time": "2021-07-22T01:39:42.403007Z",
     "start_time": "2021-07-22T01:39:42.357525Z"
    },
    "hidden": true
   },
   "outputs": [
    {
     "data": {
      "text/plain": [
       "(12000,)"
      ]
     },
     "execution_count": 90,
     "metadata": {},
     "output_type": "execute_result"
    }
   ],
   "source": [
    "msd_values.shape"
   ]
  },
  {
   "cell_type": "code",
   "execution_count": 91,
   "metadata": {
    "ExecuteTime": {
     "end_time": "2021-07-22T01:39:49.173808Z",
     "start_time": "2021-07-22T01:39:49.116486Z"
    },
    "hidden": true
   },
   "outputs": [
    {
     "data": {
      "text/html": [
       "<div>\n",
       "<style scoped>\n",
       "    .dataframe tbody tr th:only-of-type {\n",
       "        vertical-align: middle;\n",
       "    }\n",
       "\n",
       "    .dataframe tbody tr th {\n",
       "        vertical-align: top;\n",
       "    }\n",
       "\n",
       "    .dataframe thead th {\n",
       "        text-align: right;\n",
       "    }\n",
       "</style>\n",
       "<table border=\"1\" class=\"dataframe\">\n",
       "  <thead>\n",
       "    <tr style=\"text-align: right;\">\n",
       "      <th></th>\n",
       "      <th>frame</th>\n",
       "      <th>t</th>\n",
       "      <th>n</th>\n",
       "      <th>x</th>\n",
       "      <th>y</th>\n",
       "      <th>pid_explicit</th>\n",
       "    </tr>\n",
       "  </thead>\n",
       "  <tbody>\n",
       "    <tr>\n",
       "      <th>0</th>\n",
       "      <td>1</td>\n",
       "      <td>0.0</td>\n",
       "      <td>16</td>\n",
       "      <td>1.677559</td>\n",
       "      <td>1.411504</td>\n",
       "      <td>0</td>\n",
       "    </tr>\n",
       "    <tr>\n",
       "      <th>1</th>\n",
       "      <td>1</td>\n",
       "      <td>0.0</td>\n",
       "      <td>16</td>\n",
       "      <td>0.099638</td>\n",
       "      <td>5.827791</td>\n",
       "      <td>1</td>\n",
       "    </tr>\n",
       "    <tr>\n",
       "      <th>2</th>\n",
       "      <td>1</td>\n",
       "      <td>0.0</td>\n",
       "      <td>16</td>\n",
       "      <td>2.570397</td>\n",
       "      <td>4.199396</td>\n",
       "      <td>2</td>\n",
       "    </tr>\n",
       "    <tr>\n",
       "      <th>3</th>\n",
       "      <td>1</td>\n",
       "      <td>0.0</td>\n",
       "      <td>16</td>\n",
       "      <td>3.863512</td>\n",
       "      <td>0.903274</td>\n",
       "      <td>3</td>\n",
       "    </tr>\n",
       "    <tr>\n",
       "      <th>4</th>\n",
       "      <td>1</td>\n",
       "      <td>0.0</td>\n",
       "      <td>16</td>\n",
       "      <td>7.783294</td>\n",
       "      <td>7.151639</td>\n",
       "      <td>4</td>\n",
       "    </tr>\n",
       "  </tbody>\n",
       "</table>\n",
       "</div>"
      ],
      "text/plain": [
       "   frame    t   n         x         y  pid_explicit\n",
       "0      1  0.0  16  1.677559  1.411504             0\n",
       "1      1  0.0  16  0.099638  5.827791             1\n",
       "2      1  0.0  16  2.570397  4.199396             2\n",
       "3      1  0.0  16  3.863512  0.903274             3\n",
       "4      1  0.0  16  7.783294  7.151639             4"
      ]
     },
     "execution_count": 91,
     "metadata": {},
     "output_type": "execute_result"
    }
   ],
   "source": [
    "df.head()"
   ]
  },
  {
   "cell_type": "code",
   "execution_count": 99,
   "metadata": {
    "ExecuteTime": {
     "end_time": "2021-07-22T01:44:25.329694Z",
     "start_time": "2021-07-22T01:44:25.263708Z"
    },
    "hidden": true
   },
   "outputs": [
    {
     "data": {
      "text/html": [
       "<div>\n",
       "<style scoped>\n",
       "    .dataframe tbody tr th:only-of-type {\n",
       "        vertical-align: middle;\n",
       "    }\n",
       "\n",
       "    .dataframe tbody tr th {\n",
       "        vertical-align: top;\n",
       "    }\n",
       "\n",
       "    .dataframe thead th {\n",
       "        text-align: right;\n",
       "    }\n",
       "</style>\n",
       "<table border=\"1\" class=\"dataframe\">\n",
       "  <thead>\n",
       "    <tr style=\"text-align: right;\">\n",
       "      <th></th>\n",
       "      <th>frame</th>\n",
       "      <th>t</th>\n",
       "      <th>n</th>\n",
       "      <th>x</th>\n",
       "      <th>y</th>\n",
       "      <th>pid_explicit</th>\n",
       "    </tr>\n",
       "  </thead>\n",
       "  <tbody>\n",
       "    <tr>\n",
       "      <th>0</th>\n",
       "      <td>0</td>\n",
       "      <td>0.0</td>\n",
       "      <td>1</td>\n",
       "      <td>-1.0</td>\n",
       "      <td>-1.0</td>\n",
       "      <td>0.0</td>\n",
       "    </tr>\n",
       "    <tr>\n",
       "      <th>1</th>\n",
       "      <td>1</td>\n",
       "      <td>1.0</td>\n",
       "      <td>1</td>\n",
       "      <td>-1.0</td>\n",
       "      <td>-1.0</td>\n",
       "      <td>0.0</td>\n",
       "    </tr>\n",
       "    <tr>\n",
       "      <th>2</th>\n",
       "      <td>2</td>\n",
       "      <td>2.0</td>\n",
       "      <td>1</td>\n",
       "      <td>0.0</td>\n",
       "      <td>0.0</td>\n",
       "      <td>0.0</td>\n",
       "    </tr>\n",
       "    <tr>\n",
       "      <th>3</th>\n",
       "      <td>3</td>\n",
       "      <td>3.0</td>\n",
       "      <td>1</td>\n",
       "      <td>1.0</td>\n",
       "      <td>1.0</td>\n",
       "      <td>0.0</td>\n",
       "    </tr>\n",
       "    <tr>\n",
       "      <th>4</th>\n",
       "      <td>4</td>\n",
       "      <td>4.0</td>\n",
       "      <td>1</td>\n",
       "      <td>2.0</td>\n",
       "      <td>2.0</td>\n",
       "      <td>0.0</td>\n",
       "    </tr>\n",
       "  </tbody>\n",
       "</table>\n",
       "</div>"
      ],
      "text/plain": [
       "   frame    t  n    x    y  pid_explicit\n",
       "0      0  0.0  1 -1.0 -1.0           0.0\n",
       "1      1  1.0  1 -1.0 -1.0           0.0\n",
       "2      2  2.0  1  0.0  0.0           0.0\n",
       "3      3  3.0  1  1.0  1.0           0.0\n",
       "4      4  4.0  1  2.0  2.0           0.0"
      ]
     },
     "execution_count": 99,
     "metadata": {},
     "output_type": "execute_result"
    }
   ],
   "source": [
    "DT=1.\n",
    "dff=pd.DataFrame()\n",
    "#TODO: give dff a reasonable array of values for each \n",
    "dff['frame']=np.arange(numobs)\n",
    "dff['t']=DT*np.arange(numobs)\n",
    "dff['n']=1\n",
    "dff['x']=r[:,2]\n",
    "dff['y']=r[:,2]\n",
    "dff['pid_explicit']=np.zeros(numobs)\n",
    "dff.head()"
   ]
  },
  {
   "cell_type": "code",
   "execution_count": 105,
   "metadata": {
    "ExecuteTime": {
     "end_time": "2021-07-22T01:46:48.410551Z",
     "start_time": "2021-07-22T01:46:48.347904Z"
    },
    "hidden": true
   },
   "outputs": [
    {
     "data": {
      "text/html": [
       "<div>\n",
       "<style scoped>\n",
       "    .dataframe tbody tr th:only-of-type {\n",
       "        vertical-align: middle;\n",
       "    }\n",
       "\n",
       "    .dataframe tbody tr th {\n",
       "        vertical-align: top;\n",
       "    }\n",
       "\n",
       "    .dataframe thead th {\n",
       "        text-align: right;\n",
       "    }\n",
       "</style>\n",
       "<table border=\"1\" class=\"dataframe\">\n",
       "  <thead>\n",
       "    <tr style=\"text-align: right;\">\n",
       "      <th></th>\n",
       "      <th>frame</th>\n",
       "      <th>t</th>\n",
       "      <th>n</th>\n",
       "      <th>x</th>\n",
       "      <th>y</th>\n",
       "      <th>pid_explicit</th>\n",
       "    </tr>\n",
       "  </thead>\n",
       "  <tbody>\n",
       "    <tr>\n",
       "      <th>0</th>\n",
       "      <td>0</td>\n",
       "      <td>0.0</td>\n",
       "      <td>1</td>\n",
       "      <td>-1.0</td>\n",
       "      <td>-1.0</td>\n",
       "      <td>0.0</td>\n",
       "    </tr>\n",
       "    <tr>\n",
       "      <th>1</th>\n",
       "      <td>1</td>\n",
       "      <td>1.0</td>\n",
       "      <td>1</td>\n",
       "      <td>-1.0</td>\n",
       "      <td>-1.0</td>\n",
       "      <td>0.0</td>\n",
       "    </tr>\n",
       "    <tr>\n",
       "      <th>2</th>\n",
       "      <td>2</td>\n",
       "      <td>2.0</td>\n",
       "      <td>1</td>\n",
       "      <td>0.0</td>\n",
       "      <td>0.0</td>\n",
       "      <td>0.0</td>\n",
       "    </tr>\n",
       "    <tr>\n",
       "      <th>3</th>\n",
       "      <td>3</td>\n",
       "      <td>3.0</td>\n",
       "      <td>1</td>\n",
       "      <td>1.0</td>\n",
       "      <td>1.0</td>\n",
       "      <td>0.0</td>\n",
       "    </tr>\n",
       "    <tr>\n",
       "      <th>4</th>\n",
       "      <td>4</td>\n",
       "      <td>4.0</td>\n",
       "      <td>1</td>\n",
       "      <td>2.0</td>\n",
       "      <td>2.0</td>\n",
       "      <td>0.0</td>\n",
       "    </tr>\n",
       "    <tr>\n",
       "      <th>...</th>\n",
       "      <td>...</td>\n",
       "      <td>...</td>\n",
       "      <td>...</td>\n",
       "      <td>...</td>\n",
       "      <td>...</td>\n",
       "      <td>...</td>\n",
       "    </tr>\n",
       "    <tr>\n",
       "      <th>995</th>\n",
       "      <td>995</td>\n",
       "      <td>995.0</td>\n",
       "      <td>1</td>\n",
       "      <td>-3.0</td>\n",
       "      <td>-3.0</td>\n",
       "      <td>0.0</td>\n",
       "    </tr>\n",
       "    <tr>\n",
       "      <th>996</th>\n",
       "      <td>996</td>\n",
       "      <td>996.0</td>\n",
       "      <td>1</td>\n",
       "      <td>-2.0</td>\n",
       "      <td>-2.0</td>\n",
       "      <td>0.0</td>\n",
       "    </tr>\n",
       "    <tr>\n",
       "      <th>997</th>\n",
       "      <td>997</td>\n",
       "      <td>997.0</td>\n",
       "      <td>1</td>\n",
       "      <td>-3.0</td>\n",
       "      <td>-3.0</td>\n",
       "      <td>0.0</td>\n",
       "    </tr>\n",
       "    <tr>\n",
       "      <th>998</th>\n",
       "      <td>998</td>\n",
       "      <td>998.0</td>\n",
       "      <td>1</td>\n",
       "      <td>-4.0</td>\n",
       "      <td>-4.0</td>\n",
       "      <td>0.0</td>\n",
       "    </tr>\n",
       "    <tr>\n",
       "      <th>999</th>\n",
       "      <td>999</td>\n",
       "      <td>999.0</td>\n",
       "      <td>1</td>\n",
       "      <td>-3.0</td>\n",
       "      <td>-3.0</td>\n",
       "      <td>0.0</td>\n",
       "    </tr>\n",
       "  </tbody>\n",
       "</table>\n",
       "<p>1000 rows × 6 columns</p>\n",
       "</div>"
      ],
      "text/plain": [
       "     frame      t  n    x    y  pid_explicit\n",
       "0        0    0.0  1 -1.0 -1.0           0.0\n",
       "1        1    1.0  1 -1.0 -1.0           0.0\n",
       "2        2    2.0  1  0.0  0.0           0.0\n",
       "3        3    3.0  1  1.0  1.0           0.0\n",
       "4        4    4.0  1  2.0  2.0           0.0\n",
       "..     ...    ... ..  ...  ...           ...\n",
       "995    995  995.0  1 -3.0 -3.0           0.0\n",
       "996    996  996.0  1 -2.0 -2.0           0.0\n",
       "997    997  997.0  1 -3.0 -3.0           0.0\n",
       "998    998  998.0  1 -4.0 -4.0           0.0\n",
       "999    999  999.0  1 -3.0 -3.0           0.0\n",
       "\n",
       "[1000 rows x 6 columns]"
      ]
     },
     "execution_count": 105,
     "metadata": {},
     "output_type": "execute_result"
    }
   ],
   "source": [
    "##TODO: load ^that MSD data and print as array called my_msd_values\n",
    "##TODO: compute numerical_tolerance=np.mean(msd_fft(r)-my_msd_values"
   ]
  },
  {
   "cell_type": "code",
   "execution_count": 111,
   "metadata": {
    "ExecuteTime": {
     "end_time": "2021-07-22T01:48:48.324414Z",
     "start_time": "2021-07-22T01:48:48.268150Z"
    },
    "hidden": true
   },
   "outputs": [],
   "source": [
    "dft1=pd.DataFrame([dff['t'].min()])\n",
    "dft2=pd.DataFrame([dff['t'].max()])\n",
    "lagt_values,msd_values=compute_individual_mean_squared_displacement(dff,dft1,dft2,DT=DT,pid=0,pid_col='pid_explicit')"
   ]
  },
  {
   "cell_type": "code",
   "execution_count": null,
   "metadata": {
    "ExecuteTime": {
     "end_time": "2021-07-22T01:49:34.115033Z",
     "start_time": "2021-07-22T01:49:34.050551Z"
    },
    "hidden": true
   },
   "outputs": [],
   "source": []
  },
  {
   "cell_type": "code",
   "execution_count": 125,
   "metadata": {
    "ExecuteTime": {
     "end_time": "2021-07-22T01:52:36.809027Z",
     "start_time": "2021-07-22T01:52:36.625012Z"
    },
    "hidden": true
   },
   "outputs": [
    {
     "data": {
      "text/plain": [
       "[<matplotlib.lines.Line2D at 0x130ad46d0>]"
      ]
     },
     "execution_count": 125,
     "metadata": {},
     "output_type": "execute_result"
    },
    {
     "data": {
      "image/png": "[encoded data removed]",
      "text/plain": [
       "<Figure size 432x288 with 1 Axes>"
      ]
     },
     "metadata": {
      "needs_background": "light"
     },
     "output_type": "display_data"
    }
   ],
   "source": [
    "plt.plot(msd_fft(r))\n",
    "plt.plot(msd_values)"
   ]
  },
  {
   "cell_type": "code",
   "execution_count": 140,
   "metadata": {
    "ExecuteTime": {
     "end_time": "2021-07-22T01:54:37.781131Z",
     "start_time": "2021-07-22T01:54:37.580730Z"
    },
    "hidden": true
   },
   "outputs": [
    {
     "data": {
      "image/png": "[encoded data removed]",
      "text/plain": [
       "<Figure size 432x288 with 1 Axes>"
      ]
     },
     "metadata": {
      "needs_background": "light"
     },
     "output_type": "display_data"
    }
   ],
   "source": [
    "scale=1\n",
    "plt.plot(msd_fft(r)[1:]/msd_values)\n",
    "plt.ylim([0,20])\n",
    "plt.show()"
   ]
  },
  {
   "cell_type": "markdown",
   "metadata": {
    "hidden": true
   },
   "source": [
    "Oh... MSD is an extrinsic measure in physics, but later authors changed it into an intrinsic measure by dividing by a factor of, perhaps, N-m... Nope, the scale between the two appears to change as a function of time, and tends to be off by a factor typically larger than five...\n",
    "\n",
    "Screw trackpy, let's use the numpy implementation"
   ]
  },
  {
   "cell_type": "code",
   "execution_count": 142,
   "metadata": {
    "ExecuteTime": {
     "end_time": "2021-07-22T01:58:09.517535Z",
     "start_time": "2021-07-22T01:58:09.470004Z"
    },
    "hidden": true
   },
   "outputs": [],
   "source": [
    "#TODO: extract r from  dff\n",
    "my_r=dff[['x','y']].values\n",
    "msd_values=msd_fft(my_r)\n",
    "lag_values=DT*np.arange(msd_values.shape[0])"
   ]
  },
  {
   "cell_type": "markdown",
   "metadata": {},
   "source": [
    "# TODO: dev drdt function to make sure it crops correctly for\n",
    "- drdt_bulk\n",
    "- drdt_annihilation"
   ]
  },
  {
   "cell_type": "code",
   "execution_count": 12,
   "metadata": {
    "ExecuteTime": {
     "end_time": "2021-08-03T22:58:51.075750Z",
     "start_time": "2021-08-03T22:58:50.887698Z"
    }
   },
   "outputs": [
    {
     "name": "stdout",
     "output_type": "stream",
     "text": [
      "DT=0.25 ms\n",
      "printing summary stats on particle lifetimes for one input folder in /home/timothytyree/Documents/GitHub/bgmc/python/data/local_results/euic_False_fc_2_r_0.1_D_2_L_10_kappa_0_varkappa_0:\n",
      "count      16.0\n",
      "mean     3000.0\n",
      "std         0.0\n",
      "min      3000.0\n",
      "25%      3000.0\n",
      "50%      3000.0\n",
      "75%      3000.0\n",
      "max      3000.0\n",
      "Name: min, dtype: float64\n",
      "\n",
      "Please manually review the key word arguments in kwargs.\n"
     ]
    }
   ],
   "source": [
    "#input_fn is any sort of trajectory .csv file.  it must have a column reffered to by pid_col that uniquely identifies each particle\n",
    "#Load example particle Log file where I want to compute MSD and tracking has already been done \n",
    "#(good): data that uses explicit particle tracking\n",
    "# input_fn=search_for_file()\n",
    "\n",
    "#DONE: no attraction, no annihilation\n",
    "input_fn=\"/home/timothytyree/Documents/GitHub/bgmc/python/data/local_results/euic_False_fc_2_r_0.1_D_2_L_10_kappa_0_varkappa_0/Log/pbc_particle_log1_log.csv\"\n",
    "\n",
    "#TODO: no attraction with annihilation\n",
    "# input_fn=\"/home/timothytyree/Documents/GitHub/bgmc/python/data/local_results/euic_False_fc_2_r_0.1_D_2_L_10_kappa_1500_varkappa_0/Log/pbc_particle_log1_log.csv\"\n",
    "\n",
    "#TODO: attraction with annihilation\n",
    "\n",
    "#TODO: attraction with annihilation but without diffusion\n",
    "\n",
    "\n",
    "# input_fn='/Users/timothytyree/Documents/GitHub/care/notebooks/Data/test_data/pbc_particle_log69_log.csv'\n",
    "trial_folder_name=os.path.dirname(os.path.dirname(input_fn))\n",
    "pid_col='pid_explicit'\n",
    "t_col='t'\n",
    "#(bad)particle data analyzed using full model pipeline\n",
    "# input_fn=\"/Users/timothytyree/Documents/GitHub/bgmc/python/data/local_results/euic_False_fc_2_r_0.1_D_2_L_10_kappa_1500_varkappa_0/trajectories_unwrap/pbc_particle_log121_traj_sr_30_mem_0_unwrap.csv\"\n",
    "df=pd.read_csv(input_fn)\n",
    "kwargs={}\n",
    "width=10 #width of computational domain\n",
    "ds   =5  #cm\n",
    "#from here on, we will use units in terms of those used by the full model\n",
    "height=width\n",
    "DS=ds/width\n",
    "DT=get_DT(df,pid_col=pid_col);print(f\"DT={DT} ms\")\n",
    "#print summary stats on particle lifetimes for one input folder\n",
    "dft=df.groupby(pid_col)[t_col].describe()\n",
    "df_lifetimes=-dft[['max','min']].T.diff().loc['min']\n",
    "\n",
    "print(f\"printing summary stats on particle lifetimes for one input folder in {trial_folder_name}:\")\n",
    "print(df_lifetimes.describe())\n",
    "# print(df_lifetimes.head(10))\n",
    "print(\"\\nPlease manually review the key word arguments in kwargs.\")"
   ]
  },
  {
   "cell_type": "code",
   "execution_count": 17,
   "metadata": {
    "ExecuteTime": {
     "end_time": "2021-08-03T23:00:00.743576Z",
     "start_time": "2021-08-03T23:00:00.726809Z"
    }
   },
   "outputs": [
    {
     "data": {
      "text/plain": [
       "100"
      ]
     },
     "execution_count": 17,
     "metadata": {},
     "output_type": "execute_result"
    }
   ],
   "source": [
    "#TODO: make compute_event_id return a unique event_id_int for every trial\n",
    "\n",
    "fn = os.path.basename(input_fn)\n",
    "# event_id_int = int(float(100*sum([float(s) for s in re.findall(r'-?\\d+\\.?\\d*', fn)])))\n",
    "event_id_int=100*int(''.join(re.findall(r'-?\\d+\\.?\\d*', fn)))"
   ]
  },
  {
   "cell_type": "code",
   "execution_count": 9,
   "metadata": {
    "ExecuteTime": {
     "end_time": "2021-07-22T20:32:46.219320Z",
     "start_time": "2021-07-22T20:32:46.158526Z"
    }
   },
   "outputs": [
    {
     "data": {
      "text/plain": [
       "400"
      ]
     },
     "execution_count": 9,
     "metadata": {},
     "output_type": "execute_result"
    }
   ],
   "source": [
    "#TODO(later): update this block with the kwargs for get_routine_for_computing_dRdt_in_bulk\n",
    "# minimum_lifetime=500. #ms\n",
    "# crop_start_by=0       #ms\n",
    "# crop_end_by=0         #ms\n",
    "tmin=0#ms\n",
    "frame_min=int(tmin/DT) #first frame to consider\n",
    "# #DONT: implement cropping\n",
    "# dont_use_older_than  =0  #ms\n",
    "# dont_use_younger_than=0  #ms"
   ]
  },
  {
   "cell_type": "code",
   "execution_count": 13,
   "metadata": {
    "ExecuteTime": {
     "end_time": "2021-07-22T20:37:39.653059Z",
     "start_time": "2021-07-22T20:37:39.593735Z"
    }
   },
   "outputs": [],
   "source": []
  },
  {
   "cell_type": "code",
   "execution_count": 91,
   "metadata": {
    "ExecuteTime": {
     "end_time": "2021-07-22T20:26:11.934057Z",
     "start_time": "2021-07-22T20:26:11.874756Z"
    }
   },
   "outputs": [],
   "source": [
    "#DONE: update routine_for_computing_dRdt_in_bulk to use pid_col instead of particle\n",
    "#TODO: figure out the conversion from crop_start_by amd crop_end_by for use in routine_for_computing_dRdt_in_bulk\n",
    "kwargs={\n",
    "    'DT':DT,\n",
    "    'ds':ds,\n",
    "    'width':width,\n",
    "    'pid_col':pid_col,\n",
    "    't_col':t_col,\n",
    "    'use_drop_shorter_than':False,\n",
    "   'drop_shorter_than':150, #ms\n",
    "   'round_t_to_n_digits':5,\n",
    "   'frame_min':frame_min,\n",
    "   'num_frames_between':1,\n",
    "   'use_random_frames':False,\n",
    "   'num_random_frames':50\n",
    "}"
   ]
  },
  {
   "cell_type": "code",
   "execution_count": 4,
   "metadata": {
    "ExecuteTime": {
     "end_time": "2021-07-22T20:28:23.353064Z",
     "start_time": "2021-07-22T20:28:23.157616Z"
    }
   },
   "outputs": [],
   "source": [
    "from lib import *\n",
    "get_routine_for_computing_dRdt_in_bulk?"
   ]
  },
  {
   "cell_type": "code",
   "execution_count": 120,
   "metadata": {
    "ExecuteTime": {
     "end_time": "2021-07-22T17:26:18.286035Z",
     "start_time": "2021-07-22T17:26:17.775000Z"
    }
   },
   "outputs": [],
   "source": [
    "use_test=False\n",
    "routine_for_computing_dRdt_in_bulk = get_routine_for_computing_dRdt_in_bulk(**kwargs)\n",
    "if use_test:\n",
    "    #optionally test the routine\n",
    "    retval=routine_for_computing_dRdt_in_bulk(input_fn)\n",
    "    pd.read_csv(retval).head()\n",
    "\n",
    "def routine(input_fn):\n",
    "    try:\n",
    "        return routine_for_computing_dRdt_in_bulk(input_fn)\n",
    "    except Exception as e:\n",
    "        return f\"Warning: something went wrong, {e}\""
   ]
  },
  {
   "cell_type": "code",
   "execution_count": 121,
   "metadata": {
    "ExecuteTime": {
     "end_time": "2021-07-22T17:26:19.623860Z",
     "start_time": "2021-07-22T17:26:19.544727Z"
    }
   },
   "outputs": [
    {
     "name": "stdout",
     "output_type": "stream",
     "text": [
      "We're about to use 12 cores to obliterate 200 trajectory files from /home/timothytyree/Documents/GitHub/bgmc/python/data/local_results/euic_False_fc_2_r_0.1_D_2_L_10_kappa_1500_varkappa_0\n"
     ]
    }
   ],
   "source": [
    "trial_folder_name=os.path.dirname(os.path.dirname(input_fn))\n",
    "npartitions=os.cpu_count()\n",
    "input_fn_lst=get_log_files(trial_folder_name, extension='/Log/', trgt='.csv')\n",
    "# input_fn_lst=get_log_files(trial_folder_name, extension='', trgt='.csv')\n",
    "\n",
    "print(f\"We're about to use {npartitions} cores to obliterate {len(input_fn_lst)} trajectory files from {trial_folder_name}\")"
   ]
  },
  {
   "cell_type": "code",
   "execution_count": 128,
   "metadata": {
    "ExecuteTime": {
     "end_time": "2021-07-23T19:52:34.052267Z",
     "start_time": "2021-07-23T19:52:33.396952Z"
    }
   },
   "outputs": [
    {
     "name": "stdout",
     "output_type": "stream",
     "text": [
      "0.03917564841231029\n"
     ]
    },
    {
     "data": {
      "image/png": "[encoded data removed]",
      "text/plain": [
       "<Figure size 432x288 with 1 Axes>"
      ]
     },
     "metadata": {
      "needs_background": "light"
     },
     "output_type": "display_data"
    }
   ],
   "source": [
    "D=2\n",
    "nobs=200*16\n",
    "# nobs=100000\n",
    "t=1\n",
    "scale=np.sqrt(2*D*1)\n",
    "msd_lst=[]\n",
    "for j in range(200*16):\n",
    "    xv=scale*np.random.normal(size=nobs)\n",
    "    yv=scale*np.random.normal(size=nobs)\n",
    "    displacement_values=xv+yv\n",
    "    msd=np.var(displacement_values)\n",
    "    msd_lst.append(msd)\n",
    "\n",
    "    \n",
    "msd_var=np.var(msd_lst)\n",
    "plt.hist(msd_lst,bins=50)\n",
    "print(msd_var)\n",
    "# msd=np.var(displacement_values)\n",
    "# plt.hist(displacement_values,bins=50)\n",
    "# print(msd)\n",
    "plt.show()"
   ]
  },
  {
   "cell_type": "markdown",
   "metadata": {},
   "source": [
    "# TODO: bootstrap MSD/lagt"
   ]
  },
  {
   "cell_type": "code",
   "execution_count": 130,
   "metadata": {
    "ExecuteTime": {
     "end_time": "2021-07-23T20:11:55.064547Z",
     "start_time": "2021-07-23T20:10:56.482238Z"
    }
   },
   "outputs": [
    {
     "name": "stdout",
     "output_type": "stream",
     "text": [
      "File: /home/timothytyree/Documents/GitHub/bgmc/python/data/local_results/euic_False_fc_2_r_0.1_D_2_L_10_kappa_0_varkappa_0/msd.csv\n"
     ]
    },
    {
     "data": {
      "text/plain": [
       "'/home/timothytyree/Documents/GitHub/bgmc/python/data/local_results/euic_False_fc_2_r_0.1_D_2_L_10_kappa_0_varkappa_0/msd.csv'"
      ]
     },
     "execution_count": 130,
     "metadata": {},
     "output_type": "execute_result"
    }
   ],
   "source": [
    "search_for_file()"
   ]
  },
  {
   "cell_type": "code",
   "execution_count": 131,
   "metadata": {
    "ExecuteTime": {
     "end_time": "2021-07-23T21:06:20.321161Z",
     "start_time": "2021-07-23T21:06:11.359635Z"
    }
   },
   "outputs": [
    {
     "data": {
      "text/html": [
       "<div>\n",
       "<style scoped>\n",
       "    .dataframe tbody tr th:only-of-type {\n",
       "        vertical-align: middle;\n",
       "    }\n",
       "\n",
       "    .dataframe tbody tr th {\n",
       "        vertical-align: top;\n",
       "    }\n",
       "\n",
       "    .dataframe thead th {\n",
       "        text-align: right;\n",
       "    }\n",
       "</style>\n",
       "<table border=\"1\" class=\"dataframe\">\n",
       "  <thead>\n",
       "    <tr style=\"text-align: right;\">\n",
       "      <th></th>\n",
       "      <th>index</th>\n",
       "      <th>pid</th>\n",
       "      <th>lagt</th>\n",
       "      <th>msd</th>\n",
       "    </tr>\n",
       "  </thead>\n",
       "  <tbody>\n",
       "    <tr>\n",
       "      <th>0</th>\n",
       "      <td>0</td>\n",
       "      <td>0</td>\n",
       "      <td>0.25</td>\n",
       "      <td>0.000000</td>\n",
       "    </tr>\n",
       "    <tr>\n",
       "      <th>1</th>\n",
       "      <td>1</td>\n",
       "      <td>0</td>\n",
       "      <td>0.50</td>\n",
       "      <td>0.001984</td>\n",
       "    </tr>\n",
       "    <tr>\n",
       "      <th>2</th>\n",
       "      <td>2</td>\n",
       "      <td>0</td>\n",
       "      <td>0.75</td>\n",
       "      <td>0.003980</td>\n",
       "    </tr>\n",
       "    <tr>\n",
       "      <th>3</th>\n",
       "      <td>3</td>\n",
       "      <td>0</td>\n",
       "      <td>1.00</td>\n",
       "      <td>0.005967</td>\n",
       "    </tr>\n",
       "    <tr>\n",
       "      <th>4</th>\n",
       "      <td>4</td>\n",
       "      <td>0</td>\n",
       "      <td>1.25</td>\n",
       "      <td>0.007925</td>\n",
       "    </tr>\n",
       "  </tbody>\n",
       "</table>\n",
       "</div>"
      ],
      "text/plain": [
       "   index  pid  lagt       msd\n",
       "0      0    0  0.25  0.000000\n",
       "1      1    0  0.50  0.001984\n",
       "2      2    0  0.75  0.003980\n",
       "3      3    0  1.00  0.005967\n",
       "4      4    0  1.25  0.007925"
      ]
     },
     "execution_count": 131,
     "metadata": {},
     "output_type": "execute_result"
    }
   ],
   "source": [
    "msd_fn='/home/timothytyree/Documents/GitHub/bgmc/python/data/local_results/euic_False_fc_2_r_0.1_D_2_L_10_kappa_0_varkappa_0/msd.csv'\n",
    "df_msd=pd.read_csv(msd_fn)\n",
    "df_msd.head()"
   ]
  },
  {
   "cell_type": "code",
   "execution_count": 149,
   "metadata": {
    "ExecuteTime": {
     "end_time": "2021-07-23T21:20:39.673872Z",
     "start_time": "2021-07-23T21:20:39.532001Z"
    }
   },
   "outputs": [],
   "source": [
    "x_values=df_msd['lagt'].values/1000 #lag time in seconds\n",
    "y_values=df_msd['msd'].values #msd in square centimeters\n",
    "\n",
    "#i notice msd=0 erroneously when lagt>0. fixing that...\n",
    "x_values=x_values[:-1]\n",
    "y_values=y_values[1:]\n",
    "\n",
    "#make the y-axis MSD/lagt\n",
    "y_values=y_values / x_values\n",
    "xlabel='lagt'\n",
    "ylabel='y'\n",
    "min_numobs=0\n",
    "num_bootstrap_samples=1000"
   ]
  },
  {
   "cell_type": "code",
   "execution_count": 151,
   "metadata": {
    "ExecuteTime": {
     "end_time": "2021-07-23T21:28:03.936096Z",
     "start_time": "2021-07-23T21:21:16.088817Z"
    }
   },
   "outputs": [
    {
     "name": "stdout",
     "output_type": "stream",
     "text": [
      "run time for bootstrapping was 353.77 seconds.\n"
     ]
    },
    {
     "data": {
      "text/html": [
       "<div>\n",
       "<style scoped>\n",
       "    .dataframe tbody tr th:only-of-type {\n",
       "        vertical-align: middle;\n",
       "    }\n",
       "\n",
       "    .dataframe tbody tr th {\n",
       "        vertical-align: top;\n",
       "    }\n",
       "\n",
       "    .dataframe thead th {\n",
       "        text-align: right;\n",
       "    }\n",
       "</style>\n",
       "<table border=\"1\" class=\"dataframe\">\n",
       "  <thead>\n",
       "    <tr style=\"text-align: right;\">\n",
       "      <th></th>\n",
       "      <th>lagt</th>\n",
       "      <th>y</th>\n",
       "      <th>Delta_lagt</th>\n",
       "      <th>Delta_y</th>\n",
       "      <th>p_lagt</th>\n",
       "      <th>p_y</th>\n",
       "      <th>counts</th>\n",
       "    </tr>\n",
       "  </thead>\n",
       "  <tbody>\n",
       "    <tr>\n",
       "      <th>0</th>\n",
       "      <td>0.050125</td>\n",
       "      <td>10.097897</td>\n",
       "      <td>0.000049</td>\n",
       "      <td>0.022798</td>\n",
       "      <td>0.926412</td>\n",
       "      <td>0.347504</td>\n",
       "      <td>1280000</td>\n",
       "    </tr>\n",
       "    <tr>\n",
       "      <th>1</th>\n",
       "      <td>0.150125</td>\n",
       "      <td>10.056951</td>\n",
       "      <td>0.000049</td>\n",
       "      <td>0.022916</td>\n",
       "      <td>0.184116</td>\n",
       "      <td>0.610017</td>\n",
       "      <td>1280000</td>\n",
       "    </tr>\n",
       "    <tr>\n",
       "      <th>2</th>\n",
       "      <td>0.250125</td>\n",
       "      <td>10.055923</td>\n",
       "      <td>0.000051</td>\n",
       "      <td>0.024093</td>\n",
       "      <td>0.914841</td>\n",
       "      <td>0.637262</td>\n",
       "      <td>1280000</td>\n",
       "    </tr>\n",
       "    <tr>\n",
       "      <th>3</th>\n",
       "      <td>0.350125</td>\n",
       "      <td>10.027191</td>\n",
       "      <td>0.000051</td>\n",
       "      <td>0.024767</td>\n",
       "      <td>0.578623</td>\n",
       "      <td>0.287195</td>\n",
       "      <td>1280000</td>\n",
       "    </tr>\n",
       "    <tr>\n",
       "      <th>4</th>\n",
       "      <td>0.450125</td>\n",
       "      <td>9.984307</td>\n",
       "      <td>0.000050</td>\n",
       "      <td>0.023601</td>\n",
       "      <td>0.333673</td>\n",
       "      <td>0.997224</td>\n",
       "      <td>1280000</td>\n",
       "    </tr>\n",
       "  </tbody>\n",
       "</table>\n",
       "</div>"
      ],
      "text/plain": [
       "       lagt          y  Delta_lagt   Delta_y    p_lagt       p_y   counts\n",
       "0  0.050125  10.097897    0.000049  0.022798  0.926412  0.347504  1280000\n",
       "1  0.150125  10.056951    0.000049  0.022916  0.184116  0.610017  1280000\n",
       "2  0.250125  10.055923    0.000051  0.024093  0.914841  0.637262  1280000\n",
       "3  0.350125  10.027191    0.000051  0.024767  0.578623  0.287195  1280000\n",
       "4  0.450125   9.984307    0.000050  0.023601  0.333673  0.997224  1280000"
      ]
     },
     "execution_count": 151,
     "metadata": {},
     "output_type": "execute_result"
    }
   ],
   "source": [
    "#bin and bootstrap results\n",
    "bins=30#'auto'\n",
    "npartitions=os.cpu_count()\n",
    "dict_out = bin_and_bootstrap_xy_values(x=x_values,\n",
    "                                       y=y_values,\n",
    "                                       xlabel=xlabel,\n",
    "                                       ylabel=ylabel,\n",
    "                                       bins=bins,\n",
    "                                       min_numobs=min_numobs,\n",
    "                                       num_bootstrap_samples=num_bootstrap_samples,\n",
    "                                       npartitions=npartitions)\n",
    "df_emsd = pd.DataFrame(dict_out)\n",
    "df_emsd.head()"
   ]
  },
  {
   "cell_type": "code",
   "execution_count": 158,
   "metadata": {
    "ExecuteTime": {
     "end_time": "2021-07-23T21:38:41.716680Z",
     "start_time": "2021-07-23T21:38:41.679077Z"
    }
   },
   "outputs": [],
   "source": [
    "x=df_emsd['lagt'].values\n",
    "y=df_emsd['y'].values\n",
    "y_err=df_emsd['Delta_y'].values\n",
    "\n",
    "#if ^this fails, then try integrating a full average over particles\n",
    "plt.errorbar(x,y,y_err)\n",
    "plt.plot(x,0.*x+8,'k-')\n",
    "plt.show()"
   ]
  },
  {
   "cell_type": "markdown",
   "metadata": {},
   "source": [
    "## module for computing D for a given a file with MSD in it"
   ]
  },
  {
   "cell_type": "code",
   "execution_count": 164,
   "metadata": {
    "ExecuteTime": {
     "end_time": "2021-07-23T21:44:53.321230Z",
     "start_time": "2021-07-23T21:44:53.300898Z"
    }
   },
   "outputs": [],
   "source": [
    "def compute_D(df,xscale=0.001,xmin=0.,xmax=500.):\n",
    "    #compute the linear fit of bootstrapped msd\n",
    "    #     df=df_emsd\n",
    "    #     xscale=0.001 #seconds per ms\n",
    "    #     xmin=0. #ms\n",
    "    #     xmax=500 #ms\n",
    "    xmin*=xscale\n",
    "    xmax*=xscale\n",
    "    x_values=df['lagt'].values*xscale\n",
    "    y_values=df['msd'].values\n",
    "    x_err_values=df['Delta_lagt'].values\n",
    "    y_err_values=df['Delta_msd'].values\n",
    "    counts=df['counts'].values\n",
    "\n",
    "    #fit drdt_values to F0+F1/r with OLS fit for LR model where 1/r is greater than some 1/cm\n",
    "    boo=(x_values>xmin)&(x_values<xmax)\n",
    "    x=x_values[boo]\n",
    "    y=y_values[boo]\n",
    "    dict_force_fit=compute_95CI_ols(x,y)\n",
    "    y_hat_values=dict_force_fit['b']+dict_force_fit['m']*x_values\n",
    "\n",
    "    #(optional) rename specific values\n",
    "    dict_force_fit=dict_force_fit\n",
    "    y_hat_values=y_hat_values\n",
    "    D=dict_force_fit['m']/4\n",
    "    return D\n",
    "    \n",
    "#     #bluf\n",
    "#     print(f\"the ols fit for diffusion coefficient, D={:.4f} is:\")\n",
    "#     print_dict(dict_force_fit)\n",
    "#     print(f\"Nobs= {np.mean(counts):.0f} +- {np.std(counts):.0f}\")\n",
    "#     print(f\"trial_folder_name: {trial_folder_name}\")\n",
    "\n",
    "def return_compute_D(fn,bins='auto'):\n",
    "    df_in=pd.read_csv(fn)\n",
    "    #extract values\n",
    "    lagt_values = df_in['lagt'].values\n",
    "    msd_values = df_in['msd'].values\n",
    "    #bin and bootstrap results\n",
    "    #'auto'  #\n",
    "    df_emsd = bin_and_bootstrap_xy_values(x=lagt_values,\n",
    "                                           y=msd_values,\n",
    "                                           xlabel='lagt',\n",
    "                                           ylabel=r'msd',\n",
    "                                           bins=bins,\n",
    "                                           min_numobs=None,\n",
    "                                           num_bootstrap_samples=1000,\n",
    "                                           npartitions=npartitions,\n",
    "                                         printing=False)\n",
    "    return compute_D(df_emsd)\n",
    "\n",
    "def geo_mean_overflow(iterable):\n",
    "    a = np.log(iterable)\n",
    "    return np.exp(a.mean())"
   ]
  },
  {
   "cell_type": "markdown",
   "metadata": {},
   "source": [
    "# TODO: measure MSD/tau by taking the ensemble average and never time averaging"
   ]
  },
  {
   "cell_type": "code",
   "execution_count": 217,
   "metadata": {
    "ExecuteTime": {
     "end_time": "2021-07-23T22:36:16.146085Z",
     "start_time": "2021-07-23T22:36:11.506261Z"
    }
   },
   "outputs": [],
   "source": [
    "# input_fn=search_for_file(os.path.basename(msd_fn))\n",
    "input_fn=\"/home/timothytyree/Documents/GitHub/bgmc/python/data/local_results/euic_False_fc_2_r_0.1_D_2_L_10_kappa_0_varkappa_0/Log/pbc_particle_log2_log.csv\"\n",
    "# def return_msd_phys(input_fn):\n",
    "df=pd.read_csv(input_fn)\n",
    "trial_folder_name=os.path.dirname(os.path.dirname(input_fn))\n",
    "pid_col='pid_explicit'\n",
    "t_col='t'\n",
    "#(bad)particle data analyzed using full model pipeline\n",
    "# input_fn=\"/Users/timothytyree/Documents/GitHub/bgmc/python/data/local_results/euic_False_fc_2_r_0.1_D_2_L_10_kappa_1500_varkappa_0/trajectories_unwrap/pbc_particle_log121_traj_sr_30_mem_0_unwrap.csv\"\n",
    "kwargs={}\n",
    "xscale=0.001\n",
    "width=10 #width of computational domain\n",
    "ds   =10  #cm\n",
    "#from here on, we will use units in terms of those used by the full model\n",
    "height=width\n",
    "DS=ds/width\n",
    "\n",
    "#unwrap trajectories\n",
    "pid_lst = sorted(set(df[pid_col].values))\n",
    "#(duplicates filtered earlier in full model pipeline.  Unnecessary in particle model with explicit tracking_ _  _ _ ) filter_duplicate_trajectory_indices is slow (and can probs be accelerated with a sexy pandas one liner)\n",
    "# pid_lst_filtered = filter_duplicate_trajectory_indices(pid_lst,df)\n",
    "df = pd.concat([unwrap_traj_and_center(df[df[pid_col]==pid], width, height, DS, **kwargs) for pid in pid_lst])\n",
    "DT=get_DT(df,pid_col=pid_col) #ms\n",
    "df[df.frame==2].describe()\n",
    "\n",
    "df.head()\n",
    "\n",
    "df['sd']=df['x']**2+df['y']**2\n",
    "d_msd=df.groupby('t')['sd'].mean()\n",
    "lagt_values=d_msd.index.values\n",
    "msd_values=d_msd.values\n"
   ]
  },
  {
   "cell_type": "code",
   "execution_count": 228,
   "metadata": {
    "ExecuteTime": {
     "end_time": "2021-07-23T22:57:59.112661Z",
     "start_time": "2021-07-23T22:57:58.774792Z"
    }
   },
   "outputs": [
    {
     "name": "stdout",
     "output_type": "stream",
     "text": [
      "2.298820983496281\n"
     ]
    },
    {
     "data": {
      "image/png": "[encoded data removed]",
      "text/plain": [
       "<Figure size 432x288 with 1 Axes>"
      ]
     },
     "metadata": {
      "needs_background": "light"
     },
     "output_type": "display_data"
    }
   ],
   "source": [
    "xmin=0\n",
    "xmax=100\n",
    "xscale=0.001\n",
    "lagt_values=d_msd.index.values\n",
    "msd_values=d_msd.values\n",
    "xmin*=xscale\n",
    "xmax*=xscale\n",
    "x_values=lagt_values*xscale\n",
    "y_values=msd_values/x_values\n",
    "# x_err_values=df['Delta_lagt'].values\n",
    "# y_err_values=df['Delta_msd'].values\n",
    "# counts=df['counts'].values\n",
    "\n",
    "#fit drdt_values to F0+F1/r with OLS fit for LR model where 1/r is greater than some 1/cm\n",
    "boo=(x_values>xmin)&(x_values<xmax)\n",
    "x=x_values[boo]\n",
    "y=y_values[boo]\n",
    "dict_force_fit=compute_95CI_ols(x,y)\n",
    "y_hat_values=dict_force_fit['b']+dict_force_fit['m']*x_values\n",
    "\n",
    "#(optional) rename specific values\n",
    "dict_force_fit=dict_force_fit\n",
    "y_hat_values=y_hat_values\n",
    "D=dict_force_fit['m']/4\n",
    "# return D\n",
    "\n",
    "\n",
    "print(D)\n",
    "plt.plot(x_values,y_values)\n",
    "plt.show()"
   ]
  },
  {
   "cell_type": "code",
   "execution_count": 197,
   "metadata": {
    "ExecuteTime": {
     "end_time": "2021-07-23T22:17:55.819476Z",
     "start_time": "2021-07-23T22:17:55.763279Z"
    }
   },
   "outputs": [
    {
     "name": "stdout",
     "output_type": "stream",
     "text": [
      "printing summary stats on particle lifetimes for one input folder in /home/timothytyree/Documents/GitHub/bgmc/python/data/local_results/euic_False_fc_2_r_0.1_D_2_L_10_kappa_0_varkappa_0:\n",
      "count      16.0\n",
      "mean     3000.0\n",
      "std         0.0\n",
      "min      3000.0\n",
      "25%      3000.0\n",
      "50%      3000.0\n",
      "75%      3000.0\n",
      "max      3000.0\n",
      "Name: min, dtype: float64\n",
      "\n",
      "Please make a manual decision about minimum_lifetime, crop_start_by, and crop_end_by\n"
     ]
    }
   ],
   "source": [
    "#print summary stats on particle lifetimes for one input folder\n",
    "dft=df.groupby(pid_col)[t_col].describe()\n",
    "df_lifetimes=-dft[['max','min']].T.diff().loc['min']\n",
    "print(f\"printing summary stats on particle lifetimes for one input folder in {trial_folder_name}:\")\n",
    "print(df_lifetimes.describe())\n",
    "# print(df_lifetimes.head(10))\n",
    "print(\"\\nPlease make a manual decision about minimum_lifetime, crop_start_by, and crop_end_by\")"
   ]
  },
  {
   "cell_type": "code",
   "execution_count": 195,
   "metadata": {
    "ExecuteTime": {
     "end_time": "2021-07-23T22:17:34.210211Z",
     "start_time": "2021-07-23T22:17:34.152746Z"
    },
    "run_control": {
     "marked": true
    }
   },
   "outputs": [
    {
     "ename": "KeyError",
     "evalue": "'sd'",
     "output_type": "error",
     "traceback": [
      "\u001b[0;31m---------------------------------------------------------------------------\u001b[0m",
      "\u001b[0;31mKeyError\u001b[0m                                  Traceback (most recent call last)",
      "\u001b[0;32m~/anaconda3/lib/python3.7/site-packages/pandas/core/indexes/base.py\u001b[0m in \u001b[0;36mget_loc\u001b[0;34m(self, key, method, tolerance)\u001b[0m\n\u001b[1;32m   2645\u001b[0m             \u001b[0;32mtry\u001b[0m\u001b[0;34m:\u001b[0m\u001b[0;34m\u001b[0m\u001b[0;34m\u001b[0m\u001b[0m\n\u001b[0;32m-> 2646\u001b[0;31m                 \u001b[0;32mreturn\u001b[0m \u001b[0mself\u001b[0m\u001b[0;34m.\u001b[0m\u001b[0m_engine\u001b[0m\u001b[0;34m.\u001b[0m\u001b[0mget_loc\u001b[0m\u001b[0;34m(\u001b[0m\u001b[0mkey\u001b[0m\u001b[0;34m)\u001b[0m\u001b[0;34m\u001b[0m\u001b[0;34m\u001b[0m\u001b[0m\n\u001b[0m\u001b[1;32m   2647\u001b[0m             \u001b[0;32mexcept\u001b[0m \u001b[0mKeyError\u001b[0m\u001b[0;34m:\u001b[0m\u001b[0;34m\u001b[0m\u001b[0;34m\u001b[0m\u001b[0m\n",
      "\u001b[0;32mpandas/_libs/index.pyx\u001b[0m in \u001b[0;36mpandas._libs.index.IndexEngine.get_loc\u001b[0;34m()\u001b[0m\n",
      "\u001b[0;32mpandas/_libs/index.pyx\u001b[0m in \u001b[0;36mpandas._libs.index.IndexEngine.get_loc\u001b[0;34m()\u001b[0m\n",
      "\u001b[0;32mpandas/_libs/hashtable_class_helper.pxi\u001b[0m in \u001b[0;36mpandas._libs.hashtable.PyObjectHashTable.get_item\u001b[0;34m()\u001b[0m\n",
      "\u001b[0;32mpandas/_libs/hashtable_class_helper.pxi\u001b[0m in \u001b[0;36mpandas._libs.hashtable.PyObjectHashTable.get_item\u001b[0;34m()\u001b[0m\n",
      "\u001b[0;31mKeyError\u001b[0m: 'sd'",
      "\nDuring handling of the above exception, another exception occurred:\n",
      "\u001b[0;31mKeyError\u001b[0m                                  Traceback (most recent call last)",
      "\u001b[0;32m<ipython-input-195-70da78698097>\u001b[0m in \u001b[0;36m<module>\u001b[0;34m\u001b[0m\n\u001b[1;32m      6\u001b[0m \u001b[0;31m#     print(pid)\u001b[0m\u001b[0;34m\u001b[0m\u001b[0;34m\u001b[0m\u001b[0;34m\u001b[0m\u001b[0m\n\u001b[1;32m      7\u001b[0m \u001b[0;31m#     df[df[pid_col]==pid].plot(x=t_col,y='sd')\u001b[0m\u001b[0;34m\u001b[0m\u001b[0;34m\u001b[0m\u001b[0;34m\u001b[0m\u001b[0m\n\u001b[0;32m----> 8\u001b[0;31m \u001b[0mdf\u001b[0m\u001b[0;34m[\u001b[0m\u001b[0mdf\u001b[0m\u001b[0;34m[\u001b[0m\u001b[0mpid_col\u001b[0m\u001b[0;34m]\u001b[0m\u001b[0;34m==\u001b[0m\u001b[0;36m1\u001b[0m\u001b[0;34m]\u001b[0m\u001b[0;34m.\u001b[0m\u001b[0mplot\u001b[0m\u001b[0;34m(\u001b[0m\u001b[0mx\u001b[0m\u001b[0;34m=\u001b[0m\u001b[0mt_col\u001b[0m\u001b[0;34m,\u001b[0m\u001b[0my\u001b[0m\u001b[0;34m=\u001b[0m\u001b[0;34m'sd'\u001b[0m\u001b[0;34m)\u001b[0m\u001b[0;34m\u001b[0m\u001b[0;34m\u001b[0m\u001b[0m\n\u001b[0m\u001b[1;32m      9\u001b[0m \u001b[0mplt\u001b[0m\u001b[0;34m.\u001b[0m\u001b[0mshow\u001b[0m\u001b[0;34m(\u001b[0m\u001b[0;34m)\u001b[0m\u001b[0;34m\u001b[0m\u001b[0;34m\u001b[0m\u001b[0m\n",
      "\u001b[0;32m~/anaconda3/lib/python3.7/site-packages/pandas/plotting/_core.py\u001b[0m in \u001b[0;36m__call__\u001b[0;34m(self, *args, **kwargs)\u001b[0m\n\u001b[1;32m    831\u001b[0m \u001b[0;34m\u001b[0m\u001b[0m\n\u001b[1;32m    832\u001b[0m                 \u001b[0;31m# don't overwrite\u001b[0m\u001b[0;34m\u001b[0m\u001b[0;34m\u001b[0m\u001b[0;34m\u001b[0m\u001b[0m\n\u001b[0;32m--> 833\u001b[0;31m                 \u001b[0mdata\u001b[0m \u001b[0;34m=\u001b[0m \u001b[0mdata\u001b[0m\u001b[0;34m[\u001b[0m\u001b[0my\u001b[0m\u001b[0;34m]\u001b[0m\u001b[0;34m.\u001b[0m\u001b[0mcopy\u001b[0m\u001b[0;34m(\u001b[0m\u001b[0;34m)\u001b[0m\u001b[0;34m\u001b[0m\u001b[0;34m\u001b[0m\u001b[0m\n\u001b[0m\u001b[1;32m    834\u001b[0m \u001b[0;34m\u001b[0m\u001b[0m\n\u001b[1;32m    835\u001b[0m                 \u001b[0;32mif\u001b[0m \u001b[0misinstance\u001b[0m\u001b[0;34m(\u001b[0m\u001b[0mdata\u001b[0m\u001b[0;34m,\u001b[0m \u001b[0mABCSeries\u001b[0m\u001b[0;34m)\u001b[0m\u001b[0;34m:\u001b[0m\u001b[0;34m\u001b[0m\u001b[0;34m\u001b[0m\u001b[0m\n",
      "\u001b[0;32m~/anaconda3/lib/python3.7/site-packages/pandas/core/frame.py\u001b[0m in \u001b[0;36m__getitem__\u001b[0;34m(self, key)\u001b[0m\n\u001b[1;32m   2798\u001b[0m             \u001b[0;32mif\u001b[0m \u001b[0mself\u001b[0m\u001b[0;34m.\u001b[0m\u001b[0mcolumns\u001b[0m\u001b[0;34m.\u001b[0m\u001b[0mnlevels\u001b[0m \u001b[0;34m>\u001b[0m \u001b[0;36m1\u001b[0m\u001b[0;34m:\u001b[0m\u001b[0;34m\u001b[0m\u001b[0;34m\u001b[0m\u001b[0m\n\u001b[1;32m   2799\u001b[0m                 \u001b[0;32mreturn\u001b[0m \u001b[0mself\u001b[0m\u001b[0;34m.\u001b[0m\u001b[0m_getitem_multilevel\u001b[0m\u001b[0;34m(\u001b[0m\u001b[0mkey\u001b[0m\u001b[0;34m)\u001b[0m\u001b[0;34m\u001b[0m\u001b[0;34m\u001b[0m\u001b[0m\n\u001b[0;32m-> 2800\u001b[0;31m             \u001b[0mindexer\u001b[0m \u001b[0;34m=\u001b[0m \u001b[0mself\u001b[0m\u001b[0;34m.\u001b[0m\u001b[0mcolumns\u001b[0m\u001b[0;34m.\u001b[0m\u001b[0mget_loc\u001b[0m\u001b[0;34m(\u001b[0m\u001b[0mkey\u001b[0m\u001b[0;34m)\u001b[0m\u001b[0;34m\u001b[0m\u001b[0;34m\u001b[0m\u001b[0m\n\u001b[0m\u001b[1;32m   2801\u001b[0m             \u001b[0;32mif\u001b[0m \u001b[0mis_integer\u001b[0m\u001b[0;34m(\u001b[0m\u001b[0mindexer\u001b[0m\u001b[0;34m)\u001b[0m\u001b[0;34m:\u001b[0m\u001b[0;34m\u001b[0m\u001b[0;34m\u001b[0m\u001b[0m\n\u001b[1;32m   2802\u001b[0m                 \u001b[0mindexer\u001b[0m \u001b[0;34m=\u001b[0m \u001b[0;34m[\u001b[0m\u001b[0mindexer\u001b[0m\u001b[0;34m]\u001b[0m\u001b[0;34m\u001b[0m\u001b[0;34m\u001b[0m\u001b[0m\n",
      "\u001b[0;32m~/anaconda3/lib/python3.7/site-packages/pandas/core/indexes/base.py\u001b[0m in \u001b[0;36mget_loc\u001b[0;34m(self, key, method, tolerance)\u001b[0m\n\u001b[1;32m   2646\u001b[0m                 \u001b[0;32mreturn\u001b[0m \u001b[0mself\u001b[0m\u001b[0;34m.\u001b[0m\u001b[0m_engine\u001b[0m\u001b[0;34m.\u001b[0m\u001b[0mget_loc\u001b[0m\u001b[0;34m(\u001b[0m\u001b[0mkey\u001b[0m\u001b[0;34m)\u001b[0m\u001b[0;34m\u001b[0m\u001b[0;34m\u001b[0m\u001b[0m\n\u001b[1;32m   2647\u001b[0m             \u001b[0;32mexcept\u001b[0m \u001b[0mKeyError\u001b[0m\u001b[0;34m:\u001b[0m\u001b[0;34m\u001b[0m\u001b[0;34m\u001b[0m\u001b[0m\n\u001b[0;32m-> 2648\u001b[0;31m                 \u001b[0;32mreturn\u001b[0m \u001b[0mself\u001b[0m\u001b[0;34m.\u001b[0m\u001b[0m_engine\u001b[0m\u001b[0;34m.\u001b[0m\u001b[0mget_loc\u001b[0m\u001b[0;34m(\u001b[0m\u001b[0mself\u001b[0m\u001b[0;34m.\u001b[0m\u001b[0m_maybe_cast_indexer\u001b[0m\u001b[0;34m(\u001b[0m\u001b[0mkey\u001b[0m\u001b[0;34m)\u001b[0m\u001b[0;34m)\u001b[0m\u001b[0;34m\u001b[0m\u001b[0;34m\u001b[0m\u001b[0m\n\u001b[0m\u001b[1;32m   2649\u001b[0m         \u001b[0mindexer\u001b[0m \u001b[0;34m=\u001b[0m \u001b[0mself\u001b[0m\u001b[0;34m.\u001b[0m\u001b[0mget_indexer\u001b[0m\u001b[0;34m(\u001b[0m\u001b[0;34m[\u001b[0m\u001b[0mkey\u001b[0m\u001b[0;34m]\u001b[0m\u001b[0;34m,\u001b[0m \u001b[0mmethod\u001b[0m\u001b[0;34m=\u001b[0m\u001b[0mmethod\u001b[0m\u001b[0;34m,\u001b[0m \u001b[0mtolerance\u001b[0m\u001b[0;34m=\u001b[0m\u001b[0mtolerance\u001b[0m\u001b[0;34m)\u001b[0m\u001b[0;34m\u001b[0m\u001b[0;34m\u001b[0m\u001b[0m\n\u001b[1;32m   2650\u001b[0m         \u001b[0;32mif\u001b[0m \u001b[0mindexer\u001b[0m\u001b[0;34m.\u001b[0m\u001b[0mndim\u001b[0m \u001b[0;34m>\u001b[0m \u001b[0;36m1\u001b[0m \u001b[0;32mor\u001b[0m \u001b[0mindexer\u001b[0m\u001b[0;34m.\u001b[0m\u001b[0msize\u001b[0m \u001b[0;34m>\u001b[0m \u001b[0;36m1\u001b[0m\u001b[0;34m:\u001b[0m\u001b[0;34m\u001b[0m\u001b[0;34m\u001b[0m\u001b[0m\n",
      "\u001b[0;32mpandas/_libs/index.pyx\u001b[0m in \u001b[0;36mpandas._libs.index.IndexEngine.get_loc\u001b[0;34m()\u001b[0m\n",
      "\u001b[0;32mpandas/_libs/index.pyx\u001b[0m in \u001b[0;36mpandas._libs.index.IndexEngine.get_loc\u001b[0;34m()\u001b[0m\n",
      "\u001b[0;32mpandas/_libs/hashtable_class_helper.pxi\u001b[0m in \u001b[0;36mpandas._libs.hashtable.PyObjectHashTable.get_item\u001b[0;34m()\u001b[0m\n",
      "\u001b[0;32mpandas/_libs/hashtable_class_helper.pxi\u001b[0m in \u001b[0;36mpandas._libs.hashtable.PyObjectHashTable.get_item\u001b[0;34m()\u001b[0m\n",
      "\u001b[0;31mKeyError\u001b[0m: 'sd'"
     ]
    }
   ],
   "source": [
    "#GOAL: root cause analysis of this jumping scheme\n",
    "#TODO: make a flower plot for the unwrapped trajecotry of each particle\n",
    "#TODO: print the jumps for each particle\n",
    "# pid_lst=sorted(set(df[pid_col].values))\n",
    "# for pid in pid_lst:\n",
    "#     print(pid)\n",
    "#     df[df[pid_col]==pid].plot(x=t_col,y='sd')\n",
    "df[df[pid_col]==1].plot(x=t_col,y='sd')\n",
    "plt.show()"
   ]
  },
  {
   "cell_type": "code",
   "execution_count": 212,
   "metadata": {
    "ExecuteTime": {
     "end_time": "2021-07-23T22:22:19.204844Z",
     "start_time": "2021-07-23T22:22:19.183430Z"
    }
   },
   "outputs": [],
   "source": [
    "1"
   ]
  },
  {
   "cell_type": "code",
   "execution_count": 215,
   "metadata": {
    "ExecuteTime": {
     "end_time": "2021-07-23T22:33:18.039750Z",
     "start_time": "2021-07-23T22:33:15.582308Z"
    }
   },
   "outputs": [],
   "source": [
    "#Conclucsion, the root cause is the particle not being unwrapped correctly.  This should be fixable with a judicious change in parameters\n",
    "# input_fn=\"/Users/timothytyree/Documents/GitHub/bgmc/python/data/local_results/euic_False_fc_2_r_0.1_D_2_L_10_kappa_1500_varkappa_0/trajectories_unwrap/pbc_particle_log121_traj_sr_30_mem_0_unwrap.csv\"\n",
    "df=pd.read_csv(input_fn)\n",
    "kwargs={'jump_thresh':5,\n",
    "       'distance_L2_pbc':get_distance_L2_pbc(width,height)\n",
    "       }\n",
    "xscale=0.001\n",
    "width=10 #width of computational domain\n",
    "ds   =10  #cm\n",
    "#from here on, we will use units in terms of those used by the full model\n",
    "height=width\n",
    "DS=ds/width\n",
    "\n",
    "#unwrap trajectories\n",
    "pid_lst = sorted(set(df[pid_col].values))\n",
    "pid=1\n",
    "df = pd.concat([unwrap_traj_and_center(df[df[pid_col]==pid], width, height, **kwargs) for pid in pid_lst])"
   ]
  },
  {
   "cell_type": "code",
   "execution_count": 216,
   "metadata": {
    "ExecuteTime": {
     "end_time": "2021-07-23T22:33:18.596678Z",
     "start_time": "2021-07-23T22:33:18.458307Z"
    }
   },
   "outputs": [
    {
     "data": {
      "text/plain": [
       "[<matplotlib.lines.Line2D at 0x7f733e3ade10>]"
      ]
     },
     "execution_count": 216,
     "metadata": {},
     "output_type": "execute_result"
    },
    {
     "data": {
      "image/png": "[encoded data removed]",
      "text/plain": [
       "<Figure size 432x288 with 1 Axes>"
      ]
     },
     "metadata": {
      "needs_background": "light"
     },
     "output_type": "display_data"
    }
   ],
   "source": [
    "xv,yv=df[df[pid_col]==1][['x','y']].values.T\n",
    "plt.plot(xv,yv)"
   ]
  },
  {
   "cell_type": "markdown",
   "metadata": {},
   "source": [
    "# TODO: make a function that takes xyt_values for an unwrapped trajectory and returns lagt_values and msd_values\n",
    "then,\n"
   ]
  },
  {
   "cell_type": "markdown",
   "metadata": {},
   "source": [
    "- TODO: make a dask bag (or maybe cudf-dask) that takes xyt_values, unwraps it according to width,height, and then returns lagt_values and msd_values in the same units as input arguments\n",
    "- TODO: make routine that bakes one copy of the dataframe and returns the msd_values"
   ]
  },
  {
   "cell_type": "code",
   "execution_count": 5,
   "metadata": {
    "ExecuteTime": {
     "end_time": "2021-07-26T20:35:20.276991Z",
     "start_time": "2021-07-26T20:35:20.249864Z"
    }
   },
   "outputs": [
    {
     "name": "stdout",
     "output_type": "stream",
     "text": [
      "324\n"
     ]
    }
   ],
   "source": [
    "#unwrapped FK at DT=0.025 ms\n",
    "input_fn='/home/timothytyree/Documents/GitHub/care/notebooks/Data/initial-conditions-fk-200x200/param_set_8_ds_5.0_tmax_30_diffCoef_0.001_dt_0.025/trajectories_unwrap/ic200x200.0.3_traj_sr_600_mem_0_unwrap.csv'\n",
    "input_fn_lst=get_all_files_matching_pattern(file=input_fn,trgt='_unwrap.csv')\n",
    "print(len(input_fn_lst))"
   ]
  },
  {
   "cell_type": "code",
   "execution_count": 17,
   "metadata": {
    "ExecuteTime": {
     "end_time": "2021-07-26T20:39:24.825038Z",
     "start_time": "2021-07-26T20:39:24.641533Z"
    }
   },
   "outputs": [],
   "source": [
    "#plot a random trajectory from a random file and verify that it looks reasonable\n",
    "fn=np.random.choice(input_fn_lst,size=1)[0]\n",
    "pid_col='particle'\n",
    "t_col='t'\n",
    "pid=1000\n",
    "df=pd.read_csv(fn)\n",
    "xyt_values=df[df[pid_col]==pid][['x','y','t']].values"
   ]
  },
  {
   "cell_type": "code",
   "execution_count": 18,
   "metadata": {
    "ExecuteTime": {
     "end_time": "2021-07-26T20:39:25.628771Z",
     "start_time": "2021-07-26T20:39:25.509609Z"
    }
   },
   "outputs": [
    {
     "data": {
      "text/plain": [
       "<matplotlib.collections.PathCollection at 0x7fa72c8088d0>"
      ]
     },
     "execution_count": 18,
     "metadata": {},
     "output_type": "execute_result"
    },
    {
     "data": {
      "image/png": "[encoded data removed]",
      "text/plain": [
       "<Figure size 432x288 with 1 Axes>"
      ]
     },
     "metadata": {
      "needs_background": "light"
     },
     "output_type": "display_data"
    }
   ],
   "source": [
    "plt.scatter(xyt_values[:,0],xyt_values[:,1],c=xyt_values[:,2],cmap='Blues')"
   ]
  },
  {
   "cell_type": "markdown",
   "metadata": {},
   "source": [
    "# TODO(later): particle averaged MSD measurements\n",
    "dev routine that takes a folder of (unwrapped) trajectories and returns the sum and count"
   ]
  },
  {
   "cell_type": "markdown",
   "metadata": {},
   "source": [
    "# TODO: root cause analysis of enormous msd values appearing in some files"
   ]
  },
  {
   "cell_type": "code",
   "execution_count": 3,
   "metadata": {
    "ExecuteTime": {
     "end_time": "2021-08-02T21:16:55.431670Z",
     "start_time": "2021-08-02T21:16:55.416154Z"
    }
   },
   "outputs": [],
   "source": [
    "#TODO: plot these functionally\n",
    "# \"/home/timothytyree/Documents/GitHub/care/notebooks/Data/initial-conditions-fk-200x200/param_set_8_ds_5.0_tmax_30_diffCoef_0.001_dt_0.025/bootstrapped_msd_bins_30.csv\""
   ]
  },
  {
   "cell_type": "code",
   "execution_count": 4,
   "metadata": {
    "ExecuteTime": {
     "end_time": "2021-08-02T21:30:06.569769Z",
     "start_time": "2021-08-02T21:30:01.277929Z"
    }
   },
   "outputs": [
    {
     "data": {
      "text/html": [
       "<div>\n",
       "<style scoped>\n",
       "    .dataframe tbody tr th:only-of-type {\n",
       "        vertical-align: middle;\n",
       "    }\n",
       "\n",
       "    .dataframe tbody tr th {\n",
       "        vertical-align: top;\n",
       "    }\n",
       "\n",
       "    .dataframe thead th {\n",
       "        text-align: right;\n",
       "    }\n",
       "</style>\n",
       "<table border=\"1\" class=\"dataframe\">\n",
       "  <thead>\n",
       "    <tr style=\"text-align: right;\">\n",
       "      <th></th>\n",
       "      <th>t</th>\n",
       "      <th>n</th>\n",
       "      <th>x</th>\n",
       "      <th>y</th>\n",
       "      <th>grad_ux</th>\n",
       "      <th>grad_uy</th>\n",
       "      <th>grad_vx</th>\n",
       "      <th>grad_vy</th>\n",
       "      <th>frame</th>\n",
       "      <th>particle</th>\n",
       "    </tr>\n",
       "  </thead>\n",
       "  <tbody>\n",
       "    <tr>\n",
       "      <th>0</th>\n",
       "      <td>100.000</td>\n",
       "      <td>8</td>\n",
       "      <td>0.000000</td>\n",
       "      <td>0.000000</td>\n",
       "      <td>0.921823</td>\n",
       "      <td>1.000546</td>\n",
       "      <td>-1.095692</td>\n",
       "      <td>1.028605</td>\n",
       "      <td>0</td>\n",
       "      <td>0</td>\n",
       "    </tr>\n",
       "    <tr>\n",
       "      <th>1</th>\n",
       "      <td>100.025</td>\n",
       "      <td>8</td>\n",
       "      <td>-0.009331</td>\n",
       "      <td>0.007201</td>\n",
       "      <td>0.936248</td>\n",
       "      <td>1.000450</td>\n",
       "      <td>-1.105383</td>\n",
       "      <td>1.028733</td>\n",
       "      <td>1</td>\n",
       "      <td>0</td>\n",
       "    </tr>\n",
       "    <tr>\n",
       "      <th>2</th>\n",
       "      <td>100.050</td>\n",
       "      <td>8</td>\n",
       "      <td>-0.017975</td>\n",
       "      <td>0.013846</td>\n",
       "      <td>0.951010</td>\n",
       "      <td>1.000349</td>\n",
       "      <td>-1.114780</td>\n",
       "      <td>1.028858</td>\n",
       "      <td>2</td>\n",
       "      <td>0</td>\n",
       "    </tr>\n",
       "    <tr>\n",
       "      <th>3</th>\n",
       "      <td>100.075</td>\n",
       "      <td>8</td>\n",
       "      <td>-0.025940</td>\n",
       "      <td>0.019933</td>\n",
       "      <td>0.966093</td>\n",
       "      <td>1.000244</td>\n",
       "      <td>-1.123891</td>\n",
       "      <td>1.028979</td>\n",
       "      <td>3</td>\n",
       "      <td>0</td>\n",
       "    </tr>\n",
       "    <tr>\n",
       "      <th>4</th>\n",
       "      <td>100.100</td>\n",
       "      <td>10</td>\n",
       "      <td>-0.033232</td>\n",
       "      <td>0.025458</td>\n",
       "      <td>0.981476</td>\n",
       "      <td>1.000134</td>\n",
       "      <td>-1.132718</td>\n",
       "      <td>1.029096</td>\n",
       "      <td>4</td>\n",
       "      <td>0</td>\n",
       "    </tr>\n",
       "  </tbody>\n",
       "</table>\n",
       "</div>"
      ],
      "text/plain": [
       "         t   n         x         y   grad_ux   grad_uy   grad_vx   grad_vy  \\\n",
       "0  100.000   8  0.000000  0.000000  0.921823  1.000546 -1.095692  1.028605   \n",
       "1  100.025   8 -0.009331  0.007201  0.936248  1.000450 -1.105383  1.028733   \n",
       "2  100.050   8 -0.017975  0.013846  0.951010  1.000349 -1.114780  1.028858   \n",
       "3  100.075   8 -0.025940  0.019933  0.966093  1.000244 -1.123891  1.028979   \n",
       "4  100.100  10 -0.033232  0.025458  0.981476  1.000134 -1.132718  1.029096   \n",
       "\n",
       "   frame  particle  \n",
       "0      0         0  \n",
       "1      1         0  \n",
       "2      2         0  \n",
       "3      3         0  \n",
       "4      4         0  "
      ]
     },
     "execution_count": 4,
     "metadata": {},
     "output_type": "execute_result"
    }
   ],
   "source": [
    "input_fn=f\"ic003.22_traj_sr_600_mem_0.csv\"\n",
    "input_fn=f\"ic003.22_traj_sr_600_mem_0_unwrap.csv\"\n",
    "trial_folder_name=f\"/home/timothytyree/Documents/GitHub/care/notebooks/Data/initial-conditions-suite-3-LR/param_qu_tmax_30_Ko_5.4_diffCoef_0.0005_dt_0.025\"\n",
    "# input_fn=f\"ic003.22_traj_sr_600_mem_0_unwrap_emsd.csv\"\n",
    "os.chdir(trial_folder_name)\n",
    "os.chdir('trajectories_unwrap')\n",
    "df=pd.read_csv(input_fn)\n",
    "df.head()"
   ]
  },
  {
   "cell_type": "code",
   "execution_count": 15,
   "metadata": {
    "ExecuteTime": {
     "end_time": "2021-08-02T21:41:09.786291Z",
     "start_time": "2021-08-02T21:41:05.582845Z"
    }
   },
   "outputs": [
    {
     "data": {
      "text/html": [
       "<div>\n",
       "<style scoped>\n",
       "    .dataframe tbody tr th:only-of-type {\n",
       "        vertical-align: middle;\n",
       "    }\n",
       "\n",
       "    .dataframe tbody tr th {\n",
       "        vertical-align: top;\n",
       "    }\n",
       "\n",
       "    .dataframe thead th {\n",
       "        text-align: right;\n",
       "    }\n",
       "</style>\n",
       "<table border=\"1\" class=\"dataframe\">\n",
       "  <thead>\n",
       "    <tr style=\"text-align: right;\">\n",
       "      <th></th>\n",
       "      <th>t</th>\n",
       "      <th>n</th>\n",
       "      <th>x</th>\n",
       "      <th>y</th>\n",
       "      <th>grad_ux</th>\n",
       "      <th>grad_uy</th>\n",
       "      <th>grad_vx</th>\n",
       "      <th>grad_vy</th>\n",
       "      <th>frame</th>\n",
       "      <th>particle</th>\n",
       "    </tr>\n",
       "  </thead>\n",
       "  <tbody>\n",
       "    <tr>\n",
       "      <th>0</th>\n",
       "      <td>100.0</td>\n",
       "      <td>8</td>\n",
       "      <td>1.785796</td>\n",
       "      <td>146.300585</td>\n",
       "      <td>0.921823</td>\n",
       "      <td>1.000546</td>\n",
       "      <td>-1.095692</td>\n",
       "      <td>1.028605</td>\n",
       "      <td>0</td>\n",
       "      <td>0</td>\n",
       "    </tr>\n",
       "    <tr>\n",
       "      <th>1</th>\n",
       "      <td>100.0</td>\n",
       "      <td>8</td>\n",
       "      <td>33.337203</td>\n",
       "      <td>50.035993</td>\n",
       "      <td>0.025851</td>\n",
       "      <td>1.662081</td>\n",
       "      <td>1.996952</td>\n",
       "      <td>0.335168</td>\n",
       "      <td>0</td>\n",
       "      <td>1</td>\n",
       "    </tr>\n",
       "    <tr>\n",
       "      <th>2</th>\n",
       "      <td>100.0</td>\n",
       "      <td>8</td>\n",
       "      <td>47.254566</td>\n",
       "      <td>148.257986</td>\n",
       "      <td>8.299764</td>\n",
       "      <td>-1.328687</td>\n",
       "      <td>0.435730</td>\n",
       "      <td>1.178769</td>\n",
       "      <td>0</td>\n",
       "      <td>2</td>\n",
       "    </tr>\n",
       "    <tr>\n",
       "      <th>3</th>\n",
       "      <td>100.0</td>\n",
       "      <td>8</td>\n",
       "      <td>51.541287</td>\n",
       "      <td>187.861569</td>\n",
       "      <td>-0.605971</td>\n",
       "      <td>1.443102</td>\n",
       "      <td>0.900137</td>\n",
       "      <td>1.027294</td>\n",
       "      <td>0</td>\n",
       "      <td>3</td>\n",
       "    </tr>\n",
       "    <tr>\n",
       "      <th>4</th>\n",
       "      <td>100.0</td>\n",
       "      <td>8</td>\n",
       "      <td>62.396859</td>\n",
       "      <td>48.144459</td>\n",
       "      <td>0.842282</td>\n",
       "      <td>1.205703</td>\n",
       "      <td>3.010869</td>\n",
       "      <td>-1.579064</td>\n",
       "      <td>0</td>\n",
       "      <td>4</td>\n",
       "    </tr>\n",
       "  </tbody>\n",
       "</table>\n",
       "</div>"
      ],
      "text/plain": [
       "       t  n          x           y   grad_ux   grad_uy   grad_vx   grad_vy  \\\n",
       "0  100.0  8   1.785796  146.300585  0.921823  1.000546 -1.095692  1.028605   \n",
       "1  100.0  8  33.337203   50.035993  0.025851  1.662081  1.996952  0.335168   \n",
       "2  100.0  8  47.254566  148.257986  8.299764 -1.328687  0.435730  1.178769   \n",
       "3  100.0  8  51.541287  187.861569 -0.605971  1.443102  0.900137  1.027294   \n",
       "4  100.0  8  62.396859   48.144459  0.842282  1.205703  3.010869 -1.579064   \n",
       "\n",
       "   frame  particle  \n",
       "0      0         0  \n",
       "1      0         1  \n",
       "2      0         2  \n",
       "3      0         3  \n",
       "4      0         4  "
      ]
     },
     "execution_count": 15,
     "metadata": {},
     "output_type": "execute_result"
    }
   ],
   "source": [
    "input_fn=f\"ic003.22_traj_sr_600_mem_0.csv\"\n",
    "trial_folder_name=f\"/home/timothytyree/Documents/GitHub/care/notebooks/Data/initial-conditions-suite-3-LR/param_qu_tmax_30_Ko_5.4_diffCoef_0.0005_dt_0.025\"\n",
    "# input_fn=f\"ic003.22_traj_sr_600_mem_0_unwrap_emsd.csv\"\n",
    "os.chdir(trial_folder_name)\n",
    "os.chdir('trajectories')\n",
    "df=pd.read_csv(input_fn)\n",
    "df.head()"
   ]
  },
  {
   "cell_type": "code",
   "execution_count": 22,
   "metadata": {
    "ExecuteTime": {
     "end_time": "2021-08-02T21:50:08.465490Z",
     "start_time": "2021-08-02T21:44:23.848247Z"
    }
   },
   "outputs": [
    {
     "name": "stderr",
     "output_type": "stream",
     "text": [
      "Exception ignored in: <function WeakValueDictionary.__init__.<locals>.remove at 0x7f6f3770f440>\n",
      "Traceback (most recent call last):\n",
      "  File \"/home/timothytyree/anaconda3/lib/python3.7/weakref.py\", line 109, in remove\n",
      "    def remove(wr, selfref=ref(self), _atomic_removal=_remove_dead_weakref):\n",
      "KeyboardInterrupt\n",
      "Exception ignored in: <function WeakValueDictionary.__init__.<locals>.remove at 0x7f6f3770f440>\n",
      "Traceback (most recent call last):\n",
      "  File \"/home/timothytyree/anaconda3/lib/python3.7/weakref.py\", line 109, in remove\n",
      "    def remove(wr, selfref=ref(self), _atomic_removal=_remove_dead_weakref):\n",
      "KeyboardInterrupt\n"
     ]
    },
    {
     "ename": "KeyboardInterrupt",
     "evalue": "",
     "output_type": "error",
     "traceback": [
      "\u001b[0;31m---------------------------------------------------------------------------\u001b[0m",
      "\u001b[0;31mKeyboardInterrupt\u001b[0m                         Traceback (most recent call last)",
      "\u001b[0;32m<ipython-input-22-671721bc7676>\u001b[0m in \u001b[0;36m<module>\u001b[0;34m\u001b[0m\n\u001b[1;32m      7\u001b[0m     \u001b[0;31m#(duplicates filtered earlier in full model pipeline.  Unnecessary in particle model with explicit tracking_ _  _ _ ) filter_duplicate_trajectory_indices is slow (and can probs be accelerated with a sexy pandas one liner)\u001b[0m\u001b[0;34m\u001b[0m\u001b[0;34m\u001b[0m\u001b[0;34m\u001b[0m\u001b[0m\n\u001b[1;32m      8\u001b[0m     \u001b[0;31m# pid_lst_filtered = filter_duplicate_trajectory_indices(pid_lst,df)\u001b[0m\u001b[0;34m\u001b[0m\u001b[0;34m\u001b[0m\u001b[0;34m\u001b[0m\u001b[0m\n\u001b[0;32m----> 9\u001b[0;31m     \u001b[0mdf\u001b[0m \u001b[0;34m=\u001b[0m \u001b[0mpd\u001b[0m\u001b[0;34m.\u001b[0m\u001b[0mconcat\u001b[0m\u001b[0;34m(\u001b[0m\u001b[0;34m[\u001b[0m\u001b[0munwrap_traj_and_center\u001b[0m\u001b[0;34m(\u001b[0m\u001b[0mdf\u001b[0m\u001b[0;34m[\u001b[0m\u001b[0mdf\u001b[0m\u001b[0;34m[\u001b[0m\u001b[0mpid_col\u001b[0m\u001b[0;34m]\u001b[0m\u001b[0;34m==\u001b[0m\u001b[0mpid\u001b[0m\u001b[0;34m]\u001b[0m\u001b[0;34m,\u001b[0m \u001b[0mwidth\u001b[0m\u001b[0;34m,\u001b[0m \u001b[0mheight\u001b[0m\u001b[0;34m,\u001b[0m \u001b[0;34m**\u001b[0m\u001b[0mkwargs\u001b[0m\u001b[0;34m)\u001b[0m \u001b[0;32mfor\u001b[0m \u001b[0mpid\u001b[0m \u001b[0;32min\u001b[0m \u001b[0mpid_lst\u001b[0m\u001b[0;34m]\u001b[0m\u001b[0;34m)\u001b[0m\u001b[0;34m\u001b[0m\u001b[0;34m\u001b[0m\u001b[0m\n\u001b[0m\u001b[1;32m     10\u001b[0m     \u001b[0mDT\u001b[0m\u001b[0;34m=\u001b[0m\u001b[0mget_DT\u001b[0m\u001b[0;34m(\u001b[0m\u001b[0mdf\u001b[0m\u001b[0;34m,\u001b[0m\u001b[0mpid_col\u001b[0m\u001b[0;34m=\u001b[0m\u001b[0mpid_col\u001b[0m\u001b[0;34m)\u001b[0m \u001b[0;31m#ms\u001b[0m\u001b[0;34m\u001b[0m\u001b[0;34m\u001b[0m\u001b[0m\n\u001b[1;32m     11\u001b[0m     \u001b[0mdf\u001b[0m\u001b[0;34m[\u001b[0m\u001b[0mdf\u001b[0m\u001b[0;34m.\u001b[0m\u001b[0mframe\u001b[0m\u001b[0;34m==\u001b[0m\u001b[0;36m2\u001b[0m\u001b[0;34m]\u001b[0m\u001b[0;34m.\u001b[0m\u001b[0mdescribe\u001b[0m\u001b[0;34m(\u001b[0m\u001b[0;34m)\u001b[0m\u001b[0;34m\u001b[0m\u001b[0;34m\u001b[0m\u001b[0m\n",
      "\u001b[0;32m<ipython-input-22-671721bc7676>\u001b[0m in \u001b[0;36m<listcomp>\u001b[0;34m(.0)\u001b[0m\n\u001b[1;32m      7\u001b[0m     \u001b[0;31m#(duplicates filtered earlier in full model pipeline.  Unnecessary in particle model with explicit tracking_ _  _ _ ) filter_duplicate_trajectory_indices is slow (and can probs be accelerated with a sexy pandas one liner)\u001b[0m\u001b[0;34m\u001b[0m\u001b[0;34m\u001b[0m\u001b[0;34m\u001b[0m\u001b[0m\n\u001b[1;32m      8\u001b[0m     \u001b[0;31m# pid_lst_filtered = filter_duplicate_trajectory_indices(pid_lst,df)\u001b[0m\u001b[0;34m\u001b[0m\u001b[0;34m\u001b[0m\u001b[0;34m\u001b[0m\u001b[0m\n\u001b[0;32m----> 9\u001b[0;31m     \u001b[0mdf\u001b[0m \u001b[0;34m=\u001b[0m \u001b[0mpd\u001b[0m\u001b[0;34m.\u001b[0m\u001b[0mconcat\u001b[0m\u001b[0;34m(\u001b[0m\u001b[0;34m[\u001b[0m\u001b[0munwrap_traj_and_center\u001b[0m\u001b[0;34m(\u001b[0m\u001b[0mdf\u001b[0m\u001b[0;34m[\u001b[0m\u001b[0mdf\u001b[0m\u001b[0;34m[\u001b[0m\u001b[0mpid_col\u001b[0m\u001b[0;34m]\u001b[0m\u001b[0;34m==\u001b[0m\u001b[0mpid\u001b[0m\u001b[0;34m]\u001b[0m\u001b[0;34m,\u001b[0m \u001b[0mwidth\u001b[0m\u001b[0;34m,\u001b[0m \u001b[0mheight\u001b[0m\u001b[0;34m,\u001b[0m \u001b[0;34m**\u001b[0m\u001b[0mkwargs\u001b[0m\u001b[0;34m)\u001b[0m \u001b[0;32mfor\u001b[0m \u001b[0mpid\u001b[0m \u001b[0;32min\u001b[0m \u001b[0mpid_lst\u001b[0m\u001b[0;34m]\u001b[0m\u001b[0;34m)\u001b[0m\u001b[0;34m\u001b[0m\u001b[0;34m\u001b[0m\u001b[0m\n\u001b[0m\u001b[1;32m     10\u001b[0m     \u001b[0mDT\u001b[0m\u001b[0;34m=\u001b[0m\u001b[0mget_DT\u001b[0m\u001b[0;34m(\u001b[0m\u001b[0mdf\u001b[0m\u001b[0;34m,\u001b[0m\u001b[0mpid_col\u001b[0m\u001b[0;34m=\u001b[0m\u001b[0mpid_col\u001b[0m\u001b[0;34m)\u001b[0m \u001b[0;31m#ms\u001b[0m\u001b[0;34m\u001b[0m\u001b[0;34m\u001b[0m\u001b[0m\n\u001b[1;32m     11\u001b[0m     \u001b[0mdf\u001b[0m\u001b[0;34m[\u001b[0m\u001b[0mdf\u001b[0m\u001b[0;34m.\u001b[0m\u001b[0mframe\u001b[0m\u001b[0;34m==\u001b[0m\u001b[0;36m2\u001b[0m\u001b[0;34m]\u001b[0m\u001b[0;34m.\u001b[0m\u001b[0mdescribe\u001b[0m\u001b[0;34m(\u001b[0m\u001b[0;34m)\u001b[0m\u001b[0;34m\u001b[0m\u001b[0;34m\u001b[0m\u001b[0m\n",
      "\u001b[0;32m~/Documents/GitHub/care/notebooks/lib/utils/utils_traj.py\u001b[0m in \u001b[0;36munwrap_traj_and_center\u001b[0;34m(d, width, height, jump_thresh, **kwargs)\u001b[0m\n\u001b[1;32m     78\u001b[0m     \u001b[0mx_values\u001b[0m \u001b[0;34m=\u001b[0m \u001b[0md\u001b[0m\u001b[0;34m.\u001b[0m\u001b[0mx\u001b[0m\u001b[0;34m.\u001b[0m\u001b[0mvalues\u001b[0m\u001b[0;34m.\u001b[0m\u001b[0mastype\u001b[0m\u001b[0;34m(\u001b[0m\u001b[0;34m'float64'\u001b[0m\u001b[0;34m)\u001b[0m\u001b[0;34m\u001b[0m\u001b[0;34m\u001b[0m\u001b[0m\n\u001b[1;32m     79\u001b[0m     \u001b[0my_values\u001b[0m \u001b[0;34m=\u001b[0m \u001b[0md\u001b[0m\u001b[0;34m.\u001b[0m\u001b[0my\u001b[0m\u001b[0;34m.\u001b[0m\u001b[0mvalues\u001b[0m\u001b[0;34m.\u001b[0m\u001b[0mastype\u001b[0m\u001b[0;34m(\u001b[0m\u001b[0;34m'float64'\u001b[0m\u001b[0;34m)\u001b[0m\u001b[0;34m\u001b[0m\u001b[0;34m\u001b[0m\u001b[0m\n\u001b[0;32m---> 80\u001b[0;31m     \u001b[0mxv\u001b[0m\u001b[0;34m,\u001b[0m\u001b[0myv\u001b[0m \u001b[0;34m=\u001b[0m \u001b[0munwrap_and_center_xy_values\u001b[0m\u001b[0;34m(\u001b[0m\u001b[0mx_values\u001b[0m\u001b[0;34m,\u001b[0m\u001b[0my_values\u001b[0m\u001b[0;34m,\u001b[0m\u001b[0mwidth\u001b[0m\u001b[0;34m,\u001b[0m\u001b[0mheight\u001b[0m\u001b[0;34m,\u001b[0m\u001b[0mjump_thresh\u001b[0m\u001b[0;34m=\u001b[0m\u001b[0mjump_thresh\u001b[0m\u001b[0;34m,\u001b[0m\u001b[0;34m**\u001b[0m\u001b[0mkwargs\u001b[0m\u001b[0;34m)\u001b[0m\u001b[0;34m\u001b[0m\u001b[0;34m\u001b[0m\u001b[0m\n\u001b[0m\u001b[1;32m     81\u001b[0m \u001b[0;34m\u001b[0m\u001b[0m\n\u001b[1;32m     82\u001b[0m     \u001b[0;31m#store these values in the dataframe\u001b[0m\u001b[0;34m\u001b[0m\u001b[0;34m\u001b[0m\u001b[0;34m\u001b[0m\u001b[0m\n",
      "\u001b[0;32m~/Documents/GitHub/care/notebooks/lib/utils/utils_traj.py\u001b[0m in \u001b[0;36munwrap_and_center_xy_values\u001b[0;34m(x_values, y_values, width, height, jump_thresh, **kwargs)\u001b[0m\n\u001b[1;32m     62\u001b[0m     \u001b[0;32mif\u001b[0m \u001b[0mjump_thresh\u001b[0m\u001b[0;34m=\u001b[0m\u001b[0;32mNone\u001b[0m\u001b[0;34m,\u001b[0m \u001b[0mthen\u001b[0m \u001b[0mjump_thresh\u001b[0m\u001b[0;34m=\u001b[0m\u001b[0mnp\u001b[0m\u001b[0;34m.\u001b[0m\u001b[0mmin\u001b[0m\u001b[0;34m(\u001b[0m\u001b[0mwidth\u001b[0m\u001b[0;34m,\u001b[0m\u001b[0mheight\u001b[0m\u001b[0;34m)\u001b[0m\u001b[0;34m/\u001b[0m\u001b[0;36m2.\u001b[0m\u001b[0;34m\u001b[0m\u001b[0;34m\u001b[0m\u001b[0m\n\u001b[1;32m     63\u001b[0m     TODO: add support for re-using jit compiled distance_L2_pbc'''\n\u001b[0;32m---> 64\u001b[0;31m     \u001b[0mxv\u001b[0m\u001b[0;34m,\u001b[0m\u001b[0myv\u001b[0m\u001b[0;34m=\u001b[0m\u001b[0munwrap_xy_values\u001b[0m\u001b[0;34m(\u001b[0m\u001b[0mx_values\u001b[0m\u001b[0;34m,\u001b[0m\u001b[0my_values\u001b[0m\u001b[0;34m,\u001b[0m\u001b[0mwidth\u001b[0m\u001b[0;34m,\u001b[0m\u001b[0mheight\u001b[0m\u001b[0;34m,\u001b[0m\u001b[0mjump_thresh\u001b[0m\u001b[0;34m=\u001b[0m\u001b[0mjump_thresh\u001b[0m\u001b[0;34m,\u001b[0m\u001b[0;34m**\u001b[0m\u001b[0mkwargs\u001b[0m\u001b[0;34m)\u001b[0m\u001b[0;34m\u001b[0m\u001b[0;34m\u001b[0m\u001b[0m\n\u001b[0m\u001b[1;32m     65\u001b[0m     \u001b[0;31m#subtract off the initial position for plotting's sake\u001b[0m\u001b[0;34m\u001b[0m\u001b[0;34m\u001b[0m\u001b[0;34m\u001b[0m\u001b[0m\n\u001b[1;32m     66\u001b[0m     \u001b[0mxv\u001b[0m \u001b[0;34m-=\u001b[0m \u001b[0mxv\u001b[0m\u001b[0;34m[\u001b[0m\u001b[0;36m0\u001b[0m\u001b[0;34m]\u001b[0m\u001b[0;34m\u001b[0m\u001b[0;34m\u001b[0m\u001b[0m\n",
      "\u001b[0;32m~/Documents/GitHub/care/notebooks/lib/utils/utils_traj.py\u001b[0m in \u001b[0;36munwrap_xy_values\u001b[0;34m(x_values, y_values, width, height, jump_thresh, **kwargs)\u001b[0m\n\u001b[1;32m     54\u001b[0m     \u001b[0;32mif\u001b[0m \u001b[0mjump_thresh\u001b[0m\u001b[0;34m=\u001b[0m\u001b[0;32mNone\u001b[0m\u001b[0;34m,\u001b[0m \u001b[0mthen\u001b[0m \u001b[0mjump_thresh\u001b[0m\u001b[0;34m=\u001b[0m\u001b[0mnp\u001b[0m\u001b[0;34m.\u001b[0m\u001b[0mmin\u001b[0m\u001b[0;34m(\u001b[0m\u001b[0mwidth\u001b[0m\u001b[0;34m,\u001b[0m\u001b[0mheight\u001b[0m\u001b[0;34m)\u001b[0m\u001b[0;34m/\u001b[0m\u001b[0;36m2.\u001b[0m\u001b[0;34m\u001b[0m\u001b[0;34m\u001b[0m\u001b[0m\n\u001b[1;32m     55\u001b[0m     TODO: add support for re-using jit compiled distance_L2_pbc'''\n\u001b[0;32m---> 56\u001b[0;31m     \u001b[0mjump_index_array\u001b[0m\u001b[0;34m,\u001b[0m \u001b[0mspd_lst\u001b[0m \u001b[0;34m=\u001b[0m \u001b[0mfind_jumps\u001b[0m\u001b[0;34m(\u001b[0m\u001b[0mx_values\u001b[0m\u001b[0;34m,\u001b[0m\u001b[0my_values\u001b[0m\u001b[0;34m,\u001b[0m\u001b[0mwidth\u001b[0m\u001b[0;34m,\u001b[0m\u001b[0mheight\u001b[0m\u001b[0;34m,\u001b[0m\u001b[0mjump_thresh\u001b[0m\u001b[0;34m=\u001b[0m\u001b[0mjump_thresh\u001b[0m\u001b[0;34m,\u001b[0m\u001b[0;34m**\u001b[0m\u001b[0mkwargs\u001b[0m\u001b[0;34m)\u001b[0m\u001b[0;34m\u001b[0m\u001b[0;34m\u001b[0m\u001b[0m\n\u001b[0m\u001b[1;32m     57\u001b[0m     \u001b[0mxv\u001b[0m\u001b[0;34m,\u001b[0m\u001b[0myv\u001b[0m \u001b[0;34m=\u001b[0m \u001b[0munwrap_for_each_jump\u001b[0m\u001b[0;34m(\u001b[0m\u001b[0mx_values\u001b[0m\u001b[0;34m,\u001b[0m\u001b[0my_values\u001b[0m\u001b[0;34m,\u001b[0m\u001b[0mjump_index_array\u001b[0m\u001b[0;34m,\u001b[0m \u001b[0mwidth\u001b[0m\u001b[0;34m=\u001b[0m\u001b[0mwidth\u001b[0m\u001b[0;34m,\u001b[0m\u001b[0mheight\u001b[0m\u001b[0;34m=\u001b[0m\u001b[0mheight\u001b[0m\u001b[0;34m,\u001b[0m\u001b[0mjump_thresh\u001b[0m\u001b[0;34m=\u001b[0m\u001b[0mjump_thresh\u001b[0m\u001b[0;34m,\u001b[0m\u001b[0;34m**\u001b[0m\u001b[0mkwargs\u001b[0m\u001b[0;34m)\u001b[0m\u001b[0;34m\u001b[0m\u001b[0;34m\u001b[0m\u001b[0m\n\u001b[1;32m     58\u001b[0m     \u001b[0;32mreturn\u001b[0m \u001b[0mxv\u001b[0m\u001b[0;34m,\u001b[0m\u001b[0myv\u001b[0m\u001b[0;34m\u001b[0m\u001b[0;34m\u001b[0m\u001b[0m\n",
      "\u001b[0;32m~/Documents/GitHub/care/notebooks/lib/utils/utils_traj.py\u001b[0m in \u001b[0;36mfind_jumps\u001b[0;34m(x_values, y_values, width, height, jump_thresh, distance_L2_pbc, **kwargs)\u001b[0m\n\u001b[1;32m    140\u001b[0m         \u001b[0mthresh\u001b[0m \u001b[0;34m=\u001b[0m \u001b[0mjump_thresh\u001b[0m\u001b[0;34m\u001b[0m\u001b[0;34m\u001b[0m\u001b[0m\n\u001b[1;32m    141\u001b[0m     \u001b[0;32mif\u001b[0m \u001b[0mdistance_L2_pbc\u001b[0m \u001b[0;32mis\u001b[0m \u001b[0;32mNone\u001b[0m\u001b[0;34m:\u001b[0m\u001b[0;34m\u001b[0m\u001b[0;34m\u001b[0m\u001b[0m\n\u001b[0;32m--> 142\u001b[0;31m         \u001b[0mdistance_L2_pbc\u001b[0m \u001b[0;34m=\u001b[0m \u001b[0mget_distance_L2_pbc\u001b[0m\u001b[0;34m(\u001b[0m\u001b[0mwidth\u001b[0m\u001b[0;34m,\u001b[0m\u001b[0mheight\u001b[0m\u001b[0;34m)\u001b[0m\u001b[0;34m\u001b[0m\u001b[0;34m\u001b[0m\u001b[0m\n\u001b[0m\u001b[1;32m    143\u001b[0m     \u001b[0;31m#     DT = 1.#np.mean(d.t.diff().dropna().values) #ms per frame\u001b[0m\u001b[0;34m\u001b[0m\u001b[0;34m\u001b[0m\u001b[0;34m\u001b[0m\u001b[0m\n\u001b[1;32m    144\u001b[0m     \u001b[0;31m#     DS = 5/200 #cm per pixels\u001b[0m\u001b[0;34m\u001b[0m\u001b[0;34m\u001b[0m\u001b[0;34m\u001b[0m\u001b[0m\n",
      "\u001b[0;32m~/Documents/GitHub/care/notebooks/lib/utils/dist_func.py\u001b[0m in \u001b[0;36mget_distance_L2_pbc\u001b[0;34m(width, height)\u001b[0m\n\u001b[1;32m     30\u001b[0m     '''returns a function for the euclidean (L2) distance measure for a 2D rectangle with periodic boundary conditions.\n\u001b[1;32m     31\u001b[0m     width, height are the shape of that 2D rectangle.'''\n\u001b[0;32m---> 32\u001b[0;31m     \u001b[0;34m@\u001b[0m\u001b[0mjit\u001b[0m\u001b[0;34m(\u001b[0m\u001b[0;34m'f8(f8[:],f8[:])'\u001b[0m\u001b[0;34m,\u001b[0m \u001b[0mnopython\u001b[0m\u001b[0;34m=\u001b[0m\u001b[0;32mTrue\u001b[0m\u001b[0;34m)\u001b[0m\u001b[0;34m\u001b[0m\u001b[0;34m\u001b[0m\u001b[0m\n\u001b[0m\u001b[1;32m     33\u001b[0m     \u001b[0;32mdef\u001b[0m \u001b[0mdistance_L2_pbc\u001b[0m\u001b[0;34m(\u001b[0m\u001b[0mpoint_1\u001b[0m\u001b[0;34m,\u001b[0m \u001b[0mpoint_2\u001b[0m\u001b[0;34m)\u001b[0m\u001b[0;34m:\u001b[0m\u001b[0;34m\u001b[0m\u001b[0;34m\u001b[0m\u001b[0m\n\u001b[1;32m     34\u001b[0m         \u001b[0;34m'''assumes getting shortest distance between two points with periodic boundary conditions in 2D.  point_1 and point_2 are iterables of length 2'''\u001b[0m\u001b[0;34m\u001b[0m\u001b[0;34m\u001b[0m\u001b[0m\n",
      "\u001b[0;32m~/anaconda3/lib/python3.7/site-packages/numba/core/decorators.py\u001b[0m in \u001b[0;36mwrapper\u001b[0;34m(func)\u001b[0m\n\u001b[1;32m    219\u001b[0m             \u001b[0;32mwith\u001b[0m \u001b[0mtypeinfer\u001b[0m\u001b[0;34m.\u001b[0m\u001b[0mregister_dispatcher\u001b[0m\u001b[0;34m(\u001b[0m\u001b[0mdisp\u001b[0m\u001b[0;34m)\u001b[0m\u001b[0;34m:\u001b[0m\u001b[0;34m\u001b[0m\u001b[0;34m\u001b[0m\u001b[0m\n\u001b[1;32m    220\u001b[0m                 \u001b[0;32mfor\u001b[0m \u001b[0msig\u001b[0m \u001b[0;32min\u001b[0m \u001b[0msigs\u001b[0m\u001b[0;34m:\u001b[0m\u001b[0;34m\u001b[0m\u001b[0;34m\u001b[0m\u001b[0m\n\u001b[0;32m--> 221\u001b[0;31m                     \u001b[0mdisp\u001b[0m\u001b[0;34m.\u001b[0m\u001b[0mcompile\u001b[0m\u001b[0;34m(\u001b[0m\u001b[0msig\u001b[0m\u001b[0;34m)\u001b[0m\u001b[0;34m\u001b[0m\u001b[0;34m\u001b[0m\u001b[0m\n\u001b[0m\u001b[1;32m    222\u001b[0m                 \u001b[0mdisp\u001b[0m\u001b[0;34m.\u001b[0m\u001b[0mdisable_compile\u001b[0m\u001b[0;34m(\u001b[0m\u001b[0;34m)\u001b[0m\u001b[0;34m\u001b[0m\u001b[0;34m\u001b[0m\u001b[0m\n\u001b[1;32m    223\u001b[0m         \u001b[0;32mreturn\u001b[0m \u001b[0mdisp\u001b[0m\u001b[0;34m\u001b[0m\u001b[0;34m\u001b[0m\u001b[0m\n",
      "\u001b[0;32m~/anaconda3/lib/python3.7/site-packages/numba/core/dispatcher.py\u001b[0m in \u001b[0;36mcompile\u001b[0;34m(self, sig)\u001b[0m\n\u001b[1;32m    907\u001b[0m                 \u001b[0;32mwith\u001b[0m \u001b[0mev\u001b[0m\u001b[0;34m.\u001b[0m\u001b[0mtrigger_event\u001b[0m\u001b[0;34m(\u001b[0m\u001b[0;34m\"numba:compile\"\u001b[0m\u001b[0;34m,\u001b[0m \u001b[0mdata\u001b[0m\u001b[0;34m=\u001b[0m\u001b[0mev_details\u001b[0m\u001b[0;34m)\u001b[0m\u001b[0;34m:\u001b[0m\u001b[0;34m\u001b[0m\u001b[0;34m\u001b[0m\u001b[0m\n\u001b[1;32m    908\u001b[0m                     \u001b[0;32mtry\u001b[0m\u001b[0;34m:\u001b[0m\u001b[0;34m\u001b[0m\u001b[0;34m\u001b[0m\u001b[0m\n\u001b[0;32m--> 909\u001b[0;31m                         \u001b[0mcres\u001b[0m \u001b[0;34m=\u001b[0m \u001b[0mself\u001b[0m\u001b[0;34m.\u001b[0m\u001b[0m_compiler\u001b[0m\u001b[0;34m.\u001b[0m\u001b[0mcompile\u001b[0m\u001b[0;34m(\u001b[0m\u001b[0margs\u001b[0m\u001b[0;34m,\u001b[0m \u001b[0mreturn_type\u001b[0m\u001b[0;34m)\u001b[0m\u001b[0;34m\u001b[0m\u001b[0;34m\u001b[0m\u001b[0m\n\u001b[0m\u001b[1;32m    910\u001b[0m                     \u001b[0;32mexcept\u001b[0m \u001b[0merrors\u001b[0m\u001b[0;34m.\u001b[0m\u001b[0mForceLiteralArg\u001b[0m \u001b[0;32mas\u001b[0m \u001b[0me\u001b[0m\u001b[0;34m:\u001b[0m\u001b[0;34m\u001b[0m\u001b[0;34m\u001b[0m\u001b[0m\n\u001b[1;32m    911\u001b[0m                         \u001b[0;32mdef\u001b[0m \u001b[0mfolded\u001b[0m\u001b[0;34m(\u001b[0m\u001b[0margs\u001b[0m\u001b[0;34m,\u001b[0m \u001b[0mkws\u001b[0m\u001b[0;34m)\u001b[0m\u001b[0;34m:\u001b[0m\u001b[0;34m\u001b[0m\u001b[0;34m\u001b[0m\u001b[0m\n",
      "\u001b[0;32m~/anaconda3/lib/python3.7/site-packages/numba/core/dispatcher.py\u001b[0m in \u001b[0;36mcompile\u001b[0;34m(self, args, return_type)\u001b[0m\n\u001b[1;32m     77\u001b[0m \u001b[0;34m\u001b[0m\u001b[0m\n\u001b[1;32m     78\u001b[0m     \u001b[0;32mdef\u001b[0m \u001b[0mcompile\u001b[0m\u001b[0;34m(\u001b[0m\u001b[0mself\u001b[0m\u001b[0;34m,\u001b[0m \u001b[0margs\u001b[0m\u001b[0;34m,\u001b[0m \u001b[0mreturn_type\u001b[0m\u001b[0;34m)\u001b[0m\u001b[0;34m:\u001b[0m\u001b[0;34m\u001b[0m\u001b[0;34m\u001b[0m\u001b[0m\n\u001b[0;32m---> 79\u001b[0;31m         \u001b[0mstatus\u001b[0m\u001b[0;34m,\u001b[0m \u001b[0mretval\u001b[0m \u001b[0;34m=\u001b[0m \u001b[0mself\u001b[0m\u001b[0;34m.\u001b[0m\u001b[0m_compile_cached\u001b[0m\u001b[0;34m(\u001b[0m\u001b[0margs\u001b[0m\u001b[0;34m,\u001b[0m \u001b[0mreturn_type\u001b[0m\u001b[0;34m)\u001b[0m\u001b[0;34m\u001b[0m\u001b[0;34m\u001b[0m\u001b[0m\n\u001b[0m\u001b[1;32m     80\u001b[0m         \u001b[0;32mif\u001b[0m \u001b[0mstatus\u001b[0m\u001b[0;34m:\u001b[0m\u001b[0;34m\u001b[0m\u001b[0;34m\u001b[0m\u001b[0m\n\u001b[1;32m     81\u001b[0m             \u001b[0;32mreturn\u001b[0m \u001b[0mretval\u001b[0m\u001b[0;34m\u001b[0m\u001b[0;34m\u001b[0m\u001b[0m\n",
      "\u001b[0;32m~/anaconda3/lib/python3.7/site-packages/numba/core/dispatcher.py\u001b[0m in \u001b[0;36m_compile_cached\u001b[0;34m(self, args, return_type)\u001b[0m\n\u001b[1;32m     91\u001b[0m \u001b[0;34m\u001b[0m\u001b[0m\n\u001b[1;32m     92\u001b[0m         \u001b[0;32mtry\u001b[0m\u001b[0;34m:\u001b[0m\u001b[0;34m\u001b[0m\u001b[0;34m\u001b[0m\u001b[0m\n\u001b[0;32m---> 93\u001b[0;31m             \u001b[0mretval\u001b[0m \u001b[0;34m=\u001b[0m \u001b[0mself\u001b[0m\u001b[0;34m.\u001b[0m\u001b[0m_compile_core\u001b[0m\u001b[0;34m(\u001b[0m\u001b[0margs\u001b[0m\u001b[0;34m,\u001b[0m \u001b[0mreturn_type\u001b[0m\u001b[0;34m)\u001b[0m\u001b[0;34m\u001b[0m\u001b[0;34m\u001b[0m\u001b[0m\n\u001b[0m\u001b[1;32m     94\u001b[0m         \u001b[0;32mexcept\u001b[0m \u001b[0merrors\u001b[0m\u001b[0;34m.\u001b[0m\u001b[0mTypingError\u001b[0m \u001b[0;32mas\u001b[0m \u001b[0me\u001b[0m\u001b[0;34m:\u001b[0m\u001b[0;34m\u001b[0m\u001b[0;34m\u001b[0m\u001b[0m\n\u001b[1;32m     95\u001b[0m             \u001b[0mself\u001b[0m\u001b[0;34m.\u001b[0m\u001b[0m_failed_cache\u001b[0m\u001b[0;34m[\u001b[0m\u001b[0mkey\u001b[0m\u001b[0;34m]\u001b[0m \u001b[0;34m=\u001b[0m \u001b[0me\u001b[0m\u001b[0;34m\u001b[0m\u001b[0;34m\u001b[0m\u001b[0m\n",
      "\u001b[0;32m~/anaconda3/lib/python3.7/site-packages/numba/core/dispatcher.py\u001b[0m in \u001b[0;36m_compile_core\u001b[0;34m(self, args, return_type)\u001b[0m\n\u001b[1;32m    109\u001b[0m                                       \u001b[0margs\u001b[0m\u001b[0;34m=\u001b[0m\u001b[0margs\u001b[0m\u001b[0;34m,\u001b[0m \u001b[0mreturn_type\u001b[0m\u001b[0;34m=\u001b[0m\u001b[0mreturn_type\u001b[0m\u001b[0;34m,\u001b[0m\u001b[0;34m\u001b[0m\u001b[0;34m\u001b[0m\u001b[0m\n\u001b[1;32m    110\u001b[0m                                       \u001b[0mflags\u001b[0m\u001b[0;34m=\u001b[0m\u001b[0mflags\u001b[0m\u001b[0;34m,\u001b[0m \u001b[0mlocals\u001b[0m\u001b[0;34m=\u001b[0m\u001b[0mself\u001b[0m\u001b[0;34m.\u001b[0m\u001b[0mlocals\u001b[0m\u001b[0;34m,\u001b[0m\u001b[0;34m\u001b[0m\u001b[0;34m\u001b[0m\u001b[0m\n\u001b[0;32m--> 111\u001b[0;31m                                       pipeline_class=self.pipeline_class)\n\u001b[0m\u001b[1;32m    112\u001b[0m         \u001b[0;31m# Check typing error if object mode is used\u001b[0m\u001b[0;34m\u001b[0m\u001b[0;34m\u001b[0m\u001b[0;34m\u001b[0m\u001b[0m\n\u001b[1;32m    113\u001b[0m         \u001b[0;32mif\u001b[0m \u001b[0mcres\u001b[0m\u001b[0;34m.\u001b[0m\u001b[0mtyping_error\u001b[0m \u001b[0;32mis\u001b[0m \u001b[0;32mnot\u001b[0m \u001b[0;32mNone\u001b[0m \u001b[0;32mand\u001b[0m \u001b[0;32mnot\u001b[0m \u001b[0mflags\u001b[0m\u001b[0;34m.\u001b[0m\u001b[0menable_pyobject\u001b[0m\u001b[0;34m:\u001b[0m\u001b[0;34m\u001b[0m\u001b[0;34m\u001b[0m\u001b[0m\n",
      "\u001b[0;32m~/anaconda3/lib/python3.7/site-packages/numba/core/compiler.py\u001b[0m in \u001b[0;36mcompile_extra\u001b[0;34m(typingctx, targetctx, func, args, return_type, flags, locals, library, pipeline_class)\u001b[0m\n\u001b[1;32m    604\u001b[0m     pipeline = pipeline_class(typingctx, targetctx, library,\n\u001b[1;32m    605\u001b[0m                               args, return_type, flags, locals)\n\u001b[0;32m--> 606\u001b[0;31m     \u001b[0;32mreturn\u001b[0m \u001b[0mpipeline\u001b[0m\u001b[0;34m.\u001b[0m\u001b[0mcompile_extra\u001b[0m\u001b[0;34m(\u001b[0m\u001b[0mfunc\u001b[0m\u001b[0;34m)\u001b[0m\u001b[0;34m\u001b[0m\u001b[0;34m\u001b[0m\u001b[0m\n\u001b[0m\u001b[1;32m    607\u001b[0m \u001b[0;34m\u001b[0m\u001b[0m\n\u001b[1;32m    608\u001b[0m \u001b[0;34m\u001b[0m\u001b[0m\n",
      "\u001b[0;32m~/anaconda3/lib/python3.7/site-packages/numba/core/compiler.py\u001b[0m in \u001b[0;36mcompile_extra\u001b[0;34m(self, func)\u001b[0m\n\u001b[1;32m    351\u001b[0m         \u001b[0mself\u001b[0m\u001b[0;34m.\u001b[0m\u001b[0mstate\u001b[0m\u001b[0;34m.\u001b[0m\u001b[0mlifted\u001b[0m \u001b[0;34m=\u001b[0m \u001b[0;34m(\u001b[0m\u001b[0;34m)\u001b[0m\u001b[0;34m\u001b[0m\u001b[0;34m\u001b[0m\u001b[0m\n\u001b[1;32m    352\u001b[0m         \u001b[0mself\u001b[0m\u001b[0;34m.\u001b[0m\u001b[0mstate\u001b[0m\u001b[0;34m.\u001b[0m\u001b[0mlifted_from\u001b[0m \u001b[0;34m=\u001b[0m \u001b[0;32mNone\u001b[0m\u001b[0;34m\u001b[0m\u001b[0;34m\u001b[0m\u001b[0m\n\u001b[0;32m--> 353\u001b[0;31m         \u001b[0;32mreturn\u001b[0m \u001b[0mself\u001b[0m\u001b[0;34m.\u001b[0m\u001b[0m_compile_bytecode\u001b[0m\u001b[0;34m(\u001b[0m\u001b[0;34m)\u001b[0m\u001b[0;34m\u001b[0m\u001b[0;34m\u001b[0m\u001b[0m\n\u001b[0m\u001b[1;32m    354\u001b[0m \u001b[0;34m\u001b[0m\u001b[0m\n\u001b[1;32m    355\u001b[0m     \u001b[0;32mdef\u001b[0m \u001b[0mcompile_ir\u001b[0m\u001b[0;34m(\u001b[0m\u001b[0mself\u001b[0m\u001b[0;34m,\u001b[0m \u001b[0mfunc_ir\u001b[0m\u001b[0;34m,\u001b[0m \u001b[0mlifted\u001b[0m\u001b[0;34m=\u001b[0m\u001b[0;34m(\u001b[0m\u001b[0;34m)\u001b[0m\u001b[0;34m,\u001b[0m \u001b[0mlifted_from\u001b[0m\u001b[0;34m=\u001b[0m\u001b[0;32mNone\u001b[0m\u001b[0;34m)\u001b[0m\u001b[0;34m:\u001b[0m\u001b[0;34m\u001b[0m\u001b[0;34m\u001b[0m\u001b[0m\n",
      "\u001b[0;32m~/anaconda3/lib/python3.7/site-packages/numba/core/compiler.py\u001b[0m in \u001b[0;36m_compile_bytecode\u001b[0;34m(self)\u001b[0m\n\u001b[1;32m    413\u001b[0m         \"\"\"\n\u001b[1;32m    414\u001b[0m         \u001b[0;32massert\u001b[0m \u001b[0mself\u001b[0m\u001b[0;34m.\u001b[0m\u001b[0mstate\u001b[0m\u001b[0;34m.\u001b[0m\u001b[0mfunc_ir\u001b[0m \u001b[0;32mis\u001b[0m \u001b[0;32mNone\u001b[0m\u001b[0;34m\u001b[0m\u001b[0;34m\u001b[0m\u001b[0m\n\u001b[0;32m--> 415\u001b[0;31m         \u001b[0;32mreturn\u001b[0m \u001b[0mself\u001b[0m\u001b[0;34m.\u001b[0m\u001b[0m_compile_core\u001b[0m\u001b[0;34m(\u001b[0m\u001b[0;34m)\u001b[0m\u001b[0;34m\u001b[0m\u001b[0;34m\u001b[0m\u001b[0m\n\u001b[0m\u001b[1;32m    416\u001b[0m \u001b[0;34m\u001b[0m\u001b[0m\n\u001b[1;32m    417\u001b[0m     \u001b[0;32mdef\u001b[0m \u001b[0m_compile_ir\u001b[0m\u001b[0;34m(\u001b[0m\u001b[0mself\u001b[0m\u001b[0;34m)\u001b[0m\u001b[0;34m:\u001b[0m\u001b[0;34m\u001b[0m\u001b[0;34m\u001b[0m\u001b[0m\n",
      "\u001b[0;32m~/anaconda3/lib/python3.7/site-packages/numba/core/compiler.py\u001b[0m in \u001b[0;36m_compile_core\u001b[0;34m(self)\u001b[0m\n\u001b[1;32m    384\u001b[0m             \u001b[0mres\u001b[0m \u001b[0;34m=\u001b[0m \u001b[0;32mNone\u001b[0m\u001b[0;34m\u001b[0m\u001b[0;34m\u001b[0m\u001b[0m\n\u001b[1;32m    385\u001b[0m             \u001b[0;32mtry\u001b[0m\u001b[0;34m:\u001b[0m\u001b[0;34m\u001b[0m\u001b[0;34m\u001b[0m\u001b[0m\n\u001b[0;32m--> 386\u001b[0;31m                 \u001b[0mpm\u001b[0m\u001b[0;34m.\u001b[0m\u001b[0mrun\u001b[0m\u001b[0;34m(\u001b[0m\u001b[0mself\u001b[0m\u001b[0;34m.\u001b[0m\u001b[0mstate\u001b[0m\u001b[0;34m)\u001b[0m\u001b[0;34m\u001b[0m\u001b[0;34m\u001b[0m\u001b[0m\n\u001b[0m\u001b[1;32m    387\u001b[0m                 \u001b[0;32mif\u001b[0m \u001b[0mself\u001b[0m\u001b[0;34m.\u001b[0m\u001b[0mstate\u001b[0m\u001b[0;34m.\u001b[0m\u001b[0mcr\u001b[0m \u001b[0;32mis\u001b[0m \u001b[0;32mnot\u001b[0m \u001b[0;32mNone\u001b[0m\u001b[0;34m:\u001b[0m\u001b[0;34m\u001b[0m\u001b[0;34m\u001b[0m\u001b[0m\n\u001b[1;32m    388\u001b[0m                     \u001b[0;32mbreak\u001b[0m\u001b[0;34m\u001b[0m\u001b[0;34m\u001b[0m\u001b[0m\n",
      "\u001b[0;32m~/anaconda3/lib/python3.7/site-packages/numba/core/compiler_machinery.py\u001b[0m in \u001b[0;36mrun\u001b[0;34m(self, state)\u001b[0m\n\u001b[1;32m    328\u001b[0m                 \u001b[0mpass_inst\u001b[0m \u001b[0;34m=\u001b[0m \u001b[0m_pass_registry\u001b[0m\u001b[0;34m.\u001b[0m\u001b[0mget\u001b[0m\u001b[0;34m(\u001b[0m\u001b[0mpss\u001b[0m\u001b[0;34m)\u001b[0m\u001b[0;34m.\u001b[0m\u001b[0mpass_inst\u001b[0m\u001b[0;34m\u001b[0m\u001b[0;34m\u001b[0m\u001b[0m\n\u001b[1;32m    329\u001b[0m                 \u001b[0;32mif\u001b[0m \u001b[0misinstance\u001b[0m\u001b[0;34m(\u001b[0m\u001b[0mpass_inst\u001b[0m\u001b[0;34m,\u001b[0m \u001b[0mCompilerPass\u001b[0m\u001b[0;34m)\u001b[0m\u001b[0;34m:\u001b[0m\u001b[0;34m\u001b[0m\u001b[0;34m\u001b[0m\u001b[0m\n\u001b[0;32m--> 330\u001b[0;31m                     \u001b[0mself\u001b[0m\u001b[0;34m.\u001b[0m\u001b[0m_runPass\u001b[0m\u001b[0;34m(\u001b[0m\u001b[0midx\u001b[0m\u001b[0;34m,\u001b[0m \u001b[0mpass_inst\u001b[0m\u001b[0;34m,\u001b[0m \u001b[0mstate\u001b[0m\u001b[0;34m)\u001b[0m\u001b[0;34m\u001b[0m\u001b[0;34m\u001b[0m\u001b[0m\n\u001b[0m\u001b[1;32m    331\u001b[0m                 \u001b[0;32melse\u001b[0m\u001b[0;34m:\u001b[0m\u001b[0;34m\u001b[0m\u001b[0;34m\u001b[0m\u001b[0m\n\u001b[1;32m    332\u001b[0m                     \u001b[0;32mraise\u001b[0m \u001b[0mBaseException\u001b[0m\u001b[0;34m(\u001b[0m\u001b[0;34m\"Legacy pass in use\"\u001b[0m\u001b[0;34m)\u001b[0m\u001b[0;34m\u001b[0m\u001b[0;34m\u001b[0m\u001b[0m\n",
      "\u001b[0;32m~/anaconda3/lib/python3.7/site-packages/numba/core/compiler_lock.py\u001b[0m in \u001b[0;36m_acquire_compile_lock\u001b[0;34m(*args, **kwargs)\u001b[0m\n\u001b[1;32m     33\u001b[0m         \u001b[0;32mdef\u001b[0m \u001b[0m_acquire_compile_lock\u001b[0m\u001b[0;34m(\u001b[0m\u001b[0;34m*\u001b[0m\u001b[0margs\u001b[0m\u001b[0;34m,\u001b[0m \u001b[0;34m**\u001b[0m\u001b[0mkwargs\u001b[0m\u001b[0;34m)\u001b[0m\u001b[0;34m:\u001b[0m\u001b[0;34m\u001b[0m\u001b[0;34m\u001b[0m\u001b[0m\n\u001b[1;32m     34\u001b[0m             \u001b[0;32mwith\u001b[0m \u001b[0mself\u001b[0m\u001b[0;34m:\u001b[0m\u001b[0;34m\u001b[0m\u001b[0;34m\u001b[0m\u001b[0m\n\u001b[0;32m---> 35\u001b[0;31m                 \u001b[0;32mreturn\u001b[0m \u001b[0mfunc\u001b[0m\u001b[0;34m(\u001b[0m\u001b[0;34m*\u001b[0m\u001b[0margs\u001b[0m\u001b[0;34m,\u001b[0m \u001b[0;34m**\u001b[0m\u001b[0mkwargs\u001b[0m\u001b[0;34m)\u001b[0m\u001b[0;34m\u001b[0m\u001b[0;34m\u001b[0m\u001b[0m\n\u001b[0m\u001b[1;32m     36\u001b[0m         \u001b[0;32mreturn\u001b[0m \u001b[0m_acquire_compile_lock\u001b[0m\u001b[0;34m\u001b[0m\u001b[0;34m\u001b[0m\u001b[0m\n\u001b[1;32m     37\u001b[0m \u001b[0;34m\u001b[0m\u001b[0m\n",
      "\u001b[0;32m~/anaconda3/lib/python3.7/site-packages/numba/core/compiler_machinery.py\u001b[0m in \u001b[0;36m_runPass\u001b[0;34m(self, index, pss, internal_state)\u001b[0m\n\u001b[1;32m    287\u001b[0m             \u001b[0mmutated\u001b[0m \u001b[0;34m|=\u001b[0m \u001b[0mcheck\u001b[0m\u001b[0;34m(\u001b[0m\u001b[0mpss\u001b[0m\u001b[0;34m.\u001b[0m\u001b[0mrun_initialization\u001b[0m\u001b[0;34m,\u001b[0m \u001b[0minternal_state\u001b[0m\u001b[0;34m)\u001b[0m\u001b[0;34m\u001b[0m\u001b[0;34m\u001b[0m\u001b[0m\n\u001b[1;32m    288\u001b[0m         \u001b[0;32mwith\u001b[0m \u001b[0mSimpleTimer\u001b[0m\u001b[0;34m(\u001b[0m\u001b[0;34m)\u001b[0m \u001b[0;32mas\u001b[0m \u001b[0mpass_time\u001b[0m\u001b[0;34m:\u001b[0m\u001b[0;34m\u001b[0m\u001b[0;34m\u001b[0m\u001b[0m\n\u001b[0;32m--> 289\u001b[0;31m             \u001b[0mmutated\u001b[0m \u001b[0;34m|=\u001b[0m \u001b[0mcheck\u001b[0m\u001b[0;34m(\u001b[0m\u001b[0mpss\u001b[0m\u001b[0;34m.\u001b[0m\u001b[0mrun_pass\u001b[0m\u001b[0;34m,\u001b[0m \u001b[0minternal_state\u001b[0m\u001b[0;34m)\u001b[0m\u001b[0;34m\u001b[0m\u001b[0;34m\u001b[0m\u001b[0m\n\u001b[0m\u001b[1;32m    290\u001b[0m         \u001b[0;32mwith\u001b[0m \u001b[0mSimpleTimer\u001b[0m\u001b[0;34m(\u001b[0m\u001b[0;34m)\u001b[0m \u001b[0;32mas\u001b[0m \u001b[0mfinalize_time\u001b[0m\u001b[0;34m:\u001b[0m\u001b[0;34m\u001b[0m\u001b[0;34m\u001b[0m\u001b[0m\n\u001b[1;32m    291\u001b[0m             \u001b[0mmutated\u001b[0m \u001b[0;34m|=\u001b[0m \u001b[0mcheck\u001b[0m\u001b[0;34m(\u001b[0m\u001b[0mpss\u001b[0m\u001b[0;34m.\u001b[0m\u001b[0mrun_finalizer\u001b[0m\u001b[0;34m,\u001b[0m \u001b[0minternal_state\u001b[0m\u001b[0;34m)\u001b[0m\u001b[0;34m\u001b[0m\u001b[0;34m\u001b[0m\u001b[0m\n",
      "\u001b[0;32m~/anaconda3/lib/python3.7/site-packages/numba/core/compiler_machinery.py\u001b[0m in \u001b[0;36mcheck\u001b[0;34m(func, compiler_state)\u001b[0m\n\u001b[1;32m    260\u001b[0m \u001b[0;34m\u001b[0m\u001b[0m\n\u001b[1;32m    261\u001b[0m         \u001b[0;32mdef\u001b[0m \u001b[0mcheck\u001b[0m\u001b[0;34m(\u001b[0m\u001b[0mfunc\u001b[0m\u001b[0;34m,\u001b[0m \u001b[0mcompiler_state\u001b[0m\u001b[0;34m)\u001b[0m\u001b[0;34m:\u001b[0m\u001b[0;34m\u001b[0m\u001b[0;34m\u001b[0m\u001b[0m\n\u001b[0;32m--> 262\u001b[0;31m             \u001b[0mmangled\u001b[0m \u001b[0;34m=\u001b[0m \u001b[0mfunc\u001b[0m\u001b[0;34m(\u001b[0m\u001b[0mcompiler_state\u001b[0m\u001b[0;34m)\u001b[0m\u001b[0;34m\u001b[0m\u001b[0;34m\u001b[0m\u001b[0m\n\u001b[0m\u001b[1;32m    263\u001b[0m             \u001b[0;32mif\u001b[0m \u001b[0mmangled\u001b[0m \u001b[0;32mnot\u001b[0m \u001b[0;32min\u001b[0m \u001b[0;34m(\u001b[0m\u001b[0;32mTrue\u001b[0m\u001b[0;34m,\u001b[0m \u001b[0;32mFalse\u001b[0m\u001b[0;34m)\u001b[0m\u001b[0;34m:\u001b[0m\u001b[0;34m\u001b[0m\u001b[0;34m\u001b[0m\u001b[0m\n\u001b[1;32m    264\u001b[0m                 msg = (\"CompilerPass implementations should return True/False. \"\n",
      "\u001b[0;32m~/anaconda3/lib/python3.7/site-packages/numba/core/typed_passes.py\u001b[0m in \u001b[0;36mrun_pass\u001b[0;34m(self, state)\u001b[0m\n\u001b[1;32m    461\u001b[0m \u001b[0;34m\u001b[0m\u001b[0m\n\u001b[1;32m    462\u001b[0m         \u001b[0;31m# TODO: Pull this out into the pipeline\u001b[0m\u001b[0;34m\u001b[0m\u001b[0;34m\u001b[0m\u001b[0;34m\u001b[0m\u001b[0m\n\u001b[0;32m--> 463\u001b[0;31m         \u001b[0mNativeLowering\u001b[0m\u001b[0;34m(\u001b[0m\u001b[0;34m)\u001b[0m\u001b[0;34m.\u001b[0m\u001b[0mrun_pass\u001b[0m\u001b[0;34m(\u001b[0m\u001b[0mstate\u001b[0m\u001b[0;34m)\u001b[0m\u001b[0;34m\u001b[0m\u001b[0;34m\u001b[0m\u001b[0m\n\u001b[0m\u001b[1;32m    464\u001b[0m         \u001b[0mlowered\u001b[0m \u001b[0;34m=\u001b[0m \u001b[0mstate\u001b[0m\u001b[0;34m[\u001b[0m\u001b[0;34m'cr'\u001b[0m\u001b[0;34m]\u001b[0m\u001b[0;34m\u001b[0m\u001b[0;34m\u001b[0m\u001b[0m\n\u001b[1;32m    465\u001b[0m         \u001b[0msignature\u001b[0m \u001b[0;34m=\u001b[0m \u001b[0mtyping\u001b[0m\u001b[0;34m.\u001b[0m\u001b[0msignature\u001b[0m\u001b[0;34m(\u001b[0m\u001b[0mstate\u001b[0m\u001b[0;34m.\u001b[0m\u001b[0mreturn_type\u001b[0m\u001b[0;34m,\u001b[0m \u001b[0;34m*\u001b[0m\u001b[0mstate\u001b[0m\u001b[0;34m.\u001b[0m\u001b[0margs\u001b[0m\u001b[0;34m)\u001b[0m\u001b[0;34m\u001b[0m\u001b[0;34m\u001b[0m\u001b[0m\n",
      "\u001b[0;32m~/anaconda3/lib/python3.7/site-packages/numba/core/typed_passes.py\u001b[0m in \u001b[0;36mrun_pass\u001b[0;34m(self, state)\u001b[0m\n\u001b[1;32m    382\u001b[0m                 lower = lowering.Lower(targetctx, library, fndesc, interp,\n\u001b[1;32m    383\u001b[0m                                        metadata=metadata)\n\u001b[0;32m--> 384\u001b[0;31m                 \u001b[0mlower\u001b[0m\u001b[0;34m.\u001b[0m\u001b[0mlower\u001b[0m\u001b[0;34m(\u001b[0m\u001b[0;34m)\u001b[0m\u001b[0;34m\u001b[0m\u001b[0;34m\u001b[0m\u001b[0m\n\u001b[0m\u001b[1;32m    385\u001b[0m                 \u001b[0;32mif\u001b[0m \u001b[0;32mnot\u001b[0m \u001b[0mflags\u001b[0m\u001b[0;34m.\u001b[0m\u001b[0mno_cpython_wrapper\u001b[0m\u001b[0;34m:\u001b[0m\u001b[0;34m\u001b[0m\u001b[0;34m\u001b[0m\u001b[0m\n\u001b[1;32m    386\u001b[0m                     \u001b[0mlower\u001b[0m\u001b[0;34m.\u001b[0m\u001b[0mcreate_cpython_wrapper\u001b[0m\u001b[0;34m(\u001b[0m\u001b[0mflags\u001b[0m\u001b[0;34m.\u001b[0m\u001b[0mrelease_gil\u001b[0m\u001b[0;34m)\u001b[0m\u001b[0;34m\u001b[0m\u001b[0;34m\u001b[0m\u001b[0m\n",
      "\u001b[0;32m~/anaconda3/lib/python3.7/site-packages/numba/core/lowering.py\u001b[0m in \u001b[0;36mlower\u001b[0;34m(self)\u001b[0m\n\u001b[1;32m    134\u001b[0m         \u001b[0;32mif\u001b[0m \u001b[0mself\u001b[0m\u001b[0;34m.\u001b[0m\u001b[0mgenerator_info\u001b[0m \u001b[0;32mis\u001b[0m \u001b[0;32mNone\u001b[0m\u001b[0;34m:\u001b[0m\u001b[0;34m\u001b[0m\u001b[0;34m\u001b[0m\u001b[0m\n\u001b[1;32m    135\u001b[0m             \u001b[0mself\u001b[0m\u001b[0;34m.\u001b[0m\u001b[0mgenlower\u001b[0m \u001b[0;34m=\u001b[0m \u001b[0;32mNone\u001b[0m\u001b[0;34m\u001b[0m\u001b[0;34m\u001b[0m\u001b[0m\n\u001b[0;32m--> 136\u001b[0;31m             \u001b[0mself\u001b[0m\u001b[0;34m.\u001b[0m\u001b[0mlower_normal_function\u001b[0m\u001b[0;34m(\u001b[0m\u001b[0mself\u001b[0m\u001b[0;34m.\u001b[0m\u001b[0mfndesc\u001b[0m\u001b[0;34m)\u001b[0m\u001b[0;34m\u001b[0m\u001b[0;34m\u001b[0m\u001b[0m\n\u001b[0m\u001b[1;32m    137\u001b[0m         \u001b[0;32melse\u001b[0m\u001b[0;34m:\u001b[0m\u001b[0;34m\u001b[0m\u001b[0;34m\u001b[0m\u001b[0m\n\u001b[1;32m    138\u001b[0m             \u001b[0mself\u001b[0m\u001b[0;34m.\u001b[0m\u001b[0mgenlower\u001b[0m \u001b[0;34m=\u001b[0m \u001b[0mself\u001b[0m\u001b[0;34m.\u001b[0m\u001b[0mGeneratorLower\u001b[0m\u001b[0;34m(\u001b[0m\u001b[0mself\u001b[0m\u001b[0;34m)\u001b[0m\u001b[0;34m\u001b[0m\u001b[0;34m\u001b[0m\u001b[0m\n",
      "\u001b[0;32m~/anaconda3/lib/python3.7/site-packages/numba/core/lowering.py\u001b[0m in \u001b[0;36mlower_normal_function\u001b[0;34m(self, fndesc)\u001b[0m\n\u001b[1;32m    188\u001b[0m         \u001b[0;31m# Init argument values\u001b[0m\u001b[0;34m\u001b[0m\u001b[0;34m\u001b[0m\u001b[0;34m\u001b[0m\u001b[0m\n\u001b[1;32m    189\u001b[0m         \u001b[0mself\u001b[0m\u001b[0;34m.\u001b[0m\u001b[0mextract_function_arguments\u001b[0m\u001b[0;34m(\u001b[0m\u001b[0;34m)\u001b[0m\u001b[0;34m\u001b[0m\u001b[0;34m\u001b[0m\u001b[0m\n\u001b[0;32m--> 190\u001b[0;31m         \u001b[0mentry_block_tail\u001b[0m \u001b[0;34m=\u001b[0m \u001b[0mself\u001b[0m\u001b[0;34m.\u001b[0m\u001b[0mlower_function_body\u001b[0m\u001b[0;34m(\u001b[0m\u001b[0;34m)\u001b[0m\u001b[0;34m\u001b[0m\u001b[0;34m\u001b[0m\u001b[0m\n\u001b[0m\u001b[1;32m    191\u001b[0m \u001b[0;34m\u001b[0m\u001b[0m\n\u001b[1;32m    192\u001b[0m         \u001b[0;31m# Close tail of entry block\u001b[0m\u001b[0;34m\u001b[0m\u001b[0;34m\u001b[0m\u001b[0;34m\u001b[0m\u001b[0m\n",
      "\u001b[0;32m~/anaconda3/lib/python3.7/site-packages/numba/core/lowering.py\u001b[0m in \u001b[0;36mlower_function_body\u001b[0;34m(self)\u001b[0m\n\u001b[1;32m    214\u001b[0m             \u001b[0mbb\u001b[0m \u001b[0;34m=\u001b[0m \u001b[0mself\u001b[0m\u001b[0;34m.\u001b[0m\u001b[0mblkmap\u001b[0m\u001b[0;34m[\u001b[0m\u001b[0moffset\u001b[0m\u001b[0;34m]\u001b[0m\u001b[0;34m\u001b[0m\u001b[0;34m\u001b[0m\u001b[0m\n\u001b[1;32m    215\u001b[0m             \u001b[0mself\u001b[0m\u001b[0;34m.\u001b[0m\u001b[0mbuilder\u001b[0m\u001b[0;34m.\u001b[0m\u001b[0mposition_at_end\u001b[0m\u001b[0;34m(\u001b[0m\u001b[0mbb\u001b[0m\u001b[0;34m)\u001b[0m\u001b[0;34m\u001b[0m\u001b[0;34m\u001b[0m\u001b[0m\n\u001b[0;32m--> 216\u001b[0;31m             \u001b[0mself\u001b[0m\u001b[0;34m.\u001b[0m\u001b[0mlower_block\u001b[0m\u001b[0;34m(\u001b[0m\u001b[0mblock\u001b[0m\u001b[0;34m)\u001b[0m\u001b[0;34m\u001b[0m\u001b[0;34m\u001b[0m\u001b[0m\n\u001b[0m\u001b[1;32m    217\u001b[0m         \u001b[0mself\u001b[0m\u001b[0;34m.\u001b[0m\u001b[0mpost_lower\u001b[0m\u001b[0;34m(\u001b[0m\u001b[0;34m)\u001b[0m\u001b[0;34m\u001b[0m\u001b[0;34m\u001b[0m\u001b[0m\n\u001b[1;32m    218\u001b[0m         \u001b[0;32mreturn\u001b[0m \u001b[0mentry_block_tail\u001b[0m\u001b[0;34m\u001b[0m\u001b[0;34m\u001b[0m\u001b[0m\n",
      "\u001b[0;32m~/anaconda3/lib/python3.7/site-packages/numba/core/lowering.py\u001b[0m in \u001b[0;36mlower_block\u001b[0;34m(self, block)\u001b[0m\n\u001b[1;32m    228\u001b[0m             with new_error_context('lowering \"{inst}\" at {loc}', inst=inst,\n\u001b[1;32m    229\u001b[0m                                    loc=self.loc, errcls_=defaulterrcls):\n\u001b[0;32m--> 230\u001b[0;31m                 \u001b[0mself\u001b[0m\u001b[0;34m.\u001b[0m\u001b[0mlower_inst\u001b[0m\u001b[0;34m(\u001b[0m\u001b[0minst\u001b[0m\u001b[0;34m)\u001b[0m\u001b[0;34m\u001b[0m\u001b[0;34m\u001b[0m\u001b[0m\n\u001b[0m\u001b[1;32m    231\u001b[0m         \u001b[0mself\u001b[0m\u001b[0;34m.\u001b[0m\u001b[0mpost_block\u001b[0m\u001b[0;34m(\u001b[0m\u001b[0mblock\u001b[0m\u001b[0;34m)\u001b[0m\u001b[0;34m\u001b[0m\u001b[0;34m\u001b[0m\u001b[0m\n\u001b[1;32m    232\u001b[0m \u001b[0;34m\u001b[0m\u001b[0m\n",
      "\u001b[0;32m~/anaconda3/lib/python3.7/site-packages/numba/core/lowering.py\u001b[0m in \u001b[0;36mlower_inst\u001b[0;34m(self, inst)\u001b[0m\n\u001b[1;32m    325\u001b[0m         \u001b[0;32mif\u001b[0m \u001b[0misinstance\u001b[0m\u001b[0;34m(\u001b[0m\u001b[0minst\u001b[0m\u001b[0;34m,\u001b[0m \u001b[0mir\u001b[0m\u001b[0;34m.\u001b[0m\u001b[0mAssign\u001b[0m\u001b[0;34m)\u001b[0m\u001b[0;34m:\u001b[0m\u001b[0;34m\u001b[0m\u001b[0;34m\u001b[0m\u001b[0m\n\u001b[1;32m    326\u001b[0m             \u001b[0mty\u001b[0m \u001b[0;34m=\u001b[0m \u001b[0mself\u001b[0m\u001b[0;34m.\u001b[0m\u001b[0mtypeof\u001b[0m\u001b[0;34m(\u001b[0m\u001b[0minst\u001b[0m\u001b[0;34m.\u001b[0m\u001b[0mtarget\u001b[0m\u001b[0;34m.\u001b[0m\u001b[0mname\u001b[0m\u001b[0;34m)\u001b[0m\u001b[0;34m\u001b[0m\u001b[0;34m\u001b[0m\u001b[0m\n\u001b[0;32m--> 327\u001b[0;31m             \u001b[0mval\u001b[0m \u001b[0;34m=\u001b[0m \u001b[0mself\u001b[0m\u001b[0;34m.\u001b[0m\u001b[0mlower_assign\u001b[0m\u001b[0;34m(\u001b[0m\u001b[0mty\u001b[0m\u001b[0;34m,\u001b[0m \u001b[0minst\u001b[0m\u001b[0;34m)\u001b[0m\u001b[0;34m\u001b[0m\u001b[0;34m\u001b[0m\u001b[0m\n\u001b[0m\u001b[1;32m    328\u001b[0m             \u001b[0mself\u001b[0m\u001b[0;34m.\u001b[0m\u001b[0mstorevar\u001b[0m\u001b[0;34m(\u001b[0m\u001b[0mval\u001b[0m\u001b[0;34m,\u001b[0m \u001b[0minst\u001b[0m\u001b[0;34m.\u001b[0m\u001b[0mtarget\u001b[0m\u001b[0;34m.\u001b[0m\u001b[0mname\u001b[0m\u001b[0;34m)\u001b[0m\u001b[0;34m\u001b[0m\u001b[0;34m\u001b[0m\u001b[0m\n\u001b[1;32m    329\u001b[0m \u001b[0;34m\u001b[0m\u001b[0m\n",
      "\u001b[0;32m~/anaconda3/lib/python3.7/site-packages/numba/core/lowering.py\u001b[0m in \u001b[0;36mlower_assign\u001b[0;34m(self, ty, inst)\u001b[0m\n\u001b[1;32m    500\u001b[0m \u001b[0;34m\u001b[0m\u001b[0m\n\u001b[1;32m    501\u001b[0m         \u001b[0;32melif\u001b[0m \u001b[0misinstance\u001b[0m\u001b[0;34m(\u001b[0m\u001b[0mvalue\u001b[0m\u001b[0;34m,\u001b[0m \u001b[0mir\u001b[0m\u001b[0;34m.\u001b[0m\u001b[0mExpr\u001b[0m\u001b[0;34m)\u001b[0m\u001b[0;34m:\u001b[0m\u001b[0;34m\u001b[0m\u001b[0;34m\u001b[0m\u001b[0m\n\u001b[0;32m--> 502\u001b[0;31m             \u001b[0;32mreturn\u001b[0m \u001b[0mself\u001b[0m\u001b[0;34m.\u001b[0m\u001b[0mlower_expr\u001b[0m\u001b[0;34m(\u001b[0m\u001b[0mty\u001b[0m\u001b[0;34m,\u001b[0m \u001b[0mvalue\u001b[0m\u001b[0;34m)\u001b[0m\u001b[0;34m\u001b[0m\u001b[0;34m\u001b[0m\u001b[0m\n\u001b[0m\u001b[1;32m    503\u001b[0m \u001b[0;34m\u001b[0m\u001b[0m\n\u001b[1;32m    504\u001b[0m         \u001b[0;32melif\u001b[0m \u001b[0misinstance\u001b[0m\u001b[0;34m(\u001b[0m\u001b[0mvalue\u001b[0m\u001b[0;34m,\u001b[0m \u001b[0mir\u001b[0m\u001b[0;34m.\u001b[0m\u001b[0mVar\u001b[0m\u001b[0;34m)\u001b[0m\u001b[0;34m:\u001b[0m\u001b[0;34m\u001b[0m\u001b[0;34m\u001b[0m\u001b[0m\n",
      "\u001b[0;32m~/anaconda3/lib/python3.7/site-packages/numba/core/lowering.py\u001b[0m in \u001b[0;36mlower_expr\u001b[0;34m(self, resty, expr)\u001b[0m\n\u001b[1;32m   1021\u001b[0m \u001b[0;34m\u001b[0m\u001b[0m\n\u001b[1;32m   1022\u001b[0m         \u001b[0;32melif\u001b[0m \u001b[0mexpr\u001b[0m\u001b[0;34m.\u001b[0m\u001b[0mop\u001b[0m \u001b[0;34m==\u001b[0m \u001b[0;34m'call'\u001b[0m\u001b[0;34m:\u001b[0m\u001b[0;34m\u001b[0m\u001b[0;34m\u001b[0m\u001b[0m\n\u001b[0;32m-> 1023\u001b[0;31m             \u001b[0mres\u001b[0m \u001b[0;34m=\u001b[0m \u001b[0mself\u001b[0m\u001b[0;34m.\u001b[0m\u001b[0mlower_call\u001b[0m\u001b[0;34m(\u001b[0m\u001b[0mresty\u001b[0m\u001b[0;34m,\u001b[0m \u001b[0mexpr\u001b[0m\u001b[0;34m)\u001b[0m\u001b[0;34m\u001b[0m\u001b[0;34m\u001b[0m\u001b[0m\n\u001b[0m\u001b[1;32m   1024\u001b[0m             \u001b[0;32mreturn\u001b[0m \u001b[0mres\u001b[0m\u001b[0;34m\u001b[0m\u001b[0;34m\u001b[0m\u001b[0m\n\u001b[1;32m   1025\u001b[0m \u001b[0;34m\u001b[0m\u001b[0m\n",
      "\u001b[0;32m~/anaconda3/lib/python3.7/site-packages/numba/core/lowering.py\u001b[0m in \u001b[0;36mlower_call\u001b[0;34m(self, resty, expr)\u001b[0m\n\u001b[1;32m    759\u001b[0m \u001b[0;34m\u001b[0m\u001b[0m\n\u001b[1;32m    760\u001b[0m         \u001b[0;32melse\u001b[0m\u001b[0;34m:\u001b[0m\u001b[0;34m\u001b[0m\u001b[0;34m\u001b[0m\u001b[0m\n\u001b[0;32m--> 761\u001b[0;31m             \u001b[0mres\u001b[0m \u001b[0;34m=\u001b[0m \u001b[0mself\u001b[0m\u001b[0;34m.\u001b[0m\u001b[0m_lower_call_normal\u001b[0m\u001b[0;34m(\u001b[0m\u001b[0mfnty\u001b[0m\u001b[0;34m,\u001b[0m \u001b[0mexpr\u001b[0m\u001b[0;34m,\u001b[0m \u001b[0msignature\u001b[0m\u001b[0;34m)\u001b[0m\u001b[0;34m\u001b[0m\u001b[0;34m\u001b[0m\u001b[0m\n\u001b[0m\u001b[1;32m    762\u001b[0m \u001b[0;34m\u001b[0m\u001b[0m\n\u001b[1;32m    763\u001b[0m         \u001b[0;31m# If lowering the call returned None, interpret that as returning dummy\u001b[0m\u001b[0;34m\u001b[0m\u001b[0;34m\u001b[0m\u001b[0;34m\u001b[0m\u001b[0m\n",
      "\u001b[0;32m~/anaconda3/lib/python3.7/site-packages/numba/core/lowering.py\u001b[0m in \u001b[0;36m_lower_call_normal\u001b[0;34m(self, fnty, expr, signature)\u001b[0m\n\u001b[1;32m    992\u001b[0m             \u001b[0margvals\u001b[0m \u001b[0;34m=\u001b[0m \u001b[0;34m[\u001b[0m\u001b[0mthe_self\u001b[0m\u001b[0;34m]\u001b[0m \u001b[0;34m+\u001b[0m \u001b[0mlist\u001b[0m\u001b[0;34m(\u001b[0m\u001b[0margvals\u001b[0m\u001b[0;34m)\u001b[0m\u001b[0;34m\u001b[0m\u001b[0;34m\u001b[0m\u001b[0m\n\u001b[1;32m    993\u001b[0m \u001b[0;34m\u001b[0m\u001b[0m\n\u001b[0;32m--> 994\u001b[0;31m         \u001b[0mres\u001b[0m \u001b[0;34m=\u001b[0m \u001b[0mimpl\u001b[0m\u001b[0;34m(\u001b[0m\u001b[0mself\u001b[0m\u001b[0;34m.\u001b[0m\u001b[0mbuilder\u001b[0m\u001b[0;34m,\u001b[0m \u001b[0margvals\u001b[0m\u001b[0;34m,\u001b[0m \u001b[0mself\u001b[0m\u001b[0;34m.\u001b[0m\u001b[0mloc\u001b[0m\u001b[0;34m)\u001b[0m\u001b[0;34m\u001b[0m\u001b[0;34m\u001b[0m\u001b[0m\n\u001b[0m\u001b[1;32m    995\u001b[0m         \u001b[0;32mreturn\u001b[0m \u001b[0mres\u001b[0m\u001b[0;34m\u001b[0m\u001b[0;34m\u001b[0m\u001b[0m\n\u001b[1;32m    996\u001b[0m \u001b[0;34m\u001b[0m\u001b[0m\n",
      "\u001b[0;32m~/anaconda3/lib/python3.7/site-packages/numba/core/base.py\u001b[0m in \u001b[0;36m__call__\u001b[0;34m(self, builder, args, loc)\u001b[0m\n\u001b[1;32m   1163\u001b[0m \u001b[0;34m\u001b[0m\u001b[0m\n\u001b[1;32m   1164\u001b[0m     \u001b[0;32mdef\u001b[0m \u001b[0m__call__\u001b[0m\u001b[0;34m(\u001b[0m\u001b[0mself\u001b[0m\u001b[0;34m,\u001b[0m \u001b[0mbuilder\u001b[0m\u001b[0;34m,\u001b[0m \u001b[0margs\u001b[0m\u001b[0;34m,\u001b[0m \u001b[0mloc\u001b[0m\u001b[0;34m=\u001b[0m\u001b[0;32mNone\u001b[0m\u001b[0;34m)\u001b[0m\u001b[0;34m:\u001b[0m\u001b[0;34m\u001b[0m\u001b[0;34m\u001b[0m\u001b[0m\n\u001b[0;32m-> 1165\u001b[0;31m         \u001b[0mres\u001b[0m \u001b[0;34m=\u001b[0m \u001b[0mself\u001b[0m\u001b[0;34m.\u001b[0m\u001b[0m_imp\u001b[0m\u001b[0;34m(\u001b[0m\u001b[0mself\u001b[0m\u001b[0;34m.\u001b[0m\u001b[0m_context\u001b[0m\u001b[0;34m,\u001b[0m \u001b[0mbuilder\u001b[0m\u001b[0;34m,\u001b[0m \u001b[0mself\u001b[0m\u001b[0;34m.\u001b[0m\u001b[0m_sig\u001b[0m\u001b[0;34m,\u001b[0m \u001b[0margs\u001b[0m\u001b[0;34m,\u001b[0m \u001b[0mloc\u001b[0m\u001b[0;34m=\u001b[0m\u001b[0mloc\u001b[0m\u001b[0;34m)\u001b[0m\u001b[0;34m\u001b[0m\u001b[0;34m\u001b[0m\u001b[0m\n\u001b[0m\u001b[1;32m   1166\u001b[0m         \u001b[0mself\u001b[0m\u001b[0;34m.\u001b[0m\u001b[0m_context\u001b[0m\u001b[0;34m.\u001b[0m\u001b[0madd_linking_libs\u001b[0m\u001b[0;34m(\u001b[0m\u001b[0mgetattr\u001b[0m\u001b[0;34m(\u001b[0m\u001b[0mself\u001b[0m\u001b[0;34m,\u001b[0m \u001b[0;34m'libs'\u001b[0m\u001b[0;34m,\u001b[0m \u001b[0;34m(\u001b[0m\u001b[0;34m)\u001b[0m\u001b[0;34m)\u001b[0m\u001b[0;34m)\u001b[0m\u001b[0;34m\u001b[0m\u001b[0;34m\u001b[0m\u001b[0m\n\u001b[1;32m   1167\u001b[0m         \u001b[0;32mreturn\u001b[0m \u001b[0mres\u001b[0m\u001b[0;34m\u001b[0m\u001b[0;34m\u001b[0m\u001b[0m\n",
      "\u001b[0;32m~/anaconda3/lib/python3.7/site-packages/numba/core/base.py\u001b[0m in \u001b[0;36mwrapper\u001b[0;34m(*args, **kwargs)\u001b[0m\n\u001b[1;32m   1193\u001b[0m             \u001b[0;32mdef\u001b[0m \u001b[0mwrapper\u001b[0m\u001b[0;34m(\u001b[0m\u001b[0;34m*\u001b[0m\u001b[0margs\u001b[0m\u001b[0;34m,\u001b[0m \u001b[0;34m**\u001b[0m\u001b[0mkwargs\u001b[0m\u001b[0;34m)\u001b[0m\u001b[0;34m:\u001b[0m\u001b[0;34m\u001b[0m\u001b[0;34m\u001b[0m\u001b[0m\n\u001b[1;32m   1194\u001b[0m                 \u001b[0mkwargs\u001b[0m\u001b[0;34m.\u001b[0m\u001b[0mpop\u001b[0m\u001b[0;34m(\u001b[0m\u001b[0;34m'loc'\u001b[0m\u001b[0;34m)\u001b[0m     \u001b[0;31m# drop unused loc\u001b[0m\u001b[0;34m\u001b[0m\u001b[0;34m\u001b[0m\u001b[0m\n\u001b[0;32m-> 1195\u001b[0;31m                 \u001b[0;32mreturn\u001b[0m \u001b[0mfn\u001b[0m\u001b[0;34m(\u001b[0m\u001b[0;34m*\u001b[0m\u001b[0margs\u001b[0m\u001b[0;34m,\u001b[0m \u001b[0;34m**\u001b[0m\u001b[0mkwargs\u001b[0m\u001b[0;34m)\u001b[0m\u001b[0;34m\u001b[0m\u001b[0;34m\u001b[0m\u001b[0m\n\u001b[0m\u001b[1;32m   1196\u001b[0m \u001b[0;34m\u001b[0m\u001b[0m\n\u001b[1;32m   1197\u001b[0m             \u001b[0;31m# Copy the following attributes from the wrapped.\u001b[0m\u001b[0;34m\u001b[0m\u001b[0;34m\u001b[0m\u001b[0;34m\u001b[0m\u001b[0m\n",
      "\u001b[0;32m~/anaconda3/lib/python3.7/site-packages/numba/cpython/iterators.py\u001b[0m in \u001b[0;36mmake_zip_object\u001b[0;34m(context, builder, sig, args)\u001b[0m\n\u001b[1;32m     78\u001b[0m \u001b[0;34m\u001b[0m\u001b[0m\n\u001b[1;32m     79\u001b[0m     \u001b[0;32mfor\u001b[0m \u001b[0mi\u001b[0m\u001b[0;34m,\u001b[0m \u001b[0;34m(\u001b[0m\u001b[0marg\u001b[0m\u001b[0;34m,\u001b[0m \u001b[0msrcty\u001b[0m\u001b[0;34m)\u001b[0m \u001b[0;32min\u001b[0m \u001b[0menumerate\u001b[0m\u001b[0;34m(\u001b[0m\u001b[0mzip\u001b[0m\u001b[0;34m(\u001b[0m\u001b[0margs\u001b[0m\u001b[0;34m,\u001b[0m \u001b[0msig\u001b[0m\u001b[0;34m.\u001b[0m\u001b[0margs\u001b[0m\u001b[0;34m)\u001b[0m\u001b[0;34m)\u001b[0m\u001b[0;34m:\u001b[0m\u001b[0;34m\u001b[0m\u001b[0;34m\u001b[0m\u001b[0m\n\u001b[0;32m---> 80\u001b[0;31m         \u001b[0mzipobj\u001b[0m\u001b[0;34m[\u001b[0m\u001b[0mi\u001b[0m\u001b[0;34m]\u001b[0m \u001b[0;34m=\u001b[0m \u001b[0mcall_getiter\u001b[0m\u001b[0;34m(\u001b[0m\u001b[0mcontext\u001b[0m\u001b[0;34m,\u001b[0m \u001b[0mbuilder\u001b[0m\u001b[0;34m,\u001b[0m \u001b[0msrcty\u001b[0m\u001b[0;34m,\u001b[0m \u001b[0marg\u001b[0m\u001b[0;34m)\u001b[0m\u001b[0;34m\u001b[0m\u001b[0;34m\u001b[0m\u001b[0m\n\u001b[0m\u001b[1;32m     81\u001b[0m \u001b[0;34m\u001b[0m\u001b[0m\n\u001b[1;32m     82\u001b[0m     \u001b[0mres\u001b[0m \u001b[0;34m=\u001b[0m \u001b[0mzipobj\u001b[0m\u001b[0;34m.\u001b[0m\u001b[0m_getvalue\u001b[0m\u001b[0;34m(\u001b[0m\u001b[0;34m)\u001b[0m\u001b[0;34m\u001b[0m\u001b[0;34m\u001b[0m\u001b[0m\n",
      "\u001b[0;32m~/anaconda3/lib/python3.7/site-packages/numba/core/imputils.py\u001b[0m in \u001b[0;36mcall_getiter\u001b[0;34m(context, builder, iterable_type, val)\u001b[0m\n\u001b[1;32m    353\u001b[0m     \u001b[0mgetiter_sig\u001b[0m \u001b[0;34m=\u001b[0m \u001b[0mtyping\u001b[0m\u001b[0;34m.\u001b[0m\u001b[0msignature\u001b[0m\u001b[0;34m(\u001b[0m\u001b[0miterable_type\u001b[0m\u001b[0;34m.\u001b[0m\u001b[0miterator_type\u001b[0m\u001b[0;34m,\u001b[0m \u001b[0miterable_type\u001b[0m\u001b[0;34m)\u001b[0m\u001b[0;34m\u001b[0m\u001b[0;34m\u001b[0m\u001b[0m\n\u001b[1;32m    354\u001b[0m     \u001b[0mgetiter_impl\u001b[0m \u001b[0;34m=\u001b[0m \u001b[0mcontext\u001b[0m\u001b[0;34m.\u001b[0m\u001b[0mget_function\u001b[0m\u001b[0;34m(\u001b[0m\u001b[0;34m'getiter'\u001b[0m\u001b[0;34m,\u001b[0m \u001b[0mgetiter_sig\u001b[0m\u001b[0;34m)\u001b[0m\u001b[0;34m\u001b[0m\u001b[0;34m\u001b[0m\u001b[0m\n\u001b[0;32m--> 355\u001b[0;31m     \u001b[0;32mreturn\u001b[0m \u001b[0mgetiter_impl\u001b[0m\u001b[0;34m(\u001b[0m\u001b[0mbuilder\u001b[0m\u001b[0;34m,\u001b[0m \u001b[0;34m(\u001b[0m\u001b[0mval\u001b[0m\u001b[0;34m,\u001b[0m\u001b[0;34m)\u001b[0m\u001b[0;34m)\u001b[0m\u001b[0;34m\u001b[0m\u001b[0;34m\u001b[0m\u001b[0m\n\u001b[0m\u001b[1;32m    356\u001b[0m \u001b[0;34m\u001b[0m\u001b[0m\n\u001b[1;32m    357\u001b[0m \u001b[0;34m\u001b[0m\u001b[0m\n",
      "\u001b[0;32m~/anaconda3/lib/python3.7/site-packages/numba/core/base.py\u001b[0m in \u001b[0;36m__call__\u001b[0;34m(self, builder, args, loc)\u001b[0m\n\u001b[1;32m   1163\u001b[0m \u001b[0;34m\u001b[0m\u001b[0m\n\u001b[1;32m   1164\u001b[0m     \u001b[0;32mdef\u001b[0m \u001b[0m__call__\u001b[0m\u001b[0;34m(\u001b[0m\u001b[0mself\u001b[0m\u001b[0;34m,\u001b[0m \u001b[0mbuilder\u001b[0m\u001b[0;34m,\u001b[0m \u001b[0margs\u001b[0m\u001b[0;34m,\u001b[0m \u001b[0mloc\u001b[0m\u001b[0;34m=\u001b[0m\u001b[0;32mNone\u001b[0m\u001b[0;34m)\u001b[0m\u001b[0;34m:\u001b[0m\u001b[0;34m\u001b[0m\u001b[0;34m\u001b[0m\u001b[0m\n\u001b[0;32m-> 1165\u001b[0;31m         \u001b[0mres\u001b[0m \u001b[0;34m=\u001b[0m \u001b[0mself\u001b[0m\u001b[0;34m.\u001b[0m\u001b[0m_imp\u001b[0m\u001b[0;34m(\u001b[0m\u001b[0mself\u001b[0m\u001b[0;34m.\u001b[0m\u001b[0m_context\u001b[0m\u001b[0;34m,\u001b[0m \u001b[0mbuilder\u001b[0m\u001b[0;34m,\u001b[0m \u001b[0mself\u001b[0m\u001b[0;34m.\u001b[0m\u001b[0m_sig\u001b[0m\u001b[0;34m,\u001b[0m \u001b[0margs\u001b[0m\u001b[0;34m,\u001b[0m \u001b[0mloc\u001b[0m\u001b[0;34m=\u001b[0m\u001b[0mloc\u001b[0m\u001b[0;34m)\u001b[0m\u001b[0;34m\u001b[0m\u001b[0;34m\u001b[0m\u001b[0m\n\u001b[0m\u001b[1;32m   1166\u001b[0m         \u001b[0mself\u001b[0m\u001b[0;34m.\u001b[0m\u001b[0m_context\u001b[0m\u001b[0;34m.\u001b[0m\u001b[0madd_linking_libs\u001b[0m\u001b[0;34m(\u001b[0m\u001b[0mgetattr\u001b[0m\u001b[0;34m(\u001b[0m\u001b[0mself\u001b[0m\u001b[0;34m,\u001b[0m \u001b[0;34m'libs'\u001b[0m\u001b[0;34m,\u001b[0m \u001b[0;34m(\u001b[0m\u001b[0;34m)\u001b[0m\u001b[0;34m)\u001b[0m\u001b[0;34m)\u001b[0m\u001b[0;34m\u001b[0m\u001b[0;34m\u001b[0m\u001b[0m\n\u001b[1;32m   1167\u001b[0m         \u001b[0;32mreturn\u001b[0m \u001b[0mres\u001b[0m\u001b[0;34m\u001b[0m\u001b[0;34m\u001b[0m\u001b[0m\n",
      "\u001b[0;32m~/anaconda3/lib/python3.7/site-packages/numba/core/base.py\u001b[0m in \u001b[0;36mwrapper\u001b[0;34m(*args, **kwargs)\u001b[0m\n\u001b[1;32m   1193\u001b[0m             \u001b[0;32mdef\u001b[0m \u001b[0mwrapper\u001b[0m\u001b[0;34m(\u001b[0m\u001b[0;34m*\u001b[0m\u001b[0margs\u001b[0m\u001b[0;34m,\u001b[0m \u001b[0;34m**\u001b[0m\u001b[0mkwargs\u001b[0m\u001b[0;34m)\u001b[0m\u001b[0;34m:\u001b[0m\u001b[0;34m\u001b[0m\u001b[0;34m\u001b[0m\u001b[0m\n\u001b[1;32m   1194\u001b[0m                 \u001b[0mkwargs\u001b[0m\u001b[0;34m.\u001b[0m\u001b[0mpop\u001b[0m\u001b[0;34m(\u001b[0m\u001b[0;34m'loc'\u001b[0m\u001b[0;34m)\u001b[0m     \u001b[0;31m# drop unused loc\u001b[0m\u001b[0;34m\u001b[0m\u001b[0;34m\u001b[0m\u001b[0m\n\u001b[0;32m-> 1195\u001b[0;31m                 \u001b[0;32mreturn\u001b[0m \u001b[0mfn\u001b[0m\u001b[0;34m(\u001b[0m\u001b[0;34m*\u001b[0m\u001b[0margs\u001b[0m\u001b[0;34m,\u001b[0m \u001b[0;34m**\u001b[0m\u001b[0mkwargs\u001b[0m\u001b[0;34m)\u001b[0m\u001b[0;34m\u001b[0m\u001b[0;34m\u001b[0m\u001b[0m\n\u001b[0m\u001b[1;32m   1196\u001b[0m \u001b[0;34m\u001b[0m\u001b[0m\n\u001b[1;32m   1197\u001b[0m             \u001b[0;31m# Copy the following attributes from the wrapped.\u001b[0m\u001b[0;34m\u001b[0m\u001b[0;34m\u001b[0m\u001b[0;34m\u001b[0m\u001b[0m\n",
      "\u001b[0;32m~/anaconda3/lib/python3.7/site-packages/numba/np/arrayobj.py\u001b[0m in \u001b[0;36mgetiter_array\u001b[0;34m(context, builder, sig, args)\u001b[0m\n\u001b[1;32m    263\u001b[0m     \u001b[0mindexptr\u001b[0m \u001b[0;34m=\u001b[0m \u001b[0mcgutils\u001b[0m\u001b[0;34m.\u001b[0m\u001b[0malloca_once_value\u001b[0m\u001b[0;34m(\u001b[0m\u001b[0mbuilder\u001b[0m\u001b[0;34m,\u001b[0m \u001b[0mzero\u001b[0m\u001b[0;34m)\u001b[0m\u001b[0;34m\u001b[0m\u001b[0;34m\u001b[0m\u001b[0m\n\u001b[1;32m    264\u001b[0m \u001b[0;34m\u001b[0m\u001b[0m\n\u001b[0;32m--> 265\u001b[0;31m     \u001b[0miterobj\u001b[0m\u001b[0;34m.\u001b[0m\u001b[0mindex\u001b[0m \u001b[0;34m=\u001b[0m \u001b[0mindexptr\u001b[0m\u001b[0;34m\u001b[0m\u001b[0;34m\u001b[0m\u001b[0m\n\u001b[0m\u001b[1;32m    266\u001b[0m     \u001b[0miterobj\u001b[0m\u001b[0;34m.\u001b[0m\u001b[0marray\u001b[0m \u001b[0;34m=\u001b[0m \u001b[0marray\u001b[0m\u001b[0;34m\u001b[0m\u001b[0;34m\u001b[0m\u001b[0m\n\u001b[1;32m    267\u001b[0m \u001b[0;34m\u001b[0m\u001b[0m\n",
      "\u001b[0;32m~/anaconda3/lib/python3.7/site-packages/numba/core/cgutils.py\u001b[0m in \u001b[0;36m__setattr__\u001b[0;34m(self, field, value)\u001b[0m\n\u001b[1;32m    162\u001b[0m         \u001b[0;32mif\u001b[0m \u001b[0mfield\u001b[0m\u001b[0;34m.\u001b[0m\u001b[0mstartswith\u001b[0m\u001b[0;34m(\u001b[0m\u001b[0;34m'_'\u001b[0m\u001b[0;34m)\u001b[0m\u001b[0;34m:\u001b[0m\u001b[0;34m\u001b[0m\u001b[0;34m\u001b[0m\u001b[0m\n\u001b[1;32m    163\u001b[0m             \u001b[0;32mreturn\u001b[0m \u001b[0msuper\u001b[0m\u001b[0;34m(\u001b[0m\u001b[0m_StructProxy\u001b[0m\u001b[0;34m,\u001b[0m \u001b[0mself\u001b[0m\u001b[0;34m)\u001b[0m\u001b[0;34m.\u001b[0m\u001b[0m__setattr__\u001b[0m\u001b[0;34m(\u001b[0m\u001b[0mfield\u001b[0m\u001b[0;34m,\u001b[0m \u001b[0mvalue\u001b[0m\u001b[0;34m)\u001b[0m\u001b[0;34m\u001b[0m\u001b[0;34m\u001b[0m\u001b[0m\n\u001b[0;32m--> 164\u001b[0;31m         \u001b[0mself\u001b[0m\u001b[0;34m[\u001b[0m\u001b[0mself\u001b[0m\u001b[0;34m.\u001b[0m\u001b[0m_datamodel\u001b[0m\u001b[0;34m.\u001b[0m\u001b[0mget_field_position\u001b[0m\u001b[0;34m(\u001b[0m\u001b[0mfield\u001b[0m\u001b[0;34m)\u001b[0m\u001b[0;34m]\u001b[0m \u001b[0;34m=\u001b[0m \u001b[0mvalue\u001b[0m\u001b[0;34m\u001b[0m\u001b[0;34m\u001b[0m\u001b[0m\n\u001b[0m\u001b[1;32m    165\u001b[0m \u001b[0;34m\u001b[0m\u001b[0m\n\u001b[1;32m    166\u001b[0m     \u001b[0;32mdef\u001b[0m \u001b[0m__getitem__\u001b[0m\u001b[0;34m(\u001b[0m\u001b[0mself\u001b[0m\u001b[0;34m,\u001b[0m \u001b[0mindex\u001b[0m\u001b[0;34m)\u001b[0m\u001b[0;34m:\u001b[0m\u001b[0;34m\u001b[0m\u001b[0;34m\u001b[0m\u001b[0m\n",
      "\u001b[0;32m~/anaconda3/lib/python3.7/site-packages/numba/core/cgutils.py\u001b[0m in \u001b[0;36m__setitem__\u001b[0;34m(self, index, value)\u001b[0m\n\u001b[1;32m    175\u001b[0m         \u001b[0mStore\u001b[0m \u001b[0mthe\u001b[0m \u001b[0mLLVM\u001b[0m \u001b[0;34m*\u001b[0m\u001b[0mvalue\u001b[0m\u001b[0;34m*\u001b[0m \u001b[0minto\u001b[0m \u001b[0mthe\u001b[0m \u001b[0mfield\u001b[0m \u001b[0mat\u001b[0m \u001b[0;34m*\u001b[0m\u001b[0mindex\u001b[0m\u001b[0;34m*\u001b[0m\u001b[0;34m.\u001b[0m\u001b[0;34m\u001b[0m\u001b[0;34m\u001b[0m\u001b[0m\n\u001b[1;32m    176\u001b[0m         \"\"\"\n\u001b[0;32m--> 177\u001b[0;31m         \u001b[0mptr\u001b[0m \u001b[0;34m=\u001b[0m \u001b[0mself\u001b[0m\u001b[0;34m.\u001b[0m\u001b[0m_get_ptr_by_index\u001b[0m\u001b[0;34m(\u001b[0m\u001b[0mindex\u001b[0m\u001b[0;34m)\u001b[0m\u001b[0;34m\u001b[0m\u001b[0;34m\u001b[0m\u001b[0m\n\u001b[0m\u001b[1;32m    178\u001b[0m         \u001b[0mvalue\u001b[0m \u001b[0;34m=\u001b[0m \u001b[0mself\u001b[0m\u001b[0;34m.\u001b[0m\u001b[0m_cast_member_from_value\u001b[0m\u001b[0;34m(\u001b[0m\u001b[0mindex\u001b[0m\u001b[0;34m,\u001b[0m \u001b[0mvalue\u001b[0m\u001b[0;34m)\u001b[0m\u001b[0;34m\u001b[0m\u001b[0;34m\u001b[0m\u001b[0m\n\u001b[1;32m    179\u001b[0m         \u001b[0;32mif\u001b[0m \u001b[0mvalue\u001b[0m\u001b[0;34m.\u001b[0m\u001b[0mtype\u001b[0m \u001b[0;34m!=\u001b[0m \u001b[0mptr\u001b[0m\u001b[0;34m.\u001b[0m\u001b[0mtype\u001b[0m\u001b[0;34m.\u001b[0m\u001b[0mpointee\u001b[0m\u001b[0;34m:\u001b[0m\u001b[0;34m\u001b[0m\u001b[0;34m\u001b[0m\u001b[0m\n",
      "\u001b[0;32m~/anaconda3/lib/python3.7/site-packages/numba/core/cgutils.py\u001b[0m in \u001b[0;36m_get_ptr_by_index\u001b[0;34m(self, index)\u001b[0m\n\u001b[1;32m    141\u001b[0m \u001b[0;34m\u001b[0m\u001b[0m\n\u001b[1;32m    142\u001b[0m     \u001b[0;32mdef\u001b[0m \u001b[0m_get_ptr_by_index\u001b[0m\u001b[0;34m(\u001b[0m\u001b[0mself\u001b[0m\u001b[0;34m,\u001b[0m \u001b[0mindex\u001b[0m\u001b[0;34m)\u001b[0m\u001b[0;34m:\u001b[0m\u001b[0;34m\u001b[0m\u001b[0;34m\u001b[0m\u001b[0m\n\u001b[0;32m--> 143\u001b[0;31m         \u001b[0;32mreturn\u001b[0m \u001b[0mgep_inbounds\u001b[0m\u001b[0;34m(\u001b[0m\u001b[0mself\u001b[0m\u001b[0;34m.\u001b[0m\u001b[0m_builder\u001b[0m\u001b[0;34m,\u001b[0m \u001b[0mself\u001b[0m\u001b[0;34m.\u001b[0m\u001b[0m_value\u001b[0m\u001b[0;34m,\u001b[0m \u001b[0;36m0\u001b[0m\u001b[0;34m,\u001b[0m \u001b[0mindex\u001b[0m\u001b[0;34m)\u001b[0m\u001b[0;34m\u001b[0m\u001b[0;34m\u001b[0m\u001b[0m\n\u001b[0m\u001b[1;32m    144\u001b[0m \u001b[0;34m\u001b[0m\u001b[0m\n\u001b[1;32m    145\u001b[0m     \u001b[0;32mdef\u001b[0m \u001b[0m_get_ptr_by_name\u001b[0m\u001b[0;34m(\u001b[0m\u001b[0mself\u001b[0m\u001b[0;34m,\u001b[0m \u001b[0mattrname\u001b[0m\u001b[0;34m)\u001b[0m\u001b[0;34m:\u001b[0m\u001b[0;34m\u001b[0m\u001b[0;34m\u001b[0m\u001b[0m\n",
      "\u001b[0;32m~/anaconda3/lib/python3.7/site-packages/numba/core/cgutils.py\u001b[0m in \u001b[0;36mgep_inbounds\u001b[0;34m(builder, ptr, *inds, **kws)\u001b[0m\n\u001b[1;32m    868\u001b[0m     \u001b[0mSame\u001b[0m \u001b[0;32mas\u001b[0m \u001b[0;34m*\u001b[0m\u001b[0mgep\u001b[0m\u001b[0;34m*\u001b[0m\u001b[0;34m,\u001b[0m \u001b[0mbut\u001b[0m \u001b[0madd\u001b[0m \u001b[0mthe\u001b[0m\u001b[0;31m \u001b[0m\u001b[0;31m`\u001b[0m\u001b[0minbounds\u001b[0m\u001b[0;31m`\u001b[0m \u001b[0mkeyword\u001b[0m\u001b[0;34m.\u001b[0m\u001b[0;34m\u001b[0m\u001b[0;34m\u001b[0m\u001b[0m\n\u001b[1;32m    869\u001b[0m     \"\"\"\n\u001b[0;32m--> 870\u001b[0;31m     \u001b[0;32mreturn\u001b[0m \u001b[0mgep\u001b[0m\u001b[0;34m(\u001b[0m\u001b[0mbuilder\u001b[0m\u001b[0;34m,\u001b[0m \u001b[0mptr\u001b[0m\u001b[0;34m,\u001b[0m \u001b[0;34m*\u001b[0m\u001b[0minds\u001b[0m\u001b[0;34m,\u001b[0m \u001b[0minbounds\u001b[0m\u001b[0;34m=\u001b[0m\u001b[0;32mTrue\u001b[0m\u001b[0;34m,\u001b[0m \u001b[0;34m**\u001b[0m\u001b[0mkws\u001b[0m\u001b[0;34m)\u001b[0m\u001b[0;34m\u001b[0m\u001b[0;34m\u001b[0m\u001b[0m\n\u001b[0m\u001b[1;32m    871\u001b[0m \u001b[0;34m\u001b[0m\u001b[0m\n\u001b[1;32m    872\u001b[0m \u001b[0;34m\u001b[0m\u001b[0m\n",
      "\u001b[0;32m~/anaconda3/lib/python3.7/site-packages/numba/core/cgutils.py\u001b[0m in \u001b[0;36mgep\u001b[0;34m(builder, ptr, *inds, **kws)\u001b[0m\n\u001b[1;32m    876\u001b[0m     \u001b[0mThe\u001b[0m \u001b[0mindices\u001b[0m \u001b[0mcan\u001b[0m \u001b[0mbe\u001b[0m \u001b[0mLLVM\u001b[0m \u001b[0mvalues\u001b[0m \u001b[0;32mor\u001b[0m \u001b[0mPython\u001b[0m \u001b[0mint\u001b[0m \u001b[0mconstants\u001b[0m\u001b[0;34m.\u001b[0m\u001b[0;34m\u001b[0m\u001b[0;34m\u001b[0m\u001b[0m\n\u001b[1;32m    877\u001b[0m     \"\"\"\n\u001b[0;32m--> 878\u001b[0;31m     \u001b[0mname\u001b[0m \u001b[0;34m=\u001b[0m \u001b[0mkws\u001b[0m\u001b[0;34m.\u001b[0m\u001b[0mpop\u001b[0m\u001b[0;34m(\u001b[0m\u001b[0;34m'name'\u001b[0m\u001b[0;34m,\u001b[0m \u001b[0;34m''\u001b[0m\u001b[0;34m)\u001b[0m\u001b[0;34m\u001b[0m\u001b[0;34m\u001b[0m\u001b[0m\n\u001b[0m\u001b[1;32m    879\u001b[0m     \u001b[0minbounds\u001b[0m \u001b[0;34m=\u001b[0m \u001b[0mkws\u001b[0m\u001b[0;34m.\u001b[0m\u001b[0mpop\u001b[0m\u001b[0;34m(\u001b[0m\u001b[0;34m'inbounds'\u001b[0m\u001b[0;34m,\u001b[0m \u001b[0;32mFalse\u001b[0m\u001b[0;34m)\u001b[0m\u001b[0;34m\u001b[0m\u001b[0;34m\u001b[0m\u001b[0m\n\u001b[1;32m    880\u001b[0m     \u001b[0;32massert\u001b[0m \u001b[0;32mnot\u001b[0m \u001b[0mkws\u001b[0m\u001b[0;34m\u001b[0m\u001b[0;34m\u001b[0m\u001b[0m\n",
      "\u001b[0;31mKeyboardInterrupt\u001b[0m: "
     ]
    }
   ],
   "source": [
    "use_unwrap=True\n",
    "kwargs={'jump_thresh':20}\n",
    "#choose use_unwrap=True if the input trajectories are not already unwrapped\n",
    "if use_unwrap:\n",
    "    #unwrap trajectories\n",
    "    pid_lst = sorted(set(df[pid_col].values))\n",
    "    #(duplicates filtered earlier in full model pipeline.  Unnecessary in particle model with explicit tracking_ _  _ _ ) filter_duplicate_trajectory_indices is slow (and can probs be accelerated with a sexy pandas one liner)\n",
    "    # pid_lst_filtered = filter_duplicate_trajectory_indices(pid_lst,df)\n",
    "    df = pd.concat([unwrap_traj_and_center(df[df[pid_col]==pid], width, height, **kwargs) for pid in pid_lst])\n",
    "    DT=get_DT(df,pid_col=pid_col) #ms\n",
    "    df[df.frame==2].describe()"
   ]
  },
  {
   "cell_type": "code",
   "execution_count": 54,
   "metadata": {
    "ExecuteTime": {
     "end_time": "2021-08-02T22:08:44.037798Z",
     "start_time": "2021-08-02T22:08:43.950310Z"
    }
   },
   "outputs": [],
   "source": [
    "pid=np.max(pid_lst)"
   ]
  },
  {
   "cell_type": "code",
   "execution_count": 55,
   "metadata": {
    "ExecuteTime": {
     "end_time": "2021-08-02T22:08:45.803469Z",
     "start_time": "2021-08-02T22:08:45.406266Z"
    }
   },
   "outputs": [
    {
     "data": {
      "image/png": "[encoded data removed]",
      "text/plain": [
       "<Figure size 432x288 with 1 Axes>"
      ]
     },
     "metadata": {
      "needs_background": "light"
     },
     "output_type": "display_data"
    }
   ],
   "source": [
    "pid_col='particle'\n",
    "d=df[df[pid_col]==pid]\n",
    "d.plot(x='x',y='y')\n",
    "plt.show()"
   ]
  },
  {
   "cell_type": "code",
   "execution_count": 56,
   "metadata": {
    "ExecuteTime": {
     "end_time": "2021-08-02T22:08:50.510330Z",
     "start_time": "2021-08-02T22:08:50.422768Z"
    }
   },
   "outputs": [
    {
     "name": "stdout",
     "output_type": "stream",
     "text": [
      "0\n"
     ]
    },
    {
     "ename": "AttributeError",
     "evalue": "'NoneType' object has no attribute 'plot'",
     "output_type": "error",
     "traceback": [
      "\u001b[0;31m---------------------------------------------------------------------------\u001b[0m",
      "\u001b[0;31mAttributeError\u001b[0m                            Traceback (most recent call last)",
      "\u001b[0;32m<ipython-input-56-07dd3bc6ecee>\u001b[0m in \u001b[0;36m<module>\u001b[0;34m\u001b[0m\n\u001b[1;32m      7\u001b[0m \u001b[0mdu\u001b[0m\u001b[0;34m=\u001b[0m\u001b[0munwrap_traj_and_center\u001b[0m\u001b[0;34m(\u001b[0m\u001b[0md\u001b[0m\u001b[0;34m,\u001b[0m \u001b[0mwidth\u001b[0m\u001b[0;34m,\u001b[0m \u001b[0mheight\u001b[0m\u001b[0;34m,\u001b[0m \u001b[0mjump_thresh\u001b[0m\u001b[0;34m=\u001b[0m\u001b[0;36m20\u001b[0m\u001b[0;34m)\u001b[0m\u001b[0;34m\u001b[0m\u001b[0;34m\u001b[0m\u001b[0m\n\u001b[1;32m      8\u001b[0m \u001b[0;34m\u001b[0m\u001b[0m\n\u001b[0;32m----> 9\u001b[0;31m \u001b[0mdu\u001b[0m\u001b[0;34m.\u001b[0m\u001b[0mplot\u001b[0m\u001b[0;34m(\u001b[0m\u001b[0mx\u001b[0m\u001b[0;34m=\u001b[0m\u001b[0;34m'x'\u001b[0m\u001b[0;34m,\u001b[0m\u001b[0my\u001b[0m\u001b[0;34m=\u001b[0m\u001b[0;34m'y'\u001b[0m\u001b[0;34m)\u001b[0m\u001b[0;34m\u001b[0m\u001b[0;34m\u001b[0m\u001b[0m\n\u001b[0m\u001b[1;32m     10\u001b[0m \u001b[0mplt\u001b[0m\u001b[0;34m.\u001b[0m\u001b[0mshow\u001b[0m\u001b[0;34m(\u001b[0m\u001b[0;34m)\u001b[0m\u001b[0;34m\u001b[0m\u001b[0;34m\u001b[0m\u001b[0m\n",
      "\u001b[0;31mAttributeError\u001b[0m: 'NoneType' object has no attribute 'plot'"
     ]
    }
   ],
   "source": [
    "width=200;height=width\n",
    "pid_col='particle'\n",
    "pid=100\n",
    "d=df[df[pid_col]==pid]\n",
    "numobs=d.x.values.shape[0]\n",
    "print(numobs)\n",
    "du=unwrap_traj_and_center(d, width, height, jump_thresh=20)\n",
    "\n",
    "du.plot(x='x',y='y')\n",
    "plt.show()"
   ]
  },
  {
   "cell_type": "code",
   "execution_count": 26,
   "metadata": {
    "ExecuteTime": {
     "end_time": "2021-08-02T21:51:56.498803Z",
     "start_time": "2021-08-02T21:51:56.392569Z"
    }
   },
   "outputs": [
    {
     "data": {
      "text/plain": [
       "(5,)"
      ]
     },
     "execution_count": 26,
     "metadata": {},
     "output_type": "execute_result"
    }
   ],
   "source": [
    "#TODO: get a list of pid's that last at least a threshold amount of time\n",
    "df_lifetimes\n",
    "#TODO: in computing MSD, truncate at first jump\n",
    "#TODO: compute MSD for each remaining particle\n"
   ]
  },
  {
   "cell_type": "code",
   "execution_count": 40,
   "metadata": {
    "ExecuteTime": {
     "end_time": "2021-08-02T22:00:06.062807Z",
     "start_time": "2021-08-02T21:59:44.259262Z"
    }
   },
   "outputs": [
    {
     "name": "stdout",
     "output_type": "stream",
     "text": [
      "termination time was 3651.83 ms\n",
      "printing summary stats on particle lifetimes for one input folder in /home/timothytyree/Documents/GitHub/care/notebooks/Data/initial-conditions-suite-3-LR/param_qu_tmax_30_Ko_5.4_diffCoef_0.0005_dt_0.025:\n",
      "count    6421.000000\n",
      "mean        5.350191\n",
      "std        13.111925\n",
      "min        -0.000000\n",
      "25%         0.100000\n",
      "50%         0.400000\n",
      "75%         2.100000\n",
      "max       193.850000\n",
      "Name: min, dtype: float64\n",
      "\n",
      "Please make a manual decision about minimum_lifetime, crop_start_by, and crop_end_by\n"
     ]
    }
   ],
   "source": [
    "t_col='t'\n",
    "#print summary stats on particle lifetimes for one input folder\n",
    "dft=df.groupby(pid_col)[t_col].describe()\n",
    "df_lifetimes=-dft[['max','min']].T.diff().loc['min']\n",
    "print(f\"termination time was {df[t_col].max():.2f} ms\")\n",
    "\n",
    "print(f\"printing summary stats on particle lifetimes for one input folder in {trial_folder_name}:\")\n",
    "print(df_lifetimes.describe())\n",
    "# print(df_lifetimes.head(10))\n",
    "print(\"\\nPlease make a manual decision about minimum_lifetime, crop_start_by, and crop_end_by\")"
   ]
  },
  {
   "cell_type": "code",
   "execution_count": 84,
   "metadata": {
    "ExecuteTime": {
     "end_time": "2021-08-02T22:22:49.995712Z",
     "start_time": "2021-08-02T22:22:45.981683Z"
    }
   },
   "outputs": [
    {
     "data": {
      "text/html": [
       "<div>\n",
       "<style scoped>\n",
       "    .dataframe tbody tr th:only-of-type {\n",
       "        vertical-align: middle;\n",
       "    }\n",
       "\n",
       "    .dataframe tbody tr th {\n",
       "        vertical-align: top;\n",
       "    }\n",
       "\n",
       "    .dataframe thead th {\n",
       "        text-align: right;\n",
       "    }\n",
       "</style>\n",
       "<table border=\"1\" class=\"dataframe\">\n",
       "  <thead>\n",
       "    <tr style=\"text-align: right;\">\n",
       "      <th></th>\n",
       "      <th>t</th>\n",
       "      <th>n</th>\n",
       "      <th>x</th>\n",
       "      <th>y</th>\n",
       "      <th>grad_ux</th>\n",
       "      <th>grad_uy</th>\n",
       "      <th>grad_vx</th>\n",
       "      <th>grad_vy</th>\n",
       "      <th>frame</th>\n",
       "      <th>particle</th>\n",
       "    </tr>\n",
       "  </thead>\n",
       "  <tbody>\n",
       "    <tr>\n",
       "      <th>0</th>\n",
       "      <td>100.0</td>\n",
       "      <td>8</td>\n",
       "      <td>1.785796</td>\n",
       "      <td>146.300585</td>\n",
       "      <td>0.921823</td>\n",
       "      <td>1.000546</td>\n",
       "      <td>-1.095692</td>\n",
       "      <td>1.028605</td>\n",
       "      <td>0</td>\n",
       "      <td>0</td>\n",
       "    </tr>\n",
       "    <tr>\n",
       "      <th>1</th>\n",
       "      <td>100.0</td>\n",
       "      <td>8</td>\n",
       "      <td>33.337203</td>\n",
       "      <td>50.035993</td>\n",
       "      <td>0.025851</td>\n",
       "      <td>1.662081</td>\n",
       "      <td>1.996952</td>\n",
       "      <td>0.335168</td>\n",
       "      <td>0</td>\n",
       "      <td>1</td>\n",
       "    </tr>\n",
       "    <tr>\n",
       "      <th>2</th>\n",
       "      <td>100.0</td>\n",
       "      <td>8</td>\n",
       "      <td>47.254566</td>\n",
       "      <td>148.257986</td>\n",
       "      <td>8.299764</td>\n",
       "      <td>-1.328687</td>\n",
       "      <td>0.435730</td>\n",
       "      <td>1.178769</td>\n",
       "      <td>0</td>\n",
       "      <td>2</td>\n",
       "    </tr>\n",
       "    <tr>\n",
       "      <th>3</th>\n",
       "      <td>100.0</td>\n",
       "      <td>8</td>\n",
       "      <td>51.541287</td>\n",
       "      <td>187.861569</td>\n",
       "      <td>-0.605971</td>\n",
       "      <td>1.443102</td>\n",
       "      <td>0.900137</td>\n",
       "      <td>1.027294</td>\n",
       "      <td>0</td>\n",
       "      <td>3</td>\n",
       "    </tr>\n",
       "    <tr>\n",
       "      <th>4</th>\n",
       "      <td>100.0</td>\n",
       "      <td>8</td>\n",
       "      <td>62.396859</td>\n",
       "      <td>48.144459</td>\n",
       "      <td>0.842282</td>\n",
       "      <td>1.205703</td>\n",
       "      <td>3.010869</td>\n",
       "      <td>-1.579064</td>\n",
       "      <td>0</td>\n",
       "      <td>4</td>\n",
       "    </tr>\n",
       "  </tbody>\n",
       "</table>\n",
       "</div>"
      ],
      "text/plain": [
       "       t  n          x           y   grad_ux   grad_uy   grad_vx   grad_vy  \\\n",
       "0  100.0  8   1.785796  146.300585  0.921823  1.000546 -1.095692  1.028605   \n",
       "1  100.0  8  33.337203   50.035993  0.025851  1.662081  1.996952  0.335168   \n",
       "2  100.0  8  47.254566  148.257986  8.299764 -1.328687  0.435730  1.178769   \n",
       "3  100.0  8  51.541287  187.861569 -0.605971  1.443102  0.900137  1.027294   \n",
       "4  100.0  8  62.396859   48.144459  0.842282  1.205703  3.010869 -1.579064   \n",
       "\n",
       "   frame  particle  \n",
       "0      0         0  \n",
       "1      0         1  \n",
       "2      0         2  \n",
       "3      0         3  \n",
       "4      0         4  "
      ]
     },
     "execution_count": 84,
     "metadata": {},
     "output_type": "execute_result"
    }
   ],
   "source": [
    "input_fn=f\"ic003.22_traj_sr_600_mem_0.csv\"\n",
    "trial_folder_name=f\"/home/timothytyree/Documents/GitHub/care/notebooks/Data/initial-conditions-suite-3-LR/param_qu_tmax_30_Ko_5.4_diffCoef_0.0005_dt_0.025\"\n",
    "# input_fn=f\"ic003.22_traj_sr_600_mem_0_unwrap_emsd.csv\"\n",
    "os.chdir(trial_folder_name)\n",
    "os.chdir('trajectories')\n",
    "df=pd.read_csv(input_fn)\n",
    "df.head()"
   ]
  },
  {
   "cell_type": "code",
   "execution_count": 85,
   "metadata": {
    "ExecuteTime": {
     "end_time": "2021-08-02T22:23:13.969169Z",
     "start_time": "2021-08-02T22:22:50.379270Z"
    }
   },
   "outputs": [],
   "source": [
    "min_dur=150#ms\n",
    "t_col='t'\n",
    "\n",
    "#find the spiral tips that last long enough\n",
    "dft=df.groupby(pid_col)[t_col].describe()\n",
    "df_lifetimes=-dft[['max','min']].T.diff().loc['min']\n",
    "pid_long_list=df_lifetimes[df_lifetimes>min_dur].index.values"
   ]
  },
  {
   "cell_type": "code",
   "execution_count": 86,
   "metadata": {
    "ExecuteTime": {
     "end_time": "2021-08-02T22:23:15.673956Z",
     "start_time": "2021-08-02T22:23:14.418402Z"
    }
   },
   "outputs": [],
   "source": [
    "#unwrap those spiral tips\n",
    "df = pd.concat([unwrap_traj_and_center(df[df[pid_col]==pid], width, height, **kwargs) for pid in pid_long_list])"
   ]
  },
  {
   "cell_type": "code",
   "execution_count": 87,
   "metadata": {
    "ExecuteTime": {
     "end_time": "2021-08-02T22:23:16.102469Z",
     "start_time": "2021-08-02T22:23:16.055168Z"
    }
   },
   "outputs": [],
   "source": [
    "rount_t_to_n_digits=5\n",
    "DT=0.025\n",
    "# DT=np.around(df[t_col].sort_values().diff().dropna().min(),rount_t_to_n_digits)"
   ]
  },
  {
   "cell_type": "code",
   "execution_count": null,
   "metadata": {
    "ExecuteTime": {
     "end_time": "2021-08-02T22:12:50.515199Z",
     "start_time": "2021-08-02T22:12:50.433542Z"
    }
   },
   "outputs": [],
   "source": []
  },
  {
   "cell_type": "code",
   "execution_count": 88,
   "metadata": {
    "ExecuteTime": {
     "end_time": "2021-08-02T22:23:46.216766Z",
     "start_time": "2021-08-02T22:23:44.853440Z"
    }
   },
   "outputs": [],
   "source": [
    "#truncate trajectories to their first apparent jump (pbc jumps should have been removed already)\n",
    "ds=5#cm total domain size\n",
    "jump_thresh=20\n",
    "DS=ds/width\n",
    "# DT=get_DT(df,pid_col=pid_col);print(f\"DT={DT} ms\")\n",
    "\n",
    "df_lst = []\n",
    "for pid in pid_long_list:\n",
    "    d = df[(df[pid_col]==pid)].copy()\n",
    "    x_values, y_values = d[['x','y']].values.T\n",
    "    index_values = d.index.values.T\n",
    "    jump_index_array, spd_lst = find_jumps(x_values,y_values,width,height, DS=DS,DT=DT, **kwargs)#.25)\n",
    "\n",
    "    #     jump_index_array, spd_lst = find_jumps(x_values,y_values,width,height, DS=DS,DT=DT, jump_thresh=jump_thresh, **kwargs)#.25)\n",
    "    if len(jump_index_array)>0:\n",
    "        ji = jump_index_array[0]\n",
    "        d.drop(index=index_values[ji:], inplace=True)\n",
    "    df_lst.append(d)\n",
    "df_traj = pd.concat(df_lst)"
   ]
  },
  {
   "cell_type": "code",
   "execution_count": 94,
   "metadata": {
    "ExecuteTime": {
     "end_time": "2021-08-02T22:27:16.700512Z",
     "start_time": "2021-08-02T22:27:16.265723Z"
    }
   },
   "outputs": [
    {
     "data": {
      "image/png": "[encoded data removed]",
      "text/plain": [
       "<Figure size 432x288 with 1 Axes>"
      ]
     },
     "metadata": {
      "needs_background": "light"
     },
     "output_type": "display_data"
    }
   ],
   "source": [
    "#TODO: compute msd_phys\n",
    "df=df_traj.copy()\n",
    "df['sd']=df['x']**2+df['y']**2\n",
    "# df['lagt']=df[t_col]\n",
    "sd_lst=[];lagt_lst=[];pid_lst\n",
    "for pid in pid_long_list:\n",
    "    #TODO: plot the xy movement of each trajectory under consideration\n",
    "    d = df[(df[pid_col]==pid)].copy()\n",
    "    sd_values=d.sd.values\n",
    "    lagt_values=d[t_col].values-d[t_col].min()\n",
    "    pid_values=d[pid_col].values\n",
    "    sd_lst.extend(sd_values)\n",
    "    lagt_lst.extend(lagt_values)\n",
    "    pid_lst.extend(pid_values)\n",
    "    \n",
    "#     plt.plot(lagt_values,sd_values)\n",
    "# plt.show()\n",
    "\n",
    "df_msd_out=pd.DataFrame({\n",
    "    'lagt':lagt_lst,\n",
    "    'msd':sd_lst,\n",
    "    'pid':pid_lst,\n",
    "})\n",
    "\n",
    "#TODO: save as csv\n",
    "#TODO: wrap all ^this into 1 function for computing MSD\n",
    "\n"
   ]
  },
  {
   "cell_type": "code",
   "execution_count": 95,
   "metadata": {
    "ExecuteTime": {
     "end_time": "2021-08-02T22:32:37.378693Z",
     "start_time": "2021-08-02T22:32:37.292035Z"
    }
   },
   "outputs": [
    {
     "data": {
      "text/plain": [
       "array([1729, 3063])"
      ]
     },
     "execution_count": 95,
     "metadata": {},
     "output_type": "execute_result"
    }
   ],
   "source": [
    "#TODO: compute the annihilations for only the pid where I computed msd\n",
    "pid_long_list"
   ]
  },
  {
   "cell_type": "code",
   "execution_count": 96,
   "metadata": {
    "ExecuteTime": {
     "end_time": "2021-08-02T22:33:36.181534Z",
     "start_time": "2021-08-02T22:33:31.153781Z"
    }
   },
   "outputs": [
    {
     "data": {
      "text/html": [
       "<div>\n",
       "<style scoped>\n",
       "    .dataframe tbody tr th:only-of-type {\n",
       "        vertical-align: middle;\n",
       "    }\n",
       "\n",
       "    .dataframe tbody tr th {\n",
       "        vertical-align: top;\n",
       "    }\n",
       "\n",
       "    .dataframe thead th {\n",
       "        text-align: right;\n",
       "    }\n",
       "</style>\n",
       "<table border=\"1\" class=\"dataframe\">\n",
       "  <thead>\n",
       "    <tr style=\"text-align: right;\">\n",
       "      <th></th>\n",
       "      <th>t</th>\n",
       "      <th>n</th>\n",
       "      <th>x</th>\n",
       "      <th>y</th>\n",
       "      <th>grad_ux</th>\n",
       "      <th>grad_uy</th>\n",
       "      <th>grad_vx</th>\n",
       "      <th>grad_vy</th>\n",
       "      <th>frame</th>\n",
       "      <th>particle</th>\n",
       "    </tr>\n",
       "  </thead>\n",
       "  <tbody>\n",
       "    <tr>\n",
       "      <th>0</th>\n",
       "      <td>100.0</td>\n",
       "      <td>8</td>\n",
       "      <td>1.785796</td>\n",
       "      <td>146.300585</td>\n",
       "      <td>0.921823</td>\n",
       "      <td>1.000546</td>\n",
       "      <td>-1.095692</td>\n",
       "      <td>1.028605</td>\n",
       "      <td>0</td>\n",
       "      <td>0</td>\n",
       "    </tr>\n",
       "    <tr>\n",
       "      <th>1</th>\n",
       "      <td>100.0</td>\n",
       "      <td>8</td>\n",
       "      <td>33.337203</td>\n",
       "      <td>50.035993</td>\n",
       "      <td>0.025851</td>\n",
       "      <td>1.662081</td>\n",
       "      <td>1.996952</td>\n",
       "      <td>0.335168</td>\n",
       "      <td>0</td>\n",
       "      <td>1</td>\n",
       "    </tr>\n",
       "    <tr>\n",
       "      <th>2</th>\n",
       "      <td>100.0</td>\n",
       "      <td>8</td>\n",
       "      <td>47.254566</td>\n",
       "      <td>148.257986</td>\n",
       "      <td>8.299764</td>\n",
       "      <td>-1.328687</td>\n",
       "      <td>0.435730</td>\n",
       "      <td>1.178769</td>\n",
       "      <td>0</td>\n",
       "      <td>2</td>\n",
       "    </tr>\n",
       "    <tr>\n",
       "      <th>3</th>\n",
       "      <td>100.0</td>\n",
       "      <td>8</td>\n",
       "      <td>51.541287</td>\n",
       "      <td>187.861569</td>\n",
       "      <td>-0.605971</td>\n",
       "      <td>1.443102</td>\n",
       "      <td>0.900137</td>\n",
       "      <td>1.027294</td>\n",
       "      <td>0</td>\n",
       "      <td>3</td>\n",
       "    </tr>\n",
       "    <tr>\n",
       "      <th>4</th>\n",
       "      <td>100.0</td>\n",
       "      <td>8</td>\n",
       "      <td>62.396859</td>\n",
       "      <td>48.144459</td>\n",
       "      <td>0.842282</td>\n",
       "      <td>1.205703</td>\n",
       "      <td>3.010869</td>\n",
       "      <td>-1.579064</td>\n",
       "      <td>0</td>\n",
       "      <td>4</td>\n",
       "    </tr>\n",
       "  </tbody>\n",
       "</table>\n",
       "</div>"
      ],
      "text/plain": [
       "       t  n          x           y   grad_ux   grad_uy   grad_vx   grad_vy  \\\n",
       "0  100.0  8   1.785796  146.300585  0.921823  1.000546 -1.095692  1.028605   \n",
       "1  100.0  8  33.337203   50.035993  0.025851  1.662081  1.996952  0.335168   \n",
       "2  100.0  8  47.254566  148.257986  8.299764 -1.328687  0.435730  1.178769   \n",
       "3  100.0  8  51.541287  187.861569 -0.605971  1.443102  0.900137  1.027294   \n",
       "4  100.0  8  62.396859   48.144459  0.842282  1.205703  3.010869 -1.579064   \n",
       "\n",
       "   frame  particle  \n",
       "0      0         0  \n",
       "1      0         1  \n",
       "2      0         2  \n",
       "3      0         3  \n",
       "4      0         4  "
      ]
     },
     "execution_count": 96,
     "metadata": {},
     "output_type": "execute_result"
    }
   ],
   "source": [
    "input_fn=f\"ic003.22_traj_sr_600_mem_0.csv\"\n",
    "trial_folder_name=f\"/home/timothytyree/Documents/GitHub/care/notebooks/Data/initial-conditions-suite-3-LR/param_qu_tmax_30_Ko_5.4_diffCoef_0.0005_dt_0.025\"\n",
    "os.chdir(trial_folder_name)\n",
    "os.chdir('trajectories')\n",
    "df=pd.read_csv(input_fn)\n",
    "df.head()"
   ]
  },
  {
   "cell_type": "code",
   "execution_count": 98,
   "metadata": {
    "ExecuteTime": {
     "end_time": "2021-08-02T22:37:50.579773Z",
     "start_time": "2021-08-02T22:34:34.540950Z"
    }
   },
   "outputs": [
    {
     "ename": "KeyboardInterrupt",
     "evalue": "",
     "output_type": "error",
     "traceback": [
      "\u001b[0;31m---------------------------------------------------------------------------\u001b[0m",
      "\u001b[0;31mKeyboardInterrupt\u001b[0m                         Traceback (most recent call last)",
      "\u001b[0;32m<ipython-input-98-f5431d9a916f>\u001b[0m in \u001b[0;36m<module>\u001b[0;34m\u001b[0m\n\u001b[1;32m      4\u001b[0m \u001b[0;31m# #compute interactions\u001b[0m\u001b[0;34m\u001b[0m\u001b[0;34m\u001b[0m\u001b[0;34m\u001b[0m\u001b[0m\n\u001b[1;32m      5\u001b[0m \u001b[0mtmin\u001b[0m\u001b[0;34m=\u001b[0m\u001b[0;36m100\u001b[0m\u001b[0;34m\u001b[0m\u001b[0;34m\u001b[0m\u001b[0m\n\u001b[0;32m----> 6\u001b[0;31m \u001b[0mdf_interactions\u001b[0m \u001b[0;34m=\u001b[0m \u001b[0mcompute_df_interactions\u001b[0m\u001b[0;34m(\u001b[0m\u001b[0minput_fn\u001b[0m\u001b[0;34m,\u001b[0m \u001b[0mDS\u001b[0m\u001b[0;34m=\u001b[0m\u001b[0mDS\u001b[0m\u001b[0;34m,\u001b[0m\u001b[0mwidth\u001b[0m\u001b[0;34m=\u001b[0m\u001b[0mwidth\u001b[0m\u001b[0;34m,\u001b[0m\u001b[0mheight\u001b[0m\u001b[0;34m=\u001b[0m\u001b[0mheight\u001b[0m\u001b[0;34m,\u001b[0m\u001b[0mtmin\u001b[0m\u001b[0;34m=\u001b[0m\u001b[0mtmin\u001b[0m\u001b[0;34m)\u001b[0m\u001b[0;34m\u001b[0m\u001b[0;34m\u001b[0m\u001b[0m\n\u001b[0m\u001b[1;32m      7\u001b[0m \u001b[0;31m# df_interactions.dropna(inplace=True)\u001b[0m\u001b[0;34m\u001b[0m\u001b[0;34m\u001b[0m\u001b[0;34m\u001b[0m\u001b[0m\n\u001b[1;32m      8\u001b[0m \u001b[0;31m# death_ranges = DS * df_interactions.rT.values\u001b[0m\u001b[0;34m\u001b[0m\u001b[0;34m\u001b[0m\u001b[0;34m\u001b[0m\u001b[0m\n",
      "\u001b[0;32m~/Documents/GitHub/care/notebooks/lib/routines/compute_interactions.py\u001b[0m in \u001b[0;36mcompute_df_interactions\u001b[0;34m(input_file_name, DS, width, height, tmin, pid_col)\u001b[0m\n\u001b[1;32m     29\u001b[0m         \u001b[0;31m#identify the birth partner of that given tip\u001b[0m\u001b[0;34m\u001b[0m\u001b[0;34m\u001b[0m\u001b[0;34m\u001b[0m\u001b[0m\n\u001b[1;32m     30\u001b[0m         \u001b[0mpid_partner\u001b[0m\u001b[0;34m,\u001b[0m \u001b[0mreaction_distance_birth\u001b[0m\u001b[0;34m,\u001b[0m \u001b[0mt_of_life\u001b[0m \u001b[0;34m=\u001b[0m \u001b[0midentify_birth_partner\u001b[0m\u001b[0;34m(\u001b[0m\u001b[0mdf\u001b[0m\u001b[0;34m=\u001b[0m\u001b[0mdf\u001b[0m\u001b[0;34m,\u001b[0m\u001b[0mcid\u001b[0m\u001b[0;34m=\u001b[0m\u001b[0mpid\u001b[0m\u001b[0;34m,\u001b[0m\u001b[0mdistance_L2_pbc\u001b[0m\u001b[0;34m=\u001b[0m\u001b[0mdistance_L2_pbc\u001b[0m\u001b[0;34m,\u001b[0m\u001b[0mpid_col\u001b[0m\u001b[0;34m=\u001b[0m\u001b[0mpid_col\u001b[0m\u001b[0;34m)\u001b[0m\u001b[0;34m\u001b[0m\u001b[0;34m\u001b[0m\u001b[0m\n\u001b[0;32m---> 31\u001b[0;31m         \u001b[0mpid_partner_death\u001b[0m\u001b[0;34m,\u001b[0m \u001b[0mreaction_distance_death\u001b[0m\u001b[0;34m,\u001b[0m \u001b[0mt_of_death\u001b[0m \u001b[0;34m=\u001b[0m \u001b[0midentify_death_partner\u001b[0m\u001b[0;34m(\u001b[0m\u001b[0mdf\u001b[0m\u001b[0;34m=\u001b[0m\u001b[0mdf\u001b[0m\u001b[0;34m,\u001b[0m\u001b[0mcid\u001b[0m\u001b[0;34m=\u001b[0m\u001b[0mpid\u001b[0m\u001b[0;34m,\u001b[0m\u001b[0mdistance_L2_pbc\u001b[0m\u001b[0;34m=\u001b[0m\u001b[0mdistance_L2_pbc\u001b[0m\u001b[0;34m,\u001b[0m\u001b[0mpid_col\u001b[0m\u001b[0;34m=\u001b[0m\u001b[0mpid_col\u001b[0m\u001b[0;34m)\u001b[0m\u001b[0;34m\u001b[0m\u001b[0;34m\u001b[0m\u001b[0m\n\u001b[0m\u001b[1;32m     32\u001b[0m         \u001b[0md_other\u001b[0m \u001b[0;34m=\u001b[0m \u001b[0mdf\u001b[0m\u001b[0;34m[\u001b[0m\u001b[0mdf\u001b[0m\u001b[0;34m[\u001b[0m\u001b[0mpid_col\u001b[0m\u001b[0;34m]\u001b[0m\u001b[0;34m==\u001b[0m\u001b[0mpid_partner\u001b[0m\u001b[0;34m]\u001b[0m\u001b[0;34m\u001b[0m\u001b[0;34m\u001b[0m\u001b[0m\n\u001b[1;32m     33\u001b[0m \u001b[0;34m\u001b[0m\u001b[0m\n",
      "\u001b[0;32m~/Documents/GitHub/care/notebooks/lib/utils/utils_traj.py\u001b[0m in \u001b[0;36midentify_death_partner\u001b[0;34m(df, cid, distance_L2_pbc, cid_others, verbose, pid_col)\u001b[0m\n\u001b[1;32m    330\u001b[0m     \u001b[0;31m#others that died in the same frame\u001b[0m\u001b[0;34m\u001b[0m\u001b[0;34m\u001b[0m\u001b[0;34m\u001b[0m\u001b[0m\n\u001b[1;32m    331\u001b[0m     \u001b[0;32mif\u001b[0m \u001b[0mcid_others\u001b[0m \u001b[0;32mis\u001b[0m \u001b[0;32mNone\u001b[0m\u001b[0;34m:\u001b[0m\u001b[0;31m#&(df.keep)\u001b[0m\u001b[0;34m\u001b[0m\u001b[0;34m\u001b[0m\u001b[0m\n\u001b[0;32m--> 332\u001b[0;31m         \u001b[0mcid_others\u001b[0m \u001b[0;34m=\u001b[0m \u001b[0mdf\u001b[0m\u001b[0;34m[\u001b[0m\u001b[0;34m(\u001b[0m\u001b[0mdf\u001b[0m\u001b[0;34m.\u001b[0m\u001b[0mframe\u001b[0m\u001b[0;34m==\u001b[0m\u001b[0mint\u001b[0m\u001b[0;34m(\u001b[0m\u001b[0mfrm\u001b[0m\u001b[0;34m)\u001b[0m\u001b[0;34m)\u001b[0m\u001b[0;34m&\u001b[0m\u001b[0;34m(\u001b[0m\u001b[0mdf\u001b[0m\u001b[0;34m.\u001b[0m\u001b[0mcid\u001b[0m\u001b[0;34m!=\u001b[0m\u001b[0mcid\u001b[0m\u001b[0;34m)\u001b[0m\u001b[0;34m&\u001b[0m\u001b[0;34m(\u001b[0m\u001b[0mdf\u001b[0m\u001b[0;34m.\u001b[0m\u001b[0mkeep\u001b[0m\u001b[0;34m)\u001b[0m\u001b[0;34m]\u001b[0m\u001b[0;34m[\u001b[0m\u001b[0;34m'cid'\u001b[0m\u001b[0;34m]\u001b[0m\u001b[0;34m.\u001b[0m\u001b[0mvalues\u001b[0m\u001b[0;34m.\u001b[0m\u001b[0mT\u001b[0m\u001b[0;34m\u001b[0m\u001b[0;34m\u001b[0m\u001b[0m\n\u001b[0m\u001b[1;32m    333\u001b[0m     \u001b[0mcid_others_nxt\u001b[0m \u001b[0;34m=\u001b[0m \u001b[0mdf\u001b[0m\u001b[0;34m[\u001b[0m\u001b[0;34m(\u001b[0m\u001b[0mdf\u001b[0m\u001b[0;34m.\u001b[0m\u001b[0mframe\u001b[0m\u001b[0;34m==\u001b[0m\u001b[0mint\u001b[0m\u001b[0;34m(\u001b[0m\u001b[0mfrm\u001b[0m\u001b[0;34m)\u001b[0m\u001b[0;34m+\u001b[0m\u001b[0;36m1\u001b[0m\u001b[0;34m)\u001b[0m\u001b[0;34m&\u001b[0m\u001b[0;34m(\u001b[0m\u001b[0mdf\u001b[0m\u001b[0;34m.\u001b[0m\u001b[0mcid\u001b[0m\u001b[0;34m!=\u001b[0m\u001b[0mcid\u001b[0m\u001b[0;34m)\u001b[0m\u001b[0;34m]\u001b[0m\u001b[0;34m[\u001b[0m\u001b[0;34m'cid'\u001b[0m\u001b[0;34m]\u001b[0m\u001b[0;34m.\u001b[0m\u001b[0mvalues\u001b[0m\u001b[0;34m.\u001b[0m\u001b[0mT\u001b[0m\u001b[0;34m\u001b[0m\u001b[0;34m\u001b[0m\u001b[0m\n\u001b[1;32m    334\u001b[0m     \u001b[0mcid_died_lst\u001b[0m\u001b[0;34m=\u001b[0m\u001b[0msorted\u001b[0m\u001b[0;34m(\u001b[0m\u001b[0mset\u001b[0m\u001b[0;34m(\u001b[0m\u001b[0mlist\u001b[0m\u001b[0;34m(\u001b[0m\u001b[0mcid_others\u001b[0m\u001b[0;34m)\u001b[0m\u001b[0;34m)\u001b[0m\u001b[0;34m.\u001b[0m\u001b[0mdifference\u001b[0m\u001b[0;34m(\u001b[0m\u001b[0mset\u001b[0m\u001b[0;34m(\u001b[0m\u001b[0mlist\u001b[0m\u001b[0;34m(\u001b[0m\u001b[0mcid_others_nxt\u001b[0m\u001b[0;34m)\u001b[0m\u001b[0;34m)\u001b[0m\u001b[0;34m)\u001b[0m\u001b[0;34m)\u001b[0m\u001b[0;34m\u001b[0m\u001b[0;34m\u001b[0m\u001b[0m\n",
      "\u001b[0;32m~/anaconda3/lib/python3.7/site-packages/pandas/core/ops/common.py\u001b[0m in \u001b[0;36mnew_method\u001b[0;34m(self, other)\u001b[0m\n\u001b[1;32m     62\u001b[0m         \u001b[0mother\u001b[0m \u001b[0;34m=\u001b[0m \u001b[0mitem_from_zerodim\u001b[0m\u001b[0;34m(\u001b[0m\u001b[0mother\u001b[0m\u001b[0;34m)\u001b[0m\u001b[0;34m\u001b[0m\u001b[0;34m\u001b[0m\u001b[0m\n\u001b[1;32m     63\u001b[0m \u001b[0;34m\u001b[0m\u001b[0m\n\u001b[0;32m---> 64\u001b[0;31m         \u001b[0;32mreturn\u001b[0m \u001b[0mmethod\u001b[0m\u001b[0;34m(\u001b[0m\u001b[0mself\u001b[0m\u001b[0;34m,\u001b[0m \u001b[0mother\u001b[0m\u001b[0;34m)\u001b[0m\u001b[0;34m\u001b[0m\u001b[0;34m\u001b[0m\u001b[0m\n\u001b[0m\u001b[1;32m     65\u001b[0m \u001b[0;34m\u001b[0m\u001b[0m\n\u001b[1;32m     66\u001b[0m     \u001b[0;32mreturn\u001b[0m \u001b[0mnew_method\u001b[0m\u001b[0;34m\u001b[0m\u001b[0;34m\u001b[0m\u001b[0m\n",
      "\u001b[0;32m~/anaconda3/lib/python3.7/site-packages/pandas/core/ops/__init__.py\u001b[0m in \u001b[0;36mwrapper\u001b[0;34m(self, other)\u001b[0m\n\u001b[1;32m    527\u001b[0m         \u001b[0mrvalues\u001b[0m \u001b[0;34m=\u001b[0m \u001b[0mextract_array\u001b[0m\u001b[0;34m(\u001b[0m\u001b[0mother\u001b[0m\u001b[0;34m,\u001b[0m \u001b[0mextract_numpy\u001b[0m\u001b[0;34m=\u001b[0m\u001b[0;32mTrue\u001b[0m\u001b[0;34m)\u001b[0m\u001b[0;34m\u001b[0m\u001b[0;34m\u001b[0m\u001b[0m\n\u001b[1;32m    528\u001b[0m \u001b[0;34m\u001b[0m\u001b[0m\n\u001b[0;32m--> 529\u001b[0;31m         \u001b[0mres_values\u001b[0m \u001b[0;34m=\u001b[0m \u001b[0mcomparison_op\u001b[0m\u001b[0;34m(\u001b[0m\u001b[0mlvalues\u001b[0m\u001b[0;34m,\u001b[0m \u001b[0mrvalues\u001b[0m\u001b[0;34m,\u001b[0m \u001b[0mop\u001b[0m\u001b[0;34m)\u001b[0m\u001b[0;34m\u001b[0m\u001b[0;34m\u001b[0m\u001b[0m\n\u001b[0m\u001b[1;32m    530\u001b[0m \u001b[0;34m\u001b[0m\u001b[0m\n\u001b[1;32m    531\u001b[0m         \u001b[0;32mreturn\u001b[0m \u001b[0m_construct_result\u001b[0m\u001b[0;34m(\u001b[0m\u001b[0mself\u001b[0m\u001b[0;34m,\u001b[0m \u001b[0mres_values\u001b[0m\u001b[0;34m,\u001b[0m \u001b[0mindex\u001b[0m\u001b[0;34m=\u001b[0m\u001b[0mself\u001b[0m\u001b[0;34m.\u001b[0m\u001b[0mindex\u001b[0m\u001b[0;34m,\u001b[0m \u001b[0mname\u001b[0m\u001b[0;34m=\u001b[0m\u001b[0mres_name\u001b[0m\u001b[0;34m)\u001b[0m\u001b[0;34m\u001b[0m\u001b[0;34m\u001b[0m\u001b[0m\n",
      "\u001b[0;32m~/anaconda3/lib/python3.7/site-packages/pandas/core/ops/array_ops.py\u001b[0m in \u001b[0;36mcomparison_op\u001b[0;34m(left, right, op)\u001b[0m\n\u001b[1;32m    251\u001b[0m         \u001b[0mmethod\u001b[0m \u001b[0;34m=\u001b[0m \u001b[0mgetattr\u001b[0m\u001b[0;34m(\u001b[0m\u001b[0mlvalues\u001b[0m\u001b[0;34m,\u001b[0m \u001b[0mop_name\u001b[0m\u001b[0;34m)\u001b[0m\u001b[0;34m\u001b[0m\u001b[0;34m\u001b[0m\u001b[0m\n\u001b[1;32m    252\u001b[0m         \u001b[0;32mwith\u001b[0m \u001b[0mnp\u001b[0m\u001b[0;34m.\u001b[0m\u001b[0merrstate\u001b[0m\u001b[0;34m(\u001b[0m\u001b[0mall\u001b[0m\u001b[0;34m=\u001b[0m\u001b[0;34m\"ignore\"\u001b[0m\u001b[0;34m)\u001b[0m\u001b[0;34m:\u001b[0m\u001b[0;34m\u001b[0m\u001b[0;34m\u001b[0m\u001b[0m\n\u001b[0;32m--> 253\u001b[0;31m             \u001b[0mres_values\u001b[0m \u001b[0;34m=\u001b[0m \u001b[0mmethod\u001b[0m\u001b[0;34m(\u001b[0m\u001b[0mrvalues\u001b[0m\u001b[0;34m)\u001b[0m\u001b[0;34m\u001b[0m\u001b[0;34m\u001b[0m\u001b[0m\n\u001b[0m\u001b[1;32m    254\u001b[0m \u001b[0;34m\u001b[0m\u001b[0m\n\u001b[1;32m    255\u001b[0m         \u001b[0;32mif\u001b[0m \u001b[0mres_values\u001b[0m \u001b[0;32mis\u001b[0m \u001b[0mNotImplemented\u001b[0m\u001b[0;34m:\u001b[0m\u001b[0;34m\u001b[0m\u001b[0;34m\u001b[0m\u001b[0m\n",
      "\u001b[0;31mKeyboardInterrupt\u001b[0m: "
     ]
    }
   ],
   "source": [
    "# df=pd.read_csv('/home/timothytyree/Documents/GitHub/care/notebooks/Data/initial-conditions-fk-200x200/param_set_8_ds_5.0_tmax_30_diffCoef_0.001_dt_0.025/annihilations/ic200x200.0.28_traj_sr_600_mem_0_annihilations.csv')\n",
    "# df.head()\n",
    "# df[df.pid==df.pid_deathmate]\n",
    "# #compute interactions\n",
    "tmin=100\n",
    "df_interactions = compute_df_interactions(input_fn, DS=DS,width=width,height=height,tmin=tmin)\n",
    "# df_interactions.dropna(inplace=True)\n",
    "# death_ranges = DS * df_interactions.rT.values\n",
    "# birth_ranges = DS * df_interactions.r0.values\n",
    "# df_interactions.head()"
   ]
  },
  {
   "cell_type": "code",
   "execution_count": 100,
   "metadata": {
    "ExecuteTime": {
     "end_time": "2021-08-02T22:43:44.532592Z",
     "start_time": "2021-08-02T22:43:43.858942Z"
    }
   },
   "outputs": [],
   "source": [
    "using_particle=True\n",
    "if using_particle:\n",
    "    df['cid']=df[pid_col]\n",
    "        \n",
    "distance_L2_pbc = get_distance_L2_pbc(width=width,height=height)\n",
    "pid_partner_death, reaction_distance_death, t_of_death = identify_death_partner(df=df,cid=pid,distance_L2_pbc=distance_L2_pbc,pid_col=pid_col)"
   ]
  },
  {
   "cell_type": "code",
   "execution_count": 90,
   "metadata": {
    "ExecuteTime": {
     "end_time": "2021-08-02T22:23:53.612863Z",
     "start_time": "2021-08-02T22:23:53.494160Z"
    }
   },
   "outputs": [],
   "source": [
    "min_dur=150#ms\n",
    "df=df_traj\n",
    "t_col='t'\n",
    "#print summary stats on particle lifetimes for one input folder\n",
    "dft=df.groupby(pid_col)[t_col].describe()\n",
    "df_lifetimes=-dft[['max','min']].T.diff().loc['min']\n",
    "pid_long_list=df_lifetimes[df_lifetimes>min_dur].index.values"
   ]
  },
  {
   "cell_type": "code",
   "execution_count": 92,
   "metadata": {
    "ExecuteTime": {
     "end_time": "2021-08-02T22:24:25.895302Z",
     "start_time": "2021-08-02T22:24:25.429292Z"
    }
   },
   "outputs": [
    {
     "data": {
      "text/plain": [
       "<matplotlib.axes._subplots.AxesSubplot at 0x7f6f15c81290>"
      ]
     },
     "execution_count": 92,
     "metadata": {},
     "output_type": "execute_result"
    },
    {
     "data": {
      "image/png": "[encoded data removed]",
      "text/plain": [
       "<Figure size 432x288 with 1 Axes>"
      ]
     },
     "metadata": {
      "needs_background": "light"
     },
     "output_type": "display_data"
    }
   ],
   "source": []
  },
  {
   "cell_type": "code",
   "execution_count": 83,
   "metadata": {
    "ExecuteTime": {
     "end_time": "2021-08-02T22:22:35.272944Z",
     "start_time": "2021-08-02T22:22:34.100711Z"
    }
   },
   "outputs": [],
   "source": [
    "df_lst = []\n",
    "for pid in pid_long_list:\n",
    "    d = df[(df.particle==pid)].copy()\n",
    "    x_values, y_values = d[['x','y']].values.T\n",
    "    index_values = d.index.values.T\n",
    "    jump_index_array, spd_lst = find_jumps(x_values,y_values,width,height, DS=DS,DT=DT, **kwargs)#.25)\n",
    "    \n",
    "    #     jump_index_array, spd_lst = find_jumps(x_values,y_values,width,height, DS=DS,DT=DT, jump_thresh=jump_thresh, **kwargs)#.25)\n",
    "    if len(jump_index_array)>0:\n",
    "        ji = jump_index_array[0]\n",
    "        d.drop(index=index_values[ji:], inplace=True)\n",
    "    df_lst.append(d)\n",
    "df_traj = pd.concat(df_lst)"
   ]
  },
  {
   "cell_type": "code",
   "execution_count": null,
   "metadata": {},
   "outputs": [],
   "source": []
  }
 ],
 "metadata": {
  "kernelspec": {
   "display_name": "Python 3",
   "language": "python",
   "name": "python3"
  },
  "language_info": {
   "codemirror_mode": {
    "name": "ipython",
    "version": 3
   },
   "file_extension": ".py",
   "mimetype": "text/x-python",
   "name": "python",
   "nbconvert_exporter": "python",
   "pygments_lexer": "ipython3",
   "version": "3.7.6"
  },
  "toc": {
   "base_numbering": 1,
   "nav_menu": {},
   "number_sections": true,
   "sideBar": true,
   "skip_h1_title": false,
   "title_cell": "Table of Contents",
   "title_sidebar": "Contents",
   "toc_cell": false,
   "toc_position": {},
   "toc_section_display": true,
   "toc_window_display": true
  },
  "varInspector": {
   "cols": {
    "lenName": 16,
    "lenType": 16,
    "lenVar": 40
   },
   "kernels_config": {
    "python": {
     "delete_cmd_postfix": "",
     "delete_cmd_prefix": "del ",
     "library": "var_list.py",
     "varRefreshCmd": "print(var_dic_list())"
    },
    "r": {
     "delete_cmd_postfix": ") ",
     "delete_cmd_prefix": "rm(",
     "library": "var_list.r",
     "varRefreshCmd": "cat(var_dic_list()) "
    }
   },
   "types_to_exclude": [
    "module",
    "function",
    "builtin_function_or_method",
    "instance",
    "_Feature"
   ],
   "window_display": false
  }
 },
 "nbformat": 4,
 "nbformat_minor": 4
}
