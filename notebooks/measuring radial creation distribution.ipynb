{
 "cells": [
  {
   "cell_type": "markdown",
   "id": "b3e30407",
   "metadata": {},
   "source": [
    "# measuring radial creation distribution\n",
    "Tim Tyree<br>\n",
    "6.23.2023"
   ]
  },
  {
   "cell_type": "code",
   "execution_count": 1,
   "id": "0abeea16",
   "metadata": {
    "ExecuteTime": {
     "end_time": "2023-06-24T02:28:18.082577Z",
     "start_time": "2023-06-24T02:28:13.405588Z"
    }
   },
   "outputs": [
    {
     "name": "stderr",
     "output_type": "stream",
     "text": [
      "/Users/timothytyree/opt/miniconda3/envs/pyenv/lib/python3.9/site-packages/statsmodels/compat/pandas.py:61: FutureWarning: pandas.Int64Index is deprecated and will be removed from pandas in a future version. Use pandas.Index with the appropriate dtype instead.\n",
      "  from pandas import Int64Index as NumericIndex\n"
     ]
    }
   ],
   "source": [
    "from lib.my_initialization import *\n",
    "import shutil\n",
    "from lib import unwrap_and_center_xy_values\n",
    "from scipy.signal import savgol_filter\n",
    "from lib import ScatterPlotSnapshot\n",
    "from lib import *"
   ]
  },
  {
   "cell_type": "code",
   "execution_count": 2,
   "id": "abd3d792",
   "metadata": {
    "ExecuteTime": {
     "end_time": "2023-06-24T02:28:18.145001Z",
     "start_time": "2023-06-24T02:28:18.084390Z"
    }
   },
   "outputs": [],
   "source": [
    "%load_ext autoreload\n",
    "%autoreload 2"
   ]
  },
  {
   "cell_type": "code",
   "execution_count": 3,
   "id": "827b06a6",
   "metadata": {
    "ExecuteTime": {
     "end_time": "2023-06-24T02:28:18.295963Z",
     "start_time": "2023-06-24T02:28:18.146850Z"
    }
   },
   "outputs": [],
   "source": [
    "import seaborn as sns\n",
    "#reset matplotlib\n",
    "plt.plot([1]*4)\n",
    "plt.close()\n",
    "#reset matplotlib settings\n",
    "import matplotlib as mpl\n",
    "sns.reset_orig()\n",
    "mpl.rc_file_defaults()"
   ]
  },
  {
   "cell_type": "code",
   "execution_count": 4,
   "id": "37ed474c",
   "metadata": {
    "ExecuteTime": {
     "end_time": "2023-06-24T02:28:18.357924Z",
     "start_time": "2023-06-24T02:28:18.299334Z"
    }
   },
   "outputs": [],
   "source": [
    "from scipy import stats\n",
    "darkmode=False\n",
    "if darkmode:\n",
    "    # For darkmode plots\n",
    "    from jupyterthemes import jtplot\n",
    "    jtplot.style(theme='monokai', context='notebook', ticks=True, grid=False)\n",
    "import warnings\n",
    "warnings.simplefilter(\"ignore\", UserWarning)\n",
    "# import cupy as cp\n",
    "np.random.seed(42)\n",
    "# cp.random.seed(42)"
   ]
  },
  {
   "cell_type": "code",
   "execution_count": 5,
   "id": "a6f6a1b0",
   "metadata": {
    "ExecuteTime": {
     "end_time": "2023-06-24T02:28:18.416462Z",
     "start_time": "2023-06-24T02:28:18.359627Z"
    }
   },
   "outputs": [],
   "source": [
    "from scipy.optimize import curve_fit\n",
    "from scipy.integrate import cumtrapz"
   ]
  },
  {
   "cell_type": "markdown",
   "id": "b3962f67",
   "metadata": {},
   "source": [
    "# define module"
   ]
  },
  {
   "cell_type": "code",
   "execution_count": 180,
   "id": "83f98f0c",
   "metadata": {
    "ExecuteTime": {
     "end_time": "2023-06-25T18:14:46.833019Z",
     "start_time": "2023-06-25T18:14:46.735028Z"
    }
   },
   "outputs": [],
   "source": [
    "def measure_creation_ranges(g,width,height):\n",
    "    \"\"\"\n",
    "    Example Usage:\n",
    "dict_out_lst = measure_creation_ranges(g,width,height)\n",
    "    \"\"\"\n",
    "    #inputs: g,width,height\n",
    "    #outputs: dict_out_lst\n",
    "    distance_L2_pbc = get_distance_L2_pbc(width=width, height=height)\n",
    "    DT=g['t'].min()\n",
    "    dict_out_lst=[]\n",
    "    n_series = g.groupby(by='t')['n'].min()\n",
    "    t_values_birth = n_series[n_series.diff()==2.].index.values\n",
    "    for tb in t_values_birth:\n",
    "        d_prev = g.loc[g['t']==tb-DT]\n",
    "        d_next = g.loc[g['t']==tb]\n",
    "        n=n_series.loc[tb]\n",
    "        #track the particles in this and the next frame only\n",
    "        id_pair_lst,disp_pair_lst=find_nearest_neighbors_simple(d_prev,d_next,distance_L2_pbc)#,xy_col_lst=['x','y'],**kwargs)\n",
    "        xy_values = d_next[['x','y']].values\n",
    "        #select the new tips\n",
    "        i_new_tips = tuple(set(range(n)).difference(id_pair_lst[1]))\n",
    "        #compute the distance between them\n",
    "        dist0=distance_L2_pbc(xy_values[i_new_tips[0]],xy_values[i_new_tips[1]])\n",
    "        mindist=10*width\n",
    "        minj=-1\n",
    "        mini=-1\n",
    "        #for each new tip\n",
    "        for i in i_new_tips:\n",
    "            xy=xy_values[i]\n",
    "            #compute the distance to nearest preexisting tip\n",
    "            for j in id_pair_lst[1]:\n",
    "                dist=distance_L2_pbc(xy_values[i],xy_values[j])\n",
    "                if mindist>dist:\n",
    "                    mindist=dist\n",
    "                    minj=j\n",
    "                    mini=i\n",
    "        #record\n",
    "        dict_out = dict(mini=mini,minj=minj,dist0=dist0,mindist=mindist,n=n,tb=tb,trial_num=trial_num)\n",
    "        dict_out_lst.append(dict_out)\n",
    "    return dict_out_lst"
   ]
  },
  {
   "cell_type": "code",
   "execution_count": null,
   "id": "69636fed",
   "metadata": {},
   "outputs": [],
   "source": []
  },
  {
   "cell_type": "markdown",
   "id": "de8a771e",
   "metadata": {},
   "source": [
    "# measure radial creation distribution"
   ]
  },
  {
   "cell_type": "code",
   "execution_count": 181,
   "id": "c0c0cc20",
   "metadata": {
    "ExecuteTime": {
     "end_time": "2023-06-25T18:15:18.165740Z",
     "start_time": "2023-06-25T18:14:53.200533Z"
    }
   },
   "outputs": [
    {
     "name": "stdout",
     "output_type": "stream",
     "text": [
      "saved to spiral tip positions to log_folder_parquet='/Users/timothytyree/Documents/GitHub/care/notebooks/Data/from_wjr/positions_lr/200x200/positions'\n"
     ]
    }
   ],
   "source": [
    "printing=True\n",
    "use_save_df_to_parquet_by=True\n",
    "#load fortranic tip positions\n",
    "# folder=f\"{nb_dir}/Data/from_wjr/positions_fk/200x200\"\n",
    "folder=f\"{nb_dir}/Data/from_wjr/positions_lr/200x200\"\n",
    "# fn = 'tippos_per_c_001'\n",
    "fn = 'tippos_per_001'\n",
    "input_dir = os.path.join(folder,fn)\n",
    "log_folder_parquet=f'{folder}/positions'\n",
    "assert os.path.exists(input_dir)\n",
    "if use_save_df_to_parquet_by:\n",
    "    df_log=parse_fortranic_tip_pos(input_dir)\n",
    "    #partition df_log into a folder of tip logs\n",
    "    save_df_to_parquet_by(df_log,log_folder_parquet,by='trial_num',compression='snappy',index=None)\n",
    "    print(f\"saved to spiral tip positions to {log_folder_parquet=}\")\n",
    "    #determine width and height of the computational domain input the discretization\n",
    "    width,height=df_log.describe().loc['max'][['x','y']].values.T\n",
    "    del df_log\n",
    "else:\n",
    "    width=200\n",
    "    height=200"
   ]
  },
  {
   "cell_type": "code",
   "execution_count": 182,
   "id": "640e50c2",
   "metadata": {
    "ExecuteTime": {
     "end_time": "2023-06-25T18:15:18.268249Z",
     "start_time": "2023-06-25T18:15:18.168898Z"
    },
    "run_control": {
     "marked": true
    }
   },
   "outputs": [
    {
     "name": "stdout",
     "output_type": "stream",
     "text": [
      "width=200.0, height=200.0, DT=1.0\n"
     ]
    }
   ],
   "source": [
    "for fn in os.listdir(log_folder_parquet):\n",
    "    pass\n",
    "trial_num = eval(fn.split('=')[1])\n",
    "# load tip position data\n",
    "g=load_parquet_by_trial_num(trial_num=trial_num,folder_parquet=log_folder_parquet)\n",
    "DT=g['t'].min()\n",
    "if printing:\n",
    "#     print(df_log.describe().loc[['min','max']][['x','y']])\n",
    "    print(f\"{width=}, {height=}, {DT=}\")"
   ]
  },
  {
   "cell_type": "code",
   "execution_count": 183,
   "id": "90eecd26",
   "metadata": {
    "ExecuteTime": {
     "end_time": "2023-06-25T18:15:18.576937Z",
     "start_time": "2023-06-25T18:15:18.271207Z"
    }
   },
   "outputs": [],
   "source": [
    "distance_L2_pbc = get_distance_L2_pbc(width=width, height=height)\n",
    "DT=g['t'].min()\n",
    "dict_out_lst=[]\n",
    "n_series = g.groupby(by='t')['n'].min()\n",
    "t_values_birth = n_series[n_series.diff()==2.].index.values\n",
    "for tb in t_values_birth:\n",
    "    pass\n",
    "d_prev = g.loc[g['t']==tb-DT]\n",
    "d_next = g.loc[g['t']==tb]\n",
    "id_pair_lst,disp_pair_lst=find_nearest_neighbors_simple(d_prev,d_next,distance_L2_pbc)#,xy_col_lst=['x','y'],**kwargs)        "
   ]
  },
  {
   "cell_type": "code",
   "execution_count": 184,
   "id": "bf38db4c",
   "metadata": {
    "ExecuteTime": {
     "end_time": "2023-06-25T18:15:18.787202Z",
     "start_time": "2023-06-25T18:15:18.579883Z"
    }
   },
   "outputs": [
    {
     "data": {
      "image/png": "[encoded data removed]",
      "text/plain": [
       "<Figure size 300x200 with 1 Axes>"
      ]
     },
     "metadata": {},
     "output_type": "display_data"
    }
   ],
   "source": [
    "#check that local tracking is working\n",
    "fig,ax=plt.subplots(figsize=(3,2))\n",
    "d_next.plot(kind='scatter',x='x',y='y',marker='.',ax=ax,color='k')\n",
    "\n",
    "for ii,(i1,i2) in enumerate(id_pair_lst):\n",
    "    ax.scatter(x=d_prev['x'].values[i1],\n",
    "                y=d_prev['y'].values[i1],\n",
    "                c=f'C{ii}',marker='s')\n",
    "    ax.scatter(x=d_next['x'].values[i2],\n",
    "                y=d_next['y'].values[i2],\n",
    "                c=f'C{ii}',marker='*',edgecolor='k')\n",
    "# format_plot\n",
    "ax.axis([0,width,0,height])\n",
    "format_plot(xlabel='x (pxl)',ylabel='y (pxl)',fontsize=12,ax=ax)\n",
    "ax.tick_params(top=True, right=True,direction='in',which='both')\n",
    "plt.show()"
   ]
  },
  {
   "cell_type": "code",
   "execution_count": 185,
   "id": "808dad12",
   "metadata": {
    "ExecuteTime": {
     "end_time": "2023-06-25T18:15:18.844581Z",
     "start_time": "2023-06-25T18:15:18.789397Z"
    }
   },
   "outputs": [],
   "source": [
    "def routine(task):\n",
    "    log_folder_parquet,trial_num,width,height=task\n",
    "    g=load_parquet_by_trial_num(trial_num=trial_num,folder_parquet=log_folder_parquet)\n",
    "    dict_out_lst = measure_creation_ranges(g,width,height)\n",
    "    return dict_out_lst"
   ]
  },
  {
   "cell_type": "code",
   "execution_count": 186,
   "id": "3122c20e",
   "metadata": {
    "ExecuteTime": {
     "end_time": "2023-06-25T18:15:52.289317Z",
     "start_time": "2023-06-25T18:15:18.846484Z"
    }
   },
   "outputs": [
    {
     "name": "stdout",
     "output_type": "stream",
     "text": [
      "added 641 tasks to task_lst\n",
      "running 641 tasks over 7 cpu cores...\n"
     ]
    }
   ],
   "source": [
    "#repeat for a larger number of tips\n",
    "task_lst=[]\n",
    "for fn in os.listdir(log_folder_parquet):\n",
    "    trial_num = eval(fn.split('=')[1])\n",
    "    task = log_folder_parquet,trial_num,width,height\n",
    "    task_lst.append(task)\n",
    "print(f\"added {len(task_lst)} tasks to task_lst\")\n",
    "\n",
    "ncores = os.cpu_count()-1\n",
    "print(f\"running {len(task_lst)} tasks over {ncores} cpu cores...\")\n",
    "retval_lst = eval_routine_multiprocess(routine, task_lst, ncores)"
   ]
  },
  {
   "cell_type": "code",
   "execution_count": 187,
   "id": "0043c1df",
   "metadata": {
    "ExecuteTime": {
     "end_time": "2023-06-25T18:15:52.390371Z",
     "start_time": "2023-06-25T18:15:52.291851Z"
    }
   },
   "outputs": [
    {
     "data": {
      "text/plain": [
       "(14204, 7)"
      ]
     },
     "execution_count": 187,
     "metadata": {},
     "output_type": "execute_result"
    }
   ],
   "source": [
    "lst=[]\n",
    "for retval in retval_lst:\n",
    "    lst.extend(retval)\n",
    "df = pd.DataFrame(lst)\n",
    "del lst\n",
    "df.shape"
   ]
  },
  {
   "cell_type": "code",
   "execution_count": 188,
   "id": "9f948c95",
   "metadata": {
    "ExecuteTime": {
     "end_time": "2023-06-25T18:15:52.516005Z",
     "start_time": "2023-06-25T18:15:52.391835Z"
    }
   },
   "outputs": [],
   "source": [
    "#save to .csv\n",
    "rcd_dir= os.path.join(folder,'radial_creation_distribution.csv')\n",
    "df.to_csv(rcd_dir,index=False)"
   ]
  },
  {
   "cell_type": "markdown",
   "id": "6521515c",
   "metadata": {},
   "source": [
    "# visualize radial creation distribution"
   ]
  },
  {
   "cell_type": "code",
   "execution_count": 189,
   "id": "5e5f6fb4",
   "metadata": {
    "ExecuteTime": {
     "end_time": "2023-06-25T18:15:52.579214Z",
     "start_time": "2023-06-25T18:15:52.519468Z"
    }
   },
   "outputs": [],
   "source": [
    "DX=0.025 #cm/pxl"
   ]
  },
  {
   "cell_type": "code",
   "execution_count": 190,
   "id": "903a835c",
   "metadata": {
    "ExecuteTime": {
     "end_time": "2023-06-25T18:15:52.636115Z",
     "start_time": "2023-06-25T18:15:52.580813Z"
    }
   },
   "outputs": [],
   "source": [
    "Rc_values = DX*df['mindist'].values\n",
    "# Rc_values = DX*df[df['n']==4]['mindist'].values\n",
    "# Rc_values = DX*df[df['n']>=4]['mindist'].values\n",
    "# Rc_values = DX*df[df['n']==10]['mindist'].values"
   ]
  },
  {
   "cell_type": "code",
   "execution_count": 213,
   "id": "9fc6108a",
   "metadata": {
    "ExecuteTime": {
     "end_time": "2023-06-25T19:16:06.357079Z",
     "start_time": "2023-06-25T19:16:05.725630Z"
    }
   },
   "outputs": [
    {
     "name": "stderr",
     "output_type": "stream",
     "text": [
      "No handles with labels found to put in legend.\n"
     ]
    },
    {
     "data": {
      "image/png": "[encoded data removed]",
      "text/plain": [
       "<Figure size 500x300 with 1 Axes>"
      ]
     },
     "metadata": {},
     "output_type": "display_data"
    }
   ],
   "source": [
    "#visualize the radial creation distribution\n",
    "#check that local tracking is working\n",
    "fig,ax=plt.subplots(figsize=(5,3))\n",
    "                \n",
    "# bins=np.arange(0,5,0.1)\n",
    "# bins=np.arange(0.3,5,0.1)\n",
    "bins=np.arange(0.3,5,0.05)\n",
    "bins=np.logspace(-3,1,100)\n",
    "# bins=np.logspace(-2,1,100)\n",
    "# bins=np.logspace(-0.43,2,100)\n",
    "rv=ax.hist(Rc_values,bins=bins,density=True,color='C3')\n",
    "    \n",
    "# format_plot\n",
    "format_plot(xlabel=r'$R_c$  (cm)',ylabel='Probability',fontsize=15,ax=ax)\n",
    "# format_plot(xlabel=r'$R_c(N>2)$  (cm)',ylabel='Probability',fontsize=15,ax=ax)\n",
    "# format_plot(xlabel=r'$R_c(N=2\\rightarrow 4)$  (cm)',ylabel='Probability',fontsize=15,ax=ax)\n",
    "# format_plot(xlabel=r'$R_c(N=4\\rightarrow 6)$  (cm)',ylabel='Probability',fontsize=15,ax=ax)\n",
    "# format_plot(xlabel=r'$R_c(N=6\\rightarrow 8)$  (cm)',ylabel='Probability',fontsize=15,ax=ax)\n",
    "# format_plot(xlabel=r'$R_c(N=8\\rightarrow 10)$  (cm)',ylabel='Probability',fontsize=15,ax=ax)\n",
    "ax.tick_params(top=True, right=True,direction='in',which='both')\n",
    "ax.set_xscale('log')\n",
    "# ax.set_yscale('log')\n",
    "#TODO: show fit to Gamma distribution \n",
    "#HINT: # GammaDistribution[5.85544,0.159078]\n",
    "\n",
    "\n",
    "\n",
    "# # ExtremeValueDistribution[0.751593,0.308412]\n",
    "# c=0.751593;d=0.308412\n",
    "# x = np.linspace(scipy.stats.genextreme.ppf(0.01, c,d),\n",
    "#                 scipy.stats.genextreme.ppf(0.99, c,d), 100)\n",
    "# ax.plot(x, scipy.stats.genextreme.pdf(x, c,d),'k-', lw=2, alpha=0.6, label='genextreme pdf')\n",
    "ax.legend()\n",
    "plt.show()"
   ]
  },
  {
   "cell_type": "code",
   "execution_count": 204,
   "id": "f461d4ad",
   "metadata": {
    "ExecuteTime": {
     "end_time": "2023-06-25T18:23:45.808938Z",
     "start_time": "2023-06-25T18:23:45.740971Z"
    }
   },
   "outputs": [],
   "source": [
    "# scipy.stats.genextreme.ppf"
   ]
  },
  {
   "cell_type": "code",
   "execution_count": 205,
   "id": "38d41f31",
   "metadata": {
    "ExecuteTime": {
     "end_time": "2023-06-25T18:23:58.814724Z",
     "start_time": "2023-06-25T18:23:58.734425Z"
    }
   },
   "outputs": [],
   "source": [
    "#DONE: look for the dependence on n\n",
    "#TODO: quantify the radial creation distribution\n",
    "#HINT: use Mathematica"
   ]
  },
  {
   "cell_type": "code",
   "execution_count": 206,
   "id": "db28103f",
   "metadata": {
    "ExecuteTime": {
     "end_time": "2023-06-25T18:23:59.276894Z",
     "start_time": "2023-06-25T18:23:59.206726Z"
    }
   },
   "outputs": [
    {
     "data": {
      "text/plain": [
       "0.37153522909717257"
      ]
     },
     "execution_count": 206,
     "metadata": {},
     "output_type": "execute_result"
    }
   ],
   "source": [
    "np.min(bins)"
   ]
  },
  {
   "cell_type": "code",
   "execution_count": 207,
   "id": "171f4ec2",
   "metadata": {
    "ExecuteTime": {
     "end_time": "2023-06-25T18:24:00.261121Z",
     "start_time": "2023-06-25T18:24:00.195800Z"
    }
   },
   "outputs": [],
   "source": [
    "# print(list(Rc_values[Rc_values>0.37][:1000]))"
   ]
  },
  {
   "cell_type": "code",
   "execution_count": 208,
   "id": "aad7de8a",
   "metadata": {
    "ExecuteTime": {
     "end_time": "2023-06-25T18:24:00.702138Z",
     "start_time": "2023-06-25T18:24:00.631268Z"
    }
   },
   "outputs": [],
   "source": [
    "# # DONE: measure R_c_bar for the FK model\n",
    "# R_c_bar=0.7028562 # cm\n",
    "# R_c_rms=0.8462717 # cm\n",
    "# TODO: measure R_c_bar for the LR model\n",
    "# TODO: dev creation model using R_c_bar\n"
   ]
  },
  {
   "cell_type": "code",
   "execution_count": 209,
   "id": "3c7c3bab",
   "metadata": {
    "ExecuteTime": {
     "end_time": "2023-06-25T18:24:01.327429Z",
     "start_time": "2023-06-25T18:24:01.255428Z"
    }
   },
   "outputs": [
    {
     "name": "stdout",
     "output_type": "stream",
     "text": [
      "R_c_bar=0.6666909 # cm\n",
      "R_c_rms=0.8378328 # cm\n"
     ]
    }
   ],
   "source": [
    "# measure R_c_bar\n",
    "R_c_bar = np.mean(Rc_values)\n",
    "R_c_rms = np.sqrt(np.mean(Rc_values ** 2))\n",
    "print(f\"{R_c_bar=:.7f} # cm\")\n",
    "print(f\"{R_c_rms=:.7f} # cm\")"
   ]
  },
  {
   "cell_type": "code",
   "execution_count": 210,
   "id": "e93225c0",
   "metadata": {
    "ExecuteTime": {
     "end_time": "2023-06-25T18:24:01.784061Z",
     "start_time": "2023-06-25T18:24:01.715134Z"
    }
   },
   "outputs": [],
   "source": [
    "#  = bootstrap_95CI_Delta_mean(x, num_samples=1000)"
   ]
  },
  {
   "cell_type": "code",
   "execution_count": 211,
   "id": "61a02170",
   "metadata": {
    "ExecuteTime": {
     "end_time": "2023-06-25T18:24:03.033697Z",
     "start_time": "2023-06-25T18:24:02.803043Z"
    }
   },
   "outputs": [
    {
     "name": "stdout",
     "output_type": "stream",
     "text": [
      "mean: 0.6667 +/- 0.0082 (N=14204, p_normal=0.8265)\n"
     ]
    }
   ],
   "source": [
    "meanx,Delta_meanx,num_obs,p_normal=comp_mean_bootstrap_uncertainty(Rc_values)\n",
    "printing=True\n",
    "if printing:\n",
    "    print(f\"mean: {meanx:.4f} +/- {Delta_meanx:.4f} (N={num_obs}, {p_normal=:.4f})\")\n"
   ]
  },
  {
   "cell_type": "markdown",
   "id": "1ed02734",
   "metadata": {},
   "source": [
    "# TODO(in new .ipynb): dev creation model based on this algorithm\n",
    "1. produce level set of distance, $R_c$ as R_c_bar, from the set of all tips\n",
    "1. randomly select a contour from the resulting list of lists of segments\n",
    "1. randomly choose a number uniformly on the interval 0 to 1\n",
    "1. place new pair of tips on the linear interpolant of that contour (HINT: use the segment that connects the nearest two points)\n",
    "1. space the new pair of tips $R_i$ apart oriented at a random angle, $\\phi_i$\n",
    "1. time step forward using a repulsive force between the particles\n",
    "    - Q: in time it follows a gamma distribution. what is the repulsive force versus distance?"
   ]
  },
  {
   "cell_type": "code",
   "execution_count": null,
   "id": "f20eb511",
   "metadata": {},
   "outputs": [],
   "source": []
  }
 ],
 "metadata": {
  "hide_input": false,
  "kernelspec": {
   "display_name": "Python 3 (ipykernel)",
   "language": "python",
   "name": "python3"
  },
  "language_info": {
   "codemirror_mode": {
    "name": "ipython",
    "version": 3
   },
   "file_extension": ".py",
   "mimetype": "text/x-python",
   "name": "python",
   "nbconvert_exporter": "python",
   "pygments_lexer": "ipython3",
   "version": "3.9.13"
  },
  "nbTranslate": {
   "displayLangs": [
    "*"
   ],
   "hotkey": "alt-t",
   "langInMainMenu": true,
   "sourceLang": "en",
   "targetLang": "fr",
   "useGoogleTranslate": true
  },
  "toc": {
   "base_numbering": 1,
   "nav_menu": {},
   "number_sections": true,
   "sideBar": true,
   "skip_h1_title": false,
   "title_cell": "Table of Contents",
   "title_sidebar": "Contents",
   "toc_cell": false,
   "toc_position": {},
   "toc_section_display": true,
   "toc_window_display": false
  }
 },
 "nbformat": 4,
 "nbformat_minor": 5
}
