{
 "cells": [
  {
   "cell_type": "markdown",
   "metadata": {
    "heading_collapsed": true
   },
   "source": [
    "# DONE: postprocessing_tip_logs_automaticallly\n",
    "Tim Tyree<br>\n",
    "5.28.2020<br>"
   ]
  },
  {
   "cell_type": "code",
   "execution_count": 1,
   "metadata": {
    "ExecuteTime": {
     "end_time": "2020-06-18T17:18:59.320717Z",
     "start_time": "2020-06-18T17:18:57.014266Z"
    },
    "hidden": true
   },
   "outputs": [
    {
     "name": "stdout",
     "output_type": "stream",
     "text": [
      "100000\n"
     ]
    }
   ],
   "source": [
    "from lib.process_tip_log import process_tip_log\n",
    "from lib.ProgressBar import *\n",
    "import os, time"
   ]
  },
  {
   "cell_type": "code",
   "execution_count": 2,
   "metadata": {
    "ExecuteTime": {
     "end_time": "2020-05-29T01:44:20.778376Z",
     "start_time": "2020-05-29T01:44:20.774714Z"
    },
    "hidden": true
   },
   "outputs": [],
   "source": [
    "#process_tip_log? #yields\n",
    "# process_tip_log(data_dir, descrip = None, plot_figs=True, \n",
    "# \tsave_summary_dir = 'Data/tip_log_summaries/odd_tip_log_summary.csv', \n",
    "# \tsave_tip_locations_dir = None, verbose = True)"
   ]
  },
  {
   "cell_type": "code",
   "execution_count": 2,
   "metadata": {
    "ExecuteTime": {
     "end_time": "2020-06-18T17:19:33.154479Z",
     "start_time": "2020-06-18T17:19:09.365728Z"
    },
    "hidden": true
   },
   "outputs": [
    {
     "name": "stdout",
     "output_type": "stream",
     "text": [
      "processing 8 logs files...\n",
      "\n",
      "> odd birthdeaths occured with # of births/deaths per event = [ 1  3  5 -1 -3].<br>\n",
      "> total # of odd birth/death events detected 232.<br>\n",
      "> total # of birth/death events detected 2066.<br>\n",
      "> the percent of birth/deaths that were odd was 11.2%.<br>\n",
      "\n",
      "> # of frames with an odd # of spiral tips created/destroyed = 232<br>\n",
      "> # of frames with an odd # of spiral tips existing = 1975<br>\n",
      "> fraction of such frames that are odd births/deaths = 0.1175<br>\n",
      "df_summary saved to Data/tip_log_summaries/odd_tip_log_summary.csv\n",
      "saved odd_timeseries plot to:\n",
      "Figures/odd/odd_timeseries__sigma_0.1_threshold_0.95_wrapping_true_at_time_1485.2.png\n",
      "saved odd_histogram plot to:\n",
      "Figures/odd/odd_timeseries__sigma_0.1_threshold_0.95_wrapping_true_at_time_1485.2.png\n",
      "saved odd_histogram plot to:\n",
      "Figures/odd/odd_histogram__sigma_0.1_threshold_0.95_wrapping_true_at_time_1485.2.png\n",
      "495681 rows appended in 16.647 seconds.\n",
      "the number of null observations in output dataset is 0.\n"
     ]
    },
    {
     "ename": "FileNotFoundError",
     "evalue": "[Errno 2] No such file or directory: 'Data/output/tip_positions_chaos_circle6_starting_at_5400.0_sigma_0.1_threshold_0.95_wrapping_true_at_time_1485.2.csv'",
     "output_type": "error",
     "traceback": [
      "\u001b[0;31m---------------------------------------------------------------------------\u001b[0m",
      "\u001b[0;31mFileNotFoundError\u001b[0m                         Traceback (most recent call last)",
      "\u001b[0;32m<ipython-input-2-6613b9ae9535>\u001b[0m in \u001b[0;36m<module>\u001b[0;34m\u001b[0m\n\u001b[1;32m      6\u001b[0m         \u001b[0mdata_dir\u001b[0m \u001b[0;34m=\u001b[0m \u001b[0mos\u001b[0m\u001b[0;34m.\u001b[0m\u001b[0mpath\u001b[0m\u001b[0;34m.\u001b[0m\u001b[0mjoin\u001b[0m\u001b[0;34m(\u001b[0m\u001b[0mroot\u001b[0m\u001b[0;34m,\u001b[0m \u001b[0mname\u001b[0m\u001b[0;34m)\u001b[0m\u001b[0;34m\u001b[0m\u001b[0;34m\u001b[0m\u001b[0m\n\u001b[1;32m      7\u001b[0m         \u001b[0;32mif\u001b[0m \u001b[0mdata_dir\u001b[0m\u001b[0;34m[\u001b[0m\u001b[0;34m-\u001b[0m\u001b[0;36m4\u001b[0m\u001b[0;34m:\u001b[0m\u001b[0;34m]\u001b[0m \u001b[0;34m==\u001b[0m\u001b[0;34m'.csv'\u001b[0m\u001b[0;34m:\u001b[0m\u001b[0;34m\u001b[0m\u001b[0;34m\u001b[0m\u001b[0m\n\u001b[0;32m----> 8\u001b[0;31m             \u001b[0m_\u001b[0m \u001b[0;34m=\u001b[0m \u001b[0mprocess_tip_log\u001b[0m\u001b[0;34m(\u001b[0m\u001b[0mdata_dir\u001b[0m\u001b[0;34m,\u001b[0m \u001b[0mverbose\u001b[0m\u001b[0;34m=\u001b[0m\u001b[0;32mTrue\u001b[0m\u001b[0;34m)\u001b[0m\u001b[0;34m\u001b[0m\u001b[0;34m\u001b[0m\u001b[0m\n\u001b[0m\u001b[1;32m      9\u001b[0m         \u001b[0mprintProgressBar\u001b[0m\u001b[0;34m(\u001b[0m\u001b[0mi\u001b[0m \u001b[0;34m+\u001b[0m \u001b[0;36m1\u001b[0m\u001b[0;34m,\u001b[0m \u001b[0mlen\u001b[0m\u001b[0;34m(\u001b[0m\u001b[0mfiles\u001b[0m\u001b[0;34m)\u001b[0m\u001b[0;34m,\u001b[0m \u001b[0mprefix\u001b[0m \u001b[0;34m=\u001b[0m \u001b[0;34m'Progress:'\u001b[0m\u001b[0;34m,\u001b[0m \u001b[0msuffix\u001b[0m \u001b[0;34m=\u001b[0m \u001b[0;34m'Complete'\u001b[0m\u001b[0;34m,\u001b[0m \u001b[0mlength\u001b[0m \u001b[0;34m=\u001b[0m \u001b[0;36m50\u001b[0m\u001b[0;34m)\u001b[0m\u001b[0;34m;\u001b[0m \u001b[0mi\u001b[0m \u001b[0;34m+=\u001b[0m \u001b[0;36m1\u001b[0m\u001b[0;34m\u001b[0m\u001b[0;34m\u001b[0m\u001b[0m\n\u001b[1;32m     10\u001b[0m     \u001b[0;32mfor\u001b[0m \u001b[0mname\u001b[0m \u001b[0;32min\u001b[0m \u001b[0mdirs\u001b[0m\u001b[0;34m:\u001b[0m\u001b[0;34m\u001b[0m\u001b[0;34m\u001b[0m\u001b[0m\n",
      "\u001b[0;32m~/Documents/GitHub/care/notebooks/lib/process_tip_log.py\u001b[0m in \u001b[0;36mprocess_tip_log\u001b[0;34m(data_dir, descrip, plot_figs, save_summary_dir, save_tip_locations_dir, verbose)\u001b[0m\n\u001b[1;32m    192\u001b[0m                 \u001b[0mplt\u001b[0m\u001b[0;34m.\u001b[0m\u001b[0mclose\u001b[0m\u001b[0;34m(\u001b[0m\u001b[0;34m'all'\u001b[0m\u001b[0;34m)\u001b[0m\u001b[0;34m\u001b[0m\u001b[0;34m\u001b[0m\u001b[0m\n\u001b[1;32m    193\u001b[0m         \u001b[0;31m#change the log to a table and save it\u001b[0m\u001b[0;34m\u001b[0m\u001b[0;34m\u001b[0m\u001b[0;34m\u001b[0m\u001b[0m\n\u001b[0;32m--> 194\u001b[0;31m         \u001b[0mdf_tips\u001b[0m \u001b[0;34m=\u001b[0m \u001b[0m_log_to_table\u001b[0m\u001b[0;34m(\u001b[0m\u001b[0mdf\u001b[0m\u001b[0;34m=\u001b[0m\u001b[0mdf_new\u001b[0m\u001b[0;34m,\u001b[0m \u001b[0msave_dir\u001b[0m\u001b[0;34m=\u001b[0m\u001b[0msave_tip_locations_dir\u001b[0m\u001b[0;34m)\u001b[0m\u001b[0;34m\u001b[0m\u001b[0;34m\u001b[0m\u001b[0m\n\u001b[0m\u001b[1;32m    195\u001b[0m         \u001b[0;32mreturn\u001b[0m \u001b[0mdf_tips\u001b[0m\u001b[0;34m\u001b[0m\u001b[0;34m\u001b[0m\u001b[0m\n\u001b[1;32m    196\u001b[0m \u001b[0;34m\u001b[0m\u001b[0m\n",
      "\u001b[0;32m~/Documents/GitHub/care/notebooks/lib/process_tip_log.py\u001b[0m in \u001b[0;36m_log_to_table\u001b[0;34m(df, save_dir)\u001b[0m\n\u001b[1;32m    161\u001b[0m \u001b[0;34m\u001b[0m\u001b[0m\n\u001b[1;32m    162\u001b[0m         \u001b[0mprint\u001b[0m\u001b[0;34m(\u001b[0m\u001b[0;34mf\"the number of null observations in output dataset is {sum(sum(df_tips.isnull().values))}.\"\u001b[0m\u001b[0;34m)\u001b[0m\u001b[0;34m\u001b[0m\u001b[0;34m\u001b[0m\u001b[0m\n\u001b[0;32m--> 163\u001b[0;31m         \u001b[0mdf_tips\u001b[0m\u001b[0;34m.\u001b[0m\u001b[0mto_csv\u001b[0m\u001b[0;34m(\u001b[0m\u001b[0msave_dir\u001b[0m\u001b[0;34m)\u001b[0m\u001b[0;34m\u001b[0m\u001b[0;34m\u001b[0m\u001b[0m\n\u001b[0m\u001b[1;32m    164\u001b[0m         \u001b[0mprint\u001b[0m\u001b[0;34m(\u001b[0m\u001b[0;34mf\"tip locations saved to:\\n\\t{save_dir}\"\u001b[0m\u001b[0;34m)\u001b[0m\u001b[0;34m\u001b[0m\u001b[0;34m\u001b[0m\u001b[0m\n\u001b[1;32m    165\u001b[0m         \u001b[0;32mreturn\u001b[0m \u001b[0mdf_tips\u001b[0m\u001b[0;34m\u001b[0m\u001b[0;34m\u001b[0m\u001b[0m\n",
      "\u001b[0;32m/usr/local/lib/python3.7/site-packages/pandas/core/generic.py\u001b[0m in \u001b[0;36mto_csv\u001b[0;34m(self, path_or_buf, sep, na_rep, float_format, columns, header, index, index_label, mode, encoding, compression, quoting, quotechar, line_terminator, chunksize, tupleize_cols, date_format, doublequote, escapechar, decimal)\u001b[0m\n\u001b[1;32m   3018\u001b[0m                                  \u001b[0mdoublequote\u001b[0m\u001b[0;34m=\u001b[0m\u001b[0mdoublequote\u001b[0m\u001b[0;34m,\u001b[0m\u001b[0;34m\u001b[0m\u001b[0;34m\u001b[0m\u001b[0m\n\u001b[1;32m   3019\u001b[0m                                  escapechar=escapechar, decimal=decimal)\n\u001b[0;32m-> 3020\u001b[0;31m         \u001b[0mformatter\u001b[0m\u001b[0;34m.\u001b[0m\u001b[0msave\u001b[0m\u001b[0;34m(\u001b[0m\u001b[0;34m)\u001b[0m\u001b[0;34m\u001b[0m\u001b[0;34m\u001b[0m\u001b[0m\n\u001b[0m\u001b[1;32m   3021\u001b[0m \u001b[0;34m\u001b[0m\u001b[0m\n\u001b[1;32m   3022\u001b[0m         \u001b[0;32mif\u001b[0m \u001b[0mpath_or_buf\u001b[0m \u001b[0;32mis\u001b[0m \u001b[0;32mNone\u001b[0m\u001b[0;34m:\u001b[0m\u001b[0;34m\u001b[0m\u001b[0;34m\u001b[0m\u001b[0m\n",
      "\u001b[0;32m/usr/local/lib/python3.7/site-packages/pandas/io/formats/csvs.py\u001b[0m in \u001b[0;36msave\u001b[0;34m(self)\u001b[0m\n\u001b[1;32m    155\u001b[0m             f, handles = _get_handle(self.path_or_buf, self.mode,\n\u001b[1;32m    156\u001b[0m                                      \u001b[0mencoding\u001b[0m\u001b[0;34m=\u001b[0m\u001b[0mself\u001b[0m\u001b[0;34m.\u001b[0m\u001b[0mencoding\u001b[0m\u001b[0;34m,\u001b[0m\u001b[0;34m\u001b[0m\u001b[0;34m\u001b[0m\u001b[0m\n\u001b[0;32m--> 157\u001b[0;31m                                      compression=self.compression)\n\u001b[0m\u001b[1;32m    158\u001b[0m             \u001b[0mclose\u001b[0m \u001b[0;34m=\u001b[0m \u001b[0;32mTrue\u001b[0m\u001b[0;34m\u001b[0m\u001b[0;34m\u001b[0m\u001b[0m\n\u001b[1;32m    159\u001b[0m \u001b[0;34m\u001b[0m\u001b[0m\n",
      "\u001b[0;32m/usr/local/lib/python3.7/site-packages/pandas/io/common.py\u001b[0m in \u001b[0;36m_get_handle\u001b[0;34m(path_or_buf, mode, encoding, compression, memory_map, is_text)\u001b[0m\n\u001b[1;32m    422\u001b[0m         \u001b[0;32melif\u001b[0m \u001b[0mencoding\u001b[0m\u001b[0;34m:\u001b[0m\u001b[0;34m\u001b[0m\u001b[0;34m\u001b[0m\u001b[0m\n\u001b[1;32m    423\u001b[0m             \u001b[0;31m# Python 3 and encoding\u001b[0m\u001b[0;34m\u001b[0m\u001b[0;34m\u001b[0m\u001b[0;34m\u001b[0m\u001b[0m\n\u001b[0;32m--> 424\u001b[0;31m             \u001b[0mf\u001b[0m \u001b[0;34m=\u001b[0m \u001b[0mopen\u001b[0m\u001b[0;34m(\u001b[0m\u001b[0mpath_or_buf\u001b[0m\u001b[0;34m,\u001b[0m \u001b[0mmode\u001b[0m\u001b[0;34m,\u001b[0m \u001b[0mencoding\u001b[0m\u001b[0;34m=\u001b[0m\u001b[0mencoding\u001b[0m\u001b[0;34m,\u001b[0m \u001b[0mnewline\u001b[0m\u001b[0;34m=\u001b[0m\u001b[0;34m\"\"\u001b[0m\u001b[0;34m)\u001b[0m\u001b[0;34m\u001b[0m\u001b[0;34m\u001b[0m\u001b[0m\n\u001b[0m\u001b[1;32m    425\u001b[0m         \u001b[0;32melif\u001b[0m \u001b[0mis_text\u001b[0m\u001b[0;34m:\u001b[0m\u001b[0;34m\u001b[0m\u001b[0;34m\u001b[0m\u001b[0m\n\u001b[1;32m    426\u001b[0m             \u001b[0;31m# Python 3 and no explicit encoding\u001b[0m\u001b[0;34m\u001b[0m\u001b[0;34m\u001b[0m\u001b[0;34m\u001b[0m\u001b[0m\n",
      "\u001b[0;31mFileNotFoundError\u001b[0m: [Errno 2] No such file or directory: 'Data/output/tip_positions_chaos_circle6_starting_at_5400.0_sigma_0.1_threshold_0.95_wrapping_true_at_time_1485.2.csv'"
     ]
    }
   ],
   "source": [
    "# print list of input files using os.walk\n",
    "start = time.time; i = 0\n",
    "for root, dirs, files in os.walk(\"Data/input\", topdown=False):\n",
    "    print(f\"processing {len(files)} logs files...\\n\")\n",
    "    for name in files:\n",
    "        data_dir = os.path.join(root, name)\n",
    "        if data_dir[-4:] =='.csv':\n",
    "            _ = process_tip_log(data_dir, verbose=True)\n",
    "        printProgressBar(i + 1, len(files), prefix = 'Progress:', suffix = 'Complete', length = 50); i += 1\n",
    "    for name in dirs:\n",
    "        data_dir = os.path.join(root, name)\n",
    "        if data_dir[-4:] =='.csv':\n",
    "            _ = process_tip_log(data_dir, verbose=True)\n",
    "        printProgressBar(i + 1, len(dirs), prefix = 'Progress:', suffix = 'Complete', length = 50); i += 1\n",
    "print(f'\\n\\tlogging completed in {time.time()-start:.2f}')"
   ]
  },
  {
   "cell_type": "code",
   "execution_count": 4,
   "metadata": {
    "ExecuteTime": {
     "end_time": "2020-05-29T02:03:30.807159Z",
     "start_time": "2020-05-29T02:03:30.803480Z"
    },
    "hidden": true
   },
   "outputs": [],
   "source": [
    "import matplotlib.pyplot as plt\n",
    "\n",
    "plt.close('all')"
   ]
  },
  {
   "cell_type": "code",
   "execution_count": 7,
   "metadata": {
    "ExecuteTime": {
     "end_time": "2020-05-29T02:29:33.563074Z",
     "start_time": "2020-05-29T02:28:12.201868Z"
    },
    "hidden": true
   },
   "outputs": [
    {
     "name": "stdout",
     "output_type": "stream",
     "text": [
      "> odd birthdeaths occured with # of births/deaths per event = [ 1  5 -1 -3].<br>\n",
      "> total # of odd birth/death events detected 252.<br>\n",
      "> total # of birth/death events detected 859.<br>\n",
      "> the percent of birth/deaths that were odd was 29.3%.<br>\n",
      "\n",
      "> # of frames with an odd # of spiral tips created/destroyed = 252<br>\n",
      "> # of frames with an odd # of spiral tips existing = 1883<br>\n",
      "> fraction of such frames that are odd births/deaths = 0.1338<br>\n",
      "df_summary saved to Data/tip_log_summaries/odd_tip_log_summary.csv\n",
      "saved odd_timeseries plot to:\n",
      "Figures/odd/odd_timeseries__sigma_4_threshold_0.7_wrapping_true_at_time_5400.0.png\n",
      "saved odd_histogram plot to:\n",
      "Figures/odd/odd_timeseries__sigma_4_threshold_0.7_wrapping_true_at_time_5400.0.png\n",
      "saved odd_histogram plot to:\n",
      "Figures/odd/odd_histogram__sigma_4_threshold_0.7_wrapping_true_at_time_5400.0.png\n",
      "682085 rows appended in 54.187 seconds.\n",
      "the number of null observations in output dataset is 0.\n",
      "tip locations saved to:\n",
      "\tData/tip_positions_chaos_circle6_sigma_4_threshold_0.7_wrapping_true_at_time_5400.0.csv\n"
     ]
    }
   ],
   "source": [
    "# %timeit\n",
    "# data_dir = 'Data/tip_log_chaos_circle6_sigma_4_threshold_0.7_wrapping_true_at_time_5400.0.csv'\n",
    "# _ = process_tip_log(data_dir, verbose=True)"
   ]
  },
  {
   "cell_type": "code",
   "execution_count": 13,
   "metadata": {
    "ExecuteTime": {
     "end_time": "2020-05-29T02:31:21.953794Z",
     "start_time": "2020-05-29T02:31:21.950754Z"
    },
    "hidden": true
   },
   "outputs": [],
   "source": [
    "try:\n",
    "    printProgressBar(1, 0, prefix = 'Progress:', suffix = 'Complete', length = 50); i += 1\n",
    "except:\n",
    "    pass"
   ]
  },
  {
   "cell_type": "markdown",
   "metadata": {
    "heading_collapsed": true
   },
   "source": [
    "# a list of first logs \n",
    "quick! post process"
   ]
  },
  {
   "cell_type": "code",
   "execution_count": null,
   "metadata": {
    "hidden": true
   },
   "outputs": [],
   "source": [
    "# Data/tip_log_chaos_circle6_starting_at_5400.0_sigma_0.001_threshold_0.999_wrapping_true_at_time_1468.7.csv\n",
    "# Data/tip_log_chaos_circle6_starting_at_5400.0_sigma_0.001_threshold_0.99_wrapping_true_at_time_1464.9.csv\n",
    "# Data/tip_log_chaos_circle6_starting_at_5400.0_sigma_0.001_threshold_0.95_wrapping_true_at_time_1461.1.csv\n",
    "# Data/tip_log_chaos_circle6_starting_at_5400.0_sigma_0.1_threshold_0.95_wrapping_true_at_time_1485.2.csv\n",
    "# 'Data/tip_log_chaos_circle6_starting_at_5400.0_sigma_0.01_threshold_0.95_wrapping_true_at_time_1455.7.csv'"
   ]
  },
  {
   "cell_type": "markdown",
   "metadata": {},
   "source": [
    "# DONE: updated method for processing tip logs."
   ]
  },
  {
   "cell_type": "code",
   "execution_count": 119,
   "metadata": {
    "ExecuteTime": {
     "end_time": "2020-06-21T20:29:42.443542Z",
     "start_time": "2020-06-21T20:29:42.438259Z"
    }
   },
   "outputs": [],
   "source": [
    "import time, os, sys, re\n",
    "beep = lambda x: os.system(\"echo -n '\\\\a';sleep 0.2;\" * x)\n",
    "if not 'nb_dir' in globals():\n",
    "    nb_dir = os.getcwd()\n",
    "sys.path.append(\"lib\") \n",
    "from lib import *\n",
    "import pandas as pd, numpy as np, matplotlib.pyplot as plt"
   ]
  },
  {
   "cell_type": "code",
   "execution_count": 1,
   "metadata": {
    "ExecuteTime": {
     "end_time": "2020-06-23T17:33:09.580887Z",
     "start_time": "2020-06-23T17:33:09.567078Z"
    }
   },
   "outputs": [],
   "source": [
    "def process_tip_log_file(input_fn):\n",
    "    '''input = file of tip log. returns pandas dataframe of tips.'''\n",
    "    assert(os.path.exists(input_fn))\n",
    "    df_input = pd.read_csv(input_fn)\n",
    "    data_list = []\n",
    "    time_sig_figs = 3\n",
    "    #for each row of the input log\n",
    "    for j in df_input.index:\n",
    "        row = df_input.iloc[j]\n",
    "        t = row['t']\n",
    "        x_lst = eval(row['x'])\n",
    "        y_lst = eval(row['y'])\n",
    "        s1_lst = eval(row['s1'])\n",
    "        s2_lst = eval(row['s2'])\n",
    "        n = len(x_lst)\n",
    "        for x,y,s1,s2 in zip(x_lst,y_lst,s1_lst,s2_lst):\n",
    "            s = (s1,s2)\n",
    "            datum = {'t': float(np.around(t, time_sig_figs)),\n",
    "                        'x': x,\n",
    "                        'y': y,\n",
    "                        's1': tuple(s1),\n",
    "                        's2': tuple(s2),\n",
    "                        'n':n}\n",
    "            data_list.append(datum)\n",
    "    df_output = pd.DataFrame(data_list)\n",
    "    return df_output"
   ]
  },
  {
   "cell_type": "code",
   "execution_count": 134,
   "metadata": {
    "ExecuteTime": {
     "end_time": "2020-06-22T17:14:53.334774Z",
     "start_time": "2020-06-22T17:14:52.044808Z"
    }
   },
   "outputs": [],
   "source": [
    "# os.chdir(nb_dir+'/Data/buffers_with_odd_tips_detected_ds_5_param_set_8')\n",
    "# input_fn = 'Log/test-pbc-tips-1.csv'\n",
    "\n",
    "# os.chdir(nb_dir+'/Data/buffers_with_odd_tips_detected_ds_10_param_set_8')\n",
    "# input_fn = 'Log/pbc-tips-ds-10-1.csv'\n",
    "# input_fn = 'Log/tip_log_ds_5_sigma_1.0_threshold_0.6_001.csv'\n",
    "df_output = process_tip_log_file(input_fn)\n",
    "# output_fn = \n",
    "# df_output.to_csv(nb_dir+'/Data/zero_odd_tips_detected_ds_10_param_set_8.csv', index=False)"
   ]
  },
  {
   "cell_type": "markdown",
   "metadata": {
    "ExecuteTime": {
     "end_time": "2020-06-21T20:15:30.726810Z",
     "start_time": "2020-06-21T20:15:30.722821Z"
    }
   },
   "source": [
    "# birth and death rates"
   ]
  },
  {
   "cell_type": "code",
   "execution_count": 136,
   "metadata": {
    "ExecuteTime": {
     "end_time": "2020-06-22T17:15:34.506267Z",
     "start_time": "2020-06-22T17:15:34.486323Z"
    }
   },
   "outputs": [
    {
     "name": "stdout",
     "output_type": "stream",
     "text": [
      "the number of frames observed with an odd number of tips = 0.\n"
     ]
    }
   ],
   "source": [
    "n_series = df_output.groupby('t').n.mean()\n",
    "odd_array = n_series.values%2\n",
    "num_odd_frames = np.add.reduce(odd_array)\n",
    "print(f\"the number of frames observed with an odd number of tips = {num_odd_frames}.\")"
   ]
  },
  {
   "cell_type": "code",
   "execution_count": 137,
   "metadata": {
    "ExecuteTime": {
     "end_time": "2020-06-22T17:15:36.113447Z",
     "start_time": "2020-06-22T17:15:36.095497Z"
    }
   },
   "outputs": [],
   "source": [
    "dn_series = n_series.diff().dropna()  #this line needs changed if you want to know when the sampled rate occured\n",
    "dn_series = dn_series[dn_series!=0].reset_index()\n",
    "dn_series['W'] = 1/dn_series['t'].diff() #sampled birth/death rate - per milliseconds\n",
    "dn_series = dn_series.dropna().rename(columns={'n':'dn'}).drop(columns='t')"
   ]
  },
  {
   "cell_type": "code",
   "execution_count": 138,
   "metadata": {
    "ExecuteTime": {
     "end_time": "2020-06-22T17:15:37.546912Z",
     "start_time": "2020-06-22T17:15:37.463903Z"
    }
   },
   "outputs": [
    {
     "data": {
      "text/html": [
       "<div>\n",
       "<style scoped>\n",
       "    .dataframe tbody tr th:only-of-type {\n",
       "        vertical-align: middle;\n",
       "    }\n",
       "\n",
       "    .dataframe tbody tr th {\n",
       "        vertical-align: top;\n",
       "    }\n",
       "\n",
       "    .dataframe thead th {\n",
       "        text-align: right;\n",
       "    }\n",
       "</style>\n",
       "<table border=\"1\" class=\"dataframe\">\n",
       "  <thead>\n",
       "    <tr style=\"text-align: right;\">\n",
       "      <th></th>\n",
       "      <th>dn</th>\n",
       "      <th>-8.0</th>\n",
       "      <th>-6.0</th>\n",
       "      <th>-4.0</th>\n",
       "      <th>-2.0</th>\n",
       "      <th>2.0</th>\n",
       "      <th>4.0</th>\n",
       "      <th>6.0</th>\n",
       "      <th>8.0</th>\n",
       "    </tr>\n",
       "  </thead>\n",
       "  <tbody>\n",
       "    <tr>\n",
       "      <th rowspan=\"8\" valign=\"top\">W</th>\n",
       "      <th>count</th>\n",
       "      <td>1.00</td>\n",
       "      <td>2.000000e+00</td>\n",
       "      <td>7.000000</td>\n",
       "      <td>103.000000</td>\n",
       "      <td>71.000000</td>\n",
       "      <td>19.000000</td>\n",
       "      <td>1.000</td>\n",
       "      <td>1.00</td>\n",
       "    </tr>\n",
       "    <tr>\n",
       "      <th>mean</th>\n",
       "      <td>1.25</td>\n",
       "      <td>1.250000e+00</td>\n",
       "      <td>1.041667</td>\n",
       "      <td>0.599102</td>\n",
       "      <td>0.363694</td>\n",
       "      <td>0.331129</td>\n",
       "      <td>0.625</td>\n",
       "      <td>1.25</td>\n",
       "    </tr>\n",
       "    <tr>\n",
       "      <th>std</th>\n",
       "      <td>NaN</td>\n",
       "      <td>6.280370e-14</td>\n",
       "      <td>0.360844</td>\n",
       "      <td>0.503716</td>\n",
       "      <td>0.420517</td>\n",
       "      <td>0.294853</td>\n",
       "      <td>NaN</td>\n",
       "      <td>NaN</td>\n",
       "    </tr>\n",
       "    <tr>\n",
       "      <th>min</th>\n",
       "      <td>1.25</td>\n",
       "      <td>1.250000e+00</td>\n",
       "      <td>0.416667</td>\n",
       "      <td>0.028409</td>\n",
       "      <td>0.039062</td>\n",
       "      <td>0.059524</td>\n",
       "      <td>0.625</td>\n",
       "      <td>1.25</td>\n",
       "    </tr>\n",
       "    <tr>\n",
       "      <th>25%</th>\n",
       "      <td>1.25</td>\n",
       "      <td>1.250000e+00</td>\n",
       "      <td>0.937500</td>\n",
       "      <td>0.138889</td>\n",
       "      <td>0.096154</td>\n",
       "      <td>0.121528</td>\n",
       "      <td>0.625</td>\n",
       "      <td>1.25</td>\n",
       "    </tr>\n",
       "    <tr>\n",
       "      <th>50%</th>\n",
       "      <td>1.25</td>\n",
       "      <td>1.250000e+00</td>\n",
       "      <td>1.250000</td>\n",
       "      <td>0.416667</td>\n",
       "      <td>0.178571</td>\n",
       "      <td>0.250000</td>\n",
       "      <td>0.625</td>\n",
       "      <td>1.25</td>\n",
       "    </tr>\n",
       "    <tr>\n",
       "      <th>75%</th>\n",
       "      <td>1.25</td>\n",
       "      <td>1.250000e+00</td>\n",
       "      <td>1.250000</td>\n",
       "      <td>1.250000</td>\n",
       "      <td>0.416667</td>\n",
       "      <td>0.416667</td>\n",
       "      <td>0.625</td>\n",
       "      <td>1.25</td>\n",
       "    </tr>\n",
       "    <tr>\n",
       "      <th>max</th>\n",
       "      <td>1.25</td>\n",
       "      <td>1.250000e+00</td>\n",
       "      <td>1.250000</td>\n",
       "      <td>1.250000</td>\n",
       "      <td>1.250000</td>\n",
       "      <td>1.250000</td>\n",
       "      <td>0.625</td>\n",
       "      <td>1.25</td>\n",
       "    </tr>\n",
       "  </tbody>\n",
       "</table>\n",
       "</div>"
      ],
      "text/plain": [
       "dn       -8.0          -6.0      -4.0        -2.0        2.0        4.0  \\\n",
       "W count  1.00  2.000000e+00  7.000000  103.000000  71.000000  19.000000   \n",
       "  mean   1.25  1.250000e+00  1.041667    0.599102   0.363694   0.331129   \n",
       "  std     NaN  6.280370e-14  0.360844    0.503716   0.420517   0.294853   \n",
       "  min    1.25  1.250000e+00  0.416667    0.028409   0.039062   0.059524   \n",
       "  25%    1.25  1.250000e+00  0.937500    0.138889   0.096154   0.121528   \n",
       "  50%    1.25  1.250000e+00  1.250000    0.416667   0.178571   0.250000   \n",
       "  75%    1.25  1.250000e+00  1.250000    1.250000   0.416667   0.416667   \n",
       "  max    1.25  1.250000e+00  1.250000    1.250000   1.250000   1.250000   \n",
       "\n",
       "dn         6.0   8.0  \n",
       "W count  1.000  1.00  \n",
       "  mean   0.625  1.25  \n",
       "  std      NaN   NaN  \n",
       "  min    0.625  1.25  \n",
       "  25%    0.625  1.25  \n",
       "  50%    0.625  1.25  \n",
       "  75%    0.625  1.25  \n",
       "  max    0.625  1.25  "
      ]
     },
     "execution_count": 138,
     "metadata": {},
     "output_type": "execute_result"
    }
   ],
   "source": [
    "dn_series.groupby('dn').describe().T"
   ]
  },
  {
   "cell_type": "code",
   "execution_count": 139,
   "metadata": {
    "ExecuteTime": {
     "end_time": "2020-06-22T17:15:42.727265Z",
     "start_time": "2020-06-22T17:15:42.723500Z"
    }
   },
   "outputs": [],
   "source": [
    "# keys = list(set(dn_series[dn_series!=0].values))\n",
    "# map(keys,[get_list_of_bd_rates(key) for key in keys])"
   ]
  },
  {
   "cell_type": "code",
   "execution_count": 140,
   "metadata": {
    "ExecuteTime": {
     "end_time": "2020-06-22T17:15:47.631553Z",
     "start_time": "2020-06-22T17:15:47.628002Z"
    }
   },
   "outputs": [],
   "source": [
    "# key  = 2\n",
    "# dn_series[dn_series==key"
   ]
  },
  {
   "cell_type": "code",
   "execution_count": 87,
   "metadata": {
    "ExecuteTime": {
     "end_time": "2020-06-21T20:20:58.888995Z",
     "start_time": "2020-06-21T20:20:58.881137Z"
    }
   },
   "outputs": [
    {
     "data": {
      "text/plain": [
       "t\n",
       "2.006    2.0\n",
       "2.206    0.0\n",
       "2.406    0.0\n",
       "2.606    0.0\n",
       "2.806    0.0\n",
       "3.006    0.0\n",
       "3.206    0.0\n",
       "3.406    0.0\n",
       "3.606    0.0\n",
       "3.806    0.0\n",
       "Name: n, dtype: float64"
      ]
     },
     "execution_count": 87,
     "metadata": {},
     "output_type": "execute_result"
    }
   ],
   "source": [
    "dn_series"
   ]
  },
  {
   "cell_type": "markdown",
   "metadata": {},
   "source": [
    "#"
   ]
  }
 ],
 "metadata": {
  "kernelspec": {
   "display_name": "Python 3",
   "language": "python",
   "name": "python3"
  },
  "language_info": {
   "codemirror_mode": {
    "name": "ipython",
    "version": 3
   },
   "file_extension": ".py",
   "mimetype": "text/x-python",
   "name": "python",
   "nbconvert_exporter": "python",
   "pygments_lexer": "ipython3",
   "version": "3.8.5"
  },
  "toc": {
   "base_numbering": 1,
   "nav_menu": {},
   "number_sections": true,
   "sideBar": true,
   "skip_h1_title": false,
   "title_cell": "Table of Contents",
   "title_sidebar": "Contents",
   "toc_cell": false,
   "toc_position": {},
   "toc_section_display": true,
   "toc_window_display": false
  },
  "varInspector": {
   "cols": {
    "lenName": 16,
    "lenType": 16,
    "lenVar": 40
   },
   "kernels_config": {
    "python": {
     "delete_cmd_postfix": "",
     "delete_cmd_prefix": "del ",
     "library": "var_list.py",
     "varRefreshCmd": "print(var_dic_list())"
    },
    "r": {
     "delete_cmd_postfix": ") ",
     "delete_cmd_prefix": "rm(",
     "library": "var_list.r",
     "varRefreshCmd": "cat(var_dic_list()) "
    }
   },
   "types_to_exclude": [
    "module",
    "function",
    "builtin_function_or_method",
    "instance",
    "_Feature"
   ],
   "window_display": false
  }
 },
 "nbformat": 4,
 "nbformat_minor": 2
}
