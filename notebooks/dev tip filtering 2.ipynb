{
 "cells": [
  {
   "cell_type": "markdown",
   "metadata": {},
   "source": [
    "# dev tip filtering 2\n",
    "Tim Tyree<br>\n",
    "12.28 .2020"
   ]
  },
  {
   "cell_type": "code",
   "execution_count": 395,
   "metadata": {
    "ExecuteTime": {
     "end_time": "2020-12-30T02:37:05.258533Z",
     "start_time": "2020-12-30T02:37:05.228102Z"
    }
   },
   "outputs": [
    {
     "name": "stdout",
     "output_type": "stream",
     "text": [
      "Automatic calling is: Smart\n",
      "The autoreload extension is already loaded. To reload it, use:\n",
      "  %reload_ext autoreload\n"
     ]
    }
   ],
   "source": [
    "from lib.my_initialization import *\n",
    "\n",
    "# from lib.my_initialization import *\n",
    "from lib.utils.utils_traj import *\n",
    "from lib.routines.bdrates import *\n",
    "from lib.viewer import *\n",
    "import trackpy\n",
    "%autocall 1\n",
    "%load_ext autoreload\n",
    "%autoreload 2"
   ]
  },
  {
   "cell_type": "code",
   "execution_count": 396,
   "metadata": {
    "ExecuteTime": {
     "end_time": "2020-12-30T02:37:05.804514Z",
     "start_time": "2020-12-30T02:37:05.773438Z"
    }
   },
   "outputs": [],
   "source": [
    "#make plots in darkmode\n",
    "import seaborn as sns\n",
    "from jupyterthemes import jtplot\n",
    "jtplot.style(theme='monokai', context='notebook', ticks=True, grid=False)"
   ]
  },
  {
   "cell_type": "markdown",
   "metadata": {},
   "source": [
    "# the tip filtering routine that discriminates on the basis of tip number versus time"
   ]
  },
  {
   "cell_type": "code",
   "execution_count": 5,
   "metadata": {
    "ExecuteTime": {
     "end_time": "2020-12-29T20:23:07.711372Z",
     "start_time": "2020-12-29T20:23:07.687421Z"
    }
   },
   "outputs": [],
   "source": [
    "# input_file_name = search_for_file()\n",
    "# input_file_name = '/home/timothytyree/Documents/GitHub/care/notebooks/Data/initial-conditions-suite-2/ds_5_param_set_8_fastkernel_V_0.5_archive/trajectories/ic_200x200.001.22_traj_sr_400_mem_2.csv'\n",
    "input_file_name = '/Users/timothytyree/Documents/GitHub/care/notebooks/Data/initial-conditions-suite-2/ds_5_param_set_8_V_0.5_fastkernel/ic_200x200.001.13_traj_sr_400_mem_0.csv'"
   ]
  },
  {
   "cell_type": "code",
   "execution_count": 410,
   "metadata": {
    "ExecuteTime": {
     "end_time": "2020-12-30T03:18:50.996616Z",
     "start_time": "2020-12-30T03:18:39.703829Z"
    }
   },
   "outputs": [
    {
     "name": "stdout",
     "output_type": "stream",
     "text": [
      "the percent of remaining rows not assigned a chunk index = 0.00000%\n",
      "the percent of rows that comprise an isolated trajectory = 0.03242%\n"
     ]
    },
    {
     "ename": "AssertionError",
     "evalue": "",
     "output_type": "error",
     "traceback": [
      "\u001b[0;31m---------------------------------------------------------------------------\u001b[0m",
      "\u001b[0;31mAssertionError\u001b[0m                            Traceback (most recent call last)",
      "\u001b[0;32m<ipython-input-410-6a169c25c1cd>\u001b[0m in \u001b[0;36m<module>\u001b[0;34m\u001b[0m\n\u001b[1;32m     41\u001b[0m \u001b[0;31m#filter trajectories\u001b[0m\u001b[0;34m\u001b[0m\u001b[0;34m\u001b[0m\u001b[0;34m\u001b[0m\u001b[0m\n\u001b[1;32m     42\u001b[0m \u001b[0;31m# N_series,dn_series,events =\u001b[0m\u001b[0;34m\u001b[0m\u001b[0;34m\u001b[0m\u001b[0;34m\u001b[0m\u001b[0m\n\u001b[0;32m---> 43\u001b[0;31m \u001b[0mdf\u001b[0m\u001b[0;34m=\u001b[0m\u001b[0mfilter_spikes_of_tip_number\u001b[0m\u001b[0;34m(\u001b[0m\u001b[0mdf\u001b[0m\u001b[0;34m,\u001b[0m\u001b[0mdistance_L2_pbc\u001b[0m\u001b[0;34m,\u001b[0m\u001b[0mLT\u001b[0m\u001b[0;34m=\u001b[0m\u001b[0mLT\u001b[0m\u001b[0;34m,\u001b[0m\u001b[0mmaxN\u001b[0m\u001b[0;34m=\u001b[0m\u001b[0mmaxN\u001b[0m\u001b[0;34m,\u001b[0m\u001b[0mmode\u001b[0m\u001b[0;34m=\u001b[0m\u001b[0mmode\u001b[0m\u001b[0;34m,\u001b[0m \u001b[0mdrop\u001b[0m\u001b[0;34m=\u001b[0m\u001b[0;32mFalse\u001b[0m\u001b[0;34m)\u001b[0m\u001b[0;34m\u001b[0m\u001b[0;34m\u001b[0m\u001b[0m\n\u001b[0m\u001b[1;32m     44\u001b[0m \u001b[0mprint\u001b[0m\u001b[0;34m(\u001b[0m\u001b[0;34mf\"the percent of rows marked to keep    = {100*sum(df.keep==True)/df.t.count():.5f}%\"\u001b[0m\u001b[0;34m)\u001b[0m\u001b[0;34m\u001b[0m\u001b[0;34m\u001b[0m\u001b[0m\n\u001b[1;32m     45\u001b[0m \u001b[0mprint\u001b[0m\u001b[0;34m(\u001b[0m\u001b[0;34mf\"the percent of rows marked as some kind of spike = {100*sum(df.event_code>0)/df.t.count():.5f}%\"\u001b[0m\u001b[0;34m)\u001b[0m\u001b[0;34m\u001b[0m\u001b[0;34m\u001b[0m\u001b[0m\n",
      "\u001b[0;32m<ipython-input-352-3164a62aedfe>\u001b[0m in \u001b[0;36mfilter_spikes_of_tip_number\u001b[0;34m(df, distance_L2_pbc, LT, maxN, mode, drop)\u001b[0m\n\u001b[1;32m     81\u001b[0m \u001b[0;34m\u001b[0m\u001b[0m\n\u001b[1;32m     82\u001b[0m         \u001b[0;31m#mark each new tip for removal or merging\u001b[0m\u001b[0;34m\u001b[0m\u001b[0;34m\u001b[0m\u001b[0;34m\u001b[0m\u001b[0m\n\u001b[0;32m---> 83\u001b[0;31m         \u001b[0mnum_new_tips\u001b[0m\u001b[0;34m=\u001b[0m\u001b[0mhandle_n_tips\u001b[0m\u001b[0;34m(\u001b[0m\u001b[0mdf\u001b[0m\u001b[0;34m,\u001b[0m\u001b[0mnew_tip_lst\u001b[0m\u001b[0;34m,\u001b[0m\u001b[0mdistance_L2_pbc\u001b[0m\u001b[0;34m,\u001b[0m\u001b[0mdrop\u001b[0m\u001b[0;34m=\u001b[0m\u001b[0;32mFalse\u001b[0m\u001b[0;34m,\u001b[0m\u001b[0mmode\u001b[0m\u001b[0;34m=\u001b[0m\u001b[0;34m'backward'\u001b[0m\u001b[0;34m)\u001b[0m\u001b[0;34m\u001b[0m\u001b[0;34m\u001b[0m\u001b[0m\n\u001b[0m\u001b[1;32m     84\u001b[0m \u001b[0;34m\u001b[0m\u001b[0m\n\u001b[1;32m     85\u001b[0m \u001b[0;31m#         #update the _cur values\u001b[0m\u001b[0;34m\u001b[0m\u001b[0;34m\u001b[0m\u001b[0;34m\u001b[0m\u001b[0m\n",
      "\u001b[0;32m<ipython-input-350-fbf92e8eb354>\u001b[0m in \u001b[0;36mhandle_n_tips\u001b[0;34m(df, new_tip_lst, distance_L2_pbc, drop, mode)\u001b[0m\n\u001b[1;32m     17\u001b[0m         \u001b[0mcid_a\u001b[0m\u001b[0;34m=\u001b[0m\u001b[0mnew_tip_lst\u001b[0m\u001b[0;34m[\u001b[0m\u001b[0;36m0\u001b[0m\u001b[0;34m]\u001b[0m\u001b[0;34m\u001b[0m\u001b[0;34m\u001b[0m\u001b[0m\n\u001b[1;32m     18\u001b[0m         \u001b[0mcid_b\u001b[0m\u001b[0;34m=\u001b[0m\u001b[0mnew_tip_lst\u001b[0m\u001b[0;34m[\u001b[0m\u001b[0;36m1\u001b[0m\u001b[0;34m]\u001b[0m\u001b[0;34m\u001b[0m\u001b[0;34m\u001b[0m\u001b[0m\n\u001b[0;32m---> 19\u001b[0;31m         \u001b[0mdist_death_parent\u001b[0m\u001b[0;34m=\u001b[0m\u001b[0mhandle_two_tips\u001b[0m\u001b[0;34m(\u001b[0m\u001b[0mdf\u001b[0m\u001b[0;34m,\u001b[0m\u001b[0mcid_a\u001b[0m\u001b[0;34m,\u001b[0m\u001b[0mcid_b\u001b[0m\u001b[0;34m,\u001b[0m\u001b[0mdistance_L2_pbc\u001b[0m\u001b[0;34m,\u001b[0m\u001b[0mmode\u001b[0m\u001b[0;34m=\u001b[0m\u001b[0mmode\u001b[0m\u001b[0;34m)\u001b[0m\u001b[0;34m\u001b[0m\u001b[0;34m\u001b[0m\u001b[0m\n\u001b[0m\u001b[1;32m     20\u001b[0m     \u001b[0;32melif\u001b[0m \u001b[0mnum_new_tips\u001b[0m\u001b[0;34m>=\u001b[0m\u001b[0;36m3\u001b[0m\u001b[0;34m:\u001b[0m\u001b[0;34m\u001b[0m\u001b[0;34m\u001b[0m\u001b[0m\n\u001b[1;32m     21\u001b[0m         \u001b[0;31m#then at leastthree tips were born.\u001b[0m\u001b[0;34m\u001b[0m\u001b[0;34m\u001b[0m\u001b[0;34m\u001b[0m\u001b[0m\n",
      "\u001b[0;32m<ipython-input-379-21fc44ce1b13>\u001b[0m in \u001b[0;36mhandle_two_tips\u001b[0;34m(df, cid_a, cid_b, distance_L2_pbc, mode)\u001b[0m\n\u001b[1;32m      3\u001b[0m     \u001b[0;31m#compute the birth/death mate of one of the new tips\u001b[0m\u001b[0;34m\u001b[0m\u001b[0;34m\u001b[0m\u001b[0;34m\u001b[0m\u001b[0m\n\u001b[1;32m      4\u001b[0m     \u001b[0mnearest_cid_birth\u001b[0m\u001b[0;34m,\u001b[0m \u001b[0mnearest_dist_birth\u001b[0m\u001b[0;34m,\u001b[0m \u001b[0mt_birth\u001b[0m \u001b[0;34m=\u001b[0m \u001b[0midentify_birth_partner\u001b[0m\u001b[0;34m(\u001b[0m\u001b[0mdf\u001b[0m\u001b[0;34m,\u001b[0m\u001b[0mcid_a\u001b[0m\u001b[0;34m,\u001b[0m\u001b[0mdistance_L2_pbc\u001b[0m\u001b[0;34m)\u001b[0m\u001b[0;34m\u001b[0m\u001b[0;34m\u001b[0m\u001b[0m\n\u001b[0;32m----> 5\u001b[0;31m     \u001b[0mnearest_cid_death\u001b[0m\u001b[0;34m,\u001b[0m \u001b[0mnearest_dist_death\u001b[0m\u001b[0;34m,\u001b[0m \u001b[0mt_death\u001b[0m \u001b[0;34m=\u001b[0m \u001b[0midentify_death_partner\u001b[0m\u001b[0;34m(\u001b[0m\u001b[0mdf\u001b[0m\u001b[0;34m,\u001b[0m\u001b[0mcid_a\u001b[0m\u001b[0;34m,\u001b[0m\u001b[0mdistance_L2_pbc\u001b[0m\u001b[0;34m)\u001b[0m\u001b[0;34m\u001b[0m\u001b[0;34m\u001b[0m\u001b[0m\n\u001b[0m\u001b[1;32m      6\u001b[0m \u001b[0;34m\u001b[0m\u001b[0m\n\u001b[1;32m      7\u001b[0m     \u001b[0;31m#assert that the birth mate is the other new tip\u001b[0m\u001b[0;34m\u001b[0m\u001b[0;34m\u001b[0m\u001b[0;34m\u001b[0m\u001b[0m\n",
      "\u001b[0;32m~/Documents/GitHub/care/notebooks/lib/utils/utils_traj.py\u001b[0m in \u001b[0;36midentify_death_partner\u001b[0;34m(df, cid, distance_L2_pbc, cid_others)\u001b[0m\n\u001b[1;32m    204\u001b[0m     \u001b[0mcid_others_nxt\u001b[0m \u001b[0;34m=\u001b[0m \u001b[0mdf\u001b[0m\u001b[0;34m[\u001b[0m\u001b[0;34m(\u001b[0m\u001b[0mdf\u001b[0m\u001b[0;34m.\u001b[0m\u001b[0mframe\u001b[0m\u001b[0;34m==\u001b[0m\u001b[0mint\u001b[0m\u001b[0;34m(\u001b[0m\u001b[0mfrm\u001b[0m\u001b[0;34m)\u001b[0m\u001b[0;34m+\u001b[0m\u001b[0;36m1\u001b[0m\u001b[0;34m)\u001b[0m\u001b[0;34m&\u001b[0m\u001b[0;34m(\u001b[0m\u001b[0mdf\u001b[0m\u001b[0;34m.\u001b[0m\u001b[0mcid\u001b[0m\u001b[0;34m!=\u001b[0m\u001b[0mcid\u001b[0m\u001b[0;34m)\u001b[0m\u001b[0;34m]\u001b[0m\u001b[0;34m[\u001b[0m\u001b[0;34m'cid'\u001b[0m\u001b[0;34m]\u001b[0m\u001b[0;34m.\u001b[0m\u001b[0mvalues\u001b[0m\u001b[0;34m.\u001b[0m\u001b[0mT\u001b[0m\u001b[0;34m\u001b[0m\u001b[0;34m\u001b[0m\u001b[0m\n\u001b[1;32m    205\u001b[0m     \u001b[0mcid_died_lst\u001b[0m\u001b[0;34m=\u001b[0m\u001b[0msorted\u001b[0m\u001b[0;34m(\u001b[0m\u001b[0mset\u001b[0m\u001b[0;34m(\u001b[0m\u001b[0mlist\u001b[0m\u001b[0;34m(\u001b[0m\u001b[0mcid_others\u001b[0m\u001b[0;34m)\u001b[0m\u001b[0;34m)\u001b[0m\u001b[0;34m.\u001b[0m\u001b[0mdifference\u001b[0m\u001b[0;34m(\u001b[0m\u001b[0mset\u001b[0m\u001b[0;34m(\u001b[0m\u001b[0mlist\u001b[0m\u001b[0;34m(\u001b[0m\u001b[0mcid_others_nxt\u001b[0m\u001b[0;34m)\u001b[0m\u001b[0;34m)\u001b[0m\u001b[0;34m)\u001b[0m\u001b[0;34m)\u001b[0m\u001b[0;34m\u001b[0m\u001b[0;34m\u001b[0m\u001b[0m\n\u001b[0;32m--> 206\u001b[0;31m     \u001b[0;32massert\u001b[0m\u001b[0;34m(\u001b[0m\u001b[0mlen\u001b[0m\u001b[0;34m(\u001b[0m\u001b[0mcid_died_lst\u001b[0m\u001b[0;34m)\u001b[0m\u001b[0;34m>\u001b[0m\u001b[0;36m0\u001b[0m\u001b[0;34m)\u001b[0m\u001b[0;34m\u001b[0m\u001b[0;34m\u001b[0m\u001b[0m\n\u001b[0m\u001b[1;32m    207\u001b[0m     \u001b[0;31m#at the time of birth/death, the suspects were...\u001b[0m\u001b[0;34m\u001b[0m\u001b[0;34m\u001b[0m\u001b[0;34m\u001b[0m\u001b[0m\n\u001b[1;32m    208\u001b[0m     \u001b[0mcid_others\u001b[0m\u001b[0;34m=\u001b[0m\u001b[0mnp\u001b[0m\u001b[0;34m.\u001b[0m\u001b[0marray\u001b[0m\u001b[0;34m(\u001b[0m\u001b[0mcid_died_lst\u001b[0m\u001b[0;34m)\u001b[0m\u001b[0;34m\u001b[0m\u001b[0;34m\u001b[0m\u001b[0m\n",
      "\u001b[0;31mAssertionError\u001b[0m: "
     ]
    }
   ],
   "source": [
    "#filter trajectories on the basis of total number of tips\n",
    "LT=5#3#1\n",
    "# LT=2 #min traj length filter for filter_spikes_of_tip_number\n",
    "jump_thresh = 20.\n",
    "mode='backward'\n",
    "\n",
    "#setting LT_thresh to 0 was necessary to have even tip number after chunking routine \n",
    "LT_thresh=0#min traj length filter for decompose_trajectories    \n",
    "tmin=100\n",
    "width=200\n",
    "height=200\n",
    "DS=5./200.\n",
    "maxN=9999\n",
    "\n",
    "saving=True\n",
    "#used by inneffective retracking method\n",
    "# lifetime_thresh = 100\n",
    "# angle_threshold = np.pi/2\n",
    "\n",
    "#load the original crocker-greer trajectories\n",
    "# input_file_name = '/Users/timothytyree/Documents/GitHub/care/notebooks/Data/initial-conditions-suite-2/ds_5_param_set_8_V_0.5_fastkernel/ic_200x200.001.13_log.csv'\n",
    "df = pd.read_csv(input_file_name)\n",
    "df.drop_duplicates(inplace=True, ignore_index=True)\n",
    "df = df[df.t>tmin].copy()\n",
    "df.reset_index(inplace=True, drop=True)\n",
    "\n",
    "# compute #retracked trajectories\n",
    "distance_L2_pbc = get_distance_L2_pbc(width=width,height=height)\n",
    "\n",
    "df = decompose_trajectories(df, distance_L2_pbc=distance_L2_pbc,DS=DS,\n",
    "    width=width,height=width,LT_thresh=LT_thresh,tmin=tmin, jump_thresh=jump_thresh)\n",
    "df_chunked = df.copy()\n",
    "print(f\"the percent of remaining rows not assigned a chunk index = {100*sum(df.cid<0)/df.t.count():.5f}%\")\n",
    "print(f\"the percent of rows that comprise an isolated trajectory = {100*sum(df.groupby('particle').t.count()==1)/df.t.count():.5f}%\")\n",
    "#dropped isolated trajectories\n",
    "#retrack trajectories\n",
    "# df,pid2counter=retrack_trajectories(df_chunked,distance_L2_pbc,lifetime_thresh=lifetime_thresh,angle_threshold = angle_threshold,LT_thresh=LT_thresh,DS = 5./200.,width=200,height=200, jump_thresh=jump_thresh)\n",
    "# savefn2=input_file_name.replace('.csv',f'_retracked_at_{angle_threshold:.3f}_jt_{jump_thresh}_lt_{lifetime_thresh}_LT_{LT_thresh}.csv')\n",
    "# print(f\"saved retracked trajectories to {savefn2}.\")\n",
    "\n",
    "#filter trajectories\n",
    "# N_series,dn_series,events = \n",
    "df=filter_spikes_of_tip_number(df,distance_L2_pbc,LT=LT,maxN=maxN,mode=mode, drop=False)\n",
    "print(f\"the percent of rows marked to keep    = {100*sum(df.keep==True)/df.t.count():.5f}%\")\n",
    "print(f\"the percent of rows marked as some kind of spike = {100*sum(df.event_code>0)/df.t.count():.5f}%\")\n",
    "#drop the rows marked to not keep\n",
    "df_filtered=df.copy()\n",
    "df=df[df.keep==True].copy()\n",
    "\n",
    "#save the retracked trajectories\n",
    "if saving:\n",
    "    savefn2=input_file_name.replace('.csv',f'_filtered_LT_{LT}_tmin_{tmin}.csv')\n",
    "    df.to_csv(savefn2, index=False)\n",
    "    print(f\"saved filtered trajectories to {savefn2}.\")\n",
    "beep(3)"
   ]
  },
  {
   "cell_type": "code",
   "execution_count": 408,
   "metadata": {
    "ExecuteTime": {
     "end_time": "2020-12-30T03:17:13.356292Z",
     "start_time": "2020-12-30T03:17:13.333930Z"
    }
   },
   "outputs": [],
   "source": [
    "# # print(ev)\n",
    "# print(N_series.iloc[ev.flatten()])\n",
    "# # print(dn_series.iloc[ev.flatten()])\n",
    "# ev = np.array(events).T\n",
    "# where_ddn_is_zero=dn_series.iloc[ev.flatten()].diff()==0. # where the equal death of equal size.\n",
    "# where_birth_is=dn_series.iloc[ev.flatten()]>0. \n",
    "# boo=(where_birth_is)&(where_ddn_is_zero)\n",
    "#TODO: for each of the following frames, compute the number of frames until the equal death of equal size.\n",
    "# boo[boo]\n",
    "# where_ddn_is_zero\n",
    "# dn_series.iloc[ev.flatten()]\n",
    "# events=pd.Series(index=spike_frm_values_actionable,data=True)#spike_frm_values_actionable)\n",
    "\n",
    "# print((t_birth_parent,t_birth,nearest_dist_parent,t_death_parent))\n",
    "# (array([3112.]), array([3110.]), 10.322256886790768, array([3113.]))"
   ]
  },
  {
   "cell_type": "code",
   "execution_count": null,
   "metadata": {
    "ExecuteTime": {
     "end_time": "2020-12-30T01:56:29.289441Z",
     "start_time": "2020-12-30T01:56:19.014Z"
    }
   },
   "outputs": [],
   "source": [
    "print(dn_series.iloc[ev.flatten()])"
   ]
  },
  {
   "cell_type": "code",
   "execution_count": 136,
   "metadata": {
    "ExecuteTime": {
     "end_time": "2020-12-29T22:02:40.037703Z",
     "start_time": "2020-12-29T22:02:40.008397Z"
    }
   },
   "outputs": [
    {
     "data": {
      "text/plain": [
       "frame\n",
       "121      False\n",
       "122      False\n",
       "170       True\n",
       "180      False\n",
       "194      False\n",
       "         ...  \n",
       "28326    False\n",
       "28405    False\n",
       "28535    False\n",
       "28544    False\n",
       "28558    False\n",
       "Name: t, Length: 1171, dtype: bool"
      ]
     },
     "execution_count": 136,
     "metadata": {},
     "output_type": "execute_result"
    }
   ],
   "source": [
    "boo"
   ]
  },
  {
   "cell_type": "markdown",
   "metadata": {},
   "source": [
    "# TODO: functionally extract the detect_spikes function and show that it's output has detected visually known spikes.\n",
    "- ^this determines why the percent of rows marked as some kind of spike is 0%... \n",
    "- It should be positive if filtering does anything.\n",
    "- Spike detection must be to blame. \n"
   ]
  },
  {
   "cell_type": "code",
   "execution_count": 137,
   "metadata": {
    "ExecuteTime": {
     "end_time": "2020-12-29T22:02:42.213665Z",
     "start_time": "2020-12-29T22:02:42.176852Z"
    }
   },
   "outputs": [
    {
     "data": {
      "text/plain": [
       "count    240596.0\n",
       "mean          0.0\n",
       "std           0.0\n",
       "min           0.0\n",
       "25%           0.0\n",
       "50%           0.0\n",
       "75%           0.0\n",
       "max           0.0\n",
       "Name: event_code, dtype: float64"
      ]
     },
     "execution_count": 137,
     "metadata": {},
     "output_type": "execute_result"
    }
   ],
   "source": [
    "df_filtered.event_code.describe()"
   ]
  },
  {
   "cell_type": "markdown",
   "metadata": {
    "ExecuteTime": {
     "end_time": "2020-12-28T22:19:56.683775Z",
     "start_time": "2020-12-28T22:19:44.547962Z"
    }
   },
   "source": [
    "# TODO: use df_filtered to iron out the tip number versus time\n",
    "- DONE: make df_chunked have only even the tip number versus time\n"
   ]
  },
  {
   "cell_type": "code",
   "execution_count": 156,
   "metadata": {
    "ExecuteTime": {
     "end_time": "2020-12-29T22:14:30.771645Z",
     "start_time": "2020-12-29T22:14:30.224198Z"
    }
   },
   "outputs": [],
   "source": [
    "df = pd.read_csv(input_file_name)\n",
    "\n",
    "#retracked trajectories\n",
    "input_file_name2 = savefn2#'/Users/timothytyree/Documents/GitHub/care/notebooks/Data/initial-conditions-suite-2/ds_5_param_set_8_V_0.5_fastkernel/ic_200x200.001.13_traj_sr_400_mem_0_retracked_at_0.785_jt_20.0_lt_50_LT_4.csv'#'/Users/timothytyree/Documents/GitHub/care/notebooks/Data/initial-conditions-suite-2/ds_5_param_set_8_V_0.5_fastkernel/ic_200x200.001.13_traj_sr_400_mem_0_retracked_at_0.785_jt_20.0_lt_50_LT_4.csv'\n",
    "# df2 = pd.read_csv(input_file_name2)\n",
    "#filtered trajectories\n",
    "#chunked trajectories\n",
    "# df2=df_chunked.copy()\n",
    "df2=df_filtered.copy()"
   ]
  },
  {
   "cell_type": "code",
   "execution_count": 157,
   "metadata": {
    "ExecuteTime": {
     "end_time": "2020-12-29T22:14:31.963769Z",
     "start_time": "2020-12-29T22:14:31.513536Z"
    }
   },
   "outputs": [
    {
     "data": {
      "image/png": "[encoded data removed]",
      "text/plain": [
       "<Figure size 864x432 with 1 Axes>"
      ]
     },
     "metadata": {},
     "output_type": "display_data"
    },
    {
     "name": "stdout",
     "output_type": "stream",
     "text": [
      "/Users/timothytyree/Documents/GitHub/care/notebooks/Data/initial-conditions-suite-2/ds_5_param_set_8_V_0.5_fastkernel/ic_200x200.001.13_traj_sr_400_mem_0_filtered_LT_5_tmin_100.csv\n"
     ]
    }
   ],
   "source": [
    "s = df.groupby('frame').frame.count()\n",
    "# s = s.sort_values(ascending=False)\n",
    "s2 = df2.groupby('frame').frame.count()\n",
    "beep(1)\n",
    "\n",
    "plt.subplots(figsize=(12,6))\n",
    "plt.plot(s, label='crocker-greer',alpha=0.7)\n",
    "plt.plot(s2, label='filtered',   alpha=0.7)\n",
    "plt.xlim([2600,325])\n",
    "# plt.xlim([200,300])\n",
    "plt.legend()\n",
    "plt.yticks([2,4,6,8,10,12,14,16,18,20])\n",
    "plt.ylabel('number of spiral tips')\n",
    "plt.xlabel('frame number')\n",
    "plt.grid('on')\n",
    "plt.show()\n",
    "print(input_file_name2)"
   ]
  },
  {
   "cell_type": "markdown",
   "metadata": {},
   "source": [
    "# module for handling all spikes briefer than LT for one file"
   ]
  },
  {
   "cell_type": "code",
   "execution_count": null,
   "metadata": {
    "ExecuteTime": {
     "end_time": "2020-12-30T01:56:29.293760Z",
     "start_time": "2020-12-30T01:56:22.797Z"
    }
   },
   "outputs": [],
   "source": [
    "#df=df_chunked.copy()\n",
    "def filter_spikes_of_tip_number(df,distance_L2_pbc,LT=5,maxN=9999,mode='backward',drop=False):\n",
    "    \"\"\"filter_spikes_of_tip_number marks high frequency spike events for removal. \n",
    "    filter_spikes_of_tip_number marks events before tmin with keep as False and event_code as 0.\n",
    "    filter_spikes_of_tip_number creates the following fields in df:\n",
    "    df['particle2'] with the integer indices of output trajectories\n",
    "    df['keep'] with the boolean of whether or not each row should be considered\n",
    "    df['event_code'] with events regarding\n",
    "        - 0 if no event has occurred\n",
    "        - 1 if a singleton birth has occurred\n",
    "        - 2 if a virtual birth/death has occured\n",
    "        - 3 if a transition has occured (when a virtual spiral tip annihilates with a tip that isn't its birth mate)\n",
    "        - 4 if was part of an apparent stub\n",
    "    \n",
    "    Parameters:\n",
    "    df is a pandas.DataFrame returned by decompose_trajectories\n",
    "    tmin=100  #earliest time 't' to be considered\n",
    "    LT = 4    #min number of frames to not be considered a spike\n",
    "    maxN=9999 #maximum number of tips to consider for filtration\n",
    "    width=200;height=200\n",
    "\n",
    "    \n",
    "    Example Usage:\n",
    "    df = filter_spikes_of_tip_number(df,distance_L2_pbc,tmin=100,LT=4,maxN=9999,mode='backward',drop=False)\n",
    "    \"\"\"\n",
    "    #initialize field for whether or not to drop the given row\n",
    "    df['keep']=True\n",
    "    df['particle2']=df['particle']\n",
    "    df['event_code']=0\n",
    "\n",
    "    s         = df.groupby('frame').t.count()\n",
    "    # s         = s.sort_values(ascending=False)\n",
    "    # s2        = df2.groupby('frame').t.count()\n",
    "    N_series  = s[s.index>tmin].copy()\n",
    "    \n",
    "    #mark any early rows for removal, too\n",
    "    #     df.loc[df.t<=tmin,'keep']=False\n",
    "    \n",
    "\n",
    "    dn_series = N_series.diff().shift(-1).dropna()#.dropna().values#.\n",
    "    dn_values = dn_series.values#.dropna().values#.\n",
    "    events    = list(np.argwhere(dn_values!=0))\n",
    "\n",
    "    #identify the frames where a spike \n",
    "    ev = np.array(events).T\n",
    "    where_ddn_is_zero=dn_series.iloc[ev.flatten()].diff()==0. # where the equal death of equal size.\n",
    "    dn_ser=dn_series.iloc[ev.flatten()]\n",
    "    where_birth_is=dn_ser>0. \n",
    "    boo=(where_birth_is)&(where_ddn_is_zero)\n",
    "    #consider only spikes with sufficient duration\n",
    "    boob=boo.shift(1).dropna()\n",
    "    frm_values=boo[boo].index.values\n",
    "    spike_duration_values = boob[boob].index.values-frm_values\n",
    "    spike_frm_values_actionable=frm_values[spike_duration_values<LT]\n",
    "#     dn_nxt_series=dn_ser.shift(1).dropna()[boob]\n",
    "\n",
    "#     frm_cur= int(spike_frm_values_actionable[0])#d.index.values)\n",
    "#     frm=frm_cur\n",
    "#     d  = N_series.iloc[frm]#events[0]]\n",
    "#     N_cur  = int(d)#.values)\n",
    "#     dn_cur = int(dn_series.iloc[frm])#events[0]])#.values)\n",
    "\n",
    "    for frm in spike_frm_values_actionable:\n",
    "#         d = N_series.iloc[frm]#events[i+1]]#frm+1]#\n",
    "        frm_cur=frm#-4\n",
    "#         N_cur  = int(N_series.iloc[frm_cur])\n",
    "#         N_nxt  = int(N_series.iloc[frm_cur+1])#.values)\n",
    "#         dn_cur = N_nxt-N_cur#int(dn_series.iloc[frm+1])#events[i+1]])#.values)#frm+1])#.values)#\n",
    "#         frm_cur = frm#int(d.index.values)\n",
    "#         assert(dn_cur!=0)\n",
    "#         assert(dn_nxt!=0)\n",
    "#         is_simple_spike=(dn_cur>0)&(dn_cur+dn_nxt==0)\n",
    "#         spike_duration=frm_nxt-frm_cur\n",
    "#         if (spike_duration<LT)&(is_simple_spike):\n",
    "        #then, we have a spike lasting from frm_cur to frm_nxt\n",
    "        #indices of curves born in frame frm\n",
    "        p_values = df[df['frame']==frm_cur]['cid'].values.T\n",
    "        p_nxt_values = df[df['frame']==frm_cur+1]['cid'].values.T\n",
    "        assert(len(list(p_nxt_values))>len(list(p_values)))\n",
    "        new_tip_lst = sorted(set(p_nxt_values).difference(set(p_values)))\n",
    "\n",
    "        #mark each new tip for removal or merging \n",
    "        num_new_tips=handle_n_tips(df,new_tip_lst,distance_L2_pbc,drop=False,mode='backward')    \n",
    "        \n",
    "#         #update the _cur values\n",
    "#         N_cur=N_nxt\n",
    "#         dn_cur=dn_nxt\n",
    "#         frm_cur=frm_nxt\n",
    "    if drop:\n",
    "        df=df[df.keep==True].copy()\n",
    "    return df\n",
    "#     return ((frm_cur,N_cur,dn_cur),(frm_nxt,N_nxt,dn_nxt))\n",
    "#     return N_series,dn_series,events"
   ]
  },
  {
   "cell_type": "code",
   "execution_count": null,
   "metadata": {
    "ExecuteTime": {
     "end_time": "2020-12-30T00:01:26.306668Z",
     "start_time": "2020-12-30T00:01:26.278615Z"
    }
   },
   "outputs": [],
   "source": []
  },
  {
   "cell_type": "code",
   "execution_count": null,
   "metadata": {
    "ExecuteTime": {
     "end_time": "2020-12-30T00:01:24.706827Z",
     "start_time": "2020-12-30T00:01:24.681251Z"
    }
   },
   "outputs": [],
   "source": []
  },
  {
   "cell_type": "code",
   "execution_count": 196,
   "metadata": {
    "ExecuteTime": {
     "end_time": "2020-12-29T22:42:46.991366Z",
     "start_time": "2020-12-29T22:42:46.566511Z"
    }
   },
   "outputs": [
    {
     "data": {
      "image/png": "[encoded data removed]",
      "text/plain": [
       "<Figure size 576x504 with 1 Axes>"
      ]
     },
     "metadata": {},
     "output_type": "display_data"
    }
   ],
   "source": [
    "plt.hist(spike_duration_values,bins=100)\n",
    "plt.show()"
   ]
  },
  {
   "cell_type": "markdown",
   "metadata": {},
   "source": [
    "# dev module for tip filtering"
   ]
  },
  {
   "cell_type": "code",
   "execution_count": null,
   "metadata": {
    "ExecuteTime": {
     "end_time": "2020-12-30T01:56:29.297009Z",
     "start_time": "2020-12-30T01:56:26.133Z"
    }
   },
   "outputs": [],
   "source": [
    "def handle_n_tips(df,new_tip_lst,distance_L2_pbc,drop=False,mode='backward'):\n",
    "    '''Example Usage:\n",
    "    num_new_tips=handle_n_tips(df,new_tip_lst,distance_L2_pbc,drop=False,mode='backward')    \n",
    "    '''\n",
    "    #     new_tip_lst = sorted(set(p_nxt_values).difference(set(p_values)))\n",
    "    num_new_tips=len(new_tip_lst)\n",
    "    if num_new_tips==1:\n",
    "        #then this one tip was born. \n",
    "        #mark that cid to be dropped\n",
    "        df.loc[df.cid==new_tip_lst[0],'keep']=False\n",
    "        df.loc[df.cid==new_tip_lst[0],'event_code']=1\n",
    "    elif num_new_tips==2:\n",
    "        #then two tips were born\n",
    "        #TODO: run 2 tip routine, which determines if the two tips (a) self collided or (b) performed an exchange.\n",
    "        #     print(f\"CAUTION: not implemented. skipping len(lifetime_lst)={len(lifetime_lst)}...\")\n",
    "        # identify the tips that were born at the given birth, which is known to be quickly followed by a death of equal size\n",
    "        cid_a=new_tip_lst[0]\n",
    "        cid_b=new_tip_lst[1]\n",
    "        dist_death_parent=handle_two_tips(df,cid_a,cid_b,distance_L2_pbc,mode=mode)\n",
    "    elif num_new_tips>=3:\n",
    "        #then at leastthree tips were born.  \n",
    "        # pair any newly born tips when possible\n",
    "        pair_lst,singleton_lst=partition_cid_list(df,new_tip_lst,distance_L2_pbc)\n",
    "        # mark each singleton for removal\n",
    "        for cid in singleton_lst:\n",
    "            df.loc[df.cid==cid,'keep']=False\n",
    "            df.loc[df.cid==cid,'event_code']=1\n",
    "        # for each pair of newly born tips, handle_two_tips\n",
    "        for cid_a,cid_b in pair_lst:\n",
    "            dist_death_parent=handle_two_tips(df,cid_a,cid_b,distance_L2_pbc,mode=mode)   \n",
    "    else:\n",
    "        print(f\"CAUTION: no tips found in new_tip_lst. skipping new_tip_lst={new_tip_lst}...\")\n",
    "\n",
    "    if drop is True:\n",
    "        #drop all marked cid from the DataFrame\n",
    "        df=df[df.keep==True].copy()\n",
    "    return num_new_tips\n"
   ]
  },
  {
   "cell_type": "code",
   "execution_count": null,
   "metadata": {
    "ExecuteTime": {
     "end_time": "2020-12-30T01:56:29.300640Z",
     "start_time": "2020-12-30T01:56:26.511Z"
    }
   },
   "outputs": [],
   "source": [
    "def partition_cid_list(df,new_tip_lst,distance_L2_pbc):\n",
    "    \"\"\"pair any newly born tips when possible.\n",
    "    Example Usage:\n",
    "    pair_lst,singleton_lst=partition_cid_list(df,new_tip_lst,distance_L2_pbc)\n",
    "    \"\"\"\n",
    "    ntl=list(new_tip_lst)\n",
    "    ntl.append([3])\n",
    "    pair_lst=[]\n",
    "    singleton_lst=[]\n",
    "    for n,cid_a in enumerate(ntl):\n",
    "        # compute the birthmate of cid_a\n",
    "        nearest_cid_birth, nearest_dist_birth, t_birth = identify_birth_partner(df,cid_a,distance_L2_pbc)\n",
    "        pair_found=False\n",
    "        #if the birth mate is the other new tip\n",
    "        for m,cid_b in enumerate(ntl[n:]):\n",
    "            if  (  cid_b==nearest_cid_birth  ):\n",
    "                #then we found a pair\n",
    "                pair_lst.append((cid_a,cid_b))\n",
    "                pair_found=True\n",
    "            if not pair_found:\n",
    "                #no pair was found\n",
    "                singleton_lst.append(cid_a)\n",
    "    return pair_lst,singleton_lst"
   ]
  },
  {
   "cell_type": "code",
   "execution_count": null,
   "metadata": {
    "ExecuteTime": {
     "end_time": "2020-12-29T23:34:34.605892Z",
     "start_time": "2020-12-29T23:34:34.580136Z"
    }
   },
   "outputs": [],
   "source": []
  },
  {
   "cell_type": "code",
   "execution_count": null,
   "metadata": {},
   "outputs": [],
   "source": [
    "#identify death mate via dissappearance of particle\n"
   ]
  },
  {
   "cell_type": "code",
   "execution_count": 89,
   "metadata": {
    "ExecuteTime": {
     "end_time": "2020-12-29T17:59:20.915470Z",
     "start_time": "2020-12-29T17:59:20.891045Z"
    }
   },
   "outputs": [],
   "source": [
    "\n",
    "# identify_birth_partner(df,cid,distance_L2_pbc)\n"
   ]
  },
  {
   "cell_type": "code",
   "execution_count": 65,
   "metadata": {
    "ExecuteTime": {
     "end_time": "2020-12-29T09:06:58.954541Z",
     "start_time": "2020-12-29T09:06:58.930761Z"
    }
   },
   "outputs": [],
   "source": [
    "# #TODO: consider the case where d.values>0\n",
    "# all_birth_values = dn_values[dn_values>0]\n",
    "# all_birth_values==1\n",
    "# #where birth of 1 occurs\n",
    "# N_series.iloc[:-1][dn_values==1]\n",
    "\n",
    "# #where birth of 2 occurs\n",
    "# N_series.iloc[:-1][dn_values==2]\n",
    "\n",
    "# #where birth of 3 occurs\n",
    "# print(\"where birth of 3 occurs\")\n",
    "# print(N_series.iloc[:-1][dn_values==3])\n",
    "\n",
    "# #where birth of 4 occurs\n",
    "# print(\"\\nwhere birth of 4 occurs\")\n",
    "# print(N_series.iloc[:-1][dn_values==4])\n",
    "\n"
   ]
  },
  {
   "cell_type": "code",
   "execution_count": 71,
   "metadata": {
    "ExecuteTime": {
     "end_time": "2020-12-29T09:09:32.814781Z",
     "start_time": "2020-12-29T09:09:32.785296Z"
    }
   },
   "outputs": [],
   "source": [
    "#TODO: compute whether this given tip dies within a threshold amount of time with a dn that is oppositly signed of itself.\n",
    "#yaxis= time to nexxt tip\n",
    "#xaxis= number of tips before birth/death"
   ]
  },
  {
   "cell_type": "code",
   "execution_count": 64,
   "metadata": {
    "ExecuteTime": {
     "end_time": "2020-12-29T09:06:53.784399Z",
     "start_time": "2020-12-29T09:06:53.762461Z"
    }
   },
   "outputs": [],
   "source": [
    "# # What's the duration of fast up/down bd events given that n=2 or 4?\n",
    "# frm_values = N_series[(N_series==2)].index.values\n",
    "# n_values = N_series[(N_series==2)].values\n",
    "# # frm_values = N_series[(N_series==2)|(N_series==4)].index.values\n",
    "# # n_values = N_series[(N_series==2)|(N_series==4)].values\n",
    "\n",
    "# #the number of frames between births is\n",
    "# nfbb=np.argwhere((np.diff(frm_values)-1>0)).T\n",
    "# print(nfbb)"
   ]
  },
  {
   "cell_type": "code",
   "execution_count": 63,
   "metadata": {
    "ExecuteTime": {
     "end_time": "2020-12-29T09:06:44.208611Z",
     "start_time": "2020-12-29T09:06:44.184122Z"
    }
   },
   "outputs": [],
   "source": [
    "# # identify the tips that were born\n",
    "# print(set(p_values))\n",
    "# print(set(p_nxt_values))\n",
    "# new_tip_lst = sorted(set(p_nxt_values).difference(set(p_values)))\n",
    "# print(new_tip_lst)\n",
    "# # x_values,y_values,p_values = df[df['frame']==frm][['x','y','cid']].values.T\n",
    "# # x_nxt_values,y_nxt_values,p_nxt_values = df[df['frame']==frm+1][['x','y','cid']].values.T"
   ]
  },
  {
   "cell_type": "code",
   "execution_count": null,
   "metadata": {},
   "outputs": [],
   "source": [
    "# n_values = N_series.values[1:]\n",
    "# np.argwhere((dn_values>0)&(n_values==4))"
   ]
  },
  {
   "cell_type": "markdown",
   "metadata": {
    "ExecuteTime": {
     "end_time": "2020-12-29T01:02:38.111291Z",
     "start_time": "2020-12-29T01:02:38.079041Z"
    }
   },
   "source": [
    "# print the particle id's of where a single birth occurs"
   ]
  },
  {
   "cell_type": "code",
   "execution_count": 70,
   "metadata": {
    "ExecuteTime": {
     "end_time": "2020-12-29T09:07:19.681525Z",
     "start_time": "2020-12-29T09:07:19.652788Z"
    }
   },
   "outputs": [
    {
     "data": {
      "text/plain": [
       "frame\n",
       "209       6\n",
       "1350     10\n",
       "1414      8\n",
       "1892     10\n",
       "1908      8\n",
       "         ..\n",
       "26430    14\n",
       "26917     8\n",
       "26980    10\n",
       "26988    10\n",
       "27462    10\n",
       "Name: t, Length: 61, dtype: int64"
      ]
     },
     "execution_count": 70,
     "metadata": {},
     "output_type": "execute_result"
    }
   ],
   "source": [
    "#where birth of 1 occurs\n",
    "N_series.iloc[:-1][dn_values==1]"
   ]
  },
  {
   "cell_type": "code",
   "execution_count": null,
   "metadata": {
    "ExecuteTime": {
     "end_time": "2020-12-29T07:17:06.176414Z",
     "start_time": "2020-12-29T07:16:57.131Z"
    }
   },
   "outputs": [],
   "source": [
    "frm_odd_birth = N_series.iloc[:-1].shift(-1)[dn_values==1].index.values\n",
    "frm = frm_odd_birth[0]\n",
    "# frm_odd_birth\n"
   ]
  },
  {
   "cell_type": "code",
   "execution_count": null,
   "metadata": {
    "ExecuteTime": {
     "end_time": "2020-12-29T07:17:06.178599Z",
     "start_time": "2020-12-29T07:16:57.406Z"
    }
   },
   "outputs": [],
   "source": [
    "#(functionally) print the value of cid in in the current/next frame\n",
    "cid_current = df[df.frame==frm].cid.values\n",
    "cid_next = df[df.frame==frm+1].cid.values"
   ]
  },
  {
   "cell_type": "code",
   "execution_count": null,
   "metadata": {
    "ExecuteTime": {
     "end_time": "2020-12-29T07:17:06.180626Z",
     "start_time": "2020-12-29T07:16:57.677Z"
    }
   },
   "outputs": [],
   "source": [
    "# s = pd.DataFrame({'n':n_values.T,'dn':dn_values.T})#,'frm':frm_values[2:]})"
   ]
  },
  {
   "cell_type": "code",
   "execution_count": 260,
   "metadata": {
    "ExecuteTime": {
     "end_time": "2020-12-29T01:41:38.725405Z",
     "start_time": "2020-12-29T01:41:38.703757Z"
    }
   },
   "outputs": [],
   "source": []
  },
  {
   "cell_type": "markdown",
   "metadata": {
    "ExecuteTime": {
     "end_time": "2020-12-29T01:43:22.290113Z",
     "start_time": "2020-12-29T01:43:22.266284Z"
    }
   },
   "source": [
    "# TODO(later): dev a right/left hand measurer from trajectory\n",
    "- and then, TODO: test ^this using indentify_birth_partner"
   ]
  },
  {
   "cell_type": "code",
   "execution_count": 11,
   "metadata": {
    "ExecuteTime": {
     "end_time": "2020-12-29T20:23:44.331831Z",
     "start_time": "2020-12-29T20:23:44.303279Z"
    }
   },
   "outputs": [],
   "source": [
    "#TODO: compute the distance of the two tips as a function of time\n",
    "#lifetime_lst.append(df[df.cid==cid].cid.count())"
   ]
  },
  {
   "cell_type": "markdown",
   "metadata": {},
   "source": [
    "# DONE: use set differences to compute birth/death mates"
   ]
  },
  {
   "cell_type": "code",
   "execution_count": 271,
   "metadata": {
    "ExecuteTime": {
     "end_time": "2020-12-30T00:22:07.131366Z",
     "start_time": "2020-12-30T00:22:07.099419Z"
    }
   },
   "outputs": [
    {
     "data": {
      "text/plain": [
       "[877, 881]"
      ]
     },
     "execution_count": 271,
     "metadata": {},
     "output_type": "execute_result"
    }
   ],
   "source": [
    "# frm_cur=frm_values[0]\n",
    "# p_values = df[df['frame']==frm_cur]['cid'].values.T\n",
    "# p_nxt_values = df[df['frame']==frm_cur+1]['cid'].values.T\n",
    "# assert(len(list(p_nxt_values))>len(list(p_values)))\n",
    "# new_tip_lst = sorted(set(p_nxt_values).difference(set(p_values)))\n",
    "# new_tip_lst\n",
    "\n",
    "# #TODO(later): compute the lifetime for all cid\n",
    "# #TODO(later): compute the deathmate for all cid\n",
    "# #TODO(later): compute the birthmate for all cid"
   ]
  },
  {
   "cell_type": "code",
   "execution_count": 305,
   "metadata": {
    "ExecuteTime": {
     "end_time": "2020-12-30T00:42:34.151744Z",
     "start_time": "2020-12-30T00:42:34.110653Z"
    }
   },
   "outputs": [],
   "source": [
    "# def identify_birth_partner(df,cid,distance_L2_pbc):\n",
    "#     \"\"\"identify birth mate using set difference.\n",
    "#     Example Usage:\n",
    "#     cid_birthmate, nearest_dist_birth, t_birth = identify_birth_partner(df,cid,distance_L2_pbc)\n",
    "#     \"\"\"\n",
    "#     #self\n",
    "#     d = df[df.cid == cid]\n",
    "#     x,y,frm,t = d.head(1)[['x','y','frame','t']].values.T\n",
    "#     frm_birth=frm\n",
    "#     xy_self = np.array((x,y)).T\n",
    "#     #others that died in the same frame\n",
    "#     cid_others = df[(df.frame==int(frm))&(df.cid!=cid)]['cid'].values.T  \n",
    "#     cid_others_prv = df[(df.frame==int(frm)-1)&(df.cid!=cid)]['cid'].values.T  \n",
    "#     cid_born_lst=sorted(set(list(cid_others)).difference(set(list(cid_others_prv))))\n",
    "#     assert(len(cid_born_lst)>0)\n",
    "\n",
    "#     cid_others=np.array(cid_born_lst)\n",
    "#     boo = (df.frame!=df.frame)#tautologically False\n",
    "#     for cid_other in cid_others:\n",
    "#         boo |=(df.cid==cid_other)\n",
    "#     boo &= (df.frame==int(frm_birth)) #select only the cid_others in the death frame\n",
    "#     x_others,y_others = df[boo][['x','y']].values.T  \n",
    "#     #at the time of birth/death, the suspects were...\n",
    "#     xy_others = np.vstack((x_others,y_others)).T\n",
    "#     cid_birthmate, nearest_dist = get_neighboring_tip(xy_self,xy_others,cid_others,distance_L2_pbc)\n",
    "#     return cid_birthmate, nearest_dist, float(t)\n",
    "\n",
    "\n",
    "# def identify_death_partner(df,cid,distance_L2_pbc):\n",
    "#     \"\"\"identify death mate using set difference.\n",
    "#     Example Usage:\n",
    "#     cid_deathmate, nearest_dist_death, t_death = identify_death_partner(df,cid,distance_L2_pbc)\n",
    "#     \"\"\"\n",
    "#     #self\n",
    "#     d = df[df.cid == cid]\n",
    "#     x,y,frm,t = d.tail(1)[['x','y','frame','t']].values.T\n",
    "#     frm_death=frm\n",
    "#     xy_self = np.array((x,y)).T\n",
    "#     #others that died in the same frame\n",
    "#     cid_others = df[(df.frame==int(frm_death))&(df.cid!=cid)]['cid'].values.T  \n",
    "#     cid_others_nxt = df[(df.frame==int(frm_death)+1)&(df.cid!=cid)]['cid'].values.T  \n",
    "#     cid_died_lst=sorted(set(list(cid_others)).difference(set(list(cid_others_nxt))))\n",
    "#     assert(len(cid_died_lst)>0)\n",
    "\n",
    "#     cid_others=np.array(cid_died_lst)\n",
    "#     boo = (df.frame!=df.frame)#tautologically False\n",
    "#     for cid_other in cid_others:\n",
    "#         boo |=(df.cid==cid_other)\n",
    "#     boo &= (df.frame==int(frm_death)) #select only the cid_others in the death frame\n",
    "#     x_others,y_others = df[boo][['x','y']].values.T  \n",
    "#     #at the time of birth/death, the suspects were...\n",
    "#     xy_others = np.vstack((x_others,y_others)).T\n",
    "#     cid_deathmate, nearest_dist = get_neighboring_tip(xy_self,xy_others,cid_others,distance_L2_pbc)\n",
    "#     return cid_deathmate, nearest_dist, float(t)\n",
    "\n"
   ]
  },
  {
   "cell_type": "code",
   "execution_count": 304,
   "metadata": {
    "ExecuteTime": {
     "end_time": "2020-12-30T00:42:02.685505Z",
     "start_time": "2020-12-30T00:42:02.636312Z"
    }
   },
   "outputs": [
    {
     "data": {
      "text/plain": [
       "19274.0"
      ]
     },
     "execution_count": 304,
     "metadata": {},
     "output_type": "execute_result"
    }
   ],
   "source": [
    "\n"
   ]
  },
  {
   "cell_type": "code",
   "execution_count": 283,
   "metadata": {
    "ExecuteTime": {
     "end_time": "2020-12-30T00:30:30.384384Z",
     "start_time": "2020-12-30T00:30:30.359314Z"
    }
   },
   "outputs": [],
   "source": [
    "# if len(cid_died_lst)==1:\n",
    "#     #case where only one other cid died this frame, and it is trivially the apparent death mate\n",
    "#     cid_deathmate=cid_died_lst[0]\n",
    "# #     return cid_deathmate\n",
    "# # elif len(cid_died_lst)==0:\n",
    "# #     raise(f\"Exception: no other death occured this frame (frm={frm_death})\")\n",
    "# #     return None\n",
    "# else:\n",
    "#     #more than one cid died. find the closest one\n",
    "# cid_others=np.array(cid_died_lst)\n",
    "# x,y,frm_death = d.tail(1)[['x','y','frame']].values.T\n",
    "# frm_death=frm\n",
    "# xy_self = np.array((x,y)).T\n",
    "# # t_birth_virtual=d.head(1)[['t']].values.T\n",
    "# boo = (df.frame==int(frm_death))\n",
    "# for cid_other in cid_others:\n",
    "#     boo &=(df.cid!=cid_other)\n",
    "# x_others,y_others = df[boo][['x','y']].values.T  \n",
    "# #at the time of birth/death, the suspects were...\n",
    "# xy_others = np.vstack((x_others,y_others)).T\n",
    "# cid_deathmate, nearest_dist = get_neighboring_tip(xy_self,xy_others,cid_others,distance_L2_pbc)\n"
   ]
  },
  {
   "cell_type": "markdown",
   "metadata": {},
   "source": [
    "# TODO(now): functionally get the parent of a given divergent tip"
   ]
  },
  {
   "cell_type": "code",
   "execution_count": 378,
   "metadata": {
    "ExecuteTime": {
     "end_time": "2020-12-30T01:56:34.024932Z",
     "start_time": "2020-12-30T01:56:33.983269Z"
    }
   },
   "outputs": [
    {
     "name": "stdout",
     "output_type": "stream",
     "text": [
      "an interchange has occurred between cid values 170, 305, and maybe 156.\n"
     ]
    }
   ],
   "source": [
    "#identify birth-death mates of cid\n",
    "cid_deathmate, nearest_dist_death, t_death = identify_death_partner(df,cid,distance_L2_pbc)\n",
    "cid_birthmate, nearest_dist_birth, t_birth = identify_birth_partner(df,cid,distance_L2_pbc)\n",
    "\n",
    "\n",
    "\n",
    "if cid_birthmate==cid_deathmate:\n",
    "    #lifetime_self==lifetime_birthmate:#\n",
    "    #mark the cid pair to be dropped as a recombination\n",
    "    df.loc[df.cid==cid_a        ,'keep']=False\n",
    "    df.loc[df.cid==cid_birthmate,'keep']=False\n",
    "    df.loc[df.cid==cid_a        ,'event_code']=2\n",
    "    df.loc[df.cid==cid_birthmate,'event_code']=2\n",
    "else:\n",
    "    #an interchange has occurred\n",
    "    print(f'an interchange has occurred between cid values {cid}, {cid_birthmate}, and maybe {cid_deathmate}.')\n",
    "    #compute parent of virtual tip"
   ]
  },
  {
   "cell_type": "code",
   "execution_count": 379,
   "metadata": {
    "ExecuteTime": {
     "end_time": "2020-12-30T01:56:36.900758Z",
     "start_time": "2020-12-30T01:56:36.866771Z"
    }
   },
   "outputs": [],
   "source": [
    "def handle_two_tips(df,cid_a,cid_b,distance_L2_pbc,mode='backward'):\n",
    "    '''dist_death_parent=handle_two_tips(df,cid_a,cid_b,distance_L2_pbc,mode='backward')'''\n",
    "    #compute the birth/death mate of one of the new tips\n",
    "    nearest_cid_birth, nearest_dist_birth, t_birth = identify_birth_partner(df,cid_a,distance_L2_pbc)\n",
    "    nearest_cid_death, nearest_dist_death, t_death = identify_death_partner(df,cid_a,distance_L2_pbc)\n",
    "\n",
    "    #assert that the birth mate is the other new tip\n",
    "    assert  (  cid_b==nearest_cid_birth  )\n",
    "    lifetime_self     =df[df.cid==cid_a].cid.count()\n",
    "    lifetime_birthmate=df[df.cid==nearest_cid_birth].cid.count()\n",
    "    #if the two new tips recombine \n",
    "    if (nearest_cid_birth==nearest_cid_death):#lifetime_self==lifetime_birthmate:#\n",
    "        #mark the cid to be dropped as a recombination\n",
    "        df.loc[df.cid==cid_a            ,'keep']=False\n",
    "        df.loc[df.cid==nearest_cid_birth,'keep']=False\n",
    "        df.loc[df.cid==cid_a            ,'event_code']=2\n",
    "        df.loc[df.cid==nearest_cid_birth,'event_code']=2\n",
    "        dist_death_parent=nearest_dist_death\n",
    "    else:\n",
    "        #otherwise, an interchange happened, and a merge is necessary\n",
    "        \n",
    "        #the shorter lifetime/briefer living birthmate is the virtual tip, and it will be dropped\n",
    "        if lifetime_self<lifetime_birthmate:\n",
    "            #self is the virtual tip\n",
    "            cid_virtual=cid_a\n",
    "            cid_lasting=nearest_cid_birth\n",
    "        else:\n",
    "            #birthmate is the virtual tip\n",
    "            cid_virtual=nearest_cid_birth\n",
    "            cid_lasting=cid_a\n",
    "        #identify parent of the exchange event\n",
    "        cid_parent, dist_death_parent = get_parent(df,cid_virtual,distance_L2_pbc)                    \n",
    "        #TODO?: add max jump condition on merged tips\n",
    "        #TODO?: compare velocities before merging \n",
    "        #(but this will reduce the blunt power to correct birth-death rates)\n",
    "        # boo=comparable_velocities(d,d_alt,angle_threshold = np.pi/3)\n",
    "        t_death_virtual = float(df.loc[df.cid==cid_virtual,'t'].tail(1).values.flatten())\n",
    "        #particle number of the parent\n",
    "        pid_parent=int(df.loc[df.cid==cid_parent,'particle2'].mode())\n",
    "        #mark the cid to be dropped\n",
    "        if mode=='backward':\n",
    "            #merge at the birth, eliminating from parent\n",
    "            #remove all rows of the parent tip after the birth\n",
    "            df.loc[(df.cid==cid_parent)&(df.t>=t_birth)      ,'keep']=False\n",
    "            df.loc[df.cid==cid_virtual      ,'keep']=False\n",
    "            df.loc[df.cid==cid_virtual      ,'event_code']=3\n",
    "            df.loc[df.cid==cid_lasting      ,'event_code']=3\n",
    "            df.loc[df.cid==cid_parent       ,'event_code']=3\n",
    "            df.loc[df.cid==cid_lasting      ,'particle2']=pid_parent\n",
    "            df.loc[df.cid==cid_parent       ,'particle2']=pid_parent\n",
    "        elif mode=='forward': #the mode is 'forward'\n",
    "            #merge at the death, eliminating from lasting\n",
    "            #remove all rows of the lasting tip before the death\n",
    "            df.loc[(df.cid==cid_lasting)&(df.t<=t_death_virtual),'keep']=False\n",
    "            df.loc[df.cid==cid_virtual      ,'keep']=False\n",
    "            df.loc[df.cid==cid_virtual      ,'event_code']=3\n",
    "            df.loc[df.cid==cid_lasting      ,'event_code']=3\n",
    "            df.loc[df.cid==cid_parent       ,'event_code']=3\n",
    "            df.loc[df.cid==cid_lasting      ,'particle2']=pid_parent\n",
    "            df.loc[df.cid==cid_parent       ,'particle2']=pid_parent\n",
    "        else: \n",
    "            raise(\"Exception: not implemented.\")\n",
    "    return float(dist_death_parent)"
   ]
  },
  {
   "cell_type": "code",
   "execution_count": 380,
   "metadata": {
    "ExecuteTime": {
     "end_time": "2020-12-30T01:56:47.638283Z",
     "start_time": "2020-12-30T01:56:47.613556Z"
    }
   },
   "outputs": [],
   "source": [
    "# cid_a,cid_b=new_tip_lst\n",
    "# dist_death_parent=handle_two_tips(df,cid_a,cid_b,distance_L2_pbc,mode='backward')\n",
    "# dist_death_parent"
   ]
  },
  {
   "cell_type": "code",
   "execution_count": 381,
   "metadata": {
    "ExecuteTime": {
     "end_time": "2020-12-30T01:56:48.125179Z",
     "start_time": "2020-12-30T01:56:48.102284Z"
    }
   },
   "outputs": [],
   "source": [
    "# def identify_valid_parent(df,t_birth_virtual,cid,cid_others,xy_self,xy_others,distance_L2_pbc):\n",
    "#     nearest_cid, nearest_dist = get_neighboring_tip(xy_self,xy_others,cid_others,distance_L2_pbc)\n",
    "#     t_birth_parent=df[df.cid == nearest_cid].head(1)[['t']].values.T       \n",
    "#     #check whether t_birth_parent is before t_birth_virtual\n",
    "#     if t_birth_parent<t_birth_virtual:\n",
    "#         cid_parent=nearest_cid\n",
    "#         dist_parent=nearest_dist\n",
    "#         return cid_parent, dist_parent\n",
    "#     else:\n",
    "#         #get birthmate of deathmate\n",
    "#         identify_birth_partner\n",
    "#         #mark to not keep nearest_cid and its birthmate\n",
    "#         df.loc[(df.cid==nearest_cid),'keep']=False\n",
    "#         df.loc[(df.cid==nearest_cid),'event_code']=4\n",
    "#         boo=np.argwhere(cid_others!=nearest_cid)\n",
    "#         #drop nearest_cid and its birthmate, and \n",
    "#         cid_others=cid_others[boo]\n",
    "#         cid_others=cid_others[boo]\n",
    "#         # recursive call to identify_valid_parent for the parent of the \n",
    "#         return identify_valid_parent(df,t_birth_virtual,cid,cid_others,xy_self,xy_others,distance_L2_pbc)\n",
    "\n",
    "# def get_parent(df,cid,distance_L2_pbc):\n",
    "#     d = df[df.cid == cid]\n",
    "#     # pid = sorted(set(d.particle.values))[0]\n",
    "#     # d = f[f.particle == pid]\n",
    "#     #identify the death partner\n",
    "#     x,y,t = d.tail(1)[['x','y','t']].values.T\n",
    "#     t_birth_virtual=d.head(1)[['t']].values.T\n",
    "#     #at the time of birth/death, the suspects were...\n",
    "#     # x_others,y_others,pid_others = f[(f.t==float(t))&(f.particle!=pid)][['x','y','particle']].values.T\n",
    "#     x_others,y_others,cid_others = df[(df.t==float(t))&(df.cid!=cid)][['x','y','cid']].values.T  \n",
    "#     xy_others = np.vstack((x_others,y_others)).T\n",
    "#     xy_self = np.array((x,y)).T\n",
    "#     identify_death_partner(df,cid,distance_L2_pbc)\n",
    "    \n",
    "#     cid_parent, dist_parent = identify_valid_parent(df,t_birth_virtual,cid,cid_others,xy_self,xy_others,distance_L2_pbc)\n",
    "#     return cid_parent, dist_parent, t"
   ]
  },
  {
   "cell_type": "code",
   "execution_count": 382,
   "metadata": {
    "ExecuteTime": {
     "end_time": "2020-12-30T01:56:48.624279Z",
     "start_time": "2020-12-30T01:56:48.600691Z"
    }
   },
   "outputs": [],
   "source": [
    "# cid_parent, dist_parent, t=get_parent(df,cid,distance_L2_pbc)"
   ]
  },
  {
   "cell_type": "code",
   "execution_count": 383,
   "metadata": {
    "ExecuteTime": {
     "end_time": "2020-12-30T01:56:49.136373Z",
     "start_time": "2020-12-30T01:56:49.112906Z"
    }
   },
   "outputs": [],
   "source": [
    "#TOOD: check get_parent is using the right chaining"
   ]
  },
  {
   "cell_type": "code",
   "execution_count": 384,
   "metadata": {
    "ExecuteTime": {
     "end_time": "2020-12-30T01:56:49.638106Z",
     "start_time": "2020-12-30T01:56:49.607569Z"
    }
   },
   "outputs": [],
   "source": [
    "def get_parent(df,cid,distance_L2_pbc):#,cid_others=None):\n",
    "    '''Example Usage:\n",
    "        cid_parent, dist_death_parent = get_parent(df,cid,distance_L2_pbc)\n",
    "    '''\n",
    "#     if cid_others is None:\n",
    "#         cid_others = df[(df.frame==int(frm_death))&(df.cid!=cid)&(df.keep)]['cid'].values.T\n",
    "    cid_deathmate, nearest_dist_death, t_death = identify_death_partner(df,cid,distance_L2_pbc,cid_others=None)\n",
    "    cid_birthmate, nearest_dist_birth, t_birth = identify_birth_partner(df,cid,distance_L2_pbc,cid_others=None)\n",
    "    cid_birthmate_of_deathmate, nearest_dist_birth_of_deathmate, t_birth_of_deathmate = identify_birth_partner(df,cid_deathmate,distance_L2_pbc,cid_others=None)\n",
    "    if t_birth_of_deathmate<t_birth:\n",
    "        #the deathmate is the parent\n",
    "        cid_parent=cid_deathmate\n",
    "        dist_death_parent=nearest_dist_death\n",
    "    else:\n",
    "        #the deathmate is not the parent\n",
    "        #mark the virtual cid pair for removal\n",
    "        df.loc[(df.cid==cid_deathmate),'keep']=False\n",
    "        df.loc[(df.cid==cid_deathmate),'event_code']=4\n",
    "        df.loc[(df.cid==cid_birthmate_of_deathmate),'keep']=False\n",
    "        df.loc[(df.cid==cid_birthmate_of_deathmate),'event_code']=4\n",
    "        #the parent is that of the birthmate_of_deathmate, or so on recursively.\n",
    "        cid_parent,_     =get_parent(df,cid_birthmate_of_deathmate,distance_L2_pbc)\n",
    "        dist_death_parent=np.nan\n",
    "    return cid_parent, dist_death_parent"
   ]
  },
  {
   "cell_type": "code",
   "execution_count": null,
   "metadata": {
    "ExecuteTime": {
     "end_time": "2020-12-30T01:54:13.371932Z",
     "start_time": "2020-12-30T01:54:13.316299Z"
    }
   },
   "outputs": [],
   "source": []
  },
  {
   "cell_type": "code",
   "execution_count": null,
   "metadata": {
    "ExecuteTime": {
     "end_time": "2020-12-30T01:53:50.316621Z",
     "start_time": "2020-12-30T01:53:50.289708Z"
    }
   },
   "outputs": [],
   "source": []
  },
  {
   "cell_type": "code",
   "execution_count": null,
   "metadata": {},
   "outputs": [],
   "source": []
  }
 ],
 "metadata": {
  "kernelspec": {
   "display_name": "Python 3",
   "language": "python",
   "name": "python3"
  },
  "language_info": {
   "codemirror_mode": {
    "name": "ipython",
    "version": 3
   },
   "file_extension": ".py",
   "mimetype": "text/x-python",
   "name": "python",
   "nbconvert_exporter": "python",
   "pygments_lexer": "ipython3",
   "version": "3.8.6"
  },
  "varInspector": {
   "cols": {
    "lenName": 16,
    "lenType": 16,
    "lenVar": 40
   },
   "kernels_config": {
    "python": {
     "delete_cmd_postfix": "",
     "delete_cmd_prefix": "del ",
     "library": "var_list.py",
     "varRefreshCmd": "print(var_dic_list())"
    },
    "r": {
     "delete_cmd_postfix": ") ",
     "delete_cmd_prefix": "rm(",
     "library": "var_list.r",
     "varRefreshCmd": "cat(var_dic_list()) "
    }
   },
   "types_to_exclude": [
    "module",
    "function",
    "builtin_function_or_method",
    "instance",
    "_Feature"
   ],
   "window_display": false
  }
 },
 "nbformat": 4,
 "nbformat_minor": 4
}
