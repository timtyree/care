{
 "cells": [
  {
   "cell_type": "markdown",
   "metadata": {
    "heading_collapsed": true
   },
   "source": [
    "# Computing Lifetimes of Spiral Tips\n",
    "Tim Tyree<br>\n",
    "6.29.2020<br>"
   ]
  },
  {
   "cell_type": "code",
   "execution_count": 1,
   "metadata": {
    "ExecuteTime": {
     "end_time": "2020-06-29T18:40:06.331628Z",
     "start_time": "2020-06-29T18:40:02.488474Z"
    },
    "hidden": true
   },
   "outputs": [
    {
     "name": "stdout",
     "output_type": "stream",
     "text": [
      "100000\n",
      "Automatic calling is: Smart\n"
     ]
    }
   ],
   "source": [
    "#pylab\n",
    "%matplotlib inline\n",
    "import numpy as np, pandas as pd, matplotlib.pyplot as plt\n",
    "from pylab import imshow, show\n",
    "\n",
    "\n",
    "import numba, trackpy\n",
    "# from numba import njit, jit, vectorize\n",
    "# from PIL import Image\n",
    "# import imageio\n",
    "# import cv2 as cv\n",
    "\n",
    "#automate the boring stuff\n",
    "from IPython import utils\n",
    "import time, os, sys, re\n",
    "beep = lambda x: os.system(\"echo -n '\\\\a';sleep 0.2;\" * x)\n",
    "if not 'nb_dir' in globals():\n",
    "    nb_dir = os.getcwd()\n",
    "\n",
    "#load the libraries\n",
    "from lib import *\n",
    "from lib.dist_func import *\n",
    "# from lib.operari import *\n",
    "# from lib.ProgressBar import *\n",
    "# from lib.minimal_model import *\n",
    "# from lib.TexturePlot import *\n",
    "# from lib.get_tips import *\n",
    "# from lib.minimal_model import *\n",
    "# from lib.intersection import *\n",
    "# from numba import jit, njit, vectorize, cuda, uint32, f8, uint8\n",
    "# from lib.contours_to_tips import *\n",
    "\n",
    "%autocall 1\n",
    "%load_ext autoreload\n",
    "%autoreload 2"
   ]
  },
  {
   "cell_type": "markdown",
   "metadata": {
    "heading_collapsed": true
   },
   "source": [
    "# import tip positions"
   ]
  },
  {
   "cell_type": "code",
   "execution_count": 628,
   "metadata": {
    "ExecuteTime": {
     "end_time": "2020-06-30T02:00:44.225799Z",
     "start_time": "2020-06-30T02:00:43.938064Z"
    },
    "hidden": true
   },
   "outputs": [
    {
     "name": "stdout",
     "output_type": "stream",
     "text": [
      "loading .csv of size 0.177 KB.\n",
      "files will be saved in the folder: \n",
      "\t/Users/timothytyree/Documents/GitHub/care/notebooks/Data/ds_5_param_set_8/trajectories/\n"
     ]
    }
   ],
   "source": [
    "sigma = 1.5  #1.5#1.5#1.#1\n",
    "threshold = 0.9#0.6  #0.9#0.95\n",
    "V_threshold = 0.5\n",
    "\n",
    "\n",
    "# search_for_file()\n",
    "data_dir    = f'{nb_dir}/Data/ds_5_param_set_8/Log/tip_log_ds_5_sigma_{sigma}_threshold_{threshold}_processed.csv'\n",
    "print(f\"loading .csv of size {sys.getsizeof(data_dir)/10**3} KB.\")\n",
    "df = pd.read_csv(data_dir)\n",
    "\n",
    "save_folder = '/'+os.path.join(*data_dir.split('/')[:-2])+'/trajectories/'\n",
    "os.chdir(save_folder)\n",
    "print(f\"files will be saved in the folder: \\n\\t{save_folder}\")"
   ]
  },
  {
   "cell_type": "code",
   "execution_count": 630,
   "metadata": {
    "ExecuteTime": {
     "end_time": "2020-06-30T02:00:46.784895Z",
     "start_time": "2020-06-30T02:00:46.718494Z"
    },
    "hidden": true
   },
   "outputs": [
    {
     "name": "stdout",
     "output_type": "stream",
     "text": [
      "no odd spiral tips exist.\n"
     ]
    }
   ],
   "source": [
    "# test data has no odd spiral tips since the data has periodic boundary conditions\n",
    "assert not (np.array(list(set(df.n.values)))%2==1).any()\n",
    "print('no odd spiral tips exist.')"
   ]
  },
  {
   "cell_type": "markdown",
   "metadata": {
    "heading_collapsed": true,
    "hidden": true
   },
   "source": [
    "## DONE: get trackpy to use periodic boundary distances\n",
    "- failing ^that make trackpy use my distance function"
   ]
  },
  {
   "cell_type": "markdown",
   "metadata": {
    "hidden": true
   },
   "source": [
    "__Trackpy warns in its more seriptitious print statements that user defined distances are not tested__<br>\n",
    "Thus, I must test my own use case on a test with a known response."
   ]
  },
  {
   "cell_type": "markdown",
   "metadata": {
    "ExecuteTime": {
     "end_time": "2020-06-29T20:29:19.471037Z",
     "start_time": "2020-06-29T20:29:19.438394Z"
    },
    "hidden": true
   },
   "source": [
    "__How trackpy handles user defined distance functions__\n",
    "The only appearance of dist_func in trackpy's source code from github is in subnet.py.  In which, trackpy.subnet.HashBTree.rebuild passes dist_func to sklearn as follows <br>\n",
    "`sklearn.neighbors.BallTree(coords_mapped,metric='pyfunc', func=self.dist_func`\n",
    "\n",
    "`sklearn.neighbors.BallTree` has func as an additional kwarg, which is passed to the distance metric class, DistanceMetric.  In the docstring of that function, I find the specification for `DistanceMetric`.\n",
    "\n",
    "__Bottom Line Up Front (BLUF) the function must take two 1D numpy arrays and return a distance.  Everything will be slower because of the overhead of calling python functions__"
   ]
  },
  {
   "cell_type": "code",
   "execution_count": 87,
   "metadata": {
    "ExecuteTime": {
     "end_time": "2020-06-29T20:34:55.145931Z",
     "start_time": "2020-06-29T20:34:55.115895Z"
    },
    "hidden": true
   },
   "outputs": [],
   "source": [
    "# from sklearn.neighbors import BallTree, DistanceMetric"
   ]
  },
  {
   "cell_type": "code",
   "execution_count": 194,
   "metadata": {
    "ExecuteTime": {
     "end_time": "2020-06-29T21:20:31.653806Z",
     "start_time": "2020-06-29T21:20:31.625833Z"
    },
    "hidden": true
   },
   "outputs": [
    {
     "name": "stdout",
     "output_type": "stream",
     "text": [
      "**User-defined distance:**\n",
      "\n",
      "===========    ===============    =======\n",
      "identifier     class name         args\n",
      "-----------    ---------------    -------\n",
      "\"pyfunc\"       PyFuncDistance     func\n",
      "===========    ===============    =======\n",
      "\n",
      "Here ``func`` is a function which takes two one-dimensional numpy\n",
      "arrays, and returns a distance.  Note that in order to be used within\n",
      "the BallTree, the distance must be a true metric:\n",
      "i.e. it must satisfy the following properties\n",
      "\n",
      "1) Non-negativity: d(x, y) >= 0\n",
      "2) Identity: d(x, y) = 0 if and only if x == y\n",
      "3) Symmetry: d(x, y) = d(y, x)\n",
      "4) Triangle Inequality: d(x, y) + d(y, z) >= d(x, z)\n",
      "\n",
      "Because of the Python object overhead involved in calling the python\n",
      "function, this will be fairly slow, but it will have the same\n",
      "scaling as other distances.\n"
     ]
    }
   ],
   "source": [
    "print('''**User-defined distance:**\n",
    "\n",
    "===========    ===============    =======\n",
    "identifier     class name         args\n",
    "-----------    ---------------    -------\n",
    "\"pyfunc\"       PyFuncDistance     func\n",
    "===========    ===============    =======\n",
    "\n",
    "Here ``func`` is a function which takes two one-dimensional numpy\n",
    "arrays, and returns a distance.  Note that in order to be used within\n",
    "the BallTree, the distance must be a true metric:\n",
    "i.e. it must satisfy the following properties\n",
    "\n",
    "1) Non-negativity: d(x, y) >= 0\n",
    "2) Identity: d(x, y) = 0 if and only if x == y\n",
    "3) Symmetry: d(x, y) = d(y, x)\n",
    "4) Triangle Inequality: d(x, y) + d(y, z) >= d(x, z)\n",
    "\n",
    "Because of the Python object overhead involved in calling the python\n",
    "function, this will be fairly slow, but it will have the same\n",
    "scaling as other distances.''')"
   ]
  },
  {
   "cell_type": "code",
   "execution_count": 156,
   "metadata": {
    "ExecuteTime": {
     "end_time": "2020-06-29T21:02:19.054029Z",
     "start_time": "2020-06-29T21:02:19.019983Z"
    },
    "hidden": true
   },
   "outputs": [],
   "source": [
    "# this section was sent to lib.dist_func\n",
    "# def get_distance_L2_pbc(width=200,height=200):\n",
    "#     '''returns a function for the euclidean (L2) distance measure for a 2D rectangle with periodic boundary conditions.\n",
    "#     width, height are the shape of that 2D rectangle.'''\n",
    "#     @jit('f8(f8[:],f8[:])', nopython=True)\n",
    "#     def distance_L2_pbc(point_1, point_2):\n",
    "#         '''assumes getting shortest distance between two points with periodic boundary conditions in 2D.'''\n",
    "#         mesh_shape=np.array((width,height))\n",
    "#         dq2 = 0.\n",
    "#         #     for q1, q2, width in zip(point_1[:2], point_2[:2], mesh_shape):\n",
    "#         for q1, q2, wid in zip(point_1, point_2, mesh_shape):\n",
    "#             dq2 = dq2 + min(((q2 - q1)**2, (q2 + wid - q1 )**2, (q2 - wid - q1 )**2))\n",
    "#         return np.sqrt(dq2)\n",
    "#     return distance_L2_pbc\n",
    "\n",
    "# def test_get_distance_L2_pbc():\n",
    "#     import trackpy, pandas as pd\n",
    "\n",
    "#     #testing the pbc distance function\n",
    "#     distance_L2_pbc = get_distance_L2_pbc(width=200,height=200)\n",
    "#     assert(np.isclose(distance_L2_pbc(np.array([1.,1.]),np.array([1.,1.])),0.))\n",
    "#     assert(distance_L2_pbc(np.array([1.,1.]),np.array([199.,199.]))<3.)\n",
    "#     assert(distance_L2_pbc(np.array([1.,1.]),np.array([199.,199.]))<3.)\n",
    "#     assert(distance_L2_pbc(np.array([1.,1.]),np.array([1.,199.]))<3.)\n",
    "#     assert(distance_L2_pbc(np.array([1.,1.]),np.array([199.,1.]))<3.)\n",
    "\n",
    "#     #testing distance_L2_pbc in trackpy.link_df\n",
    "#     df_test = pd.DataFrame({'frame':[1,2,2],'x':[1,100,199],'y':[1,100,199]})\n",
    "\n",
    "#     # test that the default distance function maps 1,1 to 100,100 instead of 199,199\n",
    "#     traj_test = trackpy.link_df(df_test, search_range=210)\n",
    "#     assert((traj_test['particle'].values == np.array([0, 0, 1])).all())\n",
    "\n",
    "#     # test that the pbc distance function maps 1,1 to 199,199 instead of 100,100\n",
    "#     traj_test = trackpy.link_df(df_test, search_range=210, dist_func = distance_L2_pbc)\n",
    "#     assert((traj_test['particle'].values == np.array([0, 1, 0])).all())\n",
    "\n",
    "#     # test that the pbc distance function can see accross boundarys when search_range is small\n",
    "#     traj_test = trackpy.link_df(df_test, search_range=110, dist_func = distance_L2_pbc)\n",
    "#     assert((traj_test['particle'].values == np.array([0, 1, 0])).all())\n",
    "#     return True"
   ]
  },
  {
   "cell_type": "markdown",
   "metadata": {
    "heading_collapsed": true
   },
   "source": [
    "# track tips using periodic boundary conditions"
   ]
  },
  {
   "cell_type": "code",
   "execution_count": 631,
   "metadata": {
    "ExecuteTime": {
     "end_time": "2020-06-30T02:00:50.443740Z",
     "start_time": "2020-06-30T02:00:50.414283Z"
    },
    "hidden": true
   },
   "outputs": [],
   "source": [
    "# df_dir = '/Users/timothytyree/Documents/GitHub/care/notebooks/Data/ds_5_param_set_8/Log/tip_log_ds_5_sigma_1.5_threshold_0.9_processed.csv'\n",
    "# df = pd.read_csv(df_dir)\n"
   ]
  },
  {
   "cell_type": "code",
   "execution_count": 632,
   "metadata": {
    "ExecuteTime": {
     "end_time": "2020-06-30T02:00:52.904544Z",
     "start_time": "2020-06-30T02:00:52.708498Z"
    },
    "hidden": true
   },
   "outputs": [],
   "source": [
    "h = 0.007\n",
    "mem = 2\n",
    "sr  = 1\n",
    "distance_L2_pbc = get_distance_L2_pbc(width=200,height=200)\n",
    "link_kwargs = {\n",
    "    'neighbor_strategy' : 'BTree',\n",
    "    'dist_func'         : distance_L2_pbc,\n",
    "    'memory': mem}"
   ]
  },
  {
   "cell_type": "code",
   "execution_count": 633,
   "metadata": {
    "ExecuteTime": {
     "end_time": "2020-06-30T02:05:25.410644Z",
     "start_time": "2020-06-30T02:00:53.491402Z"
    },
    "code_folding": [],
    "hidden": true
   },
   "outputs": [
    {
     "name": "stdout",
     "output_type": "stream",
     "text": [
      "Frame 79300: 2 trajectories present.\n"
     ]
    },
    {
     "data": {
      "text/plain": [
       "0"
      ]
     },
     "execution_count": 633,
     "metadata": {},
     "output_type": "execute_result"
    }
   ],
   "source": [
    "# boo = (550 < df.t) & (df.t < 555)\n",
    "df['frame'] = df['t']/h\n",
    "df = df.astype(dtype={'frame':int}).copy()\n",
    "traj = trackpy.link_df(\n",
    "    f=df,search_range=sr,t_column='frame', **link_kwargs)\n",
    "beep(1)\n",
    "beep(1)\n",
    "beep(1)\n",
    "beep(1)\n",
    "beep(1)"
   ]
  },
  {
   "cell_type": "code",
   "execution_count": 644,
   "metadata": {
    "ExecuteTime": {
     "end_time": "2020-06-30T02:07:18.100722Z",
     "start_time": "2020-06-30T02:07:15.818696Z"
    },
    "hidden": true
   },
   "outputs": [
    {
     "name": "stdout",
     "output_type": "stream",
     "text": [
      "tip_log_ds_5_sigma_1.5_threshold_0.9_traj_sr_1_mem_2.csv\n"
     ]
    }
   ],
   "source": [
    "save_fn = os.path.basename(df_dir).replace('_processed.csv', f'_traj_sr_{sr}_mem_{mem}.csv')\n",
    "traj.to_csv(save_fn, index=False)\n",
    "print (save_fn)"
   ]
  },
  {
   "cell_type": "markdown",
   "metadata": {
    "ExecuteTime": {
     "end_time": "2020-06-29T18:47:28.266858Z",
     "start_time": "2020-06-29T18:47:20.204220Z"
    },
    "hidden": true
   },
   "source": [
    "Now compute life times"
   ]
  },
  {
   "cell_type": "markdown",
   "metadata": {
    "ExecuteTime": {
     "end_time": "2020-06-29T21:17:00.019154Z",
     "start_time": "2020-06-29T21:16:59.979283Z"
    },
    "heading_collapsed": true
   },
   "source": [
    "# compute life times"
   ]
  },
  {
   "cell_type": "markdown",
   "metadata": {
    "hidden": true
   },
   "source": [
    "particles still not being tracked right.  debug between two  time steps from the middle frames ah, search_range must be at least ~1e-2.  Using 1e-0 should work"
   ]
  },
  {
   "cell_type": "code",
   "execution_count": 645,
   "metadata": {
    "ExecuteTime": {
     "end_time": "2020-06-30T02:07:19.884562Z",
     "start_time": "2020-06-30T02:07:19.585315Z"
    },
    "hidden": true
   },
   "outputs": [
    {
     "name": "stdout",
     "output_type": "stream",
     "text": [
      "tip_log_ds_5_sigma_1.5_threshold_0.9_traj_sr_1_mem_2.csv\n"
     ]
    }
   ],
   "source": [
    "# data_fn = 'tip_log_ds_5_sigma_1.0_threshold_0.6_traj_sr_1.csv'\n",
    "df_traj = pd.read_csv(save_fn)\n",
    "print(save_fn)"
   ]
  },
  {
   "cell_type": "code",
   "execution_count": 646,
   "metadata": {
    "ExecuteTime": {
     "end_time": "2020-06-30T02:07:20.590687Z",
     "start_time": "2020-06-30T02:07:20.464230Z"
    },
    "hidden": true
   },
   "outputs": [
    {
     "data": {
      "text/html": [
       "<div>\n",
       "<style scoped>\n",
       "    .dataframe tbody tr th:only-of-type {\n",
       "        vertical-align: middle;\n",
       "    }\n",
       "\n",
       "    .dataframe tbody tr th {\n",
       "        vertical-align: top;\n",
       "    }\n",
       "\n",
       "    .dataframe thead th {\n",
       "        text-align: right;\n",
       "    }\n",
       "</style>\n",
       "<table border=\"1\" class=\"dataframe\">\n",
       "  <thead>\n",
       "    <tr style=\"text-align: right;\">\n",
       "      <th></th>\n",
       "      <th>n</th>\n",
       "      <th>t</th>\n",
       "      <th>x</th>\n",
       "      <th>y</th>\n",
       "      <th>frame</th>\n",
       "      <th>particle</th>\n",
       "    </tr>\n",
       "  </thead>\n",
       "  <tbody>\n",
       "    <tr>\n",
       "      <th>count</th>\n",
       "      <td>286154.000000</td>\n",
       "      <td>286154.000000</td>\n",
       "      <td>286154.000000</td>\n",
       "      <td>286154.000000</td>\n",
       "      <td>286154.000000</td>\n",
       "      <td>286154.000000</td>\n",
       "    </tr>\n",
       "    <tr>\n",
       "      <th>mean</th>\n",
       "      <td>4.907945</td>\n",
       "      <td>214.309848</td>\n",
       "      <td>100.107927</td>\n",
       "      <td>108.412352</td>\n",
       "      <td>30615.490372</td>\n",
       "      <td>15035.585678</td>\n",
       "    </tr>\n",
       "    <tr>\n",
       "      <th>std</th>\n",
       "      <td>2.759621</td>\n",
       "      <td>164.702447</td>\n",
       "      <td>54.564645</td>\n",
       "      <td>62.542510</td>\n",
       "      <td>23528.923892</td>\n",
       "      <td>8057.475384</td>\n",
       "    </tr>\n",
       "    <tr>\n",
       "      <th>min</th>\n",
       "      <td>2.000000</td>\n",
       "      <td>0.007000</td>\n",
       "      <td>0.000373</td>\n",
       "      <td>0.024175</td>\n",
       "      <td>0.000000</td>\n",
       "      <td>0.000000</td>\n",
       "    </tr>\n",
       "    <tr>\n",
       "      <th>25%</th>\n",
       "      <td>2.000000</td>\n",
       "      <td>70.210000</td>\n",
       "      <td>56.942197</td>\n",
       "      <td>39.491929</td>\n",
       "      <td>10029.000000</td>\n",
       "      <td>8661.000000</td>\n",
       "    </tr>\n",
       "    <tr>\n",
       "      <th>50%</th>\n",
       "      <td>4.000000</td>\n",
       "      <td>161.546000</td>\n",
       "      <td>102.202295</td>\n",
       "      <td>126.617981</td>\n",
       "      <td>23078.000000</td>\n",
       "      <td>15002.500000</td>\n",
       "    </tr>\n",
       "    <tr>\n",
       "      <th>75%</th>\n",
       "      <td>6.000000</td>\n",
       "      <td>360.297000</td>\n",
       "      <td>145.294706</td>\n",
       "      <td>156.749566</td>\n",
       "      <td>51470.000000</td>\n",
       "      <td>21957.000000</td>\n",
       "    </tr>\n",
       "    <tr>\n",
       "      <th>max</th>\n",
       "      <td>14.000000</td>\n",
       "      <td>555.100000</td>\n",
       "      <td>199.998845</td>\n",
       "      <td>199.986341</td>\n",
       "      <td>79300.000000</td>\n",
       "      <td>28269.000000</td>\n",
       "    </tr>\n",
       "  </tbody>\n",
       "</table>\n",
       "</div>"
      ],
      "text/plain": [
       "                   n              t              x              y  \\\n",
       "count  286154.000000  286154.000000  286154.000000  286154.000000   \n",
       "mean        4.907945     214.309848     100.107927     108.412352   \n",
       "std         2.759621     164.702447      54.564645      62.542510   \n",
       "min         2.000000       0.007000       0.000373       0.024175   \n",
       "25%         2.000000      70.210000      56.942197      39.491929   \n",
       "50%         4.000000     161.546000     102.202295     126.617981   \n",
       "75%         6.000000     360.297000     145.294706     156.749566   \n",
       "max        14.000000     555.100000     199.998845     199.986341   \n",
       "\n",
       "               frame       particle  \n",
       "count  286154.000000  286154.000000  \n",
       "mean    30615.490372   15035.585678  \n",
       "std     23528.923892    8057.475384  \n",
       "min         0.000000       0.000000  \n",
       "25%     10029.000000    8661.000000  \n",
       "50%     23078.000000   15002.500000  \n",
       "75%     51470.000000   21957.000000  \n",
       "max     79300.000000   28269.000000  "
      ]
     },
     "execution_count": 646,
     "metadata": {},
     "output_type": "execute_result"
    }
   ],
   "source": [
    "df_traj.describe()"
   ]
  },
  {
   "cell_type": "code",
   "execution_count": 647,
   "metadata": {
    "ExecuteTime": {
     "end_time": "2020-06-30T02:07:21.174870Z",
     "start_time": "2020-06-30T02:07:21.148089Z"
    },
    "hidden": true
   },
   "outputs": [],
   "source": []
  },
  {
   "cell_type": "code",
   "execution_count": 672,
   "metadata": {
    "ExecuteTime": {
     "end_time": "2020-06-30T02:14:53.186254Z",
     "start_time": "2020-06-30T02:14:53.159848Z"
    },
    "hidden": true
   },
   "outputs": [
    {
     "data": {
      "text/plain": [
       "'hist_lifetimes_ds_5_sigma_1.5_threshold_0.9_traj_sr_1_mem_2.png'"
      ]
     },
     "execution_count": 672,
     "metadata": {},
     "output_type": "execute_result"
    }
   ],
   "source": [
    "# gd = g.describe()\n",
    "# beep(2)\n"
   ]
  },
  {
   "cell_type": "code",
   "execution_count": 649,
   "metadata": {
    "ExecuteTime": {
     "end_time": "2020-06-30T02:07:22.305840Z",
     "start_time": "2020-06-30T02:07:22.273004Z"
    },
    "hidden": true
   },
   "outputs": [],
   "source": [
    "g = df_traj.groupby('particle')['t']\n",
    "mx = g.agg(np.max)\n",
    "mn = g.agg(np.min)\n",
    "gd_lifetimes = mx - mn\n",
    "\n",
    "gd_lifetimes = gd['max']- gd['min']"
   ]
  },
  {
   "cell_type": "markdown",
   "metadata": {
    "heading_collapsed": true
   },
   "source": [
    "# plot lifetimes"
   ]
  },
  {
   "cell_type": "code",
   "execution_count": 651,
   "metadata": {
    "ExecuteTime": {
     "end_time": "2020-06-30T02:07:23.596766Z",
     "start_time": "2020-06-30T02:07:23.564206Z"
    },
    "hidden": true
   },
   "outputs": [
    {
     "name": "stdout",
     "output_type": "stream",
     "text": [
      "the longest living tip lasted 119 time steps, which was 0.833 ms.\n"
     ]
    }
   ],
   "source": [
    "# ll=np.max(gd_lifetimes[gd_lifetimes>0.])\n",
    "# print(f\"the longest living tip lasted {int(np.around(ll/h))} time steps, which was {ll:.3f} ms.\")"
   ]
  },
  {
   "cell_type": "markdown",
   "metadata": {
    "ExecuteTime": {
     "end_time": "2020-06-29T23:39:02.614597Z",
     "start_time": "2020-06-29T23:39:02.579449Z"
    },
    "hidden": true
   },
   "source": [
    " based on Wouter's results, we would expect a lifetime on the order of 10 ms from a birth/death rate of ~0.1/ms.  We have 557 ms of data, so we would expect on the order of 2*557*0.1=111 birth/death events.\n",
    " \n",
    " So, we expect at least one tip that lasts __10 ms__."
   ]
  },
  {
   "cell_type": "code",
   "execution_count": 662,
   "metadata": {
    "ExecuteTime": {
     "end_time": "2020-06-30T02:11:48.088339Z",
     "start_time": "2020-06-30T02:11:48.054064Z"
    },
    "hidden": true
   },
   "outputs": [],
   "source": [
    "# plt.hist?"
   ]
  },
  {
   "cell_type": "code",
   "execution_count": 661,
   "metadata": {
    "ExecuteTime": {
     "end_time": "2020-06-30T02:11:40.545434Z",
     "start_time": "2020-06-30T02:11:40.521438Z"
    },
    "hidden": true
   },
   "outputs": [],
   "source": [
    "# plt.hist(out[out>-100], bins=30, density=True)"
   ]
  },
  {
   "cell_type": "code",
   "execution_count": 673,
   "metadata": {
    "ExecuteTime": {
     "end_time": "2020-06-30T02:15:31.499846Z",
     "start_time": "2020-06-30T02:15:30.623559Z"
    },
    "hidden": true
   },
   "outputs": [
    {
     "data": {
      "image/png": "[encoded data removed]",
      "text/plain": [
       "<Figure size 432x288 with 1 Axes>"
      ]
     },
     "metadata": {
      "needs_background": "light"
     },
     "output_type": "display_data"
    }
   ],
   "source": [
    "ll=np.max(gd_lifetimes[gd_lifetimes>0.])\n",
    "print(f\"the longest living tip lasted {int(np.around(ll/h))} time steps, which was {ll:.3f} ms.\")\n",
    "fig_fn = save_fn.replace('.csv','.png').replace('tip_log','hist_lifetimes')\n",
    "# out = np.log(gd_lifetimes)\n",
    "plt.hist(gd_lifetimes[gd_lifetimes>0], bins=30, density=True, log=True)\n",
    "plt.ylabel('frequency', fontsize=21)\n",
    "plt.xlabel('lifetime (ms)', fontsize=21)\n",
    "# plt.show()\n",
    "plt.savefig(fig_fn, dpi=300)"
   ]
  },
  {
   "cell_type": "code",
   "execution_count": null,
   "metadata": {
    "ExecuteTime": {
     "end_time": "2020-06-30T01:49:35.348632Z",
     "start_time": "2020-06-30T01:49:35.324575Z"
    },
    "hidden": true
   },
   "outputs": [],
   "source": []
  },
  {
   "cell_type": "code",
   "execution_count": 654,
   "metadata": {
    "ExecuteTime": {
     "end_time": "2020-06-30T02:07:39.042472Z",
     "start_time": "2020-06-30T02:07:38.814844Z"
    },
    "hidden": true
   },
   "outputs": [
    {
     "data": {
      "text/plain": [
       "[<matplotlib.lines.Line2D at 0x141280d10>]"
      ]
     },
     "execution_count": 654,
     "metadata": {},
     "output_type": "execute_result"
    },
    {
     "data": {
      "image/png": "[encoded data removed]",
      "text/plain": [
       "<Figure size 432x288 with 1 Axes>"
      ]
     },
     "metadata": {
      "needs_background": "light"
     },
     "output_type": "display_data"
    }
   ],
   "source": [
    "y_values = df_traj.n.values\n",
    "x_values = df_traj.t.values\n",
    "plt.plot(x_values,y_values)"
   ]
  },
  {
   "cell_type": "code",
   "execution_count": 625,
   "metadata": {
    "ExecuteTime": {
     "end_time": "2020-06-30T01:49:36.715500Z",
     "start_time": "2020-06-30T01:49:36.692587Z"
    },
    "code_folding": [],
    "hidden": true
   },
   "outputs": [],
   "source": [
    "# # (equivalently if pid's are not reused) take max and min time for each trajectory\n",
    "# def get_lifetime(trajectory_list):\n",
    "#     '''trajectory_list is a list of lists.  \n",
    "#     return np.mean( [ len(trajectory) for trajectory in trajectory_list ], axis=0 )'''\n",
    "#     return np.mean( [ len(trajectory) for trajectory in trajectory_list ], axis=0 )\n",
    "# #    TODO: for a given .csv of tip positions, make their trajectories naively in trackpy\n"
   ]
  },
  {
   "cell_type": "markdown",
   "metadata": {},
   "source": [
    "# TODO: take a close look at when those n = 6 numbers flicker to n=12 during trackpy.link_df\n",
    "also, my data has some frames missing, and I don't know why...<br>\n",
    "TODO: see if frames are still missing when `recording` is not recomputed every timestep"
   ]
  },
  {
   "cell_type": "markdown",
   "metadata": {
    "ExecuteTime": {
     "end_time": "2020-06-30T02:16:13.355352Z",
     "start_time": "2020-06-30T02:16:13.326693Z"
    }
   },
   "source": [
    "# DONE: walk through the log folder"
   ]
  },
  {
   "cell_type": "code",
   "execution_count": 719,
   "metadata": {
    "ExecuteTime": {
     "end_time": "2020-06-30T04:21:51.157138Z",
     "start_time": "2020-06-30T04:21:50.912533Z"
    }
   },
   "outputs": [],
   "source": [
    "log_dir = f\"{nb_dir}/Data/ds_5_param_set_8/Log\"\n",
    "out_dir = f\"{nb_dir}/Data/ds_5_param_set_8/trajectories\"\n",
    "\n",
    "h = 0.007\n",
    "mem = 2\n",
    "sr  = 1\n",
    "distance_L2_pbc = get_distance_L2_pbc(width=200,height=200)\n",
    "df['frame'] = df['t']/h\n",
    "df = df.astype(dtype={'frame':int}).copy()\n",
    "link_kwargs = {\n",
    "    'neighbor_strategy' : 'BTree',\n",
    "    'dist_func'         : distance_L2_pbc,\n",
    "    'memory': mem}"
   ]
  },
  {
   "cell_type": "code",
   "execution_count": null,
   "metadata": {
    "ExecuteTime": {
     "end_time": "2020-06-30T03:53:57.430075Z",
     "start_time": "2020-06-30T03:53:57.274302Z"
    }
   },
   "outputs": [],
   "source": []
  },
  {
   "cell_type": "code",
   "execution_count": 717,
   "metadata": {
    "ExecuteTime": {
     "end_time": "2020-06-30T04:21:48.173909Z",
     "start_time": "2020-06-30T03:54:06.166674Z"
    }
   },
   "outputs": [
    {
     "name": "stdout",
     "output_type": "stream",
     "text": [
      "Frame 79470: 2 trajectories present.\n"
     ]
    }
   ],
   "source": [
    "#compute all _processed.csv tip logs in the Log folder\n",
    "os.chdir(log_dir)\n",
    "for root, dirs, files in os.walk(\".\", topdown=False):\n",
    "    for name in dirs:\n",
    "        print(os.path.join(root, name))\n",
    "    for name in files:\n",
    "        os.chdir(log_dir)\n",
    "        df_dir = os.path.join(root, name)\n",
    "        if df_dir.find('_processed.csv') !=-1:\n",
    "            print(f\"starting on {df_dir}...\")\n",
    "            df = pd.read_csv(df_dir)\n",
    "            df['frame'] = df['t']/h\n",
    "            df = df.astype(dtype={'frame':int}).copy()\n",
    "            # test whether data has no odd spiral tips since the data has periodic boundary conditions\n",
    "            if (np.array(list(set(df.n.values)))%2==1).any():\n",
    "                print(f'WARNING: an odd spiral tips exists in \\n\\t{fn}')\n",
    "            \n",
    "            # compute trajectories (slowest part)\n",
    "            traj = trackpy.link_df(f=df,search_range=sr,t_column='frame', **link_kwargs)\n",
    "            \n",
    "            #save results\n",
    "            os.chdir(out_dir)\n",
    "            save_fn = os.path.basename(df_dir).replace('_processed.csv', f'_traj_sr_{sr}_mem_{mem}.csv').replace('tip_log','tip_trajectories')\n",
    "            traj.to_csv(save_fn, index=False)"
   ]
  },
  {
   "cell_type": "code",
   "execution_count": 718,
   "metadata": {
    "ExecuteTime": {
     "end_time": "2020-06-30T04:21:50.261230Z",
     "start_time": "2020-06-30T04:21:48.788058Z"
    }
   },
   "outputs": [
    {
     "data": {
      "text/plain": [
       "0"
      ]
     },
     "execution_count": 718,
     "metadata": {},
     "output_type": "execute_result"
    }
   ],
   "source": [
    "beep(7)"
   ]
  },
  {
   "cell_type": "markdown",
   "metadata": {},
   "source": [
    "# make a histogram for each output "
   ]
  },
  {
   "cell_type": "code",
   "execution_count": 720,
   "metadata": {
    "ExecuteTime": {
     "end_time": "2020-06-30T05:20:13.958909Z",
     "start_time": "2020-06-30T05:20:13.756421Z"
    }
   },
   "outputs": [],
   "source": [
    "sr  = 1\n",
    "mem = 2\n",
    "dpi = 300\n",
    "traj_dir = f\"{nb_dir}/Data/ds_5_param_set_8/trajectories\"\n",
    "save_dir = f\"{nb_dir}/Figures\"\n",
    "os.chdir(traj_dir)\n",
    "fontsize=21"
   ]
  },
  {
   "cell_type": "code",
   "execution_count": 721,
   "metadata": {
    "ExecuteTime": {
     "end_time": "2020-06-30T05:20:30.170477Z",
     "start_time": "2020-06-30T05:20:14.612689Z"
    }
   },
   "outputs": [
    {
     "name": "stdout",
     "output_type": "stream",
     "text": [
      "starting on ./tip_log_ds_5_sigma_1.5_threshold_0.6_traj_sr_1_mem_2.csv...\n",
      "the longest living tip lasted 119 time steps, which was 0.833 ms.\n",
      "starting on ./tip_trajectories_ds_5_6.23-2_traj_sr_1_mem_2.csv...\n",
      "the longest living tip lasted 119 time steps, which was 0.833 ms.\n",
      "starting on ./tip_trajectories_ds_5_sigma_1.5_threshold_0.6_traj_sr_1_mem_2.csv...\n",
      "the longest living tip lasted 119 time steps, which was 0.833 ms.\n",
      "starting on ./tip_trajectories_ds_5_sigma_1.5_threshold_0.9_traj_sr_1_mem_2.csv...\n",
      "the longest living tip lasted 119 time steps, which was 0.833 ms.\n",
      "starting on ./tip_log_ds_5_sigma_1.5_threshold_0.9_traj_sr_1_mem_2.csv...\n",
      "the longest living tip lasted 119 time steps, which was 0.833 ms.\n",
      "starting on ./tip_log_ds_5_sigma_1.0_threshold_0.6_traj_sr_1_mem_2.csv...\n",
      "the longest living tip lasted 119 time steps, which was 0.833 ms.\n",
      "starting on ./tip_log_ds_5_sigma_0.5_threshold_0.6_traj_sr_1_mem_2.csv...\n",
      "the longest living tip lasted 119 time steps, which was 0.833 ms.\n",
      "starting on ./tip_trajectories_ds_5_sigma_1.0_threshold_0.6_traj_sr_1_mem_2.csv...\n",
      "the longest living tip lasted 119 time steps, which was 0.833 ms.\n",
      "starting on ./tip_trajectories_ds_5_sigma_0.5_threshold_0.6_traj_sr_1_mem_2.csv...\n",
      "the longest living tip lasted 119 time steps, which was 0.833 ms.\n",
      "starting on ./tip_log_ds_5_6.23-2_traj_sr_1_mem_2.csv...\n",
      "the longest living tip lasted 119 time steps, which was 0.833 ms.\n",
      "starting on ./tip_trajectories_ds_5_sigma_0.5_threshold_0.9_traj_sr_1_mem_2.csv...\n",
      "the longest living tip lasted 119 time steps, which was 0.833 ms.\n",
      "starting on ./tip_trajectories_ds_5_sigma_1.0_threshold_0.9_traj_sr_1_mem_2.csv...\n",
      "the longest living tip lasted 119 time steps, which was 0.833 ms.\n",
      "starting on ./tip_log_ds_5_sigma_0.5_threshold_0.9_traj_sr_1_mem_2.csv...\n",
      "the longest living tip lasted 119 time steps, which was 0.833 ms.\n",
      "starting on ./tip_log_ds_5_sigma_1.0_threshold_0.9_traj_sr_1_mem_2.csv...\n",
      "the longest living tip lasted 119 time steps, which was 0.833 ms.\n"
     ]
    }
   ],
   "source": [
    "#compute all _processed.csv tip logs in the Log folder\n",
    "for root, dirs, files in os.walk(\".\", topdown=False):\n",
    "    for name in dirs:\n",
    "        print(os.path.join(root, name))\n",
    "    for name in files:\n",
    "        os.chdir(traj_dir)\n",
    "        df_dir = os.path.join(root, name)\n",
    "        if df_dir.find(f'_traj_sr_{sr}_mem_{mem}.csv') !=-1:\n",
    "            print(f\"starting on {df_dir}...\")\n",
    "            df_traj = pd.read_csv(df_dir)\n",
    "\n",
    "            df = pd.read_csv(data_dir)\n",
    "\n",
    "            # compute lifetimes\n",
    "            g = df_traj.groupby('particle')['t']\n",
    "            mx = g.agg(np.max)\n",
    "            mn = g.agg(np.min)\n",
    "            gd_lifetimes = mx - mn\n",
    "            gd_lifetimes = gd['max']- gd['min']\n",
    "            \n",
    "            #plot results\n",
    "            ll=np.max(gd_lifetimes[gd_lifetimes>0.])\n",
    "            print(f\"the longest living tip lasted {int(np.around(ll/h))} time steps, which was {ll:.3f} ms.\")\n",
    "            fig_fn = save_fn.replace('.csv','.png').replace('tip_log','hist_lifetimes')\n",
    "            # out = np.log(gd_lifetimes)\n",
    "            plt.hist(gd_lifetimes[gd_lifetimes>0], bins=30, density=True, log=True)\n",
    "            plt.ylabel('frequency', fontsize=fontsize)\n",
    "            plt.xlabel('lifetime (ms)', fontsize=fontsize)\n",
    "            # plt.show()\n",
    "           \n",
    "            \n",
    "            #save results\n",
    "            os.chdir(save_dir)\n",
    "            save_fn = os.path.basename(df_dir).replace(f'_traj_sr_{sr}_mem_{mem}.csv', f'_sr_{sr}_mem_{mem}.csv').replace('tip_trajectories','histogram_lifetimes')\n",
    "            plt.savefig(fig_fn, dpi=dpi)\n",
    "            plt.close()"
   ]
  },
  {
   "cell_type": "code",
   "execution_count": null,
   "metadata": {
    "ExecuteTime": {
     "end_time": "2020-06-30T03:51:24.005048Z",
     "start_time": "2020-06-30T03:51:23.975142Z"
    }
   },
   "outputs": [],
   "source": []
  },
  {
   "cell_type": "code",
   "execution_count": null,
   "metadata": {},
   "outputs": [],
   "source": []
  }
 ],
 "metadata": {
  "kernelspec": {
   "display_name": "Python 3",
   "language": "python",
   "name": "python3"
  },
  "language_info": {
   "codemirror_mode": {
    "name": "ipython",
    "version": 3
   },
   "file_extension": ".py",
   "mimetype": "text/x-python",
   "name": "python",
   "nbconvert_exporter": "python",
   "pygments_lexer": "ipython3",
   "version": "3.7.7"
  },
  "varInspector": {
   "cols": {
    "lenName": 16,
    "lenType": 16,
    "lenVar": 40
   },
   "kernels_config": {
    "python": {
     "delete_cmd_postfix": "",
     "delete_cmd_prefix": "del ",
     "library": "var_list.py",
     "varRefreshCmd": "print(var_dic_list())"
    },
    "r": {
     "delete_cmd_postfix": ") ",
     "delete_cmd_prefix": "rm(",
     "library": "var_list.r",
     "varRefreshCmd": "cat(var_dic_list()) "
    }
   },
   "types_to_exclude": [
    "module",
    "function",
    "builtin_function_or_method",
    "instance",
    "_Feature"
   ],
   "window_display": false
  }
 },
 "nbformat": 4,
 "nbformat_minor": 2
}
