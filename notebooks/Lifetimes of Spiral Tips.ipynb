{
 "cells": [
  {
   "cell_type": "markdown",
   "metadata": {},
   "source": [
    "# Computing Lifetimes of Spiral Tips\n",
    "Tim Tyree<br>\n",
    "6.29.2020<br>"
   ]
  },
  {
   "cell_type": "code",
   "execution_count": 1,
   "metadata": {
    "ExecuteTime": {
     "end_time": "2020-08-05T16:15:21.707059Z",
     "start_time": "2020-08-05T16:15:18.719182Z"
    }
   },
   "outputs": [
    {
     "name": "stdout",
     "output_type": "stream",
     "text": [
      "100000\n",
      "Automatic calling is: Smart\n"
     ]
    }
   ],
   "source": [
    "#pylab\n",
    "%matplotlib inline\n",
    "import numpy as np, pandas as pd, matplotlib.pyplot as plt\n",
    "from pylab import imshow, show\n",
    "\n",
    "\n",
    "import numba, trackpy, sklearn\n",
    "# from numba import njit, jit, vectorize\n",
    "# from PIL import Image\n",
    "# import imageio\n",
    "# import cv2 as cv\n",
    "\n",
    "#automate the boring stuff\n",
    "from IPython import utils\n",
    "import time, os, sys, re\n",
    "beep = lambda x: os.system(\"echo -n '\\\\a';sleep 0.2;\" * x)\n",
    "if not 'nb_dir' in globals():\n",
    "    nb_dir = os.getcwd()\n",
    "\n",
    "#load the libraries\n",
    "from lib import *\n",
    "from lib.dist_func import *\n",
    "# from lib.operari import *\n",
    "# from lib.ProgressBar import *\n",
    "# from lib.minimal_model import *\n",
    "# from lib.TexturePlot import *\n",
    "# from lib.get_tips import *\n",
    "# from lib.minimal_model import *\n",
    "# from lib.intersection import *\n",
    "# from numba import jit, njit, vectorize, cuda, uint32, f8, uint8\n",
    "# from lib.contours_to_tips import *\n",
    "\n",
    "%autocall 1\n",
    "%load_ext autoreload\n",
    "%autoreload 2"
   ]
  },
  {
   "cell_type": "markdown",
   "metadata": {
    "heading_collapsed": true
   },
   "source": [
    "# post process log to get tip positions"
   ]
  },
  {
   "cell_type": "code",
   "execution_count": 278,
   "metadata": {
    "ExecuteTime": {
     "end_time": "2020-08-05T15:48:04.130886Z",
     "start_time": "2020-08-05T15:48:04.034262Z"
    },
    "hidden": true
   },
   "outputs": [],
   "source": [
    "# #search for input_fn \"tip_log_\"+ .. .._ +num+\".csv\"\n",
    "# input_fn = search_for_file(nb_dir+'/Data/ds_5_param_set_8')\n",
    "# print(input_fn)\n",
    "# #TODO: find a proper way to terminate the Tk application launched by search_for_file.  it doesn't terminate\n",
    "\n",
    "input_fn = '/Users/timothytyree/Documents/GitHub/care/notebooks/Data/ds_5_param_set_8/Log/tip_log_ds_5_sigma_0.5_threshold_0.9_005.csv'"
   ]
  },
  {
   "cell_type": "code",
   "execution_count": 280,
   "metadata": {
    "ExecuteTime": {
     "end_time": "2020-08-05T15:53:48.644169Z",
     "start_time": "2020-08-05T15:53:48.618469Z"
    },
    "hidden": true
   },
   "outputs": [
    {
     "name": "stdout",
     "output_type": "stream",
     "text": [
      "have you the right sigma and threshold?\n"
     ]
    },
    {
     "data": {
      "text/plain": [
       "'True it is that file exists,'"
      ]
     },
     "execution_count": 280,
     "metadata": {},
     "output_type": "execute_result"
    }
   ],
   "source": [
    "print(\"have you the right sigma and threshold?\")\n",
    "ds = 5; sigma = .5; threshold = 0.9\n",
    "\n",
    "# input_fn = 'Log/tip_log_ds_5_sigma_1.0_threshold_0.6_001.csv'\n",
    "os.chdir(nb_dir+'/Data/ds_5_param_set_8')\n",
    "str(os.path.exists(input_fn))+\" it is that file exists,\""
   ]
  },
  {
   "cell_type": "code",
   "execution_count": 283,
   "metadata": {
    "ExecuteTime": {
     "end_time": "2020-08-05T16:02:42.797275Z",
     "start_time": "2020-08-05T16:01:49.244149Z"
    },
    "hidden": true
   },
   "outputs": [
    {
     "name": "stdout",
     "output_type": "stream",
     "text": [
      "and the resulting \"_processed.csv\" was supplanted herein:\n",
      "\t/Users/timothytyree/Documents/GitHub/care/notebooks/Data/ds_5_param_set_8/Log/tip_log_ds_5_sigma_0.5_threshold_0.9_005_processed.csv\n"
     ]
    }
   ],
   "source": [
    "#save the tip positions expanded into rows\n",
    "df_output = process_tip_log_file(input_fn, include_EP=True)\n",
    "saveherein = input_fn.replace('.csv','_processed.csv')\n",
    "df_output.to_csv(saveherein, index=False)\n",
    "beep(1)\n",
    "print(f\"and the resulting \\\"_processed.csv\\\" was supplanted herein:\\n\\t{saveherein}\")"
   ]
  },
  {
   "cell_type": "code",
   "execution_count": null,
   "metadata": {
    "ExecuteTime": {
     "end_time": "2020-08-05T16:05:45.370354Z",
     "start_time": "2020-08-05T16:05:45.351025Z"
    },
    "hidden": true
   },
   "outputs": [],
   "source": []
  },
  {
   "cell_type": "code",
   "execution_count": 287,
   "metadata": {
    "ExecuteTime": {
     "end_time": "2020-08-05T16:06:33.553438Z",
     "start_time": "2020-08-05T16:06:32.021212Z"
    },
    "hidden": true
   },
   "outputs": [],
   "source": [
    "#BLUF load processed df with tips as rows\n",
    "df = pd.read_csv(input_fn)\n",
    "fn = input_fn.split('/')[-1]\n",
    "descrip = fn[:fn.find('_processed.csv')]\n",
    "threshold = eval(fn[fn.find('threshold_')+len('threshold_'):].split('_')[0])\n",
    "ds = eval(fn[fn.find('ds_')+len('ds_'):].split('_')[0])\n",
    "sigma = eval(fn[fn.find('sigma_')+len('sigma_'):].split('_')[0])"
   ]
  },
  {
   "cell_type": "markdown",
   "metadata": {},
   "source": [
    "# import tip positions"
   ]
  },
  {
   "cell_type": "code",
   "execution_count": 3,
   "metadata": {
    "ExecuteTime": {
     "end_time": "2020-08-05T16:15:37.895675Z",
     "start_time": "2020-08-05T16:15:37.871848Z"
    }
   },
   "outputs": [],
   "source": [
    "# high-res EP states also observed\n",
    "saveherein = '/Users/timothytyree/Documents/GitHub/care/notebooks/Data/ds_5_param_set_8/Log/tip_log_ds_5_sigma_0.5_threshold_0.9_005_processed.csv'\n",
    "os.chdir('/Users/timothytyree/Documents/GitHub/care/notebooks/Data/ds_5_param_set_8/trajectories')\n",
    "sigma = 0.5  #1.5#1.5#1.#1\n",
    "threshold = 0.9#0.6  #0.9#0.95"
   ]
  },
  {
   "cell_type": "code",
   "execution_count": 4,
   "metadata": {
    "ExecuteTime": {
     "end_time": "2020-08-05T16:15:41.259743Z",
     "start_time": "2020-08-05T16:15:40.578181Z"
    }
   },
   "outputs": [
    {
     "name": "stdout",
     "output_type": "stream",
     "text": [
      "loading .csv of size 0.181 KB from \n",
      "\t/Users/timothytyree/Documents/GitHub/care/notebooks/Data/ds_5_param_set_8/Log/tip_log_ds_5_sigma_0.5_threshold_0.9_005_processed.csv\n",
      "files will be saved in the folder: \n",
      "\t/Users/timothytyree/Documents/GitHub/care/notebooks/Data/ds_5_param_set_8/trajectories/\n"
     ]
    }
   ],
   "source": [
    "#if using ^that result of tip positions expanded into rows?\n",
    "data_dir = saveherein\n",
    "# sigma = 1.0  #1.5#1.5#1.#1\n",
    "# threshold = 0.6#0.6  #0.9#0.95\n",
    "V_threshold = 0.5\n",
    "# ext = ''#'001_'\n",
    "# search_for_file()\n",
    "# data_dir    = f'{nb_dir}/Data/ds_5_param_set_8/Log/tip_log_ds_5_sigma_{sigma}_threshold_{threshold}_{ext}processed.csv'\n",
    "\n",
    "# 'Log/tip_log_ds_5_sigma_1.0_threshold_0.6_001_processed.csv'\n",
    "# data_dir    = f'{nb_dir}/Data/ds_5_param_set_8/Log/tip_log_ds_5_sigma_{sigma}_threshold_{threshold}_processed.csv'\n",
    "print(f\"loading .csv of size {sys.getsizeof(data_dir)/10**3} KB from \\n\\t{data_dir}\")\n",
    "df = pd.read_csv(data_dir)\n",
    "\n",
    "save_folder = '/'+os.path.join(*data_dir.split('/')[:-2])+'/trajectories/'\n",
    "os.chdir(save_folder)\n",
    "print(f\"files will be saved in the folder: \\n\\t{save_folder}\")"
   ]
  },
  {
   "cell_type": "code",
   "execution_count": 5,
   "metadata": {
    "ExecuteTime": {
     "end_time": "2020-08-05T16:15:44.587393Z",
     "start_time": "2020-08-05T16:15:44.526776Z"
    }
   },
   "outputs": [
    {
     "name": "stdout",
     "output_type": "stream",
     "text": [
      "no odd spiral tips exist.\n"
     ]
    }
   ],
   "source": [
    "# test data has no odd spiral tips since the data has periodic boundary conditions\n",
    "assert not (np.array(list(set(df.n.values)))%2==1).any()\n",
    "print('no odd spiral tips exist.')"
   ]
  },
  {
   "cell_type": "markdown",
   "metadata": {
    "heading_collapsed": true
   },
   "source": [
    "#### DONE(ignore): get trackpy to use periodic boundary distances\n",
    "- failing ^that make trackpy use my distance function"
   ]
  },
  {
   "cell_type": "markdown",
   "metadata": {
    "hidden": true
   },
   "source": [
    "__Trackpy warns in its more seriptitious print statements that user defined distances are not tested__<br>\n",
    "Thus, I must test my own use case on a test with a known response."
   ]
  },
  {
   "cell_type": "markdown",
   "metadata": {
    "ExecuteTime": {
     "end_time": "2020-06-29T20:29:19.471037Z",
     "start_time": "2020-06-29T20:29:19.438394Z"
    },
    "hidden": true
   },
   "source": [
    "__How trackpy handles user defined distance functions__\n",
    "The only appearance of dist_func in trackpy's source code from github is in subnet.py.  In which, trackpy.subnet.HashBTree.rebuild passes dist_func to sklearn as follows <br>\n",
    "`sklearn.neighbors.BallTree(coords_mapped,metric='pyfunc', func=self.dist_func`\n",
    "\n",
    "`sklearn.neighbors.BallTree` has func as an additional kwarg, which is passed to the distance metric class, DistanceMetric.  In the docstring of that function, I find the specification for `DistanceMetric`.\n",
    "\n",
    "__Bottom Line Up Front (BLUF) the function must take two 1D numpy arrays and return a distance.  Everything will be slower because of the overhead of calling python functions__"
   ]
  },
  {
   "cell_type": "code",
   "execution_count": 87,
   "metadata": {
    "ExecuteTime": {
     "end_time": "2020-06-29T20:34:55.145931Z",
     "start_time": "2020-06-29T20:34:55.115895Z"
    },
    "hidden": true
   },
   "outputs": [],
   "source": [
    "# from sklearn.neighbors import BallTree, DistanceMetric"
   ]
  },
  {
   "cell_type": "code",
   "execution_count": 194,
   "metadata": {
    "ExecuteTime": {
     "end_time": "2020-06-29T21:20:31.653806Z",
     "start_time": "2020-06-29T21:20:31.625833Z"
    },
    "hidden": true
   },
   "outputs": [
    {
     "name": "stdout",
     "output_type": "stream",
     "text": [
      "**User-defined distance:**\n",
      "\n",
      "===========    ===============    =======\n",
      "identifier     class name         args\n",
      "-----------    ---------------    -------\n",
      "\"pyfunc\"       PyFuncDistance     func\n",
      "===========    ===============    =======\n",
      "\n",
      "Here ``func`` is a function which takes two one-dimensional numpy\n",
      "arrays, and returns a distance.  Note that in order to be used within\n",
      "the BallTree, the distance must be a true metric:\n",
      "i.e. it must satisfy the following properties\n",
      "\n",
      "1) Non-negativity: d(x, y) >= 0\n",
      "2) Identity: d(x, y) = 0 if and only if x == y\n",
      "3) Symmetry: d(x, y) = d(y, x)\n",
      "4) Triangle Inequality: d(x, y) + d(y, z) >= d(x, z)\n",
      "\n",
      "Because of the Python object overhead involved in calling the python\n",
      "function, this will be fairly slow, but it will have the same\n",
      "scaling as other distances.\n"
     ]
    }
   ],
   "source": [
    "print('''**User-defined distance:**\n",
    "\n",
    "===========    ===============    =======\n",
    "identifier     class name         args\n",
    "-----------    ---------------    -------\n",
    "\"pyfunc\"       PyFuncDistance     func\n",
    "===========    ===============    =======\n",
    "\n",
    "Here ``func`` is a function which takes two one-dimensional numpy\n",
    "arrays, and returns a distance.  Note that in order to be used within\n",
    "the BallTree, the distance must be a true metric:\n",
    "i.e. it must satisfy the following properties\n",
    "\n",
    "1) Non-negativity: d(x, y) >= 0\n",
    "2) Identity: d(x, y) = 0 if and only if x == y\n",
    "3) Symmetry: d(x, y) = d(y, x)\n",
    "4) Triangle Inequality: d(x, y) + d(y, z) >= d(x, z)\n",
    "\n",
    "Because of the Python object overhead involved in calling the python\n",
    "function, this will be fairly slow, but it will have the same\n",
    "scaling as other distances.''')"
   ]
  },
  {
   "cell_type": "code",
   "execution_count": 156,
   "metadata": {
    "ExecuteTime": {
     "end_time": "2020-06-29T21:02:19.054029Z",
     "start_time": "2020-06-29T21:02:19.019983Z"
    },
    "hidden": true
   },
   "outputs": [],
   "source": [
    "# this section was sent to lib.dist_func\n",
    "# def get_distance_L2_pbc(width=200,height=200):\n",
    "#     '''returns a function for the euclidean (L2) distance measure for a 2D rectangle with periodic boundary conditions.\n",
    "#     width, height are the shape of that 2D rectangle.'''\n",
    "#     @jit('f8(f8[:],f8[:])', nopython=True)\n",
    "#     def distance_L2_pbc(point_1, point_2):\n",
    "#         '''assumes getting shortest distance between two points with periodic boundary conditions in 2D.'''\n",
    "#         mesh_shape=np.array((width,height))\n",
    "#         dq2 = 0.\n",
    "#         #     for q1, q2, width in zip(point_1[:2], point_2[:2], mesh_shape):\n",
    "#         for q1, q2, wid in zip(point_1, point_2, mesh_shape):\n",
    "#             dq2 = dq2 + min(((q2 - q1)**2, (q2 + wid - q1 )**2, (q2 - wid - q1 )**2))\n",
    "#         return np.sqrt(dq2)\n",
    "#     return distance_L2_pbc\n",
    "\n",
    "# def test_get_distance_L2_pbc():\n",
    "#     import trackpy, pandas as pd\n",
    "\n",
    "#     #testing the pbc distance function\n",
    "#     distance_L2_pbc = get_distance_L2_pbc(width=200,height=200)\n",
    "#     assert(np.isclose(distance_L2_pbc(np.array([1.,1.]),np.array([1.,1.])),0.))\n",
    "#     assert(distance_L2_pbc(np.array([1.,1.]),np.array([199.,199.]))<3.)\n",
    "#     assert(distance_L2_pbc(np.array([1.,1.]),np.array([199.,199.]))<3.)\n",
    "#     assert(distance_L2_pbc(np.array([1.,1.]),np.array([1.,199.]))<3.)\n",
    "#     assert(distance_L2_pbc(np.array([1.,1.]),np.array([199.,1.]))<3.)\n",
    "\n",
    "#     #testing distance_L2_pbc in trackpy.link_df\n",
    "#     df_test = pd.DataFrame({'frame':[1,2,2],'x':[1,100,199],'y':[1,100,199]})\n",
    "\n",
    "#     # test that the default distance function maps 1,1 to 100,100 instead of 199,199\n",
    "#     traj_test = trackpy.link_df(df_test, search_range=210)\n",
    "#     assert((traj_test['particle'].values == np.array([0, 0, 1])).all())\n",
    "\n",
    "#     # test that the pbc distance function maps 1,1 to 199,199 instead of 100,100\n",
    "#     traj_test = trackpy.link_df(df_test, search_range=210, dist_func = distance_L2_pbc)\n",
    "#     assert((traj_test['particle'].values == np.array([0, 1, 0])).all())\n",
    "\n",
    "#     # test that the pbc distance function can see accross boundarys when search_range is small\n",
    "#     traj_test = trackpy.link_df(df_test, search_range=110, dist_func = distance_L2_pbc)\n",
    "#     assert((traj_test['particle'].values == np.array([0, 1, 0])).all())\n",
    "#     return True"
   ]
  },
  {
   "cell_type": "markdown",
   "metadata": {},
   "source": [
    "# track tips using periodic boundary conditions"
   ]
  },
  {
   "cell_type": "code",
   "execution_count": 6,
   "metadata": {
    "ExecuteTime": {
     "end_time": "2020-08-05T16:15:46.813604Z",
     "start_time": "2020-08-05T16:15:46.792467Z"
    }
   },
   "outputs": [
    {
     "data": {
      "text/plain": [
       "'/Users/timothytyree/Documents/GitHub/care/notebooks/Data/ds_5_param_set_8/Log/tip_log_ds_5_sigma_0.5_threshold_0.9_005_processed.csv'"
      ]
     },
     "execution_count": 6,
     "metadata": {},
     "output_type": "execute_result"
    }
   ],
   "source": [
    "# df_dir = '/Users/timothytyree/Documents/GitHub/care/notebooks/Data/ds_5_param_set_8/Log/tip_log_ds_5_sigma_1.5_threshold_0.9_processed.csv'\n",
    "# import sklearn\n",
    "df_dir = data_dir\n",
    "data_dir"
   ]
  },
  {
   "cell_type": "code",
   "execution_count": 7,
   "metadata": {
    "ExecuteTime": {
     "end_time": "2020-08-05T16:15:53.366254Z",
     "start_time": "2020-08-05T16:15:53.342483Z"
    }
   },
   "outputs": [],
   "source": [
    "# sklearn.setup_module(sklearn)"
   ]
  },
  {
   "cell_type": "code",
   "execution_count": 8,
   "metadata": {
    "ExecuteTime": {
     "end_time": "2020-08-05T16:19:48.142302Z",
     "start_time": "2020-08-05T16:15:54.356039Z"
    }
   },
   "outputs": [
    {
     "name": "stdout",
     "output_type": "stream",
     "text": [
      "Frame 79605: 2 trajectories present.\n"
     ]
    },
    {
     "data": {
      "text/plain": [
       "0"
      ]
     },
     "execution_count": 8,
     "metadata": {},
     "output_type": "execute_result"
    }
   ],
   "source": [
    "df = pd.read_csv(df_dir)\n",
    "h = 0.007\n",
    "mem = 2\n",
    "sr  = 1\n",
    "distance_L2_pbc = get_distance_L2_pbc(width=200,height=200)\n",
    "link_kwargs = {\n",
    "    'neighbor_strategy' : 'BTree',\n",
    "    'dist_func'         : distance_L2_pbc,\n",
    "    'memory': mem}\n",
    "df['frame'] = np.around(df['t']/h)\n",
    "df = df.astype(dtype={'frame':int}).copy()\n",
    "traj = trackpy.link_df(\n",
    "    f=df,search_range=sr,t_column='frame', **link_kwargs)\n",
    "\n",
    "beep(1)"
   ]
  },
  {
   "cell_type": "code",
   "execution_count": null,
   "metadata": {
    "ExecuteTime": {
     "end_time": "2020-08-05T16:31:28.902272Z",
     "start_time": "2020-08-05T16:31:28.876438Z"
    }
   },
   "outputs": [],
   "source": []
  },
  {
   "cell_type": "code",
   "execution_count": 11,
   "metadata": {
    "ExecuteTime": {
     "end_time": "2020-08-05T16:31:35.358532Z",
     "start_time": "2020-08-05T16:31:32.177515Z"
    }
   },
   "outputs": [
    {
     "name": "stdout",
     "output_type": "stream",
     "text": [
      "tip_log_ds_5_sigma_0.5_threshold_0.9_005_traj_sr_1_mem_2.csv\n"
     ]
    }
   ],
   "source": [
    "save_fn = os.path.basename(df_dir).replace('_processed.csv', f'_traj_sr_{sr}_mem_{mem}.csv')\n",
    "traj.to_csv(save_fn, index=False)\n",
    "print (save_fn)"
   ]
  },
  {
   "cell_type": "markdown",
   "metadata": {
    "ExecuteTime": {
     "end_time": "2020-06-29T18:47:28.266858Z",
     "start_time": "2020-06-29T18:47:20.204220Z"
    }
   },
   "source": [
    "Now compute life times"
   ]
  },
  {
   "cell_type": "markdown",
   "metadata": {
    "ExecuteTime": {
     "end_time": "2020-06-29T21:17:00.019154Z",
     "start_time": "2020-06-29T21:16:59.979283Z"
    },
    "heading_collapsed": true
   },
   "source": [
    "# compute life times"
   ]
  },
  {
   "cell_type": "markdown",
   "metadata": {
    "hidden": true
   },
   "source": [
    "particles still not being tracked right.  debug between two  time steps from the middle frames ah, search_range must be at least ~1e-2.  Using 1e-0 should work"
   ]
  },
  {
   "cell_type": "code",
   "execution_count": 24,
   "metadata": {
    "ExecuteTime": {
     "end_time": "2020-07-03T03:06:29.923233Z",
     "start_time": "2020-07-03T03:06:29.629355Z"
    },
    "hidden": true
   },
   "outputs": [
    {
     "name": "stdout",
     "output_type": "stream",
     "text": [
      "/Users/timothytyree/Documents/GitHub/care/notebooks/Data/ds_5_param_set_8/trajectories/tip_trajectories_ds_5_sigma_1.5_threshold_0.6_traj_sr_1_mem_2.csv\n"
     ]
    }
   ],
   "source": [
    "save_fn = nb_dir+'/Data/ds_5_param_set_8/trajectories/tip_trajectories_ds_5_sigma_1.5_threshold_0.6_traj_sr_1_mem_2.csv'\n",
    "h = 0.007\n",
    "# data_fn = 'tip_log_ds_5_sigma_1.0_threshold_0.6_traj_sr_1.csv'\n",
    "df_traj = pd.read_csv(save_fn)\n",
    "print(save_fn)\n",
    "descrip = 'forFig1'"
   ]
  },
  {
   "cell_type": "code",
   "execution_count": 14,
   "metadata": {
    "ExecuteTime": {
     "end_time": "2020-07-03T03:03:33.705947Z",
     "start_time": "2020-07-03T03:03:33.547511Z"
    },
    "hidden": true
   },
   "outputs": [
    {
     "data": {
      "text/html": [
       "<div>\n",
       "<style scoped>\n",
       "    .dataframe tbody tr th:only-of-type {\n",
       "        vertical-align: middle;\n",
       "    }\n",
       "\n",
       "    .dataframe tbody tr th {\n",
       "        vertical-align: top;\n",
       "    }\n",
       "\n",
       "    .dataframe thead th {\n",
       "        text-align: right;\n",
       "    }\n",
       "</style>\n",
       "<table border=\"1\" class=\"dataframe\">\n",
       "  <thead>\n",
       "    <tr style=\"text-align: right;\">\n",
       "      <th></th>\n",
       "      <th>n</th>\n",
       "      <th>t</th>\n",
       "      <th>x</th>\n",
       "      <th>y</th>\n",
       "      <th>frame</th>\n",
       "      <th>particle</th>\n",
       "    </tr>\n",
       "  </thead>\n",
       "  <tbody>\n",
       "    <tr>\n",
       "      <th>count</th>\n",
       "      <td>287196.000000</td>\n",
       "      <td>287196.000000</td>\n",
       "      <td>287196.000000</td>\n",
       "      <td>287196.000000</td>\n",
       "      <td>287196.000000</td>\n",
       "      <td>287196.000000</td>\n",
       "    </tr>\n",
       "    <tr>\n",
       "      <th>mean</th>\n",
       "      <td>4.923300</td>\n",
       "      <td>214.842319</td>\n",
       "      <td>100.782009</td>\n",
       "      <td>108.457516</td>\n",
       "      <td>30691.759809</td>\n",
       "      <td>82.600684</td>\n",
       "    </tr>\n",
       "    <tr>\n",
       "      <th>std</th>\n",
       "      <td>2.836655</td>\n",
       "      <td>165.415956</td>\n",
       "      <td>54.610485</td>\n",
       "      <td>62.607048</td>\n",
       "      <td>23630.850823</td>\n",
       "      <td>40.401825</td>\n",
       "    </tr>\n",
       "    <tr>\n",
       "      <th>min</th>\n",
       "      <td>2.000000</td>\n",
       "      <td>0.007000</td>\n",
       "      <td>0.000099</td>\n",
       "      <td>0.002007</td>\n",
       "      <td>1.000000</td>\n",
       "      <td>0.000000</td>\n",
       "    </tr>\n",
       "    <tr>\n",
       "      <th>25%</th>\n",
       "      <td>2.000000</td>\n",
       "      <td>69.314000</td>\n",
       "      <td>57.420195</td>\n",
       "      <td>39.267808</td>\n",
       "      <td>9902.000000</td>\n",
       "      <td>54.000000</td>\n",
       "    </tr>\n",
       "    <tr>\n",
       "      <th>50%</th>\n",
       "      <td>4.000000</td>\n",
       "      <td>160.828500</td>\n",
       "      <td>101.976808</td>\n",
       "      <td>126.378819</td>\n",
       "      <td>22975.500000</td>\n",
       "      <td>102.000000</td>\n",
       "    </tr>\n",
       "    <tr>\n",
       "      <th>75%</th>\n",
       "      <td>6.000000</td>\n",
       "      <td>361.039000</td>\n",
       "      <td>146.357056</td>\n",
       "      <td>156.502630</td>\n",
       "      <td>51577.000000</td>\n",
       "      <td>109.000000</td>\n",
       "    </tr>\n",
       "    <tr>\n",
       "      <th>max</th>\n",
       "      <td>20.000000</td>\n",
       "      <td>557.508000</td>\n",
       "      <td>199.999999</td>\n",
       "      <td>199.993345</td>\n",
       "      <td>79644.000000</td>\n",
       "      <td>211.000000</td>\n",
       "    </tr>\n",
       "  </tbody>\n",
       "</table>\n",
       "</div>"
      ],
      "text/plain": [
       "                   n              t              x              y  \\\n",
       "count  287196.000000  287196.000000  287196.000000  287196.000000   \n",
       "mean        4.923300     214.842319     100.782009     108.457516   \n",
       "std         2.836655     165.415956      54.610485      62.607048   \n",
       "min         2.000000       0.007000       0.000099       0.002007   \n",
       "25%         2.000000      69.314000      57.420195      39.267808   \n",
       "50%         4.000000     160.828500     101.976808     126.378819   \n",
       "75%         6.000000     361.039000     146.357056     156.502630   \n",
       "max        20.000000     557.508000     199.999999     199.993345   \n",
       "\n",
       "               frame       particle  \n",
       "count  287196.000000  287196.000000  \n",
       "mean    30691.759809      82.600684  \n",
       "std     23630.850823      40.401825  \n",
       "min         1.000000       0.000000  \n",
       "25%      9902.000000      54.000000  \n",
       "50%     22975.500000     102.000000  \n",
       "75%     51577.000000     109.000000  \n",
       "max     79644.000000     211.000000  "
      ]
     },
     "execution_count": 14,
     "metadata": {},
     "output_type": "execute_result"
    }
   ],
   "source": [
    "df_traj.describe()"
   ]
  },
  {
   "cell_type": "code",
   "execution_count": 15,
   "metadata": {
    "ExecuteTime": {
     "end_time": "2020-07-03T03:03:33.995354Z",
     "start_time": "2020-07-03T03:03:33.961666Z"
    },
    "hidden": true
   },
   "outputs": [],
   "source": [
    "#compute lifetimes\n",
    "g = df_traj.groupby('particle')['t']\n",
    "mx = g.agg(np.max)\n",
    "mn = g.agg(np.min)\n",
    "gd_lifetimes = mx - mn"
   ]
  },
  {
   "cell_type": "markdown",
   "metadata": {
    "heading_collapsed": true
   },
   "source": [
    "# plot lifetimes"
   ]
  },
  {
   "cell_type": "code",
   "execution_count": 16,
   "metadata": {
    "ExecuteTime": {
     "end_time": "2020-07-03T03:03:34.357000Z",
     "start_time": "2020-07-03T03:03:34.326215Z"
    },
    "hidden": true
   },
   "outputs": [],
   "source": [
    "# ll=np.max(gd_lifetimes[gd_lifetimes>0.])\n",
    "# print(f\"the longest living tip lasted {int(np.around(ll/h))} time steps, which was {ll:.3f} ms.\")"
   ]
  },
  {
   "cell_type": "markdown",
   "metadata": {
    "ExecuteTime": {
     "end_time": "2020-06-29T23:39:02.614597Z",
     "start_time": "2020-06-29T23:39:02.579449Z"
    },
    "hidden": true
   },
   "source": [
    " based on Wouter's results, we would expect a lifetime on the order of 10 ms from a birth/death rate of ~0.1/ms.  We have 557 ms of data, so we would expect on the order of 2*557*0.1=111 birth/death events.\n",
    " \n",
    " So, we expect at least one tip that lasts __10 ms__."
   ]
  },
  {
   "cell_type": "code",
   "execution_count": 17,
   "metadata": {
    "ExecuteTime": {
     "end_time": "2020-07-03T03:03:35.722189Z",
     "start_time": "2020-07-03T03:03:35.691692Z"
    },
    "code_folding": [],
    "hidden": true
   },
   "outputs": [],
   "source": [
    "# plt.hist?"
   ]
  },
  {
   "cell_type": "code",
   "execution_count": 18,
   "metadata": {
    "ExecuteTime": {
     "end_time": "2020-07-03T03:03:36.497211Z",
     "start_time": "2020-07-03T03:03:36.467462Z"
    },
    "hidden": true
   },
   "outputs": [],
   "source": [
    "# plt.hist(out[out>-100], bins=30, density=True)"
   ]
  },
  {
   "cell_type": "code",
   "execution_count": 28,
   "metadata": {
    "ExecuteTime": {
     "end_time": "2020-07-03T03:51:21.687327Z",
     "start_time": "2020-07-03T03:51:20.274521Z"
    },
    "hidden": true
   },
   "outputs": [
    {
     "name": "stdout",
     "output_type": "stream",
     "text": [
      "the longest living tip lasted 67315 time steps, which was 471.205 ms.\n",
      "/Users/timothytyree/Documents/GitHub/care/notebooks/Figures/zero_odd_births-deaths_forFig1.png\n"
     ]
    },
    {
     "data": {
      "image/png": "[encoded data removed]",
      "text/plain": [
       "<Figure size 576x360 with 1 Axes>"
      ]
     },
     "metadata": {
      "needs_background": "light"
     },
     "output_type": "display_data"
    }
   ],
   "source": [
    "ll=np.max(gd_lifetimes[gd_lifetimes>0.])\n",
    "print(f\"the longest living tip lasted {int(np.around(ll/h))} time steps, which was {ll:.3f} ms.\")\n",
    "fig_fn = save_fn.replace('.csv','.png').replace('tip_log','hist_lifetimes')\n",
    "# out = np.log(gd_lifetimes)\n",
    "\n",
    "fontsize= 25\n",
    "\n",
    "fig, ax = plt.subplots(figsize=(8,5))\n",
    "plt.hist(gd_lifetimes[gd_lifetimes>0], bins=30, density=True, log=True)\n",
    "plt.ylabel('frequency', fontsize=fontsize)\n",
    "plt.xlabel('lifetime (ms)', fontsize=fontsize)\n",
    "ax.tick_params(axis='both', labelsize= fontsize)\n",
    "plt.tight_layout()\n",
    "# plt.show()\n",
    "savefig_dir = f\"{nb_dir}/Figures/zero_odd_births-deaths_{descrip}.png\"\n",
    "fig.savefig(savefig_dir,dpi=400)\n",
    "print (savefig_dir)\n",
    "# plt.savefig(fig_fn, dpi=300)"
   ]
  },
  {
   "cell_type": "code",
   "execution_count": 128,
   "metadata": {
    "ExecuteTime": {
     "end_time": "2020-07-02T02:36:45.363983Z",
     "start_time": "2020-07-02T02:36:45.128234Z"
    },
    "hidden": true
   },
   "outputs": [
    {
     "data": {
      "text/plain": [
       "[<matplotlib.lines.Line2D at 0x138447190>]"
      ]
     },
     "execution_count": 128,
     "metadata": {},
     "output_type": "execute_result"
    },
    {
     "data": {
      "image/png": "[encoded data removed]",
      "text/plain": [
       "<Figure size 432x288 with 1 Axes>"
      ]
     },
     "metadata": {
      "needs_background": "light"
     },
     "output_type": "display_data"
    }
   ],
   "source": [
    "y_values = df_traj.n.values\n",
    "x_values = df_traj.t.values\n",
    "plt.plot(x_values,y_values)"
   ]
  },
  {
   "cell_type": "code",
   "execution_count": 129,
   "metadata": {
    "ExecuteTime": {
     "end_time": "2020-07-02T02:36:47.077316Z",
     "start_time": "2020-07-02T02:36:46.844213Z"
    },
    "hidden": true
   },
   "outputs": [
    {
     "data": {
      "text/plain": [
       "[<matplotlib.lines.Line2D at 0x138d8c1d0>]"
      ]
     },
     "execution_count": 129,
     "metadata": {},
     "output_type": "execute_result"
    },
    {
     "data": {
      "image/png": "[encoded data removed]",
      "text/plain": [
       "<Figure size 432x288 with 1 Axes>"
      ]
     },
     "metadata": {
      "needs_background": "light"
     },
     "output_type": "display_data"
    }
   ],
   "source": [
    "y_values = df_traj.n.values\n",
    "x_values = df_traj.t.values\n",
    "plt.plot(x_values,y_values)"
   ]
  },
  {
   "cell_type": "code",
   "execution_count": 127,
   "metadata": {
    "ExecuteTime": {
     "end_time": "2020-07-02T02:12:54.602723Z",
     "start_time": "2020-07-02T02:12:54.578223Z"
    },
    "code_folding": [],
    "hidden": true
   },
   "outputs": [],
   "source": [
    "# # (equivalently if pid's are not reused) take max and min time for each trajectory\n",
    "# def get_lifetime(trajectory_list):\n",
    "#     '''trajectory_list is a list of lists.  \n",
    "#     return np.mean( [ len(trajectory) for trajectory in trajectory_list ], axis=0 )'''\n",
    "#     return np.mean( [ len(trajectory) for trajectory in trajectory_list ], axis=0 )\n",
    "# #    TODO: for a given .csv of tip positions, make their trajectories naively in trackpy\n"
   ]
  },
  {
   "cell_type": "code",
   "execution_count": null,
   "metadata": {
    "hidden": true
   },
   "outputs": [],
   "source": []
  },
  {
   "cell_type": "markdown",
   "metadata": {
    "ExecuteTime": {
     "end_time": "2020-06-30T02:16:13.355352Z",
     "start_time": "2020-06-30T02:16:13.326693Z"
    },
    "heading_collapsed": true
   },
   "source": [
    "# DONE: walk through the log folder converting tip positions to tip trajectories"
   ]
  },
  {
   "cell_type": "code",
   "execution_count": 154,
   "metadata": {
    "ExecuteTime": {
     "end_time": "2020-07-02T03:53:52.484734Z",
     "start_time": "2020-07-02T03:53:52.451440Z"
    },
    "hidden": true
   },
   "outputs": [],
   "source": [
    "log_dir = f\"{nb_dir}/Data/ds_5_param_set_8/Log\"\n",
    "out_dir = f\"{nb_dir}/Data/ds_5_param_set_8/trajectories\"\n",
    "os.chdir(log_dir)\n",
    "input_fn = 'tip_log_ds_5_sigma_0.5_threshold_0.9_002_traj_sr_1_mem_2.csv'\n",
    "h = 0.007\n",
    "sr  = 1\n",
    "def get_df_and_kwargs(input_fn, width=200,height=200, mem = 2):\n",
    "    df = pd.read_csv(input_fn)\n",
    "    distance_L2_pbc = get_distance_L2_pbc(width=width,height=height)\n",
    "    df['frame'] = np.around(df['t']/h)\n",
    "    df = df.astype(dtype={'frame':int}).copy()\n",
    "    link_kwargs = {\n",
    "        'neighbor_strategy' : 'BTree',\n",
    "        'dist_func'         : distance_L2_pbc,\n",
    "        'memory': mem}\n",
    "    return df, link_kwargs"
   ]
  },
  {
   "cell_type": "code",
   "execution_count": null,
   "metadata": {
    "ExecuteTime": {
     "end_time": "2020-07-02T02:44:20.784141Z",
     "start_time": "2020-07-02T02:44:20.750614Z"
    },
    "hidden": true
   },
   "outputs": [],
   "source": []
  },
  {
   "cell_type": "code",
   "execution_count": 155,
   "metadata": {
    "ExecuteTime": {
     "end_time": "2020-07-02T03:53:57.244530Z",
     "start_time": "2020-07-02T03:53:53.072914Z"
    },
    "hidden": true
   },
   "outputs": [
    {
     "name": "stdout",
     "output_type": "stream",
     "text": [
      "Frame 863: 10 trajectories present.\n"
     ]
    },
    {
     "ename": "KeyboardInterrupt",
     "evalue": "",
     "output_type": "error",
     "traceback": [
      "\u001b[0;31m---------------------------------------------------------------------------\u001b[0m",
      "\u001b[0;31mKeyboardInterrupt\u001b[0m                         Traceback (most recent call last)",
      "\u001b[0;32m<ipython-input-155-fddf6c9d4b6b>\u001b[0m in \u001b[0;36m<module>\u001b[0;34m\u001b[0m\n\u001b[1;32m     15\u001b[0m \u001b[0;34m\u001b[0m\u001b[0m\n\u001b[1;32m     16\u001b[0m             \u001b[0;31m# compute trajectories (slowest part)\u001b[0m\u001b[0;34m\u001b[0m\u001b[0;34m\u001b[0m\u001b[0;34m\u001b[0m\u001b[0m\n\u001b[0;32m---> 17\u001b[0;31m             \u001b[0mtraj\u001b[0m \u001b[0;34m=\u001b[0m \u001b[0mtrackpy\u001b[0m\u001b[0;34m.\u001b[0m\u001b[0mlink_df\u001b[0m\u001b[0;34m(\u001b[0m\u001b[0mf\u001b[0m\u001b[0;34m=\u001b[0m\u001b[0mdf\u001b[0m\u001b[0;34m,\u001b[0m\u001b[0msearch_range\u001b[0m\u001b[0;34m=\u001b[0m\u001b[0msr\u001b[0m\u001b[0;34m,\u001b[0m\u001b[0mt_column\u001b[0m\u001b[0;34m=\u001b[0m\u001b[0;34m'frame'\u001b[0m\u001b[0;34m,\u001b[0m \u001b[0;34m**\u001b[0m\u001b[0mlink_kwargs\u001b[0m\u001b[0;34m)\u001b[0m\u001b[0;34m\u001b[0m\u001b[0;34m\u001b[0m\u001b[0m\n\u001b[0m\u001b[1;32m     18\u001b[0m \u001b[0;34m\u001b[0m\u001b[0m\n\u001b[1;32m     19\u001b[0m             \u001b[0;31m#save results\u001b[0m\u001b[0;34m\u001b[0m\u001b[0;34m\u001b[0m\u001b[0;34m\u001b[0m\u001b[0m\n",
      "\u001b[0;32m/usr/local/lib/python3.7/site-packages/trackpy/linking/linking.py\u001b[0m in \u001b[0;36mlink\u001b[0;34m(f, search_range, pos_columns, t_column, **kwargs)\u001b[0m\n\u001b[1;32m    171\u001b[0m     \u001b[0mcoords_iter\u001b[0m \u001b[0;34m=\u001b[0m \u001b[0mcoords_from_df\u001b[0m\u001b[0;34m(\u001b[0m\u001b[0mf\u001b[0m\u001b[0;34m,\u001b[0m \u001b[0mpos_columns\u001b[0m\u001b[0;34m,\u001b[0m \u001b[0mt_column\u001b[0m\u001b[0;34m)\u001b[0m\u001b[0;34m\u001b[0m\u001b[0;34m\u001b[0m\u001b[0m\n\u001b[1;32m    172\u001b[0m     \u001b[0mids\u001b[0m \u001b[0;34m=\u001b[0m \u001b[0;34m[\u001b[0m\u001b[0;34m]\u001b[0m\u001b[0;34m\u001b[0m\u001b[0;34m\u001b[0m\u001b[0m\n\u001b[0;32m--> 173\u001b[0;31m     \u001b[0;32mfor\u001b[0m \u001b[0mi\u001b[0m\u001b[0;34m,\u001b[0m \u001b[0m_ids\u001b[0m \u001b[0;32min\u001b[0m \u001b[0mlink_iter\u001b[0m\u001b[0;34m(\u001b[0m\u001b[0mcoords_iter\u001b[0m\u001b[0;34m,\u001b[0m \u001b[0msearch_range\u001b[0m\u001b[0;34m,\u001b[0m \u001b[0;34m**\u001b[0m\u001b[0mkwargs\u001b[0m\u001b[0;34m)\u001b[0m\u001b[0;34m:\u001b[0m\u001b[0;34m\u001b[0m\u001b[0;34m\u001b[0m\u001b[0m\n\u001b[0m\u001b[1;32m    174\u001b[0m         \u001b[0mids\u001b[0m\u001b[0;34m.\u001b[0m\u001b[0mextend\u001b[0m\u001b[0;34m(\u001b[0m\u001b[0m_ids\u001b[0m\u001b[0;34m)\u001b[0m\u001b[0;34m\u001b[0m\u001b[0;34m\u001b[0m\u001b[0m\n\u001b[1;32m    175\u001b[0m \u001b[0;34m\u001b[0m\u001b[0m\n",
      "\u001b[0;32m/usr/local/lib/python3.7/site-packages/trackpy/linking/linking.py\u001b[0m in \u001b[0;36mlink_iter\u001b[0;34m(coords_iter, search_range, **kwargs)\u001b[0m\n\u001b[1;32m     92\u001b[0m     \u001b[0;32myield\u001b[0m \u001b[0mt\u001b[0m\u001b[0;34m,\u001b[0m \u001b[0mlinker\u001b[0m\u001b[0;34m.\u001b[0m\u001b[0mparticle_ids\u001b[0m\u001b[0;34m\u001b[0m\u001b[0;34m\u001b[0m\u001b[0m\n\u001b[1;32m     93\u001b[0m \u001b[0;34m\u001b[0m\u001b[0m\n\u001b[0;32m---> 94\u001b[0;31m     \u001b[0;32mfor\u001b[0m \u001b[0mt\u001b[0m\u001b[0;34m,\u001b[0m \u001b[0mcoords\u001b[0m \u001b[0;32min\u001b[0m \u001b[0mcoords_iter\u001b[0m\u001b[0;34m:\u001b[0m\u001b[0;34m\u001b[0m\u001b[0;34m\u001b[0m\u001b[0m\n\u001b[0m\u001b[1;32m     95\u001b[0m         \u001b[0mlinker\u001b[0m\u001b[0;34m.\u001b[0m\u001b[0mnext_level\u001b[0m\u001b[0;34m(\u001b[0m\u001b[0mcoords\u001b[0m\u001b[0;34m,\u001b[0m \u001b[0mt\u001b[0m\u001b[0;34m)\u001b[0m\u001b[0;34m\u001b[0m\u001b[0;34m\u001b[0m\u001b[0m\n\u001b[1;32m     96\u001b[0m         \u001b[0mlogger\u001b[0m\u001b[0;34m.\u001b[0m\u001b[0minfo\u001b[0m\u001b[0;34m(\u001b[0m\u001b[0;34m\"Frame {0}: {1} trajectories present.\"\u001b[0m\u001b[0;34m.\u001b[0m\u001b[0mformat\u001b[0m\u001b[0;34m(\u001b[0m\u001b[0mt\u001b[0m\u001b[0;34m,\u001b[0m \u001b[0mlen\u001b[0m\u001b[0;34m(\u001b[0m\u001b[0mlinker\u001b[0m\u001b[0;34m.\u001b[0m\u001b[0mparticle_ids\u001b[0m\u001b[0;34m)\u001b[0m\u001b[0;34m)\u001b[0m\u001b[0;34m)\u001b[0m\u001b[0;34m\u001b[0m\u001b[0;34m\u001b[0m\u001b[0m\n",
      "\u001b[0;32m/usr/local/lib/python3.7/site-packages/trackpy/linking/utils.py\u001b[0m in \u001b[0;36mcoords_from_df\u001b[0;34m(df, pos_columns, t_column)\u001b[0m\n\u001b[1;32m     54\u001b[0m             \u001b[0mcur_frame\u001b[0m \u001b[0;34m+=\u001b[0m \u001b[0;36m1\u001b[0m\u001b[0;34m\u001b[0m\u001b[0;34m\u001b[0m\u001b[0m\n\u001b[1;32m     55\u001b[0m \u001b[0;34m\u001b[0m\u001b[0m\n\u001b[0;32m---> 56\u001b[0;31m         \u001b[0;32myield\u001b[0m \u001b[0mcur_frame\u001b[0m\u001b[0;34m,\u001b[0m \u001b[0mframe\u001b[0m\u001b[0;34m[\u001b[0m\u001b[0mpos_columns\u001b[0m\u001b[0;34m]\u001b[0m\u001b[0;34m.\u001b[0m\u001b[0mvalues\u001b[0m\u001b[0;34m\u001b[0m\u001b[0;34m\u001b[0m\u001b[0m\n\u001b[0m\u001b[1;32m     57\u001b[0m         \u001b[0mcur_frame\u001b[0m \u001b[0;34m+=\u001b[0m \u001b[0;36m1\u001b[0m\u001b[0;34m\u001b[0m\u001b[0;34m\u001b[0m\u001b[0m\n\u001b[1;32m     58\u001b[0m \u001b[0;34m\u001b[0m\u001b[0m\n",
      "\u001b[0;32m/usr/local/lib/python3.7/site-packages/pandas/core/frame.py\u001b[0m in \u001b[0;36m__getitem__\u001b[0;34m(self, key)\u001b[0m\n\u001b[1;32m   2932\u001b[0m                 \u001b[0mkey\u001b[0m \u001b[0;34m=\u001b[0m \u001b[0mlist\u001b[0m\u001b[0;34m(\u001b[0m\u001b[0mkey\u001b[0m\u001b[0;34m)\u001b[0m\u001b[0;34m\u001b[0m\u001b[0;34m\u001b[0m\u001b[0m\n\u001b[1;32m   2933\u001b[0m             indexer = self.loc._convert_to_indexer(key, axis=1,\n\u001b[0;32m-> 2934\u001b[0;31m                                                    raise_missing=True)\n\u001b[0m\u001b[1;32m   2935\u001b[0m \u001b[0;34m\u001b[0m\u001b[0m\n\u001b[1;32m   2936\u001b[0m         \u001b[0;31m# take() does not accept boolean indexers\u001b[0m\u001b[0;34m\u001b[0m\u001b[0;34m\u001b[0m\u001b[0;34m\u001b[0m\u001b[0m\n",
      "\u001b[0;32m/usr/local/lib/python3.7/site-packages/pandas/core/indexing.py\u001b[0m in \u001b[0;36m_convert_to_indexer\u001b[0;34m(self, obj, axis, is_setter, raise_missing)\u001b[0m\n\u001b[1;32m   1352\u001b[0m                 kwargs = {'raise_missing': True if is_setter else\n\u001b[1;32m   1353\u001b[0m                           raise_missing}\n\u001b[0;32m-> 1354\u001b[0;31m                 \u001b[0;32mreturn\u001b[0m \u001b[0mself\u001b[0m\u001b[0;34m.\u001b[0m\u001b[0m_get_listlike_indexer\u001b[0m\u001b[0;34m(\u001b[0m\u001b[0mobj\u001b[0m\u001b[0;34m,\u001b[0m \u001b[0maxis\u001b[0m\u001b[0;34m,\u001b[0m \u001b[0;34m**\u001b[0m\u001b[0mkwargs\u001b[0m\u001b[0;34m)\u001b[0m\u001b[0;34m[\u001b[0m\u001b[0;36m1\u001b[0m\u001b[0;34m]\u001b[0m\u001b[0;34m\u001b[0m\u001b[0;34m\u001b[0m\u001b[0m\n\u001b[0m\u001b[1;32m   1355\u001b[0m         \u001b[0;32melse\u001b[0m\u001b[0;34m:\u001b[0m\u001b[0;34m\u001b[0m\u001b[0;34m\u001b[0m\u001b[0m\n\u001b[1;32m   1356\u001b[0m             \u001b[0;32mtry\u001b[0m\u001b[0;34m:\u001b[0m\u001b[0;34m\u001b[0m\u001b[0;34m\u001b[0m\u001b[0m\n",
      "\u001b[0;32m/usr/local/lib/python3.7/site-packages/pandas/core/indexing.py\u001b[0m in \u001b[0;36m_get_listlike_indexer\u001b[0;34m(self, key, axis, raise_missing)\u001b[0m\n\u001b[1;32m   1152\u001b[0m             \u001b[0;32mif\u001b[0m \u001b[0mlen\u001b[0m\u001b[0;34m(\u001b[0m\u001b[0max\u001b[0m\u001b[0;34m)\u001b[0m \u001b[0;32mor\u001b[0m \u001b[0;32mnot\u001b[0m \u001b[0mlen\u001b[0m\u001b[0;34m(\u001b[0m\u001b[0mkey\u001b[0m\u001b[0;34m)\u001b[0m\u001b[0;34m:\u001b[0m\u001b[0;34m\u001b[0m\u001b[0;34m\u001b[0m\u001b[0m\n\u001b[1;32m   1153\u001b[0m                 \u001b[0mkey\u001b[0m \u001b[0;34m=\u001b[0m \u001b[0mself\u001b[0m\u001b[0;34m.\u001b[0m\u001b[0m_convert_for_reindex\u001b[0m\u001b[0;34m(\u001b[0m\u001b[0mkey\u001b[0m\u001b[0;34m,\u001b[0m \u001b[0maxis\u001b[0m\u001b[0;34m)\u001b[0m\u001b[0;34m\u001b[0m\u001b[0;34m\u001b[0m\u001b[0m\n\u001b[0;32m-> 1154\u001b[0;31m             \u001b[0mindexer\u001b[0m \u001b[0;34m=\u001b[0m \u001b[0max\u001b[0m\u001b[0;34m.\u001b[0m\u001b[0mget_indexer_for\u001b[0m\u001b[0;34m(\u001b[0m\u001b[0mkey\u001b[0m\u001b[0;34m)\u001b[0m\u001b[0;34m\u001b[0m\u001b[0;34m\u001b[0m\u001b[0m\n\u001b[0m\u001b[1;32m   1155\u001b[0m             \u001b[0mkeyarr\u001b[0m \u001b[0;34m=\u001b[0m \u001b[0max\u001b[0m\u001b[0;34m.\u001b[0m\u001b[0mreindex\u001b[0m\u001b[0;34m(\u001b[0m\u001b[0mkeyarr\u001b[0m\u001b[0;34m)\u001b[0m\u001b[0;34m[\u001b[0m\u001b[0;36m0\u001b[0m\u001b[0;34m]\u001b[0m\u001b[0;34m\u001b[0m\u001b[0;34m\u001b[0m\u001b[0m\n\u001b[1;32m   1156\u001b[0m         \u001b[0;32melse\u001b[0m\u001b[0;34m:\u001b[0m\u001b[0;34m\u001b[0m\u001b[0;34m\u001b[0m\u001b[0m\n",
      "\u001b[0;32m/usr/local/lib/python3.7/site-packages/pandas/core/indexes/base.py\u001b[0m in \u001b[0;36mget_indexer_for\u001b[0;34m(self, target, **kwargs)\u001b[0m\n\u001b[1;32m   4453\u001b[0m         \"\"\"\n\u001b[1;32m   4454\u001b[0m         \u001b[0;32mif\u001b[0m \u001b[0mself\u001b[0m\u001b[0;34m.\u001b[0m\u001b[0mis_unique\u001b[0m\u001b[0;34m:\u001b[0m\u001b[0;34m\u001b[0m\u001b[0;34m\u001b[0m\u001b[0m\n\u001b[0;32m-> 4455\u001b[0;31m             \u001b[0;32mreturn\u001b[0m \u001b[0mself\u001b[0m\u001b[0;34m.\u001b[0m\u001b[0mget_indexer\u001b[0m\u001b[0;34m(\u001b[0m\u001b[0mtarget\u001b[0m\u001b[0;34m,\u001b[0m \u001b[0;34m**\u001b[0m\u001b[0mkwargs\u001b[0m\u001b[0;34m)\u001b[0m\u001b[0;34m\u001b[0m\u001b[0;34m\u001b[0m\u001b[0m\n\u001b[0m\u001b[1;32m   4456\u001b[0m         \u001b[0mindexer\u001b[0m\u001b[0;34m,\u001b[0m \u001b[0m_\u001b[0m \u001b[0;34m=\u001b[0m \u001b[0mself\u001b[0m\u001b[0;34m.\u001b[0m\u001b[0mget_indexer_non_unique\u001b[0m\u001b[0;34m(\u001b[0m\u001b[0mtarget\u001b[0m\u001b[0;34m,\u001b[0m \u001b[0;34m**\u001b[0m\u001b[0mkwargs\u001b[0m\u001b[0;34m)\u001b[0m\u001b[0;34m\u001b[0m\u001b[0;34m\u001b[0m\u001b[0m\n\u001b[1;32m   4457\u001b[0m         \u001b[0;32mreturn\u001b[0m \u001b[0mindexer\u001b[0m\u001b[0;34m\u001b[0m\u001b[0;34m\u001b[0m\u001b[0m\n",
      "\u001b[0;32m/usr/local/lib/python3.7/site-packages/pandas/core/indexes/base.py\u001b[0m in \u001b[0;36mget_indexer\u001b[0;34m(self, target, method, limit, tolerance)\u001b[0m\n\u001b[1;32m   2715\u001b[0m     \u001b[0;34m@\u001b[0m\u001b[0mAppender\u001b[0m\u001b[0;34m(\u001b[0m\u001b[0m_index_shared_docs\u001b[0m\u001b[0;34m[\u001b[0m\u001b[0;34m'get_indexer'\u001b[0m\u001b[0;34m]\u001b[0m \u001b[0;34m%\u001b[0m \u001b[0m_index_doc_kwargs\u001b[0m\u001b[0;34m)\u001b[0m\u001b[0;34m\u001b[0m\u001b[0;34m\u001b[0m\u001b[0m\n\u001b[1;32m   2716\u001b[0m     \u001b[0;32mdef\u001b[0m \u001b[0mget_indexer\u001b[0m\u001b[0;34m(\u001b[0m\u001b[0mself\u001b[0m\u001b[0;34m,\u001b[0m \u001b[0mtarget\u001b[0m\u001b[0;34m,\u001b[0m \u001b[0mmethod\u001b[0m\u001b[0;34m=\u001b[0m\u001b[0;32mNone\u001b[0m\u001b[0;34m,\u001b[0m \u001b[0mlimit\u001b[0m\u001b[0;34m=\u001b[0m\u001b[0;32mNone\u001b[0m\u001b[0;34m,\u001b[0m \u001b[0mtolerance\u001b[0m\u001b[0;34m=\u001b[0m\u001b[0;32mNone\u001b[0m\u001b[0;34m)\u001b[0m\u001b[0;34m:\u001b[0m\u001b[0;34m\u001b[0m\u001b[0;34m\u001b[0m\u001b[0m\n\u001b[0;32m-> 2717\u001b[0;31m         \u001b[0mmethod\u001b[0m \u001b[0;34m=\u001b[0m \u001b[0mmissing\u001b[0m\u001b[0;34m.\u001b[0m\u001b[0mclean_reindex_fill_method\u001b[0m\u001b[0;34m(\u001b[0m\u001b[0mmethod\u001b[0m\u001b[0;34m)\u001b[0m\u001b[0;34m\u001b[0m\u001b[0;34m\u001b[0m\u001b[0m\n\u001b[0m\u001b[1;32m   2718\u001b[0m         \u001b[0mtarget\u001b[0m \u001b[0;34m=\u001b[0m \u001b[0mensure_index\u001b[0m\u001b[0;34m(\u001b[0m\u001b[0mtarget\u001b[0m\u001b[0;34m)\u001b[0m\u001b[0;34m\u001b[0m\u001b[0;34m\u001b[0m\u001b[0m\n\u001b[1;32m   2719\u001b[0m         \u001b[0;32mif\u001b[0m \u001b[0mtolerance\u001b[0m \u001b[0;32mis\u001b[0m \u001b[0;32mnot\u001b[0m \u001b[0;32mNone\u001b[0m\u001b[0;34m:\u001b[0m\u001b[0;34m\u001b[0m\u001b[0;34m\u001b[0m\u001b[0m\n",
      "\u001b[0;32m/usr/local/lib/python3.7/site-packages/pandas/core/missing.py\u001b[0m in \u001b[0;36mclean_reindex_fill_method\u001b[0;34m(method)\u001b[0m\n\u001b[1;32m    528\u001b[0m \u001b[0;34m\u001b[0m\u001b[0m\n\u001b[1;32m    529\u001b[0m \u001b[0;34m\u001b[0m\u001b[0m\n\u001b[0;32m--> 530\u001b[0;31m \u001b[0;32mdef\u001b[0m \u001b[0mclean_reindex_fill_method\u001b[0m\u001b[0;34m(\u001b[0m\u001b[0mmethod\u001b[0m\u001b[0;34m)\u001b[0m\u001b[0;34m:\u001b[0m\u001b[0;34m\u001b[0m\u001b[0;34m\u001b[0m\u001b[0m\n\u001b[0m\u001b[1;32m    531\u001b[0m     \u001b[0;32mreturn\u001b[0m \u001b[0mclean_fill_method\u001b[0m\u001b[0;34m(\u001b[0m\u001b[0mmethod\u001b[0m\u001b[0;34m,\u001b[0m \u001b[0mallow_nearest\u001b[0m\u001b[0;34m=\u001b[0m\u001b[0;32mTrue\u001b[0m\u001b[0;34m)\u001b[0m\u001b[0;34m\u001b[0m\u001b[0;34m\u001b[0m\u001b[0m\n\u001b[1;32m    532\u001b[0m \u001b[0;34m\u001b[0m\u001b[0m\n",
      "\u001b[0;31mKeyboardInterrupt\u001b[0m: "
     ]
    }
   ],
   "source": [
    "#compute all _processed.csv tip logs in the Log folder\n",
    "os.chdir(log_dir)\n",
    "for root, dirs, files in os.walk(\".\", topdown=False):\n",
    "    for name in dirs:\n",
    "        print(os.path.join(root, name))\n",
    "    for name in files:\n",
    "        os.chdir(log_dir)\n",
    "        df_dir = os.path.join(root, name)\n",
    "        if df_dir.find('_processed.csv') !=-1:\n",
    "            print(f\"starting on {df_dir}...\")\n",
    "            df, link_kwargs = get_df_and_kwargs(input_fn=df_dir, width=200,height=200, mem = 2)\n",
    "            # test whether data has no odd spiral tips since the data has periodic boundary conditions\n",
    "            if (np.array(list(set(df.n.values)))%2==1).any():\n",
    "                print(f'WARNING: an odd spiral tips exists in \\n\\t{fn}')\n",
    "            \n",
    "            # compute trajectories (slowest part)\n",
    "            traj = trackpy.link_df(f=df,search_range=sr,t_column='frame', **link_kwargs)\n",
    "            \n",
    "            #save results\n",
    "            os.chdir(out_dir)\n",
    "            save_fn = os.path.basename(df_dir).replace('_processed.csv', f'_traj_sr_{sr}_mem_{mem}.csv').replace('tip_log','tip_trajectories')\n",
    "            traj.to_csv(save_fn, index=False)"
   ]
  },
  {
   "cell_type": "code",
   "execution_count": 148,
   "metadata": {
    "ExecuteTime": {
     "end_time": "2020-07-02T03:51:58.735936Z",
     "start_time": "2020-07-02T03:51:57.247686Z"
    },
    "hidden": true
   },
   "outputs": [
    {
     "data": {
      "text/plain": [
       "0"
      ]
     },
     "execution_count": 148,
     "metadata": {},
     "output_type": "execute_result"
    }
   ],
   "source": [
    "beep(7)"
   ]
  },
  {
   "cell_type": "markdown",
   "metadata": {
    "heading_collapsed": true
   },
   "source": [
    "# make a histogram for each output "
   ]
  },
  {
   "cell_type": "code",
   "execution_count": 6,
   "metadata": {
    "ExecuteTime": {
     "end_time": "2020-07-02T03:55:43.613491Z",
     "start_time": "2020-07-02T03:55:43.581005Z"
    },
    "hidden": true
   },
   "outputs": [],
   "source": [
    "sr  = 1\n",
    "mem = 2\n",
    "dpi = 300\n",
    "h = 0.007\n",
    "traj_dir = f\"{nb_dir}/Data/ds_5_param_set_8/trajectories\"\n",
    "save_dir = f\"{nb_dir}/Figures\"\n",
    "os.chdir(traj_dir)\n",
    "fontsize=15"
   ]
  },
  {
   "cell_type": "code",
   "execution_count": 11,
   "metadata": {
    "ExecuteTime": {
     "end_time": "2020-07-02T03:58:06.908058Z",
     "start_time": "2020-07-02T03:57:51.597345Z"
    },
    "hidden": true,
    "scrolled": false
   },
   "outputs": [
    {
     "name": "stdout",
     "output_type": "stream",
     "text": [
      "starting on ./tip_log_ds_5_sigma_1.5_threshold_0.6_traj_sr_1_mem_2.csv...\n",
      "the longest living tip lasted 137 time steps, which was 0.959 ms.\n",
      "starting on ./tip_trajectories_ds_5_6.23-2_traj_sr_1_mem_2.csv...\n",
      "the longest living tip lasted 56127 time steps, which was 392.889 ms.\n",
      "starting on ./tip_trajectories_ds_5_sigma_1.5_threshold_0.6_traj_sr_1_mem_2.csv...\n",
      "the longest living tip lasted 67315 time steps, which was 471.205 ms.\n",
      "starting on ./tip_trajectories_ds_5_sigma_1.0_threshold_0.6_001_traj_sr_1_mem_2.csv...\n",
      "the longest living tip lasted 56127 time steps, which was 392.889 ms.\n",
      "starting on ./tip_trajectories_ds_5_sigma_0.5_threshold_0.9_002_traj_sr_1_mem_2.csv...\n",
      "the longest living tip lasted 28675 time steps, which was 200.725 ms.\n",
      "starting on ./tip_trajectories_ds_5_sigma_1.5_threshold_0.9_traj_sr_1_mem_2.csv...\n",
      "the longest living tip lasted 67211 time steps, which was 470.477 ms.\n",
      "starting on ./tip_log_ds_5_sigma_1.5_threshold_0.9_traj_sr_1_mem_2.csv...\n",
      "the longest living tip lasted 137 time steps, which was 0.959 ms.\n",
      "starting on ./tip_log_ds_5_sigma_0.5_threshold_0.9_002_traj_sr_1_mem_2.csv...\n",
      "the longest living tip lasted 28675 time steps, which was 200.725 ms.\n",
      "starting on ./tip_log_ds_5_sigma_1.0_threshold_0.6_001_traj_sr_1_mem_2.csv...\n",
      "the longest living tip lasted 119 time steps, which was 0.833 ms.\n",
      "starting on ./tip_log_ds_5_sigma_1.0_threshold_0.6_traj_sr_1_mem_2.csv...\n",
      "the longest living tip lasted 137 time steps, which was 0.959 ms.\n",
      "starting on ./tip_log_ds_5_sigma_0.5_threshold_0.6_traj_sr_1_mem_2.csv...\n",
      "the longest living tip lasted 137 time steps, which was 0.959 ms.\n",
      "starting on ./tip_trajectories_ds_5_sigma_1.0_threshold_0.6_traj_sr_1_mem_2.csv...\n",
      "the longest living tip lasted 56127 time steps, which was 392.889 ms.\n",
      "starting on ./tip_trajectories_ds_5_sigma_0.5_threshold_0.6_traj_sr_1_mem_2.csv...\n",
      "the longest living tip lasted 27871 time steps, which was 195.097 ms.\n",
      "starting on ./tip_log_ds_5_6.23-2_traj_sr_1_mem_2.csv...\n",
      "the longest living tip lasted 137 time steps, which was 0.959 ms.\n",
      "starting on ./tip_trajectories_ds_5_sigma_0.5_threshold_0.9_traj_sr_1_mem_2.csv...\n",
      "the longest living tip lasted 28675 time steps, which was 200.725 ms.\n",
      "starting on ./tip_trajectories_ds_5_sigma_1.0_threshold_0.9_traj_sr_1_mem_2.csv...\n",
      "the longest living tip lasted 65566 time steps, which was 458.962 ms.\n",
      "starting on ./tip_log_ds_5_sigma_0.5_threshold_0.9_traj_sr_1_mem_2.csv...\n",
      "the longest living tip lasted 137 time steps, which was 0.959 ms.\n",
      "starting on ./tip_log_ds_5_sigma_1.0_threshold_0.9_traj_sr_1_mem_2.csv...\n",
      "the longest living tip lasted 137 time steps, which was 0.959 ms.\n"
     ]
    }
   ],
   "source": [
    "#compute all _processed.csv tip logs in the Log folder\n",
    "for root, dirs, files in os.walk(\".\", topdown=False):\n",
    "    for name in dirs:\n",
    "        print(os.path.join(root, name))\n",
    "    for name in files:\n",
    "        os.chdir(traj_dir)\n",
    "        df_dir = os.path.join(root, name)\n",
    "        if df_dir.find(f'_traj_sr_{sr}_mem_{mem}.csv') !=-1:\n",
    "            print(f\"starting on {df_dir}...\")\n",
    "            df_traj = pd.read_csv(df_dir)\n",
    "\n",
    "#             df = pd.read_csv(data_dir)\n",
    "\n",
    "            # compute lifetimes\n",
    "            g = df_traj.groupby('particle')['t']\n",
    "            mx = g.agg(np.max)\n",
    "            mn = g.agg(np.min)\n",
    "            gd_lifetimes = mx - mn\n",
    "#             gd_lifetimes = gd['max']- gd['min']\n",
    "            \n",
    "            #plot results\n",
    "            ll=np.max(gd_lifetimes[gd_lifetimes>0.])\n",
    "            print(f\"the longest living tip lasted {int(np.around(ll/h))} time steps, which was {ll:.3f} ms.\")\n",
    "            fig_fn = df_dir.replace('.csv','.png').replace('_traj_','hist_lifetimes')\n",
    "            # out = np.log(gd_lifetimes)\n",
    "            plt.hist(gd_lifetimes[gd_lifetimes>0], bins=30, density=True, log=True)\n",
    "            plt.ylabel('frequency', fontsize=fontsize)\n",
    "            plt.xlabel('lifetime (ms)', fontsize=fontsize)\n",
    "            # plt.show()\n",
    "           \n",
    "            \n",
    "            #save results\n",
    "            os.chdir(save_dir)\n",
    "            save_fn = os.path.basename(df_dir).replace(f'_traj_sr_{sr}_mem_{mem}.csv', f'_sr_{sr}_mem_{mem}.csv').replace('tip_trajectories','histogram_lifetimes')\n",
    "            plt.savefig(fig_fn, dpi=dpi)\n",
    "            plt.close()"
   ]
  },
  {
   "cell_type": "markdown",
   "metadata": {
    "heading_collapsed": true
   },
   "source": [
    "# TODO: take a close look at when those n = 6 numbers flicker to n=12 during trackpy.link_df\n",
    "### __answer__ frame was rounding funny like in fortran\n",
    "also, my data has some frames missing, and I don't know why...<br>\n",
    "TODO: see if frames are still missing when `recording` is not recomputed every timestep"
   ]
  },
  {
   "cell_type": "code",
   "execution_count": 91,
   "metadata": {
    "ExecuteTime": {
     "end_time": "2020-07-02T01:19:32.856351Z",
     "start_time": "2020-07-02T01:19:32.822974Z"
    },
    "hidden": true
   },
   "outputs": [],
   "source": [
    "retval = traj.groupby('frame')['particle', 'n', 't']"
   ]
  },
  {
   "cell_type": "code",
   "execution_count": 92,
   "metadata": {
    "ExecuteTime": {
     "end_time": "2020-07-02T01:19:34.029573Z",
     "start_time": "2020-07-02T01:19:33.980864Z"
    },
    "hidden": true
   },
   "outputs": [],
   "source": [
    "l = 69990\n",
    "frame_indices = retval.count().loc[l-1:l+2].index\n",
    "# .reduce('add')"
   ]
  },
  {
   "cell_type": "code",
   "execution_count": 95,
   "metadata": {
    "ExecuteTime": {
     "end_time": "2020-07-02T01:19:49.143850Z",
     "start_time": "2020-07-02T01:19:49.117638Z"
    },
    "hidden": true
   },
   "outputs": [
    {
     "data": {
      "text/plain": [
       "<pandas.core.groupby.generic.DataFrameGroupBy object at 0x135022c90>"
      ]
     },
     "execution_count": 95,
     "metadata": {},
     "output_type": "execute_result"
    }
   ],
   "source": [
    "for fi in frame_indices:\n",
    "    pass\n",
    "#     print(df.loc[fi])\n"
   ]
  },
  {
   "cell_type": "code",
   "execution_count": 101,
   "metadata": {
    "ExecuteTime": {
     "end_time": "2020-07-02T01:20:58.644027Z",
     "start_time": "2020-07-02T01:20:58.606241Z"
    },
    "hidden": true
   },
   "outputs": [
    {
     "data": {
      "text/html": [
       "<div>\n",
       "<style scoped>\n",
       "    .dataframe tbody tr th:only-of-type {\n",
       "        vertical-align: middle;\n",
       "    }\n",
       "\n",
       "    .dataframe tbody tr th {\n",
       "        vertical-align: top;\n",
       "    }\n",
       "\n",
       "    .dataframe thead th {\n",
       "        text-align: right;\n",
       "    }\n",
       "</style>\n",
       "<table border=\"1\" class=\"dataframe\">\n",
       "  <thead>\n",
       "    <tr style=\"text-align: right;\">\n",
       "      <th></th>\n",
       "      <th>n</th>\n",
       "      <th>s1</th>\n",
       "      <th>s2</th>\n",
       "      <th>t</th>\n",
       "      <th>x</th>\n",
       "      <th>y</th>\n",
       "      <th>frame</th>\n",
       "    </tr>\n",
       "  </thead>\n",
       "  <tbody>\n",
       "    <tr>\n",
       "      <th>268336</th>\n",
       "      <td>2</td>\n",
       "      <td>(0,)</td>\n",
       "      <td>(2,)</td>\n",
       "      <td>489.916</td>\n",
       "      <td>137.998865</td>\n",
       "      <td>134.332334</td>\n",
       "      <td>69988</td>\n",
       "    </tr>\n",
       "    <tr>\n",
       "      <th>268337</th>\n",
       "      <td>2</td>\n",
       "      <td>(0,)</td>\n",
       "      <td>(2,)</td>\n",
       "      <td>489.916</td>\n",
       "      <td>90.176812</td>\n",
       "      <td>178.142970</td>\n",
       "      <td>69988</td>\n",
       "    </tr>\n",
       "    <tr>\n",
       "      <th>268338</th>\n",
       "      <td>2</td>\n",
       "      <td>(0,)</td>\n",
       "      <td>(2,)</td>\n",
       "      <td>489.923</td>\n",
       "      <td>137.998870</td>\n",
       "      <td>134.332656</td>\n",
       "      <td>69989</td>\n",
       "    </tr>\n",
       "    <tr>\n",
       "      <th>268339</th>\n",
       "      <td>2</td>\n",
       "      <td>(0,)</td>\n",
       "      <td>(2,)</td>\n",
       "      <td>489.923</td>\n",
       "      <td>90.176902</td>\n",
       "      <td>178.143010</td>\n",
       "      <td>69989</td>\n",
       "    </tr>\n",
       "    <tr>\n",
       "      <th>268340</th>\n",
       "      <td>2</td>\n",
       "      <td>(0,)</td>\n",
       "      <td>(2,)</td>\n",
       "      <td>489.930</td>\n",
       "      <td>137.998875</td>\n",
       "      <td>134.332975</td>\n",
       "      <td>69990</td>\n",
       "    </tr>\n",
       "    <tr>\n",
       "      <th>268341</th>\n",
       "      <td>2</td>\n",
       "      <td>(0,)</td>\n",
       "      <td>(2,)</td>\n",
       "      <td>489.930</td>\n",
       "      <td>90.176990</td>\n",
       "      <td>178.143049</td>\n",
       "      <td>69990</td>\n",
       "    </tr>\n",
       "    <tr>\n",
       "      <th>268342</th>\n",
       "      <td>2</td>\n",
       "      <td>(0,)</td>\n",
       "      <td>(2,)</td>\n",
       "      <td>489.937</td>\n",
       "      <td>137.998881</td>\n",
       "      <td>134.333293</td>\n",
       "      <td>69990</td>\n",
       "    </tr>\n",
       "    <tr>\n",
       "      <th>268343</th>\n",
       "      <td>2</td>\n",
       "      <td>(0,)</td>\n",
       "      <td>(2,)</td>\n",
       "      <td>489.937</td>\n",
       "      <td>90.177078</td>\n",
       "      <td>178.143087</td>\n",
       "      <td>69990</td>\n",
       "    </tr>\n",
       "    <tr>\n",
       "      <th>268344</th>\n",
       "      <td>2</td>\n",
       "      <td>(0,)</td>\n",
       "      <td>(2,)</td>\n",
       "      <td>489.944</td>\n",
       "      <td>137.998886</td>\n",
       "      <td>134.333608</td>\n",
       "      <td>69992</td>\n",
       "    </tr>\n",
       "    <tr>\n",
       "      <th>268345</th>\n",
       "      <td>2</td>\n",
       "      <td>(0,)</td>\n",
       "      <td>(2,)</td>\n",
       "      <td>489.944</td>\n",
       "      <td>90.177164</td>\n",
       "      <td>178.143125</td>\n",
       "      <td>69992</td>\n",
       "    </tr>\n",
       "  </tbody>\n",
       "</table>\n",
       "</div>"
      ],
      "text/plain": [
       "        n    s1    s2        t           x           y  frame\n",
       "268336  2  (0,)  (2,)  489.916  137.998865  134.332334  69988\n",
       "268337  2  (0,)  (2,)  489.916   90.176812  178.142970  69988\n",
       "268338  2  (0,)  (2,)  489.923  137.998870  134.332656  69989\n",
       "268339  2  (0,)  (2,)  489.923   90.176902  178.143010  69989\n",
       "268340  2  (0,)  (2,)  489.930  137.998875  134.332975  69990\n",
       "268341  2  (0,)  (2,)  489.930   90.176990  178.143049  69990\n",
       "268342  2  (0,)  (2,)  489.937  137.998881  134.333293  69990\n",
       "268343  2  (0,)  (2,)  489.937   90.177078  178.143087  69990\n",
       "268344  2  (0,)  (2,)  489.944  137.998886  134.333608  69992\n",
       "268345  2  (0,)  (2,)  489.944   90.177164  178.143125  69992"
      ]
     },
     "execution_count": 101,
     "metadata": {},
     "output_type": "execute_result"
    }
   ],
   "source": [
    "l = 69990\n",
    "\n",
    "df.loc[(df.frame >= l-2) & (df.frame <= l+2)]#[['particle', 'n', 't']]"
   ]
  },
  {
   "cell_type": "code",
   "execution_count": 102,
   "metadata": {
    "ExecuteTime": {
     "end_time": "2020-07-02T01:21:29.495543Z",
     "start_time": "2020-07-02T01:21:29.471745Z"
    },
    "hidden": true
   },
   "outputs": [],
   "source": [
    "# frame_indices = retval.count().loc[l-1:l+2].index"
   ]
  },
  {
   "cell_type": "code",
   "execution_count": 103,
   "metadata": {
    "ExecuteTime": {
     "end_time": "2020-07-02T01:21:41.985855Z",
     "start_time": "2020-07-02T01:21:41.948549Z"
    },
    "hidden": true
   },
   "outputs": [
    {
     "data": {
      "text/html": [
       "<div>\n",
       "<style scoped>\n",
       "    .dataframe tbody tr th:only-of-type {\n",
       "        vertical-align: middle;\n",
       "    }\n",
       "\n",
       "    .dataframe tbody tr th {\n",
       "        vertical-align: top;\n",
       "    }\n",
       "\n",
       "    .dataframe thead th {\n",
       "        text-align: right;\n",
       "    }\n",
       "</style>\n",
       "<table border=\"1\" class=\"dataframe\">\n",
       "  <thead>\n",
       "    <tr style=\"text-align: right;\">\n",
       "      <th></th>\n",
       "      <th>n</th>\n",
       "      <th>s1</th>\n",
       "      <th>s2</th>\n",
       "      <th>t</th>\n",
       "      <th>x</th>\n",
       "      <th>y</th>\n",
       "      <th>frame</th>\n",
       "      <th>particle</th>\n",
       "    </tr>\n",
       "  </thead>\n",
       "  <tbody>\n",
       "    <tr>\n",
       "      <th>268337</th>\n",
       "      <td>2</td>\n",
       "      <td>(0,)</td>\n",
       "      <td>(2,)</td>\n",
       "      <td>489.916</td>\n",
       "      <td>90.176812</td>\n",
       "      <td>178.142970</td>\n",
       "      <td>69988</td>\n",
       "      <td>27708</td>\n",
       "    </tr>\n",
       "    <tr>\n",
       "      <th>268336</th>\n",
       "      <td>2</td>\n",
       "      <td>(0,)</td>\n",
       "      <td>(2,)</td>\n",
       "      <td>489.916</td>\n",
       "      <td>137.998865</td>\n",
       "      <td>134.332334</td>\n",
       "      <td>69988</td>\n",
       "      <td>27707</td>\n",
       "    </tr>\n",
       "    <tr>\n",
       "      <th>268338</th>\n",
       "      <td>2</td>\n",
       "      <td>(0,)</td>\n",
       "      <td>(2,)</td>\n",
       "      <td>489.923</td>\n",
       "      <td>137.998870</td>\n",
       "      <td>134.332656</td>\n",
       "      <td>69989</td>\n",
       "      <td>27707</td>\n",
       "    </tr>\n",
       "    <tr>\n",
       "      <th>268339</th>\n",
       "      <td>2</td>\n",
       "      <td>(0,)</td>\n",
       "      <td>(2,)</td>\n",
       "      <td>489.923</td>\n",
       "      <td>90.176902</td>\n",
       "      <td>178.143010</td>\n",
       "      <td>69989</td>\n",
       "      <td>27708</td>\n",
       "    </tr>\n",
       "    <tr>\n",
       "      <th>268340</th>\n",
       "      <td>2</td>\n",
       "      <td>(0,)</td>\n",
       "      <td>(2,)</td>\n",
       "      <td>489.930</td>\n",
       "      <td>137.998875</td>\n",
       "      <td>134.332975</td>\n",
       "      <td>69990</td>\n",
       "      <td>27707</td>\n",
       "    </tr>\n",
       "    <tr>\n",
       "      <th>268341</th>\n",
       "      <td>2</td>\n",
       "      <td>(0,)</td>\n",
       "      <td>(2,)</td>\n",
       "      <td>489.930</td>\n",
       "      <td>90.176990</td>\n",
       "      <td>178.143049</td>\n",
       "      <td>69990</td>\n",
       "      <td>27708</td>\n",
       "    </tr>\n",
       "    <tr>\n",
       "      <th>268342</th>\n",
       "      <td>2</td>\n",
       "      <td>(0,)</td>\n",
       "      <td>(2,)</td>\n",
       "      <td>489.937</td>\n",
       "      <td>137.998881</td>\n",
       "      <td>134.333293</td>\n",
       "      <td>69990</td>\n",
       "      <td>27709</td>\n",
       "    </tr>\n",
       "    <tr>\n",
       "      <th>268343</th>\n",
       "      <td>2</td>\n",
       "      <td>(0,)</td>\n",
       "      <td>(2,)</td>\n",
       "      <td>489.937</td>\n",
       "      <td>90.177078</td>\n",
       "      <td>178.143087</td>\n",
       "      <td>69990</td>\n",
       "      <td>27710</td>\n",
       "    </tr>\n",
       "    <tr>\n",
       "      <th>268345</th>\n",
       "      <td>2</td>\n",
       "      <td>(0,)</td>\n",
       "      <td>(2,)</td>\n",
       "      <td>489.944</td>\n",
       "      <td>90.177164</td>\n",
       "      <td>178.143125</td>\n",
       "      <td>69992</td>\n",
       "      <td>27710</td>\n",
       "    </tr>\n",
       "    <tr>\n",
       "      <th>268344</th>\n",
       "      <td>2</td>\n",
       "      <td>(0,)</td>\n",
       "      <td>(2,)</td>\n",
       "      <td>489.944</td>\n",
       "      <td>137.998886</td>\n",
       "      <td>134.333608</td>\n",
       "      <td>69992</td>\n",
       "      <td>27709</td>\n",
       "    </tr>\n",
       "  </tbody>\n",
       "</table>\n",
       "</div>"
      ],
      "text/plain": [
       "        n    s1    s2        t           x           y  frame  particle\n",
       "268337  2  (0,)  (2,)  489.916   90.176812  178.142970  69988     27708\n",
       "268336  2  (0,)  (2,)  489.916  137.998865  134.332334  69988     27707\n",
       "268338  2  (0,)  (2,)  489.923  137.998870  134.332656  69989     27707\n",
       "268339  2  (0,)  (2,)  489.923   90.176902  178.143010  69989     27708\n",
       "268340  2  (0,)  (2,)  489.930  137.998875  134.332975  69990     27707\n",
       "268341  2  (0,)  (2,)  489.930   90.176990  178.143049  69990     27708\n",
       "268342  2  (0,)  (2,)  489.937  137.998881  134.333293  69990     27709\n",
       "268343  2  (0,)  (2,)  489.937   90.177078  178.143087  69990     27710\n",
       "268345  2  (0,)  (2,)  489.944   90.177164  178.143125  69992     27710\n",
       "268344  2  (0,)  (2,)  489.944  137.998886  134.333608  69992     27709"
      ]
     },
     "execution_count": 103,
     "metadata": {},
     "output_type": "execute_result"
    }
   ],
   "source": [
    "traj.loc[(traj.frame >= l-2) & (traj.frame <= l+2)]"
   ]
  },
  {
   "cell_type": "markdown",
   "metadata": {
    "hidden": true
   },
   "source": [
    "How am I computing the field \"frame\"? How is it rounding?"
   ]
  },
  {
   "cell_type": "code",
   "execution_count": 111,
   "metadata": {
    "ExecuteTime": {
     "end_time": "2020-07-02T01:23:44.227790Z",
     "start_time": "2020-07-02T01:23:44.181568Z"
    },
    "hidden": true
   },
   "outputs": [],
   "source": [
    "df['frame'] = np.around(df['t']/h)\n",
    "df = df.astype(dtype={'frame':int}).copy()"
   ]
  },
  {
   "cell_type": "code",
   "execution_count": 112,
   "metadata": {
    "ExecuteTime": {
     "end_time": "2020-07-02T01:24:33.827324Z",
     "start_time": "2020-07-02T01:24:33.745033Z"
    },
    "hidden": true
   },
   "outputs": [
    {
     "data": {
      "text/html": [
       "<div>\n",
       "<style scoped>\n",
       "    .dataframe tbody tr th:only-of-type {\n",
       "        vertical-align: middle;\n",
       "    }\n",
       "\n",
       "    .dataframe tbody tr th {\n",
       "        vertical-align: top;\n",
       "    }\n",
       "\n",
       "    .dataframe thead th {\n",
       "        text-align: right;\n",
       "    }\n",
       "</style>\n",
       "<table border=\"1\" class=\"dataframe\">\n",
       "  <thead>\n",
       "    <tr style=\"text-align: right;\">\n",
       "      <th></th>\n",
       "      <th>n</th>\n",
       "      <th>s1</th>\n",
       "      <th>s2</th>\n",
       "      <th>t</th>\n",
       "      <th>x</th>\n",
       "      <th>y</th>\n",
       "      <th>frame</th>\n",
       "      <th>particle</th>\n",
       "    </tr>\n",
       "  </thead>\n",
       "  <tbody>\n",
       "    <tr>\n",
       "      <th>268337</th>\n",
       "      <td>2</td>\n",
       "      <td>(0,)</td>\n",
       "      <td>(2,)</td>\n",
       "      <td>489.916</td>\n",
       "      <td>90.176812</td>\n",
       "      <td>178.142970</td>\n",
       "      <td>69988</td>\n",
       "      <td>27708</td>\n",
       "    </tr>\n",
       "    <tr>\n",
       "      <th>268336</th>\n",
       "      <td>2</td>\n",
       "      <td>(0,)</td>\n",
       "      <td>(2,)</td>\n",
       "      <td>489.916</td>\n",
       "      <td>137.998865</td>\n",
       "      <td>134.332334</td>\n",
       "      <td>69988</td>\n",
       "      <td>27707</td>\n",
       "    </tr>\n",
       "    <tr>\n",
       "      <th>268338</th>\n",
       "      <td>2</td>\n",
       "      <td>(0,)</td>\n",
       "      <td>(2,)</td>\n",
       "      <td>489.923</td>\n",
       "      <td>137.998870</td>\n",
       "      <td>134.332656</td>\n",
       "      <td>69989</td>\n",
       "      <td>27707</td>\n",
       "    </tr>\n",
       "    <tr>\n",
       "      <th>268339</th>\n",
       "      <td>2</td>\n",
       "      <td>(0,)</td>\n",
       "      <td>(2,)</td>\n",
       "      <td>489.923</td>\n",
       "      <td>90.176902</td>\n",
       "      <td>178.143010</td>\n",
       "      <td>69989</td>\n",
       "      <td>27708</td>\n",
       "    </tr>\n",
       "    <tr>\n",
       "      <th>268340</th>\n",
       "      <td>2</td>\n",
       "      <td>(0,)</td>\n",
       "      <td>(2,)</td>\n",
       "      <td>489.930</td>\n",
       "      <td>137.998875</td>\n",
       "      <td>134.332975</td>\n",
       "      <td>69990</td>\n",
       "      <td>27707</td>\n",
       "    </tr>\n",
       "    <tr>\n",
       "      <th>268341</th>\n",
       "      <td>2</td>\n",
       "      <td>(0,)</td>\n",
       "      <td>(2,)</td>\n",
       "      <td>489.930</td>\n",
       "      <td>90.176990</td>\n",
       "      <td>178.143049</td>\n",
       "      <td>69990</td>\n",
       "      <td>27708</td>\n",
       "    </tr>\n",
       "    <tr>\n",
       "      <th>268342</th>\n",
       "      <td>2</td>\n",
       "      <td>(0,)</td>\n",
       "      <td>(2,)</td>\n",
       "      <td>489.937</td>\n",
       "      <td>137.998881</td>\n",
       "      <td>134.333293</td>\n",
       "      <td>69991</td>\n",
       "      <td>27709</td>\n",
       "    </tr>\n",
       "    <tr>\n",
       "      <th>268343</th>\n",
       "      <td>2</td>\n",
       "      <td>(0,)</td>\n",
       "      <td>(2,)</td>\n",
       "      <td>489.937</td>\n",
       "      <td>90.177078</td>\n",
       "      <td>178.143087</td>\n",
       "      <td>69991</td>\n",
       "      <td>27710</td>\n",
       "    </tr>\n",
       "    <tr>\n",
       "      <th>268345</th>\n",
       "      <td>2</td>\n",
       "      <td>(0,)</td>\n",
       "      <td>(2,)</td>\n",
       "      <td>489.944</td>\n",
       "      <td>90.177164</td>\n",
       "      <td>178.143125</td>\n",
       "      <td>69992</td>\n",
       "      <td>27710</td>\n",
       "    </tr>\n",
       "    <tr>\n",
       "      <th>268344</th>\n",
       "      <td>2</td>\n",
       "      <td>(0,)</td>\n",
       "      <td>(2,)</td>\n",
       "      <td>489.944</td>\n",
       "      <td>137.998886</td>\n",
       "      <td>134.333608</td>\n",
       "      <td>69992</td>\n",
       "      <td>27709</td>\n",
       "    </tr>\n",
       "  </tbody>\n",
       "</table>\n",
       "</div>"
      ],
      "text/plain": [
       "        n    s1    s2        t           x           y  frame  particle\n",
       "268337  2  (0,)  (2,)  489.916   90.176812  178.142970  69988     27708\n",
       "268336  2  (0,)  (2,)  489.916  137.998865  134.332334  69988     27707\n",
       "268338  2  (0,)  (2,)  489.923  137.998870  134.332656  69989     27707\n",
       "268339  2  (0,)  (2,)  489.923   90.176902  178.143010  69989     27708\n",
       "268340  2  (0,)  (2,)  489.930  137.998875  134.332975  69990     27707\n",
       "268341  2  (0,)  (2,)  489.930   90.176990  178.143049  69990     27708\n",
       "268342  2  (0,)  (2,)  489.937  137.998881  134.333293  69991     27709\n",
       "268343  2  (0,)  (2,)  489.937   90.177078  178.143087  69991     27710\n",
       "268345  2  (0,)  (2,)  489.944   90.177164  178.143125  69992     27710\n",
       "268344  2  (0,)  (2,)  489.944  137.998886  134.333608  69992     27709"
      ]
     },
     "execution_count": 112,
     "metadata": {},
     "output_type": "execute_result"
    }
   ],
   "source": [
    "df = traj.copy()\n",
    "df['frame'] = np.around(df['t']/h)\n",
    "df = df.astype(dtype={'frame':int}).copy()\n",
    "df.loc[(traj.frame >= l-2) & (traj.frame <= l+2)]"
   ]
  },
  {
   "cell_type": "markdown",
   "metadata": {
    "ExecuteTime": {
     "end_time": "2020-06-30T03:51:24.005048Z",
     "start_time": "2020-06-30T03:51:23.975142Z"
    }
   },
   "source": [
    "# spiral tip investigating tips with small lifetimes\n",
    "- TODO: plot tip number versus time for trajectories and raw positions\n",
    "    - Does tip doubling still exist?\n",
    "    - if so, consider investigating tip doubling near missing frames explicitely plug into trackpy.link_df\n",
    "\n",
    "\n",
    "- TODO: select tips with short lifetimes. visualize.\n",
    "- TODO: select tips with long lifetimes. visualize.\n",
    "\n",
    " - TODO(later): compute the velocity of a given tip that doesn't cross the periodic boundaries\n",
    "\n"
   ]
  },
  {
   "cell_type": "markdown",
   "metadata": {
    "ExecuteTime": {
     "end_time": "2020-07-02T01:23:42.509319Z",
     "start_time": "2020-07-02T01:23:42.483798Z"
    }
   },
   "source": [
    "# select the long life time spiral tips and plot their birth death rates"
   ]
  },
  {
   "cell_type": "code",
   "execution_count": 12,
   "metadata": {
    "ExecuteTime": {
     "end_time": "2020-08-05T16:32:26.246776Z",
     "start_time": "2020-08-05T16:32:26.099127Z"
    }
   },
   "outputs": [
    {
     "name": "stdout",
     "output_type": "stream",
     "text": [
      "/Users/timothytyree/Documents/GitHub/care/notebooks/Data/ds_5_param_set_8/trajectories\r\n"
     ]
    }
   ],
   "source": [
    "!pwd"
   ]
  },
  {
   "cell_type": "code",
   "execution_count": 25,
   "metadata": {
    "ExecuteTime": {
     "end_time": "2020-08-05T16:34:08.811304Z",
     "start_time": "2020-08-05T16:34:08.786076Z"
    }
   },
   "outputs": [],
   "source": [
    "#import most recent tip trajectory data and the corresponding raw tips\n",
    "data_dir_traj = f\"{nb_dir}/Data/ds_5_param_set_8/trajectories\"\n",
    "# data_fn_traj  = 'tip_trajectories_ds_5_sigma_1.0_threshold_0.9_traj_sr_1_mem_2.csv'\n",
    "data_fn_traj  = 'tip_log_ds_5_sigma_0.5_threshold_0.9_005_traj_sr_1_mem_2.csv'\n",
    "data_fn = data_fn_traj\n",
    "# data_dir_log  = f\"{nb_dir}/Data/ds_5_param_set_8/Log\"\n",
    "# data_fn_log_processed = 'tip_log_ds_5_sigma_1.0_threshold_0.6_processed.csv'\n",
    "# data_fn_log = 'tip_log_ds_5_sigma_1.0_threshold_0.6_001.csv' #not terribly useful"
   ]
  },
  {
   "cell_type": "code",
   "execution_count": 14,
   "metadata": {
    "ExecuteTime": {
     "end_time": "2020-08-05T16:32:54.219673Z",
     "start_time": "2020-08-05T16:32:53.445457Z"
    }
   },
   "outputs": [
    {
     "name": "stdout",
     "output_type": "stream",
     "text": [
      "tip trajectories:\n"
     ]
    },
    {
     "data": {
      "text/html": [
       "<div>\n",
       "<style scoped>\n",
       "    .dataframe tbody tr th:only-of-type {\n",
       "        vertical-align: middle;\n",
       "    }\n",
       "\n",
       "    .dataframe tbody tr th {\n",
       "        vertical-align: top;\n",
       "    }\n",
       "\n",
       "    .dataframe thead th {\n",
       "        text-align: right;\n",
       "    }\n",
       "</style>\n",
       "<table border=\"1\" class=\"dataframe\">\n",
       "  <thead>\n",
       "    <tr style=\"text-align: right;\">\n",
       "      <th></th>\n",
       "      <th>t</th>\n",
       "      <th>x</th>\n",
       "      <th>y</th>\n",
       "      <th>s1</th>\n",
       "      <th>s2</th>\n",
       "      <th>n</th>\n",
       "      <th>states_nearest</th>\n",
       "      <th>states_interpolated_linear</th>\n",
       "      <th>states_interpolated_cubic</th>\n",
       "      <th>frame</th>\n",
       "      <th>particle</th>\n",
       "    </tr>\n",
       "  </thead>\n",
       "  <tbody>\n",
       "    <tr>\n",
       "      <th>94972</th>\n",
       "      <td>100.002</td>\n",
       "      <td>53.195395</td>\n",
       "      <td>35.398401</td>\n",
       "      <td>(0,)</td>\n",
       "      <td>(0,)</td>\n",
       "      <td>6</td>\n",
       "      <td>(0.4991907540101965, 0.0168794826883892, 0.888...</td>\n",
       "      <td>(0.4991907540101965, 0.0168794826883892, 0.888...</td>\n",
       "      <td>(0.4991907540101965, 0.0168794826883892, 0.888...</td>\n",
       "      <td>14286</td>\n",
       "      <td>119</td>\n",
       "    </tr>\n",
       "    <tr>\n",
       "      <th>94973</th>\n",
       "      <td>100.002</td>\n",
       "      <td>23.719170</td>\n",
       "      <td>79.510893</td>\n",
       "      <td>(0,)</td>\n",
       "      <td>(0,)</td>\n",
       "      <td>6</td>\n",
       "      <td>(0.6154635274809543, 0.07035775178444896, 0.90...</td>\n",
       "      <td>(0.6154635274809543, 0.07035775178444896, 0.90...</td>\n",
       "      <td>(0.6154635274809543, 0.07035775178444896, 0.90...</td>\n",
       "      <td>14286</td>\n",
       "      <td>159</td>\n",
       "    </tr>\n",
       "    <tr>\n",
       "      <th>94974</th>\n",
       "      <td>100.002</td>\n",
       "      <td>56.105505</td>\n",
       "      <td>123.203701</td>\n",
       "      <td>(0,)</td>\n",
       "      <td>(0,)</td>\n",
       "      <td>6</td>\n",
       "      <td>(0.6154635274809543, 0.07035775178444896, 0.90...</td>\n",
       "      <td>(0.6154635274809543, 0.07035775178444896, 0.90...</td>\n",
       "      <td>(0.6154635274809543, 0.07035775178444896, 0.90...</td>\n",
       "      <td>14286</td>\n",
       "      <td>7</td>\n",
       "    </tr>\n",
       "    <tr>\n",
       "      <th>94975</th>\n",
       "      <td>100.002</td>\n",
       "      <td>61.936923</td>\n",
       "      <td>5.998823</td>\n",
       "      <td>(0,)</td>\n",
       "      <td>(2,)</td>\n",
       "      <td>6</td>\n",
       "      <td>(0.9587675293366801, 0.1538459569270341, 0.909...</td>\n",
       "      <td>(0.9587675293366801, 0.1538459569270341, 0.909...</td>\n",
       "      <td>(0.9587675293366801, 0.1538459569270341, 0.909...</td>\n",
       "      <td>14286</td>\n",
       "      <td>104</td>\n",
       "    </tr>\n",
       "    <tr>\n",
       "      <th>94976</th>\n",
       "      <td>100.002</td>\n",
       "      <td>141.488458</td>\n",
       "      <td>134.040552</td>\n",
       "      <td>(2,)</td>\n",
       "      <td>(0,)</td>\n",
       "      <td>6</td>\n",
       "      <td>(0.6154635274809543, 0.07035775178444896, 0.90...</td>\n",
       "      <td>(0.6154635274809543, 0.07035775178444896, 0.90...</td>\n",
       "      <td>(0.6154635274809543, 0.07035775178444896, 0.90...</td>\n",
       "      <td>14286</td>\n",
       "      <td>191</td>\n",
       "    </tr>\n",
       "  </tbody>\n",
       "</table>\n",
       "</div>"
      ],
      "text/plain": [
       "             t           x           y    s1    s2  n  \\\n",
       "94972  100.002   53.195395   35.398401  (0,)  (0,)  6   \n",
       "94973  100.002   23.719170   79.510893  (0,)  (0,)  6   \n",
       "94974  100.002   56.105505  123.203701  (0,)  (0,)  6   \n",
       "94975  100.002   61.936923    5.998823  (0,)  (2,)  6   \n",
       "94976  100.002  141.488458  134.040552  (2,)  (0,)  6   \n",
       "\n",
       "                                          states_nearest  \\\n",
       "94972  (0.4991907540101965, 0.0168794826883892, 0.888...   \n",
       "94973  (0.6154635274809543, 0.07035775178444896, 0.90...   \n",
       "94974  (0.6154635274809543, 0.07035775178444896, 0.90...   \n",
       "94975  (0.9587675293366801, 0.1538459569270341, 0.909...   \n",
       "94976  (0.6154635274809543, 0.07035775178444896, 0.90...   \n",
       "\n",
       "                              states_interpolated_linear  \\\n",
       "94972  (0.4991907540101965, 0.0168794826883892, 0.888...   \n",
       "94973  (0.6154635274809543, 0.07035775178444896, 0.90...   \n",
       "94974  (0.6154635274809543, 0.07035775178444896, 0.90...   \n",
       "94975  (0.9587675293366801, 0.1538459569270341, 0.909...   \n",
       "94976  (0.6154635274809543, 0.07035775178444896, 0.90...   \n",
       "\n",
       "                               states_interpolated_cubic  frame  particle  \n",
       "94972  (0.4991907540101965, 0.0168794826883892, 0.888...  14286       119  \n",
       "94973  (0.6154635274809543, 0.07035775178444896, 0.90...  14286       159  \n",
       "94974  (0.6154635274809543, 0.07035775178444896, 0.90...  14286         7  \n",
       "94975  (0.9587675293366801, 0.1538459569270341, 0.909...  14286       104  \n",
       "94976  (0.6154635274809543, 0.07035775178444896, 0.90...  14286       191  "
      ]
     },
     "execution_count": 14,
     "metadata": {},
     "output_type": "execute_result"
    }
   ],
   "source": [
    "os.chdir(data_dir_traj)\n",
    "df = pd.read_csv(data_fn_traj)\n",
    "# select only data after 100 milliseconds\n",
    "df = df[df.t>100].copy()\n",
    "\n",
    "print('tip trajectories:')\n",
    "df.head()"
   ]
  },
  {
   "cell_type": "code",
   "execution_count": 15,
   "metadata": {
    "ExecuteTime": {
     "end_time": "2020-08-05T16:33:07.760228Z",
     "start_time": "2020-08-05T16:33:07.736967Z"
    }
   },
   "outputs": [],
   "source": [
    "# os.chdir(data_dir_log)\n",
    "# df_log = pd.read_csv(data_fn_log_processed)\n",
    "\n",
    "# # select only data after 100 milliseconds\n",
    "# df_log = df_log[df_log.t>100].copy()\n",
    "# print('tip log processed:')\n",
    "# df_log.head()"
   ]
  },
  {
   "cell_type": "code",
   "execution_count": 16,
   "metadata": {
    "ExecuteTime": {
     "end_time": "2020-08-05T16:33:12.922060Z",
     "start_time": "2020-08-05T16:33:12.703749Z"
    }
   },
   "outputs": [
    {
     "data": {
      "text/plain": [
       "[<matplotlib.lines.Line2D at 0x1341a2760>]"
      ]
     },
     "execution_count": 16,
     "metadata": {},
     "output_type": "execute_result"
    },
    {
     "data": {
      "image/png": "[encoded data removed]",
      "text/plain": [
       "<Figure size 432x288 with 1 Axes>"
      ]
     },
     "metadata": {
      "needs_background": "light"
     },
     "output_type": "display_data"
    }
   ],
   "source": [
    "# plot tip number versus time for trajectories\n",
    "t_values = df.t.values\n",
    "n_values = df.n.values\n",
    "plt.plot(t_values, n_values, alpha=0.5)\n",
    "\n",
    "# # plot tip number versus time raw positions\n",
    "# t_values = df_log.t.values\n",
    "# n_values = df_log.n.values\n",
    "# plt.plot(t_values, n_values, alpha=0.5)"
   ]
  },
  {
   "cell_type": "code",
   "execution_count": 17,
   "metadata": {
    "ExecuteTime": {
     "end_time": "2020-08-05T16:33:20.075592Z",
     "start_time": "2020-08-05T16:33:19.990892Z"
    }
   },
   "outputs": [
    {
     "data": {
      "text/html": [
       "<div>\n",
       "<style scoped>\n",
       "    .dataframe tbody tr th:only-of-type {\n",
       "        vertical-align: middle;\n",
       "    }\n",
       "\n",
       "    .dataframe tbody tr th {\n",
       "        vertical-align: top;\n",
       "    }\n",
       "\n",
       "    .dataframe thead th {\n",
       "        text-align: right;\n",
       "    }\n",
       "</style>\n",
       "<table border=\"1\" class=\"dataframe\">\n",
       "  <thead>\n",
       "    <tr style=\"text-align: right;\">\n",
       "      <th></th>\n",
       "      <th>t</th>\n",
       "      <th>x</th>\n",
       "      <th>y</th>\n",
       "      <th>n</th>\n",
       "      <th>frame</th>\n",
       "      <th>particle</th>\n",
       "    </tr>\n",
       "  </thead>\n",
       "  <tbody>\n",
       "    <tr>\n",
       "      <th>count</th>\n",
       "      <td>194638.000000</td>\n",
       "      <td>194638.000000</td>\n",
       "      <td>194638.000000</td>\n",
       "      <td>194638.000000</td>\n",
       "      <td>194638.000000</td>\n",
       "      <td>194638.000000</td>\n",
       "    </tr>\n",
       "    <tr>\n",
       "      <th>mean</th>\n",
       "      <td>299.953834</td>\n",
       "      <td>105.468828</td>\n",
       "      <td>113.246649</td>\n",
       "      <td>3.670671</td>\n",
       "      <td>42850.547745</td>\n",
       "      <td>219.771982</td>\n",
       "    </tr>\n",
       "    <tr>\n",
       "      <th>std</th>\n",
       "      <td>136.657549</td>\n",
       "      <td>49.120570</td>\n",
       "      <td>61.007390</td>\n",
       "      <td>1.671345</td>\n",
       "      <td>19522.507023</td>\n",
       "      <td>63.878361</td>\n",
       "    </tr>\n",
       "    <tr>\n",
       "      <th>min</th>\n",
       "      <td>100.002000</td>\n",
       "      <td>0.050619</td>\n",
       "      <td>0.060051</td>\n",
       "      <td>2.000000</td>\n",
       "      <td>14286.000000</td>\n",
       "      <td>7.000000</td>\n",
       "    </tr>\n",
       "    <tr>\n",
       "      <th>25%</th>\n",
       "      <td>157.466750</td>\n",
       "      <td>69.330944</td>\n",
       "      <td>56.628291</td>\n",
       "      <td>2.000000</td>\n",
       "      <td>22495.250000</td>\n",
       "      <td>209.000000</td>\n",
       "    </tr>\n",
       "    <tr>\n",
       "      <th>50%</th>\n",
       "      <td>297.990000</td>\n",
       "      <td>109.136490</td>\n",
       "      <td>132.008045</td>\n",
       "      <td>4.000000</td>\n",
       "      <td>42570.000000</td>\n",
       "      <td>227.000000</td>\n",
       "    </tr>\n",
       "    <tr>\n",
       "      <th>75%</th>\n",
       "      <td>409.015250</td>\n",
       "      <td>148.209862</td>\n",
       "      <td>155.724609</td>\n",
       "      <td>4.000000</td>\n",
       "      <td>58430.750000</td>\n",
       "      <td>261.000000</td>\n",
       "    </tr>\n",
       "    <tr>\n",
       "      <th>max</th>\n",
       "      <td>557.235000</td>\n",
       "      <td>199.958431</td>\n",
       "      <td>199.996720</td>\n",
       "      <td>10.000000</td>\n",
       "      <td>79605.000000</td>\n",
       "      <td>405.000000</td>\n",
       "    </tr>\n",
       "  </tbody>\n",
       "</table>\n",
       "</div>"
      ],
      "text/plain": [
       "                   t              x              y              n  \\\n",
       "count  194638.000000  194638.000000  194638.000000  194638.000000   \n",
       "mean      299.953834     105.468828     113.246649       3.670671   \n",
       "std       136.657549      49.120570      61.007390       1.671345   \n",
       "min       100.002000       0.050619       0.060051       2.000000   \n",
       "25%       157.466750      69.330944      56.628291       2.000000   \n",
       "50%       297.990000     109.136490     132.008045       4.000000   \n",
       "75%       409.015250     148.209862     155.724609       4.000000   \n",
       "max       557.235000     199.958431     199.996720      10.000000   \n",
       "\n",
       "               frame       particle  \n",
       "count  194638.000000  194638.000000  \n",
       "mean    42850.547745     219.771982  \n",
       "std     19522.507023      63.878361  \n",
       "min     14286.000000       7.000000  \n",
       "25%     22495.250000     209.000000  \n",
       "50%     42570.000000     227.000000  \n",
       "75%     58430.750000     261.000000  \n",
       "max     79605.000000     405.000000  "
      ]
     },
     "execution_count": 17,
     "metadata": {},
     "output_type": "execute_result"
    }
   ],
   "source": [
    "df.describe()"
   ]
  },
  {
   "cell_type": "markdown",
   "metadata": {},
   "source": [
    "# do spiral tips with a sufficiently large lifetime reproduce known results?"
   ]
  },
  {
   "cell_type": "code",
   "execution_count": 181,
   "metadata": {
    "ExecuteTime": {
     "end_time": "2020-08-04T19:53:24.831773Z",
     "start_time": "2020-08-04T19:53:24.807783Z"
    }
   },
   "outputs": [],
   "source": [
    "#TODO: test for gaps in a given trajectory\n",
    "#TODO: test for consistency between frame and time"
   ]
  },
  {
   "cell_type": "code",
   "execution_count": null,
   "metadata": {
    "ExecuteTime": {
     "end_time": "2020-08-04T19:52:30.026153Z",
     "start_time": "2020-08-04T19:52:30.002547Z"
    }
   },
   "outputs": [],
   "source": []
  },
  {
   "cell_type": "code",
   "execution_count": 18,
   "metadata": {
    "ExecuteTime": {
     "end_time": "2020-08-05T16:33:31.114536Z",
     "start_time": "2020-08-05T16:33:31.090704Z"
    }
   },
   "outputs": [],
   "source": [
    "xmin=0; ymin=0; xmax=200; ymax=200; \n",
    "axis = [xmin,xmax,ymin,ymax]\n"
   ]
  },
  {
   "cell_type": "code",
   "execution_count": 19,
   "metadata": {
    "ExecuteTime": {
     "end_time": "2020-08-05T16:33:33.167033Z",
     "start_time": "2020-08-05T16:33:33.140781Z"
    }
   },
   "outputs": [],
   "source": [
    "#naive computation of lifetime for a given tip\n",
    "pid = 10\n",
    "def get_lifetime(pid,df):\n",
    "    mx,mn = df[(df.particle==pid)].t.describe()[['max','min']]\n",
    "    lifetime = mx-mn #seconds?\n",
    "    return lifetime"
   ]
  },
  {
   "cell_type": "code",
   "execution_count": 33,
   "metadata": {
    "ExecuteTime": {
     "end_time": "2020-08-05T16:43:13.228943Z",
     "start_time": "2020-08-05T16:43:12.530178Z"
    }
   },
   "outputs": [],
   "source": [
    "pid_values = np.array(list(set(df.particle.values)))\n",
    "# lifetime_values = [0.*pid for pid in pid_values]\n",
    "\n",
    "lifetime_values = np.array([get_lifetime(pid,df) for pid in pid_values])\n",
    "\n",
    "\n"
   ]
  },
  {
   "cell_type": "code",
   "execution_count": 21,
   "metadata": {
    "ExecuteTime": {
     "end_time": "2020-08-05T16:33:35.769086Z",
     "start_time": "2020-08-05T16:33:35.745241Z"
    }
   },
   "outputs": [],
   "source": [
    "# len(lifetime_values[boo])"
   ]
  },
  {
   "cell_type": "code",
   "execution_count": null,
   "metadata": {
    "ExecuteTime": {
     "end_time": "2020-08-04T19:58:10.518921Z",
     "start_time": "2020-08-04T19:58:10.495087Z"
    }
   },
   "outputs": [],
   "source": []
  },
  {
   "cell_type": "code",
   "execution_count": 22,
   "metadata": {
    "ExecuteTime": {
     "end_time": "2020-08-05T16:33:36.335484Z",
     "start_time": "2020-08-05T16:33:36.312522Z"
    }
   },
   "outputs": [],
   "source": [
    "# plt.hist(x)"
   ]
  },
  {
   "cell_type": "code",
   "execution_count": 23,
   "metadata": {
    "ExecuteTime": {
     "end_time": "2020-08-05T16:33:37.056249Z",
     "start_time": "2020-08-05T16:33:37.033173Z"
    }
   },
   "outputs": [],
   "source": [
    "#the above spiral tip lifetime estimates may not be accurate.  But W±1 = 0...\n",
    "#TODO: plot the xy positions of the long lived spiral tips, coloring by pid.\n"
   ]
  },
  {
   "cell_type": "code",
   "execution_count": 27,
   "metadata": {
    "ExecuteTime": {
     "end_time": "2020-08-05T16:34:28.160531Z",
     "start_time": "2020-08-05T16:34:28.120913Z"
    }
   },
   "outputs": [],
   "source": [
    "df_traj = df.copy()"
   ]
  },
  {
   "cell_type": "code",
   "execution_count": 29,
   "metadata": {
    "ExecuteTime": {
     "end_time": "2020-08-05T16:35:04.468555Z",
     "start_time": "2020-08-05T16:35:03.011623Z"
    }
   },
   "outputs": [
    {
     "name": "stdout",
     "output_type": "stream",
     "text": [
      "saved figure in \n",
      "\ttip_log_ds_5_sigma_0.5_threshold_0.9_005_traj_sr_1_mem_2_lifetimes_longerthan_2.00_005.png.\n"
     ]
    },
    {
     "data": {
      "image/png": "[encoded data removed]",
      "text/plain": [
       "<Figure size 360x360 with 1 Axes>"
      ]
     },
     "metadata": {
      "needs_background": "light"
     },
     "output_type": "display_data"
    }
   ],
   "source": [
    "#plot the xy trajectory for longliving tips\n",
    "saving = True\n",
    "fig, ax = plt.subplots(figsize=(5, 5))\n",
    "fontsize=16\n",
    "\n",
    "LT_thresh = 2 #14 = 0.007*2000\n",
    "boo = (lifetime_values>LT_thresh)\n",
    "savefig_dir = f'{nb_dir}/Figures/lifetime_analysis'\n",
    "savefig_fn = data_fn.replace('.csv',f'_lifetimes_longerthan_{LT_thresh:.2f}_005.png')\n",
    "\n",
    "\n",
    "for pid in pid_values[boo]:\n",
    "    x_values ,y_values = df_traj[(df_traj.particle==pid) ][['x','y']].values.T\n",
    "    plt.scatter(x_values,y_values, s=.1)\n",
    "    plt.scatter([x_values[0]],[y_values[0]], s=10,color='black')\n",
    "plt.axis(axis)\n",
    "plt.title(f'''spiral tip lasting more than {LT_thresh:.2f} ms\n",
    "(tips start at black dots)''', fontsize=fontsize)\n",
    "ax.set_xlabel('x coordinate (pixels)', fontsize=fontsize)\n",
    "ax.set_ylabel('y coordinate (pixels)', fontsize=fontsize)\n",
    "if not saving: \n",
    "    plt.show() \n",
    "else:\n",
    "    plt.tight_layout()\n",
    "    os.chdir(savefig_dir)\n",
    "    plt.savefig(savefig_fn, dpi=300)\n",
    "    print(f\"saved figure in \\n\\t{savefig_fn}.\")"
   ]
  },
  {
   "cell_type": "markdown",
   "metadata": {
    "ExecuteTime": {
     "end_time": "2020-08-04T19:46:54.606778Z",
     "start_time": "2020-08-04T19:46:54.456614Z"
    }
   },
   "source": [
    "__Long Lifetimes at later times look reasonable__<br>\n",
    "for ^these lifetimes, the spatial trajectories appear robust when considering only lifetimes 1.5ms or longer, but not for 1.0ms or shorter.  Many of the spiral tips with high frequencies are removed by ommiting data shortly after initialization (considering only times greater than t=100ms)."
   ]
  },
  {
   "cell_type": "markdown",
   "metadata": {
    "ExecuteTime": {
     "end_time": "2020-08-04T20:06:59.513650Z",
     "start_time": "2020-08-04T20:06:59.487892Z"
    }
   },
   "source": [
    "### testing for sensitivity to LT_thresh\n",
    "The total number of spiral tips appears reletivley stable when considering only spiral tips with a lifetime greater than 2 milliseconds."
   ]
  },
  {
   "cell_type": "code",
   "execution_count": 30,
   "metadata": {
    "ExecuteTime": {
     "end_time": "2020-08-05T16:40:00.203042Z",
     "start_time": "2020-08-05T16:40:00.177089Z"
    }
   },
   "outputs": [],
   "source": [
    "x_values = np.linspace(1,15,100)\n",
    "y_values = []\n",
    "for LT_thresh in x_values:\n",
    "    boo = (lifetime_values>LT_thresh)\n",
    "    number_of_particles = lifetime_values[boo].shape[0]\n",
    "    y_values.append(number_of_particles)\n",
    "y_values = np.array(y_values)"
   ]
  },
  {
   "cell_type": "code",
   "execution_count": 31,
   "metadata": {
    "ExecuteTime": {
     "end_time": "2020-08-05T16:40:01.943614Z",
     "start_time": "2020-08-05T16:40:01.568820Z"
    }
   },
   "outputs": [
    {
     "name": "stdout",
     "output_type": "stream",
     "text": [
      "saved figure in \n",
      "\ttotal_num_tips_versus_minimum_lifetime_threshold_zoomed.png.\n"
     ]
    },
    {
     "data": {
      "image/png": "[encoded data removed]",
      "text/plain": [
       "<Figure size 288x288 with 1 Axes>"
      ]
     },
     "metadata": {
      "needs_background": "light"
     },
     "output_type": "display_data"
    }
   ],
   "source": [
    "#plot total particle number versus LT_thresh.  \n",
    "#plot the xy trajectory for longliving tips\n",
    "saving = True\n",
    "savefig_fn = 'total_num_tips_versus_minimum_lifetime_threshold_zoomed.png'\n",
    "fig, ax = plt.subplots(figsize=(4, 4))\n",
    "fontsize=16\n",
    "\n",
    "ax.plot(x_values,y_values)\n",
    "# ax.set_title('total number of spiral tips observed after time t=100ms', fontsize=fontsize)\n",
    "ax.set_xlabel('min. lifetime threshold (ms)', fontsize=fontsize)\n",
    "ax.set_ylabel('total num. tips', fontsize=fontsize)\n",
    "if not saving: \n",
    "    plt.show() \n",
    "else:\n",
    "    plt.tight_layout()\n",
    "    os.chdir(savefig_dir)\n",
    "    plt.savefig(savefig_fn, dpi=300)\n",
    "    print(f\"saved figure in \\n\\t{savefig_fn}.\")"
   ]
  },
  {
   "cell_type": "code",
   "execution_count": 256,
   "metadata": {
    "ExecuteTime": {
     "end_time": "2020-08-05T00:31:52.999155Z",
     "start_time": "2020-08-05T00:31:52.976442Z"
    }
   },
   "outputs": [],
   "source": [
    "\n",
    "# #TODO: plot a better histogram of tips lifetimes\n",
    "# boo = (lifetime_values>0.007*2000)\n",
    "# mu = 200\n",
    "# sigma = 25\n",
    "# n_bins = 50\n",
    "# x = lifetime_values[boo]\n",
    "\n",
    "# fig, ax = plt.subplots(figsize=(8, 4))\n",
    "\n",
    "# # plot the cumulative histogram\n",
    "# n, bins, patches = ax.hist(x, n_bins, density=True, histtype='step',\n",
    "#                            cumulative=True, label='Empirical')\n",
    "\n",
    "# # Add a line showing the expected distribution.\n",
    "# y = ((1 / (np.sqrt(2 * np.pi) * sigma)) *\n",
    "#      np.exp(-0.5 * (1 / sigma * (bins - mu))**2))\n",
    "# y = y.cumsum()\n",
    "# y /= y[-1]\n",
    "\n",
    "# ax.plot(bins, y, 'k--', linewidth=1.5, label='Theoretical')\n",
    "\n",
    "# # Overlay a reversed cumulative histogram.\n",
    "# ax.hist(x, bins=bins, density=True, histtype='step', cumulative=-1,\n",
    "#         label='Reversed emp.')\n",
    "\n",
    "# # tidy up the figure\n",
    "# ax.grid(True)\n",
    "# ax.legend(loc='right')\n",
    "# ax.set_title('Cumulative step histograms')\n",
    "# ax.set_xlabel('spiral tip lifetime (sec)')\n",
    "# ax.set_ylabel('Likelihood of occurrence')\n"
   ]
  },
  {
   "cell_type": "markdown",
   "metadata": {},
   "source": [
    "# plot a histogram of spiral tip lifetimes when considering only these features\n",
    "\n",
    "Despite this lifetime spiral tips still exist.  Since the xy-plots of the trajectories look reasonable, it is worth considering what may distinguish these spiral tips.  \n",
    "- TODO: plot birth death rates of spiral tips when only considering these tips\n",
    "\n",
    "- TODO: plot local EP properties for short-lived and long-lived spiral tips"
   ]
  },
  {
   "cell_type": "code",
   "execution_count": 32,
   "metadata": {
    "ExecuteTime": {
     "end_time": "2020-08-05T16:42:29.280816Z",
     "start_time": "2020-08-05T16:42:29.031882Z"
    }
   },
   "outputs": [
    {
     "data": {
      "text/plain": [
       "(array([2., 3., 1., 1., 0., 0., 6., 1., 3., 0., 0., 1., 0., 2., 0., 0., 0.,\n",
       "        0., 0., 0., 0., 0., 0., 0., 0., 0., 0., 0., 0., 2.]),\n",
       " array([  2.891     ,   9.48546667,  16.07993333,  22.6744    ,\n",
       "         29.26886667,  35.86333333,  42.4578    ,  49.05226667,\n",
       "         55.64673333,  62.2412    ,  68.83566667,  75.43013333,\n",
       "         82.0246    ,  88.61906667,  95.21353333, 101.808     ,\n",
       "        108.40246667, 114.99693333, 121.5914    , 128.18586667,\n",
       "        134.78033333, 141.3748    , 147.96926667, 154.56373333,\n",
       "        161.1582    , 167.75266667, 174.34713333, 180.9416    ,\n",
       "        187.53606667, 194.13053333, 200.725     ]),\n",
       " <BarContainer object of 30 artists>)"
      ]
     },
     "execution_count": 32,
     "metadata": {},
     "output_type": "execute_result"
    },
    {
     "data": {
      "image/png": "[encoded data removed]",
      "text/plain": [
       "<Figure size 432x288 with 1 Axes>"
      ]
     },
     "metadata": {
      "needs_background": "light"
     },
     "output_type": "display_data"
    }
   ],
   "source": [
    "LT_thresh = 2\n",
    "boo = (lifetime_values>LT_thresh)\n",
    "x = lifetime_values[boo]\n",
    "plt.hist(x, bins=30)\n"
   ]
  },
  {
   "cell_type": "code",
   "execution_count": 277,
   "metadata": {
    "ExecuteTime": {
     "end_time": "2020-08-05T00:54:55.201783Z",
     "start_time": "2020-08-05T00:54:53.839993Z"
    }
   },
   "outputs": [
    {
     "name": "stdout",
     "output_type": "stream",
     "text": [
      "saved figure in \n",
      "\tspiral_tip_histogram.png.\n"
     ]
    },
    {
     "data": {
      "image/png": "[encoded data removed]",
      "text/plain": [
       "<Figure size 360x288 with 1 Axes>"
      ]
     },
     "metadata": {
      "needs_background": "light"
     },
     "output_type": "display_data"
    }
   ],
   "source": [
    "#plot the xy trajectory for longliving tips\n",
    "saving = True\n",
    "fig, ax = plt.subplots(figsize=(5, 4))\n",
    "fontsize=16\n",
    "\n",
    "\n",
    "savefig_dir = f'{nb_dir}/Figures/lifetime_analysis'\n",
    "savefig_fn = 'spiral_tip_histogram.png'\n",
    "\n",
    "for pid in pid_values[boo]:\n",
    "    ax.hist(x, bins = 30)#, color='b')\n",
    "# plt.axis(axis)\n",
    "ax.set_title(f'''spiral tip lifetimes don't appear unimodal \\n(no unreasonably brief spiral tips)''', fontsize=fontsize)\n",
    "ax.set_xlabel('lifetime (ms)', fontsize=fontsize)\n",
    "ax.set_ylabel('frequency', fontsize=fontsize)\n",
    "if not saving: \n",
    "    plt.show() \n",
    "else:\n",
    "    plt.tight_layout()\n",
    "    os.chdir(savefig_dir)\n",
    "    plt.savefig(savefig_fn, dpi=300)\n",
    "    print(f\"saved figure in \\n\\t{savefig_fn}.\")"
   ]
  },
  {
   "cell_type": "code",
   "execution_count": null,
   "metadata": {
    "ExecuteTime": {
     "end_time": "2020-08-04T20:29:22.482563Z",
     "start_time": "2020-08-04T20:29:22.456541Z"
    }
   },
   "outputs": [],
   "source": []
  },
  {
   "cell_type": "code",
   "execution_count": 253,
   "metadata": {
    "ExecuteTime": {
     "end_time": "2020-08-04T20:30:30.390977Z",
     "start_time": "2020-08-04T20:30:30.364705Z"
    }
   },
   "outputs": [],
   "source": [
    "xcoord_mesh, ycoord_mesh = np.meshgrid(np.arange(0,200),np.arange(0,200))"
   ]
  },
  {
   "cell_type": "code",
   "execution_count": 254,
   "metadata": {
    "ExecuteTime": {
     "end_time": "2020-08-04T20:30:50.223226Z",
     "start_time": "2020-08-04T20:30:50.192965Z"
    }
   },
   "outputs": [
    {
     "data": {
      "text/plain": [
       "95154     False\n",
       "95155     False\n",
       "95156     False\n",
       "95157     False\n",
       "95158     False\n",
       "          ...  \n",
       "288437    False\n",
       "288438    False\n",
       "288439    False\n",
       "288440    False\n",
       "288441    False\n",
       "Name: particle, Length: 193288, dtype: bool"
      ]
     },
     "execution_count": 254,
     "metadata": {},
     "output_type": "execute_result"
    }
   ],
   "source": [
    "df.particle==5"
   ]
  },
  {
   "cell_type": "markdown",
   "metadata": {},
   "source": [
    "# histogram of EP states"
   ]
  },
  {
   "cell_type": "code",
   "execution_count": null,
   "metadata": {},
   "outputs": [],
   "source": [
    "V,f,s = df_output.loc[0]['states_nearest']"
   ]
  },
  {
   "cell_type": "code",
   "execution_count": 61,
   "metadata": {
    "ExecuteTime": {
     "end_time": "2020-08-05T16:51:43.612435Z",
     "start_time": "2020-08-05T16:51:43.534824Z"
    }
   },
   "outputs": [],
   "source": [
    "LT_thresh = 2\n",
    "boo = (lifetime_values>LT_thresh)\n",
    "V_lst = f_lst = s_lst = []\n",
    "for pid in pid_values[boo]:\n",
    "    V,f,s = eval(df.loc[df.particle==pid]['states_interpolated_cubic'].tail(1).values[0])\n",
    "    V_lst.append(V)\n",
    "    f_lst.append(f)\n",
    "    s_lst.append(s)\n",
    "    "
   ]
  },
  {
   "cell_type": "code",
   "execution_count": 62,
   "metadata": {
    "ExecuteTime": {
     "end_time": "2020-08-05T16:51:49.330814Z",
     "start_time": "2020-08-05T16:51:49.109686Z"
    }
   },
   "outputs": [
    {
     "data": {
      "text/plain": [
       "Text(0, 0.5, 'freq.')"
      ]
     },
     "execution_count": 62,
     "metadata": {},
     "output_type": "execute_result"
    },
    {
     "data": {
      "image/png": "[encoded data removed]",
      "text/plain": [
       "<Figure size 360x288 with 1 Axes>"
      ]
     },
     "metadata": {
      "needs_background": "light"
     },
     "output_type": "display_data"
    }
   ],
   "source": [
    "x = np.array(V_lst)\n",
    "\n",
    "fig, ax = plt.subplots(figsize=(5, 4))\n",
    "fontsize=16\n",
    "\n",
    "ax.hist(x)\n",
    "ax.set_title('voltage at last observed location\\nfor spiral tips living longer than 2ms')\n",
    "ax.set_xlabel('$V_{mem}$ (normalized)',fontsize=fontsize)\n",
    "ax.set_ylabel('freq.',fontsize=fontsize)\n",
    "\n"
   ]
  },
  {
   "cell_type": "code",
   "execution_count": 89,
   "metadata": {
    "ExecuteTime": {
     "end_time": "2020-08-05T16:58:13.536097Z",
     "start_time": "2020-08-05T16:58:13.487984Z"
    }
   },
   "outputs": [],
   "source": [
    "arr = []\n",
    "for si in df.loc[df.particle==pid]['states_nearest'].values:\n",
    "    si = eval(si)\n",
    "    arr.append(si)"
   ]
  },
  {
   "cell_type": "code",
   "execution_count": 90,
   "metadata": {
    "ExecuteTime": {
     "end_time": "2020-08-05T16:58:14.237879Z",
     "start_time": "2020-08-05T16:58:14.210334Z"
    }
   },
   "outputs": [],
   "source": [
    "a,b,c = np.array(arr).T\n",
    "t_values = df.loc[df.particle==pid]['t'].values\n",
    "t_values = t_values-t_values[0]"
   ]
  },
  {
   "cell_type": "code",
   "execution_count": 91,
   "metadata": {
    "ExecuteTime": {
     "end_time": "2020-08-05T16:58:14.751386Z",
     "start_time": "2020-08-05T16:58:14.539595Z"
    }
   },
   "outputs": [
    {
     "data": {
      "text/plain": [
       "<matplotlib.legend.Legend at 0x139d57d60>"
      ]
     },
     "execution_count": 91,
     "metadata": {},
     "output_type": "execute_result"
    },
    {
     "data": {
      "image/png": "[encoded data removed]",
      "text/plain": [
       "<Figure size 360x288 with 1 Axes>"
      ]
     },
     "metadata": {
      "needs_background": "light"
     },
     "output_type": "display_data"
    }
   ],
   "source": [
    "fig, ax = plt.subplots(figsize=(5, 4))\n",
    "fontsize=16\n",
    "\n",
    "plt.plot(t_values, a, label = 'voltage')\n",
    "plt.plot(t_values, b, label = 'fast var')\n",
    "plt.plot(t_values, c, label = 'slow var')\n",
    "\n",
    "ax.set_title('EP state of an example spiral tip (nearest)',fontsize=fontsize)\n",
    "ax.set_xlabel('time (ms)',fontsize=fontsize)\n",
    "ax.set_ylabel('value',fontsize=fontsize)\n",
    "ax.legend()"
   ]
  },
  {
   "cell_type": "code",
   "execution_count": 76,
   "metadata": {
    "ExecuteTime": {
     "end_time": "2020-08-05T16:55:29.385653Z",
     "start_time": "2020-08-05T16:55:29.360565Z"
    }
   },
   "outputs": [
    {
     "data": {
      "text/plain": [
       "array([543.466, 543.473, 543.48 , ..., 553.714, 553.721, 553.728])"
      ]
     },
     "execution_count": 76,
     "metadata": {},
     "output_type": "execute_result"
    }
   ],
   "source": [
    "t_values.values"
   ]
  },
  {
   "cell_type": "code",
   "execution_count": null,
   "metadata": {},
   "outputs": [],
   "source": []
  }
 ],
 "metadata": {
  "kernelspec": {
   "display_name": "Python 3",
   "language": "python",
   "name": "python3"
  },
  "language_info": {
   "codemirror_mode": {
    "name": "ipython",
    "version": 3
   },
   "file_extension": ".py",
   "mimetype": "text/x-python",
   "name": "python",
   "nbconvert_exporter": "python",
   "pygments_lexer": "ipython3",
   "version": "3.8.5"
  },
  "toc": {
   "base_numbering": 1,
   "nav_menu": {},
   "number_sections": false,
   "sideBar": false,
   "skip_h1_title": false,
   "title_cell": "Table of Contents",
   "title_sidebar": "Contents",
   "toc_cell": false,
   "toc_position": {},
   "toc_section_display": false,
   "toc_window_display": false
  },
  "varInspector": {
   "cols": {
    "lenName": 16,
    "lenType": 16,
    "lenVar": 40
   },
   "kernels_config": {
    "python": {
     "delete_cmd_postfix": "",
     "delete_cmd_prefix": "del ",
     "library": "var_list.py",
     "varRefreshCmd": "print(var_dic_list())"
    },
    "r": {
     "delete_cmd_postfix": ") ",
     "delete_cmd_prefix": "rm(",
     "library": "var_list.r",
     "varRefreshCmd": "cat(var_dic_list()) "
    }
   },
   "types_to_exclude": [
    "module",
    "function",
    "builtin_function_or_method",
    "instance",
    "_Feature"
   ],
   "window_display": false
  }
 },
 "nbformat": 4,
 "nbformat_minor": 2
}
