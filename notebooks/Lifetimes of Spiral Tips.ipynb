{
 "cells": [
  {
   "cell_type": "markdown",
   "metadata": {},
   "source": [
    "# (new) estimation of spiral tip lifetimes\n",
    "Tim Tyree<br>\n",
    "12.15.2021"
   ]
  },
  {
   "cell_type": "code",
   "execution_count": 236,
   "metadata": {
    "ExecuteTime": {
     "end_time": "2022-01-25T03:19:20.307306Z",
     "start_time": "2022-01-25T03:19:20.279342Z"
    }
   },
   "outputs": [
    {
     "name": "stdout",
     "output_type": "stream",
     "text": [
      "Automatic calling is: Smart\n",
      "The autoreload extension is already loaded. To reload it, use:\n",
      "  %reload_ext autoreload\n"
     ]
    }
   ],
   "source": [
    "from lib.my_initialization import *\n",
    "from lib import *\n",
    "# from lib.measure.unwrap_and_smooth_cu import *\n",
    "# from lib.rapids_func import *\n",
    "# .routines.unwrap_and_smooth_trajectories_cu import *\n",
    "\n",
    "import itertools\n",
    "import dask_cudf\n",
    "from lib.rapids_func import *\n",
    "get_DT_cu\n",
    "\n",
    "#magic    \n",
    "%autocall 1\n",
    "%load_ext autoreload\n",
    "%autoreload 2\n",
    "\n",
    "import cupy as cp, cudf, numba.cuda as cuda\n",
    "import rmm\n",
    "# Switch to RMM allocator\n",
    "cp.cuda.set_allocator(rmm.rmm_cupy_allocator)\n",
    "\n",
    "darkmode=False\n",
    "if darkmode:\n",
    "    # For darkmode plots\n",
    "    from jupyterthemes import jtplot\n",
    "    jtplot.style(theme='monokai', context='notebook', ticks=True, grid=False)"
   ]
  },
  {
   "cell_type": "code",
   "execution_count": 237,
   "metadata": {
    "ExecuteTime": {
     "end_time": "2022-01-25T03:19:23.516293Z",
     "start_time": "2022-01-25T03:19:23.496052Z"
    }
   },
   "outputs": [],
   "source": [
    "##########################\n",
    "# Perform Averaging\n",
    "##########################\n",
    "tavg1=0\n",
    "tavg2=14#todo 0\n",
    "#one token trajectory file for the fenton karma model and the luo-rudy model\n",
    "input_fn_lst=[\n",
    "# c='C0'\n",
    "# # # # #token FK at DT=0.4\n",
    "\"/home/timothytyree/Documents/GitHub/care/notebooks/Data/initial-conditions-fk-200x200/param_set_8_ds_5.0_tmax_10_diffCoef_0.0005/Log/ic200x200.0.2_traj_sr_400_mem_0.csv\",\n",
    "# c='C1'\n",
    "# #tokenLR at DT=0.5\n",
    "\"/home/timothytyree/Documents/GitHub/care/notebooks/Data/initial-conditions-suite-3-LR/param_qu_tmax_30_Ko_5.4_diffCoef_0.0005_dt_0.5/trajectories/ic002.11_traj_sr_600_mem_0.csv\",   \n",
    "]\n",
    "\n",
    "data_dir_fk='/home/timothytyree/Documents/GitHub/bgmc/python/data/full_results/annihilation_data_fk_tavg1_0.0_tavg2_14.00.csv'\n",
    "data_dir_lr='/home/timothytyree/Documents/GitHub/bgmc/python/data/full_results/annihilation_data_lr_tavg1_0.0_tavg2_14.00.csv'"
   ]
  },
  {
   "cell_type": "code",
   "execution_count": 179,
   "metadata": {
    "ExecuteTime": {
     "end_time": "2022-01-25T00:01:17.868764Z",
     "start_time": "2022-01-24T23:58:10.438684Z"
    }
   },
   "outputs": [
    {
     "name": "stdout",
     "output_type": "stream",
     "text": [
      "estimated runtime: 4.5 minutes\n",
      "324\n",
      "computing lifetimes for 324 trials.\n"
     ]
    }
   ],
   "source": [
    "print(f\"estimated runtime: {4+0.5} minutes\")\n",
    "df_annihilation=cudf.read_csv(data_dir_fk)\n",
    "event_index_values=df_annihilation[['event_id_int','pid_self','pid_other']].drop_duplicates().values.get()\n",
    "input_fn=\"/home/timothytyree/Documents/GitHub/care/notebooks/Data/initial-conditions-fk-200x200/param_set_8_ds_5.0_tmax_10_diffCoef_0.0005/Log/ic200x200.0.2_traj_sr_400_mem_0.csv\"\n",
    "input_fn_lst=get_all_files_matching_pattern(input_fn,trgt='_unwrap.csv')\n",
    "print(len(input_fn_lst))\n",
    "lifetime_lst_lst=[comp_lifetimes(input_fn,event_index_values) for input_fn in input_fn_lst]\n",
    "\n",
    "df_annihilation=cudf.read_csv(data_dir_fk)\n",
    "event_index_values=df_annihilation[['event_id_int','pid_self','pid_other']].drop_duplicates().values.get()\n",
    "\n",
    "#FK\n",
    "input_fn=\"/home/timothytyree/Documents/GitHub/care/notebooks/Data/initial-conditions-fk-200x200/param_set_8_ds_5.0_tmax_10_diffCoef_0.0005/Log/ic200x200.0.2_traj_sr_400_mem_0.csv\"\n",
    "input_fn_lst=get_all_files_matching_pattern(input_fn,trgt='_unwrap.csv')\n",
    "print(f\"computing lifetimes for {len(input_fn_lst)} trials.\")\n",
    "lifetime_lst_lst=[comp_lifetimes(input_fn,event_index_values) for input_fn in input_fn_lst]\n",
    "lifetime_values=np.concatenate(lifetime_lst_lst)\n",
    "lifetime_values_FK=lifetime_values.copy()"
   ]
  },
  {
   "cell_type": "code",
   "execution_count": 180,
   "metadata": {
    "ExecuteTime": {
     "end_time": "2022-01-25T00:01:47.661886Z",
     "start_time": "2022-01-25T00:01:18.202051Z"
    }
   },
   "outputs": [
    {
     "name": "stdout",
     "output_type": "stream",
     "text": [
      "computing lifetimes for 159 trials.\n"
     ]
    }
   ],
   "source": [
    "#LR\n",
    "input_fn=\"/home/timothytyree/Documents/GitHub/care/notebooks/Data/initial-conditions-suite-3-LR/param_qu_tmax_30_Ko_5.4_diffCoef_0.0005_dt_0.5/trajectories_unwrap/ic001.33_traj_sr_600_mem_0_unwrap.csv\"\n",
    "df_annihilation=cudf.read_csv(data_dir_lr)\n",
    "event_index_values=df_annihilation[['event_id_int','pid_self','pid_other']].drop_duplicates().values.get()\n",
    "input_fn_lst=get_all_files_matching_pattern(input_fn,trgt='_unwrap.csv')\n",
    "print(f\"computing lifetimes for {len(input_fn_lst)} trials.\")\n",
    "lifetime_lst_lst=[comp_lifetimes(input_fn,event_index_values) for input_fn in input_fn_lst]\n",
    "lifetime_values_LR=np.concatenate(lifetime_lst_lst)"
   ]
  },
  {
   "cell_type": "code",
   "execution_count": 185,
   "metadata": {
    "ExecuteTime": {
     "end_time": "2022-01-25T00:15:05.904047Z",
     "start_time": "2022-01-25T00:15:05.880410Z"
    }
   },
   "outputs": [
    {
     "name": "stdout",
     "output_type": "stream",
     "text": [
      "def comp_lifetimes(input_fn,event_index_values):\n",
      "    fn = os.path.basename(input_fn)\n",
      "    event_id_int=int(float('1'+(''.join(re.findall(r'-?\\d+\\d*',fn)))))\n",
      "    event_id_int\n",
      "\n",
      "    #get a unique list of all particles involved in an annihilation event for this event_id_int\n",
      "    pid_lst=[]\n",
      "    for x in event_index_values:\n",
      "        if int(x[0])==event_id_int:\n",
      "            pid_lst.append(int(x[1]))\n",
      "            pid_lst.append(int(x[2]))\n",
      "\n",
      "    pid_values=np.unique(np.array(pid_lst))\n",
      "    # assert len(pid_lst)==pid_values.shape[0]\n",
      "\n",
      "    #for each pid, compute v_rms and the lifetime\n",
      "    df=pd.read_csv(input_fn)\n",
      "\n",
      "    lifetime_lst=[]\n",
      "    for pid in pid_values:\n",
      "        #compute time series data\n",
      "        txy_values=df.loc[df['particle']==pid,['t','x','y']].values\n",
      "        t_values=txy_values[:,0]-np.min(txy_values[:,0])\n",
      "        #compute particle averaged values\n",
      "        lifetime=(np.max(t_values)-np.min(t_values))*1e-3 #seconds\n",
      "        #record\n",
      "        lifetime_lst.append(lifetime)\n",
      "    return lifetime_lst\n",
      "\n"
     ]
    }
   ],
   "source": [
    "print(getsource(comp_lifetimes))"
   ]
  },
  {
   "cell_type": "code",
   "execution_count": 181,
   "metadata": {
    "ExecuteTime": {
     "end_time": "2022-01-25T00:01:48.040651Z",
     "start_time": "2022-01-25T00:01:47.969960Z"
    }
   },
   "outputs": [
    {
     "name": "stdout",
     "output_type": "stream",
     "text": [
      "the mean value is 0.3101+/-0.0035, with test for normality (p=0.5399)\n",
      "num_samples=43306\n",
      "the mean value is 0.0827+/-0.0009, with test for normality (p=0.3152)\n",
      "num_samples=10362\n"
     ]
    }
   ],
   "source": [
    "#bootstrap the mean for either case\n",
    "values=lifetime_values_FK.copy()\n",
    "mean_value,Delta_mean,p=bootstrap_mean_95CI_and_print_cu(values)\n",
    "print(f\"num_samples={values.shape[0]}\")\n",
    "\n",
    "values=lifetime_values_LR.copy()\n",
    "mean_value,Delta_mean,p=bootstrap_mean_95CI_and_print_cu(values)\n",
    "print(f\"num_samples={values.shape[0]}\")"
   ]
  },
  {
   "cell_type": "markdown",
   "metadata": {},
   "source": [
    "### compute mean lifetime of all spiral tips for the luo-rudy model"
   ]
  },
  {
   "cell_type": "code",
   "execution_count": 239,
   "metadata": {
    "ExecuteTime": {
     "end_time": "2022-01-25T03:19:34.891638Z",
     "start_time": "2022-01-25T03:19:34.869759Z"
    }
   },
   "outputs": [],
   "source": [
    "# from inspect import getsource"
   ]
  },
  {
   "cell_type": "code",
   "execution_count": 240,
   "metadata": {
    "ExecuteTime": {
     "end_time": "2022-01-25T03:19:37.804495Z",
     "start_time": "2022-01-25T03:19:37.781197Z"
    }
   },
   "outputs": [],
   "source": [
    "# #TODO: dev comp_lifetimes_simple from comp_lifetimes\n",
    "# # print (getsource (comp_lifetimes) )\n",
    "# def comp_lifetimes_simple(input_fn,pid_col='particle'):\n",
    "#     \"\"\"\n",
    "#     Example Usage:\n",
    "# lifetime_lst=comp_lifetimes_simple(input_fn)\n",
    "#     \"\"\"\n",
    "#     #for each pid, compute v_rms and the lifetime\n",
    "#     df=pd.read_csv(input_fn)\n",
    "#     pid_values=df[pid_col].values\n",
    "#     lifetime_lst=[]\n",
    "#     for pid in pid_values:\n",
    "#         #compute time series data\n",
    "#         txy_values=df.loc[df[pid_col]==pid,['t','x','y']].values\n",
    "#         t_values=txy_values[:,0]-np.min(txy_values[:,0])\n",
    "#         #compute particle averaged values\n",
    "#         lifetime=(np.max(t_values)-np.min(t_values))*1e-3 #seconds\n",
    "#         #record\n",
    "#         lifetime_lst.append(lifetime)\n",
    "#     return lifetime_lst"
   ]
  },
  {
   "cell_type": "code",
   "execution_count": 241,
   "metadata": {
    "ExecuteTime": {
     "end_time": "2022-01-25T03:19:40.697864Z",
     "start_time": "2022-01-25T03:19:40.677785Z"
    }
   },
   "outputs": [],
   "source": [
    "# def routine(input_fn):\n",
    "#     pid_col='particle'\n",
    "#     t_col='t'\n",
    "#     df=pd.read_csv(input_fn)\n",
    "#     groups=df.groupby(pid_col)\n",
    "#     lifetime_lst=[]\n",
    "#     for n,g in groups:\n",
    "#         lifetime=g['t'].max()-g['t'].min()\n",
    "#         lifetime*=1e-3 #seconds\n",
    "#         lifetime_lst.append(lifetime)\n",
    "#     return lifetime_lst"
   ]
  },
  {
   "cell_type": "code",
   "execution_count": 242,
   "metadata": {
    "ExecuteTime": {
     "end_time": "2022-01-25T03:21:20.851463Z",
     "start_time": "2022-01-25T03:19:43.656632Z"
    }
   },
   "outputs": [],
   "source": [
    "# # TODO: test this works and the results are reasonable on 1 input_fn\n",
    "# lifetime_lst=comp_lifetimes_simple(input_fn)\n",
    "\n",
    "# #TODO: make a dask bag do this"
   ]
  },
  {
   "cell_type": "code",
   "execution_count": 395,
   "metadata": {
    "ExecuteTime": {
     "end_time": "2022-01-25T23:02:56.789407Z",
     "start_time": "2022-01-25T23:02:56.762976Z"
    }
   },
   "outputs": [],
   "source": [
    "def comp_lifetimes_simpler(\n",
    "        input_fn,\n",
    "        pid_col='particle',\n",
    "        t_col='t'):\n",
    "    \"\"\"\n",
    "    Example Usage:\n",
    "df_lifetime=comp_lifetimes_simpler(input_fn)\n",
    "    \"\"\"\n",
    "    df=pd.read_csv(input_fn)\n",
    "    groups=df.groupby(pid_col)\n",
    "    lifetime_lst=[]\n",
    "    pid_lst=[]\n",
    "    tmax_lst=[]\n",
    "    tmin_lst=[]\n",
    "    for pid,g in groups:\n",
    "        tmin=g['t'].min()\n",
    "        tmax=g['t'].max()\n",
    "        lifetime=tmax-tmin\n",
    "        lifetime*=1e-3 #seconds\n",
    "        #record\n",
    "        pid_lst.append(pid)\n",
    "        tmin_lst.append(tmin)\n",
    "        tmax_lst.append(tmax)\n",
    "        lifetime_lst.append(lifetime)\n",
    "    df_lifetime=pd.DataFrame({\n",
    "        pid_col:pid_lst,\n",
    "        'tmin':tmin_lst,\n",
    "        'tmax':tmax_lst,\n",
    "        'lifetime':lifetime_lst\n",
    "    })\n",
    "    return df_lifetime"
   ]
  },
  {
   "cell_type": "code",
   "execution_count": 397,
   "metadata": {
    "ExecuteTime": {
     "end_time": "2022-01-25T23:03:06.616336Z",
     "start_time": "2022-01-25T23:03:06.597223Z"
    }
   },
   "outputs": [],
   "source": [
    "printing=True"
   ]
  },
  {
   "cell_type": "code",
   "execution_count": 399,
   "metadata": {
    "ExecuteTime": {
     "end_time": "2022-01-25T23:06:51.042495Z",
     "start_time": "2022-01-25T23:05:07.105664Z"
    }
   },
   "outputs": [
    {
     "name": "stdout",
     "output_type": "stream",
     "text": [
      "computing lifetimes for 159 trials.\n",
      "run time for bootstrapping was 102.87 seconds.\n",
      "Luo-Rudy Model:\n",
      "mean lifetime is 15.5618 milliseconds\n",
      "stdev lifetime is 34.7995 milliseconds\n",
      "Deltahat_lifetime is 0.9529 milliseconds\n",
      "Deltahat_lifetime was computed as stdev(.)/np.sqrt(mean_number_particles_per_termination_event)\n",
      "mean_number_particles_per_termination_event: 5123.4843\n"
     ]
    }
   ],
   "source": [
    "#LR\n",
    "input_fn=\"/home/timothytyree/Documents/GitHub/care/notebooks/Data/initial-conditions-suite-3-LR/param_qu_tmax_30_Ko_5.4_diffCoef_0.0005_dt_0.5/trajectories/ic001.33_traj_sr_600_mem_0.csv\"\n",
    "# df_annihilation=cudf.read_csv(data_dir_lr)\n",
    "# event_index_values=df_annihilation[['event_id_int','pid_self','pid_other']].drop_duplicates().values.get()\n",
    "input_fn_lst=get_all_files_matching_pattern(input_fn,trgt='.csv')\n",
    "print(f\"computing lifetimes for {len(input_fn_lst)} trials.\")\n",
    "\n",
    "npartitions=10\n",
    "df_lifetime=comp_lifetimes_simpler(input_fn)\n",
    "def routine(input_fn):\n",
    "    return comp_lifetimes_simpler(input_fn)\n",
    "#all CPU version\n",
    "b = db.from_sequence(input_fn_lst, npartitions=npartitions).map(routine)\n",
    "start = time.time()\n",
    "retval = list(b)\n",
    "\n",
    "if printing:\n",
    "    print(f\"run time for bootstrapping was {time.time()-start:.2f} seconds.\")\n",
    "df_lifetime_lst=retval\n",
    "\n",
    "df_lifetimes=pd.concat(df_lifetime_lst)\n",
    "# df_lifetimes.shape\n",
    "\n",
    "print(f\"Luo-Rudy Model:\")\n",
    "num_particles=df_lifetimes.shape[0]\n",
    "num_trials=len(input_fn_lst)\n",
    "# num_particles/num_trials\n",
    "#DONE: compute & print mean lifetime value\n",
    "GammaBar_Observed=np.mean(df_lifetimes['lifetime'])#.shape\n",
    "std_GammaBar_Observed=np.std(df_lifetimes['lifetime'])#.shape\n",
    "Deltahat_GammaBar_Observed=1.96*np.std(df_lifetimes['lifetime'])/np.sqrt(num_particles/num_trials)#.shape\n",
    "# Deltahat_GammaBar_Observed=1.96*np.std(df_lifetimes['lifetime'])/np.sqrt(num_particles)#.shape\n",
    "# Delta_GammaBar_Observed=np.mean(df_lifetimes['lifetime'])#.shape\n",
    "print(f\"mean lifetime is {GammaBar_Observed*1e3:.4f} milliseconds\")\n",
    "print(f\"stdev lifetime is {std_GammaBar_Observed*1e3:.4f} milliseconds\")\n",
    "print(f\"Deltahat_lifetime is {Deltahat_GammaBar_Observed*1e3:.4f} milliseconds\")\n",
    "print(f\"Deltahat_lifetime was computed as stdev(.)/np.sqrt(mean_number_particles_per_termination_event)\")\n",
    "print(f\"mean_number_particles_per_termination_event: {num_particles/num_trials:.4f}\")\n",
    "lifetime_values_LR=df_lifetimes['lifetime'].values\n",
    "#TODO: what's the standard error of 1 trial?\n",
    "# hint: what is num_particles/num_trials"
   ]
  },
  {
   "cell_type": "code",
   "execution_count": 400,
   "metadata": {
    "ExecuteTime": {
     "end_time": "2022-01-25T23:06:52.893084Z",
     "start_time": "2022-01-25T23:06:52.866798Z"
    }
   },
   "outputs": [],
   "source": [
    "df_lifetimes_lr=df_lifetimes.copy()"
   ]
  },
  {
   "cell_type": "code",
   "execution_count": 401,
   "metadata": {
    "ExecuteTime": {
     "end_time": "2022-01-25T23:07:50.682140Z",
     "start_time": "2022-01-25T23:06:54.648918Z"
    }
   },
   "outputs": [
    {
     "name": "stdout",
     "output_type": "stream",
     "text": [
      "computing lifetimes for 324 trials.\n",
      "run time for bootstrapping was 55.82 seconds.\n",
      "Fenton-Karma Model:\n",
      "mean lifetime is 197.3891 milliseconds\n",
      "stdev lifetime is 337.2714 milliseconds\n",
      "Deltahat_lifetime is 36.3267 milliseconds\n",
      "Deltahat_lifetime was computed as stdev(.)/np.sqrt(mean_number_particles_per_termination_event)\n",
      "mean_number_particles_per_termination_event: 331.1451\n"
     ]
    }
   ],
   "source": [
    "#FK\n",
    "# input_fn=\"/home/timothytyree/Documents/GitHub/care/notebooks/Data/initial-conditions-fk-200x200/param_set_8_ds_5.0_tmax_10_diffCoef_0.0005/Log/ic200x200.0.2_traj_sr_400_mem_0.csv\"\n",
    "# input_fn_lst=get_all_files_matching_pattern(input_fn,trgt='_unwrap.csv')\n",
    "input_fn=\"/home/timothytyree/Documents/GitHub/care/notebooks/Data/initial-conditions-fk-200x200/param_set_8_ds_5.0_tmax_10_diffCoef_0.0005/Log/ic200x200.0.2_traj_sr_400_mem_0.csv\"\n",
    "input_fn_lst=get_all_files_matching_pattern(input_fn,trgt='.csv')\n",
    "input_fn_lst=[x for x in input_fn_lst if (x.find('_traj')!=-1)&(x.find('_unwrap')==-1)]\n",
    "print(f\"computing lifetimes for {len(input_fn_lst)} trials.\")\n",
    "# lifetime_lst_lst=[comp_lifetimes(input_fn,event_index_values) for input_fn in input_fn_lst]\n",
    "# lifetime_values=np.concatenate(lifetime_lst_lst)\n",
    "# lifetime_values_FK=lifetime_values.copy()\n",
    "\n",
    "npartitions=10\n",
    "df_lifetime=comp_lifetimes_simpler(input_fn)\n",
    "def routine(input_fn):\n",
    "    return comp_lifetimes_simpler(input_fn)\n",
    "#all CPU version\n",
    "b = db.from_sequence(input_fn_lst, npartitions=npartitions).map(routine)\n",
    "start = time.time()\n",
    "retval = list(b)\n",
    "\n",
    "if printing:\n",
    "    print(f\"run time for bootstrapping was {time.time()-start:.2f} seconds.\")\n",
    "df_lifetime_lst=retval\n",
    "\n",
    "df_lifetimes=pd.concat(df_lifetime_lst)\n",
    "df_lifetimes.shape\n",
    "\n",
    "print(f\"Fenton-Karma Model:\")\n",
    "num_particles=df_lifetimes.shape[0]\n",
    "num_trials=len(input_fn_lst)\n",
    "# num_particles/num_trials\n",
    "#DONE: compute & print mean lifetime value\n",
    "GammaBar_Observed=np.mean(df_lifetimes['lifetime'])#.shape\n",
    "std_GammaBar_Observed=np.std(df_lifetimes['lifetime'])#.shape\n",
    "Deltahat_GammaBar_Observed=1.96*np.std(df_lifetimes['lifetime'])/np.sqrt(num_particles/num_trials)#.shape\n",
    "# Deltahat_GammaBar_Observed=1.96*np.std(df_lifetimes['lifetime'])/np.sqrt(num_particles)#.shape\n",
    "# Delta_GammaBar_Observed=np.mean(df_lifetimes['lifetime'])#.shape\n",
    "print(f\"mean lifetime is {GammaBar_Observed*1e3:.4f} milliseconds\")\n",
    "print(f\"stdev lifetime is {std_GammaBar_Observed*1e3:.4f} milliseconds\")\n",
    "print(f\"Deltahat_lifetime is {Deltahat_GammaBar_Observed*1e3:.4f} milliseconds\")\n",
    "print(f\"Deltahat_lifetime was computed as stdev(.)/np.sqrt(mean_number_particles_per_termination_event)\")\n",
    "print(f\"mean_number_particles_per_termination_event: {num_particles/num_trials:.4f}\")\n",
    "lifetime_values_FK=df_lifetimes['lifetime'].values\n",
    "#TODO: what's the standard error of 1 trial?\n",
    "# hint: what is num_particles/num_trials\n",
    "df_lifetimes_fk=df_lifetimes.copy()"
   ]
  },
  {
   "cell_type": "code",
   "execution_count": 402,
   "metadata": {
    "ExecuteTime": {
     "end_time": "2022-01-25T23:07:53.830415Z",
     "start_time": "2022-01-25T23:07:53.809662Z"
    }
   },
   "outputs": [
    {
     "data": {
      "text/plain": [
       "dict"
      ]
     },
     "execution_count": 402,
     "metadata": {},
     "output_type": "execute_result"
    }
   ],
   "source": [
    "lifetime_values_FK*=1e3\n",
    "lifetime_values_LR*=1e3\n",
    "\n",
    "#DONE: save results as pkl\n",
    "import pickle\n",
    "\n",
    "dict_lifetimes = {'lr': {'tbins':bins, 'pdf_bar_heights':bar_heights_lr},\n",
    "     'fk': {'tbins':bins, 'pdf_bar_heights':bar_heights_fk}\n",
    "    }\n",
    "\n",
    "lifetime_pdf_dir=\"/home/timothytyree/Documents/GitHub/bgmc/python/data/full_results/lifetimes.pkl\"\n",
    "\n",
    "with open(lifetime_pdf_dir, 'wb') as handle:\n",
    "    pickle.dump(dict_lifetimes, handle, protocol=pickle.HIGHEST_PROTOCOL)\n",
    "\n",
    "with open(lifetime_pdf_dir, 'rb') as handle:\n",
    "    b = pickle.load(handle)\n",
    "    \n",
    "# assert dict_lifetimes==b\n",
    "type(b)"
   ]
  },
  {
   "cell_type": "code",
   "execution_count": 403,
   "metadata": {
    "ExecuteTime": {
     "end_time": "2022-01-25T23:07:57.584365Z",
     "start_time": "2022-01-25T23:07:56.945557Z"
    }
   },
   "outputs": [
    {
     "name": "stdout",
     "output_type": "stream",
     "text": [
      "\u0007\u0007\u0007"
     ]
    },
    {
     "data": {
      "text/plain": [
       "0"
      ]
     },
     "execution_count": 403,
     "metadata": {},
     "output_type": "execute_result"
    }
   ],
   "source": [
    "beep(3)"
   ]
  },
  {
   "cell_type": "code",
   "execution_count": 251,
   "metadata": {
    "ExecuteTime": {
     "end_time": "2022-01-25T03:23:22.438096Z",
     "start_time": "2022-01-25T03:23:22.418089Z"
    }
   },
   "outputs": [],
   "source": [
    "#  MemoryError: std::bad_alloc: CUDA error at:\n",
    "#                         # #bootstrap the mean for either case\n",
    "# # values=lifetime_values_FK.copy()\n",
    "# # mean_value,Delta_mean,p=bootstrap_mean_95CI_and_print_cu(values)\n",
    "# # print(f\"num_samples={values.shape[0]}\")\n",
    "\n",
    "# # values=lifetime_values_LR.copy()\n",
    "# # mean_value,Delta_mean,p=bootstrap_mean_95CI_and_print_cu(values)\n",
    "# # print(f\"num_samples={values.shape[0]}\")"
   ]
  },
  {
   "cell_type": "markdown",
   "metadata": {},
   "source": [
    "__Evidence in Support of Consistency of the Isoparameteric Annihilation Theory with the Short-Lived Luo-Rudy (LR) model__\n",
    "> np.mean(df_lifetime['lifetime'])\n",
    "\n",
    "yielded 0.0157177835050894 seconds\n",
    "\n",
    "- ^that just said the mean lifetime for one LR trial was 15.7ms...\n",
    "- ^that is within striking distance of the 12ms value for the effective lifetime\n",
    "\n",
    "\n",
    "DONE: measure whether the ensemble averaged lifetime is consistent with the effective lifetime.\n",
    "- A: Yes. It's dang close to 12 milliseconds.\n",
    "\n",
    "`\n",
    "    Luo-Rudy Model:\n",
    "    mean lifetime is 15.5618 milliseconds\n",
    "    stdev lifetime is 34.7995 milliseconds\n",
    "    Deltahat_lifetime is 0.9529 milliseconds\n",
    "    Deltahat_lifetime was computed as stdev(.)/np.sqrt(mean_number_particles_per_termination_event)\n",
    "    mean_number_particles_per_termination_event: 5123.4843\n",
    "    `\n",
    "- DONE: measure fenton-karma model apparent lifetime\n",
    "- DONT(p said it was normally distributed...): measure the bootstrapped mean?    \n",
    "- TODO: dev sketch figure 3 on ipad\n",
    "\n",
    "before unwrapping\n",
    "\n",
    "`\n",
    "Fenton-Karma Model:\n",
    "mean lifetime is 197.3891 milliseconds\n",
    "stdev lifetime is 337.2714 milliseconds\n",
    "Deltahat_lifetime is 36.3267 milliseconds\n",
    "Deltahat_lifetime was computed as stdev(.)/np.sqrt(mean_number_particles_per_termination_event)\n",
    "mean_number_particles_per_termination_event: 331.1451`\n",
    "\n",
    "\n",
    "after unwrapping\n",
    "`\n",
    "    Fenton-Karma Model:\n",
    "    mean lifetime is 208.8712 milliseconds\n",
    "    stdev lifetime is 343.4686 milliseconds\n",
    "    Deltahat_lifetime is 38.0550 milliseconds\n",
    "    Deltahat_lifetime was computed as stdev(.)/np.sqrt(mean_number_particles_per_termination_event)\n",
    "    mean_number_particles_per_termination_event: 312.9414\n",
    "    `"
   ]
  },
  {
   "cell_type": "code",
   "execution_count": null,
   "metadata": {
    "ExecuteTime": {
     "end_time": "2022-01-25T23:04:53.619981Z",
     "start_time": "2022-01-25T23:04:53.619970Z"
    }
   },
   "outputs": [],
   "source": [
    "bootstrap_mean_95CI_and_print_cu(lifetime_values_FK)"
   ]
  },
  {
   "cell_type": "markdown",
   "metadata": {},
   "source": [
    "__FK__\n",
    "the mean value is 0.1974+/-0.0020, with test for normality (p=0.1554)"
   ]
  },
  {
   "cell_type": "code",
   "execution_count": 385,
   "metadata": {
    "ExecuteTime": {
     "end_time": "2022-01-25T21:26:54.320163Z",
     "start_time": "2022-01-25T21:26:54.237497Z"
    }
   },
   "outputs": [
    {
     "ename": "MemoryError",
     "evalue": "std::bad_alloc: CUDA error at: /home/timothytyree/anaconda3/envs/pyenv_ub/include/rmm/mr/device/cuda_memory_resource.hpp:69: cudaErrorMemoryAllocation out of memory",
     "output_type": "error",
     "traceback": [
      "\u001b[0;31m---------------------------------------------------------------------------\u001b[0m",
      "\u001b[0;31mMemoryError\u001b[0m                               Traceback (most recent call last)",
      "\u001b[0;32m/tmp/ipykernel_2503990/1522971753.py\u001b[0m in \u001b[0;36m<module>\u001b[0;34m\u001b[0m\n\u001b[0;32m----> 1\u001b[0;31m \u001b[0mbootstrap_mean_95CI_and_print_cu\u001b[0m\u001b[0;34m(\u001b[0m\u001b[0mlifetime_values_LR\u001b[0m\u001b[0;34m)\u001b[0m\u001b[0;34m\u001b[0m\u001b[0;34m\u001b[0m\u001b[0m\n\u001b[0m",
      "\u001b[0;32m~/Documents/GitHub/care/notebooks/lib/rapids_func/measure/bootstrap_cu.py\u001b[0m in \u001b[0;36mbootstrap_mean_95CI_and_print_cu\u001b[0;34m(values, seed, printing, num_samples, include_normaltest_slowly, use_seed, **kwargs)\u001b[0m\n\u001b[1;32m     14\u001b[0m     \u001b[0;32mif\u001b[0m \u001b[0muse_seed\u001b[0m\u001b[0;34m:\u001b[0m\u001b[0;34m\u001b[0m\u001b[0;34m\u001b[0m\u001b[0m\n\u001b[1;32m     15\u001b[0m         \u001b[0mcp\u001b[0m\u001b[0;34m.\u001b[0m\u001b[0mrandom\u001b[0m\u001b[0;34m.\u001b[0m\u001b[0mseed\u001b[0m\u001b[0;34m(\u001b[0m\u001b[0mseed\u001b[0m\u001b[0;34m)\u001b[0m\u001b[0;34m\u001b[0m\u001b[0;34m\u001b[0m\u001b[0m\n\u001b[0;32m---> 16\u001b[0;31m     \u001b[0mDelta_mean\u001b[0m\u001b[0;34m,\u001b[0m\u001b[0mp\u001b[0m\u001b[0;34m=\u001b[0m\u001b[0mbootstrap_95CI_Delta_mean_cu\u001b[0m\u001b[0;34m(\u001b[0m\u001b[0mcp\u001b[0m\u001b[0;34m.\u001b[0m\u001b[0marray\u001b[0m\u001b[0;34m(\u001b[0m\u001b[0mvalues\u001b[0m\u001b[0;34m)\u001b[0m\u001b[0;34m,\u001b[0m\u001b[0mnum_samples\u001b[0m\u001b[0;34m=\u001b[0m\u001b[0mnum_samples\u001b[0m\u001b[0;34m,\u001b[0m \u001b[0minclude_normaltest_slowly\u001b[0m\u001b[0;34m=\u001b[0m\u001b[0minclude_normaltest_slowly\u001b[0m\u001b[0;34m)\u001b[0m\u001b[0;34m\u001b[0m\u001b[0;34m\u001b[0m\u001b[0m\n\u001b[0m\u001b[1;32m     17\u001b[0m     \u001b[0mmean_value\u001b[0m\u001b[0;34m=\u001b[0m\u001b[0mnp\u001b[0m\u001b[0;34m.\u001b[0m\u001b[0mmean\u001b[0m\u001b[0;34m(\u001b[0m\u001b[0mvalues\u001b[0m\u001b[0;34m)\u001b[0m\u001b[0;34m\u001b[0m\u001b[0;34m\u001b[0m\u001b[0m\n\u001b[1;32m     18\u001b[0m     \u001b[0;32mif\u001b[0m \u001b[0mprinting\u001b[0m\u001b[0;34m:\u001b[0m\u001b[0;34m\u001b[0m\u001b[0;34m\u001b[0m\u001b[0m\n",
      "\u001b[0;32m~/Documents/GitHub/care/notebooks/lib/rapids_func/measure/bootstrap_cu.py\u001b[0m in \u001b[0;36mbootstrap_95CI_Delta_mean_cu\u001b[0;34m(x, num_samples, include_normaltest_slowly)\u001b[0m\n\u001b[1;32m     29\u001b[0m     \u001b[0mDelta_mean\u001b[0m\u001b[0;34m,\u001b[0m\u001b[0mp\u001b[0m\u001b[0;34m=\u001b[0m\u001b[0mbootstrap_95CI_Delta_mean_cu\u001b[0m\u001b[0;34m(\u001b[0m\u001b[0mvalues\u001b[0m\u001b[0;34m,\u001b[0m\u001b[0mnum_samples\u001b[0m\u001b[0;34m=\u001b[0m\u001b[0;36m1000\u001b[0m\u001b[0;34m)\u001b[0m\u001b[0;34m\u001b[0m\u001b[0;34m\u001b[0m\u001b[0m\n\u001b[1;32m     30\u001b[0m     '''\n\u001b[0;32m---> 31\u001b[0;31m     \u001b[0mmean_values\u001b[0m\u001b[0;34m=\u001b[0m\u001b[0mbootstrap_mean_cu\u001b[0m\u001b[0;34m(\u001b[0m\u001b[0mx\u001b[0m\u001b[0;34m,\u001b[0m\u001b[0mnum_samples\u001b[0m\u001b[0;34m=\u001b[0m\u001b[0mnum_samples\u001b[0m\u001b[0;34m)\u001b[0m\u001b[0;34m\u001b[0m\u001b[0;34m\u001b[0m\u001b[0m\n\u001b[0m\u001b[1;32m     32\u001b[0m     \u001b[0msig\u001b[0m\u001b[0;34m=\u001b[0m\u001b[0mcp\u001b[0m\u001b[0;34m.\u001b[0m\u001b[0mstd\u001b[0m\u001b[0;34m(\u001b[0m\u001b[0mmean_values\u001b[0m\u001b[0;34m)\u001b[0m\u001b[0;34m\u001b[0m\u001b[0;34m\u001b[0m\u001b[0m\n\u001b[1;32m     33\u001b[0m     \u001b[0;32mif\u001b[0m \u001b[0minclude_normaltest_slowly\u001b[0m\u001b[0;34m:\u001b[0m\u001b[0;34m\u001b[0m\u001b[0;34m\u001b[0m\u001b[0m\n",
      "\u001b[0;32m~/Documents/GitHub/care/notebooks/lib/rapids_func/measure/bootstrap_cu.py\u001b[0m in \u001b[0;36mbootstrap_mean_cu\u001b[0;34m(x, num_samples)\u001b[0m\n\u001b[1;32m     22\u001b[0m \u001b[0;32mdef\u001b[0m \u001b[0mbootstrap_mean_cu\u001b[0m\u001b[0;34m(\u001b[0m\u001b[0mx\u001b[0m\u001b[0;34m,\u001b[0m\u001b[0mnum_samples\u001b[0m\u001b[0;34m)\u001b[0m\u001b[0;34m:\u001b[0m\u001b[0;34m\u001b[0m\u001b[0;34m\u001b[0m\u001b[0m\n\u001b[1;32m     23\u001b[0m     \u001b[0msizex\u001b[0m\u001b[0;34m=\u001b[0m\u001b[0mx\u001b[0m\u001b[0;34m.\u001b[0m\u001b[0mshape\u001b[0m\u001b[0;34m[\u001b[0m\u001b[0;36m0\u001b[0m\u001b[0;34m]\u001b[0m\u001b[0;34m\u001b[0m\u001b[0;34m\u001b[0m\u001b[0m\n\u001b[0;32m---> 24\u001b[0;31m     \u001b[0;32mreturn\u001b[0m \u001b[0mcp\u001b[0m\u001b[0;34m.\u001b[0m\u001b[0mmean\u001b[0m\u001b[0;34m(\u001b[0m\u001b[0mx\u001b[0m\u001b[0;34m[\u001b[0m\u001b[0mcp\u001b[0m\u001b[0;34m.\u001b[0m\u001b[0mrandom\u001b[0m\u001b[0;34m.\u001b[0m\u001b[0mrandint\u001b[0m\u001b[0;34m(\u001b[0m\u001b[0mlow\u001b[0m\u001b[0;34m=\u001b[0m\u001b[0;36m0\u001b[0m\u001b[0;34m,\u001b[0m \u001b[0mhigh\u001b[0m\u001b[0;34m=\u001b[0m\u001b[0msizex\u001b[0m\u001b[0;34m,\u001b[0m \u001b[0msize\u001b[0m\u001b[0;34m=\u001b[0m\u001b[0msizex\u001b[0m\u001b[0;34m*\u001b[0m\u001b[0mnum_samples\u001b[0m\u001b[0;34m,\u001b[0m \u001b[0mdtype\u001b[0m\u001b[0;34m=\u001b[0m\u001b[0mint\u001b[0m\u001b[0;34m)\u001b[0m\u001b[0;34m.\u001b[0m\u001b[0mreshape\u001b[0m\u001b[0;34m(\u001b[0m\u001b[0;34m(\u001b[0m\u001b[0msizex\u001b[0m\u001b[0;34m,\u001b[0m\u001b[0mnum_samples\u001b[0m\u001b[0;34m)\u001b[0m\u001b[0;34m)\u001b[0m\u001b[0;34m]\u001b[0m\u001b[0;34m,\u001b[0m\u001b[0maxis\u001b[0m\u001b[0;34m=\u001b[0m\u001b[0;36m0\u001b[0m\u001b[0;34m)\u001b[0m\u001b[0;34m\u001b[0m\u001b[0;34m\u001b[0m\u001b[0m\n\u001b[0m\u001b[1;32m     25\u001b[0m \u001b[0;34m\u001b[0m\u001b[0m\n\u001b[1;32m     26\u001b[0m \u001b[0;32mdef\u001b[0m \u001b[0mbootstrap_95CI_Delta_mean_cu\u001b[0m\u001b[0;34m(\u001b[0m\u001b[0mx\u001b[0m\u001b[0;34m,\u001b[0m\u001b[0mnum_samples\u001b[0m\u001b[0;34m=\u001b[0m\u001b[0;36m1000\u001b[0m\u001b[0;34m,\u001b[0m \u001b[0minclude_normaltest_slowly\u001b[0m\u001b[0;34m=\u001b[0m\u001b[0;32mFalse\u001b[0m\u001b[0;34m)\u001b[0m\u001b[0;34m:\u001b[0m\u001b[0;34m\u001b[0m\u001b[0;34m\u001b[0m\u001b[0m\n",
      "\u001b[0;32m~/anaconda3/envs/pyenv_ub/lib/python3.7/site-packages/cupy/random/_sample.py\u001b[0m in \u001b[0;36mrandint\u001b[0;34m(low, high, size, dtype)\u001b[0m\n\u001b[1;32m    108\u001b[0m     \"\"\"\n\u001b[1;32m    109\u001b[0m     \u001b[0mrs\u001b[0m \u001b[0;34m=\u001b[0m \u001b[0m_generator\u001b[0m\u001b[0;34m.\u001b[0m\u001b[0mget_random_state\u001b[0m\u001b[0;34m(\u001b[0m\u001b[0;34m)\u001b[0m\u001b[0;34m\u001b[0m\u001b[0;34m\u001b[0m\u001b[0m\n\u001b[0;32m--> 110\u001b[0;31m     \u001b[0;32mreturn\u001b[0m \u001b[0mrs\u001b[0m\u001b[0;34m.\u001b[0m\u001b[0mrandint\u001b[0m\u001b[0;34m(\u001b[0m\u001b[0mlow\u001b[0m\u001b[0;34m,\u001b[0m \u001b[0mhigh\u001b[0m\u001b[0;34m,\u001b[0m \u001b[0msize\u001b[0m\u001b[0;34m,\u001b[0m \u001b[0mdtype\u001b[0m\u001b[0;34m)\u001b[0m\u001b[0;34m\u001b[0m\u001b[0;34m\u001b[0m\u001b[0m\n\u001b[0m\u001b[1;32m    111\u001b[0m \u001b[0;34m\u001b[0m\u001b[0m\n\u001b[1;32m    112\u001b[0m \u001b[0;34m\u001b[0m\u001b[0m\n",
      "\u001b[0;32m~/anaconda3/envs/pyenv_ub/lib/python3.7/site-packages/cupy/random/_generator.py\u001b[0m in \u001b[0;36mrandint\u001b[0;34m(self, low, high, size, dtype)\u001b[0m\n\u001b[1;32m   1185\u001b[0m \u001b[0;34m\u001b[0m\u001b[0m\n\u001b[1;32m   1186\u001b[0m         \u001b[0mdiff\u001b[0m \u001b[0;34m=\u001b[0m \u001b[0mhi1\u001b[0m \u001b[0;34m-\u001b[0m \u001b[0mlo\u001b[0m\u001b[0;34m\u001b[0m\u001b[0;34m\u001b[0m\u001b[0m\n\u001b[0;32m-> 1187\u001b[0;31m         \u001b[0mx\u001b[0m \u001b[0;34m=\u001b[0m \u001b[0mself\u001b[0m\u001b[0;34m.\u001b[0m\u001b[0m_interval\u001b[0m\u001b[0;34m(\u001b[0m\u001b[0mdiff\u001b[0m\u001b[0;34m,\u001b[0m \u001b[0msize\u001b[0m\u001b[0;34m)\u001b[0m\u001b[0;34m.\u001b[0m\u001b[0mastype\u001b[0m\u001b[0;34m(\u001b[0m\u001b[0mdtype\u001b[0m\u001b[0;34m,\u001b[0m \u001b[0mcopy\u001b[0m\u001b[0;34m=\u001b[0m\u001b[0;32mFalse\u001b[0m\u001b[0;34m)\u001b[0m\u001b[0;34m\u001b[0m\u001b[0;34m\u001b[0m\u001b[0m\n\u001b[0m\u001b[1;32m   1188\u001b[0m         \u001b[0mcupy\u001b[0m\u001b[0;34m.\u001b[0m\u001b[0madd\u001b[0m\u001b[0;34m(\u001b[0m\u001b[0mx\u001b[0m\u001b[0;34m,\u001b[0m \u001b[0mlo\u001b[0m\u001b[0;34m,\u001b[0m \u001b[0mout\u001b[0m\u001b[0;34m=\u001b[0m\u001b[0mx\u001b[0m\u001b[0;34m)\u001b[0m\u001b[0;34m\u001b[0m\u001b[0;34m\u001b[0m\u001b[0m\n\u001b[1;32m   1189\u001b[0m         \u001b[0;32mreturn\u001b[0m \u001b[0mx\u001b[0m\u001b[0;34m\u001b[0m\u001b[0;34m\u001b[0m\u001b[0m\n",
      "\u001b[0;32m~/anaconda3/envs/pyenv_ub/lib/python3.7/site-packages/cupy/random/_generator.py\u001b[0m in \u001b[0;36m_interval\u001b[0;34m(self, mx, size)\u001b[0m\n\u001b[1;32m    687\u001b[0m         \u001b[0;32mif\u001b[0m \u001b[0mmx1\u001b[0m \u001b[0;34m!=\u001b[0m \u001b[0;34m(\u001b[0m\u001b[0;36m1\u001b[0m \u001b[0;34m<<\u001b[0m \u001b[0;34m(\u001b[0m\u001b[0mmx1\u001b[0m\u001b[0;34m.\u001b[0m\u001b[0mbit_length\u001b[0m\u001b[0;34m(\u001b[0m\u001b[0;34m)\u001b[0m \u001b[0;34m-\u001b[0m \u001b[0;36m1\u001b[0m\u001b[0;34m)\u001b[0m\u001b[0;34m)\u001b[0m\u001b[0;34m:\u001b[0m\u001b[0;34m\u001b[0m\u001b[0;34m\u001b[0m\u001b[0m\n\u001b[1;32m    688\u001b[0m             \u001b[0;31m# Get index of samples that exceed the upper limit\u001b[0m\u001b[0;34m\u001b[0m\u001b[0;34m\u001b[0m\u001b[0;34m\u001b[0m\u001b[0m\n\u001b[0;32m--> 689\u001b[0;31m             \u001b[0mng_indices\u001b[0m \u001b[0;34m=\u001b[0m \u001b[0mself\u001b[0m\u001b[0;34m.\u001b[0m\u001b[0m_get_indices\u001b[0m\u001b[0;34m(\u001b[0m\u001b[0msample\u001b[0m\u001b[0;34m,\u001b[0m \u001b[0mupper_limit\u001b[0m\u001b[0;34m,\u001b[0m \u001b[0;32mFalse\u001b[0m\u001b[0;34m)\u001b[0m\u001b[0;34m\u001b[0m\u001b[0;34m\u001b[0m\u001b[0m\n\u001b[0m\u001b[1;32m    690\u001b[0m             \u001b[0mn_ng\u001b[0m \u001b[0;34m=\u001b[0m \u001b[0mng_indices\u001b[0m\u001b[0;34m.\u001b[0m\u001b[0msize\u001b[0m\u001b[0;34m\u001b[0m\u001b[0;34m\u001b[0m\u001b[0m\n\u001b[1;32m    691\u001b[0m \u001b[0;34m\u001b[0m\u001b[0m\n",
      "\u001b[0;32m~/anaconda3/envs/pyenv_ub/lib/python3.7/site-packages/cupy/random/_generator.py\u001b[0m in \u001b[0;36m_get_indices\u001b[0;34m(self, sample, upper_limit, cond)\u001b[0m\n\u001b[1;32m    723\u001b[0m         \u001b[0mdtype\u001b[0m \u001b[0;34m=\u001b[0m \u001b[0mnumpy\u001b[0m\u001b[0;34m.\u001b[0m\u001b[0muint32\u001b[0m \u001b[0;32mif\u001b[0m \u001b[0msample\u001b[0m\u001b[0;34m.\u001b[0m\u001b[0msize\u001b[0m \u001b[0;34m<\u001b[0m \u001b[0;36m2\u001b[0m\u001b[0;34m**\u001b[0m\u001b[0;36m32\u001b[0m \u001b[0;32melse\u001b[0m \u001b[0mnumpy\u001b[0m\u001b[0;34m.\u001b[0m\u001b[0muint64\u001b[0m\u001b[0;34m\u001b[0m\u001b[0;34m\u001b[0m\u001b[0m\n\u001b[1;32m    724\u001b[0m         \u001b[0mflags\u001b[0m \u001b[0;34m=\u001b[0m \u001b[0;34m(\u001b[0m\u001b[0msample\u001b[0m \u001b[0;34m<=\u001b[0m \u001b[0mupper_limit\u001b[0m\u001b[0;34m)\u001b[0m \u001b[0;32mif\u001b[0m \u001b[0mcond\u001b[0m \u001b[0;32melse\u001b[0m \u001b[0;34m(\u001b[0m\u001b[0msample\u001b[0m \u001b[0;34m>\u001b[0m \u001b[0mupper_limit\u001b[0m\u001b[0;34m)\u001b[0m\u001b[0;34m\u001b[0m\u001b[0;34m\u001b[0m\u001b[0m\n\u001b[0;32m--> 725\u001b[0;31m         \u001b[0mcsum\u001b[0m \u001b[0;34m=\u001b[0m \u001b[0mcupy\u001b[0m\u001b[0;34m.\u001b[0m\u001b[0mcumsum\u001b[0m\u001b[0;34m(\u001b[0m\u001b[0mflags\u001b[0m\u001b[0;34m,\u001b[0m \u001b[0mdtype\u001b[0m\u001b[0;34m=\u001b[0m\u001b[0mdtype\u001b[0m\u001b[0;34m)\u001b[0m\u001b[0;34m\u001b[0m\u001b[0;34m\u001b[0m\u001b[0m\n\u001b[0m\u001b[1;32m    726\u001b[0m         \u001b[0;32mdel\u001b[0m \u001b[0mflags\u001b[0m\u001b[0;34m\u001b[0m\u001b[0;34m\u001b[0m\u001b[0m\n\u001b[1;32m    727\u001b[0m         \u001b[0mindices\u001b[0m \u001b[0;34m=\u001b[0m \u001b[0mcupy\u001b[0m\u001b[0;34m.\u001b[0m\u001b[0mempty\u001b[0m\u001b[0;34m(\u001b[0m\u001b[0;34m(\u001b[0m\u001b[0mint\u001b[0m\u001b[0;34m(\u001b[0m\u001b[0mcsum\u001b[0m\u001b[0;34m[\u001b[0m\u001b[0;34m-\u001b[0m\u001b[0;36m1\u001b[0m\u001b[0;34m]\u001b[0m\u001b[0;34m)\u001b[0m\u001b[0;34m,\u001b[0m\u001b[0;34m)\u001b[0m\u001b[0;34m,\u001b[0m \u001b[0mdtype\u001b[0m\u001b[0;34m=\u001b[0m\u001b[0mdtype\u001b[0m\u001b[0;34m)\u001b[0m\u001b[0;34m\u001b[0m\u001b[0;34m\u001b[0m\u001b[0m\n",
      "\u001b[0;32m~/anaconda3/envs/pyenv_ub/lib/python3.7/site-packages/cupy/_math/sumprod.py\u001b[0m in \u001b[0;36mcumsum\u001b[0;34m(a, axis, dtype, out)\u001b[0m\n\u001b[1;32m    155\u001b[0m \u001b[0;34m\u001b[0m\u001b[0m\n\u001b[1;32m    156\u001b[0m     \"\"\"\n\u001b[0;32m--> 157\u001b[0;31m     \u001b[0;32mreturn\u001b[0m \u001b[0m_math\u001b[0m\u001b[0;34m.\u001b[0m\u001b[0mscan_core\u001b[0m\u001b[0;34m(\u001b[0m\u001b[0ma\u001b[0m\u001b[0;34m,\u001b[0m \u001b[0maxis\u001b[0m\u001b[0;34m,\u001b[0m \u001b[0m_math\u001b[0m\u001b[0;34m.\u001b[0m\u001b[0mscan_op\u001b[0m\u001b[0;34m.\u001b[0m\u001b[0mSCAN_SUM\u001b[0m\u001b[0;34m,\u001b[0m \u001b[0mdtype\u001b[0m\u001b[0;34m,\u001b[0m \u001b[0mout\u001b[0m\u001b[0;34m)\u001b[0m\u001b[0;34m\u001b[0m\u001b[0;34m\u001b[0m\u001b[0m\n\u001b[0m\u001b[1;32m    158\u001b[0m \u001b[0;34m\u001b[0m\u001b[0m\n\u001b[1;32m    159\u001b[0m \u001b[0;34m\u001b[0m\u001b[0m\n",
      "\u001b[0;32mcupy/_core/_routines_math.pyx\u001b[0m in \u001b[0;36mcupy._core._routines_math.scan_core\u001b[0;34m()\u001b[0m\n",
      "\u001b[0;32mcupy/_core/_routines_math.pyx\u001b[0m in \u001b[0;36mcupy._core._routines_math.scan_core\u001b[0;34m()\u001b[0m\n",
      "\u001b[0;32mcupy/_core/_routines_math.pyx\u001b[0m in \u001b[0;36mcupy._core._routines_math.scan\u001b[0;34m()\u001b[0m\n",
      "\u001b[0;32mcupy/_core/core.pyx\u001b[0m in \u001b[0;36mcupy._core.core._ndarray_init\u001b[0;34m()\u001b[0m\n",
      "\u001b[0;32mcupy/_core/core.pyx\u001b[0m in \u001b[0;36mcupy._core.core.ndarray._init_fast\u001b[0;34m()\u001b[0m\n",
      "\u001b[0;32mcupy/cuda/memory.pyx\u001b[0m in \u001b[0;36mcupy.cuda.memory.alloc\u001b[0;34m()\u001b[0m\n",
      "\u001b[0;32m~/anaconda3/envs/pyenv_ub/lib/python3.7/site-packages/rmm/rmm.py\u001b[0m in \u001b[0;36mrmm_cupy_allocator\u001b[0;34m(nbytes)\u001b[0m\n\u001b[1;32m    210\u001b[0m \u001b[0;34m\u001b[0m\u001b[0m\n\u001b[1;32m    211\u001b[0m     \u001b[0mstream\u001b[0m \u001b[0;34m=\u001b[0m \u001b[0mStream\u001b[0m\u001b[0;34m(\u001b[0m\u001b[0mobj\u001b[0m\u001b[0;34m=\u001b[0m\u001b[0mcupy\u001b[0m\u001b[0;34m.\u001b[0m\u001b[0mcuda\u001b[0m\u001b[0;34m.\u001b[0m\u001b[0mget_current_stream\u001b[0m\u001b[0;34m(\u001b[0m\u001b[0;34m)\u001b[0m\u001b[0;34m)\u001b[0m\u001b[0;34m\u001b[0m\u001b[0;34m\u001b[0m\u001b[0m\n\u001b[0;32m--> 212\u001b[0;31m     \u001b[0mbuf\u001b[0m \u001b[0;34m=\u001b[0m \u001b[0mlibrmm\u001b[0m\u001b[0;34m.\u001b[0m\u001b[0mdevice_buffer\u001b[0m\u001b[0;34m.\u001b[0m\u001b[0mDeviceBuffer\u001b[0m\u001b[0;34m(\u001b[0m\u001b[0msize\u001b[0m\u001b[0;34m=\u001b[0m\u001b[0mnbytes\u001b[0m\u001b[0;34m,\u001b[0m \u001b[0mstream\u001b[0m\u001b[0;34m=\u001b[0m\u001b[0mstream\u001b[0m\u001b[0;34m)\u001b[0m\u001b[0;34m\u001b[0m\u001b[0;34m\u001b[0m\u001b[0m\n\u001b[0m\u001b[1;32m    213\u001b[0m     \u001b[0mdev_id\u001b[0m \u001b[0;34m=\u001b[0m \u001b[0;34m-\u001b[0m\u001b[0;36m1\u001b[0m \u001b[0;32mif\u001b[0m \u001b[0mbuf\u001b[0m\u001b[0;34m.\u001b[0m\u001b[0mptr\u001b[0m \u001b[0;32melse\u001b[0m \u001b[0mcupy\u001b[0m\u001b[0;34m.\u001b[0m\u001b[0mcuda\u001b[0m\u001b[0;34m.\u001b[0m\u001b[0mdevice\u001b[0m\u001b[0;34m.\u001b[0m\u001b[0mget_device_id\u001b[0m\u001b[0;34m(\u001b[0m\u001b[0;34m)\u001b[0m\u001b[0;34m\u001b[0m\u001b[0;34m\u001b[0m\u001b[0m\n\u001b[1;32m    214\u001b[0m     mem = cupy.cuda.UnownedMemory(\n",
      "\u001b[0;32mrmm/_lib/device_buffer.pyx\u001b[0m in \u001b[0;36mrmm._lib.device_buffer.DeviceBuffer.__cinit__\u001b[0;34m()\u001b[0m\n",
      "\u001b[0;31mMemoryError\u001b[0m: std::bad_alloc: CUDA error at: /home/timothytyree/anaconda3/envs/pyenv_ub/include/rmm/mr/device/cuda_memory_resource.hpp:69: cudaErrorMemoryAllocation out of memory"
     ]
    }
   ],
   "source": [
    "bootstrap_mean_95CI_and_print_cu(lifetime_values_LR)"
   ]
  },
  {
   "cell_type": "code",
   "execution_count": 389,
   "metadata": {
    "ExecuteTime": {
     "end_time": "2022-01-25T21:27:59.720006Z",
     "start_time": "2022-01-25T21:27:59.604266Z"
    }
   },
   "outputs": [
    {
     "name": "stdout",
     "output_type": "stream",
     "text": [
      "the mean value is 15.5618+/-0.0761, with test for normality (p=0.7536)\n"
     ]
    },
    {
     "data": {
      "text/plain": [
       "(15.561774981175015, 0.07612186997198611, 0.7536317270389767)"
      ]
     },
     "execution_count": 389,
     "metadata": {},
     "output_type": "execute_result"
    }
   ],
   "source": [
    "bootstrap_mean_95CI_and_print_cu(\n",
    "    values=lifetime_values_LR,\n",
    "    seed=42,\n",
    "    printing=True,\n",
    "    num_samples=100,\n",
    "    include_normaltest_slowly=True,\n",
    "    use_seed=True)"
   ]
  },
  {
   "cell_type": "code",
   "execution_count": 391,
   "metadata": {
    "ExecuteTime": {
     "end_time": "2022-01-25T21:37:03.883687Z",
     "start_time": "2022-01-25T21:37:03.864052Z"
    }
   },
   "outputs": [
    {
     "data": {
      "text/plain": [
       "0.959860258056912"
      ]
     },
     "execution_count": 391,
     "metadata": {},
     "output_type": "execute_result"
    }
   ],
   "source": [
    "0.07612186997198611*np.sqrt(159)"
   ]
  },
  {
   "cell_type": "code",
   "execution_count": 390,
   "metadata": {
    "ExecuteTime": {
     "end_time": "2022-01-25T21:29:23.516987Z",
     "start_time": "2022-01-25T21:29:23.496427Z"
    }
   },
   "outputs": [
    {
     "data": {
      "text/plain": [
       "5.3810826048296265"
      ]
     },
     "execution_count": 390,
     "metadata": {},
     "output_type": "execute_result"
    }
   ],
   "source": [
    "0.0761*np.sqrt(5e3)"
   ]
  },
  {
   "cell_type": "code",
   "execution_count": 392,
   "metadata": {
    "ExecuteTime": {
     "end_time": "2022-01-25T21:39:26.554813Z",
     "start_time": "2022-01-25T21:39:26.529496Z"
    }
   },
   "outputs": [
    {
     "data": {
      "text/plain": [
       "1.867684"
      ]
     },
     "execution_count": 392,
     "metadata": {},
     "output_type": "execute_result"
    }
   ],
   "source": [
    "1.9058*1.96/2"
   ]
  },
  {
   "cell_type": "code",
   "execution_count": 393,
   "metadata": {
    "ExecuteTime": {
     "end_time": "2022-01-25T21:41:15.998540Z",
     "start_time": "2022-01-25T21:41:15.968803Z"
    }
   },
   "outputs": [
    {
     "data": {
      "text/plain": [
       "35.600166"
      ]
     },
     "execution_count": 393,
     "metadata": {},
     "output_type": "execute_result"
    }
   ],
   "source": [
    "36.3267*1.96/2"
   ]
  },
  {
   "cell_type": "code",
   "execution_count": 386,
   "metadata": {
    "ExecuteTime": {
     "end_time": "2022-01-25T21:27:03.260479Z",
     "start_time": "2022-01-25T21:27:03.241651Z"
    }
   },
   "outputs": [],
   "source": [
    "# scipy.stats.normaltest(lifetime_values_FK)"
   ]
  },
  {
   "cell_type": "code",
   "execution_count": null,
   "metadata": {},
   "outputs": [],
   "source": []
  },
  {
   "cell_type": "markdown",
   "metadata": {},
   "source": [
    "## visualize the distribution of particle lifetimes"
   ]
  },
  {
   "cell_type": "code",
   "execution_count": 254,
   "metadata": {
    "ExecuteTime": {
     "end_time": "2022-01-25T03:24:25.832711Z",
     "start_time": "2022-01-25T03:24:25.812237Z"
    }
   },
   "outputs": [],
   "source": [
    "# MemoryError: std::bad_alloc: CUDA error at\n",
    "# #bootstrap the mean for either case\n",
    "# values=lifetime_values_FK.copy()*1e3\n",
    "# mean_value,Delta_mean,p=bootstrap_mean_95CI_and_print_cu(values)\n",
    "# print(f\"num_samples={values.shape[0]}\")\n",
    "\n",
    "# values=lifetime_values_LR.copy()*1e3\n",
    "# mean_value,Delta_mean,p=bootstrap_mean_95CI_and_print_cu(values)\n",
    "# print(f\"num_samples={values.shape[0]}\")"
   ]
  },
  {
   "cell_type": "code",
   "execution_count": 404,
   "metadata": {
    "ExecuteTime": {
     "end_time": "2022-01-25T23:46:41.619649Z",
     "start_time": "2022-01-25T23:46:41.182209Z"
    },
    "scrolled": true
   },
   "outputs": [
    {
     "data": {
      "image/png": "[encoded data removed]",
      "text/plain": [
       "<Figure size 432x360 with 1 Axes>"
      ]
     },
     "metadata": {
      "needs_background": "light"
     },
     "output_type": "display_data"
    }
   ],
   "source": [
    "alpha=0.8\n",
    "# bins=300\n",
    "# bins='doane'\n",
    "# bins='rice'\n",
    "# bins='sqrt'\n",
    "bins=np.arange(0,4e3,60)\n",
    "# 'auto', 'fd', 'doane',\n",
    "#     'scott', 'stone', 'rice', 'sturges', or 'sqrt'.\n",
    "\n",
    "#figure panel style histogram of lifetimes\n",
    "fig,ax=plt.subplots(figsize=(6,5))\n",
    "bar_heights_fk,bins,_=plt.hist(lifetime_values_FK,bins=bins,log=True,color='C0',density=True,alpha=alpha, label='Fenton-Karma Model')\n",
    "bar_heights_lr,_,_=plt.hist(lifetime_values_LR,bins=bins,log=True,color='C1',density=True,alpha=alpha, label='Luo-Rudy Model')\n",
    "plt.legend(fontsize=16)\n",
    "format_plot(ax=plt.gca(),xlabel='Lifetime (ms)',ylabel='PDF')\n",
    "plt.show()"
   ]
  },
  {
   "cell_type": "code",
   "execution_count": 405,
   "metadata": {
    "ExecuteTime": {
     "end_time": "2022-01-25T23:46:44.997593Z",
     "start_time": "2022-01-25T23:46:44.969717Z"
    }
   },
   "outputs": [
    {
     "name": "stdout",
     "output_type": "stream",
     "text": [
      "exponential fit for the Fenton-Karma model:\n",
      "m=-0.002382+-0.000074\n",
      "B= -6.901005+-0.089112\n",
      "RMSE=1.5323\n",
      "R^2=0.9929\n",
      "GammaBar_observed: 419.7764+/-13.1032 milliseconds\n",
      "\n",
      "exponential fit for the Luo-Rudy model:\n",
      "Warning: CI not valid for less than 8 data points!\n",
      "m=-0.025152+-0.005816\n",
      "B= -4.044948+-1.002295\n",
      "RMSE=0.8789\n",
      "R^2=0.9599\n",
      "Warning: CI not valid for less than 8 data points!\n",
      "GammaBar_observed: 39.7585+/-9.1934 milliseconds\n"
     ]
    }
   ],
   "source": [
    "#TODO: compute exponential fit to all values\n",
    "x=0.5*(bins[1:]+bins[:-1])\n",
    "\n",
    "print(f\"exponential fit for the Fenton-Karma model:\")\n",
    "xmin=2e2\n",
    "xmax=2e3\n",
    "boo=x<=xmax\n",
    "boo&=x>=xmin\n",
    "y=bar_heights_fk\n",
    "print_fit_exponential(x[boo],y[boo])\n",
    "B,Delta_B,m,Delta_m,Rsq=fit_exponential(x[boo],y[boo])\n",
    "GammaBar_observed=-1/m\n",
    "Delta_GammaBar_observed=1/(m**2)*Delta_m\n",
    "print(f\"GammaBar_observed: {GammaBar_observed:.4f}+/-{Delta_GammaBar_observed:.4f} milliseconds\")\n",
    "yv=np.exp(B+x*m)\n",
    "yv_fk=yv.copy()\n",
    "\n",
    "print(f\"\\nexponential fit for the Luo-Rudy model:\")\n",
    "xmax=3e2\n",
    "boo=x<=xmax\n",
    "y=bar_heights_lr\n",
    "print_fit_exponential(x[boo],y[boo])\n",
    "B,Delta_B,m,Delta_m,Rsq=fit_exponential(x[boo],y[boo])\n",
    "GammaBar_observed=-1/m\n",
    "Delta_GammaBar_observed=1/(m**2)*Delta_m\n",
    "print(f\"GammaBar_observed: {GammaBar_observed:.4f}+/-{Delta_GammaBar_observed:.4f} milliseconds\")\n",
    "yv=np.exp(B+x*m)\n",
    "yv_lr=yv.copy()"
   ]
  },
  {
   "cell_type": "code",
   "execution_count": 406,
   "metadata": {
    "ExecuteTime": {
     "end_time": "2022-01-25T23:47:05.946534Z",
     "start_time": "2022-01-25T23:47:05.412743Z"
    }
   },
   "outputs": [
    {
     "data": {
      "image/png": "[encoded data removed]",
      "text/plain": [
       "<Figure size 432x288 with 1 Axes>"
      ]
     },
     "metadata": {
      "needs_background": "light"
     },
     "output_type": "display_data"
    }
   ],
   "source": [
    "alpha=0.9\n",
    "fontsize=18\n",
    "#figure panel style histogram of lifetimes\n",
    "fig,ax=plt.subplots(figsize=(6,4))\n",
    "bar_heights_fk,bins,_=plt.hist(lifetime_values_FK,bins=bins,log=True,color='C0',density=True,alpha=alpha, label='Fenton-Karma Model')\n",
    "bar_heights_lr,_,_=plt.hist(lifetime_values_LR,bins=bins,log=True,color='C1',density=True,alpha=alpha, label='Luo-Rudy Model')\n",
    "\n",
    "#plot a dotted line for an exponential fit\n",
    "# GammaBar_predicted=300#82\n",
    "# x=0.5*(bins[1:]+bins[:-1])\n",
    "# yv=22*np.exp(-x/GammaBar_predicted)\n",
    "# plt.plot(x,yv,'k--')\n",
    "plt.plot(x,yv_lr,'g--')\n",
    "plt.plot(x,yv_fk,'r--')\n",
    "plt.legend(fontsize=fontsize-4,frameon=False)\n",
    "plt.xlim([0,3.5e3])\n",
    "plt.ylim([0.8e-6,5e-2])\n",
    "format_plot(ax=plt.gca(),xlabel='Lifetime (ms)',ylabel='PDF',fontsize=fontsize)\n",
    "plt.show()"
   ]
  },
  {
   "cell_type": "code",
   "execution_count": 408,
   "metadata": {
    "ExecuteTime": {
     "end_time": "2022-01-25T23:49:05.367871Z",
     "start_time": "2022-01-25T23:49:04.983183Z"
    }
   },
   "outputs": [
    {
     "data": {
      "image/png": "[encoded data removed]",
      "text/plain": [
       "<Figure size 432x288 with 1 Axes>"
      ]
     },
     "metadata": {
      "needs_background": "light"
     },
     "output_type": "display_data"
    }
   ],
   "source": [
    "alpha=0.9\n",
    "fontsize=20\n",
    "#figure panel style histogram of lifetimes\n",
    "fig,ax=plt.subplots(figsize=(6,4))\n",
    "bar_heights_fk,bins,_=plt.hist(lifetime_values_FK,bins=bins,log=True,color='C0',density=True,alpha=alpha, label='Fenton-Karma Model')\n",
    "bar_heights_lr,_,_=plt.hist(lifetime_values_LR,bins=bins,log=True,color='C1',density=True,alpha=alpha, label='Luo-Rudy Model')\n",
    "\n",
    "#plot a dotted line for an exponential fit\n",
    "# GammaBar_predicted=300#82\n",
    "# x=0.5*(bins[1:]+bins[:-1])\n",
    "# yv=22*np.exp(-x/GammaBar_predicted)\n",
    "# plt.plot(x,yv,'k--')\n",
    "plt.plot(x,yv_lr,'g--')\n",
    "plt.plot(x,yv_fk,'r--')\n",
    "plt.legend(fontsize=fontsize-2,frameon=False)\n",
    "plt.xlim([0,3.5e3])\n",
    "plt.ylim([0.8e-6,5e-2])\n",
    "format_plot(ax=plt.gca(),xlabel=r'$\\Gamma$ (ms)',ylabel='PDF (ms$^{-1}$)',fontsize=fontsize)\n",
    "plt.show()"
   ]
  },
  {
   "cell_type": "code",
   "execution_count": null,
   "metadata": {},
   "outputs": [],
   "source": []
  },
  {
   "cell_type": "markdown",
   "metadata": {},
   "source": [
    "## scratchwerk"
   ]
  },
  {
   "cell_type": "code",
   "execution_count": 361,
   "metadata": {
    "ExecuteTime": {
     "end_time": "2022-01-25T21:05:35.623589Z",
     "start_time": "2022-01-25T21:05:34.546364Z"
    }
   },
   "outputs": [
    {
     "data": {
      "image/png": "[encoded data removed]",
      "text/plain": [
       "<Figure size 432x288 with 1 Axes>"
      ]
     },
     "metadata": {
      "needs_background": "light"
     },
     "output_type": "display_data"
    }
   ],
   "source": [
    "alpha=0.9\n",
    "GammaBar_predicted=300#82\n",
    "#figure panel style histogram of lifetimes\n",
    "fig,ax=plt.subplots(figsize=(6,4))\n",
    "bar_heights_fk,bins,_=plt.hist(lifetime_values_FK,bins=300,log=True,color='C0',density=True,alpha=alpha, label='Fenton-Karma Model')\n",
    "bar_heights_lr,_,_=plt.hist(lifetime_values_LR,bins=bins,log=True,color='C1',density=True,alpha=alpha, label='Luo-Rudy Model')\n",
    "\n",
    "#plot a dotted line for an exponential fit\n",
    "# x=0.5*(bins[1:]+bins[:-1])\n",
    "# yv=22*np.exp(-x/GammaBar_predicted)\n",
    "# plt.plot(x,yv,'k--')\n",
    "plt.plot(x,yv_lr,'g--')\n",
    "plt.plot(x,yv_fk,'r--')\n",
    "plt.legend(fontsize=16)\n",
    "plt.xlim([0,3.5e3])\n",
    "plt.ylim([0.8e-6,5e-2])\n",
    "format_plot(ax=plt.gca(),xlabel='Lifetime (ms)',ylabel='PDF')\n",
    "plt.show()"
   ]
  },
  {
   "cell_type": "code",
   "execution_count": 296,
   "metadata": {
    "ExecuteTime": {
     "end_time": "2022-01-25T20:49:44.563826Z",
     "start_time": "2022-01-25T20:49:43.638418Z"
    }
   },
   "outputs": [
    {
     "data": {
      "image/png": "[encoded data removed]",
      "text/plain": [
       "<Figure size 432x288 with 1 Axes>"
      ]
     },
     "metadata": {
      "needs_background": "light"
     },
     "output_type": "display_data"
    }
   ],
   "source": [
    "alpha=0.6\n",
    "GammaBar_predicted=300#82\n",
    "use_log=False\n",
    "#figure panel style histogram of lifetimes\n",
    "fig,ax=plt.subplots(figsize=(6,4))\n",
    "bar_heights_fk,bins,_=plt.hist(lifetime_values_FK,bins=300,log=use_log,color='C0',density=True,alpha=alpha, label='Fenton-Karma Model')\n",
    "bar_heights_lr,_,_=plt.hist(lifetime_values_LR,bins=bins,log=use_log,color='C1',density=True,alpha=alpha, label='Luo-Rudy Model')\n",
    "\n",
    "#plot a dotted line for an exponential fit\n",
    "# x=0.5*(bins[1:]+bins[:-1])\n",
    "# yv=22*np.exp(-x/GammaBar_predicted)\n",
    "# plt.plot(x,yv,'k--')\n",
    "# plt.plot(x,yv_lr,'g--')\n",
    "# plt.plot(x,yv_fk,'r--')\n",
    "plt.scatter(x,yv_lr,c='g',marker='+',s=80)\n",
    "plt.scatter(x,yv_fk,c='r',marker='+',s=80)\n",
    "plt.legend(fontsize=16)\n",
    "plt.xlim([0,.5e3])\n",
    "plt.ylim([0.8e-6,2.5e-2])\n",
    "format_plot(ax=plt.gca(),xlabel='Lifetime (ms)',ylabel='PDF')\n",
    "plt.show()"
   ]
  },
  {
   "cell_type": "code",
   "execution_count": 297,
   "metadata": {
    "ExecuteTime": {
     "end_time": "2022-01-25T20:49:49.133417Z",
     "start_time": "2022-01-25T20:49:48.029720Z"
    }
   },
   "outputs": [
    {
     "data": {
      "image/png": "[encoded data removed]",
      "text/plain": [
       "<Figure size 432x288 with 1 Axes>"
      ]
     },
     "metadata": {
      "needs_background": "light"
     },
     "output_type": "display_data"
    }
   ],
   "source": [
    "alpha=0.9\n",
    "GammaBar_predicted=15#300#82\n",
    "#figure panel style histogram of lifetimes\n",
    "fig,ax=plt.subplots(figsize=(6,4))\n",
    "bar_heights_fk,bins,_=plt.hist(lifetime_values_FK,bins=300,log=True,color='C0',density=True,alpha=alpha, label='Fenton-Karma Model')\n",
    "bar_heights_lr,_,_=plt.hist(lifetime_values_LR,bins=bins,log=True,color='C1',density=True,alpha=alpha, label='Luo-Rudy Model')\n",
    "\n",
    "# #plot a dotted line for an exponential fit\n",
    "# x=0.5*(bins[1:]+bins[:-1])\n",
    "# yv=22*np.exp(-x/GammaBar_predicted)\n",
    "GammaBar_predicted=12#300#82\n",
    "x=0.5*(bins[1:]+bins[:-1])\n",
    "yv=13e-1*np.exp(-x/GammaBar_predicted)\n",
    "# plt.scatter(x,yv,c='k',marker='+',s=80)\n",
    "plt.plot(x,yv,'k--')\n",
    "# plt.plot(x,yv_lr,'g--')\n",
    "# plt.plot(x,yv_fk,'r--')\n",
    "plt.legend(fontsize=16)\n",
    "plt.xlim([0,7e2])\n",
    "# plt.xlim([0,3.5e3])\n",
    "plt.ylim([0.8e-6,5e-2])\n",
    "format_plot(ax=plt.gca(),xlabel='Lifetime (ms)',ylabel='PDF')\n",
    "plt.show()"
   ]
  },
  {
   "cell_type": "code",
   "execution_count": 260,
   "metadata": {
    "ExecuteTime": {
     "end_time": "2022-01-25T03:24:49.638583Z",
     "start_time": "2022-01-25T03:24:48.569602Z"
    }
   },
   "outputs": [
    {
     "data": {
      "image/png": "[encoded data removed]",
      "text/plain": [
       "<Figure size 432x288 with 1 Axes>"
      ]
     },
     "metadata": {
      "needs_background": "light"
     },
     "output_type": "display_data"
    },
    {
     "name": "stdout",
     "output_type": "stream",
     "text": [
      "0.5898999090220495\n"
     ]
    }
   ],
   "source": [
    "alpha=0.6\n",
    "use_log=False\n",
    "#figure panel style histogram of lifetimes\n",
    "fig,ax=plt.subplots(figsize=(6,4))\n",
    "bar_heights_fk,bins,_=plt.hist(lifetime_values_FK,bins=300,log=use_log,color='C0',density=True,alpha=alpha, label='Fenton-Karma Model')\n",
    "bar_heights_lr,_,_=plt.hist(lifetime_values_LR,bins=bins,log=use_log,color='C1',density=True,alpha=alpha, label='Luo-Rudy Model')\n",
    "\n",
    "#plot a dotted line for an exponential fit\n",
    "# x=0.5*(bins[1:]+bins[:-1])\n",
    "# yv=22*np.exp(-x/GammaBar_predicted)\n",
    "# plt.plot(x,yv,'k--')\n",
    "# plt.plot(x,yv_lr,'g--')\n",
    "# plt.plot(x,yv_fk,'r--')\n",
    "#plot a dotted line for an exponential fit\n",
    "GammaBar_predicted=12#300#82\n",
    "x=0.5*(bins[1:]+bins[:-1])\n",
    "yv=13e-1*np.exp(-x/GammaBar_predicted)\n",
    "plt.scatter(x,yv,c='k',marker='+',s=80)\n",
    "# plt.scatter(x,yv_lr,c='g',marker='+',s=80)\n",
    "# plt.scatter(x,yv_fk,c='r',marker='+',s=80)\n",
    "plt.legend(fontsize=16)\n",
    "plt.xlim([0,.5e3])\n",
    "plt.ylim([0.8e-6,2.5e-2])\n",
    "format_plot(ax=plt.gca(),xlabel='Lifetime (ms)',ylabel='PDF')\n",
    "plt.show()\n",
    "print(np.max(yv))"
   ]
  },
  {
   "cell_type": "code",
   "execution_count": 261,
   "metadata": {
    "ExecuteTime": {
     "end_time": "2022-01-25T03:24:52.780429Z",
     "start_time": "2022-01-25T03:24:52.756214Z"
    }
   },
   "outputs": [
    {
     "data": {
      "text/plain": [
       "{'m': nan, 'Delta_m': nan, 'b': nan, 'Delta_b': nan, 'Rsquared': nan}"
      ]
     },
     "execution_count": 261,
     "metadata": {},
     "output_type": "execute_result"
    }
   ],
   "source": [
    "ymax=np.max(y)\n",
    "dict_linlog=compute_95CI_ols(x,-np.log(ymax/y))\n",
    "dict_linlog"
   ]
  },
  {
   "cell_type": "code",
   "execution_count": 262,
   "metadata": {
    "ExecuteTime": {
     "end_time": "2022-01-25T03:24:55.927493Z",
     "start_time": "2022-01-25T03:24:55.902776Z"
    }
   },
   "outputs": [
    {
     "data": {
      "text/plain": [
       "(nan, nan, nan, nan, nan)"
      ]
     },
     "execution_count": 262,
     "metadata": {},
     "output_type": "execute_result"
    }
   ],
   "source": [
    "B,Delta_B,m,Delta_m,Rsq=fit_exponential(x.flatten(),y.flatten())\n",
    "B,Delta_B,m,Delta_m,Rsq"
   ]
  },
  {
   "cell_type": "code",
   "execution_count": 263,
   "metadata": {
    "ExecuteTime": {
     "end_time": "2022-01-25T03:24:59.896325Z",
     "start_time": "2022-01-25T03:24:59.050628Z"
    }
   },
   "outputs": [
    {
     "data": {
      "image/png": "[encoded data removed]",
      "text/plain": [
       "<Figure size 864x360 with 1 Axes>"
      ]
     },
     "metadata": {
      "needs_background": "light"
     },
     "output_type": "display_data"
    }
   ],
   "source": [
    "fig,ax=plt.subplots(figsize=(12,5))\n",
    "bar_heights_fk,bins,_=plt.hist(lifetime_values_FK,bins=300,log=True,color='C0',density=True,alpha=0.4)\n",
    "bar_heights_lr,_,_=plt.hist(lifetime_values_LR,bins=bins,log=True,color='C1',density=True,alpha=0.4)\n",
    "format_plot(ax=plt.gca(),xlabel='Lifetime (ms)',ylabel='PDF')\n",
    "plt.show()"
   ]
  },
  {
   "cell_type": "code",
   "execution_count": 264,
   "metadata": {
    "ExecuteTime": {
     "end_time": "2022-01-25T03:25:04.404368Z",
     "start_time": "2022-01-25T03:25:02.996118Z"
    }
   },
   "outputs": [
    {
     "data": {
      "image/png": "[encoded data removed]",
      "text/plain": [
       "<Figure size 432x360 with 1 Axes>"
      ]
     },
     "metadata": {
      "needs_background": "light"
     },
     "output_type": "display_data"
    }
   ],
   "source": [
    "alpha=0.8\n",
    "#figure panel style histogram of lifetimes\n",
    "fig,ax=plt.subplots(figsize=(6,5))\n",
    "bar_heights_fk,bins,_=plt.hist(lifetime_values_FK,bins=300,log=False,color='C0',density=True,alpha=alpha, label='Fenton-Karma Model')\n",
    "bar_heights_lr,_,_=plt.hist(lifetime_values_LR,bins=bins,log=False,color='C1',density=True,alpha=alpha, label='Luo-Rudy Model')\n",
    "plt.legend(fontsize=16)\n",
    "format_plot(ax=plt.gca(),xlabel='Lifetime (ms)',ylabel='PDF')\n",
    "plt.xscale('log')\n",
    "plt.yscale('log')\n",
    "plt.show()"
   ]
  },
  {
   "cell_type": "code",
   "execution_count": 265,
   "metadata": {
    "ExecuteTime": {
     "end_time": "2022-01-25T03:25:08.611310Z",
     "start_time": "2022-01-25T03:25:07.540765Z"
    }
   },
   "outputs": [
    {
     "data": {
      "image/png": "[encoded data removed]",
      "text/plain": [
       "<Figure size 432x360 with 1 Axes>"
      ]
     },
     "metadata": {
      "needs_background": "light"
     },
     "output_type": "display_data"
    }
   ],
   "source": [
    "alpha=0.8\n",
    "#figure panel style histogram of lifetimes\n",
    "fig,ax=plt.subplots(figsize=(6,5))\n",
    "bar_heights_fk,bins,_=plt.hist(lifetime_values_FK,bins=300,log=False,color='C0',density=True,alpha=alpha, label='Fenton-Karma Model')\n",
    "bar_heights_lr,_,_=plt.hist(lifetime_values_LR,bins=bins,log=False,color='C1',density=True,alpha=alpha, label='Luo-Rudy Model')\n",
    "plt.legend(fontsize=16)\n",
    "format_plot(ax=plt.gca(),xlabel='Lifetime (ms)',ylabel='PDF')\n",
    "plt.show()"
   ]
  },
  {
   "cell_type": "code",
   "execution_count": 266,
   "metadata": {
    "ExecuteTime": {
     "end_time": "2022-01-25T03:25:11.684015Z",
     "start_time": "2022-01-25T03:25:11.661684Z"
    }
   },
   "outputs": [],
   "source": [
    "bins=np.arange(0,1e3,4)\n",
    "# bins"
   ]
  },
  {
   "cell_type": "code",
   "execution_count": 267,
   "metadata": {
    "ExecuteTime": {
     "end_time": "2022-01-25T03:25:15.834342Z",
     "start_time": "2022-01-25T03:25:14.789169Z"
    }
   },
   "outputs": [
    {
     "data": {
      "image/png": "[encoded data removed]",
      "text/plain": [
       "<Figure size 360x216 with 1 Axes>"
      ]
     },
     "metadata": {
      "needs_background": "light"
     },
     "output_type": "display_data"
    }
   ],
   "source": [
    "alpha=0.8\n",
    "#figure panel style histogram of lifetimes\n",
    "fig,ax=plt.subplots(figsize=(5,3))\n",
    "\n",
    "bar_heights_fk,_,_=plt.hist(lifetime_values_FK,bins=bins,log=False,color='C0',density=True,alpha=alpha, label='Fenton-Karma Model')\n",
    "# bins_fk=bins.copy()\n",
    "bar_heights_lr,_,_=plt.hist(lifetime_values_LR,bins=bins,log=False,color='C1',density=True,alpha=alpha, label='Luo-Rudy Model')\n",
    "# bins_lr=bins.copy()\n",
    "plt.legend(fontsize=16)\n",
    "format_plot(ax=plt.gca(),xlabel='Lifetime (ms)',ylabel='PDF')\n",
    "plt.xscale('log')\n",
    "plt.ylim([0,0.05])\n",
    "plt.show()"
   ]
  },
  {
   "cell_type": "code",
   "execution_count": 268,
   "metadata": {
    "ExecuteTime": {
     "end_time": "2022-01-25T03:25:19.038210Z",
     "start_time": "2022-01-25T03:25:19.013091Z"
    }
   },
   "outputs": [
    {
     "data": {
      "text/plain": [
       "dict"
      ]
     },
     "execution_count": 268,
     "metadata": {},
     "output_type": "execute_result"
    }
   ],
   "source": [
    "#DONE: save results as pkl\n",
    "import pickle\n",
    "\n",
    "dict_lifetimes = {'lr': {'tbins':bins, 'pdf_bar_heights':bar_heights_lr},\n",
    "     'fk': {'tbins':bins, 'pdf_bar_heights':bar_heights_fk}\n",
    "    }\n",
    "\n",
    "lifetime_pdf_dir=\"/home/timothytyree/Documents/GitHub/bgmc/python/data/full_results/lifetimes.pkl\"\n",
    "\n",
    "with open(lifetime_pdf_dir, 'wb') as handle:\n",
    "    pickle.dump(dict_lifetimes, handle, protocol=pickle.HIGHEST_PROTOCOL)\n",
    "\n",
    "with open(lifetime_pdf_dir, 'rb') as handle:\n",
    "    b = pickle.load(handle)\n",
    "    \n",
    "# assert dict_lifetimes==b\n",
    "type(b)"
   ]
  },
  {
   "cell_type": "code",
   "execution_count": null,
   "metadata": {},
   "outputs": [],
   "source": []
  },
  {
   "cell_type": "markdown",
   "metadata": {
    "heading_collapsed": true
   },
   "source": [
    "# (old) Computing Lifetimes of Spiral Tips\n",
    "Tim Tyree<br>\n",
    "6.29.2020<br>"
   ]
  },
  {
   "cell_type": "code",
   "execution_count": 12,
   "metadata": {
    "ExecuteTime": {
     "end_time": "2022-01-19T21:11:28.477585Z",
     "start_time": "2022-01-19T21:11:28.291083Z"
    },
    "hidden": true
   },
   "outputs": [
    {
     "ename": "ModuleNotFoundError",
     "evalue": "No module named 'lib.dist_func'",
     "output_type": "error",
     "traceback": [
      "\u001b[0;31m---------------------------------------------------------------------------\u001b[0m",
      "\u001b[0;31mModuleNotFoundError\u001b[0m                       Traceback (most recent call last)",
      "\u001b[0;32m/tmp/ipykernel_2285916/2845687289.py\u001b[0m in \u001b[0;36m<module>\u001b[0;34m\u001b[0m\n\u001b[1;32m     20\u001b[0m \u001b[0;31m#load the libraries\u001b[0m\u001b[0;34m\u001b[0m\u001b[0;34m\u001b[0m\u001b[0;34m\u001b[0m\u001b[0m\n\u001b[1;32m     21\u001b[0m \u001b[0;32mfrom\u001b[0m \u001b[0mlib\u001b[0m \u001b[0;32mimport\u001b[0m \u001b[0;34m*\u001b[0m\u001b[0;34m\u001b[0m\u001b[0;34m\u001b[0m\u001b[0m\n\u001b[0;32m---> 22\u001b[0;31m \u001b[0;32mfrom\u001b[0m \u001b[0mlib\u001b[0m\u001b[0;34m.\u001b[0m\u001b[0mdist_func\u001b[0m \u001b[0;32mimport\u001b[0m \u001b[0;34m*\u001b[0m\u001b[0;34m\u001b[0m\u001b[0;34m\u001b[0m\u001b[0m\n\u001b[0m\u001b[1;32m     23\u001b[0m \u001b[0;31m# from lib.operari import *\u001b[0m\u001b[0;34m\u001b[0m\u001b[0;34m\u001b[0m\u001b[0;34m\u001b[0m\u001b[0m\n\u001b[1;32m     24\u001b[0m \u001b[0;31m# from lib.ProgressBar import *\u001b[0m\u001b[0;34m\u001b[0m\u001b[0;34m\u001b[0m\u001b[0;34m\u001b[0m\u001b[0m\n",
      "\u001b[0;31mModuleNotFoundError\u001b[0m: No module named 'lib.dist_func'"
     ]
    }
   ],
   "source": [
    "#pylab\n",
    "%matplotlib inline\n",
    "import numpy as np, pandas as pd, matplotlib.pyplot as plt\n",
    "from pylab import imshow, show\n",
    "\n",
    "\n",
    "import numba, trackpy, sklearn\n",
    "# from numba import njit, jit, vectorize\n",
    "# from PIL import Image\n",
    "# import imageio\n",
    "# import cv2 as cv\n",
    "\n",
    "#automate the boring stuff\n",
    "from IPython import utils\n",
    "import time, os, sys, re\n",
    "beep = lambda x: os.system(\"echo -n '\\\\a';sleep 0.2;\" * x)\n",
    "if not 'nb_dir' in globals():\n",
    "    nb_dir = os.getcwd()\n",
    "\n",
    "#load the libraries\n",
    "from lib import *\n",
    "from lib.dist_func import *\n",
    "# from lib.operari import *\n",
    "# from lib.ProgressBar import *\n",
    "# from lib.minimal_model import *\n",
    "# from lib.TexturePlot import *\n",
    "# from lib.get_tips import *\n",
    "# from lib.minimal_model import *\n",
    "# from lib.intersection import *\n",
    "# from numba import jit, njit, vectorize, cuda, uint32, f8, uint8\n",
    "# from lib.contours_to_tips import *\n",
    "\n",
    "%autocall 1\n",
    "%load_ext autoreload\n",
    "%autoreload 2"
   ]
  },
  {
   "cell_type": "markdown",
   "metadata": {
    "heading_collapsed": true
   },
   "source": [
    "# post process log to get tip positions"
   ]
  },
  {
   "cell_type": "code",
   "execution_count": null,
   "metadata": {
    "ExecuteTime": {
     "end_time": "2022-01-19T21:11:28.491058Z",
     "start_time": "2022-01-19T21:11:28.491047Z"
    },
    "hidden": true
   },
   "outputs": [],
   "source": [
    "# #search for input_fn \"tip_log_\"+ .. .._ +num+\".csv\"\n",
    "# input_fn = search_for_file(nb_dir+'/Data/ds_5_param_set_8')\n",
    "# print(input_fn)\n",
    "# #TODO: find a proper way to terminate the Tk application launched by search_for_file.  it doesn't terminate\n",
    "\n",
    "\n",
    "# doesn't work input_fn = '/Users/timothytyree/Documents/GitHub/care/notebooks/Data/ds_5_param_set_8/Log/tip_log_ds_5_sigma_0.5_threshold_0.9_005.csv'\n",
    "# doesn't work input_fn = '/Users/timothytyree/Documents/GitHub/care/notebooks/Data/ds_5_param_set_8/Log/tip_log_ds_5_sigma_1.0_threshold_0.8_006.csv'\n",
    "\n",
    "#I think this is the best one sigma = 1.5, threshold = 0.6\n",
    "input_fn = '/Users/timothytyree/Documents/GitHub/care/notebooks/Data/ds_5_param_set_8/Log/tip_log_ds_5_sigma_1.5_threshold_0.6_006.csv'\n",
    "\n",
    "#may nearly work /Users/timothytyree/Documents/GitHub/care/notebooks/Data/ds_5_param_set_8/Log/tip_log_ds_5_sigma_1.5_threshold_0.9_006.csv\n",
    "#may nearly work /Users/timothytyree/Documents/GitHub/care/notebooks/Data/ds_5_param_set_8/Log/tip_log_ds_5_sigma_1.0_threshold_0.6_006.csv"
   ]
  },
  {
   "cell_type": "code",
   "execution_count": null,
   "metadata": {
    "ExecuteTime": {
     "end_time": "2022-01-19T21:11:28.491667Z",
     "start_time": "2022-01-19T21:11:28.491657Z"
    },
    "hidden": true
   },
   "outputs": [],
   "source": [
    "# input_fn = 'Log/tip_log_ds_5_sigma_1.0_threshold_0.6_001.csv'\n",
    "os.chdir(nb_dir+'/Data/ds_5_param_set_8')\n",
    "print(str(os.path.exists(input_fn))+\" it is that input_fn exists,\")\n",
    "# print(\"have you the right sigma and threshold?\")\n",
    "# ds = 5; sigma = 1.0; threshold = 0.8\n",
    "V_threshold = 0.5\n",
    "print(f\"have you the right V_threshold = {V_threshold}?\")\n",
    "\n",
    "\n"
   ]
  },
  {
   "cell_type": "code",
   "execution_count": null,
   "metadata": {
    "ExecuteTime": {
     "end_time": "2022-01-19T21:11:28.492074Z",
     "start_time": "2022-01-19T21:11:28.492065Z"
    },
    "hidden": true
   },
   "outputs": [],
   "source": [
    "#save the tip positions expanded into rows\n",
    "df_output = process_tip_log_file(input_fn, include_EP=True, include_nonlinear_EP=False)\n",
    "saveherein = input_fn.replace('.csv','_processed.csv')\n",
    "df_output.to_csv(saveherein, index=False)\n",
    "beep(1)\n",
    "print(f\"and the resulting \\\"_processed.csv\\\" was supplanted herein:\\n\\t{saveherein}\")"
   ]
  },
  {
   "cell_type": "code",
   "execution_count": null,
   "metadata": {
    "ExecuteTime": {
     "end_time": "2020-08-11T23:20:16.184613Z",
     "start_time": "2020-08-11T23:20:16.151669Z"
    },
    "hidden": true
   },
   "outputs": [],
   "source": []
  },
  {
   "cell_type": "code",
   "execution_count": null,
   "metadata": {
    "ExecuteTime": {
     "end_time": "2022-01-19T21:11:28.493130Z",
     "start_time": "2022-01-19T21:11:28.493119Z"
    },
    "hidden": true
   },
   "outputs": [],
   "source": [
    "#BLUF load processed df with tips as rows\n",
    "df = pd.read_csv(input_fn)\n",
    "fn = input_fn.split('/')[-1]\n",
    "descrip = fn[:fn.find('_processed.csv')]\n",
    "threshold = eval(fn[fn.find('threshold_')+len('threshold_'):].split('_')[0])\n",
    "ds = eval(fn[fn.find('ds_')+len('ds_'):].split('_')[0])\n",
    "sigma = eval(fn[fn.find('sigma_')+len('sigma_'):].split('_')[0])\n",
    "print(f\"(ds,sigma,threshold) = {(ds,sigma,threshold)}\")"
   ]
  },
  {
   "cell_type": "markdown",
   "metadata": {
    "heading_collapsed": true
   },
   "source": [
    "# import tip positions"
   ]
  },
  {
   "cell_type": "code",
   "execution_count": null,
   "metadata": {
    "ExecuteTime": {
     "end_time": "2022-01-19T21:11:28.493714Z",
     "start_time": "2022-01-19T21:11:28.493705Z"
    },
    "hidden": true
   },
   "outputs": [],
   "source": [
    "# high-res EP states also observed\n",
    "# saveherein = '/Users/timothytyree/Documents/GitHub/care/notebooks/Data/ds_5_param_set_8/Log/tip_log_ds_5_sigma_0.5_threshold_0.9_005_processed.csv'\n",
    "os.chdir('/Users/timothytyree/Documents/GitHub/care/notebooks/Data/ds_5_param_set_8/trajectories')\n",
    "# sigma = 0.5  #1.5#1.5#1.#1\n",
    "# threshold = 0.9#0.6  #0.9#0.95"
   ]
  },
  {
   "cell_type": "code",
   "execution_count": null,
   "metadata": {
    "ExecuteTime": {
     "end_time": "2022-01-19T21:11:28.494210Z",
     "start_time": "2022-01-19T21:11:28.494200Z"
    },
    "hidden": true
   },
   "outputs": [],
   "source": [
    "#if using ^that result of tip positions expanded into rows?\n",
    "data_dir = saveherein\n",
    "# data_dir = '/Users/timothytyree/Documents/GitHub/care/notebooks/Data/ds_5_param_set_8/Log/tip_log_ds_5_sigma_1.0_threshold_0.8_006_processed.csv'\n",
    "\n",
    "\n",
    "\n",
    "# sigma = 1.0  #1.5#1.5#1.#1\n",
    "# threshold = 0.6#0.6  #0.9#0.95\n",
    "# ext = ''#'001_'\n",
    "# search_for_file()\n",
    "# data_dir    = f'{nb_dir}/Data/ds_5_param_set_8/Log/tip_log_ds_5_sigma_{sigma}_threshold_{threshold}_{ext}processed.csv'\n",
    "\n",
    "# 'Log/tip_log_ds_5_sigma_1.0_threshold_0.6_001_processed.csv'\n",
    "# data_dir    = f'{nb_dir}/Data/ds_5_param_set_8/Log/tip_log_ds_5_sigma_{sigma}_threshold_{threshold}_processed.csv'\n",
    "print(f\"loading .csv of size [??{2*sys.getsizeof(data_dir)} KB] from \\n\\t{data_dir}\")\n",
    "df = pd.read_csv(data_dir)\n",
    "\n",
    "save_folder = '/'+os.path.join(*data_dir.split('/')[:-2])+'/trajectories/'\n",
    "os.chdir(save_folder)\n",
    "print(f\"files will be saved in the folder: \\n\\t{save_folder}\")"
   ]
  },
  {
   "cell_type": "code",
   "execution_count": null,
   "metadata": {
    "ExecuteTime": {
     "end_time": "2022-01-19T21:11:28.495272Z",
     "start_time": "2022-01-19T21:11:28.495262Z"
    },
    "hidden": true
   },
   "outputs": [],
   "source": [
    "# test data has no odd spiral tips since the data has periodic boundary conditions\n",
    "assert not (np.array(list(set(df.n.values)))%2==1).any()\n",
    "print('no odd spiral tips exist.')"
   ]
  },
  {
   "cell_type": "code",
   "execution_count": null,
   "metadata": {
    "ExecuteTime": {
     "end_time": "2022-01-19T21:11:28.495966Z",
     "start_time": "2022-01-19T21:11:28.495956Z"
    },
    "hidden": true
   },
   "outputs": [],
   "source": [
    "#plot the raw spiral tip locations after time 500\n",
    "x_values, y_values, t_values = df.query('t>500')[['x','y','t']].values.T\n",
    "plt.scatter(x=x_values,y=y_values,c=t_values,s=0.1)\n",
    "plt.show()"
   ]
  },
  {
   "cell_type": "code",
   "execution_count": null,
   "metadata": {
    "ExecuteTime": {
     "end_time": "2022-01-19T21:11:28.496518Z",
     "start_time": "2022-01-19T21:11:28.496508Z"
    },
    "hidden": true
   },
   "outputs": [],
   "source": [
    "#compute the number of spiral tips in each time frame\n",
    "\n",
    "#TODO: determine if there are any gaps in spiral tip frame number by plotting tip number versus time\n",
    "n_series = df.query('t>540')['t'].value_counts().sort_index()\n",
    "\n",
    "# plot tip number versus time for long-lived trajectories\n",
    "x_values = n_series.index.values\n",
    "y_values = n_series.values\n",
    "plt.plot(x_values,y_values)"
   ]
  },
  {
   "cell_type": "code",
   "execution_count": null,
   "metadata": {
    "ExecuteTime": {
     "end_time": "2022-01-19T21:11:28.497389Z",
     "start_time": "2022-01-19T21:11:28.497378Z"
    },
    "hidden": true
   },
   "outputs": [],
   "source": [
    "#plot the when there are 4 spiral tips around time \n",
    "x_values, y_values, t_values = df.query('t>554 and n>3')[['x','y','t']].values.T\n",
    "plt.scatter(x=x_values,y=y_values,c=t_values,s=10)\n",
    "plt.show()"
   ]
  },
  {
   "cell_type": "code",
   "execution_count": null,
   "metadata": {
    "ExecuteTime": {
     "end_time": "2022-01-19T21:11:28.497907Z",
     "start_time": "2022-01-19T21:11:28.497898Z"
    },
    "hidden": true
   },
   "outputs": [],
   "source": [
    "#plot the when there are 4 spiral tips around time \n",
    "x_values, y_values, t_values = df.query('t>540 and t<546')[['x','y','t']].values.T\n",
    "plt.scatter(x=x_values,y=y_values,c=t_values,s=10)\n",
    "plt.axis(axis)\n",
    "plt.show()"
   ]
  },
  {
   "cell_type": "markdown",
   "metadata": {
    "hidden": true
   },
   "source": [
    "#### DONE(ignore): get trackpy to use periodic boundary distances\n",
    "- failing ^that make trackpy use my distance function"
   ]
  },
  {
   "cell_type": "markdown",
   "metadata": {
    "hidden": true
   },
   "source": [
    "__Trackpy warns in its more seriptitious print statements that user defined distances are not tested__<br>\n",
    "Thus, I must test my own use case on a test with a known response."
   ]
  },
  {
   "cell_type": "markdown",
   "metadata": {
    "ExecuteTime": {
     "end_time": "2020-06-29T20:29:19.471037Z",
     "start_time": "2020-06-29T20:29:19.438394Z"
    },
    "hidden": true
   },
   "source": [
    "__How trackpy handles user defined distance functions__\n",
    "The only appearance of dist_func in trackpy's source code from github is in subnet.py.  In which, trackpy.subnet.HashBTree.rebuild passes dist_func to sklearn as follows <br>\n",
    "`sklearn.neighbors.BallTree(coords_mapped,metric='pyfunc', func=self.dist_func`\n",
    "\n",
    "`sklearn.neighbors.BallTree` has func as an additional kwarg, which is passed to the distance metric class, DistanceMetric.  In the docstring of that function, I find the specification for `DistanceMetric`.\n",
    "\n",
    "__Bottom Line Up Front (BLUF) the function must take two 1D numpy arrays and return a distance.  Everything will be slower because of the overhead of calling python functions__"
   ]
  },
  {
   "cell_type": "code",
   "execution_count": null,
   "metadata": {
    "ExecuteTime": {
     "end_time": "2022-01-19T21:11:28.498673Z",
     "start_time": "2022-01-19T21:11:28.498663Z"
    },
    "hidden": true
   },
   "outputs": [],
   "source": [
    "# from sklearn.neighbors import BallTree, DistanceMetric"
   ]
  },
  {
   "cell_type": "code",
   "execution_count": null,
   "metadata": {
    "ExecuteTime": {
     "end_time": "2022-01-19T21:11:28.499339Z",
     "start_time": "2022-01-19T21:11:28.499329Z"
    },
    "hidden": true
   },
   "outputs": [],
   "source": [
    "print('''**User-defined distance:**\n",
    "\n",
    "===========    ===============    =======\n",
    "identifier     class name         args\n",
    "-----------    ---------------    -------\n",
    "\"pyfunc\"       PyFuncDistance     func\n",
    "===========    ===============    =======\n",
    "\n",
    "Here ``func`` is a function which takes two one-dimensional numpy\n",
    "arrays, and returns a distance.  Note that in order to be used within\n",
    "the BallTree, the distance must be a true metric:\n",
    "i.e. it must satisfy the following properties\n",
    "\n",
    "1) Non-negativity: d(x, y) >= 0\n",
    "2) Identity: d(x, y) = 0 if and only if x == y\n",
    "3) Symmetry: d(x, y) = d(y, x)\n",
    "4) Triangle Inequality: d(x, y) + d(y, z) >= d(x, z)\n",
    "\n",
    "Because of the Python object overhead involved in calling the python\n",
    "function, this will be fairly slow, but it will have the same\n",
    "scaling as other distances.''')"
   ]
  },
  {
   "cell_type": "code",
   "execution_count": null,
   "metadata": {
    "ExecuteTime": {
     "end_time": "2022-01-19T21:11:28.500585Z",
     "start_time": "2022-01-19T21:11:28.500575Z"
    },
    "hidden": true
   },
   "outputs": [],
   "source": [
    "# this section was sent to lib.dist_func\n",
    "# def get_distance_L2_pbc(width=200,height=200):\n",
    "#     '''returns a function for the euclidean (L2) distance measure for a 2D rectangle with periodic boundary conditions.\n",
    "#     width, height are the shape of that 2D rectangle.'''\n",
    "#     @jit('f8(f8[:],f8[:])', nopython=True)\n",
    "#     def distance_L2_pbc(point_1, point_2):\n",
    "#         '''assumes getting shortest distance between two points with periodic boundary conditions in 2D.'''\n",
    "#         mesh_shape=np.array((width,height))\n",
    "#         dq2 = 0.\n",
    "#         #     for q1, q2, width in zip(point_1[:2], point_2[:2], mesh_shape):\n",
    "#         for q1, q2, wid in zip(point_1, point_2, mesh_shape):\n",
    "#             dq2 = dq2 + min(((q2 - q1)**2, (q2 + wid - q1 )**2, (q2 - wid - q1 )**2))\n",
    "#         return np.sqrt(dq2)\n",
    "#     return distance_L2_pbc\n",
    "\n",
    "# def test_get_distance_L2_pbc():\n",
    "#     import trackpy, pandas as pd\n",
    "\n",
    "#     #testing the pbc distance function\n",
    "#     distance_L2_pbc = get_distance_L2_pbc(width=200,height=200)\n",
    "#     assert(np.isclose(distance_L2_pbc(np.array([1.,1.]),np.array([1.,1.])),0.))\n",
    "#     assert(distance_L2_pbc(np.array([1.,1.]),np.array([199.,199.]))<3.)\n",
    "#     assert(distance_L2_pbc(np.array([1.,1.]),np.array([199.,199.]))<3.)\n",
    "#     assert(distance_L2_pbc(np.array([1.,1.]),np.array([1.,199.]))<3.)\n",
    "#     assert(distance_L2_pbc(np.array([1.,1.]),np.array([199.,1.]))<3.)\n",
    "\n",
    "#     #testing distance_L2_pbc in trackpy.link_df\n",
    "#     df_test = pd.DataFrame({'frame':[1,2,2],'x':[1,100,199],'y':[1,100,199]})\n",
    "\n",
    "#     # test that the default distance function maps 1,1 to 100,100 instead of 199,199\n",
    "#     traj_test = trackpy.link_df(df_test, search_range=210)\n",
    "#     assert((traj_test['particle'].values == np.array([0, 0, 1])).all())\n",
    "\n",
    "#     # test that the pbc distance function maps 1,1 to 199,199 instead of 100,100\n",
    "#     traj_test = trackpy.link_df(df_test, search_range=210, dist_func = distance_L2_pbc)\n",
    "#     assert((traj_test['particle'].values == np.array([0, 1, 0])).all())\n",
    "\n",
    "#     # test that the pbc distance function can see accross boundarys when search_range is small\n",
    "#     traj_test = trackpy.link_df(df_test, search_range=110, dist_func = distance_L2_pbc)\n",
    "#     assert((traj_test['particle'].values == np.array([0, 1, 0])).all())\n",
    "#     return True"
   ]
  },
  {
   "cell_type": "markdown",
   "metadata": {
    "heading_collapsed": true
   },
   "source": [
    "# track tips using periodic boundary conditions"
   ]
  },
  {
   "cell_type": "code",
   "execution_count": null,
   "metadata": {
    "ExecuteTime": {
     "end_time": "2022-01-19T21:11:28.501211Z",
     "start_time": "2022-01-19T21:11:28.501201Z"
    },
    "hidden": true
   },
   "outputs": [],
   "source": [
    "# df_dir = '/Users/timothytyree/Documents/GitHub/care/notebooks/Data/ds_5_param_set_8/Log/tip_log_ds_5_sigma_1.5_threshold_0.9_processed.csv'\n",
    "# import sklearn\n",
    "df_dir = data_dir\n",
    "print(data_dir)\n",
    "df = pd.read_csv(df_dir)\n"
   ]
  },
  {
   "cell_type": "code",
   "execution_count": null,
   "metadata": {
    "ExecuteTime": {
     "end_time": "2022-01-19T21:11:28.501970Z",
     "start_time": "2022-01-19T21:11:28.501960Z"
    },
    "hidden": true
   },
   "outputs": [],
   "source": [
    "#assign each time a unique frame number\n",
    "t_list =  sorted(set(df.t.values))\n",
    "frameno_list = list(range(len(t_list)))\n",
    "df['frame'] = -9999\n",
    "for frameno, t in zip(frameno_list,t_list):\n",
    "    df.loc[df.t==t, 'frame'] = frameno\n",
    "#assert that all entries were given a value\n",
    "assert ( not (df.frame<0).any() )"
   ]
  },
  {
   "cell_type": "code",
   "execution_count": null,
   "metadata": {
    "ExecuteTime": {
     "end_time": "2022-01-19T21:11:28.502628Z",
     "start_time": "2022-01-19T21:11:28.502617Z"
    },
    "hidden": true
   },
   "outputs": [],
   "source": [
    "#TODO: check that n is reproduced by the number of x in the trajectory file\n",
    "# traj.query('t==555').t\n",
    "# df['frame']"
   ]
  },
  {
   "cell_type": "code",
   "execution_count": null,
   "metadata": {
    "ExecuteTime": {
     "end_time": "2022-01-19T21:11:28.503728Z",
     "start_time": "2022-01-19T21:11:28.503717Z"
    },
    "hidden": true
   },
   "outputs": [],
   "source": [
    "# h = 0.007\n",
    "mem = 2 \n",
    "sr  = 40 #?works sampling every 100 frames\n",
    "# sr  = 1 #works sampling every frame\n",
    "distance_L2_pbc = get_distance_L2_pbc(width=200,height=200)\n",
    "link_kwargs = {\n",
    "    'neighbor_strategy' : 'BTree',\n",
    "    'dist_func'         : distance_L2_pbc,\n",
    "    'memory': mem}\n",
    "# df['frame'] = np.around(df['t']/h)\n",
    "# df = df.astype(dtype={'frame':int}).copy()\n",
    "traj = trackpy.link_df(\n",
    "    f=df,search_range=sr,t_column='frame', **link_kwargs)\n",
    "\n",
    "beep(1)"
   ]
  },
  {
   "cell_type": "code",
   "execution_count": null,
   "metadata": {
    "ExecuteTime": {
     "end_time": "2022-01-19T21:11:28.504440Z",
     "start_time": "2022-01-19T21:11:28.504430Z"
    },
    "hidden": true
   },
   "outputs": [],
   "source": [
    "save_fn = os.path.basename(df_dir).replace('_processed.csv', f'_traj_sr_{sr}_mem_{mem}.csv')\n",
    "traj.to_csv(save_fn, index=False)\n",
    "print (save_fn)"
   ]
  },
  {
   "cell_type": "code",
   "execution_count": null,
   "metadata": {
    "ExecuteTime": {
     "end_time": "2022-01-19T21:11:28.505084Z",
     "start_time": "2022-01-19T21:11:28.505074Z"
    },
    "hidden": true
   },
   "outputs": [],
   "source": [
    "#plot spiral tip number versus time\n",
    "# df = traj.copy()\n",
    "#compute the number of spiral tips in each time frame\n",
    "# df.groupby('t').describe().head()\n",
    "n_series = traj['t'].value_counts().sort_index()\n",
    "# plot tip number versus time for long-lived trajectories\n",
    "x_values = n_series.index.values\n",
    "y_values = n_series.values\n",
    "plt.plot(x_values,y_values, label='n, number of trajectories (raw)')\n",
    "\n",
    "# plot tip number versus time for all trajectories\n",
    "t_values = df.t.values\n",
    "n_values = df.n.values\n",
    "plt.plot(t_values, n_values+1, alpha=0.5, label='1+n, measured during simulation')\n",
    "plt.title(\"The number of trajectories reproduces \\nthe originally observed n exactly.\")\n",
    "plt.xlabel('time (ms)')\n",
    "plt.ylabel('n or n+1')\n",
    "plt.legend()\n",
    "plt.show()"
   ]
  },
  {
   "cell_type": "code",
   "execution_count": null,
   "metadata": {
    "ExecuteTime": {
     "end_time": "2022-01-19T21:11:28.506045Z",
     "start_time": "2022-01-19T21:11:28.506036Z"
    },
    "hidden": true
   },
   "outputs": [],
   "source": [
    "#test that every row has a nonnegative particle number\n",
    "assert ( (traj.particle>=0).all() )\n",
    "print ( save_fn ) "
   ]
  },
  {
   "cell_type": "markdown",
   "metadata": {
    "heading_collapsed": true
   },
   "source": [
    "# visualization efforts"
   ]
  },
  {
   "cell_type": "markdown",
   "metadata": {
    "ExecuteTime": {
     "end_time": "2020-06-29T21:17:00.019154Z",
     "start_time": "2020-06-29T21:16:59.979283Z"
    },
    "heading_collapsed": true,
    "hidden": true
   },
   "source": [
    "## compute life times"
   ]
  },
  {
   "cell_type": "markdown",
   "metadata": {
    "hidden": true
   },
   "source": [
    "particles still not being tracked right.  debug between two  time steps from the middle frames ah, search_range must be at least ~1e-2.  Using 1e-0 should work"
   ]
  },
  {
   "cell_type": "code",
   "execution_count": null,
   "metadata": {
    "ExecuteTime": {
     "end_time": "2022-01-19T21:11:28.506846Z",
     "start_time": "2022-01-19T21:11:28.506836Z"
    },
    "hidden": true
   },
   "outputs": [],
   "source": [
    "save_fn = nb_dir+'/Data/ds_5_param_set_8/trajectories/tip_trajectories_ds_5_sigma_1.5_threshold_0.6_traj_sr_1_mem_2.csv'\n",
    "h = 0.007\n",
    "# data_fn = 'tip_log_ds_5_sigma_1.0_threshold_0.6_traj_sr_1.csv'\n",
    "df_traj = pd.read_csv(save_fn)\n",
    "print(save_fn)\n",
    "descrip = 'forFig1'"
   ]
  },
  {
   "cell_type": "code",
   "execution_count": null,
   "metadata": {
    "ExecuteTime": {
     "end_time": "2022-01-19T21:11:28.507580Z",
     "start_time": "2022-01-19T21:11:28.507569Z"
    },
    "hidden": true
   },
   "outputs": [],
   "source": [
    "df_traj.describe()"
   ]
  },
  {
   "cell_type": "code",
   "execution_count": null,
   "metadata": {
    "ExecuteTime": {
     "end_time": "2022-01-19T21:11:28.508348Z",
     "start_time": "2022-01-19T21:11:28.508338Z"
    },
    "hidden": true
   },
   "outputs": [],
   "source": [
    "#compute lifetimes\n",
    "g = df_traj.groupby('particle')['t']\n",
    "mx = g.agg(np.max)\n",
    "mn = g.agg(np.min)\n",
    "gd_lifetimes = mx - mn"
   ]
  },
  {
   "cell_type": "markdown",
   "metadata": {
    "heading_collapsed": true,
    "hidden": true
   },
   "source": [
    "## plot lifetimes"
   ]
  },
  {
   "cell_type": "code",
   "execution_count": null,
   "metadata": {
    "ExecuteTime": {
     "end_time": "2022-01-19T21:11:28.509063Z",
     "start_time": "2022-01-19T21:11:28.509053Z"
    },
    "hidden": true
   },
   "outputs": [],
   "source": [
    "# ll=np.max(gd_lifetimes[gd_lifetimes>0.])\n",
    "# print(f\"the longest living tip lasted {int(np.around(ll/h))} time steps, which was {ll:.3f} ms.\")"
   ]
  },
  {
   "cell_type": "markdown",
   "metadata": {
    "ExecuteTime": {
     "end_time": "2020-06-29T23:39:02.614597Z",
     "start_time": "2020-06-29T23:39:02.579449Z"
    },
    "hidden": true
   },
   "source": [
    " based on Wouter's results, we would expect a lifetime on the order of 10 ms from a birth/death rate of ~0.1/ms.  We have 557 ms of data, so we would expect on the order of 2*557*0.1=111 birth/death events.\n",
    " \n",
    " So, we expect at least one tip that lasts __10 ms__."
   ]
  },
  {
   "cell_type": "code",
   "execution_count": null,
   "metadata": {
    "ExecuteTime": {
     "end_time": "2022-01-19T21:11:28.509898Z",
     "start_time": "2022-01-19T21:11:28.509884Z"
    },
    "code_folding": [],
    "hidden": true
   },
   "outputs": [],
   "source": [
    "# plt.hist?"
   ]
  },
  {
   "cell_type": "code",
   "execution_count": null,
   "metadata": {
    "ExecuteTime": {
     "end_time": "2022-01-19T21:11:28.510564Z",
     "start_time": "2022-01-19T21:11:28.510554Z"
    },
    "hidden": true
   },
   "outputs": [],
   "source": [
    "# plt.hist(out[out>-100], bins=30, density=True)"
   ]
  },
  {
   "cell_type": "code",
   "execution_count": null,
   "metadata": {
    "ExecuteTime": {
     "end_time": "2022-01-19T21:11:28.511313Z",
     "start_time": "2022-01-19T21:11:28.511302Z"
    },
    "hidden": true
   },
   "outputs": [],
   "source": [
    "ll=np.max(gd_lifetimes[gd_lifetimes>0.])\n",
    "print(f\"the longest living tip lasted {int(np.around(ll/h))} time steps, which was {ll:.3f} ms.\")\n",
    "fig_fn = save_fn.replace('.csv','.png').replace('tip_log','hist_lifetimes')\n",
    "# out = np.log(gd_lifetimes)\n",
    "\n",
    "fontsize= 25\n",
    "\n",
    "fig, ax = plt.subplots(figsize=(8,5))\n",
    "plt.hist(gd_lifetimes[gd_lifetimes>0], bins=30, density=True, log=True)\n",
    "plt.ylabel('frequency', fontsize=fontsize)\n",
    "plt.xlabel('lifetime (ms)', fontsize=fontsize)\n",
    "ax.tick_params(axis='both', labelsize= fontsize)\n",
    "plt.tight_layout()\n",
    "# plt.show()\n",
    "savefig_dir = f\"{nb_dir}/Figures/zero_odd_births-deaths_{descrip}.png\"\n",
    "fig.savefig(savefig_dir,dpi=400)\n",
    "print (savefig_dir)\n",
    "# plt.savefig(fig_fn, dpi=300)"
   ]
  },
  {
   "cell_type": "code",
   "execution_count": null,
   "metadata": {
    "ExecuteTime": {
     "end_time": "2022-01-19T21:11:28.511941Z",
     "start_time": "2022-01-19T21:11:28.511931Z"
    },
    "hidden": true
   },
   "outputs": [],
   "source": [
    "y_values = df_traj.n.values\n",
    "x_values = df_traj.t.values\n",
    "plt.plot(x_values,y_values)"
   ]
  },
  {
   "cell_type": "code",
   "execution_count": null,
   "metadata": {
    "ExecuteTime": {
     "end_time": "2022-01-19T21:11:28.512637Z",
     "start_time": "2022-01-19T21:11:28.512626Z"
    },
    "hidden": true
   },
   "outputs": [],
   "source": [
    "y_values = df_traj.n.values\n",
    "x_values = df_traj.t.values\n",
    "plt.plot(x_values,y_values)"
   ]
  },
  {
   "cell_type": "code",
   "execution_count": null,
   "metadata": {
    "ExecuteTime": {
     "end_time": "2022-01-19T21:11:28.513301Z",
     "start_time": "2022-01-19T21:11:28.513290Z"
    },
    "code_folding": [],
    "hidden": true
   },
   "outputs": [],
   "source": [
    "# # (equivalently if pid's are not reused) take max and min time for each trajectory\n",
    "# def get_lifetime(trajectory_list):\n",
    "#     '''trajectory_list is a list of lists.  \n",
    "#     return np.mean( [ len(trajectory) for trajectory in trajectory_list ], axis=0 )'''\n",
    "#     return np.mean( [ len(trajectory) for trajectory in trajectory_list ], axis=0 )\n",
    "# #    TODO: for a given .csv of tip positions, make their trajectories naively in trackpy\n"
   ]
  },
  {
   "cell_type": "code",
   "execution_count": null,
   "metadata": {
    "hidden": true
   },
   "outputs": [],
   "source": []
  },
  {
   "cell_type": "markdown",
   "metadata": {
    "ExecuteTime": {
     "end_time": "2020-06-30T02:16:13.355352Z",
     "start_time": "2020-06-30T02:16:13.326693Z"
    },
    "heading_collapsed": true,
    "hidden": true
   },
   "source": [
    "## walk through the log folder converting tip positions to tip trajectories"
   ]
  },
  {
   "cell_type": "code",
   "execution_count": null,
   "metadata": {
    "ExecuteTime": {
     "end_time": "2022-01-19T21:11:28.514028Z",
     "start_time": "2022-01-19T21:11:28.514018Z"
    },
    "hidden": true
   },
   "outputs": [],
   "source": [
    "log_dir = f\"{nb_dir}/Data/ds_5_param_set_8/Log\"\n",
    "out_dir = f\"{nb_dir}/Data/ds_5_param_set_8/trajectories\"\n",
    "os.chdir(log_dir)\n",
    "input_fn = 'tip_log_ds_5_sigma_0.5_threshold_0.9_002_traj_sr_1_mem_2.csv'\n",
    "h = 0.007\n",
    "sr  = 1\n",
    "def get_df_and_kwargs(input_fn, width=200,height=200, mem = 2):\n",
    "    df = pd.read_csv(input_fn)\n",
    "    distance_L2_pbc = get_distance_L2_pbc(width=width,height=height)\n",
    "    df['frame'] = np.around(df['t']/h)\n",
    "    df = df.astype(dtype={'frame':int}).copy()\n",
    "    link_kwargs = {\n",
    "        'neighbor_strategy' : 'BTree',\n",
    "        'dist_func'         : distance_L2_pbc,\n",
    "        'memory': mem}\n",
    "    return df, link_kwargs"
   ]
  },
  {
   "cell_type": "code",
   "execution_count": null,
   "metadata": {
    "ExecuteTime": {
     "end_time": "2020-07-02T02:44:20.784141Z",
     "start_time": "2020-07-02T02:44:20.750614Z"
    },
    "hidden": true
   },
   "outputs": [],
   "source": []
  },
  {
   "cell_type": "code",
   "execution_count": null,
   "metadata": {
    "ExecuteTime": {
     "end_time": "2022-01-19T21:11:28.514693Z",
     "start_time": "2022-01-19T21:11:28.514683Z"
    },
    "hidden": true
   },
   "outputs": [],
   "source": [
    "#compute all _processed.csv tip logs in the Log folder\n",
    "os.chdir(log_dir)\n",
    "for root, dirs, files in os.walk(\".\", topdown=False):\n",
    "    for name in dirs:\n",
    "        print(os.path.join(root, name))\n",
    "    for name in files:\n",
    "        os.chdir(log_dir)\n",
    "        df_dir = os.path.join(root, name)\n",
    "        if df_dir.find('_processed.csv') !=-1:\n",
    "            print(f\"starting on {df_dir}...\")\n",
    "            df, link_kwargs = get_df_and_kwargs(input_fn=df_dir, width=200,height=200, mem = 2)\n",
    "            # test whether data has no odd spiral tips since the data has periodic boundary conditions\n",
    "            if (np.array(list(set(df.n.values)))%2==1).any():\n",
    "                print(f'WARNING: an odd spiral tips exists in \\n\\t{fn}')\n",
    "            \n",
    "            # compute trajectories (slowest part)\n",
    "            traj = trackpy.link_df(f=df,search_range=sr,t_column='frame', **link_kwargs)\n",
    "            \n",
    "            #save results\n",
    "            os.chdir(out_dir)\n",
    "            save_fn = os.path.basename(df_dir).replace('_processed.csv', f'_traj_sr_{sr}_mem_{mem}.csv').replace('tip_log','tip_trajectories')\n",
    "            traj.to_csv(save_fn, index=False)"
   ]
  },
  {
   "cell_type": "code",
   "execution_count": null,
   "metadata": {
    "ExecuteTime": {
     "end_time": "2022-01-19T21:11:28.515381Z",
     "start_time": "2022-01-19T21:11:28.515365Z"
    },
    "hidden": true
   },
   "outputs": [],
   "source": [
    "beep(7)"
   ]
  },
  {
   "cell_type": "markdown",
   "metadata": {
    "heading_collapsed": true,
    "hidden": true
   },
   "source": [
    "## make a histogram for each output "
   ]
  },
  {
   "cell_type": "code",
   "execution_count": null,
   "metadata": {
    "ExecuteTime": {
     "end_time": "2022-01-19T21:11:28.515934Z",
     "start_time": "2022-01-19T21:11:28.515924Z"
    },
    "hidden": true
   },
   "outputs": [],
   "source": [
    "sr  = 1\n",
    "mem = 2\n",
    "dpi = 300\n",
    "h = 0.007\n",
    "traj_dir = f\"{nb_dir}/Data/ds_5_param_set_8/trajectories\"\n",
    "save_dir = f\"{nb_dir}/Figures\"\n",
    "os.chdir(traj_dir)\n",
    "fontsize=15"
   ]
  },
  {
   "cell_type": "code",
   "execution_count": null,
   "metadata": {
    "ExecuteTime": {
     "end_time": "2022-01-19T21:11:28.516655Z",
     "start_time": "2022-01-19T21:11:28.516616Z"
    },
    "hidden": true,
    "scrolled": false
   },
   "outputs": [],
   "source": [
    "#compute all _processed.csv tip logs in the Log folder\n",
    "for root, dirs, files in os.walk(\".\", topdown=False):\n",
    "    for name in dirs:\n",
    "        print(os.path.join(root, name))\n",
    "    for name in files:\n",
    "        os.chdir(traj_dir)\n",
    "        df_dir = os.path.join(root, name)\n",
    "        if df_dir.find(f'_traj_sr_{sr}_mem_{mem}.csv') !=-1:\n",
    "            print(f\"starting on {df_dir}...\")\n",
    "            df_traj = pd.read_csv(df_dir)\n",
    "\n",
    "#             df = pd.read_csv(data_dir)\n",
    "\n",
    "            # compute lifetimes\n",
    "            g = df_traj.groupby('particle')['t']\n",
    "            mx = g.agg(np.max)\n",
    "            mn = g.agg(np.min)\n",
    "            gd_lifetimes = mx - mn\n",
    "#             gd_lifetimes = gd['max']- gd['min']\n",
    "            \n",
    "            #plot results\n",
    "            ll=np.max(gd_lifetimes[gd_lifetimes>0.])\n",
    "            print(f\"the longest living tip lasted {int(np.around(ll/h))} time steps, which was {ll:.3f} ms.\")\n",
    "            fig_fn = df_dir.replace('.csv','.png').replace('_traj_','hist_lifetimes')\n",
    "            # out = np.log(gd_lifetimes)\n",
    "            plt.hist(gd_lifetimes[gd_lifetimes>0], bins=30, density=True, log=True)\n",
    "            plt.ylabel('frequency', fontsize=fontsize)\n",
    "            plt.xlabel('lifetime (ms)', fontsize=fontsize)\n",
    "            # plt.show()\n",
    "           \n",
    "            \n",
    "            #save results\n",
    "            os.chdir(save_dir)\n",
    "            save_fn = os.path.basename(df_dir).replace(f'_traj_sr_{sr}_mem_{mem}.csv', f'_sr_{sr}_mem_{mem}.csv').replace('tip_trajectories','histogram_lifetimes')\n",
    "            plt.savefig(fig_fn, dpi=dpi)\n",
    "            plt.close()"
   ]
  },
  {
   "cell_type": "markdown",
   "metadata": {
    "heading_collapsed": true,
    "hidden": true
   },
   "source": [
    "## take a close look at when those n = 6 numbers flicker to n=12 during trackpy.link_df\n",
    "### __answer__ frame was rounding funny like in fortran\n",
    "also, my data has some frames missing, and I don't know why...<br>\n",
    "TODO: see if frames are still missing when `recording` is not recomputed every timestep"
   ]
  },
  {
   "cell_type": "code",
   "execution_count": null,
   "metadata": {
    "ExecuteTime": {
     "end_time": "2022-01-19T21:11:28.517922Z",
     "start_time": "2022-01-19T21:11:28.517911Z"
    },
    "hidden": true
   },
   "outputs": [],
   "source": [
    "retval = traj.groupby('frame')['particle', 'n', 't']"
   ]
  },
  {
   "cell_type": "code",
   "execution_count": null,
   "metadata": {
    "ExecuteTime": {
     "end_time": "2022-01-19T21:11:28.518714Z",
     "start_time": "2022-01-19T21:11:28.518703Z"
    },
    "hidden": true
   },
   "outputs": [],
   "source": [
    "l = 69990\n",
    "frame_indices = retval.count().loc[l-1:l+2].index\n",
    "# .reduce('add')"
   ]
  },
  {
   "cell_type": "code",
   "execution_count": null,
   "metadata": {
    "ExecuteTime": {
     "end_time": "2022-01-19T21:11:28.519602Z",
     "start_time": "2022-01-19T21:11:28.519591Z"
    },
    "hidden": true
   },
   "outputs": [],
   "source": [
    "for fi in frame_indices:\n",
    "    pass\n",
    "#     print(df.loc[fi])\n"
   ]
  },
  {
   "cell_type": "code",
   "execution_count": null,
   "metadata": {
    "ExecuteTime": {
     "end_time": "2022-01-19T21:11:28.520313Z",
     "start_time": "2022-01-19T21:11:28.520301Z"
    },
    "hidden": true
   },
   "outputs": [],
   "source": [
    "l = 69990\n",
    "\n",
    "df.loc[(df.frame >= l-2) & (df.frame <= l+2)]#[['particle', 'n', 't']]"
   ]
  },
  {
   "cell_type": "code",
   "execution_count": null,
   "metadata": {
    "ExecuteTime": {
     "end_time": "2022-01-19T21:11:28.520990Z",
     "start_time": "2022-01-19T21:11:28.520964Z"
    },
    "hidden": true
   },
   "outputs": [],
   "source": [
    "# frame_indices = retval.count().loc[l-1:l+2].index"
   ]
  },
  {
   "cell_type": "code",
   "execution_count": null,
   "metadata": {
    "ExecuteTime": {
     "end_time": "2022-01-19T21:11:28.521756Z",
     "start_time": "2022-01-19T21:11:28.521746Z"
    },
    "hidden": true
   },
   "outputs": [],
   "source": [
    "traj.loc[(traj.frame >= l-2) & (traj.frame <= l+2)]"
   ]
  },
  {
   "cell_type": "markdown",
   "metadata": {
    "hidden": true
   },
   "source": [
    "How am I computing the field \"frame\"? How is it rounding?"
   ]
  },
  {
   "cell_type": "code",
   "execution_count": null,
   "metadata": {
    "ExecuteTime": {
     "end_time": "2022-01-19T21:11:28.522533Z",
     "start_time": "2022-01-19T21:11:28.522522Z"
    },
    "hidden": true
   },
   "outputs": [],
   "source": [
    "df['frame'] = np.around(df['t']/h)\n",
    "df = df.astype(dtype={'frame':int}).copy()"
   ]
  },
  {
   "cell_type": "code",
   "execution_count": null,
   "metadata": {
    "ExecuteTime": {
     "end_time": "2022-01-19T21:11:28.523260Z",
     "start_time": "2022-01-19T21:11:28.523249Z"
    },
    "hidden": true
   },
   "outputs": [],
   "source": [
    "df = traj.copy()\n",
    "df['frame'] = np.around(df['t']/h)\n",
    "df = df.astype(dtype={'frame':int}).copy()\n",
    "df.loc[(traj.frame >= l-2) & (traj.frame <= l+2)]"
   ]
  },
  {
   "cell_type": "markdown",
   "metadata": {
    "ExecuteTime": {
     "end_time": "2020-06-30T03:51:24.005048Z",
     "start_time": "2020-06-30T03:51:23.975142Z"
    },
    "hidden": true
   },
   "source": [
    "##  spiral tip investigating tips with small lifetimes\n",
    "- TODO: plot tip number versus time for trajectories and raw positions\n",
    "    - Does tip doubling still exist?\n",
    "    - if so, consider investigating tip doubling near missing frames explicitely plug into trackpy.link_df\n",
    "\n",
    "\n",
    "- TODO: select tips with short lifetimes. visualize.\n",
    "- TODO: select tips with long lifetimes. visualize.\n",
    "\n",
    " - TODO(later): compute the velocity of a given tip that doesn't cross the periodic boundaries\n",
    "\n"
   ]
  },
  {
   "cell_type": "markdown",
   "metadata": {
    "ExecuteTime": {
     "end_time": "2020-07-02T01:23:42.509319Z",
     "start_time": "2020-07-02T01:23:42.483798Z"
    },
    "heading_collapsed": true,
    "hidden": true
   },
   "source": [
    "## select the long life time spiral tips and plot their birth death rates"
   ]
  },
  {
   "cell_type": "code",
   "execution_count": null,
   "metadata": {
    "ExecuteTime": {
     "end_time": "2022-01-19T21:11:28.524498Z",
     "start_time": "2022-01-19T21:11:28.524448Z"
    },
    "hidden": true
   },
   "outputs": [],
   "source": [
    "!pwd"
   ]
  },
  {
   "cell_type": "code",
   "execution_count": null,
   "metadata": {
    "ExecuteTime": {
     "end_time": "2022-01-19T21:11:28.525552Z",
     "start_time": "2022-01-19T21:11:28.525541Z"
    },
    "hidden": true
   },
   "outputs": [],
   "source": [
    "#import most recent tip trajectory data and the corresponding raw tips\n",
    "data_dir_traj = f\"{nb_dir}/Data/ds_5_param_set_8/trajectories\"\n",
    "# data_fn_traj  = 'tip_trajectories_ds_5_sigma_1.0_threshold_0.9_traj_sr_1_mem_2.csv' # nice trajectories\n",
    "data_fn_traj  = 'tip_log_ds_5_sigma_0.5_threshold_0.9_005_traj_sr_1_mem_2.csv'# has EP data but has broken trajectories\n",
    "data_fn = data_fn_traj\n",
    "# data_dir_log  = f\"{nb_dir}/Data/ds_5_param_set_8/Log\"\n",
    "# data_fn_log_processed = 'tip_log_ds_5_sigma_1.0_threshold_0.6_processed.csv'\n",
    "# data_fn_log = 'tip_log_ds_5_sigma_1.0_threshold_0.6_001.csv' #not terribly useful\n",
    "\n",
    "os.chdir(data_dir_traj)\n",
    "df = pd.read_csv(data_fn_traj)\n",
    "# select only data after 100 milliseconds\n",
    "df = df[df.t>100].copy()\n",
    "\n",
    "print('tip trajectories:')\n",
    "df.head()"
   ]
  },
  {
   "cell_type": "code",
   "execution_count": null,
   "metadata": {
    "ExecuteTime": {
     "end_time": "2022-01-19T21:11:28.526521Z",
     "start_time": "2022-01-19T21:11:28.526504Z"
    },
    "hidden": true
   },
   "outputs": [],
   "source": [
    "# os.chdir(data_dir_log)\n",
    "# df_log = pd.read_csv(data_fn_log_processed)\n",
    "\n",
    "# # select only data after 100 milliseconds\n",
    "# df_log = df_log[df_log.t>100].copy()\n",
    "# print('tip log processed:')\n",
    "# df_log.head()"
   ]
  },
  {
   "cell_type": "markdown",
   "metadata": {
    "heading_collapsed": true,
    "hidden": true
   },
   "source": [
    "## do spiral tips with a sufficiently large lifetime reproduce known results?"
   ]
  },
  {
   "cell_type": "code",
   "execution_count": null,
   "metadata": {
    "ExecuteTime": {
     "end_time": "2022-01-19T21:11:28.527698Z",
     "start_time": "2022-01-19T21:11:28.527684Z"
    },
    "hidden": true
   },
   "outputs": [],
   "source": [
    "# df.describe()"
   ]
  },
  {
   "cell_type": "code",
   "execution_count": null,
   "metadata": {
    "ExecuteTime": {
     "end_time": "2022-01-19T21:11:28.528851Z",
     "start_time": "2022-01-19T21:11:28.528839Z"
    },
    "hidden": true
   },
   "outputs": [],
   "source": [
    "#TODO: test for gaps in a given trajectory\n",
    "#TODO: test for consistency between frame and time"
   ]
  },
  {
   "cell_type": "code",
   "execution_count": null,
   "metadata": {
    "ExecuteTime": {
     "end_time": "2020-08-04T19:52:30.026153Z",
     "start_time": "2020-08-04T19:52:30.002547Z"
    },
    "hidden": true
   },
   "outputs": [],
   "source": []
  },
  {
   "cell_type": "code",
   "execution_count": null,
   "metadata": {
    "ExecuteTime": {
     "end_time": "2022-01-19T21:11:28.529790Z",
     "start_time": "2022-01-19T21:11:28.529779Z"
    },
    "hidden": true
   },
   "outputs": [],
   "source": [
    "xmin=0; ymin=0; xmax=200; ymax=200; \n",
    "axis = [xmin,xmax,ymin,ymax]\n"
   ]
  },
  {
   "cell_type": "code",
   "execution_count": null,
   "metadata": {
    "ExecuteTime": {
     "end_time": "2022-01-19T21:11:28.530689Z",
     "start_time": "2022-01-19T21:11:28.530659Z"
    },
    "hidden": true
   },
   "outputs": [],
   "source": [
    "#naive computation of lifetime for a given tip\n",
    "def get_lifetime(pid,df):\n",
    "    mx,mn = df[(df.particle==pid)].t.describe()[['max','min']]\n",
    "    lifetime = mx-mn #milliseconds\n",
    "    return lifetime\n",
    "\n",
    "pid_values = np.array(list(set(df.particle.values)))\n",
    "# lifetime_values = [0.*pid for pid in pid_values]\n",
    "\n",
    "lifetime_values = np.array([get_lifetime(pid,df) for pid in pid_values])\n",
    "\n",
    "\n"
   ]
  },
  {
   "cell_type": "code",
   "execution_count": null,
   "metadata": {
    "ExecuteTime": {
     "end_time": "2022-01-19T21:11:28.531722Z",
     "start_time": "2022-01-19T21:11:28.531711Z"
    },
    "hidden": true,
    "scrolled": true
   },
   "outputs": [],
   "source": [
    "# plot tip number versus time for all trajectories\n",
    "t_values = df.t.values\n",
    "n_values = df.n.values\n",
    "plt.plot(t_values, n_values, alpha=0.5)"
   ]
  },
  {
   "cell_type": "code",
   "execution_count": null,
   "metadata": {
    "ExecuteTime": {
     "end_time": "2022-01-19T21:11:28.532554Z",
     "start_time": "2022-01-19T21:11:28.532523Z"
    },
    "hidden": true
   },
   "outputs": [],
   "source": [
    "# len(lifetime_values[boo])"
   ]
  },
  {
   "cell_type": "code",
   "execution_count": null,
   "metadata": {
    "ExecuteTime": {
     "end_time": "2020-08-04T19:58:10.518921Z",
     "start_time": "2020-08-04T19:58:10.495087Z"
    },
    "hidden": true
   },
   "outputs": [],
   "source": []
  },
  {
   "cell_type": "code",
   "execution_count": null,
   "metadata": {
    "ExecuteTime": {
     "end_time": "2022-01-19T21:11:28.533681Z",
     "start_time": "2022-01-19T21:11:28.533670Z"
    },
    "hidden": true
   },
   "outputs": [],
   "source": [
    "# plt.hist(x)"
   ]
  },
  {
   "cell_type": "code",
   "execution_count": null,
   "metadata": {
    "ExecuteTime": {
     "end_time": "2022-01-19T21:11:28.534414Z",
     "start_time": "2022-01-19T21:11:28.534404Z"
    },
    "hidden": true
   },
   "outputs": [],
   "source": [
    "#the above spiral tip lifetime estimates may not be accurate.  But W±1 = 0...\n",
    "#TODO: plot the xy positions of the long lived spiral tips, coloring by pid.\n"
   ]
  },
  {
   "cell_type": "code",
   "execution_count": null,
   "metadata": {
    "ExecuteTime": {
     "end_time": "2020-08-05T16:34:28.160531Z",
     "start_time": "2020-08-05T16:34:28.120913Z"
    },
    "hidden": true
   },
   "outputs": [],
   "source": []
  },
  {
   "cell_type": "code",
   "execution_count": null,
   "metadata": {
    "ExecuteTime": {
     "end_time": "2022-01-19T21:11:28.535226Z",
     "start_time": "2022-01-19T21:11:28.535216Z"
    },
    "hidden": true
   },
   "outputs": [],
   "source": [
    "#plot the xy trajectory for longliving tips\n",
    "saving = False\n",
    "fig, ax = plt.subplots(figsize=(5, 5))\n",
    "fontsize=16\n",
    "\n",
    "LT_thresh = 2 #14 = 0.007*2000\n",
    "boo = (lifetime_values>LT_thresh)\n",
    "savefig_dir = f'{nb_dir}/Figures/lifetime_analysis'\n",
    "savefig_fn = data_fn.replace('.csv',f'_lifetimes_longerthan_{LT_thresh:.2f}_005.png')\n",
    "\n",
    "df_traj = df.copy()\n",
    "for pid in pid_values[boo]:\n",
    "    x_values ,y_values = df_traj[(df_traj.particle==pid) ][['x','y']].values.T\n",
    "    plt.scatter(x_values,y_values, s=.1)\n",
    "    plt.scatter([x_values[0]],[y_values[0]], s=10,color='black')\n",
    "plt.axis(axis)\n",
    "plt.title(f'''spiral tip lasting more than {LT_thresh:.2f} ms\n",
    "(tips start at black dots)''', fontsize=fontsize)\n",
    "ax.set_xlabel('x coordinate (pixels)', fontsize=fontsize)\n",
    "ax.set_ylabel('y coordinate (pixels)', fontsize=fontsize)\n",
    "if not saving: \n",
    "    plt.show() \n",
    "else:\n",
    "    plt.tight_layout()\n",
    "    os.chdir(savefig_dir)\n",
    "    plt.savefig(savefig_fn, dpi=300)\n",
    "    print(f\"saved figure in \\n\\t{savefig_fn}.\")"
   ]
  },
  {
   "cell_type": "markdown",
   "metadata": {
    "ExecuteTime": {
     "end_time": "2020-08-04T19:46:54.606778Z",
     "start_time": "2020-08-04T19:46:54.456614Z"
    },
    "hidden": true
   },
   "source": [
    "__Long Lifetimes at later times look reasonable__<br>\n",
    "for ^these lifetimes, the spatial trajectories appear robust when considering only lifetimes 1.5ms or longer, but not for 1.0ms or shorter.  Many of the spiral tips with high frequencies are removed by ommiting data shortly after initialization (considering only times greater than t=100ms)."
   ]
  },
  {
   "cell_type": "markdown",
   "metadata": {
    "ExecuteTime": {
     "end_time": "2020-08-04T20:06:59.513650Z",
     "start_time": "2020-08-04T20:06:59.487892Z"
    },
    "hidden": true
   },
   "source": [
    "### testing for sensitivity to LT_thresh\n",
    "The total number of spiral tips appears reletivley stable when considering only spiral tips with a lifetime greater than 2 milliseconds."
   ]
  },
  {
   "cell_type": "code",
   "execution_count": null,
   "metadata": {
    "ExecuteTime": {
     "end_time": "2022-01-19T21:11:28.535863Z",
     "start_time": "2022-01-19T21:11:28.535853Z"
    },
    "hidden": true
   },
   "outputs": [],
   "source": [
    "x_values = np.linspace(1,15,100)\n",
    "y_values = []\n",
    "for LT_thresh in x_values:\n",
    "    boo = (lifetime_values>LT_thresh)\n",
    "    number_of_particles = lifetime_values[boo].shape[0]\n",
    "    y_values.append(number_of_particles)\n",
    "y_values = np.array(y_values)"
   ]
  },
  {
   "cell_type": "code",
   "execution_count": null,
   "metadata": {
    "ExecuteTime": {
     "end_time": "2022-01-19T21:11:28.536454Z",
     "start_time": "2022-01-19T21:11:28.536445Z"
    },
    "hidden": true
   },
   "outputs": [],
   "source": [
    "#plot total particle number versus LT_thresh.  \n",
    "#plot the xy trajectory for longliving tips\n",
    "saving = True\n",
    "savefig_fn = 'total_num_tips_versus_minimum_lifetime_threshold_zoomed.png'\n",
    "fig, ax = plt.subplots(figsize=(4, 4))\n",
    "fontsize=16\n",
    "\n",
    "ax.plot(x_values,y_values)\n",
    "# ax.set_title('total number of spiral tips observed after time t=100ms', fontsize=fontsize)\n",
    "ax.set_xlabel('min. lifetime threshold (ms)', fontsize=fontsize)\n",
    "ax.set_ylabel('total num. tips', fontsize=fontsize)\n",
    "if not saving: \n",
    "    plt.show() \n",
    "else:\n",
    "    plt.tight_layout()\n",
    "    os.chdir(savefig_dir)\n",
    "    plt.savefig(savefig_fn, dpi=300)\n",
    "    print(f\"saved figure in \\n\\t{savefig_fn}.\")"
   ]
  },
  {
   "cell_type": "code",
   "execution_count": null,
   "metadata": {
    "ExecuteTime": {
     "end_time": "2022-01-19T21:11:28.537091Z",
     "start_time": "2022-01-19T21:11:28.537080Z"
    },
    "hidden": true
   },
   "outputs": [],
   "source": [
    "\n",
    "# #TODO: plot a better histogram of tips lifetimes\n",
    "# boo = (lifetime_values>0.007*2000)\n",
    "# mu = 200\n",
    "# sigma = 25\n",
    "# n_bins = 50\n",
    "# x = lifetime_values[boo]\n",
    "\n",
    "# fig, ax = plt.subplots(figsize=(8, 4))\n",
    "\n",
    "# # plot the cumulative histogram\n",
    "# n, bins, patches = ax.hist(x, n_bins, density=True, histtype='step',\n",
    "#                            cumulative=True, label='Empirical')\n",
    "\n",
    "# # Add a line showing the expected distribution.\n",
    "# y = ((1 / (np.sqrt(2 * np.pi) * sigma)) *\n",
    "#      np.exp(-0.5 * (1 / sigma * (bins - mu))**2))\n",
    "# y = y.cumsum()\n",
    "# y /= y[-1]\n",
    "\n",
    "# ax.plot(bins, y, 'k--', linewidth=1.5, label='Theoretical')\n",
    "\n",
    "# # Overlay a reversed cumulative histogram.\n",
    "# ax.hist(x, bins=bins, density=True, histtype='step', cumulative=-1,\n",
    "#         label='Reversed emp.')\n",
    "\n",
    "# # tidy up the figure\n",
    "# ax.grid(True)\n",
    "# ax.legend(loc='right')\n",
    "# ax.set_title('Cumulative step histograms')\n",
    "# ax.set_xlabel('spiral tip lifetime (sec)')\n",
    "# ax.set_ylabel('Likelihood of occurrence')\n"
   ]
  },
  {
   "cell_type": "markdown",
   "metadata": {
    "heading_collapsed": true,
    "hidden": true
   },
   "source": [
    "## plot a histogram of spiral tip lifetimes when considering only these features\n",
    "\n",
    "Despite this lifetime spiral tips still exist.  Since the xy-plots of the trajectories look reasonable, it is worth considering what may distinguish these spiral tips.  \n",
    "- TODO: plot birth death rates of spiral tips when only considering these tips\n",
    "\n",
    "- TODO: plot local EP properties for short-lived and long-lived spiral tips"
   ]
  },
  {
   "cell_type": "code",
   "execution_count": null,
   "metadata": {
    "ExecuteTime": {
     "end_time": "2022-01-19T21:11:28.538533Z",
     "start_time": "2022-01-19T21:11:28.538512Z"
    },
    "hidden": true
   },
   "outputs": [],
   "source": [
    "LT_thresh = 2\n",
    "boo = (lifetime_values>LT_thresh)\n",
    "x = lifetime_values[boo]\n",
    "plt.hist(x, bins=30)\n"
   ]
  },
  {
   "cell_type": "code",
   "execution_count": null,
   "metadata": {
    "ExecuteTime": {
     "end_time": "2022-01-19T21:11:28.539921Z",
     "start_time": "2022-01-19T21:11:28.539900Z"
    },
    "hidden": true
   },
   "outputs": [],
   "source": [
    "#plot the xy trajectory for longliving tips\n",
    "saving = True\n",
    "fig, ax = plt.subplots(figsize=(5, 4))\n",
    "fontsize=16\n",
    "\n",
    "\n",
    "savefig_dir = f'{nb_dir}/Figures/lifetime_analysis'\n",
    "savefig_fn = 'spiral_tip_histogram.png'\n",
    "\n",
    "for pid in pid_values[boo]:\n",
    "    ax.hist(x, bins = 30)#, color='b')\n",
    "# plt.axis(axis)\n",
    "ax.set_title(f'''spiral tip lifetimes don't appear unimodal \\n(no unreasonably brief spiral tips)''', fontsize=fontsize)\n",
    "ax.set_xlabel('lifetime (ms)', fontsize=fontsize)\n",
    "ax.set_ylabel('frequency', fontsize=fontsize)\n",
    "if not saving: \n",
    "    plt.show() \n",
    "else:\n",
    "    plt.tight_layout()\n",
    "    os.chdir(savefig_dir)\n",
    "    plt.savefig(savefig_fn, dpi=300)\n",
    "    print(f\"saved figure in \\n\\t{savefig_fn}.\")"
   ]
  },
  {
   "cell_type": "code",
   "execution_count": null,
   "metadata": {
    "ExecuteTime": {
     "end_time": "2020-08-04T20:29:22.482563Z",
     "start_time": "2020-08-04T20:29:22.456541Z"
    },
    "hidden": true
   },
   "outputs": [],
   "source": []
  },
  {
   "cell_type": "code",
   "execution_count": null,
   "metadata": {
    "ExecuteTime": {
     "end_time": "2022-01-19T21:11:28.541123Z",
     "start_time": "2022-01-19T21:11:28.541106Z"
    },
    "hidden": true
   },
   "outputs": [],
   "source": [
    "xcoord_mesh, ycoord_mesh = np.meshgrid(np.arange(0,200),np.arange(0,200))"
   ]
  },
  {
   "cell_type": "code",
   "execution_count": null,
   "metadata": {
    "ExecuteTime": {
     "end_time": "2022-01-19T21:11:28.541986Z",
     "start_time": "2022-01-19T21:11:28.541970Z"
    },
    "hidden": true
   },
   "outputs": [],
   "source": [
    "df.particle==5"
   ]
  },
  {
   "cell_type": "markdown",
   "metadata": {
    "heading_collapsed": true
   },
   "source": [
    "# EP states are jumpy as they are, (even for the cubic spline?)\n",
    "- TODO: check that cubic spline is actually rough\n",
    "histogram of EP states"
   ]
  },
  {
   "cell_type": "code",
   "execution_count": null,
   "metadata": {
    "ExecuteTime": {
     "end_time": "2022-01-19T21:11:28.543222Z",
     "start_time": "2022-01-19T21:11:28.543205Z"
    },
    "hidden": true
   },
   "outputs": [],
   "source": [
    "#import most recent tip trajectory data and the corresponding raw tips\n",
    "data_dir_traj = f\"{nb_dir}/Data/ds_5_param_set_8/trajectories\"\n",
    "# data_fn_traj  = 'tip_trajectories_ds_5_sigma_1.0_threshold_0.9_traj_sr_1_mem_2.csv' # nice trajectories\n",
    "data_fn_traj  = 'tip_log_ds_5_sigma_0.5_threshold_0.9_005_traj_sr_1_mem_2.csv'# has EP data but has broken trajectories\n",
    "data_fn = data_fn_traj\n",
    "# data_dir_log  = f\"{nb_dir}/Data/ds_5_param_set_8/Log\"\n",
    "# data_fn_log_processed = 'tip_log_ds_5_sigma_1.0_threshold_0.6_processed.csv'\n",
    "# data_fn_log = 'tip_log_ds_5_sigma_1.0_threshold_0.6_001.csv' #not terribly useful\n",
    "\n",
    "os.chdir(data_dir_traj)\n",
    "df = pd.read_csv(data_fn_traj)\n",
    "# select only data after 100 milliseconds\n",
    "df = df[df.t>100].copy()\n",
    "\n",
    "# print('tip trajectories:')\n",
    "# df.head()\n",
    "df.columns.values"
   ]
  },
  {
   "cell_type": "code",
   "execution_count": null,
   "metadata": {
    "ExecuteTime": {
     "end_time": "2022-01-19T21:11:28.544194Z",
     "start_time": "2022-01-19T21:11:28.544176Z"
    },
    "hidden": true
   },
   "outputs": [],
   "source": [
    "# def unwrap_EP(df, \n",
    "#               EP_col_name = 'states_interpolated_linear', \n",
    "#               drop_original_column=False):\n",
    "#     EP_col_exists =  EP_col_name in df.columns.values\n",
    "#     if not EP_col_exists:\n",
    "#         print(f\"Caution! EP_col_name '{EP_col_exists}' does not exist. Returning input df.\")\n",
    "#         return df\n",
    "#     else:\n",
    "#         V_lst = []\n",
    "#         f_lst = []\n",
    "#         s_lst = []\n",
    "#         for index, row in df.iterrows():\n",
    "#             try:\n",
    "#                 V,f,s = row[EP_col_name]\n",
    "#             except Exception as e:\n",
    "#                 V,f,s = eval(row[EP_col_name])\n",
    "#             V_lst.append(V)\n",
    "#             f_lst.append(f)\n",
    "#             s_lst.append(s)\n",
    "#         df['V'] = V_lst\n",
    "#         df['f'] = f_lst\n",
    "#         df['s'] = s_lst   \n",
    "#         df.drop(columns=[EP_col_name], inplace=True)\n",
    "#         return df"
   ]
  },
  {
   "cell_type": "code",
   "execution_count": null,
   "metadata": {
    "ExecuteTime": {
     "end_time": "2022-01-19T21:11:28.545309Z",
     "start_time": "2022-01-19T21:11:28.545291Z"
    },
    "hidden": true
   },
   "outputs": [],
   "source": [
    "df = unwrap_EP(df, EP_col_name = 'states_interpolated_linear').copy()\n",
    "plt.plot(df.loc[df.particle==119].V.values)"
   ]
  },
  {
   "cell_type": "code",
   "execution_count": null,
   "metadata": {
    "ExecuteTime": {
     "end_time": "2022-01-19T21:11:28.546248Z",
     "start_time": "2022-01-19T21:11:28.546231Z"
    },
    "hidden": true
   },
   "outputs": [],
   "source": [
    "df = unwrap_EP(df, EP_col_name = 'states_interpolated_cubic').copy()\n",
    "plt.plot(df.loc[df.particle==119].V.values)"
   ]
  },
  {
   "cell_type": "code",
   "execution_count": null,
   "metadata": {
    "ExecuteTime": {
     "end_time": "2022-01-19T21:11:28.547255Z",
     "start_time": "2022-01-19T21:11:28.547238Z"
    },
    "hidden": true
   },
   "outputs": [],
   "source": [
    "df = unwrap_EP(df, EP_col_name = 'states_nearest').copy()\n",
    "plt.plot(df.loc[df.particle==119].V.values)"
   ]
  },
  {
   "cell_type": "code",
   "execution_count": null,
   "metadata": {
    "ExecuteTime": {
     "end_time": "2022-01-19T21:11:28.548364Z",
     "start_time": "2022-01-19T21:11:28.548349Z"
    },
    "hidden": true
   },
   "outputs": [],
   "source": [
    "LT_thresh = 2\n",
    "boo = (lifetime_values>LT_thresh)\n",
    "V_lst = []\n",
    "f_lst = []\n",
    "s_lst = []\n",
    "for pid in pid_values[boo]:\n",
    "    V,f,s = eval(df.loc[df.particle==pid]['states_interpolated_cubic'].tail(1).values[0])\n",
    "    V_lst.append(V)\n",
    "    f_lst.append(f)\n",
    "    s_lst.append(s)\n",
    "    "
   ]
  },
  {
   "cell_type": "code",
   "execution_count": null,
   "metadata": {
    "ExecuteTime": {
     "end_time": "2022-01-19T21:11:28.549208Z",
     "start_time": "2022-01-19T21:11:28.549192Z"
    },
    "hidden": true
   },
   "outputs": [],
   "source": [
    "x = np.array(V_lst)\n",
    "\n",
    "fig, ax = plt.subplots(figsize=(5, 4))\n",
    "fontsize=16\n",
    "\n",
    "ax.hist(x)\n",
    "ax.set_title('voltage at last observed location\\nfor spiral tips living longer than 2ms')\n",
    "ax.set_xlabel('$V_{mem}$ (normalized)',fontsize=fontsize)\n",
    "ax.set_ylabel('freq.',fontsize=fontsize)\n",
    "\n"
   ]
  },
  {
   "cell_type": "code",
   "execution_count": null,
   "metadata": {
    "ExecuteTime": {
     "end_time": "2022-01-19T21:11:28.550257Z",
     "start_time": "2022-01-19T21:11:28.550239Z"
    },
    "hidden": true
   },
   "outputs": [],
   "source": [
    "arr = []\n",
    "for si in df.loc[df.particle==pid]['states_nearest'].values:\n",
    "    si = eval(si)\n",
    "    arr.append(si)"
   ]
  },
  {
   "cell_type": "code",
   "execution_count": null,
   "metadata": {
    "ExecuteTime": {
     "end_time": "2022-01-19T21:11:28.551169Z",
     "start_time": "2022-01-19T21:11:28.551152Z"
    },
    "hidden": true
   },
   "outputs": [],
   "source": [
    "a,b,c = np.array(arr).T\n",
    "t_values = df.loc[df.particle==pid]['t'].values\n",
    "t_values = t_values-t_values[0]"
   ]
  },
  {
   "cell_type": "code",
   "execution_count": null,
   "metadata": {
    "ExecuteTime": {
     "end_time": "2022-01-19T21:11:28.552093Z",
     "start_time": "2022-01-19T21:11:28.552077Z"
    },
    "hidden": true
   },
   "outputs": [],
   "source": [
    "fig, ax = plt.subplots(figsize=(5, 4))\n",
    "fontsize=16\n",
    "\n",
    "plt.plot(t_values, a, label = 'voltage')\n",
    "plt.plot(t_values, b, label = 'fast var')\n",
    "plt.plot(t_values, c, label = 'slow var')\n",
    "\n",
    "ax.set_title('EP state of an example spiral tip (nearest)',fontsize=fontsize)\n",
    "ax.set_xlabel('time (ms)',fontsize=fontsize)\n",
    "ax.set_ylabel('value',fontsize=fontsize)\n",
    "ax.legend()"
   ]
  },
  {
   "cell_type": "code",
   "execution_count": null,
   "metadata": {
    "ExecuteTime": {
     "end_time": "2022-01-19T21:11:28.553309Z",
     "start_time": "2022-01-19T21:11:28.553292Z"
    },
    "hidden": true
   },
   "outputs": [],
   "source": [
    "t_values.values"
   ]
  },
  {
   "cell_type": "code",
   "execution_count": null,
   "metadata": {
    "ExecuteTime": {
     "end_time": "2022-01-19T21:11:28.554207Z",
     "start_time": "2022-01-19T21:11:28.554189Z"
    },
    "hidden": true,
    "scrolled": true
   },
   "outputs": [],
   "source": [
    "#plot the xy trajectory for longliving tips\n",
    "saving = False\n",
    "fontsize=16\n",
    "# df_traj = df.copy()\n",
    "df = df[df.t>100].copy()\n",
    "\n",
    "savefig_dir = f'{nb_dir}/Figures/lifetime_analysis'\n",
    "savefig_fn = data_fn.replace('.csv',f'_lifetimes_longerthan_{LT_thresh:.2f}_005.png')\n",
    "\n",
    "xmin=0; ymin=0; xmax=200; ymax=200; \n",
    "axis = [xmin,xmax,ymin,ymax]\n",
    "\n",
    "fig, ax = plt.subplots(figsize=(5, 5))\n",
    "for pid in pid_values[boo]:\n",
    "    x_values ,y_values = df_traj[(df_traj.particle==pid) ][['x','y']].values.T\n",
    "    plt.scatter(x_values,y_values, s=.1)\n",
    "    plt.scatter([x_values[0]],[y_values[0]], s=10,color='black')\n",
    "plt.axis(axis)\n",
    "plt.title(f'''spiral tip lasting more than {LT_thresh:.2f} ms\n",
    "(tips start at black dots)''', fontsize=fontsize)\n",
    "ax.set_xlabel('x coordinate (pixels)', fontsize=fontsize)\n",
    "ax.set_ylabel('y coordinate (pixels)', fontsize=fontsize)\n",
    "if not saving: \n",
    "    plt.show() \n",
    "else:\n",
    "    plt.tight_layout()\n",
    "    os.chdir(savefig_dir)\n",
    "    plt.savefig(savefig_fn, dpi=300)\n",
    "    print(f\"saved figure in \\n\\t{savefig_fn}.\")"
   ]
  },
  {
   "cell_type": "markdown",
   "metadata": {
    "heading_collapsed": true
   },
   "source": [
    "# recompute birth/death rates, considering only the long-lived spiral tips"
   ]
  },
  {
   "cell_type": "code",
   "execution_count": null,
   "metadata": {
    "ExecuteTime": {
     "end_time": "2022-01-19T21:11:28.555304Z",
     "start_time": "2022-01-19T21:11:28.555288Z"
    },
    "hidden": true
   },
   "outputs": [],
   "source": [
    "#TODO: the first and last time point for each trajectory\n",
    "#TODO: using ^this data as numerical input alone, compute the number of spiral tips as a function of time\n",
    "#TODO: refer to existing birth-death rate method"
   ]
  },
  {
   "cell_type": "code",
   "execution_count": null,
   "metadata": {
    "ExecuteTime": {
     "end_time": "2022-01-19T21:11:28.556135Z",
     "start_time": "2022-01-19T21:11:28.556118Z"
    },
    "hidden": true
   },
   "outputs": [],
   "source": [
    "# #import most recent tip trajectory data and the corresponding raw tips\n",
    "# data_dir_traj = f\"{nb_dir}/Data/ds_5_param_set_8/trajectories\"\n",
    "# data_fn_traj  = 'tip_trajectories_ds_5_sigma_1.0_threshold_0.9_traj_sr_1_mem_2.csv' # nice trajectories\n",
    "\n",
    "tmin = 50#100\n",
    "LT_thresh = 0#2 #14 = 0.007*2000\n",
    "\n",
    "#import most recent tip trajectory data and the corresponding raw tips\n",
    "data_dir_traj = f\"{nb_dir}/Data/ds_5_param_set_8/trajectories\"\n",
    "# data_fn_traj  = \"tip_log_ds_5_sigma_1.0_threshold_0.8_006_traj_sr_10_mem_2.csv\"\n",
    "data_fn_traj  = 'tip_log_ds_5_sigma_1.5_threshold_0.6_006_traj_sr_40_mem_2.csv'\n",
    "# data_fn_traj = save_fn\n",
    "print ( data_fn_traj )\n",
    "os.chdir(data_dir_traj)\n",
    "df = pd.read_csv(data_fn_traj)\n",
    "# select only data after 100 milliseconds\n",
    "df = df[df.t>tmin].copy()\n",
    "\n",
    "#naive computation of lifetime for a given tip\n",
    "def get_lifetime(pid,df):\n",
    "    mx,mn = df[(df.particle==pid)].t.describe()[['max','min']]\n",
    "    lifetime = mx-mn #milliseconds\n",
    "    return lifetime\n",
    "\n",
    "pid_values = np.array(list(set(df.particle.values)))\n",
    "lifetime_values = np.array([get_lifetime(pid,df) for pid in pid_values])\n",
    "\n",
    "#get a DataFrame of only the long lived spiral tips\n",
    "\n",
    "boo = (lifetime_values>LT_thresh)\n",
    "boo_long = (df.particle is None)\n",
    "for pid in pid_values[boo]:\n",
    "    boo_long |= (df.particle==pid)\n",
    "    \n",
    "df = df[boo_long].copy()"
   ]
  },
  {
   "cell_type": "code",
   "execution_count": null,
   "metadata": {
    "ExecuteTime": {
     "end_time": "2022-01-19T21:11:28.557136Z",
     "start_time": "2022-01-19T21:11:28.557120Z"
    },
    "hidden": true
   },
   "outputs": [],
   "source": [
    "#compute the number of spiral tips in each time frame\n",
    "# df.groupby('t').describe().head()\n",
    "n_series = df['t'].value_counts().sort_index()"
   ]
  },
  {
   "cell_type": "code",
   "execution_count": null,
   "metadata": {
    "ExecuteTime": {
     "end_time": "2022-01-19T21:11:28.558313Z",
     "start_time": "2022-01-19T21:11:28.558295Z"
    },
    "hidden": true
   },
   "outputs": [],
   "source": [
    "#compute the number of spiral tips in each time frame\n",
    "# df.groupby('t').describe().head()\n",
    "n_series = df['t'].value_counts().sort_index()\n",
    "# plot tip number versus time for long-lived trajectories\n",
    "x_values = n_series.index.values\n",
    "y_values = n_series.values\n",
    "plt.plot(x_values,y_values)"
   ]
  },
  {
   "cell_type": "code",
   "execution_count": null,
   "metadata": {
    "ExecuteTime": {
     "end_time": "2022-01-19T21:11:28.559464Z",
     "start_time": "2022-01-19T21:11:28.559447Z"
    },
    "hidden": true
   },
   "outputs": [],
   "source": [
    "#plot the xy trajectory for longliving tips\n",
    "saving = False\n",
    "fontsize=16\n",
    "df_traj = df.query('t < 110 and t > 90').copy()\n",
    "# df_traj = df.query('t > 500').copy()\n",
    "savefig_dir = f'{nb_dir}/Figures/lifetime_analysis'\n",
    "savefig_fn = data_fn.replace('.csv',f'_mistake_still_exists?_sigma_{sigma}_threshold_{threshold}.png')\n",
    "\n",
    "xmin=0; ymin=0; xmax=200; ymax=200; \n",
    "axis = [xmin,xmax,ymin,ymax]\n",
    "\n",
    "fig, ax = plt.subplots(figsize=(5, 5))\n",
    "for pid in list(set(df_traj['particle'].values)):\n",
    "    x_values ,y_values, c_values = df_traj[(df_traj.particle==pid)][['x','y', 't']].values.T \n",
    "    plt.scatter(x_values,y_values, s=.1, c=c_values, vmin = 500, vmax = 600)\n",
    "    \n",
    "    plt.scatter([x_values[0]],[y_values[0]], s=10,color='green')\n",
    "    plt.scatter([x_values[-1]],[y_values[-1]], s=10,color='red')\n",
    "plt.axis(axis)\n",
    "plt.title(f'''mistakes still made when t>500ms \\nfor $\\sigma={sigma}$ and threshold={threshold}\n",
    "(tips start at green dots)''', fontsize=fontsize)\n",
    "ax.set_xlabel('x coordinate (pixels)', fontsize=fontsize)\n",
    "ax.set_ylabel('y coordinate (pixels)', fontsize=fontsize)\n",
    "if not saving: \n",
    "    plt.show() \n",
    "else:\n",
    "    plt.tight_layout()\n",
    "    os.chdir(savefig_dir)\n",
    "    plt.savefig(savefig_fn, dpi=300)\n",
    "    print(f\"saved figure in \\n\\t{savefig_fn}.\")"
   ]
  },
  {
   "cell_type": "markdown",
   "metadata": {
    "hidden": true
   },
   "source": [
    "a spiral tip was not detected off and on for the end there.\n",
    "- I plotted trajectories for times > 500, and the gaps appear large.\n",
    "- TODO: plot all trajectories for time > 500.  \n",
    "    - is the tracking picking up most of the spiral tip points?\n",
    "    - do 2 trajectories appear to collide at the end?\n",
    "    - if so, estimate their apparent interaction distance and life time\n",
    "    \n",
    "Looking at the histograms of n versus t, we see the missing tips happening at the same time as extra tips in the original trajectories.  This suggests that perhaps a time frame rounding error could be responsible for these errors, which would be great, since this would mean the method appears to work for these parameters.\n",
    "- TODO: confirm or refute the problem is due to frame number rounding\n",
    "- restarted without rounding time (using floating point precision times)"
   ]
  },
  {
   "cell_type": "markdown",
   "metadata": {
    "hidden": true
   },
   "source": [
    "sigma = 1.5, threshold = 0.6 looks believable after time 500, does it look believable near time 100? Yes."
   ]
  },
  {
   "cell_type": "markdown",
   "metadata": {
    "heading_collapsed": true
   },
   "source": [
    "# compute birth/death rates with long tips\n",
    "- #TODO: plot birth death rates versus spiral tip number\n",
    "\n",
    "then,\n",
    "for the sigma=1.5, threshold=0.6 method\n",
    "- #TODO: plot the \n",
    "- #TODO: determine the earliest time where a spiral tip briefer than 2ms exists\n",
    "\n",
    "- #TODO: combine the working method \"as is\" into a new notebook\n",
    "- #TODO: automate postprocessing in that notebook \n",
    "- #TODO: (if needed)automate tracking in that notebook\n",
    "- #TODO: automate computing birth death rates versus spiral tip number"
   ]
  },
  {
   "cell_type": "code",
   "execution_count": null,
   "metadata": {
    "ExecuteTime": {
     "end_time": "2022-01-19T21:11:28.560465Z",
     "start_time": "2022-01-19T21:11:28.560448Z"
    },
    "hidden": true
   },
   "outputs": [],
   "source": [
    "#filter trajectories and compute the (filtered) spiral tip number as a function of time. store in df\n",
    "tmin = 50#100\n",
    "LT_thresh = 2#0#0#2 #14 = 0.007*2000\n",
    "\n",
    "#import most recent tip trajectory data and the corresponding raw tips\n",
    "data_dir_traj = f\"{nb_dir}/Data/ds_5_param_set_8/trajectories\"\n",
    "data_fn_traj  = 'tip_log_ds_5_sigma_1.5_threshold_0.6_006_traj_sr_40_mem_2.csv'\n",
    "# data_fn_traj = save_fn\n",
    "print (f\"loading from:\")\n",
    "print ( data_fn_traj )\n",
    "os.chdir(data_dir_traj)\n",
    "df = pd.read_csv(data_fn_traj)\n",
    "# select only data after 100 milliseconds\n",
    "df = df[df.t>tmin].copy()\n",
    "\n",
    "#naive computation of lifetime for a given tip\n",
    "def get_lifetime(pid,df):\n",
    "    mx,mn = df[(df.particle==pid)].t.describe()[['max','min']]\n",
    "    lifetime = mx-mn #milliseconds\n",
    "    return lifetime\n",
    "\n",
    "pid_values = np.array(list(set(df.particle.values)))\n",
    "lifetime_values = np.array([get_lifetime(pid,df) for pid in pid_values])\n",
    "\n",
    "#get a DataFrame of only the long lived spiral tips\n",
    "\n",
    "boo = (lifetime_values>LT_thresh)\n",
    "boo_long = (df.particle is None)\n",
    "for pid in pid_values[boo]:\n",
    "    boo_long |= (df.particle==pid)\n",
    "df = df[boo_long].copy()\n",
    "n_series = df['t'].value_counts().sort_index()\n",
    "\n",
    "#explicitely append the last death when n becomes zero\n",
    "last_two_times = n_series.index.values[-2:]\n",
    "h = np.diff(last_two_times)\n",
    "end_time= last_two_times[-1]+h\n",
    "n_series = n_series.append(pd.Series([0], index=[float(end_time)]))\n",
    "\n",
    "#store as a pandas.DataFrame\n",
    "df = pd.DataFrame({\"t\":n_series.index.values,\"n\":n_series.values})"
   ]
  },
  {
   "cell_type": "code",
   "execution_count": null,
   "metadata": {
    "ExecuteTime": {
     "end_time": "2022-01-19T21:11:28.561465Z",
     "start_time": "2022-01-19T21:11:28.561447Z"
    },
    "hidden": true
   },
   "outputs": [],
   "source": [
    "#compute birth death rates\n",
    "df['dn'] = df.n.diff().shift(-1)\n",
    "df = df.query('dn != 0').copy()\n",
    "rates = 1/df['t'].diff().shift(-1).dropna() # birth death rates in unites of 1/ms\n",
    "df['rates'] = rates\n",
    "# df.dropna(inplace=True)"
   ]
  },
  {
   "cell_type": "code",
   "execution_count": null,
   "metadata": {
    "ExecuteTime": {
     "end_time": "2022-01-19T21:11:28.562316Z",
     "start_time": "2022-01-19T21:11:28.562299Z"
    },
    "hidden": true
   },
   "outputs": [],
   "source": [
    "# n_array = n_series.values\n",
    "# W_array = np.diff(n_array)\n",
    "# boo = W_array != 0 \n",
    "df"
   ]
  },
  {
   "cell_type": "code",
   "execution_count": null,
   "metadata": {
    "ExecuteTime": {
     "end_time": "2022-01-19T21:11:28.563507Z",
     "start_time": "2022-01-19T21:11:28.563490Z"
    },
    "hidden": true
   },
   "outputs": [],
   "source": [
    "x_values = df.query('dn==2').n/2\n",
    "y_values = df.query('dn==2').rates\n",
    "plt.scatter(x=x_values,y=y_values, c='g', label='$W_{+2}$')\n",
    "x_values = df.query('dn==-2').n/2\n",
    "y_values = df.query('dn==-2').rates\n",
    "plt.scatter(x=x_values,y=y_values, c='r', label='$W_{-2}$')\n",
    "\n",
    "plt.legend()\n",
    "plt.xlabel('n/2')\n",
    "plt.ylabel('rate (ms$^{-1}$)')"
   ]
  },
  {
   "cell_type": "code",
   "execution_count": null,
   "metadata": {
    "hidden": true
   },
   "outputs": [],
   "source": []
  }
 ],
 "metadata": {
  "kernelspec": {
   "display_name": "Python 3 (ipykernel)",
   "language": "python",
   "name": "python3"
  },
  "language_info": {
   "codemirror_mode": {
    "name": "ipython",
    "version": 3
   },
   "file_extension": ".py",
   "mimetype": "text/x-python",
   "name": "python",
   "nbconvert_exporter": "python",
   "pygments_lexer": "ipython3",
   "version": "3.7.10"
  },
  "toc": {
   "base_numbering": 1,
   "nav_menu": {},
   "number_sections": false,
   "sideBar": false,
   "skip_h1_title": false,
   "title_cell": "Table of Contents",
   "title_sidebar": "Contents",
   "toc_cell": false,
   "toc_position": {},
   "toc_section_display": false,
   "toc_window_display": false
  },
  "varInspector": {
   "cols": {
    "lenName": 16,
    "lenType": 16,
    "lenVar": 40
   },
   "kernels_config": {
    "python": {
     "delete_cmd_postfix": "",
     "delete_cmd_prefix": "del ",
     "library": "var_list.py",
     "varRefreshCmd": "print(var_dic_list())"
    },
    "r": {
     "delete_cmd_postfix": ") ",
     "delete_cmd_prefix": "rm(",
     "library": "var_list.r",
     "varRefreshCmd": "cat(var_dic_list()) "
    }
   },
   "types_to_exclude": [
    "module",
    "function",
    "builtin_function_or_method",
    "instance",
    "_Feature"
   ],
   "window_display": false
  }
 },
 "nbformat": 4,
 "nbformat_minor": 2
}
