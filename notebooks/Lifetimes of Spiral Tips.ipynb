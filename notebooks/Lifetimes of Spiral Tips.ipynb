{
 "cells": [
  {
   "cell_type": "markdown",
   "metadata": {},
   "source": [
    "# (new) estimation of spiral tip lifetimes\n",
    "Tim Tyree<br>\n",
    "12.15.2021"
   ]
  },
  {
   "cell_type": "code",
   "execution_count": 1,
   "metadata": {
    "ExecuteTime": {
     "end_time": "2021-12-15T21:06:01.075048Z",
     "start_time": "2021-12-15T21:05:59.286434Z"
    }
   },
   "outputs": [
    {
     "name": "stdout",
     "output_type": "stream",
     "text": [
      "Automatic calling is: Smart\n"
     ]
    }
   ],
   "source": [
    "from lib.my_initialization import *\n",
    "from lib import *\n",
    "# from lib.measure.unwrap_and_smooth_cu import *\n",
    "# from lib.rapids_func import *\n",
    "# .routines.unwrap_and_smooth_trajectories_cu import *\n",
    "\n",
    "import itertools\n",
    "import dask_cudf\n",
    "from lib.rapids_func import *\n",
    "get_DT_cu\n",
    "\n",
    "#magic    \n",
    "%autocall 1\n",
    "%load_ext autoreload\n",
    "%autoreload 2\n",
    "\n",
    "import cupy as cp, cudf, numba.cuda as cuda\n",
    "import rmm\n",
    "# Switch to RMM allocator\n",
    "cp.cuda.set_allocator(rmm.rmm_cupy_allocator)\n",
    "\n",
    "darkmode=False\n",
    "if darkmode:\n",
    "    # For darkmode plots\n",
    "    from jupyterthemes import jtplot\n",
    "    jtplot.style(theme='monokai', context='notebook', ticks=True, grid=False)"
   ]
  },
  {
   "cell_type": "code",
   "execution_count": 2,
   "metadata": {
    "ExecuteTime": {
     "end_time": "2021-12-15T21:06:01.099143Z",
     "start_time": "2021-12-15T21:06:01.077270Z"
    }
   },
   "outputs": [],
   "source": [
    "##########################\n",
    "# Perform Averaging\n",
    "##########################\n",
    "tavg1=0\n",
    "tavg2=14#todo 0\n",
    "#one token trajectory file for the fenton karma model and the luo-rudy model\n",
    "input_fn_lst=[\n",
    "# c='C0'\n",
    "# # # # #token FK at DT=0.4\n",
    "\"/home/timothytyree/Documents/GitHub/care/notebooks/Data/initial-conditions-fk-200x200/param_set_8_ds_5.0_tmax_10_diffCoef_0.0005/Log/ic200x200.0.2_traj_sr_400_mem_0.csv\",\n",
    "# c='C1'\n",
    "# #tokenLR at DT=0.5\n",
    "\"/home/timothytyree/Documents/GitHub/care/notebooks/Data/initial-conditions-suite-3-LR/param_qu_tmax_30_Ko_5.4_diffCoef_0.0005_dt_0.5/trajectories/ic002.11_traj_sr_600_mem_0.csv\",   \n",
    "]\n",
    "\n",
    "data_dir_fk='/home/timothytyree/Documents/GitHub/bgmc/python/data/full_results/annihilation_data_fk_tavg1_0.0_tavg2_14.00.csv'\n",
    "data_dir_lr='/home/timothytyree/Documents/GitHub/bgmc/python/data/full_results/annihilation_data_lr_tavg1_0.0_tavg2_14.00.csv'"
   ]
  },
  {
   "cell_type": "code",
   "execution_count": 3,
   "metadata": {
    "ExecuteTime": {
     "end_time": "2021-12-15T21:10:13.835534Z",
     "start_time": "2021-12-15T21:06:01.100723Z"
    }
   },
   "outputs": [
    {
     "name": "stdout",
     "output_type": "stream",
     "text": [
      "324\n",
      "computing lifetimes for 324 trials.\n"
     ]
    }
   ],
   "source": [
    "print(f\"estimated runtime: {4+0.5 minutes\")\n",
    "df_annihilation=cudf.read_csv(data_dir_fk)\n",
    "event_index_values=df_annihilation[['event_id_int','pid_self','pid_other']].drop_duplicates().values.get()\n",
    "input_fn=\"/home/timothytyree/Documents/GitHub/care/notebooks/Data/initial-conditions-fk-200x200/param_set_8_ds_5.0_tmax_10_diffCoef_0.0005/Log/ic200x200.0.2_traj_sr_400_mem_0.csv\"\n",
    "input_fn_lst=get_all_files_matching_pattern(input_fn,trgt='_unwrap.csv')\n",
    "print(len(input_fn_lst))\n",
    "lifetime_lst_lst=[comp_lifetimes(input_fn,event_index_values) for input_fn in input_fn_lst]\n",
    "\n",
    "df_annihilation=cudf.read_csv(data_dir_fk)\n",
    "event_index_values=df_annihilation[['event_id_int','pid_self','pid_other']].drop_duplicates().values.get()\n",
    "#FK\n",
    "input_fn=\"/home/timothytyree/Documents/GitHub/care/notebooks/Data/initial-conditions-fk-200x200/param_set_8_ds_5.0_tmax_10_diffCoef_0.0005/Log/ic200x200.0.2_traj_sr_400_mem_0.csv\"\n",
    "# #LR\n",
    "# input_fn=\"/home/timothytyree/Documents/GitHub/care/notebooks/Data/initial-conditions-suite-3-LR/param_qu_tmax_30_Ko_5.4_diffCoef_0.0005_dt_0.5/trajectories_unwrap/ic001.33_traj_sr_600_mem_0_unwrap.csv\"\n",
    "input_fn_lst=get_all_files_matching_pattern(input_fn,trgt='_unwrap.csv')\n",
    "print(f\"computing lifetimes for {len(input_fn_lst)} trials.\")\n",
    "lifetime_lst_lst=[comp_lifetimes(input_fn,event_index_values) for input_fn in input_fn_lst]\n",
    "lifetime_values=np.concatenate(lifetime_lst_lst)\n",
    "lifetime_values_FK=lifetime_values.copy()"
   ]
  },
  {
   "cell_type": "code",
   "execution_count": 5,
   "metadata": {
    "ExecuteTime": {
     "end_time": "2021-12-15T21:11:05.645655Z",
     "start_time": "2021-12-15T21:10:27.225236Z"
    }
   },
   "outputs": [
    {
     "name": "stdout",
     "output_type": "stream",
     "text": [
      "computing lifetimes for 159 trials.\n"
     ]
    }
   ],
   "source": [
    "# #FK\n",
    "# input_fn=\"/home/timothytyree/Documents/GitHub/care/notebooks/Data/initial-conditions-fk-200x200/param_set_8_ds_5.0_tmax_10_diffCoef_0.0005/Log/ic200x200.0.2_traj_sr_400_mem_0.csv\"\n",
    "#LR\n",
    "input_fn=\"/home/timothytyree/Documents/GitHub/care/notebooks/Data/initial-conditions-suite-3-LR/param_qu_tmax_30_Ko_5.4_diffCoef_0.0005_dt_0.5/trajectories_unwrap/ic001.33_traj_sr_600_mem_0_unwrap.csv\"\n",
    "df_annihilation=cudf.read_csv(data_dir_lr)\n",
    "event_index_values=df_annihilation[['event_id_int','pid_self','pid_other']].drop_duplicates().values.get()\n",
    "input_fn_lst=get_all_files_matching_pattern(input_fn,trgt='_unwrap.csv')\n",
    "print(f\"computing lifetimes for {len(input_fn_lst)} trials.\")\n",
    "lifetime_lst_lst=[comp_lifetimes(input_fn,event_index_values) for input_fn in input_fn_lst]\n",
    "lifetime_values_LR=np.concatenate(lifetime_lst_lst)"
   ]
  },
  {
   "cell_type": "code",
   "execution_count": 6,
   "metadata": {
    "ExecuteTime": {
     "end_time": "2021-12-15T21:11:42.434891Z",
     "start_time": "2021-12-15T21:11:41.204307Z"
    }
   },
   "outputs": [
    {
     "data": {
      "image/png": "[encoded data removed]",
      "text/plain": [
       "<Figure size 864x360 with 1 Axes>"
      ]
     },
     "metadata": {
      "needs_background": "light"
     },
     "output_type": "display_data"
    }
   ],
   "source": [
    "fig,ax=plt.subplots(figsize=(12,5))\n",
    "bar_heights_fk,bins,_=plt.hist(lifetime_values_FK,bins=300,log=True,color='C0',density=True,alpha=0.4)\n",
    "bar_heights_lr,_,_=plt.hist(lifetime_values_LR,bins=bins,log=True,color='C1',density=True,alpha=0.4)\n",
    "format_plot(ax=plt.gca(),xlabel='Lifetime (ms)',ylabel='PDF')\n",
    "plt.show()"
   ]
  },
  {
   "cell_type": "code",
   "execution_count": 9,
   "metadata": {
    "ExecuteTime": {
     "end_time": "2021-12-15T21:13:23.501983Z",
     "start_time": "2021-12-15T21:13:23.387028Z"
    }
   },
   "outputs": [
    {
     "name": "stdout",
     "output_type": "stream",
     "text": [
      "the mean value is 310.0570+/-3.5354, with test for normality (p=0.5399)\n",
      "num_samples=43306\n",
      "the mean value is 82.7333+/-0.9154, with test for normality (p=0.3152)\n",
      "num_samples=10362\n"
     ]
    }
   ],
   "source": [
    "#bootstrap the mean for either case\n",
    "values=lifetime_values_FK.copy()\n",
    "mean_value,Delta_mean,p=bootstrap_mean_95CI_and_print_cu(values)\n",
    "print(f\"num_samples={values.shape[0]}\")\n",
    "\n",
    "values=lifetime_values_LR.copy()\n",
    "mean_value,Delta_mean,p=bootstrap_mean_95CI_and_print_cu(values)\n",
    "print(f\"num_samples={values.shape[0]}\")"
   ]
  },
  {
   "cell_type": "code",
   "execution_count": 16,
   "metadata": {
    "ExecuteTime": {
     "end_time": "2021-12-15T21:19:53.379634Z",
     "start_time": "2021-12-15T21:19:51.959136Z"
    }
   },
   "outputs": [
    {
     "data": {
      "image/png": "[encoded data removed]",
      "text/plain": [
       "<Figure size 432x360 with 1 Axes>"
      ]
     },
     "metadata": {
      "needs_background": "light"
     },
     "output_type": "display_data"
    }
   ],
   "source": [
    "alpha=0.8\n",
    "#figure panel style histogram of lifetimes\n",
    "fig,ax=plt.subplots(figsize=(6,5))\n",
    "bar_heights_fk,bins,_=plt.hist(lifetime_values_FK,bins=300,log=True,color='C0',density=True,alpha=alpha, label='Fenton-Karma Model')\n",
    "bar_heights_lr,_,_=plt.hist(lifetime_values_LR,bins=bins,log=True,color='C1',density=True,alpha=alpha, label='Luo-Rudy Model')\n",
    "plt.legend(fontsize=16)\n",
    "format_plot(ax=plt.gca(),xlabel='Lifetime (ms)',ylabel='PDF')\n",
    "plt.show()"
   ]
  },
  {
   "cell_type": "code",
   "execution_count": 17,
   "metadata": {
    "ExecuteTime": {
     "end_time": "2021-12-15T21:20:02.735453Z",
     "start_time": "2021-12-15T21:20:00.993613Z"
    }
   },
   "outputs": [
    {
     "data": {
      "image/png": "[encoded data removed]",
      "text/plain": [
       "<Figure size 432x360 with 1 Axes>"
      ]
     },
     "metadata": {
      "needs_background": "light"
     },
     "output_type": "display_data"
    }
   ],
   "source": [
    "alpha=0.8\n",
    "#figure panel style histogram of lifetimes\n",
    "fig,ax=plt.subplots(figsize=(6,5))\n",
    "bar_heights_fk,bins,_=plt.hist(lifetime_values_FK,bins=300,log=False,color='C0',density=True,alpha=alpha, label='Fenton-Karma Model')\n",
    "bar_heights_lr,_,_=plt.hist(lifetime_values_LR,bins=bins,log=False,color='C1',density=True,alpha=alpha, label='Luo-Rudy Model')\n",
    "plt.legend(fontsize=16)\n",
    "format_plot(ax=plt.gca(),xlabel='Lifetime (ms)',ylabel='PDF')\n",
    "plt.xscale('log')\n",
    "plt.yscale('log')\n",
    "plt.show()"
   ]
  },
  {
   "cell_type": "code",
   "execution_count": 18,
   "metadata": {
    "ExecuteTime": {
     "end_time": "2021-12-15T21:20:08.244940Z",
     "start_time": "2021-12-15T21:20:06.817103Z"
    }
   },
   "outputs": [
    {
     "data": {
      "image/png": "[encoded data removed]",
      "text/plain": [
       "<Figure size 432x360 with 1 Axes>"
      ]
     },
     "metadata": {
      "needs_background": "light"
     },
     "output_type": "display_data"
    }
   ],
   "source": [
    "alpha=0.8\n",
    "#figure panel style histogram of lifetimes\n",
    "fig,ax=plt.subplots(figsize=(6,5))\n",
    "bar_heights_fk,bins,_=plt.hist(lifetime_values_FK,bins=300,log=False,color='C0',density=True,alpha=alpha, label='Fenton-Karma Model')\n",
    "bar_heights_lr,_,_=plt.hist(lifetime_values_LR,bins=bins,log=False,color='C1',density=True,alpha=alpha, label='Luo-Rudy Model')\n",
    "plt.legend(fontsize=16)\n",
    "format_plot(ax=plt.gca(),xlabel='Lifetime (ms)',ylabel='PDF')\n",
    "plt.xscale('log')\n",
    "plt.show()"
   ]
  },
  {
   "cell_type": "code",
   "execution_count": 19,
   "metadata": {
    "ExecuteTime": {
     "end_time": "2021-12-15T21:20:19.659256Z",
     "start_time": "2021-12-15T21:20:18.516735Z"
    }
   },
   "outputs": [
    {
     "data": {
      "image/png": "[encoded data removed]",
      "text/plain": [
       "<Figure size 432x360 with 1 Axes>"
      ]
     },
     "metadata": {
      "needs_background": "light"
     },
     "output_type": "display_data"
    }
   ],
   "source": [
    "alpha=0.8\n",
    "#figure panel style histogram of lifetimes\n",
    "fig,ax=plt.subplots(figsize=(6,5))\n",
    "bar_heights_fk,bins,_=plt.hist(lifetime_values_FK,bins=300,log=False,color='C0',density=True,alpha=alpha, label='Fenton-Karma Model')\n",
    "bar_heights_lr,_,_=plt.hist(lifetime_values_LR,bins=bins,log=False,color='C1',density=True,alpha=alpha, label='Luo-Rudy Model')\n",
    "plt.legend(fontsize=16)\n",
    "format_plot(ax=plt.gca(),xlabel='Lifetime (ms)',ylabel='PDF')\n",
    "plt.show()"
   ]
  },
  {
   "cell_type": "markdown",
   "metadata": {
    "heading_collapsed": true
   },
   "source": [
    "# (old) Computing Lifetimes of Spiral Tips\n",
    "Tim Tyree<br>\n",
    "6.29.2020<br>"
   ]
  },
  {
   "cell_type": "code",
   "execution_count": 4,
   "metadata": {
    "ExecuteTime": {
     "end_time": "2021-12-15T21:10:14.032564Z",
     "start_time": "2021-12-15T21:10:13.836536Z"
    },
    "hidden": true
   },
   "outputs": [
    {
     "ename": "ModuleNotFoundError",
     "evalue": "No module named 'lib.dist_func'",
     "output_type": "error",
     "traceback": [
      "\u001b[0;31m---------------------------------------------------------------------------\u001b[0m",
      "\u001b[0;31mModuleNotFoundError\u001b[0m                       Traceback (most recent call last)",
      "\u001b[0;32m/tmp/ipykernel_510942/2845687289.py\u001b[0m in \u001b[0;36m<module>\u001b[0;34m\u001b[0m\n\u001b[1;32m     20\u001b[0m \u001b[0;31m#load the libraries\u001b[0m\u001b[0;34m\u001b[0m\u001b[0;34m\u001b[0m\u001b[0;34m\u001b[0m\u001b[0m\n\u001b[1;32m     21\u001b[0m \u001b[0;32mfrom\u001b[0m \u001b[0mlib\u001b[0m \u001b[0;32mimport\u001b[0m \u001b[0;34m*\u001b[0m\u001b[0;34m\u001b[0m\u001b[0;34m\u001b[0m\u001b[0m\n\u001b[0;32m---> 22\u001b[0;31m \u001b[0;32mfrom\u001b[0m \u001b[0mlib\u001b[0m\u001b[0;34m.\u001b[0m\u001b[0mdist_func\u001b[0m \u001b[0;32mimport\u001b[0m \u001b[0;34m*\u001b[0m\u001b[0;34m\u001b[0m\u001b[0;34m\u001b[0m\u001b[0m\n\u001b[0m\u001b[1;32m     23\u001b[0m \u001b[0;31m# from lib.operari import *\u001b[0m\u001b[0;34m\u001b[0m\u001b[0;34m\u001b[0m\u001b[0;34m\u001b[0m\u001b[0m\n\u001b[1;32m     24\u001b[0m \u001b[0;31m# from lib.ProgressBar import *\u001b[0m\u001b[0;34m\u001b[0m\u001b[0;34m\u001b[0m\u001b[0;34m\u001b[0m\u001b[0m\n",
      "\u001b[0;31mModuleNotFoundError\u001b[0m: No module named 'lib.dist_func'"
     ]
    }
   ],
   "source": [
    "#pylab\n",
    "%matplotlib inline\n",
    "import numpy as np, pandas as pd, matplotlib.pyplot as plt\n",
    "from pylab import imshow, show\n",
    "\n",
    "\n",
    "import numba, trackpy, sklearn\n",
    "# from numba import njit, jit, vectorize\n",
    "# from PIL import Image\n",
    "# import imageio\n",
    "# import cv2 as cv\n",
    "\n",
    "#automate the boring stuff\n",
    "from IPython import utils\n",
    "import time, os, sys, re\n",
    "beep = lambda x: os.system(\"echo -n '\\\\a';sleep 0.2;\" * x)\n",
    "if not 'nb_dir' in globals():\n",
    "    nb_dir = os.getcwd()\n",
    "\n",
    "#load the libraries\n",
    "from lib import *\n",
    "from lib.dist_func import *\n",
    "# from lib.operari import *\n",
    "# from lib.ProgressBar import *\n",
    "# from lib.minimal_model import *\n",
    "# from lib.TexturePlot import *\n",
    "# from lib.get_tips import *\n",
    "# from lib.minimal_model import *\n",
    "# from lib.intersection import *\n",
    "# from numba import jit, njit, vectorize, cuda, uint32, f8, uint8\n",
    "# from lib.contours_to_tips import *\n",
    "\n",
    "%autocall 1\n",
    "%load_ext autoreload\n",
    "%autoreload 2"
   ]
  },
  {
   "cell_type": "markdown",
   "metadata": {
    "heading_collapsed": true
   },
   "source": [
    "# post process log to get tip positions"
   ]
  },
  {
   "cell_type": "code",
   "execution_count": null,
   "metadata": {
    "ExecuteTime": {
     "end_time": "2021-12-15T21:10:14.041522Z",
     "start_time": "2021-12-15T21:10:14.041510Z"
    },
    "hidden": true
   },
   "outputs": [],
   "source": [
    "# #search for input_fn \"tip_log_\"+ .. .._ +num+\".csv\"\n",
    "# input_fn = search_for_file(nb_dir+'/Data/ds_5_param_set_8')\n",
    "# print(input_fn)\n",
    "# #TODO: find a proper way to terminate the Tk application launched by search_for_file.  it doesn't terminate\n",
    "\n",
    "\n",
    "# doesn't work input_fn = '/Users/timothytyree/Documents/GitHub/care/notebooks/Data/ds_5_param_set_8/Log/tip_log_ds_5_sigma_0.5_threshold_0.9_005.csv'\n",
    "# doesn't work input_fn = '/Users/timothytyree/Documents/GitHub/care/notebooks/Data/ds_5_param_set_8/Log/tip_log_ds_5_sigma_1.0_threshold_0.8_006.csv'\n",
    "\n",
    "#I think this is the best one sigma = 1.5, threshold = 0.6\n",
    "input_fn = '/Users/timothytyree/Documents/GitHub/care/notebooks/Data/ds_5_param_set_8/Log/tip_log_ds_5_sigma_1.5_threshold_0.6_006.csv'\n",
    "\n",
    "#may nearly work /Users/timothytyree/Documents/GitHub/care/notebooks/Data/ds_5_param_set_8/Log/tip_log_ds_5_sigma_1.5_threshold_0.9_006.csv\n",
    "#may nearly work /Users/timothytyree/Documents/GitHub/care/notebooks/Data/ds_5_param_set_8/Log/tip_log_ds_5_sigma_1.0_threshold_0.6_006.csv"
   ]
  },
  {
   "cell_type": "code",
   "execution_count": null,
   "metadata": {
    "ExecuteTime": {
     "end_time": "2021-12-15T21:10:14.042629Z",
     "start_time": "2021-12-15T21:10:14.042617Z"
    },
    "hidden": true
   },
   "outputs": [],
   "source": [
    "# input_fn = 'Log/tip_log_ds_5_sigma_1.0_threshold_0.6_001.csv'\n",
    "os.chdir(nb_dir+'/Data/ds_5_param_set_8')\n",
    "print(str(os.path.exists(input_fn))+\" it is that input_fn exists,\")\n",
    "# print(\"have you the right sigma and threshold?\")\n",
    "# ds = 5; sigma = 1.0; threshold = 0.8\n",
    "V_threshold = 0.5\n",
    "print(f\"have you the right V_threshold = {V_threshold}?\")\n",
    "\n",
    "\n"
   ]
  },
  {
   "cell_type": "code",
   "execution_count": null,
   "metadata": {
    "ExecuteTime": {
     "end_time": "2021-12-15T21:10:14.043562Z",
     "start_time": "2021-12-15T21:10:14.043552Z"
    },
    "hidden": true
   },
   "outputs": [],
   "source": [
    "#save the tip positions expanded into rows\n",
    "df_output = process_tip_log_file(input_fn, include_EP=True, include_nonlinear_EP=False)\n",
    "saveherein = input_fn.replace('.csv','_processed.csv')\n",
    "df_output.to_csv(saveherein, index=False)\n",
    "beep(1)\n",
    "print(f\"and the resulting \\\"_processed.csv\\\" was supplanted herein:\\n\\t{saveherein}\")"
   ]
  },
  {
   "cell_type": "code",
   "execution_count": null,
   "metadata": {
    "ExecuteTime": {
     "end_time": "2020-08-11T23:20:16.184613Z",
     "start_time": "2020-08-11T23:20:16.151669Z"
    },
    "hidden": true
   },
   "outputs": [],
   "source": []
  },
  {
   "cell_type": "code",
   "execution_count": null,
   "metadata": {
    "ExecuteTime": {
     "end_time": "2021-12-15T21:10:14.044202Z",
     "start_time": "2021-12-15T21:10:14.044188Z"
    },
    "hidden": true
   },
   "outputs": [],
   "source": [
    "#BLUF load processed df with tips as rows\n",
    "df = pd.read_csv(input_fn)\n",
    "fn = input_fn.split('/')[-1]\n",
    "descrip = fn[:fn.find('_processed.csv')]\n",
    "threshold = eval(fn[fn.find('threshold_')+len('threshold_'):].split('_')[0])\n",
    "ds = eval(fn[fn.find('ds_')+len('ds_'):].split('_')[0])\n",
    "sigma = eval(fn[fn.find('sigma_')+len('sigma_'):].split('_')[0])\n",
    "print(f\"(ds,sigma,threshold) = {(ds,sigma,threshold)}\")"
   ]
  },
  {
   "cell_type": "markdown",
   "metadata": {
    "heading_collapsed": true
   },
   "source": [
    "# import tip positions"
   ]
  },
  {
   "cell_type": "code",
   "execution_count": null,
   "metadata": {
    "ExecuteTime": {
     "end_time": "2021-12-15T21:10:14.045187Z",
     "start_time": "2021-12-15T21:10:14.045172Z"
    },
    "hidden": true
   },
   "outputs": [],
   "source": [
    "# high-res EP states also observed\n",
    "# saveherein = '/Users/timothytyree/Documents/GitHub/care/notebooks/Data/ds_5_param_set_8/Log/tip_log_ds_5_sigma_0.5_threshold_0.9_005_processed.csv'\n",
    "os.chdir('/Users/timothytyree/Documents/GitHub/care/notebooks/Data/ds_5_param_set_8/trajectories')\n",
    "# sigma = 0.5  #1.5#1.5#1.#1\n",
    "# threshold = 0.9#0.6  #0.9#0.95"
   ]
  },
  {
   "cell_type": "code",
   "execution_count": null,
   "metadata": {
    "ExecuteTime": {
     "end_time": "2021-12-15T21:10:14.045819Z",
     "start_time": "2021-12-15T21:10:14.045808Z"
    },
    "hidden": true
   },
   "outputs": [],
   "source": [
    "#if using ^that result of tip positions expanded into rows?\n",
    "data_dir = saveherein\n",
    "# data_dir = '/Users/timothytyree/Documents/GitHub/care/notebooks/Data/ds_5_param_set_8/Log/tip_log_ds_5_sigma_1.0_threshold_0.8_006_processed.csv'\n",
    "\n",
    "\n",
    "\n",
    "# sigma = 1.0  #1.5#1.5#1.#1\n",
    "# threshold = 0.6#0.6  #0.9#0.95\n",
    "# ext = ''#'001_'\n",
    "# search_for_file()\n",
    "# data_dir    = f'{nb_dir}/Data/ds_5_param_set_8/Log/tip_log_ds_5_sigma_{sigma}_threshold_{threshold}_{ext}processed.csv'\n",
    "\n",
    "# 'Log/tip_log_ds_5_sigma_1.0_threshold_0.6_001_processed.csv'\n",
    "# data_dir    = f'{nb_dir}/Data/ds_5_param_set_8/Log/tip_log_ds_5_sigma_{sigma}_threshold_{threshold}_processed.csv'\n",
    "print(f\"loading .csv of size [??{2*sys.getsizeof(data_dir)} KB] from \\n\\t{data_dir}\")\n",
    "df = pd.read_csv(data_dir)\n",
    "\n",
    "save_folder = '/'+os.path.join(*data_dir.split('/')[:-2])+'/trajectories/'\n",
    "os.chdir(save_folder)\n",
    "print(f\"files will be saved in the folder: \\n\\t{save_folder}\")"
   ]
  },
  {
   "cell_type": "code",
   "execution_count": null,
   "metadata": {
    "ExecuteTime": {
     "end_time": "2021-12-15T21:10:14.046802Z",
     "start_time": "2021-12-15T21:10:14.046790Z"
    },
    "hidden": true
   },
   "outputs": [],
   "source": [
    "# test data has no odd spiral tips since the data has periodic boundary conditions\n",
    "assert not (np.array(list(set(df.n.values)))%2==1).any()\n",
    "print('no odd spiral tips exist.')"
   ]
  },
  {
   "cell_type": "code",
   "execution_count": null,
   "metadata": {
    "ExecuteTime": {
     "end_time": "2021-12-15T21:10:14.047868Z",
     "start_time": "2021-12-15T21:10:14.047856Z"
    },
    "hidden": true
   },
   "outputs": [],
   "source": [
    "#plot the raw spiral tip locations after time 500\n",
    "x_values, y_values, t_values = df.query('t>500')[['x','y','t']].values.T\n",
    "plt.scatter(x=x_values,y=y_values,c=t_values,s=0.1)\n",
    "plt.show()"
   ]
  },
  {
   "cell_type": "code",
   "execution_count": null,
   "metadata": {
    "ExecuteTime": {
     "end_time": "2021-12-15T21:10:14.048507Z",
     "start_time": "2021-12-15T21:10:14.048497Z"
    },
    "hidden": true
   },
   "outputs": [],
   "source": [
    "#compute the number of spiral tips in each time frame\n",
    "\n",
    "#TODO: determine if there are any gaps in spiral tip frame number by plotting tip number versus time\n",
    "n_series = df.query('t>540')['t'].value_counts().sort_index()\n",
    "\n",
    "# plot tip number versus time for long-lived trajectories\n",
    "x_values = n_series.index.values\n",
    "y_values = n_series.values\n",
    "plt.plot(x_values,y_values)"
   ]
  },
  {
   "cell_type": "code",
   "execution_count": null,
   "metadata": {
    "ExecuteTime": {
     "end_time": "2021-12-15T21:10:14.049444Z",
     "start_time": "2021-12-15T21:10:14.049432Z"
    },
    "hidden": true
   },
   "outputs": [],
   "source": [
    "#plot the when there are 4 spiral tips around time \n",
    "x_values, y_values, t_values = df.query('t>554 and n>3')[['x','y','t']].values.T\n",
    "plt.scatter(x=x_values,y=y_values,c=t_values,s=10)\n",
    "plt.show()"
   ]
  },
  {
   "cell_type": "code",
   "execution_count": null,
   "metadata": {
    "ExecuteTime": {
     "end_time": "2021-12-15T21:10:14.049973Z",
     "start_time": "2021-12-15T21:10:14.049963Z"
    },
    "hidden": true
   },
   "outputs": [],
   "source": [
    "#plot the when there are 4 spiral tips around time \n",
    "x_values, y_values, t_values = df.query('t>540 and t<546')[['x','y','t']].values.T\n",
    "plt.scatter(x=x_values,y=y_values,c=t_values,s=10)\n",
    "plt.axis(axis)\n",
    "plt.show()"
   ]
  },
  {
   "cell_type": "markdown",
   "metadata": {
    "hidden": true
   },
   "source": [
    "#### DONE(ignore): get trackpy to use periodic boundary distances\n",
    "- failing ^that make trackpy use my distance function"
   ]
  },
  {
   "cell_type": "markdown",
   "metadata": {
    "hidden": true
   },
   "source": [
    "__Trackpy warns in its more seriptitious print statements that user defined distances are not tested__<br>\n",
    "Thus, I must test my own use case on a test with a known response."
   ]
  },
  {
   "cell_type": "markdown",
   "metadata": {
    "ExecuteTime": {
     "end_time": "2020-06-29T20:29:19.471037Z",
     "start_time": "2020-06-29T20:29:19.438394Z"
    },
    "hidden": true
   },
   "source": [
    "__How trackpy handles user defined distance functions__\n",
    "The only appearance of dist_func in trackpy's source code from github is in subnet.py.  In which, trackpy.subnet.HashBTree.rebuild passes dist_func to sklearn as follows <br>\n",
    "`sklearn.neighbors.BallTree(coords_mapped,metric='pyfunc', func=self.dist_func`\n",
    "\n",
    "`sklearn.neighbors.BallTree` has func as an additional kwarg, which is passed to the distance metric class, DistanceMetric.  In the docstring of that function, I find the specification for `DistanceMetric`.\n",
    "\n",
    "__Bottom Line Up Front (BLUF) the function must take two 1D numpy arrays and return a distance.  Everything will be slower because of the overhead of calling python functions__"
   ]
  },
  {
   "cell_type": "code",
   "execution_count": null,
   "metadata": {
    "ExecuteTime": {
     "end_time": "2021-12-15T21:10:14.050855Z",
     "start_time": "2021-12-15T21:10:14.050843Z"
    },
    "hidden": true
   },
   "outputs": [],
   "source": [
    "# from sklearn.neighbors import BallTree, DistanceMetric"
   ]
  },
  {
   "cell_type": "code",
   "execution_count": null,
   "metadata": {
    "ExecuteTime": {
     "end_time": "2021-12-15T21:10:14.051595Z",
     "start_time": "2021-12-15T21:10:14.051584Z"
    },
    "hidden": true
   },
   "outputs": [],
   "source": [
    "print('''**User-defined distance:**\n",
    "\n",
    "===========    ===============    =======\n",
    "identifier     class name         args\n",
    "-----------    ---------------    -------\n",
    "\"pyfunc\"       PyFuncDistance     func\n",
    "===========    ===============    =======\n",
    "\n",
    "Here ``func`` is a function which takes two one-dimensional numpy\n",
    "arrays, and returns a distance.  Note that in order to be used within\n",
    "the BallTree, the distance must be a true metric:\n",
    "i.e. it must satisfy the following properties\n",
    "\n",
    "1) Non-negativity: d(x, y) >= 0\n",
    "2) Identity: d(x, y) = 0 if and only if x == y\n",
    "3) Symmetry: d(x, y) = d(y, x)\n",
    "4) Triangle Inequality: d(x, y) + d(y, z) >= d(x, z)\n",
    "\n",
    "Because of the Python object overhead involved in calling the python\n",
    "function, this will be fairly slow, but it will have the same\n",
    "scaling as other distances.''')"
   ]
  },
  {
   "cell_type": "code",
   "execution_count": null,
   "metadata": {
    "ExecuteTime": {
     "end_time": "2021-12-15T21:10:14.052357Z",
     "start_time": "2021-12-15T21:10:14.052344Z"
    },
    "hidden": true
   },
   "outputs": [],
   "source": [
    "# this section was sent to lib.dist_func\n",
    "# def get_distance_L2_pbc(width=200,height=200):\n",
    "#     '''returns a function for the euclidean (L2) distance measure for a 2D rectangle with periodic boundary conditions.\n",
    "#     width, height are the shape of that 2D rectangle.'''\n",
    "#     @jit('f8(f8[:],f8[:])', nopython=True)\n",
    "#     def distance_L2_pbc(point_1, point_2):\n",
    "#         '''assumes getting shortest distance between two points with periodic boundary conditions in 2D.'''\n",
    "#         mesh_shape=np.array((width,height))\n",
    "#         dq2 = 0.\n",
    "#         #     for q1, q2, width in zip(point_1[:2], point_2[:2], mesh_shape):\n",
    "#         for q1, q2, wid in zip(point_1, point_2, mesh_shape):\n",
    "#             dq2 = dq2 + min(((q2 - q1)**2, (q2 + wid - q1 )**2, (q2 - wid - q1 )**2))\n",
    "#         return np.sqrt(dq2)\n",
    "#     return distance_L2_pbc\n",
    "\n",
    "# def test_get_distance_L2_pbc():\n",
    "#     import trackpy, pandas as pd\n",
    "\n",
    "#     #testing the pbc distance function\n",
    "#     distance_L2_pbc = get_distance_L2_pbc(width=200,height=200)\n",
    "#     assert(np.isclose(distance_L2_pbc(np.array([1.,1.]),np.array([1.,1.])),0.))\n",
    "#     assert(distance_L2_pbc(np.array([1.,1.]),np.array([199.,199.]))<3.)\n",
    "#     assert(distance_L2_pbc(np.array([1.,1.]),np.array([199.,199.]))<3.)\n",
    "#     assert(distance_L2_pbc(np.array([1.,1.]),np.array([1.,199.]))<3.)\n",
    "#     assert(distance_L2_pbc(np.array([1.,1.]),np.array([199.,1.]))<3.)\n",
    "\n",
    "#     #testing distance_L2_pbc in trackpy.link_df\n",
    "#     df_test = pd.DataFrame({'frame':[1,2,2],'x':[1,100,199],'y':[1,100,199]})\n",
    "\n",
    "#     # test that the default distance function maps 1,1 to 100,100 instead of 199,199\n",
    "#     traj_test = trackpy.link_df(df_test, search_range=210)\n",
    "#     assert((traj_test['particle'].values == np.array([0, 0, 1])).all())\n",
    "\n",
    "#     # test that the pbc distance function maps 1,1 to 199,199 instead of 100,100\n",
    "#     traj_test = trackpy.link_df(df_test, search_range=210, dist_func = distance_L2_pbc)\n",
    "#     assert((traj_test['particle'].values == np.array([0, 1, 0])).all())\n",
    "\n",
    "#     # test that the pbc distance function can see accross boundarys when search_range is small\n",
    "#     traj_test = trackpy.link_df(df_test, search_range=110, dist_func = distance_L2_pbc)\n",
    "#     assert((traj_test['particle'].values == np.array([0, 1, 0])).all())\n",
    "#     return True"
   ]
  },
  {
   "cell_type": "markdown",
   "metadata": {
    "heading_collapsed": true
   },
   "source": [
    "# track tips using periodic boundary conditions"
   ]
  },
  {
   "cell_type": "code",
   "execution_count": null,
   "metadata": {
    "ExecuteTime": {
     "end_time": "2021-12-15T21:10:14.052886Z",
     "start_time": "2021-12-15T21:10:14.052873Z"
    },
    "hidden": true
   },
   "outputs": [],
   "source": [
    "# df_dir = '/Users/timothytyree/Documents/GitHub/care/notebooks/Data/ds_5_param_set_8/Log/tip_log_ds_5_sigma_1.5_threshold_0.9_processed.csv'\n",
    "# import sklearn\n",
    "df_dir = data_dir\n",
    "print(data_dir)\n",
    "df = pd.read_csv(df_dir)\n"
   ]
  },
  {
   "cell_type": "code",
   "execution_count": null,
   "metadata": {
    "ExecuteTime": {
     "end_time": "2021-12-15T21:10:14.053929Z",
     "start_time": "2021-12-15T21:10:14.053915Z"
    },
    "hidden": true
   },
   "outputs": [],
   "source": [
    "#assign each time a unique frame number\n",
    "t_list =  sorted(set(df.t.values))\n",
    "frameno_list = list(range(len(t_list)))\n",
    "df['frame'] = -9999\n",
    "for frameno, t in zip(frameno_list,t_list):\n",
    "    df.loc[df.t==t, 'frame'] = frameno\n",
    "#assert that all entries were given a value\n",
    "assert ( not (df.frame<0).any() )"
   ]
  },
  {
   "cell_type": "code",
   "execution_count": null,
   "metadata": {
    "ExecuteTime": {
     "end_time": "2021-12-15T21:10:14.054702Z",
     "start_time": "2021-12-15T21:10:14.054690Z"
    },
    "hidden": true
   },
   "outputs": [],
   "source": [
    "#TODO: check that n is reproduced by the number of x in the trajectory file\n",
    "# traj.query('t==555').t\n",
    "# df['frame']"
   ]
  },
  {
   "cell_type": "code",
   "execution_count": null,
   "metadata": {
    "ExecuteTime": {
     "end_time": "2021-12-15T21:10:14.055664Z",
     "start_time": "2021-12-15T21:10:14.055652Z"
    },
    "hidden": true
   },
   "outputs": [],
   "source": [
    "# h = 0.007\n",
    "mem = 2 \n",
    "sr  = 40 #?works sampling every 100 frames\n",
    "# sr  = 1 #works sampling every frame\n",
    "distance_L2_pbc = get_distance_L2_pbc(width=200,height=200)\n",
    "link_kwargs = {\n",
    "    'neighbor_strategy' : 'BTree',\n",
    "    'dist_func'         : distance_L2_pbc,\n",
    "    'memory': mem}\n",
    "# df['frame'] = np.around(df['t']/h)\n",
    "# df = df.astype(dtype={'frame':int}).copy()\n",
    "traj = trackpy.link_df(\n",
    "    f=df,search_range=sr,t_column='frame', **link_kwargs)\n",
    "\n",
    "beep(1)"
   ]
  },
  {
   "cell_type": "code",
   "execution_count": null,
   "metadata": {
    "ExecuteTime": {
     "end_time": "2021-12-15T21:10:14.056512Z",
     "start_time": "2021-12-15T21:10:14.056494Z"
    },
    "hidden": true
   },
   "outputs": [],
   "source": [
    "save_fn = os.path.basename(df_dir).replace('_processed.csv', f'_traj_sr_{sr}_mem_{mem}.csv')\n",
    "traj.to_csv(save_fn, index=False)\n",
    "print (save_fn)"
   ]
  },
  {
   "cell_type": "code",
   "execution_count": null,
   "metadata": {
    "ExecuteTime": {
     "end_time": "2021-12-15T21:10:14.057603Z",
     "start_time": "2021-12-15T21:10:14.057587Z"
    },
    "hidden": true
   },
   "outputs": [],
   "source": [
    "#plot spiral tip number versus time\n",
    "# df = traj.copy()\n",
    "#compute the number of spiral tips in each time frame\n",
    "# df.groupby('t').describe().head()\n",
    "n_series = traj['t'].value_counts().sort_index()\n",
    "# plot tip number versus time for long-lived trajectories\n",
    "x_values = n_series.index.values\n",
    "y_values = n_series.values\n",
    "plt.plot(x_values,y_values, label='n, number of trajectories (raw)')\n",
    "\n",
    "# plot tip number versus time for all trajectories\n",
    "t_values = df.t.values\n",
    "n_values = df.n.values\n",
    "plt.plot(t_values, n_values+1, alpha=0.5, label='1+n, measured during simulation')\n",
    "plt.title(\"The number of trajectories reproduces \\nthe originally observed n exactly.\")\n",
    "plt.xlabel('time (ms)')\n",
    "plt.ylabel('n or n+1')\n",
    "plt.legend()\n",
    "plt.show()"
   ]
  },
  {
   "cell_type": "code",
   "execution_count": null,
   "metadata": {
    "ExecuteTime": {
     "end_time": "2021-12-15T21:10:14.058625Z",
     "start_time": "2021-12-15T21:10:14.058607Z"
    },
    "hidden": true
   },
   "outputs": [],
   "source": [
    "#test that every row has a nonnegative particle number\n",
    "assert ( (traj.particle>=0).all() )\n",
    "print ( save_fn ) "
   ]
  },
  {
   "cell_type": "markdown",
   "metadata": {
    "heading_collapsed": true
   },
   "source": [
    "# visualization efforts"
   ]
  },
  {
   "cell_type": "markdown",
   "metadata": {
    "ExecuteTime": {
     "end_time": "2020-06-29T21:17:00.019154Z",
     "start_time": "2020-06-29T21:16:59.979283Z"
    },
    "heading_collapsed": true,
    "hidden": true
   },
   "source": [
    "## compute life times"
   ]
  },
  {
   "cell_type": "markdown",
   "metadata": {
    "hidden": true
   },
   "source": [
    "particles still not being tracked right.  debug between two  time steps from the middle frames ah, search_range must be at least ~1e-2.  Using 1e-0 should work"
   ]
  },
  {
   "cell_type": "code",
   "execution_count": null,
   "metadata": {
    "ExecuteTime": {
     "end_time": "2021-12-15T21:10:14.059612Z",
     "start_time": "2021-12-15T21:10:14.059594Z"
    },
    "hidden": true
   },
   "outputs": [],
   "source": [
    "save_fn = nb_dir+'/Data/ds_5_param_set_8/trajectories/tip_trajectories_ds_5_sigma_1.5_threshold_0.6_traj_sr_1_mem_2.csv'\n",
    "h = 0.007\n",
    "# data_fn = 'tip_log_ds_5_sigma_1.0_threshold_0.6_traj_sr_1.csv'\n",
    "df_traj = pd.read_csv(save_fn)\n",
    "print(save_fn)\n",
    "descrip = 'forFig1'"
   ]
  },
  {
   "cell_type": "code",
   "execution_count": null,
   "metadata": {
    "ExecuteTime": {
     "end_time": "2021-12-15T21:10:14.060651Z",
     "start_time": "2021-12-15T21:10:14.060629Z"
    },
    "hidden": true
   },
   "outputs": [],
   "source": [
    "df_traj.describe()"
   ]
  },
  {
   "cell_type": "code",
   "execution_count": null,
   "metadata": {
    "ExecuteTime": {
     "end_time": "2021-12-15T21:10:14.061877Z",
     "start_time": "2021-12-15T21:10:14.061858Z"
    },
    "hidden": true
   },
   "outputs": [],
   "source": [
    "#compute lifetimes\n",
    "g = df_traj.groupby('particle')['t']\n",
    "mx = g.agg(np.max)\n",
    "mn = g.agg(np.min)\n",
    "gd_lifetimes = mx - mn"
   ]
  },
  {
   "cell_type": "markdown",
   "metadata": {
    "heading_collapsed": true,
    "hidden": true
   },
   "source": [
    "## plot lifetimes"
   ]
  },
  {
   "cell_type": "code",
   "execution_count": null,
   "metadata": {
    "ExecuteTime": {
     "end_time": "2021-12-15T21:10:14.062888Z",
     "start_time": "2021-12-15T21:10:14.062870Z"
    },
    "hidden": true
   },
   "outputs": [],
   "source": [
    "# ll=np.max(gd_lifetimes[gd_lifetimes>0.])\n",
    "# print(f\"the longest living tip lasted {int(np.around(ll/h))} time steps, which was {ll:.3f} ms.\")"
   ]
  },
  {
   "cell_type": "markdown",
   "metadata": {
    "ExecuteTime": {
     "end_time": "2020-06-29T23:39:02.614597Z",
     "start_time": "2020-06-29T23:39:02.579449Z"
    },
    "hidden": true
   },
   "source": [
    " based on Wouter's results, we would expect a lifetime on the order of 10 ms from a birth/death rate of ~0.1/ms.  We have 557 ms of data, so we would expect on the order of 2*557*0.1=111 birth/death events.\n",
    " \n",
    " So, we expect at least one tip that lasts __10 ms__."
   ]
  },
  {
   "cell_type": "code",
   "execution_count": null,
   "metadata": {
    "ExecuteTime": {
     "end_time": "2021-12-15T21:10:14.064070Z",
     "start_time": "2021-12-15T21:10:14.064051Z"
    },
    "code_folding": [],
    "hidden": true
   },
   "outputs": [],
   "source": [
    "# plt.hist?"
   ]
  },
  {
   "cell_type": "code",
   "execution_count": null,
   "metadata": {
    "ExecuteTime": {
     "end_time": "2021-12-15T21:10:14.065344Z",
     "start_time": "2021-12-15T21:10:14.065327Z"
    },
    "hidden": true
   },
   "outputs": [],
   "source": [
    "# plt.hist(out[out>-100], bins=30, density=True)"
   ]
  },
  {
   "cell_type": "code",
   "execution_count": null,
   "metadata": {
    "ExecuteTime": {
     "end_time": "2021-12-15T21:10:14.066448Z",
     "start_time": "2021-12-15T21:10:14.066432Z"
    },
    "hidden": true
   },
   "outputs": [],
   "source": [
    "ll=np.max(gd_lifetimes[gd_lifetimes>0.])\n",
    "print(f\"the longest living tip lasted {int(np.around(ll/h))} time steps, which was {ll:.3f} ms.\")\n",
    "fig_fn = save_fn.replace('.csv','.png').replace('tip_log','hist_lifetimes')\n",
    "# out = np.log(gd_lifetimes)\n",
    "\n",
    "fontsize= 25\n",
    "\n",
    "fig, ax = plt.subplots(figsize=(8,5))\n",
    "plt.hist(gd_lifetimes[gd_lifetimes>0], bins=30, density=True, log=True)\n",
    "plt.ylabel('frequency', fontsize=fontsize)\n",
    "plt.xlabel('lifetime (ms)', fontsize=fontsize)\n",
    "ax.tick_params(axis='both', labelsize= fontsize)\n",
    "plt.tight_layout()\n",
    "# plt.show()\n",
    "savefig_dir = f\"{nb_dir}/Figures/zero_odd_births-deaths_{descrip}.png\"\n",
    "fig.savefig(savefig_dir,dpi=400)\n",
    "print (savefig_dir)\n",
    "# plt.savefig(fig_fn, dpi=300)"
   ]
  },
  {
   "cell_type": "code",
   "execution_count": null,
   "metadata": {
    "ExecuteTime": {
     "end_time": "2021-12-15T21:10:14.067568Z",
     "start_time": "2021-12-15T21:10:14.067548Z"
    },
    "hidden": true
   },
   "outputs": [],
   "source": [
    "y_values = df_traj.n.values\n",
    "x_values = df_traj.t.values\n",
    "plt.plot(x_values,y_values)"
   ]
  },
  {
   "cell_type": "code",
   "execution_count": null,
   "metadata": {
    "ExecuteTime": {
     "end_time": "2021-12-15T21:10:14.069028Z",
     "start_time": "2021-12-15T21:10:14.069006Z"
    },
    "hidden": true
   },
   "outputs": [],
   "source": [
    "y_values = df_traj.n.values\n",
    "x_values = df_traj.t.values\n",
    "plt.plot(x_values,y_values)"
   ]
  },
  {
   "cell_type": "code",
   "execution_count": null,
   "metadata": {
    "ExecuteTime": {
     "end_time": "2021-12-15T21:10:14.070455Z",
     "start_time": "2021-12-15T21:10:14.070435Z"
    },
    "code_folding": [],
    "hidden": true
   },
   "outputs": [],
   "source": [
    "# # (equivalently if pid's are not reused) take max and min time for each trajectory\n",
    "# def get_lifetime(trajectory_list):\n",
    "#     '''trajectory_list is a list of lists.  \n",
    "#     return np.mean( [ len(trajectory) for trajectory in trajectory_list ], axis=0 )'''\n",
    "#     return np.mean( [ len(trajectory) for trajectory in trajectory_list ], axis=0 )\n",
    "# #    TODO: for a given .csv of tip positions, make their trajectories naively in trackpy\n"
   ]
  },
  {
   "cell_type": "code",
   "execution_count": null,
   "metadata": {
    "hidden": true
   },
   "outputs": [],
   "source": []
  },
  {
   "cell_type": "markdown",
   "metadata": {
    "ExecuteTime": {
     "end_time": "2020-06-30T02:16:13.355352Z",
     "start_time": "2020-06-30T02:16:13.326693Z"
    },
    "heading_collapsed": true,
    "hidden": true
   },
   "source": [
    "## walk through the log folder converting tip positions to tip trajectories"
   ]
  },
  {
   "cell_type": "code",
   "execution_count": null,
   "metadata": {
    "ExecuteTime": {
     "end_time": "2021-12-15T21:10:14.071369Z",
     "start_time": "2021-12-15T21:10:14.071350Z"
    },
    "hidden": true
   },
   "outputs": [],
   "source": [
    "log_dir = f\"{nb_dir}/Data/ds_5_param_set_8/Log\"\n",
    "out_dir = f\"{nb_dir}/Data/ds_5_param_set_8/trajectories\"\n",
    "os.chdir(log_dir)\n",
    "input_fn = 'tip_log_ds_5_sigma_0.5_threshold_0.9_002_traj_sr_1_mem_2.csv'\n",
    "h = 0.007\n",
    "sr  = 1\n",
    "def get_df_and_kwargs(input_fn, width=200,height=200, mem = 2):\n",
    "    df = pd.read_csv(input_fn)\n",
    "    distance_L2_pbc = get_distance_L2_pbc(width=width,height=height)\n",
    "    df['frame'] = np.around(df['t']/h)\n",
    "    df = df.astype(dtype={'frame':int}).copy()\n",
    "    link_kwargs = {\n",
    "        'neighbor_strategy' : 'BTree',\n",
    "        'dist_func'         : distance_L2_pbc,\n",
    "        'memory': mem}\n",
    "    return df, link_kwargs"
   ]
  },
  {
   "cell_type": "code",
   "execution_count": null,
   "metadata": {
    "ExecuteTime": {
     "end_time": "2020-07-02T02:44:20.784141Z",
     "start_time": "2020-07-02T02:44:20.750614Z"
    },
    "hidden": true
   },
   "outputs": [],
   "source": []
  },
  {
   "cell_type": "code",
   "execution_count": null,
   "metadata": {
    "ExecuteTime": {
     "end_time": "2021-12-15T21:10:14.072543Z",
     "start_time": "2021-12-15T21:10:14.072524Z"
    },
    "hidden": true
   },
   "outputs": [],
   "source": [
    "#compute all _processed.csv tip logs in the Log folder\n",
    "os.chdir(log_dir)\n",
    "for root, dirs, files in os.walk(\".\", topdown=False):\n",
    "    for name in dirs:\n",
    "        print(os.path.join(root, name))\n",
    "    for name in files:\n",
    "        os.chdir(log_dir)\n",
    "        df_dir = os.path.join(root, name)\n",
    "        if df_dir.find('_processed.csv') !=-1:\n",
    "            print(f\"starting on {df_dir}...\")\n",
    "            df, link_kwargs = get_df_and_kwargs(input_fn=df_dir, width=200,height=200, mem = 2)\n",
    "            # test whether data has no odd spiral tips since the data has periodic boundary conditions\n",
    "            if (np.array(list(set(df.n.values)))%2==1).any():\n",
    "                print(f'WARNING: an odd spiral tips exists in \\n\\t{fn}')\n",
    "            \n",
    "            # compute trajectories (slowest part)\n",
    "            traj = trackpy.link_df(f=df,search_range=sr,t_column='frame', **link_kwargs)\n",
    "            \n",
    "            #save results\n",
    "            os.chdir(out_dir)\n",
    "            save_fn = os.path.basename(df_dir).replace('_processed.csv', f'_traj_sr_{sr}_mem_{mem}.csv').replace('tip_log','tip_trajectories')\n",
    "            traj.to_csv(save_fn, index=False)"
   ]
  },
  {
   "cell_type": "code",
   "execution_count": null,
   "metadata": {
    "ExecuteTime": {
     "end_time": "2021-12-15T21:10:14.073446Z",
     "start_time": "2021-12-15T21:10:14.073427Z"
    },
    "hidden": true
   },
   "outputs": [],
   "source": [
    "beep(7)"
   ]
  },
  {
   "cell_type": "markdown",
   "metadata": {
    "heading_collapsed": true,
    "hidden": true
   },
   "source": [
    "## make a histogram for each output "
   ]
  },
  {
   "cell_type": "code",
   "execution_count": null,
   "metadata": {
    "ExecuteTime": {
     "end_time": "2021-12-15T21:10:14.074751Z",
     "start_time": "2021-12-15T21:10:14.074732Z"
    },
    "hidden": true
   },
   "outputs": [],
   "source": [
    "sr  = 1\n",
    "mem = 2\n",
    "dpi = 300\n",
    "h = 0.007\n",
    "traj_dir = f\"{nb_dir}/Data/ds_5_param_set_8/trajectories\"\n",
    "save_dir = f\"{nb_dir}/Figures\"\n",
    "os.chdir(traj_dir)\n",
    "fontsize=15"
   ]
  },
  {
   "cell_type": "code",
   "execution_count": null,
   "metadata": {
    "ExecuteTime": {
     "end_time": "2021-12-15T21:10:14.076012Z",
     "start_time": "2021-12-15T21:10:14.075992Z"
    },
    "hidden": true,
    "scrolled": false
   },
   "outputs": [],
   "source": [
    "#compute all _processed.csv tip logs in the Log folder\n",
    "for root, dirs, files in os.walk(\".\", topdown=False):\n",
    "    for name in dirs:\n",
    "        print(os.path.join(root, name))\n",
    "    for name in files:\n",
    "        os.chdir(traj_dir)\n",
    "        df_dir = os.path.join(root, name)\n",
    "        if df_dir.find(f'_traj_sr_{sr}_mem_{mem}.csv') !=-1:\n",
    "            print(f\"starting on {df_dir}...\")\n",
    "            df_traj = pd.read_csv(df_dir)\n",
    "\n",
    "#             df = pd.read_csv(data_dir)\n",
    "\n",
    "            # compute lifetimes\n",
    "            g = df_traj.groupby('particle')['t']\n",
    "            mx = g.agg(np.max)\n",
    "            mn = g.agg(np.min)\n",
    "            gd_lifetimes = mx - mn\n",
    "#             gd_lifetimes = gd['max']- gd['min']\n",
    "            \n",
    "            #plot results\n",
    "            ll=np.max(gd_lifetimes[gd_lifetimes>0.])\n",
    "            print(f\"the longest living tip lasted {int(np.around(ll/h))} time steps, which was {ll:.3f} ms.\")\n",
    "            fig_fn = df_dir.replace('.csv','.png').replace('_traj_','hist_lifetimes')\n",
    "            # out = np.log(gd_lifetimes)\n",
    "            plt.hist(gd_lifetimes[gd_lifetimes>0], bins=30, density=True, log=True)\n",
    "            plt.ylabel('frequency', fontsize=fontsize)\n",
    "            plt.xlabel('lifetime (ms)', fontsize=fontsize)\n",
    "            # plt.show()\n",
    "           \n",
    "            \n",
    "            #save results\n",
    "            os.chdir(save_dir)\n",
    "            save_fn = os.path.basename(df_dir).replace(f'_traj_sr_{sr}_mem_{mem}.csv', f'_sr_{sr}_mem_{mem}.csv').replace('tip_trajectories','histogram_lifetimes')\n",
    "            plt.savefig(fig_fn, dpi=dpi)\n",
    "            plt.close()"
   ]
  },
  {
   "cell_type": "markdown",
   "metadata": {
    "heading_collapsed": true,
    "hidden": true
   },
   "source": [
    "## take a close look at when those n = 6 numbers flicker to n=12 during trackpy.link_df\n",
    "### __answer__ frame was rounding funny like in fortran\n",
    "also, my data has some frames missing, and I don't know why...<br>\n",
    "TODO: see if frames are still missing when `recording` is not recomputed every timestep"
   ]
  },
  {
   "cell_type": "code",
   "execution_count": null,
   "metadata": {
    "ExecuteTime": {
     "end_time": "2021-12-15T21:10:14.077373Z",
     "start_time": "2021-12-15T21:10:14.077353Z"
    },
    "hidden": true
   },
   "outputs": [],
   "source": [
    "retval = traj.groupby('frame')['particle', 'n', 't']"
   ]
  },
  {
   "cell_type": "code",
   "execution_count": null,
   "metadata": {
    "ExecuteTime": {
     "end_time": "2021-12-15T21:10:14.078306Z",
     "start_time": "2021-12-15T21:10:14.078289Z"
    },
    "hidden": true
   },
   "outputs": [],
   "source": [
    "l = 69990\n",
    "frame_indices = retval.count().loc[l-1:l+2].index\n",
    "# .reduce('add')"
   ]
  },
  {
   "cell_type": "code",
   "execution_count": null,
   "metadata": {
    "ExecuteTime": {
     "end_time": "2021-12-15T21:10:14.079346Z",
     "start_time": "2021-12-15T21:10:14.079327Z"
    },
    "hidden": true
   },
   "outputs": [],
   "source": [
    "for fi in frame_indices:\n",
    "    pass\n",
    "#     print(df.loc[fi])\n"
   ]
  },
  {
   "cell_type": "code",
   "execution_count": null,
   "metadata": {
    "ExecuteTime": {
     "end_time": "2021-12-15T21:10:14.081027Z",
     "start_time": "2021-12-15T21:10:14.080997Z"
    },
    "hidden": true
   },
   "outputs": [],
   "source": [
    "l = 69990\n",
    "\n",
    "df.loc[(df.frame >= l-2) & (df.frame <= l+2)]#[['particle', 'n', 't']]"
   ]
  },
  {
   "cell_type": "code",
   "execution_count": null,
   "metadata": {
    "ExecuteTime": {
     "end_time": "2021-12-15T21:10:14.082473Z",
     "start_time": "2021-12-15T21:10:14.082452Z"
    },
    "hidden": true
   },
   "outputs": [],
   "source": [
    "# frame_indices = retval.count().loc[l-1:l+2].index"
   ]
  },
  {
   "cell_type": "code",
   "execution_count": null,
   "metadata": {
    "ExecuteTime": {
     "end_time": "2021-12-15T21:10:14.083562Z",
     "start_time": "2021-12-15T21:10:14.083544Z"
    },
    "hidden": true
   },
   "outputs": [],
   "source": [
    "traj.loc[(traj.frame >= l-2) & (traj.frame <= l+2)]"
   ]
  },
  {
   "cell_type": "markdown",
   "metadata": {
    "hidden": true
   },
   "source": [
    "How am I computing the field \"frame\"? How is it rounding?"
   ]
  },
  {
   "cell_type": "code",
   "execution_count": null,
   "metadata": {
    "ExecuteTime": {
     "end_time": "2021-12-15T21:10:14.084676Z",
     "start_time": "2021-12-15T21:10:14.084658Z"
    },
    "hidden": true
   },
   "outputs": [],
   "source": [
    "df['frame'] = np.around(df['t']/h)\n",
    "df = df.astype(dtype={'frame':int}).copy()"
   ]
  },
  {
   "cell_type": "code",
   "execution_count": null,
   "metadata": {
    "ExecuteTime": {
     "end_time": "2021-12-15T21:10:14.085726Z",
     "start_time": "2021-12-15T21:10:14.085708Z"
    },
    "hidden": true
   },
   "outputs": [],
   "source": [
    "df = traj.copy()\n",
    "df['frame'] = np.around(df['t']/h)\n",
    "df = df.astype(dtype={'frame':int}).copy()\n",
    "df.loc[(traj.frame >= l-2) & (traj.frame <= l+2)]"
   ]
  },
  {
   "cell_type": "markdown",
   "metadata": {
    "ExecuteTime": {
     "end_time": "2020-06-30T03:51:24.005048Z",
     "start_time": "2020-06-30T03:51:23.975142Z"
    },
    "hidden": true
   },
   "source": [
    "##  spiral tip investigating tips with small lifetimes\n",
    "- TODO: plot tip number versus time for trajectories and raw positions\n",
    "    - Does tip doubling still exist?\n",
    "    - if so, consider investigating tip doubling near missing frames explicitely plug into trackpy.link_df\n",
    "\n",
    "\n",
    "- TODO: select tips with short lifetimes. visualize.\n",
    "- TODO: select tips with long lifetimes. visualize.\n",
    "\n",
    " - TODO(later): compute the velocity of a given tip that doesn't cross the periodic boundaries\n",
    "\n"
   ]
  },
  {
   "cell_type": "markdown",
   "metadata": {
    "ExecuteTime": {
     "end_time": "2020-07-02T01:23:42.509319Z",
     "start_time": "2020-07-02T01:23:42.483798Z"
    },
    "heading_collapsed": true,
    "hidden": true
   },
   "source": [
    "## select the long life time spiral tips and plot their birth death rates"
   ]
  },
  {
   "cell_type": "code",
   "execution_count": null,
   "metadata": {
    "ExecuteTime": {
     "end_time": "2021-12-15T21:10:14.086951Z",
     "start_time": "2021-12-15T21:10:14.086930Z"
    },
    "hidden": true
   },
   "outputs": [],
   "source": [
    "!pwd"
   ]
  },
  {
   "cell_type": "code",
   "execution_count": null,
   "metadata": {
    "ExecuteTime": {
     "end_time": "2021-12-15T21:10:14.088024Z",
     "start_time": "2021-12-15T21:10:14.088001Z"
    },
    "hidden": true
   },
   "outputs": [],
   "source": [
    "#import most recent tip trajectory data and the corresponding raw tips\n",
    "data_dir_traj = f\"{nb_dir}/Data/ds_5_param_set_8/trajectories\"\n",
    "# data_fn_traj  = 'tip_trajectories_ds_5_sigma_1.0_threshold_0.9_traj_sr_1_mem_2.csv' # nice trajectories\n",
    "data_fn_traj  = 'tip_log_ds_5_sigma_0.5_threshold_0.9_005_traj_sr_1_mem_2.csv'# has EP data but has broken trajectories\n",
    "data_fn = data_fn_traj\n",
    "# data_dir_log  = f\"{nb_dir}/Data/ds_5_param_set_8/Log\"\n",
    "# data_fn_log_processed = 'tip_log_ds_5_sigma_1.0_threshold_0.6_processed.csv'\n",
    "# data_fn_log = 'tip_log_ds_5_sigma_1.0_threshold_0.6_001.csv' #not terribly useful\n",
    "\n",
    "os.chdir(data_dir_traj)\n",
    "df = pd.read_csv(data_fn_traj)\n",
    "# select only data after 100 milliseconds\n",
    "df = df[df.t>100].copy()\n",
    "\n",
    "print('tip trajectories:')\n",
    "df.head()"
   ]
  },
  {
   "cell_type": "code",
   "execution_count": null,
   "metadata": {
    "ExecuteTime": {
     "end_time": "2021-12-15T21:10:14.089236Z",
     "start_time": "2021-12-15T21:10:14.089218Z"
    },
    "hidden": true
   },
   "outputs": [],
   "source": [
    "# os.chdir(data_dir_log)\n",
    "# df_log = pd.read_csv(data_fn_log_processed)\n",
    "\n",
    "# # select only data after 100 milliseconds\n",
    "# df_log = df_log[df_log.t>100].copy()\n",
    "# print('tip log processed:')\n",
    "# df_log.head()"
   ]
  },
  {
   "cell_type": "markdown",
   "metadata": {
    "heading_collapsed": true,
    "hidden": true
   },
   "source": [
    "## do spiral tips with a sufficiently large lifetime reproduce known results?"
   ]
  },
  {
   "cell_type": "code",
   "execution_count": null,
   "metadata": {
    "ExecuteTime": {
     "end_time": "2021-12-15T21:10:14.090539Z",
     "start_time": "2021-12-15T21:10:14.090525Z"
    },
    "hidden": true
   },
   "outputs": [],
   "source": [
    "# df.describe()"
   ]
  },
  {
   "cell_type": "code",
   "execution_count": null,
   "metadata": {
    "ExecuteTime": {
     "end_time": "2021-12-15T21:10:14.091830Z",
     "start_time": "2021-12-15T21:10:14.091812Z"
    },
    "hidden": true
   },
   "outputs": [],
   "source": [
    "#TODO: test for gaps in a given trajectory\n",
    "#TODO: test for consistency between frame and time"
   ]
  },
  {
   "cell_type": "code",
   "execution_count": null,
   "metadata": {
    "ExecuteTime": {
     "end_time": "2020-08-04T19:52:30.026153Z",
     "start_time": "2020-08-04T19:52:30.002547Z"
    },
    "hidden": true
   },
   "outputs": [],
   "source": []
  },
  {
   "cell_type": "code",
   "execution_count": null,
   "metadata": {
    "ExecuteTime": {
     "end_time": "2021-12-15T21:10:14.092712Z",
     "start_time": "2021-12-15T21:10:14.092695Z"
    },
    "hidden": true
   },
   "outputs": [],
   "source": [
    "xmin=0; ymin=0; xmax=200; ymax=200; \n",
    "axis = [xmin,xmax,ymin,ymax]\n"
   ]
  },
  {
   "cell_type": "code",
   "execution_count": null,
   "metadata": {
    "ExecuteTime": {
     "end_time": "2021-12-15T21:10:14.093613Z",
     "start_time": "2021-12-15T21:10:14.093600Z"
    },
    "hidden": true
   },
   "outputs": [],
   "source": [
    "#naive computation of lifetime for a given tip\n",
    "def get_lifetime(pid,df):\n",
    "    mx,mn = df[(df.particle==pid)].t.describe()[['max','min']]\n",
    "    lifetime = mx-mn #milliseconds\n",
    "    return lifetime\n",
    "\n",
    "pid_values = np.array(list(set(df.particle.values)))\n",
    "# lifetime_values = [0.*pid for pid in pid_values]\n",
    "\n",
    "lifetime_values = np.array([get_lifetime(pid,df) for pid in pid_values])\n",
    "\n",
    "\n"
   ]
  },
  {
   "cell_type": "code",
   "execution_count": null,
   "metadata": {
    "ExecuteTime": {
     "end_time": "2021-12-15T21:10:14.094550Z",
     "start_time": "2021-12-15T21:10:14.094523Z"
    },
    "hidden": true,
    "scrolled": true
   },
   "outputs": [],
   "source": [
    "# plot tip number versus time for all trajectories\n",
    "t_values = df.t.values\n",
    "n_values = df.n.values\n",
    "plt.plot(t_values, n_values, alpha=0.5)"
   ]
  },
  {
   "cell_type": "code",
   "execution_count": null,
   "metadata": {
    "ExecuteTime": {
     "end_time": "2021-12-15T21:10:14.096178Z",
     "start_time": "2021-12-15T21:10:14.096163Z"
    },
    "hidden": true
   },
   "outputs": [],
   "source": [
    "# len(lifetime_values[boo])"
   ]
  },
  {
   "cell_type": "code",
   "execution_count": null,
   "metadata": {
    "ExecuteTime": {
     "end_time": "2020-08-04T19:58:10.518921Z",
     "start_time": "2020-08-04T19:58:10.495087Z"
    },
    "hidden": true
   },
   "outputs": [],
   "source": []
  },
  {
   "cell_type": "code",
   "execution_count": null,
   "metadata": {
    "ExecuteTime": {
     "end_time": "2021-12-15T21:10:14.097028Z",
     "start_time": "2021-12-15T21:10:14.097013Z"
    },
    "hidden": true
   },
   "outputs": [],
   "source": [
    "# plt.hist(x)"
   ]
  },
  {
   "cell_type": "code",
   "execution_count": null,
   "metadata": {
    "ExecuteTime": {
     "end_time": "2021-12-15T21:10:14.097912Z",
     "start_time": "2021-12-15T21:10:14.097901Z"
    },
    "hidden": true
   },
   "outputs": [],
   "source": [
    "#the above spiral tip lifetime estimates may not be accurate.  But W±1 = 0...\n",
    "#TODO: plot the xy positions of the long lived spiral tips, coloring by pid.\n"
   ]
  },
  {
   "cell_type": "code",
   "execution_count": null,
   "metadata": {
    "ExecuteTime": {
     "end_time": "2020-08-05T16:34:28.160531Z",
     "start_time": "2020-08-05T16:34:28.120913Z"
    },
    "hidden": true
   },
   "outputs": [],
   "source": []
  },
  {
   "cell_type": "code",
   "execution_count": null,
   "metadata": {
    "ExecuteTime": {
     "end_time": "2021-12-15T21:10:14.098566Z",
     "start_time": "2021-12-15T21:10:14.098556Z"
    },
    "hidden": true
   },
   "outputs": [],
   "source": [
    "#plot the xy trajectory for longliving tips\n",
    "saving = False\n",
    "fig, ax = plt.subplots(figsize=(5, 5))\n",
    "fontsize=16\n",
    "\n",
    "LT_thresh = 2 #14 = 0.007*2000\n",
    "boo = (lifetime_values>LT_thresh)\n",
    "savefig_dir = f'{nb_dir}/Figures/lifetime_analysis'\n",
    "savefig_fn = data_fn.replace('.csv',f'_lifetimes_longerthan_{LT_thresh:.2f}_005.png')\n",
    "\n",
    "df_traj = df.copy()\n",
    "for pid in pid_values[boo]:\n",
    "    x_values ,y_values = df_traj[(df_traj.particle==pid) ][['x','y']].values.T\n",
    "    plt.scatter(x_values,y_values, s=.1)\n",
    "    plt.scatter([x_values[0]],[y_values[0]], s=10,color='black')\n",
    "plt.axis(axis)\n",
    "plt.title(f'''spiral tip lasting more than {LT_thresh:.2f} ms\n",
    "(tips start at black dots)''', fontsize=fontsize)\n",
    "ax.set_xlabel('x coordinate (pixels)', fontsize=fontsize)\n",
    "ax.set_ylabel('y coordinate (pixels)', fontsize=fontsize)\n",
    "if not saving: \n",
    "    plt.show() \n",
    "else:\n",
    "    plt.tight_layout()\n",
    "    os.chdir(savefig_dir)\n",
    "    plt.savefig(savefig_fn, dpi=300)\n",
    "    print(f\"saved figure in \\n\\t{savefig_fn}.\")"
   ]
  },
  {
   "cell_type": "markdown",
   "metadata": {
    "ExecuteTime": {
     "end_time": "2020-08-04T19:46:54.606778Z",
     "start_time": "2020-08-04T19:46:54.456614Z"
    },
    "hidden": true
   },
   "source": [
    "__Long Lifetimes at later times look reasonable__<br>\n",
    "for ^these lifetimes, the spatial trajectories appear robust when considering only lifetimes 1.5ms or longer, but not for 1.0ms or shorter.  Many of the spiral tips with high frequencies are removed by ommiting data shortly after initialization (considering only times greater than t=100ms)."
   ]
  },
  {
   "cell_type": "markdown",
   "metadata": {
    "ExecuteTime": {
     "end_time": "2020-08-04T20:06:59.513650Z",
     "start_time": "2020-08-04T20:06:59.487892Z"
    },
    "hidden": true
   },
   "source": [
    "### testing for sensitivity to LT_thresh\n",
    "The total number of spiral tips appears reletivley stable when considering only spiral tips with a lifetime greater than 2 milliseconds."
   ]
  },
  {
   "cell_type": "code",
   "execution_count": null,
   "metadata": {
    "ExecuteTime": {
     "end_time": "2021-12-15T21:10:14.099226Z",
     "start_time": "2021-12-15T21:10:14.099216Z"
    },
    "hidden": true
   },
   "outputs": [],
   "source": [
    "x_values = np.linspace(1,15,100)\n",
    "y_values = []\n",
    "for LT_thresh in x_values:\n",
    "    boo = (lifetime_values>LT_thresh)\n",
    "    number_of_particles = lifetime_values[boo].shape[0]\n",
    "    y_values.append(number_of_particles)\n",
    "y_values = np.array(y_values)"
   ]
  },
  {
   "cell_type": "code",
   "execution_count": null,
   "metadata": {
    "ExecuteTime": {
     "end_time": "2021-12-15T21:10:14.100001Z",
     "start_time": "2021-12-15T21:10:14.099990Z"
    },
    "hidden": true
   },
   "outputs": [],
   "source": [
    "#plot total particle number versus LT_thresh.  \n",
    "#plot the xy trajectory for longliving tips\n",
    "saving = True\n",
    "savefig_fn = 'total_num_tips_versus_minimum_lifetime_threshold_zoomed.png'\n",
    "fig, ax = plt.subplots(figsize=(4, 4))\n",
    "fontsize=16\n",
    "\n",
    "ax.plot(x_values,y_values)\n",
    "# ax.set_title('total number of spiral tips observed after time t=100ms', fontsize=fontsize)\n",
    "ax.set_xlabel('min. lifetime threshold (ms)', fontsize=fontsize)\n",
    "ax.set_ylabel('total num. tips', fontsize=fontsize)\n",
    "if not saving: \n",
    "    plt.show() \n",
    "else:\n",
    "    plt.tight_layout()\n",
    "    os.chdir(savefig_dir)\n",
    "    plt.savefig(savefig_fn, dpi=300)\n",
    "    print(f\"saved figure in \\n\\t{savefig_fn}.\")"
   ]
  },
  {
   "cell_type": "code",
   "execution_count": null,
   "metadata": {
    "ExecuteTime": {
     "end_time": "2021-12-15T21:10:14.100605Z",
     "start_time": "2021-12-15T21:10:14.100595Z"
    },
    "hidden": true
   },
   "outputs": [],
   "source": [
    "\n",
    "# #TODO: plot a better histogram of tips lifetimes\n",
    "# boo = (lifetime_values>0.007*2000)\n",
    "# mu = 200\n",
    "# sigma = 25\n",
    "# n_bins = 50\n",
    "# x = lifetime_values[boo]\n",
    "\n",
    "# fig, ax = plt.subplots(figsize=(8, 4))\n",
    "\n",
    "# # plot the cumulative histogram\n",
    "# n, bins, patches = ax.hist(x, n_bins, density=True, histtype='step',\n",
    "#                            cumulative=True, label='Empirical')\n",
    "\n",
    "# # Add a line showing the expected distribution.\n",
    "# y = ((1 / (np.sqrt(2 * np.pi) * sigma)) *\n",
    "#      np.exp(-0.5 * (1 / sigma * (bins - mu))**2))\n",
    "# y = y.cumsum()\n",
    "# y /= y[-1]\n",
    "\n",
    "# ax.plot(bins, y, 'k--', linewidth=1.5, label='Theoretical')\n",
    "\n",
    "# # Overlay a reversed cumulative histogram.\n",
    "# ax.hist(x, bins=bins, density=True, histtype='step', cumulative=-1,\n",
    "#         label='Reversed emp.')\n",
    "\n",
    "# # tidy up the figure\n",
    "# ax.grid(True)\n",
    "# ax.legend(loc='right')\n",
    "# ax.set_title('Cumulative step histograms')\n",
    "# ax.set_xlabel('spiral tip lifetime (sec)')\n",
    "# ax.set_ylabel('Likelihood of occurrence')\n"
   ]
  },
  {
   "cell_type": "markdown",
   "metadata": {
    "heading_collapsed": true,
    "hidden": true
   },
   "source": [
    "## plot a histogram of spiral tip lifetimes when considering only these features\n",
    "\n",
    "Despite this lifetime spiral tips still exist.  Since the xy-plots of the trajectories look reasonable, it is worth considering what may distinguish these spiral tips.  \n",
    "- TODO: plot birth death rates of spiral tips when only considering these tips\n",
    "\n",
    "- TODO: plot local EP properties for short-lived and long-lived spiral tips"
   ]
  },
  {
   "cell_type": "code",
   "execution_count": null,
   "metadata": {
    "ExecuteTime": {
     "end_time": "2021-12-15T21:10:14.101396Z",
     "start_time": "2021-12-15T21:10:14.101379Z"
    },
    "hidden": true
   },
   "outputs": [],
   "source": [
    "LT_thresh = 2\n",
    "boo = (lifetime_values>LT_thresh)\n",
    "x = lifetime_values[boo]\n",
    "plt.hist(x, bins=30)\n"
   ]
  },
  {
   "cell_type": "code",
   "execution_count": null,
   "metadata": {
    "ExecuteTime": {
     "end_time": "2021-12-15T21:10:14.102688Z",
     "start_time": "2021-12-15T21:10:14.102658Z"
    },
    "hidden": true
   },
   "outputs": [],
   "source": [
    "#plot the xy trajectory for longliving tips\n",
    "saving = True\n",
    "fig, ax = plt.subplots(figsize=(5, 4))\n",
    "fontsize=16\n",
    "\n",
    "\n",
    "savefig_dir = f'{nb_dir}/Figures/lifetime_analysis'\n",
    "savefig_fn = 'spiral_tip_histogram.png'\n",
    "\n",
    "for pid in pid_values[boo]:\n",
    "    ax.hist(x, bins = 30)#, color='b')\n",
    "# plt.axis(axis)\n",
    "ax.set_title(f'''spiral tip lifetimes don't appear unimodal \\n(no unreasonably brief spiral tips)''', fontsize=fontsize)\n",
    "ax.set_xlabel('lifetime (ms)', fontsize=fontsize)\n",
    "ax.set_ylabel('frequency', fontsize=fontsize)\n",
    "if not saving: \n",
    "    plt.show() \n",
    "else:\n",
    "    plt.tight_layout()\n",
    "    os.chdir(savefig_dir)\n",
    "    plt.savefig(savefig_fn, dpi=300)\n",
    "    print(f\"saved figure in \\n\\t{savefig_fn}.\")"
   ]
  },
  {
   "cell_type": "code",
   "execution_count": null,
   "metadata": {
    "ExecuteTime": {
     "end_time": "2020-08-04T20:29:22.482563Z",
     "start_time": "2020-08-04T20:29:22.456541Z"
    },
    "hidden": true
   },
   "outputs": [],
   "source": []
  },
  {
   "cell_type": "code",
   "execution_count": null,
   "metadata": {
    "ExecuteTime": {
     "end_time": "2021-12-15T21:10:14.103605Z",
     "start_time": "2021-12-15T21:10:14.103587Z"
    },
    "hidden": true
   },
   "outputs": [],
   "source": [
    "xcoord_mesh, ycoord_mesh = np.meshgrid(np.arange(0,200),np.arange(0,200))"
   ]
  },
  {
   "cell_type": "code",
   "execution_count": null,
   "metadata": {
    "ExecuteTime": {
     "end_time": "2021-12-15T21:10:14.104698Z",
     "start_time": "2021-12-15T21:10:14.104680Z"
    },
    "hidden": true
   },
   "outputs": [],
   "source": [
    "df.particle==5"
   ]
  },
  {
   "cell_type": "markdown",
   "metadata": {
    "heading_collapsed": true
   },
   "source": [
    "# EP states are jumpy as they are, (even for the cubic spline?)\n",
    "- TODO: check that cubic spline is actually rough\n",
    "histogram of EP states"
   ]
  },
  {
   "cell_type": "code",
   "execution_count": null,
   "metadata": {
    "ExecuteTime": {
     "end_time": "2021-12-15T21:10:14.106409Z",
     "start_time": "2021-12-15T21:10:14.106397Z"
    },
    "hidden": true
   },
   "outputs": [],
   "source": [
    "#import most recent tip trajectory data and the corresponding raw tips\n",
    "data_dir_traj = f\"{nb_dir}/Data/ds_5_param_set_8/trajectories\"\n",
    "# data_fn_traj  = 'tip_trajectories_ds_5_sigma_1.0_threshold_0.9_traj_sr_1_mem_2.csv' # nice trajectories\n",
    "data_fn_traj  = 'tip_log_ds_5_sigma_0.5_threshold_0.9_005_traj_sr_1_mem_2.csv'# has EP data but has broken trajectories\n",
    "data_fn = data_fn_traj\n",
    "# data_dir_log  = f\"{nb_dir}/Data/ds_5_param_set_8/Log\"\n",
    "# data_fn_log_processed = 'tip_log_ds_5_sigma_1.0_threshold_0.6_processed.csv'\n",
    "# data_fn_log = 'tip_log_ds_5_sigma_1.0_threshold_0.6_001.csv' #not terribly useful\n",
    "\n",
    "os.chdir(data_dir_traj)\n",
    "df = pd.read_csv(data_fn_traj)\n",
    "# select only data after 100 milliseconds\n",
    "df = df[df.t>100].copy()\n",
    "\n",
    "# print('tip trajectories:')\n",
    "# df.head()\n",
    "df.columns.values"
   ]
  },
  {
   "cell_type": "code",
   "execution_count": null,
   "metadata": {
    "ExecuteTime": {
     "end_time": "2021-12-15T21:10:14.107178Z",
     "start_time": "2021-12-15T21:10:14.107166Z"
    },
    "hidden": true
   },
   "outputs": [],
   "source": [
    "# def unwrap_EP(df, \n",
    "#               EP_col_name = 'states_interpolated_linear', \n",
    "#               drop_original_column=False):\n",
    "#     EP_col_exists =  EP_col_name in df.columns.values\n",
    "#     if not EP_col_exists:\n",
    "#         print(f\"Caution! EP_col_name '{EP_col_exists}' does not exist. Returning input df.\")\n",
    "#         return df\n",
    "#     else:\n",
    "#         V_lst = []\n",
    "#         f_lst = []\n",
    "#         s_lst = []\n",
    "#         for index, row in df.iterrows():\n",
    "#             try:\n",
    "#                 V,f,s = row[EP_col_name]\n",
    "#             except Exception as e:\n",
    "#                 V,f,s = eval(row[EP_col_name])\n",
    "#             V_lst.append(V)\n",
    "#             f_lst.append(f)\n",
    "#             s_lst.append(s)\n",
    "#         df['V'] = V_lst\n",
    "#         df['f'] = f_lst\n",
    "#         df['s'] = s_lst   \n",
    "#         df.drop(columns=[EP_col_name], inplace=True)\n",
    "#         return df"
   ]
  },
  {
   "cell_type": "code",
   "execution_count": null,
   "metadata": {
    "ExecuteTime": {
     "end_time": "2021-12-15T21:10:14.107963Z",
     "start_time": "2021-12-15T21:10:14.107952Z"
    },
    "hidden": true
   },
   "outputs": [],
   "source": [
    "df = unwrap_EP(df, EP_col_name = 'states_interpolated_linear').copy()\n",
    "plt.plot(df.loc[df.particle==119].V.values)"
   ]
  },
  {
   "cell_type": "code",
   "execution_count": null,
   "metadata": {
    "ExecuteTime": {
     "end_time": "2021-12-15T21:10:14.108805Z",
     "start_time": "2021-12-15T21:10:14.108786Z"
    },
    "hidden": true
   },
   "outputs": [],
   "source": [
    "df = unwrap_EP(df, EP_col_name = 'states_interpolated_cubic').copy()\n",
    "plt.plot(df.loc[df.particle==119].V.values)"
   ]
  },
  {
   "cell_type": "code",
   "execution_count": null,
   "metadata": {
    "ExecuteTime": {
     "end_time": "2021-12-15T21:10:14.110013Z",
     "start_time": "2021-12-15T21:10:14.109999Z"
    },
    "hidden": true
   },
   "outputs": [],
   "source": [
    "df = unwrap_EP(df, EP_col_name = 'states_nearest').copy()\n",
    "plt.plot(df.loc[df.particle==119].V.values)"
   ]
  },
  {
   "cell_type": "code",
   "execution_count": null,
   "metadata": {
    "ExecuteTime": {
     "end_time": "2021-12-15T21:10:14.111141Z",
     "start_time": "2021-12-15T21:10:14.111124Z"
    },
    "hidden": true
   },
   "outputs": [],
   "source": [
    "LT_thresh = 2\n",
    "boo = (lifetime_values>LT_thresh)\n",
    "V_lst = []\n",
    "f_lst = []\n",
    "s_lst = []\n",
    "for pid in pid_values[boo]:\n",
    "    V,f,s = eval(df.loc[df.particle==pid]['states_interpolated_cubic'].tail(1).values[0])\n",
    "    V_lst.append(V)\n",
    "    f_lst.append(f)\n",
    "    s_lst.append(s)\n",
    "    "
   ]
  },
  {
   "cell_type": "code",
   "execution_count": null,
   "metadata": {
    "ExecuteTime": {
     "end_time": "2021-12-15T21:10:14.111954Z",
     "start_time": "2021-12-15T21:10:14.111942Z"
    },
    "hidden": true
   },
   "outputs": [],
   "source": [
    "x = np.array(V_lst)\n",
    "\n",
    "fig, ax = plt.subplots(figsize=(5, 4))\n",
    "fontsize=16\n",
    "\n",
    "ax.hist(x)\n",
    "ax.set_title('voltage at last observed location\\nfor spiral tips living longer than 2ms')\n",
    "ax.set_xlabel('$V_{mem}$ (normalized)',fontsize=fontsize)\n",
    "ax.set_ylabel('freq.',fontsize=fontsize)\n",
    "\n"
   ]
  },
  {
   "cell_type": "code",
   "execution_count": null,
   "metadata": {
    "ExecuteTime": {
     "end_time": "2021-12-15T21:10:14.112691Z",
     "start_time": "2021-12-15T21:10:14.112679Z"
    },
    "hidden": true
   },
   "outputs": [],
   "source": [
    "arr = []\n",
    "for si in df.loc[df.particle==pid]['states_nearest'].values:\n",
    "    si = eval(si)\n",
    "    arr.append(si)"
   ]
  },
  {
   "cell_type": "code",
   "execution_count": null,
   "metadata": {
    "ExecuteTime": {
     "end_time": "2021-12-15T21:10:14.113448Z",
     "start_time": "2021-12-15T21:10:14.113437Z"
    },
    "hidden": true
   },
   "outputs": [],
   "source": [
    "a,b,c = np.array(arr).T\n",
    "t_values = df.loc[df.particle==pid]['t'].values\n",
    "t_values = t_values-t_values[0]"
   ]
  },
  {
   "cell_type": "code",
   "execution_count": null,
   "metadata": {
    "ExecuteTime": {
     "end_time": "2021-12-15T21:10:14.114232Z",
     "start_time": "2021-12-15T21:10:14.114220Z"
    },
    "hidden": true
   },
   "outputs": [],
   "source": [
    "fig, ax = plt.subplots(figsize=(5, 4))\n",
    "fontsize=16\n",
    "\n",
    "plt.plot(t_values, a, label = 'voltage')\n",
    "plt.plot(t_values, b, label = 'fast var')\n",
    "plt.plot(t_values, c, label = 'slow var')\n",
    "\n",
    "ax.set_title('EP state of an example spiral tip (nearest)',fontsize=fontsize)\n",
    "ax.set_xlabel('time (ms)',fontsize=fontsize)\n",
    "ax.set_ylabel('value',fontsize=fontsize)\n",
    "ax.legend()"
   ]
  },
  {
   "cell_type": "code",
   "execution_count": null,
   "metadata": {
    "ExecuteTime": {
     "end_time": "2021-12-15T21:10:14.114961Z",
     "start_time": "2021-12-15T21:10:14.114950Z"
    },
    "hidden": true
   },
   "outputs": [],
   "source": [
    "t_values.values"
   ]
  },
  {
   "cell_type": "code",
   "execution_count": null,
   "metadata": {
    "ExecuteTime": {
     "end_time": "2021-12-15T21:10:14.115840Z",
     "start_time": "2021-12-15T21:10:14.115828Z"
    },
    "hidden": true,
    "scrolled": true
   },
   "outputs": [],
   "source": [
    "#plot the xy trajectory for longliving tips\n",
    "saving = False\n",
    "fontsize=16\n",
    "# df_traj = df.copy()\n",
    "df = df[df.t>100].copy()\n",
    "\n",
    "savefig_dir = f'{nb_dir}/Figures/lifetime_analysis'\n",
    "savefig_fn = data_fn.replace('.csv',f'_lifetimes_longerthan_{LT_thresh:.2f}_005.png')\n",
    "\n",
    "xmin=0; ymin=0; xmax=200; ymax=200; \n",
    "axis = [xmin,xmax,ymin,ymax]\n",
    "\n",
    "fig, ax = plt.subplots(figsize=(5, 5))\n",
    "for pid in pid_values[boo]:\n",
    "    x_values ,y_values = df_traj[(df_traj.particle==pid) ][['x','y']].values.T\n",
    "    plt.scatter(x_values,y_values, s=.1)\n",
    "    plt.scatter([x_values[0]],[y_values[0]], s=10,color='black')\n",
    "plt.axis(axis)\n",
    "plt.title(f'''spiral tip lasting more than {LT_thresh:.2f} ms\n",
    "(tips start at black dots)''', fontsize=fontsize)\n",
    "ax.set_xlabel('x coordinate (pixels)', fontsize=fontsize)\n",
    "ax.set_ylabel('y coordinate (pixels)', fontsize=fontsize)\n",
    "if not saving: \n",
    "    plt.show() \n",
    "else:\n",
    "    plt.tight_layout()\n",
    "    os.chdir(savefig_dir)\n",
    "    plt.savefig(savefig_fn, dpi=300)\n",
    "    print(f\"saved figure in \\n\\t{savefig_fn}.\")"
   ]
  },
  {
   "cell_type": "markdown",
   "metadata": {
    "heading_collapsed": true
   },
   "source": [
    "# recompute birth/death rates, considering only the long-lived spiral tips"
   ]
  },
  {
   "cell_type": "code",
   "execution_count": null,
   "metadata": {
    "ExecuteTime": {
     "end_time": "2021-12-15T21:10:14.117428Z",
     "start_time": "2021-12-15T21:10:14.117409Z"
    },
    "hidden": true
   },
   "outputs": [],
   "source": [
    "#TODO: the first and last time point for each trajectory\n",
    "#TODO: using ^this data as numerical input alone, compute the number of spiral tips as a function of time\n",
    "#TODO: refer to existing birth-death rate method"
   ]
  },
  {
   "cell_type": "code",
   "execution_count": null,
   "metadata": {
    "ExecuteTime": {
     "end_time": "2021-12-15T21:10:14.118305Z",
     "start_time": "2021-12-15T21:10:14.118294Z"
    },
    "hidden": true
   },
   "outputs": [],
   "source": [
    "# #import most recent tip trajectory data and the corresponding raw tips\n",
    "# data_dir_traj = f\"{nb_dir}/Data/ds_5_param_set_8/trajectories\"\n",
    "# data_fn_traj  = 'tip_trajectories_ds_5_sigma_1.0_threshold_0.9_traj_sr_1_mem_2.csv' # nice trajectories\n",
    "\n",
    "tmin = 50#100\n",
    "LT_thresh = 0#2 #14 = 0.007*2000\n",
    "\n",
    "#import most recent tip trajectory data and the corresponding raw tips\n",
    "data_dir_traj = f\"{nb_dir}/Data/ds_5_param_set_8/trajectories\"\n",
    "# data_fn_traj  = \"tip_log_ds_5_sigma_1.0_threshold_0.8_006_traj_sr_10_mem_2.csv\"\n",
    "data_fn_traj  = 'tip_log_ds_5_sigma_1.5_threshold_0.6_006_traj_sr_40_mem_2.csv'\n",
    "# data_fn_traj = save_fn\n",
    "print ( data_fn_traj )\n",
    "os.chdir(data_dir_traj)\n",
    "df = pd.read_csv(data_fn_traj)\n",
    "# select only data after 100 milliseconds\n",
    "df = df[df.t>tmin].copy()\n",
    "\n",
    "#naive computation of lifetime for a given tip\n",
    "def get_lifetime(pid,df):\n",
    "    mx,mn = df[(df.particle==pid)].t.describe()[['max','min']]\n",
    "    lifetime = mx-mn #milliseconds\n",
    "    return lifetime\n",
    "\n",
    "pid_values = np.array(list(set(df.particle.values)))\n",
    "lifetime_values = np.array([get_lifetime(pid,df) for pid in pid_values])\n",
    "\n",
    "#get a DataFrame of only the long lived spiral tips\n",
    "\n",
    "boo = (lifetime_values>LT_thresh)\n",
    "boo_long = (df.particle is None)\n",
    "for pid in pid_values[boo]:\n",
    "    boo_long |= (df.particle==pid)\n",
    "    \n",
    "df = df[boo_long].copy()"
   ]
  },
  {
   "cell_type": "code",
   "execution_count": null,
   "metadata": {
    "ExecuteTime": {
     "end_time": "2021-12-15T21:10:14.119055Z",
     "start_time": "2021-12-15T21:10:14.119044Z"
    },
    "hidden": true
   },
   "outputs": [],
   "source": [
    "#compute the number of spiral tips in each time frame\n",
    "# df.groupby('t').describe().head()\n",
    "n_series = df['t'].value_counts().sort_index()"
   ]
  },
  {
   "cell_type": "code",
   "execution_count": null,
   "metadata": {
    "ExecuteTime": {
     "end_time": "2021-12-15T21:10:14.119732Z",
     "start_time": "2021-12-15T21:10:14.119720Z"
    },
    "hidden": true
   },
   "outputs": [],
   "source": [
    "#compute the number of spiral tips in each time frame\n",
    "# df.groupby('t').describe().head()\n",
    "n_series = df['t'].value_counts().sort_index()\n",
    "# plot tip number versus time for long-lived trajectories\n",
    "x_values = n_series.index.values\n",
    "y_values = n_series.values\n",
    "plt.plot(x_values,y_values)"
   ]
  },
  {
   "cell_type": "code",
   "execution_count": null,
   "metadata": {
    "ExecuteTime": {
     "end_time": "2021-12-15T21:10:14.120446Z",
     "start_time": "2021-12-15T21:10:14.120435Z"
    },
    "hidden": true
   },
   "outputs": [],
   "source": [
    "#plot the xy trajectory for longliving tips\n",
    "saving = False\n",
    "fontsize=16\n",
    "df_traj = df.query('t < 110 and t > 90').copy()\n",
    "# df_traj = df.query('t > 500').copy()\n",
    "savefig_dir = f'{nb_dir}/Figures/lifetime_analysis'\n",
    "savefig_fn = data_fn.replace('.csv',f'_mistake_still_exists?_sigma_{sigma}_threshold_{threshold}.png')\n",
    "\n",
    "xmin=0; ymin=0; xmax=200; ymax=200; \n",
    "axis = [xmin,xmax,ymin,ymax]\n",
    "\n",
    "fig, ax = plt.subplots(figsize=(5, 5))\n",
    "for pid in list(set(df_traj['particle'].values)):\n",
    "    x_values ,y_values, c_values = df_traj[(df_traj.particle==pid)][['x','y', 't']].values.T \n",
    "    plt.scatter(x_values,y_values, s=.1, c=c_values, vmin = 500, vmax = 600)\n",
    "    \n",
    "    plt.scatter([x_values[0]],[y_values[0]], s=10,color='green')\n",
    "    plt.scatter([x_values[-1]],[y_values[-1]], s=10,color='red')\n",
    "plt.axis(axis)\n",
    "plt.title(f'''mistakes still made when t>500ms \\nfor $\\sigma={sigma}$ and threshold={threshold}\n",
    "(tips start at green dots)''', fontsize=fontsize)\n",
    "ax.set_xlabel('x coordinate (pixels)', fontsize=fontsize)\n",
    "ax.set_ylabel('y coordinate (pixels)', fontsize=fontsize)\n",
    "if not saving: \n",
    "    plt.show() \n",
    "else:\n",
    "    plt.tight_layout()\n",
    "    os.chdir(savefig_dir)\n",
    "    plt.savefig(savefig_fn, dpi=300)\n",
    "    print(f\"saved figure in \\n\\t{savefig_fn}.\")"
   ]
  },
  {
   "cell_type": "markdown",
   "metadata": {
    "hidden": true
   },
   "source": [
    "a spiral tip was not detected off and on for the end there.\n",
    "- I plotted trajectories for times > 500, and the gaps appear large.\n",
    "- TODO: plot all trajectories for time > 500.  \n",
    "    - is the tracking picking up most of the spiral tip points?\n",
    "    - do 2 trajectories appear to collide at the end?\n",
    "    - if so, estimate their apparent interaction distance and life time\n",
    "    \n",
    "Looking at the histograms of n versus t, we see the missing tips happening at the same time as extra tips in the original trajectories.  This suggests that perhaps a time frame rounding error could be responsible for these errors, which would be great, since this would mean the method appears to work for these parameters.\n",
    "- TODO: confirm or refute the problem is due to frame number rounding\n",
    "- restarted without rounding time (using floating point precision times)"
   ]
  },
  {
   "cell_type": "markdown",
   "metadata": {
    "hidden": true
   },
   "source": [
    "sigma = 1.5, threshold = 0.6 looks believable after time 500, does it look believable near time 100? Yes."
   ]
  },
  {
   "cell_type": "markdown",
   "metadata": {},
   "source": [
    "# compute birth/death rates with long tips\n",
    "- #TODO: plot birth death rates versus spiral tip number\n",
    "\n",
    "then,\n",
    "for the sigma=1.5, threshold=0.6 method\n",
    "- #TODO: plot the \n",
    "- #TODO: determine the earliest time where a spiral tip briefer than 2ms exists\n",
    "\n",
    "- #TODO: combine the working method \"as is\" into a new notebook\n",
    "- #TODO: automate postprocessing in that notebook \n",
    "- #TODO: (if needed)automate tracking in that notebook\n",
    "- #TODO: automate computing birth death rates versus spiral tip number"
   ]
  },
  {
   "cell_type": "code",
   "execution_count": null,
   "metadata": {
    "ExecuteTime": {
     "end_time": "2021-12-15T21:10:14.121212Z",
     "start_time": "2021-12-15T21:10:14.121200Z"
    }
   },
   "outputs": [],
   "source": [
    "#filter trajectories and compute the (filtered) spiral tip number as a function of time. store in df\n",
    "tmin = 50#100\n",
    "LT_thresh = 2#0#0#2 #14 = 0.007*2000\n",
    "\n",
    "#import most recent tip trajectory data and the corresponding raw tips\n",
    "data_dir_traj = f\"{nb_dir}/Data/ds_5_param_set_8/trajectories\"\n",
    "data_fn_traj  = 'tip_log_ds_5_sigma_1.5_threshold_0.6_006_traj_sr_40_mem_2.csv'\n",
    "# data_fn_traj = save_fn\n",
    "print (f\"loading from:\")\n",
    "print ( data_fn_traj )\n",
    "os.chdir(data_dir_traj)\n",
    "df = pd.read_csv(data_fn_traj)\n",
    "# select only data after 100 milliseconds\n",
    "df = df[df.t>tmin].copy()\n",
    "\n",
    "#naive computation of lifetime for a given tip\n",
    "def get_lifetime(pid,df):\n",
    "    mx,mn = df[(df.particle==pid)].t.describe()[['max','min']]\n",
    "    lifetime = mx-mn #milliseconds\n",
    "    return lifetime\n",
    "\n",
    "pid_values = np.array(list(set(df.particle.values)))\n",
    "lifetime_values = np.array([get_lifetime(pid,df) for pid in pid_values])\n",
    "\n",
    "#get a DataFrame of only the long lived spiral tips\n",
    "\n",
    "boo = (lifetime_values>LT_thresh)\n",
    "boo_long = (df.particle is None)\n",
    "for pid in pid_values[boo]:\n",
    "    boo_long |= (df.particle==pid)\n",
    "df = df[boo_long].copy()\n",
    "n_series = df['t'].value_counts().sort_index()\n",
    "\n",
    "#explicitely append the last death when n becomes zero\n",
    "last_two_times = n_series.index.values[-2:]\n",
    "h = np.diff(last_two_times)\n",
    "end_time= last_two_times[-1]+h\n",
    "n_series = n_series.append(pd.Series([0], index=[float(end_time)]))\n",
    "\n",
    "#store as a pandas.DataFrame\n",
    "df = pd.DataFrame({\"t\":n_series.index.values,\"n\":n_series.values})"
   ]
  },
  {
   "cell_type": "code",
   "execution_count": null,
   "metadata": {
    "ExecuteTime": {
     "end_time": "2021-12-15T21:10:14.121922Z",
     "start_time": "2021-12-15T21:10:14.121912Z"
    }
   },
   "outputs": [],
   "source": [
    "#compute birth death rates\n",
    "df['dn'] = df.n.diff().shift(-1)\n",
    "df = df.query('dn != 0').copy()\n",
    "rates = 1/df['t'].diff().shift(-1).dropna() # birth death rates in unites of 1/ms\n",
    "df['rates'] = rates\n",
    "# df.dropna(inplace=True)"
   ]
  },
  {
   "cell_type": "code",
   "execution_count": null,
   "metadata": {
    "ExecuteTime": {
     "end_time": "2021-12-15T21:10:14.122582Z",
     "start_time": "2021-12-15T21:10:14.122568Z"
    }
   },
   "outputs": [],
   "source": [
    "# n_array = n_series.values\n",
    "# W_array = np.diff(n_array)\n",
    "# boo = W_array != 0 \n",
    "df"
   ]
  },
  {
   "cell_type": "code",
   "execution_count": null,
   "metadata": {
    "ExecuteTime": {
     "end_time": "2021-12-15T21:10:14.123739Z",
     "start_time": "2021-12-15T21:10:14.123723Z"
    }
   },
   "outputs": [],
   "source": [
    "x_values = df.query('dn==2').n/2\n",
    "y_values = df.query('dn==2').rates\n",
    "plt.scatter(x=x_values,y=y_values, c='g', label='$W_{+2}$')\n",
    "x_values = df.query('dn==-2').n/2\n",
    "y_values = df.query('dn==-2').rates\n",
    "plt.scatter(x=x_values,y=y_values, c='r', label='$W_{-2}$')\n",
    "\n",
    "plt.legend()\n",
    "plt.xlabel('n/2')\n",
    "plt.ylabel('rate (ms$^{-1}$)')"
   ]
  },
  {
   "cell_type": "code",
   "execution_count": null,
   "metadata": {},
   "outputs": [],
   "source": []
  }
 ],
 "metadata": {
  "kernelspec": {
   "display_name": "Python 3 (ipykernel)",
   "language": "python",
   "name": "python3"
  },
  "language_info": {
   "codemirror_mode": {
    "name": "ipython",
    "version": 3
   },
   "file_extension": ".py",
   "mimetype": "text/x-python",
   "name": "python",
   "nbconvert_exporter": "python",
   "pygments_lexer": "ipython3",
   "version": "3.7.10"
  },
  "toc": {
   "base_numbering": 1,
   "nav_menu": {},
   "number_sections": false,
   "sideBar": false,
   "skip_h1_title": false,
   "title_cell": "Table of Contents",
   "title_sidebar": "Contents",
   "toc_cell": false,
   "toc_position": {},
   "toc_section_display": false,
   "toc_window_display": false
  },
  "varInspector": {
   "cols": {
    "lenName": 16,
    "lenType": 16,
    "lenVar": 40
   },
   "kernels_config": {
    "python": {
     "delete_cmd_postfix": "",
     "delete_cmd_prefix": "del ",
     "library": "var_list.py",
     "varRefreshCmd": "print(var_dic_list())"
    },
    "r": {
     "delete_cmd_postfix": ") ",
     "delete_cmd_prefix": "rm(",
     "library": "var_list.r",
     "varRefreshCmd": "cat(var_dic_list()) "
    }
   },
   "types_to_exclude": [
    "module",
    "function",
    "builtin_function_or_method",
    "instance",
    "_Feature"
   ],
   "window_display": false
  }
 },
 "nbformat": 4,
 "nbformat_minor": 2
}
