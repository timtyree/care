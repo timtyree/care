{
 "cells": [
  {
   "cell_type": "markdown",
   "id": "f4c0e1d4",
   "metadata": {},
   "source": [
    "# measuring the hazard function of annihilation\n",
    "Tim Tyree<br>\n",
    "5.10.2023"
   ]
  },
  {
   "cell_type": "code",
   "execution_count": 1,
   "id": "5500e207",
   "metadata": {
    "ExecuteTime": {
     "end_time": "2023-06-02T00:43:08.840796Z",
     "start_time": "2023-06-02T00:43:07.150630Z"
    }
   },
   "outputs": [],
   "source": [
    "from lib.my_initialization import *\n",
    "import shutil\n",
    "from lib import unwrap_and_center_xy_values\n",
    "from scipy.signal import savgol_filter\n",
    "from lib import ScatterPlotSnapshot\n",
    "from lib import *"
   ]
  },
  {
   "cell_type": "code",
   "execution_count": 2,
   "id": "6f88e7d8",
   "metadata": {
    "ExecuteTime": {
     "end_time": "2023-06-02T00:43:08.864222Z",
     "start_time": "2023-06-02T00:43:08.842747Z"
    }
   },
   "outputs": [],
   "source": [
    "%load_ext autoreload\n",
    "%autoreload 2"
   ]
  },
  {
   "cell_type": "code",
   "execution_count": 41,
   "id": "cc2f7d35",
   "metadata": {
    "ExecuteTime": {
     "end_time": "2023-06-02T00:51:09.536052Z",
     "start_time": "2023-06-02T00:51:09.487327Z"
    }
   },
   "outputs": [],
   "source": [
    "import seaborn as sns\n",
    "#reset matplotlib\n",
    "plt.plot([1]*4)\n",
    "plt.close()\n",
    "#reset matplotlib settings\n",
    "import matplotlib as mpl\n",
    "sns.reset_orig()\n",
    "mpl.rc_file_defaults()"
   ]
  },
  {
   "cell_type": "code",
   "execution_count": 4,
   "id": "a6b23c6d",
   "metadata": {
    "ExecuteTime": {
     "end_time": "2023-06-02T00:43:08.960446Z",
     "start_time": "2023-06-02T00:43:08.939422Z"
    }
   },
   "outputs": [],
   "source": [
    "from scipy import stats\n",
    "darkmode=True\n",
    "if darkmode:\n",
    "    # For darkmode plots\n",
    "    from jupyterthemes import jtplot\n",
    "    jtplot.style(theme='monokai', context='notebook', ticks=True, grid=False)\n",
    "import warnings\n",
    "warnings.simplefilter(\"ignore\", UserWarning)\n",
    "# import cupy as cp\n",
    "np.random.seed(42)\n",
    "# cp.random.seed(42)"
   ]
  },
  {
   "cell_type": "code",
   "execution_count": 5,
   "id": "320c1ee6",
   "metadata": {
    "ExecuteTime": {
     "end_time": "2023-06-02T00:43:08.977625Z",
     "start_time": "2023-06-02T00:43:08.961669Z"
    }
   },
   "outputs": [],
   "source": [
    "from scipy.optimize import curve_fit\n",
    "from scipy.integrate import cumtrapz"
   ]
  },
  {
   "cell_type": "markdown",
   "id": "592b0075",
   "metadata": {},
   "source": [
    "# define module"
   ]
  },
  {
   "cell_type": "code",
   "execution_count": 6,
   "id": "4b739606",
   "metadata": {
    "ExecuteTime": {
     "end_time": "2023-06-02T00:43:08.999277Z",
     "start_time": "2023-06-02T00:43:08.978976Z"
    }
   },
   "outputs": [],
   "source": [
    "def comp_mindist_dataframe(input_dir,\n",
    "    width=200,\n",
    "    height=200,\n",
    "    mintime=100., #ms\n",
    "    tpad=10., #ms\n",
    "    min_lifetime = 100., #ms\n",
    "    printing=True,**kwargs):\n",
    "    \"\"\"\n",
    "    Example Usage:\n",
    "df_mindist,dp = comp_mindist_dataframe(\n",
    "    width=200,height=200,\n",
    "    mintime=100., #ms\n",
    "    tpad=10., #ms\n",
    "    min_lifetime = 100., #ms\n",
    "    printing=False)#,**kwargs)\n",
    "    \"\"\"\n",
    "    distance = dist_func.get_distance_L2_pbc(width=width, height=height)\n",
    "    #load a file of tip trajectories\n",
    "    df = pd.read_csv(input_dir)\n",
    "    #dt = np.around(df['t'].drop_duplicates().head(2).diff().values[-1],3)\n",
    "    # print(f\"{dt=}\")\n",
    "    #drop too early times\n",
    "    df = df[df['t']>mintime].copy()\n",
    "\n",
    "    #compute lifetimes\n",
    "    dp = df.groupby(by='particle')['t'].describe()[['min','max']]\n",
    "    dp['dur']=dp.T.diff().T['max'].T\n",
    "\n",
    "    #mark sufficiently long-lived spiral tips\n",
    "    dp.loc[dp['dur']<min_lifetime,'isll']=0\n",
    "    dp.loc[dp['dur']>=min_lifetime,'isll']=1\n",
    "\n",
    "    dict_out_lst=[]\n",
    "    step=0\n",
    "    num_steps = (dp['isll']==1).sum()\n",
    "    if printing:\n",
    "        print(f\"Computing minimum distance {tpad} away from creation/annihilation events (ert ~50 seconds)...\")\n",
    "    #for each sufficiently long-lived (remaining) particle,\n",
    "    for particle1,row in dp[dp['isll']==1].iterrows():\n",
    "        traj1 = df[df['particle']==particle1].set_index('frame')\n",
    "        #compute the minimum distance to all other particles during its lifetime\n",
    "        dg = df[(df['t']>=row['min']+tpad)&(df['t']<=row['max']-tpad)]\n",
    "        mindist=width*2\n",
    "        minpart=-1\n",
    "        mint=-1\n",
    "        for i,rog in dg.iterrows():\n",
    "            #compute the present distance to this particle\n",
    "            roh = traj1.loc[rog['frame']]\n",
    "            dist = distance(np.array((roh['x'],roh['y'])),np.array((rog['x'],rog['y'])))\n",
    "            #if any distance is closer than mindist\n",
    "            if (dist<mindist)&(dist>0):\n",
    "                #record as new mindist\n",
    "                mindist = dist\n",
    "                minpart = rog['particle']\n",
    "                mint = rog['t']\n",
    "                minti = rog['t'] - row['min']\n",
    "                mintf = row['max'] - rog['t']\n",
    "\n",
    "        #record \n",
    "        dict_out_lst.append(dict(particle1=particle1,\n",
    "             particle2=minpart,\n",
    "             mint=mint,\n",
    "             mindist=mindist,\n",
    "             minti=minti,\n",
    "             mintf=mintf))\n",
    "        if printing:\n",
    "            step+=1\n",
    "            printProgressBar(step,num_steps)\n",
    "    # mindist,minpart\n",
    "    # if dg.shape[0]>0:\n",
    "    #     pass\n",
    "\n",
    "    df_mindist = pd.DataFrame(dict_out_lst)\n",
    "    return df_mindist,dp"
   ]
  },
  {
   "cell_type": "markdown",
   "id": "a52fa416",
   "metadata": {},
   "source": [
    "# TODO: expand fortranic trajectory data to a folder of .csv's"
   ]
  },
  {
   "cell_type": "code",
   "execution_count": 7,
   "id": "a9972ae1",
   "metadata": {
    "ExecuteTime": {
     "end_time": "2023-06-02T00:43:09.927673Z",
     "start_time": "2023-06-02T00:43:09.911026Z"
    }
   },
   "outputs": [],
   "source": [
    "model_name = \"Luo-Rudy\"\n",
    "folder = f\"{nb_dir}/Data/from_wjr/positions_lr/200x200/trajectories_parquet\"\n",
    "# folder = f\"{nb_dir}/Data/from_wjr/positions_lr/200x200/trajectories\"\n",
    "# input_dir = f\"{nb_dir}/Data/from_wjr/positions_lr/200x200/tippos_per_001_annihilation_range_timeseries.pkl\" #missing global positions\n",
    "# input_dir = f\"{nb_dir}/Data/from_wjr/positions_lr/200x200/tippos_per_001_msr_data.pkl\"\n",
    "# input_dir = f\"{nb_dir}/Data/from_wjr/positions_lr/200x200/tippos_per_001_msd.pkl\"\n",
    "# input_dir = f\"{nb_dir}/Data/from_wjr/positions_lr/200x200/tippos_per_001_annihilation_range_timeseries.pkl\"\n",
    "\n",
    "# data=load_from_pickle(input_dir)\n",
    "# globals().update(data)\n",
    "# data.keys()\n",
    "# print(f\"num termination events: {len(data)}\")"
   ]
  },
  {
   "cell_type": "code",
   "execution_count": 8,
   "id": "e2796324",
   "metadata": {
    "ExecuteTime": {
     "end_time": "2023-06-02T00:43:10.870425Z",
     "start_time": "2023-06-02T00:43:10.846427Z"
    }
   },
   "outputs": [],
   "source": [
    "if not os.path.exists(folder):\n",
    "    os.mkdir(folder)"
   ]
  },
  {
   "cell_type": "code",
   "execution_count": 9,
   "id": "54b3ca3b",
   "metadata": {
    "ExecuteTime": {
     "end_time": "2023-06-02T00:43:11.642347Z",
     "start_time": "2023-06-02T00:43:11.511210Z"
    }
   },
   "outputs": [
    {
     "data": {
      "text/html": [
       "<div>\n",
       "<style scoped>\n",
       "    .dataframe tbody tr th:only-of-type {\n",
       "        vertical-align: middle;\n",
       "    }\n",
       "\n",
       "    .dataframe tbody tr th {\n",
       "        vertical-align: top;\n",
       "    }\n",
       "\n",
       "    .dataframe thead th {\n",
       "        text-align: right;\n",
       "    }\n",
       "</style>\n",
       "<table border=\"1\" class=\"dataframe\">\n",
       "  <thead>\n",
       "    <tr style=\"text-align: right;\">\n",
       "      <th></th>\n",
       "      <th>trial_num</th>\n",
       "      <th>t</th>\n",
       "      <th>n</th>\n",
       "      <th>x</th>\n",
       "      <th>y</th>\n",
       "    </tr>\n",
       "  </thead>\n",
       "  <tbody>\n",
       "    <tr>\n",
       "      <th>0</th>\n",
       "      <td>0</td>\n",
       "      <td>1.0</td>\n",
       "      <td>6</td>\n",
       "      <td>6.6</td>\n",
       "      <td>25.8</td>\n",
       "    </tr>\n",
       "    <tr>\n",
       "      <th>1</th>\n",
       "      <td>0</td>\n",
       "      <td>1.0</td>\n",
       "      <td>6</td>\n",
       "      <td>27.2</td>\n",
       "      <td>63.9</td>\n",
       "    </tr>\n",
       "    <tr>\n",
       "      <th>2</th>\n",
       "      <td>0</td>\n",
       "      <td>1.0</td>\n",
       "      <td>6</td>\n",
       "      <td>59.6</td>\n",
       "      <td>199.8</td>\n",
       "    </tr>\n",
       "    <tr>\n",
       "      <th>3</th>\n",
       "      <td>0</td>\n",
       "      <td>1.0</td>\n",
       "      <td>6</td>\n",
       "      <td>60.8</td>\n",
       "      <td>2.6</td>\n",
       "    </tr>\n",
       "    <tr>\n",
       "      <th>4</th>\n",
       "      <td>0</td>\n",
       "      <td>1.0</td>\n",
       "      <td>6</td>\n",
       "      <td>127.5</td>\n",
       "      <td>199.3</td>\n",
       "    </tr>\n",
       "  </tbody>\n",
       "</table>\n",
       "</div>"
      ],
      "text/plain": [
       "   trial_num    t  n      x      y\n",
       "0          0  1.0  6    6.6   25.8\n",
       "1          0  1.0  6   27.2   63.9\n",
       "2          0  1.0  6   59.6  199.8\n",
       "3          0  1.0  6   60.8    2.6\n",
       "4          0  1.0  6  127.5  199.3"
      ]
     },
     "execution_count": 9,
     "metadata": {},
     "output_type": "execute_result"
    }
   ],
   "source": [
    "input_dir = f\"{nb_dir}/Data/from_wjr/positions_lr/200x200/tippos_per_001_log.parquet\"\n",
    "df_log=pd.read_parquet(input_dir)\n",
    "df_log.head()"
   ]
  },
  {
   "cell_type": "code",
   "execution_count": 10,
   "id": "69860df9",
   "metadata": {
    "ExecuteTime": {
     "end_time": "2023-06-02T00:43:11.988877Z",
     "start_time": "2023-06-02T00:43:11.973143Z"
    }
   },
   "outputs": [],
   "source": [
    "#TODO: option 1: separately track + sort, then expand\n",
    "#DONT: option 2: simply expand, then track + sort together\n",
    "#DONE: expand\n",
    "#for each fn\n",
    "#TODO: load from parquet\n",
    "#TODO: track\n",
    "#TODO: save to .csv\n",
    "#TODO: wrap ^this to foo\n",
    "#TODO: use multiprocessing to track each termination event \n",
    "#TODO: use ^that as comparable input to the existing pipeline\n",
    "#TODO(bonus): modify the existing pipeline to use multiprocessing instead of dask.bag"
   ]
  },
  {
   "cell_type": "code",
   "execution_count": 11,
   "id": "6df736e0",
   "metadata": {
    "ExecuteTime": {
     "end_time": "2023-06-02T00:43:19.374981Z",
     "start_time": "2023-06-02T00:43:17.891030Z"
    }
   },
   "outputs": [
    {
     "data": {
      "text/plain": [
       "True"
      ]
     },
     "execution_count": 11,
     "metadata": {},
     "output_type": "execute_result"
    }
   ],
   "source": [
    "save_df_to_parquet_by(df_log,folder,by='trial_num',compression='snappy',index=None)"
   ]
  },
  {
   "cell_type": "code",
   "execution_count": 12,
   "id": "9fdb7d2c",
   "metadata": {
    "ExecuteTime": {
     "end_time": "2023-06-02T00:43:19.395987Z",
     "start_time": "2023-06-02T00:43:19.376492Z"
    }
   },
   "outputs": [
    {
     "data": {
      "text/plain": [
       "'/home/timothytyree/Documents/GitHub/care/notebooks/Data/from_wjr/positions_lr/200x200/trajectories_parquet'"
      ]
     },
     "execution_count": 12,
     "metadata": {},
     "output_type": "execute_result"
    }
   ],
   "source": [
    "folder"
   ]
  },
  {
   "cell_type": "code",
   "execution_count": null,
   "id": "9c8828f4",
   "metadata": {},
   "outputs": [],
   "source": []
  },
  {
   "cell_type": "code",
   "execution_count": null,
   "id": "0393d9c7",
   "metadata": {},
   "outputs": [],
   "source": []
  },
  {
   "cell_type": "code",
   "execution_count": 13,
   "id": "030888ed",
   "metadata": {
    "ExecuteTime": {
     "end_time": "2023-06-02T00:43:20.087296Z",
     "start_time": "2023-06-02T00:43:20.070652Z"
    }
   },
   "outputs": [],
   "source": [
    "save_folder = f\"{nb_dir}/Data/from_wjr/positions_lr/200x200/trajectories\""
   ]
  },
  {
   "cell_type": "code",
   "execution_count": null,
   "id": "2ee07209",
   "metadata": {},
   "outputs": [],
   "source": []
  },
  {
   "cell_type": "code",
   "execution_count": 14,
   "id": "746cdbcf",
   "metadata": {
    "ExecuteTime": {
     "end_time": "2023-06-02T00:43:21.190908Z",
     "start_time": "2023-06-02T00:43:21.173696Z"
    }
   },
   "outputs": [],
   "source": [
    "# data[0]"
   ]
  },
  {
   "cell_type": "code",
   "execution_count": null,
   "id": "d190230b",
   "metadata": {},
   "outputs": [],
   "source": []
  },
  {
   "cell_type": "code",
   "execution_count": null,
   "id": "07da4de4",
   "metadata": {},
   "outputs": [],
   "source": []
  },
  {
   "cell_type": "markdown",
   "id": "718111db",
   "metadata": {},
   "source": [
    "# dev"
   ]
  },
  {
   "cell_type": "code",
   "execution_count": 26,
   "id": "95c0e462",
   "metadata": {
    "ExecuteTime": {
     "end_time": "2023-06-02T00:44:53.683583Z",
     "start_time": "2023-06-02T00:44:53.650725Z"
    }
   },
   "outputs": [],
   "source": [
    "model_name = \"Fenton-Karma\"\n",
    "folder = f\"{nb_dir}/Data/initial-conditions-fk-200x200/param_set_8_ds_5.0_tmax_10_diffcoef_0.001/trajectories\"\n",
    "# fn = \"ic200x200.3.80_traj_sr_400_mem_0.csv\"\n",
    "fn = \"ic200x200.3.79_traj_sr_400_mem_0.csv\"\n",
    "\n",
    "model_name = \"Luo-Rudy\"\n",
    "folder = f\"{nb_dir}/Data/initial-conditions-suite-3-LR/param_qu_tmax_30_Ko_5.4_diffCoef_0.0005_dt_0.5/trajectories\"\n",
    "fn = \"ic019.33_traj_sr_600_mem_0.csv\"\n"
   ]
  },
  {
   "cell_type": "code",
   "execution_count": 27,
   "id": "0944aa26",
   "metadata": {
    "ExecuteTime": {
     "end_time": "2023-06-02T00:44:54.318403Z",
     "start_time": "2023-06-02T00:44:54.066263Z"
    }
   },
   "outputs": [
    {
     "ename": "ArrowInvalid",
     "evalue": "Could not open Parquet input source '<Buffer>': Parquet magic bytes not found in footer. Either the file is corrupted or this is not a parquet file.",
     "output_type": "error",
     "traceback": [
      "\u001b[0;31m---------------------------------------------------------------------------\u001b[0m",
      "\u001b[0;31mArrowInvalid\u001b[0m                              Traceback (most recent call last)",
      "Input \u001b[0;32mIn [27]\u001b[0m, in \u001b[0;36m<cell line: 12>\u001b[0;34m()\u001b[0m\n\u001b[1;32m      1\u001b[0m \u001b[38;5;66;03m# model_name = \"Fenton-Karma\"\u001b[39;00m\n\u001b[1;32m      2\u001b[0m \u001b[38;5;66;03m# folder = f\"{nb_dir}/Data/from_wjr/positions_fk/200x200/trajectories\"\u001b[39;00m\n\u001b[1;32m      3\u001b[0m \u001b[38;5;66;03m# # fn=??\u001b[39;00m\n\u001b[0;32m   (...)\u001b[0m\n\u001b[1;32m      9\u001b[0m \u001b[38;5;66;03m# assert os.path.exists(folder)\u001b[39;00m\n\u001b[1;32m     10\u001b[0m \u001b[38;5;66;03m# fn='tippos_per_001_log.parquet'\u001b[39;00m\n\u001b[1;32m     11\u001b[0m input_dir \u001b[38;5;241m=\u001b[39m os\u001b[38;5;241m.\u001b[39mpath\u001b[38;5;241m.\u001b[39mjoin(folder,fn)\n\u001b[0;32m---> 12\u001b[0m df_log \u001b[38;5;241m=\u001b[39m \u001b[43mpd\u001b[49m\u001b[38;5;241;43m.\u001b[39;49m\u001b[43mread_parquet\u001b[49m\u001b[43m(\u001b[49m\u001b[43minput_dir\u001b[49m\u001b[43m)\u001b[49m\n\u001b[1;32m     13\u001b[0m df_log\u001b[38;5;241m.\u001b[39mshape\n",
      "File \u001b[0;32m~/miniconda3/envs/pyenv_ub/lib/python3.9/site-packages/pandas/io/parquet.py:493\u001b[0m, in \u001b[0;36mread_parquet\u001b[0;34m(path, engine, columns, storage_options, use_nullable_dtypes, **kwargs)\u001b[0m\n\u001b[1;32m    446\u001b[0m \u001b[38;5;124;03m\"\"\"\u001b[39;00m\n\u001b[1;32m    447\u001b[0m \u001b[38;5;124;03mLoad a parquet object from the file path, returning a DataFrame.\u001b[39;00m\n\u001b[1;32m    448\u001b[0m \n\u001b[0;32m   (...)\u001b[0m\n\u001b[1;32m    489\u001b[0m \u001b[38;5;124;03mDataFrame\u001b[39;00m\n\u001b[1;32m    490\u001b[0m \u001b[38;5;124;03m\"\"\"\u001b[39;00m\n\u001b[1;32m    491\u001b[0m impl \u001b[38;5;241m=\u001b[39m get_engine(engine)\n\u001b[0;32m--> 493\u001b[0m \u001b[38;5;28;01mreturn\u001b[39;00m \u001b[43mimpl\u001b[49m\u001b[38;5;241;43m.\u001b[39;49m\u001b[43mread\u001b[49m\u001b[43m(\u001b[49m\n\u001b[1;32m    494\u001b[0m \u001b[43m    \u001b[49m\u001b[43mpath\u001b[49m\u001b[43m,\u001b[49m\n\u001b[1;32m    495\u001b[0m \u001b[43m    \u001b[49m\u001b[43mcolumns\u001b[49m\u001b[38;5;241;43m=\u001b[39;49m\u001b[43mcolumns\u001b[49m\u001b[43m,\u001b[49m\n\u001b[1;32m    496\u001b[0m \u001b[43m    \u001b[49m\u001b[43mstorage_options\u001b[49m\u001b[38;5;241;43m=\u001b[39;49m\u001b[43mstorage_options\u001b[49m\u001b[43m,\u001b[49m\n\u001b[1;32m    497\u001b[0m \u001b[43m    \u001b[49m\u001b[43muse_nullable_dtypes\u001b[49m\u001b[38;5;241;43m=\u001b[39;49m\u001b[43muse_nullable_dtypes\u001b[49m\u001b[43m,\u001b[49m\n\u001b[1;32m    498\u001b[0m \u001b[43m    \u001b[49m\u001b[38;5;241;43m*\u001b[39;49m\u001b[38;5;241;43m*\u001b[39;49m\u001b[43mkwargs\u001b[49m\u001b[43m,\u001b[49m\n\u001b[1;32m    499\u001b[0m \u001b[43m\u001b[49m\u001b[43m)\u001b[49m\n",
      "File \u001b[0;32m~/miniconda3/envs/pyenv_ub/lib/python3.9/site-packages/pandas/io/parquet.py:240\u001b[0m, in \u001b[0;36mPyArrowImpl.read\u001b[0;34m(self, path, columns, use_nullable_dtypes, storage_options, **kwargs)\u001b[0m\n\u001b[1;32m    233\u001b[0m path_or_handle, handles, kwargs[\u001b[38;5;124m\"\u001b[39m\u001b[38;5;124mfilesystem\u001b[39m\u001b[38;5;124m\"\u001b[39m] \u001b[38;5;241m=\u001b[39m _get_path_or_handle(\n\u001b[1;32m    234\u001b[0m     path,\n\u001b[1;32m    235\u001b[0m     kwargs\u001b[38;5;241m.\u001b[39mpop(\u001b[38;5;124m\"\u001b[39m\u001b[38;5;124mfilesystem\u001b[39m\u001b[38;5;124m\"\u001b[39m, \u001b[38;5;28;01mNone\u001b[39;00m),\n\u001b[1;32m    236\u001b[0m     storage_options\u001b[38;5;241m=\u001b[39mstorage_options,\n\u001b[1;32m    237\u001b[0m     mode\u001b[38;5;241m=\u001b[39m\u001b[38;5;124m\"\u001b[39m\u001b[38;5;124mrb\u001b[39m\u001b[38;5;124m\"\u001b[39m,\n\u001b[1;32m    238\u001b[0m )\n\u001b[1;32m    239\u001b[0m \u001b[38;5;28;01mtry\u001b[39;00m:\n\u001b[0;32m--> 240\u001b[0m     result \u001b[38;5;241m=\u001b[39m \u001b[38;5;28;43mself\u001b[39;49m\u001b[38;5;241;43m.\u001b[39;49m\u001b[43mapi\u001b[49m\u001b[38;5;241;43m.\u001b[39;49m\u001b[43mparquet\u001b[49m\u001b[38;5;241;43m.\u001b[39;49m\u001b[43mread_table\u001b[49m\u001b[43m(\u001b[49m\n\u001b[1;32m    241\u001b[0m \u001b[43m        \u001b[49m\u001b[43mpath_or_handle\u001b[49m\u001b[43m,\u001b[49m\u001b[43m \u001b[49m\u001b[43mcolumns\u001b[49m\u001b[38;5;241;43m=\u001b[39;49m\u001b[43mcolumns\u001b[49m\u001b[43m,\u001b[49m\u001b[43m \u001b[49m\u001b[38;5;241;43m*\u001b[39;49m\u001b[38;5;241;43m*\u001b[39;49m\u001b[43mkwargs\u001b[49m\n\u001b[1;32m    242\u001b[0m \u001b[43m    \u001b[49m\u001b[43m)\u001b[49m\u001b[38;5;241m.\u001b[39mto_pandas(\u001b[38;5;241m*\u001b[39m\u001b[38;5;241m*\u001b[39mto_pandas_kwargs)\n\u001b[1;32m    243\u001b[0m     \u001b[38;5;28;01mif\u001b[39;00m manager \u001b[38;5;241m==\u001b[39m \u001b[38;5;124m\"\u001b[39m\u001b[38;5;124marray\u001b[39m\u001b[38;5;124m\"\u001b[39m:\n\u001b[1;32m    244\u001b[0m         result \u001b[38;5;241m=\u001b[39m result\u001b[38;5;241m.\u001b[39m_as_manager(\u001b[38;5;124m\"\u001b[39m\u001b[38;5;124marray\u001b[39m\u001b[38;5;124m\"\u001b[39m, copy\u001b[38;5;241m=\u001b[39m\u001b[38;5;28;01mFalse\u001b[39;00m)\n",
      "File \u001b[0;32m~/miniconda3/envs/pyenv_ub/lib/python3.9/site-packages/pyarrow/parquet.py:1960\u001b[0m, in \u001b[0;36mread_table\u001b[0;34m(source, columns, use_threads, metadata, use_pandas_metadata, memory_map, read_dictionary, filesystem, filters, buffer_size, partitioning, use_legacy_dataset, ignore_prefixes, pre_buffer, coerce_int96_timestamp_unit)\u001b[0m\n\u001b[1;32m   1953\u001b[0m     \u001b[38;5;28;01mraise\u001b[39;00m \u001b[38;5;167;01mValueError\u001b[39;00m(\n\u001b[1;32m   1954\u001b[0m         \u001b[38;5;124m\"\u001b[39m\u001b[38;5;124mThe \u001b[39m\u001b[38;5;124m'\u001b[39m\u001b[38;5;124mmetadata\u001b[39m\u001b[38;5;124m'\u001b[39m\u001b[38;5;124m keyword is no longer supported with the new \u001b[39m\u001b[38;5;124m\"\u001b[39m\n\u001b[1;32m   1955\u001b[0m         \u001b[38;5;124m\"\u001b[39m\u001b[38;5;124mdatasets-based implementation. Specify \u001b[39m\u001b[38;5;124m\"\u001b[39m\n\u001b[1;32m   1956\u001b[0m         \u001b[38;5;124m\"\u001b[39m\u001b[38;5;124m'\u001b[39m\u001b[38;5;124muse_legacy_dataset=True\u001b[39m\u001b[38;5;124m'\u001b[39m\u001b[38;5;124m to temporarily recover the old \u001b[39m\u001b[38;5;124m\"\u001b[39m\n\u001b[1;32m   1957\u001b[0m         \u001b[38;5;124m\"\u001b[39m\u001b[38;5;124mbehaviour.\u001b[39m\u001b[38;5;124m\"\u001b[39m\n\u001b[1;32m   1958\u001b[0m     )\n\u001b[1;32m   1959\u001b[0m \u001b[38;5;28;01mtry\u001b[39;00m:\n\u001b[0;32m-> 1960\u001b[0m     dataset \u001b[38;5;241m=\u001b[39m \u001b[43m_ParquetDatasetV2\u001b[49m\u001b[43m(\u001b[49m\n\u001b[1;32m   1961\u001b[0m \u001b[43m        \u001b[49m\u001b[43msource\u001b[49m\u001b[43m,\u001b[49m\n\u001b[1;32m   1962\u001b[0m \u001b[43m        \u001b[49m\u001b[43mfilesystem\u001b[49m\u001b[38;5;241;43m=\u001b[39;49m\u001b[43mfilesystem\u001b[49m\u001b[43m,\u001b[49m\n\u001b[1;32m   1963\u001b[0m \u001b[43m        \u001b[49m\u001b[43mpartitioning\u001b[49m\u001b[38;5;241;43m=\u001b[39;49m\u001b[43mpartitioning\u001b[49m\u001b[43m,\u001b[49m\n\u001b[1;32m   1964\u001b[0m \u001b[43m        \u001b[49m\u001b[43mmemory_map\u001b[49m\u001b[38;5;241;43m=\u001b[39;49m\u001b[43mmemory_map\u001b[49m\u001b[43m,\u001b[49m\n\u001b[1;32m   1965\u001b[0m \u001b[43m        \u001b[49m\u001b[43mread_dictionary\u001b[49m\u001b[38;5;241;43m=\u001b[39;49m\u001b[43mread_dictionary\u001b[49m\u001b[43m,\u001b[49m\n\u001b[1;32m   1966\u001b[0m \u001b[43m        \u001b[49m\u001b[43mbuffer_size\u001b[49m\u001b[38;5;241;43m=\u001b[39;49m\u001b[43mbuffer_size\u001b[49m\u001b[43m,\u001b[49m\n\u001b[1;32m   1967\u001b[0m \u001b[43m        \u001b[49m\u001b[43mfilters\u001b[49m\u001b[38;5;241;43m=\u001b[39;49m\u001b[43mfilters\u001b[49m\u001b[43m,\u001b[49m\n\u001b[1;32m   1968\u001b[0m \u001b[43m        \u001b[49m\u001b[43mignore_prefixes\u001b[49m\u001b[38;5;241;43m=\u001b[39;49m\u001b[43mignore_prefixes\u001b[49m\u001b[43m,\u001b[49m\n\u001b[1;32m   1969\u001b[0m \u001b[43m        \u001b[49m\u001b[43mpre_buffer\u001b[49m\u001b[38;5;241;43m=\u001b[39;49m\u001b[43mpre_buffer\u001b[49m\u001b[43m,\u001b[49m\n\u001b[1;32m   1970\u001b[0m \u001b[43m        \u001b[49m\u001b[43mcoerce_int96_timestamp_unit\u001b[49m\u001b[38;5;241;43m=\u001b[39;49m\u001b[43mcoerce_int96_timestamp_unit\u001b[49m\n\u001b[1;32m   1971\u001b[0m \u001b[43m    \u001b[49m\u001b[43m)\u001b[49m\n\u001b[1;32m   1972\u001b[0m \u001b[38;5;28;01mexcept\u001b[39;00m \u001b[38;5;167;01mImportError\u001b[39;00m:\n\u001b[1;32m   1973\u001b[0m     \u001b[38;5;66;03m# fall back on ParquetFile for simple cases when pyarrow.dataset\u001b[39;00m\n\u001b[1;32m   1974\u001b[0m     \u001b[38;5;66;03m# module is not available\u001b[39;00m\n\u001b[1;32m   1975\u001b[0m     \u001b[38;5;28;01mif\u001b[39;00m filters \u001b[38;5;129;01mis\u001b[39;00m \u001b[38;5;129;01mnot\u001b[39;00m \u001b[38;5;28;01mNone\u001b[39;00m:\n",
      "File \u001b[0;32m~/miniconda3/envs/pyenv_ub/lib/python3.9/site-packages/pyarrow/parquet.py:1766\u001b[0m, in \u001b[0;36m_ParquetDatasetV2.__init__\u001b[0;34m(self, path_or_paths, filesystem, filters, partitioning, read_dictionary, buffer_size, memory_map, ignore_prefixes, pre_buffer, coerce_int96_timestamp_unit, **kwargs)\u001b[0m\n\u001b[1;32m   1762\u001b[0m     parquet_format \u001b[38;5;241m=\u001b[39m ds\u001b[38;5;241m.\u001b[39mParquetFileFormat(\u001b[38;5;241m*\u001b[39m\u001b[38;5;241m*\u001b[39mread_options)\n\u001b[1;32m   1763\u001b[0m     fragment \u001b[38;5;241m=\u001b[39m parquet_format\u001b[38;5;241m.\u001b[39mmake_fragment(single_file, filesystem)\n\u001b[1;32m   1765\u001b[0m     \u001b[38;5;28mself\u001b[39m\u001b[38;5;241m.\u001b[39m_dataset \u001b[38;5;241m=\u001b[39m ds\u001b[38;5;241m.\u001b[39mFileSystemDataset(\n\u001b[0;32m-> 1766\u001b[0m         [fragment], schema\u001b[38;5;241m=\u001b[39m\u001b[43mfragment\u001b[49m\u001b[38;5;241;43m.\u001b[39;49m\u001b[43mphysical_schema\u001b[49m,\n\u001b[1;32m   1767\u001b[0m         \u001b[38;5;28mformat\u001b[39m\u001b[38;5;241m=\u001b[39mparquet_format,\n\u001b[1;32m   1768\u001b[0m         filesystem\u001b[38;5;241m=\u001b[39mfragment\u001b[38;5;241m.\u001b[39mfilesystem\n\u001b[1;32m   1769\u001b[0m     )\n\u001b[1;32m   1770\u001b[0m     \u001b[38;5;28;01mreturn\u001b[39;00m\n\u001b[1;32m   1771\u001b[0m \u001b[38;5;28;01melse\u001b[39;00m:\n",
      "File \u001b[0;32m~/miniconda3/envs/pyenv_ub/lib/python3.9/site-packages/pyarrow/_dataset.pyx:797\u001b[0m, in \u001b[0;36mpyarrow._dataset.Fragment.physical_schema.__get__\u001b[0;34m()\u001b[0m\n",
      "File \u001b[0;32m~/miniconda3/envs/pyenv_ub/lib/python3.9/site-packages/pyarrow/error.pxi:143\u001b[0m, in \u001b[0;36mpyarrow.lib.pyarrow_internal_check_status\u001b[0;34m()\u001b[0m\n",
      "File \u001b[0;32m~/miniconda3/envs/pyenv_ub/lib/python3.9/site-packages/pyarrow/error.pxi:99\u001b[0m, in \u001b[0;36mpyarrow.lib.check_status\u001b[0;34m()\u001b[0m\n",
      "\u001b[0;31mArrowInvalid\u001b[0m: Could not open Parquet input source '<Buffer>': Parquet magic bytes not found in footer. Either the file is corrupted or this is not a parquet file."
     ]
    }
   ],
   "source": [
    "# model_name = \"Fenton-Karma\"\n",
    "# folder = f\"{nb_dir}/Data/from_wjr/positions_fk/200x200/trajectories\"\n",
    "# # fn=??\n",
    "# # fn='tippos_per_001_log.parquet'\n",
    "\n",
    "# model_name = \"Luo-Rudy\"\n",
    "# folder = f\"{nb_dir}/Data/from_wjr/positions_lr/200x200/trajectories\"\n",
    "# folder = f\"{nb_dir}/Data/from_wjr/positions_lr/200x200\"\n",
    "# assert os.path.exists(folder)\n",
    "# fn='tippos_per_001_log.parquet'\n",
    "input_dir = os.path.join(folder,fn)\n",
    "df_log = pd.read_parquet(input_dir)\n",
    "df_log.shape"
   ]
  },
  {
   "cell_type": "code",
   "execution_count": 23,
   "id": "71d91268",
   "metadata": {
    "ExecuteTime": {
     "end_time": "2023-06-02T00:44:06.701717Z",
     "start_time": "2023-06-02T00:44:06.674685Z"
    }
   },
   "outputs": [
    {
     "data": {
      "text/html": [
       "<div>\n",
       "<style scoped>\n",
       "    .dataframe tbody tr th:only-of-type {\n",
       "        vertical-align: middle;\n",
       "    }\n",
       "\n",
       "    .dataframe tbody tr th {\n",
       "        vertical-align: top;\n",
       "    }\n",
       "\n",
       "    .dataframe thead th {\n",
       "        text-align: right;\n",
       "    }\n",
       "</style>\n",
       "<table border=\"1\" class=\"dataframe\">\n",
       "  <thead>\n",
       "    <tr style=\"text-align: right;\">\n",
       "      <th></th>\n",
       "      <th>trial_num</th>\n",
       "      <th>t</th>\n",
       "      <th>n</th>\n",
       "      <th>x</th>\n",
       "      <th>y</th>\n",
       "    </tr>\n",
       "  </thead>\n",
       "  <tbody>\n",
       "    <tr>\n",
       "      <th>0</th>\n",
       "      <td>0</td>\n",
       "      <td>1.0</td>\n",
       "      <td>6</td>\n",
       "      <td>6.6</td>\n",
       "      <td>25.8</td>\n",
       "    </tr>\n",
       "    <tr>\n",
       "      <th>1</th>\n",
       "      <td>0</td>\n",
       "      <td>1.0</td>\n",
       "      <td>6</td>\n",
       "      <td>27.2</td>\n",
       "      <td>63.9</td>\n",
       "    </tr>\n",
       "    <tr>\n",
       "      <th>2</th>\n",
       "      <td>0</td>\n",
       "      <td>1.0</td>\n",
       "      <td>6</td>\n",
       "      <td>59.6</td>\n",
       "      <td>199.8</td>\n",
       "    </tr>\n",
       "    <tr>\n",
       "      <th>3</th>\n",
       "      <td>0</td>\n",
       "      <td>1.0</td>\n",
       "      <td>6</td>\n",
       "      <td>60.8</td>\n",
       "      <td>2.6</td>\n",
       "    </tr>\n",
       "    <tr>\n",
       "      <th>4</th>\n",
       "      <td>0</td>\n",
       "      <td>1.0</td>\n",
       "      <td>6</td>\n",
       "      <td>127.5</td>\n",
       "      <td>199.3</td>\n",
       "    </tr>\n",
       "  </tbody>\n",
       "</table>\n",
       "</div>"
      ],
      "text/plain": [
       "   trial_num    t  n      x      y\n",
       "0          0  1.0  6    6.6   25.8\n",
       "1          0  1.0  6   27.2   63.9\n",
       "2          0  1.0  6   59.6  199.8\n",
       "3          0  1.0  6   60.8    2.6\n",
       "4          0  1.0  6  127.5  199.3"
      ]
     },
     "execution_count": 23,
     "metadata": {},
     "output_type": "execute_result"
    }
   ],
   "source": [
    "df_log.head()"
   ]
  },
  {
   "cell_type": "code",
   "execution_count": null,
   "id": "2883af4d",
   "metadata": {},
   "outputs": [],
   "source": []
  },
  {
   "cell_type": "code",
   "execution_count": 18,
   "id": "b172049f",
   "metadata": {
    "ExecuteTime": {
     "end_time": "2023-06-02T00:43:30.835486Z",
     "start_time": "2023-06-02T00:43:29.552591Z"
    }
   },
   "outputs": [
    {
     "data": {
      "text/plain": [
       "True"
      ]
     },
     "execution_count": 18,
     "metadata": {},
     "output_type": "execute_result"
    }
   ],
   "source": [
    "log_folder_parquet='/home/timothytyree/Documents/GitHub/care/notebooks/Data/from_wjr/tippos_per_001_log/'\n",
    "save_df_to_parquet_by(df_log,log_folder_parquet,by='trial_num',compression='snappy',index=None)"
   ]
  },
  {
   "cell_type": "code",
   "execution_count": null,
   "id": "0b65109f",
   "metadata": {
    "ExecuteTime": {
     "end_time": "2023-05-11T21:07:10.997693Z",
     "start_time": "2023-05-11T21:07:10.970727Z"
    }
   },
   "outputs": [],
   "source": []
  },
  {
   "cell_type": "code",
   "execution_count": 28,
   "id": "f05d6db3",
   "metadata": {
    "ExecuteTime": {
     "end_time": "2023-06-02T00:45:19.340077Z",
     "start_time": "2023-06-02T00:45:19.320890Z"
    }
   },
   "outputs": [],
   "source": [
    "\n",
    "# for fn in reversed(os.listdir(folder)):\n",
    "for fn in os.listdir(folder):\n",
    "    input_dir = os.path.join(folder,fn)\n",
    "assert os.path.exists(input_dir)"
   ]
  },
  {
   "cell_type": "code",
   "execution_count": 29,
   "id": "80028cf1",
   "metadata": {
    "ExecuteTime": {
     "end_time": "2023-06-02T00:45:55.391889Z",
     "start_time": "2023-06-02T00:45:20.634410Z"
    }
   },
   "outputs": [],
   "source": [
    "df_mindist,dp = comp_mindist_dataframe(input_dir,\n",
    "    width=200,height=200,\n",
    "    mintime=100., #ms\n",
    "    tpad=10., #ms\n",
    "    min_lifetime = 100., #ms\n",
    "    printing=False)#,**kwargs)"
   ]
  },
  {
   "cell_type": "code",
   "execution_count": 30,
   "id": "ae9d05cb",
   "metadata": {
    "ExecuteTime": {
     "end_time": "2023-06-02T00:45:57.680570Z",
     "start_time": "2023-06-02T00:45:57.161535Z"
    }
   },
   "outputs": [
    {
     "data": {
      "image/png": "[encoded data removed]",
      "text/plain": [
       "<Figure size 500x300 with 1 Axes>"
      ]
     },
     "metadata": {},
     "output_type": "display_data"
    }
   ],
   "source": [
    "#DONE: visualize histogram of the minimum distance to all other particles during its lifetime\n",
    "fontsize=14\n",
    "bins=100\n",
    "ycol='mindist'\n",
    "# ycol='minti'\n",
    "# ycol='mintf'\n",
    "bins=np.logspace(-1,3,100)\n",
    "fig,ax=plt.subplots(figsize=(5,3))\n",
    "df_mindist[ycol].hist(bins=bins,color='r',ax=ax)\n",
    "format_plot(ax=ax,xlabel='distance (argmin) (px)',ylabel='Num. Tips',fontsize=fontsize)\n",
    "ax.set_xscale('log')\n",
    "# ax.set_yscale('log')\n",
    "ax.tick_params(top=True, right=True,direction='in',which='both')\n",
    "ax.grid(None)\n",
    "plt.show()"
   ]
  },
  {
   "cell_type": "code",
   "execution_count": 31,
   "id": "b547be78",
   "metadata": {
    "ExecuteTime": {
     "end_time": "2023-06-02T00:45:59.241421Z",
     "start_time": "2023-06-02T00:45:59.225182Z"
    }
   },
   "outputs": [],
   "source": [
    "# #GOAL: compute ^that for many neurons\n",
    "# #DONE: wrap ^that to foo\n",
    "# #DONE: compute it without printing on 1 core end to end\n",
    "# df_mindist,dp = comp_mindist_dataframe(\n",
    "#     width=200,\n",
    "#     height=200,\n",
    "#     mintime=100., #ms\n",
    "#     tpad=10., #ms\n",
    "#     min_lifetime = 100., #ms\n",
    "#     printing=False)#,**kwargs)\n",
    "# #TODO: dask.bag over ^that shizzle\n",
    "# #heretim"
   ]
  },
  {
   "cell_type": "code",
   "execution_count": 32,
   "id": "ed83cc35",
   "metadata": {
    "ExecuteTime": {
     "end_time": "2023-06-02T00:45:59.754087Z",
     "start_time": "2023-06-02T00:45:59.723862Z"
    }
   },
   "outputs": [
    {
     "name": "stdout",
     "output_type": "stream",
     "text": [
      "len(task_lst)=159\n"
     ]
    }
   ],
   "source": [
    "task_lst=[]\n",
    "for fn in os.listdir(folder):\n",
    "    input_dir = os.path.join(folder,fn)\n",
    "    task_lst.append(input_dir)\n",
    "assert os.path.exists(input_dir)\n",
    "print(f\"{len(task_lst)=}\")"
   ]
  },
  {
   "cell_type": "code",
   "execution_count": 33,
   "id": "90daf4d8",
   "metadata": {
    "ExecuteTime": {
     "end_time": "2023-06-02T00:46:02.081934Z",
     "start_time": "2023-06-02T00:46:02.064158Z"
    }
   },
   "outputs": [],
   "source": [
    "def routine(task):\n",
    "    input_dir=task\n",
    "    try:\n",
    "        df_mindist,dp = comp_mindist_dataframe(input_dir,\n",
    "            width=200,height=200,\n",
    "            mintime=100., #ms\n",
    "            tpad=10., #ms\n",
    "            min_lifetime = 100., #ms\n",
    "            printing=False)#,**kwargs)\n",
    "        return df_mindist,dp\n",
    "    except ValueError as e:\n",
    "        return f\"Warning: {e}  for {input_dir}\""
   ]
  },
  {
   "cell_type": "code",
   "execution_count": 282,
   "id": "ce3522bf",
   "metadata": {
    "ExecuteTime": {
     "end_time": "2023-05-11T19:10:50.357714Z",
     "start_time": "2023-05-11T19:10:50.330483Z"
    }
   },
   "outputs": [],
   "source": [
    "# #test the routine\n",
    "# df_mindist,dp = comp_mindist_dataframe(input_dir,\n",
    "#             width=200,height=200,\n",
    "#             mintime=100., #ms\n",
    "#             tpad=10., #ms\n",
    "#             min_lifetime = 100., #ms\n",
    "#             printing=False)#,**kwargs)"
   ]
  },
  {
   "cell_type": "code",
   "execution_count": 283,
   "id": "b5396aa7",
   "metadata": {
    "ExecuteTime": {
     "end_time": "2023-05-11T20:45:39.182955Z",
     "start_time": "2023-05-11T19:10:58.869982Z"
    }
   },
   "outputs": [
    {
     "name": "stdout",
     "output_type": "stream",
     "text": [
      "run time for evaluating routine was 5679.48 seconds, yielding 159 values returned\n",
      "\u0007\u0007\u0007\u0007"
     ]
    },
    {
     "data": {
      "text/plain": [
       "0"
      ]
     },
     "execution_count": 283,
     "metadata": {},
     "output_type": "execute_result"
    }
   ],
   "source": [
    "npartitions=os.cpu_count()-2\n",
    "retval=eval_routine_daskbag(routine,task_lst,npartitions,printing=True)\n",
    "beep(4)"
   ]
  },
  {
   "cell_type": "code",
   "execution_count": null,
   "id": "3918ac1f",
   "metadata": {},
   "outputs": [],
   "source": []
  },
  {
   "cell_type": "code",
   "execution_count": 284,
   "id": "399049a3",
   "metadata": {
    "ExecuteTime": {
     "end_time": "2023-05-11T20:45:39.210690Z",
     "start_time": "2023-05-11T20:45:39.185412Z"
    }
   },
   "outputs": [],
   "source": [
    "#TODO: try parallelizing with multiprocessing\n",
    "#Q: did i do this in pv_reentry or in neurophysics?"
   ]
  },
  {
   "cell_type": "code",
   "execution_count": 285,
   "id": "8be6c950",
   "metadata": {
    "ExecuteTime": {
     "end_time": "2023-05-11T20:45:39.304095Z",
     "start_time": "2023-05-11T20:45:39.211963Z"
    }
   },
   "outputs": [],
   "source": [
    "l1,l2=[],[]\n",
    "for trial_num,rv in enumerate(retval):\n",
    "    if type(rv)==str:\n",
    "        print(rv)\n",
    "    else:\n",
    "        df_mindist,dp = rv\n",
    "        df_mindist['trial_num']=trial_num\n",
    "        dp['trial_num']=trial_num\n",
    "        l1.append(df_mindist)\n",
    "        l2.append(dp)\n",
    "df_mindist=pd.concat(l1); del l1\n",
    "dp=pd.concat(l2); del l2"
   ]
  },
  {
   "cell_type": "code",
   "execution_count": 286,
   "id": "24fa1761",
   "metadata": {
    "ExecuteTime": {
     "end_time": "2023-05-11T20:45:39.322758Z",
     "start_time": "2023-05-11T20:45:39.305825Z"
    }
   },
   "outputs": [],
   "source": [
    "df_mindist['r']=0.025*df_mindist['mindist']"
   ]
  },
  {
   "cell_type": "code",
   "execution_count": 287,
   "id": "3a538e4d",
   "metadata": {
    "ExecuteTime": {
     "end_time": "2023-05-11T20:45:39.870863Z",
     "start_time": "2023-05-11T20:45:39.323886Z"
    }
   },
   "outputs": [
    {
     "data": {
      "image/png": "[encoded data removed]",
      "text/plain": [
       "<Figure size 500x300 with 1 Axes>"
      ]
     },
     "metadata": {},
     "output_type": "display_data"
    }
   ],
   "source": [
    "#DONE: make a histogram of lifetimes\n",
    "fontsize=14\n",
    "bins=100\n",
    "bins=np.logspace(-1,3,100)\n",
    "fig,ax=plt.subplots(figsize=(5,3))\n",
    "dp[dp['isll']==0]['dur'].hist(bins=bins,color='gray',ax=ax)\n",
    "dp[dp['isll']==1]['dur'].hist(bins=bins,color='r',ax=ax)\n",
    "format_plot(ax=ax,xlabel='Lifetime (ms)',ylabel='Num. Tips',fontsize=fontsize)\n",
    "ax.set_xscale('log')\n",
    "# ax.set_yscale('log')\n",
    "ax.grid(None)\n",
    "ax.tick_params(top=True, right=True,direction='in',which='both')\n",
    "plt.show()"
   ]
  },
  {
   "cell_type": "code",
   "execution_count": 288,
   "id": "5a2b0f82",
   "metadata": {
    "ExecuteTime": {
     "end_time": "2023-05-11T20:45:40.043515Z",
     "start_time": "2023-05-11T20:45:39.872212Z"
    }
   },
   "outputs": [
    {
     "data": {
      "image/png": "[encoded data removed]",
      "text/plain": [
       "<Figure size 500x300 with 1 Axes>"
      ]
     },
     "metadata": {},
     "output_type": "display_data"
    }
   ],
   "source": [
    "#DONE: visualize histogram of the minimum distance to all other particles during its lifetime\n",
    "fontsize=14\n",
    "bins=100\n",
    "ycol='r'\n",
    "# ycol='mindist'\n",
    "# ycol='minti'\n",
    "# ycol='mintf'\n",
    "bins=np.logspace(-1,0.5,100)\n",
    "fig,ax=plt.subplots(figsize=(5,3))\n",
    "df_mindist[ycol].hist(bins=bins,color='r',ax=ax)\n",
    "format_plot(ax=ax,xlabel='Mininum Distance (cm)',ylabel='Num. Tips',fontsize=fontsize)\n",
    "# ax.set_xscale('log')\n",
    "# ax.set_yscale('log')\n",
    "ax.tick_params(top=True, right=True,direction='in',which='both')\n",
    "ax.grid(None)\n",
    "plt.show()"
   ]
  },
  {
   "cell_type": "code",
   "execution_count": 289,
   "id": "47617375",
   "metadata": {
    "ExecuteTime": {
     "end_time": "2023-05-11T20:45:40.066972Z",
     "start_time": "2023-05-11T20:45:40.045281Z"
    }
   },
   "outputs": [
    {
     "name": "stdout",
     "output_type": "stream",
     "text": [
      "model_name='Luo-Rudy'\n"
     ]
    }
   ],
   "source": [
    "print(f\"{model_name=}\")"
   ]
  },
  {
   "cell_type": "code",
   "execution_count": 290,
   "id": "e6432676",
   "metadata": {
    "ExecuteTime": {
     "end_time": "2023-05-11T20:45:40.089904Z",
     "start_time": "2023-05-11T20:45:40.068542Z"
    }
   },
   "outputs": [],
   "source": [
    "#DONE: make a histogram averaged over many termination events\n",
    "#HINT: consider groupby trial_num,particle1 or something\n",
    "#TODO: visualize ^that as cdf\n",
    "#TODO: visualize ^that as a survival function\n",
    "#TODO: claim ^that is the hazard function of topological events"
   ]
  },
  {
   "cell_type": "code",
   "execution_count": 291,
   "id": "3f84561a",
   "metadata": {
    "ExecuteTime": {
     "end_time": "2023-05-11T20:45:40.111190Z",
     "start_time": "2023-05-11T20:45:40.091181Z"
    }
   },
   "outputs": [
    {
     "name": "stdout",
     "output_type": "stream",
     "text": [
      "save_dir='/home/timothytyree/Documents/GitHub/care/notebooks/Data/initial-conditions-suite-3-LR/param_qu_tmax_30_Ko_5.4_diffCoef_0.0005_dt_0.5/mindist_rxn_range.pkl'\n"
     ]
    }
   ],
   "source": [
    "#DONE: save as .pkl\n",
    "#DONE: rerun for LR\n",
    "save_dir = folder.replace('trajectories','mindist_rxn_range.pkl')\n",
    "print(f\"{save_dir=}\")"
   ]
  },
  {
   "cell_type": "code",
   "execution_count": 292,
   "id": "bafdd7e6",
   "metadata": {
    "ExecuteTime": {
     "end_time": "2023-05-11T20:45:40.166828Z",
     "start_time": "2023-05-11T20:45:40.113270Z"
    }
   },
   "outputs": [
    {
     "data": {
      "text/plain": [
       "'/home/timothytyree/Documents/GitHub/care/notebooks/Data/initial-conditions-suite-3-LR/param_qu_tmax_30_Ko_5.4_diffCoef_0.0005_dt_0.5/mindist_rxn_range.pkl'"
      ]
     },
     "execution_count": 292,
     "metadata": {},
     "output_type": "execute_result"
    }
   ],
   "source": [
    "#save!\n",
    "pdict=dict(dp=dp,df_mindist=df_mindist)\n",
    "save_to_pickle(save_dir, pdict)"
   ]
  },
  {
   "cell_type": "code",
   "execution_count": 293,
   "id": "096f7d65",
   "metadata": {
    "ExecuteTime": {
     "end_time": "2023-05-11T20:45:40.197915Z",
     "start_time": "2023-05-11T20:45:40.168032Z"
    }
   },
   "outputs": [
    {
     "data": {
      "text/plain": [
       "(29747,)"
      ]
     },
     "execution_count": 293,
     "metadata": {},
     "output_type": "execute_result"
    }
   ],
   "source": [
    "x=bins\n",
    "values = df_mindist['r'].values\n",
    "data = np.sort(values + abs(min(values)))\n",
    "# cdf = cumtrapz(x=x, y=data ) \n",
    "cdf = cumtrapz(y=data) \n",
    "cdf = cdf / max(cdf)\n",
    "cdf.shape"
   ]
  },
  {
   "cell_type": "code",
   "execution_count": 294,
   "id": "ec05eca5",
   "metadata": {
    "ExecuteTime": {
     "end_time": "2023-05-11T20:45:40.216784Z",
     "start_time": "2023-05-11T20:45:40.199392Z"
    }
   },
   "outputs": [
    {
     "data": {
      "text/plain": [
       "((29748,), (29748,), (100,))"
      ]
     },
     "execution_count": 294,
     "metadata": {},
     "output_type": "execute_result"
    }
   ],
   "source": [
    "np.cumsum(data).shape,data.shape,bins.shape"
   ]
  },
  {
   "cell_type": "code",
   "execution_count": 295,
   "id": "dcffc004",
   "metadata": {
    "ExecuteTime": {
     "end_time": "2023-05-11T20:45:40.317184Z",
     "start_time": "2023-05-11T20:45:40.218018Z"
    }
   },
   "outputs": [
    {
     "data": {
      "image/png": "[encoded data removed]",
      "text/plain": [
       "<Figure size 500x300 with 1 Axes>"
      ]
     },
     "metadata": {},
     "output_type": "display_data"
    }
   ],
   "source": [
    "fig, ax = plt.subplots(ncols=1,figsize=(5,3))\n",
    "# ax1 = ax.twinx()\n",
    "ax.plot(data[1:],cdf,label='CDF',color='C3',lw=2)\n",
    "ax.plot(data[1:],1-cdf,label='Hazard',color='k',lw=2)\n",
    "format_plot(ax=ax,xlabel='R (cm)',ylabel='Probability',fontsize=fontsize)\n",
    "# ax.set_xscale('log')\n",
    "# ax.set_yscale('log')\n",
    "ax.tick_params(top=True, right=True,direction='in',which='both')\n",
    "ax.legend(loc='center right',fontsize=fontsize)\n",
    "# ax.legend(loc='lower center',fontsize=fontsize)\n",
    "plt.show()"
   ]
  },
  {
   "cell_type": "code",
   "execution_count": 296,
   "id": "14a138c9",
   "metadata": {
    "ExecuteTime": {
     "end_time": "2023-05-11T20:45:40.334290Z",
     "start_time": "2023-05-11T20:45:40.318431Z"
    }
   },
   "outputs": [],
   "source": [
    "x=data[1:]\n",
    "y=1-cdf\n",
    "#fit a sigmoid to it!"
   ]
  },
  {
   "cell_type": "code",
   "execution_count": 297,
   "id": "72fb5c76",
   "metadata": {
    "ExecuteTime": {
     "end_time": "2023-05-11T20:45:40.533420Z",
     "start_time": "2023-05-11T20:45:40.335820Z"
    }
   },
   "outputs": [
    {
     "data": {
      "text/plain": [
       "((4,), (4, 4))"
      ]
     },
     "execution_count": 297,
     "metadata": {},
     "output_type": "execute_result"
    }
   ],
   "source": [
    "def sigmoid(x, L ,x0, k, b):\n",
    "    y = L / (1 + np.exp(-k*(x-x0))) + b\n",
    "    return (y)\n",
    "\n",
    "p0 = [max(y), np.median(x),1,min(y)] # this is an mandatory initial guess\n",
    "\n",
    "popt, pcov = curve_fit(sigmoid, x, y, p0, method='dogbox')\n",
    "popt.shape, pcov.shape"
   ]
  },
  {
   "cell_type": "code",
   "execution_count": 302,
   "id": "6ff2b87a",
   "metadata": {
    "ExecuteTime": {
     "end_time": "2023-05-11T21:01:29.154522Z",
     "start_time": "2023-05-11T21:01:29.119549Z"
    }
   },
   "outputs": [
    {
     "data": {
      "text/plain": [
       "'L ,x0, k, b: [ 0.95428583  0.52430684 -6.37987385  0.08111723]'"
      ]
     },
     "execution_count": 302,
     "metadata": {},
     "output_type": "execute_result"
    }
   ],
   "source": [
    "f\"L ,x0, k, b: {popt}\""
   ]
  },
  {
   "cell_type": "code",
   "execution_count": 298,
   "id": "6a5b63f5",
   "metadata": {
    "ExecuteTime": {
     "end_time": "2023-05-11T20:45:40.569486Z",
     "start_time": "2023-05-11T20:45:40.535955Z"
    }
   },
   "outputs": [],
   "source": [
    "L,x0,k,b = popt"
   ]
  },
  {
   "cell_type": "code",
   "execution_count": 299,
   "id": "42a840ac",
   "metadata": {
    "ExecuteTime": {
     "end_time": "2023-05-11T20:45:40.700002Z",
     "start_time": "2023-05-11T20:45:40.571991Z"
    }
   },
   "outputs": [
    {
     "data": {
      "image/png": "[encoded data removed]",
      "text/plain": [
       "<Figure size 500x300 with 1 Axes>"
      ]
     },
     "metadata": {},
     "output_type": "display_data"
    }
   ],
   "source": [
    "fig, ax = plt.subplots(ncols=1,figsize=(5,3))\n",
    "ax.plot(x,y,label='Hazard',color='k',lw=2)\n",
    "ax.plot(x,sigmoid(x, L ,x0, k, b),':',label='Fit',color='gray',lw=2)\n",
    "\n",
    "format_plot(ax=ax,xlabel='R (cm)',ylabel='Probability',fontsize=fontsize)\n",
    "# ax.set_xscale('log')\n",
    "# ax.set_yscale('log')\n",
    "ax.tick_params(top=True, right=True,direction='in',which='both')\n",
    "ax.legend(loc='center right',fontsize=fontsize)\n",
    "# ax.legend(loc='lower center',fontsize=fontsize)\n",
    "plt.show()"
   ]
  },
  {
   "cell_type": "code",
   "execution_count": 301,
   "id": "e3849c5d",
   "metadata": {
    "ExecuteTime": {
     "end_time": "2023-05-11T20:58:21.441801Z",
     "start_time": "2023-05-11T20:58:21.423907Z"
    }
   },
   "outputs": [
    {
     "name": "stdout",
     "output_type": "stream",
     "text": [
      "np.median(x)=0.30812080969367484\n"
     ]
    }
   ],
   "source": [
    "print(f\"{np.median(x)=}\")"
   ]
  },
  {
   "cell_type": "code",
   "execution_count": 300,
   "id": "935ad93b",
   "metadata": {
    "ExecuteTime": {
     "end_time": "2023-05-11T20:45:41.472632Z",
     "start_time": "2023-05-11T20:45:40.701390Z"
    }
   },
   "outputs": [
    {
     "ename": "RuntimeError",
     "evalue": "Optimal parameters not found: The maximum number of function evaluations is exceeded.",
     "output_type": "error",
     "traceback": [
      "\u001b[0;31m---------------------------------------------------------------------------\u001b[0m",
      "\u001b[0;31mRuntimeError\u001b[0m                              Traceback (most recent call last)",
      "Input \u001b[0;32mIn [300]\u001b[0m, in \u001b[0;36m<cell line: 8>\u001b[0;34m()\u001b[0m\n\u001b[1;32m      4\u001b[0m     \u001b[38;5;28;01mreturn\u001b[39;00m (y)\n\u001b[1;32m      6\u001b[0m p0 \u001b[38;5;241m=\u001b[39m [np\u001b[38;5;241m.\u001b[39mmedian(x),\u001b[38;5;241m1\u001b[39m] \u001b[38;5;66;03m# this is an mandatory initial guess\u001b[39;00m\n\u001b[0;32m----> 8\u001b[0m popt, pcov \u001b[38;5;241m=\u001b[39m \u001b[43mcurve_fit\u001b[49m\u001b[43m(\u001b[49m\u001b[43msigmoid_simple\u001b[49m\u001b[43m,\u001b[49m\u001b[43m \u001b[49m\u001b[43mx\u001b[49m\u001b[43m,\u001b[49m\u001b[43m \u001b[49m\u001b[43my\u001b[49m\u001b[43m,\u001b[49m\u001b[43m \u001b[49m\u001b[43mp0\u001b[49m\u001b[43m,\u001b[49m\u001b[43m \u001b[49m\u001b[43mmethod\u001b[49m\u001b[38;5;241;43m=\u001b[39;49m\u001b[38;5;124;43m'\u001b[39;49m\u001b[38;5;124;43mdogbox\u001b[39;49m\u001b[38;5;124;43m'\u001b[39;49m\u001b[43m)\u001b[49m\n\u001b[1;32m      9\u001b[0m popt\u001b[38;5;241m.\u001b[39mshape, pcov\u001b[38;5;241m.\u001b[39mshape\n",
      "File \u001b[0;32m~/miniconda3/envs/pyenv_ub/lib/python3.9/site-packages/scipy/optimize/_minpack_py.py:804\u001b[0m, in \u001b[0;36mcurve_fit\u001b[0;34m(f, xdata, ydata, p0, sigma, absolute_sigma, check_finite, bounds, method, jac, **kwargs)\u001b[0m\n\u001b[1;32m    800\u001b[0m res \u001b[38;5;241m=\u001b[39m least_squares(func, p0, jac\u001b[38;5;241m=\u001b[39mjac, bounds\u001b[38;5;241m=\u001b[39mbounds, method\u001b[38;5;241m=\u001b[39mmethod,\n\u001b[1;32m    801\u001b[0m                     \u001b[38;5;241m*\u001b[39m\u001b[38;5;241m*\u001b[39mkwargs)\n\u001b[1;32m    803\u001b[0m \u001b[38;5;28;01mif\u001b[39;00m \u001b[38;5;129;01mnot\u001b[39;00m res\u001b[38;5;241m.\u001b[39msuccess:\n\u001b[0;32m--> 804\u001b[0m     \u001b[38;5;28;01mraise\u001b[39;00m \u001b[38;5;167;01mRuntimeError\u001b[39;00m(\u001b[38;5;124m\"\u001b[39m\u001b[38;5;124mOptimal parameters not found: \u001b[39m\u001b[38;5;124m\"\u001b[39m \u001b[38;5;241m+\u001b[39m res\u001b[38;5;241m.\u001b[39mmessage)\n\u001b[1;32m    806\u001b[0m ysize \u001b[38;5;241m=\u001b[39m \u001b[38;5;28mlen\u001b[39m(res\u001b[38;5;241m.\u001b[39mfun)\n\u001b[1;32m    807\u001b[0m cost \u001b[38;5;241m=\u001b[39m \u001b[38;5;241m2\u001b[39m \u001b[38;5;241m*\u001b[39m res\u001b[38;5;241m.\u001b[39mcost  \u001b[38;5;66;03m# res.cost is half sum of squares!\u001b[39;00m\n",
      "\u001b[0;31mRuntimeError\u001b[0m: Optimal parameters not found: The maximum number of function evaluations is exceeded."
     ]
    }
   ],
   "source": [
    "def sigmoid_simple(x ,x0, k):\n",
    "    L=1;b=0\n",
    "    y = L / (1 + np.exp(-k*(x-x0))) + b\n",
    "    return (y)\n",
    "\n",
    "p0 = [np.median(x),1] # this is an mandatory initial guess\n",
    "\n",
    "popt, pcov = curve_fit(sigmoid_simple, x, y, p0, method='dogbox')\n",
    "popt.shape, pcov.shape"
   ]
  },
  {
   "cell_type": "code",
   "execution_count": null,
   "id": "59b24a90",
   "metadata": {
    "ExecuteTime": {
     "end_time": "2023-05-11T20:45:41.475225Z",
     "start_time": "2023-05-11T20:45:41.475204Z"
    }
   },
   "outputs": [],
   "source": [
    "x0,k = popt\n",
    "print(f\"{x0=} cm, {1/k=} cm\")"
   ]
  },
  {
   "cell_type": "code",
   "execution_count": null,
   "id": "ebcd6774",
   "metadata": {
    "ExecuteTime": {
     "end_time": "2023-05-11T20:45:41.477052Z",
     "start_time": "2023-05-11T20:45:41.477029Z"
    }
   },
   "outputs": [],
   "source": [
    "fig, ax = plt.subplots(ncols=1,figsize=(5,3))\n",
    "ax.plot(x,y,label='Hazard',color='C1',lw=2)\n",
    "ax.plot(x,sigmoid_simple(x, x0, k),':',label='Fit',color='k',lw=2)\n",
    "\n",
    "format_plot(ax=ax,xlabel='R (cm)',ylabel='Probability',fontsize=fontsize)\n",
    "# ax.set_xscale('log')\n",
    "# ax.set_yscale('log')\n",
    "ax.tick_params(top=True, right=True,direction='in',which='both')\n",
    "ax.legend(loc='center right',fontsize=fontsize)\n",
    "# ax.legend(loc='lower center',fontsize=fontsize)\n",
    "plt.show()"
   ]
  },
  {
   "cell_type": "code",
   "execution_count": null,
   "id": "0b772eff",
   "metadata": {
    "ExecuteTime": {
     "end_time": "2023-05-11T20:45:41.478781Z",
     "start_time": "2023-05-11T20:45:41.478759Z"
    }
   },
   "outputs": [],
   "source": [
    "# curve_fit?"
   ]
  },
  {
   "cell_type": "code",
   "execution_count": null,
   "id": "325ee489",
   "metadata": {
    "ExecuteTime": {
     "end_time": "2023-05-11T20:45:41.480856Z",
     "start_time": "2023-05-11T20:45:41.480833Z"
    }
   },
   "outputs": [],
   "source": [
    "beep(3)"
   ]
  },
  {
   "cell_type": "markdown",
   "id": "4adc339b",
   "metadata": {},
   "source": [
    "$$\n",
    "P_{rxn}(R) = \\Big(1+e^{(r-R)/\\lambda}\\Big)^{-1}\n",
    "$$"
   ]
  },
  {
   "cell_type": "markdown",
   "id": "eae57061",
   "metadata": {},
   "source": [
    "# TODO: compute histogram from saved pickle"
   ]
  },
  {
   "cell_type": "code",
   "execution_count": 48,
   "id": "392471ef",
   "metadata": {
    "ExecuteTime": {
     "end_time": "2023-06-02T00:58:19.552946Z",
     "start_time": "2023-06-02T00:58:19.525218Z"
    }
   },
   "outputs": [
    {
     "data": {
      "text/plain": [
       "dict_keys(['dp', 'df_mindist'])"
      ]
     },
     "execution_count": 48,
     "metadata": {},
     "output_type": "execute_result"
    }
   ],
   "source": [
    "#FK\n",
    "save_dir='/home/timothytyree/Documents/GitHub/care/notebooks/Data/initial-conditions-fk-200x200/param_set_8_ds_5.0_tmax_10_diffcoef_0.001/mindist_rxn_range.pkl'\n",
    "# #LR\n",
    "# save_dir='/home/timothytyree/Documents/GitHub/care/notebooks/Data/initial-conditions-suite-3-LR/param_qu_tmax_30_Ko_5.4_diffCoef_0.0005_dt_0.5/mindist_rxn_range.pkl'\n",
    "data=load_pickle(save_dir)\n",
    "data.keys()"
   ]
  },
  {
   "cell_type": "code",
   "execution_count": 49,
   "id": "0bb1f26e",
   "metadata": {
    "ExecuteTime": {
     "end_time": "2023-06-02T00:58:20.525303Z",
     "start_time": "2023-06-02T00:58:20.509225Z"
    }
   },
   "outputs": [],
   "source": [
    "df_mindist = data['df_mindist']\n",
    "dp = data['dp']"
   ]
  },
  {
   "cell_type": "code",
   "execution_count": 50,
   "id": "16f2b599",
   "metadata": {
    "ExecuteTime": {
     "end_time": "2023-06-02T00:58:21.380324Z",
     "start_time": "2023-06-02T00:58:20.954096Z"
    }
   },
   "outputs": [
    {
     "data": {
      "image/png": "[encoded data removed]",
      "text/plain": [
       "<Figure size 500x300 with 1 Axes>"
      ]
     },
     "metadata": {},
     "output_type": "display_data"
    }
   ],
   "source": [
    "#DONE: visualize histogram of the minimum distance to all other particles during its lifetime\n",
    "fontsize=14\n",
    "bins=100\n",
    "ycol='r'\n",
    "# ycol='mindist'\n",
    "# ycol='minti'\n",
    "# ycol='mintf'\n",
    "bins=np.logspace(-3,1,100)\n",
    "fig,ax=plt.subplots(figsize=(5,3))\n",
    "df_mindist[ycol].hist(bins=bins,color='r',ax=ax)\n",
    "format_plot(ax=ax,xlabel='Mininum Distance (cm)',ylabel='Num. Tips',fontsize=fontsize)\n",
    "ax.set_xscale('log')\n",
    "# ax.set_yscale('log')\n",
    "ax.tick_params(top=True, right=True,direction='in',which='both')\n",
    "ax.grid(None)\n",
    "plt.show()\n",
    "#heretim"
   ]
  },
  {
   "cell_type": "markdown",
   "id": "b7f4442e",
   "metadata": {
    "heading_collapsed": true
   },
   "source": [
    "# scratchwerk"
   ]
  },
  {
   "cell_type": "code",
   "execution_count": 67,
   "id": "4189f7a3",
   "metadata": {
    "ExecuteTime": {
     "end_time": "2023-05-11T00:01:50.288813Z",
     "start_time": "2023-05-11T00:01:50.268244Z"
    },
    "hidden": true
   },
   "outputs": [],
   "source": [
    "# #compute the minimum distance to all other particles during its lifetime\n",
    "# d = df[(df['t']>=row['min'])&(df['t']<=row['max'])]\n",
    "# for particle2 in sorted(np.unique(d['particle'].values)):\n",
    "#     pass"
   ]
  },
  {
   "cell_type": "code",
   "execution_count": 68,
   "id": "5cee43ce",
   "metadata": {
    "ExecuteTime": {
     "end_time": "2023-05-11T00:03:10.912978Z",
     "start_time": "2023-05-11T00:03:10.896640Z"
    },
    "hidden": true
   },
   "outputs": [],
   "source": [
    "#TODO: compute the minimum distance to this other particle"
   ]
  },
  {
   "cell_type": "code",
   "execution_count": null,
   "id": "fc23bbb1",
   "metadata": {
    "hidden": true
   },
   "outputs": [],
   "source": [
    "#TODO: identify nearest particle at birth\n",
    "#TODO: identify nearest particle at death\n",
    "#TODO: identify nearest remaining particle\n",
    "#TODO: record"
   ]
  },
  {
   "cell_type": "code",
   "execution_count": 118,
   "id": "d797e90c",
   "metadata": {
    "ExecuteTime": {
     "end_time": "2023-05-11T00:30:12.786573Z",
     "start_time": "2023-05-11T00:30:12.770437Z"
    },
    "hidden": true
   },
   "outputs": [],
   "source": [
    "# #TODO: recall annihilation mates\n",
    "# input_dir.replace('trajectories','annihilations')"
   ]
  },
  {
   "cell_type": "code",
   "execution_count": null,
   "id": "29d7c562",
   "metadata": {
    "hidden": true
   },
   "outputs": [],
   "source": [
    "#TODO: remove any unreasonable annihlation mates\n",
    "\n",
    "#TODO: for each remaining annihilation,\n",
    "\n",
    "#TODO: compute the nearest apparent distance\n",
    "\n",
    "#TODO: compute the nearest apparent distance of any other spiral tip \n",
    "#    that exists during the trajectory of either spiral tip in the pair\n",
    "\n",
    "#TODO: record"
   ]
  },
  {
   "cell_type": "code",
   "execution_count": 119,
   "id": "3ab3a58a",
   "metadata": {
    "ExecuteTime": {
     "end_time": "2023-05-11T00:30:51.134302Z",
     "start_time": "2023-05-11T00:30:51.110323Z"
    },
    "hidden": true
   },
   "outputs": [],
   "source": [
    "# # num_termination_events = df['trial_num'].max()\n",
    "# minlifetime_values = df.groupby(by=['trial_num','annihilation_index'])['tdeath'].max().values\n",
    "# meanx,Delta_meanx,num_obsx,p_normalx=comp_mean_bootstrap_uncertainty(minlifetime_values)\n",
    "# printing=True\n",
    "# if printing:\n",
    "#     print(f\" - mean lifetime: {meanx:.4f} +/- {Delta_meanx:.4f} ms (N={num_obsx}, p_normal: {p_normalx:.4f}) \")"
   ]
  },
  {
   "cell_type": "code",
   "execution_count": 120,
   "id": "929fa43a",
   "metadata": {
    "ExecuteTime": {
     "end_time": "2023-05-11T00:30:53.289318Z",
     "start_time": "2023-05-11T00:30:53.265350Z"
    },
    "hidden": true
   },
   "outputs": [],
   "source": [
    "# # navg = 7\n",
    "# # navg = 5\n",
    "# # navg = 10 #4ms\n",
    "# # navg = 25 #10ms\n",
    "# navg = 15 #6ms\n",
    "# navg = 13 #pretty good\n",
    "# print(f\"savgol smoothing window: {dt*navg} ms\")\n",
    "# kwargs_savgol=dict(window_length=navg,\n",
    "#             polyorder=3,deriv=1,\n",
    "#             delta=1.0,axis=-1,mode='interp')"
   ]
  },
  {
   "cell_type": "code",
   "execution_count": null,
   "id": "f3e7f1c5",
   "metadata": {
    "hidden": true
   },
   "outputs": [],
   "source": []
  }
 ],
 "metadata": {
  "kernelspec": {
   "display_name": "Python 3 (ipykernel)",
   "language": "python",
   "name": "python3"
  },
  "language_info": {
   "codemirror_mode": {
    "name": "ipython",
    "version": 3
   },
   "file_extension": ".py",
   "mimetype": "text/x-python",
   "name": "python",
   "nbconvert_exporter": "python",
   "pygments_lexer": "ipython3",
   "version": "3.9.13"
  },
  "toc": {
   "base_numbering": 1,
   "nav_menu": {},
   "number_sections": true,
   "sideBar": true,
   "skip_h1_title": false,
   "title_cell": "Table of Contents",
   "title_sidebar": "Contents",
   "toc_cell": false,
   "toc_position": {},
   "toc_section_display": true,
   "toc_window_display": false
  }
 },
 "nbformat": 4,
 "nbformat_minor": 5
}
