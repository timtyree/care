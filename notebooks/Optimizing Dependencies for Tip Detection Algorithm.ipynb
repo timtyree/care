{
 "cells": [
  {
   "cell_type": "code",
   "execution_count": 3,
   "metadata": {
    "ExecuteTime": {
     "end_time": "2020-05-27T16:10:29.878464Z",
     "start_time": "2020-05-27T16:10:29.875788Z"
    }
   },
   "outputs": [],
   "source": [
    "from lib.minimal_model import *\n",
    "from lib.get_tips import *\n",
    "from numba import njit, jit"
   ]
  },
  {
   "cell_type": "code",
   "execution_count": 4,
   "metadata": {
    "ExecuteTime": {
     "end_time": "2020-05-27T16:11:07.966031Z",
     "start_time": "2020-05-27T16:11:07.949765Z"
    }
   },
   "outputs": [],
   "source": [
    "txt = np.load(f'Data/buffer_circle6_at_time_3012.8.npy') \t"
   ]
  },
  {
   "cell_type": "markdown",
   "metadata": {},
   "source": [
    "# Always profile the working solution before optimizing one of the parts."
   ]
  },
  {
   "cell_type": "markdown",
   "metadata": {},
   "source": [
    "# Numba calls c functions\n",
    "https://numba.pydata.org/numba-doc/latest/user/cfunc.html"
   ]
  },
  {
   "cell_type": "markdown",
   "metadata": {
    "ExecuteTime": {
     "end_time": "2020-05-27T16:16:52.383777Z",
     "start_time": "2020-05-27T16:16:52.374827Z"
    }
   },
   "source": [
    "# Dependencies of two open source algorithms"
   ]
  },
  {
   "cell_type": "markdown",
   "metadata": {
    "ExecuteTime": {
     "end_time": "2020-05-27T16:16:53.493237Z",
     "start_time": "2020-05-27T16:16:53.487559Z"
    }
   },
   "source": [
    "__*Before*__ playing with their code, see if any of their implementations njit\n",
    "\n",
    "__Source code for Gaussian filter that works doesn't seem to observe periodic boundary conditions__\n",
    "- https://github.com/scikit-image/scikit-image/blob/master/skimage/filters/_gaussian.py\n",
    "    - nota bene: the difference_of_gaussians function ^therein might improve \n",
    "    >This function uses the Difference of Gaussians method for applying\n",
    "    band-pass filters to multi-dimensional arrays. The input array is\n",
    "    blurred with two Gaussian kernels of differing sigmas to produce two\n",
    "    intermediate, filtered images. The more-blurred image is then subtracted\n",
    "    from the less-blurred image. The final output image will therefore have\n",
    "    had high-frequency components attenuated by the smaller-sigma Gaussian, and\n",
    "    low frequency components will have been removed due to their presence in\n",
    "    the more-blurred intermediate.\n",
    "    \n",
    "__Source code for Marching squares implementation that also doesn't appear to observe periodic bounary conditions__\n",
    "- https://github.com/scikit-image/scikit-image/blob/master/skimage/measure/_find_contours.py\n",
    "    - nota bene: there's definately a cython implementation in there and there's a marching squares implementation in the next file up.  There's also marching cubes implementations with/without cython.  Damn.  Let's get that to run and then contribute the result to scikit-image."
   ]
  },
  {
   "cell_type": "markdown",
   "metadata": {
    "ExecuteTime": {
     "end_time": "2020-05-27T16:16:59.102103Z",
     "start_time": "2020-05-27T16:16:59.096402Z"
    }
   },
   "source": [
    "# Dependency on algorithm in intersection.py\n",
    "- adapted from previous implementation.  not njit'd.  Superficial changes did not make it njit'd.  I spent a morning in vain on this"
   ]
  },
  {
   "cell_type": "code",
   "execution_count": null,
   "metadata": {},
   "outputs": [],
   "source": []
  }
 ],
 "metadata": {
  "kernelspec": {
   "display_name": "Python 3",
   "language": "python",
   "name": "python3"
  },
  "language_info": {
   "codemirror_mode": {
    "name": "ipython",
    "version": 3
   },
   "file_extension": ".py",
   "mimetype": "text/x-python",
   "name": "python",
   "nbconvert_exporter": "python",
   "pygments_lexer": "ipython3",
   "version": "3.7.7"
  },
  "varInspector": {
   "cols": {
    "lenName": 16,
    "lenType": 16,
    "lenVar": 40
   },
   "kernels_config": {
    "python": {
     "delete_cmd_postfix": "",
     "delete_cmd_prefix": "del ",
     "library": "var_list.py",
     "varRefreshCmd": "print(var_dic_list())"
    },
    "r": {
     "delete_cmd_postfix": ") ",
     "delete_cmd_prefix": "rm(",
     "library": "var_list.r",
     "varRefreshCmd": "cat(var_dic_list()) "
    }
   },
   "types_to_exclude": [
    "module",
    "function",
    "builtin_function_or_method",
    "instance",
    "_Feature"
   ],
   "window_display": false
  }
 },
 "nbformat": 4,
 "nbformat_minor": 2
}
