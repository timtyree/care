{
 "cells": [
  {
   "cell_type": "markdown",
   "metadata": {},
   "source": [
    "# Generate Birth-Death Rates for a Folder of Initial Conditions \n",
    "Tim Tyree<br>\n",
    "8.13.2020<br>"
   ]
  },
  {
   "cell_type": "markdown",
   "metadata": {},
   "source": [
    "- DONE: get folder of filenames interactively\n",
    "- TODO: for a given file_name (absolute path), generate a birth-death rates file  \n",
    "    - init_filesystem_bd(base_folder)\n",
    "    - run routine, ironing out the bugs as they happen"
   ]
  },
  {
   "cell_type": "code",
   "execution_count": 1,
   "metadata": {
    "ExecuteTime": {
     "end_time": "2020-08-14T21:40:56.658327Z",
     "start_time": "2020-08-14T21:40:53.639247Z"
    }
   },
   "outputs": [
    {
     "name": "stdout",
     "output_type": "stream",
     "text": [
      "100000\n"
     ]
    }
   ],
   "source": [
    "#pylab\n",
    "%matplotlib inline\n",
    "import numpy as np, pandas as pd, matplotlib.pyplot as plt\n",
    "# from pylab import imshow, show\n",
    "import time\n",
    "# import skimage as sk\n",
    "# from skimage import measure, filters\n",
    "\n",
    "# import matplotlib.pyplot as plt, numpy as np, os\n",
    "# from numba import njit, jit, vectorize\n",
    "# from PIL import Image\n",
    "# import imageio\n",
    "\n",
    "#automate the boring stuff\n",
    "from IPython import utils\n",
    "import time, os, sys, re\n",
    "beep = lambda x: os.system(\"echo -n '\\\\a';sleep 0.2;\" * x)\n",
    "if not 'nb_dir' in globals():\n",
    "    nb_dir = os.getcwd()\n",
    "\n",
    "import dask.bag as db\n",
    "# from lib.chunk_ic import chunk_600x600_from_fn\n",
    "\n",
    "#load the libraries\n",
    "from lib import *\n",
    "\n",
    "# %autocall 1\n",
    "# %load_ext autoreload\n",
    "# %autoreload 2"
   ]
  },
  {
   "cell_type": "markdown",
   "metadata": {},
   "source": [
    "# get folder of chunked initial condition filenames interactively"
   ]
  },
  {
   "cell_type": "code",
   "execution_count": 2,
   "metadata": {
    "ExecuteTime": {
     "end_time": "2020-08-14T21:41:13.963816Z",
     "start_time": "2020-08-14T21:40:58.686715Z"
    }
   },
   "outputs": [
    {
     "name": "stdout",
     "output_type": "stream",
     "text": [
      "please select a file from within the desired folder.\n",
      "File: /Users/timothytyree/Documents/GitHub/care/notebooks/Data/initial-conditions-suite-1/ic-in/ic_200x200.120.33.npz\n"
     ]
    }
   ],
   "source": [
    "#get input_fn_list interactively\n",
    "#TODO: select only files that match the extension of the one selected.\n",
    "#find file interactively\n",
    "print(\"please select a file from within the desired folder.\")\n",
    "file = search_for_file()"
   ]
  },
  {
   "cell_type": "code",
   "execution_count": 9,
   "metadata": {
    "ExecuteTime": {
     "end_time": "2020-08-14T21:00:29.344610Z",
     "start_time": "2020-08-14T21:00:29.341959Z"
    }
   },
   "outputs": [],
   "source": [
    "file = '/Users/timothytyree/Documents/GitHub/care/notebooks/Data/initial-conditions-suite-1/ic-in/ic_200x200.121.33.npz'\n",
    "\n"
   ]
  },
  {
   "cell_type": "code",
   "execution_count": 3,
   "metadata": {
    "ExecuteTime": {
     "end_time": "2020-08-14T21:42:07.896832Z",
     "start_time": "2020-08-14T21:42:07.850535Z"
    }
   },
   "outputs": [
    {
     "name": "stdout",
     "output_type": "stream",
     "text": [
      "Number of files in input_fn_list is 198.\n"
     ]
    }
   ],
   "source": [
    "#get a list of all files\n",
    "#change to the directory containing file\n",
    "folder_name = os.path.dirname(file)\n",
    "os.chdir(folder_name)\n",
    "\n",
    "# get all ic files that are in the current working directory that are not .csv's\n",
    "retval = !ls\n",
    "file_name_list = list(retval)\n",
    "# check each file if it ends in .csv before merging it\n",
    "def is_csv(file_name):\n",
    "    return file_name[-4:]=='.csv'\n",
    "file_name_list = [f for f in file_name_list if not is_csv(f)]\n",
    "cwd = os.getcwd()\n",
    "input_fn_list = ['/'.join((cwd,fn)) for fn in file_name_list]\n",
    "print(f\"Number of files in input_fn_list is {len(input_fn_list)}.\")"
   ]
  },
  {
   "cell_type": "code",
   "execution_count": 4,
   "metadata": {
    "ExecuteTime": {
     "end_time": "2020-08-14T21:42:18.208566Z",
     "start_time": "2020-08-14T21:42:18.204109Z"
    }
   },
   "outputs": [],
   "source": [
    "#initialize filesystem if not already initialized\n",
    "base_folder   = '/'+os.path.join(*cwd.split('/')[:-1])\n",
    "try:\n",
    "    init_filesystem_bd(base_folder)\n",
    "except FileExistsError:\n",
    "    pass"
   ]
  },
  {
   "cell_type": "markdown",
   "metadata": {
    "heading_collapsed": true
   },
   "source": [
    "## DONE for a given file_name, generate a birth-death rates file  \n",
    "    - DONE: init_filesystem_bd(base_folder)\n",
    "    - DONE: run routine, ironing out the bugs as they happen"
   ]
  },
  {
   "cell_type": "code",
   "execution_count": 7,
   "metadata": {
    "ExecuteTime": {
     "end_time": "2020-08-13T22:01:40.163826Z",
     "start_time": "2020-08-13T22:01:40.141480Z"
    },
    "hidden": true
   },
   "outputs": [],
   "source": [
    "# file_name = os.path.abspath(input_fn_list[0])\n",
    "input_fn = input_fn_list[0]"
   ]
  },
  {
   "cell_type": "code",
   "execution_count": 10,
   "metadata": {
    "ExecuteTime": {
     "end_time": "2020-08-14T16:34:11.144032Z",
     "start_time": "2020-08-14T16:34:11.141875Z"
    },
    "hidden": true
   },
   "outputs": [],
   "source": [
    "# TODO: run routine, ironing out the bugs as they happen\n",
    "#what's the first steps to this?"
   ]
  },
  {
   "cell_type": "code",
   "execution_count": 134,
   "metadata": {
    "ExecuteTime": {
     "end_time": "2020-08-14T01:15:15.892316Z",
     "start_time": "2020-08-14T01:11:11.009776Z"
    },
    "hidden": true
   },
   "outputs": [
    {
     "name": "stdout",
     "output_type": "stream",
     "text": [
      "Frame 272: 2 trajectories present.\n",
      "data_df_traj: ic_200x200.101.11_ds_5sigma_1.5_threshold_0.6_sr_50_mem_2_traj.csv\n",
      "loading trajectories from data_fn_traj: ic_200x200.101.11_ds_5sigma_1.5_threshold_0.6_sr_50_mem_2_traj.csv.\n",
      "birth death rates successfully saved in: ic_200x200.101.11_ds_5sigma_1.5_threshold_0.6_sr_50_mem_2_tmin_100_LT_2_bdrates.csv\n"
     ]
    },
    {
     "data": {
      "text/plain": [
       "'ic_200x200.101.11_ds_5sigma_1.5_threshold_0.6_sr_50_mem_2_tmin_100_LT_2_bdrates.csv'"
      ]
     },
     "execution_count": 134,
     "metadata": {},
     "output_type": "execute_result"
    }
   ],
   "source": [
    "birth_death_rates_from_ic(ic=input_fn)"
   ]
  },
  {
   "cell_type": "code",
   "execution_count": null,
   "metadata": {
    "ExecuteTime": {
     "end_time": "2020-08-13T23:03:10.717505Z",
     "start_time": "2020-08-13T23:03:10.690905Z"
    },
    "hidden": true
   },
   "outputs": [],
   "source": [
    "\n"
   ]
  },
  {
   "cell_type": "markdown",
   "metadata": {
    "ExecuteTime": {
     "end_time": "2020-08-13T23:01:07.681216Z",
     "start_time": "2020-08-13T23:01:07.654731Z"
    }
   },
   "source": [
    "# for the list of file names in a given folder, simulate all of them using dask"
   ]
  },
  {
   "cell_type": "code",
   "execution_count": 5,
   "metadata": {
    "ExecuteTime": {
     "end_time": "2020-08-14T21:42:45.303199Z",
     "start_time": "2020-08-14T21:42:45.299437Z"
    }
   },
   "outputs": [
    {
     "name": "stdout",
     "output_type": "stream",
     "text": [
      "we're about to use 198 distinct initial conditions.\n"
     ]
    }
   ],
   "source": [
    "print(f\"we're about to use {len(input_fn_list)} distinct initial conditions.\")"
   ]
  },
  {
   "cell_type": "code",
   "execution_count": 6,
   "metadata": {
    "ExecuteTime": {
     "end_time": "2020-08-14T21:42:48.172875Z",
     "start_time": "2020-08-14T21:42:47.631450Z"
    }
   },
   "outputs": [],
   "source": [
    "# !pip install dask\n",
    "# !pip install \"dask[utils]\" --upgrade\n",
    "# !pip install \"dask[distributed]\" --upgrade\n",
    "from lib.birth_death_rates_from_ic import *"
   ]
  },
  {
   "cell_type": "code",
   "execution_count": 7,
   "metadata": {
    "ExecuteTime": {
     "end_time": "2020-08-14T21:42:49.154559Z",
     "start_time": "2020-08-14T21:42:49.152080Z"
    }
   },
   "outputs": [],
   "source": [
    "# # from dask.distributed import Client, progress\n",
    "# # client = Client(n_workers=2, threads_per_worker=1)\n",
    "# # client\n",
    "\n",
    "# import logging\n",
    "# logger = logging.getLogger(\"mechanize\")\n",
    "# # only log really bad events\n",
    "# logger.setLevel(logging.ERROR)"
   ]
  },
  {
   "cell_type": "code",
   "execution_count": 8,
   "metadata": {
    "ExecuteTime": {
     "end_time": "2020-08-14T21:42:49.379175Z",
     "start_time": "2020-08-14T21:42:49.376500Z"
    }
   },
   "outputs": [],
   "source": [
    "#TODO: see if this discards the trackpy logging but allows .log writing to work when logging = True and printing = True\n",
    "# logger = logging.getLogger('my-logger')\n",
    "# logger.propagate = False\n"
   ]
  },
  {
   "cell_type": "code",
   "execution_count": 9,
   "metadata": {
    "ExecuteTime": {
     "end_time": "2020-08-14T21:42:51.720068Z",
     "start_time": "2020-08-14T21:42:51.717710Z"
    }
   },
   "outputs": [],
   "source": [
    "# import logging\n",
    "# logger = logging.getLogger()\n",
    "# # logger.disabled = True #doesn't block logger.info from trackpy.link_iter"
   ]
  },
  {
   "cell_type": "code",
   "execution_count": 10,
   "metadata": {
    "ExecuteTime": {
     "end_time": "2020-08-14T21:42:53.068014Z",
     "start_time": "2020-08-14T21:42:53.064315Z"
    }
   },
   "outputs": [],
   "source": [
    "b = db.from_sequence(input_fn_list, npartitions=7).map(birth_death_rates_from_ic)\n"
   ]
  },
  {
   "cell_type": "code",
   "execution_count": null,
   "metadata": {
    "ExecuteTime": {
     "start_time": "2020-08-14T21:42:54.095Z"
    }
   },
   "outputs": [],
   "source": [
    "start = time.time()\n",
    "retval = list(b)\n",
    "print(f\"run time for generating birth-death rates from file_name_list: {time.time()-start:.2f} [seconds?]\")"
   ]
  },
  {
   "cell_type": "code",
   "execution_count": 11,
   "metadata": {
    "ExecuteTime": {
     "end_time": "2020-08-14T19:56:36.000890Z",
     "start_time": "2020-08-14T19:56:35.997827Z"
    }
   },
   "outputs": [],
   "source": [
    "# log = open('test.txt','a')"
   ]
  },
  {
   "cell_type": "code",
   "execution_count": 12,
   "metadata": {
    "ExecuteTime": {
     "end_time": "2020-08-14T19:56:42.844716Z",
     "start_time": "2020-08-14T19:56:42.839442Z"
    }
   },
   "outputs": [
    {
     "data": {
      "text/plain": [
       "False"
      ]
     },
     "execution_count": 12,
     "metadata": {},
     "output_type": "execute_result"
    }
   ],
   "source": [
    "# log.closed"
   ]
  },
  {
   "cell_type": "code",
   "execution_count": null,
   "metadata": {
    "ExecuteTime": {
     "end_time": "2020-08-13T23:51:17.019585Z",
     "start_time": "2020-08-13T23:51:16.992788Z"
    }
   },
   "outputs": [],
   "source": []
  },
  {
   "cell_type": "code",
   "execution_count": null,
   "metadata": {},
   "outputs": [],
   "source": []
  },
  {
   "cell_type": "code",
   "execution_count": null,
   "metadata": {
    "ExecuteTime": {
     "end_time": "2020-08-13T23:30:46.992118Z",
     "start_time": "2020-08-13T23:30:46.966512Z"
    }
   },
   "outputs": [],
   "source": []
  },
  {
   "cell_type": "code",
   "execution_count": null,
   "metadata": {
    "ExecuteTime": {
     "end_time": "2020-08-13T23:52:29.667864Z",
     "start_time": "2020-08-13T23:52:29.641045Z"
    }
   },
   "outputs": [],
   "source": []
  },
  {
   "cell_type": "code",
   "execution_count": null,
   "metadata": {},
   "outputs": [],
   "source": []
  }
 ],
 "metadata": {
  "kernelspec": {
   "display_name": "Python 3",
   "language": "python",
   "name": "python3"
  },
  "language_info": {
   "codemirror_mode": {
    "name": "ipython",
    "version": 3
   },
   "file_extension": ".py",
   "mimetype": "text/x-python",
   "name": "python",
   "nbconvert_exporter": "python",
   "pygments_lexer": "ipython3",
   "version": "3.8.5"
  },
  "varInspector": {
   "cols": {
    "lenName": 16,
    "lenType": 16,
    "lenVar": 40
   },
   "kernels_config": {
    "python": {
     "delete_cmd_postfix": "",
     "delete_cmd_prefix": "del ",
     "library": "var_list.py",
     "varRefreshCmd": "print(var_dic_list())"
    },
    "r": {
     "delete_cmd_postfix": ") ",
     "delete_cmd_prefix": "rm(",
     "library": "var_list.r",
     "varRefreshCmd": "cat(var_dic_list()) "
    }
   },
   "types_to_exclude": [
    "module",
    "function",
    "builtin_function_or_method",
    "instance",
    "_Feature"
   ],
   "window_display": false
  }
 },
 "nbformat": 4,
 "nbformat_minor": 4
}
