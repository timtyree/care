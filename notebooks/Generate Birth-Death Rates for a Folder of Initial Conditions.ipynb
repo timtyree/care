{
 "cells": [
  {
   "cell_type": "markdown",
   "metadata": {},
   "source": [
    "# Generate Birth-Death Rates for a Folder of Initial Conditions \n",
    "Tim Tyree<br>\n",
    "8.13.2020<br>"
   ]
  },
  {
   "cell_type": "markdown",
   "metadata": {},
   "source": [
    "- DONE: get folder of filenames interactively\n",
    "- TODO: for a given file_name (absolute path), generate a birth-death rates file  \n",
    "    - init_filesystem_bd(base_folder)\n",
    "    - run routine, ironing out the bugs as they happen"
   ]
  },
  {
   "cell_type": "code",
   "execution_count": 1,
   "metadata": {
    "ExecuteTime": {
     "end_time": "2020-11-04T18:35:43.159436Z",
     "start_time": "2020-11-04T18:35:41.830945Z"
    }
   },
   "outputs": [
    {
     "name": "stdout",
     "output_type": "stream",
     "text": [
      "100000\n",
      "Automatic calling is: Smart\n"
     ]
    }
   ],
   "source": [
    "#pylab\n",
    "%matplotlib inline\n",
    "import numpy as np, pandas as pd, matplotlib.pyplot as plt\n",
    "# from pylab import imshow, show\n",
    "import time\n",
    "# import skimage as sk\n",
    "# from skimage import measure, filters\n",
    "\n",
    "# import matplotlib.pyplot as plt, numpy as np, os\n",
    "# from numba import njit, jit, vectorize\n",
    "# from PIL import Image\n",
    "# import imageio\n",
    "\n",
    "#automate the boring stuff\n",
    "from IPython import utils\n",
    "import time, os, sys, re\n",
    "beep = lambda x: os.system(\"echo -n '\\\\a';sleep 0.2;\" * x)\n",
    "if not 'nb_dir' in globals():\n",
    "    nb_dir = os.getcwd()\n",
    "\n",
    "import dask.bag as db\n",
    "\n",
    "#load the libraries\n",
    "from lib import *\n",
    "from lib.birth_death_rates_from_ic import *\n",
    "# from lib.chunk_ic import chunk_600x600_from_fn\n",
    "\n",
    "#load the measure library for robust, simplified, fast tip detection\n",
    "from lib.measure import find_contours\n",
    "from lib.measure._utils_find_contours import *\n",
    "from lib.measure._utils_find_tips import *\n",
    "from lib.measure._find_tips import *\n",
    "\n",
    "\n",
    "%autocall 1\n",
    "%load_ext autoreload\n",
    "%autoreload 2"
   ]
  },
  {
   "cell_type": "code",
   "execution_count": null,
   "metadata": {
    "ExecuteTime": {
     "end_time": "2020-08-21T07:29:33.245000Z",
     "start_time": "2020-08-21T07:29:33.227195Z"
    }
   },
   "outputs": [],
   "source": []
  },
  {
   "cell_type": "code",
   "execution_count": null,
   "metadata": {},
   "outputs": [],
   "source": []
  },
  {
   "cell_type": "code",
   "execution_count": null,
   "metadata": {},
   "outputs": [],
   "source": []
  },
  {
   "cell_type": "markdown",
   "metadata": {},
   "source": [
    "# get folder of chunked initial condition filenames interactively"
   ]
  },
  {
   "cell_type": "code",
   "execution_count": 2,
   "metadata": {
    "ExecuteTime": {
     "end_time": "2020-10-28T20:36:56.289229Z",
     "start_time": "2020-10-28T20:36:52.611904Z"
    }
   },
   "outputs": [
    {
     "name": "stdout",
     "output_type": "stream",
     "text": [
      "please select a file from within the desired folder.\n"
     ]
    }
   ],
   "source": [
    "#get input_fn_list interactively\n",
    "#TODO: select only files that match the extension of the one selected.\n",
    "#find file interactively\n",
    "print(\"please select a file from within the desired folder.\")\n",
    "file = search_for_file()"
   ]
  },
  {
   "cell_type": "code",
   "execution_count": 2,
   "metadata": {
    "ExecuteTime": {
     "end_time": "2020-11-04T18:35:43.743137Z",
     "start_time": "2020-11-04T18:35:43.730118Z"
    }
   },
   "outputs": [],
   "source": [
    "#ic1 file = '/Users/timothytyree/Documents/GitHub/care/notebooks/Data/initial-conditions-suite-1/ic-in/ic_200x200.121.33.npz'\n",
    "# ic2 \n",
    "file = '/home/timothytyree/Documents/GitHub/care/notebooks/Data/initial-conditions-suite-2/ic-in/ic_200x200.001.11.npz'\n"
   ]
  },
  {
   "cell_type": "code",
   "execution_count": 3,
   "metadata": {
    "ExecuteTime": {
     "end_time": "2020-11-04T18:35:45.882617Z",
     "start_time": "2020-11-04T18:35:45.855069Z"
    }
   },
   "outputs": [
    {
     "name": "stdout",
     "output_type": "stream",
     "text": [
      "Number of files in input_fn_list is 171.\n"
     ]
    }
   ],
   "source": [
    "#get a list of all files\n",
    "#change to the directory containing file\n",
    "folder_name = os.path.dirname(file)\n",
    "os.chdir(folder_name)\n",
    "\n",
    "# get all ic files that are in the current working directory that are not .csv's\n",
    "retval = !ls\n",
    "file_name_list = list(retval)\n",
    "# check each file if it ends in .csv before merging it\n",
    "def is_csv(file_name):\n",
    "    return file_name[-4:]=='.csv'\n",
    "file_name_list = [f for f in file_name_list if not is_csv(f)]\n",
    "cwd = os.getcwd()\n",
    "input_fn_list = ['/'.join((cwd,fn)) for fn in file_name_list]\n",
    "print(f\"Number of files in input_fn_list is {len(input_fn_list)}.\")"
   ]
  },
  {
   "cell_type": "code",
   "execution_count": 4,
   "metadata": {
    "ExecuteTime": {
     "end_time": "2020-11-04T18:35:48.659328Z",
     "start_time": "2020-11-04T18:35:48.646137Z"
    }
   },
   "outputs": [],
   "source": [
    "#initialize filesystem if not already initialized\n",
    "base_folder   = '/'+os.path.join(*cwd.split('/')[:-1])\n",
    "try:\n",
    "    init_filesystem_bd(base_folder)\n",
    "except FileExistsError:\n",
    "    print('new file system not initialized.')"
   ]
  },
  {
   "cell_type": "code",
   "execution_count": null,
   "metadata": {
    "ExecuteTime": {
     "end_time": "2020-10-25T06:25:41.680489Z",
     "start_time": "2020-10-25T06:25:41.657352Z"
    }
   },
   "outputs": [],
   "source": []
  },
  {
   "cell_type": "markdown",
   "metadata": {
    "heading_collapsed": true
   },
   "source": [
    "## DONE for a given file_name, generate a birth-death rates file  \n",
    "    - DONE: init_filesystem_bd(base_folder)\n",
    "    - DONE: run routine, ironing out the bugs as they happen"
   ]
  },
  {
   "cell_type": "code",
   "execution_count": 6,
   "metadata": {
    "ExecuteTime": {
     "end_time": "2020-10-25T16:21:23.039154Z",
     "start_time": "2020-10-25T16:21:23.026902Z"
    },
    "hidden": true
   },
   "outputs": [],
   "source": [
    "# file_name = os.path.abspath(input_fn_list[0])\n",
    "input_fn = input_fn_list[0]"
   ]
  },
  {
   "cell_type": "code",
   "execution_count": 7,
   "metadata": {
    "ExecuteTime": {
     "end_time": "2020-10-25T16:21:23.440362Z",
     "start_time": "2020-10-25T16:21:23.422318Z"
    },
    "hidden": true
   },
   "outputs": [],
   "source": [
    "# TODO: run routine, ironing out the bugs as they happen\n",
    "#what's the first steps to this?"
   ]
  },
  {
   "cell_type": "code",
   "execution_count": 14,
   "metadata": {
    "ExecuteTime": {
     "end_time": "2020-10-25T16:44:54.754971Z",
     "start_time": "2020-10-25T16:35:17.376336Z"
    },
    "hidden": true
   },
   "outputs": [
    {
     "ename": "KeyboardInterrupt",
     "evalue": "",
     "output_type": "error",
     "traceback": [
      "\u001b[0;31m---------------------------------------------------------\u001b[0m",
      "\u001b[0;31mKeyboardInterrupt\u001b[0m       Traceback (most recent call last)",
      "\u001b[0;32m<ipython-input-14-828efddd0a74>\u001b[0m in \u001b[0;36m<module>\u001b[0;34m\u001b[0m\n\u001b[0;32m----> 1\u001b[0;31m \u001b[0mbirth_death_rates_from_ic\u001b[0m\u001b[0;34m(\u001b[0m\u001b[0mic\u001b[0m\u001b[0;34m=\u001b[0m\u001b[0minput_fn\u001b[0m\u001b[0;34m)\u001b[0m\u001b[0;34m\u001b[0m\u001b[0;34m\u001b[0m\u001b[0m\n\u001b[0m",
      "\u001b[0;32m~/Documents/GitHub/care/notebooks/lib/birth_death_rates_from_ic.py\u001b[0m in \u001b[0;36mbirth_death_rates_from_ic\u001b[0;34m(ic)\u001b[0m\n\u001b[1;32m    829\u001b[0m \u001b[0;34m\u001b[0m\u001b[0m\n\u001b[1;32m    830\u001b[0m         \u001b[0;31m# main routine\u001b[0m\u001b[0;34m\u001b[0m\u001b[0;34m\u001b[0m\u001b[0;34m\u001b[0m\u001b[0m\n\u001b[0;32m--> 831\u001b[0;31m         \u001b[0mtip_log_dir\u001b[0m\u001b[0;34m,\u001b[0m \u001b[0mkwargs\u001b[0m      \u001b[0;34m=\u001b[0m \u001b[0mgenerate_tip_logs\u001b[0m\u001b[0;34m(\u001b[0m\u001b[0minitial_condition_dir\u001b[0m\u001b[0;34m=\u001b[0m\u001b[0mic\u001b[0m\u001b[0;34m,\u001b[0m \u001b[0;34m**\u001b[0m\u001b[0mkwargs\u001b[0m\u001b[0;34m)\u001b[0m\u001b[0;34m\u001b[0m\u001b[0;34m\u001b[0m\u001b[0m\n\u001b[0m\u001b[1;32m    832\u001b[0m         \u001b[0mtip_position_dir\u001b[0m \u001b[0;34m=\u001b[0m \u001b[0mpostprocess_tip_logs\u001b[0m\u001b[0;34m(\u001b[0m\u001b[0mtip_log_dir\u001b[0m\u001b[0;34m,\u001b[0m \u001b[0;34m**\u001b[0m\u001b[0mkwargs\u001b[0m\u001b[0;34m)\u001b[0m\u001b[0;34m\u001b[0m\u001b[0;34m\u001b[0m\u001b[0m\n\u001b[1;32m    833\u001b[0m         \u001b[0mdata_fn_trajectories\u001b[0m     \u001b[0;34m=\u001b[0m \u001b[0mtrack_tip_trajectories\u001b[0m\u001b[0;34m(\u001b[0m\u001b[0mtip_position_dir\u001b[0m\u001b[0;34m,\u001b[0m \u001b[0;34m**\u001b[0m\u001b[0mkwargs\u001b[0m\u001b[0;34m)\u001b[0m\u001b[0;34m\u001b[0m\u001b[0;34m\u001b[0m\u001b[0m\n",
      "\u001b[0;32m~/Documents/GitHub/care/notebooks/lib/birth_death_rates_from_ic.py\u001b[0m in \u001b[0;36mgenerate_tip_logs\u001b[0;34m(initial_condition_dir, **kwargs)\u001b[0m\n\u001b[1;32m    307\u001b[0m                 \u001b[0;32mif\u001b[0m \u001b[0;32mnot\u001b[0m \u001b[0mrecording\u001b[0m\u001b[0;34m:\u001b[0m\u001b[0;34m\u001b[0m\u001b[0;34m\u001b[0m\u001b[0m\n\u001b[1;32m    308\u001b[0m                         \u001b[0;31m#integrate explicitely in time\u001b[0m\u001b[0;34m\u001b[0m\u001b[0;34m\u001b[0m\u001b[0;34m\u001b[0m\u001b[0m\n\u001b[0;32m--> 309\u001b[0;31m                         \u001b[0mtime_step\u001b[0m\u001b[0;34m(\u001b[0m\u001b[0mtxt\u001b[0m\u001b[0;34m,\u001b[0m \u001b[0mh\u001b[0m\u001b[0;34m=\u001b[0m\u001b[0mh\u001b[0m\u001b[0;34m,\u001b[0m \u001b[0mzero_txt\u001b[0m\u001b[0;34m=\u001b[0m\u001b[0mzero_txt\u001b[0m\u001b[0;34m)\u001b[0m \u001b[0;31m#up to twice as fast as for separated calls\u001b[0m\u001b[0;34m\u001b[0m\u001b[0;34m\u001b[0m\u001b[0m\n\u001b[0m\u001b[1;32m    310\u001b[0m                         \u001b[0mtme\u001b[0m \u001b[0;34m+=\u001b[0m \u001b[0mh\u001b[0m\u001b[0;34m\u001b[0m\u001b[0;34m\u001b[0m\u001b[0m\n\u001b[1;32m    311\u001b[0m                 \u001b[0;32mif\u001b[0m \u001b[0mrecording\u001b[0m\u001b[0;34m:\u001b[0m\u001b[0;34m\u001b[0m\u001b[0;34m\u001b[0m\u001b[0m\n",
      "\u001b[0;31mKeyboardInterrupt\u001b[0m: "
     ]
    }
   ],
   "source": [
    "birth_death_rates_from_ic(ic=input_fn)"
   ]
  },
  {
   "cell_type": "code",
   "execution_count": 1,
   "metadata": {
    "ExecuteTime": {
     "end_time": "2020-10-25T16:46:54.986571Z",
     "start_time": "2020-10-25T16:46:54.984001Z"
    },
    "hidden": true
   },
   "outputs": [
    {
     "name": "stdout",
     "output_type": "stream",
     "text": [
      "123\n"
     ]
    }
   ],
   "source": [
    "print(123)"
   ]
  },
  {
   "cell_type": "markdown",
   "metadata": {
    "ExecuteTime": {
     "end_time": "2020-08-13T23:01:07.681216Z",
     "start_time": "2020-08-13T23:01:07.654731Z"
    }
   },
   "source": [
    "# for the list of file names in a given folder, simulate all of them using dask"
   ]
  },
  {
   "cell_type": "code",
   "execution_count": 5,
   "metadata": {
    "ExecuteTime": {
     "end_time": "2020-11-04T18:35:51.134229Z",
     "start_time": "2020-11-04T18:35:51.120588Z"
    }
   },
   "outputs": [
    {
     "name": "stdout",
     "output_type": "stream",
     "text": [
      "we're about to obliterate 171 distinct initial conditions.\n"
     ]
    }
   ],
   "source": [
    "print(f\"we're about to obliterate {len(input_fn_list)} distinct initial conditions.\")"
   ]
  },
  {
   "cell_type": "code",
   "execution_count": 6,
   "metadata": {
    "ExecuteTime": {
     "end_time": "2020-11-04T18:35:54.407187Z",
     "start_time": "2020-11-04T18:35:54.395079Z"
    }
   },
   "outputs": [],
   "source": [
    "# !pip install dask\n",
    "# !pip install \"dask[utils]\" --upgrade\n",
    "# !pip install \"dask[distributed]\" --upgrade\n",
    "# from lib.birth_death_rates_from_ic import *\n",
    "\n",
    "# #make sure the max_time is large enough\n",
    "# print(f\"\"\"\n",
    "# 1 partition of my GPU serves {114 / (1*24)} trials per hour, on average.  \n",
    "# Here we consider 2D spiral defect chaos randomized initial conditions\n",
    "# that each evolve in time via GPU and each worker observe spiral tip locations via CPU.\n",
    "# \"\"\")\n",
    "# #TODO: check validity of result\n",
    "\n",
    "#TODO: get concurrent kernels kranking\n",
    "#TODO: try basic dask workers/daskbag workers on handling each of these of these kernels in concurrent asynchrony.\n",
    "#TODO: get all tasks to work on GPU\n",
    "#TODO: minimize data transfers"
   ]
  },
  {
   "cell_type": "code",
   "execution_count": 7,
   "metadata": {
    "ExecuteTime": {
     "end_time": "2020-11-04T18:35:54.567553Z",
     "start_time": "2020-11-04T18:35:54.555349Z"
    }
   },
   "outputs": [],
   "source": [
    "# from lib.tip_log_from_ic import *\n",
    "# from lib.birth_death_rates_from_ic import generate_tip_logs, birth_death_rates_from_ic\n",
    "#TODO: see if this discards the trackpy logging but allows .log writing to work when logging = True and printing = True\n",
    "# logger = logging.getLogger('my-logger')\n",
    "# logger.propagate = False\n",
    "\n",
    "# generate_tip_log_from_ic(input_file_name, nsteps=10**3)"
   ]
  },
  {
   "cell_type": "code",
   "execution_count": 8,
   "metadata": {
    "ExecuteTime": {
     "end_time": "2020-11-04T18:35:55.164079Z",
     "start_time": "2020-11-04T18:35:55.149677Z"
    }
   },
   "outputs": [
    {
     "data": {
      "text/plain": [
       "<function lib.routines.kwargs.get_kwargs(ic)>"
      ]
     },
     "execution_count": 8,
     "metadata": {},
     "output_type": "execute_result"
    }
   ],
   "source": [
    "# start = time.time()\n",
    "# retval = [generate_tip_log_from_ic(input_file_name) for input_file_name in input_fn_list]\n",
    "# print(f\"run time for generating birth-death rates from file_name_list: {time.time()-start:.2f} seconds.\")\n",
    "# beep(3)\n"
   ]
  },
  {
   "cell_type": "code",
   "execution_count": 2,
   "metadata": {
    "ExecuteTime": {
     "end_time": "2020-11-05T23:10:57.361083Z",
     "start_time": "2020-11-05T23:10:57.357891Z"
    }
   },
   "outputs": [],
   "source": [
    "# #slow CPU method that provides nonlocal topological information\n",
    "# from lib.routines.kwargs import get_kwargs\n",
    "# from lib.routines.generate_tip_logs import generate_tip_logs_from_ic\n",
    "# get_kwargs\n",
    "# def run_routine(ic):\n",
    "#     kwargs = get_kwargs(ic)\n",
    "#     kwargs = generate_tip_logs_from_ic(ic, **kwargs)\n",
    "#     return True"
   ]
  },
  {
   "cell_type": "code",
   "execution_count": 6,
   "metadata": {
    "ExecuteTime": {
     "end_time": "2020-11-05T23:18:34.198015Z",
     "start_time": "2020-11-05T23:18:34.191627Z"
    }
   },
   "outputs": [],
   "source": [
    "from lib.routines.kwargs_cy import get_kwargs\n",
    "from lib.routines.generate_tip_logs_cy import generate_tip_logs_from_ic\n",
    "get_kwargs\n",
    "def run_routine(ic):\n",
    "    kwargs = get_kwargs(ic)\n",
    "    kwargs = generate_tip_logs_from_ic(ic, **kwargs)\n",
    "    return True"
   ]
  },
  {
   "cell_type": "code",
   "execution_count": null,
   "metadata": {
    "ExecuteTime": {
     "start_time": "2020-11-04T18:35:59.081Z"
    }
   },
   "outputs": [],
   "source": [
    "#CPU spiral tips with GPU time steps\n",
    "# b = db.from_sequence(input_fn_list, npartitions=1).map(generate_tip_log_from_ic)\n",
    "\n",
    "#all CPU version\n",
    "# b = db.from_sequence(input_fn_list, npartitions=7).map(birth_death_rates_from_ic)\n",
    "b = db.from_sequence(input_fn_list, npartitions=7).map(run_routine)\n",
    "\n",
    "start = time.time()\n",
    "retval = list(b)\n",
    "print(f\"run time for generating birth-death rates from file_name_list: {time.time()-start:.2f} seconds.\")\n",
    "beep(3)"
   ]
  },
  {
   "cell_type": "code",
   "execution_count": 17,
   "metadata": {
    "ExecuteTime": {
     "end_time": "2020-09-24T21:39:15.102326Z",
     "start_time": "2020-09-24T21:39:15.087253Z"
    }
   },
   "outputs": [],
   "source": [
    "print('''LOOKING at the effect of padding:''')\n",
    "print('runtime A = 8 hours. padding = 10, edge_tol = 5, atol = 1e-10')\n",
    "print(f'halving the padding to the original took runtime B = {27100//60//60:.2f} hours, all else equal/caeteris paribus.')\n",
    "print('the termination times were exactly the same, which is to be expected.')\n",
    "print('however, the number of birth-death events went from ~2994 to 6926.  Oh my!  This suggests that the false tips are from the padding method.  Perhaps, it is from the blur function...')\n",
    "print('''\\Hypothesis: the source of error from padding is isolated to the call to measure.find_contours.  \n",
    "    Check this by getting the source of the implementation, explicitely forcing it to obey periodic boundary conditions, and then retrying.  IF it works, consider semi-optimizing it with numba.njit, then maybe with numba.cuda, but goodness not with pycuda.''')\n",
    "\n",
    "print('''\\nAlternative Test: check the dependency of birth death events for edge_tol = 20, padding = 21, overnight.  This should take ~8 hours anyway, and it's late... \n",
    "''')\n",
    "print(f'doubling the padding to the original took runtime B = {30850//60//60:.2f} hours, all else equal/caeteris paribus.')\n",
    "print('Im getting the same number of birth deaths as in the padding=5 case.  This suggests the problem is not in the padding.')\n",
    "\n"
   ]
  },
  {
   "cell_type": "markdown",
   "metadata": {},
   "source": [
    "Two parameters were switched in WJ's time step that led to the termination time increasing by approximately 1 order of magnitude.  tau_v1 and tau_v2."
   ]
  },
  {
   "cell_type": "code",
   "execution_count": 10,
   "metadata": {
    "ExecuteTime": {
     "end_time": "2020-09-01T16:00:34.683780Z",
     "start_time": "2020-09-01T16:00:34.648373Z"
    }
   },
   "outputs": [
    {
     "name": "stdout",
     "output_type": "stream",
     "text": [
      "giving jupyter 10GB of ram and more modestly expensive parameter settings, my ultrabook can run 0.122 trials per minute..\n",
      "giving jupyter its default ram and more more computationally expensive parameter settings, my ultrabook can run 1.326 trials per minute..\n",
      "<class 'float'>\n",
      "100000\n"
     ]
    }
   ],
   "source": [
    "print(f\"giving jupyter 10GB of ram and more modestly expensive parameter settings, my ultrabook can run {6/(49):.3f} trials per minute..\")\n",
    "\n",
    "print(f\"giving jupyter its default ram and more more computationally expensive parameter settings, my ultrabook can run {171/(9+2*60):.3f} trials per minute..\")\n",
    "print(type(retval[0]))\n",
    "print ( len (retval))\n",
    "#recording every 10 frames, pad = 20, h= 0.1 ms, D = 0.0005 cm^2/ms "
   ]
  },
  {
   "cell_type": "code",
   "execution_count": 12,
   "metadata": {
    "ExecuteTime": {
     "end_time": "2020-08-15T04:59:00.494706Z",
     "start_time": "2020-08-15T04:59:00.473902Z"
    }
   },
   "outputs": [
    {
     "name": "stdout",
     "output_type": "stream",
     "text": [
      "giving jupyter 10GB my ultrabook can run 4.384615 trials per minute.  Damn!\n"
     ]
    }
   ],
   "source": [
    "print(f\"giving jupyter 10GB of ram, my ultrabook can run {171/39:7f} trials per minute.  Damn!\")"
   ]
  },
  {
   "cell_type": "code",
   "execution_count": 13,
   "metadata": {
    "ExecuteTime": {
     "end_time": "2020-08-15T04:59:01.306490Z",
     "start_time": "2020-08-15T04:59:01.292264Z"
    }
   },
   "outputs": [
    {
     "name": "stdout",
     "output_type": "stream",
     "text": [
      "giving jupyter 60GB of ram, my ultrabook can run 3.815789 trials per minute.  Damn!\n"
     ]
    }
   ],
   "source": [
    "print(f\"giving jupyter 60GB of ram, my ultrabook can run {145/38:7f} trials per minute.  Damn!\")"
   ]
  },
  {
   "cell_type": "markdown",
   "metadata": {
    "ExecuteTime": {
     "end_time": "2020-08-13T23:51:17.019585Z",
     "start_time": "2020-08-13T23:51:16.992788Z"
    }
   },
   "source": [
    "# troubleshooting"
   ]
  },
  {
   "cell_type": "markdown",
   "metadata": {
    "heading_collapsed": true
   },
   "source": [
    "## testing the routine on 1 file from the folder"
   ]
  },
  {
   "cell_type": "code",
   "execution_count": 11,
   "metadata": {
    "ExecuteTime": {
     "end_time": "2020-08-14T22:53:35.212121Z",
     "start_time": "2020-08-14T22:53:35.183035Z"
    },
    "hidden": true
   },
   "outputs": [],
   "source": [
    "initial_condition_dir = '/Users/timothytyree/Documents/GitHub/care/notebooks/Data/initial-conditions-suite-1/ic-in/ic_200x200.121.33.npz'\n",
    "file = initial_condition_dir"
   ]
  },
  {
   "cell_type": "code",
   "execution_count": 7,
   "metadata": {
    "ExecuteTime": {
     "end_time": "2020-08-14T22:43:09.249359Z",
     "start_time": "2020-08-14T22:43:09.223535Z"
    },
    "hidden": true
   },
   "outputs": [],
   "source": [
    "kwargs = get_kwargs(file)"
   ]
  },
  {
   "cell_type": "code",
   "execution_count": 10,
   "metadata": {
    "ExecuteTime": {
     "end_time": "2020-08-14T22:45:08.203064Z",
     "start_time": "2020-08-14T22:45:08.168889Z"
    },
    "hidden": true
   },
   "outputs": [],
   "source": [
    "kwargs['beeping'] = True\n",
    "kwargs['asserting'] = True\n",
    "kwargs['plotting'] = True\n",
    "kwargs['printing'] = True\n",
    "kwargs['nsteps'] = 10**4"
   ]
  },
  {
   "cell_type": "code",
   "execution_count": 11,
   "metadata": {
    "ExecuteTime": {
     "end_time": "2020-08-14T22:46:45.020341Z",
     "start_time": "2020-08-14T22:45:08.650395Z"
    },
    "hidden": true
   },
   "outputs": [
    {
     "name": "stdout",
     "output_type": "stream",
     "text": [
      "loading initial conditions from: \n",
      "\t/Users/timothytyree/Documents/GitHub/care/notebooks/Data/initial-conditions-suite-1/ic-in/ic_200x200.121.33.npz.\n",
      "changed directory to save_folder: \n",
      "\t/Users/timothytyree/Documents/GitHub/care/notebooks/Data/initial-conditions-suite-1/ds_5_param_set_8/Log.\n"
     ]
    },
    {
     "data": {
      "image/png": "[encoded data removed]",
      "text/plain": [
       "<Figure size 360x360 with 1 Axes>"
      ]
     },
     "metadata": {
      "needs_background": "light"
     },
     "output_type": "display_data"
    },
    {
     "name": "stdout",
     "output_type": "stream",
     "text": [
      "sigma is 1.5, threshold is 0.6.\n",
      "pad is 5, rejection_distance is edge_tolerance is 3.\n",
      "starting simulation.  integrating no further than time 1000.000 milliseconds.\n",
      "Progress: |██████████████████████████████████████████████████| 100.0% Complete\n",
      "❤\n",
      "\n",
      "time integration complete. run time was 95.22 seconds in realtime\n",
      "current time is 1000.0 ms in simulation time.\n",
      "number of nan pixel voltages is 0.\n",
      "saved to:\n",
      "/Users/timothytyree/Documents/GitHub/care/notebooks/Data/initial-conditions-suite-1/ds_5_param_set_8/Log/ic_200x200.121.33_ds_5_sigma_1.5_threshold_0.6_log.csv\n"
     ]
    }
   ],
   "source": [
    "tip_log_dir, kwargs      = generate_tip_logs(initial_condition_dir=file, **kwargs)"
   ]
  },
  {
   "cell_type": "code",
   "execution_count": 13,
   "metadata": {
    "ExecuteTime": {
     "end_time": "2020-08-14T22:47:00.711443Z",
     "start_time": "2020-08-14T22:47:00.563531Z"
    },
    "hidden": true
   },
   "outputs": [
    {
     "name": "stdout",
     "output_type": "stream",
     "text": [
      "True it is that the file to be post processed exists,\n",
      "and the resulting \"_processed.csv\" was supplanted herein:\n",
      "\t/Users/timothytyree/Documents/GitHub/care/notebooks/Data/initial-conditions-suite-1/ds_5_param_set_8/Log/ic_200x200.121.33_ds_5_sigma_1.5_threshold_0.6_processed.csv\n"
     ]
    }
   ],
   "source": [
    "tip_position_dir = postprocess_tip_logs(tip_log_dir, **kwargs)"
   ]
  },
  {
   "cell_type": "code",
   "execution_count": 14,
   "metadata": {
    "ExecuteTime": {
     "end_time": "2020-08-14T22:47:15.119418Z",
     "start_time": "2020-08-14T22:47:14.059870Z"
    },
    "hidden": true
   },
   "outputs": [
    {
     "name": "stdout",
     "output_type": "stream",
     "text": [
      "loading .csv of size [?? 428 KB ??] from \n",
      "\t/Users/timothytyree/Documents/GitHub/care/notebooks/Data/initial-conditions-suite-1/ds_5_param_set_8/Log/ic_200x200.121.33_ds_5_sigma_1.5_threshold_0.6_processed.csv\n",
      "files will be saved in the folder: \n",
      "\t/Users/timothytyree/Documents/GitHub/care/notebooks/Data/initial-conditions-suite-1/ds_5_param_set_8/trajectories\n",
      "data_df_traj: ic_200x200.121.33_ds_5_sigma_1.5_threshold_0.6_sr_50_mem_2_traj.csv\n"
     ]
    }
   ],
   "source": [
    "data_fn_trajectories     = track_tip_trajectories(tip_position_dir, **kwargs)"
   ]
  },
  {
   "cell_type": "code",
   "execution_count": 16,
   "metadata": {
    "ExecuteTime": {
     "end_time": "2020-08-14T22:48:22.766214Z",
     "start_time": "2020-08-14T22:48:21.486663Z"
    },
    "hidden": true,
    "scrolled": true
   },
   "outputs": [
    {
     "name": "stdout",
     "output_type": "stream",
     "text": [
      "loading trajectories from data_fn_traj: ic_200x200.121.33_ds_5_sigma_1.5_threshold_0.6_sr_50_mem_2_traj.csv.\n",
      "birth death rates successfully saved in: ic_200x200.121.33_ds_5_sigma_1.5_threshold_0.6_sr_50_mem_2_tmin_100_LT_2_bdrates.csv\n"
     ]
    },
    {
     "data": {
      "image/png": "[encoded data removed]",
      "text/plain": [
       "<Figure size 432x360 with 1 Axes>"
      ]
     },
     "metadata": {
      "needs_background": "light"
     },
     "output_type": "display_data"
    }
   ],
   "source": [
    "data_fn_bdrates  = compute_birth_death_rates(data_fn_trajectories, **kwargs)"
   ]
  },
  {
   "cell_type": "code",
   "execution_count": 14,
   "metadata": {
    "ExecuteTime": {
     "end_time": "2020-08-14T22:54:32.162620Z",
     "start_time": "2020-08-14T22:54:14.229944Z"
    },
    "hidden": true
   },
   "outputs": [
    {
     "name": "stderr",
     "output_type": "stream",
     "text": [
      "Exception ignored on calling ctypes callback function: <function ExecutionEngine._raw_object_cache_notify at 0x11cacc790>\n",
      "Traceback (most recent call last):\n",
      "  File \"/usr/local/lib/python3.8/site-packages/llvmlite/binding/executionengine.py\", line 171, in _raw_object_cache_notify\n",
      "    def _raw_object_cache_notify(self, data):\n",
      "KeyboardInterrupt: \n"
     ]
    },
    {
     "ename": "KeyboardInterrupt",
     "evalue": "",
     "output_type": "error",
     "traceback": [
      "\u001b[0;31m---------------------------------------------------------------------------\u001b[0m",
      "\u001b[0;31mKeyboardInterrupt\u001b[0m                         Traceback (most recent call last)",
      "\u001b[0;32m<ipython-input-14-22d448e4498b>\u001b[0m in \u001b[0;36m<module>\u001b[0;34m\u001b[0m\n\u001b[0;32m----> 1\u001b[0;31m \u001b[0mbirth_death_rates_from_ic\u001b[0m\u001b[0;34m(\u001b[0m\u001b[0minitial_condition_dir\u001b[0m\u001b[0;34m)\u001b[0m\u001b[0;34m\u001b[0m\u001b[0;34m\u001b[0m\u001b[0m\n\u001b[0m",
      "\u001b[0;32m~/Documents/GitHub/care/notebooks/lib/birth_death_rates_from_ic.py\u001b[0m in \u001b[0;36mbirth_death_rates_from_ic\u001b[0;34m(ic)\u001b[0m\n\u001b[1;32m    717\u001b[0m \u001b[0;34m\u001b[0m\u001b[0m\n\u001b[1;32m    718\u001b[0m         \u001b[0;31m# main routine\u001b[0m\u001b[0;34m\u001b[0m\u001b[0;34m\u001b[0m\u001b[0;34m\u001b[0m\u001b[0m\n\u001b[0;32m--> 719\u001b[0;31m         \u001b[0mtip_log_dir\u001b[0m\u001b[0;34m,\u001b[0m \u001b[0mkwargs\u001b[0m      \u001b[0;34m=\u001b[0m \u001b[0mgenerate_tip_logs\u001b[0m\u001b[0;34m(\u001b[0m\u001b[0minitial_condition_dir\u001b[0m\u001b[0;34m=\u001b[0m\u001b[0mic\u001b[0m\u001b[0;34m,\u001b[0m \u001b[0;34m**\u001b[0m\u001b[0mkwargs\u001b[0m\u001b[0;34m)\u001b[0m\u001b[0;34m\u001b[0m\u001b[0;34m\u001b[0m\u001b[0m\n\u001b[0m\u001b[1;32m    720\u001b[0m         \u001b[0mtip_position_dir\u001b[0m \u001b[0;34m=\u001b[0m \u001b[0mpostprocess_tip_logs\u001b[0m\u001b[0;34m(\u001b[0m\u001b[0mtip_log_dir\u001b[0m\u001b[0;34m,\u001b[0m \u001b[0;34m**\u001b[0m\u001b[0mkwargs\u001b[0m\u001b[0;34m)\u001b[0m\u001b[0;34m\u001b[0m\u001b[0;34m\u001b[0m\u001b[0m\n\u001b[1;32m    721\u001b[0m         \u001b[0mdata_fn_trajectories\u001b[0m     \u001b[0;34m=\u001b[0m \u001b[0mtrack_tip_trajectories\u001b[0m\u001b[0;34m(\u001b[0m\u001b[0mtip_position_dir\u001b[0m\u001b[0;34m,\u001b[0m \u001b[0;34m**\u001b[0m\u001b[0mkwargs\u001b[0m\u001b[0;34m)\u001b[0m\u001b[0;34m\u001b[0m\u001b[0;34m\u001b[0m\u001b[0m\n",
      "\u001b[0;32m~/Documents/GitHub/care/notebooks/lib/birth_death_rates_from_ic.py\u001b[0m in \u001b[0;36mgenerate_tip_logs\u001b[0;34m(initial_condition_dir, **kwargs)\u001b[0m\n\u001b[1;32m    275\u001b[0m                 \u001b[0;32mif\u001b[0m \u001b[0;32mnot\u001b[0m \u001b[0mrecording\u001b[0m\u001b[0;34m:\u001b[0m\u001b[0;34m\u001b[0m\u001b[0;34m\u001b[0m\u001b[0m\n\u001b[1;32m    276\u001b[0m                         \u001b[0;31m#integrate explicitely in time\u001b[0m\u001b[0;34m\u001b[0m\u001b[0;34m\u001b[0m\u001b[0;34m\u001b[0m\u001b[0m\n\u001b[0;32m--> 277\u001b[0;31m                         \u001b[0mtime_step\u001b[0m\u001b[0;34m(\u001b[0m\u001b[0mtxt\u001b[0m\u001b[0;34m,\u001b[0m \u001b[0mh\u001b[0m\u001b[0;34m=\u001b[0m\u001b[0mh\u001b[0m\u001b[0;34m,\u001b[0m \u001b[0mzero_txt\u001b[0m\u001b[0;34m=\u001b[0m\u001b[0mzero_txt\u001b[0m\u001b[0;34m)\u001b[0m \u001b[0;31m#up to twice as fast as for separated calls\u001b[0m\u001b[0;34m\u001b[0m\u001b[0;34m\u001b[0m\u001b[0m\n\u001b[0m\u001b[1;32m    278\u001b[0m                         \u001b[0mtme\u001b[0m \u001b[0;34m+=\u001b[0m \u001b[0mh\u001b[0m\u001b[0;34m\u001b[0m\u001b[0;34m\u001b[0m\u001b[0m\n\u001b[1;32m    279\u001b[0m                 \u001b[0;32mif\u001b[0m \u001b[0mrecording\u001b[0m\u001b[0;34m:\u001b[0m\u001b[0;34m\u001b[0m\u001b[0;34m\u001b[0m\u001b[0m\n",
      "\u001b[0;31mKeyboardInterrupt\u001b[0m: "
     ]
    }
   ],
   "source": [
    "from lib.birth_death_rates_from_ic import *\n",
    "initial_condition_dir = '/Users/timothytyree/Documents/GitHub/care/notebooks/Data/initial-conditions-suite-1/ic-in/ic_200x200.121.33.npz'\n",
    "birth_death_rates_from_ic(initial_condition_dir)"
   ]
  },
  {
   "cell_type": "markdown",
   "metadata": {
    "ExecuteTime": {
     "end_time": "2020-08-14T22:54:12.287064Z",
     "start_time": "2020-08-14T22:54:12.261384Z"
    },
    "heading_collapsed": true
   },
   "source": [
    "## print kwargs"
   ]
  },
  {
   "cell_type": "code",
   "execution_count": 14,
   "metadata": {
    "ExecuteTime": {
     "end_time": "2020-08-17T00:29:44.027517Z",
     "start_time": "2020-08-17T00:29:44.013236Z"
    },
    "hidden": true
   },
   "outputs": [],
   "source": [
    "from lib.birth_death_rates_from_ic import _get_kwargs"
   ]
  },
  {
   "cell_type": "code",
   "execution_count": 15,
   "metadata": {
    "ExecuteTime": {
     "end_time": "2020-08-17T00:29:44.297810Z",
     "start_time": "2020-08-17T00:29:44.274729Z"
    },
    "hidden": true
   },
   "outputs": [
    {
     "data": {
      "text/plain": [
       "{'beeping': False,\n",
       " 'asserting': False,\n",
       " 'printing': True,\n",
       " 'plotting': False,\n",
       " 'logging': True,\n",
       " 'sigma': 1.5,\n",
       " 'threshold': 0.6,\n",
       " 'V_threshold': 0.5,\n",
       " 'edge_tolerance': 6,\n",
       " 'pad': 10,\n",
       " 'atol': 1e-10,\n",
       " 'color_values': None,\n",
       " 'h': 0.025,\n",
       " 'nsteps': 10000000,\n",
       " 'save_every_n_frames': 100,\n",
       " 'max_time': 250000.0,\n",
       " 'max_buffers_to_save': 0,\n",
       " 'buffers_saved_counter': 0,\n",
       " 'start_saving_buffers_at_step': 0,\n",
       " 'timing': False,\n",
       " 'recording_if_odd': True,\n",
       " 'recording': True,\n",
       " 'descrip': 'sigma_1.5_threshold_0.6',\n",
       " 'save': True,\n",
       " 'mem': 2,\n",
       " 'sr': 10,\n",
       " 'ds': 5,\n",
       " 'tmin': 100,\n",
       " 'LT_thresh': 0,\n",
       " 'base_dir': '/home/timothytyree/Documents/GitHub/care/notebooks/Data/initial-conditions-suite-2',\n",
       " 'base_save_dir': '/home/timothytyree/Documents/GitHub/care/notebooks/Data/initial-conditions-suite-2/ds_5_param_set_8',\n",
       " 'data_folder_bdrates': '/home/timothytyree/Documents/GitHub/care/notebooks/Data/initial-conditions-suite-2/ds_5_param_set_8/birth-death-rates',\n",
       " 'data_folder_traj': '/home/timothytyree/Documents/GitHub/care/notebooks/Data/initial-conditions-suite-2/ds_5_param_set_8/trajectories',\n",
       " 'data_folder_log': '/home/timothytyree/Documents/GitHub/care/notebooks/Data/initial-conditions-suite-2/ds_5_param_set_8/Log',\n",
       " 'data_fn': 'ic_200x200.001.11.npz',\n",
       " 'data_fn_log': 'ic_200x200.001.11_ds_5_sigma_1.5_threshold_0.6_log.csv',\n",
       " 'data_fn_tips': 'ic_200x200.001.11_ds_5_sigma_1.5_threshold_0.6_processed.csv',\n",
       " 'data_fn_traj': 'ic_200x200.001.11_ds_5_sigma_1.5_threshold_0.6_sr_10_mem_2_traj.csv',\n",
       " 'data_fn_bdrates': 'ic_200x200.001.11_ds_5_sigma_1.5_threshold_0.6_sr_10_mem_2_tmin_100_LT_0_bdrates.csv',\n",
       " 'data_dir_bdrates': '/home/timothytyree/Documents/GitHub/care/notebooks/Data/initial-conditions-suite-2/ds_5_param_set_8/birth-death-rates/ic_200x200.001.11_ds_5_sigma_1.5_threshold_0.6_sr_10_mem_2_tmin_100_LT_0_bdrates.csv',\n",
       " 'data_dir_traj': '/home/timothytyree/Documents/GitHub/care/notebooks/Data/initial-conditions-suite-2/ds_5_param_set_8/trajectories/ic_200x200.001.11_ds_5_sigma_1.5_threshold_0.6_sr_10_mem_2_traj.csv',\n",
       " 'data_dir_tips': '/home/timothytyree/Documents/GitHub/care/notebooks/Data/initial-conditions-suite-2/ds_5_param_set_8/Log/ic_200x200.001.11_ds_5_sigma_1.5_threshold_0.6_processed.csv',\n",
       " 'data_dir_log': '/home/timothytyree/Documents/GitHub/care/notebooks/Data/initial-conditions-suite-2/ds_5_param_set_8/Log/ic_200x200.001.11_ds_5_sigma_1.5_threshold_0.6_log.csv',\n",
       " 'print_log_dir': '/home/timothytyree/Documents/GitHub/care/notebooks/Data/initial-conditions-suite-2/ds_5_param_set_8/Log/ic_200x200.001.11_ds_5_sigma_1.5_threshold_0.6.log'}"
      ]
     },
     "execution_count": 15,
     "metadata": {},
     "output_type": "execute_result"
    }
   ],
   "source": [
    "_get_kwargs(file)"
   ]
  },
  {
   "cell_type": "code",
   "execution_count": 26,
   "metadata": {
    "ExecuteTime": {
     "end_time": "2020-08-16T22:48:57.604277Z",
     "start_time": "2020-08-16T22:48:57.589962Z"
    },
    "hidden": true
   },
   "outputs": [
    {
     "name": "stdout",
     "output_type": "stream",
     "text": [
      "giving jupyter its default ram and these more computationally expensive parameter settings, my ultrabook can run 0.112 trials per minute..\n"
     ]
    }
   ],
   "source": [
    "print(f\"giving jupyter its default ram and these more computationally expensive parameter settings, my ultrabook can run {145/(33+21*60):.3f} trials per minute..\")\n"
   ]
  },
  {
   "cell_type": "markdown",
   "metadata": {
    "heading_collapsed": true
   },
   "source": [
    "# TODO(later): for all input initial condition files in a folder, try generating the tip log with generate_tip_log_from_ic"
   ]
  },
  {
   "cell_type": "code",
   "execution_count": 2,
   "metadata": {
    "ExecuteTime": {
     "end_time": "2020-08-21T06:48:42.267440Z",
     "start_time": "2020-08-21T06:48:39.090983Z"
    },
    "hidden": true
   },
   "outputs": [
    {
     "name": "stdout",
     "output_type": "stream",
     "text": [
      "100000\n",
      "Automatic calling is: Smart\n"
     ]
    }
   ],
   "source": [
    "from lib.tip_log_from_ic import *\n",
    "%autocall 1\n",
    "%load_ext autoreload\n",
    "%autoreload 2"
   ]
  },
  {
   "cell_type": "code",
   "execution_count": 16,
   "metadata": {
    "ExecuteTime": {
     "end_time": "2020-08-21T07:03:47.894096Z",
     "start_time": "2020-08-21T07:03:39.953899Z"
    },
    "hidden": true
   },
   "outputs": [
    {
     "data": {
      "text/plain": [
       "'ic_200x200.005.21_log.csv'"
      ]
     },
     "execution_count": 16,
     "metadata": {},
     "output_type": "execute_result"
    }
   ],
   "source": []
  },
  {
   "cell_type": "code",
   "execution_count": null,
   "metadata": {
    "hidden": true
   },
   "outputs": [],
   "source": []
  },
  {
   "cell_type": "code",
   "execution_count": null,
   "metadata": {
    "hidden": true
   },
   "outputs": [],
   "source": []
  },
  {
   "cell_type": "code",
   "execution_count": null,
   "metadata": {
    "hidden": true
   },
   "outputs": [],
   "source": []
  },
  {
   "cell_type": "code",
   "execution_count": null,
   "metadata": {
    "hidden": true
   },
   "outputs": [],
   "source": []
  },
  {
   "cell_type": "code",
   "execution_count": null,
   "metadata": {
    "hidden": true
   },
   "outputs": [],
   "source": []
  }
 ],
 "metadata": {
  "kernelspec": {
   "display_name": "Python 3",
   "language": "python",
   "name": "python3"
  },
  "language_info": {
   "codemirror_mode": {
    "name": "ipython",
    "version": 3
   },
   "file_extension": ".py",
   "mimetype": "text/x-python",
   "name": "python",
   "nbconvert_exporter": "python",
   "pygments_lexer": "ipython3",
   "version": "3.8.5"
  },
  "toc": {
   "base_numbering": 1,
   "nav_menu": {},
   "number_sections": true,
   "sideBar": true,
   "skip_h1_title": false,
   "title_cell": "Table of Contents",
   "title_sidebar": "Contents",
   "toc_cell": false,
   "toc_position": {},
   "toc_section_display": true,
   "toc_window_display": false
  },
  "varInspector": {
   "cols": {
    "lenName": 16,
    "lenType": 16,
    "lenVar": 40
   },
   "kernels_config": {
    "python": {
     "delete_cmd_postfix": "",
     "delete_cmd_prefix": "del ",
     "library": "var_list.py",
     "varRefreshCmd": "print(var_dic_list())"
    },
    "r": {
     "delete_cmd_postfix": ") ",
     "delete_cmd_prefix": "rm(",
     "library": "var_list.r",
     "varRefreshCmd": "cat(var_dic_list()) "
    }
   },
   "position": {
    "height": "850.225px",
    "left": "235.021px",
    "right": "20px",
    "top": "6.96274px",
    "width": "800px"
   },
   "types_to_exclude": [
    "module",
    "function",
    "builtin_function_or_method",
    "instance",
    "_Feature"
   ],
   "window_display": false
  }
 },
 "nbformat": 4,
 "nbformat_minor": 4
}
