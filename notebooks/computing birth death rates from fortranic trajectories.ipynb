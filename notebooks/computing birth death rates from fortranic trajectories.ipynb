{
 "cells": [
  {
   "cell_type": "markdown",
   "id": "32206775",
   "metadata": {},
   "source": [
    "# computing birth death rates from fortranic trajectories\n",
    "Tim Tyree<br>\n",
    "7.7.2022"
   ]
  },
  {
   "cell_type": "code",
   "execution_count": 1,
   "id": "49267302",
   "metadata": {
    "ExecuteTime": {
     "end_time": "2022-08-06T23:56:18.664774Z",
     "start_time": "2022-08-06T23:56:17.279466Z"
    }
   },
   "outputs": [],
   "source": [
    "from lib.my_initialization import *\n",
    "from lib import *"
   ]
  },
  {
   "cell_type": "markdown",
   "id": "d4ca9c4a",
   "metadata": {},
   "source": [
    "# define module"
   ]
  },
  {
   "cell_type": "code",
   "execution_count": 2,
   "id": "7704a528",
   "metadata": {
    "ExecuteTime": {
     "end_time": "2022-08-06T23:56:18.671155Z",
     "start_time": "2022-08-06T23:56:18.666319Z"
    }
   },
   "outputs": [],
   "source": [
    "def comp_death_rate(df_n,n_trgt=6):\n",
    "    \"\"\"measure n_trgt --> n_trgt-2 times\n",
    "    \n",
    "    Example Usage:\n",
    "df_rate = comp_death_rates(df_n,n_trgt=6)\n",
    "    \"\"\"\n",
    "    boo_trgt=df_n==n_trgt\n",
    "    boo = ((df_n.shift(-1)==n_trgt-2)&(boo_trgt))\n",
    "    if not boo.any():\n",
    "        return None\n",
    "    boo_event=df_n.shift(-1).diff()!=0 #for n-2 only (simple)\n",
    "    event_times = boo_event[boo_event].index.values\n",
    "    #boo = ((df_n.shift(-1)==n_trgt-2)&(boo_trgt))\n",
    "    #count how many index values appear before each \n",
    "    dur_lst=[]\n",
    "    death_rate_lst=[]\n",
    "    for tf in boo[boo].index.values:\n",
    "        booev = event_times<tf\n",
    "        if booev.any():\n",
    "            ti = np.max(event_times[booev])\n",
    "            dur=tf-ti\n",
    "            dur_lst.append(dur)\n",
    "            death_rate_lst.append(1/dur)\n",
    "    df_rate = pd.DataFrame(dict({\n",
    "        'n_before':n_trgt,\n",
    "        'death_rate':death_rate_lst,\n",
    "        'dur':dur_lst,\n",
    "    }))\n",
    "    return df_rate"
   ]
  },
  {
   "cell_type": "code",
   "execution_count": 3,
   "id": "e827f177",
   "metadata": {
    "ExecuteTime": {
     "end_time": "2022-08-06T23:56:18.683885Z",
     "start_time": "2022-08-06T23:56:18.673326Z"
    }
   },
   "outputs": [],
   "source": [
    "def comp_death_rates(df_n):\n",
    "    \"\"\"df_n is a series (time series) of numbers, indexed by time.\n",
    "    comp_death_rates returns the transition rates in df_n as a pandas.DataFrame instance.\n",
    "    \n",
    "    Example Usage:\n",
    "df_rates = comp_death_rates(df_n)\n",
    "    \"\"\"\n",
    "    n_trgt_lst = sorted(df_n.drop_duplicates().values)\n",
    "    df_rate_lst=[]\n",
    "    for n_trgt in n_trgt_lst:\n",
    "        df_rate = comp_death_rate(df_n,n_trgt)\n",
    "        if df_rate is not None:\n",
    "            df_rate_lst.append(df_rate)\n",
    "    #if len(df_rate_lst)==0:\n",
    "    #    return None\n",
    "    df_rates = pd.concat(df_rate_lst)\n",
    "    return df_rates"
   ]
  },
  {
   "cell_type": "code",
   "execution_count": 4,
   "id": "981d539f",
   "metadata": {
    "ExecuteTime": {
     "end_time": "2022-08-06T23:56:18.695767Z",
     "start_time": "2022-08-06T23:56:18.685420Z"
    }
   },
   "outputs": [],
   "source": [
    "def eval_routine_compute_pair_annihilation_rates(log_folder_parquet,\n",
    "    npartitions=10,\n",
    "    drop_odd=True,\n",
    "    testing=True,\n",
    "    printing=True,**kwargs):\n",
    "    \"\"\"\n",
    "    Example Usage:\n",
    "df_rates = eval_routine_compute_pair_annihilation_rates(log_folder_parquet,\n",
    "    npartitions=10,drop_odd=True,\n",
    "    testing=True,printing=True)\n",
    "    \"\"\"\n",
    "    assert os.path.exists(log_folder_parquet)\n",
    "\n",
    "    max_trial_num=-9999\n",
    "    for fn in os.listdir(log_folder_parquet):\n",
    "        i=fn.find('=')\n",
    "        if i>-1:\n",
    "            trial_num = eval(fn[i+1:])\n",
    "            if trial_num>max_trial_num:\n",
    "                max_trial_num = trial_num\n",
    "\n",
    "    #test there is no fewer files than the max_trial_num\n",
    "    assert len(os.listdir(log_folder_parquet))>=max_trial_num\n",
    "\n",
    "    if printing:\n",
    "        print(f\"searching {log_folder_parquet}...\")\n",
    "        print(f\"found {max_trial_num} termination events\")\n",
    "        #print(f\"max trial num found: {max_trial_num}\")\n",
    "\n",
    "\n",
    "    task_lst=[]\n",
    "    for trial_num in list(range(max_trial_num+1)):\n",
    "        task_lst.append((trial_num,str(log_folder_parquet)))\n",
    "    if printing:\n",
    "        print(f\"added {len(task_lst)} tasks to task_lst!\")\n",
    "\n",
    "    def routine(task):\n",
    "        trial_num,log_folder_parquet=task\n",
    "        try:\n",
    "            df=load_parquet_by_trial_num(trial_num=trial_num,folder_parquet=log_folder_parquet)\n",
    "            df_n=df.groupby(by='t')['n'].mean()\n",
    "            df_rates = comp_death_rates(df_n)\n",
    "            df_rates['trial_num']=trial_num\n",
    "            return df_rates\n",
    "        except Exception as e:\n",
    "            return None\n",
    "\n",
    "    #fortranic spiral tip model test case\n",
    "    if testing:\n",
    "        task=task_lst[1]\n",
    "        rv = routine(task)\n",
    "        print(f\"test routine returned an instance of type: {type(rv)}\")\n",
    "        print(f\"{rv.shape=}\\nrv.head(5):\")\n",
    "        print(rv.head(5))\n",
    "\n",
    "\n",
    "    npartitions=np.min((npartitions,os.cpu_count()))\n",
    "    if printing:\n",
    "        print(f\"computing death rates for {len(task_lst)} termination times over {npartitions} cpu cores (estimated run time <6 seconds)...\")\n",
    "\n",
    "    retval=eval_routine_daskbag(routine,task_lst,npartitions,printing=True)\n",
    "    df_rates=pd.concat(retval)\n",
    "    df_rates.reset_index(inplace=True)\n",
    "\n",
    "    #identify any points with value for n_before that is odd\n",
    "    descr = df_rates.groupby(by='n_before')['death_rate'].describe()\n",
    "    boo_odd = 1==descr.index.values%2\n",
    "    if boo_odd.any():\n",
    "        if printing:\n",
    "            print(f\"warning: odd spiral tip counts were detected:\")\n",
    "            print(descr[boo_odd])\n",
    "\n",
    "    #(optionally) drop all such odd points\n",
    "    if drop_odd:\n",
    "        booodd = (df_rates['n_before']%2==1)\n",
    "        num_odd = np.sum(booodd)\n",
    "        df_rates.drop(index=df_rates[booodd].index,inplace=True)\n",
    "        if printing:\n",
    "            print(f\"dropped {num_odd} rows from df_rates for being odd.\")\n",
    "    if printing:\n",
    "        print(f\"rates were computed for {df_rates.shape[0]} pair-annihilation events. returning...\")\n",
    "    return df_rates"
   ]
  },
  {
   "cell_type": "code",
   "execution_count": 5,
   "id": "70cefb28",
   "metadata": {
    "ExecuteTime": {
     "end_time": "2022-08-06T23:56:18.705404Z",
     "start_time": "2022-08-06T23:56:18.697523Z"
    }
   },
   "outputs": [],
   "source": [
    "def boxplotscatter_plotter(ax,values_lst,xlabel_lst,\n",
    "                           scale_scatter=0.1,\n",
    "                           random_state=42,\n",
    "                           ylabel='MSR (a.u.)',\n",
    "                           fontsize=16,\n",
    "                           marker_size = 5, \n",
    "                           marker_color = 'k', \n",
    "                           marker_alpha = .5,\n",
    "                           rv_lst=None,\n",
    "                           notch=True, flierprops=dict(markerfacecolor='black', marker='D'),\n",
    "                           boxprops=dict(facecolor='gray'),\n",
    "                           medianprops = dict(color='black'), \n",
    "                           widths = 0.5, showfliers=False,\n",
    "                           **kwargs):\n",
    "    \"\"\"kwargs are passed directly to matplotlib.pyplot.boxplot\n",
    "    \n",
    "    Example Usage:\n",
    "figsize=(3,4)\n",
    "fig, ax = plt.subplots(figsize=figsize)   \n",
    "    \"\"\"\n",
    "    #diamond = dict(markerfacecolor='black', marker='D')\n",
    "    # mps = dict(color='black')\n",
    "    np.random.seed(random_state)\n",
    "    #randomly sample an x-offset for visualization purposes\n",
    "    if rv_lst is None:\n",
    "        rv_lst=[]\n",
    "        xpos=1\n",
    "        for values in values_lst:\n",
    "            #sample x-offset values\n",
    "            rv_1=np.random.rand(values.shape[0])\n",
    "            rv=scale_scatter*(rv_1-.5)+xpos\n",
    "            #record\n",
    "            rv_lst.append(rv)\n",
    "            #increment xpos\n",
    "            xpos+=1\n",
    "\n",
    "    #add scatter plot of data points\n",
    "    for zorder,(rv,values) in enumerate(zip(rv_lst,values_lst)):\n",
    "        ax.scatter(x = rv, y = values, s = marker_size, c= marker_color, alpha = marker_alpha, zorder=zorder+2)\n",
    "\n",
    "    #add box and whisker plot\n",
    "    # ax.boxplot(values, notch=True, flierprops=diamond,\n",
    "    #             labels = xlabel_lst,\n",
    "    #             patch_artist=True, boxprops=dict(facecolor='gray'),\n",
    "    #             medianprops = mps, widths = 0.5, showfliers=False,  zorder = 1  )\n",
    "    ax.boxplot(values_lst, notch=notch, flierprops=flierprops, labels = xlabel_lst,\n",
    "                patch_artist=True, boxprops=boxprops, medianprops = medianprops, widths = widths, showfliers=showfliers,  zorder = 1  ,**kwargs)\n",
    "    #format_plot\n",
    "    format_plot(ax=ax,xlabel='',ylabel=ylabel,fontsize=fontsize)\n",
    "    return ax\n"
   ]
  },
  {
   "cell_type": "code",
   "execution_count": 40,
   "id": "69090d0b",
   "metadata": {
    "ExecuteTime": {
     "end_time": "2022-08-07T00:38:23.021529Z",
     "start_time": "2022-08-07T00:38:23.017719Z"
    }
   },
   "outputs": [],
   "source": [
    "#TODO: move to lib.measures\n",
    "def bootstrap_95CI_values_lst(values_lst,num_samples=1000):\n",
    "    \"\"\"\n",
    "    Example Usage:\n",
    "df_bar = bootstrap_95CI_values_lst(values_lst,num_samples=1000)\n",
    "    \"\"\"\n",
    "    dic_lst=[]\n",
    "    for values in values_lst:\n",
    "        Delta_mean,p=bootstrap_95CI_Delta_mean(values,num_samples=num_samples)\n",
    "        dic=dict(xbar=np.mean(values),\n",
    "                 Delta_xbar=Delta_mean,\n",
    "                 p_xbar=p,\n",
    "                 num_obs_xbar=values.shape[0])\n",
    "        dic_lst.append(dic)\n",
    "    df_bar=pd.DataFrame(dic_lst)\n",
    "    return df_bar"
   ]
  },
  {
   "cell_type": "code",
   "execution_count": 68,
   "id": "bbda8352",
   "metadata": {
    "ExecuteTime": {
     "end_time": "2022-08-07T00:49:20.588773Z",
     "start_time": "2022-08-07T00:49:20.585039Z"
    }
   },
   "outputs": [],
   "source": [
    "def recall_domain_area_parquet(log_folder_parquet,DS=0.025, round_area_to_n_digits=7):\n",
    "    \"\"\"DS is in units of centimeters betweeen units in the computational domain.\n",
    "    recall_domain_area_parquet supposes anisotropy of a rectangular computational domain.\n",
    "    \n",
    "    Example Usage:\n",
    "area = recall_domain_area_parquet(log_folder_parquet,DS=0.025)\n",
    "    \"\"\"\n",
    "    df=load_parquet_by_trial_num(trial_num=0,folder_parquet=log_folder_parquet)\n",
    "    width=np.around(df.x.max())\n",
    "    height=np.around(df.y.max())\n",
    "    area=DS**2*width*height\n",
    "    return np.around(area,round_area_to_n_digits)"
   ]
  },
  {
   "cell_type": "markdown",
   "id": "661a3a06",
   "metadata": {},
   "source": [
    "# dev"
   ]
  },
  {
   "cell_type": "markdown",
   "id": "a80f80d8",
   "metadata": {},
   "source": [
    "death_rate for n=6 --> n=4:    0.299402 Hz\n",
    "\n",
    "Q: Does ^this agree with previously known values?\n",
    "\n",
    "\n",
    "- 1/11.68 >>> 0.08561643835616438\n",
    "\n",
    "_from wj's table for LR (A=25):_\n",
    "\n",
    "No2, rate\n",
    "2, 0.01820\n",
    "3, 0.0377\n",
    "\n",
    "\n",
    "- 1/0.0182 >>> 54.94505494505494\n",
    "- 1/0.0377 >>> 26.525198938992045\n",
    "\n",
    "conclusion: these rates are ~0.5X what i get from WJ's data for the LR model when diffCoeff=0.001.\n",
    "\n",
    "THEREFORE: the annihilation rates in the LR model for Vidmar & Rappel (2019) DO in fact have diffCoeff=0.0005 for the LR model.\n",
    "\n",
    "i.e. first pass suggests __WJ did not use tip_pos_001 to compute bdrates in Vidmar & Rappel (2019)__"
   ]
  },
  {
   "cell_type": "code",
   "execution_count": null,
   "id": "16eaf4a6",
   "metadata": {},
   "outputs": [],
   "source": [
    "range_data_dir='/home/timothytyree/Documents/GitHub/care/notebooks/Data/from_wjr/positions_fk/200x200/tippos_per_c_005_creation_range_timeseries.pkl'\n",
    "range_data_dir='/home/timothytyree/Documents/GitHub/care/notebooks/Data/from_wjr/positions_fk/250x250/tippos_per_001_creation_range_timeseries.pkl'\n"
   ]
  },
  {
   "cell_type": "code",
   "execution_count": null,
   "id": "c61f4274",
   "metadata": {},
   "outputs": [],
   "source": []
  },
  {
   "cell_type": "code",
   "execution_count": 6,
   "id": "7f6ed215",
   "metadata": {
    "ExecuteTime": {
     "end_time": "2022-08-06T23:56:18.712049Z",
     "start_time": "2022-08-06T23:56:18.706932Z"
    }
   },
   "outputs": [],
   "source": [
    "data_folder = f'{nb_dir}/Data'\n",
    "log_folder_parquet=f'{data_folder}/from_wjr/tippos_per_001_log/'\n",
    "printing=True\n",
    "\n"
   ]
  },
  {
   "cell_type": "code",
   "execution_count": 7,
   "id": "61e57783",
   "metadata": {
    "ExecuteTime": {
     "end_time": "2022-08-06T23:56:24.290993Z",
     "start_time": "2022-08-06T23:56:18.714248Z"
    }
   },
   "outputs": [
    {
     "name": "stdout",
     "output_type": "stream",
     "text": [
      "searching /home/timothytyree/Documents/GitHub/care/notebooks/Data/from_wjr/tippos_per_001_log/...\n",
      "found 640 termination events\n",
      "added 641 tasks to task_lst!\n",
      "test routine returned an instance of type: <class 'pandas.core.frame.DataFrame'>\n",
      "rv.shape=(17, 4)\n",
      "rv.head(5):\n",
      "   n_before  death_rate   dur  trial_num\n",
      "0       4.0    0.043478  23.0          1\n",
      "1       4.0    0.500000   2.0          1\n",
      "2       4.0    0.083333  12.0          1\n",
      "0       6.0    0.333333   3.0          1\n",
      "1       6.0    0.020833  48.0          1\n",
      "computing death rates for 641 termination times over 10 cpu cores (estimated run time <6 seconds)...\n",
      "run time for evaluating routine was 5.40 seconds, yielding 641 values returned\n",
      "warning: odd spiral tip counts were detected:\n",
      "          count  mean  std  min  25%  50%  75%  max\n",
      "n_before                                           \n",
      "13.0        1.0   1.0  NaN  1.0  1.0  1.0  1.0  1.0\n",
      "dropped 1 rows from df_rates for being odd.\n",
      "rates were computed for 16095 pair-annihilation events. returning...\n"
     ]
    }
   ],
   "source": [
    "df_rates = eval_routine_compute_pair_annihilation_rates(log_folder_parquet,\n",
    "    npartitions=10,drop_odd=True,\n",
    "    testing=True,printing=True)"
   ]
  },
  {
   "cell_type": "code",
   "execution_count": 8,
   "id": "f418a43a",
   "metadata": {
    "ExecuteTime": {
     "end_time": "2022-08-06T23:56:24.329148Z",
     "start_time": "2022-08-06T23:56:24.293057Z"
    }
   },
   "outputs": [
    {
     "name": "stdout",
     "output_type": "stream",
     "text": [
      "summary stats for each particle density:\n"
     ]
    },
    {
     "data": {
      "text/html": [
       "<div>\n",
       "<style scoped>\n",
       "    .dataframe tbody tr th:only-of-type {\n",
       "        vertical-align: middle;\n",
       "    }\n",
       "\n",
       "    .dataframe tbody tr th {\n",
       "        vertical-align: top;\n",
       "    }\n",
       "\n",
       "    .dataframe thead th {\n",
       "        text-align: right;\n",
       "    }\n",
       "</style>\n",
       "<table border=\"1\" class=\"dataframe\">\n",
       "  <thead>\n",
       "    <tr style=\"text-align: right;\">\n",
       "      <th>n_before</th>\n",
       "      <th>4.0</th>\n",
       "      <th>6.0</th>\n",
       "      <th>8.0</th>\n",
       "      <th>10.0</th>\n",
       "      <th>12.0</th>\n",
       "      <th>14.0</th>\n",
       "      <th>16.0</th>\n",
       "      <th>18.0</th>\n",
       "      <th>20.0</th>\n",
       "      <th>22.0</th>\n",
       "      <th>24.0</th>\n",
       "    </tr>\n",
       "  </thead>\n",
       "  <tbody>\n",
       "    <tr>\n",
       "      <th>count</th>\n",
       "      <td>2591.000000</td>\n",
       "      <td>4348.000000</td>\n",
       "      <td>4154.000000</td>\n",
       "      <td>2723.000000</td>\n",
       "      <td>1393.000000</td>\n",
       "      <td>577.000000</td>\n",
       "      <td>227.000000</td>\n",
       "      <td>62.000000</td>\n",
       "      <td>12.000000</td>\n",
       "      <td>6.000000</td>\n",
       "      <td>2.000000</td>\n",
       "    </tr>\n",
       "    <tr>\n",
       "      <th>mean</th>\n",
       "      <td>0.234416</td>\n",
       "      <td>0.299811</td>\n",
       "      <td>0.352814</td>\n",
       "      <td>0.423704</td>\n",
       "      <td>0.483605</td>\n",
       "      <td>0.506077</td>\n",
       "      <td>0.586733</td>\n",
       "      <td>0.595507</td>\n",
       "      <td>0.561111</td>\n",
       "      <td>0.677778</td>\n",
       "      <td>0.750000</td>\n",
       "    </tr>\n",
       "    <tr>\n",
       "      <th>std</th>\n",
       "      <td>0.296212</td>\n",
       "      <td>0.333146</td>\n",
       "      <td>0.342731</td>\n",
       "      <td>0.360508</td>\n",
       "      <td>0.364168</td>\n",
       "      <td>0.369552</td>\n",
       "      <td>0.362887</td>\n",
       "      <td>0.352727</td>\n",
       "      <td>0.351284</td>\n",
       "      <td>0.386820</td>\n",
       "      <td>0.353553</td>\n",
       "    </tr>\n",
       "    <tr>\n",
       "      <th>min</th>\n",
       "      <td>0.006494</td>\n",
       "      <td>0.007812</td>\n",
       "      <td>0.010753</td>\n",
       "      <td>0.018182</td>\n",
       "      <td>0.024390</td>\n",
       "      <td>0.027778</td>\n",
       "      <td>0.033333</td>\n",
       "      <td>0.083333</td>\n",
       "      <td>0.166667</td>\n",
       "      <td>0.066667</td>\n",
       "      <td>0.500000</td>\n",
       "    </tr>\n",
       "    <tr>\n",
       "      <th>25%</th>\n",
       "      <td>0.043478</td>\n",
       "      <td>0.062500</td>\n",
       "      <td>0.090909</td>\n",
       "      <td>0.125000</td>\n",
       "      <td>0.166667</td>\n",
       "      <td>0.166667</td>\n",
       "      <td>0.250000</td>\n",
       "      <td>0.270833</td>\n",
       "      <td>0.200000</td>\n",
       "      <td>0.500000</td>\n",
       "      <td>0.625000</td>\n",
       "    </tr>\n",
       "    <tr>\n",
       "      <th>50%</th>\n",
       "      <td>0.111111</td>\n",
       "      <td>0.142857</td>\n",
       "      <td>0.200000</td>\n",
       "      <td>0.250000</td>\n",
       "      <td>0.333333</td>\n",
       "      <td>0.333333</td>\n",
       "      <td>0.500000</td>\n",
       "      <td>0.500000</td>\n",
       "      <td>0.500000</td>\n",
       "      <td>0.750000</td>\n",
       "      <td>0.750000</td>\n",
       "    </tr>\n",
       "    <tr>\n",
       "      <th>75%</th>\n",
       "      <td>0.250000</td>\n",
       "      <td>0.333333</td>\n",
       "      <td>0.500000</td>\n",
       "      <td>1.000000</td>\n",
       "      <td>1.000000</td>\n",
       "      <td>1.000000</td>\n",
       "      <td>1.000000</td>\n",
       "      <td>1.000000</td>\n",
       "      <td>1.000000</td>\n",
       "      <td>1.000000</td>\n",
       "      <td>0.875000</td>\n",
       "    </tr>\n",
       "    <tr>\n",
       "      <th>max</th>\n",
       "      <td>1.000000</td>\n",
       "      <td>1.000000</td>\n",
       "      <td>1.000000</td>\n",
       "      <td>1.000000</td>\n",
       "      <td>1.000000</td>\n",
       "      <td>1.000000</td>\n",
       "      <td>1.000000</td>\n",
       "      <td>1.000000</td>\n",
       "      <td>1.000000</td>\n",
       "      <td>1.000000</td>\n",
       "      <td>1.000000</td>\n",
       "    </tr>\n",
       "  </tbody>\n",
       "</table>\n",
       "</div>"
      ],
      "text/plain": [
       "n_before         4.0          6.0          8.0          10.0         12.0  \\\n",
       "count     2591.000000  4348.000000  4154.000000  2723.000000  1393.000000   \n",
       "mean         0.234416     0.299811     0.352814     0.423704     0.483605   \n",
       "std          0.296212     0.333146     0.342731     0.360508     0.364168   \n",
       "min          0.006494     0.007812     0.010753     0.018182     0.024390   \n",
       "25%          0.043478     0.062500     0.090909     0.125000     0.166667   \n",
       "50%          0.111111     0.142857     0.200000     0.250000     0.333333   \n",
       "75%          0.250000     0.333333     0.500000     1.000000     1.000000   \n",
       "max          1.000000     1.000000     1.000000     1.000000     1.000000   \n",
       "\n",
       "n_before        14.0        16.0       18.0       20.0      22.0      24.0  \n",
       "count     577.000000  227.000000  62.000000  12.000000  6.000000  2.000000  \n",
       "mean        0.506077    0.586733   0.595507   0.561111  0.677778  0.750000  \n",
       "std         0.369552    0.362887   0.352727   0.351284  0.386820  0.353553  \n",
       "min         0.027778    0.033333   0.083333   0.166667  0.066667  0.500000  \n",
       "25%         0.166667    0.250000   0.270833   0.200000  0.500000  0.625000  \n",
       "50%         0.333333    0.500000   0.500000   0.500000  0.750000  0.750000  \n",
       "75%         1.000000    1.000000   1.000000   1.000000  1.000000  0.875000  \n",
       "max         1.000000    1.000000   1.000000   1.000000  1.000000  1.000000  "
      ]
     },
     "execution_count": 8,
     "metadata": {},
     "output_type": "execute_result"
    }
   ],
   "source": [
    "print(f\"summary stats for each particle density:\")\n",
    "df_rates.groupby(by='n_before')['death_rate'].describe().T"
   ]
  },
  {
   "cell_type": "code",
   "execution_count": 47,
   "id": "27e7821b",
   "metadata": {
    "ExecuteTime": {
     "end_time": "2022-08-07T00:41:23.333476Z",
     "start_time": "2022-08-07T00:41:23.328762Z"
    }
   },
   "outputs": [],
   "source": [
    "#generate boxplot data\n",
    "values_lst=[]\n",
    "xlabel_lst=[]\n",
    "xval_lst=[]\n",
    "for n,g in df_rates.groupby(by='n_before'):\n",
    "    x=g['death_rate'].values\n",
    "    values_lst.append(x)\n",
    "    xlabel_lst.append(f\"n: {int(n)}\"+r\"$\\rightarrow$\"+f\"{int(n-2)}\")\n",
    "    xval_lst.append(int(n))"
   ]
  },
  {
   "cell_type": "code",
   "execution_count": 48,
   "id": "66473b11",
   "metadata": {
    "ExecuteTime": {
     "end_time": "2022-08-07T00:41:25.608709Z",
     "start_time": "2022-08-07T00:41:25.361696Z"
    }
   },
   "outputs": [
    {
     "data": {
      "image/png": "[encoded data removed]",
      "text/plain": [
       "<Figure size 576x288 with 1 Axes>"
      ]
     },
     "metadata": {
      "needs_background": "light"
     },
     "output_type": "display_data"
    }
   ],
   "source": [
    "figsize=(8,4)\n",
    "fig, ax = plt.subplots(figsize=figsize)   \n",
    "boxplotscatter_plotter(ax,values_lst,xlabel_lst,random_state=42,\n",
    "                           ylabel='Pair-Annihilation Rate (kHz)',fontsize=16,notch=False,scale_scatter=0.5,marker_alpha=1)#,**kwargs)\n",
    "# ax.errorbar(bar_label_lst[0],bar_height_values[0],Delta_bar_height_values[0],alpha=0.9,color=color_lst[0])\n",
    "# ax.set_title(title,fontsize=fontsize)\n",
    "# plt.gca().yaxis.set_major_formatter(mtick.PercentFormatter())\n",
    "plt.sca(ax)\n",
    "plt.xticks(rotation=45)\n",
    "plt.show()"
   ]
  },
  {
   "cell_type": "code",
   "execution_count": 49,
   "id": "e1753647",
   "metadata": {
    "ExecuteTime": {
     "end_time": "2022-08-07T00:41:25.762584Z",
     "start_time": "2022-08-07T00:41:25.760475Z"
    }
   },
   "outputs": [],
   "source": [
    "#DONE: generate sweet boxand whisker plot\n",
    "#DONE: wrapped the evaluation routine into a sweet two-linear call to my foo\n",
    "#DONE: dev on two docstrings for pipeline io"
   ]
  },
  {
   "cell_type": "code",
   "execution_count": null,
   "id": "9eccbe8e",
   "metadata": {
    "ExecuteTime": {
     "end_time": "2022-08-07T00:34:44.125190Z",
     "start_time": "2022-08-07T00:34:44.121855Z"
    }
   },
   "outputs": [],
   "source": []
  },
  {
   "cell_type": "code",
   "execution_count": 50,
   "id": "47e4628e",
   "metadata": {
    "ExecuteTime": {
     "end_time": "2022-08-07T00:41:26.786976Z",
     "start_time": "2022-08-07T00:41:26.783550Z"
    }
   },
   "outputs": [
    {
     "data": {
      "text/plain": [
       "[4, 6, 8, 10, 12, 14, 16, 18, 20, 22, 24]"
      ]
     },
     "execution_count": 50,
     "metadata": {},
     "output_type": "execute_result"
    }
   ],
   "source": []
  },
  {
   "cell_type": "code",
   "execution_count": 55,
   "id": "2c6a29a3",
   "metadata": {
    "ExecuteTime": {
     "end_time": "2022-08-07T00:42:38.729624Z",
     "start_time": "2022-08-07T00:42:38.723466Z"
    }
   },
   "outputs": [
    {
     "data": {
      "text/html": [
       "<div>\n",
       "<style scoped>\n",
       "    .dataframe tbody tr th:only-of-type {\n",
       "        vertical-align: middle;\n",
       "    }\n",
       "\n",
       "    .dataframe tbody tr th {\n",
       "        vertical-align: top;\n",
       "    }\n",
       "\n",
       "    .dataframe thead th {\n",
       "        text-align: right;\n",
       "    }\n",
       "</style>\n",
       "<table border=\"1\" class=\"dataframe\">\n",
       "  <thead>\n",
       "    <tr style=\"text-align: right;\">\n",
       "      <th></th>\n",
       "      <th>xbar</th>\n",
       "      <th>Delta_xbar</th>\n",
       "      <th>p_xbar</th>\n",
       "      <th>num_obs_xbar</th>\n",
       "    </tr>\n",
       "  </thead>\n",
       "  <tbody>\n",
       "    <tr>\n",
       "      <th>0</th>\n",
       "      <td>0.234416</td>\n",
       "      <td>0.011621</td>\n",
       "      <td>5.356678e-01</td>\n",
       "      <td>2591</td>\n",
       "    </tr>\n",
       "    <tr>\n",
       "      <th>1</th>\n",
       "      <td>0.299811</td>\n",
       "      <td>0.009794</td>\n",
       "      <td>9.832851e-02</td>\n",
       "      <td>4348</td>\n",
       "    </tr>\n",
       "    <tr>\n",
       "      <th>2</th>\n",
       "      <td>0.352814</td>\n",
       "      <td>0.010557</td>\n",
       "      <td>7.050306e-02</td>\n",
       "      <td>4154</td>\n",
       "    </tr>\n",
       "    <tr>\n",
       "      <th>3</th>\n",
       "      <td>0.423704</td>\n",
       "      <td>0.013220</td>\n",
       "      <td>9.047911e-01</td>\n",
       "      <td>2723</td>\n",
       "    </tr>\n",
       "    <tr>\n",
       "      <th>4</th>\n",
       "      <td>0.483605</td>\n",
       "      <td>0.019779</td>\n",
       "      <td>6.473701e-01</td>\n",
       "      <td>1393</td>\n",
       "    </tr>\n",
       "    <tr>\n",
       "      <th>5</th>\n",
       "      <td>0.506077</td>\n",
       "      <td>0.031268</td>\n",
       "      <td>7.118972e-02</td>\n",
       "      <td>577</td>\n",
       "    </tr>\n",
       "    <tr>\n",
       "      <th>6</th>\n",
       "      <td>0.586733</td>\n",
       "      <td>0.047563</td>\n",
       "      <td>1.228405e-01</td>\n",
       "      <td>227</td>\n",
       "    </tr>\n",
       "    <tr>\n",
       "      <th>7</th>\n",
       "      <td>0.595507</td>\n",
       "      <td>0.082597</td>\n",
       "      <td>7.068063e-01</td>\n",
       "      <td>62</td>\n",
       "    </tr>\n",
       "    <tr>\n",
       "      <th>8</th>\n",
       "      <td>0.561111</td>\n",
       "      <td>0.187316</td>\n",
       "      <td>4.245290e-02</td>\n",
       "      <td>12</td>\n",
       "    </tr>\n",
       "    <tr>\n",
       "      <th>9</th>\n",
       "      <td>0.677778</td>\n",
       "      <td>0.285468</td>\n",
       "      <td>2.893509e-04</td>\n",
       "      <td>6</td>\n",
       "    </tr>\n",
       "    <tr>\n",
       "      <th>10</th>\n",
       "      <td>0.750000</td>\n",
       "      <td>0.343291</td>\n",
       "      <td>4.162838e-39</td>\n",
       "      <td>2</td>\n",
       "    </tr>\n",
       "  </tbody>\n",
       "</table>\n",
       "</div>"
      ],
      "text/plain": [
       "        xbar  Delta_xbar        p_xbar  num_obs_xbar\n",
       "0   0.234416    0.011621  5.356678e-01          2591\n",
       "1   0.299811    0.009794  9.832851e-02          4348\n",
       "2   0.352814    0.010557  7.050306e-02          4154\n",
       "3   0.423704    0.013220  9.047911e-01          2723\n",
       "4   0.483605    0.019779  6.473701e-01          1393\n",
       "5   0.506077    0.031268  7.118972e-02           577\n",
       "6   0.586733    0.047563  1.228405e-01           227\n",
       "7   0.595507    0.082597  7.068063e-01            62\n",
       "8   0.561111    0.187316  4.245290e-02            12\n",
       "9   0.677778    0.285468  2.893509e-04             6\n",
       "10  0.750000    0.343291  4.162838e-39             2"
      ]
     },
     "execution_count": 55,
     "metadata": {},
     "output_type": "execute_result"
    }
   ],
   "source": [
    "df_bar"
   ]
  },
  {
   "cell_type": "code",
   "execution_count": 77,
   "id": "3e2fc1c0",
   "metadata": {
    "ExecuteTime": {
     "end_time": "2022-08-07T00:55:09.704888Z",
     "start_time": "2022-08-07T00:55:09.302497Z"
    }
   },
   "outputs": [
    {
     "data": {
      "text/html": [
       "<div>\n",
       "<style scoped>\n",
       "    .dataframe tbody tr th:only-of-type {\n",
       "        vertical-align: middle;\n",
       "    }\n",
       "\n",
       "    .dataframe tbody tr th {\n",
       "        vertical-align: top;\n",
       "    }\n",
       "\n",
       "    .dataframe thead th {\n",
       "        text-align: right;\n",
       "    }\n",
       "</style>\n",
       "<table border=\"1\" class=\"dataframe\">\n",
       "  <thead>\n",
       "    <tr style=\"text-align: right;\">\n",
       "      <th></th>\n",
       "      <th>xbar</th>\n",
       "      <th>Delta_xbar</th>\n",
       "      <th>p_xbar</th>\n",
       "      <th>num_obs_xbar</th>\n",
       "    </tr>\n",
       "  </thead>\n",
       "  <tbody>\n",
       "    <tr>\n",
       "      <th>0</th>\n",
       "      <td>0.234416</td>\n",
       "      <td>0.011325</td>\n",
       "      <td>0.908178</td>\n",
       "      <td>2591</td>\n",
       "    </tr>\n",
       "    <tr>\n",
       "      <th>1</th>\n",
       "      <td>0.299811</td>\n",
       "      <td>0.009761</td>\n",
       "      <td>0.479242</td>\n",
       "      <td>4348</td>\n",
       "    </tr>\n",
       "    <tr>\n",
       "      <th>2</th>\n",
       "      <td>0.352814</td>\n",
       "      <td>0.010719</td>\n",
       "      <td>0.158870</td>\n",
       "      <td>4154</td>\n",
       "    </tr>\n",
       "    <tr>\n",
       "      <th>3</th>\n",
       "      <td>0.423704</td>\n",
       "      <td>0.014478</td>\n",
       "      <td>0.596363</td>\n",
       "      <td>2723</td>\n",
       "    </tr>\n",
       "    <tr>\n",
       "      <th>4</th>\n",
       "      <td>0.483605</td>\n",
       "      <td>0.019313</td>\n",
       "      <td>0.410485</td>\n",
       "      <td>1393</td>\n",
       "    </tr>\n",
       "  </tbody>\n",
       "</table>\n",
       "</div>"
      ],
      "text/plain": [
       "       xbar  Delta_xbar    p_xbar  num_obs_xbar\n",
       "0  0.234416    0.011325  0.908178          2591\n",
       "1  0.299811    0.009761  0.479242          4348\n",
       "2  0.352814    0.010719  0.158870          4154\n",
       "3  0.423704    0.014478  0.596363          2723\n",
       "4  0.483605    0.019313  0.410485          1393"
      ]
     },
     "execution_count": 77,
     "metadata": {},
     "output_type": "execute_result"
    }
   ],
   "source": [
    "df_bar = bootstrap_95CI_values_lst(values_lst,num_samples=1000)\n",
    "df_bar.head()"
   ]
  },
  {
   "cell_type": "code",
   "execution_count": 82,
   "id": "87419475",
   "metadata": {
    "ExecuteTime": {
     "end_time": "2022-08-07T00:58:49.090194Z",
     "start_time": "2022-08-07T00:58:49.087861Z"
    }
   },
   "outputs": [],
   "source": [
    "#TODO: print mean values with 95% ci\n",
    "#HINT: \n",
    "# print(f\"x --> ybar:\")\n",
    "# x_lst=[]\n",
    "# y_lst=[]\n",
    "# for x,xlabel in enumerate(xval_lst):\n",
    "#     ybar=df_bar.loc[x]\n",
    "#     print(f\"{x} --> {dict(ybar)}\")"
   ]
  },
  {
   "cell_type": "code",
   "execution_count": 86,
   "id": "4047016b",
   "metadata": {
    "ExecuteTime": {
     "end_time": "2022-08-07T01:01:00.828801Z",
     "start_time": "2022-08-07T01:01:00.822113Z"
    }
   },
   "outputs": [],
   "source": [
    "#DONE: infer domain size of the folder\n",
    "area = recall_domain_area_parquet(log_folder_parquet,DS=0.025)"
   ]
  },
  {
   "cell_type": "code",
   "execution_count": 87,
   "id": "6b089cae",
   "metadata": {
    "ExecuteTime": {
     "end_time": "2022-08-07T01:01:01.680058Z",
     "start_time": "2022-08-07T01:01:01.674409Z"
    }
   },
   "outputs": [],
   "source": [
    "use_final_n=False\n",
    "#DONE: compute xy values\n",
    "df_bar['n_before']=xval_lst\n",
    "df_bar['death_rate']=df_bar['xbar']\n",
    "df_bar['Delta_death_rate']=df_bar['Delta_xbar']\n",
    "if use_final_n:\n",
    "    df_bar['q']=(df_bar['n_before']-2)/area\n",
    "else:\n",
    "    df_bar['q']=df_bar['n_before']/area\n",
    "df_bar['w']=df_bar['death_rate']/area\n",
    "df_bar['Delta_w']=df_bar['Delta_death_rate']/area"
   ]
  },
  {
   "cell_type": "code",
   "execution_count": 99,
   "id": "2be7238a",
   "metadata": {
    "ExecuteTime": {
     "end_time": "2022-08-07T01:13:53.687308Z",
     "start_time": "2022-08-07T01:13:53.570188Z"
    }
   },
   "outputs": [
    {
     "data": {
      "image/png": "[encoded data removed]",
      "text/plain": [
       "<Figure size 432x288 with 1 Axes>"
      ]
     },
     "metadata": {
      "needs_background": "light"
     },
     "output_type": "display_data"
    }
   ],
   "source": [
    "#TODO: visualize the apparent mean annihilation rate trace\n",
    "x_values=df_bar['q'].values\n",
    "y_values=df_bar['w'].values\n",
    "Delta_y_values=df_bar['Delta_w'].values\n",
    "\n",
    "plt.plot(x_values,y_values)\n",
    "plt.fill_between(x_values,y_values-Delta_y_values,y_values+Delta_y_values,alpha=0.7)\n",
    "# plt.xscale('log')\n",
    "# plt.yscale('log')\n",
    "format_plot(ax=plt.gca(),xlabel=r'q ($cm^{-2}$)',ylabel=r'w (kHz/cm$^{2}$)')\n",
    "plt.show()"
   ]
  },
  {
   "cell_type": "code",
   "execution_count": 102,
   "id": "f5f82988",
   "metadata": {
    "ExecuteTime": {
     "end_time": "2022-08-07T01:14:56.575029Z",
     "start_time": "2022-08-07T01:14:56.570819Z"
    }
   },
   "outputs": [
    {
     "name": "stdout",
     "output_type": "stream",
     "text": [
      "Warning: CI not valid for less than 8 data points!\n",
      "Warning: CI not valid for less than 8 data points!\n",
      "B=0.0023,Delta_B=0.0001, m=0.5909,Delta_m=0.0223 (Rsq=0.9996)\n",
      "power law magnitude:\t0.0023 (+/- 0.0001) kHz/cm^(2nu-1)?\n",
      "power law exponent:\t0.5909 (+/- 0.0223) nu\n"
     ]
    }
   ],
   "source": [
    "#heretim\n",
    "qmax=0.4\n",
    "#TODO: compute the powerlaw fit to ^this\n",
    "boo=x_values<qmax\n",
    "x=x_values[boo]\n",
    "y=y_values[boo]\n",
    "B,Delta_B,m,Delta_m,Rsq=fit_power_law(x,y)\n",
    "print(f\"{B=:.4f},{Delta_B=:.4f}, {m=:.4f},{Delta_m=:.4f} ({Rsq=:.4f})\")\n",
    "print(f\"power law magnitude:\\t{B:.4f} (+/- {Delta_B:.4f}) kHz/cm^(2nu-1)?\")\n",
    "print(f\"power law exponent:\\t{m:.4f} (+/- {Delta_m:.4f}) nu\")\n",
    "\n",
    "\n",
    "#TODO: plot the powerlaw fit to ^this"
   ]
  },
  {
   "cell_type": "markdown",
   "id": "d3f58190",
   "metadata": {},
   "source": [
    "Q: what was the previous powerlaw fit?"
   ]
  },
  {
   "cell_type": "code",
   "execution_count": 105,
   "id": "d25456e4",
   "metadata": {
    "ExecuteTime": {
     "end_time": "2022-08-07T01:15:49.802193Z",
     "start_time": "2022-08-07T01:15:49.798530Z"
    }
   },
   "outputs": [
    {
     "name": "stdout",
     "output_type": "stream",
     "text": [
      "fk_pbc lr_pbc\n",
      "fk_pbc={'m': 1.8772341309722325, 'Delta_m': 0.02498750277237229, 'M': 5.572315674840435, 'Delta_M': 0.3053120355191732}\n",
      "lr_pbc={'m': 1.6375562704001745, 'Delta_m': 0.017190912126700632, 'M': 16.73559858353835, 'Delta_M': 0.8465090320196467}\n"
     ]
    }
   ],
   "source": [
    "wjr=recall_powerlaw_fits_to_full_models()\n",
    "print(*wjr)\n",
    "print_dict(wjr)"
   ]
  },
  {
   "cell_type": "markdown",
   "id": "35f0de2f",
   "metadata": {},
   "source": [
    "^That's way different... I bet ^this dissagreement is because the _parquet_ cache is currently filled with creation events instead of annihilation events!  If ^this is true, then plotting the average values should appear concave instead of convex"
   ]
  },
  {
   "cell_type": "code",
   "execution_count": 106,
   "id": "88b3eb74",
   "metadata": {
    "ExecuteTime": {
     "end_time": "2022-08-07T01:19:18.664196Z",
     "start_time": "2022-08-07T01:19:18.661840Z"
    }
   },
   "outputs": [],
   "source": [
    "#TODO: plot the powerlaw fit. is it like the annihilations or the creations?"
   ]
  },
  {
   "cell_type": "code",
   "execution_count": null,
   "id": "adce1d15",
   "metadata": {},
   "outputs": [],
   "source": [
    "#heretim\n",
    "#TODO(failing ^that/if exponents are significantly different): try using harmonic mean instead of arithmetic mean\n",
    "#HINT:\n",
    "from scipy.stats import hmean\n",
    "hmean([1, 4])"
   ]
  },
  {
   "cell_type": "code",
   "execution_count": null,
   "id": "a6e404c1",
   "metadata": {},
   "outputs": [],
   "source": []
  },
  {
   "cell_type": "code",
   "execution_count": null,
   "id": "29f844e6",
   "metadata": {},
   "outputs": [],
   "source": []
  },
  {
   "cell_type": "code",
   "execution_count": null,
   "id": "1c2e1776",
   "metadata": {},
   "outputs": [],
   "source": []
  },
  {
   "cell_type": "code",
   "execution_count": null,
   "id": "00602715",
   "metadata": {},
   "outputs": [],
   "source": [
    "#TODO: return q,w values before averaging\n",
    "#TODO: scatter plot by considering annihilation rates from many log_parquet_folders\n",
    "#TODO: plot the scatter plot of all observed q,w values from many log_parquet_folders\n",
    "#TODO: bootstrap an xy trace for ^that\n",
    "#TODO: compute the powerlaw fit to ^this\n",
    "#TODO: plot the powerlaw fit to ^this"
   ]
  },
  {
   "cell_type": "code",
   "execution_count": null,
   "id": "b3b2431d",
   "metadata": {},
   "outputs": [],
   "source": []
  },
  {
   "cell_type": "code",
   "execution_count": null,
   "id": "859c8251",
   "metadata": {},
   "outputs": [],
   "source": []
  },
  {
   "cell_type": "code",
   "execution_count": 27,
   "id": "f4d4a2aa",
   "metadata": {
    "ExecuteTime": {
     "end_time": "2022-08-07T00:33:37.617066Z",
     "start_time": "2022-08-07T00:33:37.614844Z"
    }
   },
   "outputs": [],
   "source": [
    "#TODO: generate plot of mean annihilation rates versus particle number. save to .odg\n",
    "#TODO: generate plot of mean annihilation rated density versus particle density. save to .odg\n",
    "#TODO: add violinplot in the background for each xlabel in xlabel_lst\n",
    "#HINT: \n",
    "# for xlabel,values in zip(xlabel_lst,values_lst,dic_lst):\n",
    "#     #TOOD: plot 95% ci with violin plot\n",
    "#HINT:\n",
    "# for xlabel,values in zip(xlabel_lst,values_lst):\n",
    "#     Delta_mean,p=bootstrap_95CI_Delta_mean(values,num_samples=1000)"
   ]
  },
  {
   "cell_type": "code",
   "execution_count": 28,
   "id": "fda988cb",
   "metadata": {
    "ExecuteTime": {
     "end_time": "2022-08-07T00:33:37.891492Z",
     "start_time": "2022-08-07T00:33:37.889564Z"
    }
   },
   "outputs": [],
   "source": [
    "#TODO: compute ^this powerlaw fit\n",
    "#TODO: move on to computing r,kappa for ^this powerlaw fit"
   ]
  },
  {
   "cell_type": "code",
   "execution_count": 29,
   "id": "524d2e61",
   "metadata": {
    "ExecuteTime": {
     "end_time": "2022-08-07T00:33:38.271376Z",
     "start_time": "2022-08-07T00:33:38.268509Z"
    }
   },
   "outputs": [],
   "source": [
    "#TODO(later): use the following over a list of folders\n",
    "# clean_parquet_by(folder_parquet)"
   ]
  },
  {
   "cell_type": "code",
   "execution_count": null,
   "id": "a206b32b",
   "metadata": {},
   "outputs": [],
   "source": []
  }
 ],
 "metadata": {
  "hide_input": false,
  "kernelspec": {
   "display_name": "Python 3 (ipykernel)",
   "language": "python",
   "name": "python3"
  },
  "language_info": {
   "codemirror_mode": {
    "name": "ipython",
    "version": 3
   },
   "file_extension": ".py",
   "mimetype": "text/x-python",
   "name": "python",
   "nbconvert_exporter": "python",
   "pygments_lexer": "ipython3",
   "version": "3.9.13"
  },
  "nbTranslate": {
   "displayLangs": [
    "*"
   ],
   "hotkey": "alt-t",
   "langInMainMenu": true,
   "sourceLang": "en",
   "targetLang": "fr",
   "useGoogleTranslate": true
  },
  "toc": {
   "base_numbering": 1,
   "nav_menu": {},
   "number_sections": true,
   "sideBar": true,
   "skip_h1_title": false,
   "title_cell": "Table of Contents",
   "title_sidebar": "Contents",
   "toc_cell": false,
   "toc_position": {},
   "toc_section_display": true,
   "toc_window_display": false
  },
  "varInspector": {
   "cols": {
    "lenName": 16,
    "lenType": 16,
    "lenVar": 40
   },
   "kernels_config": {
    "python": {
     "delete_cmd_postfix": "",
     "delete_cmd_prefix": "del ",
     "library": "var_list.py",
     "varRefreshCmd": "print(var_dic_list())"
    },
    "r": {
     "delete_cmd_postfix": ") ",
     "delete_cmd_prefix": "rm(",
     "library": "var_list.r",
     "varRefreshCmd": "cat(var_dic_list()) "
    }
   },
   "types_to_exclude": [
    "module",
    "function",
    "builtin_function_or_method",
    "instance",
    "_Feature"
   ],
   "window_display": false
  }
 },
 "nbformat": 4,
 "nbformat_minor": 5
}
