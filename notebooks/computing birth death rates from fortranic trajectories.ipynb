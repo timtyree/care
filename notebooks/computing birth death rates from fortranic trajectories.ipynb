{
 "cells": [
  {
   "cell_type": "markdown",
   "id": "32206775",
   "metadata": {},
   "source": [
    "# computing birth death rates from fortranic trajectories\n",
    "Tim Tyree<br>\n",
    "7.7.2022"
   ]
  },
  {
   "cell_type": "code",
   "execution_count": 1,
   "id": "49267302",
   "metadata": {
    "ExecuteTime": {
     "end_time": "2022-07-07T16:20:45.417454Z",
     "start_time": "2022-07-07T16:20:45.414319Z"
    }
   },
   "outputs": [],
   "source": [
    "from lib.my_initialization import *\n",
    "from lib import *"
   ]
  },
  {
   "cell_type": "code",
   "execution_count": 119,
   "id": "7704a528",
   "metadata": {
    "ExecuteTime": {
     "end_time": "2022-07-07T16:50:28.808601Z",
     "start_time": "2022-07-07T16:50:28.802459Z"
    }
   },
   "outputs": [],
   "source": [
    "def comp_death_rates(df_n,n_trgt=6):\n",
    "    \"\"\"measure n_trgt --> n_trgt-2 times\n",
    "    \n",
    "    Example Usage:\n",
    "df_rate = comp_death_rates(df_n,n_trgt=6)\n",
    "    \"\"\"\n",
    "    boo_trgt=df_n==n_trgt\n",
    "    boo = ((df_n.shift(-1)==n_trgt-2)&(boo_trgt))\n",
    "    boo.any()\n",
    "\n",
    "    boo_event=df_n.shift(-1).diff()!=0 #for n-2 only (simple)\n",
    "    event_times = boo_event[boo_event].index.values\n",
    "\n",
    "    boo = ((df_n.shift(-1)==n_trgt-2)&(boo_trgt))\n",
    "\n",
    "    #count how many index values appear before each \n",
    "    dur_lst=[]\n",
    "    death_rate_lst=[]\n",
    "    for tf in boo[boo].index.values:\n",
    "        ti = np.max(event_times[event_times<tf])\n",
    "        dur=tf-ti\n",
    "        dur_lst.append(dur)\n",
    "        death_rate_lst.append(1/dur)\n",
    "    df_rate = pd.DataFrame(dict({\n",
    "        'n_before':n_trgt,\n",
    "        'dur':dur_lst,\n",
    "        'death_rate':death_rate_lst\n",
    "    }))\n",
    "    return df_rate"
   ]
  },
  {
   "cell_type": "code",
   "execution_count": 128,
   "id": "d99f0dcc",
   "metadata": {
    "ExecuteTime": {
     "end_time": "2022-07-07T16:54:54.487545Z",
     "start_time": "2022-07-07T16:54:54.483109Z"
    }
   },
   "outputs": [],
   "source": [
    "#fortranic spiral tip model test case\n",
    "def routine(trial_num):\n",
    "    log_folder_parquet='/Users/timothytyree/Documents/GitHub/care/notebooks/Data/from_wjr/tippos_per_001_log/'\n",
    "    try:\n",
    "        df=load_parquet_by_trial_num(trial_num=trial_num,folder_parquet=log_folder_parquet)\n",
    "        df_n=df.groupby(by='t')['n'].mean()\n",
    "        df_rate = comp_death_rates(df_n,n_trgt=6)\n",
    "        return df_rate\n",
    "    except Exception as e:\n",
    "        return None"
   ]
  },
  {
   "cell_type": "code",
   "execution_count": 129,
   "id": "981d539f",
   "metadata": {
    "ExecuteTime": {
     "end_time": "2022-07-07T16:54:54.772828Z",
     "start_time": "2022-07-07T16:54:54.770033Z"
    }
   },
   "outputs": [],
   "source": [
    "task_lst=list(range(640))"
   ]
  },
  {
   "cell_type": "code",
   "execution_count": 130,
   "id": "f859a1f6",
   "metadata": {
    "ExecuteTime": {
     "end_time": "2022-07-07T16:54:59.705409Z",
     "start_time": "2022-07-07T16:54:55.099125Z"
    }
   },
   "outputs": [
    {
     "name": "stdout",
     "output_type": "stream",
     "text": [
      "run time for evaluating routine was 4.55 seconds, yielding 640 values returned\n"
     ]
    }
   ],
   "source": [
    "npartitions=10\n",
    "retval=eval_routine_daskbag(routine,task_lst,npartitions,printing=True)\n",
    "df_rates=pd.concat(retval)\n",
    "#NOTE: if this finishes in less than ~53 minutes, then it saves time compared to a simple for loop\n",
    "#it ran in ~15 minutes. not bad."
   ]
  },
  {
   "cell_type": "code",
   "execution_count": 131,
   "id": "2b2257ee",
   "metadata": {
    "ExecuteTime": {
     "end_time": "2022-07-07T16:55:00.225580Z",
     "start_time": "2022-07-07T16:55:00.218589Z"
    }
   },
   "outputs": [
    {
     "data": {
      "text/plain": [
       "n_before       6.000000\n",
       "dur           11.683683\n",
       "death_rate     0.299402\n",
       "dtype: float64"
      ]
     },
     "execution_count": 131,
     "metadata": {},
     "output_type": "execute_result"
    }
   ],
   "source": [
    "df_rates.mean()"
   ]
  },
  {
   "cell_type": "markdown",
   "id": "a80f80d8",
   "metadata": {},
   "source": [
    "death_rate for n=6 --> n=4:    0.299402 Hz\n",
    "\n",
    "Q: Does ^this agree with previously known values?\n"
   ]
  },
  {
   "cell_type": "code",
   "execution_count": 132,
   "id": "ae7dce48",
   "metadata": {
    "ExecuteTime": {
     "end_time": "2022-07-07T16:59:31.399102Z",
     "start_time": "2022-07-07T16:59:31.395470Z"
    }
   },
   "outputs": [
    {
     "data": {
      "text/plain": [
       "0.08561643835616438"
      ]
     },
     "execution_count": 132,
     "metadata": {},
     "output_type": "execute_result"
    }
   ],
   "source": [
    "1/11.68"
   ]
  },
  {
   "cell_type": "markdown",
   "id": "36c027e1",
   "metadata": {},
   "source": [
    "_from wj's table for LR (A=25):_\n",
    "\n",
    "No2, rate\n",
    "2, 0.01820\n",
    "3, 0.0377\n"
   ]
  },
  {
   "cell_type": "code",
   "execution_count": 133,
   "id": "e83eeefb",
   "metadata": {
    "ExecuteTime": {
     "end_time": "2022-07-07T17:01:37.904917Z",
     "start_time": "2022-07-07T17:01:37.900407Z"
    }
   },
   "outputs": [
    {
     "data": {
      "text/plain": [
       "54.94505494505494"
      ]
     },
     "execution_count": 133,
     "metadata": {},
     "output_type": "execute_result"
    }
   ],
   "source": [
    "1/0.0182"
   ]
  },
  {
   "cell_type": "code",
   "execution_count": 134,
   "id": "f0df3c27",
   "metadata": {
    "ExecuteTime": {
     "end_time": "2022-07-07T17:01:44.694641Z",
     "start_time": "2022-07-07T17:01:44.690586Z"
    }
   },
   "outputs": [
    {
     "data": {
      "text/plain": [
       "26.525198938992045"
      ]
     },
     "execution_count": 134,
     "metadata": {},
     "output_type": "execute_result"
    }
   ],
   "source": [
    "1/0.0377"
   ]
  },
  {
   "cell_type": "markdown",
   "id": "4c1fc75f",
   "metadata": {},
   "source": [
    "conclusion: these rates are ~0.5X what i get from WJ's data for the LR model when diffCoeff=0.001.\n",
    "\n",
    "THEREFORE: the annihilation rates in the LR model for Vidmar & Rappel (2019) DO in fact have diffCoeff=0.0005 for the LR model.\n",
    "\n",
    "i.e. __WJ did not use tip_pos_001 to compute bdrates in Vidmar & Rappel (2019)__"
   ]
  },
  {
   "cell_type": "code",
   "execution_count": null,
   "id": "524d2e61",
   "metadata": {},
   "outputs": [],
   "source": []
  }
 ],
 "metadata": {
  "hide_input": false,
  "kernelspec": {
   "display_name": "Python 3 (ipykernel)",
   "language": "python",
   "name": "python3"
  },
  "language_info": {
   "codemirror_mode": {
    "name": "ipython",
    "version": 3
   },
   "file_extension": ".py",
   "mimetype": "text/x-python",
   "name": "python",
   "nbconvert_exporter": "python",
   "pygments_lexer": "ipython3",
   "version": "3.9.5"
  },
  "nbTranslate": {
   "displayLangs": [
    "*"
   ],
   "hotkey": "alt-t",
   "langInMainMenu": true,
   "sourceLang": "en",
   "targetLang": "fr",
   "useGoogleTranslate": true
  },
  "toc": {
   "base_numbering": 1,
   "nav_menu": {},
   "number_sections": true,
   "sideBar": true,
   "skip_h1_title": false,
   "title_cell": "Table of Contents",
   "title_sidebar": "Contents",
   "toc_cell": false,
   "toc_position": {},
   "toc_section_display": true,
   "toc_window_display": false
  }
 },
 "nbformat": 4,
 "nbformat_minor": 5
}
