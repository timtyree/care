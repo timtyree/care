{
 "cells": [
  {
   "cell_type": "markdown",
   "id": "32206775",
   "metadata": {},
   "source": [
    "# computing birth death rates from fortranic trajectories\n",
    "Tim Tyree<br>\n",
    "7.7.2022"
   ]
  },
  {
   "cell_type": "code",
   "execution_count": 17,
   "id": "49267302",
   "metadata": {
    "ExecuteTime": {
     "end_time": "2022-09-05T06:23:29.891233Z",
     "start_time": "2022-09-05T06:23:29.888510Z"
    }
   },
   "outputs": [],
   "source": [
    "from lib.my_initialization import *\n",
    "from lib import *"
   ]
  },
  {
   "cell_type": "code",
   "execution_count": 20,
   "id": "733e1fab",
   "metadata": {
    "ExecuteTime": {
     "end_time": "2022-09-05T06:23:42.015655Z",
     "start_time": "2022-09-05T06:23:41.953767Z"
    }
   },
   "outputs": [],
   "source": [
    "from scipy.stats import hmean\n",
    "import seaborn as sns"
   ]
  },
  {
   "cell_type": "code",
   "execution_count": 21,
   "id": "8ca67839",
   "metadata": {
    "ExecuteTime": {
     "end_time": "2022-09-05T06:23:42.586679Z",
     "start_time": "2022-09-05T06:23:42.582482Z"
    },
    "code_folding": []
   },
   "outputs": [],
   "source": [
    "#reset matplotlib settings\n",
    "import matplotlib as mpl\n",
    "sns.reset_orig()\n",
    "mpl.rc_file_defaults()"
   ]
  },
  {
   "cell_type": "markdown",
   "id": "d4ca9c4a",
   "metadata": {},
   "source": [
    "# define module"
   ]
  },
  {
   "cell_type": "code",
   "execution_count": 22,
   "id": "7704a528",
   "metadata": {
    "ExecuteTime": {
     "end_time": "2022-09-05T06:23:43.900330Z",
     "start_time": "2022-09-05T06:23:43.896168Z"
    }
   },
   "outputs": [],
   "source": [
    "def comp_death_rate(df_n,n_trgt=6):\n",
    "    \"\"\"measure n_trgt --> n_trgt-2 times\n",
    "    \n",
    "    Example Usage:\n",
    "df_rate = comp_death_rates(df_n,n_trgt=6)\n",
    "    \"\"\"\n",
    "    boo_trgt=df_n==n_trgt\n",
    "    boo = ((df_n.shift(-1)==n_trgt-2)&(boo_trgt))\n",
    "    if not boo.any():\n",
    "        return None\n",
    "    boo_event=df_n.shift(-1).diff()!=0 #for n-2 only (simple)\n",
    "    event_times = boo_event[boo_event].index.values\n",
    "    #boo = ((df_n.shift(-1)==n_trgt-2)&(boo_trgt))\n",
    "    #count how many index values appear before each \n",
    "    dur_lst=[]\n",
    "    death_rate_lst=[]\n",
    "    for tf in boo[boo].index.values:\n",
    "        booev = event_times<tf\n",
    "        if booev.any():\n",
    "            ti = np.max(event_times[booev])\n",
    "            dur=tf-ti\n",
    "            dur_lst.append(dur)\n",
    "            death_rate_lst.append(1/dur)\n",
    "    df_rate = pd.DataFrame(dict({\n",
    "        'n_before':n_trgt,\n",
    "        'death_rate':death_rate_lst,\n",
    "        'dur':dur_lst,\n",
    "    }))\n",
    "    return df_rate"
   ]
  },
  {
   "cell_type": "code",
   "execution_count": 23,
   "id": "e827f177",
   "metadata": {
    "ExecuteTime": {
     "end_time": "2022-09-05T06:23:44.779851Z",
     "start_time": "2022-09-05T06:23:44.776731Z"
    }
   },
   "outputs": [],
   "source": [
    "def comp_death_rates(df_n):\n",
    "    \"\"\"df_n is a series (time series) of numbers, indexed by time.\n",
    "    comp_death_rates returns the transition rates in df_n as a pandas.DataFrame instance.\n",
    "    \n",
    "    Example Usage:\n",
    "df_rates = comp_death_rates(df_n)\n",
    "    \"\"\"\n",
    "    n_trgt_lst = sorted(df_n.drop_duplicates().values)\n",
    "    df_rate_lst=[]\n",
    "    for n_trgt in n_trgt_lst:\n",
    "        df_rate = comp_death_rate(df_n,n_trgt)\n",
    "        if df_rate is not None:\n",
    "            df_rate_lst.append(df_rate)\n",
    "    #if len(df_rate_lst)==0:\n",
    "    #    return None\n",
    "    df_rates = pd.concat(df_rate_lst)\n",
    "    return df_rates"
   ]
  },
  {
   "cell_type": "code",
   "execution_count": 24,
   "id": "67ce847f",
   "metadata": {
    "ExecuteTime": {
     "end_time": "2022-09-05T06:23:45.129266Z",
     "start_time": "2022-09-05T06:23:45.126170Z"
    }
   },
   "outputs": [],
   "source": [
    "def reverse_time(df,t_col='t'):\n",
    "    \"\"\"reverse_time inverts the times recorded in df[t_col] inplace and returns df.\n",
    "    df.index is also reset.\n",
    "    applying reverse_time three times is the same as applying it once.\n",
    "    \n",
    "    Example Usage:\n",
    "df_reversed = reverse_time(df.copy(),t_col='t')\n",
    "    \"\"\"\n",
    "    ti = df[t_col].min()\n",
    "    tf = df[t_col].max()\n",
    "    df[t_col] = tf - df[t_col] + ti\n",
    "    df.sort_values(by=t_col,inplace=True)\n",
    "    df.reset_index(inplace=True,drop=True)\n",
    "    return df"
   ]
  },
  {
   "cell_type": "code",
   "execution_count": 25,
   "id": "981d539f",
   "metadata": {
    "ExecuteTime": {
     "end_time": "2022-09-05T06:23:45.461034Z",
     "start_time": "2022-09-05T06:23:45.452229Z"
    }
   },
   "outputs": [],
   "source": [
    "def eval_routine_compute_pair_annihilation_rates(log_folder_parquet,\n",
    "    npartitions=10,\n",
    "    drop_odd=True,\n",
    "    testing=True,\n",
    "    printing=True,**kwargs):\n",
    "    \"\"\"\n",
    "    Example Usage:\n",
    "df_rates = eval_routine_compute_pair_annihilation_rates(log_folder_parquet,\n",
    "    npartitions=10,drop_odd=True,\n",
    "    testing=True,printing=True)\n",
    "    \"\"\"\n",
    "    assert os.path.exists(log_folder_parquet)\n",
    "\n",
    "    max_trial_num=-9999\n",
    "    for fn in os.listdir(log_folder_parquet):\n",
    "        i=fn.find('=')\n",
    "        if i>-1:\n",
    "            trial_num = eval(fn[i+1:])\n",
    "            if trial_num>max_trial_num:\n",
    "                max_trial_num = trial_num\n",
    "\n",
    "    #test there is no fewer files than the max_trial_num\n",
    "    assert len(os.listdir(log_folder_parquet))>=max_trial_num\n",
    "\n",
    "    if printing:\n",
    "        print(f\"searching {log_folder_parquet}...\")\n",
    "        print(f\"found {max_trial_num} termination events\")\n",
    "        #print(f\"max trial num found: {max_trial_num}\")\n",
    "\n",
    "\n",
    "    task_lst=[]\n",
    "    for trial_num in list(range(max_trial_num+1)):\n",
    "        task_lst.append((trial_num,str(log_folder_parquet)))\n",
    "    if printing:\n",
    "        print(f\"added {len(task_lst)} tasks to task_lst!\")\n",
    "\n",
    "    def routine(task):\n",
    "        trial_num,log_folder_parquet=task\n",
    "        try:\n",
    "            df=load_parquet_by_trial_num(trial_num=trial_num,folder_parquet=log_folder_parquet)\n",
    "            df_n=df.groupby(by='t')['n'].mean()\n",
    "            df_rates = comp_death_rates(df_n)\n",
    "            df_rates['trial_num']=trial_num\n",
    "            return df_rates\n",
    "        except Exception as e:\n",
    "            return None\n",
    "\n",
    "    #fortranic spiral tip model test case\n",
    "    if testing:\n",
    "        task=task_lst[1]\n",
    "        rv = routine(task)\n",
    "        print(f\"test routine returned an instance of type: {type(rv)}\")\n",
    "        print(f\"{rv.shape=}\\nrv.head(5):\")\n",
    "        print(rv.head(5))\n",
    "\n",
    "\n",
    "    npartitions=np.min((npartitions,os.cpu_count()))\n",
    "    if printing:\n",
    "        print(f\"computing death rates for {len(task_lst)} termination times over {npartitions} cpu cores (estimated run time <6 seconds)...\")\n",
    "\n",
    "    retval=eval_routine_daskbag(routine,task_lst,npartitions,printing=True)\n",
    "    df_rates=pd.concat(retval)\n",
    "    df_rates.reset_index(inplace=True)\n",
    "\n",
    "    #identify any points with value for n_before that is odd\n",
    "    descr = df_rates.groupby(by='n_before')['death_rate'].describe()\n",
    "    boo_odd = 1==descr.index.values%2\n",
    "    if boo_odd.any():\n",
    "        if printing:\n",
    "            print(f\"warning: odd spiral tip counts were detected:\")\n",
    "            print(descr[boo_odd])\n",
    "\n",
    "    #(optionally) drop all such odd points\n",
    "    if drop_odd:\n",
    "        booodd = (df_rates['n_before']%2==1)\n",
    "        num_odd = np.sum(booodd)\n",
    "        df_rates.drop(index=df_rates[booodd].index,inplace=True)\n",
    "        if printing:\n",
    "            print(f\"dropped {num_odd} rows from df_rates for being odd.\")\n",
    "    if printing:\n",
    "        print(f\"rates were computed for {df_rates.shape[0]} pair-annihilation events. returning...\")\n",
    "    return df_rates"
   ]
  },
  {
   "cell_type": "code",
   "execution_count": 26,
   "id": "70cefb28",
   "metadata": {
    "ExecuteTime": {
     "end_time": "2022-09-05T06:23:45.831781Z",
     "start_time": "2022-09-05T06:23:45.823237Z"
    }
   },
   "outputs": [],
   "source": [
    "def boxplotscatter_plotter(ax,values_lst,xlabel_lst,\n",
    "                           scale_scatter=0.1,\n",
    "                           random_state=42,\n",
    "                           ylabel='MSR (a.u.)',\n",
    "                           fontsize=16,\n",
    "                           marker_size = 5, \n",
    "                           marker_color = 'k', \n",
    "                           marker_alpha = .5,\n",
    "                           rv_lst=None,\n",
    "                           notch=True, flierprops=dict(markerfacecolor='black', marker='D'),\n",
    "                           boxprops=dict(facecolor='gray'),\n",
    "                           medianprops = dict(color='black'), \n",
    "                           widths = 0.5, showfliers=False,\n",
    "                           **kwargs):\n",
    "    \"\"\"kwargs are passed directly to matplotlib.pyplot.boxplot\n",
    "    \n",
    "    Example Usage:\n",
    "figsize=(3,4)\n",
    "fig, ax = plt.subplots(figsize=figsize)   \n",
    "    \"\"\"\n",
    "    #diamond = dict(markerfacecolor='black', marker='D')\n",
    "    # mps = dict(color='black')\n",
    "    np.random.seed(random_state)\n",
    "    #randomly sample an x-offset for visualization purposes\n",
    "    if rv_lst is None:\n",
    "        rv_lst=[]\n",
    "        xpos=1\n",
    "        for values in values_lst:\n",
    "            #sample x-offset values\n",
    "            rv_1=np.random.rand(values.shape[0])\n",
    "            rv=scale_scatter*(rv_1-.5)+xpos\n",
    "            #record\n",
    "            rv_lst.append(rv)\n",
    "            #increment xpos\n",
    "            xpos+=1\n",
    "\n",
    "    #add scatter plot of data points\n",
    "    for zorder,(rv,values) in enumerate(zip(rv_lst,values_lst)):\n",
    "        ax.scatter(x = rv, y = values, s = marker_size, c= marker_color, alpha = marker_alpha, zorder=zorder+2)\n",
    "\n",
    "    #add box and whisker plot\n",
    "    # ax.boxplot(values, notch=True, flierprops=diamond,\n",
    "    #             labels = xlabel_lst,\n",
    "    #             patch_artist=True, boxprops=dict(facecolor='gray'),\n",
    "    #             medianprops = mps, widths = 0.5, showfliers=False,  zorder = 1  )\n",
    "    ax.boxplot(values_lst, notch=notch, flierprops=flierprops, labels = xlabel_lst,\n",
    "                patch_artist=True, boxprops=boxprops, medianprops = medianprops, widths = widths, showfliers=showfliers,  zorder = 1  ,**kwargs)\n",
    "    #format_plot\n",
    "    format_plot(ax=ax,xlabel='',ylabel=ylabel,fontsize=fontsize)\n",
    "    return ax\n"
   ]
  },
  {
   "cell_type": "code",
   "execution_count": 27,
   "id": "69090d0b",
   "metadata": {
    "ExecuteTime": {
     "end_time": "2022-09-05T06:23:46.177547Z",
     "start_time": "2022-09-05T06:23:46.172203Z"
    }
   },
   "outputs": [],
   "source": [
    "#TODO: move to lib.measures\n",
    "def bootstrap_95CI_values_lst(values_lst,num_samples=1000):\n",
    "    \"\"\"\n",
    "    Example Usage:\n",
    "df_bar = bootstrap_95CI_values_lst(values_lst,num_samples=1000)\n",
    "    \"\"\"\n",
    "    dic_lst=[]\n",
    "    for values in values_lst:\n",
    "        Delta_mean,p=bootstrap_95CI_Delta_mean(values,num_samples=num_samples)\n",
    "        dic=dict(xbar=np.mean(values),\n",
    "                 Delta_xbar=Delta_mean,\n",
    "                 p_xbar=p,\n",
    "                 num_obs_xbar=values.shape[0])\n",
    "        dic_lst.append(dic)\n",
    "    df_bar=pd.DataFrame(dic_lst)\n",
    "    return df_bar"
   ]
  },
  {
   "cell_type": "code",
   "execution_count": 28,
   "id": "bbda8352",
   "metadata": {
    "ExecuteTime": {
     "end_time": "2022-09-05T06:23:46.491337Z",
     "start_time": "2022-09-05T06:23:46.488102Z"
    }
   },
   "outputs": [],
   "source": [
    "def recall_domain_area_parquet(log_folder_parquet,DS=0.025, round_area_to_n_digits=7):\n",
    "    \"\"\"DS is in units of centimeters betweeen units in the computational domain.\n",
    "    recall_domain_area_parquet supposes anisotropy of a rectangular computational domain.\n",
    "    \n",
    "    Example Usage:\n",
    "area = recall_domain_area_parquet(log_folder_parquet,DS=0.025)\n",
    "    \"\"\"\n",
    "    df=load_parquet_by_trial_num(trial_num=0,folder_parquet=log_folder_parquet)\n",
    "    width=np.around(df.x.max())\n",
    "    height=np.around(df.y.max())\n",
    "    area=DS**2*width*height\n",
    "    return np.around(area,round_area_to_n_digits)"
   ]
  },
  {
   "cell_type": "markdown",
   "id": "661a3a06",
   "metadata": {},
   "source": [
    "# measure annihilation rates from original tip position data"
   ]
  },
  {
   "cell_type": "markdown",
   "id": "a80f80d8",
   "metadata": {},
   "source": [
    "death_rate for n=6 --> n=4:    0.299402 Hz\n",
    "\n",
    "Q: Does ^this agree with previously known values?\n",
    "\n",
    "\n",
    "- 1/11.68 >>> 0.08561643835616438\n",
    "\n",
    "_from wj's table for LR (A=25):_\n",
    "\n",
    "No2, rate\n",
    "2, 0.01820\n",
    "3, 0.0377\n",
    "\n",
    "\n",
    "- 1/0.0182 >>> 54.94505494505494\n",
    "- 1/0.0377 >>> 26.525198938992045\n",
    "\n",
    "conclusion: these rates are ~0.5X what i get from WJ's data for the LR model when diffCoeff=0.001.\n",
    "\n",
    "THEREFORE: the annihilation rates in the LR model for Vidmar & Rappel (2019) DO in fact have diffCoeff=0.0005 for the LR model.\n",
    "\n",
    "i.e. first pass suggests __WJ did not use tip_pos_001 to compute bdrates in Vidmar & Rappel (2019)__"
   ]
  },
  {
   "cell_type": "code",
   "execution_count": 31,
   "id": "e1753647",
   "metadata": {
    "ExecuteTime": {
     "end_time": "2022-09-05T06:27:54.660671Z",
     "start_time": "2022-09-05T06:27:54.657741Z"
    }
   },
   "outputs": [],
   "source": [
    "#DONE: generate sweet boxand whisker plot\n",
    "#DONE: wrapped the evaluation routine into a sweet two-linear call to my foo\n",
    "#DONE: dev on two docstrings for pipeline io"
   ]
  },
  {
   "cell_type": "code",
   "execution_count": 51,
   "id": "7f6ed215",
   "metadata": {
    "ExecuteTime": {
     "end_time": "2022-09-05T06:46:02.140304Z",
     "start_time": "2022-09-05T06:46:02.136938Z"
    }
   },
   "outputs": [],
   "source": [
    "data_folder = f'{nb_dir}/Data'\n",
    "# lr\n",
    "log_folder_parquet=f'{data_folder}/from_wjr/positions_lr/200x200/tippos_per_001_log/'\n",
    "\n",
    "# #fk\n",
    "log_folder_parquet=f'{data_folder}/from_wjr/positions_fk/200x200/tippos_per_c_001_log/'\n",
    "printing=True\n",
    "assert os.path.exists(log_folder_parquet)"
   ]
  },
  {
   "cell_type": "code",
   "execution_count": 52,
   "id": "61e57783",
   "metadata": {
    "ExecuteTime": {
     "end_time": "2022-09-05T06:46:08.312819Z",
     "start_time": "2022-09-05T06:46:02.788108Z"
    }
   },
   "outputs": [
    {
     "name": "stdout",
     "output_type": "stream",
     "text": [
      "searching /home/timothytyree/Documents/GitHub/care/notebooks/Data/from_wjr/positions_fk/200x200/tippos_per_c_001_log/...\n",
      "found 80 termination events\n",
      "added 81 tasks to task_lst!\n",
      "test routine returned an instance of type: <class 'pandas.core.frame.DataFrame'>\n",
      "rv.shape=(308, 4)\n",
      "rv.head(5):\n",
      "   n_before  death_rate   dur  trial_num\n",
      "0       4.0    0.034483  29.0          1\n",
      "1       4.0    0.052632  19.0          1\n",
      "2       4.0    0.333333   3.0          1\n",
      "3       4.0    0.037037  27.0          1\n",
      "4       4.0    0.023810  42.0          1\n",
      "computing death rates for 81 termination times over 10 cpu cores (estimated run time <6 seconds)...\n",
      "run time for evaluating routine was 5.44 seconds, yielding 81 values returned\n",
      "dropped 0 rows from df_rates for being odd.\n",
      "rates were computed for 37149 pair-annihilation events. returning...\n"
     ]
    }
   ],
   "source": [
    "df_rates = eval_routine_compute_pair_annihilation_rates(log_folder_parquet,\n",
    "    npartitions=10,drop_odd=True,\n",
    "    testing=True,printing=True)"
   ]
  },
  {
   "cell_type": "code",
   "execution_count": 53,
   "id": "f418a43a",
   "metadata": {
    "ExecuteTime": {
     "end_time": "2022-09-05T06:46:08.496239Z",
     "start_time": "2022-09-05T06:46:08.443941Z"
    }
   },
   "outputs": [
    {
     "name": "stdout",
     "output_type": "stream",
     "text": [
      "summary stats for each particle density:\n"
     ]
    },
    {
     "data": {
      "text/html": [
       "<div>\n",
       "<style scoped>\n",
       "    .dataframe tbody tr th:only-of-type {\n",
       "        vertical-align: middle;\n",
       "    }\n",
       "\n",
       "    .dataframe tbody tr th {\n",
       "        vertical-align: top;\n",
       "    }\n",
       "\n",
       "    .dataframe thead th {\n",
       "        text-align: right;\n",
       "    }\n",
       "</style>\n",
       "<table border=\"1\" class=\"dataframe\">\n",
       "  <thead>\n",
       "    <tr style=\"text-align: right;\">\n",
       "      <th>n_before</th>\n",
       "      <th>4.0</th>\n",
       "      <th>6.0</th>\n",
       "      <th>8.0</th>\n",
       "      <th>10.0</th>\n",
       "      <th>12.0</th>\n",
       "      <th>14.0</th>\n",
       "      <th>16.0</th>\n",
       "      <th>18.0</th>\n",
       "      <th>20.0</th>\n",
       "      <th>22.0</th>\n",
       "      <th>24.0</th>\n",
       "      <th>26.0</th>\n",
       "      <th>28.0</th>\n",
       "      <th>30.0</th>\n",
       "      <th>32.0</th>\n",
       "    </tr>\n",
       "  </thead>\n",
       "  <tbody>\n",
       "    <tr>\n",
       "      <th>count</th>\n",
       "      <td>1057.000000</td>\n",
       "      <td>3957.000000</td>\n",
       "      <td>7811.000000</td>\n",
       "      <td>9155.000000</td>\n",
       "      <td>7526.000000</td>\n",
       "      <td>4544.000000</td>\n",
       "      <td>2049.000000</td>\n",
       "      <td>751.000000</td>\n",
       "      <td>211.000000</td>\n",
       "      <td>57.000000</td>\n",
       "      <td>18.000000</td>\n",
       "      <td>8.000000</td>\n",
       "      <td>2.000000</td>\n",
       "      <td>1.0</td>\n",
       "      <td>2.000000</td>\n",
       "    </tr>\n",
       "    <tr>\n",
       "      <th>mean</th>\n",
       "      <td>0.093406</td>\n",
       "      <td>0.115018</td>\n",
       "      <td>0.123856</td>\n",
       "      <td>0.141812</td>\n",
       "      <td>0.159791</td>\n",
       "      <td>0.186106</td>\n",
       "      <td>0.220048</td>\n",
       "      <td>0.236456</td>\n",
       "      <td>0.286672</td>\n",
       "      <td>0.236827</td>\n",
       "      <td>0.297792</td>\n",
       "      <td>0.537649</td>\n",
       "      <td>0.175000</td>\n",
       "      <td>1.0</td>\n",
       "      <td>0.121795</td>\n",
       "    </tr>\n",
       "    <tr>\n",
       "      <th>std</th>\n",
       "      <td>0.161328</td>\n",
       "      <td>0.186663</td>\n",
       "      <td>0.184835</td>\n",
       "      <td>0.198538</td>\n",
       "      <td>0.211783</td>\n",
       "      <td>0.226203</td>\n",
       "      <td>0.252362</td>\n",
       "      <td>0.260976</td>\n",
       "      <td>0.275291</td>\n",
       "      <td>0.251160</td>\n",
       "      <td>0.256543</td>\n",
       "      <td>0.400823</td>\n",
       "      <td>0.106066</td>\n",
       "      <td>NaN</td>\n",
       "      <td>0.063458</td>\n",
       "    </tr>\n",
       "    <tr>\n",
       "      <th>min</th>\n",
       "      <td>0.002500</td>\n",
       "      <td>0.003058</td>\n",
       "      <td>0.002232</td>\n",
       "      <td>0.002392</td>\n",
       "      <td>0.004367</td>\n",
       "      <td>0.003484</td>\n",
       "      <td>0.004545</td>\n",
       "      <td>0.005319</td>\n",
       "      <td>0.013514</td>\n",
       "      <td>0.018519</td>\n",
       "      <td>0.050000</td>\n",
       "      <td>0.125000</td>\n",
       "      <td>0.100000</td>\n",
       "      <td>1.0</td>\n",
       "      <td>0.076923</td>\n",
       "    </tr>\n",
       "    <tr>\n",
       "      <th>25%</th>\n",
       "      <td>0.016129</td>\n",
       "      <td>0.021277</td>\n",
       "      <td>0.025641</td>\n",
       "      <td>0.030303</td>\n",
       "      <td>0.037037</td>\n",
       "      <td>0.043478</td>\n",
       "      <td>0.055556</td>\n",
       "      <td>0.062500</td>\n",
       "      <td>0.087121</td>\n",
       "      <td>0.055556</td>\n",
       "      <td>0.087500</td>\n",
       "      <td>0.185714</td>\n",
       "      <td>0.137500</td>\n",
       "      <td>1.0</td>\n",
       "      <td>0.099359</td>\n",
       "    </tr>\n",
       "    <tr>\n",
       "      <th>50%</th>\n",
       "      <td>0.033333</td>\n",
       "      <td>0.045455</td>\n",
       "      <td>0.052632</td>\n",
       "      <td>0.062500</td>\n",
       "      <td>0.076923</td>\n",
       "      <td>0.090909</td>\n",
       "      <td>0.125000</td>\n",
       "      <td>0.125000</td>\n",
       "      <td>0.200000</td>\n",
       "      <td>0.142857</td>\n",
       "      <td>0.200000</td>\n",
       "      <td>0.416667</td>\n",
       "      <td>0.175000</td>\n",
       "      <td>1.0</td>\n",
       "      <td>0.121795</td>\n",
       "    </tr>\n",
       "    <tr>\n",
       "      <th>75%</th>\n",
       "      <td>0.083333</td>\n",
       "      <td>0.111111</td>\n",
       "      <td>0.125000</td>\n",
       "      <td>0.166667</td>\n",
       "      <td>0.200000</td>\n",
       "      <td>0.250000</td>\n",
       "      <td>0.250000</td>\n",
       "      <td>0.333333</td>\n",
       "      <td>0.333333</td>\n",
       "      <td>0.333333</td>\n",
       "      <td>0.500000</td>\n",
       "      <td>1.000000</td>\n",
       "      <td>0.212500</td>\n",
       "      <td>1.0</td>\n",
       "      <td>0.144231</td>\n",
       "    </tr>\n",
       "    <tr>\n",
       "      <th>max</th>\n",
       "      <td>1.000000</td>\n",
       "      <td>1.000000</td>\n",
       "      <td>1.000000</td>\n",
       "      <td>1.000000</td>\n",
       "      <td>1.000000</td>\n",
       "      <td>1.000000</td>\n",
       "      <td>1.000000</td>\n",
       "      <td>1.000000</td>\n",
       "      <td>1.000000</td>\n",
       "      <td>1.000000</td>\n",
       "      <td>1.000000</td>\n",
       "      <td>1.000000</td>\n",
       "      <td>0.250000</td>\n",
       "      <td>1.0</td>\n",
       "      <td>0.166667</td>\n",
       "    </tr>\n",
       "  </tbody>\n",
       "</table>\n",
       "</div>"
      ],
      "text/plain": [
       "n_before         4.0          6.0          8.0          10.0         12.0  \\\n",
       "count     1057.000000  3957.000000  7811.000000  9155.000000  7526.000000   \n",
       "mean         0.093406     0.115018     0.123856     0.141812     0.159791   \n",
       "std          0.161328     0.186663     0.184835     0.198538     0.211783   \n",
       "min          0.002500     0.003058     0.002232     0.002392     0.004367   \n",
       "25%          0.016129     0.021277     0.025641     0.030303     0.037037   \n",
       "50%          0.033333     0.045455     0.052632     0.062500     0.076923   \n",
       "75%          0.083333     0.111111     0.125000     0.166667     0.200000   \n",
       "max          1.000000     1.000000     1.000000     1.000000     1.000000   \n",
       "\n",
       "n_before         14.0         16.0        18.0        20.0       22.0  \\\n",
       "count     4544.000000  2049.000000  751.000000  211.000000  57.000000   \n",
       "mean         0.186106     0.220048    0.236456    0.286672   0.236827   \n",
       "std          0.226203     0.252362    0.260976    0.275291   0.251160   \n",
       "min          0.003484     0.004545    0.005319    0.013514   0.018519   \n",
       "25%          0.043478     0.055556    0.062500    0.087121   0.055556   \n",
       "50%          0.090909     0.125000    0.125000    0.200000   0.142857   \n",
       "75%          0.250000     0.250000    0.333333    0.333333   0.333333   \n",
       "max          1.000000     1.000000    1.000000    1.000000   1.000000   \n",
       "\n",
       "n_before       24.0      26.0      28.0  30.0      32.0  \n",
       "count     18.000000  8.000000  2.000000   1.0  2.000000  \n",
       "mean       0.297792  0.537649  0.175000   1.0  0.121795  \n",
       "std        0.256543  0.400823  0.106066   NaN  0.063458  \n",
       "min        0.050000  0.125000  0.100000   1.0  0.076923  \n",
       "25%        0.087500  0.185714  0.137500   1.0  0.099359  \n",
       "50%        0.200000  0.416667  0.175000   1.0  0.121795  \n",
       "75%        0.500000  1.000000  0.212500   1.0  0.144231  \n",
       "max        1.000000  1.000000  0.250000   1.0  0.166667  "
      ]
     },
     "execution_count": 53,
     "metadata": {},
     "output_type": "execute_result"
    }
   ],
   "source": [
    "print(f\"summary stats for each particle density:\")\n",
    "df_rates.groupby(by='n_before')['death_rate'].describe().T"
   ]
  },
  {
   "cell_type": "code",
   "execution_count": 54,
   "id": "27e7821b",
   "metadata": {
    "ExecuteTime": {
     "end_time": "2022-09-05T06:46:12.137770Z",
     "start_time": "2022-09-05T06:46:10.721206Z"
    }
   },
   "outputs": [],
   "source": [
    "DS=0.025\n",
    "area = recall_domain_area_parquet(log_folder_parquet,DS=DS)\n",
    "\n",
    "# df_rates,\n",
    "# area,\n",
    "# ycol='death_rate'\n",
    "\n",
    "ycol_lst=['death_rate','dur']\n",
    "\n",
    "# use_final_n=True\n",
    "use_final_n=False\n",
    "num_samples=1000 #for bootstrap\n",
    "\n",
    "#generate label data\n",
    "xlabel_lst=[]\n",
    "xval_lst=[]\n",
    "for n,g in df_rates.groupby(by='n_before'):\n",
    "    xlabel_lst.append(f\"n: {int(n)}\"+r\"$\\rightarrow$\"+f\"{int(n-2)}\")\n",
    "    xval_lst.append(int(n))\n",
    "\n",
    "df_bar_lst=[]\n",
    "for ycol in ycol_lst:\n",
    "    #generate boxplot data\n",
    "    values_lst=[]\n",
    "    for n,g in df_rates.groupby(by='n_before'):\n",
    "        x=g[ycol].values\n",
    "        values_lst.append(x)\n",
    "    #compute arithmetic mean\n",
    "    df_bar = bootstrap_95CI_values_lst(values_lst,num_samples=num_samples)\n",
    "    df_bar['n_before']=xval_lst\n",
    "\n",
    "    #DONE: infer domain size of the folder\n",
    "    #DONE: compute xy values\n",
    "\n",
    "    df_bar[ycol]=df_bar['xbar']\n",
    "    df_bar[f'Delta_{ycol}']=df_bar['Delta_xbar']\n",
    "    if use_final_n:\n",
    "        df_bar['q']=(df_bar['n_before']-2)/area\n",
    "    else:\n",
    "        df_bar['q']=df_bar['n_before']/area\n",
    "    df_bar[f'w_{ycol}']=df_bar[ycol]/area\n",
    "    df_bar[f'Delta_w_{ycol}']=df_bar[f'Delta_{ycol}']/area\n",
    "    df_bar['area']=area\n",
    "    #record\n",
    "    df_bar_lst.append(df_bar)\n",
    "# dfbar=pd.merge(df_bar_lst[0],df_bar_lst[1],\n",
    "#                how='outer', on='n_before')\n",
    "# dfbar=pd.merge(df_bar_lst[0],df_bar_lst[1],\n",
    "# #                how='left', on='n_before')\n",
    "# dfbar=pd.merge(df_bar_lst[0],df_bar_lst[1],\n",
    "#                how='left', on='q')\n",
    "# # #heretim\n",
    "# # return dfbar\n",
    "# dfbar.head()"
   ]
  },
  {
   "cell_type": "code",
   "execution_count": 55,
   "id": "20ad5881",
   "metadata": {
    "ExecuteTime": {
     "end_time": "2022-09-05T06:46:12.262297Z",
     "start_time": "2022-09-05T06:46:12.255695Z"
    }
   },
   "outputs": [],
   "source": [
    "#format results\n",
    "dfbar=df_bar_lst[0].copy()\n",
    "dfbar[ycol]=df_bar_lst[1][ycol]\n",
    "dfbar[f'Delta_{ycol}']=df_bar_lst[1][f'Delta_{ycol}']\n",
    "dfbar[f'w_{ycol}']=df_bar_lst[1][f'w_{ycol}']\n",
    "dfbar[f'Delta_w_{ycol}']=df_bar_lst[1][f'Delta_w_{ycol}']"
   ]
  },
  {
   "cell_type": "code",
   "execution_count": 56,
   "id": "cb715652",
   "metadata": {
    "ExecuteTime": {
     "end_time": "2022-09-05T06:46:12.362339Z",
     "start_time": "2022-09-05T06:46:12.360086Z"
    }
   },
   "outputs": [],
   "source": [
    "# #print columns before/after merging\n",
    "# for d in df_bar_lst:\n",
    "#     print(f\"{list(d.columns)=}\")"
   ]
  },
  {
   "cell_type": "code",
   "execution_count": 65,
   "id": "f5f82988",
   "metadata": {
    "ExecuteTime": {
     "end_time": "2022-09-05T06:49:52.048108Z",
     "start_time": "2022-09-05T06:49:52.041152Z"
    }
   },
   "outputs": [
    {
     "name": "stdout",
     "output_type": "stream",
     "text": [
      "Warning: CI not valid for less than 8 data points!\n",
      "Warning: CI not valid for less than 8 data points!\n",
      "B=3.2521,Delta_B=0.7316, m=-0.8378,Delta_m=0.1685 (Rsq=0.9500)\n",
      "power law magnitude:\t3.2521 (+/- 0.7316) kHz/cm^(2nu-1)?\n",
      "power law exponent:\t-0.8378 (+/- 0.1685) nu\n"
     ]
    },
    {
     "data": {
      "text/plain": [
       "(0.372296996876313, 0.02416425046421128)"
      ]
     },
     "execution_count": 65,
     "metadata": {},
     "output_type": "execute_result"
    }
   ],
   "source": [
    "#visualize the apparent mean annihilation rate trace\n",
    "x_values=dfbar['q'].values\n",
    "# y_values=dfbar['w_death_rate'].values\n",
    "# Delta_y_values=dfbar['Delta_w_death_rate'].values\n",
    "y_values=dfbar['w_dur'].values\n",
    "Delta_y_values=dfbar['Delta_dur'].values/y_values**2\n",
    "#heretim\n",
    "# qmax=0.4\n",
    "qmax=0.7\n",
    "#TODO: compute the powerlaw fit to ^this\n",
    "boo=x_values<qmax\n",
    "x=x_values[boo]\n",
    "y=y_values[boo]\n",
    "B,Delta_B,m,Delta_m,Rsq=fit_power_law(x,y)\n",
    "print(f\"{B=:.4f},{Delta_B=:.4f}, {m=:.4f},{Delta_m=:.4f} ({Rsq=:.4f})\")\n",
    "print(f\"power law magnitude:\\t{B:.4f} (+/- {Delta_B:.4f}) kHz/cm^(2nu-1)?\")\n",
    "print(f\"power law exponent:\\t{m:.4f} (+/- {Delta_m:.4f}) nu\")\n",
    "M, Delta_M = comp_power_scale(B, Delta_B, m, Delta_m)\n",
    "#TODO: plot the powerlaw fit to ^this\n",
    "M, Delta_M "
   ]
  },
  {
   "cell_type": "code",
   "execution_count": null,
   "id": "446c2b51",
   "metadata": {},
   "outputs": [],
   "source": []
  },
  {
   "cell_type": "code",
   "execution_count": 58,
   "id": "1973baf4",
   "metadata": {
    "ExecuteTime": {
     "end_time": "2022-09-05T06:46:15.834036Z",
     "start_time": "2022-09-05T06:46:15.829347Z"
    }
   },
   "outputs": [
    {
     "name": "stdout",
     "output_type": "stream",
     "text": [
      "Warning: CI not valid for less than 8 data points!\n",
      "Warning: CI not valid for less than 8 data points!\n",
      "y=M*(x)**m\n",
      "m=-0.837832+-0.168491; B=3.252127+-0.731608\n",
      "M= 0.372297+-0.024164 Hz*cm^{2(m-1)}\n",
      "RMSE=0.1422 Hz/cm^2\n",
      "R^2=0.9500\n"
     ]
    },
    {
     "data": {
      "text/plain": [
       "(7,)"
      ]
     },
     "execution_count": 58,
     "metadata": {},
     "output_type": "execute_result"
    }
   ],
   "source": [
    "print_fit_power_law(x,y)\n",
    "x.shape"
   ]
  },
  {
   "cell_type": "code",
   "execution_count": 63,
   "id": "2fca5861",
   "metadata": {
    "ExecuteTime": {
     "end_time": "2022-09-05T06:49:07.624632Z",
     "start_time": "2022-09-05T06:49:07.620412Z"
    }
   },
   "outputs": [],
   "source": [
    "#reset matplotlib\n",
    "import matplotlib\n",
    "matplotlib.rcParams.update(matplotlib.rcParamsDefault)"
   ]
  },
  {
   "cell_type": "code",
   "execution_count": 64,
   "id": "66473b11",
   "metadata": {
    "ExecuteTime": {
     "end_time": "2022-09-05T06:49:09.498854Z",
     "start_time": "2022-09-05T06:49:09.108727Z"
    }
   },
   "outputs": [
    {
     "data": {
      "image/png": "[encoded data removed]",
      "text/plain": [
       "<Figure size 800x400 with 1 Axes>"
      ]
     },
     "metadata": {},
     "output_type": "display_data"
    }
   ],
   "source": [
    "figsize=(8,4)\n",
    "fig, ax = plt.subplots(figsize=figsize)   \n",
    "boxplotscatter_plotter(ax,values_lst,xlabel_lst,random_state=42,\n",
    "                           ylabel='Pair-Annihilation Rate (kHz)',fontsize=16,notch=False,scale_scatter=0.5,marker_alpha=1)#,**kwargs)\n",
    "# ax.errorbar(bar_label_lst[0],bar_height_values[0],Delta_bar_height_values[0],alpha=0.9,color=color_lst[0])\n",
    "# ax.set_title(title,fontsize=fontsize)\n",
    "# plt.gca().yaxis.set_major_formatter(mtick.PercentFormatter())\n",
    "plt.sca(ax)\n",
    "plt.xticks(rotation=45)\n",
    "plt.show()"
   ]
  },
  {
   "cell_type": "code",
   "execution_count": 69,
   "id": "c341fb21",
   "metadata": {
    "ExecuteTime": {
     "end_time": "2022-09-05T06:51:56.954907Z",
     "start_time": "2022-09-05T06:51:56.820643Z"
    }
   },
   "outputs": [
    {
     "data": {
      "image/png": "[encoded data removed]",
      "text/plain": [
       "<Figure size 640x480 with 1 Axes>"
      ]
     },
     "metadata": {},
     "output_type": "display_data"
    }
   ],
   "source": [
    "y_values=1/dfbar['w_dur'].values\n",
    "Delta_y_values=dfbar['Delta_dur'].values*y_values**2\n",
    "\n",
    "plt.plot(x_values,y_values)\n",
    "plt.fill_between(x_values,y_values-Delta_y_values,y_values+Delta_y_values,alpha=0.7)\n",
    "# plt.xscale('log')\n",
    "# plt.yscale('log')\n",
    "plt.ylim([0,20])\n",
    "format_plot(ax=plt.gca(),xlabel=r'q ($cm^{-2}$)',ylabel=r'w (kHz/cm$^{2}$)')\n",
    "plt.show()"
   ]
  },
  {
   "cell_type": "code",
   "execution_count": 68,
   "id": "2be7238a",
   "metadata": {
    "ExecuteTime": {
     "end_time": "2022-09-05T06:51:25.676841Z",
     "start_time": "2022-09-05T06:51:25.563642Z"
    }
   },
   "outputs": [
    {
     "data": {
      "image/png": "[encoded data removed]",
      "text/plain": [
       "<Figure size 640x480 with 1 Axes>"
      ]
     },
     "metadata": {},
     "output_type": "display_data"
    }
   ],
   "source": [
    "plt.plot(x_values,y_values)\n",
    "plt.fill_between(x_values,y_values-Delta_y_values,y_values+Delta_y_values,alpha=0.7)\n",
    "# plt.xscale('log')\n",
    "# plt.yscale('log')\n",
    "format_plot(ax=plt.gca(),xlabel=r'q ($cm^{-2}$)',ylabel=r'w (kHz/cm$^{2}$)')\n",
    "plt.show()"
   ]
  },
  {
   "cell_type": "code",
   "execution_count": 70,
   "id": "8ff68054",
   "metadata": {
    "ExecuteTime": {
     "end_time": "2022-09-05T06:55:44.338854Z",
     "start_time": "2022-09-05T06:55:44.333646Z"
    }
   },
   "outputs": [
    {
     "name": "stdout",
     "output_type": "stream",
     "text": [
      "Warning: CI not valid for less than 8 data points!\n",
      "Warning: CI not valid for less than 8 data points!\n",
      "y=M*(x)**m\n",
      "m=-0.837832+-0.168491; B=3.252127+-0.731608\n",
      "M= 0.372297+-0.024164 Hz*cm^{2(m-1)}\n",
      "RMSE=0.1422 Hz/cm^2\n",
      "R^2=0.9500\n"
     ]
    },
    {
     "data": {
      "text/plain": [
       "(7,)"
      ]
     },
     "execution_count": 70,
     "metadata": {},
     "output_type": "execute_result"
    }
   ],
   "source": [
    "print_fit_power_law(x,y)\n",
    "x.shape"
   ]
  },
  {
   "cell_type": "code",
   "execution_count": 368,
   "id": "d87fb553",
   "metadata": {
    "ExecuteTime": {
     "end_time": "2022-08-16T22:01:51.957287Z",
     "start_time": "2022-08-16T22:01:51.945918Z"
    }
   },
   "outputs": [
    {
     "name": "stdout",
     "output_type": "stream",
     "text": [
      "Warning: CI not valid for less than 8 data points!\n",
      "Warning: CI not valid for less than 8 data points!\n",
      "y=M*(x)**m\n",
      "m=1.198604+-0.077926; B=8.290067+-0.672853\n",
      "M= 12.617913+-3.819377 Hz*cm^{2(m-1)}\n",
      "RMSE=0.2168 Hz/cm^2\n",
      "R^2=0.9945\n"
     ]
    }
   ],
   "source": [
    "#visualize the apparent mean annihilation rate trace\n",
    "x_values=dfbar['q'].values\n",
    "y_values=1/dfbar['w_dur'].values\n",
    "# Delta_y_values=(dfbar['Delta_w_dur'].values/dfbar['w_dur'].values)*y_values #fixing percent uncertainty\n",
    "Delta_y_values=0.5*(dfbar['Delta_w_dur'].values/dfbar['w_dur'].values)*y_values #result from chain rule?\n",
    "# y_values=dfbar['w_death_rate'].values\n",
    "# Delta_y_values=dfbar['Delta_w_death_rate'].values\n",
    "\n",
    "#heretim\n",
    "# qmax=0.4\n",
    "qmax=0.7\n",
    "#TODO: compute the powerlaw fit to ^this\n",
    "boo=x_values<qmax\n",
    "x=x_values[boo]\n",
    "y=y_values[boo]\n",
    "# B,Delta_B,m,Delta_m,Rsq=fit_power_law(x,y)\n",
    "# print(f\"{B=:.4f},{Delta_B=:.4f}, {m=:.4f},{Delta_m=:.4f} ({Rsq=:.4f})\")\n",
    "# print(f\"power law magnitude:\\t{B:.4f} (+/- {Delta_B:.4f}) kHz/cm^(2nu-1)?\")\n",
    "# print(f\"power law exponent:\\t{m:.4f} (+/- {Delta_m:.4f}) nu\")\n",
    "# M, Delta_M = comp_power_scale(B, Delta_B, m, Delta_m)\n",
    "#fit powerlaw \n",
    "print_fit_power_law(x,y)"
   ]
  },
  {
   "cell_type": "code",
   "execution_count": null,
   "id": "57618a07",
   "metadata": {},
   "outputs": [],
   "source": []
  },
  {
   "cell_type": "markdown",
   "id": "d3f58190",
   "metadata": {},
   "source": [
    "Q: what was the previous powerlaw fit?"
   ]
  },
  {
   "cell_type": "code",
   "execution_count": 128,
   "id": "d25456e4",
   "metadata": {
    "ExecuteTime": {
     "end_time": "2022-08-09T03:49:01.592801Z",
     "start_time": "2022-08-09T03:49:01.589998Z"
    }
   },
   "outputs": [
    {
     "name": "stdout",
     "output_type": "stream",
     "text": [
      "fk_pbc lr_pbc\n",
      "fk_pbc={'m': 1.8772341309722325, 'Delta_m': 0.02498750277237229, 'M': 5.572315674840435, 'Delta_M': 0.3053120355191732}\n",
      "lr_pbc={'m': 1.6375562704001745, 'Delta_m': 0.017190912126700632, 'M': 16.73559858353835, 'Delta_M': 0.8465090320196467}\n"
     ]
    }
   ],
   "source": [
    "wjr=recall_powerlaw_fits_to_full_models()\n",
    "print(*wjr)\n",
    "print_dict(wjr)"
   ]
  },
  {
   "cell_type": "markdown",
   "id": "35f0de2f",
   "metadata": {},
   "source": [
    "^That's way different... I bet ^this dissagreement is because the _parquet_ cache is currently filled with creation events instead of annihilation events!  If ^this is true, then plotting the average values should appear concave instead of convex"
   ]
  },
  {
   "cell_type": "markdown",
   "id": "130dc2b5",
   "metadata": {
    "heading_collapsed": true
   },
   "source": [
    "## etc"
   ]
  },
  {
   "cell_type": "code",
   "execution_count": 129,
   "id": "873019c6",
   "metadata": {
    "ExecuteTime": {
     "end_time": "2022-08-09T03:49:02.285574Z",
     "start_time": "2022-08-09T03:49:02.281422Z"
    },
    "hidden": true
   },
   "outputs": [
    {
     "data": {
      "text/plain": [
       "[0.16, 0.24, 0.32, 0.4, 0.48, 0.56, 0.64, 0.72, 0.8, 0.88, 0.96]"
      ]
     },
     "execution_count": 129,
     "metadata": {},
     "output_type": "execute_result"
    }
   ],
   "source": [
    "x_lst"
   ]
  },
  {
   "cell_type": "code",
   "execution_count": 130,
   "id": "5d836d6b",
   "metadata": {
    "ExecuteTime": {
     "end_time": "2022-08-09T03:49:02.606676Z",
     "start_time": "2022-08-09T03:49:02.601398Z"
    },
    "hidden": true
   },
   "outputs": [
    {
     "data": {
      "text/plain": [
       "xbar                7.500000e-01\n",
       "Delta_xbar          3.410256e-01\n",
       "p_xbar              2.350464e-34\n",
       "num_obs_xbar        2.000000e+00\n",
       "n_before            2.400000e+01\n",
       "death_rate          7.500000e-01\n",
       "Delta_death_rate    3.410256e-01\n",
       "q                   9.600000e-01\n",
       "w                   3.000000e-02\n",
       "Delta_w             1.364102e-02\n",
       "Name: 10, dtype: float64"
      ]
     },
     "execution_count": 130,
     "metadata": {},
     "output_type": "execute_result"
    }
   ],
   "source": [
    "ybar"
   ]
  },
  {
   "cell_type": "code",
   "execution_count": 131,
   "id": "fed9a467",
   "metadata": {
    "ExecuteTime": {
     "end_time": "2022-08-09T03:49:02.974380Z",
     "start_time": "2022-08-09T03:49:02.969977Z"
    },
    "hidden": true
   },
   "outputs": [
    {
     "data": {
      "text/plain": [
       "[4, 6, 8, 10, 12, 14, 16, 18, 20, 22, 24]"
      ]
     },
     "execution_count": 131,
     "metadata": {},
     "output_type": "execute_result"
    }
   ],
   "source": [
    "xval_lst"
   ]
  },
  {
   "cell_type": "code",
   "execution_count": 137,
   "id": "a877130e",
   "metadata": {
    "ExecuteTime": {
     "end_time": "2022-08-09T03:49:20.393317Z",
     "start_time": "2022-08-09T03:49:20.292127Z"
    },
    "hidden": true
   },
   "outputs": [
    {
     "name": "stdout",
     "output_type": "stream",
     "text": [
      "0 --> 0.05705037872115554\n",
      "1 --> 0.0857002069577215\n",
      "2 --> 0.12092806614072371\n",
      "3 --> 0.16332773512476007\n",
      "4 --> 0.2142747269650823\n",
      "5 --> 0.2329430763019782\n",
      "6 --> 0.30066225165562915\n",
      "7 --> 0.3583815028901734\n",
      "8 --> 0.35294117647058826\n",
      "9 --> 0.2727272727272727\n",
      "10 --> 0.6666666666666666\n"
     ]
    },
    {
     "data": {
      "image/png": "[encoded data removed]",
      "text/plain": [
       "<Figure size 640x480 with 1 Axes>"
      ]
     },
     "metadata": {},
     "output_type": "display_data"
    }
   ],
   "source": [
    "# TODO: print mean values with 95% ci\n",
    "# HINT: \n",
    "# print(f\"x --> ybar:\")\n",
    "x_lst=[]\n",
    "y_lst=[]\n",
    "for x,(xlabel,values) in enumerate(zip(xval_lst,values_lst)):\n",
    "    bar=df_bar.loc[x]\n",
    "    xhbar=hmean(values)\n",
    "    #record\n",
    "    x_lst.append(bar['q'])\n",
    "    y_lst.append(xhbar)\n",
    "    print(f\"{x} --> {xhbar}\")\n",
    "    #print(f\"{x} --> {dict(bar)}\")\n",
    "    \n",
    "    \n",
    "#TODO: visualize the apparent mean annihilation rate trace\n",
    "x_values=np.array(x_lst)\n",
    "y_values=np.array(y_lst)\n",
    "# Delta_y_values=df_bar['Delta_w'].values\n",
    "\n",
    "plt.plot(x_values,y_values)\n",
    "plt.fill_between(x_values,y_values-Delta_y_values,y_values+Delta_y_values,alpha=0.7)\n",
    "# plt.xscale('log')\n",
    "# plt.yscale('log')\n",
    "format_plot(ax=plt.gca(),xlabel=r'q ($cm^{-2}$)',ylabel=r'w (kHz/cm$^{2}$)')\n",
    "plt.show()"
   ]
  },
  {
   "cell_type": "code",
   "execution_count": 133,
   "id": "87419475",
   "metadata": {
    "ExecuteTime": {
     "end_time": "2022-08-09T03:49:04.180269Z",
     "start_time": "2022-08-09T03:49:04.175774Z"
    },
    "hidden": true
   },
   "outputs": [
    {
     "name": "stdout",
     "output_type": "stream",
     "text": [
      "Warning: CI not valid for less than 8 data points!\n",
      "Warning: CI not valid for less than 8 data points!\n",
      "B=0.5337,Delta_B=0.0521, m=1.1729,Delta_m=0.0878 (Rsq=0.9942)\n",
      "power law magnitude:\t0.5337 (+/- 0.0521) kHz/cm^(2nu-1)?\n",
      "power law exponent:\t1.1729 (+/- 0.0878) nu\n"
     ]
    }
   ],
   "source": [
    "#heretim\n",
    "qmax=0.6\n",
    "#TODO: compute the powerlaw fit to ^this\n",
    "boo=x_values<qmax\n",
    "x=x_values[boo]\n",
    "y=y_values[boo]\n",
    "B,Delta_B,m,Delta_m,Rsq=fit_power_law(x,y)\n",
    "print(f\"{B=:.4f},{Delta_B=:.4f}, {m=:.4f},{Delta_m=:.4f} ({Rsq=:.4f})\")\n",
    "print(f\"power law magnitude:\\t{B:.4f} (+/- {Delta_B:.4f}) kHz/cm^(2nu-1)?\")\n",
    "print(f\"power law exponent:\\t{m:.4f} (+/- {Delta_m:.4f}) nu\")\n",
    "\n",
    "\n",
    "#TODO: plot the powerlaw fit to ^this"
   ]
  },
  {
   "cell_type": "code",
   "execution_count": 134,
   "id": "10279bfb",
   "metadata": {
    "ExecuteTime": {
     "end_time": "2022-08-09T03:49:07.120999Z",
     "start_time": "2022-08-09T03:49:07.118023Z"
    },
    "hidden": true
   },
   "outputs": [
    {
     "name": "stdout",
     "output_type": "stream",
     "text": [
      "Warning: CI not valid for less than 8 data points!\n",
      "Warning: CI not valid for less than 8 data points!\n",
      "y=M*(x)**m\n",
      "m=1.172912+-0.087828; B=0.533681+-0.052126\n",
      "M= 0.478769+-0.030795 Hz*cm^{2(m-1)}\n",
      "RMSE=0.0068 Hz/cm^2\n",
      "R^2=0.9942\n"
     ]
    }
   ],
   "source": [
    "print_fit_power_law(x,y)"
   ]
  },
  {
   "cell_type": "code",
   "execution_count": 135,
   "id": "6a92c4b1",
   "metadata": {
    "ExecuteTime": {
     "end_time": "2022-08-09T03:49:07.591532Z",
     "start_time": "2022-08-09T03:49:07.491002Z"
    },
    "hidden": true
   },
   "outputs": [
    {
     "data": {
      "text/plain": [
       "<matplotlib.collections.PathCollection at 0x7faf0ba822b0>"
      ]
     },
     "execution_count": 135,
     "metadata": {},
     "output_type": "execute_result"
    },
    {
     "data": {
      "image/png": "[encoded data removed]",
      "text/plain": [
       "<Figure size 640x480 with 1 Axes>"
      ]
     },
     "metadata": {},
     "output_type": "display_data"
    }
   ],
   "source": [
    "plt.scatter(x_lst,y_lst)"
   ]
  },
  {
   "cell_type": "code",
   "execution_count": 136,
   "id": "adce1d15",
   "metadata": {
    "ExecuteTime": {
     "end_time": "2022-08-09T03:49:07.916763Z",
     "start_time": "2022-08-09T03:49:07.913026Z"
    },
    "hidden": true
   },
   "outputs": [
    {
     "data": {
      "text/plain": [
       "1.6"
      ]
     },
     "execution_count": 136,
     "metadata": {},
     "output_type": "execute_result"
    }
   ],
   "source": [
    "#heretim\n",
    "#TODO(failing ^that/if exponents are significantly different): try using harmonic mean instead of arithmetic mean\n",
    "#HINT:\n",
    "hmean([1, 4])"
   ]
  },
  {
   "cell_type": "code",
   "execution_count": 81,
   "id": "88b3eb74",
   "metadata": {
    "ExecuteTime": {
     "end_time": "2022-08-08T22:31:52.955141Z",
     "start_time": "2022-08-08T22:31:52.952766Z"
    },
    "hidden": true
   },
   "outputs": [],
   "source": [
    "#TODO: plot the powerlaw fit. is it like the annihilations or the creations?"
   ]
  },
  {
   "cell_type": "code",
   "execution_count": 96,
   "id": "a6e404c1",
   "metadata": {
    "ExecuteTime": {
     "end_time": "2022-08-09T01:33:48.814723Z",
     "start_time": "2022-08-09T01:33:48.698734Z"
    },
    "hidden": true
   },
   "outputs": [
    {
     "data": {
      "image/png": "[encoded data removed]",
      "text/plain": [
       "<Figure size 432x288 with 1 Axes>"
      ]
     },
     "metadata": {
      "needs_background": "light"
     },
     "output_type": "display_data"
    }
   ],
   "source": [
    "import seaborn as sns\n",
    "ax = sns.violinplot(x=\"q\", y=\"w\", data=df_bar, inner=None)\n",
    "ax = sns.swarmplot(x=\"q\", y=\"w\", data=df_bar,\n",
    "                   color=\"white\", edgecolor=\"gray\")"
   ]
  },
  {
   "cell_type": "code",
   "execution_count": 100,
   "id": "29f844e6",
   "metadata": {
    "ExecuteTime": {
     "end_time": "2022-08-09T01:36:22.075846Z",
     "start_time": "2022-08-09T01:36:22.072038Z"
    },
    "hidden": true
   },
   "outputs": [],
   "source": [
    "#TODO: compute xy data in df_rates\n",
    "df_rates['q'] = df_rates['n_before']/area\n",
    "df_rates['w'] = df_rates['death_rate']/area\n",
    "df_rates['winv'] = df_rates['dur']*area #expect: winv = 1/w"
   ]
  },
  {
   "cell_type": "code",
   "execution_count": 103,
   "id": "1c2e1776",
   "metadata": {
    "ExecuteTime": {
     "end_time": "2022-08-09T03:20:35.216613Z",
     "start_time": "2022-08-09T03:20:35.214102Z"
    },
    "hidden": true
   },
   "outputs": [],
   "source": [
    "# #NOTE: swarmplot is good only for a small number of samples\n",
    "# #DONE: swarmplot df_rates\n",
    "# import seaborn as sns\n",
    "# ax = sns.violinplot(x=\"q\", y=\"w\", data=df_rates, inner=None)\n",
    "# ax = sns.swarmplot(x=\"q\", y=\"w\", data=df_rates,\n",
    "#                    color=\"white\", edgecolor=\"gray\")"
   ]
  },
  {
   "cell_type": "code",
   "execution_count": null,
   "id": "7ad587bc",
   "metadata": {
    "hidden": true
   },
   "outputs": [],
   "source": [
    "#TODO: copy ^that plot to .odg"
   ]
  },
  {
   "cell_type": "code",
   "execution_count": null,
   "id": "c42e69c0",
   "metadata": {
    "hidden": true
   },
   "outputs": [],
   "source": []
  },
  {
   "cell_type": "code",
   "execution_count": null,
   "id": "a9fa3e3d",
   "metadata": {
    "hidden": true
   },
   "outputs": [],
   "source": []
  },
  {
   "cell_type": "code",
   "execution_count": null,
   "id": "00602715",
   "metadata": {
    "hidden": true
   },
   "outputs": [],
   "source": [
    "#TODO: return q,w values before averaging\n",
    "#TODO: scatter plot by considering annihilation rates from many log_parquet_folders\n",
    "#TODO: plot the scatter plot of all observed q,w values from many log_parquet_folders\n",
    "#TODO: bootstrap an xy trace for ^that\n",
    "#TODO: compute the powerlaw fit to ^this\n",
    "#TODO: plot the powerlaw fit to ^this"
   ]
  },
  {
   "cell_type": "code",
   "execution_count": null,
   "id": "b3b2431d",
   "metadata": {
    "hidden": true
   },
   "outputs": [],
   "source": []
  },
  {
   "cell_type": "code",
   "execution_count": null,
   "id": "859c8251",
   "metadata": {
    "hidden": true
   },
   "outputs": [],
   "source": []
  },
  {
   "cell_type": "code",
   "execution_count": 27,
   "id": "f4d4a2aa",
   "metadata": {
    "ExecuteTime": {
     "end_time": "2022-08-07T00:33:37.617066Z",
     "start_time": "2022-08-07T00:33:37.614844Z"
    },
    "hidden": true
   },
   "outputs": [],
   "source": [
    "#TODO: generate plot of mean annihilation rates versus particle number. save to .odg\n",
    "#TODO: generate plot of mean annihilation rated density versus particle density. save to .odg\n",
    "#TODO: add violinplot in the background for each xlabel in xlabel_lst\n",
    "#HINT: \n",
    "# for xlabel,values in zip(xlabel_lst,values_lst,dic_lst):\n",
    "#     #TOOD: plot 95% ci with violin plot\n",
    "#HINT:\n",
    "# for xlabel,values in zip(xlabel_lst,values_lst):\n",
    "#     Delta_mean,p=bootstrap_95CI_Delta_mean(values,num_samples=1000)"
   ]
  },
  {
   "cell_type": "code",
   "execution_count": 28,
   "id": "fda988cb",
   "metadata": {
    "ExecuteTime": {
     "end_time": "2022-08-07T00:33:37.891492Z",
     "start_time": "2022-08-07T00:33:37.889564Z"
    },
    "hidden": true
   },
   "outputs": [],
   "source": [
    "#TODO: compute ^this powerlaw fit"
   ]
  },
  {
   "cell_type": "code",
   "execution_count": 29,
   "id": "524d2e61",
   "metadata": {
    "ExecuteTime": {
     "end_time": "2022-08-07T00:33:38.271376Z",
     "start_time": "2022-08-07T00:33:38.268509Z"
    },
    "hidden": true
   },
   "outputs": [],
   "source": [
    "#TODO(later): functionally clean the parquet caches by using the following over a list of folders\n",
    "# clean_parquet_by(folder_parquet)"
   ]
  },
  {
   "cell_type": "markdown",
   "id": "2a80770e",
   "metadata": {
    "heading_collapsed": true
   },
   "source": [
    "# DONE: showed the existance of low rmse values for large ranges\n",
    "- TODO: dev run 25 at smaller r,kappa values\n",
    "- TODO: find the best r,kappa for either of the full models"
   ]
  },
  {
   "cell_type": "code",
   "execution_count": 12,
   "id": "a91cd33d",
   "metadata": {
    "ExecuteTime": {
     "end_time": "2022-09-05T06:22:19.772379Z",
     "start_time": "2022-09-05T06:22:19.768672Z"
    },
    "hidden": true
   },
   "outputs": [
    {
     "name": "stdout",
     "output_type": "stream",
     "text": [
      "fk_pbc lr_pbc\n",
      "m=1.6375562704001745\n",
      "Delta_m=0.017190912126700632\n",
      "M=16.73559858353835\n",
      "Delta_M=0.8465090320196467\n"
     ]
    }
   ],
   "source": [
    "#DONE: recall desired powerlaw fit\n",
    "# Recall powerlaw fits to full models\n",
    "wjr=recall_powerlaw_fits_to_full_models()\n",
    "print(*wjr)\n",
    "\n",
    "# #select fenton-karma model\n",
    "# dict_fit = wjr['fk_pbc']\n",
    "# alinear= 1.553 #(16) cm^2/s\n",
    "# D = 0.114 #(8) cm^2/s\n",
    "\n",
    "#select luo-rudy model\n",
    "dict_fit = wjr['lr_pbc']\n",
    "alinear= 9.969 #(100) cm^2/s\n",
    "D = 0.09 #(50) cm^2/s\n",
    "\n",
    "\n",
    "print_dict(dict_fit)\n",
    "m=dict_fit['m']\n",
    "M=dict_fit['M']"
   ]
  },
  {
   "cell_type": "code",
   "execution_count": 15,
   "id": "088ac0d3",
   "metadata": {
    "ExecuteTime": {
     "end_time": "2022-09-05T06:23:20.674052Z",
     "start_time": "2022-09-05T06:23:20.668142Z"
    },
    "hidden": true
   },
   "outputs": [],
   "source": [
    "def comp_rmse_powerlaw(df,q_values,M,m,dq=0.05):\n",
    "    \"\"\"\n",
    "    Example Usage:\n",
    "input_fn=f\"/home/timothytyree/Documents/GitHub/bgmc/python/data/osg_output/run_24_all_powerlaw_fits.csv\"\n",
    "df=pd.read_csv(input_fn)\n",
    "df = comp_rmse_powerlaw(df,q_values,M,m,dq=0.05)\n",
    "df.sort_values(by='rmse',inplace=True)\n",
    "df['rmse'].values\n",
    "    \"\"\"\n",
    "    #compute q_values used by df\n",
    "    q_min = df.q_min.drop_duplicates().values[0]\n",
    "    q_max = df.q_max.drop_duplicates().values[0]\n",
    "    q_values=np.arange(q_min,q_max,dq)\n",
    "    #input: m,M, q_values used by df\n",
    "    #output: w_values\n",
    "    w_values=M*q_values**m\n",
    "\n",
    "    #compute rmse for each row\n",
    "    df['rmse']=np.nan\n",
    "    for i,row in df.iterrows():\n",
    "        m_ = row['m']\n",
    "        M_ = row['M']\n",
    "        w_values_linear=M_*q_values**m_\n",
    "        df.loc[i,'rmse']= np.sqrt(np.mean((w_values_linear-w_values)**2))\n",
    "    return df"
   ]
  },
  {
   "cell_type": "code",
   "execution_count": 16,
   "id": "cd06e084",
   "metadata": {
    "ExecuteTime": {
     "end_time": "2022-09-05T06:23:21.012714Z",
     "start_time": "2022-09-05T06:23:20.981219Z"
    },
    "hidden": true
   },
   "outputs": [
    {
     "ename": "NameError",
     "evalue": "name 'q_values' is not defined",
     "output_type": "error",
     "traceback": [
      "\u001b[0;31m---------------------------------------------------------------------------\u001b[0m",
      "\u001b[0;31mNameError\u001b[0m                                 Traceback (most recent call last)",
      "Input \u001b[0;32mIn [16]\u001b[0m, in \u001b[0;36m<cell line: 3>\u001b[0;34m()\u001b[0m\n\u001b[1;32m      1\u001b[0m input_fn\u001b[38;5;241m=\u001b[39m\u001b[38;5;124mf\u001b[39m\u001b[38;5;124m\"\u001b[39m\u001b[38;5;124m/home/timothytyree/Documents/GitHub/bgmc/python/data/osg_output/run_24_all_powerlaw_fits.csv\u001b[39m\u001b[38;5;124m\"\u001b[39m\n\u001b[1;32m      2\u001b[0m df\u001b[38;5;241m=\u001b[39mpd\u001b[38;5;241m.\u001b[39mread_csv(input_fn)\n\u001b[0;32m----> 3\u001b[0m df \u001b[38;5;241m=\u001b[39m comp_rmse_powerlaw(df,\u001b[43mq_values\u001b[49m,M,m,dq\u001b[38;5;241m=\u001b[39m\u001b[38;5;241m0.05\u001b[39m)\n\u001b[1;32m      4\u001b[0m df\u001b[38;5;241m.\u001b[39msort_values(by\u001b[38;5;241m=\u001b[39m\u001b[38;5;124m'\u001b[39m\u001b[38;5;124mrmse\u001b[39m\u001b[38;5;124m'\u001b[39m,inplace\u001b[38;5;241m=\u001b[39m\u001b[38;5;28;01mTrue\u001b[39;00m)\n\u001b[1;32m      5\u001b[0m df[\u001b[38;5;124m'\u001b[39m\u001b[38;5;124mrmse\u001b[39m\u001b[38;5;124m'\u001b[39m]\u001b[38;5;241m.\u001b[39mvalues\n",
      "\u001b[0;31mNameError\u001b[0m: name 'q_values' is not defined"
     ]
    }
   ],
   "source": [
    "input_fn=f\"/home/timothytyree/Documents/GitHub/bgmc/python/data/osg_output/run_24_all_powerlaw_fits.csv\"\n",
    "df=pd.read_csv(input_fn)\n",
    "df = comp_rmse_powerlaw(df,q_values,M,m,dq=0.05)\n",
    "df.sort_values(by='rmse',inplace=True)\n",
    "df['rmse'].values"
   ]
  },
  {
   "cell_type": "code",
   "execution_count": 293,
   "id": "0ee8d46b",
   "metadata": {
    "ExecuteTime": {
     "end_time": "2022-08-10T21:16:33.123876Z",
     "start_time": "2022-08-10T21:16:33.112199Z"
    },
    "hidden": true
   },
   "outputs": [
    {
     "data": {
      "text/plain": [
       "9.969"
      ]
     },
     "execution_count": 293,
     "metadata": {},
     "output_type": "execute_result"
    }
   ],
   "source": [
    "alinear"
   ]
  },
  {
   "cell_type": "code",
   "execution_count": 294,
   "id": "eac23e7a",
   "metadata": {
    "ExecuteTime": {
     "end_time": "2022-08-10T21:16:49.642850Z",
     "start_time": "2022-08-10T21:16:49.628024Z"
    },
    "hidden": true
   },
   "outputs": [
    {
     "name": "stdout",
     "output_type": "stream",
     "text": [
      "alinear=9.969, D=0.09\n",
      "showing settings with r=1.7, sorted by rmse\n"
     ]
    },
    {
     "data": {
      "text/html": [
       "<div>\n",
       "<style scoped>\n",
       "    .dataframe tbody tr th:only-of-type {\n",
       "        vertical-align: middle;\n",
       "    }\n",
       "\n",
       "    .dataframe tbody tr th {\n",
       "        vertical-align: top;\n",
       "    }\n",
       "\n",
       "    .dataframe thead th {\n",
       "        text-align: right;\n",
       "    }\n",
       "</style>\n",
       "<table border=\"1\" class=\"dataframe\">\n",
       "  <thead>\n",
       "    <tr style=\"text-align: right;\">\n",
       "      <th></th>\n",
       "      <th>varkappa</th>\n",
       "      <th>D</th>\n",
       "      <th>r</th>\n",
       "      <th>kappa</th>\n",
       "      <th>rmse</th>\n",
       "      <th>m</th>\n",
       "      <th>M</th>\n",
       "    </tr>\n",
       "  </thead>\n",
       "  <tbody>\n",
       "    <tr>\n",
       "      <th>1354</th>\n",
       "      <td>1.553</td>\n",
       "      <td>0.114</td>\n",
       "      <td>1.7</td>\n",
       "      <td>10</td>\n",
       "      <td>3.492767</td>\n",
       "      <td>2.735264</td>\n",
       "      <td>41.831489</td>\n",
       "    </tr>\n",
       "    <tr>\n",
       "      <th>2275</th>\n",
       "      <td>9.969</td>\n",
       "      <td>0.090</td>\n",
       "      <td>1.7</td>\n",
       "      <td>10</td>\n",
       "      <td>3.541269</td>\n",
       "      <td>2.657610</td>\n",
       "      <td>40.864289</td>\n",
       "    </tr>\n",
       "    <tr>\n",
       "      <th>70</th>\n",
       "      <td>1.553</td>\n",
       "      <td>0.090</td>\n",
       "      <td>1.7</td>\n",
       "      <td>10</td>\n",
       "      <td>3.580897</td>\n",
       "      <td>2.742509</td>\n",
       "      <td>42.367299</td>\n",
       "    </tr>\n",
       "    <tr>\n",
       "      <th>1312</th>\n",
       "      <td>9.969</td>\n",
       "      <td>0.114</td>\n",
       "      <td>1.7</td>\n",
       "      <td>10</td>\n",
       "      <td>3.858362</td>\n",
       "      <td>2.672519</td>\n",
       "      <td>42.556704</td>\n",
       "    </tr>\n",
       "    <tr>\n",
       "      <th>2023</th>\n",
       "      <td>9.969</td>\n",
       "      <td>0.114</td>\n",
       "      <td>1.7</td>\n",
       "      <td>15</td>\n",
       "      <td>7.909668</td>\n",
       "      <td>2.663472</td>\n",
       "      <td>60.498531</td>\n",
       "    </tr>\n",
       "    <tr>\n",
       "      <th>2111</th>\n",
       "      <td>1.553</td>\n",
       "      <td>0.090</td>\n",
       "      <td>1.7</td>\n",
       "      <td>15</td>\n",
       "      <td>8.055386</td>\n",
       "      <td>2.691712</td>\n",
       "      <td>61.844425</td>\n",
       "    </tr>\n",
       "    <tr>\n",
       "      <th>2642</th>\n",
       "      <td>1.553</td>\n",
       "      <td>0.114</td>\n",
       "      <td>1.7</td>\n",
       "      <td>15</td>\n",
       "      <td>8.169136</td>\n",
       "      <td>2.712927</td>\n",
       "      <td>62.888741</td>\n",
       "    </tr>\n",
       "    <tr>\n",
       "      <th>1621</th>\n",
       "      <td>9.969</td>\n",
       "      <td>0.090</td>\n",
       "      <td>1.7</td>\n",
       "      <td>15</td>\n",
       "      <td>8.239523</td>\n",
       "      <td>2.722075</td>\n",
       "      <td>63.439471</td>\n",
       "    </tr>\n",
       "    <tr>\n",
       "      <th>3865</th>\n",
       "      <td>9.969</td>\n",
       "      <td>0.090</td>\n",
       "      <td>1.7</td>\n",
       "      <td>20</td>\n",
       "      <td>12.521384</td>\n",
       "      <td>2.666927</td>\n",
       "      <td>80.888226</td>\n",
       "    </tr>\n",
       "    <tr>\n",
       "      <th>176</th>\n",
       "      <td>1.553</td>\n",
       "      <td>0.114</td>\n",
       "      <td>1.7</td>\n",
       "      <td>20</td>\n",
       "      <td>12.913066</td>\n",
       "      <td>2.755565</td>\n",
       "      <td>85.676180</td>\n",
       "    </tr>\n",
       "    <tr>\n",
       "      <th>576</th>\n",
       "      <td>9.969</td>\n",
       "      <td>0.114</td>\n",
       "      <td>1.7</td>\n",
       "      <td>20</td>\n",
       "      <td>13.106102</td>\n",
       "      <td>2.714131</td>\n",
       "      <td>85.097553</td>\n",
       "    </tr>\n",
       "    <tr>\n",
       "      <th>3656</th>\n",
       "      <td>1.553</td>\n",
       "      <td>0.090</td>\n",
       "      <td>1.7</td>\n",
       "      <td>20</td>\n",
       "      <td>13.418209</td>\n",
       "      <td>2.799769</td>\n",
       "      <td>89.583380</td>\n",
       "    </tr>\n",
       "    <tr>\n",
       "      <th>1714</th>\n",
       "      <td>9.969</td>\n",
       "      <td>0.090</td>\n",
       "      <td>1.7</td>\n",
       "      <td>25</td>\n",
       "      <td>16.832930</td>\n",
       "      <td>2.661715</td>\n",
       "      <td>99.587119</td>\n",
       "    </tr>\n",
       "    <tr>\n",
       "      <th>4149</th>\n",
       "      <td>1.553</td>\n",
       "      <td>0.114</td>\n",
       "      <td>1.7</td>\n",
       "      <td>25</td>\n",
       "      <td>16.900393</td>\n",
       "      <td>2.708704</td>\n",
       "      <td>101.854115</td>\n",
       "    </tr>\n",
       "    <tr>\n",
       "      <th>1689</th>\n",
       "      <td>1.553</td>\n",
       "      <td>0.090</td>\n",
       "      <td>1.7</td>\n",
       "      <td>25</td>\n",
       "      <td>17.635800</td>\n",
       "      <td>2.751128</td>\n",
       "      <td>106.999681</td>\n",
       "    </tr>\n",
       "    <tr>\n",
       "      <th>1632</th>\n",
       "      <td>9.969</td>\n",
       "      <td>0.114</td>\n",
       "      <td>1.7</td>\n",
       "      <td>25</td>\n",
       "      <td>17.975233</td>\n",
       "      <td>2.723753</td>\n",
       "      <td>107.318779</td>\n",
       "    </tr>\n",
       "    <tr>\n",
       "      <th>822</th>\n",
       "      <td>9.969</td>\n",
       "      <td>0.090</td>\n",
       "      <td>1.7</td>\n",
       "      <td>30</td>\n",
       "      <td>21.699052</td>\n",
       "      <td>2.708815</td>\n",
       "      <td>123.264911</td>\n",
       "    </tr>\n",
       "    <tr>\n",
       "      <th>1351</th>\n",
       "      <td>1.553</td>\n",
       "      <td>0.090</td>\n",
       "      <td>1.7</td>\n",
       "      <td>30</td>\n",
       "      <td>22.002412</td>\n",
       "      <td>2.752368</td>\n",
       "      <td>126.897067</td>\n",
       "    </tr>\n",
       "    <tr>\n",
       "      <th>466</th>\n",
       "      <td>1.553</td>\n",
       "      <td>0.114</td>\n",
       "      <td>1.7</td>\n",
       "      <td>30</td>\n",
       "      <td>22.168478</td>\n",
       "      <td>2.728446</td>\n",
       "      <td>126.388030</td>\n",
       "    </tr>\n",
       "    <tr>\n",
       "      <th>3819</th>\n",
       "      <td>9.969</td>\n",
       "      <td>0.114</td>\n",
       "      <td>1.7</td>\n",
       "      <td>30</td>\n",
       "      <td>22.458435</td>\n",
       "      <td>2.735581</td>\n",
       "      <td>128.071606</td>\n",
       "    </tr>\n",
       "  </tbody>\n",
       "</table>\n",
       "</div>"
      ],
      "text/plain": [
       "      varkappa      D    r  kappa       rmse         m           M\n",
       "1354     1.553  0.114  1.7     10   3.492767  2.735264   41.831489\n",
       "2275     9.969  0.090  1.7     10   3.541269  2.657610   40.864289\n",
       "70       1.553  0.090  1.7     10   3.580897  2.742509   42.367299\n",
       "1312     9.969  0.114  1.7     10   3.858362  2.672519   42.556704\n",
       "2023     9.969  0.114  1.7     15   7.909668  2.663472   60.498531\n",
       "2111     1.553  0.090  1.7     15   8.055386  2.691712   61.844425\n",
       "2642     1.553  0.114  1.7     15   8.169136  2.712927   62.888741\n",
       "1621     9.969  0.090  1.7     15   8.239523  2.722075   63.439471\n",
       "3865     9.969  0.090  1.7     20  12.521384  2.666927   80.888226\n",
       "176      1.553  0.114  1.7     20  12.913066  2.755565   85.676180\n",
       "576      9.969  0.114  1.7     20  13.106102  2.714131   85.097553\n",
       "3656     1.553  0.090  1.7     20  13.418209  2.799769   89.583380\n",
       "1714     9.969  0.090  1.7     25  16.832930  2.661715   99.587119\n",
       "4149     1.553  0.114  1.7     25  16.900393  2.708704  101.854115\n",
       "1689     1.553  0.090  1.7     25  17.635800  2.751128  106.999681\n",
       "1632     9.969  0.114  1.7     25  17.975233  2.723753  107.318779\n",
       "822      9.969  0.090  1.7     30  21.699052  2.708815  123.264911\n",
       "1351     1.553  0.090  1.7     30  22.002412  2.752368  126.897067\n",
       "466      1.553  0.114  1.7     30  22.168478  2.728446  126.388030\n",
       "3819     9.969  0.114  1.7     30  22.458435  2.735581  128.071606"
      ]
     },
     "execution_count": 294,
     "metadata": {},
     "output_type": "execute_result"
    }
   ],
   "source": [
    "r=1.7\n",
    "# col_lst=['varkappa','D','r','kappa','rmse']\n",
    "col_lst=['varkappa','D','r','kappa','rmse', 'm', 'M']\n",
    "boo = df['r']==r\n",
    "print(f\"{alinear=}, {D=}\")\n",
    "print(f\"showing settings with {r=}, sorted by rmse\")\n",
    "df[boo][col_lst].head(20)"
   ]
  },
  {
   "cell_type": "code",
   "execution_count": 296,
   "id": "8e3d9bc9",
   "metadata": {
    "ExecuteTime": {
     "end_time": "2022-08-10T21:17:13.559439Z",
     "start_time": "2022-08-10T21:17:13.545309Z"
    },
    "hidden": true
   },
   "outputs": [
    {
     "name": "stdout",
     "output_type": "stream",
     "text": [
      "alinear=9.969, D=0.09\n",
      "showing settings with any r, sorted by rmse\n"
     ]
    },
    {
     "data": {
      "text/html": [
       "<div>\n",
       "<style scoped>\n",
       "    .dataframe tbody tr th:only-of-type {\n",
       "        vertical-align: middle;\n",
       "    }\n",
       "\n",
       "    .dataframe tbody tr th {\n",
       "        vertical-align: top;\n",
       "    }\n",
       "\n",
       "    .dataframe thead th {\n",
       "        text-align: right;\n",
       "    }\n",
       "</style>\n",
       "<table border=\"1\" class=\"dataframe\">\n",
       "  <thead>\n",
       "    <tr style=\"text-align: right;\">\n",
       "      <th></th>\n",
       "      <th>varkappa</th>\n",
       "      <th>D</th>\n",
       "      <th>r</th>\n",
       "      <th>kappa</th>\n",
       "      <th>rmse</th>\n",
       "      <th>m</th>\n",
       "      <th>M</th>\n",
       "    </tr>\n",
       "  </thead>\n",
       "  <tbody>\n",
       "    <tr>\n",
       "      <th>1770</th>\n",
       "      <td>9.969</td>\n",
       "      <td>0.114</td>\n",
       "      <td>0.1</td>\n",
       "      <td>365</td>\n",
       "      <td>0.195730</td>\n",
       "      <td>1.785239</td>\n",
       "      <td>17.872971</td>\n",
       "    </tr>\n",
       "    <tr>\n",
       "      <th>183</th>\n",
       "      <td>9.969</td>\n",
       "      <td>0.090</td>\n",
       "      <td>0.1</td>\n",
       "      <td>360</td>\n",
       "      <td>0.226850</td>\n",
       "      <td>1.780952</td>\n",
       "      <td>17.570390</td>\n",
       "    </tr>\n",
       "    <tr>\n",
       "      <th>3821</th>\n",
       "      <td>9.969</td>\n",
       "      <td>0.090</td>\n",
       "      <td>0.1</td>\n",
       "      <td>375</td>\n",
       "      <td>0.233233</td>\n",
       "      <td>1.817953</td>\n",
       "      <td>18.248351</td>\n",
       "    </tr>\n",
       "    <tr>\n",
       "      <th>3071</th>\n",
       "      <td>9.969</td>\n",
       "      <td>0.090</td>\n",
       "      <td>0.1</td>\n",
       "      <td>380</td>\n",
       "      <td>0.241542</td>\n",
       "      <td>1.821264</td>\n",
       "      <td>18.430598</td>\n",
       "    </tr>\n",
       "    <tr>\n",
       "      <th>3946</th>\n",
       "      <td>9.969</td>\n",
       "      <td>0.114</td>\n",
       "      <td>0.1</td>\n",
       "      <td>350</td>\n",
       "      <td>0.246114</td>\n",
       "      <td>1.816769</td>\n",
       "      <td>18.009566</td>\n",
       "    </tr>\n",
       "    <tr>\n",
       "      <th>3649</th>\n",
       "      <td>9.969</td>\n",
       "      <td>0.090</td>\n",
       "      <td>0.1</td>\n",
       "      <td>350</td>\n",
       "      <td>0.246122</td>\n",
       "      <td>1.787446</td>\n",
       "      <td>17.562223</td>\n",
       "    </tr>\n",
       "    <tr>\n",
       "      <th>1553</th>\n",
       "      <td>9.969</td>\n",
       "      <td>0.114</td>\n",
       "      <td>0.1</td>\n",
       "      <td>370</td>\n",
       "      <td>0.247127</td>\n",
       "      <td>1.814590</td>\n",
       "      <td>18.514979</td>\n",
       "    </tr>\n",
       "    <tr>\n",
       "      <th>4184</th>\n",
       "      <td>9.969</td>\n",
       "      <td>0.114</td>\n",
       "      <td>0.1</td>\n",
       "      <td>355</td>\n",
       "      <td>0.250966</td>\n",
       "      <td>1.799923</td>\n",
       "      <td>17.707876</td>\n",
       "    </tr>\n",
       "    <tr>\n",
       "      <th>3029</th>\n",
       "      <td>9.969</td>\n",
       "      <td>0.114</td>\n",
       "      <td>0.1</td>\n",
       "      <td>360</td>\n",
       "      <td>0.259558</td>\n",
       "      <td>1.838878</td>\n",
       "      <td>18.410090</td>\n",
       "    </tr>\n",
       "    <tr>\n",
       "      <th>67</th>\n",
       "      <td>9.969</td>\n",
       "      <td>0.090</td>\n",
       "      <td>0.1</td>\n",
       "      <td>390</td>\n",
       "      <td>0.260380</td>\n",
       "      <td>1.815805</td>\n",
       "      <td>18.609376</td>\n",
       "    </tr>\n",
       "    <tr>\n",
       "      <th>1458</th>\n",
       "      <td>9.969</td>\n",
       "      <td>0.090</td>\n",
       "      <td>0.1</td>\n",
       "      <td>370</td>\n",
       "      <td>0.263047</td>\n",
       "      <td>1.839559</td>\n",
       "      <td>18.573184</td>\n",
       "    </tr>\n",
       "    <tr>\n",
       "      <th>93</th>\n",
       "      <td>9.969</td>\n",
       "      <td>0.090</td>\n",
       "      <td>0.1</td>\n",
       "      <td>365</td>\n",
       "      <td>0.267860</td>\n",
       "      <td>1.819859</td>\n",
       "      <td>17.903288</td>\n",
       "    </tr>\n",
       "    <tr>\n",
       "      <th>2866</th>\n",
       "      <td>9.969</td>\n",
       "      <td>0.090</td>\n",
       "      <td>0.1</td>\n",
       "      <td>345</td>\n",
       "      <td>0.268436</td>\n",
       "      <td>1.808127</td>\n",
       "      <td>17.729678</td>\n",
       "    </tr>\n",
       "    <tr>\n",
       "      <th>4227</th>\n",
       "      <td>9.969</td>\n",
       "      <td>0.090</td>\n",
       "      <td>0.1</td>\n",
       "      <td>385</td>\n",
       "      <td>0.286478</td>\n",
       "      <td>1.836041</td>\n",
       "      <td>18.812289</td>\n",
       "    </tr>\n",
       "    <tr>\n",
       "      <th>1668</th>\n",
       "      <td>9.969</td>\n",
       "      <td>0.090</td>\n",
       "      <td>0.1</td>\n",
       "      <td>355</td>\n",
       "      <td>0.289263</td>\n",
       "      <td>1.834597</td>\n",
       "      <td>17.995389</td>\n",
       "    </tr>\n",
       "    <tr>\n",
       "      <th>2314</th>\n",
       "      <td>9.969</td>\n",
       "      <td>0.114</td>\n",
       "      <td>0.1</td>\n",
       "      <td>385</td>\n",
       "      <td>0.290937</td>\n",
       "      <td>1.830772</td>\n",
       "      <td>18.828711</td>\n",
       "    </tr>\n",
       "    <tr>\n",
       "      <th>3056</th>\n",
       "      <td>9.969</td>\n",
       "      <td>0.090</td>\n",
       "      <td>0.1</td>\n",
       "      <td>395</td>\n",
       "      <td>0.300223</td>\n",
       "      <td>1.836030</td>\n",
       "      <td>18.896870</td>\n",
       "    </tr>\n",
       "    <tr>\n",
       "      <th>471</th>\n",
       "      <td>9.969</td>\n",
       "      <td>0.114</td>\n",
       "      <td>0.1</td>\n",
       "      <td>380</td>\n",
       "      <td>0.302167</td>\n",
       "      <td>1.825576</td>\n",
       "      <td>18.871682</td>\n",
       "    </tr>\n",
       "    <tr>\n",
       "      <th>2558</th>\n",
       "      <td>9.969</td>\n",
       "      <td>0.114</td>\n",
       "      <td>0.1</td>\n",
       "      <td>390</td>\n",
       "      <td>0.304761</td>\n",
       "      <td>1.856020</td>\n",
       "      <td>18.959895</td>\n",
       "    </tr>\n",
       "    <tr>\n",
       "      <th>3991</th>\n",
       "      <td>9.969</td>\n",
       "      <td>0.114</td>\n",
       "      <td>0.1</td>\n",
       "      <td>345</td>\n",
       "      <td>0.304841</td>\n",
       "      <td>1.798084</td>\n",
       "      <td>17.438480</td>\n",
       "    </tr>\n",
       "  </tbody>\n",
       "</table>\n",
       "</div>"
      ],
      "text/plain": [
       "      varkappa      D    r  kappa      rmse         m          M\n",
       "1770     9.969  0.114  0.1    365  0.195730  1.785239  17.872971\n",
       "183      9.969  0.090  0.1    360  0.226850  1.780952  17.570390\n",
       "3821     9.969  0.090  0.1    375  0.233233  1.817953  18.248351\n",
       "3071     9.969  0.090  0.1    380  0.241542  1.821264  18.430598\n",
       "3946     9.969  0.114  0.1    350  0.246114  1.816769  18.009566\n",
       "3649     9.969  0.090  0.1    350  0.246122  1.787446  17.562223\n",
       "1553     9.969  0.114  0.1    370  0.247127  1.814590  18.514979\n",
       "4184     9.969  0.114  0.1    355  0.250966  1.799923  17.707876\n",
       "3029     9.969  0.114  0.1    360  0.259558  1.838878  18.410090\n",
       "67       9.969  0.090  0.1    390  0.260380  1.815805  18.609376\n",
       "1458     9.969  0.090  0.1    370  0.263047  1.839559  18.573184\n",
       "93       9.969  0.090  0.1    365  0.267860  1.819859  17.903288\n",
       "2866     9.969  0.090  0.1    345  0.268436  1.808127  17.729678\n",
       "4227     9.969  0.090  0.1    385  0.286478  1.836041  18.812289\n",
       "1668     9.969  0.090  0.1    355  0.289263  1.834597  17.995389\n",
       "2314     9.969  0.114  0.1    385  0.290937  1.830772  18.828711\n",
       "3056     9.969  0.090  0.1    395  0.300223  1.836030  18.896870\n",
       "471      9.969  0.114  0.1    380  0.302167  1.825576  18.871682\n",
       "2558     9.969  0.114  0.1    390  0.304761  1.856020  18.959895\n",
       "3991     9.969  0.114  0.1    345  0.304841  1.798084  17.438480"
      ]
     },
     "execution_count": 296,
     "metadata": {},
     "output_type": "execute_result"
    }
   ],
   "source": [
    "# r=1.7\n",
    "# col_lst=['varkappa','D','r','kappa','rmse']\n",
    "col_lst=['varkappa','D','r','kappa','rmse', 'm', 'M']\n",
    "boo = df['r']==r\n",
    "print(f\"{alinear=}, {D=}\")\n",
    "print(f\"showing settings with any r, sorted by rmse\")\n",
    "df[col_lst].head(20)"
   ]
  },
  {
   "cell_type": "code",
   "execution_count": 266,
   "id": "ccbf26bd",
   "metadata": {
    "ExecuteTime": {
     "end_time": "2022-08-10T20:29:49.445232Z",
     "start_time": "2022-08-10T20:29:49.441615Z"
    },
    "hidden": true
   },
   "outputs": [],
   "source": [
    "# df.plot.scatter(x='r',y='rmse')"
   ]
  },
  {
   "cell_type": "code",
   "execution_count": 241,
   "id": "6553ded0",
   "metadata": {
    "ExecuteTime": {
     "end_time": "2022-08-10T20:19:42.150033Z",
     "start_time": "2022-08-10T20:19:42.147156Z"
    },
    "hidden": true,
    "run_control": {
     "marked": true
    }
   },
   "outputs": [],
   "source": [
    "#GOAL: compute r,kappa for a given best powerlaw fit\n",
    "#heretim"
   ]
  },
  {
   "cell_type": "code",
   "execution_count": null,
   "id": "f983dd7b",
   "metadata": {
    "hidden": true
   },
   "outputs": [],
   "source": []
  },
  {
   "cell_type": "code",
   "execution_count": 232,
   "id": "c23ee2b2",
   "metadata": {
    "ExecuteTime": {
     "end_time": "2022-08-10T20:15:47.461128Z",
     "start_time": "2022-08-10T20:15:47.456941Z"
    },
    "hidden": true
   },
   "outputs": [
    {
     "data": {
      "text/plain": [
       "(1.8772341309722325, 5.572315674840435)"
      ]
     },
     "execution_count": 232,
     "metadata": {},
     "output_type": "execute_result"
    }
   ],
   "source": [
    "# plt.plot(q_values,w_values)\n",
    "m,M"
   ]
  },
  {
   "cell_type": "code",
   "execution_count": 233,
   "id": "c22e0d3d",
   "metadata": {
    "ExecuteTime": {
     "end_time": "2022-08-10T20:15:49.394782Z",
     "start_time": "2022-08-10T20:15:49.376602Z"
    },
    "hidden": true
   },
   "outputs": [
    {
     "data": {
      "text/html": [
       "<div>\n",
       "<style scoped>\n",
       "    .dataframe tbody tr th:only-of-type {\n",
       "        vertical-align: middle;\n",
       "    }\n",
       "\n",
       "    .dataframe tbody tr th {\n",
       "        vertical-align: top;\n",
       "    }\n",
       "\n",
       "    .dataframe thead th {\n",
       "        text-align: right;\n",
       "    }\n",
       "</style>\n",
       "<table border=\"1\" class=\"dataframe\">\n",
       "  <thead>\n",
       "    <tr style=\"text-align: right;\">\n",
       "      <th></th>\n",
       "      <th>m</th>\n",
       "      <th>Delta_m</th>\n",
       "      <th>M</th>\n",
       "      <th>Delta_M</th>\n",
       "      <th>Rsq</th>\n",
       "      <th>rmse</th>\n",
       "      <th>rmse_full</th>\n",
       "      <th>model_name_full</th>\n",
       "      <th>q_min</th>\n",
       "      <th>q_max</th>\n",
       "      <th>...</th>\n",
       "      <th>x0</th>\n",
       "      <th>L</th>\n",
       "      <th>force_code</th>\n",
       "      <th>neighbor</th>\n",
       "      <th>reflect</th>\n",
       "      <th>set_second</th>\n",
       "      <th>no_repulsion</th>\n",
       "      <th>no_attraction</th>\n",
       "      <th>dt</th>\n",
       "      <th>Dt</th>\n",
       "    </tr>\n",
       "  </thead>\n",
       "  <tbody>\n",
       "    <tr>\n",
       "      <th>3561</th>\n",
       "      <td>1.449377</td>\n",
       "      <td>0.042235</td>\n",
       "      <td>1.191753</td>\n",
       "      <td>0.053949</td>\n",
       "      <td>0.997794</td>\n",
       "      <td>0.010066</td>\n",
       "      <td>1.311481</td>\n",
       "      <td>fk_pbc</td>\n",
       "      <td>0.24</td>\n",
       "      <td>0.75</td>\n",
       "      <td>...</td>\n",
       "      <td>0</td>\n",
       "      <td>5</td>\n",
       "      <td>2</td>\n",
       "      <td>1</td>\n",
       "      <td>0</td>\n",
       "      <td>0</td>\n",
       "      <td>0</td>\n",
       "      <td>0</td>\n",
       "      <td>0.00001</td>\n",
       "      <td>0.00001</td>\n",
       "    </tr>\n",
       "    <tr>\n",
       "      <th>1454</th>\n",
       "      <td>1.529165</td>\n",
       "      <td>0.020763</td>\n",
       "      <td>3.840482</td>\n",
       "      <td>0.149269</td>\n",
       "      <td>0.999520</td>\n",
       "      <td>0.011808</td>\n",
       "      <td>0.333821</td>\n",
       "      <td>fk_pbc</td>\n",
       "      <td>0.24</td>\n",
       "      <td>0.75</td>\n",
       "      <td>...</td>\n",
       "      <td>0</td>\n",
       "      <td>5</td>\n",
       "      <td>2</td>\n",
       "      <td>1</td>\n",
       "      <td>0</td>\n",
       "      <td>0</td>\n",
       "      <td>0</td>\n",
       "      <td>0</td>\n",
       "      <td>0.00001</td>\n",
       "      <td>0.00001</td>\n",
       "    </tr>\n",
       "    <tr>\n",
       "      <th>2814</th>\n",
       "      <td>1.497712</td>\n",
       "      <td>0.050668</td>\n",
       "      <td>1.493514</td>\n",
       "      <td>0.092115</td>\n",
       "      <td>0.997030</td>\n",
       "      <td>0.014368</td>\n",
       "      <td>1.202696</td>\n",
       "      <td>fk_pbc</td>\n",
       "      <td>0.24</td>\n",
       "      <td>0.75</td>\n",
       "      <td>...</td>\n",
       "      <td>0</td>\n",
       "      <td>5</td>\n",
       "      <td>2</td>\n",
       "      <td>1</td>\n",
       "      <td>0</td>\n",
       "      <td>0</td>\n",
       "      <td>0</td>\n",
       "      <td>0</td>\n",
       "      <td>0.00001</td>\n",
       "      <td>0.00001</td>\n",
       "    </tr>\n",
       "    <tr>\n",
       "      <th>3196</th>\n",
       "      <td>1.666051</td>\n",
       "      <td>0.037442</td>\n",
       "      <td>1.889397</td>\n",
       "      <td>0.105285</td>\n",
       "      <td>0.998687</td>\n",
       "      <td>0.014483</td>\n",
       "      <td>1.109855</td>\n",
       "      <td>fk_pbc</td>\n",
       "      <td>0.24</td>\n",
       "      <td>0.75</td>\n",
       "      <td>...</td>\n",
       "      <td>0</td>\n",
       "      <td>5</td>\n",
       "      <td>2</td>\n",
       "      <td>1</td>\n",
       "      <td>0</td>\n",
       "      <td>0</td>\n",
       "      <td>0</td>\n",
       "      <td>0</td>\n",
       "      <td>0.00001</td>\n",
       "      <td>0.00001</td>\n",
       "    </tr>\n",
       "    <tr>\n",
       "      <th>3345</th>\n",
       "      <td>1.481496</td>\n",
       "      <td>0.026378</td>\n",
       "      <td>3.558011</td>\n",
       "      <td>0.174670</td>\n",
       "      <td>0.999175</td>\n",
       "      <td>0.015006</td>\n",
       "      <td>0.403763</td>\n",
       "      <td>fk_pbc</td>\n",
       "      <td>0.24</td>\n",
       "      <td>0.75</td>\n",
       "      <td>...</td>\n",
       "      <td>0</td>\n",
       "      <td>5</td>\n",
       "      <td>2</td>\n",
       "      <td>1</td>\n",
       "      <td>0</td>\n",
       "      <td>0</td>\n",
       "      <td>0</td>\n",
       "      <td>0</td>\n",
       "      <td>0.00001</td>\n",
       "      <td>0.00001</td>\n",
       "    </tr>\n",
       "    <tr>\n",
       "      <th>...</th>\n",
       "      <td>...</td>\n",
       "      <td>...</td>\n",
       "      <td>...</td>\n",
       "      <td>...</td>\n",
       "      <td>...</td>\n",
       "      <td>...</td>\n",
       "      <td>...</td>\n",
       "      <td>...</td>\n",
       "      <td>...</td>\n",
       "      <td>...</td>\n",
       "      <td>...</td>\n",
       "      <td>...</td>\n",
       "      <td>...</td>\n",
       "      <td>...</td>\n",
       "      <td>...</td>\n",
       "      <td>...</td>\n",
       "      <td>...</td>\n",
       "      <td>...</td>\n",
       "      <td>...</td>\n",
       "      <td>...</td>\n",
       "      <td>...</td>\n",
       "    </tr>\n",
       "    <tr>\n",
       "      <th>2486</th>\n",
       "      <td>3.839635</td>\n",
       "      <td>0.732940</td>\n",
       "      <td>1647.449093</td>\n",
       "      <td>11869.236996</td>\n",
       "      <td>0.913366</td>\n",
       "      <td>77.073741</td>\n",
       "      <td>275.459698</td>\n",
       "      <td>lr_pbc</td>\n",
       "      <td>0.24</td>\n",
       "      <td>0.75</td>\n",
       "      <td>...</td>\n",
       "      <td>0</td>\n",
       "      <td>5</td>\n",
       "      <td>2</td>\n",
       "      <td>1</td>\n",
       "      <td>0</td>\n",
       "      <td>0</td>\n",
       "      <td>0</td>\n",
       "      <td>0</td>\n",
       "      <td>0.00001</td>\n",
       "      <td>0.00001</td>\n",
       "    </tr>\n",
       "    <tr>\n",
       "      <th>907</th>\n",
       "      <td>3.707462</td>\n",
       "      <td>0.720661</td>\n",
       "      <td>1641.561828</td>\n",
       "      <td>11833.187548</td>\n",
       "      <td>0.910452</td>\n",
       "      <td>77.603291</td>\n",
       "      <td>289.251348</td>\n",
       "      <td>lr_pbc</td>\n",
       "      <td>0.24</td>\n",
       "      <td>0.75</td>\n",
       "      <td>...</td>\n",
       "      <td>0</td>\n",
       "      <td>5</td>\n",
       "      <td>2</td>\n",
       "      <td>1</td>\n",
       "      <td>0</td>\n",
       "      <td>0</td>\n",
       "      <td>0</td>\n",
       "      <td>0</td>\n",
       "      <td>0.00001</td>\n",
       "      <td>0.00001</td>\n",
       "    </tr>\n",
       "    <tr>\n",
       "      <th>3252</th>\n",
       "      <td>3.736928</td>\n",
       "      <td>0.695304</td>\n",
       "      <td>1735.088473</td>\n",
       "      <td>11531.827373</td>\n",
       "      <td>0.917333</td>\n",
       "      <td>79.762805</td>\n",
       "      <td>299.543535</td>\n",
       "      <td>lr_pbc</td>\n",
       "      <td>0.24</td>\n",
       "      <td>0.75</td>\n",
       "      <td>...</td>\n",
       "      <td>0</td>\n",
       "      <td>5</td>\n",
       "      <td>2</td>\n",
       "      <td>1</td>\n",
       "      <td>0</td>\n",
       "      <td>0</td>\n",
       "      <td>0</td>\n",
       "      <td>0</td>\n",
       "      <td>0.00001</td>\n",
       "      <td>0.00001</td>\n",
       "    </tr>\n",
       "    <tr>\n",
       "      <th>1292</th>\n",
       "      <td>3.841446</td>\n",
       "      <td>0.777649</td>\n",
       "      <td>1577.930472</td>\n",
       "      <td>13331.206463</td>\n",
       "      <td>0.903607</td>\n",
       "      <td>81.792549</td>\n",
       "      <td>270.053129</td>\n",
       "      <td>lr_pbc</td>\n",
       "      <td>0.24</td>\n",
       "      <td>0.75</td>\n",
       "      <td>...</td>\n",
       "      <td>0</td>\n",
       "      <td>5</td>\n",
       "      <td>2</td>\n",
       "      <td>1</td>\n",
       "      <td>0</td>\n",
       "      <td>0</td>\n",
       "      <td>0</td>\n",
       "      <td>0</td>\n",
       "      <td>0.00001</td>\n",
       "      <td>0.00001</td>\n",
       "    </tr>\n",
       "    <tr>\n",
       "      <th>4183</th>\n",
       "      <td>3.863195</td>\n",
       "      <td>0.752989</td>\n",
       "      <td>1836.131531</td>\n",
       "      <td>14185.861898</td>\n",
       "      <td>0.910006</td>\n",
       "      <td>85.725519</td>\n",
       "      <td>305.835729</td>\n",
       "      <td>lr_pbc</td>\n",
       "      <td>0.24</td>\n",
       "      <td>0.75</td>\n",
       "      <td>...</td>\n",
       "      <td>0</td>\n",
       "      <td>5</td>\n",
       "      <td>2</td>\n",
       "      <td>1</td>\n",
       "      <td>0</td>\n",
       "      <td>0</td>\n",
       "      <td>0</td>\n",
       "      <td>0</td>\n",
       "      <td>0.00001</td>\n",
       "      <td>0.00001</td>\n",
       "    </tr>\n",
       "  </tbody>\n",
       "</table>\n",
       "<p>4239 rows × 24 columns</p>\n",
       "</div>"
      ],
      "text/plain": [
       "             m   Delta_m            M       Delta_M       Rsq       rmse  \\\n",
       "3561  1.449377  0.042235     1.191753      0.053949  0.997794   0.010066   \n",
       "1454  1.529165  0.020763     3.840482      0.149269  0.999520   0.011808   \n",
       "2814  1.497712  0.050668     1.493514      0.092115  0.997030   0.014368   \n",
       "3196  1.666051  0.037442     1.889397      0.105285  0.998687   0.014483   \n",
       "3345  1.481496  0.026378     3.558011      0.174670  0.999175   0.015006   \n",
       "...        ...       ...          ...           ...       ...        ...   \n",
       "2486  3.839635  0.732940  1647.449093  11869.236996  0.913366  77.073741   \n",
       "907   3.707462  0.720661  1641.561828  11833.187548  0.910452  77.603291   \n",
       "3252  3.736928  0.695304  1735.088473  11531.827373  0.917333  79.762805   \n",
       "1292  3.841446  0.777649  1577.930472  13331.206463  0.903607  81.792549   \n",
       "4183  3.863195  0.752989  1836.131531  14185.861898  0.910006  85.725519   \n",
       "\n",
       "       rmse_full model_name_full  q_min  q_max  ...  x0  L  force_code  \\\n",
       "3561    1.311481          fk_pbc   0.24   0.75  ...   0  5           2   \n",
       "1454    0.333821          fk_pbc   0.24   0.75  ...   0  5           2   \n",
       "2814    1.202696          fk_pbc   0.24   0.75  ...   0  5           2   \n",
       "3196    1.109855          fk_pbc   0.24   0.75  ...   0  5           2   \n",
       "3345    0.403763          fk_pbc   0.24   0.75  ...   0  5           2   \n",
       "...          ...             ...    ...    ...  ...  .. ..         ...   \n",
       "2486  275.459698          lr_pbc   0.24   0.75  ...   0  5           2   \n",
       "907   289.251348          lr_pbc   0.24   0.75  ...   0  5           2   \n",
       "3252  299.543535          lr_pbc   0.24   0.75  ...   0  5           2   \n",
       "1292  270.053129          lr_pbc   0.24   0.75  ...   0  5           2   \n",
       "4183  305.835729          lr_pbc   0.24   0.75  ...   0  5           2   \n",
       "\n",
       "      neighbor  reflect  set_second  no_repulsion  no_attraction       dt  \\\n",
       "3561         1        0           0             0              0  0.00001   \n",
       "1454         1        0           0             0              0  0.00001   \n",
       "2814         1        0           0             0              0  0.00001   \n",
       "3196         1        0           0             0              0  0.00001   \n",
       "3345         1        0           0             0              0  0.00001   \n",
       "...        ...      ...         ...           ...            ...      ...   \n",
       "2486         1        0           0             0              0  0.00001   \n",
       "907          1        0           0             0              0  0.00001   \n",
       "3252         1        0           0             0              0  0.00001   \n",
       "1292         1        0           0             0              0  0.00001   \n",
       "4183         1        0           0             0              0  0.00001   \n",
       "\n",
       "           Dt  \n",
       "3561  0.00001  \n",
       "1454  0.00001  \n",
       "2814  0.00001  \n",
       "3196  0.00001  \n",
       "3345  0.00001  \n",
       "...       ...  \n",
       "2486  0.00001  \n",
       "907   0.00001  \n",
       "3252  0.00001  \n",
       "1292  0.00001  \n",
       "4183  0.00001  \n",
       "\n",
       "[4239 rows x 24 columns]"
      ]
     },
     "execution_count": 233,
     "metadata": {},
     "output_type": "execute_result"
    }
   ],
   "source": []
  },
  {
   "cell_type": "code",
   "execution_count": 237,
   "id": "bfc8ad7d",
   "metadata": {
    "ExecuteTime": {
     "end_time": "2022-08-10T20:19:21.246337Z",
     "start_time": "2022-08-10T20:19:21.225433Z"
    },
    "hidden": true
   },
   "outputs": [
    {
     "data": {
      "text/html": [
       "<div>\n",
       "<style scoped>\n",
       "    .dataframe tbody tr th:only-of-type {\n",
       "        vertical-align: middle;\n",
       "    }\n",
       "\n",
       "    .dataframe tbody tr th {\n",
       "        vertical-align: top;\n",
       "    }\n",
       "\n",
       "    .dataframe thead th {\n",
       "        text-align: right;\n",
       "    }\n",
       "</style>\n",
       "<table border=\"1\" class=\"dataframe\">\n",
       "  <thead>\n",
       "    <tr style=\"text-align: right;\">\n",
       "      <th></th>\n",
       "      <th>m</th>\n",
       "      <th>Delta_m</th>\n",
       "      <th>M</th>\n",
       "      <th>Delta_M</th>\n",
       "      <th>Rsq</th>\n",
       "      <th>rmse</th>\n",
       "      <th>rmse_full</th>\n",
       "      <th>model_name_full</th>\n",
       "      <th>q_min</th>\n",
       "      <th>q_max</th>\n",
       "      <th>...</th>\n",
       "      <th>x0</th>\n",
       "      <th>L</th>\n",
       "      <th>force_code</th>\n",
       "      <th>neighbor</th>\n",
       "      <th>reflect</th>\n",
       "      <th>set_second</th>\n",
       "      <th>no_repulsion</th>\n",
       "      <th>no_attraction</th>\n",
       "      <th>dt</th>\n",
       "      <th>Dt</th>\n",
       "    </tr>\n",
       "  </thead>\n",
       "  <tbody>\n",
       "    <tr>\n",
       "      <th>3</th>\n",
       "      <td>2.980217</td>\n",
       "      <td>0.194279</td>\n",
       "      <td>753.017363</td>\n",
       "      <td>630.658987</td>\n",
       "      <td>0.989059</td>\n",
       "      <td>13.609009</td>\n",
       "      <td>148.121012</td>\n",
       "      <td>lr_pbc</td>\n",
       "      <td>0.24</td>\n",
       "      <td>0.75</td>\n",
       "      <td>...</td>\n",
       "      <td>0</td>\n",
       "      <td>5</td>\n",
       "      <td>2</td>\n",
       "      <td>1</td>\n",
       "      <td>0</td>\n",
       "      <td>0</td>\n",
       "      <td>0</td>\n",
       "      <td>0</td>\n",
       "      <td>0.00001</td>\n",
       "      <td>0.00001</td>\n",
       "    </tr>\n",
       "    <tr>\n",
       "      <th>4</th>\n",
       "      <td>2.819897</td>\n",
       "      <td>0.135194</td>\n",
       "      <td>896.395715</td>\n",
       "      <td>513.445378</td>\n",
       "      <td>0.994052</td>\n",
       "      <td>12.625235</td>\n",
       "      <td>186.928423</td>\n",
       "      <td>lr_pbc</td>\n",
       "      <td>0.24</td>\n",
       "      <td>0.75</td>\n",
       "      <td>...</td>\n",
       "      <td>0</td>\n",
       "      <td>5</td>\n",
       "      <td>2</td>\n",
       "      <td>1</td>\n",
       "      <td>0</td>\n",
       "      <td>0</td>\n",
       "      <td>0</td>\n",
       "      <td>0</td>\n",
       "      <td>0.00001</td>\n",
       "      <td>0.00001</td>\n",
       "    </tr>\n",
       "    <tr>\n",
       "      <th>5</th>\n",
       "      <td>2.464436</td>\n",
       "      <td>0.035075</td>\n",
       "      <td>41.298856</td>\n",
       "      <td>3.905511</td>\n",
       "      <td>0.999473</td>\n",
       "      <td>0.146161</td>\n",
       "      <td>4.063530</td>\n",
       "      <td>lr_pbc</td>\n",
       "      <td>0.24</td>\n",
       "      <td>0.75</td>\n",
       "      <td>...</td>\n",
       "      <td>0</td>\n",
       "      <td>5</td>\n",
       "      <td>2</td>\n",
       "      <td>1</td>\n",
       "      <td>0</td>\n",
       "      <td>0</td>\n",
       "      <td>0</td>\n",
       "      <td>0</td>\n",
       "      <td>0.00001</td>\n",
       "      <td>0.00001</td>\n",
       "    </tr>\n",
       "    <tr>\n",
       "      <th>10</th>\n",
       "      <td>2.286157</td>\n",
       "      <td>0.074568</td>\n",
       "      <td>6.618411</td>\n",
       "      <td>0.951539</td>\n",
       "      <td>0.997238</td>\n",
       "      <td>0.071230</td>\n",
       "      <td>0.103591</td>\n",
       "      <td>fk_pbc</td>\n",
       "      <td>0.24</td>\n",
       "      <td>0.75</td>\n",
       "      <td>...</td>\n",
       "      <td>0</td>\n",
       "      <td>5</td>\n",
       "      <td>2</td>\n",
       "      <td>1</td>\n",
       "      <td>0</td>\n",
       "      <td>0</td>\n",
       "      <td>0</td>\n",
       "      <td>0</td>\n",
       "      <td>0.00001</td>\n",
       "      <td>0.00001</td>\n",
       "    </tr>\n",
       "    <tr>\n",
       "      <th>11</th>\n",
       "      <td>3.221779</td>\n",
       "      <td>0.288449</td>\n",
       "      <td>742.418751</td>\n",
       "      <td>990.365211</td>\n",
       "      <td>0.979561</td>\n",
       "      <td>16.625390</td>\n",
       "      <td>134.511982</td>\n",
       "      <td>lr_pbc</td>\n",
       "      <td>0.24</td>\n",
       "      <td>0.75</td>\n",
       "      <td>...</td>\n",
       "      <td>0</td>\n",
       "      <td>5</td>\n",
       "      <td>2</td>\n",
       "      <td>1</td>\n",
       "      <td>0</td>\n",
       "      <td>0</td>\n",
       "      <td>0</td>\n",
       "      <td>0</td>\n",
       "      <td>0.00001</td>\n",
       "      <td>0.00001</td>\n",
       "    </tr>\n",
       "    <tr>\n",
       "      <th>...</th>\n",
       "      <td>...</td>\n",
       "      <td>...</td>\n",
       "      <td>...</td>\n",
       "      <td>...</td>\n",
       "      <td>...</td>\n",
       "      <td>...</td>\n",
       "      <td>...</td>\n",
       "      <td>...</td>\n",
       "      <td>...</td>\n",
       "      <td>...</td>\n",
       "      <td>...</td>\n",
       "      <td>...</td>\n",
       "      <td>...</td>\n",
       "      <td>...</td>\n",
       "      <td>...</td>\n",
       "      <td>...</td>\n",
       "      <td>...</td>\n",
       "      <td>...</td>\n",
       "      <td>...</td>\n",
       "      <td>...</td>\n",
       "      <td>...</td>\n",
       "    </tr>\n",
       "    <tr>\n",
       "      <th>4227</th>\n",
       "      <td>1.836041</td>\n",
       "      <td>0.078894</td>\n",
       "      <td>18.812289</td>\n",
       "      <td>4.185050</td>\n",
       "      <td>0.995217</td>\n",
       "      <td>0.266536</td>\n",
       "      <td>0.346706</td>\n",
       "      <td>lr_pbc</td>\n",
       "      <td>0.24</td>\n",
       "      <td>0.75</td>\n",
       "      <td>...</td>\n",
       "      <td>0</td>\n",
       "      <td>5</td>\n",
       "      <td>2</td>\n",
       "      <td>1</td>\n",
       "      <td>0</td>\n",
       "      <td>0</td>\n",
       "      <td>0</td>\n",
       "      <td>0</td>\n",
       "      <td>0.00001</td>\n",
       "      <td>0.00001</td>\n",
       "    </tr>\n",
       "    <tr>\n",
       "      <th>4228</th>\n",
       "      <td>2.432355</td>\n",
       "      <td>0.076530</td>\n",
       "      <td>8.026737</td>\n",
       "      <td>1.368787</td>\n",
       "      <td>0.997430</td>\n",
       "      <td>0.101718</td>\n",
       "      <td>0.277386</td>\n",
       "      <td>fk_pbc</td>\n",
       "      <td>0.24</td>\n",
       "      <td>0.75</td>\n",
       "      <td>...</td>\n",
       "      <td>0</td>\n",
       "      <td>5</td>\n",
       "      <td>2</td>\n",
       "      <td>1</td>\n",
       "      <td>0</td>\n",
       "      <td>0</td>\n",
       "      <td>0</td>\n",
       "      <td>0</td>\n",
       "      <td>0.00001</td>\n",
       "      <td>0.00001</td>\n",
       "    </tr>\n",
       "    <tr>\n",
       "      <th>4229</th>\n",
       "      <td>5.156345</td>\n",
       "      <td>0.486294</td>\n",
       "      <td>478.735355</td>\n",
       "      <td>1066.725600</td>\n",
       "      <td>0.977371</td>\n",
       "      <td>8.584003</td>\n",
       "      <td>34.974299</td>\n",
       "      <td>lr_pbc</td>\n",
       "      <td>0.24</td>\n",
       "      <td>0.75</td>\n",
       "      <td>...</td>\n",
       "      <td>0</td>\n",
       "      <td>5</td>\n",
       "      <td>2</td>\n",
       "      <td>1</td>\n",
       "      <td>0</td>\n",
       "      <td>0</td>\n",
       "      <td>0</td>\n",
       "      <td>0</td>\n",
       "      <td>0.00001</td>\n",
       "      <td>0.00001</td>\n",
       "    </tr>\n",
       "    <tr>\n",
       "      <th>4230</th>\n",
       "      <td>2.698620</td>\n",
       "      <td>0.144234</td>\n",
       "      <td>1931.636707</td>\n",
       "      <td>1419.244524</td>\n",
       "      <td>0.992619</td>\n",
       "      <td>34.114135</td>\n",
       "      <td>437.730621</td>\n",
       "      <td>lr_pbc</td>\n",
       "      <td>0.24</td>\n",
       "      <td>0.75</td>\n",
       "      <td>...</td>\n",
       "      <td>0</td>\n",
       "      <td>5</td>\n",
       "      <td>2</td>\n",
       "      <td>1</td>\n",
       "      <td>0</td>\n",
       "      <td>0</td>\n",
       "      <td>0</td>\n",
       "      <td>0</td>\n",
       "      <td>0.00001</td>\n",
       "      <td>0.00001</td>\n",
       "    </tr>\n",
       "    <tr>\n",
       "      <th>4231</th>\n",
       "      <td>2.709607</td>\n",
       "      <td>0.143692</td>\n",
       "      <td>1232.769358</td>\n",
       "      <td>808.696598</td>\n",
       "      <td>0.992733</td>\n",
       "      <td>18.681745</td>\n",
       "      <td>274.389405</td>\n",
       "      <td>lr_pbc</td>\n",
       "      <td>0.24</td>\n",
       "      <td>0.75</td>\n",
       "      <td>...</td>\n",
       "      <td>0</td>\n",
       "      <td>5</td>\n",
       "      <td>2</td>\n",
       "      <td>1</td>\n",
       "      <td>0</td>\n",
       "      <td>0</td>\n",
       "      <td>0</td>\n",
       "      <td>0</td>\n",
       "      <td>0.00001</td>\n",
       "      <td>0.00001</td>\n",
       "    </tr>\n",
       "  </tbody>\n",
       "</table>\n",
       "<p>2117 rows × 24 columns</p>\n",
       "</div>"
      ],
      "text/plain": [
       "             m   Delta_m            M      Delta_M       Rsq       rmse  \\\n",
       "3     2.980217  0.194279   753.017363   630.658987  0.989059  13.609009   \n",
       "4     2.819897  0.135194   896.395715   513.445378  0.994052  12.625235   \n",
       "5     2.464436  0.035075    41.298856     3.905511  0.999473   0.146161   \n",
       "10    2.286157  0.074568     6.618411     0.951539  0.997238   0.071230   \n",
       "11    3.221779  0.288449   742.418751   990.365211  0.979561  16.625390   \n",
       "...        ...       ...          ...          ...       ...        ...   \n",
       "4227  1.836041  0.078894    18.812289     4.185050  0.995217   0.266536   \n",
       "4228  2.432355  0.076530     8.026737     1.368787  0.997430   0.101718   \n",
       "4229  5.156345  0.486294   478.735355  1066.725600  0.977371   8.584003   \n",
       "4230  2.698620  0.144234  1931.636707  1419.244524  0.992619  34.114135   \n",
       "4231  2.709607  0.143692  1232.769358   808.696598  0.992733  18.681745   \n",
       "\n",
       "       rmse_full model_name_full  q_min  q_max  ...  x0  L  force_code  \\\n",
       "3     148.121012          lr_pbc   0.24   0.75  ...   0  5           2   \n",
       "4     186.928423          lr_pbc   0.24   0.75  ...   0  5           2   \n",
       "5       4.063530          lr_pbc   0.24   0.75  ...   0  5           2   \n",
       "10      0.103591          fk_pbc   0.24   0.75  ...   0  5           2   \n",
       "11    134.511982          lr_pbc   0.24   0.75  ...   0  5           2   \n",
       "...          ...             ...    ...    ...  ...  .. ..         ...   \n",
       "4227    0.346706          lr_pbc   0.24   0.75  ...   0  5           2   \n",
       "4228    0.277386          fk_pbc   0.24   0.75  ...   0  5           2   \n",
       "4229   34.974299          lr_pbc   0.24   0.75  ...   0  5           2   \n",
       "4230  437.730621          lr_pbc   0.24   0.75  ...   0  5           2   \n",
       "4231  274.389405          lr_pbc   0.24   0.75  ...   0  5           2   \n",
       "\n",
       "      neighbor  reflect  set_second  no_repulsion  no_attraction       dt  \\\n",
       "3            1        0           0             0              0  0.00001   \n",
       "4            1        0           0             0              0  0.00001   \n",
       "5            1        0           0             0              0  0.00001   \n",
       "10           1        0           0             0              0  0.00001   \n",
       "11           1        0           0             0              0  0.00001   \n",
       "...        ...      ...         ...           ...            ...      ...   \n",
       "4227         1        0           0             0              0  0.00001   \n",
       "4228         1        0           0             0              0  0.00001   \n",
       "4229         1        0           0             0              0  0.00001   \n",
       "4230         1        0           0             0              0  0.00001   \n",
       "4231         1        0           0             0              0  0.00001   \n",
       "\n",
       "           Dt  \n",
       "3     0.00001  \n",
       "4     0.00001  \n",
       "5     0.00001  \n",
       "10    0.00001  \n",
       "11    0.00001  \n",
       "...       ...  \n",
       "4227  0.00001  \n",
       "4228  0.00001  \n",
       "4229  0.00001  \n",
       "4230  0.00001  \n",
       "4231  0.00001  \n",
       "\n",
       "[2117 rows x 24 columns]"
      ]
     },
     "execution_count": 237,
     "metadata": {},
     "output_type": "execute_result"
    }
   ],
   "source": [
    "query = df['varkappa']==alinear\n",
    "query = df['D']==D\n",
    "df[query]"
   ]
  },
  {
   "cell_type": "code",
   "execution_count": null,
   "id": "5cb2f417",
   "metadata": {
    "hidden": true
   },
   "outputs": [],
   "source": []
  },
  {
   "cell_type": "code",
   "execution_count": 230,
   "id": "368f5cde",
   "metadata": {
    "ExecuteTime": {
     "end_time": "2022-08-10T20:15:31.367283Z",
     "start_time": "2022-08-10T20:15:31.364788Z"
    },
    "hidden": true
   },
   "outputs": [],
   "source": [
    "#TODO: fork old method of minimizing the mse using Nelder-Mead"
   ]
  },
  {
   "cell_type": "code",
   "execution_count": null,
   "id": "cc68eb9e",
   "metadata": {
    "hidden": true
   },
   "outputs": [],
   "source": [
    "#HINT:"
   ]
  },
  {
   "cell_type": "code",
   "execution_count": 216,
   "id": "6d6177a6",
   "metadata": {
    "ExecuteTime": {
     "end_time": "2022-08-10T19:16:00.751739Z",
     "start_time": "2022-08-10T19:16:00.749420Z"
    },
    "hidden": true
   },
   "outputs": [],
   "source": [
    "\n",
    "#define constant parameters\n",
    "reflect=0\n",
    "force_code=2\n",
    "set_second=0\n",
    "no_attraction=0\n",
    "no_repulsion=0\n",
    "# kappa=100\n",
    "L=10\n",
    "testing=False #True yields an extra runtimme of ~2 minutes"
   ]
  },
  {
   "cell_type": "code",
   "execution_count": null,
   "id": "4d12d248",
   "metadata": {
    "hidden": true
   },
   "outputs": [],
   "source": [
    "input_fn=f\"{nb_dir}/data/osg_output/run_17_all_powerlaw_fits.csv\"\n",
    "# input_fn=f\"{nb_dir}/data/osg_output/run_18_all_powerlaw_fits.csv\"\n",
    "# input_fn=f\"{nb_dir}/data/osg_output/run_19_all_powerlaw_fits.csv\"\n",
    "# input_fn=f\"{nb_dir}/data/osg_output/run_20_all_powerlaw_fits.csv\"#too low varkappa\n",
    "# input_fn=f\"{nb_dir}/data/osg_output/run_21_all_powerlaw_fits.csv\"#too low varkappa\n",
    "# input_fn=f\"{nb_dir}/data/osg_output/run_22_all_powerlaw_fits.csv\" #too low varkappa\n",
    "# input_fn=f\"{nb_dir}/data/osg_output/run_23_all_powerlaw_fits.csv\" #too low varkappa\n",
    "input_fn=f\"{nb_dir}/data/osg_output/run_24_all_powerlaw_fits.csv\" #run 24 does not exist...\n",
    "df=pd.read_csv(input_fn)\n",
    "\n",
    "print(f\"parameter range:\")\n",
    "print(df.describe()[['varkappa','D','L','r','kappa']].T[['min','max']].T)\n",
    "print(f\"\\nalinear values considered: {sorted(df['varkappa'].drop_duplicates().values)} cm^2/s\")\n",
    "\n",
    "# print(f\"\\n\\n(more details:)\")\n",
    "# print(df.describe().T[['min','max']])\n"
   ]
  },
  {
   "cell_type": "code",
   "execution_count": null,
   "id": "36e418e0",
   "metadata": {
    "hidden": true
   },
   "outputs": [],
   "source": [
    "# #neighbor-only forces\n",
    "# input_fn=f\"/home/timothytyree/Documents/GitHub/bgmc/python/data/osg_output/run_19_all_powerlaw_fits.csv\"\n",
    "# neighbor=1\n",
    "# vector-summed forces\n",
    "# input_fn=f\"/home/timothytyree/Documents/GitHub/bgmc/python/data/osg_output/run_17_all_powerlaw_fits.csv\"\n",
    "input_fn=f\"{nb_dir}/data/osg_output/run_17_all_powerlaw_fits.csv\"\n",
    "neighbor=0\n",
    "\n",
    "#TODO: aggregate powerlaw fits with neighbor-only or vector-summed fits \n",
    "#TODO: aggregate powerlaw fits with D>=1.2\n",
    "\n",
    "\n",
    "df=pd.read_csv(input_fn)\n",
    "#query the DataFrame\n",
    "query =(df.set_second==set_second)&(df.reflect==reflect)\n",
    "query&=(df.no_repulsion==no_repulsion)&(df.no_attraction==no_attraction)\n",
    "query&=(df.neighbor==neighbor)&(df.force_code==force_code)\n",
    "# query&=df.r==r\n",
    "# query&=df.kappa==kappa\n",
    "# query&=df.D==D\n",
    "query&=df.L==L\n",
    "# query&=df.varkappa==varkappa\n",
    "dg=df[query]\n",
    "\n",
    "#define parameters to be varied\n",
    "# input_cols=['r','D','varkappa']#\n",
    "input_cols=['r','kappa','varkappa','D']#\n",
    "# output_cols=['m','Delta_m','M','Delta_M']#2 minute runtime\n",
    "output_cols=['m','M']#2.75 minute runtime paradoxically...\n",
    "#inputs:dg,input_cols,output_col\n",
    "#output: fitted model\n",
    "\n",
    "Xall=dg[input_cols].values \n",
    "yall=dg[output_cols].values"
   ]
  },
  {
   "cell_type": "code",
   "execution_count": null,
   "id": "c9c269c3",
   "metadata": {
    "hidden": true
   },
   "outputs": [],
   "source": [
    "X=Xall.copy()\n",
    "y=yall.copy()\n",
    "m = len(y) # number of training examples\n",
    "print(f'number of training examples is {m:d}.')\n",
    "print(f\"estimated runtime is ~{20+120*int(testing)} seconds...\")\n",
    "\n",
    "interp = LinearNDInterpolator(X, y)\n",
    "# interp = CloughTocher2DInterpolator(X, y)\n",
    "print(f\"training complete!\")\n",
    "if testing:\n",
    "    yhat = interp(X)\n",
    "    print(f\"shape of X {X.shape} --> shape of y=yhat {yhat.shape}\")\n",
    "\n",
    "    rmse=np.sqrt(np.mean((yhat-y)**2))\n",
    "    print(f\"the rmse of simple interpolation is {rmse:.4f}\")"
   ]
  },
  {
   "cell_type": "code",
   "execution_count": 217,
   "id": "5ffde4c9",
   "metadata": {
    "ExecuteTime": {
     "end_time": "2022-08-10T19:16:02.087658Z",
     "start_time": "2022-08-10T19:16:02.085102Z"
    },
    "hidden": true
   },
   "outputs": [],
   "source": [
    "model_name='lr_pbc'\n",
    "c='C1'\n",
    "# model_name='fk_pbc'\n",
    "# c='C0'\n",
    "\n",
    "#compute annihilation rates \n",
    "nu_full=wjr[model_name]['m']\n",
    "M_full=wjr[model_name]['M']\n",
    "q_values=np.linspace(0,1,20)\n",
    "w_values=M_full*q_values**nu_full\n",
    "\n",
    "if model_name=='lr_pbc':\n",
    "    model_name_string='Luo-Rudy'\n",
    "elif model_name=='fk_pbc':\n",
    "    model_name_string='Fenton-Karma'\n",
    "else:\n",
    "    model_name_string='??'"
   ]
  },
  {
   "cell_type": "code",
   "execution_count": null,
   "id": "11e21130",
   "metadata": {
    "hidden": true
   },
   "outputs": [],
   "source": [
    "#DONE: plotted how bad the fits are if LR gets alinear~3 instead of alinear~10\n",
    "# a=a_hat_LR_long\n",
    "# # a=a_hat_LR\n",
    "# D=D_hat_LR\n",
    "\n",
    "#from fit to wj's LR positions (200x200, diffcoeff: 0.001)\n",
    "a=9.969\n",
    "D=0.09\n",
    "\n",
    "#find a best r,kappa pair for a given a,D pair for a given full model\n",
    "args=a,D,q_values,w_values,interp\n",
    "bnds = ((1e-3, 2), (1e2, 1e4))\n",
    "# x0 = (0.1, 500)\n",
    "# x0 = (.2, 100)\n",
    "x0 = (.3, 100)\n",
    "res = minimize(comp_rmse_via_interp, x0, args, method='Nelder-Mead', bounds=bnds,tol=1e-3)\n",
    "# res = minimize(comp_rmse_via_interp, (0.1, 500), args, method='Nelder-Mead', bounds=bnds,tol=1e-3)\n",
    "mse=comp_mse_via_interp(res.x, *args)\n",
    "rmse=np.sqrt(mse)\n",
    "# rmse=comp_rmse_via_interp(res.x, *args)\n",
    "\n",
    "#compute the resulting annihilation rates\n",
    "r=res.x[0]\n",
    "kappa=res.x[1]\n",
    "X=np.array([[r,kappa,a,D]])\n",
    "yhat = interp(X)\n",
    "nu=yhat[0,0]\n",
    "M=yhat[0,1]\n",
    "# M=yhat[0,2]\n",
    "what_values=M*q_values**nu\n",
    "\n",
    "#plot the result over the original annihilation rates\n",
    "title=f'a={a:.3f}, D={D:.3f}'+r' cm$^2$/s'+f\"\\nr={r:.3f} cm, \"+r'$\\kappa$'+f'={kappa:.1f} Hz\\nRMSE={rmse:.4f}\\n'\n",
    "plt.plot(q_values,w_values,c=c,label=model_name_string,alpha=0.5,lw=2)\n",
    "plt.plot(q_values,what_values,c='C4',label='Best Fit to\\nParticle Model',alpha=0.5)\n",
    "format_plot(ax=plt.gca(),xlabel=r'$q$ (1/cm$^2$)',ylabel=r'$w$ (Hz/cm$^2$)')\n",
    "plt.legend(fontsize=15)\n",
    "plt.title(title,fontsize=15)\n",
    "plt.show()\n",
    "print(f\"a={a}, D={D}, r={r}, kappa={kappa}, rmse={rmse}\")"
   ]
  }
 ],
 "metadata": {
  "hide_input": false,
  "kernelspec": {
   "display_name": "Python 3 (ipykernel)",
   "language": "python",
   "name": "python3"
  },
  "language_info": {
   "codemirror_mode": {
    "name": "ipython",
    "version": 3
   },
   "file_extension": ".py",
   "mimetype": "text/x-python",
   "name": "python",
   "nbconvert_exporter": "python",
   "pygments_lexer": "ipython3",
   "version": "3.9.5"
  },
  "nbTranslate": {
   "displayLangs": [
    "*"
   ],
   "hotkey": "alt-t",
   "langInMainMenu": true,
   "sourceLang": "en",
   "targetLang": "fr",
   "useGoogleTranslate": true
  },
  "toc": {
   "base_numbering": 1,
   "nav_menu": {},
   "number_sections": true,
   "sideBar": true,
   "skip_h1_title": false,
   "title_cell": "Table of Contents",
   "title_sidebar": "Contents",
   "toc_cell": false,
   "toc_position": {
    "height": "calc(100% - 180px)",
    "left": "10px",
    "top": "150px",
    "width": "384px"
   },
   "toc_section_display": true,
   "toc_window_display": false
  },
  "varInspector": {
   "cols": {
    "lenName": 16,
    "lenType": 16,
    "lenVar": 40
   },
   "kernels_config": {
    "python": {
     "delete_cmd_postfix": "",
     "delete_cmd_prefix": "del ",
     "library": "var_list.py",
     "varRefreshCmd": "print(var_dic_list())"
    },
    "r": {
     "delete_cmd_postfix": ") ",
     "delete_cmd_prefix": "rm(",
     "library": "var_list.r",
     "varRefreshCmd": "cat(var_dic_list()) "
    }
   },
   "types_to_exclude": [
    "module",
    "function",
    "builtin_function_or_method",
    "instance",
    "_Feature"
   ],
   "window_display": false
  }
 },
 "nbformat": 4,
 "nbformat_minor": 5
}
