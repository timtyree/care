{
 "cells": [
  {
   "cell_type": "markdown",
   "metadata": {},
   "source": [
    "# dev - test driven elastic forces on a known deformation on a sphere \n",
    "Tim Tyree<br>\n"
   ]
  },
  {
   "cell_type": "markdown",
   "metadata": {},
   "source": [
    "# TODO: pen & paper out easily njit'd compute_elastic_force implementation\n",
    "- TODO: develop ^that function here, testing as I go. (proceed to next section)."
   ]
  },
  {
   "cell_type": "markdown",
   "metadata": {},
   "source": [
    "## import a sphere and initialize environment"
   ]
  },
  {
   "cell_type": "code",
   "execution_count": 1,
   "metadata": {
    "ExecuteTime": {
     "end_time": "2020-12-03T04:01:39.406450Z",
     "start_time": "2020-12-03T04:01:38.134325Z"
    }
   },
   "outputs": [
    {
     "ename": "ModuleNotFoundError",
     "evalue": "No module named 'vertex_shader'",
     "output_type": "error",
     "traceback": [
      "\u001b[0;31m---------------------------------------------------------------------------\u001b[0m",
      "\u001b[0;31mModuleNotFoundError\u001b[0m                       Traceback (most recent call last)",
      "\u001b[0;32m<ipython-input-1-1bbbc24a7cdd>\u001b[0m in \u001b[0;36m<module>\u001b[0;34m\u001b[0m\n\u001b[1;32m     11\u001b[0m \u001b[0;31m# from lib import *\u001b[0m\u001b[0;34m\u001b[0m\u001b[0;34m\u001b[0m\u001b[0;34m\u001b[0m\u001b[0m\n\u001b[1;32m     12\u001b[0m \u001b[0;31m# sys.path.append(\"lib\")\u001b[0m\u001b[0;34m\u001b[0m\u001b[0;34m\u001b[0m\u001b[0;34m\u001b[0m\u001b[0m\n\u001b[0;32m---> 13\u001b[0;31m \u001b[0;32mfrom\u001b[0m \u001b[0mlib\u001b[0m \u001b[0;32mimport\u001b[0m \u001b[0;34m*\u001b[0m\u001b[0;34m\u001b[0m\u001b[0;34m\u001b[0m\u001b[0m\n\u001b[0m\u001b[1;32m     14\u001b[0m \u001b[0;34m\u001b[0m\u001b[0m\n\u001b[1;32m     15\u001b[0m \u001b[0;31m# from operari import *\u001b[0m\u001b[0;34m\u001b[0m\u001b[0;34m\u001b[0m\u001b[0;34m\u001b[0m\u001b[0m\n",
      "\u001b[0;32m~/Documents/GitHub/care/notebooks/membrane-notebooks/lib/__init__.py\u001b[0m in \u001b[0;36m<module>\u001b[0;34m\u001b[0m\n\u001b[1;32m     10\u001b[0m \u001b[0;32mfrom\u001b[0m \u001b[0mlib\u001b[0m\u001b[0;34m.\u001b[0m\u001b[0mvertex_shader\u001b[0m \u001b[0;32mimport\u001b[0m \u001b[0;34m*\u001b[0m\u001b[0;34m\u001b[0m\u001b[0;34m\u001b[0m\u001b[0m\n\u001b[1;32m     11\u001b[0m \u001b[0;32mfrom\u001b[0m \u001b[0mlib\u001b[0m\u001b[0;34m.\u001b[0m\u001b[0mspring\u001b[0m \u001b[0;32mimport\u001b[0m \u001b[0;34m*\u001b[0m\u001b[0;34m\u001b[0m\u001b[0;34m\u001b[0m\u001b[0m\n\u001b[0;32m---> 12\u001b[0;31m \u001b[0;32mfrom\u001b[0m \u001b[0mlib\u001b[0m\u001b[0;34m.\u001b[0m\u001b[0mcontroller\u001b[0m \u001b[0;32mimport\u001b[0m \u001b[0;34m*\u001b[0m\u001b[0;34m\u001b[0m\u001b[0;34m\u001b[0m\u001b[0m\n\u001b[0m\u001b[1;32m     13\u001b[0m \u001b[0;32mfrom\u001b[0m \u001b[0mlib\u001b[0m\u001b[0;34m.\u001b[0m\u001b[0mNewmark\u001b[0m \u001b[0;32mimport\u001b[0m \u001b[0;34m*\u001b[0m\u001b[0;34m\u001b[0m\u001b[0;34m\u001b[0m\u001b[0m\n\u001b[1;32m     14\u001b[0m \u001b[0;31m# from lib.ode_plots import *\u001b[0m\u001b[0;34m\u001b[0m\u001b[0;34m\u001b[0m\u001b[0;34m\u001b[0m\u001b[0m\n",
      "\u001b[0;32m~/Documents/GitHub/care/notebooks/membrane-notebooks/lib/controller.py\u001b[0m in \u001b[0;36m<module>\u001b[0;34m\u001b[0m\n\u001b[1;32m     12\u001b[0m \u001b[0;31m# sys.path.append(\"lib\")\u001b[0m\u001b[0;34m\u001b[0m\u001b[0;34m\u001b[0m\u001b[0;34m\u001b[0m\u001b[0m\n\u001b[1;32m     13\u001b[0m \u001b[0;31m# from lib import *\u001b[0m\u001b[0;34m\u001b[0m\u001b[0;34m\u001b[0m\u001b[0;34m\u001b[0m\u001b[0m\n\u001b[0;32m---> 14\u001b[0;31m \u001b[0;32mfrom\u001b[0m \u001b[0mvertex_shader\u001b[0m \u001b[0;32mimport\u001b[0m \u001b[0;34m*\u001b[0m\u001b[0;34m\u001b[0m\u001b[0;34m\u001b[0m\u001b[0m\n\u001b[0m\u001b[1;32m     15\u001b[0m \u001b[0;32mfrom\u001b[0m \u001b[0mspring\u001b[0m \u001b[0;32mimport\u001b[0m \u001b[0;34m*\u001b[0m\u001b[0;34m\u001b[0m\u001b[0;34m\u001b[0m\u001b[0m\n\u001b[1;32m     16\u001b[0m \u001b[0;34m\u001b[0m\u001b[0m\n",
      "\u001b[0;31mModuleNotFoundError\u001b[0m: No module named 'vertex_shader'"
     ]
    }
   ],
   "source": [
    "import numpy as np, pandas as pd, matplotlib.pyplot as plt\n",
    "from mpl_toolkits.mplot3d import Axes3D  \n",
    "\n",
    "#automate the boring stuff\n",
    "from IPython import utils\n",
    "import time, os, sys, re\n",
    "beep = lambda x: os.system(\"echo -n '\\\\a';sleep 0.2;\" * x)\n",
    "if not 'nb_dir' in globals():\n",
    "    nb_dir = os.getcwd()\n",
    "# sys.path.append(\"../lib\") \n",
    "# from lib import *\n",
    "# sys.path.append(\"lib\") \n",
    "from lib import *\n",
    "\n",
    "# from operari import *\n",
    "# from ProgressBar import *\n",
    "# from mesh_ops import *\n",
    "\n",
    "# the visualization tools involved here for triangular meshes is\n",
    "import trimesh\n",
    "import pyglet\n",
    "from numba import njit, cuda\n",
    "# from numba.typed import List\n",
    "# import numba\n",
    "import trimesh\n",
    "\n",
    "#try using a scipy sparse matrix to speed up spring force evaluations\n",
    "#TODO: consider speeding up bigger meshes with pycuda's sparce matrices\n",
    "from scipy.sparse import csr_matrix\n",
    "import scipy.sparse as sparse\n",
    "\n",
    "#formating\n",
    "from matplotlib import rc\n",
    "rc('text', usetex=True)\n",
    "\n",
    "%autocall 1\n",
    "%load_ext autoreload\n",
    "%autoreload 2"
   ]
  },
  {
   "cell_type": "code",
   "execution_count": 95,
   "metadata": {
    "ExecuteTime": {
     "end_time": "2020-07-30T17:46:27.209619Z",
     "start_time": "2020-07-30T17:46:27.166521Z"
    }
   },
   "outputs": [
    {
     "name": "stderr",
     "output_type": "stream",
     "text": [
      "face_normals all zero, ignoring!\n"
     ]
    }
   ],
   "source": [
    "os.chdir(f'{nb_dir}/Data/spherical_meshes')\n",
    "mesh = trimesh.load('spherical_mesh_64.stl')\n",
    "#subtract the center of mass\n",
    "mesh.vertices -= mesh.center_mass\n",
    "#normalize the mean radius to 1\n",
    "mesh.vertices /= np.cbrt(mesh.volume*3/(4*np.pi))\n",
    "\n",
    "#normalize the mean radius to R\n",
    "# R = 1. #unit length\n",
    "# mesh.vertices *= R/np.mean(np.linalg.norm(mesh.vertices,axis=1))"
   ]
  },
  {
   "cell_type": "markdown",
   "metadata": {
    "heading_collapsed": true
   },
   "source": [
    "# compute geometric measures of the initial configuration, $\\Omega_0$."
   ]
  },
  {
   "cell_type": "code",
   "execution_count": 55,
   "metadata": {
    "ExecuteTime": {
     "end_time": "2020-07-28T19:30:22.045896Z",
     "start_time": "2020-07-28T19:30:21.935397Z"
    },
    "hidden": true
   },
   "outputs": [],
   "source": [
    "def measure(mesh, verbose=False):\n",
    "    vol = mesh.volume\n",
    "    #two estimates of radius, which we combine for a radial uncertainty estimate\n",
    "    radius_vol = np.cbrt(mesh.volume*3/(4*np.pi))\n",
    "    radius_rms = np.mean(np.linalg.norm(mesh.vertices,axis=1))        \n",
    "    radius_avg = radius_rms/2 + radius_vol/2\n",
    "    radius_err = radius_rms/2 - radius_vol/2\n",
    "    #measure surface area to volume ratio\n",
    "    svr = mesh.area/vol\n",
    "    if verbose:\n",
    "        print(f\"vol : {vol}\") #root mean squared radius\n",
    "        print(f\"svr : {radius_rms}\") #root mean squared radius\n",
    "        print(f\"radius_avg : {radius_avg}\") #average radius\n",
    "        print(f\"radius_err : {radius_err}\\n\") #uncertainty in radius\n",
    "        print(f\"radius_vol : {radius_vol}\") #volumetric radius\n",
    "        print(f\"radius_rms : {radius_rms}\") #root mean squared radius\n",
    "    \n",
    "\n",
    "    return vol, svr, radius_avg, radius_err"
   ]
  },
  {
   "cell_type": "code",
   "execution_count": 39,
   "metadata": {
    "ExecuteTime": {
     "end_time": "2020-07-28T19:24:52.123412Z",
     "start_time": "2020-07-28T19:24:52.071651Z"
    },
    "hidden": true
   },
   "outputs": [
    {
     "name": "stderr",
     "output_type": "stream",
     "text": [
      "face_normals all zero, ignoring!\n"
     ]
    },
    {
     "name": "stdout",
     "output_type": "stream",
     "text": [
      "vol : 4.18879020478639\n",
      "svr : 1.0083893459591489\n",
      "radius_avg : 1.0041946729795743\n",
      "radius_err : 0.0041946729795744875\n",
      "\n",
      "radius_vol : 0.9999999999999999\n",
      "radius_rms : 1.0083893459591489\n"
     ]
    }
   ],
   "source": [
    "#test geoemetric measures\n",
    "os.chdir(f'{nb_dir}/Data/spherical_meshes')\n",
    "mesh = trimesh.load('spherical_mesh_64.stl')\n",
    "#subtract the center of mass\n",
    "mesh.vertices -= mesh.center_mass\n",
    "#normalize the mean radius to 1\n",
    "mesh.vertices /= np.cbrt(mesh.volume*3/(4*np.pi))\n",
    "\n",
    "\n",
    "Omega0 = mesh.copy()\n",
    "#test for geometric measure functionality\n",
    "retval_known = (4.18879020478639,3.0391040405123317,1.0041946729795743,0.0041946729795744875)\n",
    "retval = measure(Omega0, verbose=True)\n",
    "\n",
    "chksm = np.array([np.isclose(a,b) for a,b in zip(retval,(4.18879020478639,3.0391040405123317,1.0041946729795743,0.0041946729795744875))])\n",
    "assert ( chksm.all() ) "
   ]
  },
  {
   "cell_type": "markdown",
   "metadata": {
    "heading_collapsed": true
   },
   "source": [
    "# contract by a known volume_fraction"
   ]
  },
  {
   "cell_type": "code",
   "execution_count": 41,
   "metadata": {
    "ExecuteTime": {
     "end_time": "2020-07-28T19:25:41.931194Z",
     "start_time": "2020-07-28T19:25:41.887500Z"
    },
    "hidden": true
   },
   "outputs": [],
   "source": [
    "volume_fraction = 0.5\n",
    "Omega0 = mesh.copy()\n",
    "Omega1 = Omega0.copy()\n",
    "Omega1.vertices *= volume_fraction"
   ]
  },
  {
   "cell_type": "code",
   "execution_count": 54,
   "metadata": {
    "ExecuteTime": {
     "end_time": "2020-07-28T19:28:48.776801Z",
     "start_time": "2020-07-28T19:28:48.728522Z"
    },
    "hidden": true,
    "scrolled": true
   },
   "outputs": [
    {
     "name": "stdout",
     "output_type": "stream",
     "text": [
      "\n",
      "Omega0 is:{\n",
      "vol : 4.18879020478639\n",
      "svr : 1.0083893459591489\n",
      "radius_avg : 1.0041946729795743\n",
      "radius_err : 0.0041946729795744875\n",
      "\n",
      "radius_vol : 0.9999999999999999\n",
      "radius_rms : 1.0083893459591489\n",
      "}\n",
      "Omega1 is:{\n",
      "vol : 0.5235987755982987\n",
      "svr : 0.5041946729795744\n",
      "radius_avg : 0.5020973364897872\n",
      "radius_err : 0.0020973364897872437\n",
      "\n",
      "radius_vol : 0.49999999999999994\n",
      "radius_rms : 0.5041946729795744\n",
      "}\n"
     ]
    }
   ],
   "source": [
    "print(\"\\nOmega0 is:{\")\n",
    "retval = measure(Omega0,verbose = True)\n",
    "print(\"}\\nOmega1 is:{\")\n",
    "retval = measure(Omega1,verbose = True)    \n",
    "print(\"}\")"
   ]
  },
  {
   "cell_type": "markdown",
   "metadata": {
    "heading_collapsed": true
   },
   "source": [
    "# TODO: develop spring force computation, testing as I go. (proceed to next section)."
   ]
  },
  {
   "cell_type": "markdown",
   "metadata": {
    "ExecuteTime": {
     "end_time": "2020-07-28T19:00:42.104118Z",
     "start_time": "2020-07-28T19:00:42.053521Z"
    },
    "hidden": true
   },
   "source": [
    "\n",
    "- TODO: the forces for a massless string for a given mesh edge\n",
    "- TODO: for each edge, compute the spring force vector\n",
    "- TODO: add the spring forces to get a net spring force for each node.  Consider for loop or a for for loop.\n",
    "- TODO: use precomputed mesh.edges_unique in computing net_spring_forces\n",
    "<br><br>\n",
    "- TODO(viewer): compute the deformation gradient between two input meshes.  see old implementation.  make sure this plotting function is saved\n",
    "- TODO(viewer): remake that triangle nodal force plot for a spring model.  does it look reasonable?\n",
    "<br><br>\n",
    "- TODO(model): init a u = displacement field and ud = velocity field to zero, udd = acceleration field to zero\n",
    "- TODO(model): compute a drag force for a given vertex at a given speed\n",
    "- TODO(model - boundary conditions): functionally remove edges that contain vertices in a given set.  this will be precomputed and doesn't need to be fast\n",
    "<br><br>\n",
    "- TODO(controller): def integrate_forward_n_steps(mesh, time_step, n_steps): #for time_step from the explicit forward euler method\n",
    "    - then, TODO: njit ^that\n",
    "- TODO(controller): make/test the explicit newmark method\n",
    "- TODO(controller): make/test the implicit newmark method\n",
    "- TODO(controller, later): use kDTree/BTree _blocked_ data structure to implement a queue at constant time steps. Hint: est = mesh.edges_sorted_tree.\n",
    "- TODO(controller, later): consider how big of a block is best for using a cpu versus a gpu.  for cpu, it doesn't matter.  for gpu, maybe ~1000 force-generating simplices per block\n"
   ]
  },
  {
   "cell_type": "code",
   "execution_count": 84,
   "metadata": {
    "ExecuteTime": {
     "end_time": "2020-07-28T19:56:08.995086Z",
     "start_time": "2020-07-28T19:56:08.951882Z"
    },
    "hidden": true
   },
   "outputs": [
    {
     "data": {
      "text/plain": [
       "(756, 2)"
      ]
     },
     "execution_count": 84,
     "metadata": {},
     "output_type": "execute_result"
    }
   ],
   "source": [
    "# mesh.edges_unique.shape?\n",
    "assert ((mesh.edges_unique[mesh.edges_unique_inverse] == mesh.edges_sorted).all())\n",
    "\n",
    "def length(vertex1, vertex2):\n",
    "    return np.linalg.norm( vertex1 - vertex2)\n",
    "\n",
    "meu = mesh.edges_unique\n",
    "vertex1_array, vertex2_array = mesh.vertices[meu[:,0]], mesh.vertices[meu[:,1]]\n",
    "\n",
    "#test mesh.edges_unique_length gives the correct edge length \n",
    "assert ( length(vertex1_array[0],vertex2_array[0]) == mesh.edges_unique_length[0] )\n",
    "assert ( length(vertex1_array[1],vertex2_array[1]) == mesh.edges_unique_length[1] )\n",
    "assert ( length(vertex1_array[2],vertex2_array[2]) == mesh.edges_unique_length[2] )\n",
    "\n",
    "#precompute edges, which are the force generating simplices here\n",
    "meu = mesh.edges_unique\n",
    "vid1_array, vid2_array = np.array(meu[:,0],dtype=int), np.array( meu[:,1],dtype=int)\n",
    "vertex1_array = np.array ( mesh.vertices[vid1_array]  , dtype=float) \n",
    "vertex2_array = np.array ( mesh.vertices[vid2_array]  , dtype=float) \n",
    "\n",
    "\n",
    "#initialize spring force parameters\n",
    "d0_array = np.array(mesh.edges_unique_length, dtype=float)\n",
    "k0_array = 1 + np.zeros_like(vertex1_array[...,0], dtype=float)\n",
    "f0_array = np.array(np.zeros_like(mesh.vertices, dtype=float))\n",
    "\n",
    "\n",
    "#test type consistency as a proxy test that the types are not tracked-array instances\n",
    "assert ( type(dist_array) == type (d0_array) )\n",
    "assert ( type(f0_array) == type (k0_array) )\n",
    "assert ( type(vertex1_array) == type (d0_array) )\n",
    "assert ( type(vertex2_array) == type (d0_array) )\n",
    "assert ( type(vid1_array) == type (d0_array) )\n",
    "assert ( type(vid2_array) == type (d0_array) )\n",
    "\n",
    "#TODO(model - boundary conditions): functionally remove edges that contain vertices in a given set.  this will be precomputed and doesn't need to be fast\n",
    "\n",
    "#compute spring force for a given edge configuration\n",
    "def spring_force( vertex1, vertex2, d, d0, k0 ):\n",
    "    '''returns the spring_force for vertex1 directed towards vertex2.  '''\n",
    "    dhat = (vertex2 - vertex1)\n",
    "    dhat /= np.linalg.norm(dhat)\n",
    "    return - k0 * ( d - d0 ) * dhat\n",
    "\n",
    "# test that spring_force pushes vertex1 in the direction of vertex2 when the spring is twice the equilibrium length, d0\n",
    "vertex1, vertex2, d, d0, k0  = (np.array([ 0.71367072, -0.45411208,  0.53182509]),np.array([ 0.54048159, -0.63460453,  0.61003465]),0.26208535311672354,0.26208535311672354,1.0)\n",
    "dhat = (vertex1 - vertex2)\n",
    "dhat/= np.linalg.norm(dhat)\n",
    "\n",
    "# test that an extended spring is attractive in the edge direction\n",
    "f0   = spring_force( vertex1, vertex2, d, d0/2, k0 )\n",
    "assert ( np.isclose ( f0.dot(dhat)/np.linalg.norm(f0) , 1 ) ) \n",
    "# test that a compressed spring is repulsive in the edge direction\n",
    "f0   = spring_force( vertex1, vertex2, d, d0*2, k0 )\n",
    "assert ( np.isclose ( f0.dot(dhat)/np.linalg.norm(f0) , -1 ) ) \n",
    "\n",
    "\n",
    "#compute the net spring force at each vertex by iterating over the edges modeling springs\n",
    "dist_array  = np.zeros_like(vertex1_array, dtype=float)\n",
    "force_array = np.zeros_like(vertex1_array, dtype=float)\n",
    "vertex1_array, vertex2_array = np.array(mesh.vertices[meu[:,0]],dtype=float), np.array( mesh.vertices[meu[:,1]],dtype=float)\n",
    "for i, (vertex1, vertex2, d, d0, k0) in enumerate(zip(vertex1_array, vertex2_array, mesh.edges_unique_length, d0_array, k0_array)):\n",
    "    dist_array[i] = vertex1 - vertex2\n",
    "    # compute the spring force given edge in the local scope\n",
    "    f0   = spring_force( vertex1, vertex2, d, d0/2, k0 )\n",
    "\n",
    "    # add that spring force in the appropriate entries of f0_array\n",
    "    f0_array[meu[i,0]] += f0\n",
    "    f0_array[meu[i,1]] -= f0\n",
    "    \n",
    "    # TODO(optional, for plotting): compute the average of the vertex vectors\n",
    "\n",
    "assert (np.isclose( np.mean(f0_array) , 0 ) )  #test average spring force is zero\n",
    "assert ( np.var(f0_array) > 0.02 )  #test variance of spring force at least 0.02"
   ]
  },
  {
   "cell_type": "markdown",
   "metadata": {
    "heading_collapsed": true
   },
   "source": [
    "# wrap this all in a function compute_spring_forces for a given (mesh, precomputed_values)\n"
   ]
  },
  {
   "cell_type": "code",
   "execution_count": 344,
   "metadata": {
    "ExecuteTime": {
     "end_time": "2020-07-28T21:21:02.151809Z",
     "start_time": "2020-07-28T21:21:02.107843Z"
    },
    "hidden": true
   },
   "outputs": [],
   "source": [
    "# TODO: write a test_compute_spring_forces function\n",
    "# TODO: njit compute_spring_forces(mesh_world, precomputed_values) function\n",
    "# TODO: move all this to model.py  and the test_model.py\n",
    "# TODO(later): njit compute_elastic_forces(mesh_world, mesh_material) function"
   ]
  },
  {
   "cell_type": "code",
   "execution_count": 349,
   "metadata": {
    "ExecuteTime": {
     "end_time": "2020-07-28T21:24:48.672399Z",
     "start_time": "2020-07-28T21:24:48.630344Z"
    },
    "hidden": true
   },
   "outputs": [],
   "source": [
    "#compute spring force for a given edge configuration\n",
    "def spring_force( vertex1, vertex2, d, d0, k0 ):\n",
    "    '''returns the spring_force for vertex1 directed towards vertex2.  '''\n",
    "    dhat = (vertex2 - vertex1)\n",
    "    dhat /= np.linalg.norm(dhat)\n",
    "    return - k0 * ( d - d0 ) * dhat\n",
    "\n",
    "def compute_spring_forces(vertex1_array, vertex2_array, d_array, d0_array, k0_array):\n",
    "    \n",
    "    '''compute the net spring force at each vertex by iterating over the edges modeling springs.'''\n",
    "    dist_array  = np.zeros_like(vertex1_array, dtype=float)\n",
    "    force_array = np.zeros_like(vertex1_array, dtype=float)\n",
    "    for i, (vertex1, vertex2, d, d0, k0) in enumerate(zip(vertex1_array, vertex2_array, d_array, d0_array, k0_array)):\n",
    "        dist_array[i] = vertex1 - vertex2\n",
    "        # compute the spring force given edge in the local scope\n",
    "        f0   = spring_force( vertex1, vertex2, d, d0, k0 )\n",
    "\n",
    "        # add that spring force in the appropriate entries of f0_array\n",
    "        f0_array[meu[i,0]] += f0\n",
    "        f0_array[meu[i,1]] -= f0\n",
    "    return f0_array\n",
    "        # TODO(optional, for plotting): compute the average of the vertex vectors"
   ]
  },
  {
   "cell_type": "code",
   "execution_count": 350,
   "metadata": {
    "ExecuteTime": {
     "end_time": "2020-07-28T21:24:50.144750Z",
     "start_time": "2020-07-28T21:24:50.086747Z"
    },
    "hidden": true
   },
   "outputs": [],
   "source": [
    "#precompute edges, which are the force generating simplices here\n",
    "meu = mesh.edges_unique\n",
    "vid1_array, vid2_array = np.array(meu[:,0],dtype=int), np.array( meu[:,1],dtype=int)\n",
    "vertex1_array = np.array ( mesh.vertices[vid1_array]  , dtype=float) \n",
    "vertex2_array = np.array ( mesh.vertices[vid2_array]  , dtype=float) \n",
    "\n",
    "#initialize spring force parameters\n",
    "d0_array = np.array(mesh.edges_unique_length, dtype=float)\n",
    "k0_array = 1 + np.zeros_like(vertex1_array[...,0], dtype=float)\n",
    "f0_array = np.array(np.zeros_like(mesh.vertices, dtype=float))\n",
    "\n",
    "#compute the current spring deformation states for each edge\n",
    "vertex1_array = np.array(mesh.vertices[vid1_array],dtype=float)\n",
    "vertex2_array = np.array( mesh.vertices[vid2_array],dtype=float)\n",
    "d_array = np.array(mesh.edges_unique_length, dtype=float)\n",
    "\n",
    "# compute the net spring force for each vertex\n",
    "f0_array = compute_spring_forces(vertex1_array, vertex2_array, d_array, d0_array, k0_array)"
   ]
  },
  {
   "cell_type": "code",
   "execution_count": 360,
   "metadata": {
    "ExecuteTime": {
     "end_time": "2020-07-28T21:26:47.136069Z",
     "start_time": "2020-07-28T21:26:47.087377Z"
    },
    "hidden": true
   },
   "outputs": [],
   "source": [
    "def test_spring_force_computation(mesh):\n",
    "    #precompute edges, which are the force generating simplices here\n",
    "    meu = mesh.edges_unique\n",
    "    vid1_array, vid2_array = np.array(meu[:,0],dtype=int), np.array( meu[:,1],dtype=int)\n",
    "    vertex1_array = np.array ( mesh.vertices[vid1_array]  , dtype=float) \n",
    "    vertex2_array = np.array ( mesh.vertices[vid2_array]  , dtype=float) \n",
    "\n",
    "    #initialize spring force parameters\n",
    "    d0_array = np.array(mesh.edges_unique_length, dtype=float)\n",
    "    k0_array = 1 + np.zeros_like(vertex1_array[...,0], dtype=float)\n",
    "    f0_array = np.array(np.zeros_like(mesh.vertices, dtype=float))\n",
    "\n",
    "    #compute the current spring deformation states for each edge\n",
    "    vertex1_array = np.array(mesh.vertices[vid1_array],dtype=float)\n",
    "    vertex2_array = np.array( mesh.vertices[vid2_array],dtype=float)\n",
    "    d_array = np.array(mesh.edges_unique_length, dtype=float)\n",
    "\n",
    "    assert ((mesh.edges_unique[mesh.edges_unique_inverse] == mesh.edges_sorted).all())\n",
    "\n",
    "    def length(vertex1, vertex2):\n",
    "        return np.linalg.norm( vertex1 - vertex2)\n",
    "\n",
    "    #test mesh.edges_unique_length gives the correct edge length \n",
    "    assert ( length(vertex1_array[0],vertex2_array[0]) == mesh.edges_unique_length[0] )\n",
    "    assert ( length(vertex1_array[1],vertex2_array[1]) == mesh.edges_unique_length[1] )\n",
    "    assert ( length(vertex1_array[2],vertex2_array[2]) == mesh.edges_unique_length[2] )\n",
    "    \n",
    "    #test type consistency as a proxy test that the types are not tracked-array instances\n",
    "    assert ( type(dist_array) == type (d0_array) )\n",
    "    assert ( type(f0_array) == type (k0_array) )\n",
    "    assert ( type(vertex1_array) == type (d0_array) )\n",
    "    assert ( type(vertex2_array) == type (d0_array) )\n",
    "    assert ( type(vid1_array) == type (d0_array) )\n",
    "    assert ( type(vid2_array) == type (d0_array) )\n",
    "\n",
    "    # test that spring_force pushes vertex1 in the direction of vertex2 when the spring is twice the equilibrium length, d0\n",
    "    vertex1, vertex2, d, d0, k0  = (np.array([ 0.71367072, -0.45411208,  0.53182509]),np.array([ 0.54048159, -0.63460453,  0.61003465]),0.26208535311672354,0.26208535311672354,1.0)\n",
    "    dhat = (vertex1 - vertex2)\n",
    "    dhat/= np.linalg.norm(dhat)\n",
    "\n",
    "    # test that an extended spring is attractive in the edge direction\n",
    "    f0   = spring_force( vertex1, vertex2, d, d0/2, k0 )\n",
    "    assert ( np.isclose ( f0.dot(dhat)/np.linalg.norm(f0) , 1 ) ) \n",
    "    # test that a compressed spring is repulsive in the edge direction\n",
    "    f0   = spring_force( vertex1, vertex2, d, d0*2, k0 )\n",
    "    assert ( np.isclose ( f0.dot(dhat)/np.linalg.norm(f0) , -1 ) ) \n",
    "    \n",
    "    # compute the net spring force for each vertex\n",
    "    f0_array = compute_spring_forces(vertex1_array, vertex2_array, d_array, d0_array, k0_array)\n",
    "    assert (np.isclose( np.mean(f0_array) , 0 ) )  #test average spring force is zero\n",
    "    assert ( np.isclose( np.var(f0_array) , 0 ) )  #test variance of spring force at least 0.02\n",
    "    return True"
   ]
  },
  {
   "cell_type": "code",
   "execution_count": 361,
   "metadata": {
    "ExecuteTime": {
     "end_time": "2020-07-28T21:26:47.456641Z",
     "start_time": "2020-07-28T21:26:47.403758Z"
    },
    "hidden": true
   },
   "outputs": [
    {
     "data": {
      "text/plain": [
       "True"
      ]
     },
     "execution_count": 361,
     "metadata": {},
     "output_type": "execute_result"
    }
   ],
   "source": [
    "test_spring_force_computation(mesh)"
   ]
  },
  {
   "cell_type": "code",
   "execution_count": 364,
   "metadata": {
    "ExecuteTime": {
     "end_time": "2020-07-28T21:42:38.979185Z",
     "start_time": "2020-07-28T21:42:38.933911Z"
    },
    "hidden": true
   },
   "outputs": [],
   "source": [
    "vertex_array = np.array(mesh.vertices, dtype=float)"
   ]
  },
  {
   "cell_type": "markdown",
   "metadata": {
    "ExecuteTime": {
     "end_time": "2020-07-28T21:42:30.778565Z",
     "start_time": "2020-07-28T21:42:30.709898Z"
    },
    "heading_collapsed": true
   },
   "source": [
    "# njit the spring forces (unjitted is ~100ms. njit'ing will let integrate_forward_n_steps become njitt'd\n",
    "    - Don't spend too long on this!"
   ]
  },
  {
   "cell_type": "code",
   "execution_count": 9,
   "metadata": {
    "ExecuteTime": {
     "end_time": "2020-07-28T21:47:39.056829Z",
     "start_time": "2020-07-28T21:47:38.954301Z"
    },
    "hidden": true
   },
   "outputs": [
    {
     "name": "stderr",
     "output_type": "stream",
     "text": [
      "face_normals all zero, ignoring!\n"
     ]
    }
   ],
   "source": [
    "import os, trimesh, numpy as np\n",
    "from lib.spring import *\n",
    "os.chdir(f'Data/spherical_meshes')\n",
    "mesh = trimesh.load('spherical_mesh_64.stl')\n",
    "os.chdir('../..')\n",
    "#subtract the center of mass\n",
    "mesh.vertices -= mesh.center_mass\n",
    "#normalize the mean radius to 1\n",
    "mesh.vertices /= np.cbrt(mesh.volume*3/(4*np.pi))\n",
    "\n",
    "#precompute edges, which are the force generating simplices here\n",
    "meu = mesh.edges_unique\n",
    "vid1_array, vid2_array = np.array(meu[:,0],dtype=int), np.array( meu[:,1],dtype=int)\n",
    "vertex1_array = np.array ( mesh.vertices[vid1_array]  , dtype=float) \n",
    "vertex2_array = np.array ( mesh.vertices[vid2_array]  , dtype=float) \n",
    "vertex_array = np.array(mesh.vertices, dtype=float) #only needed for shape\n",
    "\n",
    "#initialize spring force parameters\n",
    "d0_array = np.array(mesh.edges_unique_length, dtype=float)\n",
    "k0_array = 1 + np.zeros_like(vertex1_array[...,0], dtype=float)\n",
    "f0_array = np.array(np.zeros_like(mesh.vertices, dtype=float))\n",
    "\n",
    "#compute the current spring deformation states for each edge\n",
    "vertex1_array = np.array(mesh.vertices[vid1_array],dtype=float)\n",
    "vertex2_array = np.array( mesh.vertices[vid2_array],dtype=float)\n",
    "d_array = np.array(mesh.edges_unique_length, dtype=float)\n",
    "\n",
    "# compute the net spring force for each vertex\n",
    "f0_array = compute_spring_forces(vertex1_array, vertex2_array, d_array, d0_array, k0_array, vid1_array, vid2_array, vertex_array)"
   ]
  },
  {
   "cell_type": "code",
   "execution_count": 11,
   "metadata": {
    "ExecuteTime": {
     "end_time": "2020-07-28T21:50:12.279769Z",
     "start_time": "2020-07-28T21:50:12.277149Z"
    },
    "hidden": true
   },
   "outputs": [],
   "source": [
    "from numba import njit"
   ]
  },
  {
   "cell_type": "code",
   "execution_count": 15,
   "metadata": {
    "ExecuteTime": {
     "end_time": "2020-07-28T21:50:59.163792Z",
     "start_time": "2020-07-28T21:50:59.160134Z"
    },
    "hidden": true
   },
   "outputs": [],
   "source": [
    "#njit spring_force\n",
    "#compute spring force for a given edge configuration\n",
    "@njit\n",
    "def spring_force( vertex1, vertex2, d, d0, k0 ):\n",
    "    '''returns the spring_force for vertex1 directed towards vertex2.  '''\n",
    "    dhat = (vertex2 - vertex1)\n",
    "    dhat /= np.linalg.norm(dhat)\n",
    "    return - k0 * ( d - d0 ) * dhat"
   ]
  },
  {
   "cell_type": "code",
   "execution_count": 19,
   "metadata": {
    "ExecuteTime": {
     "end_time": "2020-07-28T21:51:02.940851Z",
     "start_time": "2020-07-28T21:51:02.934101Z"
    },
    "hidden": true
   },
   "outputs": [],
   "source": [
    "# test that spring_force pushes vertex1 in the direction of vertex2 when the spring is twice the equilibrium length, d0\n",
    "vertex1, vertex2, d, d0, k0  = (np.array([ 0.71367072, -0.45411208,  0.53182509]),np.array([ 0.54048159, -0.63460453,  0.61003465]),0.26208535311672354,0.26208535311672354,1.0)\n",
    "dhat = (vertex1 - vertex2)\n",
    "dhat/= np.linalg.norm(dhat)\n",
    "\n",
    "# test that an extended spring is attractive in the edge direction\n",
    "f0   = spring_force( vertex1, vertex2, d, d0/2, k0 )\n",
    "assert ( np.isclose ( f0.dot(dhat)/np.linalg.norm(f0) , 1 ) ) \n",
    "# test that a compressed spring is repulsive in the edge direction\n",
    "f0   = spring_force( vertex1, vertex2, d, d0*2, k0 )\n",
    "assert ( np.isclose ( f0.dot(dhat)/np.linalg.norm(f0) , -1 ) ) "
   ]
  },
  {
   "cell_type": "code",
   "execution_count": 83,
   "metadata": {
    "ExecuteTime": {
     "end_time": "2020-07-28T22:03:42.914645Z",
     "start_time": "2020-07-28T22:03:42.908993Z"
    },
    "hidden": true
   },
   "outputs": [],
   "source": [
    "@njit\n",
    "def compute_spring_forces(vertex1_array, vertex2_array, d_array, d0_array, k0_array, vid1_array, vid2_array, vertex_array):\n",
    "    '''compute the net spring force at each vertex by iterating over the edges modeling springs.'''\n",
    "    f0_array = 0. * vertex_array\n",
    "    # f0_array = np.array(np.zeros_like(vertex_array, dtype=float))\n",
    "    # dist_array  = np.zeros_like(vertex1_array, dtype=float)\n",
    "    # force_array = np.zeros_like(vertex1_array, dtype=float)\n",
    "    #     for i, (vertex1, vertex2, d, d0, k0) in enumerate(zip(vertex1_array, vertex2_array, d_array, d0_array, k0_array)):\n",
    "    # dist_array[i] = vertex1 - vertex2\n",
    "    imax = vertex1_array.shape[0]\n",
    "    for i in range(imax):\n",
    "        vertex1, vertex2, d, d0, k0 = vertex1_array[i], vertex2_array[i], d_array[i], d0_array[i], k0_array[i]\n",
    "    # compute the spring force given edge in the local scope\n",
    "        f0   = spring_force( vertex1, vertex2, d, d0, k0 )\n",
    "\n",
    "        # add that spring force in the appropriate entries of f0_array\n",
    "        f0_array[vid1_array[i]] = f0_array[vid1_array[i]] + f0\n",
    "        f0_array[vid2_array[i]] = f0_array[vid2_array[i]] - f0\n",
    "    return f0_array"
   ]
  },
  {
   "cell_type": "code",
   "execution_count": 84,
   "metadata": {
    "ExecuteTime": {
     "end_time": "2020-07-28T22:03:43.307091Z",
     "start_time": "2020-07-28T22:03:43.302716Z"
    },
    "hidden": true
   },
   "outputs": [
    {
     "data": {
      "text/plain": [
       "[(756, 3), (756, 3), (756,), (756,), (756,), (756,), (756,), (254, 3)]"
      ]
     },
     "execution_count": 84,
     "metadata": {},
     "output_type": "execute_result"
    }
   ],
   "source": [
    "#TODO: test that none of these types are tracked\n",
    "# compute_spring_forces(\n",
    "# [\n",
    "# vertex1_array.shape, \n",
    "# vertex2_array.shape, \n",
    "# d_array.shape, \n",
    "# d0_array.shape, \n",
    "# k0_array.shape,\n",
    "# vid1_array.shape, \n",
    "# vid2_array.shape, \n",
    "# vertex_array.shape\n",
    "# ]"
   ]
  },
  {
   "cell_type": "code",
   "execution_count": 86,
   "metadata": {
    "ExecuteTime": {
     "end_time": "2020-07-28T22:03:44.902686Z",
     "start_time": "2020-07-28T22:03:44.897232Z"
    },
    "hidden": true
   },
   "outputs": [],
   "source": [
    "# #numba bug is in this line\n",
    "# for i, (vertex1, vertex2, d, d0, k0) in enumerate(zip(vertex1_array, vertex2_array, d_array, d0_array, k0_array)):\n",
    "#     pass\n",
    "# #note that dimensions must agree because it works in core python\n",
    "# #TODO: try rewriting ^this as\n",
    "# imax = vertex1_array.shape[0]\n",
    "# for i in range(imax):\n",
    "#     vertex1, vertex2, d, d0, k0 = vertex1_array[i], vertex2_array[i], d_array[i], d0_array[i], k0_array[i]\n",
    "#     pass"
   ]
  },
  {
   "cell_type": "code",
   "execution_count": 93,
   "metadata": {
    "ExecuteTime": {
     "end_time": "2020-07-28T22:06:14.965251Z",
     "start_time": "2020-07-28T22:06:14.963341Z"
    },
    "hidden": true
   },
   "outputs": [],
   "source": [
    "# njit compute_spring_forces\n",
    "# compute_spring_forces(vertex1_array, vertex2_array, d_array, d0_array, k0_array, vid1_array, vid2_array, vertex_array)"
   ]
  },
  {
   "cell_type": "code",
   "execution_count": null,
   "metadata": {
    "ExecuteTime": {
     "end_time": "2020-07-28T22:01:43.769807Z",
     "start_time": "2020-07-28T22:01:43.764919Z"
    },
    "hidden": true
   },
   "outputs": [],
   "source": [
    "#TODO(later, in openoffice): make a nice plot of a some example forces on an example triangle."
   ]
  },
  {
   "cell_type": "markdown",
   "metadata": {},
   "source": [
    "# exploring scipy.interpolate"
   ]
  },
  {
   "cell_type": "code",
   "execution_count": 98,
   "metadata": {
    "ExecuteTime": {
     "end_time": "2020-07-30T17:47:32.486839Z",
     "start_time": "2020-07-30T17:47:32.398599Z"
    }
   },
   "outputs": [],
   "source": [
    "import scipy.interpolate as interpolate"
   ]
  },
  {
   "cell_type": "code",
   "execution_count": 103,
   "metadata": {
    "ExecuteTime": {
     "end_time": "2020-07-30T17:48:51.271226Z",
     "start_time": "2020-07-30T17:48:51.221994Z"
    }
   },
   "outputs": [],
   "source": [
    "# Smooth bivariate spline approximation.\n",
    "# interpolate.SmoothBivariateSpline?"
   ]
  },
  {
   "cell_type": "code",
   "execution_count": 104,
   "metadata": {
    "ExecuteTime": {
     "end_time": "2020-07-30T17:48:51.631233Z",
     "start_time": "2020-07-30T17:48:51.594066Z"
    }
   },
   "outputs": [],
   "source": [
    "# Weighted least-squares bivariate spline approximation.\n",
    "# interpolate.LSQBivariateSpline?"
   ]
  },
  {
   "cell_type": "code",
   "execution_count": 107,
   "metadata": {
    "ExecuteTime": {
     "end_time": "2020-07-30T17:49:50.265460Z",
     "start_time": "2020-07-30T17:49:50.215397Z"
    }
   },
   "outputs": [],
   "source": [
    "# Convenience function for polynomial interpolation.\n",
    "# interpolate.barycentric_interpolate?\n",
    "\n",
    "# The interpolating polynomial for a set of points\n",
    "# interpolate.BarycentricInterpolator?"
   ]
  },
  {
   "cell_type": "code",
   "execution_count": 113,
   "metadata": {
    "ExecuteTime": {
     "end_time": "2020-07-30T17:57:35.353445Z",
     "start_time": "2020-07-30T17:57:35.293664Z"
    }
   },
   "outputs": [],
   "source": [
    "# Piecewise cubic, C1 smooth, curvature-minimizing interpolant in 2D.\n",
    "scipy.interpolate.CloughTocher2DInterpolator?"
   ]
  },
  {
   "cell_type": "markdown",
   "metadata": {},
   "source": [
    "# represent a triangular mesh (sphere) as a bivariate B-spline smooth surface."
   ]
  },
  {
   "cell_type": "code",
   "execution_count": null,
   "metadata": {},
   "outputs": [],
   "source": [
    "#Do I want a scale-invariant renormalization group formulated by the continuous group (B-spline bivariate model) or by the barycentric group?\n",
    "# I want the B-spline bivariate model for mechanics and for the electrophysiology.\n",
    "\n"
   ]
  },
  {
   "cell_type": "code",
   "execution_count": 111,
   "metadata": {
    "ExecuteTime": {
     "end_time": "2020-07-30T17:50:48.671387Z",
     "start_time": "2020-07-30T17:50:48.614382Z"
    }
   },
   "outputs": [],
   "source": [
    "# TODO: Find a bivariate B-spline representation of a surface.\n",
    "# interpolate.bisplrep?"
   ]
  },
  {
   "cell_type": "code",
   "execution_count": 109,
   "metadata": {
    "ExecuteTime": {
     "end_time": "2020-07-30T17:50:09.552126Z",
     "start_time": "2020-07-30T17:50:09.505361Z"
    }
   },
   "outputs": [],
   "source": [
    "# TODO: Evaluate a bivariate B-spline and its derivatives.\n",
    "# interpolate.bisplev?"
   ]
  }
 ],
 "metadata": {
  "kernelspec": {
   "display_name": "Python 3",
   "language": "python",
   "name": "python3"
  },
  "language_info": {
   "codemirror_mode": {
    "name": "ipython",
    "version": 3
   },
   "file_extension": ".py",
   "mimetype": "text/x-python",
   "name": "python",
   "nbconvert_exporter": "python",
   "pygments_lexer": "ipython3",
   "version": "3.8.6"
  },
  "toc": {
   "base_numbering": 1,
   "nav_menu": {},
   "number_sections": false,
   "sideBar": false,
   "skip_h1_title": false,
   "title_cell": "Table of Contents",
   "title_sidebar": "Contents",
   "toc_cell": false,
   "toc_position": {},
   "toc_section_display": false,
   "toc_window_display": false
  },
  "varInspector": {
   "cols": {
    "lenName": 16,
    "lenType": 16,
    "lenVar": 40
   },
   "kernels_config": {
    "python": {
     "delete_cmd_postfix": "",
     "delete_cmd_prefix": "del ",
     "library": "var_list.py",
     "varRefreshCmd": "print(var_dic_list())"
    },
    "r": {
     "delete_cmd_postfix": ") ",
     "delete_cmd_prefix": "rm(",
     "library": "var_list.r",
     "varRefreshCmd": "cat(var_dic_list()) "
    }
   },
   "types_to_exclude": [
    "module",
    "function",
    "builtin_function_or_method",
    "instance",
    "_Feature"
   ],
   "window_display": false
  }
 },
 "nbformat": 4,
 "nbformat_minor": 2
}
