{
 "cells": [
  {
   "cell_type": "markdown",
   "metadata": {},
   "source": [
    "# Elastic Model of RA - FEI\n",
    "Tim Tyree<br>\n",
    "6.24.2020<br>"
   ]
  },
  {
   "cell_type": "code",
   "execution_count": 2,
   "metadata": {
    "ExecuteTime": {
     "end_time": "2020-07-27T02:48:11.729440Z",
     "start_time": "2020-07-27T02:48:10.473094Z"
    }
   },
   "outputs": [
    {
     "name": "stdout",
     "output_type": "stream",
     "text": [
      "Automatic calling is: Smart\n"
     ]
    }
   ],
   "source": [
    "import numpy as np, pandas as pd, matplotlib.pyplot as plt\n",
    "from mpl_toolkits.mplot3d import Axes3D  \n",
    "\n",
    "#automate the boring stuff\n",
    "from IPython import utils\n",
    "import time, os, sys, re\n",
    "beep = lambda x: os.system(\"echo -n '\\\\a';sleep 0.2;\" * x)\n",
    "if not 'nb_dir' in globals():\n",
    "    nb_dir = os.getcwd()\n",
    "sys.path.append(\"../lib\") \n",
    "from lib import *\n",
    "sys.path.append(\"lib\") \n",
    "from lib import *\n",
    "\n",
    "# from operari import *\n",
    "# from ProgressBar import *\n",
    "# from mesh_ops import *\n",
    "\n",
    "# the visualization tools involved here for triangular meshes is\n",
    "import trimesh\n",
    "import pyglet\n",
    "from numba import njit, cuda\n",
    "# from numba.typed import List\n",
    "# import numba\n",
    "import trimesh\n",
    "\n",
    "#try using a scipy sparse matrix to speed up spring force evaluations\n",
    "#TODO: speed up bigger meshes with pycuda's sparce matrices\n",
    "from scipy.sparse import csr_matrix\n",
    "import scipy.sparse as sparse\n",
    "\n",
    "\n",
    "\n",
    "# from pyspark import SparkContext \n",
    "# sc = SparkContext(master=\"local[4]\")\n",
    "# print(sc)\n",
    "\n",
    "\n",
    "%autocall 1\n",
    "%load_ext autoreload\n",
    "%autoreload 2"
   ]
  },
  {
   "cell_type": "code",
   "execution_count": 3,
   "metadata": {
    "ExecuteTime": {
     "end_time": "2020-07-27T02:48:12.534870Z",
     "start_time": "2020-07-27T02:48:12.486176Z"
    }
   },
   "outputs": [],
   "source": [
    "import numpy.linalg as linalg"
   ]
  },
  {
   "cell_type": "markdown",
   "metadata": {},
   "source": [
    "# import the watertight mesh, identifying the static caps"
   ]
  },
  {
   "cell_type": "code",
   "execution_count": 1,
   "metadata": {
    "ExecuteTime": {
     "end_time": "2020-07-27T02:48:08.478484Z",
     "start_time": "2020-07-27T02:48:08.346937Z"
    }
   },
   "outputs": [
    {
     "ename": "NameError",
     "evalue": "name 'nb_dir' is not defined",
     "output_type": "error",
     "traceback": [
      "\u001b[0;31m---------------------------------------------------------------------------\u001b[0m",
      "\u001b[0;31mNameError\u001b[0m                                 Traceback (most recent call last)",
      "\u001b[0;32m<ipython-input-1-b2f669b085bc>\u001b[0m in \u001b[0;36m<module>\u001b[0;34m\u001b[0m\n\u001b[1;32m      1\u001b[0m \u001b[0;31m#make file for logging results\u001b[0m\u001b[0;34m\u001b[0m\u001b[0;34m\u001b[0m\u001b[0;34m\u001b[0m\u001b[0m\n\u001b[0;32m----> 2\u001b[0;31m \u001b[0moutput_dir\u001b[0m \u001b[0;34m=\u001b[0m \u001b[0mnb_dir\u001b[0m\u001b[0;34m+\u001b[0m\u001b[0;34m'/Data/Log'\u001b[0m\u001b[0;34m\u001b[0m\u001b[0;34m\u001b[0m\u001b[0m\n\u001b[0m\u001b[1;32m      3\u001b[0m \u001b[0;32mif\u001b[0m \u001b[0;32mnot\u001b[0m \u001b[0mos\u001b[0m\u001b[0;34m.\u001b[0m\u001b[0mpath\u001b[0m\u001b[0;34m.\u001b[0m\u001b[0mexists\u001b[0m\u001b[0;34m(\u001b[0m\u001b[0moutput_dir\u001b[0m\u001b[0;34m)\u001b[0m\u001b[0;34m:\u001b[0m\u001b[0;34m\u001b[0m\u001b[0;34m\u001b[0m\u001b[0m\n\u001b[1;32m      4\u001b[0m     \u001b[0mos\u001b[0m\u001b[0;34m.\u001b[0m\u001b[0mmkdir\u001b[0m\u001b[0;34m(\u001b[0m\u001b[0moutput_dir\u001b[0m\u001b[0;34m)\u001b[0m\u001b[0;34m\u001b[0m\u001b[0;34m\u001b[0m\u001b[0m\n\u001b[1;32m      5\u001b[0m \u001b[0;34m\u001b[0m\u001b[0m\n",
      "\u001b[0;31mNameError\u001b[0m: name 'nb_dir' is not defined"
     ]
    }
   ],
   "source": [
    "#make file for logging results\n",
    "output_dir = nb_dir+'/Data/Log'\n",
    "if not os.path.exists(output_dir):\n",
    "    os.mkdir(output_dir)\n",
    "    \n",
    "output_fn = 'test-deform.csv'\n",
    "output_file = os.path.join(output_dir, output_fn)\n",
    "print(output_file)\n",
    "# output_file = get_incremented_output_filename(output_dir, output_fn)\n",
    "# with open(output_file, 'w') as opened_file:\n",
    "#     opened_file.write('time,volume,area,avg_Fs,avg_Fp,my_Q\\n')"
   ]
  },
  {
   "cell_type": "code",
   "execution_count": 24,
   "metadata": {
    "ExecuteTime": {
     "end_time": "2020-06-26T09:05:15.952611Z",
     "start_time": "2020-06-26T09:05:15.881203Z"
    }
   },
   "outputs": [],
   "source": [
    "#load mesh and reinitialize time\n",
    "tme = 0.\n",
    "\n",
    "# identify vertices that are on the caps (and therefore do not move)\n",
    "# caps = trimesh.load('Data/patient85_RA_caps.ply')\n",
    "mesh_closed = trimesh.load('Data/patient85_RA_closed.ply')\n",
    "mesh_closed.vertices /= 10 #convert length units from mm to cm\n",
    "mesh_closed.vertices -= mesh_closed.center_mass\n",
    "\n",
    "df = pd.read_csv('Data/patient85_RA_vertices.csv',index_col = 0)\n",
    "vertex_indices_of_not_caps = list(df.query('group == -1').index)\n",
    "vertex_indices_of_caps = list(df.query('group > -1').index)\n",
    "\n",
    "mesh_open = mesh_closed.submesh((vertex_indices_of_not_caps,), append=True)\n",
    "mesh_caps = mesh_closed.submesh((vertex_indices_of_caps,), append=True)\n",
    "mesh = mesh_closed.copy()\n",
    "comp = mesh.copy()\n",
    "vertices = np.array(comp.vertices)\n",
    "momentum = 0.*np.array(comp.vertices)\n",
    "\n",
    "#remove connections that are on caps\n",
    "#note that this doesn't remove connections from non caps \n",
    "# to the caps, which is good.\n",
    "VN = mesh.vertex_neighbors\n",
    "for vid in vertex_indices_of_caps:\n",
    "    VN[vid] = []"
   ]
  },
  {
   "cell_type": "code",
   "execution_count": null,
   "metadata": {
    "ExecuteTime": {
     "end_time": "2020-06-20T01:33:01.724464Z",
     "start_time": "2020-06-20T01:33:01.695050Z"
    }
   },
   "outputs": [],
   "source": []
  },
  {
   "cell_type": "code",
   "execution_count": 14,
   "metadata": {
    "ExecuteTime": {
     "end_time": "2020-06-26T09:03:26.028513Z",
     "start_time": "2020-06-26T09:03:25.878578Z"
    }
   },
   "outputs": [],
   "source": [
    "#assign params for isobaric expansion experiment\n",
    "P = 5.*1333.    #gcm/s^2 / cm^2\n",
    "k = 3000.        #gcm/s^2 / cm\n",
    "extension =1.0  #unitless\n",
    "h = 10**-7      #time step in seconds \n",
    "#construct constant matrices - x0 matrix and k matrix\n",
    "N = len(VN)\n",
    "x0_constant_mat = np.zeros((N,N)).astype('float32')\n",
    "k_constant_mat = np.zeros((N,N)).astype('float32')\n",
    "for i in range(N):\n",
    "    for j in VN[i]:\n",
    "        qi = vertices[i]\n",
    "        qj = vertices[j]\n",
    "        if i is not j:\n",
    "            d  = np.linalg.norm(qj-qi)\n",
    "            x0_constant_mat[i][j] = extension*d\n",
    "            k_constant_mat[i][j] = k\n",
    "        \n",
    "#compute vertex masses\n",
    "mass = [get_mass(vid, mesh) for vid in range(comp.vertices.shape[0])]"
   ]
  },
  {
   "cell_type": "markdown",
   "metadata": {
    "heading_collapsed": true
   },
   "source": [
    "# define material shapes to be the initial mesh"
   ]
  },
  {
   "cell_type": "code",
   "execution_count": 16,
   "metadata": {
    "ExecuteTime": {
     "end_time": "2020-06-26T09:03:40.444407Z",
     "start_time": "2020-06-26T09:03:40.415443Z"
    },
    "hidden": true
   },
   "outputs": [],
   "source": [
    "# easy test: verify that the __rows__ of each triangle are the vertices and not the columns\n",
    "tri = mesh.triangles[0]\n",
    "assert((mesh.vertices[mesh.faces[0][0]]==tri[0]).all())"
   ]
  },
  {
   "cell_type": "code",
   "execution_count": 17,
   "metadata": {
    "ExecuteTime": {
     "end_time": "2020-06-26T09:03:40.783931Z",
     "start_time": "2020-06-26T09:03:40.758910Z"
    },
    "hidden": true
   },
   "outputs": [],
   "source": [
    "def precomputation():\n",
    "\tpass\n",
    "mesh.triangles?"
   ]
  },
  {
   "cell_type": "code",
   "execution_count": 18,
   "metadata": {
    "ExecuteTime": {
     "end_time": "2020-06-26T09:03:41.008552Z",
     "start_time": "2020-06-26T09:03:40.977553Z"
    },
    "hidden": true
   },
   "outputs": [
    {
     "data": {
      "text/plain": [
       "array([[-1.10937786e-01, -1.96670055e-02,  1.80816650e-03],\n",
       "       [-5.19184113e-02, -5.03691673e-02, -1.00006104e-01],\n",
       "       [-5.14991111e-01, -5.60062512e-01,  2.27593660e+00]])"
      ]
     },
     "execution_count": 18,
     "metadata": {},
     "output_type": "execute_result"
    }
   ],
   "source": [
    "#two equivalent methods of computing triangle shape, the prior njit's better, I'd guess.\n",
    "d1 = tri[1]-tri[0]\n",
    "d2 = tri[2]-tri[0]\n",
    "\n",
    "\n",
    "\n",
    "# Dm_tri = np.stack((d1,d2))\n",
    "# Dm_tri = np.diff(tri,axis=0)\n",
    "\n",
    "A_tri = np.cross(d1,d2)/2\n",
    "X4 = A_tri\n",
    "d3 = X4 - tri[0]\n",
    "Dm_tri = np.stack((d1,d2,d3))\n",
    "Dm_tri\n",
    "#doesn't work\n",
    "# X4 = np.mean(tri,axis=0)\n",
    "# d3 = X4 - tri[0]\n",
    "# Dm_tri = np.stack((d1,d2,d3))"
   ]
  },
  {
   "cell_type": "code",
   "execution_count": 19,
   "metadata": {
    "ExecuteTime": {
     "end_time": "2020-06-26T09:03:41.264881Z",
     "start_time": "2020-06-26T09:03:41.239041Z"
    },
    "hidden": true
   },
   "outputs": [
    {
     "data": {
      "text/plain": [
       "0.006129214168301145"
      ]
     },
     "execution_count": 19,
     "metadata": {},
     "output_type": "execute_result"
    }
   ],
   "source": [
    "\n",
    "np.linalg.norm(A_tri)"
   ]
  },
  {
   "cell_type": "code",
   "execution_count": 139,
   "metadata": {
    "ExecuteTime": {
     "end_time": "2020-06-25T04:41:54.982607Z",
     "start_time": "2020-06-25T04:41:54.945362Z"
    },
    "hidden": true
   },
   "outputs": [
    {
     "data": {
      "text/plain": [
       "array([[-10.93886775,   2.80436398,   0.13191616],\n",
       "       [ 10.87595543, -16.12536163,  -0.71719929],\n",
       "       [  0.20114588,  -3.33356738,   0.29274067]])"
      ]
     },
     "execution_count": 139,
     "metadata": {},
     "output_type": "execute_result"
    }
   ],
   "source": [
    "np.linalg.inv(Dm_tri)"
   ]
  },
  {
   "cell_type": "code",
   "execution_count": 140,
   "metadata": {
    "ExecuteTime": {
     "end_time": "2020-06-25T04:41:56.925963Z",
     "start_time": "2020-06-25T04:41:56.889580Z"
    },
    "hidden": true
   },
   "outputs": [
    {
     "data": {
      "text/plain": [
       "(array([ 2.2992229 , -0.13393497, -0.05065828]),\n",
       " array([[ 0.00109675,  0.60610087,  0.30187889],\n",
       "        [-0.04254884,  0.73637315, -0.93991942],\n",
       "        [ 0.99909379,  0.30065982, -0.15943845]]))"
      ]
     },
     "execution_count": 140,
     "metadata": {},
     "output_type": "execute_result"
    }
   ],
   "source": [
    "np.linalg.eig(Dm_tri)"
   ]
  },
  {
   "cell_type": "code",
   "execution_count": 141,
   "metadata": {
    "ExecuteTime": {
     "end_time": "2020-06-25T04:41:58.285497Z",
     "start_time": "2020-06-25T04:41:58.250241Z"
    },
    "hidden": true
   },
   "outputs": [
    {
     "data": {
      "text/plain": [
       "0.015600033300556947"
      ]
     },
     "execution_count": 141,
     "metadata": {},
     "output_type": "execute_result"
    }
   ],
   "source": [
    "np.linalg.det(Dm_tri)"
   ]
  },
  {
   "cell_type": "code",
   "execution_count": 142,
   "metadata": {
    "ExecuteTime": {
     "end_time": "2020-06-25T04:42:00.608517Z",
     "start_time": "2020-06-25T04:42:00.576637Z"
    },
    "hidden": true
   },
   "outputs": [
    {
     "data": {
      "text/plain": [
       "89.62359286324089"
      ]
     },
     "execution_count": 142,
     "metadata": {},
     "output_type": "execute_result"
    }
   ],
   "source": [
    "#rotate into the plane of tri and show d1 and d2 there\n",
    "#hint\n",
    "np.arccos(np.dot(d1,d2))/np.pi*180."
   ]
  },
  {
   "cell_type": "code",
   "execution_count": 143,
   "metadata": {
    "ExecuteTime": {
     "end_time": "2020-06-25T04:42:02.510939Z",
     "start_time": "2020-06-25T04:42:02.485412Z"
    },
    "hidden": true
   },
   "outputs": [
    {
     "data": {
      "text/plain": [
       "0.006569496608831287"
      ]
     },
     "execution_count": 143,
     "metadata": {},
     "output_type": "execute_result"
    }
   ],
   "source": [
    "np.dot(d1,d2)"
   ]
  },
  {
   "cell_type": "markdown",
   "metadata": {
    "heading_collapsed": true
   },
   "source": [
    "# Extending the 3D diagonalized framework to 2D surfaces"
   ]
  },
  {
   "cell_type": "markdown",
   "metadata": {
    "hidden": true
   },
   "source": [
    "For our familiar deformation gradient, $\\mathbf{F}\\in\\mathbb{R}^{3\\times2}$, we may decompose it as $\\mathbf{F}=\\mathbf{U}\\hat{\\mathbf{F}}\\mathbf{V}^T$, where $\\mathbf{U}\\in\\mathbb{R}^{3\\times2}$ has orthonormal columns, $\\hat{\\mathbf{F}}\\in\\mathbb{R}^{2\\times2}$ is diagonal, and $\\mathbf{V}\\in\\mathbb{R}^{2\\times2}$ is a rotation."
   ]
  },
  {
   "cell_type": "code",
   "execution_count": 122,
   "metadata": {
    "ExecuteTime": {
     "end_time": "2020-06-25T04:39:25.650038Z",
     "start_time": "2020-06-25T04:39:25.619517Z"
    },
    "hidden": true
   },
   "outputs": [],
   "source": [
    "E,F,G = linalg.svd(Dm_tri)"
   ]
  },
  {
   "cell_type": "code",
   "execution_count": 123,
   "metadata": {
    "ExecuteTime": {
     "end_time": "2020-06-25T04:39:26.777707Z",
     "start_time": "2020-06-25T04:39:26.747757Z"
    },
    "hidden": true
   },
   "outputs": [],
   "source": [
    "#the triangle in the material coordinates has the same area \n",
    "# as the triangle in the initially given coordinates\n",
    "A_tri = np.cross(d1,d2)/2\n",
    "assert(linalg.det(np.diag(F))/2==np.linalg.norm(A_tri))"
   ]
  },
  {
   "cell_type": "code",
   "execution_count": 124,
   "metadata": {
    "ExecuteTime": {
     "end_time": "2020-06-25T04:39:29.653988Z",
     "start_time": "2020-06-25T04:39:29.628018Z"
    },
    "hidden": true
   },
   "outputs": [
    {
     "data": {
      "text/plain": [
       "-1.0000000000000004"
      ]
     },
     "execution_count": 124,
     "metadata": {},
     "output_type": "execute_result"
    }
   ],
   "source": [
    "linalg.det(E)"
   ]
  },
  {
   "cell_type": "code",
   "execution_count": 125,
   "metadata": {
    "ExecuteTime": {
     "end_time": "2020-06-25T04:39:30.807863Z",
     "start_time": "2020-06-25T04:39:30.775028Z"
    },
    "hidden": true
   },
   "outputs": [
    {
     "data": {
      "text/plain": [
       "-1.0000000000000002"
      ]
     },
     "execution_count": 125,
     "metadata": {},
     "output_type": "execute_result"
    }
   ],
   "source": [
    "np.linalg.det(G)"
   ]
  },
  {
   "cell_type": "code",
   "execution_count": 99,
   "metadata": {
    "ExecuteTime": {
     "end_time": "2020-06-25T01:51:18.269894Z",
     "start_time": "2020-06-25T01:51:18.231113Z"
    },
    "hidden": true
   },
   "outputs": [
    {
     "data": {
      "text/plain": [
       "array([[ 0.82559576, -0.07634438, -0.5590735 ],\n",
       "       [-0.53871076, -0.40142312, -0.74070925],\n",
       "       [ 0.16787604, -0.91270533,  0.37254076]])"
      ]
     },
     "execution_count": 99,
     "metadata": {},
     "output_type": "execute_result"
    }
   ],
   "source": [
    "G"
   ]
  },
  {
   "cell_type": "markdown",
   "metadata": {
    "hidden": true
   },
   "source": [
    "geez, this isn't immediately straight forward.  I'll just add damping to my ball and spring model."
   ]
  },
  {
   "cell_type": "markdown",
   "metadata": {
    "heading_collapsed": true
   },
   "source": [
    "# suppose there's some local elastic energy area density.\n"
   ]
  },
  {
   "cell_type": "markdown",
   "metadata": {
    "hidden": true
   },
   "source": [
    "Suppose we had a local measure for elastic energy area density, $\\Phi[F(X)]$, such that $E_\\text{elastic}=\\int_\\Omega\\Phi[F(X)]d^2X$ was the total (hyper)elastic potential energy for the deformed (hyperelastic) membrane.\n",
    "\n",
    "Suppose the deformation gradient tensor field $F(X)$ takes constant values within each of our triangles, or consider $F(X)$ takes observed values on vertices and is interpolated everywhere using barycentric (linear) interpolation.\n",
    "\n",
    "Our first guess is that our elastic energy area density takes the form $\\Phi[F(X)] = \\frac{k}{2}||F-\\mathbb{1}||_F^2=\\frac{k}{2}(F-\\mathbb{1}):(F-\\mathbb{1})$.\n",
    "\n",
    "Here $F\\in\\mathbb{R}^{2\\times2}$, (and not $F\\in\\mathbb{R}^{3\\times3}$, ?)\n",
    "\n",
    "---\n",
    "Hmm, it seems that I could just suppose I have a typical elastic energy density distributed in a thin sheet of thickness $\\delta$ and then take $\\delta \\rightarrow 0 $."
   ]
  },
  {
   "cell_type": "code",
   "execution_count": 163,
   "metadata": {
    "ExecuteTime": {
     "end_time": "2020-06-25T06:34:58.287094Z",
     "start_time": "2020-06-25T06:34:58.244461Z"
    },
    "hidden": true
   },
   "outputs": [],
   "source": [
    "import numpy as np\n",
    "\n",
    "def rotation_matrix_from_vectors(vec1, vec2):\n",
    "    \"\"\" Find the rotation matrix that aligns vec1 to vec2\n",
    "    :param vec1: A 3d \"source\" vector\n",
    "    :param vec2: A 3d \"destination\" vector\n",
    "    :return mat: A transform matrix (3x3) which when applied to vec1, aligns it with vec2.\n",
    "    \"\"\"\n",
    "    a, b = (vec1 / np.linalg.norm(vec1)).reshape(3), (vec2 / np.linalg.norm(vec2)).reshape(3)\n",
    "    v = np.cross(a, b)\n",
    "    c = np.dot(a, b)\n",
    "    s = np.linalg.norm(v)\n",
    "    kmat = np.array([[0, -v[2], v[1]], [v[2], 0, -v[0]], [-v[1], v[0], 0]])\n",
    "    rotation_matrix = np.eye(3) + kmat + kmat.dot(kmat) * ((1 - c) / (s ** 2))\n",
    "    return rotation_matrix"
   ]
  },
  {
   "cell_type": "code",
   "execution_count": 164,
   "metadata": {
    "ExecuteTime": {
     "end_time": "2020-06-25T06:35:10.967619Z",
     "start_time": "2020-06-25T06:35:10.938564Z"
    },
    "hidden": true
   },
   "outputs": [],
   "source": [
    "vec1 = [2, 3, 2.5]\n",
    "vec2 = [-3, 1, -3.4]\n",
    "\n",
    "mat = rotation_matrix_from_vectors(vec1, vec2)\n",
    "vec1_rot = mat.dot(vec1)\n",
    "assert np.allclose(vec1_rot/np.linalg.norm(vec1_rot), vec2/np.linalg.norm(vec2))"
   ]
  },
  {
   "cell_type": "code",
   "execution_count": 146,
   "metadata": {
    "ExecuteTime": {
     "end_time": "2020-06-25T06:20:42.526022Z",
     "start_time": "2020-06-25T06:20:42.495480Z"
    },
    "hidden": true
   },
   "outputs": [
    {
     "data": {
      "text/plain": [
       "array([-0.11093779, -0.01966701,  0.00180817])"
      ]
     },
     "execution_count": 146,
     "metadata": {},
     "output_type": "execute_result"
    }
   ],
   "source": [
    "#todo test on d1,A_tri rotated by some rotation matrix"
   ]
  },
  {
   "cell_type": "code",
   "execution_count": 174,
   "metadata": {
    "ExecuteTime": {
     "end_time": "2020-06-25T06:38:22.676651Z",
     "start_time": "2020-06-25T06:38:22.637639Z"
    },
    "hidden": true
   },
   "outputs": [],
   "source": [
    "rot_example = np.array([[np.cos(np.pi/4),np.cos(np.sin(np.pi/4)),1],\n",
    " [-np.sin(np.pi/4),np.cos(np.sin(np.pi/4)),1],\n",
    " [1,1,1]])"
   ]
  },
  {
   "cell_type": "code",
   "execution_count": 183,
   "metadata": {
    "ExecuteTime": {
     "end_time": "2020-06-25T06:48:53.961890Z",
     "start_time": "2020-06-25T06:48:53.931244Z"
    },
    "hidden": true
   },
   "outputs": [
    {
     "data": {
      "text/plain": [
       "array([-0.03917484, -0.06067493,  0.08649357])"
      ]
     },
     "execution_count": 183,
     "metadata": {},
     "output_type": "execute_result"
    }
   ],
   "source": [
    "mat = rotation_matrix_from_vectors(d1, rot_example.dot(d1))\n",
    "mat.T.dot(d1)"
   ]
  },
  {
   "cell_type": "code",
   "execution_count": 187,
   "metadata": {
    "ExecuteTime": {
     "end_time": "2020-06-25T18:00:52.507290Z",
     "start_time": "2020-06-25T18:00:52.469207Z"
    },
    "hidden": true,
    "scrolled": true
   },
   "outputs": [
    {
     "data": {
      "text/plain": [
       "array([[ 0.70710678,  0.7602446 ,  1.        ],\n",
       "       [-0.70710678,  0.7602446 ,  1.        ],\n",
       "       [ 1.        ,  1.        ,  1.        ]])"
      ]
     },
     "execution_count": 187,
     "metadata": {},
     "output_type": "execute_result"
    }
   ],
   "source": [
    "rot_example"
   ]
  },
  {
   "cell_type": "code",
   "execution_count": 180,
   "metadata": {
    "ExecuteTime": {
     "end_time": "2020-06-25T06:48:11.574007Z",
     "start_time": "2020-06-25T06:48:11.541462Z"
    },
    "hidden": true
   },
   "outputs": [
    {
     "data": {
      "text/plain": [
       "array([-0.09158843,  0.06530129, -0.12879663])"
      ]
     },
     "execution_count": 180,
     "metadata": {},
     "output_type": "execute_result"
    }
   ],
   "source": [
    "rot_example.dot(d1)"
   ]
  },
  {
   "cell_type": "markdown",
   "metadata": {},
   "source": [
    "# Test driven development of getting a rotation matrix \n",
    "6.25.2020<br>\n",
    "Mostly works.  Tests fail between some distant triangles from mesh.triangles.  I think these would likely go away if I redid the implementation using a quaternionic algebra.\n"
   ]
  },
  {
   "cell_type": "code",
   "execution_count": null,
   "metadata": {},
   "outputs": [],
   "source": [
    "# Question: can the ball-and-spring model satisfy the same tests as the corotated linear model?  \n",
    "# DONE: solve the linear system of R.T.dot(a).cross(A)=0 and R.T.dot(ds1).cross(dm1)=0 for R.T symbollically in mathematica\n",
    "# DONE: then, solve the linear system R.T.dot(ds1) = S.dot(dm1) & R.T.dot(ds2) = S.dot(dm2) for S symbolically in mathematica\n",
    "# TODO: turn ^those into numpy functions and/or an njit'd functions\n",
    "\n",
    "# TODO: compute, F, the deformation gradient between two example triangles\n",
    "# TODO: make ^that functional and test it\n",
    "# TODO: solving for $\\phi$, visualize the map between the two triangles.\n",
    "# TODO: compute the net force vector acting on each side of the deformed triangle\n",
    "# TODO: visualize the nodal spring forces for a simple highly symmetric case\n",
    "# TODO: visualize the nodal spring & pressure forces for that same case\n",
    "\n",
    "# TODO: model the nodal forces on one vertex with a fixed 1-ring (highly-symmetric)\n",
    "# TODO: time evolve ^that by FEI.  Did you use damping?\n",
    "# TODO: model the nodal forces on one vertex and its 1-ring with a fixed 2-ring (highly-symmetric)\n",
    "# TODO: time evolve ^that by FEI.  Did you use damping?\n",
    "\n",
    "# TODO: can I get this to work on the full RA?\n",
    "# TODO: can the ball-and-spring model satisfy the same tests?  "
   ]
  },
  {
   "cell_type": "code",
   "execution_count": 364,
   "metadata": {
    "ExecuteTime": {
     "end_time": "2020-06-25T20:31:15.051691Z",
     "start_time": "2020-06-25T20:31:15.020548Z"
    }
   },
   "outputs": [],
   "source": [
    "# #TODO: optimize this function by removing the first two lines (and maybe precomputing a?), and then njiting it.\n",
    "# def rotation_matrix(axis, theta):\n",
    "#     \"\"\"\n",
    "#     Return the rotation matrix associated with counterclockwise rotation about\n",
    "#     the given axis by theta radians.  Uses the Euler-Rodriguez formula.\n",
    "#     \"\"\"\n",
    "#     axis = np.asarray(axis)\n",
    "#     axis = axis / np.sqrt(np.dot(axis, axis))\n",
    "#     a = np.cos(theta / 2.0)\n",
    "#     b, c, d = -axis * np.sin(theta / 2.0)\n",
    "#     aa, bb, cc, dd = a * a, b * b, c * c, d * d\n",
    "#     bc, ad, ac, ab, bd, cd = b * c, a * d, a * c, a * b, b * d, c * d\n",
    "#     return np.array([[aa + bb - cc - dd, 2 * (bc + ad), 2 * (bd - ac)],\n",
    "#                      [2 * (bc - ad), aa + cc - bb - dd, 2 * (cd + ab)],\n",
    "#                      [2 * (bd + ac), 2 * (cd - ab), aa + dd - bb - cc]])"
   ]
  },
  {
   "cell_type": "code",
   "execution_count": 482,
   "metadata": {
    "ExecuteTime": {
     "end_time": "2020-06-25T21:02:45.054835Z",
     "start_time": "2020-06-25T21:02:44.997728Z"
    }
   },
   "outputs": [],
   "source": [
    "# def get_R(trim,tris,testing=True):\n",
    "#     '''trim is a triangle in material/reference space that is \n",
    "#     deformed to tris, which is a triangle in real space.  \n",
    "#     returns the 3x3 rotation matrix aligning both their area normals and their first shape vector.\n",
    "#     get_R assumes the deformation is continuous and did not invert the triangle being deformed.'''\n",
    "#     dm1 = trim[1]-trim[0]     #precompute in final algorithm\n",
    "#     dm2 = trim[2]-trim[0]     #precompute in final algorithm\n",
    "#     Am =  np.cross(dm1,dm2)/2 #precompute in final algorithm\n",
    "\n",
    "#     ds1 = tris[1]-tris[0]\n",
    "#     ds2 = tris[2]-tris[0]\n",
    "#     As =  np.cross(ds1,ds2)/2\n",
    "    \n",
    "#     #Ra is a rotation_matrix that rotation_matrix rotates Ashat onto Amhat\n",
    "#     Ashat = As/np.linalg.norm(As)\n",
    "#     Amhat = Am/np.linalg.norm(Am)\n",
    "#     v1 = Ashat\n",
    "#     v2 = Amhat\n",
    "#     axisa = np.cross(v1,v2)\n",
    "#     thetaa = -np.arcsin(np.dot(axisa,axisa/np.linalg.norm(axisa)))\n",
    "#     Ra = -rotation_matrix(axisa, thetaa)\n",
    "    \n",
    "#     if not np.isclose(np.dot(Ra, v1),v2).all():\n",
    "#         Ra *= -1\n",
    "#         print('Ra was flipped likely because of the sign ambiguity of thetaa.')\n",
    "#     if testing:\n",
    "#         assert(np.isclose(np.dot(Ra, v1),v2).all())#v1,v2 are about to be renamed'\n",
    "        \n",
    "#     #Rb is a rotation_matrix that rotates the Ra*dm1 onto ds1 without unaligning the area vectors\n",
    "#     v1 = np.dot(Ra,ds1/np.linalg.norm(ds1))\n",
    "#     v2 = dm1/np.linalg.norm(dm1)\n",
    "#     axisb  = Amhat \n",
    "#     thetab = np.arccos(np.dot(v1,v2))\n",
    "# #     axisb = np.cross(v1,v2)\n",
    "# #         w = np.cross(v1,v2)\n",
    "# #     thetab = np.arcsin(np.linalg.norm(w))\n",
    "# #     thetab = -np.arcsin(np.dot(w,w/np.linalg.norm(w)))\n",
    "#     Rb = rotation_matrix(axisb, thetab).T\n",
    "\n",
    "#     if not np.isclose(np.dot(Rb, v1),v2).all():\n",
    "#         print(np.dot(Rb, v1))\n",
    "#         print(v2)\n",
    "#         print('Rb was flipped likely because of the sign ambiguity of thetab.')\n",
    "#         Rb = Rb.T\n",
    "#         print(np.dot(Rb, v1))\n",
    "#         print(v2)\n",
    "        \n",
    "#     R = Rb.dot(Ra).T\n",
    "#     if testing:\n",
    "#         assert(np.isclose(np.dot(Rb, v1),v2).all())\n",
    "#         # test that Rb keeps the area vectors aligned\n",
    "#         print(Rb.dot(Ra.dot(Ashat)))\n",
    "#         print(Amhat)\n",
    "#         assert(np.isclose(Rb.dot(Ra.dot(Ashat)),Amhat).all())\n",
    "#         # test that R = Rb.dot(Ra).T rotates Amhat onto Ashat\n",
    "#         assert(np.isclose(Ashat,R.dot(Amhat)).all())\n",
    "#         # test that R = (Rb*Ra).T rotates dm1 onto ds1\n",
    "#         assert(np.isclose(R.dot(dm1/np.linalg.norm(dm1)),ds1/np.linalg.norm(ds1)).all())\n",
    "#     return R"
   ]
  },
  {
   "cell_type": "code",
   "execution_count": 487,
   "metadata": {
    "ExecuteTime": {
     "end_time": "2020-06-25T21:03:09.230328Z",
     "start_time": "2020-06-25T21:03:09.181700Z"
    }
   },
   "outputs": [
    {
     "name": "stdout",
     "output_type": "stream",
     "text": [
      "Ra was flipped likely because of the sign ambiguity of thetaa.\n"
     ]
    },
    {
     "ename": "AssertionError",
     "evalue": "",
     "output_type": "error",
     "traceback": [
      "\u001b[0;31m---------------------------------------------------------------------------\u001b[0m",
      "\u001b[0;31mAssertionError\u001b[0m                            Traceback (most recent call last)",
      "\u001b[0;32m<ipython-input-487-3d4b53214af3>\u001b[0m in \u001b[0;36m<module>\u001b[0;34m\u001b[0m\n\u001b[1;32m      1\u001b[0m \u001b[0mtrim\u001b[0m \u001b[0;34m=\u001b[0m \u001b[0mmesh\u001b[0m\u001b[0;34m.\u001b[0m\u001b[0mtriangles\u001b[0m\u001b[0;34m[\u001b[0m\u001b[0;36m313\u001b[0m\u001b[0;34m]\u001b[0m\u001b[0;34m\u001b[0m\u001b[0;34m\u001b[0m\u001b[0m\n\u001b[1;32m      2\u001b[0m \u001b[0mtris\u001b[0m \u001b[0;34m=\u001b[0m \u001b[0mmesh\u001b[0m\u001b[0;34m.\u001b[0m\u001b[0mtriangles\u001b[0m\u001b[0;34m[\u001b[0m\u001b[0;36m100\u001b[0m\u001b[0;34m]\u001b[0m\u001b[0;34m\u001b[0m\u001b[0;34m\u001b[0m\u001b[0m\n\u001b[0;32m----> 3\u001b[0;31m \u001b[0mget_R\u001b[0m\u001b[0;34m(\u001b[0m\u001b[0mtrim\u001b[0m\u001b[0;34m,\u001b[0m\u001b[0mtris\u001b[0m\u001b[0;34m,\u001b[0m\u001b[0mtesting\u001b[0m\u001b[0;34m=\u001b[0m\u001b[0;32mTrue\u001b[0m\u001b[0;34m)\u001b[0m\u001b[0;34m\u001b[0m\u001b[0;34m\u001b[0m\u001b[0m\n\u001b[0m",
      "\u001b[0;32m<ipython-input-482-d920f37e4018>\u001b[0m in \u001b[0;36mget_R\u001b[0;34m(trim, tris, testing)\u001b[0m\n\u001b[1;32m     25\u001b[0m         \u001b[0mprint\u001b[0m\u001b[0;34m(\u001b[0m\u001b[0;34m'Ra was flipped likely because of the sign ambiguity of thetaa.'\u001b[0m\u001b[0;34m)\u001b[0m\u001b[0;34m\u001b[0m\u001b[0;34m\u001b[0m\u001b[0m\n\u001b[1;32m     26\u001b[0m     \u001b[0;32mif\u001b[0m \u001b[0mtesting\u001b[0m\u001b[0;34m:\u001b[0m\u001b[0;34m\u001b[0m\u001b[0;34m\u001b[0m\u001b[0m\n\u001b[0;32m---> 27\u001b[0;31m         \u001b[0;32massert\u001b[0m\u001b[0;34m(\u001b[0m\u001b[0mnp\u001b[0m\u001b[0;34m.\u001b[0m\u001b[0misclose\u001b[0m\u001b[0;34m(\u001b[0m\u001b[0mnp\u001b[0m\u001b[0;34m.\u001b[0m\u001b[0mdot\u001b[0m\u001b[0;34m(\u001b[0m\u001b[0mRa\u001b[0m\u001b[0;34m,\u001b[0m \u001b[0mv1\u001b[0m\u001b[0;34m)\u001b[0m\u001b[0;34m,\u001b[0m\u001b[0mv2\u001b[0m\u001b[0;34m)\u001b[0m\u001b[0;34m.\u001b[0m\u001b[0mall\u001b[0m\u001b[0;34m(\u001b[0m\u001b[0;34m)\u001b[0m\u001b[0;34m)\u001b[0m\u001b[0;31m#v1,v2 are about to be renamed'\u001b[0m\u001b[0;34m\u001b[0m\u001b[0;34m\u001b[0m\u001b[0m\n\u001b[0m\u001b[1;32m     28\u001b[0m \u001b[0;34m\u001b[0m\u001b[0m\n\u001b[1;32m     29\u001b[0m     \u001b[0;31m#Rb is a rotation_matrix that rotates the Ra*dm1 onto ds1 without unaligning the area vectors\u001b[0m\u001b[0;34m\u001b[0m\u001b[0;34m\u001b[0m\u001b[0;34m\u001b[0m\u001b[0m\n",
      "\u001b[0;31mAssertionError\u001b[0m: "
     ]
    }
   ],
   "source": [
    "trim = mesh.triangles[313]\n",
    "tris = mesh.triangles[100]\n",
    "get_R(trim,tris,testing=True)"
   ]
  },
  {
   "cell_type": "code",
   "execution_count": 367,
   "metadata": {
    "ExecuteTime": {
     "end_time": "2020-06-25T20:31:24.363254Z",
     "start_time": "2020-06-25T20:31:24.329712Z"
    }
   },
   "outputs": [],
   "source": [
    "trim = mesh.triangles[0]\n",
    "tris = mesh.triangles[100]\n",
    "\n",
    "dm1 = trim[1]-trim[0]\n",
    "dm2 = trim[2]-trim[0]\n",
    "Am =  np.cross(dm1,dm2)/2\n",
    "\n",
    "ds1 = tris[1]-tris[0]\n",
    "ds2 = tris[2]-tris[0]\n",
    "As =  np.cross(ds1,ds2)/2"
   ]
  },
  {
   "cell_type": "markdown",
   "metadata": {},
   "source": [
    "$\\hat{v}_1\\times \\hat{v}_2 = \\hat{\\omega}\\sin\\vartheta$"
   ]
  },
  {
   "cell_type": "code",
   "execution_count": 370,
   "metadata": {
    "ExecuteTime": {
     "end_time": "2020-06-25T20:32:16.019770Z",
     "start_time": "2020-06-25T20:32:15.993163Z"
    }
   },
   "outputs": [
    {
     "name": "stdout",
     "output_type": "stream",
     "text": [
      "[ 0.16787604 -0.91270533  0.37254076]\n",
      "[ 0.16787604 -0.91270533  0.37254076]\n"
     ]
    }
   ],
   "source": [
    "#Ra is a rotation_matrix that rotation_matrix rotates Ashat onto Amhat\n",
    "Ashat = As/np.linalg.norm(As)\n",
    "Amhat = Am/np.linalg.norm(Am)\n",
    "v1 = Ashat\n",
    "v2 = Amhat\n",
    "axisa = np.cross(v1,v2)\n",
    "thetaa = -np.arcsin(np.dot(axisa,axisa/np.linalg.norm(axisa)))\n",
    "# thetaa = np.arcsin(np.linalg.norm(axisa))\n",
    "Ra = -rotation_matrix(axisa, thetaa)\n",
    "print(np.dot(Ra, v1))\n",
    "print(v2)\n",
    "assert(np.isclose(np.dot(Ra, v1),v2).all())\n",
    "if not np.isclose(np.dot(Ra, v1),v2).all():\n",
    "    Ra *= -1\n",
    "assert(np.isclose(np.dot(Ra, v1),v2).all())"
   ]
  },
  {
   "cell_type": "code",
   "execution_count": 369,
   "metadata": {
    "ExecuteTime": {
     "end_time": "2020-06-25T20:32:05.977512Z",
     "start_time": "2020-06-25T20:32:05.949240Z"
    }
   },
   "outputs": [],
   "source": [
    "    axisa = np.cross(v1,v2)\n",
    "    thetaa = -np.arcsin(np.dot(axisa,axisa/np.linalg.norm(axisa)))\n",
    "    Ra = -rotation_matrix(axisa, thetaa)"
   ]
  },
  {
   "cell_type": "code",
   "execution_count": 345,
   "metadata": {
    "ExecuteTime": {
     "end_time": "2020-06-25T20:08:28.774801Z",
     "start_time": "2020-06-25T20:08:28.742315Z"
    }
   },
   "outputs": [
    {
     "name": "stdout",
     "output_type": "stream",
     "text": [
      "[-0.98452015 -0.17453533  0.01604662]\n",
      "[-0.98452015 -0.17453533  0.01604662]\n"
     ]
    }
   ],
   "source": [
    "#Rb is a rotation_matrix that rotates the Ra*dm1 onto ds1 without unaligning the area vectors\n",
    "v1 = np.dot(Ra,ds1/np.linalg.norm(ds1))\n",
    "v2 = dm1/np.linalg.norm(dm1)\n",
    "axisb  = Amhat #precompute in final algorithm\n",
    "thetab = np.arccos(np.dot(v1,v2))\n",
    "Rb = rotation_matrix(axisb, thetab)\n",
    "\n",
    "print(np.dot(Rb, v1))\n",
    "print(v2)\n",
    "assert(np.isclose(np.dot(Rb, v1),v2).all())\n",
    "if not np.isclose(np.dot(Rb, v1),v2).all():\n",
    "    Rb *= -1\n",
    "assert(np.isclose(np.dot(Rb, v1),v2).all())"
   ]
  },
  {
   "cell_type": "code",
   "execution_count": 344,
   "metadata": {
    "ExecuteTime": {
     "end_time": "2020-06-25T20:08:27.315641Z",
     "start_time": "2020-06-25T20:08:27.288116Z"
    }
   },
   "outputs": [],
   "source": [
    "# test that Rb keeps the area vectors aligned\n",
    "assert(np.isclose(Rb.dot(Ra.dot(Ashat)),Amhat).all())"
   ]
  },
  {
   "cell_type": "code",
   "execution_count": 357,
   "metadata": {
    "ExecuteTime": {
     "end_time": "2020-06-25T20:14:38.007343Z",
     "start_time": "2020-06-25T20:14:37.970824Z"
    }
   },
   "outputs": [
    {
     "name": "stdout",
     "output_type": "stream",
     "text": [
      "does Amhat rotate to Ashat?\n",
      "[ 0.35289286  0.82841014 -0.43497502]\n",
      "[ 0.35289286  0.82841014 -0.43497502]\n"
     ]
    }
   ],
   "source": [
    "# test that R = Rb.dot(Ra).T rotates Amhat onto Ashat\n",
    "R = Rb.dot(Ra).T\n",
    "print('check that Amhat rotates to Ashat.')\n",
    "print(R.dot(Amhat))\n",
    "print(Ashat)\n",
    "assert(np.isclose(Ashat,R.dot(Amhat)).all())"
   ]
  },
  {
   "cell_type": "code",
   "execution_count": 360,
   "metadata": {
    "ExecuteTime": {
     "end_time": "2020-06-25T20:27:23.226680Z",
     "start_time": "2020-06-25T20:27:23.195547Z"
    }
   },
   "outputs": [
    {
     "name": "stdout",
     "output_type": "stream",
     "text": [
      "check that dm1hat rotates to ds1hat.\n",
      "[-0.60245478 -0.15452056 -0.78305276]\n",
      "[-0.60245478 -0.15452056 -0.78305276]\n",
      "dm2hat rotates to ds2hat only if the triangles have no shear deformation between them.\n",
      "[ 0.34642403 -0.54752627 -0.76171213]\n",
      "[-0.86317263  0.46765148  0.19035522]\n"
     ]
    }
   ],
   "source": [
    "# test that R = (Rb*Ra).T rotates dm1 onto ds1\n",
    "print('check that dm1hat rotates to ds1hat.')\n",
    "print(R.dot(dm1/np.linalg.norm(dm1)))\n",
    "print(ds1/np.linalg.norm(ds1))\n",
    "print('dm2hat rotates to ds2hat only if the triangles have no shear deformation between them.')\n",
    "print(R.dot(dm2/np.linalg.norm(dm2)))\n",
    "print(ds2/np.linalg.norm(ds2))"
   ]
  },
  {
   "cell_type": "code",
   "execution_count": null,
   "metadata": {
    "ExecuteTime": {
     "end_time": "2020-06-25T20:00:38.571723Z",
     "start_time": "2020-06-25T20:00:38.542426Z"
    }
   },
   "outputs": [],
   "source": [
    "trim = mesh.triangles[0]\n",
    "tris = mesh.triangles[100]\n"
   ]
  },
  {
   "cell_type": "markdown",
   "metadata": {
    "ExecuteTime": {
     "end_time": "2020-06-25T22:33:50.407534Z",
     "start_time": "2020-06-25T22:33:50.371282Z"
    }
   },
   "source": [
    "$\\vec{F}_{ij}=-\\frac{1}{2}\\overleftrightarrow{\\mathbf{P}}(\\overleftrightarrow{\\mathbf{F}})\\times\\vec{d}_{ij}$ is the nodal force due to elasticity from node $i$ to its neighboring node $j$."
   ]
  },
  {
   "cell_type": "markdown",
   "metadata": {
    "ExecuteTime": {
     "end_time": "2020-06-25T19:12:45.743313Z",
     "start_time": "2020-06-25T19:12:45.716441Z"
    },
    "heading_collapsed": true
   },
   "source": [
    "# TODO: Solve for the deformation map, $\\vec{\\phi}(\\vec{X})$, between two given triangles\n",
    "\n",
    "Consider for our \"reference/material space\", a compact topological space, $\\Omega\\subset\\mathbb{R}^3$ that is locally two dimensional.  Let $\\vec{\\phi}: \\Omega\\rightarrow\\Omega'$ be a function that continuously deforms our reference space onto another topological space, $\\Omega'$, which we will refer to as our \"physical space\".  For some point $\\vec{X}_*\\in\\Omega$, consider three distint points in our reference space that are located within in a sufficiently small $\\epsilon$ neighborhood $\\vec{X}_1,\\vec{X}_2,\\vec{X}_3\\in N_\\epsilon(\\vec{X}_*)\\subset\\Omega$.\n",
    "\n",
    "One can easily show for a sufficiently small choice of $\\epsilon$, that by Taylor expanding $\\vec{\\phi}$ to leading order, we may write $\\vec{\\phi}$ as \n",
    "$$\\vec{\\phi}(\\vec{X}) = \\mathbf{F}(\\vec{X}_*)\\cdot\\vec{X_i} + \\vec{b}(\\vec{X}_*) + \\mathcal{O}(\\epsilon^2),$$\n",
    "where $\\mathcal{O}(\\epsilon^2)$ is a small correction on the order of $\\epsilon^2$, $\\vec{b}(\\vec{X}_*)$ is a constant translation, and $\\mathbf{F}(\\vec{X}_*)=\\partial_\\vec{X}\\vec{\\phi}(\\vec{X}_*)$ is a constant deformation, which is sometimes referred to as the _deformation gradient_ at $\\vec{X}_*$.  We may write \n",
    "\n",
    "\n",
    "$\\mathbf{R}\\cdot\\mathbf{S}$\n",
    "for some translation, $\\vec{b}$, some rotation $\\mathbf{R}$, and some deformation, $\\mathbf{S}$.  Assuming our domain is homogeneous and isotropic, we may assume $\\mathbf{S}\\in\\mathbb{R}^{3\\times3}$ is a symmetric matrix, which has six degrees of freedom.  \n",
    "\n",
    "Consider a triangle with vertices in our stationary reference topological space, $(\\vec{X}_1,\\vec{X}_2,\\vec{X}_3)^T$ that is continuously deformed into a triangle in the physical space $(\\vec{x}_1,\\vec{x}_2,\\vec{x}_3)^T = (\\vec{\\phi}(\\vec{X}_1),\\vec{\\phi}(\\vec{X}_2),\\vec{\\phi}(\\vec{X}_3))^T$.\n",
    "\n",
    "Computing the translation vector, $\\vec{b}$ "
   ]
  },
  {
   "cell_type": "code",
   "execution_count": 508,
   "metadata": {
    "ExecuteTime": {
     "end_time": "2020-06-25T23:29:02.809784Z",
     "start_time": "2020-06-25T23:29:02.774818Z"
    },
    "hidden": true
   },
   "outputs": [],
   "source": [
    "# matrices can switch slots in np.cross\n",
    "# np.cross(R+np.eye(3),d1)\n",
    "# -np.cross(d1,R+np.eye(3).T)\n",
    "\n",
    "tet = np.stack((dm1,dm2,Am))"
   ]
  },
  {
   "cell_type": "code",
   "execution_count": 528,
   "metadata": {
    "ExecuteTime": {
     "end_time": "2020-06-25T23:32:59.482872Z",
     "start_time": "2020-06-25T23:32:59.453278Z"
    },
    "hidden": true
   },
   "outputs": [
    {
     "data": {
      "text/plain": [
       "True"
      ]
     },
     "execution_count": 528,
     "metadata": {},
     "output_type": "execute_result"
    }
   ],
   "source": [
    "#half of the determinant of tet is the squared area of the triangle.\n",
    "np.linalg.det(tet)/2==Am.dot(Am)"
   ]
  },
  {
   "cell_type": "code",
   "execution_count": 509,
   "metadata": {
    "ExecuteTime": {
     "end_time": "2020-06-25T23:29:06.256909Z",
     "start_time": "2020-06-25T23:29:06.227189Z"
    },
    "hidden": true
   },
   "outputs": [
    {
     "data": {
      "text/plain": [
       "array([[  -8.97673571,    0.46306409,   27.3894887 ],\n",
       "       [   0.20827267,   -3.39622617, -148.91066011],\n",
       "       [   4.55539532,   -8.52924409,   60.78116239]])"
      ]
     },
     "execution_count": 509,
     "metadata": {},
     "output_type": "execute_result"
    }
   ],
   "source": [
    "np.linalg.inv(tet)"
   ]
  },
  {
   "cell_type": "code",
   "execution_count": 510,
   "metadata": {
    "ExecuteTime": {
     "end_time": "2020-06-25T23:29:10.491633Z",
     "start_time": "2020-06-25T23:29:10.459771Z"
    },
    "hidden": true,
    "scrolled": true
   },
   "outputs": [
    {
     "data": {
      "text/plain": [
       "(array([-0.12517074, -0.04670493,  0.0128521 ]),\n",
       " array([[ 0.80912041,  0.28788623,  0.1449182 ],\n",
       "        [ 0.58732761, -0.9507806 , -0.86859071],\n",
       "        [ 0.01924665, -0.1146201 ,  0.4738659 ]]))"
      ]
     },
     "execution_count": 510,
     "metadata": {},
     "output_type": "execute_result"
    }
   ],
   "source": [
    "np.linalg.eig(tet)"
   ]
  },
  {
   "cell_type": "code",
   "execution_count": 511,
   "metadata": {
    "ExecuteTime": {
     "end_time": "2020-06-25T23:29:19.531288Z",
     "start_time": "2020-06-25T23:29:19.493751Z"
    },
    "hidden": true
   },
   "outputs": [
    {
     "data": {
      "text/plain": [
       "(array([[-6.36571090e-01,  7.71218029e-01,  1.73472348e-18],\n",
       "        [-7.71218029e-01, -6.36571090e-01,  0.00000000e+00],\n",
       "        [-8.67361738e-19,  8.67361738e-19,  1.00000000e+00]]),\n",
       " array([0.14372308, 0.085292  , 0.00612921]),\n",
       " array([[ 0.76995429,  0.35738907,  0.5286241 ],\n",
       "        [-0.61562003,  0.19809604,  0.76273845],\n",
       "        [ 0.16787604, -0.91270533,  0.37254076]]))"
      ]
     },
     "execution_count": 511,
     "metadata": {},
     "output_type": "execute_result"
    }
   ],
   "source": [
    "np.linalg.svd(tet)"
   ]
  },
  {
   "cell_type": "code",
   "execution_count": 512,
   "metadata": {
    "ExecuteTime": {
     "end_time": "2020-06-25T23:29:28.076562Z",
     "start_time": "2020-06-25T23:29:28.037301Z"
    },
    "hidden": true
   },
   "outputs": [
    {
     "data": {
      "text/plain": [
       "array([-0.12517074, -0.04670493,  0.0128521 ])"
      ]
     },
     "execution_count": 512,
     "metadata": {},
     "output_type": "execute_result"
    }
   ],
   "source": [
    "np.linalg.eigvals(tet)"
   ]
  },
  {
   "cell_type": "code",
   "execution_count": 513,
   "metadata": {
    "ExecuteTime": {
     "end_time": "2020-06-25T23:29:49.432776Z",
     "start_time": "2020-06-25T23:29:49.381563Z"
    },
    "hidden": true
   },
   "outputs": [],
   "source": [
    "np.linalg.eigvalsh?"
   ]
  },
  {
   "cell_type": "code",
   "execution_count": 515,
   "metadata": {
    "ExecuteTime": {
     "end_time": "2020-06-25T23:30:26.734430Z",
     "start_time": "2020-06-25T23:30:26.697104Z"
    },
    "hidden": true,
    "scrolled": true
   },
   "outputs": [
    {
     "data": {
      "text/plain": [
       "array([[0.01500377, 0.00479115, 0.00499391],\n",
       "       [0.00479115, 0.00295514, 0.00498889],\n",
       "       [0.00499391, 0.00498889, 0.0100097 ]])"
      ]
     },
     "execution_count": 515,
     "metadata": {},
     "output_type": "execute_result"
    }
   ],
   "source": [
    "tet.T.dot(tet)"
   ]
  },
  {
   "cell_type": "markdown",
   "metadata": {},
   "source": [
    "# TODO: Visualize the deformation gradients of each of ^those 3 F's for the given triangle.  Do any/all of them appear reasonable?"
   ]
  },
  {
   "cell_type": "markdown",
   "metadata": {
    "heading_collapsed": true
   },
   "source": [
    "# TODO: wrap my head around $\\mathbf{P}\\times\\vec{d} := \\mathbf{P}\\cdot\\vec{N}|\\vec{d}|$\n"
   ]
  },
  {
   "cell_type": "code",
   "execution_count": 582,
   "metadata": {
    "ExecuteTime": {
     "end_time": "2020-06-26T00:59:51.703802Z",
     "start_time": "2020-06-26T00:59:51.673825Z"
    },
    "hidden": true
   },
   "outputs": [
    {
     "data": {
      "text/plain": [
       "(3, 3)"
      ]
     },
     "execution_count": 582,
     "metadata": {},
     "output_type": "execute_result"
    }
   ],
   "source": [
    "#I cannot just use np.cross to define the outward projection of a 3x3 matrix\n",
    "np.cross(R,ds1).shape"
   ]
  },
  {
   "cell_type": "code",
   "execution_count": 586,
   "metadata": {
    "ExecuteTime": {
     "end_time": "2020-06-26T01:13:56.509033Z",
     "start_time": "2020-06-26T01:13:56.469659Z"
    },
    "hidden": true
   },
   "outputs": [],
   "source": [
    "# I can, however take the cross product for each entry and then concatenate them.\n",
    "def matrix_dot(P,N):\n",
    "    return np.dot(P,N)\n",
    "#     cx = np.dot(P[0],N)\n",
    "#     cy = np.dot(P[1],d)\n",
    "#     cz = np.dot(P[2],d)\n",
    "#     return np.array((cx,cy,cz))\n",
    "                        \n",
    "# def matrix_cross(P,d):\n",
    "#     cx = np.linalg.norm(np.cross(P[0],d)\n",
    "#     cy = np.cross(P[1],d)\n",
    "#     cz = np.cross(P[2],d)\n",
    "#     return np.array((cx,cy,cz))"
   ]
  },
  {
   "cell_type": "code",
   "execution_count": 585,
   "metadata": {
    "ExecuteTime": {
     "end_time": "2020-06-26T01:05:17.370177Z",
     "start_time": "2020-06-26T01:05:17.334433Z"
    },
    "hidden": true
   },
   "outputs": [
    {
     "data": {
      "text/plain": [
       "array([[ 0.05177626,  0.1529239 , -0.07001155],\n",
       "       [ 0.09531142, -0.04920434, -0.0636199 ],\n",
       "       [-0.09002641,  0.06810956,  0.0558232 ]])"
      ]
     },
     "execution_count": 585,
     "metadata": {},
     "output_type": "execute_result"
    }
   ],
   "source": [
    "matrix_cross(R,ds1)"
   ]
  },
  {
   "cell_type": "code",
   "execution_count": null,
   "metadata": {
    "hidden": true
   },
   "outputs": [],
   "source": []
  },
  {
   "cell_type": "markdown",
   "metadata": {
    "ExecuteTime": {
     "end_time": "2020-06-25T23:31:28.372247Z",
     "start_time": "2020-06-25T23:31:28.342901Z"
    },
    "heading_collapsed": true
   },
   "source": [
    "# Solving for deformation gradient using quaternions"
   ]
  },
  {
   "cell_type": "code",
   "execution_count": 26,
   "metadata": {
    "ExecuteTime": {
     "end_time": "2020-06-26T09:10:00.301883Z",
     "start_time": "2020-06-26T09:10:00.271239Z"
    },
    "hidden": true
   },
   "outputs": [],
   "source": [
    "trim = mesh.triangles[0]\n",
    "tris = mesh.triangles[100]\n",
    "\n",
    "dm1 = trim[1]-trim[0]\n",
    "dm2 = trim[2]-trim[0]\n",
    "Am =  np.cross(dm1,dm2)/2\n",
    "\n",
    "ds1 = tris[1]-tris[0]\n",
    "ds2 = tris[2]-tris[0]\n",
    "As =  np.cross(ds1,ds2)/2"
   ]
  },
  {
   "cell_type": "code",
   "execution_count": 27,
   "metadata": {
    "ExecuteTime": {
     "end_time": "2020-06-26T09:10:01.447436Z",
     "start_time": "2020-06-26T09:10:01.420411Z"
    },
    "hidden": true
   },
   "outputs": [],
   "source": [
    "from scipy.spatial.transform import Rotation"
   ]
  },
  {
   "cell_type": "code",
   "execution_count": 28,
   "metadata": {
    "ExecuteTime": {
     "end_time": "2020-06-26T09:10:01.940236Z",
     "start_time": "2020-06-26T09:10:01.909986Z"
    },
    "hidden": true
   },
   "outputs": [
    {
     "data": {
      "text/plain": [
       "array([-0.11093779, -0.01966701,  0.00180817])"
      ]
     },
     "execution_count": 28,
     "metadata": {},
     "output_type": "execute_result"
    }
   ],
   "source": [
    "dm1"
   ]
  },
  {
   "cell_type": "code",
   "execution_count": 29,
   "metadata": {
    "ExecuteTime": {
     "end_time": "2020-06-26T09:10:16.058354Z",
     "start_time": "2020-06-26T09:10:16.025426Z"
    },
    "hidden": true
   },
   "outputs": [],
   "source": [
    "#define the constant pauli matrices as a basis for real space\n",
    "sigx = np.array([[0.,1.],[1.,0.]],dtype=complex)\n",
    "sigy = np.array([[1.j,0.],[0.,-1.j]],dtype=complex)\n",
    "sigz = np.array([[1.,0.],[0.,-1.]],dtype=complex)\n",
    "\n",
    "qm1 = dm1[0]*sigx + dm1[1]*sigy + dm1[2]*sigz\n",
    "qm2 = dm2[0]*sigx + dm2[1]*sigy + dm2[2]*sigz\n",
    "qs1 = ds1[0]*sigx + ds1[1]*sigy + ds1[2]*sigz\n",
    "qs2 = ds2[0]*sigx + ds2[1]*sigy + ds2[2]*sigz\n",
    "\n",
    "qAm =  Am[0]*sigx + Am[1]*sigy + Am[2]*sigz\n",
    "qAs =  As[0]*sigx + As[1]*sigy + As[2]*sigz"
   ]
  },
  {
   "cell_type": "code",
   "execution_count": 30,
   "metadata": {
    "ExecuteTime": {
     "end_time": "2020-06-26T09:10:16.481746Z",
     "start_time": "2020-06-26T09:10:16.448249Z"
    },
    "hidden": true
   },
   "outputs": [],
   "source": [
    "# solve for the deformation gradient between either pair of edges.\n",
    "F1 = qs1.dot(np.linalg.inv(qm1))\n",
    "F2 = qs2.dot(np.linalg.inv(qm2))\n",
    "FA = qAs.dot(np.linalg.inv(qAm))"
   ]
  },
  {
   "cell_type": "code",
   "execution_count": 46,
   "metadata": {
    "ExecuteTime": {
     "end_time": "2020-06-26T09:13:34.181292Z",
     "start_time": "2020-06-26T09:13:34.151974Z"
    },
    "hidden": true
   },
   "outputs": [
    {
     "data": {
      "text/plain": [
       "0j"
      ]
     },
     "execution_count": 46,
     "metadata": {},
     "output_type": "execute_result"
    }
   ],
   "source": [
    "np.trace(np.dot(F1,0.))\n",
    "if np.isclose(np.trace(np.dot(F1,qs1)),0.):\n",
    "    0.j"
   ]
  },
  {
   "cell_type": "code",
   "execution_count": 31,
   "metadata": {
    "ExecuteTime": {
     "end_time": "2020-06-26T09:10:16.983844Z",
     "start_time": "2020-06-26T09:10:16.948140Z"
    },
    "hidden": true
   },
   "outputs": [
    {
     "data": {
      "text/plain": [
       "array([1.00875401-1.07283546j, 0.83640257+1.53176966j])"
      ]
     },
     "execution_count": 31,
     "metadata": {},
     "output_type": "execute_result"
    }
   ],
   "source": [
    "np.linalg.eig(F1)[0]"
   ]
  },
  {
   "cell_type": "code",
   "execution_count": 32,
   "metadata": {
    "ExecuteTime": {
     "end_time": "2020-06-26T09:10:17.481321Z",
     "start_time": "2020-06-26T09:10:17.451031Z"
    },
    "hidden": true
   },
   "outputs": [
    {
     "data": {
      "text/plain": [
       "array([ 0.1424292 +0.3924776j , -0.23089546-1.81432989j])"
      ]
     },
     "execution_count": 32,
     "metadata": {},
     "output_type": "execute_result"
    }
   ],
   "source": [
    "np.linalg.eig(F2)[0]"
   ]
  },
  {
   "cell_type": "code",
   "execution_count": 33,
   "metadata": {
    "ExecuteTime": {
     "end_time": "2020-06-26T09:10:17.857479Z",
     "start_time": "2020-06-26T09:10:17.823152Z"
    },
    "hidden": true
   },
   "outputs": [
    {
     "data": {
      "text/plain": [
       "array([-0.96789163-0.41941191j, -2.8105855 +0.3131857j ])"
      ]
     },
     "execution_count": 33,
     "metadata": {},
     "output_type": "execute_result"
    }
   ],
   "source": [
    "np.linalg.eig(FA)[0]"
   ]
  },
  {
   "cell_type": "code",
   "execution_count": 34,
   "metadata": {
    "ExecuteTime": {
     "end_time": "2020-06-26T09:10:18.228703Z",
     "start_time": "2020-06-26T09:10:18.199150Z"
    },
    "hidden": true
   },
   "outputs": [
    {
     "data": {
      "text/plain": [
       "(1.8451565889452672+0.4589341919676968j)"
      ]
     },
     "execution_count": 34,
     "metadata": {},
     "output_type": "execute_result"
    }
   ],
   "source": [
    "np.trace(F1)"
   ]
  },
  {
   "cell_type": "code",
   "execution_count": 35,
   "metadata": {
    "ExecuteTime": {
     "end_time": "2020-06-26T09:10:18.596946Z",
     "start_time": "2020-06-26T09:10:18.567922Z"
    },
    "hidden": true
   },
   "outputs": [
    {
     "data": {
      "text/plain": [
       "(-0.08846625814391584-1.4218522890266527j)"
      ]
     },
     "execution_count": 35,
     "metadata": {},
     "output_type": "execute_result"
    }
   ],
   "source": [
    "np.trace(F2)"
   ]
  },
  {
   "cell_type": "code",
   "execution_count": 36,
   "metadata": {
    "ExecuteTime": {
     "end_time": "2020-06-26T09:10:18.985556Z",
     "start_time": "2020-06-26T09:10:18.956546Z"
    },
    "hidden": true
   },
   "outputs": [
    {
     "data": {
      "text/plain": [
       "(-3.778477131610509-0.10622620655929604j)"
      ]
     },
     "execution_count": 36,
     "metadata": {},
     "output_type": "execute_result"
    }
   ],
   "source": [
    "np.trace(FA)"
   ]
  },
  {
   "cell_type": "markdown",
   "metadata": {
    "hidden": true
   },
   "source": [
    "$(a+b)\\cdot\\vec{\\sigma}_a\\vec{\\sigma}_b = (a\\cdot b)\\mathbb{1}+(a\\times b)\\vec{\\sigma}_a\\times\\vec{\\sigma}_b$"
   ]
  },
  {
   "cell_type": "markdown",
   "metadata": {},
   "source": [
    "# [distraction] decompose the Piola stress tensor in terms of quaternions for some constitutive relation\n",
    "try $\\Psi[\\mathbf{F}] = \\Psi[\\mathbf{S}] = \\Psi(\\mathbf{\\Sigma}) = \\frac{k}{2}||\\mathbf{\\Sigma}-1||^2$ implies $\\Sigma_P = \\vec{\\chi} = q_u \\oplus q_v = q_u \\otimes q_v$, for linearly independent, unentangled spinors, $q_u, q_v\\in \\mathcal{H}$."
   ]
  },
  {
   "cell_type": "code",
   "execution_count": 1,
   "metadata": {
    "ExecuteTime": {
     "end_time": "2020-06-30T19:40:03.818883Z",
     "start_time": "2020-06-30T19:40:03.814611Z"
    }
   },
   "outputs": [],
   "source": [
    "# import scikit-cuda as skcuda\n",
    "# skcuda.cublasZgemmBatched(handle, transa, transb, m, n, k,\n",
    "#                        alpha, A, lda, B, ldb, beta, C, ldc, batchCount):"
   ]
  },
  {
   "cell_type": "markdown",
   "metadata": {
    "ExecuteTime": {
     "end_time": "2020-06-26T09:09:42.265263Z",
     "start_time": "2020-06-26T09:09:42.230656Z"
    }
   },
   "source": [
    "# "
   ]
  },
  {
   "cell_type": "markdown",
   "metadata": {
    "ExecuteTime": {
     "end_time": "2020-06-26T08:38:23.765362Z",
     "start_time": "2020-06-26T08:38:23.759584Z"
    }
   },
   "source": [
    "# TODO: test based development of the newmark beta method"
   ]
  },
  {
   "cell_type": "code",
   "execution_count": 5,
   "metadata": {
    "ExecuteTime": {
     "end_time": "2020-07-09T03:01:25.003567Z",
     "start_time": "2020-07-09T03:01:24.720300Z"
    }
   },
   "outputs": [],
   "source": [
    "# Newmark.Newmark_force?\n",
    "#^this has a good outline to use, but the calculation of the input is poorly documented."
   ]
  },
  {
   "cell_type": "code",
   "execution_count": null,
   "metadata": {},
   "outputs": [],
   "source": []
  }
 ],
 "metadata": {
  "kernelspec": {
   "display_name": "Python 3",
   "language": "python",
   "name": "python3"
  },
  "language_info": {
   "codemirror_mode": {
    "name": "ipython",
    "version": 3
   },
   "file_extension": ".py",
   "mimetype": "text/x-python",
   "name": "python",
   "nbconvert_exporter": "python",
   "pygments_lexer": "ipython3",
   "version": "3.7.3"
  },
  "toc": {
   "base_numbering": 1,
   "nav_menu": {},
   "number_sections": true,
   "sideBar": true,
   "skip_h1_title": false,
   "title_cell": "Table of Contents",
   "title_sidebar": "Contents",
   "toc_cell": false,
   "toc_position": {},
   "toc_section_display": true,
   "toc_window_display": false
  },
  "varInspector": {
   "cols": {
    "lenName": 16,
    "lenType": 16,
    "lenVar": 40
   },
   "kernels_config": {
    "python": {
     "delete_cmd_postfix": "",
     "delete_cmd_prefix": "del ",
     "library": "var_list.py",
     "varRefreshCmd": "print(var_dic_list())"
    },
    "r": {
     "delete_cmd_postfix": ") ",
     "delete_cmd_prefix": "rm(",
     "library": "var_list.r",
     "varRefreshCmd": "cat(var_dic_list()) "
    }
   },
   "types_to_exclude": [
    "module",
    "function",
    "builtin_function_or_method",
    "instance",
    "_Feature"
   ],
   "window_display": false
  }
 },
 "nbformat": 4,
 "nbformat_minor": 2
}
