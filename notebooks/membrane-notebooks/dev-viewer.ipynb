{
 "cells": [
  {
   "cell_type": "markdown",
   "metadata": {},
   "source": [
    "# dev viewer"
   ]
  },
  {
   "cell_type": "code",
   "execution_count": null,
   "metadata": {},
   "outputs": [],
   "source": [
    "import numpy as np, pandas as pd, matplotlib.pyplot as plt\n",
    "from mpl_toolkits.mplot3d import Axes3D  \n",
    "\n",
    "#automate the boring stuff\n",
    "from IPython import utils\n",
    "import time, os, sys, re\n",
    "beep = lambda x: os.system(\"echo -n '\\\\a';sleep 0.2;\" * x)\n",
    "if not 'nb_dir' in globals():\n",
    "    nb_dir = os.getcwd()\n",
    "sys.path.append(\"../lib\") \n",
    "from lib import *\n",
    "sys.path.append(\"lib\") \n",
    "from lib import *\n",
    "\n",
    "# from operari import *\n",
    "# from ProgressBar import *\n",
    "# from mesh_ops import *\n",
    "\n",
    "# the visualization tools involved here for triangular meshes is\n",
    "import trimesh\n",
    "import pyglet\n",
    "from numba import njit, cuda\n",
    "# from numba.typed import List\n",
    "# import numba\n",
    "import trimesh\n",
    "\n",
    "#try using a scipy sparse matrix to speed up spring force evaluations\n",
    "#TODO: speed up bigger meshes with pycuda's sparce matrices\n",
    "from scipy.sparse import csr_matrix\n",
    "import scipy.sparse as sparse\n",
    "\n",
    "from spring import *\n",
    "from controller import *\n",
    "\n",
    "\n",
    "# from pyspark import SparkContext \n",
    "# sc = SparkContext(master=\"local[4]\")\n",
    "# print(sc)\n",
    "\n",
    "\n",
    "%autocall 1\n",
    "%load_ext autoreload\n",
    "%autoreload 2"
   ]
  },
  {
   "cell_type": "markdown",
   "metadata": {
    "ExecuteTime": {
     "end_time": "2020-07-30T18:44:07.770362Z",
     "start_time": "2020-07-30T18:44:07.717658Z"
    }
   },
   "source": [
    "# tracking kwargs in mesh.show(*kwargs)\n",
    "8.2.2020<br>\n",
    "TODO: move this to a dev viewer.ipynb"
   ]
  },
  {
   "cell_type": "code",
   "execution_count": 319,
   "metadata": {
    "ExecuteTime": {
     "end_time": "2020-08-03T00:40:14.388251Z",
     "start_time": "2020-08-03T00:40:14.341953Z"
    }
   },
   "outputs": [],
   "source": [
    "#TODO: use Omegat.visual.face_colors for finite volume electrophysiology\n",
    "# Does # v.vertex_colors? or # v.face_colors? matter?"
   ]
  },
  {
   "cell_type": "code",
   "execution_count": 321,
   "metadata": {
    "ExecuteTime": {
     "end_time": "2020-08-03T00:40:27.030732Z",
     "start_time": "2020-08-03T00:40:26.985512Z"
    }
   },
   "outputs": [],
   "source": [
    "# v.face_subset?\n",
    "# v.main_color"
   ]
  },
  {
   "cell_type": "code",
   "execution_count": 322,
   "metadata": {
    "ExecuteTime": {
     "end_time": "2020-08-03T00:40:27.902662Z",
     "start_time": "2020-08-03T00:40:27.866527Z"
    }
   },
   "outputs": [],
   "source": [
    "#make the faces twice as dark\n",
    "v = Omegat.visual\n",
    "fc = np.array(v.face_colors)\n",
    "v.face_colors = fc*2"
   ]
  },
  {
   "cell_type": "code",
   "execution_count": 331,
   "metadata": {
    "ExecuteTime": {
     "end_time": "2020-08-03T00:44:41.296834Z",
     "start_time": "2020-08-03T00:44:41.248499Z"
    }
   },
   "outputs": [
    {
     "name": "stdout",
     "output_type": "stream",
     "text": [
      "    def show(self, viewer=None, **kwargs):\n",
      "        \"\"\"\n",
      "        Display the current scene.\n",
      "\n",
      "        Parameters\n",
      "        -----------\n",
      "        viewer: str\n",
      "          What kind of viewer to open, including\n",
      "          'gl' to open a pyglet window, 'notebook'\n",
      "          for a jupyter notebook or None\n",
      "        kwargs : dict\n",
      "          Includes `smooth`, which will turn\n",
      "          on or off automatic smooth shading\n",
      "        \"\"\"\n",
      "\n",
      "        if viewer is None:\n",
      "            # check to see if we are in a notebook or not\n",
      "            from ..viewer import in_notebook\n",
      "            viewer = 'gl'\n",
      "            if in_notebook():\n",
      "                viewer = 'notebook'\n",
      "\n",
      "        if viewer == 'gl':\n",
      "            # this imports pyglet, and will raise an ImportError\n",
      "            # if pyglet is not available\n",
      "            from ..viewer import SceneViewer\n",
      "            return SceneViewer(self, **kwargs)\n",
      "        elif viewer == 'notebook':\n",
      "            from ..viewer import scene_to_notebook\n",
      "            return scene_to_notebook(self, **kwargs)\n",
      "        else:\n",
      "            raise ValueError('viewer must be \"gl\", \"notebook\", or None')\n",
      "\n"
     ]
    }
   ],
   "source": [
    "import inspect\n",
    "print ( inspect.getsource(Omegat.scene().show) )"
   ]
  },
  {
   "cell_type": "code",
   "execution_count": 462,
   "metadata": {
    "ExecuteTime": {
     "end_time": "2020-08-04T15:01:27.448853Z",
     "start_time": "2020-08-04T15:01:27.402382Z"
    }
   },
   "outputs": [],
   "source": [
    "#return a handle for Omegat.show()\n",
    "z = Omegat.scene()"
   ]
  },
  {
   "cell_type": "code",
   "execution_count": 327,
   "metadata": {
    "ExecuteTime": {
     "end_time": "2020-08-03T00:41:21.628358Z",
     "start_time": "2020-08-03T00:41:21.577649Z"
    }
   },
   "outputs": [],
   "source": [
    "Omegat.scene?"
   ]
  },
  {
   "cell_type": "code",
   "execution_count": null,
   "metadata": {
    "ExecuteTime": {
     "end_time": "2020-08-03T00:34:54.147652Z",
     "start_time": "2020-08-03T00:34:54.100103Z"
    }
   },
   "outputs": [],
   "source": [
    "# if the viewer == 'gl', kwargs goes to  SceneViewer(self, **kwargs)\n",
    "# if the viewer == 'notebook', kwargs goes to scene_to_notebook"
   ]
  },
  {
   "cell_type": "code",
   "execution_count": 448,
   "metadata": {
    "ExecuteTime": {
     "end_time": "2020-08-04T14:55:48.570480Z",
     "start_time": "2020-08-04T14:55:48.515387Z"
    }
   },
   "outputs": [
    {
     "ename": "AttributeError",
     "evalue": "module 'trimesh.viewer' has no attribute 'Sceneviewer'",
     "output_type": "error",
     "traceback": [
      "\u001b[0;31m---------------------------------------------------------------------------\u001b[0m",
      "\u001b[0;31mAttributeError\u001b[0m                            Traceback (most recent call last)",
      "\u001b[0;32m<ipython-input-448-e33969df26aa>\u001b[0m in \u001b[0;36m<module>\u001b[0;34m\u001b[0m\n\u001b[0;32m----> 1\u001b[0;31m \u001b[0mtrimesh\u001b[0m\u001b[0;34m.\u001b[0m\u001b[0mviewer\u001b[0m\u001b[0;34m.\u001b[0m\u001b[0mSceneviewer\u001b[0m\u001b[0;34m\u001b[0m\u001b[0;34m\u001b[0m\u001b[0m\n\u001b[0m",
      "\u001b[0;31mAttributeError\u001b[0m: module 'trimesh.viewer' has no attribute 'Sceneviewer'"
     ]
    }
   ],
   "source": [
    "trimesh.viewer.Sceneviewer\n"
   ]
  },
  {
   "cell_type": "code",
   "execution_count": 456,
   "metadata": {
    "ExecuteTime": {
     "end_time": "2020-08-04T15:00:37.525309Z",
     "start_time": "2020-08-04T15:00:37.487794Z"
    },
    "scrolled": true
   },
   "outputs": [
    {
     "ename": "SyntaxError",
     "evalue": "invalid syntax (<ipython-input-456-323b854de039>, line 1)",
     "output_type": "error",
     "traceback": [
      "\u001b[0;36m  File \u001b[0;32m\"<ipython-input-456-323b854de039>\"\u001b[0;36m, line \u001b[0;32m1\u001b[0m\n\u001b[0;31m    z.apply_obb()?\u001b[0m\n\u001b[0m                 ^\u001b[0m\n\u001b[0;31mSyntaxError\u001b[0m\u001b[0;31m:\u001b[0m invalid syntax\n"
     ]
    }
   ],
   "source": [
    "# z.apply_obb()\n",
    "\n",
    "z.bounding_box?"
   ]
  },
  {
   "cell_type": "code",
   "execution_count": 464,
   "metadata": {
    "ExecuteTime": {
     "end_time": "2020-08-04T15:01:43.241204Z",
     "start_time": "2020-08-04T15:01:43.191520Z"
    }
   },
   "outputs": [],
   "source": [
    "z.set_camera(\n",
    "    angles=None,\n",
    "    distance=None,\n",
    "    center=None,\n",
    "    resolution=None,\n",
    "    fov=None,\n",
    ")"
   ]
  },
  {
   "cell_type": "code",
   "execution_count": 477,
   "metadata": {
    "ExecuteTime": {
     "end_time": "2020-08-04T15:12:04.436705Z",
     "start_time": "2020-08-04T15:12:03.380910Z"
    }
   },
   "outputs": [],
   "source": [
    "png = z.save_image();"
   ]
  },
  {
   "cell_type": "code",
   "execution_count": 473,
   "metadata": {
    "ExecuteTime": {
     "end_time": "2020-08-04T15:03:42.970988Z",
     "start_time": "2020-08-04T15:03:42.913988Z"
    }
   },
   "outputs": [],
   "source": [
    "trimesh.viewer.SceneViewer?"
   ]
  },
  {
   "cell_type": "code",
   "execution_count": 474,
   "metadata": {
    "ExecuteTime": {
     "end_time": "2020-08-04T15:05:34.378598Z",
     "start_time": "2020-08-04T15:05:34.321793Z"
    }
   },
   "outputs": [
    {
     "ename": "NameError",
     "evalue": "name 'scene' is not defined",
     "output_type": "error",
     "traceback": [
      "\u001b[0;31m---------------------------------------------------------------------------\u001b[0m",
      "\u001b[0;31mNameError\u001b[0m                                 Traceback (most recent call last)",
      "\u001b[0;32m<ipython-input-474-c7b2d441ffb1>\u001b[0m in \u001b[0;36m<module>\u001b[0;34m\u001b[0m\n\u001b[1;32m      1\u001b[0m trimesh.viewer.SceneViewer(\n\u001b[0;32m----> 2\u001b[0;31m     \u001b[0mscene\u001b[0m\u001b[0;34m,\u001b[0m\u001b[0;34m\u001b[0m\u001b[0;34m\u001b[0m\u001b[0m\n\u001b[0m\u001b[1;32m      3\u001b[0m     \u001b[0msmooth\u001b[0m\u001b[0;34m=\u001b[0m\u001b[0;32mTrue\u001b[0m\u001b[0;34m,\u001b[0m\u001b[0;34m\u001b[0m\u001b[0;34m\u001b[0m\u001b[0m\n\u001b[1;32m      4\u001b[0m     \u001b[0mflags\u001b[0m\u001b[0;34m=\u001b[0m\u001b[0;32mNone\u001b[0m\u001b[0;34m,\u001b[0m\u001b[0;34m\u001b[0m\u001b[0;34m\u001b[0m\u001b[0m\n\u001b[1;32m      5\u001b[0m     \u001b[0mvisible\u001b[0m\u001b[0;34m=\u001b[0m\u001b[0;32mTrue\u001b[0m\u001b[0;34m,\u001b[0m\u001b[0;34m\u001b[0m\u001b[0;34m\u001b[0m\u001b[0m\n",
      "\u001b[0;31mNameError\u001b[0m: name 'scene' is not defined"
     ]
    }
   ],
   "source": [
    "trimesh.viewer.SceneViewer(\n",
    "    scene,\n",
    "    smooth=True,\n",
    "    flags=None,\n",
    "    visible=True,\n",
    "    resolution=None,\n",
    "    start_loop=True,\n",
    "    callback=None,\n",
    "    callback_period=None,\n",
    "    caption=None,\n",
    "    fixed=None,\n",
    "    offset_lines=True,\n",
    "    background=None,\n",
    "    window_conf=None,\n",
    "    profile=False,\n",
    "    **kwargs,\n",
    ")"
   ]
  },
  {
   "cell_type": "code",
   "execution_count": null,
   "metadata": {},
   "outputs": [],
   "source": [
    "switch_to"
   ]
  },
  {
   "cell_type": "code",
   "execution_count": null,
   "metadata": {},
   "outputs": [],
   "source": [
    "pyglet.app.run()"
   ]
  },
  {
   "cell_type": "code",
   "execution_count": null,
   "metadata": {},
   "outputs": [],
   "source": [
    "callback\n",
    "callback_period"
   ]
  },
  {
   "cell_type": "code",
   "execution_count": 479,
   "metadata": {
    "ExecuteTime": {
     "end_time": "2020-08-04T15:12:36.845100Z",
     "start_time": "2020-08-04T15:12:36.795731Z"
    }
   },
   "outputs": [
    {
     "data": {
      "text/plain": [
       "bytes"
      ]
     },
     "execution_count": 479,
     "metadata": {},
     "output_type": "execute_result"
    }
   ],
   "source": [
    "type(png)"
   ]
  },
  {
   "cell_type": "code",
   "execution_count": 481,
   "metadata": {
    "ExecuteTime": {
     "end_time": "2020-08-04T15:13:03.948502Z",
     "start_time": "2020-08-04T15:13:03.719767Z"
    }
   },
   "outputs": [],
   "source": [
    "!touch test.png"
   ]
  },
  {
   "cell_type": "code",
   "execution_count": 483,
   "metadata": {
    "ExecuteTime": {
     "end_time": "2020-08-04T15:14:02.695743Z",
     "start_time": "2020-08-04T15:14:02.646789Z"
    }
   },
   "outputs": [],
   "source": [
    "z = Omegat.scene()"
   ]
  },
  {
   "cell_type": "code",
   "execution_count": 486,
   "metadata": {
    "ExecuteTime": {
     "end_time": "2020-08-04T15:14:33.674501Z",
     "start_time": "2020-08-04T15:14:32.573218Z"
    }
   },
   "outputs": [],
   "source": [
    "with open('test.png', 'w') as tp:\n",
    "    tp.write(str(z.save_image()))"
   ]
  },
  {
   "cell_type": "code",
   "execution_count": 487,
   "metadata": {
    "ExecuteTime": {
     "end_time": "2020-08-04T15:15:16.758171Z",
     "start_time": "2020-08-04T15:15:16.701452Z"
    }
   },
   "outputs": [],
   "source": [
    "z.save_image?"
   ]
  },
  {
   "cell_type": "code",
   "execution_count": 489,
   "metadata": {
    "ExecuteTime": {
     "end_time": "2020-08-04T15:19:47.423475Z",
     "start_time": "2020-08-04T15:19:47.073603Z"
    }
   },
   "outputs": [],
   "source": [
    "scene = Omegat.scene()\n",
    "data = scene.save_image(resolution=(1080,1080))"
   ]
  },
  {
   "cell_type": "code",
   "execution_count": 495,
   "metadata": {
    "ExecuteTime": {
     "end_time": "2020-08-04T15:21:55.034672Z",
     "start_time": "2020-08-04T15:21:54.984232Z"
    }
   },
   "outputs": [],
   "source": [
    "import os\n",
    "import io\n",
    "import PIL.Image as Image"
   ]
  },
  {
   "cell_type": "code",
   "execution_count": 497,
   "metadata": {
    "ExecuteTime": {
     "end_time": "2020-08-04T15:22:11.165730Z",
     "start_time": "2020-08-04T15:22:11.118197Z"
    }
   },
   "outputs": [],
   "source": [
    "image = Image.open(io.BytesIO(data))"
   ]
  },
  {
   "cell_type": "code",
   "execution_count": 499,
   "metadata": {
    "ExecuteTime": {
     "end_time": "2020-08-04T15:22:35.498006Z",
     "start_time": "2020-08-04T15:22:35.449245Z"
    }
   },
   "outputs": [
    {
     "data": {
      "text/plain": [
       "PIL.PngImagePlugin.PngImageFile"
      ]
     },
     "execution_count": 499,
     "metadata": {},
     "output_type": "execute_result"
    }
   ],
   "source": [
    "type(image)\n",
    "# image.save(savepath)"
   ]
  },
  {
   "cell_type": "code",
   "execution_count": null,
   "metadata": {},
   "outputs": [],
   "source": []
  },
  {
   "cell_type": "code",
   "execution_count": null,
   "metadata": {},
   "outputs": [],
   "source": []
  }
 ],
 "metadata": {
  "kernelspec": {
   "display_name": "Python 3",
   "language": "python",
   "name": "python3"
  },
  "language_info": {
   "codemirror_mode": {
    "name": "ipython",
    "version": 3
   },
   "file_extension": ".py",
   "mimetype": "text/x-python",
   "name": "python",
   "nbconvert_exporter": "python",
   "pygments_lexer": "ipython3",
   "version": "3.7.3"
  },
  "toc": {
   "base_numbering": 1,
   "nav_menu": {},
   "number_sections": false,
   "sideBar": false,
   "skip_h1_title": false,
   "title_cell": "Table of Contents",
   "title_sidebar": "Contents",
   "toc_cell": false,
   "toc_position": {},
   "toc_section_display": false,
   "toc_window_display": false
  },
  "varInspector": {
   "cols": {
    "lenName": 16,
    "lenType": 16,
    "lenVar": 40
   },
   "kernels_config": {
    "python": {
     "delete_cmd_postfix": "",
     "delete_cmd_prefix": "del ",
     "library": "var_list.py",
     "varRefreshCmd": "print(var_dic_list())"
    },
    "r": {
     "delete_cmd_postfix": ") ",
     "delete_cmd_prefix": "rm(",
     "library": "var_list.r",
     "varRefreshCmd": "cat(var_dic_list()) "
    }
   },
   "types_to_exclude": [
    "module",
    "function",
    "builtin_function_or_method",
    "instance",
    "_Feature"
   ],
   "window_display": false
  }
 },
 "nbformat": 4,
 "nbformat_minor": 2
}
