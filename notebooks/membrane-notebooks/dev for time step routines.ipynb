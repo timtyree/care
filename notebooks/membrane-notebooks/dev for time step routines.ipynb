{
 "cells": [
  {
   "cell_type": "markdown",
   "metadata": {},
   "source": [
    "# Development of Time Stepping\n",
    "Tim Tyree<br>\n",
    "7.16.2020"
   ]
  },
  {
   "cell_type": "code",
   "execution_count": 1,
   "metadata": {
    "ExecuteTime": {
     "end_time": "2020-08-02T01:03:57.696819Z",
     "start_time": "2020-08-02T01:03:56.793696Z"
    }
   },
   "outputs": [
    {
     "name": "stdout",
     "output_type": "stream",
     "text": [
      "Automatic calling is: Smart\n"
     ]
    }
   ],
   "source": [
    "import numpy as np, pandas as pd, matplotlib.pyplot as plt\n",
    "from mpl_toolkits.mplot3d import Axes3D  \n",
    "\n",
    "#automate the boring stuff\n",
    "from IPython import utils\n",
    "import time, os, sys, re\n",
    "beep = lambda x: os.system(\"echo -n '\\\\a';sleep 0.2;\" * x)\n",
    "if not 'nb_dir' in globals():\n",
    "    nb_dir = os.getcwd()\n",
    "sys.path.append(\"../lib\") \n",
    "from lib import *\n",
    "sys.path.append(\"lib\") \n",
    "from lib import *\n",
    "\n",
    "# from operari import *\n",
    "# from ProgressBar import *\n",
    "# from mesh_ops import *\n",
    "\n",
    "# the visualization tools involved here for triangular meshes is\n",
    "import trimesh\n",
    "import pyglet\n",
    "from numba import njit, cuda\n",
    "# from numba.typed import List\n",
    "# import numba\n",
    "import trimesh\n",
    "\n",
    "#try using a scipy sparse matrix to speed up spring force evaluations\n",
    "#TODO: speed up bigger meshes with pycuda's sparce matrices\n",
    "from scipy.sparse import csr_matrix\n",
    "import scipy.sparse as sparse\n",
    "\n",
    "from spring import *\n",
    "from controller import *\n",
    "\n",
    "\n",
    "# from pyspark import SparkContext \n",
    "# sc = SparkContext(master=\"local[4]\")\n",
    "# print(sc)\n",
    "\n",
    "\n",
    "%autocall 1\n",
    "%load_ext autoreload\n",
    "%autoreload 2"
   ]
  },
  {
   "cell_type": "markdown",
   "metadata": {
    "heading_collapsed": true
   },
   "source": [
    "## Scratch for Newmark time stepping"
   ]
  },
  {
   "cell_type": "code",
   "execution_count": null,
   "metadata": {
    "hidden": true
   },
   "outputs": [],
   "source": []
  },
  {
   "cell_type": "code",
   "execution_count": 5,
   "metadata": {
    "ExecuteTime": {
     "end_time": "2020-07-16T20:52:24.152753Z",
     "start_time": "2020-07-16T20:52:24.035323Z"
    },
    "hidden": true
   },
   "outputs": [],
   "source": [
    "import numpy as np\n",
    "from numpy import zeros,dot,atleast_1d\n",
    "from scipy import linalg"
   ]
  },
  {
   "cell_type": "code",
   "execution_count": null,
   "metadata": {
    "hidden": true
   },
   "outputs": [],
   "source": []
  },
  {
   "cell_type": "code",
   "execution_count": 7,
   "metadata": {
    "ExecuteTime": {
     "end_time": "2020-07-16T20:52:28.370503Z",
     "start_time": "2020-07-16T20:52:28.368024Z"
    },
    "hidden": true
   },
   "outputs": [],
   "source": [
    "# adapted from the following incumbent\n",
    "##########################################################################\n",
    "# program: Newmark.py\n",
    "# author: Tom Irvine\n",
    "# version: 1.4\n",
    "# date: May 1, 2012\n",
    "# description:  solution of a system of second-order ODEs for a dynamic\n",
    "#               system via the Newmark-beta method\n",
    "#\n",
    "##########################################################################"
   ]
  },
  {
   "cell_type": "code",
   "execution_count": 8,
   "metadata": {
    "ExecuteTime": {
     "end_time": "2020-07-16T20:52:28.604121Z",
     "start_time": "2020-07-16T20:52:28.598188Z"
    },
    "hidden": true
   },
   "outputs": [],
   "source": [
    "def Newmark_coefficients(dt):\n",
    "    alpha=0.25\n",
    "    beta=0.5\n",
    "\n",
    "    a0=1/(alpha*(dt**2))\n",
    "    a1=beta/(alpha*dt)\n",
    "    a2=1/(alpha*dt)\n",
    "    a3=(1/(2*alpha))-1\n",
    "    a4=(beta/alpha)-1\n",
    "    a5=(dt/2)*((beta/alpha)-2)\n",
    "    a6=dt*(1-beta)\n",
    "    a7=beta*dt\n",
    "\n",
    "    return a0,a1,a2,a3,a4,a5,a6,a7"
   ]
  },
  {
   "cell_type": "code",
   "execution_count": 15,
   "metadata": {
    "ExecuteTime": {
     "end_time": "2020-07-16T20:53:30.416882Z",
     "start_time": "2020-07-16T20:53:30.413002Z"
    },
    "hidden": true
   },
   "outputs": [
    {
     "data": {
      "text/plain": [
       "(1599.9999999999998, 40.0, 80.0, 1.0, 1.0, 0.0, 0.025, 0.025)"
      ]
     },
     "execution_count": 15,
     "metadata": {},
     "output_type": "execute_result"
    }
   ],
   "source": [
    "Newmark_coefficients(dt=.05)"
   ]
  },
  {
   "cell_type": "code",
   "execution_count": 9,
   "metadata": {
    "ExecuteTime": {
     "end_time": "2020-07-16T20:52:28.811469Z",
     "start_time": "2020-07-16T20:52:28.804590Z"
    },
    "hidden": true
   },
   "outputs": [],
   "source": [
    "def Newmark_initialize(ndof,a0,a1,M,C,K,NT,DI,VI):\n",
    "\n",
    "    nlength=len(atleast_1d(M)) \n",
    "\n",
    "    KH=zeros((ndof,ndof),float)\n",
    "\n",
    "    KH=K+a0*M+a1*C\n",
    "\n",
    "    if(nlength==1):\n",
    "\n",
    "        U=zeros(NT,float)\n",
    "        Ud=zeros(NT,float)\n",
    "        Udd=zeros(NT,float)\n",
    "\n",
    "        U[0]=DI\n",
    "        Ud[0]=VI\n",
    "            \n",
    "    else:\n",
    "\n",
    "        U=zeros((ndof,NT),float)\n",
    "        Ud=zeros((ndof,NT),float)\n",
    "        Udd=zeros((ndof,NT),float)\n",
    "\n",
    "        U[:,0]=DI\n",
    "        Ud[:,0]=VI\n",
    "\n",
    "    return U,Ud,Udd,KH"
   ]
  },
  {
   "cell_type": "code",
   "execution_count": 10,
   "metadata": {
    "ExecuteTime": {
     "end_time": "2020-07-16T20:52:29.010404Z",
     "start_time": "2020-07-16T20:52:28.997894Z"
    },
    "hidden": true
   },
   "outputs": [],
   "source": [
    "def Newmark_force(M,C,K,FFI,force_dof,VI,DI,dt,NT,ndof):\n",
    "    \"\"\"\n",
    "    input\n",
    "\n",
    "    M = mass matrix\n",
    "    C = damping matrix\n",
    "    K = stiffness matrix\n",
    "\n",
    "    FFI = interpolated force matrix\n",
    "    force_dof = connects forces with dofs\n",
    "\n",
    "    VI = initial velocity\n",
    "    DI = initial displacement\n",
    "\n",
    "      dt = time step\n",
    "      NT = number of time points\n",
    "    ndof = number of degrees of freedom\n",
    "\n",
    "    output\n",
    "\n",
    "      U = displacement\n",
    "     Ud = velocity\n",
    "    Udd = acceleration\n",
    "\n",
    "    \"\"\"\n",
    "\n",
    "    a0,a1,a2,a3,a4,a5,a6,a7=Newmark_coefficients(dt)\n",
    "\n",
    "    U,Ud,Udd,KH=Newmark_initialize(ndof,a0,a1,M,C,K,NT,DI,VI)\n",
    "\n",
    "\n",
    "    for i in range (1,NT):\n",
    "\n",
    "        V1=(a1*U[:,i-1]+a4*Ud[:,i-1]+a5*Udd[:,i-1])\n",
    "        V2=(a0*U[:,i-1]+a2*Ud[:,i-1]+a3*Udd[:,i-1])\n",
    "\n",
    "        CV=dot(C,V1)\n",
    "        MA=dot(M,V2)\n",
    "\n",
    "\n",
    "#  apply forces\n",
    "\n",
    "        F=zeros(ndof,float)\n",
    "\n",
    "        for j in range (0,ndof):\n",
    "\n",
    "            j_index=force_dof[j]\n",
    "\n",
    "            if(j_index!=-999):\n",
    "\n",
    "                F[j]=FFI[i,j_index]\n",
    "\n",
    "\n",
    "        FH=F+MA+CV\n",
    "\n",
    "#  solve for displacements\n",
    "\n",
    "        if(ndof>1):\n",
    "            Un = linalg.solve(KH, FH)\n",
    "        else:\n",
    "            Un=FH/KH\n",
    "\n",
    "        Uddn=a0*(Un-U[:,i-1])-a2*Ud[:,i-1]-a3*Udd[:,i-1]\n",
    "        Udn=Ud[:,i-1]+a6*Udd[:,i-1]+a7*Uddn\n",
    "\n",
    "\n",
    "        U[:,i]=Un\n",
    "        Ud[:,i]=Udn\n",
    "        Udd[:,i]=Uddn\n",
    "\n",
    "    return U.T,Ud.T,Udd.T"
   ]
  },
  {
   "cell_type": "code",
   "execution_count": 17,
   "metadata": {
    "ExecuteTime": {
     "end_time": "2020-07-16T22:07:26.742636Z",
     "start_time": "2020-07-16T22:07:26.739319Z"
    },
    "hidden": true
   },
   "outputs": [],
   "source": [
    "def StarEnergy(self, others):\n",
    "    retval = Newmark_initialize(ndof,a0,a1,M,C,K,NT,DI,VI) #TODO\n",
    "    for other in others:\n",
    "        retval += Change_in_Energy(self, others) #TODO\n",
    "    return retval"
   ]
  },
  {
   "cell_type": "markdown",
   "metadata": {
    "heading_collapsed": true
   },
   "source": [
    "# I need to stop being attention deficit"
   ]
  },
  {
   "cell_type": "markdown",
   "metadata": {
    "hidden": true
   },
   "source": [
    "## TODO: thumb through the library of SublimeText and find an estimate of local energy for constitutive model, E(X) = _Energy_in_the_Star_radius_(X) is an extrinsic estimate while \\Psi(X) is an intrinstic measure of the ground state that relaxes on a reletively slow electrophysiological time scale, 1ms.\n",
    "\n",
    "$\\tau_\\text{EM}=\\tau_\\text{Electromotive}\\sim1\\,ms \\ll 25\\mu s\\sim \\tau_\\text{EP}=\\tau_\\text{Electrophysiological}$"
   ]
  },
  {
   "cell_type": "markdown",
   "metadata": {
    "hidden": true
   },
   "source": [
    "## Generate an array of randomized steps\n",
    "TODO: try improving ^this model by using a different step size in the normal direction defined by the stable configuration given."
   ]
  },
  {
   "cell_type": "code",
   "execution_count": 9,
   "metadata": {
    "ExecuteTime": {
     "end_time": "2020-07-17T02:07:32.034125Z",
     "start_time": "2020-07-17T02:07:31.996009Z"
    },
    "hidden": true
   },
   "outputs": [],
   "source": [
    "#TODO: define a numpy function that defines a random unbiased step for each vertex\n",
    "#TODO: find the (i) the continuum constitutive relations and (i) the spring constitutive relations\n",
    "#TODO: define an energy density function as the sum of those of the neighboring triangles\n",
    "#TODO: define several energy functionals\n",
    "#TODO: define an accept/reject energy functional\n",
    "\n",
    "# mesh.vertices = time_step_n_times(\n",
    "#     mesh.vertices,\n",
    "#     X,\n",
    "#     get_h(),\n",
    "#     n=1)\n",
    "\n",
    "X = mesh.vertices\n",
    "#TODO: initialize displacement field to zero\n",
    "U = mesh.vertices - X\n",
    "def accept_step_query():\n",
    "    pass"
   ]
  },
  {
   "cell_type": "code",
   "execution_count": 2,
   "metadata": {
    "ExecuteTime": {
     "end_time": "2020-07-17T02:03:35.000842Z",
     "start_time": "2020-07-17T02:03:34.965345Z"
    },
    "hidden": true
   },
   "outputs": [],
   "source": [
    "import trimesh, numpy as np, numba\n",
    "from numba import njit,jit"
   ]
  },
  {
   "cell_type": "code",
   "execution_count": 8,
   "metadata": {
    "ExecuteTime": {
     "end_time": "2020-07-17T02:07:27.691850Z",
     "start_time": "2020-07-17T02:07:27.650731Z"
    },
    "hidden": true
   },
   "outputs": [
    {
     "name": "stderr",
     "output_type": "stream",
     "text": [
      "face_normals all zero, ignoring!\n"
     ]
    }
   ],
   "source": [
    "#TODO: import mesh of sphere to define X\n",
    "mesh_dir = nb_dir+\"/Data/spherical_meshes/spherical_mesh_64.stl\"\n",
    "mesh = trimesh.load_mesh(mesh_dir)\n",
    "X = mesh.vertices #\\Omega_0 is the initially given configuration\n",
    "x = X # set \\Omega_{t=0} = \\Omega_0\n",
    "# mesh.show()"
   ]
  },
  {
   "cell_type": "markdown",
   "metadata": {
    "hidden": true
   },
   "source": [
    "$$\\Phi(X_i) \\equiv \\sum_{j=1}^{N_{X_i}}\\Phi_j$$\n",
    "\n",
    "Where $\\Phi_j=$ is the energy density of the $j^{th}$ triangle neighboring the $i^{th}$ point $X_i$ located at $x(t)$ on the surface $\\Omega_t$."
   ]
  },
  {
   "cell_type": "markdown",
   "metadata": {
    "hidden": true
   },
   "source": [
    "### define the energy of one triangle for the corotated linear model\n",
    "from the notebook, \"Elastic Model of RA\", we have"
   ]
  },
  {
   "cell_type": "code",
   "execution_count": null,
   "metadata": {
    "hidden": true
   },
   "outputs": [],
   "source": []
  },
  {
   "cell_type": "code",
   "execution_count": null,
   "metadata": {
    "hidden": true
   },
   "outputs": [],
   "source": [
    "tet = np.stack((dm1,dm2,Am))\n",
    "#half of the determinant of tet is the squared area of the triangle.\n",
    "np.linalg.det(tet)/2==Am.dot(Am)\n",
    "np.linalg.eigvals(tet)"
   ]
  },
  {
   "cell_type": "markdown",
   "metadata": {
    "heading_collapsed": true,
    "hidden": true
   },
   "source": [
    "## TODO: consider mapping between manifolds using scipy.optimize.minimize on some energy loss function.\n",
    "methods str or callable, optional\n",
    "Type of solver. Should be one of\n",
    "- ‘Nelder-Mead’ (see here)\n",
    "- ‘Powell’ (see here)\n",
    "- ‘CG’ (see here)\n",
    "- ‘BFGS’ (see here)\n",
    "- ‘Newton-CG’ (see here)\n",
    "- ‘L-BFGS-B’ (see here)\n",
    "- ‘TNC’ (see here)\n",
    "- ‘COBYLA’ (see here)\n",
    "- ‘SLSQP’ (see here)\n",
    "- ‘trust-constr’(see here)\n",
    "- ‘dogleg’ (see here)\n",
    "- ‘trust-ncg’ (see here)\n",
    "- ‘trust-exact’ (see here)\n",
    "- ‘trust-krylov’ (see here)\n",
    "- custom - a callable object (added in version 0.14.0), see below for description."
   ]
  },
  {
   "cell_type": "code",
   "execution_count": 13,
   "metadata": {
    "ExecuteTime": {
     "end_time": "2020-08-01T20:27:18.807457Z",
     "start_time": "2020-08-01T20:27:18.712478Z"
    },
    "hidden": true
   },
   "outputs": [],
   "source": [
    "from numba import vectorize\n",
    "@vectorize('float32(float32, float32)')#, target='gpu')\n",
    "def VectorAdd(a,b):\n",
    "    return a + b\n",
    "a = np.array(range(5),dtype=np.float32)\n"
   ]
  },
  {
   "cell_type": "code",
   "execution_count": 14,
   "metadata": {
    "ExecuteTime": {
     "end_time": "2020-08-01T20:27:20.192288Z",
     "start_time": "2020-08-01T20:27:20.140026Z"
    },
    "hidden": true
   },
   "outputs": [
    {
     "data": {
      "text/plain": [
       "array([0., 2., 4., 6., 8.], dtype=float32)"
      ]
     },
     "execution_count": 14,
     "metadata": {},
     "output_type": "execute_result"
    }
   ],
   "source": [
    "VectorAdd(a,a)"
   ]
  },
  {
   "cell_type": "markdown",
   "metadata": {
    "hidden": true
   },
   "source": [
    "## TODO: finish reading Augustin (2020).\n",
    "\n",
    "\n",
    "See handwritten notes on Augustin (2020) \n",
    "\n",
    "which is a spacetime generalization of variational integrators that allows you to take different timesteps for different elements, which is important as slivers in the mesh often force you to take very small timesteps because of the CFL condition, and a global tensor product spacetime mesh would mean that the entire domain has to be advanced using that small timestep.\n",
    "\n",
    "After today, I'll test that and see if I can reproduce the tests on an AVI on 2D flat space tessellated by triangles.  Once that works, I'll embed an example patient's atrium in 3D space, and tesselated it with triangles, and run the xgboost code on it, where I could smoothly track spiral tips on the atrial surface using a ray tracing projection onto the bezier surface generated by the patient's vertices as control knots.  \n"
   ]
  },
  {
   "cell_type": "markdown",
   "metadata": {
    "hidden": true
   },
   "source": [
    "## TODO(after basic mvc pattern filled out): consider using a bezier surface to interpolate between the cardiac  surfaces that are updated at a time resolution of 1ms "
   ]
  },
  {
   "cell_type": "markdown",
   "metadata": {
    "hidden": true
   },
   "source": [
    "## TODO: write corotated linear strain energy functional to observe total strain energy of a given configuration\n",
    "and then,\n",
    "\n",
    "#TODO: create symplectic representation of the displacement and the rate of change of its displacement field, Q = (X, U)\n",
    "#TODO: compute total energy for mesh H = (T+V)\n",
    "#TODO: compute total action for mesh L = (T-V)\n",
    "\n",
    "#TODO: minimize the action using scipy.optimize.minimize for any of the given methods\n",
    "#TODO: if the first method doesn't work, try the next method."
   ]
  },
  {
   "cell_type": "code",
   "execution_count": 44,
   "metadata": {
    "ExecuteTime": {
     "end_time": "2020-07-17T21:12:56.509678Z",
     "start_time": "2020-07-17T21:12:55.927653Z"
    },
    "hidden": true
   },
   "outputs": [
    {
     "name": "stdout",
     "output_type": "stream",
     "text": [
      "Automatic calling is: Smart\n",
      "The autoreload extension is already loaded. To reload it, use:\n",
      "  %reload_ext autoreload\n"
     ]
    }
   ],
   "source": [
    "import numpy as np, pandas as pd, matplotlib.pyplot as plt\n",
    "from mpl_toolkits.mplot3d import Axes3D  \n",
    "\n",
    "#automate the boring stuff\n",
    "from IPython import utils\n",
    "import time, os, sys, re\n",
    "beep = lambda x: os.system(\"echo -n '\\\\a';sleep 0.2;\" * x)\n",
    "if not 'nb_dir' in globals():\n",
    "    nb_dir = os.getcwd()\n",
    "sys.path.append(\"../lib\") \n",
    "from lib import *\n",
    "sys.path.append(\"lib\") \n",
    "from lib import *\n",
    "from operari import *\n",
    "from ProgressBar import *\n",
    "# from mesh_ops import *\n",
    "\n",
    "# the visualization tools involved here for triangular meshes is\n",
    "import trimesh\n",
    "import pyglet\n",
    "from numba import njit, cuda\n",
    "# from numba.typed import List\n",
    "# import numba\n",
    "import trimesh\n",
    "\n",
    "#try using a scipy sparse matrix to speed up spring force evaluations\n",
    "#TODO: speed up bigger meshes with pycuda's sparce matrices\n",
    "from scipy.sparse import csr_matrix\n",
    "import scipy.sparse as sparse\n",
    "\n",
    "# from pyspark import SparkContext \n",
    "# sc = SparkContext(master=\"local[4]\")\n",
    "# print(sc)\n",
    "\n",
    "\n",
    "%autocall 1\n",
    "%load_ext autoreload\n",
    "%autoreload 2"
   ]
  },
  {
   "cell_type": "code",
   "execution_count": 45,
   "metadata": {
    "ExecuteTime": {
     "end_time": "2020-07-17T21:12:57.504767Z",
     "start_time": "2020-07-17T21:12:57.454503Z"
    },
    "hidden": true
   },
   "outputs": [
    {
     "data": {
      "text/plain": [
       "'a'"
      ]
     },
     "execution_count": 45,
     "metadata": {},
     "output_type": "execute_result"
    }
   ],
   "source": [
    "class BPSomeClass(object):\n",
    "    r\"\"\"Describe the class\"\"\"\n",
    "    def __init__(self, arg1, arg2):\n",
    "        self.attr1 = arg1\n",
    "        self.attr2 = arg2\n",
    "    \n",
    "    def attribute1(self):\n",
    "        return self.attr1\n",
    "bp_obj = BPSomeClass(\"a\", 2.7182)\n",
    "bp_obj.attribute1()"
   ]
  },
  {
   "cell_type": "markdown",
   "metadata": {
    "hidden": true
   },
   "source": [
    "## TODO: use Newmark_force(M,C,K,FFI,force_dof,VI,DI,dt,NT,ndof) with no stiffness and fnet explicitely entered as the external force array.\n",
    "- TODO: pipe compute_elastic_forces() into Newmark_force\n",
    "   -  Hint: mdof_arbit_force_nm.py, control+F for Newmark_force\n",
    "   \n",
    "- is it worth taking advantage of the tree/queue data structures natively implemented in trimesh? mesh.nearest? "
   ]
  },
  {
   "cell_type": "code",
   "execution_count": null,
   "metadata": {
    "hidden": true
   },
   "outputs": [],
   "source": []
  },
  {
   "cell_type": "code",
   "execution_count": null,
   "metadata": {
    "hidden": true
   },
   "outputs": [],
   "source": []
  },
  {
   "cell_type": "code",
   "execution_count": null,
   "metadata": {
    "hidden": true
   },
   "outputs": [],
   "source": []
  },
  {
   "cell_type": "code",
   "execution_count": null,
   "metadata": {
    "hidden": true
   },
   "outputs": [],
   "source": []
  },
  {
   "cell_type": "code",
   "execution_count": null,
   "metadata": {
    "hidden": true
   },
   "outputs": [],
   "source": [
    "#TODO: copy opencarp into myfolder\n",
    "#TODO: test out opencarp\n",
    "#TODO: pycharm a 3D viewer app template\n",
    "#TODO: bash your way into python\n",
    "#use scipy.optimize.minimize to map one frame to another frame with the corotated linear constitutive model\n",
    "#optimize lib.model.energy_functional \\sim lib.model.action_functional using gekko\n"
   ]
  },
  {
   "cell_type": "markdown",
   "metadata": {
    "ExecuteTime": {
     "end_time": "2020-08-01T22:33:07.615762Z",
     "start_time": "2020-08-01T22:33:07.569183Z"
    },
    "heading_collapsed": true
   },
   "source": [
    "# Test driven dev of spring/edge manipulation.\n",
    "# TODO: use ^this in removing edges closer than n edges of the given mesh boundary"
   ]
  },
  {
   "cell_type": "code",
   "execution_count": 233,
   "metadata": {
    "ExecuteTime": {
     "end_time": "2020-08-01T22:47:43.641188Z",
     "start_time": "2020-08-01T22:47:43.588699Z"
    },
    "hidden": true
   },
   "outputs": [],
   "source": [
    "def spring_exists(vid1_array, vid2_array, vid1,vid2):\n",
    "    '''check where an edge exists'''\n",
    "    return sum ( (vid1_array == vid1) & (vid2_array == vid2) ) > 0\n",
    "\n",
    "def remove_springs(vid1_array, vid2_array, blacklist):\n",
    "    '''\n",
    "    remove a list of springs (blacklist) from the list of springs, (vid1_array,vid2_array) \n",
    "    found in Omegat.precomputed_arguments.\n",
    "    \n",
    "    vid1_array is an array of ints\n",
    "    vid2_array is an array of ints\n",
    "    blacklist is any input list of edges as a list of tuples of ints\n",
    "    '''\n",
    "    v1_list = []\n",
    "    v2_list = []\n",
    "    drop = (0.*vid1_array).astype(bool)\n",
    "    for ax, bx in blacklist:\n",
    "        boo   = (vid1_array == ax) & (vid2_array == bx) \n",
    "        drop |= boo\n",
    "    return vid1_array[~drop],vid2_array[~drop]\n",
    "\n",
    "def add_springs(vid1_array, vid2_array, whitelist):\n",
    "    '''\n",
    "    add a list of springs (blacklist) from the list of springs, (vid1_array,vid2_array) \n",
    "    found in Omegat.precomputed_arguments.\n",
    "    \n",
    "    vid1_array is an array of ints\n",
    "    vid2_array is an array of ints\n",
    "    blacklist is any input list of edges as a list of tuples of ints\n",
    "    '''\n",
    "    v1_list = list(vid1_array)\n",
    "    v2_list = list(vid2_array)\n",
    "    for ax, bx in whitelist:\n",
    "        if not spring_exists(vid1_array, vid2_array, vid1=ax,vid2=bx):\n",
    "            v1_list.append(ax)\n",
    "            v2_list.append(bx)\n",
    "    return np.array(v1_list, dtype=int), np.array(v2_list, dtype=int)\n",
    "\n"
   ]
  },
  {
   "cell_type": "code",
   "execution_count": 235,
   "metadata": {
    "ExecuteTime": {
     "end_time": "2020-08-01T22:49:16.119344Z",
     "start_time": "2020-08-01T22:49:16.055892Z"
    },
    "hidden": true
   },
   "outputs": [],
   "source": [
    "def test_spring_exists():\n",
    "    # test spring_exists for a simple case\n",
    "    assert ( spring_exists(np.array([3,4,1]), np.array([1,2,3]), vid1=3,vid2=1)     )\n",
    "    assert ( not spring_exists(np.array([3,4,1]), np.array([1,2,3]), vid1=7,vid2=7) )\n",
    "    assert ( not spring_exists(np.array([3,4,1]), np.array([1,2,3]), vid1=3,vid2=3) )\n",
    "    assert ( not spring_exists(np.array([3,4,1]), np.array([1,2,3]), vid1=1,vid2=1) )\n",
    "    return True\n",
    "def test_spring_add_remove(Omegat):    \n",
    "    #tests for adding/removing springs\n",
    "    vid1_array = Omegat.precomputed_arguments['vid1_array']\n",
    "    vid2_array = Omegat.precomputed_arguments['vid2_array']\n",
    "\n",
    "    blacklist = [(7,7)]\n",
    "    whitelist = [(7,7)]\n",
    "    assert ( not spring_exists(vid1_array, vid2_array, vid1=7,vid2=7) ) \n",
    "\n",
    "    #test that add_springs and then remove_springs does nothing when told to do nothing\n",
    "    len_original = 756\n",
    "    assert ( len(vid1_array) == len_original )\n",
    "    assert ( len(vid2_array) == len_original )\n",
    "\n",
    "    v1, v2 = remove_springs(vid1_array, vid2_array, blacklist=[]) \n",
    "    assert ( len(v1) == len_original )\n",
    "    assert ( len(v2) == len_original )\n",
    "\n",
    "    v1, v2 = remove_springs(vid1_array, vid2_array, blacklist) \n",
    "    assert ( len(v1) == len_original )\n",
    "    assert ( len(v2) == len_original )\n",
    "\n",
    "    v1, v2 = add_springs(vid1_array, vid2_array, whitelist=[]) \n",
    "    assert ( len(v1) == len_original )\n",
    "    assert ( len(v2) == len_original )\n",
    "\n",
    "    v1, v2 = add_springs(v1, v2, whitelist) \n",
    "    assert ( len(v1) == len_original +1)\n",
    "    assert ( len(v2) == len_original +1)\n",
    "    assert ( spring_exists(v1, v2, vid1=7,vid2=7) )\n",
    "\n",
    "    #add_springs does not add a spring that already exists\n",
    "    v1, v2 = add_springs(v1, v2, whitelist) \n",
    "    assert ( len(v1) == len_original +1)\n",
    "    assert ( len(v2) == len_original +1)\n",
    "    assert ( spring_exists(v1, v2, vid1=7,vid2=7) )\n",
    "\n",
    "    #remove_springs removes a spring that exists\n",
    "    v1, v2 = remove_springs(v1, v2, whitelist) \n",
    "    assert ( len(v1) == len_original )\n",
    "    assert ( len(v2) == len_original )\n",
    "    assert ( not spring_exists(v1, v2, vid1=7,vid2=7) )\n",
    "    return True\n"
   ]
  },
  {
   "cell_type": "markdown",
   "metadata": {
    "hidden": true
   },
   "source": [
    "## TODO: implement time_step_n_steps() using forward euler integration.\n",
    "- TODO: @njit time_step_n_steps()\n",
    "- TODO: give example usage and other basic controller functions"
   ]
  },
  {
   "cell_type": "code",
   "execution_count": 15,
   "metadata": {
    "ExecuteTime": {
     "end_time": "2020-08-01T20:29:03.839227Z",
     "start_time": "2020-08-01T20:29:03.789835Z"
    },
    "hidden": true
   },
   "outputs": [],
   "source": [
    "# #Functional Goal: time step the mechanics n times \n",
    "# def time_step_n_times(x,X,h,n):\n",
    "#     for k in range(n):\n",
    "#         x += time_step(x,X,h)\n",
    "#     return x\n",
    "# def get_h(h = 10**-2):\n",
    "#     '''constant time steps'''\n",
    "#     return h\n",
    "# # def get_h(h = 10**-2, beta = 1., acceptedQ=True):\n",
    "# #     '''exponential adaptive time steps\n",
    "# #     h = most recent time step,\n",
    "# #     acceptedQ = whether the most recent time step was accepted,\n",
    "# #     beta = stepsize change in parameter.\n",
    "# #     **caution** this get_h could be unstable/inefficient with any unbiased R.W..\n",
    "# #     Use it with steps directed towards the minimizer\n",
    "# #     '''\n",
    "# #     return h\n",
    "\n",
    "# # #Example Usage: \n",
    "# # mesh.vertices = time_step_n_times(\n",
    "# #     mesh.vertices,\n",
    "# #     X,\n",
    "# #     get_h(),\n",
    "# #     n=1)"
   ]
  },
  {
   "cell_type": "code",
   "execution_count": 267,
   "metadata": {
    "ExecuteTime": {
     "end_time": "2020-07-30T19:45:11.760886Z",
     "start_time": "2020-07-30T19:45:11.707961Z"
    },
    "hidden": true
   },
   "outputs": [],
   "source": []
  },
  {
   "cell_type": "code",
   "execution_count": 272,
   "metadata": {
    "ExecuteTime": {
     "end_time": "2020-07-30T20:00:41.757626Z",
     "start_time": "2020-07-30T20:00:41.701164Z"
    },
    "hidden": true
   },
   "outputs": [],
   "source": [
    "def precompute_mesh(mesh):\n",
    "    '''precompute edges, which are the force generating simplices here'''\n",
    "    Omega0 = mesh.copy()\n",
    "    meu = mesh.edges_unique\n",
    "    \n",
    "    vid1_array, vid2_array = np.array(meu[:,0],dtype=int), np.array( meu[:,1],dtype=int)\n",
    "    vertex1_array = np.array ( mesh.vertices[vid1_array]  , dtype=float) \n",
    "    vertex2_array = np.array ( mesh.vertices[vid2_array]  , dtype=float) \n",
    "    vertex_array =  np.array(Omega0.vertices, dtype=float) #only needed for shape\n",
    "    \n",
    "    \n",
    "    #initialize spring force parameters\n",
    "    d0_array = np.array(mesh.edges_unique_length, dtype=float)\n",
    "    k0_array = 1 + np.zeros_like(vertex1_array[...,0], dtype=float)\n",
    "    f0_array = np.array(np.zeros_like(mesh.vertices, dtype=float))\n",
    "\n",
    "    #collect precomputed_arguments into a dict.\n",
    "    precomputed_arguments = {\n",
    "        'd0_array':d0_array, \n",
    "        'k0_array':k0_array, \n",
    "        'vid1_array':vid1_array, \n",
    "        'vid2_array':vid2_array, \n",
    "        'vertex_array':vertex_array,\n",
    "        'mass_array':mass_array\n",
    "     }\n",
    "\n",
    "    vertex1_array = np.array( mesh.vertices[vid1_array],dtype=float)\n",
    "    vertex2_array = np.array( mesh.vertices[vid2_array],dtype=float)\n",
    "    d_array = np.array(mesh.edges_unique_length, dtype=float)\n",
    "    recomputed_arguments = {\n",
    "         'vertex1_array':vertex1_array, \n",
    "        'vertex2_array':vertex2_array, \n",
    "        'd_array':d_array, \n",
    "     }\n",
    "    Omegat.precomputed_arguments = precomputed_arguments.copy()\n",
    "    Omegat.recomputed_arguments  =  recomputed_arguments.copy()\n",
    "    Omegat.X = vertex_array.copy()\n",
    "    Omegat.Omega0 = Omega0.copy()\n",
    "    return Omegat\n",
    "    \n",
    "def compute_mesh_update(Omegat,u):\n",
    "    #compute the spring deformation states for each edge\n",
    "        \n",
    "    #update material vertices with material displacement field u\n",
    "    mesh = Omegat.copy()\n",
    "    mesh.vertices = mesh.Omega0.vertices + u \n",
    "    # ^this should not be mesh.X + u \n",
    "    #     (mesh.X removes tracked array from trimesh, which is made use of in mesh.edges_unique_length)\n",
    "    \n",
    "    #compute the spring deformation states for each edge\n",
    "    vertex1_array = np.array( mesh.vertices[vid1_array],dtype=float)\n",
    "    vertex2_array = np.array( mesh.vertices[vid2_array],dtype=float)\n",
    "    d_array = np.array(mesh.edges_unique_length, dtype=float)\n",
    "    \n",
    "    recomputed_arguments = {\n",
    "        'vertex1_array':vertex1_array, \n",
    "        'vertex2_array':vertex2_array, \n",
    "        'd_array':d_array, \n",
    "     }\n",
    "    \n",
    "    \n",
    "    Omegat.precomputed_arguments = precomputed_arguments.copy()\n",
    "    Omegat.recomputed_arguments  =  recomputed_arguments.copy()\n",
    "    Omegat.X = vertex_array.copy()\n",
    "    Omegat.Omega0 = Omega0.copy()\n",
    "    \n",
    "    return mesh"
   ]
  },
  {
   "cell_type": "code",
   "execution_count": 273,
   "metadata": {
    "ExecuteTime": {
     "end_time": "2020-07-30T20:00:46.700533Z",
     "start_time": "2020-07-30T20:00:46.645643Z"
    },
    "hidden": true
   },
   "outputs": [],
   "source": [
    "#TODO:functional goal: compute Vol, SVR timeseries\n",
    "# TODO: get_dudt \n",
    "# TODO: get_fnet\n",
    "# TODO: compute_masses of nodes\n",
    "# TODO: initialize_\n",
    "# TODO: briefly try find get_time_step outline?\n",
    "# TODO: implement forward euler integration time_step()\n"
   ]
  },
  {
   "cell_type": "code",
   "execution_count": 17,
   "metadata": {
    "ExecuteTime": {
     "end_time": "2020-08-01T20:33:57.684170Z",
     "start_time": "2020-08-01T20:33:57.629712Z"
    },
    "hidden": true
   },
   "outputs": [],
   "source": [
    "def initialize_system(mesh):\n",
    "    '''    initialize system fields\n",
    "    X   = the material-space configuration\n",
    "    u   = the displacement field\n",
    "    ud  = the velocity field\n",
    "    udd = the acceleration field'''\n",
    "\n",
    "    #initialize configuration\n",
    "    Omega0 = mesh.copy()\n",
    "    Omegat = Omega0.copy()\n",
    "\n",
    "    # intialize displacement field to zero\n",
    "    X   = np.array(Omega0.vertices, dtype=float)\n",
    "    xt  = np.array(Omegat.vertices, dtype=float)\n",
    "    u   = np.zeros_like(X, dtype=float)\n",
    "    \n",
    "    # intialize velocity field to zero\n",
    "    ud  = np.zeros_like(X, dtype=float)\n",
    "    # intialize acceleration field to zero\n",
    "    udd = np.zeros_like(X, dtype=float)\n",
    "\n",
    "    #assert Omegat is still Omega0, which implies t = 0.\n",
    "    assert ( np.isclose ( xt-X, np.zeros_like(X, dtype=float) ) .all() )  \n",
    "    t = 0.                \n",
    "\n",
    "    #initialize spring force parameters\n",
    "    d0_array = np.array(mesh.edges_unique_length, dtype=float)\n",
    "    k0_array = 1 + np.zeros_like(vertex1_array[...,0], dtype=float)\n",
    "    #     f0_array = np.array(np.zeros_like(mesh.vertices, dtype=float))\n",
    "\n",
    "    # collect precomputed_arguments into a dict.  \n",
    "    # Warning: try to keep these arrays fixed throughout computation\n",
    "    precomputed_arguments = {\n",
    "        'd0_array':d0_array, \n",
    "        'k0_array':k0_array, \n",
    "        'vid1_array':vid1_array, \n",
    "        'vid2_array':vid2_array, \n",
    "        'vertex_array':X,\n",
    "        'mass_array':mass_array\n",
    "     }\n",
    "\n",
    "\n",
    "\n",
    "\n",
    "\n",
    "    #compute the current spring deformation states for each edge\n",
    "    # vertex1_array = Omegat[vid1_array].copy()\n",
    "\n",
    "\n",
    "    \n",
    "    Omega.precomputed_arguments = precomputed_arguments.copy()\n",
    "    \n",
    "    stdout = Omega0 \n",
    "    \n",
    "    return stdout"
   ]
  },
  {
   "cell_type": "code",
   "execution_count": 266,
   "metadata": {
    "ExecuteTime": {
     "end_time": "2020-07-30T19:41:43.658959Z",
     "start_time": "2020-07-30T19:41:43.596699Z"
    },
    "hidden": true
   },
   "outputs": [
    {
     "ename": "SyntaxError",
     "evalue": "invalid syntax (<ipython-input-266-71c0962a5b23>, line 3)",
     "output_type": "error",
     "traceback": [
      "\u001b[0;36m  File \u001b[0;32m\"<ipython-input-266-71c0962a5b23>\"\u001b[0;36m, line \u001b[0;32m3\u001b[0m\n\u001b[0;31m    'vid1_array':vid1_array,\u001b[0m\n\u001b[0m                           ^\u001b[0m\n\u001b[0;31mSyntaxError\u001b[0m\u001b[0;31m:\u001b[0m invalid syntax\n"
     ]
    }
   ],
   "source": [
    "def recompute_system(Omegat, u, ud, udd ,Omega0, *recomputed_arguments):\n",
    "    \"\"\"this function is to be run after every n_steps from controller.py\n",
    "    recomputed_arguments contains here\n",
    "        'vid1_array':vid1_array, \n",
    "        'vid2_array':vid2_array, \n",
    "        'vertex_array':vertex_array,\n",
    "        'mass_array':mass_array\n",
    "    \"\"\"\n",
    "            \n",
    "    #id's of the 1st and 2nd vertex of every edge (since edges generate forces here)\n",
    "    vid1_array = Omegat.precomputed_arguments['vid1_array'].copy()\n",
    "    vid2_array = Omegat.precomputed_arguments['vid2_array'].copy()\n",
    "    \n",
    "    \n",
    "    try:\n",
    "        Omegat.vold= Omegat.ud.copy()\n",
    "    try:\n",
    "        Omegat.aold= Omegat.udd.copy()\n",
    "    try:\n",
    "        Omegat.ud  = (Omegat.u-Omegat.vold)/dt\n",
    "    try:\n",
    "        Omegat.u   = Omegat.vertices - Omega0.vertices\n",
    "        \n",
    "    #TODO: compute fields in terms of Omegat.u = Omegat.vertices - Omega0.vertices\n",
    "    vertex1_array = np.array(Omegat.vertices[vid1_array],dtype=float)\n",
    "    vertex2_array = np.array( Omegat.vertices[vid2_array],dtype=float)\n",
    "    d_array = np.array(Omegat.edges_unique_length, dtype=float)\n",
    "    \n",
    "    vertex1_array = np.array(Omegat.vertices[vid1_array],dtype=float)\n",
    "    vertex2_array = np.array( Omegat.vertices[vid2_array],dtype=float)\n",
    "    d_array = np.array(Omegat.edges_unique_length, dtype=float)\n",
    "    distance_between = lambda  vertex1 , vertex2 : np.linalg.norm( vertex2 - vertex1 ) \n",
    "    d_array = np.array([distance_between ( vertex1 , vertex2 ) for vertex1,vertex2 in zip(vertex1_array, vertex2_array)], dtype=float)\n",
    "    recomputed_arguments = {\n",
    "        'vertex1_array':vertex1_array, \n",
    "        'vertex2_array':vertex2_array, \n",
    "        'd_array':d_array, \n",
    "     }\n",
    "    \n",
    "\n",
    "    \n",
    "    Omegat.udd = (Omegat.ud-Omegat.aold)/dt\n",
    "        \n",
    "    Omega.recomputed_arguments = recomputed_arguments\n",
    "    return \n"
   ]
  },
  {
   "cell_type": "code",
   "execution_count": null,
   "metadata": {
    "hidden": true
   },
   "outputs": [],
   "source": []
  },
  {
   "cell_type": "code",
   "execution_count": 3,
   "metadata": {
    "ExecuteTime": {
     "end_time": "2020-08-01T20:15:09.409584Z",
     "start_time": "2020-08-01T20:15:09.259865Z"
    },
    "hidden": true
   },
   "outputs": [],
   "source": [
    "def get_time_step(precomputed_arguments, h, mode=1, verbose=True):\n",
    "    '''TODO: define the simplest productive time step \n",
    "    - unbiased R.W. that only accepts local improvements.\n",
    "    - 1. FEI directed by elastic model.\n",
    "    - 2. FEI directed by spring model.\n",
    "    - 3. Newmark directed by elastic model.\n",
    "    - 4. Newmark directed by spring model.\n",
    "    - R.W. that only accepts local improvements, with steps directed spring/elastic model.\n",
    "    TODO: define an array of njit'd time_step(h) functions for h in step_size_array\n",
    "    - '''\n",
    "    #         def get_forward_euler_integration_time_step(u, ud, X, anet_array, h, \n",
    "    #                                                     d0_array, k0_array, vid1_array, vid2_array, vertex_array):\n",
    "    if mode==1:\n",
    "        #precomputed model parameters don't need to be passed everytime to the time_step abstraction\n",
    "        d0_array = precomputed_arguments['d0_array']\n",
    "        k0_array = precomputed_arguments['k0_array']\n",
    "        vid1_array  = precomputed_arguments['vid1_array']\n",
    "        vid2_array  = precomputed_arguments['vid2_array']\n",
    "        vertex_array  = precomputed_arguments['vertex_array']\n",
    "        mass  = precomputed_arguments['mass_array']\n",
    "        #arguments of the function returned\n",
    "        retargs = ['h', 'vertex1_array', 'vertex2_array', 'd_array']\n",
    "        if verbose:\n",
    "            print ('explicit forward euler integration is used in the time_step function returned.')\n",
    "            print (f\"Example usage: u,ud = time_step(\")\n",
    "            for s in retargs:\n",
    "                print (f\"\\t{s},\")\n",
    "            print (\")\")\n",
    "        def get_anet_array_foo (vertex1_array, vertex2_array, d_array, d0_array, k0_array, vid1_array, vid2_array, vertex_array):\n",
    "            '''compute the net spring force for each vertex.'''\n",
    "            f0_array_foo   = lambda vertex1_array, vertex2_array, d_array: compute_spring_forces ( vertex1_array, vertex2_array, d_array, d0_array, k0_array, vid1_array, vid2_array, vertex_array)\n",
    "#             fnet_array_foo = f0_array_foo  # + any other forces desired\n",
    "#             anet_array_foo = np.divide ( fnet_array_foo , mass_array ) \n",
    "            #             fnet_array_foo = lambda vertex1_array, vertex2_array, d_array: f0_array_foo ( vertex1_array, vertex2_array, d_array) # + any other forces desired\n",
    "            #             anet_array_foo = lambda vertex1_array, vertex2_array, d_array: np.divide ( fnet_array_foo ( vertex1_array, vertex2_array, d_array) , mass_array ) \n",
    "            return f0_array_foo \n",
    "            \n",
    "        anet_array_foo = get_anet_array_foo (vertex1_array, vertex2_array, d_array, d0_array, k0_array, vid1_array, vid2_array, vertex_array)\n",
    "        return anet_array_foo\n",
    "\n",
    "#         @njit\n",
    "        def get_d2udt2 ( anet_array_foo, vertex1_array, vertex2_array, d_array ):\n",
    "            return anet_array_foo\n",
    "\n",
    "#         @njit\n",
    "        def get_dudt (h, anet_array_foo):\n",
    "            '''returnds dudt.'''\n",
    "            \n",
    "            return lambda ud, vertex1_array, vertex2_array, d_array: ud + h * get_d2udt2 ( anet_array_foo, vertex1_array, vertex2_array, d_array )\n",
    "#             dudt  = lambda ud, vertex1_array, vertex2_array, d_array: ud + h * udd ( vertex1_array, vertex2_array, d_array )\n",
    "#             dudt  = ud + h * udd ( vertex1_array, vertex2_array, d_array )\n",
    "#             return dudt\n",
    "\n",
    "#         @njit\n",
    "        def get_stepper (h, u, ud, anet_array_foo):\n",
    "            '''example usage: \n",
    "            time_step = get_time_step (h, u, ud, anet_array_foo) \n",
    "            u_new = time_step(u, ud, vertex1_array, vertex2_array, d_array)\n",
    "            TODO: write functional controller methods get_forward_integrate_n_steps\n",
    "            TODO: minimalist test cases.  debug until it works\n",
    "            TODO: njit this\n",
    "            '''\n",
    "            #                 dudt  = lambda ud, vertex1_array, vertex2_array, d_array: get_dudt (h, ud, anet_array_foo )\n",
    "            dudt  = get_dudt (h, anet_array_foo )\n",
    "#             time_step = lambda u, ud, vertex1_array, vertex2_array, d_array : u + np.multiply(h , get_dudt (h, ud, anet_array_foo ))\n",
    "#             time_step = lambda u, ud, vertex1_array, vertex2_array, d_array : u + h * dudt (ud, vertex1_array, vertex2_array, d_array)\n",
    "#             def time_step(u, ud, vertex1_array, vertex2_array, d_array ) : \n",
    "#                 return u + h * dudt (ud, vertex1_array, vertex2_array, d_array)\n",
    "#             return dudt\n",
    "            return dudt\n",
    "\n",
    "#             return time_step, dudt\n",
    "        return get_stepper (h, u, ud, anet_array_foo )   \n",
    "#         time_step, dudt =  get_stepper (h, u, ud, anet_array_foo ) \n",
    "#         return time_step(u, ud, vertex1_array, vertex2_array, d_array)\n",
    "    \n",
    "    else:\n",
    "        raise(f\"Error! Method note implemented!\")\n"
   ]
  },
  {
   "cell_type": "code",
   "execution_count": 228,
   "metadata": {
    "ExecuteTime": {
     "end_time": "2020-07-29T02:00:58.086601Z",
     "start_time": "2020-07-29T02:00:58.032865Z"
    },
    "hidden": true
   },
   "outputs": [],
   "source": [
    "#TODO: debug get_time_step until python can interpret it\n",
    "# retval(ud, vertex1_array, vertex2_array, d_array)\n",
    "#         anet_array_foo = get_anet_array_foo (vertex1_array, vertex2_array, d_array, d0_array, k0_array, vid1_array, vid2_array, vertex_array)\n",
    "\n",
    "# foo = retval(ud, vertex1_array, vertex2_array, d_array)\n",
    "# foo2= foo(ud, vertex1_array, vertex2_array, d_array)\n",
    "# (ud, vertex1_array, vertex2_array, d_array)"
   ]
  },
  {
   "cell_type": "code",
   "execution_count": 22,
   "metadata": {
    "ExecuteTime": {
     "end_time": "2020-08-01T20:39:43.835379Z",
     "start_time": "2020-08-01T20:39:43.785247Z"
    },
    "hidden": true
   },
   "outputs": [],
   "source": [
    "#TODO: debug get_anet_array_foo until python can interpret it\n",
    "\n",
    "def get_anet_array_foo (vertex1_array, vertex2_array, d_array, d0_array, k0_array, vid1_array, vid2_array, vertex_array):\n",
    "    '''compute the net spring force for each vertex.'''\n",
    "    f0_array_foo   = lambda vertex1_array, vertex2_array, d_array: compute_spring_forces ( vertex1_array, vertex2_array, d_array, d0_array, k0_array, vid1_array, vid2_array, vertex_array)\n",
    "#             fnet_array_foo = f0_array_foo  # + any other forces desired\n",
    "#             anet_array_foo = np.divide ( fnet_array_foo , mass_array ) \n",
    "    #             fnet_array_foo = lambda vertex1_array, vertex2_array, d_array: f0_array_foo ( vertex1_array, vertex2_array, d_array) # + any other forces desired\n",
    "    #             anet_array_foo = lambda vertex1_array, vertex2_array, d_array: np.divide ( fnet_array_foo ( vertex1_array, vertex2_array, d_array) , mass_array ) \n",
    "    return f0_array_foo \n"
   ]
  },
  {
   "cell_type": "code",
   "execution_count": 153,
   "metadata": {
    "ExecuteTime": {
     "end_time": "2020-07-29T01:45:08.453516Z",
     "start_time": "2020-07-29T01:45:08.414933Z"
    },
    "hidden": true
   },
   "outputs": [],
   "source": [
    "#compute the first time step\n",
    "# TODO: update Omegat, time\n",
    "# TODO: test ^this with a simple use case\n",
    "# TODO: njit ^this!!!"
   ]
  },
  {
   "cell_type": "code",
   "execution_count": 132,
   "metadata": {
    "ExecuteTime": {
     "end_time": "2020-07-29T01:42:35.949649Z",
     "start_time": "2020-07-29T01:42:35.900508Z"
    },
    "hidden": true
   },
   "outputs": [],
   "source": [
    "# TODO: repeated forward time step n times\n",
    "# TODO: test ^this with a simple use case\n",
    "# TODO: njit ^this!!!"
   ]
  },
  {
   "cell_type": "code",
   "execution_count": 277,
   "metadata": {
    "ExecuteTime": {
     "end_time": "2020-07-30T20:09:49.099862Z",
     "start_time": "2020-07-30T20:09:48.961723Z"
    },
    "hidden": true
   },
   "outputs": [],
   "source": [
    "#Functional Goal: time step the mechanics n times \n",
    "def time_step_n_times(x,X,n,h):\n",
    "    for k in range(n):\n",
    "        x += time_step(x,X,h)\n",
    "    return x\n",
    "def get_h(h = 10**-2):\n",
    "    '''constant time steps'''\n",
    "    return h"
   ]
  },
  {
   "cell_type": "markdown",
   "metadata": {},
   "source": [
    "# dev for simplest controller - FEI\n",
    "\n",
    "TODO(controller-main): naive FEI is unstable.  try making the simulation stable with the following\n",
    "- make the integration first order (viscous limit drag)\n",
    "- keep second order integration, but include a drag\n",
    "- use the IMR for position but not velocity, or use IMR in the first order version\n",
    "\n",
    "\n",
    "- failing ^this, move on to optimizing the action/energy functional\n",
    "    - shoudl the potential energy functional be spring or elastic?\n",
    "    \n",
    "    \n",
    "\n",
    "\n",
    "TODO: test if njitQ {run time noticably?} controls whether or not njit is used on the n steps forward in time functionality\n",
    "AFTER simplest controller has each part working, <br>\n",
    "use FEI for each of a \n",
    "- get fnet_array\n",
    "- get material position configuration fixed\n",
    "- get displacement configuration and velocity configuration\n",
    "- TODO: consider a 2D-interpolation to define the unit normal for pressure force calculations. for elastic force calculations?\n",
    "return the updated displacement field and velocity field (Bonus: acceleration field)\n",
    "\n",
    "\n",
    "- DONE: dev & test addition/removal of edges\n",
    "- DONE: dev & test initialization of system"
   ]
  },
  {
   "cell_type": "markdown",
   "metadata": {
    "heading_collapsed": true
   },
   "source": [
    "## dev for test at equilibrium"
   ]
  },
  {
   "cell_type": "code",
   "execution_count": 208,
   "metadata": {
    "ExecuteTime": {
     "end_time": "2020-08-02T02:10:45.021172Z",
     "start_time": "2020-08-02T02:10:44.982776Z"
    },
    "hidden": true
   },
   "outputs": [],
   "source": [
    "# #test getting use a constant time step size, h\n",
    "# h = get_h(h=0.01)#, beta=1.0, acceptedQ=True)\n",
    "# assert(h==0.01)"
   ]
  },
  {
   "cell_type": "code",
   "execution_count": 417,
   "metadata": {
    "ExecuteTime": {
     "end_time": "2020-08-04T00:46:56.138007Z",
     "start_time": "2020-08-04T00:46:56.076807Z"
    },
    "hidden": true
   },
   "outputs": [
    {
     "name": "stderr",
     "output_type": "stream",
     "text": [
      "face_normals all zero, ignoring!\n"
     ]
    }
   ],
   "source": [
    "import os, trimesh, numpy as np\n",
    "from lib.spring import *\n",
    "os.chdir(f'Data/spherical_meshes')\n",
    "mesh = trimesh.load('spherical_mesh_64.stl')\n",
    "os.chdir('../..')\n",
    "\n",
    "#subtract the center of mass\n",
    "mesh.vertices -= mesh.center_mass\n",
    "#normalize the mean radius to 1\n",
    "mesh.vertices /= np.cbrt(mesh.volume*3/(4*np.pi))\n",
    "\n",
    "#compute vertex masses for the displacement invariant barycentric discretization of a 2-D surface.\n",
    "mass_array = np.array ( [get_mass(vid, mesh, density = 1.) for vid in range(mesh.vertices.shape[0])] )\n",
    "\n",
    "Omegat = initialize_system(mesh, mass_array)\n",
    "tme = 0."
   ]
  },
  {
   "cell_type": "code",
   "execution_count": null,
   "metadata": {
    "ExecuteTime": {
     "end_time": "2020-08-04T00:45:04.354428Z",
     "start_time": "2020-08-04T00:45:04.308055Z"
    },
    "hidden": true
   },
   "outputs": [],
   "source": []
  },
  {
   "cell_type": "code",
   "execution_count": null,
   "metadata": {
    "ExecuteTime": {
     "end_time": "2020-08-04T00:46:02.412717Z",
     "start_time": "2020-08-04T00:46:02.366040Z"
    },
    "hidden": true
   },
   "outputs": [],
   "source": []
  },
  {
   "cell_type": "code",
   "execution_count": 418,
   "metadata": {
    "ExecuteTime": {
     "end_time": "2020-08-04T00:46:58.477063Z",
     "start_time": "2020-08-04T00:46:57.739988Z"
    },
    "hidden": true
   },
   "outputs": [],
   "source": [
    "# #test getting acceleration due to spring forces\n",
    "# anet_foo =  get_anet_foo(Omegat.precomputed_arguments, h, mode=1, verbose=False)\n",
    "# vertex1_array = Omegat.recomputed_arguments['vertex1_array']\n",
    "# vertex2_array = Omegat.recomputed_arguments['vertex2_array']\n",
    "# d_array       = Omegat.recomputed_arguments['d_array']\n",
    "# assert ( anet_foo(vertex1_array, vertex2_array, d_array) is not None )\n",
    "# assert ( not np.isnan( anet_foo(vertex1_array, vertex2_array, d_array) ).any() ) \n"
   ]
  },
  {
   "cell_type": "code",
   "execution_count": 419,
   "metadata": {
    "ExecuteTime": {
     "end_time": "2020-08-04T00:46:59.624854Z",
     "start_time": "2020-08-04T00:46:59.578089Z"
    },
    "hidden": true
   },
   "outputs": [],
   "source": [
    "# #test all forces were correctly initialized to zero\n",
    "# anet = anet_foo(vertex1_array, vertex2_array, d_array)\n",
    "# assert ( (0 == anet).all() )\n",
    "# assert ( (0 == anet_vertex1).all() )\n",
    "# assert ( (0 == anet_vertex2).all() )\n",
    "\n",
    "# #test that dipslacement, velocity, and acceleration fields are not nan\n",
    "# assert ( not np.isnan(Omegat.u).any() ) \n",
    "# assert ( not np.isnan(Omegat.ud).any() ) \n",
    "# assert ( not np.isnan(Omegat.udd).any() ) \n"
   ]
  },
  {
   "cell_type": "code",
   "execution_count": 258,
   "metadata": {
    "ExecuteTime": {
     "end_time": "2020-08-02T17:55:26.431890Z",
     "start_time": "2020-08-02T17:55:26.383523Z"
    },
    "hidden": true
   },
   "outputs": [],
   "source": [
    "# @njit\n",
    "# def distance_3D(a, b):\n",
    "#     '''a euclidian distance function in 3D real space'''\n",
    "#     out  = (a[0]-b[0])**2\n",
    "#     out += (a[1]-b[1])**2\n",
    "#     out += (a[2]-b[2])**2\n",
    "#     return np.sqrt(out)\n",
    "\n",
    "# @njit\n",
    "# def edges_unique_length(vertices1, vertices2):\n",
    "#     '''returns the distances between vertices1 and vertices2'''\n",
    "#     N = vertices1.shape[0]\n",
    "#     d_array = np.zeros(N,dtype=np.float32)\n",
    "#     for n in range(N):\n",
    "#         d_array[n] = distance_3D(vertices1[n], vertices2[n])\n",
    "#     return d_array "
   ]
  },
  {
   "cell_type": "code",
   "execution_count": 421,
   "metadata": {
    "ExecuteTime": {
     "end_time": "2020-08-04T00:47:08.246908Z",
     "start_time": "2020-08-04T00:47:08.204189Z"
    },
    "hidden": true
   },
   "outputs": [],
   "source": [
    "# #test distance_3D\n",
    "# a = np.array(range(3),dtype=np.float32)\n",
    "# assert ( np.isclose(distance_3D(a, a+1) , np.sqrt(3) ) )\n",
    "\n",
    "# # test edges_unique_length\n",
    "# vertices1 = Omegat.recomputed_arguments['vertex1_array']\n",
    "# vertices2 = Omegat.recomputed_arguments['vertex2_array']\n",
    "# d_array   = edges_unique_length(vertices1, vertices2)\n",
    "\n",
    "# assert ( d_array.shape == (756,) )"
   ]
  },
  {
   "cell_type": "code",
   "execution_count": 422,
   "metadata": {
    "ExecuteTime": {
     "end_time": "2020-08-04T00:47:09.902432Z",
     "start_time": "2020-08-04T00:47:09.858726Z"
    },
    "hidden": true
   },
   "outputs": [],
   "source": [
    "# def get_time_step(precomputed_arguments, h, mode=1, verbose=True, njitQ=True):\n",
    "#     anet_foo = get_anet_foo(precomputed_arguments=precomputed_arguments, h=h, mode=mode, verbose=verbose)\n",
    "#     vid1_array = precomputed_arguments['vid1_array']\n",
    "#     vid2_array = precomputed_arguments['vid2_array']\n",
    "#     X          = precomputed_arguments['vertex_array'] #X = material coordinates\n",
    "\n",
    "#     def time_step(vertex1_array, vertex2_array, d_array, u, ud, udd, h):\n",
    "#         #TODO(speed up time_step): move from edge basis to vertex basis only after all time steps occurred \n",
    "#         anet = anet_foo(vertex1_array, vertex2_array, d_array)\n",
    "#         udd = anet\n",
    "#         ud = ud + h*udd\n",
    "#         u  = u + h*ud\n",
    "#         x  = X + u\n",
    "        \n",
    "#         #update vertex1_array, vertex2_array, d_array\n",
    "#         vertices1 = x[vid1_array]\n",
    "#         vertices2 = x[vid2_array]\n",
    "#         d_array = edges_unique_length(vertices1, vertices2)\n",
    "#         return vertices1, vertices2, d_array, u, ud, udd, h\n",
    "    \n",
    "#     if njitQ:\n",
    "#         return njit(time_step)\n",
    "#     else:\n",
    "#         return time_step"
   ]
  },
  {
   "cell_type": "code",
   "execution_count": 423,
   "metadata": {
    "ExecuteTime": {
     "end_time": "2020-08-04T00:47:12.565095Z",
     "start_time": "2020-08-04T00:47:11.020149Z"
    },
    "hidden": true
   },
   "outputs": [],
   "source": [
    "# #test that the time_step is not returning any nan values\n",
    "# time_step = get_time_step(Omegat.precomputed_arguments, h=get_h(h=0.01), mode=1, verbose=False, njitQ=True)\n",
    "# retval = time_step(vertex1_array, vertex2_array, d_array, u, ud, udd, h)\n",
    "# for r in retval:\n",
    "#     assert ( not np.isnan(r).any() ) "
   ]
  },
  {
   "cell_type": "code",
   "execution_count": 425,
   "metadata": {
    "ExecuteTime": {
     "end_time": "2020-08-04T00:47:47.094580Z",
     "start_time": "2020-08-04T00:47:47.046302Z"
    },
    "hidden": true
   },
   "outputs": [],
   "source": [
    "def get_step_forward_n_times(precomputed_arguments, h, mode=1, verbose=True, njitQ=True):\n",
    "    '''returns forward euler integration, get_step_backward_n_times(vertex1_array, vertex2_array, d_array, u, ud, udd, h, nsteps), which \n",
    "    returns its updated arguments, vertex1_array, vertex2_array, d_array, u, ud, udd, h'''\n",
    "    time_step = get_time_step(precomputed_arguments=precomputed_arguments, h=h, mode=mode, verbose=verbose, njitQ=njitQ)\n",
    "    \n",
    "    def step_forward_n_times(vertex1_array, vertex2_array, d_array, u, ud, udd, h, nsteps):\n",
    "        for n in range(int(nsteps)):\n",
    "            vertex1_array, vertex2_array, d_array, u, ud, udd, h = time_step(vertex1_array, vertex2_array, d_array, u, ud, udd, h)\n",
    "        return vertex1_array, vertex2_array, d_array, u, ud, udd, h\n",
    "    \n",
    "    if njitQ:\n",
    "        return njit(step_forward_n_times)\n",
    "    else:\n",
    "        return step_forward_n_times\n",
    "\n",
    "def get_step_backward_n_times(precomputed_arguments, h, mode=1, verbose=True, njitQ=True):\n",
    "    '''returns naive backward euler integration, get_step_backward_n_times(vertex1_array, vertex2_array, d_array, u, ud, udd, h, nsteps), which \n",
    "    returns its updated arguments, vertex1_array, vertex2_array, d_array, u, ud, udd, h'''\n",
    "    time_step = get_time_step(precomputed_arguments=precomputed_arguments, h=h, mode=mode, verbose=verbose, njitQ=njitQ)\n",
    "    \n",
    "    def step_backward_n_times(vertex1_array, vertex2_array, d_array, u, ud, udd, h, nsteps):\n",
    "        for n in range(int(nsteps)):\n",
    "            vertex1_array, vertex2_array, d_array, u, ud, udd, h = time_step(vertex1_array, vertex2_array, d_array, u, ud, udd, -h)\n",
    "        return vertex1_array, vertex2_array, d_array, u, ud, udd, h\n",
    "    \n",
    "    if njitQ:\n",
    "        return njit(step_backward_n_times)\n",
    "    else:\n",
    "        return step_backward_n_times"
   ]
  },
  {
   "cell_type": "code",
   "execution_count": null,
   "metadata": {
    "hidden": true
   },
   "outputs": [],
   "source": [
    "#test stepping forward\n",
    "nsteps = 100\n",
    "h = get_h(h=0.01)\n",
    "u  = Omegat.u\n",
    "ud = Omegat.ud\n",
    "udd= Omegat.udd\n",
    "vertex1_array = Omegat.recomputed_arguments['vertex1_array']\n",
    "vertex2_array = Omegat.recomputed_arguments['vertex2_array']\n",
    "d_array   = edges_unique_length(vertex1_array, vertex2_array) \n",
    "\n",
    "step_forward_n_times = get_step_forward_n_times(Omegat.precomputed_arguments, h, mode=1, verbose=True, njitQ=True)\n",
    "\n",
    "vertices1, vertices2, d_array, u, ud, udd, h = step_forward_n_times(vertex1_array, vertex2_array, d_array, u, ud, udd, h, nsteps)\n",
    "tme += h*nsteps\n",
    "\n",
    "#test that dipslacement, velocity, and acceleration fields are not nan\n",
    "assert ( not np.isnan(u).any() ) \n",
    "assert ( not np.isnan(ud).any() ) \n",
    "assert ( not np.isnan(udd).any() ) \n",
    "\n",
    "Omegat.u   = u\n",
    "Omegat.ud  = ud\n",
    "Omegat.udd = udd\n",
    "Omegat     = update_mesh(Omegat,u)"
   ]
  },
  {
   "cell_type": "code",
   "execution_count": 500,
   "metadata": {
    "ExecuteTime": {
     "end_time": "2020-08-04T17:14:31.181669Z",
     "start_time": "2020-08-04T17:14:31.087862Z"
    },
    "hidden": true
   },
   "outputs": [],
   "source": [
    "assert (Omegat)"
   ]
  },
  {
   "cell_type": "markdown",
   "metadata": {},
   "source": [
    "## testing forward euler integration with nsteps (it's unstable)"
   ]
  },
  {
   "cell_type": "code",
   "execution_count": 501,
   "metadata": {
    "ExecuteTime": {
     "end_time": "2020-08-04T17:17:15.138547Z",
     "start_time": "2020-08-04T17:17:15.062373Z"
    }
   },
   "outputs": [
    {
     "name": "stderr",
     "output_type": "stream",
     "text": [
      "face_normals all zero, ignoring!\n"
     ]
    }
   ],
   "source": [
    "import os, trimesh, numpy as np\n",
    "from lib.spring import *\n",
    "os.chdir(f'Data/spherical_meshes')\n",
    "mesh = trimesh.load('spherical_mesh_64.stl')\n",
    "os.chdir('../..')\n",
    "\n",
    "#subtract the center of mass\n",
    "mesh.vertices -= mesh.center_mass\n",
    "#normalize the mean radius to 1\n",
    "mesh.vertices /= np.cbrt(mesh.volume*3/(4*np.pi))\n",
    "\n",
    "#compute vertex masses for the displacement invariant barycentric discretization of a 2-D surface.\n",
    "mass_array = np.array ( [get_mass(vid, mesh, density = 1.) for vid in range(mesh.vertices.shape[0])] )\n",
    "\n",
    "Omegat = initialize_system(mesh, mass_array)\n",
    "tme = 0."
   ]
  },
  {
   "cell_type": "code",
   "execution_count": 502,
   "metadata": {
    "ExecuteTime": {
     "end_time": "2020-08-04T17:17:16.430136Z",
     "start_time": "2020-08-04T17:17:16.379387Z"
    }
   },
   "outputs": [
    {
     "name": "stdout",
     "output_type": "stream",
     "text": [
      "4.18879020478639\n"
     ]
    }
   ],
   "source": [
    "#specify spring force parameters for contracting all edges by 50%\n",
    "vol_frac = 0.5\n",
    "d0_array = vol_frac*np.array(mesh.edges_unique_length, dtype=float)\n",
    "k0_array = np.ones_like(vertex1_array[...,0], dtype=float)\n",
    "\n",
    "Omegat.precomputed_arguments['d0_array'] = d0_array.copy()\n",
    "Omegat.precomputed_arguments['k0_array'] = k0_array.copy()\n",
    "\n",
    "print(Omegat.volume)"
   ]
  },
  {
   "cell_type": "code",
   "execution_count": 503,
   "metadata": {
    "ExecuteTime": {
     "end_time": "2020-08-04T17:17:23.297060Z",
     "start_time": "2020-08-04T17:17:20.504281Z"
    }
   },
   "outputs": [
    {
     "name": "stdout",
     "output_type": "stream",
     "text": [
      "explicit forward euler integration is used in the time_step function returned.\n",
      "Example usage: u,ud = time_step(\n",
      "\th,\n",
      "\tvertex1_array,\n",
      "\tvertex2_array,\n",
      "\td_array,\n",
      ")\n"
     ]
    }
   ],
   "source": [
    "nsteps = 100\n",
    "h = get_h(h=0.001)\n",
    "u  = Omegat.u\n",
    "ud = Omegat.ud\n",
    "udd= Omegat.udd\n",
    "vertex1_array = Omegat.recomputed_arguments['vertex1_array']\n",
    "vertex2_array = Omegat.recomputed_arguments['vertex2_array']\n",
    "d_array   = edges_unique_length(vertex1_array, vertex2_array) \n",
    "\n",
    "step_forward_n_times = get_step_forward_n_times(Omegat.precomputed_arguments, h, mode=1, verbose=True, njitQ=True)\n",
    "\n",
    "vertices1, vertices2, d_array, u, ud, udd, h = step_forward_n_times(vertex1_array, vertex2_array, d_array, u, ud, udd, h, nsteps)\n",
    "tme += h*nsteps\n",
    "\n",
    "#test that dipslacement, velocity, and acceleration fields are not nan\n",
    "assert ( not np.isnan(u).any() ) \n",
    "assert ( not np.isnan(ud).any() ) \n",
    "assert ( not np.isnan(udd).any() ) \n",
    "\n",
    "Omegat.u   = u\n",
    "Omegat.ud  = ud\n",
    "Omegat.udd = udd\n",
    "Omegat     = update_mesh(Omegat,u)"
   ]
  },
  {
   "cell_type": "code",
   "execution_count": 504,
   "metadata": {
    "ExecuteTime": {
     "end_time": "2020-08-04T17:17:24.398078Z",
     "start_time": "2020-08-04T17:17:24.359963Z"
    }
   },
   "outputs": [
    {
     "data": {
      "text/plain": [
       "4.194445048568943"
      ]
     },
     "execution_count": 504,
     "metadata": {},
     "output_type": "execute_result"
    }
   ],
   "source": [
    "Omegat.volume"
   ]
  },
  {
   "cell_type": "code",
   "execution_count": null,
   "metadata": {
    "ExecuteTime": {
     "end_time": "2020-08-03T21:36:08.166211Z",
     "start_time": "2020-08-03T21:36:08.116499Z"
    }
   },
   "outputs": [],
   "source": []
  },
  {
   "cell_type": "code",
   "execution_count": null,
   "metadata": {
    "ExecuteTime": {
     "end_time": "2020-08-03T21:43:57.117341Z",
     "start_time": "2020-08-03T21:43:57.065547Z"
    }
   },
   "outputs": [],
   "source": []
  },
  {
   "cell_type": "code",
   "execution_count": 251,
   "metadata": {
    "ExecuteTime": {
     "end_time": "2020-08-02T17:50:13.203552Z",
     "start_time": "2020-08-02T17:50:13.165776Z"
    }
   },
   "outputs": [],
   "source": [
    "# #test that the shape of the displacement field is that of the vertices\n",
    "# assert ( Omegat.u.shape == Omegat.vertices.shape ) "
   ]
  },
  {
   "cell_type": "code",
   "execution_count": null,
   "metadata": {
    "ExecuteTime": {
     "end_time": "2020-08-02T18:01:48.476517Z",
     "start_time": "2020-08-02T18:01:48.440340Z"
    }
   },
   "outputs": [],
   "source": []
  },
  {
   "cell_type": "code",
   "execution_count": 361,
   "metadata": {
    "ExecuteTime": {
     "end_time": "2020-08-03T21:43:53.809075Z",
     "start_time": "2020-08-03T21:43:53.762001Z"
    }
   },
   "outputs": [],
   "source": [
    "# #test time step\n",
    "# # time_step(vertices1, vertices2, d_array, u, ud, udd, h)\n",
    "# ## def get_time_step(precomputed_arguments, h, mode=1, verbose=True):\n",
    "# # # \treturn get_anet_foo(precomputed_arguments=precomputed_arguments, h=mode, mode=mode, verbose=verbose)\n",
    "# nsteps = 100000\n",
    "# u  = Omegat.u\n",
    "# ud = Omegat.ud\n",
    "# udd= Omegat.udd\n",
    "\n",
    "# def step_forward_n_times(vertex1_array, vertex2_array, d_array, u, ud, udd, h, n):\n",
    "#     for n in range(nsteps):\n",
    "#         vertices1, vertices2, d_array, u, ud, udd, h = time_step(vertex1_array, vertex2_array, d_array, u, ud, udd, h)\n",
    "#     return vertices1, vertices2, d_array, u, ud, udd, h\n",
    "\n",
    "# # vertices1, vertices2, d_array, u, ud, udd, h = step_forward_n_times(vertex1_array, vertex2_array, d_array, u, ud, udd, h,n)\n",
    "\n",
    "# # Omegat.u   = u\n",
    "# # Omegat.ud  = ud\n",
    "# # Omegat.udd = udd\n",
    "# # Omegat     = update_mesh(Omegat,u)"
   ]
  },
  {
   "cell_type": "code",
   "execution_count": null,
   "metadata": {
    "ExecuteTime": {
     "end_time": "2020-08-02T02:16:49.186999Z",
     "start_time": "2020-08-02T02:16:49.149915Z"
    }
   },
   "outputs": [],
   "source": [
    "#TODO: tests forward/backward stepping\n",
    "\n",
    "#TODO: profile run n steps\n",
    "#TODO: plot runtime on y axis and step number on x axis\n",
    "\n",
    "#TODO: plot the volume of a contraction versus time\n",
    "\n",
    "\n",
    "\n",
    "#TODO: test get_time_step\n",
    "\n",
    "\n",
    "# get anet from a ball-and-spring model with barycentric mass weights and massless springs with spring constants k0_array and d0_array\n",
    "#precompute/optimize pythonic spring-force calculations\n",
    "# anet_array_foo = get_anet_array_foo (vertex1_array, vertex2_array, d_array, d0_array, k0_array, vid1_array, vid2_array, vertex_array)\n",
    "\n",
    "#evaluate forces\n",
    "# anet_array = anet_array_foo(vertex1_array, vertex2_array, d_array)\n",
    "#notice that ^this can do 756 force computations in ~50 milliseconds, for sphere_64.stl, which has 756 edges.\n",
    "\n"
   ]
  },
  {
   "cell_type": "code",
   "execution_count": 84,
   "metadata": {
    "ExecuteTime": {
     "end_time": "2020-08-02T00:31:14.899470Z",
     "start_time": "2020-08-02T00:31:14.848058Z"
    }
   },
   "outputs": [],
   "source": [
    "#TODO: get_stepper\n",
    "# #         @njit\n",
    "# \t\tdef get_stepper (h, u, ud, anet_array_foo):\n",
    "# \t\t\t'''example usage: \n",
    "# \t\t\ttime_step = get_time_step (h, u, ud, anet_array_foo) \n",
    "# \t\t\tu_new = time_step(u, ud, vertex1_array, vertex2_array, d_array)\n",
    "# \t\t\tTODO: write functional controller methods get_forward_integrate_n_steps\n",
    "# \t\t\tTODO: minimalist test cases.  debug until it works\n",
    "# \t\t\tTODO: njit this\n",
    "# \t\t\t'''\n",
    "# \t\t\t#                 dudt  = lambda ud, vertex1_array, vertex2_array, d_array: get_dudt (h, ud, anet_array_foo )\n",
    "# \t\t\tdudt  = get_dudt (h, anet_array_foo )\n",
    "# #             time_step = lambda u, ud, vertex1_array, vertex2_array, d_array : u + np.multiply(h , get_dudt (h, ud, anet_array_foo ))\n",
    "# #             time_step = lambda u, ud, vertex1_array, vertex2_array, d_array : u + h * dudt (ud, vertex1_array, vertex2_array, d_array)\n",
    "# #             def time_step(u, ud, vertex1_array, vertex2_array, d_array ) : \n",
    "# #                 return u + h * dudt (ud, vertex1_array, vertex2_array, d_array)\n",
    "# #             return dudt\n",
    "# \t\t\treturn dudt"
   ]
  }
 ],
 "metadata": {
  "kernelspec": {
   "display_name": "Python 3",
   "language": "python",
   "name": "python3"
  },
  "language_info": {
   "codemirror_mode": {
    "name": "ipython",
    "version": 3
   },
   "file_extension": ".py",
   "mimetype": "text/x-python",
   "name": "python",
   "nbconvert_exporter": "python",
   "pygments_lexer": "ipython3",
   "version": "3.8.6"
  },
  "toc": {
   "base_numbering": 1,
   "nav_menu": {},
   "number_sections": false,
   "sideBar": false,
   "skip_h1_title": false,
   "title_cell": "Table of Contents",
   "title_sidebar": "Contents",
   "toc_cell": false,
   "toc_position": {},
   "toc_section_display": false,
   "toc_window_display": false
  },
  "varInspector": {
   "cols": {
    "lenName": 16,
    "lenType": 16,
    "lenVar": 40
   },
   "kernels_config": {
    "python": {
     "delete_cmd_postfix": "",
     "delete_cmd_prefix": "del ",
     "library": "var_list.py",
     "varRefreshCmd": "print(var_dic_list())"
    },
    "r": {
     "delete_cmd_postfix": ") ",
     "delete_cmd_prefix": "rm(",
     "library": "var_list.r",
     "varRefreshCmd": "cat(var_dic_list()) "
    }
   },
   "types_to_exclude": [
    "module",
    "function",
    "builtin_function_or_method",
    "instance",
    "_Feature"
   ],
   "window_display": false
  }
 },
 "nbformat": 4,
 "nbformat_minor": 2
}
