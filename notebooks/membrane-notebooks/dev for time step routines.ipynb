{
 "cells": [
  {
   "cell_type": "code",
   "execution_count": 18,
   "metadata": {
    "ExecuteTime": {
     "end_time": "2020-07-17T15:29:49.678839Z",
     "start_time": "2020-07-17T15:29:49.626305Z"
    }
   },
   "outputs": [],
   "source": [
    "#Functional Goal: time step the mechanics n times \n",
    "def time_step(x,X,h):\n",
    "    '''TODO: define the simplest productive time step \n",
    "    - unbiased R.W. that only accepts local improvements.\n",
    "    - 1. FEI directed by elastic model.\n",
    "    - 2. FEI directed by spring model.\n",
    "    - 3. Newmark directed by elastic model.\n",
    "    - 4. Newmark directed by spring model.\n",
    "    - R.W. that only accepts local improvements, with steps directed spring/elastic model.\n",
    "    - '''\n",
    "    return 0.\n",
    "def time_step_n_times(x,X,h,n):\n",
    "    for k in range(n):\n",
    "        x += time_step(x,X,h)\n",
    "    return x\n",
    "def get_h(h = 10**-2):\n",
    "    '''constant time steps'''\n",
    "    return h\n",
    "def get_h(h = 10**-2, beta = 1., acceptedQ=True):\n",
    "    '''exponential adaptive time steps\n",
    "    h = most recent time step,\n",
    "    acceptedQ = whether the most recent time step was accepted,\n",
    "    beta = stepsize change in parameter.\n",
    "    **caution** this get_h could be unstable/inefficient with any unbiased R.W..\n",
    "    Use it with steps directed towards the minimizer\n",
    "    '''\n",
    "    return h\n",
    "\n",
    "mesh.vertices = time_step_n_times(\n",
    "    mesh.vertices,\n",
    "    X,\n",
    "    get_h(),\n",
    "    n=1)"
   ]
  },
  {
   "cell_type": "markdown",
   "metadata": {},
   "source": [
    "# Development of Newmark Time Stepping\n",
    "Tim Tyree<br>\n",
    "7.16.2020"
   ]
  },
  {
   "cell_type": "code",
   "execution_count": 1,
   "metadata": {
    "ExecuteTime": {
     "end_time": "2020-07-17T02:03:32.388420Z",
     "start_time": "2020-07-17T02:03:30.417702Z"
    }
   },
   "outputs": [
    {
     "name": "stdout",
     "output_type": "stream",
     "text": [
      "Automatic calling is: Smart\n"
     ]
    }
   ],
   "source": [
    "import numpy as np, pandas as pd, matplotlib.pyplot as plt\n",
    "from mpl_toolkits.mplot3d import Axes3D  \n",
    "\n",
    "#automate the boring stuff\n",
    "from IPython import utils\n",
    "import time, os, sys, re\n",
    "beep = lambda x: os.system(\"echo -n '\\\\a';sleep 0.2;\" * x)\n",
    "if not 'nb_dir' in globals():\n",
    "    nb_dir = os.getcwd()\n",
    "sys.path.append(\"../lib\") \n",
    "from lib import *\n",
    "sys.path.append(\"lib\") \n",
    "from lib import *\n",
    "\n",
    "# from operari import *\n",
    "# from ProgressBar import *\n",
    "# from mesh_ops import *\n",
    "\n",
    "# the visualization tools involved here for triangular meshes is\n",
    "import trimesh\n",
    "import pyglet\n",
    "from numba import njit, cuda\n",
    "# from numba.typed import List\n",
    "# import numba\n",
    "import trimesh\n",
    "\n",
    "#try using a scipy sparse matrix to speed up spring force evaluations\n",
    "#TODO: speed up bigger meshes with pycuda's sparce matrices\n",
    "from scipy.sparse import csr_matrix\n",
    "import scipy.sparse as sparse\n",
    "\n",
    "\n",
    "\n",
    "# from pyspark import SparkContext \n",
    "# sc = SparkContext(master=\"local[4]\")\n",
    "# print(sc)\n",
    "\n",
    "\n",
    "%autocall 1\n",
    "%load_ext autoreload\n",
    "%autoreload 2"
   ]
  },
  {
   "cell_type": "markdown",
   "metadata": {},
   "source": [
    "## For a Single Point With Net Input Forces Given, in Numpy"
   ]
  },
  {
   "cell_type": "code",
   "execution_count": 5,
   "metadata": {
    "ExecuteTime": {
     "end_time": "2020-07-16T20:52:24.152753Z",
     "start_time": "2020-07-16T20:52:24.035323Z"
    }
   },
   "outputs": [],
   "source": [
    "import numpy as np\n",
    "from numpy import zeros,dot,atleast_1d\n",
    "from scipy import linalg"
   ]
  },
  {
   "cell_type": "code",
   "execution_count": 7,
   "metadata": {
    "ExecuteTime": {
     "end_time": "2020-07-16T20:52:28.370503Z",
     "start_time": "2020-07-16T20:52:28.368024Z"
    }
   },
   "outputs": [],
   "source": [
    "# adapted from the following incumbent\n",
    "##########################################################################\n",
    "# program: Newmark.py\n",
    "# author: Tom Irvine\n",
    "# version: 1.4\n",
    "# date: May 1, 2012\n",
    "# description:  solution of a system of second-order ODEs for a dynamic\n",
    "#               system via the Newmark-beta method\n",
    "#\n",
    "##########################################################################"
   ]
  },
  {
   "cell_type": "code",
   "execution_count": 8,
   "metadata": {
    "ExecuteTime": {
     "end_time": "2020-07-16T20:52:28.604121Z",
     "start_time": "2020-07-16T20:52:28.598188Z"
    }
   },
   "outputs": [],
   "source": [
    "def Newmark_coefficients(dt):\n",
    "    alpha=0.25\n",
    "    beta=0.5\n",
    "\n",
    "    a0=1/(alpha*(dt**2))\n",
    "    a1=beta/(alpha*dt)\n",
    "    a2=1/(alpha*dt)\n",
    "    a3=(1/(2*alpha))-1\n",
    "    a4=(beta/alpha)-1\n",
    "    a5=(dt/2)*((beta/alpha)-2)\n",
    "    a6=dt*(1-beta)\n",
    "    a7=beta*dt\n",
    "\n",
    "    return a0,a1,a2,a3,a4,a5,a6,a7"
   ]
  },
  {
   "cell_type": "code",
   "execution_count": 15,
   "metadata": {
    "ExecuteTime": {
     "end_time": "2020-07-16T20:53:30.416882Z",
     "start_time": "2020-07-16T20:53:30.413002Z"
    }
   },
   "outputs": [
    {
     "data": {
      "text/plain": [
       "(1599.9999999999998, 40.0, 80.0, 1.0, 1.0, 0.0, 0.025, 0.025)"
      ]
     },
     "execution_count": 15,
     "metadata": {},
     "output_type": "execute_result"
    }
   ],
   "source": [
    "Newmark_coefficients(dt=.05)"
   ]
  },
  {
   "cell_type": "code",
   "execution_count": 9,
   "metadata": {
    "ExecuteTime": {
     "end_time": "2020-07-16T20:52:28.811469Z",
     "start_time": "2020-07-16T20:52:28.804590Z"
    }
   },
   "outputs": [],
   "source": [
    "def Newmark_initialize(ndof,a0,a1,M,C,K,NT,DI,VI):\n",
    "\n",
    "    nlength=len(atleast_1d(M)) \n",
    "\n",
    "    KH=zeros((ndof,ndof),float)\n",
    "\n",
    "    KH=K+a0*M+a1*C\n",
    "\n",
    "    if(nlength==1):\n",
    "\n",
    "        U=zeros(NT,float)\n",
    "        Ud=zeros(NT,float)\n",
    "        Udd=zeros(NT,float)\n",
    "\n",
    "        U[0]=DI\n",
    "        Ud[0]=VI\n",
    "            \n",
    "    else:\n",
    "\n",
    "        U=zeros((ndof,NT),float)\n",
    "        Ud=zeros((ndof,NT),float)\n",
    "        Udd=zeros((ndof,NT),float)\n",
    "\n",
    "        U[:,0]=DI\n",
    "        Ud[:,0]=VI\n",
    "\n",
    "    return U,Ud,Udd,KH"
   ]
  },
  {
   "cell_type": "code",
   "execution_count": 10,
   "metadata": {
    "ExecuteTime": {
     "end_time": "2020-07-16T20:52:29.010404Z",
     "start_time": "2020-07-16T20:52:28.997894Z"
    }
   },
   "outputs": [],
   "source": [
    "def Newmark_force(M,C,K,FFI,force_dof,VI,DI,dt,NT,ndof):\n",
    "    \"\"\"\n",
    "    input\n",
    "\n",
    "    M = mass matrix\n",
    "    C = damping matrix\n",
    "    K = stiffness matrix\n",
    "\n",
    "    FFI = interpolated force matrix\n",
    "    force_dof = connects forces with dofs\n",
    "\n",
    "    VI = initial velocity\n",
    "    DI = initial displacement\n",
    "\n",
    "      dt = time step\n",
    "      NT = number of time points\n",
    "    ndof = number of degrees of freedom\n",
    "\n",
    "    output\n",
    "\n",
    "      U = displacement\n",
    "     Ud = velocity\n",
    "    Udd = acceleration\n",
    "\n",
    "    \"\"\"\n",
    "\n",
    "    a0,a1,a2,a3,a4,a5,a6,a7=Newmark_coefficients(dt)\n",
    "\n",
    "    U,Ud,Udd,KH=Newmark_initialize(ndof,a0,a1,M,C,K,NT,DI,VI)\n",
    "\n",
    "\n",
    "    for i in range (1,NT):\n",
    "\n",
    "        V1=(a1*U[:,i-1]+a4*Ud[:,i-1]+a5*Udd[:,i-1])\n",
    "        V2=(a0*U[:,i-1]+a2*Ud[:,i-1]+a3*Udd[:,i-1])\n",
    "\n",
    "        CV=dot(C,V1)\n",
    "        MA=dot(M,V2)\n",
    "\n",
    "\n",
    "#  apply forces\n",
    "\n",
    "        F=zeros(ndof,float)\n",
    "\n",
    "        for j in range (0,ndof):\n",
    "\n",
    "            j_index=force_dof[j]\n",
    "\n",
    "            if(j_index!=-999):\n",
    "\n",
    "                F[j]=FFI[i,j_index]\n",
    "\n",
    "\n",
    "        FH=F+MA+CV\n",
    "\n",
    "#  solve for displacements\n",
    "\n",
    "        if(ndof>1):\n",
    "            Un = linalg.solve(KH, FH)\n",
    "        else:\n",
    "            Un=FH/KH\n",
    "\n",
    "        Uddn=a0*(Un-U[:,i-1])-a2*Ud[:,i-1]-a3*Udd[:,i-1]\n",
    "        Udn=Ud[:,i-1]+a6*Udd[:,i-1]+a7*Uddn\n",
    "\n",
    "\n",
    "        U[:,i]=Un\n",
    "        Ud[:,i]=Udn\n",
    "        Udd[:,i]=Uddn\n",
    "\n",
    "    return U.T,Ud.T,Udd.T"
   ]
  },
  {
   "cell_type": "code",
   "execution_count": 17,
   "metadata": {
    "ExecuteTime": {
     "end_time": "2020-07-16T22:07:26.742636Z",
     "start_time": "2020-07-16T22:07:26.739319Z"
    }
   },
   "outputs": [],
   "source": [
    "def StarEnergy(self, others):\n",
    "    retval = Newmark_initialize(ndof,a0,a1,M,C,K,NT,DI,VI) #TODO\n",
    "    for other in others:\n",
    "        retval += Change_in_Energy(self, others) #TODO\n",
    "    return retval"
   ]
  },
  {
   "cell_type": "markdown",
   "metadata": {},
   "source": [
    "# TODO: thumb through the library of SublimeText and find an estimate of local energy for constitutive model, E(X) = _Energy_in_the_Star_radius_(X) is an extrinsic estimate while \\Psi(X) is an intrinstic measure of the ground state that relaxes on a reletively slow electrophysiological time scale, 1ms.\n",
    "\n",
    "$\\tau_\\text{EM}=\\tau_\\text{Electromotive}\\sim1\\,ms \\ll 25\\mu s\\sim \\tau_\\text{EP}=\\tau_\\text{Electrophysiological}$"
   ]
  },
  {
   "cell_type": "markdown",
   "metadata": {},
   "source": [
    "# Generate an array of randomized steps\n",
    "TODO: try improving ^this model by using a different step size in the normal direction defined by the stable configuration given."
   ]
  },
  {
   "cell_type": "code",
   "execution_count": 9,
   "metadata": {
    "ExecuteTime": {
     "end_time": "2020-07-17T02:07:32.034125Z",
     "start_time": "2020-07-17T02:07:31.996009Z"
    }
   },
   "outputs": [],
   "source": [
    "#TODO: define a numpy function that defines a random unbiased step for each vertex\n",
    "#TODO: find the (i) the continuum constitutive relations and (i) the spring constitutive relations\n",
    "#TODO: define an energy density function as the sum of those of the neighboring triangles\n",
    "#TODO: define several energy functionals\n",
    "#TODO: define an accept/reject energy functional\n",
    "\n",
    "X = mesh.vertices\n",
    "#TODO: initialize displacement field to zero\n",
    "U = mesh.vertices - X\n",
    "def accept_step_query():\n",
    "    pass"
   ]
  },
  {
   "cell_type": "code",
   "execution_count": 2,
   "metadata": {
    "ExecuteTime": {
     "end_time": "2020-07-17T02:03:35.000842Z",
     "start_time": "2020-07-17T02:03:34.965345Z"
    }
   },
   "outputs": [],
   "source": [
    "import trimesh, numpy as np, numba\n",
    "from numba import njit,jit"
   ]
  },
  {
   "cell_type": "code",
   "execution_count": 8,
   "metadata": {
    "ExecuteTime": {
     "end_time": "2020-07-17T02:07:27.691850Z",
     "start_time": "2020-07-17T02:07:27.650731Z"
    }
   },
   "outputs": [
    {
     "name": "stderr",
     "output_type": "stream",
     "text": [
      "face_normals all zero, ignoring!\n"
     ]
    }
   ],
   "source": [
    "#TODO: import mesh of sphere to define X\n",
    "mesh_dir = nb_dir+\"/Data/spherical_meshes/spherical_mesh_64.stl\"\n",
    "mesh = trimesh.load_mesh(mesh_dir)\n",
    "X = mesh.vertices #\\Omega_0 is the initially given configuration\n",
    "x = X # set \\Omega_{t=0} = \\Omega_0\n",
    "# mesh.show()"
   ]
  },
  {
   "cell_type": "markdown",
   "metadata": {},
   "source": [
    "$$\\Phi(X_i) \\equiv \\sum_{j=1}^{N_{X_i}}\\Phi_j$$\n",
    "\n",
    "Where $\\Phi_j=$ is the energy density of the $j^{th}$ triangle neighboring the $i^{th}$ point $X_i$ located at $x(t)$ on the surface $\\Omega_t$."
   ]
  },
  {
   "cell_type": "markdown",
   "metadata": {},
   "source": [
    "### define the energy of one triangle for the corotated linear model\n",
    "from the notebook, \"Elastic Model of RA\", we have"
   ]
  },
  {
   "cell_type": "code",
   "execution_count": null,
   "metadata": {},
   "outputs": [],
   "source": []
  },
  {
   "cell_type": "code",
   "execution_count": null,
   "metadata": {},
   "outputs": [],
   "source": [
    "tet = np.stack((dm1,dm2,Am))\n",
    "#half of the determinant of tet is the squared area of the triangle.\n",
    "np.linalg.det(tet)/2==Am.dot(Am)\n",
    "np.linalg.eigvals(tet)"
   ]
  },
  {
   "cell_type": "markdown",
   "metadata": {},
   "source": [
    "# TODO: consider mapping between manifolds using scipy.optimize.minimize on some energy loss function.\n",
    "methods str or callable, optional\n",
    "Type of solver. Should be one of\n",
    "- ‘Nelder-Mead’ (see here)\n",
    "- ‘Powell’ (see here)\n",
    "- ‘CG’ (see here)\n",
    "- ‘BFGS’ (see here)\n",
    "- ‘Newton-CG’ (see here)\n",
    "- ‘L-BFGS-B’ (see here)\n",
    "- ‘TNC’ (see here)\n",
    "- ‘COBYLA’ (see here)\n",
    "- ‘SLSQP’ (see here)\n",
    "- ‘trust-constr’(see here)\n",
    "- ‘dogleg’ (see here)\n",
    "- ‘trust-ncg’ (see here)\n",
    "- ‘trust-exact’ (see here)\n",
    "- ‘trust-krylov’ (see here)\n",
    "- custom - a callable object (added in version 0.14.0), see below for description."
   ]
  },
  {
   "cell_type": "code",
   "execution_count": 40,
   "metadata": {
    "ExecuteTime": {
     "end_time": "2020-07-17T16:41:56.003152Z",
     "start_time": "2020-07-17T16:41:55.918887Z"
    }
   },
   "outputs": [],
   "source": [
    "from numba import vectorize\n",
    "@vectorize('float32(float32, float32)')#, target='gpu')\n",
    "def VectorAdd(a,b):\n",
    "    return a + b\n",
    "a = np.array(range(5),dtype=np.float32)\n"
   ]
  },
  {
   "cell_type": "code",
   "execution_count": 43,
   "metadata": {
    "ExecuteTime": {
     "end_time": "2020-07-17T16:41:58.991273Z",
     "start_time": "2020-07-17T16:41:58.950403Z"
    }
   },
   "outputs": [
    {
     "data": {
      "text/plain": [
       "array([0., 2., 4., 6., 8.], dtype=float32)"
      ]
     },
     "execution_count": 43,
     "metadata": {},
     "output_type": "execute_result"
    }
   ],
   "source": [
    "VectorAdd(a,a)"
   ]
  },
  {
   "cell_type": "markdown",
   "metadata": {},
   "source": [
    "# TODO: finish reading Augustin (2020).\n",
    "\n",
    "\n",
    "See handwritten notes on Augustin (2020) \n",
    "\n",
    "which is a spacetime generalization of variational integrators that allows you to take different timesteps for different elements, which is important as slivers in the mesh often force you to take very small timesteps because of the CFL condition, and a global tensor product spacetime mesh would mean that the entire domain has to be advanced using that small timestep.\n",
    "\n",
    "After today, I'll test that and see if I can reproduce the tests on an AVI on 2D flat space tessellated by triangles.  Once that works, I'll embed an example patient's atrium in 3D space, and tesselated it with triangles, and run the xgboost code on it, where I could smoothly track spiral tips on the atrial surface using a ray tracing projection onto the bezier surface generated by the patient's vertices as control knots.  \n"
   ]
  },
  {
   "cell_type": "markdown",
   "metadata": {},
   "source": [
    "\n",
    "# TODO(after basic mvc pattern filled out): consider using a bezier surface to interpolate between the cardiac  surfaces that are updated at a time resolution of 1ms "
   ]
  },
  {
   "cell_type": "markdown",
   "metadata": {},
   "source": [
    "# TODO: write corotated linear strain energy functional\n",
    "and then,\n",
    "\n",
    "#TODO: create symplectic representation of the displacement and the rate of change of its displacement field, Q = (X, U)\n",
    "#TODO: compute total energy for mesh H = (T+V)\n",
    "#TODO: compute total action for mesh L = (T-V)\n",
    "\n",
    "#TODO: minimize the action using scipy.optimize.minimize for any of the given methods\n",
    "#TODO: if the first method doesn't work, try the next method."
   ]
  },
  {
   "cell_type": "code",
   "execution_count": 44,
   "metadata": {
    "ExecuteTime": {
     "end_time": "2020-07-17T21:12:56.509678Z",
     "start_time": "2020-07-17T21:12:55.927653Z"
    }
   },
   "outputs": [
    {
     "name": "stdout",
     "output_type": "stream",
     "text": [
      "Automatic calling is: Smart\n",
      "The autoreload extension is already loaded. To reload it, use:\n",
      "  %reload_ext autoreload\n"
     ]
    }
   ],
   "source": [
    "import numpy as np, pandas as pd, matplotlib.pyplot as plt\n",
    "from mpl_toolkits.mplot3d import Axes3D  \n",
    "\n",
    "#automate the boring stuff\n",
    "from IPython import utils\n",
    "import time, os, sys, re\n",
    "beep = lambda x: os.system(\"echo -n '\\\\a';sleep 0.2;\" * x)\n",
    "if not 'nb_dir' in globals():\n",
    "    nb_dir = os.getcwd()\n",
    "sys.path.append(\"../lib\") \n",
    "from lib import *\n",
    "sys.path.append(\"lib\") \n",
    "from lib import *\n",
    "from operari import *\n",
    "from ProgressBar import *\n",
    "# from mesh_ops import *\n",
    "\n",
    "# the visualization tools involved here for triangular meshes is\n",
    "import trimesh\n",
    "import pyglet\n",
    "from numba import njit, cuda\n",
    "# from numba.typed import List\n",
    "# import numba\n",
    "import trimesh\n",
    "\n",
    "#try using a scipy sparse matrix to speed up spring force evaluations\n",
    "#TODO: speed up bigger meshes with pycuda's sparce matrices\n",
    "from scipy.sparse import csr_matrix\n",
    "import scipy.sparse as sparse\n",
    "\n",
    "# from pyspark import SparkContext \n",
    "# sc = SparkContext(master=\"local[4]\")\n",
    "# print(sc)\n",
    "\n",
    "\n",
    "%autocall 1\n",
    "%load_ext autoreload\n",
    "%autoreload 2"
   ]
  },
  {
   "cell_type": "code",
   "execution_count": 45,
   "metadata": {
    "ExecuteTime": {
     "end_time": "2020-07-17T21:12:57.504767Z",
     "start_time": "2020-07-17T21:12:57.454503Z"
    }
   },
   "outputs": [
    {
     "data": {
      "text/plain": [
       "'a'"
      ]
     },
     "execution_count": 45,
     "metadata": {},
     "output_type": "execute_result"
    }
   ],
   "source": [
    "class BPSomeClass(object):\n",
    "    r\"\"\"Describe the class\"\"\"\n",
    "    def __init__(self, arg1, arg2):\n",
    "        self.attr1 = arg1\n",
    "        self.attr2 = arg2\n",
    "    \n",
    "    def attribute1(self):\n",
    "        return self.attr1\n",
    "bp_obj = BPSomeClass(\"a\", 2.7182)\n",
    "bp_obj.attribute1()"
   ]
  },
  {
   "cell_type": "code",
   "execution_count": null,
   "metadata": {},
   "outputs": [],
   "source": [
    "\n"
   ]
  },
  {
   "cell_type": "code",
   "execution_count": null,
   "metadata": {},
   "outputs": [],
   "source": []
  },
  {
   "cell_type": "code",
   "execution_count": null,
   "metadata": {},
   "outputs": [],
   "source": []
  },
  {
   "cell_type": "code",
   "execution_count": null,
   "metadata": {},
   "outputs": [],
   "source": []
  },
  {
   "cell_type": "code",
   "execution_count": null,
   "metadata": {},
   "outputs": [],
   "source": []
  },
  {
   "cell_type": "code",
   "execution_count": null,
   "metadata": {},
   "outputs": [],
   "source": [
    "#TODO: copy opencarp into myfolder\n",
    "#TODO: test out opencarp\n",
    "#TODO: pycharm a 3D viewer app template\n",
    "#TODO: bash your way into python\n",
    "#use scipy.optimize.minimize to map one frame to another frame with the corotated linear constitutive model\n",
    "#optimize lib.model.energy_functional \\sim lib.model.action_functional using gekko\n"
   ]
  },
  {
   "cell_type": "code",
   "execution_count": null,
   "metadata": {},
   "outputs": [],
   "source": []
  },
  {
   "cell_type": "code",
   "execution_count": null,
   "metadata": {},
   "outputs": [],
   "source": []
  },
  {
   "cell_type": "code",
   "execution_count": null,
   "metadata": {},
   "outputs": [],
   "source": []
  },
  {
   "cell_type": "code",
   "execution_count": null,
   "metadata": {},
   "outputs": [],
   "source": []
  },
  {
   "cell_type": "code",
   "execution_count": null,
   "metadata": {},
   "outputs": [],
   "source": []
  },
  {
   "cell_type": "code",
   "execution_count": null,
   "metadata": {},
   "outputs": [],
   "source": []
  }
 ],
 "metadata": {
  "kernelspec": {
   "display_name": "Python 3",
   "language": "python",
   "name": "python3"
  },
  "language_info": {
   "codemirror_mode": {
    "name": "ipython",
    "version": 3
   },
   "file_extension": ".py",
   "mimetype": "text/x-python",
   "name": "python",
   "nbconvert_exporter": "python",
   "pygments_lexer": "ipython3",
   "version": "3.7.3"
  },
  "varInspector": {
   "cols": {
    "lenName": 16,
    "lenType": 16,
    "lenVar": 40
   },
   "kernels_config": {
    "python": {
     "delete_cmd_postfix": "",
     "delete_cmd_prefix": "del ",
     "library": "var_list.py",
     "varRefreshCmd": "print(var_dic_list())"
    },
    "r": {
     "delete_cmd_postfix": ") ",
     "delete_cmd_prefix": "rm(",
     "library": "var_list.r",
     "varRefreshCmd": "cat(var_dic_list()) "
    }
   },
   "types_to_exclude": [
    "module",
    "function",
    "builtin_function_or_method",
    "instance",
    "_Feature"
   ],
   "window_display": false
  }
 },
 "nbformat": 4,
 "nbformat_minor": 2
}
