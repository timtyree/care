{
 "cells": [
  {
   "cell_type": "markdown",
   "metadata": {
    "ExecuteTime": {
     "end_time": "2020-06-27T00:01:42.964413Z",
     "start_time": "2020-06-27T00:01:42.961351Z"
    }
   },
   "source": [
    "# Test Driven Model Development Using a Nice Sphere\n",
    "Tim Tyree<br>\n",
    "6.26.2020"
   ]
  },
  {
   "cell_type": "code",
   "execution_count": null,
   "metadata": {},
   "outputs": [],
   "source": []
  },
  {
   "cell_type": "code",
   "execution_count": 1,
   "metadata": {
    "ExecuteTime": {
     "end_time": "2020-07-23T00:56:21.927951Z",
     "start_time": "2020-07-23T00:56:19.254169Z"
    }
   },
   "outputs": [
    {
     "name": "stdout",
     "output_type": "stream",
     "text": [
      "Automatic calling is: Smart\n"
     ]
    }
   ],
   "source": [
    "import numpy as np, pandas as pd, matplotlib.pyplot as plt\n",
    "from mpl_toolkits.mplot3d import Axes3D  \n",
    "\n",
    "#automate the boring stuff\n",
    "from IPython import utils\n",
    "import time, os, sys, re\n",
    "beep = lambda x: os.system(\"echo -n '\\\\a';sleep 0.2;\" * x)\n",
    "if not 'nb_dir' in globals():\n",
    "    nb_dir = os.getcwd()\n",
    "sys.path.append(\"../lib\") \n",
    "from lib import *\n",
    "sys.path.append(\"lib\") \n",
    "from lib import *\n",
    "\n",
    "# the visualization tools involved here for triangular meshes is\n",
    "import trimesh\n",
    "import pyglet\n",
    "from numba import njit, cuda\n",
    "# from numba.typed import List\n",
    "# import numba\n",
    "\n",
    "# from operari import *\n",
    "# from ProgressBar import *\n",
    "# from mesh_ops import *\n",
    "\n",
    "#try using a scipy sparse matrix to speed up spring force evaluations\n",
    "#TODO: consider speeding up bigger meshes with pycuda's sparce matrices\n",
    "from scipy.sparse import csr_matrix\n",
    "import scipy.sparse as sparse\n",
    "\n",
    "#formating\n",
    "from matplotlib import rc\n",
    "rc('text', usetex=True)\n",
    "\n",
    "%autocall 1\n",
    "%load_ext autoreload\n",
    "%autoreload 2"
   ]
  },
  {
   "cell_type": "markdown",
   "metadata": {},
   "source": [
    "# dev of simulation"
   ]
  },
  {
   "cell_type": "markdown",
   "metadata": {},
   "source": [
    "## DONE: import a mesh of the unit 2-sphere\n",
    "## TODO : basic viewer functionality\n",
    "- TODO : define abstract scalar_field extending class BarycentricInterpolator\n",
    "- TODO : define discrete displacement scalar_field\n",
    "- TODO : define deformation_gradient vector field"
   ]
  },
  {
   "cell_type": "code",
   "execution_count": 63,
   "metadata": {
    "ExecuteTime": {
     "end_time": "2020-07-23T01:28:21.511830Z",
     "start_time": "2020-07-23T01:28:21.473783Z"
    },
    "code_folding": []
   },
   "outputs": [],
   "source": [
    "#initialization for viewer.py\n",
    "import numpy as np, pandas as pd, matplotlib.pyplot as plt\n",
    "from mpl_toolkits.mplot3d import Axes3D  \n",
    "\n",
    "#automate the boring stuff\n",
    "from IPython import utils\n",
    "import time, os, sys, re\n",
    "beep = lambda x: os.system(\"echo -n '\\\\a';sleep 0.2;\" * x)\n",
    "if not 'nb_dir' in globals():\n",
    "    nb_dir = os.getcwd()\n",
    "sys.path.append(\"../lib\") \n",
    "from lib import *\n",
    "sys.path.append(\"lib\") \n",
    "from lib import *\n",
    "\n",
    "# the visualization tools involved here for triangular meshes is\n",
    "import trimesh\n",
    "import pyglet\n",
    "from numba import njit, cuda\n",
    "\n",
    "def read_mesh(file_name):\n",
    "    mesh = trimesh.load(file_name);\n",
    "    return mesh\n",
    "\n",
    "def center_mesh(mesh, V_initial=None):\n",
    "    #subtract the center of mass\n",
    "    mesh.vertices -= mesh.center_mass\n",
    "    #normalize the mean radius to 1\n",
    "    # V_initial = 26 #cm^3\n",
    "    if V_initial is not None:\n",
    "        # mesh.vertices /= np.cbrt((mesh.volume)*3/(4*np.pi))\n",
    "        mesh.vertices *= np.cbrt(V_initial/mesh.volume)\n",
    "        #normalize the mean radius to R\n",
    "        # R = 1. #unit length\n",
    "        # mesh.vertices *= R/np.mean(np.linalg.norm(mesh.vertices,axis=1))\n",
    "        return mesh\n",
    "    else:\n",
    "        return mesh\n",
    "\n",
    "def write_mesh(mesh,file_name):\n",
    "    '''writes mesh to a file_name ending in stl'''\n",
    "    mesh.export(file_name, file_type='stl');\n",
    "    return mesh    "
   ]
  },
  {
   "cell_type": "code",
   "execution_count": 64,
   "metadata": {
    "ExecuteTime": {
     "end_time": "2020-07-23T01:28:24.530873Z",
     "start_time": "2020-07-23T01:28:24.490656Z"
    }
   },
   "outputs": [],
   "source": [
    "\n"
   ]
  },
  {
   "cell_type": "code",
   "execution_count": 85,
   "metadata": {
    "ExecuteTime": {
     "end_time": "2020-07-23T01:37:37.724887Z",
     "start_time": "2020-07-23T01:37:37.667781Z"
    }
   },
   "outputs": [
    {
     "name": "stderr",
     "output_type": "stream",
     "text": [
      "face_normals all zero, ignoring!\n"
     ]
    },
    {
     "name": "stdout",
     "output_type": "stream",
     "text": [
      "file_name written to is test_tmp.stl.\n"
     ]
    }
   ],
   "source": [
    "#initialization for test_viewer.py\n",
    "import numpy as np, pandas as pd, matplotlib.pyplot as plt\n",
    "from mpl_toolkits.mplot3d import Axes3D  \n",
    "\n",
    "#automate the boring stuff\n",
    "from IPython import utils\n",
    "import time, os, sys, re\n",
    "beep = lambda x: os.system(\"echo -n '\\\\a';sleep 0.2;\" * x)\n",
    "if not 'nb_dir' in globals():\n",
    "    nb_dir = os.getcwd()\n",
    "sys.path.append(\"../lib\") \n",
    "from lib import *\n",
    "sys.path.append(\"lib\") \n",
    "from lib import *\n",
    "\n",
    "# the visualization tools involved here for triangular meshes is\n",
    "import trimesh\n",
    "import pyglet\n",
    "from numba import njit, cuda\n",
    "\n",
    "#functional test cases\n",
    "def test_mesh_validity(mesh):\n",
    "    assert(mesh.is_watertight)\n",
    "    assert(mesh.is_winding_consistent)\n",
    "    return True\n",
    "\n",
    "def test_center_mesh(mesh):\n",
    "    retval = center_mesh(mesh, V_initial=None)\n",
    "    boo = np.isclose(retval.center_mass,0.).all()\n",
    "    assert(boo)\n",
    "    return boo\n",
    "\n",
    "def test_show(mesh):\n",
    "    retval = mesh.show();\n",
    "    from IPython.core.display import HTML\n",
    "    boo = type(retval) == type(HTML())\n",
    "    assert(boo)\n",
    "    return boo\n",
    "\n",
    "def test_filesize_atleast(file_name_output, min_size = 20000):\n",
    "    '''min_size is minimum file size in units of bytes?'''\n",
    "    boo = os.path.getsize(file_name_output) >= min_size\n",
    "    assert(boo)\n",
    "    return boo\n",
    "\n",
    "def test_write_mesh(file_name_output):\n",
    "    boo = os.path.exists(file_name_output)\n",
    "    assert(boo)\n",
    "    boo &= test_filesize_atleast(file_name_output)\n",
    "    assert(boo)\n",
    "    return boo\n",
    "\n",
    "if __name__=='__main__':   \n",
    "    os.chdir(f'{nb_dir}/Data/spherical_meshes')\n",
    "    file_name_input = 'spherical_mesh_64.stl'\n",
    "    file_name_output = 'test_tmp.stl'\n",
    "\n",
    "    # test read_mesh\n",
    "    mesh = read_mesh(file_name_input)\n",
    "    boo = test_show(mesh)\n",
    "\n",
    "    # test mesh preprocessing\n",
    "    boo &= test_mesh_validity(mesh)\n",
    "    boo &= test_center_mesh(mesh)\n",
    "\n",
    "    # test write_mesh\n",
    "    # mesh = \n",
    "    write_mesh(mesh,file_name_output)\n",
    "    boo &= test_write_mesh(file_name_output)\n",
    "\n",
    "    # clean up test output\n",
    "\n",
    "    if boo:\n",
    "        print(f\"Success: all viewer tests were passed.\")\n",
    "    else:\n",
    "        print(f\"Failure: a viewer test was not passed!\")\n",
    "\n",
    "\n",
    "\n",
    "\n",
    "\n"
   ]
  },
  {
   "cell_type": "code",
   "execution_count": 80,
   "metadata": {
    "ExecuteTime": {
     "end_time": "2020-07-23T01:33:38.249423Z",
     "start_time": "2020-07-23T01:33:38.213386Z"
    }
   },
   "outputs": [],
   "source": [
    "boo &="
   ]
  },
  {
   "cell_type": "code",
   "execution_count": 81,
   "metadata": {
    "ExecuteTime": {
     "end_time": "2020-07-23T01:33:38.784714Z",
     "start_time": "2020-07-23T01:33:38.748939Z"
    }
   },
   "outputs": [],
   "source": []
  },
  {
   "cell_type": "code",
   "execution_count": 82,
   "metadata": {
    "ExecuteTime": {
     "end_time": "2020-07-23T01:33:39.603371Z",
     "start_time": "2020-07-23T01:33:39.566864Z"
    }
   },
   "outputs": [
    {
     "data": {
      "text/plain": [
       "False"
      ]
     },
     "execution_count": 82,
     "metadata": {},
     "output_type": "execute_result"
    }
   ],
   "source": []
  },
  {
   "cell_type": "code",
   "execution_count": null,
   "metadata": {},
   "outputs": [],
   "source": []
  }
 ],
 "metadata": {
  "kernelspec": {
   "display_name": "Python 3",
   "language": "python",
   "name": "python3"
  },
  "language_info": {
   "codemirror_mode": {
    "name": "ipython",
    "version": 3
   },
   "file_extension": ".py",
   "mimetype": "text/x-python",
   "name": "python",
   "nbconvert_exporter": "python",
   "pygments_lexer": "ipython3",
   "version": "3.7.3"
  },
  "toc": {
   "base_numbering": 1,
   "nav_menu": {},
   "number_sections": true,
   "sideBar": true,
   "skip_h1_title": false,
   "title_cell": "Table of Contents",
   "title_sidebar": "Contents",
   "toc_cell": false,
   "toc_position": {},
   "toc_section_display": true,
   "toc_window_display": false
  },
  "varInspector": {
   "cols": {
    "lenName": 16,
    "lenType": 16,
    "lenVar": 40
   },
   "kernels_config": {
    "python": {
     "delete_cmd_postfix": "",
     "delete_cmd_prefix": "del ",
     "library": "var_list.py",
     "varRefreshCmd": "print(var_dic_list())"
    },
    "r": {
     "delete_cmd_postfix": ") ",
     "delete_cmd_prefix": "rm(",
     "library": "var_list.r",
     "varRefreshCmd": "cat(var_dic_list()) "
    }
   },
   "types_to_exclude": [
    "module",
    "function",
    "builtin_function_or_method",
    "instance",
    "_Feature"
   ],
   "window_display": false
  }
 },
 "nbformat": 4,
 "nbformat_minor": 4
}
