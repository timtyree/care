{
 "cells": [
  {
   "cell_type": "markdown",
   "metadata": {
    "ExecuteTime": {
     "end_time": "2020-06-19T21:43:35.205405Z",
     "start_time": "2020-06-19T21:43:35.201589Z"
    }
   },
   "source": [
    "# Visualizing Isobaric Expansions"
   ]
  },
  {
   "cell_type": "code",
   "execution_count": 3,
   "metadata": {
    "ExecuteTime": {
     "end_time": "2020-06-19T21:44:51.443389Z",
     "start_time": "2020-06-19T21:44:50.735123Z"
    }
   },
   "outputs": [],
   "source": [
    "import numpy as np, pandas as pd, matplotlib.pyplot as plt\n",
    "\n",
    "from IPython import utils\n",
    "import time, os, sys, re\n",
    "beep = lambda x: os.system(\"echo -n '\\\\a';sleep 0.2;\" * x)\n",
    "if not 'nb_dir' in globals():\n",
    "    nb_dir = os.getcwd()\n",
    "    sys.path.append(\"../lib\") \n",
    "    sys.path.append(\"lib\") \n",
    "from operari import *\n",
    "from ProgressBar import *\n",
    "from mesh_ops import *"
   ]
  },
  {
   "cell_type": "code",
   "execution_count": 16,
   "metadata": {
    "ExecuteTime": {
     "end_time": "2020-06-19T21:52:51.780827Z",
     "start_time": "2020-06-19T21:52:51.759415Z"
    }
   },
   "outputs": [],
   "source": [
    "data_dir = nb_dir+'/Data/Log/test-A-mean-1.csv'\n",
    "df = pd.read_csv(data_dir)"
   ]
  },
  {
   "cell_type": "code",
   "execution_count": 17,
   "metadata": {
    "ExecuteTime": {
     "end_time": "2020-06-19T21:52:54.166328Z",
     "start_time": "2020-06-19T21:52:54.164103Z"
    }
   },
   "outputs": [],
   "source": [
    "# !pip install plotly\n"
   ]
  },
  {
   "cell_type": "code",
   "execution_count": 11,
   "metadata": {
    "ExecuteTime": {
     "end_time": "2020-06-19T21:49:36.817238Z",
     "start_time": "2020-06-19T21:49:36.806860Z"
    }
   },
   "outputs": [],
   "source": [
    "# df.head()\n",
    "# import plotly\n",
    "# import plotly.graph_objs as go"
   ]
  },
  {
   "cell_type": "code",
   "execution_count": 26,
   "metadata": {
    "ExecuteTime": {
     "end_time": "2020-06-19T21:58:36.351594Z",
     "start_time": "2020-06-19T21:58:36.349175Z"
    }
   },
   "outputs": [],
   "source": [
    "# columns = ['volume']#, 'area','avg_Fs','avg_Fp']\n",
    "# names = {'volume': 'Total Volume',\n",
    "#          'area': 'Surface Area',\n",
    "#         'avg_Fs':'Avg. Spring Force',\n",
    "#         'avg_Fp':'Avg. Pressure Force'}\n",
    "\n",
    "# fig = go.Figure([{\n",
    "#     'x': df['time'],\n",
    "#     'y': df[col],\n",
    "#     'name': names[col],\n",
    "#     'xlabel':'time'\n",
    "# }  for col in columns])\n",
    "# fig.show(renderer='iframe')"
   ]
  },
  {
   "cell_type": "code",
   "execution_count": null,
   "metadata": {
    "ExecuteTime": {
     "end_time": "2020-06-19T21:55:36.150844Z",
     "start_time": "2020-06-19T21:55:36.119015Z"
    }
   },
   "outputs": [],
   "source": []
  },
  {
   "cell_type": "code",
   "execution_count": null,
   "metadata": {},
   "outputs": [],
   "source": []
  }
 ],
 "metadata": {
  "kernelspec": {
   "display_name": "Python 3",
   "language": "python",
   "name": "python3"
  },
  "language_info": {
   "codemirror_mode": {
    "name": "ipython",
    "version": 3
   },
   "file_extension": ".py",
   "mimetype": "text/x-python",
   "name": "python",
   "nbconvert_exporter": "python",
   "pygments_lexer": "ipython3",
   "version": "3.7.6"
  },
  "toc": {
   "base_numbering": 1,
   "nav_menu": {},
   "number_sections": true,
   "sideBar": true,
   "skip_h1_title": false,
   "title_cell": "Table of Contents",
   "title_sidebar": "Contents",
   "toc_cell": false,
   "toc_position": {},
   "toc_section_display": true,
   "toc_window_display": false
  },
  "varInspector": {
   "cols": {
    "lenName": 16,
    "lenType": 16,
    "lenVar": 40
   },
   "kernels_config": {
    "python": {
     "delete_cmd_postfix": "",
     "delete_cmd_prefix": "del ",
     "library": "var_list.py",
     "varRefreshCmd": "print(var_dic_list())"
    },
    "r": {
     "delete_cmd_postfix": ") ",
     "delete_cmd_prefix": "rm(",
     "library": "var_list.r",
     "varRefreshCmd": "cat(var_dic_list()) "
    }
   },
   "types_to_exclude": [
    "module",
    "function",
    "builtin_function_or_method",
    "instance",
    "_Feature"
   ],
   "window_display": false
  }
 },
 "nbformat": 4,
 "nbformat_minor": 2
}
