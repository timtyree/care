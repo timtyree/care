{
 "cells": [
  {
   "cell_type": "markdown",
   "metadata": {
    "ExecuteTime": {
     "end_time": "2020-06-27T00:01:42.964413Z",
     "start_time": "2020-06-27T00:01:42.961351Z"
    }
   },
   "source": [
    "# Test Driven Model Development Using a Nice Sphere\n",
    "Tim Tyree<br>\n",
    "6.26.2020"
   ]
  },
  {
   "cell_type": "code",
   "execution_count": null,
   "metadata": {
    "ExecuteTime": {
     "end_time": "2020-07-02T20:55:19.075598Z",
     "start_time": "2020-07-02T20:55:19.015648Z"
    }
   },
   "outputs": [],
   "source": [
    "import numpy as np, pandas as pd, matplotlib.pyplot as plt\n",
    "from mpl_toolkits.mplot3d import Axes3D  \n",
    "\n",
    "#automate the boring stuff\n",
    "from IPython import utils\n",
    "import time, os, sys, re\n",
    "beep = lambda x: os.system(\"echo -n '\\\\a';sleep 0.2;\" * x)\n",
    "if not 'nb_dir' in globals():\n",
    "    nb_dir = os.getcwd()\n",
    "sys.path.append(\"../lib\") \n",
    "from lib import *\n",
    "sys.path.append(\"lib\") \n",
    "from lib import *\n",
    "\n",
    "# from operari import *\n",
    "# from ProgressBar import *\n",
    "# from mesh_ops import *\n",
    "\n",
    "# the visualization tools involved here for triangular meshes is\n",
    "import trimesh\n",
    "import pyglet\n",
    "from numba import njit, cuda\n",
    "# from numba.typed import List\n",
    "# import numba\n",
    "import trimesh\n",
    "\n",
    "#try using a scipy sparse matrix to speed up spring force evaluations\n",
    "#TODO: consider speeding up bigger meshes with pycuda's sparce matrices\n",
    "from scipy.sparse import csr_matrix\n",
    "import scipy.sparse as sparse\n",
    "\n",
    "#formating\n",
    "from matplotlib import rc\n",
    "rc('text', usetex=True)\n",
    "\n",
    "%autocall 1\n",
    "%load_ext autoreload\n",
    "%autoreload 2"
   ]
  },
  {
   "cell_type": "markdown",
   "metadata": {
    "heading_collapsed": true
   },
   "source": [
    "# dev of simulation"
   ]
  },
  {
   "cell_type": "markdown",
   "metadata": {
    "heading_collapsed": true,
    "hidden": true
   },
   "source": [
    "## DONE: import a mesh of the unit 2-sphere"
   ]
  },
  {
   "cell_type": "code",
   "execution_count": null,
   "metadata": {
    "ExecuteTime": {
     "end_time": "2020-07-02T06:18:41.522310Z",
     "start_time": "2020-07-02T06:18:41.490146Z"
    },
    "hidden": true
   },
   "outputs": [],
   "source": [
    "os.chdir(f'{nb_dir}/Data/spherical_meshes')\n",
    "mesh = trimesh.load('spherical_mesh_64.stl')\n",
    "#subtract the center of mass\n",
    "mesh.vertices -= mesh.center_mass\n",
    "#normalize the mean radius to 1\n",
    "V_initial = 26 #cm^3\n",
    "# mesh.vertices /= np.cbrt((mesh.volume)*3/(4*np.pi))\n",
    "mesh.vertices *= np.cbrt(V_initial/mesh.volume)\n",
    "#normalize the mean radius to R\n",
    "# R = 1. #unit length\n",
    "# mesh.vertices *= R/np.mean(np.linalg.norm(mesh.vertices,axis=1))"
   ]
  },
  {
   "cell_type": "code",
   "execution_count": null,
   "metadata": {
    "ExecuteTime": {
     "end_time": "2020-07-02T06:18:42.219808Z",
     "start_time": "2020-07-02T06:18:42.193311Z"
    },
    "hidden": true
   },
   "outputs": [],
   "source": [
    "assert(mesh.is_watertight)\n",
    "assert(mesh.is_winding_consistent)"
   ]
  },
  {
   "cell_type": "code",
   "execution_count": null,
   "metadata": {
    "ExecuteTime": {
     "end_time": "2020-07-02T06:20:21.344705Z",
     "start_time": "2020-07-02T06:20:21.317667Z"
    },
    "hidden": true
   },
   "outputs": [],
   "source": [
    "# mean radius check\n",
    "print (f\"initial volume is {mesh.volume:.1f} cm^3.\")\n",
    "print (f\"which has a mean radius of {np.mean(np.linalg.norm(mesh.vertices,axis=1)):.1f} cm.\")\n"
   ]
  },
  {
   "cell_type": "markdown",
   "metadata": {
    "heading_collapsed": true,
    "hidden": true
   },
   "source": [
    "### [deprecated, just use real space, dude.]"
   ]
  },
  {
   "cell_type": "code",
   "execution_count": null,
   "metadata": {
    "ExecuteTime": {
     "end_time": "2020-07-02T06:20:38.598893Z",
     "start_time": "2020-07-02T06:20:38.573615Z"
    },
    "hidden": true
   },
   "outputs": [],
   "source": [
    "#doesn't work. don't know why\n",
    "# def mat_to_str(A):\n",
    "#     string = f'''\n",
    "#     {A[[0,0]]} & {A[[0,1]]} & {A[[0,2]]} & {A[[0,3]]} \\\\ \n",
    "#     {A[[1,0]]} & {A[[1,1]]} & {A[[1,2]]} & {A[[1,3]]} \\\\ \n",
    "#     {A[[2,0]]} & {A[[2,1]]} & {A[[2,2]]} & {A[[2,3]]} \\\\ \n",
    "#     {A[[3,0]]} & {A[[3,1]]} & {A[[3,2]]} & {A[[3,3]]} \\\\ \n",
    "#     '''\n",
    "#     latex_string = r'$\\left( \\begin{array}{ll} ' + string + r'\\end{{array}} \\right)$'\n",
    "#     return latex_string\n",
    "# # text(my_matrix, (1,1))"
   ]
  },
  {
   "cell_type": "markdown",
   "metadata": {
    "ExecuteTime": {
     "end_time": "2020-06-27T01:19:52.604149Z",
     "start_time": "2020-06-27T01:19:52.583114Z"
    },
    "heading_collapsed": true,
    "hidden": true
   },
   "source": [
    "### [deprecated, use real space] cast all vertices and shapes to quaternions in numpy. record as the undeformed surface\n",
    "- TODO: dilate the sphere by a known amount\n",
    "- TODO: compute the deformation gradient\n",
    "- TODO: compute the 1st piola-kirchoff tensor for some constitutive relation\n",
    "- TODO: taking thickness to be $\\delta\\ll1$, compute the effective surface tension, $\\gamma$"
   ]
  },
  {
   "cell_type": "code",
   "execution_count": null,
   "metadata": {
    "ExecuteTime": {
     "end_time": "2020-06-28T00:15:50.013924Z",
     "start_time": "2020-06-28T00:15:49.985113Z"
    },
    "hidden": true
   },
   "outputs": [],
   "source": [
    "from colorsys import hls_to_rgb\n",
    "\n",
    "def colorize(z):\n",
    "    n,m = z.shape\n",
    "    c = np.zeros((n,m,3))\n",
    "    c[np.isinf(z)] = (1.0, 1.0, 1.0)\n",
    "    c[np.isnan(z)] = (0.5, 0.5, 0.5)\n",
    "\n",
    "    idx = ~(np.isinf(z) + np.isnan(z))\n",
    "    A = (np.angle(z[idx]) + np.pi) / (2*np.pi)\n",
    "    A = (A + 0.5) % 1.0\n",
    "    B = 1.0 - 1.0/(1.0+abs(z[idx])**0.3)\n",
    "    c[idx] = [hls_to_rgb(a, b, 0.8) for a,b in zip(A,B)]\n",
    "    return c"
   ]
  },
  {
   "cell_type": "code",
   "execution_count": null,
   "metadata": {
    "ExecuteTime": {
     "end_time": "2020-06-28T00:15:54.298852Z",
     "start_time": "2020-06-28T00:15:54.255283Z"
    },
    "hidden": true
   },
   "outputs": [],
   "source": [
    "#define the constant pauli matrices as a basis for real space\n",
    "sigx = 1.j*np.array([[0.,1.],[1.,0.]],dtype=complex)\n",
    "sigy = 1.j*np.array([[0.,-1.j],[1.j,0.]],dtype=complex)\n",
    "sigz = 1.j*np.array([[1.,0.],[0.,-1.]],dtype=complex)\n",
    "one  = np.array([[1.,0.],[0.,1.]],dtype=complex)\n",
    "zero = np.array([[0.,0.],[0.,0.]],dtype=complex)\n",
    "\n",
    "#print the imaginary spatial basis, and test that identity and zero multiply correctly.\n",
    "print(r'$\\sigma_x is $')\n",
    "print(sigx)\n",
    "print(r'$\\sigma_y is $')\n",
    "print(sigy)\n",
    "print(r'$\\sigma_z is $')\n",
    "print(sigz)\n",
    "# print(one)\n",
    "# print(zero)\n",
    "# print((one.dot(sigx)))\n",
    "assert((one.dot(sigx)==sigx).all())\n",
    "assert((zero.dot(sigx)==zero).all())\n",
    "\n",
    "# @njit\n",
    "def vec_to_quaternion(v):\n",
    "    #define the constant pauli matrices as a basis for real space\n",
    "    #     sigx = np.array([[0.,1.],[1.,0.]],dtype=complex)\n",
    "    #     sigy = np.array([[1.j,0.],[0.,-1.j]],dtype=complex)\n",
    "    #     sigz = np.array([[1.,0.],[0.,-1.]],dtype=complex)\n",
    "    return v[0]*sigx + v[1]*sigy + v[2]*sigz"
   ]
  },
  {
   "cell_type": "code",
   "execution_count": null,
   "metadata": {
    "ExecuteTime": {
     "end_time": "2020-06-28T00:15:55.434743Z",
     "start_time": "2020-06-28T00:15:55.398475Z"
    },
    "hidden": true
   },
   "outputs": [],
   "source": [
    "#test the inverse of the basis elements are minus the basis elements\n",
    "assert((np.linalg.inv(sigx)==-sigx).all())\n",
    "assert((np.linalg.inv(sigy)==-sigy).all())\n",
    "assert((np.linalg.inv(sigz)==-sigz).all())\n",
    "#test the basis elements are anticommuting\n",
    "assert((sigx*sigy-sigy*sigx==zero).all())\n",
    "assert((sigx*sigz-sigz*sigx==zero).all())\n",
    "assert((sigz*sigy-sigy*sigz==zero).all())\n"
   ]
  },
  {
   "cell_type": "code",
   "execution_count": null,
   "metadata": {
    "ExecuteTime": {
     "end_time": "2020-06-28T00:15:56.484438Z",
     "start_time": "2020-06-28T00:15:56.454360Z"
    },
    "hidden": true
   },
   "outputs": [],
   "source": [
    "trim = mesh.triangles[0]\n",
    "tris = mesh.triangles[100]\n",
    "\n",
    "dm1 = trim[1]-trim[0]\n",
    "dm2 = trim[2]-trim[0]\n",
    "Am =  np.cross(dm1,dm2)/2\n",
    "\n",
    "ds1 = tris[1]-tris[0]\n",
    "ds2 = tris[2]-tris[0]\n",
    "As =  np.cross(ds1,ds2)/2\n",
    "\n",
    "\n",
    "qm1 = dm1[0]*sigx + dm1[1]*sigy + dm1[2]*sigz\n",
    "qm2 = dm2[0]*sigx + dm2[1]*sigy + dm2[2]*sigz\n",
    "qs1 = ds1[0]*sigx + ds1[1]*sigy + ds1[2]*sigz\n",
    "qs2 = ds2[0]*sigx + ds2[1]*sigy + ds2[2]*sigz\n",
    "\n",
    "qAm =  Am[0]*sigx + Am[1]*sigy + Am[2]*sigz\n",
    "qAs =  As[0]*sigx + As[1]*sigy + As[2]*sigz\n",
    "\n",
    "# solve for the deformation gradient between either pair of edges.\n",
    "F1 = qs1.dot(np.linalg.inv(qm1))\n",
    "F2 = qs2.dot(np.linalg.inv(qm2))\n",
    "# FA = qAs.dot(np.linalg.inv(qAm))"
   ]
  },
  {
   "cell_type": "code",
   "execution_count": null,
   "metadata": {
    "ExecuteTime": {
     "end_time": "2020-06-28T00:15:56.895947Z",
     "start_time": "2020-06-28T00:15:56.862596Z"
    },
    "hidden": true
   },
   "outputs": [],
   "source": [
    "#singular value decomposition on the block diagonal deformations\n",
    "U1, S1, V1 = np.linalg.svd(F1)\n",
    "V1 = V1.T.conjugate()\n",
    "\n",
    "U2, S2, V2 = np.linalg.svd(F2)\n",
    "V2 = V2.T.conjugate()"
   ]
  },
  {
   "cell_type": "code",
   "execution_count": null,
   "metadata": {
    "ExecuteTime": {
     "end_time": "2020-06-28T00:15:57.315282Z",
     "start_time": "2020-06-28T00:15:57.293236Z"
    },
    "hidden": true
   },
   "outputs": [],
   "source": [
    "#verify svd is returning hermitian factors\n",
    "assert((np.around(U1.dot(U1.T.conjugate()),3)==one).all())\n",
    "assert((np.around(V1.dot(V1.T.conjugate()),3)==one).all())"
   ]
  },
  {
   "cell_type": "code",
   "execution_count": null,
   "metadata": {
    "ExecuteTime": {
     "end_time": "2020-06-28T00:15:57.713048Z",
     "start_time": "2020-06-28T00:15:57.690500Z"
    },
    "hidden": true
   },
   "outputs": [],
   "source": [
    "Dm = np.array(((qm1,zero),(zero,qm2))).reshape((4,4))\n",
    "Ds = np.array(((qs1,zero),(zero,qs2))).reshape((4,4))"
   ]
  },
  {
   "cell_type": "code",
   "execution_count": null,
   "metadata": {
    "ExecuteTime": {
     "end_time": "2020-06-28T00:15:58.122494Z",
     "start_time": "2020-06-28T00:15:58.098964Z"
    },
    "hidden": true
   },
   "outputs": [],
   "source": [
    "#TODO: test if rotating by F maps dm to ds\n",
    "F1.dot(qm1).dot(F1.conjugate().T)"
   ]
  },
  {
   "cell_type": "code",
   "execution_count": null,
   "metadata": {
    "ExecuteTime": {
     "end_time": "2020-06-28T00:15:58.622193Z",
     "start_time": "2020-06-28T00:15:58.591588Z"
    },
    "hidden": true
   },
   "outputs": [],
   "source": [
    "np.linalg.svd(Dm)"
   ]
  },
  {
   "cell_type": "code",
   "execution_count": null,
   "metadata": {
    "ExecuteTime": {
     "end_time": "2020-06-28T00:15:59.015413Z",
     "start_time": "2020-06-28T00:15:58.995751Z"
    },
    "hidden": true
   },
   "outputs": [],
   "source": [
    "#TODO: visualize F1 and F2 and see if they make sense."
   ]
  },
  {
   "cell_type": "markdown",
   "metadata": {
    "ExecuteTime": {
     "end_time": "2020-06-27T16:08:32.708838Z",
     "start_time": "2020-06-27T16:08:32.695053Z"
    },
    "hidden": true
   },
   "source": [
    "TODO: matrix to quaternion"
   ]
  },
  {
   "cell_type": "markdown",
   "metadata": {
    "ExecuteTime": {
     "end_time": "2020-06-27T16:08:41.197503Z",
     "start_time": "2020-06-27T16:08:41.184811Z"
    },
    "hidden": true
   },
   "source": [
    "TODO: quaternion to matrix"
   ]
  },
  {
   "cell_type": "code",
   "execution_count": null,
   "metadata": {
    "ExecuteTime": {
     "end_time": "2020-06-28T00:16:00.158951Z",
     "start_time": "2020-06-28T00:16:00.130828Z"
    },
    "hidden": true
   },
   "outputs": [],
   "source": [
    "sigy.T.conjugate()"
   ]
  },
  {
   "cell_type": "code",
   "execution_count": null,
   "metadata": {
    "ExecuteTime": {
     "end_time": "2020-06-28T00:16:00.578997Z",
     "start_time": "2020-06-28T00:16:00.558126Z"
    },
    "hidden": true
   },
   "outputs": [],
   "source": [
    "sigy"
   ]
  },
  {
   "cell_type": "code",
   "execution_count": null,
   "metadata": {
    "hidden": true
   },
   "outputs": [],
   "source": []
  },
  {
   "cell_type": "markdown",
   "metadata": {
    "heading_collapsed": true,
    "hidden": true
   },
   "source": [
    "### [deprecated, use real space] Handling Stress with quaternions only with nearly conformal mappings"
   ]
  },
  {
   "cell_type": "markdown",
   "metadata": {
    "hidden": true
   },
   "source": [
    "Two deformations are conformal if their differentials are related by a rotation and a scaling.\n",
    "\n",
    "$$d\\tilde f = e^uRdf$$\n",
    "\n",
    "Rotations represented in $\\mathbb{R}^3$ require quadratic constraints which produce shear stress, which causes angles change under deformation.  The action of a quaternion on a vector can be written in terms of a rotation and a scale.\n",
    "\n",
    "The shape of a triangle, which has six degrees of freedom in $\\mathbb{R}^3$ cannot be represented by a single quaternion, which has only four degrees of freedom.  It is therefore necessary to represent the shape of a triangle with at least two quaternions, and it is sufficient to constrain those quaternions to be imaginary, since Im$\\,\\mathbb{H}\\simeq\\mathbb{R}^3$."
   ]
  },
  {
   "cell_type": "markdown",
   "metadata": {
    "heading_collapsed": true,
    "hidden": true
   },
   "source": [
    "## DONE: test based development of geom_func.py"
   ]
  },
  {
   "cell_type": "markdown",
   "metadata": {
    "hidden": true
   },
   "source": [
    "## DONE: test based development of rotating two triangles to be coplanar"
   ]
  },
  {
   "cell_type": "code",
   "execution_count": null,
   "metadata": {
    "ExecuteTime": {
     "end_time": "2020-06-28T22:24:13.355926Z",
     "start_time": "2020-06-28T22:24:13.331245Z"
    },
    "hidden": true
   },
   "outputs": [],
   "source": [
    "# tris = mesh.triangles[110]\n",
    "tris = mesh.triangles[243]\n",
    "trim = mesh.triangles[321]"
   ]
  },
  {
   "cell_type": "code",
   "execution_count": null,
   "metadata": {
    "ExecuteTime": {
     "end_time": "2020-06-28T02:33:02.522164Z",
     "start_time": "2020-06-28T02:33:02.488451Z"
    },
    "hidden": true
   },
   "outputs": [],
   "source": [
    "# #DONE: copy the 'rotate into same plane solution' to a .py file\n",
    "# #DONE: rotate two triangles into the same plane with get_R\n",
    "# testing=True\n",
    "# def get_R(trim,tris,testing=True):\n",
    "#     '''trim is a triangle in material/reference space that is \n",
    "#     deformed to tris, which is a triangle in real space.  \n",
    "#     returns the 3x3 rotation matrix aligning both their area normals and their first shape vector.\n",
    "#     get_R assumes the deformation is continuous and did not invert the triangle being deformed.'''\n",
    "#     dm1 = trim[1]-trim[0]     #precompute in final algorithm\n",
    "#     dm2 = trim[2]-trim[0]     #precompute in final algorithm\n",
    "#     Am =  np.cross(dm1,dm2)/2 #precompute in final algorithm\n",
    "\n",
    "#     ds1 = tris[1]-tris[0]\n",
    "#     ds2 = tris[2]-tris[0]\n",
    "#     As =  np.cross(ds1,ds2)/2\n",
    "\n",
    "#     #Ra is a rotation_matrix that rotation_matrix rotates Ashat onto Amhat\n",
    "#     Ashat = As/np.linalg.norm(As)\n",
    "#     Amhat = Am/np.linalg.norm(Am)\n",
    "#     v2 = Ashat\n",
    "#     v1 = Amhat\n",
    "#     axisa  = np.cross(v1,v2)\n",
    "#     thetaa = np.arcsin(np.linalg.norm(axisa))\n",
    "#     Ra = rotation_matrix(axisa, thetaa)\n",
    "#     if not np.isclose(np.abs(np.dot(np.dot(Ra, Amhat),Ashat)),1.).all(): #doesn't care if area's end up flipped\n",
    "#         Ra = Ra.T\n",
    "#     if testing:\n",
    "#         assert(np.isclose(np.abs(np.dot(np.dot(Ra, Amhat),Ashat)),1.).all())\n",
    "\n",
    "#     #Rb is a rotation_matrix that rotates the Ra*dm1 onto ds1 without unaligning the area vectors\n",
    "#     v1 = np.dot(Ra,dm1/np.linalg.norm(dm1))\n",
    "#     v2 = ds1/np.linalg.norm(ds1)\n",
    "#     axisb  = Ashat\n",
    "#     thetab = np.arccos(np.dot(v1,v2))\n",
    "#     Rb = rotation_matrix(axisb, thetab).T\n",
    "\n",
    "\n",
    "#     if not np.isclose(np.dot(Rb, v1),v2).all():\n",
    "#         Rb = Rb.T\n",
    "\n",
    "#     if testing:\n",
    "#         # test that Rb keeps the area vectors aligned\n",
    "#         assert(np.isclose(np.dot(Rb, v1),v2).all())\n",
    "#         assert(np.isclose(np.abs(np.dot(np.dot(Ra, Amhat),Ashat)),1.).all())\n",
    "\n",
    "#     R = Rb.dot(Ra)\n",
    "#     if testing:\n",
    "#         # test that R = Rb.dot(Ra).T rotates Amhat onto Ashat\n",
    "#         assert(np.isclose(np.abs(np.dot(R.dot(Amhat),Ashat)),1.).all())\n",
    "#         # test that R = (Rb*Ra).T rotates dm1 onto ds1\n",
    "#         assert(np.isclose(R.dot(dm1/np.linalg.norm(dm1)),ds1/np.linalg.norm(ds1)).all())\n",
    "#     return R"
   ]
  },
  {
   "cell_type": "code",
   "execution_count": null,
   "metadata": {
    "ExecuteTime": {
     "end_time": "2020-06-28T22:24:58.374964Z",
     "start_time": "2020-06-28T22:24:58.346837Z"
    },
    "hidden": true
   },
   "outputs": [],
   "source": [
    "# # np.abs(np.dot(\n",
    "# print(R.dot(Amhat))\n",
    "# print(Ashat)\n",
    "\n",
    "# print(R.dot(dm1/np.linalg.norm(dm1)))\n",
    "# print(ds1/np.linalg.norm(ds1))"
   ]
  },
  {
   "cell_type": "markdown",
   "metadata": {
    "hidden": true
   },
   "source": [
    "### test based development of aligning two triangles"
   ]
  },
  {
   "cell_type": "code",
   "execution_count": null,
   "metadata": {
    "ExecuteTime": {
     "end_time": "2020-06-28T02:46:12.840556Z",
     "start_time": "2020-06-28T02:46:12.810499Z"
    },
    "hidden": true
   },
   "outputs": [],
   "source": [
    "# def align_triangles(trim,tris, testing=True):\n",
    "#     '''return parameters for aligning trim to tris.  \n",
    "#     coplanar positions are returned for trim before any shear deformation, \n",
    "#     but contracting the first edges to match.'''\n",
    "#     dm1 = trim[1] - trim[0]  #precompute in final algorithm\n",
    "#     dm2 = trim[2] - trim[0]  #precompute in final algorithm\n",
    "#     Am = np.cross(dm1, dm2) / 2  #precompute in final algorithm\n",
    "\n",
    "#     ds1 = tris[1] - tris[0]\n",
    "#     ds2 = tris[2] - tris[0]\n",
    "#     As = np.cross(ds1, ds2) / 2\n",
    "\n",
    "#     #Ra is a rotation_matrix that rotation_matrix rotates Ashat onto Amhat\n",
    "#     Ashat = As / np.linalg.norm(As)\n",
    "#     Amhat = Am / np.linalg.norm(Am)\n",
    "\n",
    "#     R = get_R(trim, tris, testing=testing)\n",
    "#     if testing:\n",
    "#         assert (np.isclose(np.linalg.norm(R.dot(dm1)) / np.linalg.norm(dm1), 1.))\n",
    "\n",
    "#     #test that the local \"x\" axis is aligned by R\n",
    "#     xhat = ds1 / np.linalg.norm(ds1)\n",
    "\n",
    "#     #yhat is not needed for energy calculation, but is needed for deformation gradient calculation via outer product\n",
    "#     yhat = np.cross(As, xhat)\n",
    "#     yhat /= np.linalg.norm(yhat)\n",
    "\n",
    "#     #scale so \"the first\" edge matches between the two triangles\n",
    "#     xi1 = np.linalg.norm(ds1) / np.linalg.norm(dm1)\n",
    "    \n",
    "#     if testing:\n",
    "#         # Test that the first vectors match.\n",
    "#         assert (np.isclose(xhat, R.dot(dm1) / np.linalg.norm(dm1)).all())\n",
    "#         assert (np.isclose(np.linalg.norm(xi1 * R.dot(dm1)), np.linalg.norm(ds1)))\n",
    "\n",
    "#     # project all  edges onto the first vector and the second vector\n",
    "#     xs1 = xhat.dot(ds1)  # full length\n",
    "#     ys1 = yhat.dot(ds1)  # zero\n",
    "#     xs2 = xhat.dot(ds2)\n",
    "#     ys2 = yhat.dot(ds2)\n",
    "\n",
    "#     # for each second vector, compute the orthogonal component\n",
    "#     xm1 = xhat.dot(xi1 * R.dot(dm1))\n",
    "#     ym1 = yhat.dot(xi1 * R.dot(dm1))\n",
    "#     xm2 = xhat.dot(xi1 * R.dot(dm2))\n",
    "#     ym2 = yhat.dot(xi1 * R.dot(dm2))\n",
    "\n",
    "#     if testing:\n",
    "#         # test that nothing's left out of plane using the pythagorean theorem\n",
    "#         assert (np.isclose(np.sqrt(xm1**2 + ym1**2), np.linalg.norm(xi1 * dm1)))\n",
    "#         assert (np.isclose(np.sqrt(xm2**2 + ym2**2), np.linalg.norm(xi1 * dm2)))\n",
    "#         assert (np.isclose(np.sqrt(xs1**2 + ys1**2), np.linalg.norm(ds1)))\n",
    "#         assert (np.isclose(np.sqrt(xs2**2 + ys2**2), np.linalg.norm(ds2)))\n",
    "\n",
    "#     # scale the triangle heights to match\n",
    "#     xi2 = ys2 / ym2\n",
    "\n",
    "#     #use a shear deformation from the heisenburg group to make the triangles match\n",
    "#     s = (xs2 - xm2) / ys2\n",
    "\n",
    "\n",
    "\n",
    "#     return xm2, xm1, ym2, ym1, xs2, xs1, ys2, ys1, xhat, yhat, xi1, xi2, s\n"
   ]
  },
  {
   "cell_type": "markdown",
   "metadata": {
    "hidden": true
   },
   "source": [
    "## DONE: test based development of deforming one triangle onto any coplanar triangle"
   ]
  },
  {
   "cell_type": "code",
   "execution_count": null,
   "metadata": {
    "ExecuteTime": {
     "end_time": "2020-06-28T22:25:44.111761Z",
     "start_time": "2020-06-28T22:25:44.087228Z"
    },
    "hidden": true
   },
   "outputs": [],
   "source": [
    "tris = mesh.triangles[137]\n",
    "trim = mesh.triangles[153]\n",
    "xm2, xm1, ym2, ym1, xs2, xs1, ys2, ys1, xhat, yhat, xi1, xi2, s = align_triangles(trim,tris)"
   ]
  },
  {
   "cell_type": "code",
   "execution_count": null,
   "metadata": {
    "ExecuteTime": {
     "end_time": "2020-06-28T22:04:13.078488Z",
     "start_time": "2020-06-28T22:04:12.892575Z"
    },
    "hidden": true
   },
   "outputs": [],
   "source": [
    "xm_values = [0., xm2, xm1, 0.]\n",
    "ym_values = [0., ym2, ym1, 0.]\n",
    "xs_values = [0., xs2, xs1, 0.]\n",
    "ys_values = [0., ys2, ys1, 0.]\n",
    "\n",
    "# with 2D projections in hand, plot some vectors on top of eachother in two different colors.\n",
    "plt.plot(xs_values, ys_values, 'k')\n",
    "plt.plot(xm_values, ym_values, 'b')\n",
    "plt.show()"
   ]
  },
  {
   "cell_type": "code",
   "execution_count": null,
   "metadata": {
    "ExecuteTime": {
     "end_time": "2020-06-28T22:04:13.733899Z",
     "start_time": "2020-06-28T22:04:13.538228Z"
    },
    "hidden": true
   },
   "outputs": [],
   "source": [
    "#TODO: test ^this by ploting a number of triangles.  do they consistently match?\n",
    "xm_values = [0., xm2 + xi2*s*ym2, xm1, 0.]\n",
    "ym_values = [0., xi2*ym2, ym1, 0.]\n",
    "xs_values = [0., xs2, xs1, 0.]\n",
    "ys_values = [0., ys2, ys1, 0.]\n",
    "plt.plot(xs_values, ys_values, 'k')\n",
    "plt.plot(xm_values, ym_values, 'b')\n",
    "plt.show()"
   ]
  },
  {
   "cell_type": "code",
   "execution_count": null,
   "metadata": {
    "ExecuteTime": {
     "end_time": "2020-06-28T23:36:36.808570Z",
     "start_time": "2020-06-28T23:36:36.785095Z"
    },
    "hidden": true
   },
   "outputs": [],
   "source": [
    "# # compute the 3D strain gradient\n",
    "# def make_S_3by3(xi1, xi2, s, xhat, yhat):\n",
    "#     '''returns the strain gradient in the global basis of the dynamical space.\n",
    "#     s = ( xs2 - xm1 ) / ys2\n",
    "#     xi2 = ys2 / ym2\n",
    "#     xi1 = norm(ds1)/norm(dm1)\n",
    "#     xm, ym have been rotated and scaled to be coplanar with ds1 and ds2.  '''\n",
    "#     projx = np.outer(xhat,xhat)\n",
    "#     projy = np.outer(yhat,yhat)\n",
    "#     projy_to_x = np.outer(xhat,yhat)    \n",
    "#     S = np.eye(3) + (xi2-1) * projy + xi2*s * projy_to_x \n",
    "#     S *= xi1\n",
    "#     return S\n",
    "\n",
    "# # compute the 2D strain gradient\n",
    "# def make_S_2by2(xi1, xi2, s):\n",
    "#     '''returns the strain gradient in the local basis of the dynamical space.\n",
    "#     s = ( xs2 - xm2 ) / ys2\n",
    "#     xi2 = ys2 / ym2\n",
    "#     xi1 = norm(ds1)/norm(dm1)\n",
    "#     xm, ym have been rotated and scaled to be coplanar with ds1 and ds2.  '''\n",
    "#     return xi1 * np.array([[1., s*xi2],[0., xi2]])"
   ]
  },
  {
   "cell_type": "code",
   "execution_count": null,
   "metadata": {
    "ExecuteTime": {
     "end_time": "2020-06-28T23:55:41.312672Z",
     "start_time": "2020-06-28T23:55:41.285144Z"
    },
    "hidden": true
   },
   "outputs": [],
   "source": [
    "tris = mesh.triangles[137]\n",
    "trim = mesh.triangles[153]\n",
    "\n",
    "xm2, xm1, ym2, ym1, xs2, xs1, ys2, ys1, xhat, yhat, xi1, xi2, s = align_triangles(trim,tris)"
   ]
  },
  {
   "cell_type": "code",
   "execution_count": null,
   "metadata": {
    "ExecuteTime": {
     "end_time": "2020-06-28T23:36:38.296288Z",
     "start_time": "2020-06-28T23:36:38.277328Z"
    },
    "hidden": true
   },
   "outputs": [],
   "source": []
  },
  {
   "cell_type": "code",
   "execution_count": null,
   "metadata": {
    "ExecuteTime": {
     "end_time": "2020-06-28T23:36:38.893078Z",
     "start_time": "2020-06-28T23:36:38.871909Z"
    },
    "hidden": true
   },
   "outputs": [],
   "source": []
  },
  {
   "cell_type": "code",
   "execution_count": null,
   "metadata": {
    "ExecuteTime": {
     "end_time": "2020-06-28T23:36:39.316926Z",
     "start_time": "2020-06-28T23:36:39.294867Z"
    },
    "hidden": true
   },
   "outputs": [],
   "source": []
  },
  {
   "cell_type": "code",
   "execution_count": null,
   "metadata": {
    "ExecuteTime": {
     "end_time": "2020-06-28T23:36:40.061449Z",
     "start_time": "2020-06-28T23:36:39.873173Z"
    },
    "hidden": true
   },
   "outputs": [],
   "source": [
    "#TODO: test ^this by ploting a number of triangles.  do they consistently match?\n",
    "xm_values = [0., xm2 + xi2*s*ym2, xm1, 0.]\n",
    "ym_values = [0., xi2*ym2, ym1, 0.]\n",
    "xs_values = [0., xs2, xs1, 0.]\n",
    "ys_values = [0., ys2, ys1, 0.]\n",
    "plt.plot(xs_values, ys_values, 'k')\n",
    "plt.plot(xm_values, ym_values, 'b')\n",
    "plt.show()"
   ]
  },
  {
   "cell_type": "markdown",
   "metadata": {
    "hidden": true
   },
   "source": [
    "## DONE: testing the explicit deformation map\n",
    "\n",
    "$$x= \\phi(X)= FX + b$$\n",
    "$$F = S R$$\n",
    "$$b = tris[0] - trim[0]$$"
   ]
  },
  {
   "cell_type": "code",
   "execution_count": null,
   "metadata": {
    "ExecuteTime": {
     "end_time": "2020-06-29T02:16:04.478793Z",
     "start_time": "2020-06-29T02:16:04.449396Z"
    },
    "hidden": true
   },
   "outputs": [],
   "source": [
    "# # collect the operations into polar decomposition of deformation gradient matrix.\n",
    "# def get_SR(trim,tris, printing=True, testing=False):\n",
    "#     R = get_R(trim,tris,testing=testing)\n",
    "#     retval = align_triangles(trim,tris, testing=testing)\n",
    "#     #TODO: make retval more compact\n",
    "#     xm2, xm1, ym2, ym1, xs2, xs1, ys2, ys1, xhat, yhat, xi1, xi2, s = retval\n",
    "#     S = make_S_3by3(xi1, xi2, s, xhat, yhat)\n",
    "#     if (xi2<0) and printing:\n",
    "#         print('xi2 is negative.')\n",
    "#     if (ym2<0) and printing:\n",
    "#         print('ym2 is negative.')\n",
    "#     return S, R    \n",
    "      \n",
    "# def get_F(trim,tris, printing=True, testing=False):\n",
    "#     S, R = get_SR(trim,tris, printing=printing, testing=testing)\n",
    "#     F = S.dot(R)\n",
    "#     return F\n"
   ]
  },
  {
   "cell_type": "code",
   "execution_count": null,
   "metadata": {
    "ExecuteTime": {
     "end_time": "2020-06-28T23:43:17.651514Z",
     "start_time": "2020-06-28T23:43:17.624569Z"
    },
    "hidden": true
   },
   "outputs": [],
   "source": [
    "# # the explicit deformation map\n",
    "# def phi(F,X,b):\n",
    "#     return F.dot(X)  + b\n",
    "# def get_phi(trim,tris):\n",
    "#     F = get_F(trim,tris)\n",
    "#     b = tris[0] - F.dot(trim[0])\n",
    "#     return lambda X: phi(F,X,b)"
   ]
  },
  {
   "cell_type": "code",
   "execution_count": null,
   "metadata": {
    "ExecuteTime": {
     "end_time": "2020-06-29T02:16:55.441729Z",
     "start_time": "2020-06-29T02:16:55.399696Z"
    },
    "hidden": true
   },
   "outputs": [],
   "source": [
    "# test the explicit deformation map for a number of triangles\n",
    "tris = mesh.triangles[71]\n",
    "trim = mesh.triangles[30]\n",
    "mtos = get_phi(trim,tris)\n",
    "trim_mapped = np.array([mtos(trim[0]),mtos(trim[1]),mtos(trim[2])])\n",
    "print('tris is')\n",
    "print(tris)\n",
    "print('trim is mapped to')\n",
    "print(trim_mapped)\n",
    "print('difference after mapping is')\n",
    "print(tris - trim_mapped)\n",
    "assert(np.isclose(tris - trim_mapped,0.).all())\n",
    "# print(phi(F,trim[0],b))\n",
    "# print(phi(F,trim[1],b))\n",
    "# print(phi(F,trim[2],b))"
   ]
  },
  {
   "cell_type": "code",
   "execution_count": null,
   "metadata": {
    "ExecuteTime": {
     "end_time": "2020-06-28T23:52:03.858518Z",
     "start_time": "2020-06-28T23:52:03.829666Z"
    },
    "hidden": true
   },
   "outputs": [],
   "source": []
  },
  {
   "cell_type": "markdown",
   "metadata": {
    "heading_collapsed": true,
    "hidden": true
   },
   "source": [
    "## DONE: compute the piola-kirchoff stress tensor for the corotated linear elastic constitutive relation.  Then compute the nodal forces for a triangle stretched by a known amount.\n"
   ]
  },
  {
   "cell_type": "markdown",
   "metadata": {
    "ExecuteTime": {
     "end_time": "2020-06-29T00:02:12.286039Z",
     "start_time": "2020-06-29T00:02:12.251847Z"
    },
    "hidden": true
   },
   "source": [
    "The explicit deformation map is\n",
    "\n",
    "$$\\vec{x}= \\vec{\\phi}(\\vec{X}; \\vec{x})= \\mathbf{F}(\\vec{X}; \\vec{x})\\cdot \\vec{X} + \\vec{b}(\\vec{X}; \\vec{x})$$\n",
    "\n",
    "where\n",
    "\n",
    "$$\\mathbf{F}(\\vec{X}; \\vec{x}) = \\mathbf{S}\\cdot\\mathbf{R}$$ \n",
    "and \n",
    "$$\\vec{b}(\\vec{X}; \\vec{x}) = tris[0] - \\mathbf{F}(\\vec{X}; \\vec{x}) \\cdot trim[0].$$\n",
    "\n",
    "$S$ this is all that's needed to compute the elastic force for a given constitutive relation that's homogeneous and isotropic.  We suppose rotational invariance in the following elastic energy density:\n",
    "\n",
    "$$\n",
    "\\Psi(F=SR) = \\mu||S-\\mathbb{1}||^2 + \\frac{\\lambda}{2}\\text{tr}^2(S-\\mathbb{1})\n",
    "$$\n",
    "\n",
    "Where $\\mu$ and $\\lambda$ are the first and second Lamé parameters, measuring resistance to stretching/shearing and volume change, respectively.\n",
    "\n",
    "It can be shown this results in the following first Piola-Kirchoff stress tensor:\n",
    "\n",
    "$$\n",
    "\\mathbf{P}(\\mathbf{F})= 2\\mu(\\mathbf{S}-\\mathbb{1})\\mathbf{R} + \\lambda \\text{tr}(\\mathbf{S}-\\mathbb{1})\\mathbf{R}\n",
    "$$\n",
    "\n",
    "There is the following conversion to Lamé's parameters from Young's modulus, $k$, and Poisson's ratio, $\\nu$:\n",
    "\n",
    "$$\n",
    "\\mu = \\frac{k}{2(1+\\nu)},\\qquad \\lambda=\\frac{k\\nu}{(1+\\nu)(1-2\\nu)}\n",
    "$$\n"
   ]
  },
  {
   "cell_type": "code",
   "execution_count": null,
   "metadata": {
    "ExecuteTime": {
     "end_time": "2020-07-02T06:23:14.683159Z",
     "start_time": "2020-07-02T06:23:14.656127Z"
    },
    "hidden": true
   },
   "outputs": [],
   "source": [
    "# def get_calc_P(mu, lam, one, delta):\n",
    "#     '''returns the first Piola-Kirchoff stress tensor ( times the constant membrane thickness, delta) \n",
    "#     from the corotated linear constitutive model for elastic stress.\n",
    "#     Example Usage - given deformation matrix F = S.dot(R):\n",
    "#     mu = 1.; lam = 1.; delta = 0.1; one = np.eye(3);\n",
    "#     calc_P = get_calc_P(mu, lam, one, delta)\n",
    "#     P = calc_P(S, R)'''\n",
    "#     return lambda S, R: delta * (2*mu*(S - one).dot(R) + lam*np.trace(S - one) * R)\n",
    "\n",
    "# def calc_outward_normals(trim):\n",
    "#     '''\n",
    "#     returns the outward unit normal vectors for the triangle, trim.\n",
    "#     trim is a 3x3 numpy array.\n",
    "#     '''\n",
    "#     #compute local unit vectors of triangle's shape and center of mass (com)\n",
    "#     d1, d2, A = get_shape(trim)\n",
    "#     c   = trim[2] - trim[1]\n",
    "#     c  /= np.linalg.norm(c)\n",
    "#     d1 /= np.linalg.norm(d1)\n",
    "#     d2 /= np.linalg.norm(d2)\n",
    "#     A  /= np.linalg.norm(A)\n",
    "#     com     = (trim[0]+trim[1]+trim[2])/3\n",
    "\n",
    "#     #precompute the outward normals in material space\n",
    "#     #and test that the outward normals are indeed outward\n",
    "#     N1 = np.cross(d1,A)\n",
    "#     N1tilde = (trim[0]+trim[1])/2 - com\n",
    "#     if N1.dot(N1tilde)<0:\n",
    "#         N1 *= -1\n",
    "#         print(\"N1 was flipped.\")\n",
    "#     N2 = np.cross(-d2,A)\n",
    "#     N2tilde = (trim[0]+trim[2])/2 - com\n",
    "#     if N2.dot(N2tilde)<0:\n",
    "#         N2 *= -1\n",
    "#         print(\"N2 was flipped.\")\n",
    "#     N3 = np.cross(c,A)\n",
    "#     N3tilde = (trim[2]+trim[1])/2 - com\n",
    "#     if N3.dot(N3tilde)<0:\n",
    "#         N3 *= -1\n",
    "#         print(\"N3 was flipped.\")\n",
    "#     return N1,N2,N3"
   ]
  },
  {
   "cell_type": "markdown",
   "metadata": {
    "hidden": true
   },
   "source": [
    "### functional computation of nodal forces due to elasticity"
   ]
  },
  {
   "cell_type": "code",
   "execution_count": null,
   "metadata": {
    "ExecuteTime": {
     "end_time": "2020-07-01T00:21:51.472858Z",
     "start_time": "2020-07-01T00:21:51.448459Z"
    },
    "hidden": true
   },
   "outputs": [],
   "source": [
    "#compute P, first Piola-Kirchoff stress tensor\n",
    "mu  = 1. #first  lame parameter, kPa\n",
    "lam = 1. #second lame parameter, kPa\n",
    "delta = .01 #small thickness of membrane\n",
    "one = np.eye(3)\n",
    "calc_P = get_calc_P(mu, lam, one, delta)\n",
    "def calc_elastic_force(trim, tris, calc_P, N1N2N3):\n",
    "    '''N1N2N3 are the precomputed outward normals of trim returned by compute_outward_normals\n",
    "    calc_P is returned by get_calc_P,\n",
    "    tris and trim are 3x3 numpy arrays of floats'''\n",
    "    S, R = get_SR(trim,tris)\n",
    "    P    = calc_P(S, R)\n",
    "    N1,N2,N3 = N1N2N3  #TODO: precompute these if they're too slow\n",
    "\n",
    "    #compute the net force on each side of tris\n",
    "    D1 = np.linalg.norm(tris[1]-tris[0])\n",
    "    D2 = np.linalg.norm(tris[2]-tris[0])\n",
    "    C  = np.linalg.norm(tris[2]-tris[1])\n",
    "    F1 = - P.dot(N1) * D1\n",
    "    F2 = - P.dot(N2) * D2\n",
    "    F3 = - P.dot(N3) * C\n",
    "\n",
    "    #compute the equivalent nodal forces on each vertex of tris\n",
    "    nf0 = (F1 + F2)/2.  #the nodal force on the vertex at tris[0]\n",
    "    nf1 = (F1 + F3)/2.  #the nodal force on the vertex at tris[1]\n",
    "    nf2 = (F3 + F2)/2.  #the nodal force on the vertex at tris[2]\n",
    "    return nf0, nf1, nf2"
   ]
  },
  {
   "cell_type": "code",
   "execution_count": null,
   "metadata": {
    "ExecuteTime": {
     "end_time": "2020-07-01T00:21:52.087488Z",
     "start_time": "2020-07-01T00:21:52.063649Z"
    },
    "hidden": true
   },
   "outputs": [],
   "source": [
    "calc_elastic_force(trim, tris, calc_P,calc_outward_normals(trim))"
   ]
  },
  {
   "cell_type": "code",
   "execution_count": null,
   "metadata": {
    "ExecuteTime": {
     "end_time": "2020-07-01T00:21:53.224104Z",
     "start_time": "2020-07-01T00:21:53.203292Z"
    },
    "hidden": true
   },
   "outputs": [],
   "source": [
    "trim = mesh.triangles[153]\n",
    "\n",
    "#dilate trim to make a tris with a predicted form\n",
    "sscale = 2.\n",
    "tris = trim*sscale\n",
    "\n",
    "# tris = mesh.triangles[71]\n",
    "# d1, d2, A = get_shape(trim)\n",
    "# com     = (trim[0]+trim[1]+trim[2])/3\n",
    "# (trim[0]-com)\n",
    "# np.array([\n",
    "#     trim[0] + d1\n",
    "#     trim[0] + d2,\n",
    "#     ,\n",
    "# ])"
   ]
  },
  {
   "cell_type": "code",
   "execution_count": null,
   "metadata": {
    "ExecuteTime": {
     "end_time": "2020-07-01T00:21:54.353348Z",
     "start_time": "2020-07-01T00:21:54.330148Z"
    },
    "hidden": true
   },
   "outputs": [],
   "source": [
    "#compute P, first Piola-Kirchoff stress tensor\n",
    "mu  = 1. #first  lame parameter, kPa\n",
    "lam = 1. #second lame parameter, kPa\n",
    "delta = .01 #small thickness of membrane\n",
    "one = np.eye(3)\n",
    "S, R = get_SR(trim,tris)\n",
    "P = calc_P(S, R)\n",
    "N1,N2,N3 = calc_outward_normals(trim)"
   ]
  },
  {
   "cell_type": "code",
   "execution_count": null,
   "metadata": {
    "ExecuteTime": {
     "end_time": "2020-07-01T00:21:57.538391Z",
     "start_time": "2020-07-01T00:21:57.510120Z"
    },
    "hidden": true
   },
   "outputs": [],
   "source": [
    "#compute the net force on each side of tris\n",
    "D1 = np.linalg.norm(tris[1]-tris[0])\n",
    "D2 = np.linalg.norm(tris[2]-tris[0])\n",
    "C  = np.linalg.norm(tris[2]-tris[1])\n",
    "F1 = - P.dot(N1) * D1\n",
    "F2 = - P.dot(N2) * D2\n",
    "F3 = - P.dot(N3) * C"
   ]
  },
  {
   "cell_type": "code",
   "execution_count": null,
   "metadata": {
    "ExecuteTime": {
     "end_time": "2020-07-01T00:22:08.054640Z",
     "start_time": "2020-07-01T00:22:08.027286Z"
    },
    "hidden": true
   },
   "outputs": [],
   "source": [
    "# #compute the equivalent nodal forces on each vertex of tris\n",
    "nf0, nf1, nf2 = calc_elastic_force(trim, tris, calc_P, calc_outward_normals(trim))\n",
    "# nf0 = (F1 + F2)/2. \n",
    "# nf1 = (F1 + F3)/2.\n",
    "# nf2 = (F3 + F2)/2."
   ]
  },
  {
   "cell_type": "code",
   "execution_count": null,
   "metadata": {
    "ExecuteTime": {
     "end_time": "2020-07-01T00:22:09.263487Z",
     "start_time": "2020-07-01T00:22:09.232003Z"
    },
    "hidden": true
   },
   "outputs": [],
   "source": [
    "#compute the deformed triangle\n",
    "ds1, ds2, As = get_shape(tris)\n",
    "dm1, dm2, Am = get_shape(trim)\n",
    "\n",
    "#test that the local \"x\" axis is aligned by R\n",
    "xhat = ds1 / np.linalg.norm(ds1)\n",
    "\n",
    "#yhat is not needed for energy calculation, but is needed for deformation gradient calculation via outer product\n",
    "yhat = np.cross(As, xhat)\n",
    "yhat /= np.linalg.norm(yhat)\n",
    "\n",
    "xs1 = xhat.dot(ds1)  # full length\n",
    "ys1 = yhat.dot(ds1)  # zero\n",
    "xs2 = xhat.dot(ds2)\n",
    "ys2 = yhat.dot(ds2)\n",
    "\n",
    "xm1 = xhat.dot(R.dot(dm1))  # full length\n",
    "ym1 = yhat.dot(R.dot(dm1))  # zero\n",
    "xm2 = xhat.dot(R.dot(dm2))\n",
    "ym2 = yhat.dot(R.dot(dm2))\n",
    "\n",
    "xshift = (xs2+xs1)/6\n",
    "yshift = (ys2+ys1)/6\n",
    "xs_values = [0., xs2, xs1, 0.]\n",
    "ys_values = [0., ys2, ys1, 0.]\n",
    "xm_values = np.array([0., xm2, xm1, 0.]) + xshift\n",
    "ym_values = np.array([0., ym2, ym1, 0.]) + yshift"
   ]
  },
  {
   "cell_type": "code",
   "execution_count": null,
   "metadata": {
    "ExecuteTime": {
     "end_time": "2020-06-30T20:40:38.959427Z",
     "start_time": "2020-06-30T20:40:38.245495Z"
    },
    "hidden": true
   },
   "outputs": [],
   "source": [
    "#plot up those nodal force examples.  Are they sensible?\n",
    "scale_arrows = 3.2\n",
    "plt.plot(xs_values, ys_values, 'k')\n",
    "plt.plot(xm_values, ym_values, 'b')\n",
    "\n",
    "\n",
    "#nodal forces\n",
    "plt.arrow(0,0,nf0.dot(xhat)*scale_arrows,nf0.dot(yhat)*scale_arrows, color='red', head_width=.01)\n",
    "plt.arrow(xs1,ys1,nf1.dot(xhat)*scale_arrows,nf1.dot(yhat)*scale_arrows, color='green', head_width=.01)\n",
    "plt.arrow(xs2,ys2,nf2.dot(xhat)*scale_arrows,nf2.dot(yhat)*scale_arrows, color='blue', head_width=.01)\n",
    "\n",
    "#forces on the sides of triangles\n",
    "plt.arrow(0+xs1/2,0+ys1/2,F1.dot(xhat)*scale_arrows,F1.dot(yhat)*scale_arrows, color='black', head_width=.02)\n",
    "plt.arrow(0+xs2/2,0+ys2/2,F2.dot(xhat)*scale_arrows,F2.dot(yhat)*scale_arrows, color='black', head_width=.02)\n",
    "plt.arrow(xs1/2+xs2/2,ys1/2+ys2/2,F3.dot(xhat)*scale_arrows,F3.dot(yhat)*scale_arrows, color='black', head_width=.02)\n",
    "\n",
    "\n",
    "plt.title('nodal forces due to stretching', fontsize=20)\n",
    "plt.axis('off')\n",
    "# plt.plot(xm_values, ym_values, 'b')\n",
    "plt.show()\n",
    "# plt.savefig(f\"{nb_dir}/Figures/nodal_forces_example3.png\",dpi=400)\n"
   ]
  },
  {
   "cell_type": "code",
   "execution_count": null,
   "metadata": {
    "ExecuteTime": {
     "end_time": "2020-06-29T04:11:05.389022Z",
     "start_time": "2020-06-29T04:11:05.367276Z"
    },
    "hidden": true
   },
   "outputs": [],
   "source": []
  },
  {
   "cell_type": "code",
   "execution_count": null,
   "metadata": {
    "ExecuteTime": {
     "end_time": "2020-06-30T20:40:43.628076Z",
     "start_time": "2020-06-30T20:40:43.595353Z"
    },
    "hidden": true
   },
   "outputs": [],
   "source": [
    "# test that the nodal forces are in plane with the deformed triangle\n",
    "assert(np.isclose(As.dot(nf0),0.))\n",
    "assert(np.isclose(As.dot(nf1),0.))\n",
    "assert(np.isclose(As.dot(nf2),0.))\n",
    "assert(np.isclose(As.dot(F1),0.))\n",
    "assert(np.isclose(As.dot(F2),0.))\n",
    "assert(np.isclose(As.dot(F3),0.))"
   ]
  },
  {
   "cell_type": "code",
   "execution_count": null,
   "metadata": {
    "ExecuteTime": {
     "end_time": "2020-06-30T20:41:13.203561Z",
     "start_time": "2020-06-30T20:41:13.173726Z"
    },
    "hidden": true
   },
   "outputs": [],
   "source": [
    "print(*calc_elastic_force(trim, tris, calc_P))"
   ]
  },
  {
   "cell_type": "code",
   "execution_count": null,
   "metadata": {
    "hidden": true
   },
   "outputs": [],
   "source": []
  },
  {
   "cell_type": "markdown",
   "metadata": {
    "ExecuteTime": {
     "end_time": "2020-06-28T22:58:02.975158Z",
     "start_time": "2020-06-28T22:58:02.947646Z"
    },
    "hidden": true
   },
   "source": [
    "A Possible Future Glitch could occur if there's a lot fo twisting, which I don't expect\n",
    "- if R.dot(Amhat).dot(Ashat)<0 and/or \n",
    "- if xi2 < 0\n",
    "\n",
    "Plot force vectors, frequently and consider printing when ^these conditions occur."
   ]
  },
  {
   "cell_type": "markdown",
   "metadata": {
    "heading_collapsed": true,
    "hidden": true
   },
   "source": [
    "## DONE: the net forces for each vertex\n",
    "- then plot net forces on a sphere\n",
    "- then add pressure forces\n",
    "- then measure some representative values\n",
    "- then use FEI, and plot those values as the sphere undergoes isobaric expansion."
   ]
  },
  {
   "cell_type": "markdown",
   "metadata": {
    "heading_collapsed": true,
    "hidden": true
   },
   "source": [
    "### Compute pressure forces for each node\n",
    "TODO(for better performance): compute nodal pressure force for each triangle, then just iterate over all triangles once"
   ]
  },
  {
   "cell_type": "code",
   "execution_count": null,
   "metadata": {
    "ExecuteTime": {
     "end_time": "2020-06-30T20:49:45.932365Z",
     "start_time": "2020-06-30T20:49:45.894065Z"
    },
    "hidden": true
   },
   "outputs": [],
   "source": [
    "# compute the pressure forces on each vertex\n",
    "#using my Astar method\n",
    "pressure = 1. #the pressure difference between the inside and the outside of the mesh\n",
    "pres sure_forces = np.array([get_A(vid, mesh) for vid in range(mesh.vertices.shape[0])])\n",
    "pressure_forces *= pressure\n",
    "pressure_forces[0]\n",
    "\n",
    "# # the mean normals of the faces the vertex is used in.\n",
    "# P = 1. #the pressure difference between the inside and the outside of the mesh\n",
    "# pressure_forces = np.array([mesh.vertex_normals[vid] for vid in range(mesh.vertices.shape[0])])\n",
    "# pressure_forces *= P"
   ]
  },
  {
   "cell_type": "code",
   "execution_count": null,
   "metadata": {
    "ExecuteTime": {
     "end_time": "2020-06-30T20:49:57.719046Z",
     "start_time": "2020-06-30T20:49:57.690785Z"
    },
    "hidden": true
   },
   "outputs": [],
   "source": [
    "FP_lst = []\n",
    "for F in pressure_forces:\n",
    "    FP_lst.append(np.linalg.norm(F))"
   ]
  },
  {
   "cell_type": "code",
   "execution_count": null,
   "metadata": {
    "ExecuteTime": {
     "end_time": "2020-06-30T20:49:58.427031Z",
     "start_time": "2020-06-30T20:49:58.201554Z"
    },
    "hidden": true
   },
   "outputs": [],
   "source": [
    "fontsize=20\n",
    "plt.hist(FP_lst, bins=30)\n",
    "plt.title('distribution of net pressure \\nforce magnitudes at vertices', fontsize=fontsize)\n",
    "plt.ylabel('freq.', fontsize=fontsize)\n",
    "plt.xlabel('Force (force units)',fontsize=fontsize)\n",
    "plt.show()"
   ]
  },
  {
   "cell_type": "markdown",
   "metadata": {
    "hidden": true
   },
   "source": [
    "### net elastic forces by iterating over the triangular faces"
   ]
  },
  {
   "cell_type": "code",
   "execution_count": null,
   "metadata": {
    "ExecuteTime": {
     "end_time": "2020-06-30T20:50:00.758032Z",
     "start_time": "2020-06-30T20:50:00.734858Z"
    },
    "hidden": true
   },
   "outputs": [],
   "source": [
    "# where each trim is tris*sscale\n",
    "sscale = 0.5"
   ]
  },
  {
   "cell_type": "code",
   "execution_count": null,
   "metadata": {
    "ExecuteTime": {
     "end_time": "2020-06-30T22:13:32.239258Z",
     "start_time": "2020-06-30T22:13:31.683670Z"
    },
    "hidden": true
   },
   "outputs": [],
   "source": [
    "# this takes 0.5 seconds to compute the net forces on 500 rows.  Not ideal\n",
    "net_elastic_forces = 0.*np.array(mesh.vertices)\n",
    "for fid, face in enumerate(mesh.faces):\n",
    "    vid0,vid1,vid2 = mesh.faces[fid]\n",
    "    tris = mesh.triangles[fid]\n",
    "    trim = tris.copy()*sscale\n",
    "    nf0, nf1, nf2 = calc_elastic_force(trim, tris, calc_P)\n",
    "    net_elastic_forces[vid0] += nf0\n",
    "    net_elastic_forces[vid1] += nf1\n",
    "    net_elastic_forces[vid2] += nf2"
   ]
  },
  {
   "cell_type": "code",
   "execution_count": null,
   "metadata": {
    "ExecuteTime": {
     "end_time": "2020-06-30T22:13:32.393467Z",
     "start_time": "2020-06-30T22:13:32.348947Z"
    },
    "hidden": true
   },
   "outputs": [],
   "source": [
    "F_lst = []\n",
    "for F in net_elastic_forces:\n",
    "    F_lst.append(np.linalg.norm(F))\n",
    "F_lst = np.array(F_lst)\n"
   ]
  },
  {
   "cell_type": "code",
   "execution_count": null,
   "metadata": {
    "ExecuteTime": {
     "end_time": "2020-06-30T20:52:18.447737Z",
     "start_time": "2020-06-30T20:52:18.417029Z"
    },
    "hidden": true
   },
   "outputs": [],
   "source": []
  },
  {
   "cell_type": "code",
   "execution_count": null,
   "metadata": {
    "ExecuteTime": {
     "end_time": "2020-06-30T22:13:33.708321Z",
     "start_time": "2020-06-30T22:13:33.476883Z"
    },
    "hidden": true
   },
   "outputs": [],
   "source": [
    "plt.hist(F_lst, bins=30)\n",
    "plt.title('distribution of net spring force magnitudes',fontsize=fontsize)#\\nfor $\\gamma=0.5$ and $k=1$ force/length units')\n",
    "plt.ylabel('freq.',fontsize=fontsize)\n",
    "plt.xlabel('Force (force units)',fontsize=fontsize)\n",
    "plt.show()"
   ]
  },
  {
   "cell_type": "markdown",
   "metadata": {
    "heading_collapsed": true,
    "hidden": true
   },
   "source": [
    "### angles between net spring forces and net pressure forces"
   ]
  },
  {
   "cell_type": "code",
   "execution_count": null,
   "metadata": {
    "ExecuteTime": {
     "end_time": "2020-06-30T22:13:46.288587Z",
     "start_time": "2020-06-30T22:13:46.256217Z"
    },
    "hidden": true
   },
   "outputs": [],
   "source": [
    "angle_lst = []\n",
    "for v1,v2 in zip(pressure_forces,net_elastic_forces):\n",
    "    angle_lst.append(angle_between(v1,v2))"
   ]
  },
  {
   "cell_type": "code",
   "execution_count": null,
   "metadata": {
    "ExecuteTime": {
     "end_time": "2020-06-30T22:14:34.011432Z",
     "start_time": "2020-06-30T22:14:33.444118Z"
    },
    "hidden": true
   },
   "outputs": [],
   "source": [
    "plt.hist(angle_lst, bins=30)\n",
    "plt.title('distribution of angles between\\npressure forces and net elastic forces',fontsize=fontsize)\n",
    "plt.ylabel('freq.',fontsize=fontsize)\n",
    "plt.xlabel('angle (degrees)',fontsize=fontsize)\n",
    "plt.show()"
   ]
  },
  {
   "cell_type": "markdown",
   "metadata": {
    "heading_collapsed": true
   },
   "source": [
    "# dev for force array calculation"
   ]
  },
  {
   "cell_type": "code",
   "execution_count": null,
   "metadata": {
    "ExecuteTime": {
     "end_time": "2020-07-02T07:15:45.722262Z",
     "start_time": "2020-07-02T07:15:45.696480Z"
    },
    "hidden": true
   },
   "outputs": [],
   "source": [
    "\n",
    "# print(pressure)\n",
    "#compute nodal pressure forces using my Astar method - sufficiently fast.\n",
    "# pressure = .1 #the pressure difference between the inside and the outside of the mesh\n",
    "# pressure_forces = pressure * np.array([get_A(vid, mesh) for vid in range(mesh.vertices.shape[0])])"
   ]
  },
  {
   "cell_type": "code",
   "execution_count": null,
   "metadata": {
    "ExecuteTime": {
     "end_time": "2020-07-02T07:20:52.692084Z",
     "start_time": "2020-07-02T07:20:52.668791Z"
    },
    "hidden": true
   },
   "outputs": [],
   "source": [
    "#assign model parameters\n",
    "# del x0_constant_mat, k_constant_mat\n",
    "\n",
    "#assign params for isobaric expansion experiment\n",
    "# P = 1.   #    5.*1333.    #gcm/s^2 / cm^2\n",
    "# mu = .1; lam = .1; delta = 0.1; one = np.eye(3);\n",
    "\n",
    "# #compute dampings\n",
    "# #keep it simple, stupid!\n",
    "# def calc_damping(k,mass,overdamping=0.):\n",
    "#     dampings = np.sqrt(np.divide(k, mass)) + overdamping\n",
    "#     return dampings\n",
    "\n",
    "# #just don't: after running 1 time step, construct a constant diagonal vertex damping matrix as a function of csr_K\n",
    "# # dampings = np.divide(calc_damping(lam,mass,overdamping=0.3),mass)\n",
    "# dampings = 200 + 0.*dampings #set it to 200mass #\n",
    "\n",
    "# plt.hist(mass)\n",
    "# plt.show()"
   ]
  },
  {
   "cell_type": "code",
   "execution_count": null,
   "metadata": {
    "ExecuteTime": {
     "end_time": "2020-07-02T07:17:52.491942Z",
     "start_time": "2020-07-02T07:17:52.464230Z"
    },
    "hidden": true
   },
   "outputs": [],
   "source": [
    "# # this takes 0.5 seconds to compute the net forces on 500 rows.  Not ideal\n",
    "# # a number of functions need to be njit'd to get this down to ~30ms like pressure\n",
    "# def calc_elastic_forces(net_elastic_forces, mesh, comp, outward_normals):\n",
    "#     #for each face\n",
    "#     for fid, face in enumerate(mesh.faces):\n",
    "#         vid0,vid1,vid2 = mesh.faces[fid]\n",
    "#         trim = np.array(mesh.triangles[fid])\n",
    "#         tris = np.array(comp.triangles[fid])\n",
    "#         #compute elastic nodal forces\n",
    "#         N1N2N3 = outward_normals[fid]\n",
    "#         nf0, nf1, nf2 = calc_elastic_force(trim, tris, calc_P, N1N2N3)\n",
    "#         net_elastic_forces[vid0] += nf0\n",
    "#         net_elastic_forces[vid1] += nf1\n",
    "#         net_elastic_forces[vid2] += nf2\n",
    "\n",
    "damping_const"
   ]
  },
  {
   "cell_type": "markdown",
   "metadata": {},
   "source": [
    "# [SIMULATION] Use FEI time stepping to slowly integrate this ode over a long period of time\n",
    "- Experimental design: isobaric expansion for small spring forces.\n"
   ]
  },
  {
   "cell_type": "code",
   "execution_count": null,
   "metadata": {
    "ExecuteTime": {
     "end_time": "2020-07-02T08:54:05.615284Z",
     "start_time": "2020-07-02T08:54:05.575576Z"
    }
   },
   "outputs": [],
   "source": [
    "#load desired mesh\n",
    "os.chdir(f'{nb_dir}/Data/spherical_meshes')\n",
    "mesh = trimesh.load('spherical_mesh_400.stl')\n",
    "#subtract the center of mass\n",
    "mesh.vertices -= mesh.center_mass\n",
    "\n",
    "#set the initial volume\n",
    "V_initial = 26 #cm^3\n",
    "# mesh.vertices /= np.cbrt((mesh.volume)*3/(4*np.pi))\n",
    "mesh.vertices *= np.cbrt(V_initial/mesh.volume)\n",
    "\n",
    "#normalize the mean radius to R\n",
    "# R = 1. #unit length\n",
    "# mesh.vertices *= R/np.mean(np.linalg.norm(mesh.vertices,axis=1))\n",
    "\n",
    "assert(mesh.is_watertight)\n",
    "assert(mesh.is_winding_consistent)\n",
    "\n",
    "# mean radius check\n",
    "print (f\"initial volume is {mesh.volume:.1f} cm^3.\")\n",
    "print (f\"which has a mean radius of {np.mean(np.linalg.norm(mesh.vertices,axis=1)):.1f} cm.\")\n"
   ]
  },
  {
   "cell_type": "code",
   "execution_count": null,
   "metadata": {
    "ExecuteTime": {
     "end_time": "2020-07-02T08:54:06.769129Z",
     "start_time": "2020-07-02T08:54:06.736732Z"
    }
   },
   "outputs": [],
   "source": [
    "#set material parameters\n",
    "pressure_mmhg = 5. #mmHg filling pressure\n",
    "pressure = 1333.*pressure_mmhg*1e-6 # 1 g cm / ms^2 = 10^-6 dyn/cm^2dyn/cm^2\n",
    "\n",
    "\n",
    "delta = 0.01; #cm \n",
    "mu = .01;   # 1 g cm / ms^2 = 10^-6 dyn/cm^2\n",
    "lam = 1.;      #1 g cm / ms^2\n",
    "one = np.eye(3);\n",
    "density = 1.05 #g/cm^3\n",
    "calc_P = get_calc_P(mu, lam, one, delta)\n",
    "\n",
    "#k = 1.   # youngs modulus   3000.*10**4        #gcm/s^2 / cm\n",
    "#nu= 1.   #poisson's ratio\n",
    "# extension =1.0  #unitless\n",
    "     \n",
    "#compute constant vector of vertex masses\n",
    "mass = np.array([get_mass(vid, mesh, density = density*delta) for vid in range(mesh.vertices.shape[0])])\n",
    "\n",
    "#set damping params\n",
    "crit_damp = np.around(np.sqrt(lam/np.mean(mass)*delta))  # 1/second\n",
    "damping_const = crit_damp # damping_const = float(3*10**3)  # 1/second\n",
    "print (f\"critical damping would at around {crit_damp} per millisecond.\")\n",
    "print (f\"damping was set to {damping_const:.1f} per millisecond.\")\n",
    "dampings = damping_const + 0.*mass\n"
   ]
  },
  {
   "cell_type": "code",
   "execution_count": null,
   "metadata": {
    "ExecuteTime": {
     "end_time": "2020-07-02T07:50:01.052498Z",
     "start_time": "2020-07-02T07:50:01.022875Z"
    }
   },
   "outputs": [],
   "source": [
    "\n"
   ]
  },
  {
   "cell_type": "code",
   "execution_count": null,
   "metadata": {
    "ExecuteTime": {
     "end_time": "2020-07-02T08:54:08.824295Z",
     "start_time": "2020-07-02T08:54:08.800715Z"
    }
   },
   "outputs": [],
   "source": [
    "#make file for logging results\n",
    "output_dir = nb_dir+'/Data/Log'\n",
    "if not os.path.exists(output_dir):\n",
    "    os.mkdir(output_dir)\n",
    "\n",
    "output_fn = f'unitful-elastic-expansion_Pfill_{pressure_mmhg:.1f}.csv'\n",
    "output_file = os.path.join(output_dir, output_fn)\n",
    "# output_file = get_incremented_output_filename(output_dir, output_fn)\n",
    "with open(output_file, 'w') as opened_file:\n",
    "    opened_file.write('time,volume,area,avg_Fs,avg_Fp,my_Q\\n')\n",
    "print(output_file)"
   ]
  },
  {
   "cell_type": "code",
   "execution_count": null,
   "metadata": {
    "ExecuteTime": {
     "end_time": "2020-07-02T08:54:09.329918Z",
     "start_time": "2020-07-02T08:54:09.302366Z"
    }
   },
   "outputs": [],
   "source": [
    "#reinitialize time\n",
    "tme = 0.\n",
    "\n",
    "assert(mesh.is_watertight)\n",
    "assert(mesh.is_winding_consistent)\n",
    "print(\"check average lengths:\")\n",
    "print(np.mean(np.linalg.norm(mesh.vertices,axis=1)))\n",
    "print(np.cbrt(mesh.volume*3/(4*np.pi)))\n",
    "\n",
    "comp = mesh.copy()#comp contains tris, mesh contains trim\n",
    "vertices = np.array(comp.vertices)\n",
    "velocity = 0.*np.array(comp.vertices)\n",
    "vertex_indices_of_caps = []\n",
    "\n",
    "# # identify vertices that are on the caps (and therefore do not move)\n",
    "# # caps = trimesh.load('Data/patient85_RA_caps.ply')\n",
    "# mesh_closed = trimesh.load('Data/patient85_RA_closed.ply')\n",
    "# mesh_closed.vertices /= 10 #convert length units from mm to cm\n",
    "# df = pd.read_csv('Data/patient85_RA_vertices.csv',index_col = 0)\n",
    "# vertex_indices_of_not_caps = list(df.query('group == -1').index)\n",
    "# vertex_indices_of_caps = list(df.query('group > -1').index)\n",
    "# mesh_open = mesh_closed.submesh((vertex_indices_of_not_caps,), append=True)\n",
    "# mesh_caps = mesh_closed.submesh((vertex_indices_of_caps,), append=True)\n",
    "# mesh = mesh_closed.copy()\n",
    "\n",
    "#remove connections that are on caps\n",
    "#note that this doesn't remove connections from non caps \n",
    "# to the caps, which is good.\n",
    "VN = mesh.vertex_neighbors\n",
    "for vid in vertex_indices_of_caps:\n",
    "    VN[vid] = []\n",
    "print(f\"initial mesh volume is {mesh.volume} cm^2.\")"
   ]
  },
  {
   "cell_type": "code",
   "execution_count": null,
   "metadata": {
    "ExecuteTime": {
     "end_time": "2020-07-02T08:54:10.920868Z",
     "start_time": "2020-07-02T08:54:10.709464Z"
    }
   },
   "outputs": [],
   "source": [
    "#precompute material space normals\n",
    "outward_normals = 0.*mesh.triangles.copy()\n",
    "for fid, trim in enumerate(mesh.triangles):\n",
    "    N1N2N3 = calc_outward_normals(trim)\n",
    "    outward_normals[fid] = N1N2N3\n",
    "#assert one of the normals is in fact a unit vector\n",
    "assert(np.isclose(np.linalg.norm(outward_normals[1][1]),1.))"
   ]
  },
  {
   "cell_type": "code",
   "execution_count": null,
   "metadata": {
    "ExecuteTime": {
     "end_time": "2020-07-02T08:54:12.028277Z",
     "start_time": "2020-07-02T08:54:11.335793Z"
    }
   },
   "outputs": [],
   "source": [
    "zero_array = 0.*np.array(mesh.vertices)\n",
    "velocity = zero_array.copy().T\n",
    "\n",
    "net_elastic_forces = zero_array.copy()\n",
    "calc_elastic_forces(net_elastic_forces, mesh, comp, outward_normals)"
   ]
  },
  {
   "cell_type": "code",
   "execution_count": null,
   "metadata": {
    "ExecuteTime": {
     "end_time": "2020-07-02T08:54:13.447046Z",
     "start_time": "2020-07-02T08:54:13.423761Z"
    }
   },
   "outputs": [],
   "source": [
    "# ym2 is negative."
   ]
  },
  {
   "cell_type": "code",
   "execution_count": null,
   "metadata": {
    "ExecuteTime": {
     "end_time": "2020-07-02T20:25:32.540083Z",
     "start_time": "2020-07-02T08:54:37.419643Z"
    }
   },
   "outputs": [],
   "source": [
    "h = 10**-3      #time step in seconds \n",
    "#advance in time and record data\n",
    "recording = True\n",
    "nsteps = int(1.*10**5)#2*10**5#6*10**1#7*10**3#2\n",
    "printProgressBar(0, nsteps, prefix = 'Progress:', suffix = 'Complete', length = 50)\n",
    "zero_txt = 0.*np.array(mesh.vertices)\n",
    "velocity = zero_txt.copy()\n",
    "dqdt_old = velocity.copy()\n",
    "dvdt_old = velocity.copy()\n",
    "N = mesh.vertices.shape[0] #number of vertices\n",
    "zero_txt = np.zeros((N,N)).astype('float32')\n",
    "zero_pos = np.array([0.,0.,0.]).astype('float32')\n",
    "\n",
    "\n",
    "with open(output_file, 'a') as opened_file:\n",
    "    for step in range(nsteps):\n",
    "        vertices = np.array(comp.vertices)\n",
    "\n",
    "        #compute pressure forces - takes 40ms - njit'd\n",
    "        pressure_forces = pressure * np.array([get_A(vid, comp) for vid in range(N)])\n",
    "\n",
    "        #compute elastic forces - takes 600ms - not njit'd\n",
    "        net_elastic_forces = zero_array.copy()\n",
    "        calc_elastic_forces(net_elastic_forces, mesh, comp, outward_normals)\n",
    "        Fnet = net_elastic_forces+pressure_forces\n",
    "        \n",
    "        #explicitely fix any vertex positions (none for sphere)\n",
    "        #for vid in vertex_indices_of_caps:\n",
    "        #    Fnet[vid] = zero_pos\n",
    "    \n",
    "        #integrate in time\n",
    "        dvdt       = np.divide(Fnet.T,mass) - np.multiply(dampings,velocity.T) #FEI\n",
    "#         dqdt       = np.divide(2 * momentum.T + dpdt.T , mass).T  # IMR is self adjoint and second order accurate\n",
    "        dqdt       = velocity + h * dvdt.T / 2 #IMR\n",
    "#         dqdt = dpdt #viscous motion approximation with trivial masses\n",
    "        \n",
    "#         comp.vertices += h   * dqdt\n",
    "#         comp.vertices += h/2 * (dqdt_old + dqdt)\n",
    "        #         momentum      += h/2 * (dpdt_old + dpdt)\n",
    "        comp.vertices += h * dqdt\n",
    "        #comp.vertices += h/2 * (dqdt_old + dqdt)\n",
    "        \n",
    "        dvdt_old = dvdt.copy()\n",
    "        dqdt_old = dqdt.copy()\n",
    "        velocity  += h   * dvdt.T\n",
    "\n",
    "        tme += h\n",
    "\n",
    "        if recording:\n",
    "            #measure desired observables\n",
    "            volume = comp.volume\n",
    "            area   = comp.area\n",
    "            avg_Fs, avg_Fp = mean_magnitudes(net_elastic_forces,pressure_forces)\n",
    "            my_Q   = get_Q(comp)\n",
    "             \n",
    "            #contiguous saving\n",
    "            stdout = tme, volume, area, avg_Fs, avg_Fp, my_Q\n",
    "            stdout = str((tme, volume, area, avg_Fs, avg_Fp, my_Q)).strip('()')+'\\n'\n",
    "            opened_file.write(stdout)\n",
    "            \n",
    "            #structured saving\n",
    "            # outdict = {'time':tme,\n",
    "            #     'volume':volume,\n",
    "            #     'area':area,\n",
    "            #     'avg_F_elastic':avg_Fs,\n",
    "            #     'avg_F_pressure':avg_Fp,\n",
    "            #     'my_Q':my_Q}\n",
    "\n",
    "        printProgressBar(step + 1, nsteps, prefix = 'Progress:', suffix = 'Complete', length = 50)\n",
    "beep(5)\n",
    "\n",
    "volume = comp.volume\n",
    "area   = comp.area\n",
    "avg_Fs, avg_Fp = mean_magnitudes(net_elastic_forces,pressure_forces)\n",
    "my_Q   = get_Q(comp)\n",
    "print(f\"curent time is {tme:.5f} milliseconds.\")\n",
    "print(f\"the volume is {volume:.6f} cm^3.\")\n",
    "print(f\"the avg spring force is {avg_Fs:.4f} gcm/ms^2.\")\n",
    "print(f\"the avg pressure force is {avg_Fp:.4f} gcm/ms^2.\")\n",
    "print(f\"the avg damping force is {np.mean(np.multiply(dampings,velocity.T).T):.4f} gcm/ms^2.\")"
   ]
  },
  {
   "cell_type": "code",
   "execution_count": null,
   "metadata": {
    "ExecuteTime": {
     "end_time": "2020-07-02T08:40:33.263976Z",
     "start_time": "2020-07-02T08:40:32.618327Z"
    }
   },
   "outputs": [],
   "source": [
    "print((step,tme))\n",
    "beep(3)"
   ]
  },
  {
   "cell_type": "markdown",
   "metadata": {},
   "source": [
    "# quicklook at most recent state"
   ]
  },
  {
   "cell_type": "code",
   "execution_count": null,
   "metadata": {
    "ExecuteTime": {
     "end_time": "2020-07-02T08:53:51.533164Z",
     "start_time": "2020-07-02T08:53:51.507247Z"
    }
   },
   "outputs": [],
   "source": [
    "# unit length changing?\n",
    "print('initially')\n",
    "r_init1 = np.mean(np.linalg.norm(mesh.vertices,axis=1)); r_init2 = mesh.volume#np.cbrt(mesh.volume*3/(4*np.pi))\n",
    "print(r_init1)\n",
    "print(r_init2)\n",
    "\n",
    "# unit length changing?\n",
    "print('finally')\n",
    "r_final1 = np.mean(np.linalg.norm(comp.vertices,axis=1)); r_final2 = comp.volume#np.cbrt(comp.volume*3/(4*np.pi))\n",
    "print(r_final1)\n",
    "print(r_final2)\n",
    "\n",
    "# percent increase in R at end of simulation\n",
    "print('percent increase')\n",
    "print(100 * (r_final1-r_init1)/r_init1) \n",
    "print(100 * (r_final2-r_init2)/r_init2) "
   ]
  },
  {
   "cell_type": "code",
   "execution_count": null,
   "metadata": {
    "ExecuteTime": {
     "end_time": "2020-07-02T20:53:23.666276Z",
     "start_time": "2020-07-02T20:53:23.660180Z"
    }
   },
   "outputs": [],
   "source": [
    "# comp.show()"
   ]
  },
  {
   "cell_type": "code",
   "execution_count": null,
   "metadata": {
    "ExecuteTime": {
     "end_time": "2020-07-02T20:51:17.205609Z",
     "start_time": "2020-07-02T20:51:17.200282Z"
    }
   },
   "outputs": [],
   "source": []
  },
  {
   "cell_type": "markdown",
   "metadata": {
    "heading_collapsed": true
   },
   "source": [
    "# plot all these net forces"
   ]
  },
  {
   "cell_type": "code",
   "execution_count": null,
   "metadata": {
    "ExecuteTime": {
     "end_time": "2020-07-02T07:43:28.726057Z",
     "start_time": "2020-07-02T07:43:28.696977Z"
    },
    "hidden": true
   },
   "outputs": [],
   "source": [
    "x, y, z = mesh.vertices.T\n",
    "u, v, w    = pressure_forces.T\n",
    "us, vs, ws = net_elastic_forces.T\n",
    "mean_magnitudes(net_elastic_forces,pressure_forces)"
   ]
  },
  {
   "cell_type": "code",
   "execution_count": null,
   "metadata": {
    "ExecuteTime": {
     "end_time": "2020-07-02T07:44:35.291931Z",
     "start_time": "2020-07-02T07:44:34.832675Z"
    },
    "hidden": true
   },
   "outputs": [],
   "source": [
    "fig = plt.figure(figsize=(6,6))\n",
    "ax = fig.gca(projection='3d')\n",
    "ax.quiver(x, y, z, u, v, w, length=.002, normalize=False, color='blue', label='pressure forces')\n",
    "ax.quiver(x, y, z, us, vs, ws, length=.002, normalize=False, color='orange', label='elastic forces')\n",
    "ax.legend()\n",
    "plt.show()\n"
   ]
  },
  {
   "cell_type": "markdown",
   "metadata": {
    "ExecuteTime": {
     "end_time": "2020-07-02T03:31:53.436535Z",
     "start_time": "2020-07-02T03:31:53.416198Z"
    },
    "hidden": true
   },
   "source": [
    "_Note_ First data run was not properly saved.  Rerun tonight with relevant parameters, to do that, I need to relate wall stress to mainly either the first or second lame parameter. my prediction, $\\lambda$"
   ]
  },
  {
   "cell_type": "markdown",
   "metadata": {
    "ExecuteTime": {
     "end_time": "2020-07-02T03:21:33.246480Z",
     "start_time": "2020-07-02T03:21:33.217345Z"
    },
    "heading_collapsed": true
   },
   "source": [
    "# DONE: find out whetehr final deformation is dominated by the second lame parameter, $\\lambda$\n",
    "- _Answer_ they're about even.  set them equal to $\\sim10^5$ dyn/mm$^2$.\n"
   ]
  },
  {
   "cell_type": "code",
   "execution_count": null,
   "metadata": {
    "ExecuteTime": {
     "end_time": "2020-07-02T04:26:01.398011Z",
     "start_time": "2020-07-02T04:26:01.375659Z"
    },
    "hidden": true
   },
   "outputs": [],
   "source": [
    "#first, test if there's a rough pressure-elastic force balance\n",
    "fe,fp = mean_magnitudes(net_elastic_forces,pressure_forces)\n",
    "print(f'Ratio of pressure forces to net nodal elastic forces is {fp/fe:.5f}')"
   ]
  },
  {
   "cell_type": "code",
   "execution_count": null,
   "metadata": {
    "ExecuteTime": {
     "end_time": "2020-07-02T04:30:31.459319Z",
     "start_time": "2020-07-02T04:30:31.429959Z"
    },
    "hidden": true
   },
   "outputs": [],
   "source": [
    "# compute the magnitude of either summand from the constitutive model\n",
    "print (2*mu*np.linalg.det((S - one)))\n",
    "print ( lam*np.trace(S - one) )"
   ]
  },
  {
   "cell_type": "code",
   "execution_count": null,
   "metadata": {
    "ExecuteTime": {
     "end_time": "2020-07-02T04:34:45.925532Z",
     "start_time": "2020-07-02T04:34:45.445541Z"
    },
    "hidden": true
   },
   "outputs": [],
   "source": [
    "lstmu = []\n",
    "lstlam= []\n",
    "for fid, tris in enumerate(comp.triangles):\n",
    "    trim = mesh.triangles[fid]\n",
    "    S, R = get_SR(trim,tris)\n",
    "    lstmu.append(2*mu*np.linalg.norm((S - one)))\n",
    "    lstlam.append(lam*np.trace(S - one) * np.linalg.norm(one))"
   ]
  },
  {
   "cell_type": "code",
   "execution_count": null,
   "metadata": {
    "ExecuteTime": {
     "end_time": "2020-07-02T04:34:46.384069Z",
     "start_time": "2020-07-02T04:34:46.356642Z"
    },
    "hidden": true
   },
   "outputs": [],
   "source": [
    "print (np.mean(np.array(lstmu)))\n",
    "print (np.mean(np.array(lstlam)))"
   ]
  },
  {
   "cell_type": "markdown",
   "metadata": {
    "ExecuteTime": {
     "end_time": "2020-07-02T04:34:27.854358Z",
     "start_time": "2020-07-02T04:34:27.815873Z"
    }
   },
   "source": [
    "# plot time series in output_file\n",
    "- #TODO(in a bit): add units relevant to cardiac mechanics \n",
    "- #TODO: run the sim again overnight"
   ]
  },
  {
   "cell_type": "code",
   "execution_count": null,
   "metadata": {
    "ExecuteTime": {
     "end_time": "2020-07-02T20:56:14.093416Z",
     "start_time": "2020-07-02T20:56:13.748309Z"
    }
   },
   "outputs": [],
   "source": [
    "#did results save to this file? Yes\n",
    "output_file = '/Users/timothytyree/Documents/GitHub/care/notebooks/rapids-notebooks/Data/Log/unitful-elastic-expansion_Pfill_5.0.csv'\n",
    "df = pd.read_csv(output_file)\n",
    "df.dropna(inplace=True)"
   ]
  },
  {
   "cell_type": "code",
   "execution_count": null,
   "metadata": {
    "ExecuteTime": {
     "end_time": "2020-07-02T20:56:16.031554Z",
     "start_time": "2020-07-02T20:56:15.985982Z"
    }
   },
   "outputs": [],
   "source": [
    "df.head()\n",
    "df['svr'] = df['area']/df['vovo']"
   ]
  },
  {
   "cell_type": "code",
   "execution_count": null,
   "metadata": {
    "ExecuteTime": {
     "end_time": "2020-07-02T20:56:36.605115Z",
     "start_time": "2020-07-02T20:56:36.109455Z"
    }
   },
   "outputs": [],
   "source": [
    "fontsize=16\n",
    "yfield = 'volume'\n",
    "x_values = df['time'].values\n",
    "y_values = df[yfield].values\n",
    "fig = plt.figure(figsize=(5,4))\n",
    "ax = fig.add_subplot()\n",
    "ax.scatter(x=x_values,y=100*(y_values-y_values[0])/y_values[0])\n",
    "ax.set_ylim([-0.001,0.0025])\n",
    "ax.set_xlim([-0.001,.4025])\n",
    "# ax.set_title('isobaric expansion in the overdamped limit',fontsize =fontsize)\n",
    "ax.set_ylabel(f'percent change \\nin {yfield} (\\%)',fontsize =fontsize)\n",
    "ax.set_xlabel('time (sec)',fontsize =fontsize)\n",
    "fig.tight_layout()\n",
    "# savefig_file = 'fig/plot_'+yfield+'_'+output_file.split('/')[-1].replace('.csv','.png')\n",
    "# fig.savefig(savefig_file, dpi = 300)\n",
    "#fig.show()"
   ]
  },
  {
   "cell_type": "code",
   "execution_count": null,
   "metadata": {
    "ExecuteTime": {
     "end_time": "2020-07-02T20:57:26.860680Z",
     "start_time": "2020-07-02T20:57:26.115297Z"
    }
   },
   "outputs": [],
   "source": [
    "fontsize=16\n",
    "yfield = 'area'\n",
    "x_values = df['time'].values\n",
    "y_values = df[yfield].values\n",
    "fig = plt.figure(figsize=(5,4))\n",
    "ax = fig.add_subplot()\n",
    "ax.scatter(x=x_values,y=100*(y_values-y_values[0])/y_values[0])\n",
    "ax.set_ylim([-0.001,0.25])\n",
    "ax.set_xlim([-0.001,.4025])# ax.set_title('isobaric expansion in the overdamped limit',fontsize =fontsize)\n",
    "ax.set_ylabel(f'percent change \\nin {yfield} (\\%)',fontsize =fontsize)\n",
    "ax.set_xlabel('time (sec)',fontsize =fontsize)\n",
    "#fig.show()\n",
    "fig.tight_layout()\n",
    "savefig_file = 'fig/plot_'+yfield+'_'+output_file.split('/')[-1].replace('.csv','.png')\n",
    "# fig.savefig(savefig_file, dpi = 300)"
   ]
  },
  {
   "cell_type": "code",
   "execution_count": null,
   "metadata": {
    "ExecuteTime": {
     "end_time": "2020-07-02T20:56:50.092329Z",
     "start_time": "2020-07-02T20:56:49.350643Z"
    }
   },
   "outputs": [],
   "source": [
    "fontsize=16\n",
    "yfield = 'avg force'\n",
    "x_values = df['time'].values\n",
    "fig = plt.figure(figsize=(5,4))\n",
    "ax = fig.add_subplot()\n",
    "y_values = df['avg_Fs'].values\n",
    "ax.scatter(x=x_values,y=y_values)\n",
    "# ax.scatter(x=x_values,y=100*(y_values-y_values[0])/y_values[0])\n",
    "y_values = df['avg_Fp'].values\n",
    "ax.scatter(x=x_values,y=y_values)\n",
    "# ax.scatter(x=x_values,y=100*(y_values-y_values[0])/y_values[0])\n",
    "ax.set_ylim([-0.001,0.0025])\n",
    "ax.set_xlim([-0.001,.4025])\n",
    "# ax.set_title('isobaric expansion in the overdamped limit',fontsize =fontsize)\n",
    "ax.set_ylabel(f'percent change \\nin {yfield} (\\%)',fontsize =fontsize)\n",
    "ax.set_xlabel('time (sec)',fontsize =fontsize)\n",
    "#fig.show()\n",
    "fig.tight_layout()\n",
    "savefig_file = 'fig/plot_'+yfield+'_'+output_file.split('/')[-1].replace('.csv','.png')\n",
    "# fig.savefig(savefig_file, dpi = 300)"
   ]
  },
  {
   "cell_type": "code",
   "execution_count": null,
   "metadata": {
    "ExecuteTime": {
     "end_time": "2020-07-02T20:30:41.402079Z",
     "start_time": "2020-07-02T20:30:41.364587Z"
    }
   },
   "outputs": [],
   "source": [
    "1+1"
   ]
  },
  {
   "cell_type": "code",
   "execution_count": null,
   "metadata": {},
   "outputs": [],
   "source": []
  },
  {
   "cell_type": "code",
   "execution_count": null,
   "metadata": {},
   "outputs": [],
   "source": []
  },
  {
   "cell_type": "code",
   "execution_count": null,
   "metadata": {},
   "outputs": [],
   "source": []
  },
  {
   "cell_type": "code",
   "execution_count": null,
   "metadata": {},
   "outputs": [],
   "source": [
    "#"
   ]
  }
 ],
 "metadata": {
  "kernelspec": {
   "display_name": "Python 3",
   "language": "python",
   "name": "python3"
  },
  "language_info": {
   "codemirror_mode": {
    "name": "ipython",
    "version": 3
   },
   "file_extension": ".py",
   "mimetype": "text/x-python",
   "name": "python",
   "nbconvert_exporter": "python",
   "pygments_lexer": "ipython3",
   "version": "3.7.3"
  },
  "toc": {
   "base_numbering": 1,
   "nav_menu": {},
   "number_sections": true,
   "sideBar": true,
   "skip_h1_title": false,
   "title_cell": "Table of Contents",
   "title_sidebar": "Contents",
   "toc_cell": false,
   "toc_position": {},
   "toc_section_display": true,
   "toc_window_display": false
  },
  "varInspector": {
   "cols": {
    "lenName": 16,
    "lenType": 16,
    "lenVar": 40
   },
   "kernels_config": {
    "python": {
     "delete_cmd_postfix": "",
     "delete_cmd_prefix": "del ",
     "library": "var_list.py",
     "varRefreshCmd": "print(var_dic_list())"
    },
    "r": {
     "delete_cmd_postfix": ") ",
     "delete_cmd_prefix": "rm(",
     "library": "var_list.r",
     "varRefreshCmd": "cat(var_dic_list()) "
    }
   },
   "types_to_exclude": [
    "module",
    "function",
    "builtin_function_or_method",
    "instance",
    "_Feature"
   ],
   "window_display": false
  }
 },
 "nbformat": 4,
 "nbformat_minor": 4
}
