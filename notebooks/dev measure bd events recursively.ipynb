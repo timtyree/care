{
 "cells": [
  {
   "cell_type": "markdown",
   "metadata": {},
   "source": [
    "# dev measure birth/death events recursively"
   ]
  },
  {
   "cell_type": "code",
   "execution_count": 38,
   "metadata": {
    "ExecuteTime": {
     "end_time": "2021-05-06T07:27:49.393112Z",
     "start_time": "2021-05-06T07:27:49.339789Z"
    }
   },
   "outputs": [
    {
     "name": "stdout",
     "output_type": "stream",
     "text": [
      "Automatic calling is: Smart\n",
      "The autoreload extension is already loaded. To reload it, use:\n",
      "  %reload_ext autoreload\n"
     ]
    }
   ],
   "source": [
    "from lib.my_initialization import *\n",
    "from lib.controller.controller_LR import get_one_step_explicit_synchronous_splitting\n",
    "from lib.model.LR_model import *\n",
    "from lib.utils.utils_traj import *\n",
    "from lib.routines.bdrates import *\n",
    "from lib.measure.utils_measure_tips_cpu import *\n",
    "from lib.utils.stack_txt_LR import *\n",
    "from lib.viewer import *\n",
    "import trackpy\n",
    "from lib.utils import load_buffer\n",
    "from lib.routines.return_min_distance import find_stopping_point\n",
    "\n",
    "#automate the boring stuff\n",
    "# from IPython import utils\n",
    "import time, os, sys, re\n",
    "beep = lambda x: os.system(\"echo -n '\\\\a';sleep 0.2;\" * x)\n",
    "if not 'nb_dir' in globals():\n",
    "    nb_dir = os.getcwd()\n",
    "    \n",
    "%autocall 1\n",
    "%load_ext autoreload\n",
    "%autoreload 2"
   ]
  },
  {
   "cell_type": "markdown",
   "metadata": {},
   "source": [
    "## TODO: dev python routine that takes in a spiral tip in pdict and follows it iteratively to its death, zooming in as needed, until a certain absolute tolerance is found in a zero minimum range is reached.  "
   ]
  },
  {
   "cell_type": "code",
   "execution_count": 39,
   "metadata": {
    "ExecuteTime": {
     "end_time": "2021-05-06T07:27:51.283413Z",
     "start_time": "2021-05-06T07:27:51.216751Z"
    }
   },
   "outputs": [
    {
     "name": "stdout",
     "output_type": "stream",
     "text": [
      "(200, 200, 18)\n"
     ]
    }
   ],
   "source": [
    "txt_fn=f'{nb_dir}/Data/test_data/ic008.33_t_218.8.npz'\n",
    "t=218.8\n",
    "dt=0.01\n",
    "txt=load_buffer(txt_fn)\n",
    "inVc,outVc,inmhjdfx,outmhjdfx,dVcdt=unstack_txt(txt)\n",
    "width,height=txt.shape[:2]\n",
    "print(txt.shape)"
   ]
  },
  {
   "cell_type": "code",
   "execution_count": 40,
   "metadata": {
    "ExecuteTime": {
     "end_time": "2021-05-06T07:27:53.952428Z",
     "start_time": "2021-05-06T07:27:53.294605Z"
    }
   },
   "outputs": [],
   "source": [
    "V_threshold=-50\n",
    "jump_threshold = 40\n",
    "ds=5.0\n",
    "# get_one_step\n",
    "__, arr39, one_step = get_one_step_explicit_synchronous_splitting(\n",
    "    nb_dir,dt,width,height,ds,diffCoef=0.0005,Cm=1.0)\n",
    "\n",
    "#the heavyweight spiral tip measures\n",
    "comp_dict_tips=get_comp_dict_topo_full_color(width=width,height=height,level1=V_threshold,level2=0,\n",
    "                                             jump_threshold=jump_threshold,ds=ds)\n",
    "# comp_dict_tips=get_compute_all_spiral_tips(width, height, mode='simp')\n",
    "comp_distance=get_distance_L2_pbc(width,height)"
   ]
  },
  {
   "cell_type": "code",
   "execution_count": 42,
   "metadata": {
    "ExecuteTime": {
     "end_time": "2021-05-06T07:28:21.047522Z",
     "start_time": "2021-05-06T07:28:18.387088Z"
    }
   },
   "outputs": [
    {
     "data": {
      "text/plain": [
       "4"
      ]
     },
     "execution_count": 42,
     "metadata": {},
     "output_type": "execute_result"
    }
   ],
   "source": [
    "#measure tips that are already present topologically (slower)\n",
    "img=inVc[...,0];dimgdt=dVcdt[...,0]\n",
    "# dict_topo=comp_dict_topo_simple(img,dimgdt,t)\n",
    "dict_topo=comp_dict_tips(img,dimgdt,t,txt)\n",
    "pid_lst_all=dict_topo['pid']\n",
    "n_tips=len(pid_lst_all)\n",
    "n_tips"
   ]
  },
  {
   "cell_type": "code",
   "execution_count": 46,
   "metadata": {
    "ExecuteTime": {
     "end_time": "2021-05-06T07:28:23.802552Z",
     "start_time": "2021-05-06T07:28:23.759865Z"
    }
   },
   "outputs": [
    {
     "data": {
      "text/plain": [
       "dict_keys(['x', 'y', 's1', 's2', 't', 'pid', 'greater_pid', 'lesser_pid', 'greater_arclen', 'lesser_arclen', 'greater_arclen_values', 'lesser_arclen_values', 'greater_mean_V', 'lesser_mean_V', 'greater_mean_curvature', 'lesser_mean_curvature', 'greater_xy_values', 'lesser_xy_values', 'greater_V_values', 'lesser_V_values', 'greater_curvature_values', 'lesser_curvature_values'])"
      ]
     },
     "execution_count": 46,
     "metadata": {},
     "output_type": "execute_result"
    }
   ],
   "source": [
    "dict_topo.keys()"
   ]
  },
  {
   "cell_type": "code",
   "execution_count": 47,
   "metadata": {
    "ExecuteTime": {
     "end_time": "2021-05-06T07:28:27.294299Z",
     "start_time": "2021-05-06T07:28:26.694273Z"
    }
   },
   "outputs": [],
   "source": [
    "#initialize system\n",
    "pdict=ParticlePBCDict(dict_tips=dict_topo, width=width, height=width)#, **kwargs)\n",
    "t_prev=t;txt_prev=txt.copy()\n",
    "# #zoom system\n",
    "# txt,pdict=zoom_system(txt,pdict)\n",
    "# txt,pdict=zoom_system(txt,pdict)\n",
    "# dt=dt/10\n",
    "# width,height=txt.shape[:2]\n",
    "# comp_dict_topo_simple=get_comp_dict_topo_simple(width=width,height=height,level1=V_threshold,level2=0)\n",
    "x_values,y_values,pid_values=pdict.get_current_locations()\n",
    "inVc,outVc,inmhjdfx,outmhjdfx,dVcdt=unstack_txt(txt)\n",
    "img=inVc[...,0];dimgdt=dVcdt[...,0]"
   ]
  },
  {
   "cell_type": "code",
   "execution_count": 48,
   "metadata": {
    "ExecuteTime": {
     "end_time": "2021-05-06T07:28:30.519514Z",
     "start_time": "2021-05-06T07:28:30.475250Z"
    }
   },
   "outputs": [],
   "source": [
    "scale=ds/width\n",
    "xy_values=np.array(tuple(zip(x_values,y_values)))\n",
    "assert(xy_values[0].shape[0]==2)"
   ]
  },
  {
   "cell_type": "code",
   "execution_count": 49,
   "metadata": {
    "ExecuteTime": {
     "end_time": "2021-05-06T07:28:39.549529Z",
     "start_time": "2021-05-06T07:28:39.498149Z"
    }
   },
   "outputs": [
    {
     "data": {
      "text/plain": [
       "[(0.21228192704422172, 3, 2),\n",
       " (19.635486143424185, 1, 0),\n",
       " (85.31496830431027, 3, 0),\n",
       " (85.49533638494285, 2, 0),\n",
       " (96.08268845547843, 2, 1),\n",
       " (96.27196815000205, 3, 1)]"
      ]
     },
     "execution_count": 49,
     "metadata": {},
     "output_type": "execute_result"
    }
   ],
   "source": [
    "#minimum distance of all pid found\n",
    "item_lst=[]\n",
    "for i in range(n_tips):\n",
    "    for j in range(n_tips):\n",
    "        if i > j:\n",
    "            #the ith tip location\n",
    "            point1=xy_values[i]\n",
    "            #the jth tip location\n",
    "            point2=xy_values[j]\n",
    "            #their distance, in cm\n",
    "            dist=comp_distance(point1,point2)\n",
    "            #add to list of distances\n",
    "            item=(dist,i,j)\n",
    "            item_lst.append(item)\n",
    "item_lst=sorted(item_lst)\n",
    "item_lst"
   ]
  },
  {
   "cell_type": "code",
   "execution_count": 50,
   "metadata": {
    "ExecuteTime": {
     "end_time": "2021-05-06T07:28:42.225454Z",
     "start_time": "2021-05-06T07:28:42.177269Z"
    }
   },
   "outputs": [],
   "source": [
    "#identify the pairs to follow to existential event\n",
    "num_pairs_to_follow=2\n",
    "pid_pair_lst=[]\n",
    "for item in item_lst[:num_pairs_to_follow]:\n",
    "    d,i,j=item\n",
    "    pid_pair=i,j\n",
    "    pid_pair_lst.append(pid_pair)\n"
   ]
  },
  {
   "cell_type": "code",
   "execution_count": 51,
   "metadata": {
    "ExecuteTime": {
     "end_time": "2021-05-06T07:28:44.160799Z",
     "start_time": "2021-05-06T07:28:44.119591Z"
    }
   },
   "outputs": [],
   "source": [
    "#define initialization target points as\n",
    "point_target_init_lst=[]\n",
    "for pid_pair in pid_pair_lst:\n",
    "    #the  mean location of these tips \n",
    "    point_target_init=np.mean((x_values[pid_pair[0]],x_values[pid_pair[1]])),np.mean((y_values[pid_pair[0]],y_values[pid_pair[1]]))\n",
    "    point_target_init_lst.append(point_target_init)"
   ]
  },
  {
   "cell_type": "code",
   "execution_count": 52,
   "metadata": {
    "ExecuteTime": {
     "end_time": "2021-05-06T07:28:45.743810Z",
     "start_time": "2021-05-06T07:28:45.696842Z"
    }
   },
   "outputs": [
    {
     "data": {
      "text/plain": [
       "2.363878298954001"
      ]
     },
     "execution_count": 52,
     "metadata": {},
     "output_type": "execute_result"
    }
   ],
   "source": [
    "#set range to some value\n",
    "#the ith tip location\n",
    "point1=np.array(point_target_init_lst[0])\n",
    "#the jth tip location\n",
    "point2=np.array(point_target_init_lst[1])\n",
    "#their distance, in cm\n",
    "r=comp_distance(point1,point2)*scale #cm distance between the targets\n",
    "r"
   ]
  },
  {
   "cell_type": "code",
   "execution_count": 53,
   "metadata": {
    "ExecuteTime": {
     "end_time": "2021-05-06T07:28:48.419079Z",
     "start_time": "2021-05-06T07:28:48.369133Z"
    }
   },
   "outputs": [],
   "source": [
    "# zooming in as needed, until a certain absolute tolerance is found in a zero minimum distance between tips is reached.  \n",
    "\n",
    "\n",
    ":\n",
    "# consider \n",
    "dict_atol={'batch':1e-4,'test':1e-2,'precise':1e-6}\n",
    "atol=dict_atol['test']\n",
    "## TODO: turn ^this into a python routine "
   ]
  },
  {
   "cell_type": "code",
   "execution_count": 54,
   "metadata": {
    "ExecuteTime": {
     "end_time": "2021-05-06T07:28:49.563090Z",
     "start_time": "2021-05-06T07:28:49.518059Z"
    }
   },
   "outputs": [],
   "source": [
    "# from inspect import getsource\n",
    "# print(getsource(find_stopping_point))"
   ]
  },
  {
   "cell_type": "code",
   "execution_count": 56,
   "metadata": {
    "ExecuteTime": {
     "end_time": "2021-05-06T07:41:47.699534Z",
     "start_time": "2021-05-06T07:34:37.204843Z"
    }
   },
   "outputs": [
    {
     "name": "stdout",
     "output_type": "stream",
     "text": [
      "death event found for pid_pair=(3, 2) at time t=228.79999999999092, where dt=0.01 and L=200...\n",
      "\t min_sigma_max=0.01397989604501346 cm\n",
      "death event found for pid_pair=(1, 0) at time t=248.79999999997273, where dt=0.01 and L=200...\n",
      "\t min_sigma_max=0.014290084392902717 cm\n"
     ]
    }
   ],
   "source": [
    "t_death_lst=[]\n",
    "for pid_pair in pid_pair_lst:\n",
    "    #TODO: def follows_pair_to_death(txt,pdict,pid_pair,atol,dt,ds):\n",
    "    #slow high precision method\n",
    "    # txt_prev,t_prev,min_sigma_max=find_stopping_point(dt, pdict, txt_prev, t_prev, save_every_n_frames=1)\n",
    "    #fast low precision method\n",
    "    txt_prev,t_prev,min_sigma_max=find_stopping_point(dt,pdict,txt_prev,t_prev,save_every_n_frames=1000,V_threshold=V_threshold,pid_pair=pid_pair)\n",
    "    t_death_lst.append(t_prev+dt)\n",
    "    \n",
    "    #init txt\n",
    "    txt_fn=f'{nb_dir}/Data/test_data/ic008.33_t_218.8.npz'\n",
    "    t=218.8;dt=0.01\n",
    "    txt=load_buffer(txt_fn);width,height=txt.shape[:2]\n",
    "    inVc,outVc,inmhjdfx,outmhjdfx,dVcdt=unstack_txt(txt)\n",
    "    #initialize system\n",
    "    dict_topo=comp_dict_tips(img,dimgdt,t,txt)\n",
    "    #measure tips that are already present topologically (slower)\n",
    "    img=inVc[...,0];dimgdt=dVcdt[...,0]\n",
    "    # dict_topo=comp_dict_topo_simple(img,dimgdt,t)\n",
    "    dict_topo=comp_dict_tips(img,dimgdt,t,txt)\n",
    "    pid_lst_all=dict_topo['pid']\n",
    "    n_tips=len(pid_lst_all)\n",
    "    # #zoom system\n",
    "    # txt,pdict=zoom_system(txt,pdict)\n",
    "    # txt,pdict=zoom_system(txt,pdict)\n",
    "    # width,height=txt.shape[:2]\n",
    "    # comp_dict_topo_simple=get_comp_dict_topo_simple(width=width,height=height,level1=V_threshold,level2=0)\n",
    "    # x_values,y_values,pid_values=pdict.get_current_locations()\n",
    "    pdict=ParticlePBCDict(dict_tips=dict_topo, width=width, height=width)#, **kwargs)\n",
    "    t_prev=t;txt_prev=txt.copy()"
   ]
  },
  {
   "cell_type": "code",
   "execution_count": 57,
   "metadata": {
    "ExecuteTime": {
     "end_time": "2021-05-06T07:41:47.912168Z",
     "start_time": "2021-05-06T07:41:47.875257Z"
    }
   },
   "outputs": [],
   "source": [
    "#TODO: determine which pid_pair dies first\n",
    "# item=t_death,pid_pair\n",
    "sorted_pid_pair_id_lst=np.argsort(t_death_lst)\n",
    "# boo is whether the last pid_pair died last)\n",
    "# boo=t_death_lst[-1]==np.array(t_death_lst)\n",
    "#for testing only \n",
    "boo=True"
   ]
  },
  {
   "cell_type": "code",
   "execution_count": 58,
   "metadata": {
    "ExecuteTime": {
     "end_time": "2021-05-06T07:41:48.107685Z",
     "start_time": "2021-05-06T07:41:48.066412Z"
    }
   },
   "outputs": [],
   "source": [
    "#TODO(if the last pid_pair didn't die last): reinititialize txt\n",
    "if not boo:\n",
    "    txt_fn=f'{nb_dir}/Data/test_data/ic008.33_t_218.8.npz'\n",
    "    t=218.8\n",
    "    dt=0.01\n",
    "    txt=load_buffer(txt_fn)\n",
    "    inVc,outVc,inmhjdfx,outmhjdfx,dVcdt=unstack_txt(txt)\n",
    "    width,height=txt.shape[:2]\n",
    "    print(txt.shape)\n",
    "    #etc."
   ]
  },
  {
   "cell_type": "code",
   "execution_count": 59,
   "metadata": {
    "ExecuteTime": {
     "end_time": "2021-05-06T07:41:48.306658Z",
     "start_time": "2021-05-06T07:41:48.266182Z"
    }
   },
   "outputs": [
    {
     "name": "stdout",
     "output_type": "stream",
     "text": [
      "t=218.80\n"
     ]
    }
   ],
   "source": [
    "sorted_pid_pair_id_lst=[0,1]\n",
    "print(f\"t={t:0.2f}\")\n",
    "#DONE: enforce sorting of tips at a low level that integrates with all pythonic methods"
   ]
  },
  {
   "cell_type": "code",
   "execution_count": 35,
   "metadata": {
    "ExecuteTime": {
     "end_time": "2021-05-06T07:00:16.046296Z",
     "start_time": "2021-05-06T07:00:15.981548Z"
    }
   },
   "outputs": [
    {
     "name": "stdout",
     "output_type": "stream",
     "text": [
      "(200, 200, 18)\n"
     ]
    }
   ],
   "source": [
    "#TODO: init txt\n",
    "txt_fn=f'{nb_dir}/Data/test_data/ic008.33_t_218.8.npz'\n",
    "t=218.8\n",
    "dt=0.01\n",
    "txt=load_buffer(txt_fn)\n",
    "inVc,outVc,inmhjdfx,outmhjdfx,dVcdt=unstack_txt(txt)\n",
    "width,height=txt.shape[:2]\n",
    "print(txt.shape)\n",
    "\n",
    "#TODO: recursively zoom into the first/given death up to atol.  return pdict upto that point\n",
    "\n",
    "#TODO: repeat while there are still pid_pairs to zoom into\n",
    "\n",
    "#TODO(laterish): dev merge_with_other method to merge pdict1 and pdict2"
   ]
  },
  {
   "cell_type": "code",
   "execution_count": 60,
   "metadata": {
    "ExecuteTime": {
     "end_time": "2021-05-06T07:46:24.976944Z",
     "start_time": "2021-05-06T07:46:24.926492Z"
    }
   },
   "outputs": [],
   "source": [
    "# #TODO: test measure_kernel\n",
    "# retval=find_tips_with_pbc_knots_full_color(contours1, contours2, s1in_lst, s2in_lst, txt)\n",
    "# s1_list, s2_list, x_lst, y_lst, txt_lst=retval\n",
    "# #TODO: call ^this function with contours_to_simple_tips_pbc_full_color"
   ]
  },
  {
   "cell_type": "code",
   "execution_count": null,
   "metadata": {},
   "outputs": [],
   "source": []
  },
  {
   "cell_type": "markdown",
   "metadata": {},
   "source": [
    "# TODO: test/dev recursive_zoom_to_death\n",
    "then,<br>\n",
    "TODO: define recursive_zoom_to_birth"
   ]
  },
  {
   "cell_type": "code",
   "execution_count": 83,
   "metadata": {
    "ExecuteTime": {
     "end_time": "2021-05-06T16:33:38.044274Z",
     "start_time": "2021-05-06T16:33:37.988659Z"
    }
   },
   "outputs": [],
   "source": [
    "# TODO: debug deaths\n",
    "def recursive_zoom_to_death(pid_pair_lst,txt_in,dt,V_threshold=-50.,atol=1e-2,\n",
    "                            one_steps_per_frame=100,ds=5.,\n",
    "                            **kwargs):\n",
    "    retval_lst=[]\n",
    "    for pid_pair in pid_pair_lst:\n",
    "        txt_prev=txt_in.copy()\n",
    "        # one_step,comp_distance,comp_dict_tips=init_methods(txt_in,ds,dt,V_threshold=-50,jump_threshold=40)\n",
    "\n",
    "        txt_prev,t_prev,min_sigma_max=find_stopping_point(dt,pdict,txt_prev,t_prev,\n",
    "                                                          save_every_n_frames=one_steps_per_frame,\n",
    "                                                          V_threshold=V_threshold,\n",
    "                                                          pid_pair=pid_pair,ds=ds)\n",
    "        t_death=t_prev+dt\n",
    "        system=list(zip(t_death,pid_pair,txt_prev))\n",
    "        boo=check_atol(pdict,pid_pair,atol)\n",
    "        while boo:\n",
    "            system=zoom_system(system)\n",
    "            t_death,pid_pair,txt_prev=system\n",
    "            dt/=10.\n",
    "            #TODO: compute each of pdict,txt_prev, t_prev=t_death-dt,V_threshold, \n",
    "            t_death=find_stopping_point(dt,pdict,txt_prev,t_prev,save_every_n_frames=10,V_threshold=V_threshold,pid_pair=pid_pair,ds=ds)\n",
    "            boo=check_atol(system,atol)\n",
    "        retval = t_death,min_sigma_max\n",
    "        retval_lst.append(retval)\n",
    "    return retval_lst\n",
    "    \n",
    "# TODO: and then births\n",
    "def recursive_zoom_to_birth(pid_pair_lst,in_fn,ds,dt,**kwargs):\n",
    "    '''TODO(later)'''\n",
    "    retval_lst=[]\n",
    "    for pid_pair in pid_pair_lst:\n",
    "        retval=init_system(in_fn,ds,dt,**kwargs)\n",
    "        t_birth=find_starting_point(pdict,pid_pair,**kwargs)\n",
    "        #TODO: after finding starting point, \n",
    "        # - integrate forward n_steps\n",
    "        # - return apparent starting point {and return pdict}\n",
    "        # - reinit at txt_prev / t_min, where t_min is the min(pdict.times)          \n",
    "        #TODO: factor in the tscale/sscale\n",
    "        #TODO:  find whether to zoom\n",
    "        while boo:\n",
    "            system=zoom_system(system)\n",
    "            t_birth=find_starting_point(pdict,pid_pair,**kwargs)\n",
    "            boo=check_atol(system,atol)\n",
    "        retval = t_birth\n",
    "        retval_lst.append(retval)\n",
    "    return retval_lst"
   ]
  },
  {
   "cell_type": "code",
   "execution_count": 90,
   "metadata": {
    "ExecuteTime": {
     "end_time": "2021-05-06T16:34:33.688092Z",
     "start_time": "2021-05-06T16:34:33.639935Z"
    }
   },
   "outputs": [],
   "source": [
    "def check_atol(pdict,pid_pair,atol,index=-1,ds=5.):\n",
    "    particle1=pdict[pid_pair[0]]\n",
    "    particle2=pdict[pid_pair[1]]\n",
    "    point=np.array((particle1['x'][index],particle1['y'][index]))\n",
    "    scale=ds/particle1.width\n",
    "    dist=particle2.dist_to(point)*scale\n",
    "    boo=dist<atol\n",
    "    return boo"
   ]
  },
  {
   "cell_type": "code",
   "execution_count": 91,
   "metadata": {
    "ExecuteTime": {
     "end_time": "2021-05-06T16:34:35.762944Z",
     "start_time": "2021-05-06T16:34:35.687381Z"
    }
   },
   "outputs": [
    {
     "ename": "TypeError",
     "evalue": "init_system() missing 3 required positional arguments: 'txt_in', 'ds', and 'dt'",
     "output_type": "error",
     "traceback": [
      "\u001b[0;31m---------------------------------------------------------------------------\u001b[0m",
      "\u001b[0;31mTypeError\u001b[0m                                 Traceback (most recent call last)",
      "\u001b[0;32m<ipython-input-91-dff5a38d603f>\u001b[0m in \u001b[0;36m<module>\u001b[0;34m\u001b[0m\n\u001b[1;32m      1\u001b[0m \u001b[0mtxt_in\u001b[0m\u001b[0;34m=\u001b[0m\u001b[0mload_buffer\u001b[0m\u001b[0;34m(\u001b[0m\u001b[0mtxt_fn\u001b[0m\u001b[0;34m)\u001b[0m\u001b[0;34m\u001b[0m\u001b[0;34m\u001b[0m\u001b[0m\n\u001b[1;32m      2\u001b[0m \u001b[0;34m\u001b[0m\u001b[0m\n\u001b[0;32m----> 3\u001b[0;31m retval_lst=recursive_zoom_to_death(pid_pair_lst,txt_in,dt,V_threshold=-50.,atol=1e-2,\n\u001b[0m\u001b[1;32m      4\u001b[0m                             one_steps_per_frame=100,ds=5.)\n",
      "\u001b[0;32m<ipython-input-83-24a0fb47b049>\u001b[0m in \u001b[0;36mrecursive_zoom_to_death\u001b[0;34m(pid_pair_lst, txt_in, dt, V_threshold, atol, one_steps_per_frame, ds, **kwargs)\u001b[0m\n\u001b[1;32m      5\u001b[0m     \u001b[0mretval_lst\u001b[0m\u001b[0;34m=\u001b[0m\u001b[0;34m[\u001b[0m\u001b[0;34m]\u001b[0m\u001b[0;34m\u001b[0m\u001b[0;34m\u001b[0m\u001b[0m\n\u001b[1;32m      6\u001b[0m     \u001b[0;32mfor\u001b[0m \u001b[0mpid_pair\u001b[0m \u001b[0;32min\u001b[0m \u001b[0mpid_pair_lst\u001b[0m\u001b[0;34m:\u001b[0m\u001b[0;34m\u001b[0m\u001b[0;34m\u001b[0m\u001b[0m\n\u001b[0;32m----> 7\u001b[0;31m         \u001b[0mretval\u001b[0m\u001b[0;34m=\u001b[0m\u001b[0minit_system\u001b[0m\u001b[0;34m(\u001b[0m\u001b[0;34m**\u001b[0m\u001b[0mkwargs\u001b[0m\u001b[0;34m)\u001b[0m\u001b[0;34m\u001b[0m\u001b[0;34m\u001b[0m\u001b[0m\n\u001b[0m\u001b[1;32m      8\u001b[0m         txt_prev,t_prev,min_sigma_max=find_stopping_point(dt,pdict,txt_prev,t_prev,\n\u001b[1;32m      9\u001b[0m                                                           \u001b[0msave_every_n_frames\u001b[0m\u001b[0;34m=\u001b[0m\u001b[0mone_steps_per_frame\u001b[0m\u001b[0;34m,\u001b[0m\u001b[0;34m\u001b[0m\u001b[0;34m\u001b[0m\u001b[0m\n",
      "\u001b[0;31mTypeError\u001b[0m: init_system() missing 3 required positional arguments: 'txt_in', 'ds', and 'dt'"
     ]
    }
   ],
   "source": [
    "txt_in=load_buffer(txt_fn)\n",
    "\n",
    "retval_lst=recursive_zoom_to_death(pid_pair_lst,txt_in,dt,V_threshold=-50.,atol=1e-2,\n",
    "                            one_steps_per_frame=100,ds=5.)"
   ]
  },
  {
   "cell_type": "code",
   "execution_count": 89,
   "metadata": {
    "ExecuteTime": {
     "end_time": "2021-05-06T16:34:31.137002Z",
     "start_time": "2021-05-06T16:34:31.086656Z"
    }
   },
   "outputs": [],
   "source": [
    "# def find_starting_point(pdict,pid_pair,**kwargs):\n",
    "#     #TODO: follow pdict back to the birth of this pid_pair.  Supposes pid_pair denotes a birth\n",
    "#     #TODO(don't): modify find_stopping point\n",
    "#     pass\n",
    "def init_methods(txt_in,ds,dt,V_threshold=-50,jump_threshold=40,**kwargs):\n",
    "    '''init_system(txt_in,ds,dt,V_threshold=-50,jump_threshold = 40'''\n",
    "    width,height=txt_in.shape[:2]\n",
    "    #TODO: pass kwargs to the get_one_step in use\n",
    "    # get_one_step\n",
    "    __, arr39, one_step = get_one_step_explicit_synchronous_splitting(\n",
    "        nb_dir,dt,width,height,ds,diffCoef=0.0005,Cm=1.0)\n",
    "\n",
    "    #the heavyweight spiral tip measures\n",
    "    comp_dict_tips=get_comp_dict_topo_full_color(width=width,height=height,level1=V_threshold,level2=0,\n",
    "                                                 jump_threshold=jump_threshold,ds=ds)\n",
    "    # comp_dict_tips=get_compute_all_spiral_tips(width, height, mode='simp')\n",
    "    comp_distance=get_distance_L2_pbc(width,height)\n",
    "    \n",
    "    \n",
    "    one_step=get_one_step(width,height)\n",
    "    return one_step,comp_distance,comp_dict_tips\n",
    "\n",
    "def zoom_in(txt,pdict,dt,level1,level2,tfactor=0.1):\n",
    "    '''\n",
    "    Example Usage:\n",
    "    txt, pdict, comp_tips, one_step=zoom_in(txt,pdict,dt,level1,level2,tfactor=0.1)\n",
    "    '''\n",
    "    # zooming in as needed, until a certain absolute tolerance is found in a zero minimum distance between tips is reached.  \n",
    "    dt=tfactor*dt\n",
    "    width,height=txt.shape[:2]\n",
    "    comp_tips=get_comp_dict_topo_full_color(width=width,height=height,level1=level1,level2=level2)\n",
    "    # get_one_step at this dt (Luo-Rudy model)\n",
    "    __, arr39, one_step = get_one_step_explicit_synchronous_splitting(\n",
    "        nb_dir,dt=dt,width=width,height=height,ds=ds,diffCoef=0.0005,Cm=1.0)\n",
    "    \n",
    "    txt,pdict=zoom_system(txt,pdict)\n",
    "    return txt, pdict, dt, comp_tips, one_step\n",
    "\n",
    "def zoom_system(system, dt, pdict):\n",
    "    zoom_in(txt,pdict,dt,level1,level2,tfactor=0.1)\n",
    "    for systm in system:\n",
    "        t_prev,pid_pair,txt_prev=systm\n",
    "        txt, pdict, comp_tips, one_step=zoom_in(txt,pdict,dt,level1=-50,level2=0.,tfactor=0.1)\n",
    "        #TODO: zoom_system (HINT: ctrl+F for zoom_ in lib)\n",
    "    system=txt, pdict, dt, comp_tips, one_step"
   ]
  },
  {
   "cell_type": "code",
   "execution_count": null,
   "metadata": {},
   "outputs": [],
   "source": [
    "txt=pdict.record_tips_return_txt(txt,duration,one_step,comp_tips,dt,save_every_n_frames=1)\n"
   ]
  }
 ],
 "metadata": {
  "kernelspec": {
   "display_name": "Python 3",
   "language": "python",
   "name": "python3"
  },
  "language_info": {
   "codemirror_mode": {
    "name": "ipython",
    "version": 3
   },
   "file_extension": ".py",
   "mimetype": "text/x-python",
   "name": "python",
   "nbconvert_exporter": "python",
   "pygments_lexer": "ipython3",
   "version": "3.8.7"
  },
  "varInspector": {
   "cols": {
    "lenName": 16,
    "lenType": 16,
    "lenVar": 40
   },
   "kernels_config": {
    "python": {
     "delete_cmd_postfix": "",
     "delete_cmd_prefix": "del ",
     "library": "var_list.py",
     "varRefreshCmd": "print(var_dic_list())"
    },
    "r": {
     "delete_cmd_postfix": ") ",
     "delete_cmd_prefix": "rm(",
     "library": "var_list.r",
     "varRefreshCmd": "cat(var_dic_list()) "
    }
   },
   "types_to_exclude": [
    "module",
    "function",
    "builtin_function_or_method",
    "instance",
    "_Feature"
   ],
   "window_display": false
  }
 },
 "nbformat": 4,
 "nbformat_minor": 4
}
