{
 "cells": [
  {
   "cell_type": "markdown",
   "metadata": {},
   "source": [
    "# dev measure birth/death events recursively"
   ]
  },
  {
   "cell_type": "code",
   "execution_count": 1,
   "metadata": {
    "ExecuteTime": {
     "end_time": "2021-05-06T20:15:27.127372Z",
     "start_time": "2021-05-06T20:15:25.121041Z"
    }
   },
   "outputs": [
    {
     "name": "stdout",
     "output_type": "stream",
     "text": [
      "Automatic calling is: Smart\n"
     ]
    }
   ],
   "source": [
    "from lib.my_initialization import *\n",
    "from lib.controller.controller_LR import get_one_step_explicit_synchronous_splitting\n",
    "from lib.model.LR_model import *\n",
    "from lib.utils.utils_traj import *\n",
    "from lib.routines.bdrates import *\n",
    "from lib.measure.utils_measure_tips_cpu import *\n",
    "from lib.utils.stack_txt_LR import *\n",
    "from lib.viewer import *\n",
    "import trackpy\n",
    "from lib.utils import load_buffer\n",
    "from lib.routines.return_min_distance import *\n",
    "\n",
    "#automate the boring stuff\n",
    "# from IPython import utils\n",
    "import time, os, sys, re\n",
    "beep = lambda x: os.system(\"echo -n '\\\\a';sleep 0.2;\" * x)\n",
    "if not 'nb_dir' in globals():\n",
    "    nb_dir = os.getcwd()\n",
    "    \n",
    "%autocall 1\n",
    "%load_ext autoreload\n",
    "%autoreload 2"
   ]
  },
  {
   "cell_type": "markdown",
   "metadata": {},
   "source": [
    "# identify two time ordered death events"
   ]
  },
  {
   "cell_type": "code",
   "execution_count": 2,
   "metadata": {
    "ExecuteTime": {
     "end_time": "2021-05-06T20:16:02.453967Z",
     "start_time": "2021-05-06T20:15:30.592544Z"
    }
   },
   "outputs": [
    {
     "name": "stdout",
     "output_type": "stream",
     "text": [
      "(200, 200, 18)\n",
      "ntips=4\n"
     ]
    }
   ],
   "source": [
    "txt_fn=f'{nb_dir}/Data/test_data/ic008.33_t_218.8.npz'\n",
    "t=218.8\n",
    "dt=0.01\n",
    "txt=load_buffer(txt_fn)\n",
    "inVc,outVc,inmhjdfx,outmhjdfx,dVcdt=unstack_txt(txt)\n",
    "width,height=txt.shape[:2]\n",
    "print(f\"txt.shape={txt.shape}\")\n",
    "\n",
    "V_threshold=-50\n",
    "jump_threshold = 40\n",
    "ds=5.0\n",
    "# get_one_step\n",
    "__, arr39, one_step = get_one_step_explicit_synchronous_splitting(\n",
    "    nb_dir,dt,width,height,ds,diffCoef=0.0005,Cm=1.0)\n",
    "\n",
    "#the heavyweight spiral tip measures\n",
    "comp_dict_tips=get_comp_dict_topo_full_color(width=width,height=height,level1=V_threshold,level2=0,\n",
    "                                             jump_threshold=jump_threshold,ds=ds)\n",
    "# comp_dict_tips=get_compute_all_spiral_tips(width, height, mode='simp')\n",
    "comp_distance=get_distance_L2_pbc(width,height)\n",
    "#measure tips that are already present topologically (slower)\n",
    "img=inVc[...,0];dimgdt=dVcdt[...,0]\n",
    "# dict_topo=comp_dict_topo_simple(img,dimgdt,t)\n",
    "dict_topo=comp_dict_tips(img,dimgdt,t,txt)\n",
    "pid_lst_all=dict_topo['pid']\n",
    "n_tips=len(pid_lst_all)\n",
    "print(f'ntips={n_tips}')\n",
    "#initialize system\n",
    "pdict=ParticlePBCDict(dict_tips=dict_topo, width=width, height=width)#, **kwargs)\n",
    "t_prev=t;txt_prev=txt.copy()\n",
    "# #zoom system (increases runtime and precision at long timescales)\n",
    "# txt,pdict=zoom_system(txt,pdict)\n",
    "# txt,pdict=zoom_system(txt,pdict)\n",
    "# dt=dt/10\n",
    "# width,height=txt.shape[:2]\n",
    "# comp_dict_topo_simple=get_comp_dict_topo_simple(width=width,height=height,level1=V_threshold,level2=0)\n",
    "x_values,y_values,pid_values=pdict.get_current_locations()\n",
    "inVc,outVc,inmhjdfx,outmhjdfx,dVcdt=unstack_txt(txt)\n",
    "img=inVc[...,0];dimgdt=dVcdt[...,0]\n",
    "\n",
    "scale=ds/width\n",
    "xy_values=np.array(tuple(zip(x_values,y_values)))\n",
    "assert(xy_values[0].shape[0]==2)\n",
    "\n",
    "#compute minimum distance of all pid found\n",
    "item_lst=[]\n",
    "for i in range(n_tips):\n",
    "    for j in range(n_tips):\n",
    "        if i > j:\n",
    "            #the ith tip location\n",
    "            point1=xy_values[i]\n",
    "            #the jth tip location\n",
    "            point2=xy_values[j]\n",
    "            #their distance, in cm\n",
    "            dist=comp_distance(point1,point2)\n",
    "            #add to list of distances\n",
    "            item=(dist,i,j)\n",
    "            item_lst.append(item)\n",
    "item_lst=sorted(item_lst)\n",
    "item_lst\n",
    "\n",
    "#identify the pairs to follow to existential event\n",
    "num_pairs_to_follow=2\n",
    "pid_pair_lst=[]\n",
    "for item in item_lst[:num_pairs_to_follow]:\n",
    "    d,i,j=item\n",
    "    pid_pair=i,j\n",
    "    pid_pair_lst.append(pid_pair)\n",
    "\n",
    "\n",
    "#define initialization target points as\n",
    "point_target_init_lst=[]\n",
    "for pid_pair in pid_pair_lst:\n",
    "    #the  mean location of these tips \n",
    "    point_target_init=np.mean((x_values[pid_pair[0]],x_values[pid_pair[1]])),np.mean((y_values[pid_pair[0]],y_values[pid_pair[1]]))\n",
    "    point_target_init_lst.append(point_target_init)\n",
    "\n",
    "#set range to some value\n",
    "#the ith tip location\n",
    "point1=np.array(point_target_init_lst[0])\n",
    "#the jth tip location\n",
    "point2=np.array(point_target_init_lst[1])\n",
    "#their distance, in cm\n",
    "r=comp_distance(point1,point2)*scale #cm distance between the targets\n",
    "print(f'there are {r:.3f} cm distance between the first and second targets.')"
   ]
  },
  {
   "cell_type": "markdown",
   "metadata": {
    "heading_collapsed": true
   },
   "source": [
    "# estimate time ordering the death events (~7 min runtime...)"
   ]
  },
  {
   "cell_type": "code",
   "execution_count": 110,
   "metadata": {
    "ExecuteTime": {
     "end_time": "2021-05-06T19:15:29.874909Z",
     "start_time": "2021-05-06T19:08:19.516160Z"
    },
    "hidden": true,
    "scrolled": true
   },
   "outputs": [
    {
     "name": "stdout",
     "output_type": "stream",
     "text": [
      "death event found for pid_pair=(3, 2) at time t=228.79999999999092, where dt=0.01 and L=200...\n",
      "\t min_sigma_max=0.01397989604501346 cm\n",
      "death event found for pid_pair=(1, 0) at time t=248.79999999997273, where dt=0.01 and L=200...\n",
      "\t min_sigma_max=0.014290084392902717 cm\n"
     ]
    }
   ],
   "source": [
    "#find txt_prev, and approximate time of death for each tip\n",
    "t_death_lst=[]\n",
    "for pid_pair in pid_pair_lst:\n",
    "    #TODO: def follows_pair_to_death(txt,pdict,pid_pair,atol,dt,ds):\n",
    "    #slow high precision method\n",
    "    # txt_prev,t_prev,min_sigma_max=find_stopping_point(dt, pdict, txt_prev, t_prev, save_every_n_frames=1)\n",
    "    \n",
    "    #find txt_prev near the death of the first tip pair fast low precision method\n",
    "    #TODO(if output looks funny): run more tests on find_stopping_point\n",
    "    txt_prev,t_prev,min_sigma_max=find_stopping_point(dt,pdict,txt_prev,t_prev,save_every_n_frames=1000,V_threshold=V_threshold,pid_pair=pid_pair)\n",
    "    t_death_lst.append(t_prev+dt*1000)\n",
    "    \n",
    "    #init txt for the next tip\n",
    "    txt_fn=f'{nb_dir}/Data/test_data/ic008.33_t_218.8.npz'\n",
    "    t=218.8;dt=0.01\n",
    "    txt=load_buffer(txt_fn);width,height=txt.shape[:2]\n",
    "    inVc,outVc,inmhjdfx,outmhjdfx,dVcdt=unstack_txt(txt)\n",
    "    #measure tips that are already present topologically (slower)\n",
    "    img=inVc[...,0];dimgdt=dVcdt[...,0]\n",
    "    # dict_topo=comp_dict_topo_simple(img,dimgdt,t)\n",
    "    dict_topo=comp_dict_tips(img,dimgdt,t,txt)\n",
    "    pid_lst_all=dict_topo['pid']\n",
    "    n_tips=len(pid_lst_all)\n",
    "    boo=n_tips>0\n",
    "    \n",
    "    # #zoom system\n",
    "    # txt,pdict=zoom_system(txt,pdict)\n",
    "    # txt,pdict=zoom_system(txt,pdict)\n",
    "    # width,height=txt.shape[:2]\n",
    "    # comp_dict_topo_simple=get_comp_dict_topo_simple(width=width,height=height,level1=V_threshold,level2=0)\n",
    "    # x_values,y_values,pid_values=pdict.get_current_locations()\n",
    "    pdict=ParticlePBCDict(dict_tips=dict_topo, width=width, height=width)#, **kwargs)\n",
    "    t_prev=t;txt_prev=txt.copy()"
   ]
  },
  {
   "cell_type": "markdown",
   "metadata": {},
   "source": [
    "# recursively zoom into list of death events"
   ]
  },
  {
   "cell_type": "code",
   "execution_count": 8,
   "metadata": {
    "ExecuteTime": {
     "end_time": "2021-05-06T20:19:29.585662Z",
     "start_time": "2021-05-06T20:19:29.529402Z"
    }
   },
   "outputs": [
    {
     "name": "stdout",
     "output_type": "stream",
     "text": [
      "t=218.80\n"
     ]
    }
   ],
   "source": [
    "#output from ^that takes 7 minutes...\n",
    "sorted_indices_pid_pair_lst=[0,1]\n",
    "t_death_lst=[218.81, 238.8099999999818]\n",
    "print(f\"t={t:0.2f}\")\n",
    "#DONE: enforce sorting of tips at a low level that integrates with all pythonic methods"
   ]
  },
  {
   "cell_type": "code",
   "execution_count": 9,
   "metadata": {
    "ExecuteTime": {
     "end_time": "2021-05-06T20:19:31.681744Z",
     "start_time": "2021-05-06T20:19:31.635680Z"
    }
   },
   "outputs": [],
   "source": [
    "#determine which pid_pair dies first\n",
    "# item=t_death,pid_pair\n",
    "sorted_indices_pid_pair_lst=np.argsort(t_death_lst)\n",
    "# boo is whether the last pid_pair died last)\n",
    "boo=t_death_lst[-1]==np.min(np.array(t_death_lst))\n",
    "# #or just reinitialize and brute force through everything\n",
    "# boo=True\n",
    "#return sorted_indices_pid_pair_lst, t_death_lst, pid_pair_list"
   ]
  },
  {
   "cell_type": "code",
   "execution_count": 16,
   "metadata": {
    "ExecuteTime": {
     "end_time": "2021-05-06T20:33:47.715190Z",
     "start_time": "2021-05-06T20:33:20.555060Z"
    }
   },
   "outputs": [
    {
     "name": "stdout",
     "output_type": "stream",
     "text": [
      "(200, 200, 18)\n"
     ]
    }
   ],
   "source": [
    "#or just reinitialize and brute force through everything once in order\n",
    "boo=False\n",
    "# if the final pid_pair in pid_pair_lst didn't die first, reinititialize txt and pdict\n",
    "if not boo:\n",
    "    txt_fn=f'{nb_dir}/Data/test_data/ic008.33_t_218.8.npz'\n",
    "    t=218.8\n",
    "    dt=0.01\n",
    "    txt=load_buffer(txt_fn)\n",
    "    inVc,outVc,inmhjdfx,outmhjdfx,dVcdt=unstack_txt(txt)\n",
    "    width,height=txt.shape[:2]\n",
    "    print(txt.shape)\n",
    "    one_step,comp_distance,comp_dict_tips=init_methods(width,height,ds,dt,V_threshold=-50,jump_threshold=40)\n",
    "    comp_dict_topo_full_color=comp_dict_tips\n",
    "    #reidentify the tips to be tracked\n",
    "    dict_tips=comp_dict_tips(img, dimgdt, t, txt)\n",
    "    pdict=ParticlePBCDict(dict_tips=dict_tips, width=width, height=width)#, **kwargs)\n",
    "    t_prev=t;txt_prev=txt.copy()\n"
   ]
  },
  {
   "cell_type": "code",
   "execution_count": 17,
   "metadata": {
    "ExecuteTime": {
     "end_time": "2021-05-06T20:33:55.901492Z",
     "start_time": "2021-05-06T20:33:55.851191Z"
    }
   },
   "outputs": [],
   "source": [
    "# zooming in as needed, until a certain absolute tolerance is found in a zero minimum distance between tips is reached.  \n",
    "# consider\n",
    "dict_atol={'test':1e-2,'batch':1e-4,'precise':1e-6}\n",
    "atol=dict_atol['test']\n",
    "tfactor=0.1"
   ]
  },
  {
   "cell_type": "code",
   "execution_count": null,
   "metadata": {
    "ExecuteTime": {
     "start_time": "2021-05-06T20:33:56.293Z"
    }
   },
   "outputs": [
    {
     "name": "stdout",
     "output_type": "stream",
     "text": [
      "death event found for pid_pair=(1, 0) at time t=220.7999999999982, where dt=0.01 and L=200...\n",
      "\t min_sigma_max=0.013536455211009588 cm\n",
      "death event found for pid_pair=(1, 0) at time t=219.899999999999, where dt=0.01 and L=200...\n",
      "\t min_sigma_max=0.013536455211009588 cm\n",
      "death event found for pid_pair=(1, 0) at time t=219.86999999999904, where dt=0.01 and L=200...\n",
      "\t min_sigma_max=0.013535214153667072 cm\n",
      "zoomed to dsdpixel=0.0125 cm/pxl for pid_pair, (1, 0)...\n",
      "death event found for pid_pair=(1, 0) at time t=219.95999999999952, where dt=0.001 and L=400...\n",
      "\t min_sigma_max=0.013535214153667072 cm\n",
      "death event found for pid_pair=(1, 0) at time t=219.87999999999914, where dt=0.001 and L=400...\n",
      "\t min_sigma_max=5.117222985861741e-07 cm\n",
      "death event found for pid_pair=(1, 0) at time t=219.8709999999991, where dt=0.001 and L=400...\n",
      "\t min_sigma_max=5.117222985861741e-07 cm\n",
      "zoomed to dsdpixel=0.00625 cm/pxl for pid_pair, (1, 0)...\n",
      "death event found for pid_pair=(1, 0) at time t=219.88999999999976, where dt=0.0001 and L=800...\n",
      "\t min_sigma_max=4.039495502751759e-05 cm\n",
      "death event found for pid_pair=(1, 0) at time t=219.88099999999946, where dt=0.0001 and L=800...\n",
      "\t min_sigma_max=4.039495502751759e-05 cm\n",
      "death event found for pid_pair=(1, 0) at time t=219.88079999999945, where dt=0.0001 and L=800...\n",
      "\t min_sigma_max=3.88944250801562e-05 cm\n",
      "zoomed to dsdpixel=0.003125 cm/pxl for pid_pair, (1, 0)...\n",
      "death event found for pid_pair=(1, 0) at time t=219.88169999999977, where dt=1e-05 and L=1600...\n",
      "\t min_sigma_max=3.88944250801562e-05 cm\n"
     ]
    }
   ],
   "source": [
    "#for each pid_pair\n",
    "for q in sorted_indices_pid_pair_lst:\n",
    "    pid_pair=pid_pair_lst[q]\n",
    "    boo=check_atol(pdict,pid_pair,atol,index=-1,ds=ds)\n",
    "    #while atol is not reached:\n",
    "    while not boo:\n",
    "        kwargs={'one_step':one_step,\n",
    "               'comp_dict_topo_full_color':comp_dict_topo_full_color,\n",
    "               'V_threshold':V_threshold,\n",
    "               'pid_pair':pid_pair}\n",
    "        #find stopping point, integrating up to the death of the first particle\n",
    "        txt_prev,t_prev,min_sigma_max=find_stopping_point(dt,pdict,txt_prev,t_prev,save_every_n_frames=100,**kwargs)\n",
    "#                                                           V_threshold=V_threshold,pid_pair=pid_pair)\n",
    "        txt_prev,t_prev,min_sigma_max=find_stopping_point(dt,pdict,txt_prev,t_prev,save_every_n_frames=10,**kwargs)\n",
    "#                                                           V_threshold=V_threshold,pid_pair=pid_pair)\n",
    "        txt_prev,t_prev,min_sigma_max=find_stopping_point(dt,pdict,txt_prev,t_prev,save_every_n_frames=1,**kwargs)\n",
    "#                                                           V_threshold=V_threshold,pid_pair=pid_pair)\n",
    "        t_death_lst[q]=t_prev+dt\n",
    "        boo=check_atol(pdict,pid_pair,atol,index=-1,ds=ds)\n",
    "        if not boo:\n",
    "            #reset to txt_prev. zoom system.\n",
    "            dt=tfactor*dt\n",
    "            txt_prev,pdict=zoom_system(txt_prev,pdict)\n",
    "            width,height=txt_prev.shape[:2]\n",
    "            print(f'zoomed to dsdpixel={ds/width} cm/pxl for pid_pair, {pid_pair}...')\n",
    "            #jit compile the one_step_kernel and measure_subkernel\n",
    "            one_step,comp_distance,comp_dict_topo_full_color=init_methods(width,height,ds,dt,jump_threshold=40,**kwargs)\n",
    "#             __, __, one_step = get_one_step_explicit_synchronous_splitting(nb_dir,\n",
    "#                                                                            dt=dt,width=width,height=height,\n",
    "#                                                                            ds=ds,diffCoef=0.0005,Cm=1.0)\n",
    "#             comp_dict_topo_full_color=get_comp_dict_topo_full_color(width=width,height=height,level1=V_threshold,level2=0)\n",
    "            \n",
    "beep(10)\n",
    "print(pdict)\n",
    "#TODO: test ^this\n",
    "#TODO: plot ^this... does it look reasonable?\n",
    "#TODO: put ^this in a function/routine in return_min_distance.py \n",
    "#TODO: make a return_min_distance.sh file that runs ^this python function to a high precision, prints to a text file, and saves some out.csv"
   ]
  },
  {
   "cell_type": "code",
   "execution_count": null,
   "metadata": {},
   "outputs": [],
   "source": [
    "df=pdict[0].to_pandas()\n",
    "df.head()"
   ]
  },
  {
   "cell_type": "code",
   "execution_count": null,
   "metadata": {},
   "outputs": [],
   "source": [
    "df=pdict.to_pandas()\n",
    "df.head()"
   ]
  },
  {
   "cell_type": "code",
   "execution_count": 125,
   "metadata": {
    "ExecuteTime": {
     "end_time": "2021-05-06T19:34:42.696565Z",
     "start_time": "2021-05-06T19:34:42.651412Z"
    }
   },
   "outputs": [],
   "source": [
    "# #DONE: confirmed the mean location is roughly the same \n",
    "# #compute minimum distance of all pid found\n",
    "# item_lst=[]\n",
    "# for i in range(n_tips):\n",
    "#     for j in range(n_tips):\n",
    "#         if i > j:\n",
    "#             #the ith tip location\n",
    "#             point1=xy_values[i]\n",
    "#             #the jth tip location\n",
    "#             point2=xy_values[j]\n",
    "#             #their distance, in cm\n",
    "#             dist=comp_distance(point1,point2)\n",
    "#             #add to list of distances\n",
    "#             item=(dist,i,j)\n",
    "#             item_lst.append(item)\n",
    "# item_lst=sorted(item_lst)\n",
    "# item_lst"
   ]
  },
  {
   "cell_type": "code",
   "execution_count": 35,
   "metadata": {
    "ExecuteTime": {
     "end_time": "2021-05-06T07:00:16.046296Z",
     "start_time": "2021-05-06T07:00:15.981548Z"
    }
   },
   "outputs": [
    {
     "name": "stdout",
     "output_type": "stream",
     "text": [
      "(200, 200, 18)\n"
     ]
    }
   ],
   "source": [
    "#TODO: recursively zoom into the first/given death up to atol.  return pdict upto that point\n",
    "#TODO(later): repeat while there are still pid_pairs to zoom into\n"
   ]
  },
  {
   "cell_type": "code",
   "execution_count": 60,
   "metadata": {
    "ExecuteTime": {
     "end_time": "2021-05-06T07:46:24.976944Z",
     "start_time": "2021-05-06T07:46:24.926492Z"
    }
   },
   "outputs": [],
   "source": [
    "# #TODO: test measure_kernel\n",
    "# retval=find_tips_with_pbc_knots_full_color(contours1, contours2, s1in_lst, s2in_lst, txt)\n",
    "# s1_list, s2_list, x_lst, y_lst, txt_lst=retval\n",
    "# #TODO: call ^this function with contours_to_simple_tips_pbc_full_color"
   ]
  },
  {
   "cell_type": "code",
   "execution_count": null,
   "metadata": {},
   "outputs": [],
   "source": []
  },
  {
   "cell_type": "code",
   "execution_count": 94,
   "metadata": {
    "ExecuteTime": {
     "end_time": "2021-05-06T19:02:17.927321Z",
     "start_time": "2021-05-06T19:02:17.883663Z"
    }
   },
   "outputs": [
    {
     "data": {
      "text/plain": [
       "True"
      ]
     },
     "execution_count": 94,
     "metadata": {},
     "output_type": "execute_result"
    }
   ],
   "source": [
    "# TODO: visualize deaths"
   ]
  },
  {
   "cell_type": "code",
   "execution_count": 126,
   "metadata": {
    "ExecuteTime": {
     "end_time": "2021-05-06T19:35:21.917366Z",
     "start_time": "2021-05-06T19:35:21.874537Z"
    }
   },
   "outputs": [
    {
     "data": {
      "text/plain": [
       "[218.81, 238.8099999999818]"
      ]
     },
     "execution_count": 126,
     "metadata": {},
     "output_type": "execute_result"
    }
   ],
   "source": [
    "txt_prev,t_prev,min_sigma_max=find_stopping_point(dt,pdict,txt_prev,t_prev,save_every_n_frames=1000,V_threshold=V_threshold,pid_pair=pid_pair)\n",
    "    t_death_lst.append(t_prev+dt)\n",
    "    "
   ]
  },
  {
   "cell_type": "code",
   "execution_count": 95,
   "metadata": {
    "ExecuteTime": {
     "end_time": "2021-05-06T19:03:50.857729Z",
     "start_time": "2021-05-06T19:03:50.758819Z"
    }
   },
   "outputs": [
    {
     "ename": "TypeError",
     "evalue": "init_system() missing 3 required positional arguments: 'txt_in', 'ds', and 'dt'",
     "output_type": "error",
     "traceback": [
      "\u001b[0;31m---------------------------------------------------------------------------\u001b[0m",
      "\u001b[0;31mTypeError\u001b[0m                                 Traceback (most recent call last)",
      "\u001b[0;32m<ipython-input-95-dff5a38d603f>\u001b[0m in \u001b[0;36m<module>\u001b[0;34m\u001b[0m\n\u001b[1;32m      1\u001b[0m \u001b[0mtxt_in\u001b[0m\u001b[0;34m=\u001b[0m\u001b[0mload_buffer\u001b[0m\u001b[0;34m(\u001b[0m\u001b[0mtxt_fn\u001b[0m\u001b[0;34m)\u001b[0m\u001b[0;34m\u001b[0m\u001b[0;34m\u001b[0m\u001b[0m\n\u001b[1;32m      2\u001b[0m \u001b[0;34m\u001b[0m\u001b[0m\n\u001b[0;32m----> 3\u001b[0;31m retval_lst=recursive_zoom_to_death(pid_pair_lst,txt_in,dt,V_threshold=-50.,atol=1e-2,\n\u001b[0m\u001b[1;32m      4\u001b[0m                             one_steps_per_frame=100,ds=5.)\n",
      "\u001b[0;32m<ipython-input-83-24a0fb47b049>\u001b[0m in \u001b[0;36mrecursive_zoom_to_death\u001b[0;34m(pid_pair_lst, txt_in, dt, V_threshold, atol, one_steps_per_frame, ds, **kwargs)\u001b[0m\n\u001b[1;32m      5\u001b[0m     \u001b[0mretval_lst\u001b[0m\u001b[0;34m=\u001b[0m\u001b[0;34m[\u001b[0m\u001b[0;34m]\u001b[0m\u001b[0;34m\u001b[0m\u001b[0;34m\u001b[0m\u001b[0m\n\u001b[1;32m      6\u001b[0m     \u001b[0;32mfor\u001b[0m \u001b[0mpid_pair\u001b[0m \u001b[0;32min\u001b[0m \u001b[0mpid_pair_lst\u001b[0m\u001b[0;34m:\u001b[0m\u001b[0;34m\u001b[0m\u001b[0;34m\u001b[0m\u001b[0m\n\u001b[0;32m----> 7\u001b[0;31m         \u001b[0mretval\u001b[0m\u001b[0;34m=\u001b[0m\u001b[0minit_system\u001b[0m\u001b[0;34m(\u001b[0m\u001b[0;34m**\u001b[0m\u001b[0mkwargs\u001b[0m\u001b[0;34m)\u001b[0m\u001b[0;34m\u001b[0m\u001b[0;34m\u001b[0m\u001b[0m\n\u001b[0m\u001b[1;32m      8\u001b[0m         txt_prev,t_prev,min_sigma_max=find_stopping_point(dt,pdict,txt_prev,t_prev,\n\u001b[1;32m      9\u001b[0m                                                           \u001b[0msave_every_n_frames\u001b[0m\u001b[0;34m=\u001b[0m\u001b[0mone_steps_per_frame\u001b[0m\u001b[0;34m,\u001b[0m\u001b[0;34m\u001b[0m\u001b[0;34m\u001b[0m\u001b[0m\n",
      "\u001b[0;31mTypeError\u001b[0m: init_system() missing 3 required positional arguments: 'txt_in', 'ds', and 'dt'"
     ]
    }
   ],
   "source": [
    "txt_in=load_buffer(txt_fn)\n",
    "\n",
    "retval_lst=recursive_zoom_to_death(pid_pair_lst,txt_in,dt,V_threshold=-50.,atol=1e-2,\n",
    "                            one_steps_per_frame=100,ds=5.)\n",
    "t_death,min_sigma_max"
   ]
  },
  {
   "cell_type": "code",
   "execution_count": 137,
   "metadata": {
    "ExecuteTime": {
     "end_time": "2021-05-06T19:59:04.475227Z",
     "start_time": "2021-05-06T19:59:04.429997Z"
    }
   },
   "outputs": [],
   "source": [
    "# # def find_starting_point(pdict,pid_pair,**kwargs):\n",
    "# #     #TODO: follow pdict back to the birth of this pid_pair.  Supposes pid_pair denotes a birth\n",
    "# #     #TODO(don't): modify find_stopping point\n",
    "# #     pass\n",
    "\n",
    "\n",
    "# def zoom_in(txt,pdict,dt,level1,level2,tfactor=0.1,**kwargs):\n",
    "#     '''\n",
    "#     Example Usage:\n",
    "#     txt_prev, pdict, comp_tips, one_step=zoom_in(txt_prev,pdict,dt,level1,level2,tfactor=0.1)\n",
    "#     '''\n",
    "#     # zooming in as needed, until a certain absolute tolerance is found in a zero minimum distance between tips is reached.  \n",
    "#     dt=tfactor*dt\n",
    "#     width,height=txt.shape[:2]\n",
    "#     comp_tips=get_comp_dict_topo_full_color(width=width,height=height,level1=level1,level2=level2)\n",
    "#     # get_one_step at this dt (Luo-Rudy model)\n",
    "#     __, arr39, one_step = get_one_step_explicit_synchronous_splitting(\n",
    "#         nb_dir,dt=dt,width=width,height=height,ds=ds,diffCoef=0.0005,Cm=1.0)\n",
    "    \n",
    "#     txt,pdict=zoom_system(txt,pdict)\n",
    "#     return txt, pdict, dt, comp_tips, one_step\n",
    "\n",
    "# def zoom_system(txt,pdict):\n",
    "#     txt=zoomin_txt(txt)\n",
    "#     pdict=pdict.zoom_to_double()\n",
    "#     return txt,pdict\n",
    "\n",
    "# # def zoom_system(system, dt, pdict):\n",
    "# #     zoom_in(txt,pdict,dt,level1,level2,tfactor=0.1)\n",
    "# #     for systm in system:\n",
    "# #         t_prev,pid_pair,txt_prev=systm\n",
    "# #         txt, pdict, comp_tips, one_step=zoom_in(txt,pdict,dt,level1=-50,level2=0.,tfactor=0.1)\n",
    "# #         #TODO: zoom_system (HINT: ctrl+F for zoom_ in lib)\n",
    "# #     system=txt, pdict, dt, comp_tips, one_step"
   ]
  },
  {
   "cell_type": "code",
   "execution_count": 135,
   "metadata": {
    "ExecuteTime": {
     "end_time": "2021-05-06T19:58:36.337237Z",
     "start_time": "2021-05-06T19:58:36.282388Z"
    }
   },
   "outputs": [
    {
     "ename": "NameError",
     "evalue": "name 'duration' is not defined",
     "output_type": "error",
     "traceback": [
      "\u001b[0;31m---------------------------------------------------------------------------\u001b[0m",
      "\u001b[0;31mNameError\u001b[0m                                 Traceback (most recent call last)",
      "\u001b[0;32m<ipython-input-135-5fd308033f79>\u001b[0m in \u001b[0;36m<module>\u001b[0;34m\u001b[0m\n\u001b[1;32m      1\u001b[0m \u001b[0;31m#TODO: use record_tips_return_txt in studying birth events\u001b[0m\u001b[0;34m\u001b[0m\u001b[0;34m\u001b[0m\u001b[0;34m\u001b[0m\u001b[0m\n\u001b[0;32m----> 2\u001b[0;31m \u001b[0mtxt\u001b[0m\u001b[0;34m=\u001b[0m\u001b[0mpdict\u001b[0m\u001b[0;34m.\u001b[0m\u001b[0mrecord_tips_return_txt\u001b[0m\u001b[0;34m(\u001b[0m\u001b[0mtxt\u001b[0m\u001b[0;34m,\u001b[0m\u001b[0mduration\u001b[0m\u001b[0;34m,\u001b[0m\u001b[0mone_step\u001b[0m\u001b[0;34m,\u001b[0m\u001b[0mcomp_tips\u001b[0m\u001b[0;34m,\u001b[0m\u001b[0mdt\u001b[0m\u001b[0;34m,\u001b[0m\u001b[0msave_every_n_frames\u001b[0m\u001b[0;34m=\u001b[0m\u001b[0;36m1\u001b[0m\u001b[0;34m)\u001b[0m\u001b[0;34m\u001b[0m\u001b[0;34m\u001b[0m\u001b[0m\n\u001b[0m",
      "\u001b[0;31mNameError\u001b[0m: name 'duration' is not defined"
     ]
    }
   ],
   "source": [
    "#TODO: use record_tips_return_txt in studying birth events \n",
    "duration=1\n",
    "txt=pdict.record_tips_return_txt(txt,duration,one_step,comp_tips,dt,save_every_n_frames=1)#,**kwargs)\n",
    "\n",
    "txt_prev, pdict, dt, comp_tips, one_step=zoom_in(txt_prev,pdict,dt,level1=V_threshold,level2=0.,tfactor=tfactor)"
   ]
  },
  {
   "cell_type": "code",
   "execution_count": null,
   "metadata": {},
   "outputs": [],
   "source": []
  }
 ],
 "metadata": {
  "kernelspec": {
   "display_name": "Python 3",
   "language": "python",
   "name": "python3"
  },
  "language_info": {
   "codemirror_mode": {
    "name": "ipython",
    "version": 3
   },
   "file_extension": ".py",
   "mimetype": "text/x-python",
   "name": "python",
   "nbconvert_exporter": "python",
   "pygments_lexer": "ipython3",
   "version": "3.8.7"
  },
  "varInspector": {
   "cols": {
    "lenName": 16,
    "lenType": 16,
    "lenVar": 40
   },
   "kernels_config": {
    "python": {
     "delete_cmd_postfix": "",
     "delete_cmd_prefix": "del ",
     "library": "var_list.py",
     "varRefreshCmd": "print(var_dic_list())"
    },
    "r": {
     "delete_cmd_postfix": ") ",
     "delete_cmd_prefix": "rm(",
     "library": "var_list.r",
     "varRefreshCmd": "cat(var_dic_list()) "
    }
   },
   "types_to_exclude": [
    "module",
    "function",
    "builtin_function_or_method",
    "instance",
    "_Feature"
   ],
   "window_display": false
  }
 },
 "nbformat": 4,
 "nbformat_minor": 4
}
