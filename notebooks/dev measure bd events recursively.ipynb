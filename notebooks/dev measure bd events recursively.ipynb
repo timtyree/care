{
 "cells": [
  {
   "cell_type": "markdown",
   "metadata": {},
   "source": [
    "# dev measure birth/death events recursively"
   ]
  },
  {
   "cell_type": "code",
   "execution_count": 6,
   "metadata": {
    "ExecuteTime": {
     "end_time": "2021-05-06T01:02:51.151271Z",
     "start_time": "2021-05-06T01:02:51.089898Z"
    }
   },
   "outputs": [
    {
     "name": "stdout",
     "output_type": "stream",
     "text": [
      "Automatic calling is: Smart\n"
     ]
    }
   ],
   "source": [
    "from lib.my_initialization import *\n",
    "from lib.controller.controller_LR import get_one_step_explicit_synchronous_splitting\n",
    "from lib.model.LR_model import *\n",
    "from lib.utils.utils_traj import *\n",
    "from lib.routines.bdrates import *\n",
    "from lib.measure.utils_measure_tips_cpu import *\n",
    "from lib.utils.stack_txt_LR import *\n",
    "from lib.viewer import *\n",
    "import trackpy\n",
    "from lib.utils import load_buffer\n",
    "\n",
    "#automate the boring stuff\n",
    "# from IPython import utils\n",
    "import time, os, sys, re\n",
    "beep = lambda x: os.system(\"echo -n '\\\\a';sleep 0.2;\" * x)\n",
    "if not 'nb_dir' in globals():\n",
    "    nb_dir = os.getcwd()\n",
    "    \n",
    "%autocall 1\n",
    "%load_ext autoreload\n",
    "%autoreload 2"
   ]
  },
  {
   "cell_type": "markdown",
   "metadata": {},
   "source": [
    "## TODO: dev python routine that takes in a spiral tip in pdict and follows it iteratively to its death, zooming in as needed, until a certain absolute tolerance is found in a zero minimum range is reached.  \n",
    "Consider dict_atol={'batch':1e-4,'test':1e-2,'precise':1e-6}\n",
    "\n"
   ]
  },
  {
   "cell_type": "markdown",
   "metadata": {},
   "source": [
    "input:dict_topo,point,width,height\n",
    "output:pid_lst within r distance of point"
   ]
  },
  {
   "cell_type": "code",
   "execution_count": 7,
   "metadata": {
    "ExecuteTime": {
     "end_time": "2021-05-06T01:02:53.271634Z",
     "start_time": "2021-05-06T01:02:53.227881Z"
    }
   },
   "outputs": [],
   "source": [
    "def get_particles_in_range(dict_topo,point,width,height,r):\n",
    "    dict_topo['xy']\n",
    "    \n",
    "    return pid_lst_within_r"
   ]
  },
  {
   "cell_type": "code",
   "execution_count": 8,
   "metadata": {
    "ExecuteTime": {
     "end_time": "2021-05-06T01:02:54.874497Z",
     "start_time": "2021-05-06T01:02:54.493925Z"
    }
   },
   "outputs": [
    {
     "name": "stdout",
     "output_type": "stream",
     "text": [
      "(200, 200, 18)\n"
     ]
    }
   ],
   "source": [
    "txt_fn=f'{nb_dir}/Data/test_data/ic008.33_t_218.8.npz'\n",
    "t=218.8\n",
    "dt=0.01\n",
    "txt=load_buffer(txt_fn)\n",
    "inVc,outVc,inmhjdfx,outmhjdfx,dVcdt=unstack_txt(txt)\n",
    "width,height=txt.shape[:2]\n",
    "print(txt.shape)"
   ]
  },
  {
   "cell_type": "code",
   "execution_count": 9,
   "metadata": {
    "ExecuteTime": {
     "end_time": "2021-05-06T01:02:56.112108Z",
     "start_time": "2021-05-06T01:02:55.506097Z"
    }
   },
   "outputs": [],
   "source": [
    "V_threshold=-50\n",
    "jump_threshold = 40\n",
    "ds=5.0\n",
    "# get_one_step\n",
    "__, arr39, one_step = get_one_step_explicit_synchronous_splitting(\n",
    "    nb_dir,dt,width,height,ds,diffCoef=0.0005,Cm=1.0)"
   ]
  },
  {
   "cell_type": "code",
   "execution_count": 10,
   "metadata": {
    "ExecuteTime": {
     "end_time": "2021-05-06T01:03:16.574949Z",
     "start_time": "2021-05-06T01:02:56.428989Z"
    }
   },
   "outputs": [],
   "source": [
    "#the heavyweight spiral tip measures\n",
    "comp_dict_tips=get_comp_dict_topo_full_color(width=width,height=height,level1=V_threshold,level2=0,\n",
    "                                             jump_threshold=jump_threshold,ds=ds)\n",
    "# comp_dict_tips=get_compute_all_spiral_tips(width, height, mode='simp')"
   ]
  },
  {
   "cell_type": "code",
   "execution_count": 11,
   "metadata": {
    "ExecuteTime": {
     "end_time": "2021-05-06T01:03:25.787199Z",
     "start_time": "2021-05-06T01:03:16.895096Z"
    }
   },
   "outputs": [
    {
     "data": {
      "text/plain": [
       "4"
      ]
     },
     "execution_count": 11,
     "metadata": {},
     "output_type": "execute_result"
    }
   ],
   "source": [
    "#measure tips that are already present topologically (slower)\n",
    "img=inVc[...,0];dimgdt=dVcdt[...,0]\n",
    "# dict_topo=comp_dict_topo_simple(img,dimgdt,t)\n",
    "dict_topo=comp_dict_tips(img,dimgdt,t,txt)\n",
    "pid_lst_all=dict_topo['pid']\n",
    "n_tips=len(pid_lst_all)\n",
    "n_tips"
   ]
  },
  {
   "cell_type": "code",
   "execution_count": 12,
   "metadata": {
    "ExecuteTime": {
     "end_time": "2021-05-06T01:03:26.211624Z",
     "start_time": "2021-05-06T01:03:26.173728Z"
    }
   },
   "outputs": [
    {
     "data": {
      "text/plain": [
       "dict_keys(['x', 'y', 's1', 's2', 't', 'pid', 'greater_pid', 'lesser_pid', 'greater_arclen', 'lesser_arclen', 'greater_arclen_values', 'lesser_arclen_values', 'greater_mean_V', 'lesser_mean_V', 'greater_mean_curvature', 'lesser_mean_curvature', 'greater_xy_values', 'lesser_xy_values', 'greater_V_values', 'lesser_V_values', 'greater_curvature_values', 'lesser_curvature_values'])"
      ]
     },
     "execution_count": 12,
     "metadata": {},
     "output_type": "execute_result"
    }
   ],
   "source": [
    "dict_topo.keys()"
   ]
  },
  {
   "cell_type": "code",
   "execution_count": 13,
   "metadata": {
    "ExecuteTime": {
     "end_time": "2021-05-06T01:03:27.312227Z",
     "start_time": "2021-05-06T01:03:26.581420Z"
    }
   },
   "outputs": [],
   "source": [
    "#initialize system\n",
    "pdict=ParticlePBCDict(dict_tips=dict_topo, width=width, height=width)#, **kwargs)\n",
    "t_prev=t;txt_prev=txt.copy()\n",
    "# #zoom system\n",
    "# txt,pdict=zoom_system(txt,pdict)\n",
    "# txt,pdict=zoom_system(txt,pdict)\n",
    "# dt=dt/10\n",
    "# width,height=txt.shape[:2]\n",
    "# comp_dict_topo_simple=get_comp_dict_topo_simple(width=width,height=height,level1=V_threshold,level2=0)\n",
    "x_values,y_values,pid_values=pdict.get_current_locations()\n",
    "inVc,outVc,inmhjdfx,outmhjdfx,dVcdt=unstack_txt(txt)\n",
    "img=inVc[...,0];dimgdt=dVcdt[...,0]"
   ]
  },
  {
   "cell_type": "code",
   "execution_count": 14,
   "metadata": {
    "ExecuteTime": {
     "end_time": "2021-05-06T01:03:27.878200Z",
     "start_time": "2021-05-06T01:03:27.703859Z"
    }
   },
   "outputs": [],
   "source": [
    "comp_distance=get_distance_L2_pbc(width,height)"
   ]
  },
  {
   "cell_type": "code",
   "execution_count": 15,
   "metadata": {
    "ExecuteTime": {
     "end_time": "2021-05-06T01:03:28.304222Z",
     "start_time": "2021-05-06T01:03:28.264396Z"
    }
   },
   "outputs": [],
   "source": [
    "scale=ds/width\n",
    "xy_values=np.array(tuple(zip(x_values,y_values)))\n",
    "assert(xy_values[0].shape[0]==2)"
   ]
  },
  {
   "cell_type": "code",
   "execution_count": 16,
   "metadata": {
    "ExecuteTime": {
     "end_time": "2021-05-06T01:03:28.736998Z",
     "start_time": "2021-05-06T01:03:28.693851Z"
    }
   },
   "outputs": [
    {
     "data": {
      "text/plain": [
       "[(0.21228192704422172, 3, 2),\n",
       " (19.635486143424185, 1, 0),\n",
       " (85.31496830431027, 3, 0),\n",
       " (85.49533638494285, 2, 0),\n",
       " (96.08268845547843, 2, 1),\n",
       " (96.27196815000205, 3, 1)]"
      ]
     },
     "execution_count": 16,
     "metadata": {},
     "output_type": "execute_result"
    }
   ],
   "source": [
    "#minimum distance of all pid found\n",
    "item_lst=[]\n",
    "for i in range(n_tips):\n",
    "    for j in range(n_tips):\n",
    "        if i > j:\n",
    "            #the ith tip location\n",
    "            point1=xy_values[i]\n",
    "            #the jth tip location\n",
    "            point2=xy_values[j]\n",
    "            #their distance, in cm\n",
    "            dist=comp_distance(point1,point2)\n",
    "            #add to list of distances\n",
    "            item=(dist,i,j)\n",
    "            item_lst.append(item)\n",
    "item_lst=sorted(item_lst)\n",
    "item_lst"
   ]
  },
  {
   "cell_type": "code",
   "execution_count": 26,
   "metadata": {
    "ExecuteTime": {
     "end_time": "2021-05-06T01:07:49.918517Z",
     "start_time": "2021-05-06T01:07:49.872935Z"
    }
   },
   "outputs": [],
   "source": [
    "#identify the pairs to follow to existential event\n",
    "num_pairs_to_follow=2\n",
    "pid_pair_lst=[]\n",
    "for item in item_lst[:num_pairs_to_follow]:\n",
    "    d,i,j=item\n",
    "    pid_pair=i,j\n",
    "    pid_pair_lst.append(pid_pair)\n"
   ]
  },
  {
   "cell_type": "code",
   "execution_count": 27,
   "metadata": {
    "ExecuteTime": {
     "end_time": "2021-05-06T01:07:50.389930Z",
     "start_time": "2021-05-06T01:07:50.348332Z"
    }
   },
   "outputs": [],
   "source": [
    "#define initialization target points as\n",
    "point_target_init_lst=[]\n",
    "for pid_pair in pid_pair_lst:\n",
    "    #the  mean location of these tips \n",
    "    point_target_init=np.mean((x_values[pid_pair[0]],x_values[pid_pair[1]])),np.mean((y_values[pid_pair[0]],y_values[pid_pair[1]]))\n",
    "    point_target_init_lst.append(point_target_init)"
   ]
  },
  {
   "cell_type": "code",
   "execution_count": 28,
   "metadata": {
    "ExecuteTime": {
     "end_time": "2021-05-06T01:07:50.850815Z",
     "start_time": "2021-05-06T01:07:50.808985Z"
    }
   },
   "outputs": [
    {
     "data": {
      "text/plain": [
       "2.363878298954001"
      ]
     },
     "execution_count": 28,
     "metadata": {},
     "output_type": "execute_result"
    }
   ],
   "source": [
    "#set range to some value\n",
    "#the ith tip location\n",
    "point1=np.array(point_target_init_lst[0])\n",
    "#the jth tip location\n",
    "point2=np.array(point_target_init_lst[1])\n",
    "#their distance, in cm\n",
    "r=comp_distance(point1,point2)*scale #cm distance between the targets\n",
    "r"
   ]
  },
  {
   "cell_type": "code",
   "execution_count": 29,
   "metadata": {
    "ExecuteTime": {
     "end_time": "2021-05-06T01:07:51.305890Z",
     "start_time": "2021-05-06T01:07:51.265715Z"
    }
   },
   "outputs": [],
   "source": [
    "\n",
    "# def follows_pair_to_death(txt,pdict,pid_pair,atol,dt,ds):\n",
    "# zooming in as needed, until a certain absolute tolerance is found in a zero minimum distance between tips is reached.  \n",
    "\n",
    "\n",
    "# def zoom_in(txt,pdict,t_factor,s_factor):\n",
    "# consider \n",
    "dict_atol={'batch':1e-4,'test':1e-2,'precise':1e-6}\n",
    "atol=dict_atol['test']\n",
    "## TODO: turn ^this into a python routine "
   ]
  },
  {
   "cell_type": "code",
   "execution_count": 32,
   "metadata": {
    "ExecuteTime": {
     "end_time": "2021-05-06T01:18:39.767267Z",
     "start_time": "2021-05-06T01:18:39.718159Z"
    }
   },
   "outputs": [],
   "source": [
    "from lib.routines.return_min_distance import find_stopping_point\n",
    "from inspect import getsource\n",
    "# print(getsource(find_stopping_point))"
   ]
  },
  {
   "cell_type": "code",
   "execution_count": null,
   "metadata": {},
   "outputs": [],
   "source": [
    "#TODO: determine which pid_pair dies first\n",
    "# item=t_death,pid_pair"
   ]
  },
  {
   "cell_type": "code",
   "execution_count": 33,
   "metadata": {
    "ExecuteTime": {
     "end_time": "2021-05-06T01:23:29.747607Z",
     "start_time": "2021-05-06T01:18:40.208307Z"
    }
   },
   "outputs": [
    {
     "name": "stdout",
     "output_type": "stream",
     "text": [
      "termination event found at time t=245.79999999997546, where dt=0.01 and L=200...\n"
     ]
    },
    {
     "ename": "KeyError",
     "evalue": "'lesser_arclen_lst'",
     "output_type": "error",
     "traceback": [
      "\u001b[0;31m---------------------------------------------------------------------------\u001b[0m",
      "\u001b[0;31mKeyError\u001b[0m                                  Traceback (most recent call last)",
      "\u001b[0;32m<ipython-input-33-6994217ad047>\u001b[0m in \u001b[0;36m<module>\u001b[0;34m\u001b[0m\n\u001b[1;32m      2\u001b[0m \u001b[0;31m# txt_prev,t_prev,min_sigma_max=find_stopping_point(dt, pdict, txt_prev, t_prev, save_every_n_frames=1)\u001b[0m\u001b[0;34m\u001b[0m\u001b[0;34m\u001b[0m\u001b[0;34m\u001b[0m\u001b[0m\n\u001b[1;32m      3\u001b[0m \u001b[0;31m#fast low precision method\u001b[0m\u001b[0;34m\u001b[0m\u001b[0;34m\u001b[0m\u001b[0;34m\u001b[0m\u001b[0m\n\u001b[0;32m----> 4\u001b[0;31m \u001b[0mtxt_prev\u001b[0m\u001b[0;34m,\u001b[0m\u001b[0mt_prev\u001b[0m\u001b[0;34m,\u001b[0m\u001b[0mmin_sigma_max\u001b[0m\u001b[0;34m=\u001b[0m\u001b[0mfind_stopping_point\u001b[0m\u001b[0;34m(\u001b[0m\u001b[0mdt\u001b[0m\u001b[0;34m,\u001b[0m\u001b[0mpdict\u001b[0m\u001b[0;34m,\u001b[0m\u001b[0mtxt_prev\u001b[0m\u001b[0;34m,\u001b[0m\u001b[0mt_prev\u001b[0m\u001b[0;34m,\u001b[0m\u001b[0msave_every_n_frames\u001b[0m\u001b[0;34m=\u001b[0m\u001b[0;36m100\u001b[0m\u001b[0;34m,\u001b[0m\u001b[0mV_threshold\u001b[0m\u001b[0;34m=\u001b[0m\u001b[0;34m-\u001b[0m\u001b[0;36m50.\u001b[0m\u001b[0;34m,\u001b[0m\u001b[0mpid_pair\u001b[0m\u001b[0;34m=\u001b[0m\u001b[0mpid_pair_lst\u001b[0m\u001b[0;34m[\u001b[0m\u001b[0;36m0\u001b[0m\u001b[0;34m]\u001b[0m\u001b[0;34m)\u001b[0m\u001b[0;34m\u001b[0m\u001b[0;34m\u001b[0m\u001b[0m\n\u001b[0m",
      "\u001b[0;32m~/Documents/GitHub/care/notebooks/lib/routines/return_min_distance.py\u001b[0m in \u001b[0;36mfind_stopping_point\u001b[0;34m(dt, pdict, txt_prev, t_prev, save_every_n_frames, V_threshold, pid_pair, ds)\u001b[0m\n\u001b[1;32m     58\u001b[0m         \u001b[0;32melse\u001b[0m\u001b[0;34m:\u001b[0m\u001b[0;34m\u001b[0m\u001b[0;34m\u001b[0m\u001b[0m\n\u001b[1;32m     59\u001b[0m             \u001b[0mprint\u001b[0m\u001b[0;34m(\u001b[0m\u001b[0;34mf'termination event found at time t={t}, where dt={dt} and L={img.shape[0]}...'\u001b[0m\u001b[0;34m)\u001b[0m\u001b[0;34m\u001b[0m\u001b[0;34m\u001b[0m\u001b[0m\n\u001b[0;32m---> 60\u001b[0;31m     \u001b[0mmin_sigma_max\u001b[0m\u001b[0;34m=\u001b[0m\u001b[0mcompute_last_sigma_max\u001b[0m\u001b[0;34m(\u001b[0m\u001b[0mpdict\u001b[0m\u001b[0;34m,\u001b[0m\u001b[0mds\u001b[0m\u001b[0;34m)\u001b[0m\u001b[0;34m\u001b[0m\u001b[0;34m\u001b[0m\u001b[0m\n\u001b[0m\u001b[1;32m     61\u001b[0m     \u001b[0mprint\u001b[0m\u001b[0;34m(\u001b[0m\u001b[0;34mf\"\\t min_sigma_max={min_sigma_max} cm\"\u001b[0m\u001b[0;34m)\u001b[0m\u001b[0;34m\u001b[0m\u001b[0;34m\u001b[0m\u001b[0m\n\u001b[1;32m     62\u001b[0m     \u001b[0;32mreturn\u001b[0m \u001b[0mtxt_prev\u001b[0m\u001b[0;34m,\u001b[0m\u001b[0mt_prev\u001b[0m\u001b[0;34m,\u001b[0m\u001b[0mmin_sigma_max\u001b[0m\u001b[0;34m\u001b[0m\u001b[0;34m\u001b[0m\u001b[0m\n",
      "\u001b[0;32m~/Documents/GitHub/care/notebooks/lib/routines/return_min_distance.py\u001b[0m in \u001b[0;36mcompute_last_sigma_max\u001b[0;34m(pdict, ds)\u001b[0m\n\u001b[1;32m     13\u001b[0m     \u001b[0mlast_particle\u001b[0m\u001b[0;34m=\u001b[0m\u001b[0mpdict\u001b[0m\u001b[0;34m[\u001b[0m\u001b[0mpid_lst\u001b[0m\u001b[0;34m[\u001b[0m\u001b[0;36m0\u001b[0m\u001b[0;34m]\u001b[0m\u001b[0;34m]\u001b[0m\u001b[0;34m\u001b[0m\u001b[0;34m\u001b[0m\u001b[0m\n\u001b[1;32m     14\u001b[0m     \u001b[0mscale\u001b[0m\u001b[0;34m=\u001b[0m\u001b[0mds\u001b[0m\u001b[0;34m/\u001b[0m\u001b[0mlast_particle\u001b[0m\u001b[0;34m.\u001b[0m\u001b[0mwidth\u001b[0m \u001b[0;31m#cm/pixel\u001b[0m\u001b[0;34m\u001b[0m\u001b[0;34m\u001b[0m\u001b[0m\n\u001b[0;32m---> 15\u001b[0;31m     \u001b[0msigma_max\u001b[0m\u001b[0;34m=\u001b[0m\u001b[0mscale\u001b[0m\u001b[0;34m*\u001b[0m\u001b[0mlast_particle\u001b[0m\u001b[0;34m[\u001b[0m\u001b[0;34m'lesser_arclen_lst'\u001b[0m\u001b[0;34m]\u001b[0m\u001b[0;34m[\u001b[0m\u001b[0;34m-\u001b[0m\u001b[0;36m1\u001b[0m\u001b[0;34m]\u001b[0m\u001b[0;34m\u001b[0m\u001b[0;34m\u001b[0m\u001b[0m\n\u001b[0m\u001b[1;32m     16\u001b[0m     \u001b[0;32mreturn\u001b[0m \u001b[0msigma_max\u001b[0m\u001b[0;34m\u001b[0m\u001b[0;34m\u001b[0m\u001b[0m\n\u001b[1;32m     17\u001b[0m \u001b[0;34m\u001b[0m\u001b[0m\n",
      "\u001b[0;31mKeyError\u001b[0m: 'lesser_arclen_lst'"
     ]
    }
   ],
   "source": [
    "t_death_lst=[]\n",
    "for pid_pair in pid_pair_lst:\n",
    "#init txt\n",
    "txt_fn=f'{nb_dir}/Data/test_data/ic008.33_t_218.8.npz'\n",
    "t=218.8;dt=0.01\n",
    "txt=load_buffer(txt_fn);width,height=txt.shape[:2]\n",
    "inVc,outVc,inmhjdfx,outmhjdfx,dVcdt=unstack_txt(txt)\n",
    "#initialize system\n",
    "dict_topo=comp_tips()\n",
    "pdict=ParticlePBCDict(dict_tips=dict_topo, width=width, height=width)#, **kwargs)\n",
    "t_prev=t;txt_prev=txt.copy()\n",
    "# #zoom system\n",
    "# txt,pdict=zoom_system(txt,pdict)\n",
    "# txt,pdict=zoom_system(txt,pdict)\n",
    "# width,height=txt.shape[:2]\n",
    "# comp_dict_topo_simple=get_comp_dict_topo_simple(width=width,height=height,level1=V_threshold,level2=0)\n",
    "# x_values,y_values,pid_values=pdict.get_current_locations()\n",
    "inVc,outVc,inmhjdfx,outmhjdfx,dVcdt=unstack_txt(txt)\n",
    "img=inVc[...,0];dimgdt=dVcdt[...,0]\n",
    "\n",
    "#initialize system\n",
    "pdict=ParticlePBCDict(dict_tips=dict_topo, width=width, height=width)#, **kwargs)\n",
    "t_prev=t;txt_prev=txt.copy()\n",
    "\n",
    "t_death_lst.append(t_prev+dt)\n",
    "\n",
    "\n",
    "#slow high http://localhost:8888/notebooks/dev%20measure%20bd%20events%20recursively.ipynb#precision method\n",
    "# txt_prev,t_prev,min_sigma_max=find_stopping_point(dt, pdict, txt_prev, t_prev, save_every_n_frames=1)\n",
    "#fast low precision method\n",
    "txt_prev,t_prev,min_sigma_max=find_stopping_point(dt,pdict,txt_prev,t_prev,save_every_n_frames=100,V_threshold=V_threshold,pid_pair=pid_pair)"
   ]
  },
  {
   "cell_type": "code",
   "execution_count": null,
   "metadata": {
    "ExecuteTime": {
     "end_time": "2021-05-06T01:12:32.176871Z",
     "start_time": "2021-05-06T01:07:55.864Z"
    }
   },
   "outputs": [],
   "source": [
    "#TODO: init txt\n",
    "txt_fn=f'{nb_dir}/Data/test_data/ic008.33_t_218.8.npz'\n",
    "t=218.8\n",
    "dt=0.01\n",
    "txt=load_buffer(txt_fn)\n",
    "inVc,outVc,inmhjdfx,outmhjdfx,dVcdt=unstack_txt(txt)\n",
    "width,height=txt.shape[:2]\n",
    "print(txt.shape)\n",
    "\n",
    "\n",
    "\n",
    "txt_prev,t_prev,min_sigma_max=find_stopping_point(dt,pdict,txt_prev,t_prev,save_every_n_frames=100,V_threshold=V_threshold,pid_pair=pid_pair_lst[1])\n",
    "t_death_lst.append(t_prev+dt)"
   ]
  },
  {
   "cell_type": "code",
   "execution_count": null,
   "metadata": {
    "ExecuteTime": {
     "end_time": "2021-05-06T01:12:32.186075Z",
     "start_time": "2021-05-06T01:07:57.612Z"
    }
   },
   "outputs": [],
   "source": [
    "beep(6)"
   ]
  },
  {
   "cell_type": "code",
   "execution_count": null,
   "metadata": {
    "ExecuteTime": {
     "end_time": "2021-05-06T01:23:29.759154Z",
     "start_time": "2021-05-06T01:19:43.695Z"
    }
   },
   "outputs": [],
   "source": [
    "#TODO: test that the tip order is deterministic\n",
    "#TODO: enforce a deterministic tip order by sorting by x_values before returning tip locations \n",
    "# HINT: enforce (at the lowest level)\n"
   ]
  },
  {
   "cell_type": "code",
   "execution_count": null,
   "metadata": {},
   "outputs": [],
   "source": [
    "#TODO: init txt\n",
    "txt_fn=f'{nb_dir}/Data/test_data/ic008.33_t_218.8.npz'\n",
    "t=218.8\n",
    "dt=0.01\n",
    "txt=load_buffer(txt_fn)\n",
    "inVc,outVc,inmhjdfx,outmhjdfx,dVcdt=unstack_txt(txt)\n",
    "width,height=txt.shape[:2]\n",
    "print(txt.shape)\n",
    "\n",
    "#TODO: recursively zoom into the first death up to atol\n",
    "\n",
    "#TODO: repeat while there are still pid_pairs to zoom into\n"
   ]
  },
  {
   "cell_type": "code",
   "execution_count": null,
   "metadata": {},
   "outputs": [],
   "source": []
  }
 ],
 "metadata": {
  "kernelspec": {
   "display_name": "Python 3",
   "language": "python",
   "name": "python3"
  },
  "language_info": {
   "codemirror_mode": {
    "name": "ipython",
    "version": 3
   },
   "file_extension": ".py",
   "mimetype": "text/x-python",
   "name": "python",
   "nbconvert_exporter": "python",
   "pygments_lexer": "ipython3",
   "version": "3.8.7"
  },
  "varInspector": {
   "cols": {
    "lenName": 16,
    "lenType": 16,
    "lenVar": 40
   },
   "kernels_config": {
    "python": {
     "delete_cmd_postfix": "",
     "delete_cmd_prefix": "del ",
     "library": "var_list.py",
     "varRefreshCmd": "print(var_dic_list())"
    },
    "r": {
     "delete_cmd_postfix": ") ",
     "delete_cmd_prefix": "rm(",
     "library": "var_list.r",
     "varRefreshCmd": "cat(var_dic_list()) "
    }
   },
   "types_to_exclude": [
    "module",
    "function",
    "builtin_function_or_method",
    "instance",
    "_Feature"
   ],
   "window_display": false
  }
 },
 "nbformat": 4,
 "nbformat_minor": 4
}
