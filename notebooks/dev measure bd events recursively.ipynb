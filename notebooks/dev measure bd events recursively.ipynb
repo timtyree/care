{
 "cells": [
  {
   "cell_type": "markdown",
   "metadata": {},
   "source": [
    "# dev measure birth/death events recursively"
   ]
  },
  {
   "cell_type": "code",
   "execution_count": 1,
   "metadata": {
    "ExecuteTime": {
     "end_time": "2021-05-06T20:15:27.127372Z",
     "start_time": "2021-05-06T20:15:25.121041Z"
    }
   },
   "outputs": [
    {
     "name": "stdout",
     "output_type": "stream",
     "text": [
      "Automatic calling is: Smart\n"
     ]
    }
   ],
   "source": [
    "from lib.my_initialization import *\n",
    "from lib.controller.controller_LR import get_one_step_explicit_synchronous_splitting\n",
    "from lib.model.LR_model import *\n",
    "from lib.utils.utils_traj import *\n",
    "from lib.routines.bdrates import *\n",
    "from lib.measure.utils_measure_tips_cpu import *\n",
    "from lib.utils.stack_txt_LR import *\n",
    "from lib.viewer import *\n",
    "import trackpy\n",
    "from lib.utils import load_buffer\n",
    "from lib.routines.return_min_distance import *\n",
    "\n",
    "#automate the boring stuff\n",
    "# from IPython import utils\n",
    "import time, os, sys, re\n",
    "beep = lambda x: os.system(\"echo -n '\\\\a';sleep 0.2;\" * x)\n",
    "if not 'nb_dir' in globals():\n",
    "    nb_dir = os.getcwd()\n",
    "    \n",
    "%autocall 1\n",
    "%load_ext autoreload\n",
    "%autoreload 2"
   ]
  },
  {
   "cell_type": "markdown",
   "metadata": {},
   "source": [
    "# identify two time ordered death events"
   ]
  },
  {
   "cell_type": "code",
   "execution_count": 2,
   "metadata": {
    "ExecuteTime": {
     "end_time": "2021-05-06T20:16:02.453967Z",
     "start_time": "2021-05-06T20:15:30.592544Z"
    }
   },
   "outputs": [
    {
     "name": "stdout",
     "output_type": "stream",
     "text": [
      "(200, 200, 18)\n",
      "ntips=4\n"
     ]
    }
   ],
   "source": [
    "txt_fn=f'{nb_dir}/Data/test_data/ic008.33_t_218.8.npz'\n",
    "t=218.8\n",
    "dt=0.01\n",
    "txt=load_buffer(txt_fn)\n",
    "inVc,outVc,inmhjdfx,outmhjdfx,dVcdt=unstack_txt(txt)\n",
    "width,height=txt.shape[:2]\n",
    "print(f\"txt.shape={txt.shape}\")\n",
    "\n",
    "V_threshold=-50\n",
    "jump_threshold = 40\n",
    "ds=5.0\n",
    "# get_one_step\n",
    "__, arr39, one_step = get_one_step_explicit_synchronous_splitting(\n",
    "    nb_dir,dt,width,height,ds,diffCoef=0.0005,Cm=1.0)\n",
    "\n",
    "#the heavyweight spiral tip measures\n",
    "comp_dict_tips=get_comp_dict_topo_full_color(width=width,height=height,level1=V_threshold,level2=0,\n",
    "                                             jump_threshold=jump_threshold,ds=ds)\n",
    "# comp_dict_tips=get_compute_all_spiral_tips(width, height, mode='simp')\n",
    "comp_distance=get_distance_L2_pbc(width,height)\n",
    "#measure tips that are already present topologically (slower)\n",
    "img=inVc[...,0];dimgdt=dVcdt[...,0]\n",
    "# dict_topo=comp_dict_topo_simple(img,dimgdt,t)\n",
    "dict_topo=comp_dict_tips(img,dimgdt,t,txt)\n",
    "pid_lst_all=dict_topo['pid']\n",
    "n_tips=len(pid_lst_all)\n",
    "print(f'ntips={n_tips}')\n",
    "#initialize system\n",
    "pdict=ParticlePBCDict(dict_tips=dict_topo, width=width, height=width)#, **kwargs)\n",
    "t_prev=t;txt_prev=txt.copy()\n",
    "# #zoom system (increases runtime and precision at long timescales)\n",
    "# txt,pdict=zoom_system(txt,pdict)\n",
    "# txt,pdict=zoom_system(txt,pdict)\n",
    "# dt=dt/10\n",
    "# width,height=txt.shape[:2]\n",
    "# comp_dict_topo_simple=get_comp_dict_topo_simple(width=width,height=height,level1=V_threshold,level2=0)\n",
    "x_values,y_values,pid_values=pdict.get_current_locations()\n",
    "inVc,outVc,inmhjdfx,outmhjdfx,dVcdt=unstack_txt(txt)\n",
    "img=inVc[...,0];dimgdt=dVcdt[...,0]\n",
    "\n",
    "scale=ds/width\n",
    "xy_values=np.array(tuple(zip(x_values,y_values)))\n",
    "assert(xy_values[0].shape[0]==2)\n",
    "\n",
    "#compute minimum distance of all pid found\n",
    "item_lst=[]\n",
    "for i in range(n_tips):\n",
    "    for j in range(n_tips):\n",
    "        if i > j:\n",
    "            #the ith tip location\n",
    "            point1=xy_values[i]\n",
    "            #the jth tip location\n",
    "            point2=xy_values[j]\n",
    "            #their distance, in cm\n",
    "            dist=comp_distance(point1,point2)\n",
    "            #add to list of distances\n",
    "            item=(dist,i,j)\n",
    "            item_lst.append(item)\n",
    "item_lst=sorted(item_lst)\n",
    "item_lst\n",
    "\n",
    "#identify the pairs to follow to existential event\n",
    "num_pairs_to_follow=2\n",
    "pid_pair_lst=[]\n",
    "for item in item_lst[:num_pairs_to_follow]:\n",
    "    d,i,j=item\n",
    "    pid_pair=i,j\n",
    "    pid_pair_lst.append(pid_pair)\n",
    "\n",
    "\n",
    "#define initialization target points as\n",
    "point_target_init_lst=[]\n",
    "for pid_pair in pid_pair_lst:\n",
    "    #the  mean location of these tips \n",
    "    point_target_init=np.mean((x_values[pid_pair[0]],x_values[pid_pair[1]])),np.mean((y_values[pid_pair[0]],y_values[pid_pair[1]]))\n",
    "    point_target_init_lst.append(point_target_init)\n",
    "\n",
    "#set range to some value\n",
    "#the ith tip location\n",
    "point1=np.array(point_target_init_lst[0])\n",
    "#the jth tip location\n",
    "point2=np.array(point_target_init_lst[1])\n",
    "#their distance, in cm\n",
    "r=comp_distance(point1,point2)*scale #cm distance between the targets\n",
    "print(f'there are {r:.3f} cm distance between the first and second targets.')"
   ]
  },
  {
   "cell_type": "markdown",
   "metadata": {
    "heading_collapsed": true
   },
   "source": [
    "# estimate time ordering the death events (~7 min runtime...)"
   ]
  },
  {
   "cell_type": "code",
   "execution_count": 110,
   "metadata": {
    "ExecuteTime": {
     "end_time": "2021-05-06T19:15:29.874909Z",
     "start_time": "2021-05-06T19:08:19.516160Z"
    },
    "hidden": true,
    "scrolled": true
   },
   "outputs": [
    {
     "name": "stdout",
     "output_type": "stream",
     "text": [
      "death event found for pid_pair=(3, 2) at time t=228.79999999999092, where dt=0.01 and L=200...\n",
      "\t min_sigma_max=0.01397989604501346 cm\n",
      "death event found for pid_pair=(1, 0) at time t=248.79999999997273, where dt=0.01 and L=200...\n",
      "\t min_sigma_max=0.014290084392902717 cm\n"
     ]
    }
   ],
   "source": [
    "#find txt_prev, and approximate time of death for each tip\n",
    "t_death_lst=[]\n",
    "for pid_pair in pid_pair_lst:\n",
    "    #TODO: def follows_pair_to_death(txt,pdict,pid_pair,atol,dt,ds):\n",
    "    #slow high precision method\n",
    "    # txt_prev,t_prev,min_sigma_max=find_stopping_point(dt, pdict, txt_prev, t_prev, save_every_n_frames=1)\n",
    "    \n",
    "    #find txt_prev near the death of the first tip pair fast low precision method\n",
    "    #TODO(if output looks funny): run more tests on find_stopping_point\n",
    "    txt_prev,t_prev,min_sigma_max=find_stopping_point(dt,pdict,txt_prev,t_prev,save_every_n_frames=1000,V_threshold=V_threshold,pid_pair=pid_pair)\n",
    "    t_death_lst.append(t_prev+dt*1000)\n",
    "    \n",
    "    #init txt for the next tip\n",
    "    txt_fn=f'{nb_dir}/Data/test_data/ic008.33_t_218.8.npz'\n",
    "    t=218.8;dt=0.01\n",
    "    txt=load_buffer(txt_fn);width,height=txt.shape[:2]\n",
    "    inVc,outVc,inmhjdfx,outmhjdfx,dVcdt=unstack_txt(txt)\n",
    "    #measure tips that are already present topologically (slower)\n",
    "    img=inVc[...,0];dimgdt=dVcdt[...,0]\n",
    "    # dict_topo=comp_dict_topo_simple(img,dimgdt,t)\n",
    "    dict_topo=comp_dict_tips(img,dimgdt,t,txt)\n",
    "    pid_lst_all=dict_topo['pid']\n",
    "    n_tips=len(pid_lst_all)\n",
    "    boo=n_tips>0\n",
    "    \n",
    "    # #zoom system\n",
    "    # txt,pdict=zoom_system(txt,pdict)\n",
    "    # txt,pdict=zoom_system(txt,pdict)\n",
    "    # width,height=txt.shape[:2]\n",
    "    # comp_dict_topo_simple=get_comp_dict_topo_simple(width=width,height=height,level1=V_threshold,level2=0)\n",
    "    # x_values,y_values,pid_values=pdict.get_current_locations()\n",
    "    pdict=ParticlePBCDict(dict_tips=dict_topo, width=width, height=width)#, **kwargs)\n",
    "    t_prev=t;txt_prev=txt.copy()"
   ]
  },
  {
   "cell_type": "markdown",
   "metadata": {},
   "source": [
    "# recursively zoom into list of death events"
   ]
  },
  {
   "cell_type": "code",
   "execution_count": 8,
   "metadata": {
    "ExecuteTime": {
     "end_time": "2021-05-06T20:19:29.585662Z",
     "start_time": "2021-05-06T20:19:29.529402Z"
    }
   },
   "outputs": [
    {
     "name": "stdout",
     "output_type": "stream",
     "text": [
      "t=218.80\n"
     ]
    }
   ],
   "source": [
    "#output from ^that takes 7 minutes...\n",
    "sorted_indices_pid_pair_lst=[0,1]\n",
    "t_death_lst=[218.81, 238.8099999999818]\n",
    "print(f\"t={t:0.2f}\")\n",
    "#DONE: enforce sorting of tips at a low level that integrates with all pythonic methods"
   ]
  },
  {
   "cell_type": "code",
   "execution_count": 9,
   "metadata": {
    "ExecuteTime": {
     "end_time": "2021-05-06T20:19:31.681744Z",
     "start_time": "2021-05-06T20:19:31.635680Z"
    }
   },
   "outputs": [],
   "source": [
    "#determine which pid_pair dies first\n",
    "# item=t_death,pid_pair\n",
    "sorted_indices_pid_pair_lst=np.argsort(t_death_lst)\n",
    "# boo is whether the last pid_pair died last)\n",
    "boo=t_death_lst[-1]==np.min(np.array(t_death_lst))\n",
    "# #or just reinitialize and brute force through everything\n",
    "# boo=True\n",
    "#return sorted_indices_pid_pair_lst, t_death_lst, pid_pair_list"
   ]
  },
  {
   "cell_type": "code",
   "execution_count": 16,
   "metadata": {
    "ExecuteTime": {
     "end_time": "2021-05-06T20:33:47.715190Z",
     "start_time": "2021-05-06T20:33:20.555060Z"
    }
   },
   "outputs": [
    {
     "name": "stdout",
     "output_type": "stream",
     "text": [
      "(200, 200, 18)\n"
     ]
    }
   ],
   "source": [
    "#or just reinitialize and brute force through everything once in order\n",
    "boo=False\n",
    "# if the final pid_pair in pid_pair_lst didn't die first, reinititialize txt and pdict\n",
    "if not boo:\n",
    "    txt_fn=f'{nb_dir}/Data/test_data/ic008.33_t_218.8.npz'\n",
    "    t=218.8\n",
    "    dt=0.01\n",
    "    txt=load_buffer(txt_fn)\n",
    "    inVc,outVc,inmhjdfx,outmhjdfx,dVcdt=unstack_txt(txt)\n",
    "    width,height=txt.shape[:2]\n",
    "    print(txt.shape)\n",
    "    one_step,comp_distance,comp_dict_tips=init_methods(width,height,ds,dt,V_threshold=-50,jump_threshold=40)\n",
    "    comp_dict_topo_full_color=comp_dict_tips\n",
    "    #reidentify the tips to be tracked\n",
    "    dict_tips=comp_dict_tips(img, dimgdt, t, txt)\n",
    "    pdict=ParticlePBCDict(dict_tips=dict_tips, width=width, height=width)#, **kwargs)\n",
    "    t_prev=t;txt_prev=txt.copy()\n"
   ]
  },
  {
   "cell_type": "code",
   "execution_count": 17,
   "metadata": {
    "ExecuteTime": {
     "end_time": "2021-05-06T20:33:55.901492Z",
     "start_time": "2021-05-06T20:33:55.851191Z"
    }
   },
   "outputs": [],
   "source": [
    "# zooming in as needed, until a certain absolute tolerance is found in a zero minimum distance between tips is reached.  \n",
    "# consider\n",
    "dict_atol={'test':1e-2,'batch':1e-4,'precise':1e-6}\n",
    "atol=dict_atol['test']\n",
    "tfactor=0.1"
   ]
  },
  {
   "cell_type": "code",
   "execution_count": 18,
   "metadata": {
    "ExecuteTime": {
     "end_time": "2021-05-07T13:39:55.257151Z",
     "start_time": "2021-05-06T20:33:56.815232Z"
    }
   },
   "outputs": [
    {
     "name": "stdout",
     "output_type": "stream",
     "text": [
      "death event found for pid_pair=(1, 0) at time t=220.7999999999982, where dt=0.01 and L=200...\n",
      "\t min_sigma_max=0.013536455211009588 cm\n",
      "death event found for pid_pair=(1, 0) at time t=219.899999999999, where dt=0.01 and L=200...\n",
      "\t min_sigma_max=0.013536455211009588 cm\n",
      "death event found for pid_pair=(1, 0) at time t=219.86999999999904, where dt=0.01 and L=200...\n",
      "\t min_sigma_max=0.013535214153667072 cm\n",
      "zoomed to dsdpixel=0.0125 cm/pxl for pid_pair, (1, 0)...\n",
      "death event found for pid_pair=(1, 0) at time t=219.95999999999952, where dt=0.001 and L=400...\n",
      "\t min_sigma_max=0.013535214153667072 cm\n",
      "death event found for pid_pair=(1, 0) at time t=219.87999999999914, where dt=0.001 and L=400...\n",
      "\t min_sigma_max=5.117222985861741e-07 cm\n",
      "death event found for pid_pair=(1, 0) at time t=219.8709999999991, where dt=0.001 and L=400...\n",
      "\t min_sigma_max=5.117222985861741e-07 cm\n",
      "zoomed to dsdpixel=0.00625 cm/pxl for pid_pair, (1, 0)...\n",
      "death event found for pid_pair=(1, 0) at time t=219.88999999999976, where dt=0.0001 and L=800...\n",
      "\t min_sigma_max=4.039495502751759e-05 cm\n",
      "death event found for pid_pair=(1, 0) at time t=219.88099999999946, where dt=0.0001 and L=800...\n",
      "\t min_sigma_max=4.039495502751759e-05 cm\n",
      "death event found for pid_pair=(1, 0) at time t=219.88079999999945, where dt=0.0001 and L=800...\n",
      "\t min_sigma_max=3.88944250801562e-05 cm\n",
      "zoomed to dsdpixel=0.003125 cm/pxl for pid_pair, (1, 0)...\n",
      "death event found for pid_pair=(1, 0) at time t=219.88169999999977, where dt=1e-05 and L=1600...\n",
      "\t min_sigma_max=3.88944250801562e-05 cm\n",
      "death event found for pid_pair=(1, 0) at time t=219.8909000000027, where dt=1e-05 and L=1600...\n",
      "\t min_sigma_max=1.4157468679022587e-05 cm\n",
      "death event found for pid_pair=(1, 0) at time t=219.89081000000266, where dt=1e-05 and L=1600...\n",
      "\t min_sigma_max=1.4157468679022587e-05 cm\n",
      "zoomed to dsdpixel=0.0015625 cm/pxl for pid_pair, (1, 0)...\n",
      "death event found for pid_pair=(1, 0) at time t=219.8925999999981, where dt=1.0000000000000002e-06 and L=3200...\n",
      "\t min_sigma_max=1.0386915767510623e-07 cm\n",
      "death event found for pid_pair=(1, 0) at time t=219.89250999999834, where dt=1.0000000000000002e-06 and L=3200...\n",
      "\t min_sigma_max=1.0386915767510623e-07 cm\n",
      "death event found for pid_pair=(1, 0) at time t=219.8925269999983, where dt=1.0000000000000002e-06 and L=3200...\n",
      "\t min_sigma_max=2.964283370875441e-09 cm\n",
      "{0: (size,t,x,y)=(161,219.893,2229.428,1390.000);, 1: (size,t,x,y)=(161,219.893,2229.772,1392.791);, 2: (size,t,x,y)=(1,218.800,2347.333,2706.263);, 3: (size,t,x,y)=(1,218.800,2348.892,2703.245);, 4: (size,t,x,y)=(36,219.883,2233.191,1366.006);, 5: (size,t,x,y)=(19,219.881,2271.987,1082.312);, 6: (size,t,x,y)=(153,219.893,2229.521,1391.170);, 7: (size,t,x,y)=(153,219.893,2229.428,1390.001);, 8: (size,t,x,y)=(104,219.890,2288.008,2914.204);, 9: (size,t,x,y)=(104,219.890,2287.992,2914.202);, 10: (size,t,x,y)=(73,219.887,2272.010,2910.715);, 11: (size,t,x,y)=(73,219.887,2271.990,2910.709);, 12: (size,t,x,y)=(32,219.883,2271.981,2615.590);, 13: (size,t,x,y)=(43,219.884,2255.992,2903.711);, 14: (size,t,x,y)=(43,219.884,2256.008,2903.720);, 15: (size,t,x,y)=(32,219.883,2272.018,2615.572);, 16: (size,t,x,y)=(122,219.892,2288.024,2609.290);, 17: (size,t,x,y)=(122,219.892,2287.976,2609.304);, 18: (size,t,x,y)=(61,219.886,2287.983,2609.305);, 19: (size,t,x,y)=(99,219.890,2304.017,2605.817);, 20: (size,t,x,y)=(61,219.886,2288.016,2609.295);, 21: (size,t,x,y)=(99,219.890,2303.983,2605.821);, 22: (size,t,x,y)=(28,219.883,2233.196,1365.995);, 23: (size,t,x,y)=(23,219.882,2237.229,1358.009);, 24: (size,t,x,y)=(28,219.883,2235.275,1362.061);, 25: (size,t,x,y)=(28,219.883,2235.312,1361.995);, 26: (size,t,x,y)=(124,219.892,2271.982,2910.706);, 27: (size,t,x,y)=(124,219.892,2272.018,2910.718);, 28: (size,t,x,y)=(152,219.893,2287.756,2914.165);, 29: (size,t,x,y)=(64,219.886,2287.985,1066.615);, 30: (size,t,x,y)=(152,219.893,2288.244,2914.221);, 31: (size,t,x,y)=(64,219.886,2288.030,1066.578);, 32: (size,t,x,y)=(115,219.891,2350.973,2815.841);, 33: (size,t,x,y)=(111,219.891,2350.816,2704.049);, 34: (size,t,x,y)=(115,219.891,2351.067,2816.030);, 35: (size,t,x,y)=(111,219.891,2301.968,2914.618);, 36: (size,t,x,y)=(111,219.891,2302.035,2914.617);, 37: (size,t,x,y)=(111,219.891,2351.014,2703.698);, 38: (size,t,x,y)=(116,219.892,2318.036,2912.158);, 39: (size,t,x,y)=(152,219.893,2303.796,2605.852);, 40: (size,t,x,y)=(116,219.892,2317.976,2912.172);, 41: (size,t,x,y)=(108,219.891,2348.485,2896.004);, 42: (size,t,x,y)=(108,219.891,2348.508,2895.983);, 43: (size,t,x,y)=(152,219.893,2304.204,2605.800);, 44: (size,t,x,y)=(152,219.893,2359.622,2690.074);, 45: (size,t,x,y)=(81,219.888,2368.004,2627.716);, 46: (size,t,x,y)=(111,219.891,2317.991,2605.065);, 47: (size,t,x,y)=(112,219.891,2334.019,2606.949);, 48: (size,t,x,y)=(111,219.891,2318.010,2605.065);, 49: (size,t,x,y)=(112,219.891,2333.981,2606.941);, 50: (size,t,x,y)=(3,219.881,1633.984,2655.423);, 51: (size,t,x,y)=(3,219.881,1634.010,2655.221);, 52: (size,t,x,y)=(5,219.881,1666.719,2527.991);, 53: (size,t,x,y)=(2,219.881,1666.788,3087.895);, 54: (size,t,x,y)=(5,219.881,1666.715,2528.014);, 55: (size,t,x,y)=(2,219.881,1666.819,3088.062);, 56: (size,t,x,y)=(6,219.881,1697.981,3168.788);, 57: (size,t,x,y)=(6,219.881,1698.020,3168.938);, 58: (size,t,x,y)=(15,219.882,1903.688,157.997);, 59: (size,t,x,y)=(2,219.881,1903.925,2162.642);, 60: (size,t,x,y)=(2,219.881,1904.145,2162.583);, 61: (size,t,x,y)=(15,219.882,1903.727,158.005);, 62: (size,t,x,y)=(7,219.881,1935.965,2146.725);, 63: (size,t,x,y)=(7,219.881,1936.050,2146.705);, 64: (size,t,x,y)=(13,219.882,1951.971,173.740);, 65: (size,t,x,y)=(13,219.882,1952.036,173.751);, 66: (size,t,x,y)=(10,219.882,2015.985,189.935);, 67: (size,t,x,y)=(10,219.882,2016.021,189.939);, 68: (size,t,x,y)=(4,219.881,2095.992,205.843);, 69: (size,t,x,y)=(4,219.881,2096.013,205.845);, 70: (size,t,x,y)=(1,219.881,2207.913,221.990);, 71: (size,t,x,y)=(1,219.881,2208.100,222.002);, 72: (size,t,x,y)=(15,219.882,2237.264,1357.890);, 73: (size,t,x,y)=(112,219.892,2230.056,1393.997);, 74: (size,t,x,y)=(144,219.893,2230.117,1376.099);, 75: (size,t,x,y)=(114,219.892,2233.666,1364.983);, 76: (size,t,x,y)=(114,219.892,2233.643,1365.031);, 77: (size,t,x,y)=(144,219.893,2230.158,1375.838);, 78: (size,t,x,y)=(3,219.881,2272.038,1082.253);, 79: (size,t,x,y)=(15,219.882,2287.711,1438.005);, 80: (size,t,x,y)=(15,219.882,2288.043,1438.040);, 81: (size,t,x,y)=(9,219.882,2305.180,1054.021);, 82: (size,t,x,y)=(9,219.882,2305.231,1053.990);, 83: (size,t,x,y)=(40,219.885,2312.937,1050.003);, 84: (size,t,x,y)=(5,219.881,2317.646,1048.019);, 85: (size,t,x,y)=(5,219.881,2317.865,1047.934);, 86: (size,t,x,y)=(14,219.882,2319.950,1437.075);, 87: (size,t,x,y)=(14,219.882,2320.043,1437.060);, 88: (size,t,x,y)=(10,219.882,2335.998,1042.885);, 89: (size,t,x,y)=(10,219.882,2336.002,1042.885);, 90: (size,t,x,y)=(8,219.881,2347.960,1042.207);, 91: (size,t,x,y)=(8,219.881,2348.048,1042.208);, 92: (size,t,x,y)=(40,219.885,2313.171,1049.899);, 93: (size,t,x,y)=(113,219.892,2287.973,1066.627);, 94: (size,t,x,y)=(103,219.891,2333.967,2906.048);, 95: (size,t,x,y)=(103,219.891,2334.038,2906.014);, 96: (size,t,x,y)=(144,219.893,2357.973,2829.886);, 97: (size,t,x,y)=(144,219.893,2358.260,2830.512);, 98: (size,t,x,y)=(144,219.893,2348.146,2896.295);, 99: (size,t,x,y)=(144,219.893,2348.767,2895.739);, 100: (size,t,x,y)=(73,219.888,2367.936,2627.618);, 101: (size,t,x,y)=(144,219.893,2359.776,2689.820);, 102: (size,t,x,y)=(144,219.893,2351.690,2613.524);, 103: (size,t,x,y)=(144,219.893,2360.349,2688.861);, 104: (size,t,x,y)=(144,219.893,2352.323,2613.877);, 105: (size,t,x,y)=(144,219.893,2361.288,2687.200);, 106: (size,t,x,y)=(21,219.883,2379.687,1071.988);, 107: (size,t,x,y)=(21,219.883,2379.693,1072.007);, 108: (size,t,x,y)=(7,219.881,2397.345,1135.934);, 109: (size,t,x,y)=(7,219.881,2397.367,1136.088);, 110: (size,t,x,y)=(10,219.882,2480.010,205.769);, 111: (size,t,x,y)=(3,219.881,2480.879,2097.986);, 112: (size,t,x,y)=(10,219.882,2479.987,205.772);, 113: (size,t,x,y)=(3,219.881,2481.025,2098.008);, 114: (size,t,x,y)=(6,219.881,2543.911,2114.661);, 115: (size,t,x,y)=(6,219.881,2544.060,2114.687);, 116: (size,t,x,y)=(11,219.882,2623.953,2146.330);, 117: (size,t,x,y)=(11,219.882,2624.038,2146.350);, 118: (size,t,x,y)=(11,219.882,2749.989,3184.651);, 119: (size,t,x,y)=(6,219.881,2749.990,2302.887);, 120: (size,t,x,y)=(6,219.881,2750.018,2303.012);, 121: (size,t,x,y)=(11,219.882,2750.018,3184.525);, 122: (size,t,x,y)=(10,219.882,2765.640,3136.049);, 123: (size,t,x,y)=(14,219.882,2765.917,2351.986);, 124: (size,t,x,y)=(10,219.882,2765.657,3135.935);, 125: (size,t,x,y)=(14,219.882,2765.922,2352.017);, 126: (size,t,x,y)=(1,219.881,2781.481,2415.946);, 127: (size,t,x,y)=(1,219.881,2781.498,2416.093);, 128: (size,t,x,y)=(107,219.893,2314.684,1049.236);, 129: (size,t,x,y)=(69,219.891,2316.992,1048.269);, 130: (size,t,x,y)=(2,219.891,1682.906,2480.038);, 131: (size,t,x,y)=(2,219.891,1683.009,2479.597);, 132: (size,t,x,y)=(2,219.891,2015.582,2115.014);, 133: (size,t,x,y)=(2,219.891,2016.068,2114.905);, 134: (size,t,x,y)=(11,219.892,2230.058,1394.003);, 135: (size,t,x,y)=(5,219.891,2230.506,1374.017);, 136: (size,t,x,y)=(5,219.891,2230.517,1373.970);, 137: (size,t,x,y)=(2,219.891,2230.997,1372.053);, 138: (size,t,x,y)=(2,219.891,2231.027,1371.945);, 139: (size,t,x,y)=(5,219.891,2234.678,1363.038);, 140: (size,t,x,y)=(5,219.891,2234.706,1362.986);, 141: (size,t,x,y)=(6,219.891,2235.804,1361.000);, 142: (size,t,x,y)=(6,219.891,2235.804,1361.000);, 143: (size,t,x,y)=(3,219.891,2236.777,1359.003);, 144: (size,t,x,y)=(3,219.891,2236.781,1358.994);, 145: (size,t,x,y)=(12,219.892,2237.488,1357.016);, 146: (size,t,x,y)=(12,219.892,2237.518,1356.917);, 147: (size,t,x,y)=(43,219.893,2237.886,1355.671);, 148: (size,t,x,y)=(1,219.891,2238.829,1352.068);, 149: (size,t,x,y)=(1,219.891,2238.878,1351.874);, 150: (size,t,x,y)=(43,219.893,2240.291,1346.219);, 151: (size,t,x,y)=(13,219.892,2240.552,1344.999);, 152: (size,t,x,y)=(13,219.892,2240.551,1345.005);, 153: (size,t,x,y)=(3,219.891,2240.609,1325.968);, 154: (size,t,x,y)=(3,219.891,2240.617,1326.033);, 155: (size,t,x,y)=(43,219.893,2240.774,1327.537);, 156: (size,t,x,y)=(9,219.892,2240.853,1343.000);, 157: (size,t,x,y)=(43,219.893,2240.848,1328.452);, 158: (size,t,x,y)=(9,219.892,2240.853,1342.999);, 159: (size,t,x,y)=(2,219.891,2240.934,1329.972);, 160: (size,t,x,y)=(2,219.891,2240.937,1330.026);, 161: (size,t,x,y)=(43,219.893,2240.983,1341.229);, 162: (size,t,x,y)=(11,219.892,2241.030,1340.055);, 163: (size,t,x,y)=(11,219.892,2241.033,1339.969);, 164: (size,t,x,y)=(7,219.892,2255.993,2903.721);, 165: (size,t,x,y)=(7,219.892,2256.007,2903.729);, 166: (size,t,x,y)=(4,219.891,2271.980,2615.578);, 167: (size,t,x,y)=(4,219.891,2272.019,2615.559);, 168: (size,t,x,y)=(12,219.892,2288.022,1066.587);, 169: (size,t,x,y)=(43,219.893,2303.571,2914.548);, 170: (size,t,x,y)=(5,219.891,2304.027,1054.769);, 171: (size,t,x,y)=(5,219.891,2303.863,1054.866);, 172: (size,t,x,y)=(43,219.893,2304.432,2914.481);, 173: (size,t,x,y)=(3,219.891,2305.989,2914.307);, 174: (size,t,x,y)=(3,219.891,2306.010,2914.304);, 175: (size,t,x,y)=(5,219.891,2317.009,1048.262);, 176: (size,t,x,y)=(43,219.893,2319.389,2911.822);, 177: (size,t,x,y)=(43,219.893,2319.572,2605.087);, 178: (size,t,x,y)=(4,219.891,2319.958,1437.132);, 179: (size,t,x,y)=(43,219.893,2320.434,2605.126);, 180: (size,t,x,y)=(43,219.893,2320.589,2911.478);, 181: (size,t,x,y)=(4,219.891,2320.135,1437.101);, 182: (size,t,x,y)=(4,219.891,2321.992,2911.021);, 183: (size,t,x,y)=(2,219.891,2321.965,2605.242);, 184: (size,t,x,y)=(2,219.891,2322.034,2605.249);, 185: (size,t,x,y)=(4,219.891,2322.006,2911.017);, 186: (size,t,x,y)=(43,219.893,2335.318,2607.223);, 187: (size,t,x,y)=(43,219.893,2335.607,2905.207);, 188: (size,t,x,y)=(1,219.891,2335.990,1042.857);, 189: (size,t,x,y)=(1,219.891,2336.006,1042.855);, 190: (size,t,x,y)=(43,219.893,2336.403,2904.763);, 191: (size,t,x,y)=(43,219.893,2336.810,2607.597);, 192: (size,t,x,y)=(43,219.893,2337.708,2607.856);, 193: (size,t,x,y)=(3,219.891,2337.973,2903.819);, 194: (size,t,x,y)=(3,219.891,2338.022,2903.788);, 195: (size,t,x,y)=(43,219.893,2338.156,2607.991);, 196: (size,t,x,y)=(10,219.892,2349.989,2894.583);, 197: (size,t,x,y)=(6,219.891,2350.000,1042.242);, 198: (size,t,x,y)=(6,219.891,2350.001,1042.243);, 199: (size,t,x,y)=(10,219.892,2350.576,2893.995);, 200: (size,t,x,y)=(43,219.893,2351.209,1042.407);, 201: (size,t,x,y)=(43,219.893,2351.677,2892.823);, 202: (size,t,x,y)=(43,219.893,2352.374,2892.034);, 203: (size,t,x,y)=(13,219.892,2352.980,1042.858);, 204: (size,t,x,y)=(13,219.892,2353.034,1042.877);, 205: (size,t,x,y)=(43,219.893,2354.453,1043.449);, 206: (size,t,x,y)=(43,219.893,2358.509,2831.064);, 207: (size,t,x,y)=(43,219.893,2359.265,2832.911);, 208: (size,t,x,y)=(10,219.892,2359.487,2882.002);, 209: (size,t,x,y)=(43,219.893,2359.618,2833.867);, 210: (size,t,x,y)=(10,219.892,2359.490,2881.997);, 211: (size,t,x,y)=(43,219.893,2359.675,2834.023);, 212: (size,t,x,y)=(43,219.893,2360.182,2880.720);, 213: (size,t,x,y)=(43,219.893,2360.855,2879.311);, 214: (size,t,x,y)=(9,219.892,2361.393,2878.015);, 215: (size,t,x,y)=(9,219.892,2361.402,2877.990);, 216: (size,t,x,y)=(8,219.892,2361.918,2686.019);, 217: (size,t,x,y)=(8,219.892,2361.933,2685.991);, 218: (size,t,x,y)=(6,219.891,2363.174,2621.992);, 219: (size,t,x,y)=(43,219.893,2363.480,2845.911);, 220: (size,t,x,y)=(6,219.891,2363.206,2622.022);, 221: (size,t,x,y)=(43,219.893,2363.580,2846.287);, 222: (size,t,x,y)=(43,219.893,2363.793,2847.117);, 223: (size,t,x,y)=(43,219.893,2364.154,2848.875);, 224: (size,t,x,y)=(43,219.893,2364.303,2849.846);, 225: (size,t,x,y)=(43,219.893,2364.331,2850.039);, 226: (size,t,x,y)=(43,219.893,2364.453,2623.246);, 227: (size,t,x,y)=(43,219.893,2364.737,2866.119);, 228: (size,t,x,y)=(43,219.893,2364.834,2865.527);, 229: (size,t,x,y)=(43,219.893,2364.925,2864.923);, 230: (size,t,x,y)=(43,219.893,2365.088,2863.089);, 231: (size,t,x,y)=(43,219.893,2365.109,2862.319);, 232: (size,t,x,y)=(43,219.893,2365.116,2861.929);, 233: (size,t,x,y)=(14,219.892,2366.021,2624.992);, 234: (size,t,x,y)=(14,219.892,2366.081,2625.069);, 235: (size,t,x,y)=(43,219.893,2366.949,2626.195);, 236: (size,t,x,y)=(43,219.893,2367.860,2627.507);, 237: (size,t,x,y)=(43,219.893,2368.186,2628.004);, 238: (size,t,x,y)=(43,219.893,2368.842,2672.781);, 239: (size,t,x,y)=(43,219.893,2369.557,2671.172);, 240: (size,t,x,y)=(15,219.892,2370.017,2669.994);, 241: (size,t,x,y)=(15,219.892,2370.010,2670.011);, 242: (size,t,x,y)=(43,219.893,2373.080,2637.780);, 243: (size,t,x,y)=(43,219.893,2373.453,2638.890);, 244: (size,t,x,y)=(43,219.893,2373.493,2639.016);, 245: (size,t,x,y)=(43,219.893,2373.709,2658.325);, 246: (size,t,x,y)=(15,219.892,2374.029,2656.992);, 247: (size,t,x,y)=(43,219.893,2373.958,2640.977);, 248: (size,t,x,y)=(43,219.893,2373.987,2641.167);, 249: (size,t,x,y)=(15,219.892,2374.018,2657.041);, 250: (size,t,x,y)=(43,219.893,2374.133,2642.189);, 251: (size,t,x,y)=(15,219.892,2374.348,2655.011);, 252: (size,t,x,y)=(15,219.892,2374.354,2654.945);, 253: (size,t,x,y)=(43,219.893,2374.453,2653.686);, 254: (size,t,x,y)=(5,219.891,2378.992,1069.885);, 255: (size,t,x,y)=(5,219.891,2379.044,1070.020);, 256: (size,t,x,y)=(2,219.891,2398.920,1360.131);, 257: (size,t,x,y)=(2,219.891,2399.005,1359.627);, 258: (size,t,x,y)=(1,219.891,2545.852,2114.992);, 259: (size,t,x,y)=(1,219.891,2546.045,2115.038);, 260: (size,t,x,y)=(1,219.891,2765.000,2704.443);, 261: (size,t,x,y)=(1,219.891,2765.009,2704.399);, 262: (size,t,x,y)=(2,219.891,2780.971,2640.051);, 263: (size,t,x,y)=(2,219.891,2781.000,2639.855);}\n"
     ]
    }
   ],
   "source": [
    "#for each pid_pair\n",
    "for q in sorted_indices_pid_pair_lst:\n",
    "    pid_pair=pid_pair_lst[q]\n",
    "    boo=check_atol(pdict,pid_pair,atol,index=-1,ds=ds)\n",
    "    #while atol is not reached:\n",
    "    while not boo:\n",
    "        kwargs={'one_step':one_step,\n",
    "               'comp_dict_topo_full_color':comp_dict_topo_full_color,\n",
    "               'V_threshold':V_threshold,\n",
    "               'pid_pair':pid_pair}\n",
    "        #find stopping point, integrating up to the death of the first particle\n",
    "        txt_prev,t_prev,min_sigma_max=find_stopping_point(dt,pdict,txt_prev,t_prev,save_every_n_frames=100,**kwargs)\n",
    "#                                                           V_threshold=V_threshold,pid_pair=pid_pair)\n",
    "        txt_prev,t_prev,min_sigma_max=find_stopping_point(dt,pdict,txt_prev,t_prev,save_every_n_frames=10,**kwargs)\n",
    "#                                                           V_threshold=V_threshold,pid_pair=pid_pair)\n",
    "        txt_prev,t_prev,min_sigma_max=find_stopping_point(dt,pdict,txt_prev,t_prev,save_every_n_frames=1,**kwargs)\n",
    "#                                                           V_threshold=V_threshold,pid_pair=pid_pair)\n",
    "        t_death_lst[q]=t_prev+dt\n",
    "        boo=check_atol(pdict,pid_pair,atol,index=-1,ds=ds)\n",
    "        if not boo:\n",
    "            #reset to txt_prev. zoom system.\n",
    "            dt=tfactor*dt\n",
    "            txt_prev,pdict=zoom_system(txt_prev,pdict)\n",
    "            width,height=txt_prev.shape[:2]\n",
    "            print(f'zoomed to dsdpixel={ds/width} cm/pxl for pid_pair, {pid_pair}...')\n",
    "            #jit compile the one_step_kernel and measure_subkernel\n",
    "            one_step,comp_distance,comp_dict_topo_full_color=init_methods(width,height,ds,dt,jump_threshold=40,**kwargs)\n",
    "#             __, __, one_step = get_one_step_explicit_synchronous_splitting(nb_dir,\n",
    "#                                                                            dt=dt,width=width,height=height,\n",
    "#                                                                            ds=ds,diffCoef=0.0005,Cm=1.0)\n",
    "#             comp_dict_topo_full_color=get_comp_dict_topo_full_color(width=width,height=height,level1=V_threshold,level2=0)\n",
    "            \n",
    "beep(10)\n",
    "print(pdict)\n",
    "#TODO: test ^this\n",
    "#TODO: plot ^this... does it look reasonable?\n",
    "#TODO: put ^this in a function/routine in return_min_distance.py \n",
    "#TODO: make a return_min_distance.sh file that runs ^this python function to a high precision, prints to a text file, and saves some out.csv"
   ]
  },
  {
   "cell_type": "markdown",
   "metadata": {},
   "source": [
    "# TODO: save and visualize the results"
   ]
  },
  {
   "cell_type": "code",
   "execution_count": 20,
   "metadata": {
    "ExecuteTime": {
     "end_time": "2021-05-07T18:00:05.255553Z",
     "start_time": "2021-05-07T18:00:05.200446Z"
    }
   },
   "outputs": [
    {
     "data": {
      "text/plain": [
       "(size,t,x,y)=(161,219.893,2229.428,1390.000);"
      ]
     },
     "execution_count": 20,
     "metadata": {},
     "output_type": "execute_result"
    }
   ],
   "source": [
    "pdict[0]"
   ]
  },
  {
   "cell_type": "code",
   "execution_count": null,
   "metadata": {},
   "outputs": [],
   "source": [
    "#TODO: cast pdict into df\n",
    "#TODO: aggregating small particles might be necessary..."
   ]
  },
  {
   "cell_type": "code",
   "execution_count": 19,
   "metadata": {
    "ExecuteTime": {
     "end_time": "2021-05-07T17:58:37.462308Z",
     "start_time": "2021-05-07T17:58:37.378820Z"
    }
   },
   "outputs": [
    {
     "ename": "NameError",
     "evalue": "name 'pd' is not defined",
     "output_type": "error",
     "traceback": [
      "\u001b[0;31m---------------------------------------------------------------------------\u001b[0m",
      "\u001b[0;31mNameError\u001b[0m                                 Traceback (most recent call last)",
      "\u001b[0;32m<ipython-input-19-33870ceda524>\u001b[0m in \u001b[0;36m<module>\u001b[0;34m\u001b[0m\n\u001b[0;32m----> 1\u001b[0;31m \u001b[0mdf\u001b[0m\u001b[0;34m=\u001b[0m\u001b[0mpdict\u001b[0m\u001b[0;34m[\u001b[0m\u001b[0;36m0\u001b[0m\u001b[0;34m]\u001b[0m\u001b[0;34m.\u001b[0m\u001b[0mto_pandas\u001b[0m\u001b[0;34m(\u001b[0m\u001b[0;34m)\u001b[0m\u001b[0;34m\u001b[0m\u001b[0;34m\u001b[0m\u001b[0m\n\u001b[0m\u001b[1;32m      2\u001b[0m \u001b[0mdf\u001b[0m\u001b[0;34m.\u001b[0m\u001b[0mhead\u001b[0m\u001b[0;34m(\u001b[0m\u001b[0;34m)\u001b[0m\u001b[0;34m\u001b[0m\u001b[0;34m\u001b[0m\u001b[0m\n",
      "\u001b[0;32m~/Documents/GitHub/care/notebooks/lib/utils/ParticleClasses.py\u001b[0m in \u001b[0;36mto_pandas\u001b[0;34m(self)\u001b[0m\n\u001b[1;32m    104\u001b[0m             \u001b[0;32mif\u001b[0m \u001b[0;34m(\u001b[0m\u001b[0mtype\u001b[0m\u001b[0;34m(\u001b[0m\u001b[0mvalues\u001b[0m\u001b[0;34m)\u001b[0m \u001b[0;32mis\u001b[0m \u001b[0mtype\u001b[0m\u001b[0;34m(\u001b[0m\u001b[0mlist\u001b[0m\u001b[0;34m(\u001b[0m\u001b[0;34m)\u001b[0m\u001b[0;34m)\u001b[0m\u001b[0;34m)\u001b[0m\u001b[0;34m:\u001b[0m\u001b[0;31m#&(is_primitive(values[0])):\u001b[0m\u001b[0;34m\u001b[0m\u001b[0;34m\u001b[0m\u001b[0m\n\u001b[1;32m    105\u001b[0m                 \u001b[0mdself\u001b[0m\u001b[0;34m[\u001b[0m\u001b[0mkey\u001b[0m\u001b[0;34m]\u001b[0m\u001b[0;34m=\u001b[0m\u001b[0mvalues\u001b[0m\u001b[0;34m\u001b[0m\u001b[0;34m\u001b[0m\u001b[0m\n\u001b[0;32m--> 106\u001b[0;31m         \u001b[0mdf\u001b[0m\u001b[0;34m=\u001b[0m\u001b[0mpd\u001b[0m\u001b[0;34m.\u001b[0m\u001b[0mDataFrame\u001b[0m\u001b[0;34m(\u001b[0m\u001b[0mdself\u001b[0m\u001b[0;34m)\u001b[0m\u001b[0;34m\u001b[0m\u001b[0;34m\u001b[0m\u001b[0m\n\u001b[0m\u001b[1;32m    107\u001b[0m         \u001b[0mdf\u001b[0m\u001b[0;34m[\u001b[0m\u001b[0;34m'pid'\u001b[0m\u001b[0;34m]\u001b[0m\u001b[0;34m=\u001b[0m\u001b[0mself\u001b[0m\u001b[0;34m.\u001b[0m\u001b[0mpid\u001b[0m\u001b[0;34m\u001b[0m\u001b[0;34m\u001b[0m\u001b[0m\n\u001b[1;32m    108\u001b[0m         \u001b[0mcols\u001b[0m \u001b[0;34m=\u001b[0m \u001b[0mdf\u001b[0m\u001b[0;34m.\u001b[0m\u001b[0mcolumns\u001b[0m\u001b[0;34m.\u001b[0m\u001b[0mtolist\u001b[0m\u001b[0;34m(\u001b[0m\u001b[0;34m)\u001b[0m\u001b[0;34m\u001b[0m\u001b[0;34m\u001b[0m\u001b[0m\n",
      "\u001b[0;31mNameError\u001b[0m: name 'pd' is not defined"
     ]
    }
   ],
   "source": [
    "df=pdict[0].to_pandas()\n",
    "df.head()"
   ]
  },
  {
   "cell_type": "code",
   "execution_count": null,
   "metadata": {},
   "outputs": [],
   "source": [
    "df=pdict.to_pandas()\n",
    "df.head()"
   ]
  },
  {
   "cell_type": "code",
   "execution_count": 125,
   "metadata": {
    "ExecuteTime": {
     "end_time": "2021-05-06T19:34:42.696565Z",
     "start_time": "2021-05-06T19:34:42.651412Z"
    }
   },
   "outputs": [],
   "source": [
    "# #DONE: confirmed the mean location is roughly the same \n",
    "# #compute minimum distance of all pid found\n",
    "# item_lst=[]\n",
    "# for i in range(n_tips):\n",
    "#     for j in range(n_tips):\n",
    "#         if i > j:\n",
    "#             #the ith tip location\n",
    "#             point1=xy_values[i]\n",
    "#             #the jth tip location\n",
    "#             point2=xy_values[j]\n",
    "#             #their distance, in cm\n",
    "#             dist=comp_distance(point1,point2)\n",
    "#             #add to list of distances\n",
    "#             item=(dist,i,j)\n",
    "#             item_lst.append(item)\n",
    "# item_lst=sorted(item_lst)\n",
    "# item_lst"
   ]
  },
  {
   "cell_type": "code",
   "execution_count": 35,
   "metadata": {
    "ExecuteTime": {
     "end_time": "2021-05-06T07:00:16.046296Z",
     "start_time": "2021-05-06T07:00:15.981548Z"
    }
   },
   "outputs": [
    {
     "name": "stdout",
     "output_type": "stream",
     "text": [
      "(200, 200, 18)\n"
     ]
    }
   ],
   "source": [
    "#TODO: recursively zoom into the first/given death up to atol.  return pdict upto that point\n",
    "#TODO(later): repeat while there are still pid_pairs to zoom into\n"
   ]
  },
  {
   "cell_type": "code",
   "execution_count": 60,
   "metadata": {
    "ExecuteTime": {
     "end_time": "2021-05-06T07:46:24.976944Z",
     "start_time": "2021-05-06T07:46:24.926492Z"
    }
   },
   "outputs": [],
   "source": [
    "# #TODO: test measure_kernel\n",
    "# retval=find_tips_with_pbc_knots_full_color(contours1, contours2, s1in_lst, s2in_lst, txt)\n",
    "# s1_list, s2_list, x_lst, y_lst, txt_lst=retval\n",
    "# #TODO: call ^this function with contours_to_simple_tips_pbc_full_color"
   ]
  },
  {
   "cell_type": "code",
   "execution_count": null,
   "metadata": {},
   "outputs": [],
   "source": []
  },
  {
   "cell_type": "code",
   "execution_count": 94,
   "metadata": {
    "ExecuteTime": {
     "end_time": "2021-05-06T19:02:17.927321Z",
     "start_time": "2021-05-06T19:02:17.883663Z"
    }
   },
   "outputs": [
    {
     "data": {
      "text/plain": [
       "True"
      ]
     },
     "execution_count": 94,
     "metadata": {},
     "output_type": "execute_result"
    }
   ],
   "source": [
    "# TODO: visualize deaths"
   ]
  },
  {
   "cell_type": "code",
   "execution_count": 126,
   "metadata": {
    "ExecuteTime": {
     "end_time": "2021-05-06T19:35:21.917366Z",
     "start_time": "2021-05-06T19:35:21.874537Z"
    }
   },
   "outputs": [
    {
     "data": {
      "text/plain": [
       "[218.81, 238.8099999999818]"
      ]
     },
     "execution_count": 126,
     "metadata": {},
     "output_type": "execute_result"
    }
   ],
   "source": [
    "txt_prev,t_prev,min_sigma_max=find_stopping_point(dt,pdict,txt_prev,t_prev,save_every_n_frames=1000,V_threshold=V_threshold,pid_pair=pid_pair)\n",
    "    t_death_lst.append(t_prev+dt)\n",
    "    "
   ]
  },
  {
   "cell_type": "code",
   "execution_count": 95,
   "metadata": {
    "ExecuteTime": {
     "end_time": "2021-05-06T19:03:50.857729Z",
     "start_time": "2021-05-06T19:03:50.758819Z"
    }
   },
   "outputs": [
    {
     "ename": "TypeError",
     "evalue": "init_system() missing 3 required positional arguments: 'txt_in', 'ds', and 'dt'",
     "output_type": "error",
     "traceback": [
      "\u001b[0;31m---------------------------------------------------------------------------\u001b[0m",
      "\u001b[0;31mTypeError\u001b[0m                                 Traceback (most recent call last)",
      "\u001b[0;32m<ipython-input-95-dff5a38d603f>\u001b[0m in \u001b[0;36m<module>\u001b[0;34m\u001b[0m\n\u001b[1;32m      1\u001b[0m \u001b[0mtxt_in\u001b[0m\u001b[0;34m=\u001b[0m\u001b[0mload_buffer\u001b[0m\u001b[0;34m(\u001b[0m\u001b[0mtxt_fn\u001b[0m\u001b[0;34m)\u001b[0m\u001b[0;34m\u001b[0m\u001b[0;34m\u001b[0m\u001b[0m\n\u001b[1;32m      2\u001b[0m \u001b[0;34m\u001b[0m\u001b[0m\n\u001b[0;32m----> 3\u001b[0;31m retval_lst=recursive_zoom_to_death(pid_pair_lst,txt_in,dt,V_threshold=-50.,atol=1e-2,\n\u001b[0m\u001b[1;32m      4\u001b[0m                             one_steps_per_frame=100,ds=5.)\n",
      "\u001b[0;32m<ipython-input-83-24a0fb47b049>\u001b[0m in \u001b[0;36mrecursive_zoom_to_death\u001b[0;34m(pid_pair_lst, txt_in, dt, V_threshold, atol, one_steps_per_frame, ds, **kwargs)\u001b[0m\n\u001b[1;32m      5\u001b[0m     \u001b[0mretval_lst\u001b[0m\u001b[0;34m=\u001b[0m\u001b[0;34m[\u001b[0m\u001b[0;34m]\u001b[0m\u001b[0;34m\u001b[0m\u001b[0;34m\u001b[0m\u001b[0m\n\u001b[1;32m      6\u001b[0m     \u001b[0;32mfor\u001b[0m \u001b[0mpid_pair\u001b[0m \u001b[0;32min\u001b[0m \u001b[0mpid_pair_lst\u001b[0m\u001b[0;34m:\u001b[0m\u001b[0;34m\u001b[0m\u001b[0;34m\u001b[0m\u001b[0m\n\u001b[0;32m----> 7\u001b[0;31m         \u001b[0mretval\u001b[0m\u001b[0;34m=\u001b[0m\u001b[0minit_system\u001b[0m\u001b[0;34m(\u001b[0m\u001b[0;34m**\u001b[0m\u001b[0mkwargs\u001b[0m\u001b[0;34m)\u001b[0m\u001b[0;34m\u001b[0m\u001b[0;34m\u001b[0m\u001b[0m\n\u001b[0m\u001b[1;32m      8\u001b[0m         txt_prev,t_prev,min_sigma_max=find_stopping_point(dt,pdict,txt_prev,t_prev,\n\u001b[1;32m      9\u001b[0m                                                           \u001b[0msave_every_n_frames\u001b[0m\u001b[0;34m=\u001b[0m\u001b[0mone_steps_per_frame\u001b[0m\u001b[0;34m,\u001b[0m\u001b[0;34m\u001b[0m\u001b[0;34m\u001b[0m\u001b[0m\n",
      "\u001b[0;31mTypeError\u001b[0m: init_system() missing 3 required positional arguments: 'txt_in', 'ds', and 'dt'"
     ]
    }
   ],
   "source": [
    "txt_in=load_buffer(txt_fn)\n",
    "\n",
    "retval_lst=recursive_zoom_to_death(pid_pair_lst,txt_in,dt,V_threshold=-50.,atol=1e-2,\n",
    "                            one_steps_per_frame=100,ds=5.)\n",
    "t_death,min_sigma_max"
   ]
  },
  {
   "cell_type": "code",
   "execution_count": 137,
   "metadata": {
    "ExecuteTime": {
     "end_time": "2021-05-06T19:59:04.475227Z",
     "start_time": "2021-05-06T19:59:04.429997Z"
    }
   },
   "outputs": [],
   "source": [
    "# # def find_starting_point(pdict,pid_pair,**kwargs):\n",
    "# #     #TODO: follow pdict back to the birth of this pid_pair.  Supposes pid_pair denotes a birth\n",
    "# #     #TODO(don't): modify find_stopping point\n",
    "# #     pass\n",
    "\n",
    "\n",
    "# def zoom_in(txt,pdict,dt,level1,level2,tfactor=0.1,**kwargs):\n",
    "#     '''\n",
    "#     Example Usage:\n",
    "#     txt_prev, pdict, comp_tips, one_step=zoom_in(txt_prev,pdict,dt,level1,level2,tfactor=0.1)\n",
    "#     '''\n",
    "#     # zooming in as needed, until a certain absolute tolerance is found in a zero minimum distance between tips is reached.  \n",
    "#     dt=tfactor*dt\n",
    "#     width,height=txt.shape[:2]\n",
    "#     comp_tips=get_comp_dict_topo_full_color(width=width,height=height,level1=level1,level2=level2)\n",
    "#     # get_one_step at this dt (Luo-Rudy model)\n",
    "#     __, arr39, one_step = get_one_step_explicit_synchronous_splitting(\n",
    "#         nb_dir,dt=dt,width=width,height=height,ds=ds,diffCoef=0.0005,Cm=1.0)\n",
    "    \n",
    "#     txt,pdict=zoom_system(txt,pdict)\n",
    "#     return txt, pdict, dt, comp_tips, one_step\n",
    "\n",
    "# def zoom_system(txt,pdict):\n",
    "#     txt=zoomin_txt(txt)\n",
    "#     pdict=pdict.zoom_to_double()\n",
    "#     return txt,pdict\n",
    "\n",
    "# # def zoom_system(system, dt, pdict):\n",
    "# #     zoom_in(txt,pdict,dt,level1,level2,tfactor=0.1)\n",
    "# #     for systm in system:\n",
    "# #         t_prev,pid_pair,txt_prev=systm\n",
    "# #         txt, pdict, comp_tips, one_step=zoom_in(txt,pdict,dt,level1=-50,level2=0.,tfactor=0.1)\n",
    "# #         #TODO: zoom_system (HINT: ctrl+F for zoom_ in lib)\n",
    "# #     system=txt, pdict, dt, comp_tips, one_step"
   ]
  },
  {
   "cell_type": "code",
   "execution_count": 135,
   "metadata": {
    "ExecuteTime": {
     "end_time": "2021-05-06T19:58:36.337237Z",
     "start_time": "2021-05-06T19:58:36.282388Z"
    }
   },
   "outputs": [
    {
     "ename": "NameError",
     "evalue": "name 'duration' is not defined",
     "output_type": "error",
     "traceback": [
      "\u001b[0;31m---------------------------------------------------------------------------\u001b[0m",
      "\u001b[0;31mNameError\u001b[0m                                 Traceback (most recent call last)",
      "\u001b[0;32m<ipython-input-135-5fd308033f79>\u001b[0m in \u001b[0;36m<module>\u001b[0;34m\u001b[0m\n\u001b[1;32m      1\u001b[0m \u001b[0;31m#TODO: use record_tips_return_txt in studying birth events\u001b[0m\u001b[0;34m\u001b[0m\u001b[0;34m\u001b[0m\u001b[0;34m\u001b[0m\u001b[0m\n\u001b[0;32m----> 2\u001b[0;31m \u001b[0mtxt\u001b[0m\u001b[0;34m=\u001b[0m\u001b[0mpdict\u001b[0m\u001b[0;34m.\u001b[0m\u001b[0mrecord_tips_return_txt\u001b[0m\u001b[0;34m(\u001b[0m\u001b[0mtxt\u001b[0m\u001b[0;34m,\u001b[0m\u001b[0mduration\u001b[0m\u001b[0;34m,\u001b[0m\u001b[0mone_step\u001b[0m\u001b[0;34m,\u001b[0m\u001b[0mcomp_tips\u001b[0m\u001b[0;34m,\u001b[0m\u001b[0mdt\u001b[0m\u001b[0;34m,\u001b[0m\u001b[0msave_every_n_frames\u001b[0m\u001b[0;34m=\u001b[0m\u001b[0;36m1\u001b[0m\u001b[0;34m)\u001b[0m\u001b[0;34m\u001b[0m\u001b[0;34m\u001b[0m\u001b[0m\n\u001b[0m",
      "\u001b[0;31mNameError\u001b[0m: name 'duration' is not defined"
     ]
    }
   ],
   "source": [
    "#TODO: use record_tips_return_txt in studying birth events \n",
    "duration=1\n",
    "txt=pdict.record_tips_return_txt(txt,duration,one_step,comp_tips,dt,save_every_n_frames=1)#,**kwargs)\n",
    "\n",
    "txt_prev, pdict, dt, comp_tips, one_step=zoom_in(txt_prev,pdict,dt,level1=V_threshold,level2=0.,tfactor=tfactor)"
   ]
  },
  {
   "cell_type": "code",
   "execution_count": null,
   "metadata": {},
   "outputs": [],
   "source": []
  }
 ],
 "metadata": {
  "kernelspec": {
   "display_name": "Python 3",
   "language": "python",
   "name": "python3"
  },
  "language_info": {
   "codemirror_mode": {
    "name": "ipython",
    "version": 3
   },
   "file_extension": ".py",
   "mimetype": "text/x-python",
   "name": "python",
   "nbconvert_exporter": "python",
   "pygments_lexer": "ipython3",
   "version": "3.8.7"
  },
  "varInspector": {
   "cols": {
    "lenName": 16,
    "lenType": 16,
    "lenVar": 40
   },
   "kernels_config": {
    "python": {
     "delete_cmd_postfix": "",
     "delete_cmd_prefix": "del ",
     "library": "var_list.py",
     "varRefreshCmd": "print(var_dic_list())"
    },
    "r": {
     "delete_cmd_postfix": ") ",
     "delete_cmd_prefix": "rm(",
     "library": "var_list.r",
     "varRefreshCmd": "cat(var_dic_list()) "
    }
   },
   "types_to_exclude": [
    "module",
    "function",
    "builtin_function_or_method",
    "instance",
    "_Feature"
   ],
   "window_display": false
  }
 },
 "nbformat": 4,
 "nbformat_minor": 4
}
