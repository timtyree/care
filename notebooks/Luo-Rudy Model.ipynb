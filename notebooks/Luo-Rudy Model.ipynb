{
 "cells": [
  {
   "cell_type": "markdown",
   "metadata": {},
   "source": [
    "# Tests for the model following Luo and Rudy\n",
    "Tim Tyree<br>\n",
    "start - 1.7.2021,\n",
    "end - 1.8.2021?"
   ]
  },
  {
   "cell_type": "code",
   "execution_count": 1,
   "metadata": {
    "ExecuteTime": {
     "end_time": "2021-01-14T09:23:08.376734Z",
     "start_time": "2021-01-14T09:23:06.274998Z"
    }
   },
   "outputs": [
    {
     "name": "stdout",
     "output_type": "stream",
     "text": [
      "Automatic calling is: Smart\n"
     ]
    }
   ],
   "source": [
    "from lib.my_initialization import *\n",
    "from lib.controller.controller_LR import get_one_step_explicit_synchronous_splitting\n",
    "from lib.model.LR_model import *\n",
    "from lib.utils.utils_traj import *\n",
    "from lib.routines.bdrates import *\n",
    "from lib.measure.utils_measure_tips_cpu import *\n",
    "from lib.utils.stack_txt_LR import *\n",
    "from lib.viewer import *\n",
    "import trackpy\n",
    "\n",
    "# from lib.my_initialization import *\n",
    "# from lib.model.LR_model import *\n",
    "# from lib.utils.utils_traj import *\n",
    "# from lib.routines.bdrates import *\n",
    "# from lib.viewer import *\n",
    "# import trackpy\n",
    "# from lib.controller import *\n",
    "# from lib.model.LR_model import *\n",
    "\n",
    "%autocall 1\n",
    "%load_ext autoreload\n",
    "%autoreload 2"
   ]
  },
  {
   "cell_type": "markdown",
   "metadata": {
    "ExecuteTime": {
     "end_time": "2021-01-09T02:53:12.705636Z",
     "start_time": "2021-01-09T02:53:12.240Z"
    },
    "heading_collapsed": true
   },
   "source": [
    "## TODO list"
   ]
  },
  {
   "cell_type": "markdown",
   "metadata": {
    "hidden": true
   },
   "source": [
    "__To Methods(initialization of LR model): comparing the fast/slow fields to those of the LR model__\n",
    "for the textures loaded from the minimal model (V,f,s).  \n",
    "- _the fast field:_ F-channel is high in the repolarized tissue and low in the polarized tissue\n",
    "- _the slow field:_ S-channel is never lower than ~0.67 anywhere\n",
    "\n",
    "looking at the 0D action potentials from the LR model, \n",
    "- $m$ looks like 1-F\n",
    "- $h$ looks like F\n",
    "- $j$ looks like F\n",
    "- $d$ looks like 1-F\n",
    "- $f$ looks like S\n",
    "- $w$ looks like 1-S (AKA x_var, or the x-field)"
   ]
  },
  {
   "cell_type": "code",
   "execution_count": 2,
   "metadata": {
    "ExecuteTime": {
     "end_time": "2021-01-14T03:12:50.707669Z",
     "start_time": "2021-01-14T03:12:50.685351Z"
    },
    "hidden": true
   },
   "outputs": [],
   "source": [
    "#TODO: compute Iion_values\n",
    "#TODO: plot IV curves of the LR model.\n",
    "#TODO: plot Iion versus various arguments\n",
    "#TODO: use IV curves of the LR model to make a lookup table\n",
    "#TODO: for lookup table, make an N-linear interpolation function.  Can N=1? or N=2 or 8?\n",
    "#TODO: measure the speedup between using simple implementation versus using a lookup table\n",
    "chnlno=8#Iion_values.shape[-1]\n",
    "argument_grid=None\n",
    "\n",
    "# TODO: Visualize intercellular calcium dynamics\n",
    "# TODO: Visualize I vs. V curves and verify they agree with Qu2000 or Luo1990\n",
    "#Hint: calcium uptake rate (dominated by activity of the sarcoplasmic reticulum)\n",
    "# \t\tdCa_i_dt=-10**-4*Isi+0.07*(10**-4-Ca_i)\n",
    "\n",
    "#TODO: implement a linear wave for making plots in methods\n",
    "#TODO: determine which gates are on/off for a linear action potential\n",
    "#TODO: plot I versus V for various gates on/off\n",
    "\n",
    "\n",
    "# - DONE: plot Iion versus various arguments\n",
    "# - DONE: estimate which ranges should be precomputed\n",
    "# - TODO: define lookup_Iion function that uses linear interpolation of nearest Iion_values.  Note that \n",
    "# - TODO: generate lookup table for Luo-Rudy Model\n",
    "# - TODO: check that result of comp_rate_of_change_at_pixel_LR yields timesteps correctly/reasonably.  if not, maybe x and y are flipped.\n",
    "\n",
    "# TODO(later): plot the Multivariable currents somehow.  Consider 2-3 values of each gating variable chosen at max/half/min voltage\n",
    "#Multivariable currents\n",
    "# #Fast sodium current\n",
    "# INa = GNa*m**3*h*j*(V-ENa)\n",
    "# Isi=Gsi*d*f*(V-Esi)\n",
    "# #Slow inward current\n",
    "# Esi=7.7-13.0287*np.log(Ca_i)#mV\n",
    "# Isi=Gsi*d*f*(V-Esi)\n",
    "\n",
    "# - TODO(later): plot range for Ca_i\n",
    "# - TODO(later): plot I/V curve for gate state in each phase of the apparent action potential\n",
    "\n",
    "#TODO(later): compute the laplacian of the four pixels called by the intersection algorithm\n",
    "#TODO(later): interpolate laplacian of voltage at spiral tip\n",
    "#TODO(later): cythonize ^this\n",
    "#TODO(later): compute time series of laplacian(voltage(location_of_spiral_tip))\n",
    "#TODO(later): compare ^this with nine point stencil\n",
    "#TODO(generalization of paper topic): write ^this up\n",
    "# On the Brownian particle properties of spiral tips resulting from spiral defect chaos applied to electrophysiological models\n"
   ]
  },
  {
   "cell_type": "markdown",
   "metadata": {
    "heading_collapsed": true
   },
   "source": [
    "# Simple local tests for given pixel"
   ]
  },
  {
   "cell_type": "code",
   "execution_count": null,
   "metadata": {
    "ExecuteTime": {
     "end_time": "2021-01-13T21:14:02.235935Z",
     "start_time": "2021-01-13T21:14:02.188398Z"
    },
    "hidden": true
   },
   "outputs": [],
   "source": [
    "#test scaling from mV to dimensionless voltage for plotting\n",
    "input_file_name=f\"{nb_dir}/Data/test_data/test_txt.npz\"\n",
    "txt=load_buffer_LR(input_file_name, Ca_i_initial = 2*10**-4, Vmax = 35., Vmin = -85.)\n",
    "txt_plt = get_voltage_field_scaled_and_shifted(txt, Vmin_new=0., Vmax_new=1., Vmin_old=-85., Vmax_old=35.)\n",
    "assert np.isclose(np.max(txt_plt),1.,atol=1e-1)\n",
    "assert np.isclose(np.min(txt_plt),0.,atol=1e-10)"
   ]
  },
  {
   "cell_type": "code",
   "execution_count": null,
   "metadata": {
    "ExecuteTime": {
     "end_time": "2021-01-13T21:14:02.388526Z",
     "start_time": "2021-01-13T21:14:02.267447Z"
    },
    "hidden": true
   },
   "outputs": [],
   "source": [
    "plt.imshow(txt_plt, cmap='gray')\n",
    "plt.axis('off')\n",
    "plt.show()"
   ]
  },
  {
   "cell_type": "code",
   "execution_count": null,
   "metadata": {
    "ExecuteTime": {
     "end_time": "2021-01-13T21:14:03.232806Z",
     "start_time": "2021-01-13T21:14:03.198578Z"
    },
    "hidden": true
   },
   "outputs": [],
   "source": [
    "# input_file_name=search_for_file()\n",
    "# print ( input_file_name )\n",
    "input_file_name=f\"{nb_dir}/Data/test_data/test_txt.npz\"\n",
    "inVmhjdfxc = load_buffer_LR(input_file_name)\n",
    "txt=inVmhjdfxc\n",
    "zero_txt = np.zeros_like(txt)\n",
    "width,height,chnlno = txt.shape\n",
    "print (f\"buffer dimensions are width, height, chnlno = { width,height,chnlno }.\") \n",
    "comp_ionic_currents = get_comp_ionic_currents(K_i=145.0,K_o=5.4,ENa=54.4,EK=-77.0,method='njit')\n",
    "\n",
    "comp_rate_of_change_at_pixel_LR=get_comp_rate_of_change_at_pixel_LR(ds = 0.015, width =200, height=200, \n",
    "Cm=1., diffCoef=0.001, Na_i = 18, Na_o = 140, K_i  = 145, K_o  = 5.4, Ca_o = 1.8,\n",
    "method='njit')"
   ]
  },
  {
   "cell_type": "code",
   "execution_count": null,
   "metadata": {
    "ExecuteTime": {
     "end_time": "2021-01-13T21:14:03.927948Z",
     "start_time": "2021-01-13T21:14:03.905013Z"
    },
    "hidden": true
   },
   "outputs": [],
   "source": [
    "from lib.model.LR_model import pbc"
   ]
  },
  {
   "cell_type": "code",
   "execution_count": null,
   "metadata": {
    "ExecuteTime": {
     "end_time": "2021-01-13T21:14:06.189190Z",
     "start_time": "2021-01-13T21:14:04.507080Z"
    },
    "hidden": true
   },
   "outputs": [],
   "source": [
    "#local tests\n",
    "x=5;y=7\n",
    "C = pbc(inVmhjdfxc, x, y)\n",
    "assert C.shape[0]==8\n",
    "V = C[0] #mV transmembrane voltage \n",
    "#gating variables\n",
    "m = C[1] #activation gate parameter (Na)\n",
    "h = C[2] #fast inactivation gate parameter (INa)\n",
    "j = C[3] #slow inactivation gate parameter (INa)\n",
    "d = C[4] #activation gate parameter (Isi)\n",
    "f = C[5] #inactivation gate parameter (Isi)\n",
    "x_var = C[6] #activation gate parameter (IK)\n",
    "Ca_i = C[7] # calcium concentration inside the cell \n",
    "#test comp_ionic_currents\n",
    "Iion, dCa_i_dt = comp_ionic_currents(V, m, h, j, d, f, x_var, Ca_i)\n",
    "assert Iion\n",
    "assert dCa_i_dt\n",
    "\n",
    "cddx=1.;cddy=1.#not actual values\n",
    "#test laplacian\n",
    "dVltdt=laplacian(inVmhjdfxc, x, y, cddx, cddy, V)\n",
    "assert dVltdt \n",
    "\n",
    "#test comp_rate_of_change_at_pixel_LR\n",
    "retval = comp_rate_of_change_at_pixel_LR(txt, x, y)\n",
    "assert retval.shape[0]==8"
   ]
  },
  {
   "cell_type": "code",
   "execution_count": null,
   "metadata": {
    "ExecuteTime": {
     "end_time": "2021-01-13T21:14:06.249683Z",
     "start_time": "2021-01-13T21:14:06.226446Z"
    },
    "hidden": true
   },
   "outputs": [],
   "source": [
    "#percent of nan values in Vfield\n",
    "Vfield=txt[...,0]\n",
    "print(f\"percent of nan values in Vfield is {100*Vfield[np.isnan(Vfield)].size/Vfield.size}%.\")"
   ]
  },
  {
   "cell_type": "code",
   "execution_count": null,
   "metadata": {
    "ExecuteTime": {
     "end_time": "2021-01-13T21:14:07.099957Z",
     "start_time": "2021-01-13T21:14:07.038956Z"
    },
    "hidden": true
   },
   "outputs": [],
   "source": [
    "##################################################\n",
    "# Test comp_ionic_currents\n",
    "##################################################\n",
    "input_file_name=f\"{nb_dir}/Data/test_data/test_txt.npz\"\n",
    "inVmhjdfxc = load_buffer_LR(input_file_name)\n",
    "txt = inVmhjdfxc\n",
    "comp_ionic_currents = get_comp_ionic_currents(K_i=145.0,K_o=5.4,ENa=54.4,EK=-77.0,method='njit')"
   ]
  },
  {
   "cell_type": "code",
   "execution_count": null,
   "metadata": {
    "ExecuteTime": {
     "end_time": "2021-01-13T21:14:08.042294Z",
     "start_time": "2021-01-13T21:14:07.715701Z"
    },
    "hidden": true
   },
   "outputs": [],
   "source": [
    "\n",
    "x=1;y=2\n",
    "C = pbc(inVmhjdfxc, x, y)\n",
    "V = C[0] #mV transmembrane voltage \n",
    "#gating variables\n",
    "m = C[1] #activation gate parameter (Na)\n",
    "h = C[2] #fast inactivation gate parameter (INa)\n",
    "j = C[3] #slow inactivation gate parameter (INa)\n",
    "d = C[4] #activation gate parameter (Isi)\n",
    "f = C[5] #inactivation gate parameter (Isi)\n",
    "x_var = C[6] #activation gate parameter (IK)\n",
    "Ca_i = C[7] # calcium concentration inside the cell \n",
    "# Ca_i = pbc(inCa_i, x, y)[0]\n",
    "Iion, dCa_i_dt = comp_ionic_currents(V, m, h, j, d, f, x_var, Ca_i)"
   ]
  },
  {
   "cell_type": "code",
   "execution_count": null,
   "metadata": {
    "ExecuteTime": {
     "end_time": "2021-01-13T21:14:09.462330Z",
     "start_time": "2021-01-13T21:14:09.436992Z"
    },
    "hidden": true
   },
   "outputs": [],
   "source": [
    "Iion"
   ]
  },
  {
   "cell_type": "code",
   "execution_count": null,
   "metadata": {
    "ExecuteTime": {
     "end_time": "2021-01-13T21:14:09.830909Z",
     "start_time": "2021-01-13T21:14:09.808711Z"
    },
    "hidden": true
   },
   "outputs": [],
   "source": [
    "dCa_i_dt"
   ]
  },
  {
   "cell_type": "code",
   "execution_count": null,
   "metadata": {
    "ExecuteTime": {
     "end_time": "2021-01-13T21:14:12.802675Z",
     "start_time": "2021-01-13T21:14:12.771470Z"
    },
    "hidden": true
   },
   "outputs": [],
   "source": [
    "m, h, j, d, f, x_var"
   ]
  },
  {
   "cell_type": "markdown",
   "metadata": {
    "ExecuteTime": {
     "end_time": "2021-01-08T01:39:22.214575Z",
     "start_time": "2021-01-08T01:39:22.193505Z"
    },
    "heading_collapsed": true
   },
   "source": [
    "# Plot comp_gating_constants versus V"
   ]
  },
  {
   "cell_type": "code",
   "execution_count": null,
   "metadata": {
    "ExecuteTime": {
     "end_time": "2021-01-13T21:14:14.905163Z",
     "start_time": "2021-01-13T21:14:14.462137Z"
    },
    "hidden": true
   },
   "outputs": [],
   "source": [
    "#DONE: Visualize I vs. V curves and verify they agree with Qu2000 or Luo1990#DONE: plot comp_gating_constants versus V\n",
    "#DONE: plot get_comp_ionic_currents(K_i=145.0,K_o=5.4,ENa=54.4,EK=-77.0,method='njit',**kwargs)\n",
    "\n",
    "V = 10.\n",
    "comp_gating_constants=get_comp_gating_constants()\n",
    "retval=comp_gating_constants(V)\n",
    "retval"
   ]
  },
  {
   "cell_type": "code",
   "execution_count": null,
   "metadata": {
    "ExecuteTime": {
     "end_time": "2021-01-13T20:38:05.237534Z",
     "start_time": "2021-01-13T20:38:05.214941Z"
    },
    "hidden": true
   },
   "outputs": [],
   "source": [
    "#test comp_gating_constants\n",
    "retval=comp_gating_constants(V)\n",
    "tau_m, tau_h, tau_j, tau_d, tau_f, tau_x, m_infty, h_infty, j_infty, d_infty, f_infty, x_infty=retval\n",
    "assert retval.shape[0]==12"
   ]
  },
  {
   "cell_type": "code",
   "execution_count": null,
   "metadata": {
    "ExecuteTime": {
     "end_time": "2021-01-13T20:35:43.632076Z",
     "start_time": "2021-01-13T20:35:43.578987Z"
    },
    "hidden": true
   },
   "outputs": [],
   "source": [
    "h = 0.5\n",
    "dhdt = comp_transient_gating_variable(h, tau_h, h_infty)\n",
    "tau_h"
   ]
  },
  {
   "cell_type": "code",
   "execution_count": null,
   "metadata": {
    "ExecuteTime": {
     "end_time": "2021-01-13T20:38:10.067896Z",
     "start_time": "2021-01-13T20:38:10.044452Z"
    },
    "hidden": true
   },
   "outputs": [],
   "source": [
    "tau_m, tau_h, tau_j, tau_d, tau_f, tau_x \n",
    "# m_infty, h_infty, j_infty, d_infty, f_infty, x_infty"
   ]
  },
  {
   "cell_type": "code",
   "execution_count": null,
   "metadata": {
    "ExecuteTime": {
     "end_time": "2021-01-13T20:38:33.725610Z",
     "start_time": "2021-01-13T20:38:33.699863Z"
    },
    "hidden": true
   },
   "outputs": [],
   "source": [
    "#compute the gating variables versus voltage\n",
    "Vmin=-85.\n",
    "Vmax=35.#35.\n",
    "num_values=100\n",
    "V_values = np.linspace(Vmin,Vmax,num_values)\n",
    "x_values = V_values\n",
    "retval_lst = []\n",
    "for V in V_values:\n",
    "    retval=comp_gating_constants(V)\n",
    "    retval_lst.append(retval)\n",
    "retval_values=np.array(retval_lst)\n",
    "#rate constants\n",
    "tau_m_values=retval_values[:,0]\n",
    "tau_h_values=retval_values[:,1]\n",
    "tau_j_values=retval_values[:,2]\n",
    "tau_d_values=retval_values[:,3]\n",
    "tau_f_values=retval_values[:,4]\n",
    "tau_x_values=retval_values[:,5]\n",
    "#equilibrium constants\n",
    "m_infty_values=retval_values[:,6]\n",
    "h_infty_values=retval_values[:,7]\n",
    "j_infty_values=retval_values[:,8]\n",
    "d_infty_values=retval_values[:,9]\n",
    "f_infty_values=retval_values[:,10]\n",
    "x_infty_values=retval_values[:,11]"
   ]
  },
  {
   "cell_type": "code",
   "execution_count": null,
   "metadata": {
    "hidden": true
   },
   "outputs": [],
   "source": []
  },
  {
   "cell_type": "code",
   "execution_count": null,
   "metadata": {
    "ExecuteTime": {
     "end_time": "2021-01-13T20:40:12.785838Z",
     "start_time": "2021-01-13T20:40:11.279651Z"
    },
    "hidden": true
   },
   "outputs": [],
   "source": [
    "#plot channel rates versus V\n",
    "fontsize=14\n",
    "save=True\n",
    "plt.subplots(figsize=(6,5))\n",
    "plt.plot(x_values,tau_m_values, label=r'$\\tau_m$  fast activation (Na$^+$)')\n",
    "plt.plot(x_values,tau_h_values, label=r'$\\tau_h$  slow inactivation (Na$^+$)')\n",
    "plt.plot(x_values,tau_j_values, label=r'$\\tau_j$  fast inactivation (Na$^+$)')\n",
    "plt.plot(x_values,tau_d_values, label=r'$\\tau_d$  slow activation (Ca$^{2+}$)')\n",
    "plt.plot(x_values,tau_f_values, label=r'$\\tau_f$  fast inactivation (Ca$^{2+}$)')\n",
    "plt.plot(x_values,tau_x_values, label=r'$\\tau_x$  fast activation (K$^+$)')\n",
    "plt.legend(ncol=2, fontsize=fontsize-4,loc='upper center',bbox_to_anchor=(0.5, -0.17),fancybox=True, shadow=True)\n",
    "plt.yscale('log')\n",
    "plt.xlim([-90,40])\n",
    "plt.tick_params(labelsize=fontsize)\n",
    "plt.xlabel('transmembrane voltage (mV)', fontsize=fontsize)\n",
    "plt.ylabel('channel rates (1/ms)', fontsize=fontsize)\n",
    "if not save:\n",
    "    plt.show()\n",
    "else:\n",
    "    os.chdir(os.path.join(nb_dir,'Figures/methods'))\n",
    "    savefig_fn='LR_model_rates.png'\n",
    "    plt.tight_layout()\n",
    "    plt.savefig(savefig_fn,dpi=300)"
   ]
  },
  {
   "cell_type": "code",
   "execution_count": null,
   "metadata": {
    "ExecuteTime": {
     "end_time": "2021-01-13T20:40:25.286692Z",
     "start_time": "2021-01-13T20:40:24.317972Z"
    },
    "hidden": true,
    "scrolled": true
   },
   "outputs": [],
   "source": [
    "#plot equilibrium values versus V\n",
    "fontsize=14\n",
    "save=True\n",
    "plt.subplots(figsize=(6,5))\n",
    "plt.plot(x_values,m_infty_values, label=r'$m_\\infty$  fast activation (Na$^+$)')\n",
    "plt.plot(x_values,h_infty_values, label=r'$h_\\infty$  slow inactivation (Na$^+$)')\n",
    "plt.plot(x_values,j_infty_values, label=r'$j_\\infty$  fast inactivation (Na$^+$)')\n",
    "plt.plot(x_values,d_infty_values, label=r'$d_\\infty$  slow activation (Ca$^{2+}$)')\n",
    "plt.plot(x_values,f_infty_values, label=r'$f_\\infty$  fast inactivation (Ca$^{2+}$)')\n",
    "plt.plot(x_values,x_infty_values, label=r'$x_\\infty$  fast activation (K$^+$)')\n",
    "plt.legend(ncol=2, fontsize=fontsize-4,loc='upper center',bbox_to_anchor=(0.5, -0.17),fancybox=True, shadow=True)\n",
    "# plt.yscale('log')\n",
    "plt.xlim([-90,40])\n",
    "plt.tick_params(labelsize=fontsize)\n",
    "plt.xlabel('transmembrane voltage (mV)', fontsize=fontsize)\n",
    "plt.ylabel('equilibrium value', fontsize=fontsize)\n",
    "if not save:\n",
    "    plt.show()\n",
    "else:\n",
    "    os.chdir(os.path.join(nb_dir,'Figures/methods'))\n",
    "    savefig_fn='LR_model_equilibrium_values.png'\n",
    "    plt.tight_layout()\n",
    "    plt.savefig(savefig_fn,dpi=300)"
   ]
  },
  {
   "cell_type": "code",
   "execution_count": null,
   "metadata": {
    "ExecuteTime": {
     "end_time": "2021-01-13T20:41:21.979716Z",
     "start_time": "2021-01-13T20:41:21.957945Z"
    },
    "hidden": true
   },
   "outputs": [],
   "source": [
    "\n"
   ]
  },
  {
   "cell_type": "markdown",
   "metadata": {
    "hidden": true
   },
   "source": [
    "\n"
   ]
  },
  {
   "cell_type": "code",
   "execution_count": null,
   "metadata": {
    "ExecuteTime": {
     "end_time": "2021-01-09T04:16:16.808461Z",
     "start_time": "2021-01-09T04:16:16.785487Z"
    },
    "hidden": true
   },
   "outputs": [],
   "source": []
  },
  {
   "cell_type": "markdown",
   "metadata": {
    "heading_collapsed": true
   },
   "source": [
    "# Plot simple variable current sources"
   ]
  },
  {
   "cell_type": "markdown",
   "metadata": {
    "hidden": true
   },
   "source": [
    "_to Methods on the introduction of \\section_{ __Electrophysiological model following Luo and Rudy__ }\n",
    "\n",
    "The fast potassium current, $I_{K_f}$ has previously been referred to as the time-dependent potassium current and the slow potassium current, $I_{K_s}$has previously been referred to as the plateau potassium current CITE Luo1990.pdf."
   ]
  },
  {
   "cell_type": "markdown",
   "metadata": {
    "hidden": true
   },
   "source": [
    "The change has been made to name the dynamical variable $w\\in[0,1]$ instead of $x$ to avoid confusion with the spatial coordinate, $x$."
   ]
  },
  {
   "cell_type": "code",
   "execution_count": null,
   "metadata": {
    "ExecuteTime": {
     "end_time": "2021-01-12T01:01:32.930889Z",
     "start_time": "2021-01-12T01:01:32.903493Z"
    },
    "hidden": true
   },
   "outputs": [],
   "source": [
    "#maximum conductances\n",
    "GNa = 16.     #mS/cm^2 from Qu2000.pdf #GNa=23 in Luo1990.pdf\n",
    "GK1 = 0.6047  #mS/cm^2 from Qu2000.pdf\n",
    "Gsi = 0.052   #mS/cm^2 spiral wave breakup phase from Qu2000.pdf\n",
    "GK  = 0.423   #mS/cm^2 #from Qu2000.pdf\n",
    "\n",
    "#reversal potentials\n",
    "EK1 = -87.94\n",
    "EKp = EK1\n",
    "Eb = -59.87 #mV\n",
    "EK=-77.0\n",
    "\n",
    "#compute the gating variables versus voltage\n",
    "Vmin=-85.\n",
    "Vmax=35.\n",
    "num_values=50\n",
    "V_values = np.linspace(Vmin,Vmax,num_values)"
   ]
  },
  {
   "cell_type": "code",
   "execution_count": null,
   "metadata": {
    "ExecuteTime": {
     "end_time": "2021-01-12T01:01:33.697732Z",
     "start_time": "2021-01-12T01:01:33.663897Z"
    },
    "hidden": true
   },
   "outputs": [],
   "source": [
    "#compute Single variable currents versus voltage\n",
    "IKp_lst=[]; Ib_lst=[]; IK1_lst=[]\n",
    "for V in V_values:\n",
    "    #Slow potassium current\n",
    "    Kp=1.0/(1.0+np.exp((7.488-V)/5.98))\n",
    "    IKp=0.0183*Kp*(V-EKp)\n",
    "\n",
    "    #Fast potassium parameters\n",
    "    aK1=1.02/(1.0+np.exp(0.2385*(V-EK1-59.215)))\n",
    "    bK1=(0.49124*np.exp(0.08032*(V-EK1-5.476)))+np.exp(0.06175*(V-EK1-594.31))/(1.0+np.exp(-0.5143*(V-EK1+4.753)))\n",
    "    K1infty = aK1/(aK1 + bK1)\n",
    "    #fast potassium current (A)\n",
    "    IK1=GK1*K1infty*(V-EK1)\n",
    "\n",
    "    #Background Current\n",
    "    Ib=0.03921*(V+59.87)\n",
    "    \n",
    "    IK1_lst.append(IK1)\n",
    "    IKp_lst.append(IKp)\n",
    "    Ib_lst.append(Ib)\n",
    "IKf_values = np.array(IK1_lst)\n",
    "IKs_values = np.array(IKp_lst)\n",
    "Ib_values = np.array(Ib_lst)"
   ]
  },
  {
   "cell_type": "code",
   "execution_count": null,
   "metadata": {
    "ExecuteTime": {
     "end_time": "2021-01-12T01:01:34.322173Z",
     "start_time": "2021-01-12T01:01:34.299500Z"
    },
    "hidden": true
   },
   "outputs": [],
   "source": [
    "#instead of the 3D plots, use x=0,0.5,1 for a standard plt.plot\n",
    "IKa_lst = [];IKb_lst = [];IKc_lst = [];\n",
    "xa=0.;xb=0.5;xc=1.0;\n",
    "for V in V_values:\n",
    "    #fast potassium current (B)\n",
    "    if V>-100.0:#mV\n",
    "        x1=2.837*(np.exp(0.04*(V+77.0))-1.0)/(V+77.0)*np.exp(0.04*(V+35.0))\n",
    "    else:\n",
    "        x1=1.0\n",
    "    IK=GK*xa*x1*(V-EK)\n",
    "    IKa_lst.append(IK)\n",
    "    IK=GK*xb*x1*(V-EK)\n",
    "    IKb_lst.append(IK)\n",
    "    IK=GK*xc*x1*(V-EK)\n",
    "    IKc_lst.append(IK)\n",
    "IKfa_values = np.array(IKa_lst)\n",
    "IKfb_values = np.array(IKb_lst)\n",
    "IKfc_values = np.array(IKc_lst)"
   ]
  },
  {
   "cell_type": "code",
   "execution_count": null,
   "metadata": {
    "ExecuteTime": {
     "end_time": "2021-01-12T01:01:36.216935Z",
     "start_time": "2021-01-12T01:01:34.935758Z"
    },
    "hidden": true,
    "scrolled": true
   },
   "outputs": [],
   "source": [
    "#plot simple currents versus V\n",
    "fontsize=16\n",
    "save=True\n",
    "plt.subplots(figsize=(7.5,5))\n",
    "plt.plot(V_values,IKfa_values,alpha=0.7,label=r'$I_{K_f}(x=0)$')\n",
    "plt.plot(V_values,IKfb_values,alpha=0.7,label=r'$I_{K_f}(x=1/2)$')\n",
    "plt.plot(V_values,IKfc_values,alpha=0.7,label=r'$I_{K_f}(x=1)$')\n",
    "plt.plot(V_values,IKf_values,alpha=0.7,label=r'${I}^*_{K_f}}$')\n",
    "plt.plot(V_values,IKs_values,alpha=0.7,label=r'$I_{K_s}$')\n",
    "plt.plot(V_values,Ib_values,alpha=0.7,label=r'$I_{b}=I_{backgnd}$')\n",
    "plt.legend(ncol=1, fontsize=fontsize, bbox_to_anchor=(.9,.87), fancybox=True, shadow=True)\n",
    "plt.yscale('log')\n",
    "plt.tick_params(labelsize=fontsize)\n",
    "plt.xlabel(r'transmembrane voltage (mV)', fontsize=fontsize)\n",
    "plt.tight_layout()\n",
    "plt.ylabel('electric current ($\\mu$A/cm$^2$)', fontsize=fontsize)\n",
    "if not save:\n",
    "    plt.show()\n",
    "else:\n",
    "    os.chdir(os.path.join(nb_dir,'Figures/methods'))\n",
    "    savefig_fn='LR_model_simple_currents.png'\n",
    "    plt.tight_layout()\n",
    "    plt.savefig(savefig_fn,dpi=300)"
   ]
  },
  {
   "cell_type": "markdown",
   "metadata": {
    "ExecuteTime": {
     "end_time": "2021-01-09T00:14:30.008593Z",
     "start_time": "2021-01-09T00:14:29.976680Z"
    },
    "hidden": true
   },
   "source": [
    "## TODO(later): Plot I/V curves y=0,0.5,1. for y in {m,h,j,d,f}"
   ]
  },
  {
   "cell_type": "markdown",
   "metadata": {},
   "source": [
    "# Action potentials from the LR model in 0D"
   ]
  },
  {
   "cell_type": "markdown",
   "metadata": {
    "ExecuteTime": {
     "end_time": "2021-01-09T00:30:05.041279Z",
     "start_time": "2021-01-09T00:30:05.009871Z"
    }
   },
   "source": [
    "## Simulation of one action potential in 0D\n",
    "using $\\frac{dV}{dt}=-I_{ion}/C_m$ to advance $V(t=0)=V_{activ.}+\\delta V$,\n"
   ]
  },
  {
   "cell_type": "code",
   "execution_count": null,
   "metadata": {
    "ExecuteTime": {
     "end_time": "2021-01-13T20:58:37.594892Z",
     "start_time": "2021-01-13T20:58:37.571814Z"
    }
   },
   "outputs": [],
   "source": [
    "#initialize integration\n",
    "# Cm=1. # µF/cm^2 membrane capacitance determined by gap junctions between myocardial cells\n",
    "\n",
    "# initialize V et alli\n",
    "#TODO: initialize V, m, h, j, d, f, x_var, Ca_i at the Q wave of the PQRST complex\n",
    "# print ( V, m, h, j, d, f, x_var, Ca_i )"
   ]
  },
  {
   "cell_type": "code",
   "execution_count": null,
   "metadata": {
    "ExecuteTime": {
     "end_time": "2021-01-13T20:59:13.524557Z",
     "start_time": "2021-01-13T20:58:38.831640Z"
    }
   },
   "outputs": [],
   "source": [
    "tf = 1000#5000#1000\n",
    "dt=0.001 #ms\n",
    "# V=-50.#-35.#-3.7#0.#-40. #mV\n",
    "Cm=1. # µF/cm^2 membrane capacitance determined by gap junctions between myocardial cells\n",
    "V, m, h, j, d, f, x_var, Ca_i=(-30.0,\n",
    " 1.,\n",
    " 1.,\n",
    " 1.,\n",
    " 0.,\n",
    " 0.,\n",
    " 0.,\n",
    " 0.0002)\n",
    "\n",
    "comp_gating_constants=get_comp_gating_constants()\n",
    "\n",
    "K_i=145.0;K_o=5.4;ENa=54.4;EK=-77.0\n",
    "num_time_steps=int(tf/dt)\n",
    "t_values=np.array([j*dt for j in range(num_time_steps)])\n",
    "#forward euler integrate V to time t, saving values\n",
    "V_lst = [];m_lst=[];h_lst=[];j_lst=[];d_lst=[];f_lst=[];x_var_lst=[];Ca_i_lst=[]\n",
    "IK_lst=[];INa_lst=[];ICa_lst=[];\n",
    "for t in t_values:\n",
    "#     Iion, dCa_i_dt = comp_ionic_currents(V, m, h, j, d, f, x_var, Ca_i)\n",
    "    #update the gating vars\n",
    "    retval=comp_gating_constants(V)\n",
    "    tau_m, tau_h, tau_j, tau_d, tau_f, tau_x, m_infty, h_infty, j_infty, d_infty, f_infty, x_infty=retval\n",
    "    dmdt = comp_transient_gating_variable(m, tau_m, m_infty)\n",
    "    dhdt = comp_transient_gating_variable(h, tau_h, h_infty)\n",
    "    djdt = comp_transient_gating_variable(j, tau_j, j_infty)\n",
    "    dddt = comp_transient_gating_variable(d, tau_d, d_infty)\n",
    "    dfdt = comp_transient_gating_variable(f, tau_f, f_infty)\n",
    "    dxdt = comp_transient_gating_variable(x_var, tau_x, x_infty)\n",
    "    \n",
    "    #for plotting, compute the insides of comp_ionic_currents\n",
    "    #maximum conductances\n",
    "    GNa = 16.     #mS/cm^2 from Qu2000.pdf #GNa=23 in Luo1990.pdf\n",
    "    GK1 = 0.6047  #mS/cm^2 from Qu2000.pdf\n",
    "    Gsi = 0.052   #mS/cm^2 spiral wave breakup phase from Qu2000.pdf\n",
    "    GK  = 0.423   #mS/cm^2 #from Qu2000.pdf\n",
    "    #Gsi = 0.038  #mS/cm^2  chaotic meander phase from Qu2000.pdf\n",
    "    #Gsi = 0.     #mS/cm^2 quasiperiodic phase from Qu2000.pdf\n",
    "    #reversal potentials\n",
    "    EK1 = -87.94\n",
    "    EKp = EK1\n",
    "    Eb = -59.87 #mV\n",
    "    #Fast sodium current\n",
    "    INa = GNa*m**3*h*j*(V-ENa)\n",
    "    #Slow inward current\n",
    "    Esi=7.7-13.0287*np.log(Ca_i)#mV\n",
    "    Isi=Gsi*d*f*(V-Esi)\n",
    "    #calcium uptake rate (dominated by activity of the sarcoplasmic reticulum)\n",
    "    dCa_i_dt=-10**-4*Isi+0.07*(10**-4-Ca_i)\n",
    "    #Time-dependent potassium current\n",
    "    if V>-100:#mV\n",
    "        x1=2.837*(np.exp(0.04*(V+77.0))-1.0)/(V+77.0)*np.exp(0.04*(V+35.0))\n",
    "    else:\n",
    "        x1=1.0\n",
    "    IK=GK*x_var*x1*(V-EK)\n",
    "    #Time-independent potassium parameters\n",
    "    aK1=1.02/(1.0+np.exp(0.2385*(V-EK1-59.215)))\n",
    "    bK1=(0.49124*np.exp(0.08032*(V-EK1-5.476)))+np.exp(0.06175*(V-EK1-594.31))/(1.0+np.exp(-0.5143*(V-EK1+4.753)))\n",
    "    K1infty = aK1/(aK1 + bK1)\n",
    "    #fast potassium current\n",
    "    IK1=GK1*K1infty*(V-EK1)\n",
    "    #Plateau potassium current\n",
    "    Kp=1.0/(1.0+np.exp((7.488-V)/5.98))\n",
    "    IKp=0.0183*Kp*(V-EKp)\n",
    "    #Background Current\n",
    "    Ib=0.03921*(V+59.87)\n",
    "    #Total time-independent potassium current\n",
    "    IK1T=IK1+IKp+Ib\n",
    "    IK_lst.append(IK1T+IK);ICa_lst.append(Isi);INa_lst.append(INa)\n",
    "    \n",
    "    Iion = IK1T+INa+Isi+IK\n",
    "    dVdt=-Iion/Cm\n",
    "    V += dt*dVdt\n",
    "    \n",
    "    \n",
    "    m+=dt*dmdt\n",
    "    h+=dt*dhdt\n",
    "    j+=dt*djdt\n",
    "    d+=dt*dddt\n",
    "    f+=dt*dfdt\n",
    "    x_var+=dt*dxdt\n",
    "    Ca_i+=dt*dCa_i_dt\n",
    "    V_lst.append(V);m_lst.append(m);h_lst.append(h);j_lst.append(j);d_lst.append(d);f_lst.append(f);x_var_lst.append(x_var);Ca_i_lst.append(Ca_i)\n",
    "V_values=np.array(V_lst)\n",
    "#gating values\n",
    "m_values=np.array(m_lst)\n",
    "h_values=np.array(h_lst)\n",
    "j_values=np.array(j_lst)\n",
    "d_values=np.array(d_lst)\n",
    "f_values=np.array(f_lst)\n",
    "x_var_values=np.array(x_var_lst)\n",
    "Ca_i_values=np.array(Ca_i_lst)\n",
    "#current values\n",
    "IK_values=np.array(IK_lst)\n",
    "ICa_values=np.array(ICa_lst)\n",
    "INa_values=np.array(INa_lst)\n",
    "\n",
    "beep(1)"
   ]
  },
  {
   "cell_type": "markdown",
   "metadata": {
    "ExecuteTime": {
     "end_time": "2021-01-09T03:10:39.346033Z",
     "start_time": "2021-01-09T03:10:39.273928Z"
    }
   },
   "source": [
    "### plot action potential "
   ]
  },
  {
   "cell_type": "code",
   "execution_count": null,
   "metadata": {
    "ExecuteTime": {
     "end_time": "2021-01-13T21:00:53.508772Z",
     "start_time": "2021-01-13T21:00:52.876066Z"
    }
   },
   "outputs": [],
   "source": [
    "#voltage\n",
    "fontsize=16\n",
    "save=True\n",
    "\n",
    "plt.subplots(figsize=(5.5,5))\n",
    "plt.plot(t_values,V_values)\n",
    "# plt.legend(ncol=1, fontsize=fontsize, bbox_to_anchor=(.9,.87), fancybox=True, shadow=True)\n",
    "# plt.yscale('log')\n",
    "plt.tick_params(labelsize=fontsize)\n",
    "plt.xlabel(r't (ms)', fontsize=fontsize)\n",
    "plt.tight_layout()\n",
    "plt.ylabel('transmembrane voltage (mV)', fontsize=fontsize)\n",
    "plt.xlim([-10,200])\n",
    "if not save:\n",
    "    plt.show()\n",
    "else:\n",
    "    os.chdir(os.path.join(nb_dir,'Figures/methods'))\n",
    "    savefig_fn='LR_model_voltage.png'\n",
    "    plt.tight_layout()\n",
    "    plt.savefig(savefig_fn,dpi=300)"
   ]
  },
  {
   "cell_type": "code",
   "execution_count": null,
   "metadata": {
    "ExecuteTime": {
     "end_time": "2021-01-13T21:02:33.462576Z",
     "start_time": "2021-01-13T21:02:32.206597Z"
    }
   },
   "outputs": [],
   "source": [
    "#calcium\n",
    "fontsize=16\n",
    "save=True\n",
    "plt.subplots(figsize=(5.5,5))\n",
    "plt.plot(t_values,Ca_i_values*10**+4)\n",
    "# plt.legend(ncol=1, fontsize=fontsize, bbox_to_anchor=(.9,.87), fancybox=True, shadow=True)\n",
    "# plt.yscale('log')\n",
    "plt.xlim([-10,200])\n",
    "plt.tick_params(labelsize=fontsize)\n",
    "plt.xlabel(r't (ms)', fontsize=fontsize)\n",
    "plt.tight_layout()\n",
    "plt.ylabel(r'[Ca$^{2+}]_{inside}$ ($10^{-4}$ mM)', fontsize=fontsize)\n",
    "if not save:\n",
    "    plt.show()\n",
    "else:\n",
    "    os.chdir(os.path.join(nb_dir,'Figures/methods'))\n",
    "    plt.tight_layout()\n",
    "    savefig_fn='LR_model_calcium.png'\n",
    "    plt.savefig(savefig_fn,dpi=300)"
   ]
  },
  {
   "cell_type": "code",
   "execution_count": null,
   "metadata": {
    "ExecuteTime": {
     "end_time": "2021-01-13T21:04:15.408374Z",
     "start_time": "2021-01-13T21:04:12.543342Z"
    }
   },
   "outputs": [],
   "source": [
    "#plot current versus t\n",
    "fontsize=16\n",
    "save=True\n",
    "plt.subplots(figsize=(5.5,5))\n",
    "plt.plot(t_values,-INa_values/10**3,label=r'$-I_{Na}/10^3$')\n",
    "plt.plot(t_values,IK_values,label=r'$I_{K}$')\n",
    "plt.plot(t_values,-ICa_values,label=r'$-I_{Ca}$')\n",
    "plt.xlim([-10,200])\n",
    "plt.legend(ncol=1, fontsize=fontsize, bbox_to_anchor=(.9,.87), fancybox=True, shadow=True)\n",
    "# plt.yscale('log')\n",
    "plt.tick_params(labelsize=fontsize)\n",
    "plt.xlabel(r't (ms)', fontsize=fontsize)\n",
    "plt.tight_layout()\n",
    "plt.ylabel('transmembrane current ($\\mu$A/cm$^2$)', fontsize=fontsize)\n",
    "if not save:\n",
    "    plt.show()\n",
    "else:\n",
    "    os.chdir(os.path.join(nb_dir,'Figures/methods'))\n",
    "    savefig_fn='LR_AP_current.png'\n",
    "    plt.tight_layout()\n",
    "    plt.savefig(savefig_fn,dpi=300)"
   ]
  },
  {
   "cell_type": "code",
   "execution_count": null,
   "metadata": {
    "ExecuteTime": {
     "end_time": "2021-01-13T21:05:54.694157Z",
     "start_time": "2021-01-13T21:05:53.540688Z"
    }
   },
   "outputs": [],
   "source": [
    "#plot gating variables versus t\n",
    "fontsize=16\n",
    "save=True\n",
    "plt.subplots(figsize=(5.5,5))\n",
    "plt.plot(t_values,m_values,label='m')\n",
    "plt.plot(t_values,h_values,label='h')\n",
    "plt.plot(t_values,j_values,label='j')\n",
    "plt.plot(t_values,d_values,label='d')\n",
    "plt.plot(t_values,f_values,label='f')\n",
    "plt.plot(t_values,x_var_values,label='w')\n",
    "plt.legend(ncol=1, fontsize=fontsize,loc='right', bbox_to_anchor=(.8,.47), fancybox=True, shadow=True)\n",
    "# plt.yscale('log')\n",
    "plt.tick_params(labelsize=fontsize)\n",
    "plt.xlabel(r't (ms)', fontsize=fontsize)\n",
    "plt.tight_layout()\n",
    "plt.ylabel('gating parameter value', fontsize=fontsize)\n",
    "plt.xlim([-10,200])\n",
    "if not save:\n",
    "    plt.show()\n",
    "else:\n",
    "    os.chdir(os.path.join(nb_dir,'Figures/methods'))\n",
    "    savefig_fn='LR_AP_gating_params.png'\n",
    "    plt.tight_layout()\n",
    "    plt.savefig(savefig_fn,dpi=300)"
   ]
  },
  {
   "cell_type": "code",
   "execution_count": null,
   "metadata": {
    "ExecuteTime": {
     "end_time": "2021-01-13T21:07:33.619890Z",
     "start_time": "2021-01-13T21:07:33.597064Z"
    }
   },
   "outputs": [],
   "source": [
    "# plt.ylabel('channel rates (1/ms)', fontsize=fontsize)"
   ]
  },
  {
   "cell_type": "code",
   "execution_count": null,
   "metadata": {
    "ExecuteTime": {
     "end_time": "2021-01-13T21:09:13.888130Z",
     "start_time": "2021-01-13T21:09:13.443034Z"
    }
   },
   "outputs": [],
   "source": [
    "beep(2)"
   ]
  },
  {
   "cell_type": "code",
   "execution_count": null,
   "metadata": {
    "ExecuteTime": {
     "end_time": "2021-01-13T21:10:53.673007Z",
     "start_time": "2021-01-13T21:10:53.584644Z"
    }
   },
   "outputs": [],
   "source": [
    "df=pd.DataFrame({\n",
    "    't':t_values,\n",
    "    'V':V_values,\n",
    "    'Ca_i':Ca_i_values,\n",
    "    'INa':INa_values,\n",
    "    'IK' :IK_values,\n",
    "    'ICa':ICa_values,\n",
    "    'm':m_values,\n",
    "    'h':h_values,\n",
    "    'j':j_values,\n",
    "    'd':d_values,\n",
    "    'f':f_values,\n",
    "    'x_var':x_var_values,\n",
    "})"
   ]
  },
  {
   "cell_type": "code",
   "execution_count": null,
   "metadata": {
    "ExecuteTime": {
     "end_time": "2021-01-13T21:12:53.001496Z",
     "start_time": "2021-01-13T21:12:32.157367Z"
    }
   },
   "outputs": [],
   "source": [
    "# os.chdir(nb_dir)\n",
    "os.chdir(os.path.join(nb_dir,'Figures/methods'))\n",
    "df.to_csv('LR_action_potential.csv')"
   ]
  },
  {
   "cell_type": "code",
   "execution_count": null,
   "metadata": {
    "ExecuteTime": {
     "end_time": "2021-01-09T04:19:54.057512Z",
     "start_time": "2021-01-09T04:19:54.012973Z"
    }
   },
   "outputs": [],
   "source": []
  },
  {
   "cell_type": "markdown",
   "metadata": {},
   "source": [
    "## Simulation of three externally stimulated 0D action potentials from the LR model \n",
    "using the lookup table generated by `gener_table.py`"
   ]
  },
  {
   "cell_type": "code",
   "execution_count": 407,
   "metadata": {
    "ExecuteTime": {
     "end_time": "2021-01-14T19:22:01.532974Z",
     "start_time": "2021-01-14T19:22:01.504521Z"
    }
   },
   "outputs": [],
   "source": [
    "@njit\n",
    "def I_stim(I_magnitude=1.77,t_duration=100.):\n",
    "    return I_magnitude"
   ]
  },
  {
   "cell_type": "code",
   "execution_count": 416,
   "metadata": {
    "ExecuteTime": {
     "end_time": "2021-01-14T19:23:19.187452Z",
     "start_time": "2021-01-14T19:23:19.155008Z"
    }
   },
   "outputs": [],
   "source": [
    "def get_mycomp_ionic_flux(GNa=16.,GK1=0.6047,Gsi=0.052,EK1=-87.94,Eb=-59.87,ENa=54.4):#,GK=0.423\n",
    "    # #maximum conductances\n",
    "    # GNa = 16.     #mS/cm^2 from Qu2000.pdf #GNa=23 in Luo1990.pdf\n",
    "    # GK1 = 0.6047  #mS/cm^2 from Qu2000.pdf\n",
    "    # Gsi = 0.052   #mS/cm^2 spiral wave breakup phase from Qu2000.pdf\n",
    "    # GK  = 0.423   #mS/cm^2 #from Qu2000.pdf\n",
    "    # #reversal potentials\n",
    "    # EK1 = -87.94 #mV\n",
    "    # EKp = EK1    #mV\n",
    "    # Eb  = -59.87 #mV\n",
    "    # ENa = 54.4   #mV\n",
    "    @njit\n",
    "    def mycomp_ionic_flux(V,inCgate,IK1T,x1,Ca_i):\n",
    "        \"\"\"returns updated  gating variables\"\"\"\n",
    "        m = inCgate[0] #activation gate parameter (Na)\n",
    "        h = inCgate[1] #fast inactivation gate parameter (INa)\n",
    "        j = inCgate[2] #slow inactivation gate parameter (INa)\n",
    "        d = inCgate[3] #activation gate parameter (Isi)\n",
    "        f = inCgate[4] #inactivation gate parameter (Isi)\n",
    "        x_var = inCgate[5] #activation gate parameter (IK)\n",
    "        #Fast sodium current\n",
    "        INa = GNa*m**3*h*j*(V-ENa)\n",
    "        #Slow inward current\n",
    "        Esi=7.7-13.0287*np.log(Ca_i)#mV\n",
    "        Isi=Gsi*d*f*(V-Esi)\n",
    "        #time dependent potassium current \n",
    "        IK=x_var*x1#GK*x_var*x1\n",
    "        #total electric current\n",
    "        Iion=INa+IK1T+Isi+IK\n",
    "        #calcium uptake rate (dominated by activity of the sarcoplasmic reticulum)\n",
    "        dCa_i_dt=-10**-4*Isi+0.07*(10**-4-Ca_i)\n",
    "        return INa,IK1T,Isi,IK, dCa_i_dt\n",
    "    return mycomp_ionic_flux"
   ]
  },
  {
   "cell_type": "code",
   "execution_count": 425,
   "metadata": {
    "ExecuteTime": {
     "end_time": "2021-01-14T19:28:25.129277Z",
     "start_time": "2021-01-14T19:28:24.260560Z"
    }
   },
   "outputs": [
    {
     "data": {
      "text/plain": [
       "[-85.0, 0.00014, 0.0, 1.0, 1.0, 0.0, 1.0, 0.0]"
      ]
     },
     "execution_count": 425,
     "metadata": {},
     "output_type": "execute_result"
    }
   ],
   "source": [
    "dt=0.1 #ms\n",
    "\n",
    "# #determine the resting state of local model\n",
    "# df = pd.read_csv(os.path.join(nb_dir,'LR_action_potential.csv'))\n",
    "# mean_of_tail=df.tail(10).mean()\n",
    "# mean_of_tail_values=mean_of_tail.values\n",
    "\n",
    "#initialize system using resting state of previous model\n",
    "V   = -85.#58#043334867565#mean_of_tail['V']\n",
    "Ca_i= .00014#230357439265403#mean_of_tail['Ca_i']\n",
    "m   = 0.#00140291250464877#mean_of_tail['m']\n",
    "h   = 1.#0.9867348070020459#mean_of_tail['h']\n",
    "j   = 1.#0.9915824395060285#mean_of_tail['j']\n",
    "d   = 0.#002728930511184784#mean_of_tail['d']\n",
    "f   = 1.#0.9999835469722693#mean_of_tail['f']\n",
    "x_var = 0.#0060722026581493185#mean_of_tail['x_var']\n",
    "inCgate=np.array([m,h,j,d,f,x_var])\n",
    "outCgate=inCgate.copy()\n",
    "#initialize methods\n",
    "Cm=1. # µF/cm^2 membrane capacitance determined by gap junctions between myocardial cells\n",
    "\n",
    "#precompute lookup table\n",
    "arr39=get_arr39(dt,nb_dir)\n",
    "v_values=arr39[:,0]\n",
    "lookup_params=get_lookup_params(v_values,dv=0.1)\n",
    "mycomp_ionic_flux=get_mycomp_ionic_flux()\n",
    "\n",
    "[V,Ca_i,m,h,j,d,f,x_var]\n"
   ]
  },
  {
   "cell_type": "code",
   "execution_count": null,
   "metadata": {
    "ExecuteTime": {
     "end_time": "2021-01-14T06:43:56.513514Z",
     "start_time": "2021-01-14T06:43:56.477854Z"
    }
   },
   "outputs": [],
   "source": []
  },
  {
   "cell_type": "code",
   "execution_count": 426,
   "metadata": {
    "ExecuteTime": {
     "end_time": "2021-01-14T19:29:21.320483Z",
     "start_time": "2021-01-14T19:29:20.319916Z"
    }
   },
   "outputs": [
    {
     "data": {
      "text/plain": [
       "0"
      ]
     },
     "execution_count": 426,
     "metadata": {},
     "output_type": "execute_result"
    }
   ],
   "source": [
    "tf = 2000#up to 2 seconds\n",
    "count=0.\n",
    "dur=100.\n",
    "mag=-3.\n",
    "# forward integrate to tf\n",
    "num_time_steps=int(tf/dt)\n",
    "t_values=np.array([j*dt for j in range(num_time_steps)])\n",
    "#forward euler integrate V to time t, saving all dynamic values\n",
    "V_lst = [];m_lst=[];h_lst=[];j_lst=[];d_lst=[];f_lst=[];x_var_lst=[];Ca_i_lst=[]\n",
    "IK_lst=[];INa_lst=[];ICa_lst=[];Istim_lst=[];Iion_lst=[]\n",
    "for t in t_values:\n",
    "    #compute currents\n",
    "    arr_interp=lookup_params(V,arr39)\n",
    "    x_infty,tau_x,m_infty,tau_m,h_infty,tau_h,j_infty,tau_j,d_infty,tau_d,f_infty,tau_f,IK1T,x1,e1,em,eh,ej,ed,ef=arr_interp[1:]\n",
    "    INa,IK1T,Isi,IK,dCa_i_dt=mycomp_ionic_flux(V,inCgate,IK1T,x1,Ca_i)\n",
    "    Iion=INa+IK1T+Isi+IK\n",
    "    #compute external stimulus\n",
    "    if ((t>50.) & (t<50.+dur))|((t>550.) & (t<550.+dur))|((t>1050.) & (t<1050.+dur)):\n",
    "        Istim=mag\n",
    "    else:\n",
    "        Istim=0.\n",
    "    \n",
    "    #record time and variables\n",
    "    m,h,j,d,f,x_var=inCgate.T\n",
    "    V_lst.append(V);m_lst.append(m);h_lst.append(h);j_lst.append(j);d_lst.append(d);f_lst.append(f);x_var_lst.append(x_var);Ca_i_lst.append(Ca_i)\n",
    "    Istim_lst.append(Istim);IK_lst.append(IK+IK1T);ICa_lst.append(Isi);INa_lst.append(INa);Iion_lst.append(Iion)\n",
    "    \n",
    "    #integrate variables\n",
    "    comp_exact_next_gating_var(inCgate, outCgate, arr_interp)\n",
    "    inCgate=outCgate.copy()\n",
    "    dVdt=-(Iion+Istim)/Cm\n",
    "    V += dt*dVdt\n",
    "    Ca_i+=dt*dCa_i_dt\n",
    "    #update time\n",
    "    #     t+=dt\n",
    "    count+=1\n",
    "#     printProgressBar(count,num_time_steps)\n",
    "V_values=np.array(V_lst)\n",
    "#gating values\n",
    "m_values=np.array(m_lst)\n",
    "h_values=np.array(h_lst)\n",
    "j_values=np.array(j_lst)\n",
    "d_values=np.array(d_lst)\n",
    "f_values=np.array(f_lst)\n",
    "x_var_values=np.array(x_var_lst)\n",
    "Ca_i_values=np.array(Ca_i_lst)\n",
    "#current values\n",
    "IK_values=np.array(IK_lst)\n",
    "ICa_values=np.array(ICa_lst)\n",
    "INa_values=np.array(INa_lst)\n",
    "Istim_values=np.array(Istim_lst)\n",
    "Iion_values=np.array(Iion_lst)\n",
    "beep(1)"
   ]
  },
  {
   "cell_type": "markdown",
   "metadata": {},
   "source": [
    "### visualize action potential results"
   ]
  },
  {
   "cell_type": "markdown",
   "metadata": {
    "ExecuteTime": {
     "end_time": "2021-01-09T03:10:39.346033Z",
     "start_time": "2021-01-09T03:10:39.273928Z"
    }
   },
   "source": [
    "### plot action potential "
   ]
  },
  {
   "cell_type": "code",
   "execution_count": null,
   "metadata": {
    "ExecuteTime": {
     "end_time": "2021-01-14T19:22:33.584725Z",
     "start_time": "2021-01-14T19:22:33.561611Z"
    }
   },
   "outputs": [],
   "source": []
  },
  {
   "cell_type": "code",
   "execution_count": 427,
   "metadata": {
    "ExecuteTime": {
     "end_time": "2021-01-14T19:29:30.459836Z",
     "start_time": "2021-01-14T19:29:29.961473Z"
    }
   },
   "outputs": [
    {
     "data": {
      "image/png": "[encoded data removed]",
      "text/plain": [
       "<Figure size 396x360 with 1 Axes>"
      ]
     },
     "metadata": {
      "needs_background": "light"
     },
     "output_type": "display_data"
    }
   ],
   "source": [
    "#voltage\n",
    "fontsize=16\n",
    "save=True\n",
    "\n",
    "plt.subplots(figsize=(5.5,5))\n",
    "plt.plot(t_values,V_values,c='k')\n",
    "# plt.legend(ncol=1, fontsize=fontsize, bbox_to_anchor=(.9,.87), fancybox=True, shadow=True)\n",
    "# plt.yscale('log')\n",
    "plt.tick_params(labelsize=fontsize)\n",
    "plt.xlabel(r't (ms)', fontsize=fontsize)\n",
    "plt.tight_layout()\n",
    "plt.ylabel('transmembrane voltage (mV)', fontsize=fontsize)\n",
    "# plt.xlim([-10,200])\n",
    "if not save:\n",
    "    plt.show()\n",
    "else:\n",
    "    os.chdir(os.path.join(nb_dir,'Figures/methods'))\n",
    "    savefig_fn='LR_model_voltage_optimized.png'\n",
    "    plt.tight_layout()\n",
    "    plt.savefig(savefig_fn,dpi=300)"
   ]
  },
  {
   "cell_type": "code",
   "execution_count": 428,
   "metadata": {
    "ExecuteTime": {
     "end_time": "2021-01-14T19:29:39.500697Z",
     "start_time": "2021-01-14T19:29:38.928375Z"
    }
   },
   "outputs": [
    {
     "data": {
      "image/png": "[encoded data removed]",
      "text/plain": [
       "<Figure size 396x360 with 1 Axes>"
      ]
     },
     "metadata": {
      "needs_background": "light"
     },
     "output_type": "display_data"
    }
   ],
   "source": [
    "#calcium\n",
    "fontsize=16\n",
    "save=True\n",
    "plt.subplots(figsize=(5.5,5))\n",
    "plt.plot(t_values,Ca_i_values*10**+4,c='k')\n",
    "# plt.legend(ncol=1, fontsize=fontsize, bbox_to_anchor=(.9,.87), fancybox=True, shadow=True)\n",
    "# plt.yscale('log')\n",
    "# plt.xlim([-10,200])\n",
    "plt.tick_params(labelsize=fontsize)\n",
    "plt.xlabel(r't (ms)', fontsize=fontsize)\n",
    "plt.tight_layout()\n",
    "plt.ylabel(r'[Ca$^{2+}]_{inside}$ ($10^{-4}$ mM)', fontsize=fontsize)\n",
    "if not save:\n",
    "    plt.show()\n",
    "else:\n",
    "    os.chdir(os.path.join(nb_dir,'Figures/methods'))\n",
    "    plt.tight_layout()\n",
    "    savefig_fn='LR_model_calcium_optimized.png'\n",
    "    plt.savefig(savefig_fn,dpi=300)"
   ]
  },
  {
   "cell_type": "code",
   "execution_count": 429,
   "metadata": {
    "ExecuteTime": {
     "end_time": "2021-01-14T19:29:48.970920Z",
     "start_time": "2021-01-14T19:29:47.978725Z"
    }
   },
   "outputs": [
    {
     "data": {
      "image/png": "[encoded data removed]",
      "text/plain": [
       "<Figure size 468x360 with 1 Axes>"
      ]
     },
     "metadata": {
      "needs_background": "light"
     },
     "output_type": "display_data"
    }
   ],
   "source": [
    "## plot current versus t\n",
    "fontsize=16\n",
    "save=True\n",
    "plt.subplots(figsize=(6.5,5))\n",
    "plt.plot(t_values,IK_values,label=r'$I_{K}$')#,alpha=0.7)\n",
    "plt.plot(t_values,-ICa_values,label=r'$-I_{Ca}$')#,alpha=0.7)\n",
    "plt.plot(t_values,-INa_values/10**2,label=r'$-I_{Na}/10^2$')\n",
    "\n",
    "# plt.xlim([-10,200])\n",
    "plt.legend(ncol=1, fontsize=fontsize,loc='right', bbox_to_anchor=(1.2,.67), fancybox=True, shadow=True)\n",
    "# plt.yscale('log')\n",
    "plt.tick_params(labelsize=fontsize)\n",
    "plt.xlabel(r't (ms)', fontsize=fontsize)\n",
    "plt.tight_layout()\n",
    "plt.ylabel('transmembrane current ($\\mu$A/cm$^2$)', fontsize=fontsize)\n",
    "if not save:\n",
    "    plt.show()\n",
    "else:\n",
    "    os.chdir(os.path.join(nb_dir,'Figures/methods'))\n",
    "    savefig_fn='LR_AP_current_optimized.png'\n",
    "    plt.tight_layout()\n",
    "    plt.savefig(savefig_fn,dpi=300)"
   ]
  },
  {
   "cell_type": "code",
   "execution_count": 430,
   "metadata": {
    "ExecuteTime": {
     "end_time": "2021-01-14T19:29:58.184310Z",
     "start_time": "2021-01-14T19:29:57.612664Z"
    }
   },
   "outputs": [
    {
     "data": {
      "image/png": "[encoded data removed]",
      "text/plain": [
       "<Figure size 468x360 with 1 Axes>"
      ]
     },
     "metadata": {
      "needs_background": "light"
     },
     "output_type": "display_data"
    }
   ],
   "source": [
    "\n",
    "## plot current versus t\n",
    "fontsize=16\n",
    "save=True\n",
    "plt.subplots(figsize=(6.5,5))\n",
    "plt.plot(t_values,Istim_values,c='k')\n",
    "plt.plot(t_values,Iion_values)\n",
    "# plt.legend(ncol=1, fontsize=fontsize, bbox_to_anchor=(.9,.87), fancybox=True, shadow=True)\n",
    "# plt.yscale('log')\n",
    "# plt.xlim([-10,200])\n",
    "plt.ylim([-4,6])\n",
    "plt.tick_params(labelsize=fontsize)\n",
    "plt.xlabel(r't (ms)', fontsize=fontsize)\n",
    "plt.tight_layout()\n",
    "plt.ylabel('transmembrane current ($\\mu$A/cm$^2$)', fontsize=fontsize)\n",
    "if not save:\n",
    "    plt.show()\n",
    "else:\n",
    "    os.chdir(os.path.join(nb_dir,'Figures/methods'))\n",
    "    plt.tight_layout()\n",
    "    savefig_fn='LR_model_current_stim_optimized.png'\n",
    "    plt.savefig(savefig_fn,dpi=300)"
   ]
  },
  {
   "cell_type": "code",
   "execution_count": 431,
   "metadata": {
    "ExecuteTime": {
     "end_time": "2021-01-14T19:30:07.394078Z",
     "start_time": "2021-01-14T19:30:06.752766Z"
    }
   },
   "outputs": [
    {
     "data": {
      "image/png": "[encoded data removed]",
      "text/plain": [
       "<Figure size 468x360 with 1 Axes>"
      ]
     },
     "metadata": {
      "needs_background": "light"
     },
     "output_type": "display_data"
    }
   ],
   "source": [
    "#plot gating variables versus t\n",
    "fontsize=16\n",
    "save=True\n",
    "plt.subplots(figsize=(6.5,5))\n",
    "plt.plot(t_values,m_values,label='m')\n",
    "plt.plot(t_values,h_values,label='h')\n",
    "plt.plot(t_values,j_values,label='j')\n",
    "plt.plot(t_values,d_values,label='d')\n",
    "plt.plot(t_values,f_values,label='f')\n",
    "plt.plot(t_values,x_var_values,label='w')\n",
    "plt.legend(ncol=1, fontsize=fontsize,loc='right', bbox_to_anchor=(1.2,.47), fancybox=True, shadow=True)\n",
    "# plt.yscale('log')\n",
    "plt.tick_params(labelsize=fontsize)\n",
    "plt.xlabel(r't (ms)', fontsize=fontsize)\n",
    "plt.tight_layout()\n",
    "plt.ylabel('gating parameter value', fontsize=fontsize)\n",
    "# plt.xlim([-10,200])\n",
    "if not save:\n",
    "    plt.show()\n",
    "else:\n",
    "    os.chdir(os.path.join(nb_dir,'Figures/methods'))\n",
    "    savefig_fn='LR_AP_gating_params_optimized.png'\n",
    "    plt.tight_layout()\n",
    "    plt.savefig(savefig_fn,dpi=300)"
   ]
  },
  {
   "cell_type": "code",
   "execution_count": 432,
   "metadata": {
    "ExecuteTime": {
     "end_time": "2021-01-14T19:30:15.840009Z",
     "start_time": "2021-01-14T19:30:15.819346Z"
    }
   },
   "outputs": [],
   "source": [
    "# plt.ylabel('channel rates (1/ms)', fontsize=fontsize)"
   ]
  },
  {
   "cell_type": "code",
   "execution_count": 433,
   "metadata": {
    "ExecuteTime": {
     "end_time": "2021-01-14T19:30:24.914801Z",
     "start_time": "2021-01-14T19:30:24.478277Z"
    }
   },
   "outputs": [
    {
     "data": {
      "text/plain": [
       "0"
      ]
     },
     "execution_count": 433,
     "metadata": {},
     "output_type": "execute_result"
    }
   ],
   "source": [
    "beep(2)"
   ]
  },
  {
   "cell_type": "code",
   "execution_count": 434,
   "metadata": {
    "ExecuteTime": {
     "end_time": "2021-01-14T19:30:33.674903Z",
     "start_time": "2021-01-14T19:30:33.651196Z"
    }
   },
   "outputs": [],
   "source": [
    "df=pd.DataFrame({\n",
    "    't':t_values,\n",
    "    'V':V_values,\n",
    "    'Ca_i':Ca_i_values,\n",
    "    'INa':INa_values,\n",
    "    'IK' :IK_values,\n",
    "    'ICa':ICa_values,\n",
    "    'Istim':Istim_values,\n",
    "    'm':m_values,\n",
    "    'h':h_values,\n",
    "    'j':j_values,\n",
    "    'd':d_values,\n",
    "    'f':f_values,\n",
    "    'x_var':x_var_values,\n",
    "})"
   ]
  },
  {
   "cell_type": "code",
   "execution_count": 435,
   "metadata": {
    "ExecuteTime": {
     "end_time": "2021-01-14T19:30:42.799750Z",
     "start_time": "2021-01-14T19:30:42.337389Z"
    }
   },
   "outputs": [],
   "source": [
    "# os.chdir(nb_dir)\n",
    "os.chdir(os.path.join(nb_dir,'Figures/methods'))\n",
    "df.to_csv('LR_action_potentials_optimized.csv')"
   ]
  },
  {
   "cell_type": "code",
   "execution_count": null,
   "metadata": {
    "ExecuteTime": {
     "end_time": "2021-01-13T21:38:56.407887Z",
     "start_time": "2021-01-13T21:38:56.382486Z"
    }
   },
   "outputs": [],
   "source": []
  },
  {
   "cell_type": "markdown",
   "metadata": {},
   "source": [
    "# Action potentials from the FK model in 0D"
   ]
  },
  {
   "cell_type": "markdown",
   "metadata": {
    "ExecuteTime": {
     "end_time": "2021-01-09T00:30:05.041279Z",
     "start_time": "2021-01-09T00:30:05.009871Z"
    }
   },
   "source": [
    "## define the FK model"
   ]
  },
  {
   "cell_type": "code",
   "execution_count": 390,
   "metadata": {
    "ExecuteTime": {
     "end_time": "2021-01-14T19:17:54.591263Z",
     "start_time": "2021-01-14T19:17:54.559854Z"
    }
   },
   "outputs": [],
   "source": [
    "# step function\n",
    "@njit\n",
    "def step(a,b):\n",
    "    return 1 if a<=b else 0 # nan yields 1\n",
    "@njit\n",
    "def Tanh(x):\n",
    "    return np.math.tanh(x)\n",
    "\n",
    "@njit\n",
    "def mycomp_flow_map_FK(V, f, s):#, h):\n",
    "    C_m      = 1.000  #µF membrane capacitance determined by gap junctions between myocardial cells\n",
    "\n",
    "    #parameter set 8 of FK model from Fenton & Cherry (2002)\n",
    "    tau_pv   = 13.03\n",
    "    tau_v1   = 19.6\n",
    "    tau_v2   = 1250\n",
    "    tau_pw   = 800\n",
    "    tau_mw   = 40\n",
    "    tau_d    = 0.45# also interesting to try, but not F&C8's 0.45: 0.407#0.40#0.6#\n",
    "    tau_0    = 12.5\n",
    "    tau_r    = 33.25\n",
    "    tau_si   = 29#\n",
    "    K        = 10\n",
    "    V_sic    = 0.85#\n",
    "    V_c      = 0.13\n",
    "    V_v      = 0.04\n",
    "    C_si     = 1  # I didn't find this (trivial) multiplicative constant in Fenton & Cherry (2002).  The value C_si = 1 was used in Kaboudian (2019).\n",
    "\n",
    "    vlt = V#volts\n",
    "    fig = f#fast var\n",
    "    sig = s#slow var\n",
    "\n",
    "    p = step(V_c, vlt)\n",
    "    q = step(V_v, vlt)\n",
    "    \n",
    "    #original FK model\n",
    "    #     tau_mv = (1.0 - q) * tau_v1 + q * tau_v2\n",
    "    #FK model with tau_v2 and tau_v1 switched\n",
    "    tau_mv = (1.0 - q) * tau_v2 + q * tau_v1\n",
    "    \n",
    "    Ifi = -fig * p * (vlt - V_c) * (1.0 - vlt) / tau_d\n",
    "    Iso = vlt * (1.0 - p) / tau_0 + p / tau_r\n",
    "\n",
    "    tn = Tanh(K * (vlt - V_sic))\n",
    "    Isi = -sig * (1.0 + tn) / (2.0 * tau_si)\n",
    "    Isi *= C_si\n",
    "    dFig2dt = (1.0 - p) * (1.0 - fig) / tau_mv - p * fig / tau_pv\n",
    "    dSig2dt = (1.0 - p) * (1.0 - sig) / tau_mw - p * sig / tau_pw\n",
    "\n",
    "#     I_sum = Isi + Ifi + Iso\n",
    "#     dVlt2dt -= I_sum / C_m\n",
    "    return Isi , Ifi , Iso, dFig2dt, dSig2dt"
   ]
  },
  {
   "cell_type": "markdown",
   "metadata": {},
   "source": [
    "## Simulation of three externally stimulated 0D action potentials from the LR model \n",
    "using the lookup table generated by `gener_table.py`"
   ]
  },
  {
   "cell_type": "code",
   "execution_count": 391,
   "metadata": {
    "ExecuteTime": {
     "end_time": "2021-01-14T19:18:00.399123Z",
     "start_time": "2021-01-14T19:17:59.889878Z"
    }
   },
   "outputs": [
    {
     "data": {
      "text/plain": [
       "0"
      ]
     },
     "execution_count": 391,
     "metadata": {},
     "output_type": "execute_result"
    }
   ],
   "source": [
    "dt=0.1 #ms\n",
    "#initialize the resting state of local model\n",
    "V, F, S=(0.,0.,1.)\n",
    "#initialize methods\n",
    "Cm=1. # µF membrane capacitance determined by gap junctions between myocardial cells\n",
    "\n",
    "tf = 2000#up to 2 seconds\n",
    "count=0.\n",
    "dur=100.\n",
    "mag=-4./(35--85)#-3./(35--85)#-.03#-3.\n",
    "# forward integrate to tf\n",
    "num_time_steps=int(tf/dt)\n",
    "t_values=np.array([j*dt for j in range(num_time_steps)])\n",
    "#forward euler integrate V to time t, saving all dynamic values\n",
    "V_lst = [];F_lst=[];S_lst=[]\n",
    "Isi_lst=[];Ifi_lst=[];Iso_lst=[];Istim_lst=[];Iion_lst=[]\n",
    "for t in t_values:\n",
    "    #compute flow map\n",
    "    Isi , Ifi , Iso, dFdt, dSdt = mycomp_flow_map_FK(V, F, S)\n",
    "    Iion = Isi + Ifi + Iso\n",
    "\n",
    "\n",
    "    #compute external stimulus\n",
    "    if ((t>50.) & (t<50.+dur))|((t>550.) & (t<550.+dur))|((t>1050.) & (t<1050.+dur)):\n",
    "        Istim=mag\n",
    "    else:\n",
    "        Istim=0.\n",
    "    dVdt = -(Iion+Istim) / Cm\n",
    "\n",
    "    \n",
    "    #record time and variables\n",
    "    V_lst.append(V);F_lst.append(F);S_lst.append(S)\n",
    "    Isi_lst.append(Isi);Ifi_lst.append(Ifi);Iso_lst.append(Iso);Istim_lst.append(Istim);Iion_lst.append(Iion)\n",
    "    \n",
    "    #integrate in time\n",
    "    V+=dt*dVdt\n",
    "    F+=dt*dFdt\n",
    "    S+=dt*dSdt\n",
    "    \n",
    "    #update time\n",
    "    t+=dt\n",
    "    count+=1\n",
    "#     printProgressBar(count,num_time_steps)\n",
    "V_values=np.array(V_lst)\n",
    "#gating values\n",
    "F_values=np.array(F_lst)\n",
    "S_values=np.array(S_lst)\n",
    "#current values\n",
    "Isi_values=np.array(Isi_lst)\n",
    "Ifi_values=np.array(Ifi_lst)\n",
    "Iso_values=np.array(Iso_lst)\n",
    "Istim_values=np.array(Istim_lst)\n",
    "Iion_values=np.array(Iion_lst)\n",
    "beep(1)"
   ]
  },
  {
   "cell_type": "code",
   "execution_count": null,
   "metadata": {},
   "outputs": [],
   "source": []
  },
  {
   "cell_type": "markdown",
   "metadata": {
    "ExecuteTime": {
     "end_time": "2021-01-09T03:10:39.346033Z",
     "start_time": "2021-01-09T03:10:39.273928Z"
    }
   },
   "source": [
    "### plot action potential "
   ]
  },
  {
   "cell_type": "code",
   "execution_count": 393,
   "metadata": {
    "ExecuteTime": {
     "end_time": "2021-01-14T19:18:13.191935Z",
     "start_time": "2021-01-14T19:18:12.699658Z"
    }
   },
   "outputs": [
    {
     "data": {
      "image/png": "[encoded data removed]",
      "text/plain": [
       "<Figure size 396x360 with 1 Axes>"
      ]
     },
     "metadata": {
      "needs_background": "light"
     },
     "output_type": "display_data"
    }
   ],
   "source": [
    "#voltage\n",
    "fontsize=16\n",
    "save=True\n",
    "\n",
    "plt.subplots(figsize=(5.5,5))\n",
    "# plt.plot(t_values,V_values*(35--85)-85,c='k')#mV\n",
    "plt.plot(t_values,V_values,c='k')#unitless\n",
    "# plt.legend(ncol=1, fontsize=fontsize, bbox_to_anchor=(.9,.87), fancybox=True, shadow=True)\n",
    "# plt.yscale('log')\n",
    "plt.tick_params(labelsize=fontsize)\n",
    "plt.xlabel(r't (ms)', fontsize=fontsize)\n",
    "plt.tight_layout()\n",
    "plt.ylabel('transmembrane voltage (unitless)', fontsize=fontsize)\n",
    "# plt.xlim([-10,200])\n",
    "if not save:\n",
    "    plt.show()\n",
    "else:\n",
    "    os.chdir(os.path.join(nb_dir,'Figures/methods'))\n",
    "    savefig_fn='FK_model_voltage_optimized.png'\n",
    "    plt.tight_layout()\n",
    "    plt.savefig(savefig_fn,dpi=300)"
   ]
  },
  {
   "cell_type": "code",
   "execution_count": 394,
   "metadata": {
    "ExecuteTime": {
     "end_time": "2021-01-14T19:18:19.882571Z",
     "start_time": "2021-01-14T19:18:19.114475Z"
    }
   },
   "outputs": [
    {
     "data": {
      "image/png": "[encoded data removed]",
      "text/plain": [
       "<Figure size 468x360 with 1 Axes>"
      ]
     },
     "metadata": {
      "needs_background": "light"
     },
     "output_type": "display_data"
    }
   ],
   "source": [
    "## plot current versus t\n",
    "fontsize=16\n",
    "save=True\n",
    "plt.subplots(figsize=(6.5,5))\n",
    "plt.plot(t_values,Isi_values,label=r'$I_{si}$')#,alpha=0.7)\n",
    "plt.plot(t_values,Ifi_values,label=r'$I_{fi}$')#,alpha=0.7)\n",
    "plt.plot(t_values,Iso_values,label=r'$I_{so}$')\n",
    "\n",
    "# plt.xlim([-10,200])\n",
    "plt.legend(ncol=1, fontsize=fontsize,loc='right', bbox_to_anchor=(1.2,.67), fancybox=True, shadow=True)\n",
    "# plt.yscale('log')\n",
    "plt.tick_params(labelsize=fontsize)\n",
    "plt.xlabel(r't (ms)', fontsize=fontsize)\n",
    "plt.tight_layout()\n",
    "plt.ylabel('transmembrane current (unit/ms)', fontsize=fontsize)\n",
    "if not save:\n",
    "    plt.show()\n",
    "else:\n",
    "    os.chdir(os.path.join(nb_dir,'Figures/methods'))\n",
    "    savefig_fn='FK_AP_current_optimized.png'\n",
    "    plt.tight_layout()\n",
    "    plt.savefig(savefig_fn,dpi=300)"
   ]
  },
  {
   "cell_type": "code",
   "execution_count": 395,
   "metadata": {
    "ExecuteTime": {
     "end_time": "2021-01-14T19:18:26.734935Z",
     "start_time": "2021-01-14T19:18:26.120021Z"
    }
   },
   "outputs": [
    {
     "data": {
      "image/png": "[encoded data removed]",
      "text/plain": [
       "<Figure size 468x360 with 1 Axes>"
      ]
     },
     "metadata": {
      "needs_background": "light"
     },
     "output_type": "display_data"
    }
   ],
   "source": [
    "## plot current versus t\n",
    "fontsize=16\n",
    "save=True\n",
    "plt.subplots(figsize=(6.5,5))\n",
    "plt.plot(t_values,Istim_values,c='k')\n",
    "plt.plot(t_values,Iion_values)\n",
    "# plt.legend(ncol=1, fontsize=fontsize, bbox_to_anchor=(.9,.87), fancybox=True, shadow=True)\n",
    "# plt.yscale('log')\n",
    "# plt.xlim([-10,200])\n",
    "# plt.ylim([-4,6])\n",
    "plt.tick_params(labelsize=fontsize)\n",
    "plt.xlabel(r't (ms)', fontsize=fontsize)\n",
    "plt.tight_layout()\n",
    "plt.ylabel('transmembrane current (unit/ms)', fontsize=fontsize)\n",
    "if not save:\n",
    "    plt.show()\n",
    "else:\n",
    "    os.chdir(os.path.join(nb_dir,'Figures/methods'))\n",
    "    plt.tight_layout()\n",
    "    savefig_fn='FK_model_current_stim_optimized.png'\n",
    "    plt.savefig(savefig_fn,dpi=300)"
   ]
  },
  {
   "cell_type": "code",
   "execution_count": 396,
   "metadata": {
    "ExecuteTime": {
     "end_time": "2021-01-14T19:18:39.259632Z",
     "start_time": "2021-01-14T19:18:38.613418Z"
    }
   },
   "outputs": [
    {
     "data": {
      "image/png": "[encoded data removed]",
      "text/plain": [
       "<Figure size 468x360 with 1 Axes>"
      ]
     },
     "metadata": {
      "needs_background": "light"
     },
     "output_type": "display_data"
    }
   ],
   "source": [
    "#plot gating variables versus t\n",
    "fontsize=16\n",
    "save=True\n",
    "plt.subplots(figsize=(6.5,5))\n",
    "plt.plot(t_values,F_values,label='F')\n",
    "plt.plot(t_values,S_values,label='S')\n",
    "plt.legend(ncol=1, fontsize=fontsize,loc='right', bbox_to_anchor=(1.2,.47), fancybox=True, shadow=True)\n",
    "# plt.yscale('log')\n",
    "plt.tick_params(labelsize=fontsize)\n",
    "plt.xlabel(r't (ms)', fontsize=fontsize)\n",
    "plt.tight_layout()\n",
    "plt.ylabel('gating parameter value', fontsize=fontsize)\n",
    "# plt.xlim([-10,200])\n",
    "if not save:\n",
    "    plt.show()\n",
    "else:\n",
    "    os.chdir(os.path.join(nb_dir,'Figures/methods'))\n",
    "    savefig_fn='FK_AP_gating_params_optimized.png'\n",
    "    plt.tight_layout()\n",
    "    plt.savefig(savefig_fn,dpi=300)"
   ]
  },
  {
   "cell_type": "code",
   "execution_count": 53,
   "metadata": {
    "ExecuteTime": {
     "end_time": "2021-01-14T06:44:51.633687Z",
     "start_time": "2021-01-14T06:44:51.612675Z"
    }
   },
   "outputs": [],
   "source": [
    "# plt.ylabel('channel rates (1/ms)', fontsize=fontsize)"
   ]
  },
  {
   "cell_type": "code",
   "execution_count": 397,
   "metadata": {
    "ExecuteTime": {
     "end_time": "2021-01-14T19:18:49.424546Z",
     "start_time": "2021-01-14T19:18:48.982218Z"
    }
   },
   "outputs": [
    {
     "data": {
      "text/plain": [
       "0"
      ]
     },
     "execution_count": 397,
     "metadata": {},
     "output_type": "execute_result"
    }
   ],
   "source": [
    "beep(2)"
   ]
  },
  {
   "cell_type": "code",
   "execution_count": 398,
   "metadata": {
    "ExecuteTime": {
     "end_time": "2021-01-14T19:19:47.814928Z",
     "start_time": "2021-01-14T19:19:47.784644Z"
    }
   },
   "outputs": [],
   "source": [
    "df=pd.DataFrame({\n",
    "    't':t_values,\n",
    "    'V':V_values,\n",
    "    'Isi':Isi_values,\n",
    "    'Ifi' :Ifi_values,\n",
    "    'Iso':Iso_values,\n",
    "    'Istim':Istim_values,\n",
    "    'F':F_values,\n",
    "    'S':S_values,\n",
    "})"
   ]
  },
  {
   "cell_type": "code",
   "execution_count": 400,
   "metadata": {
    "ExecuteTime": {
     "end_time": "2021-01-14T19:20:25.757777Z",
     "start_time": "2021-01-14T19:20:25.464859Z"
    }
   },
   "outputs": [],
   "source": [
    "# os.chdir(nb_dir)\n",
    "os.chdir(os.path.join(nb_dir,'Figures/methods'))\n",
    "df.to_csv('FK_action_potentials_optimized.csv')"
   ]
  },
  {
   "cell_type": "code",
   "execution_count": null,
   "metadata": {
    "ExecuteTime": {
     "end_time": "2021-01-13T21:38:56.407887Z",
     "start_time": "2021-01-13T21:38:56.382486Z"
    }
   },
   "outputs": [],
   "source": []
  },
  {
   "cell_type": "code",
   "execution_count": null,
   "metadata": {},
   "outputs": [],
   "source": []
  },
  {
   "cell_type": "code",
   "execution_count": null,
   "metadata": {},
   "outputs": [],
   "source": []
  },
  {
   "cell_type": "markdown",
   "metadata": {},
   "source": [
    "# (ignore) scratchwerk"
   ]
  },
  {
   "cell_type": "markdown",
   "metadata": {
    "heading_collapsed": true
   },
   "source": [
    "## DONE: test time steps initial tip measurements"
   ]
  },
  {
   "cell_type": "markdown",
   "metadata": {
    "heading_collapsed": true
   },
   "source": [
    "## define some time step functions"
   ]
  },
  {
   "cell_type": "code",
   "execution_count": null,
   "metadata": {
    "ExecuteTime": {
     "end_time": "2021-01-13T21:25:07.633944Z",
     "start_time": "2021-01-13T21:25:07.605681Z"
    },
    "hidden": true
   },
   "outputs": [],
   "source": [
    "# def get_compute_dtxtdt(ds = 0.015, width =200, height=200, Cm=1., diffCoef=0.001,\n",
    "#                        Na_i = 18, Na_o = 140, K_i  = 145, K_o  = 5.4, Ca_o = 1.8,method='njit'):\n",
    "#     if method=='njit':\n",
    "#         njitsu = njit\n",
    "#     if method=='cuda':\n",
    "#         import numba.cuda.njit as njitsu\n",
    "#     comp_rate_of_change_at_pixel_LR=get_comp_rate_of_change_at_pixel_LR(ds = ds, width = width, height = height, Cm=Cm, diffCoef=diffCoef,\n",
    "#                                                                         Na_i = Na_i, Na_o = Na_o, K_i  = K_i, K_o  = K_o, Ca_o = Ca_o,method='njit')\n",
    "#     @njitsu\n",
    "#     def compute_dtxtdt(txt,out):\n",
    "#         for x in range(width):\n",
    "#             for y in range(height):\n",
    "#                 out[x,y] = comp_rate_of_change_at_pixel_LR(txt, x, y)\n",
    "#     return compute_dtxtdt"
   ]
  },
  {
   "cell_type": "code",
   "execution_count": null,
   "metadata": {
    "ExecuteTime": {
     "end_time": "2021-01-13T21:25:08.187508Z",
     "start_time": "2021-01-13T21:25:08.163899Z"
    },
    "hidden": true
   },
   "outputs": [],
   "source": [
    "# def get_one_step_forward_euler(txt,compute_dtxtdt,method='njit'):\n",
    "#     '''Exception ZeroDivisionError: division by zero may be thrown if V becomes larger than 10000. mV.  Consider lowering time step for stability.'''\n",
    "#     if method=='njit':\n",
    "#         njitsu = njit\n",
    "#     if method=='cuda':\n",
    "#         import numba.cuda.njit as njitsu\n",
    "#     zero_txt = np.zeros_like(txt)\n",
    "\n",
    "#     @njitsu\n",
    "#     def one_step_forward_euler(txt,dt):\n",
    "#         dtxt_dt=zero_txt.copy()\n",
    "#         compute_dtxtdt(txt,out=dtxt_dt)\n",
    "#         txt += dt*dtxt_dt\n",
    "    \n",
    "#     return one_step_forward_euler"
   ]
  },
  {
   "cell_type": "code",
   "execution_count": null,
   "metadata": {
    "ExecuteTime": {
     "end_time": "2021-01-13T21:25:08.813242Z",
     "start_time": "2021-01-13T21:25:08.790816Z"
    },
    "hidden": true
   },
   "outputs": [],
   "source": [
    "# def get_multi_step_forward_euler(txt,compute_dtxtdt,method='njit'):\n",
    "#     '''Exception ZeroDivisionError: division by zero may be thrown if V becomes larger than 10000. mV.  Consider lowering time step for stability.'''\n",
    "#     if method=='njit':\n",
    "#         njitsu = njit\n",
    "#     if method=='cuda':\n",
    "#         import numba.cuda.njit as njitsu\n",
    "#     one_time_step_forward_euler=get_one_step_forward_euler(txt,method='njit')\n",
    "#     @njitsu\n",
    "#     def multi_step_forward_euler(txt,numsteps=4,dt = 0.01):\n",
    "#         for stepnum in range(numsteps):\n",
    "#             one_time_step_forward_euler(txt, dt)\n",
    "#         return txt\n",
    "#     return multi_step_forward_euler"
   ]
  },
  {
   "cell_type": "code",
   "execution_count": null,
   "metadata": {
    "ExecuteTime": {
     "end_time": "2021-01-13T23:15:59.759845Z",
     "start_time": "2021-01-13T23:15:59.695488Z"
    },
    "hidden": true
   },
   "outputs": [],
   "source": [
    "# #for measurement\n",
    "# @njit\n",
    "# def interpolate_img(x_values,y_values,width,height,img):\n",
    "#     '''Measure color of txt at zip(x_values,y_values).  This was used to measure EP states.\n",
    "#     Example Usage:\n",
    "#     v_lst, f_lst, s_lst = interpolate_states(x_values,y_values,width,height,txt)\n",
    "#     '''\n",
    "#     states_bilinear_lst = []\n",
    "#     for x,y in zip(x_values,y_values):\n",
    "#         states_bilinear = bilinear_interpolate_channel(x,y,width,height,img)\n",
    "#         states_bilinear_lst.append(states_bilinear)\n",
    "#     return states_bilinear_lst\n",
    "\n",
    "# @njit\n",
    "# def ___pbc_1d(x_in,width):\n",
    "#     if np.greater_equal(x_in , width):\n",
    "#         return int(x_in-width)\n",
    "#     elif np.less(x_in, 0):\n",
    "#         return int(x_in+width)\n",
    "#     return int(x_in)\n",
    "\n",
    "# @njit\n",
    "# def bilinear_interpolate_channel(x,y,width,height,img):\n",
    "#     r0 = np.floor(y)\n",
    "#     r1 = np.ceil(y)\n",
    "#     frac_r = y-r0\n",
    "#     if r0==r1:\n",
    "#         r1+=1\n",
    "#     c0 = np.floor(x)\n",
    "#     c1 = np.ceil(x)\n",
    "#     frac_c = x-c0\n",
    "#     if c0==c1:\n",
    "#         c1+=1\n",
    "#     c0 = ___pbc_1d(c0,width)\n",
    "#     c1 = ___pbc_1d(c1,width)\n",
    "#     r0 = ___pbc_1d(r0,height)\n",
    "#     r1 = ___pbc_1d(r1,height)\n",
    "#     a11 = img[r0,c0]\n",
    "#     a21 = img[r1,c0]-a11\n",
    "#     a12 = img[r0,c1]-a11\n",
    "#     a22 = img[r1,c1]-a11-a12-a21\n",
    "#     states_bilinear = a11 + a21*frac_c + a12*frac_r + a22*frac_c*frac_r\n",
    "#     return states_bilinear"
   ]
  },
  {
   "cell_type": "code",
   "execution_count": null,
   "metadata": {
    "ExecuteTime": {
     "end_time": "2021-01-12T02:36:07.624421Z",
     "start_time": "2021-01-12T02:36:07.604347Z"
    },
    "hidden": true
   },
   "outputs": [],
   "source": []
  },
  {
   "cell_type": "code",
   "execution_count": null,
   "metadata": {
    "ExecuteTime": {
     "end_time": "2021-01-12T02:36:08.152687Z",
     "start_time": "2021-01-12T02:36:08.130013Z"
    },
    "hidden": true
   },
   "outputs": [],
   "source": [
    "# one_step_kernel_LR=get_one_step_kernel_LR_forward_euler(ds = 0.015, width =200, height=200, Cm=1., diffCoef=0.001,\n",
    "#                        Na_i = 18, Na_o = 140, K_i  = 145, K_o  = 5.4, Ca_o = 1.8, method='njit')"
   ]
  },
  {
   "cell_type": "code",
   "execution_count": null,
   "metadata": {
    "ExecuteTime": {
     "end_time": "2021-01-12T02:05:16.944137Z",
     "start_time": "2021-01-12T02:05:16.752795Z"
    },
    "hidden": true
   },
   "outputs": [],
   "source": []
  },
  {
   "cell_type": "code",
   "execution_count": null,
   "metadata": {
    "hidden": true
   },
   "outputs": [],
   "source": []
  },
  {
   "cell_type": "code",
   "execution_count": null,
   "metadata": {
    "ExecuteTime": {
     "end_time": "2021-01-12T02:36:09.045040Z",
     "start_time": "2021-01-12T02:36:09.002101Z"
    },
    "hidden": true
   },
   "outputs": [],
   "source": [
    "#test scaling from mV to dimensionless voltage for plotting\n",
    "input_file_name=f\"{nb_dir}/Data/test_data/test_txt.npz\"\n",
    "txt=load_buffer_LR(input_file_name, Ca_i_initial = 2*10**-4, Vmax = 35., Vmin = -85.)\n",
    "zero_txt = np.zeros_like(txt)\n",
    "txt_plt = get_voltage_field_scaled_and_shifted(txt, Vmin_new=0., Vmax_new=1., Vmin_old=-85., Vmax_old=35.)\n",
    "assert np.isclose(np.max(txt_plt),1.,atol=1e-1)\n",
    "assert np.isclose(np.min(txt_plt),0.,atol=1e-10)\n",
    "\n",
    "# #get jit compiling functions\n",
    "# compute_dtxtdt = get_compute_dtxtdt(ds = 0.015, width =200, height=200, Cm=1., diffCoef=0.001,\n",
    "#                        Na_i = 18, Na_o = 140, K_i  = 145, K_o  = 5.4, Ca_o = 1.8,method='njit')\n",
    "# one_step_forward_euler = get_one_step_forward_euler(txt,compute_dtxtdt)\n",
    "# multi_step_forward_euler = get_multi_step_forward_euler(txt,compute_dtxtdt)"
   ]
  },
  {
   "cell_type": "code",
   "execution_count": null,
   "metadata": {
    "ExecuteTime": {
     "end_time": "2021-01-12T02:36:09.712228Z",
     "start_time": "2021-01-12T02:36:09.682116Z"
    },
    "hidden": true
   },
   "outputs": [],
   "source": [
    "# #global tests for discrete flow map\n",
    "# txt=load_buffer_LR(input_file_name, Ca_i_initial = 2*10**-4, Vmax = 35., Vmin = -85.)\n",
    "# dtxt_dt=zero_txt.copy()\n",
    "# compute_dtxtdt(txt,out=dtxt_dt)\n",
    "# assert (dtxt_dt.shape==txt.shape)\n",
    "# assert not np.isnan(txt).any()\n",
    "# assert not np.isnan(dtxt_dt).any()"
   ]
  },
  {
   "cell_type": "code",
   "execution_count": null,
   "metadata": {
    "ExecuteTime": {
     "end_time": "2021-01-12T02:36:10.290257Z",
     "start_time": "2021-01-12T02:36:10.268207Z"
    },
    "hidden": true
   },
   "outputs": [],
   "source": [
    "multi_step_forward_euler=get_multi_step_forward_euler()"
   ]
  },
  {
   "cell_type": "code",
   "execution_count": null,
   "metadata": {
    "ExecuteTime": {
     "end_time": "2021-01-12T02:36:29.138723Z",
     "start_time": "2021-01-12T02:36:10.813495Z"
    },
    "hidden": true
   },
   "outputs": [],
   "source": [
    "txt=load_buffer_LR(input_file_name, Ca_i_initial = 2*10**-4, Vmax = 35., Vmin = -85.)\n",
    "t=0.\n",
    "dt=0.000001\n",
    "half_num_steps=400\n",
    "count=0.\n",
    "inVc=txt[...,(0,-1)].copy()\n",
    "inmhjdfx=txt[...,1:-1].copy()\n",
    "outVc=inVc.copy()\n",
    "dVcdt=inVc.copy()\n",
    "outmhjdfx=inmhjdfx.copy()\n",
    "# multi_step_forward_euler(inVc,outVc,inmhjdfx,outmhjdfx,dVcdt,dt,half_num_steps)\n",
    "for bob in range(half_num_steps):\n",
    "    one_step_kernel_LR(inVc,outVc,inmhjdfx,outmhjdfx,dVcdt,dt)\n",
    "    inVc=outVc.copy()\n",
    "    inmhjdfx=outmhjdfx.copy()\n",
    "#     one_step_kernel_LR(outVc,inVc,outmhjdfx,inmhjdfx,dVcdt,dt)\n",
    "    t+=dt\n",
    "    count+=1\n",
    "    printProgressBar(count,half_num_steps)\n",
    "beep(1)"
   ]
  },
  {
   "cell_type": "code",
   "execution_count": null,
   "metadata": {
    "ExecuteTime": {
     "end_time": "2021-01-12T02:35:11.161093Z",
     "start_time": "2021-01-12T02:35:10.927323Z"
    },
    "hidden": true
   },
   "outputs": [],
   "source": []
  },
  {
   "cell_type": "code",
   "execution_count": null,
   "metadata": {
    "ExecuteTime": {
     "end_time": "2021-01-12T02:37:21.231788Z",
     "start_time": "2021-01-12T02:37:20.783078Z"
    },
    "hidden": true
   },
   "outputs": [],
   "source": [
    "#test comp_gating_constants\n",
    "comp_gating_constants=get_comp_gating_constants()\n",
    "V = np.min(inVc)\n",
    "retval=comp_gating_constants(V)\n",
    "tau_m, tau_h, tau_j, tau_d, tau_f, tau_x, m_infty, h_infty, j_infty, d_infty, f_infty, x_infty=retval\n",
    "# assert retval.shape[0]==12\n",
    "print(f'time scales at smallest voltage, {V} mV,')\n",
    "print(tau_m, tau_h, tau_j, tau_d, tau_f, tau_x,)\n",
    "\n",
    "V = np.max(inVc)\n",
    "retval=comp_gating_constants(V)\n",
    "tau_m, tau_h, tau_j, tau_d, tau_f, tau_x, m_infty, h_infty, j_infty, d_infty, f_infty, x_infty=retval\n",
    "# assert retval.shape[0]==12\n",
    "print(f'time scales at largest voltage, {V} mV,')\n",
    "print(tau_m, tau_h, tau_j, tau_d, tau_f, tau_x,)"
   ]
  },
  {
   "cell_type": "code",
   "execution_count": null,
   "metadata": {
    "ExecuteTime": {
     "end_time": "2021-01-12T02:37:24.072530Z",
     "start_time": "2021-01-12T02:37:23.693021Z"
    },
    "hidden": true
   },
   "outputs": [],
   "source": [
    "comp_ionic_currents = get_comp_ionic_currents()#K_i=K_i,K_o=K_o,ENa=54.4,EK=-77.0,method=method,**kwargs)\n",
    "outIion = inVc[...,0].copy()\n",
    "for x in range(200):\n",
    "    for y in range(200):\n",
    "        C = inmhjdfx[x,y]\n",
    "        V,Ca_i = inVc[x,y]\n",
    "        m = C[0] #activation gate parameter (Na)\n",
    "        h = C[1] #fast inactivation gate parameter (INa)\n",
    "        j = C[2] #slow inactivation gate parameter (INa)\n",
    "        d = C[3] #activation gate parameter (Isi)\n",
    "        f = C[4] #inactivation gate parameter (Isi)\n",
    "        x_var = C[5] #activation gate parameter (IK)\n",
    "        Iion, dCa_i_dt = comp_ionic_currents(V, m, h, j, d, f, x_var, Ca_i)\n",
    "        outIion[x,y]=Iion"
   ]
  },
  {
   "cell_type": "code",
   "execution_count": null,
   "metadata": {
    "ExecuteTime": {
     "end_time": "2021-01-12T02:37:24.893859Z",
     "start_time": "2021-01-12T02:37:24.598557Z"
    },
    "hidden": true,
    "scrolled": false
   },
   "outputs": [],
   "source": [
    "plt.hist(outIion.flatten(),bins=50)\n",
    "plt.show()"
   ]
  },
  {
   "cell_type": "code",
   "execution_count": null,
   "metadata": {
    "ExecuteTime": {
     "end_time": "2021-01-12T02:37:25.698245Z",
     "start_time": "2021-01-12T02:37:25.427672Z"
    },
    "hidden": true
   },
   "outputs": [],
   "source": [
    "plt.hist(outmhjdfx[...,1].flatten(),bins=50)\n",
    "plt.show()"
   ]
  },
  {
   "cell_type": "code",
   "execution_count": null,
   "metadata": {
    "ExecuteTime": {
     "end_time": "2021-01-11T23:29:57.861564Z",
     "start_time": "2021-01-11T23:29:55.328047Z"
    },
    "hidden": true
   },
   "outputs": [],
   "source": []
  },
  {
   "cell_type": "code",
   "execution_count": null,
   "metadata": {
    "ExecuteTime": {
     "end_time": "2021-01-12T02:11:47.853040Z",
     "start_time": "2021-01-12T02:11:47.789156Z"
    },
    "hidden": true
   },
   "outputs": [],
   "source": []
  },
  {
   "cell_type": "code",
   "execution_count": null,
   "metadata": {
    "hidden": true
   },
   "outputs": [],
   "source": []
  },
  {
   "cell_type": "markdown",
   "metadata": {},
   "source": [
    "## DONE: visualize tips detected "
   ]
  },
  {
   "cell_type": "code",
   "execution_count": null,
   "metadata": {
    "ExecuteTime": {
     "end_time": "2021-01-12T02:37:27.106882Z",
     "start_time": "2021-01-12T02:37:27.080737Z"
    }
   },
   "outputs": [],
   "source": [
    "#TODO: visualize txt after integrating by one_time_step_forward_euler a few times\n",
    "# V_threshold=0.4\n",
    "# theta_threshold=0.\n",
    "# txt=load_buffer_LR(input_file_name, Ca_i_initial = 2*10**-4, Vmax = 35., Vmin = -85.)\n",
    "# width,height=txt.shape[:2]\n",
    "# dtxt_dt=zero_txt.copy()\n",
    "# compute_dtxtdt(txt,out=dtxt_dt)\n",
    "# img=txt[...,0]\n",
    "# dimgdt=dtxt_dt[...,0]\n",
    "# img1 = get_voltage_field_scaled_and_shifted(txt, Vmin_new=0., Vmax_new=1., Vmin_old=-85., Vmax_old=35.)\n",
    "# img2 = get_voltage_field_scaled_and_shifted(txt_nxt, Vmin_new=0., Vmax_new=1., Vmin_old=-85., Vmax_old=35.)\n",
    "# dimgdt=get_voltage_field_scaled_and_shifted(dtxt_dt, Vmin_new=0., Vmax_new=1., Vmin_old=-85., Vmax_old=35.)\n",
    "#TODO: take theta_threshold out of the njit'd steps\n",
    "#TODO(later, after validating): comp_next_time_step(dt_prev, dV)\n",
    "\n",
    "#V_FK = 0.4 roughly corresponds to V_LR = -37 mV??\n",
    "# V_LR = -37 mV??\n",
    "#V_LR = 0. mV roughly corresponds to V_FK=0.4??\n",
    "# (87-37)/(87+35) \n",
    "# get_voltage_field_scaled_and_shifted(np.array([0.1,0.1]), Vmin_new=0., Vmax_new=1., Vmin_old=-85., Vmax_old=35.)"
   ]
  },
  {
   "cell_type": "code",
   "execution_count": null,
   "metadata": {
    "ExecuteTime": {
     "end_time": "2021-01-12T02:37:28.206426Z",
     "start_time": "2021-01-12T02:37:28.179556Z"
    }
   },
   "outputs": [],
   "source": [
    "V_threshold=0.#-37.#mV\n",
    "level1=V_threshold\n",
    "theta_threshold=0.\n",
    "level2=0.\n",
    "img=inVc[...,0]\n",
    "dimgdt=dVcdt[...,0]\n",
    "width=200;height=200\n",
    "\n",
    "#compute all spiral tips present\n",
    "t = -999.\n",
    "\n",
    "\n",
    "# level2=V_threshold\n",
    "retval = find_intersections(img,dimgdt,level1,level2,theta_threshold=theta_threshold)\n",
    "# retval = find_intersections(img1,img2,level1,level2,theta_threshold=theta_threshold)\n",
    "lst_values_x,lst_values_y,lst_values_theta, lst_values_grad_ux, lst_values_grad_uy, lst_values_grad_vx, lst_values_grad_vy = retval\n",
    "x_values = np.array(lst_values_x)\n",
    "y_values = np.array(lst_values_y)\n",
    "# EP states given by bilinear interpolation with periodic boundary conditions\n",
    "v_lst    = interpolate_img(x_values,y_values,width,height,img=img)\n",
    "dvdt_lst = interpolate_img(x_values,y_values,width,height,img=dimgdt)\n",
    "\n",
    "n_tips = x_values.size\n",
    "dict_out = {\n",
    "    't': float(t),\n",
    "    'n': int(n_tips),\n",
    "    'x': tuple(lst_values_x),\n",
    "    'y': tuple(lst_values_y),\n",
    "    'theta': tuple(lst_values_theta),\n",
    "    'grad_ux': tuple(lst_values_grad_ux),\n",
    "    'grad_uy': tuple(lst_values_grad_uy),\n",
    "    'grad_vx': tuple(lst_values_grad_vx),\n",
    "    'grad_vy': tuple(lst_values_grad_vy),\n",
    "    'v':v_lst,\n",
    "#     'f':f_lst,\n",
    "#     's':s_lst,\n",
    "    'dvdt':dvdt_lst,\n",
    "#     'dfdt':dfdt_lst,\n",
    "#     'dsdt':dsdt_lst,\n",
    "}\n",
    "dict_out_instant=dict_out\n",
    "print(dict_out['n'])\n",
    "# lst_values_theta"
   ]
  },
  {
   "cell_type": "code",
   "execution_count": null,
   "metadata": {
    "ExecuteTime": {
     "end_time": "2021-01-12T02:37:30.661278Z",
     "start_time": "2021-01-12T02:37:30.632757Z"
    }
   },
   "outputs": [],
   "source": [
    "np.min(dimgdt)\n",
    "np.max(dimgdt)"
   ]
  },
  {
   "cell_type": "code",
   "execution_count": null,
   "metadata": {
    "ExecuteTime": {
     "end_time": "2021-01-12T02:37:31.367476Z",
     "start_time": "2021-01-12T02:37:31.194194Z"
    },
    "scrolled": false
   },
   "outputs": [],
   "source": [
    "c_values=np.array(dict_out['dvdt'])\n",
    "fig = ShowDomain(img,dimgdt,x_values,y_values,c_values,V_threshold,t,inch=6,fontsize=16,vmin_img=-85.,vmax_img=35.,\n",
    "                 area=25,frameno=1,save_fn=None,save_folder=None,save=False,annotating=False,axis=[0,200,0,200])\n",
    "plt.show(fig)"
   ]
  },
  {
   "cell_type": "code",
   "execution_count": null,
   "metadata": {
    "ExecuteTime": {
     "end_time": "2021-01-12T02:18:22.840583Z",
     "start_time": "2021-01-12T02:18:22.586831Z"
    }
   },
   "outputs": [],
   "source": []
  },
  {
   "cell_type": "code",
   "execution_count": null,
   "metadata": {
    "ExecuteTime": {
     "end_time": "2021-01-11T21:13:35.382338Z",
     "start_time": "2021-01-11T21:13:35.355317Z"
    }
   },
   "outputs": [],
   "source": []
  },
  {
   "cell_type": "markdown",
   "metadata": {},
   "source": [
    "## DONE: test forward euler integration"
   ]
  },
  {
   "cell_type": "code",
   "execution_count": null,
   "metadata": {
    "ExecuteTime": {
     "end_time": "2021-01-11T22:04:59.000393Z",
     "start_time": "2021-01-11T22:04:58.972253Z"
    }
   },
   "outputs": [],
   "source": [
    "# TODO: retry timestepping with (i) smaller time step or (ii) finer spatial discretization\n",
    "get_multi_step_forward_euler(txt,compute_dtxtdt,method='njit')"
   ]
  },
  {
   "cell_type": "code",
   "execution_count": null,
   "metadata": {
    "ExecuteTime": {
     "end_time": "2021-01-11T21:58:36.843016Z",
     "start_time": "2021-01-11T21:58:36.810068Z"
    }
   },
   "outputs": [],
   "source": [
    "#force comp_gating_constants to not raise divide by zero errors for large V"
   ]
  },
  {
   "cell_type": "code",
   "execution_count": null,
   "metadata": {
    "ExecuteTime": {
     "end_time": "2021-01-11T22:26:21.547642Z",
     "start_time": "2021-01-11T22:26:21.520665Z"
    }
   },
   "outputs": [],
   "source": [
    "# DONE: Visualize I vs. V curves and verify they agree with Qu2000 or Luo1990"
   ]
  },
  {
   "cell_type": "code",
   "execution_count": null,
   "metadata": {
    "ExecuteTime": {
     "end_time": "2021-01-11T22:24:59.622992Z",
     "start_time": "2021-01-11T22:24:59.593372Z"
    }
   },
   "outputs": [],
   "source": []
  },
  {
   "cell_type": "code",
   "execution_count": null,
   "metadata": {
    "ExecuteTime": {
     "end_time": "2021-01-11T22:01:32.693102Z",
     "start_time": "2021-01-11T22:01:32.663818Z"
    }
   },
   "outputs": [],
   "source": [
    "# tau_m\n",
    "tau_h\n",
    "# tau_x"
   ]
  },
  {
   "cell_type": "code",
   "execution_count": null,
   "metadata": {
    "ExecuteTime": {
     "end_time": "2021-01-11T22:04:24.146604Z",
     "start_time": "2021-01-11T22:04:24.119537Z"
    }
   },
   "outputs": [],
   "source": [
    "tau_d"
   ]
  },
  {
   "cell_type": "markdown",
   "metadata": {},
   "source": [
    "## DONE: use the lookup_table to compute $I_{ion}$"
   ]
  },
  {
   "cell_type": "code",
   "execution_count": null,
   "metadata": {
    "ExecuteTime": {
     "end_time": "2021-01-12T23:24:58.442280Z",
     "start_time": "2021-01-12T23:24:57.479317Z"
    }
   },
   "outputs": [],
   "source": [
    "#generate lookup tables for timestep\n",
    "dt = 0.01\n",
    "os.chdir(os.path.join(nb_dir,'lib/model'))\n",
    "cmd=f\"python3 gener_table.py {dt}\"\n",
    "os.system(cmd)\n",
    "#load lookup table for timestep\n",
    "os.chdir(os.path.join(nb_dir,'lib/model','lookup_tables'))\n",
    "table_fn=f\"luo_rudy_dt_{dt}.npz\"\n",
    "table_data=np.load(table_fn)\n",
    "print(f'loaded from {table_fn} the arrays:')\n",
    "for item in table_data.get('kwds'):\n",
    "    print(item)"
   ]
  },
  {
   "cell_type": "code",
   "execution_count": null,
   "metadata": {
    "ExecuteTime": {
     "end_time": "2021-01-13T02:40:24.352534Z",
     "start_time": "2021-01-13T02:40:24.322738Z"
    }
   },
   "outputs": [],
   "source": [
    "#convert table_data to a set of pandas.DataFrame instances\n",
    "kwds=table_data.get('kwds')\n",
    "cols=kwds[-1].split('_')[1:]\n",
    "keys=list(table_data.keys())\n",
    "arr39=table_data[keys[-1]].T\n",
    "print(np.array(cols[1:]))"
   ]
  },
  {
   "cell_type": "code",
   "execution_count": null,
   "metadata": {
    "ExecuteTime": {
     "end_time": "2021-01-13T02:50:02.965913Z",
     "start_time": "2021-01-13T02:50:02.939565Z"
    }
   },
   "outputs": [],
   "source": [
    "# df39=pd.DataFrame(arr39,columns=cols)\n",
    "# v_values=df39.v.values"
   ]
  },
  {
   "cell_type": "code",
   "execution_count": null,
   "metadata": {
    "ExecuteTime": {
     "end_time": "2021-01-13T02:43:11.729480Z",
     "start_time": "2021-01-13T02:43:11.703607Z"
    }
   },
   "outputs": [],
   "source": []
  },
  {
   "cell_type": "code",
   "execution_count": null,
   "metadata": {
    "ExecuteTime": {
     "end_time": "2021-01-13T03:08:17.158314Z",
     "start_time": "2021-01-13T03:08:17.131938Z"
    }
   },
   "outputs": [],
   "source": [
    "#DONE: perform linear interpolation for a given input voltage\n",
    "#DONE: compute the neighboring rows, m, m+1\n",
    "#DONE: linearly interpolate between ^those rows\n",
    "#DONE: get model parameters from ^that\n"
   ]
  },
  {
   "cell_type": "code",
   "execution_count": null,
   "metadata": {
    "ExecuteTime": {
     "end_time": "2021-01-13T20:49:18.423337Z",
     "start_time": "2021-01-13T20:49:18.401126Z"
    }
   },
   "outputs": [],
   "source": [
    "# def get_comp_v_row(v_values):\n",
    "#     dv=np.around(np.mean(np.diff(v_values)),1)\n",
    "#     v0=np.min(v_values)\n",
    "#     @njit\n",
    "#     def comp_v_row(v):\n",
    "#         return int((v-v0)/dv)\n",
    "#     return comp_v_row\n",
    "\n",
    "# def get_lookup_params(v_values,dv=0.1):\n",
    "#     comp_row=get_comp_row(v_values)\n",
    "#     @njit\n",
    "#     def lookup_params(V,arr39):\n",
    "#         M=comp_row(V)\n",
    "#         arr=arr39[M:M+2]\n",
    "#         Vlo=arr[0,0]\n",
    "#         frac=(V-Vlo)/dv\n",
    "#         arr_interp=frac*arr[1,:]+(1.-frac)*arr[0,:]\n",
    "#         # assert ( np.isclose( arr_interp[0]-V, 0.))#passed\n",
    "#         return arr_interp\n",
    "#     return lookup_params"
   ]
  },
  {
   "cell_type": "code",
   "execution_count": null,
   "metadata": {
    "ExecuteTime": {
     "end_time": "2021-01-13T17:16:41.417930Z",
     "start_time": "2021-01-13T17:16:41.389419Z"
    }
   },
   "outputs": [],
   "source": [
    "#test get row\n",
    "v_values=arr39[:,0]\n",
    "comp_v_row=get_comp_v_row(v_values)\n",
    "lookup_params=get_lookup_params(v_values,dv=0.1)\n",
    "assert(comp_row(-100)==0)\n",
    "assert(comp_row(-99.9)<2)\n",
    "assert(comp_row(-99.89)==1)"
   ]
  },
  {
   "cell_type": "code",
   "execution_count": null,
   "metadata": {
    "ExecuteTime": {
     "end_time": "2021-01-13T03:08:20.056124Z",
     "start_time": "2021-01-13T03:08:20.034084Z"
    }
   },
   "outputs": [],
   "source": [
    "# @njit\n",
    "# def comp_soln_gating_var(var, varinfty, evar):\n",
    "# \treturn varinfty - (varinfty-var)*evar"
   ]
  },
  {
   "cell_type": "code",
   "execution_count": null,
   "metadata": {
    "ExecuteTime": {
     "end_time": "2021-01-13T03:08:54.012278Z",
     "start_time": "2021-01-13T03:08:53.984352Z"
    }
   },
   "outputs": [],
   "source": [
    "# lookup_params=get_lookup_params(v_values,dv=0.1)\n",
    "# V=-35.6587\n",
    "\n",
    "    \n",
    "# #parse the linearly interpolated row\n",
    "# arr_interp=lookup_params(V,arr39)\n",
    "# # x_infty,tau_x,m_infty,tau_m,h_infty,tau_h,j_infty,tau_j,d_infty,tau_d,f_infty,tau_f,IK1T,x1,e1,em,eh,ej,ed,ef=arr_interp[1:]\n",
    "\n",
    "# #parse the linearly interpolated row\n",
    "# x_infty =arr_interp[1]    # 'xinf1', \n",
    "# # tau_x =arr_interp[2]    # 'xtau1', \n",
    "# m_infty=arr_interp[3]    # 'xinfm', \n",
    "# # tau_m=arr_interp[4]    # 'xtaum', \n",
    "# h_infty=arr_interp[5]    # 'xinfh', \n",
    "# # tau_h=arr_interp[6]    # 'xtauh', \n",
    "# j_infty=arr_interp[7]    # 'xinfj',\n",
    "# # tau_j=arr_interp[8]    # 'xtauj', \n",
    "# d_infty=arr_interp[9]    # 'xinfd', \n",
    "# # tau_d=arr_interp[10]    # 'xtaud', \n",
    "# f_infty=arr_interp[11]    # 'xinff', \n",
    "# # tau_f=arr_interp[12]    # 'xtauf', \n",
    "# IK1T=arr_interp[13]    # 'xttab', total time indep potassium current\n",
    "# x1=arr_interp[14]    # 'x1', \n",
    "# e1=arr_interp[15]    # 'e1',\n",
    "# em=arr_interp[16]    # 'em', \n",
    "# eh=arr_interp[17]    # 'eh', \n",
    "# ej=arr_interp[18]    # 'ej',\n",
    "# ed=arr_interp[19]    # 'ed', \n",
    "# ef=arr_interp[20]    # 'ef'"
   ]
  },
  {
   "cell_type": "code",
   "execution_count": null,
   "metadata": {
    "ExecuteTime": {
     "end_time": "2021-01-13T20:49:19.666095Z",
     "start_time": "2021-01-13T20:49:19.643398Z"
    }
   },
   "outputs": [],
   "source": [
    "# def get_lookup_params(v_values,dv=0.1):\n",
    "#     comp_row=get_comp_row(v_values)\n",
    "#     @njit\n",
    "#     def lookup_params(V,arr39):\n",
    "#         M=comp_row(V)\n",
    "#         arr=arr39[M:M+2]\n",
    "#         Vlo=arr[0,0]\n",
    "#         frac=(V-Vlo)/dv\n",
    "#         arr_interp=frac*arr[1,:]+(1.-frac)*arr[0,:]\n",
    "#         # assert ( np.isclose( arr_interp[0]-V, 0.))#passed\n",
    "#         return arr_interp\n",
    "#     return lookup_params"
   ]
  },
  {
   "cell_type": "code",
   "execution_count": null,
   "metadata": {
    "ExecuteTime": {
     "end_time": "2021-01-13T20:04:27.811951Z",
     "start_time": "2021-01-13T20:04:27.789518Z"
    }
   },
   "outputs": [],
   "source": [
    "# v=0\n",
    "# vx1=-77.62;xk0=5.4\n",
    "# gx1=0.423*2.837*sqrt(5.4/xk0)\n",
    "# fac=exp(0.04*(v+77.))\n",
    "# fac1=(v+77.)*exp(0.04*(v+35.))\n",
    "# x1=gx1*(v-vx1)*(fac-1.)/fac1"
   ]
  },
  {
   "cell_type": "code",
   "execution_count": null,
   "metadata": {
    "ExecuteTime": {
     "end_time": "2021-01-13T22:03:47.604443Z",
     "start_time": "2021-01-13T22:03:47.578005Z"
    }
   },
   "outputs": [],
   "source": [
    "# gx1"
   ]
  },
  {
   "cell_type": "code",
   "execution_count": null,
   "metadata": {
    "ExecuteTime": {
     "end_time": "2021-01-13T22:03:48.443195Z",
     "start_time": "2021-01-13T22:03:48.416912Z"
    }
   },
   "outputs": [],
   "source": [
    "# @njit\n",
    "# def comp_exact_next_gating_var(inCgate,outCgate,arr_interp):\n",
    "#     \"\"\"returns updated  gating variables\"\"\"\n",
    "#     m = inCgate[0] #activation gate parameter (Na)\n",
    "#     h = inCgate[1] #fast inactivation gate parameter (INa)\n",
    "#     j = inCgate[2] #slow inactivation gate parameter (INa)\n",
    "#     d = inCgate[3] #activation gate parameter (Isi)\n",
    "#     f = inCgate[4] #inactivation gate parameter (Isi)\n",
    "#     x_var = inCgate[5] #activation gate parameter (IK)\n",
    "\n",
    "#     #parse the linearly interpolated row\n",
    "#     x_infty =arr_interp[1]    # 'xinf1', \n",
    "#     # tau_x =arr_interp[2]    # 'xtau1', \n",
    "#     m_infty=arr_interp[3]    # 'xinfm', \n",
    "#     # tau_m=arr_interp[4]    # 'xtaum', \n",
    "#     h_infty=arr_interp[5]    # 'xinfh', \n",
    "#     # tau_h=arr_interp[6]    # 'xtauh', \n",
    "#     j_infty=arr_interp[7]    # 'xinfj',\n",
    "#     # tau_j=arr_interp[8]    # 'xtauj', \n",
    "#     d_infty=arr_interp[9]    # 'xinfd', \n",
    "#     # tau_d=arr_interp[10]    # 'xtaud', \n",
    "#     f_infty=arr_interp[11]    # 'xinff', \n",
    "#     # tau_f=arr_interp[12]    # 'xtauf', \n",
    "#     #     IK1T=arr_interp[13]    # 'xttab', \n",
    "#     x1=arr_interp[14]    # 'x1', \n",
    "#     e1=arr_interp[15]    # 'e1',\n",
    "#     em=arr_interp[16]    # 'em', \n",
    "#     eh=arr_interp[17]    # 'eh', \n",
    "#     ej=arr_interp[18]    # 'ej',\n",
    "#     ed=arr_interp[19]    # 'ed', \n",
    "#     ef=arr_interp[20]    # 'ef'\n",
    "\n",
    "#     outCgate[0]=comp_soln_gating_var(m,m_infty, em)\n",
    "#     outCgate[1]=comp_soln_gating_var(h,h_infty, eh)\n",
    "#     outCgate[2]=comp_soln_gating_var(j,j_infty, ej)\n",
    "#     outCgate[3]=comp_soln_gating_var(d,d_infty, ed)\n",
    "#     outCgate[4]=comp_soln_gating_var(f,f_infty, ef)\n",
    "#     outCgate[5]=comp_soln_gating_var(x_var,x_infty, e1)  \n",
    "    \n",
    "# def get_comp_ionic_flux(GNa=16.,GK1=0.6047,Gsi=0.052,EK1=-87.94,Eb=-59.87,ENa=54.4):#,GK=0.423\n",
    "#     # #maximum conductances\n",
    "#     # GNa = 16.     #mS/cm^2 from Qu2000.pdf #GNa=23 in Luo1990.pdf\n",
    "#     # GK1 = 0.6047  #mS/cm^2 from Qu2000.pdf\n",
    "#     # Gsi = 0.052   #mS/cm^2 spiral wave breakup phase from Qu2000.pdf\n",
    "#     # GK  = 0.423   #mS/cm^2 #from Qu2000.pdf\n",
    "#     # #reversal potentials\n",
    "#     # EK1 = -87.94 #mV\n",
    "#     # EKp = EK1    #mV\n",
    "#     # Eb  = -59.87 #mV\n",
    "#     # ENa = 54.4   #mV\n",
    "#     @njit\n",
    "#     def comp_ionic_flux(V,inCgate,IK1T,x1,Ca_i):\n",
    "#         \"\"\"returns updated  gating variables\"\"\"\n",
    "#         m = inCgate[0] #activation gate parameter (Na)\n",
    "#         h = inCgate[1] #fast inactivation gate parameter (INa)\n",
    "#         j = inCgate[2] #slow inactivation gate parameter (INa)\n",
    "#         d = inCgate[3] #activation gate parameter (Isi)\n",
    "#         f = inCgate[4] #inactivation gate parameter (Isi)\n",
    "#         x_var = inCgate[5] #activation gate parameter (IK)\n",
    "#         #Fast sodium current\n",
    "#         INa = GNa*m**3*h*j*(V-ENa)\n",
    "#         #Slow inward current\n",
    "#         Esi=7.7-13.0287*np.log(Ca_i)#mV\n",
    "#         Isi=Gsi*d*f*(V-Esi)\n",
    "#         #time dependent potassium current \n",
    "#         IK=x_var*x1#GK*x_var*x1\n",
    "#         #total electric current\n",
    "#         Iion=INa+IK1T+Isi+IK\n",
    "#         #calcium uptake rate (dominated by activity of the sarcoplasmic reticulum)\n",
    "#         dCa_i_dt=-10**-4*Isi+0.07*(10**-4-Ca_i)\n",
    "#         return Iion, dCa_i_dt#INa,IK1T,Isi,IK# GNa,m**3*h*j,(V-ENa)#,#\n",
    "#     return comp_ionic_flux"
   ]
  },
  {
   "cell_type": "code",
   "execution_count": null,
   "metadata": {
    "ExecuteTime": {
     "end_time": "2021-01-13T22:03:54.529896Z",
     "start_time": "2021-01-13T22:03:54.495247Z"
    }
   },
   "outputs": [],
   "source": [
    "#DONE: initialize gating variables to literally anything\n",
    "#DONE: compute local Isi, IKT, INa.  compute Iion.\n",
    "#DONE: compute local change in Ca_i\n",
    "#DONE: compute local next values of gating variables with the exact flow map\n",
    "# comp_ionic_flux=get_comp_ionic_flux()\n",
    "# comp_ionic_flux(V,inCgate,IK1T,x1,Ca_i)\n",
    "# Sodium current is what's causing enormous currents "
   ]
  },
  {
   "cell_type": "code",
   "execution_count": null,
   "metadata": {
    "ExecuteTime": {
     "end_time": "2021-01-13T22:03:55.348238Z",
     "start_time": "2021-01-13T22:03:55.327557Z"
    }
   },
   "outputs": [],
   "source": [
    "# #compute local next values of gating variables with the exact flow map\n",
    "# inCgate=np.array([0,0,0,0,0,0])\n",
    "# outCgate=inCgate.copy()\n",
    "\n",
    "# V=-35.6587\n",
    "# #parse the linearly interpolated row\n",
    "# arr_interp=lookup_params(V,arr39)\n",
    "# comp_exact_next_gating_var(inCgate,outCgate,arr_interp)"
   ]
  },
  {
   "cell_type": "code",
   "execution_count": null,
   "metadata": {
    "ExecuteTime": {
     "end_time": "2021-01-13T22:03:56.100164Z",
     "start_time": "2021-01-13T22:03:56.078113Z"
    }
   },
   "outputs": [],
   "source": [
    "# comp_ionic_flux=get_comp_ionic_flux()"
   ]
  },
  {
   "cell_type": "code",
   "execution_count": null,
   "metadata": {
    "ExecuteTime": {
     "end_time": "2021-01-13T22:03:56.877788Z",
     "start_time": "2021-01-13T22:03:56.857194Z"
    }
   },
   "outputs": [],
   "source": [
    "# Iion, dCa_i_dt = comp_ionic_currents(V, m, h, j, d, f, x_var, Ca_i)"
   ]
  },
  {
   "cell_type": "code",
   "execution_count": null,
   "metadata": {
    "ExecuteTime": {
     "end_time": "2021-01-13T22:03:57.665089Z",
     "start_time": "2021-01-13T22:03:57.644164Z"
    }
   },
   "outputs": [],
   "source": [
    "# Iion, dCa_i_dt=comp_ionic_flux(inCgate,arr_interp)"
   ]
  },
  {
   "cell_type": "markdown",
   "metadata": {},
   "source": [
    "WJ has an extra factor of (v-vx1) in computing x1?\n",
    "\n",
    "Yes, but this should be considered when computing I_K\n",
    "\n",
    "$$\n",
    "I_K = x* x1_{WJ}\n",
    "$$"
   ]
  },
  {
   "cell_type": "code",
   "execution_count": null,
   "metadata": {
    "ExecuteTime": {
     "end_time": "2021-01-13T19:36:12.477159Z",
     "start_time": "2021-01-13T19:36:12.454146Z"
    }
   },
   "outputs": [],
   "source": [
    "#TODO: compute dVdt\n",
    "#TODO: wrap all ^this in a kernel using the operator splitting method described in Qu2000.\n",
    "#TODO: compute next time step \n",
    "#TODO: implement adaptive time stepping using a priority queue\n",
    "#TODO: initialize time buffer.  initialize dt buffer\n",
    "#TODO: get interpolated values for a given dt by using a lookup table of lookup tables"
   ]
  },
  {
   "cell_type": "markdown",
   "metadata": {},
   "source": [
    "$$\n",
    "ey \\equiv \\exp(-\\Delta t/\\tau_m(V))\n",
    "$$"
   ]
  },
  {
   "cell_type": "markdown",
   "metadata": {
    "ExecuteTime": {
     "end_time": "2021-01-13T02:34:44.919232Z",
     "start_time": "2021-01-13T02:34:44.890783Z"
    }
   },
   "source": [
    "my implementation was exploding because I wasn't adding $I_K$ to $I_{ion}$."
   ]
  },
  {
   "cell_type": "code",
   "execution_count": null,
   "metadata": {
    "ExecuteTime": {
     "end_time": "2021-01-13T19:36:14.997527Z",
     "start_time": "2021-01-13T19:36:14.972614Z"
    }
   },
   "outputs": [],
   "source": [
    "#sorted lookup table of sorted lookup tables, all given in terms of numpy arrays"
   ]
  },
  {
   "cell_type": "markdown",
   "metadata": {},
   "source": [
    "## DONE: compute dVdt\n",
    "using splitting method as described in Qu1999.pdf"
   ]
  },
  {
   "cell_type": "code",
   "execution_count": null,
   "metadata": {
    "ExecuteTime": {
     "end_time": "2021-01-13T17:30:10.597405Z",
     "start_time": "2021-01-13T17:30:10.538330Z"
    }
   },
   "outputs": [],
   "source": [
    "#TODO: compute dVdt\n",
    "# input_file_name=search_for_file()\n",
    "# print ( input_file_name )\n",
    "\n",
    "input_file_name=f\"{nb_dir}/Data/test_data/test_txt.npz\"\n",
    "inVmhjdfxc = load_buffer_LR(input_file_name)\n",
    "txt=inVmhjdfxc\n",
    "zero_txt = np.zeros_like(txt)\n",
    "width,height,chnlno = txt.shape\n",
    "print (f\"buffer dimensions are width, height, chnlno = { width,height,chnlno }.\") "
   ]
  },
  {
   "cell_type": "code",
   "execution_count": null,
   "metadata": {
    "ExecuteTime": {
     "end_time": "2021-01-13T16:22:50.636111Z",
     "start_time": "2021-01-13T16:22:48.974557Z"
    }
   },
   "outputs": [],
   "source": [
    "txt=load_buffer_LR(input_file_name, Ca_i_initial = 2*10**-4, Vmax = 35., Vmin = -85.)\n",
    "t=0.\n",
    "dt=0.01\n",
    "half_num_steps=40\n",
    "count=0.\n",
    "inVc=txt[...,(0,-1)].copy()\n",
    "inmhjdfx=txt[...,1:-1].copy()\n",
    "outVc=inVc.copy()\n",
    "dVcdt=inVc.copy()\n",
    "outmhjdfx=inmhjdfx.copy()\n",
    "# multi_step_forward_euler(inVc,outVc,inmhjdfx,outmhjdfx,dVcdt,dt,half_num_steps)\n",
    "for bob in range(half_num_steps):\n",
    "    one_step_kernel_LR(inVc,outVc,inmhjdfx,outmhjdfx,dVcdt,dt)\n",
    "    inVc=outVc.copy()\n",
    "    inmhjdfx=outmhjdfx.copy()\n",
    "#     one_step_kernel_LR(outVc,inVc,outmhjdfx,inmhjdfx,dVcdt,dt)\n",
    "    t+=dt\n",
    "    count+=1\n",
    "    printProgressBar(count,half_num_steps)\n",
    "beep(1)"
   ]
  },
  {
   "cell_type": "code",
   "execution_count": null,
   "metadata": {
    "ExecuteTime": {
     "end_time": "2021-01-13T16:23:10.813101Z",
     "start_time": "2021-01-13T16:23:10.784807Z"
    }
   },
   "outputs": [],
   "source": []
  },
  {
   "cell_type": "code",
   "execution_count": null,
   "metadata": {
    "ExecuteTime": {
     "end_time": "2021-01-13T16:21:48.162249Z",
     "start_time": "2021-01-13T16:21:48.139125Z"
    }
   },
   "outputs": [],
   "source": []
  },
  {
   "cell_type": "code",
   "execution_count": null,
   "metadata": {
    "ExecuteTime": {
     "end_time": "2021-01-13T17:31:49.391127Z",
     "start_time": "2021-01-13T17:31:49.364509Z"
    }
   },
   "outputs": [],
   "source": [
    "# def get_comp_one_step_kernel_LR_forward_euler(ds = 0.015, width =200, height=200, Cm=1., diffCoef=0.001,\n",
    "#                        Na_i = 18, Na_o = 140, K_i  = 145, K_o  = 5.4, Ca_o = 1.8,method='njit'):\n",
    "#     if method=='njit':\n",
    "#         njitsu = njit\n",
    "#     if method=='cuda':\n",
    "#         import numba.cuda.njit as njitsu\n",
    "#     comp_rate_of_voltage_change_at_pixel_LR=get_comp_rate_of_voltage_change_at_pixel_LR(ds = ds, width = width, height = height, Cm=Cm, diffCoef=diffCoef,\n",
    "#                                                                         Na_i = Na_i, Na_o = Na_o, K_i  = K_i, K_o  = K_o, Ca_o = Ca_o,method=method)\n",
    "#     comp_exact_flow_map_gating_variables=get_comp_exact_flow_map_gating_variables(method=method)\n",
    "#     # pbc=get_pbc(width,height)\n",
    "\n",
    "#     @njitsu\n",
    "#     def comp_one_step_kernel_LR_forward_euler(inVc,outVc,inmhjdfx,outmhjdfx,dVcdt,dt):\n",
    "#         for x in range(width):\n",
    "#             for y in range(height):\n",
    "#                 # x,y = pbc(x,y)\n",
    "#                 C = inVc[x,y]\n",
    "#                 inCgate = inmhjdfx[x,y]\n",
    "#                 outCgate = outmhjdfx[x,y]\n",
    "#                 V = C[0]\n",
    "#                 #update gating variables with next value\n",
    "#                 comp_exact_flow_map_gating_variables(inCgate, outCgate, V, dt)\n",
    "#                 #compute current at pixel using gating variables evaluated according to the implicit midpoint rule\n",
    "#                 Cgate=0.5*inCgate+0.5*outCgate\n",
    "#                 dVcdt_val = comp_rate_of_voltage_change_at_pixel_LR(inVc, C, Cgate, x, y)\n",
    "#                 dVcdt[x,y] = dVcdt_val\n",
    "#                 outVc[x,y] = C + dt*dVcdt_val\n",
    "#     return compute_one_step_kernel_LR_forward_euler"
   ]
  },
  {
   "cell_type": "code",
   "execution_count": null,
   "metadata": {
    "ExecuteTime": {
     "end_time": "2021-01-13T17:34:12.084269Z",
     "start_time": "2021-01-13T17:34:12.057085Z"
    }
   },
   "outputs": [],
   "source": []
  },
  {
   "cell_type": "code",
   "execution_count": null,
   "metadata": {
    "ExecuteTime": {
     "end_time": "2021-01-13T20:49:43.704134Z",
     "start_time": "2021-01-13T20:49:43.677586Z"
    }
   },
   "outputs": [],
   "source": [
    "# def get_comp_dVcdt(width=200,height=200,diffCoef=0.001,ds=0.025,Cm=1.):\n",
    "#     comp_ionic_flux=get_comp_ionic_flux()\n",
    "#     #spatial discretization\n",
    "#     cddx = width  / ds  #if this is too big than the simulation will blow up (at a given timestep)\n",
    "#     cddy = height / ds #if this is too big than the simulation will blow up (at a given timestep)\n",
    "#     cddx *= cddx\n",
    "#     cddy *= cddy\n",
    "#     @njit\n",
    "#     def comp_dVcdt(inVc,x,y,inCgate,IK1T,x1):\n",
    "#         V,Ca_i = inVc[x,y].T\n",
    "#         # Compute Ionic Current Density\n",
    "#         Iion, dCa_i_dt=comp_ionic_flux(V,inCgate,IK1T,x1,Ca_i)\n",
    "#         # Compute transient term for transmembrane voltage\n",
    "#         dVltdt  = laplacian(inVc, x, y, cddx, cddy, V)\n",
    "#         dVltdt *= float(diffCoef)\n",
    "#         dVltdt -= float(Iion/Cm)\n",
    "#         dVcdt_val=np.array([dVltdt,dCa_i_dt],dtype=np.float64)\n",
    "#         return dVcdt_val\n",
    "#     return comp_dVcdt"
   ]
  },
  {
   "cell_type": "code",
   "execution_count": null,
   "metadata": {
    "ExecuteTime": {
     "end_time": "2021-01-13T20:49:45.015660Z",
     "start_time": "2021-01-13T20:49:44.992412Z"
    }
   },
   "outputs": [],
   "source": [
    "# def get_arr39(dt):\n",
    "#     cwd=os.getcwd()\n",
    "#     #generate lookup tables for timestep\n",
    "#     os.chdir(os.path.join(nb_dir,'lib/model'))\n",
    "#     cmd=f\"python3 gener_table.py {dt}\"\n",
    "#     os.system(cmd)\n",
    "#     #load lookup table for constant timestep, dt.\n",
    "#     os.chdir(os.path.join(nb_dir,'lib/model','lookup_tables'))\n",
    "#     table_fn=f\"luo_rudy_dt_{dt}.npz\"\n",
    "#     table_data=np.load(table_fn)    \n",
    "#     #convert table_data to a numpy array\n",
    "#     kwds=table_data.get('kwds')\n",
    "#     cols=kwds[-1].split('_')[1:]\n",
    "#     keys=list(table_data.keys())\n",
    "#     arr39=table_data[keys[-1]].T  \n",
    "#     #return to original working directory\n",
    "#     os.chdir(cwd)\n",
    "#     return arr39"
   ]
  },
  {
   "cell_type": "code",
   "execution_count": null,
   "metadata": {
    "ExecuteTime": {
     "end_time": "2021-01-13T23:04:33.393179Z",
     "start_time": "2021-01-13T23:04:33.369307Z"
    }
   },
   "outputs": [],
   "source": [
    "# def get_one_step_explicit_synchronous_splitting(nb_dir,dt=0.01,width=200,height=200,ds=5.,diffCoef=0.001,Cm=1.):\n",
    "#     '''returns dt, arr39, one_step_explicit_synchronous_splitting\n",
    "#     precomputes lookup table, arr39 and returns a jit compiling one_step method\n",
    "#     '''\n",
    "#     #precompute lookup table\n",
    "#     arr39=get_arr39(dt,nb_dir)\n",
    "#     v_values=arr39[:,0]\n",
    "#     lookup_params=get_lookup_params(v_values,dv=0.1)\n",
    "#     comp_dVcdt=get_comp_dVcdt(width=width, height=height, diffCoef=diffCoef, ds=ds, Cm=Cm)\n",
    "\n",
    "#     @njit\n",
    "#     def one_step_explicit_synchronous_splitting(inVc,outVc,inmhjdfx,outmhjdfx,dVcdt):\n",
    "#         '''\n",
    "#         for each pixel:\n",
    "#             advances V and Ca_i by dt/2 for each pixel using forward euler integration\n",
    "#         and then,\n",
    "#         for each pixel:\n",
    "#             advances gating variables using the exact flow map resulting from V\n",
    "#             advances V and Ca_i by dt/2 for each pixel using forward euler integration\n",
    "#         enforces agreement between inVc and outVc and between inmhjdfx and outmhjdfx (to avoid any confusion)\n",
    "#         '''\n",
    "#         for x in range(width):\n",
    "#             for y in range(height):\n",
    "#                 #extract local variables\n",
    "#                 Vc = inVc[x,y]; V=Vc[0]\n",
    "#                 inCgate = inmhjdfx[x,y]\n",
    "\n",
    "#                 #parse the row linearly interpolated from lookup table\n",
    "#                 arr_interp=lookup_params(V,arr39)\n",
    "#                 IK1T=arr_interp[13]    # 'xttab', \n",
    "#                 x1=arr_interp[14]    # 'x1', \n",
    "\n",
    "#                 #half step voltage and calcium\n",
    "#                 dVcdt_val=comp_dVcdt(inVc, x, y, inCgate, IK1T, x1)\n",
    "#                 outVc_val=Vc+0.5*dt*dVcdt_val\n",
    "#                 outVc[x,y]=outVc_val      \n",
    "#         for x in range(width):\n",
    "#             for y in range(height):\n",
    "#                 #parse the row linearly interpolated from lookup table with updated voltage\n",
    "#                 inCgate  = inmhjdfx[x,y]\n",
    "#                 outCgate = outmhjdfx[x,y]\n",
    "#                 Vc = outVc[x,y]; V  = Vc[0]\n",
    "#                 arr_interp=lookup_params(V,arr39)\n",
    "#                 # x_infty,tau_x,m_infty,tau_m,h_infty,tau_h,j_infty,tau_j,d_infty,tau_d,f_infty,tau_f,IK1T,x1,e1,em,eh,ej,ed,ef=arr_interp[1:]\n",
    "#                 IK1T=arr_interp[13]    # 'xttab', \n",
    "#                 x1=arr_interp[14]    # 'x1', \n",
    "\n",
    "#                 #full step the gating variables of step size dt (dt is encoded in arr39)\n",
    "#                 comp_exact_next_gating_var(inCgate,outCgate,arr_interp)\n",
    "\n",
    "#                 #half step voltage and calcium\n",
    "#                 dVcdt_val=comp_dVcdt(outVc, x, y, inCgate, IK1T, x1)\n",
    "#                 outVc_val=Vc+0.5*dt*dVcdt_val\n",
    "#                 outVc[x,y]=outVc_val\n",
    "\n",
    "#                 #record rate of change of voltage and calcium current\n",
    "#                 dVcdt[x,y]=dVcdt_val\n",
    "#                 inCgate=outCgate.copy()\n",
    "#         #copy out to in\n",
    "#         inmhjdfx=outmhjdfx.copy()\n",
    "#         outVc=inVc.copy()\n",
    "# #         t+=dt\n",
    "#     return dt, arr39, one_step_explicit_synchronous_splitting"
   ]
  },
  {
   "cell_type": "markdown",
   "metadata": {},
   "source": [
    "## DONE: Test the forward synchronous integration is stable"
   ]
  },
  {
   "cell_type": "code",
   "execution_count": null,
   "metadata": {
    "ExecuteTime": {
     "end_time": "2021-01-14T00:56:49.651655Z",
     "start_time": "2021-01-14T00:56:48.879757Z"
    }
   },
   "outputs": [],
   "source": [
    "#get one_step method\n",
    "dt=0.1\n",
    "dt, arr39, one_step = get_one_step_explicit_synchronous_splitting(nb_dir,dt=dt)"
   ]
  },
  {
   "cell_type": "code",
   "execution_count": null,
   "metadata": {
    "ExecuteTime": {
     "end_time": "2021-01-14T00:19:23.582616Z",
     "start_time": "2021-01-14T00:19:23.525156Z"
    }
   },
   "outputs": [],
   "source": [
    "#initialize simulation\n",
    "t=0.\n",
    "tf=2000.\n",
    "num_steps=int(tf/dt)\n",
    "input_file_name=f\"{nb_dir}/Data/test_data/test_txt.npz\"\n",
    "txt=load_buffer_LR(input_file_name, Ca_i_initial = 2*10**-4, Vmax = 45., Vmin = -75.)\n",
    "inVc=txt[...,(0,-1)].copy()\n",
    "inmhjdfx=txt[...,1:-1].copy()\n",
    "outVc=inVc.copy()\n",
    "dVcdt=inVc.copy()\n",
    "outmhjdfx=inmhjdfx.copy()"
   ]
  },
  {
   "cell_type": "code",
   "execution_count": null,
   "metadata": {
    "ExecuteTime": {
     "end_time": "2021-01-14T01:15:23.285986Z",
     "start_time": "2021-01-14T00:57:48.336542Z"
    }
   },
   "outputs": [],
   "source": [
    "tf=2000.\n",
    "num_steps=int(tf/dt)\n",
    "count=0\n",
    "for count in range(num_steps):\n",
    "    one_step(inVc,outVc,inmhjdfx,outmhjdfx,dVcdt)\n",
    "    t+=dt\n",
    "    count+=1\n",
    "    printProgressBar(count,num_steps)\n",
    "beep(1)\n"
   ]
  },
  {
   "cell_type": "code",
   "execution_count": null,
   "metadata": {
    "ExecuteTime": {
     "end_time": "2021-01-14T01:37:11.066762Z",
     "start_time": "2021-01-14T01:37:11.027624Z"
    }
   },
   "outputs": [],
   "source": [
    "# plt.imshow(inVc[...,0],cmap='gray')\n"
   ]
  },
  {
   "cell_type": "code",
   "execution_count": null,
   "metadata": {
    "ExecuteTime": {
     "end_time": "2021-01-14T01:37:14.257812Z",
     "start_time": "2021-01-14T01:37:14.231604Z"
    }
   },
   "outputs": [],
   "source": [
    "# @njit   \n",
    "def compute_all_spiral_tips(img,dimgdt,level1,level2,width=200,height=200):\n",
    "    #compute all spiral tips present\n",
    "    retval = find_intersections(img,dimgdt,level1,level2,theta_threshold=theta_threshold)\n",
    "    # level2=V_threshold\n",
    "    # retval = find_intersections(img1,img2,level1,level2,theta_threshold=theta_threshold)\n",
    "    lst_values_x,lst_values_y,lst_values_theta, lst_values_grad_ux, lst_values_grad_uy, lst_values_grad_vx, lst_values_grad_vy = retval\n",
    "    return format_spiral_tips(lst_values_x,lst_values_y,lst_values_theta, lst_values_grad_ux, \n",
    "                              lst_values_grad_uy, lst_values_grad_vx, lst_values_grad_vy) \n",
    "# @njit   \n",
    "def format_spiral_tips(lst_values_x,lst_values_y,lst_values_theta, lst_values_grad_ux, lst_values_grad_uy, lst_values_grad_vx, lst_values_grad_vy):  \n",
    "    x_values = np.array(lst_values_x)\n",
    "    y_values = np.array(lst_values_y)\n",
    "    # EP states given by bilinear interpolation with periodic boundary conditions\n",
    "    v_lst    = interpolate_img(x_values,y_values,width,height,img=img)\n",
    "    dvdt_lst = interpolate_img(x_values,y_values,width,height,img=dimgdt)\n",
    "\n",
    "    n_tips = x_values.size\n",
    "    dict_out = {\n",
    "        't': float(t),\n",
    "        'n': int(n_tips),\n",
    "        'x': list(lst_values_x),\n",
    "        'y': list(lst_values_y),\n",
    "        'theta': list(lst_values_theta),\n",
    "        'grad_ux': list(lst_values_grad_ux),\n",
    "        'grad_uy': list(lst_values_grad_uy),\n",
    "        'grad_vx': list(lst_values_grad_vx),\n",
    "        'grad_vy': list(lst_values_grad_vy),\n",
    "        'v':v_lst,\n",
    "        'dvdt':dvdt_lst,\n",
    "    }\n",
    "    return dict_out"
   ]
  },
  {
   "cell_type": "markdown",
   "metadata": {},
   "source": [
    "# TODO: test recording of spiral tips  at a particular voltage (forward euler method)"
   ]
  },
  {
   "cell_type": "code",
   "execution_count": 290,
   "metadata": {
    "ExecuteTime": {
     "end_time": "2021-01-14T10:47:39.309987Z",
     "start_time": "2021-01-14T10:47:37.440975Z"
    }
   },
   "outputs": [],
   "source": [
    "#DONE: retry from time t=200 with a larger time step\n",
    "\n",
    "dt=0.01\n",
    "h=0.1\n",
    "#get one_step method\n",
    "dt, arr39, one_step = get_one_step_explicit_synchronous_splitting(nb_dir,dt=dt)\n",
    "dt, one_step_map = get_one_step_map(nb_dir,dt)"
   ]
  },
  {
   "cell_type": "code",
   "execution_count": 313,
   "metadata": {
    "ExecuteTime": {
     "end_time": "2021-01-14T10:53:19.434441Z",
     "start_time": "2021-01-14T10:53:18.478199Z"
    }
   },
   "outputs": [],
   "source": [
    "#initialize simulation\n",
    "t=0.\n",
    "input_file_name=f\"{nb_dir}/Data/test_data/test_txt.npz\"\n",
    "txt=load_buffer_LR(input_file_name, Ca_i_initial = 2*10**-4, Vmax = 35., Vmin = -85.)\n",
    "#allocate memory\n",
    "inVc=txt[...,(0,-1)].copy()\n",
    "inmhjdfx=txt[...,1:-1].copy()\n",
    "outVc=inVc.copy()\n",
    "dVcdt=inVc.copy()\n",
    "outmhjdfx=inmhjdfx.copy()\n",
    "txt=stack_txt(inVc,outVc,inmhjdfx,outmhjdfx,dVcdt)\n",
    "# inVc,outVc,inmhjdfx,outmhjdfx,dVcdt=unstack_txt(txt)\n",
    "\n"
   ]
  },
  {
   "cell_type": "code",
   "execution_count": 314,
   "metadata": {
    "ExecuteTime": {
     "end_time": "2021-01-14T10:53:23.543024Z",
     "start_time": "2021-01-14T10:53:23.373764Z"
    }
   },
   "outputs": [
    {
     "name": "stdout",
     "output_type": "stream",
     "text": [
      "35.34669132254096\n"
     ]
    }
   ],
   "source": [
    "#compute all spiral tips present\n",
    "V_threshold=25.#mV\n",
    "level1=V_threshold\n",
    "# theta_threshold=0.\n",
    "level2=0.\n",
    "#take the first step\n",
    "one_step(inVc,outVc,inmhjdfx,outmhjdfx,dVcdt)\n",
    "t+=dt\n",
    "img=inVc[...,0]\n",
    "dimgdt=dVcdt[...,0]\n",
    "width=200;height=200\n",
    "dict_out=compute_all_spiral_tips(t,img,dimgdt,level1,level2,width=width,height=height)\n",
    "dict_out_instantaneous=dict_out\n",
    "print(np.max(inVc[...,0]))"
   ]
  },
  {
   "cell_type": "code",
   "execution_count": 315,
   "metadata": {
    "ExecuteTime": {
     "end_time": "2021-01-14T10:53:25.232690Z",
     "start_time": "2021-01-14T10:53:25.026912Z"
    }
   },
   "outputs": [
    {
     "name": "stdout",
     "output_type": "stream",
     "text": [
      "0 tips are present at time t=0.\n"
     ]
    },
    {
     "data": {
      "image/png": "[encoded data removed]",
      "text/plain": [
       "<Figure size 432x432 with 1 Axes>"
      ]
     },
     "metadata": {},
     "output_type": "display_data"
    }
   ],
   "source": [
    "x_values=np.array(dict_out['x'])\n",
    "y_values=np.array(dict_out['y'])\n",
    "c_values=np.array(dict_out['v'])\n",
    "print(f\"{dict_out['n']} tips are present at time t={int(t)}.\")\n",
    "fig = ShowDomain(img,dimgdt,x_values,y_values,c_values,V_threshold,t,inch=6,fontsize=16,vmin_img=-85.,vmax_img=35.,\n",
    "                 area=25,frameno=1,save_fn=None,save_folder=None,save=False,annotating=False,axis=[0,200,0,200])\n",
    "plt.show(fig)"
   ]
  },
  {
   "cell_type": "code",
   "execution_count": 316,
   "metadata": {
    "ExecuteTime": {
     "end_time": "2021-01-14T10:53:38.361195Z",
     "start_time": "2021-01-14T10:53:37.364918Z"
    }
   },
   "outputs": [],
   "source": [
    "#initialize simulation\n",
    "t=0.\n",
    "input_file_name=f\"{nb_dir}/Data/test_data/test_txt.npz\"\n",
    "txt=load_buffer_LR(input_file_name, Ca_i_initial = 2*10**-4, Vmax = 35., Vmin = -85.)\n",
    "#allocate memory\n",
    "inVc=txt[...,(0,-1)].copy()\n",
    "inmhjdfx=txt[...,1:-1].copy()\n",
    "outVc=inVc.copy()\n",
    "dVcdt=inVc.copy()\n",
    "outmhjdfx=inmhjdfx.copy()\n",
    "txt=stack_txt(inVc,outVc,inmhjdfx,outmhjdfx,dVcdt)\n",
    "# inVc,outVc,inmhjdfx,outmhjdfx,dVcdt=unstack_txt(txt)\n",
    "\n"
   ]
  },
  {
   "cell_type": "code",
   "execution_count": 322,
   "metadata": {
    "ExecuteTime": {
     "end_time": "2021-01-14T11:11:58.225904Z",
     "start_time": "2021-01-14T10:55:39.996060Z"
    }
   },
   "outputs": [
    {
     "name": "stdout",
     "output_type": "stream",
     "text": [
      "integrating to time t=100.000 ms without recording with dt=0.01 ms.\n",
      " |████████████████████████████████████████████████████████████████████████████████████████████████████| 100.0% \r"
     ]
    },
    {
     "data": {
      "text/plain": [
       "0"
      ]
     },
     "execution_count": 322,
     "metadata": {},
     "output_type": "execute_result"
    }
   ],
   "source": [
    "printing=True\n",
    "h=0.1\n",
    "#precompute anything that needs precomputing\n",
    "dt=h/10.\n",
    "tmax=100#25.#10.\n",
    "#get one_step method\n",
    "dt, one_step_map = get_one_step_map(nb_dir,dt)\n",
    "# txt=one_step_map(txt)\n",
    "num_steps=int((tmax-t)/dt)\n",
    "step_count=0\n",
    "if printing:\n",
    "    #print(f\"sigma is {sigma}, threshold is {threshold}.\")\n",
    "    #print(f\"pad is {pad}, rejection_distance is edge_tolerance is {edge_tolerance}.\")\n",
    "    print(f\"integrating to time t={tmax:.3f} ms without recording with dt={dt:.2f} ms.\")\n",
    "while (t<tmax):\n",
    "    txt=one_step_map(txt)\n",
    "    t+=dt\n",
    "    step_count+=1\n",
    "    printProgressBar(step_count,num_steps)\n",
    "#     if n_tips==0:\n",
    "#         print(f\"zero tips remaining at time t={t}!\")\n",
    "#         break\n",
    "beep(1)"
   ]
  },
  {
   "cell_type": "code",
   "execution_count": 323,
   "metadata": {
    "ExecuteTime": {
     "end_time": "2021-01-14T11:12:03.576388Z",
     "start_time": "2021-01-14T11:11:59.731224Z"
    }
   },
   "outputs": [
    {
     "name": "stdout",
     "output_type": "stream",
     "text": [
      "-0.0008908661348184998\n",
      "-0.005305501896522356\n",
      "79.29553199765797\n",
      "-113.48441701939954\n",
      "0.23228147785661524\n",
      "-0.14527958005140468\n",
      "0.9798455721738227\n",
      "-0.9994670392729137\n",
      "22.21468810004081\n",
      "-46.50441618307469\n"
     ]
    }
   ],
   "source": [
    "dt, arr39, one_step = get_one_step_explicit_synchronous_splitting(nb_dir,dt=dt)\n",
    "\n",
    "#check whether each field is getting updated\n",
    "inVc,outVc,inmhjdfx,outmhjdfx,dVcdt = unstack_txt(txt)\n",
    "txt_ic=load_buffer_LR(input_file_name, Ca_i_initial = 2*10**-4, Vmax = 30., Vmin = -100.)\n",
    "#allocate memory\n",
    "inVc_ic=txt_ic[...,(0,-1)].copy()\n",
    "inmhjdfx_ic=txt_ic[...,1:-1].copy()\n",
    "outVc_ic=inVc_ic.copy()\n",
    "dVcdt_ic=inVc_ic.copy()\n",
    "outmhjdfx_ic=inmhjdfx_ic.copy()\n",
    "one_step(inVc_ic,outVc_ic,inmhjdfx_ic,outmhjdfx_ic,dVcdt_ic)\n",
    "\n",
    "print(np.max((inVc-inVc_ic)[...,1]))\n",
    "print(np.min((inVc-inVc_ic)[...,1]))\n",
    "print(np.max(outVc-outVc_ic))\n",
    "print(np.min(outVc-outVc_ic))\n",
    "print(np.max((inmhjdfx-inmhjdfx_ic)[...,5]))\n",
    "print(np.min((inmhjdfx-inmhjdfx_ic)[...,5]))\n",
    "print(np.max(outmhjdfx-outmhjdfx_ic))\n",
    "print(np.min(outmhjdfx-outmhjdfx_ic))\n",
    "print(np.max(dVcdt-dVcdt_ic))\n",
    "print(np.min(dVcdt-dVcdt_ic))"
   ]
  },
  {
   "cell_type": "code",
   "execution_count": 324,
   "metadata": {
    "ExecuteTime": {
     "end_time": "2021-01-14T11:12:05.028196Z",
     "start_time": "2021-01-14T11:12:04.999617Z"
    }
   },
   "outputs": [
    {
     "name": "stdout",
     "output_type": "stream",
     "text": [
      "-13.27751006650329\n"
     ]
    }
   ],
   "source": [
    "#update texture namespace\n",
    "# inVc,outVc,inmhjdfx,outmhjdfx,dVcdt=unstack_txt(txt)\n",
    "# txt=stack_txt(inVc,outVc,inmhjdfx,outmhjdfx,dVcdt)\n",
    "print(np.max(inVc[...,0]))\n",
    "# dt"
   ]
  },
  {
   "cell_type": "code",
   "execution_count": 325,
   "metadata": {
    "ExecuteTime": {
     "end_time": "2021-01-14T11:12:06.813497Z",
     "start_time": "2021-01-14T11:12:06.425029Z"
    }
   },
   "outputs": [],
   "source": [
    "#compute all spiral tips present\n",
    "V_threshold=20.#10.#0.#mV\n",
    "level1=V_threshold\n",
    "# theta_threshold=0.\n",
    "level2=0.\n",
    "\n",
    "#update texture namespace\n",
    "inVc,outVc,inmhjdfx,outmhjdfx,dVcdt=unstack_txt(txt)\n",
    "# txt=stack_txt(inVc,outVc,inmhjdfx,outmhjdfx,dVcdt)\n",
    "\n",
    "img=inVc[...,0]\n",
    "dimgdt=dVcdt[...,0]\n",
    "width=200;height=200\n",
    "dict_out=compute_all_spiral_tips(t,img,dimgdt,level1,level2,width=width,height=height)\n",
    "dict_out_instantaneous=dict_out"
   ]
  },
  {
   "cell_type": "code",
   "execution_count": 326,
   "metadata": {
    "ExecuteTime": {
     "end_time": "2021-01-14T11:12:08.380938Z",
     "start_time": "2021-01-14T11:12:08.229970Z"
    }
   },
   "outputs": [
    {
     "name": "stdout",
     "output_type": "stream",
     "text": [
      "0 tips are present at time t=100.\n"
     ]
    },
    {
     "data": {
      "image/png": "[encoded data removed]",
      "text/plain": [
       "<Figure size 432x432 with 1 Axes>"
      ]
     },
     "metadata": {},
     "output_type": "display_data"
    }
   ],
   "source": [
    "x_values=np.array(dict_out['x'])\n",
    "y_values=np.array(dict_out['y'])\n",
    "c_values=np.array(dict_out['v'])\n",
    "n_tips=dict_out['n']\n",
    "print(f\"{n_tips} tips are present at time t={int(t)}.\")\n",
    "fig = ShowDomain(img,dimgdt,x_values,y_values,c_values,V_threshold,t,inch=6,fontsize=16,vmin_img=-85.,vmax_img=35.,\n",
    "                 area=25,frameno=1,save_fn=None,save_folder=None,save=False,annotating=False,axis=[0,200,0,200])\n",
    "plt.show(fig)"
   ]
  },
  {
   "cell_type": "code",
   "execution_count": 139,
   "metadata": {
    "ExecuteTime": {
     "end_time": "2021-01-14T07:58:28.474233Z",
     "start_time": "2021-01-14T07:58:28.450221Z"
    }
   },
   "outputs": [],
   "source": [
    "#save texture at this time t\n",
    "save=False\n",
    "if save:\n",
    "#     txt=stack_txt(inVc,outVc,inmhjdfx,outmhjdfx,dVcdt)\n",
    "    save_img_fn=f\"{nb_dir}/Data/test_data/test_txt_LR_euler_t_{int(t)}.npz\"\n",
    "    #     img_out=txt#np.stack([img,dimgdt]).T\n",
    "    np.savez_compressed(save_img_fn,[txt])"
   ]
  },
  {
   "cell_type": "code",
   "execution_count": 201,
   "metadata": {
    "ExecuteTime": {
     "end_time": "2021-01-14T08:40:46.230913Z",
     "start_time": "2021-01-14T08:40:46.206116Z"
    }
   },
   "outputs": [
    {
     "data": {
      "text/plain": [
       "12.098689343212394"
      ]
     },
     "execution_count": 201,
     "metadata": {},
     "output_type": "execute_result"
    }
   ],
   "source": [
    "np.max(img)"
   ]
  },
  {
   "cell_type": "code",
   "execution_count": 94,
   "metadata": {
    "ExecuteTime": {
     "end_time": "2021-01-14T04:26:31.410060Z",
     "start_time": "2021-01-14T04:26:28.855840Z"
    }
   },
   "outputs": [],
   "source": [
    "dt, arr39, one_step_method = get_one_step_explicit_synchronous_splitting(nb_dir,dt)\n",
    "\n",
    "txt=stack_txt(inVc,outVc,inmhjdfx,outmhjdfx,dVcdt)\n",
    "# inVc,outVc,inmhjdfx,outmhjdfx,dVcdt = unstack_txt(txt)\n",
    "txt=stack_txt(inVc,outVc,inmhjdfx,outmhjdfx,dVcdt)\n",
    "one_step_method(inVc,outVc,inmhjdfx,outmhjdfx,dVcdt)\n",
    "# txt_nxt=\n",
    "# stack_txt(inVc,outVc,inmhjdfx,outmhjdfx,dVcdt)"
   ]
  },
  {
   "cell_type": "code",
   "execution_count": 105,
   "metadata": {
    "ExecuteTime": {
     "end_time": "2021-01-14T04:32:03.241139Z",
     "start_time": "2021-01-14T04:32:02.437824Z"
    }
   },
   "outputs": [
    {
     "name": "stdout",
     "output_type": "stream",
     "text": [
      "\r",
      " |----------------------------------------------------------------------------------------------------| 0.0% \r",
      "zero tips remaining at time t=100.53000000000027!\n"
     ]
    },
    {
     "data": {
      "text/plain": [
       "0"
      ]
     },
     "execution_count": 105,
     "metadata": {},
     "output_type": "execute_result"
    }
   ],
   "source": [
    "#forward euler explicit synchronous integration\n",
    "tf=1000.\n",
    "tmax=tf\n",
    "save_every_n_frames=10.\n",
    "V_threshold=25.#mV0.#-37.#mV\n",
    "level1=V_threshold; level2=0.\n",
    "num_steps=int(tf/dt)\n",
    "step_count=0\n",
    "n_tips_lst=[];t_lst=[];dict_out_lst=[]\n",
    "save_dict_every=100\n",
    "n_tips=1\n",
    "while (t<tmax) & (n_tips > 0):\n",
    "    if step_count%save_every_n_frames != 0:\n",
    "        #forward Euler integration in time\n",
    "        txt=one_step_map(txt)\n",
    "    else:   \n",
    "\n",
    "        #compute tip locations in dict_out\n",
    "        #update texture namespace\n",
    "        inVc,outVc,inmhjdfx,outmhjdfx,dVcdt=unstack_txt(txt)\n",
    "        txt=stack_txt(inVc,outVc,inmhjdfx,outmhjdfx,dVcdt)\n",
    "        img=inVc[...,0]\n",
    "        dimgdt=dVcdt[...,0]\n",
    "        dict_out=compute_all_spiral_tips(t,img,dimgdt,level1,level2)#,width=width,height=height)\n",
    "\n",
    "        #save tip data\n",
    "        n_tips=dict_out['n']\n",
    "        n_tips_lst.append(n_tips)\n",
    "        t_lst.append(t)\n",
    "        #         if count%save_dict_every==0:\n",
    "        dict_out_lst.append(dict_out)\n",
    "    \n",
    "        #integrate by dt\n",
    "        txt=one_step_map(txt)\n",
    "    t+=dt\n",
    "    step_count+=1\n",
    "    printProgressBar(step_count,num_steps)\n",
    "    if n_tips==0:\n",
    "        print(f\"zero tips remaining at time t={t}!\")\n",
    "        break\n",
    "beep(3)"
   ]
  },
  {
   "cell_type": "code",
   "execution_count": null,
   "metadata": {
    "ExecuteTime": {
     "end_time": "2021-01-14T04:45:07.727480Z",
     "start_time": "2021-01-14T04:44:14.967Z"
    }
   },
   "outputs": [],
   "source": [
    "n_tips"
   ]
  },
  {
   "cell_type": "code",
   "execution_count": null,
   "metadata": {
    "ExecuteTime": {
     "end_time": "2021-01-14T03:09:04.901003Z",
     "start_time": "2021-01-14T03:09:04.686216Z"
    }
   },
   "outputs": [],
   "source": [
    "img=inVc[...,0]\n",
    "dimgdt=dVcdt[...,0]\n",
    "\n",
    "x_values=np.array(dict_out['x'])\n",
    "y_values=np.array(dict_out['y'])\n",
    "c_values=np.array(dict_out['v'])\n",
    "fig = ShowDomain(img,dimgdt,x_values,y_values,c_values,V_threshold,t,inch=6,fontsize=16,vmin_img=-85.,vmax_img=35.,\n",
    "                 area=25,frameno=1,save_fn=None,save_folder=None,save=False,annotating=False,axis=[0,200,0,200])\n",
    "plt.show(fig)\n",
    "print(f\"{dict_out['n']} tips are present at time {int(t)}.\")"
   ]
  },
  {
   "cell_type": "code",
   "execution_count": null,
   "metadata": {
    "ExecuteTime": {
     "end_time": "2021-01-14T02:55:22.120071Z",
     "start_time": "2021-01-14T02:55:22.080740Z"
    }
   },
   "outputs": [],
   "source": [
    "#save texture at this time t\n",
    "save=True\n",
    "if save:\n",
    "    txt=stack_txt(inVc,outVc,inmhjdfx,outmhjdfx,dVcdt)\n",
    "    save_img_fn=f\"{nb_dir}/Data/test_data/test_txt_LR_euler_t_{int(t)}.npz\"\n",
    "    #     img_out=txt#np.stack([img,dimgdt]).T\n",
    "    np.savez_compressed(save_img_fn,[txt])\n",
    "\n",
    "#for asynchronous integration\n",
    "#def ...kernel(txt)\n",
    "#read element variables\n",
    "#interpolate parameters from lookup_table\n",
    "#half step voltage and calcium\n",
    "#full step gating variables\n",
    "# comp_exact_next_gating_var(inCgate,outCgate,arr_interp)\n",
    "#half step voltage and calcium\n",
    "# Iion, dCa_i_dt=comp_ionic_flux(inCgate,arr_interp)\n",
    "#compute next time step\n",
    "#push element to priority queue "
   ]
  },
  {
   "cell_type": "code",
   "execution_count": null,
   "metadata": {},
   "outputs": [],
   "source": []
  },
  {
   "cell_type": "code",
   "execution_count": 11,
   "metadata": {
    "ExecuteTime": {
     "end_time": "2021-01-14T05:06:26.888329Z",
     "start_time": "2021-01-14T05:06:26.865695Z"
    }
   },
   "outputs": [],
   "source": [
    "# #initialize simulation\n",
    "# t=100\n",
    "# num_steps=int(tf/dt)\n",
    "# input_file_name=f\"{nb_dir}/Data/test_data/test_txt_LR_euler_t_100.npz\"\n",
    "# txt=load_buffer_LR(input_file_name, Ca_i_initial = 2*10**-4, Vmax = 45., Vmin = -75.)\n",
    "# inVc=txt[...,(0,-1)].copy()\n",
    "# inmhjdfx=txt[...,1:-1].copy()\n",
    "# outVc=inVc.copy()\n",
    "# dVcdt=inVc.copy()\n",
    "# outmhjdfx=inmhjdfx.copy()\n"
   ]
  },
  {
   "cell_type": "markdown",
   "metadata": {},
   "source": [
    "\n"
   ]
  },
  {
   "cell_type": "code",
   "execution_count": null,
   "metadata": {
    "ExecuteTime": {
     "end_time": "2021-01-14T02:10:11.056892Z",
     "start_time": "2021-01-14T02:10:10.829610Z"
    }
   },
   "outputs": [],
   "source": [
    "#TODO: test the explicit_synchronous_splitting_one_step_kernel as is for stability\n",
    "# one_step_explicit_synchronous_splitting(inVc,outVc,inmhjdfx,outmhjdfx,dVcdt,dt,arr39)\n",
    "# t+=dt\n",
    "#TODO?: if ^that's unstable at dt=0.1, try again making use of the IMR\n",
    "#TODO: if ^that's still unstable, consider asynchronous integration.  this would require splitting 3 task types, hence 3 priority queues\n",
    "dimg=(img_out_new-img_out)[...,0]\n",
    "\n",
    "plt.hist(dimg.flatten())\n",
    "plt.xlabel('change in voltage (mV)')\n",
    "plt.show()"
   ]
  },
  {
   "cell_type": "markdown",
   "metadata": {},
   "source": [
    "# is the simulation already stable at dt=0.1 for t>100? yes."
   ]
  },
  {
   "cell_type": "markdown",
   "metadata": {},
   "source": [
    "# TODO: check that the simulation is moving at a reasonable time scale"
   ]
  },
  {
   "cell_type": "markdown",
   "metadata": {},
   "source": [
    "# TODO: dev dormand-prince method"
   ]
  },
  {
   "cell_type": "code",
   "execution_count": null,
   "metadata": {
    "ExecuteTime": {
     "end_time": "2021-01-14T02:03:22.461128Z",
     "start_time": "2021-01-14T02:03:22.433348Z"
    }
   },
   "outputs": [],
   "source": [
    "# def get_comp_flow_map(nb_dir,dt):\n",
    "#     dt, arr39, one_step = get_one_step_explicit_synchronous_splitting(nb_dir,dt)\n",
    "#     @njit\n",
    "#     def comp_flow_map(txt):\n",
    "#         #unstack txt\n",
    "#         inVc,outVc,inmhjdfx,outmhjdfx,dVcdt = unstack_txt(txt)\n",
    "#         #integrate by dt\n",
    "#         one_step(inVc,outVc,inmhjdfx,outmhjdfx,dVcdt)\n",
    "# #         t+=dt\n",
    "#         #stack txt\n",
    "#         txt_nxt=stack_txt(inVc,outVc,inmhjdfx,outmhjdfx,dVcdt)\n",
    "#         return txt_nxt\n",
    "#     return comp_flow_map\n",
    "# @njit\n",
    "# def unstack_txt(txt):\n",
    "#     inVc=txt[...,0:2]\n",
    "#     outVc=txt[...,2:4]\n",
    "#     inmhjdfx=txt[...,4:10]\n",
    "#     outmhjdfx=txt[...,10:14]\n",
    "#     dVcdt=txt[...,14:16]\n",
    "#     return inVc,outVc,inmhjdfx,outmhjdfx,dVcdt\n",
    "# @njit\n",
    "# def stack_txt(inVc,outVc,inmhjdfx,outmhjdfx,dVcdt):\n",
    "#     txt=np.stack((\n",
    "#         inVc[...,0],\n",
    "#         inVc[...,1],\n",
    "#         outVc[...,0],\n",
    "#         outVc[...,1],\n",
    "#         inmhjdfx[...,0],\n",
    "#         inmhjdfx[...,1],\n",
    "#         inmhjdfx[...,2],\n",
    "#         inmhjdfx[...,3],\n",
    "#         inmhjdfx[...,4],\n",
    "#         inmhjdfx[...,5],\n",
    "#         outmhjdfx[...,0],\n",
    "#         outmhjdfx[...,1],\n",
    "#         outmhjdfx[...,2],\n",
    "#         outmhjdfx[...,3],\n",
    "#         outmhjdfx[...,4],\n",
    "#         outmhjdfx[...,5],\n",
    "#         dVcdt[...,0],\n",
    "#         dVcdt[...,1]\n",
    "#     )).T\n",
    "#     return txt"
   ]
  },
  {
   "cell_type": "code",
   "execution_count": null,
   "metadata": {
    "ExecuteTime": {
     "end_time": "2021-01-14T02:55:22.136379Z",
     "start_time": "2021-01-14T02:36:04.731Z"
    }
   },
   "outputs": [],
   "source": [
    "#for each dti=dt*ci for ci listed in the dormand-prince method\n",
    "C = np.array([0, 1/5, 3/10, 4/5, 8/9, 1])\n",
    "\n",
    "dt=0.01\n",
    "#get one_step method\n",
    "dt, arr39, one_step = get_one_step_explicit_synchronous_splitting(nb_dir,dt=dt)\n",
    "one_step0 = lambda x:x\n",
    "dt2, _, one_step1 = get_one_step_explicit_synchronous_splitting(nb_dir,dt=C[1]*dt)\n",
    "dt3, _, one_step2 = get_one_step_explicit_synchronous_splitting(nb_dir,dt=C[2]*dt)\n",
    "dt4, _, one_step3 = get_one_step_explicit_synchronous_splitting(nb_dir,dt=C[3]*dt)\n",
    "dt5, _, one_step4 = get_one_step_explicit_synchronous_splitting(nb_dir,dt=C[4]*dt)\n",
    "dt6, _, one_step5 = get_one_step_explicit_synchronous_splitting(nb_dir,dt=C[5]*dt)"
   ]
  },
  {
   "cell_type": "code",
   "execution_count": null,
   "metadata": {
    "ExecuteTime": {
     "end_time": "2021-01-14T02:03:24.519134Z",
     "start_time": "2021-01-14T02:03:23.712266Z"
    }
   },
   "outputs": [],
   "source": [
    "comp_flow_map=get_comp_flow_map(nb_dir,dt)"
   ]
  },
  {
   "cell_type": "code",
   "execution_count": null,
   "metadata": {
    "ExecuteTime": {
     "end_time": "2021-01-14T02:03:29.456605Z",
     "start_time": "2021-01-14T02:03:24.858463Z"
    }
   },
   "outputs": [],
   "source": [
    "\n",
    "\n",
    "\n",
    "txt=stack_txt(inVc,outVc,inmhjdfx,outmhjdfx,dVcdt)\n",
    "txt_nxt=comp_flow_map(txt)\n",
    "t+=dt"
   ]
  },
  {
   "cell_type": "code",
   "execution_count": null,
   "metadata": {
    "ExecuteTime": {
     "end_time": "2021-01-14T02:14:44.462515Z",
     "start_time": "2021-01-14T02:14:44.365865Z"
    }
   },
   "outputs": [],
   "source": [
    "txt=txt_nxt.copy()\n",
    "txt_nxt=comp_flow_map(txt)\n",
    "t+=dt\n"
   ]
  },
  {
   "cell_type": "code",
   "execution_count": null,
   "metadata": {
    "ExecuteTime": {
     "end_time": "2021-01-14T02:14:46.400499Z",
     "start_time": "2021-01-14T02:14:46.370807Z"
    }
   },
   "outputs": [],
   "source": [
    "np.max(txt-txt_nxt)"
   ]
  },
  {
   "cell_type": "code",
   "execution_count": null,
   "metadata": {
    "ExecuteTime": {
     "end_time": "2021-01-14T02:55:22.163250Z",
     "start_time": "2021-01-14T02:51:33.677Z"
    }
   },
   "outputs": [],
   "source": [
    "1"
   ]
  },
  {
   "cell_type": "code",
   "execution_count": null,
   "metadata": {
    "ExecuteTime": {
     "end_time": "2021-01-14T03:07:54.837787Z",
     "start_time": "2021-01-14T03:07:54.807816Z"
    }
   },
   "outputs": [],
   "source": [
    "1"
   ]
  },
  {
   "cell_type": "markdown",
   "metadata": {
    "ExecuteTime": {
     "end_time": "2021-01-11T18:54:09.490258Z",
     "start_time": "2021-01-11T18:54:09.457454Z"
    }
   },
   "source": [
    "# TODO: plot Iion versus V for several dVdt fixed, sampling from the texture after time stepping for 100ms stabily\n",
    "- TODO: compute dVdt_ion = I_ion/C_m = bilinear_interpolation( V, dVdt, lookup_table)"
   ]
  },
  {
   "cell_type": "markdown",
   "metadata": {},
   "source": [
    "# adaptive time stepping appears to not be necessary for stability.  making spiral waves is the real limiting reagent... "
   ]
  },
  {
   "cell_type": "code",
   "execution_count": null,
   "metadata": {},
   "outputs": [],
   "source": []
  }
 ],
 "metadata": {
  "kernelspec": {
   "display_name": "Python 3",
   "language": "python",
   "name": "python3"
  },
  "language_info": {
   "codemirror_mode": {
    "name": "ipython",
    "version": 3
   },
   "file_extension": ".py",
   "mimetype": "text/x-python",
   "name": "python",
   "nbconvert_exporter": "python",
   "pygments_lexer": "ipython3",
   "version": "3.8.6"
  },
  "varInspector": {
   "cols": {
    "lenName": 16,
    "lenType": 16,
    "lenVar": 40
   },
   "kernels_config": {
    "python": {
     "delete_cmd_postfix": "",
     "delete_cmd_prefix": "del ",
     "library": "var_list.py",
     "varRefreshCmd": "print(var_dic_list())"
    },
    "r": {
     "delete_cmd_postfix": ") ",
     "delete_cmd_prefix": "rm(",
     "library": "var_list.r",
     "varRefreshCmd": "cat(var_dic_list()) "
    }
   },
   "types_to_exclude": [
    "module",
    "function",
    "builtin_function_or_method",
    "instance",
    "_Feature"
   ],
   "window_display": false
  }
 },
 "nbformat": 4,
 "nbformat_minor": 4
}
