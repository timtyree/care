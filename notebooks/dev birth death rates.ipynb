{
 "cells": [
  {
   "cell_type": "markdown",
   "metadata": {},
   "source": [
    "# dev birth death rates\n",
    "Tim Tyree<br>\n",
    "10.2.2020"
   ]
  },
  {
   "cell_type": "code",
   "execution_count": 66,
   "metadata": {
    "ExecuteTime": {
     "end_time": "2020-11-02T18:04:22.061953Z",
     "start_time": "2020-11-02T18:04:22.027083Z"
    }
   },
   "outputs": [
    {
     "name": "stdout",
     "output_type": "stream",
     "text": [
      "Automatic calling is: Smart\n",
      "The autoreload extension is already loaded. To reload it, use:\n",
      "  %reload_ext autoreload\n"
     ]
    }
   ],
   "source": [
    "#pylab\n",
    "%matplotlib inline\n",
    "import numpy as np, pandas as pd, matplotlib.pyplot as plt\n",
    "from pylab import imshow, show\n",
    "\n",
    "#automate the boring stuff\n",
    "from IPython import utils\n",
    "import time, os, sys, re\n",
    "beep = lambda x: os.system(\"echo -n '\\\\a';sleep 0.2;\" * x)\n",
    "if not 'nb_dir' in globals():\n",
    "    nb_dir = os.getcwd()\n",
    "\n",
    "# #load the libraries\n",
    "from lib import *\n",
    "\n",
    "%autocall 1\n",
    "%load_ext autoreload\n",
    "%autoreload 2"
   ]
  },
  {
   "cell_type": "markdown",
   "metadata": {},
   "source": [
    "# load a file of data.  Get n_tips versus time for one time series\n",
    "- (optionally) kill_all_odd_rows\n",
    "- check for old bdrates routine\n",
    "- (re)make a routine mapping one log to one bdrates.csv. store in lib.routines\n",
    "- daskbag a folder with ^this routine.  make this functional"
   ]
  },
  {
   "cell_type": "code",
   "execution_count": 81,
   "metadata": {
    "ExecuteTime": {
     "end_time": "2020-11-02T18:07:42.703149Z",
     "start_time": "2020-11-02T18:07:42.672218Z"
    }
   },
   "outputs": [],
   "source": [
    "# def birth_death_rates_from_log(input_file_name, data_dir_bdrates, \n",
    "#                                col_n = 'n', col_t = 't', \n",
    "#                                kill_all_odd_rows = True, \n",
    "#                                min_time = 1000, printing = True):\n",
    "#     df = pd.read_csv(input_file_name)\n",
    "\n",
    "#     if kill_all_odd_rows:\n",
    "#         df.drop(df[df[col_n]%2==1].index, inplace=True)\n",
    "#         assert(~(df[col_n]%2==1).values.any())\n",
    "#     boo = df[col_t]>=min_time\n",
    "#     df = df[boo]\n",
    "\n",
    "#     n_series = df[col_n]\n",
    "#     t_series = df[col_t]\n",
    "\n",
    "#     any_tips_observed = (n_series > 0).any()\n",
    "\n",
    "#     #if there were not any tips observed, don't make a .csv in bdrates and return False\n",
    "#     if not any_tips_observed:\n",
    "#         if printing:\n",
    "#             print('no birth-death event was detected!')\n",
    "#         return False\n",
    "#     else:\n",
    "#         #store as a pandas.DataFrame\n",
    "#         df = compute_bdrates(n_series,t_series)\n",
    "#         df.to_csv(data_dir_bdrates, index=False)\n",
    "#         return True"
   ]
  },
  {
   "cell_type": "code",
   "execution_count": 110,
   "metadata": {
    "ExecuteTime": {
     "end_time": "2020-11-04T17:56:07.937476Z",
     "start_time": "2020-11-04T17:56:07.903054Z"
    }
   },
   "outputs": [],
   "source": [
    "def compute_bdrates(n_series,t_series):\n",
    "    df = pd.DataFrame({\"t\":t_series.values,\"n\":n_series.values})\n",
    "    #compute birth death rates\n",
    "    df['dn'] = df.n.diff().shift(-1)\n",
    "    df = df.query('dn != 0').copy()\n",
    "    rates = 1/df['t'].diff().shift(-1).dropna() # birth death rates in unites of 1/ms\n",
    "    df['rates'] = rates\n",
    "    # df.dropna(inplace=True) #this gets rid of the termination time datum.  we want that!\n",
    "    df.index.rename('index', inplace=True)\n",
    "    return df"
   ]
  },
  {
   "cell_type": "code",
   "execution_count": 114,
   "metadata": {
    "ExecuteTime": {
     "end_time": "2020-11-04T17:58:31.936763Z",
     "start_time": "2020-11-04T17:57:08.355976Z"
    }
   },
   "outputs": [
    {
     "name": "stdout",
     "output_type": "stream",
     "text": [
      "File: /Users/timothytyree/Documents/GitHub/care/notebooks/Figures/methods/example_birth_deaths_V_0.6_ic_200x200.120.32_t_0_2e+03.csv\n"
     ]
    }
   ],
   "source": [
    "input_file_name = search_for_file()"
   ]
  },
  {
   "cell_type": "code",
   "execution_count": 115,
   "metadata": {
    "ExecuteTime": {
     "end_time": "2020-11-04T17:59:24.006213Z",
     "start_time": "2020-11-04T17:59:23.982400Z"
    }
   },
   "outputs": [],
   "source": [
    "# #V_0.4\n",
    "# input_file_name = \"/Users/timothytyree/Documents/GitHub/care/notebooks/Figures/methods/example_birth_deaths_V_0.4_ic_200x200.120.32_t_0_2e+03.csv\"\n",
    "# data_dir_bdrates = \"/Users/timothytyree/Documents/GitHub/care/notebooks/Figures/methods/example_bdrates_V_0.4_ic_200x200.120.32_t_0_2e+03.csv\"\n",
    "\n",
    "\n",
    "#V_0.6\n",
    "input_file_name = \"/Users/timothytyree/Documents/GitHub/care/notebooks/Figures/methods/example_birth_deaths_V_0.6_ic_200x200.120.32_t_0_2e+03.csv\"\n",
    "data_dir_bdrates = \"/Users/timothytyree/Documents/GitHub/care/notebooks/Figures/methods/example_bdrates_V_0.4_ic_200x200.120.32_t_0_2e+03.csv\"\n",
    "\n",
    "\n",
    "\n",
    "\n"
   ]
  },
  {
   "cell_type": "code",
   "execution_count": 116,
   "metadata": {
    "ExecuteTime": {
     "end_time": "2020-11-04T17:59:25.739856Z",
     "start_time": "2020-11-04T17:59:25.693682Z"
    }
   },
   "outputs": [],
   "source": [
    "df = pd.read_csv(input_file_name)"
   ]
  },
  {
   "cell_type": "code",
   "execution_count": 117,
   "metadata": {
    "ExecuteTime": {
     "end_time": "2020-11-04T17:59:26.160037Z",
     "start_time": "2020-11-04T17:59:26.124328Z"
    }
   },
   "outputs": [],
   "source": [
    "df.drop(df[df.n%2==1].index, inplace=True)"
   ]
  },
  {
   "cell_type": "code",
   "execution_count": 118,
   "metadata": {
    "ExecuteTime": {
     "end_time": "2020-11-04T17:59:29.213631Z",
     "start_time": "2020-11-04T17:59:29.162801Z"
    }
   },
   "outputs": [],
   "source": [
    "\n",
    "# input_file_name = \"/Users/timothytyree/Documents/GitHub/care/notebooks/Figures/methods/example_birth_deaths_ic_200x200.120.32_t_0_6e+03.csv\"\n",
    "# data_dir_bdrates = \"/Users/timothytyree/Documents/GitHub/care/notebooks/Figures/methods/example_bdrates_ic_200x200.120.32_t_0_6e+03.csv\"\n",
    "\n",
    "retval = birth_death_rates_from_log(input_file_name, data_dir_bdrates)"
   ]
  },
  {
   "cell_type": "code",
   "execution_count": 119,
   "metadata": {
    "ExecuteTime": {
     "end_time": "2020-11-04T17:59:30.672227Z",
     "start_time": "2020-11-04T17:59:30.652591Z"
    }
   },
   "outputs": [],
   "source": [
    "n_series = df['n']\n",
    "t_series = df['t']"
   ]
  },
  {
   "cell_type": "code",
   "execution_count": 120,
   "metadata": {
    "ExecuteTime": {
     "end_time": "2020-11-04T18:00:22.543550Z",
     "start_time": "2020-11-04T18:00:22.514461Z"
    }
   },
   "outputs": [],
   "source": [
    "df = compute_bdrates(n_series,t_series)"
   ]
  },
  {
   "cell_type": "code",
   "execution_count": 121,
   "metadata": {
    "ExecuteTime": {
     "end_time": "2020-11-04T18:00:23.331241Z",
     "start_time": "2020-11-04T18:00:23.034919Z"
    }
   },
   "outputs": [
    {
     "data": {
      "image/png": "[encoded data removed]",
      "text/plain": [
       "<Figure size 432x360 with 1 Axes>"
      ]
     },
     "metadata": {
      "needs_background": "light"
     },
     "output_type": "display_data"
    }
   ],
   "source": [
    "log_scale = False\n",
    "fontsize=20\n",
    "figsize=(6,5)\n",
    "fig, ax = plt.subplots(figsize=figsize)\n",
    "\n",
    "x_values = df.query('dn==2').n/2\n",
    "y_values = df.query('dn==2').rates\n",
    "ax.scatter(x=x_values,y=y_values, c='g', label='$W_{+2}$')\n",
    "\n",
    "x_values = df.query('dn==-2').n/2\n",
    "y_values = df.query('dn==-2').rates\n",
    "ax.scatter(x=x_values,y=y_values, c='r', label='$W_{-2}$')\n",
    "\n",
    "ax.legend(fontsize=fontsize-8)\n",
    "ax.set_xlabel('n/2', fontsize=fontsize)\n",
    "ax.set_ylabel('rate (ms$^{-1}$)', fontsize=fontsize)\n",
    "plt.show()"
   ]
  },
  {
   "cell_type": "markdown",
   "metadata": {
    "ExecuteTime": {
     "end_time": "2020-11-02T17:53:53.748373Z",
     "start_time": "2020-11-02T17:53:53.725061Z"
    }
   },
   "source": [
    "*Question for WJ*: Roughly how much time between two of your observations?"
   ]
  },
  {
   "cell_type": "markdown",
   "metadata": {},
   "source": [
    "# TODO: investigate these high freq birth deaths\n",
    "1. identify the first time after 500 where a birth over 35/ms occurs\n",
    "1. goto dev curve intersection and plot it\n",
    "1. put it all in a openoffice draw file for group meeting! Quick!\n"
   ]
  },
  {
   "cell_type": "code",
   "execution_count": 90,
   "metadata": {
    "ExecuteTime": {
     "end_time": "2020-11-02T18:11:38.730825Z",
     "start_time": "2020-11-02T18:11:38.704115Z"
    }
   },
   "outputs": [
    {
     "data": {
      "text/plain": [
       "index\n",
       "81023     3025.600\n",
       "81431     3035.800\n",
       "83259     3081.500\n",
       "194454    5861.375\n",
       "Name: t, dtype: float64"
      ]
     },
     "execution_count": 90,
     "metadata": {},
     "output_type": "execute_result"
    }
   ],
   "source": [
    "df[df.rates>35].t"
   ]
  },
  {
   "cell_type": "code",
   "execution_count": 92,
   "metadata": {
    "ExecuteTime": {
     "end_time": "2020-11-02T18:11:52.327232Z",
     "start_time": "2020-11-02T18:11:52.304540Z"
    }
   },
   "outputs": [],
   "source": [
    "t_target = 3025.600"
   ]
  },
  {
   "cell_type": "code",
   "execution_count": 101,
   "metadata": {
    "ExecuteTime": {
     "end_time": "2020-11-02T18:50:16.790933Z",
     "start_time": "2020-11-02T18:50:16.755758Z"
    }
   },
   "outputs": [
    {
     "data": {
      "text/html": [
       "<div>\n",
       "<style scoped>\n",
       "    .dataframe tbody tr th:only-of-type {\n",
       "        vertical-align: middle;\n",
       "    }\n",
       "\n",
       "    .dataframe tbody tr th {\n",
       "        vertical-align: top;\n",
       "    }\n",
       "\n",
       "    .dataframe thead th {\n",
       "        text-align: right;\n",
       "    }\n",
       "</style>\n",
       "<table border=\"1\" class=\"dataframe\">\n",
       "  <thead>\n",
       "    <tr style=\"text-align: right;\">\n",
       "      <th></th>\n",
       "      <th>t</th>\n",
       "      <th>n</th>\n",
       "      <th>dn</th>\n",
       "      <th>rates</th>\n",
       "    </tr>\n",
       "    <tr>\n",
       "      <th>index</th>\n",
       "      <th></th>\n",
       "      <th></th>\n",
       "      <th></th>\n",
       "      <th></th>\n",
       "    </tr>\n",
       "  </thead>\n",
       "  <tbody>\n",
       "    <tr>\n",
       "      <th>81023</th>\n",
       "      <td>3025.600</td>\n",
       "      <td>14</td>\n",
       "      <td>2.0</td>\n",
       "      <td>40.000000</td>\n",
       "    </tr>\n",
       "    <tr>\n",
       "      <th>81024</th>\n",
       "      <td>3025.625</td>\n",
       "      <td>16</td>\n",
       "      <td>2.0</td>\n",
       "      <td>20.000000</td>\n",
       "    </tr>\n",
       "    <tr>\n",
       "      <th>81026</th>\n",
       "      <td>3025.675</td>\n",
       "      <td>18</td>\n",
       "      <td>2.0</td>\n",
       "      <td>13.333333</td>\n",
       "    </tr>\n",
       "    <tr>\n",
       "      <th>81029</th>\n",
       "      <td>3025.750</td>\n",
       "      <td>20</td>\n",
       "      <td>-4.0</td>\n",
       "      <td>13.333333</td>\n",
       "    </tr>\n",
       "    <tr>\n",
       "      <th>81032</th>\n",
       "      <td>3025.825</td>\n",
       "      <td>16</td>\n",
       "      <td>2.0</td>\n",
       "      <td>20.000000</td>\n",
       "    </tr>\n",
       "    <tr>\n",
       "      <th>81034</th>\n",
       "      <td>3025.875</td>\n",
       "      <td>18</td>\n",
       "      <td>-2.0</td>\n",
       "      <td>0.100756</td>\n",
       "    </tr>\n",
       "    <tr>\n",
       "      <th>81431</th>\n",
       "      <td>3035.800</td>\n",
       "      <td>16</td>\n",
       "      <td>2.0</td>\n",
       "      <td>40.000000</td>\n",
       "    </tr>\n",
       "    <tr>\n",
       "      <th>81432</th>\n",
       "      <td>3035.825</td>\n",
       "      <td>18</td>\n",
       "      <td>-2.0</td>\n",
       "      <td>5.000000</td>\n",
       "    </tr>\n",
       "    <tr>\n",
       "      <th>81440</th>\n",
       "      <td>3036.025</td>\n",
       "      <td>16</td>\n",
       "      <td>-2.0</td>\n",
       "      <td>0.384615</td>\n",
       "    </tr>\n",
       "    <tr>\n",
       "      <th>81544</th>\n",
       "      <td>3038.625</td>\n",
       "      <td>14</td>\n",
       "      <td>-2.0</td>\n",
       "      <td>0.058565</td>\n",
       "    </tr>\n",
       "  </tbody>\n",
       "</table>\n",
       "</div>"
      ],
      "text/plain": [
       "              t   n   dn      rates\n",
       "index                              \n",
       "81023  3025.600  14  2.0  40.000000\n",
       "81024  3025.625  16  2.0  20.000000\n",
       "81026  3025.675  18  2.0  13.333333\n",
       "81029  3025.750  20 -4.0  13.333333\n",
       "81032  3025.825  16  2.0  20.000000\n",
       "81034  3025.875  18 -2.0   0.100756\n",
       "81431  3035.800  16  2.0  40.000000\n",
       "81432  3035.825  18 -2.0   5.000000\n",
       "81440  3036.025  16 -2.0   0.384615\n",
       "81544  3038.625  14 -2.0   0.058565"
      ]
     },
     "execution_count": 101,
     "metadata": {},
     "output_type": "execute_result"
    }
   ],
   "source": [
    "df[df.t>=t_target-0.025].head(10)"
   ]
  },
  {
   "cell_type": "code",
   "execution_count": null,
   "metadata": {},
   "outputs": [],
   "source": []
  }
 ],
 "metadata": {
  "kernelspec": {
   "display_name": "Python 3",
   "language": "python",
   "name": "python3"
  },
  "language_info": {
   "codemirror_mode": {
    "name": "ipython",
    "version": 3
   },
   "file_extension": ".py",
   "mimetype": "text/x-python",
   "name": "python",
   "nbconvert_exporter": "python",
   "pygments_lexer": "ipython3",
   "version": "3.8.5"
  },
  "varInspector": {
   "cols": {
    "lenName": 16,
    "lenType": 16,
    "lenVar": 40
   },
   "kernels_config": {
    "python": {
     "delete_cmd_postfix": "",
     "delete_cmd_prefix": "del ",
     "library": "var_list.py",
     "varRefreshCmd": "print(var_dic_list())"
    },
    "r": {
     "delete_cmd_postfix": ") ",
     "delete_cmd_prefix": "rm(",
     "library": "var_list.r",
     "varRefreshCmd": "cat(var_dic_list()) "
    }
   },
   "types_to_exclude": [
    "module",
    "function",
    "builtin_function_or_method",
    "instance",
    "_Feature"
   ],
   "window_display": false
  }
 },
 "nbformat": 4,
 "nbformat_minor": 4
}
