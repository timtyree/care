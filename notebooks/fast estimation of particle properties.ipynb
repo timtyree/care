{
 "cells": [
  {
   "cell_type": "markdown",
   "id": "f3bceb72",
   "metadata": {},
   "source": [
    "# fast estimation of particle properties\n",
    "Tim Tyree<br>\n",
    "9.29.2021<br>\n",
    "`conda activate pyenv_ub`"
   ]
  },
  {
   "cell_type": "markdown",
   "id": "c3b3aa53",
   "metadata": {},
   "source": [
    "__GOALS__:\n",
    "- DONE: compute dRdt versus 1/R for unconstrained random samples from smoothed and validated trajectories\n",
    "- TODO: compute a from a bootstrap of 1/R versus a for one input_fn\n",
    "- TODO: compute a from a bootstrap of 1/R versus a for one input_fn_lst\n",
    "- TODO: compute a from a bootstrap of 1/R versus a for each input_fn_lst\n",
    "- TODO: repeat for measuring ensemble MSD to give the diffusion coefficient, D\n",
    "- TODO(later?): efficiently generate an _inline_ rendering of dRdt versus 1/R and MSD versus tau using dashly.  try the solution suggested on my stackoverflow post\n",
    "- TODO: generate a .bluf for each input_fn_lst to document the particle property measurements\n",
    "- TODO: show qualitative insenstivity to choice in navg1 and navg2"
   ]
  },
  {
   "cell_type": "markdown",
   "id": "b8bdb43b",
   "metadata": {},
   "source": [
    "__TODO(later):__ bug mike to make certain that for the 99.95% accurate decoder, that the i^th neuron for the Match trials is the same as the i^th neuron for the Mismatch trials for all i neuron-units considered."
   ]
  },
  {
   "cell_type": "markdown",
   "id": "31b36f08",
   "metadata": {},
   "source": [
    "howdo hierarchical multi-indexing: https://pandas.pydata.org/pandas-docs/stable/user_guide/advanced.html#hierarchical-indexing-multiindex"
   ]
  },
  {
   "cell_type": "code",
   "execution_count": 1,
   "id": "6c811d0a",
   "metadata": {
    "ExecuteTime": {
     "end_time": "2021-10-03T05:28:38.900853Z",
     "start_time": "2021-10-03T05:28:36.968037Z"
    }
   },
   "outputs": [
    {
     "name": "stdout",
     "output_type": "stream",
     "text": [
      "Automatic calling is: Smart\n"
     ]
    }
   ],
   "source": [
    "from lib.my_initialization import *\n",
    "from lib import *\n",
    "# from lib.measure.unwrap_and_smooth_cu import *\n",
    "# from lib.rapids_func import *\n",
    "# .routines.unwrap_and_smooth_trajectories_cu import *\n",
    "\n",
    "import itertools\n",
    "import dask_cudf\n",
    "from lib.rapids_func import *\n",
    "get_DT_cu\n",
    "\n",
    "#magic    \n",
    "%autocall 1\n",
    "%load_ext autoreload\n",
    "%autoreload 2\n",
    "\n",
    "import cupy as cp, cudf, numba.cuda as cuda\n",
    "import rmm\n",
    "# Switch to RMM allocator\n",
    "cp.cuda.set_allocator(rmm.rmm_cupy_allocator)"
   ]
  },
  {
   "cell_type": "code",
   "execution_count": 2,
   "id": "66b8882d",
   "metadata": {
    "ExecuteTime": {
     "end_time": "2021-10-03T05:28:38.974717Z",
     "start_time": "2021-10-03T05:28:38.902564Z"
    }
   },
   "outputs": [],
   "source": [
    "darkmode=True\n",
    "if darkmode:\n",
    "    # For darkmode plots\n",
    "    from jupyterthemes import jtplot\n",
    "    jtplot.style(theme='monokai', context='notebook', ticks=True, grid=False)"
   ]
  },
  {
   "cell_type": "markdown",
   "id": "08f6fce5",
   "metadata": {
    "ExecuteTime": {
     "end_time": "2021-09-30T07:44:21.858663Z",
     "start_time": "2021-09-30T07:44:21.823646Z"
    },
    "heading_collapsed": true
   },
   "source": [
    "# (optional) postprocess a token trajectory file\n",
    "- Nota Bene: batch computation is already automated and optimized in 'fast postprocessing a list of trajectory folders.ipynb'"
   ]
  },
  {
   "cell_type": "code",
   "execution_count": 3,
   "id": "62c062e3",
   "metadata": {
    "ExecuteTime": {
     "end_time": "2021-10-03T05:28:38.999779Z",
     "start_time": "2021-10-03T05:28:38.976276Z"
    },
    "hidden": true
   },
   "outputs": [],
   "source": [
    "# input_fn=search_for_file()\n",
    "\n",
    "# # #token FK at DT=0.4\n",
    "# input_fn=\"/home/timothytyree/Documents/GitHub/care/notebooks/Data/initial-conditions-fk-200x200/param_set_8_ds_5.0_tmax_10_diffCoef_0.0005/Log/ic200x200.0.2_traj_sr_400_mem_0.csv\"\n",
    "\n",
    "# # #tokenLR at DT=0.5\n",
    "# input_fn=f\"/home/timothytyree/Documents/GitHub/care/notebooks/Data/initial-conditions-suite-3-LR/param_qu_tmax_30_Ko_5.4_diffCoef_0.0005_dt_0.5/trajectories/ic002.31_traj_sr_600_mem_0.csv\"\n",
    "input_fn=f\"/home/timothytyree/Documents/GitHub/care/notebooks/Data/initial-conditions-suite-3-LR/param_qu_tmax_30_Ko_5.4_diffCoef_0.0005_dt_0.5/trajectories/ic002.11_traj_sr_600_mem_0.csv\"\n",
    "\n",
    "#test routine on one file\n",
    "testing=False\n",
    "if testing:\n",
    "    df=pd.read_csv(input_fn)\n",
    "    DT=np.around(get_DT(df),5);print(f\"DT={DT}\")\n",
    "    # ds=5 #cm\n",
    "    # DS=ds/width\n",
    "    tavg1=4 #moving average window, in ms\n",
    "    width=200\n",
    "    height=width\n",
    "    use_drop_shorter_than=True\n",
    "    drop_shorter_than=50 #ms\n",
    "    tmin=100.#ms\n",
    "    pid_col='particle'\n",
    "    t_col='t'\n",
    "    printing=False\n",
    "    navg1=int(tavg1/DT)\n",
    "    save_dir=return_moving_average_of_pbc_trajectories_and_save(\n",
    "            input_fn, tavg1, pid_col, t_col, DT, width, height,\n",
    "            use_drop_shorter_than, drop_shorter_than, tmin, printing)\n",
    "    print(save_dir)\n",
    "\n",
    "    df=load_smoothed_trajectories(save_dir,pid_col,t_col)\n",
    "    df.head()"
   ]
  },
  {
   "cell_type": "code",
   "execution_count": 4,
   "id": "8926afa1",
   "metadata": {
    "ExecuteTime": {
     "end_time": "2021-10-03T05:28:39.022934Z",
     "start_time": "2021-10-03T05:28:39.000937Z"
    },
    "hidden": true
   },
   "outputs": [],
   "source": [
    "#run the routine on a whole folder\n",
    "# print((DT, input_fn))\n",
    "# save_dir_lst=routine_postprocess_trajectory_folder(input_fn,DT,tavg1=4, npartitions=None,\n",
    "#                                         width=200,\n",
    "#                                         height=200,\n",
    "#                                         use_drop_shorter_than=True,\n",
    "#                                         drop_shorter_than=50, #ms\n",
    "#                                         tmin=100., #ms\n",
    "#                                         pid_col='particle',\n",
    "#                                         t_col='t',\n",
    "#                                         printing=False)"
   ]
  },
  {
   "cell_type": "code",
   "execution_count": 5,
   "id": "8b837b31",
   "metadata": {
    "ExecuteTime": {
     "end_time": "2021-10-03T05:28:39.042925Z",
     "start_time": "2021-10-03T05:28:39.024095Z"
    },
    "hidden": true
   },
   "outputs": [],
   "source": [
    "# #TODO(later): compute squared displacements\n",
    "# grouped=df.groupby(pid_col)\n",
    "# #HINT: squared displacements of particles is result\n",
    "#  throws AttributeError: DataFrameGroupBy object has no attribute first \n",
    "# result = (grouped[['x','y']]-grouped[['x','y']].first())**2"
   ]
  },
  {
   "cell_type": "code",
   "execution_count": 6,
   "id": "791ed272",
   "metadata": {
    "ExecuteTime": {
     "end_time": "2021-10-03T05:28:39.064260Z",
     "start_time": "2021-10-03T05:28:39.044427Z"
    },
    "hidden": true
   },
   "outputs": [],
   "source": [
    "#TODO(later): implement a one_step method on an element in a finite element simulation\n",
    "# HINT: cudf.Grouper?\n",
    "# HINT: https://pandas.pydata.org/pandas-docs/stable/user_guide/groupby.html#grouping-with-a-grouper-specification\n",
    "# HINT: https://pandas.pydata.org/pandas-docs/stable/user_guide/groupby.html#transformation"
   ]
  },
  {
   "cell_type": "code",
   "execution_count": 7,
   "id": "cadd81b4",
   "metadata": {
    "ExecuteTime": {
     "end_time": "2021-10-03T05:28:39.085621Z",
     "start_time": "2021-10-03T05:28:39.066676Z"
    },
    "hidden": true
   },
   "outputs": [],
   "source": [
    "#DONE: figure out if there's an elegant was to use the cudf api  to do this\n",
    "#for each group of event_id_int's :\n",
    "#compare every particle to every other particle in a simple way\n",
    "#compare every particle to every other particle to determine if the self,other pair intersects nontrivially\n",
    "\n",
    "#DONE: determine condition for whether each pair is intersecting for at least two times \n",
    "# two particles exist for at least two times if both\n",
    "#if other has a tmin > tmin of self\n",
    "#AND if other has a tmax < tmax of self, \n",
    "\n",
    "# #DONE: construct the graph of all edges... this wasn't useful...\n",
    "# G = cugraph.Graph()\n",
    "# G.from_cudf_edgelist(df_pairs, source='src', destination='dst', edge_attr='dst')\n",
    "# # # Let's now get the PageRank score of each vertex by calling cugraph.pagerank\n",
    "# # df_page = cugraph.pagerank(G)\n",
    "# # df_page.head()"
   ]
  },
  {
   "cell_type": "code",
   "execution_count": 8,
   "id": "486494a5",
   "metadata": {
    "ExecuteTime": {
     "end_time": "2021-10-03T05:28:39.107037Z",
     "start_time": "2021-10-03T05:28:39.086916Z"
    },
    "hidden": true
   },
   "outputs": [],
   "source": [
    "#DONE: compute which edges are intersecting\n",
    "#DONE: compute tmin and tmax for each intersecting edge\n",
    "#DONE: compute duration for each intersecting edge\n",
    "#DONE: sort edges by duration\n",
    "#DONE: visualize the histogram of durations of intersecting edges\n",
    "#DONE: consider a minimum_duration_threshold that is at least tavg2 if not specified"
   ]
  },
  {
   "cell_type": "markdown",
   "id": "1f8d1e9d",
   "metadata": {
    "heading_collapsed": true,
    "hidden": true
   },
   "source": [
    "## scratchwerk"
   ]
  },
  {
   "cell_type": "code",
   "execution_count": 9,
   "id": "898392ca",
   "metadata": {
    "ExecuteTime": {
     "end_time": "2021-10-03T05:28:39.126659Z",
     "start_time": "2021-10-03T05:28:39.108171Z"
    },
    "hidden": true
   },
   "outputs": [],
   "source": [
    "#DONT: figure out terrible numba debugging for a negligible speed boost\n",
    "# @cuda.jit()#device=True)\n",
    "# def distance_L2_pbc_cuda(point_1, point_2, dist_out, shape):\n",
    "#     '''distance_L2_pbc_cu is a jit compiled function that \n",
    "#     returns for the euclidean (L2) distance between \n",
    "#     point_1 and point_2, which are in an N-cube of shape shape \n",
    "#     with periodic boundary conditions\n",
    "    \n",
    "#     Example Usage:\n",
    "#     blockspergrid=1\n",
    "#     threadsperblock=1\n",
    "#     point_1=self_values[0]\n",
    "#     point_2=other_values[0]\n",
    "#     dist_out=0.#overwritten\n",
    "#     shape=(width,height)\n",
    "#     distance_L2_pbc_cuda[blockspergrid, threadsperblock](point_1, point_2, dist_out, shape)\n",
    "#     '''\n",
    "#     dq2 = 0.\n",
    "#     for q1, q2, wid in zip(point_1, point_2, shape):\n",
    "#         dq2 = dq2 + min(((q2 - q1)**2, (q2 + wid - q1 )**2, (q2 - wid - q1 )**2))\n",
    "#     dist_out= dq2**0.5\n",
    "\n",
    "# blockspergrid=1\n",
    "# threadsperblock=1\n",
    "# point_1=self_values[0]\n",
    "# point_2=other_values[0]\n",
    "# dist_out=np.array([0.])#*self_values\n",
    "# shape=(width,height)\n",
    "# # distance_L2_pbc_cuda(point_1, point_2, dist_out, shape)\n",
    "# distance_L2_pbc_cuda[blockspergrid, threadsperblock](point_1, point_2, dist_out, shape)\n",
    "# dist_out, point_1, point_2\n",
    "\n",
    "# from numba import vectorize\n",
    "# # shape=(width,height)\n",
    "# # @vectorize(['float32[:](float32, float32, float32)'], target='cuda')\n",
    "# shape=cp.array((width,height))\n",
    "# @vectorize(['(float32[:,:], float32[:,:], float32[:,:], float32[:])'], target='cuda')\n",
    "# def distance_L2_pbc_cu(self_values, other_values, dist_out_values, shape):\n",
    "#     for point_1, point_2, dist_out in zip(self_values, other_values, dist_out_values):\n",
    "#         distance_L2_pbc_cuda(point_1, point_2, dist_out, shape)\n",
    "\n",
    "# # blockspergrid=1\n",
    "# # threadsperblock=1\n",
    "# dist_out_values=0.*self_values\n",
    "# shape=cp.array((width,height))\n",
    "# distance_L2_pbc_cu(self_values, other_values, dist_out_values, shape)\n",
    "# # distance_L2_pbc_cuda[blockspergrid, threadsperblock](point_1, point_2, dist_out, shape)\n",
    "# # dist_out"
   ]
  },
  {
   "cell_type": "code",
   "execution_count": 10,
   "id": "ffae6abe",
   "metadata": {
    "ExecuteTime": {
     "end_time": "2021-10-03T05:28:39.147329Z",
     "start_time": "2021-10-03T05:28:39.127777Z"
    },
    "hidden": true
   },
   "outputs": [],
   "source": [
    "# def extract_xy_values_of_pair(df,pair,t_col='t'):\n",
    "#     '''\n",
    "#     df is a cudf.DataFrame instance of xy trajectories from no more than 1 trial \n",
    "#     pair is a row from a pandas.core.series.Series instance with columns,['pid_self', 'pid_other', 'tmin_self', 'tmin_other', 'tmax_self', 'tmax_other', 'tmin', 'tmax', 'duration', 'event_id_int']\n",
    "    \n",
    "#     Example Usage:\n",
    "#     pair=pd.Series(df_pairs.head(1).to_pandas())\n",
    "#     event_id_int=int(pair[trial_col])#.values.get())\n",
    "#     dff=df[df[trial_col]==event_id_int]\n",
    "#     self_values,other_values=extract_xy_values_of_pair(df=dff,pair=pair,t_col=t_col)\n",
    "#     '''\n",
    "#     dff=df\n",
    "#     #DONE: optimize data retrieval from pair by using only one gpu-to-cpu memory transfer\n",
    "#     pid_self =int(pair['pid_self'])#.values.get())\n",
    "#     pid_other=int(pair['pid_other'])#.values.get())\n",
    "#     tmin     =float(pair['tmin'])#.values.get())\n",
    "#     tmax     =float(pair['tmax'])#.values.get())\n",
    "#     #failed to broadcase in cudf\n",
    "#     #     if event_id_int is not None:\n",
    "#     #         dff=df[df[trial_col]==event_id_int]\n",
    "#     #     else:\n",
    "#     #         dff=df\n",
    "#     df_self =dff.loc[(dff[pid_col]==pid_self),[t_col,'x','y']]\n",
    "#     df_other=dff.loc[(dff[pid_col]==pid_other),[t_col,'x','y']]\n",
    "#     self_values=df_self.loc[(df_self[t_col]>=tmin)&(df_self[t_col]<=tmax),['x','y']].values\n",
    "#     other_values=df_other.loc[(df_other[t_col]>=tmin)&(df_other[t_col]<=tmax),['x','y']].values\n",
    "#     return self_values,other_values"
   ]
  },
  {
   "cell_type": "code",
   "execution_count": null,
   "id": "c7ec1156",
   "metadata": {
    "ExecuteTime": {
     "end_time": "2021-10-02T07:26:23.942805Z",
     "start_time": "2021-10-02T07:26:23.890263Z"
    },
    "hidden": true
   },
   "outputs": [],
   "source": []
  },
  {
   "cell_type": "code",
   "execution_count": 11,
   "id": "5fb12543",
   "metadata": {
    "ExecuteTime": {
     "end_time": "2021-10-03T05:28:39.170390Z",
     "start_time": "2021-10-03T05:28:39.148347Z"
    },
    "hidden": true
   },
   "outputs": [],
   "source": [
    "# pair=df_pairs.head(1)\n",
    "# event_id_int=int(pair[trial_col].values.get())\n",
    "# dff=df[df[trial_col]==event_id_int]\n",
    "# self_values,other_values=extract_xy_values_of_pair(df=dff,pair=pair,t_col=t_col)\n",
    "# print((self_values.shape,other_values.shape))\n",
    "# assert ( self_values.shape==other_values.shape ) "
   ]
  },
  {
   "cell_type": "code",
   "execution_count": 12,
   "id": "0653c8e1",
   "metadata": {
    "ExecuteTime": {
     "end_time": "2021-10-03T05:28:39.193420Z",
     "start_time": "2021-10-03T05:28:39.171933Z"
    },
    "hidden": true
   },
   "outputs": [],
   "source": [
    "#this function may be slow and might not even work...\n",
    "# def distance_L2_pbc_cu(self_values,other_values,shape):\n",
    "#     '''distance_L2_pbc_cu is a jit compiled function that \n",
    "#     returns for the euclidean (L2) distance between \n",
    "#     point_1 and point_2, which are in an N-cube of shape shape \n",
    "#     with periodic boundary conditions\n",
    "    \n",
    "#     Example Usage:\n",
    "#     shape=(width,height)\n",
    "#     dist_values=distance_L2_pbc_cu(self_values,other_values,shape)\n",
    "#     '''\n",
    "#     sqdiff_values = (self_values-other_values)**2\n",
    "#     #compute the other pbc options for sqdiff_values for each column\n",
    "#     for n,w in enumerate(shape):\n",
    "#         self_w_values  = self_values[:,n]\n",
    "#         other_w_values = other_values[:,n]\n",
    "#         sqdiff_w_values= sqdiff_values[:,n]\n",
    "#         sqdiff_wp_values=(self_w_values-other_w_values-w)**2\n",
    "#         sqdiff_wm_values=(self_w_values-other_w_values+w)**2\n",
    "#         boop=sqdiff_wp_values<sqdiff_w_values\n",
    "#         boom=sqdiff_wm_values<sqdiff_w_values\n",
    "#         sqdiff_values[boop,n]=sqdiff_wp_values[boop]\n",
    "#         sqdiff_values[boom,n]=sqdiff_wm_values[boom]\n",
    "\n",
    "#     dist_values=cp.sqrt(cp.sum(sqdiff_values,axis=1))\n",
    "#     return dist_values"
   ]
  },
  {
   "cell_type": "code",
   "execution_count": 13,
   "id": "4396b6a7",
   "metadata": {
    "ExecuteTime": {
     "end_time": "2021-10-03T05:28:39.213970Z",
     "start_time": "2021-10-03T05:28:39.194492Z"
    },
    "hidden": true
   },
   "outputs": [],
   "source": [
    "#DONE: histograms sanity check df_intersecting_pairs\n",
    "#DONE: verify that routine gives different values for different event_id_int\n",
    "#DONE: wrap generation of df_intersecting_pairs into a function \n",
    "#DONE: include event_id_int outside ^that function\n",
    "#DONE: accumulate df_intersecting_pairs_all over all event_id_int_values"
   ]
  },
  {
   "cell_type": "markdown",
   "id": "27432dfe",
   "metadata": {},
   "source": [
    "# define module"
   ]
  },
  {
   "cell_type": "code",
   "execution_count": 14,
   "id": "c732b8bd",
   "metadata": {
    "ExecuteTime": {
     "end_time": "2021-10-03T05:28:39.235319Z",
     "start_time": "2021-10-03T05:28:39.215396Z"
    }
   },
   "outputs": [],
   "source": [
    "# def comp_xy_distance_L2_pbc_cu(d,width,height):\n",
    "#     '''comp_xy_distance_L2_pbc_cu is a pure cudf function that \n",
    "#     returns for the euclidean (L2) distance between \n",
    "#     point_1 and point_2, which are in a rectangular domain of shape (width,height) \n",
    "#     with periodic boundary conditions.\n",
    "#     returns d with many fields added. the distance is dist.\n",
    "#     supposes each row is uniquely indexed.\n",
    "    \n",
    "#     Example Usage:\n",
    "#     df_traj=comp_xy_distance_L2_pbc_cu(df_traj,width,height)\n",
    "#     '''\n",
    "#     #compute the three options for the square distance with pbc\n",
    "#     d['sdx']=(d['x_self']-d['x_other'])**2\n",
    "#     d['sdxp']=(d['x_self']-d['x_other']+width)**2\n",
    "#     d['sdxm']=(d['x_self']-d['x_other']-width)**2\n",
    "#     d['sdy']=(d['y_self']-d['y_other'])**2\n",
    "#     d['sdyp']=(d['y_self']-d['y_other']+height)**2\n",
    "#     d['sdym']=(d['y_self']-d['y_other']-height)**2\n",
    "#     #choose the minimum of each class of option\n",
    "#     d['minsdx']=d[['sdx','sdxp','sdxm']].min(axis=1)\n",
    "#     d['minsdy']=d[['sdy','sdyp','sdym']].min(axis=1)\n",
    "#     d['dist']=(d['minsdx'] + d['minsdy'])**0.5\n",
    "#     d['R']=d['dist']\n",
    "#     return d"
   ]
  },
  {
   "cell_type": "code",
   "execution_count": 15,
   "id": "2d36d61c",
   "metadata": {
    "ExecuteTime": {
     "end_time": "2021-10-03T05:28:39.256098Z",
     "start_time": "2021-10-03T05:28:39.236487Z"
    }
   },
   "outputs": [],
   "source": [
    "# def extract_trajectory_pairs_cu(df,df_pairs,pid_col,t_col,trial_col,col_lst=['index','x','y']):\n",
    "#     '''supposes df contains trajectories with fields, col_lst, taken at time points, t_col, that are evently spaced by an amount that is inferred.\n",
    "#     returns a cudf.DataFrame instance that has a column (for each col in col_lst) both for the self particle, indicated by pid_self, and for the other particle, indicated by pid_other.\n",
    "#     Example Usage:\n",
    "#     df_traj=extract_trajectory_pairs_cu(df,df_pairs,pid_col,t_col,trial_col)\n",
    "#     '''\n",
    "#     get_DT_cu(df,pid_col=pid_col,t_col=t_col)\n",
    "#     df_pairs['num_rows']=((df_pairs['tmax']-df_pairs['tmin'])/DT).astype(cp.int32)\n",
    "\n",
    "#     # df_pairs.reset_index(inplace=True)\n",
    "#     super_index_values=np.repeat(df_pairs.index.values.get(),df_pairs['num_rows'].values.get())\n",
    "#     df_traj=df_pairs.loc[super_index_values,[trial_col,'pid_self','pid_other']]\n",
    "#     df_traj.reset_index(inplace=True)\n",
    "#     df_traj.rename(columns={'index':'index_pairs'},inplace=True)\n",
    "\n",
    "#     #compute time values for df_traj\n",
    "#     num_row_values=df_pairs['num_rows'].values.get()\n",
    "#     step_number_lsts=[list(range(num_rows)) for num_rows in num_row_values]\n",
    "#     step_number_values=cp.hstack(step_number_lsts)\n",
    "#     tmin_values=df_pairs.loc[super_index_values,'tmin']\n",
    "#     t_values=cp.array(step_number_values*DT)+tmin_values\n",
    "#     df_traj['t']=t_values.get()\n",
    "\n",
    "#     #fill df_traj with the essential columns and an index pointing a particular row in df\n",
    "#     index_col_lst=[trial_col,pid_col,t_col]\n",
    "#     dff=df.set_index(index_col_lst)\n",
    "\n",
    "#     #fill with self trajectories\n",
    "#     df_traj.rename(columns={'pid_self':pid_col},inplace=True)\n",
    "#     df_traj.set_index(index_col_lst,inplace=True)\n",
    "    \n",
    "#     dfff=dff.loc[df_traj.index]\n",
    "#     for x in col_lst:\n",
    "#         df_traj[x+'_self']=dfff[x]\n",
    "#     df_traj=df_traj.reset_index().rename(columns={pid_col:'pid_self'}).rename(columns={'pid_other':pid_col})\n",
    "\n",
    "#     #fill with other trajectories\n",
    "#     df_traj.set_index(index_col_lst,inplace=True)\n",
    "#     dfff=dff.loc[df_traj.index]\n",
    "#     for x in col_lst:\n",
    "#         df_traj[x+'_other']=dfff[x]\n",
    "#     df_traj=df_traj.reset_index().rename(columns={pid_col:'pid_other'})\n",
    "#     return df_traj"
   ]
  },
  {
   "cell_type": "markdown",
   "id": "a5fa93ba",
   "metadata": {},
   "source": [
    "# compute the radial velocities with the savgol_filtered "
   ]
  },
  {
   "cell_type": "markdown",
   "id": "964089db",
   "metadata": {},
   "source": [
    "__Note:__ cugraph is a great tool for complex problems that happen in terms of graphs that benefit from visualization.  My graph problem is low-level, and therefore it does not appear beneficial for me to use cugraph here."
   ]
  },
  {
   "cell_type": "code",
   "execution_count": 16,
   "id": "d8de32a4",
   "metadata": {
    "ExecuteTime": {
     "end_time": "2021-10-03T05:28:39.275009Z",
     "start_time": "2021-10-03T05:28:39.257140Z"
    }
   },
   "outputs": [],
   "source": [
    "#define parameters\n",
    "trial_col='event_id_int'\n",
    "pid_col='particle' \n",
    "t_col='t' \n",
    "width=200\n",
    "height=200\n",
    "tmin=100.\n",
    "printing=True\n",
    "tavg1=4 #ms #moving average time window already performed\n",
    "#TDOO: infer tavg1 from input_fn"
   ]
  },
  {
   "cell_type": "code",
   "execution_count": 17,
   "id": "b1783da1",
   "metadata": {
    "ExecuteTime": {
     "end_time": "2021-10-03T05:28:39.295244Z",
     "start_time": "2021-10-03T05:28:39.276060Z"
    }
   },
   "outputs": [],
   "source": [
    "ds=5. #cm for the whole domain\n",
    "DS=ds/width #cm per pixel\n",
    "tavg2=24 #ms #savgol_filter time window performed on R "
   ]
  },
  {
   "cell_type": "code",
   "execution_count": 18,
   "id": "e7996ae7",
   "metadata": {
    "ExecuteTime": {
     "end_time": "2021-10-03T05:28:39.314179Z",
     "start_time": "2021-10-03T05:28:39.296238Z"
    }
   },
   "outputs": [],
   "source": [
    "#decide on radial thresholds\n",
    "minimum_range_threshold=0.1 #cm\n",
    "maximum_range_threshold=1. #cm\n",
    "minimum_duration_threshold=25 #ms"
   ]
  },
  {
   "cell_type": "code",
   "execution_count": 19,
   "id": "0c46bd2c",
   "metadata": {
    "ExecuteTime": {
     "end_time": "2021-10-03T05:28:40.470183Z",
     "start_time": "2021-10-03T05:28:39.315218Z"
    },
    "run_control": {
     "marked": false
    }
   },
   "outputs": [
    {
     "name": "stdout",
     "output_type": "stream",
     "text": [
      "loading 2 files into shared memory...\n",
      "tavg2=24.5\n"
     ]
    }
   ],
   "source": [
    "#TODO: figure out why I'm getting pid_self==pid_other in the R versus time plot...\n",
    "#recall a couple postprocessed single trials\n",
    "input_fn=f\"/home/timothytyree/Documents/GitHub/care/notebooks/Data/initial-conditions-suite-3-LR/param_qu_tmax_30_Ko_5.4_diffCoef_0.0005_dt_0.5/smoothed_trajectories_navg_8/ic002.11_traj_sr_600_mem_0_smoothed.csv\"\n",
    "input_fn2=f\"/home/timothytyree/Documents/GitHub/care/notebooks/Data/initial-conditions-suite-3-LR/param_qu_tmax_30_Ko_5.4_diffCoef_0.0005_dt_0.5/smoothed_trajectories_navg_8/ic002.12_traj_sr_600_mem_0_smoothed.csv\"\n",
    "input_fn_lst=[input_fn,input_fn2]\n",
    "# input_fn_lst=get_all_files_matching_pattern(input_fn,trgt='.csv')\n",
    "print(f\"loading {len(input_fn_lst)} files into shared memory...\")\n",
    "# df=dask_cudf.read_csv(input_fn_lst).compute()\n",
    "df=cudf.read_csv(input_fn)\n",
    "df=df.sort_values([trial_col,pid_col, t_col], ascending=True).copy()\n",
    "DT=get_DT_cu(df,t_col,pid_col)\n",
    "# navg2=int(tavg2/DT)\n",
    "# if printing:\n",
    "#     print(f\"DT={DT} ms\")    \n",
    "navg2=int(tavg2/DT)\n",
    "if not (navg2%2==1): #odd navg2 is required by savgol_filter\n",
    "    navg2+=1\n",
    "    tavg2=np.around(navg2*DT,7)\n",
    "print(f'tavg2={tavg2}')\n",
    "assert ( minimum_duration_threshold>tavg2)"
   ]
  },
  {
   "cell_type": "code",
   "execution_count": 20,
   "id": "2424abca",
   "metadata": {
    "ExecuteTime": {
     "end_time": "2021-10-03T05:28:40.513398Z",
     "start_time": "2021-10-03T05:28:40.471571Z"
    }
   },
   "outputs": [],
   "source": [
    "#compute the intermediate dataframe of particle start/end times\n",
    "grouped=df.groupby([trial_col,pid_col])\n",
    "dft=grouped[t_col]\n",
    "dfu=cudf.DataFrame({\n",
    "    'tmin':dft.min(),\n",
    "    'tmax':dft.max(),\n",
    "})\n",
    "dfu.reset_index(inplace=True)\n",
    "# dff.head()"
   ]
  },
  {
   "cell_type": "code",
   "execution_count": 21,
   "id": "bdba781a",
   "metadata": {
    "ExecuteTime": {
     "end_time": "2021-10-03T05:28:42.307698Z",
     "start_time": "2021-10-03T05:28:40.514895Z"
    }
   },
   "outputs": [
    {
     "name": "stdout",
     "output_type": "stream",
     "text": [
      "using 1 cores to identify pairs of particles that coexist over 1 independent trials...\n"
     ]
    },
    {
     "data": {
      "text/html": [
       "<div>\n",
       "<style scoped>\n",
       "    .dataframe tbody tr th:only-of-type {\n",
       "        vertical-align: middle;\n",
       "    }\n",
       "\n",
       "    .dataframe tbody tr th {\n",
       "        vertical-align: top;\n",
       "    }\n",
       "\n",
       "    .dataframe thead th {\n",
       "        text-align: right;\n",
       "    }\n",
       "</style>\n",
       "<table border=\"1\" class=\"dataframe\">\n",
       "  <thead>\n",
       "    <tr style=\"text-align: right;\">\n",
       "      <th></th>\n",
       "      <th>pid_self</th>\n",
       "      <th>pid_other</th>\n",
       "      <th>tmin_self</th>\n",
       "      <th>tmin_other</th>\n",
       "      <th>tmax_self</th>\n",
       "      <th>tmax_other</th>\n",
       "      <th>tmin</th>\n",
       "      <th>tmax</th>\n",
       "      <th>duration</th>\n",
       "      <th>event_id_int</th>\n",
       "    </tr>\n",
       "  </thead>\n",
       "  <tbody>\n",
       "    <tr>\n",
       "      <th>0</th>\n",
       "      <td>1509</td>\n",
       "      <td>1519</td>\n",
       "      <td>3170.0</td>\n",
       "      <td>3239.5</td>\n",
       "      <td>3341.5</td>\n",
       "      <td>3341.5</td>\n",
       "      <td>3239.5</td>\n",
       "      <td>3341.5</td>\n",
       "      <td>102.0</td>\n",
       "      <td>1002116000</td>\n",
       "    </tr>\n",
       "    <tr>\n",
       "      <th>1</th>\n",
       "      <td>1509</td>\n",
       "      <td>1445</td>\n",
       "      <td>3170.0</td>\n",
       "      <td>3028.0</td>\n",
       "      <td>3341.5</td>\n",
       "      <td>3170.5</td>\n",
       "      <td>3170.0</td>\n",
       "      <td>3170.5</td>\n",
       "      <td>0.5</td>\n",
       "      <td>1002116000</td>\n",
       "    </tr>\n",
       "    <tr>\n",
       "      <th>2</th>\n",
       "      <td>1509</td>\n",
       "      <td>1538</td>\n",
       "      <td>3170.0</td>\n",
       "      <td>3317.5</td>\n",
       "      <td>3341.5</td>\n",
       "      <td>3379.5</td>\n",
       "      <td>3317.5</td>\n",
       "      <td>3341.5</td>\n",
       "      <td>24.0</td>\n",
       "      <td>1002116000</td>\n",
       "    </tr>\n",
       "    <tr>\n",
       "      <th>3</th>\n",
       "      <td>1509</td>\n",
       "      <td>1540</td>\n",
       "      <td>3170.0</td>\n",
       "      <td>3320.5</td>\n",
       "      <td>3341.5</td>\n",
       "      <td>3381.0</td>\n",
       "      <td>3320.5</td>\n",
       "      <td>3341.5</td>\n",
       "      <td>21.0</td>\n",
       "      <td>1002116000</td>\n",
       "    </tr>\n",
       "    <tr>\n",
       "      <th>4</th>\n",
       "      <td>1509</td>\n",
       "      <td>1511</td>\n",
       "      <td>3170.0</td>\n",
       "      <td>3175.5</td>\n",
       "      <td>3341.5</td>\n",
       "      <td>3274.0</td>\n",
       "      <td>3175.5</td>\n",
       "      <td>3274.0</td>\n",
       "      <td>98.5</td>\n",
       "      <td>1002116000</td>\n",
       "    </tr>\n",
       "  </tbody>\n",
       "</table>\n",
       "</div>"
      ],
      "text/plain": [
       "   pid_self  pid_other  tmin_self  tmin_other  tmax_self  tmax_other    tmin  \\\n",
       "0      1509       1519     3170.0      3239.5     3341.5      3341.5  3239.5   \n",
       "1      1509       1445     3170.0      3028.0     3341.5      3170.5  3170.0   \n",
       "2      1509       1538     3170.0      3317.5     3341.5      3379.5  3317.5   \n",
       "3      1509       1540     3170.0      3320.5     3341.5      3381.0  3320.5   \n",
       "4      1509       1511     3170.0      3175.5     3341.5      3274.0  3175.5   \n",
       "\n",
       "     tmax  duration  event_id_int  \n",
       "0  3341.5     102.0    1002116000  \n",
       "1  3170.5       0.5    1002116000  \n",
       "2  3341.5      24.0    1002116000  \n",
       "3  3341.5      21.0    1002116000  \n",
       "4  3274.0      98.5    1002116000  "
      ]
     },
     "execution_count": 21,
     "metadata": {},
     "output_type": "execute_result"
    }
   ],
   "source": [
    "df_intersecting_pairs_all=identify_all_coexisting_pairs(df=dfu.copy(),pid_col=pid_col,t_col=t_col,trial_col=trial_col)\n",
    "df_intersecting_pairs_all.head()"
   ]
  },
  {
   "cell_type": "code",
   "execution_count": 22,
   "id": "98d7d89a",
   "metadata": {
    "ExecuteTime": {
     "end_time": "2021-10-03T05:28:42.699396Z",
     "start_time": "2021-10-03T05:28:42.311362Z"
    }
   },
   "outputs": [
    {
     "name": "stdout",
     "output_type": "stream",
     "text": [
      "verified that the duration is strictly positive for all pairs of tips that coexist nontrivially\n"
     ]
    },
    {
     "data": {
      "image/png": "[encoded data removed]",
      "text/plain": [
       "<Figure size 504x288 with 1 Axes>"
      ]
     },
     "metadata": {},
     "output_type": "display_data"
    }
   ],
   "source": [
    "#test that duration is strictly positive\n",
    "assert ( (df_intersecting_pairs_all['duration']>0).all() )\n",
    "if printing:\n",
    "    print (f\"verified that the duration is strictly positive for all pairs of tips that coexist nontrivially\")\n",
    "\n",
    "#plot histogram of durations\n",
    "fontsize=20\n",
    "fig,ax=plt.subplots(figsize=(7,4))\n",
    "yv=np.linspace(0,0.02,10)\n",
    "ax.plot(minimum_duration_threshold+0.*yv,yv,'gray',lw=2, linestyle='dashed', label='threshold')\n",
    "trial_col_lst=sorted(df_intersecting_pairs_all[trial_col].drop_duplicates().values.get())\n",
    "for trial in trial_col_lst[:5]:\n",
    "    df_intersecting_pairs_all.query(f\"{trial_col} == {trial}\")['duration'].to_pandas().hist(density=True,bins=50,ax=ax,label=trial,grid=False)#,color='event_id_int')\n",
    "format_plot(ax, xlabel='duration of pair coexistance (ms)', ylabel='probability density', fontsize=fontsize, use_loglog=False)\n",
    "\n",
    "ax.legend(fontsize=fontsize)\n",
    "plt.tight_layout()\n",
    "plt.show()"
   ]
  },
  {
   "cell_type": "code",
   "execution_count": 23,
   "id": "613b8ad9",
   "metadata": {
    "ExecuteTime": {
     "end_time": "2021-10-03T05:28:42.724206Z",
     "start_time": "2021-10-03T05:28:42.700621Z"
    }
   },
   "outputs": [],
   "source": [
    "#DONE: verify that no pair points to the same spiral tip twice\n",
    "assert ( not (df_intersecting_pairs_all['pid_self']==df_intersecting_pairs_all['pid_other']).any() )"
   ]
  },
  {
   "cell_type": "code",
   "execution_count": 24,
   "id": "d1933ea5",
   "metadata": {
    "ExecuteTime": {
     "end_time": "2021-10-03T05:28:44.109136Z",
     "start_time": "2021-10-03T05:28:42.725457Z"
    }
   },
   "outputs": [
    {
     "name": "stdout",
     "output_type": "stream",
     "text": [
      "using 1 cores to identify pairs of particles that coexist over 1 independent trials...\n"
     ]
    }
   ],
   "source": [
    "grouped=df.groupby([trial_col,pid_col])\n",
    "dft=grouped[t_col]\n",
    "dfu=cudf.DataFrame({\n",
    "    'tmin':dft.min(),\n",
    "    'tmax':dft.max(),\n",
    "})\n",
    "dfu.reset_index(inplace=True)\n",
    "df_intersecting_pairs_all=identify_all_coexisting_pairs(df=dfu.copy(),pid_col=pid_col,t_col=t_col,trial_col=trial_col)\n",
    "\n",
    "#filter by duration_threshold\n",
    "use_duration_threshold=True\n",
    "if use_duration_threshold:\n",
    "    df_pairs=df_intersecting_pairs_all[df_intersecting_pairs_all['duration']>minimum_duration_threshold]\n",
    "else:\n",
    "    df_pairs=df_intersecting_pairs_all\n",
    "#and sort\n",
    "df_pairs=df_pairs.sort_values([trial_col,'pid_self'], ascending=True).copy()\n",
    "# trial_values=df[trial_col].drop_duplicates().values\n",
    "# df_traj_lst=[]\n",
    "# for trial in trial_values.get():\n",
    "#     pass\n",
    "# #     df_traj_lst.append(extract_trajectory_pairs_cu(df,df_pairs,pid_col=pid_col,t_col=t_col))\n",
    "# # df_traj=cudf.concat(df_traj_lst)\n",
    "# # df_traj.query('pid_self==25 and pid_other==25').head()"
   ]
  },
  {
   "cell_type": "code",
   "execution_count": 25,
   "id": "4a48ce11",
   "metadata": {
    "ExecuteTime": {
     "end_time": "2021-10-03T05:28:44.763617Z",
     "start_time": "2021-10-03T05:28:44.110359Z"
    }
   },
   "outputs": [],
   "source": [
    "df_traj=extract_trajectory_pairs_cu(df,df_pairs,pid_col,t_col,trial_col,DT)\n",
    "#DONE: tested that index_self is never equal to index_other for a given event_id_int\n",
    "#^this is equivalent to no two observations being the same\n",
    "trial_values=df[trial_col].drop_duplicates().values\n",
    "for trial in trial_values.get():\n",
    "    d=df_traj.loc[df_traj[trial_col]==trial]\n",
    "    assert ( not (d['index_other']==d['index_self']).any())"
   ]
  },
  {
   "cell_type": "code",
   "execution_count": 26,
   "id": "070d3ee9",
   "metadata": {
    "ExecuteTime": {
     "end_time": "2021-10-03T05:28:45.435280Z",
     "start_time": "2021-10-03T05:28:44.764731Z"
    }
   },
   "outputs": [
    {
     "data": {
      "text/html": [
       "<div>\n",
       "<style scoped>\n",
       "    .dataframe tbody tr th:only-of-type {\n",
       "        vertical-align: middle;\n",
       "    }\n",
       "\n",
       "    .dataframe tbody tr th {\n",
       "        vertical-align: top;\n",
       "    }\n",
       "\n",
       "    .dataframe thead th {\n",
       "        text-align: right;\n",
       "    }\n",
       "</style>\n",
       "<table border=\"1\" class=\"dataframe\">\n",
       "  <thead>\n",
       "    <tr style=\"text-align: right;\">\n",
       "      <th></th>\n",
       "      <th>event_id_int</th>\n",
       "      <th>pid_self</th>\n",
       "      <th>pid_other</th>\n",
       "      <th>t</th>\n",
       "      <th>R</th>\n",
       "      <th>dRdt</th>\n",
       "      <th>R_midpoint</th>\n",
       "      <th>one_over_R</th>\n",
       "    </tr>\n",
       "  </thead>\n",
       "  <tbody>\n",
       "    <tr>\n",
       "      <th>386</th>\n",
       "      <td>1002116000</td>\n",
       "      <td>20</td>\n",
       "      <td>25</td>\n",
       "      <td>172.5</td>\n",
       "      <td>1.532008</td>\n",
       "      <td>15.909073</td>\n",
       "      <td>1.528031</td>\n",
       "      <td>0.654437</td>\n",
       "    </tr>\n",
       "    <tr>\n",
       "      <th>387</th>\n",
       "      <td>1002116000</td>\n",
       "      <td>20</td>\n",
       "      <td>25</td>\n",
       "      <td>173.0</td>\n",
       "      <td>1.539243</td>\n",
       "      <td>14.470294</td>\n",
       "      <td>1.535626</td>\n",
       "      <td>0.651200</td>\n",
       "    </tr>\n",
       "    <tr>\n",
       "      <th>388</th>\n",
       "      <td>1002116000</td>\n",
       "      <td>20</td>\n",
       "      <td>25</td>\n",
       "      <td>173.5</td>\n",
       "      <td>1.533510</td>\n",
       "      <td>-11.465892</td>\n",
       "      <td>1.536377</td>\n",
       "      <td>0.650882</td>\n",
       "    </tr>\n",
       "    <tr>\n",
       "      <th>389</th>\n",
       "      <td>1002116000</td>\n",
       "      <td>20</td>\n",
       "      <td>25</td>\n",
       "      <td>174.0</td>\n",
       "      <td>1.530391</td>\n",
       "      <td>-6.239646</td>\n",
       "      <td>1.531950</td>\n",
       "      <td>0.652763</td>\n",
       "    </tr>\n",
       "    <tr>\n",
       "      <th>390</th>\n",
       "      <td>1002116000</td>\n",
       "      <td>20</td>\n",
       "      <td>25</td>\n",
       "      <td>174.5</td>\n",
       "      <td>1.523670</td>\n",
       "      <td>-13.440887</td>\n",
       "      <td>1.527030</td>\n",
       "      <td>0.654866</td>\n",
       "    </tr>\n",
       "  </tbody>\n",
       "</table>\n",
       "</div>"
      ],
      "text/plain": [
       "     event_id_int  pid_self  pid_other      t         R       dRdt  \\\n",
       "386    1002116000        20         25  172.5  1.532008  15.909073   \n",
       "387    1002116000        20         25  173.0  1.539243  14.470294   \n",
       "388    1002116000        20         25  173.5  1.533510 -11.465892   \n",
       "389    1002116000        20         25  174.0  1.530391  -6.239646   \n",
       "390    1002116000        20         25  174.5  1.523670 -13.440887   \n",
       "\n",
       "     R_midpoint  one_over_R  \n",
       "386    1.528031    0.654437  \n",
       "387    1.535626    0.651200  \n",
       "388    1.536377    0.650882  \n",
       "389    1.531950    0.652763  \n",
       "390    1.527030    0.654866  "
      ]
     },
     "execution_count": 26,
     "metadata": {},
     "output_type": "execute_result"
    }
   ],
   "source": [
    "#compute the naive finite difference radial velocity between all pairs of particles\n",
    "df_traj=comp_xy_distance_L2_pbc_cu(df_traj,width,height)\n",
    "df_traj['R']=df_traj['dist']*DS #cm\n",
    "#isolate only the columns relevant to computing the attraction coefficient, a\n",
    "df_R=df_traj[[trial_col,'pid_self','pid_other',t_col,'R']].dropna()\n",
    "df_R=df_R.sort_values([trial_col,'pid_self','pid_other',t_col], ascending=True).copy()\n",
    "grouped=df_R.groupby([trial_col,'pid_self','pid_other'])\n",
    "#compute the difference between two successive R values for each group\n",
    "df_R['incol']=df_R['R']\n",
    "mdwargs={'win_size':2}\n",
    "result = grouped.apply_grouped(rolling_diff,\n",
    "                               incols=['incol'],\n",
    "                               outcols=dict(outcol=np.float64), kwargs=\n",
    "                           mdwargs)\n",
    "df_R['dRdt']=result['outcol']/DT*1000 #cm/s\n",
    "df_R.drop(columns=['incol'],inplace=True)\n",
    "#compute the average between two successive R values for each group\n",
    "df_R['incol']=df_R['R']\n",
    "mawargs={'win_size':2}\n",
    "result = grouped.apply_grouped(rolling_avg,\n",
    "                               incols=['incol'],\n",
    "                               outcols=dict(outcol=np.float64), kwargs=\n",
    "                           mawargs)\n",
    "df_R['R_midpoint']=result['outcol'] #cm\n",
    "df_R['one_over_R']=1./df_R['R_midpoint'] #1/cm\n",
    "df_R.drop(columns=['incol'],inplace=True)\n",
    "df_R.dropna(inplace=True)\n",
    "df_R.head()"
   ]
  },
  {
   "cell_type": "code",
   "execution_count": 27,
   "id": "fc34ebc9",
   "metadata": {
    "ExecuteTime": {
     "end_time": "2021-10-03T05:28:45.457869Z",
     "start_time": "2021-10-03T05:28:45.436619Z"
    }
   },
   "outputs": [],
   "source": [
    "#DONE: compute 1/R and dRdt_naive\n",
    "#DONE: extract xy values for all particles lumped together\n",
    "#TODO: verify visually that these values look reasonable\n",
    "#TODO: compute the bootstrapped mean dRdt (y_values) binning by one_over_R (x_values)\n",
    "R_values=df_R['R_midpoint'].values\n",
    "x_values=df_R['one_over_R'].values\n",
    "y_values=df_R['dRdt'].values"
   ]
  },
  {
   "cell_type": "code",
   "execution_count": 28,
   "id": "0e86d1d6",
   "metadata": {
    "ExecuteTime": {
     "end_time": "2021-10-03T05:28:45.880623Z",
     "start_time": "2021-10-03T05:28:45.459117Z"
    }
   },
   "outputs": [
    {
     "data": {
      "image/png": "[encoded data removed]",
      "text/plain": [
       "<Figure size 504x288 with 1 Axes>"
      ]
     },
     "metadata": {},
     "output_type": "display_data"
    }
   ],
   "source": [
    "#plot histogram of durations\n",
    "fontsize=20\n",
    "fig,ax=plt.subplots(figsize=(7,4))\n",
    "\n",
    "trial_col_lst=sorted(df_R[trial_col].drop_duplicates().values.get())\n",
    "for trial in trial_col_lst[:5]:\n",
    "    df_R.query(f\"{trial_col} == {trial}\")['R_midpoint'].to_pandas().hist(density=True,bins=50,ax=ax,label=trial,grid=False)#,color='event_id_int')\n",
    "        \n",
    "format_plot(ax, xlabel=r'$R$ (cm)', ylabel='prob. density', fontsize=fontsize, use_loglog=False)\n",
    "ax.legend(fontsize=fontsize-2)\n",
    "\n",
    "#plot threshold lines\n",
    "yv=np.linspace(0,0.6,10)\n",
    "ax.plot(minimum_range_threshold+0.*yv,yv,'gray',lw=2, linestyle='dashed', label='threshold')\n",
    "ax.plot(maximum_range_threshold+0.*yv,yv,'gray',lw=2, linestyle='dashed', label='threshold')\n",
    "\n",
    "plt.tight_layout()\n",
    "plt.show()"
   ]
  },
  {
   "cell_type": "code",
   "execution_count": 29,
   "id": "a09840af",
   "metadata": {
    "ExecuteTime": {
     "end_time": "2021-10-03T05:28:45.904097Z",
     "start_time": "2021-10-03T05:28:45.882056Z"
    }
   },
   "outputs": [],
   "source": [
    "xmin=-100\n",
    "xmax=100"
   ]
  },
  {
   "cell_type": "code",
   "execution_count": 30,
   "id": "118a784e",
   "metadata": {
    "ExecuteTime": {
     "end_time": "2021-10-03T05:28:45.948245Z",
     "start_time": "2021-10-03T05:28:45.905163Z"
    }
   },
   "outputs": [],
   "source": [
    "#DONE: plot a laplace distribution over ^this\n",
    "xv=df_R.query(f\"{trial_col} == {trial}\")['dRdt'].values.get()\n",
    "v=xv[(xv>xmin)&(xv<xmax)]\n",
    "mu=np.mean(v)\n",
    "beta=np.std(v)/np.sqrt(2)\n",
    "def comp_laplace_pdf(x,mu,beta):\n",
    "    return np.exp(-np.abs(x-mu)/beta)/(2*beta)"
   ]
  },
  {
   "cell_type": "code",
   "execution_count": null,
   "id": "e378ac29",
   "metadata": {
    "ExecuteTime": {
     "end_time": "2021-10-03T02:57:00.327130Z",
     "start_time": "2021-10-03T02:57:00.278193Z"
    }
   },
   "outputs": [],
   "source": []
  },
  {
   "cell_type": "code",
   "execution_count": 31,
   "id": "9adfae3d",
   "metadata": {
    "ExecuteTime": {
     "end_time": "2021-10-03T05:28:46.346902Z",
     "start_time": "2021-10-03T05:28:45.949238Z"
    }
   },
   "outputs": [
    {
     "data": {
      "image/png": "[encoded data removed]",
      "text/plain": [
       "<Figure size 504x288 with 1 Axes>"
      ]
     },
     "metadata": {},
     "output_type": "display_data"
    }
   ],
   "source": [
    "#plot histogram of durations\n",
    "fontsize=20\n",
    "fig,ax=plt.subplots(figsize=(7,4))\n",
    "trial_col_lst=sorted(df_R[trial_col].drop_duplicates().values.get())\n",
    "for trial in trial_col_lst[:5]:\n",
    "    xv=df_R.query(f\"{trial_col} == {trial}\")['dRdt'].values.get()\n",
    "    v=xv[(xv>xmin)&(xv<xmax)]# np.max(xv),np.quantile(xv,.15),np.mean(xv),np.quantile(xv,.85),np.max(xv)\n",
    "    ax.hist(v,density=True,bins=50,label=trial)#,grid=False)#,color='event_id_int')\n",
    "#     ax.hist(v,density=True,bins='auto',label=trial)#,grid=False)#,color='event_id_int')\n",
    " \n",
    "\n",
    "#plot the max likelihood fit to the laplace distribution\n",
    "x_values=np.linspace(xmin,xmax,100)\n",
    "laplace_values=comp_laplace_pdf(x_values,mu,beta)\n",
    "plt.plot(x_values,laplace_values,'g--',lw=4,alpha=0.4,label='Laplace Fit')\n",
    "\n",
    "format_plot(ax, xlabel=r'$dR/dt$ (cm)', ylabel='prob. density', fontsize=fontsize, use_loglog=False)\n",
    "ax.legend(fontsize=fontsize-4,loc='lower center')\n",
    "ax.set_yscale('log')\n",
    "ax.set_xlim([xmin,xmax])\n",
    "ax.set_title(f'fit parameters: mu={mu:.3f} cm, beta={beta:.3f} cm\\n')\n",
    "# ax.set_ylim([0,0.01])\n",
    "plt.tight_layout()\n",
    "plt.show()"
   ]
  },
  {
   "cell_type": "code",
   "execution_count": 32,
   "id": "6fd31a1f",
   "metadata": {
    "ExecuteTime": {
     "end_time": "2021-10-03T05:28:46.415256Z",
     "start_time": "2021-10-03T05:28:46.348195Z"
    }
   },
   "outputs": [],
   "source": [
    "#index by individual pairs\n",
    "dfr=df_R.set_index([trial_col,'pid_self','pid_other']).sort_values(by='t')\n",
    "#identify all pairs that are within this range\n",
    "boo=(dfr['R']<=maximum_range_threshold)&(dfr['R']>=minimum_range_threshold)\n",
    "index_values=dfr.index.drop_duplicates().values"
   ]
  },
  {
   "cell_type": "code",
   "execution_count": 33,
   "id": "f99af657",
   "metadata": {
    "ExecuteTime": {
     "end_time": "2021-10-03T05:28:46.651604Z",
     "start_time": "2021-10-03T05:28:46.416954Z"
    }
   },
   "outputs": [
    {
     "data": {
      "image/png": "[encoded data removed]",
      "text/plain": [
       "<Figure size 504x360 with 1 Axes>"
      ]
     },
     "metadata": {},
     "output_type": "display_data"
    }
   ],
   "source": [
    "#plot a few particle events\n",
    "fontsize=14\n",
    "fig,ax=plt.subplots(figsize=(7,5))\n",
    "for iv in index_values.get()[:3]:\n",
    "    x_values,y_values=dfr.loc[iv].sort_values(by='t')[['t','R']].values.T.get()\n",
    "    ax.plot(x_values-x_values[0],y_values,label=f\"pair {(iv[1],iv[2])}\")\n",
    "format_plot(ax, xlabel=r'$t$ (ms)', ylabel=r'$R$ (cm)', fontsize=fontsize, use_loglog=False)\n",
    "ax.legend(fontsize=fontsize-2)\n",
    "plt.title(f'tavg1={tavg1} ms, tavg2={0} ms\\n')\n",
    "plt.tight_layout()\n",
    "plt.show()"
   ]
  },
  {
   "cell_type": "code",
   "execution_count": 34,
   "id": "61ca2df5",
   "metadata": {
    "ExecuteTime": {
     "end_time": "2021-10-03T05:28:46.870132Z",
     "start_time": "2021-10-03T05:28:46.653062Z"
    }
   },
   "outputs": [
    {
     "data": {
      "image/png": "[encoded data removed]",
      "text/plain": [
       "<Figure size 504x288 with 1 Axes>"
      ]
     },
     "metadata": {},
     "output_type": "display_data"
    }
   ],
   "source": [
    "#plot a few particle events\n",
    "fontsize=14\n",
    "fig,ax=plt.subplots(figsize=(7,4))\n",
    "for iv in index_values.get()[:3]:\n",
    "    x_values,y_values=dfr.loc[iv].sort_values(by='t')[['R_midpoint','dRdt']].values.T.get()\n",
    "#     ax.scatter(x_values,y_values,label=f\"pair {(iv[1],iv[2])}\")\n",
    "    ax.plot(x_values,y_values,label=f\"pair {(iv[1],iv[2])}\")\n",
    "format_plot(ax, xlabel=r'$R$ (cm)', ylabel=r'$dR/dt$ (cm/s)', fontsize=fontsize, use_loglog=False)\n",
    "ax.legend(fontsize=fontsize-2)\n",
    "plt.tight_layout()\n",
    "plt.show()"
   ]
  },
  {
   "cell_type": "code",
   "execution_count": null,
   "id": "9d062d2f",
   "metadata": {},
   "outputs": [],
   "source": []
  },
  {
   "cell_type": "markdown",
   "id": "9019b44c",
   "metadata": {},
   "source": [
    "# compute the radial velocities with the savgol_filtered "
   ]
  },
  {
   "cell_type": "code",
   "execution_count": 35,
   "id": "441d0caf",
   "metadata": {
    "ExecuteTime": {
     "end_time": "2021-10-03T05:28:56.338649Z",
     "start_time": "2021-10-03T05:28:46.871343Z"
    }
   },
   "outputs": [],
   "source": [
    "savgol_kwargs=dict(\n",
    "    window_length=navg2,\n",
    "    polyorder=3,\n",
    "    deriv=1,\n",
    "    delta=1.0,\n",
    "    axis=-1,\n",
    "    mode='interp'\n",
    ")\n",
    "\n",
    "savgol0_kwargs=dict(\n",
    "    window_length=navg2,\n",
    "    polyorder=3,\n",
    "    deriv=0,\n",
    "    delta=1.0,\n",
    "    axis=-1,\n",
    "    mode='interp'\n",
    ")\n",
    "\n",
    "df_traj=extract_trajectory_pairs_cu(df,df_pairs,pid_col,t_col,trial_col,DT)\n",
    "#compute the naive finite difference radial velocity between all pairs of particles\n",
    "df_traj=comp_xy_distance_L2_pbc_cu(df_traj,width,height)\n",
    "df_traj['R']=df_traj['dist']*DS #cm\n",
    "#isolate only the columns relevant to computing the attraction coefficient, a\n",
    "df_R=df_traj[[trial_col,'pid_self','pid_other',t_col,'R']].dropna()\n",
    "df_R=df_R.sort_values([trial_col,'pid_self','pid_other',t_col], ascending=True)#.copy()\n",
    "\n",
    "#compute the smoothed derivative savgol_filter using scipy's cryptic cython code\n",
    "grouped=df_R.to_pandas().groupby([trial_col,'pid_self','pid_other'])\n",
    "result = grouped['R'].apply(savgol_filter,**savgol_kwargs)\n",
    "dRdt_values=cp.array(np.concatenate(result.values))\n",
    "df_R['dRdt']=dRdt_values\n",
    "\n",
    "#compute the smoothed value savgol_filter using scipy's cryptic cython code\n",
    "grouped=df_R.to_pandas().groupby([trial_col,'pid_self','pid_other'])\n",
    "result = grouped['R'].apply(savgol_filter,**savgol0_kwargs)\n",
    "R_values=cp.array(np.concatenate(result.values))\n",
    "df_R['R']=R_values\n",
    "\n",
    "df_R['one_over_R']=1./df_R['R'] #1/cm\n",
    "df_R.dropna(inplace=True)\n",
    "df_R.head()\n",
    "\n",
    "#index by individual pairs\n",
    "dfr=df_R.set_index([trial_col,'pid_self','pid_other']).sort_values(by='t')\n",
    "#identify all pairs that are within this range\n",
    "boo=(dfr['R']<=maximum_range_threshold\n",
    "    )&(dfr['R']>=minimum_range_threshold)\n",
    "index_values=boo.index.drop_duplicates().values"
   ]
  },
  {
   "cell_type": "code",
   "execution_count": 36,
   "id": "127f9bd9",
   "metadata": {
    "ExecuteTime": {
     "end_time": "2021-10-03T05:28:56.584495Z",
     "start_time": "2021-10-03T05:28:56.340081Z"
    }
   },
   "outputs": [
    {
     "data": {
      "image/png": "[encoded data removed]",
      "text/plain": [
       "<Figure size 504x360 with 1 Axes>"
      ]
     },
     "metadata": {},
     "output_type": "display_data"
    }
   ],
   "source": [
    "#plot a few particle events\n",
    "fontsize=14\n",
    "fig,ax=plt.subplots(figsize=(7,5))\n",
    "for iv in index_values.get()[:3]:\n",
    "#     x_values,y_values=dfr2.loc[iv][['t','R']].values.T.get()\n",
    "    x_values,y_values=dfr.loc[iv][['t','R']].sort_values(by='t').values.T.get()\n",
    "    x_values=(x_values-x_values[0])[1:-1]\n",
    "    y_values=y_values[1:-1]\n",
    "    ax.plot(x_values,y_values,label=f\"pair {(iv[1],iv[2])}\")\n",
    "format_plot(ax, xlabel=r'$t$ (ms)', ylabel=r'$R$ (cm)', fontsize=fontsize, use_loglog=False)\n",
    "ax.legend(fontsize=fontsize-2)\n",
    "plt.title(f'tavg1={tavg1} ms, tavg2={tavg2} ms\\n')\n",
    "plt.tight_layout()\n",
    "plt.show()"
   ]
  },
  {
   "cell_type": "code",
   "execution_count": 37,
   "id": "29aa82a3",
   "metadata": {
    "ExecuteTime": {
     "end_time": "2021-10-03T05:28:56.779123Z",
     "start_time": "2021-10-03T05:28:56.585433Z"
    }
   },
   "outputs": [
    {
     "data": {
      "image/png": "[encoded data removed]",
      "text/plain": [
       "<Figure size 504x288 with 1 Axes>"
      ]
     },
     "metadata": {},
     "output_type": "display_data"
    }
   ],
   "source": [
    "#plot a few particle events\n",
    "fontsize=14\n",
    "fig,ax=plt.subplots(figsize=(7,4))\n",
    "for iv in index_values.get()[:3]:\n",
    "    x_values,y_values=dfr.loc[iv].sort_values(by='t')[['R','dRdt']].values.T.get()\n",
    "    x_values=x_values#[4:]\n",
    "    y_values=y_values#[4:]\n",
    "    ax.plot(x_values,y_values,label=f\"pair {(iv[1],iv[2])}\")\n",
    "format_plot(ax, xlabel=r'$R$ (cm)', ylabel=r'$dR/dt$ (cm/s)', fontsize=fontsize, use_loglog=False)\n",
    "ax.legend(fontsize=fontsize-2)\n",
    "plt.tight_layout()\n",
    "plt.show()"
   ]
  },
  {
   "cell_type": "code",
   "execution_count": 50,
   "id": "95ba783b",
   "metadata": {
    "ExecuteTime": {
     "end_time": "2021-10-03T05:31:28.501217Z",
     "start_time": "2021-10-03T05:31:28.140054Z"
    }
   },
   "outputs": [
    {
     "data": {
      "image/png": "[encoded data removed]",
      "text/plain": [
       "<Figure size 504x288 with 1 Axes>"
      ]
     },
     "metadata": {},
     "output_type": "display_data"
    }
   ],
   "source": [
    "#plot histogram of durations\n",
    "fontsize=20\n",
    "fig,ax=plt.subplots(figsize=(7,4))\n",
    "\n",
    "trial_col_lst=sorted(df_R[trial_col].drop_duplicates().values.get())\n",
    "for trial in trial_col_lst[:5]:\n",
    "    df_R.query(f\"{trial_col} == {trial}\")['R'].to_pandas().hist(density=True,bins=50,ax=ax,label=trial,grid=False)#,color='event_id_int')\n",
    "        \n",
    "format_plot(ax, xlabel=r'$R$ (cm)', ylabel='prob. density', fontsize=fontsize, use_loglog=False)\n",
    "ax.legend(fontsize=fontsize-2)\n",
    "\n",
    "#plot threshold lines\n",
    "yv=np.linspace(0,0.6,10)\n",
    "ax.plot(minimum_range_threshold+0.*yv,yv,'gray',lw=2, linestyle='dashed', label='threshold')\n",
    "ax.plot(maximum_range_threshold+0.*yv,yv,'gray',lw=2, linestyle='dashed', label='threshold')\n",
    "\n",
    "plt.tight_layout()\n",
    "plt.show()"
   ]
  },
  {
   "cell_type": "code",
   "execution_count": 48,
   "id": "1e95bb7a",
   "metadata": {
    "ExecuteTime": {
     "end_time": "2021-10-03T05:29:42.143985Z",
     "start_time": "2021-10-03T05:29:42.099443Z"
    }
   },
   "outputs": [],
   "source": [
    "xmin=-1;xmax=1\n",
    "#DONE: plot a laplace distribution over ^this\n",
    "xv=df_R.query(f\"{trial_col} == {trial}\")['dRdt'].values.get()\n",
    "v=xv[(xv>xmin)&(xv<xmax)]\n",
    "mu=np.mean(v)\n",
    "beta=np.std(v)/np.sqrt(2)\n",
    "def comp_laplace_pdf(x,mu,beta):\n",
    "    return np.exp(-np.abs(x-mu)/beta)/(2*beta)"
   ]
  },
  {
   "cell_type": "code",
   "execution_count": 49,
   "id": "2c908b23",
   "metadata": {
    "ExecuteTime": {
     "end_time": "2021-10-03T05:29:42.979598Z",
     "start_time": "2021-10-03T05:29:42.694121Z"
    }
   },
   "outputs": [
    {
     "data": {
      "image/png": "[encoded data removed]",
      "text/plain": [
       "<Figure size 504x288 with 1 Axes>"
      ]
     },
     "metadata": {},
     "output_type": "display_data"
    }
   ],
   "source": [
    "#plot histogram of durations\n",
    "fontsize=20\n",
    "fig,ax=plt.subplots(figsize=(7,4))\n",
    "trial_col_lst=sorted(df_R[trial_col].drop_duplicates().values.get())\n",
    "for trial in trial_col_lst[:5]:\n",
    "    xv=df_R.query(f\"{trial_col} == {trial}\")['dRdt'].values.get()\n",
    "    v=xv[(xv>xmin)&(xv<xmax)]# np.max(xv),np.quantile(xv,.15),np.mean(xv),np.quantile(xv,.85),np.max(xv)\n",
    "    ax.hist(v,density=True,bins=50,label=trial)#,grid=False)#,color='event_id_int')\n",
    "#     ax.hist(v,density=True,bins='auto',label=trial)#,grid=False)#,color='event_id_int')\n",
    " \n",
    "\n",
    "#plot the max likelihood fit to the laplace distribution\n",
    "x_values=np.linspace(xmin,xmax,100)\n",
    "laplace_values=comp_laplace_pdf(x_values,mu,beta)\n",
    "plt.plot(x_values,laplace_values,'g--',lw=4,alpha=0.4,label='Laplace Fit')\n",
    "\n",
    "format_plot(ax, xlabel=r'$dR/dt$ (cm)', ylabel='prob. density', fontsize=fontsize, use_loglog=False)\n",
    "ax.legend(fontsize=fontsize-4,loc='lower center')\n",
    "ax.set_yscale('log')\n",
    "ax.set_xlim([xmin,xmax])\n",
    "ax.set_title(f'fit parameters: mu={mu:.3f} cm, beta={beta:.3f} cm\\n')\n",
    "# ax.set_ylim([0,0.01])\n",
    "plt.tight_layout()\n",
    "plt.show()"
   ]
  },
  {
   "cell_type": "code",
   "execution_count": 41,
   "id": "2df9f975",
   "metadata": {
    "ExecuteTime": {
     "end_time": "2021-10-03T05:28:57.485198Z",
     "start_time": "2021-10-03T05:28:57.464554Z"
    }
   },
   "outputs": [],
   "source": [
    "# #THIS IS THE SHORTEST PATH TO Success\n",
    "# MULTIINDEX SO THE PRIMITIVE OBJECT IS THE RANGE TIME SERIES\n",
    "# COMPUTE KEY VALUES 1/R AND DRDT\n",
    "# NAIVELY MEASURE A\n",
    "# REMOVE OUTLIER A VALUES OR A THAT RECIEVED A NASTY FIT\n",
    "# RECOMPUTE A WITH AN ENSEMBLE BOOTSTRAP\n",
    "# IF A IS STILL NOT GREAT, CONSIDER USINVE TAVG2 WITH SOMETHING LIKE A SAVGOL FILTER IMPLEMENTED AS AN FIR FILTER\n",
    "# KEEP TRYING UNTIL I HAVE AN ESTIMATE OF A THAT IS CONSISTENT WITH THE PARTICLE MODEL"
   ]
  },
  {
   "cell_type": "code",
   "execution_count": 42,
   "id": "1ac1605e",
   "metadata": {
    "ExecuteTime": {
     "end_time": "2021-10-03T05:28:57.506782Z",
     "start_time": "2021-10-03T05:28:57.486522Z"
    }
   },
   "outputs": [],
   "source": [
    "# #THIS IS THE SHORTEST PATH TO Success\n",
    "# df.loc[[0,0]]\n",
    "# #can I repeat a label? using loc. yes!  THIS CAN BE SOLVE SIMPLY BY \n",
    "# # USE DF_PAIRS TO DETERMINE THE MULTIPLICITY_self OF EACH PID_SELF\n",
    "# multiplicity_self=df_pairs.groupby([trial_col,'pid_self'])['tmin'].count()\n",
    "# # # USE DF_PAIRS TO DETERMINE THE MULTIPLICITY_other OF EACH PID_OTHER\n",
    "# # SET THE INDEX TO PID_COL IN DF AS DFP\n",
    "# dfp=df.set_index(pid_col)\n",
    "# # MAKE A LIST OF INDICIES WHERE PID_COL IS REPEATED MULTIPLICITY TIMES\n",
    "\n",
    "# # LOCATE AND COPY DF WITH ^THAT LIST FOR SELF\n",
    "# # MAKE A LIST OF INDICIES WHERE PID_COL IS REPEATED MULTIPLICITY TIMES\n",
    "# # LOCATE AND COPY DF WITH ^THAT LIST FOR OTHER\n",
    "# # MAKE A SINGLE DF WITH ALL OF THE DESIRED COLUMNS (SEE HANDWRITTEN (3))\n",
    "# # REWRITE A PANDASESQUE DIST_L2_PBC_CUDF MEASURE \n",
    "# # COMPUTE THE CUDF DATAFRAME OF ALL RANGE TIMESERIES FOR ALL PAIRS"
   ]
  },
  {
   "cell_type": "code",
   "execution_count": 43,
   "id": "df5b4ea0",
   "metadata": {
    "ExecuteTime": {
     "end_time": "2021-10-03T05:28:57.530474Z",
     "start_time": "2021-10-03T05:28:57.508388Z"
    }
   },
   "outputs": [],
   "source": [
    "# #DONE: visually verify these values look sensible\n",
    "# plt.plot(dist_values.get())\n",
    "# plt.show()\n",
    "# plt.plot(self_values[:,0].get(),self_values[:,1].get())\n",
    "# plt.plot(other_values[:,0].get(),other_values[:,1].get())\n",
    "# plt.show()"
   ]
  },
  {
   "cell_type": "code",
   "execution_count": 44,
   "id": "036c7a89",
   "metadata": {
    "ExecuteTime": {
     "end_time": "2021-10-03T05:28:57.555689Z",
     "start_time": "2021-10-03T05:28:57.532133Z"
    }
   },
   "outputs": [],
   "source": [
    "# #DONE:compute the distance in x between any points where two spiral tips occur at the same time in t\n",
    "# #is the best way to do this to project to cupy and to run all rows in  together in a daskbag?  sure."
   ]
  },
  {
   "cell_type": "markdown",
   "id": "a87a3454",
   "metadata": {},
   "source": [
    "# next step: get a reasonable value for the attraction coefficient, a"
   ]
  },
  {
   "cell_type": "code",
   "execution_count": null,
   "id": "22498791",
   "metadata": {},
   "outputs": [],
   "source": [
    "#TODO: bootstrap dRdt versus R for one input_fn\n",
    "#TODO: compute a for one input_fn\n",
    "\n",
    "#TODO: copy all ^this into 1 function and test it on two input_fn_lsts \n",
    "#TODO: apply ^that to a daskbag routine mapping each input_fn in input_fn_lst to a df_traj\n",
    "#TODO: merge df_traj_lst to df_traj_all and save to csv\n",
    "#TODO: bootstrap dRdt versus R for input_fn_kst\n",
    "#TODO: compute a for one input_fn_lst"
   ]
  },
  {
   "cell_type": "code",
   "execution_count": 45,
   "id": "c62c2381",
   "metadata": {
    "ExecuteTime": {
     "end_time": "2021-10-03T05:28:57.575567Z",
     "start_time": "2021-10-03T05:28:57.556708Z"
    }
   },
   "outputs": [],
   "source": [
    "#TODO(IMMEDIATE FOLLOWUP GOAL): show how insensitive a is to choice in navg1 (and/or navg2 if I'm using it!)\n",
    "#GOAL_QUESTION: does there exist a tavg1 that produces the right expected a for a single termination event??"
   ]
  },
  {
   "cell_type": "code",
   "execution_count": 46,
   "id": "8785a01e",
   "metadata": {
    "ExecuteTime": {
     "end_time": "2021-10-03T05:28:57.595399Z",
     "start_time": "2021-10-03T05:28:57.576581Z"
    }
   },
   "outputs": [],
   "source": [
    "#TODO: estimate an ensemble averaged a estimate\n",
    "#TODO: augment df_interacting_pairs with estimates for a for individual pairs of particles\n",
    "#TODO: use ^that to filter based on Rsq or Delta_a and recompute an ensemble averaged a estimate"
   ]
  },
  {
   "cell_type": "code",
   "execution_count": null,
   "id": "e6ba7da3",
   "metadata": {},
   "outputs": [],
   "source": []
  },
  {
   "cell_type": "code",
   "execution_count": null,
   "id": "aa52abbe",
   "metadata": {},
   "outputs": [],
   "source": []
  },
  {
   "cell_type": "code",
   "execution_count": null,
   "id": "5a363b6f",
   "metadata": {},
   "outputs": [],
   "source": []
  },
  {
   "cell_type": "code",
   "execution_count": 47,
   "id": "6a4a3c15",
   "metadata": {
    "ExecuteTime": {
     "end_time": "2021-10-03T05:28:57.617795Z",
     "start_time": "2021-10-03T05:28:57.596760Z"
    }
   },
   "outputs": [
    {
     "name": "stdout",
     "output_type": "stream",
     "text": [
      "hooray!\n"
     ]
    }
   ],
   "source": [
    "print(f\"hooray!\")"
   ]
  }
 ],
 "metadata": {
  "kernelspec": {
   "display_name": "Python 3 (ipykernel)",
   "language": "python",
   "name": "python3"
  },
  "language_info": {
   "codemirror_mode": {
    "name": "ipython",
    "version": 3
   },
   "file_extension": ".py",
   "mimetype": "text/x-python",
   "name": "python",
   "nbconvert_exporter": "python",
   "pygments_lexer": "ipython3",
   "version": "3.7.10"
  },
  "toc": {
   "base_numbering": 1,
   "nav_menu": {},
   "number_sections": true,
   "sideBar": true,
   "skip_h1_title": false,
   "title_cell": "Table of Contents",
   "title_sidebar": "Contents",
   "toc_cell": false,
   "toc_position": {},
   "toc_section_display": true,
   "toc_window_display": false
  },
  "varInspector": {
   "cols": {
    "lenName": 16,
    "lenType": 16,
    "lenVar": 40
   },
   "kernels_config": {
    "python": {
     "delete_cmd_postfix": "",
     "delete_cmd_prefix": "del ",
     "library": "var_list.py",
     "varRefreshCmd": "print(var_dic_list())"
    },
    "r": {
     "delete_cmd_postfix": ") ",
     "delete_cmd_prefix": "rm(",
     "library": "var_list.r",
     "varRefreshCmd": "cat(var_dic_list()) "
    }
   },
   "types_to_exclude": [
    "module",
    "function",
    "builtin_function_or_method",
    "instance",
    "_Feature"
   ],
   "window_display": false
  }
 },
 "nbformat": 4,
 "nbformat_minor": 5
}
