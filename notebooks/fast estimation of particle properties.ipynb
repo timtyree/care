{
 "cells": [
  {
   "cell_type": "markdown",
   "id": "f3bceb72",
   "metadata": {},
   "source": [
    "# fast estimation of particle properties\n",
    "Tim Tyree<br>\n",
    "9.29.2021<br>\n",
    "`conda activate pyenv_ub`"
   ]
  },
  {
   "cell_type": "markdown",
   "id": "1610b5d4",
   "metadata": {},
   "source": [
    "__GOALS__:\n",
    "- DONE: compute dRdt versus 1/R for unconstrained random samples from smoothed and validated trajectories\n",
    "- TODO: compute a from a bootstrap of 1/R versus a for one input_fn\n",
    "- TODO: compute a from a bootstrap of 1/R versus a for one input_fn_lst\n",
    "- TODO: compute a from a bootstrap of 1/R versus a for each input_fn_lst\n",
    "- TODO: repeat for measuring ensemble MSD to give the diffusion coefficient, D\n",
    "- TODO(later?): efficiently generate an _inline_ rendering of dRdt versus 1/R and MSD versus tau using dashly.  try the solution suggested on my stackoverflow post\n",
    "- TODO: generate a .bluf for each input_fn_lst to document the particle property measurements\n",
    "- TODO: show qualitative insenstivity to choice in navg1 and navg2"
   ]
  },
  {
   "cell_type": "markdown",
   "id": "b8bdb43b",
   "metadata": {},
   "source": [
    "__TODO(later):__ bug mike to make certain that for the 99.95% accurate decoder, that the i^th neuron for the Match trials is the same as the i^th neuron for the Mismatch trials for all i neuron-units considered."
   ]
  },
  {
   "cell_type": "markdown",
   "id": "800f8112",
   "metadata": {},
   "source": [
    "howdo hierarchical multi-indexing: https://pandas.pydata.org/pandas-docs/stable/user_guide/advanced.html#hierarchical-indexing-multiindex"
   ]
  },
  {
   "cell_type": "code",
   "execution_count": 1,
   "id": "6c811d0a",
   "metadata": {
    "ExecuteTime": {
     "end_time": "2021-10-04T03:33:16.785944Z",
     "start_time": "2021-10-04T03:33:14.223038Z"
    }
   },
   "outputs": [
    {
     "name": "stdout",
     "output_type": "stream",
     "text": [
      "Automatic calling is: Smart\n"
     ]
    }
   ],
   "source": [
    "from lib.my_initialization import *\n",
    "from lib import *\n",
    "# from lib.measure.unwrap_and_smooth_cu import *\n",
    "# from lib.rapids_func import *\n",
    "# .routines.unwrap_and_smooth_trajectories_cu import *\n",
    "\n",
    "import itertools\n",
    "import dask_cudf\n",
    "from lib.rapids_func import *\n",
    "get_DT_cu\n",
    "\n",
    "#magic    \n",
    "%autocall 1\n",
    "%load_ext autoreload\n",
    "%autoreload 2\n",
    "\n",
    "import cupy as cp, cudf, numba.cuda as cuda\n",
    "import rmm\n",
    "# Switch to RMM allocator\n",
    "cp.cuda.set_allocator(rmm.rmm_cupy_allocator)"
   ]
  },
  {
   "cell_type": "code",
   "execution_count": 2,
   "id": "3be00b34",
   "metadata": {
    "ExecuteTime": {
     "end_time": "2021-10-04T03:33:16.825766Z",
     "start_time": "2021-10-04T03:33:16.787771Z"
    }
   },
   "outputs": [
    {
     "data": {
      "text/plain": [
       "<function lib.rapids_func.measure.bootstrap_cu.bin_and_bootstrap_xy_values_cu(x, y, xlabel='x', ylabel='y', bins='auto', min_numobs=None, num_bootstrap_samples=1000, npartitions=1, use_test=True, test_val=0, printing=False, **kwargs)>"
      ]
     },
     "execution_count": 2,
     "metadata": {},
     "output_type": "execute_result"
    }
   ],
   "source": [
    "from lib.rapids_func import *\n",
    "bin_and_bootstrap_xy_values_cu"
   ]
  },
  {
   "cell_type": "code",
   "execution_count": 3,
   "id": "66b8882d",
   "metadata": {
    "ExecuteTime": {
     "end_time": "2021-10-04T03:33:16.953389Z",
     "start_time": "2021-10-04T03:33:16.828420Z"
    }
   },
   "outputs": [],
   "source": [
    "darkmode=True\n",
    "if darkmode:\n",
    "    # For darkmode plots\n",
    "    from jupyterthemes import jtplot\n",
    "    jtplot.style(theme='monokai', context='notebook', ticks=True, grid=False)"
   ]
  },
  {
   "cell_type": "markdown",
   "id": "08f6fce5",
   "metadata": {
    "ExecuteTime": {
     "end_time": "2021-09-30T07:44:21.858663Z",
     "start_time": "2021-09-30T07:44:21.823646Z"
    },
    "heading_collapsed": true
   },
   "source": [
    "# (optional) postprocess a token trajectory file\n",
    "- Nota Bene: batch computation is already automated and optimized in 'fast postprocessing a list of trajectory folders.ipynb'"
   ]
  },
  {
   "cell_type": "code",
   "execution_count": 4,
   "id": "62c062e3",
   "metadata": {
    "ExecuteTime": {
     "end_time": "2021-10-04T03:33:16.992388Z",
     "start_time": "2021-10-04T03:33:16.955914Z"
    },
    "hidden": true
   },
   "outputs": [],
   "source": [
    "# input_fn=search_for_file()\n",
    "\n",
    "# # #token FK at DT=0.4\n",
    "# input_fn=\"/home/timothytyree/Documents/GitHub/care/notebooks/Data/initial-conditions-fk-200x200/param_set_8_ds_5.0_tmax_10_diffCoef_0.0005/Log/ic200x200.0.2_traj_sr_400_mem_0.csv\"\n",
    "\n",
    "# # #tokenLR at DT=0.5\n",
    "# input_fn=f\"/home/timothytyree/Documents/GitHub/care/notebooks/Data/initial-conditions-suite-3-LR/param_qu_tmax_30_Ko_5.4_diffCoef_0.0005_dt_0.5/trajectories/ic002.31_traj_sr_600_mem_0.csv\"\n",
    "input_fn=f\"/home/timothytyree/Documents/GitHub/care/notebooks/Data/initial-conditions-suite-3-LR/param_qu_tmax_30_Ko_5.4_diffCoef_0.0005_dt_0.5/trajectories/ic002.11_traj_sr_600_mem_0.csv\"\n",
    "\n",
    "#test routine on one file\n",
    "testing=False\n",
    "if testing:\n",
    "    df=pd.read_csv(input_fn)\n",
    "    DT=np.around(get_DT(df),5);print(f\"DT={DT}\")\n",
    "    # ds=5 #cm\n",
    "    # DS=ds/width\n",
    "    tavg1=4 #moving average window, in ms\n",
    "    width=200\n",
    "    height=width\n",
    "    use_drop_shorter_than=True\n",
    "    drop_shorter_than=50 #ms\n",
    "    tmin=100.#ms\n",
    "    pid_col='particle'\n",
    "    t_col='t'\n",
    "    printing=False\n",
    "    navg1=int(tavg1/DT)\n",
    "    save_dir=return_moving_average_of_pbc_trajectories_and_save(\n",
    "            input_fn, tavg1, pid_col, t_col, DT, width, height,\n",
    "            use_drop_shorter_than, drop_shorter_than, tmin, printing)\n",
    "    print(save_dir)\n",
    "\n",
    "    df=load_smoothed_trajectories(save_dir,pid_col,t_col)\n",
    "    df.head()"
   ]
  },
  {
   "cell_type": "code",
   "execution_count": 5,
   "id": "8926afa1",
   "metadata": {
    "ExecuteTime": {
     "end_time": "2021-10-04T03:33:17.033518Z",
     "start_time": "2021-10-04T03:33:16.994511Z"
    },
    "hidden": true
   },
   "outputs": [],
   "source": [
    "#run the routine on a whole folder\n",
    "# print((DT, input_fn))\n",
    "# save_dir_lst=routine_postprocess_trajectory_folder(input_fn,DT,tavg1=4, npartitions=None,\n",
    "#                                         width=200,\n",
    "#                                         height=200,\n",
    "#                                         use_drop_shorter_than=True,\n",
    "#                                         drop_shorter_than=50, #ms\n",
    "#                                         tmin=100., #ms\n",
    "#                                         pid_col='particle',\n",
    "#                                         t_col='t',\n",
    "#                                         printing=False)"
   ]
  },
  {
   "cell_type": "code",
   "execution_count": 6,
   "id": "8b837b31",
   "metadata": {
    "ExecuteTime": {
     "end_time": "2021-10-04T03:33:17.065917Z",
     "start_time": "2021-10-04T03:33:17.035688Z"
    },
    "hidden": true
   },
   "outputs": [],
   "source": [
    "# #TODO(later): compute squared displacements\n",
    "# grouped=df.groupby(pid_col)\n",
    "# #HINT: squared displacements of particles is result\n",
    "#  throws AttributeError: DataFrameGroupBy object has no attribute first \n",
    "# result = (grouped[['x','y']]-grouped[['x','y']].first())**2"
   ]
  },
  {
   "cell_type": "code",
   "execution_count": 7,
   "id": "791ed272",
   "metadata": {
    "ExecuteTime": {
     "end_time": "2021-10-04T03:33:17.094239Z",
     "start_time": "2021-10-04T03:33:17.067290Z"
    },
    "hidden": true
   },
   "outputs": [],
   "source": [
    "#TODO(later): implement a one_step method on an element in a finite element simulation\n",
    "# HINT: cudf.Grouper?\n",
    "# HINT: https://pandas.pydata.org/pandas-docs/stable/user_guide/groupby.html#grouping-with-a-grouper-specification\n",
    "# HINT: https://pandas.pydata.org/pandas-docs/stable/user_guide/groupby.html#transformation"
   ]
  },
  {
   "cell_type": "code",
   "execution_count": 8,
   "id": "cadd81b4",
   "metadata": {
    "ExecuteTime": {
     "end_time": "2021-10-04T03:33:17.121180Z",
     "start_time": "2021-10-04T03:33:17.095805Z"
    },
    "hidden": true
   },
   "outputs": [],
   "source": [
    "#DONE: figure out if there's an elegant was to use the cudf api  to do this\n",
    "#for each group of event_id_int's :\n",
    "#compare every particle to every other particle in a simple way\n",
    "#compare every particle to every other particle to determine if the self,other pair intersects nontrivially\n",
    "\n",
    "#DONE: determine condition for whether each pair is intersecting for at least two times \n",
    "# two particles exist for at least two times if both\n",
    "#if other has a tmin > tmin of self\n",
    "#AND if other has a tmax < tmax of self, \n",
    "\n",
    "# #DONE: construct the graph of all edges... this wasn't useful...\n",
    "# G = cugraph.Graph()\n",
    "# G.from_cudf_edgelist(df_pairs, source='src', destination='dst', edge_attr='dst')\n",
    "# # # Let's now get the PageRank score of each vertex by calling cugraph.pagerank\n",
    "# # df_page = cugraph.pagerank(G)\n",
    "# # df_page.head()"
   ]
  },
  {
   "cell_type": "code",
   "execution_count": 9,
   "id": "486494a5",
   "metadata": {
    "ExecuteTime": {
     "end_time": "2021-10-04T03:33:17.148588Z",
     "start_time": "2021-10-04T03:33:17.124033Z"
    },
    "hidden": true
   },
   "outputs": [],
   "source": [
    "#DONE: compute which edges are intersecting\n",
    "#DONE: compute tmin and tmax for each intersecting edge\n",
    "#DONE: compute duration for each intersecting edge\n",
    "#DONE: sort edges by duration\n",
    "#DONE: visualize the histogram of durations of intersecting edges\n",
    "#DONE: consider a minimum_duration_threshold that is at least tavg2 if not specified"
   ]
  },
  {
   "cell_type": "markdown",
   "id": "1f8d1e9d",
   "metadata": {
    "heading_collapsed": true,
    "hidden": true
   },
   "source": [
    "## scratchwerk"
   ]
  },
  {
   "cell_type": "code",
   "execution_count": 10,
   "id": "898392ca",
   "metadata": {
    "ExecuteTime": {
     "end_time": "2021-10-04T03:33:17.173009Z",
     "start_time": "2021-10-04T03:33:17.150316Z"
    },
    "hidden": true
   },
   "outputs": [],
   "source": [
    "#DONT: figure out terrible numba debugging for a negligible speed boost\n",
    "# @cuda.jit()#device=True)\n",
    "# def distance_L2_pbc_cuda(point_1, point_2, dist_out, shape):\n",
    "#     '''distance_L2_pbc_cu is a jit compiled function that \n",
    "#     returns for the euclidean (L2) distance between \n",
    "#     point_1 and point_2, which are in an N-cube of shape shape \n",
    "#     with periodic boundary conditions\n",
    "    \n",
    "#     Example Usage:\n",
    "#     blockspergrid=1\n",
    "#     threadsperblock=1\n",
    "#     point_1=self_values[0]\n",
    "#     point_2=other_values[0]\n",
    "#     dist_out=0.#overwritten\n",
    "#     shape=(width,height)\n",
    "#     distance_L2_pbc_cuda[blockspergrid, threadsperblock](point_1, point_2, dist_out, shape)\n",
    "#     '''\n",
    "#     dq2 = 0.\n",
    "#     for q1, q2, wid in zip(point_1, point_2, shape):\n",
    "#         dq2 = dq2 + min(((q2 - q1)**2, (q2 + wid - q1 )**2, (q2 - wid - q1 )**2))\n",
    "#     dist_out= dq2**0.5\n",
    "\n",
    "# blockspergrid=1\n",
    "# threadsperblock=1\n",
    "# point_1=self_values[0]\n",
    "# point_2=other_values[0]\n",
    "# dist_out=np.array([0.])#*self_values\n",
    "# shape=(width,height)\n",
    "# # distance_L2_pbc_cuda(point_1, point_2, dist_out, shape)\n",
    "# distance_L2_pbc_cuda[blockspergrid, threadsperblock](point_1, point_2, dist_out, shape)\n",
    "# dist_out, point_1, point_2\n",
    "\n",
    "# from numba import vectorize\n",
    "# # shape=(width,height)\n",
    "# # @vectorize(['float32[:](float32, float32, float32)'], target='cuda')\n",
    "# shape=cp.array((width,height))\n",
    "# @vectorize(['(float32[:,:], float32[:,:], float32[:,:], float32[:])'], target='cuda')\n",
    "# def distance_L2_pbc_cu(self_values, other_values, dist_out_values, shape):\n",
    "#     for point_1, point_2, dist_out in zip(self_values, other_values, dist_out_values):\n",
    "#         distance_L2_pbc_cuda(point_1, point_2, dist_out, shape)\n",
    "\n",
    "# # blockspergrid=1\n",
    "# # threadsperblock=1\n",
    "# dist_out_values=0.*self_values\n",
    "# shape=cp.array((width,height))\n",
    "# distance_L2_pbc_cu(self_values, other_values, dist_out_values, shape)\n",
    "# # distance_L2_pbc_cuda[blockspergrid, threadsperblock](point_1, point_2, dist_out, shape)\n",
    "# # dist_out"
   ]
  },
  {
   "cell_type": "code",
   "execution_count": 11,
   "id": "ffae6abe",
   "metadata": {
    "ExecuteTime": {
     "end_time": "2021-10-04T03:33:17.201908Z",
     "start_time": "2021-10-04T03:33:17.174089Z"
    },
    "hidden": true
   },
   "outputs": [],
   "source": [
    "# def extract_xy_values_of_pair(df,pair,t_col='t'):\n",
    "#     '''\n",
    "#     df is a cudf.DataFrame instance of xy trajectories from no more than 1 trial \n",
    "#     pair is a row from a pandas.core.series.Series instance with columns,['pid_self', 'pid_other', 'tmin_self', 'tmin_other', 'tmax_self', 'tmax_other', 'tmin', 'tmax', 'duration', 'event_id_int']\n",
    "    \n",
    "#     Example Usage:\n",
    "#     pair=pd.Series(df_pairs.head(1).to_pandas())\n",
    "#     event_id_int=int(pair[trial_col])#.values.get())\n",
    "#     dff=df[df[trial_col]==event_id_int]\n",
    "#     self_values,other_values=extract_xy_values_of_pair(df=dff,pair=pair,t_col=t_col)\n",
    "#     '''\n",
    "#     dff=df\n",
    "#     #DONE: optimize data retrieval from pair by using only one gpu-to-cpu memory transfer\n",
    "#     pid_self =int(pair['pid_self'])#.values.get())\n",
    "#     pid_other=int(pair['pid_other'])#.values.get())\n",
    "#     tmin     =float(pair['tmin'])#.values.get())\n",
    "#     tmax     =float(pair['tmax'])#.values.get())\n",
    "#     #failed to broadcase in cudf\n",
    "#     #     if event_id_int is not None:\n",
    "#     #         dff=df[df[trial_col]==event_id_int]\n",
    "#     #     else:\n",
    "#     #         dff=df\n",
    "#     df_self =dff.loc[(dff[pid_col]==pid_self),[t_col,'x','y']]\n",
    "#     df_other=dff.loc[(dff[pid_col]==pid_other),[t_col,'x','y']]\n",
    "#     self_values=df_self.loc[(df_self[t_col]>=tmin)&(df_self[t_col]<=tmax),['x','y']].values\n",
    "#     other_values=df_other.loc[(df_other[t_col]>=tmin)&(df_other[t_col]<=tmax),['x','y']].values\n",
    "#     return self_values,other_values"
   ]
  },
  {
   "cell_type": "code",
   "execution_count": null,
   "id": "c7ec1156",
   "metadata": {
    "ExecuteTime": {
     "end_time": "2021-10-02T07:26:23.942805Z",
     "start_time": "2021-10-02T07:26:23.890263Z"
    },
    "hidden": true
   },
   "outputs": [],
   "source": []
  },
  {
   "cell_type": "code",
   "execution_count": 12,
   "id": "5fb12543",
   "metadata": {
    "ExecuteTime": {
     "end_time": "2021-10-04T03:33:17.232541Z",
     "start_time": "2021-10-04T03:33:17.204153Z"
    },
    "hidden": true
   },
   "outputs": [],
   "source": [
    "# pair=df_pairs.head(1)\n",
    "# event_id_int=int(pair[trial_col].values.get())\n",
    "# dff=df[df[trial_col]==event_id_int]\n",
    "# self_values,other_values=extract_xy_values_of_pair(df=dff,pair=pair,t_col=t_col)\n",
    "# print((self_values.shape,other_values.shape))\n",
    "# assert ( self_values.shape==other_values.shape ) "
   ]
  },
  {
   "cell_type": "code",
   "execution_count": 13,
   "id": "0653c8e1",
   "metadata": {
    "ExecuteTime": {
     "end_time": "2021-10-04T03:33:17.258379Z",
     "start_time": "2021-10-04T03:33:17.234115Z"
    },
    "hidden": true
   },
   "outputs": [],
   "source": [
    "#this function may be slow and might not even work...\n",
    "# def distance_L2_pbc_cu(self_values,other_values,shape):\n",
    "#     '''distance_L2_pbc_cu is a jit compiled function that \n",
    "#     returns for the euclidean (L2) distance between \n",
    "#     point_1 and point_2, which are in an N-cube of shape shape \n",
    "#     with periodic boundary conditions\n",
    "    \n",
    "#     Example Usage:\n",
    "#     shape=(width,height)\n",
    "#     dist_values=distance_L2_pbc_cu(self_values,other_values,shape)\n",
    "#     '''\n",
    "#     sqdiff_values = (self_values-other_values)**2\n",
    "#     #compute the other pbc options for sqdiff_values for each column\n",
    "#     for n,w in enumerate(shape):\n",
    "#         self_w_values  = self_values[:,n]\n",
    "#         other_w_values = other_values[:,n]\n",
    "#         sqdiff_w_values= sqdiff_values[:,n]\n",
    "#         sqdiff_wp_values=(self_w_values-other_w_values-w)**2\n",
    "#         sqdiff_wm_values=(self_w_values-other_w_values+w)**2\n",
    "#         boop=sqdiff_wp_values<sqdiff_w_values\n",
    "#         boom=sqdiff_wm_values<sqdiff_w_values\n",
    "#         sqdiff_values[boop,n]=sqdiff_wp_values[boop]\n",
    "#         sqdiff_values[boom,n]=sqdiff_wm_values[boom]\n",
    "\n",
    "#     dist_values=cp.sqrt(cp.sum(sqdiff_values,axis=1))\n",
    "#     return dist_values"
   ]
  },
  {
   "cell_type": "code",
   "execution_count": 14,
   "id": "4396b6a7",
   "metadata": {
    "ExecuteTime": {
     "end_time": "2021-10-04T03:33:17.281802Z",
     "start_time": "2021-10-04T03:33:17.259879Z"
    },
    "hidden": true
   },
   "outputs": [],
   "source": [
    "#DONE: histograms sanity check df_intersecting_pairs\n",
    "#DONE: verify that routine gives different values for different event_id_int\n",
    "#DONE: wrap generation of df_intersecting_pairs into a function \n",
    "#DONE: include event_id_int outside ^that function\n",
    "#DONE: accumulate df_intersecting_pairs_all over all event_id_int_values"
   ]
  },
  {
   "cell_type": "markdown",
   "id": "27432dfe",
   "metadata": {},
   "source": [
    "# define module"
   ]
  },
  {
   "cell_type": "code",
   "execution_count": 15,
   "id": "95b7808e",
   "metadata": {
    "ExecuteTime": {
     "end_time": "2021-10-04T03:33:17.310703Z",
     "start_time": "2021-10-04T03:33:17.283093Z"
    }
   },
   "outputs": [],
   "source": [
    "# def comp_xy_distance_L2_pbc_cu(d,width,height):\n",
    "#     '''comp_xy_distance_L2_pbc_cu is a pure cudf function that \n",
    "#     returns for the euclidean (L2) distance between \n",
    "#     point_1 and point_2, which are in a rectangular domain of shape (width,height) \n",
    "#     with periodic boundary conditions.\n",
    "#     returns d with many fields added. the distance is dist.\n",
    "#     supposes each row is uniquely indexed.\n",
    "    \n",
    "#     Example Usage:\n",
    "#     df_traj=comp_xy_distance_L2_pbc_cu(df_traj,width,height)\n",
    "#     '''\n",
    "#     #compute the three options for the square distance with pbc\n",
    "#     d['sdx']=(d['x_self']-d['x_other'])**2\n",
    "#     d['sdxp']=(d['x_self']-d['x_other']+width)**2\n",
    "#     d['sdxm']=(d['x_self']-d['x_other']-width)**2\n",
    "#     d['sdy']=(d['y_self']-d['y_other'])**2\n",
    "#     d['sdyp']=(d['y_self']-d['y_other']+height)**2\n",
    "#     d['sdym']=(d['y_self']-d['y_other']-height)**2\n",
    "#     #choose the minimum of each class of option\n",
    "#     d['minsdx']=d[['sdx','sdxp','sdxm']].min(axis=1)\n",
    "#     d['minsdy']=d[['sdy','sdyp','sdym']].min(axis=1)\n",
    "#     d['dist']=(d['minsdx'] + d['minsdy'])**0.5\n",
    "#     d['R']=d['dist']\n",
    "#     return d"
   ]
  },
  {
   "cell_type": "code",
   "execution_count": 16,
   "id": "d9a491c4",
   "metadata": {
    "ExecuteTime": {
     "end_time": "2021-10-04T03:33:17.339108Z",
     "start_time": "2021-10-04T03:33:17.312089Z"
    }
   },
   "outputs": [],
   "source": [
    "# def extract_trajectory_pairs_cu(df,df_pairs,pid_col,t_col,trial_col,col_lst=['index','x','y']):\n",
    "#     '''supposes df contains trajectories with fields, col_lst, taken at time points, t_col, that are evently spaced by an amount that is inferred.\n",
    "#     returns a cudf.DataFrame instance that has a column (for each col in col_lst) both for the self particle, indicated by pid_self, and for the other particle, indicated by pid_other.\n",
    "#     Example Usage:\n",
    "#     df_traj=extract_trajectory_pairs_cu(df,df_pairs,pid_col,t_col,trial_col)\n",
    "#     '''\n",
    "#     get_DT_cu(df,pid_col=pid_col,t_col=t_col)\n",
    "#     df_pairs['num_rows']=((df_pairs['tmax']-df_pairs['tmin'])/DT).astype(cp.int32)\n",
    "\n",
    "#     # df_pairs.reset_index(inplace=True)\n",
    "#     super_index_values=np.repeat(df_pairs.index.values.get(),df_pairs['num_rows'].values.get())\n",
    "#     df_traj=df_pairs.loc[super_index_values,[trial_col,'pid_self','pid_other']]\n",
    "#     df_traj.reset_index(inplace=True)\n",
    "#     df_traj.rename(columns={'index':'index_pairs'},inplace=True)\n",
    "\n",
    "#     #compute time values for df_traj\n",
    "#     num_row_values=df_pairs['num_rows'].values.get()\n",
    "#     step_number_lsts=[list(range(num_rows)) for num_rows in num_row_values]\n",
    "#     step_number_values=cp.hstack(step_number_lsts)\n",
    "#     tmin_values=df_pairs.loc[super_index_values,'tmin']\n",
    "#     t_values=cp.array(step_number_values*DT)+tmin_values\n",
    "#     df_traj['t']=t_values.get()\n",
    "\n",
    "#     #fill df_traj with the essential columns and an index pointing a particular row in df\n",
    "#     index_col_lst=[trial_col,pid_col,t_col]\n",
    "#     dff=df.set_index(index_col_lst)\n",
    "\n",
    "#     #fill with self trajectories\n",
    "#     df_traj.rename(columns={'pid_self':pid_col},inplace=True)\n",
    "#     df_traj.set_index(index_col_lst,inplace=True)\n",
    "    \n",
    "#     dfff=dff.loc[df_traj.index]\n",
    "#     for x in col_lst:\n",
    "#         df_traj[x+'_self']=dfff[x]\n",
    "#     df_traj=df_traj.reset_index().rename(columns={pid_col:'pid_self'}).rename(columns={'pid_other':pid_col})\n",
    "\n",
    "#     #fill with other trajectories\n",
    "#     df_traj.set_index(index_col_lst,inplace=True)\n",
    "#     dfff=dff.loc[df_traj.index]\n",
    "#     for x in col_lst:\n",
    "#         df_traj[x+'_other']=dfff[x]\n",
    "#     df_traj=df_traj.reset_index().rename(columns={pid_col:'pid_other'})\n",
    "#     return df_traj"
   ]
  },
  {
   "cell_type": "markdown",
   "id": "a5fa93ba",
   "metadata": {},
   "source": [
    "# compute the radial velocities with the savgol_filtered "
   ]
  },
  {
   "cell_type": "markdown",
   "id": "964089db",
   "metadata": {},
   "source": [
    "__Note:__ cugraph is a great tool for complex problems that happen in terms of graphs that benefit from visualization.  My graph problem is low-level, and therefore it does not appear beneficial for me to use cugraph here."
   ]
  },
  {
   "cell_type": "code",
   "execution_count": 17,
   "id": "d8de32a4",
   "metadata": {
    "ExecuteTime": {
     "end_time": "2021-10-04T03:33:17.365299Z",
     "start_time": "2021-10-04T03:33:17.340946Z"
    }
   },
   "outputs": [],
   "source": [
    "#define parameters\n",
    "trial_col='event_id_int'\n",
    "pid_col='particle' \n",
    "t_col='t' \n",
    "width=200\n",
    "height=200\n",
    "tmin=100.\n",
    "printing=True\n",
    "tavg1=4 #ms #moving average time window already performed\n",
    "#TDOO: infer tavg1 from input_fn"
   ]
  },
  {
   "cell_type": "code",
   "execution_count": 18,
   "id": "d547abbc",
   "metadata": {
    "ExecuteTime": {
     "end_time": "2021-10-04T03:33:17.390595Z",
     "start_time": "2021-10-04T03:33:17.366408Z"
    }
   },
   "outputs": [],
   "source": [
    "ds=5. #cm for the whole domain\n",
    "DS=ds/width #cm per pixel\n",
    "tavg2=12#24 #ms #savgol_filter time window performed on R "
   ]
  },
  {
   "cell_type": "code",
   "execution_count": 19,
   "id": "8ba668f0",
   "metadata": {
    "ExecuteTime": {
     "end_time": "2021-10-04T03:33:17.414573Z",
     "start_time": "2021-10-04T03:33:17.392089Z"
    }
   },
   "outputs": [],
   "source": [
    "#decide on radial thresholds\n",
    "minimum_range_threshold=0.1 #cm\n",
    "maximum_range_threshold=1. #cm\n",
    "minimum_duration_threshold=25 #ms"
   ]
  },
  {
   "cell_type": "code",
   "execution_count": 20,
   "id": "0c46bd2c",
   "metadata": {
    "ExecuteTime": {
     "end_time": "2021-10-04T03:33:18.925867Z",
     "start_time": "2021-10-04T03:33:17.415692Z"
    },
    "run_control": {
     "marked": false
    }
   },
   "outputs": [
    {
     "name": "stdout",
     "output_type": "stream",
     "text": [
      "loading 2 files into shared memory...\n",
      "tavg2=12.5\n"
     ]
    }
   ],
   "source": [
    "#TODO: figure out why I'm getting pid_self==pid_other in the R versus time plot...\n",
    "#recall a couple postprocessed single trials\n",
    "input_fn=f\"/home/timothytyree/Documents/GitHub/care/notebooks/Data/initial-conditions-suite-3-LR/param_qu_tmax_30_Ko_5.4_diffCoef_0.0005_dt_0.5/smoothed_trajectories_navg_8/ic002.11_traj_sr_600_mem_0_smoothed.csv\"\n",
    "input_fn2=f\"/home/timothytyree/Documents/GitHub/care/notebooks/Data/initial-conditions-suite-3-LR/param_qu_tmax_30_Ko_5.4_diffCoef_0.0005_dt_0.5/smoothed_trajectories_navg_8/ic002.12_traj_sr_600_mem_0_smoothed.csv\"\n",
    "input_fn_lst=[input_fn,input_fn2]\n",
    "# input_fn_lst=get_all_files_matching_pattern(input_fn,trgt='.csv')\n",
    "print(f\"loading {len(input_fn_lst)} files into shared memory...\")\n",
    "# df=dask_cudf.read_csv(input_fn_lst).compute()\n",
    "df=cudf.read_csv(input_fn)\n",
    "df=df.sort_values([trial_col,pid_col, t_col], ascending=True).copy()\n",
    "DT=get_DT_cu(df,t_col,pid_col)\n",
    "# navg2=int(tavg2/DT)\n",
    "# if printing:\n",
    "#     print(f\"DT={DT} ms\")    \n",
    "navg2=int(tavg2/DT)\n",
    "if not (navg2%2==1): #odd navg2 is required by savgol_filter\n",
    "    navg2+=1\n",
    "    tavg2=np.around(navg2*DT,7)\n",
    "print(f'tavg2={tavg2}')\n",
    "assert ( minimum_duration_threshold>tavg2)"
   ]
  },
  {
   "cell_type": "code",
   "execution_count": 21,
   "id": "2424abca",
   "metadata": {
    "ExecuteTime": {
     "end_time": "2021-10-04T03:33:18.990591Z",
     "start_time": "2021-10-04T03:33:18.927838Z"
    }
   },
   "outputs": [],
   "source": [
    "#compute the intermediate dataframe of particle start/end times\n",
    "grouped=df.groupby([trial_col,pid_col])\n",
    "dft=grouped[t_col]\n",
    "dfu=cudf.DataFrame({\n",
    "    'tmin':dft.min(),\n",
    "    'tmax':dft.max(),\n",
    "})\n",
    "dfu.reset_index(inplace=True)\n",
    "# dff.head()"
   ]
  },
  {
   "cell_type": "code",
   "execution_count": null,
   "id": "c4bce314",
   "metadata": {},
   "outputs": [],
   "source": []
  },
  {
   "cell_type": "code",
   "execution_count": 22,
   "id": "5228592d",
   "metadata": {
    "ExecuteTime": {
     "end_time": "2021-10-04T03:33:19.020930Z",
     "start_time": "2021-10-04T03:33:18.992108Z"
    }
   },
   "outputs": [],
   "source": [
    "# df_intersecting_pairs_all"
   ]
  },
  {
   "cell_type": "code",
   "execution_count": 23,
   "id": "bdba781a",
   "metadata": {
    "ExecuteTime": {
     "end_time": "2021-10-04T03:33:20.999072Z",
     "start_time": "2021-10-04T03:33:19.023314Z"
    }
   },
   "outputs": [
    {
     "name": "stdout",
     "output_type": "stream",
     "text": [
      "using 1 cores to identify pairs of particles that coexist over 1 independent trials...\n"
     ]
    },
    {
     "data": {
      "text/html": [
       "<div>\n",
       "<style scoped>\n",
       "    .dataframe tbody tr th:only-of-type {\n",
       "        vertical-align: middle;\n",
       "    }\n",
       "\n",
       "    .dataframe tbody tr th {\n",
       "        vertical-align: top;\n",
       "    }\n",
       "\n",
       "    .dataframe thead th {\n",
       "        text-align: right;\n",
       "    }\n",
       "</style>\n",
       "<table border=\"1\" class=\"dataframe\">\n",
       "  <thead>\n",
       "    <tr style=\"text-align: right;\">\n",
       "      <th></th>\n",
       "      <th>pid_self</th>\n",
       "      <th>pid_other</th>\n",
       "      <th>tmin_self</th>\n",
       "      <th>tmin_other</th>\n",
       "      <th>tmax_self</th>\n",
       "      <th>tmax_other</th>\n",
       "      <th>tmin</th>\n",
       "      <th>tmax</th>\n",
       "      <th>duration</th>\n",
       "      <th>event_id_int</th>\n",
       "    </tr>\n",
       "  </thead>\n",
       "  <tbody>\n",
       "    <tr>\n",
       "      <th>0</th>\n",
       "      <td>1509</td>\n",
       "      <td>1519</td>\n",
       "      <td>3170.0</td>\n",
       "      <td>3239.5</td>\n",
       "      <td>3341.5</td>\n",
       "      <td>3341.5</td>\n",
       "      <td>3239.5</td>\n",
       "      <td>3341.5</td>\n",
       "      <td>102.0</td>\n",
       "      <td>1002116000</td>\n",
       "    </tr>\n",
       "    <tr>\n",
       "      <th>1</th>\n",
       "      <td>1509</td>\n",
       "      <td>1445</td>\n",
       "      <td>3170.0</td>\n",
       "      <td>3028.0</td>\n",
       "      <td>3341.5</td>\n",
       "      <td>3170.5</td>\n",
       "      <td>3170.0</td>\n",
       "      <td>3170.5</td>\n",
       "      <td>0.5</td>\n",
       "      <td>1002116000</td>\n",
       "    </tr>\n",
       "    <tr>\n",
       "      <th>2</th>\n",
       "      <td>1509</td>\n",
       "      <td>1538</td>\n",
       "      <td>3170.0</td>\n",
       "      <td>3317.5</td>\n",
       "      <td>3341.5</td>\n",
       "      <td>3379.5</td>\n",
       "      <td>3317.5</td>\n",
       "      <td>3341.5</td>\n",
       "      <td>24.0</td>\n",
       "      <td>1002116000</td>\n",
       "    </tr>\n",
       "    <tr>\n",
       "      <th>3</th>\n",
       "      <td>1509</td>\n",
       "      <td>1540</td>\n",
       "      <td>3170.0</td>\n",
       "      <td>3320.5</td>\n",
       "      <td>3341.5</td>\n",
       "      <td>3381.0</td>\n",
       "      <td>3320.5</td>\n",
       "      <td>3341.5</td>\n",
       "      <td>21.0</td>\n",
       "      <td>1002116000</td>\n",
       "    </tr>\n",
       "    <tr>\n",
       "      <th>4</th>\n",
       "      <td>1509</td>\n",
       "      <td>1511</td>\n",
       "      <td>3170.0</td>\n",
       "      <td>3175.5</td>\n",
       "      <td>3341.5</td>\n",
       "      <td>3274.0</td>\n",
       "      <td>3175.5</td>\n",
       "      <td>3274.0</td>\n",
       "      <td>98.5</td>\n",
       "      <td>1002116000</td>\n",
       "    </tr>\n",
       "  </tbody>\n",
       "</table>\n",
       "</div>"
      ],
      "text/plain": [
       "   pid_self  pid_other  tmin_self  tmin_other  tmax_self  tmax_other    tmin  \\\n",
       "0      1509       1519     3170.0      3239.5     3341.5      3341.5  3239.5   \n",
       "1      1509       1445     3170.0      3028.0     3341.5      3170.5  3170.0   \n",
       "2      1509       1538     3170.0      3317.5     3341.5      3379.5  3317.5   \n",
       "3      1509       1540     3170.0      3320.5     3341.5      3381.0  3320.5   \n",
       "4      1509       1511     3170.0      3175.5     3341.5      3274.0  3175.5   \n",
       "\n",
       "     tmax  duration  event_id_int  \n",
       "0  3341.5     102.0    1002116000  \n",
       "1  3170.5       0.5    1002116000  \n",
       "2  3341.5      24.0    1002116000  \n",
       "3  3341.5      21.0    1002116000  \n",
       "4  3274.0      98.5    1002116000  "
      ]
     },
     "execution_count": 23,
     "metadata": {},
     "output_type": "execute_result"
    }
   ],
   "source": [
    "df_intersecting_pairs_all=identify_all_coexisting_pairs(df=dfu.copy(),pid_col=pid_col,t_col=t_col,trial_col=trial_col)\n",
    "df_intersecting_pairs_all.head()"
   ]
  },
  {
   "cell_type": "code",
   "execution_count": 24,
   "id": "98d7d89a",
   "metadata": {
    "ExecuteTime": {
     "end_time": "2021-10-04T03:33:21.414251Z",
     "start_time": "2021-10-04T03:33:21.000209Z"
    }
   },
   "outputs": [
    {
     "name": "stdout",
     "output_type": "stream",
     "text": [
      "verified that the duration is strictly positive for all pairs of tips that coexist nontrivially\n"
     ]
    },
    {
     "data": {
      "image/png": "[encoded data removed]",
      "text/plain": [
       "<Figure size 504x288 with 1 Axes>"
      ]
     },
     "metadata": {},
     "output_type": "display_data"
    }
   ],
   "source": [
    "#test that duration is strictly positive\n",
    "assert ( (df_intersecting_pairs_all['duration']>0).all() )\n",
    "if printing:\n",
    "    print (f\"verified that the duration is strictly positive for all pairs of tips that coexist nontrivially\")\n",
    "\n",
    "#plot histogram of durations\n",
    "fontsize=20\n",
    "fig,ax=plt.subplots(figsize=(7,4))\n",
    "yv=np.linspace(0,0.02,10)\n",
    "ax.plot(minimum_duration_threshold+0.*yv,yv,'gray',lw=2, linestyle='dashed', label='threshold')\n",
    "trial_col_lst=sorted(df_intersecting_pairs_all[trial_col].drop_duplicates().values.get())\n",
    "for trial in trial_col_lst[:5]:\n",
    "    df_intersecting_pairs_all.query(f\"{trial_col} == {trial}\")['duration'].to_pandas().hist(density=True,bins=50,ax=ax,label=trial,grid=False)#,color='event_id_int')\n",
    "format_plot(ax, xlabel='duration of pair coexistance (ms)', ylabel='probability density', fontsize=fontsize, use_loglog=False)\n",
    "\n",
    "ax.legend(fontsize=fontsize)\n",
    "plt.tight_layout()\n",
    "plt.show()"
   ]
  },
  {
   "cell_type": "code",
   "execution_count": 25,
   "id": "613b8ad9",
   "metadata": {
    "ExecuteTime": {
     "end_time": "2021-10-04T03:33:21.446151Z",
     "start_time": "2021-10-04T03:33:21.415382Z"
    }
   },
   "outputs": [],
   "source": [
    "#DONE: verify that no pair points to the same spiral tip twice\n",
    "assert ( not (df_intersecting_pairs_all['pid_self']==df_intersecting_pairs_all['pid_other']).any() )"
   ]
  },
  {
   "cell_type": "code",
   "execution_count": 26,
   "id": "1e44e31f",
   "metadata": {
    "ExecuteTime": {
     "end_time": "2021-10-04T03:33:22.987067Z",
     "start_time": "2021-10-04T03:33:21.448478Z"
    }
   },
   "outputs": [
    {
     "name": "stdout",
     "output_type": "stream",
     "text": [
      "using 1 cores to identify pairs of particles that coexist over 1 independent trials...\n"
     ]
    }
   ],
   "source": [
    "grouped=df.groupby([trial_col,pid_col])\n",
    "dft=grouped[t_col]\n",
    "dfu=cudf.DataFrame({\n",
    "    'tmin':dft.min(),\n",
    "    'tmax':dft.max(),\n",
    "})\n",
    "dfu.reset_index(inplace=True)\n",
    "df_intersecting_pairs_all=identify_all_coexisting_pairs(df=dfu.copy(),pid_col=pid_col,t_col=t_col,trial_col=trial_col)\n",
    "\n",
    "#filter by duration_threshold\n",
    "use_duration_threshold=True\n",
    "if use_duration_threshold:\n",
    "    df_pairs=df_intersecting_pairs_all[df_intersecting_pairs_all['duration']>minimum_duration_threshold]\n",
    "else:\n",
    "    df_pairs=df_intersecting_pairs_all\n",
    "#and sort\n",
    "df_pairs=df_pairs.sort_values([trial_col,'pid_self'], ascending=True).copy()\n",
    "# trial_values=df[trial_col].drop_duplicates().values\n",
    "# df_traj_lst=[]\n",
    "# for trial in trial_values.get():\n",
    "#     pass\n",
    "# #     df_traj_lst.append(extract_trajectory_pairs_cu(df,df_pairs,pid_col=pid_col,t_col=t_col))\n",
    "# # df_traj=cudf.concat(df_traj_lst)\n",
    "# # df_traj.query('pid_self==25 and pid_other==25').head()"
   ]
  },
  {
   "cell_type": "code",
   "execution_count": 27,
   "id": "180a6553",
   "metadata": {
    "ExecuteTime": {
     "end_time": "2021-10-04T03:33:23.710697Z",
     "start_time": "2021-10-04T03:33:22.991018Z"
    }
   },
   "outputs": [],
   "source": [
    "df_traj=extract_trajectory_pairs_cu(df,df_pairs,pid_col,t_col,trial_col,DT)\n",
    "#DONE: tested that index_self is never equal to index_other for a given event_id_int\n",
    "#^this is equivalent to no two observations being the same\n",
    "trial_values=df[trial_col].drop_duplicates().values\n",
    "for trial in trial_values.get():\n",
    "    d=df_traj.loc[df_traj[trial_col]==trial]\n",
    "    assert ( not (d['index_other']==d['index_self']).any())"
   ]
  },
  {
   "cell_type": "code",
   "execution_count": 28,
   "id": "14ccbc4a",
   "metadata": {
    "ExecuteTime": {
     "end_time": "2021-10-04T03:33:24.516096Z",
     "start_time": "2021-10-04T03:33:23.711786Z"
    }
   },
   "outputs": [
    {
     "data": {
      "text/html": [
       "<div>\n",
       "<style scoped>\n",
       "    .dataframe tbody tr th:only-of-type {\n",
       "        vertical-align: middle;\n",
       "    }\n",
       "\n",
       "    .dataframe tbody tr th {\n",
       "        vertical-align: top;\n",
       "    }\n",
       "\n",
       "    .dataframe thead th {\n",
       "        text-align: right;\n",
       "    }\n",
       "</style>\n",
       "<table border=\"1\" class=\"dataframe\">\n",
       "  <thead>\n",
       "    <tr style=\"text-align: right;\">\n",
       "      <th></th>\n",
       "      <th>event_id_int</th>\n",
       "      <th>pid_self</th>\n",
       "      <th>pid_other</th>\n",
       "      <th>t</th>\n",
       "      <th>R</th>\n",
       "      <th>dRdt</th>\n",
       "      <th>R_midpoint</th>\n",
       "      <th>one_over_R</th>\n",
       "    </tr>\n",
       "  </thead>\n",
       "  <tbody>\n",
       "    <tr>\n",
       "      <th>386</th>\n",
       "      <td>1002116000</td>\n",
       "      <td>20</td>\n",
       "      <td>25</td>\n",
       "      <td>172.5</td>\n",
       "      <td>1.532008</td>\n",
       "      <td>15.909073</td>\n",
       "      <td>1.528031</td>\n",
       "      <td>0.652738</td>\n",
       "    </tr>\n",
       "    <tr>\n",
       "      <th>387</th>\n",
       "      <td>1002116000</td>\n",
       "      <td>20</td>\n",
       "      <td>25</td>\n",
       "      <td>173.0</td>\n",
       "      <td>1.539243</td>\n",
       "      <td>14.470294</td>\n",
       "      <td>1.535626</td>\n",
       "      <td>0.649670</td>\n",
       "    </tr>\n",
       "    <tr>\n",
       "      <th>388</th>\n",
       "      <td>1002116000</td>\n",
       "      <td>20</td>\n",
       "      <td>25</td>\n",
       "      <td>173.5</td>\n",
       "      <td>1.533510</td>\n",
       "      <td>-11.465892</td>\n",
       "      <td>1.536377</td>\n",
       "      <td>0.652099</td>\n",
       "    </tr>\n",
       "    <tr>\n",
       "      <th>389</th>\n",
       "      <td>1002116000</td>\n",
       "      <td>20</td>\n",
       "      <td>25</td>\n",
       "      <td>174.0</td>\n",
       "      <td>1.530391</td>\n",
       "      <td>-6.239646</td>\n",
       "      <td>1.531950</td>\n",
       "      <td>0.653428</td>\n",
       "    </tr>\n",
       "    <tr>\n",
       "      <th>390</th>\n",
       "      <td>1002116000</td>\n",
       "      <td>20</td>\n",
       "      <td>25</td>\n",
       "      <td>174.5</td>\n",
       "      <td>1.523670</td>\n",
       "      <td>-13.440887</td>\n",
       "      <td>1.527030</td>\n",
       "      <td>0.656310</td>\n",
       "    </tr>\n",
       "  </tbody>\n",
       "</table>\n",
       "</div>"
      ],
      "text/plain": [
       "     event_id_int  pid_self  pid_other      t         R       dRdt  \\\n",
       "386    1002116000        20         25  172.5  1.532008  15.909073   \n",
       "387    1002116000        20         25  173.0  1.539243  14.470294   \n",
       "388    1002116000        20         25  173.5  1.533510 -11.465892   \n",
       "389    1002116000        20         25  174.0  1.530391  -6.239646   \n",
       "390    1002116000        20         25  174.5  1.523670 -13.440887   \n",
       "\n",
       "     R_midpoint  one_over_R  \n",
       "386    1.528031    0.652738  \n",
       "387    1.535626    0.649670  \n",
       "388    1.536377    0.652099  \n",
       "389    1.531950    0.653428  \n",
       "390    1.527030    0.656310  "
      ]
     },
     "execution_count": 28,
     "metadata": {},
     "output_type": "execute_result"
    }
   ],
   "source": [
    "#compute the naive finite difference radial velocity between all pairs of particles\n",
    "df_traj=comp_xy_distance_L2_pbc_cu(df_traj,width,height)\n",
    "df_traj['R']=df_traj['dist']*DS #cm\n",
    "#isolate only the columns relevant to computing the attraction coefficient, a\n",
    "df_R=df_traj[[trial_col,'pid_self','pid_other',t_col,'R']].dropna()\n",
    "df_R=df_R.sort_values([trial_col,'pid_self','pid_other',t_col], ascending=True).copy()\n",
    "grouped=df_R.groupby([trial_col,'pid_self','pid_other'])\n",
    "#compute the difference between two successive R values for each group\n",
    "df_R['incol']=df_R['R']\n",
    "mdwargs={'win_size':2}\n",
    "result = grouped.apply_grouped(rolling_diff,\n",
    "                               incols=['incol'],\n",
    "                               outcols=dict(outcol=np.float64), kwargs=\n",
    "                           mdwargs)\n",
    "df_R['dRdt']=result['outcol']/DT*1000 #cm/s\n",
    "df_R.drop(columns=['incol'],inplace=True)\n",
    "#compute the average between two successive R values for each group\n",
    "df_R['incol']=df_R['R']\n",
    "mawargs={'win_size':2}\n",
    "result = grouped.apply_grouped(rolling_avg,\n",
    "                               incols=['incol'],\n",
    "                               outcols=dict(outcol=np.float64), kwargs=\n",
    "                           mawargs)\n",
    "df_R['R_midpoint']=result['outcol'] #cm\n",
    "df_R['one_over_R']=1./df_R['R'] #1/cm\n",
    "df_R.drop(columns=['incol'],inplace=True)\n",
    "df_R.dropna(inplace=True)\n",
    "df_R.head()"
   ]
  },
  {
   "cell_type": "code",
   "execution_count": 29,
   "id": "1ed11d10",
   "metadata": {
    "ExecuteTime": {
     "end_time": "2021-10-04T03:33:24.611686Z",
     "start_time": "2021-10-04T03:33:24.517408Z"
    }
   },
   "outputs": [
    {
     "name": "stdout",
     "output_type": "stream",
     "text": [
      "any(1/R < 0)=False\n"
     ]
    }
   ],
   "source": [
    "#index by individual pairs\n",
    "dfr=df_R.set_index([trial_col,'pid_self','pid_other']).sort_values(by='t')\n",
    "#identify all pairs that are within this range\n",
    "boo=(dfr['R']<=maximum_range_threshold)&(dfr['R']>=minimum_range_threshold)\n",
    "index_values=dfr.index.drop_duplicates().values\n",
    "\n",
    "x_values,y_values=dfr.sort_values(by='t')[['one_over_R','dRdt']].values.T.get()\n",
    "print(f\"any(1/R < 0)={(x_values<0).any()}\")\n",
    "# boo=x_values<0\n",
    "# # print(x_values[boo])\n",
    "# # ,'one_over_R']\n",
    "# next_=dfr[boo].index+1\n",
    "# dfr.loc[next_,'one_over_R']\n",
    "# dfr[boo]"
   ]
  },
  {
   "cell_type": "code",
   "execution_count": 30,
   "id": "373b36a0",
   "metadata": {
    "ExecuteTime": {
     "end_time": "2021-10-04T03:33:24.638112Z",
     "start_time": "2021-10-04T03:33:24.613296Z"
    }
   },
   "outputs": [],
   "source": [
    "# dfr[boo]"
   ]
  },
  {
   "cell_type": "code",
   "execution_count": 31,
   "id": "4218fb7a",
   "metadata": {
    "ExecuteTime": {
     "end_time": "2021-10-04T03:33:24.665307Z",
     "start_time": "2021-10-04T03:33:24.639196Z"
    }
   },
   "outputs": [],
   "source": [
    "# any"
   ]
  },
  {
   "cell_type": "code",
   "execution_count": 32,
   "id": "93643d59",
   "metadata": {
    "ExecuteTime": {
     "end_time": "2021-10-04T03:33:24.690464Z",
     "start_time": "2021-10-04T03:33:24.666999Z"
    }
   },
   "outputs": [],
   "source": [
    "# dfr.shift(-1)[boo]"
   ]
  },
  {
   "cell_type": "code",
   "execution_count": 33,
   "id": "53389968",
   "metadata": {
    "ExecuteTime": {
     "end_time": "2021-10-04T03:33:25.224658Z",
     "start_time": "2021-10-04T03:33:24.691710Z"
    }
   },
   "outputs": [
    {
     "data": {
      "image/png": "[encoded data removed]",
      "text/plain": [
       "<Figure size 504x288 with 1 Axes>"
      ]
     },
     "metadata": {},
     "output_type": "display_data"
    }
   ],
   "source": [
    "#plot histogram of durations\n",
    "fontsize=20\n",
    "fig,ax=plt.subplots(figsize=(7,4))\n",
    "\n",
    "trial_col_lst=sorted(df_R[trial_col].drop_duplicates().values.get())\n",
    "for trial in trial_col_lst[:5]:\n",
    "    df_R.query(f\"{trial_col} == {trial}\")['R_midpoint'].to_pandas().hist(density=True,bins=50,ax=ax,label=trial,grid=False)#,color='event_id_int')\n",
    "        \n",
    "format_plot(ax, xlabel=r'$R$ (cm)', ylabel='prob. density', fontsize=fontsize, use_loglog=False)\n",
    "ax.legend(fontsize=fontsize-2)\n",
    "\n",
    "#plot threshold lines\n",
    "yv=np.linspace(0,0.6,10)\n",
    "ax.plot(minimum_range_threshold+0.*yv,yv,'gray',lw=2, linestyle='dashed', label='threshold')\n",
    "ax.plot(maximum_range_threshold+0.*yv,yv,'gray',lw=2, linestyle='dashed', label='threshold')\n",
    "\n",
    "plt.tight_layout()\n",
    "plt.show()"
   ]
  },
  {
   "cell_type": "code",
   "execution_count": 34,
   "id": "bd354e5d",
   "metadata": {
    "ExecuteTime": {
     "end_time": "2021-10-04T03:33:25.254293Z",
     "start_time": "2021-10-04T03:33:25.226232Z"
    }
   },
   "outputs": [],
   "source": [
    "xmin=-100\n",
    "xmax=100"
   ]
  },
  {
   "cell_type": "code",
   "execution_count": 35,
   "id": "4ca4df52",
   "metadata": {
    "ExecuteTime": {
     "end_time": "2021-10-04T03:33:25.309294Z",
     "start_time": "2021-10-04T03:33:25.255543Z"
    }
   },
   "outputs": [],
   "source": [
    "#DONE: plot a laplace distribution over ^this\n",
    "xv=df_R.query(f\"{trial_col} == {trial}\")['dRdt'].values.get()\n",
    "v=xv[(xv>xmin)&(xv<xmax)]\n",
    "mu=np.mean(v)\n",
    "beta=np.std(v)/np.sqrt(2)\n",
    "def comp_laplace_pdf(x,mu,beta):\n",
    "    return np.exp(-np.abs(x-mu)/beta)/(2*beta)"
   ]
  },
  {
   "cell_type": "code",
   "execution_count": null,
   "id": "7be6fdcc",
   "metadata": {
    "ExecuteTime": {
     "end_time": "2021-10-03T02:57:00.327130Z",
     "start_time": "2021-10-03T02:57:00.278193Z"
    }
   },
   "outputs": [],
   "source": []
  },
  {
   "cell_type": "code",
   "execution_count": 36,
   "id": "4dbadf3c",
   "metadata": {
    "ExecuteTime": {
     "end_time": "2021-10-04T03:33:25.801548Z",
     "start_time": "2021-10-04T03:33:25.310740Z"
    }
   },
   "outputs": [
    {
     "data": {
      "image/png": "[encoded data removed]",
      "text/plain": [
       "<Figure size 504x288 with 1 Axes>"
      ]
     },
     "metadata": {},
     "output_type": "display_data"
    }
   ],
   "source": [
    "#plot histogram of durations\n",
    "fontsize=20\n",
    "fig,ax=plt.subplots(figsize=(7,4))\n",
    "trial_col_lst=sorted(df_R[trial_col].drop_duplicates().values.get())\n",
    "for trial in trial_col_lst[:5]:\n",
    "    xv=df_R.query(f\"{trial_col} == {trial}\")['dRdt'].values.get()\n",
    "    v=xv[(xv>xmin)&(xv<xmax)]# np.max(xv),np.quantile(xv,.15),np.mean(xv),np.quantile(xv,.85),np.max(xv)\n",
    "    ax.hist(v,density=True,bins=50,label=trial)#,grid=False)#,color='event_id_int')\n",
    "#     ax.hist(v,density=True,bins='auto',label=trial)#,grid=False)#,color='event_id_int')\n",
    " \n",
    "\n",
    "#plot the max likelihood fit to the laplace distribution\n",
    "x_values=np.linspace(xmin,xmax,100)\n",
    "laplace_values=comp_laplace_pdf(x_values,mu,beta)\n",
    "plt.plot(x_values,laplace_values,'g--',lw=4,alpha=0.4,label='Laplace Fit')\n",
    "\n",
    "format_plot(ax, xlabel=r'$dR/dt$ (cm)', ylabel='prob. density', fontsize=fontsize, use_loglog=False)\n",
    "ax.legend(fontsize=fontsize-4,loc='lower center')\n",
    "ax.set_yscale('log')\n",
    "ax.set_xlim([xmin,xmax])\n",
    "ax.set_title(f'fit parameters: mu={mu:.3f} cm, beta={beta:.3f} cm\\n')\n",
    "# ax.set_ylim([0,0.01])\n",
    "plt.tight_layout()\n",
    "plt.show()"
   ]
  },
  {
   "cell_type": "code",
   "execution_count": 37,
   "id": "1252f644",
   "metadata": {
    "ExecuteTime": {
     "end_time": "2021-10-04T03:33:25.879854Z",
     "start_time": "2021-10-04T03:33:25.803110Z"
    }
   },
   "outputs": [],
   "source": [
    "#index by individual pairs\n",
    "dfr=df_R.set_index([trial_col,'pid_self','pid_other']).sort_values(by='t')\n",
    "#identify all pairs that are within this range\n",
    "boo=(dfr['R']<=maximum_range_threshold)&(dfr['R']>=minimum_range_threshold)\n",
    "index_values=dfr.index.drop_duplicates().values"
   ]
  },
  {
   "cell_type": "code",
   "execution_count": 38,
   "id": "dd0fadc1",
   "metadata": {
    "ExecuteTime": {
     "end_time": "2021-10-04T03:33:26.173388Z",
     "start_time": "2021-10-04T03:33:25.882017Z"
    }
   },
   "outputs": [
    {
     "data": {
      "image/png": "[encoded data removed]",
      "text/plain": [
       "<Figure size 504x360 with 1 Axes>"
      ]
     },
     "metadata": {},
     "output_type": "display_data"
    }
   ],
   "source": [
    "#plot a few particle events\n",
    "fontsize=14\n",
    "fig,ax=plt.subplots(figsize=(7,5))\n",
    "for iv in index_values.get()[:3]:\n",
    "    x_values,y_values=dfr.loc[iv].sort_values(by='t')[['t','R']].values.T.get()\n",
    "    ax.plot(x_values-x_values[0],y_values,label=f\"pair {(iv[1],iv[2])}\")\n",
    "format_plot(ax, xlabel=r'$t$ (ms)', ylabel=r'$R$ (cm)', fontsize=fontsize, use_loglog=False)\n",
    "ax.legend(fontsize=fontsize-2)\n",
    "plt.title(f'tavg1={tavg1} ms, tavg2={0} ms\\n')\n",
    "plt.tight_layout()\n",
    "plt.show()"
   ]
  },
  {
   "cell_type": "code",
   "execution_count": 39,
   "id": "6f545fab",
   "metadata": {
    "ExecuteTime": {
     "end_time": "2021-10-04T03:33:26.435114Z",
     "start_time": "2021-10-04T03:33:26.175192Z"
    }
   },
   "outputs": [
    {
     "data": {
      "image/png": "[encoded data removed]",
      "text/plain": [
       "<Figure size 504x288 with 1 Axes>"
      ]
     },
     "metadata": {},
     "output_type": "display_data"
    }
   ],
   "source": [
    "#plot a few particle events\n",
    "fontsize=14\n",
    "fig,ax=plt.subplots(figsize=(7,4))\n",
    "for iv in index_values.get()[:3]:\n",
    "    x_values,y_values=dfr.loc[iv].sort_values(by='t')[['R_midpoint','dRdt']].values.T.get()\n",
    "#     ax.scatter(x_values,y_values,label=f\"pair {(iv[1],iv[2])}\")\n",
    "    ax.plot(x_values,y_values,label=f\"pair {(iv[1],iv[2])}\")\n",
    "format_plot(ax, xlabel=r'$R$ (cm)', ylabel=r'$dR/dt$ (cm/s)', fontsize=fontsize, use_loglog=False)\n",
    "ax.legend(fontsize=fontsize-2)\n",
    "plt.tight_layout()\n",
    "plt.show()"
   ]
  },
  {
   "cell_type": "code",
   "execution_count": null,
   "id": "dbae0cb7",
   "metadata": {},
   "outputs": [],
   "source": []
  },
  {
   "cell_type": "markdown",
   "id": "67fde2f1",
   "metadata": {
    "heading_collapsed": true
   },
   "source": [
    "# compute the radial velocities with the savgol_filtered "
   ]
  },
  {
   "cell_type": "code",
   "execution_count": 40,
   "id": "9f691b79",
   "metadata": {
    "ExecuteTime": {
     "end_time": "2021-10-04T03:33:37.624488Z",
     "start_time": "2021-10-04T03:33:26.437263Z"
    },
    "hidden": true
   },
   "outputs": [],
   "source": [
    "savgol_kwargs=dict(\n",
    "    window_length=navg2,\n",
    "    polyorder=3,\n",
    "    deriv=1,\n",
    "    delta=1.0,\n",
    "    axis=-1,\n",
    "    mode='interp'\n",
    ")\n",
    "\n",
    "savgol0_kwargs=dict(\n",
    "    window_length=navg2,\n",
    "    polyorder=3,\n",
    "    deriv=0,\n",
    "    delta=1.0,\n",
    "    axis=-1,\n",
    "    mode='interp'\n",
    ")\n",
    "\n",
    "df_traj=extract_trajectory_pairs_cu(df,df_pairs,pid_col,t_col,trial_col,DT)\n",
    "#compute the naive finite difference radial velocity between all pairs of particles\n",
    "df_traj=comp_xy_distance_L2_pbc_cu(df_traj,width,height)\n",
    "df_traj['R']=df_traj['dist']*DS #cm\n",
    "#isolate only the columns relevant to computing the attraction coefficient, a\n",
    "df_R=df_traj[[trial_col,'pid_self','pid_other',t_col,'R']].dropna()\n",
    "df_R=df_R.sort_values([trial_col,'pid_self','pid_other',t_col], ascending=True)#.copy()\n",
    "\n",
    "#compute the smoothed derivative savgol_filter using scipy's cryptic cython code\n",
    "grouped=df_R.to_pandas().groupby([trial_col,'pid_self','pid_other'])\n",
    "result = grouped['R'].apply(savgol_filter,**savgol_kwargs)\n",
    "dRdt_values=cp.array(np.concatenate(result.values))\n",
    "df_R['dRdt']=dRdt_values\n",
    "\n",
    "#compute the smoothed value savgol_filter using scipy's cryptic cython code\n",
    "grouped=df_R.to_pandas().groupby([trial_col,'pid_self','pid_other'])\n",
    "result = grouped['R'].apply(savgol_filter,**savgol0_kwargs)\n",
    "R_values=cp.array(np.concatenate(result.values))\n",
    "df_R['R']=R_values\n",
    "\n",
    "df_R['one_over_R']=1./df_R['R'] #1/cm\n",
    "df_R.dropna(inplace=True)\n",
    "df_R.head()\n",
    "\n",
    "#index by individual pairs\n",
    "dfr=df_R.set_index([trial_col,'pid_self','pid_other']).sort_values(by='t')\n",
    "#identify all pairs that are within this range\n",
    "boo=(dfr['R']<=maximum_range_threshold\n",
    "    )&(dfr['R']>=minimum_range_threshold)\n",
    "index_values=boo.index.drop_duplicates().values"
   ]
  },
  {
   "cell_type": "code",
   "execution_count": 41,
   "id": "7cbde628",
   "metadata": {
    "ExecuteTime": {
     "end_time": "2021-10-04T03:33:37.645986Z",
     "start_time": "2021-10-04T03:33:37.625607Z"
    },
    "hidden": true
   },
   "outputs": [],
   "source": [
    "#DONE: compute 1/R and dRdt_naive\n",
    "#DONE: extract xy values for all particles lumped together\n",
    "#DONE: verify visually that these values look reasonable\n",
    "#TODO: compute the bootstrapped mean dRdt (y_values) binning by one_over_R (x_values)\n",
    "# R_values=df_R['R_midpoint'].values\n",
    "# x_values=df_R['one_over_R'].values\n",
    "# y_values=df_R['dRdt'].values"
   ]
  },
  {
   "cell_type": "code",
   "execution_count": 42,
   "id": "6d6bd8bd",
   "metadata": {
    "ExecuteTime": {
     "end_time": "2021-10-04T03:33:37.686050Z",
     "start_time": "2021-10-04T03:33:37.647106Z"
    },
    "hidden": true
   },
   "outputs": [
    {
     "name": "stdout",
     "output_type": "stream",
     "text": [
      "(x_values<0).any()=False\n"
     ]
    }
   ],
   "source": [
    "x_values,y_values=dfr.sort_values(by='t')[['one_over_R','dRdt']].values.T.get()\n",
    "print(f\"(x_values<0).any()={(x_values<0).any()}\")"
   ]
  },
  {
   "cell_type": "code",
   "execution_count": 43,
   "id": "7b1ec556",
   "metadata": {
    "ExecuteTime": {
     "end_time": "2021-10-04T03:33:37.918663Z",
     "start_time": "2021-10-04T03:33:37.687095Z"
    },
    "hidden": true
   },
   "outputs": [
    {
     "data": {
      "image/png": "[encoded data removed]",
      "text/plain": [
       "<Figure size 504x360 with 1 Axes>"
      ]
     },
     "metadata": {},
     "output_type": "display_data"
    }
   ],
   "source": [
    "#plot a few particle events\n",
    "fontsize=14\n",
    "fig,ax=plt.subplots(figsize=(7,5))\n",
    "for iv in index_values.get()[:3]:\n",
    "#     x_values,y_values=dfr2.loc[iv][['t','R']].values.T.get()\n",
    "    x_values,y_values=dfr.loc[iv][['t','R']].sort_values(by='t').values.T.get()\n",
    "    x_values=(x_values-x_values[0])[1:-1]\n",
    "    y_values=y_values[1:-1]\n",
    "    ax.plot(x_values,y_values,label=f\"pair {(iv[1],iv[2])}\")\n",
    "format_plot(ax, xlabel=r'$t$ (ms)', ylabel=r'$R$ (cm)', fontsize=fontsize, use_loglog=False)\n",
    "ax.legend(fontsize=fontsize-2)\n",
    "plt.title(f'tavg1={tavg1} ms, tavg2={tavg2} ms\\n')\n",
    "plt.tight_layout()\n",
    "plt.show()"
   ]
  },
  {
   "cell_type": "code",
   "execution_count": 44,
   "id": "ab5e10a2",
   "metadata": {
    "ExecuteTime": {
     "end_time": "2021-10-04T03:33:38.182644Z",
     "start_time": "2021-10-04T03:33:37.920501Z"
    },
    "hidden": true
   },
   "outputs": [
    {
     "data": {
      "image/png": "[encoded data removed]",
      "text/plain": [
       "<Figure size 504x288 with 1 Axes>"
      ]
     },
     "metadata": {},
     "output_type": "display_data"
    }
   ],
   "source": [
    "#plot a few particle events\n",
    "fontsize=14\n",
    "fig,ax=plt.subplots(figsize=(7,4))\n",
    "for iv in index_values.get()[:3]:\n",
    "    x_values,y_values=dfr.loc[iv].sort_values(by='t')[['R','dRdt']].values.T.get()\n",
    "    x_values=x_values#[4:]\n",
    "    y_values=y_values#[4:]\n",
    "    ax.plot(x_values,y_values,label=f\"pair {(iv[1],iv[2])}\")\n",
    "format_plot(ax, xlabel=r'$R$ (cm)', ylabel=r'$dR/dt$ (cm/s)', fontsize=fontsize, use_loglog=False)\n",
    "ax.legend(fontsize=fontsize-2)\n",
    "plt.tight_layout()\n",
    "plt.show()"
   ]
  },
  {
   "cell_type": "code",
   "execution_count": 45,
   "id": "3f4374a0",
   "metadata": {
    "ExecuteTime": {
     "end_time": "2021-10-04T03:33:38.549845Z",
     "start_time": "2021-10-04T03:33:38.183832Z"
    },
    "hidden": true,
    "scrolled": true
   },
   "outputs": [
    {
     "data": {
      "image/png": "[encoded data removed]",
      "text/plain": [
       "<Figure size 504x288 with 1 Axes>"
      ]
     },
     "metadata": {},
     "output_type": "display_data"
    }
   ],
   "source": [
    "#plot histogram of durations\n",
    "fontsize=20\n",
    "fig,ax=plt.subplots(figsize=(7,4))\n",
    "\n",
    "trial_col_lst=sorted(df_R[trial_col].drop_duplicates().values.get())\n",
    "for trial in trial_col_lst[:5]:\n",
    "    df_R.query(f\"{trial_col} == {trial}\")['R'].to_pandas().hist(density=True,bins=50,ax=ax,label=trial,grid=False)#,color='event_id_int')\n",
    "        \n",
    "format_plot(ax, xlabel=r'$R$ (cm)', ylabel='prob. density', fontsize=fontsize, use_loglog=False)\n",
    "ax.legend(fontsize=fontsize-2)\n",
    "\n",
    "#plot threshold lines\n",
    "yv=np.linspace(0,0.6,10)\n",
    "ax.plot(minimum_range_threshold+0.*yv,yv,'gray',lw=2, linestyle='dashed', label='threshold')\n",
    "ax.plot(maximum_range_threshold+0.*yv,yv,'gray',lw=2, linestyle='dashed', label='threshold')\n",
    "\n",
    "plt.tight_layout()\n",
    "plt.show()"
   ]
  },
  {
   "cell_type": "code",
   "execution_count": 46,
   "id": "d99363b8",
   "metadata": {
    "ExecuteTime": {
     "end_time": "2021-10-04T03:33:38.596895Z",
     "start_time": "2021-10-04T03:33:38.551599Z"
    },
    "hidden": true
   },
   "outputs": [],
   "source": [
    "xmin=-1;xmax=1\n",
    "#DONE: plot a laplace distribution over ^this\n",
    "xv=df_R.query(f\"{trial_col} == {trial}\")['dRdt'].values.get()\n",
    "v=xv[(xv>xmin)&(xv<xmax)]\n",
    "mu=np.mean(v)\n",
    "beta=np.std(v)/np.sqrt(2)\n",
    "def comp_laplace_pdf(x,mu,beta):\n",
    "    return np.exp(-np.abs(x-mu)/beta)/(2*beta)"
   ]
  },
  {
   "cell_type": "code",
   "execution_count": 47,
   "id": "8fbc64d7",
   "metadata": {
    "ExecuteTime": {
     "end_time": "2021-10-04T03:33:39.056335Z",
     "start_time": "2021-10-04T03:33:38.600096Z"
    },
    "hidden": true
   },
   "outputs": [
    {
     "data": {
      "image/png": "[encoded data removed]",
      "text/plain": [
       "<Figure size 504x288 with 1 Axes>"
      ]
     },
     "metadata": {},
     "output_type": "display_data"
    }
   ],
   "source": [
    "#plot histogram of durations\n",
    "fontsize=20\n",
    "fig,ax=plt.subplots(figsize=(7,4))\n",
    "trial_col_lst=sorted(df_R[trial_col].drop_duplicates().values.get())\n",
    "for trial in trial_col_lst[:5]:\n",
    "    xv=df_R.query(f\"{trial_col} == {trial}\")['dRdt'].values.get()\n",
    "    v=xv[(xv>xmin)&(xv<xmax)]# np.max(xv),np.quantile(xv,.15),np.mean(xv),np.quantile(xv,.85),np.max(xv)\n",
    "    ax.hist(v,density=True,bins=50,label=trial)#,grid=False)#,color='event_id_int')\n",
    "#     ax.hist(v,density=True,bins='auto',label=trial)#,grid=False)#,color='event_id_int')\n",
    " \n",
    "\n",
    "#plot the max likelihood fit to the laplace distribution\n",
    "x_values=np.linspace(xmin,xmax,100)\n",
    "laplace_values=comp_laplace_pdf(x_values,mu,beta)\n",
    "plt.plot(x_values,laplace_values,'g--',lw=4,alpha=0.4,label='Laplace Fit')\n",
    "\n",
    "format_plot(ax, xlabel=r'$dR/dt$ (cm)', ylabel='prob. density', fontsize=fontsize, use_loglog=False)\n",
    "ax.legend(fontsize=fontsize-4,loc='lower center')\n",
    "ax.set_yscale('log')\n",
    "ax.set_xlim([xmin,xmax])\n",
    "ax.set_title(f'fit parameters: mu={mu:.3f} cm, beta={beta:.3f} cm\\n')\n",
    "# ax.set_ylim([0,0.01])\n",
    "plt.tight_layout()\n",
    "plt.show()"
   ]
  },
  {
   "cell_type": "code",
   "execution_count": 48,
   "id": "6cfee675",
   "metadata": {
    "ExecuteTime": {
     "end_time": "2021-10-04T03:33:39.085246Z",
     "start_time": "2021-10-04T03:33:39.058427Z"
    },
    "hidden": true
   },
   "outputs": [],
   "source": [
    "# #THIS IS THE SHORTEST PATH TO Success\n",
    "# MULTIINDEX SO THE PRIMITIVE OBJECT IS THE RANGE TIME SERIES\n",
    "# COMPUTE KEY VALUES 1/R AND DRDT\n",
    "# NAIVELY MEASURE A\n",
    "# REMOVE OUTLIER A VALUES OR A THAT RECIEVED A NASTY FIT\n",
    "# RECOMPUTE A WITH AN ENSEMBLE BOOTSTRAP\n",
    "# IF A IS STILL NOT GREAT, CONSIDER USINVE TAVG2 WITH SOMETHING LIKE A SAVGOL FILTER IMPLEMENTED AS AN FIR FILTER\n",
    "# KEEP TRYING UNTIL I HAVE AN ESTIMATE OF A THAT IS CONSISTENT WITH THE PARTICLE MODEL"
   ]
  },
  {
   "cell_type": "code",
   "execution_count": 49,
   "id": "7cf1f1ae",
   "metadata": {
    "ExecuteTime": {
     "end_time": "2021-10-04T03:33:39.119380Z",
     "start_time": "2021-10-04T03:33:39.086714Z"
    },
    "hidden": true
   },
   "outputs": [],
   "source": [
    "# #THIS IS THE SHORTEST PATH TO Success\n",
    "# df.loc[[0,0]]\n",
    "# #can I repeat a label? using loc. yes!  THIS CAN BE SOLVE SIMPLY BY \n",
    "# # USE DF_PAIRS TO DETERMINE THE MULTIPLICITY_self OF EACH PID_SELF\n",
    "# multiplicity_self=df_pairs.groupby([trial_col,'pid_self'])['tmin'].count()\n",
    "# # # USE DF_PAIRS TO DETERMINE THE MULTIPLICITY_other OF EACH PID_OTHER\n",
    "# # SET THE INDEX TO PID_COL IN DF AS DFP\n",
    "# dfp=df.set_index(pid_col)\n",
    "# # MAKE A LIST OF INDICIES WHERE PID_COL IS REPEATED MULTIPLICITY TIMES\n",
    "\n",
    "# # LOCATE AND COPY DF WITH ^THAT LIST FOR SELF\n",
    "# # MAKE A LIST OF INDICIES WHERE PID_COL IS REPEATED MULTIPLICITY TIMES\n",
    "# # LOCATE AND COPY DF WITH ^THAT LIST FOR OTHER\n",
    "# # MAKE A SINGLE DF WITH ALL OF THE DESIRED COLUMNS (SEE HANDWRITTEN (3))\n",
    "# # REWRITE A PANDASESQUE DIST_L2_PBC_CUDF MEASURE \n",
    "# # COMPUTE THE CUDF DATAFRAME OF ALL RANGE TIMESERIES FOR ALL PAIRS"
   ]
  },
  {
   "cell_type": "code",
   "execution_count": 50,
   "id": "df5b4ea0",
   "metadata": {
    "ExecuteTime": {
     "end_time": "2021-10-04T03:33:39.150816Z",
     "start_time": "2021-10-04T03:33:39.121263Z"
    },
    "hidden": true
   },
   "outputs": [],
   "source": [
    "# #DONE: visually verify these values look sensible\n",
    "# plt.plot(dist_values.get())\n",
    "# plt.show()\n",
    "# plt.plot(self_values[:,0].get(),self_values[:,1].get())\n",
    "# plt.plot(other_values[:,0].get(),other_values[:,1].get())\n",
    "# plt.show()"
   ]
  },
  {
   "cell_type": "code",
   "execution_count": 51,
   "id": "036c7a89",
   "metadata": {
    "ExecuteTime": {
     "end_time": "2021-10-04T03:33:39.180607Z",
     "start_time": "2021-10-04T03:33:39.153034Z"
    },
    "hidden": true
   },
   "outputs": [],
   "source": [
    "# #DONE:compute the distance in x between any points where two spiral tips occur at the same time in t\n",
    "# #is the best way to do this to project to cupy and to run all rows in  together in a daskbag?  sure.\n"
   ]
  },
  {
   "cell_type": "markdown",
   "id": "f136f963",
   "metadata": {},
   "source": [
    "# next step: get a reasonable value for the attraction coefficient, a"
   ]
  },
  {
   "cell_type": "code",
   "execution_count": 52,
   "id": "35e630bb",
   "metadata": {
    "ExecuteTime": {
     "end_time": "2021-10-04T03:33:39.221593Z",
     "start_time": "2021-10-04T03:33:39.181702Z"
    }
   },
   "outputs": [
    {
     "name": "stdout",
     "output_type": "stream",
     "text": [
      "(x_values<0).any()=False\n"
     ]
    }
   ],
   "source": [
    "#TODO: compute the bootstrapped mean dRdt (y_values) binning by one_over_R (x_values)\n",
    "#TODO: bootstrap dRdt versus R for one input_fn\n",
    "#TODO: compute a for one input_fn\n",
    "x_values,y_values=dfr.sort_values(by='t')[['one_over_R','dRdt']].values.T.get()\n",
    "print(f\"(x_values<0).any()={(x_values<0).any()}\")"
   ]
  },
  {
   "cell_type": "code",
   "execution_count": 53,
   "id": "418103b5",
   "metadata": {
    "ExecuteTime": {
     "end_time": "2021-10-04T03:33:39.809752Z",
     "start_time": "2021-10-04T03:33:39.222827Z"
    }
   },
   "outputs": [
    {
     "data": {
      "image/png": "[encoded data removed]",
      "text/plain": [
       "<Figure size 576x288 with 2 Axes>"
      ]
     },
     "metadata": {},
     "output_type": "display_data"
    }
   ],
   "source": [
    "fig,axs=plt.subplots(ncols=2,figsize=(8,4))\n",
    "axs[0].hist(x_values,bins=50)\n",
    "axs[1].hist(y_values,bins=50)\n",
    "format_plot(axs[0], xlabel=r'$1/R$ (1/cm)', ylabel='prob. density', fontsize=fontsize, use_loglog=False)\n",
    "format_plot(axs[1], xlabel=r'$dR/dt$ (cm)', ylabel='prob. density', fontsize=fontsize, use_loglog=False)\n",
    "axs[0].set_xlim([np.quantile(x_values,0.25),np.quantile(x_values,0.75)])\n",
    "axs[1].set_xlim([np.quantile(y_values,0.25),np.quantile(y_values,0.75)])\n",
    "for ax in axs:\n",
    "#     ax.legend(fontsize=fontsize-4,loc='lower center')\n",
    "    ax.set_yscale('log')\n",
    "    ax.set_xlim([xmin,xmax])\n",
    "#     ax.set_title(f'fit parameters: mu={mu:.3f} cm, beta={beta:.3f} cm\\n')\n",
    "    # ax.set_ylim([0,0.01])\n",
    "# axs[0].set_xlim([0,10])\n",
    "# axs[1].set_xlim([-0.01,0.01])\n",
    "plt.tight_layout()\n",
    "plt.show()\n",
    "#TODO: copy all ^this into 1 function and test it on two input_fn_lsts \n",
    "#TODO: apply ^that to a daskbag routine mapping each input_fn in input_fn_lst to a df_traj\n",
    "#TODO: merge df_traj_lst to df_traj_all and save to csv\n",
    "#TODO: bootstrap dRdt versus R for input_fn_kst\n",
    "#TODO: compute a for one input_fn_lst"
   ]
  },
  {
   "cell_type": "code",
   "execution_count": 54,
   "id": "c62c2381",
   "metadata": {
    "ExecuteTime": {
     "end_time": "2021-10-04T03:33:39.835483Z",
     "start_time": "2021-10-04T03:33:39.811616Z"
    }
   },
   "outputs": [],
   "source": [
    "#TODO(IMMEDIATE FOLLOWUP GOAL): show how insensitive a is to choice in navg1 (and/or navg2 if I'm using it!)\n",
    "#GOAL_QUESTION: does there exist a tavg1 that produces the right expected a for a single termination event??"
   ]
  },
  {
   "cell_type": "code",
   "execution_count": 55,
   "id": "8785a01e",
   "metadata": {
    "ExecuteTime": {
     "end_time": "2021-10-04T03:33:39.865991Z",
     "start_time": "2021-10-04T03:33:39.836794Z"
    }
   },
   "outputs": [],
   "source": [
    "#TODO: estimate an ensemble averaged a estimate\n",
    "#TODO: augment df_interacting_pairs with estimates for a for individual pairs of particles\n",
    "#TODO: use ^that to filter based on Rsq or Delta_a and recompute an ensemble averaged a estimate"
   ]
  },
  {
   "cell_type": "code",
   "execution_count": 56,
   "id": "5934e61e",
   "metadata": {
    "ExecuteTime": {
     "end_time": "2021-10-04T03:33:39.911954Z",
     "start_time": "2021-10-04T03:33:39.867955Z"
    }
   },
   "outputs": [
    {
     "name": "stdout",
     "output_type": "stream",
     "text": [
      "(x_values<0).any()=False\n"
     ]
    }
   ],
   "source": [
    "#TODO: compute the bootstrapped mean dRdt (y_values) binning by one_over_R (x_values)\n",
    "#TODO: bootstrap dRdt versus R for one input_fn\n",
    "#TODO: compute a for one input_fn\n",
    "x_values,y_values=dfr.sort_values(by='t')[['one_over_R','dRdt']].values.T\n",
    "print(f\"(x_values<0).any()={(x_values<0).any()}\")"
   ]
  },
  {
   "cell_type": "code",
   "execution_count": 57,
   "id": "186dbbfd",
   "metadata": {
    "ExecuteTime": {
     "end_time": "2021-10-04T03:33:39.945660Z",
     "start_time": "2021-10-04T03:33:39.914005Z"
    }
   },
   "outputs": [],
   "source": [
    "#TODO: input m (:= the number of chunks to repeat this method over to avoid an out-of-memory-error)\n",
    "#TODO: bin x_values into histogram bins\n",
    "#TODO: compute which histogram bins have enough members\n",
    "#TODO: select only ^those members\n",
    "#TODO: compute the max size amongst all histogram bins\n",
    "#TODO: generate num_samples/m number of random samples of histogram bins\n",
    "#TODO: for each histogram bin:\n",
    "#TODO: \n",
    "#for a given histogram bin, \n",
    "#compute the bootstrapped mean "
   ]
  },
  {
   "cell_type": "code",
   "execution_count": null,
   "id": "c4ca2246",
   "metadata": {},
   "outputs": [],
   "source": []
  },
  {
   "cell_type": "code",
   "execution_count": null,
   "id": "2878a5ab",
   "metadata": {},
   "outputs": [],
   "source": []
  },
  {
   "cell_type": "code",
   "execution_count": null,
   "id": "a48d771c",
   "metadata": {},
   "outputs": [],
   "source": []
  },
  {
   "cell_type": "code",
   "execution_count": 58,
   "id": "67e98ddb",
   "metadata": {
    "ExecuteTime": {
     "end_time": "2021-10-04T03:33:39.996770Z",
     "start_time": "2021-10-04T03:33:39.947568Z"
    }
   },
   "outputs": [],
   "source": [
    "x=y_values\n",
    "num_samples=1000\n",
    "sizex=x.shape[0]#the maximum size it could be\n",
    "randint_array=cp.random.randint(low=0, high=sizex, size=sizex, dtype=cp.int32)#.reshape((sizex,num_samples))"
   ]
  },
  {
   "cell_type": "code",
   "execution_count": 59,
   "id": "396366d5",
   "metadata": {
    "ExecuteTime": {
     "end_time": "2021-10-04T03:33:40.024961Z",
     "start_time": "2021-10-04T03:33:39.997993Z"
    }
   },
   "outputs": [
    {
     "data": {
      "text/plain": [
       "array(0.00031023)"
      ]
     },
     "execution_count": 59,
     "metadata": {},
     "output_type": "execute_result"
    }
   ],
   "source": [
    "cp.mean(x[randint_array])"
   ]
  },
  {
   "cell_type": "code",
   "execution_count": 60,
   "id": "8cfde19e",
   "metadata": {
    "ExecuteTime": {
     "end_time": "2021-10-04T03:33:40.050280Z",
     "start_time": "2021-10-04T03:33:40.026140Z"
    }
   },
   "outputs": [],
   "source": [
    "# # randint_array=cp.random.randint(low=0, high=sizex, size=sizex*num_samples, dtype=int).reshape((sizex,num_samples))\n",
    "# mean_values=cp.mean(x[randint_array][...,0],axis=1)\n",
    "# # randint_array=cp.random.randint(low=0, high=sizex-1, size=sizex*num_samples, dtype=int).reshape((sizex,num_samples))#?\n",
    "# # mean_values=bootstrap_mean_cu(x,randint_array)\n",
    "# sig=cp.std(mean_values)\n",
    "# # if include_normaltest_slowly:\n",
    "# #     p = normaltest(mean_values)\n",
    "# # else:\n",
    "# p=-9999.+0.*mean_values#floating point rep of nan that won't raise exceptions\n",
    "# Delta_mean=1.96*sig"
   ]
  },
  {
   "cell_type": "code",
   "execution_count": 61,
   "id": "861511e5",
   "metadata": {
    "ExecuteTime": {
     "end_time": "2021-10-04T03:33:40.073676Z",
     "start_time": "2021-10-04T03:33:40.051611Z"
    }
   },
   "outputs": [],
   "source": [
    "# boo=x_values>0\n",
    "# x=x_values[boo]\n",
    "# num_samples=50\n",
    "# sizex=x.shape[0]\n",
    "# cp.mean(x[cp.random.randint(low=0, high=sizex, size=sizex*num_samples, dtype=int).\n",
    "#           reshape((sizex,num_samples))][...,0])"
   ]
  },
  {
   "cell_type": "code",
   "execution_count": 69,
   "id": "bbae1fcc",
   "metadata": {
    "ExecuteTime": {
     "end_time": "2021-10-04T03:43:58.302879Z",
     "start_time": "2021-10-04T03:43:58.273158Z"
    }
   },
   "outputs": [
    {
     "data": {
      "text/plain": [
       "(1103866,)"
      ]
     },
     "execution_count": 69,
     "metadata": {},
     "output_type": "execute_result"
    }
   ],
   "source": [
    "x_values[boo].get().shape"
   ]
  },
  {
   "cell_type": "code",
   "execution_count": 70,
   "id": "38a8c6f8",
   "metadata": {
    "ExecuteTime": {
     "end_time": "2021-10-04T03:44:41.772486Z",
     "start_time": "2021-10-04T03:44:41.746771Z"
    }
   },
   "outputs": [
    {
     "data": {
      "text/plain": [
       "<function lib.measure.bootstrap.bin_and_bootstrap_xy_values(x, y, xlabel, ylabel, bins='auto', min_numobs=None, num_bootstrap_samples=1000, npartitions=1, **kwargs)>"
      ]
     },
     "execution_count": 70,
     "metadata": {},
     "output_type": "execute_result"
    }
   ],
   "source": [
    "bin_and_bootstrap_xy_values"
   ]
  },
  {
   "cell_type": "code",
   "execution_count": 71,
   "id": "38a70ce7",
   "metadata": {
    "ExecuteTime": {
     "end_time": "2021-10-04T03:45:49.841437Z",
     "start_time": "2021-10-04T03:45:49.812995Z"
    }
   },
   "outputs": [
    {
     "data": {
      "text/plain": [
       "<function lib.measure.bootstrap.bin_and_bootstrap_xy_values_parallel(x, y, xlabel='x', ylabel='y', bins='auto', min_numobs=None, num_bootstrap_samples=1000, npartitions=1, use_test=True, test_val=0, printing=False, **kwargs)>"
      ]
     },
     "execution_count": 71,
     "metadata": {},
     "output_type": "execute_result"
    }
   ],
   "source": [
    "bin_and_bootstrap_xy_values_parallel"
   ]
  },
  {
   "cell_type": "code",
   "execution_count": 75,
   "id": "32901ed7",
   "metadata": {
    "ExecuteTime": {
     "end_time": "2021-10-04T03:57:56.349433Z",
     "start_time": "2021-10-04T03:57:56.323031Z"
    }
   },
   "outputs": [
    {
     "data": {
      "text/plain": [
       "numpy.ndarray"
      ]
     },
     "execution_count": 75,
     "metadata": {},
     "output_type": "execute_result"
    }
   ],
   "source": [
    "type(x_values[boo].get()[:7])"
   ]
  },
  {
   "cell_type": "code",
   "execution_count": 73,
   "id": "fc9a3414",
   "metadata": {
    "ExecuteTime": {
     "end_time": "2021-10-04T03:57:14.847771Z",
     "start_time": "2021-10-04T03:57:12.129863Z"
    }
   },
   "outputs": [
    {
     "ename": "ValueError",
     "evalue": "Shape of passed values is (3, 1), indices imply (3, 7)",
     "output_type": "error",
     "traceback": [
      "\u001b[0;31m---------------------------------------------------------------------------\u001b[0m",
      "\u001b[0;31mValueError\u001b[0m                                Traceback (most recent call last)",
      "\u001b[0;32m~/anaconda3/envs/pyenv_ub/lib/python3.7/site-packages/pandas/core/internals/managers.py\u001b[0m in \u001b[0;36mcreate_block_manager_from_blocks\u001b[0;34m(blocks, axes)\u001b[0m\n\u001b[1;32m   1675\u001b[0m                     make_block(\n\u001b[0;32m-> 1676\u001b[0;31m                         \u001b[0mvalues\u001b[0m\u001b[0;34m=\u001b[0m\u001b[0mblocks\u001b[0m\u001b[0;34m[\u001b[0m\u001b[0;36m0\u001b[0m\u001b[0;34m]\u001b[0m\u001b[0;34m,\u001b[0m \u001b[0mplacement\u001b[0m\u001b[0;34m=\u001b[0m\u001b[0mslice\u001b[0m\u001b[0;34m(\u001b[0m\u001b[0;36m0\u001b[0m\u001b[0;34m,\u001b[0m \u001b[0mlen\u001b[0m\u001b[0;34m(\u001b[0m\u001b[0maxes\u001b[0m\u001b[0;34m[\u001b[0m\u001b[0;36m0\u001b[0m\u001b[0;34m]\u001b[0m\u001b[0;34m)\u001b[0m\u001b[0;34m)\u001b[0m\u001b[0;34m,\u001b[0m \u001b[0mndim\u001b[0m\u001b[0;34m=\u001b[0m\u001b[0;36m2\u001b[0m\u001b[0;34m\u001b[0m\u001b[0;34m\u001b[0m\u001b[0m\n\u001b[0m\u001b[1;32m   1677\u001b[0m                     )\n",
      "\u001b[0;32m~/anaconda3/envs/pyenv_ub/lib/python3.7/site-packages/pandas/core/internals/blocks.py\u001b[0m in \u001b[0;36mmake_block\u001b[0;34m(values, placement, klass, ndim, dtype)\u001b[0m\n\u001b[1;32m   2750\u001b[0m \u001b[0;34m\u001b[0m\u001b[0m\n\u001b[0;32m-> 2751\u001b[0;31m     \u001b[0;32mreturn\u001b[0m \u001b[0mklass\u001b[0m\u001b[0;34m(\u001b[0m\u001b[0mvalues\u001b[0m\u001b[0;34m,\u001b[0m \u001b[0mndim\u001b[0m\u001b[0;34m=\u001b[0m\u001b[0mndim\u001b[0m\u001b[0;34m,\u001b[0m \u001b[0mplacement\u001b[0m\u001b[0;34m=\u001b[0m\u001b[0mplacement\u001b[0m\u001b[0;34m)\u001b[0m\u001b[0;34m\u001b[0m\u001b[0;34m\u001b[0m\u001b[0m\n\u001b[0m\u001b[1;32m   2752\u001b[0m \u001b[0;34m\u001b[0m\u001b[0m\n",
      "\u001b[0;32m~/anaconda3/envs/pyenv_ub/lib/python3.7/site-packages/pandas/core/internals/blocks.py\u001b[0m in \u001b[0;36m__init__\u001b[0;34m(self, values, placement, ndim)\u001b[0m\n\u001b[1;32m    142\u001b[0m             raise ValueError(\n\u001b[0;32m--> 143\u001b[0;31m                 \u001b[0;34mf\"Wrong number of items passed {len(self.values)}, \"\u001b[0m\u001b[0;34m\u001b[0m\u001b[0;34m\u001b[0m\u001b[0m\n\u001b[0m\u001b[1;32m    144\u001b[0m                 \u001b[0;34mf\"placement implies {len(self.mgr_locs)}\"\u001b[0m\u001b[0;34m\u001b[0m\u001b[0;34m\u001b[0m\u001b[0m\n",
      "\u001b[0;31mValueError\u001b[0m: Wrong number of items passed 1, placement implies 7",
      "\nDuring handling of the above exception, another exception occurred:\n",
      "\u001b[0;31mValueError\u001b[0m                                Traceback (most recent call last)",
      "\u001b[0;32m/tmp/ipykernel_118903/983090416.py\u001b[0m in \u001b[0;36m<module>\u001b[0;34m\u001b[0m\n\u001b[1;32m     12\u001b[0m                                \u001b[0mnpartitions\u001b[0m\u001b[0;34m=\u001b[0m\u001b[0mos\u001b[0m\u001b[0;34m.\u001b[0m\u001b[0mcpu_count\u001b[0m\u001b[0;34m(\u001b[0m\u001b[0;34m)\u001b[0m\u001b[0;34m,\u001b[0m\u001b[0;31m#full cylinders\u001b[0m\u001b[0;34m\u001b[0m\u001b[0;34m\u001b[0m\u001b[0m\n\u001b[1;32m     13\u001b[0m                                \u001b[0muse_test\u001b[0m\u001b[0;34m=\u001b[0m\u001b[0;32mFalse\u001b[0m\u001b[0;34m,\u001b[0m\u001b[0;34m\u001b[0m\u001b[0;34m\u001b[0m\u001b[0m\n\u001b[0;32m---> 14\u001b[0;31m                                test_val=0,printing=False)#,**kwargs)\n\u001b[0m",
      "\u001b[0;32m~/Documents/GitHub/care/notebooks/lib/measure/bootstrap.py\u001b[0m in \u001b[0;36mbin_and_bootstrap_xy_values\u001b[0;34m(x, y, xlabel, ylabel, bins, min_numobs, num_bootstrap_samples, npartitions, **kwargs)\u001b[0m\n\u001b[1;32m    108\u001b[0m                                        \u001b[0mmin_numobs\u001b[0m\u001b[0;34m=\u001b[0m\u001b[0mmin_numobs\u001b[0m\u001b[0;34m,\u001b[0m\u001b[0;34m\u001b[0m\u001b[0;34m\u001b[0m\u001b[0m\n\u001b[1;32m    109\u001b[0m                                        \u001b[0mnum_bootstrap_samples\u001b[0m\u001b[0;34m=\u001b[0m\u001b[0mnum_bootstrap_samples\u001b[0m\u001b[0;34m,\u001b[0m\u001b[0;34m\u001b[0m\u001b[0;34m\u001b[0m\u001b[0m\n\u001b[0;32m--> 110\u001b[0;31m                                        npartitions=npartitions,**kwargs)\n\u001b[0m\u001b[1;32m    111\u001b[0m \u001b[0;34m\u001b[0m\u001b[0m\n\u001b[1;32m    112\u001b[0m \u001b[0;31m###########################################\u001b[0m\u001b[0;34m\u001b[0m\u001b[0;34m\u001b[0m\u001b[0;34m\u001b[0m\u001b[0m\n",
      "\u001b[0;32m~/Documents/GitHub/care/notebooks/lib/measure/bootstrap.py\u001b[0m in \u001b[0;36mbin_and_bootstrap_xy_values_parallel\u001b[0;34m(x, y, xlabel, ylabel, bins, min_numobs, num_bootstrap_samples, npartitions, use_test, test_val, printing, **kwargs)\u001b[0m\n\u001b[1;32m    220\u001b[0m     \u001b[0mcolumns\u001b[0m\u001b[0;34m=\u001b[0m\u001b[0;34m[\u001b[0m\u001b[0mxlabel\u001b[0m\u001b[0;34m,\u001b[0m\u001b[0mylabel\u001b[0m\u001b[0;34m,\u001b[0m\u001b[0;34mf'Delta_{xlabel}'\u001b[0m\u001b[0;34m,\u001b[0m\u001b[0;34mf'Delta_{ylabel}'\u001b[0m\u001b[0;34m,\u001b[0m\u001b[0;34mf'p_{xlabel}'\u001b[0m\u001b[0;34m,\u001b[0m\u001b[0;34mf'p_{ylabel}'\u001b[0m\u001b[0;34m,\u001b[0m\u001b[0;34m'counts'\u001b[0m\u001b[0;34m]\u001b[0m\u001b[0;34m\u001b[0m\u001b[0;34m\u001b[0m\u001b[0m\n\u001b[1;32m    221\u001b[0m     \u001b[0;31m# columns=['r','drdt','Delta_r','Delta_drdt','p_r','p_drdt','counts']\u001b[0m\u001b[0;34m\u001b[0m\u001b[0;34m\u001b[0m\u001b[0;34m\u001b[0m\u001b[0m\n\u001b[0;32m--> 222\u001b[0;31m     \u001b[0mdf\u001b[0m\u001b[0;34m=\u001b[0m\u001b[0mpd\u001b[0m\u001b[0;34m.\u001b[0m\u001b[0mDataFrame\u001b[0m\u001b[0;34m(\u001b[0m\u001b[0mdata\u001b[0m\u001b[0;34m=\u001b[0m\u001b[0marray_out\u001b[0m\u001b[0;34m,\u001b[0m\u001b[0mcolumns\u001b[0m\u001b[0;34m=\u001b[0m\u001b[0mcolumns\u001b[0m\u001b[0;34m)\u001b[0m\u001b[0;34m\u001b[0m\u001b[0;34m\u001b[0m\u001b[0m\n\u001b[0m\u001b[1;32m    223\u001b[0m     \u001b[0mdf\u001b[0m\u001b[0;34m=\u001b[0m\u001b[0mdf\u001b[0m\u001b[0;34m.\u001b[0m\u001b[0mastype\u001b[0m\u001b[0;34m(\u001b[0m\u001b[0;34m{\u001b[0m\u001b[0;34m'counts'\u001b[0m\u001b[0;34m:\u001b[0m \u001b[0;34m'int32'\u001b[0m\u001b[0;34m}\u001b[0m\u001b[0;34m)\u001b[0m\u001b[0;34m\u001b[0m\u001b[0;34m\u001b[0m\u001b[0m\n\u001b[1;32m    224\u001b[0m     \u001b[0;32mreturn\u001b[0m \u001b[0mdf\u001b[0m\u001b[0;34m\u001b[0m\u001b[0;34m\u001b[0m\u001b[0m\n",
      "\u001b[0;32m~/anaconda3/envs/pyenv_ub/lib/python3.7/site-packages/pandas/core/frame.py\u001b[0m in \u001b[0;36m__init__\u001b[0;34m(self, data, index, columns, dtype, copy)\u001b[0m\n\u001b[1;32m    556\u001b[0m                 \u001b[0mmgr\u001b[0m \u001b[0;34m=\u001b[0m \u001b[0minit_dict\u001b[0m\u001b[0;34m(\u001b[0m\u001b[0;34m{\u001b[0m\u001b[0mdata\u001b[0m\u001b[0;34m.\u001b[0m\u001b[0mname\u001b[0m\u001b[0;34m:\u001b[0m \u001b[0mdata\u001b[0m\u001b[0;34m}\u001b[0m\u001b[0;34m,\u001b[0m \u001b[0mindex\u001b[0m\u001b[0;34m,\u001b[0m \u001b[0mcolumns\u001b[0m\u001b[0;34m,\u001b[0m \u001b[0mdtype\u001b[0m\u001b[0;34m=\u001b[0m\u001b[0mdtype\u001b[0m\u001b[0;34m)\u001b[0m\u001b[0;34m\u001b[0m\u001b[0;34m\u001b[0m\u001b[0m\n\u001b[1;32m    557\u001b[0m             \u001b[0;32melse\u001b[0m\u001b[0;34m:\u001b[0m\u001b[0;34m\u001b[0m\u001b[0;34m\u001b[0m\u001b[0m\n\u001b[0;32m--> 558\u001b[0;31m                 \u001b[0mmgr\u001b[0m \u001b[0;34m=\u001b[0m \u001b[0minit_ndarray\u001b[0m\u001b[0;34m(\u001b[0m\u001b[0mdata\u001b[0m\u001b[0;34m,\u001b[0m \u001b[0mindex\u001b[0m\u001b[0;34m,\u001b[0m \u001b[0mcolumns\u001b[0m\u001b[0;34m,\u001b[0m \u001b[0mdtype\u001b[0m\u001b[0;34m=\u001b[0m\u001b[0mdtype\u001b[0m\u001b[0;34m,\u001b[0m \u001b[0mcopy\u001b[0m\u001b[0;34m=\u001b[0m\u001b[0mcopy\u001b[0m\u001b[0;34m)\u001b[0m\u001b[0;34m\u001b[0m\u001b[0;34m\u001b[0m\u001b[0m\n\u001b[0m\u001b[1;32m    559\u001b[0m \u001b[0;34m\u001b[0m\u001b[0m\n\u001b[1;32m    560\u001b[0m         \u001b[0;31m# For data is list-like, or Iterable (will consume into list)\u001b[0m\u001b[0;34m\u001b[0m\u001b[0;34m\u001b[0m\u001b[0;34m\u001b[0m\u001b[0m\n",
      "\u001b[0;32m~/anaconda3/envs/pyenv_ub/lib/python3.7/site-packages/pandas/core/internals/construction.py\u001b[0m in \u001b[0;36minit_ndarray\u001b[0;34m(values, index, columns, dtype, copy)\u001b[0m\n\u001b[1;32m    236\u001b[0m         \u001b[0mblock_values\u001b[0m \u001b[0;34m=\u001b[0m \u001b[0;34m[\u001b[0m\u001b[0mvalues\u001b[0m\u001b[0;34m]\u001b[0m\u001b[0;34m\u001b[0m\u001b[0;34m\u001b[0m\u001b[0m\n\u001b[1;32m    237\u001b[0m \u001b[0;34m\u001b[0m\u001b[0m\n\u001b[0;32m--> 238\u001b[0;31m     \u001b[0;32mreturn\u001b[0m \u001b[0mcreate_block_manager_from_blocks\u001b[0m\u001b[0;34m(\u001b[0m\u001b[0mblock_values\u001b[0m\u001b[0;34m,\u001b[0m \u001b[0;34m[\u001b[0m\u001b[0mcolumns\u001b[0m\u001b[0;34m,\u001b[0m \u001b[0mindex\u001b[0m\u001b[0;34m]\u001b[0m\u001b[0;34m)\u001b[0m\u001b[0;34m\u001b[0m\u001b[0;34m\u001b[0m\u001b[0m\n\u001b[0m\u001b[1;32m    239\u001b[0m \u001b[0;34m\u001b[0m\u001b[0m\n\u001b[1;32m    240\u001b[0m \u001b[0;34m\u001b[0m\u001b[0m\n",
      "\u001b[0;32m~/anaconda3/envs/pyenv_ub/lib/python3.7/site-packages/pandas/core/internals/managers.py\u001b[0m in \u001b[0;36mcreate_block_manager_from_blocks\u001b[0;34m(blocks, axes)\u001b[0m\n\u001b[1;32m   1685\u001b[0m         \u001b[0mblocks\u001b[0m \u001b[0;34m=\u001b[0m \u001b[0;34m[\u001b[0m\u001b[0mgetattr\u001b[0m\u001b[0;34m(\u001b[0m\u001b[0mb\u001b[0m\u001b[0;34m,\u001b[0m \u001b[0;34m\"values\"\u001b[0m\u001b[0;34m,\u001b[0m \u001b[0mb\u001b[0m\u001b[0;34m)\u001b[0m \u001b[0;32mfor\u001b[0m \u001b[0mb\u001b[0m \u001b[0;32min\u001b[0m \u001b[0mblocks\u001b[0m\u001b[0;34m]\u001b[0m\u001b[0;34m\u001b[0m\u001b[0;34m\u001b[0m\u001b[0m\n\u001b[1;32m   1686\u001b[0m         \u001b[0mtot_items\u001b[0m \u001b[0;34m=\u001b[0m \u001b[0msum\u001b[0m\u001b[0;34m(\u001b[0m\u001b[0mb\u001b[0m\u001b[0;34m.\u001b[0m\u001b[0mshape\u001b[0m\u001b[0;34m[\u001b[0m\u001b[0;36m0\u001b[0m\u001b[0;34m]\u001b[0m \u001b[0;32mfor\u001b[0m \u001b[0mb\u001b[0m \u001b[0;32min\u001b[0m \u001b[0mblocks\u001b[0m\u001b[0;34m)\u001b[0m\u001b[0;34m\u001b[0m\u001b[0;34m\u001b[0m\u001b[0m\n\u001b[0;32m-> 1687\u001b[0;31m         \u001b[0;32mraise\u001b[0m \u001b[0mconstruction_error\u001b[0m\u001b[0;34m(\u001b[0m\u001b[0mtot_items\u001b[0m\u001b[0;34m,\u001b[0m \u001b[0mblocks\u001b[0m\u001b[0;34m[\u001b[0m\u001b[0;36m0\u001b[0m\u001b[0;34m]\u001b[0m\u001b[0;34m.\u001b[0m\u001b[0mshape\u001b[0m\u001b[0;34m[\u001b[0m\u001b[0;36m1\u001b[0m\u001b[0;34m:\u001b[0m\u001b[0;34m]\u001b[0m\u001b[0;34m,\u001b[0m \u001b[0maxes\u001b[0m\u001b[0;34m,\u001b[0m \u001b[0me\u001b[0m\u001b[0;34m)\u001b[0m\u001b[0;34m\u001b[0m\u001b[0;34m\u001b[0m\u001b[0m\n\u001b[0m\u001b[1;32m   1688\u001b[0m \u001b[0;34m\u001b[0m\u001b[0m\n\u001b[1;32m   1689\u001b[0m \u001b[0;34m\u001b[0m\u001b[0m\n",
      "\u001b[0;31mValueError\u001b[0m: Shape of passed values is (3, 1), indices imply (3, 7)"
     ]
    }
   ],
   "source": [
    "#compute the bootstrapped mean dRdt (y_values) binning by one_over_R (x_values)\n",
    "boo=x_values>0\n",
    "bins=30#'auto'\n",
    "# df_out=bin_and_bootstrap_xy_values_parallel(x=x_values[boo],\n",
    "df_out=bin_and_bootstrap_xy_values(x=x_values[boo].get()[:7],\n",
    "                               y=y_values[boo].get()[:7],\n",
    "                               xlabel='one_over_R',\n",
    "                               ylabel='dRdt',\n",
    "                               bins=bins,\n",
    "                               min_numobs=None,\n",
    "                               num_bootstrap_samples=5,\n",
    "                               npartitions=os.cpu_count(),#full cylinders\n",
    "                               use_test=False,\n",
    "                               test_val=0,printing=False)#,**kwargs)"
   ]
  },
  {
   "cell_type": "code",
   "execution_count": 64,
   "id": "41eff53a",
   "metadata": {
    "ExecuteTime": {
     "end_time": "2021-10-04T03:38:37.904541Z",
     "start_time": "2021-10-04T03:38:37.840205Z"
    }
   },
   "outputs": [
    {
     "data": {
      "text/html": [
       "<div>\n",
       "<style scoped>\n",
       "    .dataframe tbody tr th:only-of-type {\n",
       "        vertical-align: middle;\n",
       "    }\n",
       "\n",
       "    .dataframe tbody tr th {\n",
       "        vertical-align: top;\n",
       "    }\n",
       "\n",
       "    .dataframe thead th {\n",
       "        text-align: right;\n",
       "    }\n",
       "</style>\n",
       "<table border=\"1\" class=\"dataframe\">\n",
       "  <thead>\n",
       "    <tr style=\"text-align: right;\">\n",
       "      <th></th>\n",
       "      <th>one_over_R</th>\n",
       "      <th>dRdt</th>\n",
       "      <th>Delta_one_over_R</th>\n",
       "      <th>Delta_dRdt</th>\n",
       "      <th>p_one_over_R</th>\n",
       "      <th>p_dRdt</th>\n",
       "      <th>counts</th>\n",
       "    </tr>\n",
       "  </thead>\n",
       "  <tbody>\n",
       "    <tr>\n",
       "      <th>0</th>\n",
       "      <td>0.64684</td>\n",
       "      <td>0.000296</td>\n",
       "      <td>0.0</td>\n",
       "      <td>0.0</td>\n",
       "      <td>-9999.0</td>\n",
       "      <td>-9999.0</td>\n",
       "      <td>1103712</td>\n",
       "    </tr>\n",
       "    <tr>\n",
       "      <th>1</th>\n",
       "      <td>-9999.00000</td>\n",
       "      <td>-9999.000000</td>\n",
       "      <td>-9999.0</td>\n",
       "      <td>-9999.0</td>\n",
       "      <td>-9999.0</td>\n",
       "      <td>-9999.0</td>\n",
       "      <td>-9999</td>\n",
       "    </tr>\n",
       "    <tr>\n",
       "      <th>2</th>\n",
       "      <td>-9999.00000</td>\n",
       "      <td>-9999.000000</td>\n",
       "      <td>-9999.0</td>\n",
       "      <td>-9999.0</td>\n",
       "      <td>-9999.0</td>\n",
       "      <td>-9999.0</td>\n",
       "      <td>-9999</td>\n",
       "    </tr>\n",
       "    <tr>\n",
       "      <th>3</th>\n",
       "      <td>-9999.00000</td>\n",
       "      <td>-9999.000000</td>\n",
       "      <td>-9999.0</td>\n",
       "      <td>-9999.0</td>\n",
       "      <td>-9999.0</td>\n",
       "      <td>-9999.0</td>\n",
       "      <td>-9999</td>\n",
       "    </tr>\n",
       "    <tr>\n",
       "      <th>4</th>\n",
       "      <td>-9999.00000</td>\n",
       "      <td>-9999.000000</td>\n",
       "      <td>-9999.0</td>\n",
       "      <td>-9999.0</td>\n",
       "      <td>-9999.0</td>\n",
       "      <td>-9999.0</td>\n",
       "      <td>-9999</td>\n",
       "    </tr>\n",
       "  </tbody>\n",
       "</table>\n",
       "</div>"
      ],
      "text/plain": [
       "   one_over_R         dRdt  Delta_one_over_R  Delta_dRdt  p_one_over_R  \\\n",
       "0     0.64684     0.000296               0.0         0.0       -9999.0   \n",
       "1 -9999.00000 -9999.000000           -9999.0     -9999.0       -9999.0   \n",
       "2 -9999.00000 -9999.000000           -9999.0     -9999.0       -9999.0   \n",
       "3 -9999.00000 -9999.000000           -9999.0     -9999.0       -9999.0   \n",
       "4 -9999.00000 -9999.000000           -9999.0     -9999.0       -9999.0   \n",
       "\n",
       "   p_dRdt   counts  \n",
       "0 -9999.0  1103712  \n",
       "1 -9999.0    -9999  \n",
       "2 -9999.0    -9999  \n",
       "3 -9999.0    -9999  \n",
       "4 -9999.0    -9999  "
      ]
     },
     "execution_count": 64,
     "metadata": {},
     "output_type": "execute_result"
    }
   ],
   "source": [
    "#note: it did not parallelize over os.cpu_count()==12\n",
    "#run time: 1 minute per trial\n",
    "df_out.head()"
   ]
  },
  {
   "cell_type": "code",
   "execution_count": null,
   "id": "09c661cd",
   "metadata": {
    "ExecuteTime": {
     "end_time": "2021-10-04T03:33:47.925122Z",
     "start_time": "2021-10-04T03:33:47.925110Z"
    }
   },
   "outputs": [],
   "source": [
    "y_err_values=df_out['Delta_dRdt'].values"
   ]
  },
  {
   "cell_type": "code",
   "execution_count": null,
   "id": "6040b340",
   "metadata": {
    "ExecuteTime": {
     "end_time": "2021-10-04T03:33:47.925855Z",
     "start_time": "2021-10-04T03:33:47.925844Z"
    }
   },
   "outputs": [],
   "source": [
    "x_values=1/df_out['one_over_R'].values\n",
    "y_values=df_out['dRdt'].values\n"
   ]
  },
  {
   "cell_type": "code",
   "execution_count": null,
   "id": "a881eef3",
   "metadata": {
    "ExecuteTime": {
     "end_time": "2021-10-04T03:33:47.926727Z",
     "start_time": "2021-10-04T03:33:47.926715Z"
    }
   },
   "outputs": [],
   "source": [
    "#fit drdt_values to F0+F1/r with OLS fit for LR model where 1/r is greater than some 1/cm\\n\",\n",
    "rmin=0.1\n",
    "rmax=1.\n",
    "boo=(x_values>rmin)&(x_values<rmax)\n",
    "x=x_values[boo]\n",
    "y=y_values[boo]\n",
    "dict_force_fit=compute_95CI_ols(x,y)\n",
    "y_hat_values=dict_force_fit['b']+dict_force_fit['m']/x_values"
   ]
  },
  {
   "cell_type": "code",
   "execution_count": null,
   "id": "85501149",
   "metadata": {
    "ExecuteTime": {
     "end_time": "2021-10-04T03:33:47.927910Z",
     "start_time": "2021-10-04T03:33:47.927897Z"
    }
   },
   "outputs": [],
   "source": [
    "#plot mean radial velocities\n",
    "fig, axs = plt.subplots(ncols=2, figsize=(9, 4))\n",
    "PlotMeanRadialVelocities(axs, x_values, y_values, y_err_values, y_hat_values,c='C2',alpha=0.1)\n",
    "# PlotMeanRadialVelocities(axs, x_values2, y_values2, y_err_values2, y_hat_values2,c='C4')\n",
    "axs[0].set_title(f'tavg1={tavg1:.1f} ms, tavg2={tavg2:.1f} ms\\n')\n",
    "axs[1].set_title(f'rmin={rmin:.1f} cm, rmax={rmax:.1f} cm, bins={bins}\\n')\n",
    "plt.tight_layout()\n",
    "print_dict(dict_force_fit)\n",
    "plt.show()"
   ]
  },
  {
   "cell_type": "code",
   "execution_count": null,
   "id": "c0708c12",
   "metadata": {},
   "outputs": [],
   "source": []
  },
  {
   "cell_type": "code",
   "execution_count": null,
   "id": "7d9848d6",
   "metadata": {
    "ExecuteTime": {
     "end_time": "2021-10-04T03:33:47.928800Z",
     "start_time": "2021-10-04T03:33:47.928788Z"
    }
   },
   "outputs": [],
   "source": [
    "#TODO: save nice a results as csv\n",
    "save_fn=f\"attraction_coefficient_trial_name.csv\""
   ]
  },
  {
   "cell_type": "markdown",
   "id": "1ee48d2e",
   "metadata": {},
   "source": [
    "__Results:__\n",
    "- the apparent attraction coefficient, a, is not significantly different from zero when measuring with tavg1=4 and tavg2=24.5 ms...\n",
    "- TODO: what if a is measured with a smaller tavg2?  Perhaps those high frequency random fluxtuations account for significant values for a.\n",
    "- TODO: what if i use 30 bins?\n",
    "- TODO: what if i use a tavg3 moving average for each pair\n",
    "- TODO: what if i select only the last n seconds of each pair's record? \n",
    "    - ^this is equivalent to conditioning the random process to an average apparent behavior that favors an annihilation event occuring.\n",
    "\n",
    "$$\n",
    "?a=?\\mathbb{E}_i [ R_t| \\text{annihilation occuring within some time interval}]?\n",
    "$$"
   ]
  },
  {
   "cell_type": "code",
   "execution_count": null,
   "id": "93986877",
   "metadata": {
    "ExecuteTime": {
     "end_time": "2021-10-04T03:33:47.929954Z",
     "start_time": "2021-10-04T03:33:47.929941Z"
    }
   },
   "outputs": [],
   "source": [
    "# input_fn=f\"/home/timothytyree/Documents/GitHub/care/notebooks/Data/initial-conditions-suite-3-LR/param_qu_tmax_30_Ko_5.4_diffCoef_0.0005_dt_0.5/smoothed_trajectories_navg_8/ic002.11_traj_sr_600_mem_0_smoothed.csv\"\n",
    "ext='.csv'\n",
    "input_fn.split('/')[-3:-1].join('__')+ext"
   ]
  },
  {
   "cell_type": "code",
   "execution_count": null,
   "id": "1909d743",
   "metadata": {
    "ExecuteTime": {
     "end_time": "2021-10-04T03:33:47.930821Z",
     "start_time": "2021-10-04T03:33:47.930808Z"
    }
   },
   "outputs": [],
   "source": [
    "x=dfr.loc[dfr.loc[0].name][['dRdt']].values\n",
    "num_samples=1000"
   ]
  },
  {
   "cell_type": "code",
   "execution_count": null,
   "id": "86e9c683",
   "metadata": {
    "ExecuteTime": {
     "end_time": "2021-10-04T03:33:47.931825Z",
     "start_time": "2021-10-04T03:33:47.931812Z"
    }
   },
   "outputs": [],
   "source": [
    "#DONE: test cudf bootstrapping\n",
    "# mean_values=cp.zeros(num_samples)\n",
    "# sizex=x.shape[0]\n",
    "# randint_values_array=cp.random.randint(low=0, high=sizex, size=sizex*num_samples, dtype=int)\n",
    "# bootstrap_indices=randint_values_array.reshape((sizex,num_samples))\n",
    "# mean_values=cp.mean(x[bootstrap_indices][...,0],axis=1)"
   ]
  },
  {
   "cell_type": "code",
   "execution_count": null,
   "id": "1cd3d6d4",
   "metadata": {
    "ExecuteTime": {
     "end_time": "2021-10-04T01:34:53.032930Z",
     "start_time": "2021-10-04T01:34:53.010715Z"
    }
   },
   "outputs": [],
   "source": []
  },
  {
   "cell_type": "code",
   "execution_count": null,
   "id": "0f357c5b",
   "metadata": {
    "ExecuteTime": {
     "end_time": "2021-10-04T03:33:47.932891Z",
     "start_time": "2021-10-04T03:33:47.932879Z"
    }
   },
   "outputs": [],
   "source": [
    "# from inspect import getsource\n",
    "# print (getsource (scipy.stats.stats.normaltest))"
   ]
  },
  {
   "cell_type": "code",
   "execution_count": null,
   "id": "26120821",
   "metadata": {},
   "outputs": [],
   "source": []
  }
 ],
 "metadata": {
  "kernelspec": {
   "display_name": "Python 3 (ipykernel)",
   "language": "python",
   "name": "python3"
  },
  "language_info": {
   "codemirror_mode": {
    "name": "ipython",
    "version": 3
   },
   "file_extension": ".py",
   "mimetype": "text/x-python",
   "name": "python",
   "nbconvert_exporter": "python",
   "pygments_lexer": "ipython3",
   "version": "3.7.10"
  },
  "toc": {
   "base_numbering": 1,
   "nav_menu": {},
   "number_sections": true,
   "sideBar": true,
   "skip_h1_title": false,
   "title_cell": "Table of Contents",
   "title_sidebar": "Contents",
   "toc_cell": false,
   "toc_position": {},
   "toc_section_display": true,
   "toc_window_display": false
  },
  "varInspector": {
   "cols": {
    "lenName": 16,
    "lenType": 16,
    "lenVar": 40
   },
   "kernels_config": {
    "python": {
     "delete_cmd_postfix": "",
     "delete_cmd_prefix": "del ",
     "library": "var_list.py",
     "varRefreshCmd": "print(var_dic_list())"
    },
    "r": {
     "delete_cmd_postfix": ") ",
     "delete_cmd_prefix": "rm(",
     "library": "var_list.r",
     "varRefreshCmd": "cat(var_dic_list()) "
    }
   },
   "types_to_exclude": [
    "module",
    "function",
    "builtin_function_or_method",
    "instance",
    "_Feature"
   ],
   "window_display": false
  }
 },
 "nbformat": 4,
 "nbformat_minor": 5
}
