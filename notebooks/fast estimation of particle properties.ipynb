{
 "cells": [
  {
   "cell_type": "markdown",
   "id": "339e0bdb",
   "metadata": {},
   "source": [
    "# fast estimation of particle properties\n",
    "Tim Tyree<br>\n",
    "9.29.2021<br>\n",
    "`conda activate pyenv_ub`"
   ]
  },
  {
   "cell_type": "markdown",
   "id": "3a44d222",
   "metadata": {
    "ExecuteTime": {
     "end_time": "2021-09-30T03:40:18.986940Z",
     "start_time": "2021-09-30T03:40:18.955224Z"
    }
   },
   "source": [
    "__GOAL__: efficiently generate an inline rendering of dRdt versus 1/R and MSD versus tau"
   ]
  },
  {
   "cell_type": "code",
   "execution_count": 1,
   "id": "ef7d1c70",
   "metadata": {
    "ExecuteTime": {
     "end_time": "2021-09-30T08:14:51.180005Z",
     "start_time": "2021-09-30T08:14:49.311867Z"
    }
   },
   "outputs": [
    {
     "name": "stdout",
     "output_type": "stream",
     "text": [
      "Automatic calling is: Smart\n"
     ]
    }
   ],
   "source": [
    "from lib.my_initialization import *\n",
    "from lib import *\n",
    "from lib.measure.unwrap_and_smooth_cu import *\n",
    "from lib.routines.unwrap_and_smooth_trajectories_cu import *\n",
    "\n",
    "#magic    \n",
    "%autocall 1\n",
    "%load_ext autoreload\n",
    "%autoreload 2\n",
    "\n",
    "import cupy as cp, cudf, numba.cuda as cuda\n",
    "import rmm\n",
    "# Switch to RMM allocator\n",
    "cp.cuda.set_allocator(rmm.rmm_cupy_allocator)"
   ]
  },
  {
   "cell_type": "code",
   "execution_count": 2,
   "id": "bbf03c79",
   "metadata": {
    "ExecuteTime": {
     "end_time": "2021-09-30T08:14:51.221227Z",
     "start_time": "2021-09-30T08:14:51.182331Z"
    }
   },
   "outputs": [],
   "source": [
    "darkmode=False\n",
    "if darkmode:\n",
    "    # For darkmode plots\n",
    "    from jupyterthemes import jtplot\n",
    "    jtplot.style(theme='monokai', context='notebook', ticks=True, grid=False)"
   ]
  },
  {
   "cell_type": "markdown",
   "id": "2db39d46",
   "metadata": {
    "ExecuteTime": {
     "end_time": "2021-09-30T07:44:21.858663Z",
     "start_time": "2021-09-30T07:44:21.823646Z"
    }
   },
   "source": [
    "# (optional) postprocess a token trajectory file"
   ]
  },
  {
   "cell_type": "code",
   "execution_count": 3,
   "id": "8a8e83ce",
   "metadata": {
    "ExecuteTime": {
     "end_time": "2021-09-30T08:14:52.053536Z",
     "start_time": "2021-09-30T08:14:51.222772Z"
    }
   },
   "outputs": [
    {
     "name": "stdout",
     "output_type": "stream",
     "text": [
      "DT=0.5\n"
     ]
    }
   ],
   "source": [
    "# input_fn=search_for_file()\n",
    "\n",
    "# # #token FK at DT=0.4\n",
    "# input_fn=\"/home/timothytyree/Documents/GitHub/care/notebooks/Data/initial-conditions-fk-200x200/param_set_8_ds_5.0_tmax_10_diffCoef_0.0005/Log/ic200x200.0.2_traj_sr_400_mem_0.csv\"\n",
    "\n",
    "# # #tokenLR at DT=0.5\n",
    "# input_fn=f\"/home/timothytyree/Documents/GitHub/care/notebooks/Data/initial-conditions-suite-3-LR/param_qu_tmax_30_Ko_5.4_diffCoef_0.0005_dt_0.5/trajectories/ic002.31_traj_sr_600_mem_0.csv\"\n",
    "input_fn=f\"/home/timothytyree/Documents/GitHub/care/notebooks/Data/initial-conditions-suite-3-LR/param_qu_tmax_30_Ko_5.4_diffCoef_0.0005_dt_0.5/trajectories/ic002.11_traj_sr_600_mem_0.csv\"\n",
    "\n",
    "df=pd.read_csv(input_fn)\n",
    "DT=np.around(get_DT(df),5);print(f\"DT={DT}\")"
   ]
  },
  {
   "cell_type": "code",
   "execution_count": 4,
   "id": "f48a64f5",
   "metadata": {
    "ExecuteTime": {
     "end_time": "2021-09-30T08:15:03.027687Z",
     "start_time": "2021-09-30T08:14:52.056171Z"
    }
   },
   "outputs": [
    {
     "name": "stdout",
     "output_type": "stream",
     "text": [
      "/home/timothytyree/Documents/GitHub/care/notebooks/Data/initial-conditions-suite-3-LR/param_qu_tmax_30_Ko_5.4_diffCoef_0.0005_dt_0.5/smoothed_trajectories_navg_8/ic002.11_traj_sr_600_mem_0_smoothed.csv\n"
     ]
    }
   ],
   "source": [
    "#test routine on one file\n",
    "testing=True\n",
    "if testing:\n",
    "    # ds=5 #cm\n",
    "    # DS=ds/width\n",
    "    tavg1=4 #moving average window, in ms\n",
    "    width=200\n",
    "    height=width\n",
    "    use_drop_shorter_than=True\n",
    "    drop_shorter_than=50 #ms\n",
    "    tmin=100.#ms\n",
    "    pid_col='particle'\n",
    "    t_col='t'\n",
    "    printing=False\n",
    "    navg1=int(tavg1/DT)\n",
    "    save_dir=return_moving_average_of_pbc_trajectories_and_save(\n",
    "            input_fn, tavg1, pid_col, t_col, DT, width, height,\n",
    "            use_drop_shorter_than, drop_shorter_than, tmin, printing)\n",
    "    print(save_dir)\n",
    "\n",
    "    df=load_smoothed_trajectories(save_dir,pid_col,t_col)\n",
    "    df.head()"
   ]
  },
  {
   "cell_type": "code",
   "execution_count": 5,
   "id": "eb3152d0",
   "metadata": {
    "ExecuteTime": {
     "end_time": "2021-09-30T08:15:03.053942Z",
     "start_time": "2021-09-30T08:15:03.029342Z"
    }
   },
   "outputs": [],
   "source": [
    "#run the routine on a whole folder\n",
    "# print((DT, input_fn))\n",
    "# save_dir_lst=routine_postprocess_trajectory_folder(input_fn,DT,tavg1=4, npartitions=None,\n",
    "#                                         width=200,\n",
    "#                                         height=200,\n",
    "#                                         use_drop_shorter_than=True,\n",
    "#                                         drop_shorter_than=50, #ms\n",
    "#                                         tmin=100., #ms\n",
    "#                                         pid_col='particle',\n",
    "#                                         t_col='t',\n",
    "#                                         printing=False)"
   ]
  },
  {
   "cell_type": "markdown",
   "id": "2e6f845e",
   "metadata": {},
   "source": [
    "# TODO: compute dRdt versus 1/R for unconstrained random samples from smoothed and validated trajectories"
   ]
  },
  {
   "cell_type": "code",
   "execution_count": 10,
   "id": "41af419a",
   "metadata": {
    "ExecuteTime": {
     "end_time": "2021-09-30T08:15:15.587971Z",
     "start_time": "2021-09-30T08:15:15.528235Z"
    },
    "run_control": {
     "marked": false
    }
   },
   "outputs": [
    {
     "data": {
      "text/html": [
       "<div>\n",
       "<style scoped>\n",
       "    .dataframe tbody tr th:only-of-type {\n",
       "        vertical-align: middle;\n",
       "    }\n",
       "\n",
       "    .dataframe tbody tr th {\n",
       "        vertical-align: top;\n",
       "    }\n",
       "\n",
       "    .dataframe thead th {\n",
       "        text-align: right;\n",
       "    }\n",
       "</style>\n",
       "<table border=\"1\" class=\"dataframe\">\n",
       "  <thead>\n",
       "    <tr style=\"text-align: right;\">\n",
       "      <th></th>\n",
       "      <th>index</th>\n",
       "      <th>x</th>\n",
       "      <th>y</th>\n",
       "      <th>t</th>\n",
       "      <th>particle</th>\n",
       "      <th>event_id_int</th>\n",
       "      <th>dx_unwrap</th>\n",
       "      <th>dy_unwrap</th>\n",
       "      <th>event_id</th>\n",
       "      <th>x_unwrap</th>\n",
       "      <th>y_unwrap</th>\n",
       "      <th>incol</th>\n",
       "    </tr>\n",
       "  </thead>\n",
       "  <tbody>\n",
       "    <tr>\n",
       "      <th>0</th>\n",
       "      <td>97</td>\n",
       "      <td>88.030335</td>\n",
       "      <td>73.765591</td>\n",
       "      <td>123.0</td>\n",
       "      <td>6</td>\n",
       "      <td>1002116000</td>\n",
       "      <td>0.0</td>\n",
       "      <td>0.0</td>\n",
       "      <td>1.002116e+09</td>\n",
       "      <td>88.030335</td>\n",
       "      <td>73.765591</td>\n",
       "      <td>88.030335</td>\n",
       "    </tr>\n",
       "    <tr>\n",
       "      <th>1</th>\n",
       "      <td>105</td>\n",
       "      <td>89.212899</td>\n",
       "      <td>73.010629</td>\n",
       "      <td>123.5</td>\n",
       "      <td>6</td>\n",
       "      <td>1002116000</td>\n",
       "      <td>0.0</td>\n",
       "      <td>0.0</td>\n",
       "      <td>1.002116e+09</td>\n",
       "      <td>89.212899</td>\n",
       "      <td>73.010629</td>\n",
       "      <td>89.212899</td>\n",
       "    </tr>\n",
       "    <tr>\n",
       "      <th>2</th>\n",
       "      <td>109</td>\n",
       "      <td>89.852546</td>\n",
       "      <td>72.697096</td>\n",
       "      <td>124.0</td>\n",
       "      <td>6</td>\n",
       "      <td>1002116000</td>\n",
       "      <td>0.0</td>\n",
       "      <td>0.0</td>\n",
       "      <td>1.002116e+09</td>\n",
       "      <td>89.852546</td>\n",
       "      <td>72.697096</td>\n",
       "      <td>89.852546</td>\n",
       "    </tr>\n",
       "    <tr>\n",
       "      <th>3</th>\n",
       "      <td>113</td>\n",
       "      <td>91.008877</td>\n",
       "      <td>72.039739</td>\n",
       "      <td>124.5</td>\n",
       "      <td>6</td>\n",
       "      <td>1002116000</td>\n",
       "      <td>0.0</td>\n",
       "      <td>0.0</td>\n",
       "      <td>1.002116e+09</td>\n",
       "      <td>91.008877</td>\n",
       "      <td>72.039739</td>\n",
       "      <td>91.008877</td>\n",
       "    </tr>\n",
       "    <tr>\n",
       "      <th>4</th>\n",
       "      <td>114</td>\n",
       "      <td>91.562092</td>\n",
       "      <td>71.769575</td>\n",
       "      <td>125.0</td>\n",
       "      <td>6</td>\n",
       "      <td>1002116000</td>\n",
       "      <td>0.0</td>\n",
       "      <td>0.0</td>\n",
       "      <td>1.002116e+09</td>\n",
       "      <td>91.562092</td>\n",
       "      <td>71.769575</td>\n",
       "      <td>91.562092</td>\n",
       "    </tr>\n",
       "  </tbody>\n",
       "</table>\n",
       "</div>"
      ],
      "text/plain": [
       "   index          x          y      t  particle  event_id_int  dx_unwrap  \\\n",
       "0     97  88.030335  73.765591  123.0         6    1002116000        0.0   \n",
       "1    105  89.212899  73.010629  123.5         6    1002116000        0.0   \n",
       "2    109  89.852546  72.697096  124.0         6    1002116000        0.0   \n",
       "3    113  91.008877  72.039739  124.5         6    1002116000        0.0   \n",
       "4    114  91.562092  71.769575  125.0         6    1002116000        0.0   \n",
       "\n",
       "   dy_unwrap      event_id   x_unwrap   y_unwrap      incol  \n",
       "0        0.0  1.002116e+09  88.030335  73.765591  88.030335  \n",
       "1        0.0  1.002116e+09  89.212899  73.010629  89.212899  \n",
       "2        0.0  1.002116e+09  89.852546  72.697096  89.852546  \n",
       "3        0.0  1.002116e+09  91.008877  72.039739  91.008877  \n",
       "4        0.0  1.002116e+09  91.562092  71.769575  91.562092  "
      ]
     },
     "execution_count": 10,
     "metadata": {},
     "output_type": "execute_result"
    }
   ],
   "source": [
    "# pd.read_csv(save_dir).head()\n",
    "df.head()"
   ]
  },
  {
   "cell_type": "code",
   "execution_count": null,
   "id": "83cda044",
   "metadata": {},
   "outputs": [],
   "source": [
    "#TODO:compute the distance in x between any points where two spiral tips occur at the same time in t\n"
   ]
  },
  {
   "cell_type": "code",
   "execution_count": 7,
   "id": "d5f985cf",
   "metadata": {
    "ExecuteTime": {
     "end_time": "2021-09-30T08:15:03.136730Z",
     "start_time": "2021-09-30T08:15:03.115514Z"
    }
   },
   "outputs": [],
   "source": [
    "#TODO(IMMEDIATE FOLLOWUP GOAL): show how insensitive a is to choice in navg1 (and/or navg2 if I'm using it!)\n",
    "#GOAL_QUESTION: does there exist a tavg1 that produces the right expected a for a single termination event??"
   ]
  },
  {
   "cell_type": "code",
   "execution_count": 8,
   "id": "31c704aa",
   "metadata": {
    "ExecuteTime": {
     "end_time": "2021-09-30T08:15:03.157798Z",
     "start_time": "2021-09-30T08:15:03.137873Z"
    }
   },
   "outputs": [],
   "source": [
    "# #TODO(later): compute squared displacements\n",
    "# grouped=df.groupby(pid_col)\n",
    "# #HINT: squared displacements of particles is result\n",
    "#  throws AttributeError: DataFrameGroupBy object has no attribute first \n",
    "# result = (grouped[['x','y']]-grouped[['x','y']].first())**2"
   ]
  },
  {
   "cell_type": "code",
   "execution_count": 9,
   "id": "fe724d65",
   "metadata": {
    "ExecuteTime": {
     "end_time": "2021-09-30T08:15:03.180633Z",
     "start_time": "2021-09-30T08:15:03.158927Z"
    }
   },
   "outputs": [],
   "source": [
    "#TODO(later): implement a one_step method on an element in a finite element simulation\n",
    "# HINT: cudf.Grouper?\n",
    "# HINT: https://pandas.pydata.org/pandas-docs/stable/user_guide/groupby.html#grouping-with-a-grouper-specification\n",
    "# HINT: https://pandas.pydata.org/pandas-docs/stable/user_guide/groupby.html#transformation"
   ]
  }
 ],
 "metadata": {
  "kernelspec": {
   "display_name": "Python 3 (ipykernel)",
   "language": "python",
   "name": "python3"
  },
  "language_info": {
   "codemirror_mode": {
    "name": "ipython",
    "version": 3
   },
   "file_extension": ".py",
   "mimetype": "text/x-python",
   "name": "python",
   "nbconvert_exporter": "python",
   "pygments_lexer": "ipython3",
   "version": "3.7.10"
  },
  "toc": {
   "base_numbering": 1,
   "nav_menu": {},
   "number_sections": true,
   "sideBar": true,
   "skip_h1_title": false,
   "title_cell": "Table of Contents",
   "title_sidebar": "Contents",
   "toc_cell": false,
   "toc_position": {},
   "toc_section_display": true,
   "toc_window_display": false
  },
  "varInspector": {
   "cols": {
    "lenName": 16,
    "lenType": 16,
    "lenVar": 40
   },
   "kernels_config": {
    "python": {
     "delete_cmd_postfix": "",
     "delete_cmd_prefix": "del ",
     "library": "var_list.py",
     "varRefreshCmd": "print(var_dic_list())"
    },
    "r": {
     "delete_cmd_postfix": ") ",
     "delete_cmd_prefix": "rm(",
     "library": "var_list.r",
     "varRefreshCmd": "cat(var_dic_list()) "
    }
   },
   "types_to_exclude": [
    "module",
    "function",
    "builtin_function_or_method",
    "instance",
    "_Feature"
   ],
   "window_display": false
  }
 },
 "nbformat": 4,
 "nbformat_minor": 5
}
