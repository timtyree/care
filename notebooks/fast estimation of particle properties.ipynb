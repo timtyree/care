{
 "cells": [
  {
   "cell_type": "markdown",
   "id": "f3bceb72",
   "metadata": {},
   "source": [
    "# fast estimation of particle properties\n",
    "Tim Tyree<br>\n",
    "9.29.2021<br>\n",
    "`conda activate pyenv_ub`"
   ]
  },
  {
   "cell_type": "markdown",
   "id": "b8bdb43b",
   "metadata": {},
   "source": [
    "__TODO(later):__ bug mike to make certain that for the 99.95% accurate decoder, that the i^th neuron for the Match trials is the same as the i^th neuron for the Mismatch trials for all i neuron-units considered."
   ]
  },
  {
   "cell_type": "markdown",
   "id": "f7aed5ab",
   "metadata": {},
   "source": [
    "__TODO__: use more smoothing than just tavg1=2 or 4"
   ]
  },
  {
   "cell_type": "markdown",
   "id": "3a420553",
   "metadata": {
    "ExecuteTime": {
     "end_time": "2021-09-30T03:40:18.986940Z",
     "start_time": "2021-09-30T03:40:18.955224Z"
    }
   },
   "source": [
    "__GOAL__: efficiently generate an inline rendering of dRdt versus 1/R and MSD versus tau using dashly.  try the solution suggested on my stackoverflow post"
   ]
  },
  {
   "cell_type": "code",
   "execution_count": 1,
   "id": "6c811d0a",
   "metadata": {
    "ExecuteTime": {
     "end_time": "2021-10-02T10:50:32.945864Z",
     "start_time": "2021-10-02T10:50:31.115710Z"
    }
   },
   "outputs": [
    {
     "name": "stdout",
     "output_type": "stream",
     "text": [
      "Automatic calling is: Smart\n"
     ]
    }
   ],
   "source": [
    "from lib.my_initialization import *\n",
    "from lib import *\n",
    "# from lib.measure.unwrap_and_smooth_cu import *\n",
    "# from lib.rapids_func import *\n",
    "# .routines.unwrap_and_smooth_trajectories_cu import *\n",
    "\n",
    "import itertools\n",
    "import dask_cudf\n",
    "from lib.rapids_func import *\n",
    "get_DT_cu\n",
    "\n",
    "#magic    \n",
    "%autocall 1\n",
    "%load_ext autoreload\n",
    "%autoreload 2\n",
    "\n",
    "import cupy as cp, cudf, numba.cuda as cuda\n",
    "import rmm\n",
    "# Switch to RMM allocator\n",
    "cp.cuda.set_allocator(rmm.rmm_cupy_allocator)"
   ]
  },
  {
   "cell_type": "code",
   "execution_count": 2,
   "id": "66b8882d",
   "metadata": {
    "ExecuteTime": {
     "end_time": "2021-10-02T10:50:33.026167Z",
     "start_time": "2021-10-02T10:50:32.948420Z"
    }
   },
   "outputs": [],
   "source": [
    "darkmode=True\n",
    "if darkmode:\n",
    "    # For darkmode plots\n",
    "    from jupyterthemes import jtplot\n",
    "    jtplot.style(theme='monokai', context='notebook', ticks=True, grid=False)"
   ]
  },
  {
   "cell_type": "markdown",
   "id": "08f6fce5",
   "metadata": {
    "ExecuteTime": {
     "end_time": "2021-09-30T07:44:21.858663Z",
     "start_time": "2021-09-30T07:44:21.823646Z"
    },
    "heading_collapsed": true
   },
   "source": [
    "# (optional) postprocess a token trajectory file\n",
    "- Nota Bene: batch computation is already automated and optimized in 'fast postprocessing a list of trajectory folders.ipynb'"
   ]
  },
  {
   "cell_type": "code",
   "execution_count": 3,
   "id": "62c062e3",
   "metadata": {
    "ExecuteTime": {
     "end_time": "2021-10-02T10:50:33.050930Z",
     "start_time": "2021-10-02T10:50:33.027785Z"
    },
    "hidden": true
   },
   "outputs": [],
   "source": [
    "# input_fn=search_for_file()\n",
    "\n",
    "# # #token FK at DT=0.4\n",
    "# input_fn=\"/home/timothytyree/Documents/GitHub/care/notebooks/Data/initial-conditions-fk-200x200/param_set_8_ds_5.0_tmax_10_diffCoef_0.0005/Log/ic200x200.0.2_traj_sr_400_mem_0.csv\"\n",
    "\n",
    "# # #tokenLR at DT=0.5\n",
    "# input_fn=f\"/home/timothytyree/Documents/GitHub/care/notebooks/Data/initial-conditions-suite-3-LR/param_qu_tmax_30_Ko_5.4_diffCoef_0.0005_dt_0.5/trajectories/ic002.31_traj_sr_600_mem_0.csv\"\n",
    "input_fn=f\"/home/timothytyree/Documents/GitHub/care/notebooks/Data/initial-conditions-suite-3-LR/param_qu_tmax_30_Ko_5.4_diffCoef_0.0005_dt_0.5/trajectories/ic002.11_traj_sr_600_mem_0.csv\"\n",
    "\n",
    "#test routine on one file\n",
    "testing=False\n",
    "if testing:\n",
    "    df=pd.read_csv(input_fn)\n",
    "    DT=np.around(get_DT(df),5);print(f\"DT={DT}\")\n",
    "    # ds=5 #cm\n",
    "    # DS=ds/width\n",
    "    tavg1=4 #moving average window, in ms\n",
    "    width=200\n",
    "    height=width\n",
    "    use_drop_shorter_than=True\n",
    "    drop_shorter_than=50 #ms\n",
    "    tmin=100.#ms\n",
    "    pid_col='particle'\n",
    "    t_col='t'\n",
    "    printing=False\n",
    "    navg1=int(tavg1/DT)\n",
    "    save_dir=return_moving_average_of_pbc_trajectories_and_save(\n",
    "            input_fn, tavg1, pid_col, t_col, DT, width, height,\n",
    "            use_drop_shorter_than, drop_shorter_than, tmin, printing)\n",
    "    print(save_dir)\n",
    "\n",
    "    df=load_smoothed_trajectories(save_dir,pid_col,t_col)\n",
    "    df.head()"
   ]
  },
  {
   "cell_type": "code",
   "execution_count": 4,
   "id": "8926afa1",
   "metadata": {
    "ExecuteTime": {
     "end_time": "2021-10-02T10:50:33.074194Z",
     "start_time": "2021-10-02T10:50:33.052382Z"
    },
    "hidden": true
   },
   "outputs": [],
   "source": [
    "#run the routine on a whole folder\n",
    "# print((DT, input_fn))\n",
    "# save_dir_lst=routine_postprocess_trajectory_folder(input_fn,DT,tavg1=4, npartitions=None,\n",
    "#                                         width=200,\n",
    "#                                         height=200,\n",
    "#                                         use_drop_shorter_than=True,\n",
    "#                                         drop_shorter_than=50, #ms\n",
    "#                                         tmin=100., #ms\n",
    "#                                         pid_col='particle',\n",
    "#                                         t_col='t',\n",
    "#                                         printing=False)"
   ]
  },
  {
   "cell_type": "code",
   "execution_count": 5,
   "id": "8b837b31",
   "metadata": {
    "ExecuteTime": {
     "end_time": "2021-10-02T10:50:33.095792Z",
     "start_time": "2021-10-02T10:50:33.075282Z"
    },
    "hidden": true
   },
   "outputs": [],
   "source": [
    "# #TODO(later): compute squared displacements\n",
    "# grouped=df.groupby(pid_col)\n",
    "# #HINT: squared displacements of particles is result\n",
    "#  throws AttributeError: DataFrameGroupBy object has no attribute first \n",
    "# result = (grouped[['x','y']]-grouped[['x','y']].first())**2"
   ]
  },
  {
   "cell_type": "code",
   "execution_count": 6,
   "id": "791ed272",
   "metadata": {
    "ExecuteTime": {
     "end_time": "2021-10-02T10:50:33.116753Z",
     "start_time": "2021-10-02T10:50:33.096895Z"
    },
    "hidden": true
   },
   "outputs": [],
   "source": [
    "#TODO(later): implement a one_step method on an element in a finite element simulation\n",
    "# HINT: cudf.Grouper?\n",
    "# HINT: https://pandas.pydata.org/pandas-docs/stable/user_guide/groupby.html#grouping-with-a-grouper-specification\n",
    "# HINT: https://pandas.pydata.org/pandas-docs/stable/user_guide/groupby.html#transformation"
   ]
  },
  {
   "cell_type": "code",
   "execution_count": 7,
   "id": "cadd81b4",
   "metadata": {
    "ExecuteTime": {
     "end_time": "2021-10-02T10:50:33.136199Z",
     "start_time": "2021-10-02T10:50:33.117863Z"
    },
    "hidden": true
   },
   "outputs": [],
   "source": [
    "#DONE: figure out if there's an elegant was to use the cudf api  to do this\n",
    "#for each group of event_id_int's :\n",
    "#compare every particle to every other particle in a simple way\n",
    "#compare every particle to every other particle to determine if the self,other pair intersects nontrivially\n",
    "\n",
    "#DONE: determine condition for whether each pair is intersecting for at least two times \n",
    "# two particles exist for at least two times if both\n",
    "#if other has a tmin > tmin of self\n",
    "#AND if other has a tmax < tmax of self, \n",
    "\n",
    "# #DONE: construct the graph of all edges... this wasn't useful...\n",
    "# G = cugraph.Graph()\n",
    "# G.from_cudf_edgelist(df_pairs, source='src', destination='dst', edge_attr='dst')\n",
    "# # # Let's now get the PageRank score of each vertex by calling cugraph.pagerank\n",
    "# # df_page = cugraph.pagerank(G)\n",
    "# # df_page.head()"
   ]
  },
  {
   "cell_type": "code",
   "execution_count": 8,
   "id": "486494a5",
   "metadata": {
    "ExecuteTime": {
     "end_time": "2021-10-02T10:50:33.155695Z",
     "start_time": "2021-10-02T10:50:33.137964Z"
    },
    "hidden": true
   },
   "outputs": [],
   "source": [
    "#DONE: compute which edges are intersecting\n",
    "#DONE: compute tmin and tmax for each intersecting edge\n",
    "#DONE: compute duration for each intersecting edge\n",
    "#DONE: sort edges by duration\n",
    "#DONE: visualize the histogram of durations of intersecting edges\n",
    "#DONE: consider a minimum_duration_threshold that is at least tavg2 if not specified"
   ]
  },
  {
   "cell_type": "markdown",
   "id": "1f8d1e9d",
   "metadata": {
    "hidden": true
   },
   "source": [
    "## scratchwerk"
   ]
  },
  {
   "cell_type": "code",
   "execution_count": 9,
   "id": "898392ca",
   "metadata": {
    "ExecuteTime": {
     "end_time": "2021-10-02T10:50:33.175950Z",
     "start_time": "2021-10-02T10:50:33.156828Z"
    },
    "hidden": true
   },
   "outputs": [],
   "source": [
    "#DONT: figure out terrible numba debugging for a negligible speed boost\n",
    "# @cuda.jit()#device=True)\n",
    "# def distance_L2_pbc_cuda(point_1, point_2, dist_out, shape):\n",
    "#     '''distance_L2_pbc_cu is a jit compiled function that \n",
    "#     returns for the euclidean (L2) distance between \n",
    "#     point_1 and point_2, which are in an N-cube of shape shape \n",
    "#     with periodic boundary conditions\n",
    "    \n",
    "#     Example Usage:\n",
    "#     blockspergrid=1\n",
    "#     threadsperblock=1\n",
    "#     point_1=self_values[0]\n",
    "#     point_2=other_values[0]\n",
    "#     dist_out=0.#overwritten\n",
    "#     shape=(width,height)\n",
    "#     distance_L2_pbc_cuda[blockspergrid, threadsperblock](point_1, point_2, dist_out, shape)\n",
    "#     '''\n",
    "#     dq2 = 0.\n",
    "#     for q1, q2, wid in zip(point_1, point_2, shape):\n",
    "#         dq2 = dq2 + min(((q2 - q1)**2, (q2 + wid - q1 )**2, (q2 - wid - q1 )**2))\n",
    "#     dist_out= dq2**0.5\n",
    "\n",
    "# blockspergrid=1\n",
    "# threadsperblock=1\n",
    "# point_1=self_values[0]\n",
    "# point_2=other_values[0]\n",
    "# dist_out=np.array([0.])#*self_values\n",
    "# shape=(width,height)\n",
    "# # distance_L2_pbc_cuda(point_1, point_2, dist_out, shape)\n",
    "# distance_L2_pbc_cuda[blockspergrid, threadsperblock](point_1, point_2, dist_out, shape)\n",
    "# dist_out, point_1, point_2\n",
    "\n",
    "# from numba import vectorize\n",
    "# # shape=(width,height)\n",
    "# # @vectorize(['float32[:](float32, float32, float32)'], target='cuda')\n",
    "# shape=cp.array((width,height))\n",
    "# @vectorize(['(float32[:,:], float32[:,:], float32[:,:], float32[:])'], target='cuda')\n",
    "# def distance_L2_pbc_cu(self_values, other_values, dist_out_values, shape):\n",
    "#     for point_1, point_2, dist_out in zip(self_values, other_values, dist_out_values):\n",
    "#         distance_L2_pbc_cuda(point_1, point_2, dist_out, shape)\n",
    "\n",
    "# # blockspergrid=1\n",
    "# # threadsperblock=1\n",
    "# dist_out_values=0.*self_values\n",
    "# shape=cp.array((width,height))\n",
    "# distance_L2_pbc_cu(self_values, other_values, dist_out_values, shape)\n",
    "# # distance_L2_pbc_cuda[blockspergrid, threadsperblock](point_1, point_2, dist_out, shape)\n",
    "# # dist_out"
   ]
  },
  {
   "cell_type": "markdown",
   "id": "27432dfe",
   "metadata": {},
   "source": [
    "# define module"
   ]
  },
  {
   "cell_type": "code",
   "execution_count": 10,
   "id": "ffae6abe",
   "metadata": {
    "ExecuteTime": {
     "end_time": "2021-10-02T10:50:33.196810Z",
     "start_time": "2021-10-02T10:50:33.176989Z"
    }
   },
   "outputs": [],
   "source": [
    "def extract_xy_values_of_pair(df,pair,t_col='t'):\n",
    "    '''\n",
    "    df is a cudf.DataFrame instance of xy trajectories from no more than 1 trial \n",
    "    pair is a row from a pandas.core.series.Series instance with columns,['pid_self', 'pid_other', 'tmin_self', 'tmin_other', 'tmax_self', 'tmax_other', 'tmin', 'tmax', 'duration', 'event_id_int']\n",
    "    \n",
    "    Example Usage:\n",
    "    pair=pd.Series(df_pairs.head(1).to_pandas())\n",
    "    event_id_int=int(pair[trial_col])#.values.get())\n",
    "    dff=df[df[trial_col]==event_id_int]\n",
    "    self_values,other_values=extract_xy_values_of_pair(df=dff,pair=pair,t_col=t_col)\n",
    "    '''\n",
    "    dff=df\n",
    "    #DONE: optimize data retrieval from pair by using only one gpu-to-cpu memory transfer\n",
    "    pid_self =int(pair['pid_self'])#.values.get())\n",
    "    pid_other=int(pair['pid_other'])#.values.get())\n",
    "    tmin     =float(pair['tmin'])#.values.get())\n",
    "    tmax     =float(pair['tmax'])#.values.get())\n",
    "    #failed to broadcase in cudf\n",
    "    #     if event_id_int is not None:\n",
    "    #         dff=df[df[trial_col]==event_id_int]\n",
    "    #     else:\n",
    "    #         dff=df\n",
    "    df_self =dff.loc[(dff[pid_col]==pid_self),[t_col,'x','y']]\n",
    "    df_other=dff.loc[(dff[pid_col]==pid_other),[t_col,'x','y']]\n",
    "    self_values=df_self.loc[(df_self[t_col]>=tmin)&(df_self[t_col]<=tmax),['x','y']].values\n",
    "    other_values=df_other.loc[(df_other[t_col]>=tmin)&(df_other[t_col]<=tmax),['x','y']].values\n",
    "    return self_values,other_values"
   ]
  },
  {
   "cell_type": "code",
   "execution_count": null,
   "id": "c7ec1156",
   "metadata": {
    "ExecuteTime": {
     "end_time": "2021-10-02T07:26:23.942805Z",
     "start_time": "2021-10-02T07:26:23.890263Z"
    }
   },
   "outputs": [],
   "source": []
  },
  {
   "cell_type": "code",
   "execution_count": 11,
   "id": "5fb12543",
   "metadata": {
    "ExecuteTime": {
     "end_time": "2021-10-02T10:50:33.218137Z",
     "start_time": "2021-10-02T10:50:33.197870Z"
    }
   },
   "outputs": [],
   "source": [
    "# pair=df_pairs.head(1)\n",
    "# event_id_int=int(pair[trial_col].values.get())\n",
    "# dff=df[df[trial_col]==event_id_int]\n",
    "# self_values,other_values=extract_xy_values_of_pair(df=dff,pair=pair,t_col=t_col)\n",
    "# print((self_values.shape,other_values.shape))\n",
    "# assert ( self_values.shape==other_values.shape ) "
   ]
  },
  {
   "cell_type": "code",
   "execution_count": 12,
   "id": "0653c8e1",
   "metadata": {
    "ExecuteTime": {
     "end_time": "2021-10-02T10:50:33.244567Z",
     "start_time": "2021-10-02T10:50:33.219525Z"
    }
   },
   "outputs": [],
   "source": [
    "def distance_L2_pbc_cu(self_values,other_values,shape):\n",
    "    '''distance_L2_pbc_cu is a jit compiled function that \n",
    "    returns for the euclidean (L2) distance between \n",
    "    point_1 and point_2, which are in an N-cube of shape shape \n",
    "    with periodic boundary conditions\n",
    "    \n",
    "    Example Usage:\n",
    "    shape=(width,height)\n",
    "    dist_values=distance_L2_pbc_cu(self_values,other_values,shape)\n",
    "    '''\n",
    "    sqdiff_values = (self_values-other_values)**2\n",
    "    #compute the other pbc options for sqdiff_values for each column\n",
    "    for n,w in enumerate(shape):\n",
    "        self_w_values  = self_values[:,n]\n",
    "        other_w_values = other_values[:,n]\n",
    "        sqdiff_w_values= sqdiff_values[:,n]\n",
    "        sqdiff_wp_values=(self_w_values-other_w_values-w)**2\n",
    "        sqdiff_wm_values=(self_w_values-other_w_values+w)**2\n",
    "        boop=sqdiff_wp_values<sqdiff_w_values\n",
    "        boom=sqdiff_wm_values<sqdiff_w_values\n",
    "        sqdiff_values[boop,n]=sqdiff_wp_values[boop]\n",
    "        sqdiff_values[boom,n]=sqdiff_wm_values[boom]\n",
    "\n",
    "    dist_values=cp.sqrt(cp.sum(sqdiff_values,axis=1))\n",
    "    return dist_values"
   ]
  },
  {
   "cell_type": "markdown",
   "id": "a5fa93ba",
   "metadata": {},
   "source": [
    "# TODO: compute dRdt versus 1/R for unconstrained random samples from smoothed and validated trajectories"
   ]
  },
  {
   "cell_type": "markdown",
   "id": "964089db",
   "metadata": {},
   "source": [
    "__Note:__ cugraph is a great tool for complex problems that happen in terms of graphs that benefit from visualization.  My graph problem is low-level, and therefore it does not appear beneficial for me to use cugraph here."
   ]
  },
  {
   "cell_type": "code",
   "execution_count": 13,
   "id": "d8de32a4",
   "metadata": {
    "ExecuteTime": {
     "end_time": "2021-10-02T10:50:33.268544Z",
     "start_time": "2021-10-02T10:50:33.245936Z"
    }
   },
   "outputs": [],
   "source": [
    "#define parameters\n",
    "trial_col='event_id_int'\n",
    "pid_col='particle' \n",
    "t_col='t' \n",
    "width=200\n",
    "height=200\n",
    "tmin=100.\n",
    "printing=True\n",
    "\n",
    "#new parameters specific to radial time series filtration\n",
    "tavg2=0.\n",
    "minimum_duration_threshold=tavg2\n",
    "minimum_duration_threshold=25 #ms"
   ]
  },
  {
   "cell_type": "code",
   "execution_count": 14,
   "id": "0c46bd2c",
   "metadata": {
    "ExecuteTime": {
     "end_time": "2021-10-02T10:50:34.600541Z",
     "start_time": "2021-10-02T10:50:33.269967Z"
    },
    "run_control": {
     "marked": false
    }
   },
   "outputs": [
    {
     "name": "stdout",
     "output_type": "stream",
     "text": [
      "DT=0.5 ms\n"
     ]
    }
   ],
   "source": [
    "#recall a couple postprocessed single trials\n",
    "input_fn=f\"/home/timothytyree/Documents/GitHub/care/notebooks/Data/initial-conditions-suite-3-LR/param_qu_tmax_30_Ko_5.4_diffCoef_0.0005_dt_0.5/smoothed_trajectories_navg_8/ic002.11_traj_sr_600_mem_0_smoothed.csv\"\n",
    "# input_fn2=f\"/home/timothytyree/Documents/GitHub/care/notebooks/Data/initial-conditions-suite-3-LR/param_qu_tmax_30_Ko_5.4_diffCoef_0.0005_dt_0.5/smoothed_trajectories_navg_8/ic002.12_traj_sr_600_mem_0_smoothed.csv\"\n",
    "# input_fn_lst=[input_fn,input_fn2]\n",
    "# df=dask_cudf.read_csv(input_fn_lst).compute()\n",
    "df=cudf.read_csv(input_fn)\n",
    "df=df.sort_values([trial_col,pid_col, t_col], ascending=True).copy()\n",
    "DT=get_DT_cu(df,t_col,pid_col)\n",
    "navg2=int(tavg2/DT)\n",
    "if printing:\n",
    "    print(f\"DT={DT} ms\")"
   ]
  },
  {
   "cell_type": "code",
   "execution_count": 15,
   "id": "2424abca",
   "metadata": {
    "ExecuteTime": {
     "end_time": "2021-10-02T10:50:34.644973Z",
     "start_time": "2021-10-02T10:50:34.601783Z"
    }
   },
   "outputs": [],
   "source": [
    "#compute the intermediate dataframe of particle start/end times\n",
    "grouped=df.groupby([trial_col,pid_col])\n",
    "dft=grouped[t_col]\n",
    "dfu=cudf.DataFrame({\n",
    "    'tmin':dft.min(),\n",
    "    'tmax':dft.max(),\n",
    "})\n",
    "dfu.reset_index(inplace=True)\n",
    "# dff.head()"
   ]
  },
  {
   "cell_type": "code",
   "execution_count": 16,
   "id": "bdba781a",
   "metadata": {
    "ExecuteTime": {
     "end_time": "2021-10-02T10:50:36.257637Z",
     "start_time": "2021-10-02T10:50:34.646528Z"
    }
   },
   "outputs": [
    {
     "name": "stdout",
     "output_type": "stream",
     "text": [
      "using 1 cores to identify pairs of particles that coexist over 1 independent trials...\n"
     ]
    },
    {
     "data": {
      "text/html": [
       "<div>\n",
       "<style scoped>\n",
       "    .dataframe tbody tr th:only-of-type {\n",
       "        vertical-align: middle;\n",
       "    }\n",
       "\n",
       "    .dataframe tbody tr th {\n",
       "        vertical-align: top;\n",
       "    }\n",
       "\n",
       "    .dataframe thead th {\n",
       "        text-align: right;\n",
       "    }\n",
       "</style>\n",
       "<table border=\"1\" class=\"dataframe\">\n",
       "  <thead>\n",
       "    <tr style=\"text-align: right;\">\n",
       "      <th></th>\n",
       "      <th>pid_self</th>\n",
       "      <th>pid_other</th>\n",
       "      <th>tmin_self</th>\n",
       "      <th>tmin_other</th>\n",
       "      <th>tmax_self</th>\n",
       "      <th>tmax_other</th>\n",
       "      <th>tmin</th>\n",
       "      <th>tmax</th>\n",
       "      <th>duration</th>\n",
       "      <th>event_id_int</th>\n",
       "    </tr>\n",
       "  </thead>\n",
       "  <tbody>\n",
       "    <tr>\n",
       "      <th>0</th>\n",
       "      <td>1509</td>\n",
       "      <td>1519</td>\n",
       "      <td>3170.0</td>\n",
       "      <td>3239.5</td>\n",
       "      <td>3341.5</td>\n",
       "      <td>3341.5</td>\n",
       "      <td>3239.5</td>\n",
       "      <td>3341.5</td>\n",
       "      <td>102.0</td>\n",
       "      <td>1002116000</td>\n",
       "    </tr>\n",
       "    <tr>\n",
       "      <th>1</th>\n",
       "      <td>1509</td>\n",
       "      <td>1445</td>\n",
       "      <td>3170.0</td>\n",
       "      <td>3028.0</td>\n",
       "      <td>3341.5</td>\n",
       "      <td>3170.5</td>\n",
       "      <td>3170.0</td>\n",
       "      <td>3170.5</td>\n",
       "      <td>0.5</td>\n",
       "      <td>1002116000</td>\n",
       "    </tr>\n",
       "    <tr>\n",
       "      <th>2</th>\n",
       "      <td>1509</td>\n",
       "      <td>1538</td>\n",
       "      <td>3170.0</td>\n",
       "      <td>3317.5</td>\n",
       "      <td>3341.5</td>\n",
       "      <td>3379.5</td>\n",
       "      <td>3317.5</td>\n",
       "      <td>3341.5</td>\n",
       "      <td>24.0</td>\n",
       "      <td>1002116000</td>\n",
       "    </tr>\n",
       "    <tr>\n",
       "      <th>3</th>\n",
       "      <td>1509</td>\n",
       "      <td>1540</td>\n",
       "      <td>3170.0</td>\n",
       "      <td>3320.5</td>\n",
       "      <td>3341.5</td>\n",
       "      <td>3381.0</td>\n",
       "      <td>3320.5</td>\n",
       "      <td>3341.5</td>\n",
       "      <td>21.0</td>\n",
       "      <td>1002116000</td>\n",
       "    </tr>\n",
       "    <tr>\n",
       "      <th>4</th>\n",
       "      <td>1509</td>\n",
       "      <td>1511</td>\n",
       "      <td>3170.0</td>\n",
       "      <td>3175.5</td>\n",
       "      <td>3341.5</td>\n",
       "      <td>3274.0</td>\n",
       "      <td>3175.5</td>\n",
       "      <td>3274.0</td>\n",
       "      <td>98.5</td>\n",
       "      <td>1002116000</td>\n",
       "    </tr>\n",
       "  </tbody>\n",
       "</table>\n",
       "</div>"
      ],
      "text/plain": [
       "   pid_self  pid_other  tmin_self  tmin_other  tmax_self  tmax_other    tmin  \\\n",
       "0      1509       1519     3170.0      3239.5     3341.5      3341.5  3239.5   \n",
       "1      1509       1445     3170.0      3028.0     3341.5      3170.5  3170.0   \n",
       "2      1509       1538     3170.0      3317.5     3341.5      3379.5  3317.5   \n",
       "3      1509       1540     3170.0      3320.5     3341.5      3381.0  3320.5   \n",
       "4      1509       1511     3170.0      3175.5     3341.5      3274.0  3175.5   \n",
       "\n",
       "     tmax  duration  event_id_int  \n",
       "0  3341.5     102.0    1002116000  \n",
       "1  3170.5       0.5    1002116000  \n",
       "2  3341.5      24.0    1002116000  \n",
       "3  3341.5      21.0    1002116000  \n",
       "4  3274.0      98.5    1002116000  "
      ]
     },
     "execution_count": 16,
     "metadata": {},
     "output_type": "execute_result"
    }
   ],
   "source": [
    "df_intersecting_pairs_all=identify_all_coexisting_pairs(df=dfu.copy(),pid_col=pid_col,t_col=t_col,trial_col=trial_col)\n",
    "df_intersecting_pairs_all.head()"
   ]
  },
  {
   "cell_type": "code",
   "execution_count": 17,
   "id": "98d7d89a",
   "metadata": {
    "ExecuteTime": {
     "end_time": "2021-10-02T10:50:36.647049Z",
     "start_time": "2021-10-02T10:50:36.258580Z"
    }
   },
   "outputs": [
    {
     "name": "stdout",
     "output_type": "stream",
     "text": [
      "verified that the duration is strictly positive for all pairs of tips that coexist nontrivially\n"
     ]
    },
    {
     "data": {
      "image/png": "[encoded data removed]",
      "text/plain": [
       "<Figure size 504x288 with 1 Axes>"
      ]
     },
     "metadata": {},
     "output_type": "display_data"
    }
   ],
   "source": [
    "#test that duration is strictly positive\n",
    "assert ( (df_intersecting_pairs_all['duration']>0).all() )\n",
    "if printing:\n",
    "    print (f\"verified that the duration is strictly positive for all pairs of tips that coexist nontrivially\")\n",
    "\n",
    "#plot histogram of durations\n",
    "fontsize=20\n",
    "fig,ax=plt.subplots(figsize=(7,4))\n",
    "yv=np.linspace(0,0.02,10)\n",
    "ax.plot(minimum_duration_threshold+0.*yv,yv,'gray',lw=2, linestyle='dashed', label='threshold')\n",
    "trial_col_lst=sorted(df_intersecting_pairs_all[trial_col].drop_duplicates().values.get())\n",
    "for trial in trial_col_lst[:5]:\n",
    "    df_intersecting_pairs_all.query(f\"{trial_col} == {trial}\")['duration'].to_pandas().hist(density=True,bins=50,ax=ax,label=trial)#,color='event_id_int')\n",
    "format_plot(ax, xlabel='duration of pair coexistance (ms)', ylabel='probability density', fontsize=fontsize, use_loglog=False)\n",
    "\n",
    "ax.legend(fontsize=fontsize)\n",
    "plt.tight_layout()\n",
    "plt.show()"
   ]
  },
  {
   "cell_type": "code",
   "execution_count": 18,
   "id": "4396b6a7",
   "metadata": {
    "ExecuteTime": {
     "end_time": "2021-10-02T10:50:36.668458Z",
     "start_time": "2021-10-02T10:50:36.648304Z"
    }
   },
   "outputs": [],
   "source": [
    "#DONE: histograms sanity check df_intersecting_pairs\n",
    "#DONE: verify that routine gives different values for different event_id_int\n",
    "#DONE: wrap generation of df_intersecting_pairs into a function \n",
    "#DONE: include event_id_int outside ^that function\n",
    "#DONE: accumulate df_intersecting_pairs_all over all event_id_int_values"
   ]
  },
  {
   "cell_type": "code",
   "execution_count": 19,
   "id": "613b8ad9",
   "metadata": {
    "ExecuteTime": {
     "end_time": "2021-10-02T10:50:36.691734Z",
     "start_time": "2021-10-02T10:50:36.669698Z"
    }
   },
   "outputs": [],
   "source": [
    "#DONE: verify that no pair points to the same spiral tip twice\n",
    "assert ( not (df_intersecting_pairs_all['pid_self']==df_intersecting_pairs_all['pid_other']).any() )"
   ]
  },
  {
   "cell_type": "code",
   "execution_count": 20,
   "id": "a537a0ef",
   "metadata": {
    "ExecuteTime": {
     "end_time": "2021-10-02T10:50:36.723320Z",
     "start_time": "2021-10-02T10:50:36.692963Z"
    }
   },
   "outputs": [],
   "source": [
    "#filter by duration_threshold\n",
    "use_duration_threshold=True\n",
    "if use_duration_threshold:\n",
    "    df_pairs=df_intersecting_pairs_all[df_intersecting_pairs_all['duration']>minimum_duration_threshold]\n",
    "else:\n",
    "    df_pairs=df_intersecting_pairs_all\n",
    "#and sort\n",
    "df_pairs=df_pairs.sort_values([trial_col,'pid_self'], ascending=True).copy()"
   ]
  },
  {
   "cell_type": "code",
   "execution_count": 68,
   "id": "de7692a1",
   "metadata": {
    "ExecuteTime": {
     "end_time": "2021-10-02T11:04:50.193913Z",
     "start_time": "2021-10-02T11:04:50.139897Z"
    }
   },
   "outputs": [
    {
     "data": {
      "text/plain": [
       "8781"
      ]
     },
     "execution_count": 68,
     "metadata": {},
     "output_type": "execute_result"
    }
   ],
   "source": [
    "df_pairs['pid_self'].size"
   ]
  },
  {
   "cell_type": "code",
   "execution_count": 23,
   "id": "3b5666e5",
   "metadata": {
    "ExecuteTime": {
     "end_time": "2021-10-02T10:51:39.096845Z",
     "start_time": "2021-10-02T10:51:39.009213Z"
    }
   },
   "outputs": [
    {
     "data": {
      "text/html": [
       "<div>\n",
       "<style scoped>\n",
       "    .dataframe tbody tr th:only-of-type {\n",
       "        vertical-align: middle;\n",
       "    }\n",
       "\n",
       "    .dataframe tbody tr th {\n",
       "        vertical-align: top;\n",
       "    }\n",
       "\n",
       "    .dataframe thead th {\n",
       "        text-align: right;\n",
       "    }\n",
       "</style>\n",
       "<table border=\"1\" class=\"dataframe\">\n",
       "  <thead>\n",
       "    <tr style=\"text-align: right;\">\n",
       "      <th></th>\n",
       "      <th>event_id_int</th>\n",
       "      <th>particle</th>\n",
       "      <th>t</th>\n",
       "    </tr>\n",
       "  </thead>\n",
       "  <tbody>\n",
       "    <tr>\n",
       "      <th>0</th>\n",
       "      <td>1002116000</td>\n",
       "      <td>6</td>\n",
       "      <td>123.0</td>\n",
       "    </tr>\n",
       "    <tr>\n",
       "      <th>1</th>\n",
       "      <td>1002116000</td>\n",
       "      <td>6</td>\n",
       "      <td>123.5</td>\n",
       "    </tr>\n",
       "    <tr>\n",
       "      <th>2</th>\n",
       "      <td>1002116000</td>\n",
       "      <td>6</td>\n",
       "      <td>124.0</td>\n",
       "    </tr>\n",
       "    <tr>\n",
       "      <th>3</th>\n",
       "      <td>1002116000</td>\n",
       "      <td>6</td>\n",
       "      <td>124.5</td>\n",
       "    </tr>\n",
       "    <tr>\n",
       "      <th>4</th>\n",
       "      <td>1002116000</td>\n",
       "      <td>6</td>\n",
       "      <td>125.0</td>\n",
       "    </tr>\n",
       "    <tr>\n",
       "      <th>...</th>\n",
       "      <td>...</td>\n",
       "      <td>...</td>\n",
       "      <td>...</td>\n",
       "    </tr>\n",
       "    <tr>\n",
       "      <th>369079</th>\n",
       "      <td>1002116000</td>\n",
       "      <td>17746</td>\n",
       "      <td>29997.5</td>\n",
       "    </tr>\n",
       "    <tr>\n",
       "      <th>369080</th>\n",
       "      <td>1002116000</td>\n",
       "      <td>17746</td>\n",
       "      <td>29998.0</td>\n",
       "    </tr>\n",
       "    <tr>\n",
       "      <th>369081</th>\n",
       "      <td>1002116000</td>\n",
       "      <td>17746</td>\n",
       "      <td>29998.5</td>\n",
       "    </tr>\n",
       "    <tr>\n",
       "      <th>369082</th>\n",
       "      <td>1002116000</td>\n",
       "      <td>17746</td>\n",
       "      <td>29999.0</td>\n",
       "    </tr>\n",
       "    <tr>\n",
       "      <th>369083</th>\n",
       "      <td>1002116000</td>\n",
       "      <td>17746</td>\n",
       "      <td>29999.5</td>\n",
       "    </tr>\n",
       "  </tbody>\n",
       "</table>\n",
       "<p>369084 rows × 3 columns</p>\n",
       "</div>"
      ],
      "text/plain": [
       "        event_id_int  particle        t\n",
       "0         1002116000         6    123.0\n",
       "1         1002116000         6    123.5\n",
       "2         1002116000         6    124.0\n",
       "3         1002116000         6    124.5\n",
       "4         1002116000         6    125.0\n",
       "...              ...       ...      ...\n",
       "369079    1002116000     17746  29997.5\n",
       "369080    1002116000     17746  29998.0\n",
       "369081    1002116000     17746  29998.5\n",
       "369082    1002116000     17746  29999.0\n",
       "369083    1002116000     17746  29999.5\n",
       "\n",
       "[369084 rows x 3 columns]"
      ]
     },
     "execution_count": 23,
     "metadata": {},
     "output_type": "execute_result"
    }
   ],
   "source": [
    "# targ_index_col_lst=[trial_col,'pid_self','pid_other',t_col]\n",
    "targ_index_col_lst=[trial_col,pid_col,t_col]\n",
    "df[targ_index_col_lst]\n",
    "# df_pairs[targ_index_col_lst]"
   ]
  },
  {
   "cell_type": "code",
   "execution_count": 26,
   "id": "df697826",
   "metadata": {
    "ExecuteTime": {
     "end_time": "2021-10-02T10:53:23.732581Z",
     "start_time": "2021-10-02T10:53:23.679117Z"
    }
   },
   "outputs": [
    {
     "data": {
      "text/plain": [
       "cudf.core.dataframe.DataFrame"
      ]
     },
     "execution_count": 26,
     "metadata": {},
     "output_type": "execute_result"
    }
   ],
   "source": [
    "dfmi=df.set_index(targ_index_col_lst)\n",
    "type(dfmi)"
   ]
  },
  {
   "cell_type": "code",
   "execution_count": 103,
   "id": "78abc65b",
   "metadata": {
    "ExecuteTime": {
     "end_time": "2021-10-02T11:12:52.687483Z",
     "start_time": "2021-10-02T11:12:52.571090Z"
    }
   },
   "outputs": [
    {
     "data": {
      "text/html": [
       "<div>\n",
       "<style scoped>\n",
       "    .dataframe tbody tr th:only-of-type {\n",
       "        vertical-align: middle;\n",
       "    }\n",
       "\n",
       "    .dataframe tbody tr th {\n",
       "        vertical-align: top;\n",
       "    }\n",
       "\n",
       "    .dataframe thead th {\n",
       "        text-align: right;\n",
       "    }\n",
       "</style>\n",
       "<table border=\"1\" class=\"dataframe\">\n",
       "  <thead>\n",
       "    <tr style=\"text-align: right;\">\n",
       "      <th></th>\n",
       "      <th>pid_self</th>\n",
       "      <th>pid_other</th>\n",
       "      <th>tmin_self</th>\n",
       "      <th>tmin_other</th>\n",
       "      <th>tmax_self</th>\n",
       "      <th>tmax_other</th>\n",
       "      <th>tmin</th>\n",
       "      <th>tmax</th>\n",
       "      <th>duration</th>\n",
       "      <th>event_id_int</th>\n",
       "    </tr>\n",
       "    <tr>\n",
       "      <th>particle</th>\n",
       "      <th></th>\n",
       "      <th></th>\n",
       "      <th></th>\n",
       "      <th></th>\n",
       "      <th></th>\n",
       "      <th></th>\n",
       "      <th></th>\n",
       "      <th></th>\n",
       "      <th></th>\n",
       "      <th></th>\n",
       "    </tr>\n",
       "  </thead>\n",
       "  <tbody>\n",
       "    <tr>\n",
       "      <th>20</th>\n",
       "      <td>20</td>\n",
       "      <td>49</td>\n",
       "      <td>168.0</td>\n",
       "      <td>206.5</td>\n",
       "      <td>246.5</td>\n",
       "      <td>311.0</td>\n",
       "      <td>206.5</td>\n",
       "      <td>246.5</td>\n",
       "      <td>40.0</td>\n",
       "      <td>1002116000</td>\n",
       "    </tr>\n",
       "    <tr>\n",
       "      <th>20</th>\n",
       "      <td>20</td>\n",
       "      <td>47</td>\n",
       "      <td>168.0</td>\n",
       "      <td>190.0</td>\n",
       "      <td>246.5</td>\n",
       "      <td>260.5</td>\n",
       "      <td>190.0</td>\n",
       "      <td>246.5</td>\n",
       "      <td>56.5</td>\n",
       "      <td>1002116000</td>\n",
       "    </tr>\n",
       "    <tr>\n",
       "      <th>20</th>\n",
       "      <td>20</td>\n",
       "      <td>46</td>\n",
       "      <td>168.0</td>\n",
       "      <td>190.0</td>\n",
       "      <td>246.5</td>\n",
       "      <td>367.0</td>\n",
       "      <td>190.0</td>\n",
       "      <td>246.5</td>\n",
       "      <td>56.5</td>\n",
       "      <td>1002116000</td>\n",
       "    </tr>\n",
       "    <tr>\n",
       "      <th>20</th>\n",
       "      <td>20</td>\n",
       "      <td>53</td>\n",
       "      <td>168.0</td>\n",
       "      <td>207.0</td>\n",
       "      <td>246.5</td>\n",
       "      <td>345.5</td>\n",
       "      <td>207.0</td>\n",
       "      <td>246.5</td>\n",
       "      <td>39.5</td>\n",
       "      <td>1002116000</td>\n",
       "    </tr>\n",
       "    <tr>\n",
       "      <th>20</th>\n",
       "      <td>20</td>\n",
       "      <td>25</td>\n",
       "      <td>168.0</td>\n",
       "      <td>172.0</td>\n",
       "      <td>246.5</td>\n",
       "      <td>373.5</td>\n",
       "      <td>172.0</td>\n",
       "      <td>246.5</td>\n",
       "      <td>74.5</td>\n",
       "      <td>1002116000</td>\n",
       "    </tr>\n",
       "    <tr>\n",
       "      <th>...</th>\n",
       "      <td>...</td>\n",
       "      <td>...</td>\n",
       "      <td>...</td>\n",
       "      <td>...</td>\n",
       "      <td>...</td>\n",
       "      <td>...</td>\n",
       "      <td>...</td>\n",
       "      <td>...</td>\n",
       "      <td>...</td>\n",
       "      <td>...</td>\n",
       "    </tr>\n",
       "    <tr>\n",
       "      <th>17701</th>\n",
       "      <td>17701</td>\n",
       "      <td>17690</td>\n",
       "      <td>29904.0</td>\n",
       "      <td>29880.5</td>\n",
       "      <td>29999.5</td>\n",
       "      <td>29936.5</td>\n",
       "      <td>29904.0</td>\n",
       "      <td>29936.5</td>\n",
       "      <td>32.5</td>\n",
       "      <td>1002116000</td>\n",
       "    </tr>\n",
       "    <tr>\n",
       "      <th>17701</th>\n",
       "      <td>17701</td>\n",
       "      <td>17673</td>\n",
       "      <td>29904.0</td>\n",
       "      <td>29840.5</td>\n",
       "      <td>29999.5</td>\n",
       "      <td>29944.5</td>\n",
       "      <td>29904.0</td>\n",
       "      <td>29944.5</td>\n",
       "      <td>40.5</td>\n",
       "      <td>1002116000</td>\n",
       "    </tr>\n",
       "    <tr>\n",
       "      <th>17701</th>\n",
       "      <td>17701</td>\n",
       "      <td>17715</td>\n",
       "      <td>29904.0</td>\n",
       "      <td>29912.5</td>\n",
       "      <td>29999.5</td>\n",
       "      <td>29999.5</td>\n",
       "      <td>29912.5</td>\n",
       "      <td>29999.5</td>\n",
       "      <td>87.0</td>\n",
       "      <td>1002116000</td>\n",
       "    </tr>\n",
       "    <tr>\n",
       "      <th>17701</th>\n",
       "      <td>17701</td>\n",
       "      <td>17746</td>\n",
       "      <td>29904.0</td>\n",
       "      <td>29948.5</td>\n",
       "      <td>29999.5</td>\n",
       "      <td>29999.5</td>\n",
       "      <td>29948.5</td>\n",
       "      <td>29999.5</td>\n",
       "      <td>51.0</td>\n",
       "      <td>1002116000</td>\n",
       "    </tr>\n",
       "    <tr>\n",
       "      <th>17715</th>\n",
       "      <td>17715</td>\n",
       "      <td>17746</td>\n",
       "      <td>29912.5</td>\n",
       "      <td>29948.5</td>\n",
       "      <td>29999.5</td>\n",
       "      <td>29999.5</td>\n",
       "      <td>29948.5</td>\n",
       "      <td>29999.5</td>\n",
       "      <td>51.0</td>\n",
       "      <td>1002116000</td>\n",
       "    </tr>\n",
       "  </tbody>\n",
       "</table>\n",
       "<p>8781 rows × 10 columns</p>\n",
       "</div>"
      ],
      "text/plain": [
       "          pid_self  pid_other  tmin_self  tmin_other  tmax_self  tmax_other  \\\n",
       "particle                                                                      \n",
       "20              20         49      168.0       206.5      246.5       311.0   \n",
       "20              20         47      168.0       190.0      246.5       260.5   \n",
       "20              20         46      168.0       190.0      246.5       367.0   \n",
       "20              20         53      168.0       207.0      246.5       345.5   \n",
       "20              20         25      168.0       172.0      246.5       373.5   \n",
       "...            ...        ...        ...         ...        ...         ...   \n",
       "17701        17701      17690    29904.0     29880.5    29999.5     29936.5   \n",
       "17701        17701      17673    29904.0     29840.5    29999.5     29944.5   \n",
       "17701        17701      17715    29904.0     29912.5    29999.5     29999.5   \n",
       "17701        17701      17746    29904.0     29948.5    29999.5     29999.5   \n",
       "17715        17715      17746    29912.5     29948.5    29999.5     29999.5   \n",
       "\n",
       "             tmin     tmax  duration  event_id_int  \n",
       "particle                                            \n",
       "20          206.5    246.5      40.0    1002116000  \n",
       "20          190.0    246.5      56.5    1002116000  \n",
       "20          190.0    246.5      56.5    1002116000  \n",
       "20          207.0    246.5      39.5    1002116000  \n",
       "20          172.0    246.5      74.5    1002116000  \n",
       "...           ...      ...       ...           ...  \n",
       "17701     29904.0  29936.5      32.5    1002116000  \n",
       "17701     29904.0  29944.5      40.5    1002116000  \n",
       "17701     29912.5  29999.5      87.0    1002116000  \n",
       "17701     29948.5  29999.5      51.0    1002116000  \n",
       "17715     29948.5  29999.5      51.0    1002116000  \n",
       "\n",
       "[8781 rows x 10 columns]"
      ]
     },
     "execution_count": 103,
     "metadata": {},
     "output_type": "execute_result"
    }
   ],
   "source": [
    "dfmi.index[0]\n",
    "dmis"
   ]
  },
  {
   "cell_type": "code",
   "execution_count": 117,
   "id": "d824377c",
   "metadata": {
    "ExecuteTime": {
     "end_time": "2021-10-02T11:22:48.903957Z",
     "start_time": "2021-10-02T11:22:48.667875Z"
    }
   },
   "outputs": [
    {
     "data": {
      "text/html": [
       "<div>\n",
       "<style scoped>\n",
       "    .dataframe tbody tr th:only-of-type {\n",
       "        vertical-align: middle;\n",
       "    }\n",
       "\n",
       "    .dataframe tbody tr th {\n",
       "        vertical-align: top;\n",
       "    }\n",
       "\n",
       "    .dataframe thead th {\n",
       "        text-align: right;\n",
       "    }\n",
       "</style>\n",
       "<table border=\"1\" class=\"dataframe\">\n",
       "  <thead>\n",
       "    <tr style=\"text-align: right;\">\n",
       "      <th></th>\n",
       "      <th>pid_self</th>\n",
       "      <th>index</th>\n",
       "      <th>x</th>\n",
       "      <th>y</th>\n",
       "      <th>t</th>\n",
       "      <th>event_id_int</th>\n",
       "      <th>dx_unwrap</th>\n",
       "      <th>dy_unwrap</th>\n",
       "      <th>pid_other</th>\n",
       "      <th>x_other</th>\n",
       "      <th>y_other</th>\n",
       "    </tr>\n",
       "  </thead>\n",
       "  <tbody>\n",
       "    <tr>\n",
       "      <th>0</th>\n",
       "      <td>20</td>\n",
       "      <td>1368</td>\n",
       "      <td>35.771590</td>\n",
       "      <td>196.579421</td>\n",
       "      <td>218.5</td>\n",
       "      <td>1002116000</td>\n",
       "      <td>0.0</td>\n",
       "      <td>0.0</td>\n",
       "      <td>49</td>\n",
       "      <td>182.144932</td>\n",
       "      <td>129.010885</td>\n",
       "    </tr>\n",
       "    <tr>\n",
       "      <th>1</th>\n",
       "      <td>20</td>\n",
       "      <td>1377</td>\n",
       "      <td>35.836662</td>\n",
       "      <td>196.529905</td>\n",
       "      <td>219.0</td>\n",
       "      <td>1002116000</td>\n",
       "      <td>0.0</td>\n",
       "      <td>0.0</td>\n",
       "      <td>49</td>\n",
       "      <td>182.121084</td>\n",
       "      <td>129.095157</td>\n",
       "    </tr>\n",
       "    <tr>\n",
       "      <th>2</th>\n",
       "      <td>20</td>\n",
       "      <td>1380</td>\n",
       "      <td>35.891611</td>\n",
       "      <td>196.431926</td>\n",
       "      <td>219.5</td>\n",
       "      <td>1002116000</td>\n",
       "      <td>0.0</td>\n",
       "      <td>0.0</td>\n",
       "      <td>49</td>\n",
       "      <td>182.385496</td>\n",
       "      <td>128.779511</td>\n",
       "    </tr>\n",
       "    <tr>\n",
       "      <th>3</th>\n",
       "      <td>20</td>\n",
       "      <td>1398</td>\n",
       "      <td>35.747419</td>\n",
       "      <td>197.018997</td>\n",
       "      <td>220.0</td>\n",
       "      <td>1002116000</td>\n",
       "      <td>0.0</td>\n",
       "      <td>0.0</td>\n",
       "      <td>49</td>\n",
       "      <td>182.632531</td>\n",
       "      <td>128.542276</td>\n",
       "    </tr>\n",
       "    <tr>\n",
       "      <th>4</th>\n",
       "      <td>20</td>\n",
       "      <td>1408</td>\n",
       "      <td>35.307198</td>\n",
       "      <td>197.480187</td>\n",
       "      <td>220.5</td>\n",
       "      <td>1002116000</td>\n",
       "      <td>0.0</td>\n",
       "      <td>0.0</td>\n",
       "      <td>49</td>\n",
       "      <td>182.701512</td>\n",
       "      <td>128.515123</td>\n",
       "    </tr>\n",
       "  </tbody>\n",
       "</table>\n",
       "</div>"
      ],
      "text/plain": [
       "   pid_self  index          x           y      t  event_id_int  dx_unwrap  \\\n",
       "0        20   1368  35.771590  196.579421  218.5    1002116000        0.0   \n",
       "1        20   1377  35.836662  196.529905  219.0    1002116000        0.0   \n",
       "2        20   1380  35.891611  196.431926  219.5    1002116000        0.0   \n",
       "3        20   1398  35.747419  197.018997  220.0    1002116000        0.0   \n",
       "4        20   1408  35.307198  197.480187  220.5    1002116000        0.0   \n",
       "\n",
       "   dy_unwrap  pid_other     x_other     y_other  \n",
       "0        0.0         49  182.144932  129.010885  \n",
       "1        0.0         49  182.121084  129.095157  \n",
       "2        0.0         49  182.385496  128.779511  \n",
       "3        0.0         49  182.632531  128.542276  \n",
       "4        0.0         49  182.701512  128.515123  "
      ]
     },
     "execution_count": 117,
     "metadata": {},
     "output_type": "execute_result"
    }
   ],
   "source": [
    "#SUPPOSING THERE IS ONLY ONE EVENT_ID_INT PRESENT\n",
    "# list(zip(targ_index_col_lst,targ_index_col_lst\n",
    "# dmis=df_pairs.set_index([trial_col,pid_col])\n",
    "# dmit=df.set_index([trial_col,pid_col])\n",
    "\n",
    "df_pairs[pid_col]=df_pairs['pid_self']\n",
    "dmis=df_pairs.set_index(pid_col)\n",
    "dmit=df.set_index(pid_col)\n",
    "df_traj=dmit.loc[dmis.index.values].copy().reset_index()\n",
    "df_traj.rename(columns={pid_col:'pid_self'},inplace=True)\n",
    "\n",
    "\n",
    "df_pairs[pid_col]=df_pairs['pid_other']\n",
    "dmis=df_pairs.set_index(pid_col)\n",
    "dmit=df.set_index(pid_col)\n",
    "df_traj_other=dmit.loc[dmis.index.values].copy().reset_index()\n",
    "df_traj_other.rename(columns={pid_col:'pid_other','x':'x_other','y':'y_other'},inplace=True)\n",
    "df_traj_other.head()\n",
    "\n",
    "df_traj['pid_other']=df_traj_other['pid_other']\n",
    "df_traj['x_other']=df_traj_other['x_other']\n",
    "df_traj['y_other']=df_traj_other['y_other']\n",
    "df_traj.head()"
   ]
  },
  {
   "cell_type": "code",
   "execution_count": 118,
   "id": "2208e45f",
   "metadata": {
    "ExecuteTime": {
     "end_time": "2021-10-02T11:23:32.970348Z",
     "start_time": "2021-10-02T11:23:32.848005Z"
    }
   },
   "outputs": [
    {
     "data": {
      "text/html": [
       "<div>\n",
       "<style scoped>\n",
       "    .dataframe tbody tr th:only-of-type {\n",
       "        vertical-align: middle;\n",
       "    }\n",
       "\n",
       "    .dataframe tbody tr th {\n",
       "        vertical-align: top;\n",
       "    }\n",
       "\n",
       "    .dataframe thead th {\n",
       "        text-align: right;\n",
       "    }\n",
       "</style>\n",
       "<table border=\"1\" class=\"dataframe\">\n",
       "  <thead>\n",
       "    <tr style=\"text-align: right;\">\n",
       "      <th></th>\n",
       "      <th>pid_self</th>\n",
       "      <th>index</th>\n",
       "      <th>x</th>\n",
       "      <th>y</th>\n",
       "      <th>t</th>\n",
       "      <th>event_id_int</th>\n",
       "      <th>dx_unwrap</th>\n",
       "      <th>dy_unwrap</th>\n",
       "      <th>pid_other</th>\n",
       "      <th>x_other</th>\n",
       "      <th>y_other</th>\n",
       "    </tr>\n",
       "  </thead>\n",
       "  <tbody>\n",
       "    <tr>\n",
       "      <th>0</th>\n",
       "      <td>20</td>\n",
       "      <td>1368</td>\n",
       "      <td>35.771590</td>\n",
       "      <td>196.579421</td>\n",
       "      <td>218.5</td>\n",
       "      <td>1002116000</td>\n",
       "      <td>0.0</td>\n",
       "      <td>0.0</td>\n",
       "      <td>49</td>\n",
       "      <td>182.1449325</td>\n",
       "      <td>129.0108855</td>\n",
       "    </tr>\n",
       "    <tr>\n",
       "      <th>1</th>\n",
       "      <td>20</td>\n",
       "      <td>1377</td>\n",
       "      <td>35.836662</td>\n",
       "      <td>196.529905</td>\n",
       "      <td>219.0</td>\n",
       "      <td>1002116000</td>\n",
       "      <td>0.0</td>\n",
       "      <td>0.0</td>\n",
       "      <td>49</td>\n",
       "      <td>182.1210837</td>\n",
       "      <td>129.095157</td>\n",
       "    </tr>\n",
       "    <tr>\n",
       "      <th>2</th>\n",
       "      <td>20</td>\n",
       "      <td>1380</td>\n",
       "      <td>35.891611</td>\n",
       "      <td>196.431926</td>\n",
       "      <td>219.5</td>\n",
       "      <td>1002116000</td>\n",
       "      <td>0.0</td>\n",
       "      <td>0.0</td>\n",
       "      <td>49</td>\n",
       "      <td>182.3854958</td>\n",
       "      <td>128.7795106</td>\n",
       "    </tr>\n",
       "    <tr>\n",
       "      <th>3</th>\n",
       "      <td>20</td>\n",
       "      <td>1398</td>\n",
       "      <td>35.747419</td>\n",
       "      <td>197.018997</td>\n",
       "      <td>220.0</td>\n",
       "      <td>1002116000</td>\n",
       "      <td>0.0</td>\n",
       "      <td>0.0</td>\n",
       "      <td>49</td>\n",
       "      <td>182.6325306</td>\n",
       "      <td>128.5422762</td>\n",
       "    </tr>\n",
       "    <tr>\n",
       "      <th>4</th>\n",
       "      <td>20</td>\n",
       "      <td>1408</td>\n",
       "      <td>35.307198</td>\n",
       "      <td>197.480187</td>\n",
       "      <td>220.5</td>\n",
       "      <td>1002116000</td>\n",
       "      <td>0.0</td>\n",
       "      <td>0.0</td>\n",
       "      <td>49</td>\n",
       "      <td>182.7015125</td>\n",
       "      <td>128.5151227</td>\n",
       "    </tr>\n",
       "    <tr>\n",
       "      <th>...</th>\n",
       "      <td>...</td>\n",
       "      <td>...</td>\n",
       "      <td>...</td>\n",
       "      <td>...</td>\n",
       "      <td>...</td>\n",
       "      <td>...</td>\n",
       "      <td>...</td>\n",
       "      <td>...</td>\n",
       "      <td>...</td>\n",
       "      <td>...</td>\n",
       "      <td>...</td>\n",
       "    </tr>\n",
       "    <tr>\n",
       "      <th>2074596</th>\n",
       "      <td>17715</td>\n",
       "      <td>561658</td>\n",
       "      <td>16.683256</td>\n",
       "      <td>195.409397</td>\n",
       "      <td>29923.0</td>\n",
       "      <td>1002116000</td>\n",
       "      <td>0.0</td>\n",
       "      <td>0.0</td>\n",
       "      <td>&lt;NA&gt;</td>\n",
       "      <td>&lt;NA&gt;</td>\n",
       "      <td>&lt;NA&gt;</td>\n",
       "    </tr>\n",
       "    <tr>\n",
       "      <th>2074597</th>\n",
       "      <td>17715</td>\n",
       "      <td>561666</td>\n",
       "      <td>16.744251</td>\n",
       "      <td>195.431649</td>\n",
       "      <td>29923.5</td>\n",
       "      <td>1002116000</td>\n",
       "      <td>0.0</td>\n",
       "      <td>0.0</td>\n",
       "      <td>&lt;NA&gt;</td>\n",
       "      <td>&lt;NA&gt;</td>\n",
       "      <td>&lt;NA&gt;</td>\n",
       "    </tr>\n",
       "    <tr>\n",
       "      <th>2074598</th>\n",
       "      <td>17715</td>\n",
       "      <td>561684</td>\n",
       "      <td>16.533054</td>\n",
       "      <td>195.267053</td>\n",
       "      <td>29924.0</td>\n",
       "      <td>1002116000</td>\n",
       "      <td>0.0</td>\n",
       "      <td>0.0</td>\n",
       "      <td>&lt;NA&gt;</td>\n",
       "      <td>&lt;NA&gt;</td>\n",
       "      <td>&lt;NA&gt;</td>\n",
       "    </tr>\n",
       "    <tr>\n",
       "      <th>2074599</th>\n",
       "      <td>17715</td>\n",
       "      <td>561694</td>\n",
       "      <td>16.508326</td>\n",
       "      <td>195.242282</td>\n",
       "      <td>29924.5</td>\n",
       "      <td>1002116000</td>\n",
       "      <td>0.0</td>\n",
       "      <td>0.0</td>\n",
       "      <td>&lt;NA&gt;</td>\n",
       "      <td>&lt;NA&gt;</td>\n",
       "      <td>&lt;NA&gt;</td>\n",
       "    </tr>\n",
       "    <tr>\n",
       "      <th>2074600</th>\n",
       "      <td>17715</td>\n",
       "      <td>561704</td>\n",
       "      <td>16.453281</td>\n",
       "      <td>195.185816</td>\n",
       "      <td>29925.0</td>\n",
       "      <td>1002116000</td>\n",
       "      <td>0.0</td>\n",
       "      <td>0.0</td>\n",
       "      <td>&lt;NA&gt;</td>\n",
       "      <td>&lt;NA&gt;</td>\n",
       "      <td>&lt;NA&gt;</td>\n",
       "    </tr>\n",
       "  </tbody>\n",
       "</table>\n",
       "<p>2074601 rows × 11 columns</p>\n",
       "</div>"
      ],
      "text/plain": [
       "         pid_self   index          x           y        t  event_id_int  \\\n",
       "0              20    1368  35.771590  196.579421    218.5    1002116000   \n",
       "1              20    1377  35.836662  196.529905    219.0    1002116000   \n",
       "2              20    1380  35.891611  196.431926    219.5    1002116000   \n",
       "3              20    1398  35.747419  197.018997    220.0    1002116000   \n",
       "4              20    1408  35.307198  197.480187    220.5    1002116000   \n",
       "...           ...     ...        ...         ...      ...           ...   \n",
       "2074596     17715  561658  16.683256  195.409397  29923.0    1002116000   \n",
       "2074597     17715  561666  16.744251  195.431649  29923.5    1002116000   \n",
       "2074598     17715  561684  16.533054  195.267053  29924.0    1002116000   \n",
       "2074599     17715  561694  16.508326  195.242282  29924.5    1002116000   \n",
       "2074600     17715  561704  16.453281  195.185816  29925.0    1002116000   \n",
       "\n",
       "         dx_unwrap  dy_unwrap pid_other      x_other      y_other  \n",
       "0              0.0        0.0        49  182.1449325  129.0108855  \n",
       "1              0.0        0.0        49  182.1210837   129.095157  \n",
       "2              0.0        0.0        49  182.3854958  128.7795106  \n",
       "3              0.0        0.0        49  182.6325306  128.5422762  \n",
       "4              0.0        0.0        49  182.7015125  128.5151227  \n",
       "...            ...        ...       ...          ...          ...  \n",
       "2074596        0.0        0.0      <NA>         <NA>         <NA>  \n",
       "2074597        0.0        0.0      <NA>         <NA>         <NA>  \n",
       "2074598        0.0        0.0      <NA>         <NA>         <NA>  \n",
       "2074599        0.0        0.0      <NA>         <NA>         <NA>  \n",
       "2074600        0.0        0.0      <NA>         <NA>         <NA>  \n",
       "\n",
       "[2074601 rows x 11 columns]"
      ]
     },
     "execution_count": 118,
     "metadata": {},
     "output_type": "execute_result"
    }
   ],
   "source": [
    "df_traj"
   ]
  },
  {
   "cell_type": "code",
   "execution_count": 124,
   "id": "a429060f",
   "metadata": {
    "ExecuteTime": {
     "end_time": "2021-10-02T11:30:06.127627Z",
     "start_time": "2021-10-02T11:30:05.938194Z"
    }
   },
   "outputs": [
    {
     "data": {
      "text/html": [
       "<div>\n",
       "<style scoped>\n",
       "    .dataframe tbody tr th:only-of-type {\n",
       "        vertical-align: middle;\n",
       "    }\n",
       "\n",
       "    .dataframe tbody tr th {\n",
       "        vertical-align: top;\n",
       "    }\n",
       "\n",
       "    .dataframe thead th {\n",
       "        text-align: right;\n",
       "    }\n",
       "</style>\n",
       "<table border=\"1\" class=\"dataframe\">\n",
       "  <thead>\n",
       "    <tr style=\"text-align: right;\">\n",
       "      <th></th>\n",
       "      <th>pid_self</th>\n",
       "      <th>index</th>\n",
       "      <th>x</th>\n",
       "      <th>y</th>\n",
       "      <th>t</th>\n",
       "      <th>event_id_int</th>\n",
       "      <th>dx_unwrap</th>\n",
       "      <th>dy_unwrap</th>\n",
       "      <th>pid_other</th>\n",
       "      <th>x_other</th>\n",
       "      <th>...</th>\n",
       "      <th>sdx</th>\n",
       "      <th>sdxp</th>\n",
       "      <th>sdxm</th>\n",
       "      <th>sdy</th>\n",
       "      <th>sdyp</th>\n",
       "      <th>sdym</th>\n",
       "      <th>minsdy</th>\n",
       "      <th>minsdx</th>\n",
       "      <th>dist</th>\n",
       "      <th>R</th>\n",
       "    </tr>\n",
       "  </thead>\n",
       "  <tbody>\n",
       "    <tr>\n",
       "      <th>0</th>\n",
       "      <td>20</td>\n",
       "      <td>1368</td>\n",
       "      <td>35.771590</td>\n",
       "      <td>196.579421</td>\n",
       "      <td>218.5</td>\n",
       "      <td>1002116000</td>\n",
       "      <td>0.0</td>\n",
       "      <td>0.0</td>\n",
       "      <td>49</td>\n",
       "      <td>182.144932</td>\n",
       "      <td>...</td>\n",
       "      <td>21425.155494</td>\n",
       "      <td>2875.818358</td>\n",
       "      <td>119974.492630</td>\n",
       "      <td>4565.507057</td>\n",
       "      <td>71592.921457</td>\n",
       "      <td>17538.092657</td>\n",
       "      <td>4565.506836</td>\n",
       "      <td>2875.818359</td>\n",
       "      <td>86.263115</td>\n",
       "      <td>86.263115</td>\n",
       "    </tr>\n",
       "    <tr>\n",
       "      <th>1</th>\n",
       "      <td>20</td>\n",
       "      <td>1377</td>\n",
       "      <td>35.836662</td>\n",
       "      <td>196.529905</td>\n",
       "      <td>219.0</td>\n",
       "      <td>1002116000</td>\n",
       "      <td>0.0</td>\n",
       "      <td>0.0</td>\n",
       "      <td>49</td>\n",
       "      <td>182.121084</td>\n",
       "      <td>...</td>\n",
       "      <td>21399.131900</td>\n",
       "      <td>2885.363400</td>\n",
       "      <td>119912.900400</td>\n",
       "      <td>4547.445224</td>\n",
       "      <td>71521.344384</td>\n",
       "      <td>17573.546064</td>\n",
       "      <td>4547.445312</td>\n",
       "      <td>2885.363281</td>\n",
       "      <td>86.213737</td>\n",
       "      <td>86.213737</td>\n",
       "    </tr>\n",
       "    <tr>\n",
       "      <th>2</th>\n",
       "      <td>20</td>\n",
       "      <td>1380</td>\n",
       "      <td>35.891611</td>\n",
       "      <td>196.431926</td>\n",
       "      <td>219.5</td>\n",
       "      <td>1002116000</td>\n",
       "      <td>0.0</td>\n",
       "      <td>0.0</td>\n",
       "      <td>49</td>\n",
       "      <td>182.385496</td>\n",
       "      <td>...</td>\n",
       "      <td>21460.458202</td>\n",
       "      <td>2862.904394</td>\n",
       "      <td>120058.012010</td>\n",
       "      <td>4576.849337</td>\n",
       "      <td>71637.815577</td>\n",
       "      <td>17515.883097</td>\n",
       "      <td>4576.849121</td>\n",
       "      <td>2862.904297</td>\n",
       "      <td>86.254005</td>\n",
       "      <td>86.254005</td>\n",
       "    </tr>\n",
       "    <tr>\n",
       "      <th>3</th>\n",
       "      <td>20</td>\n",
       "      <td>1398</td>\n",
       "      <td>35.747419</td>\n",
       "      <td>197.018997</td>\n",
       "      <td>220.0</td>\n",
       "      <td>1002116000</td>\n",
       "      <td>0.0</td>\n",
       "      <td>0.0</td>\n",
       "      <td>49</td>\n",
       "      <td>182.632531</td>\n",
       "      <td>...</td>\n",
       "      <td>21575.236060</td>\n",
       "      <td>2821.191352</td>\n",
       "      <td>120329.280768</td>\n",
       "      <td>4689.061346</td>\n",
       "      <td>72079.749826</td>\n",
       "      <td>17298.372866</td>\n",
       "      <td>4689.061523</td>\n",
       "      <td>2821.191406</td>\n",
       "      <td>86.661713</td>\n",
       "      <td>86.661713</td>\n",
       "    </tr>\n",
       "    <tr>\n",
       "      <th>4</th>\n",
       "      <td>20</td>\n",
       "      <td>1408</td>\n",
       "      <td>35.307198</td>\n",
       "      <td>197.480187</td>\n",
       "      <td>220.5</td>\n",
       "      <td>1002116000</td>\n",
       "      <td>0.0</td>\n",
       "      <td>0.0</td>\n",
       "      <td>49</td>\n",
       "      <td>182.701512</td>\n",
       "      <td>...</td>\n",
       "      <td>21725.084006</td>\n",
       "      <td>2767.358126</td>\n",
       "      <td>120682.809886</td>\n",
       "      <td>4756.180108</td>\n",
       "      <td>72342.205868</td>\n",
       "      <td>17170.154348</td>\n",
       "      <td>4756.180176</td>\n",
       "      <td>2767.358154</td>\n",
       "      <td>86.738335</td>\n",
       "      <td>86.738335</td>\n",
       "    </tr>\n",
       "  </tbody>\n",
       "</table>\n",
       "<p>5 rows × 21 columns</p>\n",
       "</div>"
      ],
      "text/plain": [
       "   pid_self  index          x           y      t  event_id_int  dx_unwrap  \\\n",
       "0        20   1368  35.771590  196.579421  218.5    1002116000        0.0   \n",
       "1        20   1377  35.836662  196.529905  219.0    1002116000        0.0   \n",
       "2        20   1380  35.891611  196.431926  219.5    1002116000        0.0   \n",
       "3        20   1398  35.747419  197.018997  220.0    1002116000        0.0   \n",
       "4        20   1408  35.307198  197.480187  220.5    1002116000        0.0   \n",
       "\n",
       "   dy_unwrap  pid_other     x_other  ...           sdx         sdxp  \\\n",
       "0        0.0         49  182.144932  ...  21425.155494  2875.818358   \n",
       "1        0.0         49  182.121084  ...  21399.131900  2885.363400   \n",
       "2        0.0         49  182.385496  ...  21460.458202  2862.904394   \n",
       "3        0.0         49  182.632531  ...  21575.236060  2821.191352   \n",
       "4        0.0         49  182.701512  ...  21725.084006  2767.358126   \n",
       "\n",
       "            sdxm          sdy          sdyp          sdym       minsdy  \\\n",
       "0  119974.492630  4565.507057  71592.921457  17538.092657  4565.506836   \n",
       "1  119912.900400  4547.445224  71521.344384  17573.546064  4547.445312   \n",
       "2  120058.012010  4576.849337  71637.815577  17515.883097  4576.849121   \n",
       "3  120329.280768  4689.061346  72079.749826  17298.372866  4689.061523   \n",
       "4  120682.809886  4756.180108  72342.205868  17170.154348  4756.180176   \n",
       "\n",
       "        minsdx       dist          R  \n",
       "0  2875.818359  86.263115  86.263115  \n",
       "1  2885.363281  86.213737  86.213737  \n",
       "2  2862.904297  86.254005  86.254005  \n",
       "3  2821.191406  86.661713  86.661713  \n",
       "4  2767.358154  86.738335  86.738335  \n",
       "\n",
       "[5 rows x 21 columns]"
      ]
     },
     "execution_count": 124,
     "metadata": {},
     "output_type": "execute_result"
    }
   ],
   "source": [
    "#DONE: compute the three options for the square distance with pbc\n",
    "d=df_traj\n",
    "d['sdx']=(d['x']-d['x_other'])**2\n",
    "d['sdxp']=(d['x']-d['x_other']+width)**2\n",
    "d['sdxm']=(d['x']-d['x_other']-width)**2\n",
    "d['sdy']=(d['y']-d['y_other'])**2\n",
    "d['sdyp']=(d['y']-d['y_other']+height)**2\n",
    "d['sdym']=(d['y']-d['y_other']-height)**2\n",
    "d['minsdx']=d[['sdx','sdxp','sdxm']].min(axis=1)\n",
    "d['minsdy']=d[['sdy','sdyp','sdym']].min(axis=1)\n",
    "d['dist']=(d['minsdx'] + d['minsdy'])**0.5\n",
    "d['R']=d['dist']\n",
    "df_traj.head()"
   ]
  },
  {
   "cell_type": "code",
   "execution_count": 127,
   "id": "3904748f",
   "metadata": {
    "ExecuteTime": {
     "end_time": "2021-10-02T11:31:48.600914Z",
     "start_time": "2021-10-02T11:31:48.559459Z"
    }
   },
   "outputs": [],
   "source": [
    "#isolate only the desired columns\n",
    "df_R=df_traj[[trial_col,'pid_self','pid_other',t_col,'R']].dropna()"
   ]
  },
  {
   "cell_type": "code",
   "execution_count": 137,
   "id": "ac62bfef",
   "metadata": {
    "ExecuteTime": {
     "end_time": "2021-10-02T11:35:59.554183Z",
     "start_time": "2021-10-02T11:35:59.447077Z"
    }
   },
   "outputs": [],
   "source": [
    "#TODO: compute 1/R and dRdt_naive\n",
    "#take the navg2=2 moving average to get the naive midpoint\n",
    "grouped=df_R.groupby([trial_col,'pid_self','pid_other'])\n",
    "df_Rt_avg=grouped.rolling(2).mean()\n",
    "# df_R.set_index([trial_col,'pid_self','pid_other'])['R'].diff().isna().sum()"
   ]
  },
  {
   "cell_type": "code",
   "execution_count": null,
   "id": "640ec1fc",
   "metadata": {},
   "outputs": [],
   "source": [
    "def diff_cu(incol,outcol):\n",
    "    pass\n",
    "#TODO(heretim):compute the difference between two successive R values for each group\n",
    "#HINT: find that previous implementation where user defined functions were used in cudf\n",
    "#HINT: google cudf user defined functions"
   ]
  },
  {
   "cell_type": "code",
   "execution_count": 139,
   "id": "4d23e4a4",
   "metadata": {
    "ExecuteTime": {
     "end_time": "2021-10-02T11:36:52.930121Z",
     "start_time": "2021-10-02T11:36:50.832637Z"
    }
   },
   "outputs": [
    {
     "ename": "TypeError",
     "evalue": "unsupported operand type(s) for -: 'Series' and 'SeriesGroupBy'",
     "output_type": "error",
     "traceback": [
      "\u001b[0;31m---------------------------------------------------------------------------\u001b[0m",
      "\u001b[0;31mTypeError\u001b[0m                                 Traceback (most recent call last)",
      "\u001b[0;32m/tmp/ipykernel_12489/3928527795.py\u001b[0m in \u001b[0;36m<module>\u001b[0;34m\u001b[0m\n\u001b[0;32m----> 1\u001b[0;31m \u001b[0mgrouped\u001b[0m\u001b[0;34m.\u001b[0m\u001b[0mshift\u001b[0m\u001b[0;34m(\u001b[0m\u001b[0;36m1\u001b[0m\u001b[0;34m)\u001b[0m\u001b[0;34m[\u001b[0m\u001b[0mt_col\u001b[0m\u001b[0;34m]\u001b[0m\u001b[0;34m-\u001b[0m\u001b[0mgrouped\u001b[0m\u001b[0;34m[\u001b[0m\u001b[0mt_col\u001b[0m\u001b[0;34m]\u001b[0m\u001b[0;34m\u001b[0m\u001b[0;34m\u001b[0m\u001b[0m\n\u001b[0m",
      "\u001b[0;31mTypeError\u001b[0m: unsupported operand type(s) for -: 'Series' and 'SeriesGroupBy'"
     ]
    }
   ],
   "source": [
    "# grouped.shift(1)[t_col]-grouped[t_col]\n",
    "grouped.apply_grouped(diff_cu,incol='t',outcol='dt')"
   ]
  },
  {
   "cell_type": "code",
   "execution_count": 67,
   "id": "14ff037f",
   "metadata": {
    "ExecuteTime": {
     "end_time": "2021-10-02T11:03:57.999630Z",
     "start_time": "2021-10-02T11:03:57.967685Z"
    }
   },
   "outputs": [
    {
     "data": {
      "text/plain": [
       "(8781,)"
      ]
     },
     "execution_count": 67,
     "metadata": {},
     "output_type": "execute_result"
    }
   ],
   "source": [
    "# # dmis.to_pandas().index\n",
    "# dmis.to_pandas().index.values.T\n",
    "# dmis.to_pandas().index.values.T.shape"
   ]
  },
  {
   "cell_type": "code",
   "execution_count": 79,
   "id": "0356b4a9",
   "metadata": {
    "ExecuteTime": {
     "end_time": "2021-10-02T11:07:20.705680Z",
     "start_time": "2021-10-02T11:07:20.660046Z"
    }
   },
   "outputs": [],
   "source": [
    "# targ_index=dmis.to_pandas().index.values\n",
    "# # .set_dtype(int)"
   ]
  },
  {
   "cell_type": "code",
   "execution_count": null,
   "id": "927a0832",
   "metadata": {
    "ExecuteTime": {
     "end_time": "2021-10-02T11:07:40.648049Z",
     "start_time": "2021-10-02T11:07:40.599092Z"
    }
   },
   "outputs": [],
   "source": []
  },
  {
   "cell_type": "code",
   "execution_count": 71,
   "id": "65bc4320",
   "metadata": {
    "ExecuteTime": {
     "end_time": "2021-10-02T11:05:28.079858Z",
     "start_time": "2021-10-02T11:05:28.013732Z"
    }
   },
   "outputs": [
    {
     "data": {
      "text/plain": [
       "((8781,), (369084, 5))"
      ]
     },
     "execution_count": 71,
     "metadata": {},
     "output_type": "execute_result"
    }
   ],
   "source": [
    "dmis.to_pandas().index.values.T.shape,dfmi.to_pandas().shape"
   ]
  },
  {
   "cell_type": "code",
   "execution_count": 83,
   "id": "6961ce1f",
   "metadata": {
    "ExecuteTime": {
     "end_time": "2021-10-02T11:07:59.572129Z",
     "start_time": "2021-10-02T11:07:59.529293Z"
    }
   },
   "outputs": [
    {
     "ename": "SyntaxError",
     "evalue": "invalid syntax (1632096665.py, line 1)",
     "output_type": "error",
     "traceback": [
      "\u001b[0;36m  File \u001b[0;32m\"/tmp/ipykernel_12489/1632096665.py\"\u001b[0;36m, line \u001b[0;32m1\u001b[0m\n\u001b[0;31m    dfmi.to_pandas().loc[*tuple(targ_index)]\u001b[0m\n\u001b[0m                         ^\u001b[0m\n\u001b[0;31mSyntaxError\u001b[0m\u001b[0;31m:\u001b[0m invalid syntax\n"
     ]
    }
   ],
   "source": [
    "\n",
    "dfmi.to_pandas().loc[tuple(targ_index)]\n",
    "# dfmi.to_pandas().iloc[[0,0],'x']"
   ]
  },
  {
   "cell_type": "code",
   "execution_count": null,
   "id": "370e6198",
   "metadata": {
    "ExecuteTime": {
     "end_time": "2021-10-02T10:50:36.931608Z",
     "start_time": "2021-10-02T10:50:36.931598Z"
    }
   },
   "outputs": [],
   "source": [
    "\n",
    "# grouped.get_group"
   ]
  },
  {
   "cell_type": "code",
   "execution_count": null,
   "id": "b8701067",
   "metadata": {
    "ExecuteTime": {
     "end_time": "2021-10-02T10:50:36.932596Z",
     "start_time": "2021-10-02T10:50:36.932585Z"
    }
   },
   "outputs": [],
   "source": [
    "#doesn't work for cudf yet...\n",
    "# import functools\n",
    "# S = pd.Series([i / 100.0 for i in range(1, 11)])\n",
    "# def cum_ret(x, y):\n",
    "#     return x * (1 + y)\n",
    "# def red(x):\n",
    "#     return functools.reduce(cum_ret, x, 1.0)\n",
    "# S.expanding().apply(red, raw=True)"
   ]
  },
  {
   "cell_type": "code",
   "execution_count": null,
   "id": "c721521c",
   "metadata": {
    "ExecuteTime": {
     "end_time": "2021-10-02T10:50:36.933520Z",
     "start_time": "2021-10-02T10:50:36.933510Z"
    }
   },
   "outputs": [],
   "source": [
    "# df_pairs[trial_col].drop_duplicates().values.get()\n",
    "# MAKE A LIST OF INDICIES WHERE PID_COL IS REPEATED MULTIPLICITY TIMES\n",
    "# multiplicity_self(level=1)\n",
    "mi=multiplicity_self.index\n",
    "pid_self_values=mi.get_level_values(1).values\n",
    "multiplicity_self_values=multiplicity_self.values\n",
    "# pid_self_values.shape,multiplicity_self_values.shape\n",
    "target_pid_index_values=cp.repeat(pid_self_values,tuple(multiplicity_self_values.get()))\n",
    "print(target_pid_index_values.shape)\n",
    "#TODO: for each member of pid_self_values, copy it multiplicity_self_values times\n",
    "#WARNING: watch out for multiple event_id_int values!\n",
    "#SOLN: use loc on df indexed with TRIAL_COL then PID_COL as dfp"
   ]
  },
  {
   "cell_type": "code",
   "execution_count": null,
   "id": "27c74dfb",
   "metadata": {
    "ExecuteTime": {
     "end_time": "2021-10-02T10:50:36.934284Z",
     "start_time": "2021-10-02T10:50:36.934274Z"
    }
   },
   "outputs": [],
   "source": [
    "# retval=cp.repeat(pid_self_values,multiplicity_self_values.get(),axis=-1)\n",
    "# cp.broadcast_to?\n",
    "trial_self_values=mi.get_level_values(0).values\n",
    "multiplicity_self_values=multiplicity_self.values\n",
    "target_trial_values=cp.repeat(trial_self_values,tuple(multiplicity_self_values.get()))\n",
    "print(target_trial_values.shape)"
   ]
  },
  {
   "cell_type": "code",
   "execution_count": null,
   "id": "f866f346",
   "metadata": {
    "ExecuteTime": {
     "end_time": "2021-10-02T10:50:36.935266Z",
     "start_time": "2021-10-02T10:50:36.935256Z"
    }
   },
   "outputs": [],
   "source": [
    "dfr=cudf.DataFrame({trial_col:target_trial_values,pid_col:target_pid_index_values})\n",
    "dfr.head()"
   ]
  },
  {
   "cell_type": "code",
   "execution_count": null,
   "id": "ebd6afa4",
   "metadata": {
    "ExecuteTime": {
     "end_time": "2021-10-02T10:50:36.936274Z",
     "start_time": "2021-10-02T10:50:36.936264Z"
    }
   },
   "outputs": [],
   "source": [
    "dmi=df_pairs.groupby([trial_col,'pid_self','pid_other'])\n",
    "dmi.count()"
   ]
  },
  {
   "cell_type": "code",
   "execution_count": null,
   "id": "1d615e63",
   "metadata": {
    "ExecuteTime": {
     "end_time": "2021-10-02T10:50:36.937078Z",
     "start_time": "2021-10-02T10:50:36.937068Z"
    }
   },
   "outputs": [],
   "source": [
    "# type(dmi.collect())"
   ]
  },
  {
   "cell_type": "code",
   "execution_count": null,
   "id": "07a04ba9",
   "metadata": {
    "ExecuteTime": {
     "end_time": "2021-10-02T10:50:36.937905Z",
     "start_time": "2021-10-02T10:50:36.937896Z"
    }
   },
   "outputs": [],
   "source": [
    "df.groupby([pid_col])"
   ]
  },
  {
   "cell_type": "code",
   "execution_count": null,
   "id": "2b26a470",
   "metadata": {
    "ExecuteTime": {
     "end_time": "2021-10-02T10:50:36.938823Z",
     "start_time": "2021-10-02T10:50:36.938813Z"
    }
   },
   "outputs": [],
   "source": [
    "dfc=df.groupby([trial_col,pid_col]).collect()\n",
    "dfc.head()"
   ]
  },
  {
   "cell_type": "code",
   "execution_count": null,
   "id": "09919db6",
   "metadata": {
    "ExecuteTime": {
     "end_time": "2021-10-02T10:50:36.939772Z",
     "start_time": "2021-10-02T10:50:36.939762Z"
    }
   },
   "outputs": [],
   "source": [
    "retval=df.set_index([trial_col,pid_col])#.loc[trial_self_values]#,pid_self_values]]\n",
    "retval=df.set_index([trial_col,pid_col])[[list(trial_self_values.get()),list(pid_self_values.get())]]\n",
    "retval"
   ]
  },
  {
   "cell_type": "code",
   "execution_count": null,
   "id": "2d56398d",
   "metadata": {
    "ExecuteTime": {
     "end_time": "2021-10-02T10:50:36.940796Z",
     "start_time": "2021-10-02T10:50:36.940786Z"
    }
   },
   "outputs": [],
   "source": [
    "all_t_values=df[t_col].drop_duplicates().values"
   ]
  },
  {
   "cell_type": "code",
   "execution_count": null,
   "id": "ebc89b92",
   "metadata": {
    "ExecuteTime": {
     "end_time": "2021-10-02T10:50:36.941642Z",
     "start_time": "2021-10-02T10:50:36.941632Z"
    }
   },
   "outputs": [],
   "source": [
    "#TODO: make the largest possible multiindexed array that contains the target\n",
    "cudf.DataFrame([target_trial_values,target_pid_index_values])"
   ]
  },
  {
   "cell_type": "code",
   "execution_count": null,
   "id": "5721627c",
   "metadata": {
    "ExecuteTime": {
     "end_time": "2021-10-02T10:50:36.942441Z",
     "start_time": "2021-10-02T10:50:36.942431Z"
    }
   },
   "outputs": [],
   "source": [
    "cudf.MultiIndex.f"
   ]
  },
  {
   "cell_type": "code",
   "execution_count": null,
   "id": "f674f3f2",
   "metadata": {
    "ExecuteTime": {
     "end_time": "2021-10-02T10:50:36.943233Z",
     "start_time": "2021-10-02T10:50:36.943223Z"
    }
   },
   "outputs": [],
   "source": [
    "multiplicity_self_values.get()"
   ]
  },
  {
   "cell_type": "code",
   "execution_count": null,
   "id": "adf00bce",
   "metadata": {
    "ExecuteTime": {
     "end_time": "2021-10-02T10:50:36.944124Z",
     "start_time": "2021-10-02T10:50:36.944094Z"
    }
   },
   "outputs": [],
   "source": [
    "df.loc[]"
   ]
  },
  {
   "cell_type": "code",
   "execution_count": null,
   "id": "691d5d25",
   "metadata": {},
   "outputs": [],
   "source": []
  },
  {
   "cell_type": "code",
   "execution_count": null,
   "id": "6d6bdbb0",
   "metadata": {
    "ExecuteTime": {
     "end_time": "2021-10-02T10:50:36.944926Z",
     "start_time": "2021-10-02T10:50:36.944916Z"
    }
   },
   "outputs": [],
   "source": [
    "#THIS IS THE SHORTEST PATH TO Success\n",
    "df.loc[[0,0]]\n",
    "#can I repeat a label? using loc. yes!  THIS CAN BE SOLVE SIMPLY BY \n",
    "# USE DF_PAIRS TO DETERMINE THE MULTIPLICITY_self OF EACH PID_SELF\n",
    "multiplicity_self=df_pairs.groupby([trial_col,'pid_self'])['tmin'].count()\n",
    "# # USE DF_PAIRS TO DETERMINE THE MULTIPLICITY_other OF EACH PID_OTHER\n",
    "# SET THE INDEX TO PID_COL IN DF AS DFP\n",
    "dfp=df.set_index(pid_col)\n",
    "# MAKE A LIST OF INDICIES WHERE PID_COL IS REPEATED MULTIPLICITY TIMES\n",
    "\n",
    "# LOCATE AND COPY DF WITH ^THAT LIST FOR SELF\n",
    "# MAKE A LIST OF INDICIES WHERE PID_COL IS REPEATED MULTIPLICITY TIMES\n",
    "# LOCATE AND COPY DF WITH ^THAT LIST FOR OTHER\n",
    "# MAKE A SINGLE DF WITH ALL OF THE DESIRED COLUMNS (SEE HANDWRITTEN (3))\n",
    "# REWRITE A PANDASESQUE DIST_L2_PBC_CUDF MEASURE \n",
    "# COMPUTE THE CUDF DATAFRAME OF ALL RANGE TIMESERIES FOR ALL PAIRS\n",
    "# MULTIINDEX SO THE PRIMITIVE OBJECT IS THE RANGE TIME SERIES\n",
    "# COMPUTE KEY VALUES 1/R AND DRDT\n",
    "# NAIVELY MEASURE A\n",
    "# REMOVE OUTLIER A VALUES OR A THAT RECIEVED A NASTY FIT\n",
    "# RECOMPUTE A WITH AN ENSEMBLE BOOTSTRAP\n",
    "# IF A IS STILL NOT GREAT, CONSIDER USINVE TAVG2 WITH SOMETHING LIKE A SAVGOL FILTER IMPLEMENTED AS AN FIR FILTER\n",
    "# KEEP TRYING UNTIL I HAVE AN ESTIMATE OF A THAT IS CONSISTENT WITH THE PARTICLE MODEL"
   ]
  },
  {
   "cell_type": "code",
   "execution_count": null,
   "id": "4287c3f6",
   "metadata": {
    "ExecuteTime": {
     "end_time": "2021-10-02T10:50:36.945751Z",
     "start_time": "2021-10-02T10:50:36.945741Z"
    }
   },
   "outputs": [],
   "source": [
    "# targ_index_col_lst=[trial_col,'pid_self','pid_other',t_col]\n",
    "# df_pairs[targ_index_col_lst]\n",
    "\n"
   ]
  },
  {
   "cell_type": "code",
   "execution_count": null,
   "id": "f1f22eee",
   "metadata": {
    "ExecuteTime": {
     "end_time": "2021-10-02T10:50:36.946225Z",
     "start_time": "2021-10-02T10:50:36.946217Z"
    }
   },
   "outputs": [],
   "source": [
    "df.head()"
   ]
  },
  {
   "cell_type": "code",
   "execution_count": null,
   "id": "6d82fd2b",
   "metadata": {
    "ExecuteTime": {
     "end_time": "2021-10-02T10:50:36.947160Z",
     "start_time": "2021-10-02T10:50:36.947150Z"
    }
   },
   "outputs": [],
   "source": [
    "# event_id_int=int(event_id_int_values[0].get())\n",
    "# print(event_id_int)\n",
    "# pid_self_values=df_pairs.loc[df_pairs[trial_col]==event_id_int,'pid_self'].values#.get()\n",
    "# #I can't simply query df with pid_self_values because I need multiple copies of the trajectories for each member of df_pair\n",
    "# #TODO: compute a dataframe with pid,x,y,t for any pid occuring in df_pairs['pid_self']\n",
    "# # df_traj=df.query(f\"{pid_col} in {}\")"
   ]
  },
  {
   "cell_type": "code",
   "execution_count": null,
   "id": "4452f6aa",
   "metadata": {
    "ExecuteTime": {
     "end_time": "2021-10-02T10:50:36.947991Z",
     "start_time": "2021-10-02T10:50:36.947982Z"
    }
   },
   "outputs": [],
   "source": [
    "# df.pivot(columns='var', values='val')"
   ]
  },
  {
   "cell_type": "code",
   "execution_count": null,
   "id": "60bd0518",
   "metadata": {},
   "outputs": [],
   "source": []
  },
  {
   "cell_type": "code",
   "execution_count": null,
   "id": "6846c710",
   "metadata": {
    "ExecuteTime": {
     "end_time": "2021-10-02T10:50:36.948959Z",
     "start_time": "2021-10-02T10:50:36.948949Z"
    }
   },
   "outputs": [],
   "source": [
    "# shape=(width,height)\n",
    "# testing=True\n",
    "# event_id_int_values=df[trial_col].drop_duplicates().values\n",
    "# event_id_int=event_id_int_values.get()[0]\n",
    "# index_lst=[]\n",
    "# dist_values_lst=[]\n",
    "# for event_id_int in event_id_int_values.get():\n",
    "#     for index,pair in df_pairs.to_pandas().iterrows(): #TODO: parallelize with db\n",
    "#         #         index_test=int(pair.name)\n",
    "#         #         assert(index==index_test)\n",
    "#         dff=df[df[trial_col]==event_id_int]\n",
    "#         self_values,other_values=extract_xy_values_of_pair(dff,pair,t_col)\n",
    "#         dist_values=distance_L2_pbc_cu(self_values,other_values,shape)\n",
    "#         #record\n",
    "#         index_lst.append(index)\n",
    "#         dist_values_lst.append(dist_values)\n",
    "#         if testing:\n",
    "#             #print((self_values.shape,other_values.shape))\n",
    "#             assert ( self_values.shape==other_values.shape ) \n",
    "#         self_values.shape"
   ]
  },
  {
   "cell_type": "code",
   "execution_count": null,
   "id": "0f7c5766",
   "metadata": {
    "ExecuteTime": {
     "end_time": "2021-10-02T10:50:36.949795Z",
     "start_time": "2021-10-02T10:50:36.949772Z"
    }
   },
   "outputs": [],
   "source": [
    "dist_values=distance_L2_pbc_cu(self_values,other_values,shape)"
   ]
  },
  {
   "cell_type": "code",
   "execution_count": null,
   "id": "73f02fe9",
   "metadata": {
    "ExecuteTime": {
     "end_time": "2021-10-02T10:50:36.950619Z",
     "start_time": "2021-10-02T10:50:36.950609Z"
    }
   },
   "outputs": [],
   "source": [
    "self_values.shape,other_values.shape,shape"
   ]
  },
  {
   "cell_type": "code",
   "execution_count": null,
   "id": "56b6e3e0",
   "metadata": {
    "ExecuteTime": {
     "end_time": "2021-10-02T10:50:36.951405Z",
     "start_time": "2021-10-02T10:50:36.951394Z"
    }
   },
   "outputs": [],
   "source": [
    "# # self_values-\n",
    "# # other_values\n",
    "# # self_values#.get().shape\n",
    "\n",
    "# #PROBLEM IDENTIFIED: other_values is empty for some reason...\n",
    "# self_values,other_values=extract_xy_values_of_pair(dff,pair,t_col)\n",
    "# other_values"
   ]
  },
  {
   "cell_type": "code",
   "execution_count": null,
   "id": "ac586dd8",
   "metadata": {},
   "outputs": [],
   "source": []
  },
  {
   "cell_type": "code",
   "execution_count": null,
   "id": "22a17873",
   "metadata": {},
   "outputs": [],
   "source": []
  },
  {
   "cell_type": "code",
   "execution_count": null,
   "id": "b8ead681",
   "metadata": {},
   "outputs": [],
   "source": []
  },
  {
   "cell_type": "code",
   "execution_count": null,
   "id": "df5b4ea0",
   "metadata": {
    "ExecuteTime": {
     "end_time": "2021-10-02T10:50:36.952246Z",
     "start_time": "2021-10-02T10:50:36.952235Z"
    }
   },
   "outputs": [],
   "source": [
    "# #DONE: visually verify these values look sensible\n",
    "# plt.plot(dist_values.get())\n",
    "# plt.show()\n",
    "# plt.plot(self_values[:,0].get(),self_values[:,1].get())\n",
    "# plt.plot(other_values[:,0].get(),other_values[:,1].get())\n",
    "# plt.show()"
   ]
  },
  {
   "cell_type": "code",
   "execution_count": null,
   "id": "7065ec9a",
   "metadata": {
    "ExecuteTime": {
     "end_time": "2021-10-02T10:50:36.953371Z",
     "start_time": "2021-10-02T10:50:36.953361Z"
    }
   },
   "outputs": [],
   "source": [
    "#is there a datum missing somewhere in the bulk?  No. removing the first self resolved the problem\n",
    "#maybe I'm picking up an extra value from the other event_id?\n",
    "# dff"
   ]
  },
  {
   "cell_type": "code",
   "execution_count": null,
   "id": "2246e5c4",
   "metadata": {
    "ExecuteTime": {
     "end_time": "2021-10-02T07:38:59.006840Z",
     "start_time": "2021-10-02T07:38:58.967567Z"
    }
   },
   "outputs": [],
   "source": []
  },
  {
   "cell_type": "code",
   "execution_count": null,
   "id": "104d6d84",
   "metadata": {},
   "outputs": [],
   "source": []
  },
  {
   "cell_type": "code",
   "execution_count": null,
   "id": "1f16e077",
   "metadata": {},
   "outputs": [],
   "source": []
  },
  {
   "cell_type": "code",
   "execution_count": null,
   "id": "036c7a89",
   "metadata": {
    "ExecuteTime": {
     "end_time": "2021-10-02T10:50:36.954404Z",
     "start_time": "2021-10-02T10:50:36.954375Z"
    }
   },
   "outputs": [],
   "source": [
    "# def comp_xy_distance_pbc_cu(self_values,other_values,width,height):\n",
    "#     pass\n",
    "# #TODO:compute the distance in x between any points where two spiral tips occur at the same time in t\n",
    "# #is the best way to do this to project to cupy and to run all rows in  together in a daskbag?  sure.\n"
   ]
  },
  {
   "cell_type": "code",
   "execution_count": null,
   "id": "522370d2",
   "metadata": {
    "ExecuteTime": {
     "end_time": "2021-10-02T10:50:36.955476Z",
     "start_time": "2021-10-02T10:50:36.955464Z"
    }
   },
   "outputs": [],
   "source": [
    "# self_values,other_values"
   ]
  },
  {
   "cell_type": "code",
   "execution_count": null,
   "id": "c62c2381",
   "metadata": {
    "ExecuteTime": {
     "end_time": "2021-10-02T10:50:36.956740Z",
     "start_time": "2021-10-02T10:50:36.956725Z"
    }
   },
   "outputs": [],
   "source": [
    "#TODO(IMMEDIATE FOLLOWUP GOAL): show how insensitive a is to choice in navg1 (and/or navg2 if I'm using it!)\n",
    "#GOAL_QUESTION: does there exist a tavg1 that produces the right expected a for a single termination event??"
   ]
  },
  {
   "cell_type": "code",
   "execution_count": null,
   "id": "8785a01e",
   "metadata": {
    "ExecuteTime": {
     "end_time": "2021-10-02T10:50:36.957779Z",
     "start_time": "2021-10-02T10:50:36.957749Z"
    }
   },
   "outputs": [],
   "source": [
    "#TODO: estimate an ensemble averaged a estimate\n",
    "#TODO: augment df_interacting_pairs with estimates for a for individual pairs of particles\n",
    "#TODO: use ^that to filter based on Rsq or Delta_a and recompute an ensemble averaged a estimate"
   ]
  },
  {
   "cell_type": "code",
   "execution_count": null,
   "id": "d61b5d2f",
   "metadata": {},
   "outputs": [],
   "source": []
  },
  {
   "cell_type": "code",
   "execution_count": null,
   "id": "c7609710",
   "metadata": {},
   "outputs": [],
   "source": []
  },
  {
   "cell_type": "code",
   "execution_count": null,
   "id": "5fe28db4",
   "metadata": {},
   "outputs": [],
   "source": []
  },
  {
   "cell_type": "code",
   "execution_count": null,
   "id": "f3bf7982",
   "metadata": {
    "ExecuteTime": {
     "end_time": "2021-10-02T10:50:36.958702Z",
     "start_time": "2021-10-02T10:50:36.958691Z"
    }
   },
   "outputs": [],
   "source": [
    "df_pairs=df_pairs.sort_values([trial_col,'pid_self'], ascending=True).copy()"
   ]
  },
  {
   "cell_type": "code",
   "execution_count": null,
   "id": "0c0dc2c9",
   "metadata": {
    "ExecuteTime": {
     "end_time": "2021-10-02T10:50:36.959899Z",
     "start_time": "2021-10-02T10:50:36.959884Z"
    }
   },
   "outputs": [],
   "source": [
    "# def extract_xy_values_of_pair(df,pair,t_col='t'):\n",
    "'''\n",
    "df is a cudf.DataFrame instance of xy trajectories from no more than 1 trial \n",
    "pair is a row from a pandas.core.series.Series instance with columns,['pid_self', 'pid_other', 'tmin_self', 'tmin_other', 'tmax_self', 'tmax_other', 'tmin', 'tmax', 'duration', 'event_id_int']\n",
    "\n",
    "Example Usage:\n",
    "pair=pd.Series(df_pairs.head(1).to_pandas())\n",
    "event_id_int=int(pair[trial_col])#.values.get())\n",
    "dff=df[df[trial_col]==event_id_int]\n",
    "self_values,other_values=extract_xy_values_of_pair(df=dff,pair=pair,t_col=t_col)\n",
    "'''\n",
    "# dff=df\n",
    "#DONE: optimize data retrieval from pair by using only one gpu-to-cpu memory transfer\n",
    "pid_self =int(pair['pid_self'])#.values.get())\n",
    "pid_other=int(pair['pid_other'])#.values.get())\n",
    "tmin     =float(pair['tmin'])#.values.get())\n",
    "tmax     =float(pair['tmax'])#.values.get())\n",
    "#failed to broadcase in cudf\n",
    "#     if event_id_int is not None:\n",
    "#         dff=df[df[trial_col]==event_id_int]\n",
    "#     else:\n",
    "#         dff=df\n",
    "df_self =dff.loc[(dff[pid_col]==pid_self),[t_col,'x','y']]\n",
    "df_other=dff.loc[(dff[pid_col]==pid_other),[t_col,'x','y']]\n",
    "self_values =df_self.loc [(df_self [t_col]>=tmin)&(df_self[t_col] <=tmax),['x','y']].values\n",
    "other_values=df_other.loc[(df_other[t_col]>=tmin)&(df_other[t_col]<=tmax),['x','y']].values\n",
    "#     return self_values,other_values"
   ]
  },
  {
   "cell_type": "code",
   "execution_count": null,
   "id": "db3b8b89",
   "metadata": {
    "ExecuteTime": {
     "end_time": "2021-10-02T08:42:52.603188Z",
     "start_time": "2021-10-02T08:42:52.581260Z"
    }
   },
   "outputs": [],
   "source": []
  },
  {
   "cell_type": "code",
   "execution_count": null,
   "id": "34a333cf",
   "metadata": {
    "ExecuteTime": {
     "end_time": "2021-10-02T08:42:27.379434Z",
     "start_time": "2021-10-02T08:42:27.343897Z"
    }
   },
   "outputs": [],
   "source": []
  },
  {
   "cell_type": "code",
   "execution_count": null,
   "id": "5eb04df8",
   "metadata": {
    "ExecuteTime": {
     "end_time": "2021-10-02T10:50:36.961072Z",
     "start_time": "2021-10-02T10:50:36.961054Z"
    }
   },
   "outputs": [],
   "source": [
    "other_values"
   ]
  },
  {
   "cell_type": "code",
   "execution_count": null,
   "id": "6ee6924f",
   "metadata": {
    "ExecuteTime": {
     "end_time": "2021-10-02T10:50:36.962495Z",
     "start_time": "2021-10-02T10:50:36.962483Z"
    }
   },
   "outputs": [],
   "source": [
    "pid_other"
   ]
  },
  {
   "cell_type": "code",
   "execution_count": null,
   "id": "ffb30b28",
   "metadata": {
    "ExecuteTime": {
     "end_time": "2021-10-02T10:50:36.963903Z",
     "start_time": "2021-10-02T10:50:36.963891Z"
    }
   },
   "outputs": [],
   "source": [
    "# PROBLEM REPRODUCED\n",
    "print(*pair)"
   ]
  },
  {
   "cell_type": "code",
   "execution_count": null,
   "id": "2f8a540e",
   "metadata": {
    "ExecuteTime": {
     "end_time": "2021-10-02T10:50:36.964661Z",
     "start_time": "2021-10-02T10:50:36.964637Z"
    }
   },
   "outputs": [],
   "source": [
    "self_values.shape,other_values.shape"
   ]
  },
  {
   "cell_type": "code",
   "execution_count": null,
   "id": "95aabe5e",
   "metadata": {
    "ExecuteTime": {
     "end_time": "2021-10-02T10:50:36.965670Z",
     "start_time": "2021-10-02T10:50:36.965659Z"
    }
   },
   "outputs": [],
   "source": [
    "df_self.to_pandas().diff().dropna()['t'].describe()"
   ]
  },
  {
   "cell_type": "code",
   "execution_count": null,
   "id": "f63df44c",
   "metadata": {
    "ExecuteTime": {
     "end_time": "2021-10-02T10:50:36.966497Z",
     "start_time": "2021-10-02T10:50:36.966486Z"
    }
   },
   "outputs": [],
   "source": [
    "df_other.to_pandas().diff().dropna()['t'].describe()"
   ]
  },
  {
   "cell_type": "code",
   "execution_count": null,
   "id": "535e0229",
   "metadata": {
    "ExecuteTime": {
     "end_time": "2021-10-02T10:50:36.967384Z",
     "start_time": "2021-10-02T10:50:36.967372Z"
    }
   },
   "outputs": [],
   "source": [
    "print(*pair.keys())\n",
    "print(*pair)"
   ]
  },
  {
   "cell_type": "code",
   "execution_count": null,
   "id": "6e6a101a",
   "metadata": {
    "ExecuteTime": {
     "end_time": "2021-10-02T10:50:36.968277Z",
     "start_time": "2021-10-02T10:50:36.968266Z"
    }
   },
   "outputs": [],
   "source": [
    "pid_self =int(pair['pid_self'])#.values.get())\n",
    "pid_other=int(pair['pid_other'])#.values.get())\n",
    "tmin     =float(pair['tmin'])#.values.get())\n",
    "tmax     =float(pair['tmax'])#.values.get())\n",
    "df_self =dff.loc[(dff[pid_col]==pid_self),[t_col,'x','y']]\n",
    "df_other=dff.loc[(dff[pid_col]==pid_other),[t_col,'x','y']]\n",
    "self_values=df_self.loc[(df_self[t_col]>=tmin)&(df_self[t_col]<=tmax),['x','y']].values\n",
    "other_values=df_other.loc[(df_other[t_col]>=tmin)&(df_other[t_col]<=tmax),['x','y']].values\n",
    "other_values"
   ]
  },
  {
   "cell_type": "markdown",
   "id": "241b35b0",
   "metadata": {
    "ExecuteTime": {
     "end_time": "2021-10-02T08:22:47.948067Z",
     "start_time": "2021-10-02T08:22:47.924137Z"
    }
   },
   "source": [
    "TODO(later): try to figure out how to make everything faster by smooshing together df.pivot with boolean indexing\n",
    "\n",
    "HINT?: https://pbpython.com/pandas-pivot-table-explained.html"
   ]
  },
  {
   "cell_type": "code",
   "execution_count": null,
   "id": "b7ba04d4",
   "metadata": {},
   "outputs": [],
   "source": []
  },
  {
   "cell_type": "code",
   "execution_count": null,
   "id": "855d44e7",
   "metadata": {
    "ExecuteTime": {
     "end_time": "2021-10-02T10:50:36.969212Z",
     "start_time": "2021-10-02T10:50:36.969200Z"
    }
   },
   "outputs": [],
   "source": [
    "# pid_other=7589\n",
    "# df.loc[(df[pid_col]==pid_other)]\n",
    "# #CONCLUSION, pid 7589 got deleted somewhere...  perhaps this is because I've been overloading dff in locals() with globals() "
   ]
  },
  {
   "cell_type": "code",
   "execution_count": null,
   "id": "33f768fc",
   "metadata": {},
   "outputs": [],
   "source": []
  }
 ],
 "metadata": {
  "kernelspec": {
   "display_name": "Python 3 (ipykernel)",
   "language": "python",
   "name": "python3"
  },
  "language_info": {
   "codemirror_mode": {
    "name": "ipython",
    "version": 3
   },
   "file_extension": ".py",
   "mimetype": "text/x-python",
   "name": "python",
   "nbconvert_exporter": "python",
   "pygments_lexer": "ipython3",
   "version": "3.7.10"
  },
  "toc": {
   "base_numbering": 1,
   "nav_menu": {},
   "number_sections": true,
   "sideBar": true,
   "skip_h1_title": false,
   "title_cell": "Table of Contents",
   "title_sidebar": "Contents",
   "toc_cell": false,
   "toc_position": {},
   "toc_section_display": true,
   "toc_window_display": false
  },
  "varInspector": {
   "cols": {
    "lenName": 16,
    "lenType": 16,
    "lenVar": 40
   },
   "kernels_config": {
    "python": {
     "delete_cmd_postfix": "",
     "delete_cmd_prefix": "del ",
     "library": "var_list.py",
     "varRefreshCmd": "print(var_dic_list())"
    },
    "r": {
     "delete_cmd_postfix": ") ",
     "delete_cmd_prefix": "rm(",
     "library": "var_list.r",
     "varRefreshCmd": "cat(var_dic_list()) "
    }
   },
   "types_to_exclude": [
    "module",
    "function",
    "builtin_function_or_method",
    "instance",
    "_Feature"
   ],
   "window_display": false
  }
 },
 "nbformat": 4,
 "nbformat_minor": 5
}
