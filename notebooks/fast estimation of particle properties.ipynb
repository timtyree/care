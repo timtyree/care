{
 "cells": [
  {
   "cell_type": "markdown",
   "id": "f3bceb72",
   "metadata": {},
   "source": [
    "# fast estimation of particle properties\n",
    "Tim Tyree<br>\n",
    "9.29.2021<br>\n",
    "`conda activate pyenv_ub`"
   ]
  },
  {
   "cell_type": "markdown",
   "id": "0326ad29",
   "metadata": {},
   "source": [
    "__TODO(later):__ bug mike to make certain that for the 99.95% accurate decoder, that the i^th neuron for the Match trials is the same as the i^th neuron for the Mismatch trials for all i neuron-units considered."
   ]
  },
  {
   "cell_type": "markdown",
   "id": "3a420553",
   "metadata": {
    "ExecuteTime": {
     "end_time": "2021-09-30T03:40:18.986940Z",
     "start_time": "2021-09-30T03:40:18.955224Z"
    }
   },
   "source": [
    "__GOAL__: efficiently generate an inline rendering of dRdt versus 1/R and MSD versus tau using dashly.  try the solution suggested on my stackoverflow post"
   ]
  },
  {
   "cell_type": "code",
   "execution_count": 1,
   "id": "6c811d0a",
   "metadata": {
    "ExecuteTime": {
     "end_time": "2021-10-02T05:43:02.011706Z",
     "start_time": "2021-10-02T05:43:00.064939Z"
    }
   },
   "outputs": [
    {
     "name": "stdout",
     "output_type": "stream",
     "text": [
      "Automatic calling is: Smart\n"
     ]
    }
   ],
   "source": [
    "from lib.my_initialization import *\n",
    "from lib import *\n",
    "# from lib.measure.unwrap_and_smooth_cu import *\n",
    "# from lib.rapids_func import *\n",
    "# .routines.unwrap_and_smooth_trajectories_cu import *\n",
    "\n",
    "import itertools\n",
    "import dask_cudf\n",
    "from lib.rapids_func import *\n",
    "get_DT_cu\n",
    "\n",
    "#magic    \n",
    "%autocall 1\n",
    "%load_ext autoreload\n",
    "%autoreload 2\n",
    "\n",
    "import cupy as cp, cudf, numba.cuda as cuda\n",
    "import rmm\n",
    "# Switch to RMM allocator\n",
    "cp.cuda.set_allocator(rmm.rmm_cupy_allocator)"
   ]
  },
  {
   "cell_type": "code",
   "execution_count": null,
   "id": "a9a9b1a5",
   "metadata": {
    "ExecuteTime": {
     "end_time": "2021-10-02T05:24:15.394471Z",
     "start_time": "2021-10-02T05:24:15.252705Z"
    }
   },
   "outputs": [],
   "source": []
  },
  {
   "cell_type": "code",
   "execution_count": 2,
   "id": "66b8882d",
   "metadata": {
    "ExecuteTime": {
     "end_time": "2021-10-02T05:43:02.074859Z",
     "start_time": "2021-10-02T05:43:02.013346Z"
    }
   },
   "outputs": [],
   "source": [
    "darkmode=True\n",
    "if darkmode:\n",
    "    # For darkmode plots\n",
    "    from jupyterthemes import jtplot\n",
    "    jtplot.style(theme='monokai', context='notebook', ticks=True, grid=False)"
   ]
  },
  {
   "cell_type": "markdown",
   "id": "08f6fce5",
   "metadata": {
    "ExecuteTime": {
     "end_time": "2021-09-30T07:44:21.858663Z",
     "start_time": "2021-09-30T07:44:21.823646Z"
    }
   },
   "source": [
    "# (optional) postprocess a token trajectory file\n",
    "- Nota Bene: batch computation is already automated and optimized in 'fast postprocessing a list of trajectory folders.ipynb'"
   ]
  },
  {
   "cell_type": "code",
   "execution_count": 3,
   "id": "62c062e3",
   "metadata": {
    "ExecuteTime": {
     "end_time": "2021-10-02T05:43:02.097238Z",
     "start_time": "2021-10-02T05:43:02.075841Z"
    }
   },
   "outputs": [],
   "source": [
    "# input_fn=search_for_file()\n",
    "\n",
    "# # #token FK at DT=0.4\n",
    "# input_fn=\"/home/timothytyree/Documents/GitHub/care/notebooks/Data/initial-conditions-fk-200x200/param_set_8_ds_5.0_tmax_10_diffCoef_0.0005/Log/ic200x200.0.2_traj_sr_400_mem_0.csv\"\n",
    "\n",
    "# # #tokenLR at DT=0.5\n",
    "# input_fn=f\"/home/timothytyree/Documents/GitHub/care/notebooks/Data/initial-conditions-suite-3-LR/param_qu_tmax_30_Ko_5.4_diffCoef_0.0005_dt_0.5/trajectories/ic002.31_traj_sr_600_mem_0.csv\"\n",
    "input_fn=f\"/home/timothytyree/Documents/GitHub/care/notebooks/Data/initial-conditions-suite-3-LR/param_qu_tmax_30_Ko_5.4_diffCoef_0.0005_dt_0.5/trajectories/ic002.11_traj_sr_600_mem_0.csv\"\n",
    "\n",
    "#test routine on one file\n",
    "testing=False\n",
    "if testing:\n",
    "    df=pd.read_csv(input_fn)\n",
    "    DT=np.around(get_DT(df),5);print(f\"DT={DT}\")\n",
    "    # ds=5 #cm\n",
    "    # DS=ds/width\n",
    "    tavg1=4 #moving average window, in ms\n",
    "    width=200\n",
    "    height=width\n",
    "    use_drop_shorter_than=True\n",
    "    drop_shorter_than=50 #ms\n",
    "    tmin=100.#ms\n",
    "    pid_col='particle'\n",
    "    t_col='t'\n",
    "    printing=False\n",
    "    navg1=int(tavg1/DT)\n",
    "    save_dir=return_moving_average_of_pbc_trajectories_and_save(\n",
    "            input_fn, tavg1, pid_col, t_col, DT, width, height,\n",
    "            use_drop_shorter_than, drop_shorter_than, tmin, printing)\n",
    "    print(save_dir)\n",
    "\n",
    "    df=load_smoothed_trajectories(save_dir,pid_col,t_col)\n",
    "    df.head()"
   ]
  },
  {
   "cell_type": "code",
   "execution_count": 4,
   "id": "8926afa1",
   "metadata": {
    "ExecuteTime": {
     "end_time": "2021-10-02T05:43:02.117425Z",
     "start_time": "2021-10-02T05:43:02.098573Z"
    }
   },
   "outputs": [],
   "source": [
    "#run the routine on a whole folder\n",
    "# print((DT, input_fn))\n",
    "# save_dir_lst=routine_postprocess_trajectory_folder(input_fn,DT,tavg1=4, npartitions=None,\n",
    "#                                         width=200,\n",
    "#                                         height=200,\n",
    "#                                         use_drop_shorter_than=True,\n",
    "#                                         drop_shorter_than=50, #ms\n",
    "#                                         tmin=100., #ms\n",
    "#                                         pid_col='particle',\n",
    "#                                         t_col='t',\n",
    "#                                         printing=False)"
   ]
  },
  {
   "cell_type": "code",
   "execution_count": 5,
   "id": "8b837b31",
   "metadata": {
    "ExecuteTime": {
     "end_time": "2021-10-02T05:43:02.137703Z",
     "start_time": "2021-10-02T05:43:02.118528Z"
    }
   },
   "outputs": [],
   "source": [
    "# #TODO(later): compute squared displacements\n",
    "# grouped=df.groupby(pid_col)\n",
    "# #HINT: squared displacements of particles is result\n",
    "#  throws AttributeError: DataFrameGroupBy object has no attribute first \n",
    "# result = (grouped[['x','y']]-grouped[['x','y']].first())**2"
   ]
  },
  {
   "cell_type": "code",
   "execution_count": 6,
   "id": "791ed272",
   "metadata": {
    "ExecuteTime": {
     "end_time": "2021-10-02T05:43:02.160608Z",
     "start_time": "2021-10-02T05:43:02.138931Z"
    }
   },
   "outputs": [],
   "source": [
    "#TODO(later): implement a one_step method on an element in a finite element simulation\n",
    "# HINT: cudf.Grouper?\n",
    "# HINT: https://pandas.pydata.org/pandas-docs/stable/user_guide/groupby.html#grouping-with-a-grouper-specification\n",
    "# HINT: https://pandas.pydata.org/pandas-docs/stable/user_guide/groupby.html#transformation"
   ]
  },
  {
   "cell_type": "markdown",
   "id": "27432dfe",
   "metadata": {},
   "source": [
    "# define module"
   ]
  },
  {
   "cell_type": "code",
   "execution_count": 7,
   "id": "07eb0531",
   "metadata": {
    "ExecuteTime": {
     "end_time": "2021-10-02T05:43:02.182469Z",
     "start_time": "2021-10-02T05:43:02.163328Z"
    }
   },
   "outputs": [],
   "source": [
    "# def get_DT_cu(df,t_col='t',pid_col='particle',round_digits=7):\n",
    "#     pid_values=df[pid_col].drop_duplicates().values\n",
    "#     return float(np.around(df.loc[pid_values[0]==df[pid_col],t_col].diff().tail(1).values.get(),round_digits))"
   ]
  },
  {
   "cell_type": "code",
   "execution_count": 8,
   "id": "64d01b7e",
   "metadata": {
    "ExecuteTime": {
     "end_time": "2021-10-02T05:43:02.203910Z",
     "start_time": "2021-10-02T05:43:02.183790Z"
    }
   },
   "outputs": [],
   "source": [
    "# def comp_intersecting_pairs_cu(df,pid_col='particle',**kwargs):\n",
    "#     '''returns a cudf.DataFrame instance that identifies pairs of particles that coexist along with their start and end times.\n",
    "#     df is s cudf.DataFrame instance with columns tmin and tmax along with a unique index for each row and a particle id recorded in the column indicated by pid_col'''\n",
    "#     dfff=df\n",
    "#     index_values=dfff.index.values.get()\n",
    "#     index_pair_values=cp.array(list(itertools.combinations(index_values, 2)))\n",
    "#     tmin_self_values=dfff.loc[index_pair_values[:,0],'tmin'].values\n",
    "#     tmax_self_values=dfff.loc[index_pair_values[:,0],'tmax'].values\n",
    "#     tmin_other_values=dfff.loc[index_pair_values[:,1],'tmin'].values\n",
    "#     tmax_other_values=dfff.loc[index_pair_values[:,1],'tmax'].values\n",
    "\n",
    "#     boo_intersecting=(tmin_other_values<tmax_self_values) & (tmax_other_values>tmin_self_values)\n",
    "#     intersecting_index_pair_values=index_pair_values[boo_intersecting]\n",
    "#     intersecting_index_pair_values.shape\n",
    "\n",
    "#     col_lst=[pid_col,'tmin','tmax']\n",
    "#     df_self=dfff.loc[intersecting_index_pair_values[:,0],col_lst]\n",
    "#     df_other=dfff.loc[intersecting_index_pair_values[:,1],col_lst]\n",
    "#     df_intersecting_pairs=cudf.DataFrame({\n",
    "#         'pid_self':df_self[pid_col].values,\n",
    "#         'pid_other':df_other[pid_col].values,\n",
    "#         'tmin_self':df_self['tmin'].values,\n",
    "#         'tmin_other':df_other['tmin'].values,\n",
    "#         'tmax_self':df_self['tmax'].values,\n",
    "#         'tmax_other':df_other['tmax'].values,\n",
    "#     })\n",
    "#     df_intersecting_pairs['tmin']=df_intersecting_pairs[[\"tmin_self\", \"tmin_other\"]].max(axis=1)\n",
    "#     df_intersecting_pairs['tmax']=df_intersecting_pairs[[\"tmax_self\", \"tmax_other\"]].min(axis=1)\n",
    "#     df_intersecting_pairs['duration']=df_intersecting_pairs['tmax']-df_intersecting_pairs['tmin']\n",
    "#     return df_intersecting_pairs"
   ]
  },
  {
   "cell_type": "code",
   "execution_count": 9,
   "id": "46cc9b0d",
   "metadata": {
    "ExecuteTime": {
     "end_time": "2021-10-02T05:43:02.225227Z",
     "start_time": "2021-10-02T05:43:02.205137Z"
    }
   },
   "outputs": [],
   "source": [
    "# #DONE: computes the dataframe identifying the largest start/end times for all pairs of particles\n",
    "# #TODO: wrap all this into a function\n",
    "# #TODO(later): add support to parallelize this over dask with npartitions determined locally.  measure any performance boost\n",
    "# def identify_all_coexisting_pairs(df,pid_col='particle',t_col='t',trial_col='event_id_int',npartitions=None,use_dask=None,printing=True,**kwargs):\n",
    "#     '''computes the dataframe identifying the largest start/end times for all pairs of particles\n",
    "#     returns a cudf.DataFrame instance that identifies pairs of particles that coexist along with their start and end times, for all rows uniquely identified by trial_col\n",
    "#     df is s cudf.DataFrame instance with columns tmin and tmax along with a unique index for each row and a particle id recorded in the column indicated by pid_col\n",
    "#     option to parallelize this gpu accelerated task via dask with npartitions determined locally.  \n",
    "#     Example Usage:\n",
    "#     df_intersecting_pairs_all=identify_all_coexisting_pairs(df,pid_col='particle',t_col='t')\n",
    "    \n",
    "#     '''\n",
    "#     dff=df\n",
    "#     #iterate over all events and compute the dataframe identifying the largest start/end times for all pairs of particles\n",
    "#     event_id_int_values=dff[trial_col].drop_duplicates().values\n",
    "#     num_trials=event_id_int_values.get().shape[0]\n",
    "#     #decide on cpu resource allocation\n",
    "#     if npartitions is None:\n",
    "#         npartitions=np.min((int(os.cpu_count()/2),num_trials))\n",
    "#     if use_dask is None:\n",
    "#         use_dask=npartitions>1\n",
    "\n",
    "#     if printing:\n",
    "#         print(f\"using {npartitions} cores to identify pairs of particles that coexist over {event_id_int_values.shape[0]} independent trials...\")\n",
    "\n",
    "#     #DONE: \n",
    "#     #TODO(later): measure any performance boost\n",
    "#     if not use_dask:\n",
    "#         df_intersecting_pairs_lst=[]\n",
    "#         for event_id_int in event_id_int_values.get():\n",
    "#             dfff=dff[dff[trial_col]==event_id_int]\n",
    "#             df_intersecting_pairs=comp_intersecting_pairs_cu(df=dfff,pid_col=pid_col,t_col=t_col)\n",
    "#             #augment df_intersecting_pairs with any columns desired\n",
    "#             df_intersecting_pairs[trial_col]=event_id_int\n",
    "#             #record\n",
    "#             df_intersecting_pairs_lst.append(df_intersecting_pairs)\n",
    "#     else:\n",
    "#         #define routine locally with dff baked\n",
    "#         def routine(event_id_int):\n",
    "#             try:\n",
    "#                 dfff=dff[dff[trial_col]==event_id_int]\n",
    "#                 df_intersecting_pairs=comp_intersecting_pairs_cu(df=dfff,pid_col=pid_col,t_col=t_col)\n",
    "#                 #augment df_intersecting_pairs with any columns desired\n",
    "#                 df_intersecting_pairs[trial_col]=event_id_int\n",
    "#                 return df_intersecting_pairs\n",
    "#             except Exception as e:\n",
    "#                 return e\n",
    "    \n",
    "#         #feed routine to a daskbag\n",
    "#         bag = db.from_sequence(list(event_id_int_values.get()), npartitions=npartitions).map(routine)\n",
    "#         start = time.time()\n",
    "#         df_intersecting_pairs_lst = list(bag)\n",
    "#         if printing:\n",
    "#             print(f\"the run time was {(time.time()-start)/60:.2f} minutes.\")\n",
    "#             print(f\"the number of successfully processed trials was {len(df_intersecting_pairs_lst)}\")\n",
    "#     df_intersecting_pairs_all=cudf.concat(df_intersecting_pairs_lst)\n",
    "#     return df_intersecting_pairs_all"
   ]
  },
  {
   "cell_type": "code",
   "execution_count": 10,
   "id": "93f195df",
   "metadata": {
    "ExecuteTime": {
     "end_time": "2021-10-02T05:43:02.247315Z",
     "start_time": "2021-10-02T05:43:02.226481Z"
    }
   },
   "outputs": [],
   "source": [
    "#DONE: figure out if there's an elegant was to use the cudf api  to do this\n",
    "#for each group of event_id_int's :\n",
    "#compare every particle to every other particle in a simple way\n",
    "#compare every particle to every other particle to determine if the self,other pair intersects nontrivially\n",
    "\n",
    "#DONE: determine condition for whether each pair is intersecting for at least two times \n",
    "# two particles exist for at least two times if both\n",
    "#if other has a tmin > tmin of self\n",
    "#AND if other has a tmax < tmax of self, \n",
    "\n",
    "# #DONE: construct the graph of all edges... this wasn't useful...\n",
    "# G = cugraph.Graph()\n",
    "# G.from_cudf_edgelist(df_pairs, source='src', destination='dst', edge_attr='dst')\n",
    "# # # Let's now get the PageRank score of each vertex by calling cugraph.pagerank\n",
    "# # df_page = cugraph.pagerank(G)\n",
    "# # df_page.head()"
   ]
  },
  {
   "cell_type": "code",
   "execution_count": 11,
   "id": "7a41e5fd",
   "metadata": {
    "ExecuteTime": {
     "end_time": "2021-10-02T05:43:02.269487Z",
     "start_time": "2021-10-02T05:43:02.248496Z"
    }
   },
   "outputs": [],
   "source": [
    "#DONE: compute which edges are intersecting\n",
    "#DONE: compute tmin and tmax for each intersecting edge\n",
    "#DONE: compute duration for each intersecting edge\n",
    "#DONE: sort edges by duration\n",
    "#DONE: visualize the histogram of durations of intersecting edges\n",
    "#DONE: consider a minimum_duration_threshold that is at least tavg2 if not specified"
   ]
  },
  {
   "cell_type": "markdown",
   "id": "34053f25",
   "metadata": {},
   "source": [
    "# TODO: compute dRdt versus 1/R for unconstrained random samples from smoothed and validated trajectories"
   ]
  },
  {
   "cell_type": "markdown",
   "id": "77eb81fa",
   "metadata": {},
   "source": [
    "__Note:__ cugraph is a great tool for complex problems that happen in terms of graphs that benefit from visualization.  My graph problem is low-level, and therefore it does not appear beneficial for me to use cugraph here."
   ]
  },
  {
   "cell_type": "code",
   "execution_count": 12,
   "id": "3df04a4d",
   "metadata": {
    "ExecuteTime": {
     "end_time": "2021-10-02T05:43:02.296313Z",
     "start_time": "2021-10-02T05:43:02.270896Z"
    }
   },
   "outputs": [],
   "source": [
    "#define parameters\n",
    "trial_col='event_id_int'\n",
    "pid_col='particle' \n",
    "t_col='t' \n",
    "width=200\n",
    "height=200\n",
    "tmin=100.\n",
    "printing=True\n",
    "\n",
    "tavg2=0.\n",
    "minimum_duration_threshold=tavg2\n",
    "minimum_duration_threshold=25 #ms"
   ]
  },
  {
   "cell_type": "code",
   "execution_count": null,
   "id": "eefe077e",
   "metadata": {
    "ExecuteTime": {
     "end_time": "2021-10-02T05:28:24.534330Z",
     "start_time": "2021-10-02T05:28:24.507080Z"
    }
   },
   "outputs": [],
   "source": []
  },
  {
   "cell_type": "code",
   "execution_count": 13,
   "id": "0c46bd2c",
   "metadata": {
    "ExecuteTime": {
     "end_time": "2021-10-02T05:43:03.575691Z",
     "start_time": "2021-10-02T05:43:02.297471Z"
    },
    "run_control": {
     "marked": false
    }
   },
   "outputs": [
    {
     "name": "stdout",
     "output_type": "stream",
     "text": [
      "DT=0.5 ms\n"
     ]
    }
   ],
   "source": [
    "#recall a couple postprocessed single trials\n",
    "input_fn=f\"/home/timothytyree/Documents/GitHub/care/notebooks/Data/initial-conditions-suite-3-LR/param_qu_tmax_30_Ko_5.4_diffCoef_0.0005_dt_0.5/smoothed_trajectories_navg_8/ic002.11_traj_sr_600_mem_0_smoothed.csv\"\n",
    "input_fn2=f\"/home/timothytyree/Documents/GitHub/care/notebooks/Data/initial-conditions-suite-3-LR/param_qu_tmax_30_Ko_5.4_diffCoef_0.0005_dt_0.5/smoothed_trajectories_navg_8/ic002.12_traj_sr_600_mem_0_smoothed.csv\"\n",
    "input_fn_lst=[input_fn,input_fn2]\n",
    "df=dask_cudf.read_csv(input_fn_lst).compute()\n",
    "type(df)\n",
    "\n",
    "df=df.sort_values([trial_col,pid_col, t_col], ascending=True).copy()\n",
    "DT=get_DT_cu(df,t_col,pid_col)\n",
    "navg2=int(tavg2/DT)\n",
    "if printing:\n",
    "    print(f\"DT={DT} ms\")"
   ]
  },
  {
   "cell_type": "code",
   "execution_count": 14,
   "id": "2c9a657f",
   "metadata": {
    "ExecuteTime": {
     "end_time": "2021-10-02T05:43:03.651927Z",
     "start_time": "2021-10-02T05:43:03.577279Z"
    }
   },
   "outputs": [],
   "source": [
    "#compute the intermediate dataframe of particle start/end times\n",
    "grouped=df.groupby([trial_col,pid_col])\n",
    "dft=grouped[t_col]\n",
    "dff=cudf.DataFrame({\n",
    "    'tmin':dft.min(),\n",
    "    'tmax':dft.max(),\n",
    "})\n",
    "dff.reset_index(inplace=True)\n",
    "# dff.head()"
   ]
  },
  {
   "cell_type": "code",
   "execution_count": null,
   "id": "e943c6cf",
   "metadata": {
    "ExecuteTime": {
     "end_time": "2021-10-02T05:37:03.036722Z",
     "start_time": "2021-10-02T05:37:03.016523Z"
    }
   },
   "outputs": [],
   "source": []
  },
  {
   "cell_type": "code",
   "execution_count": 15,
   "id": "54ab553f",
   "metadata": {
    "ExecuteTime": {
     "end_time": "2021-10-02T05:43:09.366909Z",
     "start_time": "2021-10-02T05:43:03.653001Z"
    }
   },
   "outputs": [
    {
     "name": "stdout",
     "output_type": "stream",
     "text": [
      "using 6 cores to identify pairs of particles that coexist over 2 independent trials...\n",
      "the run time was 0.09 minutes.\n",
      "the number of successfully processed trials was 2\n"
     ]
    },
    {
     "data": {
      "text/html": [
       "<div>\n",
       "<style scoped>\n",
       "    .dataframe tbody tr th:only-of-type {\n",
       "        vertical-align: middle;\n",
       "    }\n",
       "\n",
       "    .dataframe tbody tr th {\n",
       "        vertical-align: top;\n",
       "    }\n",
       "\n",
       "    .dataframe thead th {\n",
       "        text-align: right;\n",
       "    }\n",
       "</style>\n",
       "<table border=\"1\" class=\"dataframe\">\n",
       "  <thead>\n",
       "    <tr style=\"text-align: right;\">\n",
       "      <th></th>\n",
       "      <th>pid_self</th>\n",
       "      <th>pid_other</th>\n",
       "      <th>tmin_self</th>\n",
       "      <th>tmin_other</th>\n",
       "      <th>tmax_self</th>\n",
       "      <th>tmax_other</th>\n",
       "      <th>tmin</th>\n",
       "      <th>tmax</th>\n",
       "      <th>duration</th>\n",
       "      <th>event_id_int</th>\n",
       "    </tr>\n",
       "  </thead>\n",
       "  <tbody>\n",
       "    <tr>\n",
       "      <th>0</th>\n",
       "      <td>5035</td>\n",
       "      <td>5038</td>\n",
       "      <td>8684.5</td>\n",
       "      <td>8707.5</td>\n",
       "      <td>8740.5</td>\n",
       "      <td>8769.5</td>\n",
       "      <td>8707.5</td>\n",
       "      <td>8740.5</td>\n",
       "      <td>33.0</td>\n",
       "      <td>1002116000</td>\n",
       "    </tr>\n",
       "    <tr>\n",
       "      <th>1</th>\n",
       "      <td>5035</td>\n",
       "      <td>5037</td>\n",
       "      <td>8684.5</td>\n",
       "      <td>8693.0</td>\n",
       "      <td>8740.5</td>\n",
       "      <td>8769.5</td>\n",
       "      <td>8693.0</td>\n",
       "      <td>8740.5</td>\n",
       "      <td>47.5</td>\n",
       "      <td>1002116000</td>\n",
       "    </tr>\n",
       "    <tr>\n",
       "      <th>2</th>\n",
       "      <td>5035</td>\n",
       "      <td>5040</td>\n",
       "      <td>8684.5</td>\n",
       "      <td>8707.5</td>\n",
       "      <td>8740.5</td>\n",
       "      <td>8801.5</td>\n",
       "      <td>8707.5</td>\n",
       "      <td>8740.5</td>\n",
       "      <td>33.0</td>\n",
       "      <td>1002116000</td>\n",
       "    </tr>\n",
       "    <tr>\n",
       "      <th>3</th>\n",
       "      <td>5035</td>\n",
       "      <td>5061</td>\n",
       "      <td>8684.5</td>\n",
       "      <td>8727.0</td>\n",
       "      <td>8740.5</td>\n",
       "      <td>8843.0</td>\n",
       "      <td>8727.0</td>\n",
       "      <td>8740.5</td>\n",
       "      <td>13.5</td>\n",
       "      <td>1002116000</td>\n",
       "    </tr>\n",
       "    <tr>\n",
       "      <th>4</th>\n",
       "      <td>5035</td>\n",
       "      <td>4976</td>\n",
       "      <td>8684.5</td>\n",
       "      <td>8586.0</td>\n",
       "      <td>8740.5</td>\n",
       "      <td>8693.0</td>\n",
       "      <td>8684.5</td>\n",
       "      <td>8693.0</td>\n",
       "      <td>8.5</td>\n",
       "      <td>1002116000</td>\n",
       "    </tr>\n",
       "  </tbody>\n",
       "</table>\n",
       "</div>"
      ],
      "text/plain": [
       "   pid_self  pid_other  tmin_self  tmin_other  tmax_self  tmax_other    tmin  \\\n",
       "0      5035       5038     8684.5      8707.5     8740.5      8769.5  8707.5   \n",
       "1      5035       5037     8684.5      8693.0     8740.5      8769.5  8693.0   \n",
       "2      5035       5040     8684.5      8707.5     8740.5      8801.5  8707.5   \n",
       "3      5035       5061     8684.5      8727.0     8740.5      8843.0  8727.0   \n",
       "4      5035       4976     8684.5      8586.0     8740.5      8693.0  8684.5   \n",
       "\n",
       "     tmax  duration  event_id_int  \n",
       "0  8740.5      33.0    1002116000  \n",
       "1  8740.5      47.5    1002116000  \n",
       "2  8740.5      33.0    1002116000  \n",
       "3  8740.5      13.5    1002116000  \n",
       "4  8693.0       8.5    1002116000  "
      ]
     },
     "execution_count": 15,
     "metadata": {},
     "output_type": "execute_result"
    }
   ],
   "source": [
    "df_intersecting_pairs_all=identify_all_coexisting_pairs(df=dff,pid_col=pid_col,t_col=t_col,trial_col=trial_col)\n",
    "df_intersecting_pairs_all.head()"
   ]
  },
  {
   "cell_type": "code",
   "execution_count": 16,
   "id": "10931b71",
   "metadata": {
    "ExecuteTime": {
     "end_time": "2021-10-02T05:43:09.396093Z",
     "start_time": "2021-10-02T05:43:09.368573Z"
    }
   },
   "outputs": [
    {
     "name": "stdout",
     "output_type": "stream",
     "text": [
      "verified that the duration is strictly positive for all pairs of tips that coexist nontrivially\n"
     ]
    }
   ],
   "source": [
    "#test that duration is strictly positive\n",
    "assert ( (df_intersecting_pairs_all['duration']>0).all() )\n",
    "if printing:\n",
    "    print (f\"verified that the duration is strictly positive for all pairs of tips that coexist nontrivially\")"
   ]
  },
  {
   "cell_type": "code",
   "execution_count": 17,
   "id": "ed57b10e",
   "metadata": {
    "ExecuteTime": {
     "end_time": "2021-10-02T05:43:10.103339Z",
     "start_time": "2021-10-02T05:43:09.397859Z"
    }
   },
   "outputs": [
    {
     "data": {
      "image/png": "[encoded data removed]",
      "text/plain": [
       "<Figure size 504x288 with 1 Axes>"
      ]
     },
     "metadata": {},
     "output_type": "display_data"
    }
   ],
   "source": [
    "#plot histogram of durations\n",
    "fontsize=20\n",
    "#DONE: histograms sanity check df_intersecting_pairs\n",
    "#DONE: verify that routine gives different values for different event_id_int\n",
    "fig,ax=plt.subplots(figsize=(7,4))\n",
    "yv=np.linspace(0,0.02,10)\n",
    "ax.plot(minimum_duration_threshold+0.*yv,yv,'gray',lw=2, linestyle='dashed', label='threshold')\n",
    "trial_col_lst=sorted(df_intersecting_pairs_all[trial_col].drop_duplicates().values.get())\n",
    "for trial in trial_col_lst[:5]:\n",
    "    df_intersecting_pairs_all.query(f\"{trial_col} == {trial}\")['duration'].to_pandas().hist(density=True,bins=50,ax=ax,label=trial)#,color='event_id_int')\n",
    "format_plot(ax, xlabel='duration of pair coexistance (ms)', ylabel='probability density', fontsize=fontsize, use_loglog=False)\n",
    "\n",
    "ax.legend(fontsize=fontsize)\n",
    "plt.tight_layout()\n",
    "plt.show()\n",
    "#DONE: wrap generation of df_intersecting_pairs into a function \n",
    "#DONE: include event_id_int outside ^that function\n",
    "#DONE: accumulate df_intersecting_pairs_all over all event_id_int_values"
   ]
  },
  {
   "cell_type": "code",
   "execution_count": 18,
   "id": "a537a0ef",
   "metadata": {
    "ExecuteTime": {
     "end_time": "2021-10-02T05:43:10.130689Z",
     "start_time": "2021-10-02T05:43:10.104347Z"
    }
   },
   "outputs": [
    {
     "name": "stdout",
     "output_type": "stream",
     "text": [
      "Index(['index', 'x', 'y', 't', 'particle', 'event_id_int', 'dx_unwrap',\n",
      "       'dy_unwrap'],\n",
      "      dtype='object')\n",
      "Index(['pid_self', 'pid_other', 'tmin_self', 'tmin_other', 'tmax_self',\n",
      "       'tmax_other', 'tmin', 'tmax', 'duration', 'event_id_int'],\n",
      "      dtype='object')\n"
     ]
    }
   ],
   "source": [
    "#filter by duration_threshold\n",
    "use_duration_threshold=True\n",
    "if use_duration_threshold:\n",
    "    pass\n",
    "df_pairs=df_intersecting_pairs_all[df_intersecting_pairs_all['duration']>minimum_duration_threshold]\n",
    "#TODO:compute the distance in x between any points where two spiral tips occur at the same time in t\n",
    "#is the best way to do this to project to cupy and to run all rows in  together in a daskbag?\n",
    "print(df.head().columns)\n",
    "print(df_pairs.head().columns)"
   ]
  },
  {
   "cell_type": "code",
   "execution_count": 19,
   "id": "417c8e43",
   "metadata": {
    "ExecuteTime": {
     "end_time": "2021-10-02T05:43:10.181229Z",
     "start_time": "2021-10-02T05:43:10.132537Z"
    }
   },
   "outputs": [
    {
     "data": {
      "text/html": [
       "<div>\n",
       "<style scoped>\n",
       "    .dataframe tbody tr th:only-of-type {\n",
       "        vertical-align: middle;\n",
       "    }\n",
       "\n",
       "    .dataframe tbody tr th {\n",
       "        vertical-align: top;\n",
       "    }\n",
       "\n",
       "    .dataframe thead th {\n",
       "        text-align: right;\n",
       "    }\n",
       "</style>\n",
       "<table border=\"1\" class=\"dataframe\">\n",
       "  <thead>\n",
       "    <tr style=\"text-align: right;\">\n",
       "      <th></th>\n",
       "      <th>pid_self</th>\n",
       "      <th>pid_other</th>\n",
       "      <th>tmin_self</th>\n",
       "      <th>tmin_other</th>\n",
       "      <th>tmax_self</th>\n",
       "      <th>tmax_other</th>\n",
       "      <th>tmin</th>\n",
       "      <th>tmax</th>\n",
       "      <th>duration</th>\n",
       "      <th>event_id_int</th>\n",
       "    </tr>\n",
       "  </thead>\n",
       "  <tbody>\n",
       "    <tr>\n",
       "      <th>0</th>\n",
       "      <td>5035</td>\n",
       "      <td>5038</td>\n",
       "      <td>8684.5</td>\n",
       "      <td>8707.5</td>\n",
       "      <td>8740.5</td>\n",
       "      <td>8769.5</td>\n",
       "      <td>8707.5</td>\n",
       "      <td>8740.5</td>\n",
       "      <td>33.0</td>\n",
       "      <td>1002116000</td>\n",
       "    </tr>\n",
       "    <tr>\n",
       "      <th>1</th>\n",
       "      <td>5035</td>\n",
       "      <td>5037</td>\n",
       "      <td>8684.5</td>\n",
       "      <td>8693.0</td>\n",
       "      <td>8740.5</td>\n",
       "      <td>8769.5</td>\n",
       "      <td>8693.0</td>\n",
       "      <td>8740.5</td>\n",
       "      <td>47.5</td>\n",
       "      <td>1002116000</td>\n",
       "    </tr>\n",
       "    <tr>\n",
       "      <th>2</th>\n",
       "      <td>5035</td>\n",
       "      <td>5040</td>\n",
       "      <td>8684.5</td>\n",
       "      <td>8707.5</td>\n",
       "      <td>8740.5</td>\n",
       "      <td>8801.5</td>\n",
       "      <td>8707.5</td>\n",
       "      <td>8740.5</td>\n",
       "      <td>33.0</td>\n",
       "      <td>1002116000</td>\n",
       "    </tr>\n",
       "    <tr>\n",
       "      <th>3</th>\n",
       "      <td>5035</td>\n",
       "      <td>5061</td>\n",
       "      <td>8684.5</td>\n",
       "      <td>8727.0</td>\n",
       "      <td>8740.5</td>\n",
       "      <td>8843.0</td>\n",
       "      <td>8727.0</td>\n",
       "      <td>8740.5</td>\n",
       "      <td>13.5</td>\n",
       "      <td>1002116000</td>\n",
       "    </tr>\n",
       "    <tr>\n",
       "      <th>4</th>\n",
       "      <td>5035</td>\n",
       "      <td>4976</td>\n",
       "      <td>8684.5</td>\n",
       "      <td>8586.0</td>\n",
       "      <td>8740.5</td>\n",
       "      <td>8693.0</td>\n",
       "      <td>8684.5</td>\n",
       "      <td>8693.0</td>\n",
       "      <td>8.5</td>\n",
       "      <td>1002116000</td>\n",
       "    </tr>\n",
       "  </tbody>\n",
       "</table>\n",
       "</div>"
      ],
      "text/plain": [
       "   pid_self  pid_other  tmin_self  tmin_other  tmax_self  tmax_other    tmin  \\\n",
       "0      5035       5038     8684.5      8707.5     8740.5      8769.5  8707.5   \n",
       "1      5035       5037     8684.5      8693.0     8740.5      8769.5  8693.0   \n",
       "2      5035       5040     8684.5      8707.5     8740.5      8801.5  8707.5   \n",
       "3      5035       5061     8684.5      8727.0     8740.5      8843.0  8727.0   \n",
       "4      5035       4976     8684.5      8586.0     8740.5      8693.0  8684.5   \n",
       "\n",
       "     tmax  duration  event_id_int  \n",
       "0  8740.5      33.0    1002116000  \n",
       "1  8740.5      47.5    1002116000  \n",
       "2  8740.5      33.0    1002116000  \n",
       "3  8740.5      13.5    1002116000  \n",
       "4  8693.0       8.5    1002116000  "
      ]
     },
     "execution_count": 19,
     "metadata": {},
     "output_type": "execute_result"
    }
   ],
   "source": [
    "df_intersecting_pairs_all.head()"
   ]
  },
  {
   "cell_type": "code",
   "execution_count": 20,
   "id": "c62c2381",
   "metadata": {
    "ExecuteTime": {
     "end_time": "2021-10-02T05:43:10.208260Z",
     "start_time": "2021-10-02T05:43:10.182502Z"
    }
   },
   "outputs": [],
   "source": [
    "#TODO(IMMEDIATE FOLLOWUP GOAL): show how insensitive a is to choice in navg1 (and/or navg2 if I'm using it!)\n",
    "#GOAL_QUESTION: does there exist a tavg1 that produces the right expected a for a single termination event??"
   ]
  },
  {
   "cell_type": "code",
   "execution_count": 21,
   "id": "09b695ce",
   "metadata": {
    "ExecuteTime": {
     "end_time": "2021-10-02T05:43:10.230152Z",
     "start_time": "2021-10-02T05:43:10.209581Z"
    }
   },
   "outputs": [],
   "source": [
    "#TODO: estimate an ensemble averaged a estimate\n",
    "#TODO: augment df_interacting_pairs with estimates for a for individual pairs of particles\n",
    "#TODO: use ^that to filter based on Rsq or Delta_a and recompute an ensemble averaged a estimate"
   ]
  }
 ],
 "metadata": {
  "kernelspec": {
   "display_name": "Python 3 (ipykernel)",
   "language": "python",
   "name": "python3"
  },
  "language_info": {
   "codemirror_mode": {
    "name": "ipython",
    "version": 3
   },
   "file_extension": ".py",
   "mimetype": "text/x-python",
   "name": "python",
   "nbconvert_exporter": "python",
   "pygments_lexer": "ipython3",
   "version": "3.7.10"
  },
  "toc": {
   "base_numbering": 1,
   "nav_menu": {},
   "number_sections": true,
   "sideBar": true,
   "skip_h1_title": false,
   "title_cell": "Table of Contents",
   "title_sidebar": "Contents",
   "toc_cell": false,
   "toc_position": {},
   "toc_section_display": true,
   "toc_window_display": false
  },
  "varInspector": {
   "cols": {
    "lenName": 16,
    "lenType": 16,
    "lenVar": 40
   },
   "kernels_config": {
    "python": {
     "delete_cmd_postfix": "",
     "delete_cmd_prefix": "del ",
     "library": "var_list.py",
     "varRefreshCmd": "print(var_dic_list())"
    },
    "r": {
     "delete_cmd_postfix": ") ",
     "delete_cmd_prefix": "rm(",
     "library": "var_list.r",
     "varRefreshCmd": "cat(var_dic_list()) "
    }
   },
   "types_to_exclude": [
    "module",
    "function",
    "builtin_function_or_method",
    "instance",
    "_Feature"
   ],
   "window_display": false
  }
 },
 "nbformat": 4,
 "nbformat_minor": 5
}
