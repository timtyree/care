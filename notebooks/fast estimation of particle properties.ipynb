{
 "cells": [
  {
   "cell_type": "markdown",
   "id": "f3bceb72",
   "metadata": {},
   "source": [
    "# fast estimation of particle properties\n",
    "Tim Tyree<br>\n",
    "9.29.2021<br>\n",
    "`conda activate pyenv_ub`"
   ]
  },
  {
   "cell_type": "markdown",
   "id": "4a6c1227",
   "metadata": {},
   "source": [
    "__GOALS__:\n",
    "- DONE: compute dRdt versus 1/R for unconstrained random samples from smoothed and validated trajectories\n",
    "- TODO: compute a from a bootstrap of 1/R versus a for one input_fn\n",
    "- TODO: compute a from a bootstrap of 1/R versus a for one input_fn_lst\n",
    "- TODO: compute a from a bootstrap of 1/R versus a for each input_fn_lst\n",
    "- TODO: repeat for measuring ensemble MSD to give the diffusion coefficient, D\n",
    "- TODO(later?): efficiently generate an _inline_ rendering of dRdt versus 1/R and MSD versus tau using dashly.  try the solution suggested on my stackoverflow post\n",
    "- TODO: generate a .bluf for each input_fn_lst to document the particle property measurements\n",
    "- TODO: show qualitative insenstivity to choice in navg1 and navg2"
   ]
  },
  {
   "cell_type": "markdown",
   "id": "b8bdb43b",
   "metadata": {},
   "source": [
    "__TODO(later):__ bug mike to make certain that for the 99.95% accurate decoder, that the i^th neuron for the Match trials is the same as the i^th neuron for the Mismatch trials for all i neuron-units considered."
   ]
  },
  {
   "cell_type": "markdown",
   "id": "8979d32a",
   "metadata": {},
   "source": [
    "howdo hierarchical multi-indexing: https://pandas.pydata.org/pandas-docs/stable/user_guide/advanced.html#hierarchical-indexing-multiindex"
   ]
  },
  {
   "cell_type": "code",
   "execution_count": 1,
   "id": "6c811d0a",
   "metadata": {
    "ExecuteTime": {
     "end_time": "2021-10-26T22:03:25.738748Z",
     "start_time": "2021-10-26T22:03:21.435444Z"
    }
   },
   "outputs": [
    {
     "name": "stdout",
     "output_type": "stream",
     "text": [
      "Automatic calling is: Smart\n"
     ]
    }
   ],
   "source": [
    "from lib.my_initialization import *\n",
    "from lib import *\n",
    "# from lib.measure.unwrap_and_smooth_cu import *\n",
    "# from lib.rapids_func import *\n",
    "# .routines.unwrap_and_smooth_trajectories_cu import *\n",
    "\n",
    "import itertools\n",
    "import dask_cudf\n",
    "from lib.rapids_func import *\n",
    "get_DT_cu\n",
    "\n",
    "#magic    \n",
    "%autocall 1\n",
    "%load_ext autoreload\n",
    "%autoreload 2\n",
    "\n",
    "import cupy as cp, cudf, numba.cuda as cuda\n",
    "import rmm\n",
    "# Switch to RMM allocator\n",
    "cp.cuda.set_allocator(rmm.rmm_cupy_allocator)"
   ]
  },
  {
   "cell_type": "code",
   "execution_count": 2,
   "id": "66b8882d",
   "metadata": {
    "ExecuteTime": {
     "end_time": "2021-10-26T22:03:25.802375Z",
     "start_time": "2021-10-26T22:03:25.783891Z"
    }
   },
   "outputs": [],
   "source": [
    "darkmode=False\n",
    "if darkmode:\n",
    "    # For darkmode plots\n",
    "    from jupyterthemes import jtplot\n",
    "    jtplot.style(theme='monokai', context='notebook', ticks=True, grid=False)"
   ]
  },
  {
   "cell_type": "code",
   "execution_count": 3,
   "id": "24c55ed8",
   "metadata": {
    "ExecuteTime": {
     "end_time": "2021-10-26T22:03:25.870107Z",
     "start_time": "2021-10-26T22:03:25.851162Z"
    }
   },
   "outputs": [
    {
     "data": {
      "text/plain": [
       "<function lib.measure.bootstrap.bootstrap_95CI_Delta_mean(x, num_samples=1000)>"
      ]
     },
     "execution_count": 3,
     "metadata": {},
     "output_type": "execute_result"
    }
   ],
   "source": [
    "bootstrap_95CI_Delta_mean"
   ]
  },
  {
   "cell_type": "markdown",
   "id": "08f6fce5",
   "metadata": {
    "ExecuteTime": {
     "end_time": "2021-09-30T07:44:21.858663Z",
     "start_time": "2021-09-30T07:44:21.823646Z"
    }
   },
   "source": [
    "# (optional) postprocess a token trajectory file\n",
    "- Nota Bene: batch computation is already automated and optimized in 'fast postprocessing a list of trajectory folders.ipynb'"
   ]
  },
  {
   "cell_type": "code",
   "execution_count": 6,
   "id": "77afb185",
   "metadata": {
    "ExecuteTime": {
     "end_time": "2021-10-26T22:05:36.822764Z",
     "start_time": "2021-10-26T22:05:36.798398Z"
    }
   },
   "outputs": [],
   "source": [
    "tavg1=4#8#4 #moving average window, in ms\n",
    "\n",
    "# tavg2=12#24 #ms #savgol_filter time window performed on R \n",
    "tavg2=24# #ms #savgol_filter time window performed on R  #12 ms was no longer smooth\n",
    "# tavg2=10.# #ms #savgol_filter time window performed on R  #12 ms was no longer smooth"
   ]
  },
  {
   "cell_type": "code",
   "execution_count": 9,
   "id": "671a2540",
   "metadata": {
    "ExecuteTime": {
     "end_time": "2021-10-26T22:06:06.573611Z",
     "start_time": "2021-10-26T22:06:06.547797Z"
    }
   },
   "outputs": [
    {
     "name": "stdout",
     "output_type": "stream",
     "text": [
      "/home/timothytyree/Documents/GitHub/bgmc/python/data/local_results/neighbors_1_uniformic_0_fc_2_r_0.1_D_0_L_10_kappa_1500_varkappa_5_N_2/Log/pbc_particle_log2_log.csv\n"
     ]
    }
   ],
   "source": [
    "#particle model token trajectories\n",
    "input_fn_lst = [\n",
    "    '/home/timothytyree/Documents/GitHub/bgmc/python/data/local_results/euic_False_fc_2_r_0.1_D_0_L_10_kappa_0_varkappa_0/Log/pbc_particle_log1_log.csv',\n",
    "    '/home/timothytyree/Documents/GitHub/bgmc/python/data/local_results/euic_False_fc_2_r_0.1_D_0_L_10_kappa_1500_varkappa_5/Log/pbc_particle_log2_log.csv',\n",
    "    '/home/timothytyree/Documents/GitHub/bgmc/python/data/local_results/euic_False_fc_2_r_0.1_D_2_L_10_kappa_0_varkappa_0/Log/pbc_particle_log5_log.csv',\n",
    "    '/home/timothytyree/Documents/GitHub/bgmc/python/data/local_results/euic_False_fc_2_r_0.1_D_2_L_10_kappa_1500_varkappa_0/Log/pbc_particle_log5_log.csv',\n",
    "    '/home/timothytyree/Documents/GitHub/bgmc/python/data/local_results/euic_False_fc_2_r_0.1_D_2_L_10_kappa_1500_varkappa_5/Log/pbc_particle_log5_log.csv'\n",
    "]\n",
    "\n",
    "\n",
    "\n",
    "input_fn=input_fn_lst[-1]\n",
    "\n",
    "\n",
    "# #neighbors=1\n",
    "input_fn='/home/timothytyree/Documents/GitHub/bgmc/python/data/local_results/neighbors_1_uniformic_0_fc_2_r_0.1_D_0_L_10_kappa_1500_varkappa_5_N_2/Log/pbc_particle_log2_log.csv' \n",
    "# # input_fn='/home/timothytyree/Documents/GitHub/bgmc/python/data/local_results/neighbors_1_uniformic_0_fc_2_r_0.1_D_0_L_10_kappa_1500_varkappa_5/Log/pbc_particle_log2_log.csv'  \n",
    "# # input_fn='/home/timothytyree/Documents/GitHub/bgmc/python/data/local_results/neighbors_1_uniformic_0_fc_2_r_0.1_D_2_L_10_kappa_1500_varkappa_5/Log/pbc_particle_log2_log.csv'\n",
    "\n",
    "\n",
    "print(input_fn)\n",
    "\n",
    "pid_col='pid_explicit'\n",
    "width=10\n",
    "ds=10. #cm for the whole domain\n",
    "tmin=0.\n",
    "c='C3'"
   ]
  },
  {
   "cell_type": "code",
   "execution_count": 10,
   "id": "62c062e3",
   "metadata": {
    "ExecuteTime": {
     "end_time": "2021-10-26T22:06:15.145638Z",
     "start_time": "2021-10-26T22:06:14.819290Z"
    }
   },
   "outputs": [
    {
     "name": "stdout",
     "output_type": "stream",
     "text": [
      "DT=0.25\n",
      "/home/timothytyree/Documents/GitHub/bgmc/python/data/local_results/neighbors_1_uniformic_0_fc_2_r_0.1_D_0_L_10_kappa_1500_varkappa_5_N_2/smoothed_trajectories_tavg_4/pbc_particle_log2_log_smoothed.csv\n"
     ]
    }
   ],
   "source": [
    "# input_fn=search_for_file()\n",
    "# c='C0'\n",
    "# # # # #token FK at DT=0.4\n",
    "# # input_fn=\"/home/timothytyree/Documents/GitHub/care/notebooks/Data/initial-conditions-fk-200x200/param_set_8_ds_5.0_tmax_10_diffCoef_0.0005/Log/ic200x200.0.2_traj_sr_400_mem_0.csv\"\n",
    "\n",
    "# c='C1'\n",
    "# # #tokenLR at DT=0.5\n",
    "# # input_fn=f\"/home/timothytyree/Documents/GitHub/care/notebooks/Data/initial-conditions-suite-3-LR/param_qu_tmax_30_Ko_5.4_diffCoef_0.0005_dt_0.5/trajectories/ic002.31_traj_sr_600_mem_0.csv\"\n",
    "# input_fn=f\"/home/timothytyree/Documents/GitHub/care/notebooks/Data/initial-conditions-suite-3-LR/param_qu_tmax_30_Ko_5.4_diffCoef_0.0005_dt_0.5/trajectories/ic002.11_traj_sr_600_mem_0.csv\"\n",
    "\n",
    "# pid_col='particle'\n",
    "# width=200\n",
    "# ds=5. #cm for the whole domain\n",
    "# tmin=100.\n",
    "\n",
    "\n",
    "#test routine on one file\n",
    "testing=True\n",
    "if testing:\n",
    "    t_col='t'\n",
    "    df=pd.read_csv(input_fn)\n",
    "    DT=np.around(get_DT(df, t_col=t_col, pid_col=pid_col),5);print(f\"DT={DT}\")\n",
    "    # ds=5 #cm\n",
    "    # DS=ds/width\n",
    "#     width=200\n",
    "    height=width\n",
    "    use_drop_shorter_than=True\n",
    "    drop_shorter_than=50 #ms\n",
    "#     tmin=100.#ms\n",
    "#     pid_col='particle'\n",
    "    \n",
    "    printing=False\n",
    "    navg1=int(tavg1/DT)\n",
    "    save_dir=return_moving_average_of_pbc_trajectories_and_save(\n",
    "            input_fn, tavg1, pid_col, t_col, DT, width, height,\n",
    "            use_drop_shorter_than, drop_shorter_than, tmin, printing)\n",
    "    print(save_dir)\n",
    "\n",
    "    df=load_smoothed_trajectories(save_dir,pid_col,t_col)\n",
    "    df.head()"
   ]
  },
  {
   "cell_type": "code",
   "execution_count": 13,
   "id": "ef9d76a3",
   "metadata": {
    "ExecuteTime": {
     "end_time": "2021-10-26T22:09:28.757807Z",
     "start_time": "2021-10-26T22:09:28.697555Z"
    }
   },
   "outputs": [
    {
     "data": {
      "text/html": [
       "<div>\n",
       "<style scoped>\n",
       "    .dataframe tbody tr th:only-of-type {\n",
       "        vertical-align: middle;\n",
       "    }\n",
       "\n",
       "    .dataframe tbody tr th {\n",
       "        vertical-align: top;\n",
       "    }\n",
       "\n",
       "    .dataframe thead th {\n",
       "        text-align: right;\n",
       "    }\n",
       "</style>\n",
       "<table border=\"1\" class=\"dataframe\">\n",
       "  <thead>\n",
       "    <tr style=\"text-align: right;\">\n",
       "      <th></th>\n",
       "      <th>index</th>\n",
       "      <th>x</th>\n",
       "      <th>y</th>\n",
       "      <th>t</th>\n",
       "      <th>pid_explicit</th>\n",
       "      <th>event_id_int</th>\n",
       "      <th>dx_unwrap</th>\n",
       "      <th>dy_unwrap</th>\n",
       "      <th>event_id</th>\n",
       "      <th>x_unwrap</th>\n",
       "      <th>y_unwrap</th>\n",
       "      <th>incol</th>\n",
       "    </tr>\n",
       "  </thead>\n",
       "  <tbody>\n",
       "    <tr>\n",
       "      <th>0</th>\n",
       "      <td>30</td>\n",
       "      <td>6.978070</td>\n",
       "      <td>7.605929</td>\n",
       "      <td>3.75</td>\n",
       "      <td>0</td>\n",
       "      <td>12</td>\n",
       "      <td>0.0</td>\n",
       "      <td>0.0</td>\n",
       "      <td>12.0</td>\n",
       "      <td>6.978070</td>\n",
       "      <td>7.605929</td>\n",
       "      <td>6.978070</td>\n",
       "    </tr>\n",
       "    <tr>\n",
       "      <th>1</th>\n",
       "      <td>32</td>\n",
       "      <td>6.978216</td>\n",
       "      <td>7.605731</td>\n",
       "      <td>4.00</td>\n",
       "      <td>0</td>\n",
       "      <td>12</td>\n",
       "      <td>0.0</td>\n",
       "      <td>0.0</td>\n",
       "      <td>12.0</td>\n",
       "      <td>6.978216</td>\n",
       "      <td>7.605731</td>\n",
       "      <td>6.978216</td>\n",
       "    </tr>\n",
       "    <tr>\n",
       "      <th>2</th>\n",
       "      <td>34</td>\n",
       "      <td>6.978361</td>\n",
       "      <td>7.605534</td>\n",
       "      <td>4.25</td>\n",
       "      <td>0</td>\n",
       "      <td>12</td>\n",
       "      <td>0.0</td>\n",
       "      <td>0.0</td>\n",
       "      <td>12.0</td>\n",
       "      <td>6.978361</td>\n",
       "      <td>7.605534</td>\n",
       "      <td>6.978361</td>\n",
       "    </tr>\n",
       "    <tr>\n",
       "      <th>3</th>\n",
       "      <td>36</td>\n",
       "      <td>6.978507</td>\n",
       "      <td>7.605336</td>\n",
       "      <td>4.50</td>\n",
       "      <td>0</td>\n",
       "      <td>12</td>\n",
       "      <td>0.0</td>\n",
       "      <td>0.0</td>\n",
       "      <td>12.0</td>\n",
       "      <td>6.978507</td>\n",
       "      <td>7.605336</td>\n",
       "      <td>6.978507</td>\n",
       "    </tr>\n",
       "    <tr>\n",
       "      <th>4</th>\n",
       "      <td>38</td>\n",
       "      <td>6.978652</td>\n",
       "      <td>7.605138</td>\n",
       "      <td>4.75</td>\n",
       "      <td>0</td>\n",
       "      <td>12</td>\n",
       "      <td>0.0</td>\n",
       "      <td>0.0</td>\n",
       "      <td>12.0</td>\n",
       "      <td>6.978652</td>\n",
       "      <td>7.605138</td>\n",
       "      <td>6.978652</td>\n",
       "    </tr>\n",
       "  </tbody>\n",
       "</table>\n",
       "</div>"
      ],
      "text/plain": [
       "   index         x         y     t  pid_explicit  event_id_int  dx_unwrap  \\\n",
       "0     30  6.978070  7.605929  3.75             0            12        0.0   \n",
       "1     32  6.978216  7.605731  4.00             0            12        0.0   \n",
       "2     34  6.978361  7.605534  4.25             0            12        0.0   \n",
       "3     36  6.978507  7.605336  4.50             0            12        0.0   \n",
       "4     38  6.978652  7.605138  4.75             0            12        0.0   \n",
       "\n",
       "   dy_unwrap  event_id  x_unwrap  y_unwrap     incol  \n",
       "0        0.0      12.0  6.978070  7.605929  6.978070  \n",
       "1        0.0      12.0  6.978216  7.605731  6.978216  \n",
       "2        0.0      12.0  6.978361  7.605534  6.978361  \n",
       "3        0.0      12.0  6.978507  7.605336  6.978507  \n",
       "4        0.0      12.0  6.978652  7.605138  6.978652  "
      ]
     },
     "execution_count": 13,
     "metadata": {},
     "output_type": "execute_result"
    }
   ],
   "source": [
    "df.head()"
   ]
  },
  {
   "cell_type": "code",
   "execution_count": 12,
   "id": "d53beb77",
   "metadata": {
    "ExecuteTime": {
     "end_time": "2021-10-26T22:06:32.718963Z",
     "start_time": "2021-10-26T22:06:32.458228Z"
    },
    "run_control": {
     "marked": true
    }
   },
   "outputs": [
    {
     "name": "stdout",
     "output_type": "stream",
     "text": [
      "DT=0.25 ms\n",
      "savistzky-golay time window in use: 24.25 ms\n",
      "using 1 cores to identify pairs of particles that coexist over 1 independent trials...\n"
     ]
    },
    {
     "ename": "IndexError",
     "evalue": "boolean index did not match",
     "output_type": "error",
     "traceback": [
      "\u001b[0;31m---------------------------------------------------------------------------\u001b[0m",
      "\u001b[0;31mIndexError\u001b[0m                                Traceback (most recent call last)",
      "\u001b[0;32m/tmp/ipykernel_65091/2218176945.py\u001b[0m in \u001b[0;36m<module>\u001b[0;34m\u001b[0m\n\u001b[1;32m     16\u001b[0m                                              \u001b[0msave_df_pairs\u001b[0m\u001b[0;34m=\u001b[0m\u001b[0;32mTrue\u001b[0m\u001b[0;34m,\u001b[0m\u001b[0;34m\u001b[0m\u001b[0;34m\u001b[0m\u001b[0m\n\u001b[1;32m     17\u001b[0m                                              \u001b[0mprinting\u001b[0m\u001b[0;34m=\u001b[0m\u001b[0;32mTrue\u001b[0m\u001b[0;34m,\u001b[0m\u001b[0;34m\u001b[0m\u001b[0;34m\u001b[0m\u001b[0m\n\u001b[0;32m---> 18\u001b[0;31m                                              testing=True)#,**kwargs)\n\u001b[0m",
      "\u001b[0;32m~/Documents/GitHub/care/notebooks/lib/rapids_func/measure/annihilations_cu.py\u001b[0m in \u001b[0;36mroutine_compute_radial_velocities_pbc_cu\u001b[0;34m(input_fn, tavg2, width, height, ds, max_dtmax_thresh, max_Rfinal_thresh, min_duration_thresh, round_t_to_n_digits, trial_col, pid_col, t_col, use_tavg2, save_df_pairs, printing, testing, **kwargs)\u001b[0m\n\u001b[1;32m    290\u001b[0m         \u001b[0mpid_col\u001b[0m\u001b[0;34m=\u001b[0m\u001b[0mpid_col\u001b[0m\u001b[0;34m,\u001b[0m\u001b[0;34m\u001b[0m\u001b[0;34m\u001b[0m\u001b[0m\n\u001b[1;32m    291\u001b[0m         \u001b[0mprinting\u001b[0m\u001b[0;34m=\u001b[0m\u001b[0mprinting\u001b[0m\u001b[0;34m,\u001b[0m\u001b[0;34m\u001b[0m\u001b[0;34m\u001b[0m\u001b[0m\n\u001b[0;32m--> 292\u001b[0;31m         testing=testing)\n\u001b[0m\u001b[1;32m    293\u001b[0m \u001b[0;34m\u001b[0m\u001b[0m\n\u001b[1;32m    294\u001b[0m \u001b[0;34m\u001b[0m\u001b[0m\n",
      "\u001b[0;32m~/Documents/GitHub/care/notebooks/lib/rapids_func/measure/annihilations_cu.py\u001b[0m in \u001b[0;36mcompute_radial_velocities_of_annihilations_cu\u001b[0;34m(df, navg2, DS, DT, width, height, max_dtmax_thresh, max_Rfinal_thresh, min_duration_thresh, use_tavg2, trial_col, pid_col, t_col, round_t_to_n_digits, printing, testing, **kwargs)\u001b[0m\n\u001b[1;32m    163\u001b[0m     \u001b[0mdfu\u001b[0m\u001b[0;34m.\u001b[0m\u001b[0mreset_index\u001b[0m\u001b[0;34m(\u001b[0m\u001b[0minplace\u001b[0m\u001b[0;34m=\u001b[0m\u001b[0;32mTrue\u001b[0m\u001b[0;34m)\u001b[0m\u001b[0;34m\u001b[0m\u001b[0;34m\u001b[0m\u001b[0m\n\u001b[1;32m    164\u001b[0m     df_intersecting_pairs_all = identify_all_coexisting_pairs(\n\u001b[0;32m--> 165\u001b[0;31m         df=dfu.copy(), pid_col=pid_col, t_col=t_col, trial_col=trial_col, printing=printing)\n\u001b[0m\u001b[1;32m    166\u001b[0m \u001b[0;34m\u001b[0m\u001b[0m\n\u001b[1;32m    167\u001b[0m     df_pairs = select_annihilating_pairs(df, df_intersecting_pairs_all, DS,\n",
      "\u001b[0;32m~/Documents/GitHub/care/notebooks/lib/rapids_func/measure/identify_all_coexisting_trajectory_pairs.py\u001b[0m in \u001b[0;36midentify_all_coexisting_pairs\u001b[0;34m(df, pid_col, t_col, trial_col, npartitions, use_dask, printing, **kwargs)\u001b[0m\n\u001b[1;32m     36\u001b[0m         \u001b[0;32mfor\u001b[0m \u001b[0mevent_id_int\u001b[0m \u001b[0;32min\u001b[0m \u001b[0mevent_id_int_values\u001b[0m\u001b[0;34m.\u001b[0m\u001b[0mget\u001b[0m\u001b[0;34m(\u001b[0m\u001b[0;34m)\u001b[0m\u001b[0;34m:\u001b[0m\u001b[0;34m\u001b[0m\u001b[0;34m\u001b[0m\u001b[0m\n\u001b[1;32m     37\u001b[0m             \u001b[0mdfff\u001b[0m\u001b[0;34m=\u001b[0m\u001b[0mdff\u001b[0m\u001b[0;34m[\u001b[0m\u001b[0mdff\u001b[0m\u001b[0;34m[\u001b[0m\u001b[0mtrial_col\u001b[0m\u001b[0;34m]\u001b[0m\u001b[0;34m==\u001b[0m\u001b[0mevent_id_int\u001b[0m\u001b[0;34m]\u001b[0m\u001b[0;34m\u001b[0m\u001b[0;34m\u001b[0m\u001b[0m\n\u001b[0;32m---> 38\u001b[0;31m             \u001b[0mdf_intersecting_pairs\u001b[0m\u001b[0;34m=\u001b[0m\u001b[0mcomp_intersecting_pairs_cu\u001b[0m\u001b[0;34m(\u001b[0m\u001b[0mdf\u001b[0m\u001b[0;34m=\u001b[0m\u001b[0mdfff\u001b[0m\u001b[0;34m,\u001b[0m\u001b[0mpid_col\u001b[0m\u001b[0;34m=\u001b[0m\u001b[0mpid_col\u001b[0m\u001b[0;34m,\u001b[0m\u001b[0mt_col\u001b[0m\u001b[0;34m=\u001b[0m\u001b[0mt_col\u001b[0m\u001b[0;34m)\u001b[0m\u001b[0;34m\u001b[0m\u001b[0;34m\u001b[0m\u001b[0m\n\u001b[0m\u001b[1;32m     39\u001b[0m             \u001b[0;31m#augment df_intersecting_pairs with any columns desired\u001b[0m\u001b[0;34m\u001b[0m\u001b[0;34m\u001b[0m\u001b[0;34m\u001b[0m\u001b[0m\n\u001b[1;32m     40\u001b[0m             \u001b[0mdf_intersecting_pairs\u001b[0m\u001b[0;34m[\u001b[0m\u001b[0mtrial_col\u001b[0m\u001b[0;34m]\u001b[0m\u001b[0;34m=\u001b[0m\u001b[0mevent_id_int\u001b[0m\u001b[0;34m\u001b[0m\u001b[0;34m\u001b[0m\u001b[0m\n",
      "\u001b[0;32m~/Documents/GitHub/care/notebooks/lib/rapids_func/utils/intersecting_pairs_cu.py\u001b[0m in \u001b[0;36mcomp_intersecting_pairs_cu\u001b[0;34m(df, pid_col, trial_col, **kwargs)\u001b[0m\n\u001b[1;32m     20\u001b[0m     \u001b[0mtmax_other_values\u001b[0m\u001b[0;34m=\u001b[0m\u001b[0mdfff\u001b[0m\u001b[0;34m.\u001b[0m\u001b[0mloc\u001b[0m\u001b[0;34m[\u001b[0m\u001b[0mindex_pair_values\u001b[0m\u001b[0;34m[\u001b[0m\u001b[0;34m:\u001b[0m\u001b[0;34m,\u001b[0m\u001b[0;36m1\u001b[0m\u001b[0;34m]\u001b[0m\u001b[0;34m,\u001b[0m\u001b[0;34m'tmax'\u001b[0m\u001b[0;34m]\u001b[0m\u001b[0;34m.\u001b[0m\u001b[0mvalues\u001b[0m\u001b[0;34m\u001b[0m\u001b[0;34m\u001b[0m\u001b[0m\n\u001b[1;32m     21\u001b[0m     \u001b[0mboo_intersecting\u001b[0m\u001b[0;34m=\u001b[0m\u001b[0;34m(\u001b[0m\u001b[0mtmin_other_values\u001b[0m\u001b[0;34m<\u001b[0m\u001b[0mtmax_self_values\u001b[0m\u001b[0;34m)\u001b[0m \u001b[0;34m&\u001b[0m \u001b[0;34m(\u001b[0m\u001b[0mtmax_other_values\u001b[0m\u001b[0;34m>\u001b[0m\u001b[0mtmin_self_values\u001b[0m\u001b[0;34m)\u001b[0m\u001b[0;34m\u001b[0m\u001b[0;34m\u001b[0m\u001b[0m\n\u001b[0;32m---> 22\u001b[0;31m     \u001b[0mintersecting_index_pair_values\u001b[0m\u001b[0;34m=\u001b[0m\u001b[0mindex_pair_values\u001b[0m\u001b[0;34m[\u001b[0m\u001b[0mboo_intersecting\u001b[0m\u001b[0;34m]\u001b[0m\u001b[0;34m\u001b[0m\u001b[0;34m\u001b[0m\u001b[0m\n\u001b[0m\u001b[1;32m     23\u001b[0m     \u001b[0;31m#query and record results\u001b[0m\u001b[0;34m\u001b[0m\u001b[0;34m\u001b[0m\u001b[0;34m\u001b[0m\u001b[0m\n\u001b[1;32m     24\u001b[0m     \u001b[0mcol_lst\u001b[0m\u001b[0;34m=\u001b[0m\u001b[0;34m[\u001b[0m\u001b[0mpid_col\u001b[0m\u001b[0;34m,\u001b[0m\u001b[0;34m'tmin'\u001b[0m\u001b[0;34m,\u001b[0m\u001b[0;34m'tmax'\u001b[0m\u001b[0;34m]\u001b[0m\u001b[0;34m\u001b[0m\u001b[0;34m\u001b[0m\u001b[0m\n",
      "\u001b[0;32mcupy/_core/core.pyx\u001b[0m in \u001b[0;36mcupy._core.core.ndarray.__getitem__\u001b[0;34m()\u001b[0m\n",
      "\u001b[0;32mcupy/_core/_routines_indexing.pyx\u001b[0m in \u001b[0;36mcupy._core._routines_indexing._ndarray_getitem\u001b[0;34m()\u001b[0m\n",
      "\u001b[0;32mcupy/_core/_routines_indexing.pyx\u001b[0m in \u001b[0;36mcupy._core._routines_indexing._getitem_mask_single\u001b[0;34m()\u001b[0m\n",
      "\u001b[0;32mcupy/_core/_routines_indexing.pyx\u001b[0m in \u001b[0;36mcupy._core._routines_indexing._prepare_mask_indexing_single\u001b[0;34m()\u001b[0m\n",
      "\u001b[0;31mIndexError\u001b[0m: boolean index did not match"
     ]
    }
   ],
   "source": [
    "# input_fn=f\"/home/timothytyree/Documents/GitHub/care/notebooks/Data/initial-conditions-suite-3-LR/param_qu_tmax_30_Ko_5.4_diffCoef_0.0005_dt_0.5/smoothed_trajectories_tavg_4/ic002.11_traj_sr_600_mem_0_smoothed.csv\"\n",
    "input_fn=save_dir\n",
    "dfr_dir=routine_compute_radial_velocities_pbc_cu(input_fn,\n",
    "                                             tavg2,\n",
    "                                             width,  #for handling periodic boundary conditions (pbc)\n",
    "                                             height, #for handling periodic boundary conditions (pbc)\n",
    "                                             ds,     #domain size in cm.  set to width to have nulled effect\n",
    "                                             max_dtmax_thresh = 0,      #ms\n",
    "                                             max_Rfinal_thresh = 0.2,   #cm\n",
    "                                             min_duration_thresh = 40,  #ms\n",
    "                                             round_t_to_n_digits=7,\n",
    "                                             trial_col='event_id_int',\n",
    "                                             pid_col=pid_col,\n",
    "                                             t_col='t',\n",
    "                                             use_tavg2=True,\n",
    "                                             save_df_pairs=True,\n",
    "                                             printing=True,\n",
    "                                             testing=True)#,**kwargs)"
   ]
  },
  {
   "cell_type": "markdown",
   "id": "91b4cf73",
   "metadata": {},
   "source": [
    "# estimate the attraction coefficient"
   ]
  },
  {
   "cell_type": "code",
   "execution_count": 9,
   "id": "c2d9fdd4",
   "metadata": {
    "ExecuteTime": {
     "end_time": "2021-10-12T00:17:31.685690Z",
     "start_time": "2021-10-12T00:17:31.651577Z"
    }
   },
   "outputs": [],
   "source": [
    "# def comp_a_SR(tdeath_values,SR_values,tmax):\n",
    "#     '''\n",
    "#     Example Usage:\n",
    "#     a_SR, Delta_a_SR, Rsq_a_SR = comp_a_SR(tdeath_values,SR_values,tmax)\n",
    "#     '''\n",
    "#     boo=tdeath_values<tmax\n",
    "#     x=tdeath_values[boo]/1000 #s\n",
    "#     y=SR_values[boo]# cm^2\n",
    "#     dict_force_fit=compute_95CI_ols(x,y)\n",
    "#     a_SR=dict_force_fit['m']/4\n",
    "#     Delta_a_SR=dict_force_fit['Delta_m']/4\n",
    "#     Rsq_a_SR=dict_force_fit['Rsquared']\n",
    "#     return a_SR, Delta_a_SR, Rsq_a_SR"
   ]
  },
  {
   "cell_type": "code",
   "execution_count": 10,
   "id": "bfdb77c8",
   "metadata": {
    "ExecuteTime": {
     "end_time": "2021-10-12T00:17:32.099871Z",
     "start_time": "2021-10-12T00:17:32.080607Z"
    }
   },
   "outputs": [],
   "source": [
    "# def routine_boostrap_tdeath_group(tdeath):\n",
    "#     x=df_r.loc[df_r['tdeath']==tdeath,'SR'].values\n",
    "#     #Delta_x, p_x = bootstrap_95CI_Delta_mean(x,num_samples=100)\n",
    "#     Delta_x, p_x = bootstrap_95CI_Delta_mean(x,num_samples=1000)\n",
    "#     return (tdeath,Delta_x, p_x)"
   ]
  },
  {
   "cell_type": "code",
   "execution_count": 7,
   "id": "07784b35",
   "metadata": {
    "ExecuteTime": {
     "end_time": "2021-10-13T19:38:13.674659Z",
     "start_time": "2021-10-13T19:38:13.654489Z"
    }
   },
   "outputs": [],
   "source": [
    "# input_fn=search_for_file()#'/home/timothytyree/Documents/GitHub/bgmc/python/data/local_results/euic_False_fc_2_r_0.1_D_2_L_10_kappa_1500_varkappa_5/')"
   ]
  },
  {
   "cell_type": "code",
   "execution_count": 4,
   "id": "72a688b4",
   "metadata": {
    "ExecuteTime": {
     "end_time": "2021-10-26T22:04:47.469628Z",
     "start_time": "2021-10-26T22:04:47.419540Z"
    }
   },
   "outputs": [],
   "source": [
    "# # #neighbors=1\n",
    "# input_fn='/home/timothytyree/Documents/GitHub/bgmc/python/data/local_results/neighbors_1_uniformic_0_fc_2_r_0.1_D_0_L_10_kappa_1500_varkappa_5_N_2/Log/pbc_particle_log2_log.csv' \n",
    "# # # input_fn='/home/timothytyree/Documents/GitHub/bgmc/python/data/local_results/neighbors_1_uniformic_0_fc_2_r_0.1_D_0_L_10_kappa_1500_varkappa_5/Log/pbc_particle_log2_log.csv'  \n",
    "# # # input_fn='/home/timothytyree/Documents/GitHub/bgmc/python/data/local_results/neighbors_1_uniformic_0_fc_2_r_0.1_D_2_L_10_kappa_1500_varkappa_5/Log/pbc_particle_log2_log.csv'\n",
    "\n",
    "\n",
    "#neighbors=0\n",
    "# input_fn='/home/timothytyree/Documents/GitHub/bgmc/python/data/local_results/euic_False_fc_2_r_0.1_D_2_L_10_kappa_1500_varkappa_5/smoothed_annihilations_tavg1_4.0_tavg2_14.25_maxdtmax_0_maxRfin_0.2_mindur_15/pbc_particle_log8_log_smoothed_annihilations_denoised.csv'\n",
    "input_fn_lst=get_all_files_matching_pattern(input_fn,'.csv')\n",
    "len(input_fn_lst)\n",
    "\n",
    "max_numfiles=50\n",
    "input_fn_lst=input_fn_lst[:max_numfiles]"
   ]
  },
  {
   "cell_type": "code",
   "execution_count": 5,
   "id": "45cbdca7",
   "metadata": {
    "ExecuteTime": {
     "end_time": "2021-10-26T22:04:50.249563Z",
     "start_time": "2021-10-26T22:04:48.370657Z"
    }
   },
   "outputs": [
    {
     "ename": "KeyError",
     "evalue": "'pid_self'",
     "output_type": "error",
     "traceback": [
      "\u001b[0;31m---------------------------------------------------------------------------\u001b[0m",
      "\u001b[0;31mKeyError\u001b[0m                                  Traceback (most recent call last)",
      "\u001b[0;32m/tmp/ipykernel_65091/4222479483.py\u001b[0m in \u001b[0;36m<module>\u001b[0;34m\u001b[0m\n\u001b[1;32m      1\u001b[0m \u001b[0mdfr\u001b[0m\u001b[0;34m=\u001b[0m\u001b[0mdask_cudf\u001b[0m\u001b[0;34m.\u001b[0m\u001b[0mread_csv\u001b[0m\u001b[0;34m(\u001b[0m\u001b[0minput_fn_lst\u001b[0m\u001b[0;34m)\u001b[0m\u001b[0;34m.\u001b[0m\u001b[0mcompute\u001b[0m\u001b[0;34m(\u001b[0m\u001b[0;34m)\u001b[0m\u001b[0;34m\u001b[0m\u001b[0;34m\u001b[0m\u001b[0m\n\u001b[0;32m----> 2\u001b[0;31m \u001b[0mDT\u001b[0m\u001b[0;34m=\u001b[0m\u001b[0mget_DT_cu\u001b[0m\u001b[0;34m(\u001b[0m\u001b[0mdfr\u001b[0m\u001b[0;34m,\u001b[0m \u001b[0mt_col\u001b[0m\u001b[0;34m=\u001b[0m\u001b[0;34m't'\u001b[0m\u001b[0;34m,\u001b[0m \u001b[0mpid_col\u001b[0m\u001b[0;34m=\u001b[0m\u001b[0;34m'pid_self'\u001b[0m\u001b[0;34m,\u001b[0m \u001b[0mround_digits\u001b[0m\u001b[0;34m=\u001b[0m\u001b[0;36m7\u001b[0m\u001b[0;34m)\u001b[0m\u001b[0;34m\u001b[0m\u001b[0;34m\u001b[0m\u001b[0m\n\u001b[0m\u001b[1;32m      3\u001b[0m \u001b[0mprint\u001b[0m\u001b[0;34m(\u001b[0m\u001b[0;34mf\"DT={DT}\"\u001b[0m\u001b[0;34m)\u001b[0m\u001b[0;34m\u001b[0m\u001b[0;34m\u001b[0m\u001b[0m\n\u001b[1;32m      4\u001b[0m \u001b[0;34m\u001b[0m\u001b[0m\n\u001b[1;32m      5\u001b[0m \u001b[0;31m# dfr=cudf.read_csv(dfr_dir)\u001b[0m\u001b[0;34m\u001b[0m\u001b[0;34m\u001b[0m\u001b[0;34m\u001b[0m\u001b[0m\n",
      "\u001b[0;32m~/Documents/GitHub/care/notebooks/lib/rapids_func/utils/utils_cu.py\u001b[0m in \u001b[0;36mget_DT_cu\u001b[0;34m(df, t_col, pid_col, round_digits)\u001b[0m\n\u001b[1;32m      1\u001b[0m \u001b[0;32mimport\u001b[0m \u001b[0mnumpy\u001b[0m \u001b[0;32mas\u001b[0m \u001b[0mnp\u001b[0m\u001b[0;34m,\u001b[0m \u001b[0mcudf\u001b[0m\u001b[0;34m,\u001b[0m \u001b[0mcupy\u001b[0m \u001b[0;32mas\u001b[0m \u001b[0mcp\u001b[0m\u001b[0;34m\u001b[0m\u001b[0;34m\u001b[0m\u001b[0m\n\u001b[1;32m      2\u001b[0m \u001b[0;32mdef\u001b[0m \u001b[0mget_DT_cu\u001b[0m\u001b[0;34m(\u001b[0m\u001b[0mdf\u001b[0m\u001b[0;34m,\u001b[0m\u001b[0mt_col\u001b[0m\u001b[0;34m=\u001b[0m\u001b[0;34m't'\u001b[0m\u001b[0;34m,\u001b[0m\u001b[0mpid_col\u001b[0m\u001b[0;34m=\u001b[0m\u001b[0;34m'particle'\u001b[0m\u001b[0;34m,\u001b[0m\u001b[0mround_digits\u001b[0m\u001b[0;34m=\u001b[0m\u001b[0;36m7\u001b[0m\u001b[0;34m)\u001b[0m\u001b[0;34m:\u001b[0m\u001b[0;34m\u001b[0m\u001b[0;34m\u001b[0m\u001b[0m\n\u001b[0;32m----> 3\u001b[0;31m     \u001b[0mpid_values\u001b[0m\u001b[0;34m=\u001b[0m\u001b[0mdf\u001b[0m\u001b[0;34m[\u001b[0m\u001b[0mpid_col\u001b[0m\u001b[0;34m]\u001b[0m\u001b[0;34m.\u001b[0m\u001b[0mdrop_duplicates\u001b[0m\u001b[0;34m(\u001b[0m\u001b[0;34m)\u001b[0m\u001b[0;34m.\u001b[0m\u001b[0mvalues\u001b[0m\u001b[0;34m\u001b[0m\u001b[0;34m\u001b[0m\u001b[0m\n\u001b[0m\u001b[1;32m      4\u001b[0m     \u001b[0;32mreturn\u001b[0m \u001b[0mfloat\u001b[0m\u001b[0;34m(\u001b[0m\u001b[0mnp\u001b[0m\u001b[0;34m.\u001b[0m\u001b[0maround\u001b[0m\u001b[0;34m(\u001b[0m\u001b[0mdf\u001b[0m\u001b[0;34m.\u001b[0m\u001b[0mloc\u001b[0m\u001b[0;34m[\u001b[0m\u001b[0mpid_values\u001b[0m\u001b[0;34m[\u001b[0m\u001b[0;36m0\u001b[0m\u001b[0;34m]\u001b[0m\u001b[0;34m==\u001b[0m\u001b[0mdf\u001b[0m\u001b[0;34m[\u001b[0m\u001b[0mpid_col\u001b[0m\u001b[0;34m]\u001b[0m\u001b[0;34m,\u001b[0m\u001b[0mt_col\u001b[0m\u001b[0;34m]\u001b[0m\u001b[0;34m.\u001b[0m\u001b[0mdiff\u001b[0m\u001b[0;34m(\u001b[0m\u001b[0;34m)\u001b[0m\u001b[0;34m.\u001b[0m\u001b[0mtail\u001b[0m\u001b[0;34m(\u001b[0m\u001b[0;36m1\u001b[0m\u001b[0;34m)\u001b[0m\u001b[0;34m.\u001b[0m\u001b[0mvalues\u001b[0m\u001b[0;34m.\u001b[0m\u001b[0mget\u001b[0m\u001b[0;34m(\u001b[0m\u001b[0;34m)\u001b[0m\u001b[0;34m,\u001b[0m\u001b[0mround_digits\u001b[0m\u001b[0;34m)\u001b[0m\u001b[0;34m)\u001b[0m\u001b[0;34m\u001b[0m\u001b[0;34m\u001b[0m\u001b[0m\n",
      "\u001b[0;32m~/anaconda3/envs/pyenv_ub/lib/python3.7/contextlib.py\u001b[0m in \u001b[0;36minner\u001b[0;34m(*args, **kwds)\u001b[0m\n\u001b[1;32m     72\u001b[0m         \u001b[0;32mdef\u001b[0m \u001b[0minner\u001b[0m\u001b[0;34m(\u001b[0m\u001b[0;34m*\u001b[0m\u001b[0margs\u001b[0m\u001b[0;34m,\u001b[0m \u001b[0;34m**\u001b[0m\u001b[0mkwds\u001b[0m\u001b[0;34m)\u001b[0m\u001b[0;34m:\u001b[0m\u001b[0;34m\u001b[0m\u001b[0;34m\u001b[0m\u001b[0m\n\u001b[1;32m     73\u001b[0m             \u001b[0;32mwith\u001b[0m \u001b[0mself\u001b[0m\u001b[0;34m.\u001b[0m\u001b[0m_recreate_cm\u001b[0m\u001b[0;34m(\u001b[0m\u001b[0;34m)\u001b[0m\u001b[0;34m:\u001b[0m\u001b[0;34m\u001b[0m\u001b[0;34m\u001b[0m\u001b[0m\n\u001b[0;32m---> 74\u001b[0;31m                 \u001b[0;32mreturn\u001b[0m \u001b[0mfunc\u001b[0m\u001b[0;34m(\u001b[0m\u001b[0;34m*\u001b[0m\u001b[0margs\u001b[0m\u001b[0;34m,\u001b[0m \u001b[0;34m**\u001b[0m\u001b[0mkwds\u001b[0m\u001b[0;34m)\u001b[0m\u001b[0;34m\u001b[0m\u001b[0;34m\u001b[0m\u001b[0m\n\u001b[0m\u001b[1;32m     75\u001b[0m         \u001b[0;32mreturn\u001b[0m \u001b[0minner\u001b[0m\u001b[0;34m\u001b[0m\u001b[0;34m\u001b[0m\u001b[0m\n\u001b[1;32m     76\u001b[0m \u001b[0;34m\u001b[0m\u001b[0m\n",
      "\u001b[0;32m~/anaconda3/envs/pyenv_ub/lib/python3.7/site-packages/cudf/core/dataframe.py\u001b[0m in \u001b[0;36m__getitem__\u001b[0;34m(self, arg)\u001b[0m\n\u001b[1;32m    679\u001b[0m         \"\"\"\n\u001b[1;32m    680\u001b[0m         \u001b[0;32mif\u001b[0m \u001b[0m_is_scalar_or_zero_d_array\u001b[0m\u001b[0;34m(\u001b[0m\u001b[0marg\u001b[0m\u001b[0;34m)\u001b[0m \u001b[0;32mor\u001b[0m \u001b[0misinstance\u001b[0m\u001b[0;34m(\u001b[0m\u001b[0marg\u001b[0m\u001b[0;34m,\u001b[0m \u001b[0mtuple\u001b[0m\u001b[0;34m)\u001b[0m\u001b[0;34m:\u001b[0m\u001b[0;34m\u001b[0m\u001b[0;34m\u001b[0m\u001b[0m\n\u001b[0;32m--> 681\u001b[0;31m             \u001b[0;32mreturn\u001b[0m \u001b[0mself\u001b[0m\u001b[0;34m.\u001b[0m\u001b[0m_get_columns_by_label\u001b[0m\u001b[0;34m(\u001b[0m\u001b[0marg\u001b[0m\u001b[0;34m,\u001b[0m \u001b[0mdowncast\u001b[0m\u001b[0;34m=\u001b[0m\u001b[0;32mTrue\u001b[0m\u001b[0;34m)\u001b[0m\u001b[0;34m\u001b[0m\u001b[0;34m\u001b[0m\u001b[0m\n\u001b[0m\u001b[1;32m    682\u001b[0m \u001b[0;34m\u001b[0m\u001b[0m\n\u001b[1;32m    683\u001b[0m         \u001b[0;32melif\u001b[0m \u001b[0misinstance\u001b[0m\u001b[0;34m(\u001b[0m\u001b[0marg\u001b[0m\u001b[0;34m,\u001b[0m \u001b[0mslice\u001b[0m\u001b[0;34m)\u001b[0m\u001b[0;34m:\u001b[0m\u001b[0;34m\u001b[0m\u001b[0;34m\u001b[0m\u001b[0m\n",
      "\u001b[0;32m~/anaconda3/envs/pyenv_ub/lib/python3.7/site-packages/cudf/core/dataframe.py\u001b[0m in \u001b[0;36m_get_columns_by_label\u001b[0;34m(self, labels, downcast)\u001b[0m\n\u001b[1;32m   1405\u001b[0m         \u001b[0mIf\u001b[0m \u001b[0mdowncast\u001b[0m \u001b[0;32mis\u001b[0m \u001b[0;32mTrue\u001b[0m\u001b[0;34m,\u001b[0m \u001b[0;32mtry\u001b[0m \u001b[0;32mand\u001b[0m \u001b[0mdowncast\u001b[0m \u001b[0;32mfrom\u001b[0m \u001b[0ma\u001b[0m \u001b[0mDataFrame\u001b[0m \u001b[0mto\u001b[0m \u001b[0ma\u001b[0m \u001b[0mSeries\u001b[0m\u001b[0;34m\u001b[0m\u001b[0;34m\u001b[0m\u001b[0m\n\u001b[1;32m   1406\u001b[0m         \"\"\"\n\u001b[0;32m-> 1407\u001b[0;31m         \u001b[0mnew_data\u001b[0m \u001b[0;34m=\u001b[0m \u001b[0msuper\u001b[0m\u001b[0;34m(\u001b[0m\u001b[0;34m)\u001b[0m\u001b[0;34m.\u001b[0m\u001b[0m_get_columns_by_label\u001b[0m\u001b[0;34m(\u001b[0m\u001b[0mlabels\u001b[0m\u001b[0;34m,\u001b[0m \u001b[0mdowncast\u001b[0m\u001b[0;34m)\u001b[0m\u001b[0;34m\u001b[0m\u001b[0;34m\u001b[0m\u001b[0m\n\u001b[0m\u001b[1;32m   1408\u001b[0m         \u001b[0;32mif\u001b[0m \u001b[0mdowncast\u001b[0m\u001b[0;34m:\u001b[0m\u001b[0;34m\u001b[0m\u001b[0;34m\u001b[0m\u001b[0m\n\u001b[1;32m   1409\u001b[0m             \u001b[0;32mif\u001b[0m \u001b[0mis_scalar\u001b[0m\u001b[0;34m(\u001b[0m\u001b[0mlabels\u001b[0m\u001b[0;34m)\u001b[0m\u001b[0;34m:\u001b[0m\u001b[0;34m\u001b[0m\u001b[0;34m\u001b[0m\u001b[0m\n",
      "\u001b[0;32m~/anaconda3/envs/pyenv_ub/lib/python3.7/site-packages/cudf/core/frame.py\u001b[0m in \u001b[0;36m_get_columns_by_label\u001b[0;34m(self, labels, downcast)\u001b[0m\n\u001b[1;32m    630\u001b[0m \u001b[0;34m\u001b[0m\u001b[0m\n\u001b[1;32m    631\u001b[0m         \"\"\"\n\u001b[0;32m--> 632\u001b[0;31m         \u001b[0;32mreturn\u001b[0m \u001b[0mself\u001b[0m\u001b[0;34m.\u001b[0m\u001b[0m_data\u001b[0m\u001b[0;34m.\u001b[0m\u001b[0mselect_by_label\u001b[0m\u001b[0;34m(\u001b[0m\u001b[0mlabels\u001b[0m\u001b[0;34m)\u001b[0m\u001b[0;34m\u001b[0m\u001b[0;34m\u001b[0m\u001b[0m\n\u001b[0m\u001b[1;32m    633\u001b[0m \u001b[0;34m\u001b[0m\u001b[0m\n\u001b[1;32m    634\u001b[0m     \u001b[0;32mdef\u001b[0m \u001b[0m_get_columns_by_index\u001b[0m\u001b[0;34m(\u001b[0m\u001b[0mself\u001b[0m\u001b[0;34m,\u001b[0m \u001b[0mindices\u001b[0m\u001b[0;34m)\u001b[0m\u001b[0;34m:\u001b[0m\u001b[0;34m\u001b[0m\u001b[0;34m\u001b[0m\u001b[0m\n",
      "\u001b[0;32m~/anaconda3/envs/pyenv_ub/lib/python3.7/site-packages/cudf/core/column_accessor.py\u001b[0m in \u001b[0;36mselect_by_label\u001b[0;34m(self, key)\u001b[0m\n\u001b[1;32m    344\u001b[0m                 \u001b[0;32mif\u001b[0m \u001b[0many\u001b[0m\u001b[0;34m(\u001b[0m\u001b[0misinstance\u001b[0m\u001b[0;34m(\u001b[0m\u001b[0mk\u001b[0m\u001b[0;34m,\u001b[0m \u001b[0mslice\u001b[0m\u001b[0;34m)\u001b[0m \u001b[0;32mfor\u001b[0m \u001b[0mk\u001b[0m \u001b[0;32min\u001b[0m \u001b[0mkey\u001b[0m\u001b[0;34m)\u001b[0m\u001b[0;34m:\u001b[0m\u001b[0;34m\u001b[0m\u001b[0;34m\u001b[0m\u001b[0m\n\u001b[1;32m    345\u001b[0m                     \u001b[0;32mreturn\u001b[0m \u001b[0mself\u001b[0m\u001b[0;34m.\u001b[0m\u001b[0m_select_by_label_with_wildcard\u001b[0m\u001b[0;34m(\u001b[0m\u001b[0mkey\u001b[0m\u001b[0;34m)\u001b[0m\u001b[0;34m\u001b[0m\u001b[0;34m\u001b[0m\u001b[0m\n\u001b[0;32m--> 346\u001b[0;31m             \u001b[0;32mreturn\u001b[0m \u001b[0mself\u001b[0m\u001b[0;34m.\u001b[0m\u001b[0m_select_by_label_grouped\u001b[0m\u001b[0;34m(\u001b[0m\u001b[0mkey\u001b[0m\u001b[0;34m)\u001b[0m\u001b[0;34m\u001b[0m\u001b[0;34m\u001b[0m\u001b[0m\n\u001b[0m\u001b[1;32m    347\u001b[0m \u001b[0;34m\u001b[0m\u001b[0m\n\u001b[1;32m    348\u001b[0m     \u001b[0;32mdef\u001b[0m \u001b[0mselect_by_index\u001b[0m\u001b[0;34m(\u001b[0m\u001b[0mself\u001b[0m\u001b[0;34m,\u001b[0m \u001b[0mindex\u001b[0m\u001b[0;34m:\u001b[0m \u001b[0mAny\u001b[0m\u001b[0;34m)\u001b[0m \u001b[0;34m->\u001b[0m \u001b[0mColumnAccessor\u001b[0m\u001b[0;34m:\u001b[0m\u001b[0;34m\u001b[0m\u001b[0;34m\u001b[0m\u001b[0m\n",
      "\u001b[0;32m~/anaconda3/envs/pyenv_ub/lib/python3.7/site-packages/cudf/core/column_accessor.py\u001b[0m in \u001b[0;36m_select_by_label_grouped\u001b[0;34m(self, key)\u001b[0m\n\u001b[1;32m    406\u001b[0m \u001b[0;34m\u001b[0m\u001b[0m\n\u001b[1;32m    407\u001b[0m     \u001b[0;32mdef\u001b[0m \u001b[0m_select_by_label_grouped\u001b[0m\u001b[0;34m(\u001b[0m\u001b[0mself\u001b[0m\u001b[0;34m,\u001b[0m \u001b[0mkey\u001b[0m\u001b[0;34m:\u001b[0m \u001b[0mAny\u001b[0m\u001b[0;34m)\u001b[0m \u001b[0;34m->\u001b[0m \u001b[0mColumnAccessor\u001b[0m\u001b[0;34m:\u001b[0m\u001b[0;34m\u001b[0m\u001b[0;34m\u001b[0m\u001b[0m\n\u001b[0;32m--> 408\u001b[0;31m         \u001b[0mresult\u001b[0m \u001b[0;34m=\u001b[0m \u001b[0mself\u001b[0m\u001b[0;34m.\u001b[0m\u001b[0m_grouped_data\u001b[0m\u001b[0;34m[\u001b[0m\u001b[0mkey\u001b[0m\u001b[0;34m]\u001b[0m\u001b[0;34m\u001b[0m\u001b[0;34m\u001b[0m\u001b[0m\n\u001b[0m\u001b[1;32m    409\u001b[0m         \u001b[0;32mif\u001b[0m \u001b[0misinstance\u001b[0m\u001b[0;34m(\u001b[0m\u001b[0mresult\u001b[0m\u001b[0;34m,\u001b[0m \u001b[0mcudf\u001b[0m\u001b[0;34m.\u001b[0m\u001b[0mcore\u001b[0m\u001b[0;34m.\u001b[0m\u001b[0mcolumn\u001b[0m\u001b[0;34m.\u001b[0m\u001b[0mColumnBase\u001b[0m\u001b[0;34m)\u001b[0m\u001b[0;34m:\u001b[0m\u001b[0;34m\u001b[0m\u001b[0;34m\u001b[0m\u001b[0m\n\u001b[1;32m    410\u001b[0m             \u001b[0;32mreturn\u001b[0m \u001b[0mself\u001b[0m\u001b[0;34m.\u001b[0m\u001b[0m__class__\u001b[0m\u001b[0;34m(\u001b[0m\u001b[0;34m{\u001b[0m\u001b[0mkey\u001b[0m\u001b[0;34m:\u001b[0m \u001b[0mresult\u001b[0m\u001b[0;34m}\u001b[0m\u001b[0;34m)\u001b[0m\u001b[0;34m\u001b[0m\u001b[0;34m\u001b[0m\u001b[0m\n",
      "\u001b[0;31mKeyError\u001b[0m: 'pid_self'"
     ]
    }
   ],
   "source": [
    "dfr=dask_cudf.read_csv(input_fn_lst).compute()\n",
    "DT=get_DT_cu(dfr, t_col='t', pid_col='pid_self', round_digits=7)\n",
    "print(f\"DT={DT}\")\n",
    "\n",
    "# dfr=cudf.read_csv(dfr_dir)\n",
    "dfr=dfr.sort_values(by=['event_id_int','pid_self','tdeath'],ascending=True)\n",
    "dfr.head()"
   ]
  },
  {
   "cell_type": "code",
   "execution_count": 109,
   "id": "14278c31",
   "metadata": {
    "ExecuteTime": {
     "end_time": "2021-10-09T00:35:47.337552Z",
     "start_time": "2021-10-09T00:35:47.311347Z"
    }
   },
   "outputs": [
    {
     "data": {
      "text/plain": [
       "(1108942, 15)"
      ]
     },
     "execution_count": 109,
     "metadata": {},
     "output_type": "execute_result"
    }
   ],
   "source": [
    "dfr.shape"
   ]
  },
  {
   "cell_type": "code",
   "execution_count": 110,
   "id": "172f2437",
   "metadata": {
    "ExecuteTime": {
     "end_time": "2021-10-09T00:35:50.470133Z",
     "start_time": "2021-10-09T00:35:50.337582Z"
    }
   },
   "outputs": [
    {
     "data": {
      "image/png": "[encoded data removed]",
      "text/plain": [
       "<Figure size 432x288 with 1 Axes>"
      ]
     },
     "metadata": {
      "needs_background": "light"
     },
     "output_type": "display_data"
    }
   ],
   "source": [
    "#DONE: try subtracting off the first value of R_nosavgol\n",
    "plt.hist(dfr.loc[dfr['tdeath']==0,'R_nosavgol'].values.get(),alpha=1.)\n",
    "plt.hist(dfr.loc[dfr['tdeath']==0,'R'].values.get(),alpha=0.3)\n",
    "format_plot(ax=plt.gca(), xlabel=r'$R_{final}$ (cm)', ylabel='freq.', fontsize=20)\n",
    "plt.title(f'apparently the savgol smoothing made the final ranges trash... lets not use it...')\n",
    "plt.show()"
   ]
  },
  {
   "cell_type": "code",
   "execution_count": 111,
   "id": "f1da9d16",
   "metadata": {
    "ExecuteTime": {
     "end_time": "2021-10-09T00:35:51.996681Z",
     "start_time": "2021-10-09T00:35:51.836755Z"
    }
   },
   "outputs": [],
   "source": [
    "dfr=dfr.set_index(['event_id_int','pid_self','pid_other'])\n",
    "df_r0=dfr.loc[dfr['tdeath']==0,'R_nosavgol']\n",
    "#subtract off zero without savgol\n",
    "dfr['R_nosavgol0']=df_r0\n",
    "dfr['R_nosavgol0']=dfr['R_nosavgol']-dfr['R_nosavgol0']\n",
    "#subtract off zero with savgol\n",
    "df_r0=dfr.loc[dfr['tdeath']==0,'R']\n",
    "dfr['R0']=df_r0\n",
    "dfr['R0']=dfr['R']-dfr['R0']\n",
    "dfr.reset_index(inplace=True)\n",
    "\n",
    "use_subtract_Rfinal=True\n",
    "if use_subtract_Rfinal:\n",
    "    dfr['SR']=dfr['R_nosavgol0']**2  #looks nice but the values are too small to be reasonable\n",
    "    dfr['SR']=dfr['R0']**2 #does not work reasonably well\n",
    "else:\n",
    "    dfr['SR']=dfr['R_nosavgol']**2  #works reasonably well\n",
    "    dfr['SR']=dfr['R']**2  #does not work reasonably well\n",
    "\n",
    "mean_R_vs_tdeath=dfr.groupby('tdeath')[['SR']].describe()['SR'][['mean','count']]\n",
    "\n",
    "#identify the max tdeath with the max number of counts\n",
    "tmaxmax=mean_R_vs_tdeath['count'].max()\n",
    "boo=tmaxmax==mean_R_vs_tdeath['count']\n",
    "tdeath_values=mean_R_vs_tdeath[boo].index.values.get()+DT\n",
    "SR_values=mean_R_vs_tdeath[boo]['mean'].values.get()"
   ]
  },
  {
   "cell_type": "code",
   "execution_count": 112,
   "id": "2bc304f7",
   "metadata": {
    "ExecuteTime": {
     "end_time": "2021-10-09T00:35:52.786692Z",
     "start_time": "2021-10-09T00:35:52.765639Z"
    }
   },
   "outputs": [],
   "source": [
    "assert(np.min(tdeath_values)==DT)"
   ]
  },
  {
   "cell_type": "code",
   "execution_count": 114,
   "id": "3215403c",
   "metadata": {
    "ExecuteTime": {
     "end_time": "2021-10-09T00:35:53.971697Z",
     "start_time": "2021-10-09T00:35:53.946871Z"
    }
   },
   "outputs": [
    {
     "name": "stdout",
     "output_type": "stream",
     "text": [
      "a=5.3802+-0.1620 cm^2/s. (R^2=0.9865)\n"
     ]
    }
   ],
   "source": [
    "#compute a using numpy\n",
    "tmax=25#ms\n",
    "printing=True\n",
    "a_SR, Delta_a_SR, Rsq_a_SR = comp_a_SR(tdeath_values,SR_values,tmax)\n",
    "if printing:\n",
    "    print(f\"a={a_SR:.4f}+-{Delta_a_SR:.4f} cm^2/s. (R^2={Rsq_a_SR:.4f})\")"
   ]
  },
  {
   "cell_type": "code",
   "execution_count": 115,
   "id": "e16816e3",
   "metadata": {
    "ExecuteTime": {
     "end_time": "2021-10-09T00:35:55.237982Z",
     "start_time": "2021-10-09T00:35:54.952773Z"
    }
   },
   "outputs": [],
   "source": [
    "#compute a versus tmax\n",
    "tmax_values=np.arange(9*DT,tmaxmax,DT)\n",
    "a_SR_lst=[];Delta_a_SR_lst=[];Rsq_a_SR_lst=[]\n",
    "for tmax in tmax_values:\n",
    "    a_SR, Delta_a_SR, Rsq_a_SR = comp_a_SR(tdeath_values,SR_values,tmax)\n",
    "    #record results\n",
    "    a_SR_lst.append(a_SR)\n",
    "    Delta_a_SR_lst.append(Delta_a_SR)\n",
    "    Rsq_a_SR_lst.append(Rsq_a_SR)\n",
    "\n",
    "a_SR_values=np.array(a_SR_lst)\n",
    "Delta_a_SR_values=np.array(Delta_a_SR_lst)"
   ]
  },
  {
   "cell_type": "code",
   "execution_count": 116,
   "id": "26d221cc",
   "metadata": {
    "ExecuteTime": {
     "end_time": "2021-10-09T00:35:55.741913Z",
     "start_time": "2021-10-09T00:35:55.709517Z"
    }
   },
   "outputs": [],
   "source": [
    "# #DONE: bootstrap Delta_SR_values\n",
    "# Delta_SR_values=SR_values*0.05"
   ]
  },
  {
   "cell_type": "code",
   "execution_count": 117,
   "id": "a20d8dd0",
   "metadata": {
    "ExecuteTime": {
     "end_time": "2021-10-09T00:35:56.177556Z",
     "start_time": "2021-10-09T00:35:56.156786Z"
    }
   },
   "outputs": [],
   "source": [
    "# Delta_SR_lst=[]\n",
    "# for t in tdeath_values:\n",
    "#     x=dfr.loc[dfr['tdeath']==t,'SR'].values.get()\n",
    "#     Delta_x=bootstrap_stdev_of_mean(x=g['SR'].values,num_samples=1000)\n",
    "#     Delta_SR_lst.append(Delta_x)\n"
   ]
  },
  {
   "cell_type": "code",
   "execution_count": 119,
   "id": "a174a1dc",
   "metadata": {
    "ExecuteTime": {
     "end_time": "2021-10-09T00:36:05.822729Z",
     "start_time": "2021-10-09T00:35:57.276304Z"
    }
   },
   "outputs": [
    {
     "name": "stderr",
     "output_type": "stream",
     "text": [
      "Process SpawnProcess-66:\n",
      "Traceback (most recent call last):\n",
      "  File \"/home/timothytyree/anaconda3/envs/pyenv_ub/lib/python3.7/multiprocessing/process.py\", line 297, in _bootstrap\n",
      "    self.run()\n",
      "  File \"/home/timothytyree/anaconda3/envs/pyenv_ub/lib/python3.7/multiprocessing/process.py\", line 99, in run\n",
      "    self._target(*self._args, **self._kwargs)\n",
      "  File \"/home/timothytyree/anaconda3/envs/pyenv_ub/lib/python3.7/concurrent/futures/process.py\", line 233, in _process_worker\n",
      "    call_item = call_queue.get(block=True)\n",
      "  File \"/home/timothytyree/anaconda3/envs/pyenv_ub/lib/python3.7/multiprocessing/queues.py\", line 93, in get\n",
      "    with self._rlock:\n",
      "  File \"/home/timothytyree/anaconda3/envs/pyenv_ub/lib/python3.7/multiprocessing/synchronize.py\", line 95, in __enter__\n",
      "    return self._semlock.__enter__()\n",
      "KeyboardInterrupt\n",
      "Process SpawnProcess-63:\n",
      "Traceback (most recent call last):\n",
      "  File \"/home/timothytyree/anaconda3/envs/pyenv_ub/lib/python3.7/multiprocessing/process.py\", line 297, in _bootstrap\n",
      "    self.run()\n",
      "  File \"/home/timothytyree/anaconda3/envs/pyenv_ub/lib/python3.7/multiprocessing/process.py\", line 99, in run\n",
      "    self._target(*self._args, **self._kwargs)\n",
      "  File \"/home/timothytyree/anaconda3/envs/pyenv_ub/lib/python3.7/concurrent/futures/process.py\", line 233, in _process_worker\n",
      "    call_item = call_queue.get(block=True)\n",
      "  File \"/home/timothytyree/anaconda3/envs/pyenv_ub/lib/python3.7/multiprocessing/queues.py\", line 93, in get\n",
      "    with self._rlock:\n",
      "  File \"/home/timothytyree/anaconda3/envs/pyenv_ub/lib/python3.7/multiprocessing/synchronize.py\", line 95, in __enter__\n",
      "    return self._semlock.__enter__()\n",
      "KeyboardInterrupt\n",
      "Process SpawnProcess-62:\n",
      "Traceback (most recent call last):\n",
      "  File \"/home/timothytyree/anaconda3/envs/pyenv_ub/lib/python3.7/multiprocessing/process.py\", line 297, in _bootstrap\n",
      "    self.run()\n",
      "  File \"/home/timothytyree/anaconda3/envs/pyenv_ub/lib/python3.7/multiprocessing/process.py\", line 99, in run\n",
      "    self._target(*self._args, **self._kwargs)\n",
      "  File \"/home/timothytyree/anaconda3/envs/pyenv_ub/lib/python3.7/concurrent/futures/process.py\", line 233, in _process_worker\n",
      "    call_item = call_queue.get(block=True)\n",
      "  File \"/home/timothytyree/anaconda3/envs/pyenv_ub/lib/python3.7/multiprocessing/queues.py\", line 93, in get\n",
      "    with self._rlock:\n",
      "  File \"/home/timothytyree/anaconda3/envs/pyenv_ub/lib/python3.7/multiprocessing/synchronize.py\", line 95, in __enter__\n",
      "    return self._semlock.__enter__()\n",
      "KeyboardInterrupt\n",
      "Process SpawnProcess-68:\n",
      "Traceback (most recent call last):\n",
      "  File \"/home/timothytyree/anaconda3/envs/pyenv_ub/lib/python3.7/multiprocessing/process.py\", line 297, in _bootstrap\n",
      "    self.run()\n",
      "  File \"/home/timothytyree/anaconda3/envs/pyenv_ub/lib/python3.7/multiprocessing/process.py\", line 99, in run\n",
      "    self._target(*self._args, **self._kwargs)\n",
      "  File \"/home/timothytyree/anaconda3/envs/pyenv_ub/lib/python3.7/concurrent/futures/process.py\", line 233, in _process_worker\n",
      "    call_item = call_queue.get(block=True)\n",
      "  File \"/home/timothytyree/anaconda3/envs/pyenv_ub/lib/python3.7/multiprocessing/queues.py\", line 93, in get\n",
      "    with self._rlock:\n",
      "  File \"/home/timothytyree/anaconda3/envs/pyenv_ub/lib/python3.7/multiprocessing/synchronize.py\", line 95, in __enter__\n",
      "    return self._semlock.__enter__()\n",
      "KeyboardInterrupt\n",
      "Process SpawnProcess-72:\n",
      "Traceback (most recent call last):\n",
      "  File \"/home/timothytyree/anaconda3/envs/pyenv_ub/lib/python3.7/multiprocessing/process.py\", line 297, in _bootstrap\n",
      "    self.run()\n",
      "  File \"/home/timothytyree/anaconda3/envs/pyenv_ub/lib/python3.7/multiprocessing/process.py\", line 99, in run\n",
      "    self._target(*self._args, **self._kwargs)\n",
      "  File \"/home/timothytyree/anaconda3/envs/pyenv_ub/lib/python3.7/concurrent/futures/process.py\", line 233, in _process_worker\n",
      "    call_item = call_queue.get(block=True)\n",
      "  File \"/home/timothytyree/anaconda3/envs/pyenv_ub/lib/python3.7/multiprocessing/queues.py\", line 93, in get\n",
      "    with self._rlock:\n",
      "  File \"/home/timothytyree/anaconda3/envs/pyenv_ub/lib/python3.7/multiprocessing/synchronize.py\", line 95, in __enter__\n",
      "    return self._semlock.__enter__()\n",
      "KeyboardInterrupt\n",
      "Process SpawnProcess-71:\n",
      "Traceback (most recent call last):\n",
      "  File \"/home/timothytyree/anaconda3/envs/pyenv_ub/lib/python3.7/multiprocessing/process.py\", line 297, in _bootstrap\n",
      "    self.run()\n",
      "  File \"/home/timothytyree/anaconda3/envs/pyenv_ub/lib/python3.7/multiprocessing/process.py\", line 99, in run\n",
      "    self._target(*self._args, **self._kwargs)\n",
      "  File \"/home/timothytyree/anaconda3/envs/pyenv_ub/lib/python3.7/concurrent/futures/process.py\", line 233, in _process_worker\n",
      "    call_item = call_queue.get(block=True)\n",
      "  File \"/home/timothytyree/anaconda3/envs/pyenv_ub/lib/python3.7/multiprocessing/queues.py\", line 93, in get\n",
      "    with self._rlock:\n",
      "  File \"/home/timothytyree/anaconda3/envs/pyenv_ub/lib/python3.7/multiprocessing/synchronize.py\", line 95, in __enter__\n",
      "    return self._semlock.__enter__()\n",
      "KeyboardInterrupt\n",
      "Process SpawnProcess-67:\n",
      "Traceback (most recent call last):\n",
      "  File \"/home/timothytyree/anaconda3/envs/pyenv_ub/lib/python3.7/multiprocessing/process.py\", line 297, in _bootstrap\n",
      "    self.run()\n",
      "  File \"/home/timothytyree/anaconda3/envs/pyenv_ub/lib/python3.7/multiprocessing/process.py\", line 99, in run\n",
      "    self._target(*self._args, **self._kwargs)\n",
      "  File \"/home/timothytyree/anaconda3/envs/pyenv_ub/lib/python3.7/concurrent/futures/process.py\", line 233, in _process_worker\n",
      "    call_item = call_queue.get(block=True)\n",
      "  File \"/home/timothytyree/anaconda3/envs/pyenv_ub/lib/python3.7/multiprocessing/queues.py\", line 93, in get\n",
      "    with self._rlock:\n",
      "  File \"/home/timothytyree/anaconda3/envs/pyenv_ub/lib/python3.7/multiprocessing/synchronize.py\", line 95, in __enter__\n",
      "    return self._semlock.__enter__()\n",
      "KeyboardInterrupt\n",
      "Process SpawnProcess-69:\n",
      "Traceback (most recent call last):\n",
      "  File \"/home/timothytyree/anaconda3/envs/pyenv_ub/lib/python3.7/multiprocessing/process.py\", line 297, in _bootstrap\n",
      "    self.run()\n",
      "  File \"/home/timothytyree/anaconda3/envs/pyenv_ub/lib/python3.7/multiprocessing/process.py\", line 99, in run\n",
      "    self._target(*self._args, **self._kwargs)\n",
      "  File \"/home/timothytyree/anaconda3/envs/pyenv_ub/lib/python3.7/concurrent/futures/process.py\", line 233, in _process_worker\n",
      "    call_item = call_queue.get(block=True)\n",
      "  File \"/home/timothytyree/anaconda3/envs/pyenv_ub/lib/python3.7/multiprocessing/queues.py\", line 93, in get\n",
      "    with self._rlock:\n",
      "  File \"/home/timothytyree/anaconda3/envs/pyenv_ub/lib/python3.7/multiprocessing/synchronize.py\", line 95, in __enter__\n",
      "    return self._semlock.__enter__()\n",
      "KeyboardInterrupt\n",
      "Process SpawnProcess-65:\n",
      "Traceback (most recent call last):\n",
      "  File \"/home/timothytyree/anaconda3/envs/pyenv_ub/lib/python3.7/multiprocessing/process.py\", line 297, in _bootstrap\n",
      "    self.run()\n",
      "  File \"/home/timothytyree/anaconda3/envs/pyenv_ub/lib/python3.7/multiprocessing/process.py\", line 99, in run\n",
      "    self._target(*self._args, **self._kwargs)\n",
      "  File \"/home/timothytyree/anaconda3/envs/pyenv_ub/lib/python3.7/concurrent/futures/process.py\", line 233, in _process_worker\n",
      "    call_item = call_queue.get(block=True)\n",
      "  File \"/home/timothytyree/anaconda3/envs/pyenv_ub/lib/python3.7/multiprocessing/queues.py\", line 93, in get\n",
      "    with self._rlock:\n",
      "  File \"/home/timothytyree/anaconda3/envs/pyenv_ub/lib/python3.7/multiprocessing/synchronize.py\", line 95, in __enter__\n",
      "    return self._semlock.__enter__()\n",
      "KeyboardInterrupt\n",
      "Process SpawnProcess-64:\n",
      "Traceback (most recent call last):\n",
      "  File \"/home/timothytyree/anaconda3/envs/pyenv_ub/lib/python3.7/multiprocessing/process.py\", line 297, in _bootstrap\n",
      "    self.run()\n",
      "  File \"/home/timothytyree/anaconda3/envs/pyenv_ub/lib/python3.7/multiprocessing/process.py\", line 99, in run\n",
      "    self._target(*self._args, **self._kwargs)\n",
      "  File \"/home/timothytyree/anaconda3/envs/pyenv_ub/lib/python3.7/concurrent/futures/process.py\", line 233, in _process_worker\n",
      "    call_item = call_queue.get(block=True)\n",
      "  File \"/home/timothytyree/anaconda3/envs/pyenv_ub/lib/python3.7/multiprocessing/queues.py\", line 93, in get\n",
      "    with self._rlock:\n",
      "  File \"/home/timothytyree/anaconda3/envs/pyenv_ub/lib/python3.7/multiprocessing/synchronize.py\", line 95, in __enter__\n",
      "    return self._semlock.__enter__()\n",
      "KeyboardInterrupt\n",
      "Process SpawnProcess-70:\n",
      "Traceback (most recent call last):\n",
      "  File \"/home/timothytyree/anaconda3/envs/pyenv_ub/lib/python3.7/multiprocessing/process.py\", line 297, in _bootstrap\n",
      "    self.run()\n",
      "  File \"/home/timothytyree/anaconda3/envs/pyenv_ub/lib/python3.7/multiprocessing/process.py\", line 99, in run\n",
      "    self._target(*self._args, **self._kwargs)\n",
      "  File \"/home/timothytyree/anaconda3/envs/pyenv_ub/lib/python3.7/concurrent/futures/process.py\", line 233, in _process_worker\n",
      "    call_item = call_queue.get(block=True)\n",
      "  File \"/home/timothytyree/anaconda3/envs/pyenv_ub/lib/python3.7/multiprocessing/queues.py\", line 93, in get\n",
      "    with self._rlock:\n",
      "  File \"/home/timothytyree/anaconda3/envs/pyenv_ub/lib/python3.7/multiprocessing/synchronize.py\", line 95, in __enter__\n",
      "    return self._semlock.__enter__()\n",
      "KeyboardInterrupt\n",
      "Process SpawnProcess-61:\n",
      "Traceback (most recent call last):\n",
      "  File \"/home/timothytyree/anaconda3/envs/pyenv_ub/lib/python3.7/multiprocessing/process.py\", line 297, in _bootstrap\n",
      "    self.run()\n",
      "  File \"/home/timothytyree/anaconda3/envs/pyenv_ub/lib/python3.7/multiprocessing/process.py\", line 99, in run\n",
      "    self._target(*self._args, **self._kwargs)\n",
      "  File \"/home/timothytyree/anaconda3/envs/pyenv_ub/lib/python3.7/concurrent/futures/process.py\", line 233, in _process_worker\n",
      "    call_item = call_queue.get(block=True)\n",
      "  File \"/home/timothytyree/anaconda3/envs/pyenv_ub/lib/python3.7/multiprocessing/queues.py\", line 94, in get\n",
      "    res = self._recv_bytes()\n",
      "  File \"/home/timothytyree/anaconda3/envs/pyenv_ub/lib/python3.7/multiprocessing/connection.py\", line 216, in recv_bytes\n",
      "    buf = self._recv_bytes(maxlength)\n",
      "  File \"/home/timothytyree/anaconda3/envs/pyenv_ub/lib/python3.7/multiprocessing/connection.py\", line 411, in _recv_bytes\n",
      "    return self._recv(size)\n",
      "  File \"/home/timothytyree/anaconda3/envs/pyenv_ub/lib/python3.7/multiprocessing/connection.py\", line 379, in _recv\n",
      "    chunk = read(handle, remaining)\n",
      "KeyboardInterrupt\n"
     ]
    },
    {
     "ename": "KeyboardInterrupt",
     "evalue": "",
     "output_type": "error",
     "traceback": [
      "\u001b[0;31m---------------------------------------------------------------------------\u001b[0m",
      "\u001b[0;31mKeyboardInterrupt\u001b[0m                         Traceback (most recent call last)",
      "\u001b[0;32m/tmp/ipykernel_311956/2770389251.py\u001b[0m in \u001b[0;36m<module>\u001b[0;34m\u001b[0m\n\u001b[1;32m      3\u001b[0m \u001b[0mb\u001b[0m \u001b[0;34m=\u001b[0m \u001b[0mdb\u001b[0m\u001b[0;34m.\u001b[0m\u001b[0mfrom_sequence\u001b[0m\u001b[0;34m(\u001b[0m\u001b[0mtdeath_values\u001b[0m\u001b[0;34m,\u001b[0m \u001b[0mnpartitions\u001b[0m\u001b[0;34m=\u001b[0m\u001b[0mnpartitions\u001b[0m\u001b[0;34m)\u001b[0m\u001b[0;34m.\u001b[0m\u001b[0mmap\u001b[0m\u001b[0;34m(\u001b[0m\u001b[0mroutine_boostrap_tdeath_group\u001b[0m\u001b[0;34m)\u001b[0m\u001b[0;34m\u001b[0m\u001b[0;34m\u001b[0m\u001b[0m\n\u001b[1;32m      4\u001b[0m \u001b[0mstart\u001b[0m \u001b[0;34m=\u001b[0m \u001b[0mtime\u001b[0m\u001b[0;34m.\u001b[0m\u001b[0mtime\u001b[0m\u001b[0;34m(\u001b[0m\u001b[0;34m)\u001b[0m\u001b[0;34m\u001b[0m\u001b[0;34m\u001b[0m\u001b[0m\n\u001b[0;32m----> 5\u001b[0;31m \u001b[0mretval\u001b[0m \u001b[0;34m=\u001b[0m \u001b[0mlist\u001b[0m\u001b[0;34m(\u001b[0m\u001b[0mb\u001b[0m\u001b[0;34m)\u001b[0m\u001b[0;34m\u001b[0m\u001b[0;34m\u001b[0m\u001b[0m\n\u001b[0m\u001b[1;32m      6\u001b[0m \u001b[0;32mif\u001b[0m \u001b[0mprinting\u001b[0m\u001b[0;34m:\u001b[0m\u001b[0;34m\u001b[0m\u001b[0;34m\u001b[0m\u001b[0m\n\u001b[1;32m      7\u001b[0m     \u001b[0mprint\u001b[0m\u001b[0;34m(\u001b[0m\u001b[0;34mf\"run time for bootstrapping each time value was {time.time()-start:.2f} seconds.\"\u001b[0m\u001b[0;34m)\u001b[0m\u001b[0;34m\u001b[0m\u001b[0;34m\u001b[0m\u001b[0m\n",
      "\u001b[0;32m~/anaconda3/envs/pyenv_ub/lib/python3.7/site-packages/dask/bag/core.py\u001b[0m in \u001b[0;36m__iter__\u001b[0;34m(self)\u001b[0m\n\u001b[1;32m   1441\u001b[0m \u001b[0;34m\u001b[0m\u001b[0m\n\u001b[1;32m   1442\u001b[0m     \u001b[0;32mdef\u001b[0m \u001b[0m__iter__\u001b[0m\u001b[0;34m(\u001b[0m\u001b[0mself\u001b[0m\u001b[0;34m)\u001b[0m\u001b[0;34m:\u001b[0m\u001b[0;34m\u001b[0m\u001b[0;34m\u001b[0m\u001b[0m\n\u001b[0;32m-> 1443\u001b[0;31m         \u001b[0;32mreturn\u001b[0m \u001b[0miter\u001b[0m\u001b[0;34m(\u001b[0m\u001b[0mself\u001b[0m\u001b[0;34m.\u001b[0m\u001b[0mcompute\u001b[0m\u001b[0;34m(\u001b[0m\u001b[0;34m)\u001b[0m\u001b[0;34m)\u001b[0m\u001b[0;34m\u001b[0m\u001b[0;34m\u001b[0m\u001b[0m\n\u001b[0m\u001b[1;32m   1444\u001b[0m \u001b[0;34m\u001b[0m\u001b[0m\n\u001b[1;32m   1445\u001b[0m     def groupby(\n",
      "\u001b[0;32m~/anaconda3/envs/pyenv_ub/lib/python3.7/site-packages/dask/base.py\u001b[0m in \u001b[0;36mcompute\u001b[0;34m(self, **kwargs)\u001b[0m\n\u001b[1;32m    284\u001b[0m         \u001b[0mdask\u001b[0m\u001b[0;34m.\u001b[0m\u001b[0mbase\u001b[0m\u001b[0;34m.\u001b[0m\u001b[0mcompute\u001b[0m\u001b[0;34m\u001b[0m\u001b[0;34m\u001b[0m\u001b[0m\n\u001b[1;32m    285\u001b[0m         \"\"\"\n\u001b[0;32m--> 286\u001b[0;31m         \u001b[0;34m(\u001b[0m\u001b[0mresult\u001b[0m\u001b[0;34m,\u001b[0m\u001b[0;34m)\u001b[0m \u001b[0;34m=\u001b[0m \u001b[0mcompute\u001b[0m\u001b[0;34m(\u001b[0m\u001b[0mself\u001b[0m\u001b[0;34m,\u001b[0m \u001b[0mtraverse\u001b[0m\u001b[0;34m=\u001b[0m\u001b[0;32mFalse\u001b[0m\u001b[0;34m,\u001b[0m \u001b[0;34m**\u001b[0m\u001b[0mkwargs\u001b[0m\u001b[0;34m)\u001b[0m\u001b[0;34m\u001b[0m\u001b[0;34m\u001b[0m\u001b[0m\n\u001b[0m\u001b[1;32m    287\u001b[0m         \u001b[0;32mreturn\u001b[0m \u001b[0mresult\u001b[0m\u001b[0;34m\u001b[0m\u001b[0;34m\u001b[0m\u001b[0m\n\u001b[1;32m    288\u001b[0m \u001b[0;34m\u001b[0m\u001b[0m\n",
      "\u001b[0;32m~/anaconda3/envs/pyenv_ub/lib/python3.7/site-packages/dask/base.py\u001b[0m in \u001b[0;36mcompute\u001b[0;34m(*args, **kwargs)\u001b[0m\n\u001b[1;32m    566\u001b[0m         \u001b[0mpostcomputes\u001b[0m\u001b[0;34m.\u001b[0m\u001b[0mappend\u001b[0m\u001b[0;34m(\u001b[0m\u001b[0mx\u001b[0m\u001b[0;34m.\u001b[0m\u001b[0m__dask_postcompute__\u001b[0m\u001b[0;34m(\u001b[0m\u001b[0;34m)\u001b[0m\u001b[0;34m)\u001b[0m\u001b[0;34m\u001b[0m\u001b[0;34m\u001b[0m\u001b[0m\n\u001b[1;32m    567\u001b[0m \u001b[0;34m\u001b[0m\u001b[0m\n\u001b[0;32m--> 568\u001b[0;31m     \u001b[0mresults\u001b[0m \u001b[0;34m=\u001b[0m \u001b[0mschedule\u001b[0m\u001b[0;34m(\u001b[0m\u001b[0mdsk\u001b[0m\u001b[0;34m,\u001b[0m \u001b[0mkeys\u001b[0m\u001b[0;34m,\u001b[0m \u001b[0;34m**\u001b[0m\u001b[0mkwargs\u001b[0m\u001b[0;34m)\u001b[0m\u001b[0;34m\u001b[0m\u001b[0;34m\u001b[0m\u001b[0m\n\u001b[0m\u001b[1;32m    569\u001b[0m     \u001b[0;32mreturn\u001b[0m \u001b[0mrepack\u001b[0m\u001b[0;34m(\u001b[0m\u001b[0;34m[\u001b[0m\u001b[0mf\u001b[0m\u001b[0;34m(\u001b[0m\u001b[0mr\u001b[0m\u001b[0;34m,\u001b[0m \u001b[0;34m*\u001b[0m\u001b[0ma\u001b[0m\u001b[0;34m)\u001b[0m \u001b[0;32mfor\u001b[0m \u001b[0mr\u001b[0m\u001b[0;34m,\u001b[0m \u001b[0;34m(\u001b[0m\u001b[0mf\u001b[0m\u001b[0;34m,\u001b[0m \u001b[0ma\u001b[0m\u001b[0;34m)\u001b[0m \u001b[0;32min\u001b[0m \u001b[0mzip\u001b[0m\u001b[0;34m(\u001b[0m\u001b[0mresults\u001b[0m\u001b[0;34m,\u001b[0m \u001b[0mpostcomputes\u001b[0m\u001b[0;34m)\u001b[0m\u001b[0;34m]\u001b[0m\u001b[0;34m)\u001b[0m\u001b[0;34m\u001b[0m\u001b[0;34m\u001b[0m\u001b[0m\n\u001b[1;32m    570\u001b[0m \u001b[0;34m\u001b[0m\u001b[0m\n",
      "\u001b[0;32m~/anaconda3/envs/pyenv_ub/lib/python3.7/site-packages/dask/multiprocessing.py\u001b[0m in \u001b[0;36mget\u001b[0;34m(dsk, keys, num_workers, func_loads, func_dumps, optimize_graph, pool, chunksize, **kwargs)\u001b[0m\n\u001b[1;32m    228\u001b[0m             \u001b[0mraise_exception\u001b[0m\u001b[0;34m=\u001b[0m\u001b[0mreraise\u001b[0m\u001b[0;34m,\u001b[0m\u001b[0;34m\u001b[0m\u001b[0;34m\u001b[0m\u001b[0m\n\u001b[1;32m    229\u001b[0m             \u001b[0mchunksize\u001b[0m\u001b[0;34m=\u001b[0m\u001b[0mchunksize\u001b[0m\u001b[0;34m,\u001b[0m\u001b[0;34m\u001b[0m\u001b[0;34m\u001b[0m\u001b[0m\n\u001b[0;32m--> 230\u001b[0;31m             \u001b[0;34m**\u001b[0m\u001b[0mkwargs\u001b[0m\u001b[0;34m\u001b[0m\u001b[0;34m\u001b[0m\u001b[0m\n\u001b[0m\u001b[1;32m    231\u001b[0m         )\n\u001b[1;32m    232\u001b[0m     \u001b[0;32mfinally\u001b[0m\u001b[0;34m:\u001b[0m\u001b[0;34m\u001b[0m\u001b[0;34m\u001b[0m\u001b[0m\n",
      "\u001b[0;32m~/anaconda3/envs/pyenv_ub/lib/python3.7/site-packages/dask/local.py\u001b[0m in \u001b[0;36mget_async\u001b[0;34m(submit, num_workers, dsk, result, cache, get_id, rerun_exceptions_locally, pack_exception, raise_exception, callbacks, dumps, loads, chunksize, **kwargs)\u001b[0m\n\u001b[1;32m    501\u001b[0m             \u001b[0;32mwhile\u001b[0m \u001b[0mstate\u001b[0m\u001b[0;34m[\u001b[0m\u001b[0;34m\"waiting\"\u001b[0m\u001b[0;34m]\u001b[0m \u001b[0;32mor\u001b[0m \u001b[0mstate\u001b[0m\u001b[0;34m[\u001b[0m\u001b[0;34m\"ready\"\u001b[0m\u001b[0;34m]\u001b[0m \u001b[0;32mor\u001b[0m \u001b[0mstate\u001b[0m\u001b[0;34m[\u001b[0m\u001b[0;34m\"running\"\u001b[0m\u001b[0;34m]\u001b[0m\u001b[0;34m:\u001b[0m\u001b[0;34m\u001b[0m\u001b[0;34m\u001b[0m\u001b[0m\n\u001b[1;32m    502\u001b[0m                 \u001b[0mfire_tasks\u001b[0m\u001b[0;34m(\u001b[0m\u001b[0mchunksize\u001b[0m\u001b[0;34m)\u001b[0m\u001b[0;34m\u001b[0m\u001b[0;34m\u001b[0m\u001b[0m\n\u001b[0;32m--> 503\u001b[0;31m                 \u001b[0;32mfor\u001b[0m \u001b[0mkey\u001b[0m\u001b[0;34m,\u001b[0m \u001b[0mres_info\u001b[0m\u001b[0;34m,\u001b[0m \u001b[0mfailed\u001b[0m \u001b[0;32min\u001b[0m \u001b[0mqueue_get\u001b[0m\u001b[0;34m(\u001b[0m\u001b[0mqueue\u001b[0m\u001b[0;34m)\u001b[0m\u001b[0;34m.\u001b[0m\u001b[0mresult\u001b[0m\u001b[0;34m(\u001b[0m\u001b[0;34m)\u001b[0m\u001b[0;34m:\u001b[0m\u001b[0;34m\u001b[0m\u001b[0;34m\u001b[0m\u001b[0m\n\u001b[0m\u001b[1;32m    504\u001b[0m                     \u001b[0;32mif\u001b[0m \u001b[0mfailed\u001b[0m\u001b[0;34m:\u001b[0m\u001b[0;34m\u001b[0m\u001b[0;34m\u001b[0m\u001b[0m\n\u001b[1;32m    505\u001b[0m                         \u001b[0mexc\u001b[0m\u001b[0;34m,\u001b[0m \u001b[0mtb\u001b[0m \u001b[0;34m=\u001b[0m \u001b[0mloads\u001b[0m\u001b[0;34m(\u001b[0m\u001b[0mres_info\u001b[0m\u001b[0;34m)\u001b[0m\u001b[0;34m\u001b[0m\u001b[0;34m\u001b[0m\u001b[0m\n",
      "\u001b[0;32m~/anaconda3/envs/pyenv_ub/lib/python3.7/site-packages/dask/local.py\u001b[0m in \u001b[0;36mqueue_get\u001b[0;34m(q)\u001b[0m\n\u001b[1;32m    132\u001b[0m \u001b[0;34m\u001b[0m\u001b[0m\n\u001b[1;32m    133\u001b[0m     \u001b[0;32mdef\u001b[0m \u001b[0mqueue_get\u001b[0m\u001b[0;34m(\u001b[0m\u001b[0mq\u001b[0m\u001b[0;34m)\u001b[0m\u001b[0;34m:\u001b[0m\u001b[0;34m\u001b[0m\u001b[0;34m\u001b[0m\u001b[0m\n\u001b[0;32m--> 134\u001b[0;31m         \u001b[0;32mreturn\u001b[0m \u001b[0mq\u001b[0m\u001b[0;34m.\u001b[0m\u001b[0mget\u001b[0m\u001b[0;34m(\u001b[0m\u001b[0;34m)\u001b[0m\u001b[0;34m\u001b[0m\u001b[0;34m\u001b[0m\u001b[0m\n\u001b[0m\u001b[1;32m    135\u001b[0m \u001b[0;34m\u001b[0m\u001b[0m\n\u001b[1;32m    136\u001b[0m \u001b[0;34m\u001b[0m\u001b[0m\n",
      "\u001b[0;32m~/anaconda3/envs/pyenv_ub/lib/python3.7/queue.py\u001b[0m in \u001b[0;36mget\u001b[0;34m(self, block, timeout)\u001b[0m\n\u001b[1;32m    168\u001b[0m             \u001b[0;32melif\u001b[0m \u001b[0mtimeout\u001b[0m \u001b[0;32mis\u001b[0m \u001b[0;32mNone\u001b[0m\u001b[0;34m:\u001b[0m\u001b[0;34m\u001b[0m\u001b[0;34m\u001b[0m\u001b[0m\n\u001b[1;32m    169\u001b[0m                 \u001b[0;32mwhile\u001b[0m \u001b[0;32mnot\u001b[0m \u001b[0mself\u001b[0m\u001b[0;34m.\u001b[0m\u001b[0m_qsize\u001b[0m\u001b[0;34m(\u001b[0m\u001b[0;34m)\u001b[0m\u001b[0;34m:\u001b[0m\u001b[0;34m\u001b[0m\u001b[0;34m\u001b[0m\u001b[0m\n\u001b[0;32m--> 170\u001b[0;31m                     \u001b[0mself\u001b[0m\u001b[0;34m.\u001b[0m\u001b[0mnot_empty\u001b[0m\u001b[0;34m.\u001b[0m\u001b[0mwait\u001b[0m\u001b[0;34m(\u001b[0m\u001b[0;34m)\u001b[0m\u001b[0;34m\u001b[0m\u001b[0;34m\u001b[0m\u001b[0m\n\u001b[0m\u001b[1;32m    171\u001b[0m             \u001b[0;32melif\u001b[0m \u001b[0mtimeout\u001b[0m \u001b[0;34m<\u001b[0m \u001b[0;36m0\u001b[0m\u001b[0;34m:\u001b[0m\u001b[0;34m\u001b[0m\u001b[0;34m\u001b[0m\u001b[0m\n\u001b[1;32m    172\u001b[0m                 \u001b[0;32mraise\u001b[0m \u001b[0mValueError\u001b[0m\u001b[0;34m(\u001b[0m\u001b[0;34m\"'timeout' must be a non-negative number\"\u001b[0m\u001b[0;34m)\u001b[0m\u001b[0;34m\u001b[0m\u001b[0;34m\u001b[0m\u001b[0m\n",
      "\u001b[0;32m~/anaconda3/envs/pyenv_ub/lib/python3.7/threading.py\u001b[0m in \u001b[0;36mwait\u001b[0;34m(self, timeout)\u001b[0m\n\u001b[1;32m    294\u001b[0m         \u001b[0;32mtry\u001b[0m\u001b[0;34m:\u001b[0m    \u001b[0;31m# restore state no matter what (e.g., KeyboardInterrupt)\u001b[0m\u001b[0;34m\u001b[0m\u001b[0;34m\u001b[0m\u001b[0m\n\u001b[1;32m    295\u001b[0m             \u001b[0;32mif\u001b[0m \u001b[0mtimeout\u001b[0m \u001b[0;32mis\u001b[0m \u001b[0;32mNone\u001b[0m\u001b[0;34m:\u001b[0m\u001b[0;34m\u001b[0m\u001b[0;34m\u001b[0m\u001b[0m\n\u001b[0;32m--> 296\u001b[0;31m                 \u001b[0mwaiter\u001b[0m\u001b[0;34m.\u001b[0m\u001b[0macquire\u001b[0m\u001b[0;34m(\u001b[0m\u001b[0;34m)\u001b[0m\u001b[0;34m\u001b[0m\u001b[0;34m\u001b[0m\u001b[0m\n\u001b[0m\u001b[1;32m    297\u001b[0m                 \u001b[0mgotit\u001b[0m \u001b[0;34m=\u001b[0m \u001b[0;32mTrue\u001b[0m\u001b[0;34m\u001b[0m\u001b[0;34m\u001b[0m\u001b[0m\n\u001b[1;32m    298\u001b[0m             \u001b[0;32melse\u001b[0m\u001b[0;34m:\u001b[0m\u001b[0;34m\u001b[0m\u001b[0;34m\u001b[0m\u001b[0m\n",
      "\u001b[0;31mKeyboardInterrupt\u001b[0m: "
     ]
    }
   ],
   "source": [
    "df_r=dfr.to_pandas()\n",
    "npartitions=os.cpu_count()\n",
    "#all CPU version\n",
    "b = db.from_sequence(tdeath_values, npartitions=npartitions).map(routine_boostrap_tdeath_group)\n",
    "start = time.time()\n",
    "retval = list(b)\n",
    "if printing:\n",
    "    print(f\"run time for bootstrapping each time value was {time.time()-start:.2f} seconds.\")\n",
    "\n",
    "df_boostrapped=pd.DataFrame(data=np.array(retval), columns=['tdeath','Delta_SR','p_SR'])"
   ]
  },
  {
   "cell_type": "code",
   "execution_count": 93,
   "id": "a520d42f",
   "metadata": {
    "ExecuteTime": {
     "end_time": "2021-10-07T22:19:01.336879Z",
     "start_time": "2021-10-07T22:19:01.312328Z"
    }
   },
   "outputs": [
    {
     "name": "stdout",
     "output_type": "stream",
     "text": [
      "percent of normally distributed time bins appears to be 1.667%\n"
     ]
    }
   ],
   "source": [
    "Delta_SR_values=df_boostrapped['Delta_SR'].values\n",
    "#apparently all bootstrapped mean values are significantly different from the normal distribution for the full simulation...\n",
    "percent_normal=sum(df_boostrapped['p_SR']>0.05)/df_boostrapped['p_SR'].shape[0]*100\n",
    "print(f\"percent of normally distributed time bins appears to be {percent_normal:.3f}%\")\n",
    "\n",
    "Delta_SR_values=df_boostrapped['Delta_SR'].values"
   ]
  },
  {
   "cell_type": "code",
   "execution_count": 94,
   "id": "7454e832",
   "metadata": {
    "ExecuteTime": {
     "end_time": "2021-10-07T22:19:09.509452Z",
     "start_time": "2021-10-07T22:19:09.171168Z"
    }
   },
   "outputs": [
    {
     "data": {
      "image/png": "[encoded data removed]",
      "text/plain": [
       "<Figure size 1080x360 with 3 Axes>"
      ]
     },
     "metadata": {
      "needs_background": "light"
     },
     "output_type": "display_data"
    }
   ],
   "source": [
    "fontsize=20\n",
    "fig, (ax1, ax2, ax3) = plt.subplots(figsize=(15,5), ncols=3)#, sharex=True)\n",
    "ax1.plot(tdeath_values,SR_values)\n",
    "ax1.fill_between(tdeath_values,SR_values-Delta_SR_values,SR_values+Delta_SR_values,alpha=0.3)\n",
    "ax2.plot(tmax_values,a_SR_lst)\n",
    "ax2.fill_between(tmax_values,a_SR_values-Delta_a_SR_values,a_SR_values+Delta_a_SR_values,alpha=0.3)\n",
    "ax2.plot(tmax_values,0.*tmax_values+9.5,'C2--')\n",
    "ax3.plot(tmax_values,Rsq_a_SR_lst)\n",
    "ax3.plot(tmax_values,0.*tmax_values+1.,'gray',linestyle='dashed')\n",
    "format_plot(ax=ax1, xlabel=r'$t_{f}-t$ (ms)', ylabel=r'MSR (cm$^2$)', fontsize=fontsize, use_loglog=False)\n",
    "format_plot(ax=ax2, xlabel=r'$t_{max}$ (ms)', ylabel=r'a (cm$^2$/s)', fontsize=fontsize, use_loglog=False)\n",
    "format_plot(ax=ax3, xlabel=r'$t_{max}$ (ms)', ylabel=r'$R^2$ (cm$^2$)', fontsize=fontsize, use_loglog=False)\n",
    "plt.tight_layout()\n",
    "plt.show()"
   ]
  },
  {
   "cell_type": "code",
   "execution_count": 96,
   "id": "2d7e7ad9",
   "metadata": {
    "ExecuteTime": {
     "end_time": "2021-10-09T00:07:23.052319Z",
     "start_time": "2021-10-09T00:07:23.032337Z"
    },
    "scrolled": true
   },
   "outputs": [
    {
     "name": "stdout",
     "output_type": "stream",
     "text": [
      "a=5.3802+-0.1620 cm^2/s. (R^2=0.9865)\n"
     ]
    }
   ],
   "source": [
    "if printing:\n",
    "    print(f\"a={a_SR:.4f}+-{Delta_a_SR:.4f} cm^2/s. (R^2={Rsq_a_SR:.4f})\")"
   ]
  },
  {
   "cell_type": "code",
   "execution_count": 98,
   "id": "8926afa1",
   "metadata": {
    "ExecuteTime": {
     "end_time": "2021-10-09T00:13:53.242851Z",
     "start_time": "2021-10-09T00:13:53.130218Z"
    }
   },
   "outputs": [
    {
     "name": "stdout",
     "output_type": "stream",
     "text": [
      "a=5.3802+-0.1620 cm^2/s. (R^2=0.9865)\n"
     ]
    },
    {
     "data": {
      "image/png": "[encoded data removed]",
      "text/plain": [
       "<Figure size 432x288 with 1 Axes>"
      ]
     },
     "metadata": {
      "needs_background": "light"
     },
     "output_type": "display_data"
    }
   ],
   "source": [
    "c='C0'\n",
    "#DONE: compute a using numpy\n",
    "tmax=25#ms\n",
    "boo=tdeath_values<tmax\n",
    "x=tdeath_values[boo]/1000 #s\n",
    "y=SR_values[boo]# cm^2\n",
    "dict_force_fit=compute_95CI_ols(x,y)\n",
    "a_SR=dict_force_fit['m']/4\n",
    "Delta_a_SR=dict_force_fit['Delta_m']/4\n",
    "Rsq_a_SR=dict_force_fit['Rsquared']\n",
    "\n",
    "fontsize=20\n",
    "plt.plot(x,y,c)\n",
    "plt.plot(x,x*1.9*4,'C0--')\n",
    "plt.plot(x,x*9.5*4,'C1--')\n",
    "plt.plot(x,x*5*4,'C3--')\n",
    "\n",
    "# print_dict(dict_force_fit)\n",
    "format_plot(ax=plt.gca(), xlabel=r'$t_f-t$ (seconds)', ylabel=r'MSR $cm^2$', fontsize=fontsize, use_loglog=False)\n",
    "# format_plot(ax=plt.gca(), xlabel=r'$t_f-t$ (seconds)', ylabel=r'$R^2$ $cm^2$', fontsize=fontsize, use_loglog=False)\n",
    "print(f\"a={a_SR:.4f}+-{Delta_a_SR:.4f} cm^2/s. (R^2={Rsq_a_SR:.4f})\")\n",
    "plt.title(f'tmax={tmax:.3f} seconds\\n')\n",
    "plt.show()"
   ]
  },
  {
   "cell_type": "code",
   "execution_count": 47,
   "id": "1e7a953c",
   "metadata": {
    "ExecuteTime": {
     "end_time": "2021-10-07T03:20:21.487262Z",
     "start_time": "2021-10-07T03:20:21.464605Z"
    }
   },
   "outputs": [],
   "source": [
    "#DONE: compute mean squared range\n",
    "#DONE: bootstrap 95% CI for R for each tdeath value\n",
    "#DONE: repeat for R_nosavgol\n",
    "#DONE: repeat for R subtracting off the initial value for each annihilation event\n",
    "#DONE: compute a, Delta_a and Rsquared versus tmax using OLS from tdeath=0 to tdeath=tmax\n",
    "#TODO: return a, Delta_a and Rsquared versus tmax for placement in a pandas dataframe\n",
    "#TODO: generate ^that pandas dataframe for an array of values for tavg1 without subtracing off the mean of Rsq\n",
    "#TODO: generate ^that pandas dataframe for an array of values for tavg1 with subtracing off the mean of Rsq\n",
    "#TODO: plot a_SR from tmax=0.2 seconds versus tavg1\n",
    "#TODO: save bluf to .pdf"
   ]
  },
  {
   "cell_type": "markdown",
   "id": "d441ca87",
   "metadata": {},
   "source": [
    "# TODO: plot the attraction coefficient versus tavg1 for the particle model"
   ]
  },
  {
   "cell_type": "code",
   "execution_count": 7,
   "id": "3357679a",
   "metadata": {
    "ExecuteTime": {
     "end_time": "2021-10-20T20:51:04.099320Z",
     "start_time": "2021-10-20T20:51:04.065830Z"
    }
   },
   "outputs": [],
   "source": [
    "#neighbors=1\n",
    "input_fn='/home/timothytyree/Documents/GitHub/bgmc/python/data/local_results/neighbors_1_uniformic_0_fc_2_r_0.1_D_0_L_10_kappa_1500_varkappa_5_N_2/Log/pbc_particle_log2_log.csv' \n",
    "# input_fn='/home/timothytyree/Documents/GitHub/bgmc/python/data/local_results/neighbors_1_uniformic_0_fc_2_r_0.1_D_0_L_10_kappa_1500_varkappa_5/Log/pbc_particle_log2_log.csv'  \n",
    "# input_fn='/home/timothytyree/Documents/GitHub/bgmc/python/data/local_results/neighbors_1_uniformic_0_fc_2_r_0.1_D_2_L_10_kappa_1500_varkappa_5/Log/pbc_particle_log2_log.csv'\n",
    "\n",
    "\n",
    "#neighbors=0\n",
    "# input_fn='/home/timothytyree/Documents/GitHub/bgmc/python/data/local_results/euic_False_fc_2_r_0.1_D_2_L_10_kappa_1500_varkappa_5/smoothed_annihilations_tavg1_4.0_tavg2_14.25_maxdtmax_0_maxRfin_0.2_mindur_15/pbc_particle_log8_log_smoothed_annihilations_denoised.csv'\n",
    "input_fn_lst=get_all_files_matching_pattern(input_fn,'.csv')\n",
    "len(input_fn_lst)\n",
    "\n",
    "max_numfiles=50\n",
    "input_fn_lst=input_fn_lst[:max_numfiles]"
   ]
  },
  {
   "cell_type": "code",
   "execution_count": 8,
   "id": "450635d2",
   "metadata": {
    "ExecuteTime": {
     "end_time": "2021-10-20T20:51:13.089038Z",
     "start_time": "2021-10-20T20:51:13.032432Z"
    }
   },
   "outputs": [],
   "source": [
    "# #neighbors=1\n",
    "# input_fn='/home/timothytyree/Documents/GitHub/bgmc/python/data/local_results/neighbors_1_uniformic_0_fc_2_r_0.1_D_2_L_10_kappa_1500_varkappa_5/Log/pbc_particle_log2_log.csv'\n",
    "# #neighbors=0\n",
    "# # input_fn='/home/timothytyree/Documents/GitHub/bgmc/python/data/local_results/euic_False_fc_2_r_0.1_D_2_L_10_kappa_1500_varkappa_5/Log/pbc_particle_log5_log.csv'\n",
    "df=pd.read_csv(input_fn)\n",
    "pid_col='pid_explicit'\n",
    "t_col='t'\n",
    "DT=np.around(get_DT(df,pid_col=pid_col),7)\n",
    "tavg1_values=np.arange(0,20,4*DT)\n",
    "tmax=25#ms\n",
    "printing=True\n",
    "use_subtract_Rfinal=True\n",
    "use_savgol=False\n",
    "tavg2=14"
   ]
  },
  {
   "cell_type": "code",
   "execution_count": 9,
   "id": "1408adf8",
   "metadata": {
    "ExecuteTime": {
     "end_time": "2021-10-20T20:51:14.496562Z",
     "start_time": "2021-10-20T20:51:14.470922Z"
    }
   },
   "outputs": [
    {
     "data": {
      "text/plain": [
       "<function lib.rapids_func.routines.postprocess_trajectories_cu.routine_postprocess_trajectory_folder(input_fn, DT, tavg1, tavg2=24, max_dtmax_thresh=0, max_Rfinal_thresh=0.2, min_duration_thresh=40, npartitions=None, width=200, height=200, ds=5, use_drop_shorter_than=True, drop_shorter_than=50, tmin=100.0, pid_col='particle', t_col='t', printing=False, printing_routine=False, printing_routine2=False, npartitions2=None, max_num_trials=None, **kwargs)>"
      ]
     },
     "execution_count": 9,
     "metadata": {},
     "output_type": "execute_result"
    }
   ],
   "source": [
    "routine_postprocess_trajectory_folder"
   ]
  },
  {
   "cell_type": "code",
   "execution_count": 10,
   "id": "2e2316f3",
   "metadata": {
    "ExecuteTime": {
     "end_time": "2021-10-20T20:51:15.138516Z",
     "start_time": "2021-10-20T20:51:15.111178Z"
    }
   },
   "outputs": [],
   "source": [
    "def return_attraction_coefficient_for_tavg1_values(input_fn,\n",
    "        tavg1_values, tavg2, DT, use_subtract_Rfinal, use_savgol, printing, ds,\n",
    "        width, height, max_dtmax_thresh, max_Rfinal_thresh,\n",
    "        min_duration_thresh, use_drop_shorter_than, drop_shorter_than, tmin, t_col, pid_col, tmax, \n",
    "                                                   max_num_trials=None,**kwargs):\n",
    "    #compute the attraction coefficient at a long max observation time versus tavg1\n",
    "    a_SR_lst = []\n",
    "    Delta_a_SR_lst = []\n",
    "    Rsq_a_SR_lst = []\n",
    "    for tavg1 in tavg1_values:\n",
    "        #perform the postprocessing routine for a given averaging window\n",
    "        retval = routine_postprocess_trajectory_folder(\n",
    "            input_fn=input_fn,\n",
    "            DT=DT,\n",
    "            tavg1=tavg1,\n",
    "            tavg2=tavg2,\n",
    "            max_dtmax_thresh=max_dtmax_thresh,#0,  #ms\n",
    "            max_Rfinal_thresh=max_Rfinal_thresh,#0.2,  #cm\n",
    "            min_duration_thresh=min_duration_thresh,#15,  #ms #sets maximum tdeath?\n",
    "            npartitions=1,\n",
    "            width=width, #10,\n",
    "            height=height, #10,\n",
    "            ds=ds, #10,\n",
    "            use_drop_shorter_than=use_drop_shorter_than, #False,\n",
    "            drop_shorter_than=drop_shorter_than,#0,  #ms\n",
    "            tmin=tmin,#0.,  #ms\n",
    "            pid_col=pid_col,\n",
    "            t_col=t_col,\n",
    "            printing=False,\n",
    "        max_num_trials=max_num_trials)\n",
    "        save_dir_lst, save_dir_lst2 = retval\n",
    "        dir_lst = [\n",
    "            fn for fn in save_dir_lst2 if type(fn) == type('any string')\n",
    "        ]\n",
    "        dir_missing_lst = [\n",
    "            fn for fn in dir_lst if not os.path.exists(fn)\n",
    "        ]\n",
    "        if len(dir_missing_lst)>0:\n",
    "            print(len(dir_missing_lst))\n",
    "            print(dir_missing_lst[0])\n",
    "        #load the resulting folder of csv data\n",
    "        dfr = dask_cudf.read_csv(dir_lst).compute()\n",
    "        #     DT=get_DT_cu(dfr, t_col='t', pid_col='pid_self', round_digits=7)\n",
    "        dfr = dfr.sort_values(by=['event_id_int', 'pid_self', 'tdeath'],\n",
    "                              ascending=True)\n",
    "\n",
    "        dfr = dfr.set_index(['event_id_int', 'pid_self', 'pid_other'])\n",
    "        \n",
    "#         def compute_MSR_values(dfr,DT,):\n",
    "        df_r0 = dfr.loc[dfr['tdeath'] == 0, 'R_nosavgol']\n",
    "        #subtract off zero without savgol\n",
    "        dfr['R_nosavgol0'] = df_r0\n",
    "        dfr['R_nosavgol0'] = dfr['R_nosavgol'] - dfr['R_nosavgol0']\n",
    "        #subtract off zero with savgol\n",
    "        df_r0 = dfr.loc[dfr['tdeath'] == 0, 'R']\n",
    "        dfr['R0'] = df_r0\n",
    "        dfr['R0'] = dfr['R'] - dfr['R0']\n",
    "        dfr.reset_index(inplace=True)\n",
    "\n",
    "        if use_subtract_Rfinal:\n",
    "            if not use_savgol:\n",
    "                dfr['SR'] = dfr[\n",
    "                    'R_nosavgol0']**2  #looks nice but the values are too small to be reasonable\n",
    "            else:\n",
    "                dfr['SR'] = dfr['R0']**2  #does not work reasonably well\n",
    "        else:\n",
    "            if not use_savgol:\n",
    "                dfr['SR'] = dfr['R_nosavgol']**2  #works reasonably well\n",
    "            else:\n",
    "                dfr['SR'] = dfr['R']**2  #does not work reasonably well\n",
    "\n",
    "        mean_R_vs_tdeath = dfr.groupby('tdeath')[['SR']].describe()['SR'][[\n",
    "            'mean', 'count'\n",
    "        ]]\n",
    "\n",
    "        #identify the max tdeath with the max number of counts\n",
    "        tmaxmax = mean_R_vs_tdeath['count'].max()\n",
    "        boo = tmaxmax == mean_R_vs_tdeath['count']\n",
    "        tdeath_values = mean_R_vs_tdeath[boo].index.values.get() + DT\n",
    "        SR_values = mean_R_vs_tdeath[boo]['mean'].values.get()\n",
    "        \n",
    "        #compute the attraction coefficient using OLS\n",
    "        a_SR, Delta_a_SR, Rsq_a_SR = comp_a_SR(tdeath_values, SR_values, tmax)\n",
    "        if printing:\n",
    "            print(\n",
    "                f\"tavg1={tavg1}: a={a_SR:.7f}+-{Delta_a_SR:.7f} cm^2/s (R^2={Rsq_a_SR:.7f})\"\n",
    "            )\n",
    "\n",
    "        #record\n",
    "        a_SR_lst.append(a_SR)\n",
    "        Delta_a_SR_lst.append(Delta_a_SR)\n",
    "        Rsq_a_SR_lst.append(Rsq_a_SR)\n",
    "    a_SR_values = np.array(a_SR_lst)\n",
    "    Delta_a_SR_values = np.array(Delta_a_SR_lst)\n",
    "    Rsq_a_SR_values = np.array(Rsq_a_SR_lst)\n",
    "    return a_SR_values, Delta_a_SR_values, Rsq_a_SR_values"
   ]
  },
  {
   "cell_type": "code",
   "execution_count": 11,
   "id": "e82a4418",
   "metadata": {
    "ExecuteTime": {
     "end_time": "2021-10-20T20:51:16.071398Z",
     "start_time": "2021-10-20T20:51:16.052200Z"
    }
   },
   "outputs": [
    {
     "data": {
      "text/plain": [
       "1"
      ]
     },
     "execution_count": 11,
     "metadata": {},
     "output_type": "execute_result"
    }
   ],
   "source": [
    "# a_SR_values=np.array(a_SR_lst)\n",
    "# Delta_a_SR_values=np.array(Delta_a_SR_lst)\n",
    "# Rsq_a_SR_values=np.array(Rsq_a_SR_lst)\n",
    "1"
   ]
  },
  {
   "cell_type": "code",
   "execution_count": 12,
   "id": "6d3751cb",
   "metadata": {
    "ExecuteTime": {
     "end_time": "2021-10-20T20:51:16.458115Z",
     "start_time": "2021-10-20T20:51:16.438949Z"
    }
   },
   "outputs": [],
   "source": [
    "def gener_attraction_coefficient_figure(ax2, ax3, a_SR_values, Delta_a_SR_values, Rsq_a_SR_values, fontsize=20):\n",
    "    # ax1.plot(tdeath_values,SR_values)\n",
    "    # ax1.fill_between(tdeath_values,SR_values-Delta_SR_values,SR_values+Delta_SR_values,alpha=0.3)\n",
    "    ax2.plot(tavg1_values,a_SR_values)\n",
    "    ax2.fill_between(tavg1_values,a_SR_values-Delta_a_SR_values,a_SR_values+Delta_a_SR_values,alpha=0.3)\n",
    "    ax2.plot(tavg1_values,0.*tavg1_values+5,'C3--')\n",
    "    ax3.plot(tavg1_values,Rsq_a_SR_values)\n",
    "    ax3.plot(tavg1_values,0.*tavg1_values+1.,'gray',linestyle='dashed')\n",
    "    # format_plot(ax=ax1, xlabel=r'$t_{f}-t$ (ms)', ylabel=r'MSR (cm$^2$)', fontsize=fontsize, use_loglog=False)\n",
    "    format_plot(ax=ax2, xlabel=r'$t_{avg1}$ (ms)', ylabel=r'a (cm$^2$/s)', fontsize=fontsize, use_loglog=False)\n",
    "    format_plot(ax=ax3, xlabel=r'$t_{avg1}$ (ms)', ylabel=r'$R^2$ (cm$^2$)', fontsize=fontsize, use_loglog=False)"
   ]
  },
  {
   "cell_type": "markdown",
   "id": "2b24c38d",
   "metadata": {},
   "source": [
    "## experiment on the particle model"
   ]
  },
  {
   "cell_type": "code",
   "execution_count": 13,
   "id": "18db122a",
   "metadata": {
    "ExecuteTime": {
     "end_time": "2021-10-20T20:51:23.960128Z",
     "start_time": "2021-10-20T20:51:23.939856Z"
    }
   },
   "outputs": [],
   "source": [
    "printing=True\n",
    "kwargs=dict(printing=printing, ds=10,\n",
    "        width=10, height=10, max_dtmax_thresh=0, max_Rfinal_thresh=0.2,\n",
    "        min_duration_thresh=15, use_drop_shorter_than=False, drop_shorter_than=0, tmin=0,pid_col='pid_explicit',\n",
    "        t_col='t', tavg2=14, tmax=25, max_num_trials=None)"
   ]
  },
  {
   "cell_type": "code",
   "execution_count": 15,
   "id": "2d774374",
   "metadata": {
    "ExecuteTime": {
     "end_time": "2021-10-22T20:07:19.562814Z",
     "start_time": "2021-10-22T20:07:19.539441Z"
    }
   },
   "outputs": [
    {
     "data": {
      "text/plain": [
       "1"
      ]
     },
     "execution_count": 15,
     "metadata": {},
     "output_type": "execute_result"
    }
   ],
   "source": [
    "1"
   ]
  },
  {
   "cell_type": "code",
   "execution_count": null,
   "id": "41fe7343",
   "metadata": {},
   "outputs": [],
   "source": [
    "a_SR_values, Delta_a_SR_values, Rsq_a_SR_values=return_attraction_coefficient_for_tavg1_values(input_fn=input_fn,tavg1_values=tavg1_values, DT=DT, use_subtract_Rfinal=use_subtract_Rfinal, use_savgol=use_savgol, **kwargs)    \n"
   ]
  },
  {
   "cell_type": "code",
   "execution_count": 14,
   "id": "5d51f666",
   "metadata": {
    "ExecuteTime": {
     "end_time": "2021-10-20T20:55:55.437197Z",
     "start_time": "2021-10-20T20:53:02.573851Z"
    },
    "scrolled": false
   },
   "outputs": [
    {
     "name": "stdout",
     "output_type": "stream",
     "text": [
      "use_subtract_Rfinal=False, use_savgol=False\n"
     ]
    },
    {
     "ename": "FileNotFoundError",
     "evalue": "A file in: [] does not exist.",
     "output_type": "error",
     "traceback": [
      "\u001b[0;31m---------------------------------------------------------------------------\u001b[0m",
      "\u001b[0;31mFileNotFoundError\u001b[0m                         Traceback (most recent call last)",
      "\u001b[0;32m/tmp/ipykernel_50085/3374574033.py\u001b[0m in \u001b[0;36m<module>\u001b[0;34m\u001b[0m\n\u001b[1;32m     12\u001b[0m \u001b[0muse_savgol\u001b[0m\u001b[0;34m=\u001b[0m\u001b[0;32mFalse\u001b[0m\u001b[0;34m\u001b[0m\u001b[0;34m\u001b[0m\u001b[0m\n\u001b[1;32m     13\u001b[0m \u001b[0mprint\u001b[0m\u001b[0;34m(\u001b[0m\u001b[0;34mf\"use_subtract_Rfinal={use_subtract_Rfinal}, use_savgol={use_subtract_Rfinal}\"\u001b[0m\u001b[0;34m)\u001b[0m\u001b[0;34m\u001b[0m\u001b[0;34m\u001b[0m\u001b[0m\n\u001b[0;32m---> 14\u001b[0;31m \u001b[0ma_SR_values\u001b[0m\u001b[0;34m,\u001b[0m \u001b[0mDelta_a_SR_values\u001b[0m\u001b[0;34m,\u001b[0m \u001b[0mRsq_a_SR_values\u001b[0m\u001b[0;34m=\u001b[0m\u001b[0mreturn_attraction_coefficient_for_tavg1_values\u001b[0m\u001b[0;34m(\u001b[0m\u001b[0minput_fn\u001b[0m\u001b[0;34m=\u001b[0m\u001b[0minput_fn\u001b[0m\u001b[0;34m,\u001b[0m\u001b[0mtavg1_values\u001b[0m\u001b[0;34m=\u001b[0m\u001b[0mtavg1_values\u001b[0m\u001b[0;34m,\u001b[0m \u001b[0mDT\u001b[0m\u001b[0;34m=\u001b[0m\u001b[0mDT\u001b[0m\u001b[0;34m,\u001b[0m \u001b[0muse_subtract_Rfinal\u001b[0m\u001b[0;34m=\u001b[0m\u001b[0muse_subtract_Rfinal\u001b[0m\u001b[0;34m,\u001b[0m \u001b[0muse_savgol\u001b[0m\u001b[0;34m=\u001b[0m\u001b[0muse_savgol\u001b[0m\u001b[0;34m,\u001b[0m \u001b[0;34m**\u001b[0m\u001b[0mkwargs\u001b[0m\u001b[0;34m)\u001b[0m\u001b[0;34m\u001b[0m\u001b[0;34m\u001b[0m\u001b[0m\n\u001b[0m\u001b[1;32m     15\u001b[0m \u001b[0mfig\u001b[0m\u001b[0;34m,\u001b[0m \u001b[0;34m(\u001b[0m\u001b[0max2\u001b[0m\u001b[0;34m,\u001b[0m \u001b[0max3\u001b[0m\u001b[0;34m)\u001b[0m \u001b[0;34m=\u001b[0m \u001b[0mplt\u001b[0m\u001b[0;34m.\u001b[0m\u001b[0msubplots\u001b[0m\u001b[0;34m(\u001b[0m\u001b[0mfigsize\u001b[0m\u001b[0;34m=\u001b[0m\u001b[0;34m(\u001b[0m\u001b[0;36m10\u001b[0m\u001b[0;34m,\u001b[0m\u001b[0;36m5\u001b[0m\u001b[0;34m)\u001b[0m\u001b[0;34m,\u001b[0m \u001b[0mncols\u001b[0m\u001b[0;34m=\u001b[0m\u001b[0;36m2\u001b[0m\u001b[0;34m)\u001b[0m\u001b[0;31m#, sharex=True)\u001b[0m\u001b[0;34m\u001b[0m\u001b[0;34m\u001b[0m\u001b[0m\n\u001b[1;32m     16\u001b[0m \u001b[0mgener_attraction_coefficient_figure\u001b[0m\u001b[0;34m(\u001b[0m\u001b[0max2\u001b[0m\u001b[0;34m,\u001b[0m \u001b[0max3\u001b[0m\u001b[0;34m,\u001b[0m \u001b[0ma_SR_values\u001b[0m\u001b[0;34m,\u001b[0m \u001b[0mDelta_a_SR_values\u001b[0m\u001b[0;34m,\u001b[0m \u001b[0mRsq_a_SR_values\u001b[0m\u001b[0;34m,\u001b[0m \u001b[0mfontsize\u001b[0m\u001b[0;34m=\u001b[0m\u001b[0;36m20\u001b[0m\u001b[0;34m)\u001b[0m\u001b[0;34m\u001b[0m\u001b[0;34m\u001b[0m\u001b[0m\n",
      "\u001b[0;32m/tmp/ipykernel_50085/2714498039.py\u001b[0m in \u001b[0;36mreturn_attraction_coefficient_for_tavg1_values\u001b[0;34m(input_fn, tavg1_values, tavg2, DT, use_subtract_Rfinal, use_savgol, printing, ds, width, height, max_dtmax_thresh, max_Rfinal_thresh, min_duration_thresh, use_drop_shorter_than, drop_shorter_than, tmin, t_col, pid_col, tmax, max_num_trials, **kwargs)\u001b[0m\n\u001b[1;32m     40\u001b[0m             \u001b[0mprint\u001b[0m\u001b[0;34m(\u001b[0m\u001b[0mdir_missing_lst\u001b[0m\u001b[0;34m[\u001b[0m\u001b[0;36m0\u001b[0m\u001b[0;34m]\u001b[0m\u001b[0;34m)\u001b[0m\u001b[0;34m\u001b[0m\u001b[0;34m\u001b[0m\u001b[0m\n\u001b[1;32m     41\u001b[0m         \u001b[0;31m#load the resulting folder of csv data\u001b[0m\u001b[0;34m\u001b[0m\u001b[0;34m\u001b[0m\u001b[0;34m\u001b[0m\u001b[0m\n\u001b[0;32m---> 42\u001b[0;31m         \u001b[0mdfr\u001b[0m \u001b[0;34m=\u001b[0m \u001b[0mdask_cudf\u001b[0m\u001b[0;34m.\u001b[0m\u001b[0mread_csv\u001b[0m\u001b[0;34m(\u001b[0m\u001b[0mdir_lst\u001b[0m\u001b[0;34m)\u001b[0m\u001b[0;34m.\u001b[0m\u001b[0mcompute\u001b[0m\u001b[0;34m(\u001b[0m\u001b[0;34m)\u001b[0m\u001b[0;34m\u001b[0m\u001b[0;34m\u001b[0m\u001b[0m\n\u001b[0m\u001b[1;32m     43\u001b[0m         \u001b[0;31m#     DT=get_DT_cu(dfr, t_col='t', pid_col='pid_self', round_digits=7)\u001b[0m\u001b[0;34m\u001b[0m\u001b[0;34m\u001b[0m\u001b[0;34m\u001b[0m\u001b[0m\n\u001b[1;32m     44\u001b[0m         dfr = dfr.sort_values(by=['event_id_int', 'pid_self', 'tdeath'],\n",
      "\u001b[0;32m~/anaconda3/envs/pyenv_ub/lib/python3.7/site-packages/dask_cudf/io/csv.py\u001b[0m in \u001b[0;36mread_csv\u001b[0;34m(path, chunksize, **kwargs)\u001b[0m\n\u001b[1;32m     67\u001b[0m         \u001b[0;32mreturn\u001b[0m \u001b[0mfunc\u001b[0m\u001b[0;34m(\u001b[0m\u001b[0mpath\u001b[0m\u001b[0;34m,\u001b[0m \u001b[0mblocksize\u001b[0m\u001b[0;34m=\u001b[0m\u001b[0mchunksize\u001b[0m\u001b[0;34m,\u001b[0m \u001b[0;34m**\u001b[0m\u001b[0mkwargs\u001b[0m\u001b[0;34m)\u001b[0m\u001b[0;34m\u001b[0m\u001b[0;34m\u001b[0m\u001b[0m\n\u001b[1;32m     68\u001b[0m     \u001b[0;32melse\u001b[0m\u001b[0;34m:\u001b[0m\u001b[0;34m\u001b[0m\u001b[0;34m\u001b[0m\u001b[0m\n\u001b[0;32m---> 69\u001b[0;31m         \u001b[0;32mreturn\u001b[0m \u001b[0m_internal_read_csv\u001b[0m\u001b[0;34m(\u001b[0m\u001b[0mpath\u001b[0m\u001b[0;34m=\u001b[0m\u001b[0mpath\u001b[0m\u001b[0;34m,\u001b[0m \u001b[0mchunksize\u001b[0m\u001b[0;34m=\u001b[0m\u001b[0mchunksize\u001b[0m\u001b[0;34m,\u001b[0m \u001b[0;34m**\u001b[0m\u001b[0mkwargs\u001b[0m\u001b[0;34m)\u001b[0m\u001b[0;34m\u001b[0m\u001b[0;34m\u001b[0m\u001b[0m\n\u001b[0m\u001b[1;32m     70\u001b[0m \u001b[0;34m\u001b[0m\u001b[0m\n\u001b[1;32m     71\u001b[0m \u001b[0;34m\u001b[0m\u001b[0m\n",
      "\u001b[0;32m~/anaconda3/envs/pyenv_ub/lib/python3.7/site-packages/dask_cudf/io/csv.py\u001b[0m in \u001b[0;36m_internal_read_csv\u001b[0;34m(path, chunksize, **kwargs)\u001b[0m\n\u001b[1;32m     85\u001b[0m     \u001b[0;32mif\u001b[0m \u001b[0;32mnot\u001b[0m \u001b[0mfilenames\u001b[0m\u001b[0;34m:\u001b[0m\u001b[0;34m\u001b[0m\u001b[0;34m\u001b[0m\u001b[0m\n\u001b[1;32m     86\u001b[0m         \u001b[0mmsg\u001b[0m \u001b[0;34m=\u001b[0m \u001b[0;34mf\"A file in: {filenames} does not exist.\"\u001b[0m\u001b[0;34m\u001b[0m\u001b[0;34m\u001b[0m\u001b[0m\n\u001b[0;32m---> 87\u001b[0;31m         \u001b[0;32mraise\u001b[0m \u001b[0mFileNotFoundError\u001b[0m\u001b[0;34m(\u001b[0m\u001b[0mmsg\u001b[0m\u001b[0;34m)\u001b[0m\u001b[0;34m\u001b[0m\u001b[0;34m\u001b[0m\u001b[0m\n\u001b[0m\u001b[1;32m     88\u001b[0m \u001b[0;34m\u001b[0m\u001b[0m\n\u001b[1;32m     89\u001b[0m     name = \"read-csv-\" + tokenize(\n",
      "\u001b[0;31mFileNotFoundError\u001b[0m: A file in: [] does not exist."
     ]
    }
   ],
   "source": [
    "# #parameterize the different methods, holding tavg2=14 ms fixed and varying tavg1 from 0 to 20 ms\n",
    "# use_subtract_Rfinal=True\n",
    "# use_savgol=True\n",
    "# a_SR_values, Delta_a_SR_values, Rsq_a_SR_values=return_attraction_coefficient_for_tavg1_values(input_fn=input_fn,tavg1_values=tavg1_values, DT=DT, use_subtract_Rfinal=use_subtract_Rfinal, use_savgol=use_savgol, **kwargs)    \n",
    "# fig, (ax2, ax3) = plt.subplots(figsize=(10,5), ncols=2)#, sharex=True)\n",
    "# gener_attraction_coefficient_figure(ax2, ax3, a_SR_values, Delta_a_SR_values, Rsq_a_SR_values, fontsize=20)\n",
    "# plt.title(f\"use_subtract_Rfinal={use_subtract_Rfinal}, use_savgol={use_savgol}\\n\")\n",
    "# plt.tight_layout()\n",
    "# plt.show()\n",
    "\n",
    "use_subtract_Rfinal=False\n",
    "use_savgol=False\n",
    "print(f\"use_subtract_Rfinal={use_subtract_Rfinal}, use_savgol={use_subtract_Rfinal}\")\n",
    "a_SR_values, Delta_a_SR_values, Rsq_a_SR_values=return_attraction_coefficient_for_tavg1_values(input_fn=input_fn,tavg1_values=tavg1_values, DT=DT, use_subtract_Rfinal=use_subtract_Rfinal, use_savgol=use_savgol, **kwargs)    \n",
    "fig, (ax2, ax3) = plt.subplots(figsize=(10,5), ncols=2)#, sharex=True)\n",
    "gener_attraction_coefficient_figure(ax2, ax3, a_SR_values, Delta_a_SR_values, Rsq_a_SR_values, fontsize=20)\n",
    "plt.title(f\"use_subtract_Rfinal={use_subtract_Rfinal}, use_savgol={use_savgol}\\n\")\n",
    "plt.tight_layout()\n",
    "plt.show()\n",
    "\n",
    "\n",
    "use_subtract_Rfinal=False\n",
    "use_savgol=True\n",
    "print(f\"use_subtract_Rfinal={use_subtract_Rfinal}, use_savgol={use_subtract_Rfinal}\")\n",
    "a_SR_values, Delta_a_SR_values, Rsq_a_SR_values=return_attraction_coefficient_for_tavg1_values(input_fn=input_fn,tavg1_values=tavg1_values, DT=DT, use_subtract_Rfinal=use_subtract_Rfinal, use_savgol=use_savgol, **kwargs)    \n",
    "fig, (ax2, ax3) = plt.subplots(figsize=(10,5), ncols=2)#, sharex=True)\n",
    "gener_attraction_coefficient_figure(ax2, ax3, a_SR_values, Delta_a_SR_values, Rsq_a_SR_values, fontsize=20)\n",
    "plt.title(f\"use_subtract_Rfinal={use_subtract_Rfinal}, use_savgol={use_savgol}\\n\")\n",
    "plt.tight_layout()\n",
    "plt.show()\n",
    "\n",
    "use_subtract_Rfinal=True\n",
    "use_savgol=False\n",
    "print(f\"use_subtract_Rfinal={use_subtract_Rfinal}, use_savgol={use_subtract_Rfinal}\")\n",
    "a_SR_values, Delta_a_SR_values, Rsq_a_SR_values=return_attraction_coefficient_for_tavg1_values(input_fn=input_fn,tavg1_values=tavg1_values, DT=DT, use_subtract_Rfinal=use_subtract_Rfinal, use_savgol=use_savgol, **kwargs)    \n",
    "fig, (ax2, ax3) = plt.subplots(figsize=(10,5), ncols=2)#, sharex=True)\n",
    "gener_attraction_coefficient_figure(ax2, ax3, a_SR_values, Delta_a_SR_values, Rsq_a_SR_values, fontsize=20)\n",
    "plt.title(f\"use_subtract_Rfinal={use_subtract_Rfinal}, use_savgol={use_savgol}\\n\")\n",
    "plt.tight_layout()\n",
    "plt.show()\n",
    "\n"
   ]
  },
  {
   "cell_type": "code",
   "execution_count": 28,
   "id": "d87b7004",
   "metadata": {
    "ExecuteTime": {
     "end_time": "2021-10-13T20:49:07.784164Z",
     "start_time": "2021-10-13T20:49:06.743870Z"
    }
   },
   "outputs": [
    {
     "name": "stdout",
     "output_type": "stream",
     "text": [
      "\u0007\u0007\u0007\u0007\u0007"
     ]
    },
    {
     "data": {
      "text/plain": [
       "0"
      ]
     },
     "execution_count": 28,
     "metadata": {},
     "output_type": "execute_result"
    }
   ],
   "source": [
    "beep(5)"
   ]
  },
  {
   "cell_type": "markdown",
   "id": "ecc88ba1",
   "metadata": {
    "ExecuteTime": {
     "end_time": "2021-10-09T21:26:39.887084Z",
     "start_time": "2021-10-09T21:26:39.862845Z"
    }
   },
   "source": [
    "## Repeat tavg1 variation experiment for 1 run for either of the full models"
   ]
  },
  {
   "cell_type": "code",
   "execution_count": 143,
   "id": "30b8ef3e",
   "metadata": {
    "ExecuteTime": {
     "end_time": "2021-10-11T23:59:26.955189Z",
     "start_time": "2021-10-11T23:59:13.584950Z"
    }
   },
   "outputs": [
    {
     "name": "stdout",
     "output_type": "stream",
     "text": [
      "File: /home/timothytyree/Documents/GitHub/care/notebooks/Data/initial-conditions-fk-200x200/param_set_8_ds_5.0_tmax_10_diffcoef_0.001/trajectories/ic200x200.0.6_traj_sr_400_mem_0.csv\n"
     ]
    }
   ],
   "source": [
    "input_fn=search_for_file('/home/timothytyree/Documents/GitHub/care/notebooks/Data/initial-conditions-fk-200x200/param_set_8_ds_5.0_tmax_10_diffCoef_0.001')"
   ]
  },
  {
   "cell_type": "code",
   "execution_count": null,
   "id": "7c31c232",
   "metadata": {},
   "outputs": [],
   "source": []
  },
  {
   "cell_type": "code",
   "execution_count": 16,
   "id": "2dae231e",
   "metadata": {
    "ExecuteTime": {
     "end_time": "2021-10-12T00:20:14.968409Z",
     "start_time": "2021-10-12T00:20:14.466952Z"
    }
   },
   "outputs": [
    {
     "name": "stdout",
     "output_type": "stream",
     "text": [
      " ********************************************\n",
      " *** starting experiment for LR low res...***\n",
      "[ 0.  2.  4.  6.  8. 10. 12. 14. 16. 18. 20.]\n"
     ]
    }
   ],
   "source": [
    "print(f\" ********************************************\\n *** starting experiment for LR low res...***\")\n",
    "#LR low res\n",
    "input_fn='/home/timothytyree/Documents/GitHub/care/notebooks/Data/initial-conditions-suite-3-LR/param_qu_tmax_30_Ko_5.4_diffCoef_0.0005_dt_0.5/trajectories/ic002.11_traj_sr_600_mem_0.csv'\n",
    "#FK low res\n",
    "# input_fn= '/home/timothytyree/Documents/GitHub/care/notebooks/Data/initial-conditions-fk-200x200/param_set_8_ds_5.0_tmax_10_diffCoef_0.0005/Log/ic200x200.0.2_traj_sr_400_mem_0.csv'\n",
    "#FK high res\n",
    "# input_fn= '/home/timothytyree/Documents/GitHub/care/notebooks/Data/initial-conditions-fk-200x200/param_set_8_ds_5.0_tmax_30_diffCoef_0.001_dt_0.025/trajectories/ic200x200.0.8_traj_sr_600_mem_0.csv'\n",
    "\n",
    "input_input_fn_lst=[\n",
    "    '/home/timothytyree/Documents/GitHub/care/notebooks/Data/initial-conditions-suite-3-LR/param_qu_tmax_30_Ko_5.4_diffCoef_0.0005_dt_0.5/trajectories/ic002.11_traj_sr_600_mem_0.csv',\n",
    "    \"/home/timothytyree/Documents/GitHub/care/notebooks/Data/initial-conditions-fk-200x200/param_set_8_ds_5.0_tmax_10_diffcoef_0.001/trajectories/ic200x200.0.6_traj_sr_400_mem_0.csv\",\n",
    "# DVmem is too little    '/home/timothytyree/Documents/GitHub/care/notebooks/Data/initial-conditions-fk-200x200/param_set_8_ds_5.0_tmax_10_diffCoef_0.0005/Log/ic200x200.0.2_traj_sr_400_mem_0.csv',\n",
    "# too much data    '/home/timothytyree/Documents/GitHub/care/notebooks/Data/initial-conditions-fk-200x200/param_set_8_ds_5.0_tmax_30_diffCoef_0.001_dt_0.025/trajectories/ic200x200.0.8_traj_sr_600_mem_0.csv',\n",
    "]\n",
    "input_label_lst=[\n",
    "    f\" ********************************************\\n *** starting experiment for LR low res...***\",\n",
    "    f\" ********************************************\\n *** starting experiment for FK low res...***\",\n",
    "#     f\" ********************************************\\n *** starting experiment for FK high res..***\"\n",
    "]\n",
    "input_fn=input_input_fn_lst[0]\n",
    "assert(os.path.exists(input_fn))\n",
    "df=pd.read_csv(input_fn)\n",
    "DT=np.around(get_DT(df,pid_col='particle'),7)\n",
    "tavg1_values=np.arange(0,22,4*DT)\n",
    "# tavg1_values=np.arange(0,20,4*DT)\n",
    "print(tavg1_values)\n",
    "use_subtract_Rfinal=True\n",
    "use_savgol=False"
   ]
  },
  {
   "cell_type": "code",
   "execution_count": 25,
   "id": "fabb1bfd",
   "metadata": {
    "ExecuteTime": {
     "end_time": "2021-10-12T00:34:07.224913Z",
     "start_time": "2021-10-12T00:34:07.204522Z"
    }
   },
   "outputs": [],
   "source": [
    "printing=True\n",
    "kwargs=dict(printing=printing, ds=5,\n",
    "        width=200, height=200, max_dtmax_thresh=0, max_Rfinal_thresh=0.2,\n",
    "        min_duration_thresh=20, use_drop_shorter_than=True, drop_shorter_than=40, tmin=100,pid_col='particle',\n",
    "        t_col='t', tavg2=14, tmax=25)#1000)#\n",
    "# printing=True\n",
    "# kwargs=dict(printing=printing, ds=5,\n",
    "#         width=200, height=200, max_dtmax_thresh=0, max_Rfinal_thresh=0.2,\n",
    "#         min_duration_thresh=40, use_drop_shorter_than=True, drop_shorter_than=40, tmin=100,pid_col='particle',\n",
    "#         t_col='t', tavg2=14, tmax=25)"
   ]
  },
  {
   "cell_type": "code",
   "execution_count": 26,
   "id": "b4a58717",
   "metadata": {
    "ExecuteTime": {
     "end_time": "2021-10-12T00:34:10.064887Z",
     "start_time": "2021-10-12T00:34:10.038525Z"
    }
   },
   "outputs": [],
   "source": [
    "# a_SR_values, Delta_a_SR_values, Rsq_a_SR_values=return_attraction_coefficient_for_tavg1_values(input_fn=input_fn,tavg1_values=tavg1_values, DT=DT, use_subtract_Rfinal=use_subtract_Rfinal, use_savgol=use_savgol, **kwargs)"
   ]
  },
  {
   "cell_type": "code",
   "execution_count": 27,
   "id": "102980f5",
   "metadata": {
    "ExecuteTime": {
     "end_time": "2021-10-12T03:39:41.290884Z",
     "start_time": "2021-10-12T00:34:11.158699Z"
    }
   },
   "outputs": [
    {
     "name": "stdout",
     "output_type": "stream",
     "text": [
      " ********************************************\n",
      " *** starting experiment for LR low res...***\n",
      "tavg1=0.0: a=2.9661480+-0.0340133 cm^2/s (R^2=0.9983938)\n",
      "tavg1=2.0: a=2.5958861+-0.0204362 cm^2/s (R^2=0.9992423)\n",
      "tavg1=4.0: a=2.4974629+-0.0155814 cm^2/s (R^2=0.9995240)\n",
      "tavg1=6.0: a=2.9520023+-0.0314716 cm^2/s (R^2=0.9986114)\n",
      "tavg1=8.0: a=3.3419097+-0.1313336 cm^2/s (R^2=0.9814553)\n",
      "tavg1=10.0: a=3.1647957+-0.1532347 cm^2/s (R^2=0.9721178)\n",
      "tavg1=12.0: a=3.0603334+-0.0951865 cm^2/s (R^2=0.9883026)\n",
      "tavg1=14.0: a=2.8646343+-0.0872465 cm^2/s (R^2=0.9887787)\n",
      "tavg1=16.0: a=2.5445278+-0.1198070 cm^2/s (R^2=0.9735933)\n",
      "tavg1=18.0: a=1.4140989+-0.1097110 cm^2/s (R^2=0.9368781)\n"
     ]
    },
    {
     "data": {
      "image/png": "[encoded data removed]",
      "text/plain": [
       "<Figure size 720x360 with 2 Axes>"
      ]
     },
     "metadata": {
      "needs_background": "light"
     },
     "output_type": "display_data"
    },
    {
     "name": "stdout",
     "output_type": "stream",
     "text": [
      "tavg1=0.0: a=0.6814059+-0.0249640 cm^2/s (R^2=0.9838442)\n",
      "tavg1=2.0: a=1.2136297+-0.0203246 cm^2/s (R^2=0.9965805)\n",
      "tavg1=4.0: a=1.1725654+-0.0505630 cm^2/s (R^2=0.9777563)\n",
      "tavg1=6.0: a=1.7923562+-0.1760296 cm^2/s (R^2=0.8944486)\n",
      "tavg1=8.0: a=2.7624912+-0.1698762 cm^2/s (R^2=0.9557811)\n",
      "tavg1=10.0: a=4.0375116+-0.1683457 cm^2/s (R^2=0.9791732)\n",
      "tavg1=12.0: a=4.8396234+-0.1512399 cm^2/s (R^2=0.9881931)\n",
      "tavg1=14.0: a=4.7005942+-0.2099515 cm^2/s (R^2=0.9761743)\n",
      "tavg1=16.0: a=3.7578442+-0.1428801 cm^2/s (R^2=0.9826205)\n",
      "tavg1=18.0: a=2.4848587+-0.1506876 cm^2/s (R^2=0.9604643)\n"
     ]
    },
    {
     "data": {
      "image/png": "[encoded data removed]",
      "text/plain": [
       "<Figure size 720x360 with 2 Axes>"
      ]
     },
     "metadata": {
      "needs_background": "light"
     },
     "output_type": "display_data"
    },
    {
     "name": "stdout",
     "output_type": "stream",
     "text": [
      "tavg1=0.0: a=4.2285672+-0.0886969 cm^2/s (R^2=0.9946459)\n",
      "tavg1=2.0: a=4.0964857+-0.1413067 cm^2/s (R^2=0.9856513)\n",
      "tavg1=4.0: a=3.8705749+-0.2109489 cm^2/s (R^2=0.9649339)\n",
      "tavg1=6.0: a=3.7207074+-0.1999429 cm^2/s (R^2=0.9658754)\n",
      "tavg1=8.0: a=3.5285207+-0.1834216 cm^2/s (R^2=0.9679981)\n",
      "tavg1=10.0: a=3.6033901+-0.1669526 cm^2/s (R^2=0.9744088)\n",
      "tavg1=12.0: a=2.9659126+-0.1256028 cm^2/s (R^2=0.9785295)\n",
      "tavg1=14.0: a=2.8926453+-0.1451320 cm^2/s (R^2=0.9701222)\n",
      "tavg1=16.0: a=2.5312672+-0.1239590 cm^2/s (R^2=0.9714959)\n",
      "tavg1=18.0: a=1.4454959+-0.1137738 cm^2/s (R^2=0.9351530)\n"
     ]
    },
    {
     "data": {
      "image/png": "[encoded data removed]",
      "text/plain": [
       "<Figure size 720x360 with 2 Axes>"
      ]
     },
     "metadata": {
      "needs_background": "light"
     },
     "output_type": "display_data"
    },
    {
     "name": "stdout",
     "output_type": "stream",
     "text": [
      "tavg1=0.0: a=5.5273233+-0.0502060 cm^2/s (R^2=0.9989916)\n",
      "tavg1=2.0: a=5.9832239+-0.0726470 cm^2/s (R^2=0.9981996)\n",
      "tavg1=4.0: a=5.9394872+-0.1747492 cm^2/s (R^2=0.9895204)\n",
      "tavg1=6.0: a=5.7774346+-0.1652755 cm^2/s (R^2=0.9900870)\n",
      "tavg1=8.0: a=5.4559697+-0.1537317 cm^2/s (R^2=0.9903801)\n",
      "tavg1=10.0: a=5.3443657+-0.1748289 cm^2/s (R^2=0.9870768)\n",
      "tavg1=12.0: a=4.4431747+-0.1406251 cm^2/s (R^2=0.9878931)\n",
      "tavg1=14.0: a=4.2648381+-0.1517534 cm^2/s (R^2=0.9847461)\n",
      "tavg1=16.0: a=3.7457441+-0.1493385 cm^2/s (R^2=0.9809239)\n",
      "tavg1=18.0: a=2.4731454+-0.1459811 cm^2/s (R^2=0.9624651)\n"
     ]
    },
    {
     "data": {
      "image/png": "[encoded data removed]",
      "text/plain": [
       "<Figure size 720x360 with 2 Axes>"
      ]
     },
     "metadata": {
      "needs_background": "light"
     },
     "output_type": "display_data"
    },
    {
     "name": "stdout",
     "output_type": "stream",
     "text": [
      " ********************************************\n",
      " *** starting experiment for FK low res...***\n",
      "tavg1=0.0: a=2.5069630+-0.0241938 cm^2/s (R^2=0.9988377)\n",
      "tavg1=1.6: a=2.8168891+-0.0628314 cm^2/s (R^2=0.9938219)\n",
      "tavg1=3.2: a=2.9044075+-0.0651797 cm^2/s (R^2=0.9933584)\n",
      "tavg1=4.800000000000001: a=2.0128693+-0.0592993 cm^2/s (R^2=0.9886093)\n",
      "tavg1=6.4: a=1.2259611+-0.0319452 cm^2/s (R^2=0.9895066)\n",
      "tavg1=8.0: a=1.1150049+-0.0419609 cm^2/s (R^2=0.9783592)\n",
      "tavg1=9.600000000000001: a=0.7396176+-0.0289686 cm^2/s (R^2=0.9766010)\n",
      "tavg1=11.200000000000001: a=0.7498631+-0.0354459 cm^2/s (R^2=0.9662782)\n",
      "tavg1=12.8: a=0.5114316+-0.0228736 cm^2/s (R^2=0.9697050)\n",
      "tavg1=14.4: a=0.5393801+-0.0288880 cm^2/s (R^2=0.9571203)\n",
      "tavg1=16.0: a=0.6107730+-0.0319080 cm^2/s (R^2=0.9617376)\n",
      "tavg1=17.6: a=0.7421011+-0.0379717 cm^2/s (R^2=0.9657737)\n",
      "tavg1=19.200000000000003: a=0.4994069+-0.0267319 cm^2/s (R^2=0.9654376)\n"
     ]
    },
    {
     "data": {
      "image/png": "[encoded data removed]",
      "text/plain": [
       "<Figure size 720x360 with 2 Axes>"
      ]
     },
     "metadata": {
      "needs_background": "light"
     },
     "output_type": "display_data"
    },
    {
     "name": "stdout",
     "output_type": "stream",
     "text": [
      "tavg1=0.0: a=1.3084348+-0.0875015 cm^2/s (R^2=0.9470773)\n",
      "tavg1=1.6: a=1.7616313+-0.0986775 cm^2/s (R^2=0.9622745)\n",
      "tavg1=3.2: a=3.0752814+-0.0802508 cm^2/s (R^2=0.9910406)\n",
      "tavg1=4.800000000000001: a=3.1191894+-0.0567063 cm^2/s (R^2=0.9956315)\n",
      "tavg1=6.4: a=1.5775753+-0.0990341 cm^2/s (R^2=0.9420187)\n",
      "tavg1=8.0: a=0.8187721+-0.1249280 cm^2/s (R^2=0.7333490)\n",
      "tavg1=9.600000000000001: a=0.7458169+-0.1319103 cm^2/s (R^2=0.6717831)\n",
      "tavg1=11.200000000000001: a=0.7814192+-0.0650483 cm^2/s (R^2=0.9023408)\n",
      "tavg1=12.8: a=1.3145536+-0.0306611 cm^2/s (R^2=0.9915747)\n",
      "tavg1=14.4: a=1.0949466+-0.0392660 cm^2/s (R^2=0.9803098)\n",
      "tavg1=16.0: a=0.6481188+-0.0542961 cm^2/s (R^2=0.9071886)\n",
      "tavg1=17.6: a=1.2870534+-0.0555140 cm^2/s (R^2=0.9754359)\n",
      "tavg1=19.200000000000003: a=0.2656135+-0.0147806 cm^2/s (R^2=0.9627498)\n"
     ]
    },
    {
     "data": {
      "image/png": "[encoded data removed]",
      "text/plain": [
       "<Figure size 720x360 with 2 Axes>"
      ]
     },
     "metadata": {
      "needs_background": "light"
     },
     "output_type": "display_data"
    },
    {
     "name": "stdout",
     "output_type": "stream",
     "text": [
      "tavg1=0.0: a=5.5765004+-0.1365897 cm^2/s (R^2=0.9925596)\n",
      "tavg1=1.6: a=4.1937302+-0.0634707 cm^2/s (R^2=0.9971461)\n",
      "tavg1=3.2: a=3.5937496+-0.0727606 cm^2/s (R^2=0.9945875)\n",
      "tavg1=4.800000000000001: a=2.2243025+-0.0580348 cm^2/s (R^2=0.9910435)\n",
      "tavg1=6.4: a=1.0699002+-0.0317573 cm^2/s (R^2=0.9864261)\n",
      "tavg1=8.0: a=0.7515411+-0.0260256 cm^2/s (R^2=0.9816145)\n",
      "tavg1=9.600000000000001: a=0.4554867+-0.0128431 cm^2/s (R^2=0.9877350)\n",
      "tavg1=11.200000000000001: a=0.3389883+-0.0119506 cm^2/s (R^2=0.9809585)\n",
      "tavg1=12.8: a=0.3023010+-0.0134950 cm^2/s (R^2=0.9698147)\n",
      "tavg1=14.4: a=0.2834051+-0.0180568 cm^2/s (R^2=0.9403780)\n",
      "tavg1=16.0: a=0.2323212+-0.0166567 cm^2/s (R^2=0.9302901)\n",
      "tavg1=17.6: a=0.2304274+-0.0187426 cm^2/s (R^2=0.9178071)\n",
      "tavg1=19.200000000000003: a=0.1549068+-0.0152099 cm^2/s (R^2=0.8924914)\n"
     ]
    },
    {
     "data": {
      "image/png": "[encoded data removed]",
      "text/plain": [
       "<Figure size 720x360 with 2 Axes>"
      ]
     },
     "metadata": {
      "needs_background": "light"
     },
     "output_type": "display_data"
    },
    {
     "name": "stdout",
     "output_type": "stream",
     "text": [
      "tavg1=0.0: a=8.4197792+-0.4022058 cm^2/s (R^2=0.9722786)\n",
      "tavg1=1.6: a=6.4619946+-0.2265039 cm^2/s (R^2=0.9848807)\n",
      "tavg1=3.2: a=5.6436864+-0.1410383 cm^2/s (R^2=0.9917772)\n",
      "tavg1=4.800000000000001: a=3.5699501+-0.0902684 cm^2/s (R^2=0.9915834)\n",
      "tavg1=6.4: a=1.7513023+-0.0649570 cm^2/s (R^2=0.9789653)\n",
      "tavg1=8.0: a=1.2588983+-0.0482338 cm^2/s (R^2=0.9775862)\n",
      "tavg1=9.600000000000001: a=0.8278073+-0.0353348 cm^2/s (R^2=0.9723306)\n",
      "tavg1=11.200000000000001: a=0.6638059+-0.0153534 cm^2/s (R^2=0.9917139)\n",
      "tavg1=12.8: a=0.5857301+-0.0133318 cm^2/s (R^2=0.9919736)\n",
      "tavg1=14.4: a=0.5470836+-0.0120798 cm^2/s (R^2=0.9924428)\n",
      "tavg1=16.0: a=0.4829801+-0.0107274 cm^2/s (R^2=0.9928600)\n",
      "tavg1=17.6: a=0.4934065+-0.0123978 cm^2/s (R^2=0.9915263)\n",
      "tavg1=19.200000000000003: a=0.3681745+-0.0127649 cm^2/s (R^2=0.9852026)\n"
     ]
    },
    {
     "data": {
      "image/png": "[encoded data removed]",
      "text/plain": [
       "<Figure size 720x360 with 2 Axes>"
      ]
     },
     "metadata": {
      "needs_background": "light"
     },
     "output_type": "display_data"
    }
   ],
   "source": [
    "for input_fn,input_label in zip(input_input_fn_lst,input_label_lst):\n",
    "    print(input_label)\n",
    "    df=pd.read_csv(input_fn)\n",
    "    DT=np.around(get_DT(df,pid_col='particle'),7)\n",
    "    tavg1_values=np.arange(0,20,4*DT)\n",
    "    #parameterize the different methods, holding tavg2=14 ms fixed and varying tavg1 from 0 to 20 ms\n",
    "    use_subtract_Rfinal=True\n",
    "    use_savgol=True\n",
    "    a_SR_values, Delta_a_SR_values, Rsq_a_SR_values=return_attraction_coefficient_for_tavg1_values(input_fn=input_fn,tavg1_values=tavg1_values, DT=DT, use_subtract_Rfinal=use_subtract_Rfinal, use_savgol=use_savgol, **kwargs)    \n",
    "    fig, (ax2, ax3) = plt.subplots(figsize=(10,5), ncols=2)#, sharex=True)\n",
    "    gener_attraction_coefficient_figure(ax2, ax3, a_SR_values, Delta_a_SR_values, Rsq_a_SR_values, fontsize=20)\n",
    "    plt.title(f\"use_subtract_Rfinal={use_subtract_Rfinal}, use_savgol={use_savgol}\\n\")\n",
    "    plt.tight_layout()\n",
    "    plt.show()\n",
    "\n",
    "    use_subtract_Rfinal=False\n",
    "    use_savgol=True\n",
    "    a_SR_values, Delta_a_SR_values, Rsq_a_SR_values=return_attraction_coefficient_for_tavg1_values(input_fn=input_fn,tavg1_values=tavg1_values, DT=DT, use_subtract_Rfinal=use_subtract_Rfinal, use_savgol=use_savgol, **kwargs)    \n",
    "    fig, (ax2, ax3) = plt.subplots(figsize=(10,5), ncols=2)#, sharex=True)\n",
    "    gener_attraction_coefficient_figure(ax2, ax3, a_SR_values, Delta_a_SR_values, Rsq_a_SR_values, fontsize=20)\n",
    "    plt.title(f\"use_subtract_Rfinal={use_subtract_Rfinal}, use_savgol={use_savgol}\\n\")\n",
    "    plt.tight_layout()\n",
    "    plt.show()\n",
    "\n",
    "    use_subtract_Rfinal=True\n",
    "    use_savgol=False\n",
    "    a_SR_values, Delta_a_SR_values, Rsq_a_SR_values=return_attraction_coefficient_for_tavg1_values(input_fn=input_fn,tavg1_values=tavg1_values, DT=DT, use_subtract_Rfinal=use_subtract_Rfinal, use_savgol=use_savgol, **kwargs)    \n",
    "    fig, (ax2, ax3) = plt.subplots(figsize=(10,5), ncols=2)#, sharex=True)\n",
    "    gener_attraction_coefficient_figure(ax2, ax3, a_SR_values, Delta_a_SR_values, Rsq_a_SR_values, fontsize=20)\n",
    "    plt.title(f\"use_subtract_Rfinal={use_subtract_Rfinal}, use_savgol={use_savgol}\\n\")\n",
    "    plt.tight_layout()\n",
    "    plt.show()\n",
    "\n",
    "    use_subtract_Rfinal=False\n",
    "    use_savgol=False\n",
    "    a_SR_values, Delta_a_SR_values, Rsq_a_SR_values=return_attraction_coefficient_for_tavg1_values(input_fn=input_fn,tavg1_values=tavg1_values, DT=DT, use_subtract_Rfinal=use_subtract_Rfinal, use_savgol=use_savgol, **kwargs)    \n",
    "    fig, (ax2, ax3) = plt.subplots(figsize=(10,5), ncols=2)#, sharex=True)\n",
    "    gener_attraction_coefficient_figure(ax2, ax3, a_SR_values, Delta_a_SR_values, Rsq_a_SR_values, fontsize=20)\n",
    "    plt.title(f\"use_subtract_Rfinal={use_subtract_Rfinal}, use_savgol={use_savgol}\\n\")\n",
    "    plt.tight_layout()\n",
    "    plt.show()"
   ]
  },
  {
   "cell_type": "markdown",
   "id": "87a78062",
   "metadata": {},
   "source": [
    "# TODO: repeat the experiment on the full models and on the particle model with relaxed rules for determining annihilations / with testing for duplicate particles turned off"
   ]
  },
  {
   "cell_type": "code",
   "execution_count": null,
   "id": "fb9ccdb8",
   "metadata": {},
   "outputs": [],
   "source": []
  },
  {
   "cell_type": "markdown",
   "id": "73951035",
   "metadata": {
    "heading_collapsed": true
   },
   "source": [
    "# etc"
   ]
  },
  {
   "cell_type": "code",
   "execution_count": 83,
   "id": "294986ac",
   "metadata": {
    "ExecuteTime": {
     "end_time": "2021-10-11T00:27:34.140868Z",
     "start_time": "2021-10-11T00:27:17.015280Z"
    },
    "hidden": true
   },
   "outputs": [
    {
     "name": "stdout",
     "output_type": "stream",
     "text": [
      "File: /home/timothytyree/Documents/GitHub/care/notebooks/Data/initial-conditions-suite-3-LR/param_qu_tmax_30_Ko_5.4_diffCoef_0.0005_dt_0.5/smoothed_trajectories_tavg_0.0/ic001.11_traj_sr_600_mem_0_smoothed.csv\n"
     ]
    }
   ],
   "source": [
    "input_fn='/home/timothytyree/Documents/GitHub/care/notebooks/Data/initial-conditions-suite-3-LR/param_qu_tmax_30_Ko_5.4_diffCoef_0.0005_dt_0.5/trajectories/ic002.11_traj_sr_600_mem_0.csv'\n",
    "# pairs_fn=search_for_file(os.path.dirname(os.path.dirname(input_fn)))\n",
    "df_fn=search_for_file(os.path.dirname(os.path.dirname(input_fn)))"
   ]
  },
  {
   "cell_type": "code",
   "execution_count": 84,
   "id": "65270118",
   "metadata": {
    "ExecuteTime": {
     "end_time": "2021-10-11T00:28:14.448060Z",
     "start_time": "2021-10-11T00:28:14.384412Z"
    },
    "hidden": true
   },
   "outputs": [
    {
     "data": {
      "text/html": [
       "<div>\n",
       "<style scoped>\n",
       "    .dataframe tbody tr th:only-of-type {\n",
       "        vertical-align: middle;\n",
       "    }\n",
       "\n",
       "    .dataframe tbody tr th {\n",
       "        vertical-align: top;\n",
       "    }\n",
       "\n",
       "    .dataframe thead th {\n",
       "        text-align: right;\n",
       "    }\n",
       "</style>\n",
       "<table border=\"1\" class=\"dataframe\">\n",
       "  <thead>\n",
       "    <tr style=\"text-align: right;\">\n",
       "      <th></th>\n",
       "      <th>index</th>\n",
       "      <th>x</th>\n",
       "      <th>y</th>\n",
       "      <th>t</th>\n",
       "      <th>particle</th>\n",
       "      <th>event_id_int</th>\n",
       "      <th>dx_unwrap</th>\n",
       "      <th>dy_unwrap</th>\n",
       "    </tr>\n",
       "  </thead>\n",
       "  <tbody>\n",
       "    <tr>\n",
       "      <th>0</th>\n",
       "      <td>3</td>\n",
       "      <td>199.825274</td>\n",
       "      <td>101.993850</td>\n",
       "      <td>100.0</td>\n",
       "      <td>3</td>\n",
       "      <td>1001116000</td>\n",
       "      <td>0.0</td>\n",
       "      <td>0.0</td>\n",
       "    </tr>\n",
       "    <tr>\n",
       "      <th>1</th>\n",
       "      <td>6</td>\n",
       "      <td>199.496278</td>\n",
       "      <td>102.185605</td>\n",
       "      <td>100.5</td>\n",
       "      <td>3</td>\n",
       "      <td>1001116000</td>\n",
       "      <td>0.0</td>\n",
       "      <td>0.0</td>\n",
       "    </tr>\n",
       "    <tr>\n",
       "      <th>2</th>\n",
       "      <td>13</td>\n",
       "      <td>197.782909</td>\n",
       "      <td>102.897178</td>\n",
       "      <td>101.0</td>\n",
       "      <td>3</td>\n",
       "      <td>1001116000</td>\n",
       "      <td>0.0</td>\n",
       "      <td>0.0</td>\n",
       "    </tr>\n",
       "    <tr>\n",
       "      <th>3</th>\n",
       "      <td>17</td>\n",
       "      <td>197.416347</td>\n",
       "      <td>102.989611</td>\n",
       "      <td>101.5</td>\n",
       "      <td>3</td>\n",
       "      <td>1001116000</td>\n",
       "      <td>0.0</td>\n",
       "      <td>0.0</td>\n",
       "    </tr>\n",
       "    <tr>\n",
       "      <th>4</th>\n",
       "      <td>18</td>\n",
       "      <td>197.042631</td>\n",
       "      <td>103.093649</td>\n",
       "      <td>102.0</td>\n",
       "      <td>3</td>\n",
       "      <td>1001116000</td>\n",
       "      <td>0.0</td>\n",
       "      <td>0.0</td>\n",
       "    </tr>\n",
       "  </tbody>\n",
       "</table>\n",
       "</div>"
      ],
      "text/plain": [
       "   index           x           y      t  particle  event_id_int  dx_unwrap  \\\n",
       "0      3  199.825274  101.993850  100.0         3    1001116000        0.0   \n",
       "1      6  199.496278  102.185605  100.5         3    1001116000        0.0   \n",
       "2     13  197.782909  102.897178  101.0         3    1001116000        0.0   \n",
       "3     17  197.416347  102.989611  101.5         3    1001116000        0.0   \n",
       "4     18  197.042631  103.093649  102.0         3    1001116000        0.0   \n",
       "\n",
       "   dy_unwrap  \n",
       "0        0.0  \n",
       "1        0.0  \n",
       "2        0.0  \n",
       "3        0.0  \n",
       "4        0.0  "
      ]
     },
     "execution_count": 84,
     "metadata": {},
     "output_type": "execute_result"
    }
   ],
   "source": [
    "pairs_fn='/home/timothytyree/Documents/GitHub/care/notebooks/Data/initial-conditions-suite-3-LR/param_qu_tmax_30_Ko_5.4_diffCoef_0.0005_dt_0.5/pairs_tavg1_0.0_tavg2_14.5_maxdtmax_0_maxRfin_0.2_mindur_40/ic001.33_traj_sr_600_mem_0_smoothed_annihilations_denoised.csv'\n",
    "df_fn='/home/timothytyree/Documents/GitHub/care/notebooks/Data/initial-conditions-suite-3-LR/param_qu_tmax_30_Ko_5.4_diffCoef_0.0005_dt_0.5/smoothed_trajectories_tavg_0.0/ic001.11_traj_sr_600_mem_0_smoothed.csv'\n",
    "df=cudf.read_csv(df_fn)\n",
    "df.head()"
   ]
  },
  {
   "cell_type": "code",
   "execution_count": 105,
   "id": "1621cdfb",
   "metadata": {
    "ExecuteTime": {
     "end_time": "2021-10-11T00:35:49.590265Z",
     "start_time": "2021-10-11T00:35:49.566318Z"
    },
    "hidden": true
   },
   "outputs": [],
   "source": [
    "pid_col='particle'\n",
    "minimum_duration_threshold=0\n",
    "width=200;height=200;ds=5\n",
    "DS=ds/width\n",
    "trial_col='event_id_int'\n"
   ]
  },
  {
   "cell_type": "code",
   "execution_count": 90,
   "id": "e6a1c0f0",
   "metadata": {
    "ExecuteTime": {
     "end_time": "2021-10-11T00:28:59.890110Z",
     "start_time": "2021-10-11T00:28:59.653503Z"
    },
    "hidden": true
   },
   "outputs": [
    {
     "name": "stdout",
     "output_type": "stream",
     "text": [
      "using 1 cores to identify pairs of particles that coexist over 1 independent trials...\n"
     ]
    }
   ],
   "source": [
    "grouped=df.groupby([trial_col,pid_col])\n",
    "dft=grouped[t_col]\n",
    "dfu=cudf.DataFrame({\n",
    "    'tmin':dft.min(),\n",
    "    'tmax':dft.max(),\n",
    "})\n",
    "dfu.reset_index(inplace=True)\n",
    "df_intersecting_pairs_all=identify_all_coexisting_pairs(df=dfu.copy(),pid_col=pid_col,t_col=t_col,trial_col=trial_col)\n",
    "\n",
    "#filter by duration_threshold\n",
    "use_duration_threshold=True\n",
    "if use_duration_threshold:\n",
    "    df_pairs=df_intersecting_pairs_all[df_intersecting_pairs_all['duration']>minimum_duration_threshold]\n",
    "else:\n",
    "    df_pairs=df_intersecting_pairs_all\n",
    "#and sort\n",
    "df_pairs=df_pairs.sort_values([trial_col,'pid_self'], ascending=True).copy()"
   ]
  },
  {
   "cell_type": "code",
   "execution_count": 106,
   "id": "fe3813d7",
   "metadata": {
    "ExecuteTime": {
     "end_time": "2021-10-11T00:35:50.107559Z",
     "start_time": "2021-10-11T00:35:50.047485Z"
    },
    "hidden": true
   },
   "outputs": [],
   "source": [
    "dff = df.set_index([trial_col, pid_col, t_col])\n",
    "df_pairs = df_intersecting_pairs_all.set_index(\n",
    "    [trial_col, 'pid_self', 'tmax']).copy()\n",
    "df_pairs[['x_self', 'y_self']] = dff.loc[df_pairs.index][['x', 'y']]\n",
    "df_pairs = df_pairs.reset_index().set_index(\n",
    "    [trial_col, 'pid_other', 'tmax'])\n",
    "df_pairs[['x_other', 'y_other']] = dff.loc[df_pairs.index][['x', 'y']]\n",
    "df_pairs = comp_xy_distance_L2_pbc_cu(df_pairs, width, height)\n",
    "df_pairs['Rfinal'] = df_pairs['dist'] * DS\n",
    "df_pairs = df_pairs.reset_index().set_index(\n",
    "    [trial_col, 'pid_self', 'pid_other'])\n",
    "#compute the difference in time between the last observation of either particle\n",
    "df_pairs['dtmax'] = cp.abs(df_pairs['tmax_self'] - df_pairs['tmax_other'])"
   ]
  },
  {
   "cell_type": "code",
   "execution_count": 120,
   "id": "5184c7ba",
   "metadata": {
    "ExecuteTime": {
     "end_time": "2021-10-11T00:41:35.194092Z",
     "start_time": "2021-10-11T00:41:35.172478Z"
    },
    "hidden": true
   },
   "outputs": [],
   "source": [
    "se={}"
   ]
  },
  {
   "cell_type": "code",
   "execution_count": 121,
   "id": "74060e05",
   "metadata": {
    "ExecuteTime": {
     "end_time": "2021-10-11T00:41:51.230158Z",
     "start_time": "2021-10-11T00:41:51.197518Z"
    },
    "hidden": true
   },
   "outputs": [
    {
     "ename": "AttributeError",
     "evalue": "'dict' object has no attribute 'difference'",
     "output_type": "error",
     "traceback": [
      "\u001b[0;31m---------------------------------------------------------------------------\u001b[0m",
      "\u001b[0;31mAttributeError\u001b[0m                            Traceback (most recent call last)",
      "\u001b[0;32m/tmp/ipykernel_407854/285348145.py\u001b[0m in \u001b[0;36m<module>\u001b[0;34m\u001b[0m\n\u001b[0;32m----> 1\u001b[0;31m \u001b[0mse\u001b[0m\u001b[0;34m.\u001b[0m\u001b[0mdifference\u001b[0m\u001b[0;34m\u001b[0m\u001b[0;34m\u001b[0m\u001b[0m\n\u001b[0m",
      "\u001b[0;31mAttributeError\u001b[0m: 'dict' object has no attribute 'difference'"
     ]
    }
   ],
   "source": []
  },
  {
   "cell_type": "code",
   "execution_count": 122,
   "id": "a4699f35",
   "metadata": {
    "ExecuteTime": {
     "end_time": "2021-10-11T00:42:47.486811Z",
     "start_time": "2021-10-11T00:42:47.462282Z"
    },
    "hidden": true
   },
   "outputs": [
    {
     "data": {
      "text/plain": [
       "True"
      ]
     },
     "execution_count": 122,
     "metadata": {},
     "output_type": "execute_result"
    }
   ],
   "source": []
  },
  {
   "cell_type": "code",
   "execution_count": 124,
   "id": "a719081f",
   "metadata": {
    "ExecuteTime": {
     "end_time": "2021-10-11T00:44:15.472526Z",
     "start_time": "2021-10-11T00:44:15.448685Z"
    },
    "hidden": true
   },
   "outputs": [],
   "source": [
    "# def drop_any_duplicate_pairs(df_pairs, testing=True, trial_col='event_id_int', **kwargs):\n",
    "#     if testing:\n",
    "#         #TODO: identify any repeated particles that are repeated\n",
    "#         df_pairs = df_pairs.reset_index().set_index(\n",
    "#             [trial_col, 'pid_self', 'pid_other'])\n",
    "#         piv = df_pairs.index.values\n",
    "#         trial_lst = sorted(set(piv[:, 0].get()))\n",
    "#         for trial in trial_lst:\n",
    "#             iv = piv[piv[:, 0] == trial][:, 1:]\n",
    "#             #ensure that no particle appears twice in iv\n",
    "#             total_num_pair_members = iv.flatten().shape[0]\n",
    "#             unique_member_lst=list(set(iv.flatten().get()))\n",
    "#             no_duplicates_exist = total_num_pair_members == len(unique_member_lst)\n",
    "\n",
    "#             if not no_duplicates_exist:\n",
    "#                 Rfinal_is_in_col_lst={'Rfinal'}.issubset(set(df_pairs.columns))\n",
    "#                 if not Rfinal_is_in_col_lst:\n",
    "#                     raise(\"Warning: Rfinal missing from column list!\")\n",
    "#                 #build a new df_pairs from the ground up by selecting the minimum final range indicies\n",
    "#                 dfp=df_pairs.reset_index()\n",
    "#                 id_keep_lst=[]\n",
    "#                 for member_id in unique_member_lst:\n",
    "#                     boo=(dfp['pid_self']==member_id)|(dfp['pid_other']==member_id)\n",
    "#                     id_keep=int(dfp[boo].sort_values(by='Rfinal').head(1).index.values.get())\n",
    "#                     id_keep_lst.append(id_keep)\n",
    "\n",
    "#                 df_pairs=dfp.iloc[id_keep_lst].copy()\n",
    "\n",
    "#         #         #TODO: identify the duplicated particle\n",
    "#         #         #TODO: select all entries in df_pairs that involve the duplicated particle\n",
    "#         #         #TODO: select the particle pair that is nearest\n",
    "#         #         print(\n",
    "#         #             \"Warning: duplicate particles detected but not removed!  TODO: Implement the 3 comments above!\"\n",
    "#         #         )\n",
    "\n",
    "#         #     assert (no_duplicates_exist)\n",
    "#     return df_pairs\n",
    "\n"
   ]
  },
  {
   "cell_type": "code",
   "execution_count": null,
   "id": "4cfa5bcd",
   "metadata": {
    "hidden": true
   },
   "outputs": [],
   "source": []
  },
  {
   "cell_type": "code",
   "execution_count": 91,
   "id": "1fd7401f",
   "metadata": {
    "ExecuteTime": {
     "end_time": "2021-10-11T00:29:06.287210Z",
     "start_time": "2021-10-11T00:29:06.251688Z"
    },
    "hidden": true
   },
   "outputs": [
    {
     "name": "stdout",
     "output_type": "stream",
     "text": [
      "Warning: duplicate particles detected but not removed!  TODO: Implement the 3 comments above!\n"
     ]
    },
    {
     "ename": "AssertionError",
     "evalue": "",
     "output_type": "error",
     "traceback": [
      "\u001b[0;31m---------------------------------------------------------------------------\u001b[0m",
      "\u001b[0;31mAssertionError\u001b[0m                            Traceback (most recent call last)",
      "\u001b[0;32m/tmp/ipykernel_407854/275696289.py\u001b[0m in \u001b[0;36m<module>\u001b[0;34m\u001b[0m\n\u001b[1;32m      1\u001b[0m \u001b[0;31m# df_pairs=cudf.read_csv(pairs_fn)\u001b[0m\u001b[0;34m\u001b[0m\u001b[0;34m\u001b[0m\u001b[0;34m\u001b[0m\u001b[0m\n\u001b[0;32m----> 2\u001b[0;31m \u001b[0mdrop_any_duplicate_pairs\u001b[0m\u001b[0;34m(\u001b[0m\u001b[0mdf_pairs\u001b[0m\u001b[0;34m)\u001b[0m\u001b[0;34m\u001b[0m\u001b[0;34m\u001b[0m\u001b[0m\n\u001b[0m",
      "\u001b[0;32m/tmp/ipykernel_407854/1421791451.py\u001b[0m in \u001b[0;36mdrop_any_duplicate_pairs\u001b[0;34m(df_pairs, testing, trial_col, **kwargs)\u001b[0m\n\u001b[1;32m     21\u001b[0m                 )\n\u001b[1;32m     22\u001b[0m \u001b[0;34m\u001b[0m\u001b[0m\n\u001b[0;32m---> 23\u001b[0;31m             \u001b[0;32massert\u001b[0m \u001b[0;34m(\u001b[0m\u001b[0mno_duplicates_exist\u001b[0m\u001b[0;34m)\u001b[0m\u001b[0;34m\u001b[0m\u001b[0;34m\u001b[0m\u001b[0m\n\u001b[0m\u001b[1;32m     24\u001b[0m     \u001b[0;32mreturn\u001b[0m \u001b[0mdf_pairs\u001b[0m\u001b[0;34m\u001b[0m\u001b[0;34m\u001b[0m\u001b[0m\n",
      "\u001b[0;31mAssertionError\u001b[0m: "
     ]
    }
   ],
   "source": [
    "# df_pairs=cudf.read_csv(pairs_fn)\n",
    "drop_any_duplicate_pairs(df_pairs)"
   ]
  },
  {
   "cell_type": "code",
   "execution_count": null,
   "id": "8653ffb4",
   "metadata": {
    "hidden": true
   },
   "outputs": [],
   "source": []
  },
  {
   "cell_type": "code",
   "execution_count": 9,
   "id": "8b837b31",
   "metadata": {
    "ExecuteTime": {
     "end_time": "2021-10-07T02:36:53.245143Z",
     "start_time": "2021-10-07T02:36:53.227571Z"
    },
    "hidden": true
   },
   "outputs": [],
   "source": [
    "# #TODO(later): compute squared displacements\n",
    "# grouped=df.groupby(pid_col)\n",
    "# #HINT: squared displacements of particles is result\n",
    "#  throws AttributeError: DataFrameGroupBy object has no attribute first \n",
    "# result = (grouped[['x','y']]-grouped[['x','y']].first())**2"
   ]
  },
  {
   "cell_type": "code",
   "execution_count": 10,
   "id": "791ed272",
   "metadata": {
    "ExecuteTime": {
     "end_time": "2021-10-07T02:36:53.268170Z",
     "start_time": "2021-10-07T02:36:53.246297Z"
    },
    "hidden": true
   },
   "outputs": [],
   "source": [
    "#TODO(later): implement a one_step method on an element in a finite element simulation\n",
    "# HINT: cudf.Grouper?\n",
    "# HINT: https://pandas.pydata.org/pandas-docs/stable/user_guide/groupby.html#grouping-with-a-grouper-specification\n",
    "# HINT: https://pandas.pydata.org/pandas-docs/stable/user_guide/groupby.html#transformation"
   ]
  },
  {
   "cell_type": "code",
   "execution_count": 11,
   "id": "cadd81b4",
   "metadata": {
    "ExecuteTime": {
     "end_time": "2021-10-07T02:36:53.288657Z",
     "start_time": "2021-10-07T02:36:53.269475Z"
    },
    "hidden": true
   },
   "outputs": [],
   "source": [
    "#DONE: figure out if there's an elegant was to use the cudf api  to do this\n",
    "#for each group of event_id_int's :\n",
    "#compare every particle to every other particle in a simple way\n",
    "#compare every particle to every other particle to determine if the self,other pair intersects nontrivially\n",
    "\n",
    "#DONE: determine condition for whether each pair is intersecting for at least two times \n",
    "# two particles exist for at least two times if both\n",
    "#if other has a tmin > tmin of self\n",
    "#AND if other has a tmax < tmax of self, \n",
    "\n",
    "# #DONE: construct the graph of all edges... this wasn't useful...\n",
    "# G = cugraph.Graph()\n",
    "# G.from_cudf_edgelist(df_pairs, source='src', destination='dst', edge_attr='dst')\n",
    "# # # Let's now get the PageRank score of each vertex by calling cugraph.pagerank\n",
    "# # df_page = cugraph.pagerank(G)\n",
    "# # df_page.head()"
   ]
  },
  {
   "cell_type": "code",
   "execution_count": 12,
   "id": "486494a5",
   "metadata": {
    "ExecuteTime": {
     "end_time": "2021-10-07T02:36:53.308865Z",
     "start_time": "2021-10-07T02:36:53.289891Z"
    },
    "hidden": true
   },
   "outputs": [],
   "source": [
    "#DONE: compute which edges are intersecting\n",
    "#DONE: compute tmin and tmax for each intersecting edge\n",
    "#DONE: compute duration for each intersecting edge\n",
    "#DONE: sort edges by duration\n",
    "#DONE: visualize the histogram of durations of intersecting edges\n",
    "#DONE: consider a minimum_duration_threshold that is at least tavg2 if not specified"
   ]
  },
  {
   "cell_type": "markdown",
   "id": "1f8d1e9d",
   "metadata": {
    "heading_collapsed": true,
    "hidden": true
   },
   "source": [
    "## scratchwerk"
   ]
  },
  {
   "cell_type": "code",
   "execution_count": 13,
   "id": "898392ca",
   "metadata": {
    "ExecuteTime": {
     "end_time": "2021-10-07T02:36:53.328154Z",
     "start_time": "2021-10-07T02:36:53.309914Z"
    },
    "hidden": true
   },
   "outputs": [],
   "source": [
    "#DONT: figure out terrible numba debugging for a negligible speed boost\n",
    "# @cuda.jit()#device=True)\n",
    "# def distance_L2_pbc_cuda(point_1, point_2, dist_out, shape):\n",
    "#     '''distance_L2_pbc_cu is a jit compiled function that \n",
    "#     returns for the euclidean (L2) distance between \n",
    "#     point_1 and point_2, which are in an N-cube of shape shape \n",
    "#     with periodic boundary conditions\n",
    "    \n",
    "#     Example Usage:\n",
    "#     blockspergrid=1\n",
    "#     threadsperblock=1\n",
    "#     point_1=self_values[0]\n",
    "#     point_2=other_values[0]\n",
    "#     dist_out=0.#overwritten\n",
    "#     shape=(width,height)\n",
    "#     distance_L2_pbc_cuda[blockspergrid, threadsperblock](point_1, point_2, dist_out, shape)\n",
    "#     '''\n",
    "#     dq2 = 0.\n",
    "#     for q1, q2, wid in zip(point_1, point_2, shape):\n",
    "#         dq2 = dq2 + min(((q2 - q1)**2, (q2 + wid - q1 )**2, (q2 - wid - q1 )**2))\n",
    "#     dist_out= dq2**0.5\n",
    "\n",
    "# blockspergrid=1\n",
    "# threadsperblock=1\n",
    "# point_1=self_values[0]\n",
    "# point_2=other_values[0]\n",
    "# dist_out=np.array([0.])#*self_values\n",
    "# shape=(width,height)\n",
    "# # distance_L2_pbc_cuda(point_1, point_2, dist_out, shape)\n",
    "# distance_L2_pbc_cuda[blockspergrid, threadsperblock](point_1, point_2, dist_out, shape)\n",
    "# dist_out, point_1, point_2\n",
    "\n",
    "# from numba import vectorize\n",
    "# # shape=(width,height)\n",
    "# # @vectorize(['float32[:](float32, float32, float32)'], target='cuda')\n",
    "# shape=cp.array((width,height))\n",
    "# @vectorize(['(float32[:,:], float32[:,:], float32[:,:], float32[:])'], target='cuda')\n",
    "# def distance_L2_pbc_cu(self_values, other_values, dist_out_values, shape):\n",
    "#     for point_1, point_2, dist_out in zip(self_values, other_values, dist_out_values):\n",
    "#         distance_L2_pbc_cuda(point_1, point_2, dist_out, shape)\n",
    "\n",
    "# # blockspergrid=1\n",
    "# # threadsperblock=1\n",
    "# dist_out_values=0.*self_values\n",
    "# shape=cp.array((width,height))\n",
    "# distance_L2_pbc_cu(self_values, other_values, dist_out_values, shape)\n",
    "# # distance_L2_pbc_cuda[blockspergrid, threadsperblock](point_1, point_2, dist_out, shape)\n",
    "# # dist_out"
   ]
  },
  {
   "cell_type": "code",
   "execution_count": 14,
   "id": "ffae6abe",
   "metadata": {
    "ExecuteTime": {
     "end_time": "2021-10-07T02:36:53.346984Z",
     "start_time": "2021-10-07T02:36:53.329167Z"
    },
    "hidden": true
   },
   "outputs": [],
   "source": [
    "# def extract_xy_values_of_pair(df,pair,t_col='t'):\n",
    "#     '''\n",
    "#     df is a cudf.DataFrame instance of xy trajectories from no more than 1 trial \n",
    "#     pair is a row from a pandas.core.series.Series instance with columns,['pid_self', 'pid_other', 'tmin_self', 'tmin_other', 'tmax_self', 'tmax_other', 'tmin', 'tmax', 'duration', 'event_id_int']\n",
    "    \n",
    "#     Example Usage:\n",
    "#     pair=pd.Series(df_pairs.head(1).to_pandas())\n",
    "#     event_id_int=int(pair[trial_col])#.values.get())\n",
    "#     dff=df[df[trial_col]==event_id_int]\n",
    "#     self_values,other_values=extract_xy_values_of_pair(df=dff,pair=pair,t_col=t_col)\n",
    "#     '''\n",
    "#     dff=df\n",
    "#     #DONE: optimize data retrieval from pair by using only one gpu-to-cpu memory transfer\n",
    "#     pid_self =int(pair['pid_self'])#.values.get())\n",
    "#     pid_other=int(pair['pid_other'])#.values.get())\n",
    "#     tmin     =float(pair['tmin'])#.values.get())\n",
    "#     tmax     =float(pair['tmax'])#.values.get())\n",
    "#     #failed to broadcase in cudf\n",
    "#     #     if event_id_int is not None:\n",
    "#     #         dff=df[df[trial_col]==event_id_int]\n",
    "#     #     else:\n",
    "#     #         dff=df\n",
    "#     df_self =dff.loc[(dff[pid_col]==pid_self),[t_col,'x','y']]\n",
    "#     df_other=dff.loc[(dff[pid_col]==pid_other),[t_col,'x','y']]\n",
    "#     self_values=df_self.loc[(df_self[t_col]>=tmin)&(df_self[t_col]<=tmax),['x','y']].values\n",
    "#     other_values=df_other.loc[(df_other[t_col]>=tmin)&(df_other[t_col]<=tmax),['x','y']].values\n",
    "#     return self_values,other_values"
   ]
  },
  {
   "cell_type": "code",
   "execution_count": null,
   "id": "c7ec1156",
   "metadata": {
    "ExecuteTime": {
     "end_time": "2021-10-02T07:26:23.942805Z",
     "start_time": "2021-10-02T07:26:23.890263Z"
    },
    "hidden": true
   },
   "outputs": [],
   "source": []
  },
  {
   "cell_type": "code",
   "execution_count": 15,
   "id": "5fb12543",
   "metadata": {
    "ExecuteTime": {
     "end_time": "2021-10-07T02:36:53.365598Z",
     "start_time": "2021-10-07T02:36:53.347914Z"
    },
    "hidden": true
   },
   "outputs": [],
   "source": [
    "# pair=df_pairs.head(1)\n",
    "# event_id_int=int(pair[trial_col].values.get())\n",
    "# dff=df[df[trial_col]==event_id_int]\n",
    "# self_values,other_values=extract_xy_values_of_pair(df=dff,pair=pair,t_col=t_col)\n",
    "# print((self_values.shape,other_values.shape))\n",
    "# assert ( self_values.shape==other_values.shape ) "
   ]
  },
  {
   "cell_type": "code",
   "execution_count": 16,
   "id": "0653c8e1",
   "metadata": {
    "ExecuteTime": {
     "end_time": "2021-10-07T02:36:53.384699Z",
     "start_time": "2021-10-07T02:36:53.366545Z"
    },
    "hidden": true
   },
   "outputs": [],
   "source": [
    "#this function may be slow and might not even work...\n",
    "# def distance_L2_pbc_cu(self_values,other_values,shape):\n",
    "#     '''distance_L2_pbc_cu is a jit compiled function that \n",
    "#     returns for the euclidean (L2) distance between \n",
    "#     point_1 and point_2, which are in an N-cube of shape shape \n",
    "#     with periodic boundary conditions\n",
    "    \n",
    "#     Example Usage:\n",
    "#     shape=(width,height)\n",
    "#     dist_values=distance_L2_pbc_cu(self_values,other_values,shape)\n",
    "#     '''\n",
    "#     sqdiff_values = (self_values-other_values)**2\n",
    "#     #compute the other pbc options for sqdiff_values for each column\n",
    "#     for n,w in enumerate(shape):\n",
    "#         self_w_values  = self_values[:,n]\n",
    "#         other_w_values = other_values[:,n]\n",
    "#         sqdiff_w_values= sqdiff_values[:,n]\n",
    "#         sqdiff_wp_values=(self_w_values-other_w_values-w)**2\n",
    "#         sqdiff_wm_values=(self_w_values-other_w_values+w)**2\n",
    "#         boop=sqdiff_wp_values<sqdiff_w_values\n",
    "#         boom=sqdiff_wm_values<sqdiff_w_values\n",
    "#         sqdiff_values[boop,n]=sqdiff_wp_values[boop]\n",
    "#         sqdiff_values[boom,n]=sqdiff_wm_values[boom]\n",
    "\n",
    "#     dist_values=cp.sqrt(cp.sum(sqdiff_values,axis=1))\n",
    "#     return dist_values"
   ]
  },
  {
   "cell_type": "code",
   "execution_count": 17,
   "id": "4396b6a7",
   "metadata": {
    "ExecuteTime": {
     "end_time": "2021-10-07T02:36:53.403129Z",
     "start_time": "2021-10-07T02:36:53.385593Z"
    },
    "hidden": true
   },
   "outputs": [],
   "source": [
    "#DONE: histograms sanity check df_intersecting_pairs\n",
    "#DONE: verify that routine gives different values for different event_id_int\n",
    "#DONE: wrap generation of df_intersecting_pairs into a function \n",
    "#DONE: include event_id_int outside ^that function\n",
    "#DONE: accumulate df_intersecting_pairs_all over all event_id_int_values"
   ]
  },
  {
   "cell_type": "markdown",
   "id": "27432dfe",
   "metadata": {},
   "source": [
    "# define module"
   ]
  },
  {
   "cell_type": "markdown",
   "id": "a5fa93ba",
   "metadata": {},
   "source": [
    "# DONE: compute the radial velocities with naive finite difference"
   ]
  },
  {
   "cell_type": "markdown",
   "id": "964089db",
   "metadata": {},
   "source": [
    "__Note:__ cugraph is a great tool for complex problems that happen in terms of graphs that benefit from visualization.  My graph problem is low-level, and therefore it does not appear beneficial for me to use cugraph here."
   ]
  },
  {
   "cell_type": "code",
   "execution_count": 22,
   "id": "ddd43394",
   "metadata": {
    "ExecuteTime": {
     "end_time": "2021-10-07T02:36:53.510371Z",
     "start_time": "2021-10-07T02:36:53.491297Z"
    }
   },
   "outputs": [],
   "source": [
    "# #TODO: figure out why I'm getting pid_self==pid_other in the R versus time plot...\n",
    "# #recall a couple postprocessed single trials\n",
    "# input_fn=f\"/home/timothytyree/Documents/GitHub/care/notebooks/Data/initial-conditions-suite-3-LR/param_qu_tmax_30_Ko_5.4_diffCoef_0.0005_dt_0.5/smoothed_trajectories_navg_8/ic002.11_traj_sr_600_mem_0_smoothed.csv\"\n",
    "# input_fn2=f\"/home/timothytyree/Documents/GitHub/care/notebooks/Data/initial-conditions-suite-3-LR/param_qu_tmax_30_Ko_5.4_diffCoef_0.0005_dt_0.5/smoothed_trajectories_navg_8/ic002.12_traj_sr_600_mem_0_smoothed.csv\"\n",
    "\n",
    "# # # # # #token FK at DT=0.4\n",
    "# input_fn=\"/home/timothytyree/Documents/GitHub/care/notebooks/Data/initial-conditions-fk-200x200/param_set_8_ds_5.0_tmax_10_diffCoef_0.0005/smoothed_trajectories_tavg_4/ic200x200.0.2_traj_sr_400_mem_0_smoothed.csv\"\n",
    "\n",
    "#what was just done up ^there\n",
    "# input_fn=save_dir\n",
    "\n",
    "\n",
    "# input_fn_lst=[input_fn,input_fn2]\n",
    "# # input_fn_lst=get_all_files_matching_pattern(input_fn,trgt='.csv')\n",
    "# # print(f\"loading {len(input_fn_lst)} files into shared memory...\")"
   ]
  },
  {
   "cell_type": "code",
   "execution_count": 23,
   "id": "3132010f",
   "metadata": {
    "ExecuteTime": {
     "end_time": "2021-10-07T02:36:53.529315Z",
     "start_time": "2021-10-07T02:36:53.511329Z"
    }
   },
   "outputs": [],
   "source": [
    "# str(eval('hello\\nworld'.__repr__))"
   ]
  },
  {
   "cell_type": "code",
   "execution_count": 25,
   "id": "e27b7a24",
   "metadata": {
    "ExecuteTime": {
     "end_time": "2021-10-07T02:36:55.154247Z",
     "start_time": "2021-10-07T02:36:55.136930Z"
    }
   },
   "outputs": [],
   "source": [
    "#TODO: compute attraction coefficient by loading all trajectories from ^that file using the mean squared range method\n",
    "#     save_fn = '__'.join(input_fn.split('/')[-3:-1]) + ext  #aggregate all results"
   ]
  },
  {
   "cell_type": "code",
   "execution_count": 26,
   "id": "73bc4afa",
   "metadata": {
    "ExecuteTime": {
     "end_time": "2021-10-07T02:36:55.174098Z",
     "start_time": "2021-10-07T02:36:55.155287Z"
    }
   },
   "outputs": [],
   "source": [
    "#TODO(then): compute diffusion coefficient by loading smoothed trajectories using the mean squared displacement method\n",
    "#HINT: load_smoothed_trajectories"
   ]
  },
  {
   "cell_type": "markdown",
   "id": "78bfcf0e",
   "metadata": {
    "heading_collapsed": true
   },
   "source": [
    "# DONE: plots describing methods"
   ]
  },
  {
   "cell_type": "code",
   "execution_count": 27,
   "id": "37a7dd02",
   "metadata": {
    "ExecuteTime": {
     "end_time": "2021-10-07T02:36:55.199140Z",
     "start_time": "2021-10-07T02:36:55.177762Z"
    },
    "hidden": true
   },
   "outputs": [],
   "source": [
    "# #extract the xy values for observations in range if they are the final observation for a given pair\n",
    "# max_times=dfr.reset_index().groupby([trial_col,'pid_self','pid_other'])[t_col].max().reset_index().values\n",
    "# last_obs=dfr.reset_index().set_index([trial_col,'pid_self','pid_other',t_col]).loc[max_times.get().T]\n",
    "# x_values,y_values=last_obs[['one_over_R','dRdt']].values.T\n",
    "# last_range=last_obs['R'].values.T\n",
    "# last_dRdt=y_values"
   ]
  },
  {
   "cell_type": "code",
   "execution_count": 28,
   "id": "69fdce2f",
   "metadata": {
    "ExecuteTime": {
     "end_time": "2021-10-07T02:36:55.219085Z",
     "start_time": "2021-10-07T02:36:55.200508Z"
    },
    "hidden": true
   },
   "outputs": [],
   "source": [
    "#TODO(after computing the final SR versus tdeath vlaues):subtract off the first squared range and tdeath value for each pair considered"
   ]
  },
  {
   "cell_type": "code",
   "execution_count": 29,
   "id": "98d7d89a",
   "metadata": {
    "ExecuteTime": {
     "end_time": "2021-10-07T02:36:55.403742Z",
     "start_time": "2021-10-07T02:36:55.220135Z"
    },
    "hidden": true
   },
   "outputs": [
    {
     "ename": "NameError",
     "evalue": "name 'df_intersecting_pairs_all' is not defined",
     "output_type": "error",
     "traceback": [
      "\u001b[0;31m---------------------------------------------------------------------------\u001b[0m",
      "\u001b[0;31mNameError\u001b[0m                                 Traceback (most recent call last)",
      "\u001b[0;32m/tmp/ipykernel_261727/2483096542.py\u001b[0m in \u001b[0;36m<module>\u001b[0;34m\u001b[0m\n\u001b[1;32m      1\u001b[0m \u001b[0;31m#test that duration is strictly positive\u001b[0m\u001b[0;34m\u001b[0m\u001b[0;34m\u001b[0m\u001b[0;34m\u001b[0m\u001b[0m\n\u001b[0;32m----> 2\u001b[0;31m \u001b[0;32massert\u001b[0m \u001b[0;34m(\u001b[0m \u001b[0;34m(\u001b[0m\u001b[0mdf_intersecting_pairs_all\u001b[0m\u001b[0;34m[\u001b[0m\u001b[0;34m'duration'\u001b[0m\u001b[0;34m]\u001b[0m\u001b[0;34m>\u001b[0m\u001b[0;36m0\u001b[0m\u001b[0;34m)\u001b[0m\u001b[0;34m.\u001b[0m\u001b[0mall\u001b[0m\u001b[0;34m(\u001b[0m\u001b[0;34m)\u001b[0m \u001b[0;34m)\u001b[0m\u001b[0;34m\u001b[0m\u001b[0;34m\u001b[0m\u001b[0m\n\u001b[0m\u001b[1;32m      3\u001b[0m \u001b[0;32mif\u001b[0m \u001b[0mprinting\u001b[0m\u001b[0;34m:\u001b[0m\u001b[0;34m\u001b[0m\u001b[0;34m\u001b[0m\u001b[0m\n\u001b[1;32m      4\u001b[0m     \u001b[0mprint\u001b[0m \u001b[0;34m(\u001b[0m\u001b[0;34mf\"verified that the duration is strictly positive for all pairs of tips that coexist nontrivially\"\u001b[0m\u001b[0;34m)\u001b[0m\u001b[0;34m\u001b[0m\u001b[0;34m\u001b[0m\u001b[0m\n\u001b[1;32m      5\u001b[0m \u001b[0;34m\u001b[0m\u001b[0m\n",
      "\u001b[0;31mNameError\u001b[0m: name 'df_intersecting_pairs_all' is not defined"
     ]
    }
   ],
   "source": [
    "#test that duration is strictly positive\n",
    "assert ( (df_intersecting_pairs_all['duration']>0).all() )\n",
    "if printing:\n",
    "    print (f\"verified that the duration is strictly positive for all pairs of tips that coexist nontrivially\")\n",
    "\n",
    "#plot histogram of durations\n",
    "fontsize=20\n",
    "fig,ax=plt.subplots(figsize=(7,4))\n",
    "yv=np.linspace(0,0.02,10)\n",
    "ax.plot(minimum_duration_threshold+0.*yv,yv,'gray',lw=2, linestyle='dashed', label='threshold')\n",
    "trial_col_lst=sorted(df_intersecting_pairs_all[trial_col].drop_duplicates().values.get())\n",
    "for trial in trial_col_lst[:5]:\n",
    "    df_intersecting_pairs_all.query(f\"{trial_col} == {trial}\")['duration'].to_pandas().hist(density=True,bins=50,ax=ax,label=trial,grid=False)#,color='event_id_int')\n",
    "format_plot(ax, xlabel='duration of pair coexistance (ms)', ylabel='probability density', fontsize=fontsize, use_loglog=False)\n",
    "\n",
    "ax.legend(fontsize=fontsize)\n",
    "plt.tight_layout()\n",
    "plt.show()"
   ]
  },
  {
   "cell_type": "code",
   "execution_count": null,
   "id": "613b8ad9",
   "metadata": {
    "ExecuteTime": {
     "end_time": "2021-10-07T02:36:55.841137Z",
     "start_time": "2021-10-07T02:36:55.841125Z"
    },
    "hidden": true
   },
   "outputs": [],
   "source": [
    "#DONE: verify that no pair points to the same spiral tip twice\n",
    "assert ( not (df_intersecting_pairs_all['pid_self']==df_intersecting_pairs_all['pid_other']).any() )"
   ]
  },
  {
   "cell_type": "code",
   "execution_count": null,
   "id": "3dcbae3d",
   "metadata": {
    "ExecuteTime": {
     "end_time": "2021-10-07T02:36:55.842146Z",
     "start_time": "2021-10-07T02:36:55.842134Z"
    },
    "hidden": true
   },
   "outputs": [],
   "source": [
    "# df.dropna()"
   ]
  },
  {
   "cell_type": "code",
   "execution_count": null,
   "id": "61088512",
   "metadata": {
    "ExecuteTime": {
     "end_time": "2021-10-07T02:36:55.843587Z",
     "start_time": "2021-10-07T02:36:55.843573Z"
    },
    "hidden": true
   },
   "outputs": [],
   "source": [
    "grouped=df.groupby([trial_col,pid_col])\n",
    "dft=grouped[t_col]\n",
    "dfu=cudf.DataFrame({\n",
    "    'tmin':dft.min(),\n",
    "    'tmax':dft.max(),\n",
    "})\n",
    "dfu.reset_index(inplace=True)\n",
    "df_intersecting_pairs_all=identify_all_coexisting_pairs(df=dfu.copy(),pid_col=pid_col,t_col=t_col,trial_col=trial_col)\n",
    "\n",
    "#filter by duration_threshold\n",
    "use_duration_threshold=True\n",
    "if use_duration_threshold:\n",
    "    df_pairs=df_intersecting_pairs_all[df_intersecting_pairs_all['duration']>minimum_duration_threshold]\n",
    "else:\n",
    "    df_pairs=df_intersecting_pairs_all\n",
    "#and sort\n",
    "df_pairs=df_pairs.sort_values([trial_col,'pid_self'], ascending=True).copy()"
   ]
  },
  {
   "cell_type": "code",
   "execution_count": null,
   "id": "05c13ef3",
   "metadata": {
    "ExecuteTime": {
     "end_time": "2021-10-07T02:36:55.844926Z",
     "start_time": "2021-10-07T02:36:55.844907Z"
    },
    "hidden": true
   },
   "outputs": [],
   "source": [
    "df_traj=extract_trajectory_pairs_cu(df,df_pairs,pid_col,t_col,trial_col,DT)\n",
    "#DONE: tested that index_self is never equal to index_other for a given event_id_int\n",
    "#^this is equivalent to no two observations being the same\n",
    "trial_values=df[trial_col].drop_duplicates().values\n",
    "for trial in trial_values.get():\n",
    "    d=df_traj.loc[df_traj[trial_col]==trial].copy()\n",
    "    assert ( not (d['index_other']==d['index_self']).any())"
   ]
  },
  {
   "cell_type": "code",
   "execution_count": null,
   "id": "b78c8d82",
   "metadata": {
    "ExecuteTime": {
     "end_time": "2021-10-07T02:36:55.846215Z",
     "start_time": "2021-10-07T02:36:55.846182Z"
    },
    "hidden": true
   },
   "outputs": [],
   "source": [
    "#compute the naive finite difference radial velocity between all pairs of particles\n",
    "df_traj=comp_xy_distance_L2_pbc_cu(df_traj,width,height)\n",
    "df_traj['R']=df_traj['dist']*DS #cm\n",
    "#isolate only the columns relevant to computing the attraction coefficient, a\n",
    "df_R=df_traj[[trial_col,'pid_self','pid_other',t_col,'R']].dropna()\n",
    "df_R=df_R.sort_values([trial_col,'pid_self','pid_other',t_col], ascending=True).copy()\n",
    "grouped=df_R.groupby([trial_col,'pid_self','pid_other'])\n",
    "#compute the difference between two successive R values for each group\n",
    "df_R['incol']=df_R['R']\n",
    "mdwargs={'win_size':2}\n",
    "result = grouped.apply_grouped(rolling_diff,\n",
    "                               incols=['incol'],\n",
    "                               outcols=dict(outcol=np.float64), kwargs=\n",
    "                           mdwargs)\n",
    "df_R['dRdt']=result['outcol']/DT*1000 #cm/s\n",
    "df_R.drop(columns=['incol'],inplace=True)\n",
    "#compute the average between two successive R values for each group\n",
    "df_R['incol']=df_R['R']\n",
    "mawargs={'win_size':2}\n",
    "result = grouped.apply_grouped(rolling_avg,\n",
    "                               incols=['incol'],\n",
    "                               outcols=dict(outcol=np.float64), kwargs=\n",
    "                           mawargs)\n",
    "df_R['R_midpoint']=result['outcol'] #cm\n",
    "df_R['one_over_R']=1./df_R['R'] #1/cm\n",
    "df_R.drop(columns=['incol'],inplace=True)\n",
    "df_R.dropna(inplace=True)\n",
    "df_R.head()"
   ]
  },
  {
   "cell_type": "code",
   "execution_count": null,
   "id": "e6be7307",
   "metadata": {
    "ExecuteTime": {
     "end_time": "2021-10-07T02:36:55.847579Z",
     "start_time": "2021-10-07T02:36:55.847564Z"
    },
    "hidden": true
   },
   "outputs": [],
   "source": [
    "#index by individual pairs\n",
    "dfr=df_R.set_index([trial_col,'pid_self','pid_other']).sort_values(by='t')\n",
    "#identify all pairs that are within this range\n",
    "boo=(dfr['R']<=maximum_range_threshold)&(dfr['R']>=minimum_range_threshold)\n",
    "index_values=dfr.index.drop_duplicates().values\n",
    "\n",
    "x_values,y_values=dfr.sort_values(by='t')[['one_over_R','dRdt']].values.T.get()\n",
    "print(f\"any(1/R < 0)={(x_values<0).any()}\")\n",
    "# boo=x_values<0\n",
    "# # print(x_values[boo])\n",
    "# # ,'one_over_R']\n",
    "# next_=dfr[boo].index+1\n",
    "# dfr.loc[next_,'one_over_R']\n",
    "# dfr[boo]"
   ]
  },
  {
   "cell_type": "code",
   "execution_count": null,
   "id": "d8be0e21",
   "metadata": {
    "ExecuteTime": {
     "end_time": "2021-10-07T02:36:55.848478Z",
     "start_time": "2021-10-07T02:36:55.848464Z"
    },
    "hidden": true
   },
   "outputs": [],
   "source": [
    "# dfr[boo]"
   ]
  },
  {
   "cell_type": "code",
   "execution_count": null,
   "id": "70fcfc8a",
   "metadata": {
    "ExecuteTime": {
     "end_time": "2021-10-07T02:36:55.849338Z",
     "start_time": "2021-10-07T02:36:55.849324Z"
    },
    "hidden": true
   },
   "outputs": [],
   "source": [
    "# any"
   ]
  },
  {
   "cell_type": "code",
   "execution_count": null,
   "id": "9d4011da",
   "metadata": {
    "ExecuteTime": {
     "end_time": "2021-10-07T02:36:55.850398Z",
     "start_time": "2021-10-07T02:36:55.850382Z"
    },
    "hidden": true
   },
   "outputs": [],
   "source": [
    "# dfr.shift(-1)[boo]"
   ]
  },
  {
   "cell_type": "code",
   "execution_count": null,
   "id": "77b58e66",
   "metadata": {
    "ExecuteTime": {
     "end_time": "2021-10-07T02:36:55.851359Z",
     "start_time": "2021-10-07T02:36:55.851327Z"
    },
    "hidden": true
   },
   "outputs": [],
   "source": [
    "#plot histogram of durations\n",
    "fontsize=20\n",
    "fig,ax=plt.subplots(figsize=(7,4))\n",
    "\n",
    "trial_col_lst=sorted(df_R[trial_col].drop_duplicates().values.get())\n",
    "for trial in trial_col_lst[:5]:\n",
    "    df_R.query(f\"{trial_col} == {trial}\")['R_midpoint'].to_pandas().hist(density=True,bins=50,ax=ax,label=trial,grid=False)#,color='event_id_int')\n",
    "        \n",
    "format_plot(ax, xlabel=r'$R$ (cm)', ylabel='prob. density', fontsize=fontsize, use_loglog=False)\n",
    "ax.legend(fontsize=fontsize-2)\n",
    "\n",
    "#plot threshold lines\n",
    "yv=np.linspace(0,0.6,10)\n",
    "ax.plot(minimum_range_threshold+0.*yv,yv,'gray',lw=2, linestyle='dashed', label='threshold')\n",
    "ax.plot(maximum_range_threshold+0.*yv,yv,'gray',lw=2, linestyle='dashed', label='threshold')\n",
    "\n",
    "plt.tight_layout()\n",
    "plt.show()"
   ]
  },
  {
   "cell_type": "code",
   "execution_count": null,
   "id": "2a142557",
   "metadata": {
    "ExecuteTime": {
     "end_time": "2021-10-07T02:36:55.852198Z",
     "start_time": "2021-10-07T02:36:55.852184Z"
    },
    "hidden": true
   },
   "outputs": [],
   "source": [
    "xmin=-100\n",
    "xmax=100"
   ]
  },
  {
   "cell_type": "code",
   "execution_count": null,
   "id": "5117abd3",
   "metadata": {
    "ExecuteTime": {
     "end_time": "2021-10-07T02:36:55.853362Z",
     "start_time": "2021-10-07T02:36:55.853342Z"
    },
    "hidden": true
   },
   "outputs": [],
   "source": [
    "#DONE: plot a laplace distribution over ^this\n",
    "xv=df_R.query(f\"{trial_col} == {trial}\")['dRdt'].values.get()\n",
    "v=xv[(xv>xmin)&(xv<xmax)]\n",
    "mu=np.mean(v)\n",
    "beta=np.std(v)/np.sqrt(2)\n",
    "def comp_laplace_pdf(x,mu,beta):\n",
    "    return np.exp(-np.abs(x-mu)/beta)/(2*beta)"
   ]
  },
  {
   "cell_type": "code",
   "execution_count": null,
   "id": "7c951d29",
   "metadata": {
    "ExecuteTime": {
     "end_time": "2021-10-03T02:57:00.327130Z",
     "start_time": "2021-10-03T02:57:00.278193Z"
    },
    "hidden": true
   },
   "outputs": [],
   "source": []
  },
  {
   "cell_type": "code",
   "execution_count": null,
   "id": "86719877",
   "metadata": {
    "ExecuteTime": {
     "end_time": "2021-10-07T02:36:55.854295Z",
     "start_time": "2021-10-07T02:36:55.854281Z"
    },
    "hidden": true
   },
   "outputs": [],
   "source": [
    "#plot histogram of durations\n",
    "fontsize=20\n",
    "fig,ax=plt.subplots(figsize=(7,4))\n",
    "trial_col_lst=sorted(df_R[trial_col].drop_duplicates().values.get())\n",
    "for trial in trial_col_lst[:5]:\n",
    "    xv=df_R.query(f\"{trial_col} == {trial}\")['dRdt'].values.get()\n",
    "    v=xv[(xv>xmin)&(xv<xmax)]# np.max(xv),np.quantile(xv,.15),np.mean(xv),np.quantile(xv,.85),np.max(xv)\n",
    "    ax.hist(v,density=True,bins=50,label=trial)#,grid=False)#,color='event_id_int')\n",
    "#     ax.hist(v,density=True,bins='auto',label=trial)#,grid=False)#,color='event_id_int')\n",
    " \n",
    "\n",
    "#plot the max likelihood fit to the laplace distribution\n",
    "x_values=np.linspace(xmin,xmax,100)\n",
    "laplace_values=comp_laplace_pdf(x_values,mu,beta)\n",
    "plt.plot(x_values,laplace_values,'g--',lw=4,alpha=0.4,label='Laplace Fit')\n",
    "\n",
    "format_plot(ax, xlabel=r'$dR/dt$ (cm)', ylabel='prob. density', fontsize=fontsize, use_loglog=False)\n",
    "ax.legend(fontsize=fontsize-4,loc='lower center')\n",
    "ax.set_yscale('log')\n",
    "ax.set_xlim([xmin,xmax])\n",
    "ax.set_title(f'fit parameters: mu={mu:.3f} cm, beta={beta:.3f} cm\\n')\n",
    "# ax.set_ylim([0,0.01])\n",
    "plt.tight_layout()\n",
    "plt.show()"
   ]
  },
  {
   "cell_type": "code",
   "execution_count": null,
   "id": "b82c09c7",
   "metadata": {
    "ExecuteTime": {
     "end_time": "2021-10-07T02:36:55.855280Z",
     "start_time": "2021-10-07T02:36:55.855245Z"
    },
    "hidden": true
   },
   "outputs": [],
   "source": [
    "#index by individual pairs\n",
    "dfr=df_R.set_index([trial_col,'pid_self','pid_other']).sort_values(by='t')\n",
    "#identify all pairs that are within this range\n",
    "boo=(dfr['R']<=maximum_range_threshold)&(dfr['R']>=minimum_range_threshold)\n",
    "index_values=dfr.index.drop_duplicates().values"
   ]
  },
  {
   "cell_type": "code",
   "execution_count": null,
   "id": "7ec34ee2",
   "metadata": {
    "ExecuteTime": {
     "end_time": "2021-10-07T02:36:55.856481Z",
     "start_time": "2021-10-07T02:36:55.856465Z"
    },
    "hidden": true
   },
   "outputs": [],
   "source": [
    "#plot a few particle events\n",
    "fontsize=14\n",
    "fig,ax=plt.subplots(figsize=(7,5))\n",
    "for iv in index_values.get()[:3]:\n",
    "    x_values,y_values=dfr.loc[iv].sort_values(by='t')[['t','R']].values.T.get()\n",
    "    ax.plot(x_values-x_values[0],y_values,label=f\"pair {(iv[1],iv[2])}\")\n",
    "format_plot(ax, xlabel=r'$t$ (ms)', ylabel=r'$R$ (cm)', fontsize=fontsize, use_loglog=False)\n",
    "ax.legend(fontsize=fontsize-2)\n",
    "plt.title(f'tavg1={tavg1} ms, tavg2={0} ms\\n')\n",
    "plt.tight_layout()\n",
    "plt.show()"
   ]
  },
  {
   "cell_type": "code",
   "execution_count": null,
   "id": "51d0b455",
   "metadata": {
    "ExecuteTime": {
     "end_time": "2021-10-07T02:36:55.857339Z",
     "start_time": "2021-10-07T02:36:55.857324Z"
    },
    "hidden": true
   },
   "outputs": [],
   "source": [
    "#plot a few particle events\n",
    "fontsize=14\n",
    "fig,ax=plt.subplots(figsize=(7,4))\n",
    "for iv in index_values.get()[:3]:\n",
    "    x_values,y_values=dfr.loc[iv].sort_values(by='t')[['R_midpoint','dRdt']].values.T.get()\n",
    "#     ax.scatter(x_values,y_values,label=f\"pair {(iv[1],iv[2])}\")\n",
    "    ax.plot(x_values,y_values,label=f\"pair {(iv[1],iv[2])}\")\n",
    "format_plot(ax, xlabel=r'$R$ (cm)', ylabel=r'$dR/dt$ (cm/s)', fontsize=fontsize, use_loglog=False)\n",
    "ax.legend(fontsize=fontsize-2)\n",
    "plt.tight_layout()\n",
    "plt.show()"
   ]
  },
  {
   "cell_type": "code",
   "execution_count": null,
   "id": "e64624a0",
   "metadata": {
    "hidden": true
   },
   "outputs": [],
   "source": []
  },
  {
   "cell_type": "markdown",
   "id": "6ecc0e03",
   "metadata": {
    "heading_collapsed": true
   },
   "source": [
    "# DONE: compute the radial velocities with the savgol_filtered "
   ]
  },
  {
   "cell_type": "code",
   "execution_count": null,
   "id": "20a248f7",
   "metadata": {
    "ExecuteTime": {
     "end_time": "2021-10-07T02:36:55.858869Z",
     "start_time": "2021-10-07T02:36:55.858855Z"
    },
    "hidden": true
   },
   "outputs": [],
   "source": [
    "savgol_kwargs=dict(\n",
    "    window_length=navg2,\n",
    "    polyorder=3,\n",
    "    deriv=1,\n",
    "    delta=1.0,\n",
    "    axis=-1,\n",
    "    mode='interp'\n",
    ")\n",
    "\n",
    "savgol0_kwargs=dict(\n",
    "    window_length=navg2,\n",
    "    polyorder=3,\n",
    "    deriv=0,\n",
    "    delta=1.0,\n",
    "    axis=-1,\n",
    "    mode='interp'\n",
    ")\n",
    "\n",
    "df_traj=extract_trajectory_pairs_cu(df,df_pairs,pid_col,t_col,trial_col,DT)\n",
    "#compute the naive finite difference radial velocity between all pairs of particles\n",
    "df_traj=comp_xy_distance_L2_pbc_cu(df_traj,width,height)\n",
    "df_traj['R']=df_traj['dist']*DS #cm\n",
    "#isolate only the columns relevant to computing the attraction coefficient, a\n",
    "df_R=df_traj[[trial_col,'pid_self','pid_other',t_col,'R']].dropna()\n",
    "df_R=df_R.sort_values([trial_col,'pid_self','pid_other',t_col], ascending=True)#.copy()\n",
    "\n",
    "#compute the smoothed derivative savgol_filter using scipy's cryptic cython code\n",
    "grouped=df_R.to_pandas().groupby([trial_col,'pid_self','pid_other'])\n",
    "result = grouped['R'].apply(savgol_filter,**savgol_kwargs)\n",
    "dRdt_values=cp.array(np.concatenate(result.values))\n",
    "df_R['dRdt']=dRdt_values/DT*1000\n",
    "\n",
    "#compute the smoothed value savgol_filter using scipy's cryptic cython code\n",
    "grouped=df_R.to_pandas().groupby([trial_col,'pid_self','pid_other'])\n",
    "result = grouped['R'].apply(savgol_filter,**savgol0_kwargs)\n",
    "R_values=cp.array(np.concatenate(result.values))\n",
    "df_R['R']=R_values\n",
    "\n",
    "df_R['one_over_R']=1./df_R['R'] #1/cm\n",
    "df_R.dropna(inplace=True)\n",
    "df_R.head()\n",
    "\n",
    "#index by individual pairs\n",
    "dfr=df_R.set_index([trial_col,'pid_self','pid_other']).sort_values(by='t')\n",
    "#identify all pairs that are within this range\n",
    "boo=(dfr['R']<=maximum_range_threshold\n",
    "    )&(dfr['R']>=minimum_range_threshold)\n",
    "index_values=boo.index.drop_duplicates().values"
   ]
  },
  {
   "cell_type": "code",
   "execution_count": null,
   "id": "9748ed99",
   "metadata": {
    "ExecuteTime": {
     "end_time": "2021-10-07T02:36:55.859669Z",
     "start_time": "2021-10-07T02:36:55.859652Z"
    },
    "hidden": true
   },
   "outputs": [],
   "source": [
    "#DONE: compute 1/R and dRdt_naive\n",
    "#DONE: extract xy values for all particles lumped together\n",
    "#DONE: verify visually that these values look reasonable\n",
    "#TODO: compute the bootstrapped mean dRdt (y_values) binning by one_over_R (x_values)\n",
    "# R_values=df_R['R_midpoint'].values\n",
    "# x_values=df_R['one_over_R'].values\n",
    "# y_values=df_R['dRdt'].values"
   ]
  },
  {
   "cell_type": "code",
   "execution_count": null,
   "id": "3b5c49c7",
   "metadata": {
    "ExecuteTime": {
     "end_time": "2021-10-07T02:36:55.860415Z",
     "start_time": "2021-10-07T02:36:55.860405Z"
    },
    "hidden": true
   },
   "outputs": [],
   "source": [
    "x_values,y_values=dfr.sort_values(by='t')[['one_over_R','dRdt']].values.T.get()\n",
    "print(f\"(x_values<0).any()={(x_values<0).any()}\")"
   ]
  },
  {
   "cell_type": "code",
   "execution_count": null,
   "id": "be3b6386",
   "metadata": {
    "ExecuteTime": {
     "end_time": "2021-10-07T02:36:55.860998Z",
     "start_time": "2021-10-07T02:36:55.860988Z"
    },
    "hidden": true
   },
   "outputs": [],
   "source": [
    "#plot a few particle events\n",
    "fontsize=14\n",
    "fig,ax=plt.subplots(figsize=(7,5))\n",
    "for iv in index_values.get()[:3]:\n",
    "#     x_values,y_values=dfr2.loc[iv][['t','R']].values.T.get()\n",
    "    x_values,y_values=dfr.loc[iv][['t','R']].sort_values(by='t').values.T.get()\n",
    "    x_values=(x_values-x_values[0])[1:-1]\n",
    "    y_values=y_values[1:-1]\n",
    "    ax.plot(x_values,y_values,label=f\"pair {(iv[1],iv[2])}\")\n",
    "format_plot(ax, xlabel=r'$t$ (ms)', ylabel=r'$R$ (cm)', fontsize=fontsize, use_loglog=False)\n",
    "ax.legend(fontsize=fontsize-2)\n",
    "plt.title(f'tavg1={tavg1} ms, tavg2={tavg2} ms\\n')\n",
    "plt.tight_layout()\n",
    "plt.show()"
   ]
  },
  {
   "cell_type": "code",
   "execution_count": null,
   "id": "27a637f5",
   "metadata": {
    "ExecuteTime": {
     "end_time": "2021-10-07T02:36:55.861792Z",
     "start_time": "2021-10-07T02:36:55.861782Z"
    },
    "hidden": true
   },
   "outputs": [],
   "source": [
    "#plot a few particle events\n",
    "fontsize=14\n",
    "fig,ax=plt.subplots(figsize=(7,4))\n",
    "for iv in index_values.get()[:3]:\n",
    "    x_values,y_values=dfr.loc[iv].sort_values(by='t')[['R','dRdt']].values.T.get()\n",
    "    x_values=x_values#[4:]\n",
    "    y_values=y_values#[4:]\n",
    "    ax.plot(x_values,y_values,label=f\"pair {(iv[1],iv[2])}\")\n",
    "format_plot(ax, xlabel=r'$R$ (cm)', ylabel=r'$dR/dt$ (cm/s)', fontsize=fontsize, use_loglog=False)\n",
    "ax.legend(fontsize=fontsize-2)\n",
    "plt.tight_layout()\n",
    "plt.show()"
   ]
  },
  {
   "cell_type": "code",
   "execution_count": null,
   "id": "5004f8d8",
   "metadata": {
    "ExecuteTime": {
     "end_time": "2021-10-07T02:36:55.862497Z",
     "start_time": "2021-10-07T02:36:55.862487Z"
    },
    "hidden": true,
    "scrolled": true
   },
   "outputs": [],
   "source": [
    "#plot histogram of durations\n",
    "fontsize=20\n",
    "fig,ax=plt.subplots(figsize=(7,4))\n",
    "\n",
    "trial_col_lst=sorted(df_R[trial_col].drop_duplicates().values.get())\n",
    "for trial in trial_col_lst[:5]:\n",
    "    df_R.query(f\"{trial_col} == {trial}\")['R'].to_pandas().hist(density=True,bins=50,ax=ax,label=trial,grid=False)#,color='event_id_int')\n",
    "        \n",
    "format_plot(ax, xlabel=r'$R$ (cm)', ylabel='prob. density', fontsize=fontsize, use_loglog=False)\n",
    "# ax.legend(fontsize=fontsize-2)\n",
    "\n",
    "#plot threshold lines\n",
    "yv=np.linspace(0,0.6,10)\n",
    "ax.plot(minimum_range_threshold+0.*yv,yv,'gray',lw=2, linestyle='dashed', label='threshold')\n",
    "ax.plot(maximum_range_threshold+0.*yv,yv,'gray',lw=2, linestyle='dashed', label='threshold')\n",
    "\n",
    "plt.tight_layout()\n",
    "plt.show()"
   ]
  },
  {
   "cell_type": "code",
   "execution_count": null,
   "id": "9e46bf38",
   "metadata": {
    "ExecuteTime": {
     "end_time": "2021-10-07T02:36:55.863247Z",
     "start_time": "2021-10-07T02:36:55.863229Z"
    },
    "hidden": true
   },
   "outputs": [],
   "source": [
    "xmin=-100;xmax=100\n",
    "#DONE: plot a laplace distribution over ^this\n",
    "xv=df_R.query(f\"{trial_col} == {trial}\")['dRdt'].values.get()\n",
    "v=xv[(xv>xmin)&(xv<xmax)]\n",
    "mu=np.mean(v)\n",
    "beta=np.std(v)/np.sqrt(2)\n",
    "def comp_laplace_pdf(x,mu,beta):\n",
    "    return np.exp(-np.abs(x-mu)/beta)/(2*beta)"
   ]
  },
  {
   "cell_type": "code",
   "execution_count": null,
   "id": "b4566dcb",
   "metadata": {
    "ExecuteTime": {
     "end_time": "2021-10-07T02:36:55.864014Z",
     "start_time": "2021-10-07T02:36:55.864003Z"
    },
    "hidden": true
   },
   "outputs": [],
   "source": [
    "#plot histogram of durations\n",
    "fontsize=20\n",
    "fig,ax=plt.subplots(figsize=(7,4))\n",
    "trial_col_lst=sorted(df_R[trial_col].drop_duplicates().values.get())\n",
    "for trial in trial_col_lst[:5]:\n",
    "    xv=df_R.query(f\"{trial_col} == {trial}\")['dRdt'].values.get()\n",
    "    v=xv[(xv>xmin)&(xv<xmax)]# np.max(xv),np.quantile(xv,.15),np.mean(xv),np.quantile(xv,.85),np.max(xv)\n",
    "    ax.hist(v,density=True,bins=50,label=trial)#,grid=False)#,color='event_id_int')\n",
    "#     ax.hist(v,density=True,bins='auto',label=trial)#,grid=False)#,color='event_id_int')\n",
    " \n",
    "\n",
    "# #plot the max likelihood fit to the laplace distribution\n",
    "# x_values=np.linspace(xmin,xmax,100)\n",
    "# laplace_values=comp_laplace_pdf(x_values,mu,beta)\n",
    "# plt.plot(x_values,laplace_values,'g--',lw=4,alpha=0.4,label='Laplace Fit')\n",
    "\n",
    "format_plot(ax, xlabel=r'$dR/dt$ (cm)', ylabel='prob. density', fontsize=fontsize, use_loglog=False)\n",
    "# ax.legend(fontsize=fontsize-4,loc='lower center')\n",
    "# ax.set_yscale('log')\n",
    "ax.set_xlim([xmin,xmax])\n",
    "# ax.set_title(f'fit parameters: mu={mu:.3f} cm, beta={beta:.3f} cm\\n')\n",
    "# ax.set_ylim([0,0.01])\n",
    "plt.tight_layout()\n",
    "plt.show()"
   ]
  },
  {
   "cell_type": "code",
   "execution_count": null,
   "id": "da651255",
   "metadata": {
    "ExecuteTime": {
     "end_time": "2021-10-07T02:36:55.864951Z",
     "start_time": "2021-10-07T02:36:55.864939Z"
    },
    "hidden": true
   },
   "outputs": [],
   "source": [
    "normaltest(v)"
   ]
  },
  {
   "cell_type": "code",
   "execution_count": null,
   "id": "26afb80c",
   "metadata": {
    "ExecuteTime": {
     "end_time": "2021-10-07T02:36:55.865640Z",
     "start_time": "2021-10-07T02:36:55.865630Z"
    },
    "hidden": true
   },
   "outputs": [],
   "source": [
    "# #THIS IS THE SHORTEST PATH TO Success\n",
    "# MULTIINDEX SO THE PRIMITIVE OBJECT IS THE RANGE TIME SERIES\n",
    "# COMPUTE KEY VALUES 1/R AND DRDT\n",
    "# NAIVELY MEASURE A\n",
    "# REMOVE OUTLIER A VALUES OR A THAT RECIEVED A NASTY FIT\n",
    "# RECOMPUTE A WITH AN ENSEMBLE BOOTSTRAP\n",
    "# IF A IS STILL NOT GREAT, CONSIDER USINVE TAVG2 WITH SOMETHING LIKE A SAVGOL FILTER IMPLEMENTED AS AN FIR FILTER\n",
    "# KEEP TRYING UNTIL I HAVE AN ESTIMATE OF A THAT IS CONSISTENT WITH THE PARTICLE MODEL"
   ]
  },
  {
   "cell_type": "code",
   "execution_count": null,
   "id": "a15f9f12",
   "metadata": {
    "ExecuteTime": {
     "end_time": "2021-10-07T02:36:55.866323Z",
     "start_time": "2021-10-07T02:36:55.866314Z"
    },
    "hidden": true
   },
   "outputs": [],
   "source": [
    "# #THIS IS THE SHORTEST PATH TO Success\n",
    "# df.loc[[0,0]]\n",
    "# #can I repeat a label? using loc. yes!  THIS CAN BE SOLVE SIMPLY BY \n",
    "# # USE DF_PAIRS TO DETERMINE THE MULTIPLICITY_self OF EACH PID_SELF\n",
    "# multiplicity_self=df_pairs.groupby([trial_col,'pid_self'])['tmin'].count()\n",
    "# # # USE DF_PAIRS TO DETERMINE THE MULTIPLICITY_other OF EACH PID_OTHER\n",
    "# # SET THE INDEX TO PID_COL IN DF AS DFP\n",
    "# dfp=df.set_index(pid_col)\n",
    "# # MAKE A LIST OF INDICIES WHERE PID_COL IS REPEATED MULTIPLICITY TIMES\n",
    "\n",
    "# # LOCATE AND COPY DF WITH ^THAT LIST FOR SELF\n",
    "# # MAKE A LIST OF INDICIES WHERE PID_COL IS REPEATED MULTIPLICITY TIMES\n",
    "# # LOCATE AND COPY DF WITH ^THAT LIST FOR OTHER\n",
    "# # MAKE A SINGLE DF WITH ALL OF THE DESIRED COLUMNS (SEE HANDWRITTEN (3))\n",
    "# # REWRITE A PANDASESQUE DIST_L2_PBC_CUDF MEASURE \n",
    "# # COMPUTE THE CUDF DATAFRAME OF ALL RANGE TIMESERIES FOR ALL PAIRS"
   ]
  },
  {
   "cell_type": "code",
   "execution_count": null,
   "id": "df5b4ea0",
   "metadata": {
    "ExecuteTime": {
     "end_time": "2021-10-07T02:36:55.867189Z",
     "start_time": "2021-10-07T02:36:55.867179Z"
    },
    "hidden": true
   },
   "outputs": [],
   "source": [
    "# #DONE: visually verify these values look sensible\n",
    "# plt.plot(dist_values.get())\n",
    "# plt.show()\n",
    "# plt.plot(self_values[:,0].get(),self_values[:,1].get())\n",
    "# plt.plot(other_values[:,0].get(),other_values[:,1].get())\n",
    "# plt.show()"
   ]
  },
  {
   "cell_type": "code",
   "execution_count": null,
   "id": "036c7a89",
   "metadata": {
    "ExecuteTime": {
     "end_time": "2021-10-07T02:36:55.867911Z",
     "start_time": "2021-10-07T02:36:55.867900Z"
    },
    "hidden": true
   },
   "outputs": [],
   "source": [
    "# #DONE:compute the distance in x between any points where two spiral tips occur at the same time in t\n",
    "# #is the best way to do this to project to cupy and to run all rows in  together in a daskbag?  sure.\n"
   ]
  },
  {
   "cell_type": "markdown",
   "id": "96bb876c",
   "metadata": {
    "heading_collapsed": true
   },
   "source": [
    "# DONE: more attempts to measure a without conditioning on annihilation occuring"
   ]
  },
  {
   "cell_type": "code",
   "execution_count": null,
   "id": "da86c225",
   "metadata": {
    "ExecuteTime": {
     "end_time": "2021-10-07T02:36:55.868780Z",
     "start_time": "2021-10-07T02:36:55.868765Z"
    },
    "hidden": true
   },
   "outputs": [],
   "source": [
    "#TODO: compute the bootstrapped mean dRdt (y_values) binning by one_over_R (x_values)\n",
    "#TODO: bootstrap dRdt versus R for one input_fn\n",
    "#TODO: compute a for one input_fn\n",
    "x_values,y_values=dfr.sort_values(by='t')[['one_over_R','dRdt']].values.T.get()\n",
    "print(f\"(x_values<0).any()={(x_values<0).any()}\")"
   ]
  },
  {
   "cell_type": "code",
   "execution_count": null,
   "id": "115c0ecb",
   "metadata": {
    "ExecuteTime": {
     "end_time": "2021-10-07T02:36:55.870263Z",
     "start_time": "2021-10-07T02:36:55.870249Z"
    },
    "hidden": true
   },
   "outputs": [],
   "source": [
    "fig,axs=plt.subplots(ncols=2,figsize=(8,4))\n",
    "axs[0].hist(x_values,bins=50)\n",
    "axs[1].hist(y_values,bins=50)\n",
    "format_plot(axs[0], xlabel=r'$1/R$ (1/cm)', ylabel='prob. density', fontsize=fontsize, use_loglog=False)\n",
    "format_plot(axs[1], xlabel=r'$dR/dt$ (cm)', ylabel='prob. density', fontsize=fontsize, use_loglog=False)\n",
    "axs[0].set_xlim([np.quantile(x_values,0.25),np.quantile(x_values,0.75)])\n",
    "axs[1].set_xlim([np.quantile(y_values,0.25),np.quantile(y_values,0.75)])\n",
    "for ax in axs:\n",
    "#     ax.legend(fontsize=fontsize-4,loc='lower center')\n",
    "    ax.set_yscale('log')\n",
    "    ax.set_xlim([xmin,xmax])\n",
    "#     ax.set_title(f'fit parameters: mu={mu:.3f} cm, beta={beta:.3f} cm\\n')\n",
    "    # ax.set_ylim([0,0.01])\n",
    "axs[0].set_xlim([0,7])\n",
    "# axs[1].set_xlim([-0.01,0.01])\n",
    "plt.tight_layout()\n",
    "plt.show()\n",
    "#TODO: copy all ^this into 1 function and test it on two input_fn_lsts \n",
    "#TODO: apply ^that to a daskbag routine mapping each input_fn in input_fn_lst to a df_traj\n",
    "#TODO: merge df_traj_lst to df_traj_all and save to csv\n",
    "#TODO: bootstrap dRdt versus R for input_fn_kst\n",
    "#TODO: compute a for one input_fn_lst"
   ]
  },
  {
   "cell_type": "code",
   "execution_count": null,
   "id": "c62c2381",
   "metadata": {
    "ExecuteTime": {
     "end_time": "2021-10-07T02:36:55.871203Z",
     "start_time": "2021-10-07T02:36:55.871192Z"
    },
    "hidden": true
   },
   "outputs": [],
   "source": [
    "#TODO(IMMEDIATE FOLLOWUP GOAL): show how insensitive a is to choice in navg1 (and/or navg2 if I'm using it!)\n",
    "#GOAL_QUESTION: does there exist a tavg1 that produces the right expected a for a single termination event??"
   ]
  },
  {
   "cell_type": "code",
   "execution_count": null,
   "id": "8785a01e",
   "metadata": {
    "ExecuteTime": {
     "end_time": "2021-10-07T02:36:55.871960Z",
     "start_time": "2021-10-07T02:36:55.871950Z"
    },
    "hidden": true
   },
   "outputs": [],
   "source": [
    "#TODO: estimate an ensemble averaged a estimate\n",
    "#TODO: augment df_interacting_pairs with estimates for a for individual pairs of particles\n",
    "#TODO: use ^that to filter based on Rsq or Delta_a and recompute an ensemble averaged a estimate"
   ]
  },
  {
   "cell_type": "code",
   "execution_count": null,
   "id": "c9f4e354",
   "metadata": {
    "ExecuteTime": {
     "end_time": "2021-10-07T02:36:55.872480Z",
     "start_time": "2021-10-07T02:36:55.872470Z"
    },
    "hidden": true
   },
   "outputs": [],
   "source": [
    "#TODO: input m (:= the number of chunks to repeat this method over to avoid an out-of-memory-error)\n",
    "#TODO: bin x_values into histogram bins\n",
    "#TODO: compute which histogram bins have enough members\n",
    "#TODO: select only ^those members\n",
    "#TODO: compute the max size amongst all histogram bins\n",
    "#TODO: generate num_samples/m number of random samples of histogram bins\n",
    "#TODO: for each histogram bin:\n",
    "#TODO: \n",
    "#for a given histogram bin, \n",
    "#compute the bootstrapped mean "
   ]
  },
  {
   "cell_type": "code",
   "execution_count": null,
   "id": "0fba2be1",
   "metadata": {
    "hidden": true
   },
   "outputs": [],
   "source": []
  },
  {
   "cell_type": "code",
   "execution_count": null,
   "id": "bab9b558",
   "metadata": {
    "hidden": true
   },
   "outputs": [],
   "source": []
  },
  {
   "cell_type": "code",
   "execution_count": null,
   "id": "e6f497cf",
   "metadata": {
    "hidden": true
   },
   "outputs": [],
   "source": []
  },
  {
   "cell_type": "code",
   "execution_count": null,
   "id": "4710f849",
   "metadata": {
    "ExecuteTime": {
     "end_time": "2021-10-07T02:36:55.873179Z",
     "start_time": "2021-10-07T02:36:55.873169Z"
    },
    "hidden": true
   },
   "outputs": [],
   "source": [
    "# x=y_values\n",
    "# num_samples=1000\n",
    "# sizex=x.shape[0]#the maximum size it could be\n",
    "# randint_array=cp.random.randint(low=0, high=sizex, size=sizex, dtype=cp.int32)#.reshape((sizex,num_samples))"
   ]
  },
  {
   "cell_type": "code",
   "execution_count": null,
   "id": "df25ec51",
   "metadata": {
    "ExecuteTime": {
     "end_time": "2021-10-07T02:36:55.874144Z",
     "start_time": "2021-10-07T02:36:55.874133Z"
    },
    "hidden": true
   },
   "outputs": [],
   "source": [
    "# cp.mean(x[randint_array])"
   ]
  },
  {
   "cell_type": "code",
   "execution_count": null,
   "id": "5eb52235",
   "metadata": {
    "ExecuteTime": {
     "end_time": "2021-10-07T02:36:55.874912Z",
     "start_time": "2021-10-07T02:36:55.874902Z"
    },
    "hidden": true
   },
   "outputs": [],
   "source": [
    "# # randint_array=cp.random.randint(low=0, high=sizex, size=sizex*num_samples, dtype=int).reshape((sizex,num_samples))\n",
    "# mean_values=cp.mean(x[randint_array][...,0],axis=1)\n",
    "# # randint_array=cp.random.randint(low=0, high=sizex-1, size=sizex*num_samples, dtype=int).reshape((sizex,num_samples))#?\n",
    "# # mean_values=bootstrap_mean_cu(x,randint_array)\n",
    "# sig=cp.std(mean_values)\n",
    "# # if include_normaltest_slowly:\n",
    "# #     p = normaltest(mean_values)\n",
    "# # else:\n",
    "# p=-9999.+0.*mean_values#floating point rep of nan that won't raise exceptions\n",
    "# Delta_mean=1.96*sig"
   ]
  },
  {
   "cell_type": "code",
   "execution_count": null,
   "id": "f073cc1d",
   "metadata": {
    "ExecuteTime": {
     "end_time": "2021-10-07T02:36:55.875764Z",
     "start_time": "2021-10-07T02:36:55.875751Z"
    },
    "hidden": true
   },
   "outputs": [],
   "source": [
    "# boo=x_values>0\n",
    "# x=x_values[boo]\n",
    "# num_samples=50\n",
    "# sizex=x.shape[0]\n",
    "# cp.mean(x[cp.random.randint(low=0, high=sizex, size=sizex*num_samples, dtype=int).\n",
    "#           reshape((sizex,num_samples))][...,0])"
   ]
  },
  {
   "cell_type": "code",
   "execution_count": null,
   "id": "193f71ba",
   "metadata": {
    "ExecuteTime": {
     "end_time": "2021-10-07T02:36:55.876640Z",
     "start_time": "2021-10-07T02:36:55.876630Z"
    },
    "hidden": true
   },
   "outputs": [],
   "source": [
    "#TODO: extract particles if they attract on average\n",
    "mean_dRdt=dfr.reset_index().groupby([trial_col,'pid_self','pid_other'])['dRdt'].mean()\n",
    "mean_dRdt.head()"
   ]
  },
  {
   "cell_type": "code",
   "execution_count": null,
   "id": "2dd5305a",
   "metadata": {
    "hidden": true
   },
   "outputs": [],
   "source": []
  },
  {
   "cell_type": "code",
   "execution_count": null,
   "id": "6394487b",
   "metadata": {
    "ExecuteTime": {
     "end_time": "2021-10-07T02:36:55.877269Z",
     "start_time": "2021-10-07T02:36:55.877245Z"
    },
    "hidden": true
   },
   "outputs": [],
   "source": [
    "plt.hist(mean_dRdt.values.get(),bins=50)\n",
    "format_plot(ax=plt.gca(), xlabel='mean dR/dt (cm/s)', ylabel='prob. density', fontsize=20, use_loglog=False)#, **kwargs)\n",
    "plt.show()"
   ]
  },
  {
   "cell_type": "code",
   "execution_count": null,
   "id": "ac50736c",
   "metadata": {
    "ExecuteTime": {
     "end_time": "2021-10-07T02:36:55.877940Z",
     "start_time": "2021-10-07T02:36:55.877930Z"
    },
    "hidden": true
   },
   "outputs": [],
   "source": [
    "#extract the xy values for observations in range if they are the final observation for a given pair\n",
    "max_times=dfr.reset_index().groupby([trial_col,'pid_self','pid_other'])[t_col].max().reset_index().values\n",
    "last_obs=dfr.reset_index().set_index([trial_col,'pid_self','pid_other',t_col]).loc[max_times.get().T]\n",
    "x_values,y_values=last_obs[['one_over_R','dRdt']].values.T\n",
    "last_range=last_obs['R'].values.T\n",
    "last_dRdt=y_values"
   ]
  },
  {
   "cell_type": "code",
   "execution_count": null,
   "id": "3df21a6c",
   "metadata": {
    "ExecuteTime": {
     "end_time": "2021-10-07T02:36:55.878581Z",
     "start_time": "2021-10-07T02:36:55.878571Z"
    },
    "hidden": true
   },
   "outputs": [],
   "source": [
    "#put the mean dRdt value into the dataframe summarizing the final state of the pair\n",
    "last_obs.sort_index(inplace=True)\n",
    "last_obs['mean_dRdt']=mean_dRdt.sort_index().values\n",
    "# last_obs"
   ]
  },
  {
   "cell_type": "code",
   "execution_count": null,
   "id": "7257d31c",
   "metadata": {
    "ExecuteTime": {
     "end_time": "2021-10-07T02:36:55.879187Z",
     "start_time": "2021-10-07T02:36:55.879174Z"
    },
    "hidden": true
   },
   "outputs": [],
   "source": [
    "#TODO: plot meandRdt versus final R\n",
    "plt.scatter(last_obs['R'].values.get(),last_obs['mean_dRdt'].values.get(),alpha=0.1)\n",
    "format_plot(ax=plt.gca(), xlabel='final R (cm)', ylabel='mean dR/dt (cm/s)', fontsize=20, use_loglog=False)#, **kwargs)\n",
    "plt.show()"
   ]
  },
  {
   "cell_type": "code",
   "execution_count": null,
   "id": "c0321308",
   "metadata": {
    "ExecuteTime": {
     "end_time": "2021-10-07T02:36:55.879942Z",
     "start_time": "2021-10-07T02:36:55.879932Z"
    },
    "hidden": true
   },
   "outputs": [],
   "source": [
    "#TODO: plot meandRdt versus final R\n",
    "plt.scatter(last_obs['dRdt'].values.get(),last_obs['mean_dRdt'].values.get(),alpha=0.1)\n",
    "format_plot(ax=plt.gca(), xlabel='final dRdt (cm/s)', ylabel='mean dR/dt (cm/s)', fontsize=20, use_loglog=False)#, **kwargs)\n",
    "plt.show()"
   ]
  },
  {
   "cell_type": "code",
   "execution_count": null,
   "id": "e28650cd",
   "metadata": {
    "ExecuteTime": {
     "end_time": "2021-10-07T02:36:55.880615Z",
     "start_time": "2021-10-07T02:36:55.880605Z"
    },
    "hidden": true
   },
   "outputs": [],
   "source": [
    "# bin_and_bootstrap_xy_values"
   ]
  },
  {
   "cell_type": "code",
   "execution_count": null,
   "id": "e532aefa",
   "metadata": {
    "ExecuteTime": {
     "end_time": "2021-10-07T02:36:55.881365Z",
     "start_time": "2021-10-07T02:36:55.881353Z"
    },
    "hidden": true
   },
   "outputs": [],
   "source": [
    "plt.hist(y_values.get(),bins=50)\n",
    "plt.xlim([-200,200])\n",
    "plt.show()"
   ]
  },
  {
   "cell_type": "code",
   "execution_count": null,
   "id": "abf00db3",
   "metadata": {
    "ExecuteTime": {
     "end_time": "2021-10-07T02:36:55.882002Z",
     "start_time": "2021-10-07T02:36:55.881992Z"
    },
    "hidden": true
   },
   "outputs": [],
   "source": [
    "# bin_and_bootstrap_xy_values_parallel"
   ]
  },
  {
   "cell_type": "code",
   "execution_count": null,
   "id": "8d8911e1",
   "metadata": {
    "ExecuteTime": {
     "end_time": "2021-10-07T02:36:55.883164Z",
     "start_time": "2021-10-07T02:36:55.883153Z"
    },
    "hidden": true
   },
   "outputs": [],
   "source": [
    "# #limit 1/R values to be within range\n",
    "# # x_values,y_values=dfr.sort_values(by='t')[['one_over_R','dRdt']].values.T\n",
    "# print(f\"(x_values<0).any()={(x_values<0).any()}\")\n",
    "# boo=x_values>1/maximum_range_threshold\n",
    "# boo&=x_values<1/minimum_range_threshold\n",
    "# sum(boo.get())"
   ]
  },
  {
   "cell_type": "markdown",
   "id": "8143276a",
   "metadata": {},
   "source": [
    "# DONE: illustrate reaction range"
   ]
  },
  {
   "cell_type": "code",
   "execution_count": null,
   "id": "de8a6aad",
   "metadata": {
    "ExecuteTime": {
     "end_time": "2021-10-07T02:36:55.883984Z",
     "start_time": "2021-10-07T02:36:55.883974Z"
    }
   },
   "outputs": [],
   "source": [
    "#TODO: compute the bootstrapped mean dRdt (y_values) binning by one_over_R (x_values)\n",
    "#TODO: bootstrap dRdt versus R for one input_fn\n",
    "#TODO: compute a for one input_fn"
   ]
  },
  {
   "cell_type": "code",
   "execution_count": null,
   "id": "4fcbc301",
   "metadata": {
    "ExecuteTime": {
     "end_time": "2021-10-07T02:36:55.884775Z",
     "start_time": "2021-10-07T02:36:55.884751Z"
    }
   },
   "outputs": [],
   "source": [
    "#TODO: extract xy data for pairs that attract on average\n",
    "# last_obs['mean_dRdt']=mean_dRdt.sort_index().values\n",
    "attracting_pairs=mean_dRdt.reset_index()[(mean_dRdt<0).values][[trial_col,'pid_self','pid_other']]\n",
    "repelling_pairs=mean_dRdt.reset_index()[(mean_dRdt>=0).values][[trial_col,'pid_self','pid_other']]\n",
    "dfr_attracting=dfr.reset_index().set_index([trial_col,'pid_self','pid_other']).loc[attracting_pairs.values.get().T]\n",
    "dfr_repelling=dfr.reset_index().set_index([trial_col,'pid_self','pid_other']).loc[repelling_pairs.values.get().T]\n",
    "dfr_attracting.head()"
   ]
  },
  {
   "cell_type": "code",
   "execution_count": null,
   "id": "f5416025",
   "metadata": {
    "ExecuteTime": {
     "end_time": "2021-10-07T02:36:55.885623Z",
     "start_time": "2021-10-07T02:36:55.885607Z"
    }
   },
   "outputs": [],
   "source": [
    "# #yields a=0\n",
    "# #extract the xy values for all observations in range\n",
    "# x_values,y_values=dfr.sort_values(by='t')[['one_over_R','dRdt']].values.T\n",
    "#yields a=10?\n",
    "#extract the xy values for all attracting pairs in range\n",
    "x_values,y_values=dfr_attracting[['one_over_R','dRdt']].values.T\n",
    "# x_values,y_values=dfr_repelling[['one_over_R','dRdt']].values.T\n",
    "print(f\"(x_values<0).any()={(x_values<0).any()}\")\n",
    "boo=x_values>1/maximum_range_threshold\n",
    "boo&=x_values<1/minimum_range_threshold"
   ]
  },
  {
   "cell_type": "code",
   "execution_count": null,
   "id": "f756b088",
   "metadata": {
    "ExecuteTime": {
     "end_time": "2021-10-07T02:36:55.886513Z",
     "start_time": "2021-10-07T02:36:55.886502Z"
    }
   },
   "outputs": [],
   "source": [
    "#compute the bootstrapped mean dRdt (y_values) binning by one_over_R (x_values)\n",
    "bins=60#'auto'\n",
    "# df_out=bin_and_bootstrap_xy_values_parallel(x=x_values[boo],\n",
    "df_out=bin_and_bootstrap_xy_values(x=x_values[boo].get(),#[:7],\n",
    "                               y=y_values[boo].get(),#[:7],\n",
    "                               xlabel='one_over_R',\n",
    "                               ylabel='dRdt',\n",
    "                               bins=bins,\n",
    "                               min_numobs=None,\n",
    "                               num_bootstrap_samples=100,\n",
    "                               npartitions=os.cpu_count(),#full cylinders\n",
    "                               use_test=False,\n",
    "                               test_val=0,printing=False)#,**kwargs)\n",
    "#note: it did not parallelize over os.cpu_count()==12\n",
    "#run time: 1 minute per trial\n",
    "# df_out.head()\n",
    "df_out.head()"
   ]
  },
  {
   "cell_type": "code",
   "execution_count": null,
   "id": "b91a9936",
   "metadata": {
    "ExecuteTime": {
     "end_time": "2021-10-07T02:36:55.887344Z",
     "start_time": "2021-10-07T02:36:55.887332Z"
    }
   },
   "outputs": [],
   "source": [
    "y_err_values=df_out['Delta_dRdt'].values\n",
    "x_values=df_out['one_over_R'].values\n",
    "y_values=df_out['dRdt'].values\n",
    "\n",
    "#fit drdt_values to F0+F1/r with OLS fit for LR model where 1/r is greater than some 1/cm\\n\",\n",
    "rmin=0.1\n",
    "rmax=1.\n",
    "boo=(1/x_values>rmin)&(1/x_values<rmax)\n",
    "x=x_values[boo]\n",
    "y=y_values[boo]\n",
    "dict_force_fit=compute_95CI_ols(x,y)\n",
    "y_hat_values=dict_force_fit['b']+dict_force_fit['m']*x_values\n",
    "print_dict(dict_force_fit)"
   ]
  },
  {
   "cell_type": "code",
   "execution_count": null,
   "id": "800409d7",
   "metadata": {
    "ExecuteTime": {
     "end_time": "2021-10-07T02:36:55.888345Z",
     "start_time": "2021-10-07T02:36:55.888316Z"
    }
   },
   "outputs": [],
   "source": [
    "#plot mean radial velocities\n",
    "fig, axs = plt.subplots(ncols=2, figsize=(9, 4))\n",
    "y_hat_values=y_values\n",
    "PlotMeanRadialVelocities(axs, 1/x_values, y_values, y_err_values, y_hat_values,c=c,alpha=0.4)\n",
    "# PlotMeanRadialVelocities(axs, x_values2, y_values2, y_err_values2, y_hat_values2,c='C4')\n",
    "axs[0].set_title(f'tavg1={tavg1:.1f} ms, tavg2={tavg2:.1f} ms\\n')\n",
    "axs[1].set_title(f'rmin={rmin:.1f} cm, rmax={rmax:.1f} cm, bins={bins}\\n')\n",
    "axs[0].set_xlim([0,1])\n",
    "# axs[0].set_ylim([-100,10])\n",
    "# axs[1].set_ylim([-100,10])\n",
    "# plt.\n",
    "plt.tight_layout()\n",
    "print_dict(dict_force_fit)\n",
    "plt.show()"
   ]
  },
  {
   "cell_type": "code",
   "execution_count": null,
   "id": "d3023fc4",
   "metadata": {},
   "outputs": [],
   "source": []
  },
  {
   "cell_type": "markdown",
   "id": "0d4cdd6b",
   "metadata": {},
   "source": [
    "__Results:__\n",
    "- the apparent attraction coefficient, a, is not significantly different from zero when measuring with tavg1=4 and tavg2=24.5 ms...\n",
    "- TODO: what if a is measured with a smaller tavg2?  Perhaps those high frequency random fluxtuations account for significant values for a.\n",
    "- TODO: what if i use 30 bins?\n",
    "- TODO: what if i use a tavg3 moving average for each pair\n",
    "- TODO: what if i select only the last n seconds of each pair's record? \n",
    "    - ^this is equivalent to conditioning the random process to an average apparent behavior that favors an annihilation event occuring.\n",
    "\n",
    "$$\n",
    "?a=?\\mathbb{E}_i [ R_t| \\text{annihilation occuring within some time interval}]?\n",
    "$$"
   ]
  },
  {
   "cell_type": "code",
   "execution_count": null,
   "id": "efd0fe71",
   "metadata": {},
   "outputs": [],
   "source": []
  },
  {
   "cell_type": "code",
   "execution_count": null,
   "id": "afdde4c9",
   "metadata": {
    "ExecuteTime": {
     "end_time": "2021-10-07T02:36:55.889433Z",
     "start_time": "2021-10-07T02:36:55.889417Z"
    }
   },
   "outputs": [],
   "source": [
    "#save dfr\n",
    "ext=f'_tavg2_{tavg2}.csv'\n",
    "save_fn='__'.join(input_fn.split('/')[-3:-1])+ext\n",
    "\n",
    "#save df_pairs data from input_fn in dfr\n",
    "save_folder=os.path.dirname(os.path.dirname(input_fn))+f'/pairs_tavg1_{tavg1}_tavg2_{tavg2}'\n",
    "if not os.path.exists(save_folder):\n",
    "    os.mkdir(save_folder)\n",
    "os.chdir(save_folder)\n",
    "df_pairs.reset_index().to_csv(save_fn)\n",
    "save_dir=os.path.join(save_folder,save_fn)\n",
    "pairs_dir=save_dir\n",
    "\n",
    "#save dfr data from input_fn in dfr\n",
    "save_folder=os.path.dirname(os.path.dirname(input_fn))+f'/smoothed_trajectory_pairs_tavg1_{tavg1}_tavg2_{tavg2}'\n",
    "if not os.path.exists(save_folder):\n",
    "    os.mkdir(save_folder)\n",
    "os.chdir(save_folder)\n",
    "dfr.reset_index().to_csv(save_fn)\n",
    "save_dir=os.path.join(save_folder,save_fn)\n",
    "dfr_dir=save_dir"
   ]
  },
  {
   "cell_type": "code",
   "execution_count": null,
   "id": "9445a480",
   "metadata": {
    "ExecuteTime": {
     "end_time": "2021-10-06T22:17:24.098223Z",
     "start_time": "2021-10-06T22:17:24.057395Z"
    }
   },
   "outputs": [],
   "source": []
  },
  {
   "cell_type": "code",
   "execution_count": null,
   "id": "a0cb30e2",
   "metadata": {
    "ExecuteTime": {
     "end_time": "2021-10-07T02:36:55.890667Z",
     "start_time": "2021-10-07T02:36:55.890653Z"
    }
   },
   "outputs": [],
   "source": [
    "# save_dir='/home/timothytyree/Documents/GitHub/care/notebooks/Data/initial-conditions-suite-3-LR/param_qu_tmax_30_Ko_5.4_diffCoef_0.0005_dt_0.5/smoothed_trajectory_pairs_tavg1_4_tavg2_24.5/param_qu_tmax_30_Ko_5.4_diffCoef_0.0005_dt_0.5__smoothed_trajectories_navg_8_tavg2_24.5.csv'"
   ]
  },
  {
   "cell_type": "code",
   "execution_count": null,
   "id": "8196475b",
   "metadata": {
    "ExecuteTime": {
     "end_time": "2021-10-07T02:36:55.891654Z",
     "start_time": "2021-10-07T02:36:55.891643Z"
    }
   },
   "outputs": [],
   "source": [
    "#DONE: test cudf bootstrapping\n",
    "# mean_values=cp.zeros(num_samples)\n",
    "# sizex=x.shape[0]\n",
    "# randint_values_array=cp.random.randint(low=0, high=sizex, size=sizex*num_samples, dtype=int)\n",
    "# bootstrap_indices=randint_values_array.reshape((sizex,num_samples))\n",
    "# mean_values=cp.mean(x[bootstrap_indices][...,0],axis=1)"
   ]
  },
  {
   "cell_type": "code",
   "execution_count": null,
   "id": "45d524fe",
   "metadata": {
    "ExecuteTime": {
     "end_time": "2021-10-04T01:34:53.032930Z",
     "start_time": "2021-10-04T01:34:53.010715Z"
    }
   },
   "outputs": [],
   "source": []
  },
  {
   "cell_type": "code",
   "execution_count": null,
   "id": "3859307b",
   "metadata": {
    "ExecuteTime": {
     "end_time": "2021-10-07T02:36:55.892627Z",
     "start_time": "2021-10-07T02:36:55.892616Z"
    }
   },
   "outputs": [],
   "source": [
    "# from inspect import getsource\n",
    "# print (getsource (scipy.stats.stats.normaltest))"
   ]
  },
  {
   "cell_type": "code",
   "execution_count": null,
   "id": "4aa8775b",
   "metadata": {
    "ExecuteTime": {
     "end_time": "2021-10-07T02:36:55.893367Z",
     "start_time": "2021-10-07T02:36:55.893357Z"
    }
   },
   "outputs": [],
   "source": [
    "# #TODO: save nice a results as csv\n",
    "# save_fn=f\"attraction_coefficient_trial_name.csv\""
   ]
  },
  {
   "cell_type": "code",
   "execution_count": null,
   "id": "49affc21",
   "metadata": {
    "ExecuteTime": {
     "end_time": "2021-10-07T02:36:55.894145Z",
     "start_time": "2021-10-07T02:36:55.894134Z"
    }
   },
   "outputs": [],
   "source": [
    "#TODO: select the attracting pairs\n",
    "#TODO: plot dRdt versus one_over_R for the last 50 ms of their lifetimes\n",
    "#TODO: measure a for each pair\n",
    "\n",
    "#TODO: perform a moving average of duration tavg3\n",
    "#TODO: measure a for each pair versus tavg3"
   ]
  },
  {
   "cell_type": "code",
   "execution_count": null,
   "id": "7a22441b",
   "metadata": {
    "ExecuteTime": {
     "end_time": "2021-10-07T02:36:55.894936Z",
     "start_time": "2021-10-07T02:36:55.894925Z"
    }
   },
   "outputs": [],
   "source": [
    "# R_values=dfr_repelling['R'].values\n",
    "# boo=R_values<0.3 #cm\n",
    "# x_values=R_values[boo].get()\n",
    "# y_values=dfr_repelling['dRdt'].values[boo].get()"
   ]
  },
  {
   "cell_type": "code",
   "execution_count": null,
   "id": "a767ac9b",
   "metadata": {
    "ExecuteTime": {
     "end_time": "2021-10-07T02:36:55.895688Z",
     "start_time": "2021-10-07T02:36:55.895676Z"
    }
   },
   "outputs": [],
   "source": [
    "R_values=dfr_attracting['R'].values\n",
    "boo=R_values<0.3 #cm\n",
    "x_values=R_values[boo].get()\n",
    "y_values=dfr_attracting['dRdt'].values[boo].get()"
   ]
  },
  {
   "cell_type": "code",
   "execution_count": null,
   "id": "0e590fbb",
   "metadata": {
    "ExecuteTime": {
     "end_time": "2021-10-07T02:36:55.896266Z",
     "start_time": "2021-10-07T02:36:55.896255Z"
    },
    "scrolled": true
   },
   "outputs": [],
   "source": [
    "plt.scatter(x_values,y_values,alpha=0.3)\n",
    "xval=np.linspace(0.01,0.3,100)\n",
    "plt.plot(xval,-9.5/xval,label='suggested by particle model')\n",
    "# plt.xlim([0,0.3])\n",
    "# plt.ylim([-300,100])\n",
    "format_plot(ax=plt.gca(), xlabel='R (cm)', ylabel='dR/dt (cm/s)', fontsize=20, use_loglog=False)\n",
    "plt.legend()\n",
    "plt.show()"
   ]
  },
  {
   "cell_type": "markdown",
   "id": "26dad8e0",
   "metadata": {},
   "source": [
    "# DONE: estimating a by conditioning on annihilation occuring\n",
    "- method 1 slope of dR/dt versus 1/R divided by two\n",
    "- method 2 slope of R^2 versus tf-t divided by four\n"
   ]
  },
  {
   "cell_type": "code",
   "execution_count": null,
   "id": "e81452d9",
   "metadata": {
    "ExecuteTime": {
     "end_time": "2021-10-07T02:36:55.897191Z",
     "start_time": "2021-10-07T02:36:55.897179Z"
    }
   },
   "outputs": [],
   "source": [
    "def identify_dfr_annihilating(dfr,df_pairs,max_death_range_threshold=0.5,max_duration_to_consider=10,trial_col='event_id_int', testing=True, printing=True):\n",
    "    # max_death_range_threshold=0.5#0.1#0.5#1.#0.1#.5#0.25 #cm\n",
    "    # max_duration_to_consider=10#ms\n",
    "    event_col_lst=[trial_col,'pid_self','pid_other']\n",
    "    #extract the xy values for observations in range if they are the final observation for a given pair\n",
    "    grouped=dfr.reset_index().groupby(event_col_lst)\n",
    "    max_times=grouped[t_col].max().reset_index().values\n",
    "    last_obs=dfr.reset_index().set_index([trial_col,'pid_self','pid_other',t_col]).loc[max_times.get().T]\n",
    "    last_range=last_obs['R'].values.T\n",
    "    last_dRdt=last_obs['dRdt'].values.T\n",
    "\n",
    "    last_obs['tf']=last_obs.index.values[:,-1]\n",
    "    last_times=last_obs.reset_index().set_index(event_col_lst)['tf']\n",
    "\n",
    "    df_pairs=df_pairs.reset_index().set_index(event_col_lst)\n",
    "    df_pairs['tf']=last_times\n",
    "\n",
    "    #compute tmax for every row in dfr\n",
    "    dfr=dfr.reset_index().sort_values(event_col_lst).set_index(event_col_lst)\n",
    "    index_values=dfr.index.values.get().T\n",
    "    # df_pairs.set_index(event_col_lst).loc[index_values.T,'tmax']\n",
    "    # tmax_values=df_pairs.sort_values(event_col_lst).set_index(event_col_lst).loc[index_values,'tmax'].values\n",
    "    tmax_values,num_rows_values=df_pairs.reset_index().sort_values(event_col_lst).set_index(event_col_lst)[['tf','num_rows']].values.T\n",
    "    tf_values=cp.repeat(tmax_values.get(),num_rows_values.get().astype(int))\n",
    "    dfr['tdeath']=cp.around(tf_values-dfr[t_col],5)\n",
    "\n",
    "    if testing:\n",
    "        #test that tdeath takes a minimum value of zero for every pair\n",
    "        assert ( not (dfr['tdeath']<0).any() )\n",
    "        #note: tdeath=0 is not present here...  the smallest value id tdeath = DT... this doesn't matter\n",
    "\n",
    "    #TODO(later): test all pairs have the same minimum value for tdeath\n",
    "    last_observed_tdeath=dfr.reset_index().groupby(event_col_lst)['tdeath'].min().values\n",
    "    percent_that_die_at_DT=float(100*sum(cp.isclose(last_observed_tdeath,0))/last_observed_tdeath.shape[0])\n",
    "    if printing:\n",
    "        print(f'the percent of pairs with a minimum value of tdeath equal to zero is {percent_that_die_at_DT:.1f}%')\n",
    "\n",
    "    df_last=last_obs.reset_index().set_index(event_col_lst)\n",
    "    close_death_index_values=df_last[df_last['R']<max_death_range_threshold].index.values.get().T\n",
    "\n",
    "    #DONE: for each pair compute tdeath\n",
    "    #DONE: select pairs that end closer than max_death_range_threshold=0.1 #cm\n",
    "    # boo=last_range<max_death_range_threshold\n",
    "    # close_death_index_values=max_times[boo,:3].get().T\n",
    "    dfr_annihilating=dfr.reset_index().set_index(event_col_lst).loc[close_death_index_values]\n",
    "    return dfr_annihilating"
   ]
  },
  {
   "cell_type": "code",
   "execution_count": null,
   "id": "a68bfdea",
   "metadata": {
    "ExecuteTime": {
     "end_time": "2021-10-06T20:04:57.707348Z",
     "start_time": "2021-10-06T20:04:57.643189Z"
    }
   },
   "outputs": [],
   "source": []
  },
  {
   "cell_type": "code",
   "execution_count": null,
   "id": "fed3936f",
   "metadata": {
    "ExecuteTime": {
     "end_time": "2021-10-07T02:36:55.897724Z",
     "start_time": "2021-10-07T02:36:55.897713Z"
    }
   },
   "outputs": [],
   "source": [
    "# # #load cached data \n",
    "# # #token LR\n",
    "# # dfr_dir='/home/timothytyree/Documents/GitHub/care/notebooks/Data/initial-conditions-suite-3-LR/param_qu_tmax_30_Ko_5.4_diffCoef_0.0005_dt_0.5/smoothed_trajectory_pairs_tavg1_4_tavg2_24.5/param_qu_tmax_30_Ko_5.4_diffCoef_0.0005_dt_0.5__smoothed_trajectories_navg_8_tavg2_24.5.csv'\n",
    "# # #token FK\n",
    "# dfr_dir='/home/timothytyree/Documents/GitHub/care/notebooks/Data/initial-conditions-fk-200x200/param_set_8_ds_5.0_tmax_10_diffCoef_0.0005/smoothed_trajectory_pairs_tavg1_4_tavg2_24.4/param_set_8_ds_5.0_tmax_10_diffCoef_0.0005__smoothed_trajectories_tavg_4_tavg2_24.4.csv'\n",
    "# pairs_dir='/home/timothytyree/Documents/GitHub/care/notebooks/Data/initial-conditions-fk-200x200/param_set_8_ds_5.0_tmax_10_diffCoef_0.0005/pairs_tavg1_4_tavg2_24.4/param_set_8_ds_5.0_tmax_10_diffCoef_0.0005__smoothed_trajectories_tavg_4_tavg2_24.4.csv'\n",
    "# df_pairs=cudf.read_csv(pairs_dir)\n",
    "# dfr=cudf.read_csv(dfr_dir)"
   ]
  },
  {
   "cell_type": "code",
   "execution_count": null,
   "id": "cefbbf5d",
   "metadata": {
    "ExecuteTime": {
     "end_time": "2021-10-07T02:36:55.898585Z",
     "start_time": "2021-10-07T02:36:55.898574Z"
    }
   },
   "outputs": [],
   "source": [
    "#method 1: slope of dR/dt versus 1/R divided by two\n",
    "bins = 60  #'auto'\n",
    "num_bootstrap_samples = 100\n",
    "max_death_range_threshold=.1 #cm\n",
    "max_duration_to_consider=100\n",
    "\n",
    "dfr_annihilating = identify_dfr_annihilating(dfr,\n",
    "                                             df_pairs,\n",
    "                                             max_death_range_threshold=max_death_range_threshold,\n",
    "                                             max_duration_to_consider=max_duration_to_consider)\n",
    "\n",
    "#try bootstrapping with x as tdeath and y as R\n",
    "x_values = dfr_annihilating['tdeath'].values\n",
    "y_values = dfr_annihilating['R'].values\n",
    "boo = x_values < max_duration_to_consider\n",
    "# dfr_annihilating.groupby('tdeath').mean().reset_index().sort_values(by='tdeath')\n",
    "print(f\"the number of particles under consideration is {sum(boo)}\")\n",
    "\n",
    "#compute the bootstrapped mean dRdt (y_values) binning by one_over_R (x_values)\n",
    "\n",
    "# df_out=bin_and_bootstrap_xy_values_parallel(x=x_values[boo],\n",
    "df_out = bin_and_bootstrap_xy_values(\n",
    "    x=x_values[boo].get(),  #[:7],\n",
    "    y=y_values[boo].get(),  #[:7],\n",
    "    xlabel='tdeath',\n",
    "    ylabel='R',\n",
    "    bins=bins,\n",
    "    min_numobs=None,\n",
    "    num_bootstrap_samples=num_bootstrap_samples,\n",
    "    npartitions=os.cpu_count(),  #full cylinders\n",
    "    use_test=False,\n",
    "    test_val=0,\n",
    "    printing=False)  #,**kwargs)\n",
    "#note: it did not parallelize over os.cpu_count()==12\n",
    "#run time: 1 minute per trial\n",
    "# df_out.head()\n",
    "\n",
    "x_values = df_out['tdeath'].values  #.get()\n",
    "y_values = df_out['R'].values  #.get()\n",
    "# plt.plot(x_values,y_values)\n",
    "# plt.show()\n",
    "\n",
    "dRdt_values = -np.diff(y_values) / DT * 1000  #cm/s\n",
    "one_over_R_values = 2 / (y_values[1:] + y_values[:-1])\n",
    "# plt.plot(y_values[1:],dRdt_values)\n",
    "# plt.plot(one_over_R_values,dRdt_values)\n",
    "# plt.show()\n",
    "\n",
    "delta_range_values = df_out['Delta_R'].values\n",
    "x_err_values = np.sqrt((delta_range_values[1:])**2 +\n",
    "                       (delta_range_values[:-1])**2) / (y_values[1:] +\n",
    "                                                        y_values[:-1])**2\n",
    "\n",
    "# y_err_values=np.sqrt((delta_range_values[1:])**2+(delta_range_values[:-1])**2)/DT*1000\n",
    "frac_uncert_y_err_values = np.sqrt(\n",
    "    (delta_range_values[1:])**2 + (delta_range_values[:-1])**2\n",
    ") * one_over_R_values / 2  #percent_uncert_in_each_y_value/100\n",
    "y_err_values = frac_uncert_y_err_values * dRdt_values\n",
    "\n",
    "x_values = one_over_R_values\n",
    "y_values = dRdt_values\n",
    "\n",
    "boo = x_values > 1 / max_death_range_threshold\n",
    "x = x_values[boo]  #1/cm\n",
    "y = y_values[boo]  #cm/s\n",
    "\n",
    "dict_force_fit = compute_95CI_ols(x, y)\n",
    "y_hat_values = dict_force_fit['b'] + dict_force_fit['m'] * x_values\n",
    "a_apparent_one_over_R = dict_force_fit['m'] / 2\n",
    "Delta_a_apparent_one_over_R = dict_force_fit['Delta_m'] / 2\n",
    "Rsq_a_apparent_one_over_R = dict_force_fit['Delta_m']\n",
    "print_dict(dict_force_fit)"
   ]
  },
  {
   "cell_type": "code",
   "execution_count": null,
   "id": "9d9ebfbc",
   "metadata": {
    "ExecuteTime": {
     "end_time": "2021-10-07T02:36:55.899107Z",
     "start_time": "2021-10-07T02:36:55.899097Z"
    }
   },
   "outputs": [],
   "source": [
    "#plot mean radial velocities\n",
    "fig, axs = plt.subplots(ncols=2, figsize=(9, 4))\n",
    "PlotMeanRadialVelocities(axs, 1/x_values, y_values, y_err_values, y_hat_values,c=c,alpha=0.5)\n",
    "# PlotMeanRadialVelocities(axs, x_values2, y_values2, y_err_values2, y_hat_values2,c='C4')\n",
    "axs[0].set_title(f'tavg1={tavg1:.1f} ms, tavg2={tavg2:.1f} ms\\n')\n",
    "axs[1].set_title(f'rmin={rmin:.1f} cm, rmax={rmax:.1f} cm, bins={bins}\\n')\n",
    "axs[0].set_xlim([0,1])\n",
    "\n",
    "x=np.linspace(0.1,4,100)\n",
    "axs[1].plot(x,-x*1.9*2,'C0--')\n",
    "axs[1].plot(x,-x*9.5*2,'C1--')\n",
    "axs[1].plot(x,-x*5*2,'C3--')\n",
    "\n",
    "# axs[0].set_ylim([-100,10])\n",
    "# axs[1].set_ylim([-100,10])\n",
    "# plt.\n",
    "plt.tight_layout()\n",
    "print(f\"a={a_apparent_one_over_R:.4f}+-{Delta_a_apparent_one_over_R:.4f} cm^2/s. (R^2={Rsq_a_apparent_one_over_R:.4f})\")\n",
    "plt.show()"
   ]
  },
  {
   "cell_type": "code",
   "execution_count": null,
   "id": "33f6f6aa",
   "metadata": {
    "ExecuteTime": {
     "end_time": "2021-10-07T02:36:55.899941Z",
     "start_time": "2021-10-07T02:36:55.899930Z"
    }
   },
   "outputs": [],
   "source": [
    "#compute the bootstrapped mean dRdt (y_values) binning by one_over_R (x_values)\n",
    "bins=60#'auto'\n",
    "num_bootstrap_samples=100\n",
    "max_time_before_death_to_consider=0.05 #sec\n",
    "use_tavg3=False\n",
    "tavg3=1 #ms\n",
    "\n",
    "#method 1: slope of dR/dt versus 1/R divided by two\n",
    "bins = 60  #'auto'\n",
    "num_bootstrap_samples = 100\n",
    "max_death_range_threshold=.01 #cm\n",
    "max_duration_to_consider=100\n",
    "\n",
    "dfr_annihilating = identify_dfr_annihilating(dfr,\n",
    "                                             df_pairs,\n",
    "                                             max_death_range_threshold=max_death_range_threshold,\n",
    "                                             max_duration_to_consider=max_duration_to_consider)\n",
    "\n",
    "\n",
    "dfr_annihilating['SR']=dfr_annihilating['R']**2\n",
    "y_values=dfr_annihilating['SR'].values.get()\n",
    "x_values=dfr_annihilating['tdeath'].values.get()\n",
    "\n",
    "# #yields repulsion on average when not conditioning on annihilation occuring\n",
    "# dfr['SR']=dfr['R']**2\n",
    "# y_values=dfr['SR'].values.get()\n",
    "# x_values=dfr['tdeath'].values.get()\n",
    "\n",
    "df_out=bin_and_bootstrap_xy_values(x=x_values,\n",
    "                               y=y_values,\n",
    "                               xlabel='tdeath',\n",
    "                               ylabel='SR',\n",
    "                               bins=bins,\n",
    "                               min_numobs=None,\n",
    "                               num_bootstrap_samples=num_bootstrap_samples,\n",
    "                               npartitions=os.cpu_count(),#full cylinders\n",
    "                               use_test=False,\n",
    "                               test_val=0,printing=False)#,**kwargs)\n",
    "#note: it did not parallelize over os.cpu_count()==12\n",
    "#run time: 1 minute per trial\n",
    "# df_out.head()\n",
    "\n",
    "x_values=df_out['tdeath'].values/1000 #s\n",
    "y_values=df_out['SR'].values #cm\n",
    "\n",
    "if use_tavg3:\n",
    "    navg3=int(tavg3/DT)\n",
    "    #perform moving average on y_values\n",
    "    x=moving_average(x_values,w=navg3)\n",
    "    y=moving_average(y_values,w=navg3)\n",
    "else:\n",
    "    x=x_values\n",
    "    y=y_values\n",
    "\n",
    "boo=x<max_time_before_death_to_consider\n",
    "#TOOD: compute aa for the average\n",
    "dict_force_fit=compute_95CI_ols(x[boo],y[boo])\n",
    "\n",
    "a_SR=dict_force_fit['m']/4\n",
    "Delta_a_SR=dict_force_fit['Delta_m']/4\n",
    "Rsq_a_SR=dict_force_fit['Rsquared']\n",
    "\n",
    "# y_hat_values=dict_force_fit['b']+dict_force_fit['m']/r_values\n",
    "# dict_force_fit_fk=dict_force_fit\n",
    "# y_hat_values_fk=y_hat_values.copy()\n",
    "# print_dict(dict_force_fit_fk)\n",
    "#TODO: repeat for LR model\n",
    "#TODO: compute aa for each particle\n",
    "#TODO: see if there exists a bimodal distribution"
   ]
  },
  {
   "cell_type": "code",
   "execution_count": null,
   "id": "04433ba5",
   "metadata": {
    "ExecuteTime": {
     "end_time": "2021-10-07T02:36:55.900808Z",
     "start_time": "2021-10-07T02:36:55.900797Z"
    },
    "run_control": {
     "marked": true
    }
   },
   "outputs": [],
   "source": [
    "a_SR=dict_force_fit['m']/4\n",
    "Delta_a_SR=dict_force_fit['Delta_m']/4\n",
    "Rsq_a_SR=dict_force_fit['Rsquared']\n",
    "\n",
    "\n",
    "plt.plot(x,y,c)\n",
    "plt.plot(x,x*1.9*4,'C0--')\n",
    "plt.plot(x,x*9.5*4,'C1--')\n",
    "plt.plot(x,x*5*4,'C3--')\n",
    "\n",
    "# print_dict(dict_force_fit)\n",
    "format_plot(ax=plt.gca(), xlabel=r'$t_f-t$ (seconds)', ylabel=r'$R^2$ $cm^2$', fontsize=fontsize, use_loglog=False)\n",
    "print(f\"a={a_SR:.4f}+-{Delta_a_SR:.4f} cm^2/s. (R^2={Rsq_a_SR:.4f})\")\n",
    "plt.title(f'tmax={max_time_before_death_to_consider:.3f} seconds')\n",
    "plt.show()"
   ]
  },
  {
   "cell_type": "code",
   "execution_count": null,
   "id": "119347f3",
   "metadata": {
    "ExecuteTime": {
     "end_time": "2021-10-07T02:36:55.901398Z",
     "start_time": "2021-10-07T02:36:55.901387Z"
    }
   },
   "outputs": [],
   "source": [
    "dfr_annihilating.index.drop_duplicates()#.values.shape"
   ]
  },
  {
   "cell_type": "markdown",
   "id": "3554ed50",
   "metadata": {},
   "source": [
    "# DONE: repeating without conditioning on annihilation"
   ]
  },
  {
   "cell_type": "code",
   "execution_count": null,
   "id": "d76f74c2",
   "metadata": {
    "ExecuteTime": {
     "end_time": "2021-10-07T02:36:55.902082Z",
     "start_time": "2021-10-07T02:36:55.902072Z"
    }
   },
   "outputs": [],
   "source": [
    "#repeat without conditioning on annihilating events but with alignment by annihilation occuring\n",
    "event_col_lst=[trial_col,'pid_self','pid_other']\n",
    "#extract the xy values for observations in range if they are the final observation for a given pair\n",
    "grouped=dfr.reset_index().groupby(event_col_lst)\n",
    "max_times=grouped[t_col].max().reset_index().values\n",
    "last_obs=dfr.reset_index().set_index([trial_col,'pid_self','pid_other',t_col]).loc[max_times.get().T]\n",
    "last_range=last_obs['R'].values.T\n",
    "last_dRdt=last_obs['dRdt'].values.T\n",
    "\n",
    "last_obs['tf']=last_obs.index.values[:,-1]\n",
    "last_times=last_obs.reset_index().set_index(event_col_lst)['tf']\n",
    "\n",
    "df_pairs=df_pairs.reset_index().set_index(event_col_lst)\n",
    "df_pairs['tf']=last_times\n",
    "\n",
    "#compute tmax for every row in dfr\n",
    "dfr=dfr.reset_index().sort_values(event_col_lst).set_index(event_col_lst)\n",
    "index_values=dfr.index.values.get().T\n",
    "# df_pairs.set_index(event_col_lst).loc[index_values.T,'tmax']\n",
    "# tmax_values=df_pairs.sort_values(event_col_lst).set_index(event_col_lst).loc[index_values,'tmax'].values\n",
    "tmax_values,num_rows_values=df_pairs.reset_index().sort_values(event_col_lst).set_index(event_col_lst)[['tf','num_rows']].values.T\n",
    "tf_values=cp.repeat(tmax_values.get(),num_rows_values.get().astype(int))\n",
    "dfr['tdeath']=cp.around(tf_values-dfr[t_col],5)\n",
    "\n",
    "#compute the bootstrapped mean dRdt (y_values) binning by one_over_R (x_values)\n",
    "bins='auto'#60#'auto'\n",
    "num_bootstrap_samples=100\n",
    "max_time_before_death_to_consider=1.#0.3 #sec\n",
    "use_tavg3=False\n",
    "tavg3=1 #ms\n",
    "\n",
    "# dfr_annihilating['SR']=dfr_annihilating['R']**2\n",
    "# y_values=dfr_annihilating['SR'].values.get()\n",
    "# x_values=dfr_annihilating['tdeath'].values.get()\n",
    "\n",
    "#yields repulsion on average when not conditioning on annihilation occuring\n",
    "dfr['SR']=dfr['R']**2\n",
    "y_values=dfr['SR'].values.get()\n",
    "x_values=dfr['tdeath'].values.get()\n",
    "\n",
    "df_out=bin_and_bootstrap_xy_values(x=x_values,\n",
    "                               y=y_values,\n",
    "                               xlabel='tdeath',\n",
    "                               ylabel='SR',\n",
    "                               bins=bins,\n",
    "                               min_numobs=None,\n",
    "                               num_bootstrap_samples=num_bootstrap_samples,\n",
    "                               npartitions=os.cpu_count(),#full cylinders\n",
    "                               use_test=False,\n",
    "                               test_val=0,printing=False)#,**kwargs)\n",
    "#note: it did not parallelize over os.cpu_count()==12\n",
    "#run time: 1 minute per trial\n",
    "# df_out.head()\n",
    "\n",
    "x_values=df_out['tdeath'].values/1000 #s\n",
    "y_values=df_out['SR'].values #cm\n",
    "\n",
    "if use_tavg3:\n",
    "    navg3=int(tavg3/DT)\n",
    "    #perform moving average on y_values\n",
    "    x=moving_average(x_values,w=navg3)\n",
    "    y=moving_average(y_values,w=navg3)\n",
    "else:\n",
    "    x=x_values\n",
    "    y=y_values\n",
    "\n",
    "boo=x<max_time_before_death_to_consider\n",
    "#TOOD: compute aa for the average\n",
    "dict_force_fit=compute_95CI_ols(x[boo],y[boo])\n",
    "\n",
    "a_SR=dict_force_fit['m']/4\n",
    "Delta_a_SR=dict_force_fit['Delta_m']/4\n",
    "Rsq_a_SR=dict_force_fit['Rsquared']\n",
    "\n",
    "# y_hat_values=dict_force_fit['b']+dict_force_fit['m']/r_values\n",
    "# dict_force_fit_fk=dict_force_fit\n",
    "# y_hat_values_fk=y_hat_values.copy()\n",
    "# print_dict(dict_force_fit_fk)\n",
    "#TODO: repeat for LR model\n",
    "#TODO: compute aa for each particle\n",
    "#TODO: see if there exists a bimodal distribution\n",
    "\n",
    "plt.plot(x,y,c)\n",
    "plt.plot(x,x*1.9*4,'C0--')\n",
    "plt.plot(x,x*9.5*4,'C1--')\n",
    "# print_dict(dict_force_fit)\n",
    "format_plot(ax=plt.gca(), xlabel=r'$t_f-t$ (seconds)', ylabel=r'$R^2$ $cm^2$', fontsize=fontsize, use_loglog=False)\n",
    "print(f\"a={a_SR:.4f}+-{Delta_a_SR:.4f} cm^2/s. (R^2={Rsq_a_SR:.4f})\")\n",
    "plt.title(f'tmax={max_time_before_death_to_consider:.3f} seconds')\n",
    "plt.show()"
   ]
  },
  {
   "cell_type": "code",
   "execution_count": null,
   "id": "eb38072f",
   "metadata": {
    "ExecuteTime": {
     "end_time": "2021-10-07T02:36:55.902897Z",
     "start_time": "2021-10-07T02:36:55.902885Z"
    }
   },
   "outputs": [],
   "source": [
    "x"
   ]
  },
  {
   "cell_type": "code",
   "execution_count": null,
   "id": "5a41e3e4",
   "metadata": {
    "ExecuteTime": {
     "end_time": "2021-10-07T02:36:55.903626Z",
     "start_time": "2021-10-07T02:36:55.903614Z"
    }
   },
   "outputs": [],
   "source": [
    "# #direct averaging of R after aligning by tdeath\n",
    "# #TODO: select annihilating tips\n",
    "# #TODO: groupby tdeath\n",
    "# #TODO: compute the mean \n",
    "# # list(cp.sort(dfm.index.values[:,-1]))\n",
    "\n",
    "# #TODO(optional): compute R using a moving time average by an amount tavg3\n",
    "# #TODO: group by tdeath\n",
    "# # grouped=dfr_annihilating.reset_index().groupby([trial_col,'pid_self','pid_other','tdeath'])\n",
    "# grouped=dfr_annihilating.reset_index().groupby('tdeath')\n",
    "# dfm=grouped.mean()\n",
    "# dfs=grouped.std()\n",
    "# #TODO: compute the mean R versus tdeath\n",
    "# #TODO: compute dR/dt versus 1/R\n",
    "# #TODO: perform OLS and printout a in cm^2/s\n",
    "# #TODO: plot OLS fit over dR/dt versus 1/R\n",
    "# #TODO: compare a to expected values\n",
    "# #TODO: test sensitivity of a to tavg3 and to selection of pairs\n",
    "# #TODO: test sensitivity of a  test max_death_range_threshold\n",
    "# #TODO: test sensitivity of a to selection of pairs\n",
    "\n",
    "# t_values=dfm.index.values\n",
    "# range_values=dfm['R'].values\n",
    "# # range_values\n",
    "\n",
    "# #extract the mean R versus t timeseries\n",
    "# t_values,range_values=dfm.reset_index().sort_values(by='tdeath')[['tdeath','R']].values.get().T"
   ]
  },
  {
   "cell_type": "code",
   "execution_count": null,
   "id": "a527605b",
   "metadata": {
    "ExecuteTime": {
     "end_time": "2021-10-07T02:36:55.904481Z",
     "start_time": "2021-10-07T02:36:55.904471Z"
    }
   },
   "outputs": [],
   "source": [
    "# #plot mean radial velocities\n",
    "# fig, axs = plt.subplots(ncols=2, figsize=(9, 4))\n",
    "# PlotMeanRadialVelocities(axs, 1/x_values, y_values, y_err_values, y_hat_values,c='C1',alpha=0.5)\n",
    "# # PlotMeanRadialVelocities(axs, x_values2, y_values2, y_err_values2, y_hat_values2,c='C4')\n",
    "# axs[0].set_title(f'tavg1={tavg1:.1f} ms, tavg2={tavg2:.1f} ms\\n')\n",
    "# axs[1].set_title(f'rmin={rmin:.1f} cm, rmax={rmax:.1f} cm, bins={bins}\\n')\n",
    "# axs[0].set_xlim([0,1])\n",
    "# # axs[0].set_ylim([-100,10])\n",
    "# # axs[1].set_ylim([-100,10])\n",
    "# # plt.\n",
    "# plt.tight_layout()\n",
    "# print_dict(dict_force_fit)\n",
    "# plt.show()"
   ]
  },
  {
   "cell_type": "code",
   "execution_count": null,
   "id": "2b5ba54d",
   "metadata": {
    "ExecuteTime": {
     "end_time": "2021-10-07T02:36:55.905010Z",
     "start_time": "2021-10-07T02:36:55.904999Z"
    }
   },
   "outputs": [],
   "source": [
    "# input_fn"
   ]
  },
  {
   "cell_type": "code",
   "execution_count": null,
   "id": "843d3b09",
   "metadata": {
    "ExecuteTime": {
     "end_time": "2021-10-07T02:36:55.905517Z",
     "start_time": "2021-10-07T02:36:55.905507Z"
    }
   },
   "outputs": [],
   "source": [
    "# a=1.9\n",
    "# t=t_values\n",
    "# R=range_values\n",
    "# plt.scatter(t,R,alpha=0.3)\n",
    "# plt.plot(t,np.sqrt(2*(2*a/1000)*t), label=f'a={a} cm^2/s')\n",
    "# format_plot(ax=plt.gca(), xlabel=r'$t$ (ms)', ylabel=r'$R$ (cm)', fontsize=fontsize, use_loglog=False)\n",
    "# plt.legend()\n",
    "# plt.show()"
   ]
  },
  {
   "cell_type": "code",
   "execution_count": null,
   "id": "884f0e9c",
   "metadata": {
    "ExecuteTime": {
     "end_time": "2021-10-07T02:36:55.906215Z",
     "start_time": "2021-10-07T02:36:55.906205Z"
    }
   },
   "outputs": [],
   "source": [
    "# plt.scatter(t,R**2,s=5,alpha=0.3)\n",
    "# plt.plot(t,a*t/1000+.5, label=f'a={a} cm^2/s')\n",
    "# format_plot(ax=plt.gca(), xlabel=r'$t$ (ms)', ylabel=r'$R^2$ (cm)', fontsize=fontsize, use_loglog=False)\n",
    "# plt.legend()\n",
    "# plt.show()"
   ]
  },
  {
   "cell_type": "code",
   "execution_count": null,
   "id": "167ba97d",
   "metadata": {
    "ExecuteTime": {
     "end_time": "2021-10-07T02:36:55.906889Z",
     "start_time": "2021-10-07T02:36:55.906878Z"
    }
   },
   "outputs": [],
   "source": [
    "\n",
    "\n",
    "# boo=t_values<200##200\n",
    "# x=t_values[boo]*1000 #s\n",
    "# y=range_values[boo]**2 #cm\n",
    "\n",
    "# dict_force_fit=compute_95CI_ols(x,y)\n",
    "# # y_hat_values=dict_force_fit['b']+dict_force_fit['m']/x\n",
    "# # dict_force_fit_fk=dict_force_fit\n",
    "# # y_hat_values_fk=y_hat_values.copy()\n",
    "# print_dict(dict_force_fit)\n",
    "\n",
    "# #zoom in on the annihilation event\n",
    "# t_values=dfm.index.values\n",
    "# range_values=dfm['R'].values\n",
    "# boo=t_values<40\n",
    "# t=t_values[boo]\n",
    "# r=range_values[boo]\n",
    "# sue=cp.argsort(t)\n",
    "# t_values=t[sue].get()\n",
    "# range_values=r[sue].get()\n",
    "# plt.plot(t_values,range_values)\n",
    "# plt.show()"
   ]
  },
  {
   "cell_type": "code",
   "execution_count": null,
   "id": "2d95c45f",
   "metadata": {
    "ExecuteTime": {
     "end_time": "2021-10-07T02:36:55.907420Z",
     "start_time": "2021-10-07T02:36:55.907410Z"
    }
   },
   "outputs": [],
   "source": [
    "# drdt_values=np.diff(range_values)/DT*1000\n",
    "# r_values=range_values[1:]/2+range_values[:-1]/2\n",
    "# x_values_fk=r_values.copy()\n",
    "# y_values_fk=drdt_values.copy()\n",
    "# # yerr_values_fk=dfs.theta.values\n",
    "\n",
    "# #fit drdt_values to F0+F1/r with OLS fit for FK model where 1/r is greater than 2 1/cm\n",
    "# rmax=0.5 #cm\n",
    "# boo=r_values<rmax\n",
    "# x=1/r_values[boo]\n",
    "# y=drdt_values[boo]\n",
    "# dict_force_fit=compute_95CI_ols(x,y)\n",
    "# y_hat_values=dict_force_fit['b']+dict_force_fit['m']/r_values\n",
    "# dict_force_fit_fk=dict_force_fit\n",
    "# y_hat_values_fk=y_hat_values.copy()\n",
    "# print_dict(dict_force_fit_fk)"
   ]
  },
  {
   "cell_type": "code",
   "execution_count": null,
   "id": "0ca587bb",
   "metadata": {
    "ExecuteTime": {
     "end_time": "2021-10-07T02:36:55.908387Z",
     "start_time": "2021-10-07T02:36:55.908376Z"
    }
   },
   "outputs": [],
   "source": [
    "# fontsize=18\n",
    "# alpha=0.1\n",
    "# x_label=r'$R$ (cm)'\n",
    "# y_label=r'$dR/dt$ (cm/s)'\n",
    "\n",
    "# fig,axs=plt.subplots(ncols=2,figsize=(7,3))#(5,4))\n",
    "# ax=axs[0]\n",
    "# ax.scatter(x_values_fk,-y_values_fk,c='C0',s=20,alpha=alpha)\n",
    "# # ax.scatter(x_values_lr,-y_values_lr,c='C1',s=20,alpha=alpha)\n",
    "\n",
    "# #plot fits\n",
    "# ax.plot(x_values_fk,-y_hat_values_fk,c='C0',lw=2,alpha=1)\n",
    "# # ax.plot(x_values_lr,-y_hat_values_lr,c='C1',lw=2,alpha=1)\n",
    "\n",
    "# # ax.set_xlim([0,1.2])\n",
    "# # ax.set_ylim([-0.5,.1])\n",
    "# ax.set_xlabel(x_label,fontsize=fontsize)\n",
    "# ax.set_ylabel(y_label,fontsize=fontsize)\n",
    "# # ax.set_xscale('log')\n",
    "# ax.tick_params(axis='both', which='major', labelsize=fontsize)\n",
    "# ax.tick_params(axis='both', which='minor', labelsize=1)\n",
    "\n",
    "# ax=axs[1]\n",
    "# ax.scatter(1/x_values_fk,-y_values_fk,c='C0',s=20,alpha=alpha)\n",
    "# # ax.scatter(1/x_values_lr,-y_values_lr,c='C1',s=20,alpha=alpha)\n",
    "\n",
    "# #plot fits\n",
    "# ax.plot(1/x_values_fk,-y_hat_values_fk,c='C0',lw=2,alpha=1)\n",
    "# # ax.plot(1/x_values_lr,-y_hat_values_lr,c='C1',lw=2,alpha=1)\n",
    "\n",
    "# # y_hat_values_fk\n",
    "# # y_hat_values_fk\n",
    "\n",
    "# # ax.set_xlim([.7,5])\n",
    "# # ax.set_ylim([-0.2,.1])\n",
    "# ax.set_xlabel(r'$1/R$ (cm$^{-1}$)',fontsize=fontsize)\n",
    "# ax.set_ylabel(y_label,fontsize=fontsize)\n",
    "\n",
    "# # ax.set_xscale('log')\n",
    "# ax.tick_params(axis='both', which='major', labelsize=fontsize)\n",
    "# ax.tick_params(axis='both', which='minor', labelsize=1)\n",
    "# #wrong bluf because aggregate\n",
    "# plt.tight_layout()\n",
    "# plt.show()"
   ]
  },
  {
   "cell_type": "code",
   "execution_count": null,
   "id": "b7c57c5a",
   "metadata": {
    "ExecuteTime": {
     "end_time": "2021-10-07T02:36:55.908957Z",
     "start_time": "2021-10-07T02:36:55.908947Z"
    }
   },
   "outputs": [],
   "source": [
    "# # a_fk=dict_force_fit_fk['m']/2\n",
    "# # print(f'the apparent attraction coefficient for the fenton-karma model is a={a_fk:.4f} cm^2/s.')\n",
    "\n",
    "# # percent_uncert_a= dict_force_fit_fk['Delta_m']/dict_force_fit_fk['m']*100\n",
    "\n",
    "# print(tavg1,tavg2, a_fk, percent_uncert_a)\n",
    "\n",
    "# #TODO: plot the mean squared radial velocity of particles versus \n",
    "# #  (i) time until end of observation\n",
    "# # (ii) time until annihilation"
   ]
  },
  {
   "cell_type": "code",
   "execution_count": null,
   "id": "4676ee89",
   "metadata": {
    "ExecuteTime": {
     "end_time": "2021-10-07T02:36:55.909667Z",
     "start_time": "2021-10-07T02:36:55.909656Z"
    }
   },
   "outputs": [],
   "source": [
    "# print(f\"a={a_SR:.4f}+-{Delta_a_SR:.4f} cm^2/s. (R^2={Rsq_a_SR:.4f})\")"
   ]
  },
  {
   "cell_type": "markdown",
   "id": "362a3979",
   "metadata": {},
   "source": [
    "__(surprisingly?) robust estimates of the attraction coefficient, a__  Is this a novel universality relation?"
   ]
  },
  {
   "cell_type": "code",
   "execution_count": null,
   "id": "06155969",
   "metadata": {
    "ExecuteTime": {
     "end_time": "2021-10-07T02:36:55.910293Z",
     "start_time": "2021-10-07T02:36:55.910283Z"
    }
   },
   "outputs": [],
   "source": [
    "#TODO: measure a using the high fidelity recordings of a."
   ]
  },
  {
   "cell_type": "code",
   "execution_count": null,
   "id": "e9547393",
   "metadata": {
    "ExecuteTime": {
     "end_time": "2021-10-07T02:36:55.911014Z",
     "start_time": "2021-10-07T02:36:55.911004Z"
    }
   },
   "outputs": [],
   "source": [
    "#TODO: move parameters involved in measuring a to the top\n",
    "#TODO: wrap a measurement into a function\n",
    "#TODO: produce a table of a values for various parameter settings\n",
    "#TODO: see what is consistent with the necessary value"
   ]
  },
  {
   "cell_type": "code",
   "execution_count": null,
   "id": "4946ab47",
   "metadata": {
    "ExecuteTime": {
     "end_time": "2021-10-07T02:36:55.911734Z",
     "start_time": "2021-10-07T02:36:55.911725Z"
    }
   },
   "outputs": [],
   "source": [
    "#TODO: generate a bluf over a large number of trials with reasonable parameter settings"
   ]
  }
 ],
 "metadata": {
  "kernelspec": {
   "display_name": "Python 3 (ipykernel)",
   "language": "python",
   "name": "python3"
  },
  "language_info": {
   "codemirror_mode": {
    "name": "ipython",
    "version": 3
   },
   "file_extension": ".py",
   "mimetype": "text/x-python",
   "name": "python",
   "nbconvert_exporter": "python",
   "pygments_lexer": "ipython3",
   "version": "3.7.10"
  },
  "toc": {
   "base_numbering": 1,
   "nav_menu": {},
   "number_sections": true,
   "sideBar": true,
   "skip_h1_title": false,
   "title_cell": "Table of Contents",
   "title_sidebar": "Contents",
   "toc_cell": false,
   "toc_position": {},
   "toc_section_display": true,
   "toc_window_display": false
  },
  "varInspector": {
   "cols": {
    "lenName": 16,
    "lenType": 16,
    "lenVar": 40
   },
   "kernels_config": {
    "python": {
     "delete_cmd_postfix": "",
     "delete_cmd_prefix": "del ",
     "library": "var_list.py",
     "varRefreshCmd": "print(var_dic_list())"
    },
    "r": {
     "delete_cmd_postfix": ") ",
     "delete_cmd_prefix": "rm(",
     "library": "var_list.r",
     "varRefreshCmd": "cat(var_dic_list()) "
    }
   },
   "types_to_exclude": [
    "module",
    "function",
    "builtin_function_or_method",
    "instance",
    "_Feature"
   ],
   "window_display": false
  }
 },
 "nbformat": 4,
 "nbformat_minor": 5
}
