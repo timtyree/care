{
 "cells": [
  {
   "cell_type": "markdown",
   "metadata": {},
   "source": [
    "# testing the routine on 1 file downloaded by google\n",
    "Tim Tyree\n",
    "1.21.2021"
   ]
  },
  {
   "cell_type": "code",
   "execution_count": 1,
   "metadata": {
    "ExecuteTime": {
     "end_time": "2021-01-29T02:32:53.890482Z",
     "start_time": "2021-01-29T02:32:51.907072Z"
    }
   },
   "outputs": [
    {
     "name": "stdout",
     "output_type": "stream",
     "text": [
      "Automatic calling is: Smart\n"
     ]
    }
   ],
   "source": [
    "from lib.my_initialization import *\n",
    "from lib.utils.utils_traj import *\n",
    "import trackpy\n",
    "from scipy import stats\n",
    "from lib.utils.operari import *\n",
    "\n",
    "\n",
    "%autocall 1\n",
    "%load_ext autoreload\n",
    "%autoreload 2\n",
    "# awareness&chill"
   ]
  },
  {
   "cell_type": "code",
   "execution_count": 2,
   "metadata": {
    "ExecuteTime": {
     "end_time": "2021-01-29T02:32:54.576695Z",
     "start_time": "2021-01-29T02:32:54.463037Z"
    }
   },
   "outputs": [],
   "source": [
    "#make plots in darkmode\n",
    "import seaborn as sns\n",
    "from jupyterthemes import jtplot\n",
    "jtplot.style(theme='monokai', context='notebook', ticks=True, grid=False)"
   ]
  },
  {
   "cell_type": "markdown",
   "metadata": {},
   "source": [
    "# define helper functions"
   ]
  },
  {
   "cell_type": "code",
   "execution_count": 1,
   "metadata": {
    "ExecuteTime": {
     "end_time": "2021-01-29T18:21:19.790295Z",
     "start_time": "2021-01-29T18:21:16.417855Z"
    },
    "code_folding": []
   },
   "outputs": [],
   "source": [
    "from worker.lib import *\n",
    "from worker.lib.routines.generate_tip_logs_LR_model_cy import *\n",
    "from worker.lib.routines.kwargs_LR_model_cy import get_kwargs\n",
    "from worker.lib.utils.get_txt import get_txt\n",
    "from worker.lib.routines.dag_log_to_msd import *\n",
    "from worker.lib.routines.compute_msd import get_longest_trajectories\n",
    "\n",
    "def log_to_unwrapped_trajectory(input_file_name, use_cache=True, sr=400, mem=0, **kwargs):\n",
    "    '''ic is a .csv file name of a tip log.'''\n",
    "    traj_fn = os.path.abspath(input_file_name).replace('/Log','/trajectories').replace('log.csv', f'traj_sr_{sr}_mem_{mem}.csv')\n",
    "    output_file_name = traj_fn.replace('/trajectories','/trajectories_unwrap').replace('.csv',\"_unwrap.csv\")\n",
    "    if not use_cache or not os.path.exists(traj_fn):\n",
    "        traj_fn = generate_track_tips_pbc(input_file_name, save_fn=traj_fn, **kwargs)\n",
    "    if not use_cache or not os.path.exists(output_file_name):\n",
    "        retval_ignore = unwrap_trajectories(traj_fn, output_file_name)      \n",
    "    return os.path.abspath(output_file_name)"
   ]
  },
  {
   "cell_type": "markdown",
   "metadata": {},
   "source": [
    "# make function that handles remote task\n",
    "- DONE: combine all cells related to main\n",
    "- DONE: move import lines to front\n",
    "- DONE: move parameters to front\n",
    "- TODO: make all lib calls work from worker.lib\n",
    "- TODO: test routine\n",
    "\n",
    "and then, (consider running)\n",
    "- TODO: wrap all this in my old ht condor boilerplate"
   ]
  },
  {
   "cell_type": "code",
   "execution_count": 2,
   "metadata": {
    "ExecuteTime": {
     "end_time": "2021-01-29T18:21:22.941321Z",
     "start_time": "2021-01-29T18:21:22.938347Z"
    }
   },
   "outputs": [],
   "source": [
    "# get_kwargs(ic_fn, results_folder=results_folder)"
   ]
  },
  {
   "cell_type": "code",
   "execution_count": 4,
   "metadata": {
    "ExecuteTime": {
     "end_time": "2021-01-29T18:38:35.629555Z",
     "start_time": "2021-01-29T18:34:43.344363Z"
    }
   },
   "outputs": [
    {
     "name": "stdout",
     "output_type": "stream",
     "text": [
      "new file system not initialized.\n"
     ]
    }
   ],
   "source": [
    "worker_dir=os.path.join(nb_dir,'worker')\n",
    "width=412;height=412;\n",
    "txt_id1=3;txt_id2=3\n",
    "\n",
    "tmax_sec=.15 #max time to integratein seconds\n",
    "# K_o=7.#5.4 higher K_o should give shorter APD#\n",
    "dsdpixel=0.025#cm/pixel  # area=width*height*dsdpixel**2\n",
    "dt=0.1# milliseconds\n",
    "DT = 2#ms between spiral tip frames\n",
    "save_every_n_frames=int(DT/dt)\n",
    "tmin=100# milliseconds\n",
    "sr=3600; mem=0;\n",
    "n_tips = 1\n",
    "round_t_to_n_digits=0\n",
    "\n",
    "\n",
    "################################\n",
    "# Setup file system and initial conditions\n",
    "################################\n",
    "results_folder=f'results'\n",
    "ic_fn=os.path.join(worker_dir,f'ic-in/ic{width}x{height}.{txt_id1}.{txt_id2}.npz')\n",
    "# param_fn = 'param_set_8_og.json'\n",
    "\n",
    "#download and chunk initial conditions\n",
    "os.chdir(worker_dir)\n",
    "if not os.path.exists('ic-in'):\n",
    "    os.mkdir('ic-in')\n",
    "if not os.path.exists('ic-out'):\n",
    "    os.mkdir('ic-out')\n",
    "txt= get_txt(txt_id1,txt_id2,width,height,worker_dir)\n",
    "np.savez_compressed(ic_fn,txt)\n",
    "    \n",
    "#initialize filesystem if not already initialized\n",
    "cwd=os.getcwd()\n",
    "# base_folder   = '/'+os.path.join(*cwd.split('/')[:-1])\n",
    "base_folder=worker_dir\n",
    "try:\n",
    "    init_filesystem_bd(base_folder,\n",
    "                      results_folder=results_folder,\n",
    "                      subfolder_list=None)\n",
    "except FileExistsError:\n",
    "    print('new file system not initialized.')\n",
    "\n",
    "#reset in out if ic-in is empty of npz files\n",
    "enable_reset_in_out=True\n",
    "if enable_reset_in_out:\n",
    "    os.chdir(base_folder)\n",
    "    def is_npz(s): return s[-4:]=='.npz'\n",
    "    retval = [fn for fn in os.listdir('ic-in') if is_npz(fn)]\n",
    "    if len(retval)==0:\n",
    "        os.rename('ic-in','ic-in2')\n",
    "        os.rename('ic-out','ic-in')\n",
    "        os.rename('ic-in2','ic-out')\n",
    "        print('ic reset')\n",
    "\n",
    "################################\n",
    "# Generate tip logs\n",
    "################################\n",
    "def routine(ic):\n",
    "#     kwargs = get_kwargs(ic)   \n",
    "    kwargs = get_kwargs(ic, results_folder=results_folder)#,param_fn=param_fn)\n",
    "#     kwargs['V_threshold'] =  -50.#mV\n",
    "    kwargs['dsdpixel']=dsdpixel\n",
    "    kwargs['h']=dt# kwargs['h']=0.01 for ds_1_param_set_8 for stability\n",
    "    kwargs['tmax_sec'] = tmax_sec #maximum time to be integrated in seconds\n",
    "    kwargs['tmax']= tmax_sec*10**3\n",
    "    kwargs['tmin']= tmin #millisecondds\n",
    "    kwargs['save_every_n_frames']=save_every_n_frames\n",
    "    #     kwargs['K_o']=K_o#TODO: expose K_o to this level if it should be varied extensively\n",
    "    kwargsout = generate_tip_logs_from_ic(ic, **kwargs)\n",
    "    #     print(f\"completed birth_death_rates_from_ic: {ic}\")\n",
    "    #     print(f\"csv of spiral tip data stored in: {kwargs['completed_ic_dir']}\")\n",
    "    #     return os.path.basename(ic)\n",
    "    return kwargsout#['data_dir_log']#output location\n",
    "\n",
    "\n",
    "#get all .npz files in the file's directory\n",
    "input_fn_lst=get_all_files_matching_pattern(file=ic_fn, trgt='.npz')\n",
    "assert ( len(input_fn_lst)>0)\n",
    "\n",
    "#generate tip logs\n",
    "retval=[routine(ic) for ic in input_fn_lst]\n",
    "log_dir=os.path.join(worker_dir,results_folder,'Log',retval[0]['data_fn_log'])\n",
    "# #generate tip logs with multiple threads in parallel\n",
    "# b = db.from_sequence(input_fn_lst, npartitions=1).map(routine)\n",
    "# start = time.time()\n",
    "# retval = list(b)\n",
    "\n",
    "################################\n",
    "# Track, unwrap, and select longest trajectories\n",
    "################################\n",
    "unwrapped_fn=log_to_unwrapped_trajectory(log_dir, use_cache=True, \n",
    "                                         sr=sr, mem=mem)\n",
    "#get longest unwrapped trajectory\n",
    "df=get_longest_trajectories(unwrapped_fn, \n",
    "                            n_tips = n_tips, DS = dsdpixel,DT = DT, \n",
    "                            round_t_to_n_digits=round_t_to_n_digits)\n",
    "#save .csv in log\n",
    "os.chdir(worker_dir)\n",
    "if not os.path.exists('Log'):\n",
    "    os.mkdir('Log')\n",
    "df.to_csv('Log/out.csv')"
   ]
  },
  {
   "cell_type": "code",
   "execution_count": 6,
   "metadata": {
    "ExecuteTime": {
     "end_time": "2021-01-29T18:47:14.190637Z",
     "start_time": "2021-01-29T18:47:14.179891Z"
    }
   },
   "outputs": [
    {
     "name": "stdout",
     "output_type": "stream",
     "text": [
      ",index,t,n,x,y,grad_ux,grad_uy,grad_vx,grad_vy,frame,particle\n",
      "\n",
      "669,669,100.0,38,0.0,0.0,-0.01576,1.42445,0.33624,1.27909,0,32\n",
      "\n",
      "670,670,102.0,36,-0.07239000000004125,0.03095999999999321,-0.016819999999999998,1.42487,0.33321999999999996,1.28035,1,32\n",
      "\n",
      "671,671,104.0,40,-0.16550000000003706,0.0633200000000329,-0.01788,1.4252799999999999,0.33035,1.28155,2,32\n",
      "\n",
      "672,672,106.0,46,-0.2784100000000365,0.09769000000000004,-0.018869999999999998,1.42565,0.3277,1.2826600000000001,3,32\n",
      "\n",
      "673,673,108.0,46,-0.4411700000000565,0.13301000000001295,-0.041139999999999996,1.43241,0.20269,1.33307,4,32\n",
      "\n",
      "674,674,110.0,46,-0.6771500000000401,0.1693000000000211,-0.04034,1.43204,0.20185999999999998,1.33342,5,32\n",
      "\n",
      "675,675,112.0,46,-0.9618800000000364,0.2102700000000368,-0.03882,1.43135,0.20338,1.33279,6,32\n",
      "\n",
      "676,676,114.0,46,-1.3027200000000505,0.2586699999999951,-0.03635,1.4302700000000002,0.2071800000000001,1.3312,7,32\n",
      "\n",
      "677,677,116.0,46,-1.8909000000000449,0.3006700000000251,-0.07049,1.44182,0.1009,1.3732799999999998,8,32\n",
      "\n",
      "678,678,118.0,42,-2.5202100000000485,0.3363100000000259,-3.09692,2.6846799999999997,0.040530000000000004,1.39595,9,32\n",
      "\n",
      "679,679,120.0,44,-4.329880000000003,0.3398799999999937,0.93922,1.02499,-0.027239999999999997,1.42139,10,32\n",
      "\n",
      "680,680,122.0,40,-4.425600000000003,0.3043299999999931,0.02342,1.39829,-0.72306,1.70269,11,32\n",
      "\n",
      "681,681,124.0,36,-4.533970000000097,0.2505899999999883,0.020309999999999998,1.39962,-0.76242,1.71875,12,32\n",
      "\n",
      "682,682,126.0,36,-4.631460000000061,0.19837999999998604,0.01718,1.40095,-0.7992100000000001,1.7337599999999995,13,32\n",
      "\n",
      "683,683,128.0,36,-4.7229700000000605,0.14868999999998778,0.013909999999999999,1.4023299999999999,-0.8262,1.7447700000000002,14,32\n",
      "\n",
      "684,684,130.0,36,-4.815960000000075,0.10313000000002147,0.01048,1.40377,-0.83339,1.7477,15,32\n",
      "\n",
      "685,685,132.0,36,-4.920960000000093,0.0636000000000081,0.00701,1.40523,-0.8093,1.73787,16,32\n",
      "\n",
      "686,686,134.0,36,-5.053120000000092,0.03154000000000678,0.0038,1.40657,-0.74516,1.7117,17,32\n",
      "\n",
      "687,687,136.0,42,-5.23571000000004,0.007200000000011642,0.00116,1.40767,-0.64217,1.6696799999999998,18,32\n",
      "\n",
      "688,688,138.0,38,-5.38456000000005,-0.010439999999960037,-0.00409,1.40739,-5.35621,3.57859,19,32\n",
      "\n",
      "689,689,140.0,38,-5.435100000000035,-0.022580000000004933,-0.00551,1.40798,-7.357839999999999,4.389959999999999,20,32\n",
      "\n",
      "690,690,142.0,36,-5.47025000000005,-0.030649999999980082,-0.00642,1.40835,-10.09092,5.49775,21,32\n",
      "\n",
      "691,691,144.0,36,-5.493510000000043,-0.036000000000001364,-0.006999999999999999,1.40859,-13.47971,6.8712300000000015,22,32\n",
      "\n",
      "692,692,146.0,34,-5.508570000000049,-0.03958000000000084,-0.0073700000000000015,1.4087399999999999,-17.27634,8.40996,23,32\n",
      "\n",
      "693,693,148.0,34,-5.518320000000045,-0.04203000000001112,-0.00761,1.4088399999999999,-21.14566,9.97812,24,32\n",
      "\n"
     ]
    }
   ],
   "source": [
    "#print to stdout\n",
    "with open('Log/out.csv') as f:\n",
    "    for line in f:\n",
    "        print(line)\n",
    "#     fh.close()"
   ]
  },
  {
   "cell_type": "code",
   "execution_count": 77,
   "metadata": {
    "ExecuteTime": {
     "end_time": "2021-01-29T17:56:39.210514Z",
     "start_time": "2021-01-29T17:56:39.165966Z"
    }
   },
   "outputs": [],
   "source": [
    "# #test the V_threshold value\n",
    "# j=0\n",
    "# V_threshold=-50.\n",
    "# level1 = V_threshold\n",
    "\n",
    "# t=-999\n",
    "# level2 = 0.\n",
    "# ic=input_fn_lst[j]\n",
    "# txt=load_buffer(ic)#input_fn)\n",
    "# inVc,outVc,inmhjdfx,outmhjdfx,dVcdt=unstack_txt(txt)\n",
    "# img=inVc[...,0]\n",
    "# dimgdt=dVcdt[...,0]\n",
    "# compute_all_spiral_tips= get_compute_all_spiral_tips(mode='simp')#width=width,height=height)\n",
    "# dict_out=compute_all_spiral_tips(t,img,dimgdt,level1,level2)#,width=width,height=height)\n",
    "# print(len(list(dict_out['x'])))\n",
    "# fig=show_buffer_LR(txt)\n",
    "# axs=fig.get_axes()\n",
    "# ax=axs[0]\n",
    "# ax.scatter(dict_out['x'],dict_out['y'],s=1500,c='yellow',marker='*')\n",
    "# plt.show()"
   ]
  }
 ],
 "metadata": {
  "kernelspec": {
   "display_name": "Python 3",
   "language": "python",
   "name": "python3"
  },
  "language_info": {
   "codemirror_mode": {
    "name": "ipython",
    "version": 3
   },
   "file_extension": ".py",
   "mimetype": "text/x-python",
   "name": "python",
   "nbconvert_exporter": "python",
   "pygments_lexer": "ipython3",
   "version": "3.8.6"
  },
  "toc": {
   "base_numbering": 1,
   "nav_menu": {},
   "number_sections": true,
   "sideBar": true,
   "skip_h1_title": false,
   "title_cell": "Table of Contents",
   "title_sidebar": "Contents",
   "toc_cell": false,
   "toc_position": {},
   "toc_section_display": true,
   "toc_window_display": false
  },
  "varInspector": {
   "cols": {
    "lenName": 16,
    "lenType": 16,
    "lenVar": 40
   },
   "kernels_config": {
    "python": {
     "delete_cmd_postfix": "",
     "delete_cmd_prefix": "del ",
     "library": "var_list.py",
     "varRefreshCmd": "print(var_dic_list())"
    },
    "r": {
     "delete_cmd_postfix": ") ",
     "delete_cmd_prefix": "rm(",
     "library": "var_list.r",
     "varRefreshCmd": "cat(var_dic_list()) "
    }
   },
   "types_to_exclude": [
    "module",
    "function",
    "builtin_function_or_method",
    "instance",
    "_Feature"
   ],
   "window_display": false
  }
 },
 "nbformat": 4,
 "nbformat_minor": 4
}
