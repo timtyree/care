{
 "cells": [
  {
   "cell_type": "markdown",
   "id": "e11f8f8c",
   "metadata": {
    "ExecuteTime": {
     "end_time": "2022-10-07T23:35:30.260432Z",
     "start_time": "2022-10-07T23:35:30.125644Z"
    }
   },
   "source": [
    "# estimation of attraction coefficient\n",
    "Tim Tyree<br>\n",
    "10.7.2022"
   ]
  },
  {
   "cell_type": "code",
   "execution_count": 1,
   "id": "a1022710",
   "metadata": {
    "ExecuteTime": {
     "end_time": "2022-10-12T19:03:10.266880Z",
     "start_time": "2022-10-12T19:03:06.426945Z"
    }
   },
   "outputs": [
    {
     "name": "stderr",
     "output_type": "stream",
     "text": [
      "/Users/timothytyree/opt/miniconda3/envs/pyenv/lib/python3.9/site-packages/statsmodels/compat/pandas.py:61: FutureWarning: pandas.Int64Index is deprecated and will be removed from pandas in a future version. Use pandas.Index with the appropriate dtype instead.\n",
      "  from pandas import Int64Index as NumericIndex\n"
     ]
    }
   ],
   "source": [
    "from IPython.display import clear_output\n",
    "clear_output(wait=True)\n",
    "\n",
    "import sys,os\n",
    "og_stdout=sys.stdout\n",
    "from lib.my_initialization import *\n",
    "\n",
    "os.chdir(nb_dir)\n",
    "from lib import *\n",
    "\n",
    "# import cupy, cudf\n",
    "# from lib.rapids_func import *\n",
    "\n",
    "import seaborn as sns\n",
    "import matplotlib.ticker as mtick\n",
    "\n",
    "from lib.model.attraction_sim_anneal_fit import comp_square_error_msr_aff_osc_period_fixed\n",
    "import warnings\n",
    "warnings.simplefilter(\"ignore\", UserWarning)\n",
    "%load_ext autoreload\n",
    "%autoreload 2"
   ]
  },
  {
   "cell_type": "code",
   "execution_count": 2,
   "id": "57b0c2da",
   "metadata": {
    "ExecuteTime": {
     "end_time": "2022-10-12T19:03:10.758801Z",
     "start_time": "2022-10-12T19:03:10.696289Z"
    }
   },
   "outputs": [],
   "source": [
    "# !pwd"
   ]
  },
  {
   "cell_type": "code",
   "execution_count": null,
   "id": "87ac474d",
   "metadata": {
    "ExecuteTime": {
     "end_time": "2022-10-12T18:26:09.350657Z",
     "start_time": "2022-10-12T18:26:09.307389Z"
    }
   },
   "outputs": [],
   "source": []
  },
  {
   "cell_type": "code",
   "execution_count": 3,
   "id": "a5b4ffe9",
   "metadata": {
    "ExecuteTime": {
     "end_time": "2022-10-12T19:03:11.664761Z",
     "start_time": "2022-10-12T19:03:11.610014Z"
    }
   },
   "outputs": [],
   "source": [
    "# from scipy.optimize import minimize\n",
    "from scipy.optimize import dual_annealing"
   ]
  },
  {
   "cell_type": "code",
   "execution_count": 4,
   "id": "43aadfdf",
   "metadata": {
    "ExecuteTime": {
     "end_time": "2022-10-12T19:03:12.104634Z",
     "start_time": "2022-10-12T19:03:12.057668Z"
    },
    "run_control": {
     "marked": true
    }
   },
   "outputs": [],
   "source": [
    "plt.close()\n",
    "#reset matplotlib settings\n",
    "import matplotlib as mpl\n",
    "sns.reset_orig()\n",
    "mpl.rc_file_defaults()"
   ]
  },
  {
   "cell_type": "code",
   "execution_count": 5,
   "id": "77e61b3b",
   "metadata": {
    "ExecuteTime": {
     "end_time": "2022-10-12T19:03:12.664976Z",
     "start_time": "2022-10-12T19:03:12.614510Z"
    }
   },
   "outputs": [],
   "source": [
    "from lib.model import comp_square_error_msr_aff_osc_period_fixed_with_msr_offset"
   ]
  },
  {
   "cell_type": "markdown",
   "id": "1261a81a",
   "metadata": {},
   "source": [
    "# define module"
   ]
  },
  {
   "cell_type": "code",
   "execution_count": null,
   "id": "89c47cef",
   "metadata": {
    "ExecuteTime": {
     "end_time": "2022-10-12T18:58:33.024199Z",
     "start_time": "2022-10-12T18:58:32.960007Z"
    }
   },
   "outputs": [],
   "source": []
  },
  {
   "cell_type": "markdown",
   "id": "b5b14862",
   "metadata": {},
   "source": [
    "# TODO: back of envelop estimation of amax"
   ]
  },
  {
   "cell_type": "code",
   "execution_count": 6,
   "id": "aa748d48",
   "metadata": {
    "ExecuteTime": {
     "end_time": "2022-10-12T19:03:14.725457Z",
     "start_time": "2022-10-12T19:03:14.675729Z"
    }
   },
   "outputs": [
    {
     "data": {
      "text/plain": [
       "(1.0657644824311492, 5.540905004495055)"
      ]
     },
     "execution_count": 6,
     "metadata": {},
     "output_type": "execute_result"
    }
   ],
   "source": [
    "#TODO: dev run #30 (L=5) (and #31 (L=10)) using the following:\n",
    "###########################\n",
    "# mean min lifetime: Gamma\n",
    "###########################\n",
    "tscale=1e-3 #s per ms\n",
    "lifetime_fk= 105.3 # (1.6) ms\n",
    "lifetime_lr= 33.37 # (73) ms\n",
    "Gamma_fk = lifetime_fk*tscale\n",
    "Gamma_lr = lifetime_lr*tscale\n",
    "\n",
    "###########################\n",
    "# rms range: Gamma\n",
    "###########################\n",
    "R_rms_fk = 0.67 # ± 0.06 cm\n",
    "R_rms_lr = 0.86 # ± 0.07 cm\n",
    "\n",
    "######################################################\n",
    "# max attraction coefficient: amax (Method 1, b.o.e.)\n",
    "######################################################\n",
    "mean_squared_distance_fk = R_rms_fk**2\n",
    "mean_squared_distance_lr = R_rms_lr**2\n",
    "alinear_boe_fk = (mean_squared_distance_fk / Gamma_fk) / 4\n",
    "alinear_boe_lr = (mean_squared_distance_lr / Gamma_lr) / 4\n",
    "alinear_boe_fk,alinear_boe_lr"
   ]
  },
  {
   "cell_type": "code",
   "execution_count": 7,
   "id": "ac444a2e",
   "metadata": {
    "ExecuteTime": {
     "end_time": "2022-10-12T19:03:15.677946Z",
     "start_time": "2022-10-12T19:03:15.628020Z"
    }
   },
   "outputs": [
    {
     "name": "stdout",
     "output_type": "stream",
     "text": [
      "T_fk=0.2116 s\n",
      "T_lr=0.0971 s\n"
     ]
    }
   ],
   "source": [
    "############################\n",
    "# mean rotational period: T\n",
    "############################\n",
    "# #src: http://localhost:8889/notebooks/computing%20rotational%20period%20of%20mean%20fortranic%20spiral%20trajectories.ipynb\n",
    "# - LR: mean number of loops per particle lifetime: 0.3438\n",
    "# - FK: mean number of loops per particle lifetime: 0.4976\n",
    "# - FK(backup, failing ^that): mean number of loops per particle lifetime (at least 1 loop): 0.9131\n",
    "T_fk = Gamma_fk / 0.4976 #0.9131\n",
    "T_lr = Gamma_lr / 0.3438\n",
    "print(f\"{T_fk=:.4f} s\")\n",
    "print(f\"{T_lr=:.4f} s\")"
   ]
  },
  {
   "cell_type": "code",
   "execution_count": 8,
   "id": "a6556b92",
   "metadata": {
    "ExecuteTime": {
     "end_time": "2022-10-12T19:03:16.389034Z",
     "start_time": "2022-10-12T19:03:16.336885Z"
    }
   },
   "outputs": [
    {
     "name": "stdout",
     "output_type": "stream",
     "text": [
      "alinear_boe_fk=1.9325 cm^2/s\n",
      "alinear_boe_lr=8.6303 cm^2/s\n"
     ]
    }
   ],
   "source": [
    "#print back of envelope estimates for alinear for each of the estimates of the mean squared distance between spiral tips\n",
    "######################################################\n",
    "# max attraction coefficient: amax (Method 1, b.o.e.)\n",
    "######################################################\n",
    "\n",
    "mean_squared_distance_fk =  0.9022**2\n",
    "mean_squared_distance_lr = 1.0733**2\n",
    "# mean_squared_distance_fk =  0.5263**2\n",
    "# mean_squared_distance_lr = 0.6635**2\n",
    "# mean_squared_distance_fk =  1.1521\n",
    "# mean_squared_distance_lr = 1.6040\n",
    "# mean_squared_distance_fk = R_rms_fk**2\n",
    "# mean_squared_distance_lr = R_rms_lr**2\n",
    "alinear_boe_fk = (mean_squared_distance_fk / Gamma_fk) / 4\n",
    "alinear_boe_lr = (mean_squared_distance_lr / Gamma_lr) / 4\n",
    "print(f\"{alinear_boe_fk=:.4f} cm^2/s\")\n",
    "print(f\"{alinear_boe_lr=:.4f} cm^2/s\")"
   ]
  },
  {
   "cell_type": "code",
   "execution_count": null,
   "id": "1f74fde2",
   "metadata": {},
   "outputs": [],
   "source": []
  },
  {
   "cell_type": "code",
   "execution_count": null,
   "id": "b775c0f8",
   "metadata": {},
   "outputs": [],
   "source": []
  },
  {
   "cell_type": "markdown",
   "id": "266821b1",
   "metadata": {},
   "source": [
    "# TODO(later): estimate alinear for fixed period"
   ]
  },
  {
   "cell_type": "code",
   "execution_count": 9,
   "id": "6300f603",
   "metadata": {
    "ExecuteTime": {
     "end_time": "2022-10-12T19:03:22.860627Z",
     "start_time": "2022-10-12T19:03:22.813323Z"
    }
   },
   "outputs": [
    {
     "name": "stdout",
     "output_type": "stream",
     "text": [
      "/Users/timothytyree/Documents/GitHub/care/notebooks/Data/from_wjr/positions_fk/200x200/tippos_per_c_001_annihilation_range_timeseries.pkl\n",
      "/Users/timothytyree/Documents/GitHub/care/notebooks/Data/from_wjr/positions_lr/200x200/tippos_per_001_annihilation_range_timeseries.pkl\n",
      "^those exist\n"
     ]
    }
   ],
   "source": [
    "#####################\n",
    "# Fenton-Karma\n",
    "#####################\n",
    "range_data_dir_lst=[\n",
    "    '/Users/timothytyree/Documents/GitHub/care/notebooks/Data/from_wjr/positions_fk/200x200/tippos_per_c_001_annihilation_range_timeseries.pkl',\n",
    "    '/Users/timothytyree/Documents/GitHub/care/notebooks/Data/from_wjr/positions_lr/200x200/tippos_per_001_annihilation_range_timeseries.pkl',    \n",
    "#     '/home/timothytyree/Documents/GitHub/care/notebooks/Data/from_wjr/positions_fk/200x200/tippos_per_c_001_annihilation_range_timeseries.pkl',\n",
    "#     '/home/timothytyree/Documents/GitHub/care/notebooks/Data/from_wjr/positions_lr/200x200/tippos_per_001_annihilation_range_timeseries.pkl',    \n",
    "]\n",
    "\n",
    "# #####################\n",
    "# # Luo-Rudy\n",
    "# #####################\n",
    "#runtime ~13 minutes\n",
    "# range_data_dir_lst=[\n",
    "#     '/home/timothytyree/Documents/GitHub/care/notebooks/Data/from_wjr/positions_lr/200x200/tippos_per_001_annihilation_range_timeseries.pkl',\n",
    "#     '/home/timothytyree/Documents/GitHub/care/notebooks/Data/from_wjr/positions_lr/250x250/tippos_per_c_001_annihilation_range_timeseries.pkl',\n",
    "#     '/home/timothytyree/Documents/GitHub/care/notebooks/Data/from_wjr/positions_lr/300x300/tippos_per_c_001_annihilation_range_timeseries.pkl',\n",
    "#     '/home/timothytyree/Documents/GitHub/care/notebooks/Data/from_wjr/positions_lr/350x350/tippos_per_c_001_annihilation_range_timeseries.pkl',\n",
    "#     '/home/timothytyree/Documents/GitHub/care/notebooks/Data/from_wjr/positions_lr/400x400/tippos_per_c_001_annihilation_range_timeseries.pkl',\n",
    "#     #'/home/timothytyree/Documents/GitHub/care/notebooks/Data/from_wjr/positions_lr/500x500/tippos_per_001_annihilation_range_timeseries.pkl',\n",
    "#     #^this one is too big to track in a reasonable amount of time...     \n",
    "# ]\n",
    "for fn in range_data_dir_lst:\n",
    "    print(f\"{fn}\")\n",
    "    assert os.path.exists(fn)\n",
    "print(f\"^those exist\")"
   ]
  },
  {
   "cell_type": "code",
   "execution_count": 10,
   "id": "609d40ca",
   "metadata": {
    "ExecuteTime": {
     "end_time": "2022-10-12T19:03:25.669156Z",
     "start_time": "2022-10-12T19:03:25.625208Z"
    }
   },
   "outputs": [],
   "source": [
    "#HINT: sim. anneal routine that calculates amax unconstrained\n",
    "# max_tdeath=100. #ms #LR\n",
    "max_tdeath=300. #ms FK\n",
    "printing=True\n",
    "D=0\n",
    "use_sim_anneal=True\n",
    "repeat_w_10X=True"
   ]
  },
  {
   "cell_type": "code",
   "execution_count": 25,
   "id": "3aa81fde",
   "metadata": {
    "ExecuteTime": {
     "end_time": "2022-10-12T19:16:00.239951Z",
     "start_time": "2022-10-12T19:14:32.746229Z"
    }
   },
   "outputs": [
    {
     "name": "stdout",
     "output_type": "stream",
     "text": [
      "printing for two file sets: FK and then LR...\n",
      "\n",
      "range_data_dir='/Users/timothytyree/Documents/GitHub/care/notebooks/Data/from_wjr/positions_fk/200x200/tippos_per_c_001_annihilation_range_timeseries.pkl'\n",
      "loaded range timeseries from 80 termination events\n",
      "df.shape=(3846532, 9)\n",
      " - o - mean lifetime: 105.3196 +/- 1.7203 ms (N=36179, p_normal: 0.5453) from 80 termination events\n",
      "averages for spiral tip pairs:\n",
      " - x - particle average first: mean range: 0.5263 +/- 0.0035 ms (N=36179, p_normal: 0.8651) from 80 termination events\n",
      "loading bootstrapped mean...\n",
      "running simulated annealing for 10000 epochs...\n",
      "max_tdeath=300.0 ms\n",
      "src: msr_dir_bootstrap='/Users/timothytyree/Documents/GitHub/care/notebooks/Data/from_wjr/positions_fk/200x200/tippos_per_c_001_annihilation_msr.csv'\n",
      "num. epochs: 10000\n",
      "simulated annealing fit: a0=0.731992925, a1=0.563473336, period=211.615755627, phase=-1.069340883 , MSR_offset=0.0000 --> rmse=0.079240153 cm^2\n",
      "\tattraction coefficient: a0=0.7320, a1=0.5635, z=3.1271, phase=-1.0693 --> alinear=0.9005 cm^2/s\n",
      ">>> alinear=0.9004696078661906 \n",
      "\n",
      "running simulated annealing for 100000 epochs...\n",
      "simulated annealing fit: a0=0.731976121, a1=0.563626549, period=211.615755627, phase=-1.069177740 --> rmse=0.079240149 cm^2\n",
      "\tattraction coefficient: a0=0.7320, a1=0.5636, z=3.1271, phase=-1.0692 --> alinear=0.9005 cm^2/s\n",
      ">>> alinear=0.9004932691893415 \n",
      "\n",
      "*************** end data set ********************\n",
      "\n",
      "range_data_dir='/Users/timothytyree/Documents/GitHub/care/notebooks/Data/from_wjr/positions_lr/200x200/tippos_per_001_annihilation_range_timeseries.pkl'\n",
      "loaded range timeseries from 595 termination events\n",
      "df.shape=(524869, 9)\n",
      " - o - mean lifetime: 33.3659 +/- 0.6939 ms (N=15273, p_normal: 0.4114) from 595 termination events\n",
      "averages for spiral tip pairs:\n",
      " - x - particle average first: mean range: 0.6635 +/- 0.0071 ms (N=15273, p_normal: 0.6576) from 595 termination events\n",
      "loading bootstrapped mean...\n",
      "running simulated annealing for 10000 epochs...\n",
      "max_tdeath=100.0 ms\n",
      "src: msr_dir_bootstrap='/Users/timothytyree/Documents/GitHub/care/notebooks/Data/from_wjr/positions_lr/200x200/tippos_per_001_annihilation_msr.csv'\n",
      "num. epochs: 10000\n",
      "simulated annealing fit: a0=0.999996421, a1=19.342935898, period=97.062245492, phase=-1.636282746 , MSR_offset=0.0000 --> rmse=0.518539705 cm^2\n",
      "\tattraction coefficient: a0=1.0000, a1=19.3429, z=2.1599, phase=-1.6363 --> alinear=8.1354 cm^2/s\n",
      ">>> alinear=8.135443061432712 \n",
      "\n",
      "running simulated annealing for 100000 epochs...\n",
      "simulated annealing fit: a0=0.999999223, a1=19.345135801, period=97.062245492, phase=-1.636752061 --> rmse=0.518539445 cm^2\n",
      "\tattraction coefficient: a0=1.0000, a1=19.3451, z=2.1599, phase=-1.6368 --> alinear=8.1344 cm^2/s\n",
      ">>> alinear=8.134430923029722 \n",
      "\n",
      "*************** end data set ********************\n"
     ]
    }
   ],
   "source": [
    "#DONE: recall rotational period, T in seconds\n",
    "max_tdeath_lst=[300.,100.,] #ms\n",
    "T_lst=[T_fk,T_lr] #s\n",
    "\n",
    "dict_fit_lst=[]\n",
    "msr_dir_bootstrap_fk = '/Users/timothytyree/Documents/GitHub/care/notebooks/Data/from_wjr/positions_fk/200x200/tippos_per_c_001_annihilation_msr.csv'\n",
    "msr_dir_bootstrap_lr = '/Users/timothytyree/Documents/GitHub/care/notebooks/Data/from_wjr/positions_lr/200x200/tippos_per_001_annihilation_msr.csv'\n",
    "msr_dir_bootstrap_lst=[msr_dir_bootstrap_fk,msr_dir_bootstrap_lr]\n",
    "print(f\"printing for two file sets: FK and then LR...\")\n",
    "# for max_tdeath,T,range_data_dir in zip(reversed(max_tdeath_lst),reversed(T_lst),reversed(range_data_dir_lst)):\n",
    "for max_tdeath,T,range_data_dir,msr_dir_bootstrap in zip(max_tdeath_lst,T_lst,range_data_dir_lst,msr_dir_bootstrap_lst):\n",
    "    #DONE: dev sim. anneal routine that calculates amax constrained to T.\n",
    "    # #DONE: perform simulated annealing\n",
    "    # #input: T, Gamma, MSR(t'), D=0\n",
    "    # #output: mean squared distance\n",
    "    # for range_data_dir in range_data_dir_lst:\n",
    "    print(f\"\\n{range_data_dir=}\")\n",
    "    data_lst=load_from_pickle(range_data_dir)\n",
    "    num_termination_events = len(data_lst)\n",
    "    print(f\"loaded range timeseries from {len(data_lst)} termination events\")\n",
    "\n",
    "    df=pd.concat(data_lst)\n",
    "    del data_lst\n",
    "    print(f\"{df.shape=}\")\n",
    "    # compute mean minimum lifetime\n",
    "    minlifetime_values = df.groupby(by=['trial_num','annihilation_index'])['tdeath'].max().values\n",
    "    meanx,Delta_meanx,num_obsx,p_normalx=comp_mean_bootstrap_uncertainty(minlifetime_values)\n",
    "    printing=True\n",
    "    if printing:\n",
    "        print(f\" - o - mean lifetime: {meanx:.4f} +/- {Delta_meanx:.4f} ms (N={num_obsx}, p_normal: {p_normalx:.4f}) from {num_termination_events} termination events\")\n",
    "    Gamma=float(meanx)\n",
    "    meanrange_values = df.groupby(by=['trial_num','annihilation_index'])['R'].mean().values\n",
    "    meanR,Delta_meanR,num_obsR,p_normalR=comp_mean_bootstrap_uncertainty(meanrange_values)\n",
    "    printing=True\n",
    "    if printing:\n",
    "        print(f\"averages for spiral tip pairs:\")\n",
    "        print(f\" - x - particle average first: mean range: {meanR:.4f} +/- {Delta_meanR:.4f} ms (N={num_obsR}, p_normal: {p_normalR:.4f}) from {num_termination_events} termination events\")\n",
    "        #print(f\" - x - particle average first: mean range: {meanR:.4f} +/- {Delta_meanR:.4f} ms (N={num_obsR}, p_normal: {p_normalR:.4f}) from {num_termination_events} termination events\")\n",
    "    #     print(f\" - x - particle average first (not this one!): mean range: {meanR:.4f} +/- {Delta_meanR:.4f} ms (N={num_obsR}, p_normal: {p_normalR:.4f}) from {num_termination_events} termination events\")\n",
    "    meanrange_values = df['R'].values\n",
    "#     meanR,Delta_meanR,num_obsR,p_normalR=comp_mean_bootstrap_uncertainty(meanrange_values)\n",
    "#     if printing:\n",
    "#         print(f\" - o - all positions together (use this one!): mean range: {meanR:.4f} +/- {Delta_meanR:.4f} ms (N={num_obsR}, p_normal: {p_normalR:.4f}) from {num_termination_events} termination events\")\n",
    "#     meanSR,Delta_meanSR,num_obsSR,p_normalSR=comp_mean_bootstrap_uncertainty(meanrange_values**2)\n",
    "#     if printing:\n",
    "#         print(f\" - o - all positions together (use this one!): root mean squared range: {np.sqrt(meanSR):.4f} +/- {0.5*np.sqrt(Delta_meanSR)/np.sqrt(meanSR):.4f} ms (N={num_obsSR}, p_normal: {p_normalSR:.4f}) from {num_termination_events} termination events\")\n",
    "#         print(f\" - o - all positions together (use this one!): mean squared range: {meanSR:.4f} +/- {Delta_meanSR:.4f} ms (N={num_obsSR}, p_normal: {p_normalSR:.4f}) from {num_termination_events} termination events\")\n",
    "    if printing:\n",
    "        print(f\"loading bootstrapped mean...\")\n",
    "    df_bootstrap = pd.read_csv(msr_dir_bootstrap)\n",
    "    x_values=df_bootstrap['tdeath_avg'].values\n",
    "    y_values=df_bootstrap['MSR'].values\n",
    "    yerr_values=df_bootstrap['Delta_MSR'].values\n",
    "    x_values.shape,y_values.shape,yerr_values.shape\n",
    "    # optionally fit alinear with simulated annealing\n",
    "    # select msr from the full models for fitting\n",
    "    boo=x_values<max_tdeath\n",
    "    t_values=x_values[boo].copy()*1e-3\n",
    "    msr_values=y_values[boo].copy() \n",
    "    # msr_values-= np.min(msr_values) #rmse = 0.58  with this uncommented\n",
    "    #rmse = 0.66  with zero not subtracted.  also alinear was larger for LR model\n",
    "    maxiter=10000\n",
    "    print(f\"running simulated annealing for {maxiter} epochs...\")\n",
    "    # bounds = ((0, 100), (0, 100), (50, 300), (-3.15,3.15))\n",
    "    bounds = ((0, 1.), (0, 10000.), (-3.15,3.15))\n",
    "#     bounds = ((0, 1.), (0, 10000.), (-3.15,3.15), (-2.,2.))\n",
    "    # msr_dir_bootstrap = msr_dir_bootstrap_lr\n",
    "    print(f\"{max_tdeath=} ms\")\n",
    "    print(f\"src: {msr_dir_bootstrap=}\")\n",
    "    if use_sim_anneal:\n",
    "        maxiter=10000\n",
    "        print(f\"num. epochs: {maxiter}\")\n",
    "        #x0=a0,a1,phase\n",
    "        period=T*1e3 #bc period is in milliseconds\n",
    "        args=t_values,msr_values,D,period\n",
    "        res = dual_annealing(comp_square_error_msr_aff_osc_period_fixed,#comp_square_error_msr_aff_osc_period_fixed_with_msr_offset,#\n",
    "                    bounds=bounds,\n",
    "                    args=args,\n",
    "                   maxiter=maxiter,seed=42,\n",
    "                   no_local_search=True)#,**kwargs)\n",
    "\n",
    "        rmse= np.sqrt(res.fun/t_values.shape[0])\n",
    "        #a0,a1,phase,MSR_offset=res.x\n",
    "        MSR_offset=0.\n",
    "        a0,a1,phase=res.x\n",
    "        print(f\"simulated annealing fit: {a0=:.9f}, {a1=:.9f}, {period=:.9f}, {phase=:.9f} , {MSR_offset=:.4f} --> {rmse=:.9f} cm^2\")\n",
    "\n",
    "        alinear = comp_alinear(a0,a1,period,Gamma,phase)\n",
    "        omega = 2*np.pi/period\n",
    "        z = Gamma*omega\n",
    "        print(f\"\\tattraction coefficient: {a0=:.4f}, {a1=:.4f}, {z=:.4f}, {phase=:.4f} --> {alinear=:.4f} cm^2/s\")\n",
    "        print(f\">>> {alinear=} \\n\")\n",
    "        #print(f\"*************** end data set ********************\")\n",
    "\n",
    "        if repeat_w_10X:\n",
    "            #optionally repeat at 10X number of epochs\n",
    "            maxiter=100000\n",
    "            print(f\"running simulated annealing for {maxiter} epochs...\")\n",
    "            #x0=a0,a1,phase\n",
    "            #period=T*1e3 #bc period is in milliseconds\n",
    "            #args=t_values,msr_values,D,period\n",
    "            res = dual_annealing(comp_square_error_msr_aff_osc_period_fixed,#comp_square_error_msr_aff_osc_period_fixed_with_msr_offset,#\n",
    "                        bounds=bounds,\n",
    "                        args=args,\n",
    "                       maxiter=maxiter,seed=42,\n",
    "                       no_local_search=True)#,**kwargs)\n",
    "\n",
    "            rmse= np.sqrt(res.fun/t_values.shape[0])\n",
    "            #a0,a1,phase,MSR_offset=res.x\n",
    "            MSR_offset=0.\n",
    "            a0,a1,phase=res.x\n",
    "            print(f\"simulated annealing fit: {a0=:.9f}, {a1=:.9f}, {period=:.9f}, {phase=:.9f} --> {rmse=:.9f} cm^2\")\n",
    "\n",
    "            alinear = comp_alinear(a0,a1,period,Gamma,phase)\n",
    "            omega = 2*np.pi/period\n",
    "            z = Gamma*omega\n",
    "            print(f\"\\tattraction coefficient: {a0=:.4f}, {a1=:.4f}, {z=:.4f}, {phase=:.4f} --> {alinear=:.4f} cm^2/s\")\n",
    "            print(f\">>> {alinear=} \\n\")\n",
    "            print(f\"*************** end data set ********************\")\n",
    "            dict_fit=dict(a0=a0,a1=a1,period=period,phase=phase,rmse=rmse,MSR_offset=MSR_offset,\n",
    "              alinear=alinear,omega=omega,z=z,Gamma=Gamma, Delta_Gamma=Delta_meanx, num_obs=num_obsx, p_normal=p_normalx)\n",
    "        #record\n",
    "        dict_fit_lst.append(dict_fit)"
   ]
  },
  {
   "cell_type": "code",
   "execution_count": null,
   "id": "59bb9931",
   "metadata": {},
   "outputs": [],
   "source": []
  },
  {
   "cell_type": "code",
   "execution_count": 26,
   "id": "c9deba51",
   "metadata": {
    "ExecuteTime": {
     "end_time": "2022-10-12T19:16:00.295466Z",
     "start_time": "2022-10-12T19:16:00.243929Z"
    }
   },
   "outputs": [],
   "source": [
    "dict_osc_fit_fk=dict(dict_fit_lst[0])\n",
    "dict_osc_fit_lr=dict(dict_fit_lst[1])"
   ]
  },
  {
   "cell_type": "code",
   "execution_count": null,
   "id": "d4aafe14",
   "metadata": {},
   "outputs": [],
   "source": []
  },
  {
   "cell_type": "code",
   "execution_count": 27,
   "id": "d7fdae44",
   "metadata": {
    "ExecuteTime": {
     "end_time": "2022-10-12T19:16:00.351236Z",
     "start_time": "2022-10-12T19:16:00.298367Z"
    }
   },
   "outputs": [],
   "source": [
    "# >>> alinear=1.8402023397115908 \n",
    "# >>> alinear=8.585030312541999 \n"
   ]
  },
  {
   "cell_type": "code",
   "execution_count": 28,
   "id": "92b64a10",
   "metadata": {
    "ExecuteTime": {
     "end_time": "2022-10-12T19:16:00.414901Z",
     "start_time": "2022-10-12T19:16:00.355117Z"
    }
   },
   "outputs": [],
   "source": [
    "# alinear_anneal_fk = 1.8402023397115908 \n",
    "# alinear_anneal_lr = 8.585030312541999 "
   ]
  },
  {
   "cell_type": "code",
   "execution_count": 29,
   "id": "2bafedbe",
   "metadata": {
    "ExecuteTime": {
     "end_time": "2022-10-12T19:16:00.475752Z",
     "start_time": "2022-10-12T19:16:00.417820Z"
    }
   },
   "outputs": [],
   "source": [
    "# x0=a0,a1,phase\n",
    "# period=T*1e3 #bc period is in milliseconds\n",
    "# args=t_values,msr_values,D,period\n",
    "# square_error=comp_square_error_msr_aff_osc_period_fixed(x0,*args)\n",
    "# rmse=np.sqrt(square_error/t_values.shape[0])\n",
    "# print(f\"{rmse=}\")"
   ]
  },
  {
   "cell_type": "code",
   "execution_count": 30,
   "id": "f8d89469",
   "metadata": {
    "ExecuteTime": {
     "end_time": "2022-10-12T19:16:00.531500Z",
     "start_time": "2022-10-12T19:16:00.478574Z"
    }
   },
   "outputs": [],
   "source": [
    "# # ######################################################\n",
    "# # # TODO: max attraction coefficient: amax (Method 2, annealed)\n",
    "# # ######################################################\n",
    "# # mean_squared_distance_hat_fk = ??\n",
    "# # mean_squared_distance_hat_lr = ??\n",
    "# # alinear_anneal_fk = mean_squared_distance_hat_fk / Gamma_fk / 4\n",
    "# # alinear_anneal_lr = mean_squared_distance_hat_lr / Gamma_lr / 4\n",
    "# #TODO: compare ibid to \n",
    "# alinear_boe_fk = mean_squared_distance_fk / Gamma_fk / 4\n",
    "# alinear_boe_lr = mean_squared_distance_lr / Gamma_lr / 4\n",
    "# print(f\"{alinear_anneal_fk=} cm^2/s\")\n",
    "# print(f\"{alinear_boe_fk=} cm^2/s\")\n",
    "# print(f\"{alinear_anneal_lr=} cm^2/s\")\n",
    "# print(f\"{alinear_boe_lr=} cm^2/s\")"
   ]
  },
  {
   "cell_type": "code",
   "execution_count": 31,
   "id": "f57f5422",
   "metadata": {
    "ExecuteTime": {
     "end_time": "2022-10-12T19:16:00.600865Z",
     "start_time": "2022-10-12T19:16:00.534971Z"
    }
   },
   "outputs": [],
   "source": [
    "#TODO: dev next data run #30!\n",
    "#TODO: play in midas for the remainder of the evening..."
   ]
  },
  {
   "cell_type": "code",
   "execution_count": 32,
   "id": "5823a357",
   "metadata": {
    "ExecuteTime": {
     "end_time": "2022-10-12T19:16:00.664725Z",
     "start_time": "2022-10-12T19:16:00.605113Z"
    }
   },
   "outputs": [],
   "source": [
    "# ######################################################\n",
    "# # diffusion coefficient: D (from time averaged MSD)\n",
    "# ######################################################\n",
    "# $D$ (cm$^2$/s):\n",
    "# - FK: 37.2$\\pm$1.4$\\times10^{-3}$\n",
    "# - LR: 1.40$\\pm$0.10$\\times10^{-3}$\n",
    "# - FK(failing ^that, from MSR): D = m/8 = 0.1145 +/- 0.007987364738330576 (using timepoints after 600.0 ms)\n",
    "\n",
    "# ######################################################\n",
    "# # reaction rate: kappa (b.o.e. from death rates and qs distribution)\n",
    "# ######################################################\n",
    "# - Area: 25 cm^2, kappa: 436.74 Hz (Fenton-Karma)\n",
    "# - Area: 25 cm^2, kappa: 1614.16 Hz (Luo-Rudy)\n",
    "# - Area: 100 cm^2, kappa: 6197.13 Hz (Fenton-Karma)\n",
    "# - Area: 100 cm^2, kappa: 8532.76 Hz (Luo-Rudy)\n",
    "\n",
    "# then, TODO: dev run #30 using the above parameter values"
   ]
  },
  {
   "cell_type": "code",
   "execution_count": null,
   "id": "1b647761",
   "metadata": {},
   "outputs": [],
   "source": []
  },
  {
   "cell_type": "code",
   "execution_count": 33,
   "id": "0eb1a306",
   "metadata": {
    "ExecuteTime": {
     "end_time": "2022-10-12T19:16:00.726274Z",
     "start_time": "2022-10-12T19:16:00.666884Z"
    }
   },
   "outputs": [],
   "source": [
    "# # # Compute MSR(t') by averaging range timeseries\n",
    "# # x_values_in=df['tdeath'].values\n",
    "# # y_values_in=df['R'].values**2\n",
    "# # print(f\"tdeath ranges from {np.min(x_values_in)} to {np.max(x_values_in)} ms\")\n",
    "# # print(f\"R^2 ranges from {np.min(y_values_in)} to {np.max(y_values_in)} cm^2\")\n",
    "\n",
    "# # assert not np.isnan(x_values_in).any() \n",
    "# # assert not np.isnan(y_values_in).any()\n",
    "\n",
    "# # #compute bootstrap \n",
    "# # printing=True\n",
    "# # if printing:\n",
    "# #     print(f\"loading bootstrapped mean...\")\n",
    "# # #     print(f\"bootstrapping mean (estimated run time ~30 seconds)...\")\n",
    "# # # bins=np.arange(0,450,1)\n",
    "# # # bins=np.arange(0,1800,5)\n",
    "# # bins=np.arange(0,2800,5)\n",
    "# # df_bootstrap=bin_and_bootstrap_xy_values_parallel(x_values_in,\n",
    "# #                                y_values_in,\n",
    "# #                                xlabel='tdeath_avg',\n",
    "# #                                ylabel='MSR',\n",
    "# #                                bins=bins,\n",
    "# #                                min_numobs=10,\n",
    "# #                                num_bootstrap_samples=1000,\n",
    "# #                                npartitions=10,\n",
    "# #                                use_test=False)\n",
    "# # #save msr as .csv\n",
    "# # msr_dir_bootstrap=range_data_dir.replace('_range_timeseries.pkl','_msr.csv')\n",
    "# # df_bootstrap.to_csv(msr_dir_bootstrap,index=False)\n",
    "# # print(f\"{msr_dir_bootstrap=}\")\n",
    "\n",
    "# # if printing:\n",
    "# #     print(f\"loading bootstrapped mean...\")\n",
    "# df_bootstrap = pd.load_csv(msr_dir_bootstrap)\n",
    "\n",
    "# x_values=df_bootstrap['tdeath_avg'].values\n",
    "# y_values=df_bootstrap['MSR'].values\n",
    "# yerr_values=df_bootstrap['Delta_MSR'].values\n",
    "# x_values.shape,y_values.shape,yerr_values.shape\n",
    "\n",
    "\n",
    "# # optionally fit alinear with simulated annealing\n",
    "# # select msr from the full models for fitting\n",
    "# boo=x_values<max_tdeath\n",
    "# t_values=x_values[boo].copy()*1e-3\n",
    "# msr_values=y_values[boo].copy() \n",
    "# msr_values-= np.min(msr_values)\n",
    "# print(f\"{max_tdeath=} ms\")\n",
    "# print(f\"src: {msr_dir_bootstrap=}\")\n",
    "# if use_sim_anneal:\n",
    "#     maxiter=10000\n",
    "#     print(f\"num. epochs: {maxiter}\")\n",
    "#     res = anneal_msr_fit(t_values,msr_values,D,\n",
    "#                        bounds = ((0, 100), (0, 100), (50, 300), (-3.15,3.15)),\n",
    "#                        maxiter=maxiter,seed=42, no_local_search=True)#,**kwargs)\n",
    "#     rmse= np.sqrt(res.fun/t_values.shape[0])\n",
    "#     a0,a1,period,phase=res.x\n",
    "#     #print(f\"simulated annealing fit: {a0=:.4f}, {a1=:.4f}, {period=:.4f}, {phase=:.4f} --> {rmse=:.4f} cm^2\")\n",
    "\n",
    "#     alinear = comp_alinear(a0,a1,period,Gamma,phase)\n",
    "#     omega = 2*np.pi/period\n",
    "#     z = Gamma*omega\n",
    "#     print(f\"\\tsimulated annealing fit: {a0=:.9f}, {a1=:.9f}, {z=:.9f}, {phase=:.9f} --> {alinear=:.9f} cm^2/s\")\n",
    "#     print(f\">>> {alinear=} \\n\")    \n",
    "#     if repeat_w_10X:\n",
    "#         #optionally repeat at 10X number of epochs\n",
    "#         maxiter=100000\n",
    "#         print(f\"running simulated annealing for {maxiter} epochs...\")\n",
    "#         bounds = ((0, 100), (0, 100), (50, 300), (-3.15,3.15))\n",
    "        \n",
    "#         #x0=a0,a1,phase\n",
    "#         period=T*1e3 #bc period is in milliseconds\n",
    "#         args=t_values,msr_values,D,period\n",
    "#         res = dual_annealing(comp_square_error_msr_aff_osc\n",
    "#                    ,\n",
    "#                    maxiter=maxiter,seed=42,\n",
    "#                    no_local_search=True)#,**kwargs)\n",
    "        \n",
    "            \n",
    "#     # np.random.seed(42)   # seed to allow replication.\n",
    "#     res = dual_annealing(\n",
    "#         comp_square_error_msr_aff_osc,\n",
    "#         bounds=bounds,\n",
    "#         args=args,\n",
    "#         maxiter=maxiter,\n",
    "#         seed=seed,\n",
    "#         no_local_search=no_local_search,**kwargs)\n",
    "        \n",
    "        \n",
    "        \n",
    "        \n",
    "        \n",
    "        \n",
    "        \n",
    "#         res = anneal_msr_fit(t_values,msr_values,D,\n",
    "#                            bounds = ((0, 100), (0, 100), (50, 300), (-3.15,3.15)),\n",
    "#                            maxiter=maxiter,seed=42+1, no_local_search=True)#,**kwargs)\n",
    "#         rmse= np.sqrt(res.fun/t_values.shape[0])\n",
    "#         a0,a1,period,phase=res.x\n",
    "#         print(f\"simulated annealing fit: {a0=:.9f}, {a1=:.9f}, {period=:.9f}, {phase=:.9f} --> {rmse=:.9f} cm^2\")\n",
    "\n",
    "#         alinear = comp_alinear(a0,a1,period,Gamma,phase)\n",
    "#         omega = 2*np.pi/period\n",
    "#         z = Gamma*omega\n",
    "#         print(f\"\\tattraction coefficient: {a0=:.4f}, {a1=:.4f}, {z=:.4f}, {phase=:.4f} --> {alinear=:.4f} cm^2/s\")\n",
    "#         print(f\">>> {alinear=} \\n\")\n",
    "#         print(f\"*************** end data set ********************\")"
   ]
  },
  {
   "cell_type": "code",
   "execution_count": null,
   "id": "b1ee9bf8",
   "metadata": {},
   "outputs": [],
   "source": []
  },
  {
   "cell_type": "code",
   "execution_count": null,
   "id": "040df3ac",
   "metadata": {},
   "outputs": [],
   "source": []
  },
  {
   "cell_type": "code",
   "execution_count": null,
   "id": "8b54c4d7",
   "metadata": {},
   "outputs": [],
   "source": []
  },
  {
   "cell_type": "code",
   "execution_count": 37,
   "id": "844dc95c",
   "metadata": {
    "ExecuteTime": {
     "end_time": "2022-10-12T19:18:05.203132Z",
     "start_time": "2022-10-12T19:18:03.770115Z"
    }
   },
   "outputs": [
    {
     "name": "stdout",
     "output_type": "stream",
     "text": [
      " - FK: mean lifetime: 105.3196 +/- 1.6957 ms (N=36179, p_normal: 0.1561) from 80 termination events\n",
      " - LR: mean lifetime: 33.3659 +/- 0.7189 ms (N=15273, p_normal: 0.4168) from 595 termination events\n"
     ]
    }
   ],
   "source": [
    "#compute minlifetime_values\n",
    "minlifetime_values_fk = df_ranges_fk.groupby(by=['trial_num','annihilation_index'])['tdeath'].max().values\n",
    "meanx,Delta_meanx,num_obsx,p_normalx=comp_mean_bootstrap_uncertainty(minlifetime_values_fk)\n",
    "printing=True\n",
    "if printing:\n",
    "    print(f\" - FK: mean lifetime: {meanx:.4f} +/- {Delta_meanx:.4f} ms (N={num_obsx}, p_normal: {p_normalx:.4f}) from {num_termination_events_fk} termination events\")\n",
    "    \n",
    "minlifetime_values_lr = df_ranges_lr.groupby(by=['trial_num','annihilation_index'])['tdeath'].max().values\n",
    "meanx,Delta_meanx,num_obsx,p_normalx=comp_mean_bootstrap_uncertainty(minlifetime_values_lr)\n",
    "printing=True\n",
    "if printing:\n",
    "    print(f\" - LR: mean lifetime: {meanx:.4f} +/- {Delta_meanx:.4f} ms (N={num_obsx}, p_normal: {p_normalx:.4f}) from {num_termination_events_lr} termination events\")\n",
    "    "
   ]
  },
  {
   "cell_type": "code",
   "execution_count": 38,
   "id": "cf1ac19c",
   "metadata": {
    "ExecuteTime": {
     "end_time": "2022-10-12T19:19:57.668180Z",
     "start_time": "2022-10-12T19:18:06.337726Z"
    }
   },
   "outputs": [
    {
     "name": "stdout",
     "output_type": "stream",
     "text": [
      "fixed D=0.0000 cm^2/s.\n",
      "computing simulated annealing fits of oscillatory particle model to the Fenton-Karma model...\n",
      "mean lifetime: 105.3196 +/- 1.6518 ms (N=36179, p_normal: 0.7491) from 36179 observations\n",
      "performing simulated annealing with D=0 fixed (num. epochs: 10000)...\n",
      "simulated annealing fit: a0=1.6362, a1=1.2822, period=115.9413, phase=-0.5415 --> rmse=0.0284 cm^2\n",
      "\tattraction coefficient: a0=1.6362, a1=1.2822, z=5.7076, phase=-0.5415 --> alinear=1.7812 cm^2/s\n",
      "performing fit using simulated annealing with 10X the number of learning rounds...\n",
      "performing simulated annealing with D=0 fixed (num. epochs: 100000)...\n",
      "simulated annealing fit: a0=1.6362, a1=1.2823, period=115.9535, phase=-0.5407 --> rmse=0.0284 cm^2\n",
      "\tattraction coefficient: a0=1.6362, a1=1.2823, z=5.7070, phase=-0.5407 --> alinear=1.7811 cm^2/s\n",
      "a0=1.6361682120621026\n",
      "a1=1.2823348299592112\n",
      "period=115.9534730283433\n",
      "phase=-0.5406748462891398\n",
      "rmse=0.02843378899909942\n",
      "MSR_offset=0.0\n",
      "alinear=1.7811283375808102\n",
      "omega=0.054187124741349874\n",
      "z=5.706963594376598\n",
      "Gamma=105.31955001520218\n",
      "Delta_Gamma=1.6517857352544512\n",
      "num_obs=36179\n",
      "p_normal=0.7491449164868696\n",
      "\n",
      "computing simulated annealing fits of oscillatory particle model to the Luo-Rudy model...\n",
      "mean lifetime: 33.3659 +/- 0.7281 ms (N=15273, p_normal: 0.2614) from 15273 observations\n",
      "performing simulated annealing with D=0 fixed (num. epochs: 10000)...\n",
      "simulated annealing fit: a0=5.0191, a1=12.1798, period=97.3593, phase=-1.1655 --> rmse=0.0642 cm^2\n",
      "\tattraction coefficient: a0=5.0191, a1=12.1798, z=2.1533, phase=-1.1655 --> alinear=10.1470 cm^2/s\n",
      "performing fit using simulated annealing with 10X the number of learning rounds...\n",
      "performing simulated annealing with D=0 fixed (num. epochs: 100000)...\n",
      "simulated annealing fit: a0=5.0189, a1=12.1878, period=97.3443, phase=-1.1653 --> rmse=0.0642 cm^2\n",
      "\tattraction coefficient: a0=5.0189, a1=12.1878, z=2.1536, phase=-1.1653 --> alinear=10.1496 cm^2/s\n",
      "a0=5.018923976113001\n",
      "a1=12.187821150636779\n",
      "period=97.34434679512998\n",
      "phase=-1.1652798959617319\n",
      "rmse=0.06416601472332405\n",
      "MSR_offset=0.0\n",
      "alinear=10.149576669317444\n",
      "omega=0.06454597019797277\n",
      "z=2.1536369620209865\n",
      "Gamma=33.36593989393047\n",
      "Delta_Gamma=0.7280793867003186\n",
      "num_obs=15273\n",
      "p_normal=0.26142284199093496\n"
     ]
    }
   ],
   "source": [
    "##################################################################\n",
    "# compute simulated annealing fits of oscillatory particle model\n",
    "##################################################################\n",
    "D=0.\n",
    "print(f\"fixed {D=:.4f} cm^2/s.\")\n",
    "print(f\"computing simulated annealing fits of oscillatory particle model to the Fenton-Karma model...\")\n",
    "# select msr from the full models for fitting\n",
    "x_values=x_values_fk.copy()\n",
    "y_values=y_values_fk.copy()\n",
    "minlifetime_values=minlifetime_values_fk.copy()\n",
    "\n",
    "#### \n",
    "\n",
    "# max_tdeath=100. #ms #for lr\n",
    "max_tdeath=300. #ms #for fk\n",
    "meanx,Delta_meanx,num_obsx,p_normalx=comp_mean_bootstrap_uncertainty(minlifetime_values)\n",
    "Gamma=float(meanx)\n",
    "# testing=False \n",
    "testing=True # True adds ~60 - 6.27 seconds to runtime\n",
    "if printing:\n",
    "    print(f\"mean lifetime: {meanx:.4f} +/- {Delta_meanx:.4f} ms (N={num_obsx}, p_normal: {p_normalx:.4f}) from {minlifetime_values.shape[0]} observations\")\n",
    "#fit using simulated annealing\n",
    "a0,a1,period,phase,rmse = fit_msr_oscillatory(x_values,y_values,max_tdeath,\n",
    "                                    D=0.,maxiter=10000,seed=42,printing=printing)\n",
    "alinear = comp_alinear(a0,a1,period,Gamma,phase)\n",
    "omega = 2*np.pi/period\n",
    "z = Gamma*omega\n",
    "print(f\"\\tattraction coefficient: {a0=:.4f}, {a1=:.4f}, {z=:.4f}, {phase=:.4f} --> {alinear=:.4f} cm^2/s\")\n",
    "dict_fit=dict(a0=a0,a1=a1,period=period,phase=phase,rmse=rmse,MSR_offset=0.,\n",
    "              alinear=alinear,omega=omega,z=z,Gamma=Gamma, Delta_Gamma=Delta_meanx, num_obs=num_obsx, p_normal=p_normalx)\n",
    "if not testing:\n",
    "    print_dict(dict_fit)\n",
    "\n",
    "if testing:\n",
    "    print(f\"performing fit using simulated annealing with 10X the number of learning rounds...\")\n",
    "    a0,a1,period,phase,rmse = fit_msr_oscillatory(x_values,y_values,max_tdeath,\n",
    "                                        D=0.,maxiter=100000,seed=43,printing=printing)\n",
    "    alinear = comp_alinear(a0,a1,period,Gamma,phase)\n",
    "    omega = 2*np.pi/period\n",
    "    z = Gamma*omega\n",
    "    print(f\"\\tattraction coefficient: {a0=:.4f}, {a1=:.4f}, {z=:.4f}, {phase=:.4f} --> {alinear=:.4f} cm^2/s\")\n",
    "    dict_fit=dict(a0=a0,a1=a1,period=period,phase=phase,rmse=rmse,MSR_offset=0.,\n",
    "                  alinear=alinear,omega=omega,z=z,Gamma=Gamma, Delta_Gamma=Delta_meanx, num_obs=num_obsx, p_normal=p_normalx)\n",
    "    print_dict(dict_fit)    \n",
    "    \n",
    "dict_osc_fit_fk=dict(dict_fit)\n",
    "\n",
    "#### \n",
    "print(f\"\\ncomputing simulated annealing fits of oscillatory particle model to the Luo-Rudy model...\")\n",
    "# select msr from the full models for fitting\n",
    "x_values=x_values_lr.copy()\n",
    "y_values=y_values_lr.copy()\n",
    "minlifetime_values=minlifetime_values_lr.copy()\n",
    "max_tdeath=100. #ms #for lr\n",
    "# max_tdeath=300. #ms #for fk\n",
    "meanx,Delta_meanx,num_obsx,p_normalx=comp_mean_bootstrap_uncertainty(minlifetime_values)\n",
    "Gamma=float(meanx)\n",
    "# testing=False \n",
    "# testing=True # True adds ~60 - 6.27 seconds to runtime\n",
    "if printing:\n",
    "    print(f\"mean lifetime: {meanx:.4f} +/- {Delta_meanx:.4f} ms (N={num_obsx}, p_normal: {p_normalx:.4f}) from {minlifetime_values.shape[0]} observations\")\n",
    "#fit using simulated annealing\n",
    "a0,a1,period,phase,rmse = fit_msr_oscillatory(x_values,y_values,max_tdeath,\n",
    "                                    D=0.,maxiter=10000,seed=42,printing=printing)\n",
    "alinear = comp_alinear(a0,a1,period,Gamma,phase)\n",
    "omega = 2*np.pi/period\n",
    "z = Gamma*omega\n",
    "print(f\"\\tattraction coefficient: {a0=:.4f}, {a1=:.4f}, {z=:.4f}, {phase=:.4f} --> {alinear=:.4f} cm^2/s\")\n",
    "dict_fit=dict(a0=a0,a1=a1,period=period,phase=phase,rmse=rmse,MSR_offset=0.,\n",
    "              alinear=alinear,omega=omega,z=z,Gamma=Gamma, Delta_Gamma=Delta_meanx, num_obs=num_obsx, p_normal=p_normalx)\n",
    "if not testing:\n",
    "    print_dict(dict_fit)\n",
    "\n",
    "if testing:\n",
    "    print(f\"performing fit using simulated annealing with 10X the number of learning rounds...\")\n",
    "    a0,a1,period,phase,rmse = fit_msr_oscillatory(x_values,y_values,max_tdeath,\n",
    "                                        D=0.,maxiter=100000,seed=43,printing=printing)\n",
    "    alinear = comp_alinear(a0,a1,period,Gamma,phase)\n",
    "    omega = 2*np.pi/period\n",
    "    z = Gamma*omega\n",
    "    print(f\"\\tattraction coefficient: {a0=:.4f}, {a1=:.4f}, {z=:.4f}, {phase=:.4f} --> {alinear=:.4f} cm^2/s\")\n",
    "    dict_fit=dict(a0=a0,a1=a1,period=period,phase=phase,rmse=rmse,MSR_offset=0.,\n",
    "                  alinear=alinear,omega=omega,z=z,Gamma=Gamma, Delta_Gamma=Delta_meanx, num_obs=num_obsx, p_normal=p_normalx)\n",
    "    print_dict(dict_fit)    \n",
    "\n",
    "dict_osc_fit_lr=dict(dict_fit)\n"
   ]
  },
  {
   "cell_type": "markdown",
   "id": "b3b835ce",
   "metadata": {},
   "source": [
    "# TODO: visualize the plots"
   ]
  },
  {
   "cell_type": "code",
   "execution_count": 39,
   "id": "2e9698a2",
   "metadata": {
    "ExecuteTime": {
     "end_time": "2022-10-12T19:19:58.734602Z",
     "start_time": "2022-10-12T19:19:57.670841Z"
    }
   },
   "outputs": [
    {
     "name": "stdout",
     "output_type": "stream",
     "text": [
      "loaded range timeseries from 80 termination events (FK)\n",
      "df_ranges_fk.shape=(3846532, 9)\n",
      "loaded range timeseries from 595 termination events (LR)\n",
      "df_ranges_lr.shape=(524869, 9)\n"
     ]
    }
   ],
   "source": [
    "#load from full models\n",
    "\n",
    "#load msr data for FK model (200x200) (src: wj)\n",
    "msr_dir_bootstrap_fk=f'/Users/timothytyree/Documents/GitHub/care/notebooks/Data/from_wjr/positions_fk/200x200/tippos_per_c_001_annihilation_msr.csv'\n",
    "range_data_dir_fk=f'/Users/timothytyree/Documents/GitHub/care/notebooks/Data/from_wjr/positions_fk/200x200/tippos_per_c_001_annihilation_range_timeseries.pkl'\n",
    "# msr_dir_bootstrap_fk=f'/home/timothytyree/Documents/GitHub/care/notebooks/Data/from_wjr/positions_fk/200x200/tippos_per_c_001_annihilation_msr.csv'\n",
    "# range_data_dir_fk=f'/home/timothytyree/Documents/GitHub/care/notebooks/Data/from_wjr/positions_fk/200x200/tippos_per_c_001_annihilation_range_timeseries.pkl'\n",
    "df_msr_fk=pd.read_csv(msr_dir_bootstrap_fk)\n",
    "#load apparent ranges\n",
    "data_lst=load_from_pickle(range_data_dir_fk)\n",
    "num_termination_events_fk = len(data_lst)\n",
    "print(f\"loaded range timeseries from {num_termination_events_fk} termination events (FK)\")\n",
    "df_ranges_fk=pd.concat(data_lst)\n",
    "del data_lst\n",
    "print(f\"{df_ranges_fk.shape=}\")\n",
    "\n",
    "#load msr data for LR model (200x200) (src: wj)\n",
    "msr_dir_bootstrap_lr=f'/Users/timothytyree/Documents/GitHub/care/notebooks/Data/from_wjr/positions_lr/200x200/tippos_per_001_annihilation_msr.csv'\n",
    "range_data_dir_lr=f'/Users/timothytyree/Documents/GitHub/care/notebooks/Data/from_wjr/positions_lr/200x200/tippos_per_001_annihilation_range_timeseries.pkl'\n",
    "# msr_dir_bootstrap_lr=f'/home/timothytyree/Documents/GitHub/care/notebooks/Data/from_wjr/positions_lr/200x200/tippos_per_001_annihilation_msr.csv'\n",
    "# range_data_dir_lr=f'/home/timothytyree/Documents/GitHub/care/notebooks/Data/from_wjr/positions_lr/200x200/tippos_per_001_annihilation_range_timeseries.pkl'\n",
    "df_msr_lr=pd.read_csv(msr_dir_bootstrap_lr)\n",
    "#load apparent ranges\n",
    "data_lst=load_from_pickle(range_data_dir_lr)\n",
    "num_termination_events_lr = len(data_lst)\n",
    "print(f\"loaded range timeseries from {num_termination_events_lr} termination events (LR)\")\n",
    "df_ranges_lr=pd.concat(data_lst)\n",
    "del data_lst\n",
    "print(f\"{df_ranges_lr.shape=}\")"
   ]
  },
  {
   "cell_type": "code",
   "execution_count": null,
   "id": "0fffcc92",
   "metadata": {},
   "outputs": [],
   "source": []
  },
  {
   "cell_type": "code",
   "execution_count": 40,
   "id": "54b36cc9",
   "metadata": {
    "ExecuteTime": {
     "end_time": "2022-10-12T19:19:58.971486Z",
     "start_time": "2022-10-12T19:19:58.736757Z"
    }
   },
   "outputs": [
    {
     "data": {
      "image/png": "[encoded data removed]",
      "text/plain": [
       "<Figure size 600x400 with 1 Axes>"
      ]
     },
     "metadata": {},
     "output_type": "display_data"
    }
   ],
   "source": [
    "#extract xy values from full\n",
    "x_values_fk=df_msr_fk['tdeath_avg'].values\n",
    "y_values_fk=df_msr_fk['MSR'].values\n",
    "yerr_values_fk=df_msr_fk['Delta_MSR'].values\n",
    "x_values_lr=df_msr_lr['tdeath_avg'].values\n",
    "y_values_lr=df_msr_lr['MSR'].values\n",
    "yerr_values_lr=df_msr_lr['Delta_MSR'].values\n",
    "\n",
    "\n",
    "#plot MSR_Osc over the direct simulation results\n",
    "lw=2\n",
    "alpha=0.4\n",
    "# fontsize=16\n",
    "fontsize=18\n",
    "# # figsize=(8,4.2)\n",
    "# figsize=(4,4.2)\n",
    "figsize=(6,4)\n",
    "# fontsize=15\n",
    "### plot expected\n",
    "# fontsize=20\n",
    "tscale=1e-3\n",
    "\n",
    "fig,ax=plt.subplots(figsize=(6,4))\n",
    "#plot simulated annealing fits of oscillatory particle model\n",
    "MSR_offset=dict_osc_fit_lr['MSR_offset']\n",
    "phi_f = dict_osc_fit_lr['phase']\n",
    "omega = dict_osc_fit_lr['omega']*1e3\n",
    "a = dict_osc_fit_lr['a1']\n",
    "D = dict_osc_fit_lr['a0']/2\n",
    "t_values=np.linspace(0,1,1000)\n",
    "# MSR_values_oscillatory=4*(a*t_values+(2*D/omega)*(np.sin(omega*t_values+phi_f))+constant\n",
    "MSR_values_oscillatory=4*(2*D*t_values+(a/omega)*(np.sin(omega*t_values+phi_f)-np.sin(phi_f))) + MSR_offset\n",
    "ax.plot(t_values,MSR_values_oscillatory,c='C3',\n",
    "                label=r'Osc. Particle Fit to FK')\n",
    "#                 label=r'$MSR_{Osc.}(a=a_{FK},\\phi_f=-\\frac{\\pi}{2})$')\n",
    "phi_f = dict_osc_fit_fk['phase']\n",
    "omega = dict_osc_fit_fk['omega']*1e3\n",
    "a = dict_osc_fit_fk['a1']\n",
    "D = dict_osc_fit_fk['a0']/2\n",
    "# t_values=np.linspace(0,1,1000)\n",
    "MSR_offset=dict_osc_fit_fk['MSR_offset']\n",
    "# MSR_values_oscillatory=4*(a*t_values+(2*D/omega)*(np.sin(omega*t_values+phi_f))+constant\n",
    "MSR_values_oscillatory=4*(2*D*t_values+(a/omega)*(np.sin(omega*t_values+phi_f)-np.sin(phi_f)))+MSR_offset\n",
    "ax.plot(t_values,MSR_values_oscillatory,c='k',#'C2',\n",
    "                label=r'Osc. Particle Fit to LR')\n",
    "\n",
    "#plot the linear particle model\n",
    "amax_fk = 1.781\n",
    "amax_lr = 10.147\n",
    "ax.plot(t_values,4*amax_fk*t_values,c='k',linestyle='dashed')\n",
    "ax.plot(t_values,4*amax_lr*t_values,c='C3',linestyle='dashed')\n",
    "# ax.plot(t_values,4*amax_fk*t_values,c='C0',linestyle='dashed')\n",
    "# ax.plot(t_values,4*amax_lr*t_values,c='C1',linestyle='dashed')\n",
    "\n",
    "# #plot the direct simulation of the oscillatory particle model under these same parameter settings\n",
    "# stepsize=2500\n",
    "# plt.scatter(dict_fit_fk['tdeath'][::stepsize],dict_fit_fk['MSR'][::stepsize],lw=2,alpha=.7,c='k',#'C2',\n",
    "#             marker='x')#,label='Simulation of Osc. (FK)')\n",
    "# stepsize=1000\n",
    "# plt.scatter(dict_fit_lr['tdeath'][::stepsize],dict_fit_lr['MSR'][::stepsize],lw=2,alpha=.7,c='C3',\n",
    "#             marker='x')#,label='Simulation of Osc. (LR)')\n",
    "\n",
    "#plot msd data from full\n",
    "ax.plot(x_values_fk*tscale,y_values_fk,lw=2,alpha=0.8,c='C0')\n",
    "ax.fill_between(x_values_fk*tscale,y_values_fk-yerr_values_fk,y_values_fk+yerr_values_fk,lw=lw,alpha=alpha,color='C0')\n",
    "ax.plot(x_values_lr*tscale,y_values_lr,lw=2,alpha=0.8,c='C1')\n",
    "ax.fill_between(x_values_lr*tscale,y_values_lr-yerr_values_lr,y_values_lr+yerr_values_lr,lw=lw,alpha=alpha,color='C1')\n",
    "\n",
    "#format_plot\n",
    "# format_plot(ax=ax,xlabel=r'$t_f-t$ (seconds)',ylabel=r'MSR (cm$^2$)',fontsize=fontsize)\n",
    "format_plot(ax=ax,xlabel=r\"$t'\\equiv t_f-t$ (s)\",ylabel=r'MSR (cm$^2$)',fontsize=fontsize)\n",
    "ax.tick_params(bottom=True,left=True,top=True, right=True,direction='in',which='both')\n",
    "ax.legend(fontsize=16,frameon=False)\n",
    "xticklabels = [str(x) for x in ax.get_xticks()]\n",
    "xticklabels[0] = '0'\n",
    "ax.set_xticklabels(xticklabels)\n",
    "plt.xlim([0,1])\n",
    "plt.ylim([0,4.6])\n",
    "# plt.ylim([0,5.1])\n",
    "# plt.ylim([0,14.1])\n",
    "plt.show()"
   ]
  },
  {
   "cell_type": "code",
   "execution_count": null,
   "id": "2f2b8bc6",
   "metadata": {},
   "outputs": [],
   "source": []
  },
  {
   "cell_type": "code",
   "execution_count": null,
   "id": "6e28ee07",
   "metadata": {},
   "outputs": [],
   "source": []
  }
 ],
 "metadata": {
  "hide_input": false,
  "kernelspec": {
   "display_name": "Python 3 (ipykernel)",
   "language": "python",
   "name": "python3"
  },
  "language_info": {
   "codemirror_mode": {
    "name": "ipython",
    "version": 3
   },
   "file_extension": ".py",
   "mimetype": "text/x-python",
   "name": "python",
   "nbconvert_exporter": "python",
   "pygments_lexer": "ipython3",
   "version": "3.9.5"
  },
  "latex_envs": {
   "LaTeX_envs_menu_present": true,
   "autoclose": true,
   "autocomplete": false,
   "bibliofile": "biblio.bib",
   "cite_by": "apalike",
   "current_citInitial": 1,
   "eqLabelWithNumbers": false,
   "eqNumInitial": 1,
   "hotkeys": {
    "equation": "Ctrl-E",
    "itemize": "Ctrl-I"
   },
   "labels_anchors": false,
   "latex_user_defs": false,
   "report_style_numbering": false,
   "user_envs_cfg": false
  },
  "nbTranslate": {
   "displayLangs": [
    "*"
   ],
   "hotkey": "alt-t",
   "langInMainMenu": true,
   "sourceLang": "en",
   "targetLang": "fr",
   "useGoogleTranslate": true
  },
  "toc": {
   "base_numbering": 1,
   "nav_menu": {},
   "number_sections": true,
   "sideBar": true,
   "skip_h1_title": false,
   "title_cell": "Table of Contents",
   "title_sidebar": "Contents",
   "toc_cell": false,
   "toc_position": {},
   "toc_section_display": true,
   "toc_window_display": false
  }
 },
 "nbformat": 4,
 "nbformat_minor": 5
}
