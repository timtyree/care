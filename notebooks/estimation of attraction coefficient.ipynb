{
 "cells": [
  {
   "cell_type": "markdown",
   "id": "e11f8f8c",
   "metadata": {
    "ExecuteTime": {
     "end_time": "2022-10-07T23:35:30.260432Z",
     "start_time": "2022-10-07T23:35:30.125644Z"
    }
   },
   "source": [
    "# estimation of attraction coefficient\n",
    "Tim Tyree<br>\n",
    "10.7.2022"
   ]
  },
  {
   "cell_type": "code",
   "execution_count": 63,
   "id": "a1022710",
   "metadata": {
    "ExecuteTime": {
     "end_time": "2022-10-08T01:06:30.822721Z",
     "start_time": "2022-10-08T01:06:30.727901Z"
    }
   },
   "outputs": [
    {
     "name": "stdout",
     "output_type": "stream",
     "text": [
      "The autoreload extension is already loaded. To reload it, use:\n",
      "  %reload_ext autoreload\n"
     ]
    }
   ],
   "source": [
    "from IPython.display import clear_output\n",
    "clear_output(wait=True)\n",
    "\n",
    "import sys,os\n",
    "og_stdout=sys.stdout\n",
    "from lib.my_initialization import *\n",
    "\n",
    "os.chdir(nb_dir)\n",
    "from lib import *\n",
    "\n",
    "# import cupy, cudf\n",
    "# from lib.rapids_func import *\n",
    "\n",
    "import seaborn as sns\n",
    "import matplotlib.ticker as mtick\n",
    "\n",
    "import warnings\n",
    "warnings.simplefilter(\"ignore\", UserWarning)\n",
    "%load_ext autoreload\n",
    "%autoreload 2"
   ]
  },
  {
   "cell_type": "code",
   "execution_count": 71,
   "id": "57b0c2da",
   "metadata": {
    "ExecuteTime": {
     "end_time": "2022-10-08T01:10:06.368994Z",
     "start_time": "2022-10-08T01:10:06.318752Z"
    }
   },
   "outputs": [],
   "source": [
    "# !pwd"
   ]
  },
  {
   "cell_type": "code",
   "execution_count": 70,
   "id": "87ac474d",
   "metadata": {
    "ExecuteTime": {
     "end_time": "2022-10-08T01:10:03.389915Z",
     "start_time": "2022-10-08T01:10:03.263534Z"
    }
   },
   "outputs": [],
   "source": [
    "from lib.model.attraction_sim_anneal_fit import comp_square_error_msr_aff_osc_period_fixed"
   ]
  },
  {
   "cell_type": "code",
   "execution_count": 2,
   "id": "a5b4ffe9",
   "metadata": {
    "ExecuteTime": {
     "end_time": "2022-10-07T23:40:04.352950Z",
     "start_time": "2022-10-07T23:40:04.295168Z"
    }
   },
   "outputs": [],
   "source": [
    "# from scipy.optimize import minimize\n",
    "from scipy.optimize import dual_annealing"
   ]
  },
  {
   "cell_type": "code",
   "execution_count": 4,
   "id": "43aadfdf",
   "metadata": {
    "ExecuteTime": {
     "end_time": "2022-10-07T23:40:41.178516Z",
     "start_time": "2022-10-07T23:40:41.123715Z"
    },
    "run_control": {
     "marked": true
    }
   },
   "outputs": [],
   "source": [
    "plt.close()\n",
    "#reset matplotlib settings\n",
    "import matplotlib as mpl\n",
    "sns.reset_orig()\n",
    "mpl.rc_file_defaults()"
   ]
  },
  {
   "cell_type": "code",
   "execution_count": null,
   "id": "77e61b3b",
   "metadata": {},
   "outputs": [],
   "source": []
  },
  {
   "cell_type": "markdown",
   "id": "1261a81a",
   "metadata": {},
   "source": [
    "# define module"
   ]
  },
  {
   "cell_type": "code",
   "execution_count": null,
   "id": "89c47cef",
   "metadata": {},
   "outputs": [],
   "source": []
  },
  {
   "cell_type": "markdown",
   "id": "b5b14862",
   "metadata": {},
   "source": [
    "# TODO: back of envelop estimation of amax"
   ]
  },
  {
   "cell_type": "code",
   "execution_count": 14,
   "id": "aa748d48",
   "metadata": {
    "ExecuteTime": {
     "end_time": "2022-10-07T23:50:07.185002Z",
     "start_time": "2022-10-07T23:50:07.131947Z"
    }
   },
   "outputs": [
    {
     "data": {
      "text/plain": [
       "(1.0657644824311492, 5.540905004495055)"
      ]
     },
     "execution_count": 14,
     "metadata": {},
     "output_type": "execute_result"
    }
   ],
   "source": [
    "#TODO: dev run #30 (L=5) (and #31 (L=10)) using the following:\n",
    "###########################\n",
    "# mean min lifetime: Gamma\n",
    "###########################\n",
    "tscale=1e-3 #s per ms\n",
    "lifetime_fk= 105.3 # (1.6) ms\n",
    "lifetime_lr= 33.37 # (73) ms\n",
    "Gamma_fk = lifetime_fk*tscale\n",
    "Gamma_lr = lifetime_lr*tscale\n",
    "\n",
    "###########################\n",
    "# rms range: Gamma\n",
    "###########################\n",
    "R_rms_fk = 0.67 # ± 0.06 cm\n",
    "R_rms_lr = 0.86 # ± 0.07 cm\n",
    "\n",
    "######################################################\n",
    "# max attraction coefficient: amax (Method 1, b.o.e.)\n",
    "######################################################\n",
    "mean_squared_distance_fk = R_rms_fk**2\n",
    "mean_squared_distance_lr = R_rms_lr**2\n",
    "alinear_boe_fk = (mean_squared_distance_fk / Gamma_fk) / 4\n",
    "alinear_boe_lr = (mean_squared_distance_lr / Gamma_lr) / 4\n",
    "alinear_boe_fk,alinear_boe_lr"
   ]
  },
  {
   "cell_type": "code",
   "execution_count": 17,
   "id": "ac444a2e",
   "metadata": {
    "ExecuteTime": {
     "end_time": "2022-10-07T23:52:12.095109Z",
     "start_time": "2022-10-07T23:52:12.038155Z"
    }
   },
   "outputs": [
    {
     "name": "stdout",
     "output_type": "stream",
     "text": [
      "T_fk=0.2116 s\n",
      "T_lr=0.0971 s\n"
     ]
    }
   ],
   "source": [
    "############################\n",
    "# mean rotational period: T\n",
    "############################\n",
    "# #src: http://localhost:8889/notebooks/computing%20rotational%20period%20of%20mean%20fortranic%20spiral%20trajectories.ipynb\n",
    "# - LR: mean number of loops per particle lifetime: 0.3438\n",
    "# - FK: mean number of loops per particle lifetime: 0.4976\n",
    "# - FK(backup, failing ^that): mean number of loops per particle lifetime (at least 1 loop): 0.9131\n",
    "T_fk = Gamma_fk / 0.4976 #0.9131\n",
    "T_lr = Gamma_lr / 0.3438\n",
    "print(f\"{T_fk=:.4f} s\")\n",
    "print(f\"{T_lr=:.4f} s\")"
   ]
  },
  {
   "cell_type": "code",
   "execution_count": 60,
   "id": "a6556b92",
   "metadata": {
    "ExecuteTime": {
     "end_time": "2022-10-08T00:57:28.222682Z",
     "start_time": "2022-10-08T00:57:28.130121Z"
    }
   },
   "outputs": [
    {
     "name": "stdout",
     "output_type": "stream",
     "text": [
      "alinear_boe_fk=1.9325 cm^2/s\n",
      "alinear_boe_lr=8.6303 cm^2/s\n"
     ]
    }
   ],
   "source": [
    "#print back of envelope estimates for alinear for each of the estimates of the mean squared distance between spiral tips\n",
    "######################################################\n",
    "# max attraction coefficient: amax (Method 1, b.o.e.)\n",
    "######################################################\n",
    "\n",
    "mean_squared_distance_fk =  0.9022**2\n",
    "mean_squared_distance_lr = 1.0733**2\n",
    "# mean_squared_distance_fk =  0.5263**2\n",
    "# mean_squared_distance_lr = 0.6635**2\n",
    "# mean_squared_distance_fk =  1.1521\n",
    "# mean_squared_distance_lr = 1.6040\n",
    "# mean_squared_distance_fk = R_rms_fk**2\n",
    "# mean_squared_distance_lr = R_rms_lr**2\n",
    "alinear_boe_fk = (mean_squared_distance_fk / Gamma_fk) / 4\n",
    "alinear_boe_lr = (mean_squared_distance_lr / Gamma_lr) / 4\n",
    "print(f\"{alinear_boe_fk=:.4f} cm^2/s\")\n",
    "print(f\"{alinear_boe_lr=:.4f} cm^2/s\")"
   ]
  },
  {
   "cell_type": "code",
   "execution_count": null,
   "id": "1f74fde2",
   "metadata": {},
   "outputs": [],
   "source": []
  },
  {
   "cell_type": "code",
   "execution_count": null,
   "id": "b775c0f8",
   "metadata": {},
   "outputs": [],
   "source": []
  },
  {
   "cell_type": "markdown",
   "id": "266821b1",
   "metadata": {},
   "source": [
    "# TODO(later): estimate alinear for fixed period"
   ]
  },
  {
   "cell_type": "code",
   "execution_count": 33,
   "id": "6300f603",
   "metadata": {
    "ExecuteTime": {
     "end_time": "2022-10-08T00:04:48.807773Z",
     "start_time": "2022-10-08T00:04:48.760039Z"
    }
   },
   "outputs": [
    {
     "name": "stdout",
     "output_type": "stream",
     "text": [
      "/Users/timothytyree/Documents/GitHub/care/notebooks/Data/from_wjr/positions_fk/200x200/tippos_per_c_001_annihilation_range_timeseries.pkl\n",
      "/Users/timothytyree/Documents/GitHub/care/notebooks/Data/from_wjr/positions_lr/200x200/tippos_per_001_annihilation_range_timeseries.pkl\n",
      "^those exist\n"
     ]
    }
   ],
   "source": [
    "#####################\n",
    "# Fenton-Karma\n",
    "#####################\n",
    "range_data_dir_lst=[\n",
    "    '/Users/timothytyree/Documents/GitHub/care/notebooks/Data/from_wjr/positions_fk/200x200/tippos_per_c_001_annihilation_range_timeseries.pkl',\n",
    "    '/Users/timothytyree/Documents/GitHub/care/notebooks/Data/from_wjr/positions_lr/200x200/tippos_per_001_annihilation_range_timeseries.pkl',    \n",
    "#     '/home/timothytyree/Documents/GitHub/care/notebooks/Data/from_wjr/positions_fk/200x200/tippos_per_c_001_annihilation_range_timeseries.pkl',\n",
    "#     '/home/timothytyree/Documents/GitHub/care/notebooks/Data/from_wjr/positions_lr/200x200/tippos_per_001_annihilation_range_timeseries.pkl',    \n",
    "]\n",
    "\n",
    "# #####################\n",
    "# # Luo-Rudy\n",
    "# #####################\n",
    "#runtime ~13 minutes\n",
    "# range_data_dir_lst=[\n",
    "#     '/home/timothytyree/Documents/GitHub/care/notebooks/Data/from_wjr/positions_lr/200x200/tippos_per_001_annihilation_range_timeseries.pkl',\n",
    "#     '/home/timothytyree/Documents/GitHub/care/notebooks/Data/from_wjr/positions_lr/250x250/tippos_per_c_001_annihilation_range_timeseries.pkl',\n",
    "#     '/home/timothytyree/Documents/GitHub/care/notebooks/Data/from_wjr/positions_lr/300x300/tippos_per_c_001_annihilation_range_timeseries.pkl',\n",
    "#     '/home/timothytyree/Documents/GitHub/care/notebooks/Data/from_wjr/positions_lr/350x350/tippos_per_c_001_annihilation_range_timeseries.pkl',\n",
    "#     '/home/timothytyree/Documents/GitHub/care/notebooks/Data/from_wjr/positions_lr/400x400/tippos_per_c_001_annihilation_range_timeseries.pkl',\n",
    "#     #'/home/timothytyree/Documents/GitHub/care/notebooks/Data/from_wjr/positions_lr/500x500/tippos_per_001_annihilation_range_timeseries.pkl',\n",
    "#     #^this one is too big to track in a reasonable amount of time...     \n",
    "# ]\n",
    "for fn in range_data_dir_lst:\n",
    "    print(f\"{fn}\")\n",
    "    assert os.path.exists(fn)\n",
    "print(f\"^those exist\")"
   ]
  },
  {
   "cell_type": "code",
   "execution_count": 96,
   "id": "609d40ca",
   "metadata": {
    "ExecuteTime": {
     "end_time": "2022-10-08T01:36:18.522027Z",
     "start_time": "2022-10-08T01:36:18.470061Z"
    }
   },
   "outputs": [],
   "source": [
    "#HINT: sim. anneal routine that calculates amax unconstrained\n",
    "# max_tdeath=100. #ms #LR\n",
    "max_tdeath=300. #ms FK\n",
    "printing=True\n",
    "D=0\n",
    "use_sim_anneal=True\n",
    "repeat_w_10X=True"
   ]
  },
  {
   "cell_type": "code",
   "execution_count": 97,
   "id": "3aa81fde",
   "metadata": {
    "ExecuteTime": {
     "end_time": "2022-10-08T01:42:18.733945Z",
     "start_time": "2022-10-08T01:36:24.450207Z"
    }
   },
   "outputs": [
    {
     "name": "stdout",
     "output_type": "stream",
     "text": [
      "printing for two file sets: FK and then LR...\n",
      "\n",
      "range_data_dir='/Users/timothytyree/Documents/GitHub/care/notebooks/Data/from_wjr/positions_fk/200x200/tippos_per_c_001_annihilation_range_timeseries.pkl'\n",
      "loaded range timeseries from 80 termination events\n",
      "df.shape=(3846532, 9)\n",
      " - o - mean lifetime: 105.3196 +/- 1.6647 ms (N=36179, p_normal: 0.3357) from 80 termination events\n",
      "averages for spiral tip pairs:\n",
      " - x - particle average first: mean range: 0.5263 +/- 0.0034 ms (N=36179, p_normal: 0.9875) from 80 termination events\n",
      " - x - particle average first: mean range: 0.5263 +/- 0.0034 ms (N=36179, p_normal: 0.9875) from 80 termination events\n",
      " - o - all positions together (use this one!): mean range: 0.9022 +/- 0.0006 ms (N=3846532, p_normal: 0.2255) from 80 termination events\n",
      " - o - all positions together (use this one!): root mean squared range: 1.0734 +/- 0.0182 ms (N=3846532, p_normal: 0.3241) from 80 termination events\n",
      " - o - all positions together (use this one!): mean squared range: 1.1521 +/- 0.0015 ms (N=3846532, p_normal: 0.3241) from 80 termination events\n",
      "loading bootstrapped mean...\n",
      "running simulated annealing for 10000 epochs...\n",
      "max_tdeath=300.0 ms\n",
      "src: msr_dir_bootstrap='/Users/timothytyree/Documents/GitHub/care/notebooks/Data/from_wjr/positions_fk/200x200/tippos_per_c_001_annihilation_msr.csv'\n",
      "num. epochs: 10000\n",
      "simulated annealing fit: a0=0.999994077, a1=2.759678053, period=211.615755627, phase=-1.295445919 --> rmse=0.370671191 cm^2\n",
      "\tattraction coefficient: a0=1.0000, a1=2.7597, z=3.1271, phase=-1.2954 --> alinear=1.8401 cm^2/s\n",
      ">>> alinear=1.8400758076920944 \n",
      "\n",
      "running simulated annealing for 100000 epochs...\n",
      "simulated annealing fit: a0=0.999999860, a1=2.760078639, period=211.615755627, phase=-1.295487528 --> rmse=0.370668390 cm^2\n",
      "\tattraction coefficient: a0=1.0000, a1=2.7601, z=3.1271, phase=-1.2955 --> alinear=1.8402 cm^2/s\n",
      ">>> alinear=1.8402023397115908 \n",
      "\n",
      "*************** end data set ********************\n",
      "\n",
      "range_data_dir='/Users/timothytyree/Documents/GitHub/care/notebooks/Data/from_wjr/positions_lr/200x200/tippos_per_001_annihilation_range_timeseries.pkl'\n",
      "loaded range timeseries from 595 termination events\n",
      "df.shape=(524869, 9)\n",
      " - o - mean lifetime: 33.3659 +/- 0.7113 ms (N=15273, p_normal: 0.8152) from 595 termination events\n",
      "averages for spiral tip pairs:\n",
      " - x - particle average first: mean range: 0.6635 +/- 0.0072 ms (N=15273, p_normal: 0.0290) from 595 termination events\n",
      " - x - particle average first: mean range: 0.6635 +/- 0.0072 ms (N=15273, p_normal: 0.0290) from 595 termination events\n",
      " - o - all positions together (use this one!): mean range: 1.0733 +/- 0.0018 ms (N=524869, p_normal: 0.2026) from 595 termination events\n",
      " - o - all positions together (use this one!): root mean squared range: 1.2665 +/- 0.0281 ms (N=524869, p_normal: 0.4721) from 595 termination events\n",
      " - o - all positions together (use this one!): mean squared range: 1.6040 +/- 0.0051 ms (N=524869, p_normal: 0.4721) from 595 termination events\n",
      "loading bootstrapped mean...\n",
      "running simulated annealing for 10000 epochs...\n",
      "max_tdeath=100.0 ms\n",
      "src: msr_dir_bootstrap='/Users/timothytyree/Documents/GitHub/care/notebooks/Data/from_wjr/positions_lr/200x200/tippos_per_001_annihilation_msr.csv'\n",
      "num. epochs: 10000\n",
      "simulated annealing fit: a0=0.999999301, a1=21.644756293, period=97.062245492, phase=-1.721520409 --> rmse=0.661599330 cm^2\n",
      "\tattraction coefficient: a0=1.0000, a1=21.6448, z=2.1599, phase=-1.7215 --> alinear=8.5850 cm^2/s\n",
      ">>> alinear=8.585030312541999 \n",
      "\n",
      "running simulated annealing for 100000 epochs...\n",
      "simulated annealing fit: a0=0.999999301, a1=21.644756293, period=97.062245492, phase=-1.721520409 --> rmse=0.661599330 cm^2\n",
      "\tattraction coefficient: a0=1.0000, a1=21.6448, z=2.1599, phase=-1.7215 --> alinear=8.5850 cm^2/s\n",
      ">>> alinear=8.585030312541999 \n",
      "\n",
      "*************** end data set ********************\n"
     ]
    }
   ],
   "source": [
    "#DONE: recall rotational period, T in seconds\n",
    "max_tdeath_lst=[300.,100.,] #ms\n",
    "T_lst=[T_fk,T_lr] #s\n",
    "\n",
    "msr_dir_bootstrap_fk = '/Users/timothytyree/Documents/GitHub/care/notebooks/Data/from_wjr/positions_fk/200x200/tippos_per_c_001_annihilation_msr.csv'\n",
    "msr_dir_bootstrap_lr = '/Users/timothytyree/Documents/GitHub/care/notebooks/Data/from_wjr/positions_lr/200x200/tippos_per_001_annihilation_msr.csv'\n",
    "msr_dir_bootstrap_lst=[msr_dir_bootstrap_fk,msr_dir_bootstrap_lr]\n",
    "print(f\"printing for two file sets: FK and then LR...\")\n",
    "# for max_tdeath,T,range_data_dir in zip(reversed(max_tdeath_lst),reversed(T_lst),reversed(range_data_dir_lst)):\n",
    "for max_tdeath,T,range_data_dir,msr_dir_bootstrap in zip(max_tdeath_lst,T_lst,range_data_dir_lst,msr_dir_bootstrap_lst):\n",
    "    #DONE: dev sim. anneal routine that calculates amax constrained to T.\n",
    "    # #DONE: perform simulated annealing\n",
    "    # #input: T, Gamma, MSR(t'), D=0\n",
    "    # #output: mean squared distance\n",
    "    # for range_data_dir in range_data_dir_lst:\n",
    "    print(f\"\\n{range_data_dir=}\")\n",
    "    data_lst=load_from_pickle(range_data_dir)\n",
    "    num_termination_events = len(data_lst)\n",
    "    print(f\"loaded range timeseries from {len(data_lst)} termination events\")\n",
    "\n",
    "    df=pd.concat(data_lst)\n",
    "    del data_lst\n",
    "    print(f\"{df.shape=}\")\n",
    "    # compute mean minimum lifetime\n",
    "    minlifetime_values = df.groupby(by=['trial_num','annihilation_index'])['tdeath'].max().values\n",
    "    meanx,Delta_meanx,num_obsx,p_normalx=comp_mean_bootstrap_uncertainty(minlifetime_values)\n",
    "    printing=True\n",
    "    if printing:\n",
    "        print(f\" - o - mean lifetime: {meanx:.4f} +/- {Delta_meanx:.4f} ms (N={num_obsx}, p_normal: {p_normalx:.4f}) from {num_termination_events} termination events\")\n",
    "    Gamma=float(meanx)\n",
    "    meanrange_values = df.groupby(by=['trial_num','annihilation_index'])['R'].mean().values\n",
    "    meanR,Delta_meanR,num_obsR,p_normalR=comp_mean_bootstrap_uncertainty(meanrange_values)\n",
    "    printing=True\n",
    "    if printing:\n",
    "        print(f\"averages for spiral tip pairs:\")\n",
    "        print(f\" - x - particle average first: mean range: {meanR:.4f} +/- {Delta_meanR:.4f} ms (N={num_obsR}, p_normal: {p_normalR:.4f}) from {num_termination_events} termination events\")\n",
    "        #print(f\" - x - particle average first: mean range: {meanR:.4f} +/- {Delta_meanR:.4f} ms (N={num_obsR}, p_normal: {p_normalR:.4f}) from {num_termination_events} termination events\")\n",
    "    #     print(f\" - x - particle average first (not this one!): mean range: {meanR:.4f} +/- {Delta_meanR:.4f} ms (N={num_obsR}, p_normal: {p_normalR:.4f}) from {num_termination_events} termination events\")\n",
    "    meanrange_values = df['R'].values\n",
    "    meanR,Delta_meanR,num_obsR,p_normalR=comp_mean_bootstrap_uncertainty(meanrange_values)\n",
    "    if printing:\n",
    "        print(f\" - o - all positions together (use this one!): mean range: {meanR:.4f} +/- {Delta_meanR:.4f} ms (N={num_obsR}, p_normal: {p_normalR:.4f}) from {num_termination_events} termination events\")\n",
    "    meanSR,Delta_meanSR,num_obsSR,p_normalSR=comp_mean_bootstrap_uncertainty(meanrange_values**2)\n",
    "    if printing:\n",
    "        print(f\" - o - all positions together (use this one!): root mean squared range: {np.sqrt(meanSR):.4f} +/- {0.5*np.sqrt(Delta_meanSR)/np.sqrt(meanSR):.4f} ms (N={num_obsSR}, p_normal: {p_normalSR:.4f}) from {num_termination_events} termination events\")\n",
    "        print(f\" - o - all positions together (use this one!): mean squared range: {meanSR:.4f} +/- {Delta_meanSR:.4f} ms (N={num_obsSR}, p_normal: {p_normalSR:.4f}) from {num_termination_events} termination events\")\n",
    "    if printing:\n",
    "        print(f\"loading bootstrapped mean...\")\n",
    "    df_bootstrap = pd.read_csv(msr_dir_bootstrap)\n",
    "    x_values=df_bootstrap['tdeath_avg'].values\n",
    "    y_values=df_bootstrap['MSR'].values\n",
    "    yerr_values=df_bootstrap['Delta_MSR'].values\n",
    "    x_values.shape,y_values.shape,yerr_values.shape\n",
    "    # optionally fit alinear with simulated annealing\n",
    "    # select msr from the full models for fitting\n",
    "    boo=x_values<max_tdeath\n",
    "    t_values=x_values[boo].copy()*1e-3\n",
    "    msr_values=y_values[boo].copy() \n",
    "    # msr_values-= np.min(msr_values) #rmse = 0.58  with this uncommented\n",
    "    #rmse = 0.66  with zero not subtracted.  also alinear was larger for LR model\n",
    "    maxiter=10000\n",
    "    print(f\"running simulated annealing for {maxiter} epochs...\")\n",
    "    # bounds = ((0, 100), (0, 100), (50, 300), (-3.15,3.15))\n",
    "    bounds = ((0, 1.), (0, 10000.), (-3.15,3.15))\n",
    "    # msr_dir_bootstrap = msr_dir_bootstrap_lr\n",
    "    print(f\"{max_tdeath=} ms\")\n",
    "    print(f\"src: {msr_dir_bootstrap=}\")\n",
    "    if use_sim_anneal:\n",
    "        maxiter=10000\n",
    "        print(f\"num. epochs: {maxiter}\")\n",
    "        #x0=a0,a1,phase\n",
    "        period=T*1e3 #bc period is in milliseconds\n",
    "        args=t_values,msr_values,D,period\n",
    "        res = dual_annealing(comp_square_error_msr_aff_osc_period_fixed,\n",
    "                    bounds=bounds,\n",
    "                    args=args,\n",
    "                   maxiter=maxiter,seed=42,\n",
    "                   no_local_search=True)#,**kwargs)\n",
    "\n",
    "        rmse= np.sqrt(res.fun/t_values.shape[0])\n",
    "        a0,a1,phase=res.x\n",
    "        print(f\"simulated annealing fit: {a0=:.9f}, {a1=:.9f}, {period=:.9f}, {phase=:.9f} --> {rmse=:.9f} cm^2\")\n",
    "\n",
    "        alinear = comp_alinear(a0,a1,period,Gamma,phase)\n",
    "        omega = 2*np.pi/period\n",
    "        z = Gamma*omega\n",
    "        print(f\"\\tattraction coefficient: {a0=:.4f}, {a1=:.4f}, {z=:.4f}, {phase=:.4f} --> {alinear=:.4f} cm^2/s\")\n",
    "        print(f\">>> {alinear=} \\n\")\n",
    "        #print(f\"*************** end data set ********************\")\n",
    "\n",
    "        if repeat_w_10X:\n",
    "            #optionally repeat at 10X number of epochs\n",
    "            maxiter=100000\n",
    "            print(f\"running simulated annealing for {maxiter} epochs...\")\n",
    "            #x0=a0,a1,phase\n",
    "            #period=T*1e3 #bc period is in milliseconds\n",
    "            #args=t_values,msr_values,D,period\n",
    "            res = dual_annealing(comp_square_error_msr_aff_osc_period_fixed,\n",
    "                        bounds=bounds,\n",
    "                        args=args,\n",
    "                       maxiter=maxiter,seed=42,\n",
    "                       no_local_search=True)#,**kwargs)\n",
    "\n",
    "            rmse= np.sqrt(res.fun/t_values.shape[0])\n",
    "            a0,a1,phase=res.x\n",
    "            print(f\"simulated annealing fit: {a0=:.9f}, {a1=:.9f}, {period=:.9f}, {phase=:.9f} --> {rmse=:.9f} cm^2\")\n",
    "\n",
    "            alinear = comp_alinear(a0,a1,period,Gamma,phase)\n",
    "            omega = 2*np.pi/period\n",
    "            z = Gamma*omega\n",
    "            print(f\"\\tattraction coefficient: {a0=:.4f}, {a1=:.4f}, {z=:.4f}, {phase=:.4f} --> {alinear=:.4f} cm^2/s\")\n",
    "            print(f\">>> {alinear=} \\n\")\n",
    "            print(f\"*************** end data set ********************\")"
   ]
  },
  {
   "cell_type": "code",
   "execution_count": null,
   "id": "d7fdae44",
   "metadata": {},
   "outputs": [],
   "source": [
    ">>> alinear=1.8402023397115908 \n",
    ">>> alinear=8.585030312541999 \n"
   ]
  },
  {
   "cell_type": "code",
   "execution_count": 98,
   "id": "92b64a10",
   "metadata": {
    "ExecuteTime": {
     "end_time": "2022-10-08T20:18:20.874175Z",
     "start_time": "2022-10-08T20:18:20.451734Z"
    }
   },
   "outputs": [],
   "source": [
    "alinear_anneal_fk = 1.8402023397115908 \n",
    "alinear_anneal_lr = 8.585030312541999 "
   ]
  },
  {
   "cell_type": "code",
   "execution_count": 99,
   "id": "2bafedbe",
   "metadata": {
    "ExecuteTime": {
     "end_time": "2022-10-08T20:18:20.931274Z",
     "start_time": "2022-10-08T20:18:20.876442Z"
    }
   },
   "outputs": [],
   "source": [
    "# x0=a0,a1,phase\n",
    "# period=T*1e3 #bc period is in milliseconds\n",
    "# args=t_values,msr_values,D,period\n",
    "# square_error=comp_square_error_msr_aff_osc_period_fixed(x0,*args)\n",
    "# rmse=np.sqrt(square_error/t_values.shape[0])\n",
    "# print(f\"{rmse=}\")"
   ]
  },
  {
   "cell_type": "code",
   "execution_count": 100,
   "id": "f8d89469",
   "metadata": {
    "ExecuteTime": {
     "end_time": "2022-10-08T20:18:21.010561Z",
     "start_time": "2022-10-08T20:18:20.936774Z"
    }
   },
   "outputs": [
    {
     "name": "stdout",
     "output_type": "stream",
     "text": [
      "alinear_anneal_fk=1.8402023397115908 cm^2/s\n",
      "alinear_boe_fk=1.9324901234567902 cm^2/s\n",
      "alinear_anneal_lr=8.585030312541999 cm^2/s\n",
      "alinear_boe_lr=8.630303341324543 cm^2/s\n"
     ]
    }
   ],
   "source": [
    "# ######################################################\n",
    "# # TODO: max attraction coefficient: amax (Method 2, annealed)\n",
    "# ######################################################\n",
    "# mean_squared_distance_hat_fk = ??\n",
    "# mean_squared_distance_hat_lr = ??\n",
    "# alinear_anneal_fk = mean_squared_distance_hat_fk / Gamma_fk / 4\n",
    "# alinear_anneal_lr = mean_squared_distance_hat_lr / Gamma_lr / 4\n",
    "#TODO: compare ibid to \n",
    "alinear_boe_fk = mean_squared_distance_fk / Gamma_fk / 4\n",
    "alinear_boe_lr = mean_squared_distance_lr / Gamma_lr / 4\n",
    "print(f\"{alinear_anneal_fk=} cm^2/s\")\n",
    "print(f\"{alinear_boe_fk=} cm^2/s\")\n",
    "print(f\"{alinear_anneal_lr=} cm^2/s\")\n",
    "print(f\"{alinear_boe_lr=} cm^2/s\")"
   ]
  },
  {
   "cell_type": "code",
   "execution_count": 20,
   "id": "f57f5422",
   "metadata": {
    "ExecuteTime": {
     "end_time": "2022-10-07T23:53:46.804932Z",
     "start_time": "2022-10-07T23:53:46.754315Z"
    }
   },
   "outputs": [],
   "source": [
    "#TODO: dev next data run #30!\n",
    "#TODO: play in midas for the remainder of the evening..."
   ]
  },
  {
   "cell_type": "code",
   "execution_count": 23,
   "id": "5823a357",
   "metadata": {
    "ExecuteTime": {
     "end_time": "2022-10-07T23:53:52.778560Z",
     "start_time": "2022-10-07T23:53:52.722390Z"
    }
   },
   "outputs": [],
   "source": [
    "# ######################################################\n",
    "# # diffusion coefficient: D (from time averaged MSD)\n",
    "# ######################################################\n",
    "# $D$ (cm$^2$/s):\n",
    "# - FK: 37.2$\\pm$1.4$\\times10^{-3}$\n",
    "# - LR: 1.40$\\pm$0.10$\\times10^{-3}$\n",
    "# - FK(failing ^that, from MSR): D = m/8 = 0.1145 +/- 0.007987364738330576 (using timepoints after 600.0 ms)\n",
    "\n",
    "# ######################################################\n",
    "# # reaction rate: kappa (b.o.e. from death rates and qs distribution)\n",
    "# ######################################################\n",
    "# - Area: 25 cm^2, kappa: 436.74 Hz (Fenton-Karma)\n",
    "# - Area: 25 cm^2, kappa: 1614.16 Hz (Luo-Rudy)\n",
    "# - Area: 100 cm^2, kappa: 6197.13 Hz (Fenton-Karma)\n",
    "# - Area: 100 cm^2, kappa: 8532.76 Hz (Luo-Rudy)\n",
    "\n",
    "# then, TODO: dev run #30 using the above parameter values"
   ]
  },
  {
   "cell_type": "code",
   "execution_count": null,
   "id": "1b647761",
   "metadata": {},
   "outputs": [],
   "source": []
  },
  {
   "cell_type": "code",
   "execution_count": 101,
   "id": "0eb1a306",
   "metadata": {
    "ExecuteTime": {
     "end_time": "2022-10-08T20:19:22.542214Z",
     "start_time": "2022-10-08T20:19:22.305725Z"
    }
   },
   "outputs": [],
   "source": [
    "# # # Compute MSR(t') by averaging range timeseries\n",
    "# # x_values_in=df['tdeath'].values\n",
    "# # y_values_in=df['R'].values**2\n",
    "# # print(f\"tdeath ranges from {np.min(x_values_in)} to {np.max(x_values_in)} ms\")\n",
    "# # print(f\"R^2 ranges from {np.min(y_values_in)} to {np.max(y_values_in)} cm^2\")\n",
    "\n",
    "# # assert not np.isnan(x_values_in).any() \n",
    "# # assert not np.isnan(y_values_in).any()\n",
    "\n",
    "# # #compute bootstrap \n",
    "# # printing=True\n",
    "# # if printing:\n",
    "# #     print(f\"loading bootstrapped mean...\")\n",
    "# # #     print(f\"bootstrapping mean (estimated run time ~30 seconds)...\")\n",
    "# # # bins=np.arange(0,450,1)\n",
    "# # # bins=np.arange(0,1800,5)\n",
    "# # bins=np.arange(0,2800,5)\n",
    "# # df_bootstrap=bin_and_bootstrap_xy_values_parallel(x_values_in,\n",
    "# #                                y_values_in,\n",
    "# #                                xlabel='tdeath_avg',\n",
    "# #                                ylabel='MSR',\n",
    "# #                                bins=bins,\n",
    "# #                                min_numobs=10,\n",
    "# #                                num_bootstrap_samples=1000,\n",
    "# #                                npartitions=10,\n",
    "# #                                use_test=False)\n",
    "# # #save msr as .csv\n",
    "# # msr_dir_bootstrap=range_data_dir.replace('_range_timeseries.pkl','_msr.csv')\n",
    "# # df_bootstrap.to_csv(msr_dir_bootstrap,index=False)\n",
    "# # print(f\"{msr_dir_bootstrap=}\")\n",
    "\n",
    "# # if printing:\n",
    "# #     print(f\"loading bootstrapped mean...\")\n",
    "# df_bootstrap = pd.load_csv(msr_dir_bootstrap)\n",
    "\n",
    "# x_values=df_bootstrap['tdeath_avg'].values\n",
    "# y_values=df_bootstrap['MSR'].values\n",
    "# yerr_values=df_bootstrap['Delta_MSR'].values\n",
    "# x_values.shape,y_values.shape,yerr_values.shape\n",
    "\n",
    "\n",
    "# # optionally fit alinear with simulated annealing\n",
    "# # select msr from the full models for fitting\n",
    "# boo=x_values<max_tdeath\n",
    "# t_values=x_values[boo].copy()*1e-3\n",
    "# msr_values=y_values[boo].copy() \n",
    "# msr_values-= np.min(msr_values)\n",
    "# print(f\"{max_tdeath=} ms\")\n",
    "# print(f\"src: {msr_dir_bootstrap=}\")\n",
    "# if use_sim_anneal:\n",
    "#     maxiter=10000\n",
    "#     print(f\"num. epochs: {maxiter}\")\n",
    "#     res = anneal_msr_fit(t_values,msr_values,D,\n",
    "#                        bounds = ((0, 100), (0, 100), (50, 300), (-3.15,3.15)),\n",
    "#                        maxiter=maxiter,seed=42, no_local_search=True)#,**kwargs)\n",
    "#     rmse= np.sqrt(res.fun/t_values.shape[0])\n",
    "#     a0,a1,period,phase=res.x\n",
    "#     #print(f\"simulated annealing fit: {a0=:.4f}, {a1=:.4f}, {period=:.4f}, {phase=:.4f} --> {rmse=:.4f} cm^2\")\n",
    "\n",
    "#     alinear = comp_alinear(a0,a1,period,Gamma,phase)\n",
    "#     omega = 2*np.pi/period\n",
    "#     z = Gamma*omega\n",
    "#     print(f\"\\tsimulated annealing fit: {a0=:.9f}, {a1=:.9f}, {z=:.9f}, {phase=:.9f} --> {alinear=:.9f} cm^2/s\")\n",
    "#     print(f\">>> {alinear=} \\n\")    \n",
    "#     if repeat_w_10X:\n",
    "#         #optionally repeat at 10X number of epochs\n",
    "#         maxiter=100000\n",
    "#         print(f\"running simulated annealing for {maxiter} epochs...\")\n",
    "#         bounds = ((0, 100), (0, 100), (50, 300), (-3.15,3.15))\n",
    "        \n",
    "#         #x0=a0,a1,phase\n",
    "#         period=T*1e3 #bc period is in milliseconds\n",
    "#         args=t_values,msr_values,D,period\n",
    "#         res = dual_annealing(comp_square_error_msr_aff_osc\n",
    "#                    ,\n",
    "#                    maxiter=maxiter,seed=42,\n",
    "#                    no_local_search=True)#,**kwargs)\n",
    "        \n",
    "            \n",
    "#     # np.random.seed(42)   # seed to allow replication.\n",
    "#     res = dual_annealing(\n",
    "#         comp_square_error_msr_aff_osc,\n",
    "#         bounds=bounds,\n",
    "#         args=args,\n",
    "#         maxiter=maxiter,\n",
    "#         seed=seed,\n",
    "#         no_local_search=no_local_search,**kwargs)\n",
    "        \n",
    "        \n",
    "        \n",
    "        \n",
    "        \n",
    "        \n",
    "        \n",
    "#         res = anneal_msr_fit(t_values,msr_values,D,\n",
    "#                            bounds = ((0, 100), (0, 100), (50, 300), (-3.15,3.15)),\n",
    "#                            maxiter=maxiter,seed=42+1, no_local_search=True)#,**kwargs)\n",
    "#         rmse= np.sqrt(res.fun/t_values.shape[0])\n",
    "#         a0,a1,period,phase=res.x\n",
    "#         print(f\"simulated annealing fit: {a0=:.9f}, {a1=:.9f}, {period=:.9f}, {phase=:.9f} --> {rmse=:.9f} cm^2\")\n",
    "\n",
    "#         alinear = comp_alinear(a0,a1,period,Gamma,phase)\n",
    "#         omega = 2*np.pi/period\n",
    "#         z = Gamma*omega\n",
    "#         print(f\"\\tattraction coefficient: {a0=:.4f}, {a1=:.4f}, {z=:.4f}, {phase=:.4f} --> {alinear=:.4f} cm^2/s\")\n",
    "#         print(f\">>> {alinear=} \\n\")\n",
    "#         print(f\"*************** end data set ********************\")"
   ]
  },
  {
   "cell_type": "code",
   "execution_count": null,
   "id": "cf1ac19c",
   "metadata": {},
   "outputs": [],
   "source": []
  }
 ],
 "metadata": {
  "hide_input": false,
  "kernelspec": {
   "display_name": "Python 3 (ipykernel)",
   "language": "python",
   "name": "python3"
  },
  "language_info": {
   "codemirror_mode": {
    "name": "ipython",
    "version": 3
   },
   "file_extension": ".py",
   "mimetype": "text/x-python",
   "name": "python",
   "nbconvert_exporter": "python",
   "pygments_lexer": "ipython3",
   "version": "3.9.5"
  },
  "latex_envs": {
   "LaTeX_envs_menu_present": true,
   "autoclose": true,
   "autocomplete": false,
   "bibliofile": "biblio.bib",
   "cite_by": "apalike",
   "current_citInitial": 1,
   "eqLabelWithNumbers": false,
   "eqNumInitial": 1,
   "hotkeys": {
    "equation": "Ctrl-E",
    "itemize": "Ctrl-I"
   },
   "labels_anchors": false,
   "latex_user_defs": false,
   "report_style_numbering": false,
   "user_envs_cfg": false
  },
  "nbTranslate": {
   "displayLangs": [
    "*"
   ],
   "hotkey": "alt-t",
   "langInMainMenu": true,
   "sourceLang": "en",
   "targetLang": "fr",
   "useGoogleTranslate": true
  },
  "toc": {
   "base_numbering": 1,
   "nav_menu": {},
   "number_sections": true,
   "sideBar": true,
   "skip_h1_title": false,
   "title_cell": "Table of Contents",
   "title_sidebar": "Contents",
   "toc_cell": false,
   "toc_position": {},
   "toc_section_display": true,
   "toc_window_display": false
  }
 },
 "nbformat": 4,
 "nbformat_minor": 5
}
