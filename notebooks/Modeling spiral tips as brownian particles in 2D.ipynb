{
 "cells": [
  {
   "cell_type": "markdown",
   "metadata": {},
   "source": [
    "# modeling spiral tips on a square domain as a gas of N brownian particles constrained  t"
   ]
  },
  {
   "cell_type": "markdown",
   "metadata": {},
   "source": [
    "Let $\\mathbf{x}\\in D\\subseteq\\mathbb{R}^{Nd}$ be the initial configuration of a random in $d$ spatial dimensions, and it is sampled from the interior of an open Borel set embedded in $\\mathbb{R}^{Nd}$.  Provided a patch/Boral set $\\Sigma\\subseteq D$ of the surface of $D$ that is sufficiently, the probability that a configuration starting at $\\mathbf{x}$ at time $t_0=0$ leaves $D$ via the surface $\\Sigma$ sometime after $t>0$ takes the value (`Arovas, Eqn. 6.17`):\n",
    "$$\n",
    "G_\\Sigma(\\mathbf{x},t)=-\\int_t^\\infty dt'\\int_\\Sigma dS' \\hat{\\mathbf{n}}'\\cdot\\mathbf{J}(\\mathbf{x}',t'|\\mathbf{x},0)\\;,\n",
    "$$\n",
    "\n",
    "Where $\\mathbf{J}(\\mathbf{x}',t'|\\mathbf{x},0)$ is the probability current satisfying \n",
    "\n",
    "$$\n",
    "\\mathcal{L}\\mathbf{J}(\\mathbf{x}',t'|\\mathbf{x},0)=\\partial_t\\mathbf{J}(\\mathbf{x}',t'|\\mathbf{x},0)\n",
    "$$\n",
    "For some $\\mathcal{L}$ of the form\n",
    "$$\n",
    "\\mathcal{L} = A_i(\\mathbf{x})\\partial_{x_i}+\\frac{1}{2}B_{ij}(\\mathbf{x})\\partial^2_{x_i,x_j}.\n",
    "$$\n",
    "- TODO: check for nontrivial relation to Fokker-Planck (Hint: try Arovas ctrl+f)\n",
    "\n",
    "\n"
   ]
  },
  {
   "cell_type": "markdown",
   "metadata": {},
   "source": [
    "__Generalized Mean First Passage Times__ (Arovas, pg. 180)\n",
    "THe mean exit time from a region $\\Omega$ via a boundary surface $\\Sigma$, starting from some point $\\mathbf{x}\\in\\Omega$, is\n",
    "\n",
    "$$\n",
    "T_\\Sigma(\\mathbf{x})=\\int_0^\\infty dt\\,t\\Big(-\\frac{G_\\Sigma(\\mathbf{x},t)}{dt}\\Big)\\,.\n",
    "$$\n",
    "This functiion satisfies $\\mathcal{L}T^{(n)}_\\Sigma(\\mathbf{x})=-1$, subject to the boundary condition $T^{(n)}_\\Sigma(\\mathbf{x})=0$ for all $\\mathbf{x}\\in\\Sigma$.  \n",
    "\n",
    ">It can be shown that higher moments of this general first passage time is achieved by the recursive relation, $\\mathcal{L}T^{(n)}_\\Sigma(\\mathbf{x})=-nT^{(n-1)}_\\Sigma(\\mathbf{x})$.\n",
    "\n"
   ]
  },
  {
   "cell_type": "markdown",
   "metadata": {},
   "source": [
    "__Mean First Passage Times of Radial Diffusion__\n",
    "Consider one Brownian particle in $d$ spatial dimensions starting at radius $r$.  The mean exit time of this particle to pass through a sphere of radius $b>r$ is given, by isotropy, can be shown to satisfy (`Arovas 6.34`)\n",
    "\n",
    "$$\n",
    "\\partial_{r,r}^2T_b(r)+\\frac{d-1}{r}\\partial_rT_b(r)=-\\frac{1}{D}\\,.\n",
    "$$\n",
    "\n",
    "Imposing the bounddary condition $T_b(b)=0$ results in \n",
    "\n",
    "$$\n",
    "T_b(r)=\\frac{b^2-r^2}{2dD}\\,.\n",
    "$$\n",
    "\n",
    "Can this be immediately applied to estimate the average time for two Brownian particles to collide at a an effective interaction distance of $b$?  In which case, the stopping time is $T<T_b(0)=\\frac{b^2}{2dD}=\\frac{b^2}{4D}$.\n",
    "\n",
    "\n"
   ]
  },
  {
   "cell_type": "code",
   "execution_count": null,
   "metadata": {},
   "outputs": [],
   "source": []
  }
 ],
 "metadata": {
  "kernelspec": {
   "display_name": "Python 3",
   "language": "python",
   "name": "python3"
  },
  "language_info": {
   "codemirror_mode": {
    "name": "ipython",
    "version": 3
   },
   "file_extension": ".py",
   "mimetype": "text/x-python",
   "name": "python",
   "nbconvert_exporter": "python",
   "pygments_lexer": "ipython3",
   "version": "3.8.6"
  },
  "varInspector": {
   "cols": {
    "lenName": 16,
    "lenType": 16,
    "lenVar": 40
   },
   "kernels_config": {
    "python": {
     "delete_cmd_postfix": "",
     "delete_cmd_prefix": "del ",
     "library": "var_list.py",
     "varRefreshCmd": "print(var_dic_list())"
    },
    "r": {
     "delete_cmd_postfix": ") ",
     "delete_cmd_prefix": "rm(",
     "library": "var_list.r",
     "varRefreshCmd": "cat(var_dic_list()) "
    }
   },
   "types_to_exclude": [
    "module",
    "function",
    "builtin_function_or_method",
    "instance",
    "_Feature"
   ],
   "window_display": false
  }
 },
 "nbformat": 4,
 "nbformat_minor": 4
}
