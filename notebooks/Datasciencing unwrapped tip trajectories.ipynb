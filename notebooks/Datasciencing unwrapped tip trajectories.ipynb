{
 "cells": [
  {
   "cell_type": "markdown",
   "metadata": {
    "heading_collapsed": true
   },
   "source": [
    "# Datasciencing unwrapped tip trajectories\n",
    "Tim Tyree<br>\n",
    "2.9.2021"
   ]
  },
  {
   "cell_type": "code",
   "execution_count": 1,
   "metadata": {
    "ExecuteTime": {
     "end_time": "2021-02-16T02:18:06.340223Z",
     "start_time": "2021-02-16T02:18:04.437890Z"
    },
    "hidden": true
   },
   "outputs": [],
   "source": [
    "from lib.my_initialization import *\n",
    "from lib import *"
   ]
  },
  {
   "cell_type": "code",
   "execution_count": 95,
   "metadata": {
    "ExecuteTime": {
     "end_time": "2021-02-18T04:22:31.352914Z",
     "start_time": "2021-02-18T04:22:31.344007Z"
    },
    "hidden": true
   },
   "outputs": [],
   "source": [
    "#make plots in darkmode\n",
    "import seaborn as sns\n",
    "from jupyterthemes import jtplot\n",
    "jtplot.style(theme='monokai', context='notebook', ticks=True, grid=False)"
   ]
  },
  {
   "cell_type": "markdown",
   "metadata": {
    "hidden": true
   },
   "source": [
    "- TODO: compute msd for each trajectory\n",
    "- TODO: compute msd for each trajectory, removing the frames \"at birth\" and \"at death\"\n",
    "\n",
    "- TODO: compute some orientation-blind features\n",
    "    - ( cosine of angles / signed angles ) between acceleration, velocity, grad(V), and grad(dVdt)\n",
    "    - speed, change of speed, \n",
    "- TODO(later): write a cell describing methods/data schema\n",
    "- TODO: make umap and/or tsne scatter plot of tip trajectories\n",
    "- TODO: make gif for spiral tip simulation.  consider outputing returning one image/saving one .png for a given txt call.\n",
    "- TODO: keep track of an img1 =txt.V-V_thresh and img2={dVdt or lag(img1,2ms).\n",
    "- TODO: color tips by duration, frame number for ^those visualizations"
   ]
  },
  {
   "cell_type": "code",
   "execution_count": 2,
   "metadata": {
    "ExecuteTime": {
     "end_time": "2021-02-16T02:18:09.139834Z",
     "start_time": "2021-02-16T02:18:08.924942Z"
    },
    "hidden": true
   },
   "outputs": [
    {
     "ename": "FileNotFoundError",
     "evalue": "[Errno 2] No such file or directory: '/home/timothytyree/Documents/GitHub/care/notebooks/Data/cloud_results'",
     "output_type": "error",
     "traceback": [
      "\u001b[0;31m----------------------------------------------------\u001b[0m",
      "\u001b[0;31mFileNotFoundError\u001b[0m  Traceback (most recent call last)",
      "\u001b[0;32m<ipython-input-2-684755d21503>\u001b[0m in \u001b[0;36m<module>\u001b[0;34m\u001b[0m\n\u001b[1;32m      1\u001b[0m \u001b[0;31m#save df as csv in care\u001b[0m\u001b[0;34m\u001b[0m\u001b[0;34m\u001b[0m\u001b[0;34m\u001b[0m\u001b[0m\n\u001b[1;32m      2\u001b[0m \u001b[0mdata_folder\u001b[0m\u001b[0;34m=\u001b[0m\u001b[0mos\u001b[0m\u001b[0;34m.\u001b[0m\u001b[0mpath\u001b[0m\u001b[0;34m.\u001b[0m\u001b[0mjoin\u001b[0m\u001b[0;34m(\u001b[0m\u001b[0mnb_dir\u001b[0m\u001b[0;34m,\u001b[0m\u001b[0;34m'Data/cloud_results'\u001b[0m\u001b[0;34m)\u001b[0m\u001b[0;34m\u001b[0m\u001b[0;34m\u001b[0m\u001b[0m\n\u001b[0;32m----> 3\u001b[0;31m \u001b[0mos\u001b[0m\u001b[0;34m.\u001b[0m\u001b[0mchdir\u001b[0m\u001b[0;34m(\u001b[0m\u001b[0mdata_folder\u001b[0m\u001b[0;34m)\u001b[0m\u001b[0;34m\u001b[0m\u001b[0;34m\u001b[0m\u001b[0m\n\u001b[0m\u001b[1;32m      4\u001b[0m \u001b[0mdata_fn\u001b[0m\u001b[0;34m=\u001b[0m\u001b[0;34m'longest_traj_by_area_lr_pbc.csv'\u001b[0m\u001b[0;34m\u001b[0m\u001b[0;34m\u001b[0m\u001b[0m\n\u001b[1;32m      5\u001b[0m \u001b[0mdf_all\u001b[0m\u001b[0;34m=\u001b[0m\u001b[0mpd\u001b[0m\u001b[0;34m.\u001b[0m\u001b[0mread_csv\u001b[0m\u001b[0;34m(\u001b[0m\u001b[0mdata_fn\u001b[0m\u001b[0;34m)\u001b[0m\u001b[0;34m\u001b[0m\u001b[0;34m\u001b[0m\u001b[0m\n",
      "\u001b[0;31mFileNotFoundError\u001b[0m: [Errno 2] No such file or directory: '/home/timothytyree/Documents/GitHub/care/notebooks/Data/cloud_results'"
     ]
    }
   ],
   "source": [
    "#save df as csv in care\n",
    "data_folder=os.path.join(nb_dir,'Data/cloud_results')\n",
    "os.chdir(data_folder)\n",
    "data_fn='longest_traj_by_area_lr_pbc.csv'\n",
    "df_all=pd.read_csv(data_fn)"
   ]
  },
  {
   "cell_type": "code",
   "execution_count": 3,
   "metadata": {
    "ExecuteTime": {
     "end_time": "2021-02-16T02:18:09.787723Z",
     "start_time": "2021-02-16T02:18:09.774349Z"
    },
    "hidden": true
   },
   "outputs": [],
   "source": [
    "#TODO: store/load this in a json automatically\n",
    "#Hint: see methods for param loading from \n",
    "# param_fn = 'param_set_8.json'\n",
    "# param_dir = os.path.join(nb_dir,'lib/model')\n",
    "# with open(os.path.join(param_dir,param_fn)) as f:\n",
    "#     param_dict = json.load(f)\n",
    "K12_index_set={(529, 0, 0): 0,\n",
    " (404, 1, 1): 0,\n",
    " (613, 0, 0): 0,\n",
    " (420, 0, 5): 0,\n",
    " (447, 1, 0): 0,\n",
    " (360, 1, 8): 0,\n",
    " (361, 2, 8): 0,\n",
    " (457, 3, 2): 0,\n",
    " (472, 2, 1): 0,\n",
    " (455, 2, 3): 0,\n",
    " (426, 3, 4): 0,\n",
    " (489, 3, 3): 0,\n",
    " (371, 2, 3): 0,\n",
    " (440, 3, 7): 0,\n",
    " (544, 3, 2): 0,\n",
    " (523, 0, 1): 0,\n",
    " (531, 2, 3): 0,\n",
    " (306, 1, 7): 0,\n",
    " (513, 2, 3): 0,\n",
    " (327, 3, 15): 0,\n",
    " (353, 1, 12): 0,\n",
    " (357, 1, 14): 0,\n",
    " (363, 2, 5): 0,\n",
    " (592, 2, 3): 0,\n",
    " (367, 2, 8): 0,\n",
    " (367, 2, 6): 0,\n",
    " (364, 2, 5): 0,\n",
    " (547, 2, 1): 0,\n",
    " (355, 2, 12): 0,\n",
    " (452, 1, 3): 0,\n",
    " (317, 1, 6): 0,\n",
    " (317, 1, 9): 0,\n",
    " (346, 3, 3): 0,\n",
    " (515, 0, 1): 0,\n",
    " (554, 2, 1): 0,\n",
    " (534, 1, 0): 0,\n",
    " (300, 0, 7): 0,\n",
    " (513, 0, 3): 0,\n",
    " (392, 0, 8): 0}"
   ]
  },
  {
   "cell_type": "markdown",
   "metadata": {
    "heading_collapsed": true
   },
   "source": [
    "# visualize the longest trajectories"
   ]
  },
  {
   "cell_type": "code",
   "execution_count": 5,
   "metadata": {
    "ExecuteTime": {
     "end_time": "2021-02-16T02:25:00.459753Z",
     "start_time": "2021-02-16T02:25:00.456325Z"
    },
    "hidden": true
   },
   "outputs": [],
   "source": [
    "#load df \n",
    "data_folder=os.path.join(nb_dir,'Data/cloud_results')\n",
    "os.chdir(data_folder)\n",
    "data_fn='longest_traj_by_area_lr_pbc.csv'"
   ]
  },
  {
   "cell_type": "code",
   "execution_count": 6,
   "metadata": {
    "ExecuteTime": {
     "end_time": "2021-02-16T02:25:02.991144Z",
     "start_time": "2021-02-16T02:25:02.930503Z"
    },
    "hidden": true
   },
   "outputs": [],
   "source": [
    "DS=0.025\n",
    "#DONE: compute the area for each trial\n",
    "df=pd.read_csv(data_fn)\n",
    "df['area']=df.L**2*DS**2#cm^2"
   ]
  },
  {
   "cell_type": "code",
   "execution_count": 7,
   "metadata": {
    "ExecuteTime": {
     "end_time": "2021-02-16T02:25:05.323878Z",
     "start_time": "2021-02-16T02:25:05.312409Z"
    },
    "hidden": true
   },
   "outputs": [],
   "source": [
    "#TODO: plot MSD for each trial\n",
    "d=df[(df.L==513)& (df.txt_id1==0)&(df.txt_id2==3)]\n",
    "#TODO: detect brownian motion for each trial\n",
    "#TODO: compute the largest number of repeats of a single trial run"
   ]
  },
  {
   "cell_type": "code",
   "execution_count": 8,
   "metadata": {
    "ExecuteTime": {
     "end_time": "2021-02-16T02:25:06.612448Z",
     "start_time": "2021-02-16T02:25:06.608673Z"
    },
    "hidden": true
   },
   "outputs": [
    {
     "name": "stdout",
     "output_type": "stream",
     "text": [
      "this spiral tip lasted 228.0 ms.\n"
     ]
    }
   ],
   "source": [
    "print(f\"this spiral tip lasted {d.t.max()-d.t.min()} ms.\")"
   ]
  },
  {
   "cell_type": "code",
   "execution_count": 9,
   "metadata": {
    "ExecuteTime": {
     "end_time": "2021-02-16T02:25:13.275018Z",
     "start_time": "2021-02-16T02:25:12.695095Z"
    },
    "hidden": true
   },
   "outputs": [
    {
     "data": {
      "image/png": "[encoded data removed]",
      "text/plain": [
       "<Figure size 432x288 with 1 Axes>"
      ]
     },
     "metadata": {
      "needs_background": "light"
     },
     "output_type": "display_data"
    }
   ],
   "source": [
    "src_lst=['447_1_0',\"523_0_1\",\"529_0_0\"]\n",
    "A_lst=[447**2*DS**2,523**2*DS**2,529**2*DS**2]\n",
    "for A,src in zip(A_lst,src_lst):\n",
    "    d_in=df[df.src==src]\n",
    "\n",
    "    DS=0.025#cm per pixel\n",
    "    DT=2.#ms per frame\n",
    "    #compute ensemble mean squared displacement\n",
    "    emsd = trackpy.motion.emsd(d_in, mpp=1., fps=1.,max_lagtime=40000)\n",
    "    #cast ensemble mean squared displacement into units of cm^2 and seconds\n",
    "    d_out= pd.DataFrame({'msd':DS**2*emsd.values, 'lagt':emsd.index.values*DT/10**3, 'src':src})\n",
    "\n",
    "\n",
    "    x_values=d_out.lagt\n",
    "    y_values=d_out.msd\n",
    "\n",
    "    plt.plot(x_values,y_values,label=f\"{int(np.around(A))} cm^2\")\n",
    "plt.xlabel('lag (sec)')\n",
    "plt.ylabel(r'MSD (cm$^2$)')\n",
    "plt.legend()\n",
    "plt.show()"
   ]
  },
  {
   "cell_type": "markdown",
   "metadata": {
    "heading_collapsed": true
   },
   "source": [
    "# create longer spiral tip trajectories for LR model?\n",
    "- TODO: check untruncated results using full output on UB\n",
    "- if raising jump_threshold, for example, gives robust \n"
   ]
  },
  {
   "cell_type": "markdown",
   "metadata": {
    "heading_collapsed": true
   },
   "source": [
    "# TODO(later) visualize features agnostic to orientation"
   ]
  },
  {
   "cell_type": "markdown",
   "metadata": {
    "hidden": true
   },
   "source": [
    "- TODO(option A): use umap according to https://www.r-bloggers.com/2020/11/umap-clustering-in-python/\n",
    "    - !pip install umap-learn and !pip install datatable\n",
    "- TODO(option B): use TSNE using sklearn.manifold.tsne\n",
    "    - https://scikit-learn.org/stable/modules/generated/sklearn.manifold.TSNE.html\n",
    "    - disadvantage: \"Global structure is not explicitly preserved. This problem is mitigated by initializing points with PCA (using `init='pca'`).\"\n",
    "- TODO(option C): play with sklearn.manifold in general https://scikit-learn.org/stable/modules/manifold.html#manifold\n",
    "- TODO(option D): play with `pip install keras-self-attention`\n",
    "\n",
    "then,\n",
    "- TODO: use umap to visualize ^those\n",
    "    - https://www.r-bloggers.com/2020/11/umap-clustering-in-python/\n"
   ]
  },
  {
   "cell_type": "markdown",
   "metadata": {
    "heading_collapsed": true
   },
   "source": [
    "# TODO: compute msd for each trajectory\n",
    "- TODO: compute msd for each trajectory, removing the frames \"at birth\" and \"at death\""
   ]
  },
  {
   "cell_type": "code",
   "execution_count": 10,
   "metadata": {
    "ExecuteTime": {
     "end_time": "2021-02-16T02:25:17.034990Z",
     "start_time": "2021-02-16T02:25:17.013509Z"
    },
    "hidden": true
   },
   "outputs": [
    {
     "ename": "NameError",
     "evalue": "name 'diffcoeff_table_gener' is not defined",
     "output_type": "error",
     "traceback": [
      "\u001b[0;31m----------------------------------------------------\u001b[0m",
      "\u001b[0;31mNameError\u001b[0m          Traceback (most recent call last)",
      "\u001b[0;32m<ipython-input-10-3ab4037ebf3b>\u001b[0m in \u001b[0;36m<module>\u001b[0;34m\u001b[0m\n\u001b[1;32m      1\u001b[0m \u001b[0;31m# - TODO: compute msd for each trajectory\u001b[0m\u001b[0;34m\u001b[0m\u001b[0;34m\u001b[0m\u001b[0;34m\u001b[0m\u001b[0m\n\u001b[0;32m----> 2\u001b[0;31m retval= diffcoeff_table_gener(ic_suite_fn,trial_folder_name_lst,dict_kwargs_trial,\n\u001b[0m\u001b[1;32m      3\u001b[0m                               npartitions=2, use_cache_1=False)#, R2_thresh=0.0,duration_thresh=.0, tau_min=0.)\n\u001b[1;32m      4\u001b[0m \u001b[0mbeep\u001b[0m\u001b[0;34m(\u001b[0m\u001b[0;36m2\u001b[0m\u001b[0;34m)\u001b[0m\u001b[0;34m\u001b[0m\u001b[0;34m\u001b[0m\u001b[0m\n\u001b[1;32m      5\u001b[0m \u001b[0mprint\u001b[0m\u001b[0;34m(\u001b[0m\u001b[0;34mf\"retval is {retval}\"\u001b[0m\u001b[0;34m)\u001b[0m\u001b[0;34m\u001b[0m\u001b[0;34m\u001b[0m\u001b[0m\n",
      "\u001b[0;31mNameError\u001b[0m: name 'diffcoeff_table_gener' is not defined"
     ]
    }
   ],
   "source": [
    "# - TODO: compute msd for each trajectory\n",
    "retval= diffcoeff_table_gener(ic_suite_fn,trial_folder_name_lst,dict_kwargs_trial,\n",
    "                              npartitions=2, use_cache_1=False)#, R2_thresh=0.0,duration_thresh=.0, tau_min=0.)\n",
    "beep(2)\n",
    "print(f\"retval is {retval}\")"
   ]
  },
  {
   "cell_type": "code",
   "execution_count": 11,
   "metadata": {
    "ExecuteTime": {
     "end_time": "2021-02-16T02:25:17.822402Z",
     "start_time": "2021-02-16T02:25:17.807982Z"
    },
    "hidden": true
   },
   "outputs": [
    {
     "ename": "NameError",
     "evalue": "name 'diffcoeff_table_gener' is not defined",
     "output_type": "error",
     "traceback": [
      "\u001b[0;31m----------------------------------------------------\u001b[0m",
      "\u001b[0;31mNameError\u001b[0m          Traceback (most recent call last)",
      "\u001b[0;32m<ipython-input-11-59933057372d>\u001b[0m in \u001b[0;36m<module>\u001b[0;34m\u001b[0m\n\u001b[0;32m----> 1\u001b[0;31m \u001b[0mdiffcoeff_table_gener\u001b[0m\u001b[0;34m\u001b[0m\u001b[0;34m\u001b[0m\u001b[0m\n\u001b[0m",
      "\u001b[0;31mNameError\u001b[0m: name 'diffcoeff_table_gener' is not defined"
     ]
    }
   ],
   "source": [
    "diffcoeff_table_gener"
   ]
  },
  {
   "cell_type": "code",
   "execution_count": null,
   "metadata": {
    "hidden": true
   },
   "outputs": [],
   "source": []
  },
  {
   "cell_type": "code",
   "execution_count": 4,
   "metadata": {
    "ExecuteTime": {
     "end_time": "2021-02-10T19:22:28.386378Z",
     "start_time": "2021-02-10T19:20:40.657812Z"
    },
    "hidden": true
   },
   "outputs": [
    {
     "data": {
      "text/plain": [
       "0"
      ]
     },
     "execution_count": 4,
     "metadata": {},
     "output_type": "execute_result"
    }
   ],
   "source": [
    "txt=get_txt(2,2,100,100,nb_dir)\n",
    "beep(1)"
   ]
  },
  {
   "cell_type": "code",
   "execution_count": 5,
   "metadata": {
    "ExecuteTime": {
     "end_time": "2021-02-10T19:22:28.423075Z",
     "start_time": "2021-02-10T19:22:28.418693Z"
    },
    "hidden": true
   },
   "outputs": [
    {
     "data": {
      "text/plain": [
       "(100, 100, 18)"
      ]
     },
     "execution_count": 5,
     "metadata": {},
     "output_type": "execute_result"
    }
   ],
   "source": [
    "txt.shape"
   ]
  },
  {
   "cell_type": "code",
   "execution_count": 6,
   "metadata": {
    "ExecuteTime": {
     "end_time": "2021-02-11T09:33:53.020692Z",
     "start_time": "2021-02-11T09:33:31.971184Z"
    },
    "hidden": true
   },
   "outputs": [],
   "source": [
    "#wait a randomly selected amount of time (10-100 seconds)#UNCOMMENT_HERE\n",
    "from random import randint\n",
    "from time import sleep\n",
    "sleep(randint(10,100))"
   ]
  },
  {
   "cell_type": "code",
   "execution_count": 8,
   "metadata": {
    "ExecuteTime": {
     "end_time": "2021-02-11T09:45:50.423051Z",
     "start_time": "2021-02-11T09:44:35.227252Z"
    },
    "hidden": true
   },
   "outputs": [],
   "source": [
    "txt=get_txt(2,1,50,50,nb_dir)"
   ]
  },
  {
   "cell_type": "code",
   "execution_count": 10,
   "metadata": {
    "ExecuteTime": {
     "end_time": "2021-02-11T09:45:57.716050Z",
     "start_time": "2021-02-11T09:45:57.712010Z"
    },
    "hidden": true
   },
   "outputs": [
    {
     "data": {
      "text/plain": [
       "(50, 50, 18)"
      ]
     },
     "execution_count": 10,
     "metadata": {},
     "output_type": "execute_result"
    }
   ],
   "source": [
    "txt.shape\n",
    "# beep(3)"
   ]
  },
  {
   "cell_type": "markdown",
   "metadata": {
    "heading_collapsed": true
   },
   "source": [
    "# Scrum 2.13.2021"
   ]
  },
  {
   "cell_type": "markdown",
   "metadata": {
    "hidden": true
   },
   "source": [
    "__todo(prereq)__\n",
    "- merge care_worker's lib with care's lib\n",
    "- verify that all FK instances of the kwarg, diffcoeff, are effected by user inputs.\n",
    "- use care_worker's method to launch the following 2 settings"
   ]
  },
  {
   "cell_type": "markdown",
   "metadata": {
    "hidden": true
   },
   "source": [
    "__todo: measure 2 settings__\n",
    "- D=current, A=double (400x400)\n",
    "- D=double, A=current (200x200)"
   ]
  },
  {
   "cell_type": "markdown",
   "metadata": {
    "hidden": true
   },
   "source": [
    "todo for param_set_8_og find mean maximum spiral tip lifetime.  is it ~800ms like in the lr model?  if so, why does wj's alteration lead to longer lasting tips? what is the physiological interpretation of wj's alteration?  i.e. what does wj's alteration mean in terms of the local action potential?  what change achieveds the same effect in the LR model? is it shortened APD resulting from high K_o?"
   ]
  },
  {
   "cell_type": "markdown",
   "metadata": {
    "heading_collapsed": true
   },
   "source": [
    "#  compute measures of lifetime for cloud_results"
   ]
  },
  {
   "cell_type": "code",
   "execution_count": 70,
   "metadata": {
    "ExecuteTime": {
     "end_time": "2021-02-16T03:25:25.681464Z",
     "start_time": "2021-02-16T03:24:51.115622Z"
    },
    "hidden": true
   },
   "outputs": [
    {
     "name": "stdout",
     "output_type": "stream",
     "text": [
      "File: /home/timothytyree/Documents/GitHub/care/notebooks/Data/initial-conditions-suite-2/ds_5_param_set_8_fastkernel_V_0.4/trajectories/ic_200x200.001.12_traj_sr_400_mem_0.csv\n"
     ]
    },
    {
     "data": {
      "text/plain": [
       "'/home/timothytyree/Documents/GitHub/care/notebooks/Data/initial-conditions-suite-2/ds_5_param_set_8_fastkernel_V_0.4/trajectories/ic_200x200.001.12_traj_sr_400_mem_0.csv'"
      ]
     },
     "execution_count": 70,
     "metadata": {},
     "output_type": "execute_result"
    }
   ],
   "source": [
    "file=search_for_file()\n",
    "file"
   ]
  },
  {
   "cell_type": "code",
   "execution_count": 71,
   "metadata": {
    "ExecuteTime": {
     "end_time": "2021-02-16T03:25:29.136171Z",
     "start_time": "2021-02-16T03:25:29.041121Z"
    },
    "hidden": true
   },
   "outputs": [],
   "source": [
    "df=pd.read_csv(file)"
   ]
  },
  {
   "cell_type": "code",
   "execution_count": 51,
   "metadata": {
    "ExecuteTime": {
     "end_time": "2021-02-16T02:45:33.273919Z",
     "start_time": "2021-02-16T02:45:33.271506Z"
    },
    "hidden": true
   },
   "outputs": [],
   "source": [
    "#TODO(later?): compute mean/max lifetime versus domain size\n",
    "#TODO(later?): compute mean density versus domain size\n",
    "\n",
    "src_lst=list(zip(df.L.values,df.txt_id1.values,df.txt_id2.values))\n",
    "df['src']=src_lst"
   ]
  },
  {
   "cell_type": "code",
   "execution_count": 36,
   "metadata": {
    "ExecuteTime": {
     "end_time": "2021-02-16T02:35:15.711067Z",
     "start_time": "2021-02-16T02:35:15.694048Z"
    },
    "hidden": true
   },
   "outputs": [],
   "source": [
    "N_rows_by_trial_values=df.groupby('src').t.count().values"
   ]
  },
  {
   "cell_type": "code",
   "execution_count": 37,
   "metadata": {
    "ExecuteTime": {
     "end_time": "2021-02-16T02:35:40.291959Z",
     "start_time": "2021-02-16T02:35:40.289215Z"
    },
    "hidden": true
   },
   "outputs": [],
   "source": [
    "DT=2.#ms between observations\n",
    "lifetime_lst=DT*N_rows_by_trial_values"
   ]
  },
  {
   "cell_type": "code",
   "execution_count": 40,
   "metadata": {
    "ExecuteTime": {
     "end_time": "2021-02-16T02:37:15.293850Z",
     "start_time": "2021-02-16T02:37:15.289842Z"
    },
    "hidden": true
   },
   "outputs": [
    {
     "name": "stdout",
     "output_type": "stream",
     "text": [
      "the mean lifetime is 542.8717948717949 ms\n",
      "the max lifetime is 1326.0 ms\n",
      "the number of trials considered is 39\n"
     ]
    }
   ],
   "source": [
    "print(f\"the mean lifetime is {np.mean(lifetime_lst)} ms\")\n",
    "print(f\"the max lifetime is {np.max(lifetime_lst)} ms\")\n",
    "print(f\"the number of trials considered is {lifetime_lst.shape[0]}\")"
   ]
  },
  {
   "cell_type": "markdown",
   "metadata": {
    "heading_collapsed": true
   },
   "source": [
    "# measure lifetimes of local_results"
   ]
  },
  {
   "cell_type": "code",
   "execution_count": 87,
   "metadata": {
    "ExecuteTime": {
     "end_time": "2021-02-16T03:37:31.512411Z",
     "start_time": "2021-02-16T03:37:01.990731Z"
    },
    "hidden": true
   },
   "outputs": [
    {
     "name": "stdout",
     "output_type": "stream",
     "text": [
      "File: /home/timothytyree/Documents/GitHub/care/notebooks/Data/initial-conditions-suite-2/ds_5_param_set_4/trajectories/ic_200x200.001.22_traj_sr_400_mem_0.csv\n"
     ]
    },
    {
     "data": {
      "text/plain": [
       "'/home/timothytyree/Documents/GitHub/care/notebooks/Data/initial-conditions-suite-2/ds_5_param_set_4/trajectories/ic_200x200.001.22_traj_sr_400_mem_0.csv'"
      ]
     },
     "execution_count": 87,
     "metadata": {},
     "output_type": "execute_result"
    }
   ],
   "source": [
    "file=search_for_file()\n",
    "file"
   ]
  },
  {
   "cell_type": "code",
   "execution_count": 88,
   "metadata": {
    "ExecuteTime": {
     "end_time": "2021-02-16T03:37:34.704902Z",
     "start_time": "2021-02-16T03:37:34.700921Z"
    },
    "hidden": true
   },
   "outputs": [],
   "source": [
    "L=200\n",
    "DT=1"
   ]
  },
  {
   "cell_type": "code",
   "execution_count": 89,
   "metadata": {
    "ExecuteTime": {
     "end_time": "2021-02-16T03:37:35.212634Z",
     "start_time": "2021-02-16T03:37:35.202528Z"
    },
    "hidden": true
   },
   "outputs": [
    {
     "data": {
      "text/plain": [
       "171"
      ]
     },
     "execution_count": 89,
     "metadata": {},
     "output_type": "execute_result"
    }
   ],
   "source": [
    "#measure the mean/max lifetime of the longest tip for a folder of tip logs\n",
    "trgt=file[-8:]#'mem_0.csv'\n",
    "input_fn_lst=get_all_files_matching_pattern(file,trgt)\n",
    "len(input_fn_lst)"
   ]
  },
  {
   "cell_type": "code",
   "execution_count": 90,
   "metadata": {
    "ExecuteTime": {
     "end_time": "2021-02-16T03:43:15.421980Z",
     "start_time": "2021-02-16T03:37:36.124474Z"
    },
    "hidden": true
   },
   "outputs": [
    {
     "data": {
      "text/plain": [
       "0"
      ]
     },
     "execution_count": 90,
     "metadata": {},
     "output_type": "execute_result"
    }
   ],
   "source": [
    "lifetime_lst=[]\n",
    "for file in input_fn_lst:\n",
    "    df=pd.read_csv(file)\n",
    "    retval=get_longest_trajectories(file,width=L,height=L,DT=DT)\n",
    "    lifetime=DT*retval.t.count()\n",
    "    lifetime_lst.append(lifetime)\n",
    "beep(2)"
   ]
  },
  {
   "cell_type": "code",
   "execution_count": 91,
   "metadata": {
    "ExecuteTime": {
     "end_time": "2021-02-16T03:43:16.349758Z",
     "start_time": "2021-02-16T03:43:15.714545Z"
    },
    "hidden": true
   },
   "outputs": [
    {
     "name": "stdout",
     "output_type": "stream",
     "text": [
      "is DT=1 correct?\n"
     ]
    },
    {
     "data": {
      "text/html": [
       "<div>\n",
       "<style scoped>\n",
       "    .dataframe tbody tr th:only-of-type {\n",
       "        vertical-align: middle;\n",
       "    }\n",
       "\n",
       "    .dataframe tbody tr th {\n",
       "        vertical-align: top;\n",
       "    }\n",
       "\n",
       "    .dataframe thead th {\n",
       "        text-align: right;\n",
       "    }\n",
       "</style>\n",
       "<table border=\"1\" class=\"dataframe\">\n",
       "  <thead>\n",
       "    <tr style=\"text-align: right;\">\n",
       "      <th></th>\n",
       "      <th>index</th>\n",
       "      <th>t</th>\n",
       "      <th>n</th>\n",
       "      <th>x</th>\n",
       "      <th>y</th>\n",
       "      <th>theta</th>\n",
       "      <th>grad_ux</th>\n",
       "      <th>grad_uy</th>\n",
       "      <th>grad_vx</th>\n",
       "      <th>grad_vy</th>\n",
       "      <th>v</th>\n",
       "      <th>f</th>\n",
       "      <th>s</th>\n",
       "      <th>dvdt</th>\n",
       "      <th>dfdt</th>\n",
       "      <th>dsdt</th>\n",
       "      <th>frame</th>\n",
       "      <th>particle</th>\n",
       "    </tr>\n",
       "  </thead>\n",
       "  <tbody>\n",
       "    <tr>\n",
       "      <th>11182</th>\n",
       "      <td>11182</td>\n",
       "      <td>1543.0</td>\n",
       "      <td>6</td>\n",
       "      <td>187.56952</td>\n",
       "      <td>188.28341</td>\n",
       "      <td>3.04513</td>\n",
       "      <td>1.94197</td>\n",
       "      <td>0.06014</td>\n",
       "      <td>2.28122</td>\n",
       "      <td>-0.27210</td>\n",
       "      <td>0.43452</td>\n",
       "      <td>0.01810</td>\n",
       "      <td>0.61185</td>\n",
       "      <td>-0.00168</td>\n",
       "      <td>-0.00543</td>\n",
       "      <td>-0.00175</td>\n",
       "      <td>1543</td>\n",
       "      <td>165</td>\n",
       "    </tr>\n",
       "    <tr>\n",
       "      <th>11185</th>\n",
       "      <td>11185</td>\n",
       "      <td>1544.0</td>\n",
       "      <td>6</td>\n",
       "      <td>187.91265</td>\n",
       "      <td>186.03591</td>\n",
       "      <td>2.56637</td>\n",
       "      <td>1.62655</td>\n",
       "      <td>0.36698</td>\n",
       "      <td>2.21630</td>\n",
       "      <td>-0.22344</td>\n",
       "      <td>0.48150</td>\n",
       "      <td>0.02130</td>\n",
       "      <td>0.62200</td>\n",
       "      <td>-0.00486</td>\n",
       "      <td>-0.00640</td>\n",
       "      <td>-0.00178</td>\n",
       "      <td>1544</td>\n",
       "      <td>165</td>\n",
       "    </tr>\n",
       "    <tr>\n",
       "      <th>11190</th>\n",
       "      <td>11190</td>\n",
       "      <td>1545.0</td>\n",
       "      <td>6</td>\n",
       "      <td>188.38927</td>\n",
       "      <td>184.77970</td>\n",
       "      <td>2.44549</td>\n",
       "      <td>1.33679</td>\n",
       "      <td>0.65447</td>\n",
       "      <td>2.19654</td>\n",
       "      <td>-0.21860</td>\n",
       "      <td>0.37868</td>\n",
       "      <td>0.02358</td>\n",
       "      <td>0.60904</td>\n",
       "      <td>0.00220</td>\n",
       "      <td>-0.00708</td>\n",
       "      <td>-0.00174</td>\n",
       "      <td>1545</td>\n",
       "      <td>165</td>\n",
       "    </tr>\n",
       "    <tr>\n",
       "      <th>11200</th>\n",
       "      <td>11200</td>\n",
       "      <td>1546.0</td>\n",
       "      <td>6</td>\n",
       "      <td>188.85953</td>\n",
       "      <td>183.87887</td>\n",
       "      <td>NaN</td>\n",
       "      <td>1.20594</td>\n",
       "      <td>0.78808</td>\n",
       "      <td>2.17464</td>\n",
       "      <td>-0.20573</td>\n",
       "      <td>0.39919</td>\n",
       "      <td>0.02467</td>\n",
       "      <td>0.61077</td>\n",
       "      <td>0.00011</td>\n",
       "      <td>-0.00741</td>\n",
       "      <td>-0.00175</td>\n",
       "      <td>1546</td>\n",
       "      <td>165</td>\n",
       "    </tr>\n",
       "    <tr>\n",
       "      <th>11202</th>\n",
       "      <td>11202</td>\n",
       "      <td>1547.0</td>\n",
       "      <td>6</td>\n",
       "      <td>189.39131</td>\n",
       "      <td>183.13727</td>\n",
       "      <td>2.77227</td>\n",
       "      <td>1.13718</td>\n",
       "      <td>0.85795</td>\n",
       "      <td>2.07865</td>\n",
       "      <td>-0.11052</td>\n",
       "      <td>0.40561</td>\n",
       "      <td>0.02292</td>\n",
       "      <td>0.61022</td>\n",
       "      <td>-0.00121</td>\n",
       "      <td>-0.00688</td>\n",
       "      <td>-0.00174</td>\n",
       "      <td>1547</td>\n",
       "      <td>165</td>\n",
       "    </tr>\n",
       "  </tbody>\n",
       "</table>\n",
       "</div>"
      ],
      "text/plain": [
       "       index       t  n          x          y    theta  grad_ux  grad_uy  \\\n",
       "11182  11182  1543.0  6  187.56952  188.28341  3.04513  1.94197  0.06014   \n",
       "11185  11185  1544.0  6  187.91265  186.03591  2.56637  1.62655  0.36698   \n",
       "11190  11190  1545.0  6  188.38927  184.77970  2.44549  1.33679  0.65447   \n",
       "11200  11200  1546.0  6  188.85953  183.87887      NaN  1.20594  0.78808   \n",
       "11202  11202  1547.0  6  189.39131  183.13727  2.77227  1.13718  0.85795   \n",
       "\n",
       "       grad_vx  grad_vy        v        f        s     dvdt     dfdt     dsdt  \\\n",
       "11182  2.28122 -0.27210  0.43452  0.01810  0.61185 -0.00168 -0.00543 -0.00175   \n",
       "11185  2.21630 -0.22344  0.48150  0.02130  0.62200 -0.00486 -0.00640 -0.00178   \n",
       "11190  2.19654 -0.21860  0.37868  0.02358  0.60904  0.00220 -0.00708 -0.00174   \n",
       "11200  2.17464 -0.20573  0.39919  0.02467  0.61077  0.00011 -0.00741 -0.00175   \n",
       "11202  2.07865 -0.11052  0.40561  0.02292  0.61022 -0.00121 -0.00688 -0.00174   \n",
       "\n",
       "       frame  particle  \n",
       "11182   1543       165  \n",
       "11185   1544       165  \n",
       "11190   1545       165  \n",
       "11200   1546       165  \n",
       "11202   1547       165  "
      ]
     },
     "execution_count": 91,
     "metadata": {},
     "output_type": "execute_result"
    }
   ],
   "source": [
    "print(f\"is DT={DT} correct?\")\n",
    "beep(3)\n",
    "retval.head()\n"
   ]
  },
  {
   "cell_type": "code",
   "execution_count": 92,
   "metadata": {
    "ExecuteTime": {
     "end_time": "2021-02-16T03:43:16.645385Z",
     "start_time": "2021-02-16T03:43:16.637874Z"
    },
    "hidden": true
   },
   "outputs": [
    {
     "name": "stdout",
     "output_type": "stream",
     "text": [
      "the mean lifetime is 15426.017543859649 ms\n",
      "the max lifetime is 297337 ms\n",
      "the number of trials considered is 171\n"
     ]
    }
   ],
   "source": [
    "#compute mean/max lifetime of spiral tips\n",
    "print(f\"the mean lifetime is {np.mean(lifetime_lst)} ms\")\n",
    "print(f\"the max lifetime is {np.max(lifetime_lst)} ms\")\n",
    "print(f\"the number of trials considered is {len(lifetime_lst)}\")\n"
   ]
  },
  {
   "cell_type": "code",
   "execution_count": 93,
   "metadata": {
    "ExecuteTime": {
     "end_time": "2021-02-16T03:43:17.220889Z",
     "start_time": "2021-02-16T03:43:16.911884Z"
    },
    "hidden": true
   },
   "outputs": [
    {
     "data": {
      "image/png": "[encoded data removed]",
      "text/plain": [
       "<Figure size 576x504 with 1 Axes>"
      ]
     },
     "metadata": {},
     "output_type": "display_data"
    },
    {
     "name": "stdout",
     "output_type": "stream",
     "text": [
      "297337\n"
     ]
    }
   ],
   "source": [
    "\n",
    "plt.hist(lifetime_lst,bins=20)\n",
    "plt.xlabel('duration (ms)')\n",
    "plt.ylabel('number of spiral tips')\n",
    "plt.show()\n",
    "print(np.max(lifetime_lst))"
   ]
  },
  {
   "cell_type": "code",
   "execution_count": 94,
   "metadata": {
    "ExecuteTime": {
     "end_time": "2021-02-16T21:21:17.024604Z",
     "start_time": "2021-02-16T21:21:17.018326Z"
    },
    "hidden": true
   },
   "outputs": [
    {
     "data": {
      "text/plain": [
       "'ic_200x200.019.21_traj_sr_400_mem_0.csv'"
      ]
     },
     "execution_count": 94,
     "metadata": {},
     "output_type": "execute_result"
    }
   ],
   "source": [
    "#TODO(later): extract src from file\n",
    "os.path.basename(file)"
   ]
  },
  {
   "cell_type": "code",
   "execution_count": null,
   "metadata": {
    "hidden": true
   },
   "outputs": [],
   "source": []
  },
  {
   "cell_type": "markdown",
   "metadata": {
    "heading_collapsed": true
   },
   "source": [
    "# open trackpy and look at the goodies"
   ]
  },
  {
   "cell_type": "code",
   "execution_count": 1,
   "metadata": {
    "ExecuteTime": {
     "end_time": "2021-02-19T02:52:54.412801Z",
     "start_time": "2021-02-19T02:52:53.158824Z"
    },
    "hidden": true
   },
   "outputs": [],
   "source": [
    "import trackpy\n",
    "from inspect import getsource"
   ]
  },
  {
   "cell_type": "code",
   "execution_count": 12,
   "metadata": {
    "ExecuteTime": {
     "end_time": "2021-02-19T03:31:27.321674Z",
     "start_time": "2021-02-19T03:31:27.315318Z"
    },
    "hidden": true
   },
   "outputs": [
    {
     "name": "stdout",
     "output_type": "stream",
     "text": [
      "def _msd_fft(traj, mpp, fps, max_lagtime=100, detail=False, pos_columns=None):\n",
      "    \"\"\"Compute the mean displacement and mean squared displacement of one\n",
      "    trajectory over a range of time intervals using FFT transformation.\n",
      "\n",
      "    The original Python implementation comes from a SO answer :\n",
      "    http://stackoverflow.com/questions/34222272/computing-mean-square-displacement-using-python-and-fft#34222273.\n",
      "    The algorithm is described in this paper : http://dx.doi.org/10.1051/sfn/201112010.\n",
      "    \"\"\"\n",
      "    if pos_columns is None:\n",
      "        pos_columns = ['x', 'y']\n",
      "    result_columns = ['<{}>'.format(p) for p in pos_columns] + \\\n",
      "                     ['<{}^2>'.format(p) for p in pos_columns]\n",
      "\n",
      "    r = traj[pos_columns].values * mpp\n",
      "    t = traj['frame']\n",
      "\n",
      "    max_lagtime = min(max_lagtime, len(t) - 1)  # checking to be safe\n",
      "    lagtimes = np.arange(1, max_lagtime + 1)\n",
      "    N = len(r)\n",
      "\n",
      "    # calculate the mean displacements\n",
      "    r_diff = r[:-max_lagtime-1:-1] - r[:max_lagtime]\n",
      "    disp = np.cumsum(r_diff, axis=0) / (N - lagtimes[:, np.newaxis])\n",
      "\n",
      "    # below is a vectorized version of the original code\n",
      "    D = r**2\n",
      "    D_sum = D[:max_lagtime] + D[:-max_lagtime-1:-1]\n",
      "    S1 = 2*D.sum(axis=0) - np.cumsum(D_sum, axis=0)\n",
      "    F = np.fft.fft(r, n=2*N, axis=0)  # 2*N because of zero-padding\n",
      "    PSD = F * F.conjugate()\n",
      "    # this is the autocorrelation in convention B:\n",
      "    S2 = np.fft.ifft(PSD, axis=0)[1:max_lagtime+1].real\n",
      "    squared_disp = S1 - 2 * S2\n",
      "    squared_disp /= N - lagtimes[:, np.newaxis]  # divide res(m) by (N-m)\n",
      "\n",
      "    results = pd.DataFrame(np.concatenate((disp, squared_disp), axis=1),\n",
      "                           index=lagtimes, columns=result_columns)\n",
      "    results['msd'] = squared_disp.sum(axis=1)\n",
      "    if detail:\n",
      "        results['N'] = _msd_N(N, lagtimes)\n",
      "    results['lagt'] = lagtimes / float(fps)\n",
      "    results.index.name = 'lagt'\n",
      "\n",
      "    return results\n",
      "\n"
     ]
    }
   ],
   "source": [
    "print(getsource(trackpy.motion._msd_fft))#msd))\n",
    "# print(getsource(trackpy.motion._msd_N))\n",
    "# print(getsource(trackpy.emsd))#msd))"
   ]
  },
  {
   "cell_type": "code",
   "execution_count": 6,
   "metadata": {
    "ExecuteTime": {
     "end_time": "2021-02-19T03:12:15.935215Z",
     "start_time": "2021-02-19T03:12:15.932555Z"
    },
    "hidden": true
   },
   "outputs": [],
   "source": [
    "import pandas as pd"
   ]
  },
  {
   "cell_type": "code",
   "execution_count": null,
   "metadata": {
    "ExecuteTime": {
     "end_time": "2021-02-19T03:13:27.607410Z",
     "start_time": "2021-02-19T03:13:27.599437Z"
    },
    "hidden": true
   },
   "outputs": [],
   "source": []
  },
  {
   "cell_type": "code",
   "execution_count": null,
   "metadata": {
    "hidden": true
   },
   "outputs": [],
   "source": [
    "def emsd(traj, mpp, fps, max_lagtime=100, detail=False, pos_columns=None):\n",
    "    \"\"\"Compute the ensemble mean squared displacements of many particles.\n",
    "\n",
    "    Parameters\n",
    "    ----------\n",
    "    traj : DataFrame of trajectories of multiple particles, including\n",
    "        columns particle, frame, x, and y\n",
    "    mpp : microns per pixel\n",
    "    fps : frames per second\n",
    "    max_lagtime : intervals of frames out to which MSD is computed\n",
    "        Default: 100\n",
    "    detail : Set to True to include <x>, <y>, <x^2>, <y^2>. Returns\n",
    "        only <r^2> by default.\n",
    "\n",
    "    Returns\n",
    "    -------\n",
    "    Series[msd, index=t] or, if detail=True,\n",
    "    DataFrame([<x>, <y>, <x^2>, <y^2>, msd], index=t)\n",
    "\n",
    "    Notes\n",
    "    -----\n",
    "    Input units are pixels and frames. Output units are microns and seconds.\n",
    "    \"\"\"\n",
    "    ids = []\n",
    "    msds = []\n",
    "    for pid, ptraj in traj.reset_index(drop=True).groupby('particle'):\n",
    "        msds.append(msd(ptraj, mpp, fps, max_lagtime, True, pos_columns))\n",
    "        ids.append(pid)\n",
    "    msds = pandas_concat(msds, keys=ids, names=['particle', 'frame'])\n",
    "    results = msds.mul(msds['N'], axis=0).mean(level=1)  # weighted average\n",
    "    results = results.div(msds['N'].mean(level=1), axis=0)  # weights normalized\n",
    "    # Above, lagt is lumped in with the rest for simplicity and speed.\n",
    "    # Here, rebuild it from the frame index.\n",
    "    if not detail:\n",
    "        return results.set_index('lagt')['msd']\n",
    "    # correctly compute the effective number of independent measurements\n",
    "    results['N'] = msds['N'].sum(level=1)\n",
    "    return results"
   ]
  },
  {
   "cell_type": "markdown",
   "metadata": {},
   "source": [
    "# next???"
   ]
  },
  {
   "cell_type": "code",
   "execution_count": null,
   "metadata": {},
   "outputs": [],
   "source": []
  }
 ],
 "metadata": {
  "kernelspec": {
   "display_name": "Python 3",
   "language": "python",
   "name": "python3"
  },
  "language_info": {
   "codemirror_mode": {
    "name": "ipython",
    "version": 3
   },
   "file_extension": ".py",
   "mimetype": "text/x-python",
   "name": "python",
   "nbconvert_exporter": "python",
   "pygments_lexer": "ipython3",
   "version": "3.7.6"
  },
  "toc": {
   "base_numbering": 1,
   "nav_menu": {},
   "number_sections": true,
   "sideBar": true,
   "skip_h1_title": false,
   "title_cell": "Table of Contents",
   "title_sidebar": "Contents",
   "toc_cell": false,
   "toc_position": {},
   "toc_section_display": true,
   "toc_window_display": false
  },
  "varInspector": {
   "cols": {
    "lenName": 16,
    "lenType": 16,
    "lenVar": 40
   },
   "kernels_config": {
    "python": {
     "delete_cmd_postfix": "",
     "delete_cmd_prefix": "del ",
     "library": "var_list.py",
     "varRefreshCmd": "print(var_dic_list())"
    },
    "r": {
     "delete_cmd_postfix": ") ",
     "delete_cmd_prefix": "rm(",
     "library": "var_list.r",
     "varRefreshCmd": "cat(var_dic_list()) "
    }
   },
   "types_to_exclude": [
    "module",
    "function",
    "builtin_function_or_method",
    "instance",
    "_Feature"
   ],
   "window_display": false
  }
 },
 "nbformat": 4,
 "nbformat_minor": 4
}
