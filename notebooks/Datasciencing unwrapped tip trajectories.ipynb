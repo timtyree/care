{
 "cells": [
  {
   "cell_type": "markdown",
   "metadata": {},
   "source": [
    "# Datasciencing unwrapped tip trajectories\n",
    "Tim Tyree<br>\n",
    "2.9.2021"
   ]
  },
  {
   "cell_type": "code",
   "execution_count": 2,
   "metadata": {
    "ExecuteTime": {
     "end_time": "2021-02-10T19:20:13.134739Z",
     "start_time": "2021-02-10T19:20:10.717683Z"
    }
   },
   "outputs": [],
   "source": [
    "from lib.my_initialization import *\n",
    "from lib import *"
   ]
  },
  {
   "cell_type": "markdown",
   "metadata": {},
   "source": [
    "- TODO: compute msd for each trajectory\n",
    "- TODO: compute msd for each trajectory, removing the frames \"at birth\" and \"at death\"\n",
    "\n",
    "- TODO: compute some orientation-blind features\n",
    "    - ( cosine of angles / signed angles ) between acceleration, velocity, grad(V), and grad(dVdt)\n",
    "    - speed, change of speed, \n",
    "- TODO(later): write a cell describing methods/data schema\n",
    "- TODO: make umap and/or tsne scatter plot of tip trajectories\n",
    "- TODO: make gif for spiral tip simulation.  consider outputing returning one image/saving one .png for a given txt call.\n",
    "- TODO: keep track of an img1 =txt.V-V_thresh and img2={dVdt or lag(img1,2ms).\n",
    "- TODO: color tips by duration, frame number for ^those visualizations"
   ]
  },
  {
   "cell_type": "code",
   "execution_count": 20,
   "metadata": {
    "ExecuteTime": {
     "end_time": "2021-02-10T00:45:54.485985Z",
     "start_time": "2021-02-10T00:45:54.446994Z"
    }
   },
   "outputs": [],
   "source": [
    "#save df as csv in care\n",
    "data_folder=os.path.join(nb_dir,'Data/cloud_results')\n",
    "os.chdir(data_folder)\n",
    "data_fn='longest_traj_by_area_lr_pbc.csv'\n",
    "df_all=pd.read_csv(data_fn)"
   ]
  },
  {
   "cell_type": "code",
   "execution_count": 21,
   "metadata": {
    "ExecuteTime": {
     "end_time": "2021-02-10T00:45:57.587038Z",
     "start_time": "2021-02-10T00:45:57.577581Z"
    }
   },
   "outputs": [],
   "source": [
    "#TODO: store/load this in a json automatically\n",
    "#Hint: see methods for param loading from \n",
    "# param_fn = 'param_set_8.json'\n",
    "# param_dir = os.path.join(nb_dir,'lib/model')\n",
    "# with open(os.path.join(param_dir,param_fn)) as f:\n",
    "#     param_dict = json.load(f)\n",
    "K12_index_set={(529, 0, 0): 0,\n",
    " (404, 1, 1): 0,\n",
    " (613, 0, 0): 0,\n",
    " (420, 0, 5): 0,\n",
    " (447, 1, 0): 0,\n",
    " (360, 1, 8): 0,\n",
    " (361, 2, 8): 0,\n",
    " (457, 3, 2): 0,\n",
    " (472, 2, 1): 0,\n",
    " (455, 2, 3): 0,\n",
    " (426, 3, 4): 0,\n",
    " (489, 3, 3): 0,\n",
    " (371, 2, 3): 0,\n",
    " (440, 3, 7): 0,\n",
    " (544, 3, 2): 0,\n",
    " (523, 0, 1): 0,\n",
    " (531, 2, 3): 0,\n",
    " (306, 1, 7): 0,\n",
    " (513, 2, 3): 0,\n",
    " (327, 3, 15): 0,\n",
    " (353, 1, 12): 0,\n",
    " (357, 1, 14): 0,\n",
    " (363, 2, 5): 0,\n",
    " (592, 2, 3): 0,\n",
    " (367, 2, 8): 0,\n",
    " (367, 2, 6): 0,\n",
    " (364, 2, 5): 0,\n",
    " (547, 2, 1): 0,\n",
    " (355, 2, 12): 0,\n",
    " (452, 1, 3): 0,\n",
    " (317, 1, 6): 0,\n",
    " (317, 1, 9): 0,\n",
    " (346, 3, 3): 0,\n",
    " (515, 0, 1): 0,\n",
    " (554, 2, 1): 0,\n",
    " (534, 1, 0): 0,\n",
    " (300, 0, 7): 0,\n",
    " (513, 0, 3): 0,\n",
    " (392, 0, 8): 0}"
   ]
  },
  {
   "cell_type": "markdown",
   "metadata": {
    "heading_collapsed": true
   },
   "source": [
    "# visualize the longest trajectories"
   ]
  },
  {
   "cell_type": "code",
   "execution_count": 5,
   "metadata": {
    "ExecuteTime": {
     "end_time": "2021-02-09T18:36:34.441065Z",
     "start_time": "2021-02-09T18:36:34.437498Z"
    },
    "hidden": true
   },
   "outputs": [],
   "source": [
    "#load df \n",
    "data_folder=os.path.join(nb_dir,'Data/cloud_results')\n",
    "os.chdir(data_folder)\n",
    "data_fn='longest_traj_by_area_lr_pbc.csv'"
   ]
  },
  {
   "cell_type": "code",
   "execution_count": 10,
   "metadata": {
    "ExecuteTime": {
     "end_time": "2021-02-09T18:36:52.613264Z",
     "start_time": "2021-02-09T18:36:52.583266Z"
    },
    "hidden": true
   },
   "outputs": [],
   "source": [
    "DS=0.025\n",
    "#DONE: compute the area for each trial\n",
    "df=pd.read_csv(data_fn)\n",
    "df['area']=df.L**2*DS**2#cm^2"
   ]
  },
  {
   "cell_type": "code",
   "execution_count": 11,
   "metadata": {
    "ExecuteTime": {
     "end_time": "2021-02-09T18:36:52.960422Z",
     "start_time": "2021-02-09T18:36:52.950659Z"
    },
    "hidden": true
   },
   "outputs": [],
   "source": [
    "#TODO: plot MSD for each trial\n",
    "d=df[(df.L==513)& (df.txt_id1==0)&(df.txt_id2==3)]\n",
    "#TODO: detect brownian motion for each trial\n",
    "#TODO: compute the largest number of repeats of a single trial run"
   ]
  },
  {
   "cell_type": "code",
   "execution_count": 12,
   "metadata": {
    "ExecuteTime": {
     "end_time": "2021-02-09T18:36:53.327935Z",
     "start_time": "2021-02-09T18:36:53.323423Z"
    },
    "hidden": true
   },
   "outputs": [
    {
     "name": "stdout",
     "output_type": "stream",
     "text": [
      "this spiral tip lasted 228.0 ms.\n"
     ]
    }
   ],
   "source": [
    "print(f\"this spiral tip lasted {d.t.max()-d.t.min()} ms.\")"
   ]
  },
  {
   "cell_type": "code",
   "execution_count": 14,
   "metadata": {
    "ExecuteTime": {
     "end_time": "2021-02-09T18:37:04.011922Z",
     "start_time": "2021-02-09T18:37:03.703355Z"
    },
    "hidden": true
   },
   "outputs": [
    {
     "data": {
      "image/png": "[encoded data removed]",
      "text/plain": [
       "<Figure size 432x288 with 1 Axes>"
      ]
     },
     "metadata": {
      "needs_background": "light"
     },
     "output_type": "display_data"
    }
   ],
   "source": [
    "src_lst=['447_1_0',\"523_0_1\",\"529_0_0\"]\n",
    "A_lst=[447**2*DS**2,523**2*DS**2,529**2*DS**2]\n",
    "for A,src in zip(A_lst,src_lst):\n",
    "    d_in=df[df.src==src]\n",
    "\n",
    "    DS=0.025#cm per pixel\n",
    "    DT=2.#ms per frame\n",
    "    #compute ensemble mean squared displacement\n",
    "    emsd = trackpy.motion.emsd(d_in, mpp=1., fps=1.,max_lagtime=40000)\n",
    "    #cast ensemble mean squared displacement into units of cm^2 and seconds\n",
    "    d_out= pd.DataFrame({'msd':DS**2*emsd.values, 'lagt':emsd.index.values*DT/10**3, 'src':src})\n",
    "\n",
    "\n",
    "    x_values=d_out.lagt\n",
    "    y_values=d_out.msd\n",
    "\n",
    "    plt.plot(x_values,y_values,label=f\"{int(np.around(A))} cm^2\")\n",
    "plt.xlabel('lag (sec)')\n",
    "plt.ylabel(r'MSD (cm$^2$)')\n",
    "plt.legend()\n",
    "plt.show()"
   ]
  },
  {
   "cell_type": "markdown",
   "metadata": {
    "heading_collapsed": true
   },
   "source": [
    "# create longer spiral tip trajectories for LR model?\n",
    "- TODO: check untruncated results using full output on UB\n",
    "- if raising jump_threshold, for example, gives robust \n"
   ]
  },
  {
   "cell_type": "markdown",
   "metadata": {},
   "source": [
    "# TODO(later) visualize features agnostic to orientation"
   ]
  },
  {
   "cell_type": "markdown",
   "metadata": {},
   "source": [
    "- TODO(option A): use umap according to https://www.r-bloggers.com/2020/11/umap-clustering-in-python/\n",
    "    - !pip install umap-learn and !pip install datatable\n",
    "- TODO(option B): use TSNE using sklearn.manifold.tsne\n",
    "    - https://scikit-learn.org/stable/modules/generated/sklearn.manifold.TSNE.html\n",
    "    - disadvantage: \"Global structure is not explicitly preserved. This problem is mitigated by initializing points with PCA (using `init='pca'`).\"\n",
    "- TODO(option C): play with sklearn.manifold in general https://scikit-learn.org/stable/modules/manifold.html#manifold\n",
    "- TODO(option D): play with `pip install keras-self-attention`\n",
    "\n",
    "then,\n",
    "- TODO: use umap to visualize ^those\n",
    "    - https://www.r-bloggers.com/2020/11/umap-clustering-in-python/\n"
   ]
  },
  {
   "cell_type": "markdown",
   "metadata": {},
   "source": [
    "# TODO: compute msd for each trajectory\n",
    "- TODO: compute msd for each trajectory, removing the frames \"at birth\" and \"at death\""
   ]
  },
  {
   "cell_type": "code",
   "execution_count": 18,
   "metadata": {
    "ExecuteTime": {
     "end_time": "2021-02-09T21:57:01.926294Z",
     "start_time": "2021-02-09T21:57:01.903223Z"
    }
   },
   "outputs": [
    {
     "ename": "NameError",
     "evalue": "name 'diffcoeff_table_gener' is not defined",
     "output_type": "error",
     "traceback": [
      "\u001b[0;31m---------------------------------------------------------------------------\u001b[0m",
      "\u001b[0;31mNameError\u001b[0m                                 Traceback (most recent call last)",
      "\u001b[0;32m<ipython-input-18-3ab4037ebf3b>\u001b[0m in \u001b[0;36m<module>\u001b[0;34m\u001b[0m\n\u001b[1;32m      1\u001b[0m \u001b[0;31m# - TODO: compute msd for each trajectory\u001b[0m\u001b[0;34m\u001b[0m\u001b[0;34m\u001b[0m\u001b[0;34m\u001b[0m\u001b[0m\n\u001b[0;32m----> 2\u001b[0;31m retval= diffcoeff_table_gener(ic_suite_fn,trial_folder_name_lst,dict_kwargs_trial,\n\u001b[0m\u001b[1;32m      3\u001b[0m                               npartitions=2, use_cache_1=False)#, R2_thresh=0.0,duration_thresh=.0, tau_min=0.)\n\u001b[1;32m      4\u001b[0m \u001b[0mbeep\u001b[0m\u001b[0;34m(\u001b[0m\u001b[0;36m2\u001b[0m\u001b[0;34m)\u001b[0m\u001b[0;34m\u001b[0m\u001b[0;34m\u001b[0m\u001b[0m\n\u001b[1;32m      5\u001b[0m \u001b[0mprint\u001b[0m\u001b[0;34m(\u001b[0m\u001b[0;34mf\"retval is {retval}\"\u001b[0m\u001b[0;34m)\u001b[0m\u001b[0;34m\u001b[0m\u001b[0;34m\u001b[0m\u001b[0m\n",
      "\u001b[0;31mNameError\u001b[0m: name 'diffcoeff_table_gener' is not defined"
     ]
    }
   ],
   "source": [
    "# - TODO: compute msd for each trajectory\n",
    "retval= diffcoeff_table_gener(ic_suite_fn,trial_folder_name_lst,dict_kwargs_trial,\n",
    "                              npartitions=2, use_cache_1=False)#, R2_thresh=0.0,duration_thresh=.0, tau_min=0.)\n",
    "beep(2)\n",
    "print(f\"retval is {retval}\")"
   ]
  },
  {
   "cell_type": "code",
   "execution_count": 15,
   "metadata": {
    "ExecuteTime": {
     "end_time": "2021-02-09T21:56:11.654579Z",
     "start_time": "2021-02-09T21:56:11.587733Z"
    }
   },
   "outputs": [
    {
     "ename": "NameError",
     "evalue": "name 'diffcoeff_table_gener' is not defined",
     "output_type": "error",
     "traceback": [
      "\u001b[0;31m---------------------------------------------------------------------------\u001b[0m",
      "\u001b[0;31mNameError\u001b[0m                                 Traceback (most recent call last)",
      "\u001b[0;32m<ipython-input-15-59933057372d>\u001b[0m in \u001b[0;36m<module>\u001b[0;34m\u001b[0m\n\u001b[0;32m----> 1\u001b[0;31m \u001b[0mdiffcoeff_table_gener\u001b[0m\u001b[0;34m\u001b[0m\u001b[0;34m\u001b[0m\u001b[0m\n\u001b[0m",
      "\u001b[0;31mNameError\u001b[0m: name 'diffcoeff_table_gener' is not defined"
     ]
    }
   ],
   "source": [
    "diffcoeff_table_gener"
   ]
  },
  {
   "cell_type": "code",
   "execution_count": null,
   "metadata": {},
   "outputs": [],
   "source": []
  },
  {
   "cell_type": "code",
   "execution_count": 4,
   "metadata": {
    "ExecuteTime": {
     "end_time": "2021-02-10T19:22:28.386378Z",
     "start_time": "2021-02-10T19:20:40.657812Z"
    }
   },
   "outputs": [
    {
     "data": {
      "text/plain": [
       "0"
      ]
     },
     "execution_count": 4,
     "metadata": {},
     "output_type": "execute_result"
    }
   ],
   "source": [
    "txt=get_txt(2,2,100,100,nb_dir)\n",
    "beep(1)"
   ]
  },
  {
   "cell_type": "code",
   "execution_count": 5,
   "metadata": {
    "ExecuteTime": {
     "end_time": "2021-02-10T19:22:28.423075Z",
     "start_time": "2021-02-10T19:22:28.418693Z"
    }
   },
   "outputs": [
    {
     "data": {
      "text/plain": [
       "(100, 100, 18)"
      ]
     },
     "execution_count": 5,
     "metadata": {},
     "output_type": "execute_result"
    }
   ],
   "source": [
    "txt.shape"
   ]
  },
  {
   "cell_type": "code",
   "execution_count": 6,
   "metadata": {
    "ExecuteTime": {
     "end_time": "2021-02-11T09:33:53.020692Z",
     "start_time": "2021-02-11T09:33:31.971184Z"
    }
   },
   "outputs": [],
   "source": [
    "#wait a randomly selected amount of time (10-100 seconds)#UNCOMMENT_HERE\n",
    "from random import randint\n",
    "from time import sleep\n",
    "sleep(randint(10,100))"
   ]
  },
  {
   "cell_type": "code",
   "execution_count": 8,
   "metadata": {
    "ExecuteTime": {
     "end_time": "2021-02-11T09:45:50.423051Z",
     "start_time": "2021-02-11T09:44:35.227252Z"
    }
   },
   "outputs": [],
   "source": [
    "txt=get_txt(2,1,50,50,nb_dir)"
   ]
  },
  {
   "cell_type": "code",
   "execution_count": 10,
   "metadata": {
    "ExecuteTime": {
     "end_time": "2021-02-11T09:45:57.716050Z",
     "start_time": "2021-02-11T09:45:57.712010Z"
    }
   },
   "outputs": [
    {
     "data": {
      "text/plain": [
       "(50, 50, 18)"
      ]
     },
     "execution_count": 10,
     "metadata": {},
     "output_type": "execute_result"
    }
   ],
   "source": [
    "txt.shape\n",
    "# beep(3)"
   ]
  },
  {
   "cell_type": "markdown",
   "metadata": {},
   "source": [
    "# Scrum 2.13.2021"
   ]
  },
  {
   "cell_type": "markdown",
   "metadata": {},
   "source": [
    "__todo(prereq)__\n",
    "- merge care_worker's lib with care's lib\n",
    "- verify that all FK instances of the kwarg, diffcoeff, are effected by user inputs.\n",
    "- use care_worker's method to launch the following 2 settings"
   ]
  },
  {
   "cell_type": "markdown",
   "metadata": {},
   "source": [
    "__todo: measure 2 settings__\n",
    "- D=current, A=double (400x400)\n",
    "- D=double, A=current (200x200)"
   ]
  },
  {
   "cell_type": "markdown",
   "metadata": {},
   "source": [
    "todo for param_set_8_og find mean maximum spiral tip lifetime.  is it ~800ms like in the lr model?  if so, why does wj's alteration lead to longer lasting tips? what is the physiological interpretation of wj's alteration?  i.e. what does wj's alteration mean in terms of the local action potential?  what change achieveds the same effect in the LR model? is it shortened APD resulting from high K_o?"
   ]
  },
  {
   "cell_type": "code",
   "execution_count": null,
   "metadata": {},
   "outputs": [],
   "source": []
  }
 ],
 "metadata": {
  "kernelspec": {
   "display_name": "Python 3",
   "language": "python",
   "name": "python3"
  },
  "language_info": {
   "codemirror_mode": {
    "name": "ipython",
    "version": 3
   },
   "file_extension": ".py",
   "mimetype": "text/x-python",
   "name": "python",
   "nbconvert_exporter": "python",
   "pygments_lexer": "ipython3",
   "version": "3.7.6"
  },
  "toc": {
   "base_numbering": 1,
   "nav_menu": {},
   "number_sections": true,
   "sideBar": true,
   "skip_h1_title": false,
   "title_cell": "Table of Contents",
   "title_sidebar": "Contents",
   "toc_cell": false,
   "toc_position": {},
   "toc_section_display": true,
   "toc_window_display": false
  },
  "varInspector": {
   "cols": {
    "lenName": 16,
    "lenType": 16,
    "lenVar": 40
   },
   "kernels_config": {
    "python": {
     "delete_cmd_postfix": "",
     "delete_cmd_prefix": "del ",
     "library": "var_list.py",
     "varRefreshCmd": "print(var_dic_list())"
    },
    "r": {
     "delete_cmd_postfix": ") ",
     "delete_cmd_prefix": "rm(",
     "library": "var_list.r",
     "varRefreshCmd": "cat(var_dic_list()) "
    }
   },
   "types_to_exclude": [
    "module",
    "function",
    "builtin_function_or_method",
    "instance",
    "_Feature"
   ],
   "window_display": false
  }
 },
 "nbformat": 4,
 "nbformat_minor": 4
}
