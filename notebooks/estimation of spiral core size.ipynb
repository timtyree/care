{
 "cells": [
  {
   "cell_type": "markdown",
   "id": "75339c6f",
   "metadata": {},
   "source": [
    "# estimation of spiral core size\n",
    "Tim Tyree<br>\n",
    "8.27.2023"
   ]
  },
  {
   "cell_type": "code",
   "execution_count": 2,
   "id": "a8b90696",
   "metadata": {
    "ExecuteTime": {
     "end_time": "2023-08-27T20:48:36.414085Z",
     "start_time": "2023-08-27T20:48:36.066353Z"
    }
   },
   "outputs": [
    {
     "name": "stdout",
     "output_type": "stream",
     "text": [
      "Automatic calling is: Smart\n",
      "The autoreload extension is already loaded. To reload it, use:\n",
      "  %reload_ext autoreload\n"
     ]
    }
   ],
   "source": [
    "#pylab\n",
    "%matplotlib inline\n",
    "import numpy as np, pandas as pd, matplotlib.pyplot as plt\n",
    "\n",
    "import skimage as sk\n",
    "from skimage import measure, filters\n",
    "\n",
    "from numba import njit, jit, vectorize\n",
    "from PIL import Image\n",
    "import imageio\n",
    "# import cv2 as cv\n",
    "\n",
    "#automate the boring stuff\n",
    "from IPython import utils\n",
    "import time, os, sys, re\n",
    "beep = lambda x: os.system(\"echo -n '\\\\a';sleep 0.2;\" * x)\n",
    "if not 'nb_dir' in globals():\n",
    "    nb_dir = os.getcwd()\n",
    "# width = 512\n",
    "# height = 512\n",
    "# channel_no = 3\n",
    "\n",
    "# #load the libraries\n",
    "from lib import *\n",
    "# from lib.measure._find_tips_pbc_cy import lookup_segments\n",
    "# from lib.measure._find_tips_kernel import *\n",
    "# from lib.measure._find_tips_kernel_cy import find_intersections\n",
    "#use cuda via numba\n",
    "from numba import jit, njit, vectorize, cuda, uint32, f8, uint8\n",
    "from numba.typed import List\n",
    "# from lib.contours_to_tips import *\n",
    "import shutil\n",
    "from lib.measure.comp_tips_safely import get_comp_tips\n",
    "from lib.viewer.DomainPlot import SaveTipsAndColoredContours\n",
    "\n",
    "%autocall 1\n",
    "%load_ext autoreload\n",
    "%autoreload 2"
   ]
  },
  {
   "cell_type": "markdown",
   "id": "e731b194",
   "metadata": {},
   "source": [
    "# define module"
   ]
  },
  {
   "cell_type": "code",
   "execution_count": null,
   "id": "00c727a2",
   "metadata": {},
   "outputs": [],
   "source": []
  },
  {
   "cell_type": "markdown",
   "id": "5f5ace81",
   "metadata": {},
   "source": [
    "# load initial conditions containing spiral tips for FK"
   ]
  },
  {
   "cell_type": "code",
   "execution_count": 16,
   "id": "e3cbd0f6",
   "metadata": {
    "ExecuteTime": {
     "end_time": "2023-08-27T21:09:19.205895Z",
     "start_time": "2023-08-27T21:09:19.111173Z"
    }
   },
   "outputs": [],
   "source": [
    "#LR\n",
    "input_dir=f\"{nb_dir}/Data/initial-conditions-suite-3-LR/ic-in/ic019.33.npz\""
   ]
  },
  {
   "cell_type": "code",
   "execution_count": 24,
   "id": "4909821f",
   "metadata": {
    "ExecuteTime": {
     "end_time": "2023-08-27T21:12:36.812083Z",
     "start_time": "2023-08-27T21:12:36.707068Z"
    }
   },
   "outputs": [],
   "source": [
    "#FK\n",
    "input_dir=f\"{nb_dir}/Data/initial-conditions-suite-1/ic-in/ic_200x200.121.33.npz\""
   ]
  },
  {
   "cell_type": "code",
   "execution_count": 25,
   "id": "ca1027de",
   "metadata": {
    "ExecuteTime": {
     "end_time": "2023-08-27T21:12:37.160118Z",
     "start_time": "2023-08-27T21:12:37.063191Z"
    }
   },
   "outputs": [],
   "source": [
    "assert os.path.exists(input_dir)"
   ]
  },
  {
   "cell_type": "code",
   "execution_count": null,
   "id": "69b9e9b1",
   "metadata": {},
   "outputs": [],
   "source": []
  },
  {
   "cell_type": "code",
   "execution_count": null,
   "id": "e77b49cf",
   "metadata": {},
   "outputs": [],
   "source": []
  },
  {
   "cell_type": "markdown",
   "id": "bd53cb8b",
   "metadata": {},
   "source": [
    "## generate snippet with greater than one period of motion for FK"
   ]
  },
  {
   "cell_type": "code",
   "execution_count": 21,
   "id": "2d9bc7ef",
   "metadata": {
    "ExecuteTime": {
     "end_time": "2023-08-27T21:09:38.294960Z",
     "start_time": "2023-08-27T21:09:38.141587Z"
    }
   },
   "outputs": [
    {
     "name": "stdout",
     "output_type": "stream",
     "text": [
      "param_fn is param_set_8.json.\n"
     ]
    }
   ],
   "source": [
    "get_time_step_fk,one_step_fk=recall_flow_map_fk(nb_dir=nb_dir,diffCoef=0.0005,width=200,height=200,dsdpixel=0.025)"
   ]
  },
  {
   "cell_type": "code",
   "execution_count": 22,
   "id": "8324a97f",
   "metadata": {
    "ExecuteTime": {
     "end_time": "2023-08-27T21:09:57.091787Z",
     "start_time": "2023-08-27T21:09:56.981637Z"
    }
   },
   "outputs": [],
   "source": [
    "get_time_step_fk(texture, out)"
   ]
  },
  {
   "cell_type": "code",
   "execution_count": null,
   "id": "8dd66599",
   "metadata": {},
   "outputs": [],
   "source": []
  },
  {
   "cell_type": "code",
   "execution_count": null,
   "id": "c329ce84",
   "metadata": {},
   "outputs": [],
   "source": []
  },
  {
   "cell_type": "markdown",
   "id": "0139196e",
   "metadata": {
    "heading_collapsed": true
   },
   "source": [
    "## compute the Hilbert transform everywhere"
   ]
  },
  {
   "cell_type": "code",
   "execution_count": null,
   "id": "b938d824",
   "metadata": {
    "hidden": true
   },
   "outputs": [],
   "source": []
  },
  {
   "cell_type": "code",
   "execution_count": null,
   "id": "85a62977",
   "metadata": {
    "hidden": true
   },
   "outputs": [],
   "source": []
  },
  {
   "cell_type": "markdown",
   "id": "883f1de9",
   "metadata": {
    "heading_collapsed": true
   },
   "source": [
    "## compute the phase defect everywhere"
   ]
  },
  {
   "cell_type": "code",
   "execution_count": null,
   "id": "1a91f9b7",
   "metadata": {
    "hidden": true
   },
   "outputs": [],
   "source": []
  },
  {
   "cell_type": "markdown",
   "id": "9e7706ce",
   "metadata": {},
   "source": [
    "# load initial conditions containing spiral tips for LR"
   ]
  },
  {
   "cell_type": "code",
   "execution_count": 30,
   "id": "034165fb",
   "metadata": {
    "ExecuteTime": {
     "end_time": "2023-08-27T21:15:54.313692Z",
     "start_time": "2023-08-27T21:15:53.610224Z"
    }
   },
   "outputs": [],
   "source": [
    "# ic_fn=f\"{nb_dir}/Data/initial-conditions-suite-3-LR/ic-out/ic008.33.npz\"\n",
    "ic_fn=f\"{nb_dir}/Data/initial-conditions-suite-3-LR/ic-in/ic008.33.npz\"\n",
    "t=0\n",
    "\n",
    "txt=load_buffer(ic_fn)\n",
    "ds=5.\n",
    "frameno=1\n",
    "# txt=load_buffer(txt_fn)\n",
    "inVc,outVc,inmhjdfx,outmhjdfx,dVcdt=unstack_txt(txt)\n",
    "width,height=txt.shape[:2]\n",
    "V_threshold=-40\n",
    "dt=0.1 #supports really long termination time...\n",
    "diffCoef=0.001#0.0005\n",
    "Cm=1.0\n",
    "# comp_dict_topo_full_color=get_comp_dict_topo_full_color(width=width,height=height,level1=V_threshold,level2=V_threshold)\n",
    "# get_one_step at this dt\n",
    "__, arr39, one_step = get_one_step_explicit_synchronous_splitting(\n",
    "    nb_dir=nb_dir,dt=dt,width=width,height=height,ds=ds,diffCoef=diffCoef,Cm=Cm)\n",
    "# comp_dict_topo_simple=get_comp_dict_topo_simple(width=width,height=height,level1=V_threshold,level2=0)"
   ]
  },
  {
   "cell_type": "code",
   "execution_count": 31,
   "id": "80afdf4a",
   "metadata": {
    "ExecuteTime": {
     "end_time": "2023-08-27T21:19:05.259071Z",
     "start_time": "2023-08-27T21:17:41.695648Z"
    }
   },
   "outputs": [],
   "source": [
    "#estimated run time <2 min\n",
    "DT=4 #ms\n",
    "nsteps_per_DT=int(DT/dt)\n",
    "#comp img_prev example\n",
    "inVc,outVc,inmhjdfx,outmhjdfx,dVcdt=unstack_txt(txt)\n",
    "#integrate to t=100 milliseconds\n",
    "while t<100:\n",
    "    one_step(inVc,outVc,inmhjdfx,outmhjdfx,dVcdt)\n",
    "    t+=dt\n",
    "img_prev=inVc[...,0].copy()\n",
    "for n in range(nsteps_per_DT):\n",
    "    one_step(inVc,outVc,inmhjdfx,outmhjdfx,dVcdt)\n",
    "    t+=dt\n",
    "txt=stack_txt(inVc,outVc,inmhjdfx,outmhjdfx,dVcdt).copy()\n",
    "img=inVc[...,0].copy();#dimgdt=dVcdt[...,0]"
   ]
  },
  {
   "cell_type": "code",
   "execution_count": 34,
   "id": "992b6391",
   "metadata": {
    "ExecuteTime": {
     "end_time": "2023-08-27T21:20:58.633779Z",
     "start_time": "2023-08-27T21:20:58.327122Z"
    }
   },
   "outputs": [
    {
     "data": {
      "text/plain": [
       "<matplotlib.image.AxesImage at 0x7fe57115c550>"
      ]
     },
     "execution_count": 34,
     "metadata": {},
     "output_type": "execute_result"
    },
    {
     "data": {
      "image/png": "[encoded data removed]",
      "text/plain": [
       "<Figure size 432x288 with 1 Axes>"
      ]
     },
     "metadata": {
      "needs_background": "light"
     },
     "output_type": "display_data"
    }
   ],
   "source": [
    "#Q: can I estimate the diameter of a spiral core using dVdt instead of its Hilbert transform/the analytic signal?\n",
    "plt.imshow(img,cmap='gray')"
   ]
  },
  {
   "cell_type": "code",
   "execution_count": 36,
   "id": "8b4eaf8b",
   "metadata": {
    "ExecuteTime": {
     "end_time": "2023-08-27T21:22:42.888824Z",
     "start_time": "2023-08-27T21:22:42.601407Z"
    }
   },
   "outputs": [
    {
     "data": {
      "text/plain": [
       "<matplotlib.image.AxesImage at 0x7fe571173be0>"
      ]
     },
     "execution_count": 36,
     "metadata": {},
     "output_type": "execute_result"
    },
    {
     "data": {
      "image/png": "[encoded data removed]",
      "text/plain": [
       "<Figure size 432x288 with 1 Axes>"
      ]
     },
     "metadata": {
      "needs_background": "light"
     },
     "output_type": "display_data"
    }
   ],
   "source": [
    "dVdt=dVcdt[...,0].copy()\n",
    "# .shape\n",
    "plt.imshow(dVdt,cmap='gray')"
   ]
  },
  {
   "cell_type": "code",
   "execution_count": 57,
   "id": "69344392",
   "metadata": {
    "ExecuteTime": {
     "end_time": "2023-08-27T21:36:46.454519Z",
     "start_time": "2023-08-27T21:36:46.179638Z"
    }
   },
   "outputs": [
    {
     "data": {
      "text/plain": [
       "<matplotlib.image.AxesImage at 0x7fe58e5b2a90>"
      ]
     },
     "execution_count": 57,
     "metadata": {},
     "output_type": "execute_result"
    },
    {
     "data": {
      "image/png": "[encoded data removed]",
      "text/plain": [
       "<Figure size 432x288 with 1 Axes>"
      ]
     },
     "metadata": {
      "needs_background": "light"
     },
     "output_type": "display_data"
    }
   ],
   "source": [
    "img_dVdtd0=np.gradient(dVdt,axis=0)\n",
    "img_dVdtd1=np.gradient(dVdt,axis=1)\n",
    "# plt.imshow(img_dVdtd0,cmap='gray')\n",
    "plt.imshow(img_dVdtd1,cmap='gray')"
   ]
  },
  {
   "cell_type": "code",
   "execution_count": 64,
   "id": "7f551ad0",
   "metadata": {
    "ExecuteTime": {
     "end_time": "2023-08-27T21:39:32.478496Z",
     "start_time": "2023-08-27T21:39:32.392012Z"
    }
   },
   "outputs": [],
   "source": [
    "#TODO: estimate the phase everywhere\n",
    "# img_vphase = np.arctan2(img_dVdtd1,img_dVdtd0)\n",
    "img_vphase = np.arctan2(img_dVdtd0,img_dVdtd1)"
   ]
  },
  {
   "cell_type": "code",
   "execution_count": 95,
   "id": "8192a20d",
   "metadata": {
    "ExecuteTime": {
     "end_time": "2023-08-28T01:30:47.852414Z",
     "start_time": "2023-08-28T01:30:47.542703Z"
    }
   },
   "outputs": [
    {
     "data": {
      "text/plain": [
       "<matplotlib.image.AxesImage at 0x7fe57316b970>"
      ]
     },
     "execution_count": 95,
     "metadata": {},
     "output_type": "execute_result"
    },
    {
     "data": {
      "image/png": "[encoded data removed]",
      "text/plain": [
       "<Figure size 432x288 with 1 Axes>"
      ]
     },
     "metadata": {
      "needs_background": "light"
     },
     "output_type": "display_data"
    }
   ],
   "source": [
    "plt.imshow(img_vphase,cmap='gray')\n",
    "# plt.imshow(img_ph,cmap='gray_r')\n"
   ]
  },
  {
   "cell_type": "code",
   "execution_count": 66,
   "id": "4cc8db2f",
   "metadata": {
    "ExecuteTime": {
     "end_time": "2023-08-27T22:00:07.843915Z",
     "start_time": "2023-08-27T22:00:07.326858Z"
    }
   },
   "outputs": [
    {
     "data": {
      "text/plain": [
       "(3.1415153, -3.1415205)"
      ]
     },
     "execution_count": 66,
     "metadata": {},
     "output_type": "execute_result"
    }
   ],
   "source": [
    "np.max(img_vphase),np.min(img_vphase)"
   ]
  },
  {
   "cell_type": "code",
   "execution_count": 84,
   "id": "e47f9ed3",
   "metadata": {
    "ExecuteTime": {
     "end_time": "2023-08-27T22:06:46.558300Z",
     "start_time": "2023-08-27T22:06:45.769512Z"
    }
   },
   "outputs": [],
   "source": [
    "#estimate the phase coherence everywhere\n",
    "image=img_vphase\n",
    "img_ph=np.zeros_like(image)\n",
    "for i in range(width-1):\n",
    "    for j in range(height-1):\n",
    "        phase =np.exp(1j*image[i,j+1])\n",
    "        phase+=np.exp(1j*image[i,j-1])\n",
    "        phase+=np.exp(1j*image[i+1,j])\n",
    "        phase+=np.exp(1j*image[i-1,j])\n",
    "        ph=np.abs(phase)/4.\n",
    "        img_ph[i,j]=ph"
   ]
  },
  {
   "cell_type": "code",
   "execution_count": 94,
   "id": "62e88ad2",
   "metadata": {
    "ExecuteTime": {
     "end_time": "2023-08-28T01:30:08.864316Z",
     "start_time": "2023-08-28T01:30:08.559712Z"
    }
   },
   "outputs": [
    {
     "data": {
      "image/png": "[encoded data removed]",
      "text/plain": [
       "<Figure size 432x288 with 1 Axes>"
      ]
     },
     "metadata": {
      "needs_background": "light"
     },
     "output_type": "display_data"
    }
   ],
   "source": [
    "# plt.imshow(img_ph,cmap='gray_r')\n",
    "plt.imshow(img_ph,cmap='jet_r')\n",
    "plt.axis('off')\n",
    "plt.show()"
   ]
  },
  {
   "cell_type": "code",
   "execution_count": 79,
   "id": "8187a1ae",
   "metadata": {
    "ExecuteTime": {
     "end_time": "2023-08-27T22:05:56.302474Z",
     "start_time": "2023-08-27T22:05:56.196885Z"
    }
   },
   "outputs": [
    {
     "data": {
      "text/plain": [
       "(0.5523389813907644+0j)"
      ]
     },
     "execution_count": 79,
     "metadata": {},
     "output_type": "execute_result"
    }
   ],
   "source": [
    "#TODO: generate phase map from xy derivative\n",
    "# plt.quiver(img_dVdtd0,img_dVdtd1)\n",
    "np.sqrt(phase.conj()*phase)/4."
   ]
  },
  {
   "cell_type": "code",
   "execution_count": 76,
   "id": "d235c3e3",
   "metadata": {
    "ExecuteTime": {
     "end_time": "2023-08-27T22:04:58.191074Z",
     "start_time": "2023-08-27T22:04:58.088696Z"
    }
   },
   "outputs": [
    {
     "data": {
      "text/plain": [
       "0.10890000000000001"
      ]
     },
     "execution_count": 76,
     "metadata": {},
     "output_type": "execute_result"
    }
   ],
   "source": [
    "0.66**2/4"
   ]
  },
  {
   "cell_type": "code",
   "execution_count": null,
   "id": "aaa69171",
   "metadata": {},
   "outputs": [],
   "source": []
  },
  {
   "cell_type": "code",
   "execution_count": 41,
   "id": "474cdf4a",
   "metadata": {
    "ExecuteTime": {
     "end_time": "2023-08-27T21:26:21.845043Z",
     "start_time": "2023-08-27T21:26:21.737396Z"
    }
   },
   "outputs": [],
   "source": [
    "import skimage"
   ]
  },
  {
   "cell_type": "code",
   "execution_count": 46,
   "id": "7abca2d1",
   "metadata": {
    "ExecuteTime": {
     "end_time": "2023-08-27T21:27:33.984427Z",
     "start_time": "2023-08-27T21:27:33.744992Z"
    }
   },
   "outputs": [
    {
     "data": {
      "text/plain": [
       "<matplotlib.image.AxesImage at 0x7fe570b0ac40>"
      ]
     },
     "execution_count": 46,
     "metadata": {},
     "output_type": "execute_result"
    },
    {
     "data": {
      "image/png": "[encoded data removed]",
      "text/plain": [
       "<Figure size 432x288 with 1 Axes>"
      ]
     },
     "metadata": {
      "needs_background": "light"
     },
     "output_type": "display_data"
    }
   ],
   "source": [
    "dVdt_grad=skimage.filters.laplace(dVdt, ksize=3, mask=None)\n",
    "plt.imshow(dVdt_grad,cmap='gray')"
   ]
  },
  {
   "cell_type": "code",
   "execution_count": 47,
   "id": "14409ab0",
   "metadata": {
    "ExecuteTime": {
     "end_time": "2023-08-27T21:27:51.963080Z",
     "start_time": "2023-08-27T21:27:51.845520Z"
    }
   },
   "outputs": [
    {
     "data": {
      "text/plain": [
       "array([[  1.5222828 ,  -0.5641108 ,  -0.3034606 , ...,  62.717316  ,\n",
       "         -6.494223  ,  -8.693199  ],\n",
       "       [  1.1988367 ,  -0.5319286 ,  -0.2943341 , ...,  43.638424  ,\n",
       "         -6.812715  ,  -8.723932  ],\n",
       "       [  0.84170306,  -0.4705703 ,  -0.24789767, ...,  -8.636595  ,\n",
       "        -13.404076  ,  -8.16816   ],\n",
       "       ...,\n",
       "       [  1.8801223 ,  -0.8694825 ,  -0.4935738 , ..., 137.46866   ,\n",
       "        -28.881077  , -15.332462  ],\n",
       "       [  1.6776623 ,  -0.8786013 ,  -0.47958446, ..., 126.66633   ,\n",
       "        -26.83943   , -14.2006235 ],\n",
       "       [  1.4096373 ,  -0.8993889 ,  -0.49188486, ...,  87.84785   ,\n",
       "        -20.39306   , -12.751667  ]], dtype=float32)"
      ]
     },
     "execution_count": 47,
     "metadata": {},
     "output_type": "execute_result"
    }
   ],
   "source": [
    "dVdt_grad"
   ]
  },
  {
   "cell_type": "code",
   "execution_count": null,
   "id": "f4b00e95",
   "metadata": {},
   "outputs": [],
   "source": []
  },
  {
   "cell_type": "code",
   "execution_count": null,
   "id": "d457a599",
   "metadata": {},
   "outputs": [],
   "source": []
  },
  {
   "cell_type": "markdown",
   "id": "085cd811",
   "metadata": {
    "heading_collapsed": true
   },
   "source": [
    "## generate snippet with greater than one period of motion for LR"
   ]
  },
  {
   "cell_type": "markdown",
   "id": "c2a7303a",
   "metadata": {},
   "source": [
    "## compute the Hilbert transform everywhere for LR"
   ]
  },
  {
   "cell_type": "code",
   "execution_count": null,
   "id": "c4e02f28",
   "metadata": {},
   "outputs": [],
   "source": []
  },
  {
   "cell_type": "markdown",
   "id": "47da9531",
   "metadata": {
    "heading_collapsed": true
   },
   "source": [
    "# estimate the diameter of spiral core\n",
    "- HINT: import the image to ImageJ. measure the width of the spiral core. b.o.e. estimate diameter of spiral core. repeat for other full model. go to bed."
   ]
  },
  {
   "cell_type": "code",
   "execution_count": null,
   "id": "37673271",
   "metadata": {
    "hidden": true
   },
   "outputs": [],
   "source": []
  },
  {
   "cell_type": "code",
   "execution_count": null,
   "id": "731624df",
   "metadata": {
    "hidden": true
   },
   "outputs": [],
   "source": []
  },
  {
   "cell_type": "markdown",
   "id": "9b45ed89",
   "metadata": {
    "heading_collapsed": true
   },
   "source": [
    "# (bonus) select phase defect regions with a threshold\n",
    "- (bonus) plot ^this threshold on the xaxis with spiral core size on the yaxis"
   ]
  },
  {
   "cell_type": "code",
   "execution_count": null,
   "id": "2d00c04b",
   "metadata": {
    "hidden": true
   },
   "outputs": [],
   "source": []
  },
  {
   "cell_type": "code",
   "execution_count": null,
   "id": "0b48a15b",
   "metadata": {
    "hidden": true
   },
   "outputs": [],
   "source": []
  },
  {
   "cell_type": "markdown",
   "id": "9b0eff7d",
   "metadata": {
    "heading_collapsed": true
   },
   "source": [
    "# (bonus) compute HDBSCAN to select spiral core pixels"
   ]
  },
  {
   "cell_type": "code",
   "execution_count": null,
   "id": "0e0d3812",
   "metadata": {
    "hidden": true
   },
   "outputs": [],
   "source": []
  },
  {
   "cell_type": "markdown",
   "id": "045189d7",
   "metadata": {
    "heading_collapsed": true
   },
   "source": [
    "# (bonus) compute the diameter of spiral core"
   ]
  },
  {
   "cell_type": "code",
   "execution_count": null,
   "id": "6da236d4",
   "metadata": {
    "hidden": true
   },
   "outputs": [],
   "source": []
  },
  {
   "cell_type": "code",
   "execution_count": null,
   "id": "a13ebcc7",
   "metadata": {
    "hidden": true
   },
   "outputs": [],
   "source": []
  },
  {
   "cell_type": "markdown",
   "id": "b5b5a761",
   "metadata": {
    "heading_collapsed": true
   },
   "source": [
    "# (bonus) repeat for many spiral cores"
   ]
  },
  {
   "cell_type": "code",
   "execution_count": null,
   "id": "d48ea3ce",
   "metadata": {
    "hidden": true
   },
   "outputs": [],
   "source": []
  },
  {
   "cell_type": "markdown",
   "id": "da633115",
   "metadata": {
    "heading_collapsed": true,
    "hidden": true
   },
   "source": [
    "## (bonus) generate a histogram of apparent spiral core diameters"
   ]
  },
  {
   "cell_type": "code",
   "execution_count": null,
   "id": "09354790",
   "metadata": {
    "hidden": true
   },
   "outputs": [],
   "source": []
  },
  {
   "cell_type": "code",
   "execution_count": null,
   "id": "794303bc",
   "metadata": {
    "hidden": true
   },
   "outputs": [],
   "source": []
  },
  {
   "cell_type": "markdown",
   "id": "18570d4e",
   "metadata": {
    "heading_collapsed": true,
    "hidden": true
   },
   "source": [
    "## (bonus) add ^that histogram as a supplementary figure"
   ]
  },
  {
   "cell_type": "code",
   "execution_count": null,
   "id": "ec6b7e15",
   "metadata": {
    "hidden": true
   },
   "outputs": [],
   "source": []
  },
  {
   "cell_type": "code",
   "execution_count": null,
   "id": "68ecabba",
   "metadata": {
    "hidden": true
   },
   "outputs": [],
   "source": []
  },
  {
   "cell_type": "code",
   "execution_count": null,
   "id": "fec75644",
   "metadata": {
    "hidden": true
   },
   "outputs": [],
   "source": []
  }
 ],
 "metadata": {
  "hide_input": false,
  "kernelspec": {
   "display_name": "Python 3 (ipykernel)",
   "language": "python",
   "name": "python3"
  },
  "language_info": {
   "codemirror_mode": {
    "name": "ipython",
    "version": 3
   },
   "file_extension": ".py",
   "mimetype": "text/x-python",
   "name": "python",
   "nbconvert_exporter": "python",
   "pygments_lexer": "ipython3",
   "version": "3.9.5"
  },
  "nbTranslate": {
   "displayLangs": [
    "*"
   ],
   "hotkey": "alt-t",
   "langInMainMenu": true,
   "sourceLang": "en",
   "targetLang": "fr",
   "useGoogleTranslate": true
  },
  "toc": {
   "base_numbering": 1,
   "nav_menu": {},
   "number_sections": true,
   "sideBar": true,
   "skip_h1_title": false,
   "title_cell": "Table of Contents",
   "title_sidebar": "Contents",
   "toc_cell": false,
   "toc_position": {},
   "toc_section_display": true,
   "toc_window_display": false
  }
 },
 "nbformat": 4,
 "nbformat_minor": 5
}
