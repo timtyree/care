{
 "cells": [
  {
   "cell_type": "code",
   "execution_count": 17,
   "metadata": {
    "ExecuteTime": {
     "end_time": "2020-05-24T03:18:43.778202Z",
     "start_time": "2020-05-24T03:18:43.135658Z"
    }
   },
   "outputs": [
    {
     "name": "stdout",
     "output_type": "stream",
     "text": [
      "Automatic calling is: Smart\n"
     ]
    }
   ],
   "source": [
    "#pylab\n",
    "%matplotlib inline\n",
    "import numpy as np, pandas as pd, matplotlib.pyplot as plt\n",
    "from pylab import imshow, show\n",
    "\n",
    "import skimage as sk\n",
    "from skimage import measure\n",
    "\n",
    "#use cuda via numba\n",
    "# from numba import jit, njit, vectorize, cuda, uint32, f8, uint8\n",
    "# from lib.contours_to_tips import *\n",
    "from lib.minimal_model import *\n",
    "from lib.TexturePlot import *\n",
    "\n",
    "#automate the boring stuff\n",
    "from IPython import utils\n",
    "import time, os, sys, re\n",
    "beep = lambda x: os.system(\"echo -n '\\\\a';sleep 0.2;\" * x)\n",
    "if not 'nb_dir' in globals():\n",
    "    nb_dir = os.getcwd()\n",
    "\n",
    "%autocall 1\n",
    "%load_ext autoreload\n",
    "%autoreload 2"
   ]
  },
  {
   "cell_type": "markdown",
   "metadata": {},
   "source": [
    "# _Detect spiral tips before/after placing that box_"
   ]
  },
  {
   "cell_type": "code",
   "execution_count": 70,
   "metadata": {
    "ExecuteTime": {
     "end_time": "2020-05-24T03:32:25.852049Z",
     "start_time": "2020-05-24T03:32:25.823827Z"
    }
   },
   "outputs": [
    {
     "name": "stdout",
     "output_type": "stream",
     "text": [
      "voltage threshold = 5.6.\n",
      "dvdt threshold = 4.6.\n"
     ]
    }
   ],
   "source": [
    "#nonlocal cond1\n",
    "minvlt = 4*(0.5+0.9)\n",
    "maxvlt = 4*(3.5 +0.9)\n",
    "cond1 = lambda x: minvlt < x < maxvlt\n",
    "\n",
    "#nonlocal cond2\n",
    "mindvdt = 4*(0.25+0.9)\n",
    "maxdvdt = 4*(3.5 +0.9)\n",
    "cond2 = lambda x: mindvdt < x < maxdvdt\n",
    "\n",
    "Vth  = minvlt#np.around(minvlt+maxvlt)/2\n",
    "dVth = mindvdt#np.around(mindvdt+maxdvdt)/2\n",
    "print(f\"voltage threshold = {Vth}.\")\n",
    "print(f\"dvdt threshold = {dVth}.\")"
   ]
  },
  {
   "cell_type": "code",
   "execution_count": 28,
   "metadata": {
    "ExecuteTime": {
     "end_time": "2020-05-24T03:23:34.989490Z",
     "start_time": "2020-05-24T03:23:34.965189Z"
    }
   },
   "outputs": [
    {
     "data": {
      "text/plain": [
       "'/Users/timothytyree/Documents/GitHub/care/notebooks'"
      ]
     },
     "execution_count": 28,
     "metadata": {},
     "output_type": "execute_result"
    }
   ],
   "source": [
    "# %pwd"
   ]
  },
  {
   "cell_type": "code",
   "execution_count": 31,
   "metadata": {
    "ExecuteTime": {
     "end_time": "2020-05-24T03:24:07.039138Z",
     "start_time": "2020-05-24T03:24:07.016202Z"
    }
   },
   "outputs": [],
   "source": [
    "# np.load('Data/buffer_time_origin_primed.npy')\n"
   ]
  },
  {
   "cell_type": "code",
   "execution_count": 20,
   "metadata": {
    "ExecuteTime": {
     "end_time": "2020-05-24T03:18:46.826084Z",
     "start_time": "2020-05-24T03:18:46.808860Z"
    }
   },
   "outputs": [],
   "source": [
    "# before_box = txt.copy()\n",
    "# after_box = image.copy()"
   ]
  },
  {
   "cell_type": "markdown",
   "metadata": {},
   "source": [
    "# _Old algorithm to the new context_\n",
    "- cond1: take a local average voltage above threshold, Uth = 0.9 and returning true if that average was greater than 4*0.5=2 and less than 3.5*4=14\n",
    "    - nonlocal cond1: find contour where minvlt < x < maxvlt\n",
    "- cond2: take the local average of the previous timestep of voltage and and returning true if that average was greater than 4*0.25=1 and less than 3.5*4=14\n",
    "    - nonlocal cond2: find contour where mindvdt < dvdt < maxdvdt\n",
    "- tips are located at the intersection of these two curves"
   ]
  },
  {
   "cell_type": "code",
   "execution_count": 102,
   "metadata": {
    "ExecuteTime": {
     "end_time": "2020-05-24T03:38:30.418237Z",
     "start_time": "2020-05-24T03:38:30.390404Z"
    }
   },
   "outputs": [],
   "source": [
    "\n",
    "# img_nxt = txt[...,0]\n",
    "# img_nxt = before_box[...,0]\n",
    "# img_nxt = after_box[...,0]"
   ]
  },
  {
   "cell_type": "code",
   "execution_count": 103,
   "metadata": {
    "ExecuteTime": {
     "end_time": "2020-05-24T03:38:31.007748Z",
     "start_time": "2020-05-24T03:38:30.931784Z"
    }
   },
   "outputs": [],
   "source": []
  },
  {
   "cell_type": "code",
   "execution_count": 126,
   "metadata": {
    "ExecuteTime": {
     "end_time": "2020-05-24T23:03:27.084229Z",
     "start_time": "2020-05-24T23:03:27.059584Z"
    }
   },
   "outputs": [],
   "source": [
    "# print(f\"\"\"\n",
    "# max increase: {np.max(img_inc[img_inc>0])}\n",
    "# min increase: {np.min(img_inc[img_inc>0])}\n",
    "# mean increase: {np.mean(img_inc[img_inc>0])}\n",
    "# \"\"\")"
   ]
  },
  {
   "cell_type": "code",
   "execution_count": 105,
   "metadata": {
    "ExecuteTime": {
     "end_time": "2020-05-24T03:38:32.859937Z",
     "start_time": "2020-05-24T03:38:32.836122Z"
    }
   },
   "outputs": [],
   "source": [
    "# contours_raw = measure.find_contours(img_nxt, Vth, fully_connected='low', positive_orientation='low')\n",
    "# contours_inc = measure.find_contours(img_inc, dVth)"
   ]
  },
  {
   "cell_type": "code",
   "execution_count": 106,
   "metadata": {
    "ExecuteTime": {
     "end_time": "2020-05-24T03:38:33.389128Z",
     "start_time": "2020-05-24T03:38:33.367027Z"
    }
   },
   "outputs": [],
   "source": [
    "# measure.find_contours?\n",
    "# contours_edge"
   ]
  },
  {
   "cell_type": "code",
   "execution_count": 107,
   "metadata": {
    "ExecuteTime": {
     "end_time": "2020-05-24T03:38:34.175565Z",
     "start_time": "2020-05-24T03:38:34.151463Z"
    }
   },
   "outputs": [],
   "source": [
    "# Vth\n",
    "# dVth\n",
    "# df = pd.concat([pd.DataFrame(c,columns =['y', 'x']) for c in contours_raw], axis=0)\n",
    "# print(df)\n"
   ]
  },
  {
   "cell_type": "code",
   "execution_count": null,
   "metadata": {},
   "outputs": [],
   "source": []
  },
  {
   "cell_type": "code",
   "execution_count": 108,
   "metadata": {
    "ExecuteTime": {
     "end_time": "2020-05-24T03:38:34.460855Z",
     "start_time": "2020-05-24T03:38:34.429815Z"
    }
   },
   "outputs": [],
   "source": [
    "# contour_props = {level = }\n",
    "# image_next\n",
    "contours_raw = measure.find_contours(img_nxt, level = 5, fully_connected='low', positive_orientation='low')\n",
    "contours_inc = measure.find_contours(img_inc, level = 5)\n",
    "if 'contours_raw' not in globals():\n",
    "    contours_raw=[]\n",
    "if 'contours_edge' not in globals():\n",
    "    contours_edge=[]\n",
    "assert(type(contours_raw))\n",
    "assert(type(contours_raw))"
   ]
  },
  {
   "cell_type": "code",
   "execution_count": 114,
   "metadata": {
    "ExecuteTime": {
     "end_time": "2020-05-24T22:49:00.814892Z",
     "start_time": "2020-05-24T22:49:00.416801Z"
    }
   },
   "outputs": [
    {
     "data": {
      "image/png": "[encoded data removed]",
      "text/plain": [
       "<Figure size 432x432 with 1 Axes>"
      ]
     },
     "metadata": {
      "needs_background": "light"
     },
     "output_type": "display_data"
    }
   ],
   "source": [
    "plt.figure(figsize=(6,6))\n",
    "plt.imshow(img_nxt, cmap='Reds', vmax = 30)\n",
    "for n, contour in enumerate(contours_raw):\n",
    "    plt.plot(contour[:, 1], contour[:, 0], linewidth=5, c='green')\n",
    "for n, contour in enumerate(contours_inc):\n",
    "    plt.plot(contour[:, 1], contour[:, 0], linewidth=5, c='blue')\n",
    "plt.axis(False)\n",
    "# plt.show()\n",
    "# save_dir = f\"before_box.png\"\n",
    "save_dir = f\"after_box_thick_green.png\"\n",
    "# plt.savefig(save_dir, dpi = 512/10)"
   ]
  },
  {
   "cell_type": "code",
   "execution_count": 111,
   "metadata": {
    "ExecuteTime": {
     "end_time": "2020-05-24T03:38:39.286751Z",
     "start_time": "2020-05-24T03:38:39.266486Z"
    }
   },
   "outputs": [],
   "source": [
    "# contours_raw\n"
   ]
  },
  {
   "cell_type": "code",
   "execution_count": 113,
   "metadata": {
    "ExecuteTime": {
     "end_time": "2020-05-24T03:40:15.110648Z",
     "start_time": "2020-05-24T03:40:15.062126Z"
    }
   },
   "outputs": [
    {
     "name": "stderr",
     "output_type": "stream",
     "text": [
      "[autoreload of lib.contours_to_tips failed: Traceback (most recent call last):\n",
      "  File \"/usr/local/lib/python3.7/site-packages/IPython/extensions/autoreload.py\", line 244, in check\n",
      "    superreload(m, reload, self.old_objects)\n",
      "  File \"/usr/local/lib/python3.7/site-packages/IPython/extensions/autoreload.py\", line 378, in superreload\n",
      "    module = reload(module)\n",
      "  File \"/usr/local/Cellar/python/3.7.7/Frameworks/Python.framework/Versions/3.7/lib/python3.7/imp.py\", line 314, in reload\n",
      "    return importlib.reload(module)\n",
      "  File \"/usr/local/Cellar/python/3.7.7/Frameworks/Python.framework/Versions/3.7/lib/python3.7/importlib/__init__.py\", line 169, in reload\n",
      "    _bootstrap._exec(spec, module)\n",
      "  File \"<frozen importlib._bootstrap>\", line 630, in _exec\n",
      "  File \"<frozen importlib._bootstrap_external>\", line 724, in exec_module\n",
      "  File \"<frozen importlib._bootstrap_external>\", line 860, in get_code\n",
      "  File \"<frozen importlib._bootstrap_external>\", line 791, in source_to_code\n",
      "  File \"<frozen importlib._bootstrap>\", line 219, in _call_with_frames_removed\n",
      "  File \"/Users/timothytyree/Documents/GitHub/care/notebooks/lib/contours_to_tips.py\", line 137\n",
      "    if len(lst)==0:\n",
      "    ^\n",
      "IndentationError: unexpected unindent\n",
      "]\n"
     ]
    },
    {
     "ename": "ValueError",
     "evalue": "The truth value of a DataFrame is ambiguous. Use a.empty, a.bool(), a.item(), a.any() or a.all().",
     "output_type": "error",
     "traceback": [
      "\u001b[0;31m---------------------------------------------------------------------------\u001b[0m",
      "\u001b[0;31mValueError\u001b[0m                                Traceback (most recent call last)",
      "\u001b[0;32m<ipython-input-113-1be032885dc0>\u001b[0m in \u001b[0;36m<module>\u001b[0;34m\u001b[0m\n\u001b[1;32m      1\u001b[0m \u001b[0;32mfrom\u001b[0m \u001b[0mlib\u001b[0m\u001b[0;34m.\u001b[0m\u001b[0mcontours_to_tips\u001b[0m \u001b[0;32mimport\u001b[0m \u001b[0;34m*\u001b[0m\u001b[0;34m\u001b[0m\u001b[0;34m\u001b[0m\u001b[0m\n\u001b[1;32m      2\u001b[0m \u001b[0;31m# list_tips  = contours_to_tips(contours_raw=contours_raw, contours_edge = contours_inc, inc = contours_inc)\u001b[0m\u001b[0;34m\u001b[0m\u001b[0;34m\u001b[0m\u001b[0;34m\u001b[0m\u001b[0m\n\u001b[0;32m----> 3\u001b[0;31m \u001b[0mcontours_to_tips\u001b[0m\u001b[0;34m(\u001b[0m\u001b[0mcontours_raw\u001b[0m\u001b[0;34m,\u001b[0m \u001b[0mcontours_inc\u001b[0m\u001b[0;34m,\u001b[0m \u001b[0minc\u001b[0m \u001b[0;34m=\u001b[0m \u001b[0mcontours_inc\u001b[0m\u001b[0;34m)\u001b[0m\u001b[0;34m\u001b[0m\u001b[0;34m\u001b[0m\u001b[0m\n\u001b[0m",
      "\u001b[0;32m~/Documents/GitHub/care/notebooks/lib/contours_to_tips.py\u001b[0m in \u001b[0;36mcontours_to_tips\u001b[0;34m(contours_raw, contours_edge, inc)\u001b[0m\n\u001b[1;32m     35\u001b[0m \u001b[0;32mdef\u001b[0m \u001b[0mcontours_to_tips\u001b[0m\u001b[0;34m(\u001b[0m\u001b[0mcontours_raw\u001b[0m\u001b[0;34m,\u001b[0m \u001b[0mcontours_edge\u001b[0m\u001b[0;34m,\u001b[0m \u001b[0minc\u001b[0m\u001b[0;34m)\u001b[0m\u001b[0;34m:\u001b[0m\u001b[0;34m\u001b[0m\u001b[0;34m\u001b[0m\u001b[0m\n\u001b[1;32m     36\u001b[0m     \u001b[0mdf\u001b[0m \u001b[0;34m=\u001b[0m \u001b[0mpd\u001b[0m\u001b[0;34m.\u001b[0m\u001b[0mconcat\u001b[0m\u001b[0;34m(\u001b[0m\u001b[0;34m[\u001b[0m\u001b[0mpd\u001b[0m\u001b[0;34m.\u001b[0m\u001b[0mDataFrame\u001b[0m\u001b[0;34m(\u001b[0m\u001b[0mc\u001b[0m\u001b[0;34m,\u001b[0m\u001b[0mcolumns\u001b[0m \u001b[0;34m=\u001b[0m\u001b[0;34m[\u001b[0m\u001b[0;34m'y'\u001b[0m\u001b[0;34m,\u001b[0m \u001b[0;34m'x'\u001b[0m\u001b[0;34m]\u001b[0m\u001b[0;34m)\u001b[0m \u001b[0;32mfor\u001b[0m \u001b[0mc\u001b[0m \u001b[0;32min\u001b[0m \u001b[0mcontours_raw\u001b[0m\u001b[0;34m]\u001b[0m\u001b[0;34m,\u001b[0m \u001b[0maxis\u001b[0m\u001b[0;34m=\u001b[0m\u001b[0;36m0\u001b[0m\u001b[0;34m)\u001b[0m\u001b[0;34m\u001b[0m\u001b[0;34m\u001b[0m\u001b[0m\n\u001b[0;32m---> 37\u001b[0;31m \u001b[0;34m\u001b[0m\u001b[0m\n\u001b[0m\u001b[1;32m     38\u001b[0m     \u001b[0mdf\u001b[0m \u001b[0;34m=\u001b[0m \u001b[0mdf\u001b[0m\u001b[0;34m.\u001b[0m\u001b[0mreset_index\u001b[0m\u001b[0;34m(\u001b[0m\u001b[0;34m)\u001b[0m\u001b[0;34m\u001b[0m\u001b[0;34m\u001b[0m\u001b[0m\n\u001b[1;32m     39\u001b[0m     \u001b[0;31m# df = df.reset_index(drop=True)\u001b[0m\u001b[0;34m\u001b[0m\u001b[0;34m\u001b[0m\u001b[0;34m\u001b[0m\u001b[0m\n",
      "\u001b[0;32m/usr/local/lib/python3.7/site-packages/pandas/core/generic.py\u001b[0m in \u001b[0;36m__nonzero__\u001b[0;34m(self)\u001b[0m\n\u001b[1;32m   1476\u001b[0m         raise ValueError(\"The truth value of a {0} is ambiguous. \"\n\u001b[1;32m   1477\u001b[0m                          \u001b[0;34m\"Use a.empty, a.bool(), a.item(), a.any() or a.all().\"\u001b[0m\u001b[0;34m\u001b[0m\u001b[0;34m\u001b[0m\u001b[0m\n\u001b[0;32m-> 1478\u001b[0;31m                          .format(self.__class__.__name__))\n\u001b[0m\u001b[1;32m   1479\u001b[0m \u001b[0;34m\u001b[0m\u001b[0m\n\u001b[1;32m   1480\u001b[0m     \u001b[0m__bool__\u001b[0m \u001b[0;34m=\u001b[0m \u001b[0m__nonzero__\u001b[0m\u001b[0;34m\u001b[0m\u001b[0;34m\u001b[0m\u001b[0m\n",
      "\u001b[0;31mValueError\u001b[0m: The truth value of a DataFrame is ambiguous. Use a.empty, a.bool(), a.item(), a.any() or a.all()."
     ]
    }
   ],
   "source": [
    "from lib.contours_to_tips import *\n",
    "# list_tips  = contours_to_tips(contours_raw=contours_raw, contours_edge = contours_inc, inc = contours_inc)\n",
    "contours_to_tips(contours_raw, contours_inc, inc = contours_inc)"
   ]
  },
  {
   "cell_type": "code",
   "execution_count": 224,
   "metadata": {
    "ExecuteTime": {
     "end_time": "2020-05-24T02:06:30.457474Z",
     "start_time": "2020-05-24T02:06:29.702048Z"
    }
   },
   "outputs": [
    {
     "data": {
      "image/png": "[encoded data removed]",
      "text/plain": [
       "<Figure size 1296x432 with 3 Axes>"
      ]
     },
     "metadata": {
      "needs_background": "light"
     },
     "output_type": "display_data"
    },
    {
     "data": {
      "image/png": "[encoded data removed]",
      "text/plain": [
       "<Figure size 1296x432 with 3 Axes>"
      ]
     },
     "metadata": {
      "needs_background": "light"
     },
     "output_type": "display_data"
    }
   ],
   "source": [
    "# txt = np.load('Data/buffer_test_error.npy')\n",
    "txt = np.load('Data/buffer_time_origin.npy')\n",
    "dtexture_dt = np.zeros((width, height, channel_no), dtype = np.float64)\n",
    "get_time_step(txt , dtexture_dt)\n",
    "display_texture(txt, vmins=(0,0,0),vmaxs=(1,1,1))\n",
    "display_texture(dtexture_dt, vmins=(0,0,0),vmaxs=(1,1,1))"
   ]
  },
  {
   "cell_type": "code",
   "execution_count": 165,
   "metadata": {
    "ExecuteTime": {
     "end_time": "2020-05-23T21:51:02.925133Z",
     "start_time": "2020-05-23T21:51:02.903322Z"
    }
   },
   "outputs": [],
   "source": [
    "\n",
    "# @njit\n",
    "# def square(x):\n",
    "#     x -= x\n",
    "#     return x"
   ]
  },
  {
   "cell_type": "code",
   "execution_count": null,
   "metadata": {
    "ExecuteTime": {
     "end_time": "2020-05-24T03:29:09.270017Z",
     "start_time": "2020-05-24T03:29:09.226705Z"
    }
   },
   "outputs": [],
   "source": []
  },
  {
   "cell_type": "code",
   "execution_count": 115,
   "metadata": {
    "ExecuteTime": {
     "end_time": "2020-05-24T22:49:24.120639Z",
     "start_time": "2020-05-24T22:49:24.096284Z"
    }
   },
   "outputs": [],
   "source": [
    "# x_values =  np.linspace(-5,5)\n",
    "# y_values =  [Tanh(x) for x in x_values]"
   ]
  },
  {
   "cell_type": "code",
   "execution_count": null,
   "metadata": {},
   "outputs": [],
   "source": []
  },
  {
   "cell_type": "code",
   "execution_count": 241,
   "metadata": {
    "ExecuteTime": {
     "end_time": "2020-05-24T02:19:43.947059Z",
     "start_time": "2020-05-24T02:19:43.925183Z"
    }
   },
   "outputs": [],
   "source": [
    "# @njit\n",
    "# def step(a,b):\n",
    "# \treturn 0 if a>b else 1\n",
    "# plt.scatter(x=x_values, y=[step(0,x) for x in x_values])\n",
    "# # plt.scatter(x=x_values, y=[np.heaviside(x,0) for x in x_values])"
   ]
  },
  {
   "cell_type": "code",
   "execution_count": null,
   "metadata": {
    "ExecuteTime": {
     "end_time": "2020-05-23T23:49:14.286064Z",
     "start_time": "2020-05-23T23:49:14.263223Z"
    }
   },
   "outputs": [],
   "source": []
  },
  {
   "cell_type": "code",
   "execution_count": 201,
   "metadata": {
    "ExecuteTime": {
     "end_time": "2020-05-23T23:10:25.982213Z",
     "start_time": "2020-05-23T23:10:25.958020Z"
    }
   },
   "outputs": [],
   "source": []
  },
  {
   "cell_type": "code",
   "execution_count": 202,
   "metadata": {
    "ExecuteTime": {
     "end_time": "2020-05-23T23:10:28.924158Z",
     "start_time": "2020-05-23T23:10:28.840390Z"
    }
   },
   "outputs": [],
   "source": [
    "buffer_time_origin"
   ]
  },
  {
   "cell_type": "code",
   "execution_count": 225,
   "metadata": {
    "ExecuteTime": {
     "end_time": "2020-05-24T02:06:48.828679Z",
     "start_time": "2020-05-24T02:06:48.802727Z"
    }
   },
   "outputs": [
    {
     "name": "stdout",
     "output_type": "stream",
     "text": [
      "max value: 0.8220734919420856\n",
      "    min value: -5.842994007759086e-09\n",
      "    mean value: 0.07776932446174945\n",
      "max value: 1.0\n",
      "    min value: 4.2730396698647395e-07\n",
      "    mean value: 0.8207531354970061\n",
      "max value: 0.9999357315470903\n",
      "    min value: 0.9255846617243946\n",
      "    mean value: 0.9930852439857958\n"
     ]
    }
   ],
   "source": [
    "describe_texture(txt[...,0])\n",
    "describe_texture(txt[...,1])\n",
    "describe_texture(txt[...,2])"
   ]
  },
  {
   "cell_type": "code",
   "execution_count": 139,
   "metadata": {
    "ExecuteTime": {
     "end_time": "2020-05-24T23:42:12.807974Z",
     "start_time": "2020-05-24T23:42:12.198229Z"
    }
   },
   "outputs": [
    {
     "data": {
      "image/png": "[encoded data removed]",
      "text/plain": [
       "<Figure size 1296x432 with 3 Axes>"
      ]
     },
     "metadata": {
      "needs_background": "light"
     },
     "output_type": "display_data"
    }
   ],
   "source": [
    "#TODO :switch the x's and y's to correspond to the picture\n",
    "image = txt.copy()\n",
    "set_voltage_in_box(\n",
    "    image,\n",
    "    min_y=128,\n",
    "    max_y=128+32,\n",
    "    min_x=256-32,#150,\n",
    "    max_x=256+32,#200,\n",
    "    width=512,\n",
    "    height=512,\n",
    "    value=30.0,\n",
    ")\n",
    "display_texture(image, vmins=(0,0,0),vmaxs=(30,30,30))"
   ]
  },
  {
   "cell_type": "code",
   "execution_count": 143,
   "metadata": {
    "ExecuteTime": {
     "end_time": "2020-05-24T23:44:24.536441Z",
     "start_time": "2020-05-24T23:44:24.242359Z"
    }
   },
   "outputs": [],
   "source": [
    "# np.save(f'Data/buffer_time_origin_primed.npy', image)\n",
    "# np.save(f'Data/buffer_time_origin_primed.npz', image)\n",
    "# np.savez_compressed(f'Data/buffer_time_origin_primed.npz', image)\n",
    "# np.savez_compressed(f'Data/buffer_time_origin.npz', np.load('Data/buffer_time_origin.npy'))"
   ]
  },
  {
   "cell_type": "markdown",
   "metadata": {},
   "source": [
    "# time step texture and append the spiral tips present to a list"
   ]
  },
  {
   "cell_type": "code",
   "execution_count": 120,
   "metadata": {
    "ExecuteTime": {
     "end_time": "2020-05-24T22:51:29.421013Z",
     "start_time": "2020-05-24T22:51:29.392298Z"
    }
   },
   "outputs": [],
   "source": [
    "#reinitialize\n",
    "lst = []\n",
    "tme = 0\n",
    "\n",
    "# load txt\n",
    "txt = np.load('Data/buffer_time_origin_primed.npy')\n",
    "width, height, channel_no = txt.shape\n",
    "dtexture_dt = np.zeros((width, height, channel_no), dtype=np.float64)\n",
    "get_time_step(txt, dtexture_dt)\n",
    "img_inc = dtexture_dt[..., 0]\n",
    "img_nxt = txt[..., 0]"
   ]
  },
  {
   "cell_type": "code",
   "execution_count": null,
   "metadata": {
    "ExecuteTime": {
     "end_time": "2020-05-24T22:52:05.348420Z",
     "start_time": "2020-05-24T22:52:05.323673Z"
    }
   },
   "outputs": [],
   "source": [
    "#integrate explicitely in time\n",
    "# tmax = 1\n",
    "h = 0.1\n",
    "nsteps = 1#np.int64(tmax/h)\n",
    "for step in range(nsteps):\n",
    "    \n",
    "    ###integrate explicitely in time\n",
    "    time_step(txt, h=h)\n",
    "    tme += h\n",
    "    \n",
    "    #compute contours here\n",
    "    contours_raw = measure.find_contours(img_nxt, level = 5, fully_connected='low', positive_orientation='low')\n",
    "    contours_inc = measure.find_contours(img_inc, level = 5)\n",
    "    if 'contours_raw' not in globals():\n",
    "        contours_raw=[]\n",
    "    if 'contours_edge' not in globals():\n",
    "        contours_edge=[]\n",
    "        \n",
    "    #TODO: compute spiral tips here\n",
    "    \n",
    "    \n",
    "#     tips = []\n",
    "    \n",
    "    #save tips if any here\n",
    "    if len(tips)!=0:\n",
    "        lst.append(tips)\n",
    "    else:\n",
    "        pass\n",
    "    \n",
    "#BLUF report\n",
    "print(f\"current time is {tme}.\")\n",
    "print(f\"number of nan pixel voltages is {np.max(sum(np.isnan(txt[...,0])))}.\")\n",
    "print(f\"current mean voltage is {np.mean(txt[...,0])}.\")\n",
    "print(f\"current mean fast variable is {np.mean(txt[...,1])}.\")\n",
    "print(f\"current mean slow variable is {np.mean(txt[...,2])}.\")\n",
    "\n"
   ]
  },
  {
   "cell_type": "code",
   "execution_count": 138,
   "metadata": {
    "ExecuteTime": {
     "end_time": "2020-05-24T23:30:48.859328Z",
     "start_time": "2020-05-24T23:30:48.837356Z"
    }
   },
   "outputs": [
    {
     "data": {
      "text/plain": [
       "(193, 2)"
      ]
     },
     "execution_count": 138,
     "metadata": {},
     "output_type": "execute_result"
    }
   ],
   "source": [
    "contours_raw[0].shape"
   ]
  },
  {
   "cell_type": "code",
   "execution_count": null,
   "metadata": {},
   "outputs": [],
   "source": [
    "dtexture_dt = np.zeros((width, height, channel_no), dtype=np.float64)\n",
    "get_time_step(txt, dtexture_dt)\n",
    "display_texture(txt, vmins=(0, 0, 0), vmaxs=(1, 1, 1))\n",
    "display_texture(dtexture_dt, vmins=(-1, -1, -1), vmaxs=(1, 1, 1))\n",
    "describe_texture(txt[..., 0])\n",
    "describe_texture(txt[..., 1])\n",
    "describe_texture(txt[..., 2])"
   ]
  },
  {
   "cell_type": "markdown",
   "metadata": {},
   "source": [
    "# TODO: intersection of two lists"
   ]
  },
  {
   "cell_type": "code",
   "execution_count": null,
   "metadata": {},
   "outputs": [],
   "source": []
  }
 ],
 "metadata": {
  "kernelspec": {
   "display_name": "Python 3",
   "language": "python",
   "name": "python3"
  },
  "language_info": {
   "codemirror_mode": {
    "name": "ipython",
    "version": 3
   },
   "file_extension": ".py",
   "mimetype": "text/x-python",
   "name": "python",
   "nbconvert_exporter": "python",
   "pygments_lexer": "ipython3",
   "version": "3.7.7"
  },
  "varInspector": {
   "cols": {
    "lenName": 16,
    "lenType": 16,
    "lenVar": 40
   },
   "kernels_config": {
    "python": {
     "delete_cmd_postfix": "",
     "delete_cmd_prefix": "del ",
     "library": "var_list.py",
     "varRefreshCmd": "print(var_dic_list())"
    },
    "r": {
     "delete_cmd_postfix": ") ",
     "delete_cmd_prefix": "rm(",
     "library": "var_list.r",
     "varRefreshCmd": "cat(var_dic_list()) "
    }
   },
   "types_to_exclude": [
    "module",
    "function",
    "builtin_function_or_method",
    "instance",
    "_Feature"
   ],
   "window_display": false
  }
 },
 "nbformat": 4,
 "nbformat_minor": 2
}
