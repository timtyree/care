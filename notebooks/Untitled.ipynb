{
 "cells": [
  {
   "cell_type": "code",
   "execution_count": 3,
   "metadata": {
    "ExecuteTime": {
     "end_time": "2020-05-27T16:10:29.878464Z",
     "start_time": "2020-05-27T16:10:29.875788Z"
    }
   },
   "outputs": [],
   "source": [
    "from lib.minimal_model import *\n",
    "from numba import njit, jit"
   ]
  },
  {
   "cell_type": "code",
   "execution_count": 4,
   "metadata": {
    "ExecuteTime": {
     "end_time": "2020-05-27T16:11:07.966031Z",
     "start_time": "2020-05-27T16:11:07.949765Z"
    }
   },
   "outputs": [],
   "source": [
    "# @njit\n",
    "def blur_at_pixel(inVfs,x,y):\n",
    "\t{\n",
    " {0.00987648, 0.0796275, 0.00987648},\n",
    " {0.0796275, 0.641984, 0.0796275},\n",
    " {0.00987648, 0.0796275, 0.00987648}\n",
    "}\n",
    "inVfs = np.load(f'Data/buffer_circle6_at_time_3012.8.npy') \t"
   ]
  },
  {
   "cell_type": "code",
   "execution_count": 22,
   "metadata": {
    "ExecuteTime": {
     "end_time": "2020-05-27T16:16:52.383777Z",
     "start_time": "2020-05-27T16:16:52.374827Z"
    }
   },
   "outputs": [],
   "source": [
    "@njit\n",
    "def blur_at_pixel(inVfs,x,y):\n",
    "    outV = (\n",
    "       0.00987648*pbc(inVfs,x + 1,y)[0] + 0.0796275*pbc(inVfs,  x,  y)[0] + 0.00987648*pbc(inVfs, x - 1, y)[0]\n",
    "     + 0.0796275*pbc(inVfs,x,y + 1)[0] + 0.641984*pbc(inVfs,  x,  y)[0] + 0.0796275*pbc(inVfs, x, y - 1)[0]\n",
    "     + 0.00987648*pbc(inVfs,x+1,y+1)[0] + 0.0796275*pbc(inVfs,x+1,y-1)[0] + 0.00987648*pbc(inVfs, x - 1, y - 1)[0])\n",
    "    return outV\n",
    "\n",
    "@njit\n",
    "def blur(texture, out):\n",
    "\tfor x in range(512):\n",
    "\t\tfor y in range(512):\n",
    "\t\t\tout[x,y,0] = blur_at_pixel(texture,x,y)"
   ]
  },
  {
   "cell_type": "code",
   "execution_count": null,
   "metadata": {
    "ExecuteTime": {
     "end_time": "2020-05-27T16:16:53.493237Z",
     "start_time": "2020-05-27T16:16:53.487559Z"
    }
   },
   "outputs": [],
   "source": []
  },
  {
   "cell_type": "code",
   "execution_count": 28,
   "metadata": {
    "ExecuteTime": {
     "end_time": "2020-05-27T16:16:59.102103Z",
     "start_time": "2020-05-27T16:16:59.096402Z"
    }
   },
   "outputs": [],
   "source": [
    "out = inVfs.copy()\n",
    "blur(inVfs,out)"
   ]
  },
  {
   "cell_type": "code",
   "execution_count": null,
   "metadata": {},
   "outputs": [],
   "source": []
  }
 ],
 "metadata": {
  "kernelspec": {
   "display_name": "Python 3",
   "language": "python",
   "name": "python3"
  },
  "language_info": {
   "codemirror_mode": {
    "name": "ipython",
    "version": 3
   },
   "file_extension": ".py",
   "mimetype": "text/x-python",
   "name": "python",
   "nbconvert_exporter": "python",
   "pygments_lexer": "ipython3",
   "version": "3.7.7"
  },
  "varInspector": {
   "cols": {
    "lenName": 16,
    "lenType": 16,
    "lenVar": 40
   },
   "kernels_config": {
    "python": {
     "delete_cmd_postfix": "",
     "delete_cmd_prefix": "del ",
     "library": "var_list.py",
     "varRefreshCmd": "print(var_dic_list())"
    },
    "r": {
     "delete_cmd_postfix": ") ",
     "delete_cmd_prefix": "rm(",
     "library": "var_list.r",
     "varRefreshCmd": "cat(var_dic_list()) "
    }
   },
   "types_to_exclude": [
    "module",
    "function",
    "builtin_function_or_method",
    "instance",
    "_Feature"
   ],
   "window_display": false
  }
 },
 "nbformat": 4,
 "nbformat_minor": 2
}
