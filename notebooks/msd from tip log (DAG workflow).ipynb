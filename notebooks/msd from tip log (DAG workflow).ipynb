{
 "cells": [
  {
   "cell_type": "markdown",
   "metadata": {},
   "source": [
    "# msd-from-tip-log DAG workflow  \n",
    "TODO(later): add option to skip recomputation of cached results<br>\n",
    "Tim Tyree<br>\n",
    "1.18.2021\n"
   ]
  },
  {
   "cell_type": "code",
   "execution_count": 1,
   "metadata": {
    "ExecuteTime": {
     "end_time": "2021-01-19T00:11:24.956628Z",
     "start_time": "2021-01-19T00:11:23.910490Z"
    }
   },
   "outputs": [
    {
     "name": "stdout",
     "output_type": "stream",
     "text": [
      "Automatic calling is: Smart\n"
     ]
    }
   ],
   "source": [
    "from lib.my_initialization import *\n",
    "from lib import *\n",
    "\n",
    "from lib.my_initialization import *\n",
    "from lib.utils.utils_traj import *\n",
    "\n",
    "from lib.utils.operari import *\n",
    "\n",
    "\n",
    "import trackpy, pandas as pd, numpy as np\n",
    "from lib import *\n",
    "from lib.routines.track_tips import *\n",
    "from lib.utils.dist_func import *\n",
    "from lib.utils.utils_traj import *\n",
    "\n",
    "from lib.routines.compute_trajectories import *\n",
    "from lib.routines.compute_msd import *\n",
    "from lib.routines.compute_msd import *\n",
    "\n",
    "from lib.routines.dag_log_to_msd import *\n",
    "\n",
    "\n",
    "import trackpy\n",
    "%autocall 1\n",
    "%load_ext autoreload\n",
    "%autoreload 2\n",
    "# awareness&chill"
   ]
  },
  {
   "cell_type": "code",
   "execution_count": null,
   "metadata": {
    "ExecuteTime": {
     "end_time": "2021-01-19T00:11:25.075235Z",
     "start_time": "2021-01-19T00:11:22.556Z"
    }
   },
   "outputs": [],
   "source": [
    "#make plots in darkmode\n",
    "import seaborn as sns\n",
    "from jupyterthemes import jtplot\n",
    "jtplot.style(theme='monokai', context='notebook', ticks=True, grid=False)"
   ]
  },
  {
   "cell_type": "code",
   "execution_count": 11,
   "metadata": {
    "ExecuteTime": {
     "end_time": "2021-01-19T00:18:06.337024Z",
     "start_time": "2021-01-19T00:17:52.048684Z"
    }
   },
   "outputs": [
    {
     "name": "stdout",
     "output_type": "stream",
     "text": [
      "please select a file from within the desired folder.\n",
      "File: /home/timothytyree/Documents/GitHub/care/notebooks/Data/initial-conditions-suite-2/ds_2_param_set_8/Log/ic_200x200.001.12_log.csv\n"
     ]
    }
   ],
   "source": [
    "#find file interactively\n",
    "print(\"please select a file from within the desired folder.\")\n",
    "file = search_for_file()\n",
    "trgt='log.csv'\n",
    "assert(file[-len(trgt):]==trgt)"
   ]
  },
  {
   "cell_type": "code",
   "execution_count": 14,
   "metadata": {
    "ExecuteTime": {
     "end_time": "2021-01-19T00:19:02.102849Z",
     "start_time": "2021-01-19T00:19:02.086072Z"
    }
   },
   "outputs": [
    {
     "name": "stdout",
     "output_type": "stream",
     "text": [
      "171\n"
     ]
    }
   ],
   "source": [
    "file_name_list=get_all_files_matching_pattern(file,trgt)\n",
    "print(len(file_name_list))\n",
    "os.chdir(nb_dir)"
   ]
  },
  {
   "cell_type": "code",
   "execution_count": 15,
   "metadata": {
    "ExecuteTime": {
     "end_time": "2021-01-19T00:23:19.884748Z",
     "start_time": "2021-01-19T00:19:08.695553Z"
    }
   },
   "outputs": [
    {
     "name": "stdout",
     "output_type": "stream",
     "text": [
      "Frame 99: 2 trajectories present.\n",
      "run time for generating trajectories from file_name_list: 250.55 seconds.\n",
      "171\n"
     ]
    }
   ],
   "source": [
    "b = db.from_sequence(file_name_list, npartitions=7).map(run_routine_log_to_msd)\n",
    "start = time.time()\n",
    "retval = list(b)\n",
    "print(f\"run time for generating trajectories from file_name_list: {time.time()-start:.2f} seconds.\")\n",
    "beep(3)\n",
    "output_file_name_list=retval\n",
    "print(len(output_file_name_list))"
   ]
  },
  {
   "cell_type": "code",
   "execution_count": 10,
   "metadata": {
    "ExecuteTime": {
     "end_time": "2021-01-19T00:17:42.414848Z",
     "start_time": "2021-01-19T00:17:42.399210Z"
    }
   },
   "outputs": [
    {
     "data": {
      "text/plain": [
       "'/home/timothytyree/Documents/GitHub/care/notebooks/Data/initial-conditions-suite-2/ds_1_param_set_8/Log/ic_200x200.011.11_log.csv'"
      ]
     },
     "execution_count": 10,
     "metadata": {},
     "output_type": "execute_result"
    }
   ],
   "source": [
    "file_name_list[0]"
   ]
  },
  {
   "cell_type": "code",
   "execution_count": 2,
   "metadata": {
    "ExecuteTime": {
     "end_time": "2021-01-18T23:08:14.819021Z",
     "start_time": "2021-01-18T23:08:14.743468Z"
    }
   },
   "outputs": [],
   "source": [
    "from lib.routines.dag_log_to_msd import *\n",
    "from lib.routines.compute_msd import *"
   ]
  },
  {
   "cell_type": "code",
   "execution_count": 18,
   "metadata": {
    "ExecuteTime": {
     "end_time": "2021-01-19T01:07:41.901609Z",
     "start_time": "2021-01-19T01:07:17.665116Z"
    }
   },
   "outputs": [
    {
     "name": "stdout",
     "output_type": "stream",
     "text": [
      "Num. file names in list = 171.\n",
      "ValueError: No objects to concatenate\n",
      "\ttrial that failed: ic_200x200.008.12_traj_sr_400_mem_0_unwrap.csv\n",
      "ValueError: No objects to concatenate\n",
      "\ttrial that failed: ic_200x200.011.31_traj_sr_400_mem_0_unwrap.csv\n",
      "ValueError: No objects to concatenate\n",
      "\ttrial that failed: ic_200x200.018.31_traj_sr_400_mem_0_unwrap.csv\n",
      "ValueError: No objects to concatenate\n",
      "\ttrial that failed: ic_200x200.011.33_traj_sr_400_mem_0_unwrap.csv\n",
      "saved figure in \n",
      "\temsd_longest_by_trial_tips_ntips_1_long_time_std.png\n",
      "saved figure in \n",
      "\temsd_longest_by_trial_tips_ntips_1_short_time_std.png\n",
      "saved figure in \n",
      "\temsd_longest_by_trial_tips_ntips_1_very_short_time_std.png\n"
     ]
    }
   ],
   "source": [
    "#compute mean squared displacements, aggregating results\n",
    "n_tips=1; DT=1.\n",
    "file_out=output_file_name_list[0]\n",
    "# file_out='/home/timothytyree/Documents/GitHub/care/notebooks/Data/initial-conditions-suite-2/ds_1_param_set_8/trajectories/ic_200x200.011.11_traj_sr_400_mem_0_unwrap.csv'\n",
    "# file_out='/home/timothytyree/Documents/GitHub/care/notebooks/Data/initial-conditions-suite-2/ds_2_param_set_8/trajectories/ic_200x200.011.11_traj_sr_400_mem_0_unwrap.csv'\n",
    "retval=gen_msd_figs(file_out,n_tips, DT)#, V_thresh=0.4)"
   ]
  },
  {
   "cell_type": "code",
   "execution_count": 5,
   "metadata": {
    "ExecuteTime": {
     "end_time": "2021-01-18T23:08:25.275032Z",
     "start_time": "2021-01-18T23:08:25.050520Z"
    }
   },
   "outputs": [],
   "source": [
    "# df_traj=get_longest_trajectories(file_out,n_tips = 1,DS = 5/200,DT = 1., round_t_to_n_digits=0)\n"
   ]
  },
  {
   "cell_type": "code",
   "execution_count": 19,
   "metadata": {
    "ExecuteTime": {
     "end_time": "2021-01-19T01:08:06.324201Z",
     "start_time": "2021-01-19T01:07:42.322054Z"
    }
   },
   "outputs": [
    {
     "name": "stdout",
     "output_type": "stream",
     "text": [
      "Num. file names in list = 171.\n",
      "ValueError: No objects to concatenate\n",
      "\ttrial that failed: ic_200x200.017.23_traj_sr_400_mem_0_unwrap.csv\n",
      "ValueError: No objects to concatenate\n",
      "\ttrial that failed: ic_200x200.005.22_traj_sr_400_mem_0_unwrap.csv\n",
      "ValueError: No objects to concatenate\n",
      "\ttrial that failed: ic_200x200.006.23_traj_sr_400_mem_0_unwrap.csv\n",
      "saved figure in \n",
      "\temsd_longest_by_trial_tips_ntips_1_long_time_std.png\n",
      "saved figure in \n",
      "\temsd_longest_by_trial_tips_ntips_1_short_time_std.png\n",
      "saved figure in \n",
      "\temsd_longest_by_trial_tips_ntips_1_very_short_time_std.png\n"
     ]
    }
   ],
   "source": [
    "file_out='/home/timothytyree/Documents/GitHub/care/notebooks/Data/initial-conditions-suite-2/ds_2_param_set_8/trajectories/ic_200x200.011.11_traj_sr_400_mem_0_unwrap.csv'\n",
    "retval=gen_msd_figs(file_out,n_tips, DT)#, V_thresh=0.4)"
   ]
  },
  {
   "cell_type": "code",
   "execution_count": null,
   "metadata": {},
   "outputs": [],
   "source": []
  }
 ],
 "metadata": {
  "kernelspec": {
   "display_name": "Python 3",
   "language": "python",
   "name": "python3"
  },
  "language_info": {
   "codemirror_mode": {
    "name": "ipython",
    "version": 3
   },
   "file_extension": ".py",
   "mimetype": "text/x-python",
   "name": "python",
   "nbconvert_exporter": "python",
   "pygments_lexer": "ipython3",
   "version": "3.8.6"
  },
  "toc": {
   "base_numbering": 1,
   "nav_menu": {},
   "number_sections": true,
   "sideBar": true,
   "skip_h1_title": false,
   "title_cell": "Table of Contents",
   "title_sidebar": "Contents",
   "toc_cell": false,
   "toc_position": {},
   "toc_section_display": true,
   "toc_window_display": false
  },
  "varInspector": {
   "cols": {
    "lenName": 16,
    "lenType": 16,
    "lenVar": 40
   },
   "kernels_config": {
    "python": {
     "delete_cmd_postfix": "",
     "delete_cmd_prefix": "del ",
     "library": "var_list.py",
     "varRefreshCmd": "print(var_dic_list())"
    },
    "r": {
     "delete_cmd_postfix": ") ",
     "delete_cmd_prefix": "rm(",
     "library": "var_list.r",
     "varRefreshCmd": "cat(var_dic_list()) "
    }
   },
   "types_to_exclude": [
    "module",
    "function",
    "builtin_function_or_method",
    "instance",
    "_Feature"
   ],
   "window_display": false
  }
 },
 "nbformat": 4,
 "nbformat_minor": 4
}
