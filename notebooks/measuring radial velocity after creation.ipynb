{
 "cells": [
  {
   "cell_type": "markdown",
   "id": "7aa65baf",
   "metadata": {},
   "source": [
    "# measuring radial velocity after creation\n",
    "Tim Tyree<br>\n",
    "4.25.2024"
   ]
  },
  {
   "cell_type": "code",
   "execution_count": 1,
   "id": "dc9624a9",
   "metadata": {
    "ExecuteTime": {
     "end_time": "2024-05-02T23:54:31.231682Z",
     "start_time": "2024-05-02T23:54:10.752006Z"
    }
   },
   "outputs": [],
   "source": [
    "import sys,os\n",
    "og_stdout=sys.stdout\n",
    "from lib.my_initialization import *\n",
    "os.chdir(nb_dir)\n",
    "from lib import *\n",
    "# import cupy, cudf\n",
    "# from lib.rapids_func import *\n",
    "import seaborn as sns\n",
    "import matplotlib.ticker as mtick\n",
    "import warnings\n",
    "warnings.simplefilter(\"ignore\", UserWarning)\n",
    "%load_ext autoreload\n",
    "%autoreload 2"
   ]
  },
  {
   "cell_type": "code",
   "execution_count": 2,
   "id": "c1ab34cb",
   "metadata": {
    "ExecuteTime": {
     "end_time": "2024-05-02T23:54:31.320705Z",
     "start_time": "2024-05-02T23:54:31.234374Z"
    }
   },
   "outputs": [],
   "source": [
    "import seaborn as sns\n",
    "#reset matplotlib\n",
    "plt.plot([1]*4)\n",
    "plt.close()\n",
    "#reset matplotlib settings\n",
    "import matplotlib as mpl\n",
    "sns.reset_orig()\n",
    "mpl.rc_file_defaults()"
   ]
  },
  {
   "cell_type": "markdown",
   "id": "0e6b980f",
   "metadata": {},
   "source": [
    "# define module"
   ]
  },
  {
   "cell_type": "code",
   "execution_count": null,
   "id": "e24085b9",
   "metadata": {},
   "outputs": [],
   "source": []
  },
  {
   "cell_type": "markdown",
   "id": "5af1a46c",
   "metadata": {},
   "source": [
    "# load creation ranges and average conditioned on time after creation"
   ]
  },
  {
   "cell_type": "code",
   "execution_count": 3,
   "id": "7ee3bc03",
   "metadata": {
    "ExecuteTime": {
     "end_time": "2024-05-02T23:54:31.411574Z",
     "start_time": "2024-05-02T23:54:31.322661Z"
    }
   },
   "outputs": [
    {
     "data": {
      "text/plain": [
       "True"
      ]
     },
     "execution_count": 3,
     "metadata": {},
     "output_type": "execute_result"
    }
   ],
   "source": [
    "range_data_dir_fk = \"/Users/timothytyree/Documents/GitHub/care/notebooks/Data/from_wjr/positions_fk/200x200/tippos_per_c_001_creation_range_timeseries.pkl\"\n",
    "#LR 200x200\n",
    "# range_data_dir='/home/timothytyree/Documents/GitHub/care/notebooks/Data/from_wjr/tippos_per_001_creation_range_timeseries.pkl'\n",
    "range_data_dir_lr='/Users/timothytyree/Documents/GitHub/care/notebooks/Data/from_wjr/positions_lr/200x200/tippos_per_001_creation_range_timeseries.pkl'\n",
    "# range_data_dir='/Users/timothytyree/Documents/GitHub/care/notebooks/Data/from_wjr/positions_lr/200x200/tippos_per_001_annihilation_range_timeseries.pkl'\n",
    "os.path.exists(range_data_dir_fk)"
   ]
  },
  {
   "cell_type": "code",
   "execution_count": 4,
   "id": "76a6bff9",
   "metadata": {
    "ExecuteTime": {
     "end_time": "2024-05-02T23:54:48.064314Z",
     "start_time": "2024-05-02T23:54:31.416211Z"
    }
   },
   "outputs": [
    {
     "name": "stdout",
     "output_type": "stream",
     "text": [
      " |████████████████████████████████████████████████████████████████████████████████████████████████████| 100.0% \r"
     ]
    }
   ],
   "source": [
    "data = load_from_pickle(range_data_dir_lr)\n",
    "min_samples=100\n",
    "mintmax=4.\n",
    "# mintmax=100.\n",
    "mintmax=200.  #looks sharper for lr\n",
    "printing=True\n",
    "tR_values_lst=[]\n",
    "dict_lst=[]\n",
    "nsteps=len(data)\n",
    "for trial_num in range(nsteps):\n",
    "    df = data[trial_num].rename(columns={'annihilation_index':'creation_index',\n",
    "                            'tdeath':'tbirth'\n",
    "                   })\n",
    "    if df.shape[0]>0:\n",
    "        groups = df.groupby(by='creation_index')\n",
    "        for creation_index,g in groups:\n",
    "            r0 = g.iloc[0]['R']\n",
    "            n_prev = int(g.iloc[0]['n']) - 2\n",
    "            tR_values = g[['tbirth','R',]].values\n",
    "            tmax = tR_values[:,0].max()\n",
    "            if tmax >= mintmax:\n",
    "                #record\n",
    "                tR_values_lst.append(pd.DataFrame(tR_values).rename(columns={0:'t',1:'R'}))\n",
    "                dict_lst.append(dict(\n",
    "                    trial_num=trial_num,\n",
    "                    creation_index=creation_index,\n",
    "                    r0=r0,\n",
    "                    n_prev=n_prev,\n",
    "                ))\n",
    "        if printing:\n",
    "            printProgressBar(trial_num+1,nsteps)\n",
    "if printing:\n",
    "    printProgressBar(nsteps,nsteps)\n",
    "\n",
    "df_r0_lr = pd.DataFrame(dict_lst)\n",
    "\n",
    "# df_r0['r0'].mean(),df_r0.shape[0]\n",
    "dict_lst=[]\n",
    "for t,gR in pd.concat(tR_values_lst).groupby(by='t'):\n",
    "    R_values = gR['R'].values\n",
    "    if R_values.shape[0]>=min_samples:\n",
    "        meanR,Delta_meanR,num_obs,p_normal=comp_mean_bootstrap_uncertainty(R_values,num_samples=1000)\n",
    "        #record\n",
    "        dict_lst.append(dict(t=t,meanR=meanR,Delta_meanR=Delta_meanR,p_normal=p_normal,num_obs=num_obs))\n",
    "df_R_lr = pd.DataFrame(dict_lst)"
   ]
  },
  {
   "cell_type": "code",
   "execution_count": 5,
   "id": "63b9790a",
   "metadata": {
    "ExecuteTime": {
     "end_time": "2024-05-02T23:56:13.249161Z",
     "start_time": "2024-05-02T23:54:48.066514Z"
    }
   },
   "outputs": [
    {
     "name": "stdout",
     "output_type": "stream",
     "text": [
      " |████████████████████████████████████████████████████████████████████████████████████████████████████| 100.0% \r"
     ]
    }
   ],
   "source": [
    "data = load_from_pickle(range_data_dir_fk)\n",
    "min_samples=100\n",
    "mintmax=4.\n",
    "# mintmax=100.\n",
    "mintmax=200.  #looks sharper for lr\n",
    "printing=True\n",
    "tR_values_lst=[]\n",
    "dict_lst=[]\n",
    "nsteps=len(data)\n",
    "for trial_num in range(nsteps):\n",
    "    df = data[trial_num].rename(columns={'annihilation_index':'creation_index',\n",
    "                            'tdeath':'tbirth'\n",
    "                   })\n",
    "    if df.shape[0]>0:\n",
    "        groups = df.groupby(by='creation_index')\n",
    "        for creation_index,g in groups:\n",
    "            r0 = g.iloc[0]['R']\n",
    "            n_prev = int(g.iloc[0]['n']) - 2\n",
    "            tR_values = g[['tbirth','R',]].values\n",
    "            tmax = tR_values[:,0].max()\n",
    "            if tmax >= mintmax:\n",
    "                #record\n",
    "                tR_values_lst.append(pd.DataFrame(tR_values).rename(columns={0:'t',1:'R'}))\n",
    "                dict_lst.append(dict(\n",
    "                    trial_num=trial_num,\n",
    "                    creation_index=creation_index,\n",
    "                    r0=r0,\n",
    "                    n_prev=n_prev,\n",
    "                ))\n",
    "        if printing:\n",
    "            printProgressBar(trial_num+1,nsteps)\n",
    "if printing:\n",
    "    printProgressBar(nsteps,nsteps)\n",
    "\n",
    "df_r0_fk = pd.DataFrame(dict_lst)\n",
    "\n",
    "# df_r0['r0'].mean(),df_r0.shape[0]\n",
    "dict_lst=[]\n",
    "for t,gR in pd.concat(tR_values_lst).groupby(by='t'):\n",
    "    R_values = gR['R'].values\n",
    "    if R_values.shape[0]>=min_samples:\n",
    "        meanR,Delta_meanR,num_obs,p_normal=comp_mean_bootstrap_uncertainty(R_values,num_samples=1000)\n",
    "        #record\n",
    "        dict_lst.append(dict(t=t,meanR=meanR,Delta_meanR=Delta_meanR,p_normal=p_normal,num_obs=num_obs))\n",
    "df_R_fk = pd.DataFrame(dict_lst)"
   ]
  },
  {
   "cell_type": "code",
   "execution_count": 6,
   "id": "d38156fd",
   "metadata": {
    "ExecuteTime": {
     "end_time": "2024-05-02T23:56:13.944218Z",
     "start_time": "2024-05-02T23:56:13.250999Z"
    }
   },
   "outputs": [
    {
     "name": "stdout",
     "output_type": "stream",
     "text": [
      "-n \u0007\n",
      "-n \u0007\n",
      "-n \u0007\n"
     ]
    },
    {
     "data": {
      "text/plain": [
       "0"
      ]
     },
     "execution_count": 6,
     "metadata": {},
     "output_type": "execute_result"
    }
   ],
   "source": [
    "beep(3)"
   ]
  },
  {
   "cell_type": "markdown",
   "id": "0d244b08",
   "metadata": {
    "ExecuteTime": {
     "end_time": "2024-04-26T03:00:11.090063Z",
     "start_time": "2024-04-26T03:00:11.018683Z"
    }
   },
   "source": [
    "# visualize mean radial creation timeseries"
   ]
  },
  {
   "cell_type": "code",
   "execution_count": 7,
   "id": "2903780b",
   "metadata": {
    "ExecuteTime": {
     "end_time": "2024-05-02T23:56:14.380456Z",
     "start_time": "2024-05-02T23:56:13.946479Z"
    }
   },
   "outputs": [
    {
     "data": {
      "image/png": "[encoded data removed]",
      "text/plain": [
       "<Figure size 400x300 with 1 Axes>"
      ]
     },
     "metadata": {},
     "output_type": "display_data"
    }
   ],
   "source": [
    "fig,ax=plt.subplots(figsize=(4,3))\n",
    "\n",
    "df_R = df_R_fk\n",
    "# df_R = df_R_lr\n",
    "t_values = df_R['t'].values\n",
    "R_values = df_R['meanR'].values\n",
    "Delta_R_values = df_R['Delta_meanR'].values\n",
    "ax.plot(t_values,R_values,color='C0',label='Fenton-Karma',lw=2)\n",
    "ax.fill_between(t_values,R_values-Delta_R_values,R_values+Delta_R_values,color='C0',alpha=0.7)\n",
    "\n",
    "# df_R = df_R_fk\n",
    "df_R = df_R_lr\n",
    "t_values = df_R['t'].values\n",
    "R_values = df_R['meanR'].values\n",
    "Delta_R_values = df_R['Delta_meanR'].values\n",
    "ax.plot(t_values,R_values,color='C1',label='Luo-Rudy',lw=2)\n",
    "ax.fill_between(t_values,R_values-Delta_R_values,R_values+Delta_R_values,color='C1',alpha=0.7)\n",
    "\n",
    "\n",
    "# format_plot\n",
    "format_plot(ax=ax,xlabel=r'$t-t_i$  (ms)',ylabel=r'$\\langle R\\rangle$  (cm)',fontsize=18)\n",
    "spines = ax.spines[['right','top']].set_visible(False)\n",
    "ax.legend(fontsize=16)\n",
    "ax.set_xlim([0,250])\n",
    "plt.show()"
   ]
  },
  {
   "cell_type": "code",
   "execution_count": 8,
   "id": "9e1fe662",
   "metadata": {
    "ExecuteTime": {
     "end_time": "2024-05-02T23:56:14.765888Z",
     "start_time": "2024-05-02T23:56:14.384507Z"
    }
   },
   "outputs": [
    {
     "name": "stdout",
     "output_type": "stream",
     "text": [
      "at first datum, dRdt = 0.1317 ± 0.0047 cm/ms (FK)\n",
      "at first datum, dRdt = 0.1811 ± 0.0344 cm/ms (LR)\n"
     ]
    },
    {
     "data": {
      "image/png": "[encoded data removed]",
      "text/plain": [
       "<Figure size 400x300 with 1 Axes>"
      ]
     },
     "metadata": {},
     "output_type": "display_data"
    }
   ],
   "source": [
    "fig,ax=plt.subplots(figsize=(4,3))\n",
    "\n",
    "df_R = df_R_fk\n",
    "# df_R = df_R_lr\n",
    "t_values = df_R['t'].values\n",
    "R_values = df_R['meanR'].values\n",
    "Delta_R_values = df_R['Delta_meanR'].values\n",
    "dRdt_values = np.diff(R_values) / np.diff(t_values)\n",
    "tt_values = moving_average(t_values,2)\n",
    "Delta_dRdt_values = moving_average(Delta_R_values,2)*2\n",
    "# Delta_dRdt_values = moving_average(Delta_R_values,2)\n",
    "ax.plot(tt_values,dRdt_values,color='C0',label='Fenton-Karma',lw=2)\n",
    "ax.fill_between(tt_values,dRdt_values-Delta_dRdt_values,dRdt_values+Delta_dRdt_values,color='C0',alpha=0.7)\n",
    "print(f\"at first datum, dRdt = {dRdt_values[0]:.4f} ± {Delta_dRdt_values[0]:.4f} cm/ms (FK)\")\n",
    "\n",
    "# df_R = df_R_fk\n",
    "df_R = df_R_lr\n",
    "t_values = df_R['t'].values\n",
    "R_values = df_R['meanR'].values\n",
    "Delta_R_values = df_R['Delta_meanR'].values\n",
    "dRdt_values = np.diff(R_values) / np.diff(t_values)\n",
    "tt_values = moving_average(t_values,2)\n",
    "Delta_dRdt_values = moving_average(Delta_R_values,2)*2\n",
    "# Delta_dRdt_values = moving_average(Delta_R_values,2)\n",
    "ax.plot(tt_values,dRdt_values,color='C1',label='Luo-Rudy',lw=2)\n",
    "ax.fill_between(tt_values,dRdt_values-Delta_dRdt_values,dRdt_values+Delta_dRdt_values,color='C1',alpha=0.7)\n",
    "print(f\"at first datum, dRdt = {dRdt_values[0]:.4f} ± {Delta_dRdt_values[0]:.4f} cm/ms (LR)\")\n",
    "\n",
    "# format_plot\n",
    "# xlim = [0,250]\n",
    "xlim = [1,250]\n",
    "ax.plot(xlim,[0,0],'k-')\n",
    "format_plot(ax=ax,xlabel=r'$t-t_i$  (ms)',ylabel=r'$\\frac{d}{dt}\\langle R\\rangle$  (cm/ms)',fontsize=18)\n",
    "spines = ax.spines[['right','top']].set_visible(False)\n",
    "ax.legend(fontsize=16)\n",
    "ax.set_xlim(xlim)\n",
    "ax.set_ylim([-0.25,0.6])\n",
    "ax.set_xscale('log')\n",
    "plt.show()"
   ]
  },
  {
   "cell_type": "code",
   "execution_count": 9,
   "id": "12f2fed4",
   "metadata": {
    "ExecuteTime": {
     "end_time": "2024-05-02T23:56:15.451527Z",
     "start_time": "2024-05-02T23:56:14.768431Z"
    }
   },
   "outputs": [
    {
     "name": "stdout",
     "output_type": "stream",
     "text": [
      "-n \u0007\n",
      "-n \u0007\n",
      "-n \u0007\n"
     ]
    },
    {
     "data": {
      "text/plain": [
       "0"
      ]
     },
     "execution_count": 9,
     "metadata": {},
     "output_type": "execute_result"
    }
   ],
   "source": [
    "beep(3)"
   ]
  },
  {
   "cell_type": "code",
   "execution_count": null,
   "id": "bc9d1d7b",
   "metadata": {},
   "outputs": [],
   "source": []
  }
 ],
 "metadata": {
  "hide_input": false,
  "kernelspec": {
   "display_name": "Python 3 (ipykernel)",
   "language": "python",
   "name": "python3"
  },
  "language_info": {
   "codemirror_mode": {
    "name": "ipython",
    "version": 3
   },
   "file_extension": ".py",
   "mimetype": "text/x-python",
   "name": "python",
   "nbconvert_exporter": "python",
   "pygments_lexer": "ipython3",
   "version": "3.9.5"
  },
  "nbTranslate": {
   "displayLangs": [
    "*"
   ],
   "hotkey": "alt-t",
   "langInMainMenu": true,
   "sourceLang": "en",
   "targetLang": "fr",
   "useGoogleTranslate": true
  },
  "toc": {
   "base_numbering": 1,
   "nav_menu": {},
   "number_sections": true,
   "sideBar": true,
   "skip_h1_title": false,
   "title_cell": "Table of Contents",
   "title_sidebar": "Contents",
   "toc_cell": false,
   "toc_position": {},
   "toc_section_display": true,
   "toc_window_display": false
  }
 },
 "nbformat": 4,
 "nbformat_minor": 5
}
