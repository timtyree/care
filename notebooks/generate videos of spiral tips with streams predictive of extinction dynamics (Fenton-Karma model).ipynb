{
 "cells": [
  {
   "cell_type": "markdown",
   "id": "b80e60a9",
   "metadata": {},
   "source": [
    "# generate videos of spiral tips with streams predictive of extinction dynamics\n",
    "Tim Tyree<br>\n",
    "3.22.2022"
   ]
  },
  {
   "cell_type": "code",
   "execution_count": 175,
   "id": "7eedbc97",
   "metadata": {
    "ExecuteTime": {
     "end_time": "2022-03-23T03:18:12.492744Z",
     "start_time": "2022-03-23T03:18:12.464903Z"
    }
   },
   "outputs": [],
   "source": [
    "from lib.my_initialization import *\n",
    "from lib.model.minimal_model_cuda import *\n",
    "from lib import *\n",
    "%autocall 1\n",
    "%load_ext autoreload\n",
    "%autoreload 2"
   ]
  },
  {
   "cell_type": "code",
   "execution_count": 215,
   "id": "ffc220c2",
   "metadata": {
    "ExecuteTime": {
     "end_time": "2022-03-23T04:36:37.016203Z",
     "start_time": "2022-03-23T04:36:36.992632Z"
    }
   },
   "outputs": [],
   "source": [
    "import shutil\n",
    "#reset matplotlib\n",
    "import matplotlib as mpl\n",
    "# import seaborn as sns\n",
    "# sns.reset_orig()\n",
    "mpl.rc_file_defaults()"
   ]
  },
  {
   "cell_type": "code",
   "execution_count": 162,
   "id": "bcc25cfa",
   "metadata": {
    "ExecuteTime": {
     "end_time": "2022-03-23T03:09:41.478951Z",
     "start_time": "2022-03-23T03:09:41.476681Z"
    }
   },
   "outputs": [],
   "source": [
    "# 993MiB /  7982MiB\n",
    "# 7982/993=8.03...>8\n",
    "npartitions_gpu=8\n",
    "npartitions=os.cpu_count()-1\n",
    "assert npartitions>0"
   ]
  },
  {
   "cell_type": "markdown",
   "id": "7ee45af1",
   "metadata": {
    "ExecuteTime": {
     "end_time": "2022-03-22T22:20:40.901480Z",
     "start_time": "2022-03-22T22:20:40.889099Z"
    }
   },
   "source": [
    "# define module"
   ]
  },
  {
   "cell_type": "code",
   "execution_count": 376,
   "id": "c2f02971",
   "metadata": {
    "ExecuteTime": {
     "end_time": "2022-03-23T08:01:25.347926Z",
     "start_time": "2022-03-23T08:01:25.328179Z"
    },
    "run_control": {
     "marked": true
    }
   },
   "outputs": [],
   "source": [
    "#input: gpu output in cpu memory\n",
    "#ouput:  dict_out,img,dimg_dt\n",
    "def measure_system(gpu_result_u,gpu_result_v,gpu_result_w,V_threshold,**kwargs):\n",
    "    \"\"\"\n",
    "    kwargs may not be conected to anything\n",
    "    returns dict_out,img,dimg_dt\n",
    "    Example Usage:\n",
    "dict_out,img,dimg_dt=measure_system(gpu_result_u,gpu_result_v,gpu_result_w,V_threshold)\n",
    "    \"\"\"\n",
    "    #stack txt\n",
    "    txt=np.stack((gpu_result_u,gpu_result_v,gpu_result_w),axis=-1)\n",
    "    # #DONE: compute spiral tip locations and verify that they look reasonable\n",
    "    #compute flow map\n",
    "    zero_txt=np.zeros_like(txt)\n",
    "    dtxt_dt=zero_txt#.copy()\n",
    "    get_time_step_fk(txt, dtxt_dt)\n",
    "    img=txt[...,0]\n",
    "    dimgdt=dtxt_dt[...,0]\n",
    "    #compute spiral tip locations\n",
    "    dict_out=compute_all_spiral_tips(t=9999.,img=img,dimgdt=dimgdt,level1=V_threshold,level2=0.)#,width=width,height=height)\n",
    "\n",
    "    #compress data to be plotted\n",
    "    # dimg_dt=dtxt_dt[...,0]\n",
    "    # img=txt[...,0]\n",
    "    dimg_dt=dtxt_dt[...,0].astype(np.float32) #looks the same as float64\n",
    "    img=txt[...,0].astype(np.float32)\n",
    "    # dVdt=dtxt_dt[...,0].astype(np.float16) #this bugs up the streamplots\n",
    "    # img=txt[...,0].astype(np.float16)\n",
    "    return dict_out,img,dimg_dt"
   ]
  },
  {
   "cell_type": "code",
   "execution_count": 378,
   "id": "f5a1c5cb",
   "metadata": {
    "ExecuteTime": {
     "end_time": "2022-03-23T08:01:32.389182Z",
     "start_time": "2022-03-23T08:01:32.364819Z"
    }
   },
   "outputs": [],
   "source": [
    "#DONE: dev viewer routine_to_png\n",
    "#input: dict_out,img,dimg_dt,save_dir\n",
    "#output: save_dir\n",
    "def routine_to_png_streaming_tips(task):\n",
    "    dict_out,img,dimg_dt,save_dir=task\n",
    "    #define constant parameters\n",
    "    # fontsize=22\n",
    "    # xy=(0.75, 0.9)\n",
    "    inch=6\n",
    "    fontsize=30\n",
    "    xy=(0.67, 0.9)\n",
    "    #define constant coordinate mesh for stream generation\n",
    "    width=200.#pixel\n",
    "    height=200.#pixel\n",
    "    DX=0.025#cm/pixel\n",
    "    #generate plot\n",
    "    #fig, ax = plt.subplots(figsize=(inch,inch))#,constrained_layout=True)\n",
    "    fig = plt.figure(figsize=(inch,inch))#,constrained_layout=True)\n",
    "    ax=fig.add_subplot()\n",
    "    ax.pcolormesh(X, Y, img, vmin=0.,vmax=1.,cmap='bone', shading='gouraud')\n",
    "    #ax.pcolormesh(X, Y, img, vmin=0.,vmax=1.,cmap='bone', shading='auto')\n",
    "    #     ax.pcolormesh(X, Y, img, vmin=0.,vmax=1.,cmap='bone')\n",
    "    #     ax.pcolormesh(X, Y, img, shading='auto',cmap='bone')\n",
    "\n",
    "    #compute the streamplot\n",
    "    X_=np.arange(width)\n",
    "    Y_=np.arange(height)\n",
    "    #X,Y = np.meshgrid(X_, Y_)\n",
    "    #compute vector field\n",
    "    ddVdtdx=np.gradient(dimg_dt,axis=1)/DX\n",
    "    ddVdtdy=np.gradient(dimg_dt,axis=0)/DX\n",
    "    vx=-ddVdtdx #looks good\n",
    "    vy=-ddVdtdy\n",
    "    # vx=ddVdtdx #looks meh\n",
    "    # vy=ddVdtdy\n",
    "    strm = ax.streamplot(X_,Y_, vx, vy, color=(.75,.90,.93),integration_direction='both',\n",
    "                         density=0.5)#density=2)#way too much \n",
    "    x_values=np.array(dict_out['x'])\n",
    "    y_values=np.array(dict_out['y'])\n",
    "    if x_values.shape[0]>0:\n",
    "        boo=(x_values<width-1.)&(y_values<height-1.)\n",
    "        x_values=x_values[boo]\n",
    "        y_values=y_values[boo]\n",
    "        start_points = list(zip(x_values,y_values))\n",
    "        strmS = ax.streamplot(X_,Y_, vx, vy, start_points=start_points, \n",
    "                              color=\"crimson\", #\"orange\", \n",
    "                              linewidth=2,\n",
    "        #                       integration_direction='forward')\n",
    "        #                       integration_direction='backward')\n",
    "                              integration_direction='both')\n",
    "        ax.scatter(x=x_values,y=y_values,color='yellow',marker='*',s=150,alpha=0.9,zorder=10)\n",
    "\n",
    "    #complicated formatting\n",
    "    #add text of label\n",
    "#     label=f\"Vth={V_threshold}\"\n",
    "    label=r\"$-\\nabla \\partial_tV$\"#+'\\n'\n",
    "    ax.annotate(label, xy=xy, \n",
    "                xycoords='axes fraction',\n",
    "    #             xycoords='data',\n",
    "    #             xycoords='polar',\n",
    "                fontsize=fontsize,alpha=0.8)\n",
    "    #add text box with label\n",
    "    # anchored_text = mpl.offsetbox.AnchoredText(label, loc='upper right')\n",
    "    # ax.add_artist(anchored_text)\n",
    "    # anchored_text.set_alpha(0.1)\n",
    "    # annotating=False\n",
    "    # if annotating:\n",
    "    #     time_step_string=f\"  t = {t/10**3:.2f} sec\"#f\"  t = {t:.0f} ms\"#\n",
    "    #     message_string=f\"  num. = {n_tips}\"\n",
    "    #     ax.text(.0,.95,time_step_string,\n",
    "    #             horizontalalignment='left',color=textcolor,fontsize=fontsize,\n",
    "    #             transform=ax.transAxes)\n",
    "    #     ax.text(.0,.9,message_string,\n",
    "    #             horizontalalignment='left',color=textcolor,fontsize=fontsize,\n",
    "    #             transform=ax.transAxes)\n",
    "    ax.axis(\"off\")\n",
    "    plt.savefig(save_dir,dpi=720/inch, bbox_inches='tight',pad_inches=0);\n",
    "    plt.close();\n",
    "    return save_dir"
   ]
  },
  {
   "cell_type": "code",
   "execution_count": 286,
   "id": "2c1c5976",
   "metadata": {
    "ExecuteTime": {
     "end_time": "2022-03-23T05:37:27.027402Z",
     "start_time": "2022-03-23T05:37:27.008587Z"
    }
   },
   "outputs": [
    {
     "data": {
      "text/plain": [
       "1"
      ]
     },
     "execution_count": 286,
     "metadata": {},
     "output_type": "execute_result"
    }
   ],
   "source": [
    "1"
   ]
  },
  {
   "cell_type": "markdown",
   "id": "31fa1261",
   "metadata": {
    "heading_collapsed": true
   },
   "source": [
    "# test my gpu accelerated one_step method for the Fenton-Karma model"
   ]
  },
  {
   "cell_type": "code",
   "execution_count": 31,
   "id": "6e05635d",
   "metadata": {
    "ExecuteTime": {
     "end_time": "2022-03-23T00:38:41.573442Z",
     "start_time": "2022-03-23T00:38:26.654530Z"
    },
    "hidden": true
   },
   "outputs": [
    {
     "name": "stdout",
     "output_type": "stream",
     "text": [
      "200000 time steps took 14355 ms.\n"
     ]
    },
    {
     "data": {
      "image/png": "[encoded data removed]",
      "text/plain": [
       "<Figure size 432x720 with 6 Axes>"
      ]
     },
     "metadata": {
      "needs_background": "light"
     },
     "output_type": "display_data"
    }
   ],
   "source": [
    "# from lib.model.minimal_model_cuda import *\n",
    "#the following might be needed for the kernel_autotuner.\n",
    "# drv.init()\n",
    "\n",
    "#define how resources are used\n",
    "width  = 200\n",
    "height = 200\n",
    "block_size_x=10\n",
    "block_size_y=10\n",
    "threads = (block_size_x,block_size_y,1)\n",
    "grid = (int(width/block_size_x, int(height/block_size_y), 1)\n",
    "block_size_string = f\"#define block_size_x {block_size_x}\\n#define block_size_y {block_size_y}\\n\"\n",
    "\n",
    "#set spatial discretization\n",
    "DX=0.025 #cm\n",
    "# DY=0.025\n",
    "DT=0.025 #ms\n",
    "\n",
    "#initialize PyCuda and get compute capability needed for compilation\n",
    "context = drv.Device(0).make_context()\n",
    "devprops = { str(k): v for (k, v) in context.get_device().get_attributes().items() }\n",
    "cc = str(devprops['COMPUTE_CAPABILITY_MAJOR']) + str(devprops['COMPUTE_CAPABILITY_MINOR'])\n",
    "\n",
    "#load parameters for parameter set 8 for the Fenton-Karma Model\n",
    "kwargs = read_parameters_from_json('lib/model/param_set_8.json')\n",
    "kwargs['width']=width\n",
    "kwargs['height']=height\n",
    "kwargs['DX']=DX\n",
    "# kwargs['DT']=DT\n",
    "# kwargs['DY']=DY\n",
    "\n",
    "#define the initial conditions\n",
    "Vin  = np.array([256*x*(y+1) for x in range(width) for y in range(height)]).reshape((width,height))\n",
    "\n",
    "u_initial = Vin.astype(np.float64)\n",
    "#initialize auxiliary textures to zero\n",
    "v_initial = np.zeros_like(u_initial)\n",
    "w_initial = np.zeros_like(u_initial)\n",
    "\n",
    "#don't allocate memory many times for the same task!\n",
    "#allocate GPU memory for voltage scalar field\n",
    "u_old = drv.mem_alloc(u_initial.nbytes)\n",
    "u_new = drv.mem_alloc(u_initial.nbytes)\n",
    "\n",
    "#allocate GPU memory for v and w auxiliary fields\n",
    "v_old = drv.mem_alloc(v_initial.nbytes)\n",
    "v_new = drv.mem_alloc(v_initial.nbytes)\n",
    "w_old = drv.mem_alloc(w_initial.nbytes)\n",
    "w_new = drv.mem_alloc(w_initial.nbytes)\n",
    "\n",
    "# explicit time integration up to 5 seconds in steps of size 0.025 ms\n",
    "kernel_string = get_kernel_string_FK_model(**kwargs, DT=DT)\n",
    "iterations = 10**5\n",
    "\n",
    "#setup thread block dimensions and compile the kernel\n",
    "mod = SourceModule(block_size_string+kernel_string)\n",
    "time_step_kernel = mod.get_function(\"time_step_kernel\")\n",
    "\n",
    "#create events for measuring performance\n",
    "start = drv.Event()\n",
    "end = drv.Event()\n",
    "\n",
    "#move the data to the GPU\n",
    "drv.memcpy_htod(u_old, u_initial)\n",
    "drv.memcpy_htod(u_new, u_initial)\n",
    "drv.memcpy_htod(v_old, v_initial)\n",
    "drv.memcpy_htod(v_new, v_initial)\n",
    "drv.memcpy_htod(w_old, w_initial)\n",
    "drv.memcpy_htod(w_new, w_initial)\n",
    "\n",
    "#call the GPU kernel 2*iterations times and measure performance\n",
    "context.synchronize()\n",
    "start.record()\n",
    "for i in range(iterations):\n",
    "    time_step_kernel(u_new, u_old, v_new, v_old, w_new, w_old, block=threads, grid=grid)\n",
    "    time_step_kernel(u_old, u_new, v_old, v_new, w_old, w_new, block=threads, grid=grid)\n",
    "end.record()\n",
    "context.synchronize()\n",
    "runtime = end.time_since(start)\n",
    "print(f\"{iterations*2} time steps took {runtime:.0f} ms.\")\n",
    "\n",
    "#copy the result from the GPU to Python for plotting\n",
    "gpu_result_u = np.zeros_like(u_initial)\n",
    "drv.memcpy_dtoh(gpu_result_u, u_old)\n",
    "gpu_result_v = np.zeros_like(v_initial)\n",
    "drv.memcpy_dtoh(gpu_result_v, v_old)\n",
    "gpu_result_w = np.zeros_like(w_initial)\n",
    "drv.memcpy_dtoh(gpu_result_w, w_old)\n",
    "\n",
    "fig, ((ax1, ax2), (ax3, ax4), (ax5, ax6)) = plt.subplots(3,2, figsize=(6,10))\n",
    "ax1.imshow(u_initial)\n",
    "ax1.set_title(\"Initial Conditions\\n$u_0$\")\n",
    "ax2.imshow(gpu_result_u)\n",
    "ax2.set_title(\"Final Result From GPU\\n$u$\")\n",
    "\n",
    "ax3.imshow(v_initial)\n",
    "ax3.set_title(\"$v_0$\")\n",
    "ax4.imshow(gpu_result_v)\n",
    "ax4.set_title(\"$v$\")\n",
    "\n",
    "ax5.imshow(w_initial)\n",
    "ax5.set_title(\"$w_0$\")\n",
    "ax6.imshow(gpu_result_w)\n",
    "ax6.set_title(\"$w$\")\n",
    "plt.show()"
   ]
  },
  {
   "cell_type": "code",
   "execution_count": 12,
   "id": "bcc050c2",
   "metadata": {
    "ExecuteTime": {
     "end_time": "2022-03-22T22:41:00.699507Z",
     "start_time": "2022-03-22T22:41:00.695135Z"
    },
    "hidden": true
   },
   "outputs": [
    {
     "name": "stdout",
     "output_type": "stream",
     "text": [
      "diffCoef=0.0005\n",
      "C_m=1.0\n",
      "tau_pv=13.03\n",
      "tau_v2=19.6\n",
      "tau_v1=1250\n",
      "tau_pw=800\n",
      "tau_mw=40\n",
      "tau_d=0.45\n",
      "tau_0=12.5\n",
      "tau_r=33.25\n",
      "tau_si=29\n",
      "K=10\n",
      "V_sic=0.85\n",
      "V_c=0.13\n",
      "V_v=0.04\n",
      "width=200\n",
      "height=200\n",
      "DX=0.025\n"
     ]
    }
   ],
   "source": [
    "print_dict(kwargs)"
   ]
  },
  {
   "cell_type": "markdown",
   "id": "74d9fe5a",
   "metadata": {
    "heading_collapsed": true,
    "hidden": true
   },
   "source": [
    "## print the kernel_string for the one_step method for the Fenton-Karma model"
   ]
  },
  {
   "cell_type": "code",
   "execution_count": 362,
   "id": "007cdc71",
   "metadata": {
    "ExecuteTime": {
     "end_time": "2022-03-23T07:48:54.142219Z",
     "start_time": "2022-03-23T07:48:54.125926Z"
    },
    "hidden": true
   },
   "outputs": [
    {
     "name": "stdout",
     "output_type": "stream",
     "text": [
      "\n",
      "// primary model parameters\n",
      "#define width  200\n",
      "#define height 200\n",
      "#define h      0.025\n",
      "#define C_m    1.0\n",
      "#define tau_pv 13.03\n",
      "#define tau_v1 1250.0\n",
      "#define tau_v2 19.6\n",
      "#define tau_pw 800.0\n",
      "#define tau_mw 40.0\n",
      "#define tau_d  0.45\n",
      "#define tau_0  12.5\n",
      "#define tau_r  33.25\n",
      "#define tau_si 29.0\n",
      "#define K      10.0\n",
      "#define V_sic  0.85\n",
      "#define V_c    0.13\n",
      "#define V_v    0.04\n",
      "\n",
      "// auxiliary model parameters\n",
      "#define nx width\n",
      "#define ny height\n",
      "#define dcoef 0.80000000\n",
      "\n",
      "// periodic boundary conditions\n",
      "__device__ int _pbc ( int q, int wid ) {\n",
      "    if (q >= wid) {\n",
      "        q = 0;\n",
      "    }\n",
      "    if (q < 0) {\n",
      "        q = wid-1;\n",
      "    }\n",
      "    return q;\n",
      "}\n",
      "\n",
      "// heaviside step function\n",
      "__device__ double step(double thresh, double x)\n",
      "{\n",
      "    return x >= thresh;\n",
      "}\n",
      "\n",
      "// main computation kernel/face shader\n",
      "__global__ void time_step_kernel(double *u_new, double *u, double *v_new, double *v, double *w_new, double *w) {\n",
      "    int x = blockIdx.x * block_size_x + threadIdx.x;\n",
      "    int y = blockIdx.y * block_size_y + threadIdx.y;\n",
      "    if (x>=0 && x<nx && y>=0 && y<ny) {\n",
      "            double U = u[y*nx+x];\n",
      "            double V = v[y*nx+x];\n",
      "            double W = w[y*nx+x];\n",
      "            double p = step(V_c, U);\n",
      "            double q = step(V_v, U);\n",
      "            //WJ's modification of the FK model\n",
      "            double tau_mv = (1.0 - q) * tau_v2 + q * tau_v1 ;\n",
      "            ////the unmodified FK model\n",
      "            //double tau_mv = (1.0 - q) * tau_v1 + q * tau_v2 ;\n",
      "\n",
      "            // local ion current terms\n",
      "            double tn  = tanh( K * (U - V_sic)) ;\n",
      "            double Ifi = -V * p * (U - V_c) * (1.0 - U) / tau_d ;\n",
      "            double Iso = U * (1.0 - p) / tau_0 + p / tau_r ;\n",
      "            double Isi = -W * (1.0 + tn ) / (2.0 * tau_si) ;\n",
      "            double I_sum = Ifi + Iso + Isi ;\n",
      "            double current_term = -I_sum / C_m ;\n",
      "\n",
      "            // local transient terms for auxiliary variables\n",
      "            double dVdt = (1.0 - p) * (1.0 - V) / tau_mv - p * V / tau_pv ;\n",
      "            double dWdt = (1.0 - p) * (1.0 - W) / tau_mw - p * W / tau_pw ;\n",
      "\n",
      "            // diffusion term (5-point stencil)\n",
      "            int up    = _pbc(y+1,height);\n",
      "            int down  = _pbc(y-1,height);\n",
      "            int left  = _pbc(x-1, width);\n",
      "            int right = _pbc(x+1, width);\n",
      "            double diffusion_term =  dcoef * (\n",
      "            u[(up)*nx+x]+u[y*nx+right]\n",
      "            -4.0f*u[y*nx+x]\n",
      "            +u[y*nx+left]+u[(down)*nx+x]\n",
      "            );\n",
      "\n",
      "            //integrate in time\n",
      "            double dUdt = diffusion_term + current_term ;\n",
      "            u_new[y*nx+x] = U + h * dUdt;\n",
      "            v_new[y*nx+x] = V + h * dVdt;\n",
      "            w_new[y*nx+x] = W + h * dWdt;\n",
      "    }\n",
      "}\n",
      "    \n"
     ]
    }
   ],
   "source": [
    "print(kernel_string)"
   ]
  },
  {
   "cell_type": "markdown",
   "id": "7d444cb5",
   "metadata": {},
   "source": [
    "# dev"
   ]
  },
  {
   "cell_type": "code",
   "execution_count": 382,
   "id": "e4a826a4",
   "metadata": {
    "ExecuteTime": {
     "end_time": "2022-03-23T08:05:05.076947Z",
     "start_time": "2022-03-23T08:05:05.058434Z"
    }
   },
   "outputs": [],
   "source": [
    "from lib.viewer.viewer_cluster import *"
   ]
  },
  {
   "cell_type": "code",
   "execution_count": null,
   "id": "d96faef8",
   "metadata": {
    "ExecuteTime": {
     "start_time": "2022-03-23T08:15:14.755Z"
    }
   },
   "outputs": [
    {
     "name": "stdout",
     "output_type": "stream",
     "text": [
      "8000 time steps took 40 ms.\n",
      "param_fn is param_set_8.json.\n",
      "t=100.0\n",
      "n=4\n",
      "x=[47.70461999486014, 57.502692892985685, 114.9745263162495, 174.08240644565404]\n",
      "y=[130.32990113166036, 160.0729817770988, 14.145258157437949, 119.2985635346965]\n",
      "grad_ux=[0.36029275957792317, 1.376542188512733, 0.863307370513411, 0.7187016415982683]\n",
      "grad_uy=[1.2303286764719392, 0.8645659396024787, 2.070882090091564, 1.4128924517481047]\n",
      "grad_vx=[1.7888276476205653, -0.9891870829127515, 1.0702180362237466, 5.394408377345041]\n",
      "grad_vy=[0.7097386572508284, 1.7133260245974722, 0.42654091158790974, -5.413771303847788]\n",
      "dumped cache at /home/timothytyree/Documents/GitHub/care/notebooks/Figures/mov\n"
     ]
    }
   ],
   "source": [
    "# load an initial conditions and integrate forward 100ms\n",
    "printing=False\n",
    "tf=100.\n",
    "iterations = int(np.around(tf/DT))\n",
    "# ic_folder='/home/timothytyree/Documents/GitHub/care/notebooks/Data/initial-conditions-fk-200x200/ic-in/'\n",
    "ic_folder='/home/timothytyree/Documents/GitHub/care/notebooks/Data/initial-conditions-fk-200x200/ic-out/'\n",
    "# ic_fn='ic200x200.3.80.npz'\n",
    "# ic_fn='ic200x200.2.80.npz'\n",
    "\n",
    "ic_fn_lst=[\"ic200x200.0.0.npz\",   \"ic200x200.0.59.npz\",  \"ic200x200.1.34.npz\",  \"ic200x200.2.0.npz\",   \"ic200x200.2.59.npz\",  \"ic200x200.3.34.npz\",\n",
    "\"ic200x200.0.10.npz\",  \"ic200x200.0.5.npz\",   \"ic200x200.1.35.npz\",  \"ic200x200.2.10.npz\",  \"ic200x200.2.5.npz\",   \"ic200x200.3.35.npz\"]\n",
    "\n",
    "for ic_fn in ic_fn_lst:\n",
    "    ic_dir=os.path.join(ic_folder,ic_fn)\n",
    "    if printing:\n",
    "        print(f\"ic_dir='{ic_dir}'\")\n",
    "\n",
    "    #load ic and verify that it contains spiral tips\n",
    "    txt=load_buffer(ic_dir).astype(np.float64)\n",
    "    # plt.imshow(txt[...,0],cmap='gray')\n",
    "    # plt.axis('off')\n",
    "    # plt.show()\n",
    "\n",
    "    t=0\n",
    "\n",
    "    # iterations = 67\n",
    "    if printing:\n",
    "        print(f\"forward integrating to tf={tf:.3f} ms (iterations={iterations})...\")\n",
    "\n",
    "    #define the initial conditions\n",
    "    u_initial=txt[...,0].copy()\n",
    "    v_initial=txt[...,1].copy()\n",
    "    w_initial=txt[...,2].copy()\n",
    "\n",
    "    #don't allocate memory many times for the same task!\n",
    "    #allocate GPU memory for voltage scalar field\n",
    "    u_old = drv.mem_alloc(u_initial.nbytes)\n",
    "    u_new = drv.mem_alloc(u_initial.nbytes)\n",
    "    #allocate GPU memory for v and w auxiliary fields\n",
    "    v_old = drv.mem_alloc(v_initial.nbytes)\n",
    "    v_new = drv.mem_alloc(v_initial.nbytes)\n",
    "    w_old = drv.mem_alloc(w_initial.nbytes)\n",
    "    w_new = drv.mem_alloc(w_initial.nbytes)\n",
    "\n",
    "    # explicit time integration up to 5 seconds in steps of size 0.025 ms\n",
    "    kernel_string = get_kernel_string_FK_model(**kwargs, DT=DT)\n",
    "\n",
    "    #setup thread block dimensions and compile the kernel\n",
    "    mod = SourceModule(block_size_string+kernel_string)\n",
    "    time_step_kernel = mod.get_function(\"time_step_kernel\")\n",
    "\n",
    "    # #create events for measuring performance\n",
    "    # start_timer = drv.Event()\n",
    "    # end_timer = drv.Event()\n",
    "\n",
    "    #move the data to the GPU\n",
    "    drv.memcpy_htod(u_old, u_initial)\n",
    "    drv.memcpy_htod(u_new, u_initial)\n",
    "    drv.memcpy_htod(v_old, v_initial)\n",
    "    drv.memcpy_htod(v_new, v_initial)\n",
    "    drv.memcpy_htod(w_old, w_initial)\n",
    "    drv.memcpy_htod(w_new, w_initial)\n",
    "\n",
    "    #call the GPU kernel 2*iterations times and measure performance\n",
    "    context.synchronize()\n",
    "    # start_timer.record()\n",
    "    for i in range(iterations):\n",
    "        time_step_kernel(u_new, u_old, v_new, v_old, w_new, w_old, block=threads, grid=grid)\n",
    "        time_step_kernel(u_old, u_new, v_old, v_new, w_old, w_new, block=threads, grid=grid)\n",
    "    # end_timer.record()\n",
    "    context.synchronize()\n",
    "    # runtime = end_timer.time_since(start_timer)\n",
    "    print(f\"{iterations*2} time steps took {runtime:.0f} ms.\")\n",
    "\n",
    "    #copy the result from the GPU to Python for plotting\n",
    "    gpu_result_u = np.zeros_like(u_initial)\n",
    "    drv.memcpy_dtoh(gpu_result_u, u_old)\n",
    "    gpu_result_v = np.zeros_like(v_initial)\n",
    "    drv.memcpy_dtoh(gpu_result_v, v_old)\n",
    "    gpu_result_w = np.zeros_like(w_initial)\n",
    "    drv.memcpy_dtoh(gpu_result_w, w_old)\n",
    "\n",
    "    #record final time as new time\n",
    "    t=tf\n",
    "\n",
    "    # fig, ((ax1, ax2), (ax3, ax4), (ax5, ax6)) = plt.subplots(3,2, figsize=(6,10))\n",
    "    # ax1.imshow(u_initial)\n",
    "    # ax1.set_title(\"Initial Conditions\\n$u_0$\")\n",
    "    # ax2.imshow(gpu_result_u)\n",
    "    # ax2.set_title(\"Final Result From GPU\\n$u$\")\n",
    "    # ax3.imshow(v_initial)\n",
    "    # ax3.set_title(\"$v_0$\")\n",
    "    # ax4.imshow(gpu_result_v)\n",
    "    # ax4.set_title(\"$v$\")\n",
    "    # ax5.imshow(w_initial)\n",
    "    # ax5.set_title(\"$w_0$\")\n",
    "    # ax6.imshow(gpu_result_w)\n",
    "    # ax6.set_title(\"$w$\")\n",
    "    # plt.show()\n",
    "\n",
    "    #init methods for instantaneous spiral tip detection\n",
    "    diffCoef=kwargs['diffCoef']\n",
    "    dsdpixel=kwargs['DX']\n",
    "    get_time_step_fk,one_step_fk=recall_flow_map_fk(nb_dir=nb_dir,diffCoef=diffCoef,width=width,height=height,dsdpixel=dsdpixel)\n",
    "    # one_step_luo_rudy,comp_distance,comp_dict_tips=init_methods(nb_dir=nb_dir,width=width,height=height,ds=DX,dt=DT,V_threshold=0.4,jump_threshold=40)\n",
    "    # V_threshold=-60\n",
    "    V_threshold=0.4\n",
    "    compute_all_spiral_tips= get_compute_all_spiral_tips(mode='simp',width=width,height=height)\n",
    "\n",
    "    #stack txt\n",
    "    txt=np.stack((gpu_result_u,gpu_result_v,gpu_result_w),axis=-1)\n",
    "    #cache txt for initialization\n",
    "    txt_init=txt.copy()\n",
    "\n",
    "    zero_txt=np.zeros_like(txt)\n",
    "\n",
    "    # #compute flow map\n",
    "    # dtxt_dt=zero_txt.copy()\n",
    "    # get_time_step_fk(txt, dtxt_dt)\n",
    "    # plt.imshow(dtxt_dt[...,0],cmap='bone',vmin=0,vmax=0.5)\n",
    "    # plt.axis('off')\n",
    "    # plt.show()\n",
    "\n",
    "    #compute spiral tip locations and verify that they look reasonable\n",
    "    #compute flow map\n",
    "    dtxt_dt=zero_txt.copy()\n",
    "    get_time_step_fk(txt, dtxt_dt)\n",
    "    img=txt[...,0]\n",
    "    dimgdt=dtxt_dt[...,0]\n",
    "    #compute spiral tip locations\n",
    "    dict_out=compute_all_spiral_tips(t,img,dimgdt,level1=V_threshold,level2=0.)#,width=width,height=height)\n",
    "    print_dict(dict_out)\n",
    "    if dict_out['n']>0:\n",
    "        #generation of results\n",
    "        # printing=True\n",
    "        save_every=67\n",
    "        fps=60 #i checked the ffmpeg routine\n",
    "        # video_duration=30 #seconds\n",
    "        video_duration=15 #seconds\n",
    "        pause_after_termination_duration=1. #second\n",
    "        accumulated_time_after_termination=0.\n",
    "        V_threshold=0.4 #appears best\n",
    "        # V_threshold=0.2\n",
    "        # V_threshold=0.8\n",
    "        # V_threshold=0.95\n",
    "        #NOTE: I can make video_duration=30*6 #seconds so long as I am not storing more in ram at a time\n",
    "        \n",
    "        #define the initial conditions\n",
    "        t=tf #ms\n",
    "        txt=txt_init.copy()\n",
    "        u_initial=txt[...,0].copy()\n",
    "        v_initial=txt[...,1].copy()\n",
    "        w_initial=txt[...,2].copy()\n",
    "\n",
    "        #don't allocate memory many times for the same task!\n",
    "        #allocate GPU memory for voltage scalar field\n",
    "        u_old = drv.mem_alloc(u_initial.nbytes)\n",
    "        u_new = drv.mem_alloc(u_initial.nbytes)\n",
    "        #allocate GPU memory for v and w auxiliary fields\n",
    "        v_old = drv.mem_alloc(v_initial.nbytes)\n",
    "        v_new = drv.mem_alloc(v_initial.nbytes)\n",
    "        w_old = drv.mem_alloc(w_initial.nbytes)\n",
    "        w_new = drv.mem_alloc(w_initial.nbytes)\n",
    "\n",
    "        # explicit time integration up to 5 seconds in steps of size 0.025 ms\n",
    "        kernel_string = get_kernel_string_FK_model(**kwargs, DT=DT)\n",
    "\n",
    "        #setup thread block dimensions and compile the kernel\n",
    "        mod = SourceModule(block_size_string+kernel_string)\n",
    "        time_step_kernel = mod.get_function(\"time_step_kernel\")\n",
    "\n",
    "        # #create events for measuring gpu performance\n",
    "        # start_timer = drv.Event()\n",
    "        # end_timer = drv.Event()\n",
    "\n",
    "        #move the data to the GPU\n",
    "        drv.memcpy_htod(u_old, u_initial)\n",
    "        drv.memcpy_htod(u_new, u_initial)\n",
    "        drv.memcpy_htod(v_old, v_initial)\n",
    "        drv.memcpy_htod(v_new, v_initial)\n",
    "        drv.memcpy_htod(w_old, w_initial)\n",
    "        drv.memcpy_htod(w_new, w_initial)\n",
    "\n",
    "        #time evolve txt on gpu saving to cpu once every 67 time steps\n",
    "        iterations=save_every\n",
    "        number_frames=np.around(video_duration*fps)\n",
    "        nsteps=number_frames\n",
    "        t_final=tf+DT*iterations*nsteps\n",
    "        if printing:\n",
    "            print(f\"system initialized at time: {t} ms\")\n",
    "            print(f\"saving at a 10/1.05 ~ 10X slowdown from the time in the simulation (supposing 60 fps)\")\n",
    "            print(f\"forward integrating to tf={t_final/1e3} seconds...\")\n",
    "        dict_out_lst=[]\n",
    "        img_lst=[]\n",
    "        dimg_dt_lst=[]\n",
    "        start = time.time()\n",
    "        for step in range(nsteps):\n",
    "            #call the GPU kernel 2*iterations times and measure performance\n",
    "            context.synchronize()\n",
    "            #start_timer.record()\n",
    "            for i in range(iterations):\n",
    "                time_step_kernel(u_new, u_old, v_new, v_old, w_new, w_old, block=threads, grid=grid)\n",
    "                time_step_kernel(u_old, u_new, v_old, v_new, w_old, w_new, block=threads, grid=grid)\n",
    "            #end_timer.record()\n",
    "            context.synchronize()\n",
    "            #runtime = end_timer.time_since(start_timer)\n",
    "\n",
    "            #copy the result from the GPU to Python for plotting\n",
    "            gpu_result_u = np.zeros_like(u_initial)\n",
    "            drv.memcpy_dtoh(gpu_result_u, u_old)\n",
    "            gpu_result_v = np.zeros_like(v_initial)\n",
    "            drv.memcpy_dtoh(gpu_result_v, v_old)\n",
    "            gpu_result_w = np.zeros_like(w_initial)\n",
    "            drv.memcpy_dtoh(gpu_result_w, w_old)\n",
    "\n",
    "            #measure\n",
    "            dict_out,img,dimg_dt=measure_system(gpu_result_u,gpu_result_v,gpu_result_w,V_threshold)\n",
    "            #update time\n",
    "            t=(tf+DT*step*iterations)*0.001 #seconds\n",
    "            dict_out['t']=t\n",
    "            #record\n",
    "            dict_out_lst.append(dict_out)\n",
    "            img_lst.append(img)\n",
    "            dimg_dt_lst.append(dimg_dt)\n",
    "            #update progressbar\n",
    "            if printing:\n",
    "                printProgressBar(step + 1, nsteps, prefix = f'Progress:', suffix = f'Complete (t={t:.3f} seconds)', length = 50)\n",
    "\n",
    "            if dict_out['n']==0:\n",
    "                #the number of tips is zero\n",
    "                accumulated_time_after_termination+=DT*iterations\n",
    "                if accumulated_time_after_termination>pause_after_termination_duration:\n",
    "                    # break the inner loop\n",
    "                    break\n",
    "            else:\n",
    "                # continue if the inner loop wasn't broken\n",
    "                continue\n",
    "            # inner loop was broken, break the outer\n",
    "            break\n",
    "\n",
    "        runtime = time.time() - start\n",
    "        if printing:\n",
    "            print(f\"simulation complete!\\ntotal run time: {runtime:.0f} seconds for {ic_fn}.\")\n",
    "        # beep(1)\n",
    "\n",
    "        #generate movie of data currently in virtual memory\n",
    "        dump_cache=True\n",
    "        save_folder = os.path.join(nb_dir,f'Figures/mov')\n",
    "        #dump save_folder if it already exists\n",
    "        if not os.path.exists(save_folder):\n",
    "            os.mkdir(save_folder)\n",
    "        assert (os.path.exists(save_folder))\n",
    "        if dump_cache:\n",
    "            shutil.rmtree(save_folder)\n",
    "            print(f\"dumped cache at {save_folder}\")\n",
    "            os.mkdir(save_folder)\n",
    "\n",
    "        task_lst=[]\n",
    "        for frameno,(dict_out,img,dimg_dt) in enumerate(zip(dict_out_lst,img_lst,dimg_dt_lst)):\n",
    "            save_fn=f\"img{frameno:07d}.png\"\n",
    "            save_dir=os.path.join(save_folder,save_fn)\n",
    "            task=dict_out,img,dimg_dt,save_dir\n",
    "            task_lst.append(task)\n",
    "        task_lst.pop(-1)\n",
    "        if printing:\n",
    "            print(f\"added {len(task_lst)} tasks to task_lst\")\n",
    "\n",
    "        testing=False\n",
    "        if testing:\n",
    "            task_index=-100\n",
    "            task = task_lst[task_index]\n",
    "            routine_to_png_streaming_tips(task)\n",
    "            if printing:\n",
    "                print(task[-1])\n",
    "\n",
    "        if printing:\n",
    "            print(f\"NOTA BENE: to check on plotting progess in terminal, go to {save_folder} and enter:\\n*** ls | wc -l ***\")\n",
    "            print (f\"estimated run time for plotting ~{6*len(dict_out_lst)/npartitions/60:.1f} minutes...\")\n",
    "            print  (\"estimated run time ~ 1 hour per trial... mpl isn't parallelizing right...\")\n",
    "            #as is, it's about a 5X undertime...  this suggests 16*5/60 hours is roughly the expected run time\n",
    "\n",
    "        # # DONE: make the stream plot with this particle current, as before, but only where there are particles\n",
    "        # #     - option 0: ignore the following details and just do what I already did.\n",
    "        # #     - option 1: add streams with periodic boundary conditions (only if easy fix found on stackoverflow!)\n",
    "        # #     - option 2: add streams on the interior only\n",
    "        # #DONE: save ^that to .png with zero borders, as before\n",
    "        # #DONE: wrap ^that into a viewer routine_to_png(task)\n",
    "        # #TODO: eval_viewer_cluster\n",
    "        #this took 1 hour for 1 trial\n",
    "        start=time.time()\n",
    "        if printing:\n",
    "            print(f\"generating {len(task_lst)} .png files over {len(npartitions)} cores...\")\n",
    "        retval=eval_viewer_cluster(task_lst=task_lst,routine_to_png=routine_to_png_streaming_tips,npartitions=npartitions,printing=False)\n",
    "        if printing:\n",
    "            print(f\"the apparent run time for plotting was {(time.time()-start)/60:.1f} minutes\")\n",
    "        #beep(2)\n",
    "        #NOTE: the following was much slower\n",
    "        # #concatenate the folder of png files to a video\n",
    "        # os.chdir(f\"{nb_dir}/../vid/src\")\n",
    "        # !./concat_folder_png.sh\n",
    "        # if printing:\n",
    "        #     print(f\"V_threshold={V_threshold}\")\n",
    "        # beep(3)\n",
    "        #concatenate the folder of png files to a video\n",
    "        os.chdir(f\"{nb_dir}/../vid/src\")\n",
    "        os.system(\"./concat_folder_png.sh\");\n",
    "        #copy output movie to a file uniquely named for this recording session\n",
    "        # fn=ic_fn\n",
    "        fn=os.path.basename(ic_dir)\n",
    "        save_mov_fn=fn.replace('.npz','_streaming_tips.mov')\n",
    "        os.chdir(f\"{nb_dir}/../vid/mov\")\n",
    "        os.system(f\"cp out.mov {save_mov_fn}\")\n",
    "        # beep(3)\n",
    "        if printing:\n",
    "            print(f\"{os.path.abspath(save_mov_fn)}\")\n",
    "        #save dict_out_lst to .pkl in new folder in Data/\n",
    "        save_pkl_folder=f\"{ic_folder}/../mov_pkl_fk_diffCoef_{diffCoef}\"\n",
    "        if not os.path.exists(save_pkl_folder):\n",
    "            os.mkdir(save_pkl_folder)\n",
    "        save_pkl_fn=fn.replace('.npz','.pkl')\n",
    "        save_pkl_dir=os.path.join(save_pkl_folder,save_pkl_fn)\n",
    "        save_to_pkl(save_pkl_dir,dict_out_lst)\n",
    "        print(f\"save_pkl_dir='{save_pkl_dir}'\")"
   ]
  },
  {
   "cell_type": "code",
   "execution_count": 384,
   "id": "f4055a31",
   "metadata": {
    "ExecuteTime": {
     "end_time": "2022-03-23T08:06:29.944537Z",
     "start_time": "2022-03-23T08:06:29.920386Z"
    }
   },
   "outputs": [
    {
     "name": "stdout",
     "output_type": "stream",
     "text": [
      "save_pkl_dir='/home/timothytyree/Documents/GitHub/care/notebooks/Data/initial-conditions-fk-200x200/ic-out//../mov_pkl_fk_diffCoef_0.0005/ic200x200.2.80.pkl'\n"
     ]
    }
   ],
   "source": [
    "print(f\"save_pkl_dir='{save_pkl_dir}'\")"
   ]
  },
  {
   "cell_type": "code",
   "execution_count": 366,
   "id": "7d012f2d",
   "metadata": {
    "ExecuteTime": {
     "end_time": "2022-03-23T07:55:07.417702Z",
     "start_time": "2022-03-23T07:55:07.378362Z"
    }
   },
   "outputs": [],
   "source": [
    "# from lib.utils.pickleio import *"
   ]
  },
  {
   "cell_type": "code",
   "execution_count": null,
   "id": "7e6c2743",
   "metadata": {
    "ExecuteTime": {
     "end_time": "2022-03-23T05:31:57.188133Z",
     "start_time": "2022-03-23T05:31:57.188122Z"
    }
   },
   "outputs": [],
   "source": [
    "# - DONE: add $-\\nabla\\partial_t V_m$ as an inset text box with a white background, plt.axis('off')\n",
    "# - DONE: make a function that saves a matplotlib plot to .png as a video frame, as before\n",
    "# - DONE: determine a reasonable frame rate\n",
    "# - DONE: forloop over this, generating a folder of .png frames\n",
    "# - DONE: concatenate folder of .png frames using ffmpeg, as before\n",
    "# - TODO: if the movie looks good and is reasonably small in memory, consider sharing it... or share it during our recurring meeting tomorrow at 2pm with WJ and PM"
   ]
  },
  {
   "cell_type": "markdown",
   "id": "9c08919b",
   "metadata": {},
   "source": [
    "# TODO: repeat for (gpu_accelerated?) one_step method from the Luo-Rudy model\n",
    "then,\n",
    "TODO: overnight, let a folder of comparable small videos be generated for either/both of the full models\n",
    "HINT: try both "
   ]
  },
  {
   "cell_type": "code",
   "execution_count": null,
   "id": "ae1520be",
   "metadata": {},
   "outputs": [],
   "source": []
  },
  {
   "cell_type": "code",
   "execution_count": null,
   "id": "86f85531",
   "metadata": {},
   "outputs": [],
   "source": []
  },
  {
   "cell_type": "code",
   "execution_count": null,
   "id": "401b856a",
   "metadata": {},
   "outputs": [],
   "source": []
  }
 ],
 "metadata": {
  "kernelspec": {
   "display_name": "Python 3 (ipykernel)",
   "language": "python",
   "name": "python3"
  },
  "language_info": {
   "codemirror_mode": {
    "name": "ipython",
    "version": 3
   },
   "file_extension": ".py",
   "mimetype": "text/x-python",
   "name": "python",
   "nbconvert_exporter": "python",
   "pygments_lexer": "ipython3",
   "version": "3.7.10"
  },
  "toc": {
   "base_numbering": 1,
   "nav_menu": {},
   "number_sections": true,
   "sideBar": true,
   "skip_h1_title": false,
   "title_cell": "Table of Contents",
   "title_sidebar": "Contents",
   "toc_cell": false,
   "toc_position": {},
   "toc_section_display": true,
   "toc_window_display": false
  },
  "varInspector": {
   "cols": {
    "lenName": 16,
    "lenType": 16,
    "lenVar": 40
   },
   "kernels_config": {
    "python": {
     "delete_cmd_postfix": "",
     "delete_cmd_prefix": "del ",
     "library": "var_list.py",
     "varRefreshCmd": "print(var_dic_list())"
    },
    "r": {
     "delete_cmd_postfix": ") ",
     "delete_cmd_prefix": "rm(",
     "library": "var_list.r",
     "varRefreshCmd": "cat(var_dic_list()) "
    }
   },
   "types_to_exclude": [
    "module",
    "function",
    "builtin_function_or_method",
    "instance",
    "_Feature"
   ],
   "window_display": false
  }
 },
 "nbformat": 4,
 "nbformat_minor": 5
}
