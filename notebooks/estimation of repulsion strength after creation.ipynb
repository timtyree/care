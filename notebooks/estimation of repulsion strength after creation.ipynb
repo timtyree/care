{
 "cells": [
  {
   "cell_type": "markdown",
   "id": "732270d9",
   "metadata": {},
   "source": [
    "# estimation of repulsion strength after creation\n",
    "Tim Tyree<br>\n",
    "5.27.2024"
   ]
  },
  {
   "cell_type": "code",
   "execution_count": 1,
   "id": "df23fc47",
   "metadata": {
    "ExecuteTime": {
     "end_time": "2024-05-28T01:37:38.267368Z",
     "start_time": "2024-05-28T01:37:36.647386Z"
    }
   },
   "outputs": [],
   "source": [
    "import sys,os\n",
    "og_stdout=sys.stdout\n",
    "from lib.my_initialization import *\n",
    "os.chdir(nb_dir)\n",
    "from lib import *\n",
    "# import cupy, cudf\n",
    "# from lib.rapids_func import *\n",
    "import seaborn as sns\n",
    "import matplotlib.ticker as mtick\n",
    "import warnings\n",
    "warnings.simplefilter(\"ignore\", UserWarning)\n",
    "%load_ext autoreload\n",
    "%autoreload 2"
   ]
  },
  {
   "cell_type": "code",
   "execution_count": 2,
   "id": "5e96d242",
   "metadata": {
    "ExecuteTime": {
     "end_time": "2024-05-28T01:37:38.314575Z",
     "start_time": "2024-05-28T01:37:38.270182Z"
    }
   },
   "outputs": [],
   "source": [
    "import seaborn as sns\n",
    "#reset matplotlib\n",
    "plt.plot([1]*4)\n",
    "plt.close()\n",
    "#reset matplotlib settings\n",
    "import matplotlib as mpl\n",
    "sns.reset_orig()\n",
    "mpl.rc_file_defaults()"
   ]
  },
  {
   "cell_type": "markdown",
   "id": "0e6b980f",
   "metadata": {},
   "source": [
    "# define module"
   ]
  },
  {
   "cell_type": "code",
   "execution_count": null,
   "id": "e24085b9",
   "metadata": {},
   "outputs": [],
   "source": []
  },
  {
   "cell_type": "markdown",
   "id": "5af1a46c",
   "metadata": {},
   "source": [
    "# estimate $b$ for the full models"
   ]
  },
  {
   "cell_type": "markdown",
   "id": "68b6f7c1",
   "metadata": {},
   "source": [
    "\\begin{equation}\n",
    "b  = \\frac{\\langle MSR\\rangle_{creat}}{\\langle MSR\\rangle_{annih}}(a+2D)  -2 D\n",
    "\\end{equation}"
   ]
  },
  {
   "cell_type": "markdown",
   "id": "879c5382",
   "metadata": {},
   "source": [
    "$$\n",
    "\\delta b^2 = \\Big(\\frac{a+2D}{S_a}\\Big)^2\\delta S_c^2\n",
    "            +\\Big(\\frac{(a+2D)S_c}{S_a^2}\\Big)^2\\delta S_a^2\n",
    "            +\\Big(\\frac{S_c}{S_a}\\Big)^2\\delta a^2\n",
    "            +4\\Big(\\frac{S_c}{S_a}-1\\Big)^2\\delta D^2\n",
    "$$"
   ]
  },
  {
   "cell_type": "markdown",
   "id": "ec2eb11e",
   "metadata": {},
   "source": [
    "From the cardiac model simulations, we found $\\langle MSR\\rangle_{annih}=0.740\\pm0.016$ cm$^2$ and $\\langle MSR\\rangle_{creat}=0.794\\pm0.019$ cm$^2$ for the LR model and $\\langle  MSR\\rangle_{annih}=0.443\\pm0.007$ cm$^2$ and $\\langle MSR\\rangle_{creat}=0.806\\pm0.012$ cm$^2$ for the FK model.m"
   ]
  },
  {
   "cell_type": "code",
   "execution_count": 8,
   "id": "327f272d",
   "metadata": {
    "ExecuteTime": {
     "end_time": "2024-05-28T03:18:17.235373Z",
     "start_time": "2024-05-28T03:18:17.213480Z"
    }
   },
   "outputs": [
    {
     "name": "stdout",
     "output_type": "stream",
     "text": [
      "b=10.0399 +/- 0.4766 cm^2/s (LR)\n",
      "\t- chi=2.0796 +/- 0.0542\n",
      "b=3.0122 +/- 0.0773 cm^2/s (FK)\n",
      "\t- chi=2.9408 +/- 0.0508\n"
     ]
    }
   ],
   "source": [
    "#LR\n",
    "AMSRa = 0.740\n",
    "Delta_AMSRa = 0.016  / 1.96 #std\n",
    "AMSRc = 0.794\n",
    "Delta_AMSRc = 0.019 / 1.96 #std\n",
    "a = 9.3 \n",
    "Delta_a = 0.3 / 1.96 #std\n",
    "D = 0.42\n",
    "Delta_D = 0.14 / 1.96 #std\n",
    "Sa = AMSRa\n",
    "Sc = AMSRc\n",
    "b = (Sc/Sa)*(a+2*D) - 2*D\n",
    "Delta_b = (((a+2*D)/Sa) ** 2) * (Delta_AMSRc ** 2)\n",
    "Delta_b+= (((a+2*D)*Sc/(Sa**2)) ** 2) * (Delta_AMSRa ** 2)\n",
    "Delta_b+= ((Sc/Sa) ** 2) * (Delta_a ** 2)\n",
    "Delta_b+= 4 * ((Sc/Sa - 1) ** 2) * (Delta_D ** 2)\n",
    "Delta_b = np.sqrt(Delta_b)\n",
    "Delta_b*= 1.96\n",
    "print(f\"{b=:.4f} +/- {Delta_b:.4f} cm^2/s (LR)\")\n",
    "chi = b/a + 1\n",
    "Delta_chi = np.sqrt ( (Delta_b/a) ** 2 + (b*Delta_a/(a**2)) ** 2 )\n",
    "print(f\"\\t- {chi=:.4f} +/- {Delta_chi:.4f}\")\n",
    "\n",
    "#FK\n",
    "AMSRa = 0.443\n",
    "Delta_AMSRa = 0.007  / 1.96 #std\n",
    "AMSRc = 0.806#\n",
    "Delta_AMSRc = 0.012 / 1.96 #std\n",
    "a = 1.552\n",
    "Delta_a = 0.016 / 1.96 #std\n",
    "D = 0.115\n",
    "Delta_D = 0.008 / 1.96 #std\n",
    "Sa = AMSRa\n",
    "Sc = AMSRc\n",
    "b = (Sc/Sa)*(a+2*D) - 2*D\n",
    "Delta_b = (((a+2*D)/Sa) ** 2) * (Delta_AMSRc ** 2)\n",
    "Delta_b+= (((a+2*D)*Sc/(Sa**2)) ** 2) * (Delta_AMSRa ** 2)\n",
    "Delta_b+= ((Sc/Sa) ** 2) * (Delta_a ** 2)\n",
    "Delta_b+= 4 * ((Sc/Sa - 1) ** 2) * (Delta_D ** 2)\n",
    "Delta_b = np.sqrt(Delta_b)\n",
    "Delta_b*= 1.96\n",
    "print(f\"{b=:.4f} +/- {Delta_b:.4f} cm^2/s (FK)\")\n",
    "chi = b/a + 1\n",
    "Delta_chi = np.sqrt ( (Delta_b/a) ** 2 + (b*Delta_a/(a**2)) ** 2 )\n",
    "print(f\"\\t- {chi=:.4f} +/- {Delta_chi:.4f}\")"
   ]
  },
  {
   "cell_type": "code",
   "execution_count": 7,
   "id": "e2b980d9",
   "metadata": {
    "ExecuteTime": {
     "end_time": "2024-05-28T03:08:54.175187Z",
     "start_time": "2024-05-28T03:08:54.158850Z"
    }
   },
   "outputs": [],
   "source": [
    "# b=10.0399 +/- 0.4766 cm^2/s (LR)\n",
    "# b=3.0122 +/- 0.0773 cm^2/s (FK)"
   ]
  },
  {
   "cell_type": "markdown",
   "id": "5cfc01f1",
   "metadata": {},
   "source": [
    "Consistency check:\n",
    "$$b = a(\\chi − 1)$$\n",
    "\n",
    "$$\\chi = b/a + 1$$\n",
    "\n",
    "$$\\delta \\chi ^2 = \\frac{\\delta b^2}{a^2} + \\frac{b^2 \\delta a^2}{a^4}$$"
   ]
  },
  {
   "cell_type": "markdown",
   "id": "052ff173",
   "metadata": {},
   "source": [
    "# estimation for modified full models"
   ]
  },
  {
   "cell_type": "code",
   "execution_count": 14,
   "id": "e696d781",
   "metadata": {
    "ExecuteTime": {
     "end_time": "2024-05-28T17:40:09.636808Z",
     "start_time": "2024-05-28T17:40:09.619655Z"
    }
   },
   "outputs": [],
   "source": [
    "printing=True"
   ]
  },
  {
   "cell_type": "code",
   "execution_count": 37,
   "id": "fee93b3d",
   "metadata": {
    "ExecuteTime": {
     "end_time": "2024-05-28T21:47:30.390232Z",
     "start_time": "2024-05-28T21:47:28.503048Z"
    }
   },
   "outputs": [
    {
     "name": "stdout",
     "output_type": "stream",
     "text": [
      "FK:\n",
      "mean annihilation value: 0.5595 +/- 0.0080 (N=60673, p_normala=0.3408)\n",
      "mean creation value:     0.8726 +/- 0.0110 (N=60364, p_normalc=0.2084)\n",
      "num annihilation pairs: 60673\n",
      "num creation pairs: 60364\n"
     ]
    }
   ],
   "source": [
    "# #LR\n",
    "# Ra_dir='/home/timothytyree/Documents/GitHub/care/notebooks/Data/initial-conditions-suite-3-LR/param_qu_tmax_30_Ko_3.8_diffCoef_0.001/annihilation_ranges.csv'\n",
    "# Rc_dir='/home/timothytyree/Documents/GitHub/care/notebooks/Data/initial-conditions-suite-3-LR/param_qu_tmax_30_Ko_3.8_diffCoef_0.001/creation_ranges.csv'\n",
    "#FK\n",
    "Ra_dir='/home/timothytyree/Documents/GitHub/care/notebooks/Data/initial-conditions-suite-2/param_set_8_ds_5.0_tmax_30_diffCoef_0.0005_dt_0.025_taud_0.54/annihilation_ranges.csv'\n",
    "Rc_dir='/home/timothytyree/Documents/GitHub/care/notebooks/Data/initial-conditions-suite-2/param_set_8_ds_5.0_tmax_30_diffCoef_0.0005_dt_0.025_taud_0.54/creation_ranges.csv'\n",
    "df_ra = pd.read_csv(Ra_dir)\n",
    "df_rc = pd.read_csv(Rc_dir)\n",
    "df_ra['Rsq'] = df_ra['R'] ** 2\n",
    "valuesa = df_ra.groupby(by=['trial_num','pid1'])['Rsq'].mean().values\n",
    "df_rc['Rsq'] = df_rc['R'] ** 2\n",
    "valuesc = df_rc.groupby(by=['trial_num','pid1'])['Rsq'].mean().values\n",
    "# valuesa = (df_ra['R'] ** 2).values\n",
    "# valuesc = (df_rc['R'] ** 2).values\n",
    "# Sc = np.sum(df_rc['R'] ** 2)\n",
    "# Sc/= df_rc.groupby(by=['trial_num','pid1']).ngroups\n",
    "# Sc\n",
    "\n",
    "# df_ra.head()\n",
    "\n",
    "meana,Delta_meana,num_obsa,p_normala=comp_mean_bootstrap_uncertainty(valuesa)\n",
    "meanc,Delta_meanc,num_obsc,p_normalc=comp_mean_bootstrap_uncertainty(valuesc)\n",
    "if printing:\n",
    "    print(f\"FK:\")\n",
    "    print(f\"mean annihilation value: {meana:.4f} +/- {Delta_meana:.4f} (N={num_obsa}, {p_normala=:.4f})\")\n",
    "    print(f\"mean creation value:     {meanc:.4f} +/- {Delta_meanc:.4f} (N={num_obsc}, {p_normalc=:.4f})\")\n",
    "na = df_ra.groupby(by=['trial_num','pid1']).ngroups\n",
    "nc = df_rc.groupby(by=['trial_num','pid1']).ngroups\n",
    "print(f\"num annihilation pairs: {na}\")\n",
    "print(f\"num creation pairs: {nc}\")\n",
    "\n",
    "meana_fk,Delta_meana_fk,num_obsa_fk,p_normala_fk = meana,Delta_meana,num_obsa,p_normala\n",
    "meanc_fk,Delta_meanc_fk,num_obsc_fk,p_normalc_fk = meanc,Delta_meanc,num_obsc,p_normalc"
   ]
  },
  {
   "cell_type": "markdown",
   "id": "7e7bf642",
   "metadata": {},
   "source": [
    "From the cardiac model simulations, we found $\\langle MSR\\rangle_{annih}=0.740\\pm0.016$ cm$^2$ and $\\langle MSR\\rangle_{creat}=0.794\\pm0.019$ cm$^2$ for the LR model and $\\langle  MSR\\rangle_{annih}=0.443\\pm0.007$ cm$^2$ and $\\langle MSR\\rangle_{creat}=0.806\\pm0.012$ cm$^2$ for the FK model."
   ]
  },
  {
   "cell_type": "code",
   "execution_count": 34,
   "id": "dc2abe52",
   "metadata": {
    "ExecuteTime": {
     "end_time": "2024-05-28T21:37:31.591797Z",
     "start_time": "2024-05-28T21:37:31.149346Z"
    }
   },
   "outputs": [
    {
     "name": "stdout",
     "output_type": "stream",
     "text": [
      "LR:\n",
      "mean annihilation value: 0.7527 +/- 0.0212 (N=10329, p_normala=0.8896)\n",
      "mean creation value:     0.9027 +/- 0.0235 (N=10077, p_normalc=0.5579)\n",
      "num annihilation pairs: 10329\n",
      "num creation pairs: 10077\n"
     ]
    }
   ],
   "source": [
    "#LR\n",
    "Ra_dir='/home/timothytyree/Documents/GitHub/care/notebooks/Data/initial-conditions-suite-3-LR/param_qu_tmax_30_Ko_3.8_diffCoef_0.001/annihilation_ranges.csv'\n",
    "Rc_dir='/home/timothytyree/Documents/GitHub/care/notebooks/Data/initial-conditions-suite-3-LR/param_qu_tmax_30_Ko_3.8_diffCoef_0.001/creation_ranges.csv'\n",
    "# #FK\n",
    "# Ra_dir='/home/timothytyree/Documents/GitHub/care/notebooks/Data/initial-conditions-suite-2/param_set_8_ds_5.0_tmax_30_diffCoef_0.0005_dt_0.025_taud_0.54/annihilation_ranges.csv'\n",
    "# Rc_dir='/home/timothytyree/Documents/GitHub/care/notebooks/Data/initial-conditions-suite-2/param_set_8_ds_5.0_tmax_30_diffCoef_0.0005_dt_0.025_taud_0.54/creation_ranges.csv'\n",
    "df_ra = pd.read_csv(Ra_dir)\n",
    "df_rc = pd.read_csv(Rc_dir)\n",
    "df_ra['Rsq'] = df_ra['R'] ** 2\n",
    "valuesa = df_ra.groupby(by=['trial_num','pid1'])['Rsq'].mean().values\n",
    "df_rc['Rsq'] = df_rc['R'] ** 2\n",
    "valuesc = df_rc.groupby(by=['trial_num','pid1'])['Rsq'].mean().values\n",
    "# valuesa = (df_ra['R'] ** 2).values\n",
    "# valuesc = (df_rc['R'] ** 2).values\n",
    "\n",
    "meana,Delta_meana,num_obsa,p_normala=comp_mean_bootstrap_uncertainty(valuesa)\n",
    "meanc,Delta_meanc,num_obsc,p_normalc=comp_mean_bootstrap_uncertainty(valuesc)\n",
    "if printing:\n",
    "    print(\"LR:\")\n",
    "    print(f\"mean annihilation value: {meana:.4f} +/- {Delta_meana:.4f} (N={num_obsa}, {p_normala=:.4f})\")\n",
    "    print(f\"mean creation value:     {meanc:.4f} +/- {Delta_meanc:.4f} (N={num_obsc}, {p_normalc=:.4f})\")\n",
    "\n",
    "na = df_ra.groupby(by=['trial_num','pid1']).ngroups\n",
    "nc = df_rc.groupby(by=['trial_num','pid1']).ngroups\n",
    "print(f\"num annihilation pairs: {na}\")\n",
    "print(f\"num creation pairs: {nc}\")\n",
    "\n",
    "meana_lr,Delta_meana_lr,num_obsa_lr,p_normala_lr = meana,Delta_meana,num_obsa,p_normala\n",
    "meanc_lr,Delta_meanc_lr,num_obsc_lr,p_normalc_lr = meanc,Delta_meanc,num_obsc,p_normalc"
   ]
  },
  {
   "cell_type": "code",
   "execution_count": null,
   "id": "fefc63a4",
   "metadata": {},
   "outputs": [],
   "source": []
  },
  {
   "cell_type": "code",
   "execution_count": 35,
   "id": "9858edcb",
   "metadata": {
    "ExecuteTime": {
     "end_time": "2024-05-28T21:37:39.546530Z",
     "start_time": "2024-05-28T21:37:38.914469Z"
    }
   },
   "outputs": [
    {
     "name": "stdout",
     "output_type": "stream",
     "text": [
      "\u0007\u0007\u0007"
     ]
    },
    {
     "data": {
      "text/plain": [
       "0"
      ]
     },
     "execution_count": 35,
     "metadata": {},
     "output_type": "execute_result"
    }
   ],
   "source": [
    "beep(3)"
   ]
  },
  {
   "cell_type": "code",
   "execution_count": 36,
   "id": "412c562b",
   "metadata": {
    "ExecuteTime": {
     "end_time": "2024-05-28T21:37:39.599947Z",
     "start_time": "2024-05-28T21:37:39.554143Z"
    }
   },
   "outputs": [
    {
     "name": "stdout",
     "output_type": "stream",
     "text": [
      "LR:\n",
      "b=7.0387 +/- 0.3136 cm^2/s (LR)\n",
      "\t- chi=2.2284 +/- 0.0568\n",
      "FK:\n",
      "b=2.8923 +/- 0.0597 cm^2/s (FK)\n",
      "\t- chi=2.5892 +/- 0.0339\n"
     ]
    }
   ],
   "source": [
    "#LR\n",
    "print(f\"LR:\")\n",
    "AMSRa = meana_lr#??0.740\n",
    "Delta_AMSRa = Delta_meana_lr#??0.016  / 1.96 #std\n",
    "AMSRc = meanc_lr#??0.794\n",
    "Delta_AMSRc = Delta_meanc_lr#??0.019 / 1.96 #std\n",
    "a = 5.73#??9.3 \n",
    "Delta_a = 0.07#??0.3 #/ 1.96 #std\n",
    "D = 0.42#??0.42\n",
    "Delta_D = 0.03#??0.14 #/ 1.96 #std\n",
    "Sa = AMSRa\n",
    "Sc = AMSRc\n",
    "b = (Sc/Sa)*(a+2*D) - 2*D\n",
    "Delta_b = (((a+2*D)/Sa) ** 2) * (Delta_AMSRc ** 2)\n",
    "Delta_b+= (((a+2*D)*Sc/(Sa**2)) ** 2) * (Delta_AMSRa ** 2)\n",
    "Delta_b+= ((Sc/Sa) ** 2) * (Delta_a ** 2)\n",
    "Delta_b+= 4 * ((Sc/Sa - 1) ** 2) * (Delta_D ** 2)\n",
    "Delta_b = np.sqrt(Delta_b)\n",
    "# Delta_b*= 1.96\n",
    "print(f\"{b=:.4f} +/- {Delta_b:.4f} cm^2/s (LR)\")\n",
    "chi = b/a + 1\n",
    "Delta_chi = np.sqrt ( (Delta_b/a) ** 2 + (b*Delta_a/(a**2)) ** 2 )\n",
    "print(f\"\\t- {chi=:.4f} +/- {Delta_chi:.4f}\")\n",
    "\n",
    "#FK\n",
    "print(f\"FK:\")\n",
    "AMSRa = meana_fk#??0.443\n",
    "Delta_AMSRa = Delta_meana_fk#??0.007  / 1.96 #std\n",
    "AMSRc = meanc_fk#??0.806#\n",
    "Delta_AMSRc = Delta_meanc_fk#??0.012 / 1.96 #std\n",
    "a = 1.82#??1.552\n",
    "Delta_a = 0.01#??0.016 #/ 1.96 #std\n",
    "D = 0.048#??0.115\n",
    "Delta_D = 0.007#??0.008 #/ 1.96 #std\n",
    "Sa = AMSRa\n",
    "Sc = AMSRc\n",
    "b = (Sc/Sa)*(a+2*D) - 2*D\n",
    "Delta_b = (((a+2*D)/Sa) ** 2) * (Delta_AMSRc ** 2)\n",
    "Delta_b+= (((a+2*D)*Sc/(Sa**2)) ** 2) * (Delta_AMSRa ** 2)\n",
    "Delta_b+= ((Sc/Sa) ** 2) * (Delta_a ** 2)\n",
    "Delta_b+= 4 * ((Sc/Sa - 1) ** 2) * (Delta_D ** 2)\n",
    "Delta_b = np.sqrt(Delta_b)\n",
    "# Delta_b*= 1.96\n",
    "print(f\"{b=:.4f} +/- {Delta_b:.4f} cm^2/s (FK)\")\n",
    "chi = b/a + 1\n",
    "Delta_chi = np.sqrt ( (Delta_b/a) ** 2 + (b*Delta_a/(a**2)) ** 2 )\n",
    "print(f\"\\t- {chi=:.4f} +/- {Delta_chi:.4f}\")"
   ]
  },
  {
   "cell_type": "code",
   "execution_count": null,
   "id": "20b44871",
   "metadata": {},
   "outputs": [],
   "source": []
  }
 ],
 "metadata": {
  "kernelspec": {
   "display_name": "Python 3 (ipykernel)",
   "language": "python",
   "name": "python3"
  },
  "language_info": {
   "codemirror_mode": {
    "name": "ipython",
    "version": 3
   },
   "file_extension": ".py",
   "mimetype": "text/x-python",
   "name": "python",
   "nbconvert_exporter": "python",
   "pygments_lexer": "ipython3",
   "version": "3.9.13"
  },
  "toc": {
   "base_numbering": 1,
   "nav_menu": {},
   "number_sections": true,
   "sideBar": true,
   "skip_h1_title": false,
   "title_cell": "Table of Contents",
   "title_sidebar": "Contents",
   "toc_cell": false,
   "toc_position": {},
   "toc_section_display": true,
   "toc_window_display": false
  }
 },
 "nbformat": 4,
 "nbformat_minor": 5
}
