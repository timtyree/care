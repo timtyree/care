{
 "cells": [
  {
   "cell_type": "markdown",
   "id": "874d69a8",
   "metadata": {},
   "source": [
    "# Computing MSR from fortranic spiral tip location data\n",
    "Tim Tyree<br>\n",
    "6.25.2022"
   ]
  },
  {
   "cell_type": "code",
   "execution_count": 1,
   "id": "7249626d",
   "metadata": {
    "ExecuteTime": {
     "end_time": "2023-01-14T23:11:36.061336Z",
     "start_time": "2023-01-14T23:11:36.053307Z"
    }
   },
   "outputs": [],
   "source": [
    "from IPython.display import clear_output\n",
    "clear_output(wait=True)"
   ]
  },
  {
   "cell_type": "code",
   "execution_count": 2,
   "id": "501bfca4",
   "metadata": {
    "ExecuteTime": {
     "end_time": "2023-01-14T23:11:37.918064Z",
     "start_time": "2023-01-14T23:11:36.369263Z"
    }
   },
   "outputs": [],
   "source": [
    "import sys,os\n",
    "og_stdout=sys.stdout\n",
    "from lib.my_initialization import *"
   ]
  },
  {
   "cell_type": "code",
   "execution_count": 3,
   "id": "8f2066f7",
   "metadata": {
    "ExecuteTime": {
     "end_time": "2023-01-14T23:11:37.922866Z",
     "start_time": "2023-01-14T23:11:37.919853Z"
    }
   },
   "outputs": [],
   "source": [
    "os.chdir(nb_dir)\n",
    "from lib import *"
   ]
  },
  {
   "cell_type": "code",
   "execution_count": 1,
   "id": "3ff0f7c3",
   "metadata": {
    "ExecuteTime": {
     "end_time": "2023-09-06T20:51:20.801332Z",
     "start_time": "2023-09-06T20:51:20.646926Z"
    }
   },
   "outputs": [
    {
     "ename": "ModuleNotFoundError",
     "evalue": "No module named 'cupy'",
     "output_type": "error",
     "traceback": [
      "\u001b[0;31m---------------------------------------------------------------------------\u001b[0m",
      "\u001b[0;31mModuleNotFoundError\u001b[0m                       Traceback (most recent call last)",
      "\u001b[0;32m/var/folders/0h/p4cbb7yx22jbxm0qb47vhfbh0000gn/T/ipykernel_65453/1798226333.py\u001b[0m in \u001b[0;36m<module>\u001b[0;34m\u001b[0m\n\u001b[0;32m----> 1\u001b[0;31m \u001b[0;32mimport\u001b[0m \u001b[0mcupy\u001b[0m\u001b[0;34m,\u001b[0m \u001b[0mcudf\u001b[0m\u001b[0;34m\u001b[0m\u001b[0;34m\u001b[0m\u001b[0m\n\u001b[0m\u001b[1;32m      2\u001b[0m \u001b[0;32mfrom\u001b[0m \u001b[0mlib\u001b[0m\u001b[0;34m.\u001b[0m\u001b[0mrapids_func\u001b[0m \u001b[0;32mimport\u001b[0m \u001b[0;34m*\u001b[0m\u001b[0;34m\u001b[0m\u001b[0;34m\u001b[0m\u001b[0m\n",
      "\u001b[0;31mModuleNotFoundError\u001b[0m: No module named 'cupy'"
     ]
    }
   ],
   "source": [
    "import cupy, cudf\n",
    "from lib.rapids_func import *"
   ]
  },
  {
   "cell_type": "code",
   "execution_count": 5,
   "id": "62167f4f",
   "metadata": {
    "ExecuteTime": {
     "end_time": "2023-01-14T23:11:41.493375Z",
     "start_time": "2023-01-14T23:11:41.468884Z"
    }
   },
   "outputs": [],
   "source": [
    "import seaborn as sns\n",
    "import matplotlib.ticker as mtick"
   ]
  },
  {
   "cell_type": "code",
   "execution_count": 75,
   "id": "1e0a8b6b",
   "metadata": {
    "ExecuteTime": {
     "end_time": "2023-01-14T23:46:28.749115Z",
     "start_time": "2023-01-14T23:46:28.724817Z"
    }
   },
   "outputs": [],
   "source": [
    "#reset matplotlib settings\n",
    "import matplotlib as mpl\n",
    "sns.reset_orig()\n",
    "mpl.rc_file_defaults()"
   ]
  },
  {
   "cell_type": "code",
   "execution_count": 7,
   "id": "c7e2af4b",
   "metadata": {
    "ExecuteTime": {
     "end_time": "2023-01-14T23:11:41.534011Z",
     "start_time": "2023-01-14T23:11:41.500675Z"
    }
   },
   "outputs": [],
   "source": [
    "import warnings\n",
    "warnings.simplefilter(\"ignore\", UserWarning)\n",
    "%load_ext autoreload\n",
    "%autoreload 2"
   ]
  },
  {
   "cell_type": "markdown",
   "id": "421f83dc",
   "metadata": {
    "heading_collapsed": true
   },
   "source": [
    "# minimalist estimate for msr file from annihilation range data"
   ]
  },
  {
   "cell_type": "code",
   "execution_count": null,
   "id": "acfe9286",
   "metadata": {
    "hidden": true
   },
   "outputs": [],
   "source": [
    "# trial_num=0\n",
    "# log_folder_parquet='/home/timothytyree/Documents/GitHub/care/notebooks/Data/from_wjr/tippos_per_001_log/'\n",
    "# g=load_parquet_by_trial_num(trial_num=trial_num,folder_parquet=log_folder_parquet)\n",
    "# g.head()"
   ]
  },
  {
   "cell_type": "code",
   "execution_count": null,
   "id": "aeb3bba2",
   "metadata": {
    "hidden": true
   },
   "outputs": [],
   "source": [
    "# dict_msr=routine_annihilation_analysis_pbc(trial_num=638,\n",
    "#     log_folder_parquet='/home/timothytyree/Documents/GitHub/care/notebooks/Data/from_wjr/tippos_per_001_log/',\n",
    "#     DS=0.025, #cm/pixel\n",
    "#     DT=1., #ms/frame\n",
    "#     width=200.,  #pixels\n",
    "#     height=200., #pixels\n",
    "#     tavg1=0.,  #moving average window, in ms\n",
    "#     tavg2=14., #ms #savgol_filter time window performed on R  #12 ms was no longer smooth\n",
    "#     min_termination_time=100.,\n",
    "#     min_duration_thresh=1., #ms #minimum lifetime for a spiral tip position to be considered\n",
    "#     max_Rfinal_thresh=0.5,  #cm\n",
    "#     max_dtmax_thresh= 0.,   #cm # max disagreement between tmax for _self relative to _other\n",
    "#     round_t_to_n_digits=7,\n",
    "#     t_col='t',\n",
    "#     pid_col='particle',\n",
    "#     trial_col='trial_num',\n",
    "#     use_tavg2=True, #unsmoothed R is preserved through R_nosavgol\n",
    "#     testing=True,\n",
    "#     printing=True)\n"
   ]
  },
  {
   "cell_type": "code",
   "execution_count": 18,
   "id": "837311d5",
   "metadata": {
    "ExecuteTime": {
     "end_time": "2023-01-14T23:22:55.172284Z",
     "start_time": "2023-01-14T23:22:55.152556Z"
    },
    "hidden": true
   },
   "outputs": [],
   "source": [
    "# #^that method does the (already completed) particle tracking.  after which, it does the following:\n",
    "# DS=0.025 #cm/pixel\n",
    "# DT=1. #ms/frame\n",
    "# width=200.  #pixels\n",
    "# height=200. #pixels\n",
    "# tavg1=0.  #moving average window, in ms\n",
    "# tavg2=14. #ms #savgol_filter time window performed on R  #12 ms was no longer smooth\n",
    "# min_termination_time=100.\n",
    "# min_duration_thresh=1. #ms #minimum lifetime for a spiral tip position to be considered\n",
    "# max_Rfinal_thresh=0.5  #cm\n",
    "# max_dtmax_thresh= 0.   #cm # max disagreement between tmax for _self relative to _other\n",
    "# round_t_to_n_digits=7\n",
    "# t_col='t'\n",
    "# pid_col='particle'\n",
    "# trial_col='trial_num'\n",
    "# use_tavg2=True #unsmoothed R is preserved through R_nosavgol\n",
    "# testing=True\n",
    "# printing=True"
   ]
  },
  {
   "cell_type": "code",
   "execution_count": 28,
   "id": "74051ac0",
   "metadata": {
    "ExecuteTime": {
     "end_time": "2023-01-14T23:28:01.685257Z",
     "start_time": "2023-01-14T23:28:01.664398Z"
    },
    "hidden": true
   },
   "outputs": [],
   "source": [
    "# # traj=\n",
    "# load_from_pickle"
   ]
  },
  {
   "cell_type": "code",
   "execution_count": 30,
   "id": "40814eb7",
   "metadata": {
    "ExecuteTime": {
     "end_time": "2023-01-14T23:28:11.084967Z",
     "start_time": "2023-01-14T23:28:11.039765Z"
    },
    "hidden": true
   },
   "outputs": [],
   "source": [
    "input_fn_lst=[\"/home/timothytyree/Documents/GitHub/care/notebooks/Data/from_wjr/positions_fk/350x350/tippos_per_102_annihilation_range_timeseries.pkl\",\n",
    "              \"/home/timothytyree/Documents/GitHub/care/notebooks/Data/from_wjr/positions_fk/283x283/tippos_per_1_annihilation_range_timeseries.pkl\"\n",
    "             ]\n",
    "for input_fn in input_fn_lst:\n",
    "    pass\n",
    "\n",
    "DS=0.025 #cm/pixel\n",
    "DT=1. #ms/frame\n",
    "df_R=load_from_pickle(input_fn)[0]\n"
   ]
  },
  {
   "cell_type": "code",
   "execution_count": 31,
   "id": "69b2f1fc",
   "metadata": {
    "ExecuteTime": {
     "end_time": "2023-01-14T23:28:13.316529Z",
     "start_time": "2023-01-14T23:28:13.287795Z"
    },
    "hidden": true
   },
   "outputs": [
    {
     "data": {
      "text/html": [
       "<div>\n",
       "<style scoped>\n",
       "    .dataframe tbody tr th:only-of-type {\n",
       "        vertical-align: middle;\n",
       "    }\n",
       "\n",
       "    .dataframe tbody tr th {\n",
       "        vertical-align: top;\n",
       "    }\n",
       "\n",
       "    .dataframe thead th {\n",
       "        text-align: right;\n",
       "    }\n",
       "</style>\n",
       "<table border=\"1\" class=\"dataframe\">\n",
       "  <thead>\n",
       "    <tr style=\"text-align: right;\">\n",
       "      <th></th>\n",
       "      <th>annihilation_index</th>\n",
       "      <th>R</th>\n",
       "      <th>tdeath</th>\n",
       "      <th>t</th>\n",
       "      <th>n</th>\n",
       "      <th>x</th>\n",
       "      <th>y</th>\n",
       "      <th>trial_num</th>\n",
       "      <th>frame</th>\n",
       "    </tr>\n",
       "  </thead>\n",
       "  <tbody>\n",
       "    <tr>\n",
       "      <th>748804</th>\n",
       "      <td>0</td>\n",
       "      <td>0.078142</td>\n",
       "      <td>0.0</td>\n",
       "      <td>43957.0</td>\n",
       "      <td>10</td>\n",
       "      <td>5.0</td>\n",
       "      <td>9.2</td>\n",
       "      <td>0</td>\n",
       "      <td>43958</td>\n",
       "    </tr>\n",
       "    <tr>\n",
       "      <th>748794</th>\n",
       "      <td>0</td>\n",
       "      <td>0.123744</td>\n",
       "      <td>1.0</td>\n",
       "      <td>43956.0</td>\n",
       "      <td>10</td>\n",
       "      <td>4.0</td>\n",
       "      <td>9.1</td>\n",
       "      <td>0</td>\n",
       "      <td>43957</td>\n",
       "    </tr>\n",
       "    <tr>\n",
       "      <th>748784</th>\n",
       "      <td>0</td>\n",
       "      <td>0.146373</td>\n",
       "      <td>2.0</td>\n",
       "      <td>43955.0</td>\n",
       "      <td>10</td>\n",
       "      <td>3.5</td>\n",
       "      <td>9.0</td>\n",
       "      <td>0</td>\n",
       "      <td>43956</td>\n",
       "    </tr>\n",
       "    <tr>\n",
       "      <th>748774</th>\n",
       "      <td>0</td>\n",
       "      <td>0.158765</td>\n",
       "      <td>3.0</td>\n",
       "      <td>43954.0</td>\n",
       "      <td>10</td>\n",
       "      <td>3.2</td>\n",
       "      <td>8.9</td>\n",
       "      <td>0</td>\n",
       "      <td>43955</td>\n",
       "    </tr>\n",
       "    <tr>\n",
       "      <th>748764</th>\n",
       "      <td>0</td>\n",
       "      <td>0.166208</td>\n",
       "      <td>4.0</td>\n",
       "      <td>43953.0</td>\n",
       "      <td>10</td>\n",
       "      <td>3.0</td>\n",
       "      <td>8.8</td>\n",
       "      <td>0</td>\n",
       "      <td>43954</td>\n",
       "    </tr>\n",
       "  </tbody>\n",
       "</table>\n",
       "</div>"
      ],
      "text/plain": [
       "        annihilation_index         R  tdeath        t   n    x    y  \\\n",
       "748804                   0  0.078142     0.0  43957.0  10  5.0  9.2   \n",
       "748794                   0  0.123744     1.0  43956.0  10  4.0  9.1   \n",
       "748784                   0  0.146373     2.0  43955.0  10  3.5  9.0   \n",
       "748774                   0  0.158765     3.0  43954.0  10  3.2  8.9   \n",
       "748764                   0  0.166208     4.0  43953.0  10  3.0  8.8   \n",
       "\n",
       "        trial_num  frame  \n",
       "748804          0  43958  \n",
       "748794          0  43957  \n",
       "748784          0  43956  \n",
       "748774          0  43955  \n",
       "748764          0  43954  "
      ]
     },
     "execution_count": 31,
     "metadata": {},
     "output_type": "execute_result"
    }
   ],
   "source": [
    "df_R=load_from_pickle(input_fn)[0]\n",
    "traj.head()"
   ]
  },
  {
   "cell_type": "code",
   "execution_count": null,
   "id": "bc59851e",
   "metadata": {
    "hidden": true
   },
   "outputs": [],
   "source": [
    "# traj.drop_duplicates(inplace=True)\n",
    "# pid_lst = sorted(set(traj[pid_col].values))\n",
    "\n",
    "# printing_lifetimes_traj=True\n",
    "# if printing and printing_lifetimes_traj:\n",
    "#     #compute the lifetimes\n",
    "#     #print summary stats on particle lifetimes for one input folder\n",
    "#     dft=traj.groupby(pid_col)[t_col].describe()\n",
    "#     df_lifetimes=-dft[['max','min']].T.diff().loc['min']\n",
    "#     print(f\"termination time was {traj[t_col].max():.2f} ms\")\n",
    "#     print(f\"printing summary stats on particle lifetimes:\")\n",
    "#     print(df_lifetimes.describe())\n",
    "#     # print(df_lifetimes.head(10))\n",
    "#     #print(\"\\nPlease make a manual decision about minimum_lifetime, crop_start_by, and crop_end_by\")\n",
    "\n",
    "# # #DONE: test that termination times still agree\n",
    "# # assert df_traj['t'].max()==traj['t'].max()\n",
    "# # # traj['t'].max()\n",
    "# # # df_traj['n'].max()\n",
    "# # #DONE: verified that these unwrapped trajectories exhibit no jumps greater than 20 pixels per ms\n",
    "# # jump_thresh=20\n",
    "# # # DONT: truncate trajectories to their first apparent jump (pbc jumps should have been removed already)\n",
    "# # df=df_traj.copy()# = pd.concat([unwrap_traj_and_center(traj[traj[pid_col]==pid].copy(), width, height, DS) for pid in pid_lst])\n",
    "# # #truncate trajectories to their first apparent jump (pbc jumps should have been removed already)\n",
    "# # df_lst = []\n",
    "# # for pid in  pid_lst:#[2:]:\n",
    "# #     d = df[(df.particle==pid)].copy()\n",
    "# #     x_values, y_values = d[['x','y']].values.T\n",
    "# #     index_values = d.index.values.T\n",
    "# #     jump_index_array, spd_lst = find_jumps(x_values, y_values,\n",
    "# #                                            width=width, height=height,\n",
    "# #                                            DS=DS,DT=DT, jump_thresh=jump_thresh)#, **kwargs)#.25)\n",
    "# #     if len(jump_index_array)>0:\n",
    "# #         print(f\"jump for {pid=}!  {np.max(spd_lst)=:.4f}\")\n",
    "# # # #         ji = jump_index_array[0]\n",
    "# # # #         d.drop(index=index_values[ji:], inplace=True)\n",
    "# # #     df_lst.append(d)\n",
    "# # # df_traj = pd.concat(df_lst)\n",
    "# # # df_traj['t'] = df_traj.t.round(round_t_to_n_digits)\n",
    "# #DONE: found a previous parameter setting (deprecated)\n",
    "# #i don't think these are connected to anything anymore. maybe their complicated function got pruned...\n",
    "# #src: http://localhost:8890/notebooks/Processing%20a%20Folder%20of%20Tip%20Logs.ipynb\n",
    "# # minimum_lifetime=40. #ms\n",
    "# # crop_start_by=0#40\n",
    "# # crop_end_by=150#40\n",
    "# # #was changed to\n",
    "# # # minimum_lifetime=10.#40. #ms\n",
    "# # crop_start_by=0#0 #ms\n",
    "# # crop_end_by=0#150 #ms\n",
    "\n",
    "# ###################################\n",
    "# # Smooth trajectories\n",
    "# ###################################\n",
    "# navg1=int(tavg1/DT)\n",
    "# #compute moving average respecting pbc (gpu-accelerated, estimated run time ~1 second for whole termination event)\n",
    "# df=comp_moving_avg_pbc_trajectories_cu(traj,navg1=navg1,width=width,height=height)#,t_col='t',pid_col='particle',printing=True)#,**kwargs)\n",
    "# df['event_id_int']= int(trial_num) #int(event_id_int)\n",
    "# df['event_id']= df[trial_col] + df[pid_col] / (1.+df[pid_col].max())\n",
    "# df.reset_index(inplace=True)#,drop=True)\n",
    "# df_smoothed=df.copy()\n",
    "# df=df.to_pandas().copy()\n",
    "# # df_smoothed.head()\n",
    "\n",
    "# ###################################\n",
    "# # Pair annihilation events\n",
    "# ###################################\n",
    "# #previous particle pairing settings\n",
    "# #src of kwargs: http://localhost:8890/notebooks/fast%20estimation%20of%20particle%20properties.ipynb\n",
    "# # max_dtmax_thresh = 0      #ms\n",
    "# # max_Rfinal_thresh = 0.2   #cm\n",
    "# # min_duration_thresh = 40  #ms\n",
    "# # DS # as input\n",
    "\n",
    "# navg2 = int(tavg2 / DT)\n",
    "# if not (navg2 % 2 == 1):  #odd navg2 is required by savgol_filter\n",
    "#     navg2 += 1\n",
    "#     tavg2 = np.around(navg2 * DT, round_t_to_n_digits)\n",
    "# if use_tavg2:\n",
    "#     if printing:\n",
    "#         print(f'effective savistzky-golay time window in use: {tavg2} ms')\n",
    "\n",
    "# #compute radial velocities of annihilations\n",
    "# df=df_smoothed.copy()\n",
    "# df.index = df.index.astype(np.int64)\n",
    "# # df['event_id_int']=df['particle'] #event_id_int is used by compute_radial_velocities_of_annihilations_cu as trial_col\n",
    "# df['event_id_int']=df[trial_col] #event_id_int is used by compute_radial_velocities_of_annihilations_cu as trial_col\n",
    "# dfr, df_pairs = compute_radial_velocities_of_annihilations_cu(df.copy(),\n",
    "#     navg2=navg2, #num. frames to average over.  navg2 must be an odd, positive integer.\n",
    "#     DS=DS,    #cm/pixel\n",
    "#     DT=DT,   #ms/frame\n",
    "#     width=width,\n",
    "#     height=height,\n",
    "#     max_dtmax_thresh=max_dtmax_thresh,  #ms\n",
    "#     max_Rfinal_thresh=max_Rfinal_thresh,  #cm\n",
    "#     min_duration_thresh=min_duration_thresh,  #ms\n",
    "#     use_tavg2=use_tavg2,\n",
    "#     pid_col=pid_col,\n",
    "#     trial_col=trial_col,\n",
    "#     use_dask=False,\n",
    "#     printing=printing,\n",
    "#     testing=False)#testing)\n",
    "# dfr.reset_index(inplace=True)"
   ]
  },
  {
   "cell_type": "code",
   "execution_count": null,
   "id": "bfbc6efc",
   "metadata": {
    "hidden": true
   },
   "outputs": [],
   "source": [
    "# ###################################\n",
    "# # Align annihilation events\n",
    "# ###################################\n",
    "# #linearly shift the times by tshift\n",
    "# df_R=dfr.to_pandas()\n",
    "# # df_P=df_pairs.to_pandas()\n",
    "# max_num_obs_align=3\n",
    "# if printing:\n",
    "#     print(f\"considering no more than {DT*max_num_obs_align:.0f} ms leading up to annihilation for adjustment of tdeath\")\n",
    "# df_R,df_P=align_timeseries_simple(dfr,df_pairs,\n",
    "#                             P_col='index_pairs',\n",
    "#                             R_col='R_nosavgol',\n",
    "#                             T_col='tdeath',\n",
    "#                             T_col_out='talign',\n",
    "#                             max_num_obs_align=max_num_obs_align)\n",
    "\n",
    "# #compute raw lifetimes\n",
    "# df_lifetimes_traj=comp_lifetimes_by(df=traj,t_col='t',by='particle',pid_lst=None,printing=False)#,**kwargs)\n",
    "\n",
    "# #format output as dict\n",
    "# dict_msr=dict(\n",
    "#     trial_num=trial_num,\n",
    "#     df_R=df_R,\n",
    "#     df_pairs=df_P,\n",
    "#     df_smoothed=copy_df_as_pandas(df_smoothed),\n",
    "#     df_traj=traj,\n",
    "#     df_lifetimes_traj=df_lifetimes_traj\n",
    "# )"
   ]
  },
  {
   "cell_type": "code",
   "execution_count": 24,
   "id": "3ec5c9f0",
   "metadata": {
    "ExecuteTime": {
     "end_time": "2023-01-14T23:25:53.921790Z",
     "start_time": "2023-01-14T23:25:53.864966Z"
    },
    "hidden": true
   },
   "outputs": [
    {
     "ename": "AttributeError",
     "evalue": "'list' object has no attribute 'drop_duplicates'",
     "output_type": "error",
     "traceback": [
      "\u001b[0;31m---------------------------------------------------------------------------\u001b[0m",
      "\u001b[0;31mAttributeError\u001b[0m                            Traceback (most recent call last)",
      "Input \u001b[0;32mIn [24]\u001b[0m, in \u001b[0;36m<cell line: 1>\u001b[0;34m()\u001b[0m\n\u001b[0;32m----> 1\u001b[0m \u001b[43mtraj\u001b[49m\u001b[38;5;241;43m.\u001b[39;49m\u001b[43mdrop_duplicates\u001b[49m(inplace\u001b[38;5;241m=\u001b[39m\u001b[38;5;28;01mTrue\u001b[39;00m)\n\u001b[1;32m      2\u001b[0m pid_lst \u001b[38;5;241m=\u001b[39m \u001b[38;5;28msorted\u001b[39m(\u001b[38;5;28mset\u001b[39m(traj[pid_col]\u001b[38;5;241m.\u001b[39mvalues))\n\u001b[1;32m      4\u001b[0m printing_lifetimes_traj\u001b[38;5;241m=\u001b[39m\u001b[38;5;28;01mTrue\u001b[39;00m\n",
      "\u001b[0;31mAttributeError\u001b[0m: 'list' object has no attribute 'drop_duplicates'"
     ]
    }
   ],
   "source": [
    "\n",
    "# # dfr.head()\n",
    "# #DONE: print the lifetime of all pid_lst_stumps\n",
    "# printing_lifetimes_pairs=True\n",
    "# if printing and printing_lifetimes_pairs:\n",
    "#     min_num_obs=4\n",
    "#     print(f\"investigating the annihilation pair stumps involving fewer than {min_num_obs=} computable time points\")\n",
    "#     print(f\"for dfr, the stumps are:\")\n",
    "#     df_lifetimes_pairs=df_pairs['duration']\n",
    "#     d=(df_lifetimes_pairs/DT).round()\n",
    "#     id_lst_stumps=[int(x) for x in d[d<min_num_obs].index.values]\n",
    "#     for i,pid in enumerate(id_lst_stumps):\n",
    "#         print(f\"apparent minimum lifetime of annihilation pair #{pid}:\\t{df_lifetimes.loc[pid]} ms.\")\n",
    "\n",
    "\n",
    "# printing_stumps=True\n",
    "# #(optionally) investigate any stumps\n",
    "# if printing and printing_stumps:\n",
    "#     #determine remaining stumps\n",
    "#     min_num_obs=5 #for pid_lst_stumps only\n",
    "#     d=dfr.groupby(by='index_pairs')['t'].count()\n",
    "#     pid_lst_stumps=[int(x) for x in d[d<min_num_obs].index.values]\n",
    "\n",
    "#     #print the lifetime of all pid_lst_stumps\n",
    "#     df_lifetimes=comp_lifetimes_by(df=traj,t_col='t',by='particle',pid_lst=None,printing=False)#,**kwargs)\n",
    "#     for i,pid in enumerate(pid_lst_stumps):\n",
    "#         print(f\"apparent lifetime of particle {pid}:\\t{df_lifetimes.loc[pid]} ms.\")\n",
    "\n",
    "#     dft=df_smoothed.reset_index().groupby(pid_col).describe()[t_col]\n",
    "#     df_lifetimes_smoothed=-dft[['max','min']].T.diff().loc['min']\n",
    "#     #DONE: print the lifetime of all pid_lst_stumps\n",
    "#     for i,pid in enumerate(pid_lst_stumps):\n",
    "#         print(f\"apparent lifetime of particle {pid}:\\t{df_lifetimes_smoothed.loc[pid]} ms.\")\n",
    "\n",
    "# ###################################\n",
    "# # Align annihilation events\n",
    "# ###################################\n",
    "# #linearly shift the times by tshift\n",
    "# # df_R=dfr.to_pandas()\n",
    "# # df_P=df_pairs.to_pandas()\n",
    "# max_num_obs_align=3\n",
    "# if printing:\n",
    "#     print(f\"considering no more than {DT*max_num_obs_align:.0f} ms leading up to annihilation for adjustment of tdeath\")\n",
    "# df_R,df_P=align_timeseries_simple(dfr,df_pairs,\n",
    "#                             P_col='index_pairs',\n",
    "#                             R_col='R_nosavgol',\n",
    "#                             T_col='tdeath',\n",
    "#                             T_col_out='talign',\n",
    "#                             max_num_obs_align=max_num_obs_align)\n",
    "\n",
    "# #compute raw lifetimes\n",
    "# df_lifetimes_traj=comp_lifetimes_by(df=traj,t_col='t',by='particle',pid_lst=None,printing=False)#,**kwargs)\n",
    "\n",
    "# #format output as dict\n",
    "# dict_msr=dict(\n",
    "#     trial_num=trial_num,\n",
    "#     df_R=df_R,\n",
    "#     df_pairs=df_P,\n",
    "#     df_smoothed=copy_df_as_pandas(df_smoothed),\n",
    "#     df_traj=traj,\n",
    "#     df_lifetimes_traj=df_lifetimes_traj\n",
    "# )"
   ]
  },
  {
   "cell_type": "code",
   "execution_count": null,
   "id": "2c2b221c",
   "metadata": {
    "hidden": true
   },
   "outputs": [],
   "source": []
  },
  {
   "cell_type": "markdown",
   "id": "1261a81a",
   "metadata": {
    "heading_collapsed": true
   },
   "source": [
    "# define module"
   ]
  },
  {
   "cell_type": "code",
   "execution_count": 8,
   "id": "3ae5b649",
   "metadata": {
    "ExecuteTime": {
     "end_time": "2023-01-14T23:11:41.560549Z",
     "start_time": "2023-01-14T23:11:41.535878Z"
    },
    "hidden": true
   },
   "outputs": [],
   "source": [
    "# #for parsing fortranic data\n",
    "# import re\n",
    "# from itertools import zip_longest\n",
    "# def strip_line_to_csv(line):\n",
    "#     \"\"\"\n",
    "#     Example Usage:\n",
    "# str_csv=strip_line_to_csv(line)\n",
    "# value_tuple=eval(str_csv)\n",
    "#     \"\"\"\n",
    "#     str_csv=re.sub(r'\\s+', ',', line.strip())\n",
    "#     return str_csv\n",
    "\n",
    "# def grouper(iterable, n, fillvalue=None):\n",
    "#     args = [iter(iterable)] * n\n",
    "#     return zip_longest(*args, fillvalue=fillvalue)\n",
    "\n",
    "# def parse_fortranic_tip_pos(input_dir):\n",
    "#     \"\"\"\n",
    "#     Example Usage:\n",
    "# input_dir='/Users/timothytyree/Documents/GitHub/care/notebooks/Data/from_wjr/tippos_per_001'\n",
    "# df_log=parse_fortranic_tip_pos(input_dir)\n",
    "# #partition df_log into a folder of tip logs\n",
    "# log_folder_parquet='/home/timothytyree/Documents/GitHub/care/notebooks/Data/from_wjr/tippos_per_001_log/'\n",
    "# # save_df_to_parquet_by(df_log,log_folder_parquet,by='trial_num',compression='snappy',index=True)\n",
    "# save_df_to_parquet_by(df_log,log_folder_parquet,by='trial_num',compression='snappy',index=None)\n",
    "# print(f\"saved to spiral tip positions to\\n{log_folder_parquet=}\")\n",
    "# #determine width and height of the computational domain input the discretization\n",
    "# width,height=df_log.describe().loc['max'][['x','y']].values.T\n",
    "# DT=g['t'].min()\n",
    "# printing=True\n",
    "# if printing:\n",
    "#     print(df_log.describe().loc[['min','max']][['x','y']])\n",
    "#     print(f\"{width=}, {height=}, {DT=}\")\n",
    "#     \"\"\"\n",
    "#     #read in fortranic spiral tip locations\n",
    "#     trial_num=0\n",
    "#     dict_pos_lst=[]\n",
    "#     with open(input_dir) as f:\n",
    "#         for lines in grouper(f, 3, ''):\n",
    "#             assert len(lines) == 3\n",
    "#             #process lines\n",
    "#             str_csv=strip_line_to_csv(lines[0])\n",
    "#             value_tuple=eval(str_csv)\n",
    "#             t=value_tuple[0]\n",
    "#             n=value_tuple[1]\n",
    "#             row3=value_tuple[2]\n",
    "#             if n>0:\n",
    "#                 str_csv=strip_line_to_csv(lines[1])\n",
    "#                 x_tuple=eval(str_csv)\n",
    "#                 str_csv=strip_line_to_csv(lines[2])\n",
    "#                 y_tuple=eval(str_csv)\n",
    "#                 #record for each position\n",
    "#                 for x,y in zip(x_tuple,y_tuple):\n",
    "#                     dict_pos=dict(trial_num=trial_num,t=t,n=n,x=x-1,y=y-1) #-1 makes wj's min position 0 and max ~ width, as i have been using\n",
    "#                     dict_pos_lst.append(dict_pos)\n",
    "#             else:\n",
    "#                 trial_num+=1\n",
    "#     df_log=pd.DataFrame(dict_pos_lst)\n",
    "#     return df_log"
   ]
  },
  {
   "cell_type": "markdown",
   "id": "d40d6026",
   "metadata": {
    "heading_collapsed": true
   },
   "source": [
    "# define model ported to lib"
   ]
  },
  {
   "cell_type": "code",
   "execution_count": 9,
   "id": "452c3662",
   "metadata": {
    "ExecuteTime": {
     "end_time": "2023-01-14T23:11:41.585688Z",
     "start_time": "2023-01-14T23:11:41.561971Z"
    },
    "hidden": true
   },
   "outputs": [],
   "source": [
    "# #TODO: move to lib.utils.parquetio.py\n",
    "# import shutil, os, pandas\n",
    "# def save_df_to_parquet_by(df,folder_parquet,by='trial_num',\n",
    "#                           compression='snappy',index=None,\n",
    "#                           **kwargs):\n",
    "#     \"\"\"save_df_to_parquet_by groups pd.DataFrame instance, df by by='trial_num', \n",
    "#     and then saves each group into a separate parquet file in \n",
    "    \n",
    "#     options for compression: {'snappy', 'gzip', 'brotli', None}, default 'snappy'\n",
    "#     see df.to_parquet? for details on compression\n",
    "    \n",
    "#     Example Usage:\n",
    "# log_folder_parquet='/home/timothytyree/Documents/GitHub/care/notebooks/Data/from_wjr/tippos_per_001_log/'\n",
    "# save_df_to_parquet_by(df_log,log_folder_parquet,by='trial_num',compression='snappy',index=None)\n",
    "#     \"\"\"\n",
    "#     #clear cache before saving into it\n",
    "#     if os.path.exists(folder_parquet):\n",
    "#         shutil.rmtree(folder_parquet,ignore_errors=True)\n",
    "#     #save to parquet\n",
    "#     df.to_parquet(folder_parquet,index=index,\n",
    "#                      compression=compression,\n",
    "#                       partition_cols=[by])\n",
    "#     return True\n",
    "\n",
    "# def load_parquet_by_trial_num(trial_num,folder_parquet,reset_index=True,**kwargs):\n",
    "#     \"\"\"\n",
    "#     Example Usage:\n",
    "# log_folder_parquet='/home/timothytyree/Documents/GitHub/care/notebooks/Data/from_wjr/tippos_per_001_log/'\n",
    "# g=load_parquet_by_trial_num(trial_num=639,folder_parquet=log_folder_parquet)\n",
    "#     \"\"\"\n",
    "#     log_dir_parquet=os.path.join(folder_parquet,f\"{trial_num=}\")\n",
    "#     df=pd.read_parquet(log_dir_parquet)\n",
    "#     df['trial_num']=trial_num\n",
    "#     if reset_index:\n",
    "#         df.reset_index(inplace=True)\n",
    "#     #set index dtyp\n",
    "#     #df.index = df.index.map(str)\n",
    "#     #df.index = df.index.map(np.int64)\n",
    "#     df.index = df.index.astype(np.int64)\n",
    "#     return df"
   ]
  },
  {
   "cell_type": "code",
   "execution_count": 10,
   "id": "4e7c390a",
   "metadata": {
    "ExecuteTime": {
     "end_time": "2023-01-14T23:11:41.612363Z",
     "start_time": "2023-01-14T23:11:41.587669Z"
    },
    "hidden": true
   },
   "outputs": [],
   "source": [
    "# def comp_moving_avg_pbc_trajectories_cu(traj,navg1,width,height,t_col='t',pid_col='particle',printing=True,**kwargs):\n",
    "#     \"\"\"comp_moving_avg_pbc_trajectories_cu returns a cudf.DataFrame instance that uses the gpu to smooth the trajectories using a moving average of window length, navg1, respecting pbc.\n",
    "#     traj is a pandas.DataFrame or a cudf.DataFrame instance with fields 'x','y' containing location on a square grid with periodic boundary conditions (pbc).\n",
    "#     t_col is the field containing time.\n",
    "#     the particle is index by pid_col.\n",
    "    \n",
    "#     Example Usage:\n",
    "# df=comp_moving_avg_pbc_trajectories_cu(traj,navg1,width,height)#,t_col='t',pid_col='particle',printing=True)#,**kwargs)\n",
    "#     \"\"\"\n",
    "#     #GOAL: compute smoothed trajectories, as before\n",
    "#     # t_col='t'\n",
    "#     #     df=pd.read_csv(input_fn)\n",
    "#     #     DT=np.around(get_DT(df, t_col=t_col, pid_col=pid_col),5);print(f\"DT={DT}\")\n",
    "#     #     # ds=5 #cm\n",
    "#     #     # DS=ds/width\n",
    "#     # #     width=200\n",
    "#     #     height=width\n",
    "#     # use_drop_shorter_than=True\n",
    "#     # # drop_shorter_than=50 #ms\n",
    "#     # drop_shorter_than=10 #ms\n",
    "#     #     tmin=100.#ms\n",
    "#     #     pid_col='particle'\n",
    "#     #DONE: see if the gpu-accelerated version works, as before. yes.\n",
    "#     #df=cudf.read_csv(input_fn)\n",
    "#     df=cudf.DataFrame(traj)\n",
    "#     col_keep_lst=['x','y',pid_col,t_col]\n",
    "\n",
    "#     #sort by particle and then by time\n",
    "#     df=df.sort_values([pid_col, t_col], ascending=True).copy()\n",
    "#     df=apply_unwrap_xy_trajectories_pbc(df,t_col=t_col,pid_col=pid_col,width=width,height=height)\n",
    "#     df=apply_moving_avg_xy_trajectories(df,t_col=t_col,pid_col=pid_col,navg1=navg1,x_col='x_unwrap',y_col='y_unwrap')\n",
    "#     # df=apply_unwrap_xy_trajectories_pbc_serial(df,t_col=t_col,pid_col=pid_col,width=width,height=height)\n",
    "#     # df=apply_moving_avg_xy_trajectories_serial(df,t_col=t_col,pid_col=pid_col,navg1=navg1,x_col='x_unwrap',y_col='y_unwrap')\n",
    "#     #compute rewrapped coordinates\n",
    "#     df['x']=df['x_unwrap']-df['dx_unwrap']\n",
    "#     df['y']=df['y_unwrap']-df['dy_unwrap']\n",
    "#     #CONFIRMED: by increasing navg1, I can decrease the max displacement for all particles.\n",
    "#     #DONE: add unique identifier for whole trial that is unique accross different csv files\n",
    "#     #add unique identifier for each particle that is unique accross different csv files\n",
    "#     # fn = os.path.basename(input_fn)\n",
    "#     # event_id_int=float('1'+(''.join(re.findall(r'-?\\d+\\d*',fn))))\n",
    "# #     df['event_id_int']= int(trial_num) #int(event_id_int)\n",
    "#     # col_keep_lst=['x','y',t_col,pid_col,'event_id_int',\"dx_unwrap\",\"dy_unwrap\"]\n",
    "#     # df=df[col_keep_lst].copy()\n",
    "#     return df"
   ]
  },
  {
   "cell_type": "code",
   "execution_count": 11,
   "id": "4c052be2",
   "metadata": {
    "ExecuteTime": {
     "end_time": "2023-01-14T23:11:41.635995Z",
     "start_time": "2023-01-14T23:11:41.614791Z"
    },
    "hidden": true
   },
   "outputs": [],
   "source": [
    "# type(og_stdout)"
   ]
  },
  {
   "cell_type": "code",
   "execution_count": 12,
   "id": "0c958bc4",
   "metadata": {
    "ExecuteTime": {
     "end_time": "2023-01-14T23:11:41.656857Z",
     "start_time": "2023-01-14T23:11:41.637199Z"
    },
    "hidden": true
   },
   "outputs": [],
   "source": [
    "# og_stdout."
   ]
  },
  {
   "cell_type": "code",
   "execution_count": 13,
   "id": "8afac35b",
   "metadata": {
    "ExecuteTime": {
     "end_time": "2023-01-14T23:11:41.678143Z",
     "start_time": "2023-01-14T23:11:41.658078Z"
    },
    "hidden": true
   },
   "outputs": [],
   "source": [
    "# def copy_df_as_pandas(df):\n",
    "#     \"\"\"copy_df_as_pandas takes pandas.DataFrame and cudf.DataFrame instances alike and returns a copy of the df as a pandas.DataFrame (perhaps useful good for saving).\"\"\"\n",
    "#     if str(type(df))==\"<class 'cudf.core.dataframe.DataFrame'>\":\n",
    "#             df_=df.to_pandas()\n",
    "#     else: #if str(type(dfr))==\"<class 'pandas.core.frame.DataFrame'>\":\n",
    "#         df_=df.copy()\n",
    "#     return df_"
   ]
  },
  {
   "cell_type": "code",
   "execution_count": 14,
   "id": "cde30e84",
   "metadata": {
    "ExecuteTime": {
     "end_time": "2023-01-14T23:11:41.701213Z",
     "start_time": "2023-01-14T23:11:41.679776Z"
    },
    "hidden": true
   },
   "outputs": [],
   "source": [
    "# #used in analysis for tshift_tare_routine and for trajectories\n",
    "# # import os, sys\n",
    "# class HiddenPrints:\n",
    "#     \"\"\"\n",
    "#     Example Usage:\n",
    "# og_stdout=sys.stdout\n",
    "# with HiddenPrints(): #  (og_stdout=og_stdout):  #kwargs are not for with statements in py39...\n",
    "#     traj = compute_track_tips_pbc(df_log_local, mem=mem, sr=sr, width=width, height=height)\n",
    "    \n",
    "#     Example Usage:\n",
    "#  with HiddenPrints():\n",
    "#     retval=tshift_tare_routine(df_R,navg2,max_num_groups=9e9,plotting=False,npartitions=10,R_col='R_nosavgol',printing=True)\n",
    "#     \"\"\"\n",
    "#     def __enter__(self):\n",
    "#         self._original_stdout = sys.stdout\n",
    "#         sys.stdout = open(os.devnull, 'w')\n",
    "\n",
    "#     def __exit__(self, exc_type, exc_val, exc_tb):\n",
    "#         sys.stdout.close()\n",
    "#         sys.stdout = self._original_stdout"
   ]
  },
  {
   "cell_type": "code",
   "execution_count": 15,
   "id": "c17176c8",
   "metadata": {
    "ExecuteTime": {
     "end_time": "2023-01-14T23:11:41.860119Z",
     "start_time": "2023-01-14T23:11:41.834818Z"
    },
    "hidden": true
   },
   "outputs": [],
   "source": [
    "# def align_timeseries_simple(dfr,df_pairs,\n",
    "#                             P_col='index_pairs',\n",
    "#                             R_col='R_nosavgol',\n",
    "#                             T_col='tdeath',\n",
    "#                             T_col_out='talign',\n",
    "#                             max_num_obs_align=3,\n",
    "#                             **kwargs):\n",
    "#     \"\"\"align_timeseries_simple shifts the times by tshift, determined by linear estimation of the true extremal time.\n",
    "    \n",
    "#     Example: Usage:\n",
    "# df_R,df_P=align_timeseries_simple(dfr,df_pairs,\n",
    "#                             P_col='index_pairs',\n",
    "#                             R_col='R_nosavgol',\n",
    "#                             T_col='tdeath',\n",
    "#                             T_col_out='talign',\n",
    "#                             max_num_obs_align=3)\n",
    "#     \"\"\"\n",
    "#     if str(type(dfr))==\"<class 'cudf.core.dataframe.DataFrame'>\":\n",
    "#         df_R=dfr.to_pandas()\n",
    "#     else: #if str(type(dfr))==\"<class 'pandas.core.frame.DataFrame'>\":\n",
    "#         df_R=dfr.copy()\n",
    "#     if str(type(dfr))==\"<class 'cudf.core.dataframe.DataFrame'>\":\n",
    "#         df_P=df_pairs.to_pandas()\n",
    "#     else: #if str(type(dfr))==\"<class 'pandas.core.frame.DataFrame'>\":\n",
    "#         df_P=df_pairs.copy()\n",
    "\n",
    "#     #initialize virtual memory\n",
    "#     df_R[T_col_out]=0.\n",
    "#     for index_pairs,row in df_P.iterrows():\n",
    "#         df=df_R[df_R[P_col]==index_pairs]\n",
    "#         d=df.sort_values(by=T_col).head(max_num_obs_align)\n",
    "#         x_values=d[R_col].values\n",
    "#         y_values=d[T_col].values\n",
    "\n",
    "#         #compute slope from x_values,y_values\n",
    "#         #get the y-intercept as -tshift\n",
    "#         if x_values.shape[0] > 2:\n",
    "#             # tshift=-y_intercept_of_ols\n",
    "#             tshift=-comp_ols_simple(x_values,y_values)['b']\n",
    "#         else:\n",
    "#             if (x_values.shape[0] < 2):\n",
    "#                 #tshift= NaN\n",
    "#                 tshift=np.nan\n",
    "#             elif (x_values[1]>x_values[0]): \n",
    "#                 # tshift=-y_intercept_of_linear_solution\n",
    "#                 b=y_values[0]-x_values[0]*(y_values[1]-y_values[0])/(x_values[1]-x_values[0])\n",
    "#                 tshift=-b\n",
    "#             else:\n",
    "#                 #annihilating positions only move towards each other \n",
    "#                 #tshift= NaN\n",
    "#                 tshift=np.nan\n",
    "#         #record tshift\n",
    "#         df_R.loc[df_R['index_pairs']==index_pairs,'talign']=tshift\n",
    "#     #compute tdeath_align\n",
    "#     df_R['tdeath_align'] = df_R['tdeath'] + df_R['talign']\n",
    "#     # df_R['talign'].plot.hist(bins=300)\n",
    "#     return df_R,df_P"
   ]
  },
  {
   "cell_type": "code",
   "execution_count": 16,
   "id": "3e387884",
   "metadata": {
    "ExecuteTime": {
     "end_time": "2023-01-14T23:11:42.272255Z",
     "start_time": "2023-01-14T23:11:42.250730Z"
    },
    "hidden": true
   },
   "outputs": [],
   "source": [
    "# def comp_lifetimes_by(df,t_col='t',by='particle',pid_lst=None,printing=False,**kwargs):\n",
    "#     \"\"\"\n",
    "#     Example Usage:\n",
    "# df_lifetimes_dfr=comp_lifetimes_by(df=dfr.to_pandas(),t_col='t',by='pid_other',pid_lst=None,printing=True)#,**kwargs)\n",
    "#     \"\"\"\n",
    "#     dft=df.reset_index().groupby([by]).describe()[t_col]\n",
    "#     df_lifetimes=-dft[['max','min']].T.diff().loc['min']\n",
    "#     #DONE: print the lifetime of all pid_lst_stumps\n",
    "#     if printing:\n",
    "#         if pid_lst is None:\n",
    "#             pid_lst=list(np.unique(df[by].values))\n",
    "#         for i,pid in enumerate(pid_lst):\n",
    "#             try:\n",
    "#                 print(f\"apparent lifetime of particle #{pid}:\\t{df_lifetimes.loc[pid]} ms.\")\n",
    "#             except Exception as e:\n",
    "#                 print(f\"Warning: {e}\")\n",
    "#     return df_lifetimes"
   ]
  },
  {
   "cell_type": "code",
   "execution_count": 17,
   "id": "b9c51f46",
   "metadata": {
    "ExecuteTime": {
     "end_time": "2023-01-14T23:11:42.633647Z",
     "start_time": "2023-01-14T23:11:42.610845Z"
    },
    "hidden": true
   },
   "outputs": [],
   "source": [
    "#DONE: moved to lib\n",
    "# def FlowerPlot(df_traj,pid_lst,\n",
    "#                 ax=None,\n",
    "#                 x_col='x',\n",
    "#                 y_col='y',\n",
    "#                 c_col=\"t\",\n",
    "#                 pid_col='particle',\n",
    "#                 width=200,\n",
    "#                 height=200,\n",
    "#                 fontsize=24,\n",
    "#                 DS = 0.025,\n",
    "#                 alpha=1,\n",
    "#                 cmap=\"Blues\",\n",
    "#                 use_formatting=True,\n",
    "#                 **kwargs):\n",
    "#     \"\"\"pid_lst is a list of particle indices.\n",
    "#     Example Usage:\n",
    "# ax=FlowerPlot(df_traj,pid_lst)#,x_col='x',y_col='y',c_col=\"t\",pid_col='particle',width=200,height=200,fontsize=24,DS = 0.025,alpha=1,cmap=\"Blues\",use_formatting=True)\n",
    "#     \"\"\"\n",
    "#     if ax is None:\n",
    "#         ax=plt.gca()\n",
    "#     for pid in  pid_lst:\n",
    "#         x_values ,y_values, c_values = df_traj[(df_traj[pid_col]==pid)][[x_col,y_col, c_col]].values.T.copy()\n",
    "#         #scale to real coords\n",
    "#         x_values *= DS\n",
    "#         y_values *= DS\n",
    "#         ax.scatter(x_values,y_values, s=20,\n",
    "#                     c=c_values, vmin = np.min(c_values), vmax = np.max(c_values), cmap=cmap,alpha=alpha)#, **kwargs)\n",
    "#         ax.scatter([x_values[0]],[y_values[0]], s=600,color='green',marker='*',alpha=0.7)\n",
    "#         ax.scatter([x_values[-1]],[y_values[-1]], s=600,color='red',marker='*',alpha=0.7)\n",
    "\n",
    "#     if use_formatting:\n",
    "#         # format_plot\n",
    "#         ax.set_xlabel('x (cm)', fontsize=fontsize)\n",
    "#         ax.set_ylabel('y (cm)', fontsize=fontsize)\n",
    "#         # We change the fontsize of minor ticks label\n",
    "#         ax.tick_params(axis='both', which='major', labelsize=fontsize)\n",
    "#         ax.tick_params(axis='both', which='minor', labelsize=0)\n",
    "#         ax.grid('on')\n",
    "#         ax.set_aspect('equal')\n",
    "#     return ax\n"
   ]
  },
  {
   "cell_type": "markdown",
   "id": "eab461cb",
   "metadata": {},
   "source": [
    "# define main routine"
   ]
  },
  {
   "cell_type": "code",
   "execution_count": 27,
   "id": "e7fce0f6",
   "metadata": {
    "ExecuteTime": {
     "end_time": "2022-06-29T08:55:47.237786Z",
     "start_time": "2022-06-29T08:55:46.832111Z"
    }
   },
   "outputs": [
    {
     "name": "stderr",
     "output_type": "stream",
     "text": [
      "[autoreload of lib.rapids_func.routines failed: Traceback (most recent call last):\n",
      "  File \"/home/timothytyree/miniconda3/envs/pyenv_ub/lib/python3.9/site-packages/IPython/extensions/autoreload.py\", line 257, in check\n",
      "    superreload(m, reload, self.old_objects)\n",
      "  File \"/home/timothytyree/miniconda3/envs/pyenv_ub/lib/python3.9/site-packages/IPython/extensions/autoreload.py\", line 455, in superreload\n",
      "    module = reload(module)\n",
      "  File \"/home/timothytyree/miniconda3/envs/pyenv_ub/lib/python3.9/importlib/__init__.py\", line 169, in reload\n",
      "    _bootstrap._exec(spec, module)\n",
      "  File \"<frozen importlib._bootstrap>\", line 613, in _exec\n",
      "  File \"<frozen importlib._bootstrap_external>\", line 850, in exec_module\n",
      "  File \"<frozen importlib._bootstrap>\", line 228, in _call_with_frames_removed\n",
      "  File \"/home/timothytyree/Documents/GitHub/care/notebooks/lib/rapids_func/routines/__init__.py\", line 7, in <module>\n",
      "    from .annihilation_analysis_cu import *\n",
      "  File \"/home/timothytyree/Documents/GitHub/care/notebooks/lib/rapids_func/routines/annihilation_analysis_cu.py\", line 11, in <module>\n",
      "    from ..utils.utils_df import comp_lifetimes_by, copy_df_as_pandas\n",
      "ImportError: cannot import name 'comp_lifetimes_by' from 'lib.rapids_func.utils.utils_df' (/home/timothytyree/Documents/GitHub/care/notebooks/lib/rapids_func/utils/utils_df.py)\n",
      "]\n"
     ]
    },
    {
     "ename": "NameError",
     "evalue": "name 'trial_num' is not defined",
     "output_type": "error",
     "traceback": [
      "\u001b[0;31m---------------------------------------------------------------------------\u001b[0m",
      "\u001b[0;31mNameError\u001b[0m                                 Traceback (most recent call last)",
      "Input \u001b[0;32mIn [27]\u001b[0m, in \u001b[0;36m<cell line: 2>\u001b[0;34m()\u001b[0m\n\u001b[1;32m      1\u001b[0m log_folder_parquet\u001b[38;5;241m=\u001b[39m\u001b[38;5;124m'\u001b[39m\u001b[38;5;124m/home/timothytyree/Documents/GitHub/care/notebooks/Data/from_wjr/tippos_per_001_log/\u001b[39m\u001b[38;5;124m'\u001b[39m\n\u001b[0;32m----> 2\u001b[0m g\u001b[38;5;241m=\u001b[39mload_parquet_by_trial_num(trial_num\u001b[38;5;241m=\u001b[39m\u001b[43mtrial_num\u001b[49m,folder_parquet\u001b[38;5;241m=\u001b[39mlog_folder_parquet)\n\u001b[1;32m      3\u001b[0m g\u001b[38;5;241m.\u001b[39mhead()\n",
      "\u001b[0;31mNameError\u001b[0m: name 'trial_num' is not defined"
     ]
    }
   ],
   "source": [
    "trial_num=300\n",
    "log_folder_parquet='/home/timothytyree/Documents/GitHub/care/notebooks/Data/from_wjr/tippos_per_001_log/'\n",
    "g=load_parquet_by_trial_num(trial_num=trial_num,folder_parquet=log_folder_parquet)\n",
    "g.head()"
   ]
  },
  {
   "cell_type": "code",
   "execution_count": 19,
   "id": "f962fb55",
   "metadata": {
    "ExecuteTime": {
     "end_time": "2022-06-29T08:17:26.940840Z",
     "start_time": "2022-06-29T08:17:26.891202Z"
    }
   },
   "outputs": [],
   "source": [
    "# def routine_annihilation_analysis_pbc(trial_num,\n",
    "#     log_folder_parquet='/home/timothytyree/Documents/GitHub/care/notebooks/Data/from_wjr/tippos_per_001_log/',\n",
    "#     DS=0.025, #cm/pixel\n",
    "#     DT=1., #ms/frame\n",
    "#     width=200.,  #pixels\n",
    "#     height=200., #pixels\n",
    "#     tavg1=0.,  #moving average window, in ms\n",
    "#     tavg2=14., #ms #savgol_filter time window performed on R  #12 ms was no longer smooth\n",
    "#     min_termination_time=100.,\n",
    "#     min_duration_thresh=1., #ms #minimum lifetime for a spiral tip position to be considered\n",
    "#     max_Rfinal_thresh=0.5,  #cm\n",
    "#     max_dtmax_thresh= 0.,   #cm # max disagreement between tmax for _self relative to _other\n",
    "#     round_t_to_n_digits=7,\n",
    "#     t_col='t',\n",
    "#     pid_col='particle',\n",
    "#     trial_col='trial_num',\n",
    "#     use_tavg2=True, #unsmoothed R is preserved through R_nosavgol\n",
    "#     testing=True,\n",
    "#     printing=True,**kwargs):\n",
    "#     \"\"\"routine_annihilation_analysis_pbc loads spiral tip locations from cache,\n",
    "#     computes the trajectories while enforcing periodic boundary conditions,\n",
    "#     optionally smooths trajectories while enforcing periodic boundary conditions, on the gpu,\n",
    "#     solves for annihilation events between pairs of particles subject to periodic boundary conditions, also on the gpu,\n",
    "#     and computes a linear time adjustment so the time before annihilation, t', cooresponds to R=0 when t'=0.\n",
    "#     routine_annihilation_analysis_pbc returns a dictionary containing dataframes at each of these steps, dict_msr.\n",
    "#     the lifetimes of particles are included in dict_msr\n",
    "    \n",
    "#     Example Usage:\n",
    "# dict_msr=routine_annihilation_analysis_pbc(trial_num=638,\n",
    "#     log_folder_parquet='/home/timothytyree/Documents/GitHub/care/notebooks/Data/from_wjr/tippos_per_001_log/',\n",
    "#     DS=0.025, #cm/pixel\n",
    "#     DT=1., #ms/frame\n",
    "#     width=200.,  #pixels\n",
    "#     height=200., #pixels\n",
    "#     tavg1=0.,  #moving average window, in ms\n",
    "#     tavg2=14., #ms #savgol_filter time window performed on R  #12 ms was no longer smooth\n",
    "#     min_termination_time=100.,\n",
    "#     min_duration_thresh=1., #ms #minimum lifetime for a spiral tip position to be considered\n",
    "#     max_Rfinal_thresh=0.5,  #cm\n",
    "#     max_dtmax_thresh= 0.,   #cm # max disagreement between tmax for _self relative to _other\n",
    "#     round_t_to_n_digits=7,\n",
    "#     t_col='t',\n",
    "#     pid_col='particle',\n",
    "#     trial_col='trial_num',\n",
    "#     use_tavg2=True, #unsmoothed R is preserved through R_nosavgol\n",
    "#     testing=True,\n",
    "#     printing=True)\n",
    "#     \"\"\"\n",
    "#     #load spiral tip positions from cache\n",
    "#     g=load_parquet_by_trial_num(trial_num=trial_num,folder_parquet=log_folder_parquet)\n",
    "#     termination_time=g[t_col].max()\n",
    "#     if termination_time<min_termination_time:\n",
    "#         if printing:\n",
    "#             print(f\"Warning: {termination_time=} < {min_termination_time=}\")\n",
    "#         return None                                      \n",
    "#     ###################################\n",
    "#     # Track trajectories\n",
    "#     ###################################\n",
    "#     #compute spiral tip trajectories, as before\n",
    "#     #DONE: find the mem, sr, that i used before\n",
    "#     ds=DS*width #cm side length for the whole domain\n",
    "#     sr=3*width #search range i(n pixels).  ignore for now.\n",
    "#     mem=0  #memory for filling in missing data (in frames)\n",
    "#     #DONE: generate tip tracks using pbc\n",
    "#     with HiddenPrints(): \n",
    "#         traj = compute_track_tips_pbc(g, mem=mem, sr=sr, width=width, height=height)\n",
    "#     if testing:\n",
    "#         #test max times agree\n",
    "#         assert g['t'].max()==traj['t'].max()\n",
    "#     ##DONE(optional): save traj to cache\n",
    "#     # traj_dir=os.path.abspath(input_fn)+'_log.csv'\n",
    "#     # df_loc.to_csv(log_dir,index=False)\n",
    "#     pid_lst = sorted(set(traj[pid_col].values))\n",
    "\n",
    "#     printing_lifetimes_traj=True\n",
    "#     if printing and printing_lifetimes_traj:\n",
    "#         #compute the lifetimes\n",
    "#         #print summary stats on particle lifetimes for one input folder\n",
    "#         dft=traj.groupby(pid_col)[t_col].describe()\n",
    "#         df_lifetimes=-dft[['max','min']].T.diff().loc['min']\n",
    "#         print(f\"termination time was {traj[t_col].max():.2f} ms\")\n",
    "#         print(f\"printing summary stats on particle lifetimes:\")\n",
    "#         print(df_lifetimes.describe())\n",
    "#         # print(df_lifetimes.head(10))\n",
    "#         #print(\"\\nPlease make a manual decision about minimum_lifetime, crop_start_by, and crop_end_by\")\n",
    "\n",
    "#     # #DONE: test that termination times still agree\n",
    "#     # assert df_traj['t'].max()==traj['t'].max()\n",
    "#     # # traj['t'].max()\n",
    "#     # # df_traj['n'].max()\n",
    "#     # #DONE: verified that these unwrapped trajectories exhibit no jumps greater than 20 pixels per ms\n",
    "#     # jump_thresh=20\n",
    "#     # # DONT: truncate trajectories to their first apparent jump (pbc jumps should have been removed already)\n",
    "#     # df=df_traj.copy()# = pd.concat([unwrap_traj_and_center(traj[traj[pid_col]==pid].copy(), width, height, DS) for pid in pid_lst])\n",
    "#     # #truncate trajectories to their first apparent jump (pbc jumps should have been removed already)\n",
    "#     # df_lst = []\n",
    "#     # for pid in  pid_lst:#[2:]:\n",
    "#     #     d = df[(df.particle==pid)].copy()\n",
    "#     #     x_values, y_values = d[['x','y']].values.T\n",
    "#     #     index_values = d.index.values.T\n",
    "#     #     jump_index_array, spd_lst = find_jumps(x_values, y_values, \n",
    "#     #                                            width=width, height=height, \n",
    "#     #                                            DS=DS,DT=DT, jump_thresh=jump_thresh)#, **kwargs)#.25)\n",
    "#     #     if len(jump_index_array)>0:\n",
    "#     #         print(f\"jump for {pid=}!  {np.max(spd_lst)=:.4f}\")\n",
    "#     # # #         ji = jump_index_array[0]\n",
    "#     # # #         d.drop(index=index_values[ji:], inplace=True)\n",
    "#     # #     df_lst.append(d)\n",
    "#     # # df_traj = pd.concat(df_lst)\n",
    "#     # # df_traj['t'] = df_traj.t.round(round_t_to_n_digits)\n",
    "#     #DONE: found a previous parameter setting (deprecated)\n",
    "#     #i don't think these are connected to anything anymore. maybe their complicated function got pruned...\n",
    "#     #src: http://localhost:8890/notebooks/Processing%20a%20Folder%20of%20Tip%20Logs.ipynb\n",
    "#     # minimum_lifetime=40. #ms\n",
    "#     # crop_start_by=0#40\n",
    "#     # crop_end_by=150#40\n",
    "#     # #was changed to\n",
    "#     # # minimum_lifetime=10.#40. #ms\n",
    "#     # crop_start_by=0#0 #ms\n",
    "#     # crop_end_by=0#150 #ms\n",
    "\n",
    "#     ###################################\n",
    "#     # Smooth trajectories\n",
    "#     ###################################\n",
    "#     navg1=int(tavg1/DT)\n",
    "#     #compute moving average respecting pbc (gpu-accelerated, estimated run time ~1 second for whole termination event)\n",
    "#     df=comp_moving_avg_pbc_trajectories_cu(traj,navg1=navg1,width=width,height=height)#,t_col='t',pid_col='particle',printing=True)#,**kwargs)\n",
    "#     df['event_id_int']= int(trial_num) #int(event_id_int)\n",
    "#     df['event_id']= df[trial_col] + df[pid_col] / (1.+df[pid_col].max())\n",
    "#     df.reset_index(inplace=True)#,drop=True)\n",
    "#     df_smoothed=df.copy()\n",
    "#     df=df.to_pandas().copy()\n",
    "#     # df_smoothed.head()\n",
    "\n",
    "#     ###################################\n",
    "#     # Pair annihilation events\n",
    "#     ###################################\n",
    "#     #previous particle pairing settings\n",
    "#     #src of kwargs: http://localhost:8890/notebooks/fast%20estimation%20of%20particle%20properties.ipynb\n",
    "#     # max_dtmax_thresh = 0      #ms\n",
    "#     # max_Rfinal_thresh = 0.2   #cm\n",
    "#     # min_duration_thresh = 40  #ms\n",
    "#     # DS # as input\n",
    "\n",
    "#     navg2 = int(tavg2 / DT)\n",
    "#     if not (navg2 % 2 == 1):  #odd navg2 is required by savgol_filter\n",
    "#         navg2 += 1\n",
    "#         tavg2 = np.around(navg2 * DT, round_t_to_n_digits)\n",
    "#     if use_tavg2:\n",
    "#         if printing:\n",
    "#             print(f'effective savistzky-golay time window in use: {tavg2} ms')\n",
    "\n",
    "#     #compute radial velocities of annihilations\n",
    "#     df=df_smoothed.copy()\n",
    "#     df.index = df.index.astype(np.int64)\n",
    "#     # df['event_id_int']=df['particle'] #event_id_int is used by compute_radial_velocities_of_annihilations_cu as trial_col\n",
    "#     df['event_id_int']=df[trial_col] #event_id_int is used by compute_radial_velocities_of_annihilations_cu as trial_col\n",
    "#     dfr, df_pairs = compute_radial_velocities_of_annihilations_cu(df.copy(),\n",
    "#         navg2=navg2, #num. frames to average over.  navg2 must be an odd, positive integer.\n",
    "#         DS=DS,    #cm/pixel\n",
    "#         DT=DT,   #ms/frame\n",
    "#         width=width,\n",
    "#         height=height,\n",
    "#         max_dtmax_thresh=max_dtmax_thresh,  #ms\n",
    "#         max_Rfinal_thresh=max_Rfinal_thresh,  #cm\n",
    "#         min_duration_thresh=min_duration_thresh,  #ms\n",
    "#         use_tavg2=use_tavg2,\n",
    "#         pid_col=pid_col,\n",
    "#         trial_col=trial_col,\n",
    "#         use_dask=False,\n",
    "#         printing=printing,\n",
    "#         testing=False)#testing)\n",
    "#     dfr.reset_index(inplace=True)\n",
    "#     # dfr.head()\n",
    "#     #DONE: print the lifetime of all pid_lst_stumps\n",
    "#     printing_lifetimes_pairs=True\n",
    "#     if printing and printing_lifetimes_pairs:\n",
    "#         min_num_obs=4\n",
    "#         print(f\"investigating the annihilation pair stumps involving fewer than {min_num_obs=} computable time points\")\n",
    "#         print(f\"for dfr, the stumps are:\")\n",
    "#         df_lifetimes_pairs=df_pairs['duration']\n",
    "#         d=(df_lifetimes_pairs/DT).round()\n",
    "#         id_lst_stumps=[int(x) for x in d[d<min_num_obs].index.values]\n",
    "#         for i,pid in enumerate(id_lst_stumps):\n",
    "#             print(f\"apparent minimum lifetime of annihilation pair #{pid}:\\t{df_lifetimes.loc[pid]} ms.\")\n",
    "\n",
    "\n",
    "#     printing_stumps=True\n",
    "#     #(optionally) investigate any stumps\n",
    "#     if printing and printing_stumps:\n",
    "#         #determine remaining stumps\n",
    "#         min_num_obs=5 #for pid_lst_stumps only\n",
    "#         d=dfr.groupby(by='index_pairs')['t'].count()\n",
    "#         pid_lst_stumps=[int(x) for x in d[d<min_num_obs].index.values]\n",
    "\n",
    "#         #print the lifetime of all pid_lst_stumps\n",
    "#         df_lifetimes=comp_lifetimes_by(df=traj,t_col='t',by='particle',pid_lst=None,printing=False)#,**kwargs)\n",
    "#         for i,pid in enumerate(pid_lst_stumps):\n",
    "#             print(f\"apparent lifetime of particle {pid}:\\t{df_lifetimes.loc[pid]} ms.\")\n",
    "\n",
    "#         dft=df_smoothed.reset_index().groupby(pid_col).describe()[t_col]\n",
    "#         df_lifetimes_smoothed=-dft[['max','min']].T.diff().loc['min']\n",
    "#         #DONE: print the lifetime of all pid_lst_stumps\n",
    "#         for i,pid in enumerate(pid_lst_stumps):\n",
    "#             print(f\"apparent lifetime of particle {pid}:\\t{df_lifetimes_smoothed.loc[pid]} ms.\")\n",
    "\n",
    "#     ###################################\n",
    "#     # Align annihilation events\n",
    "#     ###################################\n",
    "#     #linearly shift the times by tshift\n",
    "#     # df_R=dfr.to_pandas()\n",
    "#     # df_P=df_pairs.to_pandas()\n",
    "#     max_num_obs_align=3\n",
    "#     if printing:\n",
    "#         print(f\"considering no more than {DT*max_num_obs_align:.0f} ms leading up to annihilation for adjustment of tdeath\")\n",
    "#     df_R,df_P=align_timeseries_simple(dfr,df_pairs,\n",
    "#                                 P_col='index_pairs',\n",
    "#                                 R_col='R_nosavgol',\n",
    "#                                 T_col='tdeath',\n",
    "#                                 T_col_out='talign',\n",
    "#                                 max_num_obs_align=max_num_obs_align)\n",
    "\n",
    "#     #compute raw lifetimes\n",
    "#     df_lifetimes_traj=comp_lifetimes_by(df=traj,t_col='t',by='particle',pid_lst=None,printing=False)#,**kwargs)\n",
    "\n",
    "#     #format output as dict\n",
    "#     dict_msr=dict(\n",
    "#         trial_num=trial_num,\n",
    "#         df_R=df_R,\n",
    "#         df_pairs=df_P,\n",
    "#         df_smoothed=copy_df_as_pandas(df_smoothed),\n",
    "#         df_traj=traj,\n",
    "#         df_lifetimes_traj=df_lifetimes_traj\n",
    "#     )\n",
    "#     return dict_msr"
   ]
  },
  {
   "cell_type": "code",
   "execution_count": 499,
   "id": "2b02a305",
   "metadata": {
    "ExecuteTime": {
     "end_time": "2022-06-29T06:50:06.284249Z",
     "start_time": "2022-06-29T06:50:06.265418Z"
    }
   },
   "outputs": [],
   "source": [
    "# type(df_R)"
   ]
  },
  {
   "cell_type": "markdown",
   "id": "04e96400",
   "metadata": {},
   "source": [
    " # dev of WJ's spiral tip location data for the Luo-Rudy model"
   ]
  },
  {
   "cell_type": "code",
   "execution_count": 7,
   "id": "57bc0762",
   "metadata": {
    "ExecuteTime": {
     "end_time": "2022-07-05T17:57:34.780166Z",
     "start_time": "2022-07-05T17:57:34.773471Z"
    }
   },
   "outputs": [
    {
     "data": {
      "text/plain": [
       "'/Users/timothytyree/Documents/GitHub/care/notebooks/Data/from_wjr/tippos_per_001'"
      ]
     },
     "execution_count": 7,
     "metadata": {},
     "output_type": "execute_result"
    }
   ],
   "source": [
    "input_folder=f\"{nb_dir}/Data/from_wjr\"\n",
    "os.chdir(input_folder)\n",
    "# input_fn_lst=os.listdir()\n",
    "# input_fn=input_fnZ_lst[0]\n",
    "input_fn='tippos_per_001'\n",
    "input_dir=os.path.join(input_folder,input_fn)\n",
    "input_dir"
   ]
  },
  {
   "cell_type": "code",
   "execution_count": 393,
   "id": "ac5e21c5",
   "metadata": {
    "ExecuteTime": {
     "end_time": "2022-06-29T05:27:20.552610Z",
     "start_time": "2022-06-29T05:27:20.530901Z"
    }
   },
   "outputs": [],
   "source": [
    "#parse fortranic spiral tip locations and save to cache\n",
    "use_cache=True\n",
    "if not use_cache:\n",
    "    df_log=parse_fortranic_tip_pos(input_dir)    \n",
    "    #save as .parquet in one file\n",
    "    log_dir_parquet=os.path.abspath(input_fn)+'_log.parquet'\n",
    "    df_log.to_parquet(log_dir_parquet,index=None,compression='brotli')\n",
    "    # #DONE: partition data by termination event\n",
    "\n",
    "    # #DONE: save as .csv\n",
    "    # log_dir=os.path.abspath(input_fn)+'_log.csv'\n",
    "    # df_log.to_csv(log_dir,index=False)\n",
    "\n",
    "    #partition df_log into a folder of tip logs\n",
    "    log_folder_parquet='/home/timothytyree/Documents/GitHub/care/notebooks/Data/from_wjr/tippos_per_001_log/'\n",
    "    # save_df_to_parquet_by(df_log,log_folder_parquet,by='trial_num',compression='snappy',index=True)\n",
    "    save_df_to_parquet_by(df_log,log_folder_parquet,by='trial_num',compression='snappy',index=None)\n",
    "    print(f\"saved to spiral tip positions to\\n{log_folder_parquet=}\")\n",
    "    #determine width and height of the computational domain input the discretization\n",
    "    width,height=df_log.describe().loc['max'][['x','y']].values.T\n",
    "    DT=g['t'].min()\n",
    "    printing=True\n",
    "    if printing:\n",
    "        print(df_log.describe().loc[['min','max']][['x','y']])\n",
    "        print(f\"{width=}, {height=}, {DT=}\")        \n",
    "        \n",
    "# groups=df_log.groupby(by='trial_num')\n",
    "# task_lst=[]\n",
    "# for trial_num,g in groups:\n",
    "#     task_lst.append(g)\n",
    "\n",
    "# ##DONE: try an alternative termination event\n",
    "# # g=task_lst[7]\n",
    "# # def routine_analyze_tippos(g):\n",
    "# #     pass"
   ]
  },
  {
   "cell_type": "markdown",
   "id": "c2a8b628",
   "metadata": {},
   "source": [
    "# dev"
   ]
  },
  {
   "cell_type": "code",
   "execution_count": null,
   "id": "f7ab91c9",
   "metadata": {
    "ExecuteTime": {
     "end_time": "2022-06-29T07:35:31.880572Z",
     "start_time": "2022-06-29T07:35:31.880559Z"
    }
   },
   "outputs": [],
   "source": [
    "def routine_annihilation_analysis_pbc_fortranic(task):\n",
    "    \"\"\"kwargs are passed to routine_annihilation_analysis_pbc. routine_annihilation_analysis_pbc_fortranic returns dict_msr.\n",
    "    Example Usage:\n",
    "dict_msr=routine_annihilation_analysis_pbc_fortranic(task)\n",
    "    \"\"\"\n",
    "    trial_num=task\n",
    "    dict_msr=routine_annihilation_analysis_pbc(trial_num=int(trial_num),\n",
    "        log_folder_parquet='/home/timothytyree/Documents/GitHub/care/notebooks/Data/from_wjr/tippos_per_001_log/',\n",
    "        DS=0.025, #cm/pixel\n",
    "        DT=1., #ms/frame\n",
    "        width=200.,  #pixels\n",
    "        height=200., #pixels\n",
    "        tavg1=0.,  #moving average window, in ms\n",
    "        tavg2=14., #ms #savgol_filter time window performed on R  #12 ms was no longer smooth\n",
    "        min_termination_time=100.,\n",
    "        min_duration_thresh=1., #ms #minimum lifetime for a spiral tip position to be considered\n",
    "        max_Rfinal_thresh=0.5,  #cm\n",
    "        max_dtmax_thresh= 0.,   #cm # max disagreement between tmax for _self relative to _other\n",
    "        round_t_to_n_digits=7,\n",
    "        t_col='t',\n",
    "        pid_col='particle',\n",
    "        trial_col='trial_num',\n",
    "        use_tavg2=True, #unsmoothed R is preserved through R_nosavgol\n",
    "        testing=False,\n",
    "        printing=False,\n",
    "        use_dask=False,\n",
    "        npartitions=1)\n",
    "    return dict_msr"
   ]
  },
  {
   "cell_type": "code",
   "execution_count": null,
   "id": "0eedd66e",
   "metadata": {
    "ExecuteTime": {
     "end_time": "2022-06-29T07:35:31.887687Z",
     "start_time": "2022-06-29T07:35:31.887677Z"
    }
   },
   "outputs": [],
   "source": [
    "#GOAL: analyze up to the gpu accelerated part and eval_routine with a dask.bag\n",
    "#TODO: for each group, g, analyze the termination event up to the gpu accelerated part\n",
    "#TODO: wrap from here to end into a routine\n",
    "#TODO: dask bag over ^that routine\n",
    "#recall from cache\n",
    "\n",
    "def routine(task):\n",
    "    try:\n",
    "        return routine_annihilation_analysis_pbc_fortranic(task)\n",
    "    except Exception as e:\n",
    "        return f\"Warning: {e}\"\n",
    "    \n",
    "testing=True\n",
    "if testing:\n",
    "    trial_num=638#640#\n",
    "    task=trial_num\n",
    "    dict_msr=routine_annihilation_analysis_pbc_fortranic(task)\n",
    "    print(f\"{trial_num=} evaluated successfully! {type(dict_msr)=}\")"
   ]
  },
  {
   "cell_type": "code",
   "execution_count": 560,
   "id": "02dc4986",
   "metadata": {
    "ExecuteTime": {
     "end_time": "2022-06-29T07:32:45.969769Z",
     "start_time": "2022-06-29T07:32:45.949843Z"
    }
   },
   "outputs": [
    {
     "name": "stdout",
     "output_type": "stream",
     "text": [
      "added 641 tasks to task_lst!\n"
     ]
    }
   ],
   "source": [
    "task_lst=[]\n",
    "for trial_num in range(641):\n",
    "    task_lst.append(trial_num)\n",
    "print(f\"added {len(task_lst)} tasks to task_lst!\")"
   ]
  },
  {
   "cell_type": "code",
   "execution_count": null,
   "id": "138ec651",
   "metadata": {},
   "outputs": [],
   "source": [
    "npartitions=10\n",
    "# TODO: try to eval_routine_daskbag with HiddenPrints():\n",
    "with HiddenPrints():\n",
    "    retval=eval_routine_daskbag(routine,task_lst,npartitions,printing=True)\n",
    "#NOTE: if this finishes in less than ~53 minutes, then it saves time compared to a simple for loop\n",
    "#it ran in ~15 minutes. not bad."
   ]
  },
  {
   "cell_type": "code",
   "execution_count": 474,
   "id": "55ba325f",
   "metadata": {
    "ExecuteTime": {
     "end_time": "2022-06-29T06:28:43.426299Z",
     "start_time": "2022-06-29T06:28:43.406123Z"
    }
   },
   "outputs": [
    {
     "data": {
      "text/plain": [
       "641"
      ]
     },
     "execution_count": 474,
     "metadata": {},
     "output_type": "execute_result"
    }
   ],
   "source": [
    "len(retval)"
   ]
  },
  {
   "cell_type": "code",
   "execution_count": 475,
   "id": "fcc82692",
   "metadata": {
    "ExecuteTime": {
     "end_time": "2022-06-29T06:30:04.853703Z",
     "start_time": "2022-06-29T06:30:04.827570Z"
    }
   },
   "outputs": [
    {
     "data": {
      "text/plain": [
       "NoneType"
      ]
     },
     "execution_count": 475,
     "metadata": {},
     "output_type": "execute_result"
    }
   ],
   "source": [
    "type(None)"
   ]
  },
  {
   "cell_type": "code",
   "execution_count": 477,
   "id": "8d484f7c",
   "metadata": {
    "ExecuteTime": {
     "end_time": "2022-06-29T06:31:46.079866Z",
     "start_time": "2022-06-29T06:31:46.057554Z"
    }
   },
   "outputs": [
    {
     "name": "stdout",
     "output_type": "stream",
     "text": [
      "successfully computed msr data for N=577 termiantion events.\n"
     ]
    }
   ],
   "source": [
    "#parse data\n",
    "dict_msr_lst=[]\n",
    "for rv in retval:\n",
    "    if type('')==type(rv):\n",
    "        print(rv)\n",
    "    elif rv is not None:\n",
    "        dict_msr_lst.append(dict_msr)\n",
    "print(f\"successfully computed msr data for N={len(dict_msr_lst)} termiantion events.\")"
   ]
  },
  {
   "cell_type": "code",
   "execution_count": 485,
   "id": "958943f7",
   "metadata": {
    "ExecuteTime": {
     "end_time": "2022-06-29T06:39:30.318336Z",
     "start_time": "2022-06-29T06:39:30.272475Z"
    },
    "run_control": {
     "marked": true
    }
   },
   "outputs": [
    {
     "name": "stdout",
     "output_type": "stream",
     "text": [
      "msr_data_dir='/home/timothytyree/Documents/GitHub/care/notebooks/Data/from_wjr/tippos_per_001_msr_data.pkl'\n"
     ]
    },
    {
     "data": {
      "text/plain": [
       "'/home/timothytyree/Documents/GitHub/care/notebooks/Data/from_wjr/tippos_per_001_msr_data.pkl'"
      ]
     },
     "execution_count": 485,
     "metadata": {},
     "output_type": "execute_result"
    }
   ],
   "source": [
    "#DONE: save data to pickle\n",
    "output_fn='tippos_per_001'+'_msr_data.pkl'\n",
    "msr_data_dir=os.path.join(input_folder,output_fn)\n",
    "# msr_data_dir=os.path.join(os.path.join(input_folder,input_fn),'_msr_data.pkl')\n",
    "print(f\"{msr_data_dir=}\")\n",
    "save_to_pkl(msr_data_dir, dict_msr_lst)"
   ]
  },
  {
   "cell_type": "markdown",
   "id": "676fc6dd",
   "metadata": {
    "heading_collapsed": true
   },
   "source": [
    "# notes from dev"
   ]
  },
  {
   "cell_type": "code",
   "execution_count": 504,
   "id": "ed6ae0fc",
   "metadata": {
    "ExecuteTime": {
     "end_time": "2022-06-29T06:51:15.014928Z",
     "start_time": "2022-06-29T06:51:14.994750Z"
    },
    "hidden": true
   },
   "outputs": [],
   "source": [
    "# #DONT: save data to mat \n",
    "# >>>  ValueError: Column must have no nulls. \n",
    "# output_fn='tippos_per_001'+'_msr_data.mat'\n",
    "# msr_data_dir_mat=os.path.join(input_folder,output_fn)\n",
    "# # msr_data_dir=os.path.join(os.path.join(input_folder,input_fn),'_msr_data.pkl')\n",
    "# print(f\"{msr_data_dir_mat=}\")\n",
    "# save_to_mat(msr_data_dir_mat, dict(dict_msr_lst=dict_msr_lst))"
   ]
  },
  {
   "cell_type": "code",
   "execution_count": 468,
   "id": "5d51f25e",
   "metadata": {
    "ExecuteTime": {
     "end_time": "2022-06-29T06:09:18.899939Z",
     "start_time": "2022-06-29T06:09:18.860482Z"
    },
    "hidden": true
   },
   "outputs": [
    {
     "name": "stdout",
     "output_type": "stream",
     "text": [
      "Q: Do these numbers make sense? num_particles/2=52.0, num_pairs=39\n"
     ]
    }
   ],
   "source": [
    "# #WE EXPECT NUM_PARTICLES/2 ~== NUM_PAIRS, roughly\n",
    "# num_pairs=df_pairs.shape[0]#drop_duplicates().values.shape[0]\n",
    "# # num_particles=traj['particle'].drop_duplicates().values.shape[0]\n",
    "# num_particles=df_smoothed['particle'].drop_duplicates().values.shape[0]\n",
    "# print(f\"Q: Do these numbers make sense? {num_particles/2=}, {num_pairs=}\")\n",
    "# #       A: it appears, no.  .... now they do!"
   ]
  },
  {
   "cell_type": "code",
   "execution_count": 505,
   "id": "d1ac2cfc",
   "metadata": {
    "ExecuteTime": {
     "end_time": "2022-06-29T06:51:32.451464Z",
     "start_time": "2022-06-29T06:51:32.427237Z"
    },
    "hidden": true
   },
   "outputs": [],
   "source": [
    "# #visually check the lifetimes look consistently reasonable\n",
    "# print(f\"hey, visually check the lifetimes look consistently reasonable\")\n",
    "# lifetime_thresh=100 #ms\n",
    "# df_lifetimes_traj=comp_lifetimes_by(df=traj,t_col='t',by='particle',pid_lst=None,printing=False)#,**kwargs)\n",
    "# pid_values_living_long=df_lifetimes_traj[df_lifetimes_traj>lifetime_thresh].index.values\n",
    "# num_particles_living_long=pid_values_living_long.shape[0]\n",
    "# print(f\"Q: Do these numbers make sense? {num_particles_living_long/2=} when {lifetime_thresh=} ms, ({num_pairs=})?\")\n",
    "\n",
    "# #visually check the lifetimes look consistently reasonable\n",
    "# print(\"lifetimes of raw trajectories:\")\n",
    "# df_lifetimes_traj=comp_lifetimes_by(df=traj,t_col='t',by='particle',pid_lst=None,printing=True)#,**kwargs)\n",
    "# print(\"\\nlifetimes before alignment:\")\n",
    "# df_lifetimes_dfr=comp_lifetimes_by(df=dfr.to_pandas(),t_col='t',by='pid_other',pid_lst=None,printing=True)#,**kwargs)\n",
    "# print(\"\\nlifetimes after alignment:\")\n",
    "# df_lifetimes_R=comp_lifetimes_by(df=df_R,t_col='t',by='pid_other',pid_lst=None,printing=True)#,**kwargs)"
   ]
  },
  {
   "cell_type": "code",
   "execution_count": null,
   "id": "6750c2f3",
   "metadata": {
    "hidden": true
   },
   "outputs": [],
   "source": [
    "#DONE: ROOT CAUSE ANALYSIS TAKING dfr to df_R (aligned)\n",
    "#HINT: Q: does df_R have long lived particles rn?\n",
    "# >>> A: yes.\n",
    "#DONE: showed these came from traj ==> traj has plenty (>8) observations for nearly all possible pairs...\n",
    "#==> there must be a problem after traj\n",
    "#DONE: showed these came from df_smoothed ==> df_smoothed has plenty (>8) observations for nearly all possible pairs...\n",
    "#==> there must be a problem after df_smoothed\n",
    "#DONT: show whether dfr has trivialy-long-lived particles here. they do.\n",
    "#DONT: show whether df_R has long lived particles here\n",
    "#DONT: show whether df_pairs has long lived particles here\n",
    "# >>> CONFIRMED: The issue is isolated to the computation of the alignement\n",
    "#DONE: REMOVE ROOT CAUSE by just remaking the method taking dfr to df_R (aligned)\n",
    "#DONE: dev new, simpler alignment routine that computes ols on the n>3 (n<5) .tail()/.head() of each annihilation event\n",
    "\n",
    "#GOAL: ROOT CAUSE ANALYSIS\n",
    "#FIXED: this looks worriesome... >>> selected 11 particle pairs as annihilating out of 681 possible particle pairs\n",
    "#DONE: dive in to compute_radial_velocities_of_annihilations_cu where ^that string is generated\n",
    "#DONE: root cause analysis why i'm losing so many particles when i pair particles"
   ]
  },
  {
   "cell_type": "code",
   "execution_count": 381,
   "id": "b9f2f803",
   "metadata": {
    "ExecuteTime": {
     "end_time": "2022-06-29T04:51:52.084314Z",
     "start_time": "2022-06-29T04:51:52.064940Z"
    },
    "hidden": true
   },
   "outputs": [],
   "source": [
    "#DONE: ROOT CAUSE ANALYSIS OF WHY dfr HAS TRIVIAL LIFETIMES\n",
    "#DONE: comment out ^these huge blocks and .reset_index() of df_log.all() \n",
    "#option 1: when i concat to df_log? Nope! That is the source.\n",
    "#option 2(easy and foolproof): reset .reset_index() in the parquet loader\n",
    "#>>> (IndexError, IndexError('too many indices for array')) Q: is it this? \n",
    "#i think it is an IndexError regarding df_smoothed. did i reset_index?\n",
    "# df_smoothed.isnull().any()"
   ]
  },
  {
   "cell_type": "markdown",
   "id": "3085a5ac",
   "metadata": {
    "heading_collapsed": true
   },
   "source": [
    "# DONE: simple plots of radial timeseries "
   ]
  },
  {
   "cell_type": "code",
   "execution_count": null,
   "id": "3a935493",
   "metadata": {
    "hidden": true
   },
   "outputs": [],
   "source": [
    "#reset matplotlib settings\n",
    "import matplotlib as mpl\n",
    "sns.reset_orig()\n",
    "mpl.rc_file_defaults()"
   ]
  },
  {
   "cell_type": "code",
   "execution_count": 22,
   "id": "a2f92412",
   "metadata": {
    "ExecuteTime": {
     "end_time": "2022-06-28T22:25:40.721905Z",
     "start_time": "2022-06-28T22:25:40.699494Z"
    },
    "hidden": true
   },
   "outputs": [],
   "source": [
    "# # unwrap_trajectories\n",
    "# jump_thresh=np.min((width,height))/2 #my jump_thresh said jumps occured here...\n",
    "# jump_thresh=190  #my jump_thresh said jumps occured here...\n",
    "# #unwrap trajectories indexed by pid_col\n",
    "# round_t_to_n_digits=7\n",
    "# jump_thresh=190\n",
    "# df_traj = pd.concat([unwrap_traj_and_center(traj[traj[pid_col]==pid].copy(), width=width, height=height, DS=DS,jump_thresh=jump_thresh) for pid in pid_lst])\n",
    "# df_traj[t_col] = df_traj[t_col].round(round_t_to_n_digits)\n",
    "# df_traj.head()\n",
    "\n",
    "# #DONE: plot unwrapped trajectories\n",
    "# fig, ax = plt.subplots(figsize=(5,5))\n",
    "# ax=FlowerPlot(df_traj,pid_lst,fontsize=14,ax=ax)#,x_col='x',y_col='y',c_col=\"t\",pid_col='particle',width=200,height=200,fontsize=24,DS = 0.025,alpha=1,cmap=\"Blues\",use_formatting=True)\n",
    "# plt.show()"
   ]
  },
  {
   "cell_type": "code",
   "execution_count": null,
   "id": "701f1dfe",
   "metadata": {
    "hidden": true
   },
   "outputs": [],
   "source": []
  },
  {
   "cell_type": "code",
   "execution_count": 253,
   "id": "5e309621",
   "metadata": {
    "ExecuteTime": {
     "end_time": "2022-06-29T03:08:05.077806Z",
     "start_time": "2022-06-29T03:08:04.980987Z"
    },
    "hidden": true
   },
   "outputs": [
    {
     "data": {
      "image/png": "[encoded data removed]",
      "text/plain": [
       "<Figure size 300x200 with 1 Axes>"
      ]
     },
     "metadata": {},
     "output_type": "display_data"
    }
   ],
   "source": [
    "#plot alignment\n",
    "fig,ax=plt.subplots(figsize=(3,2))\n",
    "for index_pairs,row in df_P.iterrows():\n",
    "    df=df_R[df_R['index_pairs']==index_pairs]\n",
    "    d=df.sort_values(by='tdeath').head(30)\n",
    "    x_values=d[R_col].values\n",
    "    y_values=d['tdeath_align'].values\n",
    "    #plot alignment\n",
    "    plt.plot(x_values,y_values)\n",
    "format_plot(ax=plt.gca(),xlabel='R (cm)', ylabel=\"t' (ms)\",fontsize=14)\n",
    "plt.show()"
   ]
  },
  {
   "cell_type": "code",
   "execution_count": null,
   "id": "4badf161",
   "metadata": {
    "hidden": true
   },
   "outputs": [],
   "source": [
    "# fig,ax=plt.subplots()\n",
    "# for i,pid in enumerate(pid_lst_stumps):\n",
    "#     dd=traj[traj[pid_col]==int(pid)]\n",
    "#     dd.plot.scatter(x='x',y='y',ax=ax,color=f\"C{i}\")\n",
    "# plt.show()"
   ]
  },
  {
   "cell_type": "code",
   "execution_count": 150,
   "id": "72d6365f",
   "metadata": {
    "ExecuteTime": {
     "end_time": "2022-06-28T23:26:28.829538Z",
     "start_time": "2022-06-28T23:26:28.796982Z"
    },
    "hidden": true
   },
   "outputs": [],
   "source": [
    "# #DONE: ROOT CAUSE ANALYSIS on why the lengths of 9/10 trajectories have only two data points\n",
    "# #DONE: plot all spiral tip positions with fewer than 5 counts to their pair\n",
    "# # # dfr.head()\n",
    "# fig,ax=plt.subplots()\n",
    "# for i,pid in enumerate(pid_lst_stumps):\n",
    "#     dd=traj[traj[pid_col]==int(pid)]\n",
    "#     dd.plot.scatter(x='x',y='y',ax=ax,color=f\"C{i}\")\n",
    "# plt.show()\n",
    "# #TODO(?): plot the annihilation partner with the shortest lifetime"
   ]
  },
  {
   "cell_type": "code",
   "execution_count": null,
   "id": "9ceade53",
   "metadata": {
    "hidden": true
   },
   "outputs": [],
   "source": [
    "# fig, ax = plt.subplots(figsize=(4,4))\n",
    "# #DONE: plot raw locations\n",
    "# df_log.tail(200).plot.scatter(x='x',y='y',c='t',ax=ax)\n",
    "# #DONE: plot trajectories\n",
    "# # traj.tail(200).plot.scatter(x='x',y='y',c='t',ax=ax)\n",
    "# format_plot(ax=ax,xlabel='x (pixels)',ylabel='y (pixels)')\n",
    "# plt.show()"
   ]
  },
  {
   "cell_type": "markdown",
   "id": "56e22602",
   "metadata": {},
   "source": [
    "# TODO: bootstrap xy values to compute MSR(t')"
   ]
  },
  {
   "cell_type": "code",
   "execution_count": 34,
   "id": "342374bc",
   "metadata": {
    "ExecuteTime": {
     "end_time": "2023-01-14T23:32:42.903822Z",
     "start_time": "2023-01-14T23:32:42.882543Z"
    }
   },
   "outputs": [],
   "source": [
    "#reset matplotlib settings\n",
    "import matplotlib as mpl\n",
    "sns.reset_orig()\n",
    "mpl.rc_file_defaults()"
   ]
  },
  {
   "cell_type": "code",
   "execution_count": 135,
   "id": "615a4693",
   "metadata": {
    "ExecuteTime": {
     "end_time": "2023-01-17T01:26:58.109853Z",
     "start_time": "2023-01-17T01:26:58.079142Z"
    }
   },
   "outputs": [
    {
     "data": {
      "text/html": [
       "<div>\n",
       "<style scoped>\n",
       "    .dataframe tbody tr th:only-of-type {\n",
       "        vertical-align: middle;\n",
       "    }\n",
       "\n",
       "    .dataframe tbody tr th {\n",
       "        vertical-align: top;\n",
       "    }\n",
       "\n",
       "    .dataframe thead th {\n",
       "        text-align: right;\n",
       "    }\n",
       "</style>\n",
       "<table border=\"1\" class=\"dataframe\">\n",
       "  <thead>\n",
       "    <tr style=\"text-align: right;\">\n",
       "      <th></th>\n",
       "      <th>annihilation_index</th>\n",
       "      <th>R</th>\n",
       "      <th>tdeath</th>\n",
       "      <th>t</th>\n",
       "      <th>n</th>\n",
       "      <th>x</th>\n",
       "      <th>y</th>\n",
       "      <th>trial_num</th>\n",
       "      <th>frame</th>\n",
       "    </tr>\n",
       "  </thead>\n",
       "  <tbody>\n",
       "    <tr>\n",
       "      <th>748804</th>\n",
       "      <td>0</td>\n",
       "      <td>0.078142</td>\n",
       "      <td>0.0</td>\n",
       "      <td>43957.0</td>\n",
       "      <td>10</td>\n",
       "      <td>5.0</td>\n",
       "      <td>9.2</td>\n",
       "      <td>0</td>\n",
       "      <td>43958</td>\n",
       "    </tr>\n",
       "    <tr>\n",
       "      <th>748794</th>\n",
       "      <td>0</td>\n",
       "      <td>0.123744</td>\n",
       "      <td>1.0</td>\n",
       "      <td>43956.0</td>\n",
       "      <td>10</td>\n",
       "      <td>4.0</td>\n",
       "      <td>9.1</td>\n",
       "      <td>0</td>\n",
       "      <td>43957</td>\n",
       "    </tr>\n",
       "    <tr>\n",
       "      <th>748784</th>\n",
       "      <td>0</td>\n",
       "      <td>0.146373</td>\n",
       "      <td>2.0</td>\n",
       "      <td>43955.0</td>\n",
       "      <td>10</td>\n",
       "      <td>3.5</td>\n",
       "      <td>9.0</td>\n",
       "      <td>0</td>\n",
       "      <td>43956</td>\n",
       "    </tr>\n",
       "    <tr>\n",
       "      <th>748774</th>\n",
       "      <td>0</td>\n",
       "      <td>0.158765</td>\n",
       "      <td>3.0</td>\n",
       "      <td>43954.0</td>\n",
       "      <td>10</td>\n",
       "      <td>3.2</td>\n",
       "      <td>8.9</td>\n",
       "      <td>0</td>\n",
       "      <td>43955</td>\n",
       "    </tr>\n",
       "    <tr>\n",
       "      <th>748764</th>\n",
       "      <td>0</td>\n",
       "      <td>0.166208</td>\n",
       "      <td>4.0</td>\n",
       "      <td>43953.0</td>\n",
       "      <td>10</td>\n",
       "      <td>3.0</td>\n",
       "      <td>8.8</td>\n",
       "      <td>0</td>\n",
       "      <td>43954</td>\n",
       "    </tr>\n",
       "  </tbody>\n",
       "</table>\n",
       "</div>"
      ],
      "text/plain": [
       "        annihilation_index         R  tdeath        t   n    x    y  \\\n",
       "748804                   0  0.078142     0.0  43957.0  10  5.0  9.2   \n",
       "748794                   0  0.123744     1.0  43956.0  10  4.0  9.1   \n",
       "748784                   0  0.146373     2.0  43955.0  10  3.5  9.0   \n",
       "748774                   0  0.158765     3.0  43954.0  10  3.2  8.9   \n",
       "748764                   0  0.166208     4.0  43953.0  10  3.0  8.8   \n",
       "\n",
       "        trial_num  frame  \n",
       "748804          0  43958  \n",
       "748794          0  43957  \n",
       "748784          0  43956  \n",
       "748774          0  43955  \n",
       "748764          0  43954  "
      ]
     },
     "execution_count": 135,
     "metadata": {},
     "output_type": "execute_result"
    }
   ],
   "source": [
    "input_fn_lst=[\"/home/timothytyree/Documents/GitHub/care/notebooks/Data/from_wjr/positions_fk/350x350/tippos_per_102_annihilation_range_timeseries.pkl\",\n",
    "              \"/home/timothytyree/Documents/GitHub/care/notebooks/Data/from_wjr/positions_fk/283x283/tippos_per_1_annihilation_range_timeseries.pkl\"\n",
    "             ]\n",
    "for input_fn in input_fn_lst:\n",
    "    pass\n",
    "\n",
    "DS=0.025 #cm/pixel\n",
    "DT=1. #ms/frame\n",
    "df_r=load_from_pickle(input_fn)[0]\n",
    "df_r.head()"
   ]
  },
  {
   "cell_type": "code",
   "execution_count": 136,
   "id": "15f46da1",
   "metadata": {
    "ExecuteTime": {
     "end_time": "2023-01-17T01:26:58.592299Z",
     "start_time": "2023-01-17T01:26:58.559469Z"
    }
   },
   "outputs": [],
   "source": [
    "##########################\n",
    "# GOAL: Compute MSR(t')\n",
    "##########################\n",
    "# R_col='R_nosavgol'\n",
    "# T_col='tdeath_align'\n",
    "R_col='R'\n",
    "T_col='tdeath'"
   ]
  },
  {
   "cell_type": "code",
   "execution_count": 137,
   "id": "7e66968a",
   "metadata": {
    "ExecuteTime": {
     "end_time": "2023-01-17T01:26:59.064532Z",
     "start_time": "2023-01-17T01:26:59.027717Z"
    }
   },
   "outputs": [
    {
     "name": "stdout",
     "output_type": "stream",
     "text": [
      "aggregated N''=135402 R(t') observations from N'=1 termination events. this involved N=1430 pair-annihilation events.\n"
     ]
    }
   ],
   "source": [
    "SR_values_lst=[]\n",
    "tau_values_lst=[]\n",
    "count_events=0\n",
    "# for dict_msr in dict_msr_lst:\n",
    "#     #recall the data values\n",
    "#     df_R=dict_msr['df_R']\n",
    "for trial_num,df_R in df_r.groupby(by='trial_num'):\n",
    "    SR_values=df_R[R_col].values**2\n",
    "    tau_values=df_R[T_col].values\n",
    "\n",
    "\n",
    "\n",
    "    #count the number of events\n",
    "#     num_events=df_R['index_pairs'].drop_duplicates().values.shape[0]\n",
    "    num_events=df_R['annihilation_index'].drop_duplicates().values.shape[0]\n",
    "\n",
    "    #remove any null values\n",
    "    boo_nan=np.isnan(tau_values)#tdeath_align has 6/1700 data points as null\n",
    "    boo_nan|=np.isnan(SR_values)\n",
    "    SR_values=SR_values[~boo_nan].copy()\n",
    "    tau_values=tau_values[~boo_nan].copy()\n",
    "\n",
    "    #record\n",
    "    SR_values_lst.append(SR_values)\n",
    "    tau_values_lst.append(tau_values)\n",
    "    count_events+=num_events\n",
    "SR_values=np.concatenate(SR_values_lst)\n",
    "tau_values=np.concatenate(tau_values_lst)\n",
    "\n",
    "    \n",
    "    \n",
    "num_trials=len(SR_values_lst)\n",
    "num_obs=SR_values.shape[0]\n",
    "print(f\"aggregated N''={num_obs} R(t') observations from N'={num_trials} termination events. this involved N={count_events} pair-annihilation events.\")\n",
    "# num_trials,len(tau_values_lst),num_obs,tau_values.shape[0] #they're the same"
   ]
  },
  {
   "cell_type": "code",
   "execution_count": 138,
   "id": "3ab4e7cc",
   "metadata": {
    "ExecuteTime": {
     "end_time": "2023-01-17T01:26:59.493909Z",
     "start_time": "2023-01-17T01:26:59.471605Z"
    }
   },
   "outputs": [],
   "source": [
    "#DONE: investigate which parameter setting needs to be changed to make df_smoothed mapping to dfr have dfr with {num_particles/2=}, {num_pairs=}\n",
    "#DONE: wrap up to here into 1-3 functions for a dask.bag routine\n",
    "#DONE: wrap routine as func foo\n",
    "#DONE: eval_routine\n",
    "#DONE: plot the MSR, as before\n",
    "#heretimheretim"
   ]
  },
  {
   "cell_type": "code",
   "execution_count": null,
   "id": "f61622d5",
   "metadata": {},
   "outputs": [],
   "source": []
  },
  {
   "cell_type": "code",
   "execution_count": 139,
   "id": "49f0b0c3",
   "metadata": {
    "ExecuteTime": {
     "end_time": "2023-01-17T01:27:00.397640Z",
     "start_time": "2023-01-17T01:27:00.370798Z"
    }
   },
   "outputs": [
    {
     "data": {
      "text/plain": [
       "((135402,), (135402,))"
      ]
     },
     "execution_count": 139,
     "metadata": {},
     "output_type": "execute_result"
    }
   ],
   "source": [
    "# if printing:\n",
    "#     print(f\"removed {sum(boo_nan)} data points due to having null x-value (or y-value)\") #~6 per 1700 removed bc of alignment of time\n",
    "assert not np.isnan(SR_values).any() and not np.isnan(tau_values).any()\n",
    "SR_values.shape,tau_values.shape"
   ]
  },
  {
   "cell_type": "code",
   "execution_count": 140,
   "id": "6686cbd4",
   "metadata": {
    "ExecuteTime": {
     "end_time": "2023-01-17T01:27:00.792723Z",
     "start_time": "2023-01-17T01:27:00.757088Z"
    }
   },
   "outputs": [],
   "source": [
    "np.max(tau_values),\n",
    "tmax=np.max(x_values_in)"
   ]
  },
  {
   "cell_type": "code",
   "execution_count": 141,
   "id": "79c506e0",
   "metadata": {
    "ExecuteTime": {
     "end_time": "2023-01-17T01:27:38.058712Z",
     "start_time": "2023-01-17T01:27:01.110028Z"
    }
   },
   "outputs": [
    {
     "data": {
      "text/html": [
       "<div>\n",
       "<style scoped>\n",
       "    .dataframe tbody tr th:only-of-type {\n",
       "        vertical-align: middle;\n",
       "    }\n",
       "\n",
       "    .dataframe tbody tr th {\n",
       "        vertical-align: top;\n",
       "    }\n",
       "\n",
       "    .dataframe thead th {\n",
       "        text-align: right;\n",
       "    }\n",
       "</style>\n",
       "<table border=\"1\" class=\"dataframe\">\n",
       "  <thead>\n",
       "    <tr style=\"text-align: right;\">\n",
       "      <th></th>\n",
       "      <th>tdeath_avg</th>\n",
       "      <th>MSR</th>\n",
       "      <th>Delta_tdeath_avg</th>\n",
       "      <th>Delta_MSR</th>\n",
       "      <th>p_tdeath_avg</th>\n",
       "      <th>p_MSR</th>\n",
       "      <th>counts</th>\n",
       "    </tr>\n",
       "  </thead>\n",
       "  <tbody>\n",
       "    <tr>\n",
       "      <th>0</th>\n",
       "      <td>0.0</td>\n",
       "      <td>0.020047</td>\n",
       "      <td>0.0</td>\n",
       "      <td>0.001290</td>\n",
       "      <td>0.0</td>\n",
       "      <td>0.623059</td>\n",
       "      <td>1430</td>\n",
       "    </tr>\n",
       "    <tr>\n",
       "      <th>1</th>\n",
       "      <td>1.0</td>\n",
       "      <td>0.058774</td>\n",
       "      <td>0.0</td>\n",
       "      <td>0.003081</td>\n",
       "      <td>0.0</td>\n",
       "      <td>0.567928</td>\n",
       "      <td>1351</td>\n",
       "    </tr>\n",
       "    <tr>\n",
       "      <th>2</th>\n",
       "      <td>2.0</td>\n",
       "      <td>0.092227</td>\n",
       "      <td>0.0</td>\n",
       "      <td>0.004693</td>\n",
       "      <td>0.0</td>\n",
       "      <td>0.970538</td>\n",
       "      <td>1299</td>\n",
       "    </tr>\n",
       "    <tr>\n",
       "      <th>3</th>\n",
       "      <td>3.0</td>\n",
       "      <td>0.119109</td>\n",
       "      <td>0.0</td>\n",
       "      <td>0.005863</td>\n",
       "      <td>0.0</td>\n",
       "      <td>0.433788</td>\n",
       "      <td>1273</td>\n",
       "    </tr>\n",
       "    <tr>\n",
       "      <th>4</th>\n",
       "      <td>4.0</td>\n",
       "      <td>0.141583</td>\n",
       "      <td>0.0</td>\n",
       "      <td>0.007255</td>\n",
       "      <td>0.0</td>\n",
       "      <td>0.130070</td>\n",
       "      <td>1233</td>\n",
       "    </tr>\n",
       "  </tbody>\n",
       "</table>\n",
       "</div>"
      ],
      "text/plain": [
       "   tdeath_avg       MSR  Delta_tdeath_avg  Delta_MSR  p_tdeath_avg     p_MSR  \\\n",
       "0         0.0  0.020047               0.0   0.001290           0.0  0.623059   \n",
       "1         1.0  0.058774               0.0   0.003081           0.0  0.567928   \n",
       "2         2.0  0.092227               0.0   0.004693           0.0  0.970538   \n",
       "3         3.0  0.119109               0.0   0.005863           0.0  0.433788   \n",
       "4         4.0  0.141583               0.0   0.007255           0.0  0.130070   \n",
       "\n",
       "   counts  \n",
       "0    1430  \n",
       "1    1351  \n",
       "2    1299  \n",
       "3    1273  \n",
       "4    1233  "
      ]
     },
     "execution_count": 141,
     "metadata": {},
     "output_type": "execute_result"
    }
   ],
   "source": [
    "#compute bootstrap \n",
    "x_values_in=tau_values\n",
    "y_values_in=SR_values\n",
    "# bins='auto'\n",
    "# bins=np.arange(0,200,1)\n",
    "bins=np.arange(0,tmax,1)\n",
    "df_bootstrap=bin_and_bootstrap_xy_values_parallel(x_values_in,\n",
    "                               y_values_in,#dict_msr_lst,\n",
    "                               xlabel='tdeath_avg',\n",
    "                               ylabel='MSR',\n",
    "                               bins=bins,\n",
    "                               min_numobs=None,\n",
    "                               num_bootstrap_samples=1000,\n",
    "                               npartitions=10,\n",
    "                               use_test=False)\n",
    "df_bootstrap.head()"
   ]
  },
  {
   "cell_type": "code",
   "execution_count": 142,
   "id": "6feea9bc",
   "metadata": {
    "ExecuteTime": {
     "end_time": "2023-01-17T01:27:38.088241Z",
     "start_time": "2023-01-17T01:27:38.060733Z"
    }
   },
   "outputs": [
    {
     "data": {
      "text/plain": [
       "((1161,), (1161,), (1161,))"
      ]
     },
     "execution_count": 142,
     "metadata": {},
     "output_type": "execute_result"
    }
   ],
   "source": [
    "x_values=df_bootstrap['tdeath_avg'].values\n",
    "y_values=df_bootstrap['MSR'].values\n",
    "yerr_values=df_bootstrap['Delta_MSR'].values\n",
    "x_values.shape,y_values.shape,yerr_values.shape"
   ]
  },
  {
   "cell_type": "code",
   "execution_count": 143,
   "id": "17fe57c4",
   "metadata": {
    "ExecuteTime": {
     "end_time": "2023-01-17T01:27:38.246108Z",
     "start_time": "2023-01-17T01:27:38.089512Z"
    }
   },
   "outputs": [
    {
     "name": "stdout",
     "output_type": "stream",
     "text": [
      "Does this appear to intersect at zero?\n"
     ]
    },
    {
     "data": {
      "image/png": "[encoded data removed]",
      "text/plain": [
       "<Figure size 640x480 with 1 Axes>"
      ]
     },
     "metadata": {},
     "output_type": "display_data"
    }
   ],
   "source": [
    "print(f\"Does this appear to intersect at zero?\")\n",
    "c='k'\n",
    "plt.plot(x_values,y_values,lw=2,alpha=0.8,c=c)\n",
    "plt.fill_between(x_values,y_values-yerr_values,y_values+yerr_values,lw=2,alpha=0.4,color=c)\n",
    "format_plot(ax=plt.gca(),xlabel=r'$t_f-t$ (ms)',ylabel=r'MSR (cm$^2$)')\n",
    "# plt.xlim([0,180])\n",
    "# plt.ylim([0,3.1])\n",
    "plt.xlim([0,15])\n",
    "plt.ylim([-.1,1])\n",
    "plt.show()"
   ]
  },
  {
   "cell_type": "code",
   "execution_count": 144,
   "id": "58effb62",
   "metadata": {
    "ExecuteTime": {
     "end_time": "2023-01-17T01:27:38.355841Z",
     "start_time": "2023-01-17T01:27:38.247726Z"
    }
   },
   "outputs": [
    {
     "data": {
      "image/png": "[encoded data removed]",
      "text/plain": [
       "<Figure size 640x480 with 1 Axes>"
      ]
     },
     "metadata": {},
     "output_type": "display_data"
    }
   ],
   "source": [
    "#plot expected\n",
    "plt.plot(x_values,4*9.5*1e-3*x_values,'--',lw=2,alpha=0.8,c='C1')\n",
    "# plt.plot(x_values,4*1.8*1e-3*x_values,'--',lw=2,alpha=0.8,c='C0')\n",
    "#plot data\n",
    "plt.plot(x_values,y_values,lw=2,alpha=0.8,c=c)\n",
    "plt.fill_between(x_values,y_values-yerr_values,y_values+yerr_values,lw=2,alpha=0.4,color=c)\n",
    "format_plot(ax=plt.gca(),xlabel=r'$t_f-t$ (ms)',ylabel=r'MSR (cm$^2$)')\n",
    "plt.xlim([0,180])\n",
    "plt.ylim([0,4.1])\n",
    "plt.show()"
   ]
  },
  {
   "cell_type": "code",
   "execution_count": 145,
   "id": "aa4bbaba",
   "metadata": {
    "ExecuteTime": {
     "end_time": "2023-01-17T01:27:38.455567Z",
     "start_time": "2023-01-17T01:27:38.357670Z"
    }
   },
   "outputs": [
    {
     "data": {
      "image/png": "[encoded data removed]",
      "text/plain": [
       "<Figure size 400x420 with 1 Axes>"
      ]
     },
     "metadata": {},
     "output_type": "display_data"
    }
   ],
   "source": [
    "#plot expected\n",
    "fig,ax=plt.subplots(figsize=(4,4.2))\n",
    "ax.plot(x_values,4*9.5*1e-3*x_values,'--',lw=2,alpha=0.8,c='C1')\n",
    "# ax.plot(x_values,4*1.8*1e-3*x_values,'--',lw=2,alpha=0.8,c='C0')\n",
    "#plot data\n",
    "ax.plot(x_values,y_values,lw=2,alpha=0.8,c=c)\n",
    "ax.fill_between(x_values,y_values-yerr_values,y_values+yerr_values,lw=2,alpha=0.4,color=c)\n",
    "format_plot(ax=ax,xlabel=r'$t_f-t$ (ms)',ylabel=r'MSR (cm$^2$)')\n",
    "# ax.set_xlim([0,200])\n",
    "ax.set_ylim([0,8])\n",
    "plt.show()"
   ]
  },
  {
   "cell_type": "code",
   "execution_count": null,
   "id": "7182a73d",
   "metadata": {},
   "outputs": [],
   "source": []
  },
  {
   "cell_type": "markdown",
   "id": "323158fe",
   "metadata": {
    "heading_collapsed": true
   },
   "source": [
    "# visualize the msr, compute its autocorrelation period, and save the analogas msr_lr_bootstraped file using wouter's data\n",
    "- HINT: this was copied from src: #http://localhost:8890/notebooks/tests%20for%20screening%20via%20density%20dependence%20of%20attraction%20coefficients.ipynb\n"
   ]
  },
  {
   "cell_type": "code",
   "execution_count": 146,
   "id": "4b5db79b",
   "metadata": {
    "ExecuteTime": {
     "end_time": "2023-01-17T01:27:38.479991Z",
     "start_time": "2023-01-17T01:27:38.457208Z"
    },
    "hidden": true
   },
   "outputs": [
    {
     "data": {
      "text/plain": [
       "'fk_msr_283x283_'"
      ]
     },
     "execution_count": 146,
     "metadata": {},
     "output_type": "execute_result"
    }
   ],
   "source": [
    "# modname=f\"fk_positions_{input_fn.split('/')[-2]}_\"\n",
    "modname=f\"fk_msr_{input_fn.split('/')[-2]}_\"\n",
    "modname"
   ]
  },
  {
   "cell_type": "code",
   "execution_count": 147,
   "id": "bf302f40",
   "metadata": {
    "ExecuteTime": {
     "end_time": "2023-01-17T01:27:38.501828Z",
     "start_time": "2023-01-17T01:27:38.481497Z"
    },
    "hidden": true
   },
   "outputs": [],
   "source": [
    "# modname='FK'\n"
   ]
  },
  {
   "cell_type": "code",
   "execution_count": null,
   "id": "5b10b500",
   "metadata": {
    "hidden": true
   },
   "outputs": [],
   "source": []
  },
  {
   "cell_type": "code",
   "execution_count": null,
   "id": "71bf81dd",
   "metadata": {
    "hidden": true
   },
   "outputs": [],
   "source": []
  },
  {
   "cell_type": "code",
   "execution_count": 148,
   "id": "a11cb9e8",
   "metadata": {
    "ExecuteTime": {
     "end_time": "2023-01-17T01:27:39.398656Z",
     "start_time": "2023-01-17T01:27:38.503762Z"
    },
    "hidden": true
   },
   "outputs": [
    {
     "name": "stdout",
     "output_type": "stream",
     "text": [
      "Periods of Autocorrelation of MSR (ms):\n",
      "[122. 119. 119. 122.]\n",
      "a_SR = 1.656335+/-0.045734 cm^2/s\n",
      "tavg2=14 ms, num_samples=150000\n"
     ]
    },
    {
     "data": {
      "image/png": "[encoded data removed]",
      "text/plain": [
       "<Figure size 640x480 with 1 Axes>"
      ]
     },
     "metadata": {},
     "output_type": "display_data"
    },
    {
     "name": "stdout",
     "output_type": "stream",
     "text": [
      "msr_csv_dir='/home/timothytyree/Documents/GitHub/care/notebooks/Data/from_wjr/positions_fk/283x283/tippos_per_1_annihilation_msr.csv'\n"
     ]
    },
    {
     "data": {
      "image/png": "[encoded data removed]",
      "text/plain": [
       "<Figure size 640x480 with 1 Axes>"
      ]
     },
     "metadata": {},
     "output_type": "display_data"
    },
    {
     "data": {
      "image/png": "[encoded data removed]",
      "text/plain": [
       "<Figure size 640x480 with 1 Axes>"
      ]
     },
     "metadata": {},
     "output_type": "display_data"
    },
    {
     "name": "stdout",
     "output_type": "stream",
     "text": [
      "\u0007\u0007\u0007"
     ]
    },
    {
     "data": {
      "text/plain": [
       "0"
      ]
     },
     "execution_count": 148,
     "metadata": {},
     "output_type": "execute_result"
    }
   ],
   "source": [
    "from scipy import signal\n",
    "from scipy.signal import argrelextrema\n",
    "tavg2=14\n",
    "tmax=300\n",
    "max_num_groups=150000\n",
    "sig = y_values-4*1.6*1e-3*x_values\n",
    "boo=x_values<tmax\n",
    "DT=np.diff(x_values)[0]\n",
    "sig=sig[boo].copy()\n",
    "corr = signal.correlate(sig, sig)\n",
    "lags = signal.correlation_lags(len(sig), len(sig))\n",
    "corr /= np.max(corr)\n",
    "\n",
    "# for local_maxima\n",
    "local_maxima=argrelextrema(corr, np.greater)\n",
    "\n",
    "# for local_minima\n",
    "local_minima=argrelextrema(corr, np.less)\n",
    "\n",
    "#TODO: find period of MSR before death\n",
    "taumax_values=DT*lags[local_maxima]\n",
    "taumin_values=DT*lags[local_minima]\n",
    "np.diff(taumin_values),np.diff(taumax_values)\n",
    "\n",
    "print(f\"Periods of Autocorrelation of MSR (ms):\")\n",
    "print(np.diff(taumax_values))\n",
    "\n",
    "# # tmax=8#ms\n",
    "# tmax=1e3#ms\n",
    "boo=x_values<tmax #ms\n",
    "dict_a_SR=compute_95CI_ols(x_values[boo],y_values[boo])\n",
    "a_SR=dict_a_SR['m']/4*1e3\n",
    "Delta_a_SR=dict_a_SR['Delta_m']/4*1e3\n",
    "print(f\"a_SR = {a_SR:.6f}+/-{Delta_a_SR:.6f} cm^2/s\")\n",
    "print(f\"tavg2={tavg2} ms, num_samples={max_num_groups}\")\n",
    "\n",
    "\n",
    "\n",
    "yv=np.linspace(0,1,20)\n",
    "for taumax in taumax_values:\n",
    "    plt.plot(taumax+0.*yv,yv,'k--',alpha=0.5,lw=2)\n",
    "    \n",
    "plt.plot(DT*lags,corr,lw=2)\n",
    "format_plot(ax=plt.gca(),xlabel=r'$\\tau$ (ms)',ylabel=r'Autocorr. of MSR')\n",
    "plt.show()\n",
    "\n",
    "\n",
    "#DONE: record ^this in .odg\n",
    "#DONT: does R values have units of cm when it is saved?  maybe I'm missing a scale of 5/200???^2???\n",
    "#DONE: repeat with all samples!\n",
    "#TODO: repeat with more/less smoothingi\n",
    "1\n",
    "\n",
    "#save as .csv\n",
    "# modname='msr_fk'\n",
    "# # modname='msr_lr'\n",
    "save_folder=f\"/home/timothytyree/Documents/GitHub/bgmc/python/data/full_results\"\n",
    "os.listdir(save_folder)\n",
    "msr_csv_fn=f\"{modname}_boostrapped_tavg2_{tavg2:.1f}_n_{max_num_groups}_a_{a_SR:.1f}_tmax_{tmax}.csv\"\n",
    "msr_csv_dir=os.path.join(save_folder,msr_csv_fn)\n",
    "\n",
    "msr_csv_dir=f\"{nb_dir}/Data/from_wjr/positions_fk/350x350/tippos_per_102_annihilation_msr.csv\"\n",
    "msr_csv_dir = f\"{nb_dir}/Data/from_wjr/positions_fk/283x283/tippos_per_1_annihilation_msr.csv\"\n",
    "df_bootstrap.to_csv(msr_csv_dir,index=False)\n",
    "print(f\"{msr_csv_dir=}\")\n",
    "# beep(4)\n",
    "\n",
    "#plot a versus t_f-t using (i) finite diff and (ii) using savgol\n",
    "xmid_values=0.5*(x_values[1:]+x_values[:-1])\n",
    "dydx_values=np.diff(y_values)/np.diff(x_values)\n",
    "xmid_values=moving_average(xmid_values,4)\n",
    "dydx_values=moving_average(dydx_values,4)\n",
    "plt.plot(xmid_values,dydx_values/4*1e3,c=c)\n",
    "\n",
    "#plot expected\n",
    "plt.plot(x_values,9.5+0.*x_values,'--',lw=2,alpha=0.8,c='C1')\n",
    "plt.plot(x_values,1.6+0.*x_values,'--',lw=2,alpha=0.8,c='C0')\n",
    "\n",
    "format_plot(ax=plt.gca(),xlabel=r'$t_f-t$ (ms)',ylabel=r'a (cm$^2$/s)')\n",
    "plt.xlim([0,1000])\n",
    "plt.show()\n",
    "\n",
    "#plot expected\n",
    "plt.plot(x_values,4*9.5*1e-3*x_values,'--',lw=2,alpha=0.8,c='C1')\n",
    "plt.plot(x_values,4*1.6*1e-3*x_values,'--',lw=2,alpha=0.8,c='C0')\n",
    "#plot data\n",
    "plt.plot(x_values,y_values,lw=2,alpha=0.8,c=c)\n",
    "plt.fill_between(x_values,y_values-yerr_values,y_values+yerr_values,lw=2,alpha=0.4,color=c)\n",
    "format_plot(ax=plt.gca(),xlabel=r'$t_f-t$ (ms)',ylabel=r'MSR (cm$^2$)')\n",
    "# plt.xlim([0,180])\n",
    "# plt.ylim([0,3.1])\n",
    "plt.show()\n",
    "# print(f\"tavg2={tavg2} ms, num_samples={max_num_groups}\")\n",
    "\n",
    "beep(3)\n",
    "\n",
    "#TODO: repeat for FK model\n",
    "\n",
    "# #TODO: save df_Ri\n",
    "# df_Ri.head()"
   ]
  },
  {
   "cell_type": "code",
   "execution_count": 59,
   "id": "daed21d4",
   "metadata": {
    "ExecuteTime": {
     "end_time": "2023-01-14T23:40:17.024140Z",
     "start_time": "2023-01-14T23:40:17.001240Z"
    },
    "hidden": true
   },
   "outputs": [
    {
     "data": {
      "text/plain": [
       "'/home/timothytyree/Documents/GitHub/care/notebooks/Data/from_wjr/positions_fk/283x283/tippos_per_1_annihilation_range_timeseries.pkl'"
      ]
     },
     "execution_count": 59,
     "metadata": {},
     "output_type": "execute_result"
    }
   ],
   "source": [
    "input_fn"
   ]
  },
  {
   "cell_type": "code",
   "execution_count": 117,
   "id": "058f6466",
   "metadata": {
    "ExecuteTime": {
     "end_time": "2023-01-17T01:24:56.017563Z",
     "start_time": "2023-01-17T01:24:55.995329Z"
    },
    "hidden": true
   },
   "outputs": [
    {
     "data": {
      "text/plain": [
       "1"
      ]
     },
     "execution_count": 117,
     "metadata": {},
     "output_type": "execute_result"
    }
   ],
   "source": [
    "1"
   ]
  },
  {
   "cell_type": "code",
   "execution_count": 69,
   "id": "6e473e26",
   "metadata": {
    "ExecuteTime": {
     "end_time": "2023-01-14T23:44:24.977498Z",
     "start_time": "2023-01-14T23:44:24.945867Z"
    },
    "hidden": true
   },
   "outputs": [
    {
     "data": {
      "text/plain": [
       "'/home/timothytyree/Documents/GitHub/bgmc/python/data/full_results/fk_positions_283x283__boostrapped_tavg2_14.0_n_150000_a_1.4_tmax_300.csv'"
      ]
     },
     "execution_count": 69,
     "metadata": {},
     "output_type": "execute_result"
    }
   ],
   "source": [
    "msr_csv_dir"
   ]
  },
  {
   "cell_type": "code",
   "execution_count": 101,
   "id": "366518da",
   "metadata": {
    "ExecuteTime": {
     "end_time": "2023-01-17T01:20:42.390765Z",
     "start_time": "2023-01-17T01:20:42.362495Z"
    },
    "hidden": true
   },
   "outputs": [
    {
     "data": {
      "text/plain": [
       "False"
      ]
     },
     "execution_count": 101,
     "metadata": {},
     "output_type": "execute_result"
    }
   ],
   "source": [
    "os.path.exists('/home/timothytyree/Documents/GitHub/bgmc/python/data/full_results/fk_positions_283x283__boostrapped_tavg2_14.0_n_150000_a_1.4_tmax_300.csv')"
   ]
  },
  {
   "cell_type": "markdown",
   "id": "eaf3ffe9",
   "metadata": {
    "heading_collapsed": true
   },
   "source": [
    "# (ignore) the previous version to compute MSR (i think)"
   ]
  },
  {
   "cell_type": "code",
   "execution_count": null,
   "id": "d790916b",
   "metadata": {
    "ExecuteTime": {
     "end_time": "2022-06-28T22:25:47.636011Z",
     "start_time": "2022-06-28T22:25:47.636000Z"
    },
    "hidden": true
   },
   "outputs": [],
   "source": [
    "##########################\n",
    "# Compute MSR\n",
    "##########################\n",
    "R_col='R_nosavgol'\n",
    "\n",
    "# R_col='R'"
   ]
  },
  {
   "cell_type": "code",
   "execution_count": null,
   "id": "3926c7d9",
   "metadata": {
    "ExecuteTime": {
     "end_time": "2022-06-28T22:25:47.637011Z",
     "start_time": "2022-06-28T22:25:47.637000Z"
    },
    "hidden": true
   },
   "outputs": [],
   "source": [
    "minnumobs=8\n",
    "#fenton karma msr dataframe\n",
    "groups=dfr.groupby('tdeath')\n",
    "tdeath_lst=[]\n",
    "avg_lst=[]\n",
    "stderror_lst=[]\n",
    "sqavg_lst=[]\n",
    "sqstderror_lst=[]\n",
    "count_lst=[]\n",
    "for n,g in groups:\n",
    "    ##DONE: print each tdeath value \n",
    "    # print(n)\n",
    "    gr=g[R_col]\n",
    "    counts=gr.count()#.values\n",
    "    if (minnumobs<=counts).all():\n",
    "        #TODO: compute average and stderror of each group of tdeath\n",
    "        avg=gr.mean()#.values\n",
    "        stddev=gr.std()#.values\n",
    "        stderror=stddev/np.sqrt(counts)\n",
    "        \n",
    "        #TODO: compute squared average\n",
    "        sq=gr**2\n",
    "        sqavg=sq.mean()#.values\n",
    "        sqstddev=sq.std()#.values\n",
    "        sqstderror=sqstddev/np.sqrt(counts)\n",
    "        #record\n",
    "        tdeath_lst.append(n)        \n",
    "        avg_lst.append(avg)\n",
    "        stderror_lst.append(stderror)\n",
    "        sqavg_lst.append(sqavg)\n",
    "        sqstderror_lst.append(sqstderror)\n",
    "        count_lst.append(counts)\n",
    "        \n",
    "#collect each field into a pandas.DataFrame\n",
    "df_msr=pd.DataFrame({\n",
    "    'tdeath':tdeath_lst,\n",
    "    'avg':avg_lst,\n",
    "    'stderror':stderror_lst,  \n",
    "    'sqavg':sqavg_lst,\n",
    "    'sqstderror':sqstderror_lst,  \n",
    "    'counts':count_lst\n",
    "})    "
   ]
  },
  {
   "cell_type": "code",
   "execution_count": null,
   "id": "e9a774d1",
   "metadata": {
    "ExecuteTime": {
     "end_time": "2022-06-28T22:25:47.638137Z",
     "start_time": "2022-06-28T22:25:47.638126Z"
    },
    "hidden": true
   },
   "outputs": [],
   "source": [
    "df_msr.sort_values(by='tdeath',inplace=True)\n",
    "x_values=df_msr['tdeath'].values\n",
    "y_values=df_msr['sqavg'].values**.5\n",
    "yerr_values=df_msr['sqstderror'].values"
   ]
  },
  {
   "cell_type": "code",
   "execution_count": null,
   "id": "85f14ccb",
   "metadata": {
    "ExecuteTime": {
     "end_time": "2022-06-28T22:25:47.639437Z",
     "start_time": "2022-06-28T22:25:47.639402Z"
    },
    "hidden": true
   },
   "outputs": [],
   "source": [
    "xmin=0#.1\n",
    "xmax=150\n",
    "# c='C1'\n",
    "c='k'\n",
    "#plot ^those resulting df_msr versus tdeath\n",
    "plt.plot(x_values,y_values,c=c)\n",
    "plt.fill_between(x_values,y_values-yerr_values,y_values+yerr_values,color=c,alpha=0.5)\n",
    "# plt.plot(x_values_lr,y_values_lr,c='C1')\n",
    "# plt.fill_between(x_values_lr,y_values_lr-yerr_values_lr,y_values_lr+yerr_values_lr,color='C1',alpha=0.5)\n",
    "format_plot(ax=plt.gca(),xlabel=r'$t_f-t$ (ms)',ylabel=r'MSR (cm$^2$)',use_loglog=False)\n",
    "plt.xlim([xmin,xmax])\n",
    "xv=np.linspace(xmin,xmax,100)\n",
    "# plt.plot(xv,xv*4*1.6*1e-3,'C0--',lw=2,alpha=0.7)\n",
    "plt.plot(xv,xv*4*(9.4+2*0.58)*1e-3,'C1--',lw=2,alpha=0.7)\n",
    "# plt.xlim([0,1])\n",
    "plt.ylim([0,2])\n",
    "# plt.ylim([0.5,2])\n",
    "fontsize=16\n",
    "# plt.legend(fontsize=fontsize-4,loc='upper right')\n",
    "plt.title('_Results from Evaluation of the Full Model_\\nDotted Lines indicate the Linear Particle Model with Diffusion\\n',fontsize=fontsize)\n",
    "plt.show()\n",
    "print(f'R_col={R_col}, tavg1={tavg1} ms, tavg2={tavg2} ms')"
   ]
  },
  {
   "cell_type": "code",
   "execution_count": null,
   "id": "f71d1fe0",
   "metadata": {
    "ExecuteTime": {
     "end_time": "2022-06-28T22:25:47.640824Z",
     "start_time": "2022-06-28T22:25:47.640813Z"
    },
    "hidden": true
   },
   "outputs": [],
   "source": [
    "# HINT: was ^that in bgmc?"
   ]
  },
  {
   "cell_type": "code",
   "execution_count": null,
   "id": "49db35c7",
   "metadata": {
    "ExecuteTime": {
     "end_time": "2022-06-28T22:25:47.642107Z",
     "start_time": "2022-06-28T22:25:47.642095Z"
    },
    "hidden": true
   },
   "outputs": [],
   "source": [
    "# #GOAL: compute the msr_values simply without any kind of smoothing, and plot with the computed msr_values\n",
    "# # option 1: turn off smoothing in generation of df\n",
    "# bins=np.arange(0,2000)\n",
    "# tau_values=0.5*(bins[:-1]+bins[1:])\n",
    "# #TODO: bin and bootstrap dfr, as before\n",
    "#TODO: plot the two methods of computing msr_values. compare. share with WJ."
   ]
  },
  {
   "cell_type": "code",
   "execution_count": null,
   "id": "a27cfa5f",
   "metadata": {
    "ExecuteTime": {
     "end_time": "2022-06-28T22:25:47.642918Z",
     "start_time": "2022-06-28T22:25:47.642908Z"
    },
    "hidden": true
   },
   "outputs": [],
   "source": [
    "# #TODO: compute msr_values from df_annihilations, as before, with smoothing\n"
   ]
  },
  {
   "cell_type": "code",
   "execution_count": null,
   "id": "20351f98",
   "metadata": {
    "ExecuteTime": {
     "end_time": "2022-06-28T22:25:47.644395Z",
     "start_time": "2022-06-28T22:25:47.644382Z"
    },
    "hidden": true
   },
   "outputs": [],
   "source": [
    "#DONT: plot the same example R_values with and without smoothing\n",
    "#NOTE: it looks like i didn't use any smoothing"
   ]
  },
  {
   "cell_type": "code",
   "execution_count": null,
   "id": "465fca37",
   "metadata": {
    "ExecuteTime": {
     "end_time": "2022-06-28T22:25:47.645940Z",
     "start_time": "2022-06-28T22:25:47.645911Z"
    },
    "hidden": true
   },
   "outputs": [],
   "source": [
    "# DONE(bonus): FlowerPlot the trajectories before/after smoothing\n",
    "#HINT: unwrap traj, as before\n",
    "# #HINT for unwrapping trajectories\n",
    "# pid_lst = sorted(set(df[pid_col].values))\n",
    "# #(duplicates filtered earlier_ _  _ _ ) filter_duplicate_trajectory_indices is slow (and can probs be accelerated with a sexy pandas one liner)\n",
    "# pid_lst_filtered = pid_lst#filter_duplicate_trajectory_indices(pid_lst,df)\n",
    "# # pid_lst_filtered = filter_duplicate_trajectory_indices(pid_lst,df)\n",
    "# df = pd.concat([unwrap_traj_and_center(df[df[pid_col]==pid], width, height, DS, **kwargs) for pid in pid_lst_filtered])"
   ]
  },
  {
   "cell_type": "code",
   "execution_count": null,
   "id": "56f4cc8e",
   "metadata": {
    "hidden": true
   },
   "outputs": [],
   "source": []
  },
  {
   "cell_type": "code",
   "execution_count": null,
   "id": "f15d98f0",
   "metadata": {
    "ExecuteTime": {
     "end_time": "2022-06-28T22:25:47.647524Z",
     "start_time": "2022-06-28T22:25:47.647511Z"
    },
    "hidden": true
   },
   "outputs": [],
   "source": [
    "#DONE: view trajectories\n",
    "# fig, ax = plt.subplots(figsize=(4,4))\n",
    "# #DONE: plot raw locations\n",
    "# #DONE: plot trajectories\n",
    "# #DONE: plot smoothed trajectories\n",
    "# # df_log.tail(200).plot.scatter(x='x',y='y',c='t',ax=ax)\n",
    "# df.tail(200).plot.scatter(x='x',y='y',c='t',ax=ax)\n",
    "# # traj.tail(200).plot.scatter(x='x',y='y',c='t',ax=ax)\n",
    "# format_plot(ax=ax,xlabel='x (pixels)',ylabel='y (pixels)')\n",
    "# plt.show()\n",
    "\n",
    "#DONE: find annihilation pairs, as before\n",
    "#DONE: compute df_annihilations, as before\n",
    "# #TODO(later): save as .csv\n",
    "##HINT:\n",
    "# log_dir=os.path.abspath(input_fn)+'_log.csv'\n",
    "# df_loc.to_csv(log_dir,index=False)"
   ]
  },
  {
   "cell_type": "code",
   "execution_count": null,
   "id": "dc48c01b",
   "metadata": {
    "ExecuteTime": {
     "end_time": "2022-06-28T22:25:47.648574Z",
     "start_time": "2022-06-28T22:25:47.648563Z"
    },
    "hidden": true
   },
   "outputs": [],
   "source": [
    "#TODO: record\n",
    "#TODO: format output\n",
    "# #(optional) drop all feature columns that are not relevant here\n",
    "# col_drop_lst=set(df.columns).difference(col_keep_lst)\n",
    "# df.drop(columns=col_drop_lst,inplace=True)\n",
    "# if printing:\n",
    "#     print(f\"features dropped: {col_drop_lst}\")\n",
    "#     print(f\"note: ^these can be recovered using the index\")\n",
    "\n",
    "#TODO: save msr_values, as before\n",
    "#TODO: save dfr and df_pairs"
   ]
  },
  {
   "cell_type": "markdown",
   "id": "9815df54",
   "metadata": {
    "heading_collapsed": true
   },
   "source": [
    "# scratchwerk"
   ]
  },
  {
   "cell_type": "code",
   "execution_count": null,
   "id": "0ba2bf27",
   "metadata": {
    "ExecuteTime": {
     "end_time": "2022-06-28T22:25:47.650604Z",
     "start_time": "2022-06-28T22:25:47.650592Z"
    },
    "hidden": true
   },
   "outputs": [],
   "source": [
    "#DONT: # option 2: implement it fresh\n",
    "# #TODO: compute the R_values,tau_values simply without any kind of smoothing, and plot with the computed msr_values\n",
    "# # #TODO: compute smoothed msr, as before\n",
    "# R_lst=[]\n",
    "# tau_lst=[]\n",
    "# for d in df_annihilations.iterrows():\n",
    "#     pass\n",
    "# #for each row of df_annihilations, compute subtract_pbc  \n",
    "# #HINT: subtract the values\n",
    "# # #HINT for subtracting two points\n",
    "# # subtract_pbc=get_subtract_pbc(width=width,height=height)\n",
    "# # w=subtract_pbc(point,segment[0])\n"
   ]
  },
  {
   "cell_type": "code",
   "execution_count": null,
   "id": "0312bf96",
   "metadata": {
    "ExecuteTime": {
     "end_time": "2022-06-28T22:25:47.651782Z",
     "start_time": "2022-06-28T22:25:47.651770Z"
    },
    "hidden": true
   },
   "outputs": [],
   "source": [
    "\n",
    "# #infer filesystem for saving functionally from inputs\n",
    "# trgt='_tavg'\n",
    "# tavg1=float(eval(input_fn[input_fn.find(trgt)+len(trgt):].split('/')[0].split('_')[-1]))\n",
    "# ext = f'_annihilations_denoised.csv'\n",
    "# folder_ext=f'_tavg1_{tavg1}_tavg2_{tavg2}_maxdtmax_{max_dtmax_thresh}_maxRfin_{max_Rfinal_thresh}_mindur_{min_duration_thresh}'\n",
    "# save_fn = os.path.basename(input_fn).replace('.csv', ext)\n",
    "\n",
    "# if save_df_pairs:\n",
    "#     #save df_pairs data from input_fn in dfr\n",
    "#     save_folder = os.path.dirname(\n",
    "#         os.path.dirname(input_fn)\n",
    "#     ) + f'/pairs'+folder_ext\n",
    "#     if not os.path.exists(save_folder):\n",
    "#         os.mkdir(save_folder)\n",
    "#     os.chdir(save_folder)\n",
    "#     df_pairs.reset_index().to_csv(save_fn,index=False)\n",
    "#     # pairs_dir = os.path.join(save_folder, save_fn)\n",
    "#     pairs_dir = os.path.abspath(save_fn)\n",
    "\n",
    "# #save dfr data from input_fn in dfr\n",
    "# save_folder = os.path.dirname(\n",
    "#     os.path.dirname(input_fn)\n",
    "# ) + f'/smoothed_annihilations'+folder_ext\n",
    "# if not os.path.exists(save_folder):\n",
    "#     os.mkdir(save_folder)\n",
    "# os.chdir(save_folder)\n",
    "# dfr.reset_index().to_csv(save_fn,index=False)\n",
    "# # dfr_dir = os.path.join(save_folder, save_fn)\n",
    "# dfr_dir = os.path.abspath(save_fn)"
   ]
  },
  {
   "cell_type": "code",
   "execution_count": null,
   "id": "4c32d60e",
   "metadata": {
    "ExecuteTime": {
     "end_time": "2022-06-28T22:25:47.653265Z",
     "start_time": "2022-06-28T22:25:47.653248Z"
    },
    "hidden": true,
    "run_control": {
     "marked": true
    }
   },
   "outputs": [],
   "source": [
    "#DONE: see if the gpu-accelerated version works, as before\n",
    "#DONT(later): make a cpu version of the unwrapping pipeline \n",
    "#HINT: i have unwrapping working on cpu, not sure about moving_avg_pbc\n",
    "# #DONT: use the gpu version for all these mini-termination events\n",
    "# # from lib.rapids_func.utils.unwrap_and_smooth_cu import apply_unwrap_xy_trajectories_pbc, apply_moving_avg_xy_trajectories\n",
    "# #DONT: move to lib in lib.utils.unwrap_and_smooth.py\n",
    "# def apply_unwrap_xy_trajectories_pbc_serial(df,t_col,pid_col,width,height,**kwargs):\n",
    "#     #now we only have good data...  we can compute moving averages for each particle!\n",
    "#     #allocate memory\n",
    "#     df['dx_unwrap']=0.*df['x']\n",
    "#     df['dy_unwrap']=0.*df['y']\n",
    "#     df['x_unwrap']=df['x']\n",
    "#     df['y_unwrap']=df['y']\n",
    "#     #TODO(optional): reset the index... not needed and ruins reconstruction of dropped columns at the end...  don't do it...\n",
    "#     # df.reset_index(inplace=True)\n",
    "#     #apply unwrapping to x and y\n",
    "#     df['incol']=df['x']\n",
    "#     grouped = df.groupby(pid_col)\n",
    "#     uwargs={'jump_thresh':width/2,\"width\":width}\n",
    "#     df = grouped.apply(unwrapper_pbc,\n",
    "#                                    incols=['incol'],\n",
    "#                                    outcols=dict(outcol=np.float64), kwargs=\n",
    "#                                uwargs)\n",
    "#     df['dx_unwrap']=df['outcol']\n",
    "\n",
    "#     df['incol']=df['y']\n",
    "#     grouped = df.groupby(pid_col)\n",
    "#     uwargs={'jump_thresh':height/2,\"width\":height}\n",
    "#     df = grouped.apply(unwrapper_pbc,\n",
    "#                                    incols=['incol'],\n",
    "#                                    outcols=dict(outcol=np.float64), kwargs=\n",
    "#                                uwargs)\n",
    "#     df['dy_unwrap']=df['outcol']\n",
    "\n",
    "#     df.drop(columns=['incol','outcol'],inplace=True)\n",
    "\n",
    "#     #DONE: confirmed ^that was nontrivial and reasonable looking\n",
    "#     # (df['dx_unwrap']!=0).any(),(df['dy_unwrap']!=0).any()\n",
    "#     # df[df['dx_unwrap']!=0].head()\n",
    "#     # (True,True)\n",
    "\n",
    "#     #aggregte over jumps\n",
    "#     grouped_unwrap=df.groupby(pid_col)\n",
    "\n",
    "#     #aggregate along a given columns in grouped_unwrap\n",
    "#     result=grouped_unwrap[['dx_unwrap','dy_unwrap']].cumsum()\n",
    "\n",
    "#     #map result back onto df using reindexing ninjitsu\n",
    "#     cp_col_lst=['dx_unwrap','dy_unwrap']\n",
    "#     df.reset_index(inplace=True)\n",
    "#     result.reset_index(inplace=True)\n",
    "#     for col in cp_col_lst:\n",
    "#         df[col]=result[col]\n",
    "#     df.set_index('index',inplace=True)\n",
    "\n",
    "#     #compute unwrapped coordinates\n",
    "#     df['x_unwrap']=df['x']+df['dx_unwrap']\n",
    "#     df['y_unwrap']=df['y']+df['dy_unwrap']\n",
    "#     return df\n",
    "\n",
    "# def apply_moving_avg_xy_trajectories_serial(df,t_col,pid_col,navg1,x_col='x_unwrap',y_col='y_unwrap',**kwargs):\n",
    "#     diffx_col='diff'+x_col\n",
    "#     diffy_col='diff'+y_col\n",
    "#     #apply smoothing to x and y after unwrapping\n",
    "#     df['incol']=df[x_col]\n",
    "#     grouped = df.groupby(pid_col)\n",
    "#     if navg1>0:\n",
    "#         mawargs={'win_size':navg1}\n",
    "#         df = grouped.apply(rolling_avg,\n",
    "#                                        incols=['incol'],\n",
    "#                                        outcols=dict(outcol=np.float64), kwargs=\n",
    "#                                    mawargs)\n",
    "#         df[x_col]=df['outcol']\n",
    "\n",
    "#         df['incol']=df[y_col]\n",
    "#         grouped = df.groupby(pid_col)\n",
    "#         df = grouped.apply(rolling_avg,\n",
    "#                                        incols=['incol'],\n",
    "#                                        outcols=dict(outcol=np.float64), kwargs=\n",
    "#                                    mawargs)\n",
    "#         df[y_col]=df['outcol']\n",
    "#     # else:\n",
    "#     #     #perform no moving average if the window is of size zero\n",
    "#     #     pass\n",
    "#     # #drop data that isn't needed anymore\n",
    "#     #DONE: verified that dropping data here doesn't affect the number of final nonnan values\n",
    "#     # df.drop(columns=['incol','outcol'],inplace=True)\n",
    "#     df.dropna(inplace=True)\n",
    "#     # df.head()\n",
    "\n",
    "#     #apply smoothing to x and y after unwrapping\n",
    "#     df['incol']=df[x_col]\n",
    "#     grouped = df.groupby(pid_col)\n",
    "#     mdwargs={'win_size':2}\n",
    "#     df = grouped.apply(rolling_diff,\n",
    "#                                    incols=['incol'],\n",
    "#                                    outcols=dict(outcol=np.float64), kwargs=\n",
    "#                                mdwargs)\n",
    "#     df[diffx_col]=df['outcol']\n",
    "\n",
    "#     df['incol']=df[y_col]\n",
    "#     grouped = df.groupby(pid_col)\n",
    "#     df = grouped.apply(rolling_diff,\n",
    "#                                    incols=['incol'],\n",
    "#                                    outcols=dict(outcol=np.float64), kwargs=\n",
    "#                                mdwargs)\n",
    "#     df[diffy_col]=df['outcol']\n",
    "\n",
    "#     #drop data that isn't needed anymore\n",
    "#     df.drop(columns=['incol','outcol'],inplace=True)\n",
    "#     # df.dropna(inplace=True)\n",
    "\n",
    "#     #compute the naive speed of the unwrapped trajectories in pixels per frame\n",
    "#     df['speed']=cp.sqrt(df[diffx_col]**2+df[diffy_col]**2)#pixels per frame\n",
    "#     # df['speed']=cp.sqrt(df['diffx_unwrap']**2+df['diffy_unwrap']**2)#pixels per frame#*DS/DT*10**3 #cm/s\n",
    "\n",
    "#     # #DONE: test and verify that the largest stepsize in the unwrapped xy is reasonable for both x and y\n",
    "#     # max_speed_values=df.groupby(pid_col)['speed'].max().values\n",
    "#     # plt.hist(max_speed_values.get(),bins=30)\n",
    "#     # plt.xlabel('max pixel displacement between two frames')\n",
    "#     # max_speed_warning=20 #pixels per frame\n",
    "#     # assert ((max_speed_values.get()<max_speed_warning).all())\n",
    "#     # plt.show()\n",
    "#     return df\n",
    "\n",
    "# d = {\"my_label\": Series(['A','B','A','C','D','D','E'])}\n",
    "# df = DataFrame(d)\n",
    "\n",
    "\n",
    "# def as_perc(value, total):\n",
    "#     return value/float(total)\n",
    "\n",
    "# def get_count(values):\n",
    "#     return len(values)\n",
    "\n",
    "# # grouped_count = df.groupby(\"my_label\").my_label.agg(get_count)\n",
    "# grouped = df.groupby(pid_col)\n",
    "# data = grouped.apply(unwrapper_pbc_serial, total=df.my_label.count())\n",
    "\n",
    "# def unwrapper_pbc_serial(incol, jump_thresh, width):\n",
    "#     '''\n",
    "#     Example Usage: for cudf.DataFrame instance\n",
    "#     df['incol']=df['x']\n",
    "#     grouped = df.groupby(pid_col)\n",
    "#     df = grouped.apply_grouped(unwrapper_pbc,\n",
    "#                                    incols=['incol'],\n",
    "#                                    outcols=dict(outcol=np.float64), jump_thresh=width/2)\n",
    "#     df['dx_unwrap']=df['outcol']\n",
    "#     df.head()\n",
    "#     '''\n",
    "\n",
    "# def unwrapper_pbc(incol, outcol, jump_thresh, width):\n",
    "#     '''\n",
    "#     Example Usage: for cudf.DataFrame instance\n",
    "#     df['incol']=df['x']\n",
    "#     grouped = df.groupby(pid_col)\n",
    "#     df = grouped.apply_grouped(unwrapper_pbc,\n",
    "#                                    incols=['incol'],\n",
    "#                                    outcols=dict(outcol=np.float64), jump_thresh=width/2)\n",
    "#     df['dx_unwrap']=df['outcol']\n",
    "#     df.head()\n",
    "#     '''\n",
    "#     e=incol\n",
    "#     de_unwrap=outcol\n",
    "#     #for i in range(cuda.threadIdx.x, len(e), cuda.blockDim.x):\n",
    "#     for i in range(cuda.threadIdx.x, len(e), cuda.blockDim.x):\n",
    "#         de_unwrap[i]=0\n",
    "#         if i>0:\n",
    "#             de=e[i]-e[i-1]\n",
    "#             jump_plus=de<-jump_thresh\n",
    "#             jump_minus=de>jump_thresh\n",
    "#             if jump_plus:\n",
    "#                 de_unwrap[i]=width\n",
    "#             elif jump_minus:\n",
    "#                 de_unwrap[i]=-width"
   ]
  }
 ],
 "metadata": {
  "hide_input": false,
  "kernelspec": {
   "display_name": "Python 3 (ipykernel)",
   "language": "python",
   "name": "python3"
  },
  "language_info": {
   "codemirror_mode": {
    "name": "ipython",
    "version": 3
   },
   "file_extension": ".py",
   "mimetype": "text/x-python",
   "name": "python",
   "nbconvert_exporter": "python",
   "pygments_lexer": "ipython3",
   "version": "3.9.13"
  },
  "latex_envs": {
   "LaTeX_envs_menu_present": true,
   "autoclose": true,
   "autocomplete": false,
   "bibliofile": "biblio.bib",
   "cite_by": "apalike",
   "current_citInitial": 1,
   "eqLabelWithNumbers": false,
   "eqNumInitial": 1,
   "hotkeys": {
    "equation": "Ctrl-E",
    "itemize": "Ctrl-I"
   },
   "labels_anchors": false,
   "latex_user_defs": false,
   "report_style_numbering": false,
   "user_envs_cfg": false
  },
  "nbTranslate": {
   "displayLangs": [
    "*"
   ],
   "hotkey": "alt-t",
   "langInMainMenu": true,
   "sourceLang": "en",
   "targetLang": "fr",
   "useGoogleTranslate": true
  },
  "toc": {
   "base_numbering": 1,
   "nav_menu": {},
   "number_sections": true,
   "sideBar": true,
   "skip_h1_title": false,
   "title_cell": "Table of Contents",
   "title_sidebar": "Contents",
   "toc_cell": false,
   "toc_position": {
    "height": "calc(100% - 180px)",
    "left": "10px",
    "top": "150px",
    "width": "384px"
   },
   "toc_section_display": true,
   "toc_window_display": false
  },
  "varInspector": {
   "cols": {
    "lenName": 16,
    "lenType": 16,
    "lenVar": 40
   },
   "kernels_config": {
    "python": {
     "delete_cmd_postfix": "",
     "delete_cmd_prefix": "del ",
     "library": "var_list.py",
     "varRefreshCmd": "print(var_dic_list())"
    },
    "r": {
     "delete_cmd_postfix": ") ",
     "delete_cmd_prefix": "rm(",
     "library": "var_list.r",
     "varRefreshCmd": "cat(var_dic_list()) "
    }
   },
   "types_to_exclude": [
    "module",
    "function",
    "builtin_function_or_method",
    "instance",
    "_Feature"
   ],
   "window_display": false
  }
 },
 "nbformat": 4,
 "nbformat_minor": 5
}
