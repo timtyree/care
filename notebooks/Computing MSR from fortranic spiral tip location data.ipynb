{
 "cells": [
  {
   "cell_type": "markdown",
   "id": "874d69a8",
   "metadata": {},
   "source": [
    "# Computing MSR from fortranic spiral tip location data\n",
    "Tim Tyree<br>\n",
    "6.25.2022"
   ]
  },
  {
   "cell_type": "code",
   "execution_count": 1,
   "id": "501bfca4",
   "metadata": {
    "ExecuteTime": {
     "end_time": "2022-06-25T17:23:37.666821Z",
     "start_time": "2022-06-25T17:23:37.664338Z"
    }
   },
   "outputs": [],
   "source": [
    "from lib.my_initialization import *"
   ]
  },
  {
   "cell_type": "markdown",
   "id": "1261a81a",
   "metadata": {},
   "source": [
    "# define module"
   ]
  },
  {
   "cell_type": "code",
   "execution_count": 27,
   "id": "3ae5b649",
   "metadata": {
    "ExecuteTime": {
     "end_time": "2022-06-25T17:36:22.843551Z",
     "start_time": "2022-06-25T17:36:22.837615Z"
    }
   },
   "outputs": [],
   "source": [
    "import re\n",
    "\n",
    "def strip_line_to_csv(line):\n",
    "    \"\"\"\n",
    "    Example Usage:\n",
    "str_csv=strip_line_to_csv(line)\n",
    "value_tuple=eval(str_csv)\n",
    "    \"\"\"\n",
    "    str_csv=re.sub(r'\\s+', ',', line.strip())\n",
    "    return str_csv"
   ]
  },
  {
   "cell_type": "code",
   "execution_count": null,
   "id": "c6cc2c9f",
   "metadata": {},
   "outputs": [],
   "source": []
  },
  {
   "cell_type": "markdown",
   "id": "04e96400",
   "metadata": {},
   "source": [
    " # dev of WJ's spiral tip location data for the Luo-Rudy model"
   ]
  },
  {
   "cell_type": "code",
   "execution_count": 7,
   "id": "57bc0762",
   "metadata": {
    "ExecuteTime": {
     "end_time": "2022-06-25T17:26:03.337030Z",
     "start_time": "2022-06-25T17:26:03.332760Z"
    }
   },
   "outputs": [],
   "source": [
    "input_folder=f\"{nb_dir}/Data/from_wjr\"\n",
    "os.chdir(input_folder)\n",
    "# input_fn_lst=os.listdir()\n",
    "# input_fn=input_fnZ_lst[0]\n",
    "input_fn='tippos_per_001'\n",
    "input_dir=os.path.join(input_folder,input_fn)\n"
   ]
  },
  {
   "cell_type": "code",
   "execution_count": 39,
   "id": "f670b2fe",
   "metadata": {
    "ExecuteTime": {
     "end_time": "2022-06-25T17:43:50.046695Z",
     "start_time": "2022-06-25T17:43:50.042795Z"
    }
   },
   "outputs": [],
   "source": [
    "# from itertools import grouper\n",
    "from itertools import zip_longest\n",
    "def grouper(iterable, n, fillvalue=None):\n",
    "    args = [iter(iterable)] * n\n",
    "    return zip_longest(*args, fillvalue=fillvalue)\n"
   ]
  },
  {
   "cell_type": "code",
   "execution_count": 53,
   "id": "ac5e21c5",
   "metadata": {
    "ExecuteTime": {
     "end_time": "2022-06-25T17:53:42.840529Z",
     "start_time": "2022-06-25T17:53:20.410838Z"
    }
   },
   "outputs": [
    {
     "data": {
      "text/html": [
       "<div>\n",
       "<style scoped>\n",
       "    .dataframe tbody tr th:only-of-type {\n",
       "        vertical-align: middle;\n",
       "    }\n",
       "\n",
       "    .dataframe tbody tr th {\n",
       "        vertical-align: top;\n",
       "    }\n",
       "\n",
       "    .dataframe thead th {\n",
       "        text-align: right;\n",
       "    }\n",
       "</style>\n",
       "<table border=\"1\" class=\"dataframe\">\n",
       "  <thead>\n",
       "    <tr style=\"text-align: right;\">\n",
       "      <th></th>\n",
       "      <th>trial_num</th>\n",
       "      <th>t</th>\n",
       "      <th>n</th>\n",
       "      <th>x</th>\n",
       "      <th>y</th>\n",
       "    </tr>\n",
       "  </thead>\n",
       "  <tbody>\n",
       "    <tr>\n",
       "      <th>0</th>\n",
       "      <td>0</td>\n",
       "      <td>1.0</td>\n",
       "      <td>6</td>\n",
       "      <td>6.6</td>\n",
       "      <td>25.8</td>\n",
       "    </tr>\n",
       "    <tr>\n",
       "      <th>1</th>\n",
       "      <td>0</td>\n",
       "      <td>1.0</td>\n",
       "      <td>6</td>\n",
       "      <td>27.2</td>\n",
       "      <td>63.9</td>\n",
       "    </tr>\n",
       "    <tr>\n",
       "      <th>2</th>\n",
       "      <td>0</td>\n",
       "      <td>1.0</td>\n",
       "      <td>6</td>\n",
       "      <td>59.6</td>\n",
       "      <td>199.8</td>\n",
       "    </tr>\n",
       "    <tr>\n",
       "      <th>3</th>\n",
       "      <td>0</td>\n",
       "      <td>1.0</td>\n",
       "      <td>6</td>\n",
       "      <td>60.8</td>\n",
       "      <td>2.6</td>\n",
       "    </tr>\n",
       "    <tr>\n",
       "      <th>4</th>\n",
       "      <td>0</td>\n",
       "      <td>1.0</td>\n",
       "      <td>6</td>\n",
       "      <td>127.5</td>\n",
       "      <td>199.3</td>\n",
       "    </tr>\n",
       "  </tbody>\n",
       "</table>\n",
       "</div>"
      ],
      "text/plain": [
       "   trial_num    t  n      x      y\n",
       "0          0  1.0  6    6.6   25.8\n",
       "1          0  1.0  6   27.2   63.9\n",
       "2          0  1.0  6   59.6  199.8\n",
       "3          0  1.0  6   60.8    2.6\n",
       "4          0  1.0  6  127.5  199.3"
      ]
     },
     "execution_count": 53,
     "metadata": {},
     "output_type": "execute_result"
    }
   ],
   "source": [
    "trial_num=0\n",
    "dict_pos_lst=[]\n",
    "with open(input_dir) as f:\n",
    "    for lines in grouper(f, 3, ''):\n",
    "        assert len(lines) == 3\n",
    "        #process lines\n",
    "        str_csv=strip_line_to_csv(lines[0])\n",
    "        value_tuple=eval(str_csv)\n",
    "        t=value_tuple[0]\n",
    "        n=value_tuple[1]\n",
    "        row3=value_tuple[2]\n",
    "        if n>0:\n",
    "            str_csv=strip_line_to_csv(lines[1])\n",
    "            x_tuple=eval(str_csv)\n",
    "            str_csv=strip_line_to_csv(lines[2])\n",
    "            y_tuple=eval(str_csv)\n",
    "            #record for each position\n",
    "            for x,y in zip(x_tuple,y_tuple):\n",
    "                dict_pos=dict(trial_num=trial_num,t=t,n=n,x=x-1,y=y-1) #-1 makes wj's min position 0 and max ~ width, as i have been using\n",
    "                dict_pos_lst.append(dict_pos)\n",
    "        else:\n",
    "            trial_num+=1\n",
    "df_log=pd.DataFrame(dict_pos_lst)\n",
    "df_log.head()"
   ]
  },
  {
   "cell_type": "code",
   "execution_count": 54,
   "id": "092db547",
   "metadata": {
    "ExecuteTime": {
     "end_time": "2022-06-25T17:53:45.569777Z",
     "start_time": "2022-06-25T17:53:45.134743Z"
    }
   },
   "outputs": [
    {
     "data": {
      "text/plain": [
       "(200.0, 200.0)"
      ]
     },
     "execution_count": 54,
     "metadata": {},
     "output_type": "execute_result"
    }
   ],
   "source": [
    "#TODO: determine width and height of the computational domain\n",
    "DS=0.025\n",
    "DT=1.\n",
    "# df_log.describe().loc['min'][['x','y']]\n",
    "width,height=df_log.describe().loc['max'][['x','y']].values.T\n",
    "width,height\n"
   ]
  },
  {
   "cell_type": "code",
   "execution_count": 47,
   "id": "dbb9cd9d",
   "metadata": {
    "ExecuteTime": {
     "end_time": "2022-06-25T17:49:24.272143Z",
     "start_time": "2022-06-25T17:49:24.254153Z"
    }
   },
   "outputs": [
    {
     "data": {
      "text/html": [
       "<div>\n",
       "<style scoped>\n",
       "    .dataframe tbody tr th:only-of-type {\n",
       "        vertical-align: middle;\n",
       "    }\n",
       "\n",
       "    .dataframe tbody tr th {\n",
       "        vertical-align: top;\n",
       "    }\n",
       "\n",
       "    .dataframe thead th {\n",
       "        text-align: right;\n",
       "    }\n",
       "</style>\n",
       "<table border=\"1\" class=\"dataframe\">\n",
       "  <thead>\n",
       "    <tr style=\"text-align: right;\">\n",
       "      <th></th>\n",
       "      <th>trial_num</th>\n",
       "      <th>t</th>\n",
       "      <th>n</th>\n",
       "      <th>x</th>\n",
       "      <th>y</th>\n",
       "    </tr>\n",
       "  </thead>\n",
       "  <tbody>\n",
       "    <tr>\n",
       "      <th>2481720</th>\n",
       "      <td>640</td>\n",
       "      <td>92.0</td>\n",
       "      <td>4</td>\n",
       "      <td>4.9</td>\n",
       "      <td>155.7</td>\n",
       "    </tr>\n",
       "    <tr>\n",
       "      <th>2481721</th>\n",
       "      <td>640</td>\n",
       "      <td>92.0</td>\n",
       "      <td>4</td>\n",
       "      <td>7.4</td>\n",
       "      <td>159.9</td>\n",
       "    </tr>\n",
       "    <tr>\n",
       "      <th>2481722</th>\n",
       "      <td>640</td>\n",
       "      <td>92.0</td>\n",
       "      <td>4</td>\n",
       "      <td>9.3</td>\n",
       "      <td>153.1</td>\n",
       "    </tr>\n",
       "    <tr>\n",
       "      <th>2481723</th>\n",
       "      <td>640</td>\n",
       "      <td>93.0</td>\n",
       "      <td>2</td>\n",
       "      <td>8.4</td>\n",
       "      <td>155.2</td>\n",
       "    </tr>\n",
       "    <tr>\n",
       "      <th>2481724</th>\n",
       "      <td>640</td>\n",
       "      <td>93.0</td>\n",
       "      <td>2</td>\n",
       "      <td>8.0</td>\n",
       "      <td>156.7</td>\n",
       "    </tr>\n",
       "  </tbody>\n",
       "</table>\n",
       "</div>"
      ],
      "text/plain": [
       "         trial_num     t  n    x      y\n",
       "2481720        640  92.0  4  4.9  155.7\n",
       "2481721        640  92.0  4  7.4  159.9\n",
       "2481722        640  92.0  4  9.3  153.1\n",
       "2481723        640  93.0  2  8.4  155.2\n",
       "2481724        640  93.0  2  8.0  156.7"
      ]
     },
     "execution_count": 47,
     "metadata": {},
     "output_type": "execute_result"
    }
   ],
   "source": [
    "for trial_num,g in df_log.groupby(by='trial_num'):\n",
    "    #TODO: for each group, g\n",
    "    #TODO: compute spiral tip trajectories, as before\n",
    "    #TODO: find annihilation pairs, as before\n",
    "    #TODO: compute smoothed msr, as before"
   ]
  },
  {
   "cell_type": "code",
   "execution_count": null,
   "id": "9b73d12e",
   "metadata": {},
   "outputs": [],
   "source": []
  },
  {
   "cell_type": "code",
   "execution_count": 33,
   "id": "b6bff867",
   "metadata": {
    "ExecuteTime": {
     "end_time": "2022-06-25T17:40:45.214399Z",
     "start_time": "2022-06-25T17:40:45.210132Z"
    }
   },
   "outputs": [
    {
     "name": "stdout",
     "output_type": "stream",
     "text": [
      "     1.0   6   1\n",
      "\n",
      "  7.6  28.2  60.6  61.8 128.5 200.2\n",
      "\n",
      " 26.8  64.9 200.8   3.6 200.3  23.5\n",
      "\n"
     ]
    }
   ],
   "source": [
    "from itertools import islice\n",
    "with open(input_dir, 'r') as infile:\n",
    "    lines_gen = islice(infile, 3)\n",
    "    for line in lines_gen:\n",
    "        print (line)"
   ]
  },
  {
   "cell_type": "code",
   "execution_count": null,
   "id": "5127659a",
   "metadata": {},
   "outputs": [],
   "source": []
  },
  {
   "cell_type": "code",
   "execution_count": null,
   "id": "18f4b520",
   "metadata": {},
   "outputs": [],
   "source": [
    "#TODO: dev pythonic parser\n",
    "with open(input_dir) as f:\n",
    "    Lines = f.readlines(3)\n",
    "    str_csv=strip_line_to_csv(Lines[0])\n",
    "    value_tuple=eval(str_csv)\n",
    "    str_csv=strip_line_to_csv(Lines[1])\n",
    "    x_tuple=eval(str_csv)\n",
    "    str_csv=strip_line_to_csv(Lines[2])\n",
    "    y_tuple=eval(str_csv)\n",
    "\n",
    "    for line in Lines:\n",
    "        count += 1\n",
    "        print(\"Line{}: {}\".format(count, line.strip()))"
   ]
  },
  {
   "cell_type": "code",
   "execution_count": 11,
   "id": "aa455557",
   "metadata": {
    "ExecuteTime": {
     "end_time": "2022-06-25T17:29:10.696058Z",
     "start_time": "2022-06-25T17:29:10.690539Z"
    }
   },
   "outputs": [
    {
     "name": "stdout",
     "output_type": "stream",
     "text": [
      "Line1: 1.0   6   1\n",
      "Line2: 7.6  28.2  60.6  61.8 128.5 200.2\n",
      "Line3: 26.8  64.9 200.8   3.6 200.3  23.5\n",
      "Line4: 2.0   4   6\n",
      "Line5: 7.3  28.6 130.7 199.6\n",
      "Line6: 27.1  66.1 200.1  25.0\n",
      "Line7: 3.0   4   4\n",
      "Line8: 7.6  28.8 132.8 199.1\n",
      "Line9: 26.6  67.2 199.9  26.4\n",
      "Line10: 4.0   4   4\n",
      "Line11: 7.6  29.0 134.8 198.7\n"
     ]
    }
   ],
   "source": [
    "#TODO: dev pythonic parser\n",
    "with open(input_dir) as f:\n",
    "    count = 0\n",
    "    max_count=10\n",
    "    for line in f:\n",
    "        count += 1\n",
    "        print(\"Line{}: {}\".format(count, line.strip()))\n",
    "        if count>max_count:\n",
    "            break\n",
    "            "
   ]
  },
  {
   "cell_type": "code",
   "execution_count": 17,
   "id": "f42ebaa5",
   "metadata": {
    "ExecuteTime": {
     "end_time": "2022-06-25T17:30:29.133494Z",
     "start_time": "2022-06-25T17:30:29.129369Z"
    }
   },
   "outputs": [
    {
     "data": {
      "text/plain": [
       "'7.6,29.0 134.8 198.7'"
      ]
     },
     "execution_count": 17,
     "metadata": {},
     "output_type": "execute_result"
    }
   ],
   "source": [
    "#TODO: wrap pythonic parser to foo\n",
    "line.strip().replace('  ',',')"
   ]
  },
  {
   "cell_type": "code",
   "execution_count": 20,
   "id": "95bc7c06",
   "metadata": {
    "ExecuteTime": {
     "end_time": "2022-06-25T17:31:10.334549Z",
     "start_time": "2022-06-25T17:31:10.330696Z"
    }
   },
   "outputs": [
    {
     "data": {
      "text/plain": [
       "'7.6  29.0 134.8 198.7'"
      ]
     },
     "execution_count": 20,
     "metadata": {},
     "output_type": "execute_result"
    }
   ],
   "source": [
    "line.strip()"
   ]
  },
  {
   "cell_type": "code",
   "execution_count": null,
   "id": "c3ab2d5c",
   "metadata": {},
   "outputs": [],
   "source": []
  }
 ],
 "metadata": {
  "hide_input": false,
  "kernelspec": {
   "display_name": "Python 3 (ipykernel)",
   "language": "python",
   "name": "python3"
  },
  "language_info": {
   "codemirror_mode": {
    "name": "ipython",
    "version": 3
   },
   "file_extension": ".py",
   "mimetype": "text/x-python",
   "name": "python",
   "nbconvert_exporter": "python",
   "pygments_lexer": "ipython3",
   "version": "3.9.5"
  },
  "nbTranslate": {
   "displayLangs": [
    "*"
   ],
   "hotkey": "alt-t",
   "langInMainMenu": true,
   "sourceLang": "en",
   "targetLang": "fr",
   "useGoogleTranslate": true
  },
  "toc": {
   "base_numbering": 1,
   "nav_menu": {},
   "number_sections": true,
   "sideBar": true,
   "skip_h1_title": false,
   "title_cell": "Table of Contents",
   "title_sidebar": "Contents",
   "toc_cell": false,
   "toc_position": {},
   "toc_section_display": true,
   "toc_window_display": false
  }
 },
 "nbformat": 4,
 "nbformat_minor": 5
}
