{
 "cells": [
  {
   "cell_type": "markdown",
   "id": "874d69a8",
   "metadata": {},
   "source": [
    "# Computing MSR from fortranic spiral tip location data\n",
    "Tim Tyree<br>\n",
    "6.25.2022"
   ]
  },
  {
   "cell_type": "code",
   "execution_count": 4,
   "id": "501bfca4",
   "metadata": {
    "ExecuteTime": {
     "end_time": "2022-06-28T02:04:03.775129Z",
     "start_time": "2022-06-28T02:04:02.896423Z"
    }
   },
   "outputs": [],
   "source": [
    "from lib.my_initialization import *"
   ]
  },
  {
   "cell_type": "code",
   "execution_count": 24,
   "id": "78c12441",
   "metadata": {
    "ExecuteTime": {
     "end_time": "2022-06-28T02:20:04.213925Z",
     "start_time": "2022-06-28T02:20:04.209012Z"
    }
   },
   "outputs": [],
   "source": [
    "os.chdir(nb_dir)\n",
    "from lib import *"
   ]
  },
  {
   "cell_type": "code",
   "execution_count": 98,
   "id": "87444ef7",
   "metadata": {
    "ExecuteTime": {
     "end_time": "2022-06-28T03:17:20.471092Z",
     "start_time": "2022-06-28T03:17:20.423461Z"
    }
   },
   "outputs": [],
   "source": [
    "import seaborn as sns\n",
    "import matplotlib.ticker as mtick\n",
    "#reset matplotlib settings\n",
    "import matplotlib as mpl\n",
    "sns.reset_orig()\n",
    "mpl.rc_file_defaults()"
   ]
  },
  {
   "cell_type": "markdown",
   "id": "1261a81a",
   "metadata": {},
   "source": [
    "# define module"
   ]
  },
  {
   "cell_type": "code",
   "execution_count": 6,
   "id": "3ae5b649",
   "metadata": {
    "ExecuteTime": {
     "end_time": "2022-06-28T02:04:13.636856Z",
     "start_time": "2022-06-28T02:04:13.627830Z"
    }
   },
   "outputs": [],
   "source": [
    "import re\n",
    "\n",
    "def strip_line_to_csv(line):\n",
    "    \"\"\"\n",
    "    Example Usage:\n",
    "str_csv=strip_line_to_csv(line)\n",
    "value_tuple=eval(str_csv)\n",
    "    \"\"\"\n",
    "    str_csv=re.sub(r'\\s+', ',', line.strip())\n",
    "    return str_csv"
   ]
  },
  {
   "cell_type": "code",
   "execution_count": 9,
   "id": "f670b2fe",
   "metadata": {
    "ExecuteTime": {
     "end_time": "2022-06-28T02:04:35.218089Z",
     "start_time": "2022-06-28T02:04:35.212958Z"
    }
   },
   "outputs": [],
   "source": [
    "from itertools import zip_longest\n",
    "def grouper(iterable, n, fillvalue=None):\n",
    "    args = [iter(iterable)] * n\n",
    "    return zip_longest(*args, fillvalue=fillvalue)"
   ]
  },
  {
   "cell_type": "code",
   "execution_count": null,
   "id": "c6cc2c9f",
   "metadata": {},
   "outputs": [],
   "source": []
  },
  {
   "cell_type": "markdown",
   "id": "04e96400",
   "metadata": {},
   "source": [
    " # dev of WJ's spiral tip location data for the Luo-Rudy model"
   ]
  },
  {
   "cell_type": "code",
   "execution_count": 7,
   "id": "57bc0762",
   "metadata": {
    "ExecuteTime": {
     "end_time": "2022-06-28T02:04:16.378899Z",
     "start_time": "2022-06-28T02:04:16.376350Z"
    }
   },
   "outputs": [],
   "source": [
    "input_folder=f\"{nb_dir}/Data/from_wjr\"\n",
    "os.chdir(input_folder)\n",
    "# input_fn_lst=os.listdir()\n",
    "# input_fn=input_fnZ_lst[0]\n",
    "input_fn='tippos_per_001'\n",
    "input_dir=os.path.join(input_folder,input_fn)\n"
   ]
  },
  {
   "cell_type": "code",
   "execution_count": 10,
   "id": "ac5e21c5",
   "metadata": {
    "ExecuteTime": {
     "end_time": "2022-06-28T02:05:02.118687Z",
     "start_time": "2022-06-28T02:04:44.178322Z"
    }
   },
   "outputs": [
    {
     "data": {
      "text/html": [
       "<div>\n",
       "<style scoped>\n",
       "    .dataframe tbody tr th:only-of-type {\n",
       "        vertical-align: middle;\n",
       "    }\n",
       "\n",
       "    .dataframe tbody tr th {\n",
       "        vertical-align: top;\n",
       "    }\n",
       "\n",
       "    .dataframe thead th {\n",
       "        text-align: right;\n",
       "    }\n",
       "</style>\n",
       "<table border=\"1\" class=\"dataframe\">\n",
       "  <thead>\n",
       "    <tr style=\"text-align: right;\">\n",
       "      <th></th>\n",
       "      <th>trial_num</th>\n",
       "      <th>t</th>\n",
       "      <th>n</th>\n",
       "      <th>x</th>\n",
       "      <th>y</th>\n",
       "    </tr>\n",
       "  </thead>\n",
       "  <tbody>\n",
       "    <tr>\n",
       "      <th>0</th>\n",
       "      <td>0</td>\n",
       "      <td>1.0</td>\n",
       "      <td>6</td>\n",
       "      <td>6.6</td>\n",
       "      <td>25.8</td>\n",
       "    </tr>\n",
       "    <tr>\n",
       "      <th>1</th>\n",
       "      <td>0</td>\n",
       "      <td>1.0</td>\n",
       "      <td>6</td>\n",
       "      <td>27.2</td>\n",
       "      <td>63.9</td>\n",
       "    </tr>\n",
       "    <tr>\n",
       "      <th>2</th>\n",
       "      <td>0</td>\n",
       "      <td>1.0</td>\n",
       "      <td>6</td>\n",
       "      <td>59.6</td>\n",
       "      <td>199.8</td>\n",
       "    </tr>\n",
       "    <tr>\n",
       "      <th>3</th>\n",
       "      <td>0</td>\n",
       "      <td>1.0</td>\n",
       "      <td>6</td>\n",
       "      <td>60.8</td>\n",
       "      <td>2.6</td>\n",
       "    </tr>\n",
       "    <tr>\n",
       "      <th>4</th>\n",
       "      <td>0</td>\n",
       "      <td>1.0</td>\n",
       "      <td>6</td>\n",
       "      <td>127.5</td>\n",
       "      <td>199.3</td>\n",
       "    </tr>\n",
       "  </tbody>\n",
       "</table>\n",
       "</div>"
      ],
      "text/plain": [
       "   trial_num    t  n      x      y\n",
       "0          0  1.0  6    6.6   25.8\n",
       "1          0  1.0  6   27.2   63.9\n",
       "2          0  1.0  6   59.6  199.8\n",
       "3          0  1.0  6   60.8    2.6\n",
       "4          0  1.0  6  127.5  199.3"
      ]
     },
     "execution_count": 10,
     "metadata": {},
     "output_type": "execute_result"
    }
   ],
   "source": [
    "#read in fortranic spiral tip locations\n",
    "trial_num=0\n",
    "dict_pos_lst=[]\n",
    "with open(input_dir) as f:\n",
    "    for lines in grouper(f, 3, ''):\n",
    "        assert len(lines) == 3\n",
    "        #process lines\n",
    "        str_csv=strip_line_to_csv(lines[0])\n",
    "        value_tuple=eval(str_csv)\n",
    "        t=value_tuple[0]\n",
    "        n=value_tuple[1]\n",
    "        row3=value_tuple[2]\n",
    "        if n>0:\n",
    "            str_csv=strip_line_to_csv(lines[1])\n",
    "            x_tuple=eval(str_csv)\n",
    "            str_csv=strip_line_to_csv(lines[2])\n",
    "            y_tuple=eval(str_csv)\n",
    "            #record for each position\n",
    "            for x,y in zip(x_tuple,y_tuple):\n",
    "                dict_pos=dict(trial_num=trial_num,t=t,n=n,x=x-1,y=y-1) #-1 makes wj's min position 0 and max ~ width, as i have been using\n",
    "                dict_pos_lst.append(dict_pos)\n",
    "        else:\n",
    "            trial_num+=1\n",
    "df_log=pd.DataFrame(dict_pos_lst)\n",
    "df_log.head()"
   ]
  },
  {
   "cell_type": "code",
   "execution_count": 16,
   "id": "14fdd47e",
   "metadata": {
    "ExecuteTime": {
     "end_time": "2022-06-28T02:06:50.852881Z",
     "start_time": "2022-06-28T02:06:46.495438Z"
    }
   },
   "outputs": [],
   "source": [
    "#DONE: save as .csv\n",
    "log_dir=os.path.abspath(input_fn)+'_log.csv'\n",
    "df_log.to_csv(log_dir,index=False)"
   ]
  },
  {
   "cell_type": "code",
   "execution_count": 25,
   "id": "c8fdade7",
   "metadata": {
    "ExecuteTime": {
     "end_time": "2022-06-28T02:20:13.591232Z",
     "start_time": "2022-06-28T02:20:13.587949Z"
    }
   },
   "outputs": [
    {
     "data": {
      "text/plain": [
       "<function lib.routines.dag_log_to_msd.run_routine_log_to_unwrapped_trajectory(input_file_name, sr, mem, L, use_cache, DS=0.025, **kwargs)>"
      ]
     },
     "execution_count": 25,
     "metadata": {},
     "output_type": "execute_result"
    }
   ],
   "source": [
    "#TODO: modify run_routine_log_to_unwrapped_trajectory to output traj here and take df_log\n",
    "#input: df_log\n",
    "#output: traj\n",
    "run_routine_log_to_unwrapped_trajectory"
   ]
  },
  {
   "cell_type": "code",
   "execution_count": 36,
   "id": "092db547",
   "metadata": {
    "ExecuteTime": {
     "end_time": "2022-06-28T02:32:31.847004Z",
     "start_time": "2022-06-28T02:32:31.311313Z"
    }
   },
   "outputs": [
    {
     "name": "stdout",
     "output_type": "stream",
     "text": [
      "         x      y\n",
      "min    0.0    0.0\n",
      "max  200.0  200.0\n",
      "width=200.0,height=200.0\n"
     ]
    }
   ],
   "source": [
    "#TODO: determine width and height of the computational domain input the discretization\n",
    "DS=0.025\n",
    "DT=1.\n",
    "ds=DS*width #cm for the whole domain\n",
    "width,height=df_log.describe().loc['max'][['x','y']].values.T\n",
    "printing=True\n",
    "if printing:\n",
    "    print(df_log.describe().loc[['min','max']][['x','y']])\n",
    "    print(f\"{width=},{height=}\")"
   ]
  },
  {
   "cell_type": "code",
   "execution_count": 37,
   "id": "dbb9cd9d",
   "metadata": {
    "ExecuteTime": {
     "end_time": "2022-06-28T02:33:31.998768Z",
     "start_time": "2022-06-28T02:33:31.988915Z"
    }
   },
   "outputs": [],
   "source": [
    "#TODO: compute spiral tip trajectories, as before\n",
    "tmin=df_log['t'].min()\n",
    "sr=3*width\n",
    "mem=0\n",
    "groups=df_log.groupby(by='trial_num')"
   ]
  },
  {
   "cell_type": "code",
   "execution_count": 45,
   "id": "8abdcd20",
   "metadata": {
    "ExecuteTime": {
     "end_time": "2022-06-28T02:35:25.054371Z",
     "start_time": "2022-06-28T02:35:24.967569Z"
    }
   },
   "outputs": [],
   "source": [
    "task_lst=[]\n",
    "for trial_num,g in groups:\n",
    "    #TODO: for each group, g\n",
    "    pass\n",
    "    task_lst.append(g)"
   ]
  },
  {
   "cell_type": "code",
   "execution_count": null,
   "id": "e3a675e1",
   "metadata": {},
   "outputs": [],
   "source": []
  },
  {
   "cell_type": "code",
   "execution_count": 47,
   "id": "c3ab2d5c",
   "metadata": {
    "ExecuteTime": {
     "end_time": "2022-06-28T02:35:58.209199Z",
     "start_time": "2022-06-28T02:35:56.938611Z"
    }
   },
   "outputs": [
    {
     "name": "stdout",
     "output_type": "stream",
     "text": [
      "Frame 92: 1 trajectories present.\n"
     ]
    }
   ],
   "source": [
    "#TODO: find the mem, sr, that i used before\n",
    "#TODO: generate tip tracks using pbc\n",
    "traj = compute_track_tips_pbc(g, mem=mem, sr=sr, width=width, height=height)\n",
    "#test max times agree\n",
    "assert g['t'].max()==traj['t'].max()\n",
    "##HINT:\n",
    "# log_dir=os.path.abspath(input_fn)+'_log.csv'\n",
    "# df_loc.to_csv(log_dir,index=False)"
   ]
  },
  {
   "cell_type": "code",
   "execution_count": 54,
   "id": "f60d67d4",
   "metadata": {
    "ExecuteTime": {
     "end_time": "2022-06-28T02:39:05.390514Z",
     "start_time": "2022-06-28T02:39:05.361362Z"
    }
   },
   "outputs": [
    {
     "name": "stdout",
     "output_type": "stream",
     "text": [
      "termination time was 93.00 ms\n",
      "printing summary stats on particle lifetimes:\n",
      "count    16.000000\n",
      "mean     17.062500\n",
      "std      24.076181\n",
      "min      -0.000000\n",
      "25%       0.750000\n",
      "50%       6.000000\n",
      "75%      21.250000\n",
      "max      59.000000\n",
      "Name: min, dtype: float64\n",
      "\n",
      "Please make a manual decision about minimum_lifetime, crop_start_by, and crop_end_by\n"
     ]
    }
   ],
   "source": [
    "#TODO: compute the lifetimes\n",
    "pid_col='particle'\n",
    "t_col='t'\n",
    "#print summary stats on particle lifetimes for one input folder\n",
    "dft=traj.groupby(pid_col)[t_col].describe()\n",
    "df_lifetimes=-dft[['max','min']].T.diff().loc['min']\n",
    "print(f\"termination time was {traj[t_col].max():.2f} ms\")\n",
    "print(f\"printing summary stats on particle lifetimes:\")\n",
    "print(df_lifetimes.describe())\n",
    "# print(df_lifetimes.head(10))\n",
    "print(\"\\nPlease make a manual decision about minimum_lifetime, crop_start_by, and crop_end_by\")"
   ]
  },
  {
   "cell_type": "code",
   "execution_count": 59,
   "id": "06110572",
   "metadata": {
    "ExecuteTime": {
     "end_time": "2022-06-28T02:43:22.023658Z",
     "start_time": "2022-06-28T02:43:22.011393Z"
    }
   },
   "outputs": [
    {
     "data": {
      "text/plain": [
       "True"
      ]
     },
     "execution_count": 59,
     "metadata": {},
     "output_type": "execute_result"
    }
   ],
   "source": [
    "#src: http://localhost:8890/notebooks/Processing%20a%20Folder%20of%20Tip%20Logs.ipynb\n",
    "#TODO: see what happens when i turn this off\n",
    "#TODO: see what happens when i turn other things off\n",
    "minimum_lifetime=300. #ms\n",
    "crop_start_by=0#40\n",
    "crop_end_by=150#40\n",
    "df_lifetime.head()"
   ]
  },
  {
   "cell_type": "code",
   "execution_count": 64,
   "id": "b737ce88",
   "metadata": {
    "ExecuteTime": {
     "end_time": "2022-06-28T02:56:20.830525Z",
     "start_time": "2022-06-28T02:56:20.827846Z"
    }
   },
   "outputs": [],
   "source": [
    "# unwrap_trajectories\n",
    "jump_thresh=np.min((width,height))/2\n",
    "pid_lst = sorted(set(traj[pid_col].values))"
   ]
  },
  {
   "cell_type": "code",
   "execution_count": 74,
   "id": "c2066661",
   "metadata": {
    "ExecuteTime": {
     "end_time": "2022-06-28T03:01:56.664630Z",
     "start_time": "2022-06-28T03:01:56.654326Z"
    }
   },
   "outputs": [],
   "source": [
    "jump_thresh=190"
   ]
  },
  {
   "cell_type": "code",
   "execution_count": 79,
   "id": "92558e10",
   "metadata": {
    "ExecuteTime": {
     "end_time": "2022-06-28T03:06:40.742764Z",
     "start_time": "2022-06-28T03:06:39.417986Z"
    }
   },
   "outputs": [
    {
     "data": {
      "text/html": [
       "<div>\n",
       "<style scoped>\n",
       "    .dataframe tbody tr th:only-of-type {\n",
       "        vertical-align: middle;\n",
       "    }\n",
       "\n",
       "    .dataframe tbody tr th {\n",
       "        vertical-align: top;\n",
       "    }\n",
       "\n",
       "    .dataframe thead th {\n",
       "        text-align: right;\n",
       "    }\n",
       "</style>\n",
       "<table border=\"1\" class=\"dataframe\">\n",
       "  <thead>\n",
       "    <tr style=\"text-align: right;\">\n",
       "      <th></th>\n",
       "      <th>trial_num</th>\n",
       "      <th>t</th>\n",
       "      <th>n</th>\n",
       "      <th>x</th>\n",
       "      <th>y</th>\n",
       "      <th>frame</th>\n",
       "      <th>particle</th>\n",
       "    </tr>\n",
       "  </thead>\n",
       "  <tbody>\n",
       "    <tr>\n",
       "      <th>2481435</th>\n",
       "      <td>640</td>\n",
       "      <td>1.0</td>\n",
       "      <td>12</td>\n",
       "      <td>0.0</td>\n",
       "      <td>0.0</td>\n",
       "      <td>0</td>\n",
       "      <td>0</td>\n",
       "    </tr>\n",
       "    <tr>\n",
       "      <th>2481436</th>\n",
       "      <td>640</td>\n",
       "      <td>1.0</td>\n",
       "      <td>12</td>\n",
       "      <td>0.0</td>\n",
       "      <td>0.0</td>\n",
       "      <td>0</td>\n",
       "      <td>1</td>\n",
       "    </tr>\n",
       "    <tr>\n",
       "      <th>2481437</th>\n",
       "      <td>640</td>\n",
       "      <td>1.0</td>\n",
       "      <td>12</td>\n",
       "      <td>0.0</td>\n",
       "      <td>0.0</td>\n",
       "      <td>0</td>\n",
       "      <td>2</td>\n",
       "    </tr>\n",
       "    <tr>\n",
       "      <th>2481448</th>\n",
       "      <td>640</td>\n",
       "      <td>2.0</td>\n",
       "      <td>8</td>\n",
       "      <td>0.0</td>\n",
       "      <td>-199.2</td>\n",
       "      <td>1</td>\n",
       "      <td>2</td>\n",
       "    </tr>\n",
       "    <tr>\n",
       "      <th>2481456</th>\n",
       "      <td>640</td>\n",
       "      <td>3.0</td>\n",
       "      <td>6</td>\n",
       "      <td>0.0</td>\n",
       "      <td>-398.3</td>\n",
       "      <td>2</td>\n",
       "      <td>2</td>\n",
       "    </tr>\n",
       "  </tbody>\n",
       "</table>\n",
       "</div>"
      ],
      "text/plain": [
       "         trial_num    t   n    x      y  frame  particle\n",
       "2481435        640  1.0  12  0.0    0.0      0         0\n",
       "2481436        640  1.0  12  0.0    0.0      0         1\n",
       "2481437        640  1.0  12  0.0    0.0      0         2\n",
       "2481448        640  2.0   8  0.0 -199.2      1         2\n",
       "2481456        640  3.0   6  0.0 -398.3      2         2"
      ]
     },
     "execution_count": 79,
     "metadata": {},
     "output_type": "execute_result"
    }
   ],
   "source": [
    "#unwrap trajectories indexed by pid_col\n",
    "round_t_to_n_digits=7\n",
    "df_traj = pd.concat([unwrap_traj_and_center(traj[traj[pid_col]==pid].copy(), width, height, DS) for pid in pid_lst])\n",
    "df_traj[t_col] = df_traj[t_col].round(round_t_to_n_digits)\n",
    "df_traj.head()"
   ]
  },
  {
   "cell_type": "code",
   "execution_count": 87,
   "id": "e9414c41",
   "metadata": {
    "ExecuteTime": {
     "end_time": "2022-06-28T03:11:35.263016Z",
     "start_time": "2022-06-28T03:11:35.258105Z"
    }
   },
   "outputs": [],
   "source": [
    "# df_traj[df_traj['frame']==0]\n",
    "def FlowerPlot(df_traj,pid_lst,**kwargs):\n",
    "    pass"
   ]
  },
  {
   "cell_type": "code",
   "execution_count": 99,
   "id": "939fee90",
   "metadata": {
    "ExecuteTime": {
     "end_time": "2022-06-28T03:17:37.267869Z",
     "start_time": "2022-06-28T03:17:37.022438Z"
    }
   },
   "outputs": [
    {
     "data": {
      "image/png": "[encoded data removed]",
      "text/plain": [
       "<Figure size 800x800 with 1 Axes>"
      ]
     },
     "metadata": {},
     "output_type": "display_data"
    }
   ],
   "source": [
    "c_col=\"t\"\n",
    "width=200\n",
    "height=200\n",
    "fontsize=24\n",
    "DS = 5/200\n",
    "DT=1.\n",
    "alpha=1\n",
    "cmap=\"Blues\"\n",
    "\n",
    "fig, ax = plt.subplots(figsize=(8,8))\n",
    "for pid in  pid_lst:#[2:]:\n",
    "    x_values ,y_values, c_values = df_traj[(df_traj.particle==pid)][['x','y', c_col]].values.T.copy()\n",
    "    #scale to real coords\n",
    "    x_values *= DS\n",
    "    y_values *= DS\n",
    "    plt.scatter(x_values,y_values, s=20,#s=0.1\n",
    "                c=c_values, vmin = np.min(c_values), vmax = np.max(c_values), cmap=cmap,alpha=alpha)#, **kwargs)\n",
    "    plt.scatter([x_values[0]],[y_values[0]], s=600,color='green',marker='*',alpha=0.7)\n",
    "    plt.scatter([x_values[-1]],[y_values[-1]], s=600,color='red',marker='*',alpha=0.7)\n",
    "# format_plot\n",
    "ax.set_xlabel('x (cm)', fontsize=fontsize)\n",
    "ax.set_ylabel('y (cm)', fontsize=fontsize)\n",
    "# We change the fontsize of minor ticks label\n",
    "ax.tick_params(axis='both', which='major', labelsize=fontsize)\n",
    "ax.tick_params(axis='both', which='minor', labelsize=0)\n",
    "ax.grid('on')\n",
    "ax.set_aspect('equal')\n",
    "plt.show()\n",
    "#heretim"
   ]
  },
  {
   "cell_type": "code",
   "execution_count": 91,
   "id": "ec9d5aee",
   "metadata": {
    "ExecuteTime": {
     "end_time": "2022-06-28T03:14:34.902193Z",
     "start_time": "2022-06-28T03:14:34.899930Z"
    }
   },
   "outputs": [],
   "source": [
    "# ax=PlotFlowerTrajectories(df,col=\"t\",width=200,height=200,fontsize=24,DS = 5/200, DT=1., jump_thresh=10., alpha=0.01,saving = False, savefig_folder=None,savefig_fn=None, chop_at_first_jump = True, ax=None,cmap=\"Blues\")#, **kwargs)"
   ]
  },
  {
   "cell_type": "code",
   "execution_count": 80,
   "id": "9b73d12e",
   "metadata": {
    "ExecuteTime": {
     "end_time": "2022-06-28T03:06:57.314632Z",
     "start_time": "2022-06-28T03:06:57.312256Z"
    },
    "run_control": {
     "marked": true
    }
   },
   "outputs": [],
   "source": [
    "#DONT: truncate trajectories to their first apparent jump (pbc jumps should have been removed already)\n",
    "# df = pd.concat([unwrap_traj_and_center(traj[traj[pid_col]==pid].copy(), width, height, DS) for pid in pid_lst])\n",
    "# #truncate trajectories to their first apparent jump (pbc jumps should have been removed already)\n",
    "# df_lst = []\n",
    "# for pid in  pid_lst:#[2:]:\n",
    "#     d = df[(df.particle==pid)].copy()\n",
    "#     x_values, y_values = d[['x','y']].values.T\n",
    "#     index_values = d.index.values.T\n",
    "#     jump_index_array, spd_lst = find_jumps(x_values, y_values, \n",
    "#                                            width=width, height=height, \n",
    "#                                            DS=DS,DT=DT, jump_thresh=jump_thresh)#, **kwargs)#.25)\n",
    "#     if len(jump_index_array)>0:\n",
    "#         print(f\"jump for {pid=}!  {np.max(spd_lst)=:.4f}\")\n",
    "# #         ji = jump_index_array[0]\n",
    "# #         d.drop(index=index_values[ji:], inplace=True)\n",
    "#     df_lst.append(d)\n",
    "# df_traj = pd.concat(df_lst)\n",
    "# df_traj['t'] = df_traj.t.round(round_t_to_n_digits)"
   ]
  },
  {
   "cell_type": "code",
   "execution_count": 76,
   "id": "029d97ce",
   "metadata": {
    "ExecuteTime": {
     "end_time": "2022-06-28T03:03:45.049226Z",
     "start_time": "2022-06-28T03:03:45.039308Z"
    }
   },
   "outputs": [
    {
     "data": {
      "text/html": [
       "<div>\n",
       "<style scoped>\n",
       "    .dataframe tbody tr th:only-of-type {\n",
       "        vertical-align: middle;\n",
       "    }\n",
       "\n",
       "    .dataframe tbody tr th {\n",
       "        vertical-align: top;\n",
       "    }\n",
       "\n",
       "    .dataframe thead th {\n",
       "        text-align: right;\n",
       "    }\n",
       "</style>\n",
       "<table border=\"1\" class=\"dataframe\">\n",
       "  <thead>\n",
       "    <tr style=\"text-align: right;\">\n",
       "      <th></th>\n",
       "      <th>trial_num</th>\n",
       "      <th>t</th>\n",
       "      <th>n</th>\n",
       "      <th>x</th>\n",
       "      <th>y</th>\n",
       "      <th>frame</th>\n",
       "      <th>particle</th>\n",
       "    </tr>\n",
       "  </thead>\n",
       "  <tbody>\n",
       "    <tr>\n",
       "      <th>2481435</th>\n",
       "      <td>640</td>\n",
       "      <td>1.0</td>\n",
       "      <td>12</td>\n",
       "      <td>0.0</td>\n",
       "      <td>0.0</td>\n",
       "      <td>0</td>\n",
       "      <td>0</td>\n",
       "    </tr>\n",
       "    <tr>\n",
       "      <th>2481436</th>\n",
       "      <td>640</td>\n",
       "      <td>1.0</td>\n",
       "      <td>12</td>\n",
       "      <td>0.0</td>\n",
       "      <td>0.0</td>\n",
       "      <td>0</td>\n",
       "      <td>1</td>\n",
       "    </tr>\n",
       "    <tr>\n",
       "      <th>2481437</th>\n",
       "      <td>640</td>\n",
       "      <td>1.0</td>\n",
       "      <td>12</td>\n",
       "      <td>0.0</td>\n",
       "      <td>0.0</td>\n",
       "      <td>0</td>\n",
       "      <td>2</td>\n",
       "    </tr>\n",
       "    <tr>\n",
       "      <th>2481448</th>\n",
       "      <td>640</td>\n",
       "      <td>2.0</td>\n",
       "      <td>8</td>\n",
       "      <td>0.0</td>\n",
       "      <td>-199.2</td>\n",
       "      <td>1</td>\n",
       "      <td>2</td>\n",
       "    </tr>\n",
       "    <tr>\n",
       "      <th>2481456</th>\n",
       "      <td>640</td>\n",
       "      <td>3.0</td>\n",
       "      <td>6</td>\n",
       "      <td>0.0</td>\n",
       "      <td>-398.3</td>\n",
       "      <td>2</td>\n",
       "      <td>2</td>\n",
       "    </tr>\n",
       "  </tbody>\n",
       "</table>\n",
       "</div>"
      ],
      "text/plain": [
       "         trial_num    t   n    x      y  frame  particle\n",
       "2481435        640  1.0  12  0.0    0.0      0         0\n",
       "2481436        640  1.0  12  0.0    0.0      0         1\n",
       "2481437        640  1.0  12  0.0    0.0      0         2\n",
       "2481448        640  2.0   8  0.0 -199.2      1         2\n",
       "2481456        640  3.0   6  0.0 -398.3      2         2"
      ]
     },
     "execution_count": 76,
     "metadata": {},
     "output_type": "execute_result"
    }
   ],
   "source": [
    "df_traj.head()\n",
    "\n",
    "#WARNING: particles appear to be jumping by over 190 distance units (pixels).\n",
    "#TODO: root cause analysis as to why i am getting jumps in the unwrapped trajectories"
   ]
  },
  {
   "cell_type": "code",
   "execution_count": 70,
   "id": "eaf49d44",
   "metadata": {
    "ExecuteTime": {
     "end_time": "2022-06-28T03:00:23.046779Z",
     "start_time": "2022-06-28T03:00:22.899023Z"
    }
   },
   "outputs": [
    {
     "data": {
      "text/plain": [
       "[<matplotlib.lines.Line2D at 0x7ffab6dd04f0>]"
      ]
     },
     "execution_count": 70,
     "metadata": {},
     "output_type": "execute_result"
    },
    {
     "data": {
      "image/png": "[encoded data removed]",
      "text/plain": [
       "<Figure size 432x288 with 1 Axes>"
      ]
     },
     "metadata": {
      "needs_background": "light"
     },
     "output_type": "display_data"
    }
   ],
   "source": [
    "plt.plot(spd_lst)"
   ]
  },
  {
   "cell_type": "code",
   "execution_count": 69,
   "id": "45bcca5a",
   "metadata": {
    "ExecuteTime": {
     "end_time": "2022-06-28T03:00:06.539318Z",
     "start_time": "2022-06-28T03:00:06.534019Z"
    }
   },
   "outputs": [
    {
     "data": {
      "text/plain": [
       "(16,)"
      ]
     },
     "execution_count": 69,
     "metadata": {},
     "output_type": "execute_result"
    }
   ],
   "source": [
    "pid_set_values=np.unique(traj['particle'].values)\n",
    "pid_set_values.shape"
   ]
  },
  {
   "cell_type": "code",
   "execution_count": null,
   "id": "417702c6",
   "metadata": {},
   "outputs": [],
   "source": [
    "tavg1=4#8#4 #moving average window, in ms\n",
    "\n",
    "# tavg2=12#24 #ms #savgol_filter time window performed on R \n",
    "tavg2=24# #ms #savgol_filter time window performed on R  #12 ms was no longer smooth\n",
    "# tavg2=10.# #ms #savgol_filter time window performed on R  #12 ms was no longer smoothd"
   ]
  },
  {
   "cell_type": "code",
   "execution_count": null,
   "id": "b9bcc599",
   "metadata": {},
   "outputs": [],
   "source": [
    "#TODO: copy pro"
   ]
  },
  {
   "cell_type": "code",
   "execution_count": 20,
   "id": "7c42f274",
   "metadata": {
    "ExecuteTime": {
     "end_time": "2022-06-28T02:16:23.963278Z",
     "start_time": "2022-06-28T02:16:23.951802Z"
    }
   },
   "outputs": [
    {
     "ename": "NameError",
     "evalue": "name 'pandas' is not defined",
     "output_type": "error",
     "traceback": [
      "\u001b[0;31m---------------------------------------------------------------------------\u001b[0m",
      "\u001b[0;31mNameError\u001b[0m                                 Traceback (most recent call last)",
      "Input \u001b[0;32mIn [20]\u001b[0m, in \u001b[0;36m<cell line: 1>\u001b[0;34m()\u001b[0m\n\u001b[0;32m----> 1\u001b[0m \u001b[43mpandas\u001b[49m\n",
      "\u001b[0;31mNameError\u001b[0m: name 'pandas' is not defined"
     ]
    }
   ],
   "source": [
    "traj_lst=[]\n",
    "trial_num_lst=[]\n",
    "df_annihilations_lst=[]"
   ]
  },
  {
   "cell_type": "code",
   "execution_count": null,
   "id": "488c05b6",
   "metadata": {
    "ExecuteTime": {
     "end_time": "2022-06-28T01:58:36.046535Z",
     "start_time": "2022-06-28T01:58:36.046525Z"
    }
   },
   "outputs": [],
   "source": [
    "#TODO: find annihilation pairs, as before\n",
    "#TODO: compute df_annihilations, as before\n",
    "# #TODO: save as .csv\n",
    "##HINT:\n",
    "# log_dir=os.path.abspath(input_fn)+'_log.csv'\n",
    "# df_loc.to_csv(log_dir,index=False)"
   ]
  },
  {
   "cell_type": "code",
   "execution_count": null,
   "id": "5dca232c",
   "metadata": {
    "ExecuteTime": {
     "end_time": "2022-06-28T01:58:36.047651Z",
     "start_time": "2022-06-28T01:58:36.047640Z"
    }
   },
   "outputs": [],
   "source": [
    "#option 1: high level with the same smoothing, as before\n",
    "# #TODO: compute msr_values from df_annihilations, as before, with smoothing\n",
    "# #HINT: dfr is made in here:\n",
    "# dfr_dir=routine_compute_radial_velocities_pbc_cu(input_fn,\n",
    "#                                                  tavg2,\n",
    "#                                                  width,  #for handling periodic boundary conditions (pbc)\n",
    "#                                                  height, #for handling periodic boundary conditions (pbc)\n",
    "#                                                  ds,     #domain size in cm.  set to width to have nulled effect\n",
    "#                                                  max_dtmax_thresh = 0,      #ms\n",
    "#                                                  max_Rfinal_thresh = 0.2,   #cm\n",
    "#                                                  min_duration_thresh = 40,  #ms\n",
    "#                                                  round_t_to_n_digits=7,\n",
    "#                                                  trial_col='event_id_int',\n",
    "#                                                  pid_col=pid_col,\n",
    "#                                                  t_col='t',\n",
    "#                                                  use_tavg2=True,\n",
    "#                                                  save_df_pairs=True,\n",
    "#                                                  printing=True,\n",
    "#                                                  testing=True)#,**kwargs)\n",
    "    \n",
    "\n",
    "#     df=pd.read_csv(dfr_dir)"
   ]
  },
  {
   "cell_type": "code",
   "execution_count": null,
   "id": "12d0457e",
   "metadata": {
    "ExecuteTime": {
     "end_time": "2022-06-28T01:58:36.049082Z",
     "start_time": "2022-06-28T01:58:36.049070Z"
    }
   },
   "outputs": [],
   "source": [
    "# #GOAL: compute the msr_values simply without any kind of smoothing, and plot with the computed msr_values\n",
    "# # option 1: turn off smoothing in generation of df\n",
    "# # option 2: implement it fresh\n",
    "# #TODO: compute the R_values,tau_values simply without any kind of smoothing, and plot with the computed msr_values\n",
    "# # #TODO: compute smoothed msr, as before\n",
    "# R_lst=[]\n",
    "# tau_lst=[]\n",
    "# for d in df_annihilations.iterrows():\n",
    "#     pass\n",
    "# #for each row of df_annihilations, compute subtract_pbc  \n",
    "\n",
    "\n",
    "# #HINT: subtract the values\n",
    "# # #HINT for subtracting two points\n",
    "# # subtract_pbc=get_subtract_pbc(width=width,height=height)\n",
    "# # w=subtract_pbc(point,segment[0])\n",
    "\n",
    "\n",
    "\n",
    "# bins=np.arange(0,2000)\n",
    "# tau_values=0.5*(bins[:-1]+bins[1:])\n",
    "# #TODO: bin and bootstrap dfr, as before"
   ]
  },
  {
   "cell_type": "code",
   "execution_count": 28,
   "id": "8566054d",
   "metadata": {
    "ExecuteTime": {
     "end_time": "2022-06-28T02:25:25.596355Z",
     "start_time": "2022-06-28T02:25:25.594095Z"
    }
   },
   "outputs": [],
   "source": [
    "#TODO: plot the two methods of computing msr_values. compare. share with WJ."
   ]
  },
  {
   "cell_type": "code",
   "execution_count": null,
   "id": "56d7de36",
   "metadata": {
    "ExecuteTime": {
     "end_time": "2022-06-28T01:58:36.050387Z",
     "start_time": "2022-06-28T01:58:36.050372Z"
    }
   },
   "outputs": [],
   "source": [
    "# TODO(bonus): FlowerPlot the trajectories before/after smoothing\n",
    "#HINT: unwrap traj, as before\n",
    "# #HINT for unwrapping trajectories\n",
    "# pid_lst = sorted(set(df[pid_col].values))\n",
    "# #(duplicates filtered earlier_ _  _ _ ) filter_duplicate_trajectory_indices is slow (and can probs be accelerated with a sexy pandas one liner)\n",
    "# pid_lst_filtered = pid_lst#filter_duplicate_trajectory_indices(pid_lst,df)\n",
    "# # pid_lst_filtered = filter_duplicate_trajectory_indices(pid_lst,df)\n",
    "# df = pd.concat([unwrap_traj_and_center(df[df[pid_col]==pid], width, height, DS, **kwargs) for pid in pid_lst_filtered])"
   ]
  },
  {
   "cell_type": "code",
   "execution_count": null,
   "id": "3be383b4",
   "metadata": {},
   "outputs": [],
   "source": []
  }
 ],
 "metadata": {
  "hide_input": false,
  "kernelspec": {
   "display_name": "Python 3 (ipykernel)",
   "language": "python",
   "name": "python3"
  },
  "language_info": {
   "codemirror_mode": {
    "name": "ipython",
    "version": 3
   },
   "file_extension": ".py",
   "mimetype": "text/x-python",
   "name": "python",
   "nbconvert_exporter": "python",
   "pygments_lexer": "ipython3",
   "version": "3.9.13"
  },
  "nbTranslate": {
   "displayLangs": [
    "*"
   ],
   "hotkey": "alt-t",
   "langInMainMenu": true,
   "sourceLang": "en",
   "targetLang": "fr",
   "useGoogleTranslate": true
  },
  "toc": {
   "base_numbering": 1,
   "nav_menu": {},
   "number_sections": true,
   "sideBar": true,
   "skip_h1_title": false,
   "title_cell": "Table of Contents",
   "title_sidebar": "Contents",
   "toc_cell": false,
   "toc_position": {},
   "toc_section_display": true,
   "toc_window_display": false
  },
  "varInspector": {
   "cols": {
    "lenName": 16,
    "lenType": 16,
    "lenVar": 40
   },
   "kernels_config": {
    "python": {
     "delete_cmd_postfix": "",
     "delete_cmd_prefix": "del ",
     "library": "var_list.py",
     "varRefreshCmd": "print(var_dic_list())"
    },
    "r": {
     "delete_cmd_postfix": ") ",
     "delete_cmd_prefix": "rm(",
     "library": "var_list.r",
     "varRefreshCmd": "cat(var_dic_list()) "
    }
   },
   "types_to_exclude": [
    "module",
    "function",
    "builtin_function_or_method",
    "instance",
    "_Feature"
   ],
   "window_display": false
  }
 },
 "nbformat": 4,
 "nbformat_minor": 5
}
