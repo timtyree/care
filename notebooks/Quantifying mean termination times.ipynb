{
 "cells": [
  {
   "cell_type": "markdown",
   "id": "8e32e375",
   "metadata": {},
   "source": [
    "# Quantifying mean termination times\n",
    "Tim Tyree<br>\n",
    "9.23.2022"
   ]
  },
  {
   "cell_type": "code",
   "execution_count": 34,
   "id": "99c3c8f6",
   "metadata": {
    "ExecuteTime": {
     "end_time": "2022-09-23T20:51:12.044016Z",
     "start_time": "2022-09-23T20:51:11.983102Z"
    }
   },
   "outputs": [
    {
     "name": "stdout",
     "output_type": "stream",
     "text": [
      "The autoreload extension is already loaded. To reload it, use:\n",
      "  %reload_ext autoreload\n"
     ]
    }
   ],
   "source": [
    "from IPython.display import clear_output\n",
    "clear_output(wait=True)\n",
    "\n",
    "import sys,os\n",
    "og_stdout=sys.stdout\n",
    "from lib.my_initialization import *\n",
    "\n",
    "os.chdir(nb_dir)\n",
    "from lib import *\n",
    "\n",
    "# import cupy, cudf\n",
    "# from lib.rapids_func import *\n",
    "\n",
    "import seaborn as sns\n",
    "import matplotlib.ticker as mtick\n",
    "\n",
    "import warnings\n",
    "warnings.simplefilter(\"ignore\", UserWarning)\n",
    "%load_ext autoreload\n",
    "%autoreload 2"
   ]
  },
  {
   "cell_type": "code",
   "execution_count": 12,
   "id": "f4733329",
   "metadata": {
    "ExecuteTime": {
     "end_time": "2022-09-23T20:30:38.303555Z",
     "start_time": "2022-09-23T20:30:38.248904Z"
    }
   },
   "outputs": [],
   "source": [
    "#reset matplotlib settings\n",
    "import matplotlib as mpl\n",
    "sns.reset_orig()\n",
    "mpl.rc_file_defaults()"
   ]
  },
  {
   "cell_type": "code",
   "execution_count": 227,
   "id": "1ecb1650",
   "metadata": {
    "ExecuteTime": {
     "end_time": "2022-09-23T23:22:01.046219Z",
     "start_time": "2022-09-23T23:22:00.997233Z"
    }
   },
   "outputs": [],
   "source": [
    "from lib.measure.bootstrap import comp_mean_bootstrap_uncertainty\n",
    "from scipy.stats import erlang,gamma"
   ]
  },
  {
   "cell_type": "markdown",
   "id": "a17878c5",
   "metadata": {},
   "source": [
    "# define module"
   ]
  },
  {
   "cell_type": "code",
   "execution_count": null,
   "id": "c5bbfed3",
   "metadata": {},
   "outputs": [],
   "source": []
  },
  {
   "cell_type": "markdown",
   "id": "f478e835",
   "metadata": {},
   "source": [
    "# parse fortranic spiral tip position data"
   ]
  },
  {
   "cell_type": "code",
   "execution_count": 2,
   "id": "b4095230",
   "metadata": {
    "ExecuteTime": {
     "end_time": "2022-09-23T20:26:02.353864Z",
     "start_time": "2022-09-23T20:26:02.306521Z"
    }
   },
   "outputs": [],
   "source": [
    "# input_fn = search_for_file()\n",
    "# input_fn\n",
    "\n",
    "# #load fortranic log of spiral tip positions\n",
    "# df_log=parse_fortranic_tip_pos(input_fn)\n",
    "# df_log.shape"
   ]
  },
  {
   "cell_type": "code",
   "execution_count": 3,
   "id": "6ceb6b06",
   "metadata": {
    "ExecuteTime": {
     "end_time": "2022-09-23T20:26:02.404437Z",
     "start_time": "2022-09-23T20:26:02.357704Z"
    }
   },
   "outputs": [],
   "source": [
    "# #save fortranic log of spiral tip positions to .parquet \n",
    "# log_dir_fk = '/Users/timothytyree/Documents/GitHub/care/notebooks/Data/from_wjr/positions_fk/200x200/tippos_per_c_001_log.parquet'\n",
    "# df_log.to_parquet(log_dir_fk,compression='snappy',index=None)\n",
    "# assert os.path.exists(log_dir_fk)\n",
    "# print(f\"{log_dir_fk=}\")"
   ]
  },
  {
   "cell_type": "markdown",
   "id": "84c7d296",
   "metadata": {},
   "source": [
    "# dev"
   ]
  },
  {
   "cell_type": "code",
   "execution_count": 6,
   "id": "a11615d3",
   "metadata": {
    "ExecuteTime": {
     "end_time": "2022-09-23T20:26:55.367768Z",
     "start_time": "2022-09-23T20:26:55.284317Z"
    }
   },
   "outputs": [],
   "source": [
    "log_dir_fk='/Users/timothytyree/Documents/GitHub/care/notebooks/Data/from_wjr/positions_fk/200x200/tippos_per_c_001_log.parquet'\n",
    "log_dir_lr = '/Users/timothytyree/Documents/GitHub/care/notebooks/Data/from_wjr/positions_lr/200x200/tippos_per_001_log.parquet'"
   ]
  },
  {
   "cell_type": "code",
   "execution_count": 279,
   "id": "a912a3c5",
   "metadata": {
    "ExecuteTime": {
     "end_time": "2022-09-26T18:04:49.751384Z",
     "start_time": "2022-09-26T18:04:49.697715Z"
    }
   },
   "outputs": [
    {
     "data": {
      "text/plain": [
       "count    147.000000\n",
       "mean       2.095238\n",
       "std        0.540590\n",
       "min        2.000000\n",
       "25%        2.000000\n",
       "50%        2.000000\n",
       "75%        2.000000\n",
       "max        6.000000\n",
       "Name: n, dtype: float64"
      ]
     },
     "execution_count": 279,
     "metadata": {},
     "output_type": "execute_result"
    }
   ],
   "source": []
  },
  {
   "cell_type": "code",
   "execution_count": 281,
   "id": "297a1f58",
   "metadata": {
    "ExecuteTime": {
     "end_time": "2022-09-26T18:06:18.447913Z",
     "start_time": "2022-09-26T18:06:11.807830Z"
    }
   },
   "outputs": [
    {
     "data": {
      "text/html": [
       "<div>\n",
       "<style scoped>\n",
       "    .dataframe tbody tr th:only-of-type {\n",
       "        vertical-align: middle;\n",
       "    }\n",
       "\n",
       "    .dataframe tbody tr th {\n",
       "        vertical-align: top;\n",
       "    }\n",
       "\n",
       "    .dataframe thead th {\n",
       "        text-align: right;\n",
       "    }\n",
       "</style>\n",
       "<table border=\"1\" class=\"dataframe\">\n",
       "  <thead>\n",
       "    <tr style=\"text-align: right;\">\n",
       "      <th></th>\n",
       "      <th>trial_num</th>\n",
       "      <th>t_term</th>\n",
       "      <th>n_count</th>\n",
       "      <th>n_mean</th>\n",
       "      <th>n_std</th>\n",
       "      <th>n_min</th>\n",
       "      <th>n_25%</th>\n",
       "      <th>n_50%</th>\n",
       "      <th>n_75%</th>\n",
       "      <th>n_max</th>\n",
       "    </tr>\n",
       "  </thead>\n",
       "  <tbody>\n",
       "    <tr>\n",
       "      <th>count</th>\n",
       "      <td>81.000000</td>\n",
       "      <td>81.000000</td>\n",
       "      <td>81.000000</td>\n",
       "      <td>81.000000</td>\n",
       "      <td>81.000000</td>\n",
       "      <td>81.0</td>\n",
       "      <td>81.000000</td>\n",
       "      <td>81.000000</td>\n",
       "      <td>81.000000</td>\n",
       "      <td>81.000000</td>\n",
       "    </tr>\n",
       "    <tr>\n",
       "      <th>mean</th>\n",
       "      <td>40.000000</td>\n",
       "      <td>27.796580</td>\n",
       "      <td>27796.580247</td>\n",
       "      <td>8.111346</td>\n",
       "      <td>3.171279</td>\n",
       "      <td>2.0</td>\n",
       "      <td>5.876543</td>\n",
       "      <td>7.876543</td>\n",
       "      <td>10.074074</td>\n",
       "      <td>21.000000</td>\n",
       "    </tr>\n",
       "    <tr>\n",
       "      <th>std</th>\n",
       "      <td>23.526581</td>\n",
       "      <td>27.960543</td>\n",
       "      <td>27960.543177</td>\n",
       "      <td>0.596583</td>\n",
       "      <td>0.302605</td>\n",
       "      <td>0.0</td>\n",
       "      <td>0.659218</td>\n",
       "      <td>0.659218</td>\n",
       "      <td>0.737865</td>\n",
       "      <td>3.424179</td>\n",
       "    </tr>\n",
       "    <tr>\n",
       "      <th>min</th>\n",
       "      <td>0.000000</td>\n",
       "      <td>0.354000</td>\n",
       "      <td>354.000000</td>\n",
       "      <td>5.884444</td>\n",
       "      <td>2.231458</td>\n",
       "      <td>2.0</td>\n",
       "      <td>2.000000</td>\n",
       "      <td>4.000000</td>\n",
       "      <td>6.000000</td>\n",
       "      <td>14.000000</td>\n",
       "    </tr>\n",
       "    <tr>\n",
       "      <th>25%</th>\n",
       "      <td>20.000000</td>\n",
       "      <td>10.356000</td>\n",
       "      <td>10356.000000</td>\n",
       "      <td>7.890555</td>\n",
       "      <td>2.999255</td>\n",
       "      <td>2.0</td>\n",
       "      <td>6.000000</td>\n",
       "      <td>8.000000</td>\n",
       "      <td>10.000000</td>\n",
       "      <td>18.000000</td>\n",
       "    </tr>\n",
       "    <tr>\n",
       "      <th>50%</th>\n",
       "      <td>40.000000</td>\n",
       "      <td>19.474000</td>\n",
       "      <td>19474.000000</td>\n",
       "      <td>8.228006</td>\n",
       "      <td>3.172377</td>\n",
       "      <td>2.0</td>\n",
       "      <td>6.000000</td>\n",
       "      <td>8.000000</td>\n",
       "      <td>10.000000</td>\n",
       "      <td>22.000000</td>\n",
       "    </tr>\n",
       "    <tr>\n",
       "      <th>75%</th>\n",
       "      <td>60.000000</td>\n",
       "      <td>39.253000</td>\n",
       "      <td>39253.000000</td>\n",
       "      <td>8.492502</td>\n",
       "      <td>3.297967</td>\n",
       "      <td>2.0</td>\n",
       "      <td>6.000000</td>\n",
       "      <td>8.000000</td>\n",
       "      <td>10.000000</td>\n",
       "      <td>22.000000</td>\n",
       "    </tr>\n",
       "    <tr>\n",
       "      <th>max</th>\n",
       "      <td>80.000000</td>\n",
       "      <td>150.955000</td>\n",
       "      <td>150955.000000</td>\n",
       "      <td>9.229633</td>\n",
       "      <td>4.568219</td>\n",
       "      <td>2.0</td>\n",
       "      <td>8.000000</td>\n",
       "      <td>10.000000</td>\n",
       "      <td>12.000000</td>\n",
       "      <td>32.000000</td>\n",
       "    </tr>\n",
       "  </tbody>\n",
       "</table>\n",
       "</div>"
      ],
      "text/plain": [
       "       trial_num      t_term        n_count     n_mean      n_std  n_min  \\\n",
       "count  81.000000   81.000000      81.000000  81.000000  81.000000   81.0   \n",
       "mean   40.000000   27.796580   27796.580247   8.111346   3.171279    2.0   \n",
       "std    23.526581   27.960543   27960.543177   0.596583   0.302605    0.0   \n",
       "min     0.000000    0.354000     354.000000   5.884444   2.231458    2.0   \n",
       "25%    20.000000   10.356000   10356.000000   7.890555   2.999255    2.0   \n",
       "50%    40.000000   19.474000   19474.000000   8.228006   3.172377    2.0   \n",
       "75%    60.000000   39.253000   39253.000000   8.492502   3.297967    2.0   \n",
       "max    80.000000  150.955000  150955.000000   9.229633   4.568219    2.0   \n",
       "\n",
       "           n_25%      n_50%      n_75%      n_max  \n",
       "count  81.000000  81.000000  81.000000  81.000000  \n",
       "mean    5.876543   7.876543  10.074074  21.000000  \n",
       "std     0.659218   0.659218   0.737865   3.424179  \n",
       "min     2.000000   4.000000   6.000000  14.000000  \n",
       "25%     6.000000   8.000000  10.000000  18.000000  \n",
       "50%     6.000000   8.000000  10.000000  22.000000  \n",
       "75%     6.000000   8.000000  10.000000  22.000000  \n",
       "max     8.000000  10.000000  12.000000  32.000000  "
      ]
     },
     "execution_count": 281,
     "metadata": {},
     "output_type": "execute_result"
    }
   ],
   "source": [
    "#compute termintion times\n",
    "tscale=1e-3# s per ms\n",
    "df=pd.read_parquet(log_dir_fk)\n",
    "dict_term_lst=[]\n",
    "for trial_num,g in df.groupby(by='trial_num'):\n",
    "    descr = g.describe()\n",
    "    t_term = tscale*descr['t'].T['max'] #- descr['t'].T['min']\n",
    "    n_time_series = g.groupby(by='t')['n'].max()\n",
    "    descrn = dict(n_time_series.describe())\n",
    "    #record termination event\n",
    "    dict_term = dict(\n",
    "        trial_num=trial_num,\n",
    "        t_term=t_term)\n",
    "    for key in descrn:\n",
    "        dict_term[f\"n_{key}\"] = descrn[key]\n",
    "    dict_term_lst.append(dict_term)\n",
    "df_term_fk = pd.DataFrame(dict_term_lst)\n",
    "df_term_fk.describe()"
   ]
  },
  {
   "cell_type": "code",
   "execution_count": 282,
   "id": "ac366830",
   "metadata": {
    "ExecuteTime": {
     "end_time": "2022-09-26T18:07:27.159247Z",
     "start_time": "2022-09-26T18:07:27.119026Z"
    }
   },
   "outputs": [],
   "source": [
    "#effect of not overcounting time slices on mean particle number\n",
    "# 9.36 +/- 3.1\n",
    "# --> 8.11 +/- 3.17"
   ]
  },
  {
   "cell_type": "code",
   "execution_count": 283,
   "id": "5ff4a830",
   "metadata": {
    "ExecuteTime": {
     "end_time": "2022-09-26T18:07:39.683187Z",
     "start_time": "2022-09-26T18:07:33.297687Z"
    }
   },
   "outputs": [
    {
     "data": {
      "text/html": [
       "<div>\n",
       "<style scoped>\n",
       "    .dataframe tbody tr th:only-of-type {\n",
       "        vertical-align: middle;\n",
       "    }\n",
       "\n",
       "    .dataframe tbody tr th {\n",
       "        vertical-align: top;\n",
       "    }\n",
       "\n",
       "    .dataframe thead th {\n",
       "        text-align: right;\n",
       "    }\n",
       "</style>\n",
       "<table border=\"1\" class=\"dataframe\">\n",
       "  <thead>\n",
       "    <tr style=\"text-align: right;\">\n",
       "      <th></th>\n",
       "      <th>trial_num</th>\n",
       "      <th>t_term</th>\n",
       "      <th>n_count</th>\n",
       "      <th>n_mean</th>\n",
       "      <th>n_std</th>\n",
       "      <th>n_min</th>\n",
       "      <th>n_25%</th>\n",
       "      <th>n_50%</th>\n",
       "      <th>n_75%</th>\n",
       "      <th>n_max</th>\n",
       "    </tr>\n",
       "  </thead>\n",
       "  <tbody>\n",
       "    <tr>\n",
       "      <th>count</th>\n",
       "      <td>641.000000</td>\n",
       "      <td>641.000000</td>\n",
       "      <td>641.000000</td>\n",
       "      <td>641.000000</td>\n",
       "      <td>641.000000</td>\n",
       "      <td>641.000000</td>\n",
       "      <td>641.000000</td>\n",
       "      <td>641.000000</td>\n",
       "      <td>641.000000</td>\n",
       "      <td>641.000000</td>\n",
       "    </tr>\n",
       "    <tr>\n",
       "      <th>mean</th>\n",
       "      <td>320.000000</td>\n",
       "      <td>0.742190</td>\n",
       "      <td>742.190328</td>\n",
       "      <td>4.980033</td>\n",
       "      <td>2.384248</td>\n",
       "      <td>2.024961</td>\n",
       "      <td>3.235179</td>\n",
       "      <td>4.564743</td>\n",
       "      <td>6.264041</td>\n",
       "      <td>14.279251</td>\n",
       "    </tr>\n",
       "    <tr>\n",
       "      <th>std</th>\n",
       "      <td>185.185043</td>\n",
       "      <td>0.709408</td>\n",
       "      <td>709.407861</td>\n",
       "      <td>1.269500</td>\n",
       "      <td>0.748515</td>\n",
       "      <td>0.248749</td>\n",
       "      <td>1.258167</td>\n",
       "      <td>1.559278</td>\n",
       "      <td>1.876717</td>\n",
       "      <td>4.073354</td>\n",
       "    </tr>\n",
       "    <tr>\n",
       "      <th>min</th>\n",
       "      <td>0.000000</td>\n",
       "      <td>0.002000</td>\n",
       "      <td>2.000000</td>\n",
       "      <td>2.000000</td>\n",
       "      <td>0.000000</td>\n",
       "      <td>2.000000</td>\n",
       "      <td>2.000000</td>\n",
       "      <td>2.000000</td>\n",
       "      <td>2.000000</td>\n",
       "      <td>2.000000</td>\n",
       "    </tr>\n",
       "    <tr>\n",
       "      <th>25%</th>\n",
       "      <td>160.000000</td>\n",
       "      <td>0.249000</td>\n",
       "      <td>249.000000</td>\n",
       "      <td>4.124031</td>\n",
       "      <td>1.913731</td>\n",
       "      <td>2.000000</td>\n",
       "      <td>2.000000</td>\n",
       "      <td>4.000000</td>\n",
       "      <td>6.000000</td>\n",
       "      <td>12.000000</td>\n",
       "    </tr>\n",
       "    <tr>\n",
       "      <th>50%</th>\n",
       "      <td>320.000000</td>\n",
       "      <td>0.530000</td>\n",
       "      <td>530.000000</td>\n",
       "      <td>4.979656</td>\n",
       "      <td>2.347957</td>\n",
       "      <td>2.000000</td>\n",
       "      <td>4.000000</td>\n",
       "      <td>4.000000</td>\n",
       "      <td>6.000000</td>\n",
       "      <td>14.000000</td>\n",
       "    </tr>\n",
       "    <tr>\n",
       "      <th>75%</th>\n",
       "      <td>480.000000</td>\n",
       "      <td>1.014000</td>\n",
       "      <td>1014.000000</td>\n",
       "      <td>5.731935</td>\n",
       "      <td>2.805486</td>\n",
       "      <td>2.000000</td>\n",
       "      <td>4.000000</td>\n",
       "      <td>6.000000</td>\n",
       "      <td>8.000000</td>\n",
       "      <td>16.000000</td>\n",
       "    </tr>\n",
       "    <tr>\n",
       "      <th>max</th>\n",
       "      <td>640.000000</td>\n",
       "      <td>5.154000</td>\n",
       "      <td>5154.000000</td>\n",
       "      <td>9.423881</td>\n",
       "      <td>6.889606</td>\n",
       "      <td>6.000000</td>\n",
       "      <td>8.000000</td>\n",
       "      <td>10.000000</td>\n",
       "      <td>12.000000</td>\n",
       "      <td>30.000000</td>\n",
       "    </tr>\n",
       "  </tbody>\n",
       "</table>\n",
       "</div>"
      ],
      "text/plain": [
       "        trial_num      t_term      n_count      n_mean       n_std  \\\n",
       "count  641.000000  641.000000   641.000000  641.000000  641.000000   \n",
       "mean   320.000000    0.742190   742.190328    4.980033    2.384248   \n",
       "std    185.185043    0.709408   709.407861    1.269500    0.748515   \n",
       "min      0.000000    0.002000     2.000000    2.000000    0.000000   \n",
       "25%    160.000000    0.249000   249.000000    4.124031    1.913731   \n",
       "50%    320.000000    0.530000   530.000000    4.979656    2.347957   \n",
       "75%    480.000000    1.014000  1014.000000    5.731935    2.805486   \n",
       "max    640.000000    5.154000  5154.000000    9.423881    6.889606   \n",
       "\n",
       "            n_min       n_25%       n_50%       n_75%       n_max  \n",
       "count  641.000000  641.000000  641.000000  641.000000  641.000000  \n",
       "mean     2.024961    3.235179    4.564743    6.264041   14.279251  \n",
       "std      0.248749    1.258167    1.559278    1.876717    4.073354  \n",
       "min      2.000000    2.000000    2.000000    2.000000    2.000000  \n",
       "25%      2.000000    2.000000    4.000000    6.000000   12.000000  \n",
       "50%      2.000000    4.000000    4.000000    6.000000   14.000000  \n",
       "75%      2.000000    4.000000    6.000000    8.000000   16.000000  \n",
       "max      6.000000    8.000000   10.000000   12.000000   30.000000  "
      ]
     },
     "execution_count": 283,
     "metadata": {},
     "output_type": "execute_result"
    }
   ],
   "source": [
    "df=pd.read_parquet(log_dir_lr)\n",
    "dict_term_lst=[]\n",
    "for trial_num,g in df.groupby(by='trial_num'):\n",
    "    descr = g.describe()\n",
    "    t_term = tscale*descr['t'].T['max'] #- descr['t'].T['min']\n",
    "    n_time_series = g.groupby(by='t')['n'].max()\n",
    "    descrn = dict(n_time_series.describe())\n",
    "    #record termination event\n",
    "    dict_term = dict(\n",
    "        trial_num=trial_num,\n",
    "        t_term=t_term)\n",
    "    for key in descrn:\n",
    "        dict_term[f\"n_{key}\"] = descrn[key]\n",
    "    dict_term_lst.append(dict_term)\n",
    "df_term_lr = pd.DataFrame(dict_term_lst)\n",
    "df_term_lr.describe()"
   ]
  },
  {
   "cell_type": "code",
   "execution_count": 285,
   "id": "7b9a1e68",
   "metadata": {
    "ExecuteTime": {
     "end_time": "2022-09-26T18:08:00.063676Z",
     "start_time": "2022-09-26T18:07:59.998156Z"
    }
   },
   "outputs": [
    {
     "name": "stdout",
     "output_type": "stream",
     "text": [
      "term_dir_fk='/Users/timothytyree/Documents/GitHub/care/notebooks/Data/from_wjr/positions_fk/200x200/tippos_per_c_001_termination_times.csv'\n",
      "term_dir_lr='/Users/timothytyree/Documents/GitHub/care/notebooks/Data/from_wjr/positions_lr/200x200/tippos_per_001_termination_times.csv'\n"
     ]
    }
   ],
   "source": [
    "#save as .csv\n",
    "term_dir_fk = log_dir_fk.replace('_log.parquet','_termination_times.csv')\n",
    "df_term_fk.to_csv(term_dir_fk,index=False)\n",
    "\n",
    "term_dir_lr = log_dir_lr.replace('_log.parquet','_termination_times.csv')\n",
    "df_term_lr.to_csv(term_dir_lr,index=False)\n",
    "\n",
    "print(f\"{term_dir_fk=}\")\n",
    "print(f\"{term_dir_lr=}\")"
   ]
  },
  {
   "cell_type": "markdown",
   "id": "d175f678",
   "metadata": {},
   "source": [
    "# quantify mean termination times"
   ]
  },
  {
   "cell_type": "code",
   "execution_count": 30,
   "id": "cf4238e9",
   "metadata": {
    "ExecuteTime": {
     "end_time": "2022-09-23T20:41:48.791988Z",
     "start_time": "2022-09-23T20:41:48.247716Z"
    }
   },
   "outputs": [
    {
     "data": {
      "image/png": "[encoded data removed]",
      "text/plain": [
       "<Figure size 600x400 with 1 Axes>"
      ]
     },
     "metadata": {},
     "output_type": "display_data"
    }
   ],
   "source": [
    "#scatter plot max num particles versus termination time\n",
    "# Q: are there any obvious outliers? \n",
    "# A: nah. it looks relatively reasonable.\n",
    "fig,ax=plt.subplots(figsize=(6,4))\n",
    "fontsize=18\n",
    "# xcol='n_max'\n",
    "# xcol='n_count'\n",
    "xcol='n_mean'\n",
    "xlim=[1,100]\n",
    "df_term_fk.plot.scatter(x=xcol,y='t_term',color='C0',alpha=0.3,s=30,ax=ax)\n",
    "df_term_lr.plot.scatter(x=xcol,y='t_term',color='C1',alpha=0.3,s=10,ax=ax)\n",
    "format_plot(ax=ax,xlabel=xcol,ylabel='Term Time (s)',fontsize=fontsize,use_loglog=True)\n",
    "ax.set_xlim(xlim)\n",
    "plt.show()"
   ]
  },
  {
   "cell_type": "code",
   "execution_count": 100,
   "id": "2bb7fbf6",
   "metadata": {
    "ExecuteTime": {
     "end_time": "2022-09-23T21:21:06.831425Z",
     "start_time": "2022-09-23T21:21:06.668135Z"
    }
   },
   "outputs": [
    {
     "name": "stdout",
     "output_type": "stream",
     "text": [
      "Fenton-Karma:\n",
      " - mean termination time: 27.7966 +/- 6.5012 s (N_term_events=81, p_normal: 0.2800)\n",
      "Luo-Rudy:\n",
      " - mean termination time: 0.7422 +/- 0.0586 s (N_term_events=641, p_normal: 0.4695)\n",
      "termination times saved in:\n",
      "term_dir_fk='/Users/timothytyree/Documents/GitHub/care/notebooks/Data/from_wjr/positions_fk/200x200/tippos_per_c_001_termination_times.csv'\n",
      "term_dir_lr='/Users/timothytyree/Documents/GitHub/care/notebooks/Data/from_wjr/positions_lr/200x200/tippos_per_001_termination_times.csv'\n",
      "          model       mtt  Delta_mtt  num_term_events  p_normal\n",
      "0  Fenton-Karma  27.79658   6.501226               81  0.280022\n",
      "1      Luo-Rudy   0.74219   0.058607              641  0.469457\n"
     ]
    }
   ],
   "source": [
    "#bootstrap mean +/- 95% CI\n",
    "t_term_values_fk = df_term_fk['t_term'].values\n",
    "meanx,Delta_meanx,num_obsx,p_normalx=comp_mean_bootstrap_uncertainty(t_term_values_fk,num_samples=100)\n",
    "printing=True\n",
    "if printing:\n",
    "    print(f\"Fenton-Karma:\")\n",
    "    print(f\" - mean termination time: {meanx:.4f} +/- {Delta_meanx:.4f} s (N_term_events={num_obsx}, p_normal: {p_normalx:.4f})\")\n",
    "\n",
    "dict_mtt_fk = dict(model='Fenton-Karma',\n",
    "                mtt=meanx,\n",
    "                Delta_mtt=Delta_meanx,\n",
    "                num_term_events=num_obsx,\n",
    "                p_normal=p_normalx)\n",
    "\n",
    "#bootstrap mean +/- 95% CI\n",
    "t_term_values_lr = df_term_lr['t_term'].values\n",
    "meanx,Delta_meanx,num_obsx,p_normalx=comp_mean_bootstrap_uncertainty(t_term_values_lr,num_samples=100)\n",
    "printing=True\n",
    "if printing:\n",
    "    print(f\"Luo-Rudy:\")\n",
    "    print(f\" - mean termination time: {meanx:.4f} +/- {Delta_meanx:.4f} s (N_term_events={num_obsx}, p_normal: {p_normalx:.4f})\")\n",
    "\n",
    "dict_mtt_lr = dict(model='Luo-Rudy',\n",
    "                mtt=meanx,\n",
    "                Delta_mtt=Delta_meanx,\n",
    "                num_term_events=num_obsx,\n",
    "                p_normal=p_normalx)\n",
    "\n",
    "\n",
    "df_mtt = pd.DataFrame([dict_mtt_fk,dict_mtt_lr])\n",
    "print(f\"termination times saved in:\")\n",
    "print(f\"{term_dir_fk=}\")\n",
    "print(f\"{term_dir_lr=}\")\n",
    "print(df_mtt)"
   ]
  },
  {
   "cell_type": "code",
   "execution_count": 101,
   "id": "36c1df38",
   "metadata": {
    "ExecuteTime": {
     "end_time": "2022-09-23T21:35:54.306789Z",
     "start_time": "2022-09-23T21:35:52.199198Z"
    }
   },
   "outputs": [
    {
     "data": {
      "image/png": "[encoded data removed]",
      "text/plain": [
       "<Figure size 400x400 with 1 Axes>"
      ]
     },
     "metadata": {},
     "output_type": "display_data"
    }
   ],
   "source": [
    "#TODO: plot histogram as a scatter plot of the .pdf\n",
    "fig,ax=plt.subplots(figsize=(4,4))\n",
    "fontsize=16\n",
    "alpha=0.7\n",
    "# xcol='n_max'\n",
    "# xcol='n_count'\n",
    "xcol='n_mean'\n",
    "# bins = np.logspace(-3,3,20)\n",
    "# xlim=[0,250]\n",
    "xlim=[0,20]\n",
    "# xlim=[0,80]\n",
    "# ax.hist(t_term_values_fk,color='C0',alpha=0.3,density=True,bins=bins)\n",
    "# ax.hist(t_term_values_lr,color='C1',alpha=0.3,density=True,bins=bins)\n",
    "# bins = np.arange(0.,22.,1.6)\n",
    "bins = np.arange(0.,220.,1.6)\n",
    "ax.hist(t_term_values_fk,color='C0',alpha=alpha,density=True,bins=bins,stacked=True,label='Fenton-Karma')\n",
    "# bins = np.linspace(0.,20.,51)\n",
    "bins = np.arange(0.,220.,0.4)\n",
    "ax.hist(t_term_values_lr,color='C1',alpha=alpha,density=True,bins=bins,stacked=True,label='Luo-Rudy')\n",
    "\n",
    "#format_plot\n",
    "format_plot(ax=ax,xlabel='Termination Time (s)',ylabel='PDF',fontsize=fontsize)#,use_loglog=True)\n",
    "# ax.set_xscale('log')\n",
    "ax.set_yscale('log')\n",
    "ax.set_xlim(xlim)\n",
    "# ax.set_ylim((11*1.0178650359332904e-05, 80))\n",
    "ax.set_ylim((11*1.0178650359332904e-05, 8))\n",
    "# format_plot(ax=ax,xlabel=r'$\\Gamma$ (s)',ylabel=r'PDF',fontsize=fontsize,use_loglog=use_loglog)\n",
    "ax.tick_params(top=True, right=True,direction='in',which='both')\n",
    "ax.legend(fontsize=fontsize-2,frameon=False)\n",
    "\n",
    "\n",
    "plt.show()"
   ]
  },
  {
   "cell_type": "markdown",
   "id": "c8cb9814",
   "metadata": {},
   "source": [
    "# quantify distribution of termination events using bootstrap sampling with replacement"
   ]
  },
  {
   "cell_type": "markdown",
   "id": "fc6ad773",
   "metadata": {
    "ExecuteTime": {
     "end_time": "2022-09-23T21:06:17.606369Z",
     "start_time": "2022-09-23T21:06:17.490438Z"
    }
   },
   "source": [
    "__Observation__:\n",
    "my termination times don't have the exponential distribution reported in VidmarRappel2019.pdf.\n",
    "\n",
    "DONT: __Option 1:__ - use only LR for the planned analysis\n",
    "\n",
    "TODO: __Option 2:__ - augment the FK data using bootstrap.\n",
    "for sample_num in range(num_samples):\n",
    "    1. randomly select 1 trial\n",
    "    2. randomly select 1 time instance\n",
    "    3. record n and the time to termination event\n",
    "    \n",
    "then, \n",
    "1. scatter plot n versus t_term\n",
    "2. compute histogram of termination times.  does it match WJ's previous histogram?"
   ]
  },
  {
   "cell_type": "code",
   "execution_count": 176,
   "id": "7c3e7268",
   "metadata": {
    "ExecuteTime": {
     "end_time": "2022-09-23T22:22:22.518542Z",
     "start_time": "2022-09-23T22:22:22.466585Z"
    }
   },
   "outputs": [
    {
     "name": "stdout",
     "output_type": "stream",
     "text": [
      "log_dir_fk='/Users/timothytyree/Documents/GitHub/care/notebooks/Data/from_wjr/positions_fk/200x200/tippos_per_c_001_log.parquet'\n",
      "log_dir_lr='/Users/timothytyree/Documents/GitHub/care/notebooks/Data/from_wjr/positions_lr/200x200/tippos_per_001_log.parquet'\n"
     ]
    }
   ],
   "source": [
    "log_dir_fk='/Users/timothytyree/Documents/GitHub/care/notebooks/Data/from_wjr/positions_fk/200x200/tippos_per_c_001_log.parquet'\n",
    "log_dir_lr='/Users/timothytyree/Documents/GitHub/care/notebooks/Data/from_wjr/positions_lr/200x200/tippos_per_001_log.parquet'\n",
    "print(f\"{log_dir_fk=}\")\n",
    "print(f\"{log_dir_lr=}\")\n",
    "# term_dir_fk='/Users/timothytyree/Documents/GitHub/care/notebooks/Data/from_wjr/positions_fk/200x200/tippos_per_c_001_termination_times.csv'\n",
    "# term_dir_lr='/Users/timothytyree/Documents/GitHub/care/notebooks/Data/from_wjr/positions_lr/200x200/tippos_per_001_termination_times.csv'\n",
    "# print(f\"{term_dir_fk=}\")\n",
    "# print(f\"{term_dir_lr=}\")\n",
    "\n",
    "# num_samples=1000 #40 ms\n",
    "num_samples=10000\n",
    "random_state = 42\n",
    "tscale=1e-3 #s per ms\n",
    "\n",
    "#warning: estimated run time 5.5 minutes for 10000 samples\n",
    "#FK\n",
    "df=pd.read_parquet(log_dir_fk)\n",
    "#bootstrap temrintion time distribution\n",
    "df_sampled = df.sample(num_samples,random_state=random_state,replace=True)\n",
    "df_sampled['tf']=np.nan\n",
    "for index,row in df_sampled.iterrows():\n",
    "    tf = df.loc[row['trial_num']==df['trial_num']]['t'].max()\n",
    "    df_sampled.loc[index,'tf']=tf\n",
    "df_sampled['t_term'] = tscale*(df_sampled['tf'] - df_sampled['t'])\n",
    "df_sampled_fk = df_sampled.copy()\n",
    "\n",
    "#LR\n",
    "df=pd.read_parquet(log_dir_lr)\n",
    "df_sampled = df.sample(num_samples,random_state=random_state,replace=True)\n",
    "df_sampled['tf']=np.nan\n",
    "for index,row in df_sampled.iterrows():\n",
    "    tf = df.loc[row['trial_num']==df['trial_num']]['t'].max()\n",
    "    df_sampled.loc[index,'tf']=tf\n",
    "df_sampled['t_term'] = tscale*(df_sampled['tf'] - df_sampled['t'])\n",
    "df_sampled_lr = df_sampled.copy()"
   ]
  },
  {
   "cell_type": "code",
   "execution_count": null,
   "id": "229ec3b5",
   "metadata": {
    "ExecuteTime": {
     "end_time": "2022-09-23T22:07:51.671980Z",
     "start_time": "2022-09-23T22:07:51.622622Z"
    }
   },
   "outputs": [],
   "source": []
  },
  {
   "cell_type": "code",
   "execution_count": 181,
   "id": "2fa69632",
   "metadata": {
    "ExecuteTime": {
     "end_time": "2022-09-23T22:28:40.602577Z",
     "start_time": "2022-09-23T22:28:40.285707Z"
    }
   },
   "outputs": [
    {
     "data": {
      "image/png": "[encoded data removed]",
      "text/plain": [
       "<Figure size 600x400 with 1 Axes>"
      ]
     },
     "metadata": {},
     "output_type": "display_data"
    }
   ],
   "source": [
    "#scatter plot max num particles versus termination time\n",
    "# Q: are there any obvious outliers? \n",
    "# A: nah. it looks relatively reasonable.\n",
    "fig,ax=plt.subplots(figsize=(6,4))\n",
    "fontsize=18\n",
    "# xcol='n_max'\n",
    "# xcol='n_count'\n",
    "xcol='n'\n",
    "xlim=[1,40]\n",
    "df_sampled_fk.plot.scatter(x=xcol,y='t_term',color='C0',alpha=0.3,s=30,ax=ax)\n",
    "df_sampled_lr.plot.scatter(x=xcol,y='t_term',color='C1',alpha=0.3,s=10,ax=ax)\n",
    "format_plot(ax=ax,xlabel=xcol,ylabel='Term Time (s)',fontsize=fontsize,use_loglog=True)\n",
    "ax.set_xlim(xlim)\n",
    "plt.show()"
   ]
  },
  {
   "cell_type": "code",
   "execution_count": 182,
   "id": "edb93261",
   "metadata": {
    "ExecuteTime": {
     "end_time": "2022-09-23T22:28:40.712895Z",
     "start_time": "2022-09-23T22:28:40.606038Z"
    }
   },
   "outputs": [
    {
     "name": "stdout",
     "output_type": "stream",
     "text": [
      "Fenton-Karma:\n",
      " - mean termination time: 28.1166 +/- 0.5483 s (N_term_events=10000, p_normal: 0.6946)\n",
      "Luo-Rudy:\n",
      " - mean termination time: 0.7456 +/- 0.0145 s (N_term_events=10000, p_normal: 0.9132)\n",
      "          model        mtt  Delta_mtt  num_term_events  p_normal\n",
      "0  Fenton-Karma  28.116557   0.548336            10000  0.694565\n",
      "1      Luo-Rudy   0.745636   0.014456            10000  0.913182\n"
     ]
    }
   ],
   "source": [
    "#bootstrap mean +/- 95% CI\n",
    "t_term_values_fk = df_sampled_fk['t_term'].values\n",
    "# t_term_values_fk = df_term_fk['t_term'].values\n",
    "meanx,Delta_meanx,num_obsx,p_normalx=comp_mean_bootstrap_uncertainty(t_term_values_fk,num_samples=100)\n",
    "printing=True\n",
    "if printing:\n",
    "    print(f\"Fenton-Karma:\")\n",
    "    print(f\" - mean termination time: {meanx:.4f} +/- {Delta_meanx:.4f} s (N_term_events={num_obsx}, p_normal: {p_normalx:.4f})\")\n",
    "\n",
    "dict_mtt_fk = dict(model='Fenton-Karma',\n",
    "                mtt=meanx,\n",
    "                Delta_mtt=Delta_meanx,\n",
    "                num_term_events=num_obsx,\n",
    "                p_normal=p_normalx)\n",
    "\n",
    "#bootstrap mean +/- 95% CI\n",
    "t_term_values_lr = df_sampled_lr['t_term'].values\n",
    "# t_term_values_lr = df_term_lr['t_term'].values\n",
    "meanx,Delta_meanx,num_obsx,p_normalx=comp_mean_bootstrap_uncertainty(t_term_values_lr,num_samples=100)\n",
    "printing=True\n",
    "if printing:\n",
    "    print(f\"Luo-Rudy:\")\n",
    "    print(f\" - mean termination time: {meanx:.4f} +/- {Delta_meanx:.4f} s (N_term_events={num_obsx}, p_normal: {p_normalx:.4f})\")\n",
    "\n",
    "dict_mtt_lr = dict(model='Luo-Rudy',\n",
    "                mtt=meanx,\n",
    "                Delta_mtt=Delta_meanx,\n",
    "                num_term_events=num_obsx,\n",
    "                p_normal=p_normalx)\n",
    "\n",
    "\n",
    "df_mtt = pd.DataFrame([dict_mtt_fk,dict_mtt_lr])\n",
    "# print(f\"termination times saved in:\")\n",
    "# print(f\"{term_dir_fk=}\")\n",
    "# print(f\"{term_dir_lr=}\")\n",
    "print(df_mtt)"
   ]
  },
  {
   "cell_type": "code",
   "execution_count": 193,
   "id": "e39ee452",
   "metadata": {
    "ExecuteTime": {
     "end_time": "2022-09-23T22:54:24.936393Z",
     "start_time": "2022-09-23T22:54:22.662411Z"
    }
   },
   "outputs": [
    {
     "data": {
      "image/png": "[encoded data removed]",
      "text/plain": [
       "<Figure size 400x400 with 1 Axes>"
      ]
     },
     "metadata": {},
     "output_type": "display_data"
    }
   ],
   "source": [
    "#TODO: plot histogram as a scatter plot of the .pdf\n",
    "fig,ax=plt.subplots(figsize=(4,4))\n",
    "fontsize=16\n",
    "alpha=0.7\n",
    "# xlim=[0,250]\n",
    "xlim=[0,100]\n",
    "# xlim=[0,20]\n",
    "# xlim=[0,80]\n",
    "# ax.hist(t_term_values_fk,color='C0',alpha=0.3,density=True,bins=bins)\n",
    "# ax.hist(t_term_values_lr,color='C1',alpha=0.3,density=True,bins=bins)\n",
    "# bins = np.arange(0.,22.,1.6)\n",
    "# bins = np.arange(0.,220.,0.4)\n",
    "bins = np.arange(0.,220.,1.6)\n",
    "ax.hist(t_term_values_fk,color='C0',alpha=alpha,density=True,bins=bins,stacked=True,label='Fenton-Karma')\n",
    "# bins = np.linspace(0.,20.,51)\n",
    "bins = np.arange(0.,220.,0.4)\n",
    "ax.hist(t_term_values_lr,color='C1',alpha=alpha,density=True,bins=bins,stacked=True,label='Luo-Rudy')\n",
    "\n",
    "#format_plot\n",
    "format_plot(ax=ax,xlabel='Termination Time (s)',ylabel='PDF',fontsize=fontsize)#,use_loglog=True)\n",
    "# ax.set_xscale('log')\n",
    "ax.set_yscale('log')\n",
    "ax.set_xlim(xlim)\n",
    "# ax.set_ylim((11*1.0178650359332904e-05, 80))\n",
    "ax.set_ylim((11*1.0178650359332904e-05, 8))\n",
    "# format_plot(ax=ax,xlabel=r'$\\Gamma$ (s)',ylabel=r'PDF',fontsize=fontsize,use_loglog=use_loglog)\n",
    "ax.tick_params(top=True, right=True,direction='in',which='both')\n",
    "ax.legend(fontsize=fontsize-2,frameon=False)\n",
    "\n",
    "\n",
    "plt.show()"
   ]
  },
  {
   "cell_type": "code",
   "execution_count": null,
   "id": "f21f836d",
   "metadata": {},
   "outputs": [],
   "source": []
  },
  {
   "cell_type": "code",
   "execution_count": null,
   "id": "a02aceb6",
   "metadata": {},
   "outputs": [],
   "source": []
  },
  {
   "cell_type": "code",
   "execution_count": null,
   "id": "eb31ee2a",
   "metadata": {},
   "outputs": [],
   "source": []
  },
  {
   "cell_type": "code",
   "execution_count": null,
   "id": "5513b255",
   "metadata": {},
   "outputs": [],
   "source": []
  },
  {
   "cell_type": "code",
   "execution_count": 286,
   "id": "14e3f0c9",
   "metadata": {
    "ExecuteTime": {
     "end_time": "2022-09-26T20:38:39.404477Z",
     "start_time": "2022-09-26T20:38:39.049596Z"
    }
   },
   "outputs": [
    {
     "name": "stdout",
     "output_type": "stream",
     "text": [
      "MLE fits of MTT: shape, loc, scale\n",
      "Fenton-Karma: 0.9841,0.0080,28.5539\n",
      "Luo-Rudy: 1.1556,-0.0002,0.6454\n"
     ]
    }
   ],
   "source": [
    "#TODO: compute xy values of histogram\n",
    "# bins_fk=np.arange(0,50,1.6)\n",
    "# bins_fk=np.arange(0,20,0.4)\n",
    "bins_fk=np.arange(0,40,0.4)\n",
    "# bins_fk=np.arange(0,40,1)\n",
    "#DONE: compute the histograms\n",
    "barheights_fk,bins_fk = np.histogram(\n",
    "    t_term_values_fk,\n",
    "    bins=bins_fk,#10,\n",
    "    range=None,\n",
    "    normed=None,\n",
    "    weights=None,\n",
    "    density=False,\n",
    ")\n",
    "t_term_fk=0.5*(bins_fk[1:]+bins_fk[:-1])\n",
    "\n",
    "# bins_lr=np.arange(0,16,0.4)\n",
    "bins_lr=np.arange(0,40,0.4)\n",
    "# bins_lr=np.arange(0,40,1)\n",
    "barheights_lr,bins_lr = np.histogram(\n",
    "    t_term_values_lr,\n",
    "    bins=bins_lr,#bins[bins<0.45],#10,\n",
    "    range=None,\n",
    "    normed=None,\n",
    "    weights=None,\n",
    "    density=False,\n",
    ")\n",
    "t_term_lr=0.5*(bins_lr[1:]+bins_lr[:-1])\n",
    "num_samples = t_term_values_lr.shape[0]\n",
    "prob_fk = barheights_fk/(bins_fk[1:]-bins_fk[:-1])/num_samples\n",
    "num_samples = t_term_values_fk.shape[0]\n",
    "prob_lr = barheights_lr/(bins_lr[1:]-bins_lr[:-1])/num_samples\n",
    "# prob_fk = barheights_fk/num_samples\n",
    "# prob_lr = barheights_lr/num_samples\n",
    "\n",
    "#fit analytic functions to these distributions\n",
    "shpe_fk,loc_fk,scale_fk = gamma.fit(t_term_values_fk,method='MLE')\n",
    "shpe_lr,loc_lr,scale_lr = gamma.fit(t_term_values_lr,method='MLE')\n",
    " # erlang.fit(t_term_values_fk),\n",
    "\n",
    "\n",
    "print(f\"MLE fits of MTT: shape, loc, scale\")\n",
    "print(f\"Fenton-Karma: {shpe_fk:.4f},{loc_fk:.4f},{scale_fk:.4f}\")\n",
    "print(f\"Luo-Rudy: {shpe_lr:.4f},{loc_lr:.4f},{scale_lr:.4f}\")"
   ]
  },
  {
   "cell_type": "code",
   "execution_count": 272,
   "id": "c2b832ad",
   "metadata": {
    "ExecuteTime": {
     "end_time": "2022-09-23T23:36:00.456814Z",
     "start_time": "2022-09-23T23:35:59.981174Z"
    }
   },
   "outputs": [
    {
     "data": {
      "image/png": "[encoded data removed]",
      "text/plain": [
       "<Figure size 400x400 with 1 Axes>"
      ]
     },
     "metadata": {},
     "output_type": "display_data"
    }
   ],
   "source": [
    "fig,ax=plt.subplots(figsize=(4,4))\n",
    "fontsize=16\n",
    "alpha=0.9\n",
    "# xlim=[0,250]\n",
    "# xlim=[0,100]\n",
    "# xlim=[0,20]\n",
    "xlim=[0,40]\n",
    "\n",
    "# #plot histograms\n",
    "# bins = np.arange(0.,220.,1.6)\n",
    "# ax.hist(t_term_values_fk,color='C0',alpha=alpha,density=True,bins=bins,stacked=True)#,label='Fenton-Karma')\n",
    "# bins = np.arange(0.,220.,0.4)\n",
    "# ax.hist(t_term_values_lr,color='C1',alpha=alpha,density=True,bins=bins,stacked=True)#,label='Luo-Rudy')\n",
    "\n",
    "# #plot line plot traces\n",
    "# ax.plot(t_term_fk,prob_fk,color='C0',alpha=alpha,label='Fenton-Karma')\n",
    "# ax.plot(t_term_lr,prob_lr,color='C1',alpha=alpha,label='Luo-Rudy')\n",
    "#plot line plot traces\n",
    "ax.scatter(t_term_fk,prob_fk,color='C0',alpha=alpha,label='Fenton-Karma',s=10)\n",
    "ax.scatter(t_term_lr,prob_lr,color='C1',alpha=alpha,label='Luo-Rudy',s=10)\n",
    "\n",
    "x = np.linspace(gamma.ppf(0.01, shpe_fk,loc=loc_fk,scale=scale_fk),\n",
    "                gamma.ppf(0.99, shpe_fk,loc=loc_fk,scale=scale_fk), 100)\n",
    "# x = np.arange(0.1,40,0.4)\n",
    "ax.plot(x, gamma.pdf(x, shpe_fk,loc=loc_fk,scale=scale_fk),\n",
    "       'k-', lw=1, alpha=alpha, label='_MLE Fit')\n",
    "ax.plot(x, gamma.pdf(x, shpe_lr,loc=loc_lr,scale=scale_lr),\n",
    "       'k-', lw=1, alpha=alpha, label='_MLE Fit')\n",
    "\n",
    "#format_plot\n",
    "format_plot(ax=ax,xlabel='Termination Time (s)',ylabel='Probability',fontsize=fontsize)#,use_loglog=True)\n",
    "# ax.set_xscale('log')\n",
    "ax.set_yscale('log')\n",
    "ax.set_xlim(xlim)\n",
    "# ax.set_ylim((11*1.0178650359332904e-05, 80))\n",
    "# ax.set_ylim((11*1.0178650359332904e-05, 8))\n",
    "ax.set_ylim((2e-4, 2))\n",
    "ax.tick_params(top=True, right=True,direction='in',which='both')\n",
    "ax.legend(fontsize=fontsize-2,frameon=False)\n",
    "plt.show()"
   ]
  },
  {
   "cell_type": "markdown",
   "id": "f083f9b7",
   "metadata": {},
   "source": [
    "for LR model, it looks like $Prob[T_{term}]\\sim e^{-T_{term}/\\tau_{LR}}$.\n",
    "\n",
    "for FK model, it looks like $Prob[T_{term}]\\sim T_{term}^k e^{-T_{term}/\\tau_{LR}}$.\n",
    "\n"
   ]
  },
  {
   "cell_type": "code",
   "execution_count": null,
   "id": "cd99c354",
   "metadata": {
    "ExecuteTime": {
     "end_time": "2022-09-23T23:17:20.048237Z",
     "start_time": "2022-09-23T23:17:19.997737Z"
    }
   },
   "outputs": [],
   "source": []
  },
  {
   "cell_type": "code",
   "execution_count": 220,
   "id": "52d0759f",
   "metadata": {
    "ExecuteTime": {
     "end_time": "2022-09-23T23:12:58.561230Z",
     "start_time": "2022-09-23T23:12:58.464609Z"
    }
   },
   "outputs": [
    {
     "data": {
      "text/plain": [
       "(1.1555431189836654, -0.000164782367815039, 0.6454112781323953)"
      ]
     },
     "execution_count": 220,
     "metadata": {},
     "output_type": "execute_result"
    }
   ],
   "source": [
    "erlang.fit(t_term_values_lr)"
   ]
  },
  {
   "cell_type": "code",
   "execution_count": 226,
   "id": "57e38a86",
   "metadata": {
    "ExecuteTime": {
     "end_time": "2022-09-23T23:20:49.069388Z",
     "start_time": "2022-09-23T23:20:48.687719Z"
    }
   },
   "outputs": [
    {
     "data": {
      "image/png": "[encoded data removed]",
      "text/plain": [
       "<Figure size 400x400 with 1 Axes>"
      ]
     },
     "metadata": {},
     "output_type": "display_data"
    }
   ],
   "source": [
    "fig,ax=plt.subplots(figsize=(4,4))\n",
    "fontsize=16\n",
    "alpha=0.9\n",
    "# xlim=[0,250]\n",
    "# xlim=[0,100]\n",
    "# xlim=[0,20]\n",
    "xlim=[0,40]\n",
    "\n",
    "\n",
    "\n",
    "\n",
    "#format_plot\n",
    "format_plot(ax=ax,xlabel='Termination Time (s)',ylabel='Probability',fontsize=fontsize)#,use_loglog=True)\n",
    "# ax.set_xscale('log')\n",
    "ax.set_yscale('log')\n",
    "ax.set_xlim(xlim)\n",
    "# ax.set_ylim((11*1.0178650359332904e-05, 80))\n",
    "# ax.set_ylim((11*1.0178650359332904e-05, 8))\n",
    "ax.set_ylim((2e-4, 2))\n",
    "ax.tick_params(top=True, right=True,direction='in',which='both')\n",
    "ax.legend(fontsize=fontsize-2,frameon=False)\n",
    "plt.show()"
   ]
  },
  {
   "cell_type": "code",
   "execution_count": 1,
   "id": "7b0e2c2e",
   "metadata": {
    "ExecuteTime": {
     "end_time": "2022-10-25T18:40:51.034487Z",
     "start_time": "2022-10-25T18:40:50.866826Z"
    }
   },
   "outputs": [
    {
     "data": {
      "text/plain": [
       "3531"
      ]
     },
     "execution_count": 1,
     "metadata": {},
     "output_type": "execute_result"
    }
   ],
   "source": [
    "422+345+344+394+307+273+250+228+234+361+270+103"
   ]
  },
  {
   "cell_type": "code",
   "execution_count": 2,
   "id": "e0ca7488",
   "metadata": {
    "ExecuteTime": {
     "end_time": "2022-10-25T18:47:51.934994Z",
     "start_time": "2022-10-25T18:47:51.921803Z"
    }
   },
   "outputs": [
    {
     "data": {
      "text/plain": [
       "304"
      ]
     },
     "execution_count": 2,
     "metadata": {},
     "output_type": "execute_result"
    }
   ],
   "source": [
    "19*16"
   ]
  },
  {
   "cell_type": "code",
   "execution_count": 3,
   "id": "fb2b6450",
   "metadata": {
    "ExecuteTime": {
     "end_time": "2022-10-25T18:48:37.539830Z",
     "start_time": "2022-10-25T18:48:37.533431Z"
    }
   },
   "outputs": [
    {
     "data": {
      "text/plain": [
       "3835"
      ]
     },
     "execution_count": 3,
     "metadata": {},
     "output_type": "execute_result"
    }
   ],
   "source": [
    "3531+304"
   ]
  },
  {
   "cell_type": "code",
   "execution_count": 4,
   "id": "e145a431",
   "metadata": {
    "ExecuteTime": {
     "end_time": "2022-10-25T18:48:57.751564Z",
     "start_time": "2022-10-25T18:48:57.747408Z"
    }
   },
   "outputs": [
    {
     "data": {
      "text/plain": [
       "85"
      ]
     },
     "execution_count": 4,
     "metadata": {},
     "output_type": "execute_result"
    }
   ],
   "source": [
    "3835-3750"
   ]
  },
  {
   "cell_type": "code",
   "execution_count": null,
   "id": "238860ed",
   "metadata": {},
   "outputs": [],
   "source": [
    "$V_\\text{threshold}=0.4V''-V'=$.\n",
    "% V ′ = 90mV and V ′′ = 150mV"
   ]
  },
  {
   "cell_type": "code",
   "execution_count": 5,
   "id": "5b4f3f85",
   "metadata": {
    "ExecuteTime": {
     "end_time": "2022-10-25T19:01:51.713617Z",
     "start_time": "2022-10-25T19:01:51.708376Z"
    }
   },
   "outputs": [
    {
     "data": {
      "text/plain": [
       "-30.0"
      ]
     },
     "execution_count": 5,
     "metadata": {},
     "output_type": "execute_result"
    }
   ],
   "source": [
    "0.4*150-90"
   ]
  },
  {
   "cell_type": "code",
   "execution_count": null,
   "id": "7db74b8c",
   "metadata": {},
   "outputs": [],
   "source": []
  }
 ],
 "metadata": {
  "hide_input": false,
  "kernelspec": {
   "display_name": "Python 3 (ipykernel)",
   "language": "python",
   "name": "python3"
  },
  "language_info": {
   "codemirror_mode": {
    "name": "ipython",
    "version": 3
   },
   "file_extension": ".py",
   "mimetype": "text/x-python",
   "name": "python",
   "nbconvert_exporter": "python",
   "pygments_lexer": "ipython3",
   "version": "3.9.5"
  },
  "latex_envs": {
   "LaTeX_envs_menu_present": true,
   "autoclose": true,
   "autocomplete": false,
   "bibliofile": "biblio.bib",
   "cite_by": "apalike",
   "current_citInitial": 1,
   "eqLabelWithNumbers": false,
   "eqNumInitial": 1,
   "hotkeys": {
    "equation": "Ctrl-E",
    "itemize": "Ctrl-I"
   },
   "labels_anchors": false,
   "latex_user_defs": false,
   "report_style_numbering": false,
   "user_envs_cfg": false
  },
  "nbTranslate": {
   "displayLangs": [
    "*"
   ],
   "hotkey": "alt-t",
   "langInMainMenu": true,
   "sourceLang": "en",
   "targetLang": "fr",
   "useGoogleTranslate": true
  },
  "toc": {
   "base_numbering": 1,
   "nav_menu": {},
   "number_sections": true,
   "sideBar": true,
   "skip_h1_title": false,
   "title_cell": "Table of Contents",
   "title_sidebar": "Contents",
   "toc_cell": false,
   "toc_position": {},
   "toc_section_display": true,
   "toc_window_display": false
  }
 },
 "nbformat": 4,
 "nbformat_minor": 5
}
