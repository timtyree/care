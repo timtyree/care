{
 "cells": [
  {
   "cell_type": "markdown",
   "metadata": {},
   "source": [
    "# Tracking Spiral Tips with Trackpy\n",
    "Tim Tyree<br>\n",
    "    6.6.2020</br>"
   ]
  },
  {
   "cell_type": "code",
   "execution_count": 4,
   "metadata": {
    "ExecuteTime": {
     "end_time": "2020-06-06T19:45:04.007454Z",
     "start_time": "2020-06-06T19:45:03.942188Z"
    }
   },
   "outputs": [
    {
     "name": "stdout",
     "output_type": "stream",
     "text": [
      "/Users/timothytyree/Documents/GitHub/care/notebooks\n",
      "Automatic calling is: Smart\n"
     ]
    }
   ],
   "source": [
    "import trackpy as tp, numpy as np, pandas as pd, matplotlib.pyplot as plt, scipy.stats as stats\n",
    "\n",
    "print(os.getcwd())\n",
    "from lib.ProgressBar import *\n",
    "from lib.minimal_model import *\n",
    "\n",
    "#automate the boring stuff\n",
    "from IPython import utils\n",
    "import time, os, sys, re\n",
    "beep = lambda x: os.system(\"echo -n '\\\\a';sleep 0.2;\" * x)\n",
    "if not 'nb_dir' in globals():\n",
    "    nb_dir = os.getcwd()\n",
    "width = 512\n",
    "height = 512\n",
    "channel_no = 3\n",
    "\n",
    "%autocall 1\n",
    "%load_ext autoreload\n",
    "%autoreload 2"
   ]
  },
  {
   "cell_type": "code",
   "execution_count": 8,
   "metadata": {
    "ExecuteTime": {
     "end_time": "2020-06-06T19:47:43.129823Z",
     "start_time": "2020-06-06T19:47:42.984777Z"
    }
   },
   "outputs": [],
   "source": [
    "try:\n",
    "#     !mv Data/output/ Data/tip_positions/\n",
    "except:\n",
    "    print('Data not moved over')\n"
   ]
  },
  {
   "cell_type": "code",
   "execution_count": 11,
   "metadata": {
    "ExecuteTime": {
     "end_time": "2020-06-06T19:48:34.965868Z",
     "start_time": "2020-06-06T19:48:34.914238Z"
    }
   },
   "outputs": [],
   "source": [
    "file_list = !ls Data/tip_positions"
   ]
  },
  {
   "cell_type": "code",
   "execution_count": 12,
   "metadata": {
    "ExecuteTime": {
     "end_time": "2020-06-06T19:48:39.365986Z",
     "start_time": "2020-06-06T19:48:39.337205Z"
    }
   },
   "outputs": [
    {
     "data": {
      "text/plain": [
       "['tip_positions_chaos_circle6_sigma_12_threshold_0.6_wrapping_true_at_time_3600.0.csv',\n",
       " 'tip_positions_chaos_circle6_sigma_2_threshold_0.6_wrapping_true_at_time_3600.0.csv',\n",
       " 'tip_positions_chaos_circle6_sigma_2_threshold_0.6_wrapping_true_at_time_5400.0.csv',\n",
       " 'tip_positions_chaos_circle6_sigma_2_threshold_0.9_at_time_3600.2.csv',\n",
       " 'tip_positions_chaos_circle6_sigma_2_threshold_0.9_wrapping_at_time_1800.0.csv',\n",
       " 'tip_positions_chaos_circle6_sigma_3_threshold_0.6_wrapping_true_at_time_3600.0.csv',\n",
       " 'tip_positions_chaos_circle6_sigma_3_threshold_0.7_wrapping_true_at_time_1800.0.csv',\n",
       " 'tip_positions_chaos_circle6_sigma_3_threshold_0.7_wrapping_true_at_time_3600.0.csv',\n",
       " 'tip_positions_chaos_circle6_sigma_3_threshold_0.8_wrapping_true_at_time_1800.0.csv',\n",
       " 'tip_positions_chaos_circle6_sigma_3_threshold_0.8_wrapping_true_at_time_4500.0.csv',\n",
       " 'tip_positions_chaos_circle6_sigma_3_threshold_0.95_wrapping_true_at_time_4500.0.csv',\n",
       " 'tip_positions_chaos_circle6_sigma_3_threshold_0.99_wrapping_true_at_time_4500.0.csv',\n",
       " 'tip_positions_chaos_circle6_sigma_4_threshold_0.6_wrapping_true_at_time_4500.0.csv',\n",
       " 'tip_positions_chaos_circle6_sigma_4_threshold_0.7_wrapping_true_at_time_3600.0.csv',\n",
       " 'tip_positions_chaos_circle6_sigma_4_threshold_0.7_wrapping_true_at_time_5400.0.csv',\n",
       " 'tip_positions_chaos_circle6_sigma_4_threshold_0.9_wrapping_true_at_time_1800.0.csv',\n",
       " 'tip_positions_chaos_circle6_sigma_5_threshold_0.6_wrapping_true_at_time_3600.0.csv',\n",
       " 'tip_positions_chaos_circle6_sigma_5_threshold_0.9_wrapping_true_at_time_4500.0.csv',\n",
       " 'tip_positions_chaos_circle6_sigma_8_threshold_0.6_wrapping_true_at_time_4500.0.csv',\n",
       " 'tip_positions_chaos_circle6_sigma_8_threshold_0.9_wrapping_true_at_time_4500.0.csv',\n",
       " 'tip_positions_chaos_circle6_starting_at_5400.0_sigma_0.001_threshold_0.95_wrapping_true_at_time_1461.1.csv',\n",
       " 'tip_positions_chaos_circle6_starting_at_5400.0_sigma_0.001_threshold_0.999_wrapping_true_at_time_1468.7.csv',\n",
       " 'tip_positions_chaos_circle6_starting_at_5400.0_sigma_0.001_threshold_0.99_wrapping_true_at_time_1464.9.csv',\n",
       " 'tip_positions_chaos_circle6_starting_at_5400.0_sigma_0.01_threshold_0.95_wrapping_true_at_time_1455.7.csv',\n",
       " 'tip_positions_chaos_circle6_starting_at_5400.0_sigma_0.1_threshold_0.95_wrapping_true_at_time_1485.2.csv']"
      ]
     },
     "execution_count": 12,
     "metadata": {},
     "output_type": "execute_result"
    }
   ],
   "source": [
    "file_list"
   ]
  },
  {
   "cell_type": "markdown",
   "metadata": {},
   "source": [
    "# TODO: for a given .csv of tip positions, make their trajectories naively in trackpy"
   ]
  },
  {
   "cell_type": "code",
   "execution_count": 37,
   "metadata": {
    "ExecuteTime": {
     "end_time": "2020-06-06T20:05:27.917121Z",
     "start_time": "2020-06-06T20:05:27.705338Z"
    }
   },
   "outputs": [
    {
     "data": {
      "text/html": [
       "<div>\n",
       "<style scoped>\n",
       "    .dataframe tbody tr th:only-of-type {\n",
       "        vertical-align: middle;\n",
       "    }\n",
       "\n",
       "    .dataframe tbody tr th {\n",
       "        vertical-align: top;\n",
       "    }\n",
       "\n",
       "    .dataframe thead th {\n",
       "        text-align: right;\n",
       "    }\n",
       "</style>\n",
       "<table border=\"1\" class=\"dataframe\">\n",
       "  <thead>\n",
       "    <tr style=\"text-align: right;\">\n",
       "      <th></th>\n",
       "      <th>t</th>\n",
       "      <th>x</th>\n",
       "      <th>y</th>\n",
       "      <th>s</th>\n",
       "      <th>n</th>\n",
       "      <th>dn</th>\n",
       "      <th>frame</th>\n",
       "    </tr>\n",
       "  </thead>\n",
       "  <tbody>\n",
       "    <tr>\n",
       "      <th>0</th>\n",
       "      <td>0.2</td>\n",
       "      <td>158.868334</td>\n",
       "      <td>323.265710</td>\n",
       "      <td>0</td>\n",
       "      <td>8</td>\n",
       "      <td>0</td>\n",
       "      <td>0.2</td>\n",
       "    </tr>\n",
       "    <tr>\n",
       "      <th>1</th>\n",
       "      <td>0.2</td>\n",
       "      <td>159.242604</td>\n",
       "      <td>317.539617</td>\n",
       "      <td>0</td>\n",
       "      <td>8</td>\n",
       "      <td>0</td>\n",
       "      <td>0.2</td>\n",
       "    </tr>\n",
       "    <tr>\n",
       "      <th>2</th>\n",
       "      <td>0.2</td>\n",
       "      <td>161.977484</td>\n",
       "      <td>302.301867</td>\n",
       "      <td>0</td>\n",
       "      <td>8</td>\n",
       "      <td>0</td>\n",
       "      <td>0.2</td>\n",
       "    </tr>\n",
       "    <tr>\n",
       "      <th>3</th>\n",
       "      <td>0.2</td>\n",
       "      <td>161.905459</td>\n",
       "      <td>209.866101</td>\n",
       "      <td>0</td>\n",
       "      <td>8</td>\n",
       "      <td>0</td>\n",
       "      <td>0.2</td>\n",
       "    </tr>\n",
       "    <tr>\n",
       "      <th>4</th>\n",
       "      <td>0.2</td>\n",
       "      <td>159.057467</td>\n",
       "      <td>194.560705</td>\n",
       "      <td>0</td>\n",
       "      <td>8</td>\n",
       "      <td>0</td>\n",
       "      <td>0.2</td>\n",
       "    </tr>\n",
       "  </tbody>\n",
       "</table>\n",
       "</div>"
      ],
      "text/plain": [
       "     t           x           y  s  n  dn  frame\n",
       "0  0.2  158.868334  323.265710  0  8   0    0.2\n",
       "1  0.2  159.242604  317.539617  0  8   0    0.2\n",
       "2  0.2  161.977484  302.301867  0  8   0    0.2\n",
       "3  0.2  161.905459  209.866101  0  8   0    0.2\n",
       "4  0.2  159.057467  194.560705  0  8   0    0.2"
      ]
     },
     "execution_count": 37,
     "metadata": {},
     "output_type": "execute_result"
    }
   ],
   "source": [
    "file_name = 'Data/tip_positions/'+file_list[0]\n",
    "df = pd.read_csv(file_name, index_col=0)\n",
    "df['frame'] = df['t']\n",
    "df.head()"
   ]
  },
  {
   "cell_type": "code",
   "execution_count": 31,
   "metadata": {
    "ExecuteTime": {
     "end_time": "2020-06-06T20:03:27.803987Z",
     "start_time": "2020-06-06T20:03:27.752728Z"
    }
   },
   "outputs": [
    {
     "name": "stdout",
     "output_type": "stream",
     "text": [
      "Are there any NaN's out there? \n",
      " --> False.\n"
     ]
    }
   ],
   "source": [
    "print(f\"Are there any NaN's out there? \\n --> {df.isnull().max().any()}.\")\n"
   ]
  },
  {
   "cell_type": "code",
   "execution_count": 65,
   "metadata": {
    "ExecuteTime": {
     "end_time": "2020-06-06T20:15:11.318797Z",
     "start_time": "2020-06-06T20:15:11.279522Z"
    },
    "code_folding": []
   },
   "outputs": [
    {
     "ename": "TypeError",
     "evalue": "link_df_iter() missing 1 required positional argument: 'f_iter'",
     "output_type": "error",
     "traceback": [
      "\u001b[0;31m---------------------------------------------------------------------------\u001b[0m",
      "\u001b[0;31mTypeError\u001b[0m                                 Traceback (most recent call last)",
      "\u001b[0;32m<ipython-input-65-a02b6f2649ad>\u001b[0m in \u001b[0;36m<module>\u001b[0;34m\u001b[0m\n\u001b[1;32m      3\u001b[0m     \u001b[0mreader\u001b[0m\u001b[0;34m=\u001b[0m\u001b[0mdf\u001b[0m\u001b[0;34m,\u001b[0m\u001b[0;34m\u001b[0m\u001b[0;34m\u001b[0m\u001b[0m\n\u001b[1;32m      4\u001b[0m     \u001b[0msearch_range\u001b[0m\u001b[0;34m=\u001b[0m\u001b[0;36m10.\u001b[0m\u001b[0;34m,\u001b[0m\u001b[0;34m\u001b[0m\u001b[0;34m\u001b[0m\u001b[0m\n\u001b[0;32m----> 5\u001b[0;31m     separation=10**-8)\n\u001b[0m",
      "\u001b[0;31mTypeError\u001b[0m: link_df_iter() missing 1 required positional argument: 'f_iter'"
     ]
    }
   ],
   "source": [
    "# lst = [val for val in gen]\n",
    "gen = tp.link_df_iter(\n",
    "    reader=df,\n",
    "    search_range=10.,\n",
    "    separation=10**-8)"
   ]
  },
  {
   "cell_type": "code",
   "execution_count": 67,
   "metadata": {
    "ExecuteTime": {
     "end_time": "2020-06-06T20:15:35.407001Z",
     "start_time": "2020-06-06T20:15:35.378018Z"
    }
   },
   "outputs": [],
   "source": [
    "# gen.send([])\n",
    "tracks = tp.link_df_iter(df, search_range=1)"
   ]
  },
  {
   "cell_type": "code",
   "execution_count": 69,
   "metadata": {
    "ExecuteTime": {
     "end_time": "2020-06-06T20:16:02.850248Z",
     "start_time": "2020-06-06T20:16:02.815076Z"
    }
   },
   "outputs": [
    {
     "ename": "ModuleNotFoundError",
     "evalue": "No module named 'syncio'",
     "output_type": "error",
     "traceback": [
      "\u001b[0;31m---------------------------------------------------------------------------\u001b[0m",
      "\u001b[0;31mModuleNotFoundError\u001b[0m                       Traceback (most recent call last)",
      "\u001b[0;32m<ipython-input-69-12e735eb8764>\u001b[0m in \u001b[0;36m<module>\u001b[0;34m\u001b[0m\n\u001b[0;32m----> 1\u001b[0;31m \u001b[0;32mimport\u001b[0m \u001b[0msyncio\u001b[0m\u001b[0;34m\u001b[0m\u001b[0;34m\u001b[0m\u001b[0m\n\u001b[0m\u001b[1;32m      2\u001b[0m \u001b[0mtracks\u001b[0m\u001b[0;34m\u001b[0m\u001b[0;34m\u001b[0m\u001b[0m\n",
      "\u001b[0;31mModuleNotFoundError\u001b[0m: No module named 'syncio'"
     ]
    }
   ],
   "source": [
    "import syncio\n",
    "tracks"
   ]
  },
  {
   "cell_type": "code",
   "execution_count": 42,
   "metadata": {
    "ExecuteTime": {
     "end_time": "2020-06-06T20:10:24.987164Z",
     "start_time": "2020-06-06T20:10:24.958697Z"
    }
   },
   "outputs": [],
   "source": [
    "tp.ptraj(\n",
    "    traj=df,\n",
    "    colorby='frame',#'particle',\n",
    "    mpp=None,\n",
    "    label=False,\n",
    "    superimpose=None,\n",
    "    cmap=None,\n",
    "    ax=None,\n",
    "    t_column=None,\n",
    "    pos_columns=None,\n",
    "    plot_style={},#passed to ax.plot(**kwargs)\n",
    "#     **kwargs,#dict for the other keywords \n",
    ")"
   ]
  },
  {
   "cell_type": "code",
   "execution_count": null,
   "metadata": {},
   "outputs": [],
   "source": []
  },
  {
   "cell_type": "code",
   "execution_count": 35,
   "metadata": {
    "ExecuteTime": {
     "end_time": "2020-06-06T20:04:44.294974Z",
     "start_time": "2020-06-06T20:04:44.263975Z"
    }
   },
   "outputs": [],
   "source": [
    "tp.api.direction_corr?"
   ]
  }
 ],
 "metadata": {
  "kernelspec": {
   "display_name": "Python 3",
   "language": "python",
   "name": "python3"
  },
  "language_info": {
   "codemirror_mode": {
    "name": "ipython",
    "version": 3
   },
   "file_extension": ".py",
   "mimetype": "text/x-python",
   "name": "python",
   "nbconvert_exporter": "python",
   "pygments_lexer": "ipython3",
   "version": "3.7.7"
  },
  "varInspector": {
   "cols": {
    "lenName": 16,
    "lenType": 16,
    "lenVar": 40
   },
   "kernels_config": {
    "python": {
     "delete_cmd_postfix": "",
     "delete_cmd_prefix": "del ",
     "library": "var_list.py",
     "varRefreshCmd": "print(var_dic_list())"
    },
    "r": {
     "delete_cmd_postfix": ") ",
     "delete_cmd_prefix": "rm(",
     "library": "var_list.r",
     "varRefreshCmd": "cat(var_dic_list()) "
    }
   },
   "types_to_exclude": [
    "module",
    "function",
    "builtin_function_or_method",
    "instance",
    "_Feature"
   ],
   "window_display": false
  }
 },
 "nbformat": 4,
 "nbformat_minor": 2
}
