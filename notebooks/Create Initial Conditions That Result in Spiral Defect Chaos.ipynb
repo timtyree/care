{
 "cells": [
  {
   "cell_type": "markdown",
   "metadata": {
    "heading_collapsed": true
   },
   "source": [
    "# Create Initial Conditions That Result in Spiral Defect Chaos\n",
    "Tim Tyree<br>\n",
    "6.8.2020"
   ]
  },
  {
   "cell_type": "code",
   "execution_count": null,
   "metadata": {
    "ExecuteTime": {
     "end_time": "2021-01-16T10:04:16.521470Z",
     "start_time": "2021-01-16T10:04:15.544447Z"
    },
    "hidden": true
   },
   "outputs": [],
   "source": [
    "#pylab\n",
    "%matplotlib inline\n",
    "import numpy as np, pandas as pd, matplotlib.pyplot as plt\n",
    "from pylab import imshow, show\n",
    "import skimage as sk\n",
    "from skimage import measure, filters\n",
    "import matplotlib.pyplot as plt, numpy as np, os\n",
    "from numba import njit, jit, vectorize\n",
    "from PIL import Image\n",
    "import imageio\n",
    "# import cv2 as cv\n",
    "\n",
    "\n",
    "\n",
    "#automate the boring stuff\n",
    "from IPython import utils\n",
    "import time, os, sys, re\n",
    "beep = lambda x: os.system(\"echo -n '\\\\a';sleep 0.2;\" * x)\n",
    "if not 'nb_dir' in globals():\n",
    "    nb_dir = os.getcwd()\n",
    "width = 512\n",
    "height = 512\n",
    "channel_no = 3\n",
    "\n",
    "#load the libraries\n",
    "from lib import *\n",
    "# from lib.operari import *\n",
    "# from lib.ProgressBar import *\n",
    "# from lib.minimal_model import *\n",
    "# from lib.TexturePlot import *\n",
    "# from lib.get_tips import *\n",
    "# from lib.intersection import *\n",
    "#TODO: use cuda via numba\n",
    "# from numba import jit, njit, vectorize, cuda, uint32, f8, uint8\n",
    "# from lib.contours_to_tips import *\n",
    "\n",
    "%autocall 1\n",
    "%load_ext autoreload\n",
    "%autoreload 2"
   ]
  },
  {
   "cell_type": "markdown",
   "metadata": {
    "heading_collapsed": true
   },
   "source": [
    "# create a 512x512x3 initial condition that's well controlled and produces SDC"
   ]
  },
  {
   "cell_type": "markdown",
   "metadata": {
    "heading_collapsed": true,
    "hidden": true
   },
   "source": [
    "## create a 'time origin' in a simple, controlled way\n",
    "create a uniform, horizontal stimulus, then time step up to time = 100, at time steps of h = 0.01.  Record."
   ]
  },
  {
   "cell_type": "code",
   "execution_count": null,
   "metadata": {
    "ExecuteTime": {
     "end_time": "2020-06-17T22:48:27.007123Z",
     "start_time": "2020-06-17T22:48:26.976888Z"
    },
    "hidden": true
   },
   "outputs": [],
   "source": [
    "# make the relevant initial texture\n",
    "txt = np.zeros((512,512,3))\n",
    "zero_txt = txt.copy()\n",
    "txt[256-32:256+32,:,0] = 0.5\n",
    "txt[...,1] = 0.5\n",
    "txt[...,2] = 0.5\n",
    "tme = 0"
   ]
  },
  {
   "cell_type": "code",
   "execution_count": null,
   "metadata": {
    "ExecuteTime": {
     "end_time": "2020-06-09T00:03:18.807508Z",
     "start_time": "2020-06-09T00:03:18.569283Z"
    },
    "hidden": true
   },
   "outputs": [],
   "source": [
    "plt.imshow(txt)"
   ]
  },
  {
   "cell_type": "code",
   "execution_count": null,
   "metadata": {
    "ExecuteTime": {
     "end_time": "2020-06-09T00:00:55.100686Z",
     "start_time": "2020-06-08T23:56:46.169245Z"
    },
    "hidden": true
   },
   "outputs": [],
   "source": [
    "h = 0.01\n",
    "nsteps = 10**4\n",
    "for step in range(nsteps):\n",
    "    time_step(texture=txt, h = 0.01, zero_txt=zero_txt)\n",
    "    tme += h\n",
    "    printProgressBar(step + 1, nsteps, prefix = 'Progress:', suffix = 'Complete', length = 50)\n",
    "beep(1)\n",
    "print(f\"the time is tme = {tme}.\")"
   ]
  },
  {
   "cell_type": "code",
   "execution_count": null,
   "metadata": {
    "ExecuteTime": {
     "end_time": "2020-06-09T00:12:45.833223Z",
     "start_time": "2020-06-09T00:12:45.778447Z"
    },
    "hidden": true
   },
   "outputs": [],
   "source": [
    "save_fn = f\"ic_{txt.shape[1]}x{txt.shape[0]}_t={0}.npz\"\n",
    "print(save_fn)\n",
    "np.savez_compressed(f'{nb_dir}/Data/{save_fn}', txt)"
   ]
  },
  {
   "cell_type": "markdown",
   "metadata": {
    "heading_collapsed": true,
    "hidden": true
   },
   "source": [
    "## added a semicircle of stimulus tilted at 45º in the danger zone\n",
    "- Then confirm that spiral defect chaos commenses"
   ]
  },
  {
   "cell_type": "markdown",
   "metadata": {
    "heading_collapsed": true,
    "hidden": true
   },
   "source": [
    "## load test cases for pbc"
   ]
  },
  {
   "cell_type": "code",
   "execution_count": null,
   "metadata": {
    "ExecuteTime": {
     "end_time": "2020-06-17T22:48:45.300321Z",
     "start_time": "2020-06-17T22:48:45.257682Z"
    },
    "hidden": true
   },
   "outputs": [],
   "source": [
    "data_dir = f'{nb_dir}/Data/ic_512x512_t=0.npz'\n",
    "txt = np.load(data_dir)['arr_0']"
   ]
  },
  {
   "cell_type": "code",
   "execution_count": null,
   "metadata": {
    "ExecuteTime": {
     "end_time": "2020-06-18T00:47:43.519540Z",
     "start_time": "2020-06-18T00:47:42.856837Z"
    },
    "hidden": true
   },
   "outputs": [],
   "source": [
    "plt.imshow(txt)"
   ]
  },
  {
   "cell_type": "code",
   "execution_count": null,
   "metadata": {
    "ExecuteTime": {
     "end_time": "2020-06-17T22:51:38.598687Z",
     "start_time": "2020-06-17T22:51:38.571613Z"
    },
    "hidden": true
   },
   "outputs": [],
   "source": []
  },
  {
   "cell_type": "markdown",
   "metadata": {
    "heading_collapsed": true
   },
   "source": [
    "# DONE: add a semicircle of stimulus tilted at 45º in the danger zone\n",
    "- Then confirm that spiral defect chaos commenses"
   ]
  },
  {
   "cell_type": "code",
   "execution_count": null,
   "metadata": {
    "ExecuteTime": {
     "end_time": "2020-06-18T01:06:28.105604Z",
     "start_time": "2020-06-18T01:06:27.526465Z"
    },
    "hidden": true
   },
   "outputs": [],
   "source": [
    "#make initialization conditions\n",
    "deg = 45\n",
    "x0 = 512/2\n",
    "y0 = 512/4\n",
    "\n",
    "#make the initialization mesh\n",
    "img = 0*txt[...,0].copy()\n",
    "color_left_of_line(out=img, x0=x0, y0=y0, deg = deg, value=1.)  #make left of line mesh 0 or 1\n",
    "color_outside_range(out=img, x0=x0,y0=y0,r=64*2, val=0.0)  #make circle mesh 0 or 1\n",
    "#already done: hadamard product of the two.\n",
    "\n",
    "plt.imshow(img)"
   ]
  },
  {
   "cell_type": "code",
   "execution_count": null,
   "metadata": {
    "ExecuteTime": {
     "end_time": "2020-06-18T02:00:41.746814Z",
     "start_time": "2020-06-18T02:00:41.041225Z"
    },
    "hidden": true
   },
   "outputs": [],
   "source": [
    "# save this init + the origin\n",
    "out = txt.copy()\n",
    "out[...,0] += 10.*img\n",
    "plt.imshow(out)"
   ]
  },
  {
   "cell_type": "code",
   "execution_count": null,
   "metadata": {
    "ExecuteTime": {
     "end_time": "2020-06-18T02:00:43.694467Z",
     "start_time": "2020-06-18T02:00:43.623999Z"
    },
    "hidden": true
   },
   "outputs": [],
   "source": [
    "save_dir = nb_dir+f'/Data/ic_deg_{deg}_0'\n",
    "np.save(save_dir+f'.npy', arr=out)\n",
    "np.savez_compressed(save_dir+f'.npz', arr=out)"
   ]
  },
  {
   "cell_type": "code",
   "execution_count": null,
   "metadata": {
    "ExecuteTime": {
     "end_time": "2020-06-18T01:16:45.592758Z",
     "start_time": "2020-06-18T01:16:45.568175Z"
    },
    "hidden": true
   },
   "outputs": [],
   "source": [
    "save_dir\n"
   ]
  },
  {
   "cell_type": "markdown",
   "metadata": {
    "ExecuteTime": {
     "end_time": "2020-06-09T18:16:14.846658Z",
     "start_time": "2020-06-09T18:16:14.820532Z"
    },
    "hidden": true
   },
   "source": [
    "## off topic: get method from trimesh used to calculate volume"
   ]
  },
  {
   "cell_type": "code",
   "execution_count": null,
   "metadata": {
    "ExecuteTime": {
     "end_time": "2020-06-18T00:43:37.488947Z",
     "start_time": "2020-06-18T00:43:37.465624Z"
    },
    "hidden": true
   },
   "outputs": [],
   "source": [
    "\n",
    "# from skimage import draw\n",
    "\n",
    "# circle_coords = draw.circle(r=100, c=100, radius=100, shape=(512,512,3))\n",
    "# txt[circle_coords]\n",
    "\n",
    "\n",
    "# compute initial point and final point of line that goes through the circle's center\n",
    "# r0 = 0; c0 = xm - dst\n",
    "# r1 = txt.shape[1]-1; c1 = xm + dsb\n",
    "# draw that circle\n",
    "# line = draw.line(r0, c0, r1, c1)\n",
    "\n",
    "# ym = 512/4; xm = 512/2; #same as circle center\n",
    "# deg   = 45 # number of degrees semicircle is cut by\n",
    "# theta = deg/180*np.pi\n",
    "\n",
    "# #dist to top\n",
    "# dtt = ym\n",
    "# #dist to bottom\n",
    "# dtb = txt.shape[1]-ym-1\n",
    "# #use trig to get dist to sides\n",
    "# dst = int(np.around(np.tan(theta)*dtt))\n",
    "# dsb = int(np.around(np.tan(theta)*dtb))\n",
    "\n",
    "\n",
    "# img = 0*txt[...,0].copy()\n",
    "# line_x = line[0]\n",
    "# color_within_range(x0=512/2,y0=512/4,r=100, out=img, val=10., width=512,height=512)\n"
   ]
  },
  {
   "cell_type": "code",
   "execution_count": null,
   "metadata": {
    "ExecuteTime": {
     "end_time": "2020-06-09T20:48:07.674241Z",
     "start_time": "2020-06-09T20:48:03.523102Z"
    },
    "hidden": true
   },
   "outputs": [],
   "source": [
    "!pip3 install trimesh"
   ]
  },
  {
   "cell_type": "code",
   "execution_count": null,
   "metadata": {
    "ExecuteTime": {
     "end_time": "2020-06-09T21:23:22.574522Z",
     "start_time": "2020-06-09T21:23:22.545919Z"
    },
    "hidden": true
   },
   "outputs": [],
   "source": [
    "import trimesh\n",
    "# from lib.operari import *\n",
    "# import inspect"
   ]
  },
  {
   "cell_type": "code",
   "execution_count": null,
   "metadata": {
    "ExecuteTime": {
     "end_time": "2020-06-09T21:23:26.542225Z",
     "start_time": "2020-06-09T21:23:26.424728Z"
    },
    "hidden": true
   },
   "outputs": [],
   "source": [
    "file_name = 'ic_600x600.101.npz'\n",
    "file_dir = find_files(file_name, search_path=nb_dir)\n",
    "if len(file_dir)==0: raise('file not found')\n",
    "# print(\n",
    "file_dir=file_dir[0]\n",
    "# )\n",
    "# print(sys.path.exists(file_dir))"
   ]
  },
  {
   "cell_type": "code",
   "execution_count": null,
   "metadata": {
    "ExecuteTime": {
     "end_time": "2020-06-09T21:23:30.371616Z",
     "start_time": "2020-06-09T21:23:30.304540Z"
    },
    "hidden": true
   },
   "outputs": [],
   "source": [
    "# generate load_mesh from .npz array\n",
    "txt = np.load(file_dir)['arr_0']"
   ]
  },
  {
   "cell_type": "code",
   "execution_count": null,
   "metadata": {
    "ExecuteTime": {
     "end_time": "2020-06-09T21:23:34.212323Z",
     "start_time": "2020-06-09T21:23:34.189340Z"
    },
    "hidden": true
   },
   "outputs": [],
   "source": [
    "# #make a log folder\n",
    "make_log_folder(folder_name='Data/log-tmp/')"
   ]
  },
  {
   "cell_type": "code",
   "execution_count": null,
   "metadata": {
    "ExecuteTime": {
     "end_time": "2020-06-09T21:23:43.406736Z",
     "start_time": "2020-06-09T21:23:43.375942Z"
    },
    "hidden": true
   },
   "outputs": [],
   "source": [
    "# print(inspect.getsource(trimesh.creation.faces_to_edges))"
   ]
  },
  {
   "cell_type": "code",
   "execution_count": null,
   "metadata": {
    "ExecuteTime": {
     "end_time": "2020-06-09T21:25:26.324333Z",
     "start_time": "2020-06-09T21:25:26.295877Z"
    },
    "hidden": true
   },
   "outputs": [],
   "source": []
  },
  {
   "cell_type": "code",
   "execution_count": null,
   "metadata": {
    "ExecuteTime": {
     "end_time": "2020-06-09T21:25:42.122909Z",
     "start_time": "2020-06-09T21:25:42.090131Z"
    },
    "hidden": true
   },
   "outputs": [],
   "source": [
    "# print(inspect.getsource(trimesh.Trimesh.))\n",
    "#     trimesh.Trimesh.mass_properties\n",
    "trimesh.Trimesh.volume"
   ]
  },
  {
   "cell_type": "code",
   "execution_count": null,
   "metadata": {
    "ExecuteTime": {
     "end_time": "2020-06-09T21:00:28.580975Z",
     "start_time": "2020-06-09T21:00:28.545383Z"
    },
    "hidden": true
   },
   "outputs": [],
   "source": [
    "trimesh."
   ]
  },
  {
   "cell_type": "markdown",
   "metadata": {
    "ExecuteTime": {
     "end_time": "2020-06-09T21:00:59.766234Z",
     "start_time": "2020-06-09T21:00:59.730141Z"
    },
    "heading_collapsed": true
   },
   "source": [
    "# move the computational geometry ipynbs and lib from rapids-notebook/'trimesh work' over here to python/notebooks/\n",
    "Done on UB"
   ]
  },
  {
   "cell_type": "markdown",
   "metadata": {
    "heading_collapsed": true,
    "hidden": true
   },
   "source": [
    "## distractions"
   ]
  },
  {
   "cell_type": "markdown",
   "metadata": {
    "heading_collapsed": true,
    "hidden": true
   },
   "source": [
    "### TODO(when bored & w/ time): test trimesh.Trimesh.area and trimesh.Trimesh.volume can reproduce the right ratio for a sphere.\n",
    "\n",
    "### TODO: What sized cube yields a unit volume output? Hint: what's the volume for a right tetrahedron?\n",
    "\n",
    "### (and then) TODO: find out this \"surface integral\" that functionaly produces the volume of a watertight triangular mesh"
   ]
  },
  {
   "cell_type": "code",
   "execution_count": null,
   "metadata": {
    "hidden": true
   },
   "outputs": [],
   "source": [
    "\n",
    "\n",
    "\n",
    "\n"
   ]
  },
  {
   "cell_type": "markdown",
   "metadata": {
    "heading_collapsed": true
   },
   "source": [
    "# partition WJ's 600x600 ic into nine 200x200 patches. save\n",
    "each patch is 5cm x 5 cm<br>\n",
    "6.23.2020\n"
   ]
  },
  {
   "cell_type": "code",
   "execution_count": null,
   "metadata": {
    "ExecuteTime": {
     "end_time": "2020-06-23T19:28:10.967961Z",
     "start_time": "2020-06-23T19:27:49.066190Z"
    },
    "hidden": true
   },
   "outputs": [],
   "source": [
    "input_fn = search_for_file()"
   ]
  },
  {
   "cell_type": "code",
   "execution_count": null,
   "metadata": {
    "ExecuteTime": {
     "end_time": "2020-06-23T19:28:27.450259Z",
     "start_time": "2020-06-23T19:28:27.367200Z"
    },
    "hidden": true
   },
   "outputs": [],
   "source": [
    "txt = load_buffer(input_fn)"
   ]
  },
  {
   "cell_type": "code",
   "execution_count": null,
   "metadata": {
    "ExecuteTime": {
     "end_time": "2020-06-23T19:31:43.694515Z",
     "start_time": "2020-06-23T19:31:43.615252Z"
    },
    "hidden": true
   },
   "outputs": [],
   "source": [
    "save_fn = nb_dir+'/Data/initial-conditions/ic_200x200.101.11.npz'\n",
    "txt_out = txt[0:200,0:200]\n",
    "np.savez_compressed(save_fn,txt_out)\n",
    "print(txt_out.shape)"
   ]
  },
  {
   "cell_type": "code",
   "execution_count": null,
   "metadata": {
    "ExecuteTime": {
     "end_time": "2020-06-23T19:32:30.032348Z",
     "start_time": "2020-06-23T19:32:29.953746Z"
    },
    "hidden": true
   },
   "outputs": [],
   "source": [
    "save_fn = nb_dir+'/Data/initial-conditions/ic_200x200.101.12.npz'\n",
    "txt_out = txt[200:400,0:200]\n",
    "np.savez_compressed(save_fn,txt_out)\n",
    "print(txt_out.shape)"
   ]
  },
  {
   "cell_type": "code",
   "execution_count": null,
   "metadata": {
    "ExecuteTime": {
     "end_time": "2020-06-23T19:32:55.050267Z",
     "start_time": "2020-06-23T19:32:54.970010Z"
    },
    "hidden": true
   },
   "outputs": [],
   "source": [
    "save_fn = nb_dir+'/Data/initial-conditions/ic_200x200.101.13.npz'\n",
    "txt_out = txt[400:600,0:200]\n",
    "np.savez_compressed(save_fn,txt_out)\n",
    "print(txt_out.shape)"
   ]
  },
  {
   "cell_type": "code",
   "execution_count": null,
   "metadata": {
    "ExecuteTime": {
     "end_time": "2020-06-23T19:34:21.120132Z",
     "start_time": "2020-06-23T19:34:21.040067Z"
    },
    "hidden": true
   },
   "outputs": [],
   "source": [
    "save_fn = nb_dir+'/Data/initial-conditions/ic_200x200.101.21.npz'\n",
    "txt_out = txt[0:200,200:400]\n",
    "np.savez_compressed(save_fn,txt_out)\n",
    "print(txt_out.shape)"
   ]
  },
  {
   "cell_type": "code",
   "execution_count": null,
   "metadata": {
    "ExecuteTime": {
     "end_time": "2020-06-23T19:34:21.500117Z",
     "start_time": "2020-06-23T19:34:21.419039Z"
    },
    "hidden": true
   },
   "outputs": [],
   "source": [
    "save_fn = nb_dir+'/Data/initial-conditions/ic_200x200.101.22.npz'\n",
    "txt_out = txt[200:400,200:400]\n",
    "np.savez_compressed(save_fn,txt_out)\n",
    "print(txt_out.shape)"
   ]
  },
  {
   "cell_type": "code",
   "execution_count": null,
   "metadata": {
    "ExecuteTime": {
     "end_time": "2020-06-23T19:34:21.985787Z",
     "start_time": "2020-06-23T19:34:21.906553Z"
    },
    "hidden": true
   },
   "outputs": [],
   "source": [
    "save_fn = nb_dir+'/Data/initial-conditions/ic_200x200.101.23.npz'\n",
    "txt_out = txt[400:600,200:400]\n",
    "np.savez_compressed(save_fn,txt_out)\n",
    "print(txt_out.shape)"
   ]
  },
  {
   "cell_type": "code",
   "execution_count": null,
   "metadata": {
    "ExecuteTime": {
     "end_time": "2020-06-23T19:34:23.621180Z",
     "start_time": "2020-06-23T19:34:23.538420Z"
    },
    "hidden": true
   },
   "outputs": [],
   "source": [
    "save_fn = nb_dir+'/Data/initial-conditions/ic_200x200.101.31.npz'\n",
    "txt_out = txt[0:200,400:600]\n",
    "np.savez_compressed(save_fn,txt_out)\n",
    "print(txt_out.shape)"
   ]
  },
  {
   "cell_type": "code",
   "execution_count": null,
   "metadata": {
    "ExecuteTime": {
     "end_time": "2020-06-23T19:34:40.195635Z",
     "start_time": "2020-06-23T19:34:40.112525Z"
    },
    "hidden": true
   },
   "outputs": [],
   "source": [
    "save_fn = nb_dir+'/Data/initial-conditions/ic_200x200.101.32.npz'\n",
    "txt_out = txt[200:400,400:600]\n",
    "np.savez_compressed(save_fn,txt_out)\n",
    "print(txt_out.shape)"
   ]
  },
  {
   "cell_type": "code",
   "execution_count": null,
   "metadata": {
    "ExecuteTime": {
     "end_time": "2020-06-23T19:34:50.642537Z",
     "start_time": "2020-06-23T19:34:50.562173Z"
    },
    "hidden": true
   },
   "outputs": [],
   "source": [
    "save_fn = nb_dir+'/Data/initial-conditions/ic_200x200.101.33.npz'\n",
    "txt_out = txt[400:600,400:600]\n",
    "np.savez_compressed(save_fn,txt_out)\n",
    "print(txt_out.shape)"
   ]
  },
  {
   "cell_type": "markdown",
   "metadata": {
    "heading_collapsed": true
   },
   "source": [
    "# file IO method that compresses numpy arrays.  \n",
    "8.13.2020\n",
    "- TODO: see whether this compressed array format can store 3 channels of float instances at each pixel"
   ]
  },
  {
   "cell_type": "code",
   "execution_count": null,
   "metadata": {
    "ExecuteTime": {
     "end_time": "2020-08-13T20:50:08.681892Z",
     "start_time": "2020-08-13T20:50:08.653879Z"
    },
    "hidden": true
   },
   "outputs": [],
   "source": [
    "class IC_File(object):\n",
    "    r\"\"\"Describe the class\"\"\"\n",
    "    def __init__(self, folder, file_name):\n",
    "        os.chdir(folder)\n",
    "        f= open(file_name,\"ab\") #write to binary file: 'wb' ) )\n",
    "        data = read_array(f)\n",
    "        self.data = data\n",
    "        # for i in range(10):\n",
    "        #   f.write(\"This is line %d\\r\\n\" % (i+1))\n",
    "        f.close()\n",
    "        self.folder = folder\n",
    "        self.file_name = file_name\n",
    "        \n",
    "        self.width = None\n",
    "        self.height= None\n",
    "        self.xres = None\n",
    "        self.yres = None\n",
    "        \n",
    "    def shape(self):\n",
    "        return np.array((self.width,self.height), dtype=np.int)\n",
    "    def area(self):\n",
    "        shape = self.shape()\n",
    "        da = self.xres()*self.yres()\n",
    "        return da*shape[0]*shape[1]\n",
    "    \n",
    "def compress_array(array, save_file='data.pkl.lzma'):\n",
    "    '''array is a numpy array.'''\n",
    "    import pickle, gzip, lzma, bz2\n",
    "    data = array\n",
    "    # pickle.dump( data, gzip.open( 'data.pkl.gz',   'wb' ) ) # inferior to lzma\n",
    "    pickle.dump( data, lzma.open( save_file, 'wb' ) )\n",
    "    # pickle.dump( data,  bz2.open( 'data.pkl.bz2',  'wb' ) ) # inferior to lzma\n",
    "    \n",
    "def append_array(array, save_file='data.pkl.lzma'):\n",
    "    '''array is a numpy array.'''\n",
    "    import pickle, gzip, lzma, bz2\n",
    "    data = array\n",
    "    # pickle.dump( data, gzip.open( 'data.pkl.gz',   'wb' ) ) # inferior to lzma\n",
    "#     pickle.dump( data, lzma.open( save_file, 'ab' ) ) # slightly smaller file size\n",
    "    pickle.dump( data,  bz2.open( 'data.pkl.bz2',  'wb' ) ) # better loading speed for non-random numpy arrays"
   ]
  },
  {
   "cell_type": "code",
   "execution_count": null,
   "metadata": {
    "ExecuteTime": {
     "end_time": "2020-08-13T20:50:12.497127Z",
     "start_time": "2020-08-13T20:50:10.852135Z"
    },
    "hidden": true
   },
   "outputs": [],
   "source": [
    "!pip install hickle"
   ]
  },
  {
   "cell_type": "code",
   "execution_count": null,
   "metadata": {
    "ExecuteTime": {
     "end_time": "2020-08-13T19:15:27.915720Z",
     "start_time": "2020-08-13T19:15:27.905672Z"
    },
    "hidden": true
   },
   "outputs": [],
   "source": [
    "#consider using a hdf5 file structure to efficiently store numpy arrays using hickle!\n",
    "import hickle as hkl \n",
    "\n",
    "data = { 'name' : 'test', 'data_arr' : [1, 2, 3, 4] }\n",
    "\n",
    "# Dump data to file\n",
    "hkl.dump( data, 'new_data_file.hkl' )\n",
    "\n",
    "# Load data from file\n",
    "data2 = hkl.load( 'new_data_file.hkl' )\n",
    "\n",
    "print( data == data2 )"
   ]
  },
  {
   "cell_type": "markdown",
   "metadata": {
    "hidden": true
   },
   "source": [
    "There also is the possibility to \"pickle\" directly into a compressed archive by doing:"
   ]
  },
  {
   "cell_type": "code",
   "execution_count": null,
   "metadata": {
    "ExecuteTime": {
     "end_time": "2020-08-13T19:34:43.976665Z",
     "start_time": "2020-08-13T19:34:43.856536Z"
    },
    "hidden": true
   },
   "outputs": [],
   "source": [
    "folder = fi"
   ]
  },
  {
   "cell_type": "markdown",
   "metadata": {
    "heading_collapsed": true
   },
   "source": [
    "# TODO: use dask to load/write these files (check chrome!)"
   ]
  },
  {
   "cell_type": "markdown",
   "metadata": {
    "heading_collapsed": true
   },
   "source": [
    "# partition WJ's 600x600 ic into nine 200x200 patches. save\n",
    "each patch is 5cm x 5 cm<br>\n",
    "6.23.2020\n"
   ]
  },
  {
   "cell_type": "code",
   "execution_count": null,
   "metadata": {
    "ExecuteTime": {
     "end_time": "2020-08-13T19:47:58.991043Z",
     "start_time": "2020-08-13T19:47:58.987725Z"
    },
    "hidden": true
   },
   "outputs": [],
   "source": []
  },
  {
   "cell_type": "code",
   "execution_count": null,
   "metadata": {
    "ExecuteTime": {
     "end_time": "2020-08-13T20:35:50.095855Z",
     "start_time": "2020-08-13T20:35:50.070592Z"
    },
    "hidden": true
   },
   "outputs": [],
   "source": [
    "# def load_fortran(input_fn):\n",
    "#     #load txt\n",
    "#     arr = np.loadtxt(input_fn)\n",
    "#     #WJ's files come to 16 digits of machine precision.\n",
    "#     arr = arr.astype(dtype = np.float64, casting='same_kind', order='C', copy=False)\n",
    "\n",
    "#     N = arr.shape[0]\n",
    "#     n = np.sqrt(N)\n",
    "#     if not n == np.int(n):\n",
    "#         raise Exception('Error: Input array is not a square matrix!')\n",
    "#     n = int(n)\n",
    "#     arr = arr.reshape(n,n,arr.shape[-1], order='C')\n",
    "#     return arr"
   ]
  },
  {
   "cell_type": "code",
   "execution_count": null,
   "metadata": {
    "ExecuteTime": {
     "end_time": "2020-08-13T20:17:32.258601Z",
     "start_time": "2020-08-13T20:17:32.235015Z"
    },
    "hidden": true
   },
   "outputs": [],
   "source": [
    "# def _precision(arr):\n",
    "#     val = arr[0,0]\n",
    "#     return ( precision := len(str(val))-2 )\n",
    "# def _dtype(arr):\n",
    "#     val = arr[0,0]\n",
    "#     return ( dtype := type(val) )"
   ]
  },
  {
   "cell_type": "code",
   "execution_count": null,
   "metadata": {
    "ExecuteTime": {
     "end_time": "2020-08-13T20:00:02.307234Z",
     "start_time": "2020-08-13T19:59:47.435999Z"
    },
    "hidden": true
   },
   "outputs": [],
   "source": [
    "input_fn = search_for_file()"
   ]
  },
  {
   "cell_type": "code",
   "execution_count": null,
   "metadata": {
    "ExecuteTime": {
     "end_time": "2020-08-13T20:19:42.392916Z",
     "start_time": "2020-08-13T20:19:42.369095Z"
    },
    "hidden": true
   },
   "outputs": [],
   "source": [
    "#TODO: test that the input_fn is given as the absolute file path and fix it if it isn't\n",
    "base_folder = '/'+os.path.join(*input_fn.split('/')[:-2])#+'/ds_5_param_set_8/trajectories/'\n",
    "\n",
    "\n",
    "precision = _precision(arr)\n",
    "dtype = _dtype(arr)\n",
    "\n",
    "# val = arr[0,0]\n",
    "# arr = arr.astype(dtype = np.float16, casting='same_kind', order='F', copy=False)\n",
    "\n",
    "os.chdir(tmp_folder)\n",
    "tmp_fn = file_name+'.npz'\n",
    "# np.savez_compressed(tmp_fn,arr)\n",
    "# txt = load_buffer(tmp_fn)\n",
    "txt = arr\n",
    "\n",
    "# sub_id = 33\n",
    "# initial_condition_dir = nb_dir + f'/Data/initial-conditions/ic_200x200.101.{sub_id}.npz'\n",
    "tip_position_dir = tip_log_dir.replace('.csv','_processed.csv')\n",
    "save_folder_traj = '/'+os.path.join(*initial_condition_dir.split('/')[:-2])+'/ds_5_param_set_8/trajectories/'\n",
    "birth_death_dir = '/'.join(save_folder_traj.split('/')[:-2])+'/birth-death-rates'\n"
   ]
  },
  {
   "cell_type": "code",
   "execution_count": null,
   "metadata": {
    "ExecuteTime": {
     "end_time": "2020-08-13T20:29:24.880699Z",
     "start_time": "2020-08-13T20:29:24.857737Z"
    },
    "hidden": true
   },
   "outputs": [],
   "source": [
    "# def chunk_600x600_into_ninths(txt,file_name, save_folder):\n",
    "#     '''suppose file_name is a bare string with no extension such as \".npz\"\n",
    "#     suppose txt is a numpy array that is (600,600,The_Rest)\n",
    "#     '''\n",
    "#     os.chdir(save_folder)\n",
    "#     save_fn = file_name+'.11.npz'\n",
    "#     txt_out = txt[0:200,0:200]\n",
    "#     np.savez_compressed(save_fn,txt_out)\n",
    "\n",
    "#     save_fn = file_name+'.12.npz'\n",
    "#     txt_out = txt[200:400,0:200]\n",
    "#     np.savez_compressed(save_fn,txt_out)\n",
    "\n",
    "#     save_fn = file_name+'.13.npz'\n",
    "#     txt_out = txt[400:600,0:200]\n",
    "#     np.savez_compressed(save_fn,txt_out)\n",
    "\n",
    "#     save_fn = file_name+'.21.npz'\n",
    "#     txt_out = txt[0:200,200:400]\n",
    "#     np.savez_compressed(save_fn,txt_out)\n",
    "\n",
    "#     save_fn = file_name+'.22.npz'\n",
    "#     txt_out = txt[200:400,200:400]\n",
    "#     np.savez_compressed(save_fn,txt_out)\n",
    "\n",
    "#     save_fn = file_name+'.23.npz'\n",
    "#     txt_out = txt[400:600,200:400]\n",
    "#     np.savez_compressed(save_fn,txt_out)\n",
    "\n",
    "#     save_fn = file_name+'.31.npz'\n",
    "#     txt_out = txt[0:200,400:600]\n",
    "#     np.savez_compressed(save_fn,txt_out)\n",
    "\n",
    "#     save_fn = file_name+'.32.npz'\n",
    "#     txt_out = txt[200:400,400:600]\n",
    "#     np.savez_compressed(save_fn,txt_out)\n",
    "\n",
    "#     save_fn = file_name+'.33.npz'\n",
    "#     txt_out = txt[400:600,400:600]\n",
    "#     np.savez_compressed(save_fn,txt_out)\n",
    "#     return True"
   ]
  },
  {
   "cell_type": "markdown",
   "metadata": {
    "heading_collapsed": true
   },
   "source": [
    "# functionally convert one of WJ's 600x600 ic_files into nine 200x200 ic_files\n",
    "each patch is 5cm x 5 cm<br>\n",
    "8.13.2020\n"
   ]
  },
  {
   "cell_type": "code",
   "execution_count": null,
   "metadata": {
    "ExecuteTime": {
     "end_time": "2020-08-13T20:31:03.753053Z",
     "start_time": "2020-08-13T20:31:03.730570Z"
    },
    "hidden": true
   },
   "outputs": [],
   "source": []
  },
  {
   "cell_type": "code",
   "execution_count": null,
   "metadata": {
    "ExecuteTime": {
     "end_time": "2020-08-13T20:31:19.171635Z",
     "start_time": "2020-08-13T20:31:18.743404Z"
    },
    "hidden": true
   },
   "outputs": [],
   "source": [
    "chunk_600x600_into_ninths(txt=arr,file_name=file_name.replace('600','200'), save_folder=save_folder)"
   ]
  },
  {
   "cell_type": "code",
   "execution_count": null,
   "metadata": {
    "ExecuteTime": {
     "end_time": "2020-08-13T20:31:26.481779Z",
     "start_time": "2020-08-13T20:31:26.442244Z"
    },
    "hidden": true
   },
   "outputs": [],
   "source": [
    "os.system('ls')"
   ]
  },
  {
   "cell_type": "code",
   "execution_count": null,
   "metadata": {
    "ExecuteTime": {
     "end_time": "2020-08-13T20:33:58.102694Z",
     "start_time": "2020-08-13T20:33:58.079801Z"
    },
    "hidden": true
   },
   "outputs": [],
   "source": [
    "#list all files in the cwd\n",
    "file_list = os.listdir()\n",
    "in_fn = file_list[0]"
   ]
  },
  {
   "cell_type": "code",
   "execution_count": null,
   "metadata": {
    "ExecuteTime": {
     "end_time": "2020-08-13T20:34:05.496537Z",
     "start_time": "2020-08-13T20:34:05.467201Z"
    },
    "hidden": true
   },
   "outputs": [],
   "source": [
    "#load a .npz file\n",
    "txt = load_buffer(in_fn)"
   ]
  },
  {
   "cell_type": "code",
   "execution_count": null,
   "metadata": {
    "ExecuteTime": {
     "end_time": "2020-08-13T20:51:49.847282Z",
     "start_time": "2020-08-13T20:51:49.822611Z"
    },
    "hidden": true
   },
   "outputs": [],
   "source": [
    "def parse_input_fn(input_fn):\n",
    "    '''file_name, input_folder, output_folder, tmp_folder = parse_input_fn(input_fn)\n",
    "    changes to input_folder in the local scope.'''\n",
    "    file_name     = input_fn.split('/')[-1]\n",
    "    input_folder  = '/'+os.path.join(*input_fn.split('/')[:-1])\n",
    "    os.chdir(input_folder)\n",
    "    if not os.path.isabs(input_folder):\n",
    "        input_folder = os.getcwd()\n",
    "    base_folder   = '/'+os.path.join(*input_folder.split('/')[:-1])\n",
    "    tmp_folder    = base_folder+'/ic-tmp'\n",
    "    output_folder = base_folder+'/ic-in'\n",
    "    return file_name, input_folder, output_folder, tmp_folder"
   ]
  },
  {
   "cell_type": "markdown",
   "metadata": {},
   "source": [
    "# Create Initial Conditions That Result in Spiral Defect Chaos for the Luo-Rudy model\n",
    "Tim Tyree<br>\n",
    "1.15.2021"
   ]
  },
  {
   "cell_type": "code",
   "execution_count": 33,
   "metadata": {
    "ExecuteTime": {
     "end_time": "2021-01-19T02:00:23.618882Z",
     "start_time": "2021-01-19T02:00:23.597157Z"
    }
   },
   "outputs": [
    {
     "name": "stdout",
     "output_type": "stream",
     "text": [
      "Automatic calling is: Smart\n",
      "The autoreload extension is already loaded. To reload it, use:\n",
      "  %reload_ext autoreload\n"
     ]
    }
   ],
   "source": [
    "from lib.my_initialization import *\n",
    "from lib.controller.controller_LR import get_one_step_explicit_synchronous_splitting\n",
    "from lib.model.LR_model import *\n",
    "from lib.utils.utils_traj import *\n",
    "from lib.routines.bdrates import *\n",
    "from lib.measure.utils_measure_tips_cpu import *\n",
    "from lib.utils.stack_txt_LR import *\n",
    "from lib.viewer import *\n",
    "import trackpy\n",
    "\n",
    "%autocall 1\n",
    "%load_ext autoreload\n",
    "%autoreload 2"
   ]
  },
  {
   "cell_type": "code",
   "execution_count": 34,
   "metadata": {
    "ExecuteTime": {
     "end_time": "2021-01-19T02:00:25.008566Z",
     "start_time": "2021-01-19T02:00:24.994853Z"
    }
   },
   "outputs": [],
   "source": [
    "#make plots in darkmode\n",
    "import seaborn as sns\n",
    "from jupyterthemes import jtplot\n",
    "jtplot.style(theme='monokai', context='notebook', ticks=True, grid=False)"
   ]
  },
  {
   "cell_type": "markdown",
   "metadata": {},
   "source": [
    "## initialize a 600x600 square computational domain with the correct number of channels and as repolarized excitable myocardial tissue"
   ]
  },
  {
   "cell_type": "code",
   "execution_count": 35,
   "metadata": {
    "ExecuteTime": {
     "end_time": "2021-01-19T02:00:26.691801Z",
     "start_time": "2021-01-19T02:00:26.255714Z"
    }
   },
   "outputs": [],
   "source": [
    "width=600\n",
    "height=600\n",
    "ds=15.0\n",
    "dt,one_step_map=get_one_step_map(\n",
    "    nb_dir,\n",
    "    dt=0.1,\n",
    "    width=width,height=height,ds=ds,\n",
    "    diffCoef=0.001,\n",
    "    Cm=1.0,\n",
    ")"
   ]
  },
  {
   "cell_type": "code",
   "execution_count": 36,
   "metadata": {
    "ExecuteTime": {
     "end_time": "2021-01-19T02:00:28.209593Z",
     "start_time": "2021-01-19T02:00:28.194299Z"
    }
   },
   "outputs": [],
   "source": [
    "def get_blank_txt_LR(width,height,V_initial=-85.,Ca_i_initial = 2*10**-4):\n",
    "    zero_c2=np.zeros(shape=(width,height,2), dtype=np.float64, order='C')\n",
    "    zero_c6=np.zeros(shape=(width,height,6), dtype=np.float64, order='C')\n",
    "    #allocate memory to texture\n",
    "    inVc=zero_c2.copy()\n",
    "    inVc[...,0]+=V_initial\n",
    "    inVc[...,1]+=Ca_i_initial\n",
    "    outVc=inVc.copy()\n",
    "    inmhjdfx=zero_c6.copy()\n",
    "    #open the gates that are open at equilibrium at the resting potential (h, j, f)\n",
    "    inmhjdfx[...,1]=1.\n",
    "    inmhjdfx[...,2]=1.\n",
    "    inmhjdfx[...,4]=1.\n",
    "    outmhjdfx=inmhjdfx.copy()\n",
    "    dVcdt=zero_c2.copy()\n",
    "    txt=stack_txt(inVc,outVc,inmhjdfx,outmhjdfx,dVcdt)\n",
    "    return txt"
   ]
  },
  {
   "cell_type": "code",
   "execution_count": 37,
   "metadata": {
    "ExecuteTime": {
     "end_time": "2021-01-19T02:00:35.048415Z",
     "start_time": "2021-01-19T02:00:33.179038Z"
    }
   },
   "outputs": [],
   "source": [
    "#get time steps\n",
    "from lib.model.LR_model_optimized_w_Istim import *\n",
    "\n",
    "#get the onestep kernels\n",
    "dt, kernelA, kernelB=get_one_step_explicit_synchronous_splitting_w_Istim_kernel(nb_dir,dt,width,height,ds)\n",
    "\n",
    "#(not terribly useful) get the forward integrate kernel\n",
    "# forward_integrate_kernel= get_forward_integrate_kernel(nb_dir,dt,width,height,ds,diffCoef=0.001,Cm=1.)"
   ]
  },
  {
   "cell_type": "markdown",
   "metadata": {
    "heading_collapsed": true
   },
   "source": [
    "### DONE: test - time step a number of times and verify that nothing happens"
   ]
  },
  {
   "cell_type": "code",
   "execution_count": 4,
   "metadata": {
    "ExecuteTime": {
     "end_time": "2021-01-17T20:15:45.753940Z",
     "start_time": "2021-01-17T20:15:12.962635Z"
    },
    "hidden": true
   },
   "outputs": [],
   "source": [
    "txt_prv=txt.copy()\n",
    "for n in range(50):\n",
    "    txt=one_step_map(txt)\n",
    "txt_nxt=txt.copy()"
   ]
  },
  {
   "cell_type": "code",
   "execution_count": null,
   "metadata": {
    "ExecuteTime": {
     "end_time": "2021-01-16T11:46:08.803442Z",
     "start_time": "2021-01-16T11:46:08.787458Z"
    },
    "hidden": true
   },
   "outputs": [],
   "source": []
  },
  {
   "cell_type": "code",
   "execution_count": null,
   "metadata": {
    "ExecuteTime": {
     "end_time": "2021-01-16T02:30:40.230132Z",
     "start_time": "2021-01-16T02:30:40.195460Z"
    },
    "hidden": true
   },
   "outputs": [],
   "source": [
    "delta_txt=txt_nxt-txt_prv"
   ]
  },
  {
   "cell_type": "code",
   "execution_count": null,
   "metadata": {
    "ExecuteTime": {
     "end_time": "2021-01-16T02:30:40.388436Z",
     "start_time": "2021-01-16T02:30:40.321412Z"
    },
    "hidden": true
   },
   "outputs": [],
   "source": [
    "chnl=17\n",
    "img=delta_txt[...,chnl]\n",
    "plt.imshow(img,cmap='gray')\n",
    "plt.axis('off')\n",
    "plt.title(f'channel {chnl}',c='w',fontsize=22)\n",
    "plt.show()"
   ]
  },
  {
   "cell_type": "code",
   "execution_count": null,
   "metadata": {
    "ExecuteTime": {
     "end_time": "2021-01-16T02:08:25.981146Z",
     "start_time": "2021-01-16T02:08:25.925953Z"
    },
    "hidden": true
   },
   "outputs": [],
   "source": [
    "print('max absolute differences between input and output, by channel')\n",
    "for chnl in range(18):\n",
    "    img=delta_txt[...,chnl]\n",
    "    print(np.max(np.abs(img)))"
   ]
  },
  {
   "cell_type": "markdown",
   "metadata": {},
   "source": [
    "# define txt_Istim textures that give a line stimulus of constant electric flux\n"
   ]
  },
  {
   "cell_type": "code",
   "execution_count": 43,
   "metadata": {
    "ExecuteTime": {
     "end_time": "2021-01-19T02:01:58.611580Z",
     "start_time": "2021-01-19T02:01:58.588317Z"
    }
   },
   "outputs": [
    {
     "name": "stdout",
     "output_type": "stream",
     "text": [
      "# of channels is 18.\n"
     ]
    }
   ],
   "source": [
    "chnlno=2+2+6+6+2\n",
    "zero_c2=np.zeros(shape=(width,height,2), dtype=np.float64, order='C')\n",
    "zero_c6=np.zeros(shape=(width,height,6), dtype=np.float64, order='C')\n",
    "print(f\"# of channels is {chnlno}.\")\n",
    "\n",
    "mag=-3\n",
    "txt_Istim=zero_c2[...,0].copy()\n",
    "txt_Istim[:,:5]=mag\n",
    "txt_Istim_left=txt_Istim.copy()\n",
    "\n",
    "mag=-3\n",
    "txt_Istim=zero_c2[...,0].copy()\n",
    "txt_Istim[300:301,:]=mag\n",
    "txt_Istim_top=txt_Istim.copy()\n",
    "\n",
    "txt_Istim_none=zero_c2[...,0].copy()"
   ]
  },
  {
   "cell_type": "code",
   "execution_count": 44,
   "metadata": {
    "ExecuteTime": {
     "end_time": "2021-01-19T02:01:59.524533Z",
     "start_time": "2021-01-19T02:01:59.442361Z"
    }
   },
   "outputs": [
    {
     "data": {
      "image/png": "[encoded data removed]",
      "text/plain": [
       "<Figure size 576x504 with 2 Axes>"
      ]
     },
     "metadata": {},
     "output_type": "display_data"
    }
   ],
   "source": [
    "fig,axs=plt.subplots(2)\n",
    "ax=axs[0]\n",
    "ax.imshow(-txt_Istim_left,cmap='gray')#,vmin=-10, vmax=15)\n",
    "ax.axis('off')\n",
    "ax=axs[1]\n",
    "ax.imshow(-txt_Istim_top,cmap='gray')#,vmin=-10, vmax=15)\n",
    "ax.axis('off')\n",
    "plt.show()"
   ]
  },
  {
   "cell_type": "markdown",
   "metadata": {
    "heading_collapsed": true
   },
   "source": [
    "# (ignore) dev CUDA"
   ]
  },
  {
   "cell_type": "markdown",
   "metadata": {
    "heading_collapsed": true,
    "hidden": true
   },
   "source": [
    "## (working brainwarmer) compute the coordinate textures using numba.cuda.jit"
   ]
  },
  {
   "cell_type": "code",
   "execution_count": 7,
   "metadata": {
    "ExecuteTime": {
     "end_time": "2021-01-17T23:16:21.749305Z",
     "start_time": "2021-01-17T23:16:20.925024Z"
    },
    "hidden": true
   },
   "outputs": [],
   "source": [
    "txt=get_blank_txt_LR(width,height,V_initial=-85.,Ca_i_initial = 2*10**-4)\n",
    "t=0.\n",
    "\n",
    "#test onestep methods\n",
    "kernelA(txt,txt_Istim_left)\n",
    "kernelB(txt,txt_Istim_left)"
   ]
  },
  {
   "cell_type": "code",
   "execution_count": 8,
   "metadata": {
    "ExecuteTime": {
     "end_time": "2021-01-17T23:16:23.532358Z",
     "start_time": "2021-01-17T23:16:23.503192Z"
    },
    "hidden": true
   },
   "outputs": [],
   "source": [
    "import numba.cuda as cuda\n",
    "from lib.controller.one_step_splitting_cuda_kernels import *\n"
   ]
  },
  {
   "cell_type": "code",
   "execution_count": 9,
   "metadata": {
    "ExecuteTime": {
     "end_time": "2021-01-17T23:16:24.519745Z",
     "start_time": "2021-01-17T23:16:24.118232Z"
    },
    "hidden": true
   },
   "outputs": [],
   "source": [
    "@cuda.jit('void(int32[:], int32[:], int32[:,:])')\n",
    "def foo(aryA, aryB,aryC):\n",
    "    for n,A in enumerate(aryA):\n",
    "        for m,B in enumerate(aryB):\n",
    "            aryC[n,m]=A+B\n",
    "\n",
    "griddim = 100, 2\n",
    "blockdim = 3, 3\n",
    "width=600\n",
    "height=600\n",
    "aryA=np.zeros(width,dtype=np.int32)\n",
    "aryB=np.arange(height)#np.zeros(height,dtype=np.float64)\n",
    "ndim=aryA.shape[0]\n",
    "mdim=aryB.shape[0]\n",
    "aryC=np.zeros(shape=(ndim,mdim),dtype=np.int32)\n",
    "\n",
    "foo[griddim, blockdim](aryA, aryB, aryC)\n",
    "xcoord=aryC.copy()\n",
    "foo[griddim, blockdim](aryB, aryA, aryC)\n",
    "ycoord=aryC.copy()\n",
    "\n",
    "\n",
    "\n",
    "# one_step_kernel=cuda.jit(one_step_map_w_Istim)"
   ]
  },
  {
   "cell_type": "code",
   "execution_count": null,
   "metadata": {
    "ExecuteTime": {
     "end_time": "2021-01-16T08:05:57.571548Z",
     "start_time": "2021-01-16T08:05:57.510138Z"
    },
    "hidden": true
   },
   "outputs": [],
   "source": [
    "foo[griddim, blockdim](aryB, aryA, aryC)\n"
   ]
  },
  {
   "cell_type": "code",
   "execution_count": null,
   "metadata": {
    "ExecuteTime": {
     "end_time": "2021-01-16T06:22:47.316648Z",
     "start_time": "2021-01-16T06:22:47.079931Z"
    },
    "hidden": true
   },
   "outputs": [],
   "source": [
    "bpg = 50\n",
    "tpb = 32\n",
    "n = bpg * tpb\n",
    "\n",
    "@cuda.jit('(float32[:,:], float32[:,:], float32[:,:])', target='gpu')\n",
    "def cu_square_matrix_mul(A, B, C):\n",
    "    sA = cuda.shared.array(shape=(tpb, tpb), dtype=float32)\n",
    "    sB = cuda.shared.array(shape=(tpb, tpb), dtype=float32)\n",
    "\n",
    "    tx = cuda.threadIdx.x\n",
    "    ty = cuda.threadIdx.y\n",
    "    bx = cuda.blockIdx.x\n",
    "    by = cuda.blockIdx.y\n",
    "    bw = cuda.blockDim.x\n",
    "    bh = cuda.blockDim.y\n",
    "\n",
    "    x = tx + bx * bw\n",
    "    y = ty + by * bh\n",
    "\n",
    "    acc = 0.\n",
    "    for i in range(bpg):\n",
    "        if x < n and y < n:\n",
    "            sA[ty, tx] = A[y, tx + i * tpb]\n",
    "            sB[ty, tx] = B[ty + i * tpb, x]\n",
    "\n",
    "        cuda.syncthreads()\n",
    "\n",
    "        if x < n and y < n:\n",
    "            for j in range(tpb):\n",
    "                acc += sA[ty, j] * sB[j, tx]\n",
    "\n",
    "        cuda.syncthreads()\n",
    "\n",
    "    if x < n and y < n:\n",
    "        C[y, x] = acc"
   ]
  },
  {
   "cell_type": "code",
   "execution_count": null,
   "metadata": {
    "ExecuteTime": {
     "end_time": "2021-01-16T06:24:17.570226Z",
     "start_time": "2021-01-16T06:24:17.551230Z"
    },
    "hidden": true
   },
   "outputs": [],
   "source": [
    "O=np.ones((4,4))\n",
    "out=O.copy()\n",
    "cu_square_matrix_mul(O, O, out)"
   ]
  },
  {
   "cell_type": "markdown",
   "metadata": {
    "heading_collapsed": true,
    "hidden": true
   },
   "source": [
    "## use cuda.grid?\n",
    "source:\n",
    "\n",
    "https://towardsdatascience.com/better-parallelization-with-numba-3a41ca69452e"
   ]
  },
  {
   "cell_type": "code",
   "execution_count": null,
   "metadata": {
    "hidden": true
   },
   "outputs": [],
   "source": [
    "@cuda.jit\n",
    "def get_nearby_kernel(coord1, coord2, max_dist, out):\n",
    "    start = cuda.grid(1)\n",
    "    stride = cuda.gridsize(1)\n",
    "    lat_filter = max_dist / 100\n",
    "    \n",
    "    for i in range(start, coord1.shape[0], stride):\n",
    "        ct = 0\n",
    "        _lat1 = coord1[i,0]\n",
    "        _lng1 = coord1[i,1]\n",
    "        \n",
    "        for j in range(coord2.shape[0]):\n",
    "            _lat2 = coord2[j,0]\n",
    "            _lng2 = coord2[j,1]\n",
    "            # escape condition if latitudes are too far apart\n",
    "            if math.fabs(_lat1 - _lat2) <= lat_filter:\n",
    "                dist = haversine_cuda(_lat1, _lng1, _lat2, _lng2)\n",
    "                if dist < max_dist:ct += 1\n",
    "                \n",
    "        out[i] = ct"
   ]
  },
  {
   "cell_type": "markdown",
   "metadata": {
    "heading_collapsed": true,
    "hidden": true
   },
   "source": [
    "## (not working) waste a horrid amount of time trying to GPU accelerate a working CPU kernel.  Idiot.\n",
    "test a new one_step_kernel that adds the input Istim to Iion\n",
    "- TODO(later): accelerate ^this with CUDA"
   ]
  },
  {
   "cell_type": "code",
   "execution_count": 9,
   "metadata": {
    "ExecuteTime": {
     "end_time": "2021-01-16T11:42:55.429183Z",
     "start_time": "2021-01-16T11:42:55.383873Z"
    },
    "hidden": true
   },
   "outputs": [
    {
     "name": "stdout",
     "output_type": "stream",
     "text": [
      "True\n",
      "Found 1 CUDA devices\n",
      "id 0    b'GeForce RTX 2080 with Max-Q Design'                              [SUPPORTED]\n",
      "                      compute capability: 7.5\n",
      "                           pci device id: 0\n",
      "                              pci bus id: 1\n",
      "Summary:\n",
      "\t1/1 devices are supported\n",
      "True\n"
     ]
    }
   ],
   "source": [
    "from lib.controller.one_step_splitting_kernels import *\n",
    "from numba import cuda\n",
    "print ( cuda.is_available() )\n",
    "print ( cuda.detect() )"
   ]
  },
  {
   "cell_type": "code",
   "execution_count": 10,
   "metadata": {
    "ExecuteTime": {
     "end_time": "2021-01-16T11:42:57.513667Z",
     "start_time": "2021-01-16T11:42:57.438398Z"
    },
    "hidden": true
   },
   "outputs": [],
   "source": [
    "#initialize txt\n",
    "txt=get_blank_txt_LR(width,height,V_initial=-85.,Ca_i_initial = 2*10**-4)\n",
    "t=0."
   ]
  },
  {
   "cell_type": "code",
   "execution_count": null,
   "metadata": {
    "ExecuteTime": {
     "end_time": "2021-01-16T11:18:03.087943Z",
     "start_time": "2021-01-16T11:18:03.059097Z"
    },
    "hidden": true
   },
   "outputs": [],
   "source": [
    "#multiple streams should have a common context\n",
    "# drv=cuda.driver.Driver()\n",
    "# drv.initialize()\n",
    "# handle=drv.pop_active_context()\n",
    "# stream=ctx.create_stream()"
   ]
  },
  {
   "cell_type": "code",
   "execution_count": 12,
   "metadata": {
    "ExecuteTime": {
     "end_time": "2021-01-16T11:43:00.632653Z",
     "start_time": "2021-01-16T11:43:00.606899Z"
    },
    "hidden": true
   },
   "outputs": [],
   "source": [
    "d_txt=cuda.to_device(txt,stream=stream)\n",
    "d_txt_Istim_left=cuda.to_device(txt_Istim_left,stream=stream)\n",
    "\n",
    "griddim = 100, 3\n",
    "blockdim = 3, 3\n",
    "stream=cuda.stream()\n",
    "sharedmem=10*(d_txt.size+d_txt_Istim_left.size)\n"
   ]
  },
  {
   "cell_type": "code",
   "execution_count": 7,
   "metadata": {
    "ExecuteTime": {
     "end_time": "2021-01-16T23:29:48.950496Z",
     "start_time": "2021-01-16T23:29:48.933521Z"
    },
    "hidden": true
   },
   "outputs": [],
   "source": [
    "# forward_integrate_kernel= get_forward_integrate_kernel(nb_dir,dt,width,height,ds,stream,diffCoef=0.001,Cm=1.)\n"
   ]
  },
  {
   "cell_type": "code",
   "execution_count": 6,
   "metadata": {
    "ExecuteTime": {
     "end_time": "2021-01-16T23:29:45.643853Z",
     "start_time": "2021-01-16T23:29:45.627886Z"
    },
    "hidden": true
   },
   "outputs": [],
   "source": [
    "# nsteps=1000\n",
    "# forward_integrate_kernel[griddim, blockdim, stream, sharedmem](d_txt,d_txt_Istim_left,nsteps)\n",
    "\n",
    "# retval=d_txt.to_host()\n",
    "# cuda.close()\n"
   ]
  },
  {
   "cell_type": "code",
   "execution_count": null,
   "metadata": {
    "ExecuteTime": {
     "end_time": "2021-01-16T11:23:25.947626Z",
     "start_time": "2021-01-16T11:23:24.267050Z"
    },
    "hidden": true
   },
   "outputs": [],
   "source": [
    "dt, kernelA, kernelB=get_one_step_explicit_synchronous_splitting_w_Istim_kernel(nb_dir,dt,width,height,ds,stream)"
   ]
  },
  {
   "cell_type": "code",
   "execution_count": null,
   "metadata": {
    "ExecuteTime": {
     "end_time": "2021-01-16T11:23:26.839891Z",
     "start_time": "2021-01-16T11:23:26.807416Z"
    },
    "hidden": true
   },
   "outputs": [],
   "source": [
    "# forward_integrate_kernel=get_forward_integrate_kernel(kernelA, kernelB, griddim = (3, 3), blockdim = (3, 3))\n",
    "get_one_step_map_w_Istim(nb_dir,dt)"
   ]
  },
  {
   "cell_type": "code",
   "execution_count": null,
   "metadata": {
    "ExecuteTime": {
     "end_time": "2021-01-16T11:23:27.674391Z",
     "start_time": "2021-01-16T11:23:27.540015Z"
    },
    "hidden": true,
    "run_control": {
     "marked": true
    }
   },
   "outputs": [],
   "source": [
    "# take 1000 time steps to 100ms\n",
    "num_steps=1000#000\n",
    "update_every=100\n",
    "step_count=0\n",
    "for n in range(num_steps):\n",
    "    \n",
    "#     kernelA[griddim, blockdim, stream, sharedmem](d_txt,d_txt_Istim_left)\n",
    "#     cuda.syncthreads()\n",
    "#     cuda.synchronize()\n",
    "\n",
    "#     kernelB[griddim, blockdim, stream, sharedmem](d_txt,d_txt_Istim_left)\n",
    "#     cuda.syncthreads()\n",
    "#     cuda.synchronize()\n",
    "\n",
    "    t+=dt\n",
    "    step_count+=1\n",
    "    if step_count%update_every==0:\n",
    "        printProgressBar(step_count,num_steps)\n",
    "print(f\"the final time is t = {t} ms.\")"
   ]
  },
  {
   "cell_type": "code",
   "execution_count": null,
   "metadata": {
    "ExecuteTime": {
     "end_time": "2021-01-16T11:23:38.274669Z",
     "start_time": "2021-01-16T11:23:38.256284Z"
    },
    "hidden": true
   },
   "outputs": [],
   "source": [
    "txt=d_txt.to_host()\n",
    "# txt\n"
   ]
  },
  {
   "cell_type": "code",
   "execution_count": null,
   "metadata": {
    "ExecuteTime": {
     "end_time": "2021-01-16T11:24:07.254154Z",
     "start_time": "2021-01-16T11:24:07.231764Z"
    },
    "hidden": true
   },
   "outputs": [],
   "source": [
    "# kernelB[griddim, blockdim](d_txt,d_txt_Istim_left)\n",
    "d_txt.to_host()"
   ]
  },
  {
   "cell_type": "code",
   "execution_count": null,
   "metadata": {
    "ExecuteTime": {
     "end_time": "2021-01-16T11:24:11.697602Z",
     "start_time": "2021-01-16T11:24:11.683405Z"
    },
    "hidden": true
   },
   "outputs": [],
   "source": [
    "# cuda.close()\n",
    "d_txt"
   ]
  },
  {
   "cell_type": "code",
   "execution_count": null,
   "metadata": {
    "ExecuteTime": {
     "end_time": "2021-01-16T10:30:41.737981Z",
     "start_time": "2021-01-16T10:30:41.692535Z"
    },
    "hidden": true
   },
   "outputs": [],
   "source": []
  },
  {
   "cell_type": "code",
   "execution_count": null,
   "metadata": {
    "ExecuteTime": {
     "end_time": "2021-01-16T04:06:43.677149Z",
     "start_time": "2021-01-16T04:06:43.615824Z"
    },
    "hidden": true
   },
   "outputs": [],
   "source": [
    "chnl=17\n",
    "img=txt[...,chnl]\n",
    "plt.imshow(img,cmap='gray')\n",
    "plt.axis('off')\n",
    "plt.title(f'channel {chnl}',c='w',fontsize=22)\n",
    "plt.show()"
   ]
  },
  {
   "cell_type": "code",
   "execution_count": null,
   "metadata": {
    "hidden": true
   },
   "outputs": [],
   "source": [
    "# take 1000 time steps to 100ms\n",
    "numsteps=1000\n",
    "update_every=100\n",
    "step_count=0\n",
    "for n in range(numsteps):\n",
    "    kernelA(txt,txt_Istim_left)\n",
    "    kernelB(txt,txt_Istim_left)\n",
    "    t+=dt\n",
    "    step_count+=1\n",
    "    if step_count%update_every==0:\n",
    "        printProgressBar(step_count,num_steps)"
   ]
  },
  {
   "cell_type": "code",
   "execution_count": 9,
   "metadata": {
    "ExecuteTime": {
     "end_time": "2021-01-16T23:33:55.930757Z",
     "start_time": "2021-01-16T23:33:55.799243Z"
    },
    "hidden": true
   },
   "outputs": [
    {
     "ename": "TypeError",
     "evalue": "get_one_step_explicit_synchronous_splitting_w_Istim_kernel() missing 1 required positional argument: 'stream'",
     "output_type": "error",
     "traceback": [
      "\u001b[0;31m---------------------------------------------------------------------------\u001b[0m",
      "\u001b[0;31mTypeError\u001b[0m                                 Traceback (most recent call last)",
      "\u001b[0;32m<ipython-input-9-ed0362b2455d>\u001b[0m in \u001b[0;36m<module>\u001b[0;34m\u001b[0m\n\u001b[1;32m      1\u001b[0m \u001b[0;31m# txt[0,0,:18].shape\u001b[0m\u001b[0;34m\u001b[0m\u001b[0;34m\u001b[0m\u001b[0;34m\u001b[0m\u001b[0m\n\u001b[0;32m----> 2\u001b[0;31m \u001b[0mdt\u001b[0m\u001b[0;34m,\u001b[0m \u001b[0mkernelA\u001b[0m\u001b[0;34m,\u001b[0m \u001b[0mkernelB\u001b[0m\u001b[0;34m=\u001b[0m\u001b[0mget_one_step_explicit_synchronous_splitting_w_Istim_kernel\u001b[0m\u001b[0;34m(\u001b[0m\u001b[0mnb_dir\u001b[0m\u001b[0;34m,\u001b[0m\u001b[0mdt\u001b[0m\u001b[0;34m,\u001b[0m\u001b[0mwidth\u001b[0m\u001b[0;34m,\u001b[0m\u001b[0mheight\u001b[0m\u001b[0;34m,\u001b[0m\u001b[0mds\u001b[0m\u001b[0;34m)\u001b[0m\u001b[0;34m\u001b[0m\u001b[0;34m\u001b[0m\u001b[0m\n\u001b[0m",
      "\u001b[0;31mTypeError\u001b[0m: get_one_step_explicit_synchronous_splitting_w_Istim_kernel() missing 1 required positional argument: 'stream'"
     ]
    }
   ],
   "source": [
    "# txt[0,0,:18].shape\n",
    "dt, kernelA, kernelB=get_one_step_explicit_synchronous_splitting_w_Istim__cuda_kernel(nb_dir,dt,width,height,ds,stream)"
   ]
  },
  {
   "cell_type": "code",
   "execution_count": null,
   "metadata": {
    "ExecuteTime": {
     "end_time": "2021-01-16T04:52:42.632794Z",
     "start_time": "2021-01-16T04:52:33.085374Z"
    },
    "hidden": true
   },
   "outputs": [],
   "source": [
    "# @cuda.jit('void(float64[:,:,:], float64[:,:])')\n",
    "# def one_step_kernel(txt,txt_Istim_left):\n",
    "#     kernelA(txt,txt_Istim_left)\n",
    "#     kernelB(txt,txt_Istim_left)"
   ]
  },
  {
   "cell_type": "code",
   "execution_count": 13,
   "metadata": {
    "ExecuteTime": {
     "end_time": "2021-01-17T19:11:48.211589Z",
     "start_time": "2021-01-17T19:08:55.733195Z"
    },
    "hidden": true
   },
   "outputs": [],
   "source": [
    "# #take 1000 time steps to 100ms, stimulating onthe left\n",
    "# tf=100\n",
    "# num_steps=int(tf/dt)\n",
    "# t+=dt*num_steps\n",
    "# forward_integrate_kernel(txt,txt_Istim_left,num_steps)\n",
    "# beep(3)\n",
    "# t+=dt*num_steps"
   ]
  },
  {
   "cell_type": "markdown",
   "metadata": {},
   "source": [
    "# Generate a stable spiral wave using cross-stimulation for the LR model"
   ]
  },
  {
   "cell_type": "code",
   "execution_count": 45,
   "metadata": {
    "ExecuteTime": {
     "end_time": "2021-01-19T02:02:01.566627Z",
     "start_time": "2021-01-19T02:02:01.498208Z"
    }
   },
   "outputs": [],
   "source": [
    "#initialize txt\n",
    "# V_initial=-85.\n",
    "# Ca_i_initial = 2*10**-4\n",
    "txt=get_blank_txt_LR(width,height,V_initial=-85.,Ca_i_initial = 4*10**-3)# 2*10**-4)\n",
    "t=0."
   ]
  },
  {
   "cell_type": "code",
   "execution_count": 46,
   "metadata": {
    "ExecuteTime": {
     "end_time": "2021-01-19T02:02:25.047052Z",
     "start_time": "2021-01-19T02:02:06.928610Z"
    }
   },
   "outputs": [
    {
     "name": "stdout",
     "output_type": "stream",
     "text": [
      " |████████████████████████████████████████████████████████████████████████████████████████████████████| 100.0% \n",
      "the final time is t = 10.0 ms.\n",
      "\n"
     ]
    }
   ],
   "source": [
    "#take 1000 time steps to 100ms, stimulating onthe left\n",
    "tf=10\n",
    "num_steps=int(tf/dt)\n",
    "txt_Istim=txt_Istim_left.copy()\n",
    "update_every=10\n",
    "step_count=0\n",
    "for n in range(num_steps):\n",
    "    kernelA(txt,txt_Istim)\n",
    "    kernelB(txt,txt_Istim)\n",
    "    t+=dt\n",
    "    step_count+=1\n",
    "    if step_count%update_every==0:\n",
    "        printProgressBar(step_count,num_steps)\n",
    "txt_a1=txt.copy()\n",
    "print(f\"\\nthe final time is t = {t:.1f} ms.\\n\")\n",
    "# beep(1)"
   ]
  },
  {
   "cell_type": "code",
   "execution_count": 47,
   "metadata": {
    "ExecuteTime": {
     "end_time": "2021-01-19T02:02:25.680863Z",
     "start_time": "2021-01-19T02:02:25.617448Z"
    }
   },
   "outputs": [
    {
     "name": "stdout",
     "output_type": "stream",
     "text": [
      "9.99999999999998\n"
     ]
    },
    {
     "data": {
      "image/png": "[encoded data removed]",
      "text/plain": [
       "<Figure size 576x504 with 1 Axes>"
      ]
     },
     "metadata": {},
     "output_type": "display_data"
    }
   ],
   "source": [
    "#Visualize the buffer (plain)\n",
    "chnl=0\n",
    "print(t)\n",
    "img=txt_a1[...,chnl]\n",
    "plt.imshow(img,cmap='gray',vmin=-10, vmax=15)\n",
    "plt.axis('off')\n",
    "plt.title(f'channel {chnl}, time {t:.1f}\\n',c='w',fontsize=22)\n",
    "plt.show()"
   ]
  },
  {
   "cell_type": "code",
   "execution_count": 48,
   "metadata": {
    "ExecuteTime": {
     "end_time": "2021-01-19T02:05:41.109727Z",
     "start_time": "2021-01-19T02:02:26.273506Z"
    }
   },
   "outputs": [
    {
     "name": "stdout",
     "output_type": "stream",
     "text": [
      " |████████████████████████████████████████████████████████████████████████████████████████████████████| 100.0% \n",
      "the final time is t = 130.0 ms.\n",
      "\n"
     ]
    },
    {
     "data": {
      "text/plain": [
       "0"
      ]
     },
     "execution_count": 48,
     "metadata": {},
     "output_type": "execute_result"
    }
   ],
   "source": [
    "#integrate 200ms without stimulation\n",
    "# t=100\n",
    "# txt=txt_a.copy()\n",
    "tf=130\n",
    "num_steps=int((tf-t)/dt)\n",
    "txt_Istim=txt_Istim_none\n",
    "update_every=50\n",
    "step_count=0\n",
    "for n in range(num_steps):\n",
    "    kernelA(txt,txt_Istim)\n",
    "    kernelB(txt,txt_Istim)\n",
    "    step_count+=1\n",
    "    if step_count%update_every==0:\n",
    "        t+=dt*update_every\n",
    "        printProgressBar(step_count,num_steps)\n",
    "txt_a2=txt.copy()\n",
    "print(f\"\\nthe final time is t = {t:.1f} ms.\\n\")\n",
    "beep(1)"
   ]
  },
  {
   "cell_type": "code",
   "execution_count": 49,
   "metadata": {
    "ExecuteTime": {
     "end_time": "2021-01-19T02:05:41.786622Z",
     "start_time": "2021-01-19T02:05:41.712294Z"
    }
   },
   "outputs": [
    {
     "name": "stdout",
     "output_type": "stream",
     "text": [
      "129.99999999999997\n"
     ]
    },
    {
     "data": {
      "image/png": "[encoded data removed]",
      "text/plain": [
       "<Figure size 576x504 with 1 Axes>"
      ]
     },
     "metadata": {},
     "output_type": "display_data"
    }
   ],
   "source": [
    "#Visualize the buffer (plain)\n",
    "chnl=0\n",
    "print(t)\n",
    "ta2=t#110\n",
    "img=txt_a2[...,chnl]\n",
    "plt.imshow(img,cmap='gray',vmin=-10, vmax=15)\n",
    "plt.axis('off')\n",
    "plt.title(f'channel {chnl}, time {ta2:.1f}\\n',c='w',fontsize=22)\n",
    "plt.show()"
   ]
  },
  {
   "cell_type": "markdown",
   "metadata": {},
   "source": [
    "- TODO: test why repolarization is failing to occur\n",
    "    - __Question__: is intercellular calcium starting too low (retrying at 20X higher initial calcium...)\n",
    "        - no.\n",
    "    - __Question__: is WJ's param change in vx1 to blame?\n",
    "        - ??\n",
    "        "
   ]
  },
  {
   "cell_type": "code",
   "execution_count": 50,
   "metadata": {
    "ExecuteTime": {
     "end_time": "2021-01-19T02:05:42.394181Z",
     "start_time": "2021-01-19T02:05:42.379157Z"
    }
   },
   "outputs": [],
   "source": [
    "#save texture at this time t\n",
    "save=False\n",
    "if save:\n",
    "#     txt=stack_txt(inVc,outVc,inmhjdfx,outmhjdfx,dVcdt)\n",
    "    save_img_fn=f\"{nb_dir}/Data/initial-conditions-suite-3-LR/txt_a2.npz\"\n",
    "    #     img_out=txt#np.stack([img,dimgdt]).T\n",
    "    np.savez_compressed(save_img_fn,[txt])"
   ]
  },
  {
   "cell_type": "code",
   "execution_count": 51,
   "metadata": {
    "ExecuteTime": {
     "end_time": "2021-01-19T02:05:42.971330Z",
     "start_time": "2021-01-19T02:05:42.958339Z"
    }
   },
   "outputs": [
    {
     "data": {
      "text/plain": [
       "0.1"
      ]
     },
     "execution_count": 51,
     "metadata": {},
     "output_type": "execute_result"
    }
   ],
   "source": [
    "dt\n",
    "# dt=0.1\n",
    "# dt, kernelA, kernelB=get_one_step_explicit_synchronous_splitting_w_Istim_kernel(nb_dir,dt,width,height,ds)"
   ]
  },
  {
   "cell_type": "code",
   "execution_count": 52,
   "metadata": {
    "ExecuteTime": {
     "end_time": "2021-01-19T02:05:43.575530Z",
     "start_time": "2021-01-19T02:05:43.562097Z"
    }
   },
   "outputs": [],
   "source": [
    "# #load the buffer loaded\n",
    "# t=130.\n",
    "# img_fn='/home/timothytyree/Documents/GitHub/care/notebooks/Data/initial-conditions-suite-3-LR/txt_a2.npz'\n",
    "# txt=load_buffer(img_fn)[0]\n",
    "# txt.shape"
   ]
  },
  {
   "cell_type": "code",
   "execution_count": 53,
   "metadata": {
    "ExecuteTime": {
     "end_time": "2021-01-19T02:05:44.240507Z",
     "start_time": "2021-01-19T02:05:44.165338Z"
    }
   },
   "outputs": [
    {
     "name": "stdout",
     "output_type": "stream",
     "text": [
      "129.99999999999997\n"
     ]
    },
    {
     "data": {
      "image/png": "[encoded data removed]",
      "text/plain": [
       "<Figure size 576x504 with 1 Axes>"
      ]
     },
     "metadata": {},
     "output_type": "display_data"
    }
   ],
   "source": [
    "#Visualize the buffer (plain)\n",
    "chnl=1\n",
    "print(t)\n",
    "ta2=t#110\n",
    "img=txt[...,chnl]\n",
    "if chnl==0:\n",
    "    plt.imshow(img,cmap='gray',vmin=-10, vmax=15)\n",
    "else:\n",
    "    plt.imshow(img,cmap='gray')\n",
    "plt.axis('off')\n",
    "plt.title(f'channel {chnl}, time {ta2:.1f}\\n',c='w',fontsize=22)\n",
    "plt.show()\n"
   ]
  },
  {
   "cell_type": "code",
   "execution_count": 54,
   "metadata": {
    "ExecuteTime": {
     "end_time": "2021-01-19T02:05:44.898897Z",
     "start_time": "2021-01-19T02:05:44.887298Z"
    }
   },
   "outputs": [],
   "source": [
    "# #is calcium not repolarizing?\n",
    "# # print(Ca_i_initial)\n",
    "# plt.hist(img.flatten())\n",
    "# plt.show()"
   ]
  },
  {
   "cell_type": "code",
   "execution_count": 55,
   "metadata": {
    "ExecuteTime": {
     "end_time": "2021-01-19T02:06:22.948237Z",
     "start_time": "2021-01-19T02:05:45.459340Z"
    }
   },
   "outputs": [
    {
     "name": "stdout",
     "output_type": "stream",
     "text": [
      " |████████████████████████████████████████████████████████████████████████████████████████████████████| 100.0% \n",
      "the final time is t = 160.0 ms.\n",
      "\n"
     ]
    }
   ],
   "source": [
    "#integrate without stimulation\n",
    "t=130\n",
    "txt=txt_a2.copy()\n",
    "tf=160#150\n",
    "num_steps=int((tf-t)/dt)\n",
    "txt_Istim=txt_Istim_none\n",
    "update_every=50\n",
    "step_count=0\n",
    "for n in range(num_steps):\n",
    "    kernelA(txt,txt_Istim)\n",
    "    kernelB(txt,txt_Istim)\n",
    "    step_count+=1\n",
    "    if step_count%update_every==0:\n",
    "        t+=dt*update_every\n",
    "        printProgressBar(step_count,num_steps)\n",
    "txt_a3=txt.copy()\n",
    "print(f\"\\nthe final time is t = {t:.1f} ms.\\n\")\n",
    "# beep(1)"
   ]
  },
  {
   "cell_type": "code",
   "execution_count": 56,
   "metadata": {
    "ExecuteTime": {
     "end_time": "2021-01-19T02:06:23.520846Z",
     "start_time": "2021-01-19T02:06:23.454024Z"
    }
   },
   "outputs": [
    {
     "name": "stdout",
     "output_type": "stream",
     "text": [
      "160.0\n"
     ]
    },
    {
     "data": {
      "image/png": "[encoded data removed]",
      "text/plain": [
       "<Figure size 576x504 with 1 Axes>"
      ]
     },
     "metadata": {},
     "output_type": "display_data"
    }
   ],
   "source": [
    "#Visualize the buffer (plain)\n",
    "chnl=0\n",
    "print(t)\n",
    "ta2=t#110\n",
    "img=txt[...,chnl]\n",
    "if chnl==0:\n",
    "    plt.imshow(img,cmap='gray',vmin=-10, vmax=15)\n",
    "else:\n",
    "    plt.imshow(img,cmap='gray')\n",
    "plt.axis('off')\n",
    "plt.title(f'channel {chnl}, time {ta2:.1f}\\n',c='w',fontsize=22)\n",
    "plt.show()"
   ]
  },
  {
   "cell_type": "code",
   "execution_count": 57,
   "metadata": {
    "ExecuteTime": {
     "end_time": "2021-01-19T02:06:24.047983Z",
     "start_time": "2021-01-19T02:06:24.034133Z"
    }
   },
   "outputs": [],
   "source": [
    "#define the top stimulation width (wag) and magnitude (mag)\n",
    "mag=-1.77#-10#-3.\n",
    "wag=5\n",
    "zero_c2=np.zeros(shape=(width,height,2), dtype=np.float64, order='C')\n",
    "txt_Istim=zero_c2[...,0].copy()\n",
    "txt_Istim[300:300+wag,:]=mag\n",
    "txt_Istim_top=txt_Istim.copy()"
   ]
  },
  {
   "cell_type": "code",
   "execution_count": 58,
   "metadata": {
    "ExecuteTime": {
     "end_time": "2021-01-19T02:08:25.153523Z",
     "start_time": "2021-01-19T02:06:24.559054Z"
    }
   },
   "outputs": [
    {
     "name": "stdout",
     "output_type": "stream",
     "text": [
      " |████████████████████████████████████████████████████████████████████████████████████████████████████| 100.0% \n",
      "the final time is t = 260.0 ms.\n"
     ]
    }
   ],
   "source": [
    "#take 1000 time steps to 100ms, stimulating on the top\n",
    "tf=100#10\n",
    "# t=130\n",
    "txt=txt_a3.copy()\n",
    "# txt=txt_a2.copy()\n",
    "num_steps=int(tf/dt)\n",
    "txt_Istim=txt_Istim_top.copy()\n",
    "update_every=100\n",
    "step_count=0\n",
    "for n in range(num_steps):\n",
    "    kernelA(txt,txt_Istim)\n",
    "    kernelB(txt,txt_Istim)\n",
    "    step_count+=1\n",
    "    if step_count%update_every==0:\n",
    "        t+=dt*update_every\n",
    "        #TODO: compute dict_out here\n",
    "        printProgressBar(step_count,num_steps)\n",
    "print(f\"\\nthe final time is t = {t:.1f} ms.\")\n",
    "txt_b=txt.copy()\n",
    "# beep(1)"
   ]
  },
  {
   "cell_type": "code",
   "execution_count": 59,
   "metadata": {
    "ExecuteTime": {
     "end_time": "2021-01-19T02:08:25.746078Z",
     "start_time": "2021-01-19T02:08:25.679429Z"
    }
   },
   "outputs": [
    {
     "name": "stdout",
     "output_type": "stream",
     "text": [
      "260.0\n"
     ]
    },
    {
     "data": {
      "image/png": "[encoded data removed]",
      "text/plain": [
       "<Figure size 576x504 with 1 Axes>"
      ]
     },
     "metadata": {},
     "output_type": "display_data"
    }
   ],
   "source": [
    "#Visualize the buffer (plain)\n",
    "chnl=0\n",
    "print(t)\n",
    "img=txt_b[...,chnl]\n",
    "plt.imshow(img,cmap='gray',vmin=-10, vmax=15)\n",
    "plt.axis('off')\n",
    "plt.title(f'channel {chnl}, time {t:.1f}\\n',c='w',fontsize=22)\n",
    "plt.show()"
   ]
  },
  {
   "cell_type": "code",
   "execution_count": 60,
   "metadata": {
    "ExecuteTime": {
     "end_time": "2021-01-19T02:10:30.040135Z",
     "start_time": "2021-01-19T02:08:26.279329Z"
    }
   },
   "outputs": [
    {
     "name": "stdout",
     "output_type": "stream",
     "text": [
      " |████████████████████████████████████████████████████████████████████████████████████████████████████| 100.0% \n",
      "the final time is t = 270.0 ms.\n"
     ]
    }
   ],
   "source": [
    "#take 10000 time steps forward 1 sec without stimulation\n",
    "tf=100\n",
    "t=170\n",
    "txt=txt_b.copy()\n",
    "num_steps=int(tf/dt)\n",
    "txt_Istim=txt_Istim_none.copy()\n",
    "update_every=100\n",
    "step_count=0\n",
    "for n in range(num_steps):\n",
    "    kernelA(txt,txt_Istim)\n",
    "    kernelB(txt,txt_Istim)\n",
    "    step_count+=1\n",
    "    if step_count%update_every==0:\n",
    "        t+=dt*update_every\n",
    "        #compute dict_out\n",
    "        printProgressBar(step_count,num_steps)\n",
    "print(f\"\\nthe final time is t = {t} ms.\")\n",
    "# beep(1)"
   ]
  },
  {
   "cell_type": "code",
   "execution_count": 64,
   "metadata": {
    "ExecuteTime": {
     "end_time": "2021-01-19T03:52:08.960305Z",
     "start_time": "2021-01-19T03:52:08.933611Z"
    }
   },
   "outputs": [
    {
     "data": {
      "text/plain": [
       "270.0"
      ]
     },
     "execution_count": 64,
     "metadata": {},
     "output_type": "execute_result"
    }
   ],
   "source": [
    "#10s after second shock, at time t=12 seconds\n",
    "txt_1=txt.copy()\n",
    "t"
   ]
  },
  {
   "cell_type": "code",
   "execution_count": 65,
   "metadata": {
    "ExecuteTime": {
     "end_time": "2021-01-19T03:52:11.612454Z",
     "start_time": "2021-01-19T03:52:11.546578Z"
    }
   },
   "outputs": [
    {
     "name": "stdout",
     "output_type": "stream",
     "text": [
      "270.0\n"
     ]
    },
    {
     "data": {
      "image/png": "[encoded data removed]",
      "text/plain": [
       "<Figure size 576x504 with 1 Axes>"
      ]
     },
     "metadata": {},
     "output_type": "display_data"
    }
   ],
   "source": [
    "#Visualize the buffer (plain)\n",
    "chnl=0\n",
    "print(t)\n",
    "img=txt_1[...,chnl]\n",
    "plt.imshow(img,cmap='gray',vmin=-10, vmax=15)\n",
    "plt.axis('off')\n",
    "plt.title(f'channel {chnl}, time {t:.1f}\\n',c='w',fontsize=22)\n",
    "plt.show()"
   ]
  },
  {
   "cell_type": "code",
   "execution_count": 66,
   "metadata": {
    "ExecuteTime": {
     "end_time": "2021-01-19T03:52:14.279206Z",
     "start_time": "2021-01-19T03:52:12.231640Z"
    }
   },
   "outputs": [
    {
     "data": {
      "text/plain": [
       "-6.1749352192281926"
      ]
     },
     "execution_count": 66,
     "metadata": {},
     "output_type": "execute_result"
    }
   ],
   "source": [
    "beep(10)\n",
    "np.max(txt[...,0])"
   ]
  },
  {
   "cell_type": "code",
   "execution_count": 31,
   "metadata": {
    "ExecuteTime": {
     "end_time": "2021-01-19T01:58:21.796711Z",
     "start_time": "2021-01-19T01:56:16.312178Z"
    }
   },
   "outputs": [
    {
     "name": "stdout",
     "output_type": "stream",
     "text": [
      " |████████████████████████████████████████████████████████████████████████████████████████████████████| 100.0% \n",
      "the final time is t = 370.0 ms.\n"
     ]
    },
    {
     "data": {
      "text/plain": [
       "0"
      ]
     },
     "execution_count": 31,
     "metadata": {},
     "output_type": "execute_result"
    }
   ],
   "source": [
    "#take 10000 time steps forward 1 sec without stimulation\n",
    "tf=100\n",
    "# txt=txt_b.copy()\n",
    "num_steps=int(tf/dt)\n",
    "txt_Istim=txt_Istim_none.copy()\n",
    "update_every=100\n",
    "step_count=0\n",
    "for n in range(num_steps):\n",
    "    kernelA(txt,txt_Istim)\n",
    "    kernelB(txt,txt_Istim)\n",
    "    step_count+=1\n",
    "    if step_count%update_every==0:\n",
    "        t+=dt*update_every\n",
    "        #compute dict_out\n",
    "        printProgressBar(step_count,num_steps)\n",
    "print(f\"\\nthe final time is t = {t} ms.\")\n",
    "beep(1)"
   ]
  },
  {
   "cell_type": "code",
   "execution_count": null,
   "metadata": {},
   "outputs": [],
   "source": []
  },
  {
   "cell_type": "code",
   "execution_count": null,
   "metadata": {
    "ExecuteTime": {
     "end_time": "2021-01-18T23:23:32.368813Z",
     "start_time": "2021-01-18T20:34:27.112Z"
    }
   },
   "outputs": [],
   "source": [
    "#save texture at this time t\n",
    "save=True\n",
    "if save:\n",
    "#     txt=stack_txt(inVc,outVc,inmhjdfx,outmhjdfx,dVcdt)\n",
    "    save_img_fn=f\"{nb_dir}/Data/initial-conditions-suite-3-LR/ic600x600_tt/ic001.npz\"\n",
    "    #     img_out=txt#np.stack([img,dimgdt]).T\n",
    "    np.savez_compressed(save_img_fn,[txt])"
   ]
  },
  {
   "cell_type": "code",
   "execution_count": 52,
   "metadata": {
    "ExecuteTime": {
     "end_time": "2021-01-19T00:43:51.216323Z",
     "start_time": "2021-01-19T00:43:51.190377Z"
    }
   },
   "outputs": [
    {
     "data": {
      "text/plain": [
       "18"
      ]
     },
     "execution_count": 52,
     "metadata": {},
     "output_type": "execute_result"
    }
   ],
   "source": []
  },
  {
   "cell_type": "markdown",
   "metadata": {},
   "source": [
    "# TODO(now): the tissue is not repolarizing.  check mean values of each channel and compare to repolarized initialization"
   ]
  },
  {
   "cell_type": "code",
   "execution_count": 48,
   "metadata": {
    "ExecuteTime": {
     "end_time": "2021-01-19T01:37:51.109503Z",
     "start_time": "2021-01-19T01:37:51.057754Z"
    }
   },
   "outputs": [
    {
     "name": "stdout",
     "output_type": "stream",
     "text": [
      "[-84.16189785830106, 0.00022695231645371555, -84.16189785830106, 0.00022695231645371555, 0.009673785005339875, 0.9663590820390181, 0.9441396090528997, 0.007911797342986642, 0.9384883333541671, 0.11626098328827915, 0.009673785005339875, 0.9663590820390181, 0.9441396090528997, 0.007911797342986642, 0.9384883333541671, 0.11626098328827915, -0.0013402431801532823, -4.114634609504005e-06]\n"
     ]
    }
   ],
   "source": [
    "ml=[]\n",
    "for chnl in range(chnlno):\n",
    "    ml.append(np.mean(txt[...,chnl].flatten()))\n",
    "print(ml)"
   ]
  },
  {
   "cell_type": "code",
   "execution_count": 47,
   "metadata": {
    "ExecuteTime": {
     "end_time": "2021-01-19T01:37:45.478637Z",
     "start_time": "2021-01-19T01:37:45.405982Z"
    }
   },
   "outputs": [
    {
     "name": "stdout",
     "output_type": "stream",
     "text": [
      "370.0\n"
     ]
    },
    {
     "data": {
      "image/png": "[encoded data removed]",
      "text/plain": [
       "<Figure size 576x504 with 1 Axes>"
      ]
     },
     "metadata": {},
     "output_type": "display_data"
    }
   ],
   "source": [
    "#Visualize the buffer (plain)\n",
    "chnl=0\n",
    "print(t)\n",
    "img=txt[...,chnl]\n",
    "plt.imshow(img,cmap='gray',vmin=-10, vmax=15)\n",
    "plt.axis('off')\n",
    "plt.title(f'channel {chnl}, time {t:.1f}\\n',c='w',fontsize=22)\n",
    "plt.show()"
   ]
  },
  {
   "cell_type": "code",
   "execution_count": 63,
   "metadata": {
    "ExecuteTime": {
     "end_time": "2021-01-19T00:54:05.068468Z",
     "start_time": "2021-01-19T00:54:05.008016Z"
    }
   },
   "outputs": [],
   "source": [
    "#initialize txt\n",
    "txt=get_blank_txt_LR(width,height,V_initial=-85.,Ca_i_initial = 4*10**-3)# 2*10**-4)\n",
    "t=0."
   ]
  },
  {
   "cell_type": "code",
   "execution_count": 64,
   "metadata": {
    "ExecuteTime": {
     "end_time": "2021-01-19T00:54:11.837582Z",
     "start_time": "2021-01-19T00:54:11.805083Z"
    }
   },
   "outputs": [
    {
     "name": "stdout",
     "output_type": "stream",
     "text": [
      "[-85.0, 0.0040000000000000036, -85.0, 0.0040000000000000036, 0.0, 1.0, 1.0, 0.0, 1.0, 0.0, 0.0, 1.0, 1.0, 0.0, 1.0, 0.0, 0.0, 0.0]\n"
     ]
    }
   ],
   "source": [
    "ml=[]\n",
    "for chnl in range(chnlno):\n",
    "    ml.append(np.mean(txt[...,chnl].flatten()))\n",
    "print(ml)"
   ]
  },
  {
   "cell_type": "markdown",
   "metadata": {},
   "source": [
    "## observe apparently present spiral tips"
   ]
  },
  {
   "cell_type": "markdown",
   "metadata": {
    "heading_collapsed": true
   },
   "source": [
    "### Show all spiral tips present\n"
   ]
  },
  {
   "cell_type": "code",
   "execution_count": null,
   "metadata": {
    "hidden": true
   },
   "outputs": [],
   "source": []
  },
  {
   "cell_type": "code",
   "execution_count": null,
   "metadata": {
    "hidden": true
   },
   "outputs": [],
   "source": [
    "#compute all spiral tips present\n",
    "V_threshold=25.#mV\n",
    "level1=V_threshold\n",
    "# theta_threshold=0.\n",
    "level2=0.\n",
    "#take the first step\n",
    "one_step(inVc,outVc,inmhjdfx,outmhjdfx,dVcdt)\n",
    "t+=dt\n",
    "img=inVc[...,0]\n",
    "dimgdt=dVcdt[...,0]\n",
    "width=200;height=200\n",
    "dict_out=compute_all_spiral_tips(t,img,dimgdt,level1,level2,width=width,height=height)\n",
    "dict_out_instantaneous=dict_out\n",
    "print(np.max(inVc[...,0]))"
   ]
  },
  {
   "cell_type": "code",
   "execution_count": null,
   "metadata": {
    "hidden": true
   },
   "outputs": [],
   "source": [
    "x_values=np.array(dict_out['x'])\n",
    "y_values=np.array(dict_out['y'])\n",
    "c_values=np.array(dict_out['v'])\n",
    "print(f\"{dict_out['n']} tips are present at time t={int(t)}.\")\n",
    "fig = ShowDomain(img,dimgdt,x_values,y_values,c_values,V_threshold,t,inch=6,fontsize=16,vmin_img=-85.,vmax_img=35.,\n",
    "                 area=25,frameno=1,save_fn=None,save_folder=None,save=False,annotating=False,axis=[0,200,0,200])\n",
    "plt.show(fig)"
   ]
  },
  {
   "cell_type": "code",
   "execution_count": null,
   "metadata": {
    "hidden": true
   },
   "outputs": [],
   "source": [
    "#save texture at this time t\n",
    "save=False\n",
    "if save:\n",
    "#     txt=stack_txt(inVc,outVc,inmhjdfx,outmhjdfx,dVcdt)\n",
    "    save_img_fn=f\"{nb_dir}/Data/test_data/test_txt_LR_euler_t_{int(t)}.npz\"\n",
    "    #     img_out=txt#np.stack([img,dimgdt]).T\n",
    "    np.savez_compressed(save_img_fn,[txt])"
   ]
  },
  {
   "cell_type": "code",
   "execution_count": null,
   "metadata": {
    "hidden": true
   },
   "outputs": [],
   "source": []
  },
  {
   "cell_type": "markdown",
   "metadata": {
    "heading_collapsed": true
   },
   "source": [
    "### generate some spiral tips"
   ]
  },
  {
   "cell_type": "code",
   "execution_count": null,
   "metadata": {
    "hidden": true
   },
   "outputs": [],
   "source": [
    "dt, arr39, one_step_method = get_one_step_explicit_synchronous_splitting(nb_dir,dt)\n",
    "print(get_one_step_explicit_synchronous_splitting)"
   ]
  },
  {
   "cell_type": "code",
   "execution_count": null,
   "metadata": {
    "hidden": true
   },
   "outputs": [],
   "source": [
    "#forward euler explicit synchronous integration\n",
    "tf=1000.\n",
    "tmax=tf\n",
    "save_every_n_frames=10.\n",
    "V_threshold=25.#mV0.#-37.#mV\n",
    "level1=V_threshold; level2=0.\n",
    "num_steps=int(tf/dt)\n",
    "step_count=0\n",
    "n_tips_lst=[];t_lst=[];dict_out_lst=[]\n",
    "save_dict_every=100\n",
    "n_tips=1\n",
    "while (t<tmax) & (n_tips > 0):\n",
    "    if step_count%save_every_n_frames != 0:\n",
    "        #forward Euler integration in time\n",
    "        txt=one_step_map(txt)\n",
    "    else:   \n",
    "\n",
    "        #compute tip locations in dict_out\n",
    "        #update texture namespace\n",
    "        inVc,outVc,inmhjdfx,outmhjdfx,dVcdt=unstack_txt(txt)\n",
    "        txt=stack_txt(inVc,outVc,inmhjdfx,outmhjdfx,dVcdt)\n",
    "        img=inVc[...,0]\n",
    "        dimgdt=dVcdt[...,0]\n",
    "        dict_out=compute_all_spiral_tips(t,img,dimgdt,level1,level2)#,width=width,height=height)\n",
    "\n",
    "        #save tip data\n",
    "        n_tips=dict_out['n']\n",
    "        n_tips_lst.append(n_tips)\n",
    "        t_lst.append(t)\n",
    "        #         if count%save_dict_every==0:\n",
    "        dict_out_lst.append(dict_out)\n",
    "    \n",
    "        #integrate by dt\n",
    "        txt=one_step_map(txt)\n",
    "    t+=dt\n",
    "    step_count+=1\n",
    "    printProgressBar(step_count,num_steps)\n",
    "    if n_tips==0:\n",
    "        print(f\"zero tips remaining at time t={t}!\")\n",
    "        break\n",
    "beep(3)"
   ]
  },
  {
   "cell_type": "markdown",
   "metadata": {},
   "source": [
    "### TODO(later maybe): apply the dormand-prince one_step method.  \n",
    "- how does it's runtime compare?\n",
    "- how does the quality of results compare?\n",
    "- note: the time step is already 0.1 ms, and the one_step is at least second order accurate."
   ]
  },
  {
   "cell_type": "code",
   "execution_count": null,
   "metadata": {},
   "outputs": [],
   "source": []
  }
 ],
 "metadata": {
  "kernelspec": {
   "display_name": "Python 3",
   "language": "python",
   "name": "python3"
  },
  "language_info": {
   "codemirror_mode": {
    "name": "ipython",
    "version": 3
   },
   "file_extension": ".py",
   "mimetype": "text/x-python",
   "name": "python",
   "nbconvert_exporter": "python",
   "pygments_lexer": "ipython3",
   "version": "3.7.6"
  },
  "toc": {
   "base_numbering": 1,
   "nav_menu": {},
   "number_sections": true,
   "sideBar": true,
   "skip_h1_title": false,
   "title_cell": "Table of Contents",
   "title_sidebar": "Contents",
   "toc_cell": false,
   "toc_position": {
    "height": "calc(100% - 180px)",
    "left": "10px",
    "top": "150px",
    "width": "307.2px"
   },
   "toc_section_display": true,
   "toc_window_display": false
  },
  "varInspector": {
   "cols": {
    "lenName": 16,
    "lenType": 16,
    "lenVar": 40
   },
   "kernels_config": {
    "python": {
     "delete_cmd_postfix": "",
     "delete_cmd_prefix": "del ",
     "library": "var_list.py",
     "varRefreshCmd": "print(var_dic_list())"
    },
    "r": {
     "delete_cmd_postfix": ") ",
     "delete_cmd_prefix": "rm(",
     "library": "var_list.r",
     "varRefreshCmd": "cat(var_dic_list()) "
    }
   },
   "types_to_exclude": [
    "module",
    "function",
    "builtin_function_or_method",
    "instance",
    "_Feature"
   ],
   "window_display": false
  }
 },
 "nbformat": 4,
 "nbformat_minor": 2
}
