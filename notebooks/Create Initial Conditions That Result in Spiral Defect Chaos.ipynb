{
 "cells": [
  {
   "cell_type": "markdown",
   "metadata": {},
   "source": [
    "# Create Initial Conditions That Result in Spiral Defect Chaos\n",
    "Tim Tyree<br>\n",
    "6.8.2020"
   ]
  },
  {
   "cell_type": "code",
   "execution_count": 1,
   "metadata": {
    "ExecuteTime": {
     "end_time": "2020-06-17T22:48:18.031554Z",
     "start_time": "2020-06-17T22:48:16.764980Z"
    }
   },
   "outputs": [
    {
     "name": "stdout",
     "output_type": "stream",
     "text": [
      "Automatic calling is: Smart\n"
     ]
    }
   ],
   "source": [
    "#pylab\n",
    "%matplotlib inline\n",
    "import numpy as np, pandas as pd, matplotlib.pyplot as plt\n",
    "from pylab import imshow, show\n",
    "\n",
    "import skimage as sk\n",
    "from skimage import measure, filters\n",
    "\n",
    "import matplotlib.pyplot as plt, numpy as np, os\n",
    "from numba import njit, jit, vectorize\n",
    "from PIL import Image\n",
    "import imageio\n",
    "# import cv2 as cv\n",
    "\n",
    "#automate the boring stuff\n",
    "from IPython import utils\n",
    "import time, os, sys, re\n",
    "beep = lambda x: os.system(\"echo -n '\\\\a';sleep 0.2;\" * x)\n",
    "if not 'nb_dir' in globals():\n",
    "    nb_dir = os.getcwd()\n",
    "width = 512\n",
    "height = 512\n",
    "channel_no = 3\n",
    "\n",
    "#load the libraries\n",
    "from lib import *\n",
    "# from lib.operari import *\n",
    "# from lib.ProgressBar import *\n",
    "# from lib.minimal_model import *\n",
    "# from lib.TexturePlot import *\n",
    "# from lib.get_tips import *\n",
    "# from lib.intersection import *\n",
    "#TODO: use cuda via numba\n",
    "# from numba import jit, njit, vectorize, cuda, uint32, f8, uint8\n",
    "# from lib.contours_to_tips import *\n",
    "\n",
    "%autocall 1\n",
    "%load_ext autoreload\n",
    "%autoreload 2"
   ]
  },
  {
   "cell_type": "markdown",
   "metadata": {},
   "source": [
    "# create a 512x512x3 initial condition that's well controlled and produces SDC"
   ]
  },
  {
   "cell_type": "markdown",
   "metadata": {},
   "source": [
    "## create a 'time origin' in a simple, controlled way\n",
    "create a uniform, horizontal stimulus, then time step up to time = 100, at time steps of h = 0.01.  Record."
   ]
  },
  {
   "cell_type": "code",
   "execution_count": 2,
   "metadata": {
    "ExecuteTime": {
     "end_time": "2020-06-17T22:48:27.007123Z",
     "start_time": "2020-06-17T22:48:26.976888Z"
    }
   },
   "outputs": [],
   "source": [
    "# make the relevant initial texture\n",
    "txt = np.zeros((512,512,3))\n",
    "zero_txt = txt.copy()\n",
    "txt[256-32:256+32,:,0] = 0.5\n",
    "txt[...,1] = 0.5\n",
    "txt[...,2] = 0.5\n",
    "tme = 0"
   ]
  },
  {
   "cell_type": "code",
   "execution_count": 22,
   "metadata": {
    "ExecuteTime": {
     "end_time": "2020-06-09T00:03:18.807508Z",
     "start_time": "2020-06-09T00:03:18.569283Z"
    }
   },
   "outputs": [
    {
     "data": {
      "text/plain": [
       "<matplotlib.image.AxesImage at 0x12cc97250>"
      ]
     },
     "execution_count": 22,
     "metadata": {},
     "output_type": "execute_result"
    },
    {
     "data": {
      "image/png": "[encoded data removed]",
      "text/plain": [
       "<Figure size 432x288 with 1 Axes>"
      ]
     },
     "metadata": {
      "needs_background": "light"
     },
     "output_type": "display_data"
    }
   ],
   "source": [
    "plt.imshow(txt)"
   ]
  },
  {
   "cell_type": "code",
   "execution_count": 20,
   "metadata": {
    "ExecuteTime": {
     "end_time": "2020-06-09T00:00:55.100686Z",
     "start_time": "2020-06-08T23:56:46.169245Z"
    }
   },
   "outputs": [
    {
     "name": "stdout",
     "output_type": "stream",
     "text": [
      "Progress: |██████████████████████████████████████████████████| 100.0% Complete\n",
      "the time is tme = 100.00000000001425.\n"
     ]
    }
   ],
   "source": [
    "h = 0.01\n",
    "nsteps = 10**4\n",
    "for step in range(nsteps):\n",
    "    time_step(texture=txt, h = 0.01, zero_txt=zero_txt)\n",
    "    tme += h\n",
    "    printProgressBar(step + 1, nsteps, prefix = 'Progress:', suffix = 'Complete', length = 50)\n",
    "beep(1)\n",
    "print(f\"the time is tme = {tme}.\")"
   ]
  },
  {
   "cell_type": "code",
   "execution_count": 30,
   "metadata": {
    "ExecuteTime": {
     "end_time": "2020-06-09T00:12:45.833223Z",
     "start_time": "2020-06-09T00:12:45.778447Z"
    }
   },
   "outputs": [
    {
     "name": "stdout",
     "output_type": "stream",
     "text": [
      "ic_512x512_t=0.npz\n"
     ]
    }
   ],
   "source": [
    "save_fn = f\"ic_{txt.shape[1]}x{txt.shape[0]}_t={0}.npz\"\n",
    "print(save_fn)\n",
    "np.savez_compressed(f'{nb_dir}/Data/{save_fn}', txt)"
   ]
  },
  {
   "cell_type": "markdown",
   "metadata": {},
   "source": [
    "# Overall goal = add a semicircle of stimulus tilted at 45º in the danger zone\n",
    "- Then confirm that spiral defect chaos commenses"
   ]
  },
  {
   "cell_type": "markdown",
   "metadata": {},
   "source": [
    "## load test cases for pbc"
   ]
  },
  {
   "cell_type": "code",
   "execution_count": 3,
   "metadata": {
    "ExecuteTime": {
     "end_time": "2020-06-17T22:48:45.300321Z",
     "start_time": "2020-06-17T22:48:45.257682Z"
    }
   },
   "outputs": [],
   "source": [
    "data_dir = f'{nb_dir}/Data/ic_512x512_t=0.npz'\n",
    "txt = np.load(data_dir)['arr_0']"
   ]
  },
  {
   "cell_type": "code",
   "execution_count": 141,
   "metadata": {
    "ExecuteTime": {
     "end_time": "2020-06-18T00:47:43.519540Z",
     "start_time": "2020-06-18T00:47:42.856837Z"
    }
   },
   "outputs": [
    {
     "name": "stdout",
     "output_type": "stream",
     "text": [
      "100000\n"
     ]
    },
    {
     "data": {
      "text/plain": [
       "<matplotlib.image.AxesImage at 0x1387181d0>"
      ]
     },
     "execution_count": 141,
     "metadata": {},
     "output_type": "execute_result"
    },
    {
     "data": {
      "image/png": "[encoded data removed]",
      "text/plain": [
       "<Figure size 432x288 with 1 Axes>"
      ]
     },
     "metadata": {
      "needs_background": "light"
     },
     "output_type": "display_data"
    }
   ],
   "source": [
    "plt.imshow(txt)"
   ]
  },
  {
   "cell_type": "code",
   "execution_count": 13,
   "metadata": {
    "ExecuteTime": {
     "end_time": "2020-06-17T22:51:38.598687Z",
     "start_time": "2020-06-17T22:51:38.571613Z"
    }
   },
   "outputs": [],
   "source": []
  },
  {
   "cell_type": "markdown",
   "metadata": {},
   "source": [
    "# TODO: add a semicircle of stimulus tilted at 45º in the danger zone\n",
    "- Then confirm that spiral defect chaos commenses"
   ]
  },
  {
   "cell_type": "code",
   "execution_count": 131,
   "metadata": {
    "ExecuteTime": {
     "end_time": "2020-06-18T00:37:10.235487Z",
     "start_time": "2020-06-18T00:37:10.032575Z"
    }
   },
   "outputs": [
    {
     "data": {
      "text/plain": [
       "<matplotlib.image.AxesImage at 0x136097310>"
      ]
     },
     "execution_count": 131,
     "metadata": {},
     "output_type": "execute_result"
    },
    {
     "data": {
      "image/png": "[encoded data removed]",
      "text/plain": [
       "<Figure size 432x288 with 1 Axes>"
      ]
     },
     "metadata": {
      "needs_background": "light"
     },
     "output_type": "display_data"
    }
   ],
   "source": [
    "#make initialization conditions\n",
    "deg = 45\n",
    "x0 = 512/2\n",
    "y0 = 512/4\n",
    "\n",
    "#make the initialization mesh\n",
    "img = 0*txt[...,0].copy()\n",
    "color_left_of_line(out=img, x0=x0, y0=y0, deg = deg, value=1.)  #make left of line mesh 0 or 1\n",
    "color_outside_range(out=img, x0=x0,y0=y0,r=64, val=0.0)  #make circle mesh 0 or 1\n",
    "#already done: hadamard product of the two.\n",
    "\n",
    "plt.imshow(img)"
   ]
  },
  {
   "cell_type": "code",
   "execution_count": null,
   "metadata": {},
   "outputs": [],
   "source": [
    "# save this init + the origin"
   ]
  },
  {
   "cell_type": "code",
   "execution_count": 139,
   "metadata": {
    "ExecuteTime": {
     "end_time": "2020-06-18T00:43:37.488947Z",
     "start_time": "2020-06-18T00:43:37.465624Z"
    }
   },
   "outputs": [],
   "source": [
    "# from skimage import draw\n",
    "\n",
    "# circle_coords = draw.circle(r=100, c=100, radius=100, shape=(512,512,3))\n",
    "# txt[circle_coords]\n",
    "\n",
    "\n",
    "# compute initial point and final point of line that goes through the circle's center\n",
    "# r0 = 0; c0 = xm - dst\n",
    "# r1 = txt.shape[1]-1; c1 = xm + dsb\n",
    "# draw that circle\n",
    "# line = draw.line(r0, c0, r1, c1)\n",
    "\n",
    "# ym = 512/4; xm = 512/2; #same as circle center\n",
    "# deg   = 45 # number of degrees semicircle is cut by\n",
    "# theta = deg/180*np.pi\n",
    "\n",
    "# #dist to top\n",
    "# dtt = ym\n",
    "# #dist to bottom\n",
    "# dtb = txt.shape[1]-ym-1\n",
    "# #use trig to get dist to sides\n",
    "# dst = int(np.around(np.tan(theta)*dtt))\n",
    "# dsb = int(np.around(np.tan(theta)*dtb))\n",
    "\n",
    "\n",
    "# img = 0*txt[...,0].copy()\n",
    "# line_x = line[0]\n",
    "# color_within_range(x0=512/2,y0=512/4,r=100, out=img, val=10., width=512,height=512)\n"
   ]
  },
  {
   "cell_type": "markdown",
   "metadata": {
    "ExecuteTime": {
     "end_time": "2020-06-09T18:16:14.846658Z",
     "start_time": "2020-06-09T18:16:14.820532Z"
    },
    "heading_collapsed": true
   },
   "source": [
    "# off topic: get method from trimesh used to calculate volume"
   ]
  },
  {
   "cell_type": "code",
   "execution_count": 286,
   "metadata": {
    "ExecuteTime": {
     "end_time": "2020-06-09T20:48:07.674241Z",
     "start_time": "2020-06-09T20:48:03.523102Z"
    },
    "hidden": true
   },
   "outputs": [
    {
     "name": "stdout",
     "output_type": "stream",
     "text": [
      "Collecting trimesh\n",
      "  Downloading trimesh-3.6.43-py3-none-any.whl (614 kB)\n",
      "\u001b[K     |████████████████████████████████| 614 kB 2.3 MB/s eta 0:00:01\n",
      "\u001b[?25hRequirement already satisfied: numpy in /usr/local/lib/python3.7/site-packages (from trimesh) (1.16.4)\n",
      "Requirement already satisfied: setuptools in /usr/local/lib/python3.7/site-packages (from trimesh) (46.0.0)\n",
      "Installing collected packages: trimesh\n",
      "Successfully installed trimesh-3.6.43\n"
     ]
    }
   ],
   "source": [
    "!pip3 install trimesh"
   ]
  },
  {
   "cell_type": "code",
   "execution_count": 337,
   "metadata": {
    "ExecuteTime": {
     "end_time": "2020-06-09T21:23:22.574522Z",
     "start_time": "2020-06-09T21:23:22.545919Z"
    },
    "hidden": true
   },
   "outputs": [],
   "source": [
    "import trimesh\n",
    "# from lib.operari import *\n",
    "# import inspect"
   ]
  },
  {
   "cell_type": "code",
   "execution_count": 338,
   "metadata": {
    "ExecuteTime": {
     "end_time": "2020-06-09T21:23:26.542225Z",
     "start_time": "2020-06-09T21:23:26.424728Z"
    },
    "hidden": true
   },
   "outputs": [],
   "source": [
    "file_name = 'ic_600x600.101.npz'\n",
    "file_dir = find_files(file_name, search_path=nb_dir)\n",
    "if len(file_dir)==0: raise('file not found')\n",
    "# print(\n",
    "file_dir=file_dir[0]\n",
    "# )\n",
    "# print(sys.path.exists(file_dir))"
   ]
  },
  {
   "cell_type": "code",
   "execution_count": 339,
   "metadata": {
    "ExecuteTime": {
     "end_time": "2020-06-09T21:23:30.371616Z",
     "start_time": "2020-06-09T21:23:30.304540Z"
    },
    "hidden": true
   },
   "outputs": [],
   "source": [
    "# generate load_mesh from .npz array\n",
    "txt = np.load(file_dir)['arr_0']"
   ]
  },
  {
   "cell_type": "code",
   "execution_count": 340,
   "metadata": {
    "ExecuteTime": {
     "end_time": "2020-06-09T21:23:34.212323Z",
     "start_time": "2020-06-09T21:23:34.189340Z"
    },
    "hidden": true
   },
   "outputs": [
    {
     "name": "stdout",
     "output_type": "stream",
     "text": [
      "^that folder probs existed already.\n"
     ]
    }
   ],
   "source": [
    "# #make a log folder\n",
    "make_log_folder(folder_name='Data/log-tmp/')"
   ]
  },
  {
   "cell_type": "code",
   "execution_count": 341,
   "metadata": {
    "ExecuteTime": {
     "end_time": "2020-06-09T21:23:43.406736Z",
     "start_time": "2020-06-09T21:23:43.375942Z"
    },
    "hidden": true
   },
   "outputs": [
    {
     "name": "stdout",
     "output_type": "stream",
     "text": [
      "def faces_to_edges(faces, return_index=False):\n",
      "    \"\"\"\n",
      "    Given a list of faces (n,3), return a list of edges (n*3,2)\n",
      "\n",
      "    Parameters\n",
      "    -----------\n",
      "    faces : (n, 3) int\n",
      "      Vertex indices representing faces\n",
      "\n",
      "    Returns\n",
      "    -----------\n",
      "    edges : (n*3, 2) int\n",
      "      Vertex indices representing edges\n",
      "    \"\"\"\n",
      "    faces = np.asanyarray(faces)\n",
      "\n",
      "    # each face has three edges\n",
      "    edges = faces[:, [0, 1, 1, 2, 2, 0]].reshape((-1, 2))\n",
      "\n",
      "    if return_index:\n",
      "        # edges are in order of faces due to reshape\n",
      "        face_index = np.tile(np.arange(len(faces)),\n",
      "                             (3, 1)).T.reshape(-1)\n",
      "        return edges, face_index\n",
      "    return edges\n",
      "\n"
     ]
    }
   ],
   "source": [
    "# print(inspect.getsource(trimesh.creation.faces_to_edges))"
   ]
  },
  {
   "cell_type": "code",
   "execution_count": 346,
   "metadata": {
    "ExecuteTime": {
     "end_time": "2020-06-09T21:25:26.324333Z",
     "start_time": "2020-06-09T21:25:26.295877Z"
    },
    "hidden": true
   },
   "outputs": [
    {
     "data": {
      "text/plain": [
       "trimesh.base.Trimesh"
      ]
     },
     "execution_count": 346,
     "metadata": {},
     "output_type": "execute_result"
    }
   ],
   "source": []
  },
  {
   "cell_type": "code",
   "execution_count": 347,
   "metadata": {
    "ExecuteTime": {
     "end_time": "2020-06-09T21:25:42.122909Z",
     "start_time": "2020-06-09T21:25:42.090131Z"
    },
    "hidden": true
   },
   "outputs": [
    {
     "data": {
      "text/plain": [
       "<property at 0x131472ad0>"
      ]
     },
     "execution_count": 347,
     "metadata": {},
     "output_type": "execute_result"
    }
   ],
   "source": [
    "# print(inspect.getsource(trimesh.Trimesh.))\n",
    "#     trimesh.Trimesh.mass_properties\n",
    "trimesh.Trimesh.volume"
   ]
  },
  {
   "cell_type": "code",
   "execution_count": null,
   "metadata": {
    "ExecuteTime": {
     "end_time": "2020-06-09T21:00:28.580975Z",
     "start_time": "2020-06-09T21:00:28.545383Z"
    },
    "hidden": true
   },
   "outputs": [],
   "source": [
    "trimesh."
   ]
  },
  {
   "cell_type": "markdown",
   "metadata": {
    "ExecuteTime": {
     "end_time": "2020-06-09T21:00:59.766234Z",
     "start_time": "2020-06-09T21:00:59.730141Z"
    }
   },
   "source": [
    "# DONE: on UB: move the computational geometry ipynbs and lib from rapids-notebook/'trimesh work' over here to python/notebooks/"
   ]
  },
  {
   "cell_type": "markdown",
   "metadata": {
    "heading_collapsed": true
   },
   "source": [
    "## TODO(when bored & w/ time): test trimesh.Trimesh.area and trimesh.Trimesh.volume can reproduce the right ratio for a sphere.\n",
    "\n",
    "### TODO: What sized cube yields a unit volume output? Hint: what's the volume for a right tetrahedron?\n",
    "\n",
    "### (and then) TODO: find out this \"surface integral\" that functionaly produces the volume of a watertight triangular mesh"
   ]
  },
  {
   "cell_type": "code",
   "execution_count": null,
   "metadata": {
    "hidden": true
   },
   "outputs": [],
   "source": [
    "\n",
    "\n",
    "\n",
    "\n"
   ]
  },
  {
   "cell_type": "markdown",
   "metadata": {},
   "source": [
    "# TODO: put semicircle mesh initialization functionality into a .py file in lib/\n",
    "# - then, TODO: use it to locally generate initial conditions on the open science grid"
   ]
  },
  {
   "cell_type": "code",
   "execution_count": 34,
   "metadata": {
    "ExecuteTime": {
     "end_time": "2020-06-17T23:07:19.961391Z",
     "start_time": "2020-06-17T23:07:19.938086Z"
    }
   },
   "outputs": [],
   "source": [
    "#hint\n",
    "# scipy.ndimage.rotate(input, angle, axes=(1, 0), reshape=True, output=None, order=3, mode='constant', cval=0.0, prefilter=True)`\n"
   ]
  },
  {
   "cell_type": "code",
   "execution_count": null,
   "metadata": {},
   "outputs": [],
   "source": []
  }
 ],
 "metadata": {
  "kernelspec": {
   "display_name": "Python 3",
   "language": "python",
   "name": "python3"
  },
  "language_info": {
   "codemirror_mode": {
    "name": "ipython",
    "version": 3
   },
   "file_extension": ".py",
   "mimetype": "text/x-python",
   "name": "python",
   "nbconvert_exporter": "python",
   "pygments_lexer": "ipython3",
   "version": "3.7.7"
  },
  "varInspector": {
   "cols": {
    "lenName": 16,
    "lenType": 16,
    "lenVar": 40
   },
   "kernels_config": {
    "python": {
     "delete_cmd_postfix": "",
     "delete_cmd_prefix": "del ",
     "library": "var_list.py",
     "varRefreshCmd": "print(var_dic_list())"
    },
    "r": {
     "delete_cmd_postfix": ") ",
     "delete_cmd_prefix": "rm(",
     "library": "var_list.r",
     "varRefreshCmd": "cat(var_dic_list()) "
    }
   },
   "types_to_exclude": [
    "module",
    "function",
    "builtin_function_or_method",
    "instance",
    "_Feature"
   ],
   "window_display": false
  }
 },
 "nbformat": 4,
 "nbformat_minor": 2
}
