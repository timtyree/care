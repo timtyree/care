{
 "cells": [
  {
   "cell_type": "markdown",
   "metadata": {},
   "source": [
    "# Create Initial Conditions That Result in Spiral Defect Chaos\n",
    "Tim Tyree<br>\n",
    "6.8.2020"
   ]
  },
  {
   "cell_type": "code",
   "execution_count": 1,
   "metadata": {
    "ExecuteTime": {
     "end_time": "2020-06-08T23:41:35.527435Z",
     "start_time": "2020-06-08T23:41:33.641909Z"
    }
   },
   "outputs": [
    {
     "name": "stdout",
     "output_type": "stream",
     "text": [
      "Automatic calling is: Smart\n"
     ]
    }
   ],
   "source": [
    "#pylab\n",
    "%matplotlib inline\n",
    "import numpy as np, pandas as pd, matplotlib.pyplot as plt\n",
    "from pylab import imshow, show\n",
    "\n",
    "import skimage as sk\n",
    "from skimage import measure, filters\n",
    "\n",
    "import matplotlib.pyplot as plt, numpy as np, os\n",
    "from numba import njit, jit, vectorize\n",
    "from PIL import Image\n",
    "import imageio\n",
    "# import cv2 as cv\n",
    "\n",
    "#automate the boring stuff\n",
    "from IPython import utils\n",
    "import time, os, sys, re\n",
    "beep = lambda x: os.system(\"echo -n '\\\\a';sleep 0.2;\" * x)\n",
    "if not 'nb_dir' in globals():\n",
    "    nb_dir = os.getcwd()\n",
    "width = 512\n",
    "height = 512\n",
    "channel_no = 3\n",
    "\n",
    "#load the libraries\n",
    "from lib.operari import *\n",
    "from lib.ProgressBar import *\n",
    "from lib.minimal_model import *\n",
    "from lib.TexturePlot import *\n",
    "from lib.get_tips import *\n",
    "from lib.intersection import *\n",
    "#TODO: use cuda via numba\n",
    "# from numba import jit, njit, vectorize, cuda, uint32, f8, uint8\n",
    "# from lib.contours_to_tips import *\n",
    "\n",
    "%autocall 1\n",
    "%load_ext autoreload\n",
    "%autoreload 2"
   ]
  },
  {
   "cell_type": "markdown",
   "metadata": {},
   "source": [
    "# create a 512x512x3 initial condition that's well controlled and produces SDC"
   ]
  },
  {
   "cell_type": "markdown",
   "metadata": {},
   "source": [
    "## create a 'time origin' in a simple, controlled way\n",
    "create a uniform, horizontal stimulus, then time step up to time = 100, at time steps of h = 0.01.  Record."
   ]
  },
  {
   "cell_type": "code",
   "execution_count": 12,
   "metadata": {
    "ExecuteTime": {
     "end_time": "2020-06-08T23:45:03.553586Z",
     "start_time": "2020-06-08T23:45:03.525993Z"
    }
   },
   "outputs": [],
   "source": [
    "# make the relevant initial texture\n",
    "txt = np.zeros((512,512,3))\n",
    "zero_txt = txt.copy()\n",
    "txt[256-32:256+32,:,0] = 0.5\n",
    "txt[...,1] = 0.5\n",
    "txt[...,2] = 0.5\n",
    "tme = 0"
   ]
  },
  {
   "cell_type": "code",
   "execution_count": 22,
   "metadata": {
    "ExecuteTime": {
     "end_time": "2020-06-09T00:03:18.807508Z",
     "start_time": "2020-06-09T00:03:18.569283Z"
    }
   },
   "outputs": [
    {
     "data": {
      "text/plain": [
       "<matplotlib.image.AxesImage at 0x12cc97250>"
      ]
     },
     "execution_count": 22,
     "metadata": {},
     "output_type": "execute_result"
    },
    {
     "data": {
      "image/png": "[encoded data removed]",
      "text/plain": [
       "<Figure size 432x288 with 1 Axes>"
      ]
     },
     "metadata": {
      "needs_background": "light"
     },
     "output_type": "display_data"
    }
   ],
   "source": [
    "plt.imshow(txt)"
   ]
  },
  {
   "cell_type": "code",
   "execution_count": 20,
   "metadata": {
    "ExecuteTime": {
     "end_time": "2020-06-09T00:00:55.100686Z",
     "start_time": "2020-06-08T23:56:46.169245Z"
    }
   },
   "outputs": [
    {
     "name": "stdout",
     "output_type": "stream",
     "text": [
      "Progress: |██████████████████████████████████████████████████| 100.0% Complete\n",
      "the time is tme = 100.00000000001425.\n"
     ]
    }
   ],
   "source": [
    "h = 0.01\n",
    "nsteps = 10**4\n",
    "for step in range(nsteps):\n",
    "    time_step(texture=txt, h = 0.01, zero_txt=zero_txt)\n",
    "    tme += h\n",
    "    printProgressBar(step + 1, nsteps, prefix = 'Progress:', suffix = 'Complete', length = 50)\n",
    "beep(1)\n",
    "print(f\"the time is tme = {tme}.\")"
   ]
  },
  {
   "cell_type": "code",
   "execution_count": 30,
   "metadata": {
    "ExecuteTime": {
     "end_time": "2020-06-09T00:12:45.833223Z",
     "start_time": "2020-06-09T00:12:45.778447Z"
    }
   },
   "outputs": [
    {
     "name": "stdout",
     "output_type": "stream",
     "text": [
      "ic_512x512_t=0.npz\n"
     ]
    }
   ],
   "source": [
    "save_fn = f\"ic_{txt.shape[1]}x{txt.shape[0]}_t={0}.npz\"\n",
    "print(save_fn)\n",
    "np.savez_compressed(f'{nb_dir}/Data/{save_fn}', txt)"
   ]
  },
  {
   "cell_type": "markdown",
   "metadata": {},
   "source": [
    "# TODO: add a semicircle of stimulus tilted at 45º in the danger zone\n",
    "- Then confirm that spiral defect chaos commenses"
   ]
  },
  {
   "cell_type": "code",
   "execution_count": 31,
   "metadata": {
    "ExecuteTime": {
     "end_time": "2020-06-09T00:12:49.421838Z",
     "start_time": "2020-06-09T00:12:49.386170Z"
    }
   },
   "outputs": [],
   "source": [
    "data_dir = f'{nb_dir}/Data/ic_512x512_t=0.npz'\n",
    "txt = np.load(data_dir)['arr_0']"
   ]
  },
  {
   "cell_type": "code",
   "execution_count": 33,
   "metadata": {
    "ExecuteTime": {
     "end_time": "2020-06-09T00:13:02.378677Z",
     "start_time": "2020-06-09T00:13:02.147935Z"
    }
   },
   "outputs": [
    {
     "data": {
      "text/plain": [
       "<matplotlib.image.AxesImage at 0x12bb7a6d0>"
      ]
     },
     "execution_count": 33,
     "metadata": {},
     "output_type": "execute_result"
    },
    {
     "data": {
      "image/png": "[encoded data removed]",
      "text/plain": [
       "<Figure size 432x288 with 1 Axes>"
      ]
     },
     "metadata": {
      "needs_background": "light"
     },
     "output_type": "display_data"
    }
   ],
   "source": [
    "plt.imshow(txt)"
   ]
  },
  {
   "cell_type": "code",
   "execution_count": null,
   "metadata": {},
   "outputs": [],
   "source": []
  },
  {
   "cell_type": "code",
   "execution_count": 16,
   "metadata": {
    "ExecuteTime": {
     "end_time": "2020-06-08T23:56:02.801440Z",
     "start_time": "2020-06-08T23:56:02.778179Z"
    }
   },
   "outputs": [
    {
     "data": {
      "text/plain": [
       "array([3.96356133e-08, 9.61024365e-01, 8.56769987e-01])"
      ]
     },
     "execution_count": 16,
     "metadata": {},
     "output_type": "execute_result"
    }
   ],
   "source": [
    "np.mean(txt[0,...], axis=0)"
   ]
  },
  {
   "cell_type": "code",
   "execution_count": 17,
   "metadata": {
    "ExecuteTime": {
     "end_time": "2020-06-08T23:56:04.923012Z",
     "start_time": "2020-06-08T23:56:04.896062Z"
    }
   },
   "outputs": [
    {
     "data": {
      "text/plain": [
       "array([1.56246950e-04, 9.61024365e-01, 8.56769987e-01])"
      ]
     },
     "execution_count": 17,
     "metadata": {},
     "output_type": "execute_result"
    }
   ],
   "source": [
    "np.mean(txt[30,...], axis=0)"
   ]
  },
  {
   "cell_type": "code",
   "execution_count": 23,
   "metadata": {
    "ExecuteTime": {
     "end_time": "2020-06-09T00:03:52.588948Z",
     "start_time": "2020-06-09T00:03:52.567748Z"
    }
   },
   "outputs": [
    {
     "data": {
      "text/plain": [
       "array([0.6113279 , 0.00778823, 0.74541424])"
      ]
     },
     "execution_count": 23,
     "metadata": {},
     "output_type": "execute_result"
    }
   ],
   "source": [
    "np.mean(txt[100,...], axis=0)"
   ]
  },
  {
   "cell_type": "code",
   "execution_count": 19,
   "metadata": {
    "ExecuteTime": {
     "end_time": "2020-06-08T23:56:31.361389Z",
     "start_time": "2020-06-08T23:56:31.340227Z"
    }
   },
   "outputs": [
    {
     "data": {
      "text/plain": [
       "array([0.51121126, 0.01076001, 0.46970635])"
      ]
     },
     "execution_count": 19,
     "metadata": {},
     "output_type": "execute_result"
    }
   ],
   "source": [
    "np.mean(txt[256,...], axis=0)"
   ]
  },
  {
   "cell_type": "code",
   "execution_count": null,
   "metadata": {
    "ExecuteTime": {
     "end_time": "2020-06-08T23:30:30.526178Z",
     "start_time": "2020-06-08T23:30:30.497560Z"
    }
   },
   "outputs": [],
   "source": []
  },
  {
   "cell_type": "code",
   "execution_count": 33,
   "metadata": {
    "ExecuteTime": {
     "end_time": "2020-06-08T23:41:14.670616Z",
     "start_time": "2020-06-08T23:41:14.648720Z"
    }
   },
   "outputs": [
    {
     "data": {
      "text/plain": [
       "True"
      ]
     },
     "execution_count": 33,
     "metadata": {},
     "output_type": "execute_result"
    }
   ],
   "source": [
    "# test cases of periodic boundary conditions on a random matrix\n",
    "test = np.random.rand(111,111,3)\n",
    "# trivial tests, do nothing/ slots agree\n",
    "(pbc(test,1,2)==test[1,2]).all()\n",
    "not (pbc(test,2,1)==test[1,2]).all()"
   ]
  },
  {
   "cell_type": "code",
   "execution_count": null,
   "metadata": {
    "ExecuteTime": {
     "start_time": "2020-06-08T23:41:15.750Z"
    }
   },
   "outputs": [],
   "source": [
    "#test first pbc slot\n",
    "\n",
    "(pbc(test,-1,2)==test[110,2]).all() # test left\n",
    "# (pbc(test,111,2)==test[0,2]).all()  # test right\n",
    "# (pbc(test,112,2)==test[0,2]).all()  # test top\n"
   ]
  },
  {
   "cell_type": "code",
   "execution_count": 17,
   "metadata": {
    "ExecuteTime": {
     "end_time": "2020-06-08T23:37:11.790400Z",
     "start_time": "2020-06-08T23:37:11.767169Z"
    }
   },
   "outputs": [
    {
     "data": {
      "text/plain": [
       "True"
      ]
     },
     "execution_count": 17,
     "metadata": {},
     "output_type": "execute_result"
    }
   ],
   "source": [
    "(pbc(test,-1,-1)==test[511,511]).all()"
   ]
  },
  {
   "cell_type": "code",
   "execution_count": null,
   "metadata": {
    "ExecuteTime": {
     "end_time": "2020-06-08T23:30:26.415133Z",
     "start_time": "2020-06-08T23:30:26.287035Z"
    }
   },
   "outputs": [],
   "source": [
    "pbc(test,-1,-1)"
   ]
  },
  {
   "cell_type": "code",
   "execution_count": null,
   "metadata": {
    "ExecuteTime": {
     "end_time": "2020-06-08T23:30:34.589791Z",
     "start_time": "2020-06-08T23:30:34.466536Z"
    }
   },
   "outputs": [],
   "source": [
    "pbc(test,-1,-1)"
   ]
  },
  {
   "cell_type": "code",
   "execution_count": 288,
   "metadata": {
    "ExecuteTime": {
     "end_time": "2020-06-09T20:48:23.546315Z",
     "start_time": "2020-06-09T20:48:23.471972Z"
    }
   },
   "outputs": [
    {
     "ename": "NameError",
     "evalue": "name 'test' is not defined",
     "output_type": "error",
     "traceback": [
      "\u001b[0;31m---------------------------------------------------------------------------\u001b[0m",
      "\u001b[0;31mNameError\u001b[0m                                 Traceback (most recent call last)",
      "\u001b[0;32m<ipython-input-288-0129613dc446>\u001b[0m in \u001b[0;36m<module>\u001b[0;34m\u001b[0m\n\u001b[0;32m----> 1\u001b[0;31m \u001b[0mtest\u001b[0m\u001b[0;34m.\u001b[0m\u001b[0mshape\u001b[0m\u001b[0;34m\u001b[0m\u001b[0;34m\u001b[0m\u001b[0m\n\u001b[0m\u001b[1;32m      2\u001b[0m \u001b[0mnp\u001b[0m\u001b[0;34m.\u001b[0m\u001b[0mtan\u001b[0m\u001b[0;34m(\u001b[0m\u001b[0mtheta\u001b[0m\u001b[0;34m)\u001b[0m\u001b[0;34m*\u001b[0m\u001b[0mdtb\u001b[0m\u001b[0;34m\u001b[0m\u001b[0;34m\u001b[0m\u001b[0m\n",
      "\u001b[0;31mNameError\u001b[0m: name 'test' is not defined"
     ]
    }
   ],
   "source": [
    "test.shape\n",
    "np.tan(theta)*dtb"
   ]
  },
  {
   "cell_type": "markdown",
   "metadata": {
    "heading_collapsed": true
   },
   "source": [
    "# TODO: add a semicircle of stimulus tilted at 45º in the danger zone\n",
    "- Then confirm that spiral defect chaos commenses"
   ]
  },
  {
   "cell_type": "code",
   "execution_count": 36,
   "metadata": {
    "ExecuteTime": {
     "end_time": "2020-06-09T00:17:31.393922Z",
     "start_time": "2020-06-09T00:17:31.371300Z"
    },
    "hidden": true
   },
   "outputs": [],
   "source": [
    "#why was there stimulus forming at the top/bottom of the canvas?\n",
    "# --> ah, pbc's were broken.  oh well...  fixed now.\n",
    "from skimage import draw"
   ]
  },
  {
   "cell_type": "code",
   "execution_count": 216,
   "metadata": {
    "ExecuteTime": {
     "end_time": "2020-06-09T03:53:28.230749Z",
     "start_time": "2020-06-09T03:53:28.202222Z"
    },
    "hidden": true
   },
   "outputs": [],
   "source": [
    "circle_coords = draw.circle(r=100, c=100, radius=100, shape=(512,512,3))"
   ]
  },
  {
   "cell_type": "code",
   "execution_count": 217,
   "metadata": {
    "ExecuteTime": {
     "end_time": "2020-06-09T03:53:28.603190Z",
     "start_time": "2020-06-09T03:53:28.578443Z"
    },
    "hidden": true
   },
   "outputs": [],
   "source": [
    "# txt[circle_coords]"
   ]
  },
  {
   "cell_type": "code",
   "execution_count": 218,
   "metadata": {
    "ExecuteTime": {
     "end_time": "2020-06-09T03:53:28.903294Z",
     "start_time": "2020-06-09T03:53:28.877686Z"
    },
    "hidden": true
   },
   "outputs": [],
   "source": [
    "rm = 100; cm = 200; #same as circle center\n",
    "deg   = 45 # number of degrees semicircle is cut by\n",
    "theta = deg/180*np.pi\n",
    "xm = rm; ym = cm;"
   ]
  },
  {
   "cell_type": "code",
   "execution_count": 219,
   "metadata": {
    "ExecuteTime": {
     "end_time": "2020-06-09T03:53:29.187681Z",
     "start_time": "2020-06-09T03:53:29.161817Z"
    },
    "hidden": true
   },
   "outputs": [],
   "source": [
    "# ^make a boolean index for \"to the left of\" this line"
   ]
  },
  {
   "cell_type": "code",
   "execution_count": 220,
   "metadata": {
    "ExecuteTime": {
     "end_time": "2020-06-09T03:53:29.478505Z",
     "start_time": "2020-06-09T03:53:29.451378Z"
    },
    "hidden": true
   },
   "outputs": [],
   "source": [
    "#dist to top\n",
    "dtt = ym\n",
    "#dist to bottom\n",
    "dtb = txt.shape[1]-ym-1\n",
    "#use trig to get dist to sides\n",
    "dst = int(np.around(np.tan(theta)*dtt))\n",
    "dsb = int(np.around(np.tan(theta)*dtb))"
   ]
  },
  {
   "cell_type": "code",
   "execution_count": 221,
   "metadata": {
    "ExecuteTime": {
     "end_time": "2020-06-09T03:53:29.764231Z",
     "start_time": "2020-06-09T03:53:29.735597Z"
    },
    "hidden": true
   },
   "outputs": [],
   "source": [
    "# compute initial point and final point of line that goes through the circle's center\n",
    "r0 = 0; c0 = xm - dst\n",
    "r1 = txt.shape[1]-1; c1 = xm + dsb\n",
    "# draw that circle\n",
    "line = draw.line(r0, c0, r1, c1)"
   ]
  },
  {
   "cell_type": "code",
   "execution_count": 222,
   "metadata": {
    "ExecuteTime": {
     "end_time": "2020-06-09T03:53:30.368806Z",
     "start_time": "2020-06-09T03:53:30.157081Z"
    },
    "hidden": true
   },
   "outputs": [],
   "source": [
    "# make the desired coordinate meshes\n",
    "# and make the desired boolean mesh for \"left of line\"\n",
    "#TODO: @njit this all, because its already basically there\n",
    "img = 0*txt[...,0].copy()\n",
    "txtx = img.copy()\n",
    "txty = img.copy()\n",
    "for y in range(txt.shape[0]):\n",
    "    l = line[0][y]\n",
    "    for x in range(txt.shape[1]):\n",
    "        txtx[x,y] = x\n",
    "        txty[x,y] = y   \n",
    "        if x<l:\n",
    "            img[y,x] = 100"
   ]
  },
  {
   "cell_type": "code",
   "execution_count": 223,
   "metadata": {
    "ExecuteTime": {
     "end_time": "2020-06-09T03:57:52.743831Z",
     "start_time": "2020-06-09T03:53:30.570271Z"
    },
    "hidden": true
   },
   "outputs": [],
   "source": [
    "########################################################\n",
    "#######NEARLY WORKING NJITABLE SEMICIRCLE DRAWER #######\n",
    "########################################################\n",
    "\n",
    "img = 0*txt[...,0].copy()\n",
    "for y in circle_coords[0]:\n",
    "    l = line[0][y]\n",
    "    for x in circle_coords[1]:\n",
    "        if x<l:\n",
    "            img[y,x] = 256"
   ]
  },
  {
   "cell_type": "code",
   "execution_count": 224,
   "metadata": {
    "ExecuteTime": {
     "end_time": "2020-06-09T03:57:53.089975Z",
     "start_time": "2020-06-09T03:57:52.905795Z"
    },
    "hidden": true
   },
   "outputs": [
    {
     "data": {
      "text/plain": [
       "<matplotlib.image.AxesImage at 0x13721d510>"
      ]
     },
     "execution_count": 224,
     "metadata": {},
     "output_type": "execute_result"
    },
    {
     "data": {
      "image/png": "[encoded data removed]",
      "text/plain": [
       "<Figure size 432x288 with 1 Axes>"
      ]
     },
     "metadata": {
      "needs_background": "light"
     },
     "output_type": "display_data"
    }
   ],
   "source": [
    "plt.imshow(img)\n",
    "\n",
    "# for rowy, rowl in zip(txty, line):\n",
    "#     rowy < rowl\n",
    "#generate a texture of pixel coordinates\n",
    "# xt = np.arange()"
   ]
  },
  {
   "cell_type": "code",
   "execution_count": 207,
   "metadata": {
    "ExecuteTime": {
     "end_time": "2020-06-09T03:52:36.811351Z",
     "start_time": "2020-06-09T03:52:36.787456Z"
    },
    "hidden": true
   },
   "outputs": [
    {
     "data": {
      "text/plain": [
       "array([[  0., 100., 100.],\n",
       "       [  0.,   0., 100.],\n",
       "       [  0.,   0.,   0.]])"
      ]
     },
     "execution_count": 207,
     "metadata": {},
     "output_type": "execute_result"
    }
   ],
   "source": [
    "# I don't need to @njit this step until a long time from now at least...\n",
    "# img = 0*txt.copy()\n",
    "# for j, row in enumerate(a):\n",
    "#     l = a[j]\n",
    "#     for i in row:\n",
    "#         x = row[i]\n",
    "#         if x<l: \n",
    "#             img[j,i] = 1 \n",
    "img[:3,:3]"
   ]
  },
  {
   "cell_type": "code",
   "execution_count": 225,
   "metadata": {
    "ExecuteTime": {
     "end_time": "2020-06-09T03:57:55.953569Z",
     "start_time": "2020-06-09T03:57:53.244908Z"
    },
    "hidden": true
   },
   "outputs": [
    {
     "data": {
      "text/plain": [
       "0"
      ]
     },
     "execution_count": 225,
     "metadata": {},
     "output_type": "execute_result"
    }
   ],
   "source": [
    "# np.less_equal(x1=txtx, x2=a, where=True)\n",
    "beep(13)"
   ]
  },
  {
   "cell_type": "code",
   "execution_count": 138,
   "metadata": {
    "ExecuteTime": {
     "end_time": "2020-06-09T03:38:12.525263Z",
     "start_time": "2020-06-09T03:38:12.502983Z"
    },
    "hidden": true
   },
   "outputs": [],
   "source": [
    "a = np.array(line).T"
   ]
  },
  {
   "cell_type": "code",
   "execution_count": 141,
   "metadata": {
    "ExecuteTime": {
     "end_time": "2020-06-09T03:38:48.020129Z",
     "start_time": "2020-06-09T03:38:47.989059Z"
    },
    "hidden": true
   },
   "outputs": [
    {
     "ename": "ValueError",
     "evalue": "not enough values to unpack (expected 3, got 2)",
     "output_type": "error",
     "traceback": [
      "\u001b[0;31m---------------------------------------------------------------------------\u001b[0m",
      "\u001b[0;31mValueError\u001b[0m                                Traceback (most recent call last)",
      "\u001b[0;32m<ipython-input-141-918063c2f2dd>\u001b[0m in \u001b[0;36m<module>\u001b[0;34m\u001b[0m\n\u001b[1;32m      1\u001b[0m \u001b[0mimg\u001b[0m \u001b[0;34m=\u001b[0m \u001b[0;36m0\u001b[0m\u001b[0;34m*\u001b[0m\u001b[0mtxt\u001b[0m\u001b[0;34m[\u001b[0m\u001b[0;34m...\u001b[0m\u001b[0;34m,\u001b[0m\u001b[0;36m0\u001b[0m\u001b[0;34m]\u001b[0m\u001b[0;34m.\u001b[0m\u001b[0mcopy\u001b[0m\u001b[0;34m(\u001b[0m\u001b[0;34m)\u001b[0m\u001b[0;34m\u001b[0m\u001b[0;34m\u001b[0m\u001b[0m\n\u001b[1;32m      2\u001b[0m \u001b[0;31m# for j, l, row in enumerate(zip(list(line[0]), txty)):\u001b[0m\u001b[0;34m\u001b[0m\u001b[0;34m\u001b[0m\u001b[0;34m\u001b[0m\u001b[0m\n\u001b[0;32m----> 3\u001b[0;31m \u001b[0;32mfor\u001b[0m \u001b[0mj\u001b[0m\u001b[0;34m,\u001b[0m \u001b[0ml\u001b[0m\u001b[0;34m,\u001b[0m \u001b[0mrow\u001b[0m \u001b[0;32min\u001b[0m \u001b[0menumerate\u001b[0m\u001b[0;34m(\u001b[0m\u001b[0mzip\u001b[0m\u001b[0;34m(\u001b[0m\u001b[0mline\u001b[0m\u001b[0;34m,\u001b[0m \u001b[0mtxty\u001b[0m\u001b[0;34m)\u001b[0m\u001b[0;34m)\u001b[0m\u001b[0;34m:\u001b[0m\u001b[0;34m\u001b[0m\u001b[0;34m\u001b[0m\u001b[0m\n\u001b[0m\u001b[1;32m      4\u001b[0m     \u001b[0mboo\u001b[0m \u001b[0;34m=\u001b[0m \u001b[0mrow\u001b[0m\u001b[0;34m<\u001b[0m\u001b[0ml\u001b[0m\u001b[0;34m\u001b[0m\u001b[0;34m\u001b[0m\u001b[0m\n\u001b[1;32m      5\u001b[0m     \u001b[0mimg\u001b[0m\u001b[0;34m[\u001b[0m\u001b[0mj\u001b[0m\u001b[0;34m,\u001b[0m\u001b[0;34m:\u001b[0m\u001b[0;34m]\u001b[0m\u001b[0;34m\u001b[0m\u001b[0;34m\u001b[0m\u001b[0m\n",
      "\u001b[0;31mValueError\u001b[0m: not enough values to unpack (expected 3, got 2)"
     ]
    }
   ],
   "source": [
    "img = 0*txt[...,0].copy()\n",
    "# for j, l, row in enumerate(zip(list(line[0]), txty)):\n",
    "for j, l, row in enumerate(zip(line, txty)):\n",
    "    boo = row<l\n",
    "    img[j,:]"
   ]
  },
  {
   "cell_type": "code",
   "execution_count": 178,
   "metadata": {
    "ExecuteTime": {
     "end_time": "2020-06-09T03:48:03.881509Z",
     "start_time": "2020-06-09T03:48:03.858153Z"
    },
    "hidden": true
   },
   "outputs": [],
   "source": [
    "# for row in line:\n",
    "#     l = row"
   ]
  },
  {
   "cell_type": "code",
   "execution_count": null,
   "metadata": {
    "ExecuteTime": {
     "end_time": "2020-06-09T03:48:05.428342Z",
     "start_time": "2020-06-09T03:48:05.400317Z"
    },
    "hidden": true
   },
   "outputs": [],
   "source": []
  },
  {
   "cell_type": "code",
   "execution_count": null,
   "metadata": {
    "ExecuteTime": {
     "end_time": "2020-06-09T03:39:51.168592Z",
     "start_time": "2020-06-09T03:39:51.143270Z"
    },
    "hidden": true
   },
   "outputs": [],
   "source": []
  },
  {
   "cell_type": "code",
   "execution_count": null,
   "metadata": {
    "ExecuteTime": {
     "end_time": "2020-06-09T03:39:58.220855Z",
     "start_time": "2020-06-09T03:39:58.193096Z"
    },
    "hidden": true
   },
   "outputs": [],
   "source": []
  },
  {
   "cell_type": "code",
   "execution_count": 270,
   "metadata": {
    "ExecuteTime": {
     "end_time": "2020-06-09T18:16:47.137335Z",
     "start_time": "2020-06-09T18:16:47.115026Z"
    },
    "hidden": true
   },
   "outputs": [],
   "source": [
    "from numba import njit\n",
    "from numba.typed import List\n",
    "import numpy as np\n",
    "@njit\n",
    "def rescale_score(x):\n",
    "    '''x is float.  maps [0,1] to [-1,1].'''\n",
    "    return 2.*(x-0.5)\n",
    "@njit\n",
    "def rescale_scores(score_list):\n",
    "    lst = List()\n",
    "    for x in score_list:\n",
    "        lst.append(rescale_score(x))\n",
    "    return lst\n",
    "%timeit\n",
    "retval = list(rescale_scores(np.linspace(0,1,10**6)))"
   ]
  },
  {
   "cell_type": "code",
   "execution_count": 284,
   "metadata": {
    "ExecuteTime": {
     "end_time": "2020-06-09T18:33:17.488508Z",
     "start_time": "2020-06-09T18:33:17.452769Z"
    },
    "hidden": true
   },
   "outputs": [],
   "source": [
    "plt.savefig?"
   ]
  },
  {
   "cell_type": "markdown",
   "metadata": {
    "ExecuteTime": {
     "end_time": "2020-06-09T18:16:14.846658Z",
     "start_time": "2020-06-09T18:16:14.820532Z"
    }
   },
   "source": [
    "# get method from trimesh used to calculate volume"
   ]
  },
  {
   "cell_type": "code",
   "execution_count": 286,
   "metadata": {
    "ExecuteTime": {
     "end_time": "2020-06-09T20:48:07.674241Z",
     "start_time": "2020-06-09T20:48:03.523102Z"
    }
   },
   "outputs": [
    {
     "name": "stdout",
     "output_type": "stream",
     "text": [
      "Collecting trimesh\n",
      "  Downloading trimesh-3.6.43-py3-none-any.whl (614 kB)\n",
      "\u001b[K     |████████████████████████████████| 614 kB 2.3 MB/s eta 0:00:01\n",
      "\u001b[?25hRequirement already satisfied: numpy in /usr/local/lib/python3.7/site-packages (from trimesh) (1.16.4)\n",
      "Requirement already satisfied: setuptools in /usr/local/lib/python3.7/site-packages (from trimesh) (46.0.0)\n",
      "Installing collected packages: trimesh\n",
      "Successfully installed trimesh-3.6.43\n"
     ]
    }
   ],
   "source": [
    "!pip3 install trimesh"
   ]
  },
  {
   "cell_type": "code",
   "execution_count": 337,
   "metadata": {
    "ExecuteTime": {
     "end_time": "2020-06-09T21:23:22.574522Z",
     "start_time": "2020-06-09T21:23:22.545919Z"
    }
   },
   "outputs": [],
   "source": [
    "import trimesh\n",
    "from lib.operari import *\n",
    "import inspect"
   ]
  },
  {
   "cell_type": "code",
   "execution_count": 338,
   "metadata": {
    "ExecuteTime": {
     "end_time": "2020-06-09T21:23:26.542225Z",
     "start_time": "2020-06-09T21:23:26.424728Z"
    }
   },
   "outputs": [],
   "source": [
    "file_name = 'ic_600x600.101.npz'\n",
    "file_dir = find_files(file_name, search_path=nb_dir)\n",
    "if len(file_dir)==0: raise('file not found')\n",
    "# print(\n",
    "file_dir=file_dir[0]\n",
    "# )\n",
    "# print(sys.path.exists(file_dir))"
   ]
  },
  {
   "cell_type": "code",
   "execution_count": 339,
   "metadata": {
    "ExecuteTime": {
     "end_time": "2020-06-09T21:23:30.371616Z",
     "start_time": "2020-06-09T21:23:30.304540Z"
    }
   },
   "outputs": [],
   "source": [
    "# generate load_mesh from .npz array\n",
    "txt = np.load(file_dir)['arr_0']"
   ]
  },
  {
   "cell_type": "code",
   "execution_count": 340,
   "metadata": {
    "ExecuteTime": {
     "end_time": "2020-06-09T21:23:34.212323Z",
     "start_time": "2020-06-09T21:23:34.189340Z"
    }
   },
   "outputs": [
    {
     "name": "stdout",
     "output_type": "stream",
     "text": [
      "^that folder probs existed already.\n"
     ]
    }
   ],
   "source": [
    "# #make a log folder\n",
    "make_log_folder(folder_name='Data/log-tmp/')"
   ]
  },
  {
   "cell_type": "code",
   "execution_count": 341,
   "metadata": {
    "ExecuteTime": {
     "end_time": "2020-06-09T21:23:43.406736Z",
     "start_time": "2020-06-09T21:23:43.375942Z"
    }
   },
   "outputs": [
    {
     "name": "stdout",
     "output_type": "stream",
     "text": [
      "def faces_to_edges(faces, return_index=False):\n",
      "    \"\"\"\n",
      "    Given a list of faces (n,3), return a list of edges (n*3,2)\n",
      "\n",
      "    Parameters\n",
      "    -----------\n",
      "    faces : (n, 3) int\n",
      "      Vertex indices representing faces\n",
      "\n",
      "    Returns\n",
      "    -----------\n",
      "    edges : (n*3, 2) int\n",
      "      Vertex indices representing edges\n",
      "    \"\"\"\n",
      "    faces = np.asanyarray(faces)\n",
      "\n",
      "    # each face has three edges\n",
      "    edges = faces[:, [0, 1, 1, 2, 2, 0]].reshape((-1, 2))\n",
      "\n",
      "    if return_index:\n",
      "        # edges are in order of faces due to reshape\n",
      "        face_index = np.tile(np.arange(len(faces)),\n",
      "                             (3, 1)).T.reshape(-1)\n",
      "        return edges, face_index\n",
      "    return edges\n",
      "\n"
     ]
    }
   ],
   "source": [
    "print(inspect.getsource(trimesh.creation.faces_to_edges))"
   ]
  },
  {
   "cell_type": "code",
   "execution_count": 346,
   "metadata": {
    "ExecuteTime": {
     "end_time": "2020-06-09T21:25:26.324333Z",
     "start_time": "2020-06-09T21:25:26.295877Z"
    }
   },
   "outputs": [
    {
     "data": {
      "text/plain": [
       "trimesh.base.Trimesh"
      ]
     },
     "execution_count": 346,
     "metadata": {},
     "output_type": "execute_result"
    }
   ],
   "source": []
  },
  {
   "cell_type": "code",
   "execution_count": 347,
   "metadata": {
    "ExecuteTime": {
     "end_time": "2020-06-09T21:25:42.122909Z",
     "start_time": "2020-06-09T21:25:42.090131Z"
    }
   },
   "outputs": [
    {
     "data": {
      "text/plain": [
       "<property at 0x131472ad0>"
      ]
     },
     "execution_count": 347,
     "metadata": {},
     "output_type": "execute_result"
    }
   ],
   "source": [
    "# print(inspect.getsource(trimesh.Trimesh.))\n",
    "#     trimesh.Trimesh.mass_properties\n",
    "trimesh.Trimesh.volume"
   ]
  },
  {
   "cell_type": "code",
   "execution_count": null,
   "metadata": {
    "ExecuteTime": {
     "end_time": "2020-06-09T21:00:28.580975Z",
     "start_time": "2020-06-09T21:00:28.545383Z"
    }
   },
   "outputs": [],
   "source": [
    "trimesh."
   ]
  },
  {
   "cell_type": "markdown",
   "metadata": {
    "ExecuteTime": {
     "end_time": "2020-06-09T21:00:59.766234Z",
     "start_time": "2020-06-09T21:00:59.730141Z"
    }
   },
   "source": [
    "# TODO: on UB: move the computational geometry ipynbs and lib from rapids-notebook/'trimesh work' over here to python/notebooks/"
   ]
  },
  {
   "cell_type": "markdown",
   "metadata": {},
   "source": [
    "# TODO: test whether trimesh.Trimesh.area and trimesh.Trimesh.volume can reproduce the right ratio for a sphere."
   ]
  },
  {
   "cell_type": "markdown",
   "metadata": {},
   "source": [
    "# TODO: What sized cube yields a unit volume output? Hint: what's the volume for a right tetrahedron?"
   ]
  },
  {
   "cell_type": "markdown",
   "metadata": {},
   "source": [
    "# (and then) TODO: find out this \"surface integral\" that functionaly produces the volume of a watertight triangular mesh"
   ]
  },
  {
   "cell_type": "code",
   "execution_count": null,
   "metadata": {},
   "outputs": [],
   "source": []
  }
 ],
 "metadata": {
  "kernelspec": {
   "display_name": "Python 3",
   "language": "python",
   "name": "python3"
  },
  "varInspector": {
   "cols": {
    "lenName": 16,
    "lenType": 16,
    "lenVar": 40
   },
   "kernels_config": {
    "python": {
     "delete_cmd_postfix": "",
     "delete_cmd_prefix": "del ",
     "library": "var_list.py",
     "varRefreshCmd": "print(var_dic_list())"
    },
    "r": {
     "delete_cmd_postfix": ") ",
     "delete_cmd_prefix": "rm(",
     "library": "var_list.r",
     "varRefreshCmd": "cat(var_dic_list()) "
    }
   },
   "types_to_exclude": [
    "module",
    "function",
    "builtin_function_or_method",
    "instance",
    "_Feature"
   ],
   "window_display": false
  }
 },
 "nbformat": 4,
 "nbformat_minor": 2
}
