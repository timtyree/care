{
 "cells": [
  {
   "cell_type": "markdown",
   "metadata": {},
   "source": [
    "# Create Initial Conditions That Result in Spiral Defect Chaos\n",
    "Tim Tyree<br>\n",
    "6.8.2020"
   ]
  },
  {
   "cell_type": "code",
   "execution_count": 48,
   "metadata": {
    "ExecuteTime": {
     "end_time": "2020-08-13T20:04:30.955341Z",
     "start_time": "2020-08-13T20:04:30.879468Z"
    }
   },
   "outputs": [
    {
     "name": "stdout",
     "output_type": "stream",
     "text": [
      "Automatic calling is: Smart\n"
     ]
    }
   ],
   "source": [
    "#pylab\n",
    "%matplotlib inline\n",
    "import numpy as np, pandas as pd, matplotlib.pyplot as plt\n",
    "from pylab import imshow, show\n",
    "\n",
    "import skimage as sk\n",
    "from skimage import measure, filters\n",
    "\n",
    "import matplotlib.pyplot as plt, numpy as np, os\n",
    "from numba import njit, jit, vectorize\n",
    "from PIL import Image\n",
    "import imageio\n",
    "# import cv2 as cv\n",
    "\n",
    "#automate the boring stuff\n",
    "from IPython import utils\n",
    "import time, os, sys, re\n",
    "beep = lambda x: os.system(\"echo -n '\\\\a';sleep 0.2;\" * x)\n",
    "if not 'nb_dir' in globals():\n",
    "    nb_dir = os.getcwd()\n",
    "width = 512\n",
    "height = 512\n",
    "channel_no = 3\n",
    "\n",
    "#load the libraries\n",
    "from lib import *\n",
    "# from lib.operari import *\n",
    "# from lib.ProgressBar import *\n",
    "# from lib.minimal_model import *\n",
    "# from lib.TexturePlot import *\n",
    "# from lib.get_tips import *\n",
    "# from lib.intersection import *\n",
    "#TODO: use cuda via numba\n",
    "# from numba import jit, njit, vectorize, cuda, uint32, f8, uint8\n",
    "# from lib.contours_to_tips import *\n",
    "\n",
    "%autocall 1\n",
    "%load_ext autoreload\n",
    "%autoreload 2"
   ]
  },
  {
   "cell_type": "markdown",
   "metadata": {
    "heading_collapsed": true
   },
   "source": [
    "# create a 512x512x3 initial condition that's well controlled and produces SDC"
   ]
  },
  {
   "cell_type": "markdown",
   "metadata": {
    "heading_collapsed": true,
    "hidden": true
   },
   "source": [
    "## create a 'time origin' in a simple, controlled way\n",
    "create a uniform, horizontal stimulus, then time step up to time = 100, at time steps of h = 0.01.  Record."
   ]
  },
  {
   "cell_type": "code",
   "execution_count": 2,
   "metadata": {
    "ExecuteTime": {
     "end_time": "2020-06-17T22:48:27.007123Z",
     "start_time": "2020-06-17T22:48:26.976888Z"
    },
    "hidden": true
   },
   "outputs": [],
   "source": [
    "# make the relevant initial texture\n",
    "txt = np.zeros((512,512,3))\n",
    "zero_txt = txt.copy()\n",
    "txt[256-32:256+32,:,0] = 0.5\n",
    "txt[...,1] = 0.5\n",
    "txt[...,2] = 0.5\n",
    "tme = 0"
   ]
  },
  {
   "cell_type": "code",
   "execution_count": 22,
   "metadata": {
    "ExecuteTime": {
     "end_time": "2020-06-09T00:03:18.807508Z",
     "start_time": "2020-06-09T00:03:18.569283Z"
    },
    "hidden": true
   },
   "outputs": [
    {
     "data": {
      "text/plain": [
       "<matplotlib.image.AxesImage at 0x12cc97250>"
      ]
     },
     "execution_count": 22,
     "metadata": {},
     "output_type": "execute_result"
    },
    {
     "data": {
      "image/png": "[encoded data removed]",
      "text/plain": [
       "<Figure size 432x288 with 1 Axes>"
      ]
     },
     "metadata": {
      "needs_background": "light"
     },
     "output_type": "display_data"
    }
   ],
   "source": [
    "plt.imshow(txt)"
   ]
  },
  {
   "cell_type": "code",
   "execution_count": 20,
   "metadata": {
    "ExecuteTime": {
     "end_time": "2020-06-09T00:00:55.100686Z",
     "start_time": "2020-06-08T23:56:46.169245Z"
    },
    "hidden": true
   },
   "outputs": [
    {
     "name": "stdout",
     "output_type": "stream",
     "text": [
      "Progress: |██████████████████████████████████████████████████| 100.0% Complete\n",
      "the time is tme = 100.00000000001425.\n"
     ]
    }
   ],
   "source": [
    "h = 0.01\n",
    "nsteps = 10**4\n",
    "for step in range(nsteps):\n",
    "    time_step(texture=txt, h = 0.01, zero_txt=zero_txt)\n",
    "    tme += h\n",
    "    printProgressBar(step + 1, nsteps, prefix = 'Progress:', suffix = 'Complete', length = 50)\n",
    "beep(1)\n",
    "print(f\"the time is tme = {tme}.\")"
   ]
  },
  {
   "cell_type": "code",
   "execution_count": 30,
   "metadata": {
    "ExecuteTime": {
     "end_time": "2020-06-09T00:12:45.833223Z",
     "start_time": "2020-06-09T00:12:45.778447Z"
    },
    "hidden": true
   },
   "outputs": [
    {
     "name": "stdout",
     "output_type": "stream",
     "text": [
      "ic_512x512_t=0.npz\n"
     ]
    }
   ],
   "source": [
    "save_fn = f\"ic_{txt.shape[1]}x{txt.shape[0]}_t={0}.npz\"\n",
    "print(save_fn)\n",
    "np.savez_compressed(f'{nb_dir}/Data/{save_fn}', txt)"
   ]
  },
  {
   "cell_type": "markdown",
   "metadata": {
    "heading_collapsed": true,
    "hidden": true
   },
   "source": [
    "## added a semicircle of stimulus tilted at 45º in the danger zone\n",
    "- Then confirm that spiral defect chaos commenses"
   ]
  },
  {
   "cell_type": "markdown",
   "metadata": {
    "heading_collapsed": true,
    "hidden": true
   },
   "source": [
    "## load test cases for pbc"
   ]
  },
  {
   "cell_type": "code",
   "execution_count": 3,
   "metadata": {
    "ExecuteTime": {
     "end_time": "2020-06-17T22:48:45.300321Z",
     "start_time": "2020-06-17T22:48:45.257682Z"
    },
    "hidden": true
   },
   "outputs": [],
   "source": [
    "data_dir = f'{nb_dir}/Data/ic_512x512_t=0.npz'\n",
    "txt = np.load(data_dir)['arr_0']"
   ]
  },
  {
   "cell_type": "code",
   "execution_count": 141,
   "metadata": {
    "ExecuteTime": {
     "end_time": "2020-06-18T00:47:43.519540Z",
     "start_time": "2020-06-18T00:47:42.856837Z"
    },
    "hidden": true
   },
   "outputs": [
    {
     "name": "stdout",
     "output_type": "stream",
     "text": [
      "100000\n"
     ]
    },
    {
     "data": {
      "text/plain": [
       "<matplotlib.image.AxesImage at 0x1387181d0>"
      ]
     },
     "execution_count": 141,
     "metadata": {},
     "output_type": "execute_result"
    },
    {
     "data": {
      "image/png": "[encoded data removed]",
      "text/plain": [
       "<Figure size 432x288 with 1 Axes>"
      ]
     },
     "metadata": {
      "needs_background": "light"
     },
     "output_type": "display_data"
    }
   ],
   "source": [
    "plt.imshow(txt)"
   ]
  },
  {
   "cell_type": "code",
   "execution_count": 13,
   "metadata": {
    "ExecuteTime": {
     "end_time": "2020-06-17T22:51:38.598687Z",
     "start_time": "2020-06-17T22:51:38.571613Z"
    },
    "hidden": true
   },
   "outputs": [],
   "source": []
  },
  {
   "cell_type": "markdown",
   "metadata": {
    "heading_collapsed": true
   },
   "source": [
    "# DONE: add a semicircle of stimulus tilted at 45º in the danger zone\n",
    "- Then confirm that spiral defect chaos commenses"
   ]
  },
  {
   "cell_type": "code",
   "execution_count": 142,
   "metadata": {
    "ExecuteTime": {
     "end_time": "2020-06-18T01:06:28.105604Z",
     "start_time": "2020-06-18T01:06:27.526465Z"
    },
    "hidden": true
   },
   "outputs": [
    {
     "name": "stdout",
     "output_type": "stream",
     "text": [
      "100000\n"
     ]
    },
    {
     "data": {
      "text/plain": [
       "<matplotlib.image.AxesImage at 0x13acef290>"
      ]
     },
     "execution_count": 142,
     "metadata": {},
     "output_type": "execute_result"
    },
    {
     "data": {
      "image/png": "[encoded data removed]",
      "text/plain": [
       "<Figure size 432x288 with 1 Axes>"
      ]
     },
     "metadata": {
      "needs_background": "light"
     },
     "output_type": "display_data"
    }
   ],
   "source": [
    "#make initialization conditions\n",
    "deg = 45\n",
    "x0 = 512/2\n",
    "y0 = 512/4\n",
    "\n",
    "#make the initialization mesh\n",
    "img = 0*txt[...,0].copy()\n",
    "color_left_of_line(out=img, x0=x0, y0=y0, deg = deg, value=1.)  #make left of line mesh 0 or 1\n",
    "color_outside_range(out=img, x0=x0,y0=y0,r=64*2, val=0.0)  #make circle mesh 0 or 1\n",
    "#already done: hadamard product of the two.\n",
    "\n",
    "plt.imshow(img)"
   ]
  },
  {
   "cell_type": "code",
   "execution_count": 151,
   "metadata": {
    "ExecuteTime": {
     "end_time": "2020-06-18T02:00:41.746814Z",
     "start_time": "2020-06-18T02:00:41.041225Z"
    },
    "hidden": true
   },
   "outputs": [
    {
     "name": "stderr",
     "output_type": "stream",
     "text": [
      "Clipping input data to the valid range for imshow with RGB data ([0..1] for floats or [0..255] for integers).\n"
     ]
    },
    {
     "name": "stdout",
     "output_type": "stream",
     "text": [
      "100000\n"
     ]
    },
    {
     "data": {
      "text/plain": [
       "<matplotlib.image.AxesImage at 0x134448b10>"
      ]
     },
     "execution_count": 151,
     "metadata": {},
     "output_type": "execute_result"
    },
    {
     "data": {
      "image/png": "[encoded data removed]",
      "text/plain": [
       "<Figure size 432x288 with 1 Axes>"
      ]
     },
     "metadata": {
      "needs_background": "light"
     },
     "output_type": "display_data"
    }
   ],
   "source": [
    "# save this init + the origin\n",
    "out = txt.copy()\n",
    "out[...,0] += 10.*img\n",
    "plt.imshow(out)"
   ]
  },
  {
   "cell_type": "code",
   "execution_count": 152,
   "metadata": {
    "ExecuteTime": {
     "end_time": "2020-06-18T02:00:43.694467Z",
     "start_time": "2020-06-18T02:00:43.623999Z"
    },
    "hidden": true
   },
   "outputs": [],
   "source": [
    "save_dir = nb_dir+f'/Data/ic_deg_{deg}_0'\n",
    "np.save(save_dir+f'.npy', arr=out)\n",
    "np.savez_compressed(save_dir+f'.npz', arr=out)"
   ]
  },
  {
   "cell_type": "code",
   "execution_count": 150,
   "metadata": {
    "ExecuteTime": {
     "end_time": "2020-06-18T01:16:45.592758Z",
     "start_time": "2020-06-18T01:16:45.568175Z"
    },
    "hidden": true
   },
   "outputs": [
    {
     "data": {
      "text/plain": [
       "'/Users/timothytyree/Documents/GitHub/care/notebooks/Data/ic_deg_45_0'"
      ]
     },
     "execution_count": 150,
     "metadata": {},
     "output_type": "execute_result"
    }
   ],
   "source": [
    "save_dir\n"
   ]
  },
  {
   "cell_type": "markdown",
   "metadata": {
    "ExecuteTime": {
     "end_time": "2020-06-09T18:16:14.846658Z",
     "start_time": "2020-06-09T18:16:14.820532Z"
    },
    "hidden": true
   },
   "source": [
    "## off topic: get method from trimesh used to calculate volume"
   ]
  },
  {
   "cell_type": "code",
   "execution_count": 139,
   "metadata": {
    "ExecuteTime": {
     "end_time": "2020-06-18T00:43:37.488947Z",
     "start_time": "2020-06-18T00:43:37.465624Z"
    },
    "hidden": true
   },
   "outputs": [],
   "source": [
    "\n",
    "# from skimage import draw\n",
    "\n",
    "# circle_coords = draw.circle(r=100, c=100, radius=100, shape=(512,512,3))\n",
    "# txt[circle_coords]\n",
    "\n",
    "\n",
    "# compute initial point and final point of line that goes through the circle's center\n",
    "# r0 = 0; c0 = xm - dst\n",
    "# r1 = txt.shape[1]-1; c1 = xm + dsb\n",
    "# draw that circle\n",
    "# line = draw.line(r0, c0, r1, c1)\n",
    "\n",
    "# ym = 512/4; xm = 512/2; #same as circle center\n",
    "# deg   = 45 # number of degrees semicircle is cut by\n",
    "# theta = deg/180*np.pi\n",
    "\n",
    "# #dist to top\n",
    "# dtt = ym\n",
    "# #dist to bottom\n",
    "# dtb = txt.shape[1]-ym-1\n",
    "# #use trig to get dist to sides\n",
    "# dst = int(np.around(np.tan(theta)*dtt))\n",
    "# dsb = int(np.around(np.tan(theta)*dtb))\n",
    "\n",
    "\n",
    "# img = 0*txt[...,0].copy()\n",
    "# line_x = line[0]\n",
    "# color_within_range(x0=512/2,y0=512/4,r=100, out=img, val=10., width=512,height=512)\n"
   ]
  },
  {
   "cell_type": "code",
   "execution_count": 286,
   "metadata": {
    "ExecuteTime": {
     "end_time": "2020-06-09T20:48:07.674241Z",
     "start_time": "2020-06-09T20:48:03.523102Z"
    },
    "hidden": true
   },
   "outputs": [
    {
     "name": "stdout",
     "output_type": "stream",
     "text": [
      "Collecting trimesh\n",
      "  Downloading trimesh-3.6.43-py3-none-any.whl (614 kB)\n",
      "\u001b[K     |████████████████████████████████| 614 kB 2.3 MB/s eta 0:00:01\n",
      "\u001b[?25hRequirement already satisfied: numpy in /usr/local/lib/python3.7/site-packages (from trimesh) (1.16.4)\n",
      "Requirement already satisfied: setuptools in /usr/local/lib/python3.7/site-packages (from trimesh) (46.0.0)\n",
      "Installing collected packages: trimesh\n",
      "Successfully installed trimesh-3.6.43\n"
     ]
    }
   ],
   "source": [
    "!pip3 install trimesh"
   ]
  },
  {
   "cell_type": "code",
   "execution_count": 337,
   "metadata": {
    "ExecuteTime": {
     "end_time": "2020-06-09T21:23:22.574522Z",
     "start_time": "2020-06-09T21:23:22.545919Z"
    },
    "hidden": true
   },
   "outputs": [],
   "source": [
    "import trimesh\n",
    "# from lib.operari import *\n",
    "# import inspect"
   ]
  },
  {
   "cell_type": "code",
   "execution_count": 338,
   "metadata": {
    "ExecuteTime": {
     "end_time": "2020-06-09T21:23:26.542225Z",
     "start_time": "2020-06-09T21:23:26.424728Z"
    },
    "hidden": true
   },
   "outputs": [],
   "source": [
    "file_name = 'ic_600x600.101.npz'\n",
    "file_dir = find_files(file_name, search_path=nb_dir)\n",
    "if len(file_dir)==0: raise('file not found')\n",
    "# print(\n",
    "file_dir=file_dir[0]\n",
    "# )\n",
    "# print(sys.path.exists(file_dir))"
   ]
  },
  {
   "cell_type": "code",
   "execution_count": 339,
   "metadata": {
    "ExecuteTime": {
     "end_time": "2020-06-09T21:23:30.371616Z",
     "start_time": "2020-06-09T21:23:30.304540Z"
    },
    "hidden": true
   },
   "outputs": [],
   "source": [
    "# generate load_mesh from .npz array\n",
    "txt = np.load(file_dir)['arr_0']"
   ]
  },
  {
   "cell_type": "code",
   "execution_count": 340,
   "metadata": {
    "ExecuteTime": {
     "end_time": "2020-06-09T21:23:34.212323Z",
     "start_time": "2020-06-09T21:23:34.189340Z"
    },
    "hidden": true
   },
   "outputs": [
    {
     "name": "stdout",
     "output_type": "stream",
     "text": [
      "^that folder probs existed already.\n"
     ]
    }
   ],
   "source": [
    "# #make a log folder\n",
    "make_log_folder(folder_name='Data/log-tmp/')"
   ]
  },
  {
   "cell_type": "code",
   "execution_count": 341,
   "metadata": {
    "ExecuteTime": {
     "end_time": "2020-06-09T21:23:43.406736Z",
     "start_time": "2020-06-09T21:23:43.375942Z"
    },
    "hidden": true
   },
   "outputs": [
    {
     "name": "stdout",
     "output_type": "stream",
     "text": [
      "def faces_to_edges(faces, return_index=False):\n",
      "    \"\"\"\n",
      "    Given a list of faces (n,3), return a list of edges (n*3,2)\n",
      "\n",
      "    Parameters\n",
      "    -----------\n",
      "    faces : (n, 3) int\n",
      "      Vertex indices representing faces\n",
      "\n",
      "    Returns\n",
      "    -----------\n",
      "    edges : (n*3, 2) int\n",
      "      Vertex indices representing edges\n",
      "    \"\"\"\n",
      "    faces = np.asanyarray(faces)\n",
      "\n",
      "    # each face has three edges\n",
      "    edges = faces[:, [0, 1, 1, 2, 2, 0]].reshape((-1, 2))\n",
      "\n",
      "    if return_index:\n",
      "        # edges are in order of faces due to reshape\n",
      "        face_index = np.tile(np.arange(len(faces)),\n",
      "                             (3, 1)).T.reshape(-1)\n",
      "        return edges, face_index\n",
      "    return edges\n",
      "\n"
     ]
    }
   ],
   "source": [
    "# print(inspect.getsource(trimesh.creation.faces_to_edges))"
   ]
  },
  {
   "cell_type": "code",
   "execution_count": 346,
   "metadata": {
    "ExecuteTime": {
     "end_time": "2020-06-09T21:25:26.324333Z",
     "start_time": "2020-06-09T21:25:26.295877Z"
    },
    "hidden": true
   },
   "outputs": [
    {
     "data": {
      "text/plain": [
       "trimesh.base.Trimesh"
      ]
     },
     "execution_count": 346,
     "metadata": {},
     "output_type": "execute_result"
    }
   ],
   "source": []
  },
  {
   "cell_type": "code",
   "execution_count": 347,
   "metadata": {
    "ExecuteTime": {
     "end_time": "2020-06-09T21:25:42.122909Z",
     "start_time": "2020-06-09T21:25:42.090131Z"
    },
    "hidden": true
   },
   "outputs": [
    {
     "data": {
      "text/plain": [
       "<property at 0x131472ad0>"
      ]
     },
     "execution_count": 347,
     "metadata": {},
     "output_type": "execute_result"
    }
   ],
   "source": [
    "# print(inspect.getsource(trimesh.Trimesh.))\n",
    "#     trimesh.Trimesh.mass_properties\n",
    "trimesh.Trimesh.volume"
   ]
  },
  {
   "cell_type": "code",
   "execution_count": null,
   "metadata": {
    "ExecuteTime": {
     "end_time": "2020-06-09T21:00:28.580975Z",
     "start_time": "2020-06-09T21:00:28.545383Z"
    },
    "hidden": true
   },
   "outputs": [],
   "source": [
    "trimesh."
   ]
  },
  {
   "cell_type": "markdown",
   "metadata": {
    "ExecuteTime": {
     "end_time": "2020-06-09T21:00:59.766234Z",
     "start_time": "2020-06-09T21:00:59.730141Z"
    },
    "heading_collapsed": true
   },
   "source": [
    "# move the computational geometry ipynbs and lib from rapids-notebook/'trimesh work' over here to python/notebooks/\n",
    "Done on UB"
   ]
  },
  {
   "cell_type": "markdown",
   "metadata": {
    "heading_collapsed": true,
    "hidden": true
   },
   "source": [
    "## distractions"
   ]
  },
  {
   "cell_type": "markdown",
   "metadata": {
    "heading_collapsed": true,
    "hidden": true
   },
   "source": [
    "### TODO(when bored & w/ time): test trimesh.Trimesh.area and trimesh.Trimesh.volume can reproduce the right ratio for a sphere.\n",
    "\n",
    "### TODO: What sized cube yields a unit volume output? Hint: what's the volume for a right tetrahedron?\n",
    "\n",
    "### (and then) TODO: find out this \"surface integral\" that functionaly produces the volume of a watertight triangular mesh"
   ]
  },
  {
   "cell_type": "code",
   "execution_count": null,
   "metadata": {
    "hidden": true
   },
   "outputs": [],
   "source": [
    "\n",
    "\n",
    "\n",
    "\n"
   ]
  },
  {
   "cell_type": "markdown",
   "metadata": {},
   "source": [
    "# partition WJ's 600x600 ic into nine 200x200 patches. save\n",
    "each patch is 5cm x 5 cm<br>\n",
    "6.23.2020\n"
   ]
  },
  {
   "cell_type": "code",
   "execution_count": 4,
   "metadata": {
    "ExecuteTime": {
     "end_time": "2020-06-23T19:28:10.967961Z",
     "start_time": "2020-06-23T19:27:49.066190Z"
    }
   },
   "outputs": [
    {
     "name": "stdout",
     "output_type": "stream",
     "text": [
      "File: /Users/timothytyree/Documents/GitHub/care/notebooks/Data/ic_600x600.101.npz\n"
     ]
    }
   ],
   "source": [
    "input_fn = search_for_file()"
   ]
  },
  {
   "cell_type": "code",
   "execution_count": 5,
   "metadata": {
    "ExecuteTime": {
     "end_time": "2020-06-23T19:28:27.450259Z",
     "start_time": "2020-06-23T19:28:27.367200Z"
    }
   },
   "outputs": [],
   "source": [
    "txt = load_buffer(input_fn)"
   ]
  },
  {
   "cell_type": "code",
   "execution_count": 9,
   "metadata": {
    "ExecuteTime": {
     "end_time": "2020-06-23T19:31:43.694515Z",
     "start_time": "2020-06-23T19:31:43.615252Z"
    }
   },
   "outputs": [
    {
     "name": "stdout",
     "output_type": "stream",
     "text": [
      "(200, 200, 3)\n"
     ]
    }
   ],
   "source": [
    "save_fn = nb_dir+'/Data/initial-conditions/ic_200x200.101.11.npz'\n",
    "txt_out = txt[0:200,0:200]\n",
    "np.savez_compressed(save_fn,txt_out)\n",
    "print(txt_out.shape)"
   ]
  },
  {
   "cell_type": "code",
   "execution_count": 11,
   "metadata": {
    "ExecuteTime": {
     "end_time": "2020-06-23T19:32:30.032348Z",
     "start_time": "2020-06-23T19:32:29.953746Z"
    }
   },
   "outputs": [
    {
     "name": "stdout",
     "output_type": "stream",
     "text": [
      "(200, 200, 3)\n"
     ]
    }
   ],
   "source": [
    "save_fn = nb_dir+'/Data/initial-conditions/ic_200x200.101.12.npz'\n",
    "txt_out = txt[200:400,0:200]\n",
    "np.savez_compressed(save_fn,txt_out)\n",
    "print(txt_out.shape)"
   ]
  },
  {
   "cell_type": "code",
   "execution_count": 13,
   "metadata": {
    "ExecuteTime": {
     "end_time": "2020-06-23T19:32:55.050267Z",
     "start_time": "2020-06-23T19:32:54.970010Z"
    }
   },
   "outputs": [
    {
     "name": "stdout",
     "output_type": "stream",
     "text": [
      "(200, 200, 3)\n"
     ]
    }
   ],
   "source": [
    "save_fn = nb_dir+'/Data/initial-conditions/ic_200x200.101.13.npz'\n",
    "txt_out = txt[400:600,0:200]\n",
    "np.savez_compressed(save_fn,txt_out)\n",
    "print(txt_out.shape)"
   ]
  },
  {
   "cell_type": "code",
   "execution_count": 17,
   "metadata": {
    "ExecuteTime": {
     "end_time": "2020-06-23T19:34:21.120132Z",
     "start_time": "2020-06-23T19:34:21.040067Z"
    }
   },
   "outputs": [
    {
     "name": "stdout",
     "output_type": "stream",
     "text": [
      "(200, 200, 3)\n"
     ]
    }
   ],
   "source": [
    "save_fn = nb_dir+'/Data/initial-conditions/ic_200x200.101.21.npz'\n",
    "txt_out = txt[0:200,200:400]\n",
    "np.savez_compressed(save_fn,txt_out)\n",
    "print(txt_out.shape)"
   ]
  },
  {
   "cell_type": "code",
   "execution_count": 18,
   "metadata": {
    "ExecuteTime": {
     "end_time": "2020-06-23T19:34:21.500117Z",
     "start_time": "2020-06-23T19:34:21.419039Z"
    }
   },
   "outputs": [
    {
     "name": "stdout",
     "output_type": "stream",
     "text": [
      "(200, 200, 3)\n"
     ]
    }
   ],
   "source": [
    "save_fn = nb_dir+'/Data/initial-conditions/ic_200x200.101.22.npz'\n",
    "txt_out = txt[200:400,200:400]\n",
    "np.savez_compressed(save_fn,txt_out)\n",
    "print(txt_out.shape)"
   ]
  },
  {
   "cell_type": "code",
   "execution_count": 19,
   "metadata": {
    "ExecuteTime": {
     "end_time": "2020-06-23T19:34:21.985787Z",
     "start_time": "2020-06-23T19:34:21.906553Z"
    }
   },
   "outputs": [
    {
     "name": "stdout",
     "output_type": "stream",
     "text": [
      "(200, 200, 3)\n"
     ]
    }
   ],
   "source": [
    "save_fn = nb_dir+'/Data/initial-conditions/ic_200x200.101.23.npz'\n",
    "txt_out = txt[400:600,200:400]\n",
    "np.savez_compressed(save_fn,txt_out)\n",
    "print(txt_out.shape)"
   ]
  },
  {
   "cell_type": "code",
   "execution_count": 20,
   "metadata": {
    "ExecuteTime": {
     "end_time": "2020-06-23T19:34:23.621180Z",
     "start_time": "2020-06-23T19:34:23.538420Z"
    }
   },
   "outputs": [
    {
     "name": "stdout",
     "output_type": "stream",
     "text": [
      "(200, 200, 3)\n"
     ]
    }
   ],
   "source": [
    "save_fn = nb_dir+'/Data/initial-conditions/ic_200x200.101.31.npz'\n",
    "txt_out = txt[0:200,400:600]\n",
    "np.savez_compressed(save_fn,txt_out)\n",
    "print(txt_out.shape)"
   ]
  },
  {
   "cell_type": "code",
   "execution_count": 21,
   "metadata": {
    "ExecuteTime": {
     "end_time": "2020-06-23T19:34:40.195635Z",
     "start_time": "2020-06-23T19:34:40.112525Z"
    }
   },
   "outputs": [
    {
     "name": "stdout",
     "output_type": "stream",
     "text": [
      "(200, 200, 3)\n"
     ]
    }
   ],
   "source": [
    "save_fn = nb_dir+'/Data/initial-conditions/ic_200x200.101.32.npz'\n",
    "txt_out = txt[200:400,400:600]\n",
    "np.savez_compressed(save_fn,txt_out)\n",
    "print(txt_out.shape)"
   ]
  },
  {
   "cell_type": "code",
   "execution_count": 22,
   "metadata": {
    "ExecuteTime": {
     "end_time": "2020-06-23T19:34:50.642537Z",
     "start_time": "2020-06-23T19:34:50.562173Z"
    }
   },
   "outputs": [
    {
     "name": "stdout",
     "output_type": "stream",
     "text": [
      "(200, 200, 3)\n"
     ]
    }
   ],
   "source": [
    "save_fn = nb_dir+'/Data/initial-conditions/ic_200x200.101.33.npz'\n",
    "txt_out = txt[400:600,400:600]\n",
    "np.savez_compressed(save_fn,txt_out)\n",
    "print(txt_out.shape)"
   ]
  },
  {
   "cell_type": "markdown",
   "metadata": {},
   "source": [
    "# file IO method that compresses numpy arrays.  \n",
    "8.13.2020\n",
    "- TODO: see whether this compressed array format can store 3 channels of float instances at each pixel"
   ]
  },
  {
   "cell_type": "code",
   "execution_count": 157,
   "metadata": {
    "ExecuteTime": {
     "end_time": "2020-08-13T20:50:08.681892Z",
     "start_time": "2020-08-13T20:50:08.653879Z"
    }
   },
   "outputs": [],
   "source": [
    "class IC_File(object):\n",
    "    r\"\"\"Describe the class\"\"\"\n",
    "    def __init__(self, folder, file_name):\n",
    "        os.chdir(folder)\n",
    "        f= open(file_name,\"ab\") #write to binary file: 'wb' ) )\n",
    "        data = read_array(f)\n",
    "        self.data = data\n",
    "        # for i in range(10):\n",
    "        #   f.write(\"This is line %d\\r\\n\" % (i+1))\n",
    "        f.close()\n",
    "        self.folder = folder\n",
    "        self.file_name = file_name\n",
    "        \n",
    "        self.width = None\n",
    "        self.height= None\n",
    "        self.xres = None\n",
    "        self.yres = None\n",
    "        \n",
    "    def shape(self):\n",
    "        return np.array((self.width,self.height), dtype=np.int)\n",
    "    def area(self):\n",
    "        shape = self.shape()\n",
    "        da = self.xres()*self.yres()\n",
    "        return da*shape[0]*shape[1]\n",
    "    \n",
    "def compress_array(array, save_file='data.pkl.lzma'):\n",
    "    '''array is a numpy array.'''\n",
    "    import pickle, gzip, lzma, bz2\n",
    "    data = array\n",
    "    # pickle.dump( data, gzip.open( 'data.pkl.gz',   'wb' ) ) # inferior to lzma\n",
    "    pickle.dump( data, lzma.open( save_file, 'wb' ) )\n",
    "    # pickle.dump( data,  bz2.open( 'data.pkl.bz2',  'wb' ) ) # inferior to lzma\n",
    "    \n",
    "def append_array(array, save_file='data.pkl.lzma'):\n",
    "    '''array is a numpy array.'''\n",
    "    import pickle, gzip, lzma, bz2\n",
    "    data = array\n",
    "    # pickle.dump( data, gzip.open( 'data.pkl.gz',   'wb' ) ) # inferior to lzma\n",
    "#     pickle.dump( data, lzma.open( save_file, 'ab' ) ) # slightly smaller file size\n",
    "    pickle.dump( data,  bz2.open( 'data.pkl.bz2',  'wb' ) ) # better loading speed for non-random numpy arrays"
   ]
  },
  {
   "cell_type": "code",
   "execution_count": 158,
   "metadata": {
    "ExecuteTime": {
     "end_time": "2020-08-13T20:50:12.497127Z",
     "start_time": "2020-08-13T20:50:10.852135Z"
    }
   },
   "outputs": [
    {
     "name": "stdout",
     "output_type": "stream",
     "text": [
      "Requirement already satisfied: hickle in /usr/local/lib/python3.8/site-packages (4.0.1)\r\n",
      "Requirement already satisfied: six>=1.11.0 in /usr/local/lib/python3.8/site-packages (from hickle) (1.15.0)\r\n",
      "Requirement already satisfied: h5py>=2.8.0 in /usr/local/lib/python3.8/site-packages (from hickle) (2.10.0)\r\n",
      "Requirement already satisfied: dill>=0.3.0 in /usr/local/lib/python3.8/site-packages (from hickle) (0.3.2)\r\n",
      "Requirement already satisfied: numpy>=1.8 in /usr/local/lib/python3.8/site-packages (from hickle) (1.19.0)\r\n"
     ]
    }
   ],
   "source": [
    "!pip install hickle"
   ]
  },
  {
   "cell_type": "code",
   "execution_count": 2,
   "metadata": {
    "ExecuteTime": {
     "end_time": "2020-08-13T19:15:27.915720Z",
     "start_time": "2020-08-13T19:15:27.905672Z"
    }
   },
   "outputs": [
    {
     "data": {
      "text/plain": [
       "int"
      ]
     },
     "execution_count": 2,
     "metadata": {},
     "output_type": "execute_result"
    }
   ],
   "source": [
    "#consider using a hdf5 file structure to efficiently store numpy arrays using hickle!\n",
    "import hickle as hkl \n",
    "\n",
    "data = { 'name' : 'test', 'data_arr' : [1, 2, 3, 4] }\n",
    "\n",
    "# Dump data to file\n",
    "hkl.dump( data, 'new_data_file.hkl' )\n",
    "\n",
    "# Load data from file\n",
    "data2 = hkl.load( 'new_data_file.hkl' )\n",
    "\n",
    "print( data == data2 )"
   ]
  },
  {
   "cell_type": "markdown",
   "metadata": {},
   "source": [
    "There also is the possibility to \"pickle\" directly into a compressed archive by doing:"
   ]
  },
  {
   "cell_type": "code",
   "execution_count": 6,
   "metadata": {
    "ExecuteTime": {
     "end_time": "2020-08-13T19:34:43.976665Z",
     "start_time": "2020-08-13T19:34:43.856536Z"
    }
   },
   "outputs": [
    {
     "name": "stdout",
     "output_type": "stream",
     "text": [
      "/Users/timothytyree/Documents/GitHub/care/notebooks\r\n"
     ]
    }
   ],
   "source": [
    "folder = fi"
   ]
  },
  {
   "cell_type": "markdown",
   "metadata": {},
   "source": [
    "# TODO: use dask to load/write these files (check chrome!)"
   ]
  },
  {
   "cell_type": "markdown",
   "metadata": {},
   "source": [
    "# partition WJ's 600x600 ic into nine 200x200 patches. save\n",
    "each patch is 5cm x 5 cm<br>\n",
    "6.23.2020\n"
   ]
  },
  {
   "cell_type": "code",
   "execution_count": 11,
   "metadata": {
    "ExecuteTime": {
     "end_time": "2020-08-13T19:47:58.991043Z",
     "start_time": "2020-08-13T19:47:58.987725Z"
    }
   },
   "outputs": [],
   "source": []
  },
  {
   "cell_type": "code",
   "execution_count": 155,
   "metadata": {
    "ExecuteTime": {
     "end_time": "2020-08-13T20:35:50.095855Z",
     "start_time": "2020-08-13T20:35:50.070592Z"
    }
   },
   "outputs": [],
   "source": [
    "# def load_fortran(input_fn):\n",
    "#     #load txt\n",
    "#     arr = np.loadtxt(input_fn)\n",
    "#     #WJ's files come to 16 digits of machine precision.\n",
    "#     arr = arr.astype(dtype = np.float64, casting='same_kind', order='C', copy=False)\n",
    "\n",
    "#     N = arr.shape[0]\n",
    "#     n = np.sqrt(N)\n",
    "#     if not n == np.int(n):\n",
    "#         raise Exception('Error: Input array is not a square matrix!')\n",
    "#     n = int(n)\n",
    "#     arr = arr.reshape(n,n,arr.shape[-1], order='C')\n",
    "#     return arr"
   ]
  },
  {
   "cell_type": "code",
   "execution_count": 117,
   "metadata": {
    "ExecuteTime": {
     "end_time": "2020-08-13T20:17:32.258601Z",
     "start_time": "2020-08-13T20:17:32.235015Z"
    }
   },
   "outputs": [],
   "source": [
    "# def _precision(arr):\n",
    "#     val = arr[0,0]\n",
    "#     return ( precision := len(str(val))-2 )\n",
    "# def _dtype(arr):\n",
    "#     val = arr[0,0]\n",
    "#     return ( dtype := type(val) )"
   ]
  },
  {
   "cell_type": "code",
   "execution_count": 41,
   "metadata": {
    "ExecuteTime": {
     "end_time": "2020-08-13T20:00:02.307234Z",
     "start_time": "2020-08-13T19:59:47.435999Z"
    }
   },
   "outputs": [
    {
     "name": "stdout",
     "output_type": "stream",
     "text": [
      "File: /Users/timothytyree/Documents/GitHub/care/notebooks/Data/initial-conditions-suite-1/ic-wj/ic_600x600.122\n"
     ]
    }
   ],
   "source": [
    "input_fn = search_for_file()"
   ]
  },
  {
   "cell_type": "code",
   "execution_count": 119,
   "metadata": {
    "ExecuteTime": {
     "end_time": "2020-08-13T20:19:42.392916Z",
     "start_time": "2020-08-13T20:19:42.369095Z"
    }
   },
   "outputs": [],
   "source": [
    "#TODO: test that the input_fn is given as the absolute file path and fix it if it isn't\n",
    "base_folder = '/'+os.path.join(*input_fn.split('/')[:-2])#+'/ds_5_param_set_8/trajectories/'\n",
    "\n",
    "\n",
    "precision = _precision(arr)\n",
    "dtype = _dtype(arr)\n",
    "\n",
    "# val = arr[0,0]\n",
    "# arr = arr.astype(dtype = np.float16, casting='same_kind', order='F', copy=False)\n",
    "\n",
    "os.chdir(tmp_folder)\n",
    "tmp_fn = file_name+'.npz'\n",
    "# np.savez_compressed(tmp_fn,arr)\n",
    "# txt = load_buffer(tmp_fn)\n",
    "txt = arr\n",
    "\n",
    "# sub_id = 33\n",
    "# initial_condition_dir = nb_dir + f'/Data/initial-conditions/ic_200x200.101.{sub_id}.npz'\n",
    "tip_position_dir = tip_log_dir.replace('.csv','_processed.csv')\n",
    "save_folder_traj = '/'+os.path.join(*initial_condition_dir.split('/')[:-2])+'/ds_5_param_set_8/trajectories/'\n",
    "birth_death_dir = '/'.join(save_folder_traj.split('/')[:-2])+'/birth-death-rates'\n"
   ]
  },
  {
   "cell_type": "code",
   "execution_count": 132,
   "metadata": {
    "ExecuteTime": {
     "end_time": "2020-08-13T20:29:24.880699Z",
     "start_time": "2020-08-13T20:29:24.857737Z"
    }
   },
   "outputs": [],
   "source": [
    "# def chunk_600x600_into_ninths(txt,file_name, save_folder):\n",
    "#     '''suppose file_name is a bare string with no extension such as \".npz\"\n",
    "#     suppose txt is a numpy array that is (600,600,The_Rest)\n",
    "#     '''\n",
    "#     os.chdir(save_folder)\n",
    "#     save_fn = file_name+'.11.npz'\n",
    "#     txt_out = txt[0:200,0:200]\n",
    "#     np.savez_compressed(save_fn,txt_out)\n",
    "\n",
    "#     save_fn = file_name+'.12.npz'\n",
    "#     txt_out = txt[200:400,0:200]\n",
    "#     np.savez_compressed(save_fn,txt_out)\n",
    "\n",
    "#     save_fn = file_name+'.13.npz'\n",
    "#     txt_out = txt[400:600,0:200]\n",
    "#     np.savez_compressed(save_fn,txt_out)\n",
    "\n",
    "#     save_fn = file_name+'.21.npz'\n",
    "#     txt_out = txt[0:200,200:400]\n",
    "#     np.savez_compressed(save_fn,txt_out)\n",
    "\n",
    "#     save_fn = file_name+'.22.npz'\n",
    "#     txt_out = txt[200:400,200:400]\n",
    "#     np.savez_compressed(save_fn,txt_out)\n",
    "\n",
    "#     save_fn = file_name+'.23.npz'\n",
    "#     txt_out = txt[400:600,200:400]\n",
    "#     np.savez_compressed(save_fn,txt_out)\n",
    "\n",
    "#     save_fn = file_name+'.31.npz'\n",
    "#     txt_out = txt[0:200,400:600]\n",
    "#     np.savez_compressed(save_fn,txt_out)\n",
    "\n",
    "#     save_fn = file_name+'.32.npz'\n",
    "#     txt_out = txt[200:400,400:600]\n",
    "#     np.savez_compressed(save_fn,txt_out)\n",
    "\n",
    "#     save_fn = file_name+'.33.npz'\n",
    "#     txt_out = txt[400:600,400:600]\n",
    "#     np.savez_compressed(save_fn,txt_out)\n",
    "#     return True"
   ]
  },
  {
   "cell_type": "markdown",
   "metadata": {},
   "source": [
    "# functionally convert one of WJ's 600x600 ic_files into nine 200x200 ic_files\n",
    "each patch is 5cm x 5 cm<br>\n",
    "8.13.2020\n"
   ]
  },
  {
   "cell_type": "code",
   "execution_count": 135,
   "metadata": {
    "ExecuteTime": {
     "end_time": "2020-08-13T20:31:03.753053Z",
     "start_time": "2020-08-13T20:31:03.730570Z"
    }
   },
   "outputs": [
    {
     "data": {
      "text/plain": [
       "'ic_200x200.122'"
      ]
     },
     "execution_count": 135,
     "metadata": {},
     "output_type": "execute_result"
    }
   ],
   "source": []
  },
  {
   "cell_type": "code",
   "execution_count": 136,
   "metadata": {
    "ExecuteTime": {
     "end_time": "2020-08-13T20:31:19.171635Z",
     "start_time": "2020-08-13T20:31:18.743404Z"
    }
   },
   "outputs": [],
   "source": [
    "chunk_600x600_into_ninths(txt=arr,file_name=file_name.replace('600','200'), save_folder=save_folder)"
   ]
  },
  {
   "cell_type": "code",
   "execution_count": 137,
   "metadata": {
    "ExecuteTime": {
     "end_time": "2020-08-13T20:31:26.481779Z",
     "start_time": "2020-08-13T20:31:26.442244Z"
    }
   },
   "outputs": [
    {
     "data": {
      "text/plain": [
       "0"
      ]
     },
     "execution_count": 137,
     "metadata": {},
     "output_type": "execute_result"
    }
   ],
   "source": [
    "os.system('ls')"
   ]
  },
  {
   "cell_type": "code",
   "execution_count": 148,
   "metadata": {
    "ExecuteTime": {
     "end_time": "2020-08-13T20:33:58.102694Z",
     "start_time": "2020-08-13T20:33:58.079801Z"
    }
   },
   "outputs": [],
   "source": [
    "#list all files in the cwd\n",
    "file_list = os.listdir()\n",
    "in_fn = file_list[0]"
   ]
  },
  {
   "cell_type": "code",
   "execution_count": 151,
   "metadata": {
    "ExecuteTime": {
     "end_time": "2020-08-13T20:34:05.496537Z",
     "start_time": "2020-08-13T20:34:05.467201Z"
    }
   },
   "outputs": [],
   "source": [
    "#load a .npz file\n",
    "txt = load_buffer(in_fn)"
   ]
  },
  {
   "cell_type": "code",
   "execution_count": 159,
   "metadata": {
    "ExecuteTime": {
     "end_time": "2020-08-13T20:51:49.847282Z",
     "start_time": "2020-08-13T20:51:49.822611Z"
    }
   },
   "outputs": [],
   "source": [
    "def parse_input_fn(input_fn):\n",
    "    '''file_name, input_folder, output_folder, tmp_folder = parse_input_fn(input_fn)\n",
    "    changes to input_folder in the local scope.'''\n",
    "    file_name     = input_fn.split('/')[-1]\n",
    "    input_folder  = '/'+os.path.join(*input_fn.split('/')[:-1])\n",
    "    os.chdir(input_folder)\n",
    "    if not os.path.isabs(input_folder):\n",
    "        input_folder = os.getcwd()\n",
    "    base_folder   = '/'+os.path.join(*input_folder.split('/')[:-1])\n",
    "    tmp_folder    = base_folder+'/ic-tmp'\n",
    "    output_folder = base_folder+'/ic-in'\n",
    "    return file_name, input_folder, output_folder, tmp_folder"
   ]
  },
  {
   "cell_type": "markdown",
   "metadata": {
    "ExecuteTime": {
     "end_time": "2020-08-13T20:34:29.164563Z",
     "start_time": "2020-08-13T20:34:29.139879Z"
    }
   },
   "source": []
  },
  {
   "cell_type": "code",
   "execution_count": null,
   "metadata": {},
   "outputs": [],
   "source": []
  },
  {
   "cell_type": "code",
   "execution_count": null,
   "metadata": {},
   "outputs": [],
   "source": []
  }
 ],
 "metadata": {
  "kernelspec": {
   "display_name": "Python 3",
   "language": "python",
   "name": "python3"
  },
  "language_info": {
   "codemirror_mode": {
    "name": "ipython",
    "version": 3
   },
   "file_extension": ".py",
   "mimetype": "text/x-python",
   "name": "python",
   "nbconvert_exporter": "python",
   "pygments_lexer": "ipython3",
   "version": "3.8.5"
  },
  "varInspector": {
   "cols": {
    "lenName": 16,
    "lenType": 16,
    "lenVar": 40
   },
   "kernels_config": {
    "python": {
     "delete_cmd_postfix": "",
     "delete_cmd_prefix": "del ",
     "library": "var_list.py",
     "varRefreshCmd": "print(var_dic_list())"
    },
    "r": {
     "delete_cmd_postfix": ") ",
     "delete_cmd_prefix": "rm(",
     "library": "var_list.r",
     "varRefreshCmd": "cat(var_dic_list()) "
    }
   },
   "types_to_exclude": [
    "module",
    "function",
    "builtin_function_or_method",
    "instance",
    "_Feature"
   ],
   "window_display": false
  }
 },
 "nbformat": 4,
 "nbformat_minor": 2
}
