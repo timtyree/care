{
 "cells": [
  {
   "cell_type": "markdown",
   "metadata": {},
   "source": [
    "# TODO: Measuring Average Forces between Spiral Tips"
   ]
  },
  {
   "cell_type": "code",
   "execution_count": 1,
   "metadata": {
    "ExecuteTime": {
     "end_time": "2021-06-09T20:10:24.290232Z",
     "start_time": "2021-06-09T20:10:23.400490Z"
    }
   },
   "outputs": [],
   "source": [
    "from lib.my_initialization import *"
   ]
  },
  {
   "cell_type": "code",
   "execution_count": 1,
   "metadata": {
    "ExecuteTime": {
     "end_time": "2021-06-09T19:29:11.495125Z",
     "start_time": "2021-06-09T19:29:11.492066Z"
    }
   },
   "outputs": [],
   "source": [
    "#DONE: finding where I already dev'd using both types of ~comp_tips methods\n",
    "comp_tips=get_comp_tips(width,height,V_threshold)\n",
    "dict_tips=comp_tips(img,img_prev,dimgdt, t, txt)\n",
    "#TODO: generate a 2 frames of clean data using both types of ~comp_tips methods (requires finding where I already do this... but it will give local reproducibility...)\n",
    "#TODO: compute displacement between all particles in both frames\n",
    "#TODO: compute apparent displacement of all particles between frames\n",
    "#TODO: compute sum of forces predicted by the force-types I've been using.\n",
    "#TODO: compute nearest-neighbor forces predicted by the force-types I've been using.\n",
    "\n",
    "#TODO: for each of the 6 force models, compute the angular difference between the predicted force direction and the actual displacement\n",
    "#TODO: plot this tiny sample of apparent displacement versus length of the sum of forces\n",
    "\n",
    "#TODO: extend a list using ^those x_values,y_values\n",
    "#TODO: plot apparent displacement versus length of the sum of forces"
   ]
  },
  {
   "cell_type": "code",
   "execution_count": 4,
   "metadata": {
    "ExecuteTime": {
     "end_time": "2021-06-09T20:11:39.201130Z",
     "start_time": "2021-06-09T20:11:39.191365Z"
    }
   },
   "outputs": [
    {
     "data": {
      "text/plain": [
       "<function lib.measure.comp_tips_safely.get_comp_tips(width, height, V_threshold, search_range=40.0)>"
      ]
     },
     "execution_count": 4,
     "metadata": {},
     "output_type": "execute_result"
    }
   ],
   "source": [
    "get_comp_tips"
   ]
  },
  {
   "cell_type": "code",
   "execution_count": null,
   "metadata": {},
   "outputs": [],
   "source": []
  }
 ],
 "metadata": {
  "kernelspec": {
   "display_name": "Python 3",
   "language": "python",
   "name": "python3"
  },
  "language_info": {
   "codemirror_mode": {
    "name": "ipython",
    "version": 3
   },
   "file_extension": ".py",
   "mimetype": "text/x-python",
   "name": "python",
   "nbconvert_exporter": "python",
   "pygments_lexer": "ipython3",
   "version": "3.7.6"
  },
  "toc": {
   "base_numbering": 1,
   "nav_menu": {},
   "number_sections": true,
   "sideBar": true,
   "skip_h1_title": false,
   "title_cell": "Table of Contents",
   "title_sidebar": "Contents",
   "toc_cell": false,
   "toc_position": {},
   "toc_section_display": true,
   "toc_window_display": false
  },
  "varInspector": {
   "cols": {
    "lenName": 16,
    "lenType": 16,
    "lenVar": 40
   },
   "kernels_config": {
    "python": {
     "delete_cmd_postfix": "",
     "delete_cmd_prefix": "del ",
     "library": "var_list.py",
     "varRefreshCmd": "print(var_dic_list())"
    },
    "r": {
     "delete_cmd_postfix": ") ",
     "delete_cmd_prefix": "rm(",
     "library": "var_list.r",
     "varRefreshCmd": "cat(var_dic_list()) "
    }
   },
   "types_to_exclude": [
    "module",
    "function",
    "builtin_function_or_method",
    "instance",
    "_Feature"
   ],
   "window_display": false
  }
 },
 "nbformat": 4,
 "nbformat_minor": 4
}
