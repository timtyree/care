{
 "cells": [
  {
   "cell_type": "markdown",
   "metadata": {},
   "source": [
    "# Measuring Average Forces between Spiral Tips\n",
    "Tim Tyree<br>\n",
    "6.16.2021"
   ]
  },
  {
   "cell_type": "markdown",
   "metadata": {},
   "source": [
    "- DONE: generate spiral data at dt=0.1 for Luo-Rudy model\n",
    "- TODO: compare angular distributions found for Luo-Rudy model to Fenton-Karma model.\n",
    "\n",
    "snapshot of comoving frame of spiral tip\n",
    "- TODO(later): compute xy coordinates of V field rotated such that the y=0,x>0 axis corresponds to the direction of the activation front.\n",
    "- TODO: plot the snapshot for a right/left handed spiral tip\n",
    "- TODO: repeat plot the snapshot for a right/left handed spiral tip for small distance between spiral tips\n",
    "- TODO: visualize streamplot of grad-voltage (or dVdt) for a small number of frames before birth/death."
   ]
  },
  {
   "cell_type": "code",
   "execution_count": 1,
   "metadata": {
    "ExecuteTime": {
     "end_time": "2021-07-19T20:00:46.705259Z",
     "start_time": "2021-07-19T20:00:43.720821Z"
    }
   },
   "outputs": [
    {
     "name": "stdout",
     "output_type": "stream",
     "text": [
      "Automatic calling is: Smart\n"
     ]
    }
   ],
   "source": [
    "from lib.my_initialization import *\n",
    "# from lib.controller.controller_LR import get_one_step_explicit_synchronous_splitting\n",
    "# from lib.utils import load_buffer\n",
    "# from lib.routines.return_min_distance import *\n",
    "# from lib.viewer.DomainPlot import ShowDomain\n",
    "# from lib.measure.comp_tips_safely import *\n",
    "from lib import *\n",
    "\n",
    "#my_initialization.py\n",
    "import pandas as pd, numpy as np, matplotlib.pyplot as plt\n",
    "\n",
    "#load the libraries\n",
    "# from .utils.operari import *\n",
    "#automate the boring stuff\n",
    "# from IPython import utils\n",
    "import time, os, sys, re\n",
    "import dask.bag as db\n",
    "beep = lambda x: os.system(\"echo -n '\\\\a';sleep 0.2;\" * x)\n",
    "if not 'nb_dir' in globals():\n",
    "    nb_dir = os.getcwd()\n",
    "\n",
    "#magic    \n",
    "%autocall 1\n",
    "%load_ext autoreload\n",
    "%autoreload 2\n",
    "\n",
    "darkmode=False\n",
    "if darkmode:\n",
    "    # For darkmode plots\n",
    "    from jupyterthemes import jtplot\n",
    "    jtplot.style(theme='monokai', context='notebook', ticks=True, grid=False)"
   ]
  },
  {
   "cell_type": "code",
   "execution_count": 2,
   "metadata": {
    "ExecuteTime": {
     "end_time": "2021-07-14T18:15:43.441687Z",
     "start_time": "2021-07-14T18:15:43.401842Z"
    }
   },
   "outputs": [],
   "source": [
    "# #LR results for DT = 0.5 ms\n",
    "# #annihilations aggregated\n",
    "# input_fn=\"/home/timothytyree/Documents/GitHub/care/notebooks/Data/initial-conditions-suite-3-LR/param_qu_tmax_30_Ko_5.4_diffCoef_0.0005_dt_0.5/annihilations_minr_1.0_mindur_20.0.csv\"\n",
    "# #creations aggregated\n",
    "# input_fn=\"/home/timothytyree/Documents/GitHub/care/notebooks/Data/initial-conditions-suite-3-LR/param_qu_tmax_30_Ko_5.4_diffCoef_0.0005_dt_0.5/creations_minr_1.0_mindur_20.0.csv\"\n",
    "\n",
    "# #FK results for DT = 0.4 ms\n",
    "# #annihilations aggregated\n",
    "# input_fn=\"/home/timothytyree/Documents/GitHub/care/notebooks/Data/initial-conditions-fk-200x200/param_set_8_ds_5.0_tmax_10_diffCoef_0.0005/annihilations_minr_1.0_mindur_20.0.csv\"\n",
    "# #creations aggregated\n",
    "# input_fn=\"/home/timothytyree/Documents/GitHub/care/notebooks/Data/initial-conditions-fk-200x200/param_set_8_ds_5.0_tmax_10_diffCoef_0.0005/creations_minr_1.0_mindur_20.0.csv\"\n"
   ]
  },
  {
   "cell_type": "markdown",
   "metadata": {
    "ExecuteTime": {
     "end_time": "2021-06-17T22:59:07.526710Z",
     "start_time": "2021-06-17T22:59:07.501435Z"
    },
    "heading_collapsed": true
   },
   "source": [
    "### notae malorum"
   ]
  },
  {
   "cell_type": "code",
   "execution_count": 3,
   "metadata": {
    "ExecuteTime": {
     "end_time": "2021-06-26T03:19:03.570388Z",
     "start_time": "2021-06-26T03:19:03.557622Z"
    },
    "hidden": true
   },
   "outputs": [],
   "source": [
    "# #DONE: finding where I already dev'd using both types of ~comp_tips methods\n",
    "# #TODO(later): fix get_comp_tips using test based dev in a pycuda interface\n",
    "# comp_tips=get_comp_tips(width,height,V_threshold)\n",
    "# dict_tips=comp_tips(img,img_prev,dimgdt, t, txt)\n",
    "#TODO: generate a 2 frames of clean data using both types of ~comp_tips methods (requires finding where I already do this... but it will give local reproducibility...)\n",
    "#TODO: compute displacement between all particles in both frames\n",
    "#TODO: compute apparent displacement of all particles between frames\n",
    "#TODO: compute sum of forces predicted by the force-types I've been using.\n",
    "#TODO: compute nearest-neighbor forces predicted by the force-types I've been using.\n",
    "\n",
    "#TODO: for each of the 6 force models, compute the angular difference between the predicted force direction and the actual displacement\n",
    "#TODO: plot this tiny sample of apparent displacement versus length of the sum of forces\n",
    "\n",
    "#TODO: extend a list using ^those x_values,y_values\n",
    "#TODO: plot apparent displacement versus length of the sum of forces"
   ]
  },
  {
   "cell_type": "code",
   "execution_count": 4,
   "metadata": {
    "ExecuteTime": {
     "end_time": "2021-06-26T03:19:03.584199Z",
     "start_time": "2021-06-26T03:19:03.571223Z"
    },
    "hidden": true
   },
   "outputs": [],
   "source": [
    "# get_comp_tips"
   ]
  },
  {
   "cell_type": "code",
   "execution_count": 5,
   "metadata": {
    "ExecuteTime": {
     "end_time": "2021-06-26T03:19:03.599282Z",
     "start_time": "2021-06-26T03:19:03.585122Z"
    },
    "hidden": true
   },
   "outputs": [],
   "source": [
    "#TODO: DEBUG GET_COMP_TIPS / DEV GET_COMP_TIPS on macbook\n",
    "#TODO: link  up png saving from the movie making ipynb\n",
    "\n",
    "#TODO: alternatively, make a (frameno,width,height,chnlno) numpy array and save as npz.  refine with implicite midpoint rule, and identify all death events according to lagged spiral tip locations\n",
    "\n",
    "#TODO: access cuda accelerated shared memory from python using pycuda.\n",
    "\n"
   ]
  },
  {
   "cell_type": "markdown",
   "metadata": {
    "ExecuteTime": {
     "end_time": "2021-06-16T18:35:18.962757Z",
     "start_time": "2021-06-16T18:35:18.959621Z"
    },
    "hidden": true
   },
   "source": [
    "__step 2 (python)__ analyze the timescale (and lengthscale) overwhich the significance of directionality arises as two spiral tips collide\n",
    "\n",
    "__step 1 (python)__ functionally load existing trajectories and compute annihilation events using my preexisting python code\n",
    "<!-- __step 1 (python)__ functionally compute annihilation trajectories using my preexisting python code -->"
   ]
  },
  {
   "cell_type": "markdown",
   "metadata": {
    "hidden": true
   },
   "source": [
    "__TODO(later):__ modify existing generate_tip_log that uses gpu acceleration \n",
    "- to use lagged tip locations\n",
    "OR\n",
    "- to use lagged tip locations at a low time resolution\n",
    "- and then save individual annihilation events at a high time resolution"
   ]
  },
  {
   "cell_type": "markdown",
   "metadata": {
    "heading_collapsed": true
   },
   "source": [
    "# TODO: visualizing mean radial velocities in the time leading up to annihilation for the full models"
   ]
  },
  {
   "cell_type": "code",
   "execution_count": 3,
   "metadata": {
    "ExecuteTime": {
     "end_time": "2021-07-14T18:15:46.659284Z",
     "start_time": "2021-07-14T18:15:46.619801Z"
    },
    "hidden": true
   },
   "outputs": [],
   "source": [
    "#DONE: remake slide for each particle trial\n",
    "#DONE: push to github\n",
    "\n",
    "#####ROOT CAUSE OF SHITTY RESULTS#####\n",
    "#####i think the initial-conditions-fk-200x200/param_set_8_ds_5.0_tmax_30_diffCoef_0.001_dt_0.025/ has shitty results because the Log folder holds the trajectory outputs...####\n",
    "\n",
    "#TODO: move all FK trajectory data to the trajectory folder, and remove any \n",
    "#TODO: remake slide for each full model"
   ]
  },
  {
   "cell_type": "code",
   "execution_count": 4,
   "metadata": {
    "ExecuteTime": {
     "end_time": "2021-07-14T18:15:46.862571Z",
     "start_time": "2021-07-14T18:15:46.820786Z"
    },
    "hidden": true
   },
   "outputs": [],
   "source": [
    "# file=search_for_file()"
   ]
  },
  {
   "cell_type": "code",
   "execution_count": 88,
   "metadata": {
    "ExecuteTime": {
     "end_time": "2021-07-10T01:52:50.928984Z",
     "start_time": "2021-07-10T01:52:20.501678Z"
    },
    "hidden": true
   },
   "outputs": [],
   "source": [
    "#compute the mean radial velocities, binning by radial distance\n",
    "#LR results for DT = 0.5 ms\n",
    "#annihilations aggregated\n",
    "input_fn=\"/home/timothytyree/Documents/GitHub/care/notebooks/Data/initial-conditions-suite-3-LR/param_qu_tmax_30_Ko_5.4_diffCoef_0.0005_dt_0.5/annihilations_minr_1.0_mindur_20.0.csv\"\n",
    "output_fn=save_mean_radial_velocities(input_fn,t_col='tdeath',bins='auto')#30)\n",
    "\n",
    "# #FK results for DT = 0.4 ms\n",
    "# #annihilations aggregated\n",
    "# input_fn2=\"/home/timothytyree/Documents/GitHub/care/notebooks/Data/initial-conditions-fk-200x200/param_set_8_ds_5.0_tmax_10_diffCoef_0.0005/annihilations_minr_1.0_mindur_20.0.csv\"\n",
    "\n",
    "#FK results for DT = 0.025 ms\n",
    "#annihilations aggregated\n",
    "input_fn2=\"/home/timothytyree/Documents/GitHub/care/notebooks/Data/initial-conditions-fk-200x200/param_set_8_ds_5.0_tmax_30_diffCoef_0.001_dt_0.025/annihilations_minr_1.0_mindur_20.0.csv\"\n",
    "output_fn2=save_mean_radial_velocities(input_fn2,t_col='tdeath',bins='auto')"
   ]
  },
  {
   "cell_type": "code",
   "execution_count": 89,
   "metadata": {
    "ExecuteTime": {
     "end_time": "2021-07-10T01:52:54.345860Z",
     "start_time": "2021-07-10T01:52:54.271956Z"
    },
    "hidden": true
   },
   "outputs": [],
   "source": [
    "# #TODO: debug FK results\n",
    "# # df_drdt.describe()\n",
    "# df=pd.read_csv(input_fn2)\n",
    "# df.head()"
   ]
  },
  {
   "cell_type": "code",
   "execution_count": 90,
   "metadata": {
    "ExecuteTime": {
     "end_time": "2021-07-10T01:52:57.587763Z",
     "start_time": "2021-07-10T01:52:57.464110Z"
    },
    "hidden": true
   },
   "outputs": [
    {
     "data": {
      "text/html": [
       "<div>\n",
       "<style scoped>\n",
       "    .dataframe tbody tr th:only-of-type {\n",
       "        vertical-align: middle;\n",
       "    }\n",
       "\n",
       "    .dataframe tbody tr th {\n",
       "        vertical-align: top;\n",
       "    }\n",
       "\n",
       "    .dataframe thead th {\n",
       "        text-align: right;\n",
       "    }\n",
       "</style>\n",
       "<table border=\"1\" class=\"dataframe\">\n",
       "  <thead>\n",
       "    <tr style=\"text-align: right;\">\n",
       "      <th></th>\n",
       "      <th>r</th>\n",
       "      <th>drdt</th>\n",
       "      <th>Delta_r</th>\n",
       "      <th>Delta_drdt</th>\n",
       "      <th>p_r</th>\n",
       "      <th>p_drdt</th>\n",
       "      <th>counts</th>\n",
       "    </tr>\n",
       "  </thead>\n",
       "  <tbody>\n",
       "    <tr>\n",
       "      <th>0</th>\n",
       "      <td>0.005771</td>\n",
       "      <td>-0.189523</td>\n",
       "      <td>0.001784</td>\n",
       "      <td>0.068264</td>\n",
       "      <td>0.135985</td>\n",
       "      <td>0.319811</td>\n",
       "      <td>9</td>\n",
       "    </tr>\n",
       "    <tr>\n",
       "      <th>1</th>\n",
       "      <td>0.014697</td>\n",
       "      <td>-0.468328</td>\n",
       "      <td>0.001103</td>\n",
       "      <td>0.080239</td>\n",
       "      <td>0.030861</td>\n",
       "      <td>0.032692</td>\n",
       "      <td>26</td>\n",
       "    </tr>\n",
       "    <tr>\n",
       "      <th>2</th>\n",
       "      <td>0.022308</td>\n",
       "      <td>-0.528515</td>\n",
       "      <td>0.001003</td>\n",
       "      <td>0.064492</td>\n",
       "      <td>0.310426</td>\n",
       "      <td>0.000951</td>\n",
       "      <td>17</td>\n",
       "    </tr>\n",
       "    <tr>\n",
       "      <th>3</th>\n",
       "      <td>0.032177</td>\n",
       "      <td>-0.515064</td>\n",
       "      <td>0.000896</td>\n",
       "      <td>0.126373</td>\n",
       "      <td>0.820675</td>\n",
       "      <td>0.001848</td>\n",
       "      <td>27</td>\n",
       "    </tr>\n",
       "    <tr>\n",
       "      <th>4</th>\n",
       "      <td>0.040070</td>\n",
       "      <td>-0.470793</td>\n",
       "      <td>0.001118</td>\n",
       "      <td>0.080312</td>\n",
       "      <td>0.185636</td>\n",
       "      <td>0.006951</td>\n",
       "      <td>23</td>\n",
       "    </tr>\n",
       "  </tbody>\n",
       "</table>\n",
       "</div>"
      ],
      "text/plain": [
       "          r      drdt   Delta_r  Delta_drdt       p_r    p_drdt  counts\n",
       "0  0.005771 -0.189523  0.001784    0.068264  0.135985  0.319811       9\n",
       "1  0.014697 -0.468328  0.001103    0.080239  0.030861  0.032692      26\n",
       "2  0.022308 -0.528515  0.001003    0.064492  0.310426  0.000951      17\n",
       "3  0.032177 -0.515064  0.000896    0.126373  0.820675  0.001848      27\n",
       "4  0.040070 -0.470793  0.001118    0.080312  0.185636  0.006951      23"
      ]
     },
     "execution_count": 90,
     "metadata": {},
     "output_type": "execute_result"
    }
   ],
   "source": [
    "df_drdt=pd.read_csv(output_fn)\n",
    "df_drdt2=pd.read_csv(output_fn2)\n",
    "df_drdt2.head()"
   ]
  },
  {
   "cell_type": "code",
   "execution_count": 91,
   "metadata": {
    "ExecuteTime": {
     "end_time": "2021-07-10T01:53:04.107843Z",
     "start_time": "2021-07-10T01:53:03.982229Z"
    },
    "hidden": true
   },
   "outputs": [
    {
     "data": {
      "text/html": [
       "<div>\n",
       "<style scoped>\n",
       "    .dataframe tbody tr th:only-of-type {\n",
       "        vertical-align: middle;\n",
       "    }\n",
       "\n",
       "    .dataframe tbody tr th {\n",
       "        vertical-align: top;\n",
       "    }\n",
       "\n",
       "    .dataframe thead th {\n",
       "        text-align: right;\n",
       "    }\n",
       "</style>\n",
       "<table border=\"1\" class=\"dataframe\">\n",
       "  <thead>\n",
       "    <tr style=\"text-align: right;\">\n",
       "      <th></th>\n",
       "      <th>r</th>\n",
       "      <th>drdt</th>\n",
       "      <th>Delta_r</th>\n",
       "      <th>Delta_drdt</th>\n",
       "      <th>p_r</th>\n",
       "      <th>p_drdt</th>\n",
       "      <th>counts</th>\n",
       "    </tr>\n",
       "  </thead>\n",
       "  <tbody>\n",
       "    <tr>\n",
       "      <th>0</th>\n",
       "      <td>0.119053</td>\n",
       "      <td>-0.057215</td>\n",
       "      <td>0.001471</td>\n",
       "      <td>0.007452</td>\n",
       "      <td>0.294247</td>\n",
       "      <td>2.866778e-01</td>\n",
       "      <td>269</td>\n",
       "    </tr>\n",
       "    <tr>\n",
       "      <th>1</th>\n",
       "      <td>0.163741</td>\n",
       "      <td>-0.053720</td>\n",
       "      <td>0.001050</td>\n",
       "      <td>0.009089</td>\n",
       "      <td>0.427327</td>\n",
       "      <td>1.029865e-04</td>\n",
       "      <td>536</td>\n",
       "    </tr>\n",
       "    <tr>\n",
       "      <th>2</th>\n",
       "      <td>0.209448</td>\n",
       "      <td>-0.039514</td>\n",
       "      <td>0.000956</td>\n",
       "      <td>0.008790</td>\n",
       "      <td>0.043123</td>\n",
       "      <td>7.176071e-27</td>\n",
       "      <td>706</td>\n",
       "    </tr>\n",
       "    <tr>\n",
       "      <th>3</th>\n",
       "      <td>0.255274</td>\n",
       "      <td>-0.025622</td>\n",
       "      <td>0.000802</td>\n",
       "      <td>0.004145</td>\n",
       "      <td>0.594141</td>\n",
       "      <td>9.750937e-08</td>\n",
       "      <td>1056</td>\n",
       "    </tr>\n",
       "    <tr>\n",
       "      <th>4</th>\n",
       "      <td>0.301751</td>\n",
       "      <td>-0.021707</td>\n",
       "      <td>0.000668</td>\n",
       "      <td>0.004440</td>\n",
       "      <td>0.157357</td>\n",
       "      <td>8.697779e-07</td>\n",
       "      <td>1479</td>\n",
       "    </tr>\n",
       "  </tbody>\n",
       "</table>\n",
       "</div>"
      ],
      "text/plain": [
       "          r      drdt   Delta_r  Delta_drdt       p_r        p_drdt  counts\n",
       "0  0.119053 -0.057215  0.001471    0.007452  0.294247  2.866778e-01     269\n",
       "1  0.163741 -0.053720  0.001050    0.009089  0.427327  1.029865e-04     536\n",
       "2  0.209448 -0.039514  0.000956    0.008790  0.043123  7.176071e-27     706\n",
       "3  0.255274 -0.025622  0.000802    0.004145  0.594141  9.750937e-08    1056\n",
       "4  0.301751 -0.021707  0.000668    0.004440  0.157357  8.697779e-07    1479"
      ]
     },
     "execution_count": 91,
     "metadata": {},
     "output_type": "execute_result"
    }
   ],
   "source": [
    "df_drdt.head()"
   ]
  },
  {
   "cell_type": "code",
   "execution_count": 92,
   "metadata": {
    "ExecuteTime": {
     "end_time": "2021-07-10T01:53:08.772745Z",
     "start_time": "2021-07-10T01:53:08.677670Z"
    },
    "hidden": true
   },
   "outputs": [
    {
     "name": "stdout",
     "output_type": "stream",
     "text": [
      "the ols fit for particle model:\n",
      "m=0.0046142758452993645\n",
      "Delta_m=0.0023944117313011997\n",
      "b=-0.8715034201360763\n",
      "Delta_b=0.13779851947323885\n",
      "Rsquared=0.5879115702483138\n",
      "Nobs= 24 +- 17\n",
      "\n",
      "input_fn: /home/timothytyree/Documents/GitHub/care/notebooks/Data/initial-conditions-fk-200x200/param_set_8_ds_5.0_tmax_30_diffCoef_0.001_dt_0.025/annihilations_minr_1.0_mindur_20.0.csv\n"
     ]
    }
   ],
   "source": [
    "df=df_drdt2.copy()\n",
    "rmin=0. #cm\n",
    "rmax=0.8 #cm\n",
    "\n",
    "r_values=df['r'].values.copy()\n",
    "drdt_values=df['drdt'].values.copy()\n",
    "Delta_r_values=df['Delta_r'].values.copy()\n",
    "Delta_drdt_values=df['Delta_drdt'].values.copy()\n",
    "counts=df['counts'].values.copy()\n",
    "\n",
    "#fit drdt_values to F0+F1/r with OLS fit for LR model where 1/r is greater than some 1/cm\n",
    "x_values=r_values.copy()\n",
    "y_values=drdt_values.copy()\n",
    "x_err_values=Delta_r_values.copy()\n",
    "y_err_values=Delta_drdt_values.copy()\n",
    "\n",
    "#fit drdt_values to F0+F1/r with OLS fit for LR model where 1/r is greater than some 1/cm\n",
    "boo=(r_values>rmin)&(r_values<rmax).copy()\n",
    "x=1/r_values[boo].copy()\n",
    "y=drdt_values[boo].copy()\n",
    "dict_force_fit=compute_95CI_ols(x,y)\n",
    "y_hat_values=dict_force_fit['b']+dict_force_fit['m']/r_values\n",
    "\n",
    "#(optional) rename specific values\n",
    "dict_force_fit2=dict_force_fit\n",
    "y_hat_values2=y_hat_values.copy()\n",
    "x_values2=x_values.copy()\n",
    "y_values2=y_values.copy()\n",
    "y_err_values2=y_err_values.copy()\n",
    "\n",
    "#bluf\n",
    "print(f\"the ols fit for particle model:\")\n",
    "print_dict(dict_force_fit2)\n",
    "print(f\"Nobs= {np.mean(counts):.0f} +- {np.std(counts):.0f}\")\n",
    "print(f\"\\ninput_fn: {input_fn2}\")"
   ]
  },
  {
   "cell_type": "code",
   "execution_count": 93,
   "metadata": {
    "ExecuteTime": {
     "end_time": "2021-07-10T01:53:08.873601Z",
     "start_time": "2021-07-10T01:53:08.795960Z"
    },
    "hidden": true
   },
   "outputs": [
    {
     "name": "stdout",
     "output_type": "stream",
     "text": [
      "the ols fit for particle model:\n",
      "m=-0.0073780589091700585\n",
      "Delta_m=0.0010035934738107492\n",
      "b=-2.76443650992185e-05\n",
      "Delta_b=0.0036298032759098067\n",
      "Rsquared=0.9410766247878258\n",
      "Nobs= 1114 +- 754\n",
      "\n",
      "input_fn: /home/timothytyree/Documents/GitHub/care/notebooks/Data/initial-conditions-suite-3-LR/param_qu_tmax_30_Ko_5.4_diffCoef_0.0005_dt_0.5/annihilations_minr_1.0_mindur_20.0.csv\n"
     ]
    }
   ],
   "source": [
    "df=df_drdt.copy()\n",
    "rmin=0. #cm\n",
    "rmax=.8 #cm\n",
    "\n",
    "r_values=df['r'].values.copy()\n",
    "drdt_values=df['drdt'].values.copy()\n",
    "Delta_r_values=df['Delta_r'].values.copy()\n",
    "Delta_drdt_values=df['Delta_drdt'].values.copy()\n",
    "counts=df['counts'].values.copy()\n",
    "\n",
    "#fit drdt_values to F0+F1/r with OLS fit for LR model where 1/r is greater than some 1/cm\n",
    "x_values=r_values.copy()\n",
    "y_values=drdt_values.copy()\n",
    "x_err_values=Delta_r_values.copy()\n",
    "y_err_values=Delta_drdt_values.copy()\n",
    "\n",
    "#fit drdt_values to F0+F1/r with OLS fit for LR model where 1/r is greater than some 1/cm\n",
    "boo=(r_values>rmin)&(r_values<rmax).copy()\n",
    "x=1/r_values[boo].copy()\n",
    "y=drdt_values[boo].copy()\n",
    "dict_force_fit=compute_95CI_ols(x,y)\n",
    "y_hat_values=dict_force_fit['b']+dict_force_fit['m']/r_values\n",
    "\n",
    "#(optional) rename specific values\n",
    "dict_force_fit=dict_force_fit\n",
    "y_hat_values=y_hat_values.copy()\n",
    "\n",
    "#bluf\n",
    "print(f\"the ols fit for particle model:\")\n",
    "print_dict(dict_force_fit)\n",
    "print(f\"Nobs= {np.mean(counts):.0f} +- {np.std(counts):.0f}\")\n",
    "print(f\"\\ninput_fn: {input_fn}\")"
   ]
  },
  {
   "cell_type": "code",
   "execution_count": 94,
   "metadata": {
    "ExecuteTime": {
     "end_time": "2021-07-10T01:53:10.041855Z",
     "start_time": "2021-07-10T01:53:08.891964Z"
    },
    "hidden": true
   },
   "outputs": [
    {
     "data": {
      "image/png": "[encoded data removed]",
      "text/plain": [
       "<Figure size 648x288 with 2 Axes>"
      ]
     },
     "metadata": {
      "needs_background": "light"
     },
     "output_type": "display_data"
    }
   ],
   "source": [
    "#plot mean radial velocities\n",
    "fig, axs = plt.subplots(ncols=2, figsize=(9, 4))\n",
    "PlotMeanRadialVelocities(axs, x_values, y_values, y_err_values, y_hat_values,c='C1')\n",
    "PlotMeanRadialVelocities(axs, x_values2, y_values2, y_err_values2, y_hat_values2,c='C0')\n",
    "axs[0].set_xlim([0,0.3])\n",
    "plt.tight_layout()\n",
    "plt.show()"
   ]
  },
  {
   "cell_type": "markdown",
   "metadata": {
    "hidden": true
   },
   "source": [
    "For the particle model,\n",
    "\n",
    "$$\n",
    "F(R)\\propto\\frac{dR}{dt} = b + \\frac{m}{R}\n",
    "$$"
   ]
  },
  {
   "cell_type": "code",
   "execution_count": 54,
   "metadata": {
    "ExecuteTime": {
     "end_time": "2021-07-10T01:42:01.246092Z",
     "start_time": "2021-07-10T01:42:01.113467Z"
    },
    "hidden": true
   },
   "outputs": [
    {
     "name": "stdout",
     "output_type": "stream",
     "text": [
      "m'/m = -0.84 (lower bound)\n",
      "m'/m = -0.63 (expected)\n",
      "m'/m = -0.35 (upper bound)\n"
     ]
    }
   ],
   "source": [
    "#estimating the effect\n",
    "m=dict_force_fit['m']\n",
    "Delta_m=dict_force_fit['Delta_m']\n",
    "m2=dict_force_fit2['m']\n",
    "Delta_m2=dict_force_fit2['Delta_m']\n",
    "print(f\"m'/m = {(m2+Delta_m2)/(m-Delta_m):.2f} (lower bound)\")\n",
    "print(f\"m'/m = {m2/m:.2f} (expected)\")\n",
    "print(f\"m'/m = {(m2-Delta_m2)/(m+Delta_m):.2f} (upper bound)\")"
   ]
  },
  {
   "cell_type": "code",
   "execution_count": null,
   "metadata": {
    "hidden": true
   },
   "outputs": [],
   "source": []
  },
  {
   "cell_type": "markdown",
   "metadata": {},
   "source": [
    "# visualizing mean radial velocities in the time leading up to annihilation for the particle models"
   ]
  },
  {
   "cell_type": "markdown",
   "metadata": {},
   "source": [
    "## the effect of removing the attractive force for the annihilation events"
   ]
  },
  {
   "cell_type": "code",
   "execution_count": 5,
   "metadata": {
    "ExecuteTime": {
     "end_time": "2021-07-14T18:26:28.927192Z",
     "start_time": "2021-07-14T18:20:10.444435Z"
    }
   },
   "outputs": [
    {
     "ename": "KeyboardInterrupt",
     "evalue": "",
     "output_type": "error",
     "traceback": [
      "\u001b[0;31m---------------------------------------------------------------------------\u001b[0m",
      "\u001b[0;31mKeyboardInterrupt\u001b[0m                         Traceback (most recent call last)",
      "\u001b[0;32m<ipython-input-5-db205df5b24d>\u001b[0m in \u001b[0;36m<module>\u001b[0;34m\u001b[0m\n\u001b[1;32m      6\u001b[0m \u001b[0;31m#double the attractive 1/r force\u001b[0m\u001b[0;34m\u001b[0m\u001b[0;34m\u001b[0m\u001b[0;34m\u001b[0m\u001b[0m\n\u001b[1;32m      7\u001b[0m \u001b[0minput_fn2\u001b[0m\u001b[0;34m=\u001b[0m\u001b[0;34m\"/Users/timothytyree/Documents/GitHub/bgmc/python/data/local_results/euic_False_fc_2_r_0.1_D_2_L_10_kappa_1500_varkappa_0/annihilations_minr_1_mindur_20.csv\"\u001b[0m\u001b[0;34m\u001b[0m\u001b[0;34m\u001b[0m\u001b[0m\n\u001b[0;32m----> 8\u001b[0;31m \u001b[0moutput_fn2\u001b[0m\u001b[0;34m=\u001b[0m\u001b[0msave_mean_radial_velocities\u001b[0m\u001b[0;34m(\u001b[0m\u001b[0minput_fn2\u001b[0m\u001b[0;34m,\u001b[0m\u001b[0mt_col\u001b[0m\u001b[0;34m=\u001b[0m\u001b[0;34m'tdeath'\u001b[0m\u001b[0;34m,\u001b[0m\u001b[0mbins\u001b[0m\u001b[0;34m=\u001b[0m\u001b[0;36m30\u001b[0m\u001b[0;34m)\u001b[0m\u001b[0;34m\u001b[0m\u001b[0;34m\u001b[0m\u001b[0m\n\u001b[0m",
      "\u001b[0;32m~/Documents/GitHub/care/notebooks/lib/routines/compute_mean_radial_velocities.py\u001b[0m in \u001b[0;36msave_mean_radial_velocities\u001b[0;34m(input_fn, t_col, output_fn, bins)\u001b[0m\n\u001b[1;32m     72\u001b[0m \u001b[0;34m\u001b[0m\u001b[0m\n\u001b[1;32m     73\u001b[0m     \u001b[0mdf\u001b[0m\u001b[0;34m=\u001b[0m\u001b[0mpd\u001b[0m\u001b[0;34m.\u001b[0m\u001b[0mread_csv\u001b[0m\u001b[0;34m(\u001b[0m\u001b[0minput_fn\u001b[0m\u001b[0;34m)\u001b[0m\u001b[0;34m\u001b[0m\u001b[0;34m\u001b[0m\u001b[0m\n\u001b[0;32m---> 74\u001b[0;31m     \u001b[0mdict_out\u001b[0m\u001b[0;34m=\u001b[0m\u001b[0mcomp_mean_radial_velocities\u001b[0m\u001b[0;34m(\u001b[0m\u001b[0mdf\u001b[0m\u001b[0;34m,\u001b[0m\u001b[0mt_col\u001b[0m\u001b[0;34m=\u001b[0m\u001b[0mt_col\u001b[0m\u001b[0;34m,\u001b[0m\u001b[0mbins\u001b[0m\u001b[0;34m=\u001b[0m\u001b[0mbins\u001b[0m\u001b[0;34m)\u001b[0m\u001b[0;34m\u001b[0m\u001b[0;34m\u001b[0m\u001b[0m\n\u001b[0m\u001b[1;32m     75\u001b[0m     \u001b[0mdf_drdt\u001b[0m\u001b[0;34m=\u001b[0m\u001b[0mpd\u001b[0m\u001b[0;34m.\u001b[0m\u001b[0mDataFrame\u001b[0m\u001b[0;34m(\u001b[0m\u001b[0mdict_out\u001b[0m\u001b[0;34m)\u001b[0m\u001b[0;34m\u001b[0m\u001b[0;34m\u001b[0m\u001b[0m\n\u001b[1;32m     76\u001b[0m     \u001b[0mdf_drdt\u001b[0m\u001b[0;34m.\u001b[0m\u001b[0mto_csv\u001b[0m\u001b[0;34m(\u001b[0m\u001b[0moutput_fn\u001b[0m\u001b[0;34m,\u001b[0m\u001b[0mindex\u001b[0m\u001b[0;34m=\u001b[0m\u001b[0;32mFalse\u001b[0m\u001b[0;34m)\u001b[0m\u001b[0;34m\u001b[0m\u001b[0;34m\u001b[0m\u001b[0m\n",
      "\u001b[0;32m~/Documents/GitHub/care/notebooks/lib/routines/compute_mean_radial_velocities.py\u001b[0m in \u001b[0;36mcomp_mean_radial_velocities\u001b[0;34m(df, t_col, bins, min_numobs, num_samples)\u001b[0m\n\u001b[1;32m     39\u001b[0m             Delta_r,p_r=bootstrap_95CI_Delta_mean(r_values,\n\u001b[1;32m     40\u001b[0m                                                  num_samples=num_samples)\n\u001b[0;32m---> 41\u001b[0;31m             Delta_drdt,p_drdt=bootstrap_95CI_Delta_mean(drdt_values,\n\u001b[0m\u001b[1;32m     42\u001b[0m                                                  num_samples=num_samples)\n\u001b[1;32m     43\u001b[0m             \u001b[0;31m#append results to list\u001b[0m\u001b[0;34m\u001b[0m\u001b[0;34m\u001b[0m\u001b[0;34m\u001b[0m\u001b[0m\n",
      "\u001b[0;32m~/Documents/GitHub/care/notebooks/lib/measure/bootstrap.py\u001b[0m in \u001b[0;36mbootstrap_95CI_Delta_mean\u001b[0;34m(x, num_samples)\u001b[0m\n\u001b[1;32m     33\u001b[0m \u001b[0;34m\u001b[0m\u001b[0m\n\u001b[1;32m     34\u001b[0m \u001b[0;32mdef\u001b[0m \u001b[0mbootstrap_95CI_Delta_mean\u001b[0m\u001b[0;34m(\u001b[0m\u001b[0mx\u001b[0m\u001b[0;34m,\u001b[0m\u001b[0mnum_samples\u001b[0m\u001b[0;34m=\u001b[0m\u001b[0;36m1000\u001b[0m\u001b[0;34m)\u001b[0m\u001b[0;34m:\u001b[0m\u001b[0;34m\u001b[0m\u001b[0;34m\u001b[0m\u001b[0m\n\u001b[0;32m---> 35\u001b[0;31m     \u001b[0mmean_values\u001b[0m\u001b[0;34m=\u001b[0m\u001b[0mbootstrap_mean\u001b[0m\u001b[0;34m(\u001b[0m\u001b[0mx\u001b[0m\u001b[0;34m,\u001b[0m\u001b[0mnum_samples\u001b[0m\u001b[0;34m=\u001b[0m\u001b[0mnum_samples\u001b[0m\u001b[0;34m)\u001b[0m\u001b[0;34m\u001b[0m\u001b[0;34m\u001b[0m\u001b[0m\n\u001b[0m\u001b[1;32m     36\u001b[0m     \u001b[0msig\u001b[0m\u001b[0;34m=\u001b[0m\u001b[0mnp\u001b[0m\u001b[0;34m.\u001b[0m\u001b[0mstd\u001b[0m\u001b[0;34m(\u001b[0m\u001b[0mmean_values\u001b[0m\u001b[0;34m)\u001b[0m\u001b[0;34m\u001b[0m\u001b[0;34m\u001b[0m\u001b[0m\n\u001b[1;32m     37\u001b[0m     \u001b[0m_\u001b[0m\u001b[0;34m,\u001b[0m \u001b[0mp\u001b[0m \u001b[0;34m=\u001b[0m \u001b[0mnormaltest\u001b[0m\u001b[0;34m(\u001b[0m\u001b[0mmean_values\u001b[0m\u001b[0;34m)\u001b[0m\u001b[0;34m\u001b[0m\u001b[0;34m\u001b[0m\u001b[0m\n",
      "\u001b[0;32m~/Documents/GitHub/care/notebooks/lib/measure/bootstrap.py\u001b[0m in \u001b[0;36mbootstrap_mean\u001b[0;34m(x, num_samples)\u001b[0m\n\u001b[1;32m     22\u001b[0m     \u001b[0msizex\u001b[0m\u001b[0;34m=\u001b[0m\u001b[0mx\u001b[0m\u001b[0;34m.\u001b[0m\u001b[0mshape\u001b[0m\u001b[0;34m[\u001b[0m\u001b[0;36m0\u001b[0m\u001b[0;34m]\u001b[0m\u001b[0;34m\u001b[0m\u001b[0;34m\u001b[0m\u001b[0m\n\u001b[1;32m     23\u001b[0m     \u001b[0;32mfor\u001b[0m \u001b[0mi\u001b[0m \u001b[0;32min\u001b[0m \u001b[0mrange\u001b[0m\u001b[0;34m(\u001b[0m\u001b[0mnum_samples\u001b[0m\u001b[0;34m)\u001b[0m\u001b[0;34m:\u001b[0m\u001b[0;34m\u001b[0m\u001b[0;34m\u001b[0m\u001b[0m\n\u001b[0;32m---> 24\u001b[0;31m         \u001b[0mrandint_values\u001b[0m\u001b[0;34m=\u001b[0m\u001b[0mnp\u001b[0m\u001b[0;34m.\u001b[0m\u001b[0mrandom\u001b[0m\u001b[0;34m.\u001b[0m\u001b[0mrandint\u001b[0m\u001b[0;34m(\u001b[0m\u001b[0mlow\u001b[0m\u001b[0;34m=\u001b[0m\u001b[0;36m0\u001b[0m\u001b[0;34m,\u001b[0m \u001b[0mhigh\u001b[0m\u001b[0;34m=\u001b[0m\u001b[0msizex\u001b[0m\u001b[0;34m,\u001b[0m \u001b[0msize\u001b[0m\u001b[0;34m=\u001b[0m\u001b[0msizex\u001b[0m\u001b[0;34m,\u001b[0m \u001b[0mdtype\u001b[0m\u001b[0;34m=\u001b[0m\u001b[0mint\u001b[0m\u001b[0;34m)\u001b[0m\u001b[0;34m\u001b[0m\u001b[0;34m\u001b[0m\u001b[0m\n\u001b[0m\u001b[1;32m     25\u001b[0m         \u001b[0mx_bootstrap\u001b[0m\u001b[0;34m=\u001b[0m\u001b[0mx\u001b[0m\u001b[0;34m[\u001b[0m\u001b[0mrandint_values\u001b[0m\u001b[0;34m]\u001b[0m\u001b[0;34m\u001b[0m\u001b[0;34m\u001b[0m\u001b[0m\n\u001b[1;32m     26\u001b[0m         \u001b[0mmean_values\u001b[0m\u001b[0;34m[\u001b[0m\u001b[0mi\u001b[0m\u001b[0;34m]\u001b[0m\u001b[0;34m=\u001b[0m\u001b[0mnp\u001b[0m\u001b[0;34m.\u001b[0m\u001b[0mmean\u001b[0m\u001b[0;34m(\u001b[0m\u001b[0mx_bootstrap\u001b[0m\u001b[0;34m)\u001b[0m\u001b[0;34m\u001b[0m\u001b[0;34m\u001b[0m\u001b[0m\n",
      "\u001b[0;31mKeyboardInterrupt\u001b[0m: "
     ]
    }
   ],
   "source": [
    "#compute the mean radial velocities\n",
    "#particle results for DT=0.25ms with an attractive 1/r force\n",
    "input_fn=\"/Users/timothytyree/Documents/GitHub/bgmc/python/data/local_results/euic_False_fc_2_r_0.1_D_2_L_10_kappa_1500_varkappa_5/annihilations_minr_1_mindur_20.csv\"\n",
    "output_fn=save_mean_radial_velocities(input_fn,t_col='tdeath',bins=30)\n",
    "\n",
    "#remove the attractive 1/r force\n",
    "input_fn2=\"/Users/timothytyree/Documents/GitHub/bgmc/python/data/local_results/euic_False_fc_2_r_0.1_D_2_L_10_kappa_1500_varkappa_0/annihilations_minr_1_mindur_20.csv\"\n",
    "output_fn2=save_mean_radial_velocities(input_fn2,t_col='tdeath',bins=30)"
   ]
  },
  {
   "cell_type": "code",
   "execution_count": null,
   "metadata": {
    "ExecuteTime": {
     "end_time": "2021-07-14T18:26:28.932662Z",
     "start_time": "2021-07-14T18:20:11.520Z"
    }
   },
   "outputs": [],
   "source": [
    "df_drdt=pd.read_csv(output_fn)\n",
    "df_drdt2=pd.read_csv(output_fn2)\n",
    "df_drdt.head()"
   ]
  },
  {
   "cell_type": "code",
   "execution_count": null,
   "metadata": {
    "ExecuteTime": {
     "end_time": "2021-07-14T18:26:28.935901Z",
     "start_time": "2021-07-14T18:20:12.439Z"
    }
   },
   "outputs": [],
   "source": [
    "df=df_drdt2.copy()\n",
    "rmin=0.3 #cm\n",
    "rmax=5 #cm\n",
    "\n",
    "r_values=df['r'].values\n",
    "drdt_values=df['drdt'].values\n",
    "Delta_r_values=df['Delta_r'].values\n",
    "Delta_drdt_values=df['Delta_drdt'].values\n",
    "counts=df['counts'].values\n",
    "\n",
    "#fit drdt_values to F0+F1/r with OLS fit for LR model where 1/r is greater than some 1/cm\n",
    "x_values=r_values\n",
    "y_values=drdt_values\n",
    "x_err_values=Delta_r_values\n",
    "y_err_values=Delta_drdt_values\n",
    "\n",
    "#fit drdt_values to F0+F1/r with OLS fit for LR model where 1/r is greater than some 1/cm\n",
    "boo=(r_values>rmin)&(r_values<rmax)\n",
    "x=1/r_values[boo]\n",
    "y=drdt_values[boo]\n",
    "dict_force_fit=compute_95CI_ols(x,y)\n",
    "y_hat_values=dict_force_fit['b']+dict_force_fit['m']/r_values\n",
    "\n",
    "#(optional) rename specific values\n",
    "dict_force_fit2=dict_force_fit\n",
    "y_hat_values2=y_hat_values.copy()\n",
    "x_values2=x_values.copy()\n",
    "y_values2=y_values.copy()\n",
    "y_err_values2=y_err_values.copy()\n",
    "\n",
    "#bluf\n",
    "print(f\"the ols fit for particle model:\")\n",
    "print_dict(dict_force_fit2)\n",
    "print(f\"Nobs= {np.mean(counts):.0f} +- {np.std(counts):.0f}\")\n",
    "print(f\"\\ninput_fn: {input_fn2}\")"
   ]
  },
  {
   "cell_type": "code",
   "execution_count": null,
   "metadata": {
    "ExecuteTime": {
     "end_time": "2021-07-14T18:26:28.939385Z",
     "start_time": "2021-07-14T18:20:13.346Z"
    }
   },
   "outputs": [],
   "source": [
    "df=df_drdt\n",
    "rmin=0.3 #cm\n",
    "rmax=5 #cm\n",
    "\n",
    "r_values=df['r'].values\n",
    "drdt_values=df['drdt'].values\n",
    "Delta_r_values=df['Delta_r'].values\n",
    "Delta_drdt_values=df['Delta_drdt'].values\n",
    "counts=df['counts'].values\n",
    "\n",
    "#fit drdt_values to F0+F1/r with OLS fit for LR model where 1/r is greater than some 1/cm\n",
    "x_values=r_values\n",
    "y_values=drdt_values\n",
    "x_err_values=Delta_r_values\n",
    "y_err_values=Delta_drdt_values\n",
    "\n",
    "#fit drdt_values to F0+F1/r with OLS fit for LR model where 1/r is greater than some 1/cm\n",
    "boo=(r_values>rmin)&(r_values<rmax)\n",
    "x=1/r_values[boo]\n",
    "y=drdt_values[boo]\n",
    "dict_force_fit=compute_95CI_ols(x,y)\n",
    "y_hat_values=dict_force_fit['b']+dict_force_fit['m']/r_values\n",
    "\n",
    "#(optional) rename specific values\n",
    "dict_force_fit=dict_force_fit\n",
    "y_hat_values=y_hat_values\n",
    "\n",
    "#bluf\n",
    "print(f\"the ols fit for particle model:\")\n",
    "print_dict(dict_force_fit)\n",
    "print(f\"Nobs= {np.mean(counts):.0f} +- {np.std(counts):.0f}\")\n",
    "print(f\"\\ninput_fn: {input_fn}\")"
   ]
  },
  {
   "cell_type": "code",
   "execution_count": null,
   "metadata": {
    "ExecuteTime": {
     "end_time": "2021-07-14T18:26:28.942740Z",
     "start_time": "2021-07-14T18:20:14.400Z"
    }
   },
   "outputs": [],
   "source": [
    "#plot mean radial velocities\n",
    "fig, axs = plt.subplots(ncols=2, figsize=(9, 4))\n",
    "PlotMeanRadialVelocities(axs, x_values, y_values, y_err_values, y_hat_values,c='C2')\n",
    "PlotMeanRadialVelocities(axs, x_values2, y_values2, y_err_values2, y_hat_values2,c='C4')\n",
    "plt.tight_layout()\n",
    "plt.show()"
   ]
  },
  {
   "cell_type": "markdown",
   "metadata": {},
   "source": [
    "For the particle model,\n",
    "$$\n",
    "F(R)\\propto\\frac{dR}{dt} = b + \\frac{m}{R}\n",
    "$$"
   ]
  },
  {
   "cell_type": "code",
   "execution_count": null,
   "metadata": {
    "ExecuteTime": {
     "end_time": "2021-07-14T18:26:28.946333Z",
     "start_time": "2021-07-14T18:20:16.299Z"
    }
   },
   "outputs": [],
   "source": [
    "#estimating the effect\n",
    "m=dict_force_fit['m']\n",
    "Delta_m=dict_force_fit['Delta_m']\n",
    "m2=dict_force_fit2['m']\n",
    "Delta_m2=dict_force_fit2['Delta_m']\n",
    "print(f\"m'/m = {(m2+Delta_m2)/(m-Delta_m):.2f} (lower bound)\")\n",
    "print(f\"m'/m = {m2/m:.2f} (expected)\")\n",
    "print(f\"m'/m = {(m2-Delta_m2)/(m+Delta_m):.2f} (upper bound)\")"
   ]
  },
  {
   "cell_type": "code",
   "execution_count": null,
   "metadata": {},
   "outputs": [],
   "source": []
  },
  {
   "cell_type": "code",
   "execution_count": 6,
   "metadata": {
    "ExecuteTime": {
     "end_time": "2021-07-14T18:26:30.339394Z",
     "start_time": "2021-07-14T18:26:30.283007Z"
    }
   },
   "outputs": [
    {
     "data": {
      "text/plain": [
       "<function lib.routines.compute_mean_radial_velocities.save_mean_radial_velocities(input_fn, t_col='tdeath', output_fn=None, bins='auto')>"
      ]
     },
     "execution_count": 6,
     "metadata": {},
     "output_type": "execute_result"
    }
   ],
   "source": [
    "save_mean_radial_velocities"
   ]
  },
  {
   "cell_type": "markdown",
   "metadata": {
    "heading_collapsed": true
   },
   "source": [
    "## the effect of doubling the attractive force"
   ]
  },
  {
   "cell_type": "code",
   "execution_count": 13,
   "metadata": {
    "ExecuteTime": {
     "end_time": "2021-07-09T21:02:21.824728Z",
     "start_time": "2021-07-09T21:00:56.153622Z"
    },
    "hidden": true
   },
   "outputs": [],
   "source": [
    "#compute the mean radial velocities\n",
    "#particle results for DT=0.25ms with an attractive 1/r force\n",
    "input_fn=\"/Users/timothytyree/Documents/GitHub/bgmc/python/data/local_results/euic_False_fc_2_r_0.1_D_2_L_10_kappa_1500_varkappa_5/annihilations_minr_1_mindur_20.csv\"\n",
    "output_fn=save_mean_radial_velocities(input_fn,t_col='tdeath',bins=30)\n",
    "\n",
    "#double the attractive 1/r force\n",
    "input_fn2=\"/Users/timothytyree/Documents/GitHub/bgmc/python/data/local_results/euic_False_fc_2_r_0.1_D_2_L_10_kappa_1500_varkappa_10/annihilations_minr_1_mindur_20.csv\"\n",
    "output_fn2=save_mean_radial_velocities(input_fn2,t_col='tdeath',bins=30)"
   ]
  },
  {
   "cell_type": "code",
   "execution_count": 14,
   "metadata": {
    "ExecuteTime": {
     "end_time": "2021-07-09T21:02:23.549725Z",
     "start_time": "2021-07-09T21:02:23.459017Z"
    },
    "hidden": true
   },
   "outputs": [
    {
     "data": {
      "text/html": [
       "<div>\n",
       "<style scoped>\n",
       "    .dataframe tbody tr th:only-of-type {\n",
       "        vertical-align: middle;\n",
       "    }\n",
       "\n",
       "    .dataframe tbody tr th {\n",
       "        vertical-align: top;\n",
       "    }\n",
       "\n",
       "    .dataframe thead th {\n",
       "        text-align: right;\n",
       "    }\n",
       "</style>\n",
       "<table border=\"1\" class=\"dataframe\">\n",
       "  <thead>\n",
       "    <tr style=\"text-align: right;\">\n",
       "      <th></th>\n",
       "      <th>r</th>\n",
       "      <th>drdt</th>\n",
       "      <th>Delta_r</th>\n",
       "      <th>Delta_drdt</th>\n",
       "      <th>p_r</th>\n",
       "      <th>p_drdt</th>\n",
       "      <th>counts</th>\n",
       "    </tr>\n",
       "  </thead>\n",
       "  <tbody>\n",
       "    <tr>\n",
       "      <th>0</th>\n",
       "      <td>0.156757</td>\n",
       "      <td>-0.089044</td>\n",
       "      <td>0.001344</td>\n",
       "      <td>0.003893</td>\n",
       "      <td>0.240967</td>\n",
       "      <td>0.068338</td>\n",
       "      <td>7453</td>\n",
       "    </tr>\n",
       "    <tr>\n",
       "      <th>1</th>\n",
       "      <td>0.366495</td>\n",
       "      <td>-0.038706</td>\n",
       "      <td>0.000883</td>\n",
       "      <td>0.002319</td>\n",
       "      <td>0.524902</td>\n",
       "      <td>0.290752</td>\n",
       "      <td>22533</td>\n",
       "    </tr>\n",
       "    <tr>\n",
       "      <th>2</th>\n",
       "      <td>0.597870</td>\n",
       "      <td>-0.024338</td>\n",
       "      <td>0.000698</td>\n",
       "      <td>0.001752</td>\n",
       "      <td>0.928901</td>\n",
       "      <td>0.116687</td>\n",
       "      <td>37501</td>\n",
       "    </tr>\n",
       "    <tr>\n",
       "      <th>3</th>\n",
       "      <td>0.827650</td>\n",
       "      <td>-0.015665</td>\n",
       "      <td>0.000599</td>\n",
       "      <td>0.001549</td>\n",
       "      <td>0.710237</td>\n",
       "      <td>0.903064</td>\n",
       "      <td>51408</td>\n",
       "    </tr>\n",
       "    <tr>\n",
       "      <th>4</th>\n",
       "      <td>1.059789</td>\n",
       "      <td>-0.011730</td>\n",
       "      <td>0.000528</td>\n",
       "      <td>0.001456</td>\n",
       "      <td>0.516333</td>\n",
       "      <td>0.946471</td>\n",
       "      <td>59873</td>\n",
       "    </tr>\n",
       "  </tbody>\n",
       "</table>\n",
       "</div>"
      ],
      "text/plain": [
       "          r      drdt   Delta_r  Delta_drdt       p_r    p_drdt  counts\n",
       "0  0.156757 -0.089044  0.001344    0.003893  0.240967  0.068338    7453\n",
       "1  0.366495 -0.038706  0.000883    0.002319  0.524902  0.290752   22533\n",
       "2  0.597870 -0.024338  0.000698    0.001752  0.928901  0.116687   37501\n",
       "3  0.827650 -0.015665  0.000599    0.001549  0.710237  0.903064   51408\n",
       "4  1.059789 -0.011730  0.000528    0.001456  0.516333  0.946471   59873"
      ]
     },
     "execution_count": 14,
     "metadata": {},
     "output_type": "execute_result"
    }
   ],
   "source": [
    "df_drdt=pd.read_csv(output_fn)\n",
    "df_drdt2=pd.read_csv(output_fn2)\n",
    "df_drdt.head()"
   ]
  },
  {
   "cell_type": "code",
   "execution_count": 15,
   "metadata": {
    "ExecuteTime": {
     "end_time": "2021-07-09T21:02:25.280885Z",
     "start_time": "2021-07-09T21:02:25.194006Z"
    },
    "hidden": true
   },
   "outputs": [
    {
     "name": "stdout",
     "output_type": "stream",
     "text": [
      "the ols fit for particle model:\n",
      "m=-0.023272558805513037\n",
      "Delta_m=0.0017948664503338518\n",
      "b=0.0011579403075220335\n",
      "Delta_b=0.0015635074520903396\n",
      "Rsquared=0.9714224111462698\n",
      "Nobs= 17548 +- 9348\n",
      "\n",
      "input_fn: /Users/timothytyree/Documents/GitHub/bgmc/python/data/local_results/euic_False_fc_2_r_0.1_D_2_L_10_kappa_1500_varkappa_10/annihilations_minr_1_mindur_20.csv\n"
     ]
    }
   ],
   "source": [
    "df=df_drdt2.copy()\n",
    "rmin=0.3 #cm\n",
    "rmax=5 #cm\n",
    "\n",
    "r_values=df['r'].values\n",
    "drdt_values=df['drdt'].values\n",
    "Delta_r_values=df['Delta_r'].values\n",
    "Delta_drdt_values=df['Delta_drdt'].values\n",
    "counts=df['counts'].values\n",
    "\n",
    "#fit drdt_values to F0+F1/r with OLS fit for LR model where 1/r is greater than some 1/cm\n",
    "x_values=r_values\n",
    "y_values=drdt_values\n",
    "x_err_values=Delta_r_values\n",
    "y_err_values=Delta_drdt_values\n",
    "\n",
    "#fit drdt_values to F0+F1/r with OLS fit for LR model where 1/r is greater than some 1/cm\n",
    "boo=(r_values>rmin)&(r_values<rmax)\n",
    "x=1/r_values[boo]\n",
    "y=drdt_values[boo]\n",
    "dict_force_fit=compute_95CI_ols(x,y)\n",
    "y_hat_values=dict_force_fit['b']+dict_force_fit['m']/r_values\n",
    "\n",
    "#(optional) rename specific values\n",
    "dict_force_fit2=dict_force_fit\n",
    "y_hat_values2=y_hat_values.copy()\n",
    "x_values2=x_values.copy()\n",
    "y_values2=y_values.copy()\n",
    "y_err_values2=y_err_values.copy()\n",
    "\n",
    "#bluf\n",
    "print(f\"the ols fit for particle model:\")\n",
    "print_dict(dict_force_fit2)\n",
    "print(f\"Nobs= {np.mean(counts):.0f} +- {np.std(counts):.0f}\")\n",
    "print(f\"\\ninput_fn: {input_fn2}\")"
   ]
  },
  {
   "cell_type": "code",
   "execution_count": 16,
   "metadata": {
    "ExecuteTime": {
     "end_time": "2021-07-09T21:02:27.124249Z",
     "start_time": "2021-07-09T21:02:27.044240Z"
    },
    "hidden": true
   },
   "outputs": [
    {
     "name": "stdout",
     "output_type": "stream",
     "text": [
      "the ols fit for particle model:\n",
      "m=-0.015196979154674545\n",
      "Delta_m=0.0005095824745029999\n",
      "b=0.0020409886450991743\n",
      "Delta_b=0.00044625909406630017\n",
      "Rsquared=0.9947592579603567\n",
      "Nobs= 40099 +- 22365\n",
      "\n",
      "input_fn: /Users/timothytyree/Documents/GitHub/bgmc/python/data/local_results/euic_False_fc_2_r_0.1_D_2_L_10_kappa_1500_varkappa_5/annihilations_minr_1_mindur_20.csv\n"
     ]
    }
   ],
   "source": [
    "df=df_drdt\n",
    "rmin=0.3 #cm\n",
    "rmax=5 #cm\n",
    "\n",
    "r_values=df['r'].values\n",
    "drdt_values=df['drdt'].values\n",
    "Delta_r_values=df['Delta_r'].values\n",
    "Delta_drdt_values=df['Delta_drdt'].values\n",
    "counts=df['counts'].values\n",
    "\n",
    "#fit drdt_values to F0+F1/r with OLS fit for LR model where 1/r is greater than some 1/cm\n",
    "x_values=r_values\n",
    "y_values=drdt_values\n",
    "x_err_values=Delta_r_values\n",
    "y_err_values=Delta_drdt_values\n",
    "\n",
    "#fit drdt_values to F0+F1/r with OLS fit for LR model where 1/r is greater than some 1/cm\n",
    "boo=(r_values>rmin)&(r_values<rmax)\n",
    "x=1/r_values[boo]\n",
    "y=drdt_values[boo]\n",
    "dict_force_fit=compute_95CI_ols(x,y)\n",
    "y_hat_values=dict_force_fit['b']+dict_force_fit['m']/r_values\n",
    "\n",
    "#(optional) rename specific values\n",
    "dict_force_fit=dict_force_fit\n",
    "y_hat_values=y_hat_values\n",
    "\n",
    "#bluf\n",
    "print(f\"the ols fit for particle model:\")\n",
    "print_dict(dict_force_fit)\n",
    "print(f\"Nobs= {np.mean(counts):.0f} +- {np.std(counts):.0f}\")\n",
    "print(f\"\\ninput_fn: {input_fn}\")"
   ]
  },
  {
   "cell_type": "code",
   "execution_count": 17,
   "metadata": {
    "ExecuteTime": {
     "end_time": "2021-07-09T21:02:29.412858Z",
     "start_time": "2021-07-09T21:02:28.800162Z"
    },
    "hidden": true
   },
   "outputs": [
    {
     "data": {
      "image/png": "[encoded data removed]",
      "text/plain": [
       "<Figure size 648x288 with 2 Axes>"
      ]
     },
     "metadata": {
      "needs_background": "light"
     },
     "output_type": "display_data"
    }
   ],
   "source": [
    "#plot mean radial velocities\n",
    "fig, axs = plt.subplots(ncols=2, figsize=(9, 4))\n",
    "PlotMeanRadialVelocities(axs, x_values, y_values, y_err_values, y_hat_values,c='C2')\n",
    "PlotMeanRadialVelocities(axs, x_values2, y_values2, y_err_values2, y_hat_values2,c='C4')\n",
    "plt.tight_layout()\n",
    "plt.show()"
   ]
  },
  {
   "cell_type": "markdown",
   "metadata": {
    "hidden": true
   },
   "source": [
    "For the particle model,\n",
    "$$\n",
    "F(R)\\propto\\frac{dR}{dt} = b + \\frac{m}{R}\n",
    "$$"
   ]
  },
  {
   "cell_type": "code",
   "execution_count": 25,
   "metadata": {
    "ExecuteTime": {
     "end_time": "2021-07-09T21:06:17.190196Z",
     "start_time": "2021-07-09T21:06:17.127656Z"
    },
    "hidden": true
   },
   "outputs": [
    {
     "name": "stdout",
     "output_type": "stream",
     "text": [
      "m'/m = 1.37 (lower bound)\n",
      "m'/m = 1.53 (expected)\n",
      "m'/m = 1.71 (upper bound)\n"
     ]
    }
   ],
   "source": [
    "#estimating the effect\n",
    "m=dict_force_fit['m']\n",
    "Delta_m=dict_force_fit['Delta_m']\n",
    "m2=dict_force_fit2['m']\n",
    "Delta_m2=dict_force_fit2['Delta_m']\n",
    "print(f\"m'/m = {(m2+Delta_m2)/(m-Delta_m):.2f} (lower bound)\")\n",
    "print(f\"m'/m = {m2/m:.2f} (expected)\")\n",
    "print(f\"m'/m = {(m2-Delta_m2)/(m+Delta_m):.2f} (upper bound)\")"
   ]
  },
  {
   "cell_type": "code",
   "execution_count": null,
   "metadata": {
    "hidden": true
   },
   "outputs": [],
   "source": []
  },
  {
   "cell_type": "markdown",
   "metadata": {
    "heading_collapsed": true
   },
   "source": [
    "## the effect of halving the random diffusive force"
   ]
  },
  {
   "cell_type": "code",
   "execution_count": 26,
   "metadata": {
    "ExecuteTime": {
     "end_time": "2021-07-09T21:08:39.784106Z",
     "start_time": "2021-07-09T21:06:53.781888Z"
    },
    "hidden": true
   },
   "outputs": [],
   "source": [
    "#compute the mean radial velocities\n",
    "# #particle results for DT=0.25ms with an attractive 1/r force\n",
    "# input_fn=\"/Users/timothytyree/Documents/GitHub/bgmc/python/data/local_results/euic_False_fc_2_r_0.1_D_2_L_10_kappa_1500_varkappa_5/annihilations_minr_1_mindur_20.csv\"\n",
    "# output_fn=save_mean_radial_velocities(input_fn,t_col='tdeath',bins=30)\n",
    "\n",
    "#double the attractive 1/r force\n",
    "input_fn2=\"/Users/timothytyree/Documents/GitHub/bgmc/python/data/local_results/euic_False_fc_2_r_0.1_D_1_L_10_kappa_1500_varkappa_5/annihilations_minr_1_mindur_20.csv\"\n",
    "output_fn2=save_mean_radial_velocities(input_fn2,t_col='tdeath',bins=30)"
   ]
  },
  {
   "cell_type": "code",
   "execution_count": 27,
   "metadata": {
    "ExecuteTime": {
     "end_time": "2021-07-09T21:08:43.713257Z",
     "start_time": "2021-07-09T21:08:43.472999Z"
    },
    "hidden": true,
    "scrolled": true
   },
   "outputs": [
    {
     "data": {
      "text/html": [
       "<div>\n",
       "<style scoped>\n",
       "    .dataframe tbody tr th:only-of-type {\n",
       "        vertical-align: middle;\n",
       "    }\n",
       "\n",
       "    .dataframe tbody tr th {\n",
       "        vertical-align: top;\n",
       "    }\n",
       "\n",
       "    .dataframe thead th {\n",
       "        text-align: right;\n",
       "    }\n",
       "</style>\n",
       "<table border=\"1\" class=\"dataframe\">\n",
       "  <thead>\n",
       "    <tr style=\"text-align: right;\">\n",
       "      <th></th>\n",
       "      <th>r</th>\n",
       "      <th>drdt</th>\n",
       "      <th>Delta_r</th>\n",
       "      <th>Delta_drdt</th>\n",
       "      <th>p_r</th>\n",
       "      <th>p_drdt</th>\n",
       "      <th>counts</th>\n",
       "    </tr>\n",
       "  </thead>\n",
       "  <tbody>\n",
       "    <tr>\n",
       "      <th>0</th>\n",
       "      <td>0.156757</td>\n",
       "      <td>-0.089044</td>\n",
       "      <td>0.001344</td>\n",
       "      <td>0.003893</td>\n",
       "      <td>0.240967</td>\n",
       "      <td>0.068338</td>\n",
       "      <td>7453</td>\n",
       "    </tr>\n",
       "    <tr>\n",
       "      <th>1</th>\n",
       "      <td>0.366495</td>\n",
       "      <td>-0.038706</td>\n",
       "      <td>0.000883</td>\n",
       "      <td>0.002319</td>\n",
       "      <td>0.524902</td>\n",
       "      <td>0.290752</td>\n",
       "      <td>22533</td>\n",
       "    </tr>\n",
       "    <tr>\n",
       "      <th>2</th>\n",
       "      <td>0.597870</td>\n",
       "      <td>-0.024338</td>\n",
       "      <td>0.000698</td>\n",
       "      <td>0.001752</td>\n",
       "      <td>0.928901</td>\n",
       "      <td>0.116687</td>\n",
       "      <td>37501</td>\n",
       "    </tr>\n",
       "    <tr>\n",
       "      <th>3</th>\n",
       "      <td>0.827650</td>\n",
       "      <td>-0.015665</td>\n",
       "      <td>0.000599</td>\n",
       "      <td>0.001549</td>\n",
       "      <td>0.710237</td>\n",
       "      <td>0.903064</td>\n",
       "      <td>51408</td>\n",
       "    </tr>\n",
       "    <tr>\n",
       "      <th>4</th>\n",
       "      <td>1.059789</td>\n",
       "      <td>-0.011730</td>\n",
       "      <td>0.000528</td>\n",
       "      <td>0.001456</td>\n",
       "      <td>0.516333</td>\n",
       "      <td>0.946471</td>\n",
       "      <td>59873</td>\n",
       "    </tr>\n",
       "  </tbody>\n",
       "</table>\n",
       "</div>"
      ],
      "text/plain": [
       "          r      drdt   Delta_r  Delta_drdt       p_r    p_drdt  counts\n",
       "0  0.156757 -0.089044  0.001344    0.003893  0.240967  0.068338    7453\n",
       "1  0.366495 -0.038706  0.000883    0.002319  0.524902  0.290752   22533\n",
       "2  0.597870 -0.024338  0.000698    0.001752  0.928901  0.116687   37501\n",
       "3  0.827650 -0.015665  0.000599    0.001549  0.710237  0.903064   51408\n",
       "4  1.059789 -0.011730  0.000528    0.001456  0.516333  0.946471   59873"
      ]
     },
     "execution_count": 27,
     "metadata": {},
     "output_type": "execute_result"
    }
   ],
   "source": [
    "df_drdt=pd.read_csv(output_fn)\n",
    "df_drdt2=pd.read_csv(output_fn2)\n",
    "df_drdt.head()"
   ]
  },
  {
   "cell_type": "code",
   "execution_count": 28,
   "metadata": {
    "ExecuteTime": {
     "end_time": "2021-07-09T21:08:47.553198Z",
     "start_time": "2021-07-09T21:08:47.396476Z"
    },
    "hidden": true
   },
   "outputs": [
    {
     "name": "stdout",
     "output_type": "stream",
     "text": [
      "the ols fit for particle model:\n",
      "m=-0.012368627292462943\n",
      "Delta_m=0.00046133167889566255\n",
      "b=0.0013424429741814457\n",
      "Delta_b=0.00040301948242705394\n",
      "Rsquared=0.9935237713304502\n",
      "Nobs= 42752 +- 22608\n",
      "\n",
      "input_fn: /Users/timothytyree/Documents/GitHub/bgmc/python/data/local_results/euic_False_fc_2_r_0.1_D_1_L_10_kappa_1500_varkappa_5/annihilations_minr_1_mindur_20.csv\n"
     ]
    }
   ],
   "source": [
    "df=df_drdt2.copy()\n",
    "rmin=0.3 #cm\n",
    "rmax=5 #cm\n",
    "\n",
    "r_values=df['r'].values\n",
    "drdt_values=df['drdt'].values\n",
    "Delta_r_values=df['Delta_r'].values\n",
    "Delta_drdt_values=df['Delta_drdt'].values\n",
    "counts=df['counts'].values\n",
    "\n",
    "#fit drdt_values to F0+F1/r with OLS fit for LR model where 1/r is greater than some 1/cm\n",
    "x_values=r_values\n",
    "y_values=drdt_values\n",
    "x_err_values=Delta_r_values\n",
    "y_err_values=Delta_drdt_values\n",
    "\n",
    "#fit drdt_values to F0+F1/r with OLS fit for LR model where 1/r is greater than some 1/cm\n",
    "boo=(r_values>rmin)&(r_values<rmax)\n",
    "x=1/r_values[boo]\n",
    "y=drdt_values[boo]\n",
    "dict_force_fit=compute_95CI_ols(x,y)\n",
    "y_hat_values=dict_force_fit['b']+dict_force_fit['m']/r_values\n",
    "\n",
    "#(optional) rename specific values\n",
    "dict_force_fit2=dict_force_fit\n",
    "y_hat_values2=y_hat_values.copy()\n",
    "x_values2=x_values.copy()\n",
    "y_values2=y_values.copy()\n",
    "y_err_values2=y_err_values.copy()\n",
    "\n",
    "#bluf\n",
    "print(f\"the ols fit for particle model:\")\n",
    "print_dict(dict_force_fit2)\n",
    "print(f\"Nobs= {np.mean(counts):.0f} +- {np.std(counts):.0f}\")\n",
    "print(f\"\\ninput_fn: {input_fn2}\")"
   ]
  },
  {
   "cell_type": "code",
   "execution_count": 29,
   "metadata": {
    "ExecuteTime": {
     "end_time": "2021-07-09T21:08:50.846126Z",
     "start_time": "2021-07-09T21:08:50.691242Z"
    },
    "hidden": true
   },
   "outputs": [
    {
     "name": "stdout",
     "output_type": "stream",
     "text": [
      "the ols fit for particle model:\n",
      "m=-0.015196979154674545\n",
      "Delta_m=0.0005095824745029999\n",
      "b=0.0020409886450991743\n",
      "Delta_b=0.00044625909406630017\n",
      "Rsquared=0.9947592579603567\n",
      "Nobs= 40099 +- 22365\n",
      "\n",
      "input_fn: /Users/timothytyree/Documents/GitHub/bgmc/python/data/local_results/euic_False_fc_2_r_0.1_D_2_L_10_kappa_1500_varkappa_5/annihilations_minr_1_mindur_20.csv\n"
     ]
    }
   ],
   "source": [
    "df=df_drdt\n",
    "rmin=0.3 #cm\n",
    "rmax=5 #cm\n",
    "\n",
    "r_values=df['r'].values\n",
    "drdt_values=df['drdt'].values\n",
    "Delta_r_values=df['Delta_r'].values\n",
    "Delta_drdt_values=df['Delta_drdt'].values\n",
    "counts=df['counts'].values\n",
    "\n",
    "#fit drdt_values to F0+F1/r with OLS fit for LR model where 1/r is greater than some 1/cm\n",
    "x_values=r_values\n",
    "y_values=drdt_values\n",
    "x_err_values=Delta_r_values\n",
    "y_err_values=Delta_drdt_values\n",
    "\n",
    "#fit drdt_values to F0+F1/r with OLS fit for LR model where 1/r is greater than some 1/cm\n",
    "boo=(r_values>rmin)&(r_values<rmax)\n",
    "x=1/r_values[boo]\n",
    "y=drdt_values[boo]\n",
    "dict_force_fit=compute_95CI_ols(x,y)\n",
    "y_hat_values=dict_force_fit['b']+dict_force_fit['m']/r_values\n",
    "\n",
    "#(optional) rename specific values\n",
    "dict_force_fit=dict_force_fit\n",
    "y_hat_values=y_hat_values\n",
    "\n",
    "#bluf\n",
    "print(f\"the ols fit for particle model:\")\n",
    "print_dict(dict_force_fit)\n",
    "print(f\"Nobs= {np.mean(counts):.0f} +- {np.std(counts):.0f}\")\n",
    "print(f\"\\ninput_fn: {input_fn}\")"
   ]
  },
  {
   "cell_type": "code",
   "execution_count": 30,
   "metadata": {
    "ExecuteTime": {
     "end_time": "2021-07-09T21:08:55.482052Z",
     "start_time": "2021-07-09T21:08:54.040254Z"
    },
    "hidden": true
   },
   "outputs": [
    {
     "data": {
      "image/png": "[encoded data removed]",
      "text/plain": [
       "<Figure size 648x288 with 2 Axes>"
      ]
     },
     "metadata": {
      "needs_background": "light"
     },
     "output_type": "display_data"
    }
   ],
   "source": [
    "#plot mean radial velocities\n",
    "fig, axs = plt.subplots(ncols=2, figsize=(9, 4))\n",
    "PlotMeanRadialVelocities(axs, x_values, y_values, y_err_values, y_hat_values,c='C2')\n",
    "PlotMeanRadialVelocities(axs, x_values2, y_values2, y_err_values2, y_hat_values2,c='C4')\n",
    "plt.tight_layout()\n",
    "plt.show()"
   ]
  },
  {
   "cell_type": "markdown",
   "metadata": {
    "hidden": true
   },
   "source": [
    "For the particle model,\n",
    "$$\n",
    "F(R)\\propto\\frac{dR}{dt} = b + \\frac{m}{R}\n",
    "$$"
   ]
  },
  {
   "cell_type": "code",
   "execution_count": 31,
   "metadata": {
    "ExecuteTime": {
     "end_time": "2021-07-09T21:08:58.855610Z",
     "start_time": "2021-07-09T21:08:58.701687Z"
    },
    "hidden": true
   },
   "outputs": [
    {
     "name": "stdout",
     "output_type": "stream",
     "text": [
      "m'/m = 0.76 (lower bound)\n",
      "m'/m = 0.81 (expected)\n",
      "m'/m = 0.87 (upper bound)\n"
     ]
    }
   ],
   "source": [
    "#estimating the effect\n",
    "m=dict_force_fit['m']\n",
    "Delta_m=dict_force_fit['Delta_m']\n",
    "m2=dict_force_fit2['m']\n",
    "Delta_m2=dict_force_fit2['Delta_m']\n",
    "print(f\"m'/m = {(m2+Delta_m2)/(m-Delta_m):.2f} (lower bound)\")\n",
    "print(f\"m'/m = {m2/m:.2f} (expected)\")\n",
    "print(f\"m'/m = {(m2-Delta_m2)/(m+Delta_m):.2f} (upper bound)\")"
   ]
  },
  {
   "cell_type": "markdown",
   "metadata": {},
   "source": [
    "# TODO: quick and dirty angular histogram of many angles for a given time/range before death\n",
    "then, angular plots over many values\n",
    "- TODO: overlay several times/ranges to show timescale/engthscale of orientation\n",
    "- TODO: filter by min_duration and by min_range simultaneously\n",
    "- TODO: compute the mean_unsigned_angle_between versus t_death_values. \n",
    "\n",
    "then, visualizations\n",
    "- TODO: plot the mean_unsigned_angle_between versus t_death_values. \n",
    "    - overlay with background of many individual events / standard deviation\n",
    "- TODO: plot the range_values versus t_death_values. \n",
    "    - overlay with background of many individual events / standard deviation\n",
    "- TODO: plot the range_values versus mean_unsigned_angle_between. \n",
    "    - overlay with background of many individual events / standard deviation"
   ]
  },
  {
   "cell_type": "markdown",
   "metadata": {},
   "source": [
    "# Measuring The Effect of Forces in Terms of Directional Preferences between Spiral Tips that annihilate"
   ]
  },
  {
   "cell_type": "markdown",
   "metadata": {},
   "source": [
    "# visualize angular histograms for a given model"
   ]
  },
  {
   "cell_type": "markdown",
   "metadata": {
    "heading_collapsed": true
   },
   "source": [
    "## Luo-Rudy"
   ]
  },
  {
   "cell_type": "code",
   "execution_count": 25,
   "metadata": {
    "ExecuteTime": {
     "end_time": "2021-06-29T18:49:38.348985Z",
     "start_time": "2021-06-29T18:49:38.269045Z"
    },
    "hidden": true
   },
   "outputs": [
    {
     "data": {
      "text/html": [
       "<div>\n",
       "<style scoped>\n",
       "    .dataframe tbody tr th:only-of-type {\n",
       "        vertical-align: middle;\n",
       "    }\n",
       "\n",
       "    .dataframe tbody tr th {\n",
       "        vertical-align: top;\n",
       "    }\n",
       "\n",
       "    .dataframe thead th {\n",
       "        text-align: right;\n",
       "    }\n",
       "</style>\n",
       "<table border=\"1\" class=\"dataframe\">\n",
       "  <thead>\n",
       "    <tr style=\"text-align: right;\">\n",
       "      <th></th>\n",
       "      <th>pid</th>\n",
       "      <th>pid_deathmate</th>\n",
       "      <th>tdeath</th>\n",
       "      <th>phi1</th>\n",
       "      <th>phi2</th>\n",
       "      <th>phi_sum</th>\n",
       "      <th>phi_diff</th>\n",
       "      <th>r</th>\n",
       "      <th>theta</th>\n",
       "    </tr>\n",
       "  </thead>\n",
       "  <tbody>\n",
       "    <tr>\n",
       "      <th>0</th>\n",
       "      <td>7740</td>\n",
       "      <td>7710</td>\n",
       "      <td>21.400</td>\n",
       "      <td>0.667985</td>\n",
       "      <td>0.750684</td>\n",
       "      <td>0.082698</td>\n",
       "      <td>1.418669</td>\n",
       "      <td>2.711634</td>\n",
       "      <td>2.360337</td>\n",
       "    </tr>\n",
       "    <tr>\n",
       "      <th>1</th>\n",
       "      <td>7740</td>\n",
       "      <td>7710</td>\n",
       "      <td>21.375</td>\n",
       "      <td>0.574328</td>\n",
       "      <td>0.751892</td>\n",
       "      <td>0.177564</td>\n",
       "      <td>1.326221</td>\n",
       "      <td>2.714238</td>\n",
       "      <td>2.374371</td>\n",
       "    </tr>\n",
       "    <tr>\n",
       "      <th>2</th>\n",
       "      <td>7740</td>\n",
       "      <td>7710</td>\n",
       "      <td>21.350</td>\n",
       "      <td>0.570388</td>\n",
       "      <td>0.753465</td>\n",
       "      <td>0.183078</td>\n",
       "      <td>1.323853</td>\n",
       "      <td>2.715064</td>\n",
       "      <td>2.453336</td>\n",
       "    </tr>\n",
       "    <tr>\n",
       "      <th>3</th>\n",
       "      <td>7740</td>\n",
       "      <td>7710</td>\n",
       "      <td>21.325</td>\n",
       "      <td>0.566287</td>\n",
       "      <td>0.755052</td>\n",
       "      <td>0.188765</td>\n",
       "      <td>1.321338</td>\n",
       "      <td>2.715846</td>\n",
       "      <td>2.457085</td>\n",
       "    </tr>\n",
       "    <tr>\n",
       "      <th>4</th>\n",
       "      <td>7740</td>\n",
       "      <td>7710</td>\n",
       "      <td>21.300</td>\n",
       "      <td>0.562026</td>\n",
       "      <td>0.756650</td>\n",
       "      <td>0.194624</td>\n",
       "      <td>1.318676</td>\n",
       "      <td>2.716587</td>\n",
       "      <td>2.460970</td>\n",
       "    </tr>\n",
       "  </tbody>\n",
       "</table>\n",
       "</div>"
      ],
      "text/plain": [
       "    pid  pid_deathmate  tdeath      phi1      phi2   phi_sum  phi_diff  \\\n",
       "0  7740           7710  21.400  0.667985  0.750684  0.082698  1.418669   \n",
       "1  7740           7710  21.375  0.574328  0.751892  0.177564  1.326221   \n",
       "2  7740           7710  21.350  0.570388  0.753465  0.183078  1.323853   \n",
       "3  7740           7710  21.325  0.566287  0.755052  0.188765  1.321338   \n",
       "4  7740           7710  21.300  0.562026  0.756650  0.194624  1.318676   \n",
       "\n",
       "          r     theta  \n",
       "0  2.711634  2.360337  \n",
       "1  2.714238  2.374371  \n",
       "2  2.715064  2.453336  \n",
       "3  2.715846  2.457085  \n",
       "4  2.716587  2.460970  "
      ]
     },
     "execution_count": 25,
     "metadata": {},
     "output_type": "execute_result"
    }
   ],
   "source": [
    "#LR results for DT = 0.5 ms\n",
    "modelname='luo-rudy'\n",
    "#annihilations aggregated\n",
    "# input_fn=\"/home/timothytyree/Documents/GitHub/care/notebooks/Data/initial-conditions-suite-3-LR/param_qu_tmax_30_Ko_5.4_diffCoef_0.0005_dt_0.5/annihilations_minr_1.0_mindur_20.0.csv\"\n",
    "# # #creations aggregated\n",
    "# input_fn=\"/home/timothytyree/Documents/GitHub/care/notebooks/Data/initial-conditions-suite-3-LR/param_qu_tmax_30_Ko_5.4_diffCoef_0.0005_dt_0.5/creations_minr_1.0_mindur_20.0.csv\"\n",
    "\n",
    "# #LR results for DT = 0.025 ms\n",
    "#annihilations aggregated\n",
    "input_fn='/home/timothytyree/Documents/GitHub/care/notebooks/Data/initial-conditions-suite-3-LR/param_qu_tmax_30_Ko_5.4_diffCoef_0.0005_dt_0.025/annihilations_minr_1.0_mindur_20.0.csv'\n",
    "# # #creations aggregated\n",
    "# input_fn='/home/timothytyree/Documents/GitHub/care/notebooks/Data/initial-conditions-suite-3-LR/param_qu_tmax_30_Ko_5.4_diffCoef_0.0005_dt_0.025/creations_minr_1.0_mindur_20.0.csv'\n",
    "\n",
    "\n",
    "# #FK results for DT = 0.4 ms\n",
    "# #annihilations aggregated\n",
    "# input_fn=\"/home/timothytyree/Documents/GitHub/care/notebooks/Data/initial-conditions-fk-200x200/param_set_8_ds_5.0_tmax_10_diffCoef_0.0005/annihilations_minr_1.0_mindur_20.0.csv\"\n",
    "# # #creations aggregated\n",
    "# input_fn=\"/home/timothytyree/Documents/GitHub/care/notebooks/Data/initial-conditions-fk-200x200/param_set_8_ds_5.0_tmax_10_diffCoef_0.0005/creations_minr_1.0_mindur_20.0.csv\"\n",
    "\n",
    "# #FK results for DT = 0.025 ms\n",
    "\n",
    "\n",
    "# input_fn=search_for_file()\n",
    "# input_fn=\"/home/timothytyree/Documents/GitHub/care/notebooks/Data/initial-conditions-suite-3-LR/param_qu_tmax_30_Ko_3.8_diffCoef_0.0005/annihilations/ic001.21_traj_sr_600_mem_0_annihilations.csv\"\n",
    "df=pd.read_csv(input_fn)\n",
    "df.head()"
   ]
  },
  {
   "cell_type": "code",
   "execution_count": 26,
   "metadata": {
    "ExecuteTime": {
     "end_time": "2021-06-29T18:49:40.320120Z",
     "start_time": "2021-06-29T18:49:40.279490Z"
    },
    "hidden": true
   },
   "outputs": [],
   "source": [
    "#heretim\n",
    "#TODO: screenshot LR\n",
    "#TODO: screenshot FK\n",
    "#TODO: screenshot LR with small time step\n",
    "#TODO: visualize on same screen. interpret.\n",
    "#TODO: make outputs simultaneously visible for LR and FK results (dt=0.5,0.4, respectively)"
   ]
  },
  {
   "cell_type": "code",
   "execution_count": 27,
   "metadata": {
    "ExecuteTime": {
     "end_time": "2021-06-29T18:49:40.850157Z",
     "start_time": "2021-06-29T18:49:40.815834Z"
    },
    "hidden": true
   },
   "outputs": [
    {
     "name": "stdout",
     "output_type": "stream",
     "text": [
      "considering angles at times (tA,tB,tC)=(0.025, 0.2, 2.0) milliseconds.\n"
     ]
    }
   ],
   "source": [
    "#slice df to a given tdeath\n",
    "t_values=sorted(set(df.tdeath.values))\n",
    "# t_values=sorted(set(df.tbirth.values))\n",
    "\n",
    "# #FK\n",
    "# tA=t_values[0]#.4\n",
    "# tB=t_values[9]#4.\n",
    "# tC=t_values[49]#20.\n",
    "#LR\n",
    "tA=t_values[0]\n",
    "tB=t_values[7]\n",
    "tC=t_values[79]#15]#39]\n",
    "\n",
    "print(f\"considering angles at times (tA,tB,tC)={(tA,tB,tC)} milliseconds.\")\n",
    "\n",
    "anglesA=df[df.tdeath==tA].theta.values\n",
    "anglesB=df[df.tdeath==tB].theta.values\n",
    "anglesC=df[df.tdeath==tC].theta.values\n",
    "\n",
    "# anglesA=df[df.tbirth==tA].theta.values\n",
    "# anglesB=df[df.tbirth==tB].theta.values\n",
    "# anglesC=df[df.tbirth==tC].theta.values\n",
    "\n",
    "\n",
    "ax_lst=[2,1,0]\n",
    "c='C1'\n",
    "color_lst=[c,c,c]\n",
    "# color_lst=['C0','C1','C2']\n",
    "angle_lst=[anglesA,anglesB,anglesC]"
   ]
  },
  {
   "cell_type": "code",
   "execution_count": 28,
   "metadata": {
    "ExecuteTime": {
     "end_time": "2021-06-29T18:49:42.467801Z",
     "start_time": "2021-06-29T18:49:42.447066Z"
    },
    "hidden": true
   },
   "outputs": [],
   "source": [
    "#angular histogram viewer from optical_flow\n",
    "# the area of each bin is proportional to the number of observations in it,\n",
    "bins=4*2\n",
    "symmetrize=False\n",
    "density=True"
   ]
  },
  {
   "cell_type": "code",
   "execution_count": 29,
   "metadata": {
    "ExecuteTime": {
     "end_time": "2021-06-29T18:49:42.726373Z",
     "start_time": "2021-06-29T18:49:42.687289Z"
    },
    "hidden": true
   },
   "outputs": [],
   "source": [
    "kwargs={\n",
    "    'symmetrize':symmetrize,\n",
    "    'density':density,\n",
    "    'bins':bins,\n",
    "    'alpha':0.4\n",
    "}\n",
    "\n",
    "x_values=np.linspace(0,2*np.pi,50)\n",
    "if density:\n",
    "    y0=1/(bins * np.pi)**0.5\n",
    "else:\n",
    "    y0=1/(bins)*angles.size"
   ]
  },
  {
   "cell_type": "code",
   "execution_count": 30,
   "metadata": {
    "ExecuteTime": {
     "end_time": "2021-06-29T18:49:44.208020Z",
     "start_time": "2021-06-29T18:49:44.175001Z"
    },
    "hidden": true
   },
   "outputs": [
    {
     "name": "stdout",
     "output_type": "stream",
     "text": [
      "the number of events considered is 12.\n"
     ]
    }
   ],
   "source": [
    "print(f\"the number of events considered is {anglesA.shape[0]}.\")"
   ]
  },
  {
   "cell_type": "code",
   "execution_count": 31,
   "metadata": {
    "ExecuteTime": {
     "end_time": "2021-06-29T18:49:51.103914Z",
     "start_time": "2021-06-29T18:49:51.081256Z"
    },
    "hidden": true
   },
   "outputs": [],
   "source": [
    "from lib.viewer import *"
   ]
  },
  {
   "cell_type": "code",
   "execution_count": 32,
   "metadata": {
    "ExecuteTime": {
     "end_time": "2021-06-29T18:49:52.051547Z",
     "start_time": "2021-06-29T18:49:51.426480Z"
    },
    "hidden": true
   },
   "outputs": [
    {
     "name": "stdout",
     "output_type": "stream",
     "text": [
      "model is luo-rudy\n",
      "considering angles at times (tC,tB,tA)=(-2.0, -0.2, -0.025) milliseconds.\n"
     ]
    },
    {
     "data": {
      "image/png": "[encoded data removed]",
      "text/plain": [
       "<Figure size 504x288 with 3 Axes>"
      ]
     },
     "metadata": {
      "needs_background": "light"
     },
     "output_type": "display_data"
    }
   ],
   "source": [
    "import matplotlib.pyplot as plt\n",
    "import numpy as np\n",
    "\n",
    "\n",
    "# Construct figure and axis to plot on\n",
    "figsize=(7,4)\n",
    "fig, axs = plt.subplots(ncols=3, subplot_kw=dict(projection='polar'),figsize=figsize)\n",
    "\n",
    "# Visualise by area of bins\n",
    "for i,angles,color in zip(ax_lst,angle_lst,color_lst):\n",
    "    circular_hist(axs[i], x=angles,color=color,edgecolor=color,**kwargs)\n",
    "    axs[i].plot(x_values,np.sqrt(2)*y0+0.*x_values,'k--',lw=2,alpha=0.7)\n",
    "    axs[i].set_ylim([0,3*y0])\n",
    "plt.tight_layout()\n",
    "print(f'model is {modelname}')\n",
    "print(f\"considering angles at times (tC,tB,tA)={(-tC,-tB,-tA)} milliseconds.\")\n",
    "# print(f\"considering angles at times (tC,tB,tA)={(tC,tB,tA)} milliseconds.\")\n",
    "plt.show()"
   ]
  },
  {
   "cell_type": "code",
   "execution_count": 33,
   "metadata": {
    "ExecuteTime": {
     "end_time": "2021-06-29T18:50:12.614242Z",
     "start_time": "2021-06-29T18:50:12.437100Z"
    },
    "hidden": true
   },
   "outputs": [],
   "source": [
    "#LR results for DT = 0.5 ms\n",
    "# modelname='luo-rudy'\n",
    "#annihilations aggregated\n",
    "# input_fn=\"/home/timothytyree/Documents/GitHub/care/notebooks/Data/initial-conditions-suite-3-LR/param_qu_tmax_30_Ko_5.4_diffCoef_0.0005_dt_0.5/annihilations_minr_1.0_mindur_20.0.csv\"\n",
    "# # #creations aggregated\n",
    "# input_fn=\"/home/timothytyree/Documents/GitHub/care/notebooks/Data/initial-conditions-suite-3-LR/param_qu_tmax_30_Ko_5.4_diffCoef_0.0005_dt_0.5/creations_minr_1.0_mindur_20.0.csv\"\n",
    "\n",
    "\n",
    "# #LR results for DT = 0.025 ms\n",
    "#annihilations aggregated\n",
    "# input_fn='/home/timothytyree/Documents/GitHub/care/notebooks/Data/initial-conditions-suite-3-LR/param_qu_tmax_30_Ko_5.4_diffCoef_0.0005_dt_0.025/annihilations_minr_1.0_mindur_20.0.csv'\n",
    "# # #creations aggregated\n",
    "input_fn='/home/timothytyree/Documents/GitHub/care/notebooks/Data/initial-conditions-suite-3-LR/param_qu_tmax_30_Ko_5.4_diffCoef_0.0005_dt_0.025/creations_minr_1.0_mindur_20.0.csv'\n",
    "\n",
    "\n",
    "# #FK results for DT = 0.4 ms\n",
    "# #annihilations aggregated\n",
    "# input_fn=\"/home/timothytyree/Documents/GitHub/care/notebooks/Data/initial-conditions-fk-200x200/param_set_8_ds_5.0_tmax_10_diffCoef_0.0005/annihilations_minr_1.0_mindur_20.0.csv\"\n",
    "# # #creations aggregated\n",
    "# input_fn=\"/home/timothytyree/Documents/GitHub/care/notebooks/Data/initial-conditions-fk-200x200/param_set_8_ds_5.0_tmax_10_diffCoef_0.0005/creations_minr_1.0_mindur_20.0.csv\"\n",
    "\n",
    "# input_fn=search_for_file()\n",
    "# input_fn=\"/home/timothytyree/Documents/GitHub/care/notebooks/Data/initial-conditions-suite-3-LR/param_qu_tmax_30_Ko_3.8_diffCoef_0.0005/annihilations/ic001.21_traj_sr_600_mem_0_annihilations.csv\"\n",
    "df=pd.read_csv(input_fn)\n",
    "# df.head()"
   ]
  },
  {
   "cell_type": "code",
   "execution_count": 34,
   "metadata": {
    "ExecuteTime": {
     "end_time": "2021-06-29T18:50:13.319210Z",
     "start_time": "2021-06-29T18:50:13.264674Z"
    },
    "hidden": true
   },
   "outputs": [
    {
     "name": "stdout",
     "output_type": "stream",
     "text": [
      "considering angles at times (tA,tB,tC)=(0.025, 0.2, 2.0) milliseconds.\n"
     ]
    }
   ],
   "source": [
    "#slice df to a given tbirth\n",
    "t_values=sorted(set(df.tbirth.values))\n",
    "\n",
    "# #FK\n",
    "# tA=t_values[0]#.4\n",
    "# tB=t_values[9]#4.\n",
    "# tC=t_values[49]#20.\n",
    "#LR\n",
    "tA=t_values[0]\n",
    "tB=t_values[7]\n",
    "tC=t_values[79]#15]#39]\n",
    "\n",
    "print(f\"considering angles at times (tA,tB,tC)={(tA,tB,tC)} milliseconds.\")\n",
    "\n",
    "anglesA=df[df.tbirth==tA].theta.values\n",
    "anglesB=df[df.tbirth==tB].theta.values\n",
    "anglesC=df[df.tbirth==tC].theta.values\n",
    "\n",
    "ax_lst=[0,1,2]\n",
    "color_lst=[c,c,c]\n",
    "# color_lst=['C0','C1','C2']\n",
    "angle_lst=[anglesA,anglesB,anglesC]"
   ]
  },
  {
   "cell_type": "code",
   "execution_count": 35,
   "metadata": {
    "ExecuteTime": {
     "end_time": "2021-06-29T18:50:16.592674Z",
     "start_time": "2021-06-29T18:50:16.568039Z"
    },
    "hidden": true
   },
   "outputs": [],
   "source": [
    "kwargs={\n",
    "    'symmetrize':symmetrize,\n",
    "    'density':density,\n",
    "    'bins':bins,\n",
    "    'alpha':0.4\n",
    "}\n",
    "\n",
    "x_values=np.linspace(0,2*np.pi,50)\n",
    "if density:\n",
    "    y0=1/(bins * np.pi)**0.5\n",
    "else:\n",
    "    y0=1/(bins)*angles.size"
   ]
  },
  {
   "cell_type": "code",
   "execution_count": 36,
   "metadata": {
    "ExecuteTime": {
     "end_time": "2021-06-29T18:50:17.911336Z",
     "start_time": "2021-06-29T18:50:17.889182Z"
    },
    "hidden": true
   },
   "outputs": [
    {
     "name": "stdout",
     "output_type": "stream",
     "text": [
      "the number of events considered is 114.\n"
     ]
    }
   ],
   "source": [
    "print(f\"the number of events considered is {anglesA.shape[0]}.\")"
   ]
  },
  {
   "cell_type": "code",
   "execution_count": 37,
   "metadata": {
    "ExecuteTime": {
     "end_time": "2021-06-29T18:50:19.210679Z",
     "start_time": "2021-06-29T18:50:18.631711Z"
    },
    "hidden": true
   },
   "outputs": [
    {
     "name": "stdout",
     "output_type": "stream",
     "text": [
      "model is luo-rudy\n",
      "considering angles at times (tA,tB,tC)=(0.025, 0.2, 2.0) milliseconds.\n"
     ]
    },
    {
     "data": {
      "image/png": "[encoded data removed]",
      "text/plain": [
       "<Figure size 504x288 with 3 Axes>"
      ]
     },
     "metadata": {
      "needs_background": "light"
     },
     "output_type": "display_data"
    }
   ],
   "source": [
    "figsize=(7,4)\n",
    "fig, axs = plt.subplots(ncols=3, subplot_kw=dict(projection='polar'),figsize=figsize)\n",
    "\n",
    "# Visualise by area of bins\n",
    "for i,angles,color in zip(ax_lst,angle_lst,color_lst):\n",
    "    circular_hist(axs[i], x=angles,color=color,edgecolor=color,**kwargs)\n",
    "    axs[i].plot(x_values,np.sqrt(2)*y0+0.*x_values,'k--',lw=2,alpha=0.7)\n",
    "    axs[i].set_ylim([0,2*y0])\n",
    "plt.tight_layout()\n",
    "print(f'model is {modelname}')\n",
    "print(f\"considering angles at times (tA,tB,tC)={(tA,tB,tC)} milliseconds.\")\n",
    "plt.show()"
   ]
  },
  {
   "cell_type": "markdown",
   "metadata": {
    "heading_collapsed": true
   },
   "source": [
    "## Fenton-Karma"
   ]
  },
  {
   "cell_type": "code",
   "execution_count": 55,
   "metadata": {
    "ExecuteTime": {
     "end_time": "2021-07-10T01:43:01.315877Z",
     "start_time": "2021-07-10T01:42:50.763213Z"
    },
    "hidden": true
   },
   "outputs": [
    {
     "data": {
      "text/html": [
       "<div>\n",
       "<style scoped>\n",
       "    .dataframe tbody tr th:only-of-type {\n",
       "        vertical-align: middle;\n",
       "    }\n",
       "\n",
       "    .dataframe tbody tr th {\n",
       "        vertical-align: top;\n",
       "    }\n",
       "\n",
       "    .dataframe thead th {\n",
       "        text-align: right;\n",
       "    }\n",
       "</style>\n",
       "<table border=\"1\" class=\"dataframe\">\n",
       "  <thead>\n",
       "    <tr style=\"text-align: right;\">\n",
       "      <th></th>\n",
       "      <th>pid</th>\n",
       "      <th>pid_deathmate</th>\n",
       "      <th>tdeath</th>\n",
       "      <th>phi1</th>\n",
       "      <th>phi2</th>\n",
       "      <th>phi_sum</th>\n",
       "      <th>phi_diff</th>\n",
       "      <th>r</th>\n",
       "      <th>theta</th>\n",
       "    </tr>\n",
       "  </thead>\n",
       "  <tbody>\n",
       "    <tr>\n",
       "      <th>0</th>\n",
       "      <td>43</td>\n",
       "      <td>40</td>\n",
       "      <td>94.850</td>\n",
       "      <td>0.955973</td>\n",
       "      <td>1.256336</td>\n",
       "      <td>2.212309</td>\n",
       "      <td>0.300363</td>\n",
       "      <td>2.315152</td>\n",
       "      <td>2.185235</td>\n",
       "    </tr>\n",
       "    <tr>\n",
       "      <th>1</th>\n",
       "      <td>43</td>\n",
       "      <td>40</td>\n",
       "      <td>94.825</td>\n",
       "      <td>0.941137</td>\n",
       "      <td>1.262894</td>\n",
       "      <td>2.204032</td>\n",
       "      <td>0.321757</td>\n",
       "      <td>2.322729</td>\n",
       "      <td>2.189928</td>\n",
       "    </tr>\n",
       "    <tr>\n",
       "      <th>2</th>\n",
       "      <td>43</td>\n",
       "      <td>40</td>\n",
       "      <td>94.800</td>\n",
       "      <td>0.937732</td>\n",
       "      <td>1.268565</td>\n",
       "      <td>2.206297</td>\n",
       "      <td>0.330833</td>\n",
       "      <td>2.329046</td>\n",
       "      <td>2.203861</td>\n",
       "    </tr>\n",
       "    <tr>\n",
       "      <th>3</th>\n",
       "      <td>43</td>\n",
       "      <td>40</td>\n",
       "      <td>94.775</td>\n",
       "      <td>0.932547</td>\n",
       "      <td>1.273981</td>\n",
       "      <td>2.206528</td>\n",
       "      <td>0.341434</td>\n",
       "      <td>2.334989</td>\n",
       "      <td>2.207634</td>\n",
       "    </tr>\n",
       "    <tr>\n",
       "      <th>4</th>\n",
       "      <td>43</td>\n",
       "      <td>40</td>\n",
       "      <td>94.750</td>\n",
       "      <td>0.929888</td>\n",
       "      <td>1.278925</td>\n",
       "      <td>2.208813</td>\n",
       "      <td>0.349036</td>\n",
       "      <td>2.340173</td>\n",
       "      <td>2.211704</td>\n",
       "    </tr>\n",
       "  </tbody>\n",
       "</table>\n",
       "</div>"
      ],
      "text/plain": [
       "   pid  pid_deathmate  tdeath      phi1      phi2   phi_sum  phi_diff  \\\n",
       "0   43             40  94.850  0.955973  1.256336  2.212309  0.300363   \n",
       "1   43             40  94.825  0.941137  1.262894  2.204032  0.321757   \n",
       "2   43             40  94.800  0.937732  1.268565  2.206297  0.330833   \n",
       "3   43             40  94.775  0.932547  1.273981  2.206528  0.341434   \n",
       "4   43             40  94.750  0.929888  1.278925  2.208813  0.349036   \n",
       "\n",
       "          r     theta  \n",
       "0  2.315152  2.185235  \n",
       "1  2.322729  2.189928  \n",
       "2  2.329046  2.203861  \n",
       "3  2.334989  2.207634  \n",
       "4  2.340173  2.211704  "
      ]
     },
     "execution_count": 55,
     "metadata": {},
     "output_type": "execute_result"
    }
   ],
   "source": [
    "#LR results for DT = 0.5 ms\n",
    "modelname='fenton-karma'\n",
    "#annihilations aggregated\n",
    "# input_fn=\"/home/timothytyree/Documents/GitHub/care/notebooks/Data/initial-conditions-suite-3-LR/param_qu_tmax_30_Ko_5.4_diffCoef_0.0005_dt_0.5/annihilations_minr_1.0_mindur_20.0.csv\"\n",
    "# # #creations aggregated\n",
    "# input_fn=\"/home/timothytyree/Documents/GitHub/care/notebooks/Data/initial-conditions-suite-3-LR/param_qu_tmax_30_Ko_5.4_diffCoef_0.0005_dt_0.5/creations_minr_1.0_mindur_20.0.csv\"\n",
    "\n",
    "# #FK results for DT = 0.4 ms\n",
    "# #annihilations aggregated\n",
    "# input_fn=\"/home/timothytyree/Documents/GitHub/care/notebooks/Data/initial-conditions-fk-200x200/param_set_8_ds_5.0_tmax_10_diffCoef_0.0005/annihilations_minr_1.0_mindur_20.0.csv\"\n",
    "# # #creations aggregated\n",
    "# input_fn=\"/home/timothytyree/Documents/GitHub/care/notebooks/Data/initial-conditions-fk-200x200/param_set_8_ds_5.0_tmax_10_diffCoef_0.0005/creations_minr_1.0_mindur_20.0.csv\"\n",
    "\n",
    "\n",
    "input_fn=\"/home/timothytyree/Documents/GitHub/care/notebooks/Data/initial-conditions-fk-200x200/param_set_8_ds_5.0_tmax_30_diffCoef_0.001_dt_0.025/annihilations_minr_1.0_mindur_20.0.csv\"\n",
    "\n",
    "\n",
    "# input_fn=search_for_file()\n",
    "# input_fn=\"/home/timothytyree/Documents/GitHub/care/notebooks/Data/initial-conditions-suite-3-LR/param_qu_tmax_30_Ko_3.8_diffCoef_0.0005/annihilations/ic001.21_traj_sr_600_mem_0_annihilations.csv\"\n",
    "df=pd.read_csv(input_fn)\n",
    "df.head()"
   ]
  },
  {
   "cell_type": "code",
   "execution_count": 56,
   "metadata": {
    "ExecuteTime": {
     "end_time": "2021-07-10T01:43:06.473866Z",
     "start_time": "2021-07-10T01:43:04.104920Z"
    },
    "hidden": true
   },
   "outputs": [
    {
     "name": "stdout",
     "output_type": "stream",
     "text": [
      "considering angles at times (tA,tB,tC)=(0.025, 0.25, 2.5) milliseconds.\n"
     ]
    }
   ],
   "source": [
    "#slice df to a given tdeath\n",
    "t_values=sorted(set(df.tdeath.values))\n",
    "# t_values=sorted(set(df.tbirth.values))\n",
    "\n",
    "# #FK\n",
    "tA=t_values[0]#.4\n",
    "tB=t_values[9]#4.\n",
    "tC=t_values[99]#49]#20.\n",
    "# #LR\n",
    "# tA=t_values[0]\n",
    "# tB=t_values[7]\n",
    "# tC=t_values[79]#15]#39]\n",
    "\n",
    "print(f\"considering angles at times (tA,tB,tC)={(tA,tB,tC)} milliseconds.\")\n",
    "\n",
    "anglesA=df[df.tdeath==tA].theta.values\n",
    "anglesB=df[df.tdeath==tB].theta.values\n",
    "anglesC=df[df.tdeath==tC].theta.values\n",
    "\n",
    "# anglesA=df[df.tbirth==tA].theta.values\n",
    "# anglesB=df[df.tbirth==tB].theta.values\n",
    "# anglesC=df[df.tbirth==tC].theta.values\n",
    "\n",
    "\n",
    "ax_lst=[2,1,0]\n",
    "c='C0'\n",
    "color_lst=[c,c,c]\n",
    "# color_lst=['C0','C1','C2']\n",
    "angle_lst=[anglesA,anglesB,anglesC]"
   ]
  },
  {
   "cell_type": "code",
   "execution_count": 57,
   "metadata": {
    "ExecuteTime": {
     "end_time": "2021-07-10T01:43:10.188808Z",
     "start_time": "2021-07-10T01:43:10.056037Z"
    },
    "hidden": true
   },
   "outputs": [],
   "source": [
    "#angular histogram viewer from optical_flow\n",
    "# the area of each bin is proportional to the number of observations in it,\n",
    "bins=4*4\n",
    "symmetrize=False\n",
    "density=True"
   ]
  },
  {
   "cell_type": "code",
   "execution_count": 58,
   "metadata": {
    "ExecuteTime": {
     "end_time": "2021-07-10T01:43:14.605035Z",
     "start_time": "2021-07-10T01:43:14.475510Z"
    },
    "hidden": true
   },
   "outputs": [],
   "source": [
    "kwargs={\n",
    "    'symmetrize':symmetrize,\n",
    "    'density':density,\n",
    "    'bins':bins,\n",
    "    'alpha':0.4\n",
    "}\n",
    "\n",
    "x_values=np.linspace(0,2*np.pi,50)\n",
    "if density:\n",
    "    y0=1/(bins * np.pi)**0.5\n",
    "else:\n",
    "    y0=1/(bins)*angles.size"
   ]
  },
  {
   "cell_type": "code",
   "execution_count": 59,
   "metadata": {
    "ExecuteTime": {
     "end_time": "2021-07-10T01:43:18.923882Z",
     "start_time": "2021-07-10T01:43:18.831889Z"
    },
    "hidden": true
   },
   "outputs": [
    {
     "name": "stdout",
     "output_type": "stream",
     "text": [
      "the number of events considered is 289.\n"
     ]
    }
   ],
   "source": [
    "print(f\"the number of events considered is {anglesA.shape[0]}.\")"
   ]
  },
  {
   "cell_type": "code",
   "execution_count": 60,
   "metadata": {
    "ExecuteTime": {
     "end_time": "2021-07-10T01:43:31.175972Z",
     "start_time": "2021-07-10T01:43:31.063112Z"
    },
    "hidden": true
   },
   "outputs": [],
   "source": [
    "from lib.viewer import *"
   ]
  },
  {
   "cell_type": "code",
   "execution_count": 61,
   "metadata": {
    "ExecuteTime": {
     "end_time": "2021-07-10T01:43:38.679985Z",
     "start_time": "2021-07-10T01:43:36.213188Z"
    },
    "hidden": true
   },
   "outputs": [
    {
     "name": "stdout",
     "output_type": "stream",
     "text": [
      "model is fenton-karma\n",
      "considering angles at times (tC,tB,tA)=(-2.5, -0.25, -0.025) milliseconds.\n"
     ]
    },
    {
     "data": {
      "image/png": "[encoded data removed]",
      "text/plain": [
       "<Figure size 504x288 with 3 Axes>"
      ]
     },
     "metadata": {
      "needs_background": "light"
     },
     "output_type": "display_data"
    }
   ],
   "source": [
    "import matplotlib.pyplot as plt\n",
    "import numpy as np\n",
    "\n",
    "\n",
    "# Construct figure and axis to plot on\n",
    "figsize=(7,4)\n",
    "fig, axs = plt.subplots(ncols=3, subplot_kw=dict(projection='polar'),figsize=figsize)\n",
    "\n",
    "# Visualise by area of bins\n",
    "for i,angles,color in zip(ax_lst,angle_lst,color_lst):\n",
    "    circular_hist(axs[i], x=angles,color=color,edgecolor=color,**kwargs)\n",
    "    axs[i].plot(x_values,np.sqrt(2)*y0+0.*x_values,'k--',lw=2,alpha=0.7)\n",
    "    axs[i].set_ylim([0,2*y0])\n",
    "plt.tight_layout()\n",
    "print(f'model is {modelname}')\n",
    "print(f\"considering angles at times (tC,tB,tA)={(-tC,-tB,-tA)} milliseconds.\")\n",
    "# print(f\"considering angles at times (tC,tB,tA)={(tC,tB,tA)} milliseconds.\")\n",
    "plt.show()"
   ]
  },
  {
   "cell_type": "code",
   "execution_count": 26,
   "metadata": {
    "ExecuteTime": {
     "end_time": "2021-06-26T03:19:09.610767Z",
     "start_time": "2021-06-26T03:19:07.834238Z"
    },
    "hidden": true
   },
   "outputs": [],
   "source": [
    "#LR results for DT = 0.5 ms\n",
    "# modelname='luo-rudy'\n",
    "#annihilations aggregated\n",
    "# input_fn=\"/home/timothytyree/Documents/GitHub/care/notebooks/Data/initial-conditions-suite-3-LR/param_qu_tmax_30_Ko_5.4_diffCoef_0.0005_dt_0.5/annihilations_minr_1.0_mindur_20.0.csv\"\n",
    "# # #creations aggregated\n",
    "# input_fn=\"/home/timothytyree/Documents/GitHub/care/notebooks/Data/initial-conditions-suite-3-LR/param_qu_tmax_30_Ko_5.4_diffCoef_0.0005_dt_0.5/creations_minr_1.0_mindur_20.0.csv\"\n",
    "\n",
    "# #FK results for DT = 0.4 ms\n",
    "# #annihilations aggregated\n",
    "# input_fn=\"/home/timothytyree/Documents/GitHub/care/notebooks/Data/initial-conditions-fk-200x200/param_set_8_ds_5.0_tmax_10_diffCoef_0.0005/annihilations_minr_1.0_mindur_20.0.csv\"\n",
    "# # #creations aggregated\n",
    "input_fn=\"/home/timothytyree/Documents/GitHub/care/notebooks/Data/initial-conditions-fk-200x200/param_set_8_ds_5.0_tmax_10_diffCoef_0.0005/creations_minr_1.0_mindur_20.0.csv\"\n",
    "\n",
    "# input_fn=search_for_file()\n",
    "# input_fn=\"/home/timothytyree/Documents/GitHub/care/notebooks/Data/initial-conditions-suite-3-LR/param_qu_tmax_30_Ko_3.8_diffCoef_0.0005/annihilations/ic001.21_traj_sr_600_mem_0_annihilations.csv\"\n",
    "df=pd.read_csv(input_fn)\n",
    "# df.head()"
   ]
  },
  {
   "cell_type": "code",
   "execution_count": 27,
   "metadata": {
    "ExecuteTime": {
     "end_time": "2021-06-26T03:19:10.085408Z",
     "start_time": "2021-06-26T03:19:09.611817Z"
    },
    "hidden": true
   },
   "outputs": [
    {
     "name": "stdout",
     "output_type": "stream",
     "text": [
      "considering angles at times (tA,tB,tC)=(0.4, 4.0, 40.0) milliseconds.\n"
     ]
    }
   ],
   "source": [
    "#slice df to a given tbirth\n",
    "t_values=sorted(set(df.tbirth.values))\n",
    "\n",
    "# #FK\n",
    "# tA=t_values[0]#.4\n",
    "# tB=t_values[9]#4.\n",
    "# tC=t_values[49]#20.\n",
    "# #LR\n",
    "# tA=t_values[0]\n",
    "# tB=t_values[7]\n",
    "# tC=t_values[79]#15]#39]\n",
    "\n",
    "print(f\"considering angles at times (tA,tB,tC)={(tA,tB,tC)} milliseconds.\")\n",
    "\n",
    "anglesA=df[df.tbirth==tA].theta.values\n",
    "anglesB=df[df.tbirth==tB].theta.values\n",
    "anglesC=df[df.tbirth==tC].theta.values\n",
    "\n",
    "ax_lst=[0,1,2]\n",
    "color_lst=[c,c,c]\n",
    "# color_lst=['C0','C1','C2']\n",
    "angle_lst=[anglesA,anglesB,anglesC]"
   ]
  },
  {
   "cell_type": "code",
   "execution_count": 28,
   "metadata": {
    "ExecuteTime": {
     "end_time": "2021-06-26T03:19:10.101706Z",
     "start_time": "2021-06-26T03:19:10.086298Z"
    },
    "hidden": true
   },
   "outputs": [],
   "source": [
    "kwargs={\n",
    "    'symmetrize':symmetrize,\n",
    "    'density':density,\n",
    "    'bins':bins,\n",
    "    'alpha':0.4\n",
    "}\n",
    "\n",
    "x_values=np.linspace(0,2*np.pi,50)\n",
    "if density:\n",
    "    y0=1/(bins * np.pi)**0.5\n",
    "else:\n",
    "    y0=1/(bins)*angles.size"
   ]
  },
  {
   "cell_type": "code",
   "execution_count": 29,
   "metadata": {
    "ExecuteTime": {
     "end_time": "2021-06-26T03:19:10.119110Z",
     "start_time": "2021-06-26T03:19:10.103036Z"
    },
    "hidden": true
   },
   "outputs": [
    {
     "name": "stdout",
     "output_type": "stream",
     "text": [
      "the number of events considered is 7866.\n"
     ]
    }
   ],
   "source": [
    "print(f\"the number of events considered is {anglesA.shape[0]}.\")"
   ]
  },
  {
   "cell_type": "code",
   "execution_count": 30,
   "metadata": {
    "ExecuteTime": {
     "end_time": "2021-06-26T03:19:10.535848Z",
     "start_time": "2021-06-26T03:19:10.120212Z"
    },
    "hidden": true
   },
   "outputs": [
    {
     "name": "stdout",
     "output_type": "stream",
     "text": [
      "model is fenton-karma\n",
      "considering angles at times (tA,tB,tC)=(0.4, 4.0, 40.0) milliseconds.\n"
     ]
    },
    {
     "data": {
      "image/png": "[encoded data removed]",
      "text/plain": [
       "<Figure size 504x288 with 3 Axes>"
      ]
     },
     "metadata": {
      "needs_background": "light"
     },
     "output_type": "display_data"
    }
   ],
   "source": [
    "figsize=(7,4)\n",
    "fig, axs = plt.subplots(ncols=3, subplot_kw=dict(projection='polar'),figsize=figsize)\n",
    "\n",
    "# Visualise by area of bins\n",
    "for i,angles,color in zip(ax_lst,angle_lst,color_lst):\n",
    "    circular_hist(axs[i], x=angles,color=color,edgecolor=color,**kwargs)\n",
    "    axs[i].plot(x_values,np.sqrt(2)*y0+0.*x_values,'k--',lw=2,alpha=0.7)\n",
    "    axs[i].set_ylim([0,2*y0])\n",
    "plt.tight_layout()\n",
    "print(f'model is {modelname}')\n",
    "print(f\"considering angles at times (tA,tB,tC)={(tA,tB,tC)} milliseconds.\")\n",
    "plt.show()"
   ]
  },
  {
   "cell_type": "markdown",
   "metadata": {
    "heading_collapsed": true
   },
   "source": [
    "# overlay angular histograms for the Luo-Rudy and Fenton-Karma models."
   ]
  },
  {
   "cell_type": "markdown",
   "metadata": {
    "heading_collapsed": true,
    "hidden": true
   },
   "source": [
    "### for annihilations"
   ]
  },
  {
   "cell_type": "code",
   "execution_count": 31,
   "metadata": {
    "ExecuteTime": {
     "end_time": "2021-06-26T03:19:10.550136Z",
     "start_time": "2021-06-26T03:19:10.536883Z"
    },
    "hidden": true
   },
   "outputs": [],
   "source": [
    "#DONE: verified that fenton-karma is blue\n",
    "#DONE: get all annihilation angles in one place\n",
    "#DONE: overlay\n",
    "#DONE: get all annihilation angles in one place\n",
    "#DONE: overlay"
   ]
  },
  {
   "cell_type": "code",
   "execution_count": 4,
   "metadata": {
    "ExecuteTime": {
     "end_time": "2021-07-06T17:29:37.609065Z",
     "start_time": "2021-07-06T17:29:31.900239Z"
    },
    "hidden": true
   },
   "outputs": [
    {
     "name": "stdout",
     "output_type": "stream",
     "text": [
      "considering angles at times (-20, -4, -0.4) milliseconds (LR).\n",
      "considering angles at times (-20, -4, -0.4) milliseconds (FK).\n"
     ]
    }
   ],
   "source": [
    "#times of 3 snapshots\n",
    "tA=.4\n",
    "tB=4\n",
    "tC=20\n",
    "\n",
    "#LR results for DT = 0.5 ms\n",
    "# modelname='luo-rudy'\n",
    "#annihilations aggregated\n",
    "# input_fn=\"/home/timothytyree/Documents/GitHub/care/notebooks/Data/initial-conditions-suite-3-LR/param_qu_tmax_30_Ko_5.4_diffCoef_0.0005_dt_0.5/annihilations_minr_1.0_mindur_20.0.csv\"\n",
    "# df_lr=pd.read_csv(input_fn)\n",
    "\n",
    "# #LR results for DT = 0.025 ms\n",
    "#annihilations aggregated\n",
    "input_fn='/home/timothytyree/Documents/GitHub/care/notebooks/Data/initial-conditions-suite-3-LR/param_qu_tmax_30_Ko_5.4_diffCoef_0.0005_dt_0.025/annihilations_minr_1.0_mindur_20.0.csv'\n",
    "# # #creations aggregated\n",
    "# input_fn='/home/timothytyree/Documents/GitHub/care/notebooks/Data/initial-conditions-suite-3-LR/param_qu_tmax_30_Ko_5.4_diffCoef_0.0005_dt_0.025/creations_minr_1.0_mindur_20.0.csv'\n",
    "\n",
    "df_lr=pd.read_csv(input_fn)\n",
    "# #FK results for DT = 0.4 ms\n",
    "# #annihilations aggregated\n",
    "input_fn=\"/home/timothytyree/Documents/GitHub/care/notebooks/Data/initial-conditions-fk-200x200/param_set_8_ds_5.0_tmax_10_diffCoef_0.0005/annihilations_minr_1.0_mindur_20.0.csv\"\n",
    "df_fk=pd.read_csv(input_fn)\n",
    "\n",
    "# input_fn=search_for_file()\n",
    "\n",
    "#TODO: make outputs simultaneously visible for LR and FK results (dt=0.5,0.4, respectively)\n",
    "\n",
    "#slice df to a given tdeath\n",
    "df=df_lr.copy()\n",
    "t_values=sorted(set(df.tdeath.values))\n",
    "# t_values=sorted(set(df.tbirth.values))\n",
    "\n",
    "# #LR\n",
    "# tA=t_values[0]\n",
    "# tB=t_values[7]\n",
    "# tC=t_values[79]#15]#39]\n",
    "\n",
    "string=f\"considering angles at times {(-tC,-tB,-tA)} milliseconds (LR).\"\n",
    "print(string)\n",
    "string_LR=string\n",
    "\n",
    "anglesA=df[df.tdeath==tA].theta.values\n",
    "anglesB=df[df.tdeath==tB].theta.values\n",
    "anglesC=df[df.tdeath==tC].theta.values\n",
    "\n",
    "# anglesA=df[df.tbirth==tA].theta.values\n",
    "# anglesB=df[df.tbirth==tB].theta.values\n",
    "# anglesC=df[df.tbirth==tC].theta.values\n",
    "\n",
    "angle_lst=[anglesA,anglesB,anglesC]\n",
    "angle_lst_LR=angle_lst\n",
    "\n",
    "#slice df to a given tdeath\n",
    "df=df_fk.copy()\n",
    "t_values=sorted(set(df.tdeath.values))\n",
    "# t_values=sorted(set(df.tbirth.values))\n",
    "\n",
    "# #FK\n",
    "# tA=0.4#t_values[0]#.4\n",
    "# tB=4.#t_values[9]#4.\n",
    "# tC=40#t_values[99]#20.\n",
    "\n",
    "string=f\"considering angles at times {(-tC,-tB,-tA)} milliseconds (FK).\"\n",
    "print(string)\n",
    "string_FK=string\n",
    "\n",
    "anglesA=df[df.tdeath==tA].theta.values\n",
    "anglesB=df[df.tdeath==tB].theta.values\n",
    "anglesC=df[df.tdeath==tC].theta.values\n",
    "\n",
    "# anglesA=df[df.tbirth==tA].theta.values\n",
    "# anglesB=df[df.tbirth==tB].theta.values\n",
    "# anglesC=df[df.tbirth==tC].theta.values\n",
    "\n",
    "ax_lst=[2,1,0]\n",
    "angle_lst=[anglesA,anglesB,anglesC]\n",
    "angle_lst_FK=angle_lst"
   ]
  },
  {
   "cell_type": "code",
   "execution_count": 280,
   "metadata": {
    "ExecuteTime": {
     "end_time": "2021-06-30T19:52:20.463117Z",
     "start_time": "2021-06-30T19:52:20.439926Z"
    },
    "hidden": true
   },
   "outputs": [],
   "source": [
    "#angular histogram viewer from optical_flow\n",
    "# the area of each bin is proportional to the number of observations in it,\n",
    "bins=4*2\n",
    "symmetrize=False\n",
    "density=True"
   ]
  },
  {
   "cell_type": "code",
   "execution_count": 281,
   "metadata": {
    "ExecuteTime": {
     "end_time": "2021-06-30T19:52:20.902627Z",
     "start_time": "2021-06-30T19:52:20.875693Z"
    },
    "hidden": true
   },
   "outputs": [],
   "source": [
    "kwargs={\n",
    "    'symmetrize':symmetrize,\n",
    "    'density':density,\n",
    "    'bins':bins,\n",
    "    'alpha':0.4\n",
    "}\n",
    "\n",
    "x_values=np.linspace(0,2*np.pi,50)\n",
    "if density:\n",
    "    y0=1/(bins * np.pi)**0.5\n",
    "else:\n",
    "    y0=1/(bins)*angles.size"
   ]
  },
  {
   "cell_type": "code",
   "execution_count": 282,
   "metadata": {
    "ExecuteTime": {
     "end_time": "2021-06-30T19:52:21.205346Z",
     "start_time": "2021-06-30T19:52:21.187509Z"
    },
    "hidden": true
   },
   "outputs": [
    {
     "name": "stdout",
     "output_type": "stream",
     "text": [
      "the number of events considered is 3010. (FK)\n",
      "the number of events considered is 12. (LR)\n"
     ]
    }
   ],
   "source": [
    "print(f\"the number of events considered is {angle_lst_FK[0].shape[0]}. (FK)\")\n",
    "print(f\"the number of events considered is {angle_lst_LR[0].shape[0]}. (LR)\")"
   ]
  },
  {
   "cell_type": "code",
   "execution_count": 283,
   "metadata": {
    "ExecuteTime": {
     "end_time": "2021-06-30T19:52:22.241259Z",
     "start_time": "2021-06-30T19:52:21.692467Z"
    },
    "hidden": true,
    "scrolled": true
   },
   "outputs": [
    {
     "name": "stdout",
     "output_type": "stream",
     "text": [
      "these are annihilations for FK (blue) and LR (orange)\n",
      "considering angles at the times:\n",
      "considering angles at times (-20, -4, -0.4) milliseconds (FK).\n",
      "considering angles at times (-20, -4, -0.4) milliseconds (LR).\n",
      "the number of events considered is 3010. (FK)\n",
      "the number of events considered is 12. (LR)\n"
     ]
    },
    {
     "data": {
      "image/png": "[encoded data removed]",
      "text/plain": [
       "<Figure size 504x288 with 3 Axes>"
      ]
     },
     "metadata": {
      "needs_background": "light"
     },
     "output_type": "display_data"
    }
   ],
   "source": [
    "#visualise by area of bins\n",
    "figsize=(7,4)\n",
    "fig, axs = plt.subplots(ncols=3, subplot_kw=dict(projection='polar'),figsize=figsize)\n",
    "for i,angles in zip(ax_lst,angle_lst_LR):\n",
    "    circular_hist(axs[i], x=angles,color='C1',edgecolor='C1',**kwargs)\n",
    "    \n",
    "for i,angles in zip(ax_lst,angle_lst_FK):\n",
    "    circular_hist(axs[i], x=angles,color='C0',edgecolor='C0',**kwargs)\n",
    "\n",
    "for i in ax_lst:\n",
    "    axs[i].plot(x_values,np.sqrt(2)*y0+0.*x_values,'k--',lw=2,alpha=0.7)\n",
    "    axs[i].set_ylim([0,4*y0])\n",
    "    \n",
    "#print bluf\n",
    "print(f'these are annihilations for FK (blue) and LR (orange)')\n",
    "print(f\"considering angles at the times:\")\n",
    "print(string_FK)\n",
    "print(string_LR)\n",
    "print(f\"the number of events considered is {angle_lst_FK[0].shape[0]}. (FK)\")\n",
    "print(f\"the number of events considered is {angle_lst_LR[0].shape[0]}. (LR)\")\n",
    "# print(f\"considering angles at times (tC,tB,tA)={(tC,tB,tA)} milliseconds.\")\n",
    "plt.tight_layout()\n",
    "plt.show()"
   ]
  },
  {
   "cell_type": "markdown",
   "metadata": {
    "heading_collapsed": true,
    "hidden": true
   },
   "source": [
    "### repeat for creations"
   ]
  },
  {
   "cell_type": "code",
   "execution_count": 220,
   "metadata": {
    "ExecuteTime": {
     "end_time": "2021-06-30T19:43:08.990123Z",
     "start_time": "2021-06-30T19:43:06.840961Z"
    },
    "hidden": true
   },
   "outputs": [],
   "source": [
    "# #FK results for DT = 0.4 ms\n",
    "# # #creations aggregated\n",
    "input_fn=\"/home/timothytyree/Documents/GitHub/care/notebooks/Data/initial-conditions-fk-200x200/param_set_8_ds_5.0_tmax_10_diffCoef_0.0005/creations_minr_1.0_mindur_20.0.csv\"\n",
    "df_fk=pd.read_csv(input_fn)\n",
    "\n",
    "#LR results for DT = 0.5 ms\n",
    "#creations aggregated\n",
    "input_fn=\"/home/timothytyree/Documents/GitHub/care/notebooks/Data/initial-conditions-suite-3-LR/param_qu_tmax_30_Ko_5.4_diffCoef_0.0005_dt_0.5/creations_minr_1.0_mindur_20.0.csv\"\n",
    "df_lr=pd.read_csv(input_fn)"
   ]
  },
  {
   "cell_type": "code",
   "execution_count": 44,
   "metadata": {
    "ExecuteTime": {
     "end_time": "2021-06-29T18:51:46.524658Z",
     "start_time": "2021-06-29T18:51:46.491610Z"
    },
    "hidden": true
   },
   "outputs": [],
   "source": [
    "#TODO: make outputs simultaneously visible for LR and FK results (dt=0.5,0.4, respectively)"
   ]
  },
  {
   "cell_type": "code",
   "execution_count": 221,
   "metadata": {
    "ExecuteTime": {
     "end_time": "2021-06-30T19:43:12.066557Z",
     "start_time": "2021-06-30T19:43:11.436399Z"
    },
    "hidden": true
   },
   "outputs": [
    {
     "name": "stdout",
     "output_type": "stream",
     "text": [
      "considering angles at times (0.5, 4.0, 40.0) milliseconds (LR).\n",
      "considering angles at times (0.4, 4.0, 40.0) milliseconds (FK).\n"
     ]
    }
   ],
   "source": [
    "#slice df to a given tdeath\n",
    "df=df_lr\n",
    "# t_values=sorted(set(df.tdeath.values))\n",
    "t_values=sorted(set(df.tbirth.values))\n",
    "\n",
    "#LR\n",
    "tA=t_values[0]\n",
    "tB=t_values[7]\n",
    "tC=t_values[79]#15]#39]\n",
    "\n",
    "string=f\"considering angles at times {(tA,tB,tC)} milliseconds (LR).\"\n",
    "print(string)\n",
    "string_LR=string\n",
    "\n",
    "# anglesA=df[df.tdeath==tA].theta.values\n",
    "# anglesB=df[df.tdeath==tB].theta.values\n",
    "# anglesC=df[df.tdeath==tC].theta.values\n",
    "\n",
    "anglesA=df[df.tbirth==tA].theta.values\n",
    "anglesB=df[df.tbirth==tB].theta.values\n",
    "anglesC=df[df.tbirth==tC].theta.values\n",
    "\n",
    "angle_lst=[anglesA,anglesB,anglesC]\n",
    "angle_lst_FK=angle_lst\n",
    "\n",
    "#slice df to a given tdeath\n",
    "df=df_fk\n",
    "# t_values=sorted(set(df.tdeath.values))\n",
    "t_values=sorted(set(df.tbirth.values))\n",
    "\n",
    "#FK\n",
    "tA=t_values[0]#.4\n",
    "tB=t_values[9]#4.\n",
    "tC=t_values[99]#20.\n",
    "\n",
    "string=f\"considering angles at times {(tA,tB,tC)} milliseconds (FK).\"\n",
    "print(string)\n",
    "string_FK=string\n",
    "\n",
    "# anglesA=df[df.tdeath==tA].theta.values\n",
    "# anglesB=df[df.tdeath==tB].theta.values\n",
    "# anglesC=df[df.tdeath==tC].theta.values\n",
    "\n",
    "anglesA=df[df.tbirth==tA].theta.values\n",
    "anglesB=df[df.tbirth==tB].theta.values\n",
    "anglesC=df[df.tbirth==tC].theta.values\n",
    "\n",
    "ax_lst=[0,1,2]\n",
    "angle_lst=[anglesA,anglesB,anglesC]\n",
    "angle_lst_LR=angle_lst"
   ]
  },
  {
   "cell_type": "code",
   "execution_count": 222,
   "metadata": {
    "ExecuteTime": {
     "end_time": "2021-06-30T19:43:12.165574Z",
     "start_time": "2021-06-30T19:43:12.139299Z"
    },
    "hidden": true
   },
   "outputs": [],
   "source": [
    "#angular histogram viewer from optical_flow\n",
    "# the area of each bin is proportional to the number of observations in it,\n",
    "bins=4*4\n",
    "symmetrize=False\n",
    "density=True"
   ]
  },
  {
   "cell_type": "code",
   "execution_count": 223,
   "metadata": {
    "ExecuteTime": {
     "end_time": "2021-06-30T19:43:12.301266Z",
     "start_time": "2021-06-30T19:43:12.273463Z"
    },
    "hidden": true
   },
   "outputs": [],
   "source": [
    "kwargs={\n",
    "    'symmetrize':symmetrize,\n",
    "    'density':density,\n",
    "    'bins':bins,\n",
    "    'alpha':0.4\n",
    "}\n",
    "\n",
    "x_values=np.linspace(0,2*np.pi,50)\n",
    "if density:\n",
    "    y0=1/(bins * np.pi)**0.5\n",
    "else:\n",
    "    y0=1/(bins)*angles.size"
   ]
  },
  {
   "cell_type": "code",
   "execution_count": 224,
   "metadata": {
    "ExecuteTime": {
     "end_time": "2021-06-30T19:43:12.798542Z",
     "start_time": "2021-06-30T19:43:12.773232Z"
    },
    "hidden": true
   },
   "outputs": [
    {
     "name": "stdout",
     "output_type": "stream",
     "text": [
      "the number of events considered is 3853. (FK)\n",
      "the number of events considered is 7866. (LR)\n"
     ]
    }
   ],
   "source": [
    "print(f\"the number of events considered is {angle_lst_FK[0].shape[0]}. (FK)\")\n",
    "print(f\"the number of events considered is {angle_lst_LR[0].shape[0]}. (LR)\")"
   ]
  },
  {
   "cell_type": "code",
   "execution_count": 225,
   "metadata": {
    "ExecuteTime": {
     "end_time": "2021-06-30T19:43:14.143002Z",
     "start_time": "2021-06-30T19:43:13.346263Z"
    },
    "hidden": true
   },
   "outputs": [
    {
     "name": "stdout",
     "output_type": "stream",
     "text": [
      "these are creations for FK (blue) and LR (orange)\n",
      "considering angles at the times:\n",
      "considering angles at times (0.4, 4.0, 40.0) milliseconds (FK).\n",
      "considering angles at times (0.5, 4.0, 40.0) milliseconds (LR).\n",
      "the number of events considered is 3853. (FK)\n",
      "the number of events considered is 7866. (LR)\n"
     ]
    },
    {
     "data": {
      "image/png": "[encoded data removed]",
      "text/plain": [
       "<Figure size 504x288 with 3 Axes>"
      ]
     },
     "metadata": {
      "needs_background": "light"
     },
     "output_type": "display_data"
    }
   ],
   "source": [
    "#visualise by area of bins\n",
    "figsize=(7,4)\n",
    "fig, axs = plt.subplots(ncols=3, subplot_kw=dict(projection='polar'),figsize=figsize)\n",
    "for i,angles in zip(ax_lst,angle_lst_LR):\n",
    "    circular_hist(axs[i], x=angles,color='C1',edgecolor='C1',**kwargs)\n",
    "    \n",
    "for i,angles in zip(ax_lst,angle_lst_FK):\n",
    "    circular_hist(axs[i], x=angles,color='C0',edgecolor='C0',**kwargs)\n",
    "\n",
    "for i in ax_lst:\n",
    "    axs[i].plot(x_values,np.sqrt(2)*y0+0.*x_values,'k--',lw=2,alpha=0.7)\n",
    "    axs[i].set_ylim([0,4*y0])\n",
    "    \n",
    "#print bluf\n",
    "print(f'these are creations for FK (blue) and LR (orange)')\n",
    "print(f\"considering angles at the times:\")\n",
    "print(string_FK)\n",
    "print(string_LR)\n",
    "print(f\"the number of events considered is {angle_lst_FK[0].shape[0]}. (FK)\")\n",
    "print(f\"the number of events considered is {angle_lst_LR[0].shape[0]}. (LR)\")\n",
    "# print(f\"considering angles at times (tC,tB,tA)={(tC,tB,tA)} milliseconds.\")\n",
    "plt.tight_layout()\n",
    "plt.show()"
   ]
  },
  {
   "cell_type": "code",
   "execution_count": 51,
   "metadata": {
    "ExecuteTime": {
     "end_time": "2021-06-29T18:53:55.843423Z",
     "start_time": "2021-06-29T18:53:51.254476Z"
    },
    "hidden": true
   },
   "outputs": [
    {
     "name": "stdout",
     "output_type": "stream",
     "text": [
      "considering angles at times (-40.0, -4.0, -0.5) milliseconds (LR).\n",
      "considering angles at times (-40.0, -4.0, -0.4) milliseconds (FK).\n",
      "the number of events considered is 744. (FK)\n",
      "the number of events considered is 3010. (LR)\n",
      "these are annihilations for FK (blue) and LR (orange)\n",
      "considering angles at the times:\n",
      "considering angles at times (-40.0, -4.0, -0.4) milliseconds (FK).\n",
      "considering angles at times (-40.0, -4.0, -0.5) milliseconds (LR).\n",
      "the number of events considered is 744. (FK)\n",
      "the number of events considered is 3010. (LR)\n"
     ]
    },
    {
     "data": {
      "image/png": "[encoded data removed]",
      "text/plain": [
       "<Figure size 504x288 with 3 Axes>"
      ]
     },
     "metadata": {
      "needs_background": "light"
     },
     "output_type": "display_data"
    }
   ],
   "source": [
    "#LR results for DT = 0.5 ms\n",
    "# modelname='luo-rudy'\n",
    "#annihilations aggregated\n",
    "input_fn=\"/home/timothytyree/Documents/GitHub/care/notebooks/Data/initial-conditions-suite-3-LR/param_qu_tmax_30_Ko_5.4_diffCoef_0.0005_dt_0.5/annihilations_minr_1.0_mindur_20.0.csv\"\n",
    "df_lr=pd.read_csv(input_fn)\n",
    "\n",
    "\n",
    "# #FK results for DT = 0.4 ms\n",
    "# #annihilations aggregated\n",
    "input_fn=\"/home/timothytyree/Documents/GitHub/care/notebooks/Data/initial-conditions-fk-200x200/param_set_8_ds_5.0_tmax_10_diffCoef_0.0005/annihilations_minr_1.0_mindur_20.0.csv\"\n",
    "df_fk=pd.read_csv(input_fn)\n",
    "\n",
    "# input_fn=search_for_file()\n",
    "\n",
    "#TODO: make outputs simultaneously visible for LR and FK results (dt=0.5,0.4, respectively)\n",
    "\n",
    "#slice df to a given tdeath\n",
    "df=df_lr\n",
    "t_values=sorted(set(df.tdeath.values))\n",
    "# t_values=sorted(set(df.tbirth.values))\n",
    "\n",
    "#LR\n",
    "tA=t_values[0]\n",
    "tB=t_values[7]\n",
    "tC=t_values[79]#15]#39]\n",
    "\n",
    "string=f\"considering angles at times {(-tC,-tB,-tA)} milliseconds (LR).\"\n",
    "print(string)\n",
    "string_LR=string\n",
    "\n",
    "anglesA=df[df.tdeath==tA].theta.values\n",
    "anglesB=df[df.tdeath==tB].theta.values\n",
    "anglesC=df[df.tdeath==tC].theta.values\n",
    "\n",
    "# anglesA=df[df.tbirth==tA].theta.values\n",
    "# anglesB=df[df.tbirth==tB].theta.values\n",
    "# anglesC=df[df.tbirth==tC].theta.values\n",
    "\n",
    "angle_lst=[anglesA,anglesB,anglesC]\n",
    "angle_lst_FK=angle_lst\n",
    "\n",
    "#slice df to a given tdeath\n",
    "df=df_fk\n",
    "t_values=sorted(set(df.tdeath.values))\n",
    "# t_values=sorted(set(df.tbirth.values))\n",
    "\n",
    "#FK\n",
    "tA=t_values[0]#.4\n",
    "tB=t_values[9]#4.\n",
    "tC=t_values[99]#20.\n",
    "\n",
    "string=f\"considering angles at times {(-tC,-tB,-tA)} milliseconds (FK).\"\n",
    "print(string)\n",
    "string_FK=string\n",
    "\n",
    "anglesA=df[df.tdeath==tA].theta.values\n",
    "anglesB=df[df.tdeath==tB].theta.values\n",
    "anglesC=df[df.tdeath==tC].theta.values\n",
    "\n",
    "# anglesA=df[df.tbirth==tA].theta.values\n",
    "# anglesB=df[df.tbirth==tB].theta.values\n",
    "# anglesC=df[df.tbirth==tC].theta.values\n",
    "\n",
    "ax_lst=[2,1,0]\n",
    "angle_lst=[anglesA,anglesB,anglesC]\n",
    "angle_lst_LR=angle_lst\n",
    "\n",
    "#angular histogram viewer from optical_flow\n",
    "# the area of each bin is proportional to the number of observations in it,\n",
    "bins=4*4\n",
    "symmetrize=False\n",
    "density=True\n",
    "\n",
    "kwargs={\n",
    "    'symmetrize':symmetrize,\n",
    "    'density':density,\n",
    "    'bins':bins,\n",
    "    'alpha':0.4\n",
    "}\n",
    "\n",
    "x_values=np.linspace(0,2*np.pi,50)\n",
    "if density:\n",
    "    y0=1/(bins * np.pi)**0.5\n",
    "else:\n",
    "    y0=1/(bins)*angles.size\n",
    "\n",
    "print(f\"the number of events considered is {angle_lst_FK[0].shape[0]}. (FK)\")\n",
    "print(f\"the number of events considered is {angle_lst_LR[0].shape[0]}. (LR)\")\n",
    "\n",
    "#visualise by area of bins\n",
    "figsize=(7,4)\n",
    "fig, axs = plt.subplots(ncols=3, subplot_kw=dict(projection='polar'),figsize=figsize)\n",
    "for i,angles in zip(ax_lst,angle_lst_LR):\n",
    "    circular_hist(axs[i], x=angles,color='C1',edgecolor='C1',**kwargs)\n",
    "    \n",
    "for i,angles in zip(ax_lst,angle_lst_FK):\n",
    "    circular_hist(axs[i], x=angles,color='C0',edgecolor='C0',**kwargs)\n",
    "\n",
    "for i in ax_lst:\n",
    "    axs[i].plot(x_values,np.sqrt(2)*y0+0.*x_values,'k--',lw=2,alpha=0.7)\n",
    "    axs[i].set_ylim([0,3.5*y0])\n",
    "    \n",
    "#print bluf\n",
    "print(f'these are annihilations for FK (blue) and LR (orange)')\n",
    "print(f\"considering angles at the times:\")\n",
    "print(string_FK)\n",
    "print(string_LR)\n",
    "print(f\"the number of events considered is {angle_lst_FK[0].shape[0]}. (FK)\")\n",
    "print(f\"the number of events considered is {angle_lst_LR[0].shape[0]}. (LR)\")\n",
    "# print(f\"considering angles at times (tC,tB,tA)={(tC,tB,tA)} milliseconds.\")\n",
    "plt.tight_layout()\n",
    "plt.show()"
   ]
  },
  {
   "cell_type": "code",
   "execution_count": null,
   "metadata": {
    "hidden": true
   },
   "outputs": [],
   "source": []
  },
  {
   "cell_type": "code",
   "execution_count": null,
   "metadata": {
    "hidden": true
   },
   "outputs": [],
   "source": []
  },
  {
   "cell_type": "code",
   "execution_count": null,
   "metadata": {
    "hidden": true
   },
   "outputs": [],
   "source": []
  },
  {
   "cell_type": "markdown",
   "metadata": {
    "ExecuteTime": {
     "end_time": "2021-06-23T04:27:50.692785Z",
     "start_time": "2021-06-23T04:27:50.663141Z"
    },
    "heading_collapsed": true
   },
   "source": [
    "# colored time plots for annihilation/creation events"
   ]
  },
  {
   "cell_type": "markdown",
   "metadata": {
    "heading_collapsed": true,
    "hidden": true
   },
   "source": [
    "## overlayed time plots for annihilation events"
   ]
  },
  {
   "cell_type": "code",
   "execution_count": 76,
   "metadata": {
    "ExecuteTime": {
     "end_time": "2021-07-10T01:49:21.573050Z",
     "start_time": "2021-07-10T01:49:09.034071Z"
    },
    "hidden": true
   },
   "outputs": [],
   "source": [
    "#LR results for DT = 0.5 ms\n",
    "# modelname='luo-rudy'\n",
    "#annihilations aggregated\n",
    "# input_fn=\"/home/timothytyree/Documents/GitHub/care/notebooks/Data/initial-conditions-suite-3-LR/param_qu_tmax_30_Ko_5.4_diffCoef_0.0005_dt_0.5/annihilations_minr_1.0_mindur_20.0.csv\"\n",
    "# df_lr=pd.read_csv(input_fn)\n",
    "\n",
    "# #LR results for DT = 0.025 ms\n",
    "#annihilations aggregated\n",
    "# input_fn='/home/timothytyree/Documents/GitHub/care/notebooks/Data/initial-conditions-suite-3-LR/param_qu_tmax_30_Ko_5.4_diffCoef_0.0005_dt_0.025/annihilations_minr_1.0_mindur_20.0.csv'\n",
    "input_fn=\"/home/timothytyree/Documents/GitHub/care/notebooks/Data/initial-conditions-suite-3-LR/param_qu_tmax_30_Ko_5.4_diffCoef_0.0005_dt_0.5/annihilations_minr_1.0_mindur_20.0.csv\"\n",
    "# # #creations aggregated\n",
    "# input_fn='/home/timothytyree/Documents/GitHub/care/notebooks/Data/initial-conditions-suite-3-LR/param_qu_tmax_30_Ko_5.4_diffCoef_0.0005_dt_0.025/creations_minr_1.0_mindur_20.0.csv'\n",
    "\n",
    "df_lr=pd.read_csv(input_fn)\n",
    "# #FK results for DT = 0.4 ms\n",
    "# #annihilations aggregated\n",
    "# input_fn=\"/home/timothytyree/Documents/GitHub/care/notebooks/Data/initial-conditions-fk-200x200/param_set_8_ds_5.0_tmax_10_diffCoef_0.0005/annihilations_minr_1.0_mindur_20.0.csv\"\n",
    "input_fn=\"/home/timothytyree/Documents/GitHub/care/notebooks/Data/initial-conditions-fk-200x200/param_set_8_ds_5.0_tmax_30_diffCoef_0.001_dt_0.025/annihilations_minr_1.0_mindur_20.0.csv\"\n",
    "# #creations aggregated\n",
    "# input_fn=\"/home/timothytyree/Documents/GitHub/care/notebooks/Data/initial-conditions-fk-200x200/param_set_8_ds_5.0_tmax_10_diffCoef_0.0005/creations_minr_1.0_mindur_20.0.csv\"\n",
    "df_fk=pd.read_csv(input_fn)"
   ]
  },
  {
   "cell_type": "code",
   "execution_count": 77,
   "metadata": {
    "ExecuteTime": {
     "end_time": "2021-07-10T01:49:24.569243Z",
     "start_time": "2021-07-10T01:49:24.472304Z"
    },
    "hidden": true
   },
   "outputs": [],
   "source": [
    "# #LR results for DT = 0.5 ms\n",
    "# # modelname='luo-rudy'\n",
    "# #annihilations aggregated\n",
    "# input_fn=\"/home/timothytyree/Documents/GitHub/care/notebooks/Data/initial-conditions-suite-3-LR/param_qu_tmax_30_Ko_5.4_diffCoef_0.0005_dt_0.5/annihilations_minr_1.0_mindur_20.0.csv\"\n",
    "\n",
    "\n",
    "# # #LR results for DT = 0.025 ms\n",
    "# #annihilations aggregated\n",
    "# # input_fn='/home/timothytyree/Documents/GitHub/care/notebooks/Data/initial-conditions-suite-3-LR/param_qu_tmax_30_Ko_5.4_diffCoef_0.0005_dt_0.025/annihilations_minr_1.0_mindur_20.0.csv'\n",
    "# # # #creations aggregated\n",
    "# # input_fn='/home/timothytyree/Documents/GitHub/care/notebooks/Data/initial-conditions-suite-3-LR/param_qu_tmax_30_Ko_5.4_diffCoef_0.0005_dt_0.025/creations_minr_1.0_mindur_20.0.csv'\n",
    "# df_lr=pd.read_csv(input_fn)\n",
    "\n",
    "# # #FK results for\n",
    "# # #annihilations aggregated\n",
    "# #DT = 0.4 ms\n",
    "# # input_fn=\"/home/timothytyree/Documents/GitHub/care/notebooks/Data/initial-conditions-fk-200x200/param_set_8_ds_5.0_tmax_10_diffCoef_0.0005/annihilations_minr_1.0_mindur_20.0.csv\"\n",
    "# #DT=0.025 ms\n",
    "# input_fn='/home/timothytyree/Documents/GitHub/care/notebooks/Data/initial-conditions-fk-200x200/param_set_8_ds_5.0_tmax_30_diffCoef_0.001_dt_0.025/annihilations_minr_1.0_mindur_20.0.csv'\n",
    "# df_fk=pd.read_csv(input_fn)\n",
    "\n",
    "# # input_fn=search_for_file()\n",
    "# #TODO: make outputs simultaneously visible for LR and FK results (dt=0.5,0.4, respectively)"
   ]
  },
  {
   "cell_type": "code",
   "execution_count": 78,
   "metadata": {
    "ExecuteTime": {
     "end_time": "2021-07-10T01:49:29.601785Z",
     "start_time": "2021-07-10T01:49:27.858347Z"
    },
    "hidden": true
   },
   "outputs": [],
   "source": [
    "df_fk.sort_values('tdeath',ascending=True,inplace=True)\n",
    "df_lr.sort_values('tdeath',ascending=True,inplace=True)"
   ]
  },
  {
   "cell_type": "code",
   "execution_count": 79,
   "metadata": {
    "ExecuteTime": {
     "end_time": "2021-07-10T01:49:39.733077Z",
     "start_time": "2021-07-10T01:49:33.819286Z"
    },
    "hidden": true
   },
   "outputs": [],
   "source": [
    "# print(f\"number of trials is {len(sorted(set(df_lr.pid.values)))} (LR) and {len(sorted(set(df_fk.pid.values)))} (FK).\")\n",
    "\n",
    "#compute xy values\n",
    "x_label='time (ms)'#'t'\n",
    "# x_label='time after annihilation (ms)'#'t'\n",
    "y_label='inward/outward\\nangle (radians)'#'$\\vartheta$'\n",
    "# 'r (cm)'\n",
    "# 'dr/dt (cm/ms)'\n",
    "\n",
    "df_phases=df_lr.copy()\n",
    "t_values=sorted(set(df_phases.tdeath.values))\n",
    "DT=sorted(set(df_phases.tdeath.values))[0]\n",
    "#compute/plot average over particles\n",
    "N=len(list(set(df_phases.pid.values)))\n",
    "# dfm=df_phases.groupby('tbirth').mean()\n",
    "# dfs=df_phases.groupby('tbirth').std()\n",
    "dfm=df_phases.groupby('tdeath').mean()\n",
    "dfs=df_phases.groupby('tdeath').std()\n",
    "x_values_lr=dfm.index.values\n",
    "y_values_lr=dfm.theta.values\n",
    "yerr_values_lr=dfs.theta.values\n",
    "\n",
    "df_phases=df_fk.copy()\n",
    "t_values=sorted(set(df_phases.tdeath.values))\n",
    "DT=sorted(set(df_phases.tdeath.values))[0]\n",
    "#compute/plot average over particles\n",
    "N=len(list(set(df_phases.pid.values)))\n",
    "# dfm=df_phases.groupby('tbirth').mean()\n",
    "# dfs=df_phases.groupby('tbirth').std()\n",
    "dfm=df_phases.groupby('tdeath').mean()\n",
    "dfs=df_phases.groupby('tdeath').std()\n",
    "x_values_fk=dfm.index.values\n",
    "y_values_fk=dfm.theta.values\n",
    "yerr_values_fk=dfs.theta.values"
   ]
  },
  {
   "cell_type": "code",
   "execution_count": 80,
   "metadata": {
    "ExecuteTime": {
     "end_time": "2021-07-10T01:49:44.528861Z",
     "start_time": "2021-07-10T01:49:43.556408Z"
    },
    "hidden": true
   },
   "outputs": [
    {
     "data": {
      "image/png": "[encoded data removed]",
      "text/plain": [
       "<Figure size 504x216 with 1 Axes>"
      ]
     },
     "metadata": {
      "needs_background": "light"
     },
     "output_type": "display_data"
    }
   ],
   "source": [
    "fontsize=18\n",
    "fig,ax=plt.subplots(ncols=1,figsize=(7,3))#(5,4))\n",
    "# axes=[1e-1,2,1e-3,0.2]\n",
    "alpha=0.2\n",
    "# FK\n",
    "ax.fill_between(-x_values_fk, y_values_fk-yerr_values_fk, y_values_fk+yerr_values_fk,color='C0',alpha=alpha)\n",
    "ax.plot(-x_values_fk,y_values_fk,'C0',lw=2)\n",
    "#LR\n",
    "ax.fill_between(-x_values_lr, y_values_lr-yerr_values_lr, y_values_lr+yerr_values_lr,color='C1',alpha=alpha)\n",
    "ax.plot(-x_values_lr,y_values_lr,'C1',lw=2)\n",
    "\n",
    "#TODO: add cuts for times\n",
    "\n",
    "\n",
    "\n",
    "ax.set_xlim([-20,0])#-DT])\n",
    "# ax.set_xlim([-50,-DT])\n",
    "ax.set_ylim([0,np.pi])\n",
    "ax.set_xlabel(x_label,fontsize=fontsize)\n",
    "ax.set_ylabel(y_label,fontsize=fontsize)\n",
    "# ax.set_xscale('log')\n",
    "ax.tick_params(axis='both', which='major', labelsize=fontsize)\n",
    "ax.tick_params(axis='both', which='minor', labelsize=1)\n",
    "\n",
    "#wrong bluf because aggregate\n",
    "# print(f\"number of trials is {len(sorted(set(df_lr.pid.values)))} (LR) and {len(sorted(set(df_fk.pid.values)))} (FK).\")\n",
    "plt.show()"
   ]
  },
  {
   "cell_type": "code",
   "execution_count": 81,
   "metadata": {
    "ExecuteTime": {
     "end_time": "2021-07-10T01:49:56.455914Z",
     "start_time": "2021-07-10T01:49:48.514576Z"
    },
    "hidden": true
   },
   "outputs": [],
   "source": [
    "#plot the mean drdt versus r\n",
    "#compute xy values\n",
    "x_label='R (cm)'\n",
    "y_label='dR/dt (cm/ms)'\n",
    "\n",
    "df_fk.sort_values('tdeath',ascending=True,inplace=True)\n",
    "df_lr.sort_values('tdeath',ascending=True,inplace=True)\n",
    "\n",
    "df_phases=df_lr.copy()\n",
    "t_values=sorted(set(df_phases.tdeath.values))\n",
    "DT=sorted(set(df_phases.tdeath.values))[0]\n",
    "#compute/plot average over particles\n",
    "N=len(list(set(df_phases.pid.values)))\n",
    "# dfm=df_phases.groupby('tbirth').mean()\n",
    "# dfs=df_phases.groupby('tbirth').std()\n",
    "dfm=df_phases.groupby('tdeath').mean()\n",
    "dfs=df_phases.groupby('tdeath').std()\n",
    "t_values=dfm.index.values\n",
    "range_values=dfm.r.values\n",
    "drdt_values=np.diff(range_values)/DT\n",
    "r_values=range_values[1:]/2+range_values[:-1]/2\n",
    "x_values_lr=r_values.copy()\n",
    "y_values_lr=drdt_values.copy()\n",
    "# yerr_values_lr=dfs.theta.values\n",
    "\n",
    "#fit drdt_values to F0+F1/r with OLS fit for LR model where 1/r is greater than some 1/cm\n",
    "rmax=1.2 #cm\n",
    "boo=r_values<rmax\n",
    "x=1/r_values[boo]\n",
    "y=drdt_values[boo]\n",
    "dict_force_fit=compute_95CI_ols(x,y)\n",
    "y_hat_values=dict_force_fit['b']+dict_force_fit['m']/r_values\n",
    "\n",
    "dict_force_fit_lr=dict_force_fit\n",
    "y_hat_values_lr=y_hat_values.copy()\n",
    "\n",
    "df_phases=df_fk.copy()\n",
    "t_values=sorted(set(df_phases.tdeath.values))\n",
    "DT=sorted(set(df_phases.tdeath.values))[0]\n",
    "#compute/plot average over particles\n",
    "N=len(list(set(df_phases.pid.values)))\n",
    "# dfm=df_phases.groupby('tbirth').mean()\n",
    "# dfs=df_phases.groupby('tbirth').std()\n",
    "dfm=df_phases.groupby('tdeath').mean()\n",
    "dfs=df_phases.groupby('tdeath').std()\n",
    "t_values=dfm.index.values\n",
    "range_values=dfm.r.values\n",
    "drdt_values=np.diff(range_values)/DT\n",
    "r_values=range_values[1:]/2+range_values[:-1]/2\n",
    "x_values_fk=r_values.copy()\n",
    "y_values_fk=drdt_values.copy()\n",
    "# yerr_values_fk=dfs.theta.values\n",
    "\n",
    "#fit drdt_values to F0+F1/r with OLS fit for FK model where 1/r is greater than 2 1/cm\n",
    "rmax=0.5 #cm\n",
    "boo=r_values<rmax\n",
    "x=1/r_values[boo]\n",
    "y=drdt_values[boo]\n",
    "dict_force_fit=compute_95CI_ols(x,y)\n",
    "y_hat_values=dict_force_fit['b']+dict_force_fit['m']/r_values\n",
    "dict_force_fit_fk=dict_force_fit\n",
    "y_hat_values_fk=y_hat_values.copy()"
   ]
  },
  {
   "cell_type": "code",
   "execution_count": 82,
   "metadata": {
    "ExecuteTime": {
     "end_time": "2021-07-10T01:50:00.587938Z",
     "start_time": "2021-07-10T01:50:00.483205Z"
    },
    "hidden": true
   },
   "outputs": [
    {
     "name": "stdout",
     "output_type": "stream",
     "text": [
      "the best fits are\n",
      " {'m': -0.04422231513736983, 'Delta_m': 0.05564659598723807, 'b': 0.03844264448673, 'Delta_b': 0.05347057224331182, 'Rsquared': 0.012351468067116686} (LR) and \n",
      "{'m': 0.04461102868197167, 'Delta_m': 0.0007137987417719204, 'b': -0.015750973661691092, 'Delta_b': 0.002964762394886217, 'Rsquared': 0.9916728971822155} (FK).\n"
     ]
    }
   ],
   "source": [
    "print(f\"the best fits are\\n {dict_force_fit_lr} (LR) and \\n{dict_force_fit_fk} (FK).\")"
   ]
  },
  {
   "cell_type": "code",
   "execution_count": 83,
   "metadata": {
    "ExecuteTime": {
     "end_time": "2021-07-10T01:50:03.823627Z",
     "start_time": "2021-07-10T01:50:03.763440Z"
    },
    "hidden": true
   },
   "outputs": [],
   "source": [
    "# def print_dict(input_dict):\n",
    "#     for key in input_dict.keys():\n",
    "#         print(f\"{key}={input_dict[key]}\")\n",
    "        "
   ]
  },
  {
   "cell_type": "code",
   "execution_count": null,
   "metadata": {
    "ExecuteTime": {
     "end_time": "2021-06-30T20:08:31.476652Z",
     "start_time": "2021-06-30T20:08:31.453238Z"
    },
    "hidden": true
   },
   "outputs": [],
   "source": []
  },
  {
   "cell_type": "code",
   "execution_count": 84,
   "metadata": {
    "ExecuteTime": {
     "end_time": "2021-07-10T01:50:10.687965Z",
     "start_time": "2021-07-10T01:50:06.805618Z"
    },
    "hidden": true
   },
   "outputs": [
    {
     "data": {
      "image/png": "[encoded data removed]",
      "text/plain": [
       "<Figure size 504x216 with 2 Axes>"
      ]
     },
     "metadata": {
      "needs_background": "light"
     },
     "output_type": "display_data"
    }
   ],
   "source": [
    "fontsize=18\n",
    "alpha=0.1\n",
    "\n",
    "fig,axs=plt.subplots(ncols=2,figsize=(7,3))#(5,4))\n",
    "ax=axs[0]\n",
    "ax.scatter(x_values_fk,-y_values_fk,c='C0',s=20,alpha=alpha)\n",
    "ax.scatter(x_values_lr,-y_values_lr,c='C1',s=20,alpha=alpha)\n",
    "\n",
    "#plot fits\n",
    "ax.plot(x_values_fk,-y_hat_values_fk,c='C0',lw=2,alpha=1)\n",
    "ax.plot(x_values_lr,-y_hat_values_lr,c='C1',lw=2,alpha=1)\n",
    "\n",
    "ax.set_xlim([0,1.2])\n",
    "ax.set_ylim([-0.5,.1])\n",
    "ax.set_xlabel(x_label,fontsize=fontsize)\n",
    "ax.set_ylabel(y_label,fontsize=fontsize)\n",
    "# ax.set_xscale('log')\n",
    "ax.tick_params(axis='both', which='major', labelsize=fontsize)\n",
    "ax.tick_params(axis='both', which='minor', labelsize=1)\n",
    "\n",
    "ax=axs[1]\n",
    "ax.scatter(1/x_values_fk,-y_values_fk,c='C0',s=20,alpha=alpha)\n",
    "ax.scatter(1/x_values_lr,-y_values_lr,c='C1',s=20,alpha=alpha)\n",
    "\n",
    "#plot fits\n",
    "ax.plot(1/x_values_fk,-y_hat_values_fk,c='C0',lw=2,alpha=1)\n",
    "ax.plot(1/x_values_lr,-y_hat_values_lr,c='C1',lw=2,alpha=1)\n",
    "\n",
    "# y_hat_values_fk\n",
    "# y_hat_values_fk\n",
    "\n",
    "ax.set_xlim([.7,5])\n",
    "ax.set_ylim([-0.2,.1])\n",
    "ax.set_xlabel(r'$1/R$ (cm$^{-1}$)',fontsize=fontsize)\n",
    "ax.set_ylabel(y_label,fontsize=fontsize)\n",
    "\n",
    "# ax.set_xscale('log')\n",
    "ax.tick_params(axis='both', which='major', labelsize=fontsize)\n",
    "ax.tick_params(axis='both', which='minor', labelsize=1)\n",
    "#wrong bluf because aggregate\n",
    "plt.tight_layout()\n",
    "plt.show()"
   ]
  },
  {
   "cell_type": "markdown",
   "metadata": {
    "hidden": true
   },
   "source": [
    "$$\n",
    "F(R)\\propto\\frac{dR}{dt} = b + \\frac{m}{R}\n",
    "$$"
   ]
  },
  {
   "cell_type": "code",
   "execution_count": 85,
   "metadata": {
    "ExecuteTime": {
     "end_time": "2021-07-10T01:50:14.042449Z",
     "start_time": "2021-07-10T01:50:13.949826Z"
    },
    "hidden": true
   },
   "outputs": [],
   "source": [
    "#TODO: try any more annihilation plots... \n",
    "# HINT: any from the following 3 panel\n",
    "# HINT: are phi values present/convenient? Yes.\n",
    "#TODO: condense the figures we like into functions. test on FK model\n",
    "#TODO: make comparable functions for LR model. "
   ]
  },
  {
   "cell_type": "code",
   "execution_count": 86,
   "metadata": {
    "ExecuteTime": {
     "end_time": "2021-07-10T01:50:17.327028Z",
     "start_time": "2021-07-10T01:50:17.223722Z"
    },
    "hidden": true,
    "scrolled": true
   },
   "outputs": [
    {
     "name": "stdout",
     "output_type": "stream",
     "text": [
      "the ols fit for FK:\n",
      "m=0.04461102868197167\n",
      "Delta_m=0.0007137987417719204\n",
      "b=-0.015750973661691092\n",
      "Delta_b=0.002964762394886217\n",
      "Rsquared=0.9916728971822155\n",
      "\n",
      "the ols fit for LR:\n",
      "m=-0.04422231513736983\n",
      "Delta_m=0.05564659598723807\n",
      "b=0.03844264448673\n",
      "Delta_b=0.05347057224331182\n",
      "Rsquared=0.012351468067116686\n"
     ]
    }
   ],
   "source": [
    "print(f\"the ols fit for FK:\")\n",
    "print_dict(dict_force_fit_fk)\n",
    "print(f\"\\nthe ols fit for LR:\")\n",
    "print_dict(dict_force_fit_lr)"
   ]
  },
  {
   "cell_type": "code",
   "execution_count": 87,
   "metadata": {
    "ExecuteTime": {
     "end_time": "2021-07-10T01:50:20.993038Z",
     "start_time": "2021-07-10T01:50:20.696226Z"
    },
    "hidden": true
   },
   "outputs": [
    {
     "name": "stdout",
     "output_type": "stream",
     "text": [
      "nobs=289 (FK)\n",
      "nobs=744 (LR)\n"
     ]
    }
   ],
   "source": [
    "nobs=df_fk.groupby('tdeath').r.count().iloc[0]\n",
    "print(f\"nobs={nobs} (FK)\")\n",
    "nobs=df_lr.groupby('tdeath').r.count().iloc[0]\n",
    "print(f\"nobs={nobs} (LR)\")"
   ]
  },
  {
   "cell_type": "markdown",
   "metadata": {
    "heading_collapsed": true,
    "hidden": true
   },
   "source": [
    "## overlayed time plots for creation events"
   ]
  },
  {
   "cell_type": "code",
   "execution_count": 44,
   "metadata": {
    "ExecuteTime": {
     "end_time": "2021-07-07T02:10:37.850625Z",
     "start_time": "2021-07-07T02:10:33.926560Z"
    },
    "hidden": true
   },
   "outputs": [],
   "source": [
    "#LR results for DT = 0.5 ms\n",
    "# modelname='luo-rudy'\n",
    "#annihilations aggregated\n",
    "# input_fn=\"/home/timothytyree/Documents/GitHub/care/notebooks/Data/initial-conditions-suite-3-LR/param_qu_tmax_30_Ko_5.4_diffCoef_0.0005_dt_0.5/annihilations_minr_1.0_mindur_20.0.csv\"\n",
    "# df_lr=pd.read_csv(input_fn)\n",
    "\n",
    "# #LR results for DT = 0.025 ms\n",
    "#annihilations aggregated\n",
    "# input_fn='/home/timothytyree/Documents/GitHub/care/notebooks/Data/initial-conditions-suite-3-LR/param_qu_tmax_30_Ko_5.4_diffCoef_0.0005_dt_0.025/annihilations_minr_1.0_mindur_20.0.csv'\n",
    "# # #creations aggregated\n",
    "input_fn='/home/timothytyree/Documents/GitHub/care/notebooks/Data/initial-conditions-suite-3-LR/param_qu_tmax_30_Ko_5.4_diffCoef_0.0005_dt_0.025/creations_minr_1.0_mindur_20.0.csv'\n",
    "\n",
    "df_lr=pd.read_csv(input_fn)\n",
    "# #FK results for DT = 0.4 ms\n",
    "# #annihilations aggregated\n",
    "# input_fn=\"/home/timothytyree/Documents/GitHub/care/notebooks/Data/initial-conditions-fk-200x200/param_set_8_ds_5.0_tmax_10_diffCoef_0.0005/annihilations_minr_1.0_mindur_20.0.csv\"\n",
    "# #creations aggregated\n",
    "input_fn=\"/home/timothytyree/Documents/GitHub/care/notebooks/Data/initial-conditions-fk-200x200/param_set_8_ds_5.0_tmax_10_diffCoef_0.0005/creations_minr_1.0_mindur_20.0.csv\"\n",
    "df_fk=pd.read_csv(input_fn)"
   ]
  },
  {
   "cell_type": "code",
   "execution_count": 45,
   "metadata": {
    "ExecuteTime": {
     "end_time": "2021-07-07T02:10:39.051047Z",
     "start_time": "2021-07-07T02:10:37.956058Z"
    },
    "hidden": true
   },
   "outputs": [],
   "source": [
    "df_fk.sort_values('tbirth',ascending=True,inplace=True)\n",
    "df_lr.sort_values('tbirth',ascending=True,inplace=True)"
   ]
  },
  {
   "cell_type": "code",
   "execution_count": 46,
   "metadata": {
    "ExecuteTime": {
     "end_time": "2021-07-07T02:10:43.107803Z",
     "start_time": "2021-07-07T02:10:39.143086Z"
    },
    "hidden": true
   },
   "outputs": [],
   "source": [
    "# print(f\"number of trials is {len(sorted(set(df_lr.pid.values)))} (LR) and {len(sorted(set(df_fk.pid.values)))} (FK).\")\n",
    "\n",
    "#compute xy values\n",
    "x_label='time (ms)'#'t'\n",
    "# x_label='time after annihilation (ms)'#'t'\n",
    "y_label='inward/outward\\nangle (radians)'#'$\\vartheta$'\n",
    "# 'r (cm)'\n",
    "# 'dr/dt (cm/ms)'\n",
    "\n",
    "df_phases=df_lr.copy()\n",
    "t_values=sorted(set(df_phases.tbirth.values))\n",
    "DT=sorted(set(df_phases.tbirth.values))[0]\n",
    "#compute/plot average over particles\n",
    "N=len(list(set(df_phases.pid.values)))\n",
    "dfm=df_phases.groupby('tbirth').mean()\n",
    "dfs=df_phases.groupby('tbirth').std()\n",
    "# dfm=df_phases.groupby('tdeath').mean()\n",
    "# dfs=df_phases.groupby('tdeath').std()\n",
    "x_values_lr=dfm.index.values\n",
    "y_values_lr=dfm.theta.values\n",
    "yerr_values_lr=dfs.theta.values\n",
    "\n",
    "df_phases=df_fk.copy()\n",
    "t_values=sorted(set(df_phases.tbirth.values))\n",
    "DT=sorted(set(df_phases.tbirth.values))[0]\n",
    "#compute/plot average over particles\n",
    "N=len(list(set(df_phases.pid.values)))\n",
    "dfm=df_phases.groupby('tbirth').mean()\n",
    "dfs=df_phases.groupby('tbirth').std()\n",
    "# dfm=df_phases.groupby('tdeath').mean()\n",
    "# dfs=df_phases.groupby('tdeath').std()\n",
    "x_values_fk=dfm.index.values\n",
    "y_values_fk=dfm.theta.values\n",
    "yerr_values_fk=dfs.theta.values"
   ]
  },
  {
   "cell_type": "code",
   "execution_count": 47,
   "metadata": {
    "ExecuteTime": {
     "end_time": "2021-07-07T02:10:43.509557Z",
     "start_time": "2021-07-07T02:10:43.252410Z"
    },
    "hidden": true
   },
   "outputs": [
    {
     "data": {
      "image/png": "[encoded data removed]",
      "text/plain": [
       "<Figure size 504x216 with 1 Axes>"
      ]
     },
     "metadata": {
      "needs_background": "light"
     },
     "output_type": "display_data"
    }
   ],
   "source": [
    "fontsize=18\n",
    "fig,ax=plt.subplots(ncols=1,figsize=(7,3))#(5,4))\n",
    "# axes=[1e-1,2,1e-3,0.2]\n",
    "alpha=0.2\n",
    "# FK\n",
    "ax.fill_between(x_values_fk, y_values_fk-yerr_values_fk, y_values_fk+yerr_values_fk,color='C0',alpha=alpha)\n",
    "ax.plot(x_values_fk,y_values_fk,'C0',lw=2)\n",
    "#LR\n",
    "ax.fill_between(x_values_lr, y_values_lr-yerr_values_lr, y_values_lr+yerr_values_lr,color='C1',alpha=alpha)\n",
    "ax.plot(x_values_lr,y_values_lr,'C1',lw=2)\n",
    "\n",
    "#TODO: add cuts for times\n",
    "\n",
    "\n",
    "\n",
    "ax.set_xlim([0,20])#-DT])\n",
    "# ax.set_xlim([-50,-DT])\n",
    "ax.set_ylim([0,np.pi])\n",
    "ax.set_xlabel(x_label,fontsize=fontsize)\n",
    "ax.set_ylabel(y_label,fontsize=fontsize)\n",
    "# ax.set_xscale('log')\n",
    "ax.tick_params(axis='both', which='major', labelsize=fontsize)\n",
    "ax.tick_params(axis='both', which='minor', labelsize=1)\n",
    "\n",
    "#wrong bluf because aggregate\n",
    "# print(f\"number of trials is {len(sorted(set(df_lr.pid.values)))} (LR) and {len(sorted(set(df_fk.pid.values)))} (FK).\")\n",
    "plt.show()"
   ]
  },
  {
   "cell_type": "code",
   "execution_count": 57,
   "metadata": {
    "ExecuteTime": {
     "end_time": "2021-07-07T02:24:07.174000Z",
     "start_time": "2021-07-07T02:24:02.947478Z"
    },
    "hidden": true
   },
   "outputs": [
    {
     "name": "stdout",
     "output_type": "stream",
     "text": [
      "the best fits are\n",
      " {'m': 0.03907907411208567, 'Delta_m': 0.0013708774900725372, 'b': -0.016316728922834894, 'Delta_b': 0.003617423757765058, 'Rsquared': 0.9550463808209577} (LR) and \n",
      "{'m': 0.04284740300370245, 'Delta_m': 0.00041365115170128566, 'b': -0.026916537026504088, 'Delta_b': 0.0007914393345501754, 'Rsquared': 0.9994178343464847} (FK).\n"
     ]
    }
   ],
   "source": [
    "#plot the mean drdt versus r\n",
    "#compute xy values\n",
    "x_label='R (cm)'\n",
    "y_label='dR/dt (cm/ms)'\n",
    "\n",
    "df_fk.sort_values('tbirth',ascending=True,inplace=True)\n",
    "df_lr.sort_values('tbirth',ascending=True,inplace=True)\n",
    "\n",
    "df_phases=df_lr.copy()\n",
    "t_values=sorted(set(df_phases.tbirth.values))\n",
    "DT=sorted(set(df_phases.tbirth.values))[0]\n",
    "#compute/plot average over particles\n",
    "N=len(list(set(df_phases.pid.values)))\n",
    "dfm=df_phases.groupby('tbirth').mean()\n",
    "dfs=df_phases.groupby('tbirth').std()\n",
    "# dfm=df_phases.groupby('tdeath').mean()\n",
    "# dfs=df_phases.groupby('tdeath').std()\n",
    "t_values=dfm.index.values\n",
    "range_values=dfm.r.values\n",
    "drdt_values=np.diff(range_values)/DT\n",
    "r_values=range_values[1:]/2+range_values[:-1]/2\n",
    "x_values_lr=r_values\n",
    "y_values_lr=drdt_values\n",
    "# yerr_values_lr=dfs.theta.values\n",
    "\n",
    "#fit drdt_values to F0+F1/r with OLS fit for LR model where 1/r is greater than some 1/cm\n",
    "rmax=.8 #cm\n",
    "boo=r_values<rmax\n",
    "x=1/r_values[boo]**2\n",
    "y=drdt_values[boo]\n",
    "\n",
    "boo=y<0.4\n",
    "x_lr=x[boo]\n",
    "y_lr=y[boo]\n",
    "\n",
    "dict_force_fit=compute_95CI_ols(x_lr,y_lr)\n",
    "y_hat_values=dict_force_fit['b']+dict_force_fit['m']/r_values**2\n",
    "\n",
    "x_lr=x.copy()\n",
    "y_lr=y.copy()\n",
    "\n",
    "dict_force_fit_lr=dict_force_fit\n",
    "y_hat_values_lr=y_hat_values\n",
    "\n",
    "df_phases=df_fk.copy()\n",
    "t_values=sorted(set(df_phases.tbirth.values))\n",
    "DT=sorted(set(df_phases.tbirth.values))[0]\n",
    "#compute/plot average over particles\n",
    "N=len(list(set(df_phases.pid.values)))\n",
    "dfm=df_phases.groupby('tbirth').mean()\n",
    "dfs=df_phases.groupby('tbirth').std()\n",
    "# dfm=df_phases.groupby('tdeath').mean()\n",
    "# dfs=df_phases.groupby('tdeath').std()\n",
    "t_values=dfm.index.values\n",
    "range_values=dfm.r.values\n",
    "drdt_values=np.diff(range_values)/DT\n",
    "r_values=range_values[1:]/2+range_values[:-1]/2\n",
    "x_values_fk=r_values\n",
    "y_values_fk=drdt_values\n",
    "# yerr_values_fk=dfs.theta.values\n",
    "\n",
    "#fit drdt_values to F0+F1/r with OLS fit for FK model where 1/r is greater than 2 1/cm\n",
    "rmax=.8#0.5 #cm\n",
    "boo=r_values<rmax\n",
    "x=1/r_values[boo]\n",
    "y=drdt_values[boo]\n",
    "dict_force_fit=compute_95CI_ols(x,y)\n",
    "y_hat_values=dict_force_fit['b']+dict_force_fit['m']/r_values\n",
    "dict_force_fit_fk=dict_force_fit\n",
    "y_hat_values_fk=y_hat_values\n",
    "\n",
    "print(f\"the best fits are\\n {dict_force_fit_lr} (LR) and \\n{dict_force_fit_fk} (FK).\")"
   ]
  },
  {
   "cell_type": "code",
   "execution_count": 58,
   "metadata": {
    "ExecuteTime": {
     "end_time": "2021-07-07T02:24:07.291526Z",
     "start_time": "2021-07-07T02:24:07.264083Z"
    },
    "hidden": true
   },
   "outputs": [],
   "source": [
    "def print_dict(input_dict):\n",
    "    for key in input_dict.keys():\n",
    "        print(f\"{key}={input_dict[key]}\")"
   ]
  },
  {
   "cell_type": "code",
   "execution_count": 59,
   "metadata": {
    "ExecuteTime": {
     "end_time": "2021-07-07T02:24:07.412142Z",
     "start_time": "2021-07-07T02:24:07.384299Z"
    },
    "hidden": true
   },
   "outputs": [],
   "source": [
    "# #TODO: use better binning/averaging?  There are weird values popping up on the y axis...\n",
    "# boo=y_lr<0.4\n",
    "# plt.plot(x_lr[boo],y_lr[boo])\n",
    "# plt.xscale('log')\n",
    "# plt.yscale('log')\n",
    "# print(compute_95CI_ols(np.log(x_lr[boo]),np.log(y_lr[boo])))\n",
    "# plt.show()\n",
    "# {'m': 1.1150177782249635, 'Delta_m': 0.0352362804512445, 'b': -3.5472307622899737, 'Delta_b': 0.03130914035225103, 'Rsquared': 0.9632068040661317}"
   ]
  },
  {
   "cell_type": "code",
   "execution_count": 60,
   "metadata": {
    "ExecuteTime": {
     "end_time": "2021-07-07T02:24:08.151120Z",
     "start_time": "2021-07-07T02:24:07.527886Z"
    },
    "hidden": true
   },
   "outputs": [
    {
     "data": {
      "image/png": "[encoded data removed]",
      "text/plain": [
       "<Figure size 504x216 with 2 Axes>"
      ]
     },
     "metadata": {
      "needs_background": "light"
     },
     "output_type": "display_data"
    }
   ],
   "source": [
    "fontsize=18\n",
    "alpha=0.1\n",
    "\n",
    "fig,axs=plt.subplots(ncols=2,figsize=(7,3))#(5,4))\n",
    "ax=axs[0]\n",
    "ax.scatter(x_values_fk,y_values_fk,c='C0',s=20,alpha=alpha)\n",
    "ax.scatter(x_values_lr,y_values_lr,c='C1',s=20,alpha=alpha)\n",
    "\n",
    "#plot fits\n",
    "ax.plot(x_values_fk,y_hat_values_fk,c='C0',lw=2,alpha=1)\n",
    "ax.plot(x_values_lr,y_hat_values_lr,c='C1',lw=2,alpha=1)\n",
    "\n",
    "ax.set_xlim([0,1.2])\n",
    "ax.set_ylim([-0.1,.5])\n",
    "ax.set_xlabel(x_label,fontsize=fontsize)\n",
    "ax.set_ylabel(y_label,fontsize=fontsize)\n",
    "# ax.set_xscale('log')\n",
    "ax.tick_params(axis='both', which='major', labelsize=fontsize)\n",
    "ax.tick_params(axis='both', which='minor', labelsize=1)\n",
    "\n",
    "ax=axs[1]\n",
    "ax.scatter(1/x_values_fk,y_values_fk,c='C0',s=20,alpha=alpha)\n",
    "ax.scatter(1/x_values_lr,y_values_lr,c='C1',s=20,alpha=alpha)\n",
    "\n",
    "#plot fits\n",
    "ax.plot(1/x_values_fk,y_hat_values_fk,c='C0',lw=2,alpha=1)\n",
    "ax.plot(1/x_values_lr,y_hat_values_lr,c='C1',lw=2,alpha=1)\n",
    "\n",
    "# y_hat_values_fk\n",
    "# y_hat_values_fk\n",
    "\n",
    "ax.set_xlim([.7,5])\n",
    "ax.set_ylim([-0.1,.4])\n",
    "ax.set_xlabel(r'$1/R$ (cm$^{-1}$)',fontsize=fontsize)\n",
    "ax.set_ylabel(y_label,fontsize=fontsize)\n",
    "\n",
    "# ax.set_xscale('log')\n",
    "ax.tick_params(axis='both', which='major', labelsize=fontsize)\n",
    "ax.tick_params(axis='both', which='minor', labelsize=1)\n",
    "#wrong bluf because aggregate\n",
    "plt.tight_layout()\n",
    "plt.show()"
   ]
  },
  {
   "cell_type": "markdown",
   "metadata": {
    "hidden": true
   },
   "source": [
    "For creation events from the LR model,\n",
    "$$\n",
    "F(R\n",
    ")\\propto\\frac{dR}{dt} = b + \\frac{m}{R}\n",
    "$$\n"
   ]
  },
  {
   "cell_type": "code",
   "execution_count": 54,
   "metadata": {
    "ExecuteTime": {
     "end_time": "2021-07-07T02:15:44.241683Z",
     "start_time": "2021-07-07T02:15:44.197707Z"
    },
    "hidden": true
   },
   "outputs": [
    {
     "name": "stdout",
     "output_type": "stream",
     "text": [
      "the ols fit for FK:\n",
      "m=0.04284740300370191\n",
      "Delta_m=0.0004136511517009633\n",
      "b=-0.026916537026502783\n",
      "Delta_b=0.0007914393345495595\n",
      "Rsquared=0.9994178343464857\n",
      "\n",
      "the ols fit for LR:\n",
      "m=0.03907907411208553\n",
      "Delta_m=0.0013708774900724602\n",
      "b=-0.016316728922834575\n",
      "Delta_b=0.003617423757764854\n",
      "Rsquared=0.9550463808209622\n"
     ]
    }
   ],
   "source": [
    "#TODO: try any more annihilation plots... \n",
    "# HINT: any from the following 3 panel\n",
    "# HINT: are phi values present/convenient? Yes.\n",
    "#TODO: condense the figures we like into functions. test on FK model\n",
    "#TODO: make comparable functions for LR model. \n",
    "print(f\"the ols fit for FK:\")\n",
    "print_dict(dict_force_fit_fk)\n",
    "print(f\"\\nthe ols fit for LR:\")\n",
    "print_dict(dict_force_fit_lr)"
   ]
  },
  {
   "cell_type": "code",
   "execution_count": 56,
   "metadata": {
    "ExecuteTime": {
     "end_time": "2021-07-07T02:21:47.421641Z",
     "start_time": "2021-07-07T02:21:47.253780Z"
    },
    "hidden": true
   },
   "outputs": [
    {
     "name": "stdout",
     "output_type": "stream",
     "text": [
      "nobs=7866 (FK)\n",
      "nobs=114 (LR)\n"
     ]
    }
   ],
   "source": [
    "nobs=df_fk.groupby('tbirth').r.count().iloc[0]\n",
    "print(f\"nobs={nobs} (FK)\")\n",
    "nobs=df_lr.groupby('tbirth').r.count().iloc[0]\n",
    "print(f\"nobs={nobs} (LR)\")"
   ]
  },
  {
   "cell_type": "code",
   "execution_count": null,
   "metadata": {
    "hidden": true
   },
   "outputs": [],
   "source": []
  },
  {
   "cell_type": "code",
   "execution_count": null,
   "metadata": {
    "hidden": true
   },
   "outputs": [],
   "source": []
  },
  {
   "cell_type": "markdown",
   "metadata": {
    "ExecuteTime": {
     "end_time": "2021-06-30T20:45:30.167270Z",
     "start_time": "2021-06-30T20:45:30.139880Z"
    },
    "heading_collapsed": true
   },
   "source": [
    "# TODO: make overlayed plots for phase angle values"
   ]
  },
  {
   "cell_type": "code",
   "execution_count": null,
   "metadata": {
    "hidden": true
   },
   "outputs": [],
   "source": []
  },
  {
   "cell_type": "code",
   "execution_count": 183,
   "metadata": {
    "ExecuteTime": {
     "end_time": "2021-06-30T19:31:03.775545Z",
     "start_time": "2021-06-30T19:30:39.560542Z"
    },
    "hidden": true
   },
   "outputs": [
    {
     "data": {
      "image/png": "[encoded data removed]",
      "text/plain": [
       "<Figure size 864x288 with 3 Axes>"
      ]
     },
     "metadata": {
      "needs_background": "light"
     },
     "output_type": "display_data"
    }
   ],
   "source": [
    "saving=False\n",
    "savefig_folder=f\"{nb_dir}/Figures\"\n",
    "savefig_fn=f\"lr-annihilations.png\"\n",
    "fontsize=14\n",
    "tmax=1e2\n",
    "alpha=.1\n",
    "fig,axs=plt.subplots(ncols=3,figsize=(12,4))#(5,4))\n",
    "\n",
    "# y_values_lst=[dfm.phi1.values,dfm.phi2.values,dfm.phi_sum.values, dfm.phi_diff.values]\n",
    "# y_values_lst=[phi1_values,phi2_values,phi_sum_values, phi_diff_values]\n",
    "# y_label_lst=[r'$\\phi_1$',r'$\\phi_2$',r'$\\phi_{sum}$',r'$\\phi_{diff}$']\n",
    "# ax_lst=[0,0,1,1]\n",
    "# c_lst=['C0','C1','C0','C1']\n",
    "\n",
    "#extract local particle values\n",
    "# pid_lst=list(set(df_phases.pid.values))\n",
    "# for pid in pid_lst:#[:10]:\n",
    "#     boo=df_phases.pid==pid\n",
    "t_values=df_phases.tdeath.values\n",
    "range_values=df_phases.r.values\n",
    "theta_values=df_phases.theta.values\n",
    "\n",
    "x_values=t_values\n",
    "y_values=theta_values\n",
    "ax=axs[0]\n",
    "ax.plot(x_values,y_values,alpha=alpha,label='_Hidden',c='gray',lw=2.5)\n",
    "ax.set_xlabel('time until annihilation (ms)',fontsize=fontsize)\n",
    "ax.set_ylabel('angle between\\n velocities (radians)',fontsize=fontsize)\n",
    "ax.set_xlim([DT,tmax])\n",
    "ax.set_xscale('log')\n",
    "ax.tick_params(axis='both', which='major', labelsize=fontsize)\n",
    "ax.tick_params(axis='both', which='minor', labelsize=1)\n",
    "\n",
    "#plot range versus time until death\n",
    "x_values=t_values\n",
    "y_values=range_values\n",
    "ax=axs[1]\n",
    "ax.scatter(x_values,y_values,alpha=alpha,label='_Hidden',c='gray',lw=2.5)\n",
    "ax.set_xlabel('time until annihilation (ms)',fontsize=fontsize)\n",
    "ax.set_ylabel('distance between\\nspiral tips (cm)',fontsize=fontsize)\n",
    "ax.set_xlim([DT,tmax])\n",
    "ax.set_xscale('log')\n",
    "ax.set_yscale('log')\n",
    "ax.tick_params(axis='both', which='major', labelsize=fontsize)\n",
    "ax.tick_params(axis='both', which='minor', labelsize=1)\n",
    "\n",
    "# plot angle between versus range (left)\n",
    "x_values=range_values\n",
    "y_values=theta_values\n",
    "ax=axs[2]\n",
    "ax.scatter(x_values,y_values,alpha=alpha,label='_Hidden',c='gray',s=15)\n",
    "ax.set_xlabel('distance between\\nspiral tips (cm)',fontsize=fontsize)\n",
    "ax.set_ylabel('angle between\\n velocities (radians)',fontsize=fontsize)\n",
    "ax.set_xlim([1e-2,1])\n",
    "ax.set_xscale('log')\n",
    "#     ax.set_yscale('log')\n",
    "ax.tick_params(axis='both', which='major', labelsize=fontsize)\n",
    "ax.tick_params(axis='both', which='minor', labelsize=1)   \n",
    "\n",
    "\n",
    "    \n",
    "# axs[0].set_title('phi_1 and phi_2 \\n',fontsize=fontsize)\n",
    "# axs[1].set_title('phi_sum and phi_diff \\n',fontsize=fontsize)\n",
    "plt.tight_layout()\n",
    "# plt.show()\n",
    "# print(f\"\\ttime between two frames was {0.001} ms\")\n",
    "\n",
    "\n",
    "plt.tight_layout()\n",
    "if not saving: \n",
    "    plt.show() \n",
    "else:\n",
    "    os.chdir(savefig_folder)\n",
    "    plt.savefig(savefig_fn, dpi=300)\n",
    "    print(f\"saved figure in \\n\\t{savefig_fn}\")\n",
    "#     plt.close()"
   ]
  },
  {
   "cell_type": "code",
   "execution_count": null,
   "metadata": {
    "hidden": true
   },
   "outputs": [],
   "source": []
  },
  {
   "cell_type": "code",
   "execution_count": 56,
   "metadata": {
    "ExecuteTime": {
     "end_time": "2021-06-26T03:49:06.526760Z",
     "start_time": "2021-06-26T03:49:05.934062Z"
    },
    "hidden": true
   },
   "outputs": [
    {
     "ename": "AttributeError",
     "evalue": "'DataFrame' object has no attribute 'tdeath'",
     "output_type": "error",
     "traceback": [
      "\u001b[0;31m---------------------------------------------------------------------------\u001b[0m",
      "\u001b[0;31mAttributeError\u001b[0m                            Traceback (most recent call last)",
      "\u001b[0;32m<ipython-input-56-08df7d28ecf7>\u001b[0m in \u001b[0;36m<module>\u001b[0;34m\u001b[0m\n\u001b[1;32m     17\u001b[0m \u001b[0;32mfor\u001b[0m \u001b[0mpid\u001b[0m \u001b[0;32min\u001b[0m \u001b[0mpid_lst\u001b[0m\u001b[0;34m:\u001b[0m\u001b[0;31m#[:10]:\u001b[0m\u001b[0;34m\u001b[0m\u001b[0;34m\u001b[0m\u001b[0m\n\u001b[1;32m     18\u001b[0m     \u001b[0mboo\u001b[0m\u001b[0;34m=\u001b[0m\u001b[0mdf_phases\u001b[0m\u001b[0;34m.\u001b[0m\u001b[0mpid\u001b[0m\u001b[0;34m==\u001b[0m\u001b[0mpid\u001b[0m\u001b[0;34m\u001b[0m\u001b[0;34m\u001b[0m\u001b[0m\n\u001b[0;32m---> 19\u001b[0;31m     \u001b[0mt_values\u001b[0m\u001b[0;34m=\u001b[0m\u001b[0mdf_phases\u001b[0m\u001b[0;34m[\u001b[0m\u001b[0mboo\u001b[0m\u001b[0;34m]\u001b[0m\u001b[0;34m.\u001b[0m\u001b[0mtdeath\u001b[0m\u001b[0;34m.\u001b[0m\u001b[0mvalues\u001b[0m\u001b[0;34m\u001b[0m\u001b[0;34m\u001b[0m\u001b[0m\n\u001b[0m\u001b[1;32m     20\u001b[0m     \u001b[0mrange_values\u001b[0m\u001b[0;34m=\u001b[0m\u001b[0mdf_phases\u001b[0m\u001b[0;34m[\u001b[0m\u001b[0mboo\u001b[0m\u001b[0;34m]\u001b[0m\u001b[0;34m.\u001b[0m\u001b[0mr\u001b[0m\u001b[0;34m.\u001b[0m\u001b[0mvalues\u001b[0m\u001b[0;34m\u001b[0m\u001b[0;34m\u001b[0m\u001b[0m\n\u001b[1;32m     21\u001b[0m     \u001b[0mtheta_values\u001b[0m\u001b[0;34m=\u001b[0m\u001b[0mdf_phases\u001b[0m\u001b[0;34m[\u001b[0m\u001b[0mboo\u001b[0m\u001b[0;34m]\u001b[0m\u001b[0;34m.\u001b[0m\u001b[0mtheta\u001b[0m\u001b[0;34m.\u001b[0m\u001b[0mvalues\u001b[0m\u001b[0;34m\u001b[0m\u001b[0;34m\u001b[0m\u001b[0m\n",
      "\u001b[0;32m~/anaconda3/lib/python3.7/site-packages/pandas/core/generic.py\u001b[0m in \u001b[0;36m__getattr__\u001b[0;34m(self, name)\u001b[0m\n\u001b[1;32m   5272\u001b[0m             \u001b[0;32mif\u001b[0m \u001b[0mself\u001b[0m\u001b[0;34m.\u001b[0m\u001b[0m_info_axis\u001b[0m\u001b[0;34m.\u001b[0m\u001b[0m_can_hold_identifiers_and_holds_name\u001b[0m\u001b[0;34m(\u001b[0m\u001b[0mname\u001b[0m\u001b[0;34m)\u001b[0m\u001b[0;34m:\u001b[0m\u001b[0;34m\u001b[0m\u001b[0;34m\u001b[0m\u001b[0m\n\u001b[1;32m   5273\u001b[0m                 \u001b[0;32mreturn\u001b[0m \u001b[0mself\u001b[0m\u001b[0;34m[\u001b[0m\u001b[0mname\u001b[0m\u001b[0;34m]\u001b[0m\u001b[0;34m\u001b[0m\u001b[0;34m\u001b[0m\u001b[0m\n\u001b[0;32m-> 5274\u001b[0;31m             \u001b[0;32mreturn\u001b[0m \u001b[0mobject\u001b[0m\u001b[0;34m.\u001b[0m\u001b[0m__getattribute__\u001b[0m\u001b[0;34m(\u001b[0m\u001b[0mself\u001b[0m\u001b[0;34m,\u001b[0m \u001b[0mname\u001b[0m\u001b[0;34m)\u001b[0m\u001b[0;34m\u001b[0m\u001b[0;34m\u001b[0m\u001b[0m\n\u001b[0m\u001b[1;32m   5275\u001b[0m \u001b[0;34m\u001b[0m\u001b[0m\n\u001b[1;32m   5276\u001b[0m     \u001b[0;32mdef\u001b[0m \u001b[0m__setattr__\u001b[0m\u001b[0;34m(\u001b[0m\u001b[0mself\u001b[0m\u001b[0;34m,\u001b[0m \u001b[0mname\u001b[0m\u001b[0;34m:\u001b[0m \u001b[0mstr\u001b[0m\u001b[0;34m,\u001b[0m \u001b[0mvalue\u001b[0m\u001b[0;34m)\u001b[0m \u001b[0;34m->\u001b[0m \u001b[0;32mNone\u001b[0m\u001b[0;34m:\u001b[0m\u001b[0;34m\u001b[0m\u001b[0;34m\u001b[0m\u001b[0m\n",
      "\u001b[0;31mAttributeError\u001b[0m: 'DataFrame' object has no attribute 'tdeath'"
     ]
    },
    {
     "data": {
      "image/png": "[encoded data removed]",
      "text/plain": [
       "<Figure size 864x288 with 3 Axes>"
      ]
     },
     "metadata": {
      "needs_background": "light"
     },
     "output_type": "display_data"
    }
   ],
   "source": [
    "saving=False\n",
    "savefig_folder=f\"{nb_dir}/Figures\"\n",
    "savefig_fn=f\"lr-annihilations.png\"\n",
    "fontsize=14\n",
    "tmax=1e2\n",
    "alpha=.1\n",
    "fig,axs=plt.subplots(ncols=3,figsize=(12,4))#(5,4))\n",
    "\n",
    "# y_values_lst=[dfm.phi1.values,dfm.phi2.values,dfm.phi_sum.values, dfm.phi_diff.values]\n",
    "# y_values_lst=[phi1_values,phi2_values,phi_sum_values, phi_diff_values]\n",
    "# y_label_lst=[r'$\\phi_1$',r'$\\phi_2$',r'$\\phi_{sum}$',r'$\\phi_{diff}$']\n",
    "# ax_lst=[0,0,1,1]\n",
    "# c_lst=['C0','C1','C0','C1']\n",
    "\n",
    "#extract local particle values\n",
    "pid_lst=list(set(df_phases.pid.values))\n",
    "for pid in pid_lst:#[:10]:\n",
    "    boo=df_phases.pid==pid\n",
    "    t_values=df_phases[boo].tdeath.values\n",
    "    range_values=df_phases[boo].r.values\n",
    "    theta_values=df_phases[boo].theta.values\n",
    "    \n",
    "    x_values=t_values\n",
    "    y_values=theta_values\n",
    "    ax=axs[0]\n",
    "    ax.plot(x_values,y_values,alpha=alpha,label='_Hidden',c='gray',lw=2.5)\n",
    "    ax.set_xlabel('time until annihilation (ms)',fontsize=fontsize)\n",
    "    ax.set_ylabel('angle between\\n velocities (radians)',fontsize=fontsize)\n",
    "    ax.set_xlim([DT,tmax])\n",
    "    ax.set_xscale('log')\n",
    "    ax.tick_params(axis='both', which='major', labelsize=fontsize)\n",
    "    ax.tick_params(axis='both', which='minor', labelsize=1)\n",
    "\n",
    "    #plot range versus time until death\n",
    "    x_values=t_values\n",
    "    y_values=range_values\n",
    "    ax=axs[1]\n",
    "    ax.plot(x_values,y_values,alpha=alpha,label='_Hidden',c='gray',lw=2.5)\n",
    "    ax.set_xlabel('time until annihilation (ms)',fontsize=fontsize)\n",
    "    ax.set_ylabel('distance between\\nspiral tips (cm)',fontsize=fontsize)\n",
    "    ax.set_xlim([DT,tmax])\n",
    "    ax.set_xscale('log')\n",
    "    ax.set_yscale('log')\n",
    "    ax.tick_params(axis='both', which='major', labelsize=fontsize)\n",
    "    ax.tick_params(axis='both', which='minor', labelsize=1)\n",
    "\n",
    "    # plot angle between versus range (left)\n",
    "    x_values=range_values\n",
    "    y_values=theta_values\n",
    "    ax=axs[2]\n",
    "    ax.scatter(x_values,y_values,alpha=alpha,label='_Hidden',c='gray',s=15)\n",
    "    ax.set_xlabel('distance between\\nspiral tips (cm)',fontsize=fontsize)\n",
    "    ax.set_ylabel('angle between\\n velocities (radians)',fontsize=fontsize)\n",
    "    ax.set_xlim([1e-2,1])\n",
    "    ax.set_xscale('log')\n",
    "#     ax.set_yscale('log')\n",
    "    ax.tick_params(axis='both', which='major', labelsize=fontsize)\n",
    "    ax.tick_params(axis='both', which='minor', labelsize=1)   \n",
    "    \n",
    "\n",
    "    \n",
    "# axs[0].set_title('phi_1 and phi_2 \\n',fontsize=fontsize)\n",
    "# axs[1].set_title('phi_sum and phi_diff \\n',fontsize=fontsize)\n",
    "plt.tight_layout()\n",
    "# plt.show()\n",
    "# print(f\"\\ttime between two frames was {0.001} ms\")\n",
    "\n",
    "\n",
    "plt.tight_layout()\n",
    "if not saving: \n",
    "    plt.show() \n",
    "else:\n",
    "    os.chdir(savefig_folder)\n",
    "    plt.savefig(savefig_fn, dpi=300)\n",
    "    print(f\"saved figure in \\n\\t{savefig_fn}\")\n",
    "#     plt.close()"
   ]
  },
  {
   "cell_type": "code",
   "execution_count": null,
   "metadata": {
    "ExecuteTime": {
     "end_time": "2021-06-26T03:19:22.226873Z",
     "start_time": "2021-06-26T03:19:01.770Z"
    },
    "hidden": true
   },
   "outputs": [],
   "source": [
    "# tA=DT # 0.4 #ms\n",
    "# tB=2   #ms\n",
    "# tC=20  #ms\n",
    "# #iterate over all annihilation events computing/plotting the shortest trajectory if it is long enough and if it gets further than a certain range\n",
    "# df_deaths=df_phases\n",
    "# saving=False\n",
    "# savefig_folder=f\"{nb_dir}/Figures\"\n",
    "# savefig_fn=f\"angles-between-deaths-b-lr.png\"\n",
    "# # savefig_fn=f\"angles-between-deaths-b.png\"\n",
    "# fontsize=16\n",
    "# bins=6\n",
    "# tmax=1e2\n",
    "# #plot naive range at death and birth\n",
    "# fig,axs=plt.subplots(ncols=2,figsize=(12,5))\n",
    "\n",
    "# # y_values_lst=[dfm.phi1.values,dfm.phi2.values,dfm.phi_sum.values, dfm.phi_diff.values]\n",
    "# # y_values_lst=[phi1_values,phi2_values,phi_sum_values, phi_diff_values]\n",
    "# y_label_lst=[r'$\\vartheta$']\n",
    "# ax_lst=[1]\n",
    "# c_lst=['gray']\n",
    "# # angle_threshold=2.3\n",
    "# val1_lst=[];val2_lst=[];val3_lst=[]\n",
    "# #extract local particle values\n",
    "# pid_lst=list(set(df_deaths.pid.values))\n",
    "# for pid in pid_lst:#[:10]:\n",
    "#     boo=df_deaths.pid==pid\n",
    "#     y_values_lst=[df_deaths[boo].theta.values]\n",
    "#     x_values=df_deaths[boo]['tdeath'].values\n",
    "#     for y_values,y_label,nax,color in zip(y_values_lst,y_label_lst,ax_lst,c_lst):\n",
    "#         ax=axs[nax]\n",
    "#         ax.plot(x_values,y_values,alpha=.3,label='_Hidden',c=color,lw=2.5)\n",
    "\n",
    "#         boo1=np.isclose(x_values,tA)\n",
    "#         boo2=np.isclose(x_values,tB)\n",
    "#         boo3=np.isclose(x_values,tC)\n",
    "#         val1=y_values[boo1]\n",
    "#         val2=y_values[boo2]\n",
    "#         val3=y_values[boo3]\n",
    "#         if val1.shape[0]>0:\n",
    "#             val1_lst.append(val1[0])\n",
    "#             val2_lst.append(val2[0])\n",
    "#             val3_lst.append(val3[0])\n",
    "            \n",
    "# ax.set_xlabel('time until annihilation (ms)',fontsize=fontsize)\n",
    "# ax.set_ylabel('angle between\\n velocities (radians)',fontsize=fontsize)\n",
    "# ax.set_xlim([DT,tmax])\n",
    "# ax.set_xscale('log')\n",
    "# ax.tick_params(axis='both', which='major', labelsize=fontsize)\n",
    "# ax.tick_params(axis='both', which='minor', labelsize=1)\n",
    "                \n",
    "# # fontsize=16\n",
    "# # fig,ax=plt.subplots(ncols=1,figsize=(5,5))\n",
    "# ax=axs[0]\n",
    "# # ax.hist(val1_lst,bins=bins,density=True,color='C0',label=f't=-{tA:.1f} ms',alpha=0.7)\n",
    "# ax.hist(val2_lst,bins=bins,density=True,color='C1',label=f't=-{tB:.1f} ms',alpha=0.7)\n",
    "# ax.hist(val3_lst,bins=bins,density=True,color='C2',label=f't=-{tC:.1f} ms',alpha=0.7)\n",
    "# ax.legend(fontsize=fontsize)\n",
    "# #plot control\n",
    "# xv=np.arange(0,np.pi,0.1)\n",
    "# ax.plot(xv,xv*0.+1/np.pi,'k--')#,color='gray',)\n",
    "# ax.set_xlabel('angle between\\n velocities (radians)',fontsize=fontsize)\n",
    "# ax.set_ylabel(r'prob. density',fontsize=fontsize)\n",
    "# ax.tick_params(axis='both', which='major', labelsize=fontsize)\n",
    "# ax.tick_params(axis='both', which='minor', labelsize=1)\n",
    "            \n",
    "# plt.tight_layout()\n",
    "# # plt.show()\n",
    "# # print(f\"\\ttime between two frames was {0.001} ms\")\n",
    "# plt.tight_layout()\n",
    "# if not saving:\n",
    "#     plt.show()\n",
    "# else:\n",
    "#     os.chdir(savefig_folder)\n",
    "#     plt.savefig(savefig_fn, dpi=300)\n",
    "#     print(f\"saved figure in \\n\\t{savefig_fn}\")\n",
    "\n",
    "#     #     plt.close()"
   ]
  },
  {
   "cell_type": "code",
   "execution_count": null,
   "metadata": {
    "ExecuteTime": {
     "end_time": "2021-06-26T03:19:22.227526Z",
     "start_time": "2021-06-26T03:19:01.773Z"
    },
    "hidden": true
   },
   "outputs": [],
   "source": [
    "# fontsize=16\n",
    "# saving=False\n",
    "# savefig_folder=f\"{nb_dir}/Figures\"\n",
    "# savefig_fn=f\"fine-death-range-phase.png\"\n",
    "# #plot naive range at death and birth\n",
    "# fig,axs=plt.subplots(ncols=2,figsize=(12,5))#(5,4))\n",
    "\n",
    "# # y_values_lst=[dfm.phi1.values,dfm.phi2.values,dfm.phi_sum.values, dfm.phi_diff.values]\n",
    "# # y_values_lst=[phi1_values,phi2_values,phi_sum_values, phi_diff_values]\n",
    "# y_label_lst=[r'$\\phi_1$',r'$\\phi_2$',r'$\\phi_{sum}$',r'$\\phi_{diff}$']\n",
    "# ax_lst=[0,0,1,1]\n",
    "# c_lst=['C0','C1','C0','C1']\n",
    "\n",
    "# #extract local particle values\n",
    "# pid_lst=list(set(df_phases.pid.values))\n",
    "# for pid in pid_lst[:10]:\n",
    "#     boo=df_phases.pid==pid\n",
    "#     y_values_lst=[df_phases[boo].phi1.values,df_phases[boo].phi2.values,df_phases[boo].phi_sum.values, df_phases[boo].phi_diff.values]\n",
    "#     x_values=df_phases[boo].tdeath.values\n",
    "#     for y_values,y_label,nax,color in zip(y_values_lst,y_label_lst,ax_lst,c_lst):\n",
    "#         ax=axs[nax]\n",
    "#         ax.plot(x_values,y_values,alpha=.3,label='_Hidden',c=color,lw=2.5)\n",
    "#         # plt.scatter(x_values[boo],range_values[boo],c='k',alpha=0.5,s=3)\n",
    "#         ax.set_xlabel('time until annihilation (ms)',fontsize=fontsize)\n",
    "#         ax.set_ylabel('signed phase (rad)',fontsize=fontsize)\n",
    "\n",
    "#         ax.set_xlim([DT,1e1])\n",
    "#     #     ax.set_ylim([-np.pi/8,np.pi/8])\n",
    "#         #     ax.set_xlim([1e-3,1e2])\n",
    "#         ax.set_xscale('log')\n",
    "#         # plt.yscale('log')\n",
    "#         ax.tick_params(axis='both', which='major', labelsize=fontsize)\n",
    "#         ax.tick_params(axis='both', which='minor', labelsize=1)\n",
    "#     #     ax.legend(fontsize=fontsize)\n",
    "# axs[0].set_title('phi_1 and phi_2 \\n',fontsize=fontsize)\n",
    "# axs[1].set_title('phi_sum and phi_diff \\n',fontsize=fontsize)\n",
    "# plt.tight_layout()\n",
    "# # plt.show()\n",
    "# # print(f\"\\ttime between two frames was {0.001} ms\")\n",
    "# plt.tight_layout()\n",
    "# if not saving: \n",
    "#     plt.show() \n",
    "# else:\n",
    "#     os.chdir(savefig_folder)\n",
    "#     plt.savefig(savefig_fn, dpi=300)\n",
    "#     print(f\"saved figure in \\n\\t{savefig_fn}\")\n",
    "# #     plt.close()"
   ]
  },
  {
   "cell_type": "code",
   "execution_count": null,
   "metadata": {
    "ExecuteTime": {
     "end_time": "2021-06-26T03:19:22.228140Z",
     "start_time": "2021-06-26T03:19:01.777Z"
    },
    "hidden": true,
    "scrolled": true
   },
   "outputs": [],
   "source": [
    "# fontsize=16\n",
    "# saving=False\n",
    "# savefig_folder=f\"{nb_dir}/Figures/fine_death\"\n",
    "# savefig_fn=f\"fine-death-range-phase.png\"\n",
    "# #plot naive range at death and birth\n",
    "# fig,axs=plt.subplots(ncols=2,figsize=(12,5))#(5,4))\n",
    "\n",
    "# y_values_lst=[phi1_values,phi2_values,phi_sum_values, phi_diff_values]\n",
    "# y_label_lst=[r'$\\phi_1$',r'$\\phi_2$',r'$\\phi_{sum}$',r'$\\phi_{diff}$']\n",
    "# ax_lst=[0,0,1,1]\n",
    "# c_lst=['C0','C1','C0','C1']\n",
    "\n",
    "# for y_values,y_label,nax,color in zip(y_values_lst,y_label_lst,ax_lst,c_lst):\n",
    "#     ax=axs[nax]\n",
    "#     ax.plot(x_values,y_values,alpha=1.0,label=y_label,c=color,lw=2.5)\n",
    "#     # plt.scatter(x_values[boo],range_values[boo],c='k',alpha=0.5,s=3)\n",
    "#     ax.set_xlabel('time until annihilation (ms)',fontsize=fontsize)\n",
    "#     ax.set_ylabel('signed phase (rad)',fontsize=fontsize)\n",
    "\n",
    "#     ax.set_xlim([DT,1e1])\n",
    "# #     ax.set_ylim([-np.pi/8,np.pi/8])\n",
    "#     #     ax.set_xlim([1e-3,1e2])\n",
    "#     ax.set_xscale('log')\n",
    "#     # plt.yscale('log')\n",
    "#     ax.tick_params(axis='both', which='major', labelsize=fontsize)\n",
    "#     ax.tick_params(axis='both', which='minor', labelsize=1)\n",
    "#     ax.legend(fontsize=fontsize)\n",
    "\n",
    "# plt.tight_layout()\n",
    "# # plt.show()\n",
    "# # print(f\"\\ttime between two frames was {0.001} ms\")\n",
    "# plt.tight_layout()\n",
    "# if not saving: \n",
    "#     plt.show() \n",
    "# else:\n",
    "#     os.chdir(savefig_folder)\n",
    "#     plt.savefig(savefig_fn, dpi=300)\n",
    "#     print(f\"saved figure in \\n\\t{savefig_fn}\")\n",
    "# #     plt.close()"
   ]
  },
  {
   "cell_type": "code",
   "execution_count": null,
   "metadata": {
    "hidden": true
   },
   "outputs": [],
   "source": []
  },
  {
   "cell_type": "code",
   "execution_count": null,
   "metadata": {
    "hidden": true
   },
   "outputs": [],
   "source": []
  },
  {
   "cell_type": "markdown",
   "metadata": {
    "hidden": true
   },
   "source": [
    "__schema__\n",
    "- t_until_death: time until death (index)\n",
    "- range_values: distance from tip to other tip\n",
    "- angle_values: angle between the velocity of one tip with the ray starting at the center of mass and extending out to the tip\n",
    "- "
   ]
  },
  {
   "cell_type": "markdown",
   "metadata": {
    "ExecuteTime": {
     "end_time": "2021-05-11T17:49:24.296646Z",
     "start_time": "2021-05-11T17:49:24.174233Z"
    },
    "hidden": true
   },
   "source": [
    "__TODO(later):__ convert this markdown cell into something that documents how angle_values were computed\n",
    "$$\n",
    "\\text{Let   } \\phi_1\\equiv\\cos^{-1}\\big(\\widehat{\\mathbf{x}_2-\\mathbf{x}_1}\\;\\cdot\\;\\hat{\\mathbf{a}}_1\\big),\n",
    "$$\n",
    "\n",
    "$$\n",
    "\\text{and let   } \\phi_2\\equiv\\cos^{-1}\\big(\\widehat{\\mathbf{x}_1-\\mathbf{x}_2}\\;\\cdot\\;\\hat{\\mathbf{a}}_2\\big).\n",
    "$$\n",
    "\n",
    "denote the (unsigned) phases of particle 1 & 2, where $\\mathbf{a}_1$ and $\\mathbf{a}_2$ are perpendicular to $\\nabla V\\equiv$ (grad_ux,grad_uy)."
   ]
  },
  {
   "cell_type": "code",
   "execution_count": null,
   "metadata": {
    "ExecuteTime": {
     "end_time": "2021-06-26T03:19:22.228727Z",
     "start_time": "2021-06-26T03:19:01.786Z"
    },
    "hidden": true
   },
   "outputs": [],
   "source": [
    "from lib.routines.dag_log_to_msd import *"
   ]
  },
  {
   "cell_type": "code",
   "execution_count": null,
   "metadata": {
    "ExecuteTime": {
     "end_time": "2021-06-26T03:19:22.229433Z",
     "start_time": "2021-06-26T03:19:01.790Z"
    },
    "hidden": true
   },
   "outputs": [],
   "source": [
    "#generate trajectories, unwrapped trajectories, and mean squared displacements for folder of tip logs\n",
    "ds=5\n",
    "width=200\n",
    "kwargs={\n",
    "    'L':width,\n",
    "    'DS':ds/width,\n",
    "    'use_cache':True,\n",
    "    'sr':3*width,\n",
    "    'mem':0}\n",
    "\n",
    "# input_fn=search_for_file();\n",
    "input_fn=\"/home/timothytyree/Documents/GitHub/care/notebooks/Data/initial-conditions-suite-3-LR/param_qu_tmax_30_Ko_5.4_diffCoef_0.0005_dt_0.025/Log/ic002.23_log.csv\"\n",
    "print(input_fn)\n",
    "output_file_name=run_routine_log_to_unwrapped_trajectory(input_fn,**kwargs)"
   ]
  },
  {
   "cell_type": "code",
   "execution_count": null,
   "metadata": {
    "ExecuteTime": {
     "end_time": "2021-06-26T03:19:22.230016Z",
     "start_time": "2021-06-26T03:19:01.794Z"
    },
    "hidden": true
   },
   "outputs": [],
   "source": [
    "# compute_angle_between_final_velocities\n",
    "# get_compute_ranges_between\n",
    "beep(6)"
   ]
  },
  {
   "cell_type": "code",
   "execution_count": null,
   "metadata": {
    "ExecuteTime": {
     "end_time": "2021-06-26T03:19:22.230555Z",
     "start_time": "2021-06-26T03:19:01.798Z"
    },
    "hidden": true
   },
   "outputs": [],
   "source": [
    "#TODO: load existing spiral tip trajectory data\n",
    "#TODO: compute_interactions\n",
    "#TODO: compute_ranges_between \n",
    "#TODO: visually test compute_angle_between_final_velocities\n",
    "\n",
    "#TODO: compute the angle between all tip annihilations.  save as csv\n",
    "#TODO: remove any events with tips that did not last longer than min_duration\n",
    "#TODO: remove any events with tips never had a range greater than min_range\n",
    "\n",
    "#TODO: find matplotlib/preexisting example of angular histogram\n"
   ]
  },
  {
   "cell_type": "code",
   "execution_count": null,
   "metadata": {
    "ExecuteTime": {
     "end_time": "2021-06-26T03:19:22.231157Z",
     "start_time": "2021-06-26T03:19:01.802Z"
    },
    "hidden": true
   },
   "outputs": [],
   "source": [
    "#Token fk model\n",
    "# input_fn=f\"/home/timothytyree/Documents/GitHub/care/notebooks/Data/initial-conditions-fk-300x300/ds_7.5_param_set_8/Log/ic300x300.0.6_traj_sr_600_mem_0.csv\"\n",
    "#Token lr model\n",
    "# input_fn=f\"/home/timothytyree/Documents/GitHub/care/notebooks/Data/initial-conditions-lr-300x300/param_qu_tmax_30/trajectories/ic300x300.3.3_traj_sr_600_mem_0.csv\"\n",
    "ds=5\n",
    "width=200\n",
    "height=width\n",
    "DS=ds/width\n",
    "\n",
    "# input_fn=search_for_file()\n",
    "# input_fn=f\"/home/timothytyree/Documents/GitHub/care/notebooks/Data/initial-conditions-fk-200x200/param_set_8_ds_5.0_tmax_10_diffCoef_0.0005/Log/ic200x200.0.3_traj_sr_400_mem_0.csv\"\n",
    "df=pd.read_csv(input_fn)\n",
    "print(input_fn)\n",
    "DT=compute_DT(df,round_t_to_n_digits=3);print(f\"the time resolution is {DT} ms.\")\n",
    "\n"
   ]
  },
  {
   "cell_type": "code",
   "execution_count": null,
   "metadata": {
    "ExecuteTime": {
     "end_time": "2021-06-26T03:19:22.231726Z",
     "start_time": "2021-06-26T03:19:01.807Z"
    },
    "hidden": true
   },
   "outputs": [],
   "source": [
    "df.head()"
   ]
  },
  {
   "cell_type": "code",
   "execution_count": null,
   "metadata": {
    "ExecuteTime": {
     "end_time": "2021-06-26T03:19:22.232446Z",
     "start_time": "2021-06-26T03:19:01.812Z"
    },
    "hidden": true
   },
   "outputs": [],
   "source": [
    "input_fn=f\"/home/timothytyree/Documents/GitHub/care/notebooks/Data/initial-conditions-fk-200x200/param_set_8_ds_5.0_tmax_10_diffCoef_0.0005/Log/ic200x200.0.3_traj_sr_400_mem_0.csv\"\n",
    "df_phases=compute_annihilation_events(input_fn,width,height,ds);#,**kwargs)\n",
    "df_phases.head()"
   ]
  },
  {
   "cell_type": "code",
   "execution_count": null,
   "metadata": {
    "ExecuteTime": {
     "end_time": "2021-06-26T03:19:22.233015Z",
     "start_time": "2021-06-26T03:19:01.816Z"
    },
    "hidden": true
   },
   "outputs": [],
   "source": [
    "#DONE: visually verify that the output makes sense\n",
    "#DONE: wrap all ^this into a function\n",
    "input_fn=f\"/home/timothytyree/Documents/GitHub/care/notebooks/Data/initial-conditions-fk-200x200/param_set_8_ds_5.0_tmax_10_diffCoef_0.0005/Log/ic200x200.0.3_traj_sr_400_mem_0.csv\"\n",
    "save_fn=save_annihilation_events(input_fn,width,height,ds,save_folder=None,save_fn=None,printing=False)#,**kwargs)\n",
    "print(save_fn)"
   ]
  },
  {
   "cell_type": "code",
   "execution_count": null,
   "metadata": {
    "ExecuteTime": {
     "end_time": "2021-06-26T03:19:22.233650Z",
     "start_time": "2021-06-26T03:19:01.820Z"
    },
    "hidden": true
   },
   "outputs": [],
   "source": [
    "# #DONE: move ^this to lib\n",
    "# #DONE: make routine and daskbag call to ^this for input_fn_lst\n",
    "# kwargs={\n",
    "#     width,height,ds,save_folder=None,save_fn=None\n",
    "# }"
   ]
  },
  {
   "cell_type": "code",
   "execution_count": null,
   "metadata": {
    "ExecuteTime": {
     "end_time": "2021-06-26T03:19:22.234227Z",
     "start_time": "2021-06-26T03:19:01.824Z"
    },
    "hidden": true
   },
   "outputs": [],
   "source": [
    "#compute/plot average over particles\n",
    "N=len(list(set(df_phases.pid.values)))\n",
    "dfm=df_phases.groupby('tdeath').mean()\n",
    "x_values=dfm.index.values\n",
    "# y_values=dfm.phi_diff.values\n",
    "y_values=dfm.theta.values\n",
    "plt.plot(x_values,y_values)\n",
    "plt.xlim([0,20])"
   ]
  },
  {
   "cell_type": "code",
   "execution_count": null,
   "metadata": {
    "ExecuteTime": {
     "end_time": "2021-06-26T03:19:22.234871Z",
     "start_time": "2021-06-26T03:19:01.828Z"
    },
    "hidden": true
   },
   "outputs": [],
   "source": [
    "fontsize=16\n",
    "#TODO: plot range versus time until death (right)\n",
    "#TODO: plot angle between versus range (left)\n",
    "tmax=1e2\n",
    "fig,axs=plt.subplots(ncols=2,figsize=(12,5))#(5,4))\n",
    "\n",
    "# y_values_lst=[dfm.phi1.values,dfm.phi2.values,dfm.phi_sum.values, dfm.phi_diff.values]\n",
    "# y_values_lst=[phi1_values,phi2_values,phi_sum_values, phi_diff_values]\n",
    "y_label_lst=[r'$\\phi_1$',r'$\\phi_2$',r'$\\phi_{sum}$',r'$\\phi_{diff}$']\n",
    "ax_lst=[0,0,1,1]\n",
    "c_lst=['C0','C1','C0','C1']\n",
    "\n",
    "#extract local particle values\n",
    "pid_lst=list(set(df_phases.pid.values))\n",
    "for pid in pid_lst[:10]:\n",
    "    boo=df_phases.pid==pid\n",
    "    range_values=df_phases[boo].r.values\n",
    "    tdeath_values=df_phases[boo].tdeath.values\n",
    "    theta_values=df_phases[boo].theta.values\n",
    "    \n",
    "    x_values=range_values\n",
    "    y_values=theta_values\n",
    "    ax=axs[0]\n",
    "    ax.scatter(x_values,y_values,alpha=.3,label='_Hidden',c='gray',s=15)\n",
    "    ax.set_xlabel('distance between\\nspiral tips (cm)',fontsize=fontsize)\n",
    "    ax.set_ylabel('angle between\\n velocities (radians)',fontsize=fontsize)\n",
    "    ax.set_xlim([1e-2,1])\n",
    "    ax.set_xscale('log')\n",
    "#     ax.set_yscale('log')\n",
    "    ax.tick_params(axis='both', which='major', labelsize=fontsize)\n",
    "    ax.tick_params(axis='both', which='minor', labelsize=1)   \n",
    "    \n",
    "    x_values=tdeath_values\n",
    "    y_values=range_values\n",
    "    ax=axs[1]\n",
    "    ax.plot(x_values,range_values,alpha=.3,label='_Hidden',c='gray',lw=2.5)\n",
    "    ax.set_xlabel('time until annihilation (ms)',fontsize=fontsize)\n",
    "    ax.set_ylabel('distance between\\nspiral tips (cm)',fontsize=fontsize)\n",
    "    ax.set_xlim([DT,tmax])\n",
    "    ax.set_xscale('log')\n",
    "    ax.set_yscale('log')\n",
    "    ax.tick_params(axis='both', which='major', labelsize=fontsize)\n",
    "    ax.tick_params(axis='both', which='minor', labelsize=1)\n",
    "    \n",
    "\n",
    "    \n",
    "# axs[0].set_title('phi_1 and phi_2 \\n',fontsize=fontsize)\n",
    "# axs[1].set_title('phi_sum and phi_diff \\n',fontsize=fontsize)\n",
    "plt.tight_layout()\n",
    "# plt.show()\n",
    "# print(f\"\\ttime between two frames was {0.001} ms\")\n",
    "\n",
    "saving=True\n",
    "savefig_folder=f\"{nb_dir}/Figures\"\n",
    "savefig_fn=f\"angles-between-deaths-a-lr.png\"\n",
    "# savefig_fn=f\"angles-between-deaths-a.png\"\n",
    "plt.tight_layout()\n",
    "if not saving: \n",
    "    plt.show() \n",
    "else:\n",
    "    os.chdir(savefig_folder)\n",
    "    plt.savefig(savefig_fn, dpi=300)\n",
    "    print(f\"saved figure in \\n\\t{savefig_fn}\")\n",
    "#     plt.close()"
   ]
  },
  {
   "cell_type": "code",
   "execution_count": null,
   "metadata": {
    "ExecuteTime": {
     "end_time": "2021-06-26T03:19:22.235418Z",
     "start_time": "2021-06-26T03:19:01.833Z"
    },
    "hidden": true
   },
   "outputs": [],
   "source": [
    "tA=DT # 0.4 #ms\n",
    "tB=2   #ms\n",
    "tC=20  #ms\n",
    "#iterate over all annihilation events computing/plotting the shortest trajectory if it is long enough and if it gets further than a certain range\n",
    "df_deaths=df_phases\n",
    "saving=True\n",
    "savefig_folder=f\"{nb_dir}/Figures\"\n",
    "savefig_fn=f\"angles-between-deaths-b-lr.png\"\n",
    "# savefig_fn=f\"angles-between-deaths-b.png\"\n",
    "fontsize=16\n",
    "bins=6\n",
    "tmax=1e2\n",
    "#plot naive range at death and birth\n",
    "fig,axs=plt.subplots(ncols=2,figsize=(12,5))\n",
    "\n",
    "# y_values_lst=[dfm.phi1.values,dfm.phi2.values,dfm.phi_sum.values, dfm.phi_diff.values]\n",
    "# y_values_lst=[phi1_values,phi2_values,phi_sum_values, phi_diff_values]\n",
    "y_label_lst=[r'$\\vartheta$']\n",
    "ax_lst=[1]\n",
    "c_lst=['gray']\n",
    "# angle_threshold=2.3\n",
    "val1_lst=[];val2_lst=[];val3_lst=[]\n",
    "#extract local particle values\n",
    "pid_lst=list(set(df_deaths.pid.values))\n",
    "for pid in pid_lst:#[:10]:\n",
    "    boo=df_deaths.pid==pid\n",
    "    y_values_lst=[df_deaths[boo].theta.values]\n",
    "    x_values=df_deaths[boo]['tdeath'].values\n",
    "    for y_values,y_label,nax,color in zip(y_values_lst,y_label_lst,ax_lst,c_lst):\n",
    "        ax=axs[nax]\n",
    "        ax.plot(x_values,y_values,alpha=.3,label='_Hidden',c=color,lw=2.5)\n",
    "\n",
    "        boo1=np.isclose(x_values,tA)\n",
    "        boo2=np.isclose(x_values,tB)\n",
    "        boo3=np.isclose(x_values,tC)\n",
    "        val1=y_values[boo1]\n",
    "        val2=y_values[boo2]\n",
    "        val3=y_values[boo3]\n",
    "        if val1.shape[0]>0:\n",
    "            val1_lst.append(val1[0])\n",
    "            val2_lst.append(val2[0])\n",
    "            val3_lst.append(val3[0])\n",
    "            \n",
    "ax.set_xlabel('time until annihilation (ms)',fontsize=fontsize)\n",
    "ax.set_ylabel('angle between\\n velocities (radians)',fontsize=fontsize)\n",
    "ax.set_xlim([DT,tmax])\n",
    "ax.set_xscale('log')\n",
    "ax.tick_params(axis='both', which='major', labelsize=fontsize)\n",
    "ax.tick_params(axis='both', which='minor', labelsize=1)\n",
    "                \n",
    "# fontsize=16\n",
    "# fig,ax=plt.subplots(ncols=1,figsize=(5,5))\n",
    "ax=axs[0]\n",
    "# ax.hist(val1_lst,bins=bins,density=True,color='C0',label=f't=-{tA:.1f} ms',alpha=0.7)\n",
    "ax.hist(val2_lst,bins=bins,density=True,color='C1',label=f't=-{tB:.1f} ms',alpha=0.7)\n",
    "ax.hist(val3_lst,bins=bins,density=True,color='C2',label=f't=-{tC:.1f} ms',alpha=0.7)\n",
    "ax.legend(fontsize=fontsize)\n",
    "#plot control\n",
    "xv=np.arange(0,np.pi,0.1)\n",
    "ax.plot(xv,xv*0.+1/np.pi,'k--')#,color='gray',)\n",
    "ax.set_xlabel('angle between\\n velocities (radians)',fontsize=fontsize)\n",
    "ax.set_ylabel(r'prob. density',fontsize=fontsize)\n",
    "ax.tick_params(axis='both', which='major', labelsize=fontsize)\n",
    "ax.tick_params(axis='both', which='minor', labelsize=1)\n",
    "            \n",
    "plt.tight_layout()\n",
    "# plt.show()\n",
    "# print(f\"\\ttime between two frames was {0.001} ms\")\n",
    "plt.tight_layout()\n",
    "if not saving:\n",
    "    plt.show()\n",
    "else:\n",
    "    os.chdir(savefig_folder)\n",
    "    plt.savefig(savefig_fn, dpi=300)\n",
    "    print(f\"saved figure in \\n\\t{savefig_fn}\")\n",
    "\n",
    "    #     plt.close()"
   ]
  },
  {
   "cell_type": "code",
   "execution_count": null,
   "metadata": {
    "ExecuteTime": {
     "end_time": "2021-06-26T03:19:22.236109Z",
     "start_time": "2021-06-26T03:19:01.837Z"
    },
    "hidden": true,
    "scrolled": true
   },
   "outputs": [],
   "source": [
    "fontsize=16\n",
    "#plot naive range at death and birth\n",
    "fig,axs=plt.subplots(ncols=2,figsize=(12,5))#(5,4))\n",
    "\n",
    "y_values_lst=[phi1_values,phi2_values,phi_sum_values, phi_diff_values]\n",
    "y_label_lst=[r'$\\phi_1$',r'$\\phi_2$',r'$\\phi_{sum}$',r'$\\phi_{diff}$']\n",
    "ax_lst=[0,0,1,1]\n",
    "c_lst=['C0','C1','C0','C1']\n",
    "\n",
    "for y_values,y_label,nax,color in zip(y_values_lst,y_label_lst,ax_lst,c_lst):\n",
    "    ax=axs[nax]\n",
    "    ax.plot(x_values,y_values,alpha=1.0,label=y_label,c=color,lw=2.5)\n",
    "    # plt.scatter(x_values[boo],range_values[boo],c='k',alpha=0.5,s=3)\n",
    "    ax.set_xlabel('time until annihilation (ms)',fontsize=fontsize)\n",
    "    ax.set_ylabel('signed phase (rad)',fontsize=fontsize)\n",
    "\n",
    "    ax.set_xlim([DT,1e1])\n",
    "#     ax.set_ylim([-np.pi/8,np.pi/8])\n",
    "    #     ax.set_xlim([1e-3,1e2])\n",
    "    ax.set_xscale('log')\n",
    "    # plt.yscale('log')\n",
    "    ax.tick_params(axis='both', which='major', labelsize=fontsize)\n",
    "    ax.tick_params(axis='both', which='minor', labelsize=1)\n",
    "    ax.legend(fontsize=fontsize)\n",
    "\n",
    "plt.tight_layout()\n",
    "# plt.show()\n",
    "# print(f\"\\ttime between two frames was {0.001} ms\")\n",
    "\n",
    "saving=False\n",
    "savefig_folder=f\"{nb_dir}/Figures/fine_death\"\n",
    "savefig_fn=f\"fine-death-range-phase.png\"\n",
    "plt.tight_layout()\n",
    "if not saving: \n",
    "    plt.show() \n",
    "else:\n",
    "    os.chdir(savefig_folder)\n",
    "    plt.savefig(savefig_fn, dpi=300)\n",
    "    print(f\"saved figure in \\n\\t{savefig_fn}\")\n",
    "#     plt.close()"
   ]
  },
  {
   "cell_type": "code",
   "execution_count": null,
   "metadata": {
    "ExecuteTime": {
     "end_time": "2021-06-26T03:19:22.236805Z",
     "start_time": "2021-06-26T03:19:01.843Z"
    },
    "hidden": true
   },
   "outputs": [],
   "source": [
    "fontsize=16\n",
    "#plot naive range at death and birth\n",
    "fig,axs=plt.subplots(ncols=2,figsize=(12,5))#(5,4))\n",
    "\n",
    "# y_values_lst=[dfm.phi1.values,dfm.phi2.values,dfm.phi_sum.values, dfm.phi_diff.values]\n",
    "# y_values_lst=[phi1_values,phi2_values,phi_sum_values, phi_diff_values]\n",
    "y_label_lst=[r'$\\phi_1$',r'$\\phi_2$',r'$\\phi_{sum}$',r'$\\phi_{diff}$']\n",
    "ax_lst=[0,0,1,1]\n",
    "c_lst=['C0','C1','C0','C1']\n",
    "\n",
    "#extract local particle values\n",
    "pid_lst=list(set(df_phases.pid.values))\n",
    "for pid in pid_lst[:10]:\n",
    "    boo=df_phases.pid==pid\n",
    "    y_values_lst=[df_phases[boo].phi1.values,df_phases[boo].phi2.values,df_phases[boo].phi_sum.values, df_phases[boo].phi_diff.values]\n",
    "    x_values=df_phases[boo].tdeath.values\n",
    "    for y_values,y_label,nax,color in zip(y_values_lst,y_label_lst,ax_lst,c_lst):\n",
    "        ax=axs[nax]\n",
    "        ax.plot(x_values,y_values,alpha=.3,label='_Hidden',c=color,lw=2.5)\n",
    "        # plt.scatter(x_values[boo],range_values[boo],c='k',alpha=0.5,s=3)\n",
    "        ax.set_xlabel('time until annihilation (ms)',fontsize=fontsize)\n",
    "        ax.set_ylabel('signed phase (rad)',fontsize=fontsize)\n",
    "\n",
    "        ax.set_xlim([DT,1e1])\n",
    "    #     ax.set_ylim([-np.pi/8,np.pi/8])\n",
    "        #     ax.set_xlim([1e-3,1e2])\n",
    "        ax.set_xscale('log')\n",
    "        # plt.yscale('log')\n",
    "        ax.tick_params(axis='both', which='major', labelsize=fontsize)\n",
    "        ax.tick_params(axis='both', which='minor', labelsize=1)\n",
    "    #     ax.legend(fontsize=fontsize)\n",
    "axs[0].set_title('phi_1 and phi_2 \\n',fontsize=fontsize)\n",
    "axs[1].set_title('phi_sum and phi_diff \\n',fontsize=fontsize)\n",
    "plt.tight_layout()\n",
    "# plt.show()\n",
    "# print(f\"\\ttime between two frames was {0.001} ms\")\n",
    "\n",
    "saving=False\n",
    "savefig_folder=f\"{nb_dir}/Figures\"\n",
    "savefig_fn=f\"fine-death-range-phase.png\"\n",
    "plt.tight_layout()\n",
    "if not saving: \n",
    "    plt.show() \n",
    "else:\n",
    "    os.chdir(savefig_folder)\n",
    "    plt.savefig(savefig_fn, dpi=300)\n",
    "    print(f\"saved figure in \\n\\t{savefig_fn}\")\n",
    "#     plt.close()"
   ]
  },
  {
   "cell_type": "code",
   "execution_count": null,
   "metadata": {
    "ExecuteTime": {
     "end_time": "2021-06-17T02:50:24.964067Z",
     "start_time": "2021-06-17T02:50:24.940780Z"
    },
    "hidden": true
   },
   "outputs": [],
   "source": []
  },
  {
   "cell_type": "code",
   "execution_count": null,
   "metadata": {
    "ExecuteTime": {
     "end_time": "2021-06-26T03:19:22.237586Z",
     "start_time": "2021-06-26T03:19:01.851Z"
    },
    "hidden": true
   },
   "outputs": [],
   "source": [
    "# #compute measures near annihilation\n",
    "# #input: df_ordered_interactions\n",
    "# min_duration=75 #ms\n",
    "# min_range=1. #cm\n",
    "# dsdpixel=ds/width #cm per pixel\n",
    "# use_min_duration=False\n",
    "# use_grad_voltage=True\n",
    "\n",
    "# pid_queue=list(df_ordered_interactions.pid.values)\n",
    "# pid_deathmate_dict=dict(zip(pid_queue,list(df_ordered_interactions.pid_deathmate.values)))\n",
    "# df_out_lst=[]\n",
    "# while len(pid_queue)>0:\n",
    "#     pid=pid_queue.pop(0)\n",
    "#     pid_deathmate=pid_deathmate_dict[pid]\n",
    "#     try:\n",
    "#         pid_queue.remove(pid_deathmate)\n",
    "#         #extract d1,d2\n",
    "#         d1=df[df.particle==pid].copy()\n",
    "#         d2=df[df.particle==pid_deathmate].copy()\n",
    "#         d1.index=d1.frame\n",
    "#         d2.index=d2.frame\n",
    "#         #compute ranges between\n",
    "#         range_values=compute_ranges_between(d1,d2)*dsdpixel\n",
    "#         length=t_to_death_values.shape[0]\n",
    "#         #compute x,y values\n",
    "#         if use_grad_voltage:\n",
    "#             t_to_death_values, phi1_values, phi2_values, phi_sum_values, phi_diff_values=compute_phase_angles_from_grad_voltage(d1,d2)\n",
    "            \n",
    "#         else:\n",
    "#             t_vals=d1['t'].values[:-length]\n",
    "#             t_to_death_values=np.max(t_vals)-t_vals\n",
    "        \n",
    "#         nobs=np.abs(phi1_values)[1:-1].shape[0]\n",
    "#         if nobs>1:\n",
    "#             #compute range_values\n",
    "#             range_values=compute_ranges_between(d1,d2)*dsdpixel\n",
    "#             #compute angle between velocities\n",
    "#             tdeath_values,angle_between_values=compute_angle_between_final_velocities(d1,d2)\n",
    "#             theta_values=angle_between_values\n",
    "#             #heretim\n",
    "#             #align range_values and theta_values\n",
    "#             boo=~np.isnan(theta_values)\n",
    "#             theta_values=theta_values[boo]        \n",
    "#             assert(range_values.shape[0]==t_to_death_values.shape[0])\n",
    "#             if use_min_duration:\n",
    "#                 #filter by min_duration\n",
    "#                 t_values=t_to_death_values[1:-1]\n",
    "#                 boo_keep = min_duration<=np.max(t_values)-np.min(t_values)\n",
    "#                 #filter by min_range\n",
    "#                 boo_keep &=min_range<=np.max(range_values)\n",
    "#             else:\n",
    "#                 boo_keep =min_range<=np.max(range_values)\n",
    "                \n",
    "#             if boo_keep:\n",
    "#                 if use_grad_voltage:\n",
    "#                     df_out=pd.DataFrame({\n",
    "#                         'pid':pid+0*t_values.astype('int'),\n",
    "#                         'pid_deathmate':pid_deathmate+0*t_values.astype('int'),\n",
    "#                         'tdeath':t_values,\n",
    "#                         'phi1':np.abs(phi1_values)[1:-1],\n",
    "#                         'phi2':np.abs(phi2_values)[1:-1],\n",
    "#                         'phi_sum':np.abs(phi_sum_values)[1:-1],\n",
    "#                         'phi_diff':np.abs(phi_diff_values)[1:-1],\n",
    "#                         'r':range_values[1:-1],\n",
    "#                         'theta':theta_values,\n",
    "#                     })\n",
    "#                 else:\n",
    "#                     df_out=pd.DataFrame({\n",
    "#                         'pid':pid+0*t_values.astype('int'),\n",
    "#                         'pid_deathmate':pid_deathmate+0*t_values.astype('int'),\n",
    "#                         'tdeath':t_values,\n",
    "#                         'r':range_values[1:-1],\n",
    "#                         'theta':theta_values,\n",
    "#                     })\n",
    "\n",
    "#                 #append x,y values to list\n",
    "#                 df_out_lst.append(df_out)\n",
    "#     except ValueError as e: #for catching ValueError: list.remove(x): x not in list\n",
    "#         pass"
   ]
  },
  {
   "cell_type": "code",
   "execution_count": null,
   "metadata": {
    "ExecuteTime": {
     "end_time": "2021-06-17T02:38:48.619065Z",
     "start_time": "2021-06-17T02:38:48.577249Z"
    },
    "hidden": true
   },
   "outputs": [],
   "source": []
  },
  {
   "cell_type": "markdown",
   "metadata": {
    "hidden": true
   },
   "source": [
    "__Result__\n",
    "- When the distance between tips is ~0.4cm in the Fenton-Karma model, the undirected force is comparable to the inward directed force that is responsible for annihilation.\n",
    "- "
   ]
  },
  {
   "cell_type": "markdown",
   "metadata": {
    "heading_collapsed": true
   },
   "source": [
    "# visualize angle between final velocities"
   ]
  },
  {
   "cell_type": "code",
   "execution_count": null,
   "metadata": {
    "ExecuteTime": {
     "end_time": "2021-06-26T03:19:22.238345Z",
     "start_time": "2021-06-26T03:19:01.862Z"
    },
    "hidden": true
   },
   "outputs": [],
   "source": [
    "pid_lst=df_ordered_interactions.pid.values\n",
    "pid_mate_lst=df_ordered_interactions.pid_deathmate.values\n",
    "# pid_mate_lst=df_ordered_interactions.pid_birthmate.values\n",
    "pid_mate_dict=dict(zip(pid_lst,pid_mate_lst))"
   ]
  },
  {
   "cell_type": "code",
   "execution_count": null,
   "metadata": {
    "ExecuteTime": {
     "end_time": "2021-06-26T03:19:22.239077Z",
     "start_time": "2021-06-26T03:19:01.868Z"
    },
    "hidden": true
   },
   "outputs": [],
   "source": [
    "pid=pid_lst[0]\n",
    "pid_mate=pid_mate_dict[pid]"
   ]
  },
  {
   "cell_type": "code",
   "execution_count": null,
   "metadata": {
    "ExecuteTime": {
     "end_time": "2021-06-26T03:19:22.240439Z",
     "start_time": "2021-06-26T03:19:01.873Z"
    },
    "hidden": true
   },
   "outputs": [],
   "source": [
    "#extract d1,d2\n",
    "d1=df[df.particle==pid].copy()\n",
    "d2=df[df.particle==pid_mate].copy()\n",
    "d1.index=d1.frame\n",
    "d2.index=d2.frame\n",
    "\n",
    "tdeath_values,angle_between_values=compute_angle_between_final_velocities(d1,d2)\n",
    "\n",
    "\n",
    "df_out=pd.DataFrame({\n",
    "    'tdeath':tdeath_values,\n",
    "    'theta':angle_between_values,\n",
    "    'pid':pid})"
   ]
  },
  {
   "cell_type": "code",
   "execution_count": null,
   "metadata": {
    "ExecuteTime": {
     "end_time": "2021-06-26T03:19:22.241157Z",
     "start_time": "2021-06-26T03:19:01.878Z"
    },
    "hidden": true
   },
   "outputs": [],
   "source": [
    "#compute ranges between\n",
    "compute_ranges_between=get_compute_ranges_between(width=width,height=height)\n",
    "tdeath_values,angle_between_values=compute_angle_between_final_velocities(d1,d2)\n",
    "range_values=compute_ranges_between(d1,d2)\n",
    "\n",
    "# compute_relative_velocities\n",
    "# compute_phase_angles_from_grad_voltage\n",
    "#TODO: filter any deaths that never exhibit ranges exceeding range_threshold\n"
   ]
  },
  {
   "cell_type": "code",
   "execution_count": null,
   "metadata": {
    "ExecuteTime": {
     "end_time": "2021-06-16T20:50:55.926912Z",
     "start_time": "2021-06-16T20:50:55.889532Z"
    },
    "hidden": true
   },
   "outputs": [],
   "source": []
  },
  {
   "cell_type": "code",
   "execution_count": null,
   "metadata": {
    "ExecuteTime": {
     "end_time": "2021-06-26T03:19:22.241843Z",
     "start_time": "2021-06-26T03:19:01.887Z"
    },
    "hidden": true
   },
   "outputs": [],
   "source": [
    "#am i indexing by time?\n",
    "dd=d1[['x','y']].copy()\n",
    "dd[['xx','yy']]=d2[['x','y']]"
   ]
  },
  {
   "cell_type": "code",
   "execution_count": null,
   "metadata": {
    "ExecuteTime": {
     "end_time": "2021-06-26T03:19:22.242456Z",
     "start_time": "2021-06-26T03:19:01.892Z"
    },
    "hidden": true
   },
   "outputs": [],
   "source": [
    "# compute displacement unit vector from tip 1 to tip 2\n",
    "xy1_values=np.array(list(zip(dd['x'],dd['y'])))\n",
    "xy2_values=np.array(list(zip(dd['xx'],dd['yy'])))\n",
    "\n",
    "#I think this length check is unnecessary\n",
    "s1=xy1_values.shape[0]\n",
    "s2=xy2_values.shape[0]\n",
    "xy2_minus_xy1_values=np.zeros((np.min((s1,s2)),2))\n",
    "\n",
    "#compute displacements between\n",
    "for j in range(xy2_minus_xy1_values.shape[0]):\n",
    "    xy2_minus_xy1_values[j]=subtract_pbc(xy2_values[j],xy1_values[j])"
   ]
  },
  {
   "cell_type": "code",
   "execution_count": null,
   "metadata": {
    "ExecuteTime": {
     "end_time": "2021-06-26T03:19:22.243114Z",
     "start_time": "2021-06-26T03:19:01.898Z"
    },
    "hidden": true
   },
   "outputs": [],
   "source": [
    "range_values.shape, tdeath_values.shape, angle_between_values.shape"
   ]
  },
  {
   "cell_type": "code",
   "execution_count": null,
   "metadata": {
    "ExecuteTime": {
     "end_time": "2021-06-26T03:19:22.243801Z",
     "start_time": "2021-06-26T03:19:01.903Z"
    },
    "hidden": true
   },
   "outputs": [],
   "source": [
    "boo=np.isnan(angle_between_values)\n",
    "angle_between_values=angle_between_values[boo]\n",
    "tdeath_values=tdeath_values[boo]\n",
    "tdeath_values.shape"
   ]
  },
  {
   "cell_type": "code",
   "execution_count": null,
   "metadata": {
    "ExecuteTime": {
     "end_time": "2021-06-26T03:19:22.244377Z",
     "start_time": "2021-06-26T03:19:01.908Z"
    },
    "hidden": true
   },
   "outputs": [],
   "source": [
    "compute_velo"
   ]
  },
  {
   "cell_type": "code",
   "execution_count": null,
   "metadata": {
    "ExecuteTime": {
     "end_time": "2021-06-26T03:19:22.244942Z",
     "start_time": "2021-06-26T03:19:01.914Z"
    },
    "hidden": true
   },
   "outputs": [],
   "source": [
    "#TODO: augment df_out with ^that \n",
    "pid_queue=list(df_ordered_interactions.pid.values)\n",
    "len(pid_queue)"
   ]
  },
  {
   "cell_type": "code",
   "execution_count": null,
   "metadata": {
    "ExecuteTime": {
     "end_time": "2021-06-26T03:19:22.245578Z",
     "start_time": "2021-06-26T03:19:01.919Z"
    },
    "hidden": true
   },
   "outputs": [],
   "source": [
    "#iterate over all trajectories in the pid_lst\n",
    "min_duration=50 #ms\n",
    "min_range=1 #cm\n",
    "pid_queue=list(df_ordered_interactions.pid.values)\n",
    "df_out_lst=[]\n",
    "while len(pid_queue)>0:\n",
    "    pid=pid_queue.pop(0)\n",
    "    pid_mate=pid_mate_dict[pid]\n",
    "    try:\n",
    "        pid_queue.remove(pid_mate)\n",
    "        #extract d1,d2\n",
    "        d1=df[df.particle==pid].copy()\n",
    "        d2=df[df.particle==pid_mate].copy()\n",
    "        d1.index=d1.frame\n",
    "        d2.index=d2.frame\n",
    "\n",
    "        tdeath_values,angle_between_values=compute_angle_between_final_velocities(d1,d2)\n",
    "        \n",
    "        duration=np.max(tdeath_values)-np.min(tdeath_values)\n",
    "        use_event=duration>min_duration\n",
    "        df_out=pd.DataFrame({\n",
    "            'tau':tdeath_values,\n",
    "            'theta':angle_between_values,\n",
    "            'pid':pid})\n",
    "        #append x,y values to list\n",
    "        df_out_lst.append(df_out)\n",
    "    except ValueError as e:\n",
    "        pass\n",
    "\n",
    "df_deaths=pd.concat(df_out_lst)\n",
    "df_deaths.dropna(inplace=True)"
   ]
  },
  {
   "cell_type": "code",
   "execution_count": null,
   "metadata": {
    "ExecuteTime": {
     "end_time": "2021-06-26T03:19:22.246407Z",
     "start_time": "2021-06-26T03:19:01.925Z"
    },
    "hidden": true
   },
   "outputs": [],
   "source": [
    "df_out.head()"
   ]
  },
  {
   "cell_type": "code",
   "execution_count": null,
   "metadata": {
    "ExecuteTime": {
     "end_time": "2021-06-26T03:19:22.247274Z",
     "start_time": "2021-06-26T03:19:01.930Z"
    },
    "hidden": true
   },
   "outputs": [],
   "source": [
    "#TODO: plot xy values for pid in list\n",
    "#TODO: compute/plot average over particles\n",
    "N=len(list(set(df_phases.pid.values)))\n",
    "dfm=df_deaths.groupby('tau').mean()\n",
    "x_values=dfm.index.values\n",
    "y_values=dfm.theta.values\n",
    "plt.plot(x_values,y_values)\n",
    "plt.xlim([0,30])\n",
    "print(\"plotting averages\")\n",
    "plt.show()"
   ]
  },
  {
   "cell_type": "code",
   "execution_count": null,
   "metadata": {
    "ExecuteTime": {
     "end_time": "2021-06-26T03:19:22.248218Z",
     "start_time": "2021-06-26T03:19:01.936Z"
    },
    "hidden": true
   },
   "outputs": [],
   "source": [
    "plt.plot(tdeath_values,angle_between_values)\n",
    "# plt.xlim([DT,3e1])"
   ]
  },
  {
   "cell_type": "code",
   "execution_count": null,
   "metadata": {
    "ExecuteTime": {
     "end_time": "2021-06-26T03:19:22.249079Z",
     "start_time": "2021-06-26T03:19:01.941Z"
    },
    "hidden": true
   },
   "outputs": [],
   "source": [
    "#iterate over all annihilation events computing/plotting the shortest trajectory if it is long enough and if it gets further than a certain range\n",
    "saving=True\n",
    "savefig_folder=f\"{nb_dir}/Figures\"\n",
    "savefig_fn=f\"angles-between-deaths.png\"\n",
    "fontsize=16\n",
    "bins=6\n",
    "#plot naive range at death and birth\n",
    "fig,axs=plt.subplots(ncols=2,figsize=(12,4))\n",
    "\n",
    "# y_values_lst=[dfm.phi1.values,dfm.phi2.values,dfm.phi_sum.values, dfm.phi_diff.values]\n",
    "# y_values_lst=[phi1_values,phi2_values,phi_sum_values, phi_diff_values]\n",
    "y_label_lst=[r'$\\vartheta$']\n",
    "ax_lst=[1]\n",
    "c_lst=['gray']\n",
    "angle_threshold=2.3\n",
    "val_lst=[]\n",
    "#extract local particle values\n",
    "pid_lst=list(set(df_deaths.pid.values))\n",
    "for pid in pid_lst:#[:10]:\n",
    "    boo=df_deaths.pid==pid\n",
    "    y_values_lst=[df_deaths[boo].theta.values]\n",
    "    x_values=df_deaths[boo].tau.values\n",
    "    for y_values,y_label,nax,color in zip(y_values_lst,y_label_lst,ax_lst,c_lst):\n",
    "#         if (y_values[0]>=angle_threshold) or (y_values[1]>=angle_threshold):\n",
    "        if not (y_values[:3]<angle_threshold).any():# or (y_values[1]>=angle_threshold):\n",
    "            ax=axs[nax]\n",
    "            ax.plot(x_values,y_values,alpha=.3,label='_Hidden',c=color,lw=2.5)\n",
    "            # plt.scatter(x_values[boo],range_values[boo],c='k',alpha=0.5,s=3)\n",
    "            \n",
    "            val_lst.append(y_values[0])\n",
    "\n",
    "            \n",
    "ax.set_xlabel('time until annihilation (ms)',fontsize=fontsize)\n",
    "#             ax.set_ylabel(r'$\\vartheta$ (rad)',fontsize=fontsize)\n",
    "ax.set_ylabel('angle between\\nfinal velocities (rad)',fontsize=fontsize)\n",
    "\n",
    "ax.set_xlim([DT,1e1])\n",
    "#     ax.set_ylim([-np.pi/8,np.pi/8])\n",
    "#     ax.set_xlim([1e-3,1e2])\n",
    "ax.set_xscale('log')\n",
    "#         plt.yscale('log')\n",
    "ax.tick_params(axis='both', which='major', labelsize=fontsize)\n",
    "ax.tick_params(axis='both', which='minor', labelsize=1)\n",
    "#     ax.legend(fontsize=fontsize)\n",
    "                \n",
    "\n",
    "# fontsize=16\n",
    "# fig,ax=plt.subplots(ncols=1,figsize=(5,4))\n",
    "ax=axs[0]\n",
    "ax.hist(val_lst,bins=bins,density=True,color='gray')\n",
    "#plot control\n",
    "xv=np.arange(0,np.pi,0.1)\n",
    "ax.plot(xv,xv*0.+1/np.pi,'k--')#,color='gray',)\n",
    "ax.set_xlabel('angle between\\nfinal velocities (radians)',fontsize=fontsize)\n",
    "ax.set_ylabel(r'prob. density',fontsize=fontsize)\n",
    "ax.tick_params(axis='both', which='major', labelsize=fontsize)\n",
    "ax.tick_params(axis='both', which='minor', labelsize=1)\n",
    "            \n",
    "plt.tight_layout()\n",
    "# plt.show()\n",
    "# print(f\"\\ttime between two frames was {0.001} ms\")\n",
    "plt.tight_layout()\n",
    "if not saving:\n",
    "    plt.show()\n",
    "else:\n",
    "    os.chdir(savefig_folder)\n",
    "    plt.savefig(savefig_fn, dpi=300)\n",
    "    print(f\"saved figure in \\n\\t{savefig_fn}\")\n",
    "#     plt.close()"
   ]
  },
  {
   "cell_type": "markdown",
   "metadata": {
    "heading_collapsed": true
   },
   "source": [
    "# keep your eye on the prize, tim"
   ]
  },
  {
   "cell_type": "code",
   "execution_count": null,
   "metadata": {
    "ExecuteTime": {
     "end_time": "2021-06-26T03:19:22.249810Z",
     "start_time": "2021-06-26T03:19:01.947Z"
    },
    "hidden": true
   },
   "outputs": [],
   "source": [
    "#TODO: filter any annihilations with tips that don't ever get further than range_threshold\n",
    "#TODO: filter any annihilations with tips that don't last longer than duration_threshold\n",
    "#TODO(later): make an angular histogram at several time points\n",
    "get_routine_traj_to_annihilation"
   ]
  },
  {
   "cell_type": "markdown",
   "metadata": {
    "heading_collapsed": true
   },
   "source": [
    "# compute all annihilation events for a folder of trajectories (expected run time ~10 min.)"
   ]
  },
  {
   "cell_type": "code",
   "execution_count": null,
   "metadata": {
    "ExecuteTime": {
     "end_time": "2021-06-26T03:19:22.250468Z",
     "start_time": "2021-06-26T03:19:01.954Z"
    },
    "hidden": true
   },
   "outputs": [],
   "source": [
    "# input_fn=search_for_file()\n",
    "input_fn=f\"/home/timothytyree/Documents/GitHub/care/notebooks/Data/initial-conditions-fk-200x200/param_set_8_ds_5.0_tmax_10_diffCoef_0.0005/Log/ic200x200.0.3_traj_sr_400_mem_0.csv\"\n",
    "ds=5\n",
    "width=200\n",
    "height=width\n",
    "\n",
    "df=pd.read_csv(input_fn);print(input_fn)\n",
    "DT=compute_DT(df,round_t_to_n_digits=3);print(f\"the time resolution is {DT} ms.\")\n",
    "DS=ds/width\n",
    "\n",
    "min_duration=20. #ms\n",
    "min_range   =1.  #cm\n",
    "\n",
    "kwargs={\n",
    "    'width':width,\n",
    "    'height':height,\n",
    "    'ds':ds,\n",
    "    'printing':False,\n",
    "    'min_range':min_range,\n",
    "    'min_duration':min_duration,\n",
    "}\n",
    "routine_traj_to_annihilation=get_routine_traj_to_annihilation(**kwargs)\n",
    "\n",
    "def routine(input_fn):\n",
    "    return routine_traj_to_annihilation(input_fn)"
   ]
  },
  {
   "cell_type": "code",
   "execution_count": null,
   "metadata": {
    "ExecuteTime": {
     "end_time": "2021-06-26T03:19:22.251108Z",
     "start_time": "2021-06-26T03:19:01.959Z"
    },
    "hidden": true
   },
   "outputs": [],
   "source": [
    "#find all files matching pattern\n",
    "trgt_raw='_traj_'\n",
    "trgt=input_fn[input_fn.find(trgt_raw):]\n",
    "input_fn_lst=get_all_files_matching_pattern(file=input_fn, trgt=trgt)\n",
    "print(f\"computing features of annihilation events for {len(input_fn_lst)} trajectory .csv files...\")\n",
    "\n",
    "#all CPU version\n",
    "b = db.from_sequence(input_fn_lst, npartitions=12).map(routine)\n",
    "start = time.time()\n",
    "retval = list(b)\n",
    "print(f\"run time for computing features of annihilation events was {time.time()-start:.2f} seconds.\")\n",
    "beep(3)"
   ]
  },
  {
   "cell_type": "code",
   "execution_count": null,
   "metadata": {
    "ExecuteTime": {
     "end_time": "2021-06-26T03:19:22.251938Z",
     "start_time": "2021-06-26T03:19:01.963Z"
    },
    "hidden": true
   },
   "outputs": [],
   "source": [
    "#merge all csv files into one big-ol' csv file\n",
    "list_of_files=retval\n",
    "file_out=os.path.join(os.path.dirname(input_fn),f'annihilations_minr_{min_range}_mindur_{min_duration}.csv')\n",
    "output_fn=produce_one_csv(list_of_files, file_out, encoding=\"utf-8\")\n",
    "print('results saved in:')\n",
    "print(output_fn)"
   ]
  },
  {
   "cell_type": "markdown",
   "metadata": {
    "heading_collapsed": true
   },
   "source": [
    "# compute all creation events for a folder of trajectories (expected run time ~10 min.)"
   ]
  },
  {
   "cell_type": "code",
   "execution_count": null,
   "metadata": {
    "ExecuteTime": {
     "end_time": "2021-06-26T03:19:22.252808Z",
     "start_time": "2021-06-26T03:19:01.967Z"
    },
    "hidden": true
   },
   "outputs": [],
   "source": [
    "# input_fn=search_for_file()\n",
    "input_fn=f\"/home/timothytyree/Documents/GitHub/care/notebooks/Data/initial-conditions-fk-200x200/param_set_8_ds_5.0_tmax_10_diffCoef_0.0005/Log/ic200x200.0.3_traj_sr_400_mem_0.csv\"\n",
    "ds=5\n",
    "width=200\n",
    "height=width\n",
    "\n",
    "df=pd.read_csv(input_fn);print(input_fn)\n",
    "DT=compute_DT(df,round_t_to_n_digits=3);print(f\"the time resolution is {DT} ms.\")\n",
    "DS=ds/width\n",
    "\n",
    "min_duration=20. #ms\n",
    "min_range   =1.  #cm\n",
    "\n",
    "kwargs={\n",
    "    'width':width,\n",
    "    'height':height,\n",
    "    'ds':ds,\n",
    "    'printing':False,\n",
    "    'min_range':min_range,\n",
    "    'min_duration':min_duration,\n",
    "}\n",
    "routine_traj_to_creation=get_routine_traj_to_creation(**kwargs)\n",
    "\n",
    "def routine(input_fn):\n",
    "    return routine_traj_to_creation(input_fn)"
   ]
  },
  {
   "cell_type": "code",
   "execution_count": null,
   "metadata": {
    "ExecuteTime": {
     "end_time": "2021-06-26T03:19:22.253706Z",
     "start_time": "2021-06-26T03:19:01.971Z"
    },
    "hidden": true
   },
   "outputs": [],
   "source": [
    "#find all files matching pattern\n",
    "trgt_raw='_traj_'\n",
    "trgt=input_fn[input_fn.find(trgt_raw):]\n",
    "input_fn_lst=get_all_files_matching_pattern(file=input_fn, trgt=trgt)\n",
    "print(f\"computing features of annihilation events for {len(input_fn_lst)} trajectory .csv files...\")\n",
    "\n",
    "#all CPU version\n",
    "b = db.from_sequence(input_fn_lst, npartitions=12).map(routine)\n",
    "start = time.time()\n",
    "retval = list(b)\n",
    "print(f\"run time for computing features of annihilation events was {time.time()-start:.2f} seconds.\")\n",
    "beep(3)"
   ]
  },
  {
   "cell_type": "code",
   "execution_count": null,
   "metadata": {
    "ExecuteTime": {
     "end_time": "2021-06-26T03:19:22.254586Z",
     "start_time": "2021-06-26T03:19:01.975Z"
    },
    "hidden": true
   },
   "outputs": [],
   "source": [
    "#merge all csv files into one big-ol' csv file\n",
    "list_of_files=retval\n",
    "file_out=os.path.join(os.path.dirname(input_fn),f'creations_minr_{min_range}_mindur_{min_duration}.csv')\n",
    "output_fn=produce_one_csv(list_of_files, file_out, encoding=\"utf-8\")\n",
    "print('results saved in:')\n",
    "print(output_fn)"
   ]
  },
  {
   "cell_type": "markdown",
   "metadata": {
    "heading_collapsed": true
   },
   "source": [
    "# TODO: compute drdt versus r for the ensemble averaged approach/departure for the annihilation/creation events from the full models,\n",
    "and then,\n",
    "- TODO: repeat for the particle model? No... this is the apparent force/drag profile for a given trial."
   ]
  },
  {
   "cell_type": "markdown",
   "metadata": {
    "heading_collapsed": true
   },
   "source": [
    "# TODO: move nice angular histograms from diffusion-msd-pipeline.ipynb here\n",
    "and then,\n",
    "- TODO: automate generation of plots from the aggregated .csv "
   ]
  },
  {
   "cell_type": "markdown",
   "metadata": {
    "heading_collapsed": true
   },
   "source": [
    "# TODO: dev angles between relative velocities"
   ]
  },
  {
   "cell_type": "code",
   "execution_count": null,
   "metadata": {
    "ExecuteTime": {
     "end_time": "2021-06-26T03:19:22.255317Z",
     "start_time": "2021-06-26T03:19:01.980Z"
    },
    "hidden": true
   },
   "outputs": [],
   "source": [
    "compute_angle_between_initial_velocities = get_compute_angle_between_initial_velocities(width, height)\n"
   ]
  },
  {
   "cell_type": "code",
   "execution_count": null,
   "metadata": {
    "ExecuteTime": {
     "end_time": "2021-06-26T03:19:22.256084Z",
     "start_time": "2021-06-26T03:19:01.984Z"
    },
    "hidden": true
   },
   "outputs": [],
   "source": [
    "input_fn=search_for_file()"
   ]
  },
  {
   "cell_type": "code",
   "execution_count": null,
   "metadata": {
    "ExecuteTime": {
     "end_time": "2021-06-26T03:19:22.257199Z",
     "start_time": "2021-06-26T03:19:01.988Z"
    },
    "hidden": true
   },
   "outputs": [],
   "source": [
    "##########################################\n",
    "# Creation\n",
    "##########################################\n",
    "# def compute_creation_events(\n",
    "input_fn,\n",
    "width,\n",
    "height,\n",
    "ds,\n",
    "range_threshold=1.\n",
    "min_duration=20.\n",
    "min_range=1.\n",
    "round_t_to_n_digits=3\n",
    "use_min_duration=True\n",
    "use_grad_voltage=False\n",
    "printing=True\n",
    "# \t\t\t\t\t\t\t\t**kwargs):\n",
    "# \t'''input_fn is a string locating the directory of a _trajectories .csv file.\n",
    "# \tReturns pandas.Dataframe instance.\n",
    "# \tExample Usage:\n",
    "# \tinput_fn=f\"/home/timothytyree/Documents/GitHub/care/notebooks/Data/initial-conditions-fk-200x200/param_set_8_ds_5.0_tmax_10_diffCoef_0.0005/Log/ic200x200.0.3_traj_sr_400_mem_0.csv\"\n",
    "# \tdf_phases=compute_creation_events(input_fn,width,height,ds)#,**kwargs)\n",
    "# \t'''\n",
    "# # original default values that worked for the Fenton-Karma model...\n",
    "#     range_threshold=1.#cm\n",
    "#     #compute measures near creation\n",
    "#     #input: df_ordered_interactions\n",
    "#     min_duration=20#150 #ms\n",
    "#     min_range=1. #cm\n",
    "#     use_min_duration=True#broken for false\n",
    "#     use_grad_voltage=False\n",
    "df=pd.read_csv(input_fn)\n",
    "DT = compute_DT(df, round_t_to_n_digits=round_t_to_n_digits)\n",
    "if printing:\n",
    "    print(f\"the time resolution is {DT} ms.\")\n",
    "\n",
    "dsdpixel = ds / width  #cm per pixel\n",
    "DS = dsdpixel\n",
    "#compile jit\n",
    "compute_angle_between_initial_velocities = get_compute_angle_between_initial_velocities(width, height)\n",
    "compute_ranges_between = get_compute_ranges_between(width=width,height=height)\n",
    "\n",
    "# birth_ranges,birth_ranges,DT=return_bd_ranges(input_fn,DS,round_t_to_n_digits=3)\n",
    "#compute interactions\n",
    "df_interactions = compute_df_interactions(input_fn, DS=DS)\n",
    "df_interactions.dropna(inplace=True)\n",
    "birth_ranges = DS * df_interactions.rT.values\n",
    "birth_ranges = DS * df_interactions.r0.values\n",
    "\n",
    "#filter any births that occur at ranges exceeding range_threshold\n",
    "boo = df_interactions.rT * DS < range_threshold\n",
    "df_ordered_interactions = df_interactions[boo].sort_values('Tavg',\n",
    "                                                           ascending=False)\n",
    "\n",
    "#compute the phase time series between pid and pid_birthmate\n",
    "#find last zero for when phi1==0\n",
    "#compute phi2 at that time using linear interpolation\n",
    "#append phi2 to dphi_lst... proceed to the next particle\n",
    "pid_queue = list(df_ordered_interactions.pid.values)\n",
    "pid_queue=pid_queue[:5]\n",
    "pid_birthmate_dict = dict(\n",
    "    zip(pid_queue, list(df_ordered_interactions.pid_birthmate.values)))\n",
    "df_out_lst = []\n",
    "while len(pid_queue) > 0:\n",
    "    pid = pid_queue.pop(0)\n",
    "    pid_birthmate = pid_birthmate_dict[pid]\n",
    "    try:\n",
    "        pid_queue.remove(pid_birthmate)\n",
    "        #extract d1,d2\n",
    "        d1 = df[df.particle == pid].copy()\n",
    "        d2 = df[df.particle == pid_birthmate].copy()\n",
    "        d1.index = d1.frame\n",
    "        d2.index = d2.frame\n",
    "        #compute ranges between\n",
    "        range_values = compute_ranges_between(d1, d2) * dsdpixel\n",
    "        length = range_values.shape[0]\n",
    "        #compute x,y values\n",
    "        if use_grad_voltage:\n",
    "            t_to_birth_values, phi1_values, phi2_values, phi_sum_values, phi_diff_values = compute_phase_angles_from_grad_voltage(\n",
    "                d1, d2)\n",
    "        else:\n",
    "            t_vals = d1['t'].values[-length:]\n",
    "            t_to_birth_values = t_vals - np.min(t_vals)\n",
    "\n",
    "        nobs = range_values[1:-1].shape[0]\n",
    "        if nobs > 1:\n",
    "            #compute angle between velocities\n",
    "            tbirth_values, angle_between_values = compute_angle_between_initial_velocities(d1, d2)\n",
    "            theta_values = angle_between_values\n",
    "            #heretim\n",
    "            #align range_values and theta_values\n",
    "            boo = ~np.isnan(theta_values)\n",
    "            theta_values = theta_values[boo]\n",
    "            assert (range_values.shape[0] == t_to_birth_values.shape[0])\n",
    "            if use_min_duration:\n",
    "                #filter by min_duration\n",
    "                t_values = t_to_birth_values[1:-1]\n",
    "                boo_keep = min_duration <= np.max(t_values) - np.min(\n",
    "                    t_values)\n",
    "                #filter by min_range\n",
    "                boo_keep &= min_range <= np.max(range_values)\n",
    "            else:\n",
    "                boo_keep = min_range <= np.max(range_values)\n",
    "\n",
    "            if boo_keep:\n",
    "                if use_grad_voltage:\n",
    "                    df_out = pd.DataFrame({\n",
    "                        'pid':\n",
    "                        pid + 0 * t_values.astype('int'),\n",
    "                        'pid_birthmate':\n",
    "                        pid_birthmate + 0 * t_values.astype('int'),\n",
    "                        'tbirth':\n",
    "                        np.around(t_values,round_t_to_n_digits),\n",
    "                        'phi1':\n",
    "                        np.abs(phi1_values)[1:-1],\n",
    "                        'phi2':\n",
    "                        np.abs(phi2_values)[1:-1],\n",
    "                        'phi_sum':\n",
    "                        np.abs(phi_sum_values)[1:-1],\n",
    "                        'phi_diff':\n",
    "                        np.abs(phi_diff_values)[1:-1],\n",
    "                        'r':\n",
    "                        range_values[1:-1],\n",
    "                        'theta':\n",
    "                        theta_values,\n",
    "                    })\n",
    "                else:\n",
    "                    df_out = pd.DataFrame({\n",
    "                        'pid':\n",
    "                        pid + 0 * t_values.astype('int'),\n",
    "                        'pid_birthmate':\n",
    "                        pid_birthmate + 0 * t_values.astype('int'),\n",
    "                        'tbirth':\n",
    "                        np.around(t_values,round_t_to_n_digits),\n",
    "                        'r':\n",
    "                        range_values[1:-1],\n",
    "                        'theta':\n",
    "                        theta_values,\n",
    "                    })\n",
    "\n",
    "                #append x,y values to list\n",
    "                df_out_lst.append(df_out)\n",
    "    except ValueError as e:  #for catching ValueError: list.remove(x): x not in list\n",
    "        pass\n",
    "if printing:\n",
    "    print(f\"the number of trials appended to df_out_lst is {len(df_out_lst)}\")\n",
    "    assert (len(df_out_lst) > 0)\n",
    "if not (len(df_out_lst) > 0):\n",
    "    return None\n",
    "# t_to_birth_values.shape, range_values.shape, theta_values.shape, d1[\n",
    "#     't'].values.shape, d2['t'].values.shape\n",
    "df_phases = pd.concat(df_out_lst)"
   ]
  },
  {
   "cell_type": "code",
   "execution_count": null,
   "metadata": {
    "ExecuteTime": {
     "end_time": "2021-06-26T03:19:22.258045Z",
     "start_time": "2021-06-26T03:19:01.992Z"
    },
    "hidden": true
   },
   "outputs": [],
   "source": [
    "# compute_angle_between_initial_velocities(d1, d2)\n",
    "d2.head()"
   ]
  },
  {
   "cell_type": "code",
   "execution_count": null,
   "metadata": {
    "ExecuteTime": {
     "end_time": "2021-06-26T03:19:22.258940Z",
     "start_time": "2021-06-26T03:19:01.996Z"
    },
    "hidden": true
   },
   "outputs": [],
   "source": [
    "def get_compute_initial_inout_angles(width,height):\n",
    "    subtract_pbc=get_subtract_pbc(width=width,height=height)\n",
    "    def compute_initial_inout_angles(d1,d2):\n",
    "        '''computes the unsigned angles between the initial velocity of d1 near birth for one tip pair.\n",
    "        Updates d1,d2 with fields.  aligns locations by index.  supposes index is the field, frame \n",
    "        Example Usage:\n",
    "        compute_initial_inout_angles=get_compute_initial_inout_angles(width,height)\n",
    "        tbirth_values,angle_values=compute_initial_inout_angles(d1,d2)\n",
    "        '''\n",
    "        #compute displacement of d1 with pbc\n",
    "        xy_values=np.array(list(zip(d1['x'],d1['y'])))\n",
    "        dshifted=d1.shift(1).copy()\n",
    "        # dshifted=d1.shift(-1).copy()\n",
    "        xy_next_values=np.array(list(zip(dshifted['x'],dshifted['y'])))\n",
    "        dxy1_values=np.zeros_like(xy_values)+np.nan\n",
    "        # compute displacement unit vector from tip 1 to tip 2\n",
    "        xy_values=np.array(list(zip(d1['x'],d1['y'])))\n",
    "        dshifted=d1.shift(1).copy()\n",
    "        # dshifted=d1.shift(-1).copy()\n",
    "        xy_next_values=np.array(list(zip(dshifted['x'],dshifted['y'])))\n",
    "        dxy1_values=np.zeros_like(xy_values)+np.nan\n",
    "        #compute displacements between\n",
    "        for j in range(dxy1_values.shape[0]):\n",
    "            dxy1_values[j]=subtract_pbc(xy_next_values[j],xy_values[j])\n",
    "        d1['dx']=dxy1_values[:,0]\n",
    "        d1['dy']=dxy1_values[:,1]\n",
    "        d1['dt']=d1['t'].diff().shift(-1).iloc[1:-1]\n",
    "        # d1[['dx','dy','dt']]=d1[['x','y','t']].diff().shift(-1).iloc[1:-1]\n",
    "        d1['displacement']=np.sqrt(d1['dx']**2+d1['dy']**2)\n",
    "        d1['dx_hat']=d1['dx']/d1['displacement']\n",
    "#         d1['dy_hat']=d1['dy']/d1['displacement']\n",
    "\n",
    "        #compute COM relative to d1\n",
    "        d1['x2']=d2['x']\n",
    "        d1['y2']=d2['y']\n",
    "        xy1_values=np.array(list(zip(d1['x'],d1['y'])))\n",
    "        xy2_values=np.array(list(zip(d1['x2'],d1['y2'])))\n",
    "        dxy12_values=np.zeros_like(xy1_values)+np.nan\n",
    "        #compute displacements between\n",
    "        for j in range(dxy12_values.shape[0]):\n",
    "            dxy12_values[j]=subtract_pbc(xy2_values[j],xy1_values[j])\n",
    "        d1['comx']=xy1_values[:,0]+dxy12_values[:,0]/2\n",
    "        d1['comy']=xy1_values[:,1]+dxy12_values[:,1]/2\n",
    "\n",
    "        #compute the radial unit vector of d1\n",
    "        d1['rx']=xy1_values[:,0]-d1['comx']\n",
    "        d1['ry']=xy1_values[:,1]-d1['comy']\n",
    "        d1['rx_hat']=d1['rx']/np.sqrt(d1['rx']**2+d1['ry']**2)\n",
    "        d1['ry_hat']=d1['ry']/np.sqrt(d1['rx']**2+d1['ry']**2)\n",
    "\n",
    "        #compute unsigned angle between velocity and the radial unit vector\n",
    "        # compute dot product between tip 1 and tip 2\n",
    "        cosine_series=d1['dx_hat']*d1['rx_hat']+d1['dy_hat']*d1['ry_hat']\n",
    "        d1['theta']=np.arccos(cosine_series)   #radians\n",
    "        d1.dropna(inplace=True)\n",
    "\n",
    "        angle_values=d1['theta'].values\n",
    "        tbirth_values=d1['t'].values-d1['t'].values[0] #ms\n",
    "        return tbirth_values,angle_values\n",
    "    return compute_initial_inout_angles"
   ]
  },
  {
   "cell_type": "markdown",
   "metadata": {
    "ExecuteTime": {
     "end_time": "2021-06-23T23:04:56.487172Z",
     "start_time": "2021-06-23T23:04:56.468839Z"
    }
   },
   "source": [
    "# TODO: compute dRdt versus R for the particle model in the bulk of their trajectories when varkappa = 0"
   ]
  },
  {
   "cell_type": "markdown",
   "metadata": {},
   "source": [
    "## TODO: compute df_drdt versus r without conditioning on annihilation occuring"
   ]
  },
  {
   "cell_type": "code",
   "execution_count": 9,
   "metadata": {
    "ExecuteTime": {
     "end_time": "2021-07-19T21:15:22.272516Z",
     "start_time": "2021-07-19T21:15:05.720057Z"
    }
   },
   "outputs": [],
   "source": [
    "#200 trials\n",
    "aggregated_fn='/Users/timothytyree/Documents/GitHub/bgmc/python/data/local_results/euic_False_fc_2_r_0.1_D_2_L_10_kappa_1500_varkappa_0/general_numframesbetween_1_dropshorterthan_150.csv'\n",
    "#8 trials\n",
    "\n",
    "# bins='auto'\n",
    "bins=20\n",
    "\n",
    "\n",
    "# input_fn=aggregated_fn\n",
    "df=pd.read_csv(aggregated_fn)\n",
    "\n",
    "R_values=df['r'].values\n",
    "dRdt_values=df['drdt'].values"
   ]
  },
  {
   "cell_type": "code",
   "execution_count": 11,
   "metadata": {
    "ExecuteTime": {
     "end_time": "2021-07-19T21:53:36.841498Z",
     "start_time": "2021-07-19T21:15:28.524732Z"
    }
   },
   "outputs": [
    {
     "name": "stdout",
     "output_type": "stream",
     "text": [
      "the ols fit for particle model:\n",
      "m=-0.002493660627358187\n",
      "Delta_m=0.0035045640280739537\n",
      "b=0.002167560598143674\n",
      "Delta_b=0.0028756482690026506\n",
      "Rsquared=0.1026654488443443\n",
      "Nobs= 1267422 +- 582501\n",
      "\n",
      "aggregated_fn: /Users/timothytyree/Documents/GitHub/bgmc/python/data/local_results/euic_False_fc_2_r_0.1_D_2_L_10_kappa_1500_varkappa_0/general_numframesbetween_1_dropshorterthan_150.csv\n"
     ]
    }
   ],
   "source": [
    "# (optional) bootstrap the output\n",
    "dict_out=bin_and_bootstrap_xy_values(x=R_values,y=dRdt_values,xlabel='r',ylabel='drdt',bins=bins,min_numobs=None,num_bootstrap_samples=1000)\n",
    "df_drdt=pd.DataFrame(dict_out)\n",
    "\n",
    "#compute the fit\n",
    "df=df_drdt\n",
    "rmin=0.3 #cm\n",
    "rmax=5 #cm\n",
    "\n",
    "r_values=df['r'].values\n",
    "drdt_values=df['drdt'].values\n",
    "Delta_r_values=df['Delta_r'].values\n",
    "Delta_drdt_values=df['Delta_drdt'].values\n",
    "counts=df['counts'].values\n",
    "\n",
    "#fit drdt_values to F0+F1/r with OLS fit for LR model where 1/r is greater than some 1/cm\n",
    "x_values=r_values\n",
    "y_values=drdt_values\n",
    "x_err_values=Delta_r_values\n",
    "y_err_values=Delta_drdt_values\n",
    "\n",
    "#fit drdt_values to F0+F1/r with OLS fit for LR model where 1/r is greater than some 1/cm\n",
    "boo=(r_values>rmin)&(r_values<rmax)\n",
    "x=1/r_values[boo]\n",
    "y=drdt_values[boo]\n",
    "dict_force_fit=compute_95CI_ols(x,y)\n",
    "y_hat_values=dict_force_fit['b']+dict_force_fit['m']/r_values\n",
    "\n",
    "#(optional) rename specific values\n",
    "dict_force_fit=dict_force_fit\n",
    "y_hat_values=y_hat_values\n",
    "\n",
    "#bluf\n",
    "print(f\"the ols fit for particle model:\")\n",
    "print_dict(dict_force_fit)\n",
    "print(f\"Nobs= {np.mean(counts):.0f} +- {np.std(counts):.0f}\")\n",
    "print(f\"\\naggregated_fn: {aggregated_fn}\")"
   ]
  },
  {
   "cell_type": "code",
   "execution_count": 12,
   "metadata": {
    "ExecuteTime": {
     "end_time": "2021-07-19T21:53:37.889427Z",
     "start_time": "2021-07-19T21:53:36.990708Z"
    }
   },
   "outputs": [
    {
     "data": {
      "text/plain": [
       "0"
      ]
     },
     "execution_count": 12,
     "metadata": {},
     "output_type": "execute_result"
    }
   ],
   "source": [
    "#save df as csv\n",
    "save_fn=aggregated_fn.replace('.csv',f'_bins_{bins}.csv')\n",
    "df_drdt.to_csv(save_fn)\n",
    "beep(4)"
   ]
  },
  {
   "cell_type": "code",
   "execution_count": 7,
   "metadata": {
    "ExecuteTime": {
     "end_time": "2021-07-19T20:56:13.630782Z",
     "start_time": "2021-07-19T20:56:11.631930Z"
    }
   },
   "outputs": [
    {
     "data": {
      "image/png": "[encoded data removed]",
      "text/plain": [
       "<Figure size 648x288 with 2 Axes>"
      ]
     },
     "metadata": {
      "needs_background": "light"
     },
     "output_type": "display_data"
    }
   ],
   "source": [
    "ylim=0.025\n",
    "#plot mean radial velocities\n",
    "fig, axs = plt.subplots(ncols=2, figsize=(9, 4))\n",
    "PlotMeanRadialVelocities(axs, x_values, y_values, y_err_values, y_hat_values,c='C3')\n",
    "# PlotMeanRadialVelocities(axs, x_values2, y_values2, y_err_values2, y_hat_values2,c='C4')\n",
    "axs[0].set_ylim([-ylim,ylim])\n",
    "plt.tight_layout()\n",
    "plt.show()"
   ]
  },
  {
   "cell_type": "code",
   "execution_count": null,
   "metadata": {},
   "outputs": [],
   "source": []
  }
 ],
 "metadata": {
  "kernelspec": {
   "display_name": "Python 3",
   "language": "python",
   "name": "python3"
  },
  "language_info": {
   "codemirror_mode": {
    "name": "ipython",
    "version": 3
   },
   "file_extension": ".py",
   "mimetype": "text/x-python",
   "name": "python",
   "nbconvert_exporter": "python",
   "pygments_lexer": "ipython3",
   "version": "3.8.7"
  },
  "toc": {
   "base_numbering": 1,
   "nav_menu": {},
   "number_sections": true,
   "sideBar": true,
   "skip_h1_title": false,
   "title_cell": "Table of Contents",
   "title_sidebar": "Contents",
   "toc_cell": false,
   "toc_position": {},
   "toc_section_display": true,
   "toc_window_display": false
  },
  "varInspector": {
   "cols": {
    "lenName": 16,
    "lenType": 16,
    "lenVar": 40
   },
   "kernels_config": {
    "python": {
     "delete_cmd_postfix": "",
     "delete_cmd_prefix": "del ",
     "library": "var_list.py",
     "varRefreshCmd": "print(var_dic_list())"
    },
    "r": {
     "delete_cmd_postfix": ") ",
     "delete_cmd_prefix": "rm(",
     "library": "var_list.r",
     "varRefreshCmd": "cat(var_dic_list()) "
    }
   },
   "types_to_exclude": [
    "module",
    "function",
    "builtin_function_or_method",
    "instance",
    "_Feature"
   ],
   "window_display": false
  }
 },
 "nbformat": 4,
 "nbformat_minor": 4
}
