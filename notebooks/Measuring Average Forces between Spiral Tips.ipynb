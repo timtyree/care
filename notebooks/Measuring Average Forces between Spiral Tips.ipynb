{
 "cells": [
  {
   "cell_type": "markdown",
   "metadata": {},
   "source": [
    "# Measuring The Effect of Forces in Terms of Directional Preferences between Spiral Tips that annihilate\n",
    "Tim Tyree<br>\n",
    "6.16.2021\n",
    "\n",
    "- TODO: generate spiral data at dt=0.1 for Luo-Rudy model\n",
    "- TODO: use fine tip logs from Luo-Rudy model to compare to angular distributions found for Fenton-Karma model."
   ]
  },
  {
   "cell_type": "code",
   "execution_count": 1,
   "metadata": {
    "ExecuteTime": {
     "end_time": "2021-06-16T23:13:58.577457Z",
     "start_time": "2021-06-16T23:13:57.361464Z"
    }
   },
   "outputs": [
    {
     "name": "stdout",
     "output_type": "stream",
     "text": [
      "Automatic calling is: Smart\n"
     ]
    }
   ],
   "source": [
    "from lib.my_initialization import *\n",
    "# from lib.controller.controller_LR import get_one_step_explicit_synchronous_splitting\n",
    "# from lib.utils import load_buffer\n",
    "# from lib.routines.return_min_distance import *\n",
    "# from lib.viewer.DomainPlot import ShowDomain\n",
    "# from lib.measure.comp_tips_safely import *\n",
    "from lib import *\n",
    "\n",
    "#my_initialization.py\n",
    "import pandas as pd, numpy as np, matplotlib.pyplot as plt\n",
    "\n",
    "#load the libraries\n",
    "# from .utils.operari import *\n",
    "#automate the boring stuff\n",
    "# from IPython import utils\n",
    "import time, os, sys, re\n",
    "import dask.bag as db\n",
    "beep = lambda x: os.system(\"echo -n '\\\\a';sleep 0.2;\" * x)\n",
    "if not 'nb_dir' in globals():\n",
    "    nb_dir = os.getcwd()\n",
    "\n",
    "#magic    \n",
    "%autocall 1\n",
    "%load_ext autoreload\n",
    "%autoreload 2\n",
    "\n",
    "darkmode=False\n",
    "if darkmode:\n",
    "    # For darkmode plots\n",
    "    from jupyterthemes import jtplot\n",
    "    jtplot.style(theme='monokai', context='notebook', ticks=True, grid=False)"
   ]
  },
  {
   "cell_type": "code",
   "execution_count": null,
   "metadata": {
    "ExecuteTime": {
     "end_time": "2021-06-16T20:32:58.332777Z",
     "start_time": "2021-06-16T20:32:58.319312Z"
    }
   },
   "outputs": [],
   "source": []
  },
  {
   "cell_type": "code",
   "execution_count": 2,
   "metadata": {
    "ExecuteTime": {
     "end_time": "2021-06-16T23:13:58.593929Z",
     "start_time": "2021-06-16T23:13:58.578736Z"
    }
   },
   "outputs": [],
   "source": [
    "# #DONE: finding where I already dev'd using both types of ~comp_tips methods\n",
    "# #TODO(later): fix get_comp_tips using test based dev in a pycuda interface\n",
    "# comp_tips=get_comp_tips(width,height,V_threshold)\n",
    "# dict_tips=comp_tips(img,img_prev,dimgdt, t, txt)\n",
    "#TODO: generate a 2 frames of clean data using both types of ~comp_tips methods (requires finding where I already do this... but it will give local reproducibility...)\n",
    "#TODO: compute displacement between all particles in both frames\n",
    "#TODO: compute apparent displacement of all particles between frames\n",
    "#TODO: compute sum of forces predicted by the force-types I've been using.\n",
    "#TODO: compute nearest-neighbor forces predicted by the force-types I've been using.\n",
    "\n",
    "#TODO: for each of the 6 force models, compute the angular difference between the predicted force direction and the actual displacement\n",
    "#TODO: plot this tiny sample of apparent displacement versus length of the sum of forces\n",
    "\n",
    "#TODO: extend a list using ^those x_values,y_values\n",
    "#TODO: plot apparent displacement versus length of the sum of forces"
   ]
  },
  {
   "cell_type": "code",
   "execution_count": 3,
   "metadata": {
    "ExecuteTime": {
     "end_time": "2021-06-16T23:13:58.610411Z",
     "start_time": "2021-06-16T23:13:58.595366Z"
    }
   },
   "outputs": [],
   "source": [
    "# get_comp_tips"
   ]
  },
  {
   "cell_type": "code",
   "execution_count": 4,
   "metadata": {
    "ExecuteTime": {
     "end_time": "2021-06-16T23:13:58.629188Z",
     "start_time": "2021-06-16T23:13:58.611766Z"
    }
   },
   "outputs": [],
   "source": [
    "#TODO: DEBUG GET_COMP_TIPS / DEV GET_COMP_TIPS on macbook\n",
    "#TODO: link  up png saving from the movie making ipynb\n",
    "\n",
    "#TODO: alternatively, make a (frameno,width,height,chnlno) numpy array and save as npz.  refine with implicite midpoint rule, and identify all death events according to lagged spiral tip locations\n",
    "\n",
    "#TODO: access cuda accelerated shared memory from python using pycuda.\n",
    "\n"
   ]
  },
  {
   "cell_type": "markdown",
   "metadata": {
    "ExecuteTime": {
     "end_time": "2021-06-16T18:35:18.962757Z",
     "start_time": "2021-06-16T18:35:18.959621Z"
    }
   },
   "source": [
    "__step 2 (python)__ analyze the timescale (and lengthscale) overwhich the significance of directionality arises as two spiral tips collide\n",
    "\n",
    "__step 1 (python)__ functionally load existing trajectories and compute annihilation events using my preexisting python code\n",
    "<!-- __step 1 (python)__ functionally compute annihilation trajectories using my preexisting python code -->"
   ]
  },
  {
   "cell_type": "markdown",
   "metadata": {},
   "source": [
    "__TODO(later):__ modify existing generate_tip_log that uses gpu acceleration \n",
    "- to use lagged tip locations\n",
    "OR\n",
    "- to use lagged tip locations at a low time resolution\n",
    "- and then save individual annihilation events at a high time resolution"
   ]
  },
  {
   "cell_type": "markdown",
   "metadata": {},
   "source": [
    "# visualizing the timescale/lengthscale of significantly inward directed motion in the time leading up to annihilation"
   ]
  },
  {
   "cell_type": "markdown",
   "metadata": {},
   "source": [
    "# TODO: quick and dirty angular histogram of many angles for a given time/range before death\n",
    "then, angular plots over many values\n",
    "- TODO: overlay several times/ranges to show timescale/engthscale of orientation\n",
    "- TODO: filter by min_duration and by min_range simultaneously\n",
    "- TODO: compute the mean_unsigned_angle_between versus t_death_values. \n",
    "\n",
    "then, visualizations\n",
    "- TODO: plot the mean_unsigned_angle_between versus t_death_values. \n",
    "    - overlay with background of many individual events / standard deviation\n",
    "- TODO: plot the range_values versus t_death_values. \n",
    "    - overlay with background of many individual events / standard deviation\n",
    "- TODO: plot the range_values versus mean_unsigned_angle_between. \n",
    "    - overlay with background of many individual events / standard deviation"
   ]
  },
  {
   "cell_type": "markdown",
   "metadata": {},
   "source": [
    "__schema__\n",
    "- t_until_death: time until death (index)\n",
    "- range_values: distance from tip to other tip\n",
    "- angle_values: angle between the velocity of one tip with the ray starting at the center of mass and extending out to the tip\n",
    "- "
   ]
  },
  {
   "cell_type": "markdown",
   "metadata": {
    "ExecuteTime": {
     "end_time": "2021-05-11T17:49:24.296646Z",
     "start_time": "2021-05-11T17:49:24.174233Z"
    }
   },
   "source": [
    "__TODO(later):__ convert this markdown cell into something that documents how angle_values were computed\n",
    "$$\n",
    "\\text{Let   } \\phi_1\\equiv\\cos^{-1}\\big(\\widehat{\\mathbf{x}_2-\\mathbf{x}_1}\\;\\cdot\\;\\hat{\\mathbf{a}}_1\\big),\n",
    "$$\n",
    "\n",
    "$$\n",
    "\\text{and let   } \\phi_2\\equiv\\cos^{-1}\\big(\\widehat{\\mathbf{x}_1-\\mathbf{x}_2}\\;\\cdot\\;\\hat{\\mathbf{a}}_2\\big).\n",
    "$$\n",
    "\n",
    "denote the (unsigned) phases of particle 1 & 2, where $\\mathbf{a}_1$ and $\\mathbf{a}_2$ are perpendicular to $\\nabla V\\equiv$ (grad_ux,grad_uy)."
   ]
  },
  {
   "cell_type": "code",
   "execution_count": 5,
   "metadata": {
    "ExecuteTime": {
     "end_time": "2021-06-16T23:13:58.651069Z",
     "start_time": "2021-06-16T23:13:58.630583Z"
    }
   },
   "outputs": [],
   "source": [
    "\n",
    "# tdeath_values,angle_between_values=compute_angle_between_final_velocities(d1,d2)"
   ]
  },
  {
   "cell_type": "code",
   "execution_count": 6,
   "metadata": {
    "ExecuteTime": {
     "end_time": "2021-06-16T23:13:58.669455Z",
     "start_time": "2021-06-16T23:13:58.654055Z"
    }
   },
   "outputs": [],
   "source": [
    "# compute_angle_between_final_velocities\n",
    "# get_compute_ranges_between"
   ]
  },
  {
   "cell_type": "code",
   "execution_count": 7,
   "metadata": {
    "ExecuteTime": {
     "end_time": "2021-06-16T23:13:58.691199Z",
     "start_time": "2021-06-16T23:13:58.671459Z"
    }
   },
   "outputs": [],
   "source": [
    "#TODO: load existing spiral tip trajectory data\n",
    "#TODO: compute_interactions\n",
    "#TODO: compute_ranges_between \n",
    "#TODO: visually test compute_angle_between_final_velocities\n",
    "\n",
    "#TODO: compute the angle between all tip annihilations.  save as csv\n",
    "#TODO: remove any events with tips that did not last longer than min_duration\n",
    "#TODO: remove any events with tips never had a range greater than min_range\n",
    "\n",
    "#TODO: find matplotlib/preexisting example of angular histogram\n"
   ]
  },
  {
   "cell_type": "code",
   "execution_count": 297,
   "metadata": {
    "ExecuteTime": {
     "end_time": "2021-06-17T03:24:33.097469Z",
     "start_time": "2021-06-17T03:24:19.591803Z"
    }
   },
   "outputs": [
    {
     "name": "stdout",
     "output_type": "stream",
     "text": [
      "File: /home/timothytyree/Documents/GitHub/care/notebooks/Data/initial-conditions-suite-3-LR/param_qu_tmax_30_Ko_50_diffCoef_0.001/trajectories/ic001.21_traj_sr_600_mem_0.csv\n",
      "/home/timothytyree/Documents/GitHub/care/notebooks/Data/initial-conditions-suite-3-LR/param_qu_tmax_30_Ko_50_diffCoef_0.001/trajectories/ic001.21_traj_sr_600_mem_0.csv\n",
      "the time resolution is 2.0 ms.\n"
     ]
    }
   ],
   "source": [
    "#Token fk model\n",
    "# input_fn=f\"/home/timothytyree/Documents/GitHub/care/notebooks/Data/initial-conditions-fk-300x300/ds_7.5_param_set_8/Log/ic300x300.0.6_traj_sr_600_mem_0.csv\"\n",
    "#Token lr model\n",
    "# input_fn=f\"/home/timothytyree/Documents/GitHub/care/notebooks/Data/initial-conditions-lr-300x300/param_qu_tmax_30/trajectories/ic300x300.3.3_traj_sr_600_mem_0.csv\"\n",
    "ds=5\n",
    "width=200\n",
    "height=width\n",
    "DS=ds/width\n",
    "\n",
    "input_fn=search_for_file()\n",
    "# input_fn=f\"/home/timothytyree/Documents/GitHub/care/notebooks/Data/initial-conditions-fk-200x200/param_set_8_ds_5.0_tmax_10_diffCoef_0.0005/Log/ic200x200.0.3_traj_sr_400_mem_0.csv\"\n",
    "df=pd.read_csv(input_fn)\n",
    "print(input_fn)\n",
    "DT=compute_DT(df,round_t_to_n_digits=3);print(f\"the time resolution is {DT} ms.\")\n",
    "\n",
    "compute_angle_between_final_velocities=get_compute_angle_between_final_velocities(width,height)\n"
   ]
  },
  {
   "cell_type": "code",
   "execution_count": 277,
   "metadata": {
    "ExecuteTime": {
     "end_time": "2021-06-17T03:17:09.729282Z",
     "start_time": "2021-06-17T03:17:09.353336Z"
    }
   },
   "outputs": [],
   "source": [
    "# death_ranges,birth_ranges,DT=return_bd_ranges(input_fn,DS,round_t_to_n_digits=3)\n",
    "#compute interactions\n",
    "df_interactions=compute_df_interactions(input_fn,DS=DS)\n",
    "df_interactions.dropna(inplace=True)\n",
    "death_ranges=DS*df_interactions.rT.values\n",
    "birth_ranges=DS*df_interactions.r0.values"
   ]
  },
  {
   "cell_type": "code",
   "execution_count": 278,
   "metadata": {
    "ExecuteTime": {
     "end_time": "2021-06-17T03:17:17.592896Z",
     "start_time": "2021-06-17T03:17:17.574931Z"
    }
   },
   "outputs": [],
   "source": [
    "range_threshold=1.#cm\n",
    "#filter any deaths that occur at ranges exceeding range_threshold\n",
    "boo=df_interactions.rT*DS<range_threshold\n",
    "df_ordered_interactions=df_interactions[boo].sort_values('Tavg',ascending=False)"
   ]
  },
  {
   "cell_type": "code",
   "execution_count": 279,
   "metadata": {
    "ExecuteTime": {
     "end_time": "2021-06-17T03:17:25.001616Z",
     "start_time": "2021-06-17T03:17:24.983824Z"
    }
   },
   "outputs": [],
   "source": [
    "#for the first pid and its mate,\n",
    "pid,pid_deathmate=df_ordered_interactions.head(1)[['pid','pid_deathmate']].values[0]\n",
    "#extract their trajectories/particle dataframes\n",
    "d1=df[df.particle==pid].copy()\n",
    "d2=df[df.particle==pid_deathmate].copy()\n",
    "d1.index=d1.frame\n",
    "d2.index=d2.frame\n",
    "#compute the phase time series between pid and pid_deathmate\n",
    "\n",
    "#find last zero for when phi1==0\n",
    "\n",
    "#compute phi2 at that time using linear interpolation\n",
    "\n",
    "#append phi2 to dphi_lst... proceed to the next particle"
   ]
  },
  {
   "cell_type": "code",
   "execution_count": 231,
   "metadata": {
    "ExecuteTime": {
     "end_time": "2021-06-17T03:01:54.986228Z",
     "start_time": "2021-06-17T03:01:54.971377Z"
    }
   },
   "outputs": [],
   "source": [
    "#TODO: compute a1 using grad_ux and grad_uy\n"
   ]
  },
  {
   "cell_type": "code",
   "execution_count": 280,
   "metadata": {
    "ExecuteTime": {
     "end_time": "2021-06-17T03:17:36.689149Z",
     "start_time": "2021-06-17T03:17:36.672054Z"
    }
   },
   "outputs": [],
   "source": [
    "# grad_ux1_values=d1.grad_ux.values\n",
    "# grad_uy1_values=d1.grad_uy.values\n",
    "# x1_values=d1.x.values\n",
    "# y1_values=d1.y.values\n",
    "compute_ranges_between=get_compute_ranges_between(width=width,height=height)\n",
    "\n",
    "# a1_left_values=\n",
    "# a1_right_values="
   ]
  },
  {
   "cell_type": "code",
   "execution_count": 281,
   "metadata": {
    "ExecuteTime": {
     "end_time": "2021-06-17T03:17:44.451930Z",
     "start_time": "2021-06-17T03:17:44.437440Z"
    }
   },
   "outputs": [],
   "source": [
    "# xy1_values=np.array(list(zip(d1['x'],d1['y'])))\n",
    "# xy2_values=np.array(list(zip(d2['x'],d2['y'])))\n",
    "# xy2_minus_xy1_values=xy2_values-xy1_values\n",
    "# range_values=np.linalg.norm(xy2_minus_xy1_values, axis=1)\n",
    "# x2_minus_x1_hat_values=xy2_minus_xy1_values[:,0]/range_values\n",
    "# y2_minus_y1_hat_values=xy2_minus_xy1_values[:,1]/range_values\n",
    "# xy2_minus_xy1_hat_values=np.array(list(zip(x2_minus_x1_hat_values,y2_minus_y1_hat_values)))\n"
   ]
  },
  {
   "cell_type": "code",
   "execution_count": 282,
   "metadata": {
    "ExecuteTime": {
     "end_time": "2021-06-17T03:17:52.660534Z",
     "start_time": "2021-06-17T03:17:52.630176Z"
    }
   },
   "outputs": [],
   "source": [
    "t_to_death_values, phi1_values, phi2_values, phi_sum_values, phi_diff_values=compute_phase_angles_from_grad_voltage(d1,d2)\n",
    "x_values=t_to_death_values"
   ]
  },
  {
   "cell_type": "code",
   "execution_count": null,
   "metadata": {
    "ExecuteTime": {
     "end_time": "2021-06-17T03:02:23.330758Z",
     "start_time": "2021-06-17T03:02:23.296397Z"
    }
   },
   "outputs": [],
   "source": []
  },
  {
   "cell_type": "code",
   "execution_count": 283,
   "metadata": {
    "ExecuteTime": {
     "end_time": "2021-06-17T03:18:01.104272Z",
     "start_time": "2021-06-17T03:18:00.503023Z"
    }
   },
   "outputs": [],
   "source": [
    "#compute measures near annihilation\n",
    "#input: df_ordered_interactions\n",
    "min_duration=20#150 #ms\n",
    "min_range=1. #cm\n",
    "dsdpixel=ds/width #cm per pixel\n",
    "use_min_duration=True#broken for false\n",
    "use_grad_voltage=False\n",
    "\n",
    "pid_queue=list(df_ordered_interactions.pid.values)\n",
    "pid_deathmate_dict=dict(zip(pid_queue,list(df_ordered_interactions.pid_deathmate.values)))\n",
    "df_out_lst=[]\n",
    "while len(pid_queue)>0:\n",
    "    pid=pid_queue.pop(0)\n",
    "    pid_deathmate=pid_deathmate_dict[pid]\n",
    "    try:\n",
    "        pid_queue.remove(pid_deathmate)\n",
    "        #extract d1,d2\n",
    "        d1=df[df.particle==pid].copy()\n",
    "        d2=df[df.particle==pid_deathmate].copy()\n",
    "        d1.index=d1.frame\n",
    "        d2.index=d2.frame\n",
    "        #compute ranges between\n",
    "        range_values=compute_ranges_between(d1,d2)*dsdpixel\n",
    "        length=range_values.shape[0]\n",
    "        #compute x,y values\n",
    "        if use_grad_voltage:\n",
    "            t_to_death_values, phi1_values, phi2_values, phi_sum_values, phi_diff_values=compute_phase_angles_from_grad_voltage(d1,d2)\n",
    "            \n",
    "        else:\n",
    "            t_vals=d1['t'].values[-length:]\n",
    "            t_to_death_values=np.max(t_vals)-t_vals\n",
    "        \n",
    "        nobs=range_values[1:-1].shape[0]\n",
    "        if nobs>1:\n",
    "            #compute angle between velocities\n",
    "            tdeath_values,angle_between_values=compute_angle_between_final_velocities(d1,d2)\n",
    "            theta_values=angle_between_values\n",
    "            #heretim\n",
    "            #align range_values and theta_values\n",
    "            boo=~np.isnan(theta_values)\n",
    "            theta_values=theta_values[boo]        \n",
    "            assert(range_values.shape[0]==t_to_death_values.shape[0])\n",
    "            if use_min_duration:\n",
    "                #filter by min_duration\n",
    "                t_values=t_to_death_values[1:-1]\n",
    "                boo_keep = min_duration<=np.max(t_values)-np.min(t_values)\n",
    "                #filter by min_range\n",
    "                boo_keep &=min_range<=np.max(range_values)\n",
    "            else:\n",
    "                boo_keep =min_range<=np.max(range_values)\n",
    "                \n",
    "            if boo_keep:\n",
    "                if use_grad_voltage:\n",
    "                    df_out=pd.DataFrame({\n",
    "                        'pid':pid+0*t_values.astype('int'),\n",
    "                        'pid_deathmate':pid_deathmate+0*t_values.astype('int'),\n",
    "                        'tdeath':t_values,\n",
    "                        'phi1':np.abs(phi1_values)[1:-1],\n",
    "                        'phi2':np.abs(phi2_values)[1:-1],\n",
    "                        'phi_sum':np.abs(phi_sum_values)[1:-1],\n",
    "                        'phi_diff':np.abs(phi_diff_values)[1:-1],\n",
    "                        'r':range_values[1:-1],\n",
    "                        'theta':theta_values,\n",
    "                    })\n",
    "                else:\n",
    "                    df_out=pd.DataFrame({\n",
    "                        'pid':pid+0*t_values.astype('int'),\n",
    "                        'pid_deathmate':pid_deathmate+0*t_values.astype('int'),\n",
    "                        'tdeath':t_values,\n",
    "                        'r':range_values[1:-1],\n",
    "                        'theta':theta_values,\n",
    "                    })\n",
    "\n",
    "                #append x,y values to list\n",
    "                df_out_lst.append(df_out)\n",
    "    except ValueError as e: #for catching ValueError: list.remove(x): x not in list\n",
    "        pass"
   ]
  },
  {
   "cell_type": "code",
   "execution_count": 287,
   "metadata": {
    "ExecuteTime": {
     "end_time": "2021-06-17T03:18:23.294481Z",
     "start_time": "2021-06-17T03:18:23.268736Z"
    }
   },
   "outputs": [
    {
     "data": {
      "text/plain": [
       "0"
      ]
     },
     "execution_count": 287,
     "metadata": {},
     "output_type": "execute_result"
    }
   ],
   "source": [
    "len(df_out_lst)"
   ]
  },
  {
   "cell_type": "code",
   "execution_count": 285,
   "metadata": {
    "ExecuteTime": {
     "end_time": "2021-06-17T03:18:05.554945Z",
     "start_time": "2021-06-17T03:18:05.530373Z"
    }
   },
   "outputs": [
    {
     "data": {
      "text/plain": [
       "((3,), (3,), (8,), (3,), (3,))"
      ]
     },
     "execution_count": 285,
     "metadata": {},
     "output_type": "execute_result"
    }
   ],
   "source": [
    "t_to_death_values.shape,range_values.shape,theta_values.shape,d1['t'].values.shape,d2['t'].values.shape"
   ]
  },
  {
   "cell_type": "code",
   "execution_count": 286,
   "metadata": {
    "ExecuteTime": {
     "end_time": "2021-06-17T03:18:07.995774Z",
     "start_time": "2021-06-17T03:18:07.972145Z"
    }
   },
   "outputs": [
    {
     "ename": "ValueError",
     "evalue": "No objects to concatenate",
     "output_type": "error",
     "traceback": [
      "\u001b[0;31m---------------------------------------------------------------------------\u001b[0m",
      "\u001b[0;31mValueError\u001b[0m                                Traceback (most recent call last)",
      "\u001b[0;32m<ipython-input-286-b74331a21375>\u001b[0m in \u001b[0;36m<module>\u001b[0;34m\u001b[0m\n\u001b[0;32m----> 1\u001b[0;31m \u001b[0mdf_phases\u001b[0m\u001b[0;34m=\u001b[0m\u001b[0mpd\u001b[0m\u001b[0;34m.\u001b[0m\u001b[0mconcat\u001b[0m\u001b[0;34m(\u001b[0m\u001b[0mdf_out_lst\u001b[0m\u001b[0;34m)\u001b[0m\u001b[0;34m\u001b[0m\u001b[0;34m\u001b[0m\u001b[0m\n\u001b[0m\u001b[1;32m      2\u001b[0m \u001b[0;31m# df_phases.head()\u001b[0m\u001b[0;34m\u001b[0m\u001b[0;34m\u001b[0m\u001b[0;34m\u001b[0m\u001b[0m\n",
      "\u001b[0;32m~/anaconda3/lib/python3.7/site-packages/pandas/core/reshape/concat.py\u001b[0m in \u001b[0;36mconcat\u001b[0;34m(objs, axis, join, ignore_index, keys, levels, names, verify_integrity, sort, copy)\u001b[0m\n\u001b[1;32m    279\u001b[0m         \u001b[0mverify_integrity\u001b[0m\u001b[0;34m=\u001b[0m\u001b[0mverify_integrity\u001b[0m\u001b[0;34m,\u001b[0m\u001b[0;34m\u001b[0m\u001b[0;34m\u001b[0m\u001b[0m\n\u001b[1;32m    280\u001b[0m         \u001b[0mcopy\u001b[0m\u001b[0;34m=\u001b[0m\u001b[0mcopy\u001b[0m\u001b[0;34m,\u001b[0m\u001b[0;34m\u001b[0m\u001b[0;34m\u001b[0m\u001b[0m\n\u001b[0;32m--> 281\u001b[0;31m         \u001b[0msort\u001b[0m\u001b[0;34m=\u001b[0m\u001b[0msort\u001b[0m\u001b[0;34m,\u001b[0m\u001b[0;34m\u001b[0m\u001b[0;34m\u001b[0m\u001b[0m\n\u001b[0m\u001b[1;32m    282\u001b[0m     )\n\u001b[1;32m    283\u001b[0m \u001b[0;34m\u001b[0m\u001b[0m\n",
      "\u001b[0;32m~/anaconda3/lib/python3.7/site-packages/pandas/core/reshape/concat.py\u001b[0m in \u001b[0;36m__init__\u001b[0;34m(self, objs, axis, join, keys, levels, names, ignore_index, verify_integrity, copy, sort)\u001b[0m\n\u001b[1;32m    327\u001b[0m \u001b[0;34m\u001b[0m\u001b[0m\n\u001b[1;32m    328\u001b[0m         \u001b[0;32mif\u001b[0m \u001b[0mlen\u001b[0m\u001b[0;34m(\u001b[0m\u001b[0mobjs\u001b[0m\u001b[0;34m)\u001b[0m \u001b[0;34m==\u001b[0m \u001b[0;36m0\u001b[0m\u001b[0;34m:\u001b[0m\u001b[0;34m\u001b[0m\u001b[0;34m\u001b[0m\u001b[0m\n\u001b[0;32m--> 329\u001b[0;31m             \u001b[0;32mraise\u001b[0m \u001b[0mValueError\u001b[0m\u001b[0;34m(\u001b[0m\u001b[0;34m\"No objects to concatenate\"\u001b[0m\u001b[0;34m)\u001b[0m\u001b[0;34m\u001b[0m\u001b[0;34m\u001b[0m\u001b[0m\n\u001b[0m\u001b[1;32m    330\u001b[0m \u001b[0;34m\u001b[0m\u001b[0m\n\u001b[1;32m    331\u001b[0m         \u001b[0;32mif\u001b[0m \u001b[0mkeys\u001b[0m \u001b[0;32mis\u001b[0m \u001b[0;32mNone\u001b[0m\u001b[0;34m:\u001b[0m\u001b[0;34m\u001b[0m\u001b[0;34m\u001b[0m\u001b[0m\n",
      "\u001b[0;31mValueError\u001b[0m: No objects to concatenate"
     ]
    }
   ],
   "source": [
    "df_phases=pd.concat(df_out_lst)\n",
    "# df_phases.head()"
   ]
  },
  {
   "cell_type": "code",
   "execution_count": null,
   "metadata": {
    "ExecuteTime": {
     "end_time": "2021-06-17T03:18:08.045813Z",
     "start_time": "2021-06-17T03:17:42.991Z"
    }
   },
   "outputs": [],
   "source": [
    "#save df_phases as csv\n",
    "save_folder=os.path.dirname(os.path.dirname(input_fn))+'/annihilations'\n",
    "if not os.path.exists(save_folder):\n",
    "    os.mkdir(save_folder)\n",
    "os.chdir(save_folder)\n",
    "save_fn=os.path.basename(input_fn).replace('.csv','_annihilations.csv')\n",
    "df_phases.to_csv(save_fn,index=False)\n",
    "\n"
   ]
  },
  {
   "cell_type": "code",
   "execution_count": null,
   "metadata": {
    "ExecuteTime": {
     "end_time": "2021-06-17T03:18:08.075074Z",
     "start_time": "2021-06-17T03:17:43.662Z"
    }
   },
   "outputs": [],
   "source": [
    "#TODO: visually verify that the output makes sense\n",
    "#TODO: wrap all ^this into a function\n"
   ]
  },
  {
   "cell_type": "code",
   "execution_count": null,
   "metadata": {},
   "outputs": [],
   "source": []
  },
  {
   "cell_type": "code",
   "execution_count": null,
   "metadata": {
    "ExecuteTime": {
     "end_time": "2021-06-17T03:18:08.108696Z",
     "start_time": "2021-06-17T03:17:44.750Z"
    }
   },
   "outputs": [],
   "source": [
    "#compute/plot average over particles\n",
    "N=len(list(set(df_phases.pid.values)))\n",
    "dfm=df_phases.groupby('tdeath').mean()\n",
    "x_values=dfm.index.values\n",
    "# y_values=dfm.phi_diff.values\n",
    "y_values=dfm.theta.values\n",
    "plt.plot(x_values,y_values)\n",
    "plt.xlim([0,20])"
   ]
  },
  {
   "cell_type": "code",
   "execution_count": null,
   "metadata": {
    "ExecuteTime": {
     "end_time": "2021-06-16T23:14:12.701371Z",
     "start_time": "2021-06-16T23:13:57.328Z"
    }
   },
   "outputs": [],
   "source": []
  },
  {
   "cell_type": "code",
   "execution_count": null,
   "metadata": {
    "ExecuteTime": {
     "end_time": "2021-06-17T03:18:08.145287Z",
     "start_time": "2021-06-17T03:17:45.728Z"
    }
   },
   "outputs": [],
   "source": [
    "fontsize=16\n",
    "#TODO: plot range versus time until death (right)\n",
    "#TODO: plot angle between versus range (left)\n",
    "tmax=1e2\n",
    "fig,axs=plt.subplots(ncols=2,figsize=(12,5))#(5,4))\n",
    "\n",
    "# y_values_lst=[dfm.phi1.values,dfm.phi2.values,dfm.phi_sum.values, dfm.phi_diff.values]\n",
    "# y_values_lst=[phi1_values,phi2_values,phi_sum_values, phi_diff_values]\n",
    "y_label_lst=[r'$\\phi_1$',r'$\\phi_2$',r'$\\phi_{sum}$',r'$\\phi_{diff}$']\n",
    "ax_lst=[0,0,1,1]\n",
    "c_lst=['C0','C1','C0','C1']\n",
    "\n",
    "#extract local particle values\n",
    "pid_lst=list(set(df_phases.pid.values))\n",
    "for pid in pid_lst[:10]:\n",
    "    boo=df_phases.pid==pid\n",
    "    range_values=df_phases[boo].r.values\n",
    "    tdeath_values=df_phases[boo].tdeath.values\n",
    "    theta_values=df_phases[boo].theta.values\n",
    "    \n",
    "    x_values=range_values\n",
    "    y_values=theta_values\n",
    "    ax=axs[0]\n",
    "    ax.scatter(x_values,y_values,alpha=.3,label='_Hidden',c='gray',s=15)\n",
    "    ax.set_xlabel('distance between\\nspiral tips (cm)',fontsize=fontsize)\n",
    "    ax.set_ylabel('angle between\\n velocities (radians)',fontsize=fontsize)\n",
    "    ax.set_xlim([1e-2,1])\n",
    "    ax.set_xscale('log')\n",
    "#     ax.set_yscale('log')\n",
    "    ax.tick_params(axis='both', which='major', labelsize=fontsize)\n",
    "    ax.tick_params(axis='both', which='minor', labelsize=1)   \n",
    "    \n",
    "    x_values=tdeath_values\n",
    "    y_values=range_values\n",
    "    ax=axs[1]\n",
    "    ax.plot(x_values,range_values,alpha=.3,label='_Hidden',c='gray',lw=2.5)\n",
    "    ax.set_xlabel('time until annihilation (ms)',fontsize=fontsize)\n",
    "    ax.set_ylabel('distance between\\nspiral tips (cm)',fontsize=fontsize)\n",
    "    ax.set_xlim([DT,tmax])\n",
    "    ax.set_xscale('log')\n",
    "    ax.set_yscale('log')\n",
    "    ax.tick_params(axis='both', which='major', labelsize=fontsize)\n",
    "    ax.tick_params(axis='both', which='minor', labelsize=1)\n",
    "    \n",
    "\n",
    "    \n",
    "# axs[0].set_title('phi_1 and phi_2 \\n',fontsize=fontsize)\n",
    "# axs[1].set_title('phi_sum and phi_diff \\n',fontsize=fontsize)\n",
    "plt.tight_layout()\n",
    "# plt.show()\n",
    "# print(f\"\\ttime between two frames was {0.001} ms\")\n",
    "\n",
    "saving=True\n",
    "savefig_folder=f\"{nb_dir}/Figures\"\n",
    "savefig_fn=f\"angles-between-deaths-a-lr.png\"\n",
    "# savefig_fn=f\"angles-between-deaths-a.png\"\n",
    "plt.tight_layout()\n",
    "if not saving: \n",
    "    plt.show() \n",
    "else:\n",
    "    os.chdir(savefig_folder)\n",
    "    plt.savefig(savefig_fn, dpi=300)\n",
    "    print(f\"saved figure in \\n\\t{savefig_fn}\")\n",
    "#     plt.close()"
   ]
  },
  {
   "cell_type": "code",
   "execution_count": null,
   "metadata": {
    "ExecuteTime": {
     "end_time": "2021-06-17T03:18:08.192310Z",
     "start_time": "2021-06-17T03:17:46.302Z"
    }
   },
   "outputs": [],
   "source": [
    "tA=DT # 0.4 #ms\n",
    "tB=2   #ms\n",
    "tC=20  #ms\n",
    "#iterate over all annihilation events computing/plotting the shortest trajectory if it is long enough and if it gets further than a certain range\n",
    "df_deaths=df_phases\n",
    "saving=True\n",
    "savefig_folder=f\"{nb_dir}/Figures\"\n",
    "savefig_fn=f\"angles-between-deaths-b-lr.png\"\n",
    "# savefig_fn=f\"angles-between-deaths-b.png\"\n",
    "fontsize=16\n",
    "bins=6\n",
    "tmax=1e2\n",
    "#plot naive range at death and birth\n",
    "fig,axs=plt.subplots(ncols=2,figsize=(12,5))\n",
    "\n",
    "# y_values_lst=[dfm.phi1.values,dfm.phi2.values,dfm.phi_sum.values, dfm.phi_diff.values]\n",
    "# y_values_lst=[phi1_values,phi2_values,phi_sum_values, phi_diff_values]\n",
    "y_label_lst=[r'$\\vartheta$']\n",
    "ax_lst=[1]\n",
    "c_lst=['gray']\n",
    "# angle_threshold=2.3\n",
    "val1_lst=[];val2_lst=[];val3_lst=[]\n",
    "#extract local particle values\n",
    "pid_lst=list(set(df_deaths.pid.values))\n",
    "for pid in pid_lst:#[:10]:\n",
    "    boo=df_deaths.pid==pid\n",
    "    y_values_lst=[df_deaths[boo].theta.values]\n",
    "    x_values=df_deaths[boo]['tdeath'].values\n",
    "    for y_values,y_label,nax,color in zip(y_values_lst,y_label_lst,ax_lst,c_lst):\n",
    "        ax=axs[nax]\n",
    "        ax.plot(x_values,y_values,alpha=.3,label='_Hidden',c=color,lw=2.5)\n",
    "\n",
    "        boo1=np.isclose(x_values,tA)\n",
    "        boo2=np.isclose(x_values,tB)\n",
    "        boo3=np.isclose(x_values,tC)\n",
    "        val1=y_values[boo1]\n",
    "        val2=y_values[boo2]\n",
    "        val3=y_values[boo3]\n",
    "        if val1.shape[0]>0:\n",
    "            val1_lst.append(val1[0])\n",
    "            val2_lst.append(val2[0])\n",
    "            val3_lst.append(val3[0])\n",
    "            \n",
    "ax.set_xlabel('time until annihilation (ms)',fontsize=fontsize)\n",
    "ax.set_ylabel('angle between\\n velocities (radians)',fontsize=fontsize)\n",
    "ax.set_xlim([DT,tmax])\n",
    "ax.set_xscale('log')\n",
    "ax.tick_params(axis='both', which='major', labelsize=fontsize)\n",
    "ax.tick_params(axis='both', which='minor', labelsize=1)\n",
    "                \n",
    "# fontsize=16\n",
    "# fig,ax=plt.subplots(ncols=1,figsize=(5,5))\n",
    "ax=axs[0]\n",
    "# ax.hist(val1_lst,bins=bins,density=True,color='C0',label=f't=-{tA:.1f} ms',alpha=0.7)\n",
    "ax.hist(val2_lst,bins=bins,density=True,color='C1',label=f't=-{tB:.1f} ms',alpha=0.7)\n",
    "ax.hist(val3_lst,bins=bins,density=True,color='C2',label=f't=-{tC:.1f} ms',alpha=0.7)\n",
    "ax.legend(fontsize=fontsize)\n",
    "#plot control\n",
    "xv=np.arange(0,np.pi,0.1)\n",
    "ax.plot(xv,xv*0.+1/np.pi,'k--')#,color='gray',)\n",
    "ax.set_xlabel('angle between\\n velocities (radians)',fontsize=fontsize)\n",
    "ax.set_ylabel(r'prob. density',fontsize=fontsize)\n",
    "ax.tick_params(axis='both', which='major', labelsize=fontsize)\n",
    "ax.tick_params(axis='both', which='minor', labelsize=1)\n",
    "            \n",
    "plt.tight_layout()\n",
    "# plt.show()\n",
    "# print(f\"\\ttime between two frames was {0.001} ms\")\n",
    "plt.tight_layout()\n",
    "if not saving:\n",
    "    plt.show()\n",
    "else:\n",
    "    os.chdir(savefig_folder)\n",
    "    plt.savefig(savefig_fn, dpi=300)\n",
    "    print(f\"saved figure in \\n\\t{savefig_fn}\")\n",
    "\n",
    "    #     plt.close()"
   ]
  },
  {
   "cell_type": "code",
   "execution_count": null,
   "metadata": {
    "ExecuteTime": {
     "end_time": "2021-06-17T03:18:08.233857Z",
     "start_time": "2021-06-17T03:17:46.871Z"
    },
    "scrolled": true
   },
   "outputs": [],
   "source": [
    "fontsize=16\n",
    "#plot naive range at death and birth\n",
    "fig,axs=plt.subplots(ncols=2,figsize=(12,5))#(5,4))\n",
    "\n",
    "y_values_lst=[phi1_values,phi2_values,phi_sum_values, phi_diff_values]\n",
    "y_label_lst=[r'$\\phi_1$',r'$\\phi_2$',r'$\\phi_{sum}$',r'$\\phi_{diff}$']\n",
    "ax_lst=[0,0,1,1]\n",
    "c_lst=['C0','C1','C0','C1']\n",
    "\n",
    "for y_values,y_label,nax,color in zip(y_values_lst,y_label_lst,ax_lst,c_lst):\n",
    "    ax=axs[nax]\n",
    "    ax.plot(x_values,y_values,alpha=1.0,label=y_label,c=color,lw=2.5)\n",
    "    # plt.scatter(x_values[boo],range_values[boo],c='k',alpha=0.5,s=3)\n",
    "    ax.set_xlabel('time until annihilation (ms)',fontsize=fontsize)\n",
    "    ax.set_ylabel('signed phase (rad)',fontsize=fontsize)\n",
    "\n",
    "    ax.set_xlim([DT,1e1])\n",
    "#     ax.set_ylim([-np.pi/8,np.pi/8])\n",
    "    #     ax.set_xlim([1e-3,1e2])\n",
    "    ax.set_xscale('log')\n",
    "    # plt.yscale('log')\n",
    "    ax.tick_params(axis='both', which='major', labelsize=fontsize)\n",
    "    ax.tick_params(axis='both', which='minor', labelsize=1)\n",
    "    ax.legend(fontsize=fontsize)\n",
    "\n",
    "plt.tight_layout()\n",
    "# plt.show()\n",
    "# print(f\"\\ttime between two frames was {0.001} ms\")\n",
    "\n",
    "saving=False\n",
    "savefig_folder=f\"{nb_dir}/Figures/fine_death\"\n",
    "savefig_fn=f\"fine-death-range-phase.png\"\n",
    "plt.tight_layout()\n",
    "if not saving: \n",
    "    plt.show() \n",
    "else:\n",
    "    os.chdir(savefig_folder)\n",
    "    plt.savefig(savefig_fn, dpi=300)\n",
    "    print(f\"saved figure in \\n\\t{savefig_fn}\")\n",
    "#     plt.close()"
   ]
  },
  {
   "cell_type": "code",
   "execution_count": null,
   "metadata": {
    "ExecuteTime": {
     "end_time": "2021-06-17T03:18:08.267960Z",
     "start_time": "2021-06-17T03:17:47.545Z"
    }
   },
   "outputs": [],
   "source": [
    "fontsize=16\n",
    "#plot naive range at death and birth\n",
    "fig,axs=plt.subplots(ncols=2,figsize=(12,5))#(5,4))\n",
    "\n",
    "# y_values_lst=[dfm.phi1.values,dfm.phi2.values,dfm.phi_sum.values, dfm.phi_diff.values]\n",
    "# y_values_lst=[phi1_values,phi2_values,phi_sum_values, phi_diff_values]\n",
    "y_label_lst=[r'$\\phi_1$',r'$\\phi_2$',r'$\\phi_{sum}$',r'$\\phi_{diff}$']\n",
    "ax_lst=[0,0,1,1]\n",
    "c_lst=['C0','C1','C0','C1']\n",
    "\n",
    "#extract local particle values\n",
    "pid_lst=list(set(df_phases.pid.values))\n",
    "for pid in pid_lst[:10]:\n",
    "    boo=df_phases.pid==pid\n",
    "    y_values_lst=[df_phases[boo].phi1.values,df_phases[boo].phi2.values,df_phases[boo].phi_sum.values, df_phases[boo].phi_diff.values]\n",
    "    x_values=df_phases[boo].tdeath.values\n",
    "    for y_values,y_label,nax,color in zip(y_values_lst,y_label_lst,ax_lst,c_lst):\n",
    "        ax=axs[nax]\n",
    "        ax.plot(x_values,y_values,alpha=.3,label='_Hidden',c=color,lw=2.5)\n",
    "        # plt.scatter(x_values[boo],range_values[boo],c='k',alpha=0.5,s=3)\n",
    "        ax.set_xlabel('time until annihilation (ms)',fontsize=fontsize)\n",
    "        ax.set_ylabel('signed phase (rad)',fontsize=fontsize)\n",
    "\n",
    "        ax.set_xlim([DT,1e1])\n",
    "    #     ax.set_ylim([-np.pi/8,np.pi/8])\n",
    "        #     ax.set_xlim([1e-3,1e2])\n",
    "        ax.set_xscale('log')\n",
    "        # plt.yscale('log')\n",
    "        ax.tick_params(axis='both', which='major', labelsize=fontsize)\n",
    "        ax.tick_params(axis='both', which='minor', labelsize=1)\n",
    "    #     ax.legend(fontsize=fontsize)\n",
    "axs[0].set_title('phi_1 and phi_2 \\n',fontsize=fontsize)\n",
    "axs[1].set_title('phi_sum and phi_diff \\n',fontsize=fontsize)\n",
    "plt.tight_layout()\n",
    "# plt.show()\n",
    "# print(f\"\\ttime between two frames was {0.001} ms\")\n",
    "\n",
    "saving=False\n",
    "savefig_folder=f\"{nb_dir}/Figures\"\n",
    "savefig_fn=f\"fine-death-range-phase.png\"\n",
    "plt.tight_layout()\n",
    "if not saving: \n",
    "    plt.show() \n",
    "else:\n",
    "    os.chdir(savefig_folder)\n",
    "    plt.savefig(savefig_fn, dpi=300)\n",
    "    print(f\"saved figure in \\n\\t{savefig_fn}\")\n",
    "#     plt.close()"
   ]
  },
  {
   "cell_type": "code",
   "execution_count": null,
   "metadata": {
    "ExecuteTime": {
     "end_time": "2021-06-17T02:50:24.964067Z",
     "start_time": "2021-06-17T02:50:24.940780Z"
    }
   },
   "outputs": [],
   "source": []
  },
  {
   "cell_type": "code",
   "execution_count": 223,
   "metadata": {
    "ExecuteTime": {
     "end_time": "2021-06-17T02:51:45.083488Z",
     "start_time": "2021-06-17T02:51:36.593368Z"
    }
   },
   "outputs": [],
   "source": [
    "# #compute measures near annihilation\n",
    "# #input: df_ordered_interactions\n",
    "# min_duration=75 #ms\n",
    "# min_range=1. #cm\n",
    "# dsdpixel=ds/width #cm per pixel\n",
    "# use_min_duration=False\n",
    "# use_grad_voltage=True\n",
    "\n",
    "# pid_queue=list(df_ordered_interactions.pid.values)\n",
    "# pid_deathmate_dict=dict(zip(pid_queue,list(df_ordered_interactions.pid_deathmate.values)))\n",
    "# df_out_lst=[]\n",
    "# while len(pid_queue)>0:\n",
    "#     pid=pid_queue.pop(0)\n",
    "#     pid_deathmate=pid_deathmate_dict[pid]\n",
    "#     try:\n",
    "#         pid_queue.remove(pid_deathmate)\n",
    "#         #extract d1,d2\n",
    "#         d1=df[df.particle==pid].copy()\n",
    "#         d2=df[df.particle==pid_deathmate].copy()\n",
    "#         d1.index=d1.frame\n",
    "#         d2.index=d2.frame\n",
    "#         #compute ranges between\n",
    "#         range_values=compute_ranges_between(d1,d2)*dsdpixel\n",
    "#         length=t_to_death_values.shape[0]\n",
    "#         #compute x,y values\n",
    "#         if use_grad_voltage:\n",
    "#             t_to_death_values, phi1_values, phi2_values, phi_sum_values, phi_diff_values=compute_phase_angles_from_grad_voltage(d1,d2)\n",
    "            \n",
    "#         else:\n",
    "#             t_vals=d1['t'].values[:-length]\n",
    "#             t_to_death_values=np.max(t_vals)-t_vals\n",
    "        \n",
    "#         nobs=np.abs(phi1_values)[1:-1].shape[0]\n",
    "#         if nobs>1:\n",
    "#             #compute range_values\n",
    "#             range_values=compute_ranges_between(d1,d2)*dsdpixel\n",
    "#             #compute angle between velocities\n",
    "#             tdeath_values,angle_between_values=compute_angle_between_final_velocities(d1,d2)\n",
    "#             theta_values=angle_between_values\n",
    "#             #heretim\n",
    "#             #align range_values and theta_values\n",
    "#             boo=~np.isnan(theta_values)\n",
    "#             theta_values=theta_values[boo]        \n",
    "#             assert(range_values.shape[0]==t_to_death_values.shape[0])\n",
    "#             if use_min_duration:\n",
    "#                 #filter by min_duration\n",
    "#                 t_values=t_to_death_values[1:-1]\n",
    "#                 boo_keep = min_duration<=np.max(t_values)-np.min(t_values)\n",
    "#                 #filter by min_range\n",
    "#                 boo_keep &=min_range<=np.max(range_values)\n",
    "#             else:\n",
    "#                 boo_keep =min_range<=np.max(range_values)\n",
    "                \n",
    "#             if boo_keep:\n",
    "#                 if use_grad_voltage:\n",
    "#                     df_out=pd.DataFrame({\n",
    "#                         'pid':pid+0*t_values.astype('int'),\n",
    "#                         'pid_deathmate':pid_deathmate+0*t_values.astype('int'),\n",
    "#                         'tdeath':t_values,\n",
    "#                         'phi1':np.abs(phi1_values)[1:-1],\n",
    "#                         'phi2':np.abs(phi2_values)[1:-1],\n",
    "#                         'phi_sum':np.abs(phi_sum_values)[1:-1],\n",
    "#                         'phi_diff':np.abs(phi_diff_values)[1:-1],\n",
    "#                         'r':range_values[1:-1],\n",
    "#                         'theta':theta_values,\n",
    "#                     })\n",
    "#                 else:\n",
    "#                     df_out=pd.DataFrame({\n",
    "#                         'pid':pid+0*t_values.astype('int'),\n",
    "#                         'pid_deathmate':pid_deathmate+0*t_values.astype('int'),\n",
    "#                         'tdeath':t_values,\n",
    "#                         'r':range_values[1:-1],\n",
    "#                         'theta':theta_values,\n",
    "#                     })\n",
    "\n",
    "#                 #append x,y values to list\n",
    "#                 df_out_lst.append(df_out)\n",
    "#     except ValueError as e: #for catching ValueError: list.remove(x): x not in list\n",
    "#         pass"
   ]
  },
  {
   "cell_type": "code",
   "execution_count": null,
   "metadata": {
    "ExecuteTime": {
     "end_time": "2021-06-17T02:38:48.619065Z",
     "start_time": "2021-06-17T02:38:48.577249Z"
    }
   },
   "outputs": [],
   "source": []
  },
  {
   "cell_type": "markdown",
   "metadata": {},
   "source": [
    "__Result__\n",
    "- When the distance between tips is ~0.4cm in the Fenton-Karma model, the undirected force is comparable to the inward directed force that is responsible for annihilation.\n",
    "- "
   ]
  },
  {
   "cell_type": "markdown",
   "metadata": {},
   "source": [
    "# compute angle between final velocities"
   ]
  },
  {
   "cell_type": "code",
   "execution_count": null,
   "metadata": {
    "ExecuteTime": {
     "end_time": "2021-06-16T23:14:12.702933Z",
     "start_time": "2021-06-16T23:13:57.335Z"
    }
   },
   "outputs": [],
   "source": [
    "pid_lst=df_ordered_interactions.pid.values\n",
    "pid_mate_lst=df_ordered_interactions.pid_deathmate.values\n",
    "# pid_mate_lst=df_ordered_interactions.pid_birthmate.values\n",
    "pid_mate_dict=dict(zip(pid_lst,pid_mate_lst))"
   ]
  },
  {
   "cell_type": "code",
   "execution_count": null,
   "metadata": {
    "ExecuteTime": {
     "end_time": "2021-06-16T23:14:12.704049Z",
     "start_time": "2021-06-16T23:13:57.339Z"
    }
   },
   "outputs": [],
   "source": [
    "pid=pid_lst[0]\n",
    "pid_mate=pid_mate_dict[pid]"
   ]
  },
  {
   "cell_type": "code",
   "execution_count": null,
   "metadata": {
    "ExecuteTime": {
     "end_time": "2021-06-16T23:14:12.704971Z",
     "start_time": "2021-06-16T23:13:57.342Z"
    }
   },
   "outputs": [],
   "source": [
    "#extract d1,d2\n",
    "d1=df[df.particle==pid].copy()\n",
    "d2=df[df.particle==pid_mate].copy()\n",
    "d1.index=d1.frame\n",
    "d2.index=d2.frame\n",
    "\n",
    "tdeath_values,angle_between_values=compute_angle_between_final_velocities(d1,d2)\n",
    "\n",
    "\n",
    "df_out=pd.DataFrame({\n",
    "    'tdeath':tdeath_values,\n",
    "    'theta':angle_between_values,\n",
    "    'pid':pid})"
   ]
  },
  {
   "cell_type": "code",
   "execution_count": null,
   "metadata": {
    "ExecuteTime": {
     "end_time": "2021-06-16T23:14:12.705759Z",
     "start_time": "2021-06-16T23:13:57.345Z"
    }
   },
   "outputs": [],
   "source": [
    "#compute ranges between\n",
    "compute_ranges_between=get_compute_ranges_between(width=width,height=height)\n",
    "tdeath_values,angle_between_values=compute_angle_between_final_velocities(d1,d2)\n",
    "range_values=compute_ranges_between(d1,d2)\n",
    "\n",
    "# compute_relative_velocities\n",
    "# compute_phase_angles_from_grad_voltage\n",
    "#TODO: filter any deaths that never exhibit ranges exceeding range_threshold\n"
   ]
  },
  {
   "cell_type": "code",
   "execution_count": null,
   "metadata": {
    "ExecuteTime": {
     "end_time": "2021-06-16T20:50:55.926912Z",
     "start_time": "2021-06-16T20:50:55.889532Z"
    }
   },
   "outputs": [],
   "source": []
  },
  {
   "cell_type": "code",
   "execution_count": null,
   "metadata": {
    "ExecuteTime": {
     "end_time": "2021-06-16T23:14:12.706928Z",
     "start_time": "2021-06-16T23:13:57.349Z"
    }
   },
   "outputs": [],
   "source": [
    "#am i indexing by time?\n",
    "dd=d1[['x','y']].copy()\n",
    "dd[['xx','yy']]=d2[['x','y']]"
   ]
  },
  {
   "cell_type": "code",
   "execution_count": null,
   "metadata": {
    "ExecuteTime": {
     "end_time": "2021-06-16T23:14:12.707784Z",
     "start_time": "2021-06-16T23:13:57.353Z"
    }
   },
   "outputs": [],
   "source": [
    "# compute displacement unit vector from tip 1 to tip 2\n",
    "xy1_values=np.array(list(zip(dd['x'],dd['y'])))\n",
    "xy2_values=np.array(list(zip(dd['xx'],dd['yy'])))\n",
    "\n",
    "#I think this length check is unnecessary\n",
    "s1=xy1_values.shape[0]\n",
    "s2=xy2_values.shape[0]\n",
    "xy2_minus_xy1_values=np.zeros((np.min((s1,s2)),2))\n",
    "\n",
    "#compute displacements between\n",
    "for j in range(xy2_minus_xy1_values.shape[0]):\n",
    "    xy2_minus_xy1_values[j]=subtract_pbc(xy2_values[j],xy1_values[j])"
   ]
  },
  {
   "cell_type": "code",
   "execution_count": null,
   "metadata": {
    "ExecuteTime": {
     "end_time": "2021-06-16T23:14:12.708617Z",
     "start_time": "2021-06-16T23:13:57.356Z"
    }
   },
   "outputs": [],
   "source": [
    "range_values.shape, tdeath_values.shape, angle_between_values.shape"
   ]
  },
  {
   "cell_type": "code",
   "execution_count": null,
   "metadata": {
    "ExecuteTime": {
     "end_time": "2021-06-16T23:14:12.709426Z",
     "start_time": "2021-06-16T23:13:57.359Z"
    }
   },
   "outputs": [],
   "source": [
    "boo=np.isnan(angle_between_values)\n",
    "angle_between_values=angle_between_values[boo]\n",
    "tdeath_values=tdeath_values[boo]\n",
    "tdeath_values.shape"
   ]
  },
  {
   "cell_type": "code",
   "execution_count": null,
   "metadata": {
    "ExecuteTime": {
     "end_time": "2021-06-16T23:14:12.710161Z",
     "start_time": "2021-06-16T23:13:57.362Z"
    }
   },
   "outputs": [],
   "source": [
    "compute_velo"
   ]
  },
  {
   "cell_type": "code",
   "execution_count": null,
   "metadata": {
    "ExecuteTime": {
     "end_time": "2021-06-16T23:14:12.710829Z",
     "start_time": "2021-06-16T23:13:57.366Z"
    }
   },
   "outputs": [],
   "source": [
    "#TODO: augment df_out with ^that \n",
    "pid_queue=list(df_ordered_interactions.pid.values)\n",
    "len(pid_queue)"
   ]
  },
  {
   "cell_type": "code",
   "execution_count": null,
   "metadata": {
    "ExecuteTime": {
     "end_time": "2021-06-16T23:14:12.711662Z",
     "start_time": "2021-06-16T23:13:57.369Z"
    }
   },
   "outputs": [],
   "source": [
    "#iterate over all trajectories in the pid_lst\n",
    "min_duration=50 #ms\n",
    "min_range=1 #cm\n",
    "pid_queue=list(df_ordered_interactions.pid.values)\n",
    "df_out_lst=[]\n",
    "while len(pid_queue)>0:\n",
    "    pid=pid_queue.pop(0)\n",
    "    pid_mate=pid_mate_dict[pid]\n",
    "    try:\n",
    "        pid_queue.remove(pid_mate)\n",
    "        #extract d1,d2\n",
    "        d1=df[df.particle==pid].copy()\n",
    "        d2=df[df.particle==pid_mate].copy()\n",
    "        d1.index=d1.frame\n",
    "        d2.index=d2.frame\n",
    "\n",
    "        tdeath_values,angle_between_values=compute_angle_between_final_velocities(d1,d2)\n",
    "        \n",
    "        duration=np.max(tdeath_values)-np.min(tdeath_values)\n",
    "        use_event=duration>min_duration\n",
    "        df_out=pd.DataFrame({\n",
    "            'tau':tdeath_values,\n",
    "            'theta':angle_between_values,\n",
    "            'pid':pid})\n",
    "        #append x,y values to list\n",
    "        df_out_lst.append(df_out)\n",
    "    except ValueError as e:\n",
    "        pass\n",
    "\n",
    "df_deaths=pd.concat(df_out_lst)\n",
    "df_deaths.dropna(inplace=True)"
   ]
  },
  {
   "cell_type": "code",
   "execution_count": null,
   "metadata": {
    "ExecuteTime": {
     "end_time": "2021-06-16T23:14:12.712509Z",
     "start_time": "2021-06-16T23:13:57.373Z"
    }
   },
   "outputs": [],
   "source": [
    "df_out.head()"
   ]
  },
  {
   "cell_type": "code",
   "execution_count": null,
   "metadata": {
    "ExecuteTime": {
     "end_time": "2021-06-16T23:14:12.713326Z",
     "start_time": "2021-06-16T23:13:57.397Z"
    }
   },
   "outputs": [],
   "source": [
    "#TODO: plot xy values for pid in list\n",
    "#TODO: compute/plot average over particles\n",
    "N=len(list(set(df_phases.pid.values)))\n",
    "dfm=df_deaths.groupby('tau').mean()\n",
    "x_values=dfm.index.values\n",
    "y_values=dfm.theta.values\n",
    "plt.plot(x_values,y_values)\n",
    "plt.xlim([0,30])\n",
    "print(\"plotting averages\")\n",
    "plt.show()"
   ]
  },
  {
   "cell_type": "code",
   "execution_count": null,
   "metadata": {
    "ExecuteTime": {
     "end_time": "2021-06-16T23:14:12.713977Z",
     "start_time": "2021-06-16T23:13:57.416Z"
    }
   },
   "outputs": [],
   "source": [
    "plt.plot(tdeath_values,angle_between_values)\n",
    "# plt.xlim([DT,3e1])"
   ]
  },
  {
   "cell_type": "code",
   "execution_count": null,
   "metadata": {
    "ExecuteTime": {
     "end_time": "2021-06-16T23:14:12.715226Z",
     "start_time": "2021-06-16T23:13:57.422Z"
    }
   },
   "outputs": [],
   "source": [
    "#iterate over all annihilation events computing/plotting the shortest trajectory if it is long enough and if it gets further than a certain range\n",
    "saving=True\n",
    "savefig_folder=f\"{nb_dir}/Figures\"\n",
    "savefig_fn=f\"angles-between-deaths.png\"\n",
    "fontsize=16\n",
    "bins=6\n",
    "#plot naive range at death and birth\n",
    "fig,axs=plt.subplots(ncols=2,figsize=(12,4))\n",
    "\n",
    "# y_values_lst=[dfm.phi1.values,dfm.phi2.values,dfm.phi_sum.values, dfm.phi_diff.values]\n",
    "# y_values_lst=[phi1_values,phi2_values,phi_sum_values, phi_diff_values]\n",
    "y_label_lst=[r'$\\vartheta$']\n",
    "ax_lst=[1]\n",
    "c_lst=['gray']\n",
    "angle_threshold=2.3\n",
    "val_lst=[]\n",
    "#extract local particle values\n",
    "pid_lst=list(set(df_deaths.pid.values))\n",
    "for pid in pid_lst:#[:10]:\n",
    "    boo=df_deaths.pid==pid\n",
    "    y_values_lst=[df_deaths[boo].theta.values]\n",
    "    x_values=df_deaths[boo].tau.values\n",
    "    for y_values,y_label,nax,color in zip(y_values_lst,y_label_lst,ax_lst,c_lst):\n",
    "#         if (y_values[0]>=angle_threshold) or (y_values[1]>=angle_threshold):\n",
    "        if not (y_values[:3]<angle_threshold).any():# or (y_values[1]>=angle_threshold):\n",
    "            ax=axs[nax]\n",
    "            ax.plot(x_values,y_values,alpha=.3,label='_Hidden',c=color,lw=2.5)\n",
    "            # plt.scatter(x_values[boo],range_values[boo],c='k',alpha=0.5,s=3)\n",
    "            \n",
    "            val_lst.append(y_values[0])\n",
    "\n",
    "            \n",
    "ax.set_xlabel('time until annihilation (ms)',fontsize=fontsize)\n",
    "#             ax.set_ylabel(r'$\\vartheta$ (rad)',fontsize=fontsize)\n",
    "ax.set_ylabel('angle between\\nfinal velocities (rad)',fontsize=fontsize)\n",
    "\n",
    "ax.set_xlim([DT,1e1])\n",
    "#     ax.set_ylim([-np.pi/8,np.pi/8])\n",
    "#     ax.set_xlim([1e-3,1e2])\n",
    "ax.set_xscale('log')\n",
    "#         plt.yscale('log')\n",
    "ax.tick_params(axis='both', which='major', labelsize=fontsize)\n",
    "ax.tick_params(axis='both', which='minor', labelsize=1)\n",
    "#     ax.legend(fontsize=fontsize)\n",
    "                \n",
    "\n",
    "# fontsize=16\n",
    "# fig,ax=plt.subplots(ncols=1,figsize=(5,4))\n",
    "ax=axs[0]\n",
    "ax.hist(val_lst,bins=bins,density=True,color='gray')\n",
    "#plot control\n",
    "xv=np.arange(0,np.pi,0.1)\n",
    "ax.plot(xv,xv*0.+1/np.pi,'k--')#,color='gray',)\n",
    "ax.set_xlabel('angle between\\nfinal velocities (radians)',fontsize=fontsize)\n",
    "ax.set_ylabel(r'prob. density',fontsize=fontsize)\n",
    "ax.tick_params(axis='both', which='major', labelsize=fontsize)\n",
    "ax.tick_params(axis='both', which='minor', labelsize=1)\n",
    "            \n",
    "plt.tight_layout()\n",
    "# plt.show()\n",
    "# print(f\"\\ttime between two frames was {0.001} ms\")\n",
    "plt.tight_layout()\n",
    "if not saving:\n",
    "    plt.show()\n",
    "else:\n",
    "    os.chdir(savefig_folder)\n",
    "    plt.savefig(savefig_fn, dpi=300)\n",
    "    print(f\"saved figure in \\n\\t{savefig_fn}\")\n",
    "#     plt.close()"
   ]
  },
  {
   "cell_type": "markdown",
   "metadata": {
    "heading_collapsed": true
   },
   "source": [
    "# keep your eye on the prize, tim"
   ]
  },
  {
   "cell_type": "code",
   "execution_count": null,
   "metadata": {
    "ExecuteTime": {
     "end_time": "2021-06-16T23:14:12.716074Z",
     "start_time": "2021-06-16T23:13:57.444Z"
    },
    "hidden": true
   },
   "outputs": [],
   "source": [
    "#TODO: filter any annihilations with tips that don't ever get further than range_threshold\n",
    "#TODO: filter any annihilations with tips that don't last longer than duration_threshold\n",
    "#TODO(later): make an angular histogram at several time points"
   ]
  },
  {
   "cell_type": "code",
   "execution_count": null,
   "metadata": {
    "hidden": true
   },
   "outputs": [],
   "source": []
  }
 ],
 "metadata": {
  "kernelspec": {
   "display_name": "Python 3",
   "language": "python",
   "name": "python3"
  },
  "language_info": {
   "codemirror_mode": {
    "name": "ipython",
    "version": 3
   },
   "file_extension": ".py",
   "mimetype": "text/x-python",
   "name": "python",
   "nbconvert_exporter": "python",
   "pygments_lexer": "ipython3",
   "version": "3.7.6"
  },
  "toc": {
   "base_numbering": 1,
   "nav_menu": {},
   "number_sections": true,
   "sideBar": true,
   "skip_h1_title": false,
   "title_cell": "Table of Contents",
   "title_sidebar": "Contents",
   "toc_cell": false,
   "toc_position": {},
   "toc_section_display": true,
   "toc_window_display": false
  },
  "varInspector": {
   "cols": {
    "lenName": 16,
    "lenType": 16,
    "lenVar": 40
   },
   "kernels_config": {
    "python": {
     "delete_cmd_postfix": "",
     "delete_cmd_prefix": "del ",
     "library": "var_list.py",
     "varRefreshCmd": "print(var_dic_list())"
    },
    "r": {
     "delete_cmd_postfix": ") ",
     "delete_cmd_prefix": "rm(",
     "library": "var_list.r",
     "varRefreshCmd": "cat(var_dic_list()) "
    }
   },
   "types_to_exclude": [
    "module",
    "function",
    "builtin_function_or_method",
    "instance",
    "_Feature"
   ],
   "window_display": false
  }
 },
 "nbformat": 4,
 "nbformat_minor": 4
}
