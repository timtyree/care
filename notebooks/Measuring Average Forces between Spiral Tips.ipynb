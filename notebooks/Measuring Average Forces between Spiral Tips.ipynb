{
 "cells": [
  {
   "cell_type": "markdown",
   "metadata": {},
   "source": [
    "# Measuring The Effect of Forces in Terms of Directional Preferences between Spiral Tips that annihilate\n",
    "Tim Tyree<br>\n",
    "6.16.2021"
   ]
  },
  {
   "cell_type": "markdown",
   "metadata": {},
   "source": [
    "- DONE: generate spiral data at dt=0.1 for Luo-Rudy model\n",
    "- TODO: compare angular distributions found for Luo-Rudy model to Fenton-Karma model.\n",
    "\n",
    "snapshot of comoving frame of spiral tip\n",
    "- TODO(later): compute xy coordinates of V field rotated such that the y=0,x>0 axis corresponds to the direction of the activation front.\n",
    "- TODO: plot the snapshot for a right/left handed spiral tip\n",
    "- TODO: repeat plot the snapshot for a right/left handed spiral tip for small distance between spiral tips\n",
    "- TODO: visualize streamplot of grad-voltage (or dVdt) for a small number of frames before birth/death."
   ]
  },
  {
   "cell_type": "code",
   "execution_count": 3,
   "metadata": {
    "ExecuteTime": {
     "end_time": "2021-07-06T16:55:52.848594Z",
     "start_time": "2021-07-06T16:55:46.627863Z"
    }
   },
   "outputs": [
    {
     "name": "stdout",
     "output_type": "stream",
     "text": [
      "Automatic calling is: Smart\n"
     ]
    }
   ],
   "source": [
    "from lib.my_initialization import *\n",
    "# from lib.controller.controller_LR import get_one_step_explicit_synchronous_splitting\n",
    "# from lib.utils import load_buffer\n",
    "# from lib.routines.return_min_distance import *\n",
    "# from lib.viewer.DomainPlot import ShowDomain\n",
    "# from lib.measure.comp_tips_safely import *\n",
    "from lib import *\n",
    "\n",
    "#my_initialization.py\n",
    "import pandas as pd, numpy as np, matplotlib.pyplot as plt\n",
    "\n",
    "#load the libraries\n",
    "# from .utils.operari import *\n",
    "#automate the boring stuff\n",
    "# from IPython import utils\n",
    "import time, os, sys, re\n",
    "import dask.bag as db\n",
    "beep = lambda x: os.system(\"echo -n '\\\\a';sleep 0.2;\" * x)\n",
    "if not 'nb_dir' in globals():\n",
    "    nb_dir = os.getcwd()\n",
    "\n",
    "#magic    \n",
    "%autocall 1\n",
    "%load_ext autoreload\n",
    "%autoreload 2\n",
    "\n",
    "darkmode=False\n",
    "if darkmode:\n",
    "    # For darkmode plots\n",
    "    from jupyterthemes import jtplot\n",
    "    jtplot.style(theme='monokai', context='notebook', ticks=True, grid=False)"
   ]
  },
  {
   "cell_type": "code",
   "execution_count": 7,
   "metadata": {
    "ExecuteTime": {
     "end_time": "2021-07-06T16:56:54.931143Z",
     "start_time": "2021-07-06T16:56:54.832768Z"
    }
   },
   "outputs": [],
   "source": [
    "#LR results for DT = 0.5 ms\n",
    "#annihilations aggregated\n",
    "input_fn=\"/home/timothytyree/Documents/GitHub/care/notebooks/Data/initial-conditions-suite-3-LR/param_qu_tmax_30_Ko_5.4_diffCoef_0.0005_dt_0.5/annihilations_minr_1.0_mindur_20.0.csv\"\n",
    "#creations aggregated\n",
    "input_fn=\"/home/timothytyree/Documents/GitHub/care/notebooks/Data/initial-conditions-suite-3-LR/param_qu_tmax_30_Ko_5.4_diffCoef_0.0005_dt_0.5/creations_minr_1.0_mindur_20.0.csv\"\n",
    "\n",
    "#FK results for DT = 0.4 ms\n",
    "#annihilations aggregated\n",
    "input_fn=\"/home/timothytyree/Documents/GitHub/care/notebooks/Data/initial-conditions-fk-200x200/param_set_8_ds_5.0_tmax_10_diffCoef_0.0005/annihilations_minr_1.0_mindur_20.0.csv\"\n",
    "#creations aggregated\n",
    "input_fn=\"/home/timothytyree/Documents/GitHub/care/notebooks/Data/initial-conditions-fk-200x200/param_set_8_ds_5.0_tmax_10_diffCoef_0.0005/creations_minr_1.0_mindur_20.0.csv\"\n",
    "\n",
    "#particle results for DT=0.25ms\n",
    "input_fn=\"/Users/timothytyree/Documents/GitHub/bgmc/python/data/local_results/euic_False_fc_2_r_0.1_D_2_L_10_kappa_1500_varkappa_5/annihilations_minr_1_mindur_20.csv\"\n",
    "#creations aggregated\n",
    "# input_fn=\"/Users/timothytyree/Documents/GitHub/bgmc/python/data/local_results/euic_False_fc_2_r_0.1_D_2_L_10_kappa_1500_varkappa_5/creations_minr_1_mindur_20.csv\""
   ]
  },
  {
   "cell_type": "markdown",
   "metadata": {
    "ExecuteTime": {
     "end_time": "2021-06-17T22:59:07.526710Z",
     "start_time": "2021-06-17T22:59:07.501435Z"
    },
    "heading_collapsed": true
   },
   "source": [
    "### notae malorum"
   ]
  },
  {
   "cell_type": "code",
   "execution_count": 3,
   "metadata": {
    "ExecuteTime": {
     "end_time": "2021-06-26T03:19:03.570388Z",
     "start_time": "2021-06-26T03:19:03.557622Z"
    },
    "hidden": true
   },
   "outputs": [],
   "source": [
    "# #DONE: finding where I already dev'd using both types of ~comp_tips methods\n",
    "# #TODO(later): fix get_comp_tips using test based dev in a pycuda interface\n",
    "# comp_tips=get_comp_tips(width,height,V_threshold)\n",
    "# dict_tips=comp_tips(img,img_prev,dimgdt, t, txt)\n",
    "#TODO: generate a 2 frames of clean data using both types of ~comp_tips methods (requires finding where I already do this... but it will give local reproducibility...)\n",
    "#TODO: compute displacement between all particles in both frames\n",
    "#TODO: compute apparent displacement of all particles between frames\n",
    "#TODO: compute sum of forces predicted by the force-types I've been using.\n",
    "#TODO: compute nearest-neighbor forces predicted by the force-types I've been using.\n",
    "\n",
    "#TODO: for each of the 6 force models, compute the angular difference between the predicted force direction and the actual displacement\n",
    "#TODO: plot this tiny sample of apparent displacement versus length of the sum of forces\n",
    "\n",
    "#TODO: extend a list using ^those x_values,y_values\n",
    "#TODO: plot apparent displacement versus length of the sum of forces"
   ]
  },
  {
   "cell_type": "code",
   "execution_count": 4,
   "metadata": {
    "ExecuteTime": {
     "end_time": "2021-06-26T03:19:03.584199Z",
     "start_time": "2021-06-26T03:19:03.571223Z"
    },
    "hidden": true
   },
   "outputs": [],
   "source": [
    "# get_comp_tips"
   ]
  },
  {
   "cell_type": "code",
   "execution_count": 5,
   "metadata": {
    "ExecuteTime": {
     "end_time": "2021-06-26T03:19:03.599282Z",
     "start_time": "2021-06-26T03:19:03.585122Z"
    },
    "hidden": true
   },
   "outputs": [],
   "source": [
    "#TODO: DEBUG GET_COMP_TIPS / DEV GET_COMP_TIPS on macbook\n",
    "#TODO: link  up png saving from the movie making ipynb\n",
    "\n",
    "#TODO: alternatively, make a (frameno,width,height,chnlno) numpy array and save as npz.  refine with implicite midpoint rule, and identify all death events according to lagged spiral tip locations\n",
    "\n",
    "#TODO: access cuda accelerated shared memory from python using pycuda.\n",
    "\n"
   ]
  },
  {
   "cell_type": "markdown",
   "metadata": {
    "ExecuteTime": {
     "end_time": "2021-06-16T18:35:18.962757Z",
     "start_time": "2021-06-16T18:35:18.959621Z"
    },
    "hidden": true
   },
   "source": [
    "__step 2 (python)__ analyze the timescale (and lengthscale) overwhich the significance of directionality arises as two spiral tips collide\n",
    "\n",
    "__step 1 (python)__ functionally load existing trajectories and compute annihilation events using my preexisting python code\n",
    "<!-- __step 1 (python)__ functionally compute annihilation trajectories using my preexisting python code -->"
   ]
  },
  {
   "cell_type": "markdown",
   "metadata": {
    "hidden": true
   },
   "source": [
    "__TODO(later):__ modify existing generate_tip_log that uses gpu acceleration \n",
    "- to use lagged tip locations\n",
    "OR\n",
    "- to use lagged tip locations at a low time resolution\n",
    "- and then save individual annihilation events at a high time resolution"
   ]
  },
  {
   "cell_type": "markdown",
   "metadata": {},
   "source": [
    "# visualizing the timescale/lengthscale of significantly inward directed motion in the time leading up to annihilation"
   ]
  },
  {
   "cell_type": "code",
   "execution_count": 4,
   "metadata": {
    "ExecuteTime": {
     "end_time": "2021-07-06T16:55:54.402759Z",
     "start_time": "2021-07-06T16:55:53.030773Z"
    }
   },
   "outputs": [
    {
     "data": {
      "text/html": [
       "<div>\n",
       "<style scoped>\n",
       "    .dataframe tbody tr th:only-of-type {\n",
       "        vertical-align: middle;\n",
       "    }\n",
       "\n",
       "    .dataframe tbody tr th {\n",
       "        vertical-align: top;\n",
       "    }\n",
       "\n",
       "    .dataframe thead th {\n",
       "        text-align: right;\n",
       "    }\n",
       "</style>\n",
       "<table border=\"1\" class=\"dataframe\">\n",
       "  <thead>\n",
       "    <tr style=\"text-align: right;\">\n",
       "      <th></th>\n",
       "      <th>pid</th>\n",
       "      <th>pid_deathmate</th>\n",
       "      <th>tdeath</th>\n",
       "      <th>r</th>\n",
       "      <th>theta</th>\n",
       "    </tr>\n",
       "  </thead>\n",
       "  <tbody>\n",
       "    <tr>\n",
       "      <th>1050848</th>\n",
       "      <td>5</td>\n",
       "      <td>3</td>\n",
       "      <td>0.25</td>\n",
       "      <td>0.103438</td>\n",
       "      <td>2.437648</td>\n",
       "    </tr>\n",
       "    <tr>\n",
       "      <th>323823</th>\n",
       "      <td>11</td>\n",
       "      <td>4</td>\n",
       "      <td>0.25</td>\n",
       "      <td>0.143089</td>\n",
       "      <td>2.609108</td>\n",
       "    </tr>\n",
       "    <tr>\n",
       "      <th>48694</th>\n",
       "      <td>2</td>\n",
       "      <td>15</td>\n",
       "      <td>0.25</td>\n",
       "      <td>0.122274</td>\n",
       "      <td>0.157501</td>\n",
       "    </tr>\n",
       "    <tr>\n",
       "      <th>556234</th>\n",
       "      <td>3</td>\n",
       "      <td>11</td>\n",
       "      <td>0.25</td>\n",
       "      <td>0.145809</td>\n",
       "      <td>2.062010</td>\n",
       "    </tr>\n",
       "    <tr>\n",
       "      <th>324831</th>\n",
       "      <td>10</td>\n",
       "      <td>2</td>\n",
       "      <td>0.25</td>\n",
       "      <td>0.019500</td>\n",
       "      <td>0.418312</td>\n",
       "    </tr>\n",
       "  </tbody>\n",
       "</table>\n",
       "</div>"
      ],
      "text/plain": [
       "         pid  pid_deathmate  tdeath         r     theta\n",
       "1050848    5              3    0.25  0.103438  2.437648\n",
       "323823    11              4    0.25  0.143089  2.609108\n",
       "48694      2             15    0.25  0.122274  0.157501\n",
       "556234     3             11    0.25  0.145809  2.062010\n",
       "324831    10              2    0.25  0.019500  0.418312"
      ]
     },
     "execution_count": 4,
     "metadata": {},
     "output_type": "execute_result"
    }
   ],
   "source": [
    "df=pd.read_csv(input_fn)\n",
    "df.sort_values('tdeath',ascending=True,inplace=True)\n",
    "df.head()"
   ]
  },
  {
   "cell_type": "code",
   "execution_count": 5,
   "metadata": {
    "ExecuteTime": {
     "end_time": "2021-07-06T16:55:55.919863Z",
     "start_time": "2021-07-06T16:55:54.559242Z"
    }
   },
   "outputs": [],
   "source": [
    "#plot the mean drdt versus r\n",
    "#compute xy values\n",
    "x_label='r (cm)'\n",
    "y_label='dr/dt (cm/ms)'\n",
    "\n",
    "df_phases=df.copy()\n",
    "t_values=sorted(set(df_phases.tdeath.values))\n",
    "DT=sorted(set(df_phases.tdeath.values))[0]\n",
    "#compute/plot average over particles\n",
    "N=len(list(set(df_phases.pid.values)))\n",
    "# dfm=df_phases.groupby('tbirth').mean()\n",
    "# dfs=df_phases.groupby('tbirth').std()\n",
    "dfm=df_phases.groupby('tdeath').mean()\n",
    "dfs=df_phases.groupby('tdeath').std()\n",
    "t_values=dfm.index.values\n",
    "range_values=dfm.r.values\n",
    "drdt_values=np.diff(range_values)/DT\n",
    "r_values=range_values[1:]/2+range_values[:-1]/2\n",
    "x_values=r_values\n",
    "y_values=drdt_values\n",
    "# yerr_values_lr=dfs.theta.values\n",
    "\n",
    "#fit drdt_values to F0+F1/r with OLS fit for LR model where 1/r is greater than some 1/cm\n",
    "rmax=1.2 #cm\n",
    "boo=r_values<rmax\n",
    "x=1/r_values[boo]\n",
    "y=drdt_values[boo]\n",
    "dict_force_fit=compute_95CI_ols(x,y)\n",
    "y_hat_values=dict_force_fit['b']+dict_force_fit['m']/r_values\n",
    "\n",
    "dict_force_fit=dict_force_fit\n",
    "y_hat_values=y_hat_values"
   ]
  },
  {
   "cell_type": "code",
   "execution_count": 6,
   "metadata": {
    "ExecuteTime": {
     "end_time": "2021-07-06T16:55:58.324993Z",
     "start_time": "2021-07-06T16:55:58.140873Z"
    }
   },
   "outputs": [
    {
     "name": "stdout",
     "output_type": "stream",
     "text": [
      "nobs=682\n",
      "the best fits are\n",
      " {'m': 0.014799309940152978, 'Delta_m': 0.001102923258292748, 'b': 0.0019184372183000606, 'Delta_b': 0.002092005856845377, 'Rsquared': 0.8036149792908999}.\n"
     ]
    }
   ],
   "source": [
    "nobs=df.groupby('tdeath').r.count().iloc[0]\n",
    "print(f\"nobs={nobs}\")\n",
    "print(f\"the best fits are\\n {dict_force_fit}.\")"
   ]
  },
  {
   "cell_type": "code",
   "execution_count": 8,
   "metadata": {
    "ExecuteTime": {
     "end_time": "2021-07-06T16:29:52.248610Z",
     "start_time": "2021-07-06T16:29:52.150968Z"
    }
   },
   "outputs": [],
   "source": [
    "def print_dict(input_dict):\n",
    "    for key in input_dict.keys():\n",
    "        print(f\"{key}={input_dict[key]}\")"
   ]
  },
  {
   "cell_type": "code",
   "execution_count": null,
   "metadata": {
    "ExecuteTime": {
     "end_time": "2021-06-30T20:08:31.476652Z",
     "start_time": "2021-06-30T20:08:31.453238Z"
    }
   },
   "outputs": [],
   "source": []
  },
  {
   "cell_type": "code",
   "execution_count": 10,
   "metadata": {
    "ExecuteTime": {
     "end_time": "2021-07-06T17:07:09.682958Z",
     "start_time": "2021-07-06T17:07:08.819613Z"
    }
   },
   "outputs": [
    {
     "name": "stdout",
     "output_type": "stream",
     "text": [
      "input_fn: /Users/timothytyree/Documents/GitHub/bgmc/python/data/local_results/euic_False_fc_2_r_0.1_D_2_L_10_kappa_1500_varkappa_5/annihilations_minr_1_mindur_20.csv\n",
      "nobs=682\n",
      "the best fits are\n",
      " {'m': 0.014799309940152978, 'Delta_m': 0.001102923258292748, 'b': 0.0019184372183000606, 'Delta_b': 0.002092005856845377, 'Rsquared': 0.8036149792908999}.\n"
     ]
    },
    {
     "data": {
      "image/png": "[encoded data removed]",
      "text/plain": [
       "<Figure size 504x216 with 2 Axes>"
      ]
     },
     "metadata": {
      "needs_background": "light"
     },
     "output_type": "display_data"
    }
   ],
   "source": [
    "fontsize=18\n",
    "alpha=0.1\n",
    "\n",
    "fig,axs=plt.subplots(ncols=2,figsize=(7,3))#(5,4))\n",
    "ax=axs[0]\n",
    "ax.scatter(x_values,y_values,c='C2',s=20,alpha=alpha)\n",
    "\n",
    "#plot fits\n",
    "ax.plot(x_values,y_hat_values,c='C2',lw=2,alpha=1)\n",
    "\n",
    "ax.set_xlim([0,1.2])\n",
    "ax.set_ylim([-0.1,.5])\n",
    "ax.set_xlabel(x_label,fontsize=fontsize)\n",
    "ax.set_ylabel(y_label,fontsize=fontsize)\n",
    "# ax.set_xscale('log')\n",
    "ax.tick_params(axis='both', which='major', labelsize=fontsize)\n",
    "ax.tick_params(axis='both', which='minor', labelsize=1)\n",
    "\n",
    "ax=axs[1]\n",
    "ax.scatter(1/x_values,y_values,c='C2',s=20,alpha=alpha)\n",
    "\n",
    "#plot fits\n",
    "ax.plot(1/x_values,y_hat_values,c='C2',lw=2,alpha=1)\n",
    "\n",
    "# y_hat_values_fk\n",
    "# y_hat_values_fk\n",
    "\n",
    "ax.set_xlim([.7,5])\n",
    "ax.set_ylim([-0.1,.2])\n",
    "ax.set_xlabel(r'$1/r$ (cm$^{-1}$)',fontsize=fontsize)\n",
    "ax.set_ylabel(y_label,fontsize=fontsize)\n",
    "\n",
    "# ax.set_xscale('log')\n",
    "ax.tick_params(axis='both', which='major', labelsize=fontsize)\n",
    "ax.tick_params(axis='both', which='minor', labelsize=1)\n",
    "#wrong bluf because aggregate\n",
    "plt.tight_layout()\n",
    "print(f\"input_fn: {input_fn}\")\n",
    "print(f\"nobs={nobs}\")\n",
    "print(f\"the best fits are\\n {dict_force_fit}.\")\n",
    "plt.show()"
   ]
  },
  {
   "cell_type": "code",
   "execution_count": null,
   "metadata": {},
   "outputs": [],
   "source": []
  },
  {
   "cell_type": "code",
   "execution_count": null,
   "metadata": {},
   "outputs": [],
   "source": []
  },
  {
   "cell_type": "code",
   "execution_count": null,
   "metadata": {},
   "outputs": [],
   "source": []
  },
  {
   "cell_type": "markdown",
   "metadata": {},
   "source": [
    "# TODO: quick and dirty angular histogram of many angles for a given time/range before death\n",
    "then, angular plots over many values\n",
    "- TODO: overlay several times/ranges to show timescale/engthscale of orientation\n",
    "- TODO: filter by min_duration and by min_range simultaneously\n",
    "- TODO: compute the mean_unsigned_angle_between versus t_death_values. \n",
    "\n",
    "then, visualizations\n",
    "- TODO: plot the mean_unsigned_angle_between versus t_death_values. \n",
    "    - overlay with background of many individual events / standard deviation\n",
    "- TODO: plot the range_values versus t_death_values. \n",
    "    - overlay with background of many individual events / standard deviation\n",
    "- TODO: plot the range_values versus mean_unsigned_angle_between. \n",
    "    - overlay with background of many individual events / standard deviation"
   ]
  },
  {
   "cell_type": "markdown",
   "metadata": {},
   "source": [
    "# visualize angular histograms for a given model"
   ]
  },
  {
   "cell_type": "markdown",
   "metadata": {
    "heading_collapsed": true
   },
   "source": [
    "## Luo-Rudy"
   ]
  },
  {
   "cell_type": "code",
   "execution_count": 25,
   "metadata": {
    "ExecuteTime": {
     "end_time": "2021-06-29T18:49:38.348985Z",
     "start_time": "2021-06-29T18:49:38.269045Z"
    },
    "hidden": true
   },
   "outputs": [
    {
     "data": {
      "text/html": [
       "<div>\n",
       "<style scoped>\n",
       "    .dataframe tbody tr th:only-of-type {\n",
       "        vertical-align: middle;\n",
       "    }\n",
       "\n",
       "    .dataframe tbody tr th {\n",
       "        vertical-align: top;\n",
       "    }\n",
       "\n",
       "    .dataframe thead th {\n",
       "        text-align: right;\n",
       "    }\n",
       "</style>\n",
       "<table border=\"1\" class=\"dataframe\">\n",
       "  <thead>\n",
       "    <tr style=\"text-align: right;\">\n",
       "      <th></th>\n",
       "      <th>pid</th>\n",
       "      <th>pid_deathmate</th>\n",
       "      <th>tdeath</th>\n",
       "      <th>phi1</th>\n",
       "      <th>phi2</th>\n",
       "      <th>phi_sum</th>\n",
       "      <th>phi_diff</th>\n",
       "      <th>r</th>\n",
       "      <th>theta</th>\n",
       "    </tr>\n",
       "  </thead>\n",
       "  <tbody>\n",
       "    <tr>\n",
       "      <th>0</th>\n",
       "      <td>7740</td>\n",
       "      <td>7710</td>\n",
       "      <td>21.400</td>\n",
       "      <td>0.667985</td>\n",
       "      <td>0.750684</td>\n",
       "      <td>0.082698</td>\n",
       "      <td>1.418669</td>\n",
       "      <td>2.711634</td>\n",
       "      <td>2.360337</td>\n",
       "    </tr>\n",
       "    <tr>\n",
       "      <th>1</th>\n",
       "      <td>7740</td>\n",
       "      <td>7710</td>\n",
       "      <td>21.375</td>\n",
       "      <td>0.574328</td>\n",
       "      <td>0.751892</td>\n",
       "      <td>0.177564</td>\n",
       "      <td>1.326221</td>\n",
       "      <td>2.714238</td>\n",
       "      <td>2.374371</td>\n",
       "    </tr>\n",
       "    <tr>\n",
       "      <th>2</th>\n",
       "      <td>7740</td>\n",
       "      <td>7710</td>\n",
       "      <td>21.350</td>\n",
       "      <td>0.570388</td>\n",
       "      <td>0.753465</td>\n",
       "      <td>0.183078</td>\n",
       "      <td>1.323853</td>\n",
       "      <td>2.715064</td>\n",
       "      <td>2.453336</td>\n",
       "    </tr>\n",
       "    <tr>\n",
       "      <th>3</th>\n",
       "      <td>7740</td>\n",
       "      <td>7710</td>\n",
       "      <td>21.325</td>\n",
       "      <td>0.566287</td>\n",
       "      <td>0.755052</td>\n",
       "      <td>0.188765</td>\n",
       "      <td>1.321338</td>\n",
       "      <td>2.715846</td>\n",
       "      <td>2.457085</td>\n",
       "    </tr>\n",
       "    <tr>\n",
       "      <th>4</th>\n",
       "      <td>7740</td>\n",
       "      <td>7710</td>\n",
       "      <td>21.300</td>\n",
       "      <td>0.562026</td>\n",
       "      <td>0.756650</td>\n",
       "      <td>0.194624</td>\n",
       "      <td>1.318676</td>\n",
       "      <td>2.716587</td>\n",
       "      <td>2.460970</td>\n",
       "    </tr>\n",
       "  </tbody>\n",
       "</table>\n",
       "</div>"
      ],
      "text/plain": [
       "    pid  pid_deathmate  tdeath      phi1      phi2   phi_sum  phi_diff  \\\n",
       "0  7740           7710  21.400  0.667985  0.750684  0.082698  1.418669   \n",
       "1  7740           7710  21.375  0.574328  0.751892  0.177564  1.326221   \n",
       "2  7740           7710  21.350  0.570388  0.753465  0.183078  1.323853   \n",
       "3  7740           7710  21.325  0.566287  0.755052  0.188765  1.321338   \n",
       "4  7740           7710  21.300  0.562026  0.756650  0.194624  1.318676   \n",
       "\n",
       "          r     theta  \n",
       "0  2.711634  2.360337  \n",
       "1  2.714238  2.374371  \n",
       "2  2.715064  2.453336  \n",
       "3  2.715846  2.457085  \n",
       "4  2.716587  2.460970  "
      ]
     },
     "execution_count": 25,
     "metadata": {},
     "output_type": "execute_result"
    }
   ],
   "source": [
    "#LR results for DT = 0.5 ms\n",
    "modelname='luo-rudy'\n",
    "#annihilations aggregated\n",
    "# input_fn=\"/home/timothytyree/Documents/GitHub/care/notebooks/Data/initial-conditions-suite-3-LR/param_qu_tmax_30_Ko_5.4_diffCoef_0.0005_dt_0.5/annihilations_minr_1.0_mindur_20.0.csv\"\n",
    "# # #creations aggregated\n",
    "# input_fn=\"/home/timothytyree/Documents/GitHub/care/notebooks/Data/initial-conditions-suite-3-LR/param_qu_tmax_30_Ko_5.4_diffCoef_0.0005_dt_0.5/creations_minr_1.0_mindur_20.0.csv\"\n",
    "\n",
    "# #LR results for DT = 0.025 ms\n",
    "#annihilations aggregated\n",
    "input_fn='/home/timothytyree/Documents/GitHub/care/notebooks/Data/initial-conditions-suite-3-LR/param_qu_tmax_30_Ko_5.4_diffCoef_0.0005_dt_0.025/annihilations_minr_1.0_mindur_20.0.csv'\n",
    "# # #creations aggregated\n",
    "# input_fn='/home/timothytyree/Documents/GitHub/care/notebooks/Data/initial-conditions-suite-3-LR/param_qu_tmax_30_Ko_5.4_diffCoef_0.0005_dt_0.025/creations_minr_1.0_mindur_20.0.csv'\n",
    "\n",
    "\n",
    "# #FK results for DT = 0.4 ms\n",
    "# #annihilations aggregated\n",
    "# input_fn=\"/home/timothytyree/Documents/GitHub/care/notebooks/Data/initial-conditions-fk-200x200/param_set_8_ds_5.0_tmax_10_diffCoef_0.0005/annihilations_minr_1.0_mindur_20.0.csv\"\n",
    "# # #creations aggregated\n",
    "# input_fn=\"/home/timothytyree/Documents/GitHub/care/notebooks/Data/initial-conditions-fk-200x200/param_set_8_ds_5.0_tmax_10_diffCoef_0.0005/creations_minr_1.0_mindur_20.0.csv\"\n",
    "\n",
    "# #FK results for DT = 0.025 ms\n",
    "\n",
    "\n",
    "# input_fn=search_for_file()\n",
    "# input_fn=\"/home/timothytyree/Documents/GitHub/care/notebooks/Data/initial-conditions-suite-3-LR/param_qu_tmax_30_Ko_3.8_diffCoef_0.0005/annihilations/ic001.21_traj_sr_600_mem_0_annihilations.csv\"\n",
    "df=pd.read_csv(input_fn)\n",
    "df.head()"
   ]
  },
  {
   "cell_type": "code",
   "execution_count": 26,
   "metadata": {
    "ExecuteTime": {
     "end_time": "2021-06-29T18:49:40.320120Z",
     "start_time": "2021-06-29T18:49:40.279490Z"
    },
    "hidden": true
   },
   "outputs": [],
   "source": [
    "#heretim\n",
    "#TODO: screenshot LR\n",
    "#TODO: screenshot FK\n",
    "#TODO: screenshot LR with small time step\n",
    "#TODO: visualize on same screen. interpret.\n",
    "#TODO: make outputs simultaneously visible for LR and FK results (dt=0.5,0.4, respectively)"
   ]
  },
  {
   "cell_type": "code",
   "execution_count": 27,
   "metadata": {
    "ExecuteTime": {
     "end_time": "2021-06-29T18:49:40.850157Z",
     "start_time": "2021-06-29T18:49:40.815834Z"
    },
    "hidden": true
   },
   "outputs": [
    {
     "name": "stdout",
     "output_type": "stream",
     "text": [
      "considering angles at times (tA,tB,tC)=(0.025, 0.2, 2.0) milliseconds.\n"
     ]
    }
   ],
   "source": [
    "#slice df to a given tdeath\n",
    "t_values=sorted(set(df.tdeath.values))\n",
    "# t_values=sorted(set(df.tbirth.values))\n",
    "\n",
    "# #FK\n",
    "# tA=t_values[0]#.4\n",
    "# tB=t_values[9]#4.\n",
    "# tC=t_values[49]#20.\n",
    "#LR\n",
    "tA=t_values[0]\n",
    "tB=t_values[7]\n",
    "tC=t_values[79]#15]#39]\n",
    "\n",
    "print(f\"considering angles at times (tA,tB,tC)={(tA,tB,tC)} milliseconds.\")\n",
    "\n",
    "anglesA=df[df.tdeath==tA].theta.values\n",
    "anglesB=df[df.tdeath==tB].theta.values\n",
    "anglesC=df[df.tdeath==tC].theta.values\n",
    "\n",
    "# anglesA=df[df.tbirth==tA].theta.values\n",
    "# anglesB=df[df.tbirth==tB].theta.values\n",
    "# anglesC=df[df.tbirth==tC].theta.values\n",
    "\n",
    "\n",
    "ax_lst=[2,1,0]\n",
    "c='C1'\n",
    "color_lst=[c,c,c]\n",
    "# color_lst=['C0','C1','C2']\n",
    "angle_lst=[anglesA,anglesB,anglesC]"
   ]
  },
  {
   "cell_type": "code",
   "execution_count": 28,
   "metadata": {
    "ExecuteTime": {
     "end_time": "2021-06-29T18:49:42.467801Z",
     "start_time": "2021-06-29T18:49:42.447066Z"
    },
    "hidden": true
   },
   "outputs": [],
   "source": [
    "#angular histogram viewer from optical_flow\n",
    "# the area of each bin is proportional to the number of observations in it,\n",
    "bins=4*2\n",
    "symmetrize=False\n",
    "density=True"
   ]
  },
  {
   "cell_type": "code",
   "execution_count": 29,
   "metadata": {
    "ExecuteTime": {
     "end_time": "2021-06-29T18:49:42.726373Z",
     "start_time": "2021-06-29T18:49:42.687289Z"
    },
    "hidden": true
   },
   "outputs": [],
   "source": [
    "kwargs={\n",
    "    'symmetrize':symmetrize,\n",
    "    'density':density,\n",
    "    'bins':bins,\n",
    "    'alpha':0.4\n",
    "}\n",
    "\n",
    "x_values=np.linspace(0,2*np.pi,50)\n",
    "if density:\n",
    "    y0=1/(bins * np.pi)**0.5\n",
    "else:\n",
    "    y0=1/(bins)*angles.size"
   ]
  },
  {
   "cell_type": "code",
   "execution_count": 30,
   "metadata": {
    "ExecuteTime": {
     "end_time": "2021-06-29T18:49:44.208020Z",
     "start_time": "2021-06-29T18:49:44.175001Z"
    },
    "hidden": true
   },
   "outputs": [
    {
     "name": "stdout",
     "output_type": "stream",
     "text": [
      "the number of events considered is 12.\n"
     ]
    }
   ],
   "source": [
    "print(f\"the number of events considered is {anglesA.shape[0]}.\")"
   ]
  },
  {
   "cell_type": "code",
   "execution_count": 31,
   "metadata": {
    "ExecuteTime": {
     "end_time": "2021-06-29T18:49:51.103914Z",
     "start_time": "2021-06-29T18:49:51.081256Z"
    },
    "hidden": true
   },
   "outputs": [],
   "source": [
    "from lib.viewer import *"
   ]
  },
  {
   "cell_type": "code",
   "execution_count": 32,
   "metadata": {
    "ExecuteTime": {
     "end_time": "2021-06-29T18:49:52.051547Z",
     "start_time": "2021-06-29T18:49:51.426480Z"
    },
    "hidden": true
   },
   "outputs": [
    {
     "name": "stdout",
     "output_type": "stream",
     "text": [
      "model is luo-rudy\n",
      "considering angles at times (tC,tB,tA)=(-2.0, -0.2, -0.025) milliseconds.\n"
     ]
    },
    {
     "data": {
      "image/png": "[encoded data removed]",
      "text/plain": [
       "<Figure size 504x288 with 3 Axes>"
      ]
     },
     "metadata": {
      "needs_background": "light"
     },
     "output_type": "display_data"
    }
   ],
   "source": [
    "import matplotlib.pyplot as plt\n",
    "import numpy as np\n",
    "\n",
    "\n",
    "# Construct figure and axis to plot on\n",
    "figsize=(7,4)\n",
    "fig, axs = plt.subplots(ncols=3, subplot_kw=dict(projection='polar'),figsize=figsize)\n",
    "\n",
    "# Visualise by area of bins\n",
    "for i,angles,color in zip(ax_lst,angle_lst,color_lst):\n",
    "    circular_hist(axs[i], x=angles,color=color,edgecolor=color,**kwargs)\n",
    "    axs[i].plot(x_values,np.sqrt(2)*y0+0.*x_values,'k--',lw=2,alpha=0.7)\n",
    "    axs[i].set_ylim([0,3*y0])\n",
    "plt.tight_layout()\n",
    "print(f'model is {modelname}')\n",
    "print(f\"considering angles at times (tC,tB,tA)={(-tC,-tB,-tA)} milliseconds.\")\n",
    "# print(f\"considering angles at times (tC,tB,tA)={(tC,tB,tA)} milliseconds.\")\n",
    "plt.show()"
   ]
  },
  {
   "cell_type": "code",
   "execution_count": 33,
   "metadata": {
    "ExecuteTime": {
     "end_time": "2021-06-29T18:50:12.614242Z",
     "start_time": "2021-06-29T18:50:12.437100Z"
    },
    "hidden": true
   },
   "outputs": [],
   "source": [
    "#LR results for DT = 0.5 ms\n",
    "# modelname='luo-rudy'\n",
    "#annihilations aggregated\n",
    "# input_fn=\"/home/timothytyree/Documents/GitHub/care/notebooks/Data/initial-conditions-suite-3-LR/param_qu_tmax_30_Ko_5.4_diffCoef_0.0005_dt_0.5/annihilations_minr_1.0_mindur_20.0.csv\"\n",
    "# # #creations aggregated\n",
    "# input_fn=\"/home/timothytyree/Documents/GitHub/care/notebooks/Data/initial-conditions-suite-3-LR/param_qu_tmax_30_Ko_5.4_diffCoef_0.0005_dt_0.5/creations_minr_1.0_mindur_20.0.csv\"\n",
    "\n",
    "\n",
    "# #LR results for DT = 0.025 ms\n",
    "#annihilations aggregated\n",
    "# input_fn='/home/timothytyree/Documents/GitHub/care/notebooks/Data/initial-conditions-suite-3-LR/param_qu_tmax_30_Ko_5.4_diffCoef_0.0005_dt_0.025/annihilations_minr_1.0_mindur_20.0.csv'\n",
    "# # #creations aggregated\n",
    "input_fn='/home/timothytyree/Documents/GitHub/care/notebooks/Data/initial-conditions-suite-3-LR/param_qu_tmax_30_Ko_5.4_diffCoef_0.0005_dt_0.025/creations_minr_1.0_mindur_20.0.csv'\n",
    "\n",
    "\n",
    "# #FK results for DT = 0.4 ms\n",
    "# #annihilations aggregated\n",
    "# input_fn=\"/home/timothytyree/Documents/GitHub/care/notebooks/Data/initial-conditions-fk-200x200/param_set_8_ds_5.0_tmax_10_diffCoef_0.0005/annihilations_minr_1.0_mindur_20.0.csv\"\n",
    "# # #creations aggregated\n",
    "# input_fn=\"/home/timothytyree/Documents/GitHub/care/notebooks/Data/initial-conditions-fk-200x200/param_set_8_ds_5.0_tmax_10_diffCoef_0.0005/creations_minr_1.0_mindur_20.0.csv\"\n",
    "\n",
    "# input_fn=search_for_file()\n",
    "# input_fn=\"/home/timothytyree/Documents/GitHub/care/notebooks/Data/initial-conditions-suite-3-LR/param_qu_tmax_30_Ko_3.8_diffCoef_0.0005/annihilations/ic001.21_traj_sr_600_mem_0_annihilations.csv\"\n",
    "df=pd.read_csv(input_fn)\n",
    "# df.head()"
   ]
  },
  {
   "cell_type": "code",
   "execution_count": 34,
   "metadata": {
    "ExecuteTime": {
     "end_time": "2021-06-29T18:50:13.319210Z",
     "start_time": "2021-06-29T18:50:13.264674Z"
    },
    "hidden": true
   },
   "outputs": [
    {
     "name": "stdout",
     "output_type": "stream",
     "text": [
      "considering angles at times (tA,tB,tC)=(0.025, 0.2, 2.0) milliseconds.\n"
     ]
    }
   ],
   "source": [
    "#slice df to a given tbirth\n",
    "t_values=sorted(set(df.tbirth.values))\n",
    "\n",
    "# #FK\n",
    "# tA=t_values[0]#.4\n",
    "# tB=t_values[9]#4.\n",
    "# tC=t_values[49]#20.\n",
    "#LR\n",
    "tA=t_values[0]\n",
    "tB=t_values[7]\n",
    "tC=t_values[79]#15]#39]\n",
    "\n",
    "print(f\"considering angles at times (tA,tB,tC)={(tA,tB,tC)} milliseconds.\")\n",
    "\n",
    "anglesA=df[df.tbirth==tA].theta.values\n",
    "anglesB=df[df.tbirth==tB].theta.values\n",
    "anglesC=df[df.tbirth==tC].theta.values\n",
    "\n",
    "ax_lst=[0,1,2]\n",
    "color_lst=[c,c,c]\n",
    "# color_lst=['C0','C1','C2']\n",
    "angle_lst=[anglesA,anglesB,anglesC]"
   ]
  },
  {
   "cell_type": "code",
   "execution_count": 35,
   "metadata": {
    "ExecuteTime": {
     "end_time": "2021-06-29T18:50:16.592674Z",
     "start_time": "2021-06-29T18:50:16.568039Z"
    },
    "hidden": true
   },
   "outputs": [],
   "source": [
    "kwargs={\n",
    "    'symmetrize':symmetrize,\n",
    "    'density':density,\n",
    "    'bins':bins,\n",
    "    'alpha':0.4\n",
    "}\n",
    "\n",
    "x_values=np.linspace(0,2*np.pi,50)\n",
    "if density:\n",
    "    y0=1/(bins * np.pi)**0.5\n",
    "else:\n",
    "    y0=1/(bins)*angles.size"
   ]
  },
  {
   "cell_type": "code",
   "execution_count": 36,
   "metadata": {
    "ExecuteTime": {
     "end_time": "2021-06-29T18:50:17.911336Z",
     "start_time": "2021-06-29T18:50:17.889182Z"
    },
    "hidden": true
   },
   "outputs": [
    {
     "name": "stdout",
     "output_type": "stream",
     "text": [
      "the number of events considered is 114.\n"
     ]
    }
   ],
   "source": [
    "print(f\"the number of events considered is {anglesA.shape[0]}.\")"
   ]
  },
  {
   "cell_type": "code",
   "execution_count": 37,
   "metadata": {
    "ExecuteTime": {
     "end_time": "2021-06-29T18:50:19.210679Z",
     "start_time": "2021-06-29T18:50:18.631711Z"
    },
    "hidden": true
   },
   "outputs": [
    {
     "name": "stdout",
     "output_type": "stream",
     "text": [
      "model is luo-rudy\n",
      "considering angles at times (tA,tB,tC)=(0.025, 0.2, 2.0) milliseconds.\n"
     ]
    },
    {
     "data": {
      "image/png": "[encoded data removed]",
      "text/plain": [
       "<Figure size 504x288 with 3 Axes>"
      ]
     },
     "metadata": {
      "needs_background": "light"
     },
     "output_type": "display_data"
    }
   ],
   "source": [
    "figsize=(7,4)\n",
    "fig, axs = plt.subplots(ncols=3, subplot_kw=dict(projection='polar'),figsize=figsize)\n",
    "\n",
    "# Visualise by area of bins\n",
    "for i,angles,color in zip(ax_lst,angle_lst,color_lst):\n",
    "    circular_hist(axs[i], x=angles,color=color,edgecolor=color,**kwargs)\n",
    "    axs[i].plot(x_values,np.sqrt(2)*y0+0.*x_values,'k--',lw=2,alpha=0.7)\n",
    "    axs[i].set_ylim([0,2*y0])\n",
    "plt.tight_layout()\n",
    "print(f'model is {modelname}')\n",
    "print(f\"considering angles at times (tA,tB,tC)={(tA,tB,tC)} milliseconds.\")\n",
    "plt.show()"
   ]
  },
  {
   "cell_type": "markdown",
   "metadata": {
    "heading_collapsed": true
   },
   "source": [
    "## Fenton-Karma"
   ]
  },
  {
   "cell_type": "code",
   "execution_count": 19,
   "metadata": {
    "ExecuteTime": {
     "end_time": "2021-06-26T03:19:07.025471Z",
     "start_time": "2021-06-26T03:19:04.962017Z"
    },
    "hidden": true
   },
   "outputs": [
    {
     "data": {
      "text/html": [
       "<div>\n",
       "<style scoped>\n",
       "    .dataframe tbody tr th:only-of-type {\n",
       "        vertical-align: middle;\n",
       "    }\n",
       "\n",
       "    .dataframe tbody tr th {\n",
       "        vertical-align: top;\n",
       "    }\n",
       "\n",
       "    .dataframe thead th {\n",
       "        text-align: right;\n",
       "    }\n",
       "</style>\n",
       "<table border=\"1\" class=\"dataframe\">\n",
       "  <thead>\n",
       "    <tr style=\"text-align: right;\">\n",
       "      <th></th>\n",
       "      <th>pid</th>\n",
       "      <th>pid_deathmate</th>\n",
       "      <th>tdeath</th>\n",
       "      <th>phi1</th>\n",
       "      <th>phi2</th>\n",
       "      <th>phi_sum</th>\n",
       "      <th>phi_diff</th>\n",
       "      <th>r</th>\n",
       "      <th>theta</th>\n",
       "    </tr>\n",
       "  </thead>\n",
       "  <tbody>\n",
       "    <tr>\n",
       "      <th>0</th>\n",
       "      <td>188</td>\n",
       "      <td>180</td>\n",
       "      <td>977.2</td>\n",
       "      <td>0.564566</td>\n",
       "      <td>1.037962</td>\n",
       "      <td>1.602528</td>\n",
       "      <td>0.473396</td>\n",
       "      <td>2.325075</td>\n",
       "      <td>0.574307</td>\n",
       "    </tr>\n",
       "    <tr>\n",
       "      <th>1</th>\n",
       "      <td>188</td>\n",
       "      <td>180</td>\n",
       "      <td>976.8</td>\n",
       "      <td>0.559048</td>\n",
       "      <td>1.012956</td>\n",
       "      <td>1.572005</td>\n",
       "      <td>0.453908</td>\n",
       "      <td>2.305453</td>\n",
       "      <td>0.565974</td>\n",
       "    </tr>\n",
       "    <tr>\n",
       "      <th>2</th>\n",
       "      <td>188</td>\n",
       "      <td>180</td>\n",
       "      <td>976.4</td>\n",
       "      <td>0.555315</td>\n",
       "      <td>0.989428</td>\n",
       "      <td>1.544743</td>\n",
       "      <td>0.434113</td>\n",
       "      <td>2.289216</td>\n",
       "      <td>0.561129</td>\n",
       "    </tr>\n",
       "    <tr>\n",
       "      <th>3</th>\n",
       "      <td>188</td>\n",
       "      <td>180</td>\n",
       "      <td>976.0</td>\n",
       "      <td>0.554263</td>\n",
       "      <td>0.967040</td>\n",
       "      <td>1.521302</td>\n",
       "      <td>0.412777</td>\n",
       "      <td>2.275170</td>\n",
       "      <td>0.557397</td>\n",
       "    </tr>\n",
       "    <tr>\n",
       "      <th>4</th>\n",
       "      <td>188</td>\n",
       "      <td>180</td>\n",
       "      <td>975.6</td>\n",
       "      <td>0.551317</td>\n",
       "      <td>0.945882</td>\n",
       "      <td>1.497200</td>\n",
       "      <td>0.394565</td>\n",
       "      <td>2.263316</td>\n",
       "      <td>0.555014</td>\n",
       "    </tr>\n",
       "  </tbody>\n",
       "</table>\n",
       "</div>"
      ],
      "text/plain": [
       "   pid  pid_deathmate  tdeath      phi1      phi2   phi_sum  phi_diff  \\\n",
       "0  188            180   977.2  0.564566  1.037962  1.602528  0.473396   \n",
       "1  188            180   976.8  0.559048  1.012956  1.572005  0.453908   \n",
       "2  188            180   976.4  0.555315  0.989428  1.544743  0.434113   \n",
       "3  188            180   976.0  0.554263  0.967040  1.521302  0.412777   \n",
       "4  188            180   975.6  0.551317  0.945882  1.497200  0.394565   \n",
       "\n",
       "          r     theta  \n",
       "0  2.325075  0.574307  \n",
       "1  2.305453  0.565974  \n",
       "2  2.289216  0.561129  \n",
       "3  2.275170  0.557397  \n",
       "4  2.263316  0.555014  "
      ]
     },
     "execution_count": 19,
     "metadata": {},
     "output_type": "execute_result"
    }
   ],
   "source": [
    "#LR results for DT = 0.5 ms\n",
    "modelname='fenton-karma'\n",
    "#annihilations aggregated\n",
    "# input_fn=\"/home/timothytyree/Documents/GitHub/care/notebooks/Data/initial-conditions-suite-3-LR/param_qu_tmax_30_Ko_5.4_diffCoef_0.0005_dt_0.5/annihilations_minr_1.0_mindur_20.0.csv\"\n",
    "# # #creations aggregated\n",
    "# input_fn=\"/home/timothytyree/Documents/GitHub/care/notebooks/Data/initial-conditions-suite-3-LR/param_qu_tmax_30_Ko_5.4_diffCoef_0.0005_dt_0.5/creations_minr_1.0_mindur_20.0.csv\"\n",
    "\n",
    "# #FK results for DT = 0.4 ms\n",
    "# #annihilations aggregated\n",
    "input_fn=\"/home/timothytyree/Documents/GitHub/care/notebooks/Data/initial-conditions-fk-200x200/param_set_8_ds_5.0_tmax_10_diffCoef_0.0005/annihilations_minr_1.0_mindur_20.0.csv\"\n",
    "# # #creations aggregated\n",
    "# input_fn=\"/home/timothytyree/Documents/GitHub/care/notebooks/Data/initial-conditions-fk-200x200/param_set_8_ds_5.0_tmax_10_diffCoef_0.0005/creations_minr_1.0_mindur_20.0.csv\"\n",
    "\n",
    "# input_fn=search_for_file()\n",
    "# input_fn=\"/home/timothytyree/Documents/GitHub/care/notebooks/Data/initial-conditions-suite-3-LR/param_qu_tmax_30_Ko_3.8_diffCoef_0.0005/annihilations/ic001.21_traj_sr_600_mem_0_annihilations.csv\"\n",
    "df=pd.read_csv(input_fn)\n",
    "df.head()"
   ]
  },
  {
   "cell_type": "code",
   "execution_count": 20,
   "metadata": {
    "ExecuteTime": {
     "end_time": "2021-06-26T03:19:07.308481Z",
     "start_time": "2021-06-26T03:19:07.026885Z"
    },
    "hidden": true
   },
   "outputs": [
    {
     "name": "stdout",
     "output_type": "stream",
     "text": [
      "considering angles at times (tA,tB,tC)=(0.4, 4.0, 40.0) milliseconds.\n"
     ]
    }
   ],
   "source": [
    "#slice df to a given tdeath\n",
    "t_values=sorted(set(df.tdeath.values))\n",
    "# t_values=sorted(set(df.tbirth.values))\n",
    "\n",
    "# #FK\n",
    "tA=t_values[0]#.4\n",
    "tB=t_values[9]#4.\n",
    "tC=t_values[99]#49]#20.\n",
    "# #LR\n",
    "# tA=t_values[0]\n",
    "# tB=t_values[7]\n",
    "# tC=t_values[79]#15]#39]\n",
    "\n",
    "print(f\"considering angles at times (tA,tB,tC)={(tA,tB,tC)} milliseconds.\")\n",
    "\n",
    "anglesA=df[df.tdeath==tA].theta.values\n",
    "anglesB=df[df.tdeath==tB].theta.values\n",
    "anglesC=df[df.tdeath==tC].theta.values\n",
    "\n",
    "# anglesA=df[df.tbirth==tA].theta.values\n",
    "# anglesB=df[df.tbirth==tB].theta.values\n",
    "# anglesC=df[df.tbirth==tC].theta.values\n",
    "\n",
    "\n",
    "ax_lst=[2,1,0]\n",
    "c='C0'\n",
    "color_lst=[c,c,c]\n",
    "# color_lst=['C0','C1','C2']\n",
    "angle_lst=[anglesA,anglesB,anglesC]"
   ]
  },
  {
   "cell_type": "code",
   "execution_count": 21,
   "metadata": {
    "ExecuteTime": {
     "end_time": "2021-06-26T03:19:07.324645Z",
     "start_time": "2021-06-26T03:19:07.310959Z"
    },
    "hidden": true
   },
   "outputs": [],
   "source": [
    "#angular histogram viewer from optical_flow\n",
    "# the area of each bin is proportional to the number of observations in it,\n",
    "bins=4*4\n",
    "symmetrize=False\n",
    "density=True"
   ]
  },
  {
   "cell_type": "code",
   "execution_count": 22,
   "metadata": {
    "ExecuteTime": {
     "end_time": "2021-06-26T03:19:07.340881Z",
     "start_time": "2021-06-26T03:19:07.326150Z"
    },
    "hidden": true
   },
   "outputs": [],
   "source": [
    "kwargs={\n",
    "    'symmetrize':symmetrize,\n",
    "    'density':density,\n",
    "    'bins':bins,\n",
    "    'alpha':0.4\n",
    "}\n",
    "\n",
    "x_values=np.linspace(0,2*np.pi,50)\n",
    "if density:\n",
    "    y0=1/(bins * np.pi)**0.5\n",
    "else:\n",
    "    y0=1/(bins)*angles.size"
   ]
  },
  {
   "cell_type": "code",
   "execution_count": 23,
   "metadata": {
    "ExecuteTime": {
     "end_time": "2021-06-26T03:19:07.356441Z",
     "start_time": "2021-06-26T03:19:07.341925Z"
    },
    "hidden": true
   },
   "outputs": [
    {
     "name": "stdout",
     "output_type": "stream",
     "text": [
      "the number of events considered is 3010.\n"
     ]
    }
   ],
   "source": [
    "print(f\"the number of events considered is {anglesA.shape[0]}.\")"
   ]
  },
  {
   "cell_type": "code",
   "execution_count": 24,
   "metadata": {
    "ExecuteTime": {
     "end_time": "2021-06-26T03:19:07.386574Z",
     "start_time": "2021-06-26T03:19:07.357532Z"
    },
    "hidden": true
   },
   "outputs": [],
   "source": [
    "from lib.viewer import *"
   ]
  },
  {
   "cell_type": "code",
   "execution_count": 25,
   "metadata": {
    "ExecuteTime": {
     "end_time": "2021-06-26T03:19:07.832872Z",
     "start_time": "2021-06-26T03:19:07.388066Z"
    },
    "hidden": true
   },
   "outputs": [
    {
     "name": "stdout",
     "output_type": "stream",
     "text": [
      "model is fenton-karma\n",
      "considering angles at times (tC,tB,tA)=(-40.0, -4.0, -0.4) milliseconds.\n"
     ]
    },
    {
     "data": {
      "image/png": "[encoded data removed]",
      "text/plain": [
       "<Figure size 504x288 with 3 Axes>"
      ]
     },
     "metadata": {
      "needs_background": "light"
     },
     "output_type": "display_data"
    }
   ],
   "source": [
    "import matplotlib.pyplot as plt\n",
    "import numpy as np\n",
    "\n",
    "\n",
    "# Construct figure and axis to plot on\n",
    "figsize=(7,4)\n",
    "fig, axs = plt.subplots(ncols=3, subplot_kw=dict(projection='polar'),figsize=figsize)\n",
    "\n",
    "# Visualise by area of bins\n",
    "for i,angles,color in zip(ax_lst,angle_lst,color_lst):\n",
    "    circular_hist(axs[i], x=angles,color=color,edgecolor=color,**kwargs)\n",
    "    axs[i].plot(x_values,np.sqrt(2)*y0+0.*x_values,'k--',lw=2,alpha=0.7)\n",
    "    axs[i].set_ylim([0,2*y0])\n",
    "plt.tight_layout()\n",
    "print(f'model is {modelname}')\n",
    "print(f\"considering angles at times (tC,tB,tA)={(-tC,-tB,-tA)} milliseconds.\")\n",
    "# print(f\"considering angles at times (tC,tB,tA)={(tC,tB,tA)} milliseconds.\")\n",
    "plt.show()"
   ]
  },
  {
   "cell_type": "code",
   "execution_count": 26,
   "metadata": {
    "ExecuteTime": {
     "end_time": "2021-06-26T03:19:09.610767Z",
     "start_time": "2021-06-26T03:19:07.834238Z"
    },
    "hidden": true
   },
   "outputs": [],
   "source": [
    "#LR results for DT = 0.5 ms\n",
    "# modelname='luo-rudy'\n",
    "#annihilations aggregated\n",
    "# input_fn=\"/home/timothytyree/Documents/GitHub/care/notebooks/Data/initial-conditions-suite-3-LR/param_qu_tmax_30_Ko_5.4_diffCoef_0.0005_dt_0.5/annihilations_minr_1.0_mindur_20.0.csv\"\n",
    "# # #creations aggregated\n",
    "# input_fn=\"/home/timothytyree/Documents/GitHub/care/notebooks/Data/initial-conditions-suite-3-LR/param_qu_tmax_30_Ko_5.4_diffCoef_0.0005_dt_0.5/creations_minr_1.0_mindur_20.0.csv\"\n",
    "\n",
    "# #FK results for DT = 0.4 ms\n",
    "# #annihilations aggregated\n",
    "# input_fn=\"/home/timothytyree/Documents/GitHub/care/notebooks/Data/initial-conditions-fk-200x200/param_set_8_ds_5.0_tmax_10_diffCoef_0.0005/annihilations_minr_1.0_mindur_20.0.csv\"\n",
    "# # #creations aggregated\n",
    "input_fn=\"/home/timothytyree/Documents/GitHub/care/notebooks/Data/initial-conditions-fk-200x200/param_set_8_ds_5.0_tmax_10_diffCoef_0.0005/creations_minr_1.0_mindur_20.0.csv\"\n",
    "\n",
    "# input_fn=search_for_file()\n",
    "# input_fn=\"/home/timothytyree/Documents/GitHub/care/notebooks/Data/initial-conditions-suite-3-LR/param_qu_tmax_30_Ko_3.8_diffCoef_0.0005/annihilations/ic001.21_traj_sr_600_mem_0_annihilations.csv\"\n",
    "df=pd.read_csv(input_fn)\n",
    "# df.head()"
   ]
  },
  {
   "cell_type": "code",
   "execution_count": 27,
   "metadata": {
    "ExecuteTime": {
     "end_time": "2021-06-26T03:19:10.085408Z",
     "start_time": "2021-06-26T03:19:09.611817Z"
    },
    "hidden": true
   },
   "outputs": [
    {
     "name": "stdout",
     "output_type": "stream",
     "text": [
      "considering angles at times (tA,tB,tC)=(0.4, 4.0, 40.0) milliseconds.\n"
     ]
    }
   ],
   "source": [
    "#slice df to a given tbirth\n",
    "t_values=sorted(set(df.tbirth.values))\n",
    "\n",
    "# #FK\n",
    "# tA=t_values[0]#.4\n",
    "# tB=t_values[9]#4.\n",
    "# tC=t_values[49]#20.\n",
    "# #LR\n",
    "# tA=t_values[0]\n",
    "# tB=t_values[7]\n",
    "# tC=t_values[79]#15]#39]\n",
    "\n",
    "print(f\"considering angles at times (tA,tB,tC)={(tA,tB,tC)} milliseconds.\")\n",
    "\n",
    "anglesA=df[df.tbirth==tA].theta.values\n",
    "anglesB=df[df.tbirth==tB].theta.values\n",
    "anglesC=df[df.tbirth==tC].theta.values\n",
    "\n",
    "ax_lst=[0,1,2]\n",
    "color_lst=[c,c,c]\n",
    "# color_lst=['C0','C1','C2']\n",
    "angle_lst=[anglesA,anglesB,anglesC]"
   ]
  },
  {
   "cell_type": "code",
   "execution_count": 28,
   "metadata": {
    "ExecuteTime": {
     "end_time": "2021-06-26T03:19:10.101706Z",
     "start_time": "2021-06-26T03:19:10.086298Z"
    },
    "hidden": true
   },
   "outputs": [],
   "source": [
    "kwargs={\n",
    "    'symmetrize':symmetrize,\n",
    "    'density':density,\n",
    "    'bins':bins,\n",
    "    'alpha':0.4\n",
    "}\n",
    "\n",
    "x_values=np.linspace(0,2*np.pi,50)\n",
    "if density:\n",
    "    y0=1/(bins * np.pi)**0.5\n",
    "else:\n",
    "    y0=1/(bins)*angles.size"
   ]
  },
  {
   "cell_type": "code",
   "execution_count": 29,
   "metadata": {
    "ExecuteTime": {
     "end_time": "2021-06-26T03:19:10.119110Z",
     "start_time": "2021-06-26T03:19:10.103036Z"
    },
    "hidden": true
   },
   "outputs": [
    {
     "name": "stdout",
     "output_type": "stream",
     "text": [
      "the number of events considered is 7866.\n"
     ]
    }
   ],
   "source": [
    "print(f\"the number of events considered is {anglesA.shape[0]}.\")"
   ]
  },
  {
   "cell_type": "code",
   "execution_count": 30,
   "metadata": {
    "ExecuteTime": {
     "end_time": "2021-06-26T03:19:10.535848Z",
     "start_time": "2021-06-26T03:19:10.120212Z"
    },
    "hidden": true
   },
   "outputs": [
    {
     "name": "stdout",
     "output_type": "stream",
     "text": [
      "model is fenton-karma\n",
      "considering angles at times (tA,tB,tC)=(0.4, 4.0, 40.0) milliseconds.\n"
     ]
    },
    {
     "data": {
      "image/png": "[encoded data removed]",
      "text/plain": [
       "<Figure size 504x288 with 3 Axes>"
      ]
     },
     "metadata": {
      "needs_background": "light"
     },
     "output_type": "display_data"
    }
   ],
   "source": [
    "figsize=(7,4)\n",
    "fig, axs = plt.subplots(ncols=3, subplot_kw=dict(projection='polar'),figsize=figsize)\n",
    "\n",
    "# Visualise by area of bins\n",
    "for i,angles,color in zip(ax_lst,angle_lst,color_lst):\n",
    "    circular_hist(axs[i], x=angles,color=color,edgecolor=color,**kwargs)\n",
    "    axs[i].plot(x_values,np.sqrt(2)*y0+0.*x_values,'k--',lw=2,alpha=0.7)\n",
    "    axs[i].set_ylim([0,2*y0])\n",
    "plt.tight_layout()\n",
    "print(f'model is {modelname}')\n",
    "print(f\"considering angles at times (tA,tB,tC)={(tA,tB,tC)} milliseconds.\")\n",
    "plt.show()"
   ]
  },
  {
   "cell_type": "markdown",
   "metadata": {},
   "source": [
    "# overlay angular histograms for theLuo-Rudy and Fenton-Karma models."
   ]
  },
  {
   "cell_type": "markdown",
   "metadata": {},
   "source": [
    "### for annihilations"
   ]
  },
  {
   "cell_type": "code",
   "execution_count": 31,
   "metadata": {
    "ExecuteTime": {
     "end_time": "2021-06-26T03:19:10.550136Z",
     "start_time": "2021-06-26T03:19:10.536883Z"
    }
   },
   "outputs": [],
   "source": [
    "#DONE: verified that fenton-karma is blue\n",
    "#DONE: get all annihilation angles in one place\n",
    "#DONE: overlay\n",
    "#DONE: get all annihilation angles in one place\n",
    "#DONE: overlay"
   ]
  },
  {
   "cell_type": "code",
   "execution_count": 11,
   "metadata": {
    "ExecuteTime": {
     "end_time": "2021-07-06T16:32:36.721359Z",
     "start_time": "2021-07-06T16:32:34.766507Z"
    }
   },
   "outputs": [
    {
     "ename": "FileNotFoundError",
     "evalue": "[Errno 2] No such file or directory: '/home/timothytyree/Documents/GitHub/care/notebooks/Data/initial-conditions-suite-3-LR/param_qu_tmax_30_Ko_5.4_diffCoef_0.0005_dt_0.025/annihilations_minr_1.0_mindur_20.0.csv'",
     "output_type": "error",
     "traceback": [
      "\u001b[0;31m-------------------------------------------------\u001b[0m",
      "\u001b[0;31mFileNotFoundError\u001b[0mTraceback (most recent call last)",
      "\u001b[0;32m<ipython-input-11-5a96f79ae7c3>\u001b[0m in \u001b[0;36m<module>\u001b[0;34m\u001b[0m\n\u001b[1;32m     16\u001b[0m \u001b[0;31m# input_fn='/home/timothytyree/Documents/GitHub/care/notebooks/Data/initial-conditions-suite-3-LR/param_qu_tmax_30_Ko_5.4_diffCoef_0.0005_dt_0.025/creations_minr_1.0_mindur_20.0.csv'\u001b[0m\u001b[0;34m\u001b[0m\u001b[0;34m\u001b[0m\u001b[0;34m\u001b[0m\u001b[0m\n\u001b[1;32m     17\u001b[0m \u001b[0;34m\u001b[0m\u001b[0m\n\u001b[0;32m---> 18\u001b[0;31m \u001b[0mdf_lr\u001b[0m\u001b[0;34m=\u001b[0m\u001b[0mpd\u001b[0m\u001b[0;34m.\u001b[0m\u001b[0mread_csv\u001b[0m\u001b[0;34m(\u001b[0m\u001b[0minput_fn\u001b[0m\u001b[0;34m)\u001b[0m\u001b[0;34m\u001b[0m\u001b[0;34m\u001b[0m\u001b[0m\n\u001b[0m\u001b[1;32m     19\u001b[0m \u001b[0;31m# #FK results for DT = 0.4 ms\u001b[0m\u001b[0;34m\u001b[0m\u001b[0;34m\u001b[0m\u001b[0;34m\u001b[0m\u001b[0m\n\u001b[1;32m     20\u001b[0m \u001b[0;31m# #annihilations aggregated\u001b[0m\u001b[0;34m\u001b[0m\u001b[0;34m\u001b[0m\u001b[0;34m\u001b[0m\u001b[0m\n",
      "\u001b[0;32m/usr/local/lib/python3.8/site-packages/pandas/io/parsers.py\u001b[0m in \u001b[0;36mread_csv\u001b[0;34m(filepath_or_buffer, sep, delimiter, header, names, index_col, usecols, squeeze, prefix, mangle_dupe_cols, dtype, engine, converters, true_values, false_values, skipinitialspace, skiprows, skipfooter, nrows, na_values, keep_default_na, na_filter, verbose, skip_blank_lines, parse_dates, infer_datetime_format, keep_date_col, date_parser, dayfirst, cache_dates, iterator, chunksize, compression, thousands, decimal, lineterminator, quotechar, quoting, doublequote, escapechar, comment, encoding, dialect, error_bad_lines, warn_bad_lines, delim_whitespace, low_memory, memory_map, float_precision)\u001b[0m\n\u001b[1;32m    684\u001b[0m     )\n\u001b[1;32m    685\u001b[0m \u001b[0;34m\u001b[0m\u001b[0m\n\u001b[0;32m--> 686\u001b[0;31m     \u001b[0;32mreturn\u001b[0m \u001b[0m_read\u001b[0m\u001b[0;34m(\u001b[0m\u001b[0mfilepath_or_buffer\u001b[0m\u001b[0;34m,\u001b[0m \u001b[0mkwds\u001b[0m\u001b[0;34m)\u001b[0m\u001b[0;34m\u001b[0m\u001b[0;34m\u001b[0m\u001b[0m\n\u001b[0m\u001b[1;32m    687\u001b[0m \u001b[0;34m\u001b[0m\u001b[0m\n\u001b[1;32m    688\u001b[0m \u001b[0;34m\u001b[0m\u001b[0m\n",
      "\u001b[0;32m/usr/local/lib/python3.8/site-packages/pandas/io/parsers.py\u001b[0m in \u001b[0;36m_read\u001b[0;34m(filepath_or_buffer, kwds)\u001b[0m\n\u001b[1;32m    450\u001b[0m \u001b[0;34m\u001b[0m\u001b[0m\n\u001b[1;32m    451\u001b[0m     \u001b[0;31m# Create the parser.\u001b[0m\u001b[0;34m\u001b[0m\u001b[0;34m\u001b[0m\u001b[0;34m\u001b[0m\u001b[0m\n\u001b[0;32m--> 452\u001b[0;31m     \u001b[0mparser\u001b[0m \u001b[0;34m=\u001b[0m \u001b[0mTextFileReader\u001b[0m\u001b[0;34m(\u001b[0m\u001b[0mfp_or_buf\u001b[0m\u001b[0;34m,\u001b[0m \u001b[0;34m**\u001b[0m\u001b[0mkwds\u001b[0m\u001b[0;34m)\u001b[0m\u001b[0;34m\u001b[0m\u001b[0;34m\u001b[0m\u001b[0m\n\u001b[0m\u001b[1;32m    453\u001b[0m \u001b[0;34m\u001b[0m\u001b[0m\n\u001b[1;32m    454\u001b[0m     \u001b[0;32mif\u001b[0m \u001b[0mchunksize\u001b[0m \u001b[0;32mor\u001b[0m \u001b[0miterator\u001b[0m\u001b[0;34m:\u001b[0m\u001b[0;34m\u001b[0m\u001b[0;34m\u001b[0m\u001b[0m\n",
      "\u001b[0;32m/usr/local/lib/python3.8/site-packages/pandas/io/parsers.py\u001b[0m in \u001b[0;36m__init__\u001b[0;34m(self, f, engine, **kwds)\u001b[0m\n\u001b[1;32m    934\u001b[0m             \u001b[0mself\u001b[0m\u001b[0;34m.\u001b[0m\u001b[0moptions\u001b[0m\u001b[0;34m[\u001b[0m\u001b[0;34m\"has_index_names\"\u001b[0m\u001b[0;34m]\u001b[0m \u001b[0;34m=\u001b[0m \u001b[0mkwds\u001b[0m\u001b[0;34m[\u001b[0m\u001b[0;34m\"has_index_names\"\u001b[0m\u001b[0;34m]\u001b[0m\u001b[0;34m\u001b[0m\u001b[0;34m\u001b[0m\u001b[0m\n\u001b[1;32m    935\u001b[0m \u001b[0;34m\u001b[0m\u001b[0m\n\u001b[0;32m--> 936\u001b[0;31m         \u001b[0mself\u001b[0m\u001b[0;34m.\u001b[0m\u001b[0m_make_engine\u001b[0m\u001b[0;34m(\u001b[0m\u001b[0mself\u001b[0m\u001b[0;34m.\u001b[0m\u001b[0mengine\u001b[0m\u001b[0;34m)\u001b[0m\u001b[0;34m\u001b[0m\u001b[0;34m\u001b[0m\u001b[0m\n\u001b[0m\u001b[1;32m    937\u001b[0m \u001b[0;34m\u001b[0m\u001b[0m\n\u001b[1;32m    938\u001b[0m     \u001b[0;32mdef\u001b[0m \u001b[0mclose\u001b[0m\u001b[0;34m(\u001b[0m\u001b[0mself\u001b[0m\u001b[0;34m)\u001b[0m\u001b[0;34m:\u001b[0m\u001b[0;34m\u001b[0m\u001b[0;34m\u001b[0m\u001b[0m\n",
      "\u001b[0;32m/usr/local/lib/python3.8/site-packages/pandas/io/parsers.py\u001b[0m in \u001b[0;36m_make_engine\u001b[0;34m(self, engine)\u001b[0m\n\u001b[1;32m   1166\u001b[0m     \u001b[0;32mdef\u001b[0m \u001b[0m_make_engine\u001b[0m\u001b[0;34m(\u001b[0m\u001b[0mself\u001b[0m\u001b[0;34m,\u001b[0m \u001b[0mengine\u001b[0m\u001b[0;34m=\u001b[0m\u001b[0;34m\"c\"\u001b[0m\u001b[0;34m)\u001b[0m\u001b[0;34m:\u001b[0m\u001b[0;34m\u001b[0m\u001b[0;34m\u001b[0m\u001b[0m\n\u001b[1;32m   1167\u001b[0m         \u001b[0;32mif\u001b[0m \u001b[0mengine\u001b[0m \u001b[0;34m==\u001b[0m \u001b[0;34m\"c\"\u001b[0m\u001b[0;34m:\u001b[0m\u001b[0;34m\u001b[0m\u001b[0;34m\u001b[0m\u001b[0m\n\u001b[0;32m-> 1168\u001b[0;31m             \u001b[0mself\u001b[0m\u001b[0;34m.\u001b[0m\u001b[0m_engine\u001b[0m \u001b[0;34m=\u001b[0m \u001b[0mCParserWrapper\u001b[0m\u001b[0;34m(\u001b[0m\u001b[0mself\u001b[0m\u001b[0;34m.\u001b[0m\u001b[0mf\u001b[0m\u001b[0;34m,\u001b[0m \u001b[0;34m**\u001b[0m\u001b[0mself\u001b[0m\u001b[0;34m.\u001b[0m\u001b[0moptions\u001b[0m\u001b[0;34m)\u001b[0m\u001b[0;34m\u001b[0m\u001b[0;34m\u001b[0m\u001b[0m\n\u001b[0m\u001b[1;32m   1169\u001b[0m         \u001b[0;32melse\u001b[0m\u001b[0;34m:\u001b[0m\u001b[0;34m\u001b[0m\u001b[0;34m\u001b[0m\u001b[0m\n\u001b[1;32m   1170\u001b[0m             \u001b[0;32mif\u001b[0m \u001b[0mengine\u001b[0m \u001b[0;34m==\u001b[0m \u001b[0;34m\"python\"\u001b[0m\u001b[0;34m:\u001b[0m\u001b[0;34m\u001b[0m\u001b[0;34m\u001b[0m\u001b[0m\n",
      "\u001b[0;32m/usr/local/lib/python3.8/site-packages/pandas/io/parsers.py\u001b[0m in \u001b[0;36m__init__\u001b[0;34m(self, src, **kwds)\u001b[0m\n\u001b[1;32m   1996\u001b[0m         \u001b[0mkwds\u001b[0m\u001b[0;34m[\u001b[0m\u001b[0;34m\"usecols\"\u001b[0m\u001b[0;34m]\u001b[0m \u001b[0;34m=\u001b[0m \u001b[0mself\u001b[0m\u001b[0;34m.\u001b[0m\u001b[0musecols\u001b[0m\u001b[0;34m\u001b[0m\u001b[0;34m\u001b[0m\u001b[0m\n\u001b[1;32m   1997\u001b[0m \u001b[0;34m\u001b[0m\u001b[0m\n\u001b[0;32m-> 1998\u001b[0;31m         \u001b[0mself\u001b[0m\u001b[0;34m.\u001b[0m\u001b[0m_reader\u001b[0m \u001b[0;34m=\u001b[0m \u001b[0mparsers\u001b[0m\u001b[0;34m.\u001b[0m\u001b[0mTextReader\u001b[0m\u001b[0;34m(\u001b[0m\u001b[0msrc\u001b[0m\u001b[0;34m,\u001b[0m \u001b[0;34m**\u001b[0m\u001b[0mkwds\u001b[0m\u001b[0;34m)\u001b[0m\u001b[0;34m\u001b[0m\u001b[0;34m\u001b[0m\u001b[0m\n\u001b[0m\u001b[1;32m   1999\u001b[0m         \u001b[0mself\u001b[0m\u001b[0;34m.\u001b[0m\u001b[0munnamed_cols\u001b[0m \u001b[0;34m=\u001b[0m \u001b[0mself\u001b[0m\u001b[0;34m.\u001b[0m\u001b[0m_reader\u001b[0m\u001b[0;34m.\u001b[0m\u001b[0munnamed_cols\u001b[0m\u001b[0;34m\u001b[0m\u001b[0;34m\u001b[0m\u001b[0m\n\u001b[1;32m   2000\u001b[0m \u001b[0;34m\u001b[0m\u001b[0m\n",
      "\u001b[0;32mpandas/_libs/parsers.pyx\u001b[0m in \u001b[0;36mpandas._libs.parsers.TextReader.__cinit__\u001b[0;34m()\u001b[0m\n",
      "\u001b[0;32mpandas/_libs/parsers.pyx\u001b[0m in \u001b[0;36mpandas._libs.parsers.TextReader._setup_parser_source\u001b[0;34m()\u001b[0m\n",
      "\u001b[0;31mFileNotFoundError\u001b[0m: [Errno 2] No such file or directory: '/home/timothytyree/Documents/GitHub/care/notebooks/Data/initial-conditions-suite-3-LR/param_qu_tmax_30_Ko_5.4_diffCoef_0.0005_dt_0.025/annihilations_minr_1.0_mindur_20.0.csv'"
     ]
    }
   ],
   "source": [
    "#times of 3 snapshots\n",
    "tA=.4\n",
    "tB=4\n",
    "tC=20\n",
    "\n",
    "#LR results for DT = 0.5 ms\n",
    "# modelname='luo-rudy'\n",
    "#annihilations aggregated\n",
    "# input_fn=\"/home/timothytyree/Documents/GitHub/care/notebooks/Data/initial-conditions-suite-3-LR/param_qu_tmax_30_Ko_5.4_diffCoef_0.0005_dt_0.5/annihilations_minr_1.0_mindur_20.0.csv\"\n",
    "df_lr=pd.read_csv(input_fn)\n",
    "\n",
    "# #LR results for DT = 0.025 ms\n",
    "#annihilations aggregated\n",
    "input_fn='/home/timothytyree/Documents/GitHub/care/notebooks/Data/initial-conditions-suite-3-LR/param_qu_tmax_30_Ko_5.4_diffCoef_0.0005_dt_0.025/annihilations_minr_1.0_mindur_20.0.csv'\n",
    "# # #creations aggregated\n",
    "# input_fn='/home/timothytyree/Documents/GitHub/care/notebooks/Data/initial-conditions-suite-3-LR/param_qu_tmax_30_Ko_5.4_diffCoef_0.0005_dt_0.025/creations_minr_1.0_mindur_20.0.csv'\n",
    "\n",
    "df_lr=pd.read_csv(input_fn)\n",
    "# #FK results for DT = 0.4 ms\n",
    "# #annihilations aggregated\n",
    "input_fn=\"/home/timothytyree/Documents/GitHub/care/notebooks/Data/initial-conditions-fk-200x200/param_set_8_ds_5.0_tmax_10_diffCoef_0.0005/annihilations_minr_1.0_mindur_20.0.csv\"\n",
    "df_fk=pd.read_csv(input_fn)\n",
    "\n",
    "# input_fn=search_for_file()\n",
    "\n",
    "#TODO: make outputs simultaneously visible for LR and FK results (dt=0.5,0.4, respectively)\n",
    "\n",
    "#slice df to a given tdeath\n",
    "df=df_lr.copy()\n",
    "t_values=sorted(set(df.tdeath.values))\n",
    "# t_values=sorted(set(df.tbirth.values))\n",
    "\n",
    "# #LR\n",
    "# tA=t_values[0]\n",
    "# tB=t_values[7]\n",
    "# tC=t_values[79]#15]#39]\n",
    "\n",
    "string=f\"considering angles at times {(-tC,-tB,-tA)} milliseconds (LR).\"\n",
    "print(string)\n",
    "string_LR=string\n",
    "\n",
    "anglesA=df[df.tdeath==tA].theta.values\n",
    "anglesB=df[df.tdeath==tB].theta.values\n",
    "anglesC=df[df.tdeath==tC].theta.values\n",
    "\n",
    "# anglesA=df[df.tbirth==tA].theta.values\n",
    "# anglesB=df[df.tbirth==tB].theta.values\n",
    "# anglesC=df[df.tbirth==tC].theta.values\n",
    "\n",
    "angle_lst=[anglesA,anglesB,anglesC]\n",
    "angle_lst_LR=angle_lst\n",
    "\n",
    "#slice df to a given tdeath\n",
    "df=df_fk.copy()\n",
    "t_values=sorted(set(df.tdeath.values))\n",
    "# t_values=sorted(set(df.tbirth.values))\n",
    "\n",
    "# #FK\n",
    "# tA=0.4#t_values[0]#.4\n",
    "# tB=4.#t_values[9]#4.\n",
    "# tC=40#t_values[99]#20.\n",
    "\n",
    "string=f\"considering angles at times {(-tC,-tB,-tA)} milliseconds (FK).\"\n",
    "print(string)\n",
    "string_FK=string\n",
    "\n",
    "anglesA=df[df.tdeath==tA].theta.values\n",
    "anglesB=df[df.tdeath==tB].theta.values\n",
    "anglesC=df[df.tdeath==tC].theta.values\n",
    "\n",
    "# anglesA=df[df.tbirth==tA].theta.values\n",
    "# anglesB=df[df.tbirth==tB].theta.values\n",
    "# anglesC=df[df.tbirth==tC].theta.values\n",
    "\n",
    "ax_lst=[2,1,0]\n",
    "angle_lst=[anglesA,anglesB,anglesC]\n",
    "angle_lst_FK=angle_lst"
   ]
  },
  {
   "cell_type": "code",
   "execution_count": 280,
   "metadata": {
    "ExecuteTime": {
     "end_time": "2021-06-30T19:52:20.463117Z",
     "start_time": "2021-06-30T19:52:20.439926Z"
    }
   },
   "outputs": [],
   "source": [
    "#angular histogram viewer from optical_flow\n",
    "# the area of each bin is proportional to the number of observations in it,\n",
    "bins=4*2\n",
    "symmetrize=False\n",
    "density=True"
   ]
  },
  {
   "cell_type": "code",
   "execution_count": 281,
   "metadata": {
    "ExecuteTime": {
     "end_time": "2021-06-30T19:52:20.902627Z",
     "start_time": "2021-06-30T19:52:20.875693Z"
    }
   },
   "outputs": [],
   "source": [
    "kwargs={\n",
    "    'symmetrize':symmetrize,\n",
    "    'density':density,\n",
    "    'bins':bins,\n",
    "    'alpha':0.4\n",
    "}\n",
    "\n",
    "x_values=np.linspace(0,2*np.pi,50)\n",
    "if density:\n",
    "    y0=1/(bins * np.pi)**0.5\n",
    "else:\n",
    "    y0=1/(bins)*angles.size"
   ]
  },
  {
   "cell_type": "code",
   "execution_count": 282,
   "metadata": {
    "ExecuteTime": {
     "end_time": "2021-06-30T19:52:21.205346Z",
     "start_time": "2021-06-30T19:52:21.187509Z"
    }
   },
   "outputs": [
    {
     "name": "stdout",
     "output_type": "stream",
     "text": [
      "the number of events considered is 3010. (FK)\n",
      "the number of events considered is 12. (LR)\n"
     ]
    }
   ],
   "source": [
    "print(f\"the number of events considered is {angle_lst_FK[0].shape[0]}. (FK)\")\n",
    "print(f\"the number of events considered is {angle_lst_LR[0].shape[0]}. (LR)\")"
   ]
  },
  {
   "cell_type": "code",
   "execution_count": 283,
   "metadata": {
    "ExecuteTime": {
     "end_time": "2021-06-30T19:52:22.241259Z",
     "start_time": "2021-06-30T19:52:21.692467Z"
    }
   },
   "outputs": [
    {
     "name": "stdout",
     "output_type": "stream",
     "text": [
      "these are annihilations for FK (blue) and LR (orange)\n",
      "considering angles at the times:\n",
      "considering angles at times (-20, -4, -0.4) milliseconds (FK).\n",
      "considering angles at times (-20, -4, -0.4) milliseconds (LR).\n",
      "the number of events considered is 3010. (FK)\n",
      "the number of events considered is 12. (LR)\n"
     ]
    },
    {
     "data": {
      "image/png": "[encoded data removed]",
      "text/plain": [
       "<Figure size 504x288 with 3 Axes>"
      ]
     },
     "metadata": {
      "needs_background": "light"
     },
     "output_type": "display_data"
    }
   ],
   "source": [
    "#visualise by area of bins\n",
    "figsize=(7,4)\n",
    "fig, axs = plt.subplots(ncols=3, subplot_kw=dict(projection='polar'),figsize=figsize)\n",
    "for i,angles in zip(ax_lst,angle_lst_LR):\n",
    "    circular_hist(axs[i], x=angles,color='C1',edgecolor='C1',**kwargs)\n",
    "    \n",
    "for i,angles in zip(ax_lst,angle_lst_FK):\n",
    "    circular_hist(axs[i], x=angles,color='C0',edgecolor='C0',**kwargs)\n",
    "\n",
    "for i in ax_lst:\n",
    "    axs[i].plot(x_values,np.sqrt(2)*y0+0.*x_values,'k--',lw=2,alpha=0.7)\n",
    "    axs[i].set_ylim([0,4*y0])\n",
    "    \n",
    "#print bluf\n",
    "print(f'these are annihilations for FK (blue) and LR (orange)')\n",
    "print(f\"considering angles at the times:\")\n",
    "print(string_FK)\n",
    "print(string_LR)\n",
    "print(f\"the number of events considered is {angle_lst_FK[0].shape[0]}. (FK)\")\n",
    "print(f\"the number of events considered is {angle_lst_LR[0].shape[0]}. (LR)\")\n",
    "# print(f\"considering angles at times (tC,tB,tA)={(tC,tB,tA)} milliseconds.\")\n",
    "plt.tight_layout()\n",
    "plt.show()"
   ]
  },
  {
   "cell_type": "markdown",
   "metadata": {
    "heading_collapsed": true
   },
   "source": [
    "### repeat for creations"
   ]
  },
  {
   "cell_type": "code",
   "execution_count": 220,
   "metadata": {
    "ExecuteTime": {
     "end_time": "2021-06-30T19:43:08.990123Z",
     "start_time": "2021-06-30T19:43:06.840961Z"
    },
    "hidden": true
   },
   "outputs": [],
   "source": [
    "# #FK results for DT = 0.4 ms\n",
    "# # #creations aggregated\n",
    "input_fn=\"/home/timothytyree/Documents/GitHub/care/notebooks/Data/initial-conditions-fk-200x200/param_set_8_ds_5.0_tmax_10_diffCoef_0.0005/creations_minr_1.0_mindur_20.0.csv\"\n",
    "df_fk=pd.read_csv(input_fn)\n",
    "\n",
    "#LR results for DT = 0.5 ms\n",
    "#creations aggregated\n",
    "input_fn=\"/home/timothytyree/Documents/GitHub/care/notebooks/Data/initial-conditions-suite-3-LR/param_qu_tmax_30_Ko_5.4_diffCoef_0.0005_dt_0.5/creations_minr_1.0_mindur_20.0.csv\"\n",
    "df_lr=pd.read_csv(input_fn)"
   ]
  },
  {
   "cell_type": "code",
   "execution_count": 44,
   "metadata": {
    "ExecuteTime": {
     "end_time": "2021-06-29T18:51:46.524658Z",
     "start_time": "2021-06-29T18:51:46.491610Z"
    },
    "hidden": true
   },
   "outputs": [],
   "source": [
    "#TODO: make outputs simultaneously visible for LR and FK results (dt=0.5,0.4, respectively)"
   ]
  },
  {
   "cell_type": "code",
   "execution_count": 221,
   "metadata": {
    "ExecuteTime": {
     "end_time": "2021-06-30T19:43:12.066557Z",
     "start_time": "2021-06-30T19:43:11.436399Z"
    },
    "hidden": true
   },
   "outputs": [
    {
     "name": "stdout",
     "output_type": "stream",
     "text": [
      "considering angles at times (0.5, 4.0, 40.0) milliseconds (LR).\n",
      "considering angles at times (0.4, 4.0, 40.0) milliseconds (FK).\n"
     ]
    }
   ],
   "source": [
    "#slice df to a given tdeath\n",
    "df=df_lr\n",
    "# t_values=sorted(set(df.tdeath.values))\n",
    "t_values=sorted(set(df.tbirth.values))\n",
    "\n",
    "#LR\n",
    "tA=t_values[0]\n",
    "tB=t_values[7]\n",
    "tC=t_values[79]#15]#39]\n",
    "\n",
    "string=f\"considering angles at times {(tA,tB,tC)} milliseconds (LR).\"\n",
    "print(string)\n",
    "string_LR=string\n",
    "\n",
    "# anglesA=df[df.tdeath==tA].theta.values\n",
    "# anglesB=df[df.tdeath==tB].theta.values\n",
    "# anglesC=df[df.tdeath==tC].theta.values\n",
    "\n",
    "anglesA=df[df.tbirth==tA].theta.values\n",
    "anglesB=df[df.tbirth==tB].theta.values\n",
    "anglesC=df[df.tbirth==tC].theta.values\n",
    "\n",
    "angle_lst=[anglesA,anglesB,anglesC]\n",
    "angle_lst_FK=angle_lst\n",
    "\n",
    "#slice df to a given tdeath\n",
    "df=df_fk\n",
    "# t_values=sorted(set(df.tdeath.values))\n",
    "t_values=sorted(set(df.tbirth.values))\n",
    "\n",
    "#FK\n",
    "tA=t_values[0]#.4\n",
    "tB=t_values[9]#4.\n",
    "tC=t_values[99]#20.\n",
    "\n",
    "string=f\"considering angles at times {(tA,tB,tC)} milliseconds (FK).\"\n",
    "print(string)\n",
    "string_FK=string\n",
    "\n",
    "# anglesA=df[df.tdeath==tA].theta.values\n",
    "# anglesB=df[df.tdeath==tB].theta.values\n",
    "# anglesC=df[df.tdeath==tC].theta.values\n",
    "\n",
    "anglesA=df[df.tbirth==tA].theta.values\n",
    "anglesB=df[df.tbirth==tB].theta.values\n",
    "anglesC=df[df.tbirth==tC].theta.values\n",
    "\n",
    "ax_lst=[0,1,2]\n",
    "angle_lst=[anglesA,anglesB,anglesC]\n",
    "angle_lst_LR=angle_lst"
   ]
  },
  {
   "cell_type": "code",
   "execution_count": 222,
   "metadata": {
    "ExecuteTime": {
     "end_time": "2021-06-30T19:43:12.165574Z",
     "start_time": "2021-06-30T19:43:12.139299Z"
    },
    "hidden": true
   },
   "outputs": [],
   "source": [
    "#angular histogram viewer from optical_flow\n",
    "# the area of each bin is proportional to the number of observations in it,\n",
    "bins=4*4\n",
    "symmetrize=False\n",
    "density=True"
   ]
  },
  {
   "cell_type": "code",
   "execution_count": 223,
   "metadata": {
    "ExecuteTime": {
     "end_time": "2021-06-30T19:43:12.301266Z",
     "start_time": "2021-06-30T19:43:12.273463Z"
    },
    "hidden": true
   },
   "outputs": [],
   "source": [
    "kwargs={\n",
    "    'symmetrize':symmetrize,\n",
    "    'density':density,\n",
    "    'bins':bins,\n",
    "    'alpha':0.4\n",
    "}\n",
    "\n",
    "x_values=np.linspace(0,2*np.pi,50)\n",
    "if density:\n",
    "    y0=1/(bins * np.pi)**0.5\n",
    "else:\n",
    "    y0=1/(bins)*angles.size"
   ]
  },
  {
   "cell_type": "code",
   "execution_count": 224,
   "metadata": {
    "ExecuteTime": {
     "end_time": "2021-06-30T19:43:12.798542Z",
     "start_time": "2021-06-30T19:43:12.773232Z"
    },
    "hidden": true
   },
   "outputs": [
    {
     "name": "stdout",
     "output_type": "stream",
     "text": [
      "the number of events considered is 3853. (FK)\n",
      "the number of events considered is 7866. (LR)\n"
     ]
    }
   ],
   "source": [
    "print(f\"the number of events considered is {angle_lst_FK[0].shape[0]}. (FK)\")\n",
    "print(f\"the number of events considered is {angle_lst_LR[0].shape[0]}. (LR)\")"
   ]
  },
  {
   "cell_type": "code",
   "execution_count": 225,
   "metadata": {
    "ExecuteTime": {
     "end_time": "2021-06-30T19:43:14.143002Z",
     "start_time": "2021-06-30T19:43:13.346263Z"
    },
    "hidden": true
   },
   "outputs": [
    {
     "name": "stdout",
     "output_type": "stream",
     "text": [
      "these are creations for FK (blue) and LR (orange)\n",
      "considering angles at the times:\n",
      "considering angles at times (0.4, 4.0, 40.0) milliseconds (FK).\n",
      "considering angles at times (0.5, 4.0, 40.0) milliseconds (LR).\n",
      "the number of events considered is 3853. (FK)\n",
      "the number of events considered is 7866. (LR)\n"
     ]
    },
    {
     "data": {
      "image/png": "[encoded data removed]",
      "text/plain": [
       "<Figure size 504x288 with 3 Axes>"
      ]
     },
     "metadata": {
      "needs_background": "light"
     },
     "output_type": "display_data"
    }
   ],
   "source": [
    "#visualise by area of bins\n",
    "figsize=(7,4)\n",
    "fig, axs = plt.subplots(ncols=3, subplot_kw=dict(projection='polar'),figsize=figsize)\n",
    "for i,angles in zip(ax_lst,angle_lst_LR):\n",
    "    circular_hist(axs[i], x=angles,color='C1',edgecolor='C1',**kwargs)\n",
    "    \n",
    "for i,angles in zip(ax_lst,angle_lst_FK):\n",
    "    circular_hist(axs[i], x=angles,color='C0',edgecolor='C0',**kwargs)\n",
    "\n",
    "for i in ax_lst:\n",
    "    axs[i].plot(x_values,np.sqrt(2)*y0+0.*x_values,'k--',lw=2,alpha=0.7)\n",
    "    axs[i].set_ylim([0,4*y0])\n",
    "    \n",
    "#print bluf\n",
    "print(f'these are creations for FK (blue) and LR (orange)')\n",
    "print(f\"considering angles at the times:\")\n",
    "print(string_FK)\n",
    "print(string_LR)\n",
    "print(f\"the number of events considered is {angle_lst_FK[0].shape[0]}. (FK)\")\n",
    "print(f\"the number of events considered is {angle_lst_LR[0].shape[0]}. (LR)\")\n",
    "# print(f\"considering angles at times (tC,tB,tA)={(tC,tB,tA)} milliseconds.\")\n",
    "plt.tight_layout()\n",
    "plt.show()"
   ]
  },
  {
   "cell_type": "code",
   "execution_count": 51,
   "metadata": {
    "ExecuteTime": {
     "end_time": "2021-06-29T18:53:55.843423Z",
     "start_time": "2021-06-29T18:53:51.254476Z"
    },
    "hidden": true
   },
   "outputs": [
    {
     "name": "stdout",
     "output_type": "stream",
     "text": [
      "considering angles at times (-40.0, -4.0, -0.5) milliseconds (LR).\n",
      "considering angles at times (-40.0, -4.0, -0.4) milliseconds (FK).\n",
      "the number of events considered is 744. (FK)\n",
      "the number of events considered is 3010. (LR)\n",
      "these are annihilations for FK (blue) and LR (orange)\n",
      "considering angles at the times:\n",
      "considering angles at times (-40.0, -4.0, -0.4) milliseconds (FK).\n",
      "considering angles at times (-40.0, -4.0, -0.5) milliseconds (LR).\n",
      "the number of events considered is 744. (FK)\n",
      "the number of events considered is 3010. (LR)\n"
     ]
    },
    {
     "data": {
      "image/png": "[encoded data removed]",
      "text/plain": [
       "<Figure size 504x288 with 3 Axes>"
      ]
     },
     "metadata": {
      "needs_background": "light"
     },
     "output_type": "display_data"
    }
   ],
   "source": [
    "#LR results for DT = 0.5 ms\n",
    "# modelname='luo-rudy'\n",
    "#annihilations aggregated\n",
    "input_fn=\"/home/timothytyree/Documents/GitHub/care/notebooks/Data/initial-conditions-suite-3-LR/param_qu_tmax_30_Ko_5.4_diffCoef_0.0005_dt_0.5/annihilations_minr_1.0_mindur_20.0.csv\"\n",
    "df_lr=pd.read_csv(input_fn)\n",
    "\n",
    "\n",
    "# #FK results for DT = 0.4 ms\n",
    "# #annihilations aggregated\n",
    "input_fn=\"/home/timothytyree/Documents/GitHub/care/notebooks/Data/initial-conditions-fk-200x200/param_set_8_ds_5.0_tmax_10_diffCoef_0.0005/annihilations_minr_1.0_mindur_20.0.csv\"\n",
    "df_fk=pd.read_csv(input_fn)\n",
    "\n",
    "# input_fn=search_for_file()\n",
    "\n",
    "#TODO: make outputs simultaneously visible for LR and FK results (dt=0.5,0.4, respectively)\n",
    "\n",
    "#slice df to a given tdeath\n",
    "df=df_lr\n",
    "t_values=sorted(set(df.tdeath.values))\n",
    "# t_values=sorted(set(df.tbirth.values))\n",
    "\n",
    "#LR\n",
    "tA=t_values[0]\n",
    "tB=t_values[7]\n",
    "tC=t_values[79]#15]#39]\n",
    "\n",
    "string=f\"considering angles at times {(-tC,-tB,-tA)} milliseconds (LR).\"\n",
    "print(string)\n",
    "string_LR=string\n",
    "\n",
    "anglesA=df[df.tdeath==tA].theta.values\n",
    "anglesB=df[df.tdeath==tB].theta.values\n",
    "anglesC=df[df.tdeath==tC].theta.values\n",
    "\n",
    "# anglesA=df[df.tbirth==tA].theta.values\n",
    "# anglesB=df[df.tbirth==tB].theta.values\n",
    "# anglesC=df[df.tbirth==tC].theta.values\n",
    "\n",
    "angle_lst=[anglesA,anglesB,anglesC]\n",
    "angle_lst_FK=angle_lst\n",
    "\n",
    "#slice df to a given tdeath\n",
    "df=df_fk\n",
    "t_values=sorted(set(df.tdeath.values))\n",
    "# t_values=sorted(set(df.tbirth.values))\n",
    "\n",
    "#FK\n",
    "tA=t_values[0]#.4\n",
    "tB=t_values[9]#4.\n",
    "tC=t_values[99]#20.\n",
    "\n",
    "string=f\"considering angles at times {(-tC,-tB,-tA)} milliseconds (FK).\"\n",
    "print(string)\n",
    "string_FK=string\n",
    "\n",
    "anglesA=df[df.tdeath==tA].theta.values\n",
    "anglesB=df[df.tdeath==tB].theta.values\n",
    "anglesC=df[df.tdeath==tC].theta.values\n",
    "\n",
    "# anglesA=df[df.tbirth==tA].theta.values\n",
    "# anglesB=df[df.tbirth==tB].theta.values\n",
    "# anglesC=df[df.tbirth==tC].theta.values\n",
    "\n",
    "ax_lst=[2,1,0]\n",
    "angle_lst=[anglesA,anglesB,anglesC]\n",
    "angle_lst_LR=angle_lst\n",
    "\n",
    "#angular histogram viewer from optical_flow\n",
    "# the area of each bin is proportional to the number of observations in it,\n",
    "bins=4*4\n",
    "symmetrize=False\n",
    "density=True\n",
    "\n",
    "kwargs={\n",
    "    'symmetrize':symmetrize,\n",
    "    'density':density,\n",
    "    'bins':bins,\n",
    "    'alpha':0.4\n",
    "}\n",
    "\n",
    "x_values=np.linspace(0,2*np.pi,50)\n",
    "if density:\n",
    "    y0=1/(bins * np.pi)**0.5\n",
    "else:\n",
    "    y0=1/(bins)*angles.size\n",
    "\n",
    "print(f\"the number of events considered is {angle_lst_FK[0].shape[0]}. (FK)\")\n",
    "print(f\"the number of events considered is {angle_lst_LR[0].shape[0]}. (LR)\")\n",
    "\n",
    "#visualise by area of bins\n",
    "figsize=(7,4)\n",
    "fig, axs = plt.subplots(ncols=3, subplot_kw=dict(projection='polar'),figsize=figsize)\n",
    "for i,angles in zip(ax_lst,angle_lst_LR):\n",
    "    circular_hist(axs[i], x=angles,color='C1',edgecolor='C1',**kwargs)\n",
    "    \n",
    "for i,angles in zip(ax_lst,angle_lst_FK):\n",
    "    circular_hist(axs[i], x=angles,color='C0',edgecolor='C0',**kwargs)\n",
    "\n",
    "for i in ax_lst:\n",
    "    axs[i].plot(x_values,np.sqrt(2)*y0+0.*x_values,'k--',lw=2,alpha=0.7)\n",
    "    axs[i].set_ylim([0,3.5*y0])\n",
    "    \n",
    "#print bluf\n",
    "print(f'these are annihilations for FK (blue) and LR (orange)')\n",
    "print(f\"considering angles at the times:\")\n",
    "print(string_FK)\n",
    "print(string_LR)\n",
    "print(f\"the number of events considered is {angle_lst_FK[0].shape[0]}. (FK)\")\n",
    "print(f\"the number of events considered is {angle_lst_LR[0].shape[0]}. (LR)\")\n",
    "# print(f\"considering angles at times (tC,tB,tA)={(tC,tB,tA)} milliseconds.\")\n",
    "plt.tight_layout()\n",
    "plt.show()"
   ]
  },
  {
   "cell_type": "code",
   "execution_count": null,
   "metadata": {
    "hidden": true
   },
   "outputs": [],
   "source": []
  },
  {
   "cell_type": "code",
   "execution_count": null,
   "metadata": {
    "hidden": true
   },
   "outputs": [],
   "source": []
  },
  {
   "cell_type": "code",
   "execution_count": null,
   "metadata": {
    "hidden": true
   },
   "outputs": [],
   "source": []
  },
  {
   "cell_type": "markdown",
   "metadata": {
    "ExecuteTime": {
     "end_time": "2021-06-23T04:27:50.692785Z",
     "start_time": "2021-06-23T04:27:50.663141Z"
    }
   },
   "source": [
    "# colored time plots for annihilation/creation events"
   ]
  },
  {
   "cell_type": "code",
   "execution_count": 284,
   "metadata": {
    "ExecuteTime": {
     "end_time": "2021-06-30T19:54:48.026205Z",
     "start_time": "2021-06-30T19:54:48.002826Z"
    }
   },
   "outputs": [],
   "source": [
    "# #times of 3 snapshots\n",
    "# tA=.4\n",
    "# tB=4\n",
    "# tC=40"
   ]
  },
  {
   "cell_type": "code",
   "execution_count": 285,
   "metadata": {
    "ExecuteTime": {
     "end_time": "2021-06-30T19:54:48.438164Z",
     "start_time": "2021-06-30T19:54:48.413386Z"
    }
   },
   "outputs": [],
   "source": [
    "# #LR results for DT = 0.5 ms\n",
    "# # modelname='luo-rudy'\n",
    "# #annihilations aggregated\n",
    "# input_fn=\"/home/timothytyree/Documents/GitHub/care/notebooks/Data/initial-conditions-suite-3-LR/param_qu_tmax_30_Ko_5.4_diffCoef_0.0005_dt_0.5/annihilations_minr_1.0_mindur_20.0.csv\"\n",
    "\n",
    "\n",
    "# # #LR results for DT = 0.025 ms\n",
    "# #annihilations aggregated\n",
    "# # input_fn='/home/timothytyree/Documents/GitHub/care/notebooks/Data/initial-conditions-suite-3-LR/param_qu_tmax_30_Ko_5.4_diffCoef_0.0005_dt_0.025/annihilations_minr_1.0_mindur_20.0.csv'\n",
    "# # # #creations aggregated\n",
    "# # input_fn='/home/timothytyree/Documents/GitHub/care/notebooks/Data/initial-conditions-suite-3-LR/param_qu_tmax_30_Ko_5.4_diffCoef_0.0005_dt_0.025/creations_minr_1.0_mindur_20.0.csv'\n",
    "# df_lr=pd.read_csv(input_fn)\n",
    "\n",
    "# # #FK results for\n",
    "# # #annihilations aggregated\n",
    "# #DT = 0.4 ms\n",
    "# # input_fn=\"/home/timothytyree/Documents/GitHub/care/notebooks/Data/initial-conditions-fk-200x200/param_set_8_ds_5.0_tmax_10_diffCoef_0.0005/annihilations_minr_1.0_mindur_20.0.csv\"\n",
    "# #DT=0.025 ms\n",
    "# input_fn='/home/timothytyree/Documents/GitHub/care/notebooks/Data/initial-conditions-fk-200x200/param_set_8_ds_5.0_tmax_30_diffCoef_0.001_dt_0.025/annihilations_minr_1.0_mindur_20.0.csv'\n",
    "# df_fk=pd.read_csv(input_fn)\n",
    "\n",
    "# # input_fn=search_for_file()\n",
    "# #TODO: make outputs simultaneously visible for LR and FK results (dt=0.5,0.4, respectively)"
   ]
  },
  {
   "cell_type": "code",
   "execution_count": 286,
   "metadata": {
    "ExecuteTime": {
     "end_time": "2021-06-30T19:54:50.083879Z",
     "start_time": "2021-06-30T19:54:49.851306Z"
    }
   },
   "outputs": [],
   "source": [
    "df_fk.sort_values('tdeath',ascending=True,inplace=True)\n",
    "df_lr.sort_values('tdeath',ascending=True,inplace=True)"
   ]
  },
  {
   "cell_type": "code",
   "execution_count": 295,
   "metadata": {
    "ExecuteTime": {
     "end_time": "2021-06-30T19:57:31.642721Z",
     "start_time": "2021-06-30T19:57:30.699206Z"
    }
   },
   "outputs": [],
   "source": [
    "# print(f\"number of trials is {len(sorted(set(df_lr.pid.values)))} (LR) and {len(sorted(set(df_fk.pid.values)))} (FK).\")\n",
    "\n",
    "#compute xy values\n",
    "x_label='time (ms)'#'t'\n",
    "# x_label='time after annihilation (ms)'#'t'\n",
    "y_label='inward/outward\\nangle (radians)'#'$\\vartheta$'\n",
    "# 'r (cm)'\n",
    "# 'dr/dt (cm/ms)'\n",
    "\n",
    "df_phases=df_lr.copy()\n",
    "t_values=sorted(set(df_phases.tdeath.values))\n",
    "DT=sorted(set(df_phases.tdeath.values))[0]\n",
    "#compute/plot average over particles\n",
    "N=len(list(set(df_phases.pid.values)))\n",
    "# dfm=df_phases.groupby('tbirth').mean()\n",
    "# dfs=df_phases.groupby('tbirth').std()\n",
    "dfm=df_phases.groupby('tdeath').mean()\n",
    "dfs=df_phases.groupby('tdeath').std()\n",
    "x_values_lr=dfm.index.values\n",
    "y_values_lr=dfm.theta.values\n",
    "yerr_values_lr=dfs.theta.values\n",
    "\n",
    "df_phases=df_fk.copy()\n",
    "t_values=sorted(set(df_phases.tdeath.values))\n",
    "DT=sorted(set(df_phases.tdeath.values))[0]\n",
    "#compute/plot average over particles\n",
    "N=len(list(set(df_phases.pid.values)))\n",
    "# dfm=df_phases.groupby('tbirth').mean()\n",
    "# dfs=df_phases.groupby('tbirth').std()\n",
    "dfm=df_phases.groupby('tdeath').mean()\n",
    "dfs=df_phases.groupby('tdeath').std()\n",
    "x_values_fk=dfm.index.values\n",
    "y_values_fk=dfm.theta.values\n",
    "yerr_values_fk=dfs.theta.values"
   ]
  },
  {
   "cell_type": "code",
   "execution_count": 292,
   "metadata": {
    "ExecuteTime": {
     "end_time": "2021-06-30T19:56:18.396415Z",
     "start_time": "2021-06-30T19:56:18.174562Z"
    }
   },
   "outputs": [
    {
     "data": {
      "image/png": "[encoded data removed]",
      "text/plain": [
       "<Figure size 504x216 with 1 Axes>"
      ]
     },
     "metadata": {
      "needs_background": "light"
     },
     "output_type": "display_data"
    }
   ],
   "source": [
    "fontsize=18\n",
    "fig,ax=plt.subplots(ncols=1,figsize=(7,3))#(5,4))\n",
    "# axes=[1e-1,2,1e-3,0.2]\n",
    "alpha=0.2\n",
    "# FK\n",
    "ax.fill_between(-x_values_fk, y_values_fk-yerr_values_fk, y_values_fk+yerr_values_fk,color='C0',alpha=alpha)\n",
    "ax.plot(-x_values_fk,y_values_fk,'C0',lw=2)\n",
    "#LR\n",
    "ax.fill_between(-x_values_lr, y_values_lr-yerr_values_lr, y_values_lr+yerr_values_lr,color='C1',alpha=alpha)\n",
    "ax.plot(-x_values_lr,y_values_lr,'C1',lw=2)\n",
    "\n",
    "#TODO: add cuts for times\n",
    "\n",
    "\n",
    "\n",
    "ax.set_xlim([-20,0])#-DT])\n",
    "# ax.set_xlim([-50,-DT])\n",
    "ax.set_ylim([0,np.pi])\n",
    "ax.set_xlabel(x_label,fontsize=fontsize)\n",
    "ax.set_ylabel(y_label,fontsize=fontsize)\n",
    "# ax.set_xscale('log')\n",
    "ax.tick_params(axis='both', which='major', labelsize=fontsize)\n",
    "ax.tick_params(axis='both', which='minor', labelsize=1)\n",
    "\n",
    "#wrong bluf because aggregate\n",
    "# print(f\"number of trials is {len(sorted(set(df_lr.pid.values)))} (LR) and {len(sorted(set(df_fk.pid.values)))} (FK).\")\n",
    "plt.show()"
   ]
  },
  {
   "cell_type": "code",
   "execution_count": 11,
   "metadata": {
    "ExecuteTime": {
     "end_time": "2021-07-06T17:08:15.018447Z",
     "start_time": "2021-07-06T17:08:14.436341Z"
    }
   },
   "outputs": [
    {
     "ename": "NameError",
     "evalue": "name 'df_fk' is not defined",
     "output_type": "error",
     "traceback": [
      "\u001b[0;31m-------------------------------------------------\u001b[0m",
      "\u001b[0;31mNameError\u001b[0m       Traceback (most recent call last)",
      "\u001b[0;32m<ipython-input-11-da74563ce465>\u001b[0m in \u001b[0;36m<module>\u001b[0;34m\u001b[0m\n\u001b[1;32m      4\u001b[0m \u001b[0my_label\u001b[0m\u001b[0;34m=\u001b[0m\u001b[0;34m'dr/dt (cm/ms)'\u001b[0m\u001b[0;34m\u001b[0m\u001b[0;34m\u001b[0m\u001b[0m\n\u001b[1;32m      5\u001b[0m \u001b[0;34m\u001b[0m\u001b[0m\n\u001b[0;32m----> 6\u001b[0;31m \u001b[0mdf_fk\u001b[0m\u001b[0;34m.\u001b[0m\u001b[0msort_values\u001b[0m\u001b[0;34m(\u001b[0m\u001b[0;34m'tdeath'\u001b[0m\u001b[0;34m,\u001b[0m\u001b[0mascending\u001b[0m\u001b[0;34m=\u001b[0m\u001b[0;32mTrue\u001b[0m\u001b[0;34m,\u001b[0m\u001b[0minplace\u001b[0m\u001b[0;34m=\u001b[0m\u001b[0;32mTrue\u001b[0m\u001b[0;34m)\u001b[0m\u001b[0;34m\u001b[0m\u001b[0;34m\u001b[0m\u001b[0m\n\u001b[0m\u001b[1;32m      7\u001b[0m \u001b[0mdf_lr\u001b[0m\u001b[0;34m.\u001b[0m\u001b[0msort_values\u001b[0m\u001b[0;34m(\u001b[0m\u001b[0;34m'tdeath'\u001b[0m\u001b[0;34m,\u001b[0m\u001b[0mascending\u001b[0m\u001b[0;34m=\u001b[0m\u001b[0;32mTrue\u001b[0m\u001b[0;34m,\u001b[0m\u001b[0minplace\u001b[0m\u001b[0;34m=\u001b[0m\u001b[0;32mTrue\u001b[0m\u001b[0;34m)\u001b[0m\u001b[0;34m\u001b[0m\u001b[0;34m\u001b[0m\u001b[0m\n\u001b[1;32m      8\u001b[0m \u001b[0;34m\u001b[0m\u001b[0m\n",
      "\u001b[0;31mNameError\u001b[0m: name 'df_fk' is not defined"
     ]
    }
   ],
   "source": [
    "#plot the mean drdt versus r\n",
    "#compute xy values\n",
    "x_label='r (cm)'\n",
    "y_label='dr/dt (cm/ms)'\n",
    "\n",
    "df_fk.sort_values('tdeath',ascending=True,inplace=True)\n",
    "df_lr.sort_values('tdeath',ascending=True,inplace=True)\n",
    "\n",
    "df_phases=df_lr.copy()\n",
    "t_values=sorted(set(df_phases.tdeath.values))\n",
    "DT=sorted(set(df_phases.tdeath.values))[0]\n",
    "#compute/plot average over particles\n",
    "N=len(list(set(df_phases.pid.values)))\n",
    "# dfm=df_phases.groupby('tbirth').mean()\n",
    "# dfs=df_phases.groupby('tbirth').std()\n",
    "dfm=df_phases.groupby('tdeath').mean()\n",
    "dfs=df_phases.groupby('tdeath').std()\n",
    "t_values=dfm.index.values\n",
    "range_values=dfm.r.values\n",
    "drdt_values=np.diff(range_values)/DT\n",
    "r_values=range_values[1:]/2+range_values[:-1]/2\n",
    "x_values_lr=r_values\n",
    "y_values_lr=drdt_values\n",
    "# yerr_values_lr=dfs.theta.values\n",
    "\n",
    "#fit drdt_values to F0+F1/r with OLS fit for LR model where 1/r is greater than some 1/cm\n",
    "rmax=1.2 #cm\n",
    "boo=r_values<rmax\n",
    "x=1/r_values[boo]\n",
    "y=drdt_values[boo]\n",
    "dict_force_fit=compute_95CI_ols(x,y)\n",
    "y_hat_values=dict_force_fit['b']+dict_force_fit['m']/r_values\n",
    "\n",
    "dict_force_fit_lr=dict_force_fit\n",
    "y_hat_values_lr=y_hat_values\n",
    "\n",
    "df_phases=df_fk.copy()\n",
    "t_values=sorted(set(df_phases.tdeath.values))\n",
    "DT=sorted(set(df_phases.tdeath.values))[0]\n",
    "#compute/plot average over particles\n",
    "N=len(list(set(df_phases.pid.values)))\n",
    "# dfm=df_phases.groupby('tbirth').mean()\n",
    "# dfs=df_phases.groupby('tbirth').std()\n",
    "dfm=df_phases.groupby('tdeath').mean()\n",
    "dfs=df_phases.groupby('tdeath').std()\n",
    "t_values=dfm.index.values\n",
    "range_values=dfm.r.values\n",
    "drdt_values=np.diff(range_values)/DT\n",
    "r_values=range_values[1:]/2+range_values[:-1]/2\n",
    "x_values_fk=r_values\n",
    "y_values_fk=drdt_values\n",
    "# yerr_values_fk=dfs.theta.values\n",
    "\n",
    "#fit drdt_values to F0+F1/r with OLS fit for FK model where 1/r is greater than 2 1/cm\n",
    "rmax=0.5 #cm\n",
    "boo=r_values<rmax\n",
    "x=1/r_values[boo]\n",
    "y=drdt_values[boo]\n",
    "dict_force_fit=compute_95CI_ols(x,y)\n",
    "y_hat_values=dict_force_fit['b']+dict_force_fit['m']/r_values\n",
    "dict_force_fit_fk=dict_force_fit\n",
    "y_hat_values_fk=y_hat_values"
   ]
  },
  {
   "cell_type": "code",
   "execution_count": 379,
   "metadata": {
    "ExecuteTime": {
     "end_time": "2021-06-30T20:40:32.671769Z",
     "start_time": "2021-06-30T20:40:32.649415Z"
    }
   },
   "outputs": [
    {
     "name": "stdout",
     "output_type": "stream",
     "text": [
      "the best fits are\n",
      " {'m': 0.3159199026751975, 'Delta_m': 0.030859220439950204, 'b': -0.2559505933481997, 'Delta_b': 0.02847159863995168, 'Rsquared': 0.5521731445610751} (LR) and \n",
      "{'m': 0.037282567885389944, 'Delta_m': 0.0006465463607779418, 'b': -0.04866949942754961, 'Delta_b': 0.0018307907016742225, 'Rsquared': 0.9990235572199276} (FK).\n"
     ]
    }
   ],
   "source": [
    "print(f\"the best fits are\\n {dict_force_fit_lr} (LR) and \\n{dict_force_fit_fk} (FK).\")"
   ]
  },
  {
   "cell_type": "code",
   "execution_count": 380,
   "metadata": {
    "ExecuteTime": {
     "end_time": "2021-06-30T20:40:32.750515Z",
     "start_time": "2021-06-30T20:40:32.733835Z"
    }
   },
   "outputs": [],
   "source": [
    "def print_dict(input_dict):\n",
    "    for key in input_dict.keys():\n",
    "        print(f\"{key}={input_dict[key]}\")"
   ]
  },
  {
   "cell_type": "code",
   "execution_count": null,
   "metadata": {
    "ExecuteTime": {
     "end_time": "2021-06-30T20:08:31.476652Z",
     "start_time": "2021-06-30T20:08:31.453238Z"
    }
   },
   "outputs": [],
   "source": []
  },
  {
   "cell_type": "code",
   "execution_count": 384,
   "metadata": {
    "ExecuteTime": {
     "end_time": "2021-06-30T20:42:02.276632Z",
     "start_time": "2021-06-30T20:42:01.961892Z"
    }
   },
   "outputs": [
    {
     "data": {
      "image/png": "[encoded data removed]",
      "text/plain": [
       "<Figure size 504x216 with 2 Axes>"
      ]
     },
     "metadata": {
      "needs_background": "light"
     },
     "output_type": "display_data"
    }
   ],
   "source": [
    "fontsize=18\n",
    "alpha=0.1\n",
    "\n",
    "fig,axs=plt.subplots(ncols=2,figsize=(7,3))#(5,4))\n",
    "ax=axs[0]\n",
    "ax.scatter(x_values_fk,y_values_fk,c='C0',s=20,alpha=alpha)\n",
    "ax.scatter(x_values_lr,y_values_lr,c='C1',s=20,alpha=alpha)\n",
    "\n",
    "#plot fits\n",
    "ax.plot(x_values_fk,y_hat_values_fk,c='C0',lw=2,alpha=1)\n",
    "ax.plot(x_values_lr,y_hat_values_lr,c='C1',lw=2,alpha=1)\n",
    "\n",
    "ax.set_xlim([0,1.2])\n",
    "ax.set_ylim([-0.1,.5])\n",
    "ax.set_xlabel(x_label,fontsize=fontsize)\n",
    "ax.set_ylabel(y_label,fontsize=fontsize)\n",
    "# ax.set_xscale('log')\n",
    "ax.tick_params(axis='both', which='major', labelsize=fontsize)\n",
    "ax.tick_params(axis='both', which='minor', labelsize=1)\n",
    "\n",
    "ax=axs[1]\n",
    "ax.scatter(1/x_values_fk,y_values_fk,c='C0',s=20,alpha=alpha)\n",
    "ax.scatter(1/x_values_lr,y_values_lr,c='C1',s=20,alpha=alpha)\n",
    "\n",
    "#plot fits\n",
    "ax.plot(1/x_values_fk,y_hat_values_fk,c='C0',lw=2,alpha=1)\n",
    "ax.plot(1/x_values_lr,y_hat_values_lr,c='C1',lw=2,alpha=1)\n",
    "\n",
    "# y_hat_values_fk\n",
    "# y_hat_values_fk\n",
    "\n",
    "ax.set_xlim([.7,5])\n",
    "ax.set_ylim([-0.1,.2])\n",
    "ax.set_xlabel(r'$1/r$ (cm$^{-1}$)',fontsize=fontsize)\n",
    "ax.set_ylabel(y_label,fontsize=fontsize)\n",
    "\n",
    "# ax.set_xscale('log')\n",
    "ax.tick_params(axis='both', which='major', labelsize=fontsize)\n",
    "ax.tick_params(axis='both', which='minor', labelsize=1)\n",
    "#wrong bluf because aggregate\n",
    "plt.tight_layout()\n",
    "plt.show()"
   ]
  },
  {
   "cell_type": "markdown",
   "metadata": {},
   "source": [
    "$$\n",
    "F(r)\\propto\\frac{dr}{dt} = b + \\frac{m}{r}\n",
    "$$"
   ]
  },
  {
   "cell_type": "code",
   "execution_count": null,
   "metadata": {},
   "outputs": [],
   "source": [
    "#TODO: try any more annihilation plots... \n",
    "# HINT: any from the following 3 panel\n",
    "# HINT: are phi values present/convenient? Yes.\n",
    "#TODO: condense the figures we like into functions. test on FK model\n",
    "#TODO: make comparable functions for LR model. "
   ]
  },
  {
   "cell_type": "code",
   "execution_count": null,
   "metadata": {
    "ExecuteTime": {
     "end_time": "2021-06-30T20:45:30.167270Z",
     "start_time": "2021-06-30T20:45:30.139880Z"
    }
   },
   "outputs": [],
   "source": []
  },
  {
   "cell_type": "code",
   "execution_count": null,
   "metadata": {},
   "outputs": [],
   "source": []
  },
  {
   "cell_type": "code",
   "execution_count": 385,
   "metadata": {
    "ExecuteTime": {
     "end_time": "2021-06-30T20:42:02.410544Z",
     "start_time": "2021-06-30T20:42:02.382999Z"
    }
   },
   "outputs": [
    {
     "name": "stdout",
     "output_type": "stream",
     "text": [
      "the ols fit for FK:\n",
      "m=0.037282567885389944\n",
      "Delta_m=0.0006465463607779418\n",
      "b=-0.04866949942754961\n",
      "Delta_b=0.0018307907016742225\n",
      "Rsquared=0.9990235572199276\n",
      "\n",
      "the ols fit for LR:\n",
      "m=0.3159199026751975\n",
      "Delta_m=0.030859220439950204\n",
      "b=-0.2559505933481997\n",
      "Delta_b=0.02847159863995168\n",
      "Rsquared=0.5521731445610751\n"
     ]
    }
   ],
   "source": [
    "print(f\"the ols fit for FK:\")\n",
    "print_dict(dict_force_fit_fk)\n",
    "print(f\"\\nthe ols fit for LR:\")\n",
    "print_dict(dict_force_fit_lr)"
   ]
  },
  {
   "cell_type": "code",
   "execution_count": 183,
   "metadata": {
    "ExecuteTime": {
     "end_time": "2021-06-30T19:31:03.775545Z",
     "start_time": "2021-06-30T19:30:39.560542Z"
    }
   },
   "outputs": [
    {
     "data": {
      "image/png": "[encoded data removed]",
      "text/plain": [
       "<Figure size 864x288 with 3 Axes>"
      ]
     },
     "metadata": {
      "needs_background": "light"
     },
     "output_type": "display_data"
    }
   ],
   "source": [
    "saving=False\n",
    "savefig_folder=f\"{nb_dir}/Figures\"\n",
    "savefig_fn=f\"lr-annihilations.png\"\n",
    "fontsize=14\n",
    "tmax=1e2\n",
    "alpha=.1\n",
    "fig,axs=plt.subplots(ncols=3,figsize=(12,4))#(5,4))\n",
    "\n",
    "# y_values_lst=[dfm.phi1.values,dfm.phi2.values,dfm.phi_sum.values, dfm.phi_diff.values]\n",
    "# y_values_lst=[phi1_values,phi2_values,phi_sum_values, phi_diff_values]\n",
    "# y_label_lst=[r'$\\phi_1$',r'$\\phi_2$',r'$\\phi_{sum}$',r'$\\phi_{diff}$']\n",
    "# ax_lst=[0,0,1,1]\n",
    "# c_lst=['C0','C1','C0','C1']\n",
    "\n",
    "#extract local particle values\n",
    "# pid_lst=list(set(df_phases.pid.values))\n",
    "# for pid in pid_lst:#[:10]:\n",
    "#     boo=df_phases.pid==pid\n",
    "t_values=df_phases.tdeath.values\n",
    "range_values=df_phases.r.values\n",
    "theta_values=df_phases.theta.values\n",
    "\n",
    "x_values=t_values\n",
    "y_values=theta_values\n",
    "ax=axs[0]\n",
    "ax.plot(x_values,y_values,alpha=alpha,label='_Hidden',c='gray',lw=2.5)\n",
    "ax.set_xlabel('time until annihilation (ms)',fontsize=fontsize)\n",
    "ax.set_ylabel('angle between\\n velocities (radians)',fontsize=fontsize)\n",
    "ax.set_xlim([DT,tmax])\n",
    "ax.set_xscale('log')\n",
    "ax.tick_params(axis='both', which='major', labelsize=fontsize)\n",
    "ax.tick_params(axis='both', which='minor', labelsize=1)\n",
    "\n",
    "#plot range versus time until death\n",
    "x_values=t_values\n",
    "y_values=range_values\n",
    "ax=axs[1]\n",
    "ax.scatter(x_values,y_values,alpha=alpha,label='_Hidden',c='gray',lw=2.5)\n",
    "ax.set_xlabel('time until annihilation (ms)',fontsize=fontsize)\n",
    "ax.set_ylabel('distance between\\nspiral tips (cm)',fontsize=fontsize)\n",
    "ax.set_xlim([DT,tmax])\n",
    "ax.set_xscale('log')\n",
    "ax.set_yscale('log')\n",
    "ax.tick_params(axis='both', which='major', labelsize=fontsize)\n",
    "ax.tick_params(axis='both', which='minor', labelsize=1)\n",
    "\n",
    "# plot angle between versus range (left)\n",
    "x_values=range_values\n",
    "y_values=theta_values\n",
    "ax=axs[2]\n",
    "ax.scatter(x_values,y_values,alpha=alpha,label='_Hidden',c='gray',s=15)\n",
    "ax.set_xlabel('distance between\\nspiral tips (cm)',fontsize=fontsize)\n",
    "ax.set_ylabel('angle between\\n velocities (radians)',fontsize=fontsize)\n",
    "ax.set_xlim([1e-2,1])\n",
    "ax.set_xscale('log')\n",
    "#     ax.set_yscale('log')\n",
    "ax.tick_params(axis='both', which='major', labelsize=fontsize)\n",
    "ax.tick_params(axis='both', which='minor', labelsize=1)   \n",
    "\n",
    "\n",
    "    \n",
    "# axs[0].set_title('phi_1 and phi_2 \\n',fontsize=fontsize)\n",
    "# axs[1].set_title('phi_sum and phi_diff \\n',fontsize=fontsize)\n",
    "plt.tight_layout()\n",
    "# plt.show()\n",
    "# print(f\"\\ttime between two frames was {0.001} ms\")\n",
    "\n",
    "\n",
    "plt.tight_layout()\n",
    "if not saving: \n",
    "    plt.show() \n",
    "else:\n",
    "    os.chdir(savefig_folder)\n",
    "    plt.savefig(savefig_fn, dpi=300)\n",
    "    print(f\"saved figure in \\n\\t{savefig_fn}\")\n",
    "#     plt.close()"
   ]
  },
  {
   "cell_type": "code",
   "execution_count": null,
   "metadata": {},
   "outputs": [],
   "source": []
  },
  {
   "cell_type": "code",
   "execution_count": 56,
   "metadata": {
    "ExecuteTime": {
     "end_time": "2021-06-26T03:49:06.526760Z",
     "start_time": "2021-06-26T03:49:05.934062Z"
    }
   },
   "outputs": [
    {
     "ename": "AttributeError",
     "evalue": "'DataFrame' object has no attribute 'tdeath'",
     "output_type": "error",
     "traceback": [
      "\u001b[0;31m---------------------------------------------------------------------------\u001b[0m",
      "\u001b[0;31mAttributeError\u001b[0m                            Traceback (most recent call last)",
      "\u001b[0;32m<ipython-input-56-08df7d28ecf7>\u001b[0m in \u001b[0;36m<module>\u001b[0;34m\u001b[0m\n\u001b[1;32m     17\u001b[0m \u001b[0;32mfor\u001b[0m \u001b[0mpid\u001b[0m \u001b[0;32min\u001b[0m \u001b[0mpid_lst\u001b[0m\u001b[0;34m:\u001b[0m\u001b[0;31m#[:10]:\u001b[0m\u001b[0;34m\u001b[0m\u001b[0;34m\u001b[0m\u001b[0m\n\u001b[1;32m     18\u001b[0m     \u001b[0mboo\u001b[0m\u001b[0;34m=\u001b[0m\u001b[0mdf_phases\u001b[0m\u001b[0;34m.\u001b[0m\u001b[0mpid\u001b[0m\u001b[0;34m==\u001b[0m\u001b[0mpid\u001b[0m\u001b[0;34m\u001b[0m\u001b[0;34m\u001b[0m\u001b[0m\n\u001b[0;32m---> 19\u001b[0;31m     \u001b[0mt_values\u001b[0m\u001b[0;34m=\u001b[0m\u001b[0mdf_phases\u001b[0m\u001b[0;34m[\u001b[0m\u001b[0mboo\u001b[0m\u001b[0;34m]\u001b[0m\u001b[0;34m.\u001b[0m\u001b[0mtdeath\u001b[0m\u001b[0;34m.\u001b[0m\u001b[0mvalues\u001b[0m\u001b[0;34m\u001b[0m\u001b[0;34m\u001b[0m\u001b[0m\n\u001b[0m\u001b[1;32m     20\u001b[0m     \u001b[0mrange_values\u001b[0m\u001b[0;34m=\u001b[0m\u001b[0mdf_phases\u001b[0m\u001b[0;34m[\u001b[0m\u001b[0mboo\u001b[0m\u001b[0;34m]\u001b[0m\u001b[0;34m.\u001b[0m\u001b[0mr\u001b[0m\u001b[0;34m.\u001b[0m\u001b[0mvalues\u001b[0m\u001b[0;34m\u001b[0m\u001b[0;34m\u001b[0m\u001b[0m\n\u001b[1;32m     21\u001b[0m     \u001b[0mtheta_values\u001b[0m\u001b[0;34m=\u001b[0m\u001b[0mdf_phases\u001b[0m\u001b[0;34m[\u001b[0m\u001b[0mboo\u001b[0m\u001b[0;34m]\u001b[0m\u001b[0;34m.\u001b[0m\u001b[0mtheta\u001b[0m\u001b[0;34m.\u001b[0m\u001b[0mvalues\u001b[0m\u001b[0;34m\u001b[0m\u001b[0;34m\u001b[0m\u001b[0m\n",
      "\u001b[0;32m~/anaconda3/lib/python3.7/site-packages/pandas/core/generic.py\u001b[0m in \u001b[0;36m__getattr__\u001b[0;34m(self, name)\u001b[0m\n\u001b[1;32m   5272\u001b[0m             \u001b[0;32mif\u001b[0m \u001b[0mself\u001b[0m\u001b[0;34m.\u001b[0m\u001b[0m_info_axis\u001b[0m\u001b[0;34m.\u001b[0m\u001b[0m_can_hold_identifiers_and_holds_name\u001b[0m\u001b[0;34m(\u001b[0m\u001b[0mname\u001b[0m\u001b[0;34m)\u001b[0m\u001b[0;34m:\u001b[0m\u001b[0;34m\u001b[0m\u001b[0;34m\u001b[0m\u001b[0m\n\u001b[1;32m   5273\u001b[0m                 \u001b[0;32mreturn\u001b[0m \u001b[0mself\u001b[0m\u001b[0;34m[\u001b[0m\u001b[0mname\u001b[0m\u001b[0;34m]\u001b[0m\u001b[0;34m\u001b[0m\u001b[0;34m\u001b[0m\u001b[0m\n\u001b[0;32m-> 5274\u001b[0;31m             \u001b[0;32mreturn\u001b[0m \u001b[0mobject\u001b[0m\u001b[0;34m.\u001b[0m\u001b[0m__getattribute__\u001b[0m\u001b[0;34m(\u001b[0m\u001b[0mself\u001b[0m\u001b[0;34m,\u001b[0m \u001b[0mname\u001b[0m\u001b[0;34m)\u001b[0m\u001b[0;34m\u001b[0m\u001b[0;34m\u001b[0m\u001b[0m\n\u001b[0m\u001b[1;32m   5275\u001b[0m \u001b[0;34m\u001b[0m\u001b[0m\n\u001b[1;32m   5276\u001b[0m     \u001b[0;32mdef\u001b[0m \u001b[0m__setattr__\u001b[0m\u001b[0;34m(\u001b[0m\u001b[0mself\u001b[0m\u001b[0;34m,\u001b[0m \u001b[0mname\u001b[0m\u001b[0;34m:\u001b[0m \u001b[0mstr\u001b[0m\u001b[0;34m,\u001b[0m \u001b[0mvalue\u001b[0m\u001b[0;34m)\u001b[0m \u001b[0;34m->\u001b[0m \u001b[0;32mNone\u001b[0m\u001b[0;34m:\u001b[0m\u001b[0;34m\u001b[0m\u001b[0;34m\u001b[0m\u001b[0m\n",
      "\u001b[0;31mAttributeError\u001b[0m: 'DataFrame' object has no attribute 'tdeath'"
     ]
    },
    {
     "data": {
      "image/png": "[encoded data removed]",
      "text/plain": [
       "<Figure size 864x288 with 3 Axes>"
      ]
     },
     "metadata": {
      "needs_background": "light"
     },
     "output_type": "display_data"
    }
   ],
   "source": [
    "saving=False\n",
    "savefig_folder=f\"{nb_dir}/Figures\"\n",
    "savefig_fn=f\"lr-annihilations.png\"\n",
    "fontsize=14\n",
    "tmax=1e2\n",
    "alpha=.1\n",
    "fig,axs=plt.subplots(ncols=3,figsize=(12,4))#(5,4))\n",
    "\n",
    "# y_values_lst=[dfm.phi1.values,dfm.phi2.values,dfm.phi_sum.values, dfm.phi_diff.values]\n",
    "# y_values_lst=[phi1_values,phi2_values,phi_sum_values, phi_diff_values]\n",
    "# y_label_lst=[r'$\\phi_1$',r'$\\phi_2$',r'$\\phi_{sum}$',r'$\\phi_{diff}$']\n",
    "# ax_lst=[0,0,1,1]\n",
    "# c_lst=['C0','C1','C0','C1']\n",
    "\n",
    "#extract local particle values\n",
    "pid_lst=list(set(df_phases.pid.values))\n",
    "for pid in pid_lst:#[:10]:\n",
    "    boo=df_phases.pid==pid\n",
    "    t_values=df_phases[boo].tdeath.values\n",
    "    range_values=df_phases[boo].r.values\n",
    "    theta_values=df_phases[boo].theta.values\n",
    "    \n",
    "    x_values=t_values\n",
    "    y_values=theta_values\n",
    "    ax=axs[0]\n",
    "    ax.plot(x_values,y_values,alpha=alpha,label='_Hidden',c='gray',lw=2.5)\n",
    "    ax.set_xlabel('time until annihilation (ms)',fontsize=fontsize)\n",
    "    ax.set_ylabel('angle between\\n velocities (radians)',fontsize=fontsize)\n",
    "    ax.set_xlim([DT,tmax])\n",
    "    ax.set_xscale('log')\n",
    "    ax.tick_params(axis='both', which='major', labelsize=fontsize)\n",
    "    ax.tick_params(axis='both', which='minor', labelsize=1)\n",
    "\n",
    "    #plot range versus time until death\n",
    "    x_values=t_values\n",
    "    y_values=range_values\n",
    "    ax=axs[1]\n",
    "    ax.plot(x_values,y_values,alpha=alpha,label='_Hidden',c='gray',lw=2.5)\n",
    "    ax.set_xlabel('time until annihilation (ms)',fontsize=fontsize)\n",
    "    ax.set_ylabel('distance between\\nspiral tips (cm)',fontsize=fontsize)\n",
    "    ax.set_xlim([DT,tmax])\n",
    "    ax.set_xscale('log')\n",
    "    ax.set_yscale('log')\n",
    "    ax.tick_params(axis='both', which='major', labelsize=fontsize)\n",
    "    ax.tick_params(axis='both', which='minor', labelsize=1)\n",
    "\n",
    "    # plot angle between versus range (left)\n",
    "    x_values=range_values\n",
    "    y_values=theta_values\n",
    "    ax=axs[2]\n",
    "    ax.scatter(x_values,y_values,alpha=alpha,label='_Hidden',c='gray',s=15)\n",
    "    ax.set_xlabel('distance between\\nspiral tips (cm)',fontsize=fontsize)\n",
    "    ax.set_ylabel('angle between\\n velocities (radians)',fontsize=fontsize)\n",
    "    ax.set_xlim([1e-2,1])\n",
    "    ax.set_xscale('log')\n",
    "#     ax.set_yscale('log')\n",
    "    ax.tick_params(axis='both', which='major', labelsize=fontsize)\n",
    "    ax.tick_params(axis='both', which='minor', labelsize=1)   \n",
    "    \n",
    "\n",
    "    \n",
    "# axs[0].set_title('phi_1 and phi_2 \\n',fontsize=fontsize)\n",
    "# axs[1].set_title('phi_sum and phi_diff \\n',fontsize=fontsize)\n",
    "plt.tight_layout()\n",
    "# plt.show()\n",
    "# print(f\"\\ttime between two frames was {0.001} ms\")\n",
    "\n",
    "\n",
    "plt.tight_layout()\n",
    "if not saving: \n",
    "    plt.show() \n",
    "else:\n",
    "    os.chdir(savefig_folder)\n",
    "    plt.savefig(savefig_fn, dpi=300)\n",
    "    print(f\"saved figure in \\n\\t{savefig_fn}\")\n",
    "#     plt.close()"
   ]
  },
  {
   "cell_type": "code",
   "execution_count": null,
   "metadata": {
    "ExecuteTime": {
     "end_time": "2021-06-26T03:19:22.226873Z",
     "start_time": "2021-06-26T03:19:01.770Z"
    }
   },
   "outputs": [],
   "source": [
    "# tA=DT # 0.4 #ms\n",
    "# tB=2   #ms\n",
    "# tC=20  #ms\n",
    "# #iterate over all annihilation events computing/plotting the shortest trajectory if it is long enough and if it gets further than a certain range\n",
    "# df_deaths=df_phases\n",
    "# saving=False\n",
    "# savefig_folder=f\"{nb_dir}/Figures\"\n",
    "# savefig_fn=f\"angles-between-deaths-b-lr.png\"\n",
    "# # savefig_fn=f\"angles-between-deaths-b.png\"\n",
    "# fontsize=16\n",
    "# bins=6\n",
    "# tmax=1e2\n",
    "# #plot naive range at death and birth\n",
    "# fig,axs=plt.subplots(ncols=2,figsize=(12,5))\n",
    "\n",
    "# # y_values_lst=[dfm.phi1.values,dfm.phi2.values,dfm.phi_sum.values, dfm.phi_diff.values]\n",
    "# # y_values_lst=[phi1_values,phi2_values,phi_sum_values, phi_diff_values]\n",
    "# y_label_lst=[r'$\\vartheta$']\n",
    "# ax_lst=[1]\n",
    "# c_lst=['gray']\n",
    "# # angle_threshold=2.3\n",
    "# val1_lst=[];val2_lst=[];val3_lst=[]\n",
    "# #extract local particle values\n",
    "# pid_lst=list(set(df_deaths.pid.values))\n",
    "# for pid in pid_lst:#[:10]:\n",
    "#     boo=df_deaths.pid==pid\n",
    "#     y_values_lst=[df_deaths[boo].theta.values]\n",
    "#     x_values=df_deaths[boo]['tdeath'].values\n",
    "#     for y_values,y_label,nax,color in zip(y_values_lst,y_label_lst,ax_lst,c_lst):\n",
    "#         ax=axs[nax]\n",
    "#         ax.plot(x_values,y_values,alpha=.3,label='_Hidden',c=color,lw=2.5)\n",
    "\n",
    "#         boo1=np.isclose(x_values,tA)\n",
    "#         boo2=np.isclose(x_values,tB)\n",
    "#         boo3=np.isclose(x_values,tC)\n",
    "#         val1=y_values[boo1]\n",
    "#         val2=y_values[boo2]\n",
    "#         val3=y_values[boo3]\n",
    "#         if val1.shape[0]>0:\n",
    "#             val1_lst.append(val1[0])\n",
    "#             val2_lst.append(val2[0])\n",
    "#             val3_lst.append(val3[0])\n",
    "            \n",
    "# ax.set_xlabel('time until annihilation (ms)',fontsize=fontsize)\n",
    "# ax.set_ylabel('angle between\\n velocities (radians)',fontsize=fontsize)\n",
    "# ax.set_xlim([DT,tmax])\n",
    "# ax.set_xscale('log')\n",
    "# ax.tick_params(axis='both', which='major', labelsize=fontsize)\n",
    "# ax.tick_params(axis='both', which='minor', labelsize=1)\n",
    "                \n",
    "# # fontsize=16\n",
    "# # fig,ax=plt.subplots(ncols=1,figsize=(5,5))\n",
    "# ax=axs[0]\n",
    "# # ax.hist(val1_lst,bins=bins,density=True,color='C0',label=f't=-{tA:.1f} ms',alpha=0.7)\n",
    "# ax.hist(val2_lst,bins=bins,density=True,color='C1',label=f't=-{tB:.1f} ms',alpha=0.7)\n",
    "# ax.hist(val3_lst,bins=bins,density=True,color='C2',label=f't=-{tC:.1f} ms',alpha=0.7)\n",
    "# ax.legend(fontsize=fontsize)\n",
    "# #plot control\n",
    "# xv=np.arange(0,np.pi,0.1)\n",
    "# ax.plot(xv,xv*0.+1/np.pi,'k--')#,color='gray',)\n",
    "# ax.set_xlabel('angle between\\n velocities (radians)',fontsize=fontsize)\n",
    "# ax.set_ylabel(r'prob. density',fontsize=fontsize)\n",
    "# ax.tick_params(axis='both', which='major', labelsize=fontsize)\n",
    "# ax.tick_params(axis='both', which='minor', labelsize=1)\n",
    "            \n",
    "# plt.tight_layout()\n",
    "# # plt.show()\n",
    "# # print(f\"\\ttime between two frames was {0.001} ms\")\n",
    "# plt.tight_layout()\n",
    "# if not saving:\n",
    "#     plt.show()\n",
    "# else:\n",
    "#     os.chdir(savefig_folder)\n",
    "#     plt.savefig(savefig_fn, dpi=300)\n",
    "#     print(f\"saved figure in \\n\\t{savefig_fn}\")\n",
    "\n",
    "#     #     plt.close()"
   ]
  },
  {
   "cell_type": "code",
   "execution_count": null,
   "metadata": {
    "ExecuteTime": {
     "end_time": "2021-06-26T03:19:22.227526Z",
     "start_time": "2021-06-26T03:19:01.773Z"
    }
   },
   "outputs": [],
   "source": [
    "# fontsize=16\n",
    "# saving=False\n",
    "# savefig_folder=f\"{nb_dir}/Figures\"\n",
    "# savefig_fn=f\"fine-death-range-phase.png\"\n",
    "# #plot naive range at death and birth\n",
    "# fig,axs=plt.subplots(ncols=2,figsize=(12,5))#(5,4))\n",
    "\n",
    "# # y_values_lst=[dfm.phi1.values,dfm.phi2.values,dfm.phi_sum.values, dfm.phi_diff.values]\n",
    "# # y_values_lst=[phi1_values,phi2_values,phi_sum_values, phi_diff_values]\n",
    "# y_label_lst=[r'$\\phi_1$',r'$\\phi_2$',r'$\\phi_{sum}$',r'$\\phi_{diff}$']\n",
    "# ax_lst=[0,0,1,1]\n",
    "# c_lst=['C0','C1','C0','C1']\n",
    "\n",
    "# #extract local particle values\n",
    "# pid_lst=list(set(df_phases.pid.values))\n",
    "# for pid in pid_lst[:10]:\n",
    "#     boo=df_phases.pid==pid\n",
    "#     y_values_lst=[df_phases[boo].phi1.values,df_phases[boo].phi2.values,df_phases[boo].phi_sum.values, df_phases[boo].phi_diff.values]\n",
    "#     x_values=df_phases[boo].tdeath.values\n",
    "#     for y_values,y_label,nax,color in zip(y_values_lst,y_label_lst,ax_lst,c_lst):\n",
    "#         ax=axs[nax]\n",
    "#         ax.plot(x_values,y_values,alpha=.3,label='_Hidden',c=color,lw=2.5)\n",
    "#         # plt.scatter(x_values[boo],range_values[boo],c='k',alpha=0.5,s=3)\n",
    "#         ax.set_xlabel('time until annihilation (ms)',fontsize=fontsize)\n",
    "#         ax.set_ylabel('signed phase (rad)',fontsize=fontsize)\n",
    "\n",
    "#         ax.set_xlim([DT,1e1])\n",
    "#     #     ax.set_ylim([-np.pi/8,np.pi/8])\n",
    "#         #     ax.set_xlim([1e-3,1e2])\n",
    "#         ax.set_xscale('log')\n",
    "#         # plt.yscale('log')\n",
    "#         ax.tick_params(axis='both', which='major', labelsize=fontsize)\n",
    "#         ax.tick_params(axis='both', which='minor', labelsize=1)\n",
    "#     #     ax.legend(fontsize=fontsize)\n",
    "# axs[0].set_title('phi_1 and phi_2 \\n',fontsize=fontsize)\n",
    "# axs[1].set_title('phi_sum and phi_diff \\n',fontsize=fontsize)\n",
    "# plt.tight_layout()\n",
    "# # plt.show()\n",
    "# # print(f\"\\ttime between two frames was {0.001} ms\")\n",
    "# plt.tight_layout()\n",
    "# if not saving: \n",
    "#     plt.show() \n",
    "# else:\n",
    "#     os.chdir(savefig_folder)\n",
    "#     plt.savefig(savefig_fn, dpi=300)\n",
    "#     print(f\"saved figure in \\n\\t{savefig_fn}\")\n",
    "# #     plt.close()"
   ]
  },
  {
   "cell_type": "code",
   "execution_count": null,
   "metadata": {
    "ExecuteTime": {
     "end_time": "2021-06-26T03:19:22.228140Z",
     "start_time": "2021-06-26T03:19:01.777Z"
    },
    "scrolled": true
   },
   "outputs": [],
   "source": [
    "# fontsize=16\n",
    "# saving=False\n",
    "# savefig_folder=f\"{nb_dir}/Figures/fine_death\"\n",
    "# savefig_fn=f\"fine-death-range-phase.png\"\n",
    "# #plot naive range at death and birth\n",
    "# fig,axs=plt.subplots(ncols=2,figsize=(12,5))#(5,4))\n",
    "\n",
    "# y_values_lst=[phi1_values,phi2_values,phi_sum_values, phi_diff_values]\n",
    "# y_label_lst=[r'$\\phi_1$',r'$\\phi_2$',r'$\\phi_{sum}$',r'$\\phi_{diff}$']\n",
    "# ax_lst=[0,0,1,1]\n",
    "# c_lst=['C0','C1','C0','C1']\n",
    "\n",
    "# for y_values,y_label,nax,color in zip(y_values_lst,y_label_lst,ax_lst,c_lst):\n",
    "#     ax=axs[nax]\n",
    "#     ax.plot(x_values,y_values,alpha=1.0,label=y_label,c=color,lw=2.5)\n",
    "#     # plt.scatter(x_values[boo],range_values[boo],c='k',alpha=0.5,s=3)\n",
    "#     ax.set_xlabel('time until annihilation (ms)',fontsize=fontsize)\n",
    "#     ax.set_ylabel('signed phase (rad)',fontsize=fontsize)\n",
    "\n",
    "#     ax.set_xlim([DT,1e1])\n",
    "# #     ax.set_ylim([-np.pi/8,np.pi/8])\n",
    "#     #     ax.set_xlim([1e-3,1e2])\n",
    "#     ax.set_xscale('log')\n",
    "#     # plt.yscale('log')\n",
    "#     ax.tick_params(axis='both', which='major', labelsize=fontsize)\n",
    "#     ax.tick_params(axis='both', which='minor', labelsize=1)\n",
    "#     ax.legend(fontsize=fontsize)\n",
    "\n",
    "# plt.tight_layout()\n",
    "# # plt.show()\n",
    "# # print(f\"\\ttime between two frames was {0.001} ms\")\n",
    "# plt.tight_layout()\n",
    "# if not saving: \n",
    "#     plt.show() \n",
    "# else:\n",
    "#     os.chdir(savefig_folder)\n",
    "#     plt.savefig(savefig_fn, dpi=300)\n",
    "#     print(f\"saved figure in \\n\\t{savefig_fn}\")\n",
    "# #     plt.close()"
   ]
  },
  {
   "cell_type": "code",
   "execution_count": null,
   "metadata": {},
   "outputs": [],
   "source": []
  },
  {
   "cell_type": "code",
   "execution_count": null,
   "metadata": {},
   "outputs": [],
   "source": []
  },
  {
   "cell_type": "markdown",
   "metadata": {},
   "source": [
    "__schema__\n",
    "- t_until_death: time until death (index)\n",
    "- range_values: distance from tip to other tip\n",
    "- angle_values: angle between the velocity of one tip with the ray starting at the center of mass and extending out to the tip\n",
    "- "
   ]
  },
  {
   "cell_type": "markdown",
   "metadata": {
    "ExecuteTime": {
     "end_time": "2021-05-11T17:49:24.296646Z",
     "start_time": "2021-05-11T17:49:24.174233Z"
    }
   },
   "source": [
    "__TODO(later):__ convert this markdown cell into something that documents how angle_values were computed\n",
    "$$\n",
    "\\text{Let   } \\phi_1\\equiv\\cos^{-1}\\big(\\widehat{\\mathbf{x}_2-\\mathbf{x}_1}\\;\\cdot\\;\\hat{\\mathbf{a}}_1\\big),\n",
    "$$\n",
    "\n",
    "$$\n",
    "\\text{and let   } \\phi_2\\equiv\\cos^{-1}\\big(\\widehat{\\mathbf{x}_1-\\mathbf{x}_2}\\;\\cdot\\;\\hat{\\mathbf{a}}_2\\big).\n",
    "$$\n",
    "\n",
    "denote the (unsigned) phases of particle 1 & 2, where $\\mathbf{a}_1$ and $\\mathbf{a}_2$ are perpendicular to $\\nabla V\\equiv$ (grad_ux,grad_uy)."
   ]
  },
  {
   "cell_type": "code",
   "execution_count": null,
   "metadata": {
    "ExecuteTime": {
     "end_time": "2021-06-26T03:19:22.228727Z",
     "start_time": "2021-06-26T03:19:01.786Z"
    }
   },
   "outputs": [],
   "source": [
    "from lib.routines.dag_log_to_msd import *"
   ]
  },
  {
   "cell_type": "code",
   "execution_count": null,
   "metadata": {
    "ExecuteTime": {
     "end_time": "2021-06-26T03:19:22.229433Z",
     "start_time": "2021-06-26T03:19:01.790Z"
    }
   },
   "outputs": [],
   "source": [
    "#generate trajectories, unwrapped trajectories, and mean squared displacements for folder of tip logs\n",
    "ds=5\n",
    "width=200\n",
    "kwargs={\n",
    "    'L':width,\n",
    "    'DS':ds/width,\n",
    "    'use_cache':True,\n",
    "    'sr':3*width,\n",
    "    'mem':0}\n",
    "\n",
    "# input_fn=search_for_file();\n",
    "input_fn=\"/home/timothytyree/Documents/GitHub/care/notebooks/Data/initial-conditions-suite-3-LR/param_qu_tmax_30_Ko_5.4_diffCoef_0.0005_dt_0.025/Log/ic002.23_log.csv\"\n",
    "print(input_fn)\n",
    "output_file_name=run_routine_log_to_unwrapped_trajectory(input_fn,**kwargs)"
   ]
  },
  {
   "cell_type": "code",
   "execution_count": null,
   "metadata": {
    "ExecuteTime": {
     "end_time": "2021-06-26T03:19:22.230016Z",
     "start_time": "2021-06-26T03:19:01.794Z"
    }
   },
   "outputs": [],
   "source": [
    "# compute_angle_between_final_velocities\n",
    "# get_compute_ranges_between\n",
    "beep(6)"
   ]
  },
  {
   "cell_type": "code",
   "execution_count": null,
   "metadata": {
    "ExecuteTime": {
     "end_time": "2021-06-26T03:19:22.230555Z",
     "start_time": "2021-06-26T03:19:01.798Z"
    }
   },
   "outputs": [],
   "source": [
    "#TODO: load existing spiral tip trajectory data\n",
    "#TODO: compute_interactions\n",
    "#TODO: compute_ranges_between \n",
    "#TODO: visually test compute_angle_between_final_velocities\n",
    "\n",
    "#TODO: compute the angle between all tip annihilations.  save as csv\n",
    "#TODO: remove any events with tips that did not last longer than min_duration\n",
    "#TODO: remove any events with tips never had a range greater than min_range\n",
    "\n",
    "#TODO: find matplotlib/preexisting example of angular histogram\n"
   ]
  },
  {
   "cell_type": "code",
   "execution_count": null,
   "metadata": {
    "ExecuteTime": {
     "end_time": "2021-06-26T03:19:22.231157Z",
     "start_time": "2021-06-26T03:19:01.802Z"
    }
   },
   "outputs": [],
   "source": [
    "#Token fk model\n",
    "# input_fn=f\"/home/timothytyree/Documents/GitHub/care/notebooks/Data/initial-conditions-fk-300x300/ds_7.5_param_set_8/Log/ic300x300.0.6_traj_sr_600_mem_0.csv\"\n",
    "#Token lr model\n",
    "# input_fn=f\"/home/timothytyree/Documents/GitHub/care/notebooks/Data/initial-conditions-lr-300x300/param_qu_tmax_30/trajectories/ic300x300.3.3_traj_sr_600_mem_0.csv\"\n",
    "ds=5\n",
    "width=200\n",
    "height=width\n",
    "DS=ds/width\n",
    "\n",
    "# input_fn=search_for_file()\n",
    "# input_fn=f\"/home/timothytyree/Documents/GitHub/care/notebooks/Data/initial-conditions-fk-200x200/param_set_8_ds_5.0_tmax_10_diffCoef_0.0005/Log/ic200x200.0.3_traj_sr_400_mem_0.csv\"\n",
    "df=pd.read_csv(input_fn)\n",
    "print(input_fn)\n",
    "DT=compute_DT(df,round_t_to_n_digits=3);print(f\"the time resolution is {DT} ms.\")\n",
    "\n"
   ]
  },
  {
   "cell_type": "code",
   "execution_count": null,
   "metadata": {
    "ExecuteTime": {
     "end_time": "2021-06-26T03:19:22.231726Z",
     "start_time": "2021-06-26T03:19:01.807Z"
    }
   },
   "outputs": [],
   "source": [
    "df.head()"
   ]
  },
  {
   "cell_type": "code",
   "execution_count": null,
   "metadata": {
    "ExecuteTime": {
     "end_time": "2021-06-26T03:19:22.232446Z",
     "start_time": "2021-06-26T03:19:01.812Z"
    }
   },
   "outputs": [],
   "source": [
    "input_fn=f\"/home/timothytyree/Documents/GitHub/care/notebooks/Data/initial-conditions-fk-200x200/param_set_8_ds_5.0_tmax_10_diffCoef_0.0005/Log/ic200x200.0.3_traj_sr_400_mem_0.csv\"\n",
    "df_phases=compute_annihilation_events(input_fn,width,height,ds);#,**kwargs)\n",
    "df_phases.head()"
   ]
  },
  {
   "cell_type": "code",
   "execution_count": null,
   "metadata": {
    "ExecuteTime": {
     "end_time": "2021-06-26T03:19:22.233015Z",
     "start_time": "2021-06-26T03:19:01.816Z"
    }
   },
   "outputs": [],
   "source": [
    "#DONE: visually verify that the output makes sense\n",
    "#DONE: wrap all ^this into a function\n",
    "input_fn=f\"/home/timothytyree/Documents/GitHub/care/notebooks/Data/initial-conditions-fk-200x200/param_set_8_ds_5.0_tmax_10_diffCoef_0.0005/Log/ic200x200.0.3_traj_sr_400_mem_0.csv\"\n",
    "save_fn=save_annihilation_events(input_fn,width,height,ds,save_folder=None,save_fn=None,printing=False)#,**kwargs)\n",
    "print(save_fn)"
   ]
  },
  {
   "cell_type": "code",
   "execution_count": null,
   "metadata": {
    "ExecuteTime": {
     "end_time": "2021-06-26T03:19:22.233650Z",
     "start_time": "2021-06-26T03:19:01.820Z"
    }
   },
   "outputs": [],
   "source": [
    "# #DONE: move ^this to lib\n",
    "# #DONE: make routine and daskbag call to ^this for input_fn_lst\n",
    "# kwargs={\n",
    "#     width,height,ds,save_folder=None,save_fn=None\n",
    "# }"
   ]
  },
  {
   "cell_type": "code",
   "execution_count": null,
   "metadata": {
    "ExecuteTime": {
     "end_time": "2021-06-26T03:19:22.234227Z",
     "start_time": "2021-06-26T03:19:01.824Z"
    }
   },
   "outputs": [],
   "source": [
    "#compute/plot average over particles\n",
    "N=len(list(set(df_phases.pid.values)))\n",
    "dfm=df_phases.groupby('tdeath').mean()\n",
    "x_values=dfm.index.values\n",
    "# y_values=dfm.phi_diff.values\n",
    "y_values=dfm.theta.values\n",
    "plt.plot(x_values,y_values)\n",
    "plt.xlim([0,20])"
   ]
  },
  {
   "cell_type": "code",
   "execution_count": null,
   "metadata": {
    "ExecuteTime": {
     "end_time": "2021-06-26T03:19:22.234871Z",
     "start_time": "2021-06-26T03:19:01.828Z"
    }
   },
   "outputs": [],
   "source": [
    "fontsize=16\n",
    "#TODO: plot range versus time until death (right)\n",
    "#TODO: plot angle between versus range (left)\n",
    "tmax=1e2\n",
    "fig,axs=plt.subplots(ncols=2,figsize=(12,5))#(5,4))\n",
    "\n",
    "# y_values_lst=[dfm.phi1.values,dfm.phi2.values,dfm.phi_sum.values, dfm.phi_diff.values]\n",
    "# y_values_lst=[phi1_values,phi2_values,phi_sum_values, phi_diff_values]\n",
    "y_label_lst=[r'$\\phi_1$',r'$\\phi_2$',r'$\\phi_{sum}$',r'$\\phi_{diff}$']\n",
    "ax_lst=[0,0,1,1]\n",
    "c_lst=['C0','C1','C0','C1']\n",
    "\n",
    "#extract local particle values\n",
    "pid_lst=list(set(df_phases.pid.values))\n",
    "for pid in pid_lst[:10]:\n",
    "    boo=df_phases.pid==pid\n",
    "    range_values=df_phases[boo].r.values\n",
    "    tdeath_values=df_phases[boo].tdeath.values\n",
    "    theta_values=df_phases[boo].theta.values\n",
    "    \n",
    "    x_values=range_values\n",
    "    y_values=theta_values\n",
    "    ax=axs[0]\n",
    "    ax.scatter(x_values,y_values,alpha=.3,label='_Hidden',c='gray',s=15)\n",
    "    ax.set_xlabel('distance between\\nspiral tips (cm)',fontsize=fontsize)\n",
    "    ax.set_ylabel('angle between\\n velocities (radians)',fontsize=fontsize)\n",
    "    ax.set_xlim([1e-2,1])\n",
    "    ax.set_xscale('log')\n",
    "#     ax.set_yscale('log')\n",
    "    ax.tick_params(axis='both', which='major', labelsize=fontsize)\n",
    "    ax.tick_params(axis='both', which='minor', labelsize=1)   \n",
    "    \n",
    "    x_values=tdeath_values\n",
    "    y_values=range_values\n",
    "    ax=axs[1]\n",
    "    ax.plot(x_values,range_values,alpha=.3,label='_Hidden',c='gray',lw=2.5)\n",
    "    ax.set_xlabel('time until annihilation (ms)',fontsize=fontsize)\n",
    "    ax.set_ylabel('distance between\\nspiral tips (cm)',fontsize=fontsize)\n",
    "    ax.set_xlim([DT,tmax])\n",
    "    ax.set_xscale('log')\n",
    "    ax.set_yscale('log')\n",
    "    ax.tick_params(axis='both', which='major', labelsize=fontsize)\n",
    "    ax.tick_params(axis='both', which='minor', labelsize=1)\n",
    "    \n",
    "\n",
    "    \n",
    "# axs[0].set_title('phi_1 and phi_2 \\n',fontsize=fontsize)\n",
    "# axs[1].set_title('phi_sum and phi_diff \\n',fontsize=fontsize)\n",
    "plt.tight_layout()\n",
    "# plt.show()\n",
    "# print(f\"\\ttime between two frames was {0.001} ms\")\n",
    "\n",
    "saving=True\n",
    "savefig_folder=f\"{nb_dir}/Figures\"\n",
    "savefig_fn=f\"angles-between-deaths-a-lr.png\"\n",
    "# savefig_fn=f\"angles-between-deaths-a.png\"\n",
    "plt.tight_layout()\n",
    "if not saving: \n",
    "    plt.show() \n",
    "else:\n",
    "    os.chdir(savefig_folder)\n",
    "    plt.savefig(savefig_fn, dpi=300)\n",
    "    print(f\"saved figure in \\n\\t{savefig_fn}\")\n",
    "#     plt.close()"
   ]
  },
  {
   "cell_type": "code",
   "execution_count": null,
   "metadata": {
    "ExecuteTime": {
     "end_time": "2021-06-26T03:19:22.235418Z",
     "start_time": "2021-06-26T03:19:01.833Z"
    }
   },
   "outputs": [],
   "source": [
    "tA=DT # 0.4 #ms\n",
    "tB=2   #ms\n",
    "tC=20  #ms\n",
    "#iterate over all annihilation events computing/plotting the shortest trajectory if it is long enough and if it gets further than a certain range\n",
    "df_deaths=df_phases\n",
    "saving=True\n",
    "savefig_folder=f\"{nb_dir}/Figures\"\n",
    "savefig_fn=f\"angles-between-deaths-b-lr.png\"\n",
    "# savefig_fn=f\"angles-between-deaths-b.png\"\n",
    "fontsize=16\n",
    "bins=6\n",
    "tmax=1e2\n",
    "#plot naive range at death and birth\n",
    "fig,axs=plt.subplots(ncols=2,figsize=(12,5))\n",
    "\n",
    "# y_values_lst=[dfm.phi1.values,dfm.phi2.values,dfm.phi_sum.values, dfm.phi_diff.values]\n",
    "# y_values_lst=[phi1_values,phi2_values,phi_sum_values, phi_diff_values]\n",
    "y_label_lst=[r'$\\vartheta$']\n",
    "ax_lst=[1]\n",
    "c_lst=['gray']\n",
    "# angle_threshold=2.3\n",
    "val1_lst=[];val2_lst=[];val3_lst=[]\n",
    "#extract local particle values\n",
    "pid_lst=list(set(df_deaths.pid.values))\n",
    "for pid in pid_lst:#[:10]:\n",
    "    boo=df_deaths.pid==pid\n",
    "    y_values_lst=[df_deaths[boo].theta.values]\n",
    "    x_values=df_deaths[boo]['tdeath'].values\n",
    "    for y_values,y_label,nax,color in zip(y_values_lst,y_label_lst,ax_lst,c_lst):\n",
    "        ax=axs[nax]\n",
    "        ax.plot(x_values,y_values,alpha=.3,label='_Hidden',c=color,lw=2.5)\n",
    "\n",
    "        boo1=np.isclose(x_values,tA)\n",
    "        boo2=np.isclose(x_values,tB)\n",
    "        boo3=np.isclose(x_values,tC)\n",
    "        val1=y_values[boo1]\n",
    "        val2=y_values[boo2]\n",
    "        val3=y_values[boo3]\n",
    "        if val1.shape[0]>0:\n",
    "            val1_lst.append(val1[0])\n",
    "            val2_lst.append(val2[0])\n",
    "            val3_lst.append(val3[0])\n",
    "            \n",
    "ax.set_xlabel('time until annihilation (ms)',fontsize=fontsize)\n",
    "ax.set_ylabel('angle between\\n velocities (radians)',fontsize=fontsize)\n",
    "ax.set_xlim([DT,tmax])\n",
    "ax.set_xscale('log')\n",
    "ax.tick_params(axis='both', which='major', labelsize=fontsize)\n",
    "ax.tick_params(axis='both', which='minor', labelsize=1)\n",
    "                \n",
    "# fontsize=16\n",
    "# fig,ax=plt.subplots(ncols=1,figsize=(5,5))\n",
    "ax=axs[0]\n",
    "# ax.hist(val1_lst,bins=bins,density=True,color='C0',label=f't=-{tA:.1f} ms',alpha=0.7)\n",
    "ax.hist(val2_lst,bins=bins,density=True,color='C1',label=f't=-{tB:.1f} ms',alpha=0.7)\n",
    "ax.hist(val3_lst,bins=bins,density=True,color='C2',label=f't=-{tC:.1f} ms',alpha=0.7)\n",
    "ax.legend(fontsize=fontsize)\n",
    "#plot control\n",
    "xv=np.arange(0,np.pi,0.1)\n",
    "ax.plot(xv,xv*0.+1/np.pi,'k--')#,color='gray',)\n",
    "ax.set_xlabel('angle between\\n velocities (radians)',fontsize=fontsize)\n",
    "ax.set_ylabel(r'prob. density',fontsize=fontsize)\n",
    "ax.tick_params(axis='both', which='major', labelsize=fontsize)\n",
    "ax.tick_params(axis='both', which='minor', labelsize=1)\n",
    "            \n",
    "plt.tight_layout()\n",
    "# plt.show()\n",
    "# print(f\"\\ttime between two frames was {0.001} ms\")\n",
    "plt.tight_layout()\n",
    "if not saving:\n",
    "    plt.show()\n",
    "else:\n",
    "    os.chdir(savefig_folder)\n",
    "    plt.savefig(savefig_fn, dpi=300)\n",
    "    print(f\"saved figure in \\n\\t{savefig_fn}\")\n",
    "\n",
    "    #     plt.close()"
   ]
  },
  {
   "cell_type": "code",
   "execution_count": null,
   "metadata": {
    "ExecuteTime": {
     "end_time": "2021-06-26T03:19:22.236109Z",
     "start_time": "2021-06-26T03:19:01.837Z"
    },
    "scrolled": true
   },
   "outputs": [],
   "source": [
    "fontsize=16\n",
    "#plot naive range at death and birth\n",
    "fig,axs=plt.subplots(ncols=2,figsize=(12,5))#(5,4))\n",
    "\n",
    "y_values_lst=[phi1_values,phi2_values,phi_sum_values, phi_diff_values]\n",
    "y_label_lst=[r'$\\phi_1$',r'$\\phi_2$',r'$\\phi_{sum}$',r'$\\phi_{diff}$']\n",
    "ax_lst=[0,0,1,1]\n",
    "c_lst=['C0','C1','C0','C1']\n",
    "\n",
    "for y_values,y_label,nax,color in zip(y_values_lst,y_label_lst,ax_lst,c_lst):\n",
    "    ax=axs[nax]\n",
    "    ax.plot(x_values,y_values,alpha=1.0,label=y_label,c=color,lw=2.5)\n",
    "    # plt.scatter(x_values[boo],range_values[boo],c='k',alpha=0.5,s=3)\n",
    "    ax.set_xlabel('time until annihilation (ms)',fontsize=fontsize)\n",
    "    ax.set_ylabel('signed phase (rad)',fontsize=fontsize)\n",
    "\n",
    "    ax.set_xlim([DT,1e1])\n",
    "#     ax.set_ylim([-np.pi/8,np.pi/8])\n",
    "    #     ax.set_xlim([1e-3,1e2])\n",
    "    ax.set_xscale('log')\n",
    "    # plt.yscale('log')\n",
    "    ax.tick_params(axis='both', which='major', labelsize=fontsize)\n",
    "    ax.tick_params(axis='both', which='minor', labelsize=1)\n",
    "    ax.legend(fontsize=fontsize)\n",
    "\n",
    "plt.tight_layout()\n",
    "# plt.show()\n",
    "# print(f\"\\ttime between two frames was {0.001} ms\")\n",
    "\n",
    "saving=False\n",
    "savefig_folder=f\"{nb_dir}/Figures/fine_death\"\n",
    "savefig_fn=f\"fine-death-range-phase.png\"\n",
    "plt.tight_layout()\n",
    "if not saving: \n",
    "    plt.show() \n",
    "else:\n",
    "    os.chdir(savefig_folder)\n",
    "    plt.savefig(savefig_fn, dpi=300)\n",
    "    print(f\"saved figure in \\n\\t{savefig_fn}\")\n",
    "#     plt.close()"
   ]
  },
  {
   "cell_type": "code",
   "execution_count": null,
   "metadata": {
    "ExecuteTime": {
     "end_time": "2021-06-26T03:19:22.236805Z",
     "start_time": "2021-06-26T03:19:01.843Z"
    }
   },
   "outputs": [],
   "source": [
    "fontsize=16\n",
    "#plot naive range at death and birth\n",
    "fig,axs=plt.subplots(ncols=2,figsize=(12,5))#(5,4))\n",
    "\n",
    "# y_values_lst=[dfm.phi1.values,dfm.phi2.values,dfm.phi_sum.values, dfm.phi_diff.values]\n",
    "# y_values_lst=[phi1_values,phi2_values,phi_sum_values, phi_diff_values]\n",
    "y_label_lst=[r'$\\phi_1$',r'$\\phi_2$',r'$\\phi_{sum}$',r'$\\phi_{diff}$']\n",
    "ax_lst=[0,0,1,1]\n",
    "c_lst=['C0','C1','C0','C1']\n",
    "\n",
    "#extract local particle values\n",
    "pid_lst=list(set(df_phases.pid.values))\n",
    "for pid in pid_lst[:10]:\n",
    "    boo=df_phases.pid==pid\n",
    "    y_values_lst=[df_phases[boo].phi1.values,df_phases[boo].phi2.values,df_phases[boo].phi_sum.values, df_phases[boo].phi_diff.values]\n",
    "    x_values=df_phases[boo].tdeath.values\n",
    "    for y_values,y_label,nax,color in zip(y_values_lst,y_label_lst,ax_lst,c_lst):\n",
    "        ax=axs[nax]\n",
    "        ax.plot(x_values,y_values,alpha=.3,label='_Hidden',c=color,lw=2.5)\n",
    "        # plt.scatter(x_values[boo],range_values[boo],c='k',alpha=0.5,s=3)\n",
    "        ax.set_xlabel('time until annihilation (ms)',fontsize=fontsize)\n",
    "        ax.set_ylabel('signed phase (rad)',fontsize=fontsize)\n",
    "\n",
    "        ax.set_xlim([DT,1e1])\n",
    "    #     ax.set_ylim([-np.pi/8,np.pi/8])\n",
    "        #     ax.set_xlim([1e-3,1e2])\n",
    "        ax.set_xscale('log')\n",
    "        # plt.yscale('log')\n",
    "        ax.tick_params(axis='both', which='major', labelsize=fontsize)\n",
    "        ax.tick_params(axis='both', which='minor', labelsize=1)\n",
    "    #     ax.legend(fontsize=fontsize)\n",
    "axs[0].set_title('phi_1 and phi_2 \\n',fontsize=fontsize)\n",
    "axs[1].set_title('phi_sum and phi_diff \\n',fontsize=fontsize)\n",
    "plt.tight_layout()\n",
    "# plt.show()\n",
    "# print(f\"\\ttime between two frames was {0.001} ms\")\n",
    "\n",
    "saving=False\n",
    "savefig_folder=f\"{nb_dir}/Figures\"\n",
    "savefig_fn=f\"fine-death-range-phase.png\"\n",
    "plt.tight_layout()\n",
    "if not saving: \n",
    "    plt.show() \n",
    "else:\n",
    "    os.chdir(savefig_folder)\n",
    "    plt.savefig(savefig_fn, dpi=300)\n",
    "    print(f\"saved figure in \\n\\t{savefig_fn}\")\n",
    "#     plt.close()"
   ]
  },
  {
   "cell_type": "code",
   "execution_count": null,
   "metadata": {
    "ExecuteTime": {
     "end_time": "2021-06-17T02:50:24.964067Z",
     "start_time": "2021-06-17T02:50:24.940780Z"
    }
   },
   "outputs": [],
   "source": []
  },
  {
   "cell_type": "code",
   "execution_count": null,
   "metadata": {
    "ExecuteTime": {
     "end_time": "2021-06-26T03:19:22.237586Z",
     "start_time": "2021-06-26T03:19:01.851Z"
    }
   },
   "outputs": [],
   "source": [
    "# #compute measures near annihilation\n",
    "# #input: df_ordered_interactions\n",
    "# min_duration=75 #ms\n",
    "# min_range=1. #cm\n",
    "# dsdpixel=ds/width #cm per pixel\n",
    "# use_min_duration=False\n",
    "# use_grad_voltage=True\n",
    "\n",
    "# pid_queue=list(df_ordered_interactions.pid.values)\n",
    "# pid_deathmate_dict=dict(zip(pid_queue,list(df_ordered_interactions.pid_deathmate.values)))\n",
    "# df_out_lst=[]\n",
    "# while len(pid_queue)>0:\n",
    "#     pid=pid_queue.pop(0)\n",
    "#     pid_deathmate=pid_deathmate_dict[pid]\n",
    "#     try:\n",
    "#         pid_queue.remove(pid_deathmate)\n",
    "#         #extract d1,d2\n",
    "#         d1=df[df.particle==pid].copy()\n",
    "#         d2=df[df.particle==pid_deathmate].copy()\n",
    "#         d1.index=d1.frame\n",
    "#         d2.index=d2.frame\n",
    "#         #compute ranges between\n",
    "#         range_values=compute_ranges_between(d1,d2)*dsdpixel\n",
    "#         length=t_to_death_values.shape[0]\n",
    "#         #compute x,y values\n",
    "#         if use_grad_voltage:\n",
    "#             t_to_death_values, phi1_values, phi2_values, phi_sum_values, phi_diff_values=compute_phase_angles_from_grad_voltage(d1,d2)\n",
    "            \n",
    "#         else:\n",
    "#             t_vals=d1['t'].values[:-length]\n",
    "#             t_to_death_values=np.max(t_vals)-t_vals\n",
    "        \n",
    "#         nobs=np.abs(phi1_values)[1:-1].shape[0]\n",
    "#         if nobs>1:\n",
    "#             #compute range_values\n",
    "#             range_values=compute_ranges_between(d1,d2)*dsdpixel\n",
    "#             #compute angle between velocities\n",
    "#             tdeath_values,angle_between_values=compute_angle_between_final_velocities(d1,d2)\n",
    "#             theta_values=angle_between_values\n",
    "#             #heretim\n",
    "#             #align range_values and theta_values\n",
    "#             boo=~np.isnan(theta_values)\n",
    "#             theta_values=theta_values[boo]        \n",
    "#             assert(range_values.shape[0]==t_to_death_values.shape[0])\n",
    "#             if use_min_duration:\n",
    "#                 #filter by min_duration\n",
    "#                 t_values=t_to_death_values[1:-1]\n",
    "#                 boo_keep = min_duration<=np.max(t_values)-np.min(t_values)\n",
    "#                 #filter by min_range\n",
    "#                 boo_keep &=min_range<=np.max(range_values)\n",
    "#             else:\n",
    "#                 boo_keep =min_range<=np.max(range_values)\n",
    "                \n",
    "#             if boo_keep:\n",
    "#                 if use_grad_voltage:\n",
    "#                     df_out=pd.DataFrame({\n",
    "#                         'pid':pid+0*t_values.astype('int'),\n",
    "#                         'pid_deathmate':pid_deathmate+0*t_values.astype('int'),\n",
    "#                         'tdeath':t_values,\n",
    "#                         'phi1':np.abs(phi1_values)[1:-1],\n",
    "#                         'phi2':np.abs(phi2_values)[1:-1],\n",
    "#                         'phi_sum':np.abs(phi_sum_values)[1:-1],\n",
    "#                         'phi_diff':np.abs(phi_diff_values)[1:-1],\n",
    "#                         'r':range_values[1:-1],\n",
    "#                         'theta':theta_values,\n",
    "#                     })\n",
    "#                 else:\n",
    "#                     df_out=pd.DataFrame({\n",
    "#                         'pid':pid+0*t_values.astype('int'),\n",
    "#                         'pid_deathmate':pid_deathmate+0*t_values.astype('int'),\n",
    "#                         'tdeath':t_values,\n",
    "#                         'r':range_values[1:-1],\n",
    "#                         'theta':theta_values,\n",
    "#                     })\n",
    "\n",
    "#                 #append x,y values to list\n",
    "#                 df_out_lst.append(df_out)\n",
    "#     except ValueError as e: #for catching ValueError: list.remove(x): x not in list\n",
    "#         pass"
   ]
  },
  {
   "cell_type": "code",
   "execution_count": null,
   "metadata": {
    "ExecuteTime": {
     "end_time": "2021-06-17T02:38:48.619065Z",
     "start_time": "2021-06-17T02:38:48.577249Z"
    }
   },
   "outputs": [],
   "source": []
  },
  {
   "cell_type": "markdown",
   "metadata": {},
   "source": [
    "__Result__\n",
    "- When the distance between tips is ~0.4cm in the Fenton-Karma model, the undirected force is comparable to the inward directed force that is responsible for annihilation.\n",
    "- "
   ]
  },
  {
   "cell_type": "markdown",
   "metadata": {
    "heading_collapsed": true
   },
   "source": [
    "# visualize angle between final velocities"
   ]
  },
  {
   "cell_type": "code",
   "execution_count": null,
   "metadata": {
    "ExecuteTime": {
     "end_time": "2021-06-26T03:19:22.238345Z",
     "start_time": "2021-06-26T03:19:01.862Z"
    },
    "hidden": true
   },
   "outputs": [],
   "source": [
    "pid_lst=df_ordered_interactions.pid.values\n",
    "pid_mate_lst=df_ordered_interactions.pid_deathmate.values\n",
    "# pid_mate_lst=df_ordered_interactions.pid_birthmate.values\n",
    "pid_mate_dict=dict(zip(pid_lst,pid_mate_lst))"
   ]
  },
  {
   "cell_type": "code",
   "execution_count": null,
   "metadata": {
    "ExecuteTime": {
     "end_time": "2021-06-26T03:19:22.239077Z",
     "start_time": "2021-06-26T03:19:01.868Z"
    },
    "hidden": true
   },
   "outputs": [],
   "source": [
    "pid=pid_lst[0]\n",
    "pid_mate=pid_mate_dict[pid]"
   ]
  },
  {
   "cell_type": "code",
   "execution_count": null,
   "metadata": {
    "ExecuteTime": {
     "end_time": "2021-06-26T03:19:22.240439Z",
     "start_time": "2021-06-26T03:19:01.873Z"
    },
    "hidden": true
   },
   "outputs": [],
   "source": [
    "#extract d1,d2\n",
    "d1=df[df.particle==pid].copy()\n",
    "d2=df[df.particle==pid_mate].copy()\n",
    "d1.index=d1.frame\n",
    "d2.index=d2.frame\n",
    "\n",
    "tdeath_values,angle_between_values=compute_angle_between_final_velocities(d1,d2)\n",
    "\n",
    "\n",
    "df_out=pd.DataFrame({\n",
    "    'tdeath':tdeath_values,\n",
    "    'theta':angle_between_values,\n",
    "    'pid':pid})"
   ]
  },
  {
   "cell_type": "code",
   "execution_count": null,
   "metadata": {
    "ExecuteTime": {
     "end_time": "2021-06-26T03:19:22.241157Z",
     "start_time": "2021-06-26T03:19:01.878Z"
    },
    "hidden": true
   },
   "outputs": [],
   "source": [
    "#compute ranges between\n",
    "compute_ranges_between=get_compute_ranges_between(width=width,height=height)\n",
    "tdeath_values,angle_between_values=compute_angle_between_final_velocities(d1,d2)\n",
    "range_values=compute_ranges_between(d1,d2)\n",
    "\n",
    "# compute_relative_velocities\n",
    "# compute_phase_angles_from_grad_voltage\n",
    "#TODO: filter any deaths that never exhibit ranges exceeding range_threshold\n"
   ]
  },
  {
   "cell_type": "code",
   "execution_count": null,
   "metadata": {
    "ExecuteTime": {
     "end_time": "2021-06-16T20:50:55.926912Z",
     "start_time": "2021-06-16T20:50:55.889532Z"
    },
    "hidden": true
   },
   "outputs": [],
   "source": []
  },
  {
   "cell_type": "code",
   "execution_count": null,
   "metadata": {
    "ExecuteTime": {
     "end_time": "2021-06-26T03:19:22.241843Z",
     "start_time": "2021-06-26T03:19:01.887Z"
    },
    "hidden": true
   },
   "outputs": [],
   "source": [
    "#am i indexing by time?\n",
    "dd=d1[['x','y']].copy()\n",
    "dd[['xx','yy']]=d2[['x','y']]"
   ]
  },
  {
   "cell_type": "code",
   "execution_count": null,
   "metadata": {
    "ExecuteTime": {
     "end_time": "2021-06-26T03:19:22.242456Z",
     "start_time": "2021-06-26T03:19:01.892Z"
    },
    "hidden": true
   },
   "outputs": [],
   "source": [
    "# compute displacement unit vector from tip 1 to tip 2\n",
    "xy1_values=np.array(list(zip(dd['x'],dd['y'])))\n",
    "xy2_values=np.array(list(zip(dd['xx'],dd['yy'])))\n",
    "\n",
    "#I think this length check is unnecessary\n",
    "s1=xy1_values.shape[0]\n",
    "s2=xy2_values.shape[0]\n",
    "xy2_minus_xy1_values=np.zeros((np.min((s1,s2)),2))\n",
    "\n",
    "#compute displacements between\n",
    "for j in range(xy2_minus_xy1_values.shape[0]):\n",
    "    xy2_minus_xy1_values[j]=subtract_pbc(xy2_values[j],xy1_values[j])"
   ]
  },
  {
   "cell_type": "code",
   "execution_count": null,
   "metadata": {
    "ExecuteTime": {
     "end_time": "2021-06-26T03:19:22.243114Z",
     "start_time": "2021-06-26T03:19:01.898Z"
    },
    "hidden": true
   },
   "outputs": [],
   "source": [
    "range_values.shape, tdeath_values.shape, angle_between_values.shape"
   ]
  },
  {
   "cell_type": "code",
   "execution_count": null,
   "metadata": {
    "ExecuteTime": {
     "end_time": "2021-06-26T03:19:22.243801Z",
     "start_time": "2021-06-26T03:19:01.903Z"
    },
    "hidden": true
   },
   "outputs": [],
   "source": [
    "boo=np.isnan(angle_between_values)\n",
    "angle_between_values=angle_between_values[boo]\n",
    "tdeath_values=tdeath_values[boo]\n",
    "tdeath_values.shape"
   ]
  },
  {
   "cell_type": "code",
   "execution_count": null,
   "metadata": {
    "ExecuteTime": {
     "end_time": "2021-06-26T03:19:22.244377Z",
     "start_time": "2021-06-26T03:19:01.908Z"
    },
    "hidden": true
   },
   "outputs": [],
   "source": [
    "compute_velo"
   ]
  },
  {
   "cell_type": "code",
   "execution_count": null,
   "metadata": {
    "ExecuteTime": {
     "end_time": "2021-06-26T03:19:22.244942Z",
     "start_time": "2021-06-26T03:19:01.914Z"
    },
    "hidden": true
   },
   "outputs": [],
   "source": [
    "#TODO: augment df_out with ^that \n",
    "pid_queue=list(df_ordered_interactions.pid.values)\n",
    "len(pid_queue)"
   ]
  },
  {
   "cell_type": "code",
   "execution_count": null,
   "metadata": {
    "ExecuteTime": {
     "end_time": "2021-06-26T03:19:22.245578Z",
     "start_time": "2021-06-26T03:19:01.919Z"
    },
    "hidden": true
   },
   "outputs": [],
   "source": [
    "#iterate over all trajectories in the pid_lst\n",
    "min_duration=50 #ms\n",
    "min_range=1 #cm\n",
    "pid_queue=list(df_ordered_interactions.pid.values)\n",
    "df_out_lst=[]\n",
    "while len(pid_queue)>0:\n",
    "    pid=pid_queue.pop(0)\n",
    "    pid_mate=pid_mate_dict[pid]\n",
    "    try:\n",
    "        pid_queue.remove(pid_mate)\n",
    "        #extract d1,d2\n",
    "        d1=df[df.particle==pid].copy()\n",
    "        d2=df[df.particle==pid_mate].copy()\n",
    "        d1.index=d1.frame\n",
    "        d2.index=d2.frame\n",
    "\n",
    "        tdeath_values,angle_between_values=compute_angle_between_final_velocities(d1,d2)\n",
    "        \n",
    "        duration=np.max(tdeath_values)-np.min(tdeath_values)\n",
    "        use_event=duration>min_duration\n",
    "        df_out=pd.DataFrame({\n",
    "            'tau':tdeath_values,\n",
    "            'theta':angle_between_values,\n",
    "            'pid':pid})\n",
    "        #append x,y values to list\n",
    "        df_out_lst.append(df_out)\n",
    "    except ValueError as e:\n",
    "        pass\n",
    "\n",
    "df_deaths=pd.concat(df_out_lst)\n",
    "df_deaths.dropna(inplace=True)"
   ]
  },
  {
   "cell_type": "code",
   "execution_count": null,
   "metadata": {
    "ExecuteTime": {
     "end_time": "2021-06-26T03:19:22.246407Z",
     "start_time": "2021-06-26T03:19:01.925Z"
    },
    "hidden": true
   },
   "outputs": [],
   "source": [
    "df_out.head()"
   ]
  },
  {
   "cell_type": "code",
   "execution_count": null,
   "metadata": {
    "ExecuteTime": {
     "end_time": "2021-06-26T03:19:22.247274Z",
     "start_time": "2021-06-26T03:19:01.930Z"
    },
    "hidden": true
   },
   "outputs": [],
   "source": [
    "#TODO: plot xy values for pid in list\n",
    "#TODO: compute/plot average over particles\n",
    "N=len(list(set(df_phases.pid.values)))\n",
    "dfm=df_deaths.groupby('tau').mean()\n",
    "x_values=dfm.index.values\n",
    "y_values=dfm.theta.values\n",
    "plt.plot(x_values,y_values)\n",
    "plt.xlim([0,30])\n",
    "print(\"plotting averages\")\n",
    "plt.show()"
   ]
  },
  {
   "cell_type": "code",
   "execution_count": null,
   "metadata": {
    "ExecuteTime": {
     "end_time": "2021-06-26T03:19:22.248218Z",
     "start_time": "2021-06-26T03:19:01.936Z"
    },
    "hidden": true
   },
   "outputs": [],
   "source": [
    "plt.plot(tdeath_values,angle_between_values)\n",
    "# plt.xlim([DT,3e1])"
   ]
  },
  {
   "cell_type": "code",
   "execution_count": null,
   "metadata": {
    "ExecuteTime": {
     "end_time": "2021-06-26T03:19:22.249079Z",
     "start_time": "2021-06-26T03:19:01.941Z"
    },
    "hidden": true
   },
   "outputs": [],
   "source": [
    "#iterate over all annihilation events computing/plotting the shortest trajectory if it is long enough and if it gets further than a certain range\n",
    "saving=True\n",
    "savefig_folder=f\"{nb_dir}/Figures\"\n",
    "savefig_fn=f\"angles-between-deaths.png\"\n",
    "fontsize=16\n",
    "bins=6\n",
    "#plot naive range at death and birth\n",
    "fig,axs=plt.subplots(ncols=2,figsize=(12,4))\n",
    "\n",
    "# y_values_lst=[dfm.phi1.values,dfm.phi2.values,dfm.phi_sum.values, dfm.phi_diff.values]\n",
    "# y_values_lst=[phi1_values,phi2_values,phi_sum_values, phi_diff_values]\n",
    "y_label_lst=[r'$\\vartheta$']\n",
    "ax_lst=[1]\n",
    "c_lst=['gray']\n",
    "angle_threshold=2.3\n",
    "val_lst=[]\n",
    "#extract local particle values\n",
    "pid_lst=list(set(df_deaths.pid.values))\n",
    "for pid in pid_lst:#[:10]:\n",
    "    boo=df_deaths.pid==pid\n",
    "    y_values_lst=[df_deaths[boo].theta.values]\n",
    "    x_values=df_deaths[boo].tau.values\n",
    "    for y_values,y_label,nax,color in zip(y_values_lst,y_label_lst,ax_lst,c_lst):\n",
    "#         if (y_values[0]>=angle_threshold) or (y_values[1]>=angle_threshold):\n",
    "        if not (y_values[:3]<angle_threshold).any():# or (y_values[1]>=angle_threshold):\n",
    "            ax=axs[nax]\n",
    "            ax.plot(x_values,y_values,alpha=.3,label='_Hidden',c=color,lw=2.5)\n",
    "            # plt.scatter(x_values[boo],range_values[boo],c='k',alpha=0.5,s=3)\n",
    "            \n",
    "            val_lst.append(y_values[0])\n",
    "\n",
    "            \n",
    "ax.set_xlabel('time until annihilation (ms)',fontsize=fontsize)\n",
    "#             ax.set_ylabel(r'$\\vartheta$ (rad)',fontsize=fontsize)\n",
    "ax.set_ylabel('angle between\\nfinal velocities (rad)',fontsize=fontsize)\n",
    "\n",
    "ax.set_xlim([DT,1e1])\n",
    "#     ax.set_ylim([-np.pi/8,np.pi/8])\n",
    "#     ax.set_xlim([1e-3,1e2])\n",
    "ax.set_xscale('log')\n",
    "#         plt.yscale('log')\n",
    "ax.tick_params(axis='both', which='major', labelsize=fontsize)\n",
    "ax.tick_params(axis='both', which='minor', labelsize=1)\n",
    "#     ax.legend(fontsize=fontsize)\n",
    "                \n",
    "\n",
    "# fontsize=16\n",
    "# fig,ax=plt.subplots(ncols=1,figsize=(5,4))\n",
    "ax=axs[0]\n",
    "ax.hist(val_lst,bins=bins,density=True,color='gray')\n",
    "#plot control\n",
    "xv=np.arange(0,np.pi,0.1)\n",
    "ax.plot(xv,xv*0.+1/np.pi,'k--')#,color='gray',)\n",
    "ax.set_xlabel('angle between\\nfinal velocities (radians)',fontsize=fontsize)\n",
    "ax.set_ylabel(r'prob. density',fontsize=fontsize)\n",
    "ax.tick_params(axis='both', which='major', labelsize=fontsize)\n",
    "ax.tick_params(axis='both', which='minor', labelsize=1)\n",
    "            \n",
    "plt.tight_layout()\n",
    "# plt.show()\n",
    "# print(f\"\\ttime between two frames was {0.001} ms\")\n",
    "plt.tight_layout()\n",
    "if not saving:\n",
    "    plt.show()\n",
    "else:\n",
    "    os.chdir(savefig_folder)\n",
    "    plt.savefig(savefig_fn, dpi=300)\n",
    "    print(f\"saved figure in \\n\\t{savefig_fn}\")\n",
    "#     plt.close()"
   ]
  },
  {
   "cell_type": "markdown",
   "metadata": {
    "heading_collapsed": true
   },
   "source": [
    "# keep your eye on the prize, tim"
   ]
  },
  {
   "cell_type": "code",
   "execution_count": null,
   "metadata": {
    "ExecuteTime": {
     "end_time": "2021-06-26T03:19:22.249810Z",
     "start_time": "2021-06-26T03:19:01.947Z"
    },
    "hidden": true
   },
   "outputs": [],
   "source": [
    "#TODO: filter any annihilations with tips that don't ever get further than range_threshold\n",
    "#TODO: filter any annihilations with tips that don't last longer than duration_threshold\n",
    "#TODO(later): make an angular histogram at several time points\n",
    "get_routine_traj_to_annihilation"
   ]
  },
  {
   "cell_type": "markdown",
   "metadata": {
    "heading_collapsed": true
   },
   "source": [
    "# compute all annihilation events for a folder of trajectories (expected run time ~10 min.)"
   ]
  },
  {
   "cell_type": "code",
   "execution_count": null,
   "metadata": {
    "ExecuteTime": {
     "end_time": "2021-06-26T03:19:22.250468Z",
     "start_time": "2021-06-26T03:19:01.954Z"
    },
    "hidden": true
   },
   "outputs": [],
   "source": [
    "# input_fn=search_for_file()\n",
    "input_fn=f\"/home/timothytyree/Documents/GitHub/care/notebooks/Data/initial-conditions-fk-200x200/param_set_8_ds_5.0_tmax_10_diffCoef_0.0005/Log/ic200x200.0.3_traj_sr_400_mem_0.csv\"\n",
    "ds=5\n",
    "width=200\n",
    "height=width\n",
    "\n",
    "df=pd.read_csv(input_fn);print(input_fn)\n",
    "DT=compute_DT(df,round_t_to_n_digits=3);print(f\"the time resolution is {DT} ms.\")\n",
    "DS=ds/width\n",
    "\n",
    "min_duration=20. #ms\n",
    "min_range   =1.  #cm\n",
    "\n",
    "kwargs={\n",
    "    'width':width,\n",
    "    'height':height,\n",
    "    'ds':ds,\n",
    "    'printing':False,\n",
    "    'min_range':min_range,\n",
    "    'min_duration':min_duration,\n",
    "}\n",
    "routine_traj_to_annihilation=get_routine_traj_to_annihilation(**kwargs)\n",
    "\n",
    "def routine(input_fn):\n",
    "    return routine_traj_to_annihilation(input_fn)"
   ]
  },
  {
   "cell_type": "code",
   "execution_count": null,
   "metadata": {
    "ExecuteTime": {
     "end_time": "2021-06-26T03:19:22.251108Z",
     "start_time": "2021-06-26T03:19:01.959Z"
    },
    "hidden": true
   },
   "outputs": [],
   "source": [
    "#find all files matching pattern\n",
    "trgt_raw='_traj_'\n",
    "trgt=input_fn[input_fn.find(trgt_raw):]\n",
    "input_fn_lst=get_all_files_matching_pattern(file=input_fn, trgt=trgt)\n",
    "print(f\"computing features of annihilation events for {len(input_fn_lst)} trajectory .csv files...\")\n",
    "\n",
    "#all CPU version\n",
    "b = db.from_sequence(input_fn_lst, npartitions=12).map(routine)\n",
    "start = time.time()\n",
    "retval = list(b)\n",
    "print(f\"run time for computing features of annihilation events was {time.time()-start:.2f} seconds.\")\n",
    "beep(3)"
   ]
  },
  {
   "cell_type": "code",
   "execution_count": null,
   "metadata": {
    "ExecuteTime": {
     "end_time": "2021-06-26T03:19:22.251938Z",
     "start_time": "2021-06-26T03:19:01.963Z"
    },
    "hidden": true
   },
   "outputs": [],
   "source": [
    "#merge all csv files into one big-ol' csv file\n",
    "list_of_files=retval\n",
    "file_out=os.path.join(os.path.dirname(input_fn),f'annihilations_minr_{min_range}_mindur_{min_duration}.csv')\n",
    "output_fn=produce_one_csv(list_of_files, file_out, encoding=\"utf-8\")\n",
    "print('results saved in:')\n",
    "print(output_fn)"
   ]
  },
  {
   "cell_type": "markdown",
   "metadata": {
    "heading_collapsed": true
   },
   "source": [
    "# compute all creation events for a folder of trajectories (expected run time ~10 min.)"
   ]
  },
  {
   "cell_type": "code",
   "execution_count": null,
   "metadata": {
    "ExecuteTime": {
     "end_time": "2021-06-26T03:19:22.252808Z",
     "start_time": "2021-06-26T03:19:01.967Z"
    },
    "hidden": true
   },
   "outputs": [],
   "source": [
    "# input_fn=search_for_file()\n",
    "input_fn=f\"/home/timothytyree/Documents/GitHub/care/notebooks/Data/initial-conditions-fk-200x200/param_set_8_ds_5.0_tmax_10_diffCoef_0.0005/Log/ic200x200.0.3_traj_sr_400_mem_0.csv\"\n",
    "ds=5\n",
    "width=200\n",
    "height=width\n",
    "\n",
    "df=pd.read_csv(input_fn);print(input_fn)\n",
    "DT=compute_DT(df,round_t_to_n_digits=3);print(f\"the time resolution is {DT} ms.\")\n",
    "DS=ds/width\n",
    "\n",
    "min_duration=20. #ms\n",
    "min_range   =1.  #cm\n",
    "\n",
    "kwargs={\n",
    "    'width':width,\n",
    "    'height':height,\n",
    "    'ds':ds,\n",
    "    'printing':False,\n",
    "    'min_range':min_range,\n",
    "    'min_duration':min_duration,\n",
    "}\n",
    "routine_traj_to_creation=get_routine_traj_to_creation(**kwargs)\n",
    "\n",
    "def routine(input_fn):\n",
    "    return routine_traj_to_creation(input_fn)"
   ]
  },
  {
   "cell_type": "code",
   "execution_count": null,
   "metadata": {
    "ExecuteTime": {
     "end_time": "2021-06-26T03:19:22.253706Z",
     "start_time": "2021-06-26T03:19:01.971Z"
    },
    "hidden": true
   },
   "outputs": [],
   "source": [
    "#find all files matching pattern\n",
    "trgt_raw='_traj_'\n",
    "trgt=input_fn[input_fn.find(trgt_raw):]\n",
    "input_fn_lst=get_all_files_matching_pattern(file=input_fn, trgt=trgt)\n",
    "print(f\"computing features of annihilation events for {len(input_fn_lst)} trajectory .csv files...\")\n",
    "\n",
    "#all CPU version\n",
    "b = db.from_sequence(input_fn_lst, npartitions=12).map(routine)\n",
    "start = time.time()\n",
    "retval = list(b)\n",
    "print(f\"run time for computing features of annihilation events was {time.time()-start:.2f} seconds.\")\n",
    "beep(3)"
   ]
  },
  {
   "cell_type": "code",
   "execution_count": null,
   "metadata": {
    "ExecuteTime": {
     "end_time": "2021-06-26T03:19:22.254586Z",
     "start_time": "2021-06-26T03:19:01.975Z"
    },
    "hidden": true
   },
   "outputs": [],
   "source": [
    "#merge all csv files into one big-ol' csv file\n",
    "list_of_files=retval\n",
    "file_out=os.path.join(os.path.dirname(input_fn),f'creations_minr_{min_range}_mindur_{min_duration}.csv')\n",
    "output_fn=produce_one_csv(list_of_files, file_out, encoding=\"utf-8\")\n",
    "print('results saved in:')\n",
    "print(output_fn)"
   ]
  },
  {
   "cell_type": "markdown",
   "metadata": {},
   "source": [
    "# TODO: compute drdt versus r for the ensemble averaged approach/departure for the annihilation/creation events from the full models,\n",
    "and then,\n",
    "- TODO: repeat for the particle model? No... this is the apparent force/drag profile for a given trial."
   ]
  },
  {
   "cell_type": "markdown",
   "metadata": {},
   "source": [
    "# TODO: move nice angular histograms from diffusion-msd-pipeline.ipynb here\n",
    "and then,\n",
    "- TODO: automate generation of plots from the aggregated .csv "
   ]
  },
  {
   "cell_type": "markdown",
   "metadata": {
    "heading_collapsed": true
   },
   "source": [
    "# TODO: dev angles between relative velocities"
   ]
  },
  {
   "cell_type": "code",
   "execution_count": null,
   "metadata": {
    "ExecuteTime": {
     "end_time": "2021-06-26T03:19:22.255317Z",
     "start_time": "2021-06-26T03:19:01.980Z"
    },
    "hidden": true
   },
   "outputs": [],
   "source": [
    "compute_angle_between_initial_velocities = get_compute_angle_between_initial_velocities(width, height)\n"
   ]
  },
  {
   "cell_type": "code",
   "execution_count": null,
   "metadata": {
    "ExecuteTime": {
     "end_time": "2021-06-26T03:19:22.256084Z",
     "start_time": "2021-06-26T03:19:01.984Z"
    },
    "hidden": true
   },
   "outputs": [],
   "source": [
    "input_fn=search_for_file()"
   ]
  },
  {
   "cell_type": "code",
   "execution_count": null,
   "metadata": {
    "ExecuteTime": {
     "end_time": "2021-06-26T03:19:22.257199Z",
     "start_time": "2021-06-26T03:19:01.988Z"
    },
    "hidden": true
   },
   "outputs": [],
   "source": [
    "##########################################\n",
    "# Creation\n",
    "##########################################\n",
    "# def compute_creation_events(\n",
    "input_fn,\n",
    "width,\n",
    "height,\n",
    "ds,\n",
    "range_threshold=1.\n",
    "min_duration=20.\n",
    "min_range=1.\n",
    "round_t_to_n_digits=3\n",
    "use_min_duration=True\n",
    "use_grad_voltage=False\n",
    "printing=True\n",
    "# \t\t\t\t\t\t\t\t**kwargs):\n",
    "# \t'''input_fn is a string locating the directory of a _trajectories .csv file.\n",
    "# \tReturns pandas.Dataframe instance.\n",
    "# \tExample Usage:\n",
    "# \tinput_fn=f\"/home/timothytyree/Documents/GitHub/care/notebooks/Data/initial-conditions-fk-200x200/param_set_8_ds_5.0_tmax_10_diffCoef_0.0005/Log/ic200x200.0.3_traj_sr_400_mem_0.csv\"\n",
    "# \tdf_phases=compute_creation_events(input_fn,width,height,ds)#,**kwargs)\n",
    "# \t'''\n",
    "# # original default values that worked for the Fenton-Karma model...\n",
    "#     range_threshold=1.#cm\n",
    "#     #compute measures near creation\n",
    "#     #input: df_ordered_interactions\n",
    "#     min_duration=20#150 #ms\n",
    "#     min_range=1. #cm\n",
    "#     use_min_duration=True#broken for false\n",
    "#     use_grad_voltage=False\n",
    "df=pd.read_csv(input_fn)\n",
    "DT = compute_DT(df, round_t_to_n_digits=round_t_to_n_digits)\n",
    "if printing:\n",
    "    print(f\"the time resolution is {DT} ms.\")\n",
    "\n",
    "dsdpixel = ds / width  #cm per pixel\n",
    "DS = dsdpixel\n",
    "#compile jit\n",
    "compute_angle_between_initial_velocities = get_compute_angle_between_initial_velocities(width, height)\n",
    "compute_ranges_between = get_compute_ranges_between(width=width,height=height)\n",
    "\n",
    "# birth_ranges,birth_ranges,DT=return_bd_ranges(input_fn,DS,round_t_to_n_digits=3)\n",
    "#compute interactions\n",
    "df_interactions = compute_df_interactions(input_fn, DS=DS)\n",
    "df_interactions.dropna(inplace=True)\n",
    "birth_ranges = DS * df_interactions.rT.values\n",
    "birth_ranges = DS * df_interactions.r0.values\n",
    "\n",
    "#filter any births that occur at ranges exceeding range_threshold\n",
    "boo = df_interactions.rT * DS < range_threshold\n",
    "df_ordered_interactions = df_interactions[boo].sort_values('Tavg',\n",
    "                                                           ascending=False)\n",
    "\n",
    "#compute the phase time series between pid and pid_birthmate\n",
    "#find last zero for when phi1==0\n",
    "#compute phi2 at that time using linear interpolation\n",
    "#append phi2 to dphi_lst... proceed to the next particle\n",
    "pid_queue = list(df_ordered_interactions.pid.values)\n",
    "pid_queue=pid_queue[:5]\n",
    "pid_birthmate_dict = dict(\n",
    "    zip(pid_queue, list(df_ordered_interactions.pid_birthmate.values)))\n",
    "df_out_lst = []\n",
    "while len(pid_queue) > 0:\n",
    "    pid = pid_queue.pop(0)\n",
    "    pid_birthmate = pid_birthmate_dict[pid]\n",
    "    try:\n",
    "        pid_queue.remove(pid_birthmate)\n",
    "        #extract d1,d2\n",
    "        d1 = df[df.particle == pid].copy()\n",
    "        d2 = df[df.particle == pid_birthmate].copy()\n",
    "        d1.index = d1.frame\n",
    "        d2.index = d2.frame\n",
    "        #compute ranges between\n",
    "        range_values = compute_ranges_between(d1, d2) * dsdpixel\n",
    "        length = range_values.shape[0]\n",
    "        #compute x,y values\n",
    "        if use_grad_voltage:\n",
    "            t_to_birth_values, phi1_values, phi2_values, phi_sum_values, phi_diff_values = compute_phase_angles_from_grad_voltage(\n",
    "                d1, d2)\n",
    "        else:\n",
    "            t_vals = d1['t'].values[-length:]\n",
    "            t_to_birth_values = t_vals - np.min(t_vals)\n",
    "\n",
    "        nobs = range_values[1:-1].shape[0]\n",
    "        if nobs > 1:\n",
    "            #compute angle between velocities\n",
    "            tbirth_values, angle_between_values = compute_angle_between_initial_velocities(d1, d2)\n",
    "            theta_values = angle_between_values\n",
    "            #heretim\n",
    "            #align range_values and theta_values\n",
    "            boo = ~np.isnan(theta_values)\n",
    "            theta_values = theta_values[boo]\n",
    "            assert (range_values.shape[0] == t_to_birth_values.shape[0])\n",
    "            if use_min_duration:\n",
    "                #filter by min_duration\n",
    "                t_values = t_to_birth_values[1:-1]\n",
    "                boo_keep = min_duration <= np.max(t_values) - np.min(\n",
    "                    t_values)\n",
    "                #filter by min_range\n",
    "                boo_keep &= min_range <= np.max(range_values)\n",
    "            else:\n",
    "                boo_keep = min_range <= np.max(range_values)\n",
    "\n",
    "            if boo_keep:\n",
    "                if use_grad_voltage:\n",
    "                    df_out = pd.DataFrame({\n",
    "                        'pid':\n",
    "                        pid + 0 * t_values.astype('int'),\n",
    "                        'pid_birthmate':\n",
    "                        pid_birthmate + 0 * t_values.astype('int'),\n",
    "                        'tbirth':\n",
    "                        np.around(t_values,round_t_to_n_digits),\n",
    "                        'phi1':\n",
    "                        np.abs(phi1_values)[1:-1],\n",
    "                        'phi2':\n",
    "                        np.abs(phi2_values)[1:-1],\n",
    "                        'phi_sum':\n",
    "                        np.abs(phi_sum_values)[1:-1],\n",
    "                        'phi_diff':\n",
    "                        np.abs(phi_diff_values)[1:-1],\n",
    "                        'r':\n",
    "                        range_values[1:-1],\n",
    "                        'theta':\n",
    "                        theta_values,\n",
    "                    })\n",
    "                else:\n",
    "                    df_out = pd.DataFrame({\n",
    "                        'pid':\n",
    "                        pid + 0 * t_values.astype('int'),\n",
    "                        'pid_birthmate':\n",
    "                        pid_birthmate + 0 * t_values.astype('int'),\n",
    "                        'tbirth':\n",
    "                        np.around(t_values,round_t_to_n_digits),\n",
    "                        'r':\n",
    "                        range_values[1:-1],\n",
    "                        'theta':\n",
    "                        theta_values,\n",
    "                    })\n",
    "\n",
    "                #append x,y values to list\n",
    "                df_out_lst.append(df_out)\n",
    "    except ValueError as e:  #for catching ValueError: list.remove(x): x not in list\n",
    "        pass\n",
    "if printing:\n",
    "    print(f\"the number of trials appended to df_out_lst is {len(df_out_lst)}\")\n",
    "    assert (len(df_out_lst) > 0)\n",
    "if not (len(df_out_lst) > 0):\n",
    "    return None\n",
    "# t_to_birth_values.shape, range_values.shape, theta_values.shape, d1[\n",
    "#     't'].values.shape, d2['t'].values.shape\n",
    "df_phases = pd.concat(df_out_lst)"
   ]
  },
  {
   "cell_type": "code",
   "execution_count": null,
   "metadata": {
    "ExecuteTime": {
     "end_time": "2021-06-26T03:19:22.258045Z",
     "start_time": "2021-06-26T03:19:01.992Z"
    },
    "hidden": true
   },
   "outputs": [],
   "source": [
    "# compute_angle_between_initial_velocities(d1, d2)\n",
    "d2.head()"
   ]
  },
  {
   "cell_type": "code",
   "execution_count": null,
   "metadata": {
    "ExecuteTime": {
     "end_time": "2021-06-26T03:19:22.258940Z",
     "start_time": "2021-06-26T03:19:01.996Z"
    },
    "hidden": true
   },
   "outputs": [],
   "source": [
    "def get_compute_initial_inout_angles(width,height):\n",
    "    subtract_pbc=get_subtract_pbc(width=width,height=height)\n",
    "    def compute_initial_inout_angles(d1,d2):\n",
    "        '''computes the unsigned angles between the initial velocity of d1 near birth for one tip pair.\n",
    "        Updates d1,d2 with fields.  aligns locations by index.  supposes index is the field, frame \n",
    "        Example Usage:\n",
    "        compute_initial_inout_angles=get_compute_initial_inout_angles(width,height)\n",
    "        tbirth_values,angle_values=compute_initial_inout_angles(d1,d2)\n",
    "        '''\n",
    "        #compute displacement of d1 with pbc\n",
    "        xy_values=np.array(list(zip(d1['x'],d1['y'])))\n",
    "        dshifted=d1.shift(1).copy()\n",
    "        # dshifted=d1.shift(-1).copy()\n",
    "        xy_next_values=np.array(list(zip(dshifted['x'],dshifted['y'])))\n",
    "        dxy1_values=np.zeros_like(xy_values)+np.nan\n",
    "        # compute displacement unit vector from tip 1 to tip 2\n",
    "        xy_values=np.array(list(zip(d1['x'],d1['y'])))\n",
    "        dshifted=d1.shift(1).copy()\n",
    "        # dshifted=d1.shift(-1).copy()\n",
    "        xy_next_values=np.array(list(zip(dshifted['x'],dshifted['y'])))\n",
    "        dxy1_values=np.zeros_like(xy_values)+np.nan\n",
    "        #compute displacements between\n",
    "        for j in range(dxy1_values.shape[0]):\n",
    "            dxy1_values[j]=subtract_pbc(xy_next_values[j],xy_values[j])\n",
    "        d1['dx']=dxy1_values[:,0]\n",
    "        d1['dy']=dxy1_values[:,1]\n",
    "        d1['dt']=d1['t'].diff().shift(-1).iloc[1:-1]\n",
    "        # d1[['dx','dy','dt']]=d1[['x','y','t']].diff().shift(-1).iloc[1:-1]\n",
    "        d1['displacement']=np.sqrt(d1['dx']**2+d1['dy']**2)\n",
    "        d1['dx_hat']=d1['dx']/d1['displacement']\n",
    "#         d1['dy_hat']=d1['dy']/d1['displacement']\n",
    "\n",
    "        #compute COM relative to d1\n",
    "        d1['x2']=d2['x']\n",
    "        d1['y2']=d2['y']\n",
    "        xy1_values=np.array(list(zip(d1['x'],d1['y'])))\n",
    "        xy2_values=np.array(list(zip(d1['x2'],d1['y2'])))\n",
    "        dxy12_values=np.zeros_like(xy1_values)+np.nan\n",
    "        #compute displacements between\n",
    "        for j in range(dxy12_values.shape[0]):\n",
    "            dxy12_values[j]=subtract_pbc(xy2_values[j],xy1_values[j])\n",
    "        d1['comx']=xy1_values[:,0]+dxy12_values[:,0]/2\n",
    "        d1['comy']=xy1_values[:,1]+dxy12_values[:,1]/2\n",
    "\n",
    "        #compute the radial unit vector of d1\n",
    "        d1['rx']=xy1_values[:,0]-d1['comx']\n",
    "        d1['ry']=xy1_values[:,1]-d1['comy']\n",
    "        d1['rx_hat']=d1['rx']/np.sqrt(d1['rx']**2+d1['ry']**2)\n",
    "        d1['ry_hat']=d1['ry']/np.sqrt(d1['rx']**2+d1['ry']**2)\n",
    "\n",
    "        #compute unsigned angle between velocity and the radial unit vector\n",
    "        # compute dot product between tip 1 and tip 2\n",
    "        cosine_series=d1['dx_hat']*d1['rx_hat']+d1['dy_hat']*d1['ry_hat']\n",
    "        d1['theta']=np.arccos(cosine_series)   #radians\n",
    "        d1.dropna(inplace=True)\n",
    "\n",
    "        angle_values=d1['theta'].values\n",
    "        tbirth_values=d1['t'].values-d1['t'].values[0] #ms\n",
    "        return tbirth_values,angle_values\n",
    "    return compute_initial_inout_angles"
   ]
  },
  {
   "cell_type": "code",
   "execution_count": null,
   "metadata": {
    "ExecuteTime": {
     "end_time": "2021-06-23T23:04:56.487172Z",
     "start_time": "2021-06-23T23:04:56.468839Z"
    },
    "hidden": true
   },
   "outputs": [],
   "source": []
  },
  {
   "cell_type": "code",
   "execution_count": null,
   "metadata": {
    "hidden": true
   },
   "outputs": [],
   "source": []
  }
 ],
 "metadata": {
  "kernelspec": {
   "display_name": "Python 3",
   "language": "python",
   "name": "python3"
  },
  "language_info": {
   "codemirror_mode": {
    "name": "ipython",
    "version": 3
   },
   "file_extension": ".py",
   "mimetype": "text/x-python",
   "name": "python",
   "nbconvert_exporter": "python",
   "pygments_lexer": "ipython3",
   "version": "3.8.7"
  },
  "toc": {
   "base_numbering": 1,
   "nav_menu": {},
   "number_sections": true,
   "sideBar": true,
   "skip_h1_title": false,
   "title_cell": "Table of Contents",
   "title_sidebar": "Contents",
   "toc_cell": false,
   "toc_position": {},
   "toc_section_display": true,
   "toc_window_display": true
  },
  "varInspector": {
   "cols": {
    "lenName": 16,
    "lenType": 16,
    "lenVar": 40
   },
   "kernels_config": {
    "python": {
     "delete_cmd_postfix": "",
     "delete_cmd_prefix": "del ",
     "library": "var_list.py",
     "varRefreshCmd": "print(var_dic_list())"
    },
    "r": {
     "delete_cmd_postfix": ") ",
     "delete_cmd_prefix": "rm(",
     "library": "var_list.r",
     "varRefreshCmd": "cat(var_dic_list()) "
    }
   },
   "types_to_exclude": [
    "module",
    "function",
    "builtin_function_or_method",
    "instance",
    "_Feature"
   ],
   "window_display": false
  }
 },
 "nbformat": 4,
 "nbformat_minor": 4
}
