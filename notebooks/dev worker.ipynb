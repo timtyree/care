{
 "cells": [
  {
   "cell_type": "markdown",
   "metadata": {},
   "source": [
    "# dev worker\n",
    "Tim Tyree<br>\n",
    "1.28.2021"
   ]
  },
  {
   "cell_type": "markdown",
   "metadata": {},
   "source": [
    "__Scrum/Outline of Worker Routine__\n",
    "\n",
    "- TODO:(now!) remote trajectory generation\n",
    "HT_condor will take a list of ints as parameters, some files that aren't too big, and will return a log file that recieved print statements.\n",
    "    - input: txt_id1, txt_id2, width=L, height=L\n",
    "    - output: one  (longest unwrapped trajectory)\n",
    "    \n",
    "hmm...\n",
    "- OR input: L, txt_id1_lst, txt_id2_lst, width=L, height=L\n",
    "- output: one  (longest unwrapped trajectory)\n",
    "\n",
    "\n",
    "- (later) local postprocessing (compute_msd_one_trial) and then (compute_diffcoeff_one_trial)\n",
    "\n",
    "- dependencies\n",
    "    - table_gener.py for LR model\n",
    "    - one_step method\n",
    "    - \n",
    "    \n",
    "- TODO: combine kernelA with tip_detection_kernel.  "
   ]
  },
  {
   "cell_type": "code",
   "execution_count": 1,
   "metadata": {
    "ExecuteTime": {
     "end_time": "2021-01-29T01:43:16.162358Z",
     "start_time": "2021-01-29T01:43:14.885170Z"
    }
   },
   "outputs": [],
   "source": [
    "# alias jtd=jt -t monokai -f fira -fs 13 -nf ptsans -nfs 11 -N -kl -cursw 5 -cursc r -cellw 95% -T\n",
    "#make plots in darkmode\n",
    "import seaborn as sns\n",
    "from jupyterthemes import jtplot\n",
    "jtplot.style(theme='monokai', context='notebook', ticks=True, grid=False)"
   ]
  },
  {
   "cell_type": "code",
   "execution_count": 2,
   "metadata": {
    "ExecuteTime": {
     "end_time": "2021-01-29T01:43:17.145678Z",
     "start_time": "2021-01-29T01:43:17.143124Z"
    }
   },
   "outputs": [],
   "source": [
    "# from worker.wlib.my_initialization import *\n",
    "# import matplotlib.pyplot as plt\n",
    "# # import worker\n",
    "\n",
    "# # import numpy as np, pandas as pd, matplotlib.pyplot as plt, os, sys\n",
    "\n",
    "# #automate the boring stuff\n",
    "# from IPython import utils\n",
    "# import time, os, sys, re, shutil\n",
    "# beep = lambda x: os.system(\"echo -n '\\\\a';sleep 0.2;\" * x)\n",
    "# if not 'nb_dir' in globals():\n",
    "#     nb_dir = os.getcwd()\n",
    "\n",
    "# %autocall 1\n",
    "# %load_ext autoreload\n",
    "# %autoreload 2"
   ]
  },
  {
   "cell_type": "code",
   "execution_count": null,
   "metadata": {
    "ExecuteTime": {
     "end_time": "2021-01-29T01:23:11.501959Z",
     "start_time": "2021-01-29T01:23:11.464869Z"
    }
   },
   "outputs": [],
   "source": []
  },
  {
   "cell_type": "code",
   "execution_count": 3,
   "metadata": {
    "ExecuteTime": {
     "end_time": "2021-01-29T01:43:18.046751Z",
     "start_time": "2021-01-29T01:43:18.044575Z"
    }
   },
   "outputs": [],
   "source": [
    "# from worker.wlib.utils.get_txt import get_txt"
   ]
  },
  {
   "cell_type": "markdown",
   "metadata": {},
   "source": [
    "\n",
    "1. kernelA\n",
    "    1. compute tips if stepno%save_every==0\n",
    "    2. half step V and Ca \n",
    "1. kernelB\n",
    "    1. full step gating variables with exact flow map\n",
    "    1. half step V and Ca\n",
    "    \n"
   ]
  },
  {
   "cell_type": "code",
   "execution_count": 4,
   "metadata": {
    "ExecuteTime": {
     "end_time": "2021-01-29T01:43:19.614527Z",
     "start_time": "2021-01-29T01:43:19.612162Z"
    }
   },
   "outputs": [],
   "source": [
    "#TODO: copy routine currently used for tip log generation into wlib\n",
    "#TODO: combine kernelA and tip detection kernel to return the tips\n",
    "#TODO(later): introduce boundary_condition_index, where bc_id=0 corresponds to periodic boundary conditions in both spatial dimensions\n"
   ]
  },
  {
   "cell_type": "code",
   "execution_count": null,
   "metadata": {
    "ExecuteTime": {
     "end_time": "2021-01-29T01:19:36.678782Z",
     "start_time": "2021-01-29T01:19:36.634705Z"
    }
   },
   "outputs": [],
   "source": []
  },
  {
   "cell_type": "markdown",
   "metadata": {},
   "source": [
    "# just dev in lib and cp lib worker/wlib"
   ]
  },
  {
   "cell_type": "code",
   "execution_count": 5,
   "metadata": {
    "ExecuteTime": {
     "end_time": "2021-01-29T01:43:23.569135Z",
     "start_time": "2021-01-29T01:43:22.147536Z"
    }
   },
   "outputs": [
    {
     "name": "stdout",
     "output_type": "stream",
     "text": [
      "Automatic calling is: Smart\n"
     ]
    }
   ],
   "source": [
    "from lib.my_initialization import *\n",
    "from lib.utils.utils_traj import *\n",
    "import trackpy\n",
    "from scipy import stats\n",
    "from lib.utils.operari import *\n",
    "from lib import *\n",
    "\n",
    "%autocall 1\n",
    "%load_ext autoreload\n",
    "%autoreload 2\n",
    "# awareness&chill"
   ]
  },
  {
   "cell_type": "code",
   "execution_count": 21,
   "metadata": {
    "ExecuteTime": {
     "end_time": "2021-01-29T01:57:35.188274Z",
     "start_time": "2021-01-29T01:57:21.640317Z"
    }
   },
   "outputs": [],
   "source": [
    "# #def worker_kernelA(\n",
    "# kitty=0\n",
    "# t_values=np.arange(tmin,tmax,dt)\n",
    "# for stepno,t in enumerate(t_values):\n",
    "#     for x in range(width):\n",
    "#         for y in range(height):\n",
    "#             if stepno%save_every==0:\n",
    "#                 #record tips\n",
    "#                 pass\n",
    "#             #half step voltage and calcium\n",
    "#             pass\n",
    "\n",
    "\n",
    "#get onestep method"
   ]
  },
  {
   "cell_type": "code",
   "execution_count": 13,
   "metadata": {
    "ExecuteTime": {
     "end_time": "2021-01-29T01:53:04.298374Z",
     "start_time": "2021-01-29T01:53:04.254254Z"
    }
   },
   "outputs": [],
   "source": [
    "def main(fn):\n",
    "    '''run_routine_log_to_msd returns where it saves unwrapped trajectories\n",
    "    fn is a .csv file name of a raw tip log\n",
    "    TODO: fix function nominclature for run_routine_log_to_msd everywhere/functionally\n",
    "    '''\n",
    "    # traj_fn = preprocess_log(fn)# wraps generate_track_tips_pbc\n",
    "    traj_fn = generate_track_tips_pbc(fn, save_fn=None)\n",
    "    input_file_name=traj_fn\n",
    "    output_file_name=input_file_name.replace('.csv',\"_unwrap.csv\")\n",
    "    retval_ignore= unwrap_trajectories(input_file_name, output_file_name)\n",
    "    #TODO: select only the longest trajectory (after unwrapping/preprocessing)\n",
    "    #TODO: write ^that trajectory as a csv and return it using the command line infrastructure\n",
    "    return output_file_name"
   ]
  },
  {
   "cell_type": "code",
   "execution_count": 14,
   "metadata": {
    "ExecuteTime": {
     "end_time": "2021-01-29T01:53:06.212186Z",
     "start_time": "2021-01-29T01:53:05.133818Z"
    }
   },
   "outputs": [
    {
     "name": "stdout",
     "output_type": "stream",
     "text": [
      "0\n"
     ]
    },
    {
     "data": {
      "text/plain": [
       "0"
      ]
     },
     "execution_count": 14,
     "metadata": {},
     "output_type": "execute_result"
    }
   ],
   "source": [
    "dsdpixel=0.025#cm/pixel  # area=width*height*dsdpixel**2\n",
    "dt=0.1# milliseconds\n",
    "DT = 2#ms between spiral tip frames\n",
    "save_every=int(DT/dt)\n",
    "tmin=100# milliseconds\n",
    "tmax=30*10**1#3# milliseconds"
   ]
  },
  {
   "cell_type": "code",
   "execution_count": 10,
   "metadata": {
    "ExecuteTime": {
     "end_time": "2021-01-29T01:35:06.943242Z",
     "start_time": "2021-01-29T01:34:47.920222Z"
    }
   },
   "outputs": [],
   "source": [
    "worker_dir=os.path.join(nb_dir,'worker')\n",
    "ic_fn=os.path.join(worker_dir,'ic/ic.npy')\n",
    "width=312;height=312;\n",
    "txt_id1=1;txt_id2=12\n",
    "txt= get_txt(txt_id1,txt_id2,width,height,worker_dir)\n",
    "# np.savez_compressed(ic_fn,[txt])\n",
    "\n"
   ]
  },
  {
   "cell_type": "code",
   "execution_count": 23,
   "metadata": {
    "ExecuteTime": {
     "end_time": "2021-01-29T01:58:33.016686Z",
     "start_time": "2021-01-29T01:58:32.920873Z"
    }
   },
   "outputs": [],
   "source": [
    "np.save(ic_fn,txt)\n"
   ]
  },
  {
   "cell_type": "code",
   "execution_count": 25,
   "metadata": {
    "ExecuteTime": {
     "end_time": "2021-01-29T01:58:53.514688Z",
     "start_time": "2021-01-29T01:58:53.474420Z"
    }
   },
   "outputs": [],
   "source": [
    "input_file_name=ic_fn\n",
    "save_fn=os.path.join(worker_dir,'log/Log.csv')\n",
    "\n",
    "# generate_track_tips_pbc(\n",
    "#     input_file_name,\n",
    "#     save_fn=save_fn,\n",
    "#     mem=0,\n",
    "#     sr=400,\n",
    "#     width=width,\n",
    "#     height=height,\n",
    "#     adaptive_step=0.5,\n",
    "#     adaptive_stop=1e-05,\n",
    "# #     **kwargs,\n",
    "# )"
   ]
  },
  {
   "cell_type": "code",
   "execution_count": 10,
   "metadata": {
    "ExecuteTime": {
     "end_time": "2021-01-29T01:48:30.860990Z",
     "start_time": "2021-01-29T01:48:30.813950Z"
    }
   },
   "outputs": [
    {
     "data": {
      "text/plain": [
       "'/Users/timothytyree/Documents/GitHub/care/notebooks/worker/ic/ic.npz'"
      ]
     },
     "execution_count": 10,
     "metadata": {},
     "output_type": "execute_result"
    }
   ],
   "source": [
    "ic_fn=\n",
    "ic_fn"
   ]
  },
  {
   "cell_type": "code",
   "execution_count": null,
   "metadata": {},
   "outputs": [],
   "source": [
    "generate_track_tips_pbc\n",
    "traj_fn = generate_track_tips_pbc(fn, save_fn=None)"
   ]
  },
  {
   "cell_type": "code",
   "execution_count": 27,
   "metadata": {
    "ExecuteTime": {
     "end_time": "2021-01-29T02:02:49.438799Z",
     "start_time": "2021-01-29T02:02:49.389332Z"
    }
   },
   "outputs": [],
   "source": [
    "from lib.routines.generate_tip_logs_LR_model_cy import *\n",
    "from lib.routines.kwargs_LR_model_cy import get_kwargs\n",
    "results_folder=worker_dir#os.path.join(worker_dir,'log')\n",
    "tmax_sec=.15\n",
    "def routine(ic):\n",
    "#     kwargs = get_kwargs(ic)   \n",
    "    kwargs = get_kwargs(ic, results_folder=results_folder)#,param_fn=param_fn)\n",
    "#     kwargs['V_threshold'] =  -50.#mV\n",
    "#     kwargs['dsdpixel']=0.025#ds/width\n",
    "#     kwargs['h']=0.1# kwargs['h']=0.01 for ds_1_param_set_8 for stability\n",
    "    kwargs['tmax_sec'] = tmax_sec #maximum time to be integrated in seconds\n",
    "    kwargs['tmax']= tmax_sec*10**3\n",
    "#     kwargs['K_o']=K_o#TODO: expose K_o to this level if it should be varied extensively\n",
    "    kwargsout = generate_tip_logs_from_ic(ic, **kwargs)\n",
    "    #     print(f\"completed birth_death_rates_from_ic: {ic}\")\n",
    "    #     print(f\"csv of spiral tip data stored in: {kwargs['completed_ic_dir']}\")\n",
    "#     return os.path.basename(ic)\n",
    "    return kwargsout#['data_dir_log']#output location"
   ]
  },
  {
   "cell_type": "code",
   "execution_count": 30,
   "metadata": {
    "ExecuteTime": {
     "end_time": "2021-01-29T02:05:00.362588Z",
     "start_time": "2021-01-29T02:05:00.191307Z"
    }
   },
   "outputs": [
    {
     "ename": "FileNotFoundError",
     "evalue": "[Errno 2] File luo_rudy_dt_0.1_arr39.csv does not exist: 'luo_rudy_dt_0.1_arr39.csv'",
     "output_type": "error",
     "traceback": [
      "\u001b[0;31m---------------------------------------------------------------------------\u001b[0m",
      "\u001b[0;31mFileNotFoundError\u001b[0m                         Traceback (most recent call last)",
      "\u001b[0;32m<ipython-input-30-cf60a764102c>\u001b[0m in \u001b[0;36m<module>\u001b[0;34m\u001b[0m\n\u001b[0;32m----> 1\u001b[0;31m \u001b[0mroutine\u001b[0m\u001b[0;34m(\u001b[0m\u001b[0mic_fn\u001b[0m\u001b[0;34m)\u001b[0m\u001b[0;34m\u001b[0m\u001b[0;34m\u001b[0m\u001b[0m\n\u001b[0m",
      "\u001b[0;32m<ipython-input-27-723733fbce80>\u001b[0m in \u001b[0;36mroutine\u001b[0;34m(ic)\u001b[0m\n\u001b[1;32m     12\u001b[0m     \u001b[0mkwargs\u001b[0m\u001b[0;34m[\u001b[0m\u001b[0;34m'tmax'\u001b[0m\u001b[0;34m]\u001b[0m\u001b[0;34m=\u001b[0m \u001b[0mtmax_sec\u001b[0m\u001b[0;34m*\u001b[0m\u001b[0;36m10\u001b[0m\u001b[0;34m**\u001b[0m\u001b[0;36m3\u001b[0m\u001b[0;34m\u001b[0m\u001b[0;34m\u001b[0m\u001b[0m\n\u001b[1;32m     13\u001b[0m \u001b[0;31m#     kwargs['K_o']=K_o#TODO: expose K_o to this level if it should be varied extensively\u001b[0m\u001b[0;34m\u001b[0m\u001b[0;34m\u001b[0m\u001b[0;34m\u001b[0m\u001b[0m\n\u001b[0;32m---> 14\u001b[0;31m     \u001b[0mkwargsout\u001b[0m \u001b[0;34m=\u001b[0m \u001b[0mgenerate_tip_logs_from_ic\u001b[0m\u001b[0;34m(\u001b[0m\u001b[0mic\u001b[0m\u001b[0;34m,\u001b[0m \u001b[0;34m**\u001b[0m\u001b[0mkwargs\u001b[0m\u001b[0;34m)\u001b[0m\u001b[0;34m\u001b[0m\u001b[0;34m\u001b[0m\u001b[0m\n\u001b[0m\u001b[1;32m     15\u001b[0m     \u001b[0;31m#     print(f\"completed birth_death_rates_from_ic: {ic}\")\u001b[0m\u001b[0;34m\u001b[0m\u001b[0;34m\u001b[0m\u001b[0;34m\u001b[0m\u001b[0m\n\u001b[1;32m     16\u001b[0m     \u001b[0;31m#     print(f\"csv of spiral tip data stored in: {kwargs['completed_ic_dir']}\")\u001b[0m\u001b[0;34m\u001b[0m\u001b[0;34m\u001b[0m\u001b[0;34m\u001b[0m\u001b[0m\n",
      "\u001b[0;32m~/Documents/GitHub/care/notebooks/lib/routines/generate_tip_logs_LR_model_cy.py\u001b[0m in \u001b[0;36mgenerate_tip_logs_from_ic\u001b[0;34m(initial_condition_dir, h, tmax, V_threshold, dsdpixel, tmin_early_stopping, save_every_n_frames, round_output_decimals, printing, logging, asserting, saving, data_dir_log, completed_ic_dir, print_log_dir, Ca_i_initial, Vmax, Vmin, **kwargs)\u001b[0m\n\u001b[1;32m     77\u001b[0m         \u001b[0;31m# from ..model.LR_model_optimized_w_Istim import get_one_step_map\u001b[0m\u001b[0;34m\u001b[0m\u001b[0;34m\u001b[0m\u001b[0;34m\u001b[0m\u001b[0m\n\u001b[1;32m     78\u001b[0m         \u001b[0;31m# dt, one_step_map = get_one_step_map(nb_dir,dt,dsdpixel,width,height,**kwargs)\u001b[0m\u001b[0;34m\u001b[0m\u001b[0;34m\u001b[0m\u001b[0;34m\u001b[0m\u001b[0m\n\u001b[0;32m---> 79\u001b[0;31m         \u001b[0mdt\u001b[0m\u001b[0;34m,\u001b[0m \u001b[0mone_step_map\u001b[0m \u001b[0;34m=\u001b[0m \u001b[0mget_one_step_map\u001b[0m\u001b[0;34m(\u001b[0m\u001b[0mnb_dir\u001b[0m\u001b[0;34m,\u001b[0m\u001b[0mdt\u001b[0m\u001b[0;34m,\u001b[0m\u001b[0;34m**\u001b[0m\u001b[0mkwargs\u001b[0m\u001b[0;34m)\u001b[0m\u001b[0;34m\u001b[0m\u001b[0;34m\u001b[0m\u001b[0m\n\u001b[0m\u001b[1;32m     80\u001b[0m \u001b[0;34m\u001b[0m\u001b[0m\n\u001b[1;32m     81\u001b[0m         \u001b[0;32mif\u001b[0m \u001b[0mprinting\u001b[0m\u001b[0;34m:\u001b[0m\u001b[0;34m\u001b[0m\u001b[0;34m\u001b[0m\u001b[0m\n",
      "\u001b[0;32m~/Documents/GitHub/care/notebooks/lib/controller/controller_LR.py\u001b[0m in \u001b[0;36mget_one_step_map\u001b[0;34m(nb_dir, dt, **kwargs)\u001b[0m\n\u001b[1;32m    183\u001b[0m \u001b[0;32mdef\u001b[0m \u001b[0mget_one_step_map\u001b[0m\u001b[0;34m(\u001b[0m\u001b[0mnb_dir\u001b[0m\u001b[0;34m,\u001b[0m\u001b[0mdt\u001b[0m\u001b[0;34m,\u001b[0m\u001b[0;34m**\u001b[0m\u001b[0mkwargs\u001b[0m\u001b[0;34m)\u001b[0m\u001b[0;34m:\u001b[0m\u001b[0;34m\u001b[0m\u001b[0;34m\u001b[0m\u001b[0m\n\u001b[1;32m    184\u001b[0m     \u001b[0;34m'''returns dt,one_step_map'''\u001b[0m\u001b[0;34m\u001b[0m\u001b[0;34m\u001b[0m\u001b[0m\n\u001b[0;32m--> 185\u001b[0;31m     \u001b[0mdt\u001b[0m\u001b[0;34m,\u001b[0m \u001b[0marr39\u001b[0m\u001b[0;34m,\u001b[0m \u001b[0mone_step_method\u001b[0m \u001b[0;34m=\u001b[0m \u001b[0mget_one_step_explicit_synchronous_splitting\u001b[0m\u001b[0;34m(\u001b[0m\u001b[0mnb_dir\u001b[0m\u001b[0;34m,\u001b[0m\u001b[0mdt\u001b[0m\u001b[0;34m,\u001b[0m\u001b[0;34m**\u001b[0m\u001b[0mkwargs\u001b[0m\u001b[0;34m)\u001b[0m\u001b[0;34m\u001b[0m\u001b[0;34m\u001b[0m\u001b[0m\n\u001b[0m\u001b[1;32m    186\u001b[0m     \u001b[0;34m@\u001b[0m\u001b[0mnjit\u001b[0m\u001b[0;34m\u001b[0m\u001b[0;34m\u001b[0m\u001b[0m\n\u001b[1;32m    187\u001b[0m     \u001b[0;32mdef\u001b[0m \u001b[0mone_step_map\u001b[0m\u001b[0;34m(\u001b[0m\u001b[0mtxt\u001b[0m\u001b[0;34m)\u001b[0m\u001b[0;34m:\u001b[0m\u001b[0;34m\u001b[0m\u001b[0;34m\u001b[0m\u001b[0m\n",
      "\u001b[0;32m~/Documents/GitHub/care/notebooks/lib/controller/controller_LR.py\u001b[0m in \u001b[0;36mget_one_step_explicit_synchronous_splitting\u001b[0;34m(nb_dir, dt, width, height, ds, diffCoef, Cm, **kwargs)\u001b[0m\n\u001b[1;32m    112\u001b[0m     '''\n\u001b[1;32m    113\u001b[0m     \u001b[0;31m#precompute lookup table\u001b[0m\u001b[0;34m\u001b[0m\u001b[0;34m\u001b[0m\u001b[0;34m\u001b[0m\u001b[0m\n\u001b[0;32m--> 114\u001b[0;31m     \u001b[0marr39\u001b[0m\u001b[0;34m=\u001b[0m\u001b[0mget_arr39\u001b[0m\u001b[0;34m(\u001b[0m\u001b[0mdt\u001b[0m\u001b[0;34m,\u001b[0m\u001b[0mnb_dir\u001b[0m\u001b[0;34m)\u001b[0m\u001b[0;34m\u001b[0m\u001b[0;34m\u001b[0m\u001b[0m\n\u001b[0m\u001b[1;32m    115\u001b[0m     \u001b[0mv_values\u001b[0m\u001b[0;34m=\u001b[0m\u001b[0marr39\u001b[0m\u001b[0;34m[\u001b[0m\u001b[0;34m:\u001b[0m\u001b[0;34m,\u001b[0m\u001b[0;36m0\u001b[0m\u001b[0;34m]\u001b[0m\u001b[0;34m\u001b[0m\u001b[0;34m\u001b[0m\u001b[0m\n\u001b[1;32m    116\u001b[0m     \u001b[0mlookup_params\u001b[0m\u001b[0;34m=\u001b[0m\u001b[0mget_lookup_params\u001b[0m\u001b[0;34m(\u001b[0m\u001b[0mv_values\u001b[0m\u001b[0;34m,\u001b[0m\u001b[0mdv\u001b[0m\u001b[0;34m=\u001b[0m\u001b[0;36m0.1\u001b[0m\u001b[0;34m)\u001b[0m\u001b[0;34m\u001b[0m\u001b[0;34m\u001b[0m\u001b[0m\n",
      "\u001b[0;32m~/Documents/GitHub/care/notebooks/lib/model/LR_model_optimized.py\u001b[0m in \u001b[0;36mget_arr39\u001b[0;34m(dt, nb_dir)\u001b[0m\n\u001b[1;32m     60\u001b[0m         \u001b[0;31m# arr39=table_data[keys[-1]].T\u001b[0m\u001b[0;34m\u001b[0m\u001b[0;34m\u001b[0m\u001b[0;34m\u001b[0m\u001b[0m\n\u001b[1;32m     61\u001b[0m         \u001b[0mtable_fn\u001b[0m\u001b[0;34m=\u001b[0m\u001b[0;34mf\"luo_rudy_dt_{dt}_arr39.csv\"\u001b[0m\u001b[0;34m\u001b[0m\u001b[0;34m\u001b[0m\u001b[0m\n\u001b[0;32m---> 62\u001b[0;31m         \u001b[0marr39\u001b[0m\u001b[0;34m=\u001b[0m\u001b[0mpd\u001b[0m\u001b[0;34m.\u001b[0m\u001b[0mread_csv\u001b[0m\u001b[0;34m(\u001b[0m\u001b[0mtable_fn\u001b[0m\u001b[0;34m,\u001b[0m\u001b[0mheader\u001b[0m\u001b[0;34m=\u001b[0m\u001b[0;32mNone\u001b[0m\u001b[0;34m)\u001b[0m\u001b[0;34m.\u001b[0m\u001b[0mvalues\u001b[0m\u001b[0;34m\u001b[0m\u001b[0;34m\u001b[0m\u001b[0m\n\u001b[0m\u001b[1;32m     63\u001b[0m         \u001b[0;31m#return to original working directory\u001b[0m\u001b[0;34m\u001b[0m\u001b[0;34m\u001b[0m\u001b[0;34m\u001b[0m\u001b[0m\n\u001b[1;32m     64\u001b[0m         \u001b[0mos\u001b[0m\u001b[0;34m.\u001b[0m\u001b[0mchdir\u001b[0m\u001b[0;34m(\u001b[0m\u001b[0mcwd\u001b[0m\u001b[0;34m)\u001b[0m\u001b[0;34m\u001b[0m\u001b[0;34m\u001b[0m\u001b[0m\n",
      "\u001b[0;32m/usr/local/lib/python3.8/site-packages/pandas/io/parsers.py\u001b[0m in \u001b[0;36mparser_f\u001b[0;34m(filepath_or_buffer, sep, delimiter, header, names, index_col, usecols, squeeze, prefix, mangle_dupe_cols, dtype, engine, converters, true_values, false_values, skipinitialspace, skiprows, skipfooter, nrows, na_values, keep_default_na, na_filter, verbose, skip_blank_lines, parse_dates, infer_datetime_format, keep_date_col, date_parser, dayfirst, cache_dates, iterator, chunksize, compression, thousands, decimal, lineterminator, quotechar, quoting, doublequote, escapechar, comment, encoding, dialect, error_bad_lines, warn_bad_lines, delim_whitespace, low_memory, memory_map, float_precision)\u001b[0m\n\u001b[1;32m    674\u001b[0m         )\n\u001b[1;32m    675\u001b[0m \u001b[0;34m\u001b[0m\u001b[0m\n\u001b[0;32m--> 676\u001b[0;31m         \u001b[0;32mreturn\u001b[0m \u001b[0m_read\u001b[0m\u001b[0;34m(\u001b[0m\u001b[0mfilepath_or_buffer\u001b[0m\u001b[0;34m,\u001b[0m \u001b[0mkwds\u001b[0m\u001b[0;34m)\u001b[0m\u001b[0;34m\u001b[0m\u001b[0;34m\u001b[0m\u001b[0m\n\u001b[0m\u001b[1;32m    677\u001b[0m \u001b[0;34m\u001b[0m\u001b[0m\n\u001b[1;32m    678\u001b[0m     \u001b[0mparser_f\u001b[0m\u001b[0;34m.\u001b[0m\u001b[0m__name__\u001b[0m \u001b[0;34m=\u001b[0m \u001b[0mname\u001b[0m\u001b[0;34m\u001b[0m\u001b[0;34m\u001b[0m\u001b[0m\n",
      "\u001b[0;32m/usr/local/lib/python3.8/site-packages/pandas/io/parsers.py\u001b[0m in \u001b[0;36m_read\u001b[0;34m(filepath_or_buffer, kwds)\u001b[0m\n\u001b[1;32m    446\u001b[0m \u001b[0;34m\u001b[0m\u001b[0m\n\u001b[1;32m    447\u001b[0m     \u001b[0;31m# Create the parser.\u001b[0m\u001b[0;34m\u001b[0m\u001b[0;34m\u001b[0m\u001b[0;34m\u001b[0m\u001b[0m\n\u001b[0;32m--> 448\u001b[0;31m     \u001b[0mparser\u001b[0m \u001b[0;34m=\u001b[0m \u001b[0mTextFileReader\u001b[0m\u001b[0;34m(\u001b[0m\u001b[0mfp_or_buf\u001b[0m\u001b[0;34m,\u001b[0m \u001b[0;34m**\u001b[0m\u001b[0mkwds\u001b[0m\u001b[0;34m)\u001b[0m\u001b[0;34m\u001b[0m\u001b[0;34m\u001b[0m\u001b[0m\n\u001b[0m\u001b[1;32m    449\u001b[0m \u001b[0;34m\u001b[0m\u001b[0m\n\u001b[1;32m    450\u001b[0m     \u001b[0;32mif\u001b[0m \u001b[0mchunksize\u001b[0m \u001b[0;32mor\u001b[0m \u001b[0miterator\u001b[0m\u001b[0;34m:\u001b[0m\u001b[0;34m\u001b[0m\u001b[0;34m\u001b[0m\u001b[0m\n",
      "\u001b[0;32m/usr/local/lib/python3.8/site-packages/pandas/io/parsers.py\u001b[0m in \u001b[0;36m__init__\u001b[0;34m(self, f, engine, **kwds)\u001b[0m\n\u001b[1;32m    878\u001b[0m             \u001b[0mself\u001b[0m\u001b[0;34m.\u001b[0m\u001b[0moptions\u001b[0m\u001b[0;34m[\u001b[0m\u001b[0;34m\"has_index_names\"\u001b[0m\u001b[0;34m]\u001b[0m \u001b[0;34m=\u001b[0m \u001b[0mkwds\u001b[0m\u001b[0;34m[\u001b[0m\u001b[0;34m\"has_index_names\"\u001b[0m\u001b[0;34m]\u001b[0m\u001b[0;34m\u001b[0m\u001b[0;34m\u001b[0m\u001b[0m\n\u001b[1;32m    879\u001b[0m \u001b[0;34m\u001b[0m\u001b[0m\n\u001b[0;32m--> 880\u001b[0;31m         \u001b[0mself\u001b[0m\u001b[0;34m.\u001b[0m\u001b[0m_make_engine\u001b[0m\u001b[0;34m(\u001b[0m\u001b[0mself\u001b[0m\u001b[0;34m.\u001b[0m\u001b[0mengine\u001b[0m\u001b[0;34m)\u001b[0m\u001b[0;34m\u001b[0m\u001b[0;34m\u001b[0m\u001b[0m\n\u001b[0m\u001b[1;32m    881\u001b[0m \u001b[0;34m\u001b[0m\u001b[0m\n\u001b[1;32m    882\u001b[0m     \u001b[0;32mdef\u001b[0m \u001b[0mclose\u001b[0m\u001b[0;34m(\u001b[0m\u001b[0mself\u001b[0m\u001b[0;34m)\u001b[0m\u001b[0;34m:\u001b[0m\u001b[0;34m\u001b[0m\u001b[0;34m\u001b[0m\u001b[0m\n",
      "\u001b[0;32m/usr/local/lib/python3.8/site-packages/pandas/io/parsers.py\u001b[0m in \u001b[0;36m_make_engine\u001b[0;34m(self, engine)\u001b[0m\n\u001b[1;32m   1112\u001b[0m     \u001b[0;32mdef\u001b[0m \u001b[0m_make_engine\u001b[0m\u001b[0;34m(\u001b[0m\u001b[0mself\u001b[0m\u001b[0;34m,\u001b[0m \u001b[0mengine\u001b[0m\u001b[0;34m=\u001b[0m\u001b[0;34m\"c\"\u001b[0m\u001b[0;34m)\u001b[0m\u001b[0;34m:\u001b[0m\u001b[0;34m\u001b[0m\u001b[0;34m\u001b[0m\u001b[0m\n\u001b[1;32m   1113\u001b[0m         \u001b[0;32mif\u001b[0m \u001b[0mengine\u001b[0m \u001b[0;34m==\u001b[0m \u001b[0;34m\"c\"\u001b[0m\u001b[0;34m:\u001b[0m\u001b[0;34m\u001b[0m\u001b[0;34m\u001b[0m\u001b[0m\n\u001b[0;32m-> 1114\u001b[0;31m             \u001b[0mself\u001b[0m\u001b[0;34m.\u001b[0m\u001b[0m_engine\u001b[0m \u001b[0;34m=\u001b[0m \u001b[0mCParserWrapper\u001b[0m\u001b[0;34m(\u001b[0m\u001b[0mself\u001b[0m\u001b[0;34m.\u001b[0m\u001b[0mf\u001b[0m\u001b[0;34m,\u001b[0m \u001b[0;34m**\u001b[0m\u001b[0mself\u001b[0m\u001b[0;34m.\u001b[0m\u001b[0moptions\u001b[0m\u001b[0;34m)\u001b[0m\u001b[0;34m\u001b[0m\u001b[0;34m\u001b[0m\u001b[0m\n\u001b[0m\u001b[1;32m   1115\u001b[0m         \u001b[0;32melse\u001b[0m\u001b[0;34m:\u001b[0m\u001b[0;34m\u001b[0m\u001b[0;34m\u001b[0m\u001b[0m\n\u001b[1;32m   1116\u001b[0m             \u001b[0;32mif\u001b[0m \u001b[0mengine\u001b[0m \u001b[0;34m==\u001b[0m \u001b[0;34m\"python\"\u001b[0m\u001b[0;34m:\u001b[0m\u001b[0;34m\u001b[0m\u001b[0;34m\u001b[0m\u001b[0m\n",
      "\u001b[0;32m/usr/local/lib/python3.8/site-packages/pandas/io/parsers.py\u001b[0m in \u001b[0;36m__init__\u001b[0;34m(self, src, **kwds)\u001b[0m\n\u001b[1;32m   1889\u001b[0m         \u001b[0mkwds\u001b[0m\u001b[0;34m[\u001b[0m\u001b[0;34m\"usecols\"\u001b[0m\u001b[0;34m]\u001b[0m \u001b[0;34m=\u001b[0m \u001b[0mself\u001b[0m\u001b[0;34m.\u001b[0m\u001b[0musecols\u001b[0m\u001b[0;34m\u001b[0m\u001b[0;34m\u001b[0m\u001b[0m\n\u001b[1;32m   1890\u001b[0m \u001b[0;34m\u001b[0m\u001b[0m\n\u001b[0;32m-> 1891\u001b[0;31m         \u001b[0mself\u001b[0m\u001b[0;34m.\u001b[0m\u001b[0m_reader\u001b[0m \u001b[0;34m=\u001b[0m \u001b[0mparsers\u001b[0m\u001b[0;34m.\u001b[0m\u001b[0mTextReader\u001b[0m\u001b[0;34m(\u001b[0m\u001b[0msrc\u001b[0m\u001b[0;34m,\u001b[0m \u001b[0;34m**\u001b[0m\u001b[0mkwds\u001b[0m\u001b[0;34m)\u001b[0m\u001b[0;34m\u001b[0m\u001b[0;34m\u001b[0m\u001b[0m\n\u001b[0m\u001b[1;32m   1892\u001b[0m         \u001b[0mself\u001b[0m\u001b[0;34m.\u001b[0m\u001b[0munnamed_cols\u001b[0m \u001b[0;34m=\u001b[0m \u001b[0mself\u001b[0m\u001b[0;34m.\u001b[0m\u001b[0m_reader\u001b[0m\u001b[0;34m.\u001b[0m\u001b[0munnamed_cols\u001b[0m\u001b[0;34m\u001b[0m\u001b[0;34m\u001b[0m\u001b[0m\n\u001b[1;32m   1893\u001b[0m \u001b[0;34m\u001b[0m\u001b[0m\n",
      "\u001b[0;32mpandas/_libs/parsers.pyx\u001b[0m in \u001b[0;36mpandas._libs.parsers.TextReader.__cinit__\u001b[0;34m()\u001b[0m\n",
      "\u001b[0;32mpandas/_libs/parsers.pyx\u001b[0m in \u001b[0;36mpandas._libs.parsers.TextReader._setup_parser_source\u001b[0;34m()\u001b[0m\n",
      "\u001b[0;31mFileNotFoundError\u001b[0m: [Errno 2] File luo_rudy_dt_0.1_arr39.csv does not exist: 'luo_rudy_dt_0.1_arr39.csv'"
     ]
    }
   ],
   "source": [
    "routine(ic_fn)"
   ]
  },
  {
   "cell_type": "code",
   "execution_count": 33,
   "metadata": {
    "ExecuteTime": {
     "end_time": "2021-01-29T02:06:26.560327Z",
     "start_time": "2021-01-29T02:06:26.511045Z"
    }
   },
   "outputs": [
    {
     "data": {
      "text/plain": [
       "<function lib.model.LR_model_optimized.get_arr39(dt, nb_dir)>"
      ]
     },
     "execution_count": 33,
     "metadata": {},
     "output_type": "execute_result"
    }
   ],
   "source": [
    "# txt=load_buffer(initial_condition_dir)\n",
    "# results_folder\n",
    "get_arr39"
   ]
  },
  {
   "cell_type": "code",
   "execution_count": 1,
   "metadata": {
    "ExecuteTime": {
     "end_time": "2021-01-29T02:50:16.007776Z",
     "start_time": "2021-01-29T02:50:15.859903Z"
    }
   },
   "outputs": [
    {
     "ename": "NameError",
     "evalue": "name 'get_arr39' is not defined",
     "output_type": "error",
     "traceback": [
      "\u001b[0;31m---------------------------------------------------------------------------\u001b[0m",
      "\u001b[0;31mNameError\u001b[0m                                 Traceback (most recent call last)",
      "\u001b[0;32m<ipython-input-1-580436cd8c46>\u001b[0m in \u001b[0;36m<module>\u001b[0;34m\u001b[0m\n\u001b[0;32m----> 1\u001b[0;31m \u001b[0mretval\u001b[0m\u001b[0;34m=\u001b[0m\u001b[0mget_arr39\u001b[0m\u001b[0;34m(\u001b[0m\u001b[0;36m0.1\u001b[0m\u001b[0;34m,\u001b[0m\u001b[0mnb_dir\u001b[0m\u001b[0;34m)\u001b[0m\u001b[0;34m\u001b[0m\u001b[0;34m\u001b[0m\u001b[0m\n\u001b[0m",
      "\u001b[0;31mNameError\u001b[0m: name 'get_arr39' is not defined"
     ]
    }
   ],
   "source": [
    "retval=get_arr39(0.1,nb_dir)"
   ]
  },
  {
   "cell_type": "code",
   "execution_count": 42,
   "metadata": {
    "ExecuteTime": {
     "end_time": "2021-01-29T02:21:18.687763Z",
     "start_time": "2021-01-29T02:21:18.394595Z"
    }
   },
   "outputs": [
    {
     "name": "stdout",
     "output_type": "stream",
     "text": [
      "luo_rudy_dt_0.0.npz    luo_rudy_dt_0.001.npz  luo_rudy_dt_0.03.npz\r\n",
      "luo_rudy_dt_0.0001.npz luo_rudy_dt_0.002.npz  luo_rudy_dt_0.05.npz\r\n",
      "luo_rudy_dt_0.0002.npz luo_rudy_dt_0.003.npz  luo_rudy_dt_0.1.npz\r\n",
      "luo_rudy_dt_0.0003.npz luo_rudy_dt_0.008.npz\r\n",
      "luo_rudy_dt_0.0008.npz luo_rudy_dt_0.01.npz\r\n"
     ]
    }
   ],
   "source": [
    "cwd=os.getcwd()\n",
    "#generate lookup tables for timestep\n",
    "os.chdir(os.path.join(nb_dir,'lib/model'))\n",
    "cmd=f\"python3 gener_table.py {dt}\"\n",
    "os.system(cmd)\n",
    "#load lookup table for constant timestep, dt.\n",
    "os.chdir(os.path.join(nb_dir,'lib/model','lookup_tables'))\n",
    "!ls"
   ]
  },
  {
   "cell_type": "code",
   "execution_count": 38,
   "metadata": {
    "ExecuteTime": {
     "end_time": "2021-01-29T02:11:02.313720Z",
     "start_time": "2021-01-29T02:11:02.138462Z"
    }
   },
   "outputs": [],
   "source": [
    "!cd ..\n"
   ]
  },
  {
   "cell_type": "code",
   "execution_count": 39,
   "metadata": {
    "ExecuteTime": {
     "end_time": "2021-01-29T02:11:04.589099Z",
     "start_time": "2021-01-29T02:11:04.424169Z"
    }
   },
   "outputs": [
    {
     "name": "stdout",
     "output_type": "stream",
     "text": [
      "/Users/timothytyree/Documents/GitHub/care/notebooks/lib/model/lookup_tables\r\n"
     ]
    }
   ],
   "source": [
    "!pwd"
   ]
  },
  {
   "cell_type": "code",
   "execution_count": 40,
   "metadata": {
    "ExecuteTime": {
     "end_time": "2021-01-29T02:11:08.687901Z",
     "start_time": "2021-01-29T02:11:08.588316Z"
    }
   },
   "outputs": [
    {
     "data": {
      "text/plain": [
       "512"
      ]
     },
     "execution_count": 40,
     "metadata": {},
     "output_type": "execute_result"
    }
   ],
   "source": [
    "os.system(cmd)\n"
   ]
  },
  {
   "cell_type": "code",
   "execution_count": null,
   "metadata": {},
   "outputs": [],
   "source": []
  }
 ],
 "metadata": {
  "kernelspec": {
   "display_name": "Python 3",
   "language": "python",
   "name": "python3"
  },
  "language_info": {
   "codemirror_mode": {
    "name": "ipython",
    "version": 3
   },
   "file_extension": ".py",
   "mimetype": "text/x-python",
   "name": "python",
   "nbconvert_exporter": "python",
   "pygments_lexer": "ipython3",
   "version": "3.7.6"
  },
  "toc": {
   "base_numbering": 1,
   "nav_menu": {},
   "number_sections": true,
   "sideBar": true,
   "skip_h1_title": false,
   "title_cell": "Table of Contents",
   "title_sidebar": "Contents",
   "toc_cell": false,
   "toc_position": {},
   "toc_section_display": true,
   "toc_window_display": false
  },
  "varInspector": {
   "cols": {
    "lenName": 16,
    "lenType": 16,
    "lenVar": 40
   },
   "kernels_config": {
    "python": {
     "delete_cmd_postfix": "",
     "delete_cmd_prefix": "del ",
     "library": "var_list.py",
     "varRefreshCmd": "print(var_dic_list())"
    },
    "r": {
     "delete_cmd_postfix": ") ",
     "delete_cmd_prefix": "rm(",
     "library": "var_list.r",
     "varRefreshCmd": "cat(var_dic_list()) "
    }
   },
   "types_to_exclude": [
    "module",
    "function",
    "builtin_function_or_method",
    "instance",
    "_Feature"
   ],
   "window_display": false
  }
 },
 "nbformat": 4,
 "nbformat_minor": 4
}
