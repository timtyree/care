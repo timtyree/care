{
 "cells": [
  {
   "cell_type": "markdown",
   "metadata": {},
   "source": [
    "# Getting started with CARE\n",
    "5.1.2020"
   ]
  },
  {
   "cell_type": "markdown",
   "metadata": {},
   "source": [
    "## CARE architecture\n",
    "<img alt=\"\" src=\"Figures/care architecture.png\" style=\"height:300.5px;width:740px\" />"
   ]
  },
  {
   "cell_type": "markdown",
   "metadata": {},
   "source": [
    "## GPUFS -  GPU File System\n",
    "You can read/write files from a gpu kernel using cuda.  This let's us take scientific measurements from gpu accelerated simulations.\n",
    "CUDA supports GPUFS.  Macintosh does not.\n",
    "\n",
    "__why-do:__ \n",
    "\n",
    "|    | CPU page cache\\n(PCIe) | GPU page cache\\n(Global memory) |\n",
    "|----|----|----|\n",
    "| Maximum bandwidth | 5.4 GB/s  | 103 GB/s |\n",
    "| gpu_pread\\ngpu_pwrite | 2.7 GB/s | 42 GB/s |\n",
    "\n",
    "how-do:\n",
    "http://on-demand.gputechconf.com/gtc/2012/presentations/S0360-Set-GPUs-Free-Integrating-a-File-System-with-CUDA-Programs.pdf\n"
   ]
  },
  {
   "cell_type": "markdown",
   "metadata": {},
   "source": [
    "## Getting started with github\n",
    "Here’s some how do’s for github.  After the learning curve, it’s the best thing ever for collaborating:<br>\n",
    "10 min intro github: https://youtu.be/nCI4DxAF3Ak<br>\n",
    "how to use github desktop in 5 min: https://youtu.be/7NNI9uW8R_o<br>\n",
    "github desktop download: https://desktop.github.com/<br>"
   ]
  },
  {
   "cell_type": "markdown",
   "metadata": {},
   "source": [
    "# MultiGPU scalability\n",
    "- packages exist that interface __spark__ worker nodes with the local gpu <br>\n",
    "  - https://news.developer.nvidia.com/gpu-accelerated-spark-xgboost/\n",
    "  - https://medium.com/rapids-ai/nvidia-gpus-and-apache-spark-one-step-closer-2d99e37ac8fd\n",
    "  - https://spark.apache.org/news/spark-3.0.0-preview.html\n",
    "    - note spark 3.0 is not currently stable, but it supports xgboost, i believe.\n",
    "- __spark__ functionality exists to handle streaming \n",
    "  - from pyspark.streaming import *\n",
    "- __spark__ functionality exists to handle computation of big graph datatypes\n",
    "  - from pyspark.graphx import *\n",
    "  \n"
   ]
  },
  {
   "cell_type": "markdown",
   "metadata": {},
   "source": [
    "# __A game plan is__ make the highest resolution simulation of a single mechanical heartbeat in the world.\n",
    "- we may do this almost entirely in python by locally developing in jupyter notebooks\n",
    "- helpful tools that do the work for us: \n",
    "    - pyspark.streaming\n",
    "    - pyspark.graphx\n",
    "    - pyspark.xgboost"
   ]
  },
  {
   "cell_type": "code",
   "execution_count": null,
   "metadata": {},
   "outputs": [],
   "source": []
  }
 ],
 "metadata": {
  "kernelspec": {
   "display_name": "Python 3",
   "language": "python",
   "name": "python3"
  },
  "language_info": {
   "codemirror_mode": {
    "name": "ipython",
    "version": 3
   },
   "file_extension": ".py",
   "mimetype": "text/x-python",
   "name": "python",
   "nbconvert_exporter": "python",
   "pygments_lexer": "ipython3",
   "version": "3.7.3"
  },
  "toc": {
   "base_numbering": 1,
   "nav_menu": {},
   "number_sections": true,
   "sideBar": true,
   "skip_h1_title": false,
   "title_cell": "Table of Contents",
   "title_sidebar": "Contents",
   "toc_cell": false,
   "toc_position": {},
   "toc_section_display": true,
   "toc_window_display": false
  },
  "varInspector": {
   "cols": {
    "lenName": 16,
    "lenType": 16,
    "lenVar": 40
   },
   "kernels_config": {
    "python": {
     "delete_cmd_postfix": "",
     "delete_cmd_prefix": "del ",
     "library": "var_list.py",
     "varRefreshCmd": "print(var_dic_list())"
    },
    "r": {
     "delete_cmd_postfix": ") ",
     "delete_cmd_prefix": "rm(",
     "library": "var_list.r",
     "varRefreshCmd": "cat(var_dic_list()) "
    }
   },
   "types_to_exclude": [
    "module",
    "function",
    "builtin_function_or_method",
    "instance",
    "_Feature"
   ],
   "window_display": false
  }
 },
 "nbformat": 4,
 "nbformat_minor": 2
}
