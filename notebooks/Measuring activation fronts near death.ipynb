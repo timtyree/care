{
 "cells": [
  {
   "cell_type": "markdown",
   "metadata": {},
   "source": [
    "# Measuring activation fronts near death\n",
    "Tim Tyree<br>\n",
    "5.7.2021"
   ]
  },
  {
   "cell_type": "code",
   "execution_count": 10,
   "metadata": {
    "ExecuteTime": {
     "end_time": "2021-06-09T18:56:56.812665Z",
     "start_time": "2021-06-09T18:56:56.797419Z"
    }
   },
   "outputs": [],
   "source": [
    "#TODO: use google scholar to search for the speed of spiral tips as they annihilate\n",
    "\n",
    "#better method: take more data! (after condensing data to a simple readout)\n",
    "#DONE/DONT(later): look for more reliable way to identify activation fronts... use consistency of position over time??\n",
    "# HINT: consider looking at mean gating variables from the comp_dict_topo_full_color\n",
    "#TODO: linearly record data for ^these spiral tips at a high sampling rate (and fine spatial resolution)\n",
    "\n",
    "#TODO(brainwarmer): check Slides for whether tips move along dVdt levelsets or along V levelsets\n",
    "#TODO: load/plot system\n",
    "#TODO: compute each of the the final scalar values needed for the following...\n",
    "#TODO: test angular difference between cartesion acceleration and acceleration in the direction of the activation front versus time\n",
    "#TODO: linearly track lesser_arclen of these two death events on a dt=0.001 ms timescale fixed at the basic subpixel resolution\n",
    "#TODO: test proposition that lesser_arclen always drops shortly annihilating, perhaps on the 0.01~0.02 (ms?) timescale.  \n",
    "# ^This would support the mechanism of annihilation involving the connection of activation fronts/strings with some tension to contract\n",
    "# ^This would support using a model of spiral tip dynamics along an activation front to inform our reaction rate calculations\n",
    "# HINT: consider rate = 1/expected_time_to_death, where the arclength behaves in a predictable way, i.e.\n",
    "# dsigma_max_dt=foo(sigma_max;relative phase?)"
   ]
  },
  {
   "cell_type": "markdown",
   "metadata": {
    "heading_collapsed": true
   },
   "source": [
    "# Compute the spacing between two tips as they annihilate (Luo-Rudy model)"
   ]
  },
  {
   "cell_type": "code",
   "execution_count": 1,
   "metadata": {
    "ExecuteTime": {
     "end_time": "2021-06-09T18:53:13.709853Z",
     "start_time": "2021-06-09T18:53:12.757883Z"
    },
    "hidden": true
   },
   "outputs": [
    {
     "name": "stdout",
     "output_type": "stream",
     "text": [
      "Automatic calling is: Smart\n"
     ]
    }
   ],
   "source": [
    "from lib.my_initialization import *\n",
    "from lib.controller.controller_LR import get_one_step_explicit_synchronous_splitting\n",
    "# from lib.utils import load_buffer\n",
    "from lib.routines.return_min_distance import *\n",
    "from lib.viewer.DomainPlot import ShowDomain\n",
    "from lib.measure.comp_tips_safely import *\n",
    "#magic    \n",
    "%autocall 1\n",
    "%load_ext autoreload\n",
    "%autoreload 2\n",
    "\n",
    "darkmode=False\n",
    "if darkmode:\n",
    "    # For darkmode plots\n",
    "    from jupyterthemes import jtplot\n",
    "    jtplot.style(theme='monokai', context='notebook', ticks=True, grid=False)"
   ]
  },
  {
   "cell_type": "code",
   "execution_count": 3,
   "metadata": {
    "ExecuteTime": {
     "end_time": "2021-06-09T17:41:38.182113Z",
     "start_time": "2021-06-09T17:41:13.043879Z"
    },
    "hidden": true
   },
   "outputs": [
    {
     "name": "stdout",
     "output_type": "stream",
     "text": [
      "(200, 200, 18)\n"
     ]
    }
   ],
   "source": [
    "dt=0.001\n",
    "txt_fn=f'{nb_dir}/Data/test_data/ic008.33_t_200.0.npz'\n",
    "t0=200.0;t=t0\n",
    "txt=load_buffer(txt_fn)[0]\n",
    "# txt_fn=f'{nb_dir}/Data/test_data/ic008.33_t_218.8.npz'\n",
    "# t=218.8;\n",
    "# txt=load_buffer(txt_fn)\n",
    "ds=5.;V_threshold=-50.\n",
    "inVc,outVc,inmhjdfx,outmhjdfx,dVcdt=unstack_txt(txt)\n",
    "width,height=txt.shape[:2]\n",
    "print(txt.shape)\n",
    "one_step,comp_distance,comp_dict_tips=init_methods(width,height,ds,dt,V_threshold=V_threshold,jump_threshold=40)\n",
    "comp_dict_topo_full_color=comp_dict_tips\n",
    "#reidentify the tips to be tracked\n",
    "img=inVc[...,0];dimgdt=dVcdt[...,0]\n",
    "dict_tips=comp_dict_tips(img, dimgdt, t, txt)\n",
    "pdict=ParticlePBCDict(dict_tips=dict_tips, width=width, height=width)#, **kwargs)\n",
    "t_prev=t;txt_prev=txt.copy()"
   ]
  },
  {
   "cell_type": "code",
   "execution_count": 5,
   "metadata": {
    "ExecuteTime": {
     "end_time": "2021-06-09T17:41:38.338518Z",
     "start_time": "2021-06-09T17:41:38.205566Z"
    },
    "hidden": true
   },
   "outputs": [
    {
     "data": {
      "image/png": "[encoded data removed]",
      "text/plain": [
       "<Figure size 432x432 with 1 Axes>"
      ]
     },
     "metadata": {},
     "output_type": "display_data"
    }
   ],
   "source": [
    "#visualize token death system\n",
    "x_values=np.array(dict_tips['x'])[:-2]\n",
    "y_values=np.array(dict_tips['y'])[:-2]\n",
    "c_values=np.array(dict_tips['pid'])[:-2]\n",
    "fig = ShowDomain(img,dimgdt,x_values,y_values,c_values,V_threshold,t,inch=6,\n",
    "                 fontsize=16,vmin_img=-85.,vmax_img=35.,area=25,\n",
    "                 frameno=None,#frameno,\n",
    "                 save_fn=None,#save_fn,\n",
    "                 save_folder=None,#save_folder,\n",
    "                 save=False,#True,\n",
    "                 annotating=True,\n",
    "                 axis=[0,img.shape[0],0,img.shape[1]])"
   ]
  },
  {
   "cell_type": "code",
   "execution_count": 8,
   "metadata": {
    "ExecuteTime": {
     "end_time": "2021-06-09T17:41:38.398544Z",
     "start_time": "2021-06-09T17:41:38.380272Z"
    },
    "hidden": true
   },
   "outputs": [],
   "source": [
    "# from inspect import getsource\n",
    "# print ( getsource(pdict.record_tips_return_txt))\n",
    "# pdict.record_tips_return_txt?\n",
    "ntips=len(dict_tips['x'])\n",
    "assert(ntips>0)"
   ]
  },
  {
   "cell_type": "code",
   "execution_count": null,
   "metadata": {
    "ExecuteTime": {
     "start_time": "2021-06-09T17:41:11.620Z"
    },
    "hidden": true
   },
   "outputs": [
    {
     "name": "stdout",
     "output_type": "stream",
     "text": [
      "saved at time 204.980 ms.\r"
     ]
    }
   ],
   "source": [
    "inVc,outVc,inmhjdfx,outmhjdfx,dVcdt=unstack_txt(txt)\n",
    "frameno=0\n",
    "save_every_n_frames=1\n",
    "# while change_time<=duration:\n",
    "while ntips>0:\n",
    "    frameno+=1\n",
    "    t+=dt\n",
    "    one_step(inVc,outVc,inmhjdfx,outmhjdfx,dVcdt)\n",
    "    if frameno % save_every_n_frames == 0:\n",
    "        dict_tips=comp_dict_tips(img, dimgdt, t, txt)\n",
    "        pdict.merge_dict(dict_tips)\n",
    "        ntips=len(dict_tips['x'])\n",
    "        print(f\"saved at time {t:.3f} ms.\",end='\\r')\n",
    "\n",
    "txt=stack_txt(inVc,outVc,inmhjdfx,outmhjdfx,dVcdt)"
   ]
  },
  {
   "cell_type": "code",
   "execution_count": null,
   "metadata": {
    "ExecuteTime": {
     "start_time": "2021-06-09T17:41:11.623Z"
    },
    "hidden": true
   },
   "outputs": [],
   "source": [
    "#format/save output pdict\n",
    "modname=f\"{nb_dir}/Data/test_data/steady_death_test_LR_t0_{t0:.3f}_t_{t:.3f}_DT_0.001\"\n",
    "pdict.to_csv_and_json(modname)"
   ]
  },
  {
   "cell_type": "markdown",
   "metadata": {},
   "source": [
    "# TODO: Compute the spacing between two tips as they annihilate (Fenton-Karma model)"
   ]
  },
  {
   "cell_type": "code",
   "execution_count": 5,
   "metadata": {
    "ExecuteTime": {
     "end_time": "2021-06-10T01:01:06.327762Z",
     "start_time": "2021-06-10T01:01:06.302484Z"
    }
   },
   "outputs": [
    {
     "name": "stdout",
     "output_type": "stream",
     "text": [
      "Automatic calling is: Smart\n",
      "The autoreload extension is already loaded. To reload it, use:\n",
      "  %reload_ext autoreload\n"
     ]
    }
   ],
   "source": [
    "from lib.my_initialization import *\n",
    "# from lib.controller.controller_LR import get_one_step_explicit_synchronous_splitting\n",
    "# from lib.utils import load_buffer\n",
    "from lib.routines.return_min_distance import *\n",
    "from lib.viewer.DomainPlot import ShowDomain\n",
    "from lib.utils.dist_func import *\n",
    "from lib.utils.utils_jsonio import *\n",
    "from lib.model.minimal_model_cuda import *\n",
    "from lib.measure.utils_measure_tips_cpu import fetch_txt_to_tip_dict\n",
    "from lib.model.minimal_model import *\n",
    "from lib.controller.controller_cuda import *\n",
    "from lib.model.minimal_model_cuda import get_kernel_string_FK_model\n",
    "from lib.measure.full_color_contours import *\n",
    "from lib.utils import load_buffer\n",
    "\n",
    "#magic    \n",
    "%autocall 1\n",
    "%load_ext autoreload\n",
    "%autoreload 2\n",
    "\n",
    "darkmode=False\n",
    "if darkmode:\n",
    "    # For darkmode plots\n",
    "    from jupyterthemes import jtplot\n",
    "    jtplot.style(theme='monokai', context='notebook', ticks=True, grid=False)"
   ]
  },
  {
   "cell_type": "code",
   "execution_count": null,
   "metadata": {
    "ExecuteTime": {
     "end_time": "2021-06-09T20:18:48.418581Z",
     "start_time": "2021-06-09T20:18:48.400845Z"
    }
   },
   "outputs": [],
   "source": []
  },
  {
   "cell_type": "code",
   "execution_count": 6,
   "metadata": {
    "ExecuteTime": {
     "end_time": "2021-06-10T01:01:37.971277Z",
     "start_time": "2021-06-10T01:01:07.169156Z"
    }
   },
   "outputs": [],
   "source": [
    "#load initial conditions interactively\n",
    "#find file interactively\n",
    "# print(\"please select a file from within the desired folder.\")\n",
    "# input_file_name = search_for_file()\n",
    "input_file_name='/home/timothytyree/Documents/GitHub/care/notebooks/Data/initial-conditions-suite-2/ic-in/ic_200x200.001.31.npz'\n",
    "ic = load_buffer(input_file_name)\n",
    "txt=ic.copy()\n",
    "diffCoef=0.0005\n",
    "dt=0.0005\n",
    "ds=5.;V_threshold=0.4\n",
    "dsdpixel=ds/500\n",
    "\n",
    "height, width, channel_no = ic.shape\n",
    "zero_txt = np.zeros((width, height, channel_no), dtype=np.float64)\n",
    "\n",
    "# _,comp_distance,_=init_methods(width,height,ds,dt,V_threshold=V_threshold,jump_threshold=40)\n",
    "\n",
    "#map initial condition to the three initial scalar fields\n",
    "u_initial = np.array(ic.astype(np.float64)[...,0])\n",
    "v_initial = np.array(ic.astype(np.float64)[...,1])\n",
    "w_initial = np.array(ic.astype(np.float64)[...,2])\n",
    "\n",
    "t=0.;\n",
    "#load parameters for parameter set 8 for the Fenton-Karma Model\n",
    "param_file_name = '/home/timothytyree/Documents/GitHub/care/notebooks/lib/model/param_set_8.json'\n",
    "kwargs = read_parameters_from_json(param_file_name)\n",
    "kwargs['diffCoef']=diffCoef\n",
    "kernel_string = get_kernel_string_FK_model(**kwargs, DT=dt,DX=0.025,height=height,width=width)\n",
    "\n",
    "#more initialization\n",
    "param_fn=param_file_name\n",
    "param_dir = os.path.join(nb_dir,'lib/model')\n",
    "param_dict = json.load(open(os.path.join(param_dir,param_fn)))\n",
    "if diffCoef is not None:\n",
    "    param_dict['diffCoef']=diffCoef\n",
    "#cpu jit compiled one_step method (may be needed for current tip obs. method...)\n",
    "get_time_step=fetch_get_time_step(width,height,DX=dsdpixel,DY=dsdpixel,**param_dict)\n",
    "\n",
    "comp_dict_topo_instant=get_comp_dict_topo_full_color(width=width,height=height,level1=V_threshold,level2=0.)\n",
    "comp_dict_topo_lagged=get_comp_dict_topo_full_color(width=width,height=height,level1=V_threshold,level2=V_threshold)\n",
    "# # # one_step,comp_distance,comp_dict_tips=init_methods(width,height,ds,dt,V_threshold=V_threshold,jump_threshold=40)\n",
    "# # comp_dict_topo_full_color=comp_dict_tips\n",
    "# #reidentify the tips to be tracked\n",
    "# dtxt_dt = zero_txt.copy()\n",
    "# get_time_step(txt, dtxt_dt)\n",
    "# img=txt[...,0];dimgdt=dtxt_dt[...,0]\n",
    "# dict_tips=comp_dict_tips(img, dimgdt, t, txt)\n",
    "# pdict=ParticlePBCDict(dict_tips=dict_tips, width=width, height=width)#, **kwargs)\n",
    "# t_prev=t;txt_prev=txt.copy()"
   ]
  },
  {
   "cell_type": "code",
   "execution_count": 8,
   "metadata": {
    "ExecuteTime": {
     "end_time": "2021-06-10T01:03:01.254396Z",
     "start_time": "2021-06-10T01:02:36.826457Z"
    }
   },
   "outputs": [],
   "source": [
    "#initializing cuda context\n",
    "#initialize PyCuda and get compute capability needed for compilation\n",
    "context = drv.Device(0).make_context()\n",
    "devprops = { str(k): v for (k, v) in context.get_device().get_attributes().items() }\n",
    "cc = str(devprops['COMPUTE_CAPABILITY_MAJOR']) + str(devprops['COMPUTE_CAPABILITY_MINOR'])\n",
    "\n",
    "#define how resources are used\n",
    "# width  = kwargs['width']\n",
    "# height = kwargs['height']\n",
    "threads = (10,10,1)\n",
    "grid = (int(width/10), int(height/10), 1)\n",
    "block_size_string = \"#define block_size_x 10\\n#define block_size_y 10\\n\"\n",
    "\n",
    "#don't allocate memory many times for the same task!\n",
    "#allocate GPU memory for voltage scalar field\n",
    "u_old = drv.mem_alloc(u_initial.nbytes)\n",
    "u_new = drv.mem_alloc(u_initial.nbytes)\n",
    "\n",
    "#allocate GPU memory for v and w auxiliary fields\n",
    "v_old = drv.mem_alloc(v_initial.nbytes)\n",
    "v_new = drv.mem_alloc(v_initial.nbytes)\n",
    "w_old = drv.mem_alloc(w_initial.nbytes)\n",
    "w_new = drv.mem_alloc(w_initial.nbytes)\n",
    "\n",
    "#setup thread block dimensions and compile the kernel\n",
    "mod = SourceModule(block_size_string+kernel_string)\n",
    "time_step_kernel = mod.get_function(\"time_step_kernel\")\n",
    "\n",
    "one_step_map=get_one_step_map(time_step_kernel, drv, u_new, u_old, v_new, v_old, w_new, w_old, threads, grid, context)\n",
    "# one_step,comp_distance,comp_dict_tips=init_methods(width,height,ds,dt,V_threshold=V_threshold,jump_threshold=40)\n",
    "# comp_dict_topo_full_color=comp_dict_tips\n",
    "\n",
    "\n",
    "#integrate ic forward before measuring tips\n",
    "tf=200.\n",
    "DT=2\n",
    "nsteps=int(DT/(2*dt))\n",
    "while t<=tf:\n",
    "    txt_prev=txt.copy()\n",
    "    txt=one_step_map(txt,nsteps=nsteps)\n",
    "    t+=2*dt*nsteps"
   ]
  },
  {
   "cell_type": "code",
   "execution_count": null,
   "metadata": {
    "ExecuteTime": {
     "end_time": "2021-06-10T00:25:11.850499Z",
     "start_time": "2021-06-10T00:25:11.826214Z"
    }
   },
   "outputs": [],
   "source": []
  },
  {
   "cell_type": "code",
   "execution_count": 50,
   "metadata": {
    "ExecuteTime": {
     "end_time": "2021-06-10T00:20:34.725469Z",
     "start_time": "2021-06-10T00:20:11.244400Z"
    }
   },
   "outputs": [],
   "source": [
    "# txt_prev=txt.copy()\n",
    "# txt=one_step_map(txt,nsteps=nsteps)"
   ]
  },
  {
   "cell_type": "code",
   "execution_count": 17,
   "metadata": {
    "ExecuteTime": {
     "end_time": "2021-06-10T01:10:29.614388Z",
     "start_time": "2021-06-10T01:10:28.458654Z"
    },
    "run_control": {
     "marked": false
    }
   },
   "outputs": [
    {
     "data": {
      "image/png": "[encoded data removed]",
      "text/plain": [
       "<Figure size 432x432 with 1 Axes>"
      ]
     },
     "metadata": {},
     "output_type": "display_data"
    }
   ],
   "source": [
    "V_threshold=0.4#0.7#0.1#0.5#0.4\n",
    "\n",
    "#reidentify the tips to be tracked, safely\n",
    "dtxt_dt = zero_txt.copy()\n",
    "get_time_step(txt, dtxt_dt)\n",
    "dimgdt=dtxt_dt[...,0];\n",
    "img=txt[...,0];img_prev=txt_prev[...,0]\n",
    "dict_tips=comp_dict_topo_lagged(img, img_prev, t, txt)\n",
    "\n",
    "# comp_tips=get_comp_tips(width,height,V_threshold)\n",
    "\n",
    "\n",
    "#TODO: add any fields from either dict for comp_tips\n",
    "# dict_tips=comp_tips(img,img_prev,dimgdt,t,txt)\n",
    "# dict_tips=comp_dict_topo_lagged(img, img_prev, t, txt)\n",
    "\n",
    "\n",
    "pdict=ParticlePBCDict(dict_tips=dict_tips, width=width, height=width)\n",
    "ntips=len(dict_tips['x'])\n",
    "\n",
    "#visualize token death system\n",
    "x_values=np.array(dict_tips['x'])\n",
    "y_values=np.array(dict_tips['y'])\n",
    "c_values=np.array(dict_tips['pid'])\n",
    "fig = ShowDomain(img,dimgdt,x_values,y_values,c_values,V_threshold,t,\n",
    "                 inch=6,fontsize=16,vmin_img=0.,vmax_img=1.,area=25,\n",
    "                 frameno=None,#frameno,\n",
    "                 save_fn=None,#save_fn,\n",
    "                 save_folder=None,#save_folder,\n",
    "                 save=False,#True,\n",
    "                 annotating=True,\n",
    "                 axis=[0,img.shape[0],0,img.shape[1]])"
   ]
  },
  {
   "cell_type": "code",
   "execution_count": 18,
   "metadata": {
    "ExecuteTime": {
     "end_time": "2021-06-10T01:10:38.430874Z",
     "start_time": "2021-06-10T01:10:37.939475Z"
    }
   },
   "outputs": [],
   "source": [
    "#TODO(later): get comp_tips_safely working\n",
    "# dict_tips=comp_tips(img,img_prev,dimgdt,t,txt)\n",
    "dict_tips=comp_dict_topo_lagged(img, img_prev, t, txt)"
   ]
  },
  {
   "cell_type": "code",
   "execution_count": null,
   "metadata": {
    "ExecuteTime": {
     "end_time": "2021-06-10T01:09:59.239116Z",
     "start_time": "2021-06-10T01:09:59.196197Z"
    }
   },
   "outputs": [],
   "source": []
  },
  {
   "cell_type": "code",
   "execution_count": 19,
   "metadata": {
    "ExecuteTime": {
     "end_time": "2021-06-10T01:10:46.810718Z",
     "start_time": "2021-06-10T01:10:46.793468Z"
    }
   },
   "outputs": [],
   "source": [
    "# from inspect import getsource\n",
    "# print ( getsource(pdict.record_tips_return_txt))\n",
    "# pdict.record_tips_return_txt?\n",
    "ntips=len(dict_tips['x'])\n",
    "assert(ntips>0)"
   ]
  },
  {
   "cell_type": "code",
   "execution_count": null,
   "metadata": {
    "ExecuteTime": {
     "start_time": "2021-06-10T01:11:34.921Z"
    }
   },
   "outputs": [
    {
     "name": "stdout",
     "output_type": "stream",
     "text": [
      "saved ntips=4, time=208.05 ms.\r"
     ]
    }
   ],
   "source": [
    "# while there are still tips,\n",
    "save_every_n_frames=1\n",
    "nsteps=1\n",
    "# img=txt[...,0];img_prev=txt_prev[...,0]\n",
    "# dict_tips=comp_dict_topo_lagged(img, img_prev, t, txt)\n",
    "img_item_lst=[]\n",
    "# ntips=len(dict_tips['x'])\n",
    "while ntips>0:\n",
    "#     txt=stack_txt(inVc,outVc,inmhjdfx,outmhjdfx,dVcdt).copy()\n",
    "    #compute images\n",
    "    img=txt[...,0].copy()#;dimgdt=dVcdt[...,0]\n",
    "    img_item_lst.append((t,img))\n",
    "    #recall img_prev, which is voltage at a time DT earlier\n",
    "    t_a,img_prev=img_item_lst[0]\n",
    "    DT_img_item_lst=t-t_a\n",
    "    if DT_img_item_lst>=DT:\n",
    "        #record tips\n",
    "        img_item_lst.pop(0)\n",
    "        dict_tips=comp_dict_topo_lagged(img, img_prev, t, txt)\n",
    "#         dict_tips=comp_tips(img,img_prev,dimgdt, t, txt)\n",
    "        ntips=len(dict_tips['x'])\n",
    "        if ntips>0:\n",
    "            pdict.merge(dict_tips)\n",
    "            # t_prev=t;txt_prev=txt.copy();\n",
    "#         frameno=SaveTipsAndColoredContours(img,frameno,dict_tips,save_folder=save_folder)#,save_fn=None,vmin_img=-85.,vmax_img=35.,inch=5)\n",
    "        print(f\"saved ntips={ntips}, time={t:.2f} ms.\", end='\\r')\n",
    "\n",
    "    for j in range(save_every_n_frames):\n",
    "        #     integrate forward by one_step\n",
    "        #         one_step(inVc, outVc, inmhjdfx, outmhjdfx, dVcdt)\n",
    "        #         t+=dt\n",
    "        txt=one_step_map(txt,nsteps=nsteps)\n",
    "        t+=2*dt*nsteps\n"
   ]
  },
  {
   "cell_type": "code",
   "execution_count": 3,
   "metadata": {
    "ExecuteTime": {
     "end_time": "2021-06-09T17:41:38.182113Z",
     "start_time": "2021-06-09T17:41:13.043879Z"
    }
   },
   "outputs": [
    {
     "name": "stdout",
     "output_type": "stream",
     "text": [
      "(200, 200, 18)\n"
     ]
    }
   ],
   "source": [
    "# #simulation (prev with cuda)\n",
    "# while ntips>0:\n",
    "#     t_prev=t;txt_prev=txt.copy()\n",
    "#     # for m in range(50):\n",
    "#     #     txt=one_step_map(txt,nsteps=nsteps)\n",
    "#     #     tme+=2*dt*nsteps\n",
    "#     txt=one_step_map(txt,nsteps=nsteps)\n",
    "#     tme+=2*dt*nsteps\n",
    "#     #reidentify the tips to be tracked\n",
    "#     dtxt_dt = zero_txt.copy()\n",
    "#     get_time_step(txt_prev, dtxt_dt)\n",
    "#     img=txt_prev[...,0];dimgdt=dtxt_dt[...,0]\n",
    "#     dict_tips=comp_dict_tips(img, dimgdt, tme, txt_prev)\n",
    "#     pdict.merge_dict(dict_tips)\n",
    "#     ntips=len(dict_tips['x'])\n",
    "#     print(f\"ntips={ntips:.0f}, time={tme:.2f}.\",end='\\r')"
   ]
  },
  {
   "cell_type": "code",
   "execution_count": null,
   "metadata": {
    "ExecuteTime": {
     "start_time": "2021-06-10T01:12:02.125Z"
    }
   },
   "outputs": [],
   "source": [
    "#format/save output pdict\n",
    "modname=f\"{nb_dir}/Data/test_data/steady_death_test_FK_t0_{t0:.3f}_t_{t:.3f}_DT_0.001\"\n",
    "pdict.to_csv_and_json(modname)"
   ]
  },
  {
   "cell_type": "code",
   "execution_count": null,
   "metadata": {},
   "outputs": [],
   "source": []
  },
  {
   "cell_type": "markdown",
   "metadata": {
    "heading_collapsed": true
   },
   "source": [
    "# Analysis"
   ]
  },
  {
   "cell_type": "markdown",
   "metadata": {
    "hidden": true
   },
   "source": [
    "## plots of the results of the last living tip as it annihilates with the other last living tip"
   ]
  },
  {
   "cell_type": "code",
   "execution_count": null,
   "metadata": {
    "ExecuteTime": {
     "start_time": "2021-06-09T17:41:11.628Z"
    },
    "hidden": true
   },
   "outputs": [],
   "source": [
    "#import df from ^that modname\n",
    "pid_alive_lst=pdict.get_alive_particles()\n",
    "pid=pid_alive_lst[0]\n",
    "#OR separate pdict directly without saving\n",
    "df, dict_greater_dict, dict_lesser_dict=pdict.separate_data_to_pandas()"
   ]
  },
  {
   "cell_type": "code",
   "execution_count": null,
   "metadata": {
    "ExecuteTime": {
     "start_time": "2021-06-09T17:41:11.631Z"
    },
    "hidden": true
   },
   "outputs": [],
   "source": [
    "from jupyterthemes import jtplot\n",
    "jtplot.style(context='notebook', ticks=True, grid=False)"
   ]
  },
  {
   "cell_type": "code",
   "execution_count": null,
   "metadata": {
    "ExecuteTime": {
     "start_time": "2021-06-09T17:41:11.635Z"
    },
    "hidden": true
   },
   "outputs": [],
   "source": [
    "#DONE: translated these functions into ParticleDictPBC methods\n",
    "def compute_field_values(pdict,field):\n",
    "    pid_lst=pdict.get_alive_particles()\n",
    "    last_particle=pdict[pid_lst[0]]\n",
    "    values=np.array(last_particle[field])\n",
    "    return values\n",
    "\n",
    "def compute_sigma_max_values(pdict,ds=5.,field='lesser_arclen',pid=None):\n",
    "    if pid is None:\n",
    "        pid_lst=pdict.get_alive_particles()\n",
    "        last_particle=pdict[pid_lst[0]]\n",
    "    else:\n",
    "        last_particle=pdict[pid]\n",
    "    scale=ds/last_particle.width #cm/pixel\n",
    "    sigma_max_values=scale*np.array(last_particle[field])\n",
    "    return sigma_max_values\n",
    "\n",
    "def compute_t_values(pdict,ds=5.,field='t'):\n",
    "    pid_lst=pdict.get_alive_particles()\n",
    "    last_particle=pdict[pid_lst[0]]\n",
    "    scale=1.#ms per ms\n",
    "    t_values=scale*np.array(last_particle[field])\n",
    "    return t_values\n"
   ]
  },
  {
   "cell_type": "code",
   "execution_count": null,
   "metadata": {
    "ExecuteTime": {
     "start_time": "2021-06-09T17:41:11.638Z"
    },
    "hidden": true
   },
   "outputs": [],
   "source": [
    "t_values=compute_t_values(pdict,ds=5.,field='t')\n",
    "greater_mean_V_values=compute_field_values(pdict,field='greater_mean_V')\n",
    "lesser_mean_V_values=compute_field_values(pdict,field='lesser_mean_V')\n",
    "greater_mean_curvature_values=compute_field_values(pdict,field='greater_mean_curvature')\n",
    "lesser_mean_curvature_values=compute_field_values(pdict,field='lesser_mean_curvature')\n",
    "pdict[0].keys()"
   ]
  },
  {
   "cell_type": "code",
   "execution_count": null,
   "metadata": {
    "ExecuteTime": {
     "start_time": "2021-06-09T17:41:11.644Z"
    },
    "hidden": true
   },
   "outputs": [],
   "source": [
    "#TODO: compute sigma_max as a function of time \n",
    "#HINT: open compute_last_sigma_max\n",
    "#TODO: make compute_last_sigma_max use the pid_pair of interest explicitely\n",
    "sigma_max_lesser_values=compute_sigma_max_values(pdict,ds)\n",
    "sigma_max_greater_values=compute_sigma_max_values(pdict,ds,field='greater_arclen')\n",
    "# from inspect import getsource\n",
    "# print ( getsource(compute_last_sigma_max))\n",
    "x_values=t_values[-1]-t_values"
   ]
  },
  {
   "cell_type": "code",
   "execution_count": null,
   "metadata": {
    "ExecuteTime": {
     "start_time": "2021-06-09T17:41:11.648Z"
    },
    "hidden": true
   },
   "outputs": [],
   "source": [
    "# #TODO: visualize sigma_max versus time until annihilation\n",
    "# #TODO: visualize naive distance versus time until death\n",
    "# plt.plot(x_values,sigma_max_lesser_values,label='lesser arclength',c='C0')\n",
    "# plt.plot(x_values,sigma_max_greater_values,label='greater arclength',c='C4')\n",
    "# plt.yscale('log')\n",
    "# plt.ylabel('')\n",
    "# pdict"
   ]
  },
  {
   "cell_type": "code",
   "execution_count": null,
   "metadata": {
    "ExecuteTime": {
     "start_time": "2021-06-09T17:41:11.652Z"
    },
    "hidden": true
   },
   "outputs": [],
   "source": [
    "fontsize=16\n",
    "#plot naive range at death and birth\n",
    "plt.subplots(figsize=(7,5))\n",
    "plt.plot(x_values,sigma_max_lesser_values,label='shorter arm',c='C0',lw=2.5,alpha=0.9)\n",
    "plt.plot(x_values,sigma_max_greater_values,label='longer arm',c='C4',lw=2.5,alpha=0.9)\n",
    "plt.xlabel('time until annihilation (ms)',fontsize=fontsize)\n",
    "plt.ylabel('arclength between spiral tips (cm)',fontsize=fontsize)\n",
    "plt.legend(fontsize=fontsize)\n",
    "plt.xlim([-2,30])\n",
    "# plt.xlim([1e-3,30])\n",
    "# plt.xscale('log')\n",
    "plt.yscale('log')\n",
    "plt.tick_params(axis='both', which='major', labelsize=fontsize)\n",
    "plt.tick_params(axis='both', which='minor', labelsize=1)\n",
    "print(f\"\\ttime between two frames was {0.001} ms\")\n",
    "\n",
    "saving=False\n",
    "savefig_folder=f\"{nb_dir}/Figures/fine_death\"\n",
    "savefig_fn=f\"fine-death-arclen.png\"\n",
    "if not saving: \n",
    "    plt.show() \n",
    "else:\n",
    "    plt.tight_layout()\n",
    "    os.chdir(savefig_folder)\n",
    "    plt.savefig(savefig_fn, dpi=300)\n",
    "    print(f\"saved figure in \\n\\t{savefig_fn}\")\n",
    "#     plt.close()"
   ]
  },
  {
   "cell_type": "code",
   "execution_count": null,
   "metadata": {
    "ExecuteTime": {
     "start_time": "2021-06-09T17:41:11.655Z"
    },
    "hidden": true
   },
   "outputs": [],
   "source": [
    "fontsize=16\n",
    "#plot naive range at death and birth\n",
    "plt.subplots(figsize=(7,5))\n",
    "plt.plot(x_values,sigma_max_lesser_values,label='shorter arm',c='C0',lw=2.5,alpha=0.9)\n",
    "plt.plot(x_values,sigma_max_greater_values,label='longer arm',c='C4',lw=2.5,alpha=0.9)\n",
    "plt.xlabel('time until annihilation (ms)',fontsize=fontsize)\n",
    "plt.ylabel('arclength between spiral tips (cm)',fontsize=fontsize)\n",
    "plt.legend(fontsize=fontsize)\n",
    "# plt.xlim([-2,30])\n",
    "plt.xlim([1e-3,30])\n",
    "plt.xscale('log')\n",
    "plt.yscale('log')\n",
    "plt.tick_params(axis='both', which='major', labelsize=fontsize)\n",
    "plt.tick_params(axis='both', which='minor', labelsize=1)\n",
    "print(f\"\\ttime between two frames was {0.001} ms\")\n",
    "\n",
    "saving=True\n",
    "savefig_folder=f\"{nb_dir}/Figures/fine_death\"\n",
    "savefig_fn=f\"fine-death-arclen-log.png\"\n",
    "if not saving: \n",
    "    plt.show() \n",
    "else:\n",
    "    plt.tight_layout()\n",
    "    os.chdir(savefig_folder)\n",
    "    plt.savefig(savefig_fn, dpi=300)\n",
    "    print(f\"saved figure in \\n\\t{savefig_fn}\")\n",
    "#     plt.close()"
   ]
  },
  {
   "cell_type": "code",
   "execution_count": null,
   "metadata": {
    "ExecuteTime": {
     "start_time": "2021-06-09T17:41:11.658Z"
    },
    "hidden": true
   },
   "outputs": [],
   "source": [
    "fontsize=16\n",
    "#plot naive range at death and birth\n",
    "plt.subplots(figsize=(7,5))#(5,4))\n",
    "plt.plot(x_values[1:],lesser_mean_curvature_values,label='shorter arm',c='C0',lw=2.5,alpha=0.9)\n",
    "plt.plot(x_values[1:],greater_mean_curvature_values,label='longer arm',c='C4',lw=2.5,alpha=0.9)\n",
    "plt.xlabel('time until annihilation (ms)',fontsize=fontsize)\n",
    "plt.ylabel('mean curvature (1/cm)',fontsize=fontsize)\n",
    "plt.legend(fontsize=fontsize)\n",
    "plt.ylim([1e0,1e9])\n",
    "plt.xlim([-2,30])\n",
    "# plt.xlim([1e-3,30])\n",
    "# plt.xscale('log')\n",
    "plt.yscale('log')\n",
    "plt.tick_params(axis='both', which='major', labelsize=fontsize)\n",
    "plt.tick_params(axis='both', which='minor', labelsize=1)\n",
    "# print(f\"\\ttime between two frames was {0.001} ms\")\n",
    "\n",
    "saving=True\n",
    "savefig_folder=f\"{nb_dir}/Figures/fine_death\"\n",
    "savefig_fn=f\"fine-death-curvature.png\"\n",
    "if not saving: \n",
    "    plt.show() \n",
    "else:\n",
    "    plt.tight_layout()\n",
    "    os.chdir(savefig_folder)\n",
    "    plt.savefig(savefig_fn, dpi=300)\n",
    "    print(f\"saved figure in \\n\\t{savefig_fn}\")\n",
    "    plt.close()"
   ]
  },
  {
   "cell_type": "code",
   "execution_count": null,
   "metadata": {
    "ExecuteTime": {
     "start_time": "2021-06-09T17:41:11.661Z"
    },
    "hidden": true
   },
   "outputs": [],
   "source": [
    "fontsize=16\n",
    "#plot naive range at death and birth\n",
    "plt.subplots(figsize=(7,5))#(5,4))\n",
    "plt.plot(x_values[1:],lesser_mean_curvature_values,label='shorter arm',c='C0',lw=2.5,alpha=0.9)\n",
    "plt.plot(x_values[1:],greater_mean_curvature_values,label='longer arm',c='C4',lw=2.5,alpha=0.9)\n",
    "plt.xlabel('time until annihilation (ms)',fontsize=fontsize)\n",
    "plt.ylabel('mean curvature (1/cm)',fontsize=fontsize)\n",
    "plt.legend(fontsize=fontsize)\n",
    "plt.ylim([1e0,1e9])\n",
    "# plt.xlim([-2,30])\n",
    "plt.xlim([1e-3,30])\n",
    "plt.xscale('log')\n",
    "plt.yscale('log')\n",
    "plt.tick_params(axis='both', which='major', labelsize=fontsize)\n",
    "plt.tick_params(axis='both', which='minor', labelsize=1)\n",
    "# print(f\"\\ttime between two frames was {0.001} ms\")\n",
    "\n",
    "saving=True\n",
    "savefig_folder=f\"{nb_dir}/Figures/fine_death\"\n",
    "savefig_fn=f\"fine-death-curvature-log.png\"\n",
    "if not saving: \n",
    "    plt.show() \n",
    "else:\n",
    "    plt.tight_layout()\n",
    "    os.chdir(savefig_folder)\n",
    "    plt.savefig(savefig_fn, dpi=300)\n",
    "    print(f\"saved figure in \\n\\t{savefig_fn}\")\n",
    "#     plt.close()"
   ]
  },
  {
   "cell_type": "code",
   "execution_count": null,
   "metadata": {
    "ExecuteTime": {
     "start_time": "2021-06-09T17:41:11.664Z"
    },
    "hidden": true
   },
   "outputs": [],
   "source": [
    "fontsize=16\n",
    "#plot naive range at death and birth\n",
    "plt.subplots(figsize=(7,5))#(5,4))\n",
    "plt.plot(x_values[1:],lesser_mean_V_values,label='shorter arm',c='C0',lw=2.5,alpha=0.9)\n",
    "plt.plot(x_values[1:],greater_mean_V_values,label='longer arm',c='C4',lw=2.5,alpha=0.9)\n",
    "plt.xlabel('time until annihilation (ms)',fontsize=fontsize)\n",
    "plt.ylabel('voltage (mV)',fontsize=fontsize)\n",
    "plt.legend(fontsize=fontsize)\n",
    "# plt.ylim([1e0,1e9])\n",
    "plt.xlim([-2,30])\n",
    "# plt.xlim([1e-3,30])\n",
    "# plt.xscale('log')\n",
    "# plt.yscale('log')\n",
    "plt.tick_params(axis='both', which='major', labelsize=fontsize)\n",
    "plt.tick_params(axis='both', which='minor', labelsize=1)\n",
    "# print(f\"\\ttime between two frames was {0.001} ms\")\n",
    "\n",
    "saving=True\n",
    "savefig_folder=f\"{nb_dir}/Figures/fine_death\"\n",
    "savefig_fn=f\"fine-death-voltage.png\"\n",
    "if not saving: \n",
    "    plt.show() \n",
    "else:\n",
    "    plt.tight_layout()\n",
    "    os.chdir(savefig_folder)\n",
    "    plt.savefig(savefig_fn, dpi=300)\n",
    "    print(f\"saved figure in \\n\\t{savefig_fn}\")\n",
    "#     plt.close()"
   ]
  },
  {
   "cell_type": "code",
   "execution_count": null,
   "metadata": {
    "ExecuteTime": {
     "start_time": "2021-06-09T17:41:11.667Z"
    },
    "hidden": true
   },
   "outputs": [],
   "source": [
    "fontsize=16\n",
    "#plot naive range at death and birth\n",
    "plt.subplots(figsize=(7,5))#(5,4))\n",
    "plt.plot(x_values[1:],lesser_mean_V_values,label='shorter arm',c='C0',lw=2.5,alpha=0.9)\n",
    "plt.plot(x_values[1:],greater_mean_V_values,label='longer arm',c='C4',lw=2.5,alpha=0.9)\n",
    "plt.xlabel('time until annihilation (ms)',fontsize=fontsize)\n",
    "plt.ylabel('mean voltage (mV)',fontsize=fontsize)\n",
    "plt.legend(fontsize=fontsize)\n",
    "# plt.ylim([1e0,1e9])\n",
    "# plt.xlim([-2,30])\n",
    "plt.xlim([1e-3,30])\n",
    "plt.xscale('log')\n",
    "# plt.yscale('log')\n",
    "plt.tick_params(axis='both', which='major', labelsize=fontsize)\n",
    "plt.tick_params(axis='both', which='minor', labelsize=1)\n",
    "# print(f\"\\ttime between two frames was {0.001} ms\")\n",
    "\n",
    "saving=True\n",
    "savefig_folder=f\"{nb_dir}/Figures/fine_death\"\n",
    "savefig_fn=f\"fine-death-voltage-log.png\"\n",
    "if not saving: \n",
    "    plt.show() \n",
    "else:\n",
    "    plt.tight_layout()\n",
    "    os.chdir(savefig_folder)\n",
    "    plt.savefig(savefig_fn, dpi=300)\n",
    "    print(f\"saved figure in \\n\\t{savefig_fn}\")\n",
    "#     plt.close()"
   ]
  },
  {
   "cell_type": "code",
   "execution_count": null,
   "metadata": {
    "ExecuteTime": {
     "start_time": "2021-06-09T17:41:11.670Z"
    },
    "hidden": true
   },
   "outputs": [],
   "source": [
    "# fontsize=16\n",
    "# #plot naive range at death and birth\n",
    "# plt.subplots(figsize=(7,5))#(5,4))\n",
    "# boo=x_values[1:]<8\n",
    "\n",
    "# plt.scatter(lesser_mean_curvature_values[boo],lesser_mean_V_values[boo],label='shorter arm',c='C0',alpha=0.5)\n",
    "# plt.scatter(greater_mean_curvature_values[boo],greater_mean_V_values[boo],label='longer arm',c='C4',alpha=0.5)\n",
    "# plt.xlabel('mean curvature (1/cm)',fontsize=fontsize)\n",
    "# plt.ylabel('electric potential (mV)',fontsize=fontsize)\n",
    "\n",
    "# # plt.scatter(sigma_max_lesser_values[1:][boo],lesser_mean_V_values[boo],label='shorter arm',c='C0',lw=1.5,alpha=0.9)\n",
    "# # plt.scatter(sigma_max_greater_values[1:][boo],greater_mean_V_values[boo],label='longer arm',c='C4',lw=1.5,alpha=0.9)\n",
    "# # plt.xlabel('arclength between spiral tips (cm)',fontsize=fontsize)\n",
    "# # plt.ylabel('electric potential (mV)',fontsize=fontsize)\n",
    "# # plt.xlim([1e-3,1e-2])\n",
    "\n",
    "# # plt.scatter(sigma_max_lesser_values[1:][boo],lesser_mean_curvature_values[boo],label='shorter arm',c='C0',lw=1.5,alpha=0.9)\n",
    "# # plt.scatter(sigma_max_greater_values[1:][boo],greater_mean_curvature_values[boo],label='longer arm',c='C4',lw=1.5,alpha=0.9)\n",
    "# # plt.xlabel('arclength between spiral tips (cm)',fontsize=fontsize)\n",
    "# # plt.ylabel('mean curvature (1/cm)',fontsize=fontsize)\n",
    "\n",
    "# plt.legend(fontsize=fontsize)\n",
    "# # plt.ylim([1e-3,1e5])\n",
    "# plt.xscale('log')\n",
    "# # plt.yscale('log')\n",
    "# plt.tick_params(axis='both', which='major', labelsize=fontsize)\n",
    "# plt.tick_params(axis='both', which='minor', labelsize=1)\n",
    "# plt.show()\n",
    "# # print(f\"\\ttime between two frames was {0.001} ms\")"
   ]
  },
  {
   "cell_type": "code",
   "execution_count": null,
   "metadata": {
    "ExecuteTime": {
     "start_time": "2021-06-09T17:41:11.673Z"
    },
    "hidden": true
   },
   "outputs": [],
   "source": [
    "#quantify force direction along activation front\n",
    "#TODO: compute the 2D unit vector directed from the given particle along its lesser arclen\n",
    "#TODO: compute the 2D unit vector directed in the direction the first particle position is moving\n",
    "#TODO: compute the signed_angle = arcsin(cross product magnitude of ^those 2D unit vectors)\n",
    "#TODO: visualize ^that angle versus time until death"
   ]
  },
  {
   "cell_type": "code",
   "execution_count": null,
   "metadata": {
    "ExecuteTime": {
     "start_time": "2021-06-09T17:41:11.676Z"
    },
    "hidden": true
   },
   "outputs": [],
   "source": [
    "#quantify effect of relative phase on reaction\n",
    "#TODO: compute the 2D unit vector directed from the given particle along its lesser arclen\n",
    "#TODO: compute the 2D unit vector directed from the first particle position to the second particle position\n",
    "#TODO: compute the signed_angle = arcsin(cross product magnitude of ^those 2D unit vectors)\n",
    "#TODO: visualize ^that angle versus time until death\n",
    "# df.head()"
   ]
  },
  {
   "cell_type": "markdown",
   "metadata": {
    "hidden": true
   },
   "source": [
    "Perhaps, each spiral tip is more like a local oscillator with a relative phase, $\\phi_{i,j}(t)$, \n",
    "- given by the angle with the shortest line "
   ]
  },
  {
   "cell_type": "code",
   "execution_count": null,
   "metadata": {
    "ExecuteTime": {
     "start_time": "2021-06-09T17:41:11.678Z"
    },
    "hidden": true
   },
   "outputs": [],
   "source": [
    "#quantify form of relative phase on reaction\n",
    "#TODO: compute ^that phase for both particles\n",
    "#TODO: visualize a few measures that combine phi1 and phi2... phi2-phi1? phi2+phi1?\n",
    "# QUESTION: Is there a clear pattern that removes the need for the displacement vector, xy2-xy1?\n",
    "# QUESTION: if so, what ODE might describe the time evolution of this relative phase measure?"
   ]
  },
  {
   "cell_type": "code",
   "execution_count": null,
   "metadata": {
    "ExecuteTime": {
     "start_time": "2021-06-09T17:41:11.681Z"
    },
    "hidden": true
   },
   "outputs": [],
   "source": [
    "i=7 #ith time frame\n",
    "greater_dict=dict_greater_dict[pid]\n",
    "XY=np.array(greater_dict['greater_xy_values'])\n",
    "X,Y=XY[i].T\n",
    "Z=np.array(greater_dict['greater_xy_values'])[i]"
   ]
  },
  {
   "cell_type": "code",
   "execution_count": null,
   "metadata": {
    "ExecuteTime": {
     "start_time": "2021-06-09T17:41:11.684Z"
    },
    "hidden": true
   },
   "outputs": [],
   "source": [
    "# Y=greater_dict['y_values']\n",
    "contours = plt.contour(X, Y, Z, 3, colors='black')\n",
    "plt.clabel(contours, inline=True, fontsize=8)\n",
    "\n",
    "plt.imshow(Z, extent=[0, 5, 0, 5], origin='lower',\n",
    "           cmap='RdGy', alpha=0.5)\n",
    "plt.colorbar();\n",
    "greater_dict=dict_greater_dict[pid]\n",
    "\n",
    "greater_dict.keys()"
   ]
  },
  {
   "cell_type": "code",
   "execution_count": null,
   "metadata": {
    "ExecuteTime": {
     "start_time": "2021-06-09T17:41:11.686Z"
    },
    "hidden": true
   },
   "outputs": [],
   "source": [
    "# # plot sigma_max of the lesser_arclen versus time for all particles, centering about their last recorded time\n",
    "# fontsize=18\n",
    "# # saving=True\n",
    "# # savefig_folder=f\"{nb_dir}/Figures\"\n",
    "# # savefig_fn=f\"arclen-versus-ttdeath-2.png\"\n",
    "# figsize=(6,5)\n",
    "# fig,ax=plt.subplots(figsize=figsize)\n",
    "\n",
    "# pid_lst=list(pdict.keys())\n",
    "# pid_lst=pdict.get_alive_particles()\n",
    "\n",
    "# # pid_lst=pdict.get_alive_particles()\n",
    "# for pid in pid_lst[:1]:\n",
    "#     #extract values\n",
    "#     sigma_max_values=np.array(pdict[pid]['greater_arclen'])\n",
    "#     sigma_max_values_other=np.array(pdict[pid]['lesser_arclen'])\n",
    "#     t_values=np.array(pdict[pid]['t'])\n",
    "#     t_until_death_values=t_values[-1]-t_values\n",
    "#     x_values=t_until_death_values\n",
    "#     y_values=sigma_max_values*5/img.shape[0]\n",
    "#     y_values_other=sigma_max_values_other*5/img.shape[0]\n",
    "    \n",
    "#     #plot values\n",
    "#     ax.scatter(x_values,y_values,alpha=0.2)\n",
    "#     ax.scatter(x_values,y_values_other,alpha=0.2)\n",
    "# #format\n",
    "# ax.set_xlim([8e-3,2e1])\n",
    "# ax.set_ylim([1e-2,10])\n",
    "# ax.set_xlabel('time until annihilation (ms)', fontsize=fontsize)\n",
    "# ax.set_ylabel('arclength of\\nactivation front (cm)', fontsize=fontsize)\n",
    "# ax.tick_params(axis='both', which='major', labelsize=fontsize)\n",
    "# ax.tick_params(axis='both', which='minor', labelsize=0)\n",
    "# ax.set_xscale('log')\n",
    "# ax.set_yscale('log')\n",
    "\n",
    "# # saving=True\n",
    "# # savefig_folder=f\"{nb_dir}/Figures\"\n",
    "# # savefig_fn=f\"arclen-versus-ttdeath-2.png\"\n",
    "# # if not saving: \n",
    "# #     plt.show() \n",
    "# # else:\n",
    "# #     plt.tight_layout()\n",
    "# #     os.chdir(savefig_folder)\n",
    "# #     plt.savefig(savefig_fn, dpi=300)\n",
    "# #     print(f\"saved figure in \\n\\t{savefig_fn}\")\n",
    "# #     plt.close()"
   ]
  },
  {
   "cell_type": "markdown",
   "metadata": {
    "heading_collapsed": true,
    "hidden": true
   },
   "source": [
    "## measure phase angles between last living spiral tips"
   ]
  },
  {
   "cell_type": "markdown",
   "metadata": {
    "hidden": true
   },
   "source": [
    "$$\n",
    "\\text{Let   } \\varphi_1\\equiv\\sin^{-1}\\big(\\widehat{\\mathbf{x}_2-\\mathbf{x}_1}\\;\\times\\;\\hat{\\mathbf{a}}_1\\big),\n",
    "$$\n",
    "\n",
    "$$\n",
    "\\text{and let   } \\varphi_2\\equiv\\sin^{-1}\\big(\\widehat{\\mathbf{x}_1-\\mathbf{x}_2}\\;\\times\\;\\hat{\\mathbf{a}}_2\\big).\n",
    "$$"
   ]
  },
  {
   "cell_type": "code",
   "execution_count": null,
   "metadata": {
    "ExecuteTime": {
     "start_time": "2021-06-09T17:41:11.690Z"
    },
    "hidden": true
   },
   "outputs": [],
   "source": [
    "from lib.measure.relative_phases import *"
   ]
  },
  {
   "cell_type": "code",
   "execution_count": null,
   "metadata": {
    "ExecuteTime": {
     "start_time": "2021-06-09T17:41:11.692Z"
    },
    "hidden": true
   },
   "outputs": [],
   "source": [
    "#compute the pdict\n",
    "df, dict_greater_dict, dict_lesser_dict=pdict.separate_data_to_pandas()\n",
    "\n",
    "#extract the relevant particles/contour\n",
    "pid_pair=pdict.get_alive_particles()\n",
    "pid=pid_pair[0]\n",
    "pid_deathmate=pdict[pid]['lesser_pid'][-1]\n",
    "pid_pair=pid,pid_deathmate\n",
    "d1=df[df.pid==float(pid_pair[0])].copy()\n",
    "d2=df[df.pid==float(pid_pair[1])].copy()\n",
    "dict_activation_front=dict_lesser_dict[pid_pair[0]]\n",
    "# dict_activation_front=dict_greater_dict[pid_pair[0]]\n",
    "\n",
    "#time values\n",
    "t1_values=d1['t'].values\n",
    "t_values=np.array(dict_activation_front['t'])[1:]\n",
    "\n",
    "#compute the relative phases of spiral tips\n",
    "range_values,phi1_values,phi2_values=compute_phases_between(d1,d2,dict_activation_front,field='lesser_xy_values')\n",
    "# range_values,phi1_values,phi2_values=compute_phases_between(d1,d2,dict_activation_front,field='greater_xy_values')\n",
    "phi_sum_values, phi_diff_values=comp_relative_phase(phi1_values,phi2_values)\n",
    "\n",
    "#print results\n",
    "print(f\"printing means...\")\n",
    "print(f\"phi1   , phi2     = {np.mean(phi1_values):.3f},{np.mean(phi2_values):.3f} at time {np.mean(t_values):.3f}.\")\n",
    "print(f\"phi_sum, phi_diff = {np.mean(phi_sum_values):.3f},{np.mean(phi_diff_values):.3f}.\")"
   ]
  },
  {
   "cell_type": "code",
   "execution_count": null,
   "metadata": {
    "ExecuteTime": {
     "start_time": "2021-06-09T17:41:11.695Z"
    },
    "hidden": true
   },
   "outputs": [],
   "source": [
    "#extract values for plot\n",
    "sigma_max_lesser_values=compute_sigma_max_values(pdict,ds)\n",
    "# sigma_max_greater_values=compute_sigma_max_values(pdict,ds,field='greater_arclen',pid=pid_pair[0])\n",
    "x_values=(t_values[-1]-t_values)\n",
    "# boo=x_values<8 #ms\n",
    "\n",
    "y_values_lst=[phi1_values,phi2_values,phi_sum_values, phi_diff_values]\n",
    "y_label_lst=[r'$\\phi_1$',r'$\\phi_2$',r'$\\phi_{sum}$',r'$\\phi_{diff}$']\n",
    "ax_lst=[0,0,1,1]\n",
    "c_lst=['C0','C4','C0','C4']"
   ]
  },
  {
   "cell_type": "markdown",
   "metadata": {
    "ExecuteTime": {
     "end_time": "2021-05-10T22:12:03.660173Z",
     "start_time": "2021-05-10T22:12:03.309253Z"
    },
    "hidden": true
   },
   "source": [
    "plot the range/phase information for this death event"
   ]
  },
  {
   "cell_type": "code",
   "execution_count": null,
   "metadata": {
    "ExecuteTime": {
     "start_time": "2021-06-09T17:41:11.698Z"
    },
    "hidden": true
   },
   "outputs": [],
   "source": [
    "fontsize=16\n",
    "#plot naive range at death and birth\n",
    "plt.subplots(figsize=(7,5))#(5,4))\n",
    "\n",
    "plt.plot(x_values,range_values*5/200,c='k',alpha=0.8,lw=2.5)\n",
    "# plt.scatter(x_values,range_values*5/200,c='k',alpha=0.5)\n",
    "# plt.scatter(x_values[boo],range_values[boo],c='k',alpha=0.5,s=3)\n",
    "plt.xlabel('time until annihilation (ms)',fontsize=fontsize)\n",
    "plt.ylabel('Euclidean distance (cm)',fontsize=fontsize)\n",
    "\n",
    "# plt.legend(fontsize=fontsize)\n",
    "plt.xlim([1e-3,30])\n",
    "plt.ylim([1e-4,0.6])\n",
    "# plt.ylim([1e-3,1e5])\n",
    "# plt.xscale('log')\n",
    "# plt.yscale('log')\n",
    "plt.tick_params(axis='both', which='major', labelsize=fontsize)\n",
    "plt.tick_params(axis='both', which='minor', labelsize=1)\n",
    "# plt.show()\n",
    "# print(f\"\\ttime between two frames was {0.001} ms\")\n",
    "\n",
    "\n",
    "saving=True\n",
    "savefig_folder=f\"{nb_dir}/Figures/fine_death\"\n",
    "savefig_fn=f\"fine-death-range.png\"\n",
    "if not saving: \n",
    "    plt.show() \n",
    "else:\n",
    "    plt.tight_layout()\n",
    "    os.chdir(savefig_folder)\n",
    "    plt.savefig(savefig_fn, dpi=300)\n",
    "    print(f\"saved figure in \\n\\t{savefig_fn}\")\n",
    "#     plt.close()"
   ]
  },
  {
   "cell_type": "code",
   "execution_count": null,
   "metadata": {
    "ExecuteTime": {
     "start_time": "2021-06-09T17:41:11.701Z"
    },
    "hidden": true
   },
   "outputs": [],
   "source": [
    "fontsize=16\n",
    "#plot naive range at death and birth\n",
    "plt.subplots(figsize=(7,5))#(5,4))\n",
    "\n",
    "plt.plot(x_values,range_values*5/200,c='k',alpha=0.8,lw=2.5)\n",
    "# plt.scatter(x_values,range_values*5/200,c='k',alpha=0.5)\n",
    "# plt.scatter(x_values[boo],range_values[boo],c='k',alpha=0.5,s=3)\n",
    "plt.xlabel('time until annihilation (ms)',fontsize=fontsize)\n",
    "plt.ylabel('Euclidean distance (cm)',fontsize=fontsize)\n",
    "\n",
    "# plt.legend(fontsize=fontsize)\n",
    "plt.xlim([1e-3,30])\n",
    "plt.ylim([1e-4,1e0])\n",
    "# plt.ylim([1e-3,1e5])\n",
    "plt.xscale('log')\n",
    "plt.yscale('log')\n",
    "plt.tick_params(axis='both', which='major', labelsize=fontsize)\n",
    "plt.tick_params(axis='both', which='minor', labelsize=1)\n",
    "# plt.show()\n",
    "# print(f\"\\ttime between two frames was {0.001} ms\")\n",
    "\n",
    "saving=True\n",
    "savefig_folder=f\"{nb_dir}/Figures/fine_death\"\n",
    "savefig_fn=f\"fine-death-range-log.png\"\n",
    "if not saving: \n",
    "    plt.show() \n",
    "else:\n",
    "    plt.tight_layout()\n",
    "    os.chdir(savefig_folder)\n",
    "    plt.savefig(savefig_fn, dpi=300)\n",
    "    print(f\"saved figure in \\n\\t{savefig_fn}\")\n",
    "#     plt.close()"
   ]
  },
  {
   "cell_type": "code",
   "execution_count": null,
   "metadata": {
    "ExecuteTime": {
     "start_time": "2021-06-09T17:41:11.706Z"
    },
    "hidden": true
   },
   "outputs": [],
   "source": [
    "fontsize=16\n",
    "#plot naive range at death and birth\n",
    "fig,axs=plt.subplots(ncols=2,figsize=(12,5))#(5,4))\n",
    "\n",
    "for y_values,y_label,nax,color in zip(y_values_lst,y_label_lst,ax_lst,c_lst):\n",
    "    ax=axs[nax]\n",
    "    ax.plot(x_values[1:],y_values,alpha=1.0,label=y_label,c=color,lw=2.5)\n",
    "    # plt.scatter(x_values[boo],range_values[boo],c='k',alpha=0.5,s=3)\n",
    "    ax.set_xlabel('time until annihilation (ms)',fontsize=fontsize)\n",
    "    ax.set_ylabel('signed phase (rad)',fontsize=fontsize)\n",
    "\n",
    "    ax.set_xlim([1e-3,1e0])\n",
    "    ax.set_ylim([-np.pi/8,np.pi/8])\n",
    "    #     ax.set_xlim([1e-3,1e2])\n",
    "    ax.set_xscale('log')\n",
    "    # plt.yscale('log')\n",
    "    ax.tick_params(axis='both', which='major', labelsize=fontsize)\n",
    "    ax.tick_params(axis='both', which='minor', labelsize=1)\n",
    "    ax.legend(fontsize=fontsize)\n",
    "\n",
    "plt.tight_layout()\n",
    "# plt.show()\n",
    "# print(f\"\\ttime between two frames was {0.001} ms\")\n",
    "\n",
    "saving=True\n",
    "savefig_folder=f\"{nb_dir}/Figures/fine_death\"\n",
    "savefig_fn=f\"fine-death-range-phase.png\"\n",
    "if not saving: \n",
    "    plt.show() \n",
    "else:\n",
    "    plt.tight_layout()\n",
    "    os.chdir(savefig_folder)\n",
    "    plt.savefig(savefig_fn, dpi=300)\n",
    "    print(f\"saved figure in \\n\\t{savefig_fn}\")\n",
    "#     plt.close()"
   ]
  },
  {
   "cell_type": "code",
   "execution_count": null,
   "metadata": {
    "ExecuteTime": {
     "start_time": "2021-06-09T17:41:11.709Z"
    },
    "hidden": true,
    "scrolled": true
   },
   "outputs": [],
   "source": [
    "fontsize=16\n",
    "#plot naive range at death and birth\n",
    "fig,axs=plt.subplots(ncols=2,figsize=(12,5))#(5,4))\n",
    "\n",
    "for y_values,y_label,nax,color in zip(y_values_lst,y_label_lst,ax_lst,c_lst):\n",
    "    ax=axs[nax]\n",
    "    ax.plot(x_values[1:],np.abs(y_values),alpha=1.0,label=y_label,c=color,lw=2.5)\n",
    "    # plt.scatter(x_values[boo],range_values[boo],c='k',alpha=0.5,s=3)\n",
    "    ax.set_xlabel('time until annihilation (ms)',fontsize=fontsize)\n",
    "    ax.set_ylabel('absolute phase (rad)',fontsize=fontsize)\n",
    "\n",
    "    ax.set_xlim([1e-3,1e0])\n",
    "    ax.set_ylim([1e-6,np.pi/4])\n",
    "    #     ax.set_xlim([1e-3,1e2])\n",
    "    ax.set_xscale('log')\n",
    "    ax.set_yscale('log')\n",
    "    ax.tick_params(axis='both', which='major', labelsize=fontsize)\n",
    "    ax.tick_params(axis='both', which='minor', labelsize=1)\n",
    "    ax.legend(fontsize=fontsize)\n",
    "\n",
    "plt.tight_layout()\n",
    "# plt.show()\n",
    "# print(f\"\\ttime between two frames was {0.001} ms\")\n",
    "\n",
    "\n",
    "saving=True\n",
    "savefig_folder=f\"{nb_dir}/Figures/fine_death\"\n",
    "savefig_fn=f\"fine-death-phase-log.png\"\n",
    "if not saving: \n",
    "    plt.show() \n",
    "else:\n",
    "    plt.tight_layout()\n",
    "    os.chdir(savefig_folder)\n",
    "    plt.savefig(savefig_fn, dpi=300)\n",
    "    print(f\"saved figure in \\n\\t{savefig_fn}\")\n",
    "#     plt.close()"
   ]
  },
  {
   "cell_type": "markdown",
   "metadata": {
    "heading_collapsed": true,
    "hidden": true
   },
   "source": [
    "## save a snapshotand highlight the activation front"
   ]
  },
  {
   "cell_type": "code",
   "execution_count": null,
   "metadata": {
    "ExecuteTime": {
     "start_time": "2021-06-09T17:41:11.713Z"
    },
    "hidden": true
   },
   "outputs": [],
   "source": [
    "dt=0.001\n",
    "txt_fn=f'{nb_dir}/Data/test_data/ic008.33_t_218.8.npz'\n",
    "t=218.8;ds=5.;V_threshold=-50.\n",
    "txt=load_buffer(txt_fn)\n",
    "inVc,outVc,inmhjdfx,outmhjdfx,dVcdt=unstack_txt(txt)\n",
    "width,height=txt.shape[:2]\n",
    "print(txt.shape)\n",
    "one_step,comp_distance,comp_dict_tips=init_methods(width,height,ds,dt,V_threshold=V_threshold,jump_threshold=40)\n",
    "comp_dict_topo_full_color=comp_dict_tips\n",
    "#reidentify the tips to be tracked\n",
    "img=inVc[...,0];dimgdt=dVcdt[...,0]\n",
    "dict_tips=comp_dict_tips(img, dimgdt, t, txt)\n",
    "# pdict=ParticlePBCDict(dict_tips=dict_tips, width=width, height=width)#, **kwargs)\n",
    "t_prev=t;txt_prev=txt.copy()\n",
    "\n",
    "#visualize token death system\n",
    "x_values=np.array(dict_tips['x'])[:-2]\n",
    "y_values=np.array(dict_tips['y'])[:-2]\n",
    "c_values=np.array(dict_tips['pid'])[:-2]\n",
    "fig = ShowDomain(img,dimgdt,x_values,y_values,c_values,V_threshold,t,inch=6,\n",
    "                 fontsize=16,vmin_img=-85.,vmax_img=35.,area=25,\n",
    "                 frameno=None,#frameno,\n",
    "                 save_fn=None,#save_fn,\n",
    "                 save_folder=None,#save_folder,\n",
    "                 save=False,#True,\n",
    "                 annotating=True,\n",
    "                 axis=[0,img.shape[0],0,img.shape[1]])"
   ]
  },
  {
   "cell_type": "markdown",
   "metadata": {
    "hidden": true
   },
   "source": [
    "## measure slopes on the log-log plot for arclength and range versus time as time goes to zero"
   ]
  },
  {
   "cell_type": "code",
   "execution_count": null,
   "metadata": {
    "ExecuteTime": {
     "start_time": "2021-06-09T17:41:11.958Z"
    },
    "hidden": true
   },
   "outputs": [],
   "source": [
    "t_death_values=t_values[-1]-t_values\n",
    "arclen_values=sigma_max_lesser_values\n",
    "x_values=t_death_values\n",
    "\n",
    "\n",
    "#compute the loglog slope at short times\n",
    "boo=(x_values<0.05)&(x_values>0.)\n",
    "\n",
    "y=arclen_values[boo]\n",
    "x=x_values[boo]\n",
    "\n",
    "os.chdir(nb_dir)\n",
    "# !pwd\n",
    "\n",
    "from lib.measure.powerlaw import *\n",
    "print_fit_power_law(x,y)\n",
    "\n",
    "compute_95CI_ols(np.log(x),np.log(y))"
   ]
  },
  {
   "cell_type": "code",
   "execution_count": null,
   "metadata": {
    "ExecuteTime": {
     "start_time": "2021-06-09T17:41:11.961Z"
    },
    "hidden": true
   },
   "outputs": [],
   "source": [
    "arclen_values=sigma_max_lesser_values\n",
    "range_values,phi1_values,phi2_values=compute_phases_between(d1,d2,dict_activation_front,field='lesser_xy_values')\n",
    "# range_values=range_values[1:]\n",
    "x_values=t_death_values[1:]\n",
    "\n",
    "#compute the loglog slope at short times\n",
    "boo=(x_values<0.05)&(x_values>0.)\n",
    "\n",
    "y=range_values[boo]\n",
    "x=x_values[boo]\n",
    "\n",
    "os.chdir(nb_dir)\n",
    "# !pwd\n",
    "\n",
    "from lib.measure.powerlaw import *\n",
    "print_fit_power_law(x,y)"
   ]
  },
  {
   "cell_type": "code",
   "execution_count": null,
   "metadata": {
    "ExecuteTime": {
     "start_time": "2021-06-09T17:41:11.964Z"
    },
    "hidden": true
   },
   "outputs": [],
   "source": [
    "y.shape==x.shape"
   ]
  },
  {
   "cell_type": "code",
   "execution_count": null,
   "metadata": {
    "ExecuteTime": {
     "start_time": "2021-06-09T17:41:11.966Z"
    },
    "hidden": true
   },
   "outputs": [],
   "source": [
    "plt.plot(x,y)"
   ]
  },
  {
   "cell_type": "markdown",
   "metadata": {
    "heading_collapsed": true
   },
   "source": [
    "# TODO: measure two tips collide in the FK model using gpu acceleration\n",
    "- DONE: get comp_tips working with the FK model \n",
    "- zoom in for an annihilation event from the FK model\n",
    "6.1.2021\n",
    "- DONE: copy my cuda one_step method for the FK model\n",
    "- DONE: import an ic\n",
    "- DONE: identify a token FK death event where n=2 --> n=0\n",
    "6.8.2021\n",
    "- TODO: compute the distance between two tips versus time until death\n",
    "- TODO: plot the distance between two tips versus time until death"
   ]
  },
  {
   "cell_type": "code",
   "execution_count": null,
   "metadata": {
    "ExecuteTime": {
     "start_time": "2021-06-09T17:41:11.970Z"
    },
    "hidden": true
   },
   "outputs": [],
   "source": [
    "# heretim\n",
    "from lib.utils.dist_func import *\n",
    "from lib.utils.utils_jsonio import *\n",
    "from lib.model.minimal_model_cuda import *\n",
    "from lib.measure.utils_measure_tips_cpu import fetch_txt_to_tip_dict\n",
    "from lib.model.minimal_model import *\n",
    "\n",
    "from lib.controller.controller_cuda import *\n",
    "\n",
    "#TODO:combine the LR observation method with the FK one_step method\n",
    "#DONE: get one_step method working in cuda for fk model\n",
    "#DONE: get tip detection working\n",
    "#TODO: integrate up until just before death\n",
    "#TODO: save texture as with the LR model\n",
    "#TODO: integrate ^this with the existing routine\n",
    "#TODO(to save time in finding a near death event): once there are 2 tips, save txt_prev\n",
    "\n",
    "#load initial conditions interactively\n",
    "#find file interactively\n",
    "# print(\"please select a file from within the desired folder.\")\n",
    "# input_file_name = search_for_file()\n",
    "input_file_name='/home/timothytyree/Documents/GitHub/care/notebooks/Data/initial-conditions-suite-2/ic-in/ic_200x200.001.31.npz'\n",
    "ic = load_buffer(input_file_name)\n",
    "\n",
    "tme=0\n",
    "plt.imshow(ic)\n",
    "plt.title(f\"t={tme}\")\n",
    "plt.show()\n",
    "\n",
    "height, width, channel_no = ic.shape\n",
    "\n",
    "#map initial condition to the three initial scalar fields\n",
    "u_initial = np.array(ic.astype(np.float64)[...,0])\n",
    "v_initial = np.array(ic.astype(np.float64)[...,1])\n",
    "w_initial = np.array(ic.astype(np.float64)[...,2])\n",
    "\n",
    "diffCoef=0.0005\n",
    "ds=5\n",
    "dsdpixel=ds/500\n",
    "dt=0.001\n",
    "t=0.;\n",
    "ds=5.;V_threshold=0.4\n",
    "#load parameters for parameter set 8 for the Fenton-Karma Model\n",
    "param_file_name = '/home/timothytyree/Documents/GitHub/care/notebooks/lib/model/param_set_8.json'\n",
    "kwargs = read_parameters_from_json(param_file_name)\n",
    "kwargs['diffCoef']=diffCoef\n",
    "kernel_string = get_kernel_string_FK_model(**kwargs, DT=dt,DX=0.025,height=height,width=width)\n",
    "\n",
    "# #default observation parameters\n",
    "# n = 50  #half the number of steps between observations of spiral tips\n",
    "# nsteps = 10**6\n",
    "# pad = 10\n",
    "# edge_tolerance = 6\n",
    "# atol = 1e-10\n",
    "# printing=True\n",
    "\n",
    "width, height, channel_no = ic.shape\n",
    "zero_txt = np.zeros((width, height, channel_no), dtype=np.float64)\n",
    "# nanstate = [np.nan,np.nan,np.nan]\n",
    "# ycoord_mesh, xcoord_mesh = np.meshgrid(np.arange(0,width+2*(pad)),np.arange(0,width+2*pad))\n",
    "\n",
    "param_fn=param_file_name\n",
    "param_dir = os.path.join(nb_dir,'lib/model')\n",
    "param_dict = json.load(open(os.path.join(param_dir,param_fn)))\n",
    "if diffCoef is not None:\n",
    "    param_dict['diffCoef']=diffCoef\n",
    "\n",
    "get_time_step=fetch_get_time_step(width,height,DX=dsdpixel,DY=dsdpixel,**param_dict)\n",
    "\n",
    "# print(kernel_string)\n",
    "\n",
    "#initializing cuda context\n",
    "#initialize PyCuda and get compute capability needed for compilation\n",
    "context = drv.Device(0).make_context()\n",
    "devprops = { str(k): v for (k, v) in context.get_device().get_attributes().items() }\n",
    "cc = str(devprops['COMPUTE_CAPABILITY_MAJOR']) + str(devprops['COMPUTE_CAPABILITY_MINOR'])\n",
    "\n",
    "#define how resources are used\n",
    "# width  = kwargs['width']\n",
    "# height = kwargs['height']\n",
    "threads = (10,10,1)\n",
    "grid = (int(width/10), int(height/10), 1)\n",
    "block_size_string = \"#define block_size_x 10\\n#define block_size_y 10\\n\"\n",
    "\n",
    "#don't allocate memory many times for the same task!\n",
    "#allocate GPU memory for voltage scalar field\n",
    "u_old = drv.mem_alloc(u_initial.nbytes)\n",
    "u_new = drv.mem_alloc(u_initial.nbytes)\n",
    "\n",
    "#allocate GPU memory for v and w auxiliary fields\n",
    "v_old = drv.mem_alloc(v_initial.nbytes)\n",
    "v_new = drv.mem_alloc(v_initial.nbytes)\n",
    "w_old = drv.mem_alloc(w_initial.nbytes)\n",
    "w_new = drv.mem_alloc(w_initial.nbytes)\n",
    "\n",
    "#setup thread block dimensions and compile the kernel\n",
    "mod = SourceModule(block_size_string+kernel_string)\n",
    "time_step_kernel = mod.get_function(\"time_step_kernel\")\n",
    "\n",
    "one_step_map=get_one_step_map(time_step_kernel, drv, u_new, u_old, v_new, v_old, w_new, w_old, threads, grid, context)\n",
    "\n",
    "# txt=load_buffer(txt_fn)\n",
    "# inVc,outVc,inmhjdfx,outmhjdfx,dVcdt=unstack_txt(txt)\n",
    "# width,height=txt.shape[:2]\n",
    "print(txt.shape)\n",
    "# one_step,comp_distance,comp_dict_tips=init_methods(width,height,ds,dt,V_threshold=V_threshold,jump_threshold=40)\n",
    "# comp_dict_topo_full_color=comp_dict_tips\n",
    "\n",
    "\n",
    "#initialize simulation\n",
    "txt = ic.copy()\n",
    "tme = 0.\n",
    "nsteps=1000\n",
    "\n",
    "#find the termination tmie \n",
    "for m in range(100):\n",
    "    txt=one_step_map(txt,nsteps=nsteps)\n",
    "    tme+=2*dt*nsteps\n",
    "\n",
    "#reidentify the tips to be tracked\n",
    "dtxt_dt = zero_txt.copy()\n",
    "get_time_step(txt, dtxt_dt)\n",
    "img=txt[...,0];dimgdt=dtxt_dt[...,0]\n",
    "# img=inVc[...,0];dimgdt=dVcdt[...,0]\n",
    "dict_tips=comp_dict_tips(img, dimgdt, t, txt)\n",
    "# pdict=ParticlePBCDict(dict_tips=dict_tips, width=width, height=width)#, **kwargs)\n",
    "ntips=len(dict_tips['x'])\n",
    "\n",
    "while ntips>0:\n",
    "    t_prev=t;txt_prev=txt.copy()\n",
    "    for m in range(50):\n",
    "        txt=one_step_map(txt,nsteps=nsteps)\n",
    "        tme+=2*dt*nsteps\n",
    "\n",
    "    #reidentify the tips to be tracked\n",
    "    dtxt_dt = zero_txt.copy()\n",
    "    get_time_step(txt, dtxt_dt)\n",
    "    img=txt[...,0];dimgdt=dtxt_dt[...,0]\n",
    "    # img=inVc[...,0];dimgdt=dVcdt[...,0]\n",
    "    dict_tips=comp_dict_tips(img, dimgdt, tme, txt)\n",
    "    # pdict=ParticlePBCDict(dict_tips=dict_tips, width=width, height=width)#, **kwargs)\n",
    "    ntips=len(dict_tips['x'])\n",
    "    print(f\"ntips={ntips:.0f}, time={tme:.2f}.\",end='\\r')\n",
    "\n",
    "\n",
    "\n",
    "#test the V_threshold value\n",
    "j=1\n",
    "V_threshold=0.4\n",
    "level1 = V_threshold\n",
    "t=-999\n",
    "level2 = 0.\n",
    "# one_step,comp_distance,comp_dict_tips=init_methods(width,height,ds,dt,V_threshold=V_threshold,jump_threshold=40)\n",
    "\n",
    "#reidentify the tips to be tracked\n",
    "dtxt_dt = zero_txt.copy()\n",
    "get_time_step(txt_prev, dtxt_dt)\n",
    "img=txt_prev[...,0];dimgdt=dtxt_dt[...,0]\n",
    "# compute_all_spiral_tips= get_compute_all_spiral_tips(mode='simp',width=width,height=height)\n",
    "# dict_out=compute_all_spiral_tips(t,img,dimgdt,level1,level2)#,width=width,height=height)\n",
    "dict_tips=comp_dict_tips(img, dimgdt, tme, txt_prev)\n",
    "# print(len(list(dict_out['x'])))\n",
    "# fig=show_buffer_LR(txt)\n",
    "\n",
    "ntips=len(dict_tips['x'])\n",
    "print(f\"ntips={ntips:.0f}, time={tme:.2f}.\",end='\\r')\n",
    "plt.imshow(img,cmap='gray')\n",
    "plt.scatter(dict_tips['x'],dict_tips['y'],s=300,c='yellow',marker='*')\n",
    "plt.show()\n",
    "\n",
    "\n",
    "\n"
   ]
  }
 ],
 "metadata": {
  "kernelspec": {
   "display_name": "Python 3",
   "language": "python",
   "name": "python3"
  },
  "language_info": {
   "codemirror_mode": {
    "name": "ipython",
    "version": 3
   },
   "file_extension": ".py",
   "mimetype": "text/x-python",
   "name": "python",
   "nbconvert_exporter": "python",
   "pygments_lexer": "ipython3",
   "version": "3.7.6"
  },
  "toc": {
   "base_numbering": 1,
   "nav_menu": {},
   "number_sections": true,
   "sideBar": true,
   "skip_h1_title": false,
   "title_cell": "Table of Contents",
   "title_sidebar": "Contents",
   "toc_cell": false,
   "toc_position": {
    "height": "592.319px",
    "left": "47px",
    "top": "103.556px",
    "width": "165px"
   },
   "toc_section_display": true,
   "toc_window_display": false
  },
  "varInspector": {
   "cols": {
    "lenName": 16,
    "lenType": 16,
    "lenVar": 40
   },
   "kernels_config": {
    "python": {
     "delete_cmd_postfix": "",
     "delete_cmd_prefix": "del ",
     "library": "var_list.py",
     "varRefreshCmd": "print(var_dic_list())"
    },
    "r": {
     "delete_cmd_postfix": ") ",
     "delete_cmd_prefix": "rm(",
     "library": "var_list.r",
     "varRefreshCmd": "cat(var_dic_list()) "
    }
   },
   "types_to_exclude": [
    "module",
    "function",
    "builtin_function_or_method",
    "instance",
    "_Feature"
   ],
   "window_display": false
  }
 },
 "nbformat": 4,
 "nbformat_minor": 4
}
