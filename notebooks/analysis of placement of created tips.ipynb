{
 "cells": [
  {
   "cell_type": "markdown",
   "id": "37e61880",
   "metadata": {},
   "source": [
    "# analysis of placement of created tips\n",
    "Tim Tyree<br>\n",
    "7.12.2023"
   ]
  },
  {
   "cell_type": "code",
   "execution_count": 1,
   "id": "dc9624a9",
   "metadata": {
    "ExecuteTime": {
     "end_time": "2024-04-30T00:10:48.606590Z",
     "start_time": "2024-04-30T00:10:46.824328Z"
    }
   },
   "outputs": [],
   "source": [
    "import sys,os\n",
    "og_stdout=sys.stdout\n",
    "from lib.my_initialization import *\n",
    "os.chdir(nb_dir)\n",
    "from lib import *\n",
    "# import cupy, cudf\n",
    "# from lib.rapids_func import *\n",
    "import seaborn as sns\n",
    "import matplotlib.ticker as mtick\n",
    "import warnings\n",
    "warnings.simplefilter(\"ignore\", UserWarning)\n",
    "%load_ext autoreload\n",
    "%autoreload 2"
   ]
  },
  {
   "cell_type": "code",
   "execution_count": 2,
   "id": "c1ab34cb",
   "metadata": {
    "ExecuteTime": {
     "end_time": "2024-04-30T00:10:48.655006Z",
     "start_time": "2024-04-30T00:10:48.608156Z"
    }
   },
   "outputs": [],
   "source": [
    "import seaborn as sns\n",
    "#reset matplotlib\n",
    "plt.plot([1]*4)\n",
    "plt.close()\n",
    "#reset matplotlib settings\n",
    "import matplotlib as mpl\n",
    "sns.reset_orig()\n",
    "mpl.rc_file_defaults()"
   ]
  },
  {
   "cell_type": "markdown",
   "id": "0e6b980f",
   "metadata": {},
   "source": [
    "# define module"
   ]
  },
  {
   "cell_type": "code",
   "execution_count": null,
   "id": "e24085b9",
   "metadata": {},
   "outputs": [],
   "source": []
  },
  {
   "cell_type": "markdown",
   "id": "5af1a46c",
   "metadata": {},
   "source": [
    "# dev"
   ]
  },
  {
   "cell_type": "code",
   "execution_count": 73,
   "id": "48030849",
   "metadata": {
    "ExecuteTime": {
     "end_time": "2024-04-30T02:03:20.705005Z",
     "start_time": "2024-04-30T02:03:20.684113Z"
    }
   },
   "outputs": [],
   "source": [
    "printing=True\n",
    "use_save_df_to_parquet_by=True\n",
    "use_save_df_to_parquet_by=False\n",
    "#load fortranic tip positions\n",
    "folder=f\"{nb_dir}/Data/from_wjr/positions_fk/200x200\"\n",
    "fn = 'tippos_per_c_001'\n",
    "# folder=f\"{nb_dir}/Data/from_wjr/positions_lr/200x200\"\n",
    "# fn = 'tippos_per_001'\n",
    "input_dir = os.path.join(folder,fn)\n",
    "log_folder_parquet=f'{folder}/positions'\n",
    "assert os.path.exists(input_dir)\n",
    "if use_save_df_to_parquet_by:\n",
    "    df_log=parse_fortranic_tip_pos(input_dir)\n",
    "    #partition df_log into a folder of tip logs\n",
    "    save_df_to_parquet_by(df_log,log_folder_parquet,by='trial_num',compression='snappy',index=None)\n",
    "    print(f\"saved to spiral tip positions to {log_folder_parquet=}\")\n",
    "    #determine width and height of the computational domain input the discretization\n",
    "    width,height=df_log.describe().loc['max'][['x','y']].values.T\n",
    "    del df_log\n",
    "else:\n",
    "    width=200\n",
    "    height=200"
   ]
  },
  {
   "cell_type": "code",
   "execution_count": 74,
   "id": "85355346",
   "metadata": {
    "ExecuteTime": {
     "end_time": "2024-04-30T02:04:55.702323Z",
     "start_time": "2024-04-30T02:03:20.881281Z"
    }
   },
   "outputs": [
    {
     "name": "stdout",
     "output_type": "stream",
     "text": [
      "len(n_lst)=36616██████████████████████████████████████████████████████████████████████████████████████| 100.0% \n",
      "\u0007\u0007\u0007"
     ]
    },
    {
     "data": {
      "text/plain": [
       "0"
      ]
     },
     "execution_count": 74,
     "metadata": {},
     "output_type": "execute_result"
    }
   ],
   "source": [
    "DX=0.025\n",
    "# min_num_tips=6\n",
    "min_num_tips=4\n",
    "# printing=False\n",
    "n_lst=[]\n",
    "Rvec_lst=[]\n",
    "dist0_lst=[]\n",
    "distance_L2_pbc = get_distance_L2_pbc(width=width, height=height)\n",
    "nsteps = len (os.listdir(log_folder_parquet))\n",
    "for step,fn in enumerate(os.listdir(log_folder_parquet)):\n",
    "    try:\n",
    "        trial_num = eval(fn.split('=')[1])\n",
    "        # load tip position data\n",
    "        g=load_parquet_by_trial_num(trial_num=trial_num,folder_parquet=log_folder_parquet)\n",
    "        DT=g['t'].min()\n",
    "        n_series = g.groupby(by='t')['n'].min()\n",
    "        t_values_birth = n_series[n_series.diff()==2.].index.values\n",
    "        for tb in t_values_birth:\n",
    "            n=n_series.loc[tb]\n",
    "            if n>=min_num_tips:\n",
    "                d_prev = g.loc[g['t']==tb-DT]\n",
    "                d_next = g.loc[g['t']==tb]\n",
    "                #track the particles in this and the next frame only\n",
    "                id_pair_lst,disp_pair_lst=find_nearest_neighbors_simple(d_prev,d_next,distance_L2_pbc)#,xy_col_lst=['x','y'],**kwargs)\n",
    "                if len(id_pair_lst)>=min_num_tips-2:  #<<< removes cases where it fails to track\n",
    "                    xy_values = d_next[['x','y']].values\n",
    "                    #select the new tips\n",
    "                    i_new_tips = tuple(set(range(n)).difference(np.array(id_pair_lst)[:,1]))\n",
    "                    i_old_tips = tuple(set(range(n)).difference(i_new_tips))\n",
    "                    #compute the distance between them\n",
    "                    dist0=distance_L2_pbc(xy_values[i_new_tips[0]],xy_values[i_new_tips[1]])\n",
    "                    mindist=10*width\n",
    "                    minj=-1\n",
    "                    mini=-1\n",
    "                    #for each new tip\n",
    "                    Rvec=np.zeros(min_num_tips-2,dtype='float')\n",
    "                    for i in i_new_tips:\n",
    "                        xy=xy_values[i]\n",
    "                        #compute the distance to nearest preexisting tip\n",
    "                        dist_lst=[]\n",
    "                        for j in i_old_tips:\n",
    "                            dist=distance_L2_pbc(xy,xy_values[j])\n",
    "                            dist_lst.append(dist) \n",
    "#                             n_lst.append(n)\n",
    "                        jarray = np.argsort(dist_lst)[:min_num_tips-2]\n",
    "                        Rvec+=np.array(dist_lst)[jarray][:min_num_tips-2]*DX #cm\n",
    "                    Rvec/=len(i_new_tips)\n",
    "                    #record\n",
    "                    Rvec_lst.append(Rvec)\n",
    "                    n_lst.append(n)\n",
    "                    dist0_lst.append(dist0)\n",
    "    except IndexError as e:\n",
    "        pass\n",
    "    if printing:\n",
    "        printProgressBar(step+1,nsteps)\n",
    "print (f\"{len(n_lst)=}\")\n",
    "beep(3)"
   ]
  },
  {
   "cell_type": "code",
   "execution_count": 75,
   "id": "07e230c3",
   "metadata": {
    "ExecuteTime": {
     "end_time": "2024-04-30T02:04:56.353278Z",
     "start_time": "2024-04-30T02:04:55.710369Z"
    }
   },
   "outputs": [
    {
     "name": "stdout",
     "output_type": "stream",
     "text": [
      "\u0007\u0007\u0007"
     ]
    },
    {
     "data": {
      "text/plain": [
       "0"
      ]
     },
     "execution_count": 75,
     "metadata": {},
     "output_type": "execute_result"
    }
   ],
   "source": [
    "beep(3)"
   ]
  },
  {
   "cell_type": "code",
   "execution_count": 76,
   "id": "8bd4b144",
   "metadata": {
    "ExecuteTime": {
     "end_time": "2024-04-30T02:04:56.399491Z",
     "start_time": "2024-04-30T02:04:56.360897Z"
    }
   },
   "outputs": [],
   "source": [
    "# plt.hist(dist0_lst,bins=100)"
   ]
  },
  {
   "cell_type": "code",
   "execution_count": 77,
   "id": "47826785",
   "metadata": {
    "ExecuteTime": {
     "end_time": "2024-04-30T02:04:56.441916Z",
     "start_time": "2024-04-30T02:04:56.402533Z"
    }
   },
   "outputs": [
    {
     "data": {
      "text/plain": [
       "17"
      ]
     },
     "execution_count": 77,
     "metadata": {},
     "output_type": "execute_result"
    }
   ],
   "source": [
    "#TODO: compute Rbar_c conditioned on n\n",
    "max_R0 = 1. #cm\n",
    "nbins = np.arange(2,102,2)\n",
    "dict_R1 = dict()\n",
    "for n,dist0,Rvec in zip(n_lst,dist0_lst,Rvec_lst):\n",
    "    if max_R0>=dist0*DX:\n",
    "        R1 = Rvec[0]\n",
    "        #record\n",
    "        if not (n in dict_R1.keys()):\n",
    "            dict_R1[n]=[]\n",
    "        dict_R1[n].append(R1)\n",
    "len(dict_R1)"
   ]
  },
  {
   "cell_type": "code",
   "execution_count": 80,
   "id": "239dba8d",
   "metadata": {
    "ExecuteTime": {
     "end_time": "2024-04-30T02:06:38.572366Z",
     "start_time": "2024-04-30T02:06:37.876696Z"
    }
   },
   "outputs": [
    {
     "data": {
      "image/png": "[encoded data removed]",
      "text/plain": [
       "<Figure size 400x300 with 1 Axes>"
      ]
     },
     "metadata": {},
     "output_type": "display_data"
    }
   ],
   "source": [
    "color='gray'\n",
    "color='C0'\n",
    "# color='C1'\n",
    "fig,ax=plt.subplots(figsize=(4,3))\n",
    "x_values = np.array([x for x in sorted(dict_R1.keys()) if x%2==0])\n",
    "for n in x_values:\n",
    "    y_values = dict_R1[n]\n",
    "    violin_parts = plt.violinplot(y_values,positions=[n-2],points=1000,)#facecolor='gray')\n",
    "    # Make all the violin statistics marks red:\n",
    "#     for partname in ('cbars','cmins','cmaxes','cmeans','cmedians'):\n",
    "    for partname in ('cbars','cmins','cmaxes'):\n",
    "        vp = violin_parts[partname]\n",
    "        vp.set_edgecolor(color)\n",
    "        vp.set_linewidth(1)\n",
    "    for pc in violin_parts['bodies']:\n",
    "        pc.set_facecolor(color)\n",
    "        pc.set_edgecolor(color)\n",
    "ax.set_xlim([0,25])\n",
    "format_plot(ax=ax,fontsize=16,xlabel=r'$N_{initial}$',ylabel=r'$R_c$  (cm)')\n",
    "ax.spines[['right', 'top']].set_visible(False)\n",
    "# The final parameter was fit by maximum likelihood, resulting in $\\bar R_c=1.25$ cm for the Luo-Rudy model and $\\bar R_c=0.85$ cm for the Fenton-Karma model.\n",
    "Rc = 0.85\n",
    "# Rc = 1.25\n",
    "plt.plot(plt.xlim(),[Rc,Rc],color=color,linestyle='--',lw=2)\n",
    "plt.show()"
   ]
  },
  {
   "cell_type": "code",
   "execution_count": 79,
   "id": "12b9b931",
   "metadata": {
    "ExecuteTime": {
     "end_time": "2024-04-30T02:04:57.154584Z",
     "start_time": "2024-04-30T02:04:57.127613Z"
    }
   },
   "outputs": [
    {
     "ename": "AttributeError",
     "evalue": "'PolyCollection' object has no attribute 'set_'",
     "output_type": "error",
     "traceback": [
      "\u001b[0;31m---------------------------------------------------------------------------\u001b[0m",
      "\u001b[0;31mAttributeError\u001b[0m                            Traceback (most recent call last)",
      "Input \u001b[0;32mIn [79]\u001b[0m, in \u001b[0;36m<cell line: 1>\u001b[0;34m()\u001b[0m\n\u001b[0;32m----> 1\u001b[0m \u001b[43mpc\u001b[49m\u001b[38;5;241;43m.\u001b[39;49m\u001b[43mset_\u001b[49m\n",
      "\u001b[0;31mAttributeError\u001b[0m: 'PolyCollection' object has no attribute 'set_'"
     ]
    }
   ],
   "source": [
    "# pc.set_"
   ]
  },
  {
   "cell_type": "code",
   "execution_count": null,
   "id": "ae3ab61f",
   "metadata": {
    "ExecuteTime": {
     "end_time": "2024-04-30T02:04:57.155939Z",
     "start_time": "2024-04-30T02:04:57.155929Z"
    }
   },
   "outputs": [],
   "source": [
    "R1 = Rvec[0]\n",
    "R1 = Rvec[1]"
   ]
  },
  {
   "cell_type": "code",
   "execution_count": null,
   "id": "70752f82",
   "metadata": {},
   "outputs": [],
   "source": []
  },
  {
   "cell_type": "code",
   "execution_count": null,
   "id": "9e2a6191",
   "metadata": {
    "ExecuteTime": {
     "end_time": "2024-04-30T02:04:57.157595Z",
     "start_time": "2024-04-30T02:04:57.157576Z"
    }
   },
   "outputs": [],
   "source": [
    "# for tb in t_values_birth:\n",
    "#     d_prev = g.loc[g['t']==tb-DT]\n",
    "#     d_next = g.loc[g['t']==tb]\n",
    "#     id_pair_lst,disp_pair_lst=find_nearest_neighbors_simple(d_prev,d_next,distance_L2_pbc)#,xy_col_lst=['x','y'],**kwargs)        \n",
    "#DONE: check that local tracking is working\n",
    "# fig,ax=plt.subplots(figsize=(3,2))\n",
    "# d_next.plot(kind='scatter',x='x',y='y',marker='.',ax=ax,color='k')\n",
    "\n",
    "# for ii,(i1,i2) in enumerate(id_pair_lst):\n",
    "#     ax.scatter(x=d_prev['x'].values[i1],\n",
    "#                 y=d_prev['y'].values[i1],\n",
    "#                 c=f'C{ii}',marker='s')\n",
    "#     ax.scatter(x=d_next['x'].values[i2],\n",
    "#                 y=d_next['y'].values[i2],\n",
    "#                 c=f'C{ii}',marker='*',edgecolor='k')\n",
    "# # format_plot\n",
    "# ax.axis([0,width,0,height])\n",
    "# format_plot(xlabel='x (pxl)',ylabel='y (pxl)',fontsize=12,ax=ax)\n",
    "# ax.tick_params(top=True, right=True,direction='in',which='both')\n",
    "# plt.show()"
   ]
  },
  {
   "cell_type": "code",
   "execution_count": null,
   "id": "f41afe75",
   "metadata": {
    "ExecuteTime": {
     "end_time": "2024-04-30T02:04:57.158882Z",
     "start_time": "2024-04-30T02:04:57.158871Z"
    }
   },
   "outputs": [],
   "source": [
    "X=np.array(Rvec_lst)\n",
    "#TODO: make a 3d scatter plot of ^that\n",
    "# R1,R2,R3,R4 = zip(*X)\n",
    "R1,R2 = zip(*X)\n",
    "# (R3+R4)/2\n",
    "R1=np.array(R1)\n",
    "R2=np.array(R2)\n",
    "# R3=np.array(R3)\n",
    "# R4=np.array(R4)\n",
    "R0=np.array(dist0_lst)*DX"
   ]
  },
  {
   "cell_type": "code",
   "execution_count": null,
   "id": "611d79f5",
   "metadata": {},
   "outputs": [],
   "source": []
  },
  {
   "cell_type": "code",
   "execution_count": null,
   "id": "134f2363",
   "metadata": {
    "ExecuteTime": {
     "end_time": "2024-04-30T02:04:57.160323Z",
     "start_time": "2024-04-30T02:04:57.160309Z"
    }
   },
   "outputs": [],
   "source": [
    "\n",
    "# fig = plt.figure()\n",
    "# ax = fig.add_subplot(111, projection='3d')\n",
    "# ax.scatter(R1,R2,R3+R4,marker='.',color='k')\n",
    "# ax.set_xlabel('R1')\n",
    "# ax.set_ylabel('R2')\n",
    "# ax.set_zlabel('R3')\n",
    "# plt.show()\n",
    "# X.shape,len(R1)#,R3.shape"
   ]
  },
  {
   "cell_type": "code",
   "execution_count": 57,
   "id": "f957d758",
   "metadata": {
    "ExecuteTime": {
     "end_time": "2023-11-28T21:10:06.314921Z",
     "start_time": "2023-11-28T21:10:06.295247Z"
    }
   },
   "outputs": [],
   "source": [
    "# fontsize=16\n",
    "# fig = plt.figure()\n",
    "# ax = fig.add_subplot(111)#, projection='3d')\n",
    "# ax.scatter(R1,R4,marker='.',color='k')\n",
    "# # ax.scatter((R1+R2)/2,(R3+R4)/2,marker='.',color='k')\n",
    "# # ax.scatter(np.divide(R1,R4),np.divide(R2,R4),marker='.',color='k')\n",
    "# # ax.scatter(np.divide(2*R1,R3+R4),np.divide(2*R2,R3+R4),marker='.',color='k')\n",
    "# # xv=np.arange(0,1,0.1)\n",
    "# xv=np.arange(0,3,0.1)\n",
    "# ax.plot(xv,xv,'k--')\n",
    "# # format_plot(xlabel=r'$R_1/R_3$',ylabel=r'$R_2/R_3$',ax=ax,fontsize=fontsize)\n",
    "# # format_plot(xlabel=r'$R_1/R_4$',ylabel=r'$R_2/R_4$',ax=ax,fontsize=fontsize)  #<<<good\n",
    "# # format_plot(xlabel=r'$(R_1+R_2)/2$  (cm)',ylabel=r'$(R_3+R_4)/2$  (cm)',ax=ax,fontsize=fontsize)\n",
    "# format_plot(xlabel=r'$R_1$  (cm)',ylabel=r'$R_4$  (cm)',ax=ax,fontsize=fontsize)\n",
    "# # format_plot(xlabel=r'$2R_1/(R_3+R_4)$',ylabel=r'$2R_2/(R_3+R_4)$',ax=ax,fontsize=fontsize)\n",
    "# ax.tick_params(top=True, right=True,direction='in',which='both')\n",
    "# plt.show()\n",
    "# #heretim"
   ]
  },
  {
   "cell_type": "code",
   "execution_count": 58,
   "id": "6261ed08",
   "metadata": {
    "ExecuteTime": {
     "end_time": "2023-11-28T21:10:06.334893Z",
     "start_time": "2023-11-28T21:10:06.316424Z"
    }
   },
   "outputs": [],
   "source": [
    "#DONE: make a 2d scatter plot of R1/R3,R2/R3\n",
    "#TODO: repeat over many trials\n",
    "#TODO: consider hdbscan to identify a cluster with R1,R2 about the same / much smaller than R3"
   ]
  },
  {
   "cell_type": "code",
   "execution_count": 59,
   "id": "4508f882",
   "metadata": {
    "ExecuteTime": {
     "end_time": "2023-11-28T21:10:06.354869Z",
     "start_time": "2023-11-28T21:10:06.336554Z"
    }
   },
   "outputs": [],
   "source": [
    "# fontsize=16\n",
    "# fig = plt.figure()\n",
    "# ax = fig.add_subplot(111)#, projection='3d')\n",
    "# # ax.scatter(R1,R4,marker='.',color='k')\n",
    "# # x=R1;y=R4\n",
    "# # x=(R1+R2)/2;y=(R3+R4)/2\n",
    "# # x=np.divide(R1,R4);y=np.divide(R2,R4)\n",
    "# x=np.divide(2*R1,R3+R4);y=np.divide(2*R2,R3+R4)\n",
    "# sns.kdeplot(x=x,y=y,cmap=plt.cm.gray_r)#,extent=[xmin, xmax, ymin, ymax])\n",
    "# ax.scatter(x,y,marker='.',color='k')\n",
    "# # ax.scatter(,marker='.',color='k')\n",
    "# # ax.scatter(,marker='.',color='k')\n",
    "# xv=np.arange(0,1,0.1)\n",
    "# # xv=np.arange(0,3,0.1)\n",
    "# ax.plot(xv,xv,'k--')\n",
    "# # format_plot(xlabel=r'$R_1$  (cm)',ylabel=r'$R_4$  (cm)',ax=ax,fontsize=fontsize)\n",
    "# # format_plot(xlabel=r'$(R_1+R_2)/2$  (cm)',ylabel=r'$(R_3+R_4)/2$  (cm)',ax=ax,fontsize=fontsize)\n",
    "# # format_plot(xlabel=r'$R_1/R_3$',ylabel=r'$R_2/R_3$',ax=ax,fontsize=fontsize)\n",
    "# # format_plot(xlabel=r'$R_1/R_4$',ylabel=r'$R_2/R_4$',ax=ax,fontsize=fontsize)  #<<<good\n",
    "# format_plot(xlabel=r'$2R_1/(R_3+R_4)$',ylabel=r'$2R_2/(R_3+R_4)$',ax=ax,fontsize=fontsize)\n",
    "# ax.tick_params(top=True, right=True,direction='in',which='both')\n",
    "# plt.show()\n",
    "# #heretim"
   ]
  },
  {
   "cell_type": "code",
   "execution_count": null,
   "id": "ed417e6b",
   "metadata": {},
   "outputs": [],
   "source": []
  },
  {
   "cell_type": "code",
   "execution_count": 62,
   "id": "a6d39f13",
   "metadata": {
    "ExecuteTime": {
     "end_time": "2023-11-28T21:12:22.121286Z",
     "start_time": "2023-11-28T21:12:20.971249Z"
    }
   },
   "outputs": [
    {
     "name": "stdout",
     "output_type": "stream",
     "text": [
      "FK: mean R0: 0.1316 +/- 0.0011 (N=36616, p_normal=0.3324)\n",
      "FK: mean R1: 0.7750 +/- 0.0035 (N=36616, p_normal1=0.3707)\n"
     ]
    }
   ],
   "source": [
    "meanx,Delta_meanx,num_obs,p_normal=comp_mean_bootstrap_uncertainty(R0)\n",
    "meanx1,Delta_meanx1,num_obs1,p_normal1=comp_mean_bootstrap_uncertainty(R1)\n",
    "if printing:\n",
    "    print(f\"FK: mean R0: {meanx:.4f} +/- {Delta_meanx:.4f} (N={num_obs}, {p_normal=:.4f})\")\n",
    "    print(f\"FK: mean R1: {meanx1:.4f} +/- {Delta_meanx1:.4f} (N={num_obs1}, {p_normal1=:.4f})\")"
   ]
  },
  {
   "cell_type": "code",
   "execution_count": 64,
   "id": "a209b278",
   "metadata": {
    "ExecuteTime": {
     "end_time": "2023-11-28T21:13:57.924768Z",
     "start_time": "2023-11-28T21:13:39.266329Z"
    }
   },
   "outputs": [
    {
     "data": {
      "image/png": "[encoded data removed]",
      "text/plain": [
       "<Figure size 640x480 with 1 Axes>"
      ]
     },
     "metadata": {},
     "output_type": "display_data"
    }
   ],
   "source": [
    "fontsize=16\n",
    "fig = plt.figure()\n",
    "ax = fig.add_subplot(111)#, projection='3d')\n",
    "x=R0; y=R1;\n",
    "sns.kdeplot(x=x,y=y,cmap=plt.cm.gray_r)#,extent=[xmin, xmax, ymin, ymax])\n",
    "ax.scatter(x,y,marker='.',color='k')\n",
    "xv=np.arange(0,1,0.1)\n",
    "# ax.plot(xv,xv,'k--')\n",
    "# ax.scatter(x=[0.202],y=[1.25],marker='x',color='r',zorder=10)\n",
    "# ax.scatter(x=[0.204],y=[0.830],marker='x',color='r',zorder=10)\n",
    "ax.scatter(x=[0.132],y=[0.775],marker='x',color='r',zorder=10)\n",
    "# ax.scatter(x=[meanx],y=[meanx1],marker='x',color='r',zorder=10)\n",
    "ax.axis([0,5,0,5])\n",
    "format_plot(xlabel=r'$R_0$  (cm)',ylabel=r'$R_1$  (cm)',ax=ax,fontsize=fontsize)\n",
    "ax.tick_params(top=True, right=True,direction='in',which='both')\n",
    "plt.show()"
   ]
  },
  {
   "cell_type": "code",
   "execution_count": 49,
   "id": "c19e0fdb",
   "metadata": {
    "ExecuteTime": {
     "end_time": "2023-11-28T21:04:03.887078Z",
     "start_time": "2023-11-28T21:04:03.645086Z"
    }
   },
   "outputs": [
    {
     "name": "stdout",
     "output_type": "stream",
     "text": [
      "LR: mean R0: 0.2036 +/- 0.0029 (N=14204, p_normal=0.2342)\n",
      "LR: mean R1: 0.8303 +/- 0.0074 (N=14204, p_normal1=0.3893)\n"
     ]
    }
   ],
   "source": [
    "meanx,Delta_meanx,num_obs,p_normal=comp_mean_bootstrap_uncertainty(R0)\n",
    "meanx1,Delta_meanx1,num_obs1,p_normal1=comp_mean_bootstrap_uncertainty(R1)\n",
    "if printing:\n",
    "    print(f\"LR: mean R0: {meanx:.4f} +/- {Delta_meanx:.4f} (N={num_obs}, {p_normal=:.4f})\")\n",
    "    print(f\"LR: mean R1: {meanx1:.4f} +/- {Delta_meanx1:.4f} (N={num_obs1}, {p_normal1=:.4f})\")"
   ]
  },
  {
   "cell_type": "code",
   "execution_count": null,
   "id": "08a83922",
   "metadata": {},
   "outputs": [],
   "source": []
  },
  {
   "cell_type": "code",
   "execution_count": 10,
   "id": "eba42b74",
   "metadata": {
    "ExecuteTime": {
     "end_time": "2023-11-28T19:46:28.525086Z",
     "start_time": "2023-11-28T19:46:27.894623Z"
    }
   },
   "outputs": [
    {
     "name": "stdout",
     "output_type": "stream",
     "text": [
      "\u0007\u0007\u0007"
     ]
    },
    {
     "data": {
      "text/plain": [
       "0"
      ]
     },
     "execution_count": 10,
     "metadata": {},
     "output_type": "execute_result"
    }
   ],
   "source": [
    "beep(3)"
   ]
  },
  {
   "cell_type": "code",
   "execution_count": 47,
   "id": "b8c3ff2f",
   "metadata": {
    "ExecuteTime": {
     "end_time": "2023-08-11T19:01:45.015796Z",
     "start_time": "2023-08-11T19:01:44.991189Z"
    }
   },
   "outputs": [],
   "source": [
    "#DONE: load tip positions from wj\n",
    "#DONE: identify creation events\n",
    "#DONE: compute the distance from the mean new tip position to each other tip using periodic b.c.'s\n",
    "#DONE: order other tips by distance to new tip pair\n",
    "#DONE: select the first three or four other ranges for creations with at least N0 tips\n",
    "#DONE: make a 3d scatter plot of ^that\n",
    "#DONE: make a 2d scatter plot of R1/R3,R2/R3\n",
    "#TODO: consider hdbscan to identify a cluster with R1,R2 about the same / much smaller than R3"
   ]
  },
  {
   "cell_type": "code",
   "execution_count": 48,
   "id": "5b39d630",
   "metadata": {
    "ExecuteTime": {
     "end_time": "2023-08-11T19:01:45.079146Z",
     "start_time": "2023-08-11T19:01:45.018292Z"
    }
   },
   "outputs": [
    {
     "name": "stdout",
     "output_type": "stream",
     "text": [
      "dist0_dir='/home/timothytyree/Documents/GitHub/care/notebooks/Data/from_wjr/positions_fk/200x200/creation_ranges.npz'\n"
     ]
    }
   ],
   "source": [
    "dist0_lst\n",
    "dist0_dir = os.path.join(folder,'creation_ranges.npz')\n",
    "np.savez_compressed(dist0_dir,dist0_lst)\n",
    "print(f\"{dist0_dir=}\")"
   ]
  },
  {
   "cell_type": "code",
   "execution_count": 1,
   "id": "1fa44a12",
   "metadata": {
    "ExecuteTime": {
     "end_time": "2024-04-29T21:49:58.397434Z",
     "start_time": "2024-04-29T21:49:58.213431Z"
    }
   },
   "outputs": [
    {
     "data": {
      "text/plain": [
       "11"
      ]
     },
     "execution_count": 1,
     "metadata": {},
     "output_type": "execute_result"
    }
   ],
   "source": [
    "1_1"
   ]
  },
  {
   "cell_type": "markdown",
   "id": "f9da9e91",
   "metadata": {},
   "source": [
    "# plot the distribution of ranges at the time of creation between the newly created tips"
   ]
  },
  {
   "cell_type": "code",
   "execution_count": 5,
   "id": "d9dc25f4",
   "metadata": {
    "ExecuteTime": {
     "end_time": "2024-04-30T00:11:09.389278Z",
     "start_time": "2024-04-30T00:11:09.354705Z"
    }
   },
   "outputs": [],
   "source": [
    "DX=0.025 #cm/px"
   ]
  },
  {
   "cell_type": "code",
   "execution_count": 6,
   "id": "3a52b55c",
   "metadata": {
    "ExecuteTime": {
     "end_time": "2024-04-30T00:11:09.869224Z",
     "start_time": "2024-04-30T00:11:09.841923Z"
    }
   },
   "outputs": [],
   "source": [
    "dist0_dir_fk='/home/timothytyree/Documents/GitHub/care/notebooks/Data/from_wjr/positions_fk/200x200/creation_ranges.npz'\n",
    "dist0_lst_fk=np.load(dist0_dir_fk)['arr_0']*DX\n",
    "dist0_dir_lr='/home/timothytyree/Documents/GitHub/care/notebooks/Data/from_wjr/positions_lr/200x200/creation_ranges.npz'\n",
    "dist0_lst_lr=np.load(dist0_dir_lr)['arr_0']*DX"
   ]
  },
  {
   "cell_type": "code",
   "execution_count": 7,
   "id": "e0276d8f",
   "metadata": {
    "ExecuteTime": {
     "end_time": "2024-04-30T00:11:11.031922Z",
     "start_time": "2024-04-30T00:11:10.585933Z"
    }
   },
   "outputs": [
    {
     "name": "stdout",
     "output_type": "stream",
     "text": [
      "\u0007\u0007"
     ]
    },
    {
     "data": {
      "text/plain": [
       "0"
      ]
     },
     "execution_count": 7,
     "metadata": {},
     "output_type": "execute_result"
    }
   ],
   "source": [
    "beep(2)"
   ]
  },
  {
   "cell_type": "code",
   "execution_count": 20,
   "id": "96f2a888",
   "metadata": {
    "ExecuteTime": {
     "end_time": "2024-04-30T00:29:24.294507Z",
     "start_time": "2024-04-30T00:29:23.882715Z"
    }
   },
   "outputs": [
    {
     "data": {
      "image/png": "[encoded data removed]",
      "text/plain": [
       "<Figure size 400x300 with 1 Axes>"
      ]
     },
     "metadata": {},
     "output_type": "display_data"
    }
   ],
   "source": [
    "# figsize=(3,2)\n",
    "# figsize=(6,4)\n",
    "figsize=(4,3)\n",
    "# figsize=(7,5)\n",
    "fig,ax=plt.subplots(figsize=figsize)\n",
    "bins=20\n",
    "bins=np.arange(0.0,1,0.02)\n",
    "# bins=np.arange(0.0,1.02,0.02)\n",
    "# bins=np.arange(0.0,2,0.02)\n",
    "ax.hist(dist0_lst_fk,color='C0',label='Fenton-Karma',density=True,alpha=0.7,bins=bins)\n",
    "ax.hist(dist0_lst_lr,color='C1',label='Luo-Rudy',density=True,alpha=0.7,bins=bins)\n",
    "m1=np.mean(dist0_lst_fk)\n",
    "m2=np.mean(dist0_lst_lr)\n",
    "ylim=ax.get_ylim()\n",
    "ax.plot([m1,m1],ylim,color='C0',linestyle='--',lw=2)\n",
    "ax.plot([m2,m2],ylim,color='C1',linestyle='--',lw=2)\n",
    "# format_plot\n",
    "# ax.legend(fontsize=12)\n",
    "# ax.set_xscale('log')\n",
    "ax.set_yscale('log')\n",
    "format_plot(xlabel=r'$R_{initial}$  (cm)',ylabel='Probability',fontsize=16,ax=ax)\n",
    "# ax.tick_params(top=True, right=True,direction='in',which='both')\n",
    "# spines = ax.spines[['right','top']].set_visible(False)\n",
    "# spines = ax.spines[['right','top']].set_visible(False)\n",
    "ax.spines[['right', 'top']].set_visible(False)\n",
    "ax.legend(fontsize=14)\n",
    "plt.show()"
   ]
  },
  {
   "cell_type": "code",
   "execution_count": null,
   "id": "e2abe8f3",
   "metadata": {},
   "outputs": [],
   "source": [
    "#Q: what are the mean values?"
   ]
  },
  {
   "cell_type": "code",
   "execution_count": 11,
   "id": "b738fde8",
   "metadata": {
    "ExecuteTime": {
     "end_time": "2024-04-30T00:12:22.480294Z",
     "start_time": "2024-04-30T00:12:21.724397Z"
    }
   },
   "outputs": [
    {
     "name": "stdout",
     "output_type": "stream",
     "text": [
      "FK: mean: 0.1312 +/- 0.0012 (N=35637, p_normal=0.7488)\n",
      "LR: mean: 0.2016 +/- 0.0032 (N=12155, p_normal=0.1176)\n"
     ]
    }
   ],
   "source": [
    "np.random.seed(42)\n",
    "meanx,Delta_meanx,num_obs,p_normal=comp_mean_bootstrap_uncertainty(dist0_lst_fk)\n",
    "printing=True\n",
    "if printing:\n",
    "    print(f\"FK: mean: {meanx:.4f} +/- {Delta_meanx:.4f} (N={num_obs}, {p_normal=:.4f})\")\n",
    "    \n",
    "meanx,Delta_meanx,num_obs,p_normal=comp_mean_bootstrap_uncertainty(dist0_lst_lr)\n",
    "if printing:\n",
    "    print(f\"LR: mean: {meanx:.4f} +/- {Delta_meanx:.4f} (N={num_obs}, {p_normal=:.4f})\")"
   ]
  },
  {
   "cell_type": "code",
   "execution_count": null,
   "id": "f94e840d",
   "metadata": {},
   "outputs": [],
   "source": []
  },
  {
   "cell_type": "code",
   "execution_count": 259,
   "id": "ab56d689",
   "metadata": {
    "ExecuteTime": {
     "end_time": "2024-01-10T22:26:07.892332Z",
     "start_time": "2024-01-10T22:26:07.705161Z"
    }
   },
   "outputs": [],
   "source": [
    "# dist_pbc"
   ]
  },
  {
   "cell_type": "markdown",
   "id": "bb518b8e",
   "metadata": {},
   "source": [
    "# DONE: compute F_cardiac\n",
    "then,\n",
    "- DONE: compute F_particle"
   ]
  },
  {
   "cell_type": "code",
   "execution_count": 6,
   "id": "27c01b6f",
   "metadata": {
    "ExecuteTime": {
     "end_time": "2024-01-10T22:27:57.897529Z",
     "start_time": "2024-01-10T22:27:57.880119Z"
    }
   },
   "outputs": [],
   "source": [
    "# #   FK          LR\n",
    "# # r 0.457±0.009 0.314±0.003\n",
    "# r=.1 #cm\n",
    "# threshR=r/DX\n",
    "# # print(f\"{threshR=:.4} pixels\")"
   ]
  },
  {
   "cell_type": "code",
   "execution_count": 2,
   "id": "0f33189b",
   "metadata": {
    "ExecuteTime": {
     "end_time": "2024-01-13T22:19:16.688921Z",
     "start_time": "2024-01-13T22:19:16.685603Z"
    }
   },
   "outputs": [],
   "source": [
    "DX=0.025\n",
    "mindur=100 #ms"
   ]
  },
  {
   "cell_type": "code",
   "execution_count": 36,
   "id": "a4a69f85",
   "metadata": {
    "ExecuteTime": {
     "end_time": "2024-01-14T20:21:43.445658Z",
     "start_time": "2024-01-14T20:21:43.426252Z"
    }
   },
   "outputs": [],
   "source": [
    "#   FK          LR\n",
    "# r 0.457±0.009 0.314±0.003\n",
    "r=0.1 #cm\n",
    "# r=0.25 #cm\n",
    "r = 0.457#±0.009 cm #FK\n",
    "# r = 0.314#±0.003 cm #LR\n",
    "threshR=r/DX\n",
    "# print(f\"{threshR=:.4} pixels\")"
   ]
  },
  {
   "cell_type": "code",
   "execution_count": 37,
   "id": "86c3e484",
   "metadata": {
    "ExecuteTime": {
     "end_time": "2024-01-14T20:21:44.460919Z",
     "start_time": "2024-01-14T20:21:44.442766Z"
    }
   },
   "outputs": [],
   "source": [
    "printing=True\n",
    "use_save_df_to_parquet_by=True\n",
    "use_save_df_to_parquet_by=False\n",
    "#load fortranic tip positions\n",
    "folder=f\"{nb_dir}/Data/from_wjr/positions_fk/200x200\"\n",
    "fn = 'tippos_per_c_001'\n",
    "# folder=f\"{nb_dir}/Data/from_wjr/positions_lr/200x200\"\n",
    "# fn = 'tippos_per_001'\n",
    "input_dir = os.path.join(folder,fn)\n",
    "log_folder_parquet=f'{folder}/positions'\n",
    "assert os.path.exists(input_dir)\n",
    "if use_save_df_to_parquet_by:\n",
    "    df_log=parse_fortranic_tip_pos(input_dir)\n",
    "    #partition df_log into a folder of tip logs\n",
    "    save_df_to_parquet_by(df_log,log_folder_parquet,by='trial_num',compression='snappy',index=None)\n",
    "    print(f\"saved to spiral tip positions to {log_folder_parquet=}\")\n",
    "    #determine width and height of the computational domain input the discretization\n",
    "    width,height=df_log.describe().loc['max'][['x','y']].values.T\n",
    "    del df_log\n",
    "else:\n",
    "    width=200\n",
    "    height=200"
   ]
  },
  {
   "cell_type": "code",
   "execution_count": null,
   "id": "b045be44",
   "metadata": {
    "ExecuteTime": {
     "end_time": "2024-01-10T19:48:08.492004Z",
     "start_time": "2024-01-10T19:48:08.470877Z"
    }
   },
   "outputs": [],
   "source": []
  },
  {
   "cell_type": "code",
   "execution_count": 38,
   "id": "c91a769d",
   "metadata": {
    "ExecuteTime": {
     "end_time": "2024-01-14T20:21:45.465450Z",
     "start_time": "2024-01-14T20:21:45.442788Z"
    }
   },
   "outputs": [],
   "source": [
    "#heretim\n",
    "#TODO: dev compute_min_range_timeseries_reversed"
   ]
  },
  {
   "cell_type": "code",
   "execution_count": null,
   "id": "13c1c20e",
   "metadata": {},
   "outputs": [],
   "source": []
  },
  {
   "cell_type": "code",
   "execution_count": 39,
   "id": "a1133207",
   "metadata": {
    "ExecuteTime": {
     "end_time": "2024-01-14T20:21:46.797860Z",
     "start_time": "2024-01-14T20:21:46.773519Z"
    }
   },
   "outputs": [],
   "source": [
    "def compute_min_range_timeseries(trial_num,log_folder_parquet,DX,mindur,threshR,max_num_entries=10,\n",
    "                                 **kwargs):\n",
    "    minR_lst_lst=[]\n",
    "    # load tip position data\n",
    "    g=load_parquet_by_trial_num(trial_num=trial_num,folder_parquet=log_folder_parquet)\n",
    "    DT=g['t'].min()\n",
    "    n_series = g.groupby(by='t')['n'].min()\n",
    "    t_values_birth = n_series[n_series.diff()==2.].index.values\n",
    "    t_values_birth = t_values_birth[t_values_birth>=100].copy()  #throw out first 100 ms\n",
    "    for tb in t_values_birth:\n",
    "        t=tb\n",
    "        tprev=g.loc[g['t']<t,'t'].max()\n",
    "        d_next = g.loc[g['t']==t]\n",
    "        d_prev = g.loc[(g['t']==tprev)]#.shift(-1)\n",
    "        DT = t - tprev\n",
    "        id_pair_lst_,disp_pair_lst=find_nearest_neighbors_simple(d_prev,d_next,distance_L2_pbc)#,xy_col_lst=['x','y'],**kwargs)\n",
    "        #for each new tip\n",
    "        numparticles=d_next.shape[0]\n",
    "        new_particle_indices = np.setdiff1d(list(range(numparticles)),[x[1] for x in list(id_pair_lst_)])\n",
    "        for index_self in new_particle_indices:\n",
    "            t=tb\n",
    "            tprev=g.loc[g['t']<t,'t'].max()\n",
    "            d_next = g.loc[g['t']==t]\n",
    "            d_prev = g.loc[(g['t']==tprev)]#.shift(-1)\n",
    "            numparticles=d_next.shape[0]\n",
    "            index_other_values=np.setdiff1d(list(range(numparticles)),[index_self])\n",
    "            #compute the minimum initial range to another tip\n",
    "            dist_values=np.zeros(numparticles)\n",
    "            xy_self=d_next.iloc[index_self][['x','y']].values\n",
    "            for index_other in index_other_values:\n",
    "                xy_other=d_next.iloc[index_other][['x','y']].values\n",
    "                dist=distance_L2_pbc(xy_self,xy_other)\n",
    "                dist_values[index_other]=dist\n",
    "            minR = dist_values[dist_values>0].min()\n",
    "            #track minR over time, throwing out the first mindur time points\n",
    "            #track the next particle\n",
    "            tnext=g.loc[g['t']>t,'t'].min()\n",
    "            d_prev = g.loc[g['t']==t]\n",
    "            d_next = g.loc[(g['t']==tnext)]#.shift(-1)\n",
    "            numparticles = d_next.shape[0]\n",
    "            index_self_update=-1\n",
    "            if numparticles>0:\n",
    "                id_pair_lst,disp_pair_lst=find_nearest_neighbors_simple(d_prev,d_next,distance_L2_pbc)#,xy_col_lst=['x','y'],**kwargs)\n",
    "                for index_self_old,index_self_new in id_pair_lst:\n",
    "                    if index_self==index_self_old:\n",
    "                        index_self_update=index_self_new\n",
    "            index_self = index_self_update\n",
    "        #     print(index_self)\n",
    "            dur=float(DT)\n",
    "            minR_lst=[]\n",
    "            index_self_lst=[]\n",
    "            while index_self!=-1:\n",
    "                t=tnext\n",
    "                dur+=DT\n",
    "                #track the next particle\n",
    "                tnext=g.loc[g['t']>t,'t'].min()\n",
    "                d_prev = g.loc[g['t']==t]\n",
    "                d_next = g.loc[(g['t']==tnext)]#.shift(-1)\n",
    "                numparticles = d_next.shape[0]\n",
    "                index_self_update=-1\n",
    "                if numparticles>0:\n",
    "                    id_pair_lst,disp_pair_lst=find_nearest_neighbors_simple(d_prev,d_next,distance_L2_pbc)#,xy_col_lst=['x','y'],**kwargs)\n",
    "                    for index_self_old,index_self_new in id_pair_lst:\n",
    "                        if index_self==index_self_old:\n",
    "                            index_self_update=index_self_new\n",
    "                index_self = index_self_update\n",
    "        #         index_self_lst.append(index_self)\n",
    "                # throwing out the first mindur time points\n",
    "                if (numparticles>0)&(dur>=mindur):\n",
    "                    index_other_values=np.setdiff1d(list(range(numparticles)),[index_self])\n",
    "                    #compute the minimum range to another tip\n",
    "                    dist_values=np.zeros(numparticles,dtype='float')\n",
    "                    xy_self=d_next.iloc[index_self][['x','y']].values\n",
    "                    for index_other in index_other_values:\n",
    "                        xy_other=d_next.iloc[index_other][['x','y']].values\n",
    "                        dist=distance_L2_pbc(xy_self,xy_other)\n",
    "                        dist_values[index_other]=dist\n",
    "                    minR = dist_values[dist_values>0].min()\n",
    "                    minR_lst.append(minR)\n",
    "#                 if len(minR_lst)>0:\n",
    "            if (len(minR_lst)>0) and (minR<threshR): #constrain to trajectories that end within threshold\n",
    "                #trajectory was longer than mindur in duration, consider trajectory in later analysis\n",
    "                minR_lst_lst.append(minR_lst)\n",
    "        #         minR_lst_lst.append(list(reversed(minR_lst)))\n",
    "                #early stopping for tip tracking\n",
    "                if max_num_entries<len(minR_lst_lst):\n",
    "                    return minR_lst_lst\n",
    "    return minR_lst_lst"
   ]
  },
  {
   "cell_type": "code",
   "execution_count": 29,
   "id": "a302d52b",
   "metadata": {
    "ExecuteTime": {
     "end_time": "2024-01-14T01:11:56.685709Z",
     "start_time": "2024-01-14T01:11:56.565934Z"
    }
   },
   "outputs": [
    {
     "name": "stdout",
     "output_type": "stream",
     "text": [
      "len(task_lst)=81\n"
     ]
    }
   ],
   "source": [
    "minR_lst_lst=[]\n",
    "distance_L2_pbc = get_distance_L2_pbc(width=width, height=height)\n",
    "task_lst=[]\n",
    "for fn in os.listdir(log_folder_parquet):\n",
    "    trial_num = eval(fn.split('=')[1])\n",
    "    task = trial_num,log_folder_parquet,DX,mindur,threshR\n",
    "    task_lst.append(task)\n",
    "print(f\"{len(task_lst)=}\")\n",
    "def routine(task):\n",
    "        trial_num,log_folder_parquet,DX,mindur,threshR = task\n",
    "        try:\n",
    "            return compute_min_range_timeseries(trial_num,log_folder_parquet,DX,mindur,threshR)\n",
    "        except IndexError as e:\n",
    "#                 print(f\"skipping trail #{trial_num=}...\")\n",
    "#                 pass        \n",
    "            return []"
   ]
  },
  {
   "cell_type": "code",
   "execution_count": 30,
   "id": "fd06a279",
   "metadata": {
    "ExecuteTime": {
     "end_time": "2024-01-14T08:00:40.068485Z",
     "start_time": "2024-01-14T01:11:59.356022Z"
    }
   },
   "outputs": [
    {
     "name": "stdout",
     "output_type": "stream",
     "text": [
      "\u0007\u0007\u0007\u0007"
     ]
    },
    {
     "data": {
      "text/plain": [
       "0"
      ]
     },
     "execution_count": 30,
     "metadata": {},
     "output_type": "execute_result"
    }
   ],
   "source": [
    "ncores = os.cpu_count()-1\n",
    "retval_lst = eval_routine_multiprocess(routine, task_lst, ncores)\n",
    "beep(4)\n",
    "# minR_lst_lst=[]\n",
    "# for minR_lst in retval_lst:\n",
    "#     minR_lst_lst.extend(minR_lst)\n",
    "# len(minR_lst_lst)"
   ]
  },
  {
   "cell_type": "code",
   "execution_count": 31,
   "id": "7e866061",
   "metadata": {
    "ExecuteTime": {
     "end_time": "2024-01-14T08:00:40.089994Z",
     "start_time": "2024-01-14T08:00:40.070423Z"
    }
   },
   "outputs": [],
   "source": [
    "# minR_lst_lst=[]\n",
    "# for minR_lst in retval_lst:\n",
    "#     minR_lst_lst.append(minR_lst)\n",
    "# len(minR_lst_lst)"
   ]
  },
  {
   "cell_type": "code",
   "execution_count": 32,
   "id": "31b68ef7",
   "metadata": {
    "ExecuteTime": {
     "end_time": "2024-01-14T08:00:40.108522Z",
     "start_time": "2024-01-14T08:00:40.091445Z"
    }
   },
   "outputs": [
    {
     "data": {
      "text/plain": [
       "316"
      ]
     },
     "execution_count": 32,
     "metadata": {},
     "output_type": "execute_result"
    }
   ],
   "source": [
    "minR_lst_lst=[]\n",
    "for minR_lst in retval_lst:\n",
    "    minR_lst_lst.extend(minR_lst)\n",
    "len(minR_lst_lst)"
   ]
  },
  {
   "cell_type": "code",
   "execution_count": 33,
   "id": "dad5f991",
   "metadata": {
    "ExecuteTime": {
     "end_time": "2024-01-14T08:00:40.144611Z",
     "start_time": "2024-01-14T08:00:40.110248Z"
    }
   },
   "outputs": [
    {
     "name": "stdout",
     "output_type": "stream",
     "text": [
      "0 entries had zero observations\n",
      "40 out of 316 trajectories left range r=0.1 cm (F_cardiac=87.3418%)\n"
     ]
    }
   ],
   "source": [
    "dict_lst=[]\n",
    "count=0\n",
    "for minR_lst in minR_lst_lst:\n",
    "    nobs=len(minR_lst)\n",
    "    if nobs==0:\n",
    "        count+=1\n",
    "    else:\n",
    "        #trajectory was longer than mindur in duration, consider\n",
    "        minR = np.min(minR_lst)\n",
    "        #compute a large number of minR_lst values\n",
    "        boo_in_range = np.array(minR_lst)<threshR\n",
    "        ends_in_range = boo_in_range[-1]\n",
    "        leaves_in_range=False\n",
    "        if ends_in_range:\n",
    "            #check if trajectory leaves in_range status\n",
    "            i0=np.argwhere(boo_in_range)[0][0]\n",
    "            if i0<(nobs-1): \n",
    "                leaves_in_range = boo_in_range[i0:].all()\n",
    "        #record\n",
    "        dict_lst.append(dict(\n",
    "            minR=minR,nobs=nobs,\n",
    "            ends_in_range=ends_in_range,\n",
    "            leaves_in_range=leaves_in_range,\n",
    "        ))\n",
    "print(f\"{count} entries had zero observations\")\n",
    "len(dict_lst)\n",
    "\n",
    "# identify sum1 out of sum2 trajectories that enter range r stay in range r\n",
    "df=pd.DataFrame(dict_lst)\n",
    "sum1=df['leaves_in_range'].sum()\n",
    "sum2=df['ends_in_range'].sum()\n",
    "# record F_cardiac\n",
    "F_cardiac = 1-sum1/sum2\n",
    "print(f\"{sum1} out of {sum2} trajectories left range {r=} cm ({F_cardiac=:.4%})\")"
   ]
  },
  {
   "cell_type": "code",
   "execution_count": null,
   "id": "9b032648",
   "metadata": {},
   "outputs": [],
   "source": [
    "# 6 out of 99 trajectories left range r=0.1 cm (F_cardiac=93.9394%) (LR)\n",
    "# 40 out of 316 trajectories left range r=0.1 cm (F_cardiac=87.3418%)"
   ]
  },
  {
   "cell_type": "code",
   "execution_count": 34,
   "id": "572b886c",
   "metadata": {
    "ExecuteTime": {
     "end_time": "2024-01-14T08:00:40.774665Z",
     "start_time": "2024-01-14T08:00:40.145851Z"
    }
   },
   "outputs": [
    {
     "name": "stdout",
     "output_type": "stream",
     "text": [
      "\u0007\u0007\u0007"
     ]
    },
    {
     "data": {
      "text/plain": [
       "0"
      ]
     },
     "execution_count": 34,
     "metadata": {},
     "output_type": "execute_result"
    }
   ],
   "source": [
    "beep(3)"
   ]
  },
  {
   "cell_type": "code",
   "execution_count": 35,
   "id": "ec754403",
   "metadata": {
    "ExecuteTime": {
     "end_time": "2024-01-14T08:00:41.137677Z",
     "start_time": "2024-01-14T08:00:40.779540Z"
    }
   },
   "outputs": [
    {
     "name": "stdout",
     "output_type": "stream",
     "text": [
      "dirout='/home/timothytyree/Documents/GitHub/care/notebooks/Data/from_wjr/positions_fk/200x200/tippos_per_c_001_minR_lst_lst.npz'\n"
     ]
    }
   ],
   "source": [
    "#TODO: save inputs that quickly yield F_cardiac\n",
    "#DONE: dev generator for F_LPM\n",
    "dirout = input_dir+'_minR_lst_lst.npz'\n",
    "np.savez_compressed(dirout,minR_lst_lst)\n",
    "print(f\"{dirout=}\")"
   ]
  },
  {
   "cell_type": "code",
   "execution_count": 102,
   "id": "f8943e1b",
   "metadata": {
    "ExecuteTime": {
     "end_time": "2024-02-05T20:06:14.206994Z",
     "start_time": "2024-02-05T20:06:14.179588Z"
    }
   },
   "outputs": [
    {
     "data": {
      "text/plain": [
       "99"
      ]
     },
     "execution_count": 102,
     "metadata": {},
     "output_type": "execute_result"
    }
   ],
   "source": [
    "dirout='/home/timothytyree/Documents/GitHub/care/notebooks/Data/from_wjr/positions_fk/200x200/tippos_per_c_001_minR_lst_lst.npz'\n",
    "dirout='/home/timothytyree/Documents/GitHub/care/notebooks/Data/from_wjr/positions_lr/200x200/tippos_per_001_minR_lst_lst.npz'\n",
    "# minR_lst_lst = list(np.load(dirout).values())\n",
    "minR_lst_lst = list(np.load(dirout, allow_pickle=True).values())[0]\n",
    "\n",
    "# list(np.load(dirout).values())\n",
    "# ar=np.load(dirout)['arr_0']\n",
    "# list(np.load(dirout).keys())\n",
    "len(minR_lst_lst)"
   ]
  },
  {
   "cell_type": "code",
   "execution_count": 103,
   "id": "1839ab78",
   "metadata": {
    "ExecuteTime": {
     "end_time": "2024-02-05T20:06:14.826038Z",
     "start_time": "2024-02-05T20:06:14.804518Z"
    }
   },
   "outputs": [],
   "source": [
    "# ar[0]"
   ]
  },
  {
   "cell_type": "code",
   "execution_count": 104,
   "id": "edd7366a",
   "metadata": {
    "ExecuteTime": {
     "end_time": "2024-02-05T20:06:15.881404Z",
     "start_time": "2024-02-05T20:06:15.863192Z"
    }
   },
   "outputs": [
    {
     "data": {
      "text/plain": [
       "4.0"
      ]
     },
     "execution_count": 104,
     "metadata": {},
     "output_type": "execute_result"
    }
   ],
   "source": [
    "#   FK          LR\n",
    "# r 0.457±0.009 0.314±0.003\n",
    "r=0.1 #cm\n",
    "# r2=0.2 #cm\n",
    "r2=0.15 #cm\n",
    "# r2=0.2 #cm\n",
    "# r=0.25 #cm\n",
    "# r = 0.457#±0.009 cm #FK\n",
    "# r = 0.314#±0.003 cm #LR\n",
    "threshR=r/DX\n",
    "threshR2=r2/DX\n",
    "# print(f\"{threshR=:.4} pixels\")\n",
    "threshR #pixels"
   ]
  },
  {
   "cell_type": "code",
   "execution_count": 105,
   "id": "17ed318d",
   "metadata": {
    "ExecuteTime": {
     "end_time": "2024-02-05T20:06:16.463306Z",
     "start_time": "2024-02-05T20:06:16.440498Z"
    }
   },
   "outputs": [
    {
     "name": "stdout",
     "output_type": "stream",
     "text": [
      "0 entries had zero observations\n",
      "0 out of 99 trajectories left range r=0.1 cm and then left r2=0.15 cm (F_cardiac=0.0000%)\n"
     ]
    }
   ],
   "source": [
    "dict_lst=[]\n",
    "count=0\n",
    "for minR_lst in minR_lst_lst:\n",
    "    nobs=len(minR_lst)\n",
    "    if nobs==0:\n",
    "        count+=1\n",
    "    else:\n",
    "        #trajectory was longer than mindur in duration, consider\n",
    "        minR = np.min(minR_lst)\n",
    "        #compute a large number of minR_lst values\n",
    "        boo_in_range = np.array(minR_lst)<threshR\n",
    "#         boo_in_range2 = np.array(minR_lst)<threshR2\n",
    "        ends_in_range = boo_in_range[-1]\n",
    "        leaves_in_range=False\n",
    "        if ends_in_range:\n",
    "            #check if trajectory leaves in_range status\n",
    "            i0=np.argwhere(boo_in_range)[0][0]\n",
    "#             i0=np.argwhere(boo_in_range2)[0][0]\n",
    "            if i0<(nobs-1): \n",
    "                leaves_in_range = boo_in_range[i0:].all()\n",
    "#                 leaves_in_range = boo_in_range2[i0:].all()\n",
    "        #check if it really leaves the outer range at any point\n",
    "        if leaves_in_range:\n",
    "            boo_in_range2 = np.array(minR_lst)<threshR2\n",
    "            booir=boo_in_range2[i0:]\n",
    "            if booir.all():\n",
    "                #then the pair never leaves the outer range, disregard\n",
    "                leaves_in_range=False\n",
    "#             pass\n",
    "        #record\n",
    "        dict_lst.append(dict(\n",
    "            minR=minR,nobs=nobs,\n",
    "            ends_in_range=ends_in_range,\n",
    "            leaves_in_range=leaves_in_range,\n",
    "        ))\n",
    "print(f\"{count} entries had zero observations\")\n",
    "len(dict_lst)\n",
    "\n",
    "# identify sum1 out of sum2 trajectories that enter range r stay in range r\n",
    "df=pd.DataFrame(dict_lst)\n",
    "sum1=df['leaves_in_range'].sum()\n",
    "sum2=df['ends_in_range'].sum()\n",
    "# record F_cardiac\n",
    "# F_cardiac = 1-sum1/sum2\n",
    "F_cardiac = sum1/sum2\n",
    "# print(f\"{sum1} out of {sum2} trajectories left range {r=} cm ({F_cardiac=:.4%})\")\n",
    "print(f\"{sum1} out of {sum2} trajectories left range {r=} cm and then left {r2=} cm ({F_cardiac=:.4%})\")"
   ]
  },
  {
   "cell_type": "code",
   "execution_count": null,
   "id": "abdac835",
   "metadata": {},
   "outputs": [],
   "source": []
  },
  {
   "cell_type": "code",
   "execution_count": 90,
   "id": "0d3c8bd2",
   "metadata": {
    "ExecuteTime": {
     "end_time": "2024-02-05T19:55:42.244590Z",
     "start_time": "2024-02-05T19:55:42.209343Z"
    }
   },
   "outputs": [],
   "source": [
    "#FK\n",
    "# 198 out of 316 trajectories left range r=0.457 cm (F_cardiac=37.3418%)\n",
    "# 40 out of 316 trajectories left range r=0.1 cm (F_cardiac=87.3418%)\n",
    "# 0 out of 316 trajectories left range r=0.1 cm and then left r2=0.2 cm (F_cardiac=0.0000%)\n",
    "\n",
    "#LR\n",
    "# 77 out of 99 trajectories left range r=0.314 cm (F_cardiac=22.2222%)\n",
    "# 6 out of 99 trajectories left range r=0.1 cm (F_cardiac=93.9394%)\n",
    "# 0 out of 99 trajectories left range r=0.1 cm and then left r2=0.2 cm (F_cardiac=0.0000%)"
   ]
  },
  {
   "cell_type": "code",
   "execution_count": 64,
   "id": "b295bf2a",
   "metadata": {
    "ExecuteTime": {
     "end_time": "2024-01-14T20:30:59.347924Z",
     "start_time": "2024-01-14T20:30:59.330084Z"
    }
   },
   "outputs": [
    {
     "data": {
      "text/plain": [
       "316"
      ]
     },
     "execution_count": 64,
     "metadata": {},
     "output_type": "execute_result"
    }
   ],
   "source": [
    "len(minR_lst_lst[0])"
   ]
  },
  {
   "cell_type": "code",
   "execution_count": 79,
   "id": "31f57056",
   "metadata": {
    "ExecuteTime": {
     "end_time": "2024-02-05T19:37:37.567048Z",
     "start_time": "2024-02-05T19:37:37.547463Z"
    }
   },
   "outputs": [],
   "source": [
    "#DONE: identify enter range r stay in range r\n",
    "#DONE: identify sum1 out of sum2 trajectories that enter range r stay in range r\n",
    "#DONE: record F_cardiac\n",
    "#DONE: parallelize routine(task)\n",
    "#DONE: compute a larger number of minR_lst values\n",
    "#DONE: repeat for other full model\n",
    "#DONE: repeat for LPM\n",
    "#DONE: record F_LPM"
   ]
  },
  {
   "cell_type": "code",
   "execution_count": 5,
   "id": "c2cb2e7b",
   "metadata": {
    "ExecuteTime": {
     "end_time": "2024-01-13T22:21:43.323359Z",
     "start_time": "2024-01-13T22:21:43.320844Z"
    }
   },
   "outputs": [],
   "source": [
    "#DONE: look for already tracked particle positions\n",
    "#>>> there are none..."
   ]
  },
  {
   "cell_type": "code",
   "execution_count": null,
   "id": "7bad7b74",
   "metadata": {},
   "outputs": [],
   "source": []
  },
  {
   "cell_type": "code",
   "execution_count": null,
   "id": "3eecdf89",
   "metadata": {},
   "outputs": [],
   "source": []
  },
  {
   "cell_type": "code",
   "execution_count": null,
   "id": "7f3b9d28",
   "metadata": {},
   "outputs": [],
   "source": []
  },
  {
   "cell_type": "code",
   "execution_count": null,
   "id": "f4e83e72",
   "metadata": {},
   "outputs": [],
   "source": []
  }
 ],
 "metadata": {
  "hide_input": false,
  "kernelspec": {
   "display_name": "Python 3 (ipykernel)",
   "language": "python",
   "name": "python3"
  },
  "language_info": {
   "codemirror_mode": {
    "name": "ipython",
    "version": 3
   },
   "file_extension": ".py",
   "mimetype": "text/x-python",
   "name": "python",
   "nbconvert_exporter": "python",
   "pygments_lexer": "ipython3",
   "version": "3.9.13"
  },
  "nbTranslate": {
   "displayLangs": [
    "*"
   ],
   "hotkey": "alt-t",
   "langInMainMenu": true,
   "sourceLang": "en",
   "targetLang": "fr",
   "useGoogleTranslate": true
  },
  "toc": {
   "base_numbering": 1,
   "nav_menu": {},
   "number_sections": true,
   "sideBar": true,
   "skip_h1_title": false,
   "title_cell": "Table of Contents",
   "title_sidebar": "Contents",
   "toc_cell": false,
   "toc_position": {},
   "toc_section_display": true,
   "toc_window_display": false
  }
 },
 "nbformat": 4,
 "nbformat_minor": 5
}
