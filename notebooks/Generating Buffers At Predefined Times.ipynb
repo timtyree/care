{
 "cells": [
  {
   "cell_type": "markdown",
   "metadata": {},
   "source": [
    "# Saving buffers at predefined time points"
   ]
  },
  {
   "cell_type": "code",
   "execution_count": 2,
   "metadata": {
    "ExecuteTime": {
     "end_time": "2020-06-06T19:58:22.050290Z",
     "start_time": "2020-06-06T19:58:21.988636Z"
    }
   },
   "outputs": [
    {
     "name": "stdout",
     "output_type": "stream",
     "text": [
      "Automatic calling is: Smart\n"
     ]
    }
   ],
   "source": [
    "#pylab\n",
    "%matplotlib inline\n",
    "import numpy as np, pandas as pd, matplotlib.pyplot as plt\n",
    "from pylab import imshow, show\n",
    "\n",
    "import skimage as sk\n",
    "from skimage import measure, filters\n",
    "\n",
    "import matplotlib.pyplot as plt, numpy as np, os\n",
    "from numba import njit, jit, vectorize\n",
    "from PIL import Image\n",
    "import imageio\n",
    "# import cv2 as cv\n",
    "\n",
    "if 'nb_dir' not in globals():\n",
    "    nb_dir = os.getcwd()\n",
    "from lib.operari import *\n",
    "from lib.ProgressBar import *\n",
    "from lib.minimal_model import *\n",
    "from lib.TexturePlot import *\n",
    "from lib.get_tips import *\n",
    "from lib.minimal_model import *\n",
    "from lib.intersection import *\n",
    "\n",
    "\n",
    "#TODO: use cuda via numba\n",
    "# from numba import jit, njit, vectorize, cuda, uint32, f8, uint8\n",
    "# from lib.contours_to_tips import *\n",
    "\n",
    "#automate the boring stuff\n",
    "from IPython import utils\n",
    "import time, os, sys, re\n",
    "beep = lambda x: os.system(\"echo -n '\\\\a';sleep 0.2;\" * x)\n",
    "if not 'nb_dir' in globals():\n",
    "    nb_dir = os.getcwd()\n",
    "width = 512\n",
    "height = 512\n",
    "channel_no = 3\n",
    "\n",
    "%autocall 1\n",
    "%load_ext autoreload\n",
    "%autoreload 2"
   ]
  },
  {
   "cell_type": "code",
   "execution_count": 3,
   "metadata": {
    "ExecuteTime": {
     "end_time": "2020-06-06T06:01:32.290072Z",
     "start_time": "2020-06-06T06:01:32.260585Z"
    }
   },
   "outputs": [],
   "source": [
    "#TODO: list the time points that I'd like to save at.  make a folder to put them in\n",
    "#TODO: copy the 'generating tips'.  slim it down.  make it's time consistent with the predefined origin\n",
    "#TODO: edit it to save at those time points (i) buffers and (ii) .png with contours and tips indicated\n",
    "\n",
    "# def count_tips(x_list):\n",
    "#     return str(x_list).count('.')\n",
    "\n",
    "# def find_files(filename, search_path):\n",
    "#     result = []\n",
    "#     for root, dir, files in os.walk(search_path):\n",
    "#         if filename in files:\n",
    "#             result.append(os.path.join(root, filename))\n",
    "#     return result\n",
    "# # def plot_buffer(img_nxt, img_inc, contours_raw, contours_inc, tips, dpi, figsize=(15,15)):\n",
    "# def plot_buffer(img_nxt, img_inc, contours_raw, contours_inc, tips, figsize=(15,15), max_marker_size=800, lw=2):\n",
    "#     '''computes display data; returns fig.'''\n",
    "#     #plot figure\n",
    "#     fig, ax = plt.subplots(1,figsize=figsize)\n",
    "#     ax.imshow(img_nxt,cmap='Reds', vmin=0, vmax=1)\n",
    "#     ax.axis('off')\n",
    "\n",
    "#     #plot contours, if any.  type 1 = contours_raw (blue), type 2 = contours_inc (green)\n",
    "#     for n, contour in enumerate(contours_inc):\n",
    "#         ax.plot(contour[:, 1], contour[:, 0], linewidth=lw, c='g', zorder=2)\n",
    "#     for n, contour in enumerate(contours_raw):\n",
    "#         ax.plot(contour[:, 1], contour[:, 0], linewidth=lw, c='b', zorder=2)\n",
    "\n",
    "#     #plot tips, if any\n",
    "#     n_values, y_values, x_values = tips\n",
    "#     #     if len(n_values)>0:\n",
    "#     for j in range(len(x_values)): \n",
    "#         ax.scatter(x = x_values[j], y = y_values[j], c='yellow', s=int(max_marker_size/(j+1)), zorder=3, marker = '*')\n",
    "#     return fig"
   ]
  },
  {
   "cell_type": "markdown",
   "metadata": {},
   "source": [
    "# reinitialize with a desired buffer"
   ]
  },
  {
   "cell_type": "code",
   "execution_count": 17,
   "metadata": {
    "ExecuteTime": {
     "end_time": "2020-06-06T06:08:35.048345Z",
     "start_time": "2020-06-06T06:08:35.002144Z"
    }
   },
   "outputs": [
    {
     "name": "stdout",
     "output_type": "stream",
     "text": [
      "loading initial buffer from /Users/timothytyree/Documents/GitHub/care/notebooks/Data/buffer_time_origin_primed_with_circle6.npy.\n"
     ]
    }
   ],
   "source": [
    "# data_dir.replace('Data/tip_log_chaos_circle6_','')[:-4]\n",
    "sigma       = 1\n",
    "threshold   = 0.95\n",
    "buffer_fn = f'buffer_time_origin_primed_with_circle6.npy'\n",
    "# buffer_fn = 'buffer_chaos_circle6_sigma_3_threshold_0.8_wrapping_true_at_time_1800.0.npy'\n",
    "# buffer_fn   = f'buffer_chaos_circle6_sigma_5_threshold_0.6_wrapping_true_at_time_5400.0.npy'\n",
    "# save_folder = 'Data/buffers_with_odd_tips_detected'\n",
    "save_folder = 'Data/buffers_with_odd_tips_detected_ds_5'\n",
    "time_start  = 0#eval(buffer_fn[buffer_fn.find('time_')+len('time_'):-4])\n",
    "descrip     = f\"chaos_circle6_from_{time_start:.1f}_sigma_{sigma}_threshold_{threshold}_ds_5_\"\n",
    "data_dir    = find_files(buffer_fn,nb_dir)[0]\n",
    "assert(float(time_start) is not None)\n",
    "\n",
    "print(f'loading initial buffer from {data_dir}.')\n",
    "os.chdir(nb_dir)\n",
    "# txt = np.load(f'Data/buffer_chaos_circle6_sigma_5_threshold_0.6_wrapping_true_at_time_5400.0.npy')\n",
    "txt = np.load(data_dir)\n",
    "#reinitialize records\n",
    "tip_state_lst = []\n",
    "tme = time_start\n",
    "if not os.path.exists(save_folder):\n",
    "    os.mkdir(save_folder)\n",
    "os.chdir(nb_dir+'/'+save_folder)"
   ]
  },
  {
   "cell_type": "code",
   "execution_count": 18,
   "metadata": {
    "ExecuteTime": {
     "end_time": "2020-06-06T06:08:37.767153Z",
     "start_time": "2020-06-06T06:08:36.733147Z"
    }
   },
   "outputs": [
    {
     "name": "stdout",
     "output_type": "stream",
     "text": [
      "for channel 0,\n",
      "\tmax value: 0.8220734919420856\n",
      "\tmin value: -5.842994007759086e-09\n",
      "\tmean value: 0.09040495575159081\n",
      "\t\n",
      "for channel 1,\n",
      "\tmax value: 1.0\n",
      "\tmin value: 4.2730396698647395e-07\n",
      "\tmean value: 0.8207531354970061\n",
      "\t\n",
      "for channel 2,\n",
      "\tmax value: 0.9999357315470903\n",
      "\tmin value: 0.9255846617243946\n",
      "\tmean value: 0.9930852439857958\n",
      "\t\n",
      "\n",
      " number of type 1 contour = 1,\tnumber of type 2 contour = 7,\n",
      "the number of tips are 0.\n"
     ]
    },
    {
     "name": "stderr",
     "output_type": "stream",
     "text": [
      "/usr/local/lib/python3.7/site-packages/ipykernel_launcher.py:25: UserWarning: Matplotlib is currently using module://ipykernel.pylab.backend_inline, which is a non-GUI backend, so cannot show the figure.\n"
     ]
    },
    {
     "data": {
      "image/png": "[encoded data removed]",
      "text/plain": [
       "<Figure size 360x360 with 1 Axes>"
      ]
     },
     "metadata": {
      "needs_background": "light"
     },
     "output_type": "display_data"
    }
   ],
   "source": [
    "# check all the functions work/ compile the needed functions\n",
    "describe(txt)\n",
    "width, height, channel_no = txt.shape\n",
    "zero_txt = np.zeros((width, height, channel_no), dtype=np.float64)\n",
    "dtexture_dt = zero_txt.copy()\n",
    "get_time_step(txt, dtexture_dt)\n",
    "\n",
    "#calculate contours and tips\n",
    "img_nxt = txt[..., 0]\n",
    "img_inc = ifilter(dtexture_dt[..., 0])  #mask of instantaneously increasing voltages \n",
    "img_inc = filters.gaussian(img_inc,sigma=sigma, mode='wrap')\n",
    "contours_raw = measure.find_contours(img_nxt, level=0.5,fully_connected='low',positive_orientation='low')\n",
    "contours_inc = measure.find_contours(img_inc, level=threshold)#,fully_connected='low',positive_orientation='low')\n",
    "tips  = get_tips(contours_raw, contours_inc)\n",
    "n_old = count_tips(tips[1])\n",
    "\n",
    "#bluf\n",
    "print(f\"\\n number of type 1 contour = {len(contours_raw)},\\tnumber of type 2 contour = {len(contours_inc)},\")\n",
    "print(f\"the number of tips are {n_old}.\")\n",
    "# print(f\"\"\"the topological tip state:{tips[0]}\"\"\")\n",
    "# print(f\"\"\"x position of tips: {tips[1]}\"\"\")\n",
    "# print(f\"\"\"y position of tips: {tips[2]}\"\"\")\n",
    "fig = plot_buffer(img_nxt, img_inc, contours_raw, contours_inc, tips, \n",
    "                  figsize=(5,5),max_marker_size=200, lw=1);\n",
    "fig.show()"
   ]
  },
  {
   "cell_type": "code",
   "execution_count": 19,
   "metadata": {
    "ExecuteTime": {
     "end_time": "2020-06-06T06:08:39.993974Z",
     "start_time": "2020-06-06T06:08:39.973589Z"
    }
   },
   "outputs": [],
   "source": [
    "# fig.savefig('testsize.pdf', bbox_inches='tight',pad_inches=0)\n",
    "plt.close()"
   ]
  },
  {
   "cell_type": "markdown",
   "metadata": {},
   "source": [
    "## run the simulation"
   ]
  },
  {
   "cell_type": "code",
   "execution_count": 21,
   "metadata": {
    "ExecuteTime": {
     "end_time": "2020-06-06T06:09:05.480971Z",
     "start_time": "2020-06-06T06:09:05.451043Z"
    }
   },
   "outputs": [
    {
     "data": {
      "text/plain": [
       "True"
      ]
     },
     "execution_count": 21,
     "metadata": {},
     "output_type": "execute_result"
    }
   ],
   "source": [
    "recording_times = [2800,2900,3000,3100,3200, 2950, 3050]\n",
    "np.isclose(3000,recording_times,.01).any()"
   ]
  },
  {
   "cell_type": "code",
   "execution_count": 24,
   "metadata": {
    "ExecuteTime": {
     "end_time": "2020-06-06T07:56:04.596249Z",
     "start_time": "2020-06-06T06:11:14.181723Z"
    }
   },
   "outputs": [
    {
     "name": "stdout",
     "output_type": "stream",
     "text": [
      "Progress: |--------------------------------------------------| 0.0% Complete\r"
     ]
    },
    {
     "name": "stderr",
     "output_type": "stream",
     "text": [
      "/Users/timothytyree/Documents/GitHub/care/notebooks/lib/intersection.py:35: RuntimeWarning: invalid value encountered in less_equal\n",
      "  C3 = np.less_equal(S5, S6)\n",
      "/Users/timothytyree/Documents/GitHub/care/notebooks/lib/intersection.py:36: RuntimeWarning: invalid value encountered in greater_equal\n",
      "  C4 = np.greater_equal(S7, S8)\n",
      "/Users/timothytyree/Documents/GitHub/care/notebooks/lib/intersection.py:33: RuntimeWarning: invalid value encountered in less_equal\n",
      "  C1 = np.less_equal(S1, S2)\n",
      "/Users/timothytyree/Documents/GitHub/care/notebooks/lib/intersection.py:34: RuntimeWarning: invalid value encountered in greater_equal\n",
      "  C2 = np.greater_equal(S3, S4)\n"
     ]
    },
    {
     "name": "stdout",
     "output_type": "stream",
     "text": [
      "Progress: |██████████████████████████████████████████████████| 100.0% Complete\n",
      "time integration complete. time elapsed was 6289.69 seconds\n",
      "current time is 10000.9.\n",
      "number of nan pixel voltages is 512.\n",
      "current max voltage is nan.\n",
      "current max fast variable is 1.0000.\n",
      "current max slow variable is 1.0000.\n",
      "\n",
      " number of type 1 contour = 0,\tnumber of type 2 contour = 0,\n",
      "the number of tips are 0.\n"
     ]
    },
    {
     "name": "stderr",
     "output_type": "stream",
     "text": [
      "/usr/local/lib/python3.7/site-packages/ipykernel_launcher.py:68: RuntimeWarning: All-NaN slice encountered\n"
     ]
    },
    {
     "data": {
      "text/plain": [
       "0"
      ]
     },
     "execution_count": 24,
     "metadata": {},
     "output_type": "execute_result"
    }
   ],
   "source": [
    "#integrate explicitely in time\n",
    "timing = False\n",
    "recording = True\n",
    "recording_if_odd = True\n",
    "recording_times = [2800,2900,3000,3100,3200]\n",
    "h = 0.1\n",
    "nsteps = int(10**5)\n",
    "start = time.time()\n",
    "max_buffers_to_save = 5\n",
    "buffers_saved = 0\n",
    "start_saving_buffers_at_step = nsteps/2\n",
    "tip_states = None\n",
    "state = np.zeros((512,512,4),dtype=np.float64)\n",
    "for step in range(nsteps):\n",
    "    if not recording:\n",
    "        #integrate explicitely in time\n",
    "        time_step(txt, h=h, zero_txt=zero_txt) #up to twice as fast as for separated calls\n",
    "        tme += h\n",
    "    if recording:\n",
    "        #calculate discrete flow map\n",
    "        dtexture_dt = zero_txt.copy()\n",
    "        get_time_step(txt, dtexture_dt)\n",
    "        \n",
    "        #integrate explicitely in time by the forward euler method\n",
    "        txt += h*dtexture_dt\n",
    "        tme += h\n",
    "        \n",
    "        #compute contours. type 1 = contours_raw, type 2 = contours_inc\n",
    "        img_nxt = txt[..., 0].copy()\n",
    "        img_inc = ifilter(dtexture_dt[..., 0])  #mask of instantaneously increasing voltages \n",
    "        img_inc = filters.gaussian(img_inc,sigma=sigma, mode='wrap')\n",
    "        contours_raw = measure.find_contours(img_nxt, level=0.5,fully_connected='low',positive_orientation='low')\n",
    "        contours_inc = measure.find_contours(img_inc, level=threshold)#,fully_connected='low',positive_orientation='low')\n",
    "\n",
    "        #compute spiral tips from the corssings \n",
    "        tips = get_tips(contours_raw, contours_inc)\n",
    "        s_lst, x_lst, y_lst = tips\n",
    "        tip_state_lst.append({\n",
    "                    't': float(np.around(tme, 1)),\n",
    "                    'x': tuple(x_lst),\n",
    "                    'y': tuple(y_lst),\n",
    "                    's': tuple(s_lst)})\n",
    "        \n",
    "        #determine if an odd number of tips were born        \n",
    "        n = count_tips(x_lst) #counts the number of '.' in the nested list of x positions\n",
    "        dn = n - n_old\n",
    "        n_old = n\n",
    "        \n",
    "        #save the state if save_state == True as an .npy file\n",
    "        #save_state = recording_if_odd & odd_event & odd_tip_number # ==> odd birth/death event has just occurred\n",
    "#         save_state = recording_if_odd & (dn%2!=0) & (n%2!=0)\n",
    "        save_state = np.isclose(tme,recording_times,.01).any()\n",
    "        if save_state:\n",
    "            fig = plot_buffer(img_nxt, img_inc, contours_raw, contours_inc, tips, \n",
    "                  figsize=(5,5),max_marker_size=200, lw=1);\n",
    "            fig.savefig(f'plot_of_n_{n}_dn_{dn}_for_{descrip}_at_time_{tme:.1f}.pdf', bbox_inches='tight',pad_inches=0);\n",
    "            plt.close();\n",
    "            if step>start_saving_buffers_at_step:\n",
    "                if buffers_saved<max_buffers_to_save:\n",
    "                    buffers_saved += 1\n",
    "                    np.save(f'buffer_of_n_{n}_dn_{dn}_for_{descrip}_at_time_{tme:.1f}.npy', txt)\n",
    "    printProgressBar(step + 1, nsteps, prefix = 'Progress:', suffix = 'Complete', length = 50)\n",
    "\n",
    "#report the bottom line up front\n",
    "print(f\"time integration complete. time elapsed was {time.time()-start:.2f} seconds\")\n",
    "print(f\"current time is {tme:.1f}.\")\n",
    "print(f\"number of nan pixel voltages is {np.max(sum(np.isnan(txt[...,0])))}.\")\n",
    "print(f\"current max voltage is {np.nanmax(txt[...,0]):.4f}.\")\n",
    "print(f\"current max fast variable is {np.nanmax(txt[...,1]):.4f}.\")\n",
    "print(f\"current max slow variable is {np.nanmax(txt[...,2]):.4f}.\")\n",
    "n_lst, x_lst, y_lst = get_tips(contours_raw, contours_inc)\n",
    "tip_states = {'n': n_lst, 'x': x_lst, 'y': y_lst}\n",
    "# print(f\"tip_states are {tip_states}.\")\n",
    "# print(f'current tip state is {tip_states}')\n",
    "# if len(lst)~=0:\n",
    "# print(f\"number of tips is = {set([len(q) for q in lst_x[-1]])}.\") #most recent number of tips\n",
    "\n",
    "if recording:\n",
    "    tips = get_tips(contours_raw, contours_inc);\n",
    "    print(f\"\\n number of type 1 contour = {len(contours_raw)},\\tnumber of type 2 contour = {len(contours_inc)},\")\n",
    "    print(f\"the number of tips are {count_tips(tips[1])}.\")\n",
    "    #     print(f\"\"\"the topological tip state is the following:{tips[0]}\"\"\")\n",
    "beep(3)"
   ]
  },
  {
   "cell_type": "markdown",
   "metadata": {},
   "source": [
    "## save tip log"
   ]
  },
  {
   "cell_type": "code",
   "execution_count": 25,
   "metadata": {
    "ExecuteTime": {
     "end_time": "2020-06-06T07:56:05.577388Z",
     "start_time": "2020-06-06T07:56:05.003502Z"
    }
   },
   "outputs": [
    {
     "name": "stdout",
     "output_type": "stream",
     "text": [
      "saved to:\n",
      "Data/tip_log__chaos_circle6_from_0.0_sigma_1_threshold_0.95_ds_5__at_time_10000.9.csv\n"
     ]
    }
   ],
   "source": [
    "save = True\n",
    "if save:\n",
    "    df = pd.DataFrame(tip_state_lst)\n",
    "    df.to_csv(f'{nb_dir}/Data/tip_log_{descrip}_at_time_{tme:.1f}.csv', index=False)\n",
    "print('saved to:')\n",
    "print(f'Data/tip_log__{descrip}_at_time_{tme:.1f}.csv')"
   ]
  },
  {
   "cell_type": "code",
   "execution_count": 26,
   "metadata": {
    "ExecuteTime": {
     "end_time": "2020-06-06T07:56:05.948683Z",
     "start_time": "2020-06-06T07:56:05.929064Z"
    }
   },
   "outputs": [
    {
     "name": "stdout",
     "output_type": "stream",
     "text": [
      "Data/tip_log__chaos_circle6_from_0.0_sigma_1_threshold_0.95_ds_5__at_time_10000.9.csv\n"
     ]
    }
   ],
   "source": [
    "print(f'Data/tip_log__{descrip}_at_time_{tme:.1f}.csv')"
   ]
  },
  {
   "cell_type": "markdown",
   "metadata": {
    "ExecuteTime": {
     "end_time": "2020-05-29T20:47:23.448212Z",
     "start_time": "2020-05-29T20:47:23.428511Z"
    },
    "heading_collapsed": true
   },
   "source": [
    "## save plot of buffer/contours/tips"
   ]
  },
  {
   "cell_type": "code",
   "execution_count": null,
   "metadata": {
    "ExecuteTime": {
     "end_time": "2020-05-30T03:06:41.037323Z",
     "start_time": "2020-05-29T22:24:23.976Z"
    },
    "hidden": true
   },
   "outputs": [],
   "source": [
    "# #view/save the buffer with contours and tips plotted\n",
    "# save = True\n",
    "# save_file_name = f'buffer_{descrip}_at_time_{tme:.1f}'\n",
    "# save_dir = f\"Figures/{save_file_name}.png\"\n",
    "# image = txt.copy()\n",
    "\n",
    "# #compute display data\n",
    "# h = 0.1\n",
    "# # state = np.zeros((512,512,4),dtype=np.float64)\n",
    "# # get_tissue_state(texture=txt, out=state[...])\n",
    "# dtexture_dt = zero_txt.copy()\n",
    "# get_time_step(txt, dtexture_dt)\n",
    "# img_nxt = txt[...,0].copy()\n",
    "# img_inc = txt[...,0].copy()\n",
    "# #plot figure\n",
    "# plt.figure(figsize=(15,15))\n",
    "# plt.imshow(img_nxt,cmap='Reds', vmin=0, vmax=1)\n",
    "# # plt.title(\"voltage increases with red\", fontsize=24)\n",
    "\n",
    "# #plot contours, if any.  type 1 = contours_raw, type 2 = contours_inc\n",
    "# img_inc = ifilter(dtexture_dt[..., 0])  #mask of instantaneously increasing voltages \n",
    "# img_inc = filters.gaussian(img_inc,sigma=sigma, mode='wrap')\n",
    "# contours_raw = measure.find_contours(img_nxt, level=0.5,fully_connected='low',positive_orientation='low')\n",
    "# contours_inc = measure.find_contours(img_inc, level=threshold,fully_connected='low',positive_orientation='low')\n",
    "# for n, contour in enumerate(contours_inc):\n",
    "#     plt.plot(contour[:, 1], contour[:, 0], linewidth=2, c='g', zorder=2)\n",
    "# for n, contour in enumerate(contours_raw):\n",
    "#     plt.plot(contour[:, 1], contour[:, 0], linewidth=2, c='b', zorder=2)\n",
    "# plt.axis('off')\n",
    "\n",
    "# #plot tips, if any\n",
    "# tips = get_tips(contours_raw, contours_inc)\n",
    "# n_values, y_values, x_values = tips\n",
    "# for j in range(len(tips[2])): #nota bene, tips[2] is x_values\n",
    "#     plt.scatter(x = tips[2][j], y = tips[1][j], c='yellow', s=int(800/(j+1)), zorder=3, marker = '*')\n",
    "# print(f\"current time is {tme:.1f}\")\n",
    "# print(f\"number of type 1 contour = {len(contours_raw)},\\tnumber of type 2 contour = {len(contours_inc)},\")\n",
    "# print(f\"\"\"the topological tip state is the following: {n_values}\"\"\")\n",
    "# print(f\"\"\"x coords: {x_values}\"\"\")\n",
    "# print(f\"\"\"y coords: {y_values}\"\"\")\n",
    "# if save:\n",
    "#     plt.savefig(save_dir)\n",
    "# #     np.save(f'Data/{save_file_name}.npy', image)\n",
    "#     print('file saved at')\n",
    "# #     print(f'Data/{save_file_name}.npy')\n",
    "# #     np.savez_compressed(f'Data/{save_file_name}.npz', image)\n",
    "# else:\n",
    "#     plt.show()"
   ]
  },
  {
   "cell_type": "code",
   "execution_count": null,
   "metadata": {
    "ExecuteTime": {
     "end_time": "2020-05-29T21:26:46.774507Z",
     "start_time": "2020-05-29T21:26:46.754811Z"
    },
    "hidden": true
   },
   "outputs": [],
   "source": []
  },
  {
   "cell_type": "code",
   "execution_count": null,
   "metadata": {
    "ExecuteTime": {
     "end_time": "2020-05-29T21:16:53.263478Z",
     "start_time": "2020-05-29T21:16:52.421230Z"
    },
    "hidden": true
   },
   "outputs": [],
   "source": []
  },
  {
   "cell_type": "code",
   "execution_count": null,
   "metadata": {
    "ExecuteTime": {
     "end_time": "2020-05-29T21:17:02.820989Z",
     "start_time": "2020-05-29T21:17:02.798330Z"
    },
    "hidden": true
   },
   "outputs": [],
   "source": [
    "\n"
   ]
  },
  {
   "cell_type": "code",
   "execution_count": null,
   "metadata": {
    "hidden": true
   },
   "outputs": [],
   "source": []
  }
 ],
 "metadata": {
  "kernelspec": {
   "display_name": "Python 3",
   "language": "python",
   "name": "python3"
  },
  "varInspector": {
   "cols": {
    "lenName": 16,
    "lenType": 16,
    "lenVar": 40
   },
   "kernels_config": {
    "python": {
     "delete_cmd_postfix": "",
     "delete_cmd_prefix": "del ",
     "library": "var_list.py",
     "varRefreshCmd": "print(var_dic_list())"
    },
    "r": {
     "delete_cmd_postfix": ") ",
     "delete_cmd_prefix": "rm(",
     "library": "var_list.r",
     "varRefreshCmd": "cat(var_dic_list()) "
    }
   },
   "types_to_exclude": [
    "module",
    "function",
    "builtin_function_or_method",
    "instance",
    "_Feature"
   ],
   "window_display": false
  }
 },
 "nbformat": 4,
 "nbformat_minor": 2
}
