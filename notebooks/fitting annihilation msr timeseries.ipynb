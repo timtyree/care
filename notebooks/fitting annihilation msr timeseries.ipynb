{
 "cells": [
  {
   "cell_type": "markdown",
   "id": "048258cb",
   "metadata": {},
   "source": [
    "# fitting annihilation msr timeseries to the affine oscillatory particle model\n",
    "Tim Tyree<br>\n",
    "7.5.2022"
   ]
  },
  {
   "cell_type": "code",
   "execution_count": 1,
   "id": "7249626d",
   "metadata": {
    "ExecuteTime": {
     "end_time": "2022-09-30T17:14:58.769539Z",
     "start_time": "2022-09-30T17:14:56.615742Z"
    }
   },
   "outputs": [],
   "source": [
    "from IPython.display import clear_output\n",
    "clear_output(wait=True)\n",
    "\n",
    "import sys,os\n",
    "og_stdout=sys.stdout\n",
    "from lib.my_initialization import *\n",
    "\n",
    "os.chdir(nb_dir)\n",
    "from lib import *\n",
    "\n",
    "# import cupy, cudf\n",
    "# from lib.rapids_func import *\n",
    "\n",
    "import seaborn as sns\n",
    "import matplotlib.ticker as mtick\n",
    "\n",
    "import warnings\n",
    "warnings.simplefilter(\"ignore\", UserWarning)\n",
    "%load_ext autoreload\n",
    "%autoreload 2"
   ]
  },
  {
   "cell_type": "code",
   "execution_count": 2,
   "id": "5269d3f4",
   "metadata": {
    "ExecuteTime": {
     "end_time": "2022-09-30T17:14:58.787645Z",
     "start_time": "2022-09-30T17:14:58.771351Z"
    }
   },
   "outputs": [],
   "source": [
    "# from scipy.optimize import minimize\n",
    "from scipy.optimize import dual_annealing"
   ]
  },
  {
   "cell_type": "code",
   "execution_count": 13,
   "id": "43aadfdf",
   "metadata": {
    "ExecuteTime": {
     "end_time": "2022-09-30T17:16:50.852406Z",
     "start_time": "2022-09-30T17:16:50.834687Z"
    }
   },
   "outputs": [],
   "source": [
    "plt.close()\n",
    "#reset matplotlib settings\n",
    "import matplotlib as mpl\n",
    "sns.reset_orig()\n",
    "mpl.rc_file_defaults()"
   ]
  },
  {
   "cell_type": "code",
   "execution_count": null,
   "id": "77e61b3b",
   "metadata": {},
   "outputs": [],
   "source": []
  },
  {
   "cell_type": "markdown",
   "id": "1261a81a",
   "metadata": {
    "heading_collapsed": true
   },
   "source": [
    "# define module"
   ]
  },
  {
   "cell_type": "code",
   "execution_count": 4,
   "id": "d5e417a6",
   "metadata": {
    "ExecuteTime": {
     "end_time": "2022-09-30T17:14:58.832020Z",
     "start_time": "2022-09-30T17:14:58.810860Z"
    },
    "hidden": true
   },
   "outputs": [],
   "source": [
    "#copy to lib.model\n",
    "def comp_square_error_msr_aff_osc(x,*args):\n",
    "    \"\"\"phase is in radians. period is in milliseconds.  a0,a1 are in cm^2/s.\n",
    "\n",
    "Example Usage:\n",
    "x0=a0,a1,period,phase\n",
    "args=t_values,msr_values,D\n",
    "square_error=comp_square_error_msr_aff_osc(x0,*args)\n",
    "rmse=np.sqrt(square_error/t_values.shape[0])\n",
    "print(f\"{rmse=}\")\n",
    "    \"\"\"\n",
    "    a0,a1,period,phase=x\n",
    "    t_values,msr_values,D=args\n",
    "    omega=2*np.pi/period*1e3 #Hz bc period is in ms\n",
    "    msr_values_affoscillatory=4*((2*D+a0)*t_values+(a1/omega)*(np.sin(omega*t_values+phase)-np.sin(phase)))\n",
    "    square_error_msr=np.sum((msr_values_affoscillatory-msr_values)**2)\n",
    "    return square_error_msr\n",
    "\n",
    "def anneal_msr_fit(t_values,msr_values,D,\n",
    "                   bounds = ((0, 100), (0, 100), (50, 300), (-3.15,3.15)),\n",
    "                   maxiter=1000,\n",
    "                   seed=42,\n",
    "                   no_local_search=True,\n",
    "                   **kwargs):\n",
    "    \"\"\"returns fit of MSR(t') to the affine oscillatory particle model.\n",
    "    if no_local_search=True, simulated annealing is used.\n",
    "    if no_local_search=False, dual annealing is used.\n",
    "    kwargs are passed to scipy.optimize.dual_annealing\n",
    "    bounds gives the upper/lower bounds to parameter values a0 (cm^2/s), a1 (cm^2/s), period (ms), and phase (radians), respectively.\n",
    "\n",
    "    Example Usage:\n",
    "res = anneal_msr_fit(t_values,msr_values,D,\n",
    "                   bounds = ((0, 100), (0, 100), (50, 300), (-3.15,3.15)),\n",
    "                   maxiter=1000,seed=42, no_local_search=True)#,**kwargs)\n",
    "    \"\"\"\n",
    "    # input: t_values, msr_values, D, Gamma\n",
    "    # output: a0,a1,period,phase,rmse,alinear\n",
    "    args=t_values,msr_values,D\n",
    "    # np.random.seed(42)   # seed to allow replication.\n",
    "    res = dual_annealing(\n",
    "        comp_square_error_msr_aff_osc,\n",
    "        bounds=bounds,\n",
    "        args=args,\n",
    "        maxiter=maxiter,\n",
    "        seed=seed,\n",
    "        no_local_search=no_local_search,**kwargs)\n",
    "    return res\n",
    "\n",
    "def comp_alinear(a0,a1,period,Gamma,phase):\n",
    "    \"\"\"computes the effective attraction coefficient of the linear particle model.\n",
    "    a0,a1 are in units of alinear. \n",
    "    period is in units of the mean minimum lifetime, Gamma. \n",
    "    phase is in units of radians.\n",
    "    \n",
    "    Example Usage:\n",
    "alinear = comp_alinear(a0,a1,period,Gamma,phase)\n",
    "    \"\"\"\n",
    "    omega = 2*np.pi/period\n",
    "    z = Gamma*omega\n",
    "    alinear=a0 + a1*(np.cos(phase)-z*np.sin(phase))/(1 + z**2)\n",
    "    return alinear"
   ]
  },
  {
   "cell_type": "code",
   "execution_count": 5,
   "id": "8bb3a71f",
   "metadata": {
    "ExecuteTime": {
     "end_time": "2022-09-30T17:14:58.922434Z",
     "start_time": "2022-09-30T17:14:58.906034Z"
    },
    "hidden": true
   },
   "outputs": [],
   "source": [
    "def comp_mean_bootstrap_uncertainty(x,num_samples=1000):\n",
    "    \"\"\"\n",
    "    Example Usage:\n",
    "meanx,Delta_meanx,num_obs,p_normal=comp_mean_bootstrap_uncertainty(minlifetime_values)\n",
    "printing=True\n",
    "if printing:\n",
    "    print(f\"mean: {meanx:.4f} +/- {Delta_meanx:.4f} (N={num_obs}, {p_normal=:.4f})\")\n",
    "    \"\"\"\n",
    "    meanx = np.mean(x)\n",
    "    Delta_meanx,p_normal=bootstrap_95CI_Delta_mean(x,num_samples=num_samples)\n",
    "    num_obs=x.shape[0]\n",
    "    return meanx,Delta_meanx,num_obs,p_normal"
   ]
  },
  {
   "cell_type": "markdown",
   "id": "7b53ca3c",
   "metadata": {},
   "source": [
    "# bootstrap msr from range timeseries data"
   ]
  },
  {
   "cell_type": "code",
   "execution_count": 99,
   "id": "99b84bb4",
   "metadata": {
    "ExecuteTime": {
     "end_time": "2022-09-30T18:00:07.318258Z",
     "start_time": "2022-09-30T18:00:07.297562Z"
    }
   },
   "outputs": [],
   "source": [
    "# #load spiral tip range time series from cache\n",
    "# #######################\n",
    "# # Luo-Rudy\n",
    "# #######################\n",
    "# #WJ's data for LR model (200x200)\n",
    "# # range_data_dir='/home/timothytyree/Documents/GitHub/care/notebooks/Data/from_wjr/positions_lr/200x200/tippos_per_001_annihilation_range_timeseries.pkl'\n",
    "# range_data_dir=f'{nb_dir}/Data/from_wjr/positions_lr/200x200/tippos_per_001_annihilation_range_timeseries.pkl'\n",
    "# # # #my data for LR model (200x200) diffCoeff=0.001\n",
    "# # range_data_dir='/home/timothytyree/Documents/GitHub/care/notebooks/Data/initial-conditions-suite-3-LR/ds_5_param_qu_tmax_30_Ko_5.4_diffCoef_0.001/annihilation_range_timeseries.pkl'\n",
    "# # #my data for LR model (200x200) diffCoeff=0.0005\n",
    "# # range_data_dir='/home/timothytyree/Documents/GitHub/care/notebooks/Data/initial-conditions-suite-3-LR/param_qu_tmax_30_Ko_5.4_diffCoef_0.0005_dt_0.5/annihilation_range_timeseries.pkl'\n",
    "\n",
    "# #######################\n",
    "# # Fenton-Karma\n",
    "# #######################\n",
    "# # # range_data_dir='/home/timothytyree/Documents/GitHub/care/notebooks/Data/initial-conditions-fk-200x200/param_set_8_ds_5.0_tmax_10_diffCoef_0.0005/annihilation_range_timeseries.pkl'\n",
    "# # range_data_dir='/home/timothytyree/Documents/GitHub/care/notebooks/Data/initial-conditions-fk-200x200/param_set_8_ds_5.0_tmax_30_diffCoef_0.001_dt_1/annihilation_range_timeseries.pkl'\n",
    "# # # # range_data_dir='/home/timothytyree/Documents/GitHub/care/notebooks/Data/initial-conditions-fk-200x200/param_set_8_ds_5.0_tmax_10_diffCoef_0.0005/annihilation_range_timeseries.pkl'\n",
    "# # # # range_data_dir='/home/timothytyree/Documents/GitHub/care/notebooks/Data/initial-conditions-fk-200x200/param_set_8_ds_5.0_tmax_30_diffCoef_0.001_dt_0.025/annihilation_range_timeseries.pkl'\n",
    "\n",
    "# # range_data_dir='/home/timothytyree/Documents/GitHub/care/notebooks/Data/from_wjr/positions_fk/200x200/tippos_per_c_001_annihilation_range_timeseries.pkl'\n",
    "# # # range_data_dir='/home/timothytyree/Documents/GitHub/care/notebooks/Data/from_wjr/positions_fk/150x150/tippos_per_c_001_annihilation_range_timeseries.pkl'\n",
    "\n",
    "# # #150x150\n",
    "# # range_data_dir='/home/timothytyree/Documents/GitHub/care/notebooks/Data/from_wjr/positions_fk/150x150/tippos_per_c_001_annihilation_range_timeseries.pkl'\n",
    "# # #200x200\n",
    "# # range_data_dir='/home/timothytyree/Documents/GitHub/care/notebooks/Data/from_wjr/positions_fk/200x200/tippos_per_c_001_annihilation_range_timeseries.pkl'\n",
    "# # #250x250\n",
    "# # range_data_dir='/home/timothytyree/Documents/GitHub/care/notebooks/Data/from_wjr/positions_fk/250x250/tippos_per_001_annihilation_range_timeseries.pkl'\n",
    "\n",
    "\n",
    "# # #################\n",
    "# # # creations\n",
    "# # ################\n",
    "# # # #FK\n",
    "# # # # range_data_dir='/home/timothytyree/Documents/GitHub/care/notebooks/Data/from_wjr/positions_fk/200x200/tippos_per_c_005_annihilation_range_timeseries.pkl'\n",
    "# # # range_data_dir='/home/timothytyree/Documents/GitHub/care/notebooks/Data/from_wjr/positions_fk/200x200/tippos_per_c_005_creation_range_timeseries.pkl'\n",
    "# # # range_data_dir='/home/timothytyree/Documents/GitHub/care/notebooks/Data/from_wjr/positions_fk/200x200/tippos_per_c_005_creation_range_timeseries.pkl'\n",
    "# # range_data_dir='/home/timothytyree/Documents/GitHub/care/notebooks/Data/from_wjr/positions_fk/200x200/tippos_per_c_001_creation_range_timeseries.pkl'\n",
    "# # # range_data_dir='/home/timothytyree/Documents/GitHub/care/notebooks/Data/from_wjr/positions_fk/150x150/tippos_per_c_001_creation_range_timeseries.pkl'\n",
    "\n",
    "# # range_data_dir='/home/timothytyree/Documents/GitHub/care/notebooks/Data/from_wjr/positions_fk/200x200/tippos_per_c_005_creation_range_timeseries.pkl'\n",
    "# # range_data_dir='/home/timothytyree/Documents/GitHub/care/notebooks/Data/from_wjr/positions_fk/250x250/tippos_per_001_creation_range_timeseries.pkl'\n",
    "\n",
    "\n",
    "\n",
    "\n",
    "# # #LR 200x200\n",
    "# # range_data_dir='/home/timothytyree/Documents/GitHub/care/notebooks/Data/from_wjr/tippos_per_001_creation_range_timeseries.pkl'"
   ]
  },
  {
   "cell_type": "code",
   "execution_count": 120,
   "id": "d2272537",
   "metadata": {
    "ExecuteTime": {
     "end_time": "2022-09-30T23:06:02.017975Z",
     "start_time": "2022-09-30T23:06:01.994480Z"
    }
   },
   "outputs": [
    {
     "name": "stdout",
     "output_type": "stream",
     "text": [
      "/home/timothytyree/Documents/GitHub/care/notebooks/Data/from_wjr/positions_fk/200x200/tippos_per_c_001_annihilation_range_timeseries.pkl\n",
      "^those exist\n"
     ]
    }
   ],
   "source": [
    "#####################\n",
    "# Fenton-Karma\n",
    "#####################\n",
    "range_data_dir_lst=[\n",
    "    #'/home/timothytyree/Documents/GitHub/care/notebooks/Data/from_wjr/positions_fk/150x150/tippos_per_c_001_annihilation_range_timeseries.pkl',\n",
    "    '/home/timothytyree/Documents/GitHub/care/notebooks/Data/from_wjr/positions_fk/200x200/tippos_per_c_001_annihilation_range_timeseries.pkl',\n",
    "    #'/home/timothytyree/Documents/GitHub/care/notebooks/Data/from_wjr/positions_fk/250x250/tippos_per_001_annihilation_range_timeseries.pkl',\n",
    "]\n",
    "\n",
    "# #####################\n",
    "# # Luo-Rudy\n",
    "# #####################\n",
    "#runtime ~13 minutes\n",
    "# range_data_dir_lst=[\n",
    "#     '/home/timothytyree/Documents/GitHub/care/notebooks/Data/from_wjr/positions_lr/200x200/tippos_per_001_annihilation_range_timeseries.pkl',\n",
    "#     '/home/timothytyree/Documents/GitHub/care/notebooks/Data/from_wjr/positions_lr/250x250/tippos_per_c_001_annihilation_range_timeseries.pkl',\n",
    "#     '/home/timothytyree/Documents/GitHub/care/notebooks/Data/from_wjr/positions_lr/300x300/tippos_per_c_001_annihilation_range_timeseries.pkl',\n",
    "#     '/home/timothytyree/Documents/GitHub/care/notebooks/Data/from_wjr/positions_lr/350x350/tippos_per_c_001_annihilation_range_timeseries.pkl',\n",
    "#     '/home/timothytyree/Documents/GitHub/care/notebooks/Data/from_wjr/positions_lr/400x400/tippos_per_c_001_annihilation_range_timeseries.pkl',\n",
    "#     #'/home/timothytyree/Documents/GitHub/care/notebooks/Data/from_wjr/positions_lr/500x500/tippos_per_001_annihilation_range_timeseries.pkl',\n",
    "#     #^this one is too big to track in a reasonable amount of time...     \n",
    "# ]\n",
    "for fn in range_data_dir_lst:\n",
    "    print(f\"{fn}\")\n",
    "    assert os.path.exists(fn)\n",
    "print(f\"^those exist\")"
   ]
  },
  {
   "cell_type": "code",
   "execution_count": null,
   "id": "522d2284",
   "metadata": {},
   "outputs": [],
   "source": []
  },
  {
   "cell_type": "code",
   "execution_count": 121,
   "id": "0992c0ab",
   "metadata": {
    "ExecuteTime": {
     "end_time": "2022-09-30T23:10:08.703672Z",
     "start_time": "2022-09-30T23:07:30.008418Z"
    },
    "scrolled": true
   },
   "outputs": [
    {
     "name": "stdout",
     "output_type": "stream",
     "text": [
      "\n",
      "range_data_dir='/home/timothytyree/Documents/GitHub/care/notebooks/Data/from_wjr/positions_fk/200x200/tippos_per_c_001_annihilation_range_timeseries.pkl'\n",
      "loaded range timeseries from 80 termination events\n",
      "df.shape=(3846532, 9)\n",
      " - o - mean lifetime: 105.3196 +/- 1.6625 ms (N=36179, p_normal: 0.9103) from 80 termination events\n",
      "averages for spiral tip pairs:\n",
      " - x - particle average first (not this one!): mean range: 0.5263 +/- 0.0036 ms (N=36179, p_normal: 0.9015) from 80 termination events\n",
      "tdeath ranges from 0.0 to 2710.0 ms\n",
      "R^2 ranges from 6.249999999999291e-06 to 12.387906250000002 cm^2\n",
      "boostrapping mean (estimated run time ~30 seconds)...\n",
      "msr_dir_bootstrap='/home/timothytyree/Documents/GitHub/care/notebooks/Data/from_wjr/positions_fk/200x200/tippos_per_c_001_annihilation_msr.csv'\n",
      "max_tdeath=300.0 ms\n",
      "src: msr_dir_bootstrap='/home/timothytyree/Documents/GitHub/care/notebooks/Data/from_wjr/positions_fk/200x200/tippos_per_c_001_annihilation_msr.csv'\n",
      "num. epochs: 10000\n",
      "\tsimulated annealing fit: a0=1.636167878, a1=1.282220780, z=5.707561428, phase=-0.541483191 --> alinear=1.781232525 cm^2/s\n",
      ">>> alinear=1.7812325245076142 \n",
      "\n",
      "num. epochs: 100000\n",
      "simulated annealing fit: a0=1.636168212, a1=1.282334830, period=115.953473028, phase=-0.540674846 --> rmse=0.028433789 cm^2\n",
      "\tattraction coefficient: a0=1.6362, a1=1.2823, z=5.7070, phase=-0.5407 --> alinear=1.7811 cm^2/s\n",
      ">>> alinear=1.7811283375808102 \n",
      "\n",
      "*************** end data set ********************\n"
     ]
    }
   ],
   "source": [
    "# max_tdeath=100. #ms #LR\n",
    "max_tdeath=300. #ms FK\n",
    "printing=True\n",
    "D=0\n",
    "use_sim_anneal=True\n",
    "repeat_w_10X=True\n",
    "for range_data_dir in range_data_dir_lst:\n",
    "    print(f\"\\n{range_data_dir=}\")\n",
    "    data_lst=load_from_pickle(range_data_dir)\n",
    "    num_termination_events = len(data_lst)\n",
    "    print(f\"loaded range timeseries from {len(data_lst)} termination events\")\n",
    "\n",
    "    df=pd.concat(data_lst)\n",
    "    del data_lst\n",
    "    print(f\"{df.shape=}\")\n",
    "    # compute mean minimum lifetime\n",
    "    minlifetime_values = df.groupby(by=['trial_num','annihilation_index'])['tdeath'].max().values\n",
    "    meanx,Delta_meanx,num_obsx,p_normalx=comp_mean_bootstrap_uncertainty(minlifetime_values)\n",
    "    printing=True\n",
    "    if printing:\n",
    "        print(f\" - o - mean lifetime: {meanx:.4f} +/- {Delta_meanx:.4f} ms (N={num_obsx}, p_normal: {p_normalx:.4f}) from {num_termination_events} termination events\")\n",
    "    Gamma=float(meanx)\n",
    "    meanrange_values = df.groupby(by=['trial_num','annihilation_index'])['R'].mean().values\n",
    "    meanR,Delta_meanR,num_obsR,p_normalR=comp_mean_bootstrap_uncertainty(meanrange_values)\n",
    "    printing=True\n",
    "    if printing:\n",
    "        print(f\"averages for spiral tip pairs:\")\n",
    "        print(f\" - x - particle average first (not this one!): mean range: {meanR:.4f} +/- {Delta_meanR:.4f} ms (N={num_obsR}, p_normal: {p_normalR:.4f}) from {num_termination_events} termination events\")\n",
    "    # meanrange_values = df['R'].values\n",
    "    # meanR,Delta_meanR,num_obsR,p_normalR=comp_mean_bootstrap_uncertainty(meanrange_values)\n",
    "    # if printing:\n",
    "    #     print(f\" - o - all positions together (use this one!): mean range: {meanR:.4f} +/- {Delta_meanR:.4f} ms (N={num_obsR}, p_normal: {p_normalR:.4f}) from {num_termination_events} termination events\")\n",
    "    # meanSR,Delta_meanSR,num_obsSR,p_normalSR=comp_mean_bootstrap_uncertainty(meanrange_values**2)\n",
    "    # if printing:\n",
    "    #     print(f\" - o - all positions together (use this one!): root mean squared range: {np.sqrt(meanSR):.4f} +/- {0.5*np.sqrt(Delta_meanSR)/np.sqrt(meanSR):.4f} ms (N={num_obsSR}, p_normal: {p_normalSR:.4f}) from {num_termination_events} termination events\")\n",
    "\n",
    "    # Compute MSR(t') by averaging range timeseries\n",
    "    x_values_in=df['tdeath'].values\n",
    "    y_values_in=df['R'].values**2\n",
    "    print(f\"tdeath ranges from {np.min(x_values_in)} to {np.max(x_values_in)} ms\")\n",
    "    print(f\"R^2 ranges from {np.min(y_values_in)} to {np.max(y_values_in)} cm^2\")\n",
    "\n",
    "    assert not np.isnan(x_values_in).any() \n",
    "    assert not np.isnan(y_values_in).any()\n",
    "\n",
    "    #compute bootstrap \n",
    "    printing=True\n",
    "    if printing:\n",
    "        print(f\"boostrapping mean (estimated run time ~30 seconds)...\")\n",
    "    # bins=np.arange(0,450,1)\n",
    "    # bins=np.arange(0,1800,5)\n",
    "    bins=np.arange(0,2800,5)\n",
    "    df_bootstrap=bin_and_bootstrap_xy_values_parallel(x_values_in,\n",
    "                                   y_values_in,\n",
    "                                   xlabel='tdeath_avg',\n",
    "                                   ylabel='MSR',\n",
    "                                   bins=bins,\n",
    "                                   min_numobs=10,\n",
    "                                   num_bootstrap_samples=1000,\n",
    "                                   npartitions=10,\n",
    "                                   use_test=False)\n",
    "\n",
    "\n",
    "    x_values=df_bootstrap['tdeath_avg'].values\n",
    "    y_values=df_bootstrap['MSR'].values\n",
    "    yerr_values=df_bootstrap['Delta_MSR'].values\n",
    "    x_values.shape,y_values.shape,yerr_values.shape\n",
    "\n",
    "    #save msr as .csv\n",
    "    msr_dir_bootstrap=range_data_dir.replace('_range_timeseries.pkl','_msr.csv')\n",
    "    df_bootstrap.to_csv(msr_dir_bootstrap,index=False)\n",
    "    print(f\"{msr_dir_bootstrap=}\")\n",
    "\n",
    "    # optionally fit alinear with simulated annealing\n",
    "    # select msr from the full models for fitting\n",
    "    boo=x_values<max_tdeath\n",
    "    t_values=x_values[boo].copy()*1e-3\n",
    "    msr_values=y_values[boo].copy() \n",
    "    msr_values-= np.min(msr_values)\n",
    "    print(f\"{max_tdeath=} ms\")\n",
    "    print(f\"src: {msr_dir_bootstrap=}\")\n",
    "    if use_sim_anneal:\n",
    "        maxiter=10000\n",
    "        print(f\"num. epochs: {maxiter}\")\n",
    "        res = anneal_msr_fit(t_values,msr_values,D,\n",
    "                           bounds = ((0, 100), (0, 100), (50, 300), (-3.15,3.15)),\n",
    "                           maxiter=maxiter,seed=42, no_local_search=True)#,**kwargs)\n",
    "        rmse= np.sqrt(res.fun/t_values.shape[0])\n",
    "        a0,a1,period,phase=res.x\n",
    "        #print(f\"simulated annealing fit: {a0=:.4f}, {a1=:.4f}, {period=:.4f}, {phase=:.4f} --> {rmse=:.4f} cm^2\")\n",
    "\n",
    "        alinear = comp_alinear(a0,a1,period,Gamma,phase)\n",
    "        omega = 2*np.pi/period\n",
    "        z = Gamma*omega\n",
    "        print(f\"\\tsimulated annealing fit: {a0=:.9f}, {a1=:.9f}, {z=:.9f}, {phase=:.9f} --> {alinear=:.9f} cm^2/s\")\n",
    "        print(f\">>> {alinear=} \\n\")    \n",
    "        if repeat_w_10X:\n",
    "            #optionally repeat at 10X number of epochs\n",
    "            maxiter=100000\n",
    "            print(f\"num. epochs: {maxiter}\")\n",
    "            res = anneal_msr_fit(t_values,msr_values,D,\n",
    "                               bounds = ((0, 100), (0, 100), (50, 300), (-3.15,3.15)),\n",
    "                               maxiter=maxiter,seed=42+1, no_local_search=True)#,**kwargs)\n",
    "            rmse= np.sqrt(res.fun/t_values.shape[0])\n",
    "            a0,a1,period,phase=res.x\n",
    "            print(f\"simulated annealing fit: {a0=:.9f}, {a1=:.9f}, {period=:.9f}, {phase=:.9f} --> {rmse=:.9f} cm^2\")\n",
    "\n",
    "            alinear = comp_alinear(a0,a1,period,Gamma,phase)\n",
    "            omega = 2*np.pi/period\n",
    "            z = Gamma*omega\n",
    "            print(f\"\\tattraction coefficient: {a0=:.4f}, {a1=:.4f}, {z=:.4f}, {phase=:.4f} --> {alinear=:.4f} cm^2/s\")\n",
    "            print(f\">>> {alinear=} \\n\")\n",
    "            print(f\"*************** end data set ********************\")"
   ]
  },
  {
   "cell_type": "code",
   "execution_count": null,
   "id": "89467f7c",
   "metadata": {},
   "outputs": [],
   "source": []
  },
  {
   "cell_type": "markdown",
   "id": "440c0875",
   "metadata": {
    "heading_collapsed": true
   },
   "source": [
    "## plot the final instance of ibid"
   ]
  },
  {
   "cell_type": "code",
   "execution_count": 50,
   "id": "17fe57c4",
   "metadata": {
    "ExecuteTime": {
     "end_time": "2022-08-03T20:14:47.007417Z",
     "start_time": "2022-08-03T20:14:46.805786Z"
    },
    "hidden": true
   },
   "outputs": [
    {
     "name": "stdout",
     "output_type": "stream",
     "text": [
      "Does this appear to intersect at zero?\n"
     ]
    },
    {
     "data": {
      "image/png": "[encoded data removed]",
      "text/plain": [
       "<Figure size 640x480 with 1 Axes>"
      ]
     },
     "metadata": {},
     "output_type": "display_data"
    }
   ],
   "source": [
    "print(f\"Does this appear to intersect at zero?\")\n",
    "c='C0'\n",
    "plt.plot(x_values,y_values,lw=2,alpha=0.8,c=c)\n",
    "plt.fill_between(x_values,y_values-yerr_values,y_values+yerr_values,lw=2,alpha=0.4,color=c)\n",
    "format_plot(ax=plt.gca(),xlabel=r'$t_f-t$ (ms)',ylabel=r'MSR (cm$^2$)')\n",
    "# plt.xlim([0,180])\n",
    "# plt.ylim([0,3.1])\n",
    "plt.xlim([0,15])\n",
    "plt.ylim([-.1,1])\n",
    "plt.show()"
   ]
  },
  {
   "cell_type": "code",
   "execution_count": 51,
   "id": "aa4bbaba",
   "metadata": {
    "ExecuteTime": {
     "end_time": "2022-08-03T20:14:47.264379Z",
     "start_time": "2022-08-03T20:14:47.133720Z"
    },
    "hidden": true,
    "scrolled": true
   },
   "outputs": [
    {
     "data": {
      "image/png": "[encoded data removed]",
      "text/plain": [
       "<Figure size 400x420 with 1 Axes>"
      ]
     },
     "metadata": {},
     "output_type": "display_data"
    }
   ],
   "source": [
    "#plot expected\n",
    "fig,ax=plt.subplots(figsize=(4,4.2))\n",
    "# ax.plot(x_values,4*9.5*1e-3*x_values,'--',lw=2,alpha=0.8,c='C1')\n",
    "# ax.plot(x_values,4*1.8*1e-3*x_values,'--',lw=2,alpha=0.8,c='C0')\n",
    "#plot data\n",
    "ax.plot(x_values,y_values,lw=2,alpha=0.8,c=c)\n",
    "ax.fill_between(x_values,y_values-yerr_values,y_values+yerr_values,lw=2,alpha=0.4,color=c)\n",
    "format_plot(ax=ax,xlabel=r'$t_f-t$ (ms)',ylabel=r'MSR (cm$^2$)')\n",
    "ax.set_xlim([0,200])\n",
    "ax.set_ylim([0,8])\n",
    "plt.show()"
   ]
  },
  {
   "cell_type": "code",
   "execution_count": 21,
   "id": "9db8947f",
   "metadata": {
    "ExecuteTime": {
     "end_time": "2022-09-30T17:22:01.272338Z",
     "start_time": "2022-09-30T17:22:01.162434Z"
    },
    "hidden": true
   },
   "outputs": [
    {
     "ename": "NameError",
     "evalue": "name 'x_values' is not defined",
     "output_type": "error",
     "traceback": [
      "\u001b[0;31m---------------------------------------------------------------------------\u001b[0m",
      "\u001b[0;31mNameError\u001b[0m                                 Traceback (most recent call last)",
      "Input \u001b[0;32mIn [21]\u001b[0m, in \u001b[0;36m<cell line: 9>\u001b[0;34m()\u001b[0m\n\u001b[1;32m      5\u001b[0m fig,ax\u001b[38;5;241m=\u001b[39mplt\u001b[38;5;241m.\u001b[39msubplots(figsize\u001b[38;5;241m=\u001b[39m(\u001b[38;5;241m8\u001b[39m,\u001b[38;5;241m4.2\u001b[39m))\n\u001b[1;32m      6\u001b[0m \u001b[38;5;66;03m# ax.plot(x_values,4*9.5*1e-3*x_values,'--',lw=2,alpha=0.8,c='C1')\u001b[39;00m\n\u001b[1;32m      7\u001b[0m \u001b[38;5;66;03m# ax.plot(x_values,4*1.8*1e-3*x_values,'--',lw=2,alpha=0.8,c='C0')\u001b[39;00m\n\u001b[1;32m      8\u001b[0m \u001b[38;5;66;03m#plot data\u001b[39;00m\n\u001b[0;32m----> 9\u001b[0m ax\u001b[38;5;241m.\u001b[39mplot(\u001b[43mx_values\u001b[49m,y_values,lw\u001b[38;5;241m=\u001b[39m\u001b[38;5;241m2\u001b[39m,alpha\u001b[38;5;241m=\u001b[39m\u001b[38;5;241m0.8\u001b[39m,c\u001b[38;5;241m=\u001b[39mc)\n\u001b[1;32m     10\u001b[0m ax\u001b[38;5;241m.\u001b[39mfill_between(x_values,y_values\u001b[38;5;241m-\u001b[39myerr_values,y_values\u001b[38;5;241m+\u001b[39myerr_values,lw\u001b[38;5;241m=\u001b[39m\u001b[38;5;241m2\u001b[39m,alpha\u001b[38;5;241m=\u001b[39m\u001b[38;5;241m0.4\u001b[39m,color\u001b[38;5;241m=\u001b[39mc)\n\u001b[1;32m     11\u001b[0m format_plot(ax\u001b[38;5;241m=\u001b[39max,xlabel\u001b[38;5;241m=\u001b[39m\u001b[38;5;124mr\u001b[39m\u001b[38;5;124m'\u001b[39m\u001b[38;5;124m$t_f-t$ (ms)\u001b[39m\u001b[38;5;124m'\u001b[39m,ylabel\u001b[38;5;241m=\u001b[39m\u001b[38;5;124mr\u001b[39m\u001b[38;5;124m'\u001b[39m\u001b[38;5;124mMSR (cm$^2$)\u001b[39m\u001b[38;5;124m'\u001b[39m)\n",
      "\u001b[0;31mNameError\u001b[0m: name 'x_values' is not defined"
     ]
    },
    {
     "data": {
      "image/png": "[encoded data removed]",
      "text/plain": [
       "<Figure size 800x420 with 1 Axes>"
      ]
     },
     "metadata": {},
     "output_type": "display_data"
    }
   ],
   "source": [
    "c='C0'\n",
    "# c='C1'\n",
    "\n",
    "#plot expected\n",
    "fig,ax=plt.subplots(figsize=(8,4.2))\n",
    "# ax.plot(x_values,4*9.5*1e-3*x_values,'--',lw=2,alpha=0.8,c='C1')\n",
    "# ax.plot(x_values,4*1.8*1e-3*x_values,'--',lw=2,alpha=0.8,c='C0')\n",
    "#plot data\n",
    "ax.plot(x_values,y_values,lw=2,alpha=0.8,c=c)\n",
    "ax.fill_between(x_values,y_values-yerr_values,y_values+yerr_values,lw=2,alpha=0.4,color=c)\n",
    "format_plot(ax=ax,xlabel=r'$t_f-t$ (ms)',ylabel=r'MSR (cm$^2$)')\n",
    "ax.set_xlim([0,2000])\n",
    "ax.set_ylim([0,8])\n",
    "plt.show()"
   ]
  },
  {
   "cell_type": "code",
   "execution_count": 263,
   "id": "c0368a36",
   "metadata": {
    "ExecuteTime": {
     "end_time": "2022-07-27T03:40:26.054210Z",
     "start_time": "2022-07-27T03:40:26.038215Z"
    },
    "hidden": true
   },
   "outputs": [],
   "source": [
    "bins=80\n",
    "color='C1'\n",
    "# color='C0'\n",
    "# bins=np.logspace(-2,2,100)\n",
    "plt.hist(minlifetime_values,bins=bins,density=True,log=True,color=color,alpha=0.7)\n",
    "format_plot(ax=plt.gca(),xlabel=r'min$(\\Gamma_1,\\Gamma_2)$ (ms)',ylabel='PDF')\n",
    "plt.xlim([0,2.5e3])\n",
    "plt.show()plt.show()\n",
    "\n"
   ]
  },
  {
   "cell_type": "code",
   "execution_count": 264,
   "id": "c2abd399",
   "metadata": {
    "ExecuteTime": {
     "end_time": "2022-07-27T03:40:26.466030Z",
     "start_time": "2022-07-27T03:40:26.441459Z"
    },
    "hidden": true
   },
   "outputs": [],
   "source": [
    "# input_dir='/home/timothytyree/Documents/GitHub/care/notebooks/Data/initial-conditions-fk-200x200/param_set_8_ds_5.0_tmax_10_diffCoef_0.0005/Log/ic200x200.0.1_log.csv'\n",
    "# input_folder=os.path.dirname(input_dir)\n",
    "# fn_lst=[os.path.join(input_folder,x) for x in sorted(os.listdir(input_folder)) if x.find('_log.csv')!=-1]\n",
    "# print(f\"found {len(fn_lst)} files comparable to {fn_lst[0]}\")\n"
   ]
  },
  {
   "cell_type": "markdown",
   "id": "78335997",
   "metadata": {
    "heading_collapsed": true
   },
   "source": [
    "# MSR-Consistent Theory"
   ]
  },
  {
   "cell_type": "markdown",
   "id": "624f187a",
   "metadata": {
    "hidden": true
   },
   "source": [
    "$\\text{MSR}_\\text{Lin.}(t')=4\\Big(2Dt'+a_0t'\\Big)$"
   ]
  },
  {
   "cell_type": "markdown",
   "id": "2555f4a2",
   "metadata": {
    "ExecuteTime": {
     "end_time": "2022-07-27T04:26:41.139957Z",
     "start_time": "2022-07-27T04:26:41.121485Z"
    },
    "hidden": true
   },
   "source": [
    "$\\text{MSR}_\\text{Aff.Osc.}(t')=4\\Big(2Dt'+a_0t'+\\frac{a_1}{\\omega} \\big(\\sin(\\omega t' + \\phi_f)-\\sin(\\phi_f) \\big)\\Big)$"
   ]
  },
  {
   "cell_type": "markdown",
   "id": "f2001c1d",
   "metadata": {
    "ExecuteTime": {
     "end_time": "2022-06-22T17:50:35.907391Z",
     "start_time": "2022-06-22T17:50:35.850414Z"
    },
    "hidden": true
   },
   "source": [
    "Our hypothesis is that the range between particles is consistent between the two particle models in the mean square.  In other words,\n",
    "$$\n",
    "\\mathbb{E}_{\\Gamma/2}\\Big[\\text{MSR}_\\text{Lin.}\\Big] \\overset{!}{=} \\mathbb{E}_{\\Gamma/2}\\Big[\\text{MSR}_\\text{Aff.Osc}\\Big].\n",
    "$$\n",
    "\n",
    "Let $z=\\omega(\\Gamma/2)$, $D_\\text{Aff.Osc.}=D_\\text{Lin.}=D=$constant, and let $\\phi_f=0$. Then, the aforementioned _ansatz_ simplifies to\n",
    "\n",
    "$$\n",
    "a_\\text{Lin.}=a_0 + \\frac{a_1}{1+z^2}.\n",
    "$$\n"
   ]
  },
  {
   "cell_type": "markdown",
   "id": "9dcb4e60",
   "metadata": {
    "hidden": true
   },
   "source": [
    "For general $\\phi_f\\in\\mathbb{R}$, the aforementioned _ansatz_ simplifies to\n",
    "\n",
    "$$\n",
    "a_\\text{Lin.}=a_0 + a_1\\frac{\\cos(\\phi_f)-z\\sin(\\phi_f)}{1+z^2}.\n",
    "$$"
   ]
  },
  {
   "cell_type": "code",
   "execution_count": 265,
   "id": "da28fd84",
   "metadata": {
    "ExecuteTime": {
     "end_time": "2022-07-27T03:40:27.787145Z",
     "start_time": "2022-07-27T03:40:27.766720Z"
    },
    "hidden": true
   },
   "outputs": [
    {
     "name": "stdout",
     "output_type": "stream",
     "text": [
      "a0=5.4959, a1=6.2230, z=0.7000, phase=-1.1497 --> alinear=9.8712\n"
     ]
    }
   ],
   "source": [
    "#WJ'S informal fit from fortran\n",
    "#predicted values\n",
    "a0=5.4958675607488825 #cm^2/s\n",
    "a1=6.2229999145162314 #cm^2/s\n",
    "period=179.51957944083097 #ms\n",
    "# phase=1.1497012691466562\n",
    "# phase=0\n",
    "phase=-1.1497012691466562\n",
    "Gamma = 20 #ms\n",
    "\n",
    "\n",
    "omega = 2*np.pi/period\n",
    "z = Gamma*omega\n",
    "alinear=a0 + a1*(np.cos(phase)-z*np.sin(phase))/(1 + z**2)\n",
    "print(f\"{a0=:.4f}, {a1=:.4f}, {z=:.4f}, {phase=:.4f} --> {alinear=:.4f}\")"
   ]
  },
  {
   "cell_type": "markdown",
   "id": "9806372a",
   "metadata": {
    "heading_collapsed": true
   },
   "source": [
    "# Fir MSR(t') to a pure diffusing particle model"
   ]
  },
  {
   "cell_type": "code",
   "execution_count": 91,
   "id": "096d8edb",
   "metadata": {
    "ExecuteTime": {
     "end_time": "2022-08-03T20:56:18.181055Z",
     "start_time": "2022-08-03T20:56:18.158957Z"
    },
    "hidden": true
   },
   "outputs": [
    {
     "data": {
      "text/plain": [
       "((448,), (448,), (448,))"
      ]
     },
     "execution_count": 91,
     "metadata": {},
     "output_type": "execute_result"
    }
   ],
   "source": [
    "msr_dir_bootstrap='/home/timothytyree/Documents/GitHub/care/notebooks/Data/from_wjr/tippos_per_001_annihilation_msr.csv'\n",
    "# msr_dir_bootstrap='/home/timothytyree/Documents/GitHub/care/notebooks/Data/from_wjr/positions_fk/200x200/tippos_per_c_001_creation_msr.csv'\n",
    "msr_dir_bootstrap='/home/timothytyree/Documents/GitHub/care/notebooks/Data/from_wjr/positions_fk/200x200/tippos_per_c_001_annihilation_msr.csv'\n",
    "\n",
    "df_bootstrap=pd.read_csv(msr_dir_bootstrap)\n",
    "\n",
    "\n",
    "x_values=df_bootstrap['tdeath_avg'].values\n",
    "y_values=df_bootstrap['MSR'].values\n",
    "yerr_values=df_bootstrap['Delta_MSR'].values\n",
    "x_values.shape,y_values.shape,yerr_values.shape"
   ]
  },
  {
   "cell_type": "code",
   "execution_count": 99,
   "id": "bc54ab4b",
   "metadata": {
    "ExecuteTime": {
     "end_time": "2022-08-03T20:58:29.273072Z",
     "start_time": "2022-08-03T20:58:29.252589Z"
    },
    "hidden": true
   },
   "outputs": [
    {
     "data": {
      "text/plain": [
       "(180,)"
      ]
     },
     "execution_count": 99,
     "metadata": {},
     "output_type": "execute_result"
    }
   ],
   "source": [
    "# select msr from the full models for fitting\n",
    "min_tdeath=100. #ms  #LR\n",
    "# min_tdeath=300. #ms  #FK \n",
    "min_tdeath=600. #ms  #FK \n",
    "max_tdeath=1500. #ms  #FK \n",
    "printing=True\n",
    "\n",
    "boo=x_values>=min_tdeath\n",
    "boo&=x_values<max_tdeath\n",
    "t_values=x_values[boo].copy()*1e-3\n",
    "msr_values=y_values[boo].copy() \n",
    "# msr_values-= np.min(msr_values)\n",
    "msr_values.shape"
   ]
  },
  {
   "cell_type": "code",
   "execution_count": 100,
   "id": "693185d5",
   "metadata": {
    "ExecuteTime": {
     "end_time": "2022-08-03T20:58:30.331546Z",
     "start_time": "2022-08-03T20:58:30.299729Z"
    },
    "hidden": true
   },
   "outputs": [
    {
     "name": "stdout",
     "output_type": "stream",
     "text": [
      "D = m/8 = 0.1145 +/- 0.007987364738330576 (using timepoints after 600.0 ms)\n",
      "m=0.9159637025402401\n",
      "Delta_m=0.0638989179066446\n",
      "b=2.7504493323500476\n",
      "Delta_b=0.06908570277749781\n",
      "Rsquared=0.8159963094883473\n"
     ]
    }
   ],
   "source": [
    "dict_output = compute_95CI_ols(x=t_values,y=msr_values)\n",
    "D = dict_output['m']/8\n",
    "Delta_D = dict_output['Delta_m']/8\n",
    "if printing:\n",
    "    print(f\"D = m/8 = {D:.4f} +/- {Delta_D} (using timepoints after {min_tdeath} ms)\")\n",
    "    print_dict(dict_output)"
   ]
  },
  {
   "cell_type": "code",
   "execution_count": null,
   "id": "a41f57ba",
   "metadata": {
    "hidden": true
   },
   "outputs": [],
   "source": []
  },
  {
   "cell_type": "code",
   "execution_count": null,
   "id": "d7518ce8",
   "metadata": {
    "hidden": true
   },
   "outputs": [],
   "source": []
  },
  {
   "cell_type": "code",
   "execution_count": 101,
   "id": "b381163e",
   "metadata": {
    "ExecuteTime": {
     "end_time": "2022-08-03T20:58:35.726271Z",
     "start_time": "2022-08-03T20:58:35.604791Z"
    },
    "hidden": true,
    "scrolled": true
   },
   "outputs": [
    {
     "data": {
      "image/png": "[encoded data removed]",
      "text/plain": [
       "<Figure size 800x420 with 1 Axes>"
      ]
     },
     "metadata": {},
     "output_type": "display_data"
    }
   ],
   "source": [
    "c='C0'\n",
    "# c='C1'\n",
    "xlim = [0,2000]\n",
    "#plot expected\n",
    "fig,ax=plt.subplots(figsize=(8,4.2))\n",
    "# ax.plot(x_values,4*9.5*1e-3*x_values,'--',lw=2,alpha=0.8,c='C1')\n",
    "# ax.plot(x_values,4*1.8*1e-3*x_values,'--',lw=2,alpha=0.8,c='C0')\n",
    "#plot data\n",
    "ax.plot(x_values,y_values,lw=2,alpha=0.8,c=c)\n",
    "ax.fill_between(x_values,y_values-yerr_values,y_values+yerr_values,lw=2,alpha=0.4,color=c)\n",
    "\n",
    "#plot linear fit\n",
    "xv = np.arange(xlim[0],xlim[1],1)\n",
    "yv = 1e-3*dict_output['m']*xv + dict_output['b']\n",
    "ax.plot(xv,yv,'k--',lw=2,alpha=0.8)\n",
    "\n",
    "#format plot\n",
    "format_plot(ax=ax,xlabel=r'$t_f-t$ (ms)',ylabel=r'MSR (cm$^2$)')\n",
    "ax.set_xlim(xlim)\n",
    "ax.set_ylim([0,8])\n",
    "plt.show()"
   ]
  },
  {
   "cell_type": "markdown",
   "id": "28e85d04",
   "metadata": {},
   "source": [
    "# Fit MSR(t') to the affine oscillatory model"
   ]
  },
  {
   "cell_type": "markdown",
   "id": "f6d1dc3c",
   "metadata": {
    "heading_collapsed": true
   },
   "source": [
    "## load MSR(t') data"
   ]
  },
  {
   "cell_type": "code",
   "execution_count": 17,
   "id": "4dffd4c2",
   "metadata": {
    "ExecuteTime": {
     "end_time": "2022-09-30T17:20:00.516478Z",
     "start_time": "2022-09-30T17:20:00.492587Z"
    },
    "hidden": true
   },
   "outputs": [],
   "source": [
    "# # #######################\n",
    "# # # Luo-Rudy\n",
    "# # #######################\n",
    "#WJ's data for LR model (200x200)\n",
    "# msr_dir_bootstrap='/home/timothytyree/Documents/GitHub/care/notebooks/Data/from_wjr/tippos_per_001_annihilation_msr.csv'\n",
    "# msr_dir_bootstrap='/home/timothytyree/Documents/GitHub/care/notebooks/Data/from_wjr/tippos_per_001_annihilation_msr.csv'\n",
    "\n",
    "# # # #my data for LR model (200x200) diffCoeff=0.001\n",
    "# # # msr_dir_bootstrap='/home/timothytyree/Documents/GitHub/care/notebooks/Data/initial-conditions-suite-3-LR/ds_5_param_qu_tmax_30_Ko_5.4_diffCoef_0.001/annihilation_msr.csv'\n",
    "# #my data for LR model (200x200) diffCoeff=0.0005\n",
    "# msr_dir_bootstrap='/home/timothytyree/Documents/GitHub/care/notebooks/Data/initial-conditions-suite-3-LR/param_qu_tmax_30_Ko_5.4_diffCoef_0.0005_dt_0.5/annihilation_msr.csv'\n",
    "\n",
    "# # #######################\n",
    "# # # Fenton-Karma\n",
    "# # #######################\n",
    "# msr_dir_bootstrap='/home/timothytyree/Documents/GitHub/care/notebooks/Data/initial-conditions-fk-200x200/param_set_8_ds_5.0_tmax_30_diffCoef_0.001_dt_1/annihilation_msr.csv'\n",
    "# # # msr_dir_bootstrap='/home/timothytyree/Documents/GitHub/care/notebooks/Data/initial-conditions-fk-200x200/param_set_8_ds_5.0_tmax_10_diffCoef_0.0005/annihilation_msr.csv'\n",
    "# # msr_dir_bootstrap='/home/timothytyree/Documents/GitHub/care/notebooks/Data/initial-conditions-fk-200x200/param_set_8_ds_5.0_tmax_30_diffCoef_0.001_dt_1/annihilation_msr.csv'"
   ]
  },
  {
   "cell_type": "code",
   "execution_count": 22,
   "id": "9dba7625",
   "metadata": {
    "ExecuteTime": {
     "end_time": "2022-09-30T17:23:04.817008Z",
     "start_time": "2022-09-30T17:23:04.784609Z"
    },
    "hidden": true
   },
   "outputs": [],
   "source": [
    "# #######################\n",
    "# # Luo-Rudy\n",
    "# #######################\n",
    "# # # #WJ's data for LR model (200x200) diffCoeff=0.001\n",
    "# msr_dir_bootstrap = '/home/timothytyree/Documents/GitHub/care/notebooks/Data/from_wjr/positions_lr/200x200/tippos_per_001_annihilation_msr.csv' # # #######################\n",
    "# # msr_dir_bootstrap=f'{nb_dir}/Data/range_timeseries/from_wjr/lr_200x200_diffcoeff_0.001/tippos_per_001_annihilation_msr.csv'\n",
    "# # # # # #my data for LR model (200x200) diffCoeff=0.001\n",
    "# # msr_dir_bootstrap=f'{nb_dir}/Data/range_timeseries/initial-conditions-suite-3-LR_ds_5_param_qu_tmax_30_Ko_5.4_diffCoef_0.001/annihilation_msr.csv'\n",
    "# # # # # #my data for LR model (200x200) diffCoeff=0.0005\n",
    "# # # msr_dir_bootstrap=f'{nb_dir}/Data/range_timeseries/initial-condition-suite-3-LR_param_qu_tmax_30_Ko_5.4_diffCoef_0.0005_dt_0.5/annihilation_msr.csv'\n",
    "\n",
    "# msr_dir_bootstrap='/home/timothytyree/Documents/GitHub/care/notebooks/Data/from_wjr/tippos_per_001_annihilation_msr.csv'\n",
    "# msr_dir_bootstrap='/home/timothytyree/Documents/GitHub/care/notebooks/Data/from_wjr/tippos_per_001_creation_msr.csv'\n",
    "# # # #######################\n",
    "# # # # Fenton-Karma\n",
    "# # # #######################\n",
    "# msr_dir_bootstrap=f'{nb_dir}/Data/range_timeseries/initial-conditions-fk-200x200_param_set_8_ds_5.0_tmax_10_diffCoef_0.0005/annihilation_msr.csv'\n",
    "# # msr_dir_bootstrap=f'{nb_dir}/Data/range_timeseries/initial-conditions-fk-200x200_param_set_8_ds_5.0_tmax_30_diffCoef_0.001_dt_1/annihilation_msr.csv'\n",
    "\n",
    "# msr_dir_bootstrap='/home/timothytyree/Documents/GitHub/care/notebooks/Data/from_wjr/positions_fk/200x200/tippos_per_c_001_annihilation_msr.csv'\n",
    "# # mean lifetime: 105.3196 +/- 1.5647 ms (N=36179, p_normal=0.4417)\n",
    "\n",
    "# # #150x150\n",
    "# # msr_dir_bootstrap='/home/timothytyree/Documents/GitHub/care/notebooks/Data/from_wjr/positions_fk/150x150/tippos_per_c_001_annihilation_msr.csv'\n",
    "# # #200x200\n",
    "# # msr_dir_bootstrap='/home/timothytyree/Documents/GitHub/care/notebooks/Data/from_wjr/positions_fk/200x200/tippos_per_c_001_annihilation_msr.csv'\n",
    "# #250x250\n",
    "# msr_dir_bootstrap='/home/timothytyree/Documents/GitHub/care/notebooks/Data/from_wjr/positions_fk/250x250/tippos_per_001_annihilation_msr.csv'\n",
    "# # tippos_per_001_annihilation_range_timeseries.pkl\n"
   ]
  },
  {
   "cell_type": "code",
   "execution_count": 69,
   "id": "91a93b9f",
   "metadata": {
    "ExecuteTime": {
     "end_time": "2022-09-30T17:48:18.831156Z",
     "start_time": "2022-09-30T17:48:18.814035Z"
    },
    "hidden": true
   },
   "outputs": [
    {
     "name": "stdout",
     "output_type": "stream",
     "text": [
      "msr_dir_bootstrap='/home/timothytyree/Documents/GitHub/care/notebooks/Data/from_wjr/positions_fk/250x250/tippos_per_001_annihilation_msr.csv'\n"
     ]
    }
   ],
   "source": [
    "msr_dir_bootstrap='/home/timothytyree/Documents/GitHub/care/notebooks/Data/from_wjr/positions_fk/250x250/tippos_per_001_annihilation_msr.csv'\n",
    "# msr_dir_bootstrap='/home/timothytyree/Documents/GitHub/care/notebooks/Data/from_wjr/positions_fk/150x150/tippos_per_c_001_annihilation_msr.csv'\n",
    "# msr_dir_bootstrap='/home/timothytyree/Documents/GitHub/care/notebooks/Data/from_wjr/positions_fk/200x200/tippos_per_c_001_annihilation_msr.csv'\n",
    "print(f\"{msr_dir_bootstrap=}\")\n",
    "assert os.path.exists(msr_dir_bootstrap)"
   ]
  },
  {
   "cell_type": "code",
   "execution_count": null,
   "id": "e1c36a4b",
   "metadata": {
    "ExecuteTime": {
     "end_time": "2022-08-03T19:51:51.869794Z",
     "start_time": "2022-08-03T19:51:51.851175Z"
    },
    "hidden": true
   },
   "outputs": [],
   "source": []
  },
  {
   "cell_type": "code",
   "execution_count": 70,
   "id": "9bc6945d",
   "metadata": {
    "ExecuteTime": {
     "end_time": "2022-09-30T17:48:19.844608Z",
     "start_time": "2022-09-30T17:48:19.814583Z"
    },
    "hidden": true
   },
   "outputs": [
    {
     "data": {
      "text/html": [
       "<div>\n",
       "<style scoped>\n",
       "    .dataframe tbody tr th:only-of-type {\n",
       "        vertical-align: middle;\n",
       "    }\n",
       "\n",
       "    .dataframe tbody tr th {\n",
       "        vertical-align: top;\n",
       "    }\n",
       "\n",
       "    .dataframe thead th {\n",
       "        text-align: right;\n",
       "    }\n",
       "</style>\n",
       "<table border=\"1\" class=\"dataframe\">\n",
       "  <thead>\n",
       "    <tr style=\"text-align: right;\">\n",
       "      <th></th>\n",
       "      <th>tdeath_avg</th>\n",
       "      <th>MSR</th>\n",
       "      <th>Delta_tdeath_avg</th>\n",
       "      <th>Delta_MSR</th>\n",
       "      <th>p_tdeath_avg</th>\n",
       "      <th>p_MSR</th>\n",
       "      <th>counts</th>\n",
       "    </tr>\n",
       "  </thead>\n",
       "  <tbody>\n",
       "    <tr>\n",
       "      <th>0</th>\n",
       "      <td>1.923340</td>\n",
       "      <td>0.082530</td>\n",
       "      <td>0.002814</td>\n",
       "      <td>0.000192</td>\n",
       "      <td>0.780880</td>\n",
       "      <td>0.807213</td>\n",
       "      <td>864298</td>\n",
       "    </tr>\n",
       "    <tr>\n",
       "      <th>1</th>\n",
       "      <td>6.969682</td>\n",
       "      <td>0.187651</td>\n",
       "      <td>0.003152</td>\n",
       "      <td>0.000379</td>\n",
       "      <td>0.537033</td>\n",
       "      <td>0.017772</td>\n",
       "      <td>768662</td>\n",
       "    </tr>\n",
       "    <tr>\n",
       "      <th>2</th>\n",
       "      <td>11.977391</td>\n",
       "      <td>0.249455</td>\n",
       "      <td>0.003110</td>\n",
       "      <td>0.000503</td>\n",
       "      <td>0.902707</td>\n",
       "      <td>0.950303</td>\n",
       "      <td>720687</td>\n",
       "    </tr>\n",
       "    <tr>\n",
       "      <th>3</th>\n",
       "      <td>16.975718</td>\n",
       "      <td>0.298839</td>\n",
       "      <td>0.003290</td>\n",
       "      <td>0.000636</td>\n",
       "      <td>0.862308</td>\n",
       "      <td>0.197724</td>\n",
       "      <td>679920</td>\n",
       "    </tr>\n",
       "    <tr>\n",
       "      <th>4</th>\n",
       "      <td>21.972589</td>\n",
       "      <td>0.344948</td>\n",
       "      <td>0.003557</td>\n",
       "      <td>0.000757</td>\n",
       "      <td>0.857225</td>\n",
       "      <td>0.716810</td>\n",
       "      <td>636977</td>\n",
       "    </tr>\n",
       "  </tbody>\n",
       "</table>\n",
       "</div>"
      ],
      "text/plain": [
       "   tdeath_avg       MSR  Delta_tdeath_avg  Delta_MSR  p_tdeath_avg     p_MSR  \\\n",
       "0    1.923340  0.082530          0.002814   0.000192      0.780880  0.807213   \n",
       "1    6.969682  0.187651          0.003152   0.000379      0.537033  0.017772   \n",
       "2   11.977391  0.249455          0.003110   0.000503      0.902707  0.950303   \n",
       "3   16.975718  0.298839          0.003290   0.000636      0.862308  0.197724   \n",
       "4   21.972589  0.344948          0.003557   0.000757      0.857225  0.716810   \n",
       "\n",
       "   counts  \n",
       "0  864298  \n",
       "1  768662  \n",
       "2  720687  \n",
       "3  679920  \n",
       "4  636977  "
      ]
     },
     "execution_count": 70,
     "metadata": {},
     "output_type": "execute_result"
    }
   ],
   "source": [
    "df_bootstrap=pd.read_csv(msr_dir_bootstrap)\n",
    "df_bootstrap.head()"
   ]
  },
  {
   "cell_type": "code",
   "execution_count": null,
   "id": "ed34154c",
   "metadata": {
    "hidden": true
   },
   "outputs": [],
   "source": []
  },
  {
   "cell_type": "code",
   "execution_count": 71,
   "id": "20474ed4",
   "metadata": {
    "ExecuteTime": {
     "end_time": "2022-09-30T17:48:20.493219Z",
     "start_time": "2022-09-30T17:48:20.398431Z"
    },
    "hidden": true
   },
   "outputs": [
    {
     "data": {
      "image/png": "[encoded data removed]",
      "text/plain": [
       "<Figure size 400x420 with 1 Axes>"
      ]
     },
     "metadata": {},
     "output_type": "display_data"
    }
   ],
   "source": [
    "#plot expected\n",
    "# c='C0'\n",
    "c='C1'\n",
    "c='k'\n",
    "# figsize=(8,4.2)\n",
    "figsize=(4,4.2)\n",
    "\n",
    "x_values=df_bootstrap['tdeath_avg'].values\n",
    "y_values=df_bootstrap['MSR'].values\n",
    "yerr_values=df_bootstrap['Delta_MSR'].values\n",
    "x_values.shape,y_values.shape,yerr_values.shape\n",
    "\n",
    "fig,ax=plt.subplots(figsize=figsize)\n",
    "# ax.plot(x_values,4*9.5*1e-3*x_values,'--',lw=2,alpha=0.8,c='C1')\n",
    "# ax.plot(x_values,4*1.8*1e-3*x_values,'--',lw=2,alpha=0.8,c='C0')\n",
    "#plot data\n",
    "ax.plot(x_values,y_values,lw=2,alpha=0.8,c=c)\n",
    "ax.fill_between(x_values,y_values-yerr_values,y_values+yerr_values,lw=2,alpha=0.4,color=c)\n",
    "format_plot(ax=ax,xlabel=r'$t_f-t$ (ms)',ylabel=r'MSR (cm$^2$)')\n",
    "ax.set_xlim([0,200])\n",
    "# ax.set_xlim([0,2000])\n",
    "ax.set_ylim([0,8])\n",
    "plt.show()"
   ]
  },
  {
   "cell_type": "markdown",
   "id": "0af96455",
   "metadata": {
    "heading_collapsed": true
   },
   "source": [
    "# recall the mean minimum lifetime"
   ]
  },
  {
   "cell_type": "code",
   "execution_count": 72,
   "id": "587bedb1",
   "metadata": {
    "ExecuteTime": {
     "end_time": "2022-09-30T17:48:20.932104Z",
     "start_time": "2022-09-30T17:48:20.907051Z"
    },
    "hidden": true
   },
   "outputs": [
    {
     "name": "stdout",
     "output_type": "stream",
     "text": [
      "range_data_dir='/home/timothytyree/Documents/GitHub/care/notebooks/Data/from_wjr/positions_fk/250x250/tippos_per_001_annihilation_range_timeseries.pkl'\n"
     ]
    }
   ],
   "source": [
    "# msr_dir_bootstrap='/home/timothytyree/Documents/GitHub/care/notebooks/Data/from_wjr/positions_lr/200x200/tippos_per_001_annihilation_msr.csv'\n",
    "trgt_str = 'msr.csv'\n",
    "range_data_dir = msr_dir_bootstrap.replace(trgt_str,'range_timeseries.pkl')\n",
    "print(f\"{range_data_dir=}\")\n",
    "assert os.path.exists(range_data_dir)"
   ]
  },
  {
   "cell_type": "code",
   "execution_count": 73,
   "id": "46df1b07",
   "metadata": {
    "ExecuteTime": {
     "end_time": "2022-09-30T17:48:25.302758Z",
     "start_time": "2022-09-30T17:48:21.135051Z"
    },
    "hidden": true
   },
   "outputs": [
    {
     "name": "stdout",
     "output_type": "stream",
     "text": [
      "loaded range timeseries from 29 termination events\n",
      "num. obs: 17439817\n",
      " - mean lifetime: 91.2055 +/- 0.6642 ms (N=189141, p_normal: 0.1699) from 29 termination events\n"
     ]
    }
   ],
   "source": [
    "#heretim\n",
    "data_lst=load_from_pickle(range_data_dir)\n",
    "num_termination_events = len(data_lst)\n",
    "print(f\"loaded range timeseries from {len(data_lst)} termination events\")\n",
    "df=pd.concat(data_lst)\n",
    "del data_lst\n",
    "print(f\"num. obs: {df.shape[0]}\")\n",
    "minlifetime_values = df.groupby(by=['trial_num','annihilation_index'])['tdeath'].max().values\n",
    "meanx,Delta_meanx,num_obsx,p_normalx=comp_mean_bootstrap_uncertainty(minlifetime_values)\n",
    "printing=True\n",
    "if printing:\n",
    "    print(f\" - mean lifetime: {meanx:.4f} +/- {Delta_meanx:.4f} ms (N={num_obsx}, p_normal: {p_normalx:.4f}) from {num_termination_events} termination events\")\n",
    "Gamma = meanx"
   ]
  },
  {
   "cell_type": "code",
   "execution_count": 74,
   "id": "e356034b",
   "metadata": {
    "ExecuteTime": {
     "end_time": "2022-09-30T17:48:25.323773Z",
     "start_time": "2022-09-30T17:48:25.305229Z"
    },
    "hidden": true
   },
   "outputs": [],
   "source": [
    "# # # Gamma = 100. # ~ 197/2 #ms #for predicting alinear only\n",
    "# Gamma = 93. #ms for FK 200x200, diffCoeff=0.0005\n",
    "# # Gamma = 87. #ms for FK 200x200, diffCoeff=0.001\n",
    "# # Gamma = 105.3196 #+/- 1.5647 ms (N=36179, p_normal=0.4417) diffCoeff=0.0005? 200x200\n",
    "# Gamma = 105.5460 #+/- 6.1482 ms (N=3220, p_normal=0.2679)  diffCoeff=0.0005? 150x150\n",
    "# # meanx,Delta_meanx,num_obsx,p_normalx=comp_mean_bootstrap_uncertainty(minlifetime_values)\n",
    "# # Gamma=float(meanx)\n",
    "# if printing:\n",
    "# #     print(f\"mean lifetime: {meanx:.4f} +/- {Delta_meanx:.4f} ms (N={num_obsx}, p_normal: {p_normalx:.4f})\")\n",
    "#     print(f\"mean lifetime: {meanx:.4f} +/- {Delta_meanx:.4f} ms (N={num_obsx}, p_normal: {p_normalx:.4f}) from {num_termination_events} termination events\")\n",
    "#     print(f\"setting {Gamma=:.4f}, {D=:.0f}...\")\n",
    "# Gamma = 200.#ms\n",
    "# msr_dir_bootstrap='/home/timothytyree/Documents/GitHub/care/notebooks/Data/from_wjr/positions_fk/200x200/tippos_per_c_001_annihilation_msr.csv'\n",
    "# mean lifetime: 105.3196 +/- 1.5647 ms (N=36179, p_normal=0.4417)"
   ]
  },
  {
   "cell_type": "markdown",
   "id": "4e55a89e",
   "metadata": {
    "hidden": true
   },
   "source": [
    "## fit the full msr to the affine oscillatory msr using simulated annealing"
   ]
  },
  {
   "cell_type": "code",
   "execution_count": 75,
   "id": "5546f28f",
   "metadata": {
    "ExecuteTime": {
     "end_time": "2022-09-30T17:48:30.002386Z",
     "start_time": "2022-09-30T17:48:25.325717Z"
    },
    "hidden": true
   },
   "outputs": [
    {
     "name": "stdout",
     "output_type": "stream",
     "text": [
      "max_tdeath=300.0 ms\n",
      "src: msr_dir_bootstrap='/home/timothytyree/Documents/GitHub/care/notebooks/Data/from_wjr/positions_fk/250x250/tippos_per_001_annihilation_msr.csv'\n",
      "num. epochs: 10000\n",
      "simulated annealing fit: a0=1.6811, a1=1.3946, period=119.0635, phase=-0.3620 --> rmse=0.0399 cm^2\n",
      "\tattraction coefficient: a0=1.6811, a1=1.3946, z=4.8131, phase=-0.3620 --> alinear=1.8334 cm^2/s\n"
     ]
    }
   ],
   "source": [
    "# select msr from the full models for fitting\n",
    "# max_tdeath=100. #ms #LR\n",
    "max_tdeath=300. #ms FK\n",
    "printing=True\n",
    "#INPUT: FK MODEL\n",
    "boo=x_values<max_tdeath\n",
    "t_values=x_values[boo].copy()*1e-3\n",
    "msr_values=y_values[boo].copy() \n",
    "msr_values-= np.min(msr_values)\n",
    "D=0\n",
    "# D=0.365 #cm^2/s, as observed\n",
    "# D=0.25 #cm^2/s, as observed more recently\n",
    "# D=0. #cm^2/s\n",
    "# D=0.1 #cm^2/s\n",
    "# D=0.2 #cm^2/s\n",
    "\n",
    "# # #INPUT: LR MODEL\n",
    "# max_tdeath=100. #ms\n",
    "# boo=x_values<max_tdeath\n",
    "# t_values=x_values[boo].copy()*1e-3\n",
    "# msr_values=y_values[boo].copy()\n",
    "# msr_values-= np.min(msr_values)\n",
    "# D=0.58 #cm^2/s, as observed\n",
    "# Gamma = 33.4 # 20. # ~ 40/2 #ms #for predicting alinear only\n",
    "print(f\"{max_tdeath=} ms\")\n",
    "print(f\"src: {msr_dir_bootstrap=}\")\n",
    "maxiter=10000\n",
    "print(f\"num. epochs: {maxiter}\")\n",
    "res = anneal_msr_fit(t_values,msr_values,D,\n",
    "                   bounds = ((0, 100), (0, 100), (50, 300), (-3.15,3.15)),\n",
    "                   maxiter=maxiter,seed=42, no_local_search=True)#,**kwargs)\n",
    "rmse= np.sqrt(res.fun/t_values.shape[0])\n",
    "a0,a1,period,phase=res.x\n",
    "print(f\"simulated annealing fit: {a0=:.4f}, {a1=:.4f}, {period=:.4f}, {phase=:.4f} --> {rmse=:.4f} cm^2\")\n",
    "\n",
    "alinear = comp_alinear(a0,a1,period,Gamma,phase)\n",
    "omega = 2*np.pi/period\n",
    "z = Gamma*omega\n",
    "print(f\"\\tattraction coefficient: {a0=:.4f}, {a1=:.4f}, {z=:.4f}, {phase=:.4f} --> {alinear=:.4f} cm^2/s\")"
   ]
  },
  {
   "cell_type": "code",
   "execution_count": 76,
   "id": "0aa5ac64",
   "metadata": {
    "ExecuteTime": {
     "end_time": "2022-09-30T17:49:16.128584Z",
     "start_time": "2022-09-30T17:48:30.004840Z"
    },
    "hidden": true
   },
   "outputs": [
    {
     "name": "stdout",
     "output_type": "stream",
     "text": [
      "num. epochs: 100000\n",
      "simulated annealing fit: a0=1.6806, a1=1.3954, period=119.0325, phase=-0.3650 --> rmse=0.0399 cm^2\n",
      "\tattraction coefficient: a0=1.6806, a1=1.3954, z=4.8143, phase=-0.3650 --> alinear=1.8337 cm^2/s\n"
     ]
    }
   ],
   "source": [
    "maxiter=100000\n",
    "print(f\"num. epochs: {maxiter}\")\n",
    "res = anneal_msr_fit(t_values,msr_values,D,\n",
    "                   bounds = ((0, 100), (0, 100), (50, 300), (-3.15,3.15)),\n",
    "                   maxiter=maxiter,seed=42+1, no_local_search=True)#,**kwargs)\n",
    "rmse= np.sqrt(res.fun/t_values.shape[0])\n",
    "a0,a1,period,phase=res.x\n",
    "print(f\"simulated annealing fit: {a0=:.4f}, {a1=:.4f}, {period=:.4f}, {phase=:.4f} --> {rmse=:.4f} cm^2\")\n",
    "\n",
    "alinear = comp_alinear(a0,a1,period,Gamma,phase)\n",
    "omega = 2*np.pi/period\n",
    "z = Gamma*omega\n",
    "print(f\"\\tattraction coefficient: {a0=:.4f}, {a1=:.4f}, {z=:.4f}, {phase=:.4f} --> {alinear=:.4f} cm^2/s\")"
   ]
  },
  {
   "cell_type": "code",
   "execution_count": 77,
   "id": "767a3254",
   "metadata": {
    "ExecuteTime": {
     "end_time": "2022-09-30T17:49:16.239205Z",
     "start_time": "2022-09-30T17:49:16.129912Z"
    },
    "hidden": true
   },
   "outputs": [
    {
     "data": {
      "image/png": "[encoded data removed]",
      "text/plain": [
       "<Figure size 300x300 with 1 Axes>"
      ]
     },
     "metadata": {},
     "output_type": "display_data"
    }
   ],
   "source": [
    "#visualize the fit zoomed\n",
    "boo=x_values<max_tdeath\n",
    "t_values=x_values[boo].copy()*1e-3\n",
    "\n",
    "figsize=(3,3)\n",
    "fontsize=10\n",
    "fig,ax=plt.subplots(figsize=figsize)\n",
    "period_of_oscillation=period*1e-3 #seconds\n",
    "omega=2*np.pi/period_of_oscillation\n",
    "msr_values_affoscillatory=4*((2*D+a0)*t_values+(a1/omega)*(np.sin(omega*t_values+phase)-np.sin(phase)))\n",
    "plt.plot(t_values,msr_values,label='full model')\n",
    "plt.plot(t_values,msr_values_affoscillatory,label='sim. anneal fit')\n",
    "# plt.plot(t_values,msr_values_affoscillatory,label='fit to full')\n",
    "format_plot(ax=plt.gca(),xlabel=r\"t' (s)\",ylabel=r\"MSR (cm$^2$)\",fontsize=fontsize)\n",
    "plt.legend(fontsize=fontsize)\n",
    "plt.show()"
   ]
  },
  {
   "cell_type": "code",
   "execution_count": 78,
   "id": "20ebf525",
   "metadata": {
    "ExecuteTime": {
     "end_time": "2022-09-30T17:49:16.356118Z",
     "start_time": "2022-09-30T17:49:16.240570Z"
    },
    "hidden": true
   },
   "outputs": [
    {
     "data": {
      "image/png": "[encoded data removed]",
      "text/plain": [
       "<Figure size 400x420 with 1 Axes>"
      ]
     },
     "metadata": {},
     "output_type": "display_data"
    }
   ],
   "source": [
    "xlabel=r'$t_f-t$ (ms)'\n",
    "xlabel=r'$t$ (ms)'\n",
    "\n",
    "#plot expected\n",
    "c='C0'\n",
    "# c='C1'\n",
    "# figsize=(8,4.2)\n",
    "figsize=(4,4.2)\n",
    "fontsize=14\n",
    "\n",
    "x_values=df_bootstrap['tdeath_avg'].values\n",
    "y_values=df_bootstrap['MSR'].values\n",
    "y_values-=np.min(y_values)\n",
    "yerr_values=df_bootstrap['Delta_MSR'].values\n",
    "\n",
    "t_values=x_values*1e-3\n",
    "msr_values_affoscillatory=4*((2*D+a0)*t_values+(a1/omega)*(np.sin(omega*t_values+phase)-np.sin(phase)))\n",
    "\n",
    "\n",
    "\n",
    "fig,ax=plt.subplots(figsize=figsize)\n",
    "# ax.plot(x_values,4*9.5*1e-3*x_values,'--',lw=2,alpha=0.8,c='C1')\n",
    "# ax.plot(x_values,4*1.8*1e-3*x_values,'--',lw=2,alpha=0.8,c='C0')\n",
    "#plot data\n",
    "ax.plot(x_values,y_values,lw=2,alpha=0.8,c=c, label='Full Model')\n",
    "ax.fill_between(x_values,y_values-yerr_values,y_values+yerr_values,lw=2,alpha=0.4,color=c)\n",
    "\n",
    "ax.plot(t_values*1e3,msr_values_affoscillatory,label='Sim. Anneal Fit',c='k',alpha=0.7)\n",
    "\n",
    "format_plot(ax=ax,xlabel=xlabel,ylabel=r'MSR (cm$^2$)',fontsize=fontsize)\n",
    "ax.set_xlim([0,500])\n",
    "# ax.set_xlim([0,2000])\n",
    "ax.set_ylim([0,8])\n",
    "plt.legend(fontsize=fontsize-2)\n",
    "\n",
    "plt.show()"
   ]
  },
  {
   "cell_type": "code",
   "execution_count": null,
   "id": "e532b011",
   "metadata": {
    "hidden": true
   },
   "outputs": [],
   "source": [
    "meanrange_values = df['R'].values\n",
    "meanR,Delta_meanR,num_obsR,p_normalR=comp_mean_bootstrap_uncertainty(meanrange_values)\n",
    "if printing:\n",
    "    print(f\" - o - all positions together (use this one!): mean range: {meanR:.4f} +/- {Delta_meanR:.4f} ms (N={num_obsR}, p_normal: {p_normalR:.4f}) from {num_termination_events} termination events\")\n",
    "\n",
    "print(f\"{meanR**2/Gamma/32=}\")\n",
    "    \n",
    "meanSR,Delta_meanSR,num_obsSR,p_normalSR=comp_mean_bootstrap_uncertainty(meanrange_values**2)\n",
    "if printing:\n",
    "    print(f\" - o - all positions together (use this one!): root mean squared range: {np.sqrt(meanSR):.4f} +/- {0.5*np.sqrt(Delta_meanSR)/np.sqrt(meanSR):.4f} ms (N={num_obsSR}, p_normal: {p_normalSR:.4f}) from {num_termination_events} termination events\")\n",
    "\n",
    "print(f\"{meanSR/Gamma/32=}\")\n",
    "\n",
    "    "
   ]
  },
  {
   "cell_type": "markdown",
   "id": "ed4ba319",
   "metadata": {
    "heading_collapsed": true
   },
   "source": [
    "# (supplementary) fit MSR(t') using fancy, complicated methods"
   ]
  },
  {
   "cell_type": "code",
   "execution_count": 590,
   "id": "2022cbc9",
   "metadata": {
    "ExecuteTime": {
     "end_time": "2022-07-08T20:06:57.616291Z",
     "start_time": "2022-07-08T20:06:57.578936Z"
    },
    "hidden": true
   },
   "outputs": [],
   "source": [
    "from scipy.optimize import minimize\n",
    "def comp_square_error_msr_period_fixed(x,*args):\n",
    "    \"\"\"phase is in radians. period is in milliseconds.  a0,a1 are in cm^2/s.\n",
    "\n",
    "Example Usage:\n",
    "x0=a0,a1,phase\n",
    "args=t_values,msr_values,D,period\n",
    "square_error=comp_square_error_msr_aff_osc(x0,*args)\n",
    "rmse=np.sqrt(square_error/t_values.shape[0])\n",
    "print(f\"{rmse=}\")\n",
    "    \"\"\"\n",
    "    a0,a1,phase=x\n",
    "    t_values,msr_values,D,period=args\n",
    "    omega=2*np.pi/period*1e3 #Hz bc period is in ms\n",
    "    msr_values_affoscillatory=4*((2*D+a0)*t_values+(a1/omega)*(np.sin(omega*t_values+phase)-np.sin(phase)))\n",
    "    square_error_msr=np.sum((msr_values_affoscillatory-msr_values)**2)\n",
    "    return square_error_msr"
   ]
  },
  {
   "cell_type": "code",
   "execution_count": 589,
   "id": "5caedf51",
   "metadata": {
    "ExecuteTime": {
     "end_time": "2022-07-08T20:04:31.778837Z",
     "start_time": "2022-07-08T20:04:31.302633Z"
    },
    "hidden": true,
    "scrolled": true
   },
   "outputs": [
    {
     "name": "stdout",
     "output_type": "stream",
     "text": [
      "m=14.413057752177012\n",
      "b=1.0696028305996794\n",
      "Rsquared=0.38314383286833603\n"
     ]
    },
    {
     "data": {
      "image/png": "[encoded data removed]",
      "text/plain": [
       "<Figure size 300x300 with 1 Axes>"
      ]
     },
     "metadata": {},
     "output_type": "display_data"
    },
    {
     "name": "stdout",
     "output_type": "stream",
     "text": [
      "rmse=0.2967137861796891\n",
      "baseline loss: rmse=0.2967 cm^2 (from a0=3.6033, a1=14.4131, period=100.0000, phase=-1.5708)\n",
      "method='Nelder-Mead': a0_=4.3331, a1_=12.6700, period_=104.4021, phase_=-1.0350, rmse=0.06022575035499659\n",
      "method='Powell': a0_=4.3330, a1_=12.6699, period_=104.4021, phase_=-1.0350, rmse=0.06022574586310302\n",
      "method='CG': a0_=4.3329, a1_=12.6701, period_=104.4021, phase_=-1.0350, rmse=0.06022575065235818\n",
      "method='BFGS': a0_=4.3331, a1_=12.6698, period_=104.4021, phase_=-1.0349, rmse=0.06022574402984597\n",
      "method='L-BFGS-B': a0_=4.3339, a1_=12.6684, period_=104.4021, phase_=-1.0348, rmse=0.060225857449732925\n",
      "method='TNC': a0_=4.2220, a1_=12.6540, period_=104.4021, phase_=-1.0781, rmse=0.06315296102878984\n",
      "method='COBYLA': a0_=4.3152, a1_=12.7670, period_=104.4021, phase_=-1.0336, rmse=0.06051079214409579\n",
      "method='SLSQP': a0_=4.3299, a1_=12.6710, period_=104.4021, phase_=-1.0361, rmse=0.06022781687964303\n",
      "method='trust-constr': a0_=4.3332, a1_=12.6699, period_=104.4021, phase_=-1.0349, rmse=0.06022574453792475\n"
     ]
    },
    {
     "data": {
      "image/png": "[encoded data removed]",
      "text/plain": [
       "<Figure size 300x300 with 1 Axes>"
      ]
     },
     "metadata": {},
     "output_type": "display_data"
    }
   ],
   "source": [
    "dict_output = comp_ols_simple(t_values,msr_values)\n",
    "print_dict(dict_output)\n",
    "#reasonable guess for a0\n",
    "a0 = dict_output['m']/4 #- 2*D\n",
    "a1 = float(a0)*4\n",
    "#reasonable guess for phi_f\n",
    "phase=-np.pi/2\n",
    "period=100 #ms\n",
    "\n",
    "#visualize the fitty\n",
    "figsize=(3,3)\n",
    "fontsize=10\n",
    "fig,ax=plt.subplots(figsize=figsize)\n",
    "period_of_oscillation=period*1e-3 #seconds\n",
    "omega=2*np.pi/period_of_oscillation\n",
    "msr_values_affoscillatory=4*((2*D+a0)*t_values+(a1/omega)*(np.sin(omega*t_values+phase)-np.sin(phase)))\n",
    "plt.plot(t_values,msr_values,label='full model')\n",
    "plt.plot(t_values,msr_values_affoscillatory,label='initial guess')\n",
    "# plt.plot(t_values,msr_values_affoscillatory,label='fit to full')\n",
    "format_plot(ax=plt.gca(),xlabel=r\"t' (s)\",ylabel=r\"MSR (cm$^2$)\",fontsize=fontsize)\n",
    "plt.legend(fontsize=fontsize)\n",
    "plt.show()\n",
    "\n",
    "x0=a0,a1,phase\n",
    "args=t_values,msr_values,D,period\n",
    "square_error=comp_square_error_msr_period_fixed(x0,*args)\n",
    "rmse=np.sqrt(square_error/t_values.shape[0])\n",
    "print(f\"baseline loss: {rmse=:.4f} cm^2 (from {a0=:.4f}, {a1=:.4f}, {period=:.4f}, {phase=:.4f})\")\n",
    "\n",
    "#DONDE: vary a0, a1\n",
    "# method_lst=['Nelder-Mead','Powell','CG','BFGS','Newton-CG','L-BFGS-B','TNC','COBYLA','SLSQP','trust-constr','dogleg','trust-ncg','trust-exact','trust-krylov']\n",
    "#jacobian needed # 'dogleg', 'Newton-CG', 'trust-ncg', 'trust-exact','trust-krylov' #jacobian needed\n",
    "method_lst=['Nelder-Mead','Powell','CG','BFGS','L-BFGS-B','TNC','COBYLA','SLSQP','trust-constr']\n",
    "bounds = ((0, 100), (0, 100), (-3.2,3.2))\n",
    "np.random.seed(42)   # seed to allow replication.\n",
    "for method in method_lst:\n",
    "    res = minimize(comp_square_error_msr_period_fixed, x0, args, method=method, bounds=bounds,tol=1e-3)\n",
    "    # res.x is in the basis of a0,a1  #,period,phase\n",
    "    a0_=res.x[0];a1_=res.x[1];phase_=res.x[2]\n",
    "    square_error=comp_square_error_msr_period_fixed(res.x,*args)\n",
    "    rmse=np.sqrt(square_error/t_values.shape[0])\n",
    "    print(f\"{method=}: {a0_=:.4f}, {a1_=:.4f}, {period_=:.4f}, {phase_=:.4f}, {rmse=}\")\n",
    "\n",
    "#visualize the fitty\n",
    "a0_,a1_,phase_=res.x\n",
    "period_=period\n",
    "figsize=(3,3)\n",
    "fontsize=10\n",
    "fig,ax=plt.subplots(figsize=figsize)\n",
    "period_of_oscillation=period_*1e-3 #seconds\n",
    "omega=2*np.pi/period_of_oscillation\n",
    "msr_values_affoscillatory=4*((2*D+a0_)*t_values+(a1_/omega)*(np.sin(omega*t_values+phase_)-np.sin(phase_)))\n",
    "plt.plot(t_values,msr_values,label='full model')\n",
    "plt.plot(t_values,msr_values_affoscillatory,label='fit')\n",
    "# plt.plot(t_values,msr_values_affoscillatory,label='fit to full')\n",
    "format_plot(ax=plt.gca(),xlabel=r\"t' (s)\",ylabel=r\"MSR (cm$^2$)\",fontsize=fontsize)\n",
    "plt.legend(fontsize=fontsize)\n",
    "plt.show()"
   ]
  },
  {
   "cell_type": "markdown",
   "id": "4d372170",
   "metadata": {
    "heading_collapsed": true
   },
   "source": [
    "# (supplementary) naive guess at fit"
   ]
  },
  {
   "cell_type": "code",
   "execution_count": null,
   "id": "c6a88021",
   "metadata": {
    "ExecuteTime": {
     "end_time": "2022-07-08T19:26:56.956052Z",
     "start_time": "2022-07-08T19:26:56.902673Z"
    },
    "hidden": true
   },
   "outputs": [],
   "source": [
    "#naive guess\n",
    "\n",
    "#INPUT: FK MODEL\n",
    "boo=x_values<max_tdeath\n",
    "t_values=x_values[boo].copy()*1e-3\n",
    "msr_values=y_values[boo].copy() \n",
    "msr_values-= np.min(msr_values)\n",
    "D=0.365 #cm^2/s, as observed\n",
    "Gamma = 100. # ~ 197/2 #ms #for predicting alinear only\n",
    "\n",
    "#INPUT: LR MODEL\n",
    "boo=x_values<max_tdeath\n",
    "t_values=x_values[boo].copy()*1e-3\n",
    "msr_values=y_values[boo].copy()\n",
    "msr_values-= np.min(msr_values)\n",
    "D=0.58 #cm^2/s, as observed\n",
    "Gamma = 20. # ~ 40/2 #ms #for predicting alinear only\n",
    "\n",
    "dict_output = comp_ols_simple(t_values,msr_values)\n",
    "# print_dict(dict_output)\n",
    "#reasonable guess for a0\n",
    "a0 = dict_output['m']/4 #- 2*D\n",
    "a1 = float(a0)*4\n",
    "#reasonable guess for phi_f\n",
    "phase=-np.pi/2\n",
    "period=80 #ms\n",
    "\n",
    "dict_output = comp_ols_simple(t_values,msr_values)\n",
    "# print_dict(dict_output)\n",
    "#reasonable initial guess for a0\n",
    "a0 = dict_output['m']/4 #- 2*D\n",
    "a1 = float(a0)*4\n",
    "#reasonable guess for phi_f\n",
    "phase=-np.pi/2\n",
    "period=90 #ms\n",
    "\n",
    "#simulated annealing of all variables\n",
    "x0=a0,a1,period,phase\n",
    "args=t_values,msr_values,D\n",
    "square_error=comp_square_error_msr(x0,*args)\n",
    "rmse=np.sqrt(square_error/t_values.shape[0])\n",
    "print(f\"baseline loss: {rmse=:.4f} cm^2 (from {a0=:.4f}, {a1=:.4f}, {period=:.4f}, {phase=:.4f})\")\n",
    "\n",
    "#visualize the fitty\n",
    "figsize=(3,3)\n",
    "fontsize=10\n",
    "fig,ax=plt.subplots(figsize=figsize)\n",
    "period_of_oscillation=period*1e-3 #seconds\n",
    "omega=2*np.pi/period_of_oscillation\n",
    "msr_values_affoscillatory=4*((2*D+a0)*t_values+(a1/omega)*(np.sin(omega*t_values+phase)-np.sin(phase)))\n",
    "plt.plot(t_values,msr_values,label='full model')\n",
    "plt.plot(t_values,msr_values_affoscillatory,label='initial guess')\n",
    "# plt.plot(t_values,msr_values_affoscillatory,label='fit to full')\n",
    "format_plot(ax=plt.gca(),xlabel=r\"t' (s)\",ylabel=r\"MSR (cm$^2$)\",fontsize=fontsize)\n",
    "plt.legend(fontsize=fontsize)\n",
    "plt.show()"
   ]
  }
 ],
 "metadata": {
  "hide_input": false,
  "kernelspec": {
   "display_name": "Python 3 (ipykernel)",
   "language": "python",
   "name": "python3"
  },
  "language_info": {
   "codemirror_mode": {
    "name": "ipython",
    "version": 3
   },
   "file_extension": ".py",
   "mimetype": "text/x-python",
   "name": "python",
   "nbconvert_exporter": "python",
   "pygments_lexer": "ipython3",
   "version": "3.9.13"
  },
  "latex_envs": {
   "LaTeX_envs_menu_present": true,
   "autoclose": true,
   "autocomplete": false,
   "bibliofile": "biblio.bib",
   "cite_by": "apalike",
   "current_citInitial": 1,
   "eqLabelWithNumbers": false,
   "eqNumInitial": 1,
   "hotkeys": {
    "equation": "Ctrl-E",
    "itemize": "Ctrl-I"
   },
   "labels_anchors": false,
   "latex_user_defs": false,
   "report_style_numbering": false,
   "user_envs_cfg": false
  },
  "nbTranslate": {
   "displayLangs": [
    "*"
   ],
   "hotkey": "alt-t",
   "langInMainMenu": true,
   "sourceLang": "en",
   "targetLang": "fr",
   "useGoogleTranslate": true
  },
  "toc": {
   "base_numbering": 1,
   "nav_menu": {},
   "number_sections": true,
   "sideBar": true,
   "skip_h1_title": false,
   "title_cell": "Table of Contents",
   "title_sidebar": "Contents",
   "toc_cell": false,
   "toc_position": {},
   "toc_section_display": true,
   "toc_window_display": false
  },
  "varInspector": {
   "cols": {
    "lenName": 16,
    "lenType": 16,
    "lenVar": 40
   },
   "kernels_config": {
    "python": {
     "delete_cmd_postfix": "",
     "delete_cmd_prefix": "del ",
     "library": "var_list.py",
     "varRefreshCmd": "print(var_dic_list())"
    },
    "r": {
     "delete_cmd_postfix": ") ",
     "delete_cmd_prefix": "rm(",
     "library": "var_list.r",
     "varRefreshCmd": "cat(var_dic_list()) "
    }
   },
   "types_to_exclude": [
    "module",
    "function",
    "builtin_function_or_method",
    "instance",
    "_Feature"
   ],
   "window_display": false
  }
 },
 "nbformat": 4,
 "nbformat_minor": 5
}
