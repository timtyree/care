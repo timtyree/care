{
 "cells": [
  {
   "cell_type": "markdown",
   "id": "048258cb",
   "metadata": {},
   "source": [
    "# fitting annihilation msr timeseries\n",
    "Tim Tyree<br>\n",
    "7.5.2022"
   ]
  },
  {
   "cell_type": "code",
   "execution_count": 2,
   "id": "7249626d",
   "metadata": {
    "ExecuteTime": {
     "end_time": "2022-07-06T19:33:11.607583Z",
     "start_time": "2022-07-06T19:33:08.957418Z"
    }
   },
   "outputs": [],
   "source": [
    "from IPython.display import clear_output\n",
    "clear_output(wait=True)\n",
    "\n",
    "import sys,os\n",
    "og_stdout=sys.stdout\n",
    "from lib.my_initialization import *\n",
    "\n",
    "os.chdir(nb_dir)\n",
    "from lib import *\n",
    "\n",
    "# import cupy, cudf\n",
    "# from lib.rapids_func import *\n",
    "\n",
    "import seaborn as sns\n",
    "import matplotlib.ticker as mtick\n",
    "\n",
    "import warnings\n",
    "warnings.simplefilter(\"ignore\", UserWarning)\n",
    "%load_ext autoreload\n",
    "%autoreload 2"
   ]
  },
  {
   "cell_type": "code",
   "execution_count": 11,
   "id": "43aadfdf",
   "metadata": {
    "ExecuteTime": {
     "end_time": "2022-07-06T19:33:46.292058Z",
     "start_time": "2022-07-06T19:33:46.257529Z"
    }
   },
   "outputs": [],
   "source": [
    "#reset matplotlib settings\n",
    "import matplotlib as mpl\n",
    "sns.reset_orig()\n",
    "mpl.rc_file_defaults()"
   ]
  },
  {
   "cell_type": "markdown",
   "id": "1261a81a",
   "metadata": {},
   "source": [
    "# define module"
   ]
  },
  {
   "cell_type": "code",
   "execution_count": null,
   "id": "d5e417a6",
   "metadata": {},
   "outputs": [],
   "source": []
  },
  {
   "cell_type": "markdown",
   "id": "7b53ca3c",
   "metadata": {},
   "source": [
    "# load data"
   ]
  },
  {
   "cell_type": "code",
   "execution_count": 57,
   "id": "99b84bb4",
   "metadata": {
    "ExecuteTime": {
     "end_time": "2022-07-06T19:44:05.818142Z",
     "start_time": "2022-07-06T19:44:05.682677Z"
    }
   },
   "outputs": [
    {
     "name": "stdout",
     "output_type": "stream",
     "text": [
      "loaded range timeseries from 121 termination events\n"
     ]
    },
    {
     "data": {
      "text/html": [
       "<div>\n",
       "<style scoped>\n",
       "    .dataframe tbody tr th:only-of-type {\n",
       "        vertical-align: middle;\n",
       "    }\n",
       "\n",
       "    .dataframe tbody tr th {\n",
       "        vertical-align: top;\n",
       "    }\n",
       "\n",
       "    .dataframe thead th {\n",
       "        text-align: right;\n",
       "    }\n",
       "</style>\n",
       "<table border=\"1\" class=\"dataframe\">\n",
       "  <thead>\n",
       "    <tr style=\"text-align: right;\">\n",
       "      <th></th>\n",
       "      <th>annihilation_index</th>\n",
       "      <th>R</th>\n",
       "      <th>tdeath</th>\n",
       "      <th>t</th>\n",
       "      <th>n</th>\n",
       "      <th>x</th>\n",
       "      <th>y</th>\n",
       "      <th>theta</th>\n",
       "      <th>grad_ux</th>\n",
       "      <th>grad_uy</th>\n",
       "      <th>grad_vx</th>\n",
       "      <th>grad_vy</th>\n",
       "      <th>v</th>\n",
       "      <th>f</th>\n",
       "      <th>s</th>\n",
       "      <th>dvdt</th>\n",
       "      <th>dfdt</th>\n",
       "      <th>dsdt</th>\n",
       "      <th>frame</th>\n",
       "      <th>trial_num</th>\n",
       "    </tr>\n",
       "  </thead>\n",
       "  <tbody>\n",
       "    <tr>\n",
       "      <th>128402</th>\n",
       "      <td>0</td>\n",
       "      <td>0.164647</td>\n",
       "      <td>0.0</td>\n",
       "      <td>6337.6</td>\n",
       "      <td>2</td>\n",
       "      <td>139.25086</td>\n",
       "      <td>14.67538</td>\n",
       "      <td>-9999.0</td>\n",
       "      <td>1.27159</td>\n",
       "      <td>-1.60766</td>\n",
       "      <td>1.18549</td>\n",
       "      <td>-0.72447</td>\n",
       "      <td>0.33009</td>\n",
       "      <td>0.08278</td>\n",
       "      <td>0.82304</td>\n",
       "      <td>0.00150</td>\n",
       "      <td>-0.00635</td>\n",
       "      <td>-0.00103</td>\n",
       "      <td>3962</td>\n",
       "      <td>0</td>\n",
       "    </tr>\n",
       "    <tr>\n",
       "      <th>128394</th>\n",
       "      <td>0</td>\n",
       "      <td>0.301292</td>\n",
       "      <td>1.6</td>\n",
       "      <td>6336.0</td>\n",
       "      <td>2</td>\n",
       "      <td>136.74600</td>\n",
       "      <td>13.23007</td>\n",
       "      <td>-9999.0</td>\n",
       "      <td>1.41938</td>\n",
       "      <td>-3.39372</td>\n",
       "      <td>1.15328</td>\n",
       "      <td>-0.52273</td>\n",
       "      <td>0.48249</td>\n",
       "      <td>0.08807</td>\n",
       "      <td>0.81961</td>\n",
       "      <td>-0.00233</td>\n",
       "      <td>-0.00676</td>\n",
       "      <td>-0.00102</td>\n",
       "      <td>3961</td>\n",
       "      <td>0</td>\n",
       "    </tr>\n",
       "    <tr>\n",
       "      <th>128386</th>\n",
       "      <td>0</td>\n",
       "      <td>0.371175</td>\n",
       "      <td>3.2</td>\n",
       "      <td>6334.4</td>\n",
       "      <td>2</td>\n",
       "      <td>135.25555</td>\n",
       "      <td>12.63090</td>\n",
       "      <td>-9999.0</td>\n",
       "      <td>1.43916</td>\n",
       "      <td>-3.73072</td>\n",
       "      <td>1.13168</td>\n",
       "      <td>-0.37129</td>\n",
       "      <td>0.34319</td>\n",
       "      <td>0.07559</td>\n",
       "      <td>0.81698</td>\n",
       "      <td>0.00154</td>\n",
       "      <td>-0.00580</td>\n",
       "      <td>-0.00102</td>\n",
       "      <td>3960</td>\n",
       "      <td>0</td>\n",
       "    </tr>\n",
       "    <tr>\n",
       "      <th>128378</th>\n",
       "      <td>0</td>\n",
       "      <td>0.420460</td>\n",
       "      <td>4.8</td>\n",
       "      <td>6332.8</td>\n",
       "      <td>2</td>\n",
       "      <td>134.05747</td>\n",
       "      <td>12.22597</td>\n",
       "      <td>-9999.0</td>\n",
       "      <td>1.48733</td>\n",
       "      <td>-4.34983</td>\n",
       "      <td>1.12795</td>\n",
       "      <td>-0.32156</td>\n",
       "      <td>0.37359</td>\n",
       "      <td>0.07828</td>\n",
       "      <td>0.81444</td>\n",
       "      <td>0.00075</td>\n",
       "      <td>-0.00601</td>\n",
       "      <td>-0.00102</td>\n",
       "      <td>3959</td>\n",
       "      <td>0</td>\n",
       "    </tr>\n",
       "    <tr>\n",
       "      <th>128370</th>\n",
       "      <td>0</td>\n",
       "      <td>0.462285</td>\n",
       "      <td>6.4</td>\n",
       "      <td>6331.2</td>\n",
       "      <td>2</td>\n",
       "      <td>132.97142</td>\n",
       "      <td>11.90594</td>\n",
       "      <td>-9999.0</td>\n",
       "      <td>1.71007</td>\n",
       "      <td>-7.03180</td>\n",
       "      <td>1.12826</td>\n",
       "      <td>-0.42371</td>\n",
       "      <td>0.40939</td>\n",
       "      <td>0.08221</td>\n",
       "      <td>0.81258</td>\n",
       "      <td>-0.00030</td>\n",
       "      <td>-0.00631</td>\n",
       "      <td>-0.00102</td>\n",
       "      <td>3958</td>\n",
       "      <td>0</td>\n",
       "    </tr>\n",
       "  </tbody>\n",
       "</table>\n",
       "</div>"
      ],
      "text/plain": [
       "        annihilation_index         R  tdeath       t  n          x         y  \\\n",
       "128402                   0  0.164647     0.0  6337.6  2  139.25086  14.67538   \n",
       "128394                   0  0.301292     1.6  6336.0  2  136.74600  13.23007   \n",
       "128386                   0  0.371175     3.2  6334.4  2  135.25555  12.63090   \n",
       "128378                   0  0.420460     4.8  6332.8  2  134.05747  12.22597   \n",
       "128370                   0  0.462285     6.4  6331.2  2  132.97142  11.90594   \n",
       "\n",
       "         theta  grad_ux  grad_uy  grad_vx  grad_vy        v        f        s  \\\n",
       "128402 -9999.0  1.27159 -1.60766  1.18549 -0.72447  0.33009  0.08278  0.82304   \n",
       "128394 -9999.0  1.41938 -3.39372  1.15328 -0.52273  0.48249  0.08807  0.81961   \n",
       "128386 -9999.0  1.43916 -3.73072  1.13168 -0.37129  0.34319  0.07559  0.81698   \n",
       "128378 -9999.0  1.48733 -4.34983  1.12795 -0.32156  0.37359  0.07828  0.81444   \n",
       "128370 -9999.0  1.71007 -7.03180  1.12826 -0.42371  0.40939  0.08221  0.81258   \n",
       "\n",
       "           dvdt     dfdt     dsdt  frame  trial_num  \n",
       "128402  0.00150 -0.00635 -0.00103   3962          0  \n",
       "128394 -0.00233 -0.00676 -0.00102   3961          0  \n",
       "128386  0.00154 -0.00580 -0.00102   3960          0  \n",
       "128378  0.00075 -0.00601 -0.00102   3959          0  \n",
       "128370 -0.00030 -0.00631 -0.00102   3958          0  "
      ]
     },
     "execution_count": 57,
     "metadata": {},
     "output_type": "execute_result"
    }
   ],
   "source": [
    "#load spiral tip range time series from cache\n",
    "#######################\n",
    "# Luo-Rudy\n",
    "#######################\n",
    "#WJ's data for LR model (200x200)\n",
    "range_data_dir='/home/timothytyree/Documents/GitHub/care/notebooks/Data/from_wjr/tippos_per_001_annihilation_range_timeseries.pkl'\n",
    "# #my data for LR model (200x200) diffCoeff=0.001\n",
    "range_data_dir='/home/timothytyree/Documents/GitHub/care/notebooks/Data/initial-conditions-suite-3-LR/ds_5_param_qu_tmax_30_Ko_5.4_diffCoef_0.001/annihilation_range_timeseries.pkl'\n",
    "#my data for LR model (200x200) diffCoeff=0.0005\n",
    "range_data_dir='/home/timothytyree/Documents/GitHub/care/notebooks/Data/initial-conditions-suite-3-LR/param_qu_tmax_30_Ko_5.4_diffCoef_0.0005_dt_0.5/annihilation_range_timeseries.pkl'\n",
    "\n",
    "#######################\n",
    "# Fenton-Karma\n",
    "#######################\n",
    "\n",
    "# range_data_dir='/home/timothytyree/Documents/GitHub/care/notebooks/Data/initial-conditions-fk-200x200/param_set_8_ds_5.0_tmax_10_diffCoef_0.0005/annihilation_range_timeseries.pkl'\n",
    "range_data_dir='/home/timothytyree/Documents/GitHub/care/notebooks/Data/initial-conditions-fk-200x200/param_set_8_ds_5.0_tmax_30_diffCoef_0.001_dt_1/annihilation_range_timeseries.pkl'\n",
    "range_data_dir='/home/timothytyree/Documents/GitHub/care/notebooks/Data/initial-conditions-fk-200x200/param_set_8_ds_5.0_tmax_10_diffCoef_0.0005/annihilation_range_timeseries.pkl'\n",
    "# range_data_dir='/home/timothytyree/Documents/GitHub/care/notebooks/Data/initial-conditions-fk-200x200/param_set_8_ds_5.0_tmax_30_diffCoef_0.001_dt_0.025/annihilation_range_timeseries.pkl'\n",
    "\n",
    "\n",
    "\n",
    "data_lst=load_from_pickle(range_data_dir)\n",
    "print(f\"loaded range timeseries from {len(data_lst)} termination events\")\n",
    "df=pd.concat(data_lst)\n",
    "del data_lst\n",
    "df.head()"
   ]
  },
  {
   "cell_type": "markdown",
   "id": "db651ad7",
   "metadata": {},
   "source": [
    "# TODO: compute msr"
   ]
  },
  {
   "cell_type": "code",
   "execution_count": 58,
   "id": "e1b8ea87",
   "metadata": {
    "ExecuteTime": {
     "end_time": "2022-07-06T19:44:06.725677Z",
     "start_time": "2022-07-06T19:44:06.706988Z"
    }
   },
   "outputs": [
    {
     "name": "stdout",
     "output_type": "stream",
     "text": [
      "tdeath ranges from 0.0 to 1868.8 ms\n",
      "R^2 ranges from 7.156250000075447e-11 to 12.330866687465315 cm^2\n"
     ]
    }
   ],
   "source": [
    "x_values_in=df['tdeath'].values\n",
    "y_values_in=df['R'].values**2\n",
    "print(f\"tdeath ranges from {np.min(x_values_in)} to {np.max(x_values_in)} ms\")\n",
    "print(f\"R^2 ranges from {np.min(y_values_in)} to {np.max(y_values_in)} cm^2\")"
   ]
  },
  {
   "cell_type": "code",
   "execution_count": 59,
   "id": "93286253",
   "metadata": {
    "ExecuteTime": {
     "end_time": "2022-07-06T19:44:07.143357Z",
     "start_time": "2022-07-06T19:44:07.119527Z"
    }
   },
   "outputs": [],
   "source": [
    "assert not np.isnan(x_values_in).any() \n",
    "assert not np.isnan(y_values_in).any()"
   ]
  },
  {
   "cell_type": "code",
   "execution_count": 60,
   "id": "79c506e0",
   "metadata": {
    "ExecuteTime": {
     "end_time": "2022-07-06T19:44:33.235894Z",
     "start_time": "2022-07-06T19:44:07.667979Z"
    }
   },
   "outputs": [
    {
     "data": {
      "text/html": [
       "<div>\n",
       "<style scoped>\n",
       "    .dataframe tbody tr th:only-of-type {\n",
       "        vertical-align: middle;\n",
       "    }\n",
       "\n",
       "    .dataframe tbody tr th {\n",
       "        vertical-align: top;\n",
       "    }\n",
       "\n",
       "    .dataframe thead th {\n",
       "        text-align: right;\n",
       "    }\n",
       "</style>\n",
       "<table border=\"1\" class=\"dataframe\">\n",
       "  <thead>\n",
       "    <tr style=\"text-align: right;\">\n",
       "      <th></th>\n",
       "      <th>tdeath_avg</th>\n",
       "      <th>MSR</th>\n",
       "      <th>Delta_tdeath_avg</th>\n",
       "      <th>Delta_MSR</th>\n",
       "      <th>p_tdeath_avg</th>\n",
       "      <th>p_MSR</th>\n",
       "      <th>counts</th>\n",
       "    </tr>\n",
       "  </thead>\n",
       "  <tbody>\n",
       "    <tr>\n",
       "      <th>0</th>\n",
       "      <td>2.302685</td>\n",
       "      <td>0.101907</td>\n",
       "      <td>0.017385</td>\n",
       "      <td>0.001099</td>\n",
       "      <td>0.596408</td>\n",
       "      <td>0.020035</td>\n",
       "      <td>37914</td>\n",
       "    </tr>\n",
       "    <tr>\n",
       "      <th>1</th>\n",
       "      <td>7.977174</td>\n",
       "      <td>0.215369</td>\n",
       "      <td>0.015636</td>\n",
       "      <td>0.002290</td>\n",
       "      <td>0.062441</td>\n",
       "      <td>0.917820</td>\n",
       "      <td>25445</td>\n",
       "    </tr>\n",
       "    <tr>\n",
       "      <th>2</th>\n",
       "      <td>12.780152</td>\n",
       "      <td>0.273737</td>\n",
       "      <td>0.016777</td>\n",
       "      <td>0.002968</td>\n",
       "      <td>0.961914</td>\n",
       "      <td>0.013977</td>\n",
       "      <td>24022</td>\n",
       "    </tr>\n",
       "    <tr>\n",
       "      <th>3</th>\n",
       "      <td>17.580277</td>\n",
       "      <td>0.324734</td>\n",
       "      <td>0.016321</td>\n",
       "      <td>0.003689</td>\n",
       "      <td>0.360833</td>\n",
       "      <td>0.293810</td>\n",
       "      <td>22715</td>\n",
       "    </tr>\n",
       "    <tr>\n",
       "      <th>4</th>\n",
       "      <td>22.377199</td>\n",
       "      <td>0.371408</td>\n",
       "      <td>0.018235</td>\n",
       "      <td>0.004455</td>\n",
       "      <td>0.473704</td>\n",
       "      <td>0.636188</td>\n",
       "      <td>21403</td>\n",
       "    </tr>\n",
       "  </tbody>\n",
       "</table>\n",
       "</div>"
      ],
      "text/plain": [
       "   tdeath_avg       MSR  Delta_tdeath_avg  Delta_MSR  p_tdeath_avg     p_MSR  \\\n",
       "0    2.302685  0.101907          0.017385   0.001099      0.596408  0.020035   \n",
       "1    7.977174  0.215369          0.015636   0.002290      0.062441  0.917820   \n",
       "2   12.780152  0.273737          0.016777   0.002968      0.961914  0.013977   \n",
       "3   17.580277  0.324734          0.016321   0.003689      0.360833  0.293810   \n",
       "4   22.377199  0.371408          0.018235   0.004455      0.473704  0.636188   \n",
       "\n",
       "   counts  \n",
       "0   37914  \n",
       "1   25445  \n",
       "2   24022  \n",
       "3   22715  \n",
       "4   21403  "
      ]
     },
     "execution_count": 60,
     "metadata": {},
     "output_type": "execute_result"
    }
   ],
   "source": [
    "#compute bootstrap \n",
    "# bins=np.arange(0,450,1)\n",
    "# bins=np.arange(0,1800,5)\n",
    "bins=np.arange(0,2800,5)\n",
    "df_bootstrap=bin_and_bootstrap_xy_values_parallel(x_values_in,\n",
    "                               y_values_in,\n",
    "                               xlabel='tdeath_avg',\n",
    "                               ylabel='MSR',\n",
    "                               bins=bins,\n",
    "                               min_numobs=10,\n",
    "                               num_bootstrap_samples=1000,\n",
    "                               npartitions=10,\n",
    "                               use_test=False)\n",
    "df_bootstrap.head()"
   ]
  },
  {
   "cell_type": "code",
   "execution_count": 61,
   "id": "bcc82139",
   "metadata": {
    "ExecuteTime": {
     "end_time": "2022-07-06T19:44:33.362001Z",
     "start_time": "2022-07-06T19:44:33.325489Z"
    }
   },
   "outputs": [
    {
     "data": {
      "text/html": [
       "<div>\n",
       "<style scoped>\n",
       "    .dataframe tbody tr th:only-of-type {\n",
       "        vertical-align: middle;\n",
       "    }\n",
       "\n",
       "    .dataframe tbody tr th {\n",
       "        vertical-align: top;\n",
       "    }\n",
       "\n",
       "    .dataframe thead th {\n",
       "        text-align: right;\n",
       "    }\n",
       "</style>\n",
       "<table border=\"1\" class=\"dataframe\">\n",
       "  <thead>\n",
       "    <tr style=\"text-align: right;\">\n",
       "      <th></th>\n",
       "      <th>tdeath_avg</th>\n",
       "      <th>MSR</th>\n",
       "      <th>Delta_tdeath_avg</th>\n",
       "      <th>Delta_MSR</th>\n",
       "      <th>p_tdeath_avg</th>\n",
       "      <th>p_MSR</th>\n",
       "      <th>counts</th>\n",
       "    </tr>\n",
       "  </thead>\n",
       "  <tbody>\n",
       "    <tr>\n",
       "      <th>311</th>\n",
       "      <td>1556.800000</td>\n",
       "      <td>3.774760</td>\n",
       "      <td>0.747381</td>\n",
       "      <td>0.649430</td>\n",
       "      <td>0.604701</td>\n",
       "      <td>0.801924</td>\n",
       "      <td>12</td>\n",
       "    </tr>\n",
       "    <tr>\n",
       "      <th>312</th>\n",
       "      <td>1562.215385</td>\n",
       "      <td>3.781276</td>\n",
       "      <td>0.994753</td>\n",
       "      <td>0.650068</td>\n",
       "      <td>0.587286</td>\n",
       "      <td>0.005006</td>\n",
       "      <td>13</td>\n",
       "    </tr>\n",
       "    <tr>\n",
       "      <th>313</th>\n",
       "      <td>1602.400000</td>\n",
       "      <td>5.233339</td>\n",
       "      <td>1.001279</td>\n",
       "      <td>0.206936</td>\n",
       "      <td>0.330677</td>\n",
       "      <td>0.824348</td>\n",
       "      <td>12</td>\n",
       "    </tr>\n",
       "    <tr>\n",
       "      <th>314</th>\n",
       "      <td>1642.400000</td>\n",
       "      <td>5.249468</td>\n",
       "      <td>0.981707</td>\n",
       "      <td>0.954804</td>\n",
       "      <td>0.603401</td>\n",
       "      <td>0.644642</td>\n",
       "      <td>12</td>\n",
       "    </tr>\n",
       "    <tr>\n",
       "      <th>315</th>\n",
       "      <td>1682.400000</td>\n",
       "      <td>5.076051</td>\n",
       "      <td>1.023012</td>\n",
       "      <td>0.878101</td>\n",
       "      <td>0.143062</td>\n",
       "      <td>0.027473</td>\n",
       "      <td>12</td>\n",
       "    </tr>\n",
       "  </tbody>\n",
       "</table>\n",
       "</div>"
      ],
      "text/plain": [
       "      tdeath_avg       MSR  Delta_tdeath_avg  Delta_MSR  p_tdeath_avg  \\\n",
       "311  1556.800000  3.774760          0.747381   0.649430      0.604701   \n",
       "312  1562.215385  3.781276          0.994753   0.650068      0.587286   \n",
       "313  1602.400000  5.233339          1.001279   0.206936      0.330677   \n",
       "314  1642.400000  5.249468          0.981707   0.954804      0.603401   \n",
       "315  1682.400000  5.076051          1.023012   0.878101      0.143062   \n",
       "\n",
       "        p_MSR  counts  \n",
       "311  0.801924      12  \n",
       "312  0.005006      13  \n",
       "313  0.824348      12  \n",
       "314  0.644642      12  \n",
       "315  0.027473      12  "
      ]
     },
     "execution_count": 61,
     "metadata": {},
     "output_type": "execute_result"
    }
   ],
   "source": [
    "df_bootstrap.tail()"
   ]
  },
  {
   "cell_type": "code",
   "execution_count": 62,
   "id": "6feea9bc",
   "metadata": {
    "ExecuteTime": {
     "end_time": "2022-07-06T19:44:33.460836Z",
     "start_time": "2022-07-06T19:44:33.441688Z"
    }
   },
   "outputs": [
    {
     "data": {
      "text/plain": [
       "((316,), (316,), (316,))"
      ]
     },
     "execution_count": 62,
     "metadata": {},
     "output_type": "execute_result"
    }
   ],
   "source": [
    "x_values=df_bootstrap['tdeath_avg'].values\n",
    "y_values=df_bootstrap['MSR'].values\n",
    "yerr_values=df_bootstrap['Delta_MSR'].values\n",
    "x_values.shape,y_values.shape,yerr_values.shape"
   ]
  },
  {
   "cell_type": "code",
   "execution_count": 63,
   "id": "17fe57c4",
   "metadata": {
    "ExecuteTime": {
     "end_time": "2022-07-06T19:44:33.703987Z",
     "start_time": "2022-07-06T19:44:33.542192Z"
    }
   },
   "outputs": [
    {
     "name": "stdout",
     "output_type": "stream",
     "text": [
      "Does this appear to intersect at zero?\n"
     ]
    },
    {
     "data": {
      "image/png": "[encoded data removed]",
      "text/plain": [
       "<Figure size 640x480 with 1 Axes>"
      ]
     },
     "metadata": {},
     "output_type": "display_data"
    }
   ],
   "source": [
    "print(f\"Does this appear to intersect at zero?\")\n",
    "c='C0'\n",
    "plt.plot(x_values,y_values,lw=2,alpha=0.8,c=c)\n",
    "plt.fill_between(x_values,y_values-yerr_values,y_values+yerr_values,lw=2,alpha=0.4,color=c)\n",
    "format_plot(ax=plt.gca(),xlabel=r'$t_f-t$ (ms)',ylabel=r'MSR (cm$^2$)')\n",
    "# plt.xlim([0,180])\n",
    "# plt.ylim([0,3.1])\n",
    "plt.xlim([0,15])\n",
    "plt.ylim([-.1,1])\n",
    "plt.show()"
   ]
  },
  {
   "cell_type": "code",
   "execution_count": 64,
   "id": "aa4bbaba",
   "metadata": {
    "ExecuteTime": {
     "end_time": "2022-07-06T19:44:33.902501Z",
     "start_time": "2022-07-06T19:44:33.791951Z"
    }
   },
   "outputs": [
    {
     "data": {
      "image/png": "[encoded data removed]",
      "text/plain": [
       "<Figure size 400x420 with 1 Axes>"
      ]
     },
     "metadata": {},
     "output_type": "display_data"
    }
   ],
   "source": [
    "#plot expected\n",
    "fig,ax=plt.subplots(figsize=(4,4.2))\n",
    "# ax.plot(x_values,4*9.5*1e-3*x_values,'--',lw=2,alpha=0.8,c='C1')\n",
    "# ax.plot(x_values,4*1.8*1e-3*x_values,'--',lw=2,alpha=0.8,c='C0')\n",
    "#plot data\n",
    "ax.plot(x_values,y_values,lw=2,alpha=0.8,c=c)\n",
    "ax.fill_between(x_values,y_values-yerr_values,y_values+yerr_values,lw=2,alpha=0.4,color=c)\n",
    "format_plot(ax=ax,xlabel=r'$t_f-t$ (ms)',ylabel=r'MSR (cm$^2$)')\n",
    "ax.set_xlim([0,200])\n",
    "ax.set_ylim([0,8])\n",
    "plt.show()"
   ]
  },
  {
   "cell_type": "code",
   "execution_count": 65,
   "id": "ed0f1909",
   "metadata": {
    "ExecuteTime": {
     "end_time": "2022-07-06T19:44:33.997759Z",
     "start_time": "2022-07-06T19:44:33.982418Z"
    }
   },
   "outputs": [],
   "source": [
    "# range_data_dir"
   ]
  },
  {
   "cell_type": "code",
   "execution_count": 66,
   "id": "9db8947f",
   "metadata": {
    "ExecuteTime": {
     "end_time": "2022-07-06T19:44:34.215050Z",
     "start_time": "2022-07-06T19:44:34.073932Z"
    }
   },
   "outputs": [
    {
     "data": {
      "image/png": "[encoded data removed]",
      "text/plain": [
       "<Figure size 800x420 with 1 Axes>"
      ]
     },
     "metadata": {},
     "output_type": "display_data"
    }
   ],
   "source": [
    "#plot expected\n",
    "fig,ax=plt.subplots(figsize=(8,4.2))\n",
    "# ax.plot(x_values,4*9.5*1e-3*x_values,'--',lw=2,alpha=0.8,c='C1')\n",
    "# ax.plot(x_values,4*1.8*1e-3*x_values,'--',lw=2,alpha=0.8,c='C0')\n",
    "#plot data\n",
    "ax.plot(x_values,y_values,lw=2,alpha=0.8,c=c)\n",
    "ax.fill_between(x_values,y_values-yerr_values,y_values+yerr_values,lw=2,alpha=0.4,color=c)\n",
    "format_plot(ax=ax,xlabel=r'$t_f-t$ (ms)',ylabel=r'MSR (cm$^2$)')\n",
    "ax.set_xlim([0,2000])\n",
    "ax.set_ylim([0,8])\n",
    "plt.show()"
   ]
  },
  {
   "cell_type": "code",
   "execution_count": 67,
   "id": "0b5a61ab",
   "metadata": {
    "ExecuteTime": {
     "end_time": "2022-07-06T19:44:34.306442Z",
     "start_time": "2022-07-06T19:44:34.287578Z"
    }
   },
   "outputs": [
    {
     "name": "stdout",
     "output_type": "stream",
     "text": [
      "msr_dir_bootstrap='/home/timothytyree/Documents/GitHub/care/notebooks/Data/initial-conditions-fk-200x200/param_set_8_ds_5.0_tmax_10_diffCoef_0.0005/annihilation_msr.csv'\n"
     ]
    }
   ],
   "source": [
    "#save msr as .csv\n",
    "msr_dir_bootstrap=range_data_dir.replace('annihilation_range_timeseries.pkl','annihilation_msr.csv')\n",
    "df_bootstrap.to_csv(msr_dir_bootstrap,index=False)\n",
    "print(f\"{msr_dir_bootstrap=}\")"
   ]
  },
  {
   "cell_type": "code",
   "execution_count": 49,
   "id": "4dffd4c2",
   "metadata": {
    "ExecuteTime": {
     "end_time": "2022-07-06T05:12:55.911690Z",
     "start_time": "2022-07-06T05:12:55.889913Z"
    }
   },
   "outputs": [],
   "source": [
    "#######################\n",
    "# Luo-Rudy\n",
    "#######################\n",
    "#WJ's data for LR model (200x200)\n",
    "# msr_dir_bootstrap='/home/timothytyree/Documents/GitHub/care/notebooks/Data/from_wjr/tippos_per_001_annihilation_msr.csv'\n",
    "# #my data for LR model (200x200) diffCoeff=0.001\n",
    "# msr_dir_bootstrap='/home/timothytyree/Documents/GitHub/care/notebooks/Data/initial-conditions-suite-3-LR/ds_5_param_qu_tmax_30_Ko_5.4_diffCoef_0.001/annihilation_msr.csv'\n",
    "# #my data for LR model (200x200) diffCoeff=0.0005\n",
    "# msr_dir_bootstrap='/home/timothytyree/Documents/GitHub/care/notebooks/Data/initial-conditions-suite-3-LR/param_qu_tmax_30_Ko_5.4_diffCoef_0.0005_dt_0.5/annihilation_msr.csv'\n"
   ]
  },
  {
   "cell_type": "code",
   "execution_count": 50,
   "id": "c0368a36",
   "metadata": {
    "ExecuteTime": {
     "end_time": "2022-07-06T05:13:26.370764Z",
     "start_time": "2022-07-06T05:12:56.960584Z"
    }
   },
   "outputs": [
    {
     "name": "stdout",
     "output_type": "stream",
     "text": [
      "File: /home/timothytyree/Documents/GitHub/care/notebooks/Data/initial-conditions-fk-200x200/param_set_8_ds_5.0_tmax_10_diffCoef_0.0005/Log/ic200x200.0.1_log.csv\n"
     ]
    },
    {
     "data": {
      "text/plain": [
       "'/home/timothytyree/Documents/GitHub/care/notebooks/Data/initial-conditions-fk-200x200/param_set_8_ds_5.0_tmax_10_diffCoef_0.0005/Log/ic200x200.0.1_log.csv'"
      ]
     },
     "execution_count": 50,
     "metadata": {},
     "output_type": "execute_result"
    }
   ],
   "source": [
    "search_for_file()"
   ]
  },
  {
   "cell_type": "code",
   "execution_count": 2,
   "id": "82dc9c8a",
   "metadata": {
    "ExecuteTime": {
     "end_time": "2022-07-06T03:24:50.349702Z",
     "start_time": "2022-07-06T03:24:50.326054Z"
    }
   },
   "outputs": [],
   "source": [
    "#TODO: fit msr to analytical model solution to the affine oscillatory model, as before, except with period fixed\n",
    "period=140 #ms"
   ]
  },
  {
   "cell_type": "code",
   "execution_count": 52,
   "id": "c2abd399",
   "metadata": {
    "ExecuteTime": {
     "end_time": "2022-07-06T05:28:05.885796Z",
     "start_time": "2022-07-06T05:28:05.846268Z"
    }
   },
   "outputs": [
    {
     "name": "stdout",
     "output_type": "stream",
     "text": [
      "found 324 files comparable to /home/timothytyree/Documents/GitHub/care/notebooks/Data/initial-conditions-fk-200x200/param_set_8_ds_5.0_tmax_10_diffCoef_0.0005/Log/ic200x200.0.0_log.csv\n"
     ]
    }
   ],
   "source": [
    "input_dir='/home/timothytyree/Documents/GitHub/care/notebooks/Data/initial-conditions-fk-200x200/param_set_8_ds_5.0_tmax_10_diffCoef_0.0005/Log/ic200x200.0.1_log.csv'\n",
    "input_folder=os.path.dirname(input_dir)\n",
    "fn_lst=[os.path.join(input_folder,x) for x in sorted(os.listdir(input_folder)) if x.find('_log.csv')!=-1]\n",
    "print(f\"found {len(fn_lst)} files comparable to {fn_lst[0]}\")\n"
   ]
  },
  {
   "cell_type": "code",
   "execution_count": null,
   "id": "26e279e5",
   "metadata": {},
   "outputs": [],
   "source": []
  }
 ],
 "metadata": {
  "kernelspec": {
   "display_name": "Python 3 (ipykernel)",
   "language": "python",
   "name": "python3"
  },
  "language_info": {
   "codemirror_mode": {
    "name": "ipython",
    "version": 3
   },
   "file_extension": ".py",
   "mimetype": "text/x-python",
   "name": "python",
   "nbconvert_exporter": "python",
   "pygments_lexer": "ipython3",
   "version": "3.9.13"
  },
  "toc": {
   "base_numbering": 1,
   "nav_menu": {},
   "number_sections": true,
   "sideBar": true,
   "skip_h1_title": false,
   "title_cell": "Table of Contents",
   "title_sidebar": "Contents",
   "toc_cell": false,
   "toc_position": {},
   "toc_section_display": true,
   "toc_window_display": false
  },
  "varInspector": {
   "cols": {
    "lenName": 16,
    "lenType": 16,
    "lenVar": 40
   },
   "kernels_config": {
    "python": {
     "delete_cmd_postfix": "",
     "delete_cmd_prefix": "del ",
     "library": "var_list.py",
     "varRefreshCmd": "print(var_dic_list())"
    },
    "r": {
     "delete_cmd_postfix": ") ",
     "delete_cmd_prefix": "rm(",
     "library": "var_list.r",
     "varRefreshCmd": "cat(var_dic_list()) "
    }
   },
   "types_to_exclude": [
    "module",
    "function",
    "builtin_function_or_method",
    "instance",
    "_Feature"
   ],
   "window_display": false
  }
 },
 "nbformat": 4,
 "nbformat_minor": 5
}
