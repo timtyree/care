{
 "cells": [
  {
   "cell_type": "markdown",
   "id": "048258cb",
   "metadata": {},
   "source": [
    "# fitting annihilation msr timeseries\n",
    "Tim Tyree<br>\n",
    "7.5.2022"
   ]
  },
  {
   "cell_type": "code",
   "execution_count": 1,
   "id": "7249626d",
   "metadata": {
    "ExecuteTime": {
     "end_time": "2022-07-06T03:23:59.368893Z",
     "start_time": "2022-07-06T03:23:54.232520Z"
    }
   },
   "outputs": [],
   "source": [
    "from IPython.display import clear_output\n",
    "clear_output(wait=True)\n",
    "\n",
    "import sys,os\n",
    "og_stdout=sys.stdout\n",
    "from lib.my_initialization import *\n",
    "\n",
    "os.chdir(nb_dir)\n",
    "from lib import *\n",
    "\n",
    "import cupy, cudf\n",
    "from lib.rapids_func import *\n",
    "\n",
    "import seaborn as sns\n",
    "import matplotlib.ticker as mtick\n",
    "\n",
    "import warnings\n",
    "warnings.simplefilter(\"ignore\", UserWarning)\n",
    "%load_ext autoreload\n",
    "%autoreload 2"
   ]
  },
  {
   "cell_type": "code",
   "execution_count": 22,
   "id": "43aadfdf",
   "metadata": {
    "ExecuteTime": {
     "end_time": "2022-07-06T04:45:04.847833Z",
     "start_time": "2022-07-06T04:45:04.824364Z"
    }
   },
   "outputs": [],
   "source": [
    "#reset matplotlib settings\n",
    "import matplotlib as mpl\n",
    "sns.reset_orig()\n",
    "mpl.rc_file_defaults()"
   ]
  },
  {
   "cell_type": "markdown",
   "id": "1261a81a",
   "metadata": {},
   "source": [
    "# define module"
   ]
  },
  {
   "cell_type": "code",
   "execution_count": null,
   "id": "d5e417a6",
   "metadata": {},
   "outputs": [],
   "source": []
  },
  {
   "cell_type": "markdown",
   "id": "7b53ca3c",
   "metadata": {},
   "source": [
    "# load data"
   ]
  },
  {
   "cell_type": "code",
   "execution_count": 37,
   "id": "99b84bb4",
   "metadata": {
    "ExecuteTime": {
     "end_time": "2022-07-06T04:56:56.069728Z",
     "start_time": "2022-07-06T04:56:55.989668Z"
    }
   },
   "outputs": [
    {
     "name": "stdout",
     "output_type": "stream",
     "text": [
      "loaded range timeseries from 152 termination events\n"
     ]
    },
    {
     "data": {
      "text/html": [
       "<div>\n",
       "<style scoped>\n",
       "    .dataframe tbody tr th:only-of-type {\n",
       "        vertical-align: middle;\n",
       "    }\n",
       "\n",
       "    .dataframe tbody tr th {\n",
       "        vertical-align: top;\n",
       "    }\n",
       "\n",
       "    .dataframe thead th {\n",
       "        text-align: right;\n",
       "    }\n",
       "</style>\n",
       "<table border=\"1\" class=\"dataframe\">\n",
       "  <thead>\n",
       "    <tr style=\"text-align: right;\">\n",
       "      <th></th>\n",
       "      <th>annihilation_index</th>\n",
       "      <th>R</th>\n",
       "      <th>tdeath</th>\n",
       "      <th>t</th>\n",
       "      <th>n</th>\n",
       "      <th>x</th>\n",
       "      <th>y</th>\n",
       "      <th>grad_ux</th>\n",
       "      <th>grad_uy</th>\n",
       "      <th>grad_vx</th>\n",
       "      <th>grad_vy</th>\n",
       "      <th>frame</th>\n",
       "      <th>trial_num</th>\n",
       "    </tr>\n",
       "  </thead>\n",
       "  <tbody>\n",
       "    <tr>\n",
       "      <th>6318</th>\n",
       "      <td>0</td>\n",
       "      <td>0.179885</td>\n",
       "      <td>0.0</td>\n",
       "      <td>2352.0</td>\n",
       "      <td>2</td>\n",
       "      <td>144.34804</td>\n",
       "      <td>82.93726</td>\n",
       "      <td>1.23411</td>\n",
       "      <td>0.58661</td>\n",
       "      <td>1.37163</td>\n",
       "      <td>0.35375</td>\n",
       "      <td>1177</td>\n",
       "      <td>0</td>\n",
       "    </tr>\n",
       "    <tr>\n",
       "      <th>6316</th>\n",
       "      <td>0</td>\n",
       "      <td>0.489484</td>\n",
       "      <td>2.0</td>\n",
       "      <td>2350.0</td>\n",
       "      <td>2</td>\n",
       "      <td>140.80990</td>\n",
       "      <td>90.10595</td>\n",
       "      <td>1.27602</td>\n",
       "      <td>0.56800</td>\n",
       "      <td>1.45780</td>\n",
       "      <td>0.29252</td>\n",
       "      <td>1176</td>\n",
       "      <td>0</td>\n",
       "    </tr>\n",
       "    <tr>\n",
       "      <th>6314</th>\n",
       "      <td>0</td>\n",
       "      <td>1.195989</td>\n",
       "      <td>4.0</td>\n",
       "      <td>2348.0</td>\n",
       "      <td>2</td>\n",
       "      <td>118.89407</td>\n",
       "      <td>108.84410</td>\n",
       "      <td>0.20201</td>\n",
       "      <td>1.87254</td>\n",
       "      <td>0.39609</td>\n",
       "      <td>1.65512</td>\n",
       "      <td>1175</td>\n",
       "      <td>0</td>\n",
       "    </tr>\n",
       "    <tr>\n",
       "      <th>6312</th>\n",
       "      <td>0</td>\n",
       "      <td>1.401146</td>\n",
       "      <td>6.0</td>\n",
       "      <td>2346.0</td>\n",
       "      <td>4</td>\n",
       "      <td>106.46835</td>\n",
       "      <td>108.31253</td>\n",
       "      <td>-0.39413</td>\n",
       "      <td>2.37612</td>\n",
       "      <td>0.14468</td>\n",
       "      <td>1.83677</td>\n",
       "      <td>1174</td>\n",
       "      <td>0</td>\n",
       "    </tr>\n",
       "    <tr>\n",
       "      <th>6310</th>\n",
       "      <td>1</td>\n",
       "      <td>0.275609</td>\n",
       "      <td>0.0</td>\n",
       "      <td>2346.0</td>\n",
       "      <td>4</td>\n",
       "      <td>76.75345</td>\n",
       "      <td>90.36230</td>\n",
       "      <td>1.62715</td>\n",
       "      <td>0.47231</td>\n",
       "      <td>4.64334</td>\n",
       "      <td>-2.10047</td>\n",
       "      <td>1174</td>\n",
       "      <td>0</td>\n",
       "    </tr>\n",
       "  </tbody>\n",
       "</table>\n",
       "</div>"
      ],
      "text/plain": [
       "      annihilation_index         R  tdeath       t  n          x          y  \\\n",
       "6318                   0  0.179885     0.0  2352.0  2  144.34804   82.93726   \n",
       "6316                   0  0.489484     2.0  2350.0  2  140.80990   90.10595   \n",
       "6314                   0  1.195989     4.0  2348.0  2  118.89407  108.84410   \n",
       "6312                   0  1.401146     6.0  2346.0  4  106.46835  108.31253   \n",
       "6310                   1  0.275609     0.0  2346.0  4   76.75345   90.36230   \n",
       "\n",
       "      grad_ux  grad_uy  grad_vx  grad_vy  frame  trial_num  \n",
       "6318  1.23411  0.58661  1.37163  0.35375   1177          0  \n",
       "6316  1.27602  0.56800  1.45780  0.29252   1176          0  \n",
       "6314  0.20201  1.87254  0.39609  1.65512   1175          0  \n",
       "6312 -0.39413  2.37612  0.14468  1.83677   1174          0  \n",
       "6310  1.62715  0.47231  4.64334 -2.10047   1174          0  "
      ]
     },
     "execution_count": 37,
     "metadata": {},
     "output_type": "execute_result"
    }
   ],
   "source": [
    "#load spiral tip range time series from cache\n",
    "#WJ's data for LR model (200x200)\n",
    "range_data_dir='/home/timothytyree/Documents/GitHub/care/notebooks/Data/from_wjr/tippos_per_001_annihilation_range_timeseries.pkl'\n",
    "# #my data for LR model (200x200) diffCoeff=0.001\n",
    "range_data_dir='/home/timothytyree/Documents/GitHub/care/notebooks/Data/initial-conditions-suite-3-LR/ds_5_param_qu_tmax_30_Ko_5.4_diffCoef_0.001/annihilation_range_timeseries.pkl'\n",
    "#my data for LR model (200x200) diffCoeff=0.0005\n",
    "\n",
    "data_lst=load_from_pickle(range_data_dir)\n",
    "print(f\"loaded range timeseries from {len(data_lst)} termination events\")\n",
    "df=pd.concat(data_lst)\n",
    "del data_lst\n",
    "df.head()"
   ]
  },
  {
   "cell_type": "markdown",
   "id": "db651ad7",
   "metadata": {},
   "source": [
    "# TODO: compute msr"
   ]
  },
  {
   "cell_type": "code",
   "execution_count": 38,
   "id": "e1b8ea87",
   "metadata": {
    "ExecuteTime": {
     "end_time": "2022-07-06T04:56:59.433339Z",
     "start_time": "2022-07-06T04:56:59.411090Z"
    }
   },
   "outputs": [
    {
     "name": "stdout",
     "output_type": "stream",
     "text": [
      "tdeath ranges from 0.0 to 476.0 ms\n",
      "R^2 ranges from 6.625912499995173e-08 to 12.393103046431568 cm^2\n"
     ]
    }
   ],
   "source": [
    "x_values_in=df['tdeath'].values\n",
    "y_values_in=df['R'].values**2\n",
    "print(f\"tdeath ranges from {np.min(x_values_in)} to {np.max(x_values_in)} ms\")\n",
    "print(f\"R^2 ranges from {np.min(y_values_in)} to {np.max(y_values_in)} cm^2\")"
   ]
  },
  {
   "cell_type": "code",
   "execution_count": 17,
   "id": "93286253",
   "metadata": {
    "ExecuteTime": {
     "end_time": "2022-07-06T04:39:50.575444Z",
     "start_time": "2022-07-06T04:39:50.539640Z"
    }
   },
   "outputs": [],
   "source": [
    "assert not np.isnan(x_values_in).any() \n",
    "assert not np.isnan(y_values_in).any()"
   ]
  },
  {
   "cell_type": "code",
   "execution_count": 39,
   "id": "79c506e0",
   "metadata": {
    "ExecuteTime": {
     "end_time": "2022-07-06T04:57:30.105363Z",
     "start_time": "2022-07-06T04:57:20.476920Z"
    }
   },
   "outputs": [
    {
     "data": {
      "text/html": [
       "<div>\n",
       "<style scoped>\n",
       "    .dataframe tbody tr th:only-of-type {\n",
       "        vertical-align: middle;\n",
       "    }\n",
       "\n",
       "    .dataframe tbody tr th {\n",
       "        vertical-align: top;\n",
       "    }\n",
       "\n",
       "    .dataframe thead th {\n",
       "        text-align: right;\n",
       "    }\n",
       "</style>\n",
       "<table border=\"1\" class=\"dataframe\">\n",
       "  <thead>\n",
       "    <tr style=\"text-align: right;\">\n",
       "      <th></th>\n",
       "      <th>tdeath_avg</th>\n",
       "      <th>MSR</th>\n",
       "      <th>Delta_tdeath_avg</th>\n",
       "      <th>Delta_MSR</th>\n",
       "      <th>p_tdeath_avg</th>\n",
       "      <th>p_MSR</th>\n",
       "      <th>counts</th>\n",
       "    </tr>\n",
       "  </thead>\n",
       "  <tbody>\n",
       "    <tr>\n",
       "      <th>0</th>\n",
       "      <td>0.0</td>\n",
       "      <td>0.074383</td>\n",
       "      <td>0.0</td>\n",
       "      <td>0.001748</td>\n",
       "      <td>0.0</td>\n",
       "      <td>0.482882</td>\n",
       "      <td>3884</td>\n",
       "    </tr>\n",
       "    <tr>\n",
       "      <th>1</th>\n",
       "      <td>2.0</td>\n",
       "      <td>0.216425</td>\n",
       "      <td>0.0</td>\n",
       "      <td>0.005164</td>\n",
       "      <td>0.0</td>\n",
       "      <td>0.430050</td>\n",
       "      <td>3420</td>\n",
       "    </tr>\n",
       "    <tr>\n",
       "      <th>2</th>\n",
       "      <td>4.0</td>\n",
       "      <td>0.344195</td>\n",
       "      <td>0.0</td>\n",
       "      <td>0.009660</td>\n",
       "      <td>0.0</td>\n",
       "      <td>0.975827</td>\n",
       "      <td>3105</td>\n",
       "    </tr>\n",
       "    <tr>\n",
       "      <th>3</th>\n",
       "      <td>6.0</td>\n",
       "      <td>0.473385</td>\n",
       "      <td>0.0</td>\n",
       "      <td>0.014721</td>\n",
       "      <td>0.0</td>\n",
       "      <td>0.448739</td>\n",
       "      <td>2865</td>\n",
       "    </tr>\n",
       "    <tr>\n",
       "      <th>4</th>\n",
       "      <td>8.0</td>\n",
       "      <td>0.609781</td>\n",
       "      <td>0.0</td>\n",
       "      <td>0.019164</td>\n",
       "      <td>0.0</td>\n",
       "      <td>0.490567</td>\n",
       "      <td>2677</td>\n",
       "    </tr>\n",
       "  </tbody>\n",
       "</table>\n",
       "</div>"
      ],
      "text/plain": [
       "   tdeath_avg       MSR  Delta_tdeath_avg  Delta_MSR  p_tdeath_avg     p_MSR  \\\n",
       "0         0.0  0.074383               0.0   0.001748           0.0  0.482882   \n",
       "1         2.0  0.216425               0.0   0.005164           0.0  0.430050   \n",
       "2         4.0  0.344195               0.0   0.009660           0.0  0.975827   \n",
       "3         6.0  0.473385               0.0   0.014721           0.0  0.448739   \n",
       "4         8.0  0.609781               0.0   0.019164           0.0  0.490567   \n",
       "\n",
       "   counts  \n",
       "0    3884  \n",
       "1    3420  \n",
       "2    3105  \n",
       "3    2865  \n",
       "4    2677  "
      ]
     },
     "execution_count": 39,
     "metadata": {},
     "output_type": "execute_result"
    }
   ],
   "source": [
    "#compute bootstrap \n",
    "bins=np.arange(0,450,1)\n",
    "df_bootstrap=bin_and_bootstrap_xy_values_parallel(x_values_in,\n",
    "                               y_values_in,\n",
    "                               xlabel='tdeath_avg',\n",
    "                               ylabel='MSR',\n",
    "                               bins=bins,\n",
    "                               min_numobs=10,\n",
    "                               num_bootstrap_samples=1000,\n",
    "                               npartitions=10,\n",
    "                               use_test=False)\n",
    "df_bootstrap.head()"
   ]
  },
  {
   "cell_type": "code",
   "execution_count": 40,
   "id": "bcc82139",
   "metadata": {
    "ExecuteTime": {
     "end_time": "2022-07-06T04:57:30.314346Z",
     "start_time": "2022-07-06T04:57:30.261600Z"
    }
   },
   "outputs": [
    {
     "data": {
      "text/html": [
       "<div>\n",
       "<style scoped>\n",
       "    .dataframe tbody tr th:only-of-type {\n",
       "        vertical-align: middle;\n",
       "    }\n",
       "\n",
       "    .dataframe tbody tr th {\n",
       "        vertical-align: top;\n",
       "    }\n",
       "\n",
       "    .dataframe thead th {\n",
       "        text-align: right;\n",
       "    }\n",
       "</style>\n",
       "<table border=\"1\" class=\"dataframe\">\n",
       "  <thead>\n",
       "    <tr style=\"text-align: right;\">\n",
       "      <th></th>\n",
       "      <th>tdeath_avg</th>\n",
       "      <th>MSR</th>\n",
       "      <th>Delta_tdeath_avg</th>\n",
       "      <th>Delta_MSR</th>\n",
       "      <th>p_tdeath_avg</th>\n",
       "      <th>p_MSR</th>\n",
       "      <th>counts</th>\n",
       "    </tr>\n",
       "  </thead>\n",
       "  <tbody>\n",
       "    <tr>\n",
       "      <th>125</th>\n",
       "      <td>250.0</td>\n",
       "      <td>2.779082</td>\n",
       "      <td>0.0</td>\n",
       "      <td>0.934700</td>\n",
       "      <td>0.0</td>\n",
       "      <td>0.013286</td>\n",
       "      <td>11</td>\n",
       "    </tr>\n",
       "    <tr>\n",
       "      <th>126</th>\n",
       "      <td>252.0</td>\n",
       "      <td>2.734942</td>\n",
       "      <td>0.0</td>\n",
       "      <td>0.926238</td>\n",
       "      <td>0.0</td>\n",
       "      <td>0.472051</td>\n",
       "      <td>11</td>\n",
       "    </tr>\n",
       "    <tr>\n",
       "      <th>127</th>\n",
       "      <td>254.0</td>\n",
       "      <td>2.651019</td>\n",
       "      <td>0.0</td>\n",
       "      <td>0.855917</td>\n",
       "      <td>0.0</td>\n",
       "      <td>0.204930</td>\n",
       "      <td>11</td>\n",
       "    </tr>\n",
       "    <tr>\n",
       "      <th>128</th>\n",
       "      <td>256.0</td>\n",
       "      <td>2.488686</td>\n",
       "      <td>0.0</td>\n",
       "      <td>0.748509</td>\n",
       "      <td>0.0</td>\n",
       "      <td>0.323909</td>\n",
       "      <td>11</td>\n",
       "    </tr>\n",
       "    <tr>\n",
       "      <th>129</th>\n",
       "      <td>258.0</td>\n",
       "      <td>2.434628</td>\n",
       "      <td>0.0</td>\n",
       "      <td>0.743002</td>\n",
       "      <td>0.0</td>\n",
       "      <td>0.501664</td>\n",
       "      <td>11</td>\n",
       "    </tr>\n",
       "  </tbody>\n",
       "</table>\n",
       "</div>"
      ],
      "text/plain": [
       "     tdeath_avg       MSR  Delta_tdeath_avg  Delta_MSR  p_tdeath_avg  \\\n",
       "125       250.0  2.779082               0.0   0.934700           0.0   \n",
       "126       252.0  2.734942               0.0   0.926238           0.0   \n",
       "127       254.0  2.651019               0.0   0.855917           0.0   \n",
       "128       256.0  2.488686               0.0   0.748509           0.0   \n",
       "129       258.0  2.434628               0.0   0.743002           0.0   \n",
       "\n",
       "        p_MSR  counts  \n",
       "125  0.013286      11  \n",
       "126  0.472051      11  \n",
       "127  0.204930      11  \n",
       "128  0.323909      11  \n",
       "129  0.501664      11  "
      ]
     },
     "execution_count": 40,
     "metadata": {},
     "output_type": "execute_result"
    }
   ],
   "source": [
    "df_bootstrap.tail()"
   ]
  },
  {
   "cell_type": "code",
   "execution_count": 41,
   "id": "6feea9bc",
   "metadata": {
    "ExecuteTime": {
     "end_time": "2022-07-06T04:59:16.162428Z",
     "start_time": "2022-07-06T04:59:16.137940Z"
    }
   },
   "outputs": [
    {
     "data": {
      "text/plain": [
       "((130,), (130,), (130,))"
      ]
     },
     "execution_count": 41,
     "metadata": {},
     "output_type": "execute_result"
    }
   ],
   "source": [
    "x_values=df_bootstrap['tdeath_avg'].values\n",
    "y_values=df_bootstrap['MSR'].values\n",
    "yerr_values=df_bootstrap['Delta_MSR'].values\n",
    "x_values.shape,y_values.shape,yerr_values.shape"
   ]
  },
  {
   "cell_type": "code",
   "execution_count": 42,
   "id": "17fe57c4",
   "metadata": {
    "ExecuteTime": {
     "end_time": "2022-07-06T04:59:16.922131Z",
     "start_time": "2022-07-06T04:59:16.720361Z"
    }
   },
   "outputs": [
    {
     "name": "stdout",
     "output_type": "stream",
     "text": [
      "Does this appear to intersect at zero?\n"
     ]
    },
    {
     "data": {
      "image/png": "[encoded data removed]",
      "text/plain": [
       "<Figure size 640x480 with 1 Axes>"
      ]
     },
     "metadata": {},
     "output_type": "display_data"
    }
   ],
   "source": [
    "print(f\"Does this appear to intersect at zero?\")\n",
    "c='k'\n",
    "plt.plot(x_values,y_values,lw=2,alpha=0.8,c=c)\n",
    "plt.fill_between(x_values,y_values-yerr_values,y_values+yerr_values,lw=2,alpha=0.4,color=c)\n",
    "format_plot(ax=plt.gca(),xlabel=r'$t_f-t$ (ms)',ylabel=r'MSR (cm$^2$)')\n",
    "# plt.xlim([0,180])\n",
    "# plt.ylim([0,3.1])\n",
    "plt.xlim([0,15])\n",
    "plt.ylim([-.1,1])\n",
    "plt.show()"
   ]
  },
  {
   "cell_type": "code",
   "execution_count": 43,
   "id": "aa4bbaba",
   "metadata": {
    "ExecuteTime": {
     "end_time": "2022-07-06T04:59:20.259389Z",
     "start_time": "2022-07-06T04:59:20.144287Z"
    }
   },
   "outputs": [
    {
     "data": {
      "image/png": "[encoded data removed]",
      "text/plain": [
       "<Figure size 400x420 with 1 Axes>"
      ]
     },
     "metadata": {},
     "output_type": "display_data"
    }
   ],
   "source": [
    "#plot expected\n",
    "fig,ax=plt.subplots(figsize=(4,4.2))\n",
    "# ax.plot(x_values,4*9.5*1e-3*x_values,'--',lw=2,alpha=0.8,c='C1')\n",
    "# ax.plot(x_values,4*1.8*1e-3*x_values,'--',lw=2,alpha=0.8,c='C0')\n",
    "#plot data\n",
    "ax.plot(x_values,y_values,lw=2,alpha=0.8,c=c)\n",
    "ax.fill_between(x_values,y_values-yerr_values,y_values+yerr_values,lw=2,alpha=0.4,color=c)\n",
    "format_plot(ax=ax,xlabel=r'$t_f-t$ (ms)',ylabel=r'MSR (cm$^2$)')\n",
    "ax.set_xlim([0,200])\n",
    "ax.set_ylim([0,8])\n",
    "plt.show()"
   ]
  },
  {
   "cell_type": "code",
   "execution_count": 44,
   "id": "ed0f1909",
   "metadata": {
    "ExecuteTime": {
     "end_time": "2022-07-06T04:59:29.212783Z",
     "start_time": "2022-07-06T04:59:29.057624Z"
    }
   },
   "outputs": [
    {
     "data": {
      "image/png": "[encoded data removed]",
      "text/plain": [
       "<Figure size 800x420 with 1 Axes>"
      ]
     },
     "metadata": {},
     "output_type": "display_data"
    }
   ],
   "source": [
    "#plot expected\n",
    "fig,ax=plt.subplots(figsize=(8,4.2))\n",
    "# ax.plot(x_values,4*9.5*1e-3*x_values,'--',lw=2,alpha=0.8,c='C1')\n",
    "# ax.plot(x_values,4*1.8*1e-3*x_values,'--',lw=2,alpha=0.8,c='C0')\n",
    "#plot data\n",
    "ax.plot(x_values,y_values,lw=2,alpha=0.8,c=c)\n",
    "ax.fill_between(x_values,y_values-yerr_values,y_values+yerr_values,lw=2,alpha=0.4,color=c)\n",
    "format_plot(ax=ax,xlabel=r'$t_f-t$ (ms)',ylabel=r'MSR (cm$^2$)')\n",
    "ax.set_xlim([0,500])\n",
    "ax.set_ylim([0,8])\n",
    "plt.show()"
   ]
  },
  {
   "cell_type": "code",
   "execution_count": null,
   "id": "9db8947f",
   "metadata": {},
   "outputs": [],
   "source": []
  },
  {
   "cell_type": "code",
   "execution_count": 45,
   "id": "0b5a61ab",
   "metadata": {
    "ExecuteTime": {
     "end_time": "2022-07-06T04:59:39.083737Z",
     "start_time": "2022-07-06T04:59:39.058017Z"
    }
   },
   "outputs": [
    {
     "name": "stdout",
     "output_type": "stream",
     "text": [
      "msr_dir_bootstrap='/home/timothytyree/Documents/GitHub/care/notebooks/Data/initial-conditions-suite-3-LR/ds_5_param_qu_tmax_30_Ko_5.4_diffCoef_0.001/annihilation_msr.csv'\n"
     ]
    }
   ],
   "source": [
    "#save msr as .csv\n",
    "msr_dir_bootstrap=range_data_dir.replace('annihilation_range_timeseries.pkl','annihilation_msr.csv')\n",
    "df_bootstrap.to_csv(msr_dir_bootstrap,index=False)\n",
    "print(f\"{msr_dir_bootstrap=}\")"
   ]
  },
  {
   "cell_type": "code",
   "execution_count": 49,
   "id": "4dffd4c2",
   "metadata": {
    "ExecuteTime": {
     "end_time": "2022-07-06T05:12:55.911690Z",
     "start_time": "2022-07-06T05:12:55.889913Z"
    }
   },
   "outputs": [],
   "source": [
    "#WJ's data for LR model (200x200)\n",
    "# msr_dir_bootstrap='/home/timothytyree/Documents/GitHub/care/notebooks/Data/from_wjr/tippos_per_001_annihilation_msr.csv'\n",
    "# #my data for LR model (200x200) diffCoeff=0.001\n",
    "# msr_dir_bootstrap='/home/timothytyree/Documents/GitHub/care/notebooks/Data/initial-conditions-suite-3-LR/ds_5_param_qu_tmax_30_Ko_5.4_diffCoef_0.001/annihilation_msr.csv'\n",
    "#my data for LR model (200x200) diffCoeff=0.0005\n"
   ]
  },
  {
   "cell_type": "code",
   "execution_count": 50,
   "id": "c0368a36",
   "metadata": {
    "ExecuteTime": {
     "end_time": "2022-07-06T05:13:26.370764Z",
     "start_time": "2022-07-06T05:12:56.960584Z"
    }
   },
   "outputs": [
    {
     "name": "stdout",
     "output_type": "stream",
     "text": [
      "File: /home/timothytyree/Documents/GitHub/care/notebooks/Data/initial-conditions-fk-200x200/param_set_8_ds_5.0_tmax_10_diffCoef_0.0005/Log/ic200x200.0.1_log.csv\n"
     ]
    },
    {
     "data": {
      "text/plain": [
       "'/home/timothytyree/Documents/GitHub/care/notebooks/Data/initial-conditions-fk-200x200/param_set_8_ds_5.0_tmax_10_diffCoef_0.0005/Log/ic200x200.0.1_log.csv'"
      ]
     },
     "execution_count": 50,
     "metadata": {},
     "output_type": "execute_result"
    }
   ],
   "source": [
    "search_for_file()"
   ]
  },
  {
   "cell_type": "code",
   "execution_count": 2,
   "id": "82dc9c8a",
   "metadata": {
    "ExecuteTime": {
     "end_time": "2022-07-06T03:24:50.349702Z",
     "start_time": "2022-07-06T03:24:50.326054Z"
    }
   },
   "outputs": [],
   "source": [
    "#TODO: fit msr to analytical model solution to the affine oscillatory model, as before, except with period fixed\n",
    "period=140 #ms"
   ]
  },
  {
   "cell_type": "code",
   "execution_count": 52,
   "id": "c2abd399",
   "metadata": {
    "ExecuteTime": {
     "end_time": "2022-07-06T05:28:05.885796Z",
     "start_time": "2022-07-06T05:28:05.846268Z"
    }
   },
   "outputs": [
    {
     "name": "stdout",
     "output_type": "stream",
     "text": [
      "found 324 files comparable to /home/timothytyree/Documents/GitHub/care/notebooks/Data/initial-conditions-fk-200x200/param_set_8_ds_5.0_tmax_10_diffCoef_0.0005/Log/ic200x200.0.0_log.csv\n"
     ]
    }
   ],
   "source": [
    "input_dir='/home/timothytyree/Documents/GitHub/care/notebooks/Data/initial-conditions-fk-200x200/param_set_8_ds_5.0_tmax_10_diffCoef_0.0005/Log/ic200x200.0.1_log.csv'\n",
    "input_folder=os.path.dirname(input_dir)\n",
    "fn_lst=[os.path.join(input_folder,x) for x in sorted(os.listdir(input_folder)) if x.find('_log.csv')!=-1]\n",
    "print(f\"found {len(fn_lst)} files comparable to {fn_lst[0]}\")\n"
   ]
  },
  {
   "cell_type": "code",
   "execution_count": null,
   "id": "26e279e5",
   "metadata": {},
   "outputs": [],
   "source": []
  }
 ],
 "metadata": {
  "kernelspec": {
   "display_name": "Python 3 (ipykernel)",
   "language": "python",
   "name": "python3"
  },
  "language_info": {
   "codemirror_mode": {
    "name": "ipython",
    "version": 3
   },
   "file_extension": ".py",
   "mimetype": "text/x-python",
   "name": "python",
   "nbconvert_exporter": "python",
   "pygments_lexer": "ipython3",
   "version": "3.9.13"
  },
  "toc": {
   "base_numbering": 1,
   "nav_menu": {},
   "number_sections": true,
   "sideBar": true,
   "skip_h1_title": false,
   "title_cell": "Table of Contents",
   "title_sidebar": "Contents",
   "toc_cell": false,
   "toc_position": {},
   "toc_section_display": true,
   "toc_window_display": false
  },
  "varInspector": {
   "cols": {
    "lenName": 16,
    "lenType": 16,
    "lenVar": 40
   },
   "kernels_config": {
    "python": {
     "delete_cmd_postfix": "",
     "delete_cmd_prefix": "del ",
     "library": "var_list.py",
     "varRefreshCmd": "print(var_dic_list())"
    },
    "r": {
     "delete_cmd_postfix": ") ",
     "delete_cmd_prefix": "rm(",
     "library": "var_list.r",
     "varRefreshCmd": "cat(var_dic_list()) "
    }
   },
   "types_to_exclude": [
    "module",
    "function",
    "builtin_function_or_method",
    "instance",
    "_Feature"
   ],
   "window_display": false
  }
 },
 "nbformat": 4,
 "nbformat_minor": 5
}
