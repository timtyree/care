{
 "cells": [
  {
   "cell_type": "markdown",
   "id": "048258cb",
   "metadata": {},
   "source": [
    "# fitting annihilation msr timeseries to the affine oscillatory particle model\n",
    "Tim Tyree<br>\n",
    "7.5.2022"
   ]
  },
  {
   "cell_type": "code",
   "execution_count": 13,
   "id": "7249626d",
   "metadata": {
    "ExecuteTime": {
     "end_time": "2022-08-03T19:43:36.256997Z",
     "start_time": "2022-08-03T19:43:36.232149Z"
    }
   },
   "outputs": [
    {
     "name": "stdout",
     "output_type": "stream",
     "text": [
      "The autoreload extension is already loaded. To reload it, use:\n",
      "  %reload_ext autoreload\n"
     ]
    }
   ],
   "source": [
    "from IPython.display import clear_output\n",
    "clear_output(wait=True)\n",
    "\n",
    "import sys,os\n",
    "og_stdout=sys.stdout\n",
    "from lib.my_initialization import *\n",
    "\n",
    "os.chdir(nb_dir)\n",
    "from lib import *\n",
    "\n",
    "# import cupy, cudf\n",
    "# from lib.rapids_func import *\n",
    "\n",
    "import seaborn as sns\n",
    "import matplotlib.ticker as mtick\n",
    "\n",
    "import warnings\n",
    "warnings.simplefilter(\"ignore\", UserWarning)\n",
    "%load_ext autoreload\n",
    "%autoreload 2"
   ]
  },
  {
   "cell_type": "code",
   "execution_count": 14,
   "id": "5269d3f4",
   "metadata": {
    "ExecuteTime": {
     "end_time": "2022-08-03T19:43:40.618753Z",
     "start_time": "2022-08-03T19:43:40.590240Z"
    }
   },
   "outputs": [],
   "source": [
    "# from scipy.optimize import minimize\n",
    "from scipy.optimize import dual_annealing"
   ]
  },
  {
   "cell_type": "code",
   "execution_count": 15,
   "id": "43aadfdf",
   "metadata": {
    "ExecuteTime": {
     "end_time": "2022-08-03T19:43:40.962580Z",
     "start_time": "2022-08-03T19:43:40.942809Z"
    }
   },
   "outputs": [],
   "source": [
    "#reset matplotlib settings\n",
    "import matplotlib as mpl\n",
    "sns.reset_orig()\n",
    "mpl.rc_file_defaults()"
   ]
  },
  {
   "cell_type": "code",
   "execution_count": null,
   "id": "77e61b3b",
   "metadata": {},
   "outputs": [],
   "source": []
  },
  {
   "cell_type": "markdown",
   "id": "1261a81a",
   "metadata": {},
   "source": [
    "# define module"
   ]
  },
  {
   "cell_type": "code",
   "execution_count": 4,
   "id": "d5e417a6",
   "metadata": {
    "ExecuteTime": {
     "end_time": "2022-08-03T01:40:54.412063Z",
     "start_time": "2022-08-03T01:40:54.390146Z"
    }
   },
   "outputs": [],
   "source": [
    "#TODO: copy to lib.model\n",
    "def comp_square_error_msr_aff_osc(x,*args):\n",
    "    \"\"\"phase is in radians. period is in milliseconds.  a0,a1 are in cm^2/s.\n",
    "\n",
    "Example Usage:\n",
    "x0=a0,a1,period,phase\n",
    "args=t_values,msr_values,D\n",
    "square_error=comp_square_error_msr_aff_osc(x0,*args)\n",
    "rmse=np.sqrt(square_error/t_values.shape[0])\n",
    "print(f\"{rmse=}\")\n",
    "    \"\"\"\n",
    "    a0,a1,period,phase=x\n",
    "    t_values,msr_values,D=args\n",
    "    omega=2*np.pi/period*1e3 #Hz bc period is in ms\n",
    "    msr_values_affoscillatory=4*((2*D+a0)*t_values+(a1/omega)*(np.sin(omega*t_values+phase)-np.sin(phase)))\n",
    "    square_error_msr=np.sum((msr_values_affoscillatory-msr_values)**2)\n",
    "    return square_error_msr\n",
    "\n",
    "def anneal_msr_fit(t_values,msr_values,D,\n",
    "                   bounds = ((0, 100), (0, 100), (50, 300), (-3.15,3.15)),\n",
    "                   maxiter=1000,\n",
    "                   seed=42,\n",
    "                   no_local_search=True,\n",
    "                   **kwargs):\n",
    "    \"\"\"returns fit of MSR(t') to the affine oscillatory particle model.\n",
    "    if no_local_search=True, simulated annealing is used.\n",
    "    if no_local_search=False, dual annealing is used.\n",
    "    kwargs are passed to scipy.optimize.dual_annealing\n",
    "    bounds gives the upper/lower bounds to parameter values a0 (cm^2/s), a1 (cm^2/s), period (ms), and phase (radians), respectively.\n",
    "\n",
    "    Example Usage:\n",
    "res = anneal_msr_fit(t_values,msr_values,D,\n",
    "                   bounds = ((0, 100), (0, 100), (50, 300), (-3.15,3.15)),\n",
    "                   maxiter=1000,seed=42, no_local_search=True)#,**kwargs)\n",
    "    \"\"\"\n",
    "    # input: t_values, msr_values, D, Gamma\n",
    "    # output: a0,a1,period,phase,rmse,alinear\n",
    "    args=t_values,msr_values,D\n",
    "    # np.random.seed(42)   # seed to allow replication.\n",
    "    res = dual_annealing(\n",
    "        comp_square_error_msr_aff_osc,\n",
    "        bounds=bounds,\n",
    "        args=args,\n",
    "        maxiter=maxiter,\n",
    "        seed=seed,\n",
    "        no_local_search=no_local_search,**kwargs)\n",
    "    return res\n",
    "\n",
    "def comp_alinear(a0,a1,period,Gamma,phase):\n",
    "    \"\"\"computes the effective attraction coefficient of the linear particle model.\n",
    "    a0,a1 are in units of alinear. \n",
    "    period is in units of the mean minimum lifetime, Gamma. \n",
    "    phase is in units of radians.\n",
    "    \n",
    "    Example Usage:\n",
    "alinear = comp_alinear(a0,a1,period,Gamma,phase)\n",
    "    \"\"\"\n",
    "    omega = 2*np.pi/period\n",
    "    z = Gamma*omega\n",
    "    alinear=a0 + a1*(np.cos(phase)-z*np.sin(phase))/(1 + z**2)\n",
    "    return alinear"
   ]
  },
  {
   "cell_type": "code",
   "execution_count": 5,
   "id": "8bb3a71f",
   "metadata": {
    "ExecuteTime": {
     "end_time": "2022-08-03T01:40:54.864087Z",
     "start_time": "2022-08-03T01:40:54.846090Z"
    }
   },
   "outputs": [],
   "source": [
    "def comp_mean_bootstrap_uncertainty(x,num_samples=1000):\n",
    "    \"\"\"\n",
    "    Example Usage:\n",
    "meanx,Delta_meanx,num_obs,p_normal=comp_mean_bootstrap_uncertainty(minlifetime_values)\n",
    "printing=True\n",
    "if printing:\n",
    "    print(f\"mean: {meanx:.4f} +/- {Delta_meanx:.4f} (N={num_obs}, {p_normal=:.4f})\")\n",
    "    \"\"\"\n",
    "    meanx = np.mean(x)\n",
    "    Delta_meanx,p_normal=bootstrap_95CI_Delta_mean(x,num_samples=num_samples)\n",
    "    num_obs=x.shape[0]\n",
    "    return meanx,Delta_meanx,num_obs,p_normal"
   ]
  },
  {
   "cell_type": "markdown",
   "id": "7b53ca3c",
   "metadata": {},
   "source": [
    "# load data"
   ]
  },
  {
   "cell_type": "code",
   "execution_count": 42,
   "id": "99b84bb4",
   "metadata": {
    "ExecuteTime": {
     "end_time": "2022-08-03T20:10:56.948333Z",
     "start_time": "2022-08-03T20:10:56.582002Z"
    }
   },
   "outputs": [
    {
     "name": "stdout",
     "output_type": "stream",
     "text": [
      "loaded range timeseries from 80 termination events\n",
      "df.shape=(3857855, 9)\n"
     ]
    },
    {
     "data": {
      "text/html": [
       "<div>\n",
       "<style scoped>\n",
       "    .dataframe tbody tr th:only-of-type {\n",
       "        vertical-align: middle;\n",
       "    }\n",
       "\n",
       "    .dataframe tbody tr th {\n",
       "        vertical-align: top;\n",
       "    }\n",
       "\n",
       "    .dataframe thead th {\n",
       "        text-align: right;\n",
       "    }\n",
       "</style>\n",
       "<table border=\"1\" class=\"dataframe\">\n",
       "  <thead>\n",
       "    <tr style=\"text-align: right;\">\n",
       "      <th></th>\n",
       "      <th>annihilation_index</th>\n",
       "      <th>R</th>\n",
       "      <th>tdeath</th>\n",
       "      <th>t</th>\n",
       "      <th>n</th>\n",
       "      <th>x</th>\n",
       "      <th>y</th>\n",
       "      <th>trial_num</th>\n",
       "      <th>frame</th>\n",
       "    </tr>\n",
       "  </thead>\n",
       "  <tbody>\n",
       "    <tr>\n",
       "      <th>253252</th>\n",
       "      <td>0</td>\n",
       "      <td>0.075208</td>\n",
       "      <td>0.0</td>\n",
       "      <td>30657.0</td>\n",
       "      <td>14</td>\n",
       "      <td>198.5</td>\n",
       "      <td>178.9</td>\n",
       "      <td>0</td>\n",
       "      <td>30658</td>\n",
       "    </tr>\n",
       "    <tr>\n",
       "      <th>253239</th>\n",
       "      <td>0</td>\n",
       "      <td>0.144309</td>\n",
       "      <td>1.0</td>\n",
       "      <td>30656.0</td>\n",
       "      <td>14</td>\n",
       "      <td>198.3</td>\n",
       "      <td>181.1</td>\n",
       "      <td>0</td>\n",
       "      <td>30657</td>\n",
       "    </tr>\n",
       "    <tr>\n",
       "      <th>253111</th>\n",
       "      <td>1</td>\n",
       "      <td>0.098393</td>\n",
       "      <td>0.0</td>\n",
       "      <td>30646.0</td>\n",
       "      <td>14</td>\n",
       "      <td>79.0</td>\n",
       "      <td>119.2</td>\n",
       "      <td>0</td>\n",
       "      <td>30647</td>\n",
       "    </tr>\n",
       "    <tr>\n",
       "      <th>253097</th>\n",
       "      <td>1</td>\n",
       "      <td>0.182243</td>\n",
       "      <td>1.0</td>\n",
       "      <td>30645.0</td>\n",
       "      <td>14</td>\n",
       "      <td>78.6</td>\n",
       "      <td>119.1</td>\n",
       "      <td>0</td>\n",
       "      <td>30646</td>\n",
       "    </tr>\n",
       "    <tr>\n",
       "      <th>253083</th>\n",
       "      <td>1</td>\n",
       "      <td>0.268386</td>\n",
       "      <td>2.0</td>\n",
       "      <td>30644.0</td>\n",
       "      <td>14</td>\n",
       "      <td>78.4</td>\n",
       "      <td>119.1</td>\n",
       "      <td>0</td>\n",
       "      <td>30645</td>\n",
       "    </tr>\n",
       "  </tbody>\n",
       "</table>\n",
       "</div>"
      ],
      "text/plain": [
       "        annihilation_index         R  tdeath        t   n      x      y  \\\n",
       "253252                   0  0.075208     0.0  30657.0  14  198.5  178.9   \n",
       "253239                   0  0.144309     1.0  30656.0  14  198.3  181.1   \n",
       "253111                   1  0.098393     0.0  30646.0  14   79.0  119.2   \n",
       "253097                   1  0.182243     1.0  30645.0  14   78.6  119.1   \n",
       "253083                   1  0.268386     2.0  30644.0  14   78.4  119.1   \n",
       "\n",
       "        trial_num  frame  \n",
       "253252          0  30658  \n",
       "253239          0  30657  \n",
       "253111          0  30647  \n",
       "253097          0  30646  \n",
       "253083          0  30645  "
      ]
     },
     "execution_count": 42,
     "metadata": {},
     "output_type": "execute_result"
    }
   ],
   "source": [
    "#load spiral tip range time series from cache\n",
    "#######################\n",
    "# Luo-Rudy\n",
    "#######################\n",
    "# #WJ's data for LR model (200x200)\n",
    "# range_data_dir='/home/timothytyree/Documents/GitHub/care/notebooks/Data/from_wjr/tippos_per_001_annihilation_range_timeseries.pkl'\n",
    "# # #my data for LR model (200x200) diffCoeff=0.001\n",
    "# range_data_dir='/home/timothytyree/Documents/GitHub/care/notebooks/Data/initial-conditions-suite-3-LR/ds_5_param_qu_tmax_30_Ko_5.4_diffCoef_0.001/annihilation_range_timeseries.pkl'\n",
    "# #my data for LR model (200x200) diffCoeff=0.0005\n",
    "# range_data_dir='/home/timothytyree/Documents/GitHub/care/notebooks/Data/initial-conditions-suite-3-LR/param_qu_tmax_30_Ko_5.4_diffCoef_0.0005_dt_0.5/annihilation_range_timeseries.pkl'\n",
    "\n",
    "#######################\n",
    "# Fenton-Karma\n",
    "#######################\n",
    "\n",
    "# range_data_dir='/home/timothytyree/Documents/GitHub/care/notebooks/Data/initial-conditions-fk-200x200/param_set_8_ds_5.0_tmax_10_diffCoef_0.0005/annihilation_range_timeseries.pkl'\n",
    "range_data_dir='/home/timothytyree/Documents/GitHub/care/notebooks/Data/initial-conditions-fk-200x200/param_set_8_ds_5.0_tmax_30_diffCoef_0.001_dt_1/annihilation_range_timeseries.pkl'\n",
    "# # # range_data_dir='/home/timothytyree/Documents/GitHub/care/notebooks/Data/initial-conditions-fk-200x200/param_set_8_ds_5.0_tmax_10_diffCoef_0.0005/annihilation_range_timeseries.pkl'\n",
    "# # # range_data_dir='/home/timothytyree/Documents/GitHub/care/notebooks/Data/initial-conditions-fk-200x200/param_set_8_ds_5.0_tmax_30_diffCoef_0.001_dt_0.025/annihilation_range_timeseries.pkl'\n",
    "\n",
    "# range_data_dir='/home/timothytyree/Documents/GitHub/care/notebooks/Data/from_wjr/positions_fk/200x200/tippos_per_c_001_annihilation_range_timeseries.pkl'\n",
    "# # range_data_dir='/home/timothytyree/Documents/GitHub/care/notebooks/Data/from_wjr/positions_fk/150x150/tippos_per_c_001_annihilation_range_timeseries.pkl'\n",
    "\n",
    "# #150x150\n",
    "# range_data_dir='/home/timothytyree/Documents/GitHub/care/notebooks/Data/from_wjr/positions_fk/150x150/tippos_per_c_001_annihilation_range_timeseries.pkl'\n",
    "# #200x200\n",
    "# range_data_dir='/home/timothytyree/Documents/GitHub/care/notebooks/Data/from_wjr/positions_fk/200x200/tippos_per_c_001_annihilation_range_timeseries.pkl'\n",
    "# #250x250\n",
    "# range_data_dir='/home/timothytyree/Documents/GitHub/care/notebooks/Data/from_wjr/positions_fk/250x250/tippos_per_001_annihilation_range_timeseries.pkl'\n",
    "\n",
    "\n",
    "#################\n",
    "# creations\n",
    "################\n",
    "# #FK\n",
    "# # range_data_dir='/home/timothytyree/Documents/GitHub/care/notebooks/Data/from_wjr/positions_fk/200x200/tippos_per_c_005_annihilation_range_timeseries.pkl'\n",
    "# range_data_dir='/home/timothytyree/Documents/GitHub/care/notebooks/Data/from_wjr/positions_fk/200x200/tippos_per_c_005_creation_range_timeseries.pkl'\n",
    "# range_data_dir='/home/timothytyree/Documents/GitHub/care/notebooks/Data/from_wjr/positions_fk/200x200/tippos_per_c_005_creation_range_timeseries.pkl'\n",
    "range_data_dir='/home/timothytyree/Documents/GitHub/care/notebooks/Data/from_wjr/positions_fk/200x200/tippos_per_c_001_creation_range_timeseries.pkl'\n",
    "# range_data_dir='/home/timothytyree/Documents/GitHub/care/notebooks/Data/from_wjr/positions_fk/150x150/tippos_per_c_001_creation_range_timeseries.pkl'\n",
    "\n",
    "# #LR 200x200\n",
    "# range_data_dir='/home/timothytyree/Documents/GitHub/care/notebooks/Data/from_wjr/tippos_per_001_creation_range_timeseries.pkl'\n",
    "\n",
    "\n",
    "data_lst=load_from_pickle(range_data_dir)\n",
    "num_termination_events = len(data_lst)\n",
    "print(f\"loaded range timeseries from {len(data_lst)} termination events\")\n",
    "\n",
    "df=pd.concat(data_lst)\n",
    "del data_lst\n",
    "print(f\"{df.shape=}\")\n",
    "df.head()"
   ]
  },
  {
   "cell_type": "markdown",
   "id": "2646d5fc",
   "metadata": {},
   "source": [
    "# compute mean minimum lifetime"
   ]
  },
  {
   "cell_type": "code",
   "execution_count": 43,
   "id": "ae008564",
   "metadata": {
    "ExecuteTime": {
     "end_time": "2022-08-03T20:12:29.382163Z",
     "start_time": "2022-08-03T20:10:59.360085Z"
    }
   },
   "outputs": [
    {
     "name": "stdout",
     "output_type": "stream",
     "text": [
      "averages for spiral tip pairs:\n",
      " - x - particle average first (not this one!): mean range: 0.6850 +/- 0.0055 ms (N=35503, p_normal: 0.4465) from 80 termination events\n",
      " - o - all positions together (use this one!): mean range: 1.2063 +/- 0.0007 ms (N=3857855, p_normal: 0.4775) from 80 termination events\n",
      " - o - mean lifetime: 107.6628 +/- 1.7927 ms (N=35503, p_normal: 0.2849) from 80 termination events\n"
     ]
    }
   ],
   "source": [
    "meanrange_values = df.groupby(by=['trial_num','annihilation_index'])['R'].mean().values\n",
    "meanR,Delta_meanR,num_obsR,p_normalR=comp_mean_bootstrap_uncertainty(meanrange_values)\n",
    "printing=True\n",
    "if printing:\n",
    "    print(f\"averages for spiral tip pairs:\")\n",
    "    print(f\" - x - particle average first (not this one!): mean range: {meanR:.4f} +/- {Delta_meanR:.4f} ms (N={num_obsR}, p_normal: {p_normalR:.4f}) from {num_termination_events} termination events\")\n",
    "    \n",
    "meanrange_values = df['R'].values\n",
    "meanR,Delta_meanR,num_obsR,p_normalR=comp_mean_bootstrap_uncertainty(meanrange_values)\n",
    "if printing:\n",
    "    print(f\" - o - all positions together (use this one!): mean range: {meanR:.4f} +/- {Delta_meanR:.4f} ms (N={num_obsR}, p_normal: {p_normalR:.4f}) from {num_termination_events} termination events\")\n",
    "\n",
    "minlifetime_values = df.groupby(by=['trial_num','annihilation_index'])['tdeath'].max().values\n",
    "meanx,Delta_meanx,num_obsx,p_normalx=comp_mean_bootstrap_uncertainty(minlifetime_values)\n",
    "printing=True\n",
    "if printing:\n",
    "    print(f\" - o - mean lifetime: {meanx:.4f} +/- {Delta_meanx:.4f} ms (N={num_obsx}, p_normal: {p_normalx:.4f}) from {num_termination_events} termination events\")"
   ]
  },
  {
   "cell_type": "code",
   "execution_count": 44,
   "id": "b66decbe",
   "metadata": {
    "ExecuteTime": {
     "end_time": "2022-08-03T20:12:30.285204Z",
     "start_time": "2022-08-03T20:12:29.514210Z"
    }
   },
   "outputs": [
    {
     "data": {
      "image/png": "[encoded data removed]",
      "text/plain": [
       "<Figure size 640x480 with 1 Axes>"
      ]
     },
     "metadata": {},
     "output_type": "display_data"
    }
   ],
   "source": [
    "bins=80\n",
    "# color='C1'\n",
    "color='C0'\n",
    "# bins=np.logspace(-2,2,100)\n",
    "plt.hist(minlifetime_values,bins=bins,density=True,log=True,color=color,alpha=0.7)\n",
    "format_plot(ax=plt.gca(),xlabel=r'min$(\\Gamma_1,\\Gamma_2)$ (ms)',ylabel='PDF')\n",
    "plt.xlim([0,2.5e3])\n",
    "plt.show()"
   ]
  },
  {
   "cell_type": "code",
   "execution_count": null,
   "id": "3cfca7c7",
   "metadata": {},
   "outputs": [],
   "source": []
  },
  {
   "cell_type": "markdown",
   "id": "db651ad7",
   "metadata": {},
   "source": [
    "# Compute MSR(t') by averaging range timeseries"
   ]
  },
  {
   "cell_type": "code",
   "execution_count": 45,
   "id": "e1b8ea87",
   "metadata": {
    "ExecuteTime": {
     "end_time": "2022-08-03T20:12:30.429467Z",
     "start_time": "2022-08-03T20:12:30.386516Z"
    }
   },
   "outputs": [
    {
     "name": "stdout",
     "output_type": "stream",
     "text": [
      "tdeath ranges from 0.0 to 2624.0 ms\n",
      "R^2 ranges from 6.249999999999291e-06 to 12.475012500000002 cm^2\n"
     ]
    }
   ],
   "source": [
    "x_values_in=df['tdeath'].values\n",
    "y_values_in=df['R'].values**2\n",
    "print(f\"tdeath ranges from {np.min(x_values_in)} to {np.max(x_values_in)} ms\")\n",
    "print(f\"R^2 ranges from {np.min(y_values_in)} to {np.max(y_values_in)} cm^2\")"
   ]
  },
  {
   "cell_type": "code",
   "execution_count": 46,
   "id": "93286253",
   "metadata": {
    "ExecuteTime": {
     "end_time": "2022-08-03T20:12:30.529957Z",
     "start_time": "2022-08-03T20:12:30.503377Z"
    }
   },
   "outputs": [],
   "source": [
    "assert not np.isnan(x_values_in).any() \n",
    "assert not np.isnan(y_values_in).any()"
   ]
  },
  {
   "cell_type": "code",
   "execution_count": 47,
   "id": "79c506e0",
   "metadata": {
    "ExecuteTime": {
     "end_time": "2022-08-03T20:14:46.453003Z",
     "start_time": "2022-08-03T20:12:30.600550Z"
    }
   },
   "outputs": [
    {
     "name": "stdout",
     "output_type": "stream",
     "text": [
      "boostrapping mean (estimated run time ~30 seconds)...\n"
     ]
    },
    {
     "data": {
      "text/html": [
       "<div>\n",
       "<style scoped>\n",
       "    .dataframe tbody tr th:only-of-type {\n",
       "        vertical-align: middle;\n",
       "    }\n",
       "\n",
       "    .dataframe tbody tr th {\n",
       "        vertical-align: top;\n",
       "    }\n",
       "\n",
       "    .dataframe thead th {\n",
       "        text-align: right;\n",
       "    }\n",
       "</style>\n",
       "<table border=\"1\" class=\"dataframe\">\n",
       "  <thead>\n",
       "    <tr style=\"text-align: right;\">\n",
       "      <th></th>\n",
       "      <th>tdeath_avg</th>\n",
       "      <th>MSR</th>\n",
       "      <th>Delta_tdeath_avg</th>\n",
       "      <th>Delta_MSR</th>\n",
       "      <th>p_tdeath_avg</th>\n",
       "      <th>p_MSR</th>\n",
       "      <th>counts</th>\n",
       "    </tr>\n",
       "  </thead>\n",
       "  <tbody>\n",
       "    <tr>\n",
       "      <th>0</th>\n",
       "      <td>1.954738</td>\n",
       "      <td>0.104196</td>\n",
       "      <td>0.006943</td>\n",
       "      <td>0.000644</td>\n",
       "      <td>0.044994</td>\n",
       "      <td>0.833478</td>\n",
       "      <td>171203</td>\n",
       "    </tr>\n",
       "    <tr>\n",
       "      <th>1</th>\n",
       "      <td>6.971877</td>\n",
       "      <td>0.282938</td>\n",
       "      <td>0.007053</td>\n",
       "      <td>0.001404</td>\n",
       "      <td>0.454426</td>\n",
       "      <td>0.287051</td>\n",
       "      <td>155426</td>\n",
       "    </tr>\n",
       "    <tr>\n",
       "      <th>2</th>\n",
       "      <td>11.978182</td>\n",
       "      <td>0.424489</td>\n",
       "      <td>0.007191</td>\n",
       "      <td>0.002171</td>\n",
       "      <td>0.256099</td>\n",
       "      <td>0.136413</td>\n",
       "      <td>146255</td>\n",
       "    </tr>\n",
       "    <tr>\n",
       "      <th>3</th>\n",
       "      <td>16.976390</td>\n",
       "      <td>0.539158</td>\n",
       "      <td>0.007494</td>\n",
       "      <td>0.002784</td>\n",
       "      <td>0.799465</td>\n",
       "      <td>0.861545</td>\n",
       "      <td>138415</td>\n",
       "    </tr>\n",
       "    <tr>\n",
       "      <th>4</th>\n",
       "      <td>21.973395</td>\n",
       "      <td>0.640163</td>\n",
       "      <td>0.007318</td>\n",
       "      <td>0.003556</td>\n",
       "      <td>0.846103</td>\n",
       "      <td>0.877807</td>\n",
       "      <td>129901</td>\n",
       "    </tr>\n",
       "  </tbody>\n",
       "</table>\n",
       "</div>"
      ],
      "text/plain": [
       "   tdeath_avg       MSR  Delta_tdeath_avg  Delta_MSR  p_tdeath_avg     p_MSR  \\\n",
       "0    1.954738  0.104196          0.006943   0.000644      0.044994  0.833478   \n",
       "1    6.971877  0.282938          0.007053   0.001404      0.454426  0.287051   \n",
       "2   11.978182  0.424489          0.007191   0.002171      0.256099  0.136413   \n",
       "3   16.976390  0.539158          0.007494   0.002784      0.799465  0.861545   \n",
       "4   21.973395  0.640163          0.007318   0.003556      0.846103  0.877807   \n",
       "\n",
       "   counts  \n",
       "0  171203  \n",
       "1  155426  \n",
       "2  146255  \n",
       "3  138415  \n",
       "4  129901  "
      ]
     },
     "execution_count": 47,
     "metadata": {},
     "output_type": "execute_result"
    }
   ],
   "source": [
    "#compute bootstrap \n",
    "printing=True\n",
    "if printing:\n",
    "    print(f\"boostrapping mean (estimated run time ~30 seconds)...\")\n",
    "# bins=np.arange(0,450,1)\n",
    "# bins=np.arange(0,1800,5)\n",
    "bins=np.arange(0,2800,5)\n",
    "df_bootstrap=bin_and_bootstrap_xy_values_parallel(x_values_in,\n",
    "                               y_values_in,\n",
    "                               xlabel='tdeath_avg',\n",
    "                               ylabel='MSR',\n",
    "                               bins=bins,\n",
    "                               min_numobs=10,\n",
    "                               num_bootstrap_samples=1000,\n",
    "                               npartitions=10,\n",
    "                               use_test=False)\n",
    "df_bootstrap.head()"
   ]
  },
  {
   "cell_type": "code",
   "execution_count": 48,
   "id": "bcc82139",
   "metadata": {
    "ExecuteTime": {
     "end_time": "2022-08-03T20:14:46.612914Z",
     "start_time": "2022-08-03T20:14:46.581155Z"
    },
    "scrolled": true
   },
   "outputs": [
    {
     "data": {
      "text/html": [
       "<div>\n",
       "<style scoped>\n",
       "    .dataframe tbody tr th:only-of-type {\n",
       "        vertical-align: middle;\n",
       "    }\n",
       "\n",
       "    .dataframe tbody tr th {\n",
       "        vertical-align: top;\n",
       "    }\n",
       "\n",
       "    .dataframe thead th {\n",
       "        text-align: right;\n",
       "    }\n",
       "</style>\n",
       "<table border=\"1\" class=\"dataframe\">\n",
       "  <thead>\n",
       "    <tr style=\"text-align: right;\">\n",
       "      <th></th>\n",
       "      <th>tdeath_avg</th>\n",
       "      <th>MSR</th>\n",
       "      <th>Delta_tdeath_avg</th>\n",
       "      <th>Delta_MSR</th>\n",
       "      <th>p_tdeath_avg</th>\n",
       "      <th>p_MSR</th>\n",
       "      <th>counts</th>\n",
       "    </tr>\n",
       "  </thead>\n",
       "  <tbody>\n",
       "    <tr>\n",
       "      <th>438</th>\n",
       "      <td>2192.000000</td>\n",
       "      <td>3.007108</td>\n",
       "      <td>0.743209</td>\n",
       "      <td>0.829375</td>\n",
       "      <td>0.027828</td>\n",
       "      <td>0.002086</td>\n",
       "      <td>15</td>\n",
       "    </tr>\n",
       "    <tr>\n",
       "      <th>439</th>\n",
       "      <td>2197.000000</td>\n",
       "      <td>2.913808</td>\n",
       "      <td>0.687087</td>\n",
       "      <td>0.765427</td>\n",
       "      <td>0.385846</td>\n",
       "      <td>0.128948</td>\n",
       "      <td>15</td>\n",
       "    </tr>\n",
       "    <tr>\n",
       "      <th>440</th>\n",
       "      <td>2202.000000</td>\n",
       "      <td>2.820983</td>\n",
       "      <td>0.724539</td>\n",
       "      <td>0.783556</td>\n",
       "      <td>0.497094</td>\n",
       "      <td>0.593103</td>\n",
       "      <td>15</td>\n",
       "    </tr>\n",
       "    <tr>\n",
       "      <th>441</th>\n",
       "      <td>2207.000000</td>\n",
       "      <td>2.769535</td>\n",
       "      <td>0.701299</td>\n",
       "      <td>0.772485</td>\n",
       "      <td>0.985274</td>\n",
       "      <td>0.707530</td>\n",
       "      <td>15</td>\n",
       "    </tr>\n",
       "    <tr>\n",
       "      <th>442</th>\n",
       "      <td>2211.769231</td>\n",
       "      <td>2.839979</td>\n",
       "      <td>0.739731</td>\n",
       "      <td>0.878036</td>\n",
       "      <td>0.221291</td>\n",
       "      <td>0.504151</td>\n",
       "      <td>13</td>\n",
       "    </tr>\n",
       "  </tbody>\n",
       "</table>\n",
       "</div>"
      ],
      "text/plain": [
       "      tdeath_avg       MSR  Delta_tdeath_avg  Delta_MSR  p_tdeath_avg  \\\n",
       "438  2192.000000  3.007108          0.743209   0.829375      0.027828   \n",
       "439  2197.000000  2.913808          0.687087   0.765427      0.385846   \n",
       "440  2202.000000  2.820983          0.724539   0.783556      0.497094   \n",
       "441  2207.000000  2.769535          0.701299   0.772485      0.985274   \n",
       "442  2211.769231  2.839979          0.739731   0.878036      0.221291   \n",
       "\n",
       "        p_MSR  counts  \n",
       "438  0.002086      15  \n",
       "439  0.128948      15  \n",
       "440  0.593103      15  \n",
       "441  0.707530      15  \n",
       "442  0.504151      13  "
      ]
     },
     "execution_count": 48,
     "metadata": {},
     "output_type": "execute_result"
    }
   ],
   "source": [
    "df_bootstrap.tail()"
   ]
  },
  {
   "cell_type": "code",
   "execution_count": 49,
   "id": "6feea9bc",
   "metadata": {
    "ExecuteTime": {
     "end_time": "2022-08-03T20:14:46.715530Z",
     "start_time": "2022-08-03T20:14:46.691833Z"
    }
   },
   "outputs": [
    {
     "data": {
      "text/plain": [
       "((443,), (443,), (443,))"
      ]
     },
     "execution_count": 49,
     "metadata": {},
     "output_type": "execute_result"
    }
   ],
   "source": [
    "x_values=df_bootstrap['tdeath_avg'].values\n",
    "y_values=df_bootstrap['MSR'].values\n",
    "yerr_values=df_bootstrap['Delta_MSR'].values\n",
    "x_values.shape,y_values.shape,yerr_values.shape"
   ]
  },
  {
   "cell_type": "code",
   "execution_count": 50,
   "id": "17fe57c4",
   "metadata": {
    "ExecuteTime": {
     "end_time": "2022-08-03T20:14:47.007417Z",
     "start_time": "2022-08-03T20:14:46.805786Z"
    }
   },
   "outputs": [
    {
     "name": "stdout",
     "output_type": "stream",
     "text": [
      "Does this appear to intersect at zero?\n"
     ]
    },
    {
     "data": {
      "image/png": "[encoded data removed]",
      "text/plain": [
       "<Figure size 640x480 with 1 Axes>"
      ]
     },
     "metadata": {},
     "output_type": "display_data"
    }
   ],
   "source": [
    "print(f\"Does this appear to intersect at zero?\")\n",
    "c='C0'\n",
    "plt.plot(x_values,y_values,lw=2,alpha=0.8,c=c)\n",
    "plt.fill_between(x_values,y_values-yerr_values,y_values+yerr_values,lw=2,alpha=0.4,color=c)\n",
    "format_plot(ax=plt.gca(),xlabel=r'$t_f-t$ (ms)',ylabel=r'MSR (cm$^2$)')\n",
    "# plt.xlim([0,180])\n",
    "# plt.ylim([0,3.1])\n",
    "plt.xlim([0,15])\n",
    "plt.ylim([-.1,1])\n",
    "plt.show()"
   ]
  },
  {
   "cell_type": "code",
   "execution_count": 51,
   "id": "aa4bbaba",
   "metadata": {
    "ExecuteTime": {
     "end_time": "2022-08-03T20:14:47.264379Z",
     "start_time": "2022-08-03T20:14:47.133720Z"
    },
    "scrolled": true
   },
   "outputs": [
    {
     "data": {
      "image/png": "[encoded data removed]",
      "text/plain": [
       "<Figure size 400x420 with 1 Axes>"
      ]
     },
     "metadata": {},
     "output_type": "display_data"
    }
   ],
   "source": [
    "#plot expected\n",
    "fig,ax=plt.subplots(figsize=(4,4.2))\n",
    "# ax.plot(x_values,4*9.5*1e-3*x_values,'--',lw=2,alpha=0.8,c='C1')\n",
    "# ax.plot(x_values,4*1.8*1e-3*x_values,'--',lw=2,alpha=0.8,c='C0')\n",
    "#plot data\n",
    "ax.plot(x_values,y_values,lw=2,alpha=0.8,c=c)\n",
    "ax.fill_between(x_values,y_values-yerr_values,y_values+yerr_values,lw=2,alpha=0.4,color=c)\n",
    "format_plot(ax=ax,xlabel=r'$t_f-t$ (ms)',ylabel=r'MSR (cm$^2$)')\n",
    "ax.set_xlim([0,200])\n",
    "ax.set_ylim([0,8])\n",
    "plt.show()"
   ]
  },
  {
   "cell_type": "code",
   "execution_count": 52,
   "id": "9db8947f",
   "metadata": {
    "ExecuteTime": {
     "end_time": "2022-08-03T20:14:47.504186Z",
     "start_time": "2022-08-03T20:14:47.374099Z"
    }
   },
   "outputs": [
    {
     "data": {
      "image/png": "[encoded data removed]",
      "text/plain": [
       "<Figure size 800x420 with 1 Axes>"
      ]
     },
     "metadata": {},
     "output_type": "display_data"
    }
   ],
   "source": [
    "c='C0'\n",
    "# c='C1'\n",
    "\n",
    "#plot expected\n",
    "fig,ax=plt.subplots(figsize=(8,4.2))\n",
    "# ax.plot(x_values,4*9.5*1e-3*x_values,'--',lw=2,alpha=0.8,c='C1')\n",
    "# ax.plot(x_values,4*1.8*1e-3*x_values,'--',lw=2,alpha=0.8,c='C0')\n",
    "#plot data\n",
    "ax.plot(x_values,y_values,lw=2,alpha=0.8,c=c)\n",
    "ax.fill_between(x_values,y_values-yerr_values,y_values+yerr_values,lw=2,alpha=0.4,color=c)\n",
    "format_plot(ax=ax,xlabel=r'$t_f-t$ (ms)',ylabel=r'MSR (cm$^2$)')\n",
    "ax.set_xlim([0,2000])\n",
    "ax.set_ylim([0,8])\n",
    "plt.show()"
   ]
  },
  {
   "cell_type": "code",
   "execution_count": 53,
   "id": "0b5a61ab",
   "metadata": {
    "ExecuteTime": {
     "end_time": "2022-08-03T20:14:47.674174Z",
     "start_time": "2022-08-03T20:14:47.640740Z"
    }
   },
   "outputs": [
    {
     "name": "stdout",
     "output_type": "stream",
     "text": [
      "msr_dir_bootstrap='/home/timothytyree/Documents/GitHub/care/notebooks/Data/from_wjr/positions_fk/200x200/tippos_per_c_001_creation_msr.csv'\n"
     ]
    }
   ],
   "source": [
    "#save msr as .csv\n",
    "msr_dir_bootstrap=range_data_dir.replace('_range_timeseries.pkl','_msr.csv')\n",
    "df_bootstrap.to_csv(msr_dir_bootstrap,index=False)\n",
    "print(f\"{msr_dir_bootstrap=}\")"
   ]
  },
  {
   "cell_type": "code",
   "execution_count": 263,
   "id": "c0368a36",
   "metadata": {
    "ExecuteTime": {
     "end_time": "2022-07-27T03:40:26.054210Z",
     "start_time": "2022-07-27T03:40:26.038215Z"
    }
   },
   "outputs": [],
   "source": [
    "# search_for_file()\n"
   ]
  },
  {
   "cell_type": "code",
   "execution_count": 264,
   "id": "c2abd399",
   "metadata": {
    "ExecuteTime": {
     "end_time": "2022-07-27T03:40:26.466030Z",
     "start_time": "2022-07-27T03:40:26.441459Z"
    }
   },
   "outputs": [],
   "source": [
    "# input_dir='/home/timothytyree/Documents/GitHub/care/notebooks/Data/initial-conditions-fk-200x200/param_set_8_ds_5.0_tmax_10_diffCoef_0.0005/Log/ic200x200.0.1_log.csv'\n",
    "# input_folder=os.path.dirname(input_dir)\n",
    "# fn_lst=[os.path.join(input_folder,x) for x in sorted(os.listdir(input_folder)) if x.find('_log.csv')!=-1]\n",
    "# print(f\"found {len(fn_lst)} files comparable to {fn_lst[0]}\")\n"
   ]
  },
  {
   "cell_type": "markdown",
   "id": "78335997",
   "metadata": {
    "heading_collapsed": true
   },
   "source": [
    "# MSR-Consistent Theory"
   ]
  },
  {
   "cell_type": "markdown",
   "id": "624f187a",
   "metadata": {
    "hidden": true
   },
   "source": [
    "$\\text{MSR}_\\text{Lin.}(t')=4\\Big(2Dt'+a_0t'\\Big)$"
   ]
  },
  {
   "cell_type": "markdown",
   "id": "2555f4a2",
   "metadata": {
    "ExecuteTime": {
     "end_time": "2022-07-27T04:26:41.139957Z",
     "start_time": "2022-07-27T04:26:41.121485Z"
    },
    "hidden": true
   },
   "source": [
    "$\\text{MSR}_\\text{Aff.Osc.}(t')=4\\Big(2Dt'+a_0t'+\\frac{a_1}{\\omega} \\big(\\sin(\\omega t' + \\phi_f)-\\sin(\\phi_f) \\big)\\Big)$"
   ]
  },
  {
   "cell_type": "markdown",
   "id": "f2001c1d",
   "metadata": {
    "ExecuteTime": {
     "end_time": "2022-06-22T17:50:35.907391Z",
     "start_time": "2022-06-22T17:50:35.850414Z"
    },
    "hidden": true
   },
   "source": [
    "Our hypothesis is that the range between particles is consistent between the two particle models in the mean square.  In other words,\n",
    "$$\n",
    "\\mathbb{E}_{\\Gamma/2}\\Big[\\text{MSR}_\\text{Lin.}\\Big] \\overset{!}{=} \\mathbb{E}_{\\Gamma/2}\\Big[\\text{MSR}_\\text{Aff.Osc}\\Big].\n",
    "$$\n",
    "\n",
    "Let $z=\\omega(\\Gamma/2)$, $D_\\text{Aff.Osc.}=D_\\text{Lin.}=D=$constant, and let $\\phi_f=0$. Then, the aforementioned _ansatz_ simplifies to\n",
    "\n",
    "$$\n",
    "a_\\text{Lin.}=a_0 + \\frac{a_1}{1+z^2}.\n",
    "$$\n"
   ]
  },
  {
   "cell_type": "markdown",
   "id": "9dcb4e60",
   "metadata": {
    "hidden": true
   },
   "source": [
    "For general $\\phi_f\\in\\mathbb{R}$, the aforementioned _ansatz_ simplifies to\n",
    "\n",
    "$$\n",
    "a_\\text{Lin.}=a_0 + a_1\\frac{\\cos(\\phi_f)-z\\sin(\\phi_f)}{1+z^2}.\n",
    "$$"
   ]
  },
  {
   "cell_type": "code",
   "execution_count": 265,
   "id": "da28fd84",
   "metadata": {
    "ExecuteTime": {
     "end_time": "2022-07-27T03:40:27.787145Z",
     "start_time": "2022-07-27T03:40:27.766720Z"
    },
    "hidden": true
   },
   "outputs": [
    {
     "name": "stdout",
     "output_type": "stream",
     "text": [
      "a0=5.4959, a1=6.2230, z=0.7000, phase=-1.1497 --> alinear=9.8712\n"
     ]
    }
   ],
   "source": [
    "#WJ'S informal fit from fortran\n",
    "#predicted values\n",
    "a0=5.4958675607488825 #cm^2/s\n",
    "a1=6.2229999145162314 #cm^2/s\n",
    "period=179.51957944083097 #ms\n",
    "# phase=1.1497012691466562\n",
    "# phase=0\n",
    "phase=-1.1497012691466562\n",
    "Gamma = 20 #ms\n",
    "\n",
    "\n",
    "omega = 2*np.pi/period\n",
    "z = Gamma*omega\n",
    "alinear=a0 + a1*(np.cos(phase)-z*np.sin(phase))/(1 + z**2)\n",
    "print(f\"{a0=:.4f}, {a1=:.4f}, {z=:.4f}, {phase=:.4f} --> {alinear=:.4f}\")"
   ]
  },
  {
   "cell_type": "markdown",
   "id": "9806372a",
   "metadata": {},
   "source": [
    "# Fir MSR(t') to a pure diffusing particle model"
   ]
  },
  {
   "cell_type": "code",
   "execution_count": 91,
   "id": "096d8edb",
   "metadata": {
    "ExecuteTime": {
     "end_time": "2022-08-03T20:56:18.181055Z",
     "start_time": "2022-08-03T20:56:18.158957Z"
    }
   },
   "outputs": [
    {
     "data": {
      "text/plain": [
       "((448,), (448,), (448,))"
      ]
     },
     "execution_count": 91,
     "metadata": {},
     "output_type": "execute_result"
    }
   ],
   "source": [
    "msr_dir_bootstrap='/home/timothytyree/Documents/GitHub/care/notebooks/Data/from_wjr/tippos_per_001_annihilation_msr.csv'\n",
    "# msr_dir_bootstrap='/home/timothytyree/Documents/GitHub/care/notebooks/Data/from_wjr/positions_fk/200x200/tippos_per_c_001_creation_msr.csv'\n",
    "msr_dir_bootstrap='/home/timothytyree/Documents/GitHub/care/notebooks/Data/from_wjr/positions_fk/200x200/tippos_per_c_001_annihilation_msr.csv'\n",
    "\n",
    "df_bootstrap=pd.read_csv(msr_dir_bootstrap)\n",
    "\n",
    "\n",
    "x_values=df_bootstrap['tdeath_avg'].values\n",
    "y_values=df_bootstrap['MSR'].values\n",
    "yerr_values=df_bootstrap['Delta_MSR'].values\n",
    "x_values.shape,y_values.shape,yerr_values.shape"
   ]
  },
  {
   "cell_type": "code",
   "execution_count": 99,
   "id": "bc54ab4b",
   "metadata": {
    "ExecuteTime": {
     "end_time": "2022-08-03T20:58:29.273072Z",
     "start_time": "2022-08-03T20:58:29.252589Z"
    }
   },
   "outputs": [
    {
     "data": {
      "text/plain": [
       "(180,)"
      ]
     },
     "execution_count": 99,
     "metadata": {},
     "output_type": "execute_result"
    }
   ],
   "source": [
    "# select msr from the full models for fitting\n",
    "min_tdeath=100. #ms  #LR\n",
    "# min_tdeath=300. #ms  #FK \n",
    "min_tdeath=600. #ms  #FK \n",
    "max_tdeath=1500. #ms  #FK \n",
    "printing=True\n",
    "\n",
    "boo=x_values>=min_tdeath\n",
    "boo&=x_values<max_tdeath\n",
    "t_values=x_values[boo].copy()*1e-3\n",
    "msr_values=y_values[boo].copy() \n",
    "# msr_values-= np.min(msr_values)\n",
    "msr_values.shape"
   ]
  },
  {
   "cell_type": "code",
   "execution_count": 100,
   "id": "693185d5",
   "metadata": {
    "ExecuteTime": {
     "end_time": "2022-08-03T20:58:30.331546Z",
     "start_time": "2022-08-03T20:58:30.299729Z"
    }
   },
   "outputs": [
    {
     "name": "stdout",
     "output_type": "stream",
     "text": [
      "D = m/8 = 0.1145 +/- 0.007987364738330576 (using timepoints after 600.0 ms)\n",
      "m=0.9159637025402401\n",
      "Delta_m=0.0638989179066446\n",
      "b=2.7504493323500476\n",
      "Delta_b=0.06908570277749781\n",
      "Rsquared=0.8159963094883473\n"
     ]
    }
   ],
   "source": [
    "dict_output = compute_95CI_ols(x=t_values,y=msr_values)\n",
    "D = dict_output['m']/8\n",
    "Delta_D = dict_output['Delta_m']/8\n",
    "if printing:\n",
    "    print(f\"D = m/8 = {D:.4f} +/- {Delta_D} (using timepoints after {min_tdeath} ms)\")\n",
    "    print_dict(dict_output)"
   ]
  },
  {
   "cell_type": "code",
   "execution_count": null,
   "id": "a41f57ba",
   "metadata": {},
   "outputs": [],
   "source": []
  },
  {
   "cell_type": "code",
   "execution_count": null,
   "id": "d7518ce8",
   "metadata": {},
   "outputs": [],
   "source": []
  },
  {
   "cell_type": "code",
   "execution_count": 101,
   "id": "b381163e",
   "metadata": {
    "ExecuteTime": {
     "end_time": "2022-08-03T20:58:35.726271Z",
     "start_time": "2022-08-03T20:58:35.604791Z"
    }
   },
   "outputs": [
    {
     "data": {
      "image/png": "[encoded data removed]",
      "text/plain": [
       "<Figure size 800x420 with 1 Axes>"
      ]
     },
     "metadata": {},
     "output_type": "display_data"
    }
   ],
   "source": [
    "c='C0'\n",
    "# c='C1'\n",
    "xlim = [0,2000]\n",
    "#plot expected\n",
    "fig,ax=plt.subplots(figsize=(8,4.2))\n",
    "# ax.plot(x_values,4*9.5*1e-3*x_values,'--',lw=2,alpha=0.8,c='C1')\n",
    "# ax.plot(x_values,4*1.8*1e-3*x_values,'--',lw=2,alpha=0.8,c='C0')\n",
    "#plot data\n",
    "ax.plot(x_values,y_values,lw=2,alpha=0.8,c=c)\n",
    "ax.fill_between(x_values,y_values-yerr_values,y_values+yerr_values,lw=2,alpha=0.4,color=c)\n",
    "\n",
    "#plot linear fit\n",
    "xv = np.arange(xlim[0],xlim[1],1)\n",
    "yv = 1e-3*dict_output['m']*xv + dict_output['b']\n",
    "ax.plot(xv,yv,'k--',lw=2,alpha=0.8)\n",
    "\n",
    "#format plot\n",
    "format_plot(ax=ax,xlabel=r'$t_f-t$ (ms)',ylabel=r'MSR (cm$^2$)')\n",
    "ax.set_xlim(xlim)\n",
    "ax.set_ylim([0,8])\n",
    "plt.show()"
   ]
  },
  {
   "cell_type": "markdown",
   "id": "28e85d04",
   "metadata": {},
   "source": [
    "# Fit MSR(t') to the affine oscillatory model"
   ]
  },
  {
   "cell_type": "markdown",
   "id": "f6d1dc3c",
   "metadata": {},
   "source": [
    "## load MSR(t') data"
   ]
  },
  {
   "cell_type": "code",
   "execution_count": 266,
   "id": "4dffd4c2",
   "metadata": {
    "ExecuteTime": {
     "end_time": "2022-07-27T03:40:28.776645Z",
     "start_time": "2022-07-27T03:40:28.759753Z"
    }
   },
   "outputs": [],
   "source": [
    "# # #######################\n",
    "# # # Luo-Rudy\n",
    "# # #######################\n",
    "# # #WJ's data for LR model (200x200)\n",
    "# # # msr_dir_bootstrap='/home/timothytyree/Documents/GitHub/care/notebooks/Data/from_wjr/tippos_per_001_annihilation_msr.csv'\n",
    "# msr_dir_bootstrap='/home/timothytyree/Documents/GitHub/care/notebooks/Data/from_wjr/tippos_per_001_annihilation_msr.csv'\n",
    "\n",
    "# # # #my data for LR model (200x200) diffCoeff=0.001\n",
    "# # # msr_dir_bootstrap='/home/timothytyree/Documents/GitHub/care/notebooks/Data/initial-conditions-suite-3-LR/ds_5_param_qu_tmax_30_Ko_5.4_diffCoef_0.001/annihilation_msr.csv'\n",
    "# # # #my data for LR model (200x200) diffCoeff=0.0005\n",
    "# # # msr_dir_bootstrap='/home/timothytyree/Documents/GitHub/care/notebooks/Data/initial-conditions-suite-3-LR/param_qu_tmax_30_Ko_5.4_diffCoef_0.0005_dt_0.5/annihilation_msr.csv'\n",
    "\n",
    "# # #######################\n",
    "# # # Fenton-Karma\n",
    "# # #######################\n",
    "# msr_dir_bootstrap='/home/timothytyree/Documents/GitHub/care/notebooks/Data/initial-conditions-fk-200x200/param_set_8_ds_5.0_tmax_30_diffCoef_0.001_dt_1/annihilation_msr.csv'\n",
    "# # # msr_dir_bootstrap='/home/timothytyree/Documents/GitHub/care/notebooks/Data/initial-conditions-fk-200x200/param_set_8_ds_5.0_tmax_10_diffCoef_0.0005/annihilation_msr.csv'\n",
    "# # msr_dir_bootstrap='/home/timothytyree/Documents/GitHub/care/notebooks/Data/initial-conditions-fk-200x200/param_set_8_ds_5.0_tmax_30_diffCoef_0.001_dt_1/annihilation_msr.csv'"
   ]
  },
  {
   "cell_type": "code",
   "execution_count": 267,
   "id": "9dba7625",
   "metadata": {
    "ExecuteTime": {
     "end_time": "2022-07-27T03:40:29.528579Z",
     "start_time": "2022-07-27T03:40:29.508134Z"
    }
   },
   "outputs": [],
   "source": [
    "# #######################\n",
    "# # Luo-Rudy\n",
    "# #######################\n",
    "# # #WJ's data for LR model (200x200) diffCoeff=0.001\n",
    "# # msr_dir_bootstrap=f'{nb_dir}/Data/range_timeseries/from_wjr_lr_200x200_diffcoeff_0.001/tippos_per_001_annihilation_msr.csv'\n",
    "# # # # #my data for LR model (200x200) diffCoeff=0.001\n",
    "# msr_dir_bootstrap=f'{nb_dir}/Data/range_timeseries/initial-conditions-suite-3-LR_ds_5_param_qu_tmax_30_Ko_5.4_diffCoef_0.001/annihilation_msr.csv'\n",
    "# # # # #my data for LR model (200x200) diffCoeff=0.0005\n",
    "# # msr_dir_bootstrap=f'{nb_dir}/Data/range_timeseries/initial-condition-suite-3-LR_param_qu_tmax_30_Ko_5.4_diffCoef_0.0005_dt_0.5/annihilation_msr.csv'\n",
    "\n",
    "# # # #######################\n",
    "# # # # Fenton-Karma\n",
    "# # # #######################\n",
    "# msr_dir_bootstrap=f'{nb_dir}/Data/range_timeseries/initial-conditions-fk-200x200_param_set_8_ds_5.0_tmax_10_diffCoef_0.0005/annihilation_msr.csv'\n",
    "# # msr_dir_bootstrap=f'{nb_dir}/Data/range_timeseries/initial-conditions-fk-200x200_param_set_8_ds_5.0_tmax_30_diffCoef_0.001_dt_1/annihilation_msr.csv'\n",
    "\n",
    "# msr_dir_bootstrap='/home/timothytyree/Documents/GitHub/care/notebooks/Data/from_wjr/positions_fk/200x200/tippos_per_c_001_annihilation_msr.csv'\n",
    "# # mean lifetime: 105.3196 +/- 1.5647 ms (N=36179, p_normal=0.4417)\n",
    "\n",
    "# # #150x150\n",
    "# # msr_dir_bootstrap='/home/timothytyree/Documents/GitHub/care/notebooks/Data/from_wjr/positions_fk/150x150/tippos_per_c_001_annihilation_msr.csv'\n",
    "# # #200x200\n",
    "# # msr_dir_bootstrap='/home/timothytyree/Documents/GitHub/care/notebooks/Data/from_wjr/positions_fk/200x200/tippos_per_c_001_annihilation_msr.csv'\n",
    "# #250x250\n",
    "# msr_dir_bootstrap='/home/timothytyree/Documents/GitHub/care/notebooks/Data/from_wjr/positions_fk/250x250/tippos_per_001_annihilation_msr.csv'\n",
    "# # tippos_per_001_annihilation_range_timeseries.pkl\n"
   ]
  },
  {
   "cell_type": "code",
   "execution_count": 54,
   "id": "91a93b9f",
   "metadata": {
    "ExecuteTime": {
     "end_time": "2022-08-03T20:14:47.859278Z",
     "start_time": "2022-08-03T20:14:47.826545Z"
    }
   },
   "outputs": [
    {
     "name": "stdout",
     "output_type": "stream",
     "text": [
      "msr_dir_bootstrap='/home/timothytyree/Documents/GitHub/care/notebooks/Data/from_wjr/positions_fk/200x200/tippos_per_c_001_creation_msr.csv'\n"
     ]
    }
   ],
   "source": [
    "print(f\"{msr_dir_bootstrap=}\")"
   ]
  },
  {
   "cell_type": "code",
   "execution_count": 33,
   "id": "e1c36a4b",
   "metadata": {
    "ExecuteTime": {
     "end_time": "2022-08-03T19:51:51.869794Z",
     "start_time": "2022-08-03T19:51:51.851175Z"
    }
   },
   "outputs": [],
   "source": [
    "msr_dir_bootstrap='/home/timothytyree/Documents/GitHub/care/notebooks/Data/from_wjr/tippos_per_001_annihilation_msr.csv'\n",
    "msr_dir_bootstrap='/home/timothytyree/Documents/GitHub/care/notebooks/Data/from_wjr/tippos_per_001_creation_msr.csv'"
   ]
  },
  {
   "cell_type": "code",
   "execution_count": 55,
   "id": "9bc6945d",
   "metadata": {
    "ExecuteTime": {
     "end_time": "2022-08-03T20:14:48.023084Z",
     "start_time": "2022-08-03T20:14:47.990898Z"
    }
   },
   "outputs": [
    {
     "data": {
      "text/html": [
       "<div>\n",
       "<style scoped>\n",
       "    .dataframe tbody tr th:only-of-type {\n",
       "        vertical-align: middle;\n",
       "    }\n",
       "\n",
       "    .dataframe tbody tr th {\n",
       "        vertical-align: top;\n",
       "    }\n",
       "\n",
       "    .dataframe thead th {\n",
       "        text-align: right;\n",
       "    }\n",
       "</style>\n",
       "<table border=\"1\" class=\"dataframe\">\n",
       "  <thead>\n",
       "    <tr style=\"text-align: right;\">\n",
       "      <th></th>\n",
       "      <th>tdeath_avg</th>\n",
       "      <th>MSR</th>\n",
       "      <th>Delta_tdeath_avg</th>\n",
       "      <th>Delta_MSR</th>\n",
       "      <th>p_tdeath_avg</th>\n",
       "      <th>p_MSR</th>\n",
       "      <th>counts</th>\n",
       "    </tr>\n",
       "  </thead>\n",
       "  <tbody>\n",
       "    <tr>\n",
       "      <th>0</th>\n",
       "      <td>1.954738</td>\n",
       "      <td>0.104196</td>\n",
       "      <td>0.006943</td>\n",
       "      <td>0.000644</td>\n",
       "      <td>0.044994</td>\n",
       "      <td>0.833478</td>\n",
       "      <td>171203</td>\n",
       "    </tr>\n",
       "    <tr>\n",
       "      <th>1</th>\n",
       "      <td>6.971877</td>\n",
       "      <td>0.282938</td>\n",
       "      <td>0.007053</td>\n",
       "      <td>0.001404</td>\n",
       "      <td>0.454426</td>\n",
       "      <td>0.287051</td>\n",
       "      <td>155426</td>\n",
       "    </tr>\n",
       "    <tr>\n",
       "      <th>2</th>\n",
       "      <td>11.978182</td>\n",
       "      <td>0.424489</td>\n",
       "      <td>0.007191</td>\n",
       "      <td>0.002171</td>\n",
       "      <td>0.256099</td>\n",
       "      <td>0.136413</td>\n",
       "      <td>146255</td>\n",
       "    </tr>\n",
       "    <tr>\n",
       "      <th>3</th>\n",
       "      <td>16.976390</td>\n",
       "      <td>0.539158</td>\n",
       "      <td>0.007494</td>\n",
       "      <td>0.002784</td>\n",
       "      <td>0.799465</td>\n",
       "      <td>0.861545</td>\n",
       "      <td>138415</td>\n",
       "    </tr>\n",
       "    <tr>\n",
       "      <th>4</th>\n",
       "      <td>21.973395</td>\n",
       "      <td>0.640163</td>\n",
       "      <td>0.007318</td>\n",
       "      <td>0.003556</td>\n",
       "      <td>0.846103</td>\n",
       "      <td>0.877807</td>\n",
       "      <td>129901</td>\n",
       "    </tr>\n",
       "  </tbody>\n",
       "</table>\n",
       "</div>"
      ],
      "text/plain": [
       "   tdeath_avg       MSR  Delta_tdeath_avg  Delta_MSR  p_tdeath_avg     p_MSR  \\\n",
       "0    1.954738  0.104196          0.006943   0.000644      0.044994  0.833478   \n",
       "1    6.971877  0.282938          0.007053   0.001404      0.454426  0.287051   \n",
       "2   11.978182  0.424489          0.007191   0.002171      0.256099  0.136413   \n",
       "3   16.976390  0.539158          0.007494   0.002784      0.799465  0.861545   \n",
       "4   21.973395  0.640163          0.007318   0.003556      0.846103  0.877807   \n",
       "\n",
       "   counts  \n",
       "0  171203  \n",
       "1  155426  \n",
       "2  146255  \n",
       "3  138415  \n",
       "4  129901  "
      ]
     },
     "execution_count": 55,
     "metadata": {},
     "output_type": "execute_result"
    }
   ],
   "source": [
    "df_bootstrap=pd.read_csv(msr_dir_bootstrap)\n",
    "df_bootstrap.head()"
   ]
  },
  {
   "cell_type": "code",
   "execution_count": null,
   "id": "ed34154c",
   "metadata": {},
   "outputs": [],
   "source": []
  },
  {
   "cell_type": "code",
   "execution_count": 56,
   "id": "20474ed4",
   "metadata": {
    "ExecuteTime": {
     "end_time": "2022-08-03T20:14:48.355184Z",
     "start_time": "2022-08-03T20:14:48.147231Z"
    }
   },
   "outputs": [
    {
     "data": {
      "image/png": "[encoded data removed]",
      "text/plain": [
       "<Figure size 400x420 with 1 Axes>"
      ]
     },
     "metadata": {},
     "output_type": "display_data"
    }
   ],
   "source": [
    "#plot expected\n",
    "# c='C0'\n",
    "c='C1'\n",
    "c='k'\n",
    "# figsize=(8,4.2)\n",
    "figsize=(4,4.2)\n",
    "\n",
    "x_values=df_bootstrap['tdeath_avg'].values\n",
    "y_values=df_bootstrap['MSR'].values\n",
    "yerr_values=df_bootstrap['Delta_MSR'].values\n",
    "x_values.shape,y_values.shape,yerr_values.shape\n",
    "\n",
    "fig,ax=plt.subplots(figsize=figsize)\n",
    "# ax.plot(x_values,4*9.5*1e-3*x_values,'--',lw=2,alpha=0.8,c='C1')\n",
    "# ax.plot(x_values,4*1.8*1e-3*x_values,'--',lw=2,alpha=0.8,c='C0')\n",
    "#plot data\n",
    "ax.plot(x_values,y_values,lw=2,alpha=0.8,c=c)\n",
    "ax.fill_between(x_values,y_values-yerr_values,y_values+yerr_values,lw=2,alpha=0.4,color=c)\n",
    "format_plot(ax=ax,xlabel=r'$t_f-t$ (ms)',ylabel=r'MSR (cm$^2$)')\n",
    "ax.set_xlim([0,200])\n",
    "# ax.set_xlim([0,2000])\n",
    "ax.set_ylim([0,8])\n",
    "plt.show()"
   ]
  },
  {
   "cell_type": "markdown",
   "id": "4e55a89e",
   "metadata": {},
   "source": [
    "## fit the full msr to the affine oscillatory msr using simulated annealing"
   ]
  },
  {
   "cell_type": "code",
   "execution_count": 57,
   "id": "5546f28f",
   "metadata": {
    "ExecuteTime": {
     "end_time": "2022-08-03T20:15:42.968008Z",
     "start_time": "2022-08-03T20:14:48.452212Z"
    }
   },
   "outputs": [
    {
     "name": "stdout",
     "output_type": "stream",
     "text": [
      "mean lifetime: 107.6628 +/- 1.7733 ms (N=35503, p_normal: 0.4894) from 80 termination events\n",
      "setting Gamma=107.6628, D=0...\n",
      "max_tdeath=300.0 ms\n",
      "src: msr_dir_bootstrap='/home/timothytyree/Documents/GitHub/care/notebooks/Data/from_wjr/positions_fk/200x200/tippos_per_c_001_creation_msr.csv'\n",
      "num. epochs: 10000\n",
      "simulated annealing fit: a0=2.6618, a1=2.9081, period=299.9999, phase=-1.5618 --> rmse=0.1507 cm^2\n",
      "\tattraction coefficient: a0=2.6618, a1=2.9081, z=2.2549, phase=-1.5618 --> alinear=3.7438 cm^2/s\n",
      "num. epochs: 100000\n",
      "simulated annealing fit: a0=2.6615, a1=2.9086, period=300.0000, phase=-1.5620 --> rmse=0.1507 cm^2\n",
      "\tattraction coefficient: a0=2.6615, a1=2.9086, z=2.2549, phase=-1.5620 --> alinear=3.7436 cm^2/s\n"
     ]
    }
   ],
   "source": [
    "# select msr from the full models for fitting\n",
    "# max_tdeath=100. #ms\n",
    "# max_tdeath=200. #ms\n",
    "max_tdeath=300. #ms\n",
    "printing=True\n",
    "\n",
    "\n",
    "#INPUT: FK MODEL\n",
    "boo=x_values<max_tdeath\n",
    "t_values=x_values[boo].copy()*1e-3\n",
    "msr_values=y_values[boo].copy() \n",
    "msr_values-= np.min(msr_values)\n",
    "# D=0.365 #cm^2/s, as observed\n",
    "# D=0.25 #cm^2/s, as observed more recently\n",
    "D=0. #cm^2/s, as observed more recently\n",
    "# # # Gamma = 100. # ~ 197/2 #ms #for predicting alinear only\n",
    "# Gamma = 93. #ms for FK 200x200, diffCoeff=0.0005\n",
    "# # Gamma = 87. #ms for FK 200x200, diffCoeff=0.001\n",
    "# # Gamma = 105.3196 #+/- 1.5647 ms (N=36179, p_normal=0.4417) diffCoeff=0.0005? 200x200\n",
    "# Gamma = 105.5460 #+/- 6.1482 ms (N=3220, p_normal=0.2679)  diffCoeff=0.0005? 150x150\n",
    "\n",
    "\n",
    "meanx,Delta_meanx,num_obsx,p_normalx=comp_mean_bootstrap_uncertainty(minlifetime_values)\n",
    "Gamma=float(meanx)\n",
    "if printing:\n",
    "#     print(f\"mean lifetime: {meanx:.4f} +/- {Delta_meanx:.4f} ms (N={num_obsx}, p_normal: {p_normalx:.4f})\")\n",
    "    print(f\"mean lifetime: {meanx:.4f} +/- {Delta_meanx:.4f} ms (N={num_obsx}, p_normal: {p_normalx:.4f}) from {num_termination_events} termination events\")\n",
    "    print(f\"setting {Gamma=:.4f}, {D=:.0f}...\")\n",
    "# Gamma = 200.#ms\n",
    "# msr_dir_bootstrap='/home/timothytyree/Documents/GitHub/care/notebooks/Data/from_wjr/positions_fk/200x200/tippos_per_c_001_annihilation_msr.csv'\n",
    "# mean lifetime: 105.3196 +/- 1.5647 ms (N=36179, p_normal=0.4417)\n",
    "\n",
    "# # #INPUT: LR MODEL\n",
    "# max_tdeath=100. #ms\n",
    "# boo=x_values<max_tdeath\n",
    "# t_values=x_values[boo].copy()*1e-3\n",
    "# msr_values=y_values[boo].copy()\n",
    "# msr_values-= np.min(msr_values)\n",
    "# D=0.58 #cm^2/s, as observed\n",
    "# Gamma = 33.4 # 20. # ~ 40/2 #ms #for predicting alinear only\n",
    "print(f\"{max_tdeath=} ms\")\n",
    "print(f\"src: {msr_dir_bootstrap=}\")\n",
    "\n",
    "maxiter=10000\n",
    "print(f\"num. epochs: {maxiter}\")\n",
    "res = anneal_msr_fit(t_values,msr_values,D,\n",
    "                   bounds = ((0, 100), (0, 100), (50, 300), (-3.15,3.15)),\n",
    "                   maxiter=maxiter,seed=42, no_local_search=True)#,**kwargs)\n",
    "rmse= np.sqrt(res.fun/t_values.shape[0])\n",
    "a0,a1,period,phase=res.x\n",
    "print(f\"simulated annealing fit: {a0=:.4f}, {a1=:.4f}, {period=:.4f}, {phase=:.4f} --> {rmse=:.4f} cm^2\")\n",
    "\n",
    "alinear = comp_alinear(a0,a1,period,Gamma,phase)\n",
    "omega = 2*np.pi/period\n",
    "z = Gamma*omega\n",
    "print(f\"\\tattraction coefficient: {a0=:.4f}, {a1=:.4f}, {z=:.4f}, {phase=:.4f} --> {alinear=:.4f} cm^2/s\")\n",
    "\n",
    "maxiter=100000\n",
    "print(f\"num. epochs: {maxiter}\")\n",
    "res = anneal_msr_fit(t_values,msr_values,D,\n",
    "                   bounds = ((0, 100), (0, 100), (50, 300), (-3.15,3.15)),\n",
    "                   maxiter=maxiter,seed=42+1, no_local_search=True)#,**kwargs)\n",
    "rmse= np.sqrt(res.fun/t_values.shape[0])\n",
    "a0,a1,period,phase=res.x\n",
    "print(f\"simulated annealing fit: {a0=:.4f}, {a1=:.4f}, {period=:.4f}, {phase=:.4f} --> {rmse=:.4f} cm^2\")\n",
    "\n",
    "alinear = comp_alinear(a0,a1,period,Gamma,phase)\n",
    "omega = 2*np.pi/period\n",
    "z = Gamma*omega\n",
    "print(f\"\\tattraction coefficient: {a0=:.4f}, {a1=:.4f}, {z=:.4f}, {phase=:.4f} --> {alinear=:.4f} cm^2/s\")"
   ]
  },
  {
   "cell_type": "code",
   "execution_count": 58,
   "id": "767a3254",
   "metadata": {
    "ExecuteTime": {
     "end_time": "2022-08-03T20:15:43.278457Z",
     "start_time": "2022-08-03T20:15:43.078870Z"
    }
   },
   "outputs": [
    {
     "data": {
      "image/png": "[encoded data removed]",
      "text/plain": [
       "<Figure size 300x300 with 1 Axes>"
      ]
     },
     "metadata": {},
     "output_type": "display_data"
    }
   ],
   "source": [
    "#visualize the fit zoomed\n",
    "boo=x_values<max_tdeath\n",
    "t_values=x_values[boo].copy()*1e-3\n",
    "\n",
    "figsize=(3,3)\n",
    "fontsize=10\n",
    "fig,ax=plt.subplots(figsize=figsize)\n",
    "period_of_oscillation=period*1e-3 #seconds\n",
    "omega=2*np.pi/period_of_oscillation\n",
    "msr_values_affoscillatory=4*((2*D+a0)*t_values+(a1/omega)*(np.sin(omega*t_values+phase)-np.sin(phase)))\n",
    "plt.plot(t_values,msr_values,label='full model')\n",
    "plt.plot(t_values,msr_values_affoscillatory,label='sim. anneal fit')\n",
    "# plt.plot(t_values,msr_values_affoscillatory,label='fit to full')\n",
    "format_plot(ax=plt.gca(),xlabel=r\"t' (s)\",ylabel=r\"MSR (cm$^2$)\",fontsize=fontsize)\n",
    "plt.legend(fontsize=fontsize)\n",
    "plt.show()"
   ]
  },
  {
   "cell_type": "code",
   "execution_count": 59,
   "id": "20ebf525",
   "metadata": {
    "ExecuteTime": {
     "end_time": "2022-08-03T20:15:43.515343Z",
     "start_time": "2022-08-03T20:15:43.382377Z"
    }
   },
   "outputs": [
    {
     "data": {
      "image/png": "[encoded data removed]",
      "text/plain": [
       "<Figure size 400x420 with 1 Axes>"
      ]
     },
     "metadata": {},
     "output_type": "display_data"
    }
   ],
   "source": [
    "xlabel=r'$t_f-t$ (ms)'\n",
    "xlabel=r'$t$ (ms)'\n",
    "\n",
    "#plot expected\n",
    "# c='C0'\n",
    "c='C1'\n",
    "# figsize=(8,4.2)\n",
    "figsize=(4,4.2)\n",
    "fontsize=14\n",
    "\n",
    "x_values=df_bootstrap['tdeath_avg'].values\n",
    "y_values=df_bootstrap['MSR'].values\n",
    "y_values-=np.min(y_values)\n",
    "yerr_values=df_bootstrap['Delta_MSR'].values\n",
    "\n",
    "t_values=x_values*1e-3\n",
    "msr_values_affoscillatory=4*((2*D+a0)*t_values+(a1/omega)*(np.sin(omega*t_values+phase)-np.sin(phase)))\n",
    "\n",
    "\n",
    "\n",
    "fig,ax=plt.subplots(figsize=figsize)\n",
    "# ax.plot(x_values,4*9.5*1e-3*x_values,'--',lw=2,alpha=0.8,c='C1')\n",
    "# ax.plot(x_values,4*1.8*1e-3*x_values,'--',lw=2,alpha=0.8,c='C0')\n",
    "#plot data\n",
    "ax.plot(x_values,y_values,lw=2,alpha=0.8,c=c, label='Full Model')\n",
    "ax.fill_between(x_values,y_values-yerr_values,y_values+yerr_values,lw=2,alpha=0.4,color=c)\n",
    "\n",
    "ax.plot(t_values*1e3,msr_values_affoscillatory,label='Sim. Anneal Fit',c='k',alpha=0.7)\n",
    "\n",
    "format_plot(ax=ax,xlabel=xlabel,ylabel=r'MSR (cm$^2$)',fontsize=fontsize)\n",
    "ax.set_xlim([0,500])\n",
    "# ax.set_xlim([0,2000])\n",
    "ax.set_ylim([0,8])\n",
    "plt.legend(fontsize=fontsize-2)\n",
    "\n",
    "plt.show()"
   ]
  },
  {
   "cell_type": "code",
   "execution_count": null,
   "id": "e532b011",
   "metadata": {},
   "outputs": [],
   "source": []
  },
  {
   "cell_type": "markdown",
   "id": "ed4ba319",
   "metadata": {
    "heading_collapsed": true
   },
   "source": [
    "# (supplementary) fit MSR(t') using fancy, complicated methods"
   ]
  },
  {
   "cell_type": "code",
   "execution_count": 590,
   "id": "2022cbc9",
   "metadata": {
    "ExecuteTime": {
     "end_time": "2022-07-08T20:06:57.616291Z",
     "start_time": "2022-07-08T20:06:57.578936Z"
    },
    "hidden": true
   },
   "outputs": [],
   "source": [
    "from scipy.optimize import minimize\n",
    "def comp_square_error_msr_period_fixed(x,*args):\n",
    "    \"\"\"phase is in radians. period is in milliseconds.  a0,a1 are in cm^2/s.\n",
    "\n",
    "Example Usage:\n",
    "x0=a0,a1,phase\n",
    "args=t_values,msr_values,D,period\n",
    "square_error=comp_square_error_msr_aff_osc(x0,*args)\n",
    "rmse=np.sqrt(square_error/t_values.shape[0])\n",
    "print(f\"{rmse=}\")\n",
    "    \"\"\"\n",
    "    a0,a1,phase=x\n",
    "    t_values,msr_values,D,period=args\n",
    "    omega=2*np.pi/period*1e3 #Hz bc period is in ms\n",
    "    msr_values_affoscillatory=4*((2*D+a0)*t_values+(a1/omega)*(np.sin(omega*t_values+phase)-np.sin(phase)))\n",
    "    square_error_msr=np.sum((msr_values_affoscillatory-msr_values)**2)\n",
    "    return square_error_msr"
   ]
  },
  {
   "cell_type": "code",
   "execution_count": 589,
   "id": "5caedf51",
   "metadata": {
    "ExecuteTime": {
     "end_time": "2022-07-08T20:04:31.778837Z",
     "start_time": "2022-07-08T20:04:31.302633Z"
    },
    "hidden": true,
    "scrolled": true
   },
   "outputs": [
    {
     "name": "stdout",
     "output_type": "stream",
     "text": [
      "m=14.413057752177012\n",
      "b=1.0696028305996794\n",
      "Rsquared=0.38314383286833603\n"
     ]
    },
    {
     "data": {
      "image/png": "[encoded data removed]",
      "text/plain": [
       "<Figure size 300x300 with 1 Axes>"
      ]
     },
     "metadata": {},
     "output_type": "display_data"
    },
    {
     "name": "stdout",
     "output_type": "stream",
     "text": [
      "rmse=0.2967137861796891\n",
      "baseline loss: rmse=0.2967 cm^2 (from a0=3.6033, a1=14.4131, period=100.0000, phase=-1.5708)\n",
      "method='Nelder-Mead': a0_=4.3331, a1_=12.6700, period_=104.4021, phase_=-1.0350, rmse=0.06022575035499659\n",
      "method='Powell': a0_=4.3330, a1_=12.6699, period_=104.4021, phase_=-1.0350, rmse=0.06022574586310302\n",
      "method='CG': a0_=4.3329, a1_=12.6701, period_=104.4021, phase_=-1.0350, rmse=0.06022575065235818\n",
      "method='BFGS': a0_=4.3331, a1_=12.6698, period_=104.4021, phase_=-1.0349, rmse=0.06022574402984597\n",
      "method='L-BFGS-B': a0_=4.3339, a1_=12.6684, period_=104.4021, phase_=-1.0348, rmse=0.060225857449732925\n",
      "method='TNC': a0_=4.2220, a1_=12.6540, period_=104.4021, phase_=-1.0781, rmse=0.06315296102878984\n",
      "method='COBYLA': a0_=4.3152, a1_=12.7670, period_=104.4021, phase_=-1.0336, rmse=0.06051079214409579\n",
      "method='SLSQP': a0_=4.3299, a1_=12.6710, period_=104.4021, phase_=-1.0361, rmse=0.06022781687964303\n",
      "method='trust-constr': a0_=4.3332, a1_=12.6699, period_=104.4021, phase_=-1.0349, rmse=0.06022574453792475\n"
     ]
    },
    {
     "data": {
      "image/png": "[encoded data removed]",
      "text/plain": [
       "<Figure size 300x300 with 1 Axes>"
      ]
     },
     "metadata": {},
     "output_type": "display_data"
    }
   ],
   "source": [
    "dict_output = comp_ols_simple(t_values,msr_values)\n",
    "print_dict(dict_output)\n",
    "#reasonable guess for a0\n",
    "a0 = dict_output['m']/4 #- 2*D\n",
    "a1 = float(a0)*4\n",
    "#reasonable guess for phi_f\n",
    "phase=-np.pi/2\n",
    "period=100 #ms\n",
    "\n",
    "#visualize the fitty\n",
    "figsize=(3,3)\n",
    "fontsize=10\n",
    "fig,ax=plt.subplots(figsize=figsize)\n",
    "period_of_oscillation=period*1e-3 #seconds\n",
    "omega=2*np.pi/period_of_oscillation\n",
    "msr_values_affoscillatory=4*((2*D+a0)*t_values+(a1/omega)*(np.sin(omega*t_values+phase)-np.sin(phase)))\n",
    "plt.plot(t_values,msr_values,label='full model')\n",
    "plt.plot(t_values,msr_values_affoscillatory,label='initial guess')\n",
    "# plt.plot(t_values,msr_values_affoscillatory,label='fit to full')\n",
    "format_plot(ax=plt.gca(),xlabel=r\"t' (s)\",ylabel=r\"MSR (cm$^2$)\",fontsize=fontsize)\n",
    "plt.legend(fontsize=fontsize)\n",
    "plt.show()\n",
    "\n",
    "x0=a0,a1,phase\n",
    "args=t_values,msr_values,D,period\n",
    "square_error=comp_square_error_msr_period_fixed(x0,*args)\n",
    "rmse=np.sqrt(square_error/t_values.shape[0])\n",
    "print(f\"baseline loss: {rmse=:.4f} cm^2 (from {a0=:.4f}, {a1=:.4f}, {period=:.4f}, {phase=:.4f})\")\n",
    "\n",
    "#DONDE: vary a0, a1\n",
    "# method_lst=['Nelder-Mead','Powell','CG','BFGS','Newton-CG','L-BFGS-B','TNC','COBYLA','SLSQP','trust-constr','dogleg','trust-ncg','trust-exact','trust-krylov']\n",
    "#jacobian needed # 'dogleg', 'Newton-CG', 'trust-ncg', 'trust-exact','trust-krylov' #jacobian needed\n",
    "method_lst=['Nelder-Mead','Powell','CG','BFGS','L-BFGS-B','TNC','COBYLA','SLSQP','trust-constr']\n",
    "bounds = ((0, 100), (0, 100), (-3.2,3.2))\n",
    "np.random.seed(42)   # seed to allow replication.\n",
    "for method in method_lst:\n",
    "    res = minimize(comp_square_error_msr_period_fixed, x0, args, method=method, bounds=bounds,tol=1e-3)\n",
    "    # res.x is in the basis of a0,a1  #,period,phase\n",
    "    a0_=res.x[0];a1_=res.x[1];phase_=res.x[2]\n",
    "    square_error=comp_square_error_msr_period_fixed(res.x,*args)\n",
    "    rmse=np.sqrt(square_error/t_values.shape[0])\n",
    "    print(f\"{method=}: {a0_=:.4f}, {a1_=:.4f}, {period_=:.4f}, {phase_=:.4f}, {rmse=}\")\n",
    "\n",
    "#visualize the fitty\n",
    "a0_,a1_,phase_=res.x\n",
    "period_=period\n",
    "figsize=(3,3)\n",
    "fontsize=10\n",
    "fig,ax=plt.subplots(figsize=figsize)\n",
    "period_of_oscillation=period_*1e-3 #seconds\n",
    "omega=2*np.pi/period_of_oscillation\n",
    "msr_values_affoscillatory=4*((2*D+a0_)*t_values+(a1_/omega)*(np.sin(omega*t_values+phase_)-np.sin(phase_)))\n",
    "plt.plot(t_values,msr_values,label='full model')\n",
    "plt.plot(t_values,msr_values_affoscillatory,label='fit')\n",
    "# plt.plot(t_values,msr_values_affoscillatory,label='fit to full')\n",
    "format_plot(ax=plt.gca(),xlabel=r\"t' (s)\",ylabel=r\"MSR (cm$^2$)\",fontsize=fontsize)\n",
    "plt.legend(fontsize=fontsize)\n",
    "plt.show()"
   ]
  },
  {
   "cell_type": "markdown",
   "id": "4d372170",
   "metadata": {
    "heading_collapsed": true
   },
   "source": [
    "# (supplementary) naive guess at fit"
   ]
  },
  {
   "cell_type": "code",
   "execution_count": null,
   "id": "c6a88021",
   "metadata": {
    "ExecuteTime": {
     "end_time": "2022-07-08T19:26:56.956052Z",
     "start_time": "2022-07-08T19:26:56.902673Z"
    },
    "hidden": true
   },
   "outputs": [],
   "source": [
    "#naive guess\n",
    "\n",
    "#INPUT: FK MODEL\n",
    "boo=x_values<max_tdeath\n",
    "t_values=x_values[boo].copy()*1e-3\n",
    "msr_values=y_values[boo].copy() \n",
    "msr_values-= np.min(msr_values)\n",
    "D=0.365 #cm^2/s, as observed\n",
    "Gamma = 100. # ~ 197/2 #ms #for predicting alinear only\n",
    "\n",
    "#INPUT: LR MODEL\n",
    "boo=x_values<max_tdeath\n",
    "t_values=x_values[boo].copy()*1e-3\n",
    "msr_values=y_values[boo].copy()\n",
    "msr_values-= np.min(msr_values)\n",
    "D=0.58 #cm^2/s, as observed\n",
    "Gamma = 20. # ~ 40/2 #ms #for predicting alinear only\n",
    "\n",
    "dict_output = comp_ols_simple(t_values,msr_values)\n",
    "# print_dict(dict_output)\n",
    "#reasonable guess for a0\n",
    "a0 = dict_output['m']/4 #- 2*D\n",
    "a1 = float(a0)*4\n",
    "#reasonable guess for phi_f\n",
    "phase=-np.pi/2\n",
    "period=80 #ms\n",
    "\n",
    "dict_output = comp_ols_simple(t_values,msr_values)\n",
    "# print_dict(dict_output)\n",
    "#reasonable initial guess for a0\n",
    "a0 = dict_output['m']/4 #- 2*D\n",
    "a1 = float(a0)*4\n",
    "#reasonable guess for phi_f\n",
    "phase=-np.pi/2\n",
    "period=90 #ms\n",
    "\n",
    "#simulated annealing of all variables\n",
    "x0=a0,a1,period,phase\n",
    "args=t_values,msr_values,D\n",
    "square_error=comp_square_error_msr(x0,*args)\n",
    "rmse=np.sqrt(square_error/t_values.shape[0])\n",
    "print(f\"baseline loss: {rmse=:.4f} cm^2 (from {a0=:.4f}, {a1=:.4f}, {period=:.4f}, {phase=:.4f})\")\n",
    "\n",
    "#visualize the fitty\n",
    "figsize=(3,3)\n",
    "fontsize=10\n",
    "fig,ax=plt.subplots(figsize=figsize)\n",
    "period_of_oscillation=period*1e-3 #seconds\n",
    "omega=2*np.pi/period_of_oscillation\n",
    "msr_values_affoscillatory=4*((2*D+a0)*t_values+(a1/omega)*(np.sin(omega*t_values+phase)-np.sin(phase)))\n",
    "plt.plot(t_values,msr_values,label='full model')\n",
    "plt.plot(t_values,msr_values_affoscillatory,label='initial guess')\n",
    "# plt.plot(t_values,msr_values_affoscillatory,label='fit to full')\n",
    "format_plot(ax=plt.gca(),xlabel=r\"t' (s)\",ylabel=r\"MSR (cm$^2$)\",fontsize=fontsize)\n",
    "plt.legend(fontsize=fontsize)\n",
    "plt.show()"
   ]
  }
 ],
 "metadata": {
  "hide_input": false,
  "kernelspec": {
   "display_name": "Python 3 (ipykernel)",
   "language": "python",
   "name": "python3"
  },
  "language_info": {
   "codemirror_mode": {
    "name": "ipython",
    "version": 3
   },
   "file_extension": ".py",
   "mimetype": "text/x-python",
   "name": "python",
   "nbconvert_exporter": "python",
   "pygments_lexer": "ipython3",
   "version": "3.9.13"
  },
  "nbTranslate": {
   "displayLangs": [
    "*"
   ],
   "hotkey": "alt-t",
   "langInMainMenu": true,
   "sourceLang": "en",
   "targetLang": "fr",
   "useGoogleTranslate": true
  },
  "toc": {
   "base_numbering": 1,
   "nav_menu": {},
   "number_sections": true,
   "sideBar": true,
   "skip_h1_title": false,
   "title_cell": "Table of Contents",
   "title_sidebar": "Contents",
   "toc_cell": false,
   "toc_position": {},
   "toc_section_display": true,
   "toc_window_display": false
  },
  "varInspector": {
   "cols": {
    "lenName": 16,
    "lenType": 16,
    "lenVar": 40
   },
   "kernels_config": {
    "python": {
     "delete_cmd_postfix": "",
     "delete_cmd_prefix": "del ",
     "library": "var_list.py",
     "varRefreshCmd": "print(var_dic_list())"
    },
    "r": {
     "delete_cmd_postfix": ") ",
     "delete_cmd_prefix": "rm(",
     "library": "var_list.r",
     "varRefreshCmd": "cat(var_dic_list()) "
    }
   },
   "types_to_exclude": [
    "module",
    "function",
    "builtin_function_or_method",
    "instance",
    "_Feature"
   ],
   "window_display": false
  }
 },
 "nbformat": 4,
 "nbformat_minor": 5
}
