{
 "cells": [
  {
   "cell_type": "markdown",
   "id": "048258cb",
   "metadata": {},
   "source": [
    "# fitting annihilation msr timeseries to the affine oscillatory particle model\n",
    "Tim Tyree<br>\n",
    "7.5.2022"
   ]
  },
  {
   "cell_type": "code",
   "execution_count": 1,
   "id": "7249626d",
   "metadata": {
    "ExecuteTime": {
     "end_time": "2022-07-20T20:33:52.240494Z",
     "start_time": "2022-07-20T20:33:49.803296Z"
    }
   },
   "outputs": [],
   "source": [
    "from IPython.display import clear_output\n",
    "clear_output(wait=True)\n",
    "\n",
    "import sys,os\n",
    "og_stdout=sys.stdout\n",
    "from lib.my_initialization import *\n",
    "\n",
    "os.chdir(nb_dir)\n",
    "from lib import *\n",
    "\n",
    "# import cupy, cudf\n",
    "# from lib.rapids_func import *\n",
    "\n",
    "import seaborn as sns\n",
    "import matplotlib.ticker as mtick\n",
    "\n",
    "import warnings\n",
    "warnings.simplefilter(\"ignore\", UserWarning)\n",
    "%load_ext autoreload\n",
    "%autoreload 2"
   ]
  },
  {
   "cell_type": "code",
   "execution_count": 2,
   "id": "5269d3f4",
   "metadata": {
    "ExecuteTime": {
     "end_time": "2022-07-20T20:33:52.283231Z",
     "start_time": "2022-07-20T20:33:52.242772Z"
    }
   },
   "outputs": [],
   "source": [
    "# from scipy.optimize import minimize\n",
    "from scipy.optimize import dual_annealing"
   ]
  },
  {
   "cell_type": "code",
   "execution_count": 3,
   "id": "43aadfdf",
   "metadata": {
    "ExecuteTime": {
     "end_time": "2022-07-20T20:33:52.327453Z",
     "start_time": "2022-07-20T20:33:52.285055Z"
    }
   },
   "outputs": [],
   "source": [
    "#reset matplotlib settings\n",
    "import matplotlib as mpl\n",
    "sns.reset_orig()\n",
    "mpl.rc_file_defaults()"
   ]
  },
  {
   "cell_type": "markdown",
   "id": "1261a81a",
   "metadata": {},
   "source": [
    "# define module"
   ]
  },
  {
   "cell_type": "code",
   "execution_count": 4,
   "id": "d5e417a6",
   "metadata": {
    "ExecuteTime": {
     "end_time": "2022-07-20T20:33:52.375680Z",
     "start_time": "2022-07-20T20:33:52.330227Z"
    }
   },
   "outputs": [],
   "source": [
    "#TODO: copy to lib.model\n",
    "def comp_square_error_msr_aff_osc(x,*args):\n",
    "    \"\"\"phase is in radians. period is in milliseconds.  a0,a1 are in cm^2/s.\n",
    "\n",
    "Example Usage:\n",
    "x0=a0,a1,period,phase\n",
    "args=t_values,msr_values,D\n",
    "square_error=comp_square_error_msr_aff_osc(x0,*args)\n",
    "rmse=np.sqrt(square_error/t_values.shape[0])\n",
    "print(f\"{rmse=}\")\n",
    "    \"\"\"\n",
    "    a0,a1,period,phase=x\n",
    "    t_values,msr_values,D=args\n",
    "    omega=2*np.pi/period*1e3 #Hz bc period is in ms\n",
    "    msr_values_affoscillatory=4*((2*D+a0)*t_values+(a1/omega)*(np.sin(omega*t_values+phase)-np.sin(phase)))\n",
    "    square_error_msr=np.sum((msr_values_affoscillatory-msr_values)**2)\n",
    "    return square_error_msr\n",
    "\n",
    "def anneal_msr_fit(t_values,msr_values,D,\n",
    "                   bounds = ((0, 100), (0, 100), (50, 300), (-3.15,3.15)),\n",
    "                   maxiter=1000,\n",
    "                   seed=42,\n",
    "                   no_local_search=True,\n",
    "                   **kwargs):\n",
    "    \"\"\"returns fit of MSR(t') to the affine oscillatory particle model.\n",
    "    if no_local_search=True, simulated annealing is used.\n",
    "    if no_local_search=False, dual annealing is used.\n",
    "    kwargs are passed to scipy.optimize.dual_annealing\n",
    "    bounds gives the upper/lower bounds to parameter values a0 (cm^2/s), a1 (cm^2/s), period (ms), and phase (radians), respectively.\n",
    "\n",
    "    Example Usage:\n",
    "res = anneal_msr_fit(t_values,msr_values,D,\n",
    "                   bounds = ((0, 100), (0, 100), (50, 300), (-3.15,3.15)),\n",
    "                   maxiter=1000,seed=42, no_local_search=True)#,**kwargs)\n",
    "    \"\"\"\n",
    "    # input: t_values, msr_values, D, Gamma\n",
    "    # output: a0,a1,period,phase,rmse,alinear\n",
    "    args=t_values,msr_values,D\n",
    "    # np.random.seed(42)   # seed to allow replication.\n",
    "    res = dual_annealing(\n",
    "        comp_square_error_msr_aff_osc,\n",
    "        bounds=bounds,\n",
    "        args=args,\n",
    "        maxiter=maxiter,\n",
    "        seed=seed,\n",
    "        no_local_search=no_local_search,**kwargs)\n",
    "    return res\n",
    "\n",
    "def comp_alinear(a0,a1,period,Gamma,phase):\n",
    "    \"\"\"computes the effective attraction coefficient of the linear particle model.\n",
    "    a0,a1 are in units of alinear. \n",
    "    period is in units of the mean minimum lifetime, Gamma. \n",
    "    phase is in units of radians.\n",
    "    \n",
    "    Example Usage:\n",
    "alinear = comp_alinear(a0,a1,period,Gamma,phase)\n",
    "    \"\"\"\n",
    "    omega = 2*np.pi/period\n",
    "    z = Gamma*omega\n",
    "    alinear=a0 + a1*(np.cos(phase)-z*np.sin(phase))/(1 + z**2)\n",
    "    return alinear"
   ]
  },
  {
   "cell_type": "code",
   "execution_count": 5,
   "id": "8bb3a71f",
   "metadata": {
    "ExecuteTime": {
     "end_time": "2022-07-20T20:33:56.908843Z",
     "start_time": "2022-07-20T20:33:56.857195Z"
    }
   },
   "outputs": [],
   "source": [
    "def comp_mean_bootstrap_uncertainty(x,num_samples=1000):\n",
    "    \"\"\"\n",
    "    Example Usage:\n",
    "meanx,Delta_meanx,num_obs,p_normal=comp_mean_bootstrap_uncertainty(minlifetime_values)\n",
    "printing=True\n",
    "if printing:\n",
    "    print(f\"mean: {meanx:.4f} +/- {Delta_meanx:.4f} (N={num_obs}, {p_normal=:.4f})\")\n",
    "    \"\"\"\n",
    "    meanx = np.mean(x)\n",
    "    Delta_meanx,p_normal=bootstrap_95CI_Delta_mean(x,num_samples=num_samples)\n",
    "    num_obs=x.shape[0]\n",
    "    return meanx,Delta_meanx,num_obs,p_normal"
   ]
  },
  {
   "cell_type": "markdown",
   "id": "7b53ca3c",
   "metadata": {},
   "source": [
    "# load data"
   ]
  },
  {
   "cell_type": "code",
   "execution_count": 5,
   "id": "99b84bb4",
   "metadata": {
    "ExecuteTime": {
     "end_time": "2022-07-08T20:11:54.644651Z",
     "start_time": "2022-07-08T20:11:54.295659Z"
    }
   },
   "outputs": [
    {
     "ename": "FileNotFoundError",
     "evalue": "[Errno 2] No such file or directory: '/home/timothytyree/Documents/GitHub/care/notebooks/Data/initial-conditions-fk-200x200/param_set_8_ds_5.0_tmax_30_diffCoef_0.001_dt_1/annihilation_range_timeseries.pkl'",
     "output_type": "error",
     "traceback": [
      "\u001b[0;31m---------------------------------------------------------------------------\u001b[0m",
      "\u001b[0;31mFileNotFoundError\u001b[0m                         Traceback (most recent call last)",
      "\u001b[0;32m/var/folders/0h/p4cbb7yx22jbxm0qb47vhfbh0000gn/T/ipykernel_22211/3988063993.py\u001b[0m in \u001b[0;36m<module>\u001b[0;34m\u001b[0m\n\u001b[1;32m     21\u001b[0m \u001b[0;34m\u001b[0m\u001b[0m\n\u001b[1;32m     22\u001b[0m \u001b[0;34m\u001b[0m\u001b[0m\n\u001b[0;32m---> 23\u001b[0;31m \u001b[0mdata_lst\u001b[0m\u001b[0;34m=\u001b[0m\u001b[0mload_from_pickle\u001b[0m\u001b[0;34m(\u001b[0m\u001b[0mrange_data_dir\u001b[0m\u001b[0;34m)\u001b[0m\u001b[0;34m\u001b[0m\u001b[0;34m\u001b[0m\u001b[0m\n\u001b[0m\u001b[1;32m     24\u001b[0m \u001b[0mprint\u001b[0m\u001b[0;34m(\u001b[0m\u001b[0;34mf\"loaded range timeseries from {len(data_lst)} termination events\"\u001b[0m\u001b[0;34m)\u001b[0m\u001b[0;34m\u001b[0m\u001b[0;34m\u001b[0m\u001b[0m\n\u001b[1;32m     25\u001b[0m \u001b[0mdf\u001b[0m\u001b[0;34m=\u001b[0m\u001b[0mpd\u001b[0m\u001b[0;34m.\u001b[0m\u001b[0mconcat\u001b[0m\u001b[0;34m(\u001b[0m\u001b[0mdata_lst\u001b[0m\u001b[0;34m)\u001b[0m\u001b[0;34m\u001b[0m\u001b[0;34m\u001b[0m\u001b[0m\n",
      "\u001b[0;32m~/Documents/GitHub/care/notebooks/lib/utils/pickleio.py\u001b[0m in \u001b[0;36mload_from_pickle\u001b[0;34m(input_fn)\u001b[0m\n\u001b[1;32m     42\u001b[0m     \u001b[0;32mreturn\u001b[0m \u001b[0mload_from_pkl\u001b[0m\u001b[0;34m(\u001b[0m\u001b[0minput_fn\u001b[0m\u001b[0;34m)\u001b[0m\u001b[0;34m\u001b[0m\u001b[0;34m\u001b[0m\u001b[0m\n\u001b[1;32m     43\u001b[0m \u001b[0;32mdef\u001b[0m \u001b[0mload_from_pickle\u001b[0m\u001b[0;34m(\u001b[0m\u001b[0minput_fn\u001b[0m\u001b[0;34m)\u001b[0m\u001b[0;34m:\u001b[0m\u001b[0;34m\u001b[0m\u001b[0;34m\u001b[0m\u001b[0m\n\u001b[0;32m---> 44\u001b[0;31m     \u001b[0;32mreturn\u001b[0m \u001b[0mload_from_pkl\u001b[0m\u001b[0;34m(\u001b[0m\u001b[0minput_fn\u001b[0m\u001b[0;34m)\u001b[0m\u001b[0;34m\u001b[0m\u001b[0;34m\u001b[0m\u001b[0m\n\u001b[0m\u001b[1;32m     45\u001b[0m \u001b[0;32mdef\u001b[0m \u001b[0msave_pkl\u001b[0m\u001b[0;34m(\u001b[0m\u001b[0minput_fn\u001b[0m\u001b[0;34m,\u001b[0m\u001b[0mmat\u001b[0m\u001b[0;34m)\u001b[0m\u001b[0;34m:\u001b[0m\u001b[0;34m\u001b[0m\u001b[0;34m\u001b[0m\u001b[0m\n\u001b[1;32m     46\u001b[0m     \u001b[0;32mreturn\u001b[0m \u001b[0msave_to_pkl\u001b[0m\u001b[0;34m(\u001b[0m\u001b[0minput_fn\u001b[0m\u001b[0;34m,\u001b[0m\u001b[0mmat\u001b[0m\u001b[0;34m)\u001b[0m\u001b[0;34m\u001b[0m\u001b[0;34m\u001b[0m\u001b[0m\n",
      "\u001b[0;32m~/Documents/GitHub/care/notebooks/lib/utils/pickleio.py\u001b[0m in \u001b[0;36mload_from_pkl\u001b[0;34m(input_fn)\u001b[0m\n\u001b[1;32m     11\u001b[0m \u001b[0mdict_pkl\u001b[0m\u001b[0;34m=\u001b[0m\u001b[0mload_from_pkl\u001b[0m\u001b[0;34m(\u001b[0m\u001b[0mpkl_fn\u001b[0m\u001b[0;34m)\u001b[0m\u001b[0;34m\u001b[0m\u001b[0;34m\u001b[0m\u001b[0m\n\u001b[1;32m     12\u001b[0m     \"\"\"\n\u001b[0;32m---> 13\u001b[0;31m     \u001b[0;32mwith\u001b[0m \u001b[0mopen\u001b[0m\u001b[0;34m(\u001b[0m\u001b[0minput_fn\u001b[0m\u001b[0;34m,\u001b[0m\u001b[0;34m'rb'\u001b[0m\u001b[0;34m)\u001b[0m \u001b[0;32mas\u001b[0m \u001b[0mf\u001b[0m\u001b[0;34m:\u001b[0m \u001b[0mdict_pkl\u001b[0m \u001b[0;34m=\u001b[0m \u001b[0mpickle\u001b[0m\u001b[0;34m.\u001b[0m\u001b[0mload\u001b[0m\u001b[0;34m(\u001b[0m\u001b[0mf\u001b[0m\u001b[0;34m)\u001b[0m\u001b[0;34m\u001b[0m\u001b[0;34m\u001b[0m\u001b[0m\n\u001b[0m\u001b[1;32m     14\u001b[0m     \u001b[0;32mreturn\u001b[0m \u001b[0mdict_pkl\u001b[0m\u001b[0;34m\u001b[0m\u001b[0;34m\u001b[0m\u001b[0m\n\u001b[1;32m     15\u001b[0m \u001b[0;34m\u001b[0m\u001b[0m\n",
      "\u001b[0;31mFileNotFoundError\u001b[0m: [Errno 2] No such file or directory: '/home/timothytyree/Documents/GitHub/care/notebooks/Data/initial-conditions-fk-200x200/param_set_8_ds_5.0_tmax_30_diffCoef_0.001_dt_1/annihilation_range_timeseries.pkl'"
     ]
    }
   ],
   "source": [
    "#load spiral tip range time series from cache\n",
    "#######################\n",
    "# Luo-Rudy\n",
    "#######################\n",
    "#WJ's data for LR model (200x200)\n",
    "range_data_dir='/home/timothytyree/Documents/GitHub/care/notebooks/Data/from_wjr/tippos_per_001_annihilation_range_timeseries.pkl'\n",
    "# #my data for LR model (200x200) diffCoeff=0.001\n",
    "range_data_dir='/home/timothytyree/Documents/GitHub/care/notebooks/Data/initial-conditions-suite-3-LR/ds_5_param_qu_tmax_30_Ko_5.4_diffCoef_0.001/annihilation_range_timeseries.pkl'\n",
    "#my data for LR model (200x200) diffCoeff=0.0005\n",
    "range_data_dir='/home/timothytyree/Documents/GitHub/care/notebooks/Data/initial-conditions-suite-3-LR/param_qu_tmax_30_Ko_5.4_diffCoef_0.0005_dt_0.5/annihilation_range_timeseries.pkl'\n",
    "\n",
    "#######################\n",
    "# Fenton-Karma\n",
    "#######################\n",
    "\n",
    "# range_data_dir='/home/timothytyree/Documents/GitHub/care/notebooks/Data/initial-conditions-fk-200x200/param_set_8_ds_5.0_tmax_10_diffCoef_0.0005/annihilation_range_timeseries.pkl'\n",
    "range_data_dir='/home/timothytyree/Documents/GitHub/care/notebooks/Data/initial-conditions-fk-200x200/param_set_8_ds_5.0_tmax_30_diffCoef_0.001_dt_1/annihilation_range_timeseries.pkl'\n",
    "# range_data_dir='/home/timothytyree/Documents/GitHub/care/notebooks/Data/initial-conditions-fk-200x200/param_set_8_ds_5.0_tmax_10_diffCoef_0.0005/annihilation_range_timeseries.pkl'\n",
    "# range_data_dir='/home/timothytyree/Documents/GitHub/care/notebooks/Data/initial-conditions-fk-200x200/param_set_8_ds_5.0_tmax_30_diffCoef_0.001_dt_0.025/annihilation_range_timeseries.pkl'\n",
    "\n",
    "\n",
    "\n",
    "data_lst=load_from_pickle(range_data_dir)\n",
    "print(f\"loaded range timeseries from {len(data_lst)} termination events\")\n",
    "df=pd.concat(data_lst)\n",
    "del data_lst\n",
    "df.head()"
   ]
  },
  {
   "cell_type": "markdown",
   "id": "2646d5fc",
   "metadata": {},
   "source": [
    "# compute mean minimum lifetime"
   ]
  },
  {
   "cell_type": "code",
   "execution_count": null,
   "id": "e6a9721a",
   "metadata": {},
   "outputs": [],
   "source": [
    "bins=80\n",
    "color='C1'\n",
    "# color='C0'\n",
    "# bins=np.logspace(-2,2,100)\n",
    "minlifetime_values = df.groupby(by=['trial_num','annihilation_index'])['tdeath'].max().values\n",
    "plt.hist(minlifetime_values,bins=bins,density=True,log=True,color=color,alpha=0.7)\n",
    "format_plot(ax=plt.gca(),xlabel=r'min$(\\Gamma_1,\\Gamma_2)$ (ms)',ylabel='PDF')\n",
    "plt.show()"
   ]
  },
  {
   "cell_type": "code",
   "execution_count": null,
   "id": "a6354f5a",
   "metadata": {},
   "outputs": [],
   "source": [
    "meanx,Delta_meanx,num_obs,p_normal=comp_mean_bootstrap_uncertainty(minlifetime_values)\n",
    "printing=True\n",
    "if printing:\n",
    "    print(f\"mean lifetime: {meanx:.4f} +/- {Delta_meanx:.4f} ms (N={num_obs}, {p_normal=:.4f})\")"
   ]
  },
  {
   "cell_type": "code",
   "execution_count": null,
   "id": "3cfca7c7",
   "metadata": {},
   "outputs": [],
   "source": []
  },
  {
   "cell_type": "markdown",
   "id": "db651ad7",
   "metadata": {
    "heading_collapsed": true
   },
   "source": [
    "# Compute MSR(t') by averaging range timeseries"
   ]
  },
  {
   "cell_type": "code",
   "execution_count": 27,
   "id": "e1b8ea87",
   "metadata": {
    "ExecuteTime": {
     "end_time": "2022-07-07T20:51:03.646422Z",
     "start_time": "2022-07-07T20:51:03.547386Z"
    },
    "hidden": true
   },
   "outputs": [
    {
     "ename": "KeyError",
     "evalue": "'tdeath'",
     "output_type": "error",
     "traceback": [
      "\u001b[0;31m---------------------------------------------------------------------------\u001b[0m",
      "\u001b[0;31mKeyError\u001b[0m                                  Traceback (most recent call last)",
      "\u001b[0;32m~/opt/miniconda3/envs/pyenv/lib/python3.9/site-packages/pandas/core/indexes/base.py\u001b[0m in \u001b[0;36mget_loc\u001b[0;34m(self, key, method, tolerance)\u001b[0m\n\u001b[1;32m   3360\u001b[0m             \u001b[0;32mtry\u001b[0m\u001b[0;34m:\u001b[0m\u001b[0;34m\u001b[0m\u001b[0;34m\u001b[0m\u001b[0m\n\u001b[0;32m-> 3361\u001b[0;31m                 \u001b[0;32mreturn\u001b[0m \u001b[0mself\u001b[0m\u001b[0;34m.\u001b[0m\u001b[0m_engine\u001b[0m\u001b[0;34m.\u001b[0m\u001b[0mget_loc\u001b[0m\u001b[0;34m(\u001b[0m\u001b[0mcasted_key\u001b[0m\u001b[0;34m)\u001b[0m\u001b[0;34m\u001b[0m\u001b[0;34m\u001b[0m\u001b[0m\n\u001b[0m\u001b[1;32m   3362\u001b[0m             \u001b[0;32mexcept\u001b[0m \u001b[0mKeyError\u001b[0m \u001b[0;32mas\u001b[0m \u001b[0merr\u001b[0m\u001b[0;34m:\u001b[0m\u001b[0;34m\u001b[0m\u001b[0;34m\u001b[0m\u001b[0m\n",
      "\u001b[0;32m~/opt/miniconda3/envs/pyenv/lib/python3.9/site-packages/pandas/_libs/index.pyx\u001b[0m in \u001b[0;36mpandas._libs.index.IndexEngine.get_loc\u001b[0;34m()\u001b[0m\n",
      "\u001b[0;32m~/opt/miniconda3/envs/pyenv/lib/python3.9/site-packages/pandas/_libs/index.pyx\u001b[0m in \u001b[0;36mpandas._libs.index.IndexEngine.get_loc\u001b[0;34m()\u001b[0m\n",
      "\u001b[0;32mpandas/_libs/hashtable_class_helper.pxi\u001b[0m in \u001b[0;36mpandas._libs.hashtable.PyObjectHashTable.get_item\u001b[0;34m()\u001b[0m\n",
      "\u001b[0;32mpandas/_libs/hashtable_class_helper.pxi\u001b[0m in \u001b[0;36mpandas._libs.hashtable.PyObjectHashTable.get_item\u001b[0;34m()\u001b[0m\n",
      "\u001b[0;31mKeyError\u001b[0m: 'tdeath'",
      "\nThe above exception was the direct cause of the following exception:\n",
      "\u001b[0;31mKeyError\u001b[0m                                  Traceback (most recent call last)",
      "\u001b[0;32m/var/folders/0h/p4cbb7yx22jbxm0qb47vhfbh0000gn/T/ipykernel_19907/1855626398.py\u001b[0m in \u001b[0;36m<module>\u001b[0;34m\u001b[0m\n\u001b[0;32m----> 1\u001b[0;31m \u001b[0mx_values_in\u001b[0m\u001b[0;34m=\u001b[0m\u001b[0mdf\u001b[0m\u001b[0;34m[\u001b[0m\u001b[0;34m'tdeath'\u001b[0m\u001b[0;34m]\u001b[0m\u001b[0;34m.\u001b[0m\u001b[0mvalues\u001b[0m\u001b[0;34m\u001b[0m\u001b[0;34m\u001b[0m\u001b[0m\n\u001b[0m\u001b[1;32m      2\u001b[0m \u001b[0my_values_in\u001b[0m\u001b[0;34m=\u001b[0m\u001b[0mdf\u001b[0m\u001b[0;34m[\u001b[0m\u001b[0;34m'R'\u001b[0m\u001b[0;34m]\u001b[0m\u001b[0;34m.\u001b[0m\u001b[0mvalues\u001b[0m\u001b[0;34m**\u001b[0m\u001b[0;36m2\u001b[0m\u001b[0;34m\u001b[0m\u001b[0;34m\u001b[0m\u001b[0m\n\u001b[1;32m      3\u001b[0m \u001b[0mprint\u001b[0m\u001b[0;34m(\u001b[0m\u001b[0;34mf\"tdeath ranges from {np.min(x_values_in)} to {np.max(x_values_in)} ms\"\u001b[0m\u001b[0;34m)\u001b[0m\u001b[0;34m\u001b[0m\u001b[0;34m\u001b[0m\u001b[0m\n\u001b[1;32m      4\u001b[0m \u001b[0mprint\u001b[0m\u001b[0;34m(\u001b[0m\u001b[0;34mf\"R^2 ranges from {np.min(y_values_in)} to {np.max(y_values_in)} cm^2\"\u001b[0m\u001b[0;34m)\u001b[0m\u001b[0;34m\u001b[0m\u001b[0;34m\u001b[0m\u001b[0m\n",
      "\u001b[0;32m~/opt/miniconda3/envs/pyenv/lib/python3.9/site-packages/pandas/core/frame.py\u001b[0m in \u001b[0;36m__getitem__\u001b[0;34m(self, key)\u001b[0m\n\u001b[1;32m   3456\u001b[0m             \u001b[0;32mif\u001b[0m \u001b[0mself\u001b[0m\u001b[0;34m.\u001b[0m\u001b[0mcolumns\u001b[0m\u001b[0;34m.\u001b[0m\u001b[0mnlevels\u001b[0m \u001b[0;34m>\u001b[0m \u001b[0;36m1\u001b[0m\u001b[0;34m:\u001b[0m\u001b[0;34m\u001b[0m\u001b[0;34m\u001b[0m\u001b[0m\n\u001b[1;32m   3457\u001b[0m                 \u001b[0;32mreturn\u001b[0m \u001b[0mself\u001b[0m\u001b[0;34m.\u001b[0m\u001b[0m_getitem_multilevel\u001b[0m\u001b[0;34m(\u001b[0m\u001b[0mkey\u001b[0m\u001b[0;34m)\u001b[0m\u001b[0;34m\u001b[0m\u001b[0;34m\u001b[0m\u001b[0m\n\u001b[0;32m-> 3458\u001b[0;31m             \u001b[0mindexer\u001b[0m \u001b[0;34m=\u001b[0m \u001b[0mself\u001b[0m\u001b[0;34m.\u001b[0m\u001b[0mcolumns\u001b[0m\u001b[0;34m.\u001b[0m\u001b[0mget_loc\u001b[0m\u001b[0;34m(\u001b[0m\u001b[0mkey\u001b[0m\u001b[0;34m)\u001b[0m\u001b[0;34m\u001b[0m\u001b[0;34m\u001b[0m\u001b[0m\n\u001b[0m\u001b[1;32m   3459\u001b[0m             \u001b[0;32mif\u001b[0m \u001b[0mis_integer\u001b[0m\u001b[0;34m(\u001b[0m\u001b[0mindexer\u001b[0m\u001b[0;34m)\u001b[0m\u001b[0;34m:\u001b[0m\u001b[0;34m\u001b[0m\u001b[0;34m\u001b[0m\u001b[0m\n\u001b[1;32m   3460\u001b[0m                 \u001b[0mindexer\u001b[0m \u001b[0;34m=\u001b[0m \u001b[0;34m[\u001b[0m\u001b[0mindexer\u001b[0m\u001b[0;34m]\u001b[0m\u001b[0;34m\u001b[0m\u001b[0;34m\u001b[0m\u001b[0m\n",
      "\u001b[0;32m~/opt/miniconda3/envs/pyenv/lib/python3.9/site-packages/pandas/core/indexes/base.py\u001b[0m in \u001b[0;36mget_loc\u001b[0;34m(self, key, method, tolerance)\u001b[0m\n\u001b[1;32m   3361\u001b[0m                 \u001b[0;32mreturn\u001b[0m \u001b[0mself\u001b[0m\u001b[0;34m.\u001b[0m\u001b[0m_engine\u001b[0m\u001b[0;34m.\u001b[0m\u001b[0mget_loc\u001b[0m\u001b[0;34m(\u001b[0m\u001b[0mcasted_key\u001b[0m\u001b[0;34m)\u001b[0m\u001b[0;34m\u001b[0m\u001b[0;34m\u001b[0m\u001b[0m\n\u001b[1;32m   3362\u001b[0m             \u001b[0;32mexcept\u001b[0m \u001b[0mKeyError\u001b[0m \u001b[0;32mas\u001b[0m \u001b[0merr\u001b[0m\u001b[0;34m:\u001b[0m\u001b[0;34m\u001b[0m\u001b[0;34m\u001b[0m\u001b[0m\n\u001b[0;32m-> 3363\u001b[0;31m                 \u001b[0;32mraise\u001b[0m \u001b[0mKeyError\u001b[0m\u001b[0;34m(\u001b[0m\u001b[0mkey\u001b[0m\u001b[0;34m)\u001b[0m \u001b[0;32mfrom\u001b[0m \u001b[0merr\u001b[0m\u001b[0;34m\u001b[0m\u001b[0;34m\u001b[0m\u001b[0m\n\u001b[0m\u001b[1;32m   3364\u001b[0m \u001b[0;34m\u001b[0m\u001b[0m\n\u001b[1;32m   3365\u001b[0m         \u001b[0;32mif\u001b[0m \u001b[0mis_scalar\u001b[0m\u001b[0;34m(\u001b[0m\u001b[0mkey\u001b[0m\u001b[0;34m)\u001b[0m \u001b[0;32mand\u001b[0m \u001b[0misna\u001b[0m\u001b[0;34m(\u001b[0m\u001b[0mkey\u001b[0m\u001b[0;34m)\u001b[0m \u001b[0;32mand\u001b[0m \u001b[0;32mnot\u001b[0m \u001b[0mself\u001b[0m\u001b[0;34m.\u001b[0m\u001b[0mhasnans\u001b[0m\u001b[0;34m:\u001b[0m\u001b[0;34m\u001b[0m\u001b[0;34m\u001b[0m\u001b[0m\n",
      "\u001b[0;31mKeyError\u001b[0m: 'tdeath'"
     ]
    }
   ],
   "source": [
    "x_values_in=df['tdeath'].values\n",
    "y_values_in=df['R'].values**2\n",
    "print(f\"tdeath ranges from {np.min(x_values_in)} to {np.max(x_values_in)} ms\")\n",
    "print(f\"R^2 ranges from {np.min(y_values_in)} to {np.max(y_values_in)} cm^2\")"
   ]
  },
  {
   "cell_type": "code",
   "execution_count": 59,
   "id": "93286253",
   "metadata": {
    "ExecuteTime": {
     "end_time": "2022-07-06T19:44:07.143357Z",
     "start_time": "2022-07-06T19:44:07.119527Z"
    },
    "hidden": true
   },
   "outputs": [],
   "source": [
    "assert not np.isnan(x_values_in).any() \n",
    "assert not np.isnan(y_values_in).any()"
   ]
  },
  {
   "cell_type": "code",
   "execution_count": 60,
   "id": "79c506e0",
   "metadata": {
    "ExecuteTime": {
     "end_time": "2022-07-06T19:44:33.235894Z",
     "start_time": "2022-07-06T19:44:07.667979Z"
    },
    "hidden": true
   },
   "outputs": [
    {
     "data": {
      "text/html": [
       "<div>\n",
       "<style scoped>\n",
       "    .dataframe tbody tr th:only-of-type {\n",
       "        vertical-align: middle;\n",
       "    }\n",
       "\n",
       "    .dataframe tbody tr th {\n",
       "        vertical-align: top;\n",
       "    }\n",
       "\n",
       "    .dataframe thead th {\n",
       "        text-align: right;\n",
       "    }\n",
       "</style>\n",
       "<table border=\"1\" class=\"dataframe\">\n",
       "  <thead>\n",
       "    <tr style=\"text-align: right;\">\n",
       "      <th></th>\n",
       "      <th>tdeath_avg</th>\n",
       "      <th>MSR</th>\n",
       "      <th>Delta_tdeath_avg</th>\n",
       "      <th>Delta_MSR</th>\n",
       "      <th>p_tdeath_avg</th>\n",
       "      <th>p_MSR</th>\n",
       "      <th>counts</th>\n",
       "    </tr>\n",
       "  </thead>\n",
       "  <tbody>\n",
       "    <tr>\n",
       "      <th>0</th>\n",
       "      <td>2.302685</td>\n",
       "      <td>0.101907</td>\n",
       "      <td>0.017385</td>\n",
       "      <td>0.001099</td>\n",
       "      <td>0.596408</td>\n",
       "      <td>0.020035</td>\n",
       "      <td>37914</td>\n",
       "    </tr>\n",
       "    <tr>\n",
       "      <th>1</th>\n",
       "      <td>7.977174</td>\n",
       "      <td>0.215369</td>\n",
       "      <td>0.015636</td>\n",
       "      <td>0.002290</td>\n",
       "      <td>0.062441</td>\n",
       "      <td>0.917820</td>\n",
       "      <td>25445</td>\n",
       "    </tr>\n",
       "    <tr>\n",
       "      <th>2</th>\n",
       "      <td>12.780152</td>\n",
       "      <td>0.273737</td>\n",
       "      <td>0.016777</td>\n",
       "      <td>0.002968</td>\n",
       "      <td>0.961914</td>\n",
       "      <td>0.013977</td>\n",
       "      <td>24022</td>\n",
       "    </tr>\n",
       "    <tr>\n",
       "      <th>3</th>\n",
       "      <td>17.580277</td>\n",
       "      <td>0.324734</td>\n",
       "      <td>0.016321</td>\n",
       "      <td>0.003689</td>\n",
       "      <td>0.360833</td>\n",
       "      <td>0.293810</td>\n",
       "      <td>22715</td>\n",
       "    </tr>\n",
       "    <tr>\n",
       "      <th>4</th>\n",
       "      <td>22.377199</td>\n",
       "      <td>0.371408</td>\n",
       "      <td>0.018235</td>\n",
       "      <td>0.004455</td>\n",
       "      <td>0.473704</td>\n",
       "      <td>0.636188</td>\n",
       "      <td>21403</td>\n",
       "    </tr>\n",
       "  </tbody>\n",
       "</table>\n",
       "</div>"
      ],
      "text/plain": [
       "   tdeath_avg       MSR  Delta_tdeath_avg  Delta_MSR  p_tdeath_avg     p_MSR  \\\n",
       "0    2.302685  0.101907          0.017385   0.001099      0.596408  0.020035   \n",
       "1    7.977174  0.215369          0.015636   0.002290      0.062441  0.917820   \n",
       "2   12.780152  0.273737          0.016777   0.002968      0.961914  0.013977   \n",
       "3   17.580277  0.324734          0.016321   0.003689      0.360833  0.293810   \n",
       "4   22.377199  0.371408          0.018235   0.004455      0.473704  0.636188   \n",
       "\n",
       "   counts  \n",
       "0   37914  \n",
       "1   25445  \n",
       "2   24022  \n",
       "3   22715  \n",
       "4   21403  "
      ]
     },
     "execution_count": 60,
     "metadata": {},
     "output_type": "execute_result"
    }
   ],
   "source": [
    "#compute bootstrap \n",
    "# bins=np.arange(0,450,1)\n",
    "# bins=np.arange(0,1800,5)\n",
    "bins=np.arange(0,2800,5)\n",
    "df_bootstrap=bin_and_bootstrap_xy_values_parallel(x_values_in,\n",
    "                               y_values_in,\n",
    "                               xlabel='tdeath_avg',\n",
    "                               ylabel='MSR',\n",
    "                               bins=bins,\n",
    "                               min_numobs=10,\n",
    "                               num_bootstrap_samples=1000,\n",
    "                               npartitions=10,\n",
    "                               use_test=False)\n",
    "df_bootstrap.head()"
   ]
  },
  {
   "cell_type": "code",
   "execution_count": 61,
   "id": "bcc82139",
   "metadata": {
    "ExecuteTime": {
     "end_time": "2022-07-06T19:44:33.362001Z",
     "start_time": "2022-07-06T19:44:33.325489Z"
    },
    "hidden": true
   },
   "outputs": [
    {
     "data": {
      "text/html": [
       "<div>\n",
       "<style scoped>\n",
       "    .dataframe tbody tr th:only-of-type {\n",
       "        vertical-align: middle;\n",
       "    }\n",
       "\n",
       "    .dataframe tbody tr th {\n",
       "        vertical-align: top;\n",
       "    }\n",
       "\n",
       "    .dataframe thead th {\n",
       "        text-align: right;\n",
       "    }\n",
       "</style>\n",
       "<table border=\"1\" class=\"dataframe\">\n",
       "  <thead>\n",
       "    <tr style=\"text-align: right;\">\n",
       "      <th></th>\n",
       "      <th>tdeath_avg</th>\n",
       "      <th>MSR</th>\n",
       "      <th>Delta_tdeath_avg</th>\n",
       "      <th>Delta_MSR</th>\n",
       "      <th>p_tdeath_avg</th>\n",
       "      <th>p_MSR</th>\n",
       "      <th>counts</th>\n",
       "    </tr>\n",
       "  </thead>\n",
       "  <tbody>\n",
       "    <tr>\n",
       "      <th>311</th>\n",
       "      <td>1556.800000</td>\n",
       "      <td>3.774760</td>\n",
       "      <td>0.747381</td>\n",
       "      <td>0.649430</td>\n",
       "      <td>0.604701</td>\n",
       "      <td>0.801924</td>\n",
       "      <td>12</td>\n",
       "    </tr>\n",
       "    <tr>\n",
       "      <th>312</th>\n",
       "      <td>1562.215385</td>\n",
       "      <td>3.781276</td>\n",
       "      <td>0.994753</td>\n",
       "      <td>0.650068</td>\n",
       "      <td>0.587286</td>\n",
       "      <td>0.005006</td>\n",
       "      <td>13</td>\n",
       "    </tr>\n",
       "    <tr>\n",
       "      <th>313</th>\n",
       "      <td>1602.400000</td>\n",
       "      <td>5.233339</td>\n",
       "      <td>1.001279</td>\n",
       "      <td>0.206936</td>\n",
       "      <td>0.330677</td>\n",
       "      <td>0.824348</td>\n",
       "      <td>12</td>\n",
       "    </tr>\n",
       "    <tr>\n",
       "      <th>314</th>\n",
       "      <td>1642.400000</td>\n",
       "      <td>5.249468</td>\n",
       "      <td>0.981707</td>\n",
       "      <td>0.954804</td>\n",
       "      <td>0.603401</td>\n",
       "      <td>0.644642</td>\n",
       "      <td>12</td>\n",
       "    </tr>\n",
       "    <tr>\n",
       "      <th>315</th>\n",
       "      <td>1682.400000</td>\n",
       "      <td>5.076051</td>\n",
       "      <td>1.023012</td>\n",
       "      <td>0.878101</td>\n",
       "      <td>0.143062</td>\n",
       "      <td>0.027473</td>\n",
       "      <td>12</td>\n",
       "    </tr>\n",
       "  </tbody>\n",
       "</table>\n",
       "</div>"
      ],
      "text/plain": [
       "      tdeath_avg       MSR  Delta_tdeath_avg  Delta_MSR  p_tdeath_avg  \\\n",
       "311  1556.800000  3.774760          0.747381   0.649430      0.604701   \n",
       "312  1562.215385  3.781276          0.994753   0.650068      0.587286   \n",
       "313  1602.400000  5.233339          1.001279   0.206936      0.330677   \n",
       "314  1642.400000  5.249468          0.981707   0.954804      0.603401   \n",
       "315  1682.400000  5.076051          1.023012   0.878101      0.143062   \n",
       "\n",
       "        p_MSR  counts  \n",
       "311  0.801924      12  \n",
       "312  0.005006      13  \n",
       "313  0.824348      12  \n",
       "314  0.644642      12  \n",
       "315  0.027473      12  "
      ]
     },
     "execution_count": 61,
     "metadata": {},
     "output_type": "execute_result"
    }
   ],
   "source": [
    "df_bootstrap.tail()"
   ]
  },
  {
   "cell_type": "code",
   "execution_count": 62,
   "id": "6feea9bc",
   "metadata": {
    "ExecuteTime": {
     "end_time": "2022-07-06T19:44:33.460836Z",
     "start_time": "2022-07-06T19:44:33.441688Z"
    },
    "hidden": true
   },
   "outputs": [
    {
     "data": {
      "text/plain": [
       "((316,), (316,), (316,))"
      ]
     },
     "execution_count": 62,
     "metadata": {},
     "output_type": "execute_result"
    }
   ],
   "source": [
    "x_values=df_bootstrap['tdeath_avg'].values\n",
    "y_values=df_bootstrap['MSR'].values\n",
    "yerr_values=df_bootstrap['Delta_MSR'].values\n",
    "x_values.shape,y_values.shape,yerr_values.shape"
   ]
  },
  {
   "cell_type": "code",
   "execution_count": 63,
   "id": "17fe57c4",
   "metadata": {
    "ExecuteTime": {
     "end_time": "2022-07-06T19:44:33.703987Z",
     "start_time": "2022-07-06T19:44:33.542192Z"
    },
    "hidden": true
   },
   "outputs": [
    {
     "name": "stdout",
     "output_type": "stream",
     "text": [
      "Does this appear to intersect at zero?\n"
     ]
    },
    {
     "data": {
      "image/png": "[encoded data removed]",
      "text/plain": [
       "<Figure size 640x480 with 1 Axes>"
      ]
     },
     "metadata": {},
     "output_type": "display_data"
    }
   ],
   "source": [
    "print(f\"Does this appear to intersect at zero?\")\n",
    "c='C0'\n",
    "plt.plot(x_values,y_values,lw=2,alpha=0.8,c=c)\n",
    "plt.fill_between(x_values,y_values-yerr_values,y_values+yerr_values,lw=2,alpha=0.4,color=c)\n",
    "format_plot(ax=plt.gca(),xlabel=r'$t_f-t$ (ms)',ylabel=r'MSR (cm$^2$)')\n",
    "# plt.xlim([0,180])\n",
    "# plt.ylim([0,3.1])\n",
    "plt.xlim([0,15])\n",
    "plt.ylim([-.1,1])\n",
    "plt.show()"
   ]
  },
  {
   "cell_type": "code",
   "execution_count": 64,
   "id": "aa4bbaba",
   "metadata": {
    "ExecuteTime": {
     "end_time": "2022-07-06T19:44:33.902501Z",
     "start_time": "2022-07-06T19:44:33.791951Z"
    },
    "hidden": true
   },
   "outputs": [
    {
     "data": {
      "image/png": "[encoded data removed]",
      "text/plain": [
       "<Figure size 400x420 with 1 Axes>"
      ]
     },
     "metadata": {},
     "output_type": "display_data"
    }
   ],
   "source": [
    "#plot expected\n",
    "fig,ax=plt.subplots(figsize=(4,4.2))\n",
    "# ax.plot(x_values,4*9.5*1e-3*x_values,'--',lw=2,alpha=0.8,c='C1')\n",
    "# ax.plot(x_values,4*1.8*1e-3*x_values,'--',lw=2,alpha=0.8,c='C0')\n",
    "#plot data\n",
    "ax.plot(x_values,y_values,lw=2,alpha=0.8,c=c)\n",
    "ax.fill_between(x_values,y_values-yerr_values,y_values+yerr_values,lw=2,alpha=0.4,color=c)\n",
    "format_plot(ax=ax,xlabel=r'$t_f-t$ (ms)',ylabel=r'MSR (cm$^2$)')\n",
    "ax.set_xlim([0,200])\n",
    "ax.set_ylim([0,8])\n",
    "plt.show()"
   ]
  },
  {
   "cell_type": "code",
   "execution_count": 65,
   "id": "ed0f1909",
   "metadata": {
    "ExecuteTime": {
     "end_time": "2022-07-06T19:44:33.997759Z",
     "start_time": "2022-07-06T19:44:33.982418Z"
    },
    "hidden": true
   },
   "outputs": [],
   "source": [
    "# range_data_dir"
   ]
  },
  {
   "cell_type": "code",
   "execution_count": 66,
   "id": "9db8947f",
   "metadata": {
    "ExecuteTime": {
     "end_time": "2022-07-06T19:44:34.215050Z",
     "start_time": "2022-07-06T19:44:34.073932Z"
    },
    "hidden": true
   },
   "outputs": [
    {
     "data": {
      "image/png": "[encoded data removed]",
      "text/plain": [
       "<Figure size 800x420 with 1 Axes>"
      ]
     },
     "metadata": {},
     "output_type": "display_data"
    }
   ],
   "source": [
    "#plot expected\n",
    "fig,ax=plt.subplots(figsize=(8,4.2))\n",
    "# ax.plot(x_values,4*9.5*1e-3*x_values,'--',lw=2,alpha=0.8,c='C1')\n",
    "# ax.plot(x_values,4*1.8*1e-3*x_values,'--',lw=2,alpha=0.8,c='C0')\n",
    "#plot data\n",
    "ax.plot(x_values,y_values,lw=2,alpha=0.8,c=c)\n",
    "ax.fill_between(x_values,y_values-yerr_values,y_values+yerr_values,lw=2,alpha=0.4,color=c)\n",
    "format_plot(ax=ax,xlabel=r'$t_f-t$ (ms)',ylabel=r'MSR (cm$^2$)')\n",
    "ax.set_xlim([0,2000])\n",
    "ax.set_ylim([0,8])\n",
    "plt.show()"
   ]
  },
  {
   "cell_type": "code",
   "execution_count": 67,
   "id": "0b5a61ab",
   "metadata": {
    "ExecuteTime": {
     "end_time": "2022-07-06T19:44:34.306442Z",
     "start_time": "2022-07-06T19:44:34.287578Z"
    },
    "hidden": true
   },
   "outputs": [
    {
     "name": "stdout",
     "output_type": "stream",
     "text": [
      "msr_dir_bootstrap='/home/timothytyree/Documents/GitHub/care/notebooks/Data/initial-conditions-fk-200x200/param_set_8_ds_5.0_tmax_10_diffCoef_0.0005/annihilation_msr.csv'\n"
     ]
    }
   ],
   "source": [
    "#save msr as .csv\n",
    "msr_dir_bootstrap=range_data_dir.replace('annihilation_range_timeseries.pkl','annihilation_msr.csv')\n",
    "df_bootstrap.to_csv(msr_dir_bootstrap,index=False)\n",
    "print(f\"{msr_dir_bootstrap=}\")"
   ]
  },
  {
   "cell_type": "code",
   "execution_count": 5,
   "id": "c0368a36",
   "metadata": {
    "ExecuteTime": {
     "end_time": "2022-07-07T19:58:09.502928Z",
     "start_time": "2022-07-07T19:58:09.444782Z"
    },
    "hidden": true
   },
   "outputs": [],
   "source": [
    "# search_for_file()"
   ]
  },
  {
   "cell_type": "code",
   "execution_count": 52,
   "id": "c2abd399",
   "metadata": {
    "ExecuteTime": {
     "end_time": "2022-07-06T05:28:05.885796Z",
     "start_time": "2022-07-06T05:28:05.846268Z"
    },
    "hidden": true
   },
   "outputs": [
    {
     "name": "stdout",
     "output_type": "stream",
     "text": [
      "found 324 files comparable to /home/timothytyree/Documents/GitHub/care/notebooks/Data/initial-conditions-fk-200x200/param_set_8_ds_5.0_tmax_10_diffCoef_0.0005/Log/ic200x200.0.0_log.csv\n"
     ]
    }
   ],
   "source": [
    "# input_dir='/home/timothytyree/Documents/GitHub/care/notebooks/Data/initial-conditions-fk-200x200/param_set_8_ds_5.0_tmax_10_diffCoef_0.0005/Log/ic200x200.0.1_log.csv'\n",
    "# input_folder=os.path.dirname(input_dir)\n",
    "# fn_lst=[os.path.join(input_folder,x) for x in sorted(os.listdir(input_folder)) if x.find('_log.csv')!=-1]\n",
    "# print(f\"found {len(fn_lst)} files comparable to {fn_lst[0]}\")\n"
   ]
  },
  {
   "cell_type": "markdown",
   "id": "78335997",
   "metadata": {
    "heading_collapsed": true
   },
   "source": [
    "# MSR-Consistent Theory"
   ]
  },
  {
   "cell_type": "markdown",
   "id": "f2001c1d",
   "metadata": {
    "ExecuteTime": {
     "end_time": "2022-06-22T17:50:35.907391Z",
     "start_time": "2022-06-22T17:50:35.850414Z"
    },
    "hidden": true
   },
   "source": [
    "Our hypothesis is that the range between particles is consistent between the two particle models in the mean square.  In other words,\n",
    "$$\n",
    "\\mathbb{E}_{\\Gamma/2}\\Big[\\text{MSR}_\\text{Lin.}\\Big] \\overset{!}{=} \\mathbb{E}_{\\Gamma/2}\\Big[\\text{MSR}_\\text{Aff.Osc}\\Big].\n",
    "$$\n",
    "\n",
    "Let $z=\\omega(\\Gamma/2)$, $D_\\text{Aff.Osc.}=D_\\text{Lin.}=D=$constant, and let $\\phi_f=0$. Then, the aforementioned _ansatz_ simplifies to\n",
    "\n",
    "$$\n",
    "a_\\text{Lin.}=a_0 + \\frac{a_1}{1+z^2}.\n",
    "$$\n"
   ]
  },
  {
   "cell_type": "markdown",
   "id": "9dcb4e60",
   "metadata": {
    "hidden": true
   },
   "source": [
    "For general $\\phi_f\\in\\mathbb{R}$, the aforementioned _ansatz_ simplifies to\n",
    "\n",
    "$$\n",
    "a_\\text{Lin.}=a_0 + a_1\\frac{\\cos(\\phi_f)-z\\sin(\\phi_f)}{1+z^2}.\n",
    "$$"
   ]
  },
  {
   "cell_type": "code",
   "execution_count": 5,
   "id": "da28fd84",
   "metadata": {
    "ExecuteTime": {
     "end_time": "2022-07-13T21:18:17.036705Z",
     "start_time": "2022-07-13T21:18:16.948224Z"
    },
    "hidden": true
   },
   "outputs": [
    {
     "name": "stdout",
     "output_type": "stream",
     "text": [
      "a0=5.4959, a1=6.2230, z=0.7000, phase=-1.1497 --> alinear=9.8712\n"
     ]
    }
   ],
   "source": [
    "#WJ'S informal fit from fortran\n",
    "#predicted values\n",
    "a0=5.4958675607488825 #cm^2/s\n",
    "a1=6.2229999145162314 #cm^2/s\n",
    "period=179.51957944083097 #ms\n",
    "# phase=1.1497012691466562\n",
    "# phase=0\n",
    "phase=-1.1497012691466562\n",
    "Gamma = 20 #ms\n",
    "\n",
    "\n",
    "omega = 2*np.pi/period\n",
    "z = Gamma*omega\n",
    "alinear=a0 + a1*(np.cos(phase)-z*np.sin(phase))/(1 + z**2)\n",
    "print(f\"{a0=:.4f}, {a1=:.4f}, {z=:.4f}, {phase=:.4f} --> {alinear=:.4f}\")"
   ]
  },
  {
   "cell_type": "markdown",
   "id": "28e85d04",
   "metadata": {},
   "source": [
    "# Fit MSR(t') to the affine oscillatory model"
   ]
  },
  {
   "cell_type": "markdown",
   "id": "f6d1dc3c",
   "metadata": {},
   "source": [
    "## load MSR(t') data"
   ]
  },
  {
   "cell_type": "code",
   "execution_count": 6,
   "id": "4dffd4c2",
   "metadata": {
    "ExecuteTime": {
     "end_time": "2022-07-13T21:18:18.236894Z",
     "start_time": "2022-07-13T21:18:18.172868Z"
    }
   },
   "outputs": [],
   "source": [
    "# #######################\n",
    "# # Luo-Rudy\n",
    "# #######################\n",
    "# #WJ's data for LR model (200x200)\n",
    "# # msr_dir_bootstrap='/home/timothytyree/Documents/GitHub/care/notebooks/Data/from_wjr/tippos_per_001_annihilation_msr.csv'\n",
    "# # #my data for LR model (200x200) diffCoeff=0.001\n",
    "# # msr_dir_bootstrap='/home/timothytyree/Documents/GitHub/care/notebooks/Data/initial-conditions-suite-3-LR/ds_5_param_qu_tmax_30_Ko_5.4_diffCoef_0.001/annihilation_msr.csv'\n",
    "# # #my data for LR model (200x200) diffCoeff=0.0005\n",
    "# # msr_dir_bootstrap='/home/timothytyree/Documents/GitHub/care/notebooks/Data/initial-conditions-suite-3-LR/param_qu_tmax_30_Ko_5.4_diffCoef_0.0005_dt_0.5/annihilation_msr.csv'\n",
    "\n",
    "# #######################\n",
    "# # Fenton-Karma\n",
    "# #######################\n",
    "# # msr_dir_bootstrap='/home/timothytyree/Documents/GitHub/care/notebooks/Data/initial-conditions-fk-200x200/param_set_8_ds_5.0_tmax_10_diffCoef_0.0005/annihilation_msr.csv'\n",
    "# msr_dir_bootstrap='/home/timothytyree/Documents/GitHub/care/notebooks/Data/initial-conditions-fk-200x200/param_set_8_ds_5.0_tmax_30_diffCoef_0.001_dt_1/annihilation_msr.csv'"
   ]
  },
  {
   "cell_type": "code",
   "execution_count": 6,
   "id": "9dba7625",
   "metadata": {
    "ExecuteTime": {
     "end_time": "2022-07-20T20:34:22.894539Z",
     "start_time": "2022-07-20T20:34:22.845583Z"
    }
   },
   "outputs": [],
   "source": [
    "# #######################\n",
    "# # Luo-Rudy\n",
    "# #######################\n",
    "# #WJ's data for LR model (200x200)\n",
    "msr_dir_bootstrap=f'{nb_dir}/Data/range_timeseries/from_wjr_lr_200x200_diffcoeff_0.001/tippos_per_001_annihilation_msr.csv'\n",
    "# # # #my data for LR model (200x200) diffCoeff=0.001\n",
    "# msr_dir_bootstrap=f'{nb_dir}/Data/range_timeseries/initial-conditions-suite-3-LR_ds_5_param_qu_tmax_30_Ko_5.4_diffCoef_0.001/annihilation_msr.csv'\n",
    "# # # #my data for LR model (200x200) diffCoeff=0.0005\n",
    "# msr_dir_bootstrap=f'{nb_dir}/Data/range_timeseries/initial-condition-suite-3-LR_param_qu_tmax_30_Ko_5.4_diffCoef_0.0005_dt_0.5/annihilation_msr.csv'\n",
    "\n",
    "# # #######################\n",
    "# # # Fenton-Karma\n",
    "# # #######################\n",
    "# msr_dir_bootstrap=f'{nb_dir}/Data/range_timeseries/initial-conditions-fk-200x200_param_set_8_ds_5.0_tmax_10_diffCoef_0.0005/annihilation_msr.csv'\n",
    "# msr_dir_bootstrap=f'{nb_dir}/Data/range_timeseries/initial-conditions-fk-200x200_param_set_8_ds_5.0_tmax_30_diffCoef_0.001_dt_1/annihilation_msr.csv'\n",
    "\n",
    "# save_folder=f'{nb_dir}/Data/range_timeseries/'\n"
   ]
  },
  {
   "cell_type": "code",
   "execution_count": 7,
   "id": "9bc6945d",
   "metadata": {
    "ExecuteTime": {
     "end_time": "2022-07-20T20:34:23.796332Z",
     "start_time": "2022-07-20T20:34:23.723893Z"
    }
   },
   "outputs": [
    {
     "data": {
      "text/html": [
       "<div>\n",
       "<style scoped>\n",
       "    .dataframe tbody tr th:only-of-type {\n",
       "        vertical-align: middle;\n",
       "    }\n",
       "\n",
       "    .dataframe tbody tr th {\n",
       "        vertical-align: top;\n",
       "    }\n",
       "\n",
       "    .dataframe thead th {\n",
       "        text-align: right;\n",
       "    }\n",
       "</style>\n",
       "<table border=\"1\" class=\"dataframe\">\n",
       "  <thead>\n",
       "    <tr style=\"text-align: right;\">\n",
       "      <th></th>\n",
       "      <th>tdeath_avg</th>\n",
       "      <th>MSR</th>\n",
       "      <th>Delta_tdeath_avg</th>\n",
       "      <th>Delta_MSR</th>\n",
       "      <th>p_tdeath_avg</th>\n",
       "      <th>p_MSR</th>\n",
       "      <th>counts</th>\n",
       "    </tr>\n",
       "  </thead>\n",
       "  <tbody>\n",
       "    <tr>\n",
       "      <th>0</th>\n",
       "      <td>0.0</td>\n",
       "      <td>0.039163</td>\n",
       "      <td>0.0</td>\n",
       "      <td>0.000592</td>\n",
       "      <td>0.0</td>\n",
       "      <td>0.591300</td>\n",
       "      <td>15273</td>\n",
       "    </tr>\n",
       "    <tr>\n",
       "      <th>1</th>\n",
       "      <td>1.0</td>\n",
       "      <td>0.112644</td>\n",
       "      <td>0.0</td>\n",
       "      <td>0.001484</td>\n",
       "      <td>0.0</td>\n",
       "      <td>0.829643</td>\n",
       "      <td>13885</td>\n",
       "    </tr>\n",
       "    <tr>\n",
       "      <th>2</th>\n",
       "      <td>2.0</td>\n",
       "      <td>0.173819</td>\n",
       "      <td>0.0</td>\n",
       "      <td>0.002409</td>\n",
       "      <td>0.0</td>\n",
       "      <td>0.894476</td>\n",
       "      <td>13043</td>\n",
       "    </tr>\n",
       "    <tr>\n",
       "      <th>3</th>\n",
       "      <td>3.0</td>\n",
       "      <td>0.229284</td>\n",
       "      <td>0.0</td>\n",
       "      <td>0.003359</td>\n",
       "      <td>0.0</td>\n",
       "      <td>0.123128</td>\n",
       "      <td>12294</td>\n",
       "    </tr>\n",
       "    <tr>\n",
       "      <th>4</th>\n",
       "      <td>4.0</td>\n",
       "      <td>0.282268</td>\n",
       "      <td>0.0</td>\n",
       "      <td>0.004175</td>\n",
       "      <td>0.0</td>\n",
       "      <td>0.842903</td>\n",
       "      <td>11661</td>\n",
       "    </tr>\n",
       "  </tbody>\n",
       "</table>\n",
       "</div>"
      ],
      "text/plain": [
       "   tdeath_avg       MSR  Delta_tdeath_avg  Delta_MSR  p_tdeath_avg     p_MSR  \\\n",
       "0         0.0  0.039163               0.0   0.000592           0.0  0.591300   \n",
       "1         1.0  0.112644               0.0   0.001484           0.0  0.829643   \n",
       "2         2.0  0.173819               0.0   0.002409           0.0  0.894476   \n",
       "3         3.0  0.229284               0.0   0.003359           0.0  0.123128   \n",
       "4         4.0  0.282268               0.0   0.004175           0.0  0.842903   \n",
       "\n",
       "   counts  \n",
       "0   15273  \n",
       "1   13885  \n",
       "2   13043  \n",
       "3   12294  \n",
       "4   11661  "
      ]
     },
     "execution_count": 7,
     "metadata": {},
     "output_type": "execute_result"
    }
   ],
   "source": [
    "df_bootstrap=pd.read_csv(msr_dir_bootstrap)\n",
    "df_bootstrap.head()"
   ]
  },
  {
   "cell_type": "code",
   "execution_count": 8,
   "id": "20474ed4",
   "metadata": {
    "ExecuteTime": {
     "end_time": "2022-07-20T20:34:30.616255Z",
     "start_time": "2022-07-20T20:34:30.157822Z"
    }
   },
   "outputs": [
    {
     "data": {
      "image/png": "[encoded data removed]",
      "text/plain": [
       "<Figure size 400x420 with 1 Axes>"
      ]
     },
     "metadata": {},
     "output_type": "display_data"
    }
   ],
   "source": [
    "#plot expected\n",
    "# c='C0'\n",
    "c='C1'\n",
    "c='k'\n",
    "# figsize=(8,4.2)\n",
    "figsize=(4,4.2)\n",
    "\n",
    "x_values=df_bootstrap['tdeath_avg'].values\n",
    "y_values=df_bootstrap['MSR'].values\n",
    "yerr_values=df_bootstrap['Delta_MSR'].values\n",
    "x_values.shape,y_values.shape,yerr_values.shape\n",
    "\n",
    "fig,ax=plt.subplots(figsize=figsize)\n",
    "# ax.plot(x_values,4*9.5*1e-3*x_values,'--',lw=2,alpha=0.8,c='C1')\n",
    "# ax.plot(x_values,4*1.8*1e-3*x_values,'--',lw=2,alpha=0.8,c='C0')\n",
    "#plot data\n",
    "ax.plot(x_values,y_values,lw=2,alpha=0.8,c=c)\n",
    "ax.fill_between(x_values,y_values-yerr_values,y_values+yerr_values,lw=2,alpha=0.4,color=c)\n",
    "format_plot(ax=ax,xlabel=r'$t_f-t$ (ms)',ylabel=r'MSR (cm$^2$)')\n",
    "ax.set_xlim([0,200])\n",
    "# ax.set_xlim([0,2000])\n",
    "ax.set_ylim([0,8])\n",
    "plt.show()"
   ]
  },
  {
   "cell_type": "markdown",
   "id": "4e55a89e",
   "metadata": {},
   "source": [
    "## fit the full msr to the affine oscillatory msr using simulated annealing"
   ]
  },
  {
   "cell_type": "code",
   "execution_count": 9,
   "id": "5546f28f",
   "metadata": {
    "ExecuteTime": {
     "end_time": "2022-07-20T20:34:56.351005Z",
     "start_time": "2022-07-20T20:34:56.303175Z"
    }
   },
   "outputs": [
    {
     "name": "stdout",
     "output_type": "stream",
     "text": [
      "max_tdeath=100.0 ms\n",
      "src: msr_dir_bootstrap='/Users/timothytyree/Documents/GitHub/care/notebooks/Data/range_timeseries/from_wjr_lr_200x200_diffcoeff_0.001/tippos_per_001_annihilation_msr.csv'\n"
     ]
    }
   ],
   "source": [
    "#select msr from the full models for fitting\n",
    "# max_tdeath=100. #ms\n",
    "# max_tdeath=200. #ms\n",
    "max_tdeath=300. #ms\n",
    "#INPUT: FK MODEL\n",
    "boo=x_values<max_tdeath\n",
    "t_values=x_values[boo].copy()*1e-3\n",
    "msr_values=y_values[boo].copy() \n",
    "msr_values-= np.min(msr_values)\n",
    "D=0.365 #cm^2/s, as observed\n",
    "Gamma = 100. # ~ 197/2 #ms #for predicting alinear only\n",
    "# Gamma = 200. # ~ 197/2 #ms #for predicting alinear only\n",
    "\n",
    "# #INPUT: LR MODEL\n",
    "max_tdeath=100. #ms\n",
    "boo=x_values<max_tdeath\n",
    "t_values=x_values[boo].copy()*1e-3\n",
    "msr_values=y_values[boo].copy()\n",
    "msr_values-= np.min(msr_values)\n",
    "D=0.58 #cm^2/s, as observed\n",
    "Gamma = 33.4 # 20. # ~ 40/2 #ms #for predicting alinear only\n",
    "\n",
    "print(f\"{max_tdeath=} ms\")\n",
    "print(f\"src: {msr_dir_bootstrap=}\")"
   ]
  },
  {
   "cell_type": "code",
   "execution_count": 10,
   "id": "dc665bee",
   "metadata": {
    "ExecuteTime": {
     "end_time": "2022-07-20T20:35:53.229268Z",
     "start_time": "2022-07-20T20:34:59.149146Z"
    },
    "scrolled": true
   },
   "outputs": [
    {
     "name": "stdout",
     "output_type": "stream",
     "text": [
      "num. epochs: 10000\n",
      "simulated annealing fit: a0=4.4730, a1=12.2940, period=104.4021, phase=-0.8972 --> rmse=0.0595 cm^2\n",
      "\tattraction coefficient: a0=4.4730, a1=12.2940, z=2.0101, phase=-0.8972 --> alinear=9.8263 cm^2/s\n",
      "num. epochs: 100000\n",
      "simulated annealing fit: a0=4.3874, a1=12.4863, period=102.1579, phase=-0.9685 --> rmse=0.0590 cm^2\n",
      "\tattraction coefficient: a0=4.3874, a1=12.4863, z=2.0543, phase=-0.9685 --> alinear=9.7918 cm^2/s\n"
     ]
    }
   ],
   "source": [
    "maxiter=10000\n",
    "print(f\"num. epochs: {maxiter}\")\n",
    "res = anneal_msr_fit(t_values,msr_values,D,\n",
    "                   bounds = ((0, 100), (0, 100), (50, 300), (-3.15,3.15)),\n",
    "                   maxiter=maxiter,seed=42, no_local_search=True)#,**kwargs)\n",
    "rmse= np.sqrt(res.fun/t_values.shape[0])\n",
    "a0,a1,period,phase=res.x\n",
    "print(f\"simulated annealing fit: {a0=:.4f}, {a1=:.4f}, {period=:.4f}, {phase=:.4f} --> {rmse=:.4f} cm^2\")\n",
    "\n",
    "alinear = comp_alinear(a0,a1,period,Gamma,phase)\n",
    "omega = 2*np.pi/period\n",
    "z = Gamma*omega\n",
    "print(f\"\\tattraction coefficient: {a0=:.4f}, {a1=:.4f}, {z=:.4f}, {phase=:.4f} --> {alinear=:.4f} cm^2/s\")\n",
    "\n",
    "maxiter=100000\n",
    "print(f\"num. epochs: {maxiter}\")\n",
    "res = anneal_msr_fit(t_values,msr_values,D,\n",
    "                   bounds = ((0, 100), (0, 100), (50, 300), (-3.15,3.15)),\n",
    "                   maxiter=maxiter,seed=42+1, no_local_search=True)#,**kwargs)\n",
    "rmse= np.sqrt(res.fun/t_values.shape[0])\n",
    "a0,a1,period,phase=res.x\n",
    "print(f\"simulated annealing fit: {a0=:.4f}, {a1=:.4f}, {period=:.4f}, {phase=:.4f} --> {rmse=:.4f} cm^2\")\n",
    "\n",
    "alinear = comp_alinear(a0,a1,period,Gamma,phase)\n",
    "omega = 2*np.pi/period\n",
    "z = Gamma*omega\n",
    "print(f\"\\tattraction coefficient: {a0=:.4f}, {a1=:.4f}, {z=:.4f}, {phase=:.4f} --> {alinear=:.4f} cm^2/s\")"
   ]
  },
  {
   "cell_type": "code",
   "execution_count": 11,
   "id": "767a3254",
   "metadata": {
    "ExecuteTime": {
     "end_time": "2022-07-20T20:38:02.842253Z",
     "start_time": "2022-07-20T20:38:02.611682Z"
    }
   },
   "outputs": [
    {
     "data": {
      "image/png": "[encoded data removed]",
      "text/plain": [
       "<Figure size 300x300 with 1 Axes>"
      ]
     },
     "metadata": {},
     "output_type": "display_data"
    }
   ],
   "source": [
    "#visualize the fit zoomed\n",
    "boo=x_values<max_tdeath\n",
    "t_values=x_values[boo].copy()*1e-3\n",
    "\n",
    "figsize=(3,3)\n",
    "fontsize=10\n",
    "fig,ax=plt.subplots(figsize=figsize)\n",
    "period_of_oscillation=period*1e-3 #seconds\n",
    "omega=2*np.pi/period_of_oscillation\n",
    "msr_values_affoscillatory=4*((2*D+a0)*t_values+(a1/omega)*(np.sin(omega*t_values+phase)-np.sin(phase)))\n",
    "plt.plot(t_values,msr_values,label='full model')\n",
    "plt.plot(t_values,msr_values_affoscillatory,label='sim. anneal fit')\n",
    "# plt.plot(t_values,msr_values_affoscillatory,label='fit to full')\n",
    "format_plot(ax=plt.gca(),xlabel=r\"t' (s)\",ylabel=r\"MSR (cm$^2$)\",fontsize=fontsize)\n",
    "plt.legend(fontsize=fontsize)\n",
    "plt.show()"
   ]
  },
  {
   "cell_type": "code",
   "execution_count": 12,
   "id": "20ebf525",
   "metadata": {
    "ExecuteTime": {
     "end_time": "2022-07-20T20:38:05.934406Z",
     "start_time": "2022-07-20T20:38:05.693997Z"
    }
   },
   "outputs": [
    {
     "data": {
      "image/png": "[encoded data removed]",
      "text/plain": [
       "<Figure size 400x420 with 1 Axes>"
      ]
     },
     "metadata": {},
     "output_type": "display_data"
    }
   ],
   "source": [
    "#plot expected\n",
    "# c='C0'\n",
    "c='C1'\n",
    "# figsize=(8,4.2)\n",
    "figsize=(4,4.2)\n",
    "fontsize=14\n",
    "\n",
    "x_values=df_bootstrap['tdeath_avg'].values\n",
    "y_values=df_bootstrap['MSR'].values\n",
    "y_values-=np.min(y_values)\n",
    "yerr_values=df_bootstrap['Delta_MSR'].values\n",
    "\n",
    "t_values=x_values*1e-3\n",
    "msr_values_affoscillatory=4*((2*D+a0)*t_values+(a1/omega)*(np.sin(omega*t_values+phase)-np.sin(phase)))\n",
    "\n",
    "\n",
    "\n",
    "fig,ax=plt.subplots(figsize=figsize)\n",
    "# ax.plot(x_values,4*9.5*1e-3*x_values,'--',lw=2,alpha=0.8,c='C1')\n",
    "# ax.plot(x_values,4*1.8*1e-3*x_values,'--',lw=2,alpha=0.8,c='C0')\n",
    "#plot data\n",
    "ax.plot(x_values,y_values,lw=2,alpha=0.8,c=c, label='Full Model')\n",
    "ax.fill_between(x_values,y_values-yerr_values,y_values+yerr_values,lw=2,alpha=0.4,color=c)\n",
    "\n",
    "ax.plot(t_values*1e3,msr_values_affoscillatory,label='Sim. Anneal Fit',c='k',alpha=0.7)\n",
    "\n",
    "format_plot(ax=ax,xlabel=r'$t_f-t$ (ms)',ylabel=r'MSR (cm$^2$)',fontsize=fontsize)\n",
    "ax.set_xlim([0,500])\n",
    "# ax.set_xlim([0,2000])\n",
    "ax.set_ylim([0,8])\n",
    "plt.legend(fontsize=fontsize-2)\n",
    "\n",
    "plt.show()"
   ]
  },
  {
   "cell_type": "code",
   "execution_count": null,
   "id": "c304dd25",
   "metadata": {
    "ExecuteTime": {
     "end_time": "2022-07-08T19:13:23.382902Z",
     "start_time": "2022-07-08T19:13:23.315397Z"
    }
   },
   "outputs": [],
   "source": []
  },
  {
   "cell_type": "markdown",
   "id": "ed4ba319",
   "metadata": {
    "heading_collapsed": true
   },
   "source": [
    "# (supplementary) fit MSR(t') using fancy, complicated methods"
   ]
  },
  {
   "cell_type": "code",
   "execution_count": 590,
   "id": "2022cbc9",
   "metadata": {
    "ExecuteTime": {
     "end_time": "2022-07-08T20:06:57.616291Z",
     "start_time": "2022-07-08T20:06:57.578936Z"
    },
    "hidden": true
   },
   "outputs": [],
   "source": [
    "from scipy.optimize import minimize\n",
    "def comp_square_error_msr_period_fixed(x,*args):\n",
    "    \"\"\"phase is in radians. period is in milliseconds.  a0,a1 are in cm^2/s.\n",
    "\n",
    "Example Usage:\n",
    "x0=a0,a1,phase\n",
    "args=t_values,msr_values,D,period\n",
    "square_error=comp_square_error_msr_aff_osc(x0,*args)\n",
    "rmse=np.sqrt(square_error/t_values.shape[0])\n",
    "print(f\"{rmse=}\")\n",
    "    \"\"\"\n",
    "    a0,a1,phase=x\n",
    "    t_values,msr_values,D,period=args\n",
    "    omega=2*np.pi/period*1e3 #Hz bc period is in ms\n",
    "    msr_values_affoscillatory=4*((2*D+a0)*t_values+(a1/omega)*(np.sin(omega*t_values+phase)-np.sin(phase)))\n",
    "    square_error_msr=np.sum((msr_values_affoscillatory-msr_values)**2)\n",
    "    return square_error_msr"
   ]
  },
  {
   "cell_type": "code",
   "execution_count": 589,
   "id": "5caedf51",
   "metadata": {
    "ExecuteTime": {
     "end_time": "2022-07-08T20:04:31.778837Z",
     "start_time": "2022-07-08T20:04:31.302633Z"
    },
    "hidden": true,
    "scrolled": true
   },
   "outputs": [
    {
     "name": "stdout",
     "output_type": "stream",
     "text": [
      "m=14.413057752177012\n",
      "b=1.0696028305996794\n",
      "Rsquared=0.38314383286833603\n"
     ]
    },
    {
     "data": {
      "image/png": "[encoded data removed]",
      "text/plain": [
       "<Figure size 300x300 with 1 Axes>"
      ]
     },
     "metadata": {},
     "output_type": "display_data"
    },
    {
     "name": "stdout",
     "output_type": "stream",
     "text": [
      "rmse=0.2967137861796891\n",
      "baseline loss: rmse=0.2967 cm^2 (from a0=3.6033, a1=14.4131, period=100.0000, phase=-1.5708)\n",
      "method='Nelder-Mead': a0_=4.3331, a1_=12.6700, period_=104.4021, phase_=-1.0350, rmse=0.06022575035499659\n",
      "method='Powell': a0_=4.3330, a1_=12.6699, period_=104.4021, phase_=-1.0350, rmse=0.06022574586310302\n",
      "method='CG': a0_=4.3329, a1_=12.6701, period_=104.4021, phase_=-1.0350, rmse=0.06022575065235818\n",
      "method='BFGS': a0_=4.3331, a1_=12.6698, period_=104.4021, phase_=-1.0349, rmse=0.06022574402984597\n",
      "method='L-BFGS-B': a0_=4.3339, a1_=12.6684, period_=104.4021, phase_=-1.0348, rmse=0.060225857449732925\n",
      "method='TNC': a0_=4.2220, a1_=12.6540, period_=104.4021, phase_=-1.0781, rmse=0.06315296102878984\n",
      "method='COBYLA': a0_=4.3152, a1_=12.7670, period_=104.4021, phase_=-1.0336, rmse=0.06051079214409579\n",
      "method='SLSQP': a0_=4.3299, a1_=12.6710, period_=104.4021, phase_=-1.0361, rmse=0.06022781687964303\n",
      "method='trust-constr': a0_=4.3332, a1_=12.6699, period_=104.4021, phase_=-1.0349, rmse=0.06022574453792475\n"
     ]
    },
    {
     "data": {
      "image/png": "[encoded data removed]",
      "text/plain": [
       "<Figure size 300x300 with 1 Axes>"
      ]
     },
     "metadata": {},
     "output_type": "display_data"
    }
   ],
   "source": [
    "dict_output = comp_ols_simple(t_values,msr_values)\n",
    "print_dict(dict_output)\n",
    "#reasonable guess for a0\n",
    "a0 = dict_output['m']/4 #- 2*D\n",
    "a1 = float(a0)*4\n",
    "#reasonable guess for phi_f\n",
    "phase=-np.pi/2\n",
    "period=100 #ms\n",
    "\n",
    "#visualize the fitty\n",
    "figsize=(3,3)\n",
    "fontsize=10\n",
    "fig,ax=plt.subplots(figsize=figsize)\n",
    "period_of_oscillation=period*1e-3 #seconds\n",
    "omega=2*np.pi/period_of_oscillation\n",
    "msr_values_affoscillatory=4*((2*D+a0)*t_values+(a1/omega)*(np.sin(omega*t_values+phase)-np.sin(phase)))\n",
    "plt.plot(t_values,msr_values,label='full model')\n",
    "plt.plot(t_values,msr_values_affoscillatory,label='initial guess')\n",
    "# plt.plot(t_values,msr_values_affoscillatory,label='fit to full')\n",
    "format_plot(ax=plt.gca(),xlabel=r\"t' (s)\",ylabel=r\"MSR (cm$^2$)\",fontsize=fontsize)\n",
    "plt.legend(fontsize=fontsize)\n",
    "plt.show()\n",
    "\n",
    "x0=a0,a1,phase\n",
    "args=t_values,msr_values,D,period\n",
    "square_error=comp_square_error_msr_period_fixed(x0,*args)\n",
    "rmse=np.sqrt(square_error/t_values.shape[0])\n",
    "print(f\"baseline loss: {rmse=:.4f} cm^2 (from {a0=:.4f}, {a1=:.4f}, {period=:.4f}, {phase=:.4f})\")\n",
    "\n",
    "#DONDE: vary a0, a1\n",
    "# method_lst=['Nelder-Mead','Powell','CG','BFGS','Newton-CG','L-BFGS-B','TNC','COBYLA','SLSQP','trust-constr','dogleg','trust-ncg','trust-exact','trust-krylov']\n",
    "#jacobian needed # 'dogleg', 'Newton-CG', 'trust-ncg', 'trust-exact','trust-krylov' #jacobian needed\n",
    "method_lst=['Nelder-Mead','Powell','CG','BFGS','L-BFGS-B','TNC','COBYLA','SLSQP','trust-constr']\n",
    "bounds = ((0, 100), (0, 100), (-3.2,3.2))\n",
    "np.random.seed(42)   # seed to allow replication.\n",
    "for method in method_lst:\n",
    "    res = minimize(comp_square_error_msr_period_fixed, x0, args, method=method, bounds=bounds,tol=1e-3)\n",
    "    # res.x is in the basis of a0,a1  #,period,phase\n",
    "    a0_=res.x[0];a1_=res.x[1];phase_=res.x[2]\n",
    "    square_error=comp_square_error_msr_period_fixed(res.x,*args)\n",
    "    rmse=np.sqrt(square_error/t_values.shape[0])\n",
    "    print(f\"{method=}: {a0_=:.4f}, {a1_=:.4f}, {period_=:.4f}, {phase_=:.4f}, {rmse=}\")\n",
    "\n",
    "#visualize the fitty\n",
    "a0_,a1_,phase_=res.x\n",
    "period_=period\n",
    "figsize=(3,3)\n",
    "fontsize=10\n",
    "fig,ax=plt.subplots(figsize=figsize)\n",
    "period_of_oscillation=period_*1e-3 #seconds\n",
    "omega=2*np.pi/period_of_oscillation\n",
    "msr_values_affoscillatory=4*((2*D+a0_)*t_values+(a1_/omega)*(np.sin(omega*t_values+phase_)-np.sin(phase_)))\n",
    "plt.plot(t_values,msr_values,label='full model')\n",
    "plt.plot(t_values,msr_values_affoscillatory,label='fit')\n",
    "# plt.plot(t_values,msr_values_affoscillatory,label='fit to full')\n",
    "format_plot(ax=plt.gca(),xlabel=r\"t' (s)\",ylabel=r\"MSR (cm$^2$)\",fontsize=fontsize)\n",
    "plt.legend(fontsize=fontsize)\n",
    "plt.show()"
   ]
  },
  {
   "cell_type": "markdown",
   "id": "4d372170",
   "metadata": {
    "heading_collapsed": true
   },
   "source": [
    "# (supplementary) naive guess at fit"
   ]
  },
  {
   "cell_type": "code",
   "execution_count": null,
   "id": "c6a88021",
   "metadata": {
    "ExecuteTime": {
     "end_time": "2022-07-08T19:26:56.956052Z",
     "start_time": "2022-07-08T19:26:56.902673Z"
    },
    "hidden": true
   },
   "outputs": [],
   "source": [
    "#naive guess\n",
    "\n",
    "#INPUT: FK MODEL\n",
    "boo=x_values<max_tdeath\n",
    "t_values=x_values[boo].copy()*1e-3\n",
    "msr_values=y_values[boo].copy() \n",
    "msr_values-= np.min(msr_values)\n",
    "D=0.365 #cm^2/s, as observed\n",
    "Gamma = 100. # ~ 197/2 #ms #for predicting alinear only\n",
    "\n",
    "#INPUT: LR MODEL\n",
    "boo=x_values<max_tdeath\n",
    "t_values=x_values[boo].copy()*1e-3\n",
    "msr_values=y_values[boo].copy()\n",
    "msr_values-= np.min(msr_values)\n",
    "D=0.58 #cm^2/s, as observed\n",
    "Gamma = 20. # ~ 40/2 #ms #for predicting alinear only\n",
    "\n",
    "dict_output = comp_ols_simple(t_values,msr_values)\n",
    "# print_dict(dict_output)\n",
    "#reasonable guess for a0\n",
    "a0 = dict_output['m']/4 #- 2*D\n",
    "a1 = float(a0)*4\n",
    "#reasonable guess for phi_f\n",
    "phase=-np.pi/2\n",
    "period=80 #ms\n",
    "\n",
    "dict_output = comp_ols_simple(t_values,msr_values)\n",
    "# print_dict(dict_output)\n",
    "#reasonable initial guess for a0\n",
    "a0 = dict_output['m']/4 #- 2*D\n",
    "a1 = float(a0)*4\n",
    "#reasonable guess for phi_f\n",
    "phase=-np.pi/2\n",
    "period=90 #ms\n",
    "\n",
    "#simulated annealing of all variables\n",
    "x0=a0,a1,period,phase\n",
    "args=t_values,msr_values,D\n",
    "square_error=comp_square_error_msr(x0,*args)\n",
    "rmse=np.sqrt(square_error/t_values.shape[0])\n",
    "print(f\"baseline loss: {rmse=:.4f} cm^2 (from {a0=:.4f}, {a1=:.4f}, {period=:.4f}, {phase=:.4f})\")\n",
    "\n",
    "#visualize the fitty\n",
    "figsize=(3,3)\n",
    "fontsize=10\n",
    "fig,ax=plt.subplots(figsize=figsize)\n",
    "period_of_oscillation=period*1e-3 #seconds\n",
    "omega=2*np.pi/period_of_oscillation\n",
    "msr_values_affoscillatory=4*((2*D+a0)*t_values+(a1/omega)*(np.sin(omega*t_values+phase)-np.sin(phase)))\n",
    "plt.plot(t_values,msr_values,label='full model')\n",
    "plt.plot(t_values,msr_values_affoscillatory,label='initial guess')\n",
    "# plt.plot(t_values,msr_values_affoscillatory,label='fit to full')\n",
    "format_plot(ax=plt.gca(),xlabel=r\"t' (s)\",ylabel=r\"MSR (cm$^2$)\",fontsize=fontsize)\n",
    "plt.legend(fontsize=fontsize)\n",
    "plt.show()"
   ]
  }
 ],
 "metadata": {
  "hide_input": false,
  "kernelspec": {
   "display_name": "Python 3 (ipykernel)",
   "language": "python",
   "name": "python3"
  },
  "language_info": {
   "codemirror_mode": {
    "name": "ipython",
    "version": 3
   },
   "file_extension": ".py",
   "mimetype": "text/x-python",
   "name": "python",
   "nbconvert_exporter": "python",
   "pygments_lexer": "ipython3",
   "version": "3.9.5"
  },
  "nbTranslate": {
   "displayLangs": [
    "*"
   ],
   "hotkey": "alt-t",
   "langInMainMenu": true,
   "sourceLang": "en",
   "targetLang": "fr",
   "useGoogleTranslate": true
  },
  "toc": {
   "base_numbering": 1,
   "nav_menu": {},
   "number_sections": true,
   "sideBar": true,
   "skip_h1_title": false,
   "title_cell": "Table of Contents",
   "title_sidebar": "Contents",
   "toc_cell": false,
   "toc_position": {},
   "toc_section_display": true,
   "toc_window_display": false
  },
  "varInspector": {
   "cols": {
    "lenName": 16,
    "lenType": 16,
    "lenVar": 40
   },
   "kernels_config": {
    "python": {
     "delete_cmd_postfix": "",
     "delete_cmd_prefix": "del ",
     "library": "var_list.py",
     "varRefreshCmd": "print(var_dic_list())"
    },
    "r": {
     "delete_cmd_postfix": ") ",
     "delete_cmd_prefix": "rm(",
     "library": "var_list.r",
     "varRefreshCmd": "cat(var_dic_list()) "
    }
   },
   "types_to_exclude": [
    "module",
    "function",
    "builtin_function_or_method",
    "instance",
    "_Feature"
   ],
   "window_display": false
  }
 },
 "nbformat": 4,
 "nbformat_minor": 5
}
