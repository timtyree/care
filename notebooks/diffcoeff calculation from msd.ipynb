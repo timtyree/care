{
 "cells": [
  {
   "cell_type": "markdown",
   "metadata": {},
   "source": [
    "# compute D given MSD\n",
    "Tim Tyree<br>\n",
    "1.17.2021"
   ]
  },
  {
   "cell_type": "code",
   "execution_count": 2,
   "metadata": {
    "ExecuteTime": {
     "end_time": "2021-02-16T03:53:49.020770Z",
     "start_time": "2021-02-16T03:53:46.916180Z"
    }
   },
   "outputs": [
    {
     "name": "stdout",
     "output_type": "stream",
     "text": [
      "Automatic calling is: Smart\n"
     ]
    }
   ],
   "source": [
    "from lib.my_initialization import *\n",
    "from lib import *\n",
    "from lib.utils.utils_traj import *\n",
    "import trackpy\n",
    "from scipy import stats\n",
    "%autocall 1\n",
    "%load_ext autoreload\n",
    "%autoreload 2\n",
    "# awareness&chill"
   ]
  },
  {
   "cell_type": "code",
   "execution_count": 3,
   "metadata": {
    "ExecuteTime": {
     "end_time": "2021-02-16T03:53:49.173964Z",
     "start_time": "2021-02-16T03:53:49.066947Z"
    }
   },
   "outputs": [],
   "source": [
    "#make plots in darkmode\n",
    "import seaborn as sns\n",
    "from jupyterthemes import jtplot\n",
    "jtplot.style(theme='monokai', context='notebook', ticks=True, grid=False)"
   ]
  },
  {
   "cell_type": "markdown",
   "metadata": {
    "heading_collapsed": true
   },
   "source": [
    "# compute diffusion coefficients for one file of csv results for fixed tau_min/max"
   ]
  },
  {
   "cell_type": "code",
   "execution_count": 61,
   "metadata": {
    "ExecuteTime": {
     "end_time": "2021-01-19T02:37:01.769196Z",
     "start_time": "2021-01-19T02:37:01.747084Z"
    },
    "hidden": true
   },
   "outputs": [],
   "source": [
    "# def compute_diffusion_coeffs(input_file_name,tau_min=.15,tau_max=0.5):\n",
    "#     #select ranges that look linear\n",
    "#     tau_min=.15#0\n",
    "#     tau_max=0.5#$1.#0.2#seconds\n",
    "\n",
    "#     #load csv msd data\n",
    "#     df=pd.read_csv(input_file_name)\n",
    "\n",
    "#     #initialize output dataframe\n",
    "#     ef=df.groupby('src').src.count()\n",
    "#     sv=ef.index;nv=ef.values\n",
    "#     df2=pd.DataFrame({'src':sv,'N':nv})\n",
    "\n",
    "#     # select msd data for single trial\n",
    "#     src_lst=list(set(df.src.values))\n",
    "\n",
    "#     for src in src_lst:\n",
    "#         # src=src_lst[0]\n",
    "#         tau_values,msd_values=df[df.src==src][['lagt','msd']].values.T\n",
    "\n",
    "#         boo=(tau_values>=tau_min)&(tau_values<=tau_max)\n",
    "#         x_values=tau_values[boo]\n",
    "#         y_values=msd_values[boo]\n",
    "#         duration_of_traj=tau_values[-1]\n",
    "\n",
    "#         if x_values.shape[0]>0:\n",
    "#             #compute diffusion coefficient\n",
    "#             slope, intercept, r_value, p_value, std_err = stats.linregress(x_values,y_values)\n",
    "#             #    std_err: D_stderr : Standard error of the estimated gradient.\n",
    "#             #    slope  : D_expval : diffcoef of msd curve\n",
    "#             D_expval=slope\n",
    "#             D_stderr=std_err\n",
    "#             #     retval=src,duration_of_traj,D_expval,D_stderr,intercept,r_value,p_value\n",
    "#         else:\n",
    "#             #no value was found\n",
    "#             D_expval=-9999.;D_stderr=-9999.;intercept=-9999.;r_value=-9999.;p_value=-9999.\n",
    "\n",
    "#         #update output dataframe with diffusion coefficient measurements\n",
    "#         df2.loc[df2.src==src,'D_expval']=D_expval#df2.loc[df2.src==src,\n",
    "#         df2.loc[df2.src==src,'D_stderr']=D_stderr#df2.loc[df2.src==src,\n",
    "#         df2.loc[df2.src==src,'duration_of_traj']=duration_of_traj#df2.loc[df2.src==src,\n",
    "#         df2.loc[df2.src==src,'intercept']=intercept#df2.loc[df2.src==src,\n",
    "#         df2.loc[df2.src==src,'Rsquared']=r_value**2#df2.loc[df2.src==src,\n",
    "#         df2.loc[df2.src==src,'p_value']=p_value#df2.loc[df2.src==src,\n",
    "\n",
    "\n",
    "#     #save results to csv\n",
    "#     os.chdir(os.path.dirname(input_file_name))\n",
    "#     savefn=(\"diffcoeff_\"+os.path.basename(input_file_name)).replace('.csv',f'_Tmin_{tau_min}_Tmax_{tau_max}.csv')\n",
    "#     df2.to_csv(savefn)\n",
    "#     return savefn"
   ]
  },
  {
   "cell_type": "code",
   "execution_count": 58,
   "metadata": {
    "ExecuteTime": {
     "end_time": "2021-01-19T02:25:21.279427Z",
     "start_time": "2021-01-19T02:25:14.825180Z"
    },
    "hidden": true
   },
   "outputs": [
    {
     "data": {
      "text/plain": [
       "()"
      ]
     },
     "execution_count": 58,
     "metadata": {},
     "output_type": "execute_result"
    }
   ],
   "source": [
    "input_file_name=search_for_file(\"/home/timothytyree/Documents/GitHub/care/notebooks/Data\")\n",
    "input_file_name"
   ]
  },
  {
   "cell_type": "code",
   "execution_count": 57,
   "metadata": {
    "ExecuteTime": {
     "end_time": "2021-01-19T02:25:03.224124Z",
     "start_time": "2021-01-19T02:25:00.207594Z"
    },
    "hidden": true
   },
   "outputs": [
    {
     "data": {
      "text/plain": [
       "'diffcoeff_emsd_longest_by_trial_tips_ntips_1_Tmin_0.15_Tmax_0.5.csv'"
      ]
     },
     "execution_count": 57,
     "metadata": {},
     "output_type": "execute_result"
    }
   ],
   "source": [
    "retval= compute_diffusion_coeffs_for_msd(input_file_name,tau_min=.15,tau_max=0.5)\n",
    "retval"
   ]
  },
  {
   "cell_type": "code",
   "execution_count": 62,
   "metadata": {
    "ExecuteTime": {
     "end_time": "2021-01-19T02:39:17.023593Z",
     "start_time": "2021-01-19T02:39:17.002303Z"
    },
    "hidden": true
   },
   "outputs": [
    {
     "data": {
      "text/plain": [
       "'diffcoeff_emsd_longest_by_trial_tips_ntips_1_Tmin_0.15_Tmax_0.5.csv'"
      ]
     },
     "execution_count": 62,
     "metadata": {},
     "output_type": "execute_result"
    }
   ],
   "source": [
    "retval"
   ]
  },
  {
   "cell_type": "code",
   "execution_count": 63,
   "metadata": {
    "ExecuteTime": {
     "end_time": "2021-01-19T02:39:21.517896Z",
     "start_time": "2021-01-19T02:39:21.495205Z"
    },
    "hidden": true
   },
   "outputs": [
    {
     "ename": "AttributeError",
     "evalue": "'tuple' object has no attribute 'find'",
     "output_type": "error",
     "traceback": [
      "\u001b[0;31m---------------------------------------------------------------------------\u001b[0m",
      "\u001b[0;31mAttributeError\u001b[0m                            Traceback (most recent call last)",
      "\u001b[0;32m<ipython-input-63-b0927fec35fc>\u001b[0m in \u001b[0;36m<module>\u001b[0;34m\u001b[0m\n\u001b[1;32m      1\u001b[0m \u001b[0;31m#compute MSD (mean squared displacements), aggregating results\u001b[0m\u001b[0;34m\u001b[0m\u001b[0;34m\u001b[0m\u001b[0;34m\u001b[0m\u001b[0m\n\u001b[1;32m      2\u001b[0m \u001b[0mn_tips\u001b[0m\u001b[0;34m=\u001b[0m\u001b[0;36m1\u001b[0m\u001b[0;34m;\u001b[0m \u001b[0mDT\u001b[0m\u001b[0;34m=\u001b[0m\u001b[0;36m1.\u001b[0m\u001b[0;34m\u001b[0m\u001b[0;34m\u001b[0m\u001b[0m\n\u001b[0;32m----> 3\u001b[0;31m \u001b[0mretval\u001b[0m\u001b[0;34m=\u001b[0m\u001b[0mgen_msd_figs\u001b[0m\u001b[0;34m(\u001b[0m\u001b[0minput_file_name\u001b[0m\u001b[0;34m,\u001b[0m\u001b[0mn_tips\u001b[0m\u001b[0;34m,\u001b[0m \u001b[0mDT\u001b[0m\u001b[0;34m)\u001b[0m\u001b[0;34m\u001b[0m\u001b[0;34m\u001b[0m\u001b[0m\n\u001b[0m",
      "\u001b[0;32m~/Documents/GitHub/care/notebooks/lib/routines/dag_log_to_msd.py\u001b[0m in \u001b[0;36mgen_msd_figs\u001b[0;34m(file, n_tips, DT)\u001b[0m\n\u001b[1;32m     17\u001b[0m         \u001b[0mfile\u001b[0m \u001b[0;32mis\u001b[0m \u001b[0ma\u001b[0m \u001b[0mstring\u001b[0m \u001b[0mlocating\u001b[0m \u001b[0;32min\u001b[0m \u001b[0ma\u001b[0m \u001b[0mfolder\u001b[0m \u001b[0;32mwith\u001b[0m \u001b[0mfiles\u001b[0m \u001b[0mending\u001b[0m \u001b[0;32min\u001b[0m \u001b[0m_unwrap\u001b[0m\u001b[0;34m.\u001b[0m\u001b[0mcsv\u001b[0m\u001b[0;34m\u001b[0m\u001b[0;34m\u001b[0m\u001b[0m\n\u001b[1;32m     18\u001b[0m \tn_tips is the number of tips\"\"\"\n\u001b[0;32m---> 19\u001b[0;31m         \u001b[0;32mreturn\u001b[0m \u001b[0mgenerate_msd_figures_routine\u001b[0m\u001b[0;34m(\u001b[0m\u001b[0mfile\u001b[0m\u001b[0;34m,\u001b[0m\u001b[0mn_tips\u001b[0m\u001b[0;34m,\u001b[0m \u001b[0mDT\u001b[0m\u001b[0;34m=\u001b[0m\u001b[0mDT\u001b[0m\u001b[0;34m,\u001b[0m \u001b[0mV_thresh\u001b[0m\u001b[0;34m=\u001b[0m\u001b[0;32mNone\u001b[0m\u001b[0;34m)\u001b[0m\u001b[0;34m\u001b[0m\u001b[0;34m\u001b[0m\u001b[0m\n\u001b[0m\u001b[1;32m     20\u001b[0m \u001b[0;34m\u001b[0m\u001b[0m\n\u001b[1;32m     21\u001b[0m \u001b[0;32mdef\u001b[0m \u001b[0mgen_diffcoeff_figs\u001b[0m\u001b[0;34m(\u001b[0m\u001b[0mfile\u001b[0m\u001b[0;34m)\u001b[0m\u001b[0;34m:\u001b[0m\u001b[0;34m\u001b[0m\u001b[0;34m\u001b[0m\u001b[0m\n",
      "\u001b[0;32m~/Documents/GitHub/care/notebooks/lib/routines/compute_msd.py\u001b[0m in \u001b[0;36mgenerate_msd_figures_routine\u001b[0;34m(file, n_tips, DT, V_thresh)\u001b[0m\n\u001b[1;32m    277\u001b[0m     \u001b[0;34m'''file is an unwrapped trajectory csv file'''\u001b[0m\u001b[0;34m\u001b[0m\u001b[0;34m\u001b[0m\u001b[0m\n\u001b[1;32m    278\u001b[0m     \u001b[0;32mif\u001b[0m \u001b[0mV_thresh\u001b[0m\u001b[0;34m==\u001b[0m\u001b[0;32mNone\u001b[0m\u001b[0;34m:\u001b[0m\u001b[0;34m\u001b[0m\u001b[0;34m\u001b[0m\u001b[0m\n\u001b[0;32m--> 279\u001b[0;31m         \u001b[0;32mif\u001b[0m \u001b[0mfile\u001b[0m\u001b[0;34m.\u001b[0m\u001b[0mfind\u001b[0m\u001b[0;34m(\u001b[0m\u001b[0;34m'_V_'\u001b[0m\u001b[0;34m)\u001b[0m\u001b[0;34m!=\u001b[0m\u001b[0;34m-\u001b[0m\u001b[0;36m1\u001b[0m\u001b[0;34m:\u001b[0m\u001b[0;34m\u001b[0m\u001b[0;34m\u001b[0m\u001b[0m\n\u001b[0m\u001b[1;32m    280\u001b[0m             \u001b[0mV_thresh\u001b[0m \u001b[0;34m=\u001b[0m \u001b[0meval\u001b[0m\u001b[0;34m(\u001b[0m\u001b[0mfile\u001b[0m\u001b[0;34m[\u001b[0m\u001b[0mfile\u001b[0m\u001b[0;34m.\u001b[0m\u001b[0mfind\u001b[0m\u001b[0;34m(\u001b[0m\u001b[0;34m'_V_'\u001b[0m\u001b[0;34m)\u001b[0m\u001b[0;34m+\u001b[0m\u001b[0mlen\u001b[0m\u001b[0;34m(\u001b[0m\u001b[0;34m'_V_'\u001b[0m\u001b[0;34m)\u001b[0m\u001b[0;34m:\u001b[0m\u001b[0;34m]\u001b[0m\u001b[0;34m.\u001b[0m\u001b[0msplit\u001b[0m\u001b[0;34m(\u001b[0m\u001b[0;34m'_'\u001b[0m\u001b[0;34m)\u001b[0m\u001b[0;34m[\u001b[0m\u001b[0;36m0\u001b[0m\u001b[0;34m]\u001b[0m\u001b[0;34m)\u001b[0m\u001b[0;34m\u001b[0m\u001b[0;34m\u001b[0m\u001b[0m\n\u001b[1;32m    281\u001b[0m     \u001b[0minput_file_name\u001b[0m\u001b[0;34m=\u001b[0m\u001b[0mfile\u001b[0m\u001b[0;34m\u001b[0m\u001b[0;34m\u001b[0m\u001b[0m\n",
      "\u001b[0;31mAttributeError\u001b[0m: 'tuple' object has no attribute 'find'"
     ]
    }
   ],
   "source": [
    "#compute MSD (mean squared displacements), aggregating results\n",
    "n_tips=1; DT=1.\n",
    "retval=gen_msd_figs(input_file_name,n_tips, DT)"
   ]
  },
  {
   "cell_type": "code",
   "execution_count": null,
   "metadata": {
    "ExecuteTime": {
     "end_time": "2021-01-19T02:19:31.320996Z",
     "start_time": "2021-01-19T02:19:31.299128Z"
    },
    "hidden": true
   },
   "outputs": [],
   "source": []
  },
  {
   "cell_type": "markdown",
   "metadata": {
    "heading_collapsed": true,
    "hidden": true
   },
   "source": [
    "## visualize for one trial msd versus lag time"
   ]
  },
  {
   "cell_type": "code",
   "execution_count": 155,
   "metadata": {
    "ExecuteTime": {
     "end_time": "2021-01-18T20:59:23.305822Z",
     "start_time": "2021-01-18T20:59:22.920399Z"
    },
    "hidden": true
   },
   "outputs": [
    {
     "data": {
      "text/html": [
       "<div>\n",
       "<style scoped>\n",
       "    .dataframe tbody tr th:only-of-type {\n",
       "        vertical-align: middle;\n",
       "    }\n",
       "\n",
       "    .dataframe tbody tr th {\n",
       "        vertical-align: top;\n",
       "    }\n",
       "\n",
       "    .dataframe thead th {\n",
       "        text-align: right;\n",
       "    }\n",
       "</style>\n",
       "<table border=\"1\" class=\"dataframe\">\n",
       "  <thead>\n",
       "    <tr style=\"text-align: right;\">\n",
       "      <th></th>\n",
       "      <th>msd</th>\n",
       "      <th>lagt</th>\n",
       "      <th>src</th>\n",
       "    </tr>\n",
       "  </thead>\n",
       "  <tbody>\n",
       "    <tr>\n",
       "      <th>0</th>\n",
       "      <td>0.000155</td>\n",
       "      <td>0.001</td>\n",
       "      <td>ic_200x200.001.11_traj_sr_400_mem_2.csv</td>\n",
       "    </tr>\n",
       "    <tr>\n",
       "      <th>1</th>\n",
       "      <td>0.000598</td>\n",
       "      <td>0.002</td>\n",
       "      <td>ic_200x200.001.11_traj_sr_400_mem_2.csv</td>\n",
       "    </tr>\n",
       "    <tr>\n",
       "      <th>2</th>\n",
       "      <td>0.001306</td>\n",
       "      <td>0.003</td>\n",
       "      <td>ic_200x200.001.11_traj_sr_400_mem_2.csv</td>\n",
       "    </tr>\n",
       "    <tr>\n",
       "      <th>3</th>\n",
       "      <td>0.002258</td>\n",
       "      <td>0.004</td>\n",
       "      <td>ic_200x200.001.11_traj_sr_400_mem_2.csv</td>\n",
       "    </tr>\n",
       "    <tr>\n",
       "      <th>4</th>\n",
       "      <td>0.003435</td>\n",
       "      <td>0.005</td>\n",
       "      <td>ic_200x200.001.11_traj_sr_400_mem_2.csv</td>\n",
       "    </tr>\n",
       "  </tbody>\n",
       "</table>\n",
       "</div>"
      ],
      "text/plain": [
       "        msd   lagt                                      src\n",
       "0  0.000155  0.001  ic_200x200.001.11_traj_sr_400_mem_2.csv\n",
       "1  0.000598  0.002  ic_200x200.001.11_traj_sr_400_mem_2.csv\n",
       "2  0.001306  0.003  ic_200x200.001.11_traj_sr_400_mem_2.csv\n",
       "3  0.002258  0.004  ic_200x200.001.11_traj_sr_400_mem_2.csv\n",
       "4  0.003435  0.005  ic_200x200.001.11_traj_sr_400_mem_2.csv"
      ]
     },
     "execution_count": 155,
     "metadata": {},
     "output_type": "execute_result"
    }
   ],
   "source": [
    "#load csv msd data\n",
    "df=pd.read_csv(input_file_name)\n",
    "df.head()"
   ]
  },
  {
   "cell_type": "code",
   "execution_count": 156,
   "metadata": {
    "ExecuteTime": {
     "end_time": "2021-01-18T20:59:28.741128Z",
     "start_time": "2021-01-18T20:59:28.654611Z"
    },
    "hidden": true
   },
   "outputs": [],
   "source": [
    "# select msd data for single trial\n",
    "src_lst=list(set(df.src.values))\n",
    "src=src_lst[0]\n",
    "t_values,msd_values=df[df.src==src][['lagt','msd']].values.T"
   ]
  },
  {
   "cell_type": "code",
   "execution_count": 159,
   "metadata": {
    "ExecuteTime": {
     "end_time": "2021-01-18T21:00:45.944463Z",
     "start_time": "2021-01-18T21:00:30.589973Z"
    },
    "hidden": true,
    "scrolled": true
   },
   "outputs": [
    {
     "data": {
      "image/png": "[encoded data removed]",
      "text/plain": [
       "<Figure size 648x432 with 1 Axes>"
      ]
     },
     "metadata": {},
     "output_type": "display_data"
    }
   ],
   "source": [
    "# plot msd for each trial versus lag\n",
    "saving = False\n",
    "V_thresh=0.4\n",
    "savefig_fn = os.path.basename(input_file_name).replace('.csv','_short_time.svg')\n",
    "savefig_folder = os.path.join(nb_dir,f'Figures/msd/V_{V_thresh}')\n",
    "fontsize =22\n",
    "figsize=(9,6)\n",
    "\n",
    "fig, ax = plt.subplots(figsize=figsize)\n",
    "# x_values = ef.index.values#*DT/10**3 #lag in seconds\n",
    "# y_values = ef.values#*DS**2 #msd\n",
    "ax.plot(t_values,msd_values,c='g',lw=2)\n",
    "\n",
    "for src in src_lst:\n",
    "    x_values = df[df.src==src].lagt.values\n",
    "    y_values = df[df.src==src].msd.values\n",
    "    ax.plot(x_values,y_values,c='blue',alpha=0.2)\n",
    "# DS = 5/200 #cm per pixel\n",
    "# DT = 1. #ms per frame\n",
    "# D = 1/0.013# param set 8 ds 5\n",
    "D=0.6/0.2\n",
    "ax.plot(t_values,t_values*D,c='r',lw=2)\n",
    "\n",
    "\n",
    "ax.set_xlim([0,1.])#.2])\n",
    "ax.set_ylim([0,10])#1])\n",
    "ax.set_xlabel('lag (s)', fontsize=fontsize)\n",
    "ax.set_ylabel(r'MSD (cm$^2$)', fontsize=fontsize)\n",
    "ax.tick_params(axis='both', which='major', labelsize=fontsize)\n",
    "ax.tick_params(axis='both', which='minor', labelsize=0)\n",
    "if not saving: \n",
    "    plt.show() \n",
    "else:\n",
    "    plt.tight_layout()\n",
    "    os.chdir(savefig_folder)\n",
    "    plt.savefig(savefig_fn, dpi=300)\n",
    "    print(f\"saved figure in \\n\\t{savefig_fn}\")"
   ]
  },
  {
   "cell_type": "code",
   "execution_count": 47,
   "metadata": {
    "ExecuteTime": {
     "end_time": "2021-01-18T05:28:55.538065Z",
     "start_time": "2021-01-18T05:28:55.512475Z"
    },
    "hidden": true
   },
   "outputs": [],
   "source": []
  },
  {
   "cell_type": "markdown",
   "metadata": {
    "hidden": true
   },
   "source": [
    "_Schema_:\n",
    "- src\n",
    "    - duration_of_traj\n",
    "    - D_expval\n",
    "    - D_stderr\n",
    "    - intercept\n",
    "    - r_value\n",
    "    - p_value"
   ]
  },
  {
   "cell_type": "code",
   "execution_count": null,
   "metadata": {
    "hidden": true
   },
   "outputs": [],
   "source": []
  },
  {
   "cell_type": "code",
   "execution_count": 116,
   "metadata": {
    "ExecuteTime": {
     "end_time": "2021-01-18T18:45:13.516138Z",
     "start_time": "2021-01-18T18:45:13.490702Z"
    },
    "hidden": true
   },
   "outputs": [
    {
     "data": {
      "text/plain": [
       "{'ic_200x200.019.22_traj_sr_400_mem_2.csv': {'duration_of_traj': 3.695,\n",
       "  'D_expval': 4.704938247930185,\n",
       "  'D_stderr': 0.02563458304621069,\n",
       "  'intercept': 0.18092123838629748,\n",
       "  'Rsquared': 0.975444814627612,\n",
       "  'p_value': 0.0}}"
      ]
     },
     "execution_count": 116,
     "metadata": {},
     "output_type": "execute_result"
    }
   ],
   "source": [
    "# _Schema_:\n",
    "{src:{\n",
    "    \"duration_of_traj\":duration_of_traj,\n",
    "    \"D_expval\":D_expval,\n",
    "    \"D_stderr\":D_stderr,\n",
    "    \"intercept\":intercept,\n",
    "    \"Rsquared\":r_value**2,\n",
    "    \"p_value\":p_value\n",
    "}}"
   ]
  },
  {
   "cell_type": "code",
   "execution_count": 86,
   "metadata": {
    "ExecuteTime": {
     "end_time": "2021-01-18T05:50:38.038938Z",
     "start_time": "2021-01-18T05:50:37.985319Z"
    },
    "hidden": true
   },
   "outputs": [],
   "source": []
  },
  {
   "cell_type": "code",
   "execution_count": 96,
   "metadata": {
    "ExecuteTime": {
     "end_time": "2021-01-18T18:35:02.747344Z",
     "start_time": "2021-01-18T18:35:02.719182Z"
    },
    "hidden": true
   },
   "outputs": [],
   "source": []
  },
  {
   "cell_type": "markdown",
   "metadata": {
    "hidden": true
   },
   "source": [
    "It appears that changing the param set changed the diffcoef of spiral tips.  I would expect changing the domain size does not change the diffcoef of spiral tips."
   ]
  },
  {
   "cell_type": "code",
   "execution_count": null,
   "metadata": {
    "hidden": true
   },
   "outputs": [],
   "source": [
    "def compute_diffcoef(t_values,msd_values):pass\n",
    "assert(t_values.shape==msd_values.shape)"
   ]
  },
  {
   "cell_type": "markdown",
   "metadata": {
    "heading_collapsed": true
   },
   "source": [
    "# visualize diffusion coefficients for all trials in a data run"
   ]
  },
  {
   "cell_type": "code",
   "execution_count": 283,
   "metadata": {
    "ExecuteTime": {
     "end_time": "2021-01-18T22:02:09.917788Z",
     "start_time": "2021-01-18T22:02:09.900410Z"
    },
    "hidden": true
   },
   "outputs": [],
   "source": [
    "folder_name=\"/home/timothytyree/Documents/GitHub/care/notebooks/Data/initial-conditions-suite-2/ds_5_param_set_8_fastkernel_V_0.4_archive/msd\"\n",
    "os.chdir(folder_name)\n",
    "df_dir='diffcoeff_emsd_longest_by_trial_tips_ntips_1.csv'\n",
    "# df_dir=savefn\n",
    "\n",
    "df=pd.read_csv(df_dir,index_col=0)"
   ]
  },
  {
   "cell_type": "code",
   "execution_count": 284,
   "metadata": {
    "ExecuteTime": {
     "end_time": "2021-01-18T22:02:10.283426Z",
     "start_time": "2021-01-18T22:02:10.251864Z"
    },
    "hidden": true
   },
   "outputs": [
    {
     "name": "stdout",
     "output_type": "stream",
     "text": [
      "num. trials that didn't show a tip lasing longer than 150ms\n",
      "is 2.\n"
     ]
    }
   ],
   "source": [
    "#filter results by whether a D_expval was found\n",
    "print(f\"\"\"num. trials that didn't show a tip lasing longer than 150ms\n",
    "is {df[df.D_expval<-1000].N.size}.\"\"\")\n",
    "df=df[df.D_expval>=-1000].copy()"
   ]
  },
  {
   "cell_type": "code",
   "execution_count": 285,
   "metadata": {
    "ExecuteTime": {
     "end_time": "2021-01-18T22:02:11.148562Z",
     "start_time": "2021-01-18T22:02:11.132849Z"
    },
    "hidden": true
   },
   "outputs": [
    {
     "name": "stdout",
     "output_type": "stream",
     "text": [
      "num. trials that didn't show am Rsquared of at least 0.94 is 13.\n"
     ]
    }
   ],
   "source": [
    "#filter results by whether a D_expval was found\n",
    "R2_thresh=0.94\n",
    "print(f\"\"\"num. trials that didn't show am Rsquared of at least {R2_thresh} is {df[df.D_expval<R2_thresh].N.size}.\"\"\")\n",
    "df=df[df.Rsquared>=R2_thresh].copy()"
   ]
  },
  {
   "cell_type": "code",
   "execution_count": 286,
   "metadata": {
    "ExecuteTime": {
     "end_time": "2021-01-18T22:02:18.720711Z",
     "start_time": "2021-01-18T22:02:18.694628Z"
    },
    "hidden": true
   },
   "outputs": [],
   "source": [
    "#plot results\n",
    "x_values= df.duration_of_traj.values\n",
    "y_values= df.D_expval.values\n",
    "yerr_values= df.D_stderr.values"
   ]
  },
  {
   "cell_type": "code",
   "execution_count": 287,
   "metadata": {
    "ExecuteTime": {
     "end_time": "2021-01-18T22:02:19.642925Z",
     "start_time": "2021-01-18T22:02:19.384714Z"
    },
    "hidden": true
   },
   "outputs": [
    {
     "data": {
      "image/png": "[encoded data removed]",
      "text/plain": [
       "<Figure size 576x504 with 2 Axes>"
      ]
     },
     "metadata": {},
     "output_type": "display_data"
    }
   ],
   "source": [
    "fontsize=22\n",
    "fig,axs=plt.subplots(2)\n",
    "ax=axs[0]\n",
    "ax.scatter(x_values,y_values)\n",
    "ax.set_xlabel('duration of trajectory (sec)',fontsize=fontsize)\n",
    "ax.set_ylabel(r'$D$ (cm$^2$/s)',fontsize=fontsize)\n",
    "\n",
    "ax=axs[1]\n",
    "ax.scatter(x_values,yerr_values)\n",
    "ax.set_xlabel('duration of trajectory (sec)',fontsize=fontsize)\n",
    "ax.set_ylabel(r'$\\Delta D$ (cm$^2$/s)',fontsize=fontsize)\n",
    "\n",
    "plt.tight_layout()\n",
    "plt.show()\n",
    "\n"
   ]
  },
  {
   "cell_type": "code",
   "execution_count": 302,
   "metadata": {
    "ExecuteTime": {
     "end_time": "2021-01-18T22:08:12.933690Z",
     "start_time": "2021-01-18T22:08:12.909857Z"
    },
    "hidden": true
   },
   "outputs": [
    {
     "name": "stdout",
     "output_type": "stream",
     "text": [
      "it appears that the stderr of D is large for tips lasting less than 2.5 seconds\n",
      "filter trajectories shorter than 2.5 seconds in duration\n"
     ]
    }
   ],
   "source": [
    "duration_thresh=2.5#seconds\n",
    "\n",
    "print(f\"it appears that the stderr of D is large for tips lasting less than 2.5 seconds\")\n",
    "#filter trajectories shorter than 2.5 seconds in duration\n",
    "print(f\"\"\"filtering {} trajectories shorter than {duration_thresh:.1f} seconds in duration\"\"\")\n",
    "df=df[df.duration_of_traj>=duration_thresh].copy()"
   ]
  },
  {
   "cell_type": "code",
   "execution_count": 303,
   "metadata": {
    "ExecuteTime": {
     "end_time": "2021-01-18T22:08:15.211238Z",
     "start_time": "2021-01-18T22:08:15.189561Z"
    },
    "hidden": true
   },
   "outputs": [],
   "source": [
    "#TODO: plot histogram of these diffusion coefficients against their uncertainties\n",
    "x_values= df.duration_of_traj.values\n",
    "y_values= df.D_expval.values\n",
    "yerr_values= df.D_stderr.values"
   ]
  },
  {
   "cell_type": "code",
   "execution_count": 304,
   "metadata": {
    "ExecuteTime": {
     "end_time": "2021-01-18T22:08:22.419425Z",
     "start_time": "2021-01-18T22:08:21.920310Z"
    },
    "hidden": true
   },
   "outputs": [
    {
     "data": {
      "image/png": "[encoded data removed]",
      "text/plain": [
       "<Figure size 1080x324 with 4 Axes>"
      ]
     },
     "metadata": {},
     "output_type": "display_data"
    }
   ],
   "source": [
    "fontsize=22\n",
    "figsize=(15,4.5)\n",
    "fig,axs=plt.subplots(ncols=4,figsize=figsize)\n",
    "\n",
    "ax=axs[0]\n",
    "ax.scatter(yerr_values,df.Rsquared.values, alpha=0.5)\n",
    "ax.set_xlabel(r'$\\Delta D$ (cm$^2$/s)',fontsize=fontsize)\n",
    "ax.set_ylabel(r'$R^2$',fontsize=fontsize)\n",
    "ax.set_ylim([R2_thresh,1])\n",
    "ax.set_xlim([0,0.05])\n",
    "\n",
    "ax=axs[1]\n",
    "ax.scatter(yerr_values,y_values, alpha=0.5)\n",
    "ax.set_xlabel(r'$\\Delta D$ (cm$^2$/s)',fontsize=fontsize)\n",
    "ax.set_ylabel(r'$D$ (cm$^2$/s)',fontsize=fontsize)\n",
    "ax.set_xlim([0,0.05])\n",
    "\n",
    "ax=axs[2]\n",
    "ax.hist(y_values,bins=5, alpha=0.5)\n",
    "ax.set_ylabel(r'frequency',fontsize=fontsize)\n",
    "ax.set_xlabel(r'$D$ (cm$^2$/s)',fontsize=fontsize)\n",
    "\n",
    "ax=axs[3]\n",
    "ax.scatter(df.intercept.values,y_values, alpha=0.5)\n",
    "ax.set_xlabel(r'MSD intercept (cm$^2$)',fontsize=fontsize)\n",
    "ax.set_ylabel(r'$D$ (cm$^2$/s)',fontsize=fontsize)\n",
    "\n",
    "plt.tight_layout()\n",
    "plt.show()"
   ]
  },
  {
   "cell_type": "code",
   "execution_count": 28,
   "metadata": {
    "ExecuteTime": {
     "end_time": "2021-01-19T02:05:17.332518Z",
     "start_time": "2021-01-19T02:05:17.311171Z"
    },
    "hidden": true
   },
   "outputs": [
    {
     "ename": "NameError",
     "evalue": "name 'df' is not defined",
     "output_type": "error",
     "traceback": [
      "\u001b[0;31m---------------------------------------------------------------------------\u001b[0m",
      "\u001b[0;31mNameError\u001b[0m                                 Traceback (most recent call last)",
      "\u001b[0;32m<ipython-input-28-ac1ca2864548>\u001b[0m in \u001b[0;36m<module>\u001b[0;34m\u001b[0m\n\u001b[0;32m----> 1\u001b[0;31m \u001b[0mnum_trials_considered\u001b[0m\u001b[0;34m=\u001b[0m\u001b[0mdf\u001b[0m\u001b[0;34m.\u001b[0m\u001b[0mN\u001b[0m\u001b[0;34m.\u001b[0m\u001b[0mvalues\u001b[0m\u001b[0;34m.\u001b[0m\u001b[0mshape\u001b[0m\u001b[0;34m[\u001b[0m\u001b[0;36m0\u001b[0m\u001b[0;34m]\u001b[0m\u001b[0;34m\u001b[0m\u001b[0;34m\u001b[0m\u001b[0m\n\u001b[0m\u001b[1;32m      2\u001b[0m \u001b[0mprint\u001b[0m\u001b[0;34m(\u001b[0m\u001b[0;34mf\"number of trials considered = {num_trials_considered}.\"\u001b[0m\u001b[0;34m)\u001b[0m\u001b[0;34m\u001b[0m\u001b[0;34m\u001b[0m\u001b[0m\n\u001b[1;32m      3\u001b[0m \u001b[0mc\u001b[0m\u001b[0;34m=\u001b[0m\u001b[0mdf\u001b[0m\u001b[0;34m.\u001b[0m\u001b[0mdescribe\u001b[0m\u001b[0;34m(\u001b[0m\u001b[0;34m)\u001b[0m\u001b[0;34m.\u001b[0m\u001b[0mT\u001b[0m\u001b[0;34m[\u001b[0m\u001b[0;34m[\u001b[0m\u001b[0;34m'mean'\u001b[0m\u001b[0;34m,\u001b[0m\u001b[0;34m'std'\u001b[0m\u001b[0;34m]\u001b[0m\u001b[0;34m]\u001b[0m\u001b[0;34m.\u001b[0m\u001b[0mT\u001b[0m\u001b[0;34m\u001b[0m\u001b[0;34m\u001b[0m\u001b[0m\n\u001b[1;32m      4\u001b[0m \u001b[0mc\u001b[0m\u001b[0;34m\u001b[0m\u001b[0;34m\u001b[0m\u001b[0m\n",
      "\u001b[0;31mNameError\u001b[0m: name 'df' is not defined"
     ]
    }
   ],
   "source": [
    "num_trials_considered=df.N.values.shape[0]\n",
    "print(f\"number of trials considered = {num_trials_considered}.\")\n",
    "c=df.describe().T[['mean','std']].T"
   ]
  },
  {
   "cell_type": "code",
   "execution_count": 27,
   "metadata": {
    "ExecuteTime": {
     "end_time": "2021-01-19T02:05:10.588440Z",
     "start_time": "2021-01-19T02:05:10.563890Z"
    },
    "hidden": true
   },
   "outputs": [
    {
     "ename": "NameError",
     "evalue": "name 'c' is not defined",
     "output_type": "error",
     "traceback": [
      "\u001b[0;31m---------------------------------------------------------------------------\u001b[0m",
      "\u001b[0;31mNameError\u001b[0m                                 Traceback (most recent call last)",
      "\u001b[0;32m<ipython-input-27-ffd4738160f4>\u001b[0m in \u001b[0;36m<module>\u001b[0;34m\u001b[0m\n\u001b[1;32m      3\u001b[0m \u001b[0mtrial_name\u001b[0m\u001b[0;34m=\u001b[0m\u001b[0msl\u001b[0m\u001b[0;34m[\u001b[0m\u001b[0;34m-\u001b[0m\u001b[0;36m3\u001b[0m\u001b[0;34m]\u001b[0m\u001b[0;34m\u001b[0m\u001b[0;34m\u001b[0m\u001b[0m\n\u001b[1;32m      4\u001b[0m \u001b[0mn_tips\u001b[0m\u001b[0;34m=\u001b[0m\u001b[0meval\u001b[0m\u001b[0;34m(\u001b[0m\u001b[0msl\u001b[0m\u001b[0;34m[\u001b[0m\u001b[0;34m-\u001b[0m\u001b[0;36m1\u001b[0m\u001b[0;34m]\u001b[0m\u001b[0;34m[\u001b[0m\u001b[0msl\u001b[0m\u001b[0;34m[\u001b[0m\u001b[0;34m-\u001b[0m\u001b[0;36m1\u001b[0m\u001b[0;34m]\u001b[0m\u001b[0;34m.\u001b[0m\u001b[0mfind\u001b[0m\u001b[0;34m(\u001b[0m\u001b[0;34m'ntips_'\u001b[0m\u001b[0;34m)\u001b[0m\u001b[0;34m+\u001b[0m\u001b[0mlen\u001b[0m\u001b[0;34m(\u001b[0m\u001b[0;34m'ntips_'\u001b[0m\u001b[0;34m)\u001b[0m\u001b[0;34m:\u001b[0m\u001b[0;34m]\u001b[0m\u001b[0;34m.\u001b[0m\u001b[0msplit\u001b[0m\u001b[0;34m(\u001b[0m\u001b[0;34m'.'\u001b[0m\u001b[0;34m)\u001b[0m\u001b[0;34m[\u001b[0m\u001b[0;36m0\u001b[0m\u001b[0;34m]\u001b[0m\u001b[0;34m)\u001b[0m\u001b[0;34m\u001b[0m\u001b[0;34m\u001b[0m\u001b[0m\n\u001b[0;32m----> 5\u001b[0;31m \u001b[0mmean_D\u001b[0m\u001b[0;34m,\u001b[0m \u001b[0mstdev_D\u001b[0m\u001b[0;34m=\u001b[0m\u001b[0mc\u001b[0m\u001b[0;34m[\u001b[0m\u001b[0;34m[\u001b[0m\u001b[0;34m'D_expval'\u001b[0m\u001b[0;34m]\u001b[0m\u001b[0;34m]\u001b[0m\u001b[0;34m.\u001b[0m\u001b[0mvalues\u001b[0m\u001b[0;34m\u001b[0m\u001b[0;34m\u001b[0m\u001b[0m\n\u001b[0m\u001b[1;32m      6\u001b[0m \u001b[0mmean_D\u001b[0m\u001b[0;34m=\u001b[0m\u001b[0mfloat\u001b[0m\u001b[0;34m(\u001b[0m\u001b[0mmean_D\u001b[0m\u001b[0;34m)\u001b[0m\u001b[0;34m;\u001b[0m\u001b[0mstdev_D\u001b[0m\u001b[0;34m=\u001b[0m\u001b[0mfloat\u001b[0m\u001b[0;34m(\u001b[0m\u001b[0mstdev_D\u001b[0m\u001b[0;34m)\u001b[0m\u001b[0;34m\u001b[0m\u001b[0;34m\u001b[0m\u001b[0m\n\u001b[1;32m      7\u001b[0m \u001b[0mmean_stderr_D\u001b[0m\u001b[0;34m=\u001b[0m\u001b[0mfloat\u001b[0m\u001b[0;34m(\u001b[0m\u001b[0mc\u001b[0m\u001b[0;34m[\u001b[0m\u001b[0;34m[\u001b[0m\u001b[0;34m'D_stderr'\u001b[0m\u001b[0;34m]\u001b[0m\u001b[0;34m]\u001b[0m\u001b[0;34m.\u001b[0m\u001b[0mvalues\u001b[0m\u001b[0;34m[\u001b[0m\u001b[0;36m0\u001b[0m\u001b[0;34m]\u001b[0m\u001b[0;34m)\u001b[0m\u001b[0;34m\u001b[0m\u001b[0;34m\u001b[0m\u001b[0m\n",
      "\u001b[0;31mNameError\u001b[0m: name 'c' is not defined"
     ]
    }
   ],
   "source": [
    "# input_file_name='/home/timothytyree/Documents/GitHub/care/notebooks/Data/initial-conditions-suite-2/ds_5_param_set_8_fastkernel_V_0.4_archive/msd/emsd_longest_by_trial_tips_ntips_1.csv'\n",
    "sl=input_file_name.split('/')\n",
    "trial_name=sl[-3]\n",
    "n_tips=eval(sl[-1][sl[-1].find('ntips_')+len('ntips_'):].split('.')[0])\n",
    "mean_D, stdev_D=c[['D_expval']].values\n",
    "mean_D=float(mean_D);stdev_D=float(stdev_D)\n",
    "mean_stderr_D=float(c[['D_stderr']].values[0])\n",
    "stdev_stderr_D=float(c[['D_stderr']].values[1])\n",
    "num_trials_considered=df.N.values.shape[0]\n",
    "\n",
    "df_out=pd.DataFrame({'trial_folder_name':[trial_name], 'n_tips':[n_tips],\n",
    "                     \"mean_D\":[mean_D], \"stdev_D\":[stdev_D], \n",
    "                     \"mean_stderr_D\":[mean_stderr_D], \"stdev_stderr_D\":[stdev_stderr_D],\n",
    "                    \"num_trials_considered\":[num_trials_considered],\n",
    "                    \"num_trials_computed\":[171], \n",
    "                     \"tau_min\":[tau_min],\"tau_max\":[tau_max],\n",
    "                     \"R2_thresh\":[R2_thresh], \"duration_thresh\":[duration_thresh]})"
   ]
  },
  {
   "cell_type": "code",
   "execution_count": null,
   "metadata": {
    "hidden": true
   },
   "outputs": [],
   "source": [
    "# diffcoeff_fn_base=\"/home/timothytyree/Documents/GitHub/care/notebooks/Data/initial-conditions-suite-2/ds_5_param_set_4/msd/diffcoeff_emsd_longest_by_trial_tips_ntips_1_Tmin_0.15_Tmax_0.5.csv\"\n",
    "# foo_dfn=lambda trial_folder_name:diffcoeff_fn_base.replace('ds_5_param_set_4',trial_folder_name)\n",
    "\n",
    "\n",
    "# trial_folder_name_lst=[\n",
    "#     'ds_5_param_set_8_fastkernel_V_0.5_archive',\n",
    "#     'ds_5_param_set_4'\n",
    "# ]"
   ]
  },
  {
   "cell_type": "code",
   "execution_count": 344,
   "metadata": {
    "ExecuteTime": {
     "end_time": "2021-01-18T22:32:53.230012Z",
     "start_time": "2021-01-18T22:32:53.193231Z"
    },
    "hidden": true
   },
   "outputs": [
    {
     "data": {
      "text/html": [
       "<div>\n",
       "<style scoped>\n",
       "    .dataframe tbody tr th:only-of-type {\n",
       "        vertical-align: middle;\n",
       "    }\n",
       "\n",
       "    .dataframe tbody tr th {\n",
       "        vertical-align: top;\n",
       "    }\n",
       "\n",
       "    .dataframe thead th {\n",
       "        text-align: right;\n",
       "    }\n",
       "</style>\n",
       "<table border=\"1\" class=\"dataframe\">\n",
       "  <thead>\n",
       "    <tr style=\"text-align: right;\">\n",
       "      <th></th>\n",
       "      <th>trial_folder_name</th>\n",
       "      <th>n_tips</th>\n",
       "      <th>mean_D</th>\n",
       "      <th>stdev_D</th>\n",
       "      <th>mean_stderr_D</th>\n",
       "      <th>stdev_stderr_D</th>\n",
       "      <th>num_trials_considered</th>\n",
       "      <th>num_trials_computed</th>\n",
       "      <th>tau_min</th>\n",
       "      <th>tau_max</th>\n",
       "      <th>R2_thresh</th>\n",
       "      <th>duration_thresh</th>\n",
       "    </tr>\n",
       "  </thead>\n",
       "  <tbody>\n",
       "    <tr>\n",
       "      <th>0</th>\n",
       "      <td>ds_5_param_set_8_fastkernel_V_0.4_archive</td>\n",
       "      <td>1</td>\n",
       "      <td>3.275622</td>\n",
       "      <td>1.407308</td>\n",
       "      <td>0.014265</td>\n",
       "      <td>0.007477</td>\n",
       "      <td>79</td>\n",
       "      <td>171</td>\n",
       "      <td>0.15</td>\n",
       "      <td>0.5</td>\n",
       "      <td>0.94</td>\n",
       "      <td>2.5</td>\n",
       "    </tr>\n",
       "  </tbody>\n",
       "</table>\n",
       "</div>"
      ],
      "text/plain": [
       "                           trial_folder_name  n_tips    mean_D   stdev_D  \\\n",
       "0  ds_5_param_set_8_fastkernel_V_0.4_archive       1  3.275622  1.407308   \n",
       "\n",
       "   mean_stderr_D  stdev_stderr_D  num_trials_considered  num_trials_computed  \\\n",
       "0       0.014265        0.007477                     79                  171   \n",
       "\n",
       "   tau_min  tau_max  R2_thresh  duration_thresh  \n",
       "0     0.15      0.5       0.94              2.5  "
      ]
     },
     "execution_count": 344,
     "metadata": {},
     "output_type": "execute_result"
    }
   ],
   "source": [
    "#TODO: save output\n",
    "df_out\n",
    "\n",
    "\n",
    "#TODO: repeat all ^this for different simulation conditions completed"
   ]
  },
  {
   "cell_type": "code",
   "execution_count": 345,
   "metadata": {
    "ExecuteTime": {
     "end_time": "2021-01-18T22:33:35.506428Z",
     "start_time": "2021-01-18T22:33:35.485053Z"
    },
    "hidden": true
   },
   "outputs": [],
   "source": [
    "# other things to quantify...\n",
    "#TODO: compute the interaction/creation/destruction ranges\n",
    "#TODO: measure speed as a function of time when two tips pair-create \n",
    "#TODO: measure speed as a function of time when two tips pair-annihilate\n",
    "\n",
    "#TODO: get the longest lasting unwrapped tip trajectory for a given src\n",
    "#TODO(later): develop method of detecting pauses in an unwrapped trajectory \n",
    "#TODO: compute the mean time between pauses\n",
    "#TODO: compute the mean duration of pauses\n",
    "\n",
    "#DONT(stupid): visualize spiral tip speed (realtime) versus D (lagtime)\n"
   ]
  },
  {
   "cell_type": "code",
   "execution_count": 67,
   "metadata": {
    "ExecuteTime": {
     "end_time": "2021-01-19T03:18:07.468055Z",
     "start_time": "2021-01-19T03:18:07.452334Z"
    },
    "hidden": true
   },
   "outputs": [
    {
     "data": {
      "text/plain": [
       "'/home/timothytyree/Documents/GitHub/care/notebooks/Figures/msd/initial-conditions-suite-2'"
      ]
     },
     "execution_count": 67,
     "metadata": {},
     "output_type": "execute_result"
    }
   ],
   "source": [
    "# #DONE: check on pipeline output\n",
    "\n",
    "# diffcoeff_fn_base=\"/home/timothytyree/Documents/GitHub/care/notebooks/Data/initial-conditions-suite-2/ds_5_param_set_4/msd/diffcoeff_emsd_longest_by_trial_tips_ntips_1_Tmin_0.15_Tmax_0.5.csv\"\n",
    "# input_file_name=diffcoeff_fn_base\n",
    "\n",
    "# #TODO: save df_out in initial-conditions-2/\n",
    "# sl=input_file_name.split('/')\n",
    "# trial_folder_name=sl[-4]\n",
    "# save_folder_table = os.path.join(nb_dir,f'Figures/msd/'+trial_folder_name)\n",
    "# file_out=save_folder_table+'/avg-diffcoeff-table.csv'\n",
    "# # os.path.dirname(input_file_name)"
   ]
  },
  {
   "cell_type": "code",
   "execution_count": 3,
   "metadata": {
    "ExecuteTime": {
     "end_time": "2021-01-18T23:53:37.905215Z",
     "start_time": "2021-01-18T23:53:37.871704Z"
    },
    "hidden": true
   },
   "outputs": [],
   "source": [
    "#TODO: save ^those images\n",
    "#TODO: check ^those images saved correctly\n",
    "\n",
    "#TODO: check on LR simulation\n",
    "from lib.routines.dag_log_to_msd import *\n",
    "from lib.routines.compute_msd import *"
   ]
  },
  {
   "cell_type": "code",
   "execution_count": 6,
   "metadata": {
    "ExecuteTime": {
     "end_time": "2021-01-18T23:56:12.680179Z",
     "start_time": "2021-01-18T23:55:04.997846Z"
    },
    "hidden": true
   },
   "outputs": [
    {
     "name": "stdout",
     "output_type": "stream",
     "text": [
      "Num. file names in list = 171.\n",
      "ValueError: No objects to concatenate\n",
      "\ttrial that failed: ic_200x200.008.12_traj_sr_400_mem_0_unwrap.csv\n",
      "ValueError: No objects to concatenate\n",
      "\ttrial that failed: ic_200x200.011.31_traj_sr_400_mem_0_unwrap.csv\n",
      "ValueError: No objects to concatenate\n",
      "\ttrial that failed: ic_200x200.018.31_traj_sr_400_mem_0_unwrap.csv\n",
      "ValueError: No objects to concatenate\n",
      "\ttrial that failed: ic_200x200.011.33_traj_sr_400_mem_0_unwrap.csv\n",
      "saved figure in \n",
      "\temsd_longest_by_trial_tips_ntips_1_long_time_std.png\n",
      "saved figure in \n",
      "\temsd_longest_by_trial_tips_ntips_1_short_time_std.png\n",
      "saved figure in \n",
      "\temsd_longest_by_trial_tips_ntips_1_very_short_time_std.png\n"
     ]
    }
   ],
   "source": [
    "#compute mean squared displacements, aggregating results\n",
    "n_tips=1; DT=1.\n",
    "# file_out=output_file_name_list[0]\n",
    "file_out='/home/timothytyree/Documents/GitHub/care/notebooks/Data/initial-conditions-suite-2/ds_1_param_set_8/trajectories/ic_200x200.011.11_traj_sr_400_mem_0_unwrap.csv'\n",
    "retval=gen_msd_figs(file_out,n_tips, DT)#, V_thresh=0.4)"
   ]
  },
  {
   "cell_type": "code",
   "execution_count": 12,
   "metadata": {
    "ExecuteTime": {
     "end_time": "2021-01-19T00:10:21.732575Z",
     "start_time": "2021-01-19T00:10:20.986594Z"
    },
    "hidden": true
   },
   "outputs": [
    {
     "name": "stdout",
     "output_type": "stream",
     "text": [
      "/home/timothytyree/Documents/GitHub/care/notebooks/Figures/msd/ds_1_param_set_8\r\n"
     ]
    }
   ],
   "source": [
    "beep(3)\n",
    "!pwd"
   ]
  },
  {
   "cell_type": "markdown",
   "metadata": {
    "heading_collapsed": true
   },
   "source": [
    "# TODO(later): compute interaction ranges"
   ]
  },
  {
   "cell_type": "code",
   "execution_count": 8,
   "metadata": {
    "ExecuteTime": {
     "end_time": "2021-01-19T00:00:24.974056Z",
     "start_time": "2021-01-19T00:00:24.695538Z"
    },
    "hidden": true
   },
   "outputs": [],
   "source": [
    "#let's view on eof those trajectories that failed to concat\n",
    "#frame numbering appears to be wrong\n",
    "file_sus='ic_200x200.008.12_traj_sr_400_mem_0_unwrap.csv'\n",
    "df_traj=get_longest_trajectories(file_out,n_tips = 1,DS = 5/200,DT = 1., round_t_to_n_digits=0)\n"
   ]
  },
  {
   "cell_type": "code",
   "execution_count": 24,
   "metadata": {
    "ExecuteTime": {
     "end_time": "2021-01-19T00:42:14.833115Z",
     "start_time": "2021-01-19T00:42:14.802838Z"
    },
    "hidden": true
   },
   "outputs": [
    {
     "data": {
      "text/html": [
       "<div>\n",
       "<style scoped>\n",
       "    .dataframe tbody tr th:only-of-type {\n",
       "        vertical-align: middle;\n",
       "    }\n",
       "\n",
       "    .dataframe tbody tr th {\n",
       "        vertical-align: top;\n",
       "    }\n",
       "\n",
       "    .dataframe thead th {\n",
       "        text-align: right;\n",
       "    }\n",
       "</style>\n",
       "<table border=\"1\" class=\"dataframe\">\n",
       "  <thead>\n",
       "    <tr style=\"text-align: right;\">\n",
       "      <th></th>\n",
       "      <th>pid</th>\n",
       "      <th>pid_birthmate</th>\n",
       "      <th>pid_deathmate</th>\n",
       "      <th>r0</th>\n",
       "      <th>rT</th>\n",
       "      <th>Tavg</th>\n",
       "      <th>Tdiff</th>\n",
       "    </tr>\n",
       "  </thead>\n",
       "  <tbody>\n",
       "  </tbody>\n",
       "</table>\n",
       "</div>"
      ],
      "text/plain": [
       "Empty DataFrame\n",
       "Columns: [pid, pid_birthmate, pid_deathmate, r0, rT, Tavg, Tdiff]\n",
       "Index: []"
      ]
     },
     "execution_count": 24,
     "metadata": {},
     "output_type": "execute_result"
    }
   ],
   "source": [
    "from lib.routines.compute_interactions import *\n",
    "# TODO: crop trajectories before deciding which is longest\n",
    "folder='/home/timothytyree/Documents/GitHub/care/notebooks/Data/initial-conditions-suite-2/ds_5_param_set_8_og/trajectories'\n",
    "os.chdir(folder)\n",
    "file_sus='ic_200x200.008.12_traj_sr_400_mem_0.csv'\n",
    "compute_df_interactions(file_sus,DS=5./200.)"
   ]
  },
  {
   "cell_type": "markdown",
   "metadata": {
    "heading_collapsed": true
   },
   "source": [
    "# (ignore, moved earlier): compute msd for given trial_folder"
   ]
  },
  {
   "cell_type": "code",
   "execution_count": 14,
   "metadata": {
    "ExecuteTime": {
     "end_time": "2021-01-19T00:16:12.606106Z",
     "start_time": "2021-01-19T00:15:33.331695Z"
    },
    "hidden": true
   },
   "outputs": [
    {
     "name": "stdout",
     "output_type": "stream",
     "text": [
      "File: /home/timothytyree/Documents/GitHub/care/notebooks/Data/initial-conditions-suite-2/ds_2_param_set_8/trajectories/ic_200x200.001.11_traj_sr_400_mem_0_unwrap.csv\n"
     ]
    }
   ],
   "source": [
    "file_in=search_for_file()\n",
    "trgt='_unwrap.csv'\n",
    "assert(file[-len(trgt):]==trgt)\n",
    "file"
   ]
  },
  {
   "cell_type": "code",
   "execution_count": 40,
   "metadata": {
    "ExecuteTime": {
     "end_time": "2021-01-19T02:15:43.772430Z",
     "start_time": "2021-01-19T02:11:28.688189Z"
    },
    "hidden": true
   },
   "outputs": [
    {
     "name": "stdout",
     "output_type": "stream",
     "text": [
      "Num. file names in list = 171.\n",
      "saved figure in \n",
      "\temsd_longest_by_trial_tips_ntips_1_long_time_std.png\n",
      "saved figure in \n",
      "\temsd_longest_by_trial_tips_ntips_1_short_time_std.png\n",
      "saved figure in \n",
      "\temsd_longest_by_trial_tips_ntips_1_very_short_time_std.png\n"
     ]
    }
   ],
   "source": [
    "#compute mean squared displacements, aggregating results\n",
    "n_tips=1; DT=1.\n",
    "# output_file_name_list[0]\n",
    "file_in=input_file_name\n",
    "# file_out='/home/timothytyree/Documents/GitHub/care/notebooks/Data/initial-conditions-suite-2/ds_1_param_set_8/trajectories/ic_200x200.011.11_traj_sr_400_mem_0_unwrap.csv'\n",
    "# file_out='/home/timothytyree/Documents/GitHub/care/notebooks/Data/initial-conditions-suite-2/ds_2_param_set_8/trajectories/ic_200x200.011.11_traj_sr_400_mem_0_unwrap.csv'\n",
    "retval=gen_msd_figs(file_in,n_tips, DT)#, V_thresh=0.4)"
   ]
  },
  {
   "cell_type": "markdown",
   "metadata": {
    "ExecuteTime": {
     "end_time": "2021-01-19T00:16:59.073083Z",
     "start_time": "2021-01-19T00:16:59.045735Z"
    },
    "heading_collapsed": true
   },
   "source": [
    "# generate diffusion coefficient table"
   ]
  },
  {
   "cell_type": "code",
   "execution_count": 3,
   "metadata": {
    "ExecuteTime": {
     "end_time": "2021-01-26T19:39:25.570662Z",
     "start_time": "2021-01-26T19:39:25.552309Z"
    },
    "hidden": true
   },
   "outputs": [],
   "source": [
    "from lib.routines.dag_log_to_msd import *"
   ]
  },
  {
   "cell_type": "code",
   "execution_count": 96,
   "metadata": {
    "ExecuteTime": {
     "end_time": "2021-01-25T23:09:34.861744Z",
     "start_time": "2021-01-25T23:09:34.836262Z"
    },
    "hidden": true
   },
   "outputs": [
    {
     "data": {
      "text/plain": [
       "'/home/timothytyree/Documents/GitHub/care'"
      ]
     },
     "execution_count": 96,
     "metadata": {},
     "output_type": "execute_result"
    }
   ],
   "source": [
    "os.path.dirname(nb_dir)"
   ]
  },
  {
   "cell_type": "code",
   "execution_count": 97,
   "metadata": {
    "ExecuteTime": {
     "end_time": "2021-01-25T23:09:38.798196Z",
     "start_time": "2021-01-25T23:09:38.770825Z"
    },
    "hidden": true
   },
   "outputs": [
    {
     "ename": "TypeError",
     "evalue": "generate_diffcoeff_figures() missing 1 required positional argument: 'dir_out'",
     "output_type": "error",
     "traceback": [
      "\u001b[0;31m---------------------------------------------------------------------------\u001b[0m",
      "\u001b[0;31mTypeError\u001b[0m                                 Traceback (most recent call last)",
      "\u001b[0;32m<ipython-input-97-fceca846244d>\u001b[0m in \u001b[0;36m<module>\u001b[0;34m\u001b[0m\n\u001b[1;32m      1\u001b[0m \u001b[0minput_folder\u001b[0m\u001b[0;34m=\u001b[0m\u001b[0;34mf\"{nb_dir}/Data/initial-conditions-suite-2\"\u001b[0m\u001b[0;34m\u001b[0m\u001b[0;34m\u001b[0m\u001b[0m\n\u001b[0;32m----> 2\u001b[0;31m \u001b[0mretval\u001b[0m\u001b[0;34m=\u001b[0m \u001b[0mgen_diffcoeff_table\u001b[0m\u001b[0;34m(\u001b[0m\u001b[0minput_folder\u001b[0m\u001b[0;34m)\u001b[0m\u001b[0;34m\u001b[0m\u001b[0;34m\u001b[0m\u001b[0m\n\u001b[0m\u001b[1;32m      3\u001b[0m \u001b[0mbeep\u001b[0m\u001b[0;34m(\u001b[0m\u001b[0;36m7\u001b[0m\u001b[0;34m)\u001b[0m\u001b[0;34m\u001b[0m\u001b[0;34m\u001b[0m\u001b[0m\n",
      "\u001b[0;32m~/Documents/GitHub/care/notebooks/lib/routines/dag_log_to_msd.py\u001b[0m in \u001b[0;36mgen_diffcoeff_table\u001b[0;34m(input_folder, trial_folder_name_lst, **kwargs)\u001b[0m\n\u001b[1;32m     57\u001b[0m         \u001b[0;32mfor\u001b[0m \u001b[0mn\u001b[0m\u001b[0;34m,\u001b[0m\u001b[0mfn\u001b[0m \u001b[0;32min\u001b[0m \u001b[0menumerate\u001b[0m\u001b[0;34m(\u001b[0m\u001b[0mfn_lst\u001b[0m\u001b[0;34m)\u001b[0m\u001b[0;34m:\u001b[0m\u001b[0;34m\u001b[0m\u001b[0;34m\u001b[0m\u001b[0m\n\u001b[1;32m     58\u001b[0m                 \u001b[0mtrial_folder_name\u001b[0m\u001b[0;34m=\u001b[0m\u001b[0mtrial_folder_name_lst\u001b[0m\u001b[0;34m[\u001b[0m\u001b[0mn\u001b[0m\u001b[0;34m]\u001b[0m\u001b[0;34m\u001b[0m\u001b[0;34m\u001b[0m\u001b[0m\n\u001b[0;32m---> 59\u001b[0;31m                 \u001b[0mretval\u001b[0m\u001b[0;34m=\u001b[0m\u001b[0mgen_diffcoeff_figs\u001b[0m\u001b[0;34m(\u001b[0m\u001b[0minput_file_name\u001b[0m\u001b[0;34m=\u001b[0m\u001b[0mfn\u001b[0m\u001b[0;34m,\u001b[0m \u001b[0mtrial_folder_name\u001b[0m\u001b[0;34m=\u001b[0m\u001b[0mtrial_folder_name\u001b[0m\u001b[0;34m,\u001b[0m \u001b[0;34m**\u001b[0m\u001b[0mkwargs\u001b[0m\u001b[0;34m)\u001b[0m\u001b[0;34m\u001b[0m\u001b[0;34m\u001b[0m\u001b[0m\n\u001b[0m\u001b[1;32m     60\u001b[0m                 \u001b[0mfn_lst_out\u001b[0m\u001b[0;34m.\u001b[0m\u001b[0mappend\u001b[0m\u001b[0;34m(\u001b[0m\u001b[0mretval\u001b[0m\u001b[0;34m)\u001b[0m\u001b[0;34m\u001b[0m\u001b[0;34m\u001b[0m\u001b[0m\n\u001b[1;32m     61\u001b[0m \u001b[0;34m\u001b[0m\u001b[0m\n",
      "\u001b[0;32m~/Documents/GitHub/care/notebooks/lib/routines/dag_log_to_msd.py\u001b[0m in \u001b[0;36mgen_diffcoeff_figs\u001b[0;34m(input_file_name, trial_folder_name, **kwargs)\u001b[0m\n\u001b[1;32m     28\u001b[0m         \u001b[0;34m'''file is a string starting with diffcoeff_'''\u001b[0m\u001b[0;34m\u001b[0m\u001b[0;34m\u001b[0m\u001b[0m\n\u001b[1;32m     29\u001b[0m \treturn generate_diffcoeff_figures(input_file_name, trial_folder_name, tau_min=.15,tau_max=0.5,saving=True,\n\u001b[0;32m---> 30\u001b[0;31m \t\t\tR2_thresh=0.94,duration_thresh=2.5,fontsize=22,figsize_2=(15,4.5))\n\u001b[0m\u001b[1;32m     31\u001b[0m \u001b[0;34m\u001b[0m\u001b[0m\n\u001b[1;32m     32\u001b[0m \u001b[0;32mdef\u001b[0m \u001b[0mproduce_one_csv\u001b[0m\u001b[0;34m(\u001b[0m\u001b[0mlist_of_files\u001b[0m\u001b[0;34m,\u001b[0m \u001b[0mfile_out\u001b[0m\u001b[0;34m)\u001b[0m\u001b[0;34m:\u001b[0m\u001b[0;34m\u001b[0m\u001b[0;34m\u001b[0m\u001b[0m\n",
      "\u001b[0;31mTypeError\u001b[0m: generate_diffcoeff_figures() missing 1 required positional argument: 'dir_out'"
     ]
    }
   ],
   "source": [
    "input_folder=f\"{nb_dir}/Data/initial-conditions-suite-2\"\n",
    "retval= gen_diffcoeff_table(input_folder)\n",
    "beep(7)"
   ]
  },
  {
   "cell_type": "code",
   "execution_count": 82,
   "metadata": {
    "ExecuteTime": {
     "end_time": "2021-01-23T20:24:04.461888Z",
     "start_time": "2021-01-23T20:24:04.421722Z"
    },
    "hidden": true
   },
   "outputs": [
    {
     "data": {
      "text/html": [
       "<div>\n",
       "<style scoped>\n",
       "    .dataframe tbody tr th:only-of-type {\n",
       "        vertical-align: middle;\n",
       "    }\n",
       "\n",
       "    .dataframe tbody tr th {\n",
       "        vertical-align: top;\n",
       "    }\n",
       "\n",
       "    .dataframe thead th {\n",
       "        text-align: right;\n",
       "    }\n",
       "</style>\n",
       "<table border=\"1\" class=\"dataframe\">\n",
       "  <thead>\n",
       "    <tr style=\"text-align: right;\">\n",
       "      <th></th>\n",
       "      <th>Unnamed: 0</th>\n",
       "      <th>trial_folder_name</th>\n",
       "      <th>n_tips</th>\n",
       "      <th>mean_D</th>\n",
       "      <th>stdev_D</th>\n",
       "      <th>mean_stderr_D</th>\n",
       "      <th>stdev_stderr_D</th>\n",
       "      <th>num_trials_considered</th>\n",
       "      <th>num_trials_computed</th>\n",
       "      <th>tau_min</th>\n",
       "      <th>tau_max</th>\n",
       "      <th>R2_thresh</th>\n",
       "      <th>duration_thresh</th>\n",
       "    </tr>\n",
       "  </thead>\n",
       "  <tbody>\n",
       "    <tr>\n",
       "      <th>0</th>\n",
       "      <td>0</td>\n",
       "      <td>ds_5_param_set_8_fastkernel_V_0.4_archive</td>\n",
       "      <td>1</td>\n",
       "      <td>3.275622</td>\n",
       "      <td>1.407308</td>\n",
       "      <td>0.014265</td>\n",
       "      <td>0.007477</td>\n",
       "      <td>79</td>\n",
       "      <td>171</td>\n",
       "      <td>0.15</td>\n",
       "      <td>0.5</td>\n",
       "      <td>0.94</td>\n",
       "      <td>2.5</td>\n",
       "    </tr>\n",
       "    <tr>\n",
       "      <th>1</th>\n",
       "      <td>0</td>\n",
       "      <td>ds_5_param_set_8_fastkernel_V_0.5_archive</td>\n",
       "      <td>1</td>\n",
       "      <td>3.143848</td>\n",
       "      <td>1.394320</td>\n",
       "      <td>0.014002</td>\n",
       "      <td>0.007125</td>\n",
       "      <td>67</td>\n",
       "      <td>171</td>\n",
       "      <td>0.15</td>\n",
       "      <td>0.5</td>\n",
       "      <td>0.94</td>\n",
       "      <td>2.5</td>\n",
       "    </tr>\n",
       "    <tr>\n",
       "      <th>2</th>\n",
       "      <td>0</td>\n",
       "      <td>ds_5_param_set_8_fastkernel_V_0.6_archive</td>\n",
       "      <td>1</td>\n",
       "      <td>2.978615</td>\n",
       "      <td>0.971810</td>\n",
       "      <td>0.015702</td>\n",
       "      <td>0.006242</td>\n",
       "      <td>51</td>\n",
       "      <td>171</td>\n",
       "      <td>0.15</td>\n",
       "      <td>0.5</td>\n",
       "      <td>0.94</td>\n",
       "      <td>2.5</td>\n",
       "    </tr>\n",
       "    <tr>\n",
       "      <th>3</th>\n",
       "      <td>0</td>\n",
       "      <td>ds_5_param_set_8_og</td>\n",
       "      <td>1</td>\n",
       "      <td>5.059754</td>\n",
       "      <td>1.818385</td>\n",
       "      <td>0.022178</td>\n",
       "      <td>0.008431</td>\n",
       "      <td>22</td>\n",
       "      <td>171</td>\n",
       "      <td>0.15</td>\n",
       "      <td>0.5</td>\n",
       "      <td>0.94</td>\n",
       "      <td>2.5</td>\n",
       "    </tr>\n",
       "    <tr>\n",
       "      <th>4</th>\n",
       "      <td>0</td>\n",
       "      <td>ds_5_param_set_4</td>\n",
       "      <td>1</td>\n",
       "      <td>NaN</td>\n",
       "      <td>NaN</td>\n",
       "      <td>NaN</td>\n",
       "      <td>NaN</td>\n",
       "      <td>0</td>\n",
       "      <td>171</td>\n",
       "      <td>0.15</td>\n",
       "      <td>0.5</td>\n",
       "      <td>0.94</td>\n",
       "      <td>2.5</td>\n",
       "    </tr>\n",
       "    <tr>\n",
       "      <th>5</th>\n",
       "      <td>0</td>\n",
       "      <td>ds_2_param_set_8</td>\n",
       "      <td>1</td>\n",
       "      <td>NaN</td>\n",
       "      <td>NaN</td>\n",
       "      <td>NaN</td>\n",
       "      <td>NaN</td>\n",
       "      <td>0</td>\n",
       "      <td>171</td>\n",
       "      <td>0.15</td>\n",
       "      <td>0.5</td>\n",
       "      <td>0.94</td>\n",
       "      <td>2.5</td>\n",
       "    </tr>\n",
       "    <tr>\n",
       "      <th>6</th>\n",
       "      <td>0</td>\n",
       "      <td>ds_1_param_set_8</td>\n",
       "      <td>1</td>\n",
       "      <td>NaN</td>\n",
       "      <td>NaN</td>\n",
       "      <td>NaN</td>\n",
       "      <td>NaN</td>\n",
       "      <td>0</td>\n",
       "      <td>171</td>\n",
       "      <td>0.15</td>\n",
       "      <td>0.5</td>\n",
       "      <td>0.94</td>\n",
       "      <td>2.5</td>\n",
       "    </tr>\n",
       "  </tbody>\n",
       "</table>\n",
       "</div>"
      ],
      "text/plain": [
       "   Unnamed: 0                          trial_folder_name  n_tips    mean_D  \\\n",
       "0           0  ds_5_param_set_8_fastkernel_V_0.4_archive       1  3.275622   \n",
       "1           0  ds_5_param_set_8_fastkernel_V_0.5_archive       1  3.143848   \n",
       "2           0  ds_5_param_set_8_fastkernel_V_0.6_archive       1  2.978615   \n",
       "3           0                        ds_5_param_set_8_og       1  5.059754   \n",
       "4           0                           ds_5_param_set_4       1       NaN   \n",
       "5           0                           ds_2_param_set_8       1       NaN   \n",
       "6           0                           ds_1_param_set_8       1       NaN   \n",
       "\n",
       "    stdev_D  mean_stderr_D  stdev_stderr_D  num_trials_considered  \\\n",
       "0  1.407308       0.014265        0.007477                     79   \n",
       "1  1.394320       0.014002        0.007125                     67   \n",
       "2  0.971810       0.015702        0.006242                     51   \n",
       "3  1.818385       0.022178        0.008431                     22   \n",
       "4       NaN            NaN             NaN                      0   \n",
       "5       NaN            NaN             NaN                      0   \n",
       "6       NaN            NaN             NaN                      0   \n",
       "\n",
       "   num_trials_computed  tau_min  tau_max  R2_thresh  duration_thresh  \n",
       "0                  171     0.15      0.5       0.94              2.5  \n",
       "1                  171     0.15      0.5       0.94              2.5  \n",
       "2                  171     0.15      0.5       0.94              2.5  \n",
       "3                  171     0.15      0.5       0.94              2.5  \n",
       "4                  171     0.15      0.5       0.94              2.5  \n",
       "5                  171     0.15      0.5       0.94              2.5  \n",
       "6                  171     0.15      0.5       0.94              2.5  "
      ]
     },
     "execution_count": 82,
     "metadata": {},
     "output_type": "execute_result"
    }
   ],
   "source": [
    "#TODO: debug gen_diffcoeff_table.  it is saving empty rows.\n",
    "df=pd.read_csv('/home/timothytyree/Documents/GitHub/care/notebooks/Data/initial-conditions-suite-2/avg-diffcoeff-table.csv')\n",
    "df"
   ]
  },
  {
   "cell_type": "code",
   "execution_count": 84,
   "metadata": {
    "ExecuteTime": {
     "end_time": "2021-01-23T21:33:40.027765Z",
     "start_time": "2021-01-23T21:33:40.012118Z"
    },
    "hidden": true,
    "run_control": {
     "marked": true
    }
   },
   "outputs": [
    {
     "data": {
      "text/plain": [
       "<function lib.routines.dag_log_to_msd.gen_diffcoeff_table(input_folder, **kwargs)>"
      ]
     },
     "execution_count": 84,
     "metadata": {},
     "output_type": "execute_result"
    }
   ],
   "source": [
    "gen_diffcoeff_table"
   ]
  },
  {
   "cell_type": "markdown",
   "metadata": {
    "hidden": true
   },
   "source": [
    "### TODO: debug gen_diffcoeff_table.  it is saving empty rows.\n",
    "- ds_1_param_set_8 is printed in every row\n",
    "- nan mean_D recorded in every row"
   ]
  },
  {
   "cell_type": "code",
   "execution_count": 3,
   "metadata": {
    "ExecuteTime": {
     "end_time": "2021-01-26T20:05:58.758682Z",
     "start_time": "2021-01-26T20:05:41.062712Z"
    },
    "hidden": true
   },
   "outputs": [
    {
     "name": "stdout",
     "output_type": "stream",
     "text": [
      "File: /home/timothytyree/Documents/GitHub/care/notebooks/Data/initial-conditions-suite-3-LR/ds_5_param_qu_tmax_30_Ko_5.4/msd/emsd_longest_by_trial_tips_ntips_1.csv\n"
     ]
    }
   ],
   "source": [
    "# TODO: get all folders in the cwd containing the pattern 'ds_'\n",
    "fn=search_for_file()"
   ]
  },
  {
   "cell_type": "code",
   "execution_count": 5,
   "metadata": {
    "ExecuteTime": {
     "end_time": "2021-01-26T20:06:08.889278Z",
     "start_time": "2021-01-26T20:06:08.856937Z"
    },
    "hidden": true
   },
   "outputs": [
    {
     "data": {
      "text/html": [
       "<div>\n",
       "<style scoped>\n",
       "    .dataframe tbody tr th:only-of-type {\n",
       "        vertical-align: middle;\n",
       "    }\n",
       "\n",
       "    .dataframe tbody tr th {\n",
       "        vertical-align: top;\n",
       "    }\n",
       "\n",
       "    .dataframe thead th {\n",
       "        text-align: right;\n",
       "    }\n",
       "</style>\n",
       "<table border=\"1\" class=\"dataframe\">\n",
       "  <thead>\n",
       "    <tr style=\"text-align: right;\">\n",
       "      <th></th>\n",
       "      <th>msd</th>\n",
       "      <th>lagt</th>\n",
       "      <th>src</th>\n",
       "    </tr>\n",
       "  </thead>\n",
       "  <tbody>\n",
       "    <tr>\n",
       "      <th>0</th>\n",
       "      <td>0.003831</td>\n",
       "      <td>0.001</td>\n",
       "      <td>ic016.22_traj_sr_400_mem_0_unwrap.csv</td>\n",
       "    </tr>\n",
       "    <tr>\n",
       "      <th>1</th>\n",
       "      <td>0.014119</td>\n",
       "      <td>0.002</td>\n",
       "      <td>ic016.22_traj_sr_400_mem_0_unwrap.csv</td>\n",
       "    </tr>\n",
       "    <tr>\n",
       "      <th>2</th>\n",
       "      <td>0.029202</td>\n",
       "      <td>0.003</td>\n",
       "      <td>ic016.22_traj_sr_400_mem_0_unwrap.csv</td>\n",
       "    </tr>\n",
       "    <tr>\n",
       "      <th>3</th>\n",
       "      <td>0.047560</td>\n",
       "      <td>0.004</td>\n",
       "      <td>ic016.22_traj_sr_400_mem_0_unwrap.csv</td>\n",
       "    </tr>\n",
       "    <tr>\n",
       "      <th>4</th>\n",
       "      <td>0.067110</td>\n",
       "      <td>0.005</td>\n",
       "      <td>ic016.22_traj_sr_400_mem_0_unwrap.csv</td>\n",
       "    </tr>\n",
       "  </tbody>\n",
       "</table>\n",
       "</div>"
      ],
      "text/plain": [
       "        msd   lagt                                    src\n",
       "0  0.003831  0.001  ic016.22_traj_sr_400_mem_0_unwrap.csv\n",
       "1  0.014119  0.002  ic016.22_traj_sr_400_mem_0_unwrap.csv\n",
       "2  0.029202  0.003  ic016.22_traj_sr_400_mem_0_unwrap.csv\n",
       "3  0.047560  0.004  ic016.22_traj_sr_400_mem_0_unwrap.csv\n",
       "4  0.067110  0.005  ic016.22_traj_sr_400_mem_0_unwrap.csv"
      ]
     },
     "execution_count": 5,
     "metadata": {},
     "output_type": "execute_result"
    }
   ],
   "source": [
    "input_file_name=fn\n",
    "df=pd.read_csv(input_file_name)\n",
    "df.head()"
   ]
  },
  {
   "cell_type": "code",
   "execution_count": 11,
   "metadata": {
    "ExecuteTime": {
     "end_time": "2021-01-26T20:09:15.117318Z",
     "start_time": "2021-01-26T20:09:15.101410Z"
    },
    "hidden": true
   },
   "outputs": [
    {
     "data": {
      "text/plain": [
       "'ds_5_param_qu_tmax_30_Ko_5.4'"
      ]
     },
     "execution_count": 11,
     "metadata": {},
     "output_type": "execute_result"
    }
   ],
   "source": [
    "\n",
    "trial_folder_name"
   ]
  },
  {
   "cell_type": "code",
   "execution_count": 19,
   "metadata": {
    "ExecuteTime": {
     "end_time": "2021-01-26T20:10:20.213442Z",
     "start_time": "2021-01-26T20:10:17.479312Z"
    },
    "hidden": true
   },
   "outputs": [
    {
     "name": "stdout",
     "output_type": "stream",
     "text": [
      "generating diffcoeff_figures for ds_5_param_qu_tmax_30_Ko_5.4\n",
      "\tnum. trials that didn't show a tip lasing longer than 150ms is 0, and that didn't show am Rsquared of at least 0.4 is 12\n",
      "saved diffcoeff_summary to \n",
      "the total number of trials considered in summary is 29\n"
     ]
    }
   ],
   "source": [
    "#TODO: generate fn='emsd_...' functionally using a dask bag\n",
    "#TODO: test runtime of ^that naively\n",
    "#TODO(later): determine which jobs need given to a dask bag ahead of time?\n",
    "from lib.routines.compute_diffcoef import *\n",
    "input_file_name=fn#f\"{nb_dir}/Data/\"\n",
    "fn2= compute_diffusion_coeffs(input_file_name,tau_min=.15,tau_max=0.5)\n",
    "sl=input_file_name.split('/')\n",
    "trial_folder_name=sl[-3]\n",
    "input_file_name=os.path.abspath(fn2)\n",
    "retval= generate_diffcoeff_figures(input_file_name,trial_folder_name,tau_min=.15,tau_max=0.5,saving=True,\n",
    "        R2_thresh=0.4,duration_thresh=0.,fontsize=22,figsize_2=(15,4.5))\n"
   ]
  },
  {
   "cell_type": "code",
   "execution_count": 20,
   "metadata": {
    "ExecuteTime": {
     "end_time": "2021-01-26T20:10:25.361902Z",
     "start_time": "2021-01-26T20:10:25.343443Z"
    },
    "hidden": true
   },
   "outputs": [],
   "source": [
    "df=pd.read_csv(retval)"
   ]
  },
  {
   "cell_type": "code",
   "execution_count": 21,
   "metadata": {
    "ExecuteTime": {
     "end_time": "2021-01-26T20:10:25.801818Z",
     "start_time": "2021-01-26T20:10:25.779511Z"
    },
    "hidden": true
   },
   "outputs": [
    {
     "data": {
      "text/html": [
       "<div>\n",
       "<style scoped>\n",
       "    .dataframe tbody tr th:only-of-type {\n",
       "        vertical-align: middle;\n",
       "    }\n",
       "\n",
       "    .dataframe tbody tr th {\n",
       "        vertical-align: top;\n",
       "    }\n",
       "\n",
       "    .dataframe thead th {\n",
       "        text-align: right;\n",
       "    }\n",
       "</style>\n",
       "<table border=\"1\" class=\"dataframe\">\n",
       "  <thead>\n",
       "    <tr style=\"text-align: right;\">\n",
       "      <th></th>\n",
       "      <th>Unnamed: 0</th>\n",
       "      <th>trial_folder_name</th>\n",
       "      <th>n_tips</th>\n",
       "      <th>mean_D</th>\n",
       "      <th>stdev_D</th>\n",
       "      <th>mean_stderr_D</th>\n",
       "      <th>stdev_stderr_D</th>\n",
       "      <th>num_trials_considered</th>\n",
       "      <th>num_trials_computed</th>\n",
       "      <th>tau_min</th>\n",
       "      <th>tau_max</th>\n",
       "      <th>R2_thresh</th>\n",
       "      <th>duration_thresh</th>\n",
       "    </tr>\n",
       "  </thead>\n",
       "  <tbody>\n",
       "    <tr>\n",
       "      <th>0</th>\n",
       "      <td>0</td>\n",
       "      <td>ds_5_param_qu_tmax_30_Ko_5.4</td>\n",
       "      <td>1</td>\n",
       "      <td>59.925997</td>\n",
       "      <td>186.34651</td>\n",
       "      <td>5.849502</td>\n",
       "      <td>7.509228</td>\n",
       "      <td>29</td>\n",
       "      <td>155</td>\n",
       "      <td>0.15</td>\n",
       "      <td>0.5</td>\n",
       "      <td>0.4</td>\n",
       "      <td>0.0</td>\n",
       "    </tr>\n",
       "  </tbody>\n",
       "</table>\n",
       "</div>"
      ],
      "text/plain": [
       "   Unnamed: 0             trial_folder_name  n_tips     mean_D    stdev_D  \\\n",
       "0           0  ds_5_param_qu_tmax_30_Ko_5.4       1  59.925997  186.34651   \n",
       "\n",
       "   mean_stderr_D  stdev_stderr_D  num_trials_considered  num_trials_computed  \\\n",
       "0       5.849502        7.509228                     29                  155   \n",
       "\n",
       "   tau_min  tau_max  R2_thresh  duration_thresh  \n",
       "0     0.15      0.5        0.4              0.0  "
      ]
     },
     "execution_count": 21,
     "metadata": {},
     "output_type": "execute_result"
    }
   ],
   "source": [
    "df.head()"
   ]
  },
  {
   "cell_type": "code",
   "execution_count": 83,
   "metadata": {
    "ExecuteTime": {
     "end_time": "2021-01-23T20:29:16.592041Z",
     "start_time": "2021-01-23T20:29:16.572412Z"
    },
    "hidden": true
   },
   "outputs": [],
   "source": [
    "#MSD intercept is stable and normal for all but a couple funny trials that I'm guessing I'm already filtering.\n",
    "# plt.subplots(figsize=(3.5,3))\n",
    "# plt.hist(df[df.intercept>-1].intercept.values,bins=10)\n",
    "# plt.xlabel(r'MSD intercept (cm$^2$/s)')\n",
    "# plt.ylabel('frequency')\n",
    "# plt.show()"
   ]
  },
  {
   "cell_type": "code",
   "execution_count": 57,
   "metadata": {
    "ExecuteTime": {
     "end_time": "2021-01-23T19:32:09.187071Z",
     "start_time": "2021-01-23T19:32:09.143749Z"
    },
    "hidden": true
   },
   "outputs": [
    {
     "data": {
      "text/plain": [
       "'/home/timothytyree/Documents/GitHub/care/notebooks/Data/initial-conditions-suite-2/ds_5_param_set_8_fastkernel_V_0.4_archive/msd/fig/fig'"
      ]
     },
     "execution_count": 57,
     "metadata": {},
     "output_type": "execute_result"
    }
   ],
   "source": [
    "here_dir=os.path.dirname(os.path.abspath(input_file_name))\n",
    "savefig_folder = os.path.join(here_dir,'fig')#f'Figures/msd/'+trial_folder_name)\n",
    "# if not os.path.exists(savefig_folder):\n",
    "savefig_folder"
   ]
  },
  {
   "cell_type": "markdown",
   "metadata": {
    "heading_collapsed": true
   },
   "source": [
    "# step through routine being used to make diffusion coefficient figures, and make it always give real output\n",
    "- default method of detecting spiral tips is not effective here\n",
    "- TODO: plot MSD\n",
    "- TODO: determine which trials look diffusive\n",
    "- TODO: estimate the avg(+-std) diffcoeff for that trial. record"
   ]
  },
  {
   "cell_type": "code",
   "execution_count": 22,
   "metadata": {
    "ExecuteTime": {
     "end_time": "2021-01-26T20:14:35.728210Z",
     "start_time": "2021-01-26T20:14:14.613270Z"
    },
    "hidden": true
   },
   "outputs": [
    {
     "name": "stdout",
     "output_type": "stream",
     "text": [
      "File: /home/timothytyree/Documents/GitHub/care/notebooks/Data/initial-conditions-suite-3-LR/ds_5_param_qu_tmax_30_Ko_5.4/msd/emsd_longest_by_trial_tips_ntips_1.csv\n"
     ]
    }
   ],
   "source": [
    "#import emsd_fn\n",
    "fn=search_for_file()#os.path.dirname(fn))"
   ]
  },
  {
   "cell_type": "code",
   "execution_count": 23,
   "metadata": {
    "ExecuteTime": {
     "end_time": "2021-01-26T20:14:41.659495Z",
     "start_time": "2021-01-26T20:14:41.630484Z"
    },
    "hidden": true
   },
   "outputs": [
    {
     "data": {
      "text/html": [
       "<div>\n",
       "<style scoped>\n",
       "    .dataframe tbody tr th:only-of-type {\n",
       "        vertical-align: middle;\n",
       "    }\n",
       "\n",
       "    .dataframe tbody tr th {\n",
       "        vertical-align: top;\n",
       "    }\n",
       "\n",
       "    .dataframe thead th {\n",
       "        text-align: right;\n",
       "    }\n",
       "</style>\n",
       "<table border=\"1\" class=\"dataframe\">\n",
       "  <thead>\n",
       "    <tr style=\"text-align: right;\">\n",
       "      <th></th>\n",
       "      <th>msd</th>\n",
       "      <th>lagt</th>\n",
       "      <th>src</th>\n",
       "    </tr>\n",
       "  </thead>\n",
       "  <tbody>\n",
       "    <tr>\n",
       "      <th>0</th>\n",
       "      <td>0.003831</td>\n",
       "      <td>0.001</td>\n",
       "      <td>ic016.22_traj_sr_400_mem_0_unwrap.csv</td>\n",
       "    </tr>\n",
       "    <tr>\n",
       "      <th>1</th>\n",
       "      <td>0.014119</td>\n",
       "      <td>0.002</td>\n",
       "      <td>ic016.22_traj_sr_400_mem_0_unwrap.csv</td>\n",
       "    </tr>\n",
       "    <tr>\n",
       "      <th>2</th>\n",
       "      <td>0.029202</td>\n",
       "      <td>0.003</td>\n",
       "      <td>ic016.22_traj_sr_400_mem_0_unwrap.csv</td>\n",
       "    </tr>\n",
       "    <tr>\n",
       "      <th>3</th>\n",
       "      <td>0.047560</td>\n",
       "      <td>0.004</td>\n",
       "      <td>ic016.22_traj_sr_400_mem_0_unwrap.csv</td>\n",
       "    </tr>\n",
       "    <tr>\n",
       "      <th>4</th>\n",
       "      <td>0.067110</td>\n",
       "      <td>0.005</td>\n",
       "      <td>ic016.22_traj_sr_400_mem_0_unwrap.csv</td>\n",
       "    </tr>\n",
       "  </tbody>\n",
       "</table>\n",
       "</div>"
      ],
      "text/plain": [
       "        msd   lagt                                    src\n",
       "0  0.003831  0.001  ic016.22_traj_sr_400_mem_0_unwrap.csv\n",
       "1  0.014119  0.002  ic016.22_traj_sr_400_mem_0_unwrap.csv\n",
       "2  0.029202  0.003  ic016.22_traj_sr_400_mem_0_unwrap.csv\n",
       "3  0.047560  0.004  ic016.22_traj_sr_400_mem_0_unwrap.csv\n",
       "4  0.067110  0.005  ic016.22_traj_sr_400_mem_0_unwrap.csv"
      ]
     },
     "execution_count": 23,
     "metadata": {},
     "output_type": "execute_result"
    }
   ],
   "source": [
    "df=pd.read_csv(fn,index_col=False)\n",
    "df.head()"
   ]
  },
  {
   "cell_type": "code",
   "execution_count": 117,
   "metadata": {
    "ExecuteTime": {
     "end_time": "2021-01-26T19:38:20.770818Z",
     "start_time": "2021-01-26T19:38:20.732012Z"
    },
    "hidden": true
   },
   "outputs": [
    {
     "ename": "NameError",
     "evalue": "name 'DT' is not defined",
     "output_type": "error",
     "traceback": [
      "\u001b[0;31m---------------------------------------------------------------------------\u001b[0m",
      "\u001b[0;31mNameError\u001b[0m                                 Traceback (most recent call last)",
      "\u001b[0;32m<ipython-input-117-a3c76829a2cf>\u001b[0m in \u001b[0;36m<module>\u001b[0;34m\u001b[0m\n\u001b[0;32m----> 1\u001b[0;31m \u001b[0mt_values\u001b[0m\u001b[0;34m,\u001b[0m \u001b[0mmsd_values\u001b[0m\u001b[0;34m,\u001b[0m \u001b[0mstd_values\u001b[0m \u001b[0;34m=\u001b[0m \u001b[0mcompute_average_std_msd\u001b[0m\u001b[0;34m(\u001b[0m\u001b[0mdf\u001b[0m\u001b[0;34m,\u001b[0m\u001b[0mDT\u001b[0m\u001b[0;34m)\u001b[0m\u001b[0;34m\u001b[0m\u001b[0;34m\u001b[0m\u001b[0m\n\u001b[0m\u001b[1;32m      2\u001b[0m \u001b[0;31m#     t_values, msd_values = compute_average_msd(df, DT=1.)\u001b[0m\u001b[0;34m\u001b[0m\u001b[0;34m\u001b[0m\u001b[0;34m\u001b[0m\u001b[0m\n\u001b[1;32m      3\u001b[0m \u001b[0;34m\u001b[0m\u001b[0m\n\u001b[1;32m      4\u001b[0m \u001b[0msl\u001b[0m\u001b[0;34m=\u001b[0m\u001b[0minput_file_name\u001b[0m\u001b[0;34m.\u001b[0m\u001b[0msplit\u001b[0m\u001b[0;34m(\u001b[0m\u001b[0;34m'/'\u001b[0m\u001b[0;34m)\u001b[0m\u001b[0;34m\u001b[0m\u001b[0;34m\u001b[0m\u001b[0m\n\u001b[1;32m      5\u001b[0m \u001b[0mtrial_folder_name\u001b[0m\u001b[0;34m=\u001b[0m\u001b[0msl\u001b[0m\u001b[0;34m[\u001b[0m\u001b[0;34m-\u001b[0m\u001b[0;36m3\u001b[0m\u001b[0;34m]\u001b[0m\u001b[0;34m\u001b[0m\u001b[0;34m\u001b[0m\u001b[0m\n",
      "\u001b[0;31mNameError\u001b[0m: name 'DT' is not defined"
     ]
    }
   ],
   "source": [
    "t_values, msd_values, std_values = compute_average_std_msd(df,DT)\n",
    "#     t_values, msd_values = compute_average_msd(df, DT=1.)\n",
    "\n",
    "sl=input_file_name.split('/')\n",
    "trial_folder_name=sl[-3]\n",
    "\n",
    "os.chdir(save_folder)\n",
    "savefig_folder='fig'\n",
    "# if not os.path.exists(savefig_folder):\n",
    "#     os.mkdir(savefig_folder)\n",
    "# os.chdir(savefig_folder)\n",
    "savefig_folder=os.getcwd()\n",
    "# generate plots of msd's\n",
    "savefig_fn = os.path.basename(output_file_name).replace('.csv','_myview.png')\n",
    "\n",
    "retval = PlotMSD(df, t_values, msd_values, std_values, savefig_folder,savefig_fn,xlim = [0,0.2],ylim=[0,1],saving = False,fontsize =22,figsize=(9,6),D=3.5)\n"
   ]
  },
  {
   "cell_type": "code",
   "execution_count": 112,
   "metadata": {
    "ExecuteTime": {
     "end_time": "2021-01-26T03:45:21.841808Z",
     "start_time": "2021-01-26T03:45:21.825944Z"
    },
    "hidden": true
   },
   "outputs": [],
   "source": [
    "# D_values=df[(df.D_expval>-100)&(df.D_expval<100)].D_expval.values"
   ]
  },
  {
   "cell_type": "code",
   "execution_count": 11,
   "metadata": {
    "ExecuteTime": {
     "end_time": "2021-01-26T19:42:23.884876Z",
     "start_time": "2021-01-26T19:41:55.698536Z"
    },
    "hidden": true
   },
   "outputs": [
    {
     "name": "stdout",
     "output_type": "stream",
     "text": [
      "Num. file names in list = 159.\n",
      "ValueError: No objects to concatenate\n",
      "\ttrial that failed: ic005.33_traj_sr_400_mem_0_unwrap.csv\n",
      "ValueError: No objects to concatenate\n",
      "\ttrial that failed: ic008.21_traj_sr_400_mem_0_unwrap.csv\n"
     ]
    },
    {
     "ename": "ValueError",
     "evalue": "Invalid file path or buffer object type: <class 'float'>",
     "output_type": "error",
     "traceback": [
      "\u001b[0;31m---------------------------------------------------------------------------\u001b[0m",
      "\u001b[0;31mValueError\u001b[0m                                Traceback (most recent call last)",
      "\u001b[0;32m<ipython-input-11-1abb8644834f>\u001b[0m in \u001b[0;36m<module>\u001b[0;34m\u001b[0m\n\u001b[0;32m----> 1\u001b[0;31m \u001b[0mretval\u001b[0m\u001b[0;34m=\u001b[0m\u001b[0mgen_msd_figs\u001b[0m\u001b[0;34m(\u001b[0m\u001b[0mfn\u001b[0m\u001b[0;34m,\u001b[0m\u001b[0mn_tips\u001b[0m\u001b[0;34m=\u001b[0m\u001b[0;36m1\u001b[0m\u001b[0;34m,\u001b[0m\u001b[0mDT\u001b[0m\u001b[0;34m=\u001b[0m\u001b[0;36m2.\u001b[0m\u001b[0;34m)\u001b[0m\u001b[0;34m\u001b[0m\u001b[0;34m\u001b[0m\u001b[0m\n\u001b[0m",
      "\u001b[0;32m~/Documents/GitHub/care/notebooks/lib/routines/dag_log_to_msd.py\u001b[0m in \u001b[0;36mgen_msd_figs\u001b[0;34m(file, n_tips, DT, **kwargs)\u001b[0m\n\u001b[1;32m     23\u001b[0m         \u001b[0mfile\u001b[0m \u001b[0;32mis\u001b[0m \u001b[0ma\u001b[0m \u001b[0mstring\u001b[0m \u001b[0mlocating\u001b[0m \u001b[0;32min\u001b[0m \u001b[0ma\u001b[0m \u001b[0mfolder\u001b[0m \u001b[0;32mwith\u001b[0m \u001b[0mfiles\u001b[0m \u001b[0mending\u001b[0m \u001b[0;32min\u001b[0m \u001b[0m_unwrap\u001b[0m\u001b[0;34m.\u001b[0m\u001b[0mcsv\u001b[0m\u001b[0;34m\u001b[0m\u001b[0;34m\u001b[0m\u001b[0m\n\u001b[1;32m     24\u001b[0m \tn_tips is the number of tips\"\"\"\n\u001b[0;32m---> 25\u001b[0;31m         \u001b[0;32mreturn\u001b[0m \u001b[0mgenerate_msd_figures_routine\u001b[0m\u001b[0;34m(\u001b[0m\u001b[0mfile\u001b[0m\u001b[0;34m,\u001b[0m\u001b[0mn_tips\u001b[0m\u001b[0;34m,\u001b[0m \u001b[0mDT\u001b[0m\u001b[0;34m=\u001b[0m\u001b[0mDT\u001b[0m\u001b[0;34m)\u001b[0m\u001b[0;31m#, V_thresh=None)\u001b[0m\u001b[0;34m\u001b[0m\u001b[0;34m\u001b[0m\u001b[0m\n\u001b[0m\u001b[1;32m     26\u001b[0m \u001b[0;34m\u001b[0m\u001b[0m\n\u001b[1;32m     27\u001b[0m \u001b[0;32mdef\u001b[0m \u001b[0mgen_diffcoeff_figs\u001b[0m\u001b[0;34m(\u001b[0m\u001b[0minput_file_name\u001b[0m\u001b[0;34m,\u001b[0m\u001b[0mtrial_folder_name\u001b[0m\u001b[0;34m,\u001b[0m \u001b[0;34m**\u001b[0m\u001b[0mkwargs\u001b[0m\u001b[0;34m)\u001b[0m\u001b[0;34m:\u001b[0m\u001b[0;34m\u001b[0m\u001b[0;34m\u001b[0m\u001b[0m\n",
      "\u001b[0;32m~/Documents/GitHub/care/notebooks/lib/routines/compute_msd.py\u001b[0m in \u001b[0;36mgenerate_msd_figures_routine\u001b[0;34m(input_file_name, n_tips, DT, **kwargs)\u001b[0m\n\u001b[1;32m    290\u001b[0m         \u001b[0;32mreturn\u001b[0m \u001b[0mfile_name\u001b[0m\u001b[0;34m[\u001b[0m\u001b[0;34m-\u001b[0m\u001b[0mlen\u001b[0m\u001b[0;34m(\u001b[0m\u001b[0mtrgt\u001b[0m\u001b[0;34m)\u001b[0m\u001b[0;34m:\u001b[0m\u001b[0;34m]\u001b[0m\u001b[0;34m==\u001b[0m\u001b[0mtrgt\u001b[0m\u001b[0;34m\u001b[0m\u001b[0;34m\u001b[0m\u001b[0m\n\u001b[1;32m    291\u001b[0m     \u001b[0mfile_name_list\u001b[0m \u001b[0;34m=\u001b[0m \u001b[0;34m[\u001b[0m\u001b[0mf\u001b[0m \u001b[0;32mfor\u001b[0m \u001b[0mf\u001b[0m \u001b[0;32min\u001b[0m \u001b[0mfile_name_list\u001b[0m \u001b[0;32mif\u001b[0m \u001b[0mis_csv\u001b[0m\u001b[0;34m(\u001b[0m\u001b[0mf\u001b[0m\u001b[0;34m,\u001b[0m\u001b[0mtrgt\u001b[0m\u001b[0;34m)\u001b[0m\u001b[0;34m]\u001b[0m\u001b[0;34m\u001b[0m\u001b[0;34m\u001b[0m\u001b[0m\n\u001b[0;32m--> 292\u001b[0;31m     \u001b[0;32mreturn\u001b[0m \u001b[0mgenerate_msd_figures_routine_for_list\u001b[0m\u001b[0;34m(\u001b[0m\u001b[0mfile_name_list\u001b[0m\u001b[0;34m,\u001b[0m\u001b[0mn_tips\u001b[0m\u001b[0;34m,\u001b[0m \u001b[0mDT\u001b[0m\u001b[0;34m,\u001b[0m\u001b[0;34m**\u001b[0m\u001b[0mkwargs\u001b[0m\u001b[0;34m)\u001b[0m\u001b[0;34m\u001b[0m\u001b[0;34m\u001b[0m\u001b[0m\n\u001b[0m\u001b[1;32m    293\u001b[0m \u001b[0;34m\u001b[0m\u001b[0m\n\u001b[1;32m    294\u001b[0m \u001b[0;32mdef\u001b[0m \u001b[0mgenerate_msd_figures_routine_for_list\u001b[0m\u001b[0;34m(\u001b[0m\u001b[0mfile_name_list\u001b[0m\u001b[0;34m,\u001b[0m \u001b[0mn_tips\u001b[0m\u001b[0;34m,\u001b[0m\u001b[0moutput_file_name\u001b[0m\u001b[0;34m=\u001b[0m\u001b[0;32mNone\u001b[0m\u001b[0;34m,\u001b[0m\u001b[0msave_folder\u001b[0m\u001b[0;34m=\u001b[0m\u001b[0;32mNone\u001b[0m\u001b[0;34m,\u001b[0m\u001b[0;34m**\u001b[0m\u001b[0mkwargs\u001b[0m\u001b[0;34m)\u001b[0m\u001b[0;34m:\u001b[0m\u001b[0;34m\u001b[0m\u001b[0;34m\u001b[0m\u001b[0m\n",
      "\u001b[0;32m~/Documents/GitHub/care/notebooks/lib/routines/compute_msd.py\u001b[0m in \u001b[0;36mgenerate_msd_figures_routine_for_list\u001b[0;34m(file_name_list, n_tips, output_file_name, save_folder, **kwargs)\u001b[0m\n\u001b[1;32m    324\u001b[0m         \u001b[0moutput_file_name\u001b[0m \u001b[0;34m=\u001b[0m \u001b[0;34mf\"emsd_longest_by_trial_tips_ntips_{n_tips}.csv\"\u001b[0m\u001b[0;34m\u001b[0m\u001b[0;34m\u001b[0m\u001b[0m\n\u001b[1;32m    325\u001b[0m     \u001b[0mos\u001b[0m\u001b[0;34m.\u001b[0m\u001b[0mchdir\u001b[0m\u001b[0;34m(\u001b[0m\u001b[0msave_folder\u001b[0m\u001b[0;34m)\u001b[0m\u001b[0;34m\u001b[0m\u001b[0;34m\u001b[0m\u001b[0m\n\u001b[0;32m--> 326\u001b[0;31m     \u001b[0mdf\u001b[0m\u001b[0;34m.\u001b[0m\u001b[0mto_csv\u001b[0m\u001b[0;34m(\u001b[0m\u001b[0moutput_file_name\u001b[0m\u001b[0;34m,\u001b[0m \u001b[0mindex\u001b[0m\u001b[0;34m=\u001b[0m\u001b[0;32mFalse\u001b[0m\u001b[0;34m)\u001b[0m\u001b[0;34m\u001b[0m\u001b[0;34m\u001b[0m\u001b[0m\n\u001b[0m\u001b[1;32m    327\u001b[0m \u001b[0;34m\u001b[0m\u001b[0m\n\u001b[1;32m    328\u001b[0m     \u001b[0;31m#compute average msd by trial for a subset of trials\u001b[0m\u001b[0;34m\u001b[0m\u001b[0;34m\u001b[0m\u001b[0;34m\u001b[0m\u001b[0m\n",
      "\u001b[0;32m~/anaconda3/lib/python3.7/site-packages/pandas/core/generic.py\u001b[0m in \u001b[0;36mto_csv\u001b[0;34m(self, path_or_buf, sep, na_rep, float_format, columns, header, index, index_label, mode, encoding, compression, quoting, quotechar, line_terminator, chunksize, date_format, doublequote, escapechar, decimal)\u001b[0m\n\u001b[1;32m   3200\u001b[0m             \u001b[0mdoublequote\u001b[0m\u001b[0;34m=\u001b[0m\u001b[0mdoublequote\u001b[0m\u001b[0;34m,\u001b[0m\u001b[0;34m\u001b[0m\u001b[0;34m\u001b[0m\u001b[0m\n\u001b[1;32m   3201\u001b[0m             \u001b[0mescapechar\u001b[0m\u001b[0;34m=\u001b[0m\u001b[0mescapechar\u001b[0m\u001b[0;34m,\u001b[0m\u001b[0;34m\u001b[0m\u001b[0;34m\u001b[0m\u001b[0m\n\u001b[0;32m-> 3202\u001b[0;31m             \u001b[0mdecimal\u001b[0m\u001b[0;34m=\u001b[0m\u001b[0mdecimal\u001b[0m\u001b[0;34m,\u001b[0m\u001b[0;34m\u001b[0m\u001b[0;34m\u001b[0m\u001b[0m\n\u001b[0m\u001b[1;32m   3203\u001b[0m         )\n\u001b[1;32m   3204\u001b[0m         \u001b[0mformatter\u001b[0m\u001b[0;34m.\u001b[0m\u001b[0msave\u001b[0m\u001b[0;34m(\u001b[0m\u001b[0;34m)\u001b[0m\u001b[0;34m\u001b[0m\u001b[0;34m\u001b[0m\u001b[0m\n",
      "\u001b[0;32m~/anaconda3/lib/python3.7/site-packages/pandas/io/formats/csvs.py\u001b[0m in \u001b[0;36m__init__\u001b[0;34m(self, obj, path_or_buf, sep, na_rep, float_format, cols, header, index, index_label, mode, encoding, compression, quoting, line_terminator, chunksize, quotechar, date_format, doublequote, escapechar, decimal)\u001b[0m\n\u001b[1;32m     64\u001b[0m \u001b[0;34m\u001b[0m\u001b[0m\n\u001b[1;32m     65\u001b[0m         self.path_or_buf, _, _, _ = get_filepath_or_buffer(\n\u001b[0;32m---> 66\u001b[0;31m             \u001b[0mpath_or_buf\u001b[0m\u001b[0;34m,\u001b[0m \u001b[0mencoding\u001b[0m\u001b[0;34m=\u001b[0m\u001b[0mencoding\u001b[0m\u001b[0;34m,\u001b[0m \u001b[0mcompression\u001b[0m\u001b[0;34m=\u001b[0m\u001b[0mcompression\u001b[0m\u001b[0;34m,\u001b[0m \u001b[0mmode\u001b[0m\u001b[0;34m=\u001b[0m\u001b[0mmode\u001b[0m\u001b[0;34m\u001b[0m\u001b[0;34m\u001b[0m\u001b[0m\n\u001b[0m\u001b[1;32m     67\u001b[0m         )\n\u001b[1;32m     68\u001b[0m         \u001b[0mself\u001b[0m\u001b[0;34m.\u001b[0m\u001b[0msep\u001b[0m \u001b[0;34m=\u001b[0m \u001b[0msep\u001b[0m\u001b[0;34m\u001b[0m\u001b[0;34m\u001b[0m\u001b[0m\n",
      "\u001b[0;32m~/anaconda3/lib/python3.7/site-packages/pandas/io/common.py\u001b[0m in \u001b[0;36mget_filepath_or_buffer\u001b[0;34m(filepath_or_buffer, encoding, compression, mode)\u001b[0m\n\u001b[1;32m    198\u001b[0m     \u001b[0;32mif\u001b[0m \u001b[0;32mnot\u001b[0m \u001b[0mis_file_like\u001b[0m\u001b[0;34m(\u001b[0m\u001b[0mfilepath_or_buffer\u001b[0m\u001b[0;34m)\u001b[0m\u001b[0;34m:\u001b[0m\u001b[0;34m\u001b[0m\u001b[0;34m\u001b[0m\u001b[0m\n\u001b[1;32m    199\u001b[0m         \u001b[0mmsg\u001b[0m \u001b[0;34m=\u001b[0m \u001b[0;34mf\"Invalid file path or buffer object type: {type(filepath_or_buffer)}\"\u001b[0m\u001b[0;34m\u001b[0m\u001b[0;34m\u001b[0m\u001b[0m\n\u001b[0;32m--> 200\u001b[0;31m         \u001b[0;32mraise\u001b[0m \u001b[0mValueError\u001b[0m\u001b[0;34m(\u001b[0m\u001b[0mmsg\u001b[0m\u001b[0;34m)\u001b[0m\u001b[0;34m\u001b[0m\u001b[0;34m\u001b[0m\u001b[0m\n\u001b[0m\u001b[1;32m    201\u001b[0m \u001b[0;34m\u001b[0m\u001b[0m\n\u001b[1;32m    202\u001b[0m     \u001b[0;32mreturn\u001b[0m \u001b[0mfilepath_or_buffer\u001b[0m\u001b[0;34m,\u001b[0m \u001b[0;32mNone\u001b[0m\u001b[0;34m,\u001b[0m \u001b[0mcompression\u001b[0m\u001b[0;34m,\u001b[0m \u001b[0;32mFalse\u001b[0m\u001b[0;34m\u001b[0m\u001b[0;34m\u001b[0m\u001b[0m\n",
      "\u001b[0;31mValueError\u001b[0m: Invalid file path or buffer object type: <class 'float'>"
     ]
    }
   ],
   "source": [
    "retval=gen_msd_figs(fn,n_tips=1,DT=2.)"
   ]
  },
  {
   "cell_type": "code",
   "execution_count": 10,
   "metadata": {
    "ExecuteTime": {
     "end_time": "2021-01-26T19:41:00.778937Z",
     "start_time": "2021-01-26T19:41:00.755406Z"
    },
    "hidden": true
   },
   "outputs": [
    {
     "data": {
      "text/plain": [
       "'/home/timothytyree/Documents/GitHub/care/notebooks/Data/initial-conditions-suite-3-LR/ds_5_param_qu_tmax_30_Ko_5.4/trajectories_unwrap/ic001.21_traj_sr_400_mem_0_unwrap.csv'"
      ]
     },
     "execution_count": 10,
     "metadata": {},
     "output_type": "execute_result"
    }
   ],
   "source": [
    "retval = PlotMSD(df, t_values, msd_values, std_values, savefig_folder,savefig_fn,xlim = [0,0.2],ylim=[0,1],saving = True,fontsize =22,figsize=(9,6),D=3.5)\n"
   ]
  },
  {
   "cell_type": "markdown",
   "metadata": {
    "ExecuteTime": {
     "end_time": "2021-01-07T19:21:51.822161Z",
     "start_time": "2021-01-07T19:21:51.805682Z"
    },
    "heading_collapsed": true
   },
   "source": [
    "# do there exist tips in the 900x900 (still wrapped)LR trajectories that last for more than 300ms?\n",
    "- if so, what about in the unwrapped trajectories"
   ]
  },
  {
   "cell_type": "code",
   "execution_count": 16,
   "metadata": {
    "ExecuteTime": {
     "end_time": "2021-02-13T03:22:27.363119Z",
     "start_time": "2021-02-13T03:22:18.886997Z"
    },
    "hidden": true
   },
   "outputs": [
    {
     "name": "stdout",
     "output_type": "stream",
     "text": [
      "File: /home/timothytyree/Documents/GitHub/care/notebooks/Data/initial-conditions-lr-300x300/param_qu_tmax_30/Log/ic300x300.0.0_traj_sr_600_mem_0_unwrap.csv\n"
     ]
    }
   ],
   "source": [
    "file=search_for_file()"
   ]
  },
  {
   "cell_type": "code",
   "execution_count": 17,
   "metadata": {
    "ExecuteTime": {
     "end_time": "2021-02-13T03:22:28.568337Z",
     "start_time": "2021-02-13T03:22:28.552424Z"
    },
    "hidden": true
   },
   "outputs": [
    {
     "data": {
      "text/plain": [
       "144"
      ]
     },
     "execution_count": 17,
     "metadata": {},
     "output_type": "execute_result"
    }
   ],
   "source": [
    "trgt='_unwrap.csv'\n",
    "input_fn_lst=get_all_files_matching_pattern(file,trgt)\n",
    "len(input_fn_lst)"
   ]
  },
  {
   "cell_type": "code",
   "execution_count": 18,
   "metadata": {
    "ExecuteTime": {
     "end_time": "2021-02-13T03:22:29.240555Z",
     "start_time": "2021-02-13T03:22:29.120294Z"
    },
    "hidden": true
   },
   "outputs": [
    {
     "data": {
      "text/html": [
       "<div>\n",
       "<style scoped>\n",
       "    .dataframe tbody tr th:only-of-type {\n",
       "        vertical-align: middle;\n",
       "    }\n",
       "\n",
       "    .dataframe tbody tr th {\n",
       "        vertical-align: top;\n",
       "    }\n",
       "\n",
       "    .dataframe thead th {\n",
       "        text-align: right;\n",
       "    }\n",
       "</style>\n",
       "<table border=\"1\" class=\"dataframe\">\n",
       "  <thead>\n",
       "    <tr style=\"text-align: right;\">\n",
       "      <th></th>\n",
       "      <th>t</th>\n",
       "      <th>n</th>\n",
       "      <th>x</th>\n",
       "      <th>y</th>\n",
       "      <th>grad_ux</th>\n",
       "      <th>grad_uy</th>\n",
       "      <th>grad_vx</th>\n",
       "      <th>grad_vy</th>\n",
       "      <th>frame</th>\n",
       "      <th>particle</th>\n",
       "    </tr>\n",
       "  </thead>\n",
       "  <tbody>\n",
       "    <tr>\n",
       "      <th>0</th>\n",
       "      <td>100.1</td>\n",
       "      <td>14</td>\n",
       "      <td>0.000000</td>\n",
       "      <td>0.000000</td>\n",
       "      <td>-12.929629</td>\n",
       "      <td>2.092927</td>\n",
       "      <td>0.554988</td>\n",
       "      <td>1.034923</td>\n",
       "      <td>0</td>\n",
       "      <td>0</td>\n",
       "    </tr>\n",
       "    <tr>\n",
       "      <th>1</th>\n",
       "      <td>102.1</td>\n",
       "      <td>14</td>\n",
       "      <td>0.206456</td>\n",
       "      <td>0.090404</td>\n",
       "      <td>-1.658291</td>\n",
       "      <td>1.216451</td>\n",
       "      <td>1.165742</td>\n",
       "      <td>0.986391</td>\n",
       "      <td>1</td>\n",
       "      <td>0</td>\n",
       "    </tr>\n",
       "    <tr>\n",
       "      <th>2</th>\n",
       "      <td>104.1</td>\n",
       "      <td>16</td>\n",
       "      <td>0.874516</td>\n",
       "      <td>0.911988</td>\n",
       "      <td>-1.025610</td>\n",
       "      <td>1.169340</td>\n",
       "      <td>1.165411</td>\n",
       "      <td>0.986151</td>\n",
       "      <td>2</td>\n",
       "      <td>0</td>\n",
       "    </tr>\n",
       "    <tr>\n",
       "      <th>3</th>\n",
       "      <td>106.1</td>\n",
       "      <td>14</td>\n",
       "      <td>2.259772</td>\n",
       "      <td>1.904244</td>\n",
       "      <td>-0.922982</td>\n",
       "      <td>1.180725</td>\n",
       "      <td>1.305036</td>\n",
       "      <td>0.972071</td>\n",
       "      <td>3</td>\n",
       "      <td>0</td>\n",
       "    </tr>\n",
       "    <tr>\n",
       "      <th>4</th>\n",
       "      <td>108.1</td>\n",
       "      <td>14</td>\n",
       "      <td>3.177685</td>\n",
       "      <td>2.306984</td>\n",
       "      <td>-0.515321</td>\n",
       "      <td>1.149242</td>\n",
       "      <td>3.507548</td>\n",
       "      <td>0.758648</td>\n",
       "      <td>4</td>\n",
       "      <td>0</td>\n",
       "    </tr>\n",
       "  </tbody>\n",
       "</table>\n",
       "</div>"
      ],
      "text/plain": [
       "       t   n         x         y    grad_ux   grad_uy   grad_vx   grad_vy  \\\n",
       "0  100.1  14  0.000000  0.000000 -12.929629  2.092927  0.554988  1.034923   \n",
       "1  102.1  14  0.206456  0.090404  -1.658291  1.216451  1.165742  0.986391   \n",
       "2  104.1  16  0.874516  0.911988  -1.025610  1.169340  1.165411  0.986151   \n",
       "3  106.1  14  2.259772  1.904244  -0.922982  1.180725  1.305036  0.972071   \n",
       "4  108.1  14  3.177685  2.306984  -0.515321  1.149242  3.507548  0.758648   \n",
       "\n",
       "   frame  particle  \n",
       "0      0         0  \n",
       "1      1         0  \n",
       "2      2         0  \n",
       "3      3         0  \n",
       "4      4         0  "
      ]
     },
     "execution_count": 18,
     "metadata": {},
     "output_type": "execute_result"
    }
   ],
   "source": [
    "fn=input_fn_lst[0]\n",
    "df=pd.read_csv(fn)\n",
    "df.head()"
   ]
  },
  {
   "cell_type": "code",
   "execution_count": 19,
   "metadata": {
    "ExecuteTime": {
     "end_time": "2021-02-13T03:22:29.659743Z",
     "start_time": "2021-02-13T03:22:29.642436Z"
    },
    "hidden": true
   },
   "outputs": [],
   "source": [
    "#TODO: compute the length of each pid\n",
    "# df.particle.values\n",
    "DT=2\n",
    "lifetime_values=df.groupby('particle').x.count().values*DT"
   ]
  },
  {
   "cell_type": "code",
   "execution_count": 20,
   "metadata": {
    "ExecuteTime": {
     "end_time": "2021-02-13T03:22:30.384988Z",
     "start_time": "2021-02-13T03:22:30.228222Z"
    },
    "hidden": true
   },
   "outputs": [
    {
     "data": {
      "image/png": "[encoded data removed]",
      "text/plain": [
       "<Figure size 576x504 with 1 Axes>"
      ]
     },
     "metadata": {},
     "output_type": "display_data"
    },
    {
     "name": "stdout",
     "output_type": "stream",
     "text": [
      "860\n"
     ]
    }
   ],
   "source": [
    "plt.hist(lifetime_values,bins=20)\n",
    "plt.xlabel('duration (ms)')\n",
    "plt.ylabel('number of spiral tips')\n",
    "plt.show()\n",
    "print(np.max(lifetime_values))"
   ]
  },
  {
   "cell_type": "code",
   "execution_count": 21,
   "metadata": {
    "ExecuteTime": {
     "end_time": "2021-02-13T03:22:31.498780Z",
     "start_time": "2021-02-13T03:22:31.297871Z"
    },
    "hidden": true
   },
   "outputs": [
    {
     "data": {
      "image/png": "[encoded data removed]",
      "text/plain": [
       "<Figure size 576x504 with 1 Axes>"
      ]
     },
     "metadata": {},
     "output_type": "display_data"
    },
    {
     "name": "stdout",
     "output_type": "stream",
     "text": [
      "860\n"
     ]
    }
   ],
   "source": [
    "#view the corresponding histogram for the wrapped trajectories\n",
    "# trgt='_unwrap.csv'\n",
    "# input_fn_lst=get_all_files_matching_pattern(file,trgt)\n",
    "# len(input_fn_lst)\n",
    "\n",
    "# fn=input_fn_lst[0]\n",
    "fn2=fn.replace('_unwrap','')\n",
    "df=pd.read_csv(fn2)\n",
    "df.head()\n",
    "\n",
    "#TODO: compute the length of each pid\n",
    "# df.particle.values\n",
    "DT=2\n",
    "lifetime_values=df.groupby('particle').x.count().values*DT\n",
    "\n",
    "plt.hist(lifetime_values,bins=20)\n",
    "plt.xlabel('duration (ms)')\n",
    "plt.ylabel('number of spiral tips')\n",
    "plt.show()\n",
    "print(np.max(lifetime_values))"
   ]
  },
  {
   "cell_type": "code",
   "execution_count": 13,
   "metadata": {
    "ExecuteTime": {
     "end_time": "2021-02-13T03:21:50.367615Z",
     "start_time": "2021-02-13T03:21:50.347989Z"
    },
    "hidden": true
   },
   "outputs": [],
   "source": [
    "#thus, the problem isn't from the unwrapping...\n",
    "#TODO: visualize the spiral tips in a .gif for the LR model. \n",
    "#TODO: verify whether ^these spiral tips are reasonable\n",
    "#TODO(failing ^that): consider coloring by spiral tip index using attentional algorithm\n",
    "#TODO: verify whether ^these spiral tip trajectories are reasonable\n",
    "#TODO(finally): implement attentional spiral tip detection algorithm in python (maybe later, C++, and then CUDA)\n"
   ]
  },
  {
   "cell_type": "markdown",
   "metadata": {
    "hidden": true
   },
   "source": [
    "__Results__ _R makes tips too brief to give nice MSD traces_\n",
    "- the 600x600 LR trial exhibited spiral tips with a longest apparent lifetime of ~800ms...  Not quite long enough to get beautiful MSD curves...\n",
    "- the 300x300 LR trial exhibited spiral tips with a longest apparent lifetime of ~800ms...  Not quite long enough to get beautiful MSD curves...\n",
    "\n",
    "thus, either something is wrong with tip tracking or these tips from the standard LR are not lasting long enough to get a nice MSD curve that D can be extracted from."
   ]
  },
  {
   "cell_type": "code",
   "execution_count": null,
   "metadata": {
    "hidden": true
   },
   "outputs": [],
   "source": []
  },
  {
   "cell_type": "code",
   "execution_count": 15,
   "metadata": {
    "ExecuteTime": {
     "end_time": "2021-02-13T03:22:01.165450Z",
     "start_time": "2021-02-13T03:22:01.133709Z"
    },
    "hidden": true
   },
   "outputs": [
    {
     "ename": "SyntaxError",
     "evalue": "invalid syntax (<ipython-input-15-690c38f94351>, line 54)",
     "output_type": "error",
     "traceback": [
      "\u001b[0;36m  File \u001b[0;32m\"<ipython-input-15-690c38f94351>\"\u001b[0;36m, line \u001b[0;32m54\u001b[0m\n\u001b[0;31m    __Results__ _R makes tips too brief to give nice MSD traces_\u001b[0m\n\u001b[0m                 ^\u001b[0m\n\u001b[0;31mSyntaxError\u001b[0m\u001b[0;31m:\u001b[0m invalid syntax\n"
     ]
    }
   ],
   "source": [
    "# # do there exist tips in the 900x900 (still wrapped)LR trajectories that last for more than 300ms?\n",
    "# # - if so, what about in the unwrapped trajectories\n",
    "\n",
    "# file=search_for_file()\n",
    "\n",
    "# trgt='_unwrap.csv'\n",
    "# input_fn_lst=get_all_files_matching_pattern(file,trgt)\n",
    "# len(input_fn_lst)\n",
    "\n",
    "# fn=input_fn_lst[0]\n",
    "# df=pd.read_csv(fn)\n",
    "# df.head()\n",
    "\n",
    "#TODO: compute the length of each pid\n",
    "# df.particle.values\n",
    "DT=2\n",
    "lifetime_values=df.groupby('particle').x.count().values*DT\n",
    "\n",
    "plt.hist(lifetime_values,bins=20)\n",
    "plt.xlabel('duration (ms)')\n",
    "plt.ylabel('number of spiral tips')\n",
    "plt.show()\n",
    "print(np.max(lifetime_values))\n",
    "\n",
    "#view the corresponding histogram for the wrapped trajectories\n",
    "# trgt='_unwrap.csv'\n",
    "# input_fn_lst=get_all_files_matching_pattern(file,trgt)\n",
    "# len(input_fn_lst)\n",
    "\n",
    "# fn=input_fn_lst[0]\n",
    "fn2=fn.replace('_unwrap','')\n",
    "df=pd.read_csv(fn2)\n",
    "df.head()\n",
    "\n",
    "#TODO: compute the length of each pid\n",
    "# df.particle.values\n",
    "DT=2\n",
    "lifetime_values=df.groupby('particle').x.count().values*DT\n",
    "plt.hist(lifetime_values,bins=20)\n",
    "plt.xlabel('duration (ms)')\n",
    "plt.ylabel('number of spiral tips')\n",
    "plt.show()\n",
    "print(np.max(lifetime_values))\n",
    "\n",
    "#thus, the problem isn't from the unwrapping...\n",
    "#TODO: visualize the spiral tips in a .gif for the LR model. \n",
    "#TODO: verify whether ^these spiral tips are reasonable\n",
    "#TODO(failing ^that): consider coloring by spiral tip index using attentional algorithm\n",
    "#TODO: verify whether ^these spiral tip trajectories are reasonable\n",
    "#TODO(finally): implement attentional spiral tip detection algorithm in python (maybe later, C++, and then CUDA)\n",
    "\n",
    "\n",
    "__Results__ _R makes tips too brief to give nice MSD traces_\n",
    "- the 600x600 LR trial exhibited spiral tips with a longest apparent lifetime of ~800ms...  Not quite long enough to get beautiful MSD curves...\n",
    "- the 300x300 LR trial exhibited spiral tips with a longest apparent lifetime of ~800ms...  Not quite long enough to get beautiful MSD curves...\n",
    "\n",
    "thus, either something is wrong with tip tracking or these tips from the standard LR are not lasting long enough to get a nice MSD curve that D can be extracted from.\n",
    "\n"
   ]
  },
  {
   "cell_type": "markdown",
   "metadata": {},
   "source": [
    "# TODO: measure quasiperiodic diffusion coefficients using thresholded tau_min/max\n",
    "TODO: measure ~6 manually for FK param_set_4 (quasiperiodic meander phase)\n",
    "- 1) plot msd for jth trial, \n",
    "- 2) input tau_min/max, \n",
    "- 3) measure/record D\n",
    "\n",
    "(Better)\n",
    "- set tau_min = first tau where MSD becomes greater than MSD_thresh=1 cm^2\n",
    "- set tau_max= tau_min + 500 ms (visually chosen)\n",
    "- todo(later) fit an exponential to the MSD curves"
   ]
  },
  {
   "cell_type": "code",
   "execution_count": 50,
   "metadata": {
    "ExecuteTime": {
     "end_time": "2021-02-16T04:44:07.794188Z",
     "start_time": "2021-02-16T04:44:07.767210Z"
    }
   },
   "outputs": [],
   "source": [
    "from scipy import stats"
   ]
  },
  {
   "cell_type": "code",
   "execution_count": 8,
   "metadata": {
    "ExecuteTime": {
     "end_time": "2021-02-16T04:22:06.932058Z",
     "start_time": "2021-02-16T04:21:06.332987Z"
    }
   },
   "outputs": [
    {
     "name": "stdout",
     "output_type": "stream",
     "text": [
      "File: /home/timothytyree/Documents/GitHub/care/notebooks/Data/initial-conditions-suite-2/ds_5_param_set_4/msd/emsd_longest_by_trial_tips_ntips_1.csv\n"
     ]
    },
    {
     "data": {
      "text/plain": [
       "2"
      ]
     },
     "execution_count": 8,
     "metadata": {},
     "output_type": "execute_result"
    }
   ],
   "source": [
    "file=search_for_file()\n",
    "# file='/home/timothytyree/Documents/GitHub/care/notebooks/Data/initial-conditions-suite-2/ds_5_param_set_4/trajectories/ic_200x200.001.22_traj_sr_400_mem_0.csv'\n",
    "\n",
    "L=200\n",
    "DT=1\n",
    "\n",
    "#measure the mean/max lifetime of the longest tip for a folder of tip logs\n",
    "trgt=file[-8:]#'mem_0.csv'\n",
    "input_fn_lst=get_all_files_matching_pattern(file,trgt)\n",
    "len(input_fn_lst)"
   ]
  },
  {
   "cell_type": "code",
   "execution_count": 9,
   "metadata": {
    "ExecuteTime": {
     "end_time": "2021-02-16T04:22:21.992054Z",
     "start_time": "2021-02-16T04:22:20.969771Z"
    }
   },
   "outputs": [],
   "source": [
    "df=pd.read_csv(file)"
   ]
  },
  {
   "cell_type": "code",
   "execution_count": 83,
   "metadata": {
    "ExecuteTime": {
     "end_time": "2021-02-16T05:08:54.547216Z",
     "start_time": "2021-02-16T05:08:19.498321Z"
    }
   },
   "outputs": [
    {
     "name": "stdout",
     "output_type": "stream",
     "text": [
      "171\n"
     ]
    },
    {
     "data": {
      "text/plain": [
       "0"
      ]
     },
     "execution_count": 83,
     "metadata": {},
     "output_type": "execute_result"
    }
   ],
   "source": [
    "#TODO: use \n",
    "MSD_thresh=1.;\n",
    "DT=1.\n",
    "y_thresh=MSD_thresh\n",
    "src_lst=list(set(df.src.values))\n",
    "print(len(src_lst))\n",
    "D_expval_lst=[];D_stderr_lst=[];tau_min_lst=[];tau_max_lst=[];delta_tau_lst=[]\n",
    "for src in src_lst:\n",
    "    x_values=df[df.src==src].lagt.values\n",
    "    y_values=df[df.src==src].msd.values\n",
    "    boo_meanders=(y_values>y_thresh).any()\n",
    "    if boo_meanders:\n",
    "        #TODO: measure D\n",
    "\n",
    "        # plt.plot(x_values,np.sqrt(y_values)/DT,label='speed (cm/ms)')\n",
    "        #         plt.plot(x_values,y_values,label='MSD (cm/ms)')\n",
    "        #choose tau_max\n",
    "        tau_min=x_values[np.argwhere(y_values-MSD_thresh>0)[0,0]]\n",
    "        tau_max=tau_min+0.5\n",
    "        last_tau=x_values[-1]\n",
    "        if tau_max>last_tau:\n",
    "            tau_max=last_tau\n",
    "    \n",
    "        #TODO: copy old method of computing slope with scipy\n",
    "        slope, intercept, r_value, p_value, std_err = stats.linregress(x_values,y_values)\n",
    "        #    std_err: D_stderr : Standard error of the estimated gradient.\n",
    "        #    slope  : D_expval : diffcoef of msd curve\n",
    "        D_expval=slope\n",
    "        D_stderr=std_err\n",
    "        delta_tau=tau_max-tau_min\n",
    "        D_expval_lst.append(D_expval)\n",
    "        D_stderr_lst.append(D_stderr)\n",
    "        tau_min_lst.append(tau_min)\n",
    "        tau_max_lst.append(tau_max)\n",
    "        delta_tau_lst.append(tau_max-tau_min)\n",
    "# plt.show()\n",
    "beep(2)"
   ]
  },
  {
   "cell_type": "code",
   "execution_count": 93,
   "metadata": {
    "ExecuteTime": {
     "end_time": "2021-02-16T05:16:22.745746Z",
     "start_time": "2021-02-16T05:16:22.712359Z"
    }
   },
   "outputs": [
    {
     "name": "stdout",
     "output_type": "stream",
     "text": [
      "considering only the trials meandered for at least 500 ms after being unhinged\n",
      "N=16\n",
      "the mean diffusion coefficient is 3.9428444969659973\n",
      "the stdev diffusion coefficient is 3.6360868417711543\n",
      "the mean diffusion coefficient is 0.06468809621217887\n",
      "the stdev diffusion coefficient is 0.06745739504698757\n"
     ]
    }
   ],
   "source": [
    "print('considering only the trials meandered for at least 500 ms after being unhinged')\n",
    "boo=np.array(delta_tau_lst)==0.5\n",
    "len(boo[boo])\n",
    "print(f\"N={len(boo[boo])}\")\n",
    "print(f'the mean diffusion coefficient is {np.mean(np.array(D_expval_lst)[boo])}')\n",
    "print(f'the stdev diffusion coefficient is {np.std(np.array(D_expval_lst)[boo])}')\n",
    "print(f'the mean diffusion coefficient is {np.mean(np.array(D_stderr_lst)[boo])}')\n",
    "print(f'the stdev diffusion coefficient is {np.std(np.array(D_stderr_lst)[boo])}')"
   ]
  },
  {
   "cell_type": "code",
   "execution_count": 95,
   "metadata": {
    "ExecuteTime": {
     "end_time": "2021-02-16T05:16:51.624988Z",
     "start_time": "2021-02-16T05:16:51.585239Z"
    }
   },
   "outputs": [
    {
     "name": "stdout",
     "output_type": "stream",
     "text": [
      "N=87\n",
      "the mean diffusion coefficient is 1.9184477749455926\n",
      "the stdev diffusion coefficient is 3.780892265056678\n",
      "the mean diffusion coefficient is 0.045313863387011113\n",
      "the stdev diffusion coefficient is 0.1140833712651235\n"
     ]
    }
   ],
   "source": [
    "D_expval_lst\n",
    "D_stderr_lst\n",
    "tau_min_lst\n",
    "tau_max_lst\n",
    "print(f\"N={len(delta_tau_lst)}\")\n",
    "print(f'the mean diffusion coefficient is {np.mean(np.array(D_expval_lst))}')\n",
    "print(f'the stdev diffusion coefficient is {np.std(np.array(D_expval_lst))}')\n",
    "print(f'the mean diffusion coefficient is {np.mean(np.array(D_stderr_lst))}')\n",
    "print(f'the stdev diffusion coefficient is {np.std(np.array(D_stderr_lst))}')"
   ]
  },
  {
   "cell_type": "code",
   "execution_count": 64,
   "metadata": {
    "ExecuteTime": {
     "end_time": "2021-02-16T04:52:01.483070Z",
     "start_time": "2021-02-16T04:52:01.441753Z"
    }
   },
   "outputs": [
    {
     "data": {
      "text/plain": [
       "False"
      ]
     },
     "execution_count": 64,
     "metadata": {},
     "output_type": "execute_result"
    }
   ],
   "source": [
    "delta_tau_lst\n",
    "# lifetime_lst=[]\n",
    "# for file in input_fn_lst:\n",
    "#     df=pd.read_csv(file)\n",
    "#     retval=get_longest_trajectories(file,width=L,height=L,DT=DT)\n",
    "#     lifetime=DT*retval.t.count()\n",
    "#     lifetime_lst.append(lifetime)\n",
    "# beep(2)\n",
    "boo_meanders"
   ]
  },
  {
   "cell_type": "code",
   "execution_count": 29,
   "metadata": {
    "ExecuteTime": {
     "end_time": "2021-02-16T04:31:39.420778Z",
     "start_time": "2021-02-16T04:31:39.396206Z"
    }
   },
   "outputs": [
    {
     "data": {
      "text/plain": [
       "171"
      ]
     },
     "execution_count": 29,
     "metadata": {},
     "output_type": "execute_result"
    }
   ],
   "source": [
    "len(src_lst)"
   ]
  },
  {
   "cell_type": "code",
   "execution_count": 35,
   "metadata": {
    "ExecuteTime": {
     "end_time": "2021-02-16T04:35:26.791961Z",
     "start_time": "2021-02-16T04:35:26.153901Z"
    }
   },
   "outputs": [
    {
     "data": {
      "image/png": "[encoded data removed]",
      "text/plain": [
       "<Figure size 576x504 with 1 Axes>"
      ]
     },
     "metadata": {},
     "output_type": "display_data"
    }
   ],
   "source": [
    "#TODO: measure D\n",
    "x_values=df[df.src==src].lagt.values\n",
    "y_values=df[df.src==src].msd.values\n",
    "# plt.plot(x_values,np.sqrt(y_values)/DT,label='speed (cm/ms)')\n",
    "plt.plot(x_values,y_values)\n",
    "\n",
    "plt.xlabel('lag (sec)')\n",
    "plt.ylabel(r'MSD (cm$^2$)')\n",
    "plt.title('quasiperiodic meander')\n",
    "# plt.legend()\n",
    "plt.show()"
   ]
  },
  {
   "cell_type": "code",
   "execution_count": 48,
   "metadata": {
    "ExecuteTime": {
     "end_time": "2021-02-16T04:39:10.745459Z",
     "start_time": "2021-02-16T04:39:10.679533Z"
    }
   },
   "outputs": [],
   "source": [
    "MSD_thresh=1;\n",
    "#choose tau_max\n",
    "tau_min=x_values[np.argwhere(y_values-MSD_thresh>0)[0,0]]\n",
    "tau_max=tau_min+0.5\n",
    "last_tau=x_values[-1]\n",
    "if tau_max>last_tau:\n",
    "    tau_max=last_tau\n",
    "\n",
    "\n"
   ]
  },
  {
   "cell_type": "code",
   "execution_count": 53,
   "metadata": {
    "ExecuteTime": {
     "end_time": "2021-02-16T04:44:22.135509Z",
     "start_time": "2021-02-16T04:44:22.077050Z"
    }
   },
   "outputs": [
    {
     "data": {
      "text/plain": [
       "1.4291628874589464"
      ]
     },
     "execution_count": 53,
     "metadata": {},
     "output_type": "execute_result"
    }
   ],
   "source": [
    "#copy of method of computing slope with scipy\n",
    "slope, intercept, r_value, p_value, std_err = stats.linregress(x_values,y_values)\n",
    "#    std_err: D_stderr : Standard error of the estimated gradient.\n",
    "#    slope  : D_expval : diffcoef of msd curve\n",
    "D_expval=slope\n",
    "D_stderr=std_err\n",
    "D_expval"
   ]
  },
  {
   "cell_type": "code",
   "execution_count": 52,
   "metadata": {
    "ExecuteTime": {
     "end_time": "2021-02-16T04:44:19.445088Z",
     "start_time": "2021-02-16T04:44:19.415630Z"
    }
   },
   "outputs": [
    {
     "data": {
      "text/plain": [
       "0.02699978691946362"
      ]
     },
     "execution_count": 52,
     "metadata": {},
     "output_type": "execute_result"
    }
   ],
   "source": [
    "D_stderr"
   ]
  },
  {
   "cell_type": "markdown",
   "metadata": {},
   "source": [
    "# TODO: compute MSD at the tail of the trajectory"
   ]
  },
  {
   "cell_type": "code",
   "execution_count": 87,
   "metadata": {
    "ExecuteTime": {
     "end_time": "2021-02-16T05:09:48.881799Z",
     "start_time": "2021-02-16T05:09:48.681374Z"
    }
   },
   "outputs": [],
   "source": [
    "trackpy.emsd?"
   ]
  },
  {
   "cell_type": "code",
   "execution_count": null,
   "metadata": {},
   "outputs": [],
   "source": []
  }
 ],
 "metadata": {
  "kernelspec": {
   "display_name": "Python 3",
   "language": "python",
   "name": "python3"
  },
  "language_info": {
   "codemirror_mode": {
    "name": "ipython",
    "version": 3
   },
   "file_extension": ".py",
   "mimetype": "text/x-python",
   "name": "python",
   "nbconvert_exporter": "python",
   "pygments_lexer": "ipython3",
   "version": "3.7.6"
  },
  "toc": {
   "base_numbering": 1,
   "nav_menu": {},
   "number_sections": true,
   "sideBar": true,
   "skip_h1_title": false,
   "title_cell": "Table of Contents",
   "title_sidebar": "Contents",
   "toc_cell": false,
   "toc_position": {},
   "toc_section_display": true,
   "toc_window_display": false
  },
  "varInspector": {
   "cols": {
    "lenName": 16,
    "lenType": 16,
    "lenVar": 40
   },
   "kernels_config": {
    "python": {
     "delete_cmd_postfix": "",
     "delete_cmd_prefix": "del ",
     "library": "var_list.py",
     "varRefreshCmd": "print(var_dic_list())"
    },
    "r": {
     "delete_cmd_postfix": ") ",
     "delete_cmd_prefix": "rm(",
     "library": "var_list.r",
     "varRefreshCmd": "cat(var_dic_list()) "
    }
   },
   "types_to_exclude": [
    "module",
    "function",
    "builtin_function_or_method",
    "instance",
    "_Feature"
   ],
   "window_display": false
  }
 },
 "nbformat": 4,
 "nbformat_minor": 4
}
