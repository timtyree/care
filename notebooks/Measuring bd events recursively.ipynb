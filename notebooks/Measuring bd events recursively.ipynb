{
 "cells": [
  {
   "cell_type": "markdown",
   "metadata": {},
   "source": [
    "# dev measure birth/death events recursively"
   ]
  },
  {
   "cell_type": "code",
   "execution_count": 3,
   "metadata": {
    "ExecuteTime": {
     "end_time": "2021-05-07T23:33:04.866090Z",
     "start_time": "2021-05-07T23:33:02.228080Z"
    }
   },
   "outputs": [
    {
     "name": "stdout",
     "output_type": "stream",
     "text": [
      "Automatic calling is: Smart\n"
     ]
    }
   ],
   "source": [
    "from lib.my_initialization import *\n",
    "from lib.controller.controller_LR import get_one_step_explicit_synchronous_splitting\n",
    "from lib.model.LR_model import *\n",
    "from lib.utils.utils_traj import *\n",
    "from lib.routines.bdrates import *\n",
    "from lib.measure.utils_measure_tips_cpu import *\n",
    "from lib.utils.stack_txt_LR import *\n",
    "from lib.viewer import *\n",
    "import trackpy\n",
    "from lib.utils import load_buffer\n",
    "from lib.routines.return_min_distance import *\n",
    "\n",
    "#automate the boring stuff\n",
    "# from IPython import utils\n",
    "import time, os, sys, re\n",
    "beep = lambda x: os.system(\"echo -n '\\\\a';sleep 0.2;\" * x)\n",
    "if not 'nb_dir' in globals():\n",
    "    nb_dir = os.getcwd()\n",
    "    \n",
    "%autocall 1\n",
    "%load_ext autoreload\n",
    "%autoreload 2"
   ]
  },
  {
   "cell_type": "markdown",
   "metadata": {},
   "source": [
    "# identify two time ordered death events"
   ]
  },
  {
   "cell_type": "code",
   "execution_count": 11,
   "metadata": {
    "ExecuteTime": {
     "end_time": "2021-05-06T20:11:48.215715Z",
     "start_time": "2021-05-06T20:11:48.163186Z"
    }
   },
   "outputs": [
    {
     "name": "stdout",
     "output_type": "stream",
     "text": [
      "[['100' 'c' 'c' 'c']\n",
      " ['23' 'b' 'b' 'b']\n",
      " ['43' 'cc' 'cc' 'cc']]\n",
      "[1 2 0]\n"
     ]
    },
    {
     "data": {
      "text/plain": [
       "array([ 23,  43, 100])"
      ]
     },
     "execution_count": 11,
     "metadata": {},
     "output_type": "execute_result"
    }
   ],
   "source": [
    "x_lst=[100,23,43];y_lst=['c','b','cc'];s1_lst=['c','b','cc'];s2_lst=['c','b','cc']\n",
    "_values=np.array(list(zip(x_lst,y_lst,s1_lst,s2_lst)))\n",
    "\n",
    "in_to_sorted_values=np.argsort(x_lst)\n",
    "x_lst=tuple(np.array(x_lst)[in_to_sorted_values])\n",
    "y_lst=tuple(np.array(y_lst)[in_to_sorted_values])\n",
    "s1_lst=tuple(np.array(s1_lst)[in_to_sorted_values])\n",
    "s2_lst=tuple(np.array(s2_lst)[in_to_sorted_values])\n",
    "# x_lst,y_lst,s1_lst,s2_lst=_values[in_to_sorted_values]"
   ]
  },
  {
   "cell_type": "code",
   "execution_count": null,
   "metadata": {
    "ExecuteTime": {
     "end_time": "2021-05-07T20:17:24.829009Z",
     "start_time": "2021-05-07T20:17:24.766749Z"
    }
   },
   "outputs": [],
   "source": []
  },
  {
   "cell_type": "code",
   "execution_count": 2,
   "metadata": {
    "ExecuteTime": {
     "end_time": "2021-05-06T20:16:02.453967Z",
     "start_time": "2021-05-06T20:15:30.592544Z"
    }
   },
   "outputs": [
    {
     "name": "stdout",
     "output_type": "stream",
     "text": [
      "(200, 200, 18)\n",
      "ntips=4\n"
     ]
    }
   ],
   "source": [
    "txt_fn=f'{nb_dir}/Data/test_data/ic008.33_t_218.8.npz'\n",
    "t=218.8\n",
    "dt=0.01\n",
    "txt=load_buffer(txt_fn)\n",
    "inVc,outVc,inmhjdfx,outmhjdfx,dVcdt=unstack_txt(txt)\n",
    "width,height=txt.shape[:2]\n",
    "print(f\"txt.shape={txt.shape}\")\n",
    "\n",
    "V_threshold=-50\n",
    "jump_threshold = 40\n",
    "ds=5.0\n",
    "# get_one_step\n",
    "__, arr39, one_step = get_one_step_explicit_synchronous_splitting(\n",
    "    nb_dir,dt,width,height,ds,diffCoef=0.0005,Cm=1.0)\n",
    "\n",
    "#the heavyweight spiral tip measures\n",
    "comp_dict_tips=get_comp_dict_topo_full_color(width=width,height=height,level1=V_threshold,level2=0,\n",
    "                                             jump_threshold=jump_threshold,ds=ds)\n",
    "# comp_dict_tips=get_compute_all_spiral_tips(width, height, mode='simp')\n",
    "comp_distance=get_distance_L2_pbc(width,height)\n",
    "#measure tips that are already present topologically (slower)\n",
    "img=inVc[...,0];dimgdt=dVcdt[...,0]\n",
    "# dict_topo=comp_dict_topo_simple(img,dimgdt,t)\n",
    "dict_topo=comp_dict_tips(img,dimgdt,t,txt)\n",
    "pid_lst_all=dict_topo['pid']\n",
    "n_tips=len(pid_lst_all)\n",
    "print(f'ntips={n_tips}')\n",
    "#initialize system\n",
    "pdict=ParticlePBCDict(dict_tips=dict_topo, width=width, height=width)#, **kwargs)\n",
    "t_prev=t;txt_prev=txt.copy()\n",
    "# #zoom system (increases runtime and precision at long timescales)\n",
    "# txt,pdict=zoom_system(txt,pdict)\n",
    "# txt,pdict=zoom_system(txt,pdict)\n",
    "# dt=dt/10\n",
    "# width,height=txt.shape[:2]\n",
    "# comp_dict_topo_simple=get_comp_dict_topo_simple(width=width,height=height,level1=V_threshold,level2=0)\n",
    "x_values,y_values,pid_values=pdict.get_current_locations()\n",
    "inVc,outVc,inmhjdfx,outmhjdfx,dVcdt=unstack_txt(txt)\n",
    "img=inVc[...,0];dimgdt=dVcdt[...,0]\n",
    "\n",
    "scale=ds/width\n",
    "xy_values=np.array(tuple(zip(x_values,y_values)))\n",
    "assert(xy_values[0].shape[0]==2)\n",
    "\n",
    "#compute minimum distance of all pid found\n",
    "item_lst=[]\n",
    "for i in range(n_tips):\n",
    "    for j in range(n_tips):\n",
    "        if i > j:\n",
    "            #the ith tip location\n",
    "            point1=xy_values[i]\n",
    "            #the jth tip location\n",
    "            point2=xy_values[j]\n",
    "            #their distance, in cm\n",
    "            dist=comp_distance(point1,point2)\n",
    "            #add to list of distances\n",
    "            item=(dist,i,j)\n",
    "            item_lst.append(item)\n",
    "item_lst=sorted(item_lst)\n",
    "item_lst\n",
    "\n",
    "#identify the pairs to follow to existential event\n",
    "num_pairs_to_follow=2\n",
    "pid_pair_lst=[]\n",
    "for item in item_lst[:num_pairs_to_follow]:\n",
    "    d,i,j=item\n",
    "    pid_pair=i,j\n",
    "    pid_pair_lst.append(pid_pair)\n",
    "\n",
    "\n",
    "#define initialization target points as\n",
    "point_target_init_lst=[]\n",
    "for pid_pair in pid_pair_lst:\n",
    "    #the  mean location of these tips \n",
    "    point_target_init=np.mean((x_values[pid_pair[0]],x_values[pid_pair[1]])),np.mean((y_values[pid_pair[0]],y_values[pid_pair[1]]))\n",
    "    point_target_init_lst.append(point_target_init)\n",
    "\n",
    "#set range to some value\n",
    "#the ith tip location\n",
    "point1=np.array(point_target_init_lst[0])\n",
    "#the jth tip location\n",
    "point2=np.array(point_target_init_lst[1])\n",
    "#their distance, in cm\n",
    "r=comp_distance(point1,point2)*scale #cm distance between the targets\n",
    "print(f'there are {r:.3f} cm distance between the first and second targets.')"
   ]
  },
  {
   "cell_type": "code",
   "execution_count": null,
   "metadata": {
    "ExecuteTime": {
     "start_time": "2021-05-06T20:15:31.958Z"
    }
   },
   "outputs": [],
   "source": [
    "#initialize system\n",
    "pdict=ParticlePBCDict(dict_tips=dict_topo, width=width, height=width)#, **kwargs)\n",
    "t_prev=t;txt_prev=txt.copy()\n",
    "# #zoom system\n",
    "# txt,pdict=zoom_system(txt,pdict)\n",
    "# txt,pdict=zoom_system(txt,pdict)\n",
    "# dt=dt/10\n",
    "# width,height=txt.shape[:2]\n",
    "# comp_dict_topo_simple=get_comp_dict_topo_simple(width=width,height=height,level1=V_threshold,level2=0)\n",
    "x_values,y_values,pid_values=pdict.get_current_locations()\n",
    "inVc,outVc,inmhjdfx,outmhjdfx,dVcdt=unstack_txt(txt)\n",
    "img=inVc[...,0];dimgdt=dVcdt[...,0]\n",
    "\n",
    "scale=ds/width\n",
    "xy_values=np.array(tuple(zip(x_values,y_values)))\n",
    "assert(xy_values[0].shape[0]==2)"
   ]
  },
  {
   "cell_type": "code",
   "execution_count": null,
   "metadata": {
    "ExecuteTime": {
     "start_time": "2021-05-06T20:15:33.139Z"
    }
   },
   "outputs": [],
   "source": [
    "#compute minimum distance of all pid found\n",
    "item_lst=[]\n",
    "for i in range(n_tips):\n",
    "    for j in range(n_tips):\n",
    "        if i > j:\n",
    "            #the ith tip location\n",
    "            point1=xy_values[i]\n",
    "            #the jth tip location\n",
    "            point2=xy_values[j]\n",
    "            #their distance, in cm\n",
    "            dist=comp_distance(point1,point2)\n",
    "            #add to list of distances\n",
    "            item=(dist,i,j)\n",
    "            item_lst.append(item)\n",
    "item_lst=sorted(item_lst)\n",
    "item_lst"
   ]
  },
  {
   "cell_type": "code",
   "execution_count": null,
   "metadata": {
    "ExecuteTime": {
     "start_time": "2021-05-06T20:15:35.348Z"
    }
   },
   "outputs": [],
   "source": [
    "#identify the pairs to follow to existential event\n",
    "num_pairs_to_follow=2\n",
    "pid_pair_lst=[]\n",
    "for item in item_lst[:num_pairs_to_follow]:\n",
    "    d,i,j=item\n",
    "    pid_pair=i,j\n",
    "    pid_pair_lst.append(pid_pair)\n"
   ]
  },
  {
   "cell_type": "code",
   "execution_count": null,
   "metadata": {
    "ExecuteTime": {
     "start_time": "2021-05-06T20:15:36.642Z"
    }
   },
   "outputs": [],
   "source": [
    "#define initialization target points as\n",
    "point_target_init_lst=[]\n",
    "for pid_pair in pid_pair_lst:\n",
    "    #the  mean location of these tips \n",
    "    point_target_init=np.mean((x_values[pid_pair[0]],x_values[pid_pair[1]])),np.mean((y_values[pid_pair[0]],y_values[pid_pair[1]]))\n",
    "    point_target_init_lst.append(point_target_init)"
   ]
  },
  {
   "cell_type": "code",
   "execution_count": null,
   "metadata": {
    "ExecuteTime": {
     "start_time": "2021-05-06T20:15:39.590Z"
    }
   },
   "outputs": [],
   "source": [
    "#set range to some value\n",
    "#the ith tip location\n",
    "point1=np.array(point_target_init_lst[0])\n",
    "#the jth tip location\n",
    "point2=np.array(point_target_init_lst[1])\n",
    "#their distance, in cm\n",
    "r=comp_distance(point1,point2)*scale #cm distance between the targets\n",
    "print(f'there are {r:.3f} cm distance between the first and second targets.')"
   ]
  },
  {
   "cell_type": "code",
   "execution_count": 109,
   "metadata": {
    "ExecuteTime": {
     "end_time": "2021-05-06T19:08:06.966398Z",
     "start_time": "2021-05-06T19:08:06.916213Z"
    }
   },
   "outputs": [],
   "source": []
  },
  {
   "cell_type": "code",
   "execution_count": 54,
   "metadata": {
    "ExecuteTime": {
     "end_time": "2021-05-06T07:28:49.563090Z",
     "start_time": "2021-05-06T07:28:49.518059Z"
    }
   },
   "outputs": [],
   "source": [
    "# from inspect import getsource\n",
    "# print(getsource(find_stopping_point))"
   ]
  },
  {
   "cell_type": "markdown",
   "metadata": {},
   "source": [
    "# estimate time ordering the death events (~7 min runtime...)"
   ]
  },
  {
   "cell_type": "code",
   "execution_count": 110,
   "metadata": {
    "ExecuteTime": {
     "end_time": "2021-05-06T19:15:29.874909Z",
     "start_time": "2021-05-06T19:08:19.516160Z"
    },
    "scrolled": true
   },
   "outputs": [
    {
     "name": "stdout",
     "output_type": "stream",
     "text": [
      "death event found for pid_pair=(3, 2) at time t=228.79999999999092, where dt=0.01 and L=200...\n",
      "\t min_sigma_max=0.01397989604501346 cm\n",
      "death event found for pid_pair=(1, 0) at time t=248.79999999997273, where dt=0.01 and L=200...\n",
      "\t min_sigma_max=0.014290084392902717 cm\n"
     ]
    }
   ],
   "source": [
    "#find txt_prev, and approximate time of death for each tip\n",
    "t_death_lst=[]\n",
    "for pid_pair in pid_pair_lst:\n",
    "    #TODO: def follows_pair_to_death(txt,pdict,pid_pair,atol,dt,ds):\n",
    "    #slow high precision method\n",
    "    # txt_prev,t_prev,min_sigma_max=find_stopping_point(dt, pdict, txt_prev, t_prev, save_every_n_frames=1)\n",
    "    \n",
    "    #find txt_prev near the death of the first tip pair fast low precision method\n",
    "    #TODO(if output looks funny): run more tests on find_stopping_point\n",
    "    txt_prev,t_prev,min_sigma_max=find_stopping_point(dt,pdict,txt_prev,t_prev,save_every_n_frames=1000,V_threshold=V_threshold,pid_pair=pid_pair)\n",
    "    t_death_lst.append(t_prev+dt*1000)\n",
    "    \n",
    "    #init txt for the next tip\n",
    "    txt_fn=f'{nb_dir}/Data/test_data/ic008.33_t_218.8.npz'\n",
    "    t=218.8;dt=0.01\n",
    "    txt=load_buffer(txt_fn);width,height=txt.shape[:2]\n",
    "    inVc,outVc,inmhjdfx,outmhjdfx,dVcdt=unstack_txt(txt)\n",
    "    #measure tips that are already present topologically (slower)\n",
    "    img=inVc[...,0];dimgdt=dVcdt[...,0]\n",
    "    # dict_topo=comp_dict_topo_simple(img,dimgdt,t)\n",
    "    dict_topo=comp_dict_tips(img,dimgdt,t,txt)\n",
    "    pid_lst_all=dict_topo['pid']\n",
    "    n_tips=len(pid_lst_all)\n",
    "    boo=n_tips>0\n",
    "    \n",
    "    # #zoom system\n",
    "    # txt,pdict=zoom_system(txt,pdict)\n",
    "    # txt,pdict=zoom_system(txt,pdict)\n",
    "    # width,height=txt.shape[:2]\n",
    "    # comp_dict_topo_simple=get_comp_dict_topo_simple(width=width,height=height,level1=V_threshold,level2=0)\n",
    "    # x_values,y_values,pid_values=pdict.get_current_locations()\n",
    "    pdict=ParticlePBCDict(dict_tips=dict_topo, width=width, height=width)#, **kwargs)\n",
    "    t_prev=t;txt_prev=txt.copy()"
   ]
  },
  {
   "cell_type": "markdown",
   "metadata": {},
   "source": [
    "# recursively zoom into list of death events"
   ]
  },
  {
   "cell_type": "code",
   "execution_count": 8,
   "metadata": {
    "ExecuteTime": {
     "end_time": "2021-05-06T20:19:29.585662Z",
     "start_time": "2021-05-06T20:19:29.529402Z"
    }
   },
   "outputs": [
    {
     "name": "stdout",
     "output_type": "stream",
     "text": [
      "t=218.80\n"
     ]
    }
   ],
   "source": [
    "#output from ^that takes 7 minutes...\n",
    "sorted_indices_pid_pair_lst=[0,1]\n",
    "t_death_lst=[218.81, 238.8099999999818]\n",
    "print(f\"t={t:0.2f}\")\n",
    "#DONE: enforce sorting of tips at a low level that integrates with all pythonic methods"
   ]
  },
  {
   "cell_type": "code",
   "execution_count": 9,
   "metadata": {
    "ExecuteTime": {
     "end_time": "2021-05-06T20:19:31.681744Z",
     "start_time": "2021-05-06T20:19:31.635680Z"
    }
   },
   "outputs": [],
   "source": [
    "#determine which pid_pair dies first\n",
    "# item=t_death,pid_pair\n",
    "sorted_indices_pid_pair_lst=np.argsort(t_death_lst)\n",
    "# boo is whether the last pid_pair died last)\n",
    "boo=t_death_lst[-1]==np.min(np.array(t_death_lst))\n",
    "# #or just reinitialize and brute force through everything\n",
    "# boo=True\n",
    "#return sorted_indices_pid_pair_lst, t_death_lst, pid_pair_list"
   ]
  },
  {
   "cell_type": "code",
   "execution_count": 99,
   "metadata": {
    "ExecuteTime": {
     "end_time": "2021-05-06T19:05:42.800960Z",
     "start_time": "2021-05-06T19:05:19.023449Z"
    }
   },
   "outputs": [],
   "source": [
    "V_threshold=-50\n",
    "jump_threshold = 40\n",
    "ds=5.0\n",
    "# get_one_step\n",
    "__, arr39, one_step = get_one_step_explicit_synchronous_splitting(\n",
    "    nb_dir,dt,width,height,ds,diffCoef=0.0005,Cm=1.0)\n",
    "\n",
    "#the heavyweight spiral tip measures\n",
    "comp_dict_tips=get_comp_dict_topo_full_color(width=width,height=height,level1=V_threshold,level2=0,\n",
    "                                             jump_threshold=jump_threshold,ds=ds)\n",
    "# comp_dict_tips=get_compute_all_spiral_tips(width, height, mode='simp')\n",
    "comp_distance=get_distance_L2_pbc(width,height)"
   ]
  },
  {
   "cell_type": "code",
   "execution_count": 100,
   "metadata": {
    "ExecuteTime": {
     "end_time": "2021-05-06T19:05:45.243600Z",
     "start_time": "2021-05-06T19:05:42.996025Z"
    }
   },
   "outputs": [
    {
     "data": {
      "text/plain": [
       "4"
      ]
     },
     "execution_count": 100,
     "metadata": {},
     "output_type": "execute_result"
    }
   ],
   "source": [
    "#measure tips that are already present topologically (slower)\n",
    "img=inVc[...,0];dimgdt=dVcdt[...,0]\n",
    "# dict_topo=comp_dict_topo_simple(img,dimgdt,t)\n",
    "dict_topo=comp_dict_tips(img,dimgdt,t,txt)\n",
    "pid_lst_all=dict_topo['pid']\n",
    "n_tips=len(pid_lst_all)\n",
    "n_tips"
   ]
  },
  {
   "cell_type": "code",
   "execution_count": 101,
   "metadata": {
    "ExecuteTime": {
     "end_time": "2021-05-06T19:05:45.452555Z",
     "start_time": "2021-05-06T19:05:45.412417Z"
    }
   },
   "outputs": [
    {
     "data": {
      "text/plain": [
       "dict_keys(['x', 'y', 's1', 's2', 't', 'pid', 'greater_pid', 'lesser_pid', 'greater_arclen', 'lesser_arclen', 'greater_arclen_values', 'lesser_arclen_values', 'greater_mean_V', 'lesser_mean_V', 'greater_mean_curvature', 'lesser_mean_curvature', 'greater_xy_values', 'lesser_xy_values', 'greater_V_values', 'lesser_V_values', 'greater_curvature_values', 'lesser_curvature_values'])"
      ]
     },
     "execution_count": 101,
     "metadata": {},
     "output_type": "execute_result"
    }
   ],
   "source": []
  },
  {
   "cell_type": "code",
   "execution_count": 16,
   "metadata": {
    "ExecuteTime": {
     "end_time": "2021-05-06T20:33:47.715190Z",
     "start_time": "2021-05-06T20:33:20.555060Z"
    }
   },
   "outputs": [
    {
     "name": "stdout",
     "output_type": "stream",
     "text": [
      "(200, 200, 18)\n"
     ]
    }
   ],
   "source": [
    "#or just reinitialize and brute force through everything once in order\n",
    "boo=False\n",
    "# if the final pid_pair in pid_pair_lst didn't die first, reinititialize txt and pdict\n",
    "if not boo:\n",
    "    txt_fn=f'{nb_dir}/Data/test_data/ic008.33_t_218.8.npz'\n",
    "    t=218.8\n",
    "    dt=0.01\n",
    "    txt=load_buffer(txt_fn)\n",
    "    inVc,outVc,inmhjdfx,outmhjdfx,dVcdt=unstack_txt(txt)\n",
    "    width,height=txt.shape[:2]\n",
    "    print(txt.shape)\n",
    "    one_step,comp_distance,comp_dict_tips=init_methods(width,height,ds,dt,V_threshold=-50,jump_threshold=40)\n",
    "    comp_dict_topo_full_color=comp_dict_tips\n",
    "    #reidentify the tips to be tracked\n",
    "    dict_tips=comp_dict_tips(img, dimgdt, t, txt)\n",
    "    pdict=ParticlePBCDict(dict_tips=dict_tips, width=width, height=width)#, **kwargs)\n",
    "    t_prev=t;txt_prev=txt.copy()\n"
   ]
  },
  {
   "cell_type": "code",
   "execution_count": 48,
   "metadata": {
    "ExecuteTime": {
     "end_time": "2021-05-06T07:28:30.519514Z",
     "start_time": "2021-05-06T07:28:30.475250Z"
    }
   },
   "outputs": [],
   "source": [
    "scale=ds/width\n",
    "xy_values=np.array(tuple(zip(x_values,y_values)))\n",
    "assert(xy_values[0].shape[0]==2)"
   ]
  },
  {
   "cell_type": "code",
   "execution_count": 17,
   "metadata": {
    "ExecuteTime": {
     "end_time": "2021-05-06T20:33:55.901492Z",
     "start_time": "2021-05-06T20:33:55.851191Z"
    }
   },
   "outputs": [],
   "source": [
    "# zooming in as needed, until a certain absolute tolerance is found in a zero minimum distance between tips is reached.  \n",
    "# consider\n",
    "dict_atol={'test':1e-2,'batch':1e-4,'precise':1e-6}\n",
    "atol=dict_atol['test']\n",
    "tfactor=0.1"
   ]
  },
  {
   "cell_type": "code",
   "execution_count": 18,
   "metadata": {
    "ExecuteTime": {
     "end_time": "2021-05-07T13:39:55.257151Z",
     "start_time": "2021-05-06T20:33:56.815232Z"
    }
   },
   "outputs": [
    {
     "name": "stdout",
     "output_type": "stream",
     "text": [
      "death event found for pid_pair=(1, 0) at time t=220.7999999999982, where dt=0.01 and L=200...\n",
      "\t min_sigma_max=0.013536455211009588 cm\n",
      "death event found for pid_pair=(1, 0) at time t=219.899999999999, where dt=0.01 and L=200...\n",
      "\t min_sigma_max=0.013536455211009588 cm\n",
      "death event found for pid_pair=(1, 0) at time t=219.86999999999904, where dt=0.01 and L=200...\n",
      "\t min_sigma_max=0.013535214153667072 cm\n",
      "zoomed to dsdpixel=0.0125 cm/pxl for pid_pair, (1, 0)...\n",
      "death event found for pid_pair=(1, 0) at time t=219.95999999999952, where dt=0.001 and L=400...\n",
      "\t min_sigma_max=0.013535214153667072 cm\n",
      "death event found for pid_pair=(1, 0) at time t=219.87999999999914, where dt=0.001 and L=400...\n",
      "\t min_sigma_max=5.117222985861741e-07 cm\n",
      "death event found for pid_pair=(1, 0) at time t=219.8709999999991, where dt=0.001 and L=400...\n",
      "\t min_sigma_max=5.117222985861741e-07 cm\n",
      "zoomed to dsdpixel=0.00625 cm/pxl for pid_pair, (1, 0)...\n",
      "death event found for pid_pair=(1, 0) at time t=219.88999999999976, where dt=0.0001 and L=800...\n",
      "\t min_sigma_max=4.039495502751759e-05 cm\n",
      "death event found for pid_pair=(1, 0) at time t=219.88099999999946, where dt=0.0001 and L=800...\n",
      "\t min_sigma_max=4.039495502751759e-05 cm\n",
      "death event found for pid_pair=(1, 0) at time t=219.88079999999945, where dt=0.0001 and L=800...\n",
      "\t min_sigma_max=3.88944250801562e-05 cm\n",
      "zoomed to dsdpixel=0.003125 cm/pxl for pid_pair, (1, 0)...\n",
      "death event found for pid_pair=(1, 0) at time t=219.88169999999977, where dt=1e-05 and L=1600...\n",
      "\t min_sigma_max=3.88944250801562e-05 cm\n",
      "death event found for pid_pair=(1, 0) at time t=219.8909000000027, where dt=1e-05 and L=1600...\n",
      "\t min_sigma_max=1.4157468679022587e-05 cm\n",
      "death event found for pid_pair=(1, 0) at time t=219.89081000000266, where dt=1e-05 and L=1600...\n",
      "\t min_sigma_max=1.4157468679022587e-05 cm\n",
      "zoomed to dsdpixel=0.0015625 cm/pxl for pid_pair, (1, 0)...\n",
      "death event found for pid_pair=(1, 0) at time t=219.8925999999981, where dt=1.0000000000000002e-06 and L=3200...\n",
      "\t min_sigma_max=1.0386915767510623e-07 cm\n",
      "death event found for pid_pair=(1, 0) at time t=219.89250999999834, where dt=1.0000000000000002e-06 and L=3200...\n",
      "\t min_sigma_max=1.0386915767510623e-07 cm\n",
      "death event found for pid_pair=(1, 0) at time t=219.8925269999983, where dt=1.0000000000000002e-06 and L=3200...\n",
      "\t min_sigma_max=2.964283370875441e-09 cm\n",
      "{0: (size,t,x,y)=(161,219.893,2229.428,1390.000);, 1: (size,t,x,y)=(161,219.893,2229.772,1392.791);, 2: (size,t,x,y)=(1,218.800,2347.333,2706.263);, 3: (size,t,x,y)=(1,218.800,2348.892,2703.245);, 4: (size,t,x,y)=(36,219.883,2233.191,1366.006);, 5: (size,t,x,y)=(19,219.881,2271.987,1082.312);, 6: (size,t,x,y)=(153,219.893,2229.521,1391.170);, 7: (size,t,x,y)=(153,219.893,2229.428,1390.001);, 8: (size,t,x,y)=(104,219.890,2288.008,2914.204);, 9: (size,t,x,y)=(104,219.890,2287.992,2914.202);, 10: (size,t,x,y)=(73,219.887,2272.010,2910.715);, 11: (size,t,x,y)=(73,219.887,2271.990,2910.709);, 12: (size,t,x,y)=(32,219.883,2271.981,2615.590);, 13: (size,t,x,y)=(43,219.884,2255.992,2903.711);, 14: (size,t,x,y)=(43,219.884,2256.008,2903.720);, 15: (size,t,x,y)=(32,219.883,2272.018,2615.572);, 16: (size,t,x,y)=(122,219.892,2288.024,2609.290);, 17: (size,t,x,y)=(122,219.892,2287.976,2609.304);, 18: (size,t,x,y)=(61,219.886,2287.983,2609.305);, 19: (size,t,x,y)=(99,219.890,2304.017,2605.817);, 20: (size,t,x,y)=(61,219.886,2288.016,2609.295);, 21: (size,t,x,y)=(99,219.890,2303.983,2605.821);, 22: (size,t,x,y)=(28,219.883,2233.196,1365.995);, 23: (size,t,x,y)=(23,219.882,2237.229,1358.009);, 24: (size,t,x,y)=(28,219.883,2235.275,1362.061);, 25: (size,t,x,y)=(28,219.883,2235.312,1361.995);, 26: (size,t,x,y)=(124,219.892,2271.982,2910.706);, 27: (size,t,x,y)=(124,219.892,2272.018,2910.718);, 28: (size,t,x,y)=(152,219.893,2287.756,2914.165);, 29: (size,t,x,y)=(64,219.886,2287.985,1066.615);, 30: (size,t,x,y)=(152,219.893,2288.244,2914.221);, 31: (size,t,x,y)=(64,219.886,2288.030,1066.578);, 32: (size,t,x,y)=(115,219.891,2350.973,2815.841);, 33: (size,t,x,y)=(111,219.891,2350.816,2704.049);, 34: (size,t,x,y)=(115,219.891,2351.067,2816.030);, 35: (size,t,x,y)=(111,219.891,2301.968,2914.618);, 36: (size,t,x,y)=(111,219.891,2302.035,2914.617);, 37: (size,t,x,y)=(111,219.891,2351.014,2703.698);, 38: (size,t,x,y)=(116,219.892,2318.036,2912.158);, 39: (size,t,x,y)=(152,219.893,2303.796,2605.852);, 40: (size,t,x,y)=(116,219.892,2317.976,2912.172);, 41: (size,t,x,y)=(108,219.891,2348.485,2896.004);, 42: (size,t,x,y)=(108,219.891,2348.508,2895.983);, 43: (size,t,x,y)=(152,219.893,2304.204,2605.800);, 44: (size,t,x,y)=(152,219.893,2359.622,2690.074);, 45: (size,t,x,y)=(81,219.888,2368.004,2627.716);, 46: (size,t,x,y)=(111,219.891,2317.991,2605.065);, 47: (size,t,x,y)=(112,219.891,2334.019,2606.949);, 48: (size,t,x,y)=(111,219.891,2318.010,2605.065);, 49: (size,t,x,y)=(112,219.891,2333.981,2606.941);, 50: (size,t,x,y)=(3,219.881,1633.984,2655.423);, 51: (size,t,x,y)=(3,219.881,1634.010,2655.221);, 52: (size,t,x,y)=(5,219.881,1666.719,2527.991);, 53: (size,t,x,y)=(2,219.881,1666.788,3087.895);, 54: (size,t,x,y)=(5,219.881,1666.715,2528.014);, 55: (size,t,x,y)=(2,219.881,1666.819,3088.062);, 56: (size,t,x,y)=(6,219.881,1697.981,3168.788);, 57: (size,t,x,y)=(6,219.881,1698.020,3168.938);, 58: (size,t,x,y)=(15,219.882,1903.688,157.997);, 59: (size,t,x,y)=(2,219.881,1903.925,2162.642);, 60: (size,t,x,y)=(2,219.881,1904.145,2162.583);, 61: (size,t,x,y)=(15,219.882,1903.727,158.005);, 62: (size,t,x,y)=(7,219.881,1935.965,2146.725);, 63: (size,t,x,y)=(7,219.881,1936.050,2146.705);, 64: (size,t,x,y)=(13,219.882,1951.971,173.740);, 65: (size,t,x,y)=(13,219.882,1952.036,173.751);, 66: (size,t,x,y)=(10,219.882,2015.985,189.935);, 67: (size,t,x,y)=(10,219.882,2016.021,189.939);, 68: (size,t,x,y)=(4,219.881,2095.992,205.843);, 69: (size,t,x,y)=(4,219.881,2096.013,205.845);, 70: (size,t,x,y)=(1,219.881,2207.913,221.990);, 71: (size,t,x,y)=(1,219.881,2208.100,222.002);, 72: (size,t,x,y)=(15,219.882,2237.264,1357.890);, 73: (size,t,x,y)=(112,219.892,2230.056,1393.997);, 74: (size,t,x,y)=(144,219.893,2230.117,1376.099);, 75: (size,t,x,y)=(114,219.892,2233.666,1364.983);, 76: (size,t,x,y)=(114,219.892,2233.643,1365.031);, 77: (size,t,x,y)=(144,219.893,2230.158,1375.838);, 78: (size,t,x,y)=(3,219.881,2272.038,1082.253);, 79: (size,t,x,y)=(15,219.882,2287.711,1438.005);, 80: (size,t,x,y)=(15,219.882,2288.043,1438.040);, 81: (size,t,x,y)=(9,219.882,2305.180,1054.021);, 82: (size,t,x,y)=(9,219.882,2305.231,1053.990);, 83: (size,t,x,y)=(40,219.885,2312.937,1050.003);, 84: (size,t,x,y)=(5,219.881,2317.646,1048.019);, 85: (size,t,x,y)=(5,219.881,2317.865,1047.934);, 86: (size,t,x,y)=(14,219.882,2319.950,1437.075);, 87: (size,t,x,y)=(14,219.882,2320.043,1437.060);, 88: (size,t,x,y)=(10,219.882,2335.998,1042.885);, 89: (size,t,x,y)=(10,219.882,2336.002,1042.885);, 90: (size,t,x,y)=(8,219.881,2347.960,1042.207);, 91: (size,t,x,y)=(8,219.881,2348.048,1042.208);, 92: (size,t,x,y)=(40,219.885,2313.171,1049.899);, 93: (size,t,x,y)=(113,219.892,2287.973,1066.627);, 94: (size,t,x,y)=(103,219.891,2333.967,2906.048);, 95: (size,t,x,y)=(103,219.891,2334.038,2906.014);, 96: (size,t,x,y)=(144,219.893,2357.973,2829.886);, 97: (size,t,x,y)=(144,219.893,2358.260,2830.512);, 98: (size,t,x,y)=(144,219.893,2348.146,2896.295);, 99: (size,t,x,y)=(144,219.893,2348.767,2895.739);, 100: (size,t,x,y)=(73,219.888,2367.936,2627.618);, 101: (size,t,x,y)=(144,219.893,2359.776,2689.820);, 102: (size,t,x,y)=(144,219.893,2351.690,2613.524);, 103: (size,t,x,y)=(144,219.893,2360.349,2688.861);, 104: (size,t,x,y)=(144,219.893,2352.323,2613.877);, 105: (size,t,x,y)=(144,219.893,2361.288,2687.200);, 106: (size,t,x,y)=(21,219.883,2379.687,1071.988);, 107: (size,t,x,y)=(21,219.883,2379.693,1072.007);, 108: (size,t,x,y)=(7,219.881,2397.345,1135.934);, 109: (size,t,x,y)=(7,219.881,2397.367,1136.088);, 110: (size,t,x,y)=(10,219.882,2480.010,205.769);, 111: (size,t,x,y)=(3,219.881,2480.879,2097.986);, 112: (size,t,x,y)=(10,219.882,2479.987,205.772);, 113: (size,t,x,y)=(3,219.881,2481.025,2098.008);, 114: (size,t,x,y)=(6,219.881,2543.911,2114.661);, 115: (size,t,x,y)=(6,219.881,2544.060,2114.687);, 116: (size,t,x,y)=(11,219.882,2623.953,2146.330);, 117: (size,t,x,y)=(11,219.882,2624.038,2146.350);, 118: (size,t,x,y)=(11,219.882,2749.989,3184.651);, 119: (size,t,x,y)=(6,219.881,2749.990,2302.887);, 120: (size,t,x,y)=(6,219.881,2750.018,2303.012);, 121: (size,t,x,y)=(11,219.882,2750.018,3184.525);, 122: (size,t,x,y)=(10,219.882,2765.640,3136.049);, 123: (size,t,x,y)=(14,219.882,2765.917,2351.986);, 124: (size,t,x,y)=(10,219.882,2765.657,3135.935);, 125: (size,t,x,y)=(14,219.882,2765.922,2352.017);, 126: (size,t,x,y)=(1,219.881,2781.481,2415.946);, 127: (size,t,x,y)=(1,219.881,2781.498,2416.093);, 128: (size,t,x,y)=(107,219.893,2314.684,1049.236);, 129: (size,t,x,y)=(69,219.891,2316.992,1048.269);, 130: (size,t,x,y)=(2,219.891,1682.906,2480.038);, 131: (size,t,x,y)=(2,219.891,1683.009,2479.597);, 132: (size,t,x,y)=(2,219.891,2015.582,2115.014);, 133: (size,t,x,y)=(2,219.891,2016.068,2114.905);, 134: (size,t,x,y)=(11,219.892,2230.058,1394.003);, 135: (size,t,x,y)=(5,219.891,2230.506,1374.017);, 136: (size,t,x,y)=(5,219.891,2230.517,1373.970);, 137: (size,t,x,y)=(2,219.891,2230.997,1372.053);, 138: (size,t,x,y)=(2,219.891,2231.027,1371.945);, 139: (size,t,x,y)=(5,219.891,2234.678,1363.038);, 140: (size,t,x,y)=(5,219.891,2234.706,1362.986);, 141: (size,t,x,y)=(6,219.891,2235.804,1361.000);, 142: (size,t,x,y)=(6,219.891,2235.804,1361.000);, 143: (size,t,x,y)=(3,219.891,2236.777,1359.003);, 144: (size,t,x,y)=(3,219.891,2236.781,1358.994);, 145: (size,t,x,y)=(12,219.892,2237.488,1357.016);, 146: (size,t,x,y)=(12,219.892,2237.518,1356.917);, 147: (size,t,x,y)=(43,219.893,2237.886,1355.671);, 148: (size,t,x,y)=(1,219.891,2238.829,1352.068);, 149: (size,t,x,y)=(1,219.891,2238.878,1351.874);, 150: (size,t,x,y)=(43,219.893,2240.291,1346.219);, 151: (size,t,x,y)=(13,219.892,2240.552,1344.999);, 152: (size,t,x,y)=(13,219.892,2240.551,1345.005);, 153: (size,t,x,y)=(3,219.891,2240.609,1325.968);, 154: (size,t,x,y)=(3,219.891,2240.617,1326.033);, 155: (size,t,x,y)=(43,219.893,2240.774,1327.537);, 156: (size,t,x,y)=(9,219.892,2240.853,1343.000);, 157: (size,t,x,y)=(43,219.893,2240.848,1328.452);, 158: (size,t,x,y)=(9,219.892,2240.853,1342.999);, 159: (size,t,x,y)=(2,219.891,2240.934,1329.972);, 160: (size,t,x,y)=(2,219.891,2240.937,1330.026);, 161: (size,t,x,y)=(43,219.893,2240.983,1341.229);, 162: (size,t,x,y)=(11,219.892,2241.030,1340.055);, 163: (size,t,x,y)=(11,219.892,2241.033,1339.969);, 164: (size,t,x,y)=(7,219.892,2255.993,2903.721);, 165: (size,t,x,y)=(7,219.892,2256.007,2903.729);, 166: (size,t,x,y)=(4,219.891,2271.980,2615.578);, 167: (size,t,x,y)=(4,219.891,2272.019,2615.559);, 168: (size,t,x,y)=(12,219.892,2288.022,1066.587);, 169: (size,t,x,y)=(43,219.893,2303.571,2914.548);, 170: (size,t,x,y)=(5,219.891,2304.027,1054.769);, 171: (size,t,x,y)=(5,219.891,2303.863,1054.866);, 172: (size,t,x,y)=(43,219.893,2304.432,2914.481);, 173: (size,t,x,y)=(3,219.891,2305.989,2914.307);, 174: (size,t,x,y)=(3,219.891,2306.010,2914.304);, 175: (size,t,x,y)=(5,219.891,2317.009,1048.262);, 176: (size,t,x,y)=(43,219.893,2319.389,2911.822);, 177: (size,t,x,y)=(43,219.893,2319.572,2605.087);, 178: (size,t,x,y)=(4,219.891,2319.958,1437.132);, 179: (size,t,x,y)=(43,219.893,2320.434,2605.126);, 180: (size,t,x,y)=(43,219.893,2320.589,2911.478);, 181: (size,t,x,y)=(4,219.891,2320.135,1437.101);, 182: (size,t,x,y)=(4,219.891,2321.992,2911.021);, 183: (size,t,x,y)=(2,219.891,2321.965,2605.242);, 184: (size,t,x,y)=(2,219.891,2322.034,2605.249);, 185: (size,t,x,y)=(4,219.891,2322.006,2911.017);, 186: (size,t,x,y)=(43,219.893,2335.318,2607.223);, 187: (size,t,x,y)=(43,219.893,2335.607,2905.207);, 188: (size,t,x,y)=(1,219.891,2335.990,1042.857);, 189: (size,t,x,y)=(1,219.891,2336.006,1042.855);, 190: (size,t,x,y)=(43,219.893,2336.403,2904.763);, 191: (size,t,x,y)=(43,219.893,2336.810,2607.597);, 192: (size,t,x,y)=(43,219.893,2337.708,2607.856);, 193: (size,t,x,y)=(3,219.891,2337.973,2903.819);, 194: (size,t,x,y)=(3,219.891,2338.022,2903.788);, 195: (size,t,x,y)=(43,219.893,2338.156,2607.991);, 196: (size,t,x,y)=(10,219.892,2349.989,2894.583);, 197: (size,t,x,y)=(6,219.891,2350.000,1042.242);, 198: (size,t,x,y)=(6,219.891,2350.001,1042.243);, 199: (size,t,x,y)=(10,219.892,2350.576,2893.995);, 200: (size,t,x,y)=(43,219.893,2351.209,1042.407);, 201: (size,t,x,y)=(43,219.893,2351.677,2892.823);, 202: (size,t,x,y)=(43,219.893,2352.374,2892.034);, 203: (size,t,x,y)=(13,219.892,2352.980,1042.858);, 204: (size,t,x,y)=(13,219.892,2353.034,1042.877);, 205: (size,t,x,y)=(43,219.893,2354.453,1043.449);, 206: (size,t,x,y)=(43,219.893,2358.509,2831.064);, 207: (size,t,x,y)=(43,219.893,2359.265,2832.911);, 208: (size,t,x,y)=(10,219.892,2359.487,2882.002);, 209: (size,t,x,y)=(43,219.893,2359.618,2833.867);, 210: (size,t,x,y)=(10,219.892,2359.490,2881.997);, 211: (size,t,x,y)=(43,219.893,2359.675,2834.023);, 212: (size,t,x,y)=(43,219.893,2360.182,2880.720);, 213: (size,t,x,y)=(43,219.893,2360.855,2879.311);, 214: (size,t,x,y)=(9,219.892,2361.393,2878.015);, 215: (size,t,x,y)=(9,219.892,2361.402,2877.990);, 216: (size,t,x,y)=(8,219.892,2361.918,2686.019);, 217: (size,t,x,y)=(8,219.892,2361.933,2685.991);, 218: (size,t,x,y)=(6,219.891,2363.174,2621.992);, 219: (size,t,x,y)=(43,219.893,2363.480,2845.911);, 220: (size,t,x,y)=(6,219.891,2363.206,2622.022);, 221: (size,t,x,y)=(43,219.893,2363.580,2846.287);, 222: (size,t,x,y)=(43,219.893,2363.793,2847.117);, 223: (size,t,x,y)=(43,219.893,2364.154,2848.875);, 224: (size,t,x,y)=(43,219.893,2364.303,2849.846);, 225: (size,t,x,y)=(43,219.893,2364.331,2850.039);, 226: (size,t,x,y)=(43,219.893,2364.453,2623.246);, 227: (size,t,x,y)=(43,219.893,2364.737,2866.119);, 228: (size,t,x,y)=(43,219.893,2364.834,2865.527);, 229: (size,t,x,y)=(43,219.893,2364.925,2864.923);, 230: (size,t,x,y)=(43,219.893,2365.088,2863.089);, 231: (size,t,x,y)=(43,219.893,2365.109,2862.319);, 232: (size,t,x,y)=(43,219.893,2365.116,2861.929);, 233: (size,t,x,y)=(14,219.892,2366.021,2624.992);, 234: (size,t,x,y)=(14,219.892,2366.081,2625.069);, 235: (size,t,x,y)=(43,219.893,2366.949,2626.195);, 236: (size,t,x,y)=(43,219.893,2367.860,2627.507);, 237: (size,t,x,y)=(43,219.893,2368.186,2628.004);, 238: (size,t,x,y)=(43,219.893,2368.842,2672.781);, 239: (size,t,x,y)=(43,219.893,2369.557,2671.172);, 240: (size,t,x,y)=(15,219.892,2370.017,2669.994);, 241: (size,t,x,y)=(15,219.892,2370.010,2670.011);, 242: (size,t,x,y)=(43,219.893,2373.080,2637.780);, 243: (size,t,x,y)=(43,219.893,2373.453,2638.890);, 244: (size,t,x,y)=(43,219.893,2373.493,2639.016);, 245: (size,t,x,y)=(43,219.893,2373.709,2658.325);, 246: (size,t,x,y)=(15,219.892,2374.029,2656.992);, 247: (size,t,x,y)=(43,219.893,2373.958,2640.977);, 248: (size,t,x,y)=(43,219.893,2373.987,2641.167);, 249: (size,t,x,y)=(15,219.892,2374.018,2657.041);, 250: (size,t,x,y)=(43,219.893,2374.133,2642.189);, 251: (size,t,x,y)=(15,219.892,2374.348,2655.011);, 252: (size,t,x,y)=(15,219.892,2374.354,2654.945);, 253: (size,t,x,y)=(43,219.893,2374.453,2653.686);, 254: (size,t,x,y)=(5,219.891,2378.992,1069.885);, 255: (size,t,x,y)=(5,219.891,2379.044,1070.020);, 256: (size,t,x,y)=(2,219.891,2398.920,1360.131);, 257: (size,t,x,y)=(2,219.891,2399.005,1359.627);, 258: (size,t,x,y)=(1,219.891,2545.852,2114.992);, 259: (size,t,x,y)=(1,219.891,2546.045,2115.038);, 260: (size,t,x,y)=(1,219.891,2765.000,2704.443);, 261: (size,t,x,y)=(1,219.891,2765.009,2704.399);, 262: (size,t,x,y)=(2,219.891,2780.971,2640.051);, 263: (size,t,x,y)=(2,219.891,2781.000,2639.855);}\n"
     ]
    }
   ],
   "source": [
    "#for each pid_pair\n",
    "for q in sorted_indices_pid_pair_lst:\n",
    "    pid_pair=pid_pair_lst[q]\n",
    "    boo=check_atol(pdict,pid_pair,atol,index=-1,ds=ds)\n",
    "    #while atol is not reached:\n",
    "    while not boo:\n",
    "        kwargs={'one_step':one_step,\n",
    "               'comp_dict_topo_full_color':comp_dict_topo_full_color,\n",
    "               'V_threshold':V_threshold,\n",
    "               'pid_pair':pid_pair}\n",
    "        #find stopping point, integrating up to the death of the first particle\n",
    "        txt_prev,t_prev,min_sigma_max=find_stopping_point(dt,pdict,txt_prev,t_prev,save_every_n_frames=100,**kwargs)\n",
    "#                                                           V_threshold=V_threshold,pid_pair=pid_pair)\n",
    "        txt_prev,t_prev,min_sigma_max=find_stopping_point(dt,pdict,txt_prev,t_prev,save_every_n_frames=10,**kwargs)\n",
    "#                                                           V_threshold=V_threshold,pid_pair=pid_pair)\n",
    "        txt_prev,t_prev,min_sigma_max=find_stopping_point(dt,pdict,txt_prev,t_prev,save_every_n_frames=1,**kwargs)\n",
    "#                                                           V_threshold=V_threshold,pid_pair=pid_pair)\n",
    "        t_death_lst[q]=t_prev+dt\n",
    "        boo=check_atol(pdict,pid_pair,atol,index=-1,ds=ds)\n",
    "        if not boo:\n",
    "            #reset to txt_prev. zoom system.\n",
    "            dt=tfactor*dt\n",
    "            txt_prev,pdict=zoom_system(txt_prev,pdict)\n",
    "            width,height=txt_prev.shape[:2]\n",
    "            print(f'zoomed to dsdpixel={ds/width} cm/pxl for pid_pair, {pid_pair}...')\n",
    "            #jit compile the one_step_kernel and measure_subkernel\n",
    "            one_step,comp_distance,comp_dict_topo_full_color=init_methods(width,height,ds,dt,jump_threshold=40,**kwargs)\n",
    "#             __, __, one_step = get_one_step_explicit_synchronous_splitting(nb_dir,\n",
    "#                                                                            dt=dt,width=width,height=height,\n",
    "#                                                                            ds=ds,diffCoef=0.0005,Cm=1.0)\n",
    "#             comp_dict_topo_full_color=get_comp_dict_topo_full_color(width=width,height=height,level1=V_threshold,level2=0)\n",
    "            \n",
    "beep(10)\n",
    "print(pdict)\n",
    "#TODO: test ^this\n",
    "#TODO: plot ^this... does it look reasonable?\n",
    "#TODO: put ^this in a function/routine in return_min_distance.py \n",
    "#TODO: make a return_min_distance.sh file that runs ^this python function to a high precision, prints to a text file, and saves some out.csv"
   ]
  },
  {
   "cell_type": "markdown",
   "metadata": {},
   "source": [
    "# TODO: save and visualize the results and then analyze them in a serparate notebook"
   ]
  },
  {
   "cell_type": "code",
   "execution_count": 43,
   "metadata": {
    "ExecuteTime": {
     "end_time": "2021-05-07T18:23:27.344883Z",
     "start_time": "2021-05-07T18:23:27.288478Z"
    }
   },
   "outputs": [],
   "source": [
    "# import json\n",
    "# import numpy as np\n",
    "\n",
    "# class NpEncoder(json.JSONEncoder):\n",
    "#     def default(self, obj):\n",
    "#         if isinstance(obj, np.integer):\n",
    "#             return int(obj)\n",
    "#         elif isinstance(obj, np.floating):\n",
    "#             return float(obj)\n",
    "#         elif isinstance(obj, np.ndarray):\n",
    "#             return obj.tolist()\n",
    "#         else:\n",
    "#             return super(NpEncoder, self).default(obj)"
   ]
  },
  {
   "cell_type": "code",
   "execution_count": 57,
   "metadata": {
    "ExecuteTime": {
     "end_time": "2021-05-07T18:30:41.925920Z",
     "start_time": "2021-05-07T18:30:33.810971Z"
    }
   },
   "outputs": [],
   "source": [
    "# def save_dict_to_json(dict_in,save_fn):\n",
    "#     #save all output values as json\n",
    "#     os.system('touch '+save_fn)\n",
    "#     with open(save_fn,\"w\") as fp:\n",
    "#         json.dump(dict(dict_in),fp,cls=NpEncoder,indent=1,sort_keys=True)"
   ]
  },
  {
   "cell_type": "code",
   "execution_count": 91,
   "metadata": {
    "ExecuteTime": {
     "end_time": "2021-05-07T19:13:40.229657Z",
     "start_time": "2021-05-07T19:13:40.181050Z"
    }
   },
   "outputs": [
    {
     "data": {
      "text/plain": [
       "0"
      ]
     },
     "execution_count": 91,
     "metadata": {},
     "output_type": "execute_result"
    }
   ],
   "source": [
    "#save all output values as json\n",
    "save_fn=f\"{nb_dir}/Data/test_data/recursive_death_test_full.json\"\n",
    "save_dict_to_json(pdict,save_fn)"
   ]
  },
  {
   "cell_type": "code",
   "execution_count": 101,
   "metadata": {
    "ExecuteTime": {
     "end_time": "2021-05-07T19:24:57.216216Z",
     "start_time": "2021-05-07T19:24:57.164643Z"
    }
   },
   "outputs": [],
   "source": [
    "# def separate_data_to_dicts(particle):\n",
    "#     '''separates contour data from particle data for one particle.\n",
    "#     does not change particle.\n",
    "#     Example Usage:\n",
    "#     dict_particle_out,dict_greater,dict_lesser=separate_data_to_dicts(particle)\n",
    "#     '''\n",
    "#     pid=particle.pid\n",
    "#     dict_particle=dict(particle)\n",
    "#     #remove any numpy array objects _values \n",
    "#     keys=set(particle.keys())\n",
    "#     keys_lesser_contour_only={\n",
    "#         'lesser_curvature_values',\n",
    "#         'lesser_V_values',\n",
    "#         'lesser_xy_values',\n",
    "#         'lesser_arclen_values'\n",
    "#     }\n",
    "#     keys_greater_contour_only={\n",
    "#         'greater_curvature_values',\n",
    "#         'greater_V_values',\n",
    "#         'greater_xy_values',\n",
    "#         'greater_arclen_values'\n",
    "#     }\n",
    "#     keys_lesser_common={\n",
    "#         't','pid','lesser_pid'\n",
    "#     }\n",
    "#     keys_greater_common={\n",
    "#         't','pid','greater_pid'\n",
    "#     }\n",
    "#     keys_particle=keys.difference(keys_lesser_contour_only).difference(keys_greater_contour_only)\n",
    "#     dict_lesser={}\n",
    "#     try:\n",
    "#         for key in sorted(keys_lesser_contour_only):\n",
    "#             value=dict_particle.pop(key)\n",
    "#             dict_lesser[key]=value\n",
    "#         for key in sorted(keys_lesser_common):\n",
    "#             dict_lesser[key]=dict_particle[key]\n",
    "#         dict_greater={}\n",
    "#         for key in sorted(keys_greater_contour_only):\n",
    "#             value=dict_particle.pop(key)\n",
    "#             dict_greater[key]=value\n",
    "#         for key in sorted(keys_greater_common):\n",
    "#             dict_greater[key]=dict_particle[key]\n",
    "#     except KeyError as e:\n",
    "#         dict_lesser=None\n",
    "#         dict_greater=None\n",
    "        \n",
    "#     #TODO(later): update the __init__ method of the ParticlePBCSet class so it inlcudes all keys in dict_topo\n",
    "#     #handle values with a missing first entry\n",
    "#     key_lst_missing_first_entry=['s1','s2','pid','greater_mean_V','lesser_mean_V','greater_mean_curvature','lesser_mean_curvature']\n",
    "#     minlen=9e9\n",
    "#     for key in dict_particle.keys():\n",
    "#         l=len(dict_particle[key])\n",
    "#         if l<minlen:\n",
    "#             minlen=l\n",
    "#     #     print(f\"{key}:{l}\")\n",
    "#     dict_particle_out={}\n",
    "#     for key in dict_particle.keys():\n",
    "#         v_lst=dict_particle[key]\n",
    "#         l=len(v_lst)\n",
    "#         if l==minlen:\n",
    "#             dict_particle_out[key]=v_lst\n",
    "#         elif l==minlen+1:\n",
    "#             dict_particle_out[key]=v_lst[1:]\n",
    "#     return dict_particle_out,dict_greater,dict_lesser"
   ]
  },
  {
   "cell_type": "code",
   "execution_count": 102,
   "metadata": {
    "ExecuteTime": {
     "end_time": "2021-05-07T19:25:02.817105Z",
     "start_time": "2021-05-07T19:25:02.776427Z"
    }
   },
   "outputs": [],
   "source": [
    "# def separate_data_to_pandas(pdict):\n",
    "#     '''Example Usage:\n",
    "#     df, dict_greater_dict, dict_lesser_dict=separate_data_to_pandas(pdict)\n",
    "#     '''\n",
    "#     df_lst=[]\n",
    "#     dict_greater_dict={}\n",
    "#     dict_lesser_dict={}\n",
    "#     for pid in sorted(pdict.keys()):\n",
    "#         particle=pdict[pid]\n",
    "#         dict_particle_out,dict_greater,dict_lesser=separate_data_to_dicts(particle)\n",
    "#         dict_greater_dict[pid]=dict_greater\n",
    "#         dict_lesser_dict[pid]=dict_lesser\n",
    "#         df_lst.append(pd.DataFrame(dict_particle_out))\n",
    "#     df=pd.concat(df_lst)\n",
    "#     return df, dict_greater_dict, dict_lesser_dict"
   ]
  },
  {
   "cell_type": "code",
   "execution_count": 103,
   "metadata": {
    "ExecuteTime": {
     "end_time": "2021-05-07T19:25:09.375957Z",
     "start_time": "2021-05-07T19:25:08.242119Z"
    }
   },
   "outputs": [],
   "source": [
    "# def to_csv_and_json(pdict,modname):\n",
    "#     '''Example Usage:\n",
    "#     modname=f\"{nb_dir}/Data/test_data/recursive_death_test\"\n",
    "#     to_csv_and_json(pdict,modname)\n",
    "#     '''\n",
    "#     df, dict_greater_dict, dict_lesser_dict=separate_data_to_pandas(pdict)\n",
    "#     #save all particles in one csv\n",
    "#     save_dir=modname+\"_particles_only.csv\"\n",
    "#     df.to_csv(save_dir,index=False)\n",
    "\n",
    "#     #save greater/lesser contours as one json, indexed by pid\n",
    "#     save_fn=modname+f\"_greater_contours.json\"\n",
    "#     # os.system('touch '+save_fn)\n",
    "#     with open(save_fn,\"w\") as fp:\n",
    "#         json.dump(dict_greater_dict,fp,cls=NpEncoder,indent=0,sort_keys=True)\n",
    "\n",
    "#     save_fn=modname+f\"_lesser_contours.json\"\n",
    "#     with open(save_fn,\"w\") as fp:\n",
    "#         json.dump(dict_lesser_dict,fp,cls=NpEncoder,indent=0,sort_keys=True)"
   ]
  },
  {
   "cell_type": "code",
   "execution_count": null,
   "metadata": {},
   "outputs": [],
   "source": [
    "modname=f\"{nb_dir}/Data/test_data/recursive_death_test\"\n",
    "to_csv_and_json(pdict,modname)"
   ]
  },
  {
   "cell_type": "code",
   "execution_count": 120,
   "metadata": {
    "ExecuteTime": {
     "end_time": "2021-05-07T20:22:14.018224Z",
     "start_time": "2021-05-07T20:22:13.819445Z"
    }
   },
   "outputs": [],
   "source": [
    "#DONE: save particle data\n",
    "#DONE: save contour data (keep it simple, stupid)\n",
    "#DONE: visualize arclen versus time till death\n",
    "#TODO: plot greater_V_values (or lesser_V_values) versus greater_arclen_values (or lesser_arclen_values) for a few time points leading up to death\n",
    "darkmode=True\n",
    "if darkmode:\n",
    "\t# For darkmode plots\n",
    "\tfrom jupyterthemes import jtplot\n",
    "\tjtplot.style(theme='monokai', context='notebook', ticks=True, grid=False)\n"
   ]
  },
  {
   "cell_type": "code",
   "execution_count": null,
   "metadata": {
    "ExecuteTime": {
     "end_time": "2021-05-07T20:27:27.538921Z",
     "start_time": "2021-05-07T20:27:20.538Z"
    }
   },
   "outputs": [],
   "source": [
    "#better method: take more data!\n",
    "#TODO: look for more reliable way to identify activation fronts...  \n",
    "# HINT: consider looking at mean gating variables from the comp_dict_topo_full_color\n",
    "#TODO: linearly record data for ^these spiral tips at a high sampling rate (and fine spatial resolution)"
   ]
  },
  {
   "cell_type": "code",
   "execution_count": 161,
   "metadata": {
    "ExecuteTime": {
     "end_time": "2021-05-07T21:01:26.083896Z",
     "start_time": "2021-05-07T21:01:25.884881Z"
    }
   },
   "outputs": [
    {
     "data": {
      "image/png": "[encoded data removed]",
      "text/plain": [
       "<Figure size 576x504 with 1 Axes>"
      ]
     },
     "metadata": {},
     "output_type": "display_data"
    }
   ],
   "source": [
    "#better method: take more data!\n",
    "# df, dict_greater_dict, dict_lesser_dict=separate_data_to_pandas(pdict)\n",
    "# # df=pd.DataFrame(dict_particle_out)\n",
    "d1=df[(df.pid==0.)&(df.x<2000)]\n",
    "d2=df[(df.pid==1.)&(df.x<2000)]\n",
    "# d=df[(df.pid==0.)]\n",
    "x1_values=d1.t.values[-1]-d1.t.values\n",
    "x2_values=d2.t.values[-1]-d2.t.values\n",
    "\n",
    "# y_values=d.x.values#[1:-1]\n",
    "# y_values=d.lesser_arclen.values#[1:-1]\n",
    "y_values=d.lesser_arclen.values#[1:-1]\n",
    "c_values=d.t.values#[1:-1]\n",
    "plt.plot(x1_values,d1.lesser_arclen.values,lw=2)#,label='arclength of activation front')#,c=c_values)\n",
    "plt.plot(x1_values,d1.greater_arclen.values,lw=2)#,label='arclength of activation front')#,c=c_values)\n",
    "plt.plot(x2_values,d2.lesser_arclen.values,lw=2)\n",
    "plt.plot(x2_values,d2.greater_arclen.values,lw=2)\n",
    "# plt.plot(x_values,sigma_max_values_values,lw=2,label='arclength of activation front')\n",
    "# plt.xlim([0,0.1])\n",
    "plt.ylim([0,0.004])\n",
    "# plt.yscale('log')\n",
    "# plt.xscale('log')\n",
    "plt.show()"
   ]
  },
  {
   "cell_type": "code",
   "execution_count": null,
   "metadata": {},
   "outputs": [],
   "source": [
    "#TODO(later? to verify data that I can just retake more carefully...): show that each particle has one position per time\n",
    "d=df[(df.pid==0.)]#&(df.x<2000)]\n"
   ]
  },
  {
   "cell_type": "code",
   "execution_count": 148,
   "metadata": {
    "ExecuteTime": {
     "end_time": "2021-05-07T20:41:58.962765Z",
     "start_time": "2021-05-07T20:41:58.911246Z"
    }
   },
   "outputs": [
    {
     "data": {
      "text/plain": [
       "array([ 0.    ,  0.    ,  0.    ,  0.    ,  0.    ,  0.    ,  0.    ,\n",
       "        0.    ,  0.    ,  0.    ,  0.    ,  0.    ,  0.    ,  0.0018,\n",
       "        0.0018,  0.0018,  0.0003,  0.0003,  0.0003,  0.0003,  0.0003,\n",
       "        0.0003,  0.0003,  0.0003,  0.0003,  0.0003,  0.0003, -0.0029,\n",
       "       -0.0029, -0.0029,  0.    ,  0.    ,  0.    ,  0.    ,  0.    ,\n",
       "        0.    ,  0.    ,  0.    ,  0.    ,  0.    ,  0.    ,  0.    ,\n",
       "        0.    ,  0.    ,  0.    ,  0.    ,  0.    ,  0.    ,  0.    ,\n",
       "        0.    ,  0.    ,  0.    ,  0.    ,  0.    ,  0.    ,  0.    ,\n",
       "        0.    ,  0.    ,  0.    ,  0.    ,  0.    ,  0.    ,  0.    ,\n",
       "        0.    ,  0.    ,  0.    ,  0.    ,  0.    ,  0.    ,  0.    ,\n",
       "        0.    ,  0.    ,  0.    ,  0.    ,  0.    ,  0.    ,  0.    ,\n",
       "        0.    ,  0.    ,  0.    ,  0.    ,  0.    ,  0.    ,  0.    ,\n",
       "        0.    ,  0.    ,  0.    ,  0.    ,  0.    ,  0.    ,  0.    ,\n",
       "        0.    ,  0.    ,  0.    ,  0.    ,  0.    ,  0.    ,  0.    ,\n",
       "        0.    ,  0.    ,  0.    ,  0.    ,  0.    ,  0.    ,  0.    ,\n",
       "        0.    ,  0.    ,  0.    ,  0.    ,  0.    ,  0.    ,  0.    ,\n",
       "        0.    ,  0.    ,  0.    ,  0.    ,  0.    ,  0.    ,  0.    ,\n",
       "        0.    ,  0.    ,  0.    ,  0.    ,  0.    ,  0.    ,  0.    ,\n",
       "        0.    ,  0.    ,  0.    ,  0.    ,  0.    ,  0.    ,  0.    ,\n",
       "        0.    ,  0.    ,  0.    ,  0.    ,  0.    ,  0.    ,  0.    ,\n",
       "        0.    ,  0.    ,  0.    ,  0.    ,  0.    ,  0.    ,  0.0001,\n",
       "       -0.0001,  0.    ,  0.    ,  0.    ,  0.    ,  0.    ,  0.    ,\n",
       "        0.    ,  0.    ,  0.    ,  0.    ,  0.    ,  0.    ])"
      ]
     },
     "execution_count": 148,
     "metadata": {},
     "output_type": "execute_result"
    }
   ],
   "source": [
    "#TODO(later? to reconstruct max_sigma versus time...): show that each particle has one position per time\n",
    "d=df[(df.pid==0.)]#&(df.x<2000)]\n",
    "xyt_values1=np.array(list(zip(d.x.values,d.y.values,d.t.values)))\n",
    "d=df[(df.pid==1.)]#&(df.x<2000)]\n",
    "xyt_values2=np.array(list(zip(d.x.values,d.y.values,d.t.values)))\n",
    "Dxyt_values=xyt_values2-xyt_values1\n",
    "\n",
    "#select values with equal times only\n",
    "boo=Dxyt_values[:,-1]==0.\n",
    "Dxy_values=Dxyt_values[boo][:,:1]\n",
    "t_values=xyt_values1[boo][:,-1]"
   ]
  },
  {
   "cell_type": "code",
   "execution_count": 155,
   "metadata": {
    "ExecuteTime": {
     "end_time": "2021-05-07T20:46:33.405306Z",
     "start_time": "2021-05-07T20:46:33.349416Z"
    }
   },
   "outputs": [
    {
     "data": {
      "text/plain": [
       "array([ 0.0000e+00,  0.0000e+00,  0.0000e+00,  0.0000e+00,  0.0000e+00,\n",
       "        0.0000e+00,  0.0000e+00, -9.9000e-03,  0.0000e+00,  0.0000e+00,\n",
       "        0.0000e+00,  3.2000e-03, -3.2000e-03,  0.0000e+00,  0.0000e+00,\n",
       "        0.0000e+00,  0.0000e+00,  0.0000e+00,  0.0000e+00,  0.0000e+00,\n",
       "        0.0000e+00,  0.0000e+00,  0.0000e+00,  0.0000e+00,  0.0000e+00,\n",
       "        0.0000e+00,  0.0000e+00,  0.0000e+00,  0.0000e+00,  0.0000e+00,\n",
       "        0.0000e+00,  0.0000e+00,  0.0000e+00,  0.0000e+00,  0.0000e+00,\n",
       "        0.0000e+00,  0.0000e+00,  0.0000e+00,  0.0000e+00,  0.0000e+00,\n",
       "        0.0000e+00,  0.0000e+00,  0.0000e+00,  0.0000e+00,  0.0000e+00,\n",
       "        0.0000e+00,  0.0000e+00,  0.0000e+00,  0.0000e+00,  0.0000e+00,\n",
       "        0.0000e+00,  0.0000e+00,  0.0000e+00,  0.0000e+00,  0.0000e+00,\n",
       "        0.0000e+00,  0.0000e+00,  0.0000e+00,  0.0000e+00,  0.0000e+00,\n",
       "        0.0000e+00,  0.0000e+00,  0.0000e+00,  0.0000e+00,  0.0000e+00,\n",
       "        0.0000e+00,  0.0000e+00,  0.0000e+00,  0.0000e+00,  0.0000e+00,\n",
       "        0.0000e+00,  0.0000e+00,  0.0000e+00,  0.0000e+00,  0.0000e+00,\n",
       "        0.0000e+00,  0.0000e+00,  0.0000e+00,  0.0000e+00,  0.0000e+00,\n",
       "        0.0000e+00,  0.0000e+00,  0.0000e+00,  2.0000e-04, -2.0000e-04,\n",
       "        0.0000e+00,  0.0000e+00,  0.0000e+00,  0.0000e+00,  0.0000e+00,\n",
       "        0.0000e+00,  0.0000e+00,  0.0000e+00,  0.0000e+00,  0.0000e+00,\n",
       "        0.0000e+00,  0.0000e+00,  0.0000e+00, -9.9000e-05,  0.0000e+00,\n",
       "        0.0000e+00,  0.0000e+00,  0.0000e+00,  0.0000e+00,  0.0000e+00,\n",
       "        0.0000e+00,  0.0000e+00,  0.0000e+00,  0.0000e+00,  0.0000e+00,\n",
       "        0.0000e+00,  0.0000e+00,  0.0000e+00,  0.0000e+00,  0.0000e+00,\n",
       "        0.0000e+00,  0.0000e+00,  0.0000e+00,  0.0000e+00,  0.0000e+00,\n",
       "        0.0000e+00,  0.0000e+00,  0.0000e+00,  0.0000e+00, -1.1727e-02,\n",
       "        1.1826e-02,  0.0000e+00,  2.0000e-04, -2.0000e-04,  0.0000e+00,\n",
       "        0.0000e+00,  0.0000e+00,  0.0000e+00,  0.0000e+00,  0.0000e+00,\n",
       "        0.0000e+00,  0.0000e+00,  8.6000e-03, -8.6000e-03])"
      ]
     },
     "execution_count": 155,
     "metadata": {},
     "output_type": "execute_result"
    }
   ],
   "source": [
    "# dt_values=np.around(np.diff(t_values),9)\n",
    "dt_lst=[]\n",
    "#TODO: handle edge cases by just iterating through each time step....\n",
    "for i in range(1,t_values.shape[0]-1):\n",
    "    t_cur=t_values[i]\n",
    "    dt_prv=t_cur-t_values[i-1]\n",
    "    t_nxt=t_values[i+1]\n",
    "    \n",
    "np.diff(dt_values)"
   ]
  },
  {
   "cell_type": "code",
   "execution_count": null,
   "metadata": {},
   "outputs": [],
   "source": [
    "#TODO: linearly track lesser_arclen of these two death events on a dt=0.001 ms timescale fixed. \n",
    "#TODO: test proposition that lesser_arclen always drops shortly annihilating, perhaps on the 0.01~0.02 (ms?) timescale.  \n",
    "# ^This would support the mechanism of annihilation involving the connection of activation fronts/strings with some tension to contract\n",
    "# ^This would support using a model of spiral tip dynamics along an activation front to inform our reaction rate calculations\n",
    "# HINT: consider rate = 1/expected_time_to_death, where the arclength behaves in a predictable way, i.e.\n",
    "# dsigma_max_dt=foo(sigma_max;relative phase?)"
   ]
  },
  {
   "cell_type": "code",
   "execution_count": null,
   "metadata": {},
   "outputs": [],
   "source": []
  },
  {
   "cell_type": "code",
   "execution_count": null,
   "metadata": {},
   "outputs": [],
   "source": []
  },
  {
   "cell_type": "code",
   "execution_count": 119,
   "metadata": {
    "ExecuteTime": {
     "end_time": "2021-05-07T20:20:31.041563Z",
     "start_time": "2021-05-07T20:20:30.995962Z"
    }
   },
   "outputs": [
    {
     "data": {
      "text/plain": [
       "array([14.16732614, 15.26884531, 15.31004769, 15.35159101, 15.39313552,\n",
       "       15.43450346, 15.47579706, 15.51710086,  7.85755483,  0.08648543,\n",
       "        0.08666914,  0.08685307,  0.08703722,  0.08722157,  0.08740614,\n",
       "        0.08759091,  0.0877759 ,  0.04090867,  0.0409222 ,  0.04093615,\n",
       "        0.04095054,  0.04096537,  0.04098065,  0.04099639,  0.04101259,\n",
       "        0.04102927,  0.04104644,  0.0410641 ,  0.04108226,  0.04110093,\n",
       "        0.04112011,  0.04113983,  0.04116008,  0.04118088,  0.04120223,\n",
       "        0.04122415,  0.04124664,  0.04126971,  0.04129337,  0.04131763,\n",
       "        0.04134249,  0.04136798,  0.04139409,  0.04142083,  0.04144822,\n",
       "        0.04147626,  0.04150497,  0.04153434,  0.0415644 ,  0.04159514,\n",
       "        0.04162658,  0.04165872,  0.04169159,  0.04172526,  0.04176248,\n",
       "        0.04180048,  0.04183927,  0.04187886,  0.04191926,  0.04196047,\n",
       "        0.04200252,  0.04204539,  0.04208912,  0.04213369,  0.04217913,\n",
       "        0.04222544,  0.04227262,  0.0423207 ,  0.04236966,  0.04241953,\n",
       "        0.04247032,  0.04252202,  0.04257465,  0.04262821,  0.04268271,\n",
       "        0.0427382 ,  0.04279476,  0.04285231,  0.04291084,  0.04297038,\n",
       "        0.04303091,  0.04309245,  0.043155  ,  0.04321858,  0.04328319,\n",
       "        0.04334884,  0.04341552,  0.04348326,  0.04355204,  0.04362189,\n",
       "        0.0436928 ,  0.04376478,  0.04383783,  0.04391196,  0.04398717,\n",
       "        0.04406347,  0.04414086,  0.04421935,  0.04429893,  0.04437962,\n",
       "        0.04446141,  0.04454431,  0.04462831,  0.04471344,  0.04479967,\n",
       "        0.04488703,  0.0449755 ,  0.04506509,  0.04515581,  0.04524764,\n",
       "        0.04534061,  0.04543469,  0.0455299 ,  0.04562624,  0.04572371,\n",
       "        0.04582229,  0.04592201,  0.04602284,  0.02072411,  0.02076075,\n",
       "        0.02080043,  0.02084328,  0.02088942,  0.02093897,  0.02099203,\n",
       "        0.02104984,  0.02111139,  0.02117674,  0.02124593,  0.02131898,\n",
       "        0.02139589,  0.02147665,  0.02156121,  0.02164952,  0.02174147,\n",
       "        0.02174241,  0.02174335,  0.02174429,  0.02174523,  0.02174617,\n",
       "        0.02174711,  0.02174805,  0.02174899,  0.02174993,  0.02175087,\n",
       "        0.02175181,  0.02175275,  0.02175369,  0.02175463,  0.02175558,\n",
       "        0.02175652,  0.02175746,  0.02175841,  0.02175935,  0.0217603 ,\n",
       "        0.02176124,  0.02176219,  0.02176313,  0.02176408,  0.02176502,\n",
       "        0.02176597])"
      ]
     },
     "execution_count": 119,
     "metadata": {},
     "output_type": "execute_result"
    }
   ],
   "source": [
    "sigma_max_values1=np.array(pdict[0]['greater_arclen'])\n",
    "np.array(pdict[1]['greater_arclen'])\n",
    "sigma_max_values"
   ]
  },
  {
   "cell_type": "code",
   "execution_count": null,
   "metadata": {
    "ExecuteTime": {
     "start_time": "2021-05-07T20:06:21.523Z"
    }
   },
   "outputs": [],
   "source": [
    "#(not tested) #TODO: cast pdict into df\n",
    "# # def to_pandas(self):\n",
    "# primitive = (int, str, bool)\n",
    "# def is_primitive(thing):\n",
    "#     return isinstance(thing, primitive)\n",
    "\n",
    "#         ds=dict(self)\n",
    "#         dself={}\n",
    "#         #if values are a list of primitives,\n",
    "#         for key in list(ds.keys()):\n",
    "#             values=ds[key]\n",
    "#             if (type(values) is type(list())):#&(is_primitive(values[0])):\n",
    "#                 dself[key]=values\n",
    "#         df=pd.DataFrame(dself)\n",
    "#         df['pid']=self.pid\n",
    "#         cols = df.columns.tolist()\n",
    "#         cols = cols[-1:] + cols[:-1]\n",
    "#         return df[cols]\n",
    "# #TODO: aggregating small particles might be necessary..."
   ]
  },
  {
   "cell_type": "code",
   "execution_count": null,
   "metadata": {
    "ExecuteTime": {
     "start_time": "2021-05-07T20:06:26.104Z"
    }
   },
   "outputs": [],
   "source": [
    "# #access to full particle1 data\n",
    "# ds=dict(pdict[0])\n",
    "# ds.keys()"
   ]
  },
  {
   "cell_type": "code",
   "execution_count": 110,
   "metadata": {
    "ExecuteTime": {
     "end_time": "2021-05-07T20:00:05.812336Z",
     "start_time": "2021-05-07T20:00:05.750255Z"
    }
   },
   "outputs": [
    {
     "data": {
      "text/html": [
       "<div>\n",
       "<style scoped>\n",
       "    .dataframe tbody tr th:only-of-type {\n",
       "        vertical-align: middle;\n",
       "    }\n",
       "\n",
       "    .dataframe tbody tr th {\n",
       "        vertical-align: top;\n",
       "    }\n",
       "\n",
       "    .dataframe thead th {\n",
       "        text-align: right;\n",
       "    }\n",
       "</style>\n",
       "<table border=\"1\" class=\"dataframe\">\n",
       "  <thead>\n",
       "    <tr style=\"text-align: right;\">\n",
       "      <th></th>\n",
       "      <th>x</th>\n",
       "      <th>y</th>\n",
       "      <th>t</th>\n",
       "      <th>lesser_pid</th>\n",
       "      <th>lesser_arclen</th>\n",
       "      <th>greater_pid</th>\n",
       "      <th>greater_arclen</th>\n",
       "      <th>s1</th>\n",
       "      <th>s2</th>\n",
       "      <th>pid</th>\n",
       "      <th>greater_mean_V</th>\n",
       "      <th>lesser_mean_V</th>\n",
       "      <th>greater_mean_curvature</th>\n",
       "      <th>lesser_mean_curvature</th>\n",
       "    </tr>\n",
       "  </thead>\n",
       "  <tbody>\n",
       "    <tr>\n",
       "      <th>0</th>\n",
       "      <td>2241.016086</td>\n",
       "      <td>1343.752410</td>\n",
       "      <td>219.80</td>\n",
       "      <td>1</td>\n",
       "      <td>8.663331</td>\n",
       "      <td>3</td>\n",
       "      <td>15.268845</td>\n",
       "      <td>1.0</td>\n",
       "      <td>6.0</td>\n",
       "      <td>0.0</td>\n",
       "      <td>-84.013949</td>\n",
       "      <td>-83.998421</td>\n",
       "      <td>126.702620</td>\n",
       "      <td>3.671369</td>\n",
       "    </tr>\n",
       "    <tr>\n",
       "      <th>1</th>\n",
       "      <td>2241.013688</td>\n",
       "      <td>1343.627449</td>\n",
       "      <td>219.81</td>\n",
       "      <td>1</td>\n",
       "      <td>8.663285</td>\n",
       "      <td>3</td>\n",
       "      <td>15.310048</td>\n",
       "      <td>1.0</td>\n",
       "      <td>7.0</td>\n",
       "      <td>0.0</td>\n",
       "      <td>-84.016495</td>\n",
       "      <td>-84.001034</td>\n",
       "      <td>58.778823</td>\n",
       "      <td>3.659323</td>\n",
       "    </tr>\n",
       "    <tr>\n",
       "      <th>2</th>\n",
       "      <td>2241.011456</td>\n",
       "      <td>1343.498613</td>\n",
       "      <td>219.82</td>\n",
       "      <td>1</td>\n",
       "      <td>8.663196</td>\n",
       "      <td>3</td>\n",
       "      <td>15.351591</td>\n",
       "      <td>1.0</td>\n",
       "      <td>7.0</td>\n",
       "      <td>0.0</td>\n",
       "      <td>-84.016429</td>\n",
       "      <td>-84.001061</td>\n",
       "      <td>34.652304</td>\n",
       "      <td>3.648136</td>\n",
       "    </tr>\n",
       "    <tr>\n",
       "      <th>3</th>\n",
       "      <td>2241.009402</td>\n",
       "      <td>1343.366156</td>\n",
       "      <td>219.83</td>\n",
       "      <td>1</td>\n",
       "      <td>8.663072</td>\n",
       "      <td>3</td>\n",
       "      <td>15.393136</td>\n",
       "      <td>1.0</td>\n",
       "      <td>8.0</td>\n",
       "      <td>0.0</td>\n",
       "      <td>-84.016444</td>\n",
       "      <td>-84.001088</td>\n",
       "      <td>23.460462</td>\n",
       "      <td>3.637790</td>\n",
       "    </tr>\n",
       "    <tr>\n",
       "      <th>4</th>\n",
       "      <td>2241.007540</td>\n",
       "      <td>1343.230084</td>\n",
       "      <td>219.84</td>\n",
       "      <td>1</td>\n",
       "      <td>8.662916</td>\n",
       "      <td>3</td>\n",
       "      <td>15.434503</td>\n",
       "      <td>1.0</td>\n",
       "      <td>4.0</td>\n",
       "      <td>0.0</td>\n",
       "      <td>-84.016459</td>\n",
       "      <td>-84.001114</td>\n",
       "      <td>17.622397</td>\n",
       "      <td>3.628266</td>\n",
       "    </tr>\n",
       "  </tbody>\n",
       "</table>\n",
       "</div>"
      ],
      "text/plain": [
       "             x            y       t  lesser_pid  lesser_arclen  greater_pid  \\\n",
       "0  2241.016086  1343.752410  219.80           1       8.663331            3   \n",
       "1  2241.013688  1343.627449  219.81           1       8.663285            3   \n",
       "2  2241.011456  1343.498613  219.82           1       8.663196            3   \n",
       "3  2241.009402  1343.366156  219.83           1       8.663072            3   \n",
       "4  2241.007540  1343.230084  219.84           1       8.662916            3   \n",
       "\n",
       "   greater_arclen   s1   s2  pid  greater_mean_V  lesser_mean_V  \\\n",
       "0       15.268845  1.0  6.0  0.0      -84.013949     -83.998421   \n",
       "1       15.310048  1.0  7.0  0.0      -84.016495     -84.001034   \n",
       "2       15.351591  1.0  7.0  0.0      -84.016429     -84.001061   \n",
       "3       15.393136  1.0  8.0  0.0      -84.016444     -84.001088   \n",
       "4       15.434503  1.0  4.0  0.0      -84.016459     -84.001114   \n",
       "\n",
       "   greater_mean_curvature  lesser_mean_curvature  \n",
       "0              126.702620               3.671369  \n",
       "1               58.778823               3.659323  \n",
       "2               34.652304               3.648136  \n",
       "3               23.460462               3.637790  \n",
       "4               17.622397               3.628266  "
      ]
     },
     "execution_count": 110,
     "metadata": {},
     "output_type": "execute_result"
    }
   ],
   "source": [
    "df.head()"
   ]
  },
  {
   "cell_type": "code",
   "execution_count": null,
   "metadata": {
    "ExecuteTime": {
     "end_time": "2021-05-07T21:02:20.556091Z",
     "start_time": "2021-05-07T21:02:17.807Z"
    }
   },
   "outputs": [],
   "source": [
    "#DONT: reconstruct the cartesian distance between particles versus time\n",
    "#TODO: isolate x,y,t for particle 0,1 as xyt_values0,1\n",
    "#TODO: compute distance in pixels versus time as dist_values (np.linalg.norm... these tips are in the bulk...)\n",
    "#TODO: group by dt, where dt=edge_cases_foo(diff(t))\n",
    "#TODO: for each group, DS is given by dict, dt_to_L.\n",
    "#TODO: visualize the cartesian distance between particles versus time\n",
    "\n"
   ]
  },
  {
   "cell_type": "code",
   "execution_count": null,
   "metadata": {},
   "outputs": [],
   "source": [
    "#TODO: visualize the lesser_arclen distance between particles versus time\n",
    "p1=df[df.pid==0.]\n",
    "p2=df[df.pid==1.]\n"
   ]
  },
  {
   "cell_type": "code",
   "execution_count": 125,
   "metadata": {
    "ExecuteTime": {
     "end_time": "2021-05-06T19:34:42.696565Z",
     "start_time": "2021-05-06T19:34:42.651412Z"
    }
   },
   "outputs": [],
   "source": [
    "# #DONE: confirmed the mean location is roughly the same \n",
    "# #compute minimum distance of all pid found\n",
    "# item_lst=[]\n",
    "# for i in range(n_tips):\n",
    "#     for j in range(n_tips):\n",
    "#         if i > j:\n",
    "#             #the ith tip location\n",
    "#             point1=xy_values[i]\n",
    "#             #the jth tip location\n",
    "#             point2=xy_values[j]\n",
    "#             #their distance, in cm\n",
    "#             dist=comp_distance(point1,point2)\n",
    "#             #add to list of distances\n",
    "#             item=(dist,i,j)\n",
    "#             item_lst.append(item)\n",
    "# item_lst=sorted(item_lst)\n",
    "# item_lst"
   ]
  },
  {
   "cell_type": "code",
   "execution_count": 35,
   "metadata": {
    "ExecuteTime": {
     "end_time": "2021-05-06T07:00:16.046296Z",
     "start_time": "2021-05-06T07:00:15.981548Z"
    }
   },
   "outputs": [
    {
     "name": "stdout",
     "output_type": "stream",
     "text": [
      "(200, 200, 18)\n"
     ]
    }
   ],
   "source": [
    "#TODO: recursively zoom into the first/given death up to atol.  return pdict upto that point\n",
    "#TODO(later): repeat while there are still pid_pairs to zoom into\n"
   ]
  },
  {
   "cell_type": "code",
   "execution_count": 60,
   "metadata": {
    "ExecuteTime": {
     "end_time": "2021-05-06T07:46:24.976944Z",
     "start_time": "2021-05-06T07:46:24.926492Z"
    }
   },
   "outputs": [],
   "source": [
    "# #TODO: test measure_kernel\n",
    "# retval=find_tips_with_pbc_knots_full_color(contours1, contours2, s1in_lst, s2in_lst, txt)\n",
    "# s1_list, s2_list, x_lst, y_lst, txt_lst=retval\n",
    "# #TODO: call ^this function with contours_to_simple_tips_pbc_full_color"
   ]
  },
  {
   "cell_type": "code",
   "execution_count": null,
   "metadata": {},
   "outputs": [],
   "source": []
  },
  {
   "cell_type": "code",
   "execution_count": 94,
   "metadata": {
    "ExecuteTime": {
     "end_time": "2021-05-06T19:02:17.927321Z",
     "start_time": "2021-05-06T19:02:17.883663Z"
    }
   },
   "outputs": [
    {
     "data": {
      "text/plain": [
       "True"
      ]
     },
     "execution_count": 94,
     "metadata": {},
     "output_type": "execute_result"
    }
   ],
   "source": [
    "# TODO: visualize deaths"
   ]
  },
  {
   "cell_type": "code",
   "execution_count": 126,
   "metadata": {
    "ExecuteTime": {
     "end_time": "2021-05-06T19:35:21.917366Z",
     "start_time": "2021-05-06T19:35:21.874537Z"
    }
   },
   "outputs": [
    {
     "data": {
      "text/plain": [
       "[218.81, 238.8099999999818]"
      ]
     },
     "execution_count": 126,
     "metadata": {},
     "output_type": "execute_result"
    }
   ],
   "source": [
    "txt_prev,t_prev,min_sigma_max=find_stopping_point(dt,pdict,txt_prev,t_prev,save_every_n_frames=1000,V_threshold=V_threshold,pid_pair=pid_pair)\n",
    "    t_death_lst.append(t_prev+dt)\n",
    "    "
   ]
  },
  {
   "cell_type": "code",
   "execution_count": 95,
   "metadata": {
    "ExecuteTime": {
     "end_time": "2021-05-06T19:03:50.857729Z",
     "start_time": "2021-05-06T19:03:50.758819Z"
    }
   },
   "outputs": [
    {
     "ename": "TypeError",
     "evalue": "init_system() missing 3 required positional arguments: 'txt_in', 'ds', and 'dt'",
     "output_type": "error",
     "traceback": [
      "\u001b[0;31m---------------------------------------------------------------------------\u001b[0m",
      "\u001b[0;31mTypeError\u001b[0m                                 Traceback (most recent call last)",
      "\u001b[0;32m<ipython-input-95-dff5a38d603f>\u001b[0m in \u001b[0;36m<module>\u001b[0;34m\u001b[0m\n\u001b[1;32m      1\u001b[0m \u001b[0mtxt_in\u001b[0m\u001b[0;34m=\u001b[0m\u001b[0mload_buffer\u001b[0m\u001b[0;34m(\u001b[0m\u001b[0mtxt_fn\u001b[0m\u001b[0;34m)\u001b[0m\u001b[0;34m\u001b[0m\u001b[0;34m\u001b[0m\u001b[0m\n\u001b[1;32m      2\u001b[0m \u001b[0;34m\u001b[0m\u001b[0m\n\u001b[0;32m----> 3\u001b[0;31m retval_lst=recursive_zoom_to_death(pid_pair_lst,txt_in,dt,V_threshold=-50.,atol=1e-2,\n\u001b[0m\u001b[1;32m      4\u001b[0m                             one_steps_per_frame=100,ds=5.)\n",
      "\u001b[0;32m<ipython-input-83-24a0fb47b049>\u001b[0m in \u001b[0;36mrecursive_zoom_to_death\u001b[0;34m(pid_pair_lst, txt_in, dt, V_threshold, atol, one_steps_per_frame, ds, **kwargs)\u001b[0m\n\u001b[1;32m      5\u001b[0m     \u001b[0mretval_lst\u001b[0m\u001b[0;34m=\u001b[0m\u001b[0;34m[\u001b[0m\u001b[0;34m]\u001b[0m\u001b[0;34m\u001b[0m\u001b[0;34m\u001b[0m\u001b[0m\n\u001b[1;32m      6\u001b[0m     \u001b[0;32mfor\u001b[0m \u001b[0mpid_pair\u001b[0m \u001b[0;32min\u001b[0m \u001b[0mpid_pair_lst\u001b[0m\u001b[0;34m:\u001b[0m\u001b[0;34m\u001b[0m\u001b[0;34m\u001b[0m\u001b[0m\n\u001b[0;32m----> 7\u001b[0;31m         \u001b[0mretval\u001b[0m\u001b[0;34m=\u001b[0m\u001b[0minit_system\u001b[0m\u001b[0;34m(\u001b[0m\u001b[0;34m**\u001b[0m\u001b[0mkwargs\u001b[0m\u001b[0;34m)\u001b[0m\u001b[0;34m\u001b[0m\u001b[0;34m\u001b[0m\u001b[0m\n\u001b[0m\u001b[1;32m      8\u001b[0m         txt_prev,t_prev,min_sigma_max=find_stopping_point(dt,pdict,txt_prev,t_prev,\n\u001b[1;32m      9\u001b[0m                                                           \u001b[0msave_every_n_frames\u001b[0m\u001b[0;34m=\u001b[0m\u001b[0mone_steps_per_frame\u001b[0m\u001b[0;34m,\u001b[0m\u001b[0;34m\u001b[0m\u001b[0;34m\u001b[0m\u001b[0m\n",
      "\u001b[0;31mTypeError\u001b[0m: init_system() missing 3 required positional arguments: 'txt_in', 'ds', and 'dt'"
     ]
    }
   ],
   "source": [
    "txt_in=load_buffer(txt_fn)\n",
    "\n",
    "retval_lst=recursive_zoom_to_death(pid_pair_lst,txt_in,dt,V_threshold=-50.,atol=1e-2,\n",
    "                            one_steps_per_frame=100,ds=5.)\n",
    "t_death,min_sigma_max"
   ]
  },
  {
   "cell_type": "code",
   "execution_count": 137,
   "metadata": {
    "ExecuteTime": {
     "end_time": "2021-05-06T19:59:04.475227Z",
     "start_time": "2021-05-06T19:59:04.429997Z"
    }
   },
   "outputs": [],
   "source": [
    "# # def find_starting_point(pdict,pid_pair,**kwargs):\n",
    "# #     #TODO: follow pdict back to the birth of this pid_pair.  Supposes pid_pair denotes a birth\n",
    "# #     #TODO(don't): modify find_stopping point\n",
    "# #     pass\n",
    "\n",
    "\n",
    "# def zoom_in(txt,pdict,dt,level1,level2,tfactor=0.1,**kwargs):\n",
    "#     '''\n",
    "#     Example Usage:\n",
    "#     txt_prev, pdict, comp_tips, one_step=zoom_in(txt_prev,pdict,dt,level1,level2,tfactor=0.1)\n",
    "#     '''\n",
    "#     # zooming in as needed, until a certain absolute tolerance is found in a zero minimum distance between tips is reached.  \n",
    "#     dt=tfactor*dt\n",
    "#     width,height=txt.shape[:2]\n",
    "#     comp_tips=get_comp_dict_topo_full_color(width=width,height=height,level1=level1,level2=level2)\n",
    "#     # get_one_step at this dt (Luo-Rudy model)\n",
    "#     __, arr39, one_step = get_one_step_explicit_synchronous_splitting(\n",
    "#         nb_dir,dt=dt,width=width,height=height,ds=ds,diffCoef=0.0005,Cm=1.0)\n",
    "    \n",
    "#     txt,pdict=zoom_system(txt,pdict)\n",
    "#     return txt, pdict, dt, comp_tips, one_step\n",
    "\n",
    "# def zoom_system(txt,pdict):\n",
    "#     txt=zoomin_txt(txt)\n",
    "#     pdict=pdict.zoom_to_double()\n",
    "#     return txt,pdict\n",
    "\n",
    "# # def zoom_system(system, dt, pdict):\n",
    "# #     zoom_in(txt,pdict,dt,level1,level2,tfactor=0.1)\n",
    "# #     for systm in system:\n",
    "# #         t_prev,pid_pair,txt_prev=systm\n",
    "# #         txt, pdict, comp_tips, one_step=zoom_in(txt,pdict,dt,level1=-50,level2=0.,tfactor=0.1)\n",
    "# #         #TODO: zoom_system (HINT: ctrl+F for zoom_ in lib)\n",
    "# #     system=txt, pdict, dt, comp_tips, one_step"
   ]
  },
  {
   "cell_type": "markdown",
   "metadata": {
    "heading_collapsed": true
   },
   "source": [
    "# TODO: test/dev recursive_zoom_to_death\n",
    "then,<br>\n",
    "TODO: define recursive_zoom_to_birth"
   ]
  },
  {
   "cell_type": "code",
   "execution_count": 135,
   "metadata": {
    "ExecuteTime": {
     "end_time": "2021-05-06T19:58:36.337237Z",
     "start_time": "2021-05-06T19:58:36.282388Z"
    },
    "hidden": true
   },
   "outputs": [
    {
     "ename": "NameError",
     "evalue": "name 'duration' is not defined",
     "output_type": "error",
     "traceback": [
      "\u001b[0;31m---------------------------------------------------------------------------\u001b[0m",
      "\u001b[0;31mNameError\u001b[0m                                 Traceback (most recent call last)",
      "\u001b[0;32m<ipython-input-135-5fd308033f79>\u001b[0m in \u001b[0;36m<module>\u001b[0;34m\u001b[0m\n\u001b[1;32m      1\u001b[0m \u001b[0;31m#TODO: use record_tips_return_txt in studying birth events\u001b[0m\u001b[0;34m\u001b[0m\u001b[0;34m\u001b[0m\u001b[0;34m\u001b[0m\u001b[0m\n\u001b[0;32m----> 2\u001b[0;31m \u001b[0mtxt\u001b[0m\u001b[0;34m=\u001b[0m\u001b[0mpdict\u001b[0m\u001b[0;34m.\u001b[0m\u001b[0mrecord_tips_return_txt\u001b[0m\u001b[0;34m(\u001b[0m\u001b[0mtxt\u001b[0m\u001b[0;34m,\u001b[0m\u001b[0mduration\u001b[0m\u001b[0;34m,\u001b[0m\u001b[0mone_step\u001b[0m\u001b[0;34m,\u001b[0m\u001b[0mcomp_tips\u001b[0m\u001b[0;34m,\u001b[0m\u001b[0mdt\u001b[0m\u001b[0;34m,\u001b[0m\u001b[0msave_every_n_frames\u001b[0m\u001b[0;34m=\u001b[0m\u001b[0;36m1\u001b[0m\u001b[0;34m)\u001b[0m\u001b[0;34m\u001b[0m\u001b[0;34m\u001b[0m\u001b[0m\n\u001b[0m",
      "\u001b[0;31mNameError\u001b[0m: name 'duration' is not defined"
     ]
    }
   ],
   "source": [
    "#TODO: use record_tips_return_txt in studying birth events \n",
    "duration=1\n",
    "txt=pdict.record_tips_return_txt(txt,duration,one_step,comp_tips,dt,save_every_n_frames=1)#,**kwargs)\n",
    "\n",
    "txt_prev, pdict, dt, comp_tips, one_step=zoom_in(txt_prev,pdict,dt,level1=V_threshold,level2=0.,tfactor=tfactor)"
   ]
  },
  {
   "cell_type": "code",
   "execution_count": null,
   "metadata": {
    "hidden": true
   },
   "outputs": [],
   "source": []
  },
  {
   "cell_type": "code",
   "execution_count": 138,
   "metadata": {
    "ExecuteTime": {
     "end_time": "2021-05-06T20:01:32.415949Z",
     "start_time": "2021-05-06T20:01:05.081348Z"
    },
    "hidden": true
   },
   "outputs": [],
   "source": [
    "txt_prev, pdict, dt, comp_tips, one_step=zoom_in(txt_prev,pdict,dt,level1=V_threshold,level2=0.,tfactor=tfactor)"
   ]
  },
  {
   "cell_type": "markdown",
   "metadata": {},
   "source": [
    "# dev methods for measuring activation front motion\n",
    "- TODO(later): calibrate pdict contour detection "
   ]
  },
  {
   "cell_type": "code",
   "execution_count": 4,
   "metadata": {
    "ExecuteTime": {
     "end_time": "2021-05-07T23:33:52.151234Z",
     "start_time": "2021-05-07T23:33:09.473062Z"
    }
   },
   "outputs": [
    {
     "name": "stdout",
     "output_type": "stream",
     "text": [
      "(200, 200, 18)\n"
     ]
    },
    {
     "data": {
      "image/png": "[encoded data removed]",
      "text/plain": [
       "<Figure size 432x432 with 1 Axes>"
      ]
     },
     "metadata": {},
     "output_type": "display_data"
    },
    {
     "name": "stdout",
     "output_type": "stream",
     "text": [
      "saved at time 218.830 ms.\r"
     ]
    }
   ],
   "source": [
    "dt=0.001\n",
    "txt_fn=f'{nb_dir}/Data/test_data/ic008.33_t_218.8.npz'\n",
    "t=218.8;ds=5.;V_threshold=-50.\n",
    "txt=load_buffer(txt_fn)\n",
    "inVc,outVc,inmhjdfx,outmhjdfx,dVcdt=unstack_txt(txt)\n",
    "width,height=txt.shape[:2]\n",
    "print(txt.shape)\n",
    "one_step,comp_distance,comp_dict_tips=init_methods(width,height,ds,dt,V_threshold=V_threshold,jump_threshold=40)\n",
    "comp_dict_topo_full_color=comp_dict_tips\n",
    "#reidentify the tips to be tracked\n",
    "img=inVc[...,0];dimgdt=dVcdt[...,0]\n",
    "dict_tips=comp_dict_tips(img, dimgdt, t, txt)\n",
    "pdict=ParticlePBCDict(dict_tips=dict_tips, width=width, height=width)#, **kwargs)\n",
    "t_prev=t;txt_prev=txt.copy()\n",
    "\n",
    "#visualize token death system\n",
    "x_values=np.array(dict_tips['x'])[:-2]\n",
    "y_values=np.array(dict_tips['y'])[:-2]\n",
    "c_values=np.array(dict_tips['pid'])[:-2]\n",
    "fig = ShowDomain(img,dimgdt,x_values,y_values,c_values,V_threshold,t,inch=6,\n",
    "                 fontsize=16,vmin_img=-85.,vmax_img=35.,area=25,\n",
    "                 frameno=None,#frameno,\n",
    "                 save_fn=None,#save_fn,\n",
    "                 save_folder=None,#save_folder,\n",
    "                 save=False,#True,\n",
    "                 annotating=True,\n",
    "                 axis=[0,img.shape[0],0,img.shape[1]])\n",
    "\n",
    "#better method: take more data! (after condensing data to a simple readout)\n",
    "#DONE/DONT(later): look for more reliable way to identify activation fronts... use consistency of position over time??\n",
    "# HINT: consider looking at mean gating variables from the comp_dict_topo_full_color\n",
    "#TODO: linearly record data for ^these spiral tips at a high sampling rate (and fine spatial resolution)\n",
    "\n",
    "#TODO(brainwarmer): check Slides for whether tips move along dVdt levelsets or along V levelsets\n",
    "#TODO: load/plot system\n",
    "#TODO: compute each of the the final scalar values needed for the following...\n",
    "#TODO: test angular difference between cartesion acceleration and acceleration in the direction of the activation front versus time\n",
    "#TODO: linearly track lesser_arclen of these two death events on a dt=0.001 ms timescale fixed at the basic subpixel resolution\n",
    "#TODO: test proposition that lesser_arclen always drops shortly annihilating, perhaps on the 0.01~0.02 (ms?) timescale.  \n",
    "# ^This would support the mechanism of annihilation involving the connection of activation fronts/strings with some tension to contract\n",
    "# ^This would support using a model of spiral tip dynamics along an activation front to inform our reaction rate calculations\n",
    "# HINT: consider rate = 1/expected_time_to_death, where the arclength behaves in a predictable way, i.e.\n",
    "# dsigma_max_dt=foo(sigma_max;relative phase?)\n",
    "\n",
    "# from inspect import getsource\n",
    "# print ( getsource(pdict.record_tips_return_txt))\n",
    "# pdict.record_tips_return_txt?\n",
    "ntips=len(dict_tips['x'])\n",
    "assert(ntips>0)\n",
    "\n",
    "inVc,outVc,inmhjdfx,outmhjdfx,dVcdt=unstack_txt(txt)\n",
    "frameno=0\n",
    "change_time=0.\n",
    "duration =0.03\n",
    "save_every_n_frames=1\n",
    "while change_time<=duration:\n",
    "# while ntips>0:\n",
    "    frameno+=1\n",
    "    t+=dt\n",
    "    change_time+=dt\n",
    "    one_step(inVc,outVc,inmhjdfx,outmhjdfx,dVcdt)\n",
    "    if frameno % save_every_n_frames == 0:\n",
    "        dict_tips=comp_dict_tips(img, dimgdt, t, txt)\n",
    "        pdict.merge_dict(dict_tips)\n",
    "        ntips=len(dict_tips['x'])\n",
    "        print(f\"saved at time {t:.3f} ms.\",end='\\r')\n",
    "\n",
    "txt=stack_txt(inVc,outVc,inmhjdfx,outmhjdfx,dVcdt)"
   ]
  },
  {
   "cell_type": "code",
   "execution_count": 58,
   "metadata": {
    "ExecuteTime": {
     "end_time": "2021-05-08T00:32:57.879571Z",
     "start_time": "2021-05-08T00:32:57.805365Z"
    }
   },
   "outputs": [],
   "source": [
    "#get all positions at two adjacent frames\n",
    "pid_pair=(0,1)#(2,3)#UNCOMMENT\n",
    "df, dict_greater_dict, dict_lesser_dict=pdict.separate_data_to_pandas()"
   ]
  },
  {
   "cell_type": "code",
   "execution_count": 59,
   "metadata": {
    "ExecuteTime": {
     "end_time": "2021-05-08T00:32:59.400003Z",
     "start_time": "2021-05-08T00:32:59.355497Z"
    }
   },
   "outputs": [
    {
     "data": {
      "text/plain": [
       "(size,t,x,y)=(31,218.830,146.100,65.229);"
      ]
     },
     "execution_count": 59,
     "metadata": {},
     "output_type": "execute_result"
    }
   ],
   "source": [
    "# df.pid.values\n",
    "pdict[1]"
   ]
  },
  {
   "cell_type": "code",
   "execution_count": 61,
   "metadata": {
    "ExecuteTime": {
     "end_time": "2021-05-08T00:33:02.848294Z",
     "start_time": "2021-05-08T00:33:02.804319Z"
    }
   },
   "outputs": [],
   "source": [
    "#extract the relevant particles\n",
    "d1=df[df.pid==float(pid_pair[0])].copy()\n",
    "d2=df[df.pid==float(pid_pair[1])].copy()\n",
    "\n",
    "#compute velocities of particles\n",
    "dsdpixel=ds/width\n",
    "d1['vx']=d1.diff().shift(-1)[['x']]*dsdpixel/dt #cm/s\n",
    "d1['vy']=d1.diff().shift(-1)[['y']]*dsdpixel/dt #cm/s\n",
    "d2['vx']=d2.diff().shift(-1)[['x']]*dsdpixel/dt #cm/s\n",
    "d2['vy']=d2.diff().shift(-1)[['y']]*dsdpixel/dt #cm/s\n",
    "\n",
    "#compute speeds of particles\n",
    "d1['speed']=np.sqrt(d1['vx']**2+d1['vy']**2)\n",
    "d2['speed']=np.sqrt(d2['vx']**2+d2['vy']**2)"
   ]
  },
  {
   "cell_type": "code",
   "execution_count": 115,
   "metadata": {
    "ExecuteTime": {
     "end_time": "2021-05-08T00:59:43.120184Z",
     "start_time": "2021-05-08T00:59:43.071928Z"
    }
   },
   "outputs": [],
   "source": [
    "#compute the velocity unit vectors for either tip\n",
    "v1_hat_values=np.array(list(zip(d1['vx']/d1['speed'],d1['vy']/d1['speed'])))\n",
    "v2_hat_values=np.array(list(zip(d2['vx']/d2['speed'],d2['vy']/d2['speed'])))\n",
    "\n",
    "#compute displacement unit vector from tip 1 to tip 2\n",
    "xy1_values=np.array(list(zip(d1['x'],d1['y'])))\n",
    "xy2_values=np.array(list(zip(d2['x'],d2['y'])))\n",
    "xy2_minus_xy1_values=xy2_values-xy1_values\n",
    "x2_minus_x1_hat_values=xy2_minus_xy1_values[:,0]/np.linalg.norm(xy2_minus_xy1_values,axis=1)\n",
    "y2_minus_y1_hat_values=xy2_minus_xy1_values[:,1]/np.linalg.norm(xy2_minus_xy1_values,axis=1)\n",
    "xy2_minus_xy1_hat_values=np.array(list(zip(x2_minus_x1_hat_values,y2_minus_y1_hat_values)))\n",
    "\n",
    "#time values\n",
    "t1_values=d1['t'].values"
   ]
  },
  {
   "cell_type": "code",
   "execution_count": 66,
   "metadata": {
    "ExecuteTime": {
     "end_time": "2021-05-08T00:33:31.782507Z",
     "start_time": "2021-05-08T00:33:31.739924Z"
    }
   },
   "outputs": [
    {
     "data": {
      "text/plain": [
       "dict_keys(['lesser_V_values', 'lesser_arclen_values', 'lesser_curvature_values', 'lesser_xy_values', 'lesser_pid', 'pid', 't'])"
      ]
     },
     "execution_count": 66,
     "metadata": {},
     "output_type": "execute_result"
    }
   ],
   "source": [
    "#compute directions of activation fronts.  store as pandas.DataFrame.\n",
    "dict_activation_front=dict_lesser_dict[pid_pair[0]]\n",
    "daf=dict_activation_front\n",
    "daf.keys()\n",
    "\n",
    "t_values=np.array(daf['t'])[1:]\n",
    "\n",
    "xy_values_lst=daf['lesser_xy_values']\n",
    "len(xy_values_lst)"
   ]
  },
  {
   "cell_type": "code",
   "execution_count": 106,
   "metadata": {
    "ExecuteTime": {
     "end_time": "2021-05-08T00:46:24.525179Z",
     "start_time": "2021-05-08T00:46:24.482246Z"
    }
   },
   "outputs": [],
   "source": [
    "#DONE: confirmed coordinates are lined up\n",
    "# xy_values[:3][0][0]-float(d1[d1.t==t_values[i]].x.values)\n",
    "#DONE: confirmed the ith particle value corresponds to the ith contour value"
   ]
  },
  {
   "cell_type": "code",
   "execution_count": 142,
   "metadata": {
    "ExecuteTime": {
     "end_time": "2021-05-08T03:08:06.797575Z",
     "start_time": "2021-05-08T03:08:06.747980Z"
    }
   },
   "outputs": [
    {
     "name": "stdout",
     "output_type": "stream",
     "text": [
      "phi1,phi2=-0.136,0.102 at time 218.808.\n",
      "phi_sum,phi_diff=-0.034,0.238 at time 218.808.\n"
     ]
    }
   ],
   "source": [
    "dx1dx2_hat=xy2_minus_xy1_hat_values[i]\n",
    "# print(t1_values[i])\n",
    "\n",
    "#TODO(if naive is ugly...): try moving avg of first j contour points for the ith observation time\n",
    "i=7\n",
    "xy_values=xy_values_lst[i]\n",
    "\n",
    "#TODO: compute a1_hat and a2_hat\n",
    "a1=xy_values[1]-xy_values[0]\n",
    "# xy_values[2]-xy_values[1]\n",
    "# xy_values[3]-xy_values[2]\n",
    "# xy_values[4]-xy_values[3]\n",
    "a1_hat=a1/np.linalg.norm(a1)\n",
    "\n",
    "a2=xy_values[-2]-xy_values[-1]\n",
    "a2_hat=a2/np.linalg.norm(a2)\n",
    "\n",
    "#TODO(later, to scale method): convert all subtraction operations to explicitely enforce pbc...\n",
    "# print(t_values[i])\n",
    "\n",
    "#assert we're comparing the right times\n",
    "assert ( t_values[i] == t1_values[i])\n",
    "\n",
    "phi1=np.arcsin(np.cross(dx1dx2_hat,a1))\n",
    "phi2=np.arcsin(np.cross(-dx1dx2_hat,a2))\n",
    "phi_sum=phi2+phi1\n",
    "phi_diff=phi2-phi1\n",
    "# return phi_sum, phi_diff\n",
    "\n",
    "print(f\"phi1,phi2={phi1:.3f},{phi2:.3f} at time {t_values[i]:.3f}.\")\n",
    "print(f\"phi_sum,phi_diff={phi_sum:.3f},{phi_diff:.3f} at time {t_values[i]:.3f}.\")"
   ]
  },
  {
   "cell_type": "code",
   "execution_count": 117,
   "metadata": {
    "ExecuteTime": {
     "end_time": "2021-05-08T01:11:01.942499Z",
     "start_time": "2021-05-08T01:11:01.896797Z"
    }
   },
   "outputs": [],
   "source": [
    "t0=218.83000000000015"
   ]
  },
  {
   "cell_type": "code",
   "execution_count": 120,
   "metadata": {
    "ExecuteTime": {
     "end_time": "2021-05-08T01:59:19.225955Z",
     "start_time": "2021-05-08T01:31:43.731336Z"
    }
   },
   "outputs": [
    {
     "name": "stdout",
     "output_type": "stream",
     "text": [
      "txt is at time 249.800 ms.\r"
     ]
    }
   ],
   "source": [
    "tf=249.8#256.2\n",
    "\n",
    "# inVc,outVc,inmhjdfx,outmhjdfx,dVcdt=unstack_txt(txt)\n",
    "# frameno=0\n",
    "# change_time=0.\n",
    "# duration =0.03\n",
    "save_every_n_frames=1\n",
    "# while change_time<=duration:\n",
    "# while ntips>0:\n",
    "while t<tf:\n",
    "    frameno+=1\n",
    "    t+=dt\n",
    "#     change_time+=dt\n",
    "    one_step(inVc,outVc,inmhjdfx,outmhjdfx,dVcdt)\n",
    "#     if frameno % save_every_n_frames == 0:\n",
    "#         dict_tips=comp_dict_tips(img, dimgdt, t, txt)\n",
    "#         pdict.merge_dict(dict_tips)\n",
    "#         ntips=len(dict_tips['x'])\n",
    "#         print(f\"saved at time {t:.3f} ms.\",end='\\r')\n",
    "    print(f\"txt is at time {t:.3f} ms.\",end='\\r')\n",
    "\n",
    "txt=stack_txt(inVc,outVc,inmhjdfx,outmhjdfx,dVcdt)"
   ]
  },
  {
   "cell_type": "code",
   "execution_count": 123,
   "metadata": {
    "ExecuteTime": {
     "end_time": "2021-05-08T02:07:48.681174Z",
     "start_time": "2021-05-08T02:07:48.632376Z"
    }
   },
   "outputs": [],
   "source": [
    "beep(5)\n",
    "#visualize token death system just before they annihilate\n",
    "img=inVc[...,0];dimgdt=dVcdt[...,0]\n",
    "dict_tips=comp_dict_tips(img, dimgdt, t, txt)\n",
    "# pdict=ParticlePBCDict(dict_tips=dict_tips, width=width, height=width)#, **kwargs)\n",
    "# t_prev=t;txt_prev=txt.copy()\n",
    "\n",
    "#visualize token death system\n",
    "x_values=np.array(dict_tips['x'])[:-2]\n",
    "y_values=np.array(dict_tips['y'])[:-2]\n",
    "c_values=np.array(dict_tips['pid'])[:-2]\n",
    "fig = ShowDomain(img,dimgdt,x_values,y_values,c_values,V_threshold,t,inch=6,\n",
    "                 fontsize=16,vmin_img=-85.,vmax_img=35.,area=25,\n",
    "                 frameno=None,#frameno,\n",
    "                 save_fn=None,#save_fn,\n",
    "                 save_folder=None,#save_folder,\n",
    "                 save=False,#True,\n",
    "                 annotating=True,\n",
    "                 axis=[0,img.shape[0],0,img.shape[1]])"
   ]
  },
  {
   "cell_type": "code",
   "execution_count": 124,
   "metadata": {
    "ExecuteTime": {
     "end_time": "2021-05-08T02:08:19.924462Z",
     "start_time": "2021-05-08T02:08:19.318903Z"
    }
   },
   "outputs": [
    {
     "data": {
      "image/png": "[encoded data removed]",
      "text/plain": [
       "<Figure size 432x432 with 1 Axes>"
      ]
     },
     "metadata": {},
     "output_type": "display_data"
    }
   ],
   "source": [
    "img=inVc[...,0].T;dimgdt=dVcdt[...,0].T\n",
    "dict_tips2=comp_dict_tips(img, dimgdt, t, txt)\n",
    "#visualize token death system\n",
    "x_values=np.array(dict_tips2['x'])#[:-2]\n",
    "y_values=np.array(dict_tips2['y'])#[:-2]\n",
    "c_values=np.array(dict_tips2['pid'])#[:-2]\n",
    "fig = ShowDomain(img,dimgdt,x_values,y_values,c_values,V_threshold,t,inch=6,\n",
    "                 fontsize=16,vmin_img=-85.,vmax_img=35.,area=25,\n",
    "                 frameno=None,#frameno,\n",
    "                 save_fn=None,#save_fn,\n",
    "                 save_folder=None,#save_folder,\n",
    "                 save=False,#True,\n",
    "                 annotating=True,\n",
    "                 axis=[0,img.shape[0],0,img.shape[1]])"
   ]
  },
  {
   "cell_type": "code",
   "execution_count": 159,
   "metadata": {
    "ExecuteTime": {
     "end_time": "2021-05-08T03:26:22.662481Z",
     "start_time": "2021-05-08T03:26:22.339129Z"
    }
   },
   "outputs": [],
   "source": [
    "#compute the pdict2 at the current/next frame\n",
    "pdict2=ParticlePBCDict(dict_tips=dict_tips2, width=width, height=width)#, **kwargs)\n",
    "pdict2.merge_dict(dict_tips2)\n",
    "# pdict2[0].keys()\n",
    "df2, dict_greater_dict2, dict_lesser_dict2=pdict2.separate_data_to_pandas()\n",
    "#extract the relevant particles\n",
    "d1=df2[df2.pid==float(pid_pair[0])].copy()\n",
    "d2=df2[df2.pid==float(pid_pair[1])].copy()"
   ]
  },
  {
   "cell_type": "code",
   "execution_count": 160,
   "metadata": {
    "ExecuteTime": {
     "end_time": "2021-05-08T03:26:23.679967Z",
     "start_time": "2021-05-08T03:26:23.640406Z"
    }
   },
   "outputs": [],
   "source": [
    "#compute displacement unit vector from tip 1 to tip 2\n",
    "xy1_values=np.array(list(zip(d1['x'],d1['y'])))\n",
    "xy2_values=np.array(list(zip(d2['x'],d2['y'])))\n",
    "xy2_minus_xy1_values=xy2_values-xy1_values\n",
    "x2_minus_x1_hat_values=xy2_minus_xy1_values[:,0]/np.linalg.norm(xy2_minus_xy1_values,axis=1)\n",
    "y2_minus_y1_hat_values=xy2_minus_xy1_values[:,1]/np.linalg.norm(xy2_minus_xy1_values,axis=1)\n",
    "xy2_minus_xy1_hat_values=np.array(list(zip(x2_minus_x1_hat_values,y2_minus_y1_hat_values)))\n",
    "\n",
    "#time values\n",
    "t1_values=d1['t'].values"
   ]
  },
  {
   "cell_type": "code",
   "execution_count": 163,
   "metadata": {
    "ExecuteTime": {
     "end_time": "2021-05-08T03:28:05.846234Z",
     "start_time": "2021-05-08T03:28:05.798982Z"
    }
   },
   "outputs": [
    {
     "data": {
      "text/plain": [
       "1"
      ]
     },
     "execution_count": 163,
     "metadata": {},
     "output_type": "execute_result"
    }
   ],
   "source": [
    "#compute directions of activation fronts.  store as pandas.DataFrame.\n",
    "dict_activation_front=dict_lesser_dict2[pid_pair[0]]\n",
    "daf=dict_activation_front\n",
    "daf.keys()\n",
    "\n",
    "t_values=np.array(daf['t'])#[1:]\n",
    "\n",
    "xy_values_lst=daf['lesser_xy_values']\n",
    "len(xy_values_lst)"
   ]
  },
  {
   "cell_type": "code",
   "execution_count": 164,
   "metadata": {
    "ExecuteTime": {
     "end_time": "2021-05-08T03:28:06.701677Z",
     "start_time": "2021-05-08T03:28:06.659329Z"
    }
   },
   "outputs": [
    {
     "name": "stdout",
     "output_type": "stream",
     "text": [
      "(249.80000000014803, 249.80000000014803)\n",
      "phi1,phi2=-0.093,-0.140 at time 249.800.\n",
      "phi_sum,phi_diff=-0.233,-0.047 at time 249.800.\n"
     ]
    }
   ],
   "source": [
    "i=0\n",
    "dx1dx2_hat=xy2_minus_xy1_hat_values[i]\n",
    "# print(t1_values[i])\n",
    "\n",
    "#TODO(if naive is ugly...): try moving avg of first j contour points for the ith observation time\n",
    "\n",
    "xy_values=xy_values_lst[i]\n",
    "\n",
    "#TODO: compute a1_hat and a2_hat\n",
    "a1=xy_values[1]-xy_values[0]\n",
    "# xy_values[2]-xy_values[1]\n",
    "# xy_values[3]-xy_values[2]\n",
    "# xy_values[4]-xy_values[3]\n",
    "a1_hat=a1/np.linalg.norm(a1)\n",
    "\n",
    "a2=xy_values[-2]-xy_values[-1]\n",
    "a2_hat=a2/np.linalg.norm(a2)\n",
    "\n",
    "#TODO(later, to scale method): convert all subtraction operations to explicitely enforce pbc...\n",
    "# print(t_values[i])\n",
    "\n",
    "#assert we're comparing the right times\n",
    "print (( t_values[i] , t1_values[i]))\n",
    "assert ( t_values[i] == t1_values[i])\n",
    "\n",
    "phi1=np.arcsin(np.cross(dx1dx2_hat,a1))\n",
    "phi2=np.arcsin(np.cross(-dx1dx2_hat,a2))\n",
    "phi_sum=phi2+phi1\n",
    "phi_diff=phi2-phi1\n",
    "# return phi_sum, phi_diff\n",
    "\n",
    "print(f\"phi1,phi2={phi1:.3f},{phi2:.3f} at time {t_values[i]:.3f}.\")\n",
    "print(f\"phi_sum,phi_diff={phi_sum:.3f},{phi_diff:.3f} at time {t_values[i]:.3f}.\")"
   ]
  },
  {
   "cell_type": "markdown",
   "metadata": {
    "ExecuteTime": {
     "end_time": "2021-05-08T03:24:29.151243Z",
     "start_time": "2021-05-08T03:24:29.095653Z"
    }
   },
   "source": [
    "$$\n",
    "\\text{Let   } \\varphi_1\\equiv\\sin^{-1}\\big(\\widehat{\\mathbf{x}_2-\\mathbf{x}_1}\\;\\times\\;\\hat{\\mathbf{a}}_1\\big),\n",
    "$$\n",
    "\n",
    "$$\n",
    "\\text{and let   } \\varphi_2\\equiv\\sin^{-1}\\big(\\widehat{\\mathbf{x}_1-\\mathbf{x}_2}\\;\\times\\;\\hat{\\mathbf{a}}_2\\big).\n",
    "$$"
   ]
  },
  {
   "cell_type": "code",
   "execution_count": null,
   "metadata": {},
   "outputs": [],
   "source": []
  }
 ],
 "metadata": {
  "kernelspec": {
   "display_name": "Python 3",
   "language": "python",
   "name": "python3"
  },
  "language_info": {
   "codemirror_mode": {
    "name": "ipython",
    "version": 3
   },
   "file_extension": ".py",
   "mimetype": "text/x-python",
   "name": "python",
   "nbconvert_exporter": "python",
   "pygments_lexer": "ipython3",
   "version": "3.8.7"
  },
  "varInspector": {
   "cols": {
    "lenName": 16,
    "lenType": 16,
    "lenVar": 40
   },
   "kernels_config": {
    "python": {
     "delete_cmd_postfix": "",
     "delete_cmd_prefix": "del ",
     "library": "var_list.py",
     "varRefreshCmd": "print(var_dic_list())"
    },
    "r": {
     "delete_cmd_postfix": ") ",
     "delete_cmd_prefix": "rm(",
     "library": "var_list.r",
     "varRefreshCmd": "cat(var_dic_list()) "
    }
   },
   "types_to_exclude": [
    "module",
    "function",
    "builtin_function_or_method",
    "instance",
    "_Feature"
   ],
   "window_display": false
  }
 },
 "nbformat": 4,
 "nbformat_minor": 4
}
