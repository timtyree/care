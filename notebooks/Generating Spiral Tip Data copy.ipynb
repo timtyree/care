{
 "cells": [
  {
   "cell_type": "markdown",
   "metadata": {
    "slideshow": {
     "slide_type": "slide"
    }
   },
   "source": [
    "# Generating reproducible spiral tip trajectories\n",
    "Tim Tyree<br>\n",
    "May 22, 2020<br>"
   ]
  },
  {
   "cell_type": "code",
   "execution_count": 20,
   "metadata": {
    "ExecuteTime": {
     "end_time": "2020-05-27T17:06:43.358087Z",
     "start_time": "2020-05-27T17:06:43.297349Z"
    },
    "slideshow": {
     "slide_type": "skip"
    }
   },
   "outputs": [
    {
     "name": "stdout",
     "output_type": "stream",
     "text": [
      "Automatic calling is: Smart\n",
      "The autoreload extension is already loaded. To reload it, use:\n",
      "  %reload_ext autoreload\n"
     ]
    }
   ],
   "source": [
    "#pylab\n",
    "%matplotlib inline\n",
    "import numpy as np, pandas as pd, matplotlib.pyplot as plt\n",
    "from pylab import imshow, show\n",
    "\n",
    "import skimage as sk\n",
    "from skimage import measure, filters\n",
    "\n",
    "import matplotlib.pyplot as plt, numpy as np, os\n",
    "from numba import njit, jit, vectorize\n",
    "from PIL import Image\n",
    "import imageio\n",
    "# import cv2 as cv\n",
    "\n",
    "if 'nb_dir' not in globals():\n",
    "    nb_dir = os.getcwd()\n",
    "\n",
    "width = 512\n",
    "height = 512\n",
    "channel_no = 3\n",
    "\n",
    "from lib.minimal_model import *\n",
    "from lib.TexturePlot import *\n",
    "from lib.get_tips import *\n",
    "from lib.minimal_model import *\n",
    "from lib.intersection import *\n",
    "from lib.ProgressBar import *\n",
    "\n",
    "\n",
    "#TODO: use cuda via numba\n",
    "# from numba import jit, njit, vectorize, cuda, uint32, f8, uint8\n",
    "# from lib.contours_to_tips import *\n",
    "\n",
    "#automate the boring stuff\n",
    "from IPython import utils\n",
    "import time, os, sys, re\n",
    "beep = lambda x: os.system(\"echo -n '\\\\a';sleep 0.2;\" * x)\n",
    "if not 'nb_dir' in globals():\n",
    "    nb_dir = os.getcwd()\n",
    "width = 512\n",
    "height = 512\n",
    "channel_no = 3\n",
    "\n",
    "%autocall 1\n",
    "%load_ext autoreload\n",
    "%autoreload 2"
   ]
  },
  {
   "cell_type": "markdown",
   "metadata": {
    "heading_collapsed": true,
    "slideshow": {
     "slide_type": "slide"
    }
   },
   "source": [
    "# completed: _old algorithm to the new context_\n",
    "- condition \\#1: take a local average voltage above threshold, Uth = 0.9 and returning true if that average was greater than 4*0.5=2 and less than 3.5*4=14\n",
    "    - new nonlocal condition \\#1: find contour where voltage is \n",
    "- condition \\#2: take the local average of the previous timestep of voltage and and returning true if that average was greater than 4*0.25=1 and less than 3.5*4=14\n",
    "    - nonlocal condition \\#2: find contour where mindvdt < dvdt < maxdvdt\n",
    "- tips are located at the intersection of these two curves"
   ]
  },
  {
   "cell_type": "code",
   "execution_count": 2,
   "metadata": {
    "ExecuteTime": {
     "end_time": "2020-05-26T19:23:29.025225Z",
     "start_time": "2020-05-26T19:23:29.003713Z"
    },
    "hidden": true,
    "slideshow": {
     "slide_type": "skip"
    }
   },
   "outputs": [],
   "source": [
    "#looking at old algorithm in the new context.  simplify it at the end.\n",
    "# #nonlocal cond1\n",
    "# minvlt = 4 * (0.5 + 0.9)\n",
    "# maxvlt = 4 * (3.5 + 0.9)\n",
    "# cond1 = lambda x: minvlt < x < maxvlt\n",
    "\n",
    "# #nonlocal cond2\n",
    "# mindvdt = 4 * (0.25 + 0.9)\n",
    "# maxdvdt = 4 * (3.5 + 0.9)\n",
    "# cond2 = lambda x: mindvdt < x < maxdvdt\n",
    "\n",
    "# Vth = 5  #minvlt  #np.around(minvlt+maxvlt)/2\n",
    "# dVth = 5  #mindvdt  #np.around(mindvdt+maxdvdt)/2\n",
    "# print(f\"voltage threshold = {Vth}.\")\n",
    "# print(f\"dvdt threshold = {dVth}.\")"
   ]
  },
  {
   "cell_type": "code",
   "execution_count": 3,
   "metadata": {
    "ExecuteTime": {
     "end_time": "2020-05-26T19:23:29.086351Z",
     "start_time": "2020-05-26T19:23:29.068589Z"
    },
    "hidden": true
   },
   "outputs": [],
   "source": [
    "#good spiral tips for the first used parameter set that gave two stable spiral tips\n",
    "# @jit\n",
    "# def get_contours(img_nxt,img_inc):\n",
    "#     contours_raw = measure.find_contours(img_nxt, level=0.5,fully_connected='low',positive_orientation='low')\n",
    "#     contours_inc = measure.find_contours(img_inc, level=0.0005)#,fully_connected='low',positive_orientation='low')\n",
    "#     return contours_raw, contours_inc\n",
    "#         img_inc = (img_nxt * ifilter(dtexture_dt[..., 0]))**2  #mask of instantaneously increasing voltages \n",
    "#         img_inc = filters.gaussian(img_inc,sigma=1.)#,truncate=1.0)\n",
    "#         contours_raw = measure.find_contours(img_nxt, level=0.5,fully_connected='low',positive_orientation='low')\n",
    "#         contours_inc = measure.find_contours(img_inc, level=0.0005)#,fully_connected='low',positive_orientation='low')\n",
    "        "
   ]
  },
  {
   "cell_type": "markdown",
   "metadata": {
    "heading_collapsed": true,
    "slideshow": {
     "slide_type": "slide"
    }
   },
   "source": [
    "# completed: _find tip positions where contours intersect_\n",
    "no spiral tips existed before placing the perturbation<br>\n",
    "- TODO: explore local state information at tips: Vlt, Ifi, Isi, Iso, which is given by txt\n",
    "- TODO: explore local rate infromation at tips"
   ]
  },
  {
   "cell_type": "markdown",
   "metadata": {
    "hidden": true,
    "slideshow": {
     "slide_type": "subslide"
    }
   },
   "source": [
    "<img alt=\"\" src=\"Figures/intersection_algorithm.png\" style=\"height:600px;width:1480px\" />"
   ]
  },
  {
   "cell_type": "code",
   "execution_count": 5,
   "metadata": {
    "ExecuteTime": {
     "end_time": "2020-05-26T19:23:32.301638Z",
     "start_time": "2020-05-26T19:23:32.282021Z"
    },
    "hidden": true,
    "slideshow": {
     "slide_type": "skip"
    }
   },
   "outputs": [],
   "source": [
    "# tips = get_tips(contours_raw, contours_inc)\n",
    "# n_list = []; x_lst = []; y_lst = []\n",
    "# for n,q in enumerate(tips):\n",
    "#     if not (len(q)==0):\n",
    "#         print(q)\n",
    "#         y, x = q\n",
    "#         x = list(x)\n",
    "#         x.sort()\n",
    "#         y = list(y)\n",
    "#         y.sort()\n",
    "#         n_lst.append(n)\n",
    "#         x_lst.append(x)\n",
    "#         y_lst.append(y)\n",
    "\n",
    "# # x_lst, y_lst = tips_to_list(tips)"
   ]
  },
  {
   "cell_type": "code",
   "execution_count": 6,
   "metadata": {
    "ExecuteTime": {
     "end_time": "2020-05-26T19:23:32.475324Z",
     "start_time": "2020-05-26T19:23:32.454243Z"
    },
    "hidden": true,
    "slideshow": {
     "slide_type": "skip"
    }
   },
   "outputs": [],
   "source": [
    "# #DONE?: form trajectories by sorting by distance from previous frame\n",
    "# for n, (t, yx) in enumerate(list(zip(t_values, out))):\n",
    "#     for yxi in yx:\n",
    "# #         y, x = [yxi for \n",
    "# #     print(yx)\n",
    "# x_values\n",
    "# if ~(len(lst)==0):\n",
    "#     print(f\"number of tips is = {set([len(q) for q in lst])}.\") #most recent number of tips\n",
    "\n"
   ]
  },
  {
   "cell_type": "code",
   "execution_count": 7,
   "metadata": {
    "ExecuteTime": {
     "end_time": "2020-05-26T19:23:33.111373Z",
     "start_time": "2020-05-26T19:23:33.091236Z"
    },
    "hidden": true,
    "slideshow": {
     "slide_type": "skip"
    }
   },
   "outputs": [],
   "source": [
    "# @njit\n",
    "# def square(x):\n",
    "#     x -= x\n",
    "#     return x\n",
    "\n",
    "# x_values =  np.linspace(-5,5)\n",
    "# y_values =  [Tanh(x) for x in x_values]\n",
    "\n",
    "# from lib.contours_to_tips import *\n",
    "# # list_tips  = contours_to_tips(contours_raw=contours_raw, contours_edge = contours_inc, inc = contours_inc)\n",
    "# contours_to_tips(contours_raw, contours_inc, inc = contours_inc)\n",
    "\n",
    "# @njit\n",
    "# def step(a,b):\n",
    "# \treturn 0 if a>b else 1\n",
    "# plt.scatter(x=x_values, y=[step(0,x) for x in x_values])\n",
    "# # plt.scatter(x=x_values, y=[np.heaviside(x,0) for x in x_values])"
   ]
  },
  {
   "cell_type": "code",
   "execution_count": 8,
   "metadata": {
    "ExecuteTime": {
     "end_time": "2020-05-26T19:23:33.503916Z",
     "start_time": "2020-05-26T19:23:33.485007Z"
    },
    "hidden": true,
    "slideshow": {
     "slide_type": "skip"
    }
   },
   "outputs": [],
   "source": [
    "# img_nxt = txt[...,0]\n",
    "# img_nxt = before_box[...,0]\n",
    "# img_nxt = after_box[...,0]\n",
    "# contours_raw = measure.find_contours(img_nxt, Vth, fully_connected='low', positive_orientation='low')\n",
    "# contours_inc = measure.find_contours(img_inc, dVth)\n",
    "\n",
    "# measure.find_contours?\n",
    "# contours_edge\n",
    "# tips\n",
    "# tips_to_list\n",
    "# before_box = txt.copy()\n",
    "# after_box = image.copy()\n",
    "# Vth\n",
    "# dVth\n",
    "# df = pd.concat([pd.DataFrame(c,columns =['y', 'x']) for c in contours_raw], axis=0)\n",
    "# print(df)"
   ]
  },
  {
   "cell_type": "markdown",
   "metadata": {
    "heading_collapsed": true,
    "slideshow": {
     "slide_type": "slide"
    }
   },
   "source": [
    "# completed: _reproducibly/programmably initialize/perturb the buffer_\n",
    "1. initialize repolarized tissue everywhere on a sphere (voltage = 0.0, fast_var = 0.4, slow_var = 1.0)\n",
    "1. perturb a rectangle of known dimensions (voltage = 30, fast_var = 0.0, slow_var = 0.0)\n",
    "1. let the rectangle propagate out until the slow variable repolarizes in the center\n",
    "1. put a known perturbation in a known location (here, I set voltage to 0.5 within a disk)\n",
    "1. record the buffer that you reproducibly/programmably initialized/perturbed!"
   ]
  },
  {
   "cell_type": "code",
   "execution_count": 45,
   "metadata": {
    "ExecuteTime": {
     "end_time": "2020-05-27T02:08:17.418709Z",
     "start_time": "2020-05-27T02:08:16.808062Z"
    },
    "hidden": true,
    "slideshow": {
     "slide_type": "subslide"
    }
   },
   "outputs": [
    {
     "data": {
      "image/png": "[encoded data removed]",
      "text/plain": [
       "<Figure size 1296x432 with 3 Axes>"
      ]
     },
     "metadata": {
      "needs_background": "light"
     },
     "output_type": "display_data"
    },
    {
     "data": {
      "image/png": "[encoded data removed]",
      "text/plain": [
       "<Figure size 1296x432 with 3 Axes>"
      ]
     },
     "metadata": {
      "needs_background": "light"
     },
     "output_type": "display_data"
    }
   ],
   "source": [
    "# txt = np.load('Data/buffer_test_error.npy')\n",
    "txt = np.load('Data/buffer_time_origin.npy')\n",
    "zero_txt = np.zeros((width, height, channel_no), dtype=np.float64)\n",
    "h = 0.1 #timestep size\n",
    "dtexture_dt = zero_txt\n",
    "get_time_step(txt, dtexture_dt)\n",
    "\n",
    "fig, axs = display_texture(dtexture_dt/h, vmins=(0, 0, 0), vmaxs=(1, 1, 1))\n",
    "fig, (ax1, ax2, ax3) = display_texture(txt, vmins=(0, 0, 0), vmaxs=(1, 1, 1))\n",
    "#TODO(later): plt.align_ylabels(axs=axs)"
   ]
  },
  {
   "cell_type": "code",
   "execution_count": 46,
   "metadata": {
    "ExecuteTime": {
     "end_time": "2020-05-27T02:08:27.486065Z",
     "start_time": "2020-05-27T02:08:26.691800Z"
    },
    "hidden": true,
    "scrolled": true,
    "slideshow": {
     "slide_type": "subslide"
    }
   },
   "outputs": [
    {
     "data": {
      "image/png": "[encoded data removed]",
      "text/plain": [
       "<Figure size 1296x432 with 3 Axes>"
      ]
     },
     "metadata": {
      "needs_background": "light"
     },
     "output_type": "display_data"
    }
   ],
   "source": [
    "#perturb the buffer at the origin\n",
    "save = True\n",
    "save_file_name = 'buffer_time_origin_primed_with_circle6'\n",
    "save_dir = f\"Figures/{save_file_name}.png\"\n",
    "image = txt.copy()\n",
    "\n",
    "#circle perturbation\n",
    "color_within_range(x0=256,y0=128+32,r=64, out=image, val=0.5)\n",
    "# color_within_range(x0=256,y0=128+32,r=32, out=image, val=1.)\n",
    "\n",
    "#bar perturbation\n",
    "# set_voltage_in_box(image,\n",
    "#     min_y=128 + 0,max_y=128 + 32,\n",
    "#     min_x=256 - 32,max_x=256 + 32,\n",
    "#     width=512,height=512,value=10.0)\n",
    "fig, (ax1, ax2, ax3) = display_texture(image, vmins=(0, 0, 0), vmaxs=(1, 1, 1))\n",
    "if save:\n",
    "    fig.savefig(save_dir)\n",
    "    np.save(f'Data/{save_file_name}.npy', image)\n",
    "    np.save(f'Data/{save_file_name}.npz', image)\n",
    "    np.savez_compressed(f'Data/{save_file_name}_compressed.npz', image)\n",
    "else:\n",
    "    fig.show()\n",
    "#TODO :switch the x's and y's to correspond to the picture"
   ]
  },
  {
   "cell_type": "code",
   "execution_count": null,
   "metadata": {
    "ExecuteTime": {
     "end_time": "2020-05-26T02:26:14.594065Z",
     "start_time": "2020-05-26T02:26:14.515323Z"
    },
    "hidden": true
   },
   "outputs": [],
   "source": []
  },
  {
   "cell_type": "markdown",
   "metadata": {
    "slideshow": {
     "slide_type": "slide"
    }
   },
   "source": [
    "# _load the reproducibly initialized buffer_\n",
    "_load the origin with the desired perturbation_<br>\n",
    "`txt =  np.load('Data/buffer_time_origin_primed.npy')`<br>\n",
    "_observe an absense of tips are initial after perturbation_"
   ]
  },
  {
   "cell_type": "code",
   "execution_count": 132,
   "metadata": {
    "ExecuteTime": {
     "end_time": "2020-05-28T03:32:22.464038Z",
     "start_time": "2020-05-28T03:32:21.934945Z"
    },
    "scrolled": true,
    "slideshow": {
     "slide_type": "fragment"
    }
   },
   "outputs": [
    {
     "name": "stdout",
     "output_type": "stream",
     "text": [
      "loading initial buffer...\n",
      "perturb = chaos_circle6_sigma_4_threshold_0.9_wrapping_true.\n",
      "for channel 0,\n",
      "\tmax value: 0.8220734919420856\n",
      "\tmin value: -5.842994007759086e-09\n",
      "\tmean value: 0.09040495575159081\n",
      "\t\n",
      "for channel 1,\n",
      "\tmax value: 1.0\n",
      "\tmin value: 4.2730396698647395e-07\n",
      "\tmean value: 0.8207531354970061\n",
      "\t\n",
      "for channel 2,\n",
      "\tmax value: 0.9999357315470903\n",
      "\tmin value: 0.9255846617243946\n",
      "\tmean value: 0.9930852439857958\n",
      "\t\n",
      "\n",
      " number of type 1 contour = 1,\tnumber of type 2 contour = 3,\n",
      "the topological tip state is the following:\n",
      "[(0, 1)]\n",
      "x position of tips: [[136.63517448791944, 136.63517448791941]]\n",
      "y position of tips: [[197.0, 197.0]]\n"
     ]
    }
   ],
   "source": [
    "#reinitialize perturbed origin\n",
    "# lst_x, lst_y = ([], [])\n",
    "# lst_tip_states = []\n",
    "tip_state_lst = []\n",
    "tme = 0\n",
    "sigma = 4\n",
    "threshold = 0.9\n",
    "# load txt\n",
    "print('loading initial buffer...')\n",
    "perturb = f'chaos_circle6_sigma_{sigma}_threshold_{threshold}_wrapping_true'\n",
    "print(f\"perturb = {perturb}.\")\n",
    "# txt = np.load(f'Data/buffer_chaos_circle6_sigma_2_at_time_1800.2.npy')\n",
    "txt = np.load(f'Data/buffer_time_origin_primed_with_circle6.npy')\n",
    "# txt = np.load(f'Data/buffer_circle6_at_time_3012.8.npy')  #made spiral defect chaos!\n",
    "# txt = np.load(f'Data/buffer_time_origin_primed_with_{perturb}.npy')\n",
    "# txt = np.load('Data/buffer_time_origin_primed.npy')\n",
    "# txt = np.load('Data/buffer_time_origin_primed_with_bar.npy')\n",
    "describe(txt)\n",
    "width, height, channel_no = txt.shape\n",
    "zero_txt = np.zeros((width, height, channel_no), dtype=np.float64)\n",
    "dtexture_dt = zero_txt.copy()\n",
    "get_time_step(txt, dtexture_dt)\n",
    "\n",
    "#calculate raw contour field for contours\n",
    "img_nxt = txt[..., 0]\n",
    "\n",
    "img_inc = ifilter(dtexture_dt[..., 0])  #mask of instantaneously increasing voltages \n",
    "img_inc = filters.gaussian(img_inc,sigma=sigma, mode='wrap')\n",
    "contours_raw = measure.find_contours(img_nxt, level=0.5,fully_connected='low',positive_orientation='low')\n",
    "contours_inc = measure.find_contours(img_inc, level=threshold)#,fully_connected='low',positive_orientation='low')\n",
    "\n",
    "#tip locating for stable parameters\n",
    "# img_inc = (img_nxt * ifilter(dtexture_dt[..., 0]))**2  #mask of instantaneously increasing voltages \n",
    "# img_inc = filters.gaussian(img_inc,sigma=1.)#,truncate=1.0)\n",
    "# contours_raw = measure.find_contours(img_nxt, level=0.5,fully_connected='low',positive_orientation='low')\n",
    "# contours_inc = measure.find_contours(img_inc, level=0.0005)#,fully_connected='low',positive_orientation='low')\n",
    "\n",
    "# x_lst, y_lst = tips_to_list(get_tips(contours_raw, contours_inc))\n",
    "# len(x_lst)\n",
    "# n_lst, x_lst, y_lst = enumerate_tips(get_tips(contours_raw, contours_inc))\n",
    "# n_lst, x_lst, y_lst = get_tips(contours_raw, contours_inc)\n",
    "# tip_states = {'n':n_lst,'x':x_lst,'y':y_lst}\n",
    "# print(f\"tip_states are {tip_states}.\")\n",
    "# # return {'tme':tme,'tip_states':tip_states}\n",
    "# #TODO: generator expression yield {'tme':tme,'tip_states':tip_states}\n",
    "\n",
    "tips = get_tips(contours_raw, contours_inc)\n",
    "print(f\"\\n number of type 1 contour = {len(contours_raw)},\\tnumber of type 2 contour = {len(contours_inc)},\")\n",
    "print(f\"\"\"the topological tip state is the following:\n",
    "{tips[0]}\"\"\")\n",
    "print(f\"\"\"x position of tips: {tips[1]}\"\"\")\n",
    "print(f\"\"\"y position of tips: {tips[2]}\"\"\")"
   ]
  },
  {
   "cell_type": "markdown",
   "metadata": {
    "heading_collapsed": true,
    "slideshow": {
     "slide_type": "slide"
    }
   },
   "source": [
    "# example: _step forward in time and get the spiral tips_"
   ]
  },
  {
   "cell_type": "markdown",
   "metadata": {
    "hidden": true,
    "slideshow": {
     "slide_type": "subslide"
    }
   },
   "source": [
    "<img alt=\"\" src=\"Figures/ex1.png\" style=\"height:600px;width:500px\" />"
   ]
  },
  {
   "cell_type": "markdown",
   "metadata": {
    "ExecuteTime": {
     "end_time": "2020-05-26T17:02:07.598689Z",
     "start_time": "2020-05-26T17:02:07.594452Z"
    },
    "hidden": true,
    "slideshow": {
     "slide_type": "subslide"
    }
   },
   "source": [
    "<img alt=\"\" src=\"Figures/ex2.png\" style=\"height:600px;width:500px\" />"
   ]
  },
  {
   "cell_type": "markdown",
   "metadata": {
    "ExecuteTime": {
     "end_time": "2020-05-26T17:02:14.752236Z",
     "start_time": "2020-05-26T17:02:14.747842Z"
    },
    "hidden": true,
    "slideshow": {
     "slide_type": "subslide"
    }
   },
   "source": [
    "<img alt=\"\" src=\"Figures/ex3.png\" style=\"height:600px;width:500px\" />"
   ]
  },
  {
   "cell_type": "code",
   "execution_count": 19,
   "metadata": {
    "ExecuteTime": {
     "end_time": "2020-05-26T19:28:31.100719Z",
     "start_time": "2020-05-26T19:28:31.077553Z"
    },
    "hidden": true,
    "slideshow": {
     "slide_type": "skip"
    }
   },
   "outputs": [],
   "source": [
    "# from numba import vectorize, float64, int32, int64, float32\n",
    "# @vectorize([int32(int32, int32),\n",
    "#             int64(int64, int64),\n",
    "#             float32(float32, float32),\n",
    "#             float64(float64, float64)])\n",
    "\n",
    "#     for x in x_lst:\n",
    "#         return 1. if x > 0 else 0.\n",
    "# ifilter(txt[...,0])\n",
    "# del state\n",
    "# tip_state_lst = []\n"
   ]
  },
  {
   "cell_type": "markdown",
   "metadata": {
    "slideshow": {
     "slide_type": "slide"
    }
   },
   "source": [
    "# _integrate explicitely in time for nsteps_"
   ]
  },
  {
   "cell_type": "code",
   "execution_count": null,
   "metadata": {
    "ExecuteTime": {
     "start_time": "2020-05-28T03:32:38.855Z"
    },
    "slideshow": {
     "slide_type": "fragment"
    }
   },
   "outputs": [
    {
     "name": "stdout",
     "output_type": "stream",
     "text": [
      "Progress: |█████████████████████████████████████████████-----| 91.3% Complete\r"
     ]
    }
   ],
   "source": [
    "##Change: 6pm 5.27.2020 - changed outputs from lists to tuples for easier parsing\n",
    "\n",
    "#integrate explicitely in time\n",
    "timing = False\n",
    "recording = True\n",
    "h = 0.1\n",
    "nsteps = 18*10**3#36*10**3#36*10**3#nonparallel currently runs at 6000 steps per hour #np.int64(tmax/h)# tmax = 1\n",
    "start = time.time()\n",
    "tip_states = None\n",
    "state = np.zeros((512,512,4),dtype=np.float64)\n",
    "# if timing:\n",
    "#     start = time.time()\n",
    "for step in range(nsteps):\n",
    "    if not recording:\n",
    "        #integrate explicitely in time\n",
    "        time_step(txt, h=h, zero_txt=zero_txt)\n",
    "        tme += h\n",
    "#         if timing:\n",
    "#             print(f\"time stepped in {time.time()-start:.4f} seconds.\")\n",
    "#             start = time.time()\n",
    "    if recording:\n",
    "        #calculate discrete flow map\n",
    "        dtexture_dt = zero_txt.copy()\n",
    "        get_time_step(txt, dtexture_dt)\n",
    "        \n",
    "        #integrate explicitely in time by the forward euler method\n",
    "        txt += h*dtexture_dt\n",
    "        tme += h\n",
    "        \n",
    "        #compute contours here\n",
    "        #calculate raw contour field for contours\n",
    "        img_nxt = txt[..., 0].copy()\n",
    "\n",
    "        # get_tissue_state(texture=txt, out=state[...])\n",
    "        #         if timing:\n",
    "        #             print(f\"filters computed in {time.time()-start:.4f} seconds.\")\n",
    "        #             start = time.time()\n",
    "        #compute contours here   \n",
    "        #plot contours, if any.  type 1 = contours_raw, type 2 = contours_inc\n",
    "        # img_inc = (img_nxt * ifilter(dtexture_dt[..., 0]))**2  #mask of instantaneously increasing voltages \n",
    "        # img_inc = filters.gaussian(img_inc,sigma=1.)#,truncate=1.0)\n",
    "        \n",
    "        #plot contours, if any.  type 1 = contours_raw, type 2 = contours_inc\n",
    "        img_inc = ifilter(dtexture_dt[..., 0])  #mask of instantaneously increasing voltages \n",
    "        img_inc = filters.gaussian(img_inc,sigma=sigma, mode='wrap')\n",
    "        contours_raw = measure.find_contours(img_nxt, level=0.5,fully_connected='low',positive_orientation='low')\n",
    "        contours_inc = measure.find_contours(img_inc, level=threshold)#,fully_connected='low',positive_orientation='low')\n",
    "\n",
    "        #the following line doesn't work, the kernel filters.gaussian is actually larger than 1 pixel radius. get_inc(dtexture_dt[..., 0],img_inc)\n",
    "#         contours_raw, contours_inc = get_contours(img_nxt,img_inc)\n",
    "#         if timing:\n",
    "#             print(f\"contours computed in {time.time()-start:.4f} seconds.\")\n",
    "#             start = time.time()\n",
    "\n",
    "        #compute spiral tips from the corssings \n",
    "        n_lst, x_lst, y_lst = get_tips(contours_raw, contours_inc)\n",
    "        tip_state_lst.append({\n",
    "                    't': float(np.around(tme, 1)),\n",
    "                    'x': tuple(x_lst),\n",
    "                    'y': tuple(y_lst),\n",
    "                    's': tuple(n_lst)})\n",
    "#         if timing:\n",
    "#             print(f\"results computed/appended in {time.time()-start:.4f} seconds.\\n\")\n",
    "    printProgressBar(step + 1, nsteps, prefix = 'Progress:', suffix = 'Complete', length = 50)\n",
    "#report the bottom line up front\n",
    "print(f\"time integration complete. time elapsed was {time.time()-start:.2f} seconds\")\n",
    "print(f\"current time is {tme:.1f}.\")\n",
    "print(f\"number of nan pixel voltages is {np.max(sum(np.isnan(txt[...,0])))}.\")\n",
    "print(f\"current max voltage is {np.nanmax(txt[...,0]):.4f}.\")\n",
    "print(f\"current max fast variable is {np.nanmax(txt[...,1]):.4f}.\")\n",
    "print(f\"current max slow variable is {np.nanmax(txt[...,2]):.4f}.\")\n",
    "n_lst, x_lst, y_lst = get_tips(contours_raw, contours_inc)\n",
    "tip_states = {'n': n_lst, 'x': x_lst, 'y': y_lst}\n",
    "# print(f\"tip_states are {tip_states}.\")\n",
    "# print(f'current tip state is {tip_states}')\n",
    "# if len(lst)~=0:\n",
    "# print(f\"number of tips is = {set([len(q) for q in lst_x[-1]])}.\") #most recent number of tips\n",
    "\n",
    "if recording:\n",
    "    tips = get_tips(contours_raw, contours_inc);\n",
    "    print(f\"\\n number of type 1 contour = {len(contours_raw)},\\tnumber of type 2 contour = {len(contours_inc)},\")\n",
    "    print(f\"\"\"the topological tip state is the following:\n",
    "    {tips[0]}\"\"\")\n",
    "beep(3)"
   ]
  },
  {
   "cell_type": "markdown",
   "metadata": {
    "ExecuteTime": {
     "end_time": "2020-05-26T19:25:21.292483Z",
     "start_time": "2020-05-26T19:25:21.267590Z"
    },
    "slideshow": {
     "slide_type": "slide"
    }
   },
   "source": [
    "# plot buffer state with contours and spiral tips"
   ]
  },
  {
   "cell_type": "code",
   "execution_count": null,
   "metadata": {
    "ExecuteTime": {
     "start_time": "2020-05-28T03:33:19.139Z"
    },
    "slideshow": {
     "slide_type": "subslide"
    }
   },
   "outputs": [],
   "source": [
    "#view/save the buffer with contours and tips plotted\n",
    "save = True\n",
    "save_file_name = f'buffer_{perturb}_at_time_{tme:.1f}'\n",
    "save_dir = f\"Figures/{save_file_name}.png\"\n",
    "image = txt.copy()\n",
    "\n",
    "#compute display data\n",
    "h = 0.1\n",
    "# state = np.zeros((512,512,4),dtype=np.float64)\n",
    "# get_tissue_state(texture=txt, out=state[...])\n",
    "dtexture_dt = zero_txt.copy()\n",
    "get_time_step(txt, dtexture_dt)\n",
    "img_nxt = txt[...,0].copy()\n",
    "img_inc = txt[...,0].copy()\n",
    "#plot figure\n",
    "plt.figure(figsize=(15,15))\n",
    "plt.imshow(img_nxt,cmap='Reds', vmin=0, vmax=1)\n",
    "# plt.title(\"voltage increases with red\", fontsize=24)\n",
    "\n",
    "#plot contours, if any.  type 1 = contours_raw, type 2 = contours_inc\n",
    "img_inc = ifilter(dtexture_dt[..., 0])  #mask of instantaneously increasing voltages \n",
    "img_inc = filters.gaussian(img_inc,sigma=sigma, mode='wrap')\n",
    "contours_raw = measure.find_contours(img_nxt, level=0.5,fully_connected='low',positive_orientation='low')\n",
    "contours_inc = measure.find_contours(img_inc, level=threshold,fully_connected='low',positive_orientation='low')\n",
    "for n, contour in enumerate(contours_inc):\n",
    "    plt.plot(contour[:, 1], contour[:, 0], linewidth=2, c='g', zorder=2)\n",
    "for n, contour in enumerate(contours_raw):\n",
    "    plt.plot(contour[:, 1], contour[:, 0], linewidth=2, c='b', zorder=2)\n",
    "plt.axis('off')\n",
    "\n",
    "#plot tips, if any\n",
    "tips = get_tips(contours_raw, contours_inc)\n",
    "n_values, y_values, x_values = tips\n",
    "for j in range(len(tips[2])): #nota bene, tips[2] is x_values\n",
    "    plt.scatter(x = tips[2][j], y = tips[1][j], c='yellow', s=int(800/(j+1)), zorder=3, marker = '*')\n",
    "print(f\"current time is {tme:.1f}\")\n",
    "print(f\"number of type 1 contour = {len(contours_raw)},\\tnumber of type 2 contour = {len(contours_inc)},\")\n",
    "print(f\"\"\"the topological tip state is the following: {n_values}\"\"\")\n",
    "print(f\"\"\"x coords: {x_values}\"\"\")\n",
    "print(f\"\"\"y coords: {y_values}\"\"\")\n",
    "if save:\n",
    "    plt.savefig(save_dir)\n",
    "    np.save(f'Data/{save_file_name}.npy', image)\n",
    "    print('file saved at')\n",
    "    print(f'Data/{save_file_name}.npy')\n",
    "#     np.savez_compressed(f'Data/{save_file_name}.npz', image)\n",
    "else:\n",
    "    plt.show()"
   ]
  },
  {
   "cell_type": "code",
   "execution_count": null,
   "metadata": {
    "ExecuteTime": {
     "end_time": "2020-05-27T21:02:48.848072Z",
     "start_time": "2020-05-27T21:02:48.647312Z"
    }
   },
   "outputs": [],
   "source": []
  },
  {
   "cell_type": "markdown",
   "metadata": {
    "slideshow": {
     "slide_type": "slide"
    }
   },
   "source": [
    "# *save tip_state_lst as .csv*\n",
    "`# print(tip_state_lst)# pd.DataFrame(tip_state_lst)\n",
    "df = pd.DataFrame(tip_state_lst)\n",
    "perturb='circle6'\n",
    "df.to_csv(f'Data/tip_log_{perturb}_at_time_{tme:.1f}.csv', index=False)`"
   ]
  },
  {
   "cell_type": "code",
   "execution_count": null,
   "metadata": {
    "ExecuteTime": {
     "start_time": "2020-05-28T03:33:23.598Z"
    },
    "slideshow": {
     "slide_type": "skip"
    }
   },
   "outputs": [],
   "source": [
    "save = True\n",
    "if save:\n",
    "    # print(tip_state_lst)# pd.DataFrame(tip_state_lst)\n",
    "    df = pd.DataFrame(tip_state_lst)\n",
    "    df.to_csv(f'Data/tip_log_{perturb}_at_time_{tme:.1f}.csv', index=False)\n",
    "print('saved to:')\n",
    "print(f'Data/tip_log_{perturb}_at_time_{tme:.1f}.csv')"
   ]
  },
  {
   "cell_type": "markdown",
   "metadata": {
    "slideshow": {
     "slide_type": "slide"
    }
   },
   "source": [
    "### _accuracy benchmark_\n",
    "- upon visual inspection, the current tip detection method appears robust after waiting a sufficient amount of time after the right perturbation\n",
    "- TODO: plot spiral tip number as a function of time for an overnight data run.  the topological measure should work if there's any false positive intersections between a given contour pair. "
   ]
  },
  {
   "cell_type": "code",
   "execution_count": 474,
   "metadata": {
    "ExecuteTime": {
     "end_time": "2020-05-26T16:24:14.386945Z",
     "start_time": "2020-05-26T16:24:12.981327Z"
    },
    "slideshow": {
     "slide_type": "skip"
    }
   },
   "outputs": [],
   "source": []
  },
  {
   "cell_type": "code",
   "execution_count": null,
   "metadata": {
    "ExecuteTime": {
     "end_time": "2020-05-27T18:12:43.185208Z",
     "start_time": "2020-05-27T18:12:43.163959Z"
    },
    "slideshow": {
     "slide_type": "skip"
    }
   },
   "outputs": [],
   "source": []
  },
  {
   "cell_type": "markdown",
   "metadata": {
    "heading_collapsed": true,
    "slideshow": {
     "slide_type": "slide"
    }
   },
   "source": [
    "### _speed benchmark_\n",
    "- $\\sim6,000$ time steps per hour of runtime _with tip recording_\n",
    "- $\\sim60,000$ steps per hour of runtime _with tip recording_\n",
    "- get_tips is still taking ~99% of the runtime.  It looks like intersection is the worst offender"
   ]
  },
  {
   "cell_type": "code",
   "execution_count": 4,
   "metadata": {
    "ExecuteTime": {
     "end_time": "2020-05-27T14:51:30.655543Z",
     "start_time": "2020-05-27T14:51:30.643459Z"
    },
    "hidden": true
   },
   "outputs": [
    {
     "data": {
      "text/plain": [
       "[1.2]"
      ]
     },
     "execution_count": 4,
     "metadata": {},
     "output_type": "execute_result"
    }
   ],
   "source": [
    "import numba\n",
    "a = numba.typed.List()\n",
    "a.append(1.2)\n"
   ]
  },
  {
   "cell_type": "code",
   "execution_count": null,
   "metadata": {
    "ExecuteTime": {
     "end_time": "2020-05-27T14:48:52.768876Z",
     "start_time": "2020-05-27T14:48:50.318673Z"
    },
    "hidden": true,
    "slideshow": {
     "slide_type": "subslide"
    }
   },
   "outputs": [],
   "source": []
  },
  {
   "cell_type": "code",
   "execution_count": 11,
   "metadata": {
    "ExecuteTime": {
     "end_time": "2020-05-27T14:55:46.984680Z",
     "start_time": "2020-05-27T14:55:46.959702Z"
    },
    "hidden": true
   },
   "outputs": [],
   "source": []
  },
  {
   "cell_type": "code",
   "execution_count": 14,
   "metadata": {
    "ExecuteTime": {
     "end_time": "2020-05-27T14:56:53.352276Z",
     "start_time": "2020-05-27T14:56:53.327767Z"
    },
    "hidden": true
   },
   "outputs": [
    {
     "ename": "TypeError",
     "evalue": "__init__() takes 1 positional argument but 2 were given",
     "output_type": "error",
     "traceback": [
      "\u001b[0;31m---------------------------------------------------------------------------\u001b[0m",
      "\u001b[0;31mTypeError\u001b[0m                                 Traceback (most recent call last)",
      "\u001b[0;32m<ipython-input-14-e28f2f042314>\u001b[0m in \u001b[0;36m<module>\u001b[0;34m\u001b[0m\n\u001b[0;32m----> 1\u001b[0;31m \u001b[0mList\u001b[0m\u001b[0;34m(\u001b[0m\u001b[0mcontours_raw\u001b[0m\u001b[0;34m)\u001b[0m\u001b[0;34m\u001b[0m\u001b[0;34m\u001b[0m\u001b[0m\n\u001b[0m",
      "\u001b[0;31mTypeError\u001b[0m: __init__() takes 1 positional argument but 2 were given"
     ]
    }
   ],
   "source": []
  },
  {
   "cell_type": "code",
   "execution_count": 95,
   "metadata": {
    "ExecuteTime": {
     "end_time": "2020-05-27T21:03:45.674731Z",
     "start_time": "2020-05-27T21:03:45.654868Z"
    },
    "hidden": true
   },
   "outputs": [],
   "source": [
    "# # @njit\n",
    "# def get_tips(contours_raw, contours_inc):\n",
    "#     '''returns tips with indices of parent contours'''\n",
    "#     n_list = List(); x_lst = List(); y_lst = List()\n",
    "#     for n1, c1 in enumerate(contours_raw):\n",
    "#         for n2, c2 in enumerate(contours_inc):\n",
    "#             x1, y1 = (c1[:, 0], c1[:, 1])\n",
    "#             x2, y2 = (c2[:, 0], c2[:, 1])\n",
    "#             x, y = intersection(x1, y1, x2, y2)\n",
    "#             # if a tip has been detected, save it and its contour id's\n",
    "#             if len(x)>0:\n",
    "#                 s = (n1,n2)\n",
    "#                 x = list(x)\n",
    "#                 # x.sort()\n",
    "#                 y = list(y)\n",
    "#                 # y.sort()\n",
    "#                 n_list.append(s)\n",
    "#                 x_lst.append(x)\n",
    "#                 y_lst.append(y)\n",
    "#     return n_list, x_lst, y_lst\n",
    "# contours_raw, contours_inc = get_contours(img_nxt,img_inc)\n",
    "# retval = get_tips(contours_raw, contours_inc)"
   ]
  },
  {
   "cell_type": "markdown",
   "metadata": {
    "hidden": true
   },
   "source": [
    " - get tips takes 1.57s using python lists\n",
    " - get tips takes 1.5s using numba lists"
   ]
  },
  {
   "cell_type": "markdown",
   "metadata": {
    "ExecuteTime": {
     "end_time": "2020-05-26T06:04:37.600499Z",
     "start_time": "2020-05-26T06:04:37.575331Z"
    },
    "hidden": true,
    "slideshow": {
     "slide_type": "skip"
    }
   },
   "source": [
    "- time stepped in 1.6616 seconds.\n",
    "- filters computed in 0.0573 seconds.\n",
    "- contours computed in 0.0226 seconds.\n",
    "- results computed/appended in 1.4652 seconds."
   ]
  },
  {
   "cell_type": "markdown",
   "metadata": {
    "hidden": true,
    "slideshow": {
     "slide_type": "skip"
    }
   },
   "source": [
    "- time stepped in 0.0626 seconds.\n",
    "- filters computed in 0.0639 seconds.\n",
    "- contours computed in 0.0109 seconds.\n",
    "- results computed/appended in 0.7851 seconds."
   ]
  },
  {
   "cell_type": "markdown",
   "metadata": {
    "ExecuteTime": {
     "end_time": "2020-05-26T06:20:45.460391Z",
     "start_time": "2020-05-26T06:20:45.429722Z"
    },
    "heading_collapsed": true,
    "slideshow": {
     "slide_type": "skip"
    }
   },
   "source": [
    "# scratchwork for saving tips"
   ]
  },
  {
   "cell_type": "code",
   "execution_count": 186,
   "metadata": {
    "ExecuteTime": {
     "end_time": "2020-05-26T05:51:17.191737Z",
     "start_time": "2020-05-26T05:51:17.169865Z"
    },
    "hidden": true,
    "slideshow": {
     "slide_type": "skip"
    }
   },
   "outputs": [],
   "source": [
    "# import pickle"
   ]
  },
  {
   "cell_type": "code",
   "execution_count": 96,
   "metadata": {
    "ExecuteTime": {
     "end_time": "2020-05-27T21:04:31.967804Z",
     "start_time": "2020-05-27T21:04:31.941484Z"
    },
    "hidden": true,
    "slideshow": {
     "slide_type": "skip"
    }
   },
   "outputs": [],
   "source": [
    "# #save lst of tips when desired\n",
    "# save = False\n",
    "# lst = tip_state_lst[-2:]\n",
    "# #get equally spaced t_values\n",
    "# if save:\n",
    "#     out = lst\n",
    "#     observation_no = len(out)\n",
    "#     t_now = np.around(tme, 1)  #current time in units consistent with timestep, h\n",
    "#     t_init = np.around(t_now - (observation_no + 1) * h, 1)\n",
    "#     t_values = np.arange(t_init, t_now, h) + h\n",
    "#     print(f\"t_values are {t_values}\")\n",
    "#     # assert(len(t_values)==len(x_values)==len(y_values))\n",
    "#     #loop through the spiral tips #TODO: @njit if saving is needed frequently.  #TODO(later): consider involving nvme\n",
    "#     index_values = []\n",
    "\n",
    "#     num_tips_values = []\n",
    "#     for n, (t, yx) in enumerate(list(zip(t_values, out))):\n",
    "#         #DONE: form trajectories by sorting by distance from previous frame\n",
    "\n",
    "#         #TODO(later): compute additional features using lib calls here\n",
    "#         num_tips = len(list(x))\n",
    "#         #print out the data\n",
    "#         #     print((n, t, num_tips, list(x), list(y)))\n",
    "#         if ~(len(lst)==0):\n",
    "#             print(f\"number of tips is = {set([len(q) for q in lst_x])}.\") #most recent number of tips\n",
    "\n",
    "#         #append the data to feature lists\n",
    "#         index_values.append(n)\n",
    "#         x_values.append(x)\n",
    "#         y_values.append(y)\n",
    "#         num_tips_values.append(num_tips)\n",
    "\n",
    "#     #TODO: save as a pandas dataframe\n",
    "#     # df = pd.DataFrame(save_dir, index='index')"
   ]
  },
  {
   "cell_type": "code",
   "execution_count": null,
   "metadata": {
    "ExecuteTime": {
     "end_time": "2020-05-26T00:58:05.359213Z",
     "start_time": "2020-05-26T00:58:01.280Z"
    },
    "hidden": true,
    "slideshow": {
     "slide_type": "skip"
    }
   },
   "outputs": [],
   "source": [
    "# len(x_values)\n",
    "# df = pd.DataFrame(dict(zip(columns,(t_values,num_tips_values,x_values,y_values))), index=index_values)\n",
    "# df.head()"
   ]
  },
  {
   "cell_type": "code",
   "execution_count": null,
   "metadata": {
    "ExecuteTime": {
     "end_time": "2020-05-25T23:23:19.254543Z",
     "start_time": "2020-05-25T23:23:19.225081Z"
    },
    "hidden": true,
    "slideshow": {
     "slide_type": "skip"
    }
   },
   "outputs": [],
   "source": []
  },
  {
   "cell_type": "code",
   "execution_count": null,
   "metadata": {
    "ExecuteTime": {
     "end_time": "2020-05-26T00:58:05.362061Z",
     "start_time": "2020-05-26T00:58:01.283Z"
    },
    "hidden": true,
    "slideshow": {
     "slide_type": "skip"
    }
   },
   "outputs": [],
   "source": [
    "# #define save location\n",
    "# save = False\n",
    "# columns = ['t', 'num_tips','x','y']\n",
    "# save_dir = f\"Data/tip_log/{t_init+h:.1f}_through_{t_now}.csv\"\n",
    "# csv_props = {'mode':'w', 'tupleize_cols':None,\"index_label\":'index'}\n",
    "# df.to_csv(save_dir,**csv_props)\n",
    "# if save:\n",
    "#     print(f\"saved to {save_dir}.\")"
   ]
  },
  {
   "cell_type": "markdown",
   "metadata": {
    "ExecuteTime": {
     "end_time": "2020-05-25T03:39:17.731492Z",
     "start_time": "2020-05-25T03:39:17.706079Z"
    },
    "slideshow": {
     "slide_type": "slide"
    }
   },
   "source": [
    "# _plot each channel of the latest texture_"
   ]
  },
  {
   "cell_type": "code",
   "execution_count": null,
   "metadata": {
    "ExecuteTime": {
     "start_time": "2020-05-28T03:33:47.136Z"
    },
    "slideshow": {
     "slide_type": "subslide"
    }
   },
   "outputs": [],
   "source": [
    "#plot contours\n",
    "saving = True\n",
    "# perturb = 'circle6'\n",
    "# print(f\"tip_states are {tip_states}.\")\n",
    "\n",
    "#compute current texture rate of change\n",
    "h = 0.1\n",
    "dtexture_dt = zero_txt.copy()\n",
    "get_time_step(txt, dtexture_dt)\n",
    "state = np.zeros((512,512,4),dtype=np.float64)\n",
    "get_tissue_state(texture=txt, out=state[...])\n",
    "\n",
    "#figure\n",
    "fig, ((a1, a2, a3),(a4, a5, a6),(a7, a8, a9)) = plt.subplots(3,3,figsize=(20,20));\n",
    "axs = (a1, a2, a3, a4, a5, a6, a7, a8, a9)\n",
    "\n",
    "#plot textures\n",
    "a1, a2, a3 = plot_texture(txt, vmins=(0, 0, 0), vmaxs=(1, 1, 1), ax1=a1, ax2=a2, ax3=a3,\n",
    "                          title0 = 'voltage',\n",
    "                          title1 = 'fast variable',\n",
    "                          title2 = 'slow variable');\n",
    "a4, a5, a6 = plot_texture(dtexture_dt/h, vmins=(0, 0, 0), vmaxs=(1, 1, 1), ax1=a4, ax2=a5, ax3=a6,\n",
    "                          title0 = 'change in voltage',\n",
    "                          title1 = 'change in fast variable',\n",
    "                          title2 = 'change in slow variable');\n",
    "a7, a8, a9 = plot_texture(state[...,1:],  vmins=(-.01, -.01, -.01), vmaxs=(.01, .01, .01),ax1=a7, ax2=a8, ax3=a9,\n",
    "                          title0 = 'fast inward current (Na$^+$)',\n",
    "                          title1 = 'slow outward current (K$^{+}$)',\n",
    "                          title2 = 'slow inward current (Ca$^{2+}$)');\n",
    "\n",
    "#plot contours and tips , if any\n",
    "for ax in axs:\n",
    "    plot_contours(ax, contours_raw, contours_inc, color_raw='green', color_inc='blue', lw=1)\n",
    "    for j in range(len(tips[2])): #nota bene, tips[2] is x_values\n",
    "        ax.scatter(x = tips[2][j], y = tips[1][j], c='yellow', s=int(200/(j+1)), zorder=3, marker = '*')\n",
    "if saving:\n",
    "    save_dir = f\"Figures/buffer_array_{perturb}_time_{tme:.1f}.png\"\n",
    "    print(f\"saving in {save_dir}.\")\n",
    "    fig.savefig(save_dir, dpi = 512/10)\n",
    "    fig.savefig(save_dir.replace('.png', '.svg'))\n",
    "else:\n",
    "    fig.show()"
   ]
  },
  {
   "cell_type": "code",
   "execution_count": 93,
   "metadata": {
    "ExecuteTime": {
     "end_time": "2020-05-27T14:46:52.847790Z",
     "start_time": "2020-05-27T14:46:52.828145Z"
    },
    "slideshow": {
     "slide_type": "subslide"
    }
   },
   "outputs": [],
   "source": [
    "# #DONE: compute contours that intersect\n",
    "# # ifilter = np.vectorize(lambda x,x_old: 1. if x>x_old else 0.)\n",
    "# img_nxt = txt[..., 0]\n",
    "# img_inc = img_nxt*ifilter(dtexture_dt[...,0])#,zero_txt[...,0]+0.01) #mask of increasing cells instantaneously\n",
    "# contours_inc = measure.find_contours(img_inc, level=0.4)\n",
    "# contours_raw = measure.find_contours(img_nxt,level=0.8,fully_connected='low',positive_orientation='low')\n",
    "\n",
    "\n",
    "\n",
    "        \n",
    "# for ax,axl in list(zip(axs,axsl)):\n",
    "#     ax = plot_contours(axl, contours_raw, contours_inc)\n",
    "\n",
    "#compute tip_states\n",
    "# n_lst, x_lst, y_lst = enumerate_tips(get_tips(contours_raw, contours_inc))\n",
    "# tip_states = {'n':n_lst,'x':x_lst,'y':y_lst}\n",
    "# print(f\"tip_states are {tip_states}.\")    \n",
    "# if saving:\n",
    "#     save_dir1 = f\"Figures/describe_buffer_{perturb}_top_time_{tme:.1f}.png\"\n",
    "#     plt.savefig(save_dir1, dpi=512 / 10)\n",
    "# if saving:\n",
    "#     save_dir2 = f\"Figures/describe_buffer_{perturb}_bottom_time_{tme:.1f}.png\"\n",
    "#     plt.savefig(save_dir2, dpi=512 / 10)\n",
    "# else:\n",
    "#     plt.show()\n",
    "\n",
    "#plot currents Ifi, Iso, Isi\n",
    "\n",
    "# saving = False\n",
    "# tips = get_tips(\n",
    "# contours_raw\n",
    "# , \n",
    "# enumerate_tips( \n",
    "# get_tips(contours_raw,contours_inc)\n",
    "# contours_raw = measure.find_contours(img_nxt,level=5,fully_connected='low',positive_orientation='low')\n",
    "\n",
    "# fig, axs = display_texture(state[...,1:],  vmins=(-.01, -.01, -.01), vmaxs=(.01, .01, .01),\n",
    "#                           title0 = 'fast inward current (Na$^+$)',\n",
    "#                           title1 = 'slow outward current (K$^{+}$)',\n",
    "#                           title2 = 'slow inward current (Ca$^{2+}$)');\n",
    "\n",
    "# #TODO: compute contours that intersect\n",
    "# img_nxt = txt[..., 0]\n",
    "# # img_inc = dtexture_dt[..., 0]\n",
    "# img_inc = state[...,1]\n",
    "# # img_inc = dtexture_dt[..., 0]\n",
    "# # contours_raw = measure.find_contours(img_nxt,level=5,fully_connected='low',positive_orientation='low')\n",
    "# # contours_inc = measure.find_contours(img_inc, level=.5)\n",
    "\n",
    "# #plot contours, if any\n",
    "# for ax in axs:\n",
    "#     plot_contours(ax, contours_raw, contours_raw, lw=1)\n",
    "#     plot_contours(ax, contours_inc, contours_inc, lw=1)\n",
    "# axs[1].set_title('ion channel currents\\nchannel 1')\n",
    "# # len(contours_inc)!=0\n",
    "# # for c in contours_inc:\n",
    "# #     print(c)\n",
    "# # # )\n",
    "# # len(tips)==0\n",
    "\n",
    "#plot contours and tips , if any\n",
    "# for ax in axs:\n",
    "#     plot_contours(ax, contours_raw, contours_inc, color_raw='green', color_inc='blue', lw=1)\n",
    "#     for j in range(len(tips[2])): #nota bene, tips[2] is x_values\n",
    "#         ax.scatter(x = tips[2][j], y = tips[1][j], c='yellow', s=int(200/(j+1)), zorder=3, marker = '*')\n",
    "# if saving:\n",
    "#     save_dir = f\"Figures/buffer_array_{perturb}_time_{tme:.1f}.png\"\n",
    "#     print(f\"saving in {save_dir}.\")\n",
    "#     fig.savefig(save_dir, dpi = 512/10)\n",
    "# else:\n",
    "#     fig.show()"
   ]
  },
  {
   "cell_type": "code",
   "execution_count": 88,
   "metadata": {
    "ExecuteTime": {
     "end_time": "2020-05-27T14:41:46.727931Z",
     "start_time": "2020-05-27T14:41:46.708381Z"
    },
    "slideshow": {
     "slide_type": "skip"
    }
   },
   "outputs": [],
   "source": [
    "# #compute current texture rate of change/tissue current\n",
    "# h = 0.1\n",
    "# dtexture_dt = zero_txt.copy()\n",
    "# get_time_step(txt, dtexture_dt)\n",
    "# state = np.zeros((512,512,4),dtype=np.float64)\n",
    "# get_tissue_state(texture=txt, out=state[...])\n",
    "\n",
    "# #calculate raw contour field for contours\n",
    "# img_nxt = txt[...,0]\n",
    "# #calculate nonraw field for contours\n",
    "# # ifilter = np.vectorize(lambda x,x_old: 1. if x>x_old else 0.)\n",
    "# img_inc = img_nxt*ifilter(dtexture_dt[...,0])#,zero_txt[...,0]+0.0) #mask of increasing cells instantaneously\n",
    "\n",
    "# # img_inc = img_nxt*ifilter(state[...,0],zero_txt[...,0]-0.0) #mask of increasing cells instantaneously\n",
    "# # img_inc = img_nxt*ifilter(dtexture_dt[...,0],zero_txt[...,0]+0.0) #mask of increasing cells instantaneously\n",
    "# # img_inc = filters.gaussian(img_inc,sigma=1,truncate=1.0)\n",
    "\n",
    "# #plot figure\n",
    "# plt.figure(figsize=(15,15))\n",
    "# plt.imshow(img_nxt,cmap='Reds')\n",
    "# # plt.imshow(img_inc,cmap='Reds')\n",
    "\n",
    "\n",
    "# #plot contours, if any\n",
    "# contours_inc = measure.find_contours(img_inc, level=0.5)\n",
    "# contours_raw = measure.find_contours(img_nxt, level=0.8)\n",
    "# for n, contour in enumerate(contours_inc):\n",
    "#     plt.plot(contour[:, 1], contour[:, 0], linewidth=2, c='b', zorder=2)\n",
    "# for n, contour in enumerate(contours_raw):\n",
    "#     plt.plot(contour[:, 1], contour[:, 0], linewidth=2, c='g', zorder=2)\n",
    "# plt.axis('off')"
   ]
  },
  {
   "cell_type": "code",
   "execution_count": 492,
   "metadata": {
    "ExecuteTime": {
     "end_time": "2020-05-26T16:40:53.471877Z",
     "start_time": "2020-05-26T16:40:53.447678Z"
    },
    "slideshow": {
     "slide_type": "skip"
    }
   },
   "outputs": [],
   "source": [
    "# #TODO: compute contours that intersect\n",
    "# save=False\n",
    "\n",
    "# #compute current texture rate of change/tissue current\n",
    "# h = 0.1\n",
    "# dtexture_dt = zero_txt.copy()\n",
    "# get_time_step(txt, dtexture_dt)\n",
    "# state = np.zeros((512,512,4),dtype=np.float64)\n",
    "# get_tissue_state(texture=txt, out=state[...])\n",
    "\n",
    "# #calculate raw contour\n",
    "# # img_nxt = txt[..., 0]          #green raw voltage threshold\n",
    "# # contours_raw = measure.find_contours(img_nxt,level=5, fully_connected='low', positive_orientation='low')\n",
    "\n",
    "# #calculate nonraw contour\n",
    "# # ifilter = np.vectorize(lambda x,x_old: 1. if x>x_old else 0.)\n",
    "# # img_inc = ifilter(state[...,1],zero_txt[...,0]+0.01) #mask of increasing cells instantaneously\n",
    "\n",
    "# # img_inc = ifilter(dtexture_dt[...,0],zero_txt[...,0]+0.01) #mask of increasing cells instantaneously\n",
    "# # img_inc = ifilter(dtexture_dt[...,0],zero_txt[...,0]+0.01) #mask of increasing cells instantaneously\n",
    "# # img_inc = filters.gaussian(img_inc,sigma=1,truncate=1.0)\n",
    "# # img_inc = state[..., 1]  #blue  other threshold\n",
    "# # img_inc = dtexture_dt[..., 1]  #blue  other threshold\n",
    "\n",
    "# #detect whether a pixel is increasing or decreasing.  \n",
    "# # ifilter = np.vectorize(lambda x,x_old: 1. if x>x_old else 0.)\n",
    "# # img_inc = ifilter(dtexture_dt[...,0],1+zero_txt[...,0]) #mask of increasing cells between a few frames\n",
    "# # contours_inc = measure.find_contours(img_inc, level=5, fully_connected='low', positive_orientation='low')\n",
    "\n",
    "# #get contours by a marching squares algorithm (which can be parallelized to increase performance in theory)\n",
    "# # contours_raw = measure.find_contours(image_nxt, level=0.3, fully_connected='low', positive_orientation='low')\n",
    "# # contours_edge = measure.find_contours(inc, 0.5)\n",
    "\n",
    "# #plot zoomed in contours\n",
    "# save = False\n",
    "# fig, ax  = plt.subplots(figsize=(16, 16));\n",
    "# plot_contours(ax, contours_raw, contours_inc)\n",
    "# ax.axis('off')\n",
    "# if save:\n",
    "#     save_dir = f\"Figures/contours_time_{tme:.1f}.png\"\n",
    "#     print(f\"saving in {save_dir}.\")\n",
    "#     fig.savefig(save_dir, dpi = 512/16, transparent=True)"
   ]
  },
  {
   "cell_type": "markdown",
   "metadata": {
    "heading_collapsed": true,
    "slideshow": {
     "slide_type": "slide"
    }
   },
   "source": [
    "# preliminary plot of spiral tip number as a function of time"
   ]
  },
  {
   "cell_type": "code",
   "execution_count": 97,
   "metadata": {
    "ExecuteTime": {
     "end_time": "2020-05-27T21:05:29.178540Z",
     "start_time": "2020-05-27T21:05:29.076709Z"
    },
    "hidden": true,
    "slideshow": {
     "slide_type": "skip"
    }
   },
   "outputs": [
    {
     "data": {
      "text/html": [
       "<div>\n",
       "<style scoped>\n",
       "    .dataframe tbody tr th:only-of-type {\n",
       "        vertical-align: middle;\n",
       "    }\n",
       "\n",
       "    .dataframe tbody tr th {\n",
       "        vertical-align: top;\n",
       "    }\n",
       "\n",
       "    .dataframe thead th {\n",
       "        text-align: right;\n",
       "    }\n",
       "</style>\n",
       "<table border=\"1\" class=\"dataframe\">\n",
       "  <thead>\n",
       "    <tr style=\"text-align: right;\">\n",
       "      <th></th>\n",
       "      <th>s</th>\n",
       "      <th>t</th>\n",
       "      <th>x</th>\n",
       "      <th>y</th>\n",
       "    </tr>\n",
       "  </thead>\n",
       "  <tbody>\n",
       "    <tr>\n",
       "      <th>0</th>\n",
       "      <td>[(3, 1), (4, 2)]</td>\n",
       "      <td>1800.3</td>\n",
       "      <td>[[196.8407840951389, 209.83820215863255], [211...</td>\n",
       "      <td>[[83.46699026764462, 141.80605421626368], [365...</td>\n",
       "    </tr>\n",
       "    <tr>\n",
       "      <th>1</th>\n",
       "      <td>[(3, 1), (4, 2)]</td>\n",
       "      <td>1800.4</td>\n",
       "      <td>[[197.02152849851242, 209.81171765379497], [21...</td>\n",
       "      <td>[[83.3420417531074, 141.81962461562725], [365....</td>\n",
       "    </tr>\n",
       "    <tr>\n",
       "      <th>2</th>\n",
       "      <td>[(3, 1), (4, 2)]</td>\n",
       "      <td>1800.5</td>\n",
       "      <td>[[196.98427021616945, 209.8325819711444], [211...</td>\n",
       "      <td>[[83.31211707898439, 141.8843817384126], [365....</td>\n",
       "    </tr>\n",
       "    <tr>\n",
       "      <th>3</th>\n",
       "      <td>[(3, 1), (4, 2)]</td>\n",
       "      <td>1800.6</td>\n",
       "      <td>[[197.13729601023485, 209.8233718079548], [211...</td>\n",
       "      <td>[[83.21649072334598, 141.91664112944588], [365...</td>\n",
       "    </tr>\n",
       "    <tr>\n",
       "      <th>4</th>\n",
       "      <td>[(3, 1), (4, 2)]</td>\n",
       "      <td>1800.7</td>\n",
       "      <td>[[197.08971953279817, 209.89878646896085], [21...</td>\n",
       "      <td>[[83.18586057246104, 142.03296347332005], [365...</td>\n",
       "    </tr>\n",
       "  </tbody>\n",
       "</table>\n",
       "</div>"
      ],
      "text/plain": [
       "                  s       t  \\\n",
       "0  [(3, 1), (4, 2)]  1800.3   \n",
       "1  [(3, 1), (4, 2)]  1800.4   \n",
       "2  [(3, 1), (4, 2)]  1800.5   \n",
       "3  [(3, 1), (4, 2)]  1800.6   \n",
       "4  [(3, 1), (4, 2)]  1800.7   \n",
       "\n",
       "                                                   x  \\\n",
       "0  [[196.8407840951389, 209.83820215863255], [211...   \n",
       "1  [[197.02152849851242, 209.81171765379497], [21...   \n",
       "2  [[196.98427021616945, 209.8325819711444], [211...   \n",
       "3  [[197.13729601023485, 209.8233718079548], [211...   \n",
       "4  [[197.08971953279817, 209.89878646896085], [21...   \n",
       "\n",
       "                                                   y  \n",
       "0  [[83.46699026764462, 141.80605421626368], [365...  \n",
       "1  [[83.3420417531074, 141.81962461562725], [365....  \n",
       "2  [[83.31211707898439, 141.8843817384126], [365....  \n",
       "3  [[83.21649072334598, 141.91664112944588], [365...  \n",
       "4  [[83.18586057246104, 142.03296347332005], [365...  "
      ]
     },
     "execution_count": 97,
     "metadata": {},
     "output_type": "execute_result"
    }
   ],
   "source": [
    "# Data/tip_log_chaos_circle6_sigma_2_wrapping_at_time_1800.0.csv\n",
    "# data_dir = 'Data/tip_log_circle6_at_time_3012.8.csv'\n",
    "# data_dir = 'Data/tip_log_circle6_params_changed_at_time_1800.0.csv'\n",
    "data_dir = 'Data/tip_log_chaos_circle6_sigma_2_at_time_3600.2.csv'\n",
    "df = pd.read_csv(data_dir)\n",
    "df.head()"
   ]
  },
  {
   "cell_type": "code",
   "execution_count": 98,
   "metadata": {
    "ExecuteTime": {
     "end_time": "2020-05-27T21:05:43.575168Z",
     "start_time": "2020-05-27T21:05:38.178341Z"
    },
    "hidden": true,
    "slideshow": {
     "slide_type": "subslide"
    }
   },
   "outputs": [],
   "source": [
    "t_values = []\n",
    "n_values = []\n",
    "for j in range(df.t.size):\n",
    "    t = df.iloc[j].t\n",
    "    t_values.append(t)\n",
    "    x = df.iloc[j].x\n",
    "    n = x.replace('[','').replace(']','').count('.')\n",
    "    n_values.append(n)"
   ]
  },
  {
   "cell_type": "code",
   "execution_count": 99,
   "metadata": {
    "ExecuteTime": {
     "end_time": "2020-05-27T21:05:56.233641Z",
     "start_time": "2020-05-27T21:05:55.788456Z"
    },
    "hidden": true,
    "slideshow": {
     "slide_type": "fragment"
    }
   },
   "outputs": [
    {
     "data": {
      "text/plain": [
       "Text(0, 0.5, 'number of spiral tips')"
      ]
     },
     "execution_count": 99,
     "metadata": {},
     "output_type": "execute_result"
    },
    {
     "data": {
      "image/png": "[encoded data removed]",
      "text/plain": [
       "<Figure size 432x432 with 1 Axes>"
      ]
     },
     "metadata": {
      "needs_background": "light"
     },
     "output_type": "display_data"
    }
   ],
   "source": [
    "fig, ax = plt.subplots(figsize=(6,6))\n",
    "ax.scatter(x=t_values, y=n_values)\n",
    "dn_values = np.diff(np.array(n_values))\n",
    "ax.set_xlabel('time', fontsize=24)\n",
    "ax.set_ylabel('number of spiral tips', fontsize=24)"
   ]
  },
  {
   "cell_type": "code",
   "execution_count": 100,
   "metadata": {
    "ExecuteTime": {
     "end_time": "2020-05-27T21:06:05.259724Z",
     "start_time": "2020-05-27T21:06:05.234162Z"
    },
    "hidden": true
   },
   "outputs": [
    {
     "data": {
      "text/plain": [
       "[0, 1, 2, 4, 6, 8, -1, -4, -2]"
      ]
     },
     "execution_count": 100,
     "metadata": {},
     "output_type": "execute_result"
    }
   ],
   "source": [
    "dn_values = np.diff(np.array(n_values))\n",
    "#select the birth/deaths values that are odd\n",
    "list(set(dn_values))\n",
    "# plt.hist(np.diff(np.array(n_values)), bins = 2)"
   ]
  },
  {
   "cell_type": "markdown",
   "metadata": {
    "slideshow": {
     "slide_type": "slide"
    }
   },
   "source": [
    "# TODO: add comfortable user interface for generating tip data files -  i.e. for\n",
    "1. loading an initialized texture, \n",
    "1. time stepping nsteps at a time step of h, \n",
    "1. regularly appending spiral tip locations to .txt file\n",
    "    - also append local state information, voltage, fast/slow variable, and laplacian of voltage"
   ]
  },
  {
   "cell_type": "markdown",
   "metadata": {
    "ExecuteTime": {
     "end_time": "2020-05-25T23:49:22.826318Z",
     "start_time": "2020-05-25T23:49:22.499335Z"
    },
    "slideshow": {
     "slide_type": "slide"
    }
   },
   "source": [
    "# question: how to optimize the consistency spiral tip locations between frames?\n",
    "_(i.e.?) what's the best threshold for either contour?_<br>\n",
    "- TODO: Address ^this by plotting spiral tip features as a function of time for \n",
    "1. the simple easy case of two isolated spiral tips\n",
    "2. the case of spiral defect chaos\n",
    "3. times shortly after an external perturbation\n",
    "- TODO: plot _versus_ time for all spiral tips, \n",
    "    - kinematics: x position, y position, total tip number, \n",
    "        - angular velocity, velocity, radius, chirality\n",
    "    - kinetics: voltage, Ifi, Isi, Iso\n",
    "    - ^those relative to the values for the entangled tip\n",
    "- TODO: See how ^these values change for different choices in contour thresholds"
   ]
  },
  {
   "cell_type": "markdown",
   "metadata": {
    "slideshow": {
     "slide_type": "slide"
    }
   },
   "source": [
    "# TODO: test whether topological number state is robust to contours that touch the periodic boundary.  My guess is no, and that it is nontrivial to test this.  Thankfully the easiest case of two isolated tips always has at least one string touching"
   ]
  },
  {
   "cell_type": "markdown",
   "metadata": {
    "slideshow": {
     "slide_type": "slide"
    }
   },
   "source": [
    "# Appendix/et cetera/TODO(later)"
   ]
  },
  {
   "cell_type": "markdown",
   "metadata": {
    "heading_collapsed": true,
    "slideshow": {
     "slide_type": "skip"
    }
   },
   "source": [
    "## completed: _intersection of two curves_\n",
    "one call to intersect from lib finds two spiral tips in ~20ms.  not bad"
   ]
  },
  {
   "cell_type": "code",
   "execution_count": 422,
   "metadata": {
    "ExecuteTime": {
     "end_time": "2020-05-26T16:10:29.255740Z",
     "start_time": "2020-05-26T16:10:28.701101Z"
    },
    "hidden": true,
    "slideshow": {
     "slide_type": "skip"
    }
   },
   "outputs": [
    {
     "name": "stdout",
     "output_type": "stream",
     "text": [
      "9\n",
      "8\n",
      "[(4, 3)]\n"
     ]
    },
    {
     "data": {
      "image/png": "[encoded data removed]",
      "text/plain": [
       "<Figure size 1152x1152 with 1 Axes>"
      ]
     },
     "metadata": {
      "needs_background": "light"
     },
     "output_type": "display_data"
    }
   ],
   "source": [
    "print(len(contours_raw))\n",
    "print(len(contours_inc))\n",
    "fig, ax  = plt.subplots(figsize=(16, 16));\n",
    "plot_contours(ax, contours_raw, contours_inc)\n",
    "# tips = get_tips( contours_raw, contours_inc)\n",
    "print(tips[0])"
   ]
  },
  {
   "cell_type": "code",
   "execution_count": 18,
   "metadata": {
    "ExecuteTime": {
     "end_time": "2020-05-27T17:06:36.174691Z",
     "start_time": "2020-05-27T17:06:36.135248Z"
    },
    "hidden": true
   },
   "outputs": [],
   "source": [
    "# from lib.intersection import *\n",
    "# enumerate_tips(\n",
    "# list_tips(\n",
    "# def list_tips\n",
    "\n",
    "# a, b = 1, 2\n",
    "# phi = np.linspace(3, 10, 100)\n",
    "# x1 = a * phi - b * np.sin(phi)\n",
    "# y1 = a - b * np.cos(phi)\n",
    "\n",
    "# x2 = phi\n",
    "# y2 = np.sin(phi) + 2\n",
    "# x, y = intersection(x1, y1, x2, y2)\n",
    "\n",
    "# plt.plot(x1, y1, c='r')\n",
    "# plt.plot(x2, y2, c='g')\n",
    "# plt.plot(x, y, '*k')\n",
    "# plt.show()\n",
    "# tips[1][2]"
   ]
  },
  {
   "cell_type": "code",
   "execution_count": 19,
   "metadata": {
    "ExecuteTime": {
     "end_time": "2020-05-27T17:06:39.044986Z",
     "start_time": "2020-05-27T17:06:39.024703Z"
    },
    "hidden": true
   },
   "outputs": [],
   "source": [
    "# dtexture_dt = np.zeros((width, height, channel_no), dtype=np.float64)\n",
    "# get_time_step(txt, dtexture_dt)\n",
    "# display_texture(txt, vmins=(0, 0, 0), vmaxs=(1, 1, 1))\n",
    "# display_texture(dtexture_dt, vmins=(-1, -1, -1), vmaxs=(1, 1, 1))\n",
    "# describe_texture(txt[..., 0])\n",
    "# describe_texture(txt[..., 1])\n",
    "# describe_texture(txt[..., 2])\n",
    "\n",
    "# c1  = contours_raw[0]; c2 = contours_inc[2];\n",
    "# x1, y1 = (c1[:, 0], c1[:, 1])\n",
    "# x2, y2 = (c2[:, 0], c2[:, 1])\n",
    "# x_array, y_array = intersection(x1, y1, x2, y2)"
   ]
  },
  {
   "cell_type": "code",
   "execution_count": null,
   "metadata": {
    "ExecuteTime": {
     "end_time": "2020-05-26T00:51:50.543032Z",
     "start_time": "2020-05-26T00:51:50.519893Z"
    },
    "hidden": true
   },
   "outputs": [],
   "source": []
  },
  {
   "cell_type": "code",
   "execution_count": null,
   "metadata": {
    "ExecuteTime": {
     "end_time": "2020-05-26T00:58:05.374872Z",
     "start_time": "2020-05-26T00:58:01.319Z"
    },
    "hidden": true
   },
   "outputs": [],
   "source": [
    "# [contours_inc[2]]\n",
    "# #get contours\n",
    "# if 'contours_raw' not in globals():\n",
    "#     contours_raw=[]\n",
    "# if 'contours_edge' not in globals():\n",
    "#     contours_edge=[]\n",
    "# assert(type(contours_raw))\n",
    "# assert(type(contours_raw))\n"
   ]
  },
  {
   "cell_type": "markdown",
   "metadata": {
    "ExecuteTime": {
     "end_time": "2020-05-25T01:44:50.410508Z",
     "start_time": "2020-05-25T01:44:50.384371Z"
    },
    "slideshow": {
     "slide_type": "skip"
    }
   },
   "source": [
    "## TODO: set running for awhile, while recording spiral tips"
   ]
  },
  {
   "cell_type": "markdown",
   "metadata": {
    "ExecuteTime": {
     "end_time": "2020-05-25T01:40:28.322687Z",
     "start_time": "2020-05-25T01:40:28.291489Z"
    },
    "heading_collapsed": true,
    "slideshow": {
     "slide_type": "slide"
    }
   },
   "source": [
    "## TODO?: make/test rotate function for exception handling in intersect()\n",
    "- Nota bene: I'm not observing warning messages anymore from intersect().  Did it's problem go away with improved thresholding?\n",
    "_application: retry funny intersection calls with a 45º rotation_<br>\n",
    "`scipy.ndimage.rotate(input, angle, axes=(1, 0), reshape=True, output=None, order=3, mode='constant', cval=0.0, prefilter=True)`"
   ]
  },
  {
   "cell_type": "code",
   "execution_count": null,
   "metadata": {
    "ExecuteTime": {
     "end_time": "2020-05-26T00:58:05.375936Z",
     "start_time": "2020-05-26T00:58:01.331Z"
    },
    "hidden": true,
    "slideshow": {
     "slide_type": "skip"
    }
   },
   "outputs": [],
   "source": [
    "`scipy.ndimage.rotate(input, angle, axes=(1, 0), reshape=True, output=None, order=3, mode='constant', cval=0.0, prefilter=True)`"
   ]
  },
  {
   "cell_type": "markdown",
   "metadata": {
    "ExecuteTime": {
     "end_time": "2020-05-26T00:58:05.376890Z",
     "start_time": "2020-05-26T00:58:01.333Z"
    },
    "heading_collapsed": true,
    "slideshow": {
     "slide_type": "skip"
    }
   },
   "source": [
    "## completed: _make circle perturbation of zero_txt_"
   ]
  },
  {
   "cell_type": "code",
   "execution_count": 137,
   "metadata": {
    "ExecuteTime": {
     "end_time": "2020-05-26T02:23:56.054805Z",
     "start_time": "2020-05-26T02:23:56.031906Z"
    },
    "hidden": true
   },
   "outputs": [],
   "source": [
    "# @njit\n",
    "# def color_within_range(x0,y0,r, out, val=1.0, width=512,height=512):\n",
    "#     for x in range(width):\n",
    "#         dx = x-x0\n",
    "#         for y in range(height):\n",
    "#             dy = y-y0\n",
    "#             if np.sqrt(dx**2+dy**2)<=r:\n",
    "#                 out[y,x,0] = val\n",
    "# circ_txt = txt.copy()\n",
    "# color_within_range(x0=256,y0=128+32,r=32, out=circ_txt, val=1.)\n",
    "# display_texture(circ_txt)"
   ]
  },
  {
   "cell_type": "code",
   "execution_count": null,
   "metadata": {
    "ExecuteTime": {
     "end_time": "2020-05-26T02:23:46.550452Z",
     "start_time": "2020-05-26T02:23:46.209278Z"
    },
    "hidden": true
   },
   "outputs": [],
   "source": []
  },
  {
   "cell_type": "code",
   "execution_count": 124,
   "metadata": {
    "ExecuteTime": {
     "end_time": "2020-05-26T02:21:26.646609Z",
     "start_time": "2020-05-26T02:21:26.604670Z"
    },
    "hidden": true
   },
   "outputs": [],
   "source": [
    "describe_texture?"
   ]
  },
  {
   "cell_type": "code",
   "execution_count": null,
   "metadata": {
    "ExecuteTime": {
     "end_time": "2020-05-26T02:13:56.373331Z",
     "start_time": "2020-05-26T02:13:56.347916Z"
    },
    "hidden": true
   },
   "outputs": [],
   "source": []
  },
  {
   "cell_type": "code",
   "execution_count": null,
   "metadata": {
    "hidden": true
   },
   "outputs": [],
   "source": []
  },
  {
   "cell_type": "markdown",
   "metadata": {
    "heading_collapsed": true
   },
   "source": [
    "# the biggest time sink by far\n",
    "the get_tips function contributes 1.9s out of 1.9s of runtime.  of that, 1.65 of the seconds are from intersection(), which is parallelizeable."
   ]
  },
  {
   "cell_type": "code",
   "execution_count": 78,
   "metadata": {
    "ExecuteTime": {
     "end_time": "2020-05-27T15:31:38.194922Z",
     "start_time": "2020-05-27T15:31:38.167322Z"
    },
    "hidden": true
   },
   "outputs": [],
   "source": [
    "# #what tip detection algorithm works best for algorithm two?\n",
    "# # @jit\n",
    "# def get_contours(img_nxt,img_inc):\n",
    "#     contours_raw = measure.find_contours(img_nxt, level=0.5,fully_connected='low',positive_orientation='low')\n",
    "#     contours_inc = measure.find_contours(img_inc, level=0.9)#,fully_connected='low',positive_orientation='low')\n",
    "#     return contours_raw, contours_inc\n",
    "\n",
    "# from numba.typed import List\n",
    "\n",
    "# ###TODO: use the nested datatypes from numba\n",
    "# # @jit\n",
    "# def get_tips(contours_raw, contours_inc):\n",
    "#     '''returns tips with indices of parent contours'''\n",
    "#     n_list = []; x_lst = []; y_lst = []\n",
    "#     start = time.time()\n",
    "#     was = 0\n",
    "#     for n1, c1 in enumerate(contours_raw):\n",
    "#         for n2, c2 in enumerate(contours_inc):\n",
    "#             x1, y1 = (c1[:, 0], c1[:, 1])\n",
    "#             x2, y2 = (c2[:, 0], c2[:, 1])\n",
    "#             # tmp = intersection(x1, y1, x2, y2)\n",
    "#             start = time.time()\n",
    "#             x, y = intersection(x1, y1, x2, y2)\n",
    "#             was += start-time.time()\n",
    "#             # if a tip has been detected, save it and it's contour id's\n",
    "#             if len(x)>0:     \n",
    "#                 s = (n1,n2)\n",
    "#                 x = list(x)\n",
    "#                 # x.sort()\n",
    "#                 y = list(y)\n",
    "#                 # y.sort()\n",
    "#                 # tmp = (s,x,y)\n",
    "#                 # tips.append(tmp)\n",
    "#                 n_list.append(s)\n",
    "#                 x_lst.append(x)\n",
    "#                 y_lst.append(y)\n",
    "#     print(f\"time appending was {was}.\")\n",
    "#     return n_list, x_lst, y_lst\n",
    "# contours_raw, contours_inc = get_contours(img_nxt,img_inc)\n",
    "# retval = get_tips(contours_raw, contours_inc)\n",
    "# print(retval)\n",
    "# # #plot contours, if any.  type 1 = contours_raw, type 2 = contours_inc\n",
    "# # img_inc = ifilter(dtexture_dt[..., 0])  #mask of instantaneously increasing voltages \n",
    "# # img_inc = filters.gaussian(img_inc,sigma=1.)\n",
    "# # contours_raw, contours_inc = get_contours(img_nxt,img_inc)\n",
    "\n",
    "# # X1 = np.arange(9).reshape(3,3)\n",
    "# # X1.min(axis=1)\n",
    "# # x1 = X1\n",
    "# # _rect_inter_inner(x1, x1)\n",
    "# # np.c_[x1[:-1], x1[1:]]\n",
    "# # np.concatenate((x1[:-1], x1[1:]),axis=1)\n",
    "# # # np.c_?\n",
    "# np.array(np.min(contours_raw[0][:, 0]))\n",
    "# contours_raw[0][:, 0].min(axis=0)\n",
    "\n",
    "# # @njit\n",
    "# def _rect_inter_inner(x1, x2):\n",
    "#     # assert(type(x1)==np.ndarray)\n",
    "#     # assert(type(x2)==np.ndarray)\n",
    "#     n1 = x1.shape[0]-1\n",
    "#     n2 = x2.shape[0]-1\n",
    "#     X1 = np.concatenate((x1[:-1], x1[1:]),axis=1)#np.c_[x1[:-1], x1[1:]]\n",
    "#     X2 = np.c_[x2[:-1], x2[1:]]\n",
    "#     S1 = np.tile(X1.min(axis=1), (n2, 1)).T\n",
    "#     S2 = np.tile(X2.max(axis=1), (n1, 1))\n",
    "#     S3 = np.tile(X1.max(axis=1), (n2, 1)).T\n",
    "#     S4 = np.tile(X2.min(axis=1), (n1, 1))\n",
    "#     return S1, S2, S3, S4"
   ]
  }
 ],
 "metadata": {
  "celltoolbar": "Slideshow",
  "kernelspec": {
   "display_name": "Python 3",
   "language": "python",
   "name": "python3"
  },
  "language_info": {
   "codemirror_mode": {
    "name": "ipython",
    "version": 3
   },
   "file_extension": ".py",
   "mimetype": "text/x-python",
   "name": "python",
   "nbconvert_exporter": "python",
   "pygments_lexer": "ipython3",
   "version": "3.7.7"
  },
  "varInspector": {
   "cols": {
    "lenName": 16,
    "lenType": 16,
    "lenVar": 40
   },
   "kernels_config": {
    "python": {
     "delete_cmd_postfix": "",
     "delete_cmd_prefix": "del ",
     "library": "var_list.py",
     "varRefreshCmd": "print(var_dic_list())"
    },
    "r": {
     "delete_cmd_postfix": ") ",
     "delete_cmd_prefix": "rm(",
     "library": "var_list.r",
     "varRefreshCmd": "cat(var_dic_list()) "
    }
   },
   "position": {
    "height": "846.85px",
    "left": "2103.5px",
    "right": "20px",
    "top": "120px",
    "width": "350px"
   },
   "types_to_exclude": [
    "module",
    "function",
    "builtin_function_or_method",
    "instance",
    "_Feature"
   ],
   "window_display": false
  }
 },
 "nbformat": 4,
 "nbformat_minor": 4
}
