{
 "cells": [
  {
   "cell_type": "markdown",
   "metadata": {},
   "source": [
    "# Measuring spiral tip area density versus lengthscale\n",
    "Tim Tyree<br>\n",
    "12.25.2020"
   ]
  },
  {
   "cell_type": "markdown",
   "metadata": {},
   "source": [
    "tim, stop working. it's christmas for goodness sake..."
   ]
  },
  {
   "cell_type": "code",
   "execution_count": 2,
   "metadata": {
    "ExecuteTime": {
     "end_time": "2020-12-25T21:27:46.770075Z",
     "start_time": "2020-12-25T21:27:44.384678Z"
    }
   },
   "outputs": [
    {
     "name": "stdout",
     "output_type": "stream",
     "text": [
      "Automatic calling is: Smart\n"
     ]
    }
   ],
   "source": [
    "from lib.my_initialization import *\n",
    "# from lib.my_initialization import *\n",
    "from lib.utils.utils_traj import *\n",
    "from lib.viewer import *\n",
    "import trackpy\n",
    "%autocall 1\n",
    "%load_ext autoreload\n",
    "%autoreload 2"
   ]
  },
  {
   "cell_type": "markdown",
   "metadata": {},
   "source": [
    "# Compute trajectories and retracked trajectories for a given tip log file"
   ]
  },
  {
   "cell_type": "code",
   "execution_count": 63,
   "metadata": {
    "ExecuteTime": {
     "end_time": "2020-12-27T23:48:49.980398Z",
     "start_time": "2020-12-27T23:48:49.839070Z"
    }
   },
   "outputs": [],
   "source": [
    "#import a frame and select the number of tips\n",
    "# input_file_name = search_for_file()\n",
    "# input_file_name = '/Users/timothytyree/Documents/GitHub/care/notebooks/Data/initial-conditions-suite-2/ds_5_param_set_8_V_0.5_fastkernel/ic_200x200.001.13_log.csv'\n",
    "input_file_name = '/Users/timothytyree/Documents/GitHub/care/notebooks/Data/initial-conditions-suite-2/ds_5_param_set_8_V_0.5_fastkernel/ic_200x200.001.13_log.csv'\n",
    "\n",
    "\n",
    "#track the trajectories\n",
    "from lib.routines.compute_trajectories import *\n",
    "savefn = routine_compute_trajectories(input_file_name, save_folder=None, input_folder=None,mem = 0, sr  = 400, width = 200, height = 200)\n",
    "beep(3)\n",
    "\n",
    "#retrack the trajectories\n",
    "jump_thresh = 20.\n",
    "LT_thresh=4\n",
    "distance_L2_pbc = get_distance_L2_pbc(width=200,height=200)\n",
    "lifetime_thresh = 50\n",
    "angle_threshold = np.pi/4\n",
    "df = decompose_trajectories(input_file_name=savefn, distance_L2_pbc=distance_L2_pbc,DS = 5./200.,\n",
    "    width=200,height=200,LT_thresh=LT_thresh,tmin=100, jump_thresh=jump_thresh)\n",
    "df_chunked = df.copy()\n",
    "print(f\"the percent of remaining rows not assigned a chunk index = {100*sum(df.cid<0)/df.t.count():.5f}%\")\n",
    "print(f\"the percent of rows that comprise an isolated trajectory = {100*sum(df.groupby('particle').t.count()==1)/df.t.count():.5f}%\")\n",
    "#dropped isolated trajectories\n",
    "#retrack trajectories\n",
    "df,pid2counter=retrack_trajectories(df_chunked,distance_L2_pbc,lifetime_thresh=lifetime_thresh,angle_threshold = angle_threshold,LT_thresh=LT_thresh,DS = 5./200.,width=200,height=200, jump_thresh=jump_thresh)\n",
    "\n",
    "#save the retracked trajectories\n",
    "savefn2=savefn.replace('.csv',f'_retracked_at_{angle_threshold:.3f}_jt_{jump_thresh}_lt_{lifetime_thresh}_LT_{LT_thresh}.csv')\n",
    "df.to_csv(savefn2, index=False)\n",
    "print(f\"saved retracked trajectories to {savefn2}.\")\n",
    "df.head()\n",
    "\n",
    "print(savefn2)\n",
    "beep(3)"
   ]
  },
  {
   "cell_type": "markdown",
   "metadata": {
    "ExecuteTime": {
     "end_time": "2020-12-25T23:07:24.433110Z",
     "start_time": "2020-12-25T23:07:24.409665Z"
    }
   },
   "source": [
    "# TODO: use numpy to compute number of tips in a given rectangle for a given frame.  make this fast with njit"
   ]
  },
  {
   "cell_type": "code",
   "execution_count": 8,
   "metadata": {
    "ExecuteTime": {
     "end_time": "2020-12-25T22:35:36.324762Z",
     "start_time": "2020-12-25T22:35:36.302176Z"
    }
   },
   "outputs": [],
   "source": [
    "#TODO: implement a haar cascade using ^this counting measure as a counting density measure\n",
    "#TODO: make a scatterplot of density on y-axis and on x-axis, the area of rectangle (or min(Lx,Ly), or etc...)\n",
    "#TODO: do ^this for 12-24 frames that are distant and later than t=100ms.  Color markers by time\n",
    "#TODO: repeat ^this procedure for the results of retracking in particle2.  Are there any visual differences?\n",
    "#Hint: scipy.stats.anderson? or scipy.stats....? may provide statistical tests for ^this."
   ]
  },
  {
   "cell_type": "code",
   "execution_count": 67,
   "metadata": {
    "ExecuteTime": {
     "end_time": "2020-12-28T22:17:49.262280Z",
     "start_time": "2020-12-28T22:17:48.677200Z"
    }
   },
   "outputs": [],
   "source": [
    "input_file_name2 = '/Users/timothytyree/Documents/GitHub/care/notebooks/Data/initial-conditions-suite-2/ds_5_param_set_8_V_0.5_fastkernel/ic_200x200.001.13_traj_sr_400_mem_0_retracked_at_0.785_jt_20.0_lt_50_LT_4.csv'\n",
    "df = pd.read_csv(input_file_name2)"
   ]
  },
  {
   "cell_type": "code",
   "execution_count": 57,
   "metadata": {
    "ExecuteTime": {
     "end_time": "2020-12-26T00:04:47.549561Z",
     "start_time": "2020-12-26T00:04:47.524309Z"
    }
   },
   "outputs": [],
   "source": [
    "# frame = 1001\n",
    "# xy = (.5,.5)#)#(100,100)\n",
    "# width=.5#100\n",
    "# height=.5#100\n",
    "# x_values, y_values = df[df.frame==frame][['x','y']].values.T\n",
    "# # plt.scatter(x=x_values,y=y_values,marker='*',s=500,c='yellow')\n",
    "# # rretval = \n",
    "# plt.Rectangle(xy, width, height, angle=0.0,color='k',visible=True).draw()#, **kwargs)\n",
    "# # rretval.draw()\n",
    "# plt.show()"
   ]
  },
  {
   "cell_type": "code",
   "execution_count": 55,
   "metadata": {
    "ExecuteTime": {
     "end_time": "2020-12-26T00:03:04.367636Z",
     "start_time": "2020-12-26T00:03:04.342238Z"
    }
   },
   "outputs": [],
   "source": [
    "# plt.patches.rectangle?\n",
    "# plt.show?"
   ]
  },
  {
   "cell_type": "code",
   "execution_count": 58,
   "metadata": {
    "ExecuteTime": {
     "end_time": "2020-12-26T00:04:51.319367Z",
     "start_time": "2020-12-26T00:04:51.294395Z"
    }
   },
   "outputs": [],
   "source": [
    "# from matplotlib import patches\n",
    "# patches.rectangle?\n",
    "\n"
   ]
  },
  {
   "cell_type": "code",
   "execution_count": 59,
   "metadata": {
    "ExecuteTime": {
     "end_time": "2020-12-26T00:04:52.674378Z",
     "start_time": "2020-12-26T00:04:52.649487Z"
    }
   },
   "outputs": [],
   "source": [
    "# patches.Rectangle?"
   ]
  },
  {
   "cell_type": "code",
   "execution_count": 62,
   "metadata": {
    "ExecuteTime": {
     "end_time": "2020-12-26T19:45:33.178121Z",
     "start_time": "2020-12-26T19:45:33.032863Z"
    }
   },
   "outputs": [],
   "source": [
    "xy = (100,100)\n",
    "w = 100\n",
    "h = 100\n",
    "def is_in_rect(x_value,y_values,x,y,w,h):\n",
    "    if (x<=x_value)&(x_value<x+w):\n",
    "        return True\n",
    "    if (y<=y_value)&(y_value<y+h):\n",
    "        return True\n",
    "    else:\n",
    "        return False"
   ]
  },
  {
   "cell_type": "code",
   "execution_count": null,
   "metadata": {},
   "outputs": [],
   "source": []
  },
  {
   "cell_type": "code",
   "execution_count": null,
   "metadata": {},
   "outputs": [],
   "source": []
  },
  {
   "cell_type": "code",
   "execution_count": null,
   "metadata": {},
   "outputs": [],
   "source": []
  },
  {
   "cell_type": "code",
   "execution_count": null,
   "metadata": {},
   "outputs": [],
   "source": []
  }
 ],
 "metadata": {
  "kernelspec": {
   "display_name": "Python 3",
   "language": "python",
   "name": "python3"
  },
  "language_info": {
   "codemirror_mode": {
    "name": "ipython",
    "version": 3
   },
   "file_extension": ".py",
   "mimetype": "text/x-python",
   "name": "python",
   "nbconvert_exporter": "python",
   "pygments_lexer": "ipython3",
   "version": "3.7.6"
  },
  "toc": {
   "base_numbering": 1,
   "nav_menu": {},
   "number_sections": true,
   "sideBar": true,
   "skip_h1_title": false,
   "title_cell": "Table of Contents",
   "title_sidebar": "Contents",
   "toc_cell": false,
   "toc_position": {},
   "toc_section_display": true,
   "toc_window_display": false
  },
  "varInspector": {
   "cols": {
    "lenName": 16,
    "lenType": 16,
    "lenVar": 40
   },
   "kernels_config": {
    "python": {
     "delete_cmd_postfix": "",
     "delete_cmd_prefix": "del ",
     "library": "var_list.py",
     "varRefreshCmd": "print(var_dic_list())"
    },
    "r": {
     "delete_cmd_postfix": ") ",
     "delete_cmd_prefix": "rm(",
     "library": "var_list.r",
     "varRefreshCmd": "cat(var_dic_list()) "
    }
   },
   "types_to_exclude": [
    "module",
    "function",
    "builtin_function_or_method",
    "instance",
    "_Feature"
   ],
   "window_display": false
  }
 },
 "nbformat": 4,
 "nbformat_minor": 4
}
