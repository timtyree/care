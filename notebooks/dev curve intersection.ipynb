{
 "cells": [
  {
   "cell_type": "markdown",
   "metadata": {},
   "source": [
    "# dev for Getting intersections of curves in numpy"
   ]
  },
  {
   "cell_type": "code",
   "execution_count": 38,
   "metadata": {
    "ExecuteTime": {
     "end_time": "2020-11-04T18:18:39.841285Z",
     "start_time": "2020-11-04T18:18:39.796411Z"
    }
   },
   "outputs": [
    {
     "name": "stdout",
     "output_type": "stream",
     "text": [
      "Automatic calling is: Smart\n",
      "The autoreload extension is already loaded. To reload it, use:\n",
      "  %reload_ext autoreload\n"
     ]
    }
   ],
   "source": [
    "#pylab\n",
    "%matplotlib inline\n",
    "import numpy as np, pandas as pd, matplotlib.pyplot as plt\n",
    "from pylab import imshow, show\n",
    "\n",
    "import skimage as sk\n",
    "from skimage import measure, filters\n",
    "\n",
    "import matplotlib.pyplot as plt, numpy as np, os\n",
    "from numba import njit, jit, vectorize\n",
    "from PIL import Image\n",
    "import imageio\n",
    "# import cv2 as cv\n",
    "\n",
    "#automate the boring stuff\n",
    "from IPython import utils\n",
    "import time, os, sys, re\n",
    "beep = lambda x: os.system(\"echo -n '\\\\a';sleep 0.2;\" * x)\n",
    "if not 'nb_dir' in globals():\n",
    "    nb_dir = os.getcwd()\n",
    "width = 512\n",
    "height = 512\n",
    "channel_no = 3\n",
    "\n",
    "# #load the libraries\n",
    "from lib import *\n",
    "# from lib.operari import *\n",
    "# from lib.ProgressBar import *\n",
    "# from lib.minimal_model import *\n",
    "# from lib.TexturePlot import *\n",
    "# from lib.get_tips import *\n",
    "# from lib.minimal_model import *\n",
    "# from lib.intersection import *\n",
    "\n",
    "\n",
    "# #load the measrue library for robust, simplified, fast tip detection\n",
    "# from lib.measure import find_contours\n",
    "# from lib.measure._utils_find_contours import *\n",
    "# from lib.measure._utils_find_tips import *\n",
    "# from lib.measure._find_tips import *\n",
    "\n",
    "#use cuda via numba\n",
    "from numba import jit, njit, vectorize, cuda, uint32, f8, uint8\n",
    "from numba.typed import List\n",
    "# from lib.contours_to_tips import *\n",
    "\n",
    "%autocall 1\n",
    "%load_ext autoreload\n",
    "%autoreload 2"
   ]
  },
  {
   "cell_type": "markdown",
   "metadata": {
    "heading_collapsed": true
   },
   "source": [
    "### runtime speedtest results"
   ]
  },
  {
   "cell_type": "code",
   "execution_count": 6,
   "metadata": {
    "ExecuteTime": {
     "end_time": "2020-06-23T00:11:00.552398Z",
     "start_time": "2020-06-23T00:11:00.366939Z"
    },
    "hidden": true
   },
   "outputs": [
    {
     "data": {
      "image/png": "[encoded data removed]",
      "text/plain": [
       "<Figure size 432x288 with 1 Axes>"
      ]
     },
     "metadata": {
      "needs_background": "light"
     },
     "output_type": "display_data"
    }
   ],
   "source": [
    "a, b = 1, 2\n",
    "phi = np.linspace(3, 10, 100)\n",
    "x1 = a*phi - b*np.sin(phi)\n",
    "y1 = a - b*np.cos(phi)\n",
    "\n",
    "x2=phi\n",
    "y2=np.sin(phi)+2\n",
    "tips = intersection(x1,y1,x2,y2)\n",
    "x,y = tips\n",
    "\n",
    "plt.plot(x1,y1,c='r')\n",
    "plt.plot(x2,y2,c='g')\n",
    "plt.plot(x,y,'*k')\n",
    "plt.show()"
   ]
  },
  {
   "cell_type": "markdown",
   "metadata": {
    "hidden": true
   },
   "source": [
    "- without numba = 3.34 seconds"
   ]
  },
  {
   "cell_type": "code",
   "execution_count": null,
   "metadata": {
    "hidden": true
   },
   "outputs": [],
   "source": [
    "%time\n",
    "tips = intersection(x1,y1,x2,y2)"
   ]
  },
  {
   "cell_type": "code",
   "execution_count": null,
   "metadata": {
    "hidden": true
   },
   "outputs": [],
   "source": []
  },
  {
   "cell_type": "code",
   "execution_count": null,
   "metadata": {
    "hidden": true
   },
   "outputs": [],
   "source": []
  },
  {
   "cell_type": "markdown",
   "metadata": {
    "heading_collapsed": true
   },
   "source": [
    "# create figures for intersection algorithm\n",
    "- written completely in numpy\n",
    "- input types work with numba.njit or numba.cuda.jit when using tuple(contours_a or b)"
   ]
  },
  {
   "cell_type": "code",
   "execution_count": null,
   "metadata": {
    "hidden": true
   },
   "outputs": [],
   "source": [
    "S1, S2, S3, S4 = _rect_inter_inner(x1, x2)\n",
    "S5, S6, S7, S8 = _rect_inter_inner(y1, y2)"
   ]
  },
  {
   "cell_type": "code",
   "execution_count": null,
   "metadata": {
    "hidden": true
   },
   "outputs": [],
   "source": [
    "fig, axs = plt.subplots(2,4)#,figsize=(8,4))\n",
    "a = list(axs[0])\n",
    "a.extend(list(axs[1]))\n",
    "S_lst = (S1,S2,S3,S4,S5,S6,S7,S8)\n",
    "for n,ax,S in list(zip(range(len(S_lst)), a, S_lst)):\n",
    "#     print(ax)\n",
    "    ax.imshow(S)\n",
    "    ax.axis('off')\n",
    "    ax.set_title(f'$S{n+1}$')\n",
    "fig.savefig('Figures/fast_intersection_coordinates.svg')"
   ]
  },
  {
   "cell_type": "code",
   "execution_count": null,
   "metadata": {
    "hidden": true
   },
   "outputs": [],
   "source": [
    "C1 = np.less_equal(S1, S2)\n",
    "C2 = np.greater_equal(S3, S4)\n",
    "C3 = np.less_equal(S5, S6)\n",
    "C4 = np.greater_equal(S7, S8)\n",
    "\n",
    "fig, axs = plt.subplots(1,4)#,figsize=(8,4))\n",
    "# a = list(axs[0])\n",
    "# a.extend(list(axs[1]))\n",
    "a = axs\n",
    "S_lst = (C1,C2,C3,C4)\n",
    "for n,ax,S in list(zip(range(len(S_lst)), a, S_lst)):\n",
    "#     print(ax)\n",
    "    ax.imshow(S)\n",
    "    ax.axis('off')\n",
    "    ax.set_title(f'$C{n+1}$')\n",
    "fig.savefig('Figures/fast_intersection_booleans.pdf')"
   ]
  },
  {
   "cell_type": "code",
   "execution_count": null,
   "metadata": {
    "hidden": true
   },
   "outputs": [],
   "source": [
    "a, b = 1, 2\n",
    "phi = np.linspace(3, 10, 100)\n",
    "x1 = a*phi - b*np.sin(phi)\n",
    "y1 = a - b*np.cos(phi)\n",
    "\n",
    "x2=phi\n",
    "y2=np.sin(phi)+2\n",
    "tips = intersection(x1,y1,x2,y2)\n",
    "x,y = tips\n",
    "plt.figure(figsize=(4,4))\n",
    "plt.plot(y1,x1,c='r')\n",
    "plt.plot(y2,x2,c='g')\n",
    "plt.plot(y,x,'*b')\n",
    "plt.axis('off')\n",
    "# plt.show()\n",
    "plt.savefig('Figures/fast_intersection_example.svg')"
   ]
  },
  {
   "cell_type": "markdown",
   "metadata": {
    "heading_collapsed": true
   },
   "source": [
    "# Don't spend time on this: make/test rotate function for exception handling in intersect()\n",
    "_application: retry funny intersection calls with a 45º rotation_<br>\n",
    "if intersections(x) fails:\n",
    "    return $R^{-1}\\text{intersections}(X)R$ for rotation by pi/4 in out-of-plane axis<br>\n",
    "`scipy.ndimage.rotate(input, angle, axes=(1, 0), reshape=True, output=None, order=3, mode='constant', cval=0.0, prefilter=True)`"
   ]
  },
  {
   "cell_type": "code",
   "execution_count": 293,
   "metadata": {
    "ExecuteTime": {
     "end_time": "2020-06-21T00:03:59.032415Z",
     "start_time": "2020-06-21T00:03:59.003603Z"
    },
    "hidden": true
   },
   "outputs": [
    {
     "name": "stdout",
     "output_type": "stream",
     "text": [
      "(1024, 1024)\n",
      "(512, 512, 3)\n"
     ]
    }
   ],
   "source": [
    "print(padded_txt.shape)\n",
    "print(dtexture_dt.shape)"
   ]
  },
  {
   "cell_type": "markdown",
   "metadata": {
    "heading_collapsed": true
   },
   "source": [
    "# make intersection enforce pbc!!\n",
    "- DONE: Make a naive padded texture that enforces periodic boundary conditions\n",
    "- DONE: get tips = intersection(padded_texture)\n",
    "- DONE: map tips to original xy coordinates.  do they agree?\n",
    "- DONE: remove duplicate tips\n",
    "- DONE: ^put all that into a function and test it"
   ]
  },
  {
   "cell_type": "code",
   "execution_count": 9,
   "metadata": {
    "ExecuteTime": {
     "end_time": "2020-06-23T00:11:41.853768Z",
     "start_time": "2020-06-23T00:11:41.177555Z"
    },
    "hidden": true
   },
   "outputs": [],
   "source": [
    "#Make a naive padded texture that enforces periodic boundary conditions\n",
    "txt = np.load(f'Data/buffer_chaos_circle6_sigma_5_threshold_0.6_wrapping_true_at_time_5400.0.npy')\n",
    "dtexture_dt = 0.*txt.copy()\n",
    "get_time_step(txt,dtexture_dt)\n",
    "\n",
    "edge_tolerance = 0\n",
    "pad = 0\n",
    "sigma = 1\n",
    "threshold = 0.95\n",
    "\n",
    "padded_txt, dpadded_txt_dt = textures_to_padded_textures(txt, dtexture_dt,pad=pad)\n",
    "\n",
    "print(padded_txt.shape)\n",
    "print(dpadded_txt_dt.shape)\n",
    "\n",
    "#compute contours. type 1 = contours_raw, type 2 = contours_incimg_nxt = padded_txt.copy()\n",
    "# img_inc = ifilter(dtexture_dt[...,0])  #mask of instantaneously increasing voltages \n",
    "# img_nxt = txt[...,0].copy()\n",
    "\n",
    "img_nxt = padded_txt.copy()\n",
    "img_inc = ifilter(dpadded_txt_dt)  #mask of instantaneously increasing voltages \n",
    "\n",
    "img_inc = filters.gaussian(img_inc,sigma=sigma)\n",
    "contours_raw = measure.find_contours(img_nxt, level=0.5,fully_connected='low',positive_orientation='low')\n",
    "contours_inc = measure.find_contours(img_inc, level=threshold)#,fully_connected='low',positive_orientation='low')\n"
   ]
  },
  {
   "cell_type": "code",
   "execution_count": 81,
   "metadata": {
    "ExecuteTime": {
     "end_time": "2020-06-21T01:33:30.789056Z",
     "start_time": "2020-06-21T01:33:29.269331Z"
    },
    "hidden": true
   },
   "outputs": [],
   "source": [
    "#very slow\n",
    "tips = get_tips(contours_raw, contours_inc)\n"
   ]
  },
  {
   "cell_type": "code",
   "execution_count": 82,
   "metadata": {
    "ExecuteTime": {
     "end_time": "2020-06-21T01:33:31.452498Z",
     "start_time": "2020-06-21T01:33:31.429215Z"
    },
    "hidden": true
   },
   "outputs": [],
   "source": [
    "tips_mapped = map_pbc_tips_back(tips=tips, pad=pad, width=width, height=height, \n",
    "                  edge_tolerance=edge_tolerance, atol = 1e-11)"
   ]
  },
  {
   "cell_type": "code",
   "execution_count": 83,
   "metadata": {
    "ExecuteTime": {
     "end_time": "2020-06-21T01:33:32.061413Z",
     "start_time": "2020-06-21T01:33:32.039613Z"
    },
    "hidden": true
   },
   "outputs": [
    {
     "name": "stdout",
     "output_type": "stream",
     "text": [
      "[0.51681319 0.49312792 0.46235195 0.42440005 0.38164578 0.33705901]\n",
      "[0.58550024 0.57815575 0.56990235 0.56036974 0.5489939  0.53489344]\n"
     ]
    }
   ],
   "source": [
    "# tips\n",
    "# tuple(zip(tips_mapped[0],tips_mapped[1]))\n",
    "# print (tips[1]) \n",
    "print(padded_txt[0,:6])\n",
    "print(padded_txt[0,-6:])"
   ]
  },
  {
   "cell_type": "markdown",
   "metadata": {
    "hidden": true
   },
   "source": [
    "The x_list detected by get_tips on the unpadded textures are (34 tips) <br>\n",
    "\n",
    "[[97.09100036936267], [6.147513107552889, 72.9712105344682], [64.41088440865616, 48.041481491625134], [15.321762048943697], [90.23568160583304], [148.81825606463659], [139.53699886287677, 157.87528232611476], [147.05, 138.17267758272294], [221.78214291697648, 270.10350930274546], [257.6795760796632, 226.16001885811693], [295.5212744425695, 261.13572707114207], [292.4127169493853, 308.7858943227497], [372.22666780365154, 323.43091702925756], [363.1027731905096, 340.0836437030766], [312.1554280372389, 292.1349729032081], [368.40060866420106, 412.47552567350823], [485.320695779018, 462.0097089747627], [468.76870711104664, 461.19162917845125], [502.8042469061117], [510.71235915950126]]\n",
    "\n",
    "The x_list detected by tips_mapped on the padded textures are (46 tips) <br>\n",
    "\n",
    "[102.03178111879681,\n",
    " 6.178445577096028,\n",
    " 72.7063691838318,\n",
    " 12.95,\n",
    " 509.1984411398587,\n",
    " 63.70516270841419,\n",
    " 52.45438698581663,\n",
    " 87.39300706936189,\n",
    " 146.95,\n",
    " 145.1615729239311,\n",
    " 148.32046251012093,\n",
    " 138.21855444000835,\n",
    " 155.95,\n",
    " 153.278359121454,\n",
    " 154.227517039747,\n",
    " 142.05,\n",
    " 140.88082255684958,\n",
    " 219.20890476452686,\n",
    " 271.44901484526616,\n",
    " 256.96459429798955,\n",
    " 230.3249528346799,\n",
    " 291.2810586859305,\n",
    " 268.0121830319035,\n",
    " 290.3843458648987,\n",
    " 306.95,\n",
    " 360.7651425654818,\n",
    " 326.7193879129269,\n",
    " 363.2081572055908,\n",
    " 360.2682219642845,\n",
    " 359.73210151834667,\n",
    " 357.3931498365929,\n",
    " 351.4570694001409,\n",
    " 349.6537914133702,\n",
    " 310.95,\n",
    " 291.2836458239073,\n",
    " 356.95,\n",
    " 360.35394286793223,\n",
    " 367.04881462801967,\n",
    " 410.95,\n",
    " 481.86158760515406,\n",
    " 465.5514456331589,\n",
    " 468.76870711104664,\n",
    " 462.53551529392786,\n",
    " 505.04999999999995,\n",
    " 504.606425482708,\n",
    " 504.04999999999995]"
   ]
  },
  {
   "cell_type": "markdown",
   "metadata": {
    "hidden": true
   },
   "source": [
    "__Good Check__: tips_mapped has an x location that is very stable as I vary pad and rejection_distance? __Yes__\n",
    "\n",
    "* pad =100 and rejection_distance = 30 yielded\n",
    "4.757124477254536,\n",
    "314.11883924529235,\n",
    "\n",
    "* pad =100 and rejection_distance = 60 yielded\n",
    "4.757124477254536,\n",
    "314.11883924529235,\n",
    "\n",
    "* pad =10 and rejection_distance = 6 yielded\n",
    "4.757124477254536,\n",
    "314.11883924529235,\n",
    " \n",
    "* pad =0 and rejection_distance = 0 yielded\n",
    "4.757124477254592,\n",
    "314.11883924529235,<br>\n",
    "#^that small difference came from the gaussian filter without b.c.'s I'd bet"
   ]
  },
  {
   "cell_type": "code",
   "execution_count": 84,
   "metadata": {
    "ExecuteTime": {
     "end_time": "2020-06-21T01:33:32.916182Z",
     "start_time": "2020-06-21T01:33:32.888090Z"
    },
    "hidden": true
   },
   "outputs": [
    {
     "name": "stdout",
     "output_type": "stream",
     "text": [
      "34\n"
     ]
    },
    {
     "data": {
      "text/plain": [
       "[94.40598356654313,\n",
       " 4.757124477254592,\n",
       " 70.59466606577625,\n",
       " 63.46909489276186,\n",
       " 50.09620885066247,\n",
       " 15.45556769905707,\n",
       " 93.92799490929426,\n",
       " 148.6264747980347,\n",
       " 142.27515946218438,\n",
       " 158.27770971960348,\n",
       " 145.05953489102177,\n",
       " 139.0844938765144,\n",
       " 223.9352840239717,\n",
       " 266.9757498435436,\n",
       " 257.0868653172777,\n",
       " 228.23974488425034,\n",
       " 297.9859671764745,\n",
       " 262.56554019044415,\n",
       " 296.08708631528293,\n",
       " 310.0086162886364,\n",
       " 369.4868153147052,\n",
       " 326.20033903241574,\n",
       " 360.8296343352165,\n",
       " 340.38624515466046,\n",
       " 314.11883924529235,\n",
       " 293.78258592717316,\n",
       " 370.075292022259,\n",
       " 412.1725760338893,\n",
       " 487.1431335079494,\n",
       " 464.2220087946094,\n",
       " 468.8446973234902,\n",
       " 458.14358634237806,\n",
       " 505.41412966736465,\n",
       " 508.1188092991977]"
      ]
     },
     "execution_count": 84,
     "metadata": {},
     "output_type": "execute_result"
    }
   ],
   "source": [
    "print(count_tips(tips_mapped[2]))\n",
    "tips_mapped[2]"
   ]
  },
  {
   "cell_type": "markdown",
   "metadata": {
    "hidden": true
   },
   "source": [
    "__Good Check__: Does map_pbc_tips_back produce positions consistent with get_tips? __Yes__\n",
    "* pad =0 and rejection_distance = 0 yielded from get_tips\n",
    "4.757124477254592\n",
    "314.11883924529235,\n",
    "\n",
    "* pad =0 and rejection_distance = 0 yielded from map_pbc_tips_back\n",
    "4.757124477254592,\n",
    "314.11883924529235,<br>\n",
    "#^that small difference came from the gaussian filter without b.c.'s I'd bet"
   ]
  },
  {
   "cell_type": "code",
   "execution_count": 86,
   "metadata": {
    "ExecuteTime": {
     "end_time": "2020-06-21T01:36:19.788849Z",
     "start_time": "2020-06-21T01:36:19.758555Z"
    },
    "hidden": true
   },
   "outputs": [
    {
     "name": "stdout",
     "output_type": "stream",
     "text": [
      "34\n"
     ]
    },
    {
     "data": {
      "text/plain": [
       "[[94.40598356654313],\n",
       " [4.757124477254592, 70.59466606577625],\n",
       " [63.46909489276186, 50.09620885066247],\n",
       " [15.45556769905707],\n",
       " [93.92799490929426],\n",
       " [148.6264747980347],\n",
       " [142.27515946218438, 158.27770971960348],\n",
       " [145.05953489102177, 139.0844938765144],\n",
       " [223.9352840239717, 266.9757498435436],\n",
       " [257.0868653172777, 228.23974488425034],\n",
       " [297.9859671764745, 262.56554019044415],\n",
       " [296.08708631528293, 310.0086162886364],\n",
       " [369.4868153147052, 326.20033903241574],\n",
       " [360.8296343352165, 340.38624515466046],\n",
       " [314.11883924529235, 293.78258592717316],\n",
       " [370.075292022259, 412.1725760338893],\n",
       " [487.1431335079494, 464.2220087946094],\n",
       " [468.8446973234902, 458.14358634237806],\n",
       " [505.41412966736465],\n",
       " [508.1188092991977]]"
      ]
     },
     "execution_count": 86,
     "metadata": {},
     "output_type": "execute_result"
    }
   ],
   "source": [
    "print(count_tips(tips[1]))\n",
    "tips[1]"
   ]
  },
  {
   "cell_type": "code",
   "execution_count": 480,
   "metadata": {
    "ExecuteTime": {
     "end_time": "2020-06-21T00:54:24.424953Z",
     "start_time": "2020-06-21T00:54:24.393987Z"
    },
    "hidden": true
   },
   "outputs": [
    {
     "name": "stdout",
     "output_type": "stream",
     "text": [
      "36\n"
     ]
    },
    {
     "data": {
      "text/plain": [
       "[[100.41175720986475],\n",
       " [7.281759284472582, 74.03625776607166],\n",
       " [64.95, 50.809320893227735],\n",
       " [14.95],\n",
       " [89.39645976171033],\n",
       " [148.95, 146.11218723209987, 146.80580926370595],\n",
       " [139.65806825274547, 157.95],\n",
       " [146.05, 140.17623719718864],\n",
       " [221.32255973192264, 272.27239924634904],\n",
       " [258.2020080698836, 228.70568684253377],\n",
       " [294.3217182123119, 263.603777887945],\n",
       " [292.1946101968355, 308.95],\n",
       " [371.4803618267939, 326.402129735965],\n",
       " [364.1027731905096, 341.455422716949],\n",
       " [312.95, 292.53822341213527],\n",
       " [368.6302264195384, 412.95],\n",
       " [483.9784470005337, 464.6164473125706],\n",
       " [469.76870711104664, 463.1320310072285],\n",
       " [506.33764147270784],\n",
       " [509.05]]"
      ]
     },
     "execution_count": 480,
     "metadata": {},
     "output_type": "execute_result"
    }
   ],
   "source": [
    "print(count_tips(tips[1]))\n",
    "tips[1]"
   ]
  },
  {
   "cell_type": "code",
   "execution_count": 509,
   "metadata": {
    "ExecuteTime": {
     "end_time": "2020-06-21T01:11:19.995264Z",
     "start_time": "2020-06-21T01:11:19.972053Z"
    },
    "hidden": true
   },
   "outputs": [
    {
     "data": {
      "text/plain": [
       "-3.620023908932069"
      ]
     },
     "execution_count": 509,
     "metadata": {},
     "output_type": "execute_result"
    }
   ],
   "source": [
    "pad\n",
    "100.41175720986475 - 104.03178111879681"
   ]
  },
  {
   "cell_type": "code",
   "execution_count": 487,
   "metadata": {
    "ExecuteTime": {
     "end_time": "2020-06-21T00:56:09.856151Z",
     "start_time": "2020-06-21T00:56:09.827842Z"
    },
    "hidden": true
   },
   "outputs": [
    {
     "data": {
      "text/plain": [
       "1.1342461769196923"
      ]
     },
     "execution_count": 487,
     "metadata": {},
     "output_type": "execute_result"
    }
   ],
   "source": [
    "7.281759284472582 - 6.147513107552889"
   ]
  },
  {
   "cell_type": "code",
   "execution_count": 488,
   "metadata": {
    "ExecuteTime": {
     "end_time": "2020-06-21T00:56:32.339308Z",
     "start_time": "2020-06-21T00:56:32.309432Z"
    },
    "hidden": true
   },
   "outputs": [
    {
     "data": {
      "text/plain": [
       "-0.5391155913438439"
      ]
     },
     "execution_count": 488,
     "metadata": {},
     "output_type": "execute_result"
    }
   ],
   "source": [
    "64.41088440865616 - 64.95"
   ]
  },
  {
   "cell_type": "code",
   "execution_count": 444,
   "metadata": {
    "ExecuteTime": {
     "end_time": "2020-06-21T00:48:38.395840Z",
     "start_time": "2020-06-21T00:48:38.369149Z"
    },
    "hidden": true
   },
   "outputs": [],
   "source": [
    "def nested_list_to_tuple(numba_lst):\n",
    "    normal_list = []\n",
    "    for lst in numba_lst:\n",
    "        normal_list.append(list(lst))\n",
    "    return normal_list"
   ]
  },
  {
   "cell_type": "code",
   "execution_count": null,
   "metadata": {
    "ExecuteTime": {
     "end_time": "2020-06-21T00:09:25.754978Z",
     "start_time": "2020-06-21T00:09:25.723180Z"
    },
    "hidden": true
   },
   "outputs": [],
   "source": [
    "#make file for logging results\n",
    "output_dir = nb_dir+'/Data/Log'\n",
    "if not os.path.exists(output_dir):\n",
    "    os.mkdir(output_dir)\n",
    "    \n",
    "output_fn = 'test-pbc-tips-1.csv'\n",
    "output_file = get_incremented_output_filename(output_dir, output_fn)\n",
    "# with open(output_file, 'w') as opened_file:\n",
    "#     opened_file.write('s1,s2,t,x,y\\n')\n",
    "# with open(output_file, 'a') as opened_file:\n",
    "#     s1_lst, s2_lst, x_lst, y_lst = map_pbc_tips_back(tips=tips, pad=pad, width=width, height=height, \n",
    "#                   edge_tolerance=edge_tolerance, atol = 1e-11)\n",
    "#     stdout = str((str(tuple(s1_lst)),str(tuple(s2_lst)),float(np.around(tme, 2)),str(tuple(x_lst)),str(tuple(y_lst))))[1:-1]+'\\n'\n",
    "#     stdout.replace(\"\\'\",'''\\\"''')\n",
    "    #     stdout = str((float(np.around(tme, 2)),tuple(s1_lst),tuple(s2_lst),tuple(x_lst),tuple(y_lst)))[1:-1]+'\\n'\n",
    "    opened_file.write(stdout.replace(\"\\'\",'''\\\"'''))\n",
    "    \n",
    "#     printProgressBar(step + 1, nsteps, prefix = 'Progress:', suffix = 'Complete', length = 50)"
   ]
  },
  {
   "cell_type": "code",
   "execution_count": 655,
   "metadata": {
    "ExecuteTime": {
     "end_time": "2020-06-22T21:16:03.050682Z",
     "start_time": "2020-06-22T21:16:03.026417Z"
    },
    "hidden": true
   },
   "outputs": [],
   "source": [
    "# tips"
   ]
  },
  {
   "cell_type": "code",
   "execution_count": 501,
   "metadata": {
    "ExecuteTime": {
     "end_time": "2020-06-21T01:03:39.963347Z",
     "start_time": "2020-06-21T01:03:37.478567Z"
    },
    "hidden": true
   },
   "outputs": [
    {
     "name": "stdout",
     "output_type": "stream",
     "text": [
      "sigma = 0.1 and threshold = 0.95.\n"
     ]
    },
    {
     "data": {
      "image/png": "[encoded data removed]",
      "text/plain": [
       "<Figure size 360x360 with 1 Axes>"
      ]
     },
     "metadata": {
      "needs_background": "light"
     },
     "output_type": "display_data"
    },
    {
     "data": {
      "text/plain": [
       "0"
      ]
     },
     "execution_count": 501,
     "metadata": {},
     "output_type": "execute_result"
    }
   ],
   "source": [
    "n_lst, x_lst, y_lst = get_tips(contours_raw, contours_inc)\n",
    "tip_states = {'n': n_lst, 'x': x_lst, 'y': y_lst}\n",
    "print(f\"sigma = {sigma} and threshold = {threshold}.\")\n",
    "fig = plot_buffer(img_nxt, img_inc, contours_raw, contours_inc, tips, \n",
    "                  figsize=(5,5),max_marker_size=200, lw=1);\n",
    "plt.grid('on')\n",
    "plt.show()\n",
    "beep(2)"
   ]
  },
  {
   "cell_type": "code",
   "execution_count": 26,
   "metadata": {
    "ExecuteTime": {
     "end_time": "2020-06-20T21:45:37.546483Z",
     "start_time": "2020-06-20T21:45:37.522080Z"
    },
    "hidden": true
   },
   "outputs": [],
   "source": [
    "# import pandas as pd\n",
    "\n",
    "# @njit\n",
    "# def unpad(X, pad, width, rejection_distance):\n",
    "#     '''unpads 1 coordinate x or y for the padding: \n",
    "#     [0... pad | pad ... width + pad | width + pad ... width + 2 * pad]\n",
    "#     return -9999 if X is within rejection_distance of the edge,\n",
    "#     return X if X is in [pad ... width + pad], which is if X is in the unpadded frame, which has width = width\n",
    "#     else return X reflected onto the unpadded frame'''\n",
    "#     P  = rejection_distance\n",
    "#     X -= pad\n",
    "#     if X < -P:\n",
    "#         X = -9999 # throw out X later\n",
    "#     elif X < 0:\n",
    "#         X += width\n",
    "#     if X > width+P:\n",
    "#         X = -9999 # throw out X later\n",
    "#     elif X >= width:\n",
    "#         X -= width\n",
    "#     return X"
   ]
  },
  {
   "cell_type": "code",
   "execution_count": 47,
   "metadata": {
    "ExecuteTime": {
     "end_time": "2020-06-20T21:55:17.467878Z",
     "start_time": "2020-06-20T21:55:17.437123Z"
    },
    "hidden": true
   },
   "outputs": [],
   "source": [
    "#padded spiral tips are produced with at pixel percision of about 13 digits.\n",
    "# note that this is not the same as accuracy, which will depend on sigma, threshold, and V_threshold\n",
    "\n",
    "# test functions for unpad\n",
    "assert(0==unpad(X=20, pad=20, width=500, rejection_distance=10))\n",
    "assert(unpad(X=19, pad=20, width=500, rejection_distance=10)==499)\n",
    "assert(280==unpad(X=300, pad=20, width=500, rejection_distance=10))\n",
    "assert(499==unpad(X=519, pad=20, width=500, rejection_distance=10))\n",
    "assert(10==unpad(X=530, pad=20, width=500, rejection_distance=10))\n",
    "assert(-9999==unpad(X=531, pad=20, width=500, rejection_distance=10))\n",
    "assert(490==unpad(X=10, pad=20, width=500, rejection_distance=10))\n",
    "assert(-9999==unpad(X=9, pad=20, width=500, rejection_distance=10))"
   ]
  },
  {
   "cell_type": "code",
   "execution_count": 50,
   "metadata": {
    "ExecuteTime": {
     "end_time": "2020-06-20T22:00:13.637178Z",
     "start_time": "2020-06-20T22:00:13.608772Z"
    },
    "hidden": true
   },
   "outputs": [],
   "source": [
    "# @njit\n",
    "# def unpad_xy_position (position, pad_x, width, rejection_distance_x, \n",
    "#                        pad_y, height, rejection_distance_y):\n",
    "#     x = unpad(X=position[0], pad=pad_x, width=width, rejection_distance=rejection_distance_x)\n",
    "#     y = unpad(X=position[1], pad=pad_y, width=height, rejection_distance=rejection_distance_y)\n",
    "#     return x,y    "
   ]
  },
  {
   "cell_type": "code",
   "execution_count": null,
   "metadata": {
    "ExecuteTime": {
     "end_time": "2020-06-20T21:59:16.550559Z",
     "start_time": "2020-06-20T21:59:16.510622Z"
    },
    "hidden": true
   },
   "outputs": [],
   "source": []
  },
  {
   "cell_type": "code",
   "execution_count": 16,
   "metadata": {
    "ExecuteTime": {
     "end_time": "2020-06-21T01:16:26.977565Z",
     "start_time": "2020-06-21T01:16:26.941457Z"
    },
    "hidden": true
   },
   "outputs": [],
   "source": []
  },
  {
   "cell_type": "code",
   "execution_count": 165,
   "metadata": {
    "ExecuteTime": {
     "end_time": "2020-06-20T23:11:27.559144Z",
     "start_time": "2020-06-20T23:11:27.522273Z"
    },
    "hidden": true
   },
   "outputs": [],
   "source": [
    "# def my_numba_list_to_python_list(numba_lst):\n",
    "#     normal_list = []\n",
    "#     for lst in numba_lst:\n",
    "#         normal_list.append(list(lst))\n",
    "#     return normal_list"
   ]
  },
  {
   "cell_type": "code",
   "execution_count": 365,
   "metadata": {
    "ExecuteTime": {
     "end_time": "2020-06-21T00:25:33.944083Z",
     "start_time": "2020-06-21T00:25:33.921517Z"
    },
    "hidden": true
   },
   "outputs": [
    {
     "data": {
      "text/plain": [
       "499"
      ]
     },
     "execution_count": 365,
     "metadata": {},
     "output_type": "execute_result"
    }
   ],
   "source": [
    "unpad(X=499, pad=0, width=500, rejection_distance=0)"
   ]
  },
  {
   "cell_type": "code",
   "execution_count": 170,
   "metadata": {
    "ExecuteTime": {
     "end_time": "2020-06-20T23:16:38.144833Z",
     "start_time": "2020-06-20T23:16:38.119037Z"
    },
    "hidden": true
   },
   "outputs": [],
   "source": [
    "# tme = 0.038838388\n"
   ]
  },
  {
   "cell_type": "code",
   "execution_count": 177,
   "metadata": {
    "ExecuteTime": {
     "end_time": "2020-06-20T23:19:33.243804Z",
     "start_time": "2020-06-20T23:19:33.212470Z"
    },
    "hidden": true
   },
   "outputs": [],
   "source": [
    "# y_lst\n",
    "#                     's': tuple(n_lst)})\n"
   ]
  },
  {
   "cell_type": "markdown",
   "metadata": {
    "ExecuteTime": {
     "end_time": "2020-06-20T23:19:43.086121Z",
     "start_time": "2020-06-20T23:19:43.057884Z"
    },
    "heading_collapsed": true
   },
   "source": [
    "# (unsuccessful) using a context manager to log tips (slows down sim significantly and doesn't make files that pandas imports easily.\n"
   ]
  },
  {
   "cell_type": "code",
   "execution_count": 255,
   "metadata": {
    "ExecuteTime": {
     "end_time": "2020-06-20T23:49:52.589676Z",
     "start_time": "2020-06-20T23:49:52.561315Z"
    },
    "hidden": true
   },
   "outputs": [],
   "source": [
    "# #make file for logging results\n",
    "# output_dir = nb_dir+'/Data/Log'\n",
    "# if not os.path.exists(output_dir):\n",
    "#     os.mkdir(output_dir)\n",
    "    \n",
    "# output_fn = 'test-pbc-tips-1.csv'\n",
    "# output_file = get_incremented_output_filename(output_dir, output_fn)\n",
    "# with open(output_file, 'w') as opened_file:\n",
    "#     opened_file.write('s1,s2,t,x,y\\n')\n",
    "\n",
    "\n",
    "# with open(output_file, 'a') as opened_file:\n",
    "# #     s1_lst, s2_lst, x_lst, y_lst = map_pbc_tips_back(tips=tips, pad=pad, width=width, height=height, \n",
    "# #                   edge_tolerance=edge_tolerance, atol = 1e-11)\n",
    "# #     stdout = str((str(tuple(s1_lst)),str(tuple(s2_lst)),float(np.around(tme, 2)),str(tuple(x_lst)),str(tuple(y_lst))))[1:-1]+'\\n'\n",
    "# #     stdout.replace(\"\\'\",'''\\\"''')\n",
    "#     #     stdout = str((float(np.around(tme, 2)),tuple(s1_lst),tuple(s2_lst),tuple(x_lst),tuple(y_lst)))[1:-1]+'\\n'\n",
    "#     opened_file.write(stdout.replace(\"\\'\",'''\\\"'''))\n",
    "    \n",
    "# #     printProgressBar(step + 1, nsteps, prefix = 'Progress:', suffix = 'Complete', length = 50)\n",
    "# beep(3)"
   ]
  },
  {
   "cell_type": "code",
   "execution_count": 257,
   "metadata": {
    "ExecuteTime": {
     "end_time": "2020-06-20T23:49:56.206029Z",
     "start_time": "2020-06-20T23:49:56.184436Z"
    },
    "hidden": true
   },
   "outputs": [],
   "source": [
    "# s_mapped_lst, x_mapped_lst, y_mapped_lst = tips_mapped\n",
    "\n"
   ]
  },
  {
   "cell_type": "code",
   "execution_count": 248,
   "metadata": {
    "ExecuteTime": {
     "end_time": "2020-06-20T23:48:05.802585Z",
     "start_time": "2020-06-20T23:48:05.774547Z"
    },
    "hidden": true
   },
   "outputs": [
    {
     "data": {
      "text/plain": [
       "'/Users/timothytyree/Documents/GitHub/care/notebooks/Data/Log/test-pbc-tips-9.csv'"
      ]
     },
     "execution_count": 248,
     "metadata": {},
     "output_type": "execute_result"
    }
   ],
   "source": [
    "# float(np.around(tme, 2))\n",
    "# str(tuple(s1_lst)),str(tuple(s2_lst)),str(tuple(x_lst)),str(tuple(y_lst))\n"
   ]
  },
  {
   "cell_type": "code",
   "execution_count": 88,
   "metadata": {
    "ExecuteTime": {
     "end_time": "2020-06-21T01:58:19.122259Z",
     "start_time": "2020-06-21T01:58:18.727705Z"
    },
    "hidden": true
   },
   "outputs": [
    {
     "name": "stdout",
     "output_type": "stream",
     "text": [
      "100000\n"
     ]
    }
   ],
   "source": [
    "test_fn = 'Data/tip_log_from_ic_600x600.101_at_time_308.5.csv'\n",
    "# pd.read_csv(test_fn)"
   ]
  },
  {
   "cell_type": "code",
   "execution_count": 87,
   "metadata": {
    "ExecuteTime": {
     "end_time": "2020-06-21T01:38:53.241915Z",
     "start_time": "2020-06-21T01:38:53.217341Z"
    },
    "hidden": true
   },
   "outputs": [],
   "source": [
    "# np.argwhere(xy_lst,xy)\n",
    "# pd.read_csv(output_file)#, tupleize_cols=True)"
   ]
  },
  {
   "cell_type": "code",
   "execution_count": null,
   "metadata": {
    "ExecuteTime": {
     "start_time": "2020-06-08T08:56:40.530Z"
    },
    "hidden": true
   },
   "outputs": [],
   "source": [
    "# {'x':tips_mapped[1], 'y': tips_mapped[2]}\n",
    "# tips_mapped[1:]#'s':list(tips_mapped[0])\n",
    "print(tips_mapped[2])\n",
    "# df = pd.DataFrame(tips_mapped[1:])#, columns=['s','x','y'])"
   ]
  },
  {
   "cell_type": "code",
   "execution_count": 254,
   "metadata": {
    "ExecuteTime": {
     "end_time": "2020-06-08T08:34:12.168144Z",
     "start_time": "2020-06-08T08:34:12.142085Z"
    },
    "hidden": true
   },
   "outputs": [
    {
     "name": "stdout",
     "output_type": "stream",
     "text": [
      "[0.00000000e+00 0.00000000e+00 5.68434189e-14 3.41060513e-13\n",
      " 0.00000000e+00 0.00000000e+00 5.68434189e-14 5.68434189e-14\n",
      " 1.13686838e-13 5.68434189e-14 5.68434189e-14 0.00000000e+00]\n"
     ]
    }
   ],
   "source": [
    "series = pd.Series(x_mapped_lst)\n",
    "tol = 1.e-12 #greater than to 5.e-14\n",
    "error_array = np.diff(np.sort(series[series.duplicated()]))\n",
    "print(error_array[error_array<tol])"
   ]
  },
  {
   "cell_type": "code",
   "execution_count": 255,
   "metadata": {
    "ExecuteTime": {
     "end_time": "2020-06-08T08:34:14.525808Z",
     "start_time": "2020-06-08T08:34:14.503337Z"
    },
    "hidden": true
   },
   "outputs": [
    {
     "name": "stdout",
     "output_type": "stream",
     "text": [
      "[0.00000000e+00 0.00000000e+00 5.68434189e-14 5.68434189e-14\n",
      " 0.00000000e+00 0.00000000e+00]\n"
     ]
    }
   ],
   "source": [
    "series = pd.Series(y_mapped_lst)\n",
    "tol = 1.e-12 #greater than to 5.e-14\n",
    "error_array = np.diff(np.sort(series[series.duplicated()]))\n",
    "print(error_array[error_array<tol])"
   ]
  },
  {
   "cell_type": "code",
   "execution_count": 195,
   "metadata": {
    "ExecuteTime": {
     "end_time": "2020-06-08T08:16:03.831967Z",
     "start_time": "2020-06-08T08:16:03.808899Z"
    },
    "hidden": true
   },
   "outputs": [],
   "source": [
    "#now remove duplicates\n",
    "xy_zipped = [xy for xy in zip(x_mapped_lst, y_mapped_lst)]"
   ]
  },
  {
   "cell_type": "code",
   "execution_count": 209,
   "metadata": {
    "ExecuteTime": {
     "end_time": "2020-06-08T08:21:54.418518Z",
     "start_time": "2020-06-08T08:21:54.393377Z"
    },
    "hidden": true
   },
   "outputs": [],
   "source": []
  },
  {
   "cell_type": "code",
   "execution_count": 214,
   "metadata": {
    "ExecuteTime": {
     "end_time": "2020-06-08T08:24:30.104728Z",
     "start_time": "2020-06-08T08:24:30.077646Z"
    },
    "hidden": true
   },
   "outputs": [
    {
     "data": {
      "text/plain": [
       "60"
      ]
     },
     "execution_count": 214,
     "metadata": {},
     "output_type": "execute_result"
    }
   ],
   "source": [
    "# xy_df.drop_duplicates(subset=['x','y'])\n",
    "len(s_mapped_lst)"
   ]
  },
  {
   "cell_type": "code",
   "execution_count": 217,
   "metadata": {
    "ExecuteTime": {
     "end_time": "2020-06-08T08:25:53.388342Z",
     "start_time": "2020-06-08T08:25:53.364366Z"
    },
    "hidden": true
   },
   "outputs": [
    {
     "data": {
      "text/plain": [
       "60"
      ]
     },
     "execution_count": 217,
     "metadata": {},
     "output_type": "execute_result"
    }
   ],
   "source": [
    "len(x_mapped_lst)"
   ]
  },
  {
   "cell_type": "code",
   "execution_count": 227,
   "metadata": {
    "ExecuteTime": {
     "end_time": "2020-06-08T08:29:54.441541Z",
     "start_time": "2020-06-08T08:29:54.406500Z"
    },
    "hidden": true
   },
   "outputs": [
    {
     "data": {
      "text/plain": [
       "(0, 0)"
      ]
     },
     "execution_count": 227,
     "metadata": {},
     "output_type": "execute_result"
    }
   ],
   "source": [
    "s_tips[0]"
   ]
  },
  {
   "cell_type": "code",
   "execution_count": 262,
   "metadata": {
    "ExecuteTime": {
     "end_time": "2020-06-08T08:38:51.076865Z",
     "start_time": "2020-06-08T08:38:51.054565Z"
    },
    "hidden": true
   },
   "outputs": [
    {
     "data": {
      "text/plain": [
       "60"
      ]
     },
     "execution_count": 262,
     "metadata": {},
     "output_type": "execute_result"
    }
   ],
   "source": [
    "len(tips_mapped[0])"
   ]
  },
  {
   "cell_type": "markdown",
   "metadata": {
    "hidden": true
   },
   "source": [
    "## helper functions for intersect"
   ]
  },
  {
   "cell_type": "code",
   "execution_count": 867,
   "metadata": {
    "ExecuteTime": {
     "end_time": "2020-06-22T21:51:30.582705Z",
     "start_time": "2020-06-22T21:51:30.559428Z"
    },
    "hidden": true
   },
   "outputs": [],
   "source": [
    "# def _rectangle_intersection_(x1, y1, x2, y2):\n",
    "#     S1, S2, S3, S4 = _rect_inter_inner(x1, x2)\n",
    "#     S5, S6, S7, S8 = _rect_inter_inner(y1, y2)\n",
    "\n",
    "#     C1 = np.less_equal(S1, S2)\n",
    "#     C2 = np.greater_equal(S3, S4)\n",
    "#     C3 = np.less_equal(S5, S6)\n",
    "#     C4 = np.greater_equal(S7, S8)\n",
    "\n",
    "#     ii, jj = np.nonzero(C1 & C2 & C3 & C4)\n",
    "#     return ii, jj\n",
    "import inspect"
   ]
  },
  {
   "cell_type": "code",
   "execution_count": 870,
   "metadata": {
    "ExecuteTime": {
     "end_time": "2020-06-22T21:52:34.756889Z",
     "start_time": "2020-06-22T21:52:34.729043Z"
    },
    "hidden": true
   },
   "outputs": [
    {
     "name": "stdout",
     "output_type": "stream",
     "text": [
      "def _rect_inter_inner(x1, x2):\n",
      "    n1 = x1.shape[0]-1\n",
      "    n2 = x2.shape[0]-1\n",
      "    \n",
      "    minx1 = _min_within(x1,n1)\n",
      "    maxx1 = _max_within(x1,n1)\n",
      "    minx2 = _min_within(x2,n2)\n",
      "    maxx2 = _max_within(x2,n2)\n",
      "    \n",
      "    S1 = np.zeros((n2,n1))\n",
      "    S3 = S1.copy()\n",
      "    for j in range(n2):\n",
      "        S1[j] = minx1\n",
      "        S3[j] = maxx1\n",
      "    S2 = np.zeros((n1,n2))\n",
      "    S4 = S2.copy()\n",
      "    for j in range(n1):\n",
      "        S2[j] = maxx2\n",
      "        S4[j] = minx2\n",
      "    return S1.T, S2, S3.T, S4\n",
      "\n"
     ]
    }
   ],
   "source": [
    "print(inspect.getsource(intersection))"
   ]
  },
  {
   "cell_type": "markdown",
   "metadata": {
    "heading_collapsed": true
   },
   "source": [
    "# DONE: optimize intersection.py"
   ]
  },
  {
   "cell_type": "code",
   "execution_count": 1077,
   "metadata": {
    "ExecuteTime": {
     "end_time": "2020-06-22T22:31:26.806933Z",
     "start_time": "2020-06-22T22:31:26.748639Z"
    },
    "hidden": true
   },
   "outputs": [],
   "source": [
    "# np.diff(np.column_stack((x1, y1)),axis=0)\n",
    "from lib.intersection import *"
   ]
  },
  {
   "cell_type": "code",
   "execution_count": null,
   "metadata": {
    "ExecuteTime": {
     "end_time": "2020-06-22T18:07:05.554147Z",
     "start_time": "2020-06-22T18:07:05.342414Z"
    },
    "hidden": true
   },
   "outputs": [],
   "source": []
  },
  {
   "cell_type": "code",
   "execution_count": null,
   "metadata": {
    "ExecuteTime": {
     "end_time": "2020-06-22T18:05:29.325250Z",
     "start_time": "2020-06-22T18:05:29.299950Z"
    },
    "hidden": true
   },
   "outputs": [],
   "source": []
  },
  {
   "cell_type": "code",
   "execution_count": 643,
   "metadata": {
    "ExecuteTime": {
     "end_time": "2020-06-22T21:12:21.238304Z",
     "start_time": "2020-06-22T21:12:21.213435Z"
    },
    "hidden": true
   },
   "outputs": [],
   "source": [
    "# (sum(X1-X2)==0).all()"
   ]
  },
  {
   "cell_type": "code",
   "execution_count": 1041,
   "metadata": {
    "ExecuteTime": {
     "end_time": "2020-06-22T22:24:09.165012Z",
     "start_time": "2020-06-22T22:24:09.143962Z"
    },
    "hidden": true
   },
   "outputs": [
    {
     "data": {
      "text/plain": [
       "array([], dtype=float64)"
      ]
     },
     "execution_count": 1041,
     "metadata": {},
     "output_type": "execute_result"
    }
   ],
   "source": [
    "# sum(sum(S1-S1b))==0\n",
    "\n",
    "# sum(sum(S2-S2b))==0\n",
    "\n",
    "# sum(sum(S3-S3b))==0\n",
    "\n",
    "# sum(sum(S4-S4b))==0"
   ]
  },
  {
   "cell_type": "code",
   "execution_count": 1078,
   "metadata": {
    "ExecuteTime": {
     "end_time": "2020-06-22T22:31:28.570238Z",
     "start_time": "2020-06-22T22:31:28.542024Z"
    },
    "hidden": true
   },
   "outputs": [
    {
     "data": {
      "text/plain": [
       "(array([], dtype=int64), array([], dtype=int64))"
      ]
     },
     "execution_count": 1078,
     "metadata": {},
     "output_type": "execute_result"
    }
   ],
   "source": [
    "_rectangle_intersection_(x1,y1,x2,y2)"
   ]
  },
  {
   "cell_type": "code",
   "execution_count": 1080,
   "metadata": {
    "ExecuteTime": {
     "end_time": "2020-06-22T22:31:37.016911Z",
     "start_time": "2020-06-22T22:31:36.825652Z"
    },
    "hidden": true
   },
   "outputs": [
    {
     "data": {
      "image/png": "[encoded data removed]",
      "text/plain": [
       "<Figure size 432x288 with 1 Axes>"
      ]
     },
     "metadata": {
      "needs_background": "light"
     },
     "output_type": "display_data"
    }
   ],
   "source": [
    "a, b = 1, 2\n",
    "phi = np.linspace(3, 10, 100)\n",
    "x1 = a*phi - b*np.sin(phi)\n",
    "y1 = a - b*np.cos(phi)\n",
    "\n",
    "x2=phi\n",
    "y2=np.sin(phi)+2\n",
    "x,y=intersection(x1,y1,x2,y2)\n",
    "\n",
    "plt.plot(x1,y1,c='r')\n",
    "plt.plot(x2,y2,c='g')\n",
    "plt.plot(x,y,'*k')\n",
    "plt.show()"
   ]
  },
  {
   "cell_type": "code",
   "execution_count": 1081,
   "metadata": {
    "ExecuteTime": {
     "end_time": "2020-06-22T22:31:38.672059Z",
     "start_time": "2020-06-22T22:31:38.467234Z"
    },
    "hidden": true
   },
   "outputs": [
    {
     "data": {
      "image/png": "[encoded data removed]",
      "text/plain": [
       "<Figure size 432x288 with 1 Axes>"
      ]
     },
     "metadata": {
      "needs_background": "light"
     },
     "output_type": "display_data"
    }
   ],
   "source": [
    "#test that it works for vertical segments\n",
    "a, b = 1, 2\n",
    "phi = np.linspace(3, 10, 100)\n",
    "x1 = a*phi - b*np.sin(phi)\n",
    "y1 = a - b*np.cos(phi)\n",
    "\n",
    "x2=phi\n",
    "y2=0.*np.sin(phi)+2\n",
    "x,y=intersection(x1,y1,x2,y2)\n",
    "\n",
    "plt.plot(x1,y1,c='r')\n",
    "plt.plot(x2,y2,c='g')\n",
    "plt.plot(x,y,'*k')\n",
    "plt.show()"
   ]
  },
  {
   "cell_type": "code",
   "execution_count": 1082,
   "metadata": {
    "ExecuteTime": {
     "end_time": "2020-06-22T22:31:40.569739Z",
     "start_time": "2020-06-22T22:31:40.380907Z"
    },
    "hidden": true
   },
   "outputs": [
    {
     "data": {
      "image/png": "[encoded data removed]",
      "text/plain": [
       "<Figure size 432x288 with 1 Axes>"
      ]
     },
     "metadata": {
      "needs_background": "light"
     },
     "output_type": "display_data"
    }
   ],
   "source": [
    "#test that it works for vertical segments\n",
    "a, b = 1, 2\n",
    "phi = np.linspace(3, 10, 100)\n",
    "x1 = 6.+ 0*phi#a*phi - b*np.sin(phi)\n",
    "y1 = phi-4#a - b*np.cos(phi)\n",
    "\n",
    "x2=phi\n",
    "y2=0.*np.sin(phi)+2\n",
    "x,y=intersection(x1,y1,x2,y2)\n",
    "\n",
    "plt.plot(x1,y1,c='r')\n",
    "plt.plot(x2,y2,c='g')\n",
    "plt.plot(x,y,'*k')\n",
    "plt.show()"
   ]
  },
  {
   "cell_type": "code",
   "execution_count": 1083,
   "metadata": {
    "ExecuteTime": {
     "end_time": "2020-06-22T22:31:42.054486Z",
     "start_time": "2020-06-22T22:31:41.879944Z"
    },
    "hidden": true
   },
   "outputs": [
    {
     "data": {
      "image/png": "[encoded data removed]",
      "text/plain": [
       "<Figure size 432x288 with 1 Axes>"
      ]
     },
     "metadata": {
      "needs_background": "light"
     },
     "output_type": "display_data"
    }
   ],
   "source": [
    "#test that it works for vertical segments\n",
    "a, b = 1, 2\n",
    "phi = np.linspace(3, 10, 100)\n",
    "x1 = 6.+ 0*phi#a*phi - b*np.sin(phi)\n",
    "y1 = phi-4#a - b*np.cos(phi)\n",
    "\n",
    "x2=x1+1.#phi\n",
    "y2=y1#0.*np.sin(phi)+2\n",
    "x,y=intersection(x1,y1,x2,y2)\n",
    "\n",
    "plt.plot(x1,y1,c='r')\n",
    "plt.plot(x2,y2,c='g')\n",
    "plt.plot(x,y,'*k')\n",
    "plt.show()"
   ]
  },
  {
   "cell_type": "markdown",
   "metadata": {
    "heading_collapsed": true
   },
   "source": [
    "# optimize get_tips\n",
    "\n",
    "it looks like the fastest improvement I'm getting is down to about 2 seconds for my use case.  This is because the relatively complicated intersection function needs to get called NxM times for N=num of contour a and M = num of contour b.  This can be improved by quickly checking if an intersection exists.  how might I do this?\n",
    "\n",
    "#the lowest level function determines if there exists an intersection, and it takes the longest. :(\n",
    "#pulling it out doesn't speed things up appreciably\n",
    "\n",
    "I think I can get this (maybe?) O(n^2) intersection algorithm beat with what I was using in the horrible Javascript implementation, which is __O(n)__."
   ]
  },
  {
   "cell_type": "code",
   "execution_count": null,
   "metadata": {
    "ExecuteTime": {
     "start_time": "2020-06-23T00:25:35.104Z"
    },
    "hidden": true
   },
   "outputs": [],
   "source": [
    "# from lib.get_tips import *\n",
    "# from numba import prange\n",
    "\n",
    "# from lib.intersection import *\n",
    "# from lib.get_tips import *"
   ]
  },
  {
   "cell_type": "code",
   "execution_count": 2,
   "metadata": {
    "ExecuteTime": {
     "end_time": "2020-06-23T00:28:51.988056Z",
     "start_time": "2020-06-23T00:28:51.165509Z"
    },
    "hidden": true
   },
   "outputs": [
    {
     "name": "stdout",
     "output_type": "stream",
     "text": [
      "(512, 512)\n",
      "(512, 512)\n"
     ]
    }
   ],
   "source": [
    "#Make a naive padded texture that enforces periodic boundary conditions\n",
    "txt = np.load(f'Data/buffer_chaos_circle6_sigma_5_threshold_0.6_wrapping_true_at_time_5400.0.npy')\n",
    "dtexture_dt = 0.*txt.copy()\n",
    "get_time_step(txt,dtexture_dt)\n",
    "\n",
    "edge_tolerance = 0\n",
    "pad = 0\n",
    "sigma = 1\n",
    "threshold = 0.95\n",
    "\n",
    "padded_txt, dpadded_txt_dt = textures_to_padded_textures(txt, dtexture_dt,pad=pad)\n",
    "\n",
    "print(padded_txt.shape)\n",
    "print(dpadded_txt_dt.shape)\n",
    "\n",
    "#compute contours. type 1 = contours_raw, type 2 = contours_incimg_nxt = padded_txt.copy()\n",
    "# img_inc = ifilter(dtexture_dt[...,0])  #mask of instantaneously increasing voltages \n",
    "# img_nxt = txt[...,0].copy()\n",
    "\n",
    "img_nxt = padded_txt.copy()\n",
    "img_inc = ifilter(dpadded_txt_dt)  #mask of instantaneously increasing voltages \n",
    "\n",
    "img_inc = filters.gaussian(img_inc,sigma=sigma)\n",
    "contours_raw = measure.find_contours(img_nxt, level=0.5,fully_connected='low',positive_orientation='low')\n",
    "contours_inc = measure.find_contours(img_inc, level=threshold)#,fully_connected='low',positive_orientation='low')\n"
   ]
  },
  {
   "cell_type": "code",
   "execution_count": 8,
   "metadata": {
    "ExecuteTime": {
     "end_time": "2020-06-23T00:29:25.909688Z",
     "start_time": "2020-06-23T00:29:23.559417Z"
    },
    "hidden": true
   },
   "outputs": [],
   "source": [
    "retval = get_tips(tuple(contours_raw),tuple(contours_inc));"
   ]
  },
  {
   "cell_type": "code",
   "execution_count": 19,
   "metadata": {
    "ExecuteTime": {
     "end_time": "2020-06-23T00:24:16.633277Z",
     "start_time": "2020-06-23T00:24:16.608980Z"
    },
    "hidden": true
   },
   "outputs": [],
   "source": [
    "# # #original code reference # @njit\n",
    "# def get_tips(contours_raw, contours_inc):\n",
    "#     '''returns tips with indices of parent contours'''\n",
    "#     n_list = []; x_lst = []; y_lst = []\n",
    "#     for n1, c1 in enumerate(contours_raw):\n",
    "#         for n2, c2 in enumerate(contours_inc):\n",
    "#             x1, y1 = (c1[:, 0], c1[:, 1])\n",
    "#             x2, y2 = (c2[:, 0], c2[:, 1])\n",
    "#             x, y = intersection(x1, y1, x2, y2)\n",
    "#             if len(x)>0:\n",
    "#                 s = (n1,n2)\n",
    "#                 x = list(x)\n",
    "#                 y = list(y)\n",
    "#                 n_list.append(s)\n",
    "#                 x_lst.append(x)\n",
    "#                 y_lst.append(y)\n",
    "#     return n_list, x_lst, y_lst"
   ]
  },
  {
   "cell_type": "code",
   "execution_count": 12,
   "metadata": {
    "ExecuteTime": {
     "end_time": "2020-06-23T00:23:43.383771Z",
     "start_time": "2020-06-23T00:23:43.357534Z"
    },
    "hidden": true
   },
   "outputs": [],
   "source": [
    "# # @njit(cache=True)\n",
    "# def get_tips(contours_a,contours_b):\n",
    "#     '''returns tips with indices of parent contours returned as the nested list, n_list.\n",
    "#     contours_a,contours_b are each tuples of m-by-2 np.ndarrays.\n",
    "#     each member is a 1D line.  \n",
    "    \n",
    "#     get_tips returns all intersections of \n",
    "#     contours_a with contours_b.  \n",
    "#     will throw a TypingError exception if either input tuple is empty.\n",
    "    \n",
    "#     if you get a nonsingular matrix error, make sure that you`re not comparing a contour to itself.'''\n",
    "#     n_list = List(); x_list = List(); y_list = List();\n",
    "#     ncr = len(contours_a); nci = len(contours_b)\n",
    "#     for n1 in prange(ncr):\n",
    "#         for n2 in prange(nci):\n",
    "# #     for n1, c1 in enumerate(contours_a):\n",
    "# #         for n2, c2 in enumerate(contours_b):\n",
    "#             c1 = contours_a[n1]\n",
    "#             c2 = contours_b[n2]\n",
    "#             x1 = c1[:, 0]\n",
    "#             y1 = c1[:, 1]\n",
    "#             x2 = c2[:, 0]\n",
    "#             y2 = c2[:, 1]\n",
    "#             x,y = intersection(x1, y1, x2, y2)\n",
    "#             if len(x)>0:\n",
    "#                 s = (n1,n2)\n",
    "#                 xl = list(x)\n",
    "#                 yl = list(y)\n",
    "#                 n_list.append(s)\n",
    "#                 x_list.append(xl)\n",
    "#                 y_list.append(yl)\n",
    "#     return n_list, x_list, y_list"
   ]
  },
  {
   "cell_type": "code",
   "execution_count": 1355,
   "metadata": {
    "ExecuteTime": {
     "end_time": "2020-06-22T23:32:51.621339Z",
     "start_time": "2020-06-22T23:32:51.599646Z"
    },
    "hidden": true
   },
   "outputs": [
    {
     "data": {
      "text/plain": [
       "[[94.40598356654313],\n",
       " [4.757124477254592, 70.59466606577625],\n",
       " [63.46909489276186, 50.09620885066247],\n",
       " [15.45556769905707],\n",
       " [93.92799490929426],\n",
       " [148.6264747980347],\n",
       " [142.27515946218438, 158.27770971960348],\n",
       " [145.05953489102177, 139.0844938765144],\n",
       " [223.9352840239717, 266.9757498435436],\n",
       " [257.0868653172777, 228.23974488425034],\n",
       " [297.9859671764745, 262.56554019044415],\n",
       " [296.08708631528293, 310.0086162886364],\n",
       " [369.4868153147052, 326.20033903241574],\n",
       " [360.8296343352165, 340.38624515466046],\n",
       " [314.11883924529235, 293.78258592717316],\n",
       " [370.075292022259, 412.1725760338893],\n",
       " [487.1431335079494, 464.2220087946094],\n",
       " [468.8446973234902, 458.14358634237806],\n",
       " [505.41412966736465],\n",
       " [508.1188092991977]]"
      ]
     },
     "execution_count": 1355,
     "metadata": {},
     "output_type": "execute_result"
    }
   ],
   "source": [
    "list(retval[1])"
   ]
  },
  {
   "cell_type": "code",
   "execution_count": 1382,
   "metadata": {
    "ExecuteTime": {
     "end_time": "2020-06-22T23:47:54.154289Z",
     "start_time": "2020-06-22T23:47:54.123498Z"
    },
    "hidden": true
   },
   "outputs": [],
   "source": [
    "import numba"
   ]
  },
  {
   "cell_type": "code",
   "execution_count": 1377,
   "metadata": {
    "ExecuteTime": {
     "end_time": "2020-06-22T23:41:36.951850Z",
     "start_time": "2020-06-22T23:41:36.931572Z"
    },
    "hidden": true
   },
   "outputs": [],
   "source": [
    "# #maybe a structured dict will be more parallelizable by the compiler\n",
    "# #nope\n",
    "# @njit(parallel=True)\n",
    "# def get_tips(contours_a,contours_b):\n",
    "#     '''returns tips with indices of parent contours returned as the nested list, n_list.\n",
    "#     contours_a,contours_b are each tuples of m-by-2 np.ndarrays.\n",
    "#     each member is a 1D line.  \n",
    "    \n",
    "#     get_tips returns all intersections of \n",
    "#     contours_a with contours_b.  \n",
    "#     will throw a TypingError exception if either input tuple is empty.\n",
    "    \n",
    "#     if you get a nonsingular matrix error, make sure that you`re not comparing a contour to itself.'''\n",
    "#     out = Dict()\n",
    "# #     n_list = List(); x_list = List(); y_list = List();\n",
    "#     ncr = len(contours_a); nci = len(contours_b)\n",
    "#     for n1 in prange(ncr):\n",
    "#         for n2 in prange(nci):\n",
    "# #     for n1, c1 in enumerate(contours_a):\n",
    "# #         for n2, c2 in enumerate(contours_b):\n",
    "#             c1 = contours_a[n1]\n",
    "#             c2 = contours_b[n2]\n",
    "#             x1 = c1[:, 0]\n",
    "#             y1 = c1[:, 1]\n",
    "#             x2 = c2[:, 0]\n",
    "#             y2 = c2[:, 1]\n",
    "#             x,y = intersection(x1, y1, x2, y2)\n",
    "#             if len(x)>0:\n",
    "#                 s = (n1,n2)\n",
    "#                 xl = list(x)\n",
    "#                 yl = list(y)\n",
    "#                 out[s]=(xl,yl)\n",
    "#     return out\n",
    "# #                 n_list.append(s)\n",
    "# #                 x_list.append(xl)\n",
    "# #                 y_list.append(yl)\n",
    "# #     return n_list, x_list, y_list"
   ]
  },
  {
   "cell_type": "code",
   "execution_count": 996,
   "metadata": {
    "ExecuteTime": {
     "end_time": "2020-06-22T22:10:56.579420Z",
     "start_time": "2020-06-22T22:10:56.552881Z"
    },
    "hidden": true
   },
   "outputs": [
    {
     "data": {
      "text/plain": [
       "(array([], dtype=float64), array([], dtype=float64))"
      ]
     },
     "execution_count": 996,
     "metadata": {},
     "output_type": "execute_result"
    }
   ],
   "source": [
    "x1, y1, x2, y2 = retval\n",
    "test(x1,y1,x2,y2)\n",
    "# print(intersection(x1, y1, x2, y2))\n",
    "# print((x1, y1, x2, y2))\n",
    "# type(x2)"
   ]
  },
  {
   "cell_type": "code",
   "execution_count": 1398,
   "metadata": {
    "ExecuteTime": {
     "end_time": "2020-06-23T00:00:29.230603Z",
     "start_time": "2020-06-23T00:00:29.201344Z"
    },
    "hidden": true
   },
   "outputs": [
    {
     "data": {
      "text/plain": [
       "tuple(array(float64, 2d, C) x 24)"
      ]
     },
     "execution_count": 1398,
     "metadata": {},
     "output_type": "execute_result"
    }
   ],
   "source": [
    "numba.typeof(tuple(contours_raw))\n",
    "numba.typeof(tuple(contours_inc))"
   ]
  },
  {
   "cell_type": "code",
   "execution_count": 1364,
   "metadata": {
    "ExecuteTime": {
     "end_time": "2020-06-22T23:35:38.363879Z",
     "start_time": "2020-06-22T23:35:38.329342Z"
    },
    "hidden": true
   },
   "outputs": [],
   "source": [
    "# n_list, x_lst, y_lst = get_tips(tuple(contours_raw), tuple(contours_inc))\n",
    "d.update?"
   ]
  },
  {
   "cell_type": "code",
   "execution_count": 1122,
   "metadata": {
    "ExecuteTime": {
     "end_time": "2020-06-22T22:41:44.125487Z",
     "start_time": "2020-06-22T22:41:44.103008Z"
    },
    "hidden": true
   },
   "outputs": [],
   "source": [
    "a = List()\n",
    "a.append(1.2)"
   ]
  },
  {
   "cell_type": "code",
   "execution_count": 1125,
   "metadata": {
    "ExecuteTime": {
     "end_time": "2020-06-22T22:41:59.072437Z",
     "start_time": "2020-06-22T22:41:59.046529Z"
    },
    "hidden": true
   },
   "outputs": [
    {
     "name": "stdout",
     "output_type": "stream",
     "text": [
      "[1.2]\n"
     ]
    }
   ],
   "source": [
    "print(a)"
   ]
  },
  {
   "cell_type": "code",
   "execution_count": 773,
   "metadata": {
    "ExecuteTime": {
     "end_time": "2020-06-22T21:36:01.003871Z",
     "start_time": "2020-06-22T21:36:00.967173Z"
    },
    "hidden": true
   },
   "outputs": [
    {
     "name": "stdout",
     "output_type": "stream",
     "text": [
      "146\n",
      "413\n",
      "727\n",
      "56\n",
      "243\n",
      "226\n",
      "2248\n",
      "1400\n",
      "123\n",
      "766\n",
      "614\n",
      "48\n",
      "30\n"
     ]
    }
   ],
   "source": [
    "len(contours_raw)\n",
    "for c in contours_raw:\n",
    "    print(c.shape[0])"
   ]
  },
  {
   "cell_type": "code",
   "execution_count": 1222,
   "metadata": {
    "ExecuteTime": {
     "end_time": "2020-06-22T23:06:41.816362Z",
     "start_time": "2020-06-22T23:06:41.776619Z"
    },
    "hidden": true
   },
   "outputs": [],
   "source": [
    "#the lowest level function determines if there exists an intersection, and it takes the longest. :(\n",
    "#pulling it out doesn't speed things up appreciably\n",
    "# @njit\n",
    "# def get_tips_2(contours_a,contours_b):\n",
    "#     '''returns tips with indices of parent contours returned as the nested list, n_list.\n",
    "#     contours_a,contours_b are each tuples of m-by-2 np.ndarrays.\n",
    "#     each member is a 1D line.  \n",
    "    \n",
    "#     get_tips returns all intersections of \n",
    "#     contours_a with contours_b.  \n",
    "#     will throw a TypingError exception if either input tuple is empty.\n",
    "    \n",
    "#     if you get a nonsingular matrix error, make sure that you`re not comparing a contour to itself.'''\n",
    "#     n_list = List(); x_list = List(); y_list = List();\n",
    "#     ncr = len(contours_a); nci = len(contours_b)\n",
    "#     for n1, c1 in enumerate(contours_a):\n",
    "#         for n2, c2 in enumerate(contours_b):\n",
    "#             x1 = c1[:, 0]\n",
    "#             y1 = c1[:, 1]\n",
    "#             x2 = c2[:, 0]\n",
    "#             y2 = c2[:, 1]\n",
    "#             ii,jj = _rectangle_intersection_(x1, y1, x2, y2)\n",
    "#             if len(ii)>0:\n",
    "#                 x,y = _intersection_after_r_i_(x1, y1, x2, y2,ii,jj)\n",
    "#                 s = (n1,n2)\n",
    "#                 xl = list(x)\n",
    "#                 yl = list(y)\n",
    "#                 n_list.append(s)\n",
    "#                 x_list.append(xl)\n",
    "#                 y_list.append(yl)\n",
    "#     return n_list, x_list, y_list"
   ]
  },
  {
   "cell_type": "code",
   "execution_count": 1274,
   "metadata": {
    "ExecuteTime": {
     "end_time": "2020-06-22T23:19:05.458974Z",
     "start_time": "2020-06-22T23:19:05.437893Z"
    },
    "hidden": true
   },
   "outputs": [],
   "source": [
    "@njit(parallel=True)\n",
    "def _min_within(x,n):\n",
    "    '''compare every two entries and return the min of the two.\n",
    "    n = int(x.shape[0] - 1)'''\n",
    "    out = np.zeros(n, dtype=np.float64)\n",
    "    for j in prange(n):\n",
    "        out[j] = min((x[j], x[j+1]))\n",
    "    return out"
   ]
  },
  {
   "cell_type": "code",
   "execution_count": 1262,
   "metadata": {
    "ExecuteTime": {
     "end_time": "2020-06-22T23:16:06.942497Z",
     "start_time": "2020-06-22T23:16:06.916471Z"
    },
    "hidden": true
   },
   "outputs": [],
   "source": [
    "x = np.array([1,2,3,4])"
   ]
  },
  {
   "cell_type": "code",
   "execution_count": 1428,
   "metadata": {
    "ExecuteTime": {
     "end_time": "2020-06-23T00:03:32.835765Z",
     "start_time": "2020-06-23T00:03:32.808353Z"
    },
    "hidden": true
   },
   "outputs": [
    {
     "data": {
      "text/plain": [
       "array([1., 2., 3.])"
      ]
     },
     "execution_count": 1428,
     "metadata": {},
     "output_type": "execute_result"
    }
   ],
   "source": [
    "_min_within(x,3)"
   ]
  },
  {
   "cell_type": "markdown",
   "metadata": {
    "ExecuteTime": {
     "end_time": "2020-10-19T18:35:40.173219Z",
     "start_time": "2020-10-19T18:35:40.095712Z"
    },
    "heading_collapsed": true
   },
   "source": [
    "# (deprecated) get lewinger marching cubes to work for spiral tip detection for a single frame."
   ]
  },
  {
   "cell_type": "code",
   "execution_count": null,
   "metadata": {
    "ExecuteTime": {
     "end_time": "2020-10-21T21:12:08.021276Z",
     "start_time": "2020-10-21T21:12:07.997414Z"
    },
    "hidden": true
   },
   "outputs": [],
   "source": []
  },
  {
   "cell_type": "code",
   "execution_count": 310,
   "metadata": {
    "ExecuteTime": {
     "end_time": "2020-10-21T21:12:13.682992Z",
     "start_time": "2020-10-21T21:12:13.664791Z"
    },
    "hidden": true
   },
   "outputs": [],
   "source": [
    "# !pip install bpy\n",
    "#TODO: get bpy using conda?\n",
    "# import bpy"
   ]
  },
  {
   "cell_type": "code",
   "execution_count": 311,
   "metadata": {
    "ExecuteTime": {
     "end_time": "2020-10-21T21:12:19.384822Z",
     "start_time": "2020-10-21T21:12:19.354904Z"
    },
    "hidden": true
   },
   "outputs": [],
   "source": [
    "# !pip install visvis"
   ]
  },
  {
   "cell_type": "code",
   "execution_count": 312,
   "metadata": {
    "ExecuteTime": {
     "end_time": "2020-10-21T21:12:25.681147Z",
     "start_time": "2020-10-21T21:12:25.662294Z"
    },
    "hidden": true
   },
   "outputs": [],
   "source": [
    "# import visvis as vv # doctest: +SKIP\n",
    "# from skimage.measure import marching_cubes_lewiner\n",
    "# verts, faces, normals, values = marching_cubes_lewiner(myvolume, 0.0) # doctest: +SKIP\n",
    "# vv.mesh(np.fliplr(verts), faces, normals, values) # doctest: +SKIP\n",
    "# vv.use().Run() # doctest: +SKIP"
   ]
  },
  {
   "cell_type": "code",
   "execution_count": 305,
   "metadata": {
    "ExecuteTime": {
     "end_time": "2020-10-21T21:04:23.722789Z",
     "start_time": "2020-10-21T21:04:23.720302Z"
    },
    "hidden": true
   },
   "outputs": [],
   "source": [
    "# import inspect"
   ]
  },
  {
   "cell_type": "code",
   "execution_count": 304,
   "metadata": {
    "ExecuteTime": {
     "end_time": "2020-10-21T21:04:20.519696Z",
     "start_time": "2020-10-21T21:04:20.517921Z"
    },
    "hidden": true
   },
   "outputs": [],
   "source": [
    "# print(inspect.getsource(marching_cubes_lewiner))"
   ]
  },
  {
   "cell_type": "code",
   "execution_count": 29,
   "metadata": {
    "ExecuteTime": {
     "end_time": "2020-10-19T19:15:30.039991Z",
     "start_time": "2020-10-19T19:15:30.034845Z"
    },
    "hidden": true
   },
   "outputs": [],
   "source": [
    "measure.find_contours?"
   ]
  },
  {
   "cell_type": "code",
   "execution_count": 1429,
   "metadata": {
    "ExecuteTime": {
     "end_time": "2020-06-23T00:03:39.033371Z",
     "start_time": "2020-06-23T00:03:39.007601Z"
    },
    "hidden": true
   },
   "outputs": [],
   "source": [
    "# _min_within.parallel_diagnostics(level=4)"
   ]
  },
  {
   "cell_type": "markdown",
   "metadata": {
    "ExecuteTime": {
     "end_time": "2020-10-19T19:50:42.812311Z",
     "start_time": "2020-10-19T19:50:42.784110Z"
    },
    "heading_collapsed": true,
    "hidden": true
   },
   "source": [
    "## 3D/2D use of Lewinger marching cubes"
   ]
  },
  {
   "cell_type": "code",
   "execution_count": 2,
   "metadata": {
    "ExecuteTime": {
     "end_time": "2020-10-19T19:47:51.296827Z",
     "start_time": "2020-10-19T19:47:36.283149Z"
    },
    "hidden": true
   },
   "outputs": [
    {
     "name": "stdout",
     "output_type": "stream",
     "text": [
      "File: /Users/timothytyree/Documents/GitHub/care/notebooks/Data/initial-conditions-suite-1/ic-out/ic_200x200.120.32.npz\n"
     ]
    }
   ],
   "source": [
    "file = search_for_file()"
   ]
  },
  {
   "cell_type": "code",
   "execution_count": 29,
   "metadata": {
    "ExecuteTime": {
     "end_time": "2020-10-19T19:51:42.548579Z",
     "start_time": "2020-10-19T19:51:42.515003Z"
    },
    "hidden": true
   },
   "outputs": [],
   "source": [
    "file = '/Users/timothytyree/Documents/GitHub/care/notebooks/Data/initial-conditions-suite-1/ic-out/ic_200x200.120.32.npz'\n",
    "txt = load_buffer(file)"
   ]
  },
  {
   "cell_type": "code",
   "execution_count": 30,
   "metadata": {
    "ExecuteTime": {
     "end_time": "2020-10-19T19:51:42.778465Z",
     "start_time": "2020-10-19T19:51:42.748657Z"
    },
    "hidden": true
   },
   "outputs": [],
   "source": [
    "myvolume = txt[...,:1]\n",
    "myvolume = np.concatenate([myvolume,myvolume], axis=-1)"
   ]
  },
  {
   "cell_type": "code",
   "execution_count": 28,
   "metadata": {
    "ExecuteTime": {
     "end_time": "2020-10-19T19:50:54.544585Z",
     "start_time": "2020-10-19T19:50:54.502317Z"
    },
    "hidden": true
   },
   "outputs": [
    {
     "name": "stderr",
     "output_type": "stream",
     "text": [
      "<ipython-input-28-b9651ed5a9ed>:1: FutureWarning: marching_cubes_lewiner is deprecated in favor of marching_cubes. marching_cubes_lewiner will be removed in version 0.19\n",
      "  verts, faces, normals, values = marching_cubes_lewiner(myvolume, 0.5) # doctest: +SKIP\n"
     ]
    }
   ],
   "source": [
    "verts, faces, normals, values = marching_cubes_lewiner(myvolume, 0.5) # doctest: +SKIP"
   ]
  },
  {
   "cell_type": "code",
   "execution_count": 31,
   "metadata": {
    "ExecuteTime": {
     "end_time": "2020-10-19T19:51:52.611252Z",
     "start_time": "2020-10-19T19:51:52.585634Z"
    },
    "hidden": true
   },
   "outputs": [],
   "source": [
    "from skimage import measure\n"
   ]
  },
  {
   "cell_type": "markdown",
   "metadata": {
    "hidden": true
   },
   "source": [
    "- runtime with `allow_degenerate=True` is ~30ms.\n",
    "- runtime with `allow_degenerate=False` is  ~30ms.\n",
    "- the number of faces/verts was the same in either case for this example."
   ]
  },
  {
   "cell_type": "code",
   "execution_count": 52,
   "metadata": {
    "ExecuteTime": {
     "end_time": "2020-10-19T20:03:43.494261Z",
     "start_time": "2020-10-19T20:03:43.464724Z"
    },
    "hidden": true
   },
   "outputs": [],
   "source": [
    "verts, faces, normals, values =  measure.marching_cubes(\n",
    "    volume=myvolume,\n",
    "    level=0.5,\n",
    "    spacing=(1.0, 1.0, 1.0),\n",
    "    gradient_direction='descent',\n",
    "    step_size=1,\n",
    "    allow_degenerate=False,\n",
    "    method='lewiner',\n",
    "    mask=None,\n",
    ")"
   ]
  },
  {
   "cell_type": "code",
   "execution_count": 54,
   "metadata": {
    "ExecuteTime": {
     "end_time": "2020-10-19T20:04:01.500802Z",
     "start_time": "2020-10-19T20:04:01.472935Z"
    },
    "hidden": true
   },
   "outputs": [
    {
     "name": "stdout",
     "output_type": "stream",
     "text": [
      "(2512, 3)\n",
      "(2500, 3)\n",
      "(2512, 3)\n",
      "(2512,)\n"
     ]
    }
   ],
   "source": [
    "print(verts.shape)\n",
    "print(faces.shape)\n",
    "print(normals.shape)\n",
    "print(values.shape)"
   ]
  },
  {
   "cell_type": "markdown",
   "metadata": {
    "hidden": true
   },
   "source": [
    "### DONE: visualize the \"surfaces\" returned by scatter plotting all xy coords of vertices \n",
    "they make sense given the image"
   ]
  },
  {
   "cell_type": "code",
   "execution_count": 59,
   "metadata": {
    "ExecuteTime": {
     "end_time": "2020-10-19T20:11:07.985457Z",
     "start_time": "2020-10-19T20:11:07.958925Z"
    },
    "hidden": true
   },
   "outputs": [],
   "source": [
    "# #opens a 3D window to visualize the 3D \"surface\". Produces GIL lock until window is closed...\n",
    "# import visvis as vv # doctest: +SKIP\n",
    "# vv.mesh(np.fliplr(verts), faces, normals, values) # doctest: +SKIP\n",
    "# vv.use().Run() # doctest: +SKIP"
   ]
  },
  {
   "cell_type": "code",
   "execution_count": 123,
   "metadata": {
    "ExecuteTime": {
     "end_time": "2020-10-20T19:28:37.612954Z",
     "start_time": "2020-10-20T19:28:37.591789Z"
    },
    "hidden": true
   },
   "outputs": [],
   "source": [
    "# plt.imshow(txt)"
   ]
  },
  {
   "cell_type": "markdown",
   "metadata": {
    "hidden": true
   },
   "source": [
    "## TODO: compress the \"surfaces\" returned into 1D contours\n",
    "- TODO(optional?): collect topologically distinct 1D contours\n",
    "- TODO: make the output have the same form as the marching squares algorithm\n",
    "- TODO(optional): show a toy case/example spiral tip detection where the old marching squares algorithm disagrees with lewinger marching cubes/squares\n",
    "- TODO: incorporate lewinger marching squares into the spiral tip detection routine.  Does this resolve the funky birth-death rates?\n",
    "- TODO(optional): consider tweaking the original C++ code to (i) return topologically segmented contours, (ii) explicitely obey periodic boundary conditions"
   ]
  },
  {
   "cell_type": "markdown",
   "metadata": {
    "heading_collapsed": true,
    "hidden": true
   },
   "source": [
    "## TODO: to compress 3D to 2D, it is sufficient to find the collection of all links/edges within the first/top plane.  \n",
    "- boo = all vertices that are in the first/top plane\n",
    "- bee = all edges of all vertices\n",
    "- brie = all edges that are in the top plane\n",
    "\n",
    "- then, collect all edges that are connected.  return as a linked list.\n",
    "- (^there, explicitely enforce pbc)\n",
    "- return the list of vertex locations\n",
    "- then, TODO: visualize each contour, coloring by contour ID. :-)\n"
   ]
  },
  {
   "cell_type": "code",
   "execution_count": 128,
   "metadata": {
    "ExecuteTime": {
     "end_time": "2020-10-20T19:34:44.384296Z",
     "start_time": "2020-10-20T19:33:26.234202Z"
    },
    "hidden": true
   },
   "outputs": [],
   "source": [
    "for j in range(10000):\n",
    "    zero_txt = txt.copy()*0.\n",
    "    time_step(txt, h=0.025, zero_txt=zero_txt)"
   ]
  },
  {
   "cell_type": "code",
   "execution_count": 132,
   "metadata": {
    "ExecuteTime": {
     "end_time": "2020-10-20T19:37:12.566012Z",
     "start_time": "2020-10-20T19:37:12.515432Z"
    },
    "hidden": true
   },
   "outputs": [],
   "source": [
    "#compute contours for voltage\n",
    "myvolume = txt[...,:1]\n",
    "myvolume = np.concatenate([myvolume,myvolume], axis=-1)\n",
    "\n",
    "verts, faces, normals, values =  measure.marching_cubes(\n",
    "    volume=myvolume,\n",
    "    level=0.5,\n",
    "    spacing=(1.0, 1.0, 1.0),\n",
    "    gradient_direction='descent',\n",
    "    step_size=1,\n",
    "    allow_degenerate=False,\n",
    "    method='lewiner',\n",
    "    mask=None,\n",
    ")\n",
    "boo = np.isclose(verts[...,-1],0.)\n",
    "xycoords = verts[boo][...,:2]\n",
    "height = txt.shape[1]\n",
    "\n",
    "#DONE: compute dtxt_dt\n",
    "zero_txt = txt.copy()*0.\n",
    "\n",
    "#calculate discrete flow map\n",
    "dtexture_dt = zero_txt.copy()\n",
    "get_time_step(txt, dtexture_dt)\n",
    "\n",
    "#DONE: compute the contours for change in voltage\n",
    "myvolume = dtexture_dt[...,:1]\n",
    "myvolume = np.concatenate([myvolume,myvolume], axis=-1)\n",
    "verts_dt, faces_dt, normals_dt, values_dt =  measure.marching_cubes(\n",
    "    volume=myvolume,\n",
    "    level=0.0,\n",
    "    spacing=(1.0, 1.0, 1.0),\n",
    "    gradient_direction='descent',\n",
    "    step_size=1,\n",
    "    allow_degenerate=False,\n",
    "    method='lewiner',\n",
    "    mask=None,\n",
    ")\n",
    "boo_dt = np.isclose(verts_dt[...,-1],0.)\n",
    "xycoords_dt = verts_dt[boo_dt][...,:2]#compute contours for voltage\n",
    "myvolume = txt[...,:1]\n",
    "myvolume = np.concatenate([myvolume,myvolume], axis=-1)\n",
    "\n",
    "verts, faces, normals, values =  measure.marching_cubes(\n",
    "    volume=myvolume,\n",
    "    level=0.5,\n",
    "    spacing=(1.0, 1.0, 1.0),\n",
    "    gradient_direction='descent',\n",
    "    step_size=1,\n",
    "    allow_degenerate=False,\n",
    "    method='lewiner',\n",
    "    mask=None,\n",
    ")\n",
    "boo = np.isclose(verts[...,-1],0.)\n",
    "xycoords = verts[boo][...,:2]\n",
    "height = txt.shape[1]\n",
    "\n",
    "#DONE: compute dtxt_dt\n",
    "zero_txt = txt.copy()*0.\n",
    "\n",
    "#calculate discrete flow map\n",
    "dtexture_dt = zero_txt.copy()\n",
    "get_time_step(txt, dtexture_dt)\n",
    "\n",
    "#DONE: compute the contours for change in voltage\n",
    "myvolume = dtexture_dt[...,:1]\n",
    "myvolume = np.concatenate([myvolume,myvolume], axis=-1)\n",
    "verts_dt, faces_dt, normals_dt, values_dt =  measure.marching_cubes(\n",
    "    volume=myvolume,\n",
    "    level=0.0,\n",
    "    spacing=(1.0, 1.0, 1.0),\n",
    "    gradient_direction='descent',\n",
    "    step_size=1,\n",
    "    allow_degenerate=False,\n",
    "    method='lewiner',\n",
    "    mask=None,\n",
    ")\n",
    "boo_dt = np.isclose(verts_dt[...,-1],0.)\n",
    "xycoords_dt = verts_dt[boo_dt][...,:2]"
   ]
  },
  {
   "cell_type": "code",
   "execution_count": 133,
   "metadata": {
    "ExecuteTime": {
     "end_time": "2020-10-20T19:37:15.948405Z",
     "start_time": "2020-10-20T19:37:15.753526Z"
    },
    "hidden": true,
    "scrolled": true
   },
   "outputs": [
    {
     "data": {
      "image/png": "[encoded data removed]",
      "text/plain": [
       "<Figure size 576x576 with 1 Axes>"
      ]
     },
     "metadata": {
      "needs_background": "light"
     },
     "output_type": "display_data"
    }
   ],
   "source": [
    "#are the xy coords actually yx? yes\n",
    "#DONE: visualize contours.  do the intersections make plausible sense as spiral tips? Yes.\n",
    "plt.figure(figsize=(8,8))\n",
    "plt.imshow(dtexture_dt[...,0], cmap='gray')\n",
    "# plt.imshow(txt[...,0], cmap='gray')\n",
    "plt.scatter(x=xycoords[...,1],y=xycoords[...,0], s=.1, c='g')#looks more probable.\n",
    "plt.scatter(x=xycoords_dt[...,1],y=xycoords_dt[...,0], s=.1, c='b')#looks more probable.\n",
    "\n",
    "# plt.scatter(x=xycoords[...,1],y=height-xycoords[...,0], s=.1, c='r') #looks more probable.\n",
    "# plt.scatter(x=xycoords_dt[...,1],y=height-xycoords_dt[...,0], s=.1, c='r') #looks more probable.\n",
    "\n",
    "plt.axis('off')\n",
    "plt.show()"
   ]
  },
  {
   "cell_type": "code",
   "execution_count": 135,
   "metadata": {
    "ExecuteTime": {
     "end_time": "2020-10-20T19:38:01.458640Z",
     "start_time": "2020-10-20T19:38:01.422799Z"
    },
    "hidden": true
   },
   "outputs": [
    {
     "ename": "IndexError",
     "evalue": "boolean index did not match indexed array along dimension 0; dimension is 3180 but corresponding boolean dimension is 3196",
     "output_type": "error",
     "traceback": [
      "\u001b[0;31m---------------------------------------------------------------------------\u001b[0m",
      "\u001b[0;31mIndexError\u001b[0m                                Traceback (most recent call last)",
      "\u001b[0;32m<ipython-input-135-69882fe90ea6>\u001b[0m in \u001b[0;36m<module>\u001b[0;34m\u001b[0m\n\u001b[1;32m      1\u001b[0m \u001b[0;31m#DONE: step forward in time until pbc are properly working\u001b[0m\u001b[0;34m\u001b[0m\u001b[0;34m\u001b[0m\u001b[0;34m\u001b[0m\u001b[0m\n\u001b[1;32m      2\u001b[0m \u001b[0;31m#TODO: compute edges\u001b[0m\u001b[0;34m\u001b[0m\u001b[0;34m\u001b[0m\u001b[0;34m\u001b[0m\u001b[0m\n\u001b[0;32m----> 3\u001b[0;31m \u001b[0mfaces\u001b[0m\u001b[0;34m[\u001b[0m\u001b[0mboo\u001b[0m\u001b[0;34m]\u001b[0m\u001b[0;34m\u001b[0m\u001b[0;34m\u001b[0m\u001b[0m\n\u001b[0m",
      "\u001b[0;31mIndexError\u001b[0m: boolean index did not match indexed array along dimension 0; dimension is 3180 but corresponding boolean dimension is 3196"
     ]
    }
   ],
   "source": [
    "#DONE: step forward in time until pbc are properly working\n",
    "#TODO: select the set of all edges = \n",
    "faces[boo]"
   ]
  },
  {
   "cell_type": "code",
   "execution_count": 142,
   "metadata": {
    "ExecuteTime": {
     "end_time": "2020-10-20T19:41:32.191515Z",
     "start_time": "2020-10-20T19:41:32.164393Z"
    },
    "hidden": true
   },
   "outputs": [
    {
     "name": "stdout",
     "output_type": "stream",
     "text": [
      "((3196, 3), (3180, 3), (3196,))\n"
     ]
    }
   ],
   "source": [
    "print( ( verts.shape, faces.shape, boo.shape ))"
   ]
  },
  {
   "cell_type": "code",
   "execution_count": 143,
   "metadata": {
    "ExecuteTime": {
     "end_time": "2020-10-20T19:41:32.312909Z",
     "start_time": "2020-10-20T19:41:32.289833Z"
    },
    "hidden": true
   },
   "outputs": [],
   "source": [
    "#TODO: segment vertices/edges to collect contours\n",
    "#TODO: explicitely enforce pbc for ^this\n",
    "#TODO: compute all intersections as before\n",
    "#TODO: interpolate the  normals and values of either contour (keep it simple, stupid!)\n",
    "#TODO(if that isn't reasonable): try the boundary of the increasing region again\n"
   ]
  },
  {
   "cell_type": "code",
   "execution_count": 144,
   "metadata": {
    "ExecuteTime": {
     "end_time": "2020-10-20T19:42:10.095652Z",
     "start_time": "2020-10-20T19:42:10.068395Z"
    },
    "hidden": true
   },
   "outputs": [
    {
     "data": {
      "text/plain": [
       "array([[   2,    1,    0],\n",
       "       [   2,    3,    1],\n",
       "       [   6,    5,    4],\n",
       "       ...,\n",
       "       [3190, 3167, 3192],\n",
       "       [3188, 3194, 3189],\n",
       "       [3195, 3194, 3188]])"
      ]
     },
     "execution_count": 144,
     "metadata": {},
     "output_type": "execute_result"
    }
   ],
   "source": [
    "faces"
   ]
  },
  {
   "cell_type": "code",
   "execution_count": 161,
   "metadata": {
    "ExecuteTime": {
     "end_time": "2020-10-20T19:48:27.842617Z",
     "start_time": "2020-10-20T19:48:27.820633Z"
    },
    "hidden": true
   },
   "outputs": [],
   "source": [
    "edges = verts[faces]\n",
    "#boe is the boolean index of edges in the first layer\n",
    "boe = np.isclose(edges[...,-1],0.)\n",
    "xycoords_edges = edges[boe][...,:2]"
   ]
  },
  {
   "cell_type": "code",
   "execution_count": 162,
   "metadata": {
    "ExecuteTime": {
     "end_time": "2020-10-20T19:48:29.300040Z",
     "start_time": "2020-10-20T19:48:29.276369Z"
    },
    "hidden": true,
    "scrolled": true
   },
   "outputs": [
    {
     "data": {
      "text/plain": [
       "array([[  0.      ,  28.385918],\n",
       "       [  1.      ,  28.049082],\n",
       "       [  0.      ,  28.385918],\n",
       "       ...,\n",
       "       [198.      ,  57.17262 ],\n",
       "       [199.      ,  57.602665],\n",
       "       [198.      ,  57.17262 ]], dtype=float32)"
      ]
     },
     "execution_count": 162,
     "metadata": {},
     "output_type": "execute_result"
    }
   ],
   "source": [
    "xycoords_edges"
   ]
  },
  {
   "cell_type": "code",
   "execution_count": 165,
   "metadata": {
    "ExecuteTime": {
     "end_time": "2020-10-20T19:49:04.066307Z",
     "start_time": "2020-10-20T19:49:04.038550Z"
    },
    "hidden": true
   },
   "outputs": [
    {
     "data": {
      "text/plain": [
       "array([   1,    3,    1, ..., 3188, 3195, 3188])"
      ]
     },
     "execution_count": 165,
     "metadata": {},
     "output_type": "execute_result"
    }
   ],
   "source": [
    "faces[boe]"
   ]
  },
  {
   "cell_type": "markdown",
   "metadata": {
    "hidden": true
   },
   "source": [
    "- conclusion: lewiner marching cubes seems to work just fine, but it has the same problem of not enforcing periodic boundary conditions, and it doesn't keep track of which contours are which.\n",
    "\n",
    "__easiest fix is to implement lewiner marching squares algorithm that explicitly enforces pbc__\n",
    "- DONE: inspect the measure.find_contours function and see if I can scrape how they keep track of contours\n",
    "    - DONE: explicitly enforce pbc\n",
    "    - DONE use bilinear interpolation to resolve the ambiguity of this marching cubes algorithm.\n",
    "        - DONE: is this sufficient to reproduce lewiner's marching cubes(squares) algorithm? Yes."
   ]
  },
  {
   "cell_type": "markdown",
   "metadata": {
    "heading_collapsed": true
   },
   "source": [
    "# testing laurener marching squares"
   ]
  },
  {
   "cell_type": "code",
   "execution_count": 232,
   "metadata": {
    "ExecuteTime": {
     "end_time": "2020-10-20T21:47:56.686056Z",
     "start_time": "2020-10-20T21:47:56.660447Z"
    },
    "hidden": true
   },
   "outputs": [],
   "source": [
    "# import inspect\n",
    "# print(inspect.getsource(measure.find_contours))\n",
    "# measure.find_contours._get_contour_segments\n",
    "# _assemble_contours\n",
    "# _assemble_contours\n",
    "# from skimage.measure._find_contours_cy import _get_contour_segments\n",
    "# segments = _get_contour_segments(array.astype(np.double), float(level),\n",
    "#                                      fully_connected == 'high', mask=mask)\n",
    "# type(_get_contour_segments)\n",
    "# _get_contour_segments"
   ]
  },
  {
   "cell_type": "code",
   "execution_count": 308,
   "metadata": {
    "ExecuteTime": {
     "end_time": "2020-10-20T22:36:35.368279Z",
     "start_time": "2020-10-20T22:36:35.341571Z"
    },
    "hidden": true
   },
   "outputs": [],
   "source": [
    "#this is my fork of the skimage implementation\n",
    "from lib.measure import find_contours as fc"
   ]
  },
  {
   "cell_type": "code",
   "execution_count": 235,
   "metadata": {
    "ExecuteTime": {
     "end_time": "2020-10-20T21:48:15.313938Z",
     "start_time": "2020-10-20T21:48:15.288366Z"
    },
    "hidden": true
   },
   "outputs": [],
   "source": [
    "retval = fc(array=txt[...,0], level=0.5)"
   ]
  },
  {
   "cell_type": "code",
   "execution_count": 300,
   "metadata": {
    "ExecuteTime": {
     "end_time": "2020-10-20T22:26:39.839105Z",
     "start_time": "2020-10-20T22:26:39.707348Z"
    },
    "hidden": true
   },
   "outputs": [
    {
     "data": {
      "image/png": "[encoded data removed]",
      "text/plain": [
       "<Figure size 432x288 with 1 Axes>"
      ]
     },
     "metadata": {},
     "output_type": "display_data"
    }
   ],
   "source": [
    "# Construct some test data\n",
    "x, y = np.ogrid[-np.pi:np.pi:100j, -np.pi:np.pi:100j]\n",
    "r = np.sin(np.exp((np.sin(x)**3 + np.cos(y)**2)))\n",
    "\n",
    "# Find contours at a constant value of 0.8\n",
    "# contours = fc(r, 0.8426762383307682)\n",
    "contours = fc(r, 0.412)\n",
    "# contours = fc(r, 0.415)\n",
    "\n",
    "# Display the image and plot all contours found\n",
    "fig, ax = plt.subplots()\n",
    "ax.imshow(r, cmap=plt.cm.gray)\n",
    "\n",
    "for contour in contours:\n",
    "    ax.plot(contour[:, 1], contour[:, 0], linewidth=2)\n",
    "\n",
    "ax.axis('image')\n",
    "ax.set_xticks([])\n",
    "ax.set_yticks([])\n",
    "plt.show()"
   ]
  },
  {
   "cell_type": "code",
   "execution_count": 301,
   "metadata": {
    "ExecuteTime": {
     "end_time": "2020-10-20T22:26:57.755789Z",
     "start_time": "2020-10-20T22:26:57.628272Z"
    },
    "hidden": true
   },
   "outputs": [
    {
     "data": {
      "image/png": "[encoded data removed]",
      "text/plain": [
       "<Figure size 432x288 with 1 Axes>"
      ]
     },
     "metadata": {},
     "output_type": "display_data"
    }
   ],
   "source": [
    "# Find contours at a constant value of 0.8\n",
    "# contours = measure.find_contours(r, 0.8426762383307682)\n",
    "contours = measure.find_contours(r, 0.3615845409156253, fully_connected='low', positive_orientation='low')\n",
    "# Display the image and plot all contours found\n",
    "fig, ax = plt.subplots()\n",
    "ax.imshow(r, cmap=plt.cm.gray)\n",
    "\n",
    "for contour in contours:\n",
    "    ax.plot(contour[:, 1], contour[:, 0], linewidth=2)\n",
    "\n",
    "ax.axis('image')\n",
    "ax.set_xticks([])\n",
    "ax.set_yticks([])\n",
    "plt.show()"
   ]
  },
  {
   "cell_type": "code",
   "execution_count": 214,
   "metadata": {
    "ExecuteTime": {
     "end_time": "2020-10-20T21:44:16.816037Z",
     "start_time": "2020-10-20T21:44:16.787103Z"
    },
    "hidden": true
   },
   "outputs": [
    {
     "data": {
      "text/plain": [
       "0.8426762383307682"
      ]
     },
     "execution_count": 214,
     "metadata": {},
     "output_type": "execute_result"
    }
   ],
   "source": [
    "r[49,24]"
   ]
  },
  {
   "cell_type": "code",
   "execution_count": 220,
   "metadata": {
    "ExecuteTime": {
     "end_time": "2020-10-20T21:45:31.590406Z",
     "start_time": "2020-10-20T21:45:31.567502Z"
    },
    "hidden": true
   },
   "outputs": [
    {
     "data": {
      "text/plain": [
       "0.3615845409156253"
      ]
     },
     "execution_count": 220,
     "metadata": {},
     "output_type": "execute_result"
    }
   ],
   "source": [
    "r[24,75]"
   ]
  },
  {
   "cell_type": "code",
   "execution_count": 225,
   "metadata": {
    "ExecuteTime": {
     "end_time": "2020-10-20T21:46:44.283395Z",
     "start_time": "2020-10-20T21:46:44.253865Z"
    },
    "hidden": true
   },
   "outputs": [
    {
     "data": {
      "text/plain": [
       "<function skimage.measure._find_contours.find_contours(array, level, fully_connected='low', positive_orientation='low', *, mask=None)>"
      ]
     },
     "execution_count": 225,
     "metadata": {},
     "output_type": "execute_result"
    }
   ],
   "source": [
    "measure.find_contours"
   ]
  },
  {
   "cell_type": "code",
   "execution_count": 239,
   "metadata": {
    "ExecuteTime": {
     "end_time": "2020-10-20T22:05:08.055816Z",
     "start_time": "2020-10-20T22:05:08.028929Z"
    },
    "hidden": true
   },
   "outputs": [],
   "source": [
    "#^This case is complicated, use a simple 2x2 case instead!"
   ]
  },
  {
   "cell_type": "code",
   "execution_count": 243,
   "metadata": {
    "ExecuteTime": {
     "end_time": "2020-10-20T22:05:48.451375Z",
     "start_time": "2020-10-20T22:05:48.422016Z"
    },
    "hidden": true
   },
   "outputs": [
    {
     "data": {
      "text/plain": [
       "[array([[0. , 0.5],\n",
       "        [0.5, 0. ]]),\n",
       " array([[1. , 0.5],\n",
       "        [0.5, 1. ]])]"
      ]
     },
     "execution_count": 243,
     "metadata": {},
     "output_type": "execute_result"
    }
   ],
   "source": [
    "fc(np.array([[1,0],[0,1]]), 0.5)"
   ]
  },
  {
   "cell_type": "markdown",
   "metadata": {
    "heading_collapsed": true,
    "hidden": true
   },
   "source": [
    "### testing behavior of skimage implementation.  it is indeed incorrect."
   ]
  },
  {
   "cell_type": "markdown",
   "metadata": {
    "ExecuteTime": {
     "end_time": "2020-10-20T22:09:34.440075Z",
     "start_time": "2020-10-20T22:09:34.411088Z"
    },
    "hidden": true
   },
   "source": [
    "notes from tests\n",
    "- positive_orientation='high' and positive_orientation='low' yield the same results\n",
    "- case #9 appears to work as it should"
   ]
  },
  {
   "cell_type": "code",
   "execution_count": 314,
   "metadata": {
    "ExecuteTime": {
     "end_time": "2020-10-20T22:38:52.837248Z",
     "start_time": "2020-10-20T22:38:52.728232Z"
    },
    "hidden": true
   },
   "outputs": [
    {
     "data": {
      "image/png": "[encoded data removed]",
      "text/plain": [
       "<Figure size 432x288 with 1 Axes>"
      ]
     },
     "metadata": {},
     "output_type": "display_data"
    }
   ],
   "source": [
    "#model join.  skimage soln controls the ambiguity with fully_connected.\n",
    "r = np.array([[1,0],[0,1]])\n",
    "contours = measure.find_contours(r, 0.6, fully_connected='high')\n",
    "\n",
    "fig, ax = plt.subplots()\n",
    "ax.imshow(r, cmap=plt.cm.gray)\n",
    "\n",
    "for contour in contours:\n",
    "    ax.plot(contour[:, 1], contour[:, 0], linewidth=2)\n",
    "\n",
    "ax.axis('image')\n",
    "ax.set_xticks([])\n",
    "ax.set_yticks([])\n",
    "plt.show()"
   ]
  },
  {
   "cell_type": "code",
   "execution_count": 316,
   "metadata": {
    "ExecuteTime": {
     "end_time": "2020-10-20T22:39:33.652689Z",
     "start_time": "2020-10-20T22:39:33.547790Z"
    },
    "hidden": true
   },
   "outputs": [
    {
     "data": {
      "image/png": "[encoded data removed]",
      "text/plain": [
       "<Figure size 432x288 with 1 Axes>"
      ]
     },
     "metadata": {},
     "output_type": "display_data"
    }
   ],
   "source": [
    "#model split. skimage soln controls the ambiguity with fully_connected.\n",
    "r = np.array([[1,0],[0,1]])\n",
    "contours = measure.find_contours(r, 0.4, fully_connected='low')\n",
    "\n",
    "fig, ax = plt.subplots()\n",
    "ax.imshow(r, cmap=plt.cm.gray)\n",
    "\n",
    "for contour in contours:\n",
    "    ax.plot(contour[:, 1], contour[:, 0], linewidth=2)\n",
    "\n",
    "ax.axis('image')\n",
    "ax.set_xticks([])\n",
    "ax.set_yticks([])\n",
    "plt.show()"
   ]
  },
  {
   "cell_type": "markdown",
   "metadata": {
    "heading_collapsed": true,
    "hidden": true
   },
   "source": [
    "### test cases for my find_contour as fc. These test certain topological guarantees.\n",
    "- 10.20.2020 - all 6 primitive tests passed"
   ]
  },
  {
   "cell_type": "code",
   "execution_count": 1,
   "metadata": {
    "ExecuteTime": {
     "end_time": "2020-10-20T22:48:30.565691Z",
     "start_time": "2020-10-20T22:48:27.826011Z"
    },
    "hidden": true
   },
   "outputs": [
    {
     "name": "stdout",
     "output_type": "stream",
     "text": [
      "100000\n"
     ]
    }
   ],
   "source": [
    "#this is my fork of the skimage implementation\n",
    "from lib.measure import find_contours as fc\n",
    "import numpy as np\n",
    "import matplotlib.pyplot as plt"
   ]
  },
  {
   "cell_type": "code",
   "execution_count": 9,
   "metadata": {
    "ExecuteTime": {
     "end_time": "2020-10-20T22:50:00.456420Z",
     "start_time": "2020-10-20T22:50:00.369993Z"
    },
    "hidden": true
   },
   "outputs": [
    {
     "data": {
      "image/png": "[encoded data removed]",
      "text/plain": [
       "<Figure size 432x288 with 1 Axes>"
      ]
     },
     "metadata": {},
     "output_type": "display_data"
    }
   ],
   "source": [
    "#case # 9 at 0.4, which should join\n",
    "r = np.array([[1,0],[0,1]])\n",
    "contours = fc(r, 0.4)\n",
    "fig, ax = plt.subplots()\n",
    "ax.imshow(r, cmap=plt.cm.gray)\n",
    "for contour in contours:\n",
    "    ax.plot(contour[:, 1], contour[:, 0], linewidth=2)\n",
    "ax.axis('image')\n",
    "ax.set_xticks([])\n",
    "ax.set_yticks([])\n",
    "plt.show()"
   ]
  },
  {
   "cell_type": "code",
   "execution_count": 10,
   "metadata": {
    "ExecuteTime": {
     "end_time": "2020-10-20T22:50:07.905258Z",
     "start_time": "2020-10-20T22:50:07.806730Z"
    },
    "hidden": true
   },
   "outputs": [
    {
     "data": {
      "image/png": "[encoded data removed]",
      "text/plain": [
       "<Figure size 432x288 with 1 Axes>"
      ]
     },
     "metadata": {},
     "output_type": "display_data"
    }
   ],
   "source": [
    "#case # 9 at 0.6, which should split\n",
    "r = np.array([[1,0],[0,1]])\n",
    "contours = fc(r, 0.6)\n",
    "\n",
    "\n",
    "fig, ax = plt.subplots()\n",
    "ax.imshow(r, cmap=plt.cm.gray)\n",
    "\n",
    "for contour in contours:\n",
    "    ax.plot(contour[:, 1], contour[:, 0], linewidth=2)\n",
    "\n",
    "ax.axis('image')\n",
    "ax.set_xticks([])\n",
    "ax.set_yticks([])\n",
    "plt.show()"
   ]
  },
  {
   "cell_type": "code",
   "execution_count": 12,
   "metadata": {
    "ExecuteTime": {
     "end_time": "2020-10-20T22:50:26.035835Z",
     "start_time": "2020-10-20T22:50:25.967332Z"
    },
    "hidden": true
   },
   "outputs": [
    {
     "data": {
      "image/png": "[encoded data removed]",
      "text/plain": [
       "<Figure size 432x288 with 1 Axes>"
      ]
     },
     "metadata": {},
     "output_type": "display_data"
    }
   ],
   "source": [
    "#case # 9 at 0.5, which should split\n",
    "r = np.array([[1,0],[0,1]])\n",
    "contours = fc(r, 0.5)\n",
    "fig, ax = plt.subplots()\n",
    "ax.imshow(r, cmap=plt.cm.gray)\n",
    "for contour in contours:\n",
    "    ax.plot(contour[:, 1], contour[:, 0], linewidth=2)\n",
    "ax.axis('image')\n",
    "ax.set_xticks([])\n",
    "ax.set_yticks([])\n",
    "plt.show()"
   ]
  },
  {
   "cell_type": "code",
   "execution_count": 13,
   "metadata": {
    "ExecuteTime": {
     "end_time": "2020-10-20T22:50:27.303054Z",
     "start_time": "2020-10-20T22:50:27.233524Z"
    },
    "hidden": true
   },
   "outputs": [
    {
     "data": {
      "image/png": "[encoded data removed]",
      "text/plain": [
       "<Figure size 432x288 with 1 Axes>"
      ]
     },
     "metadata": {},
     "output_type": "display_data"
    }
   ],
   "source": [
    "#case # 6 at 0.4, which should join\n",
    "r = np.array([[0,1],[1,0]])\n",
    "contours = fc(r, 0.4)\n",
    "fig, ax = plt.subplots()\n",
    "ax.imshow(r, cmap=plt.cm.gray)\n",
    "for contour in contours:\n",
    "    ax.plot(contour[:, 1], contour[:, 0], linewidth=2)\n",
    "ax.axis('image')\n",
    "ax.set_xticks([])\n",
    "ax.set_yticks([])\n",
    "plt.show()"
   ]
  },
  {
   "cell_type": "code",
   "execution_count": 14,
   "metadata": {
    "ExecuteTime": {
     "end_time": "2020-10-20T22:50:30.953196Z",
     "start_time": "2020-10-20T22:50:30.864801Z"
    },
    "hidden": true
   },
   "outputs": [
    {
     "data": {
      "image/png": "[encoded data removed]",
      "text/plain": [
       "<Figure size 432x288 with 1 Axes>"
      ]
     },
     "metadata": {},
     "output_type": "display_data"
    }
   ],
   "source": [
    "#case # 6 at 0.6, which should split\n",
    "r = np.array([[0,1],[1,0]])\n",
    "contours = fc(r, 0.6)\n",
    "\n",
    "\n",
    "fig, ax = plt.subplots()\n",
    "ax.imshow(r, cmap=plt.cm.gray)\n",
    "\n",
    "for contour in contours:\n",
    "    ax.plot(contour[:, 1], contour[:, 0], linewidth=2)\n",
    "\n",
    "ax.axis('image')\n",
    "ax.set_xticks([])\n",
    "ax.set_yticks([])\n",
    "plt.show()"
   ]
  },
  {
   "cell_type": "code",
   "execution_count": 15,
   "metadata": {
    "ExecuteTime": {
     "end_time": "2020-10-20T22:50:34.284439Z",
     "start_time": "2020-10-20T22:50:34.199805Z"
    },
    "hidden": true
   },
   "outputs": [
    {
     "data": {
      "image/png": "[encoded data removed]",
      "text/plain": [
       "<Figure size 432x288 with 1 Axes>"
      ]
     },
     "metadata": {},
     "output_type": "display_data"
    }
   ],
   "source": [
    "#case # 6 at 0.5, which should split\n",
    "r = np.array([[0,1],[1,0]])\n",
    "contours = fc(r, 0.5)\n",
    "\n",
    "\n",
    "fig, ax = plt.subplots()\n",
    "ax.imshow(r, cmap=plt.cm.gray)\n",
    "\n",
    "for contour in contours:\n",
    "    ax.plot(contour[:, 1], contour[:, 0], linewidth=2)\n",
    "\n",
    "ax.axis('image')\n",
    "ax.set_xticks([])\n",
    "ax.set_yticks([])\n",
    "plt.show()"
   ]
  },
  {
   "cell_type": "markdown",
   "metadata": {
    "heading_collapsed": true
   },
   "source": [
    "# basic case for the lewiner marching cubes contour finder with periodic boundary conditions\n",
    "the pbc solution.  realize that this should be done within cython.<br>\n",
    "DONE: setting #cython: wraparound=True did not enforce pbc"
   ]
  },
  {
   "cell_type": "code",
   "execution_count": 1,
   "metadata": {
    "ExecuteTime": {
     "end_time": "2020-10-21T05:19:34.018571Z",
     "start_time": "2020-10-21T05:19:32.105138Z"
    },
    "hidden": true
   },
   "outputs": [
    {
     "name": "stdout",
     "output_type": "stream",
     "text": [
      "100000\n"
     ]
    }
   ],
   "source": [
    "#this is my fork of the skimage implementation\n",
    "from lib.measure import find_contours as fc\n",
    "import numpy as np\n",
    "import matplotlib.pyplot as plt"
   ]
  },
  {
   "cell_type": "code",
   "execution_count": 233,
   "metadata": {
    "ExecuteTime": {
     "end_time": "2020-10-21T20:31:30.033236Z",
     "start_time": "2020-10-21T20:31:30.030717Z"
    },
    "hidden": true
   },
   "outputs": [],
   "source": [
    "# mode = 'hard_boundary' #uses laurener aperiodic from skimage\n",
    "mode = 'pbc' #uses my version with lewiner and periodic boundary conditions"
   ]
  },
  {
   "cell_type": "code",
   "execution_count": 235,
   "metadata": {
    "ExecuteTime": {
     "end_time": "2020-10-21T20:31:38.262899Z",
     "start_time": "2020-10-21T20:31:38.180240Z"
    },
    "hidden": true
   },
   "outputs": [
    {
     "data": {
      "image/png": "[encoded data removed]",
      "text/plain": [
       "<Figure size 432x288 with 1 Axes>"
      ]
     },
     "metadata": {},
     "output_type": "display_data"
    }
   ],
   "source": [
    "#untiled case\n",
    "r = np.array([[0,1],[1,0]])\n",
    "contours = fc(r, 0.51, mode=mode)\n",
    "\n",
    "\n",
    "fig, ax = plt.subplots()\n",
    "ax.imshow(r, cmap=plt.cm.gray)\n",
    "\n",
    "for contour in contours:\n",
    "    ax.plot(contour[:, 1], contour[:, 0], linewidth=2)\n",
    "\n",
    "ax.axis('image')\n",
    "ax.set_xticks([])\n",
    "ax.set_yticks([])\n",
    "plt.show()"
   ]
  },
  {
   "cell_type": "code",
   "execution_count": 236,
   "metadata": {
    "ExecuteTime": {
     "end_time": "2020-10-21T20:31:41.045643Z",
     "start_time": "2020-10-21T20:31:40.933581Z"
    },
    "hidden": true,
    "scrolled": false
   },
   "outputs": [
    {
     "data": {
      "image/png": "[encoded data removed]",
      "text/plain": [
       "<Figure size 432x288 with 1 Axes>"
      ]
     },
     "metadata": {},
     "output_type": "display_data"
    }
   ],
   "source": [
    "#tiled case\n",
    "r = np.array([[0,1,0,1],[1,0,1,0],[0,1,0,1],[1,0,1,0]])\n",
    "contours = fc(r, 0.6, mode=mode)\n",
    "\n",
    "\n",
    "fig, ax = plt.subplots()\n",
    "ax.imshow(r, cmap=plt.cm.gray)\n",
    "\n",
    "for contour in contours:\n",
    "    ax.plot(contour[:, 1], contour[:, 0], linewidth=2)\n",
    "\n",
    "ax.axis('image')\n",
    "ax.set_xticks([])\n",
    "ax.set_yticks([])\n",
    "plt.show()"
   ]
  },
  {
   "cell_type": "code",
   "execution_count": 243,
   "metadata": {
    "ExecuteTime": {
     "end_time": "2020-10-21T20:33:07.244272Z",
     "start_time": "2020-10-21T20:33:07.163454Z"
    },
    "hidden": true
   },
   "outputs": [
    {
     "data": {
      "image/png": "[encoded data removed]",
      "text/plain": [
       "<Figure size 432x288 with 1 Axes>"
      ]
     },
     "metadata": {},
     "output_type": "display_data"
    }
   ],
   "source": [
    "#tiled case with a mask that turns off the periodic boundary conditions\n",
    "mask = 1+0*r\n",
    "mask[:,0] = 0\n",
    "mask[:,-1] = 0\n",
    "mask[0,:] = 0\n",
    "mask[-1,:] = 0\n",
    "mask = mask.astype(np.bool8)\n",
    "\n",
    "r = np.array([[0,1,0,1],[1,0,1,0],[0,1,0,1],[1,0,1,0]])\n",
    "contours = fc(r, 0.6, mask = mask, mode=mode)\n",
    "\n",
    "\n",
    "fig, ax = plt.subplots()\n",
    "ax.imshow(r, cmap=plt.cm.gray)\n",
    "\n",
    "for contour in contours:\n",
    "    ax.plot(contour[:, 1], contour[:, 0], linewidth=2)\n",
    "\n",
    "ax.axis('image')\n",
    "ax.set_xticks([])\n",
    "ax.set_yticks([])\n",
    "\n",
    "plt.show()"
   ]
  },
  {
   "cell_type": "markdown",
   "metadata": {
    "heading_collapsed": true
   },
   "source": [
    "# testing the lewiner marching cubes contour finder with periodic boundary conditions\n",
    "the easiest/fastest/cleanest way to explicitly enforce pbc is to just make a new cython function for it\n",
    "- DONE: copy my lewiner marching squares method and test that it still works\n",
    "- DONE: choose between either method in lib.measure.find_contours.py using a keyword argument\n",
    "- DONE: edit _find_contours_pbc_cy.pyx to explicitely enforce pbc"
   ]
  },
  {
   "cell_type": "code",
   "execution_count": 2,
   "metadata": {
    "ExecuteTime": {
     "end_time": "2020-10-26T21:59:19.719617Z",
     "start_time": "2020-10-26T21:59:19.696561Z"
    },
    "hidden": true
   },
   "outputs": [],
   "source": [
    "# #this is my fork of the skimage implementation\n",
    "# from lib.measure import find_contours as fc\n",
    "# import numpy as np\n",
    "# import matplotlib.pyplot as plt\n",
    "# import os\n",
    "# if not 'nb_dir' in globals():\n",
    "#     nb_dir = os.getcwd()"
   ]
  },
  {
   "cell_type": "code",
   "execution_count": 245,
   "metadata": {
    "ExecuteTime": {
     "end_time": "2020-10-21T20:33:23.642595Z",
     "start_time": "2020-10-21T20:33:23.292635Z"
    },
    "hidden": true
   },
   "outputs": [
    {
     "data": {
      "image/png": "[encoded data removed]",
      "text/plain": [
       "<Figure size 576x288 with 2 Axes>"
      ]
     },
     "metadata": {},
     "output_type": "display_data"
    }
   ],
   "source": [
    "#untiled case with level less than half to double precision\n",
    "save = True\n",
    "r = np.array([[0,1],[1,0]])\n",
    "fig, axs = plt.subplots(ncols = 2, figsize=(8,4))\n",
    "ax = axs[0]\n",
    "level = 0.499999999999999\n",
    "contours = fc(r, level, mode='pbc')\n",
    "ax.imshow(r, cmap=plt.cm.gray)\n",
    "for contour in contours:\n",
    "    ax.plot(contour[:, 1], contour[:, 0], linewidth=2)\n",
    "ax.set_title(f'level = {level}')\n",
    "ax.axis('image')\n",
    "ax.set_xticks([])\n",
    "ax.set_yticks([])\n",
    "\n",
    "#untiled case with level greater than half to double precision\n",
    "ax = axs[1]\n",
    "level = 0.50000000000001\n",
    "contours = fc(r, level, mode='pbc')\n",
    "ax.imshow(r, cmap=plt.cm.gray)\n",
    "for contour in contours:\n",
    "    ax.plot(contour[:, 1], contour[:, 0], linewidth=2)\n",
    "ax.set_title(f'level = {level}')\n",
    "ax.axis('image')\n",
    "ax.set_xticks([])\n",
    "ax.set_yticks([])\n",
    "\n",
    "if not save:\n",
    "    plt.show()\n",
    "else:\n",
    "    os.chdir(nb_dir)\n",
    "    os.chdir('Figures/methods')\n",
    "    plt.savefig('example_marching_squares_lewiner_pbc_1.png')"
   ]
  },
  {
   "cell_type": "code",
   "execution_count": 269,
   "metadata": {
    "ExecuteTime": {
     "end_time": "2020-10-21T20:41:18.614147Z",
     "start_time": "2020-10-21T20:41:18.046726Z"
    },
    "hidden": true
   },
   "outputs": [
    {
     "data": {
      "image/png": "[encoded data removed]",
      "text/plain": [
       "<Figure size 864x288 with 3 Axes>"
      ]
     },
     "metadata": {
      "needs_background": "light"
     },
     "output_type": "display_data"
    }
   ],
   "source": [
    "#tiled case\n",
    "r = np.array([[1,0,1,0],[0,1,0,1],[1,0,1,0],[0,1,0,1]])\n",
    "# r = np.array([[0,1,0,1],[1,0,1,0],[0,1,0,1],[1,0,1,0]])\n",
    "# Display the image and plot all pbc contours found properly!\n",
    "save = True\n",
    "fig, axs = plt.subplots(ncols = 3, figsize=(12,4))\n",
    "ax = axs[0]\n",
    "level = 0.1\n",
    "contours = fc(r, level)\n",
    "ax.imshow(r, cmap=plt.cm.gray)\n",
    "for contour in contours:\n",
    "    ax.plot(contour[:, 1], contour[:, 0], linewidth=2)\n",
    "ax.set_title(f'level = {level}')\n",
    "ax.axis('image')\n",
    "# ax.set_xticks([])\n",
    "# ax.set_yticks([])\n",
    "\n",
    "ax = axs[1]\n",
    "level = 0.6\n",
    "contours = fc(r, level)\n",
    "ax.imshow(r, cmap=plt.cm.gray)\n",
    "for contour in contours:\n",
    "    ax.plot(contour[:, 1], contour[:, 0], linewidth=2)\n",
    "ax.set_title(f'level = {level}')\n",
    "ax.axis('image')\n",
    "# ax.set_xticks([])\n",
    "# ax.set_yticks([])\n",
    "\n",
    "ax = axs[2]\n",
    "level = 0.9\n",
    "contours = fc(r, level)\n",
    "ax.imshow(r, cmap=plt.cm.gray)\n",
    "for contour in contours:\n",
    "    ax.plot(contour[:, 1], contour[:, 0], linewidth=2)\n",
    "ax.set_title(f'level = {level}')\n",
    "ax.axis('image')\n",
    "# ax.set_xticks([])\n",
    "# ax.set_yticks([])\n",
    "\n",
    "if not save:\n",
    "    plt.show()\n",
    "else:\n",
    "    os.chdir(nb_dir)\n",
    "    os.chdir('Figures/methods')\n",
    "    plt.savefig('example_marching_squares_lewiner_pbc_2.png')"
   ]
  },
  {
   "cell_type": "markdown",
   "metadata": {
    "hidden": true
   },
   "source": [
    "### visualize ^this contour detector for the following nontrivial case"
   ]
  },
  {
   "cell_type": "code",
   "execution_count": 271,
   "metadata": {
    "ExecuteTime": {
     "end_time": "2020-10-21T20:41:44.859143Z",
     "start_time": "2020-10-21T20:41:44.846851Z"
    },
    "hidden": true
   },
   "outputs": [],
   "source": [
    "# Construct some test data\n",
    "x, y = np.ogrid[-np.pi:np.pi:100j, -np.pi:np.pi:100j]\n",
    "r = np.sin(np.exp((np.sin(x)**3 + np.cos(y)**2)))\n",
    "contours = fc(r,.5)#, 0.3615845409156253)#, fully_connected='low', positive_orientation='low')"
   ]
  },
  {
   "cell_type": "code",
   "execution_count": 272,
   "metadata": {
    "ExecuteTime": {
     "end_time": "2020-10-21T20:41:48.528557Z",
     "start_time": "2020-10-21T20:41:48.523620Z"
    },
    "hidden": true
   },
   "outputs": [
    {
     "name": "stdout",
     "output_type": "stream",
     "text": [
      "the max distances between consecutive contour points is:\n",
      "99.0\n",
      "1.3877374168453274\n",
      "1.3877374168453522\n",
      "99.0\n",
      "99.0\n",
      "1.2392947369141163\n",
      "let`s set the threshold to a default distance of 2 pixels.\n"
     ]
    }
   ],
   "source": [
    "print('the max distances between consecutive contour points is:')\n",
    "for contour in contours:\n",
    "    mxnd = np.max(np.linalg.norm(np.diff(contour, axis=0), axis=-1))\n",
    "    print(mxnd)\n",
    "print('let`s set the threshold to a default distance of 2 pixels.')"
   ]
  },
  {
   "cell_type": "code",
   "execution_count": 273,
   "metadata": {
    "ExecuteTime": {
     "end_time": "2020-10-21T20:41:51.932092Z",
     "start_time": "2020-10-21T20:41:51.928291Z"
    },
    "hidden": true
   },
   "outputs": [],
   "source": [
    "#boolean functions for continuity.  helps with periodic functions\n",
    "def _get_contiguous_mask(contour, threshold=2):\n",
    "    '''returns boolean array based on proximity according to Euclidean distance.\n",
    "    an entry is False if the contour jumps accross a boundary.'''\n",
    "    return np.linalg.norm(np.diff(contour, axis=0), axis=-1)<threshold\n",
    "def _is_contour_contiguous(contour, threshold=2):\n",
    "    '''returns True is the contour makes no jumps accross the boundary.'''\n",
    "    mask = _get_contiguous_mask(contour, threshold=threshold)\n",
    "    return mask.all()\n",
    "def _are_ends_contiguous(contour):\n",
    "    '''returns whether the first and final contour points are contiguous.'''\n",
    "    return (contour[0] == contour[-1]).all()"
   ]
  },
  {
   "cell_type": "code",
   "execution_count": 274,
   "metadata": {
    "ExecuteTime": {
     "end_time": "2020-10-21T20:41:55.145953Z",
     "start_time": "2020-10-21T20:41:55.137151Z"
    },
    "hidden": true
   },
   "outputs": [
    {
     "name": "stdout",
     "output_type": "stream",
     "text": [
      "# discontinuities, is contiguous?, are ends equal?\n",
      "for contour #0:\n",
      "\t 5 False True\n",
      "for contour #1:\n",
      "\t 0 True True\n",
      "for contour #2:\n",
      "\t 0 True True\n",
      "for contour #3:\n",
      "\t 1 False True\n",
      "for contour #4:\n",
      "\t 2 False True\n",
      "for contour #5:\n",
      "\t 0 True True\n"
     ]
    }
   ],
   "source": [
    "#informal print tests for the above boolean functions\n",
    "print('# discontinuities, is contiguous?, are ends equal?')\n",
    "for n, contour in enumerate(contours):\n",
    "    print(f\"for contour #{n}:\")\n",
    "    mask = ~_get_contiguous_mask(contour, threshold=2)\n",
    "    print('\\t',sum(mask), _is_contour_contiguous(contour, threshold=2),_are_ends_contiguous(contour))"
   ]
  },
  {
   "cell_type": "code",
   "execution_count": null,
   "metadata": {
    "ExecuteTime": {
     "end_time": "2020-10-21T20:23:58.460067Z",
     "start_time": "2020-10-21T20:23:58.457488Z"
    },
    "hidden": true
   },
   "outputs": [],
   "source": []
  },
  {
   "cell_type": "code",
   "execution_count": 275,
   "metadata": {
    "ExecuteTime": {
     "end_time": "2020-10-21T20:41:58.288828Z",
     "start_time": "2020-10-21T20:41:58.286900Z"
    },
    "hidden": true
   },
   "outputs": [],
   "source": [
    "# contour = contours[3]\n",
    "# mask = _get_contiguous_mask(contour, threshold=2)\n",
    "# # mask = np.concatenate([np.array([True]),mask])\n",
    "# indices = np.nonzero(~mask)[0]+1\n",
    "# contour_lst = np.split(contour,indices)\n",
    "# # mask_lst = np.split(mask,indices)"
   ]
  },
  {
   "cell_type": "code",
   "execution_count": 276,
   "metadata": {
    "ExecuteTime": {
     "end_time": "2020-10-21T20:42:01.321851Z",
     "start_time": "2020-10-21T20:42:01.318921Z"
    },
    "hidden": true
   },
   "outputs": [],
   "source": [
    "def _split_contour_into_contiguous(contour, threshold=2):\n",
    "    '''returns a list of contiguous contours. \n",
    "    threshold = the max number of pixels two points may be separated by to be considered contiguous.\n",
    "    split the contour into a contour_lst of contiguous contours.\n",
    "    the last contour may have length 1 or 0.  simply ignore those later.'''\n",
    "    mask = _get_contiguous_mask(contour, threshold=threshold)\n",
    "    indices = np.nonzero(~mask)[0]+1\n",
    "    contour_lst = np.split(contour,indices)\n",
    "    return contour_lst"
   ]
  },
  {
   "cell_type": "code",
   "execution_count": 279,
   "metadata": {
    "ExecuteTime": {
     "end_time": "2020-10-21T20:42:28.925954Z",
     "start_time": "2020-10-21T20:42:28.910924Z"
    },
    "hidden": true
   },
   "outputs": [],
   "source": [
    "#test that split_contour_into_contiguous returns only contours that are contiguous\n",
    "x, y = np.ogrid[-np.pi:np.pi:100j, -np.pi:np.pi:100j]\n",
    "r = np.sin(np.exp((np.sin(x)**3 + np.cos(y)**2)))\n",
    "contours = fc(r, level=.5, mode='pbc')\n",
    "\n",
    "for contour in contours:\n",
    "    contour_lst = _split_contour_into_contiguous(contour)\n",
    "    for ct in contour_lst:\n",
    "        assert(_is_contour_contiguous(ct))"
   ]
  },
  {
   "cell_type": "code",
   "execution_count": 301,
   "metadata": {
    "ExecuteTime": {
     "end_time": "2020-10-21T20:47:10.574837Z",
     "start_time": "2020-10-21T20:47:10.250260Z"
    },
    "hidden": true
   },
   "outputs": [
    {
     "data": {
      "image/png": "[encoded data removed]",
      "text/plain": [
       "<Figure size 576x288 with 2 Axes>"
      ]
     },
     "metadata": {},
     "output_type": "display_data"
    }
   ],
   "source": [
    "# Display the image and plot all pbc contours found properly!\n",
    "save = True\n",
    "fig, axs = plt.subplots(ncols = 2, figsize=(8,4))\n",
    "ax = axs[0]\n",
    "#plot lower level bound of the separatrix\n",
    "level = 0.411093\n",
    "contours = fc(r, level, mode='pbc')\n",
    "ax.imshow(r, cmap=plt.cm.gray)\n",
    "for contour in contours:\n",
    "    contour_lst = _split_contour_into_contiguous(contour)\n",
    "    #plot the first segment of this pbc contour\n",
    "    ct = contour_lst[0]\n",
    "    p = ax.plot(ct[:, 1], ct[:, 0], linewidth=2)\n",
    "    #if there are more segments, plot them as well.\n",
    "    if len(contour_lst)>1:\n",
    "        color = p[0].get_color()\n",
    "        for ct in contour_lst[1:]:\n",
    "            ax.plot(ct[:, 1], ct[:, 0], linewidth=2, color=color)\n",
    "ax.set_title(f'level = {level}')\n",
    "ax.axis('image')\n",
    "ax.set_xticks([])\n",
    "ax.set_yticks([])\n",
    "\n",
    "ax = axs[1]\n",
    "#plot lower level bound of the separatrix\n",
    "level = 0.411094\n",
    "contours = fc(r, level, mode='pbc')\n",
    "ax.imshow(r, cmap=plt.cm.gray)\n",
    "for contour in contours:\n",
    "    contour_lst = _split_contour_into_contiguous(contour)\n",
    "    #plot the first segment of this pbc contour\n",
    "    ct = contour_lst[0]\n",
    "    p = ax.plot(ct[:, 1], ct[:, 0], linewidth=2)\n",
    "    #if there are more segments, plot them as well.\n",
    "    if len(contour_lst)>1:\n",
    "        color = p[0].get_color()\n",
    "        for ct in contour_lst[1:]:\n",
    "            ax.plot(ct[:, 1], ct[:, 0], linewidth=2, color=color)\n",
    "ax.set_title(f'level = {level}')\n",
    "ax.axis('image')\n",
    "ax.set_xticks([])\n",
    "ax.set_yticks([])\n",
    "\n",
    "if not save:\n",
    "    plt.show()\n",
    "else:\n",
    "    os.chdir(nb_dir)\n",
    "    os.chdir('Figures/methods')\n",
    "    plt.savefig('example_marching_squares_lewiner_pbc_3.png')"
   ]
  },
  {
   "cell_type": "markdown",
   "metadata": {
    "ExecuteTime": {
     "end_time": "2020-10-21T20:34:11.779507Z",
     "start_time": "2020-10-21T20:34:11.771100Z"
    },
    "heading_collapsed": true
   },
   "source": [
    "# (homerun) compute spiral tip locations points using this wonderful method"
   ]
  },
  {
   "cell_type": "code",
   "execution_count": 3,
   "metadata": {
    "ExecuteTime": {
     "end_time": "2020-10-26T21:59:27.443607Z",
     "start_time": "2020-10-26T21:59:27.420353Z"
    },
    "hidden": true
   },
   "outputs": [],
   "source": [
    "# from lib.measure import find_contours\n",
    "# from lib.measure._utils_find_contours import *"
   ]
  },
  {
   "cell_type": "code",
   "execution_count": 27,
   "metadata": {
    "ExecuteTime": {
     "end_time": "2020-10-21T23:11:17.696629Z",
     "start_time": "2020-10-21T23:11:14.852884Z"
    },
    "hidden": true
   },
   "outputs": [
    {
     "ename": "KeyboardInterrupt",
     "evalue": "",
     "output_type": "error",
     "traceback": [
      "\u001b[0;31m---------------------------------------------------------------------------\u001b[0m",
      "\u001b[0;31mKeyboardInterrupt\u001b[0m                         Traceback (most recent call last)",
      "\u001b[0;32m<ipython-input-27-d2e42f4c0a2f>\u001b[0m in \u001b[0;36m<module>\u001b[0;34m\u001b[0m\n\u001b[1;32m      4\u001b[0m \u001b[0;32mfor\u001b[0m \u001b[0mj\u001b[0m \u001b[0;32min\u001b[0m \u001b[0mrange\u001b[0m\u001b[0;34m(\u001b[0m\u001b[0;36m20000\u001b[0m\u001b[0;34m)\u001b[0m\u001b[0;34m:\u001b[0m\u001b[0;34m\u001b[0m\u001b[0;34m\u001b[0m\u001b[0m\n\u001b[1;32m      5\u001b[0m     \u001b[0mzero_txt\u001b[0m \u001b[0;34m=\u001b[0m \u001b[0mtxt\u001b[0m\u001b[0;34m.\u001b[0m\u001b[0mcopy\u001b[0m\u001b[0;34m(\u001b[0m\u001b[0;34m)\u001b[0m\u001b[0;34m*\u001b[0m\u001b[0;36m0.\u001b[0m\u001b[0;34m\u001b[0m\u001b[0;34m\u001b[0m\u001b[0m\n\u001b[0;32m----> 6\u001b[0;31m     \u001b[0mtime_step\u001b[0m\u001b[0;34m(\u001b[0m\u001b[0mtxt\u001b[0m\u001b[0;34m,\u001b[0m \u001b[0mh\u001b[0m\u001b[0;34m=\u001b[0m\u001b[0;36m0.025\u001b[0m\u001b[0;34m,\u001b[0m \u001b[0mzero_txt\u001b[0m\u001b[0;34m=\u001b[0m\u001b[0mzero_txt\u001b[0m\u001b[0;34m)\u001b[0m\u001b[0;34m\u001b[0m\u001b[0;34m\u001b[0m\u001b[0m\n\u001b[0m\u001b[1;32m      7\u001b[0m \u001b[0mos\u001b[0m\u001b[0;34m.\u001b[0m\u001b[0mchdir\u001b[0m\u001b[0;34m(\u001b[0m\u001b[0mnb_dir\u001b[0m\u001b[0;34m+\u001b[0m\u001b[0;34m'/Data'\u001b[0m\u001b[0;34m)\u001b[0m\u001b[0;34m\u001b[0m\u001b[0;34m\u001b[0m\u001b[0m\n\u001b[1;32m      8\u001b[0m \u001b[0mnp\u001b[0m\u001b[0;34m.\u001b[0m\u001b[0msavez_compressed\u001b[0m\u001b[0;34m(\u001b[0m\u001b[0;34m'test_txt.npz'\u001b[0m\u001b[0;34m,\u001b[0m\u001b[0mtxt\u001b[0m\u001b[0;34m)\u001b[0m\u001b[0;34m\u001b[0m\u001b[0;34m\u001b[0m\u001b[0m\n",
      "\u001b[0;31mKeyboardInterrupt\u001b[0m: "
     ]
    }
   ],
   "source": [
    "#import an example inital condition txt and step forward until pbc are enforced (up to t = 500 ms).\n",
    "file = nb_dir+'/Data'+'/initial-conditions-suite-1/ic-out/ic_200x200.120.32.npz'\n",
    "txt = load_buffer(file)\n",
    "for j in range(20000):\n",
    "    zero_txt = txt.copy()*0.\n",
    "    time_step(txt, h=0.025, zero_txt=zero_txt)\n",
    "os.chdir(nb_dir+'/Data')\n",
    "np.savez_compressed('test_txt.npz',txt)"
   ]
  },
  {
   "cell_type": "code",
   "execution_count": null,
   "metadata": {
    "ExecuteTime": {
     "end_time": "2020-10-24T20:12:56.411555Z",
     "start_time": "2020-10-24T20:12:56.387244Z"
    },
    "hidden": true
   },
   "outputs": [],
   "source": []
  },
  {
   "cell_type": "code",
   "execution_count": 328,
   "metadata": {
    "ExecuteTime": {
     "end_time": "2020-10-21T21:22:55.237173Z",
     "start_time": "2020-10-21T21:22:55.202095Z"
    },
    "hidden": true
   },
   "outputs": [],
   "source": [
    "#compute as discrete flow map dtexture_dt\n",
    "zero_txt = txt.copy()*0.\n",
    "\n",
    "#calculate \n",
    "dtexture_dt = zero_txt.copy()\n",
    "get_time_step(txt, dtexture_dt)\n",
    "\n",
    "#compute the images to find isosurfaces of\n",
    "img    = txt[...,0]\n",
    "dimgdt = dtexture_dt[...,0]\n",
    "\n",
    "#compute both families of contours\n",
    "contours1 = find_contours(img, level = 0.5)\n",
    "contours2 = find_contours(dimgdt, level = 0.0)\n",
    "\n",
    "#find_tips\n",
    "n_list, x_lst, y_lst = find_tips(contours1, contours2)\n",
    "\n",
    "num_tips = count_tips(x_lst)\n",
    "x_values = np.array(_flatten(x_lst))\n",
    "y_values = np.array(_flatten(y_lst))"
   ]
  },
  {
   "cell_type": "code",
   "execution_count": 166,
   "metadata": {
    "ExecuteTime": {
     "end_time": "2020-10-24T20:12:17.993054Z",
     "start_time": "2020-10-24T20:12:17.968576Z"
    },
    "hidden": true
   },
   "outputs": [],
   "source": [
    "# def find_tips(contours1, contours2):\n",
    "#     '''returns tips with indices of parent contours.\n",
    "#     _split_contour_into_contiguous is used to delete segments that jump accross the edges of the computational domain.'''\n",
    "#     n_list = []; x_lst = []; y_lst = []\n",
    "#     for n1, contour1 in enumerate(contours1):\n",
    "#         contour1_lst = split_contour_into_contiguous(contour1)\n",
    "#         for c1 in contour1_lst:\n",
    "#             for n2, contour2 in enumerate(contours2):\n",
    "#                 contour2_lst = split_contour_into_contiguous(contour2)\n",
    "#                 for c2 in contour2_lst:\n",
    "#                     x1, y1 = (c1[:, 0], c1[:, 1])\n",
    "#                     x2, y2 = (c2[:, 0], c2[:, 1])\n",
    "#                     y, x = intersection(x1, y1, x2, y2)\n",
    "#                     if len(x)>0:\n",
    "#                         s = (n1,n2)\n",
    "#                         x = list(x)\n",
    "#                         y = list(y)\n",
    "#                         n_list.append(s)\n",
    "#                         x_lst.append(x)\n",
    "#                         y_lst.append(y)\n",
    "#     return n_list, x_lst, y_lst"
   ]
  },
  {
   "cell_type": "code",
   "execution_count": 7,
   "metadata": {
    "ExecuteTime": {
     "end_time": "2020-10-21T22:57:48.185572Z",
     "start_time": "2020-10-21T22:57:48.161647Z"
    },
    "hidden": true
   },
   "outputs": [],
   "source": [
    "#TODO: compute the intersection points of those contours\n",
    "#Hint: use previously optimized intersect function to compute the locations of the spiral tips!\n",
    "#TODO(later?): consider optimizing this slowest function get_tips using a cython implementation"
   ]
  },
  {
   "cell_type": "code",
   "execution_count": 309,
   "metadata": {
    "ExecuteTime": {
     "end_time": "2020-10-24T21:10:21.012920Z",
     "start_time": "2020-10-24T21:10:20.988004Z"
    },
    "hidden": true
   },
   "outputs": [],
   "source": [
    "# def _flatten(x_lst):\n",
    "#     xlist = []\n",
    "#     for xl in x_lst:\n",
    "#         xlist.extend(xl)\n",
    "#     return xlist\n",
    "\n"
   ]
  },
  {
   "cell_type": "code",
   "execution_count": 348,
   "metadata": {
    "ExecuteTime": {
     "end_time": "2020-10-26T21:51:07.080699Z",
     "start_time": "2020-10-26T21:51:07.052881Z"
    },
    "hidden": true
   },
   "outputs": [],
   "source": [
    "# def plot_contours_pbc(contours, ax, linewidth=2, min_num_vertices=1, alpha=1., linestyle = '-'):\n",
    "#     for contour in contours:\n",
    "#         if len(contour)>=min_num_vertices:\n",
    "#             contour_lst = _split_contour_into_contiguous(contour)\n",
    "#             #plot the first segment of this pbc contour\n",
    "#             ct = contour_lst[0]\n",
    "#             if len(ct)>min_num_vertices:\n",
    "#                 p = ax.plot(ct[:, 1], ct[:, 0], linewidth=linewidth, alpha=alpha, linestyle=linestyle)\n",
    "#                 #if there are more segments, plot them as well.\n",
    "#                 if len(contour_lst)>1:\n",
    "#                     color = p[0].get_color()\n",
    "#                     for ct in contour_lst[1:]:\n",
    "#                         if len(ct)>min_num_vertices:\n",
    "#                             ax.plot(ct[:, 1], ct[:, 0], linewidth=linewidth, color=color, alpha=alpha, linestyle=linestyle)\n",
    "# # def segment_and_filter_short_contours(contours, min_num_vertices=2):\n",
    "# #     '''avoid using this function directly, as it destroys contour index information'''\n",
    "# #     contours_lst_out = []\n",
    "# #     for contour in contours:\n",
    "# #         contour_lst = _split_contour_into_contiguous(contour)\n",
    "# #         contour_lst_out = []\n",
    "# #         #plot the first segment of this pbc contour\n",
    "# #         ct = contour_lst[0]\n",
    "# #         if len(ct)>=min_num_vertices:\n",
    "# #             contour_lst_out.append(ct)\n",
    "# #         #if there are more segments, plot them as well.\n",
    "# #         if len(contour_lst)>1:\n",
    "# #             for ct in contour_lst[1:]:\n",
    "# #                 if len(ct)>=min_num_vertices:\n",
    "# #                     contour_lst_out.append(ct)\n",
    "# #         contours_lst_out.append(contour_lst_out)\n",
    "# #     return contours_lst_out"
   ]
  },
  {
   "cell_type": "code",
   "execution_count": 347,
   "metadata": {
    "ExecuteTime": {
     "end_time": "2020-10-26T21:50:50.114090Z",
     "start_time": "2020-10-26T21:50:49.784128Z"
    },
    "hidden": true,
    "scrolled": true
   },
   "outputs": [
    {
     "ename": "NameError",
     "evalue": "name '_split_contour_into_contiguous' is not defined",
     "output_type": "error",
     "traceback": [
      "\u001b[0;31m---------------------------------------------------------------------------\u001b[0m",
      "\u001b[0;31mNameError\u001b[0m                                 Traceback (most recent call last)",
      "\u001b[0;32m<ipython-input-347-8d020a183098>\u001b[0m in \u001b[0;36m<module>\u001b[0;34m\u001b[0m\n\u001b[1;32m      7\u001b[0m \u001b[0;31m# contours1 = fc(img, level=0.5, mode='pbc')\u001b[0m\u001b[0;34m\u001b[0m\u001b[0;34m\u001b[0m\u001b[0;34m\u001b[0m\u001b[0m\n\u001b[1;32m      8\u001b[0m \u001b[0max\u001b[0m\u001b[0;34m.\u001b[0m\u001b[0mimshow\u001b[0m\u001b[0;34m(\u001b[0m\u001b[0mimg\u001b[0m\u001b[0;34m,\u001b[0m \u001b[0mcmap\u001b[0m\u001b[0;34m=\u001b[0m\u001b[0mplt\u001b[0m\u001b[0;34m.\u001b[0m\u001b[0mcm\u001b[0m\u001b[0;34m.\u001b[0m\u001b[0mgray\u001b[0m\u001b[0;34m)\u001b[0m\u001b[0;34m\u001b[0m\u001b[0;34m\u001b[0m\u001b[0m\n\u001b[0;32m----> 9\u001b[0;31m \u001b[0mplot_contours_pbc\u001b[0m\u001b[0;34m(\u001b[0m\u001b[0mcontours1\u001b[0m\u001b[0;34m,\u001b[0m \u001b[0max\u001b[0m\u001b[0;34m,\u001b[0m \u001b[0mlinewidth\u001b[0m\u001b[0;34m=\u001b[0m\u001b[0;36m2\u001b[0m\u001b[0;34m,\u001b[0m \u001b[0mmin_num_vertices\u001b[0m\u001b[0;34m=\u001b[0m\u001b[0;36m5\u001b[0m\u001b[0;34m,\u001b[0m \u001b[0mlinestyle\u001b[0m\u001b[0;34m=\u001b[0m\u001b[0;34m'-'\u001b[0m\u001b[0;34m)\u001b[0m\u001b[0;34m\u001b[0m\u001b[0;34m\u001b[0m\u001b[0m\n\u001b[0m\u001b[1;32m     10\u001b[0m \u001b[0;34m\u001b[0m\u001b[0m\n\u001b[1;32m     11\u001b[0m \u001b[0;31m# contours2 = fc(dimgdt, level=0.0, mode='pbc')\u001b[0m\u001b[0;34m\u001b[0m\u001b[0;34m\u001b[0m\u001b[0;34m\u001b[0m\u001b[0m\n",
      "\u001b[0;32m<ipython-input-346-55e6dc7316fc>\u001b[0m in \u001b[0;36mplot_contours_pbc\u001b[0;34m(contours, ax, linewidth, min_num_vertices, alpha, linestyle)\u001b[0m\n\u001b[1;32m      2\u001b[0m     \u001b[0;32mfor\u001b[0m \u001b[0mcontour\u001b[0m \u001b[0;32min\u001b[0m \u001b[0mcontours\u001b[0m\u001b[0;34m:\u001b[0m\u001b[0;34m\u001b[0m\u001b[0;34m\u001b[0m\u001b[0m\n\u001b[1;32m      3\u001b[0m         \u001b[0;32mif\u001b[0m \u001b[0mlen\u001b[0m\u001b[0;34m(\u001b[0m\u001b[0mcontour\u001b[0m\u001b[0;34m)\u001b[0m\u001b[0;34m>=\u001b[0m\u001b[0mmin_num_vertices\u001b[0m\u001b[0;34m:\u001b[0m\u001b[0;34m\u001b[0m\u001b[0;34m\u001b[0m\u001b[0m\n\u001b[0;32m----> 4\u001b[0;31m             \u001b[0mcontour_lst\u001b[0m \u001b[0;34m=\u001b[0m \u001b[0m_split_contour_into_contiguous\u001b[0m\u001b[0;34m(\u001b[0m\u001b[0mcontour\u001b[0m\u001b[0;34m)\u001b[0m\u001b[0;34m\u001b[0m\u001b[0;34m\u001b[0m\u001b[0m\n\u001b[0m\u001b[1;32m      5\u001b[0m             \u001b[0;31m#plot the first segment of this pbc contour\u001b[0m\u001b[0;34m\u001b[0m\u001b[0;34m\u001b[0m\u001b[0;34m\u001b[0m\u001b[0m\n\u001b[1;32m      6\u001b[0m             \u001b[0mct\u001b[0m \u001b[0;34m=\u001b[0m \u001b[0mcontour_lst\u001b[0m\u001b[0;34m[\u001b[0m\u001b[0;36m0\u001b[0m\u001b[0;34m]\u001b[0m\u001b[0;34m\u001b[0m\u001b[0;34m\u001b[0m\u001b[0m\n",
      "\u001b[0;31mNameError\u001b[0m: name '_split_contour_into_contiguous' is not defined"
     ]
    },
    {
     "data": {
      "image/png": "[encoded data removed]",
      "text/plain": [
       "<Figure size 432x432 with 1 Axes>"
      ]
     },
     "metadata": {
      "needs_background": "light"
     },
     "output_type": "display_data"
    }
   ],
   "source": [
    "# Display the image and plot all pbc contours found properly!\n",
    "save = False\n",
    "fig, ax = plt.subplots(figsize=(6,6))\n",
    "# fig, axs = plt.subplots(ncols = 2, figsize=(8,4))\n",
    "# ax = axs[0]\n",
    "\n",
    "# contours1 = fc(img, level=0.5, mode='pbc')\n",
    "ax.imshow(img, cmap=plt.cm.gray)\n",
    "plot_contours_pbc(contours1, ax, linewidth=2, min_num_vertices=5, linestyle='-')\n",
    "\n",
    "# contours2 = fc(dimgdt, level=0.0, mode='pbc')\n",
    "# ax.imshow(img, cmap=plt.cm.gray)\n",
    "plot_contours_pbc(contours2, ax, linewidth=2, min_num_vertices=5, linestyle='--')\n",
    "\n",
    "ax.scatter(x=x_values, y=y_values, s=90, c='yellow', marker='*', zorder=3)\n",
    "\n",
    "\n",
    "ax.set_title(f\"Number of Tips = {num_tips}\")\n",
    "ax.axis('image')\n",
    "ax.set_xticks([])\n",
    "ax.set_yticks([])\n",
    "\n",
    "if not save:\n",
    "    plt.show()\n",
    "else:\n",
    "    os.chdir(nb_dir)\n",
    "    os.chdir('Figures/methods')\n",
    "    plt.savefig('example_parameterless_tip_detection.png')"
   ]
  },
  {
   "cell_type": "markdown",
   "metadata": {
    "heading_collapsed": true
   },
   "source": [
    "# dev intersection with seamless tip motion over periodic boundaries"
   ]
  },
  {
   "cell_type": "markdown",
   "metadata": {
    "hidden": true
   },
   "source": [
    "- DONE(oops. ignore...): pad the input txt by 1 row and 1 column with wrapped boundary conditions (see prev pad, this may be really fast/done already)\n",
    "\n",
    "- I can't do that because I made the find_contour obey pbc explicitly...\n",
    "\n",
    "- DONE: whenever there's a jump, augment the contour at the jump with one more contour point"
   ]
  },
  {
   "cell_type": "code",
   "execution_count": 64,
   "metadata": {
    "ExecuteTime": {
     "end_time": "2020-10-21T23:32:42.904271Z",
     "start_time": "2020-10-21T23:32:42.880312Z"
    },
    "hidden": true
   },
   "outputs": [],
   "source": [
    "# #this is unused\n",
    "# def pad_mat_by_1x1(mat):\n",
    "#     '''pad the input txt by 1 row and 1 column with wrapped boundary conditions (see prev pad, this may be really fast/done already)'''\n",
    "#     return np.pad(array = mat, pad_width = 1, mode = 'wrap')[1:,1:]"
   ]
  },
  {
   "cell_type": "code",
   "execution_count": 63,
   "metadata": {
    "ExecuteTime": {
     "end_time": "2020-10-21T23:27:33.205525Z",
     "start_time": "2020-10-21T23:27:33.178896Z"
    },
    "hidden": true
   },
   "outputs": [],
   "source": [
    "# mat = txt[...,0]\n",
    "# retmat = pad_mat_by_1x1(mat)\n",
    "\n",
    "# #test that the new first column matches the first old column\n",
    "# assert ( np.isclose(retmat[0,:-1],mat[0,:]).all() ) \n",
    "# #test that the new last column matches the first old column\n",
    "# assert ( np.isclose(retmat[-1,:-1],mat[0,:]).all() ) \n",
    "\n",
    "# #test that the new first row matches the first old row\n",
    "# assert ( np.isclose(retmat.T[0,:-1],mat.T[0,:]).all() ) \n",
    "# #test that the new last row matches the first old row\n",
    "# assert ( np.isclose(retmat.T[-1,:-1],mat.T[0,:]).all() ) "
   ]
  },
  {
   "cell_type": "code",
   "execution_count": 254,
   "metadata": {
    "ExecuteTime": {
     "end_time": "2020-10-24T20:59:22.272316Z",
     "start_time": "2020-10-24T20:59:22.244633Z"
    },
    "hidden": true
   },
   "outputs": [],
   "source": [
    "# import numpy as np\n",
    "\n",
    "# #boolean functions for continuity.  helps with periodic functions\n",
    "# def _get_contiguous_mask(contour, threshold=2):\n",
    "#     '''returns boolean array based on proximity according to Euclidean distance.\n",
    "#     an entry is False if the contour jumps accross a boundary.'''\n",
    "#     return np.linalg.norm(np.diff(contour, axis=0), axis=-1)<threshold\n",
    "# def _is_contour_contiguous(contour, threshold=2):\n",
    "#     '''returns True is the contour makes no jumps accross the boundary.'''\n",
    "#     mask = _get_contiguous_mask(contour, threshold=threshold)\n",
    "#     return mask.all()\n",
    "# def _are_ends_contiguous(contour):\n",
    "#     '''returns whether the first and final contour points are contiguous.\n",
    "#     This appeared to always yield true in a few sample test cases.'''\n",
    "#     return (contour[0] == contour[-1]).all()\n",
    "\n",
    "# def _split_contour_into_contiguous(contour, threshold=2):\n",
    "#     '''returns a list of contiguous contours. \n",
    "#     threshold = the max number of pixels two points may be separated by to be considered contiguous.\n",
    "#     split the contour into a contour_lst of contiguous contours.\n",
    "#     the last contour may have length 1 or 0.  simply ignore those later.'''\n",
    "#     mask = _get_contiguous_mask(contour, threshold=threshold)\n",
    "#     indices = np.nonzero(~mask)[0]+1\n",
    "#     contour_lst = np.split(contour,indices)\n",
    "#     return contour_lst\n",
    "\n",
    "# def split_contour_into_contiguous(contour, threshold=2):\n",
    "#     return _split_contour_into_contiguous(contour, threshold=threshold)"
   ]
  },
  {
   "cell_type": "code",
   "execution_count": 400,
   "metadata": {
    "ExecuteTime": {
     "end_time": "2020-10-24T21:40:09.899303Z",
     "start_time": "2020-10-24T21:40:09.870060Z"
    },
    "hidden": true
   },
   "outputs": [],
   "source": [
    "# def _bring_vertices_together(vmove, vtarget, width, height):\n",
    "#     '''bring 2D vertex vmove as close as possible to 2D vertex \n",
    "#     vtarget by changing xy coordinates by width or height.'''\n",
    "#     vw = np.array([width,0.])\n",
    "#     vh = np.array([0.,height])\n",
    "#     dist = np.linalg.norm(vmove-vtarget)\n",
    "#     vtest = vmove + vw\n",
    "#     dist_test = np.linalg.norm(vtest-vtarget)\n",
    "#     if dist_test < dist:\n",
    "#         vmove = vtest.copy()\n",
    "#         dist = np.linalg.norm(vmove-vtarget)\n",
    "#     else:\n",
    "#         vtest = vmove - vw\n",
    "#         dist_test = np.linalg.norm(vtest-vtarget)\n",
    "#         if dist_test < dist:\n",
    "#             vmove = vtest.copy()\n",
    "#             dist = np.linalg.norm(vmove-vtarget)\n",
    "#     vtest = vmove + vh\n",
    "#     dist_test = np.linalg.norm(vtest-vtarget)\n",
    "#     if dist_test < dist:\n",
    "#         vmove = vtest.copy()\n",
    "#         dist = np.linalg.norm(vmove-vtarget)\n",
    "#     else:\n",
    "#         vtest = vmove - vh\n",
    "#         dist_test = np.linalg.norm(vtest-vtarget)\n",
    "#         if dist_test < dist:\n",
    "#             vmove = vtest.copy()\n",
    "#             #dist = np.linalg.norm(vmove-vtarget)\n",
    "#     return vmove"
   ]
  },
  {
   "cell_type": "code",
   "execution_count": 401,
   "metadata": {
    "ExecuteTime": {
     "end_time": "2020-10-24T21:40:10.392074Z",
     "start_time": "2020-10-24T21:40:10.369008Z"
    },
    "hidden": true
   },
   "outputs": [],
   "source": [
    "# def split_and_augment_contour_into_contiguous_segments(contour, width, height, threshold=2):\n",
    "#     '''returns a list of contiguous contours with one contour vertex added from across the computational domain, mapped onto the local coordinates. \n",
    "#     threshold = the max number of pixels two points may be separated by to be considered contiguous.\n",
    "#     split the contour into a contour_lst of contiguous contours.\n",
    "#     the last contour may have length 1 or 0.  simply ignore those later.'''\n",
    "#     mask = _get_contiguous_mask(contour, threshold=threshold)\n",
    "#     if mask.all():\n",
    "#         #the contour is contiguous, no augmentation necessary.  Return the input contour as a list of one contour segment\n",
    "#         return [contour]\n",
    "#     else:\n",
    "#         #the contour is not contiguous, jumps occured accross boundary\n",
    "#         indices = np.nonzero(~mask)[0]+1\n",
    "#         contour_lst = np.split(contour,indices)\n",
    "        \n",
    "#         #augment the end of each contiguous segment with the start of the following segment, if there is a following segment\n",
    "#         for n in range(len(contour_lst)-1):\n",
    "#             ct      = contour_lst[n]\n",
    "#             vtarget = ct[-1]\n",
    "#             vmove   = contour_lst[n+1][0]\n",
    "#             #map the next vertex onto the current vertex\n",
    "#             vmapped = _bring_vertices_together(vmove, vtarget, width, height)\n",
    "            \n",
    "#             #print( f\"Check {vmove} correctly moved to {vmapped} to meet {vtarget}.\")\n",
    "#             #if vmapped is not exactly on top of vtarget\n",
    "#             if ~(vmapped==vtarget).all():\n",
    "#                 #augment that contour with the mapped vertex\n",
    "#                 contour_lst[n] = np.vstack([ct,vmapped])\n",
    "#         return contour_lst"
   ]
  },
  {
   "cell_type": "code",
   "execution_count": 257,
   "metadata": {
    "ExecuteTime": {
     "end_time": "2020-10-24T20:59:24.155362Z",
     "start_time": "2020-10-24T20:59:24.131365Z"
    },
    "hidden": true
   },
   "outputs": [],
   "source": [
    "# #TODO: cython this shiz\n",
    "# def find_tips(contours1, contours2):\n",
    "#     '''returns tips with indices of parent contours.\n",
    "#     contours1 and contours2 are a lists of numpy arrays.  \n",
    "#     each such numpy array is an Nx2 array representing a contiguous contour (i.e. continuous in local xy coordinates).'''\n",
    "#     n_list = []; x_lst = []; y_lst = []\n",
    "#     for n1, contour1_lst in enumerate(contours1):\n",
    "#         #contour1_lst = split_contour_into_contiguous(contour1)\n",
    "#         for c1 in contour1_lst:\n",
    "#             for n2, contour2_lst in enumerate(contours2):\n",
    "#                 #contour2_lst = split_contour_into_contiguous(contour2)\n",
    "#                 for c2 in contour2_lst:\n",
    "#                     x1, y1 = (c1[:, 0], c1[:, 1])\n",
    "#                     x2, y2 = (c2[:, 0], c2[:, 1])\n",
    "#                     try:\n",
    "#                         y, x = intersection(x1, y1, x2, y2)\n",
    "#                     except Exception as e:\n",
    "#                         print(e)\n",
    "#                         print(f\"x1 = {x1}\")\n",
    "#                         print(f\"y1 = {y1}\")\n",
    "#                         print(f\"x2 = {x2}\")\n",
    "#                         print(f\"y2 = {y2}\")\n",
    "#                     #y, x = intersection(x1, y1, x2, y2)\n",
    "#                     if len(x)>0:\n",
    "#                         s = (n1,n2)\n",
    "#                         x = list(x)\n",
    "#                         y = list(y)\n",
    "#                         n_list.append(s)\n",
    "#                         x_lst.append(x)\n",
    "#                         y_lst.append(y)\n",
    "#     return n_list, x_lst, y_lst"
   ]
  },
  {
   "cell_type": "code",
   "execution_count": 258,
   "metadata": {
    "ExecuteTime": {
     "end_time": "2020-10-24T20:59:24.965315Z",
     "start_time": "2020-10-24T20:59:24.937174Z"
    },
    "hidden": true
   },
   "outputs": [],
   "source": [
    "# def contours_to_simple_tips_pbc(contours1,contours2,width, height,jump_threshold = 2,size_threshold = 6):\n",
    "#     '''Find the intersection points of two families of contour lines.\n",
    "#     contours_to_simple_tips_pbc returns spiral tips as a tuple of lists, n_lst, x_lst, y_lst.\n",
    "#     n_lst = list of tuples with the first tuple value is the index of the parent contour1 and the second tuple value is the index of the parent contour2.\n",
    "#     x_lst = list of lists of intersection x coordinates cooresponding to the tuples in n_lst.\n",
    "#     y_lst = list of lists of intersection y coordinates cooresponding to the tuples in n_lst.\n",
    "#     width, height = the number of rows?,columns? of the input image\n",
    "#     jump_threshold = max distance in pixels to not be considered a jump\n",
    "#     size_threshold = minimum number of vertices in a whole input contour to be considered \n",
    "    \n",
    "#     pixels are taken to be centered at integer xy coordinates.\n",
    "#     (nota bene for my original use case: a lot of 5 vertex contours were observed in contours2,\n",
    "#     where contours1 and contour2 are results of lewiner marching squares (that used explicit pbc).  )    \n",
    "#     '''\n",
    "#     #segment and augment contours of the first family\n",
    "#     contour1_lst_lst = []\n",
    "#     for contour in contours1:\n",
    "#         if len(contour) >= size_threshold:\n",
    "#             contour1_lst = split_and_augment_contour_into_contiguous_segments(contour, width, height, threshold=jump_threshold)\n",
    "#             contour1_lst_lst.append(contour1_lst)\n",
    "#     #segment and augment contours of the second family\n",
    "#     contour2_lst_lst = []\n",
    "#     for contour in contours2:\n",
    "#         if len(contour) >= size_threshold:\n",
    "#             contour2_lst = split_and_augment_contour_into_contiguous_segments(contour, width, height, threshold=jump_threshold)\n",
    "#             contour2_lst_lst.append(contour2_lst)\n",
    "\n",
    "#     #detect tips as above. Print tip number as above\n",
    "#     n_lst, x_lst, y_lst = find_tips(contour1_lst_lst, contour2_lst_lst)\n",
    "#     return n_lst, x_lst, y_lst"
   ]
  },
  {
   "cell_type": "code",
   "execution_count": 259,
   "metadata": {
    "ExecuteTime": {
     "end_time": "2020-10-24T20:59:26.501118Z",
     "start_time": "2020-10-24T20:59:26.126555Z"
    },
    "hidden": true
   },
   "outputs": [
    {
     "name": "stdout",
     "output_type": "stream",
     "text": [
      "10\n"
     ]
    }
   ],
   "source": [
    "#detect tips as above. count tip number as above\n",
    "\n",
    "n_lst, x_lst, y_lst = contours_to_simple_tips_pbc(contours1,contours2,width, height,jump_threshold = 2,size_threshold = 6)\n",
    "n_tips = count_tips(x_lst)\n",
    "print(n_tips)\n",
    "\n",
    "# n_list, x_lst, y_lst = find_tips(contour1_lst_lst, contour2_lst_lst)\n",
    "# n_tips = count_tips(x_lst)"
   ]
  },
  {
   "cell_type": "code",
   "execution_count": 251,
   "metadata": {
    "ExecuteTime": {
     "end_time": "2020-10-24T20:59:09.052769Z",
     "start_time": "2020-10-24T20:59:09.027621Z"
    },
    "hidden": true
   },
   "outputs": [],
   "source": [
    "# jump_threshold = 2 #max distance in pixels to not be considered a jump\n",
    "# size_threshold = 6 #minimum number of vertices in a whole pbc contour to be considered (a lot of 5 vertex contours were observed in contours2)\n",
    "width, height = img.shape[:2]\n",
    "\n",
    "#parse tips\n",
    "# num_tips = count_tips(x_lst)\n",
    "# x_values = np.array(flatten(x_lst))\n",
    "# y_values = np.array(flatten(y_lst))"
   ]
  },
  {
   "cell_type": "markdown",
   "metadata": {
    "ExecuteTime": {
     "end_time": "2020-10-21T22:58:17.874897Z",
     "start_time": "2020-10-21T22:58:17.856374Z"
    }
   },
   "source": [
    "# rudimentary test shows stability in spiral tip number over long times with high time resolution \n",
    "- uses topologically dense method of detection (Caution! Very slow!)"
   ]
  },
  {
   "cell_type": "code",
   "execution_count": 39,
   "metadata": {
    "ExecuteTime": {
     "end_time": "2020-11-04T18:18:55.216129Z",
     "start_time": "2020-11-04T18:18:55.191725Z"
    }
   },
   "outputs": [],
   "source": [
    "#DONE: just time_step and compute num_tips after every time step\n",
    "#DONE: move all helper files to a .py file\n",
    "#DONE: restart kernel and run a few time steps to make sure everything imports correctly.\n",
    "#DONE: optimize find_tips with cython or numba, whichever is easier\n",
    "from lib import *\n",
    "# from lib.measure import reduce_tips"
   ]
  },
  {
   "cell_type": "code",
   "execution_count": 40,
   "metadata": {
    "ExecuteTime": {
     "end_time": "2020-11-04T18:20:37.720952Z",
     "start_time": "2020-11-04T18:20:37.674793Z"
    }
   },
   "outputs": [],
   "source": [
    "# file = '/Users/timothytyree/Documents/GitHub/care/notebooks/Data/initial-conditions-suite-1/ic-out/ic_200x200.120.32.npz'\n",
    "# txt = load_buffer(file)\n",
    "# t   = 0. #ms\n",
    "\n",
    "#load ^that loaded initial after 20000 steps = 500 ms at time_steps of size 0.025\n",
    "file = '/Users/timothytyree/Documents/GitHub/care/notebooks/Data/test_txt.npz'\n",
    "txt  = load_buffer(file)\n",
    "t   = 500 #ms\n",
    "\n",
    "t_list = []\n",
    "n_list = []   "
   ]
  },
  {
   "cell_type": "code",
   "execution_count": 41,
   "metadata": {
    "ExecuteTime": {
     "end_time": "2020-11-04T18:21:16.526148Z",
     "start_time": "2020-11-04T18:21:16.505703Z"
    }
   },
   "outputs": [],
   "source": [
    "zero_txt = txt.copy()*0.\n",
    "width, height = txt.shape[:2]\n",
    "\n",
    "h    = 0.025 #ms\n",
    "tmax = 3500#3025.600-2*h# 886.6-h#6000#600#510#600#505.225# #ms\n",
    "\n",
    "V_threshold = 0.8\n",
    "jump_threshold = 2 \n",
    "size_threshold = 0\n",
    "pad=2\n",
    "decimals=10"
   ]
  },
  {
   "cell_type": "code",
   "execution_count": 42,
   "metadata": {
    "ExecuteTime": {
     "end_time": "2020-11-05T16:32:49.348483Z",
     "start_time": "2020-11-04T18:21:21.437176Z"
    }
   },
   "outputs": [
    {
     "name": "stdout",
     "output_type": "stream",
     "text": [
      "Progress: |██████████████████--------------------------------| 36.1% Complete\r"
     ]
    },
    {
     "ename": "KeyboardInterrupt",
     "evalue": "",
     "output_type": "error",
     "traceback": [
      "\u001b[0;31m---------------------------------------------------------------------------\u001b[0m",
      "\u001b[0;31mKeyboardInterrupt\u001b[0m                         Traceback (most recent call last)",
      "\u001b[0;32m<ipython-input-42-75b92107708d>\u001b[0m in \u001b[0;36m<module>\u001b[0;34m\u001b[0m\n\u001b[1;32m     27\u001b[0m \u001b[0;34m\u001b[0m\u001b[0m\n\u001b[1;32m     28\u001b[0m     \u001b[0;31m#find_tips and measure tip topological/EP state\u001b[0m\u001b[0;34m\u001b[0m\u001b[0;34m\u001b[0m\u001b[0;34m\u001b[0m\u001b[0m\n\u001b[0;32m---> 29\u001b[0;31m     s1_list, s2_list, x_lst, y_lst, v_lst, f_lst, s_lst = measure_system(contours1, contours2, width, height, txt, \n\u001b[0m\u001b[1;32m     30\u001b[0m                                                                          \u001b[0mjump_threshold\u001b[0m \u001b[0;34m=\u001b[0m \u001b[0mjump_threshold\u001b[0m\u001b[0;34m,\u001b[0m\u001b[0;34m\u001b[0m\u001b[0;34m\u001b[0m\u001b[0m\n\u001b[1;32m     31\u001b[0m                                                                          \u001b[0msize_threshold\u001b[0m \u001b[0;34m=\u001b[0m \u001b[0msize_threshold\u001b[0m\u001b[0;34m,\u001b[0m\u001b[0;34m\u001b[0m\u001b[0;34m\u001b[0m\u001b[0m\n",
      "\u001b[0;32m~/Documents/GitHub/care/notebooks/lib/measure/measure.py\u001b[0m in \u001b[0;36mmeasure_system\u001b[0;34m(contours1, contours2, width, height, texture, jump_threshold, size_threshold, pad, decimals)\u001b[0m\n\u001b[1;32m     54\u001b[0m \u001b[0;32mdef\u001b[0m \u001b[0mmeasure_system\u001b[0m\u001b[0;34m(\u001b[0m\u001b[0mcontours1\u001b[0m\u001b[0;34m,\u001b[0m \u001b[0mcontours2\u001b[0m\u001b[0;34m,\u001b[0m \u001b[0mwidth\u001b[0m\u001b[0;34m,\u001b[0m \u001b[0mheight\u001b[0m\u001b[0;34m,\u001b[0m \u001b[0mtexture\u001b[0m\u001b[0;34m,\u001b[0m \u001b[0mjump_threshold\u001b[0m \u001b[0;34m=\u001b[0m \u001b[0;36m2\u001b[0m\u001b[0;34m,\u001b[0m \u001b[0msize_threshold\u001b[0m \u001b[0;34m=\u001b[0m \u001b[0;36m6\u001b[0m\u001b[0;34m,\u001b[0m \u001b[0mpad\u001b[0m\u001b[0;34m=\u001b[0m\u001b[0;36m1\u001b[0m\u001b[0;34m,\u001b[0m \u001b[0mdecimals\u001b[0m\u001b[0;34m=\u001b[0m\u001b[0;36m11\u001b[0m\u001b[0;34m)\u001b[0m\u001b[0;34m:\u001b[0m\u001b[0;34m\u001b[0m\u001b[0;34m\u001b[0m\u001b[0m\n\u001b[1;32m     55\u001b[0m \t'''returns s1_list, s2_list, x_lst, y_lst, v_lst, f_lst, s_lst\n\u001b[0;32m---> 56\u001b[0;31m         \u001b[0mNota\u001b[0m \u001b[0mBene\u001b[0m\u001b[0;34m:\u001b[0m \u001b[0mThe\u001b[0m \u001b[0mvast\u001b[0m \u001b[0mmajority\u001b[0m \u001b[0mof\u001b[0m \u001b[0mthe\u001b[0m \u001b[0mruntime\u001b[0m \u001b[0mof\u001b[0m \u001b[0mmeasure_system\u001b[0m \u001b[0mresults\u001b[0m \u001b[0;32mfrom\u001b[0m \u001b[0mfind_tips\u001b[0m \u001b[0mdue\u001b[0m \u001b[0mto\u001b[0m \u001b[0mthe\u001b[0m \u001b[0mlist\u001b[0m \u001b[0mof\u001b[0m \u001b[0mlists\u001b[0m \u001b[0mdatastructure\u001b[0m \u001b[0mnecessary\u001b[0m \u001b[0mto\u001b[0m \u001b[0mencode\u001b[0m \u001b[0mtopological\u001b[0m \u001b[0minformation\u001b[0m\u001b[0;34m.\u001b[0m\u001b[0;34m\u001b[0m\u001b[0;34m\u001b[0m\u001b[0m\n\u001b[0m\u001b[1;32m     57\u001b[0m         \u001b[0;31m# Actual acceleration of find_tips using C or LLVM is not straightforward due to memory allocation issues...\u001b[0m\u001b[0;34m\u001b[0m\u001b[0;34m\u001b[0m\u001b[0;34m\u001b[0m\u001b[0m\n\u001b[1;32m     58\u001b[0m         \u001b[0;31m# Speedup is possible, but topological information would be destroyed.'''\u001b[0m\u001b[0;34m\u001b[0m\u001b[0;34m\u001b[0m\u001b[0;34m\u001b[0m\u001b[0m\n",
      "\u001b[0;32m~/Documents/GitHub/care/notebooks/lib/measure/_find_tips.py\u001b[0m in \u001b[0;36mfind_tips\u001b[0;34m(contours1, contours2)\u001b[0m\n\u001b[1;32m     17\u001b[0m                     \u001b[0mx2\u001b[0m\u001b[0;34m,\u001b[0m \u001b[0my2\u001b[0m \u001b[0;34m=\u001b[0m \u001b[0;34m(\u001b[0m\u001b[0mc2\u001b[0m\u001b[0;34m[\u001b[0m\u001b[0;34m:\u001b[0m\u001b[0;34m,\u001b[0m \u001b[0;36m0\u001b[0m\u001b[0;34m]\u001b[0m\u001b[0;34m,\u001b[0m \u001b[0mc2\u001b[0m\u001b[0;34m[\u001b[0m\u001b[0;34m:\u001b[0m\u001b[0;34m,\u001b[0m \u001b[0;36m1\u001b[0m\u001b[0;34m]\u001b[0m\u001b[0;34m)\u001b[0m\u001b[0;34m\u001b[0m\u001b[0;34m\u001b[0m\u001b[0m\n\u001b[1;32m     18\u001b[0m                     \u001b[0;31m#intersection is not the cause of the slowdown\u001b[0m\u001b[0;34m\u001b[0m\u001b[0;34m\u001b[0m\u001b[0;34m\u001b[0m\u001b[0m\n\u001b[0;32m---> 19\u001b[0;31m                     \u001b[0myl\u001b[0m\u001b[0;34m,\u001b[0m \u001b[0mxl\u001b[0m \u001b[0;34m=\u001b[0m \u001b[0mintersection\u001b[0m\u001b[0;34m(\u001b[0m\u001b[0mx1\u001b[0m\u001b[0;34m,\u001b[0m \u001b[0my1\u001b[0m\u001b[0;34m,\u001b[0m \u001b[0mx2\u001b[0m\u001b[0;34m,\u001b[0m \u001b[0my2\u001b[0m\u001b[0;34m)\u001b[0m\u001b[0;34m\u001b[0m\u001b[0;34m\u001b[0m\u001b[0m\n\u001b[0m\u001b[1;32m     20\u001b[0m                     \u001b[0;32mfor\u001b[0m \u001b[0mx\u001b[0m\u001b[0;34m,\u001b[0m\u001b[0my\u001b[0m \u001b[0;32min\u001b[0m \u001b[0mzip\u001b[0m\u001b[0;34m(\u001b[0m\u001b[0mxl\u001b[0m\u001b[0;34m,\u001b[0m\u001b[0myl\u001b[0m\u001b[0;34m)\u001b[0m\u001b[0;34m:\u001b[0m\u001b[0;34m\u001b[0m\u001b[0;34m\u001b[0m\u001b[0m\n\u001b[1;32m     21\u001b[0m                         \u001b[0ms1_list\u001b[0m\u001b[0;34m.\u001b[0m\u001b[0mappend\u001b[0m\u001b[0;34m(\u001b[0m\u001b[0mn1\u001b[0m\u001b[0;34m)\u001b[0m\u001b[0;34m\u001b[0m\u001b[0;34m\u001b[0m\u001b[0m\n",
      "\u001b[0;31mKeyboardInterrupt\u001b[0m: "
     ]
    }
   ],
   "source": [
    "num_steps = int(np.around((tmax-t)/h))\n",
    "step_count = 0\n",
    "while t<tmax:\n",
    "    #TODO: insert functionality for saving every n frames\n",
    "    \n",
    "    #compute as discrete flow map dtexture_dt\n",
    "    dtexture_dt = zero_txt.copy()\n",
    "    get_time_step(txt, dtexture_dt)\n",
    "\n",
    "    #compute the images to find isosurfaces of\n",
    "    img    = txt[...,0]\n",
    "    dimgdt = dtexture_dt[...,0]\n",
    "\n",
    "    #compute both families of contours\n",
    "    #appears to work     contours1 = find_contours(img,    level = 0.5)\n",
    "    contours1 = find_contours(img,    level = V_threshold)\n",
    "    contours2 = find_contours(dimgdt, level = 0.0)\n",
    "\n",
    "    #find_tips\n",
    "#     n_lst, x_lst, y_lst = contours_to_simple_tips_pbc(contours1,contours2,width, height, jump_threshold = 2, size_threshold = 6)\n",
    "#     s1_values, s2_values, x_values, y_values = unwrap_and_reduce_tips(n_lst, x_lst, y_lst, width, height, pad=3)\n",
    "#     \n",
    "\n",
    "#     n_lst, x_lst, y_lst = contours_to_simple_tips_pbc(contours1,contours2,width, height, jump_threshold = 2, size_threshold = 0)\n",
    "#     s1_values, s2_values, x_values, y_values = unwrap_and_reduce_tips(n_lst, x_lst, y_lst, width, height, pad=2, decimals=10)\n",
    "#     n_tips = count_tips(x_values)\n",
    "\n",
    "    #find_tips and measure tip topological/EP state\n",
    "    s1_list, s2_list, x_lst, y_lst, v_lst, f_lst, s_lst = measure_system(contours1, contours2, width, height, txt, \n",
    "                                                                         jump_threshold = jump_threshold, \n",
    "                                                                         size_threshold = size_threshold, \n",
    "                                                                         pad=pad, decimals=decimals)\n",
    "    n_tips = x_lst.size\n",
    "    dict_out = {\n",
    "        't': float(t),\n",
    "        'n': int(n_tips),\n",
    "        'x': tuple(x_lst),\n",
    "        'y': tuple(y_lst),\n",
    "        'n1': tuple(s1_list),\n",
    "        'n2': tuple(s2_list),\n",
    "        'v':v_lst,\n",
    "        'f':f_lst,\n",
    "        's':s_lst,\n",
    "    }    \n",
    "    \n",
    "    #record data for current time\n",
    "    t_list.append(t)\n",
    "    n_list.append(n_tips)\n",
    "\n",
    "    #forward Euler integration in time\n",
    "    txt += h*dtexture_dt\n",
    "    t   += h\n",
    "    step_count += 1\n",
    "    \n",
    "    #progress bar that updates after each measurement\n",
    "    printProgressBar(step_count, num_steps, prefix = 'Progress:', suffix = 'Complete', length = 50)\n",
    "beep(3)"
   ]
  },
  {
   "cell_type": "code",
   "execution_count": 43,
   "metadata": {
    "ExecuteTime": {
     "end_time": "2020-11-05T16:32:53.740112Z",
     "start_time": "2020-11-05T16:32:53.676320Z"
    }
   },
   "outputs": [],
   "source": [
    "# 32/num_steps*60 #seconds of run time per time step with recording\n",
    "# 0.5334815226451792"
   ]
  },
  {
   "cell_type": "code",
   "execution_count": 44,
   "metadata": {
    "ExecuteTime": {
     "end_time": "2020-11-05T16:32:54.990006Z",
     "start_time": "2020-11-05T16:32:54.942321Z"
    }
   },
   "outputs": [
    {
     "name": "stdout",
     "output_type": "stream",
     "text": [
      "1582.1000000015538\n"
     ]
    }
   ],
   "source": [
    "#compute as discrete flow map dtexture_dt\n",
    "dtexture_dt = zero_txt.copy()\n",
    "get_time_step(txt, dtexture_dt)\n",
    "\n",
    "#forward Euler integration in time\n",
    "txt += h*dtexture_dt\n",
    "t   += h\n",
    "\n",
    "#compute as discrete flow map dtexture_dt\n",
    "dtexture_dt = zero_txt.copy()\n",
    "get_time_step(txt, dtexture_dt)\n",
    "print(t)"
   ]
  },
  {
   "cell_type": "code",
   "execution_count": 45,
   "metadata": {
    "ExecuteTime": {
     "end_time": "2020-11-05T16:33:00.650608Z",
     "start_time": "2020-11-05T16:32:57.617868Z"
    }
   },
   "outputs": [
    {
     "name": "stdout",
     "output_type": "stream",
     "text": [
      "8\n"
     ]
    }
   ],
   "source": [
    "# V_threshold = 0.6\n",
    "jump_threshold = 2 \n",
    "size_threshold = 0\n",
    "pad=2\n",
    "decimals=9\n",
    "\n",
    "#compute as discrete flow map dtexture_dt\n",
    "dtexture_dt = zero_txt.copy()\n",
    "get_time_step(txt, dtexture_dt)\n",
    "\n",
    "#compute the images to find isosurfaces of\n",
    "img    = txt[...,0]\n",
    "dimgdt = dtexture_dt[...,0]\n",
    "\n",
    "#compute both families of contours\n",
    "#appears to work     contours1 = find_contours(img,    level = 0.5)\n",
    "contours1 = find_contours(img,    level = V_threshold)\n",
    "contours2 = find_contours(dimgdt, level = 0.0)\n",
    "\n",
    "#find_tips and measure tip topological/EP state\n",
    "s1_list, s2_list, x_lst, y_lst, v_lst, f_lst, s_lst = measure_system(contours1, contours2, width, height, txt, \n",
    "                                                                 jump_threshold = jump_threshold, \n",
    "                                                                 size_threshold = size_threshold, \n",
    "                                                                 pad=pad, decimals=decimals)\n",
    "n_tips = x_lst.size\n",
    "dict_out = {\n",
    "'t': float(t),\n",
    "'n': int(n_tips),\n",
    "'x': tuple(x_lst),\n",
    "'y': tuple(y_lst),\n",
    "'n1': tuple(s1_list),\n",
    "'n2': tuple(s2_list),\n",
    "'v':v_lst,\n",
    "'f':f_lst,\n",
    "'s':s_lst,\n",
    "}\n",
    "\n",
    "x_values = dict_out['x']\n",
    "y_values = dict_out['y']\n",
    "# print(x_values)\n",
    "# print(y_values)\n",
    "print(len(x_values))"
   ]
  },
  {
   "cell_type": "code",
   "execution_count": 46,
   "metadata": {
    "ExecuteTime": {
     "end_time": "2020-11-05T16:33:01.926921Z",
     "start_time": "2020-11-05T16:33:01.901992Z"
    }
   },
   "outputs": [],
   "source": [
    "x_values = dict_out['x']\n",
    "y_values = dict_out['y']\n",
    "\n",
    "# Display the image and plot all pbc contours found properly!\n",
    "save = True\n",
    "fig, ax = plt.subplots(figsize=(6,6))\n",
    "# fig, axs = plt.subplots(ncols = 2, figsize=(8,4))\n",
    "# ax = axs[0]\n",
    "ax.imshow(img, cmap=plt.cm.gray)\n",
    "plot_contours_pbc(contours1, ax, linewidth=2, min_num_vertices=6, linestyle='-')\n",
    "plot_contours_pbc(contours2, ax, linewidth=2, min_num_vertices=0, linestyle='--')\n",
    "ax.scatter(x=x_values, y=y_values, s=90, c='yellow', marker='*', zorder=3, alpha=1.)\n",
    "\n",
    "ax.set_title(f\"Number of Tips = {n_tips}\")\n",
    "ax.axis('image')\n",
    "# ax.set_xticks([])\n",
    "# ax.set_yticks([])\n",
    "\n",
    "if not save:\n",
    "    plt.show()\n",
    "else:\n",
    "    os.chdir(nb_dir)\n",
    "    os.chdir('Figures/methods')\n",
    "    save_fn = f\"example_ic_200x200.120.32_t_{t:.3f}_V_{V_threshold}.png\"\n",
    "    plt.savefig(save_fn)\n",
    "    print(f'figure saved in {save_fn}.')\n",
    "    #     plt.savefig('example_parameterless_tip_detection_t_600.png')"
   ]
  },
  {
   "cell_type": "code",
   "execution_count": null,
   "metadata": {
    "ExecuteTime": {
     "end_time": "2020-11-05T16:32:49.367245Z",
     "start_time": "2020-11-05T11:09:48.938Z"
    }
   },
   "outputs": [],
   "source": []
  },
  {
   "cell_type": "code",
   "execution_count": 53,
   "metadata": {
    "ExecuteTime": {
     "end_time": "2020-11-05T16:33:40.801230Z",
     "start_time": "2020-11-05T16:33:40.476113Z"
    }
   },
   "outputs": [
    {
     "name": "stdout",
     "output_type": "stream",
     "text": [
      "43283\n"
     ]
    },
    {
     "data": {
      "image/png": "[encoded data removed]",
      "text/plain": [
       "<Figure size 432x288 with 1 Axes>"
      ]
     },
     "metadata": {
      "needs_background": "light"
     },
     "output_type": "display_data"
    }
   ],
   "source": [
    "x_values = t_list\n",
    "y_values = n_list\n",
    "\n",
    "num_observations = len(x_values)\n",
    "print(num_observations)\n",
    "\n",
    "save = True\n",
    "plt.plot(x_values,y_values)\n",
    "plt.title(f\"recording every 25 µs\")\n",
    "plt.xlabel(f\"time (ms)\")\n",
    "plt.ylabel(f\"number of spiral tips\")\n",
    "# ax.set_xticks([])\n",
    "plt.yticks([2,4,6,8,10,12,14,16,18,20,22])\n",
    "if not save:\n",
    "    plt.show()\n",
    "else:\n",
    "    os.chdir(nb_dir)\n",
    "    os.chdir('Figures/methods')\n",
    "    plt.savefig(f\"example_ic_200x200.120.32_num_tips_t_0_{t:.1}_V_{V_threshold}.png\")\n",
    "    #     plt.savefig('example_no_high_frequency_birth_deaths_t_500_600.png')"
   ]
  },
  {
   "cell_type": "code",
   "execution_count": 49,
   "metadata": {
    "ExecuteTime": {
     "end_time": "2020-11-05T16:33:31.091143Z",
     "start_time": "2020-11-05T16:33:30.923566Z"
    }
   },
   "outputs": [],
   "source": [
    "df = pd.DataFrame({'t':x_values,'n':y_values})\n",
    "df.to_csv(f\"example_birth_deaths_V_{V_threshold}_ic_200x200.120.32_t_0_{t:.1}.csv\", index=False)\n",
    "\n",
    "# pd.DataFrame({'t':x_values,'n':y_values}).to_csv('example_no_high_frequency_birth_deaths_t_500_600.csv', index=False)\n"
   ]
  },
  {
   "cell_type": "code",
   "execution_count": 50,
   "metadata": {
    "ExecuteTime": {
     "end_time": "2020-11-05T16:33:32.347922Z",
     "start_time": "2020-11-05T16:33:32.317888Z"
    }
   },
   "outputs": [
    {
     "data": {
      "text/plain": [
       "1582.1000000015538"
      ]
     },
     "execution_count": 50,
     "metadata": {},
     "output_type": "execute_result"
    }
   ],
   "source": [
    "# df.query('t>=506.8748 and t<=506.8752').index\n",
    "t"
   ]
  },
  {
   "cell_type": "code",
   "execution_count": 51,
   "metadata": {
    "ExecuteTime": {
     "end_time": "2020-11-05T16:33:33.568424Z",
     "start_time": "2020-11-05T16:33:33.543100Z"
    }
   },
   "outputs": [
    {
     "name": "stdout",
     "output_type": "stream",
     "text": [
      "odd births occured at\n",
      "[]\n",
      "odd deaths occured at\n",
      "[]\n"
     ]
    }
   ],
   "source": [
    "boo = df.n.diff().values==1\n",
    "print('odd births occured at')\n",
    "print(df[boo].t.values)\n",
    "\n",
    "boo = df.n.diff().values==-1\n",
    "print('odd deaths occured at')\n",
    "print(df[boo].t.values)"
   ]
  },
  {
   "cell_type": "code",
   "execution_count": 111,
   "metadata": {
    "ExecuteTime": {
     "end_time": "2020-11-01T21:06:45.386793Z",
     "start_time": "2020-11-01T21:06:45.364740Z"
    }
   },
   "outputs": [
    {
     "name": "stdout",
     "output_type": "stream",
     "text": [
      "sampling frequency must be lower than the following to resolve high freq. bdrates (ms):\n",
      "1.8500000000000227\n",
      "1.4249999999999545\n"
     ]
    }
   ],
   "source": [
    "print('sampling frequency must be lower than the following to resolve high freq. bdrates (ms):')\n",
    "print(526.975-525.125)\n",
    "print(593.425-592.)"
   ]
  },
  {
   "cell_type": "markdown",
   "metadata": {},
   "source": [
    "^this suggests I should record at a rate of less then 526.975-525.125 ~ 1.5 ms to ensure two births aren't misinterpretted as a quadruplet birth."
   ]
  },
  {
   "cell_type": "markdown",
   "metadata": {},
   "source": [
    "# DONE: debugged _bring_vertices_together for a jump accross pbc.  Solving a tip that shouldn't be there but is."
   ]
  },
  {
   "cell_type": "code",
   "execution_count": 305,
   "metadata": {
    "ExecuteTime": {
     "end_time": "2020-10-24T21:08:10.288620Z",
     "start_time": "2020-10-24T21:08:09.719126Z"
    }
   },
   "outputs": [
    {
     "name": "stdout",
     "output_type": "stream",
     "text": [
      "12\n"
     ]
    }
   ],
   "source": [
    "# #compute the images to find isosurfaces of\n",
    "# img    = pad_mat_by_1x1(txt[...,0])\n",
    "# dimgdt = pad_mat_by_1x1(dtexture_dt[...,0])\n",
    "\n",
    "# #compute both families of contours\n",
    "# contours1 = find_contours(img,    level = 0.5)\n",
    "# contours2 = find_contours(dimgdt, level = 0.0)\n",
    "\n",
    "# #find_tips\n",
    "# n_lst, x_lst, y_lst = contours_to_simple_tips_pbc(contours1,contours2,width, height,jump_threshold = 2,size_threshold = 6)\n",
    "# n_tips = count_tips(x_lst)\n",
    "\n",
    "# print(n_tips)\n"
   ]
  },
  {
   "cell_type": "code",
   "execution_count": 403,
   "metadata": {
    "ExecuteTime": {
     "end_time": "2020-10-24T21:40:50.597271Z",
     "start_time": "2020-10-24T21:40:50.573035Z"
    }
   },
   "outputs": [],
   "source": [
    "# # parse tips\n",
    "# num_tips = count_tips(x_lst)\n",
    "# x_values = np.array(flatten(x_lst))\n",
    "# y_values = np.array(flatten(y_lst))"
   ]
  },
  {
   "cell_type": "markdown",
   "metadata": {},
   "source": [
    "The high frequency tip is on the bottom boundary of the domain. It looks like it happens on red speckles belonging to contours2.  It does not appear to be anywhere near contours1.\n",
    "- last lst index position has the erroneous pair at x=66.0 and y=200.0."
   ]
  },
  {
   "cell_type": "code",
   "execution_count": 405,
   "metadata": {
    "ExecuteTime": {
     "end_time": "2020-10-24T21:41:41.740125Z",
     "start_time": "2020-10-24T21:41:41.714798Z"
    }
   },
   "outputs": [],
   "source": [
    "# y_bad = np.mean(y_lst[-1])\n",
    "# x_bad = np.mean(x_lst[-1])\n",
    "# print(f'the bad intersections occur at {y_bad,x_bad} with the (0,0) contours in contour12_lst_lst.')"
   ]
  },
  {
   "cell_type": "code",
   "execution_count": 327,
   "metadata": {
    "ExecuteTime": {
     "end_time": "2020-10-24T21:17:25.233102Z",
     "start_time": "2020-10-24T21:17:25.206633Z"
    }
   },
   "outputs": [
    {
     "data": {
      "text/plain": [
       "(0, 0)"
      ]
     },
     "execution_count": 327,
     "metadata": {},
     "output_type": "execute_result"
    }
   ],
   "source": [
    "# n_lst[-1]"
   ]
  },
  {
   "cell_type": "code",
   "execution_count": 406,
   "metadata": {
    "ExecuteTime": {
     "end_time": "2020-10-24T21:41:52.164176Z",
     "start_time": "2020-10-24T21:41:52.140519Z"
    }
   },
   "outputs": [],
   "source": [
    "# contours1[0]"
   ]
  },
  {
   "cell_type": "code",
   "execution_count": 407,
   "metadata": {
    "ExecuteTime": {
     "end_time": "2020-10-24T21:41:56.325649Z",
     "start_time": "2020-10-24T21:41:56.301847Z"
    }
   },
   "outputs": [],
   "source": [
    "# contours2[0]"
   ]
  },
  {
   "cell_type": "code",
   "execution_count": 333,
   "metadata": {
    "ExecuteTime": {
     "end_time": "2020-10-24T21:19:22.756960Z",
     "start_time": "2020-10-24T21:19:22.732184Z"
    }
   },
   "outputs": [],
   "source": [
    "#it looks like contour1 and contour2 jump accross the map and cross at this location.  \n",
    "# ^this implies theres a bug in the contour augmentation."
   ]
  },
  {
   "cell_type": "code",
   "execution_count": 409,
   "metadata": {
    "ExecuteTime": {
     "end_time": "2020-10-24T21:42:11.659791Z",
     "start_time": "2020-10-24T21:42:11.058270Z"
    }
   },
   "outputs": [
    {
     "name": "stdout",
     "output_type": "stream",
     "text": [
      "10\n"
     ]
    }
   ],
   "source": [
    "# #compute the images to find isosurfaces of\n",
    "# img    = pad_mat_by_1x1(txt[...,0])\n",
    "# dimgdt = pad_mat_by_1x1(dtexture_dt[...,0])\n",
    "\n",
    "#compute both families of contours\n",
    "contours1 = find_contours(img,    level = 0.5)\n",
    "contours2 = find_contours(dimgdt, level = 0.0)\n",
    "\n",
    "#find_tips\n",
    "n_lst, x_lst, y_lst = contours_to_simple_tips_pbc(contours1,contours2,width, height,jump_threshold = 2,size_threshold = 6)\n",
    "n_tips = count_tips(x_lst)\n",
    "\n",
    "print(n_tips)"
   ]
  },
  {
   "cell_type": "code",
   "execution_count": 410,
   "metadata": {
    "ExecuteTime": {
     "end_time": "2020-10-24T21:42:54.010928Z",
     "start_time": "2020-10-24T21:42:53.986358Z"
    }
   },
   "outputs": [],
   "source": [
    "# #segment and augment contours of the first family\n",
    "# contour1_lst_lst = []\n",
    "# for contour in contours1:\n",
    "#     if len(contour) >= size_threshold:\n",
    "#         contour1_lst = split_and_augment_contour_into_contiguous_segments(contour, width, height, threshold=jump_threshold)\n",
    "#         contour1_lst_lst.append(contour1_lst)\n",
    "# #segment and augment contours of the second family\n",
    "# contour2_lst_lst = []\n",
    "# for contour in contours2:\n",
    "#     if len(contour) >= size_threshold:\n",
    "#         contour2_lst = split_and_augment_contour_into_contiguous_segments(contour, width, height, threshold=jump_threshold)\n",
    "#         contour2_lst_lst.append(contour2_lst)\n",
    "\n",
    "# #detect tips as above. Print tip number as above\n",
    "# n_lst, x_lst, y_lst = find_tips(contour1_lst_lst, contour2_lst_lst)\n",
    "# count_tips(x_lst)"
   ]
  },
  {
   "cell_type": "code",
   "execution_count": 411,
   "metadata": {
    "ExecuteTime": {
     "end_time": "2020-10-24T21:42:56.593821Z",
     "start_time": "2020-10-24T21:42:56.569720Z"
    }
   },
   "outputs": [],
   "source": [
    "# contour1_lst_bad = contour1_lst_lst[0]\n",
    "# contour2_lst_bad = contour2_lst_lst[0]"
   ]
  },
  {
   "cell_type": "code",
   "execution_count": 412,
   "metadata": {
    "ExecuteTime": {
     "end_time": "2020-10-24T21:42:58.096560Z",
     "start_time": "2020-10-24T21:42:58.072618Z"
    }
   },
   "outputs": [],
   "source": [
    "# #print last two points of each contour\n",
    "# for ct in contour1_lst_bad:\n",
    "#     print(ct[-2:])#ct[:2] first two"
   ]
  },
  {
   "cell_type": "code",
   "execution_count": 413,
   "metadata": {
    "ExecuteTime": {
     "end_time": "2020-10-24T21:43:01.110388Z",
     "start_time": "2020-10-24T21:43:01.086660Z"
    }
   },
   "outputs": [],
   "source": [
    "# #print last two points of each contour\n",
    "# for ct in contour2_lst_bad:\n",
    "#     print(ct[-2:])#ct[:2] first two"
   ]
  },
  {
   "cell_type": "code",
   "execution_count": 414,
   "metadata": {
    "ExecuteTime": {
     "end_time": "2020-10-24T21:43:02.776716Z",
     "start_time": "2020-10-24T21:43:02.753138Z"
    }
   },
   "outputs": [],
   "source": [
    "# #this contour1 has a mistake at the end\n",
    "# x1, y1 = contour1_lst_bad[-2].T\n",
    "# x2, y2 = contour2_lst_bad[1].T\n",
    "\n",
    "# #do they yield an intersection\n",
    "# foundybad, foundxbad = intersection(x1,y1,x2,y2)#[0]#.size"
   ]
  },
  {
   "cell_type": "code",
   "execution_count": 415,
   "metadata": {
    "ExecuteTime": {
     "end_time": "2020-10-24T21:43:04.910693Z",
     "start_time": "2020-10-24T21:43:04.885913Z"
    }
   },
   "outputs": [],
   "source": [
    "# print( np.mean(foundxbad) ) \n",
    "# print (x_bad ) "
   ]
  },
  {
   "cell_type": "markdown",
   "metadata": {
    "ExecuteTime": {
     "end_time": "2020-10-24T21:34:59.654678Z",
     "start_time": "2020-10-24T21:34:59.629339Z"
    }
   },
   "source": [
    "- I found the offending contour data that generated the false spiral tip.\n",
    "- contour1_lst_bad[-2] looks like it was augmented by two vertices, where the second one was an error.\n",
    "- I updated _bring_vertices_together to update dist after updating vmove.  This solved the problem."
   ]
  },
  {
   "cell_type": "code",
   "execution_count": 399,
   "metadata": {
    "ExecuteTime": {
     "end_time": "2020-10-24T21:40:07.310270Z",
     "start_time": "2020-10-24T21:40:07.286217Z"
    }
   },
   "outputs": [],
   "source": [
    "# contour1_lst_bad[-2]"
   ]
  },
  {
   "cell_type": "markdown",
   "metadata": {
    "ExecuteTime": {
     "end_time": "2020-10-24T21:36:37.178625Z",
     "start_time": "2020-10-24T21:36:37.151619Z"
    }
   },
   "source": [
    "# (DONE: debugging) print the repeatable frames where +1 or -1 birth-deaths occurred. These must be errors"
   ]
  },
  {
   "cell_type": "code",
   "execution_count": 99,
   "metadata": {
    "ExecuteTime": {
     "end_time": "2020-10-26T01:17:37.957089Z",
     "start_time": "2020-10-26T01:17:37.841796Z"
    }
   },
   "outputs": [],
   "source": [
    "x_values = t_list\n",
    "y_values = n_list\n",
    "df = pd.DataFrame({'t':x_values,'n':y_values})\n",
    "# df.to_csv(f\"example_no_high_frequency_birth_deaths_ic_200x200.120.32_t_0_{t:.1}.csv\", index=False)\n"
   ]
  },
  {
   "cell_type": "code",
   "execution_count": 100,
   "metadata": {
    "ExecuteTime": {
     "end_time": "2020-10-26T01:17:39.602745Z",
     "start_time": "2020-10-26T01:17:39.563643Z"
    }
   },
   "outputs": [
    {
     "data": {
      "text/plain": [
       "4.558125"
      ]
     },
     "execution_count": 100,
     "metadata": {},
     "output_type": "execute_result"
    }
   ],
   "source": [
    "#were odd tips observed after 100 ms? Yes...\n",
    "boo = (df.query('t>1000').n%2!=0).values\n",
    "percent_of_obs_w_odd_tips = 100*df.query('t>1000')[boo].n.size/df.query('t>1000').n.size\n",
    "percent_of_obs_w_odd_tips"
   ]
  },
  {
   "cell_type": "code",
   "execution_count": 103,
   "metadata": {
    "ExecuteTime": {
     "end_time": "2020-10-26T01:18:19.237049Z",
     "start_time": "2020-10-26T01:18:19.150823Z"
    }
   },
   "outputs": [
    {
     "data": {
      "text/plain": [
       "{-4.0, -2.0, -1.0, 0.0, 1.0, 2.0}"
      ]
     },
     "execution_count": 103,
     "metadata": {},
     "output_type": "execute_result"
    }
   ],
   "source": [
    "# print(df.query('t>1000')[boo].query('n==7').n.values)\n",
    "# (df.query('t>500').n.diff().dropna().values%2!=0)\n",
    "df['dn'] = df.n.diff()\n",
    "set(df.query('t>500').n.diff().dropna().values)"
   ]
  },
  {
   "cell_type": "code",
   "execution_count": 111,
   "metadata": {
    "ExecuteTime": {
     "end_time": "2020-10-26T01:24:16.018339Z",
     "start_time": "2020-10-26T01:24:15.986316Z"
    }
   },
   "outputs": [
    {
     "name": "stdout",
     "output_type": "stream",
     "text": [
      "the first 10 1-births after t=500 occur at times:\n"
     ]
    },
    {
     "data": {
      "text/plain": [
       "array([506.875, 525.125, 525.275, 558.425, 592.925, 607.075, 659.975,\n",
       "       663.025, 667.075, 673.625])"
      ]
     },
     "execution_count": 111,
     "metadata": {},
     "output_type": "execute_result"
    }
   ],
   "source": [
    "print('the first 10 1-births after t=500 occur at times:')\n",
    "boo = df['dn']==1\n",
    "df[boo].query('t>500').t.values[:10]"
   ]
  },
  {
   "cell_type": "code",
   "execution_count": 109,
   "metadata": {
    "ExecuteTime": {
     "end_time": "2020-10-26T01:23:59.610863Z",
     "start_time": "2020-10-26T01:23:59.580059Z"
    }
   },
   "outputs": [
    {
     "name": "stdout",
     "output_type": "stream",
     "text": [
      "the first 10 1-deaths after t=500 occur at times:\n"
     ]
    },
    {
     "data": {
      "text/plain": [
       "array([506.05 , 556.625, 592.675, 604.975, 659.525, 660.15 , 666.375,\n",
       "       673.05 , 734.475, 776.9  ])"
      ]
     },
     "execution_count": 109,
     "metadata": {},
     "output_type": "execute_result"
    }
   ],
   "source": [
    "print('the first 10 1-deaths after t=500 occur at times:')\n",
    "boo = df['dn']==-1\n",
    "df[boo].query('t>500').t.values[:10]"
   ]
  },
  {
   "cell_type": "markdown",
   "metadata": {},
   "source": [
    "TODO: isolate the first birth death pair at times t=506.875 ms (birth, then 525.125, 525.275) and t=506.05 ms (death, then 556.625, 592.675)"
   ]
  },
  {
   "cell_type": "code",
   "execution_count": 450,
   "metadata": {
    "ExecuteTime": {
     "end_time": "2020-10-27T03:17:25.132435Z",
     "start_time": "2020-10-27T03:17:25.080884Z"
    }
   },
   "outputs": [],
   "source": [
    "# file = '/Users/timothytyree/Documents/GitHub/care/notebooks/Data/initial-conditions-suite-1/ic-out/ic_200x200.120.32.npz'\n",
    "# txt = load_buffer(file)\n",
    "# t   = 0. #ms\n",
    "\n",
    "#load ^that loaded initial after 20000 steps = 500 ms at time_steps of size 0.025\n",
    "file = '/Users/timothytyree/Documents/GitHub/care/notebooks/Data/test_txt.npz'\n",
    "txt  = load_buffer(file)\n",
    "t   = 500 #ms\n",
    "\n",
    "t_list = []\n",
    "n_list = []   "
   ]
  },
  {
   "cell_type": "code",
   "execution_count": 451,
   "metadata": {
    "ExecuteTime": {
     "end_time": "2020-10-27T03:20:24.778425Z",
     "start_time": "2020-10-27T03:17:43.608791Z"
    }
   },
   "outputs": [
    {
     "data": {
      "text/plain": [
       "0"
      ]
     },
     "execution_count": 451,
     "metadata": {},
     "output_type": "execute_result"
    }
   ],
   "source": [
    "zero_txt = txt.copy()*0.\n",
    "width, height = txt.shape[:2]\n",
    "\n",
    "h    = 0.025 #ms\n",
    "tmax = 510#506.05#500# #ms\n",
    "\n",
    "while t<tmax:\n",
    "    #compute as discrete flow map dtexture_dt\n",
    "    dtexture_dt = zero_txt.copy()\n",
    "    get_time_step(txt, dtexture_dt)\n",
    "\n",
    "    #compute the images to find isosurfaces of\n",
    "    img    = txt[...,0]\n",
    "    dimgdt = dtexture_dt[...,0]\n",
    "    \n",
    "    #compute both families of contours\n",
    "    contours1 = find_contours(img,    level = 0.5)\n",
    "    contours2 = find_contours(dimgdt, level = 0.0)\n",
    "\n",
    "    #find_tips\n",
    "    n_lst, x_lst, y_lst = contours_to_simple_tips_pbc(contours1,contours2,width, height, jump_threshold = 2, size_threshold = 6)\n",
    "    s1_values, s2_values, x_values, y_values = unwrap_and_reduce_tips(n_lst, x_lst, y_lst, width, height, pad=1)\n",
    "    n_tips = count_tips(x_values)\n",
    "\n",
    "    #record data for current time\n",
    "    t_list.append(t)\n",
    "    n_list.append(n_tips)\n",
    "\n",
    "    #forward Euler integration in time\n",
    "    txt += h*dtexture_dt\n",
    "    t   += h\n",
    "beep(3)"
   ]
  },
  {
   "cell_type": "code",
   "execution_count": null,
   "metadata": {
    "ExecuteTime": {
     "end_time": "2020-11-05T16:32:49.360600Z",
     "start_time": "2020-11-05T06:13:48.905Z"
    }
   },
   "outputs": [],
   "source": [
    "tt"
   ]
  },
  {
   "cell_type": "code",
   "execution_count": 453,
   "metadata": {
    "ExecuteTime": {
     "end_time": "2020-10-27T03:21:06.823481Z",
     "start_time": "2020-10-27T03:21:06.230632Z"
    },
    "scrolled": true
   },
   "outputs": [
    {
     "data": {
      "image/png": "[encoded data removed]",
      "text/plain": [
       "<Figure size 432x432 with 1 Axes>"
      ]
     },
     "metadata": {
      "needs_background": "light"
     },
     "output_type": "display_data"
    }
   ],
   "source": [
    "# Display the image and plot all pbc contours found properly!\n",
    "save = False\n",
    "fig, ax = plt.subplots(figsize=(6,6))\n",
    "# fig, axs = plt.subplots(ncols = 2, figsize=(8,4))\n",
    "# ax = axs[0]\n",
    "\n",
    "contours1 = find_contours(img, level=0.5, mode='pbc')\n",
    "ax.imshow(img, cmap=plt.cm.gray)\n",
    "plot_contours_pbc(contours1, ax, linewidth=2, min_num_vertices=15, linestyle='-')\n",
    "\n",
    "contours2 = find_contours(dimgdt, level=0.0, mode='pbc')\n",
    "# ax.imshow(img, cmap=plt.cm.gray)\n",
    "plot_contours_pbc(contours2, ax, linewidth=2, min_num_vertices=15, linestyle='--')\n",
    "\n",
    "#parse tips\n",
    "n_lst, x_lst, y_lst = contours_to_simple_tips_pbc(contours1,contours2,width, height, jump_threshold = 3, size_threshold = 7)\n",
    "num_tips = count_tips(x_lst)\n",
    "x_values = np.array(flatten(x_lst))\n",
    "y_values = np.array(flatten(y_lst))\n",
    "ax.scatter(x=x_values, y=y_values, s=90, c='yellow', marker='*', zorder=3, alpha=1.)\n",
    "\n",
    "# axaxis([0,100,0,100])\n",
    "\n",
    "ax.set_title(f\"Number of Tips = {num_tips}\")\n",
    "ax.axis('image')\n",
    "# ax.set_xticks([])\n",
    "# ax.set_yticks([])\n",
    "\n",
    "if not save:\n",
    "    plt.show()\n",
    "else:\n",
    "    os.chdir(nb_dir)\n",
    "    os.chdir('Figures/methods')\n",
    "    plt.savefig(f\"example_odd_tips_fixed_ic_200x200.120.32_t_{t:.1}.png\")\n",
    "    #     plt.savefig('example_parameterless_tip_detection_t_600.png')"
   ]
  },
  {
   "cell_type": "markdown",
   "metadata": {
    "ExecuteTime": {
     "end_time": "2020-10-26T01:28:55.783209Z",
     "start_time": "2020-10-26T01:28:55.750462Z"
    }
   },
   "source": [
    "__Problem spotted__ - there should be a spiral tip at x = 0,200 and y ~ 80, but there isn't."
   ]
  },
  {
   "cell_type": "code",
   "execution_count": 354,
   "metadata": {
    "ExecuteTime": {
     "end_time": "2020-10-26T21:53:19.503924Z",
     "start_time": "2020-10-26T21:53:19.480061Z"
    }
   },
   "outputs": [],
   "source": [
    "# #TODO(ignore, pursueing this would only introduce bugs) find the first contour in contour_lst_lst with length>min_number_of_vertices\n",
    "# min_number_of_vertices = 4\n",
    "# boo = [len(ct)>min_number_of_vertices for ct in contour1_lst_lst]\n",
    "# for n,ct in contour1_lst_lst if \n",
    "from lib.measure._utils_find_tips import *"
   ]
  },
  {
   "cell_type": "markdown",
   "metadata": {},
   "source": [
    "## Solving a tip that should be there but isn't"
   ]
  },
  {
   "cell_type": "code",
   "execution_count": 165,
   "metadata": {
    "ExecuteTime": {
     "end_time": "2020-10-26T02:12:08.344412Z",
     "start_time": "2020-10-26T02:12:08.325918Z"
    }
   },
   "outputs": [],
   "source": [
    "#TODO: identify the contours at fault.\n",
    "#TODO: identify if contours1 or contours2 is not obeying pbc\n",
    "#TODO: reproduce that same contour error from functionally\n",
    "#TODO: debug the function that generates spiral tip contours.\n"
   ]
  },
  {
   "cell_type": "code",
   "execution_count": 166,
   "metadata": {
    "ExecuteTime": {
     "end_time": "2020-10-26T02:12:09.385106Z",
     "start_time": "2020-10-26T02:12:09.363726Z"
    }
   },
   "outputs": [
    {
     "name": "stdout",
     "output_type": "stream",
     "text": [
      "[[168.80338951730246], [145.0703048816391], [8.56864742820401], [42.23689367775604], [71.91106824515633, 53.7161315203534], [38.20100835095601], [94.955912765964, 94.13209638068882]]\n"
     ]
    }
   ],
   "source": [
    "print(x_lst)"
   ]
  },
  {
   "cell_type": "code",
   "execution_count": 167,
   "metadata": {
    "ExecuteTime": {
     "end_time": "2020-10-26T02:12:10.136272Z",
     "start_time": "2020-10-26T02:12:10.112958Z"
    }
   },
   "outputs": [
    {
     "name": "stdout",
     "output_type": "stream",
     "text": [
      "[[40.412421348190485], [145.68375414431742], [39.43380346468959], [108.773016787919], [57.28526861122329, 91.4533257447881], [148.0346182920922], [80.50721898582722, 65.13553113519737]]\n"
     ]
    }
   ],
   "source": [
    "print(y_lst)"
   ]
  },
  {
   "cell_type": "markdown",
   "metadata": {},
   "source": [
    "the only knot that has three spiral tips is the 5th knot.  First, split the raw contours into the correct lists of lists."
   ]
  },
  {
   "cell_type": "code",
   "execution_count": 168,
   "metadata": {
    "ExecuteTime": {
     "end_time": "2020-10-26T02:12:12.325414Z",
     "start_time": "2020-10-26T02:12:12.298406Z"
    }
   },
   "outputs": [
    {
     "data": {
      "text/plain": [
       "(1, 1)"
      ]
     },
     "execution_count": 168,
     "metadata": {},
     "output_type": "execute_result"
    }
   ],
   "source": [
    "n_lst[4]"
   ]
  },
  {
   "cell_type": "code",
   "execution_count": 169,
   "metadata": {
    "ExecuteTime": {
     "end_time": "2020-10-26T02:12:14.392138Z",
     "start_time": "2020-10-26T02:12:14.363919Z"
    }
   },
   "outputs": [],
   "source": [
    "# def preprocess_contours(contours1,contours2,width, height,jump_threshold = 2,size_threshold = 6):\n",
    "#     #segment and augment contours of the first family\n",
    "#     contour1_lst_lst = []\n",
    "#     for contour in contours1:\n",
    "#         if len(contour) >= size_threshold:\n",
    "#             contour1_lst = split_and_augment_contour_into_contiguous_segments(contour, width, height, threshold=jump_threshold)\n",
    "#             contour1_lst_lst.append(contour1_lst)\n",
    "#     #segment and augment contours of the second family\n",
    "#     contour2_lst_lst = []\n",
    "#     for contour in contours2:\n",
    "#         if len(contour) >= size_threshold:\n",
    "#             contour2_lst = split_and_augment_contour_into_contiguous_segments(contour, width, height, threshold=jump_threshold)\n",
    "#             contour2_lst_lst.append(contour2_lst)\n",
    "#     return contour1_lst_lst, contour2_lst_lst"
   ]
  },
  {
   "cell_type": "code",
   "execution_count": 117,
   "metadata": {
    "ExecuteTime": {
     "end_time": "2020-10-26T23:29:18.099297Z",
     "start_time": "2020-10-26T23:29:18.061006Z"
    }
   },
   "outputs": [],
   "source": [
    "contour1_lst_lst, contour2_lst_lst = preprocess_contours(contours1, contours2, width, height, jump_threshold = 2, size_threshold = 6)\n",
    "\n",
    "n_lst, x_lst, y_lst = find_tips(contour1_lst_lst, contour2_lst_lst)\n",
    "\n",
    "n_tips = count_tips(x_lst)\n",
    "print(n_tips)"
   ]
  },
  {
   "cell_type": "markdown",
   "metadata": {},
   "source": [
    "TODO: look for which contiguous contours have contour2_lst_lst[n] start/end at 0 or 200"
   ]
  },
  {
   "cell_type": "code",
   "execution_count": null,
   "metadata": {},
   "outputs": [],
   "source": []
  },
  {
   "cell_type": "code",
   "execution_count": 73,
   "metadata": {
    "ExecuteTime": {
     "end_time": "2020-10-26T23:03:48.342912Z",
     "start_time": "2020-10-26T23:03:48.311693Z"
    }
   },
   "outputs": [
    {
     "name": "stdout",
     "output_type": "stream",
     "text": [
      "[[179.05981928  39.        ]\n",
      " [179.2825803   38.        ]]\n",
      "[[162.           0.3684674 ]\n",
      " [161.82428825   0.        ]]\n",
      "58\n"
     ]
    }
   ],
   "source": [
    "n=0\n",
    "ct = contour1_lst_lst[1][n]\n",
    "print(ct[:2])\n",
    "print(ct[-2:])\n",
    "print(len(ct))"
   ]
  },
  {
   "cell_type": "code",
   "execution_count": 76,
   "metadata": {
    "ExecuteTime": {
     "end_time": "2020-10-26T23:04:18.256494Z",
     "start_time": "2020-10-26T23:04:18.230237Z"
    }
   },
   "outputs": [
    {
     "name": "stdout",
     "output_type": "stream",
     "text": [
      "[[ 90.87825672 200.        ]\n",
      " [ 90.02431087 199.        ]]\n",
      "[[114.          47.74644358]\n",
      " [114.45401016  47.        ]]\n",
      "242\n"
     ]
    }
   ],
   "source": [
    "# n=0\n",
    "# n=1\n",
    "n=1\n",
    "# n=3\n",
    "#nope n=4\n",
    "ct = contour2_lst_lst[1][n]\n",
    "print(ct[:2])\n",
    "ct = contour2_lst_lst[1][n+1]\n",
    "print(ct[-2:])\n",
    "print(len(ct))"
   ]
  },
  {
   "cell_type": "markdown",
   "metadata": {
    "heading_collapsed": true
   },
   "source": [
    "# DONE: try always augmenting on the bottom/right side and seeing if the problem persists.\n",
    "- easiest way to do this is?\n",
    "    - to add a segment on both ends during contour detection? no...\n",
    "    - always map/augment contour on the right boundary and/or the bottom boundary"
   ]
  },
  {
   "cell_type": "code",
   "execution_count": 69,
   "metadata": {
    "ExecuteTime": {
     "end_time": "2020-10-26T23:03:25.779626Z",
     "start_time": "2020-10-26T23:03:25.760550Z"
    },
    "hidden": true
   },
   "outputs": [],
   "source": [
    "# from lib.measure._utils_find_contours import *"
   ]
  },
  {
   "cell_type": "code",
   "execution_count": null,
   "metadata": {
    "ExecuteTime": {
     "end_time": "2020-10-26T21:32:53.819731Z",
     "start_time": "2020-10-26T21:32:53.793086Z"
    },
    "hidden": true
   },
   "outputs": [],
   "source": []
  },
  {
   "cell_type": "code",
   "execution_count": null,
   "metadata": {
    "ExecuteTime": {
     "end_time": "2020-10-26T21:06:48.545028Z",
     "start_time": "2020-10-26T21:06:48.520298Z"
    },
    "hidden": true
   },
   "outputs": [],
   "source": []
  },
  {
   "cell_type": "code",
   "execution_count": 326,
   "metadata": {
    "ExecuteTime": {
     "end_time": "2020-10-26T21:37:17.484987Z",
     "start_time": "2020-10-26T21:37:17.457975Z"
    },
    "hidden": true
   },
   "outputs": [],
   "source": [
    "# def _bring_vertices_together(vmove, vtarget, width, height):\n",
    "#     '''bring 2D vertex vmove as close as possible to 2D vertex \n",
    "#     vtarget by increasing xy coordinates by width or height to decrease the distance from vmove to vtarget.'''\n",
    "#     vw = np.array([width,0.])\n",
    "#     vh = np.array([0.,height])\n",
    "#     dist = np.linalg.norm(vmove-vtarget)\n",
    "#     vtest = vmove + vw\n",
    "#     dist_test = np.linalg.norm(vtest-vtarget)\n",
    "#     if dist_test < dist:\n",
    "#         vmove = vtest.copy()\n",
    "#         dist = dist_test.copy()\n",
    "#     #     else:\n",
    "#     #         vtest = vmove - vw\n",
    "#     #         dist_test = np.linalg.norm(vtest-vtarget)\n",
    "#     #         if dist_test < dist:\n",
    "#     #             vmove = vtest.copy()\n",
    "#     #             dist = np.linalg.norm(vmove-vtarget)\n",
    "#     vtest = vmove + vh\n",
    "#     dist_test = np.linalg.norm(vtest-vtarget)\n",
    "#     if dist_test < dist:\n",
    "#         vmove = vtest.copy()\n",
    "#     #         dist = dist_test.copy()\n",
    "#     #     else:\n",
    "#     #         vtest = vmove - vh\n",
    "#     #         dist_test = np.linalg.norm(vtest-vtarget)\n",
    "#     #         if dist_test < dist:\n",
    "#     #             vmove = vtest.copy()\n",
    "#     #             #dist = np.linalg.norm(vmove-vtarget)\n",
    "#     return vmove"
   ]
  },
  {
   "cell_type": "code",
   "execution_count": 343,
   "metadata": {
    "ExecuteTime": {
     "end_time": "2020-10-26T21:44:43.956403Z",
     "start_time": "2020-10-26T21:44:43.925226Z"
    },
    "hidden": true
   },
   "outputs": [],
   "source": [
    "# def split_and_augment_contour_into_contiguous_segments(contour, width, height, threshold=2):\n",
    "#     '''returns a list of contiguous contours with one contour vertex added from across the computational domain, mapped onto the local coordinates. \n",
    "#     jump_threshold = the max number of pixels two points may be separated by to be considered contiguous.\n",
    "#     size_threshold = the min number of vertices in a pbc contour\n",
    "#     split the contour into a contour_lst of contiguous contours.\n",
    "#     the last contour may have length 1 or 0.  simply ignore those later.'''\n",
    "    \n",
    "#     mask = get_contiguous_mask(contour, threshold=jump_threshold)\n",
    "#     if mask.all():\n",
    "#         #the contour is contiguous, no augmentation necessary.  Return the input contour as a list of one contour segment\n",
    "#         return [contour]\n",
    "#     else:\n",
    "#         #the contour is not contiguous, jumps occured accross boundary\n",
    "#         indices = np.nonzero(~mask)[0]+1\n",
    "#         contour_lst = np.split(contour,indices)\n",
    "\n",
    "#         #augment contours for each jump that occurred\n",
    "#         N = len(contour_lst)\n",
    "#         #for each jump, n\n",
    "#         for n in range(N): \n",
    "#             ct_before       = contour_lst[n] #before jump\n",
    "#             if n<N-1: #this checks for a jump at the end/beginning of the pbc contour.  This shouldn't be used when the final vertex equals the initial vertex.\n",
    "#                 ct_after       = contour_lst[n+1] #after jump\n",
    "#             else:\n",
    "#                 ct_after       = contour_lst[0]\n",
    "#             vend     = ct_before[-1]\n",
    "#             vstart   = ct_after[0]\n",
    "#             if vend.sum()>vstart.sum():\n",
    "#                 #map vstart right and/or down to meet vend, appending to ct_before\n",
    "#                 vmove=vstart\n",
    "#                 vtarget=vend\n",
    "#                 vmapped = _bring_vertices_together(vmove, vtarget, width=width, height=height)\n",
    "#                 #append the mapped vstart to vend\n",
    "#                 print( f\"Check {vmove} correctly moved to {vmapped} to meet {vtarget}.\")\n",
    "#                 #if vmapped is not exactly on top of vtarget\n",
    "#                 if ~(vmapped==vtarget).all(): #this check makes the results robust to repeated application or inputs that are already augmented\n",
    "#                     #then augment that contour with the mapped vertex\n",
    "#                     contour_lst[n] = np.vstack([ct_before,vmapped])\n",
    "#             else:\n",
    "#                 #map vend right and/or down to meet vstart, prepending to ct_after\n",
    "#                 vmove=vend\n",
    "#                 vtarget=vstart\n",
    "#                 vmapped = _bring_vertices_together(vmove, vtarget, width=width, height=height)\n",
    "#                 #append the mapped vstart to vend\n",
    "#                 #if vmapped is not exactly on top of vtarget\n",
    "#                 if ~(vmapped==vtarget).all(): #this check makes the results robust to repeated application or inputs that are already augmented\n",
    "#                     print( f\"Check {vmove} correctly moved to {vmapped} to meet {vtarget}.\")\n",
    "#                     #then augment that contour with the mapped vertex\n",
    "#                     if n<N-1: #this checks for a jump at the end/beginning of the pbc contour.  This shouldn't be used when the final vertex equals the initial vertex.\n",
    "#                         contour_lst[n+1] = np.vstack([vmapped, ct_after])\n",
    "#                     else:\n",
    "#                         contour_lst[0] = np.vstack([vmapped, ct_after])\n",
    "#         return contour_lst"
   ]
  },
  {
   "cell_type": "code",
   "execution_count": 356,
   "metadata": {
    "ExecuteTime": {
     "end_time": "2020-10-26T21:54:24.868094Z",
     "start_time": "2020-10-26T21:54:24.840524Z"
    },
    "hidden": true
   },
   "outputs": [],
   "source": [
    "# def preprocess_contours(contours1,contours2,width, height,jump_threshold = 2,size_threshold = 6):\n",
    "#     #segment and augment contours of the first family\n",
    "#     contour1_lst_lst = []\n",
    "#     for contour in contours1:\n",
    "#         if len(contour) >= size_threshold:\n",
    "#             contour1_lst = split_and_augment_contour_into_contiguous_segments(contour, width, height, threshold=jump_threshold)\n",
    "#             contour1_lst_lst.append(contour1_lst)\n",
    "#     #segment and augment contours of the second family\n",
    "#     contour2_lst_lst = []\n",
    "#     for contour in contours2:\n",
    "#         if len(contour) >= size_threshold:\n",
    "#             contour2_lst = split_and_augment_contour_into_contiguous_segments(contour, width, height, threshold=jump_threshold)\n",
    "#             contour2_lst_lst.append(contour2_lst)\n",
    "#     return contour1_lst_lst, contour2_lst_lst\n",
    "\n",
    "contour1_lst_lst, contour2_lst_lst = preprocess_contours(contours1,contours2,width, height,jump_threshold = 2,size_threshold = 6)"
   ]
  },
  {
   "cell_type": "markdown",
   "metadata": {
    "ExecuteTime": {
     "end_time": "2020-10-26T20:45:48.829844Z",
     "start_time": "2020-10-26T20:45:48.805929Z"
    },
    "hidden": true
   },
   "source": [
    "(ignore) Maybe another problem is the periodic boundary conditions aren't being explicitly enforced  at jumps.  \n",
    "\n",
    "DONE: ^this can be checked by \n",
    "- DONE computing the L2 distance between each pair of segments in the pbc contour\n",
    "- DONE if any distances lie between 3-197, then the segments aren't being mapped to eachother properly\n",
    "\n",
    "(ignore) ^if ^this is indeed a problem, ^this can be fixed by introducing my previous L2_pbc metric  into the function that collects segments into contours, _assemble_contours(segments).\n",
    "\n",
    "_confirmed not a problem_: all segments have distances that are either closer than 3 pixels or further than 197 pixels, but not further than 200 pixels.\n",
    "\n",
    "^this supports the right mapping accross the boundary.  This makes sense because of segments are the fundamental data element used in my contour finding method."
   ]
  },
  {
   "cell_type": "code",
   "execution_count": 283,
   "metadata": {
    "ExecuteTime": {
     "end_time": "2020-10-26T21:11:19.550908Z",
     "start_time": "2020-10-26T21:11:19.526677Z"
    },
    "hidden": true
   },
   "outputs": [],
   "source": [
    "# print('test whether there are any distances in the given range')\n",
    "# for contour in contours1:\n",
    "#     dists = np.linalg.norm(np.diff(contour, axis=0), axis=-1)\n",
    "#     boo = ((dists>3) & (dists>199))\n",
    "#     print(dists[boo].size!=0)"
   ]
  },
  {
   "cell_type": "code",
   "execution_count": 282,
   "metadata": {
    "ExecuteTime": {
     "end_time": "2020-10-26T21:11:17.819037Z",
     "start_time": "2020-10-26T21:11:17.795200Z"
    },
    "hidden": true
   },
   "outputs": [],
   "source": [
    "# print('test whether there are any distances in the given range')\n",
    "# for contour in contours2:\n",
    "#     dists = np.linalg.norm(np.diff(contour, axis=0), axis=-1)\n",
    "#     boo = ((dists>3) & (dists<200))\n",
    "#     print(dists[boo].size!=0)"
   ]
  },
  {
   "cell_type": "markdown",
   "metadata": {},
   "source": [
    "# it's still not working, try appending/prepending to both contour_before and contour_after"
   ]
  },
  {
   "cell_type": "markdown",
   "metadata": {
    "heading_collapsed": true
   },
   "source": [
    "# (before ^that) check that the contour is actually periodic"
   ]
  },
  {
   "cell_type": "code",
   "execution_count": 77,
   "metadata": {
    "ExecuteTime": {
     "end_time": "2020-10-26T23:04:59.793216Z",
     "start_time": "2020-10-26T23:04:59.766767Z"
    },
    "hidden": true
   },
   "outputs": [
    {
     "data": {
      "text/plain": [
       "[[169.08916818816826],\n",
       " [145.2020212253846],\n",
       " [8.144426027355838],\n",
       " [42.089877835908055],\n",
       " [72.16917871998079, 53.71630066059521],\n",
       " [38.024505213944956],\n",
       " [94.95987657346976, 93.97919908374608]]"
      ]
     },
     "execution_count": 77,
     "metadata": {},
     "output_type": "execute_result"
    }
   ],
   "source": [
    "# determine the number of tips in each contour\n",
    "x_lst"
   ]
  },
  {
   "cell_type": "code",
   "execution_count": 64,
   "metadata": {
    "ExecuteTime": {
     "end_time": "2020-10-26T23:01:02.564766Z",
     "start_time": "2020-10-26T23:01:02.542253Z"
    },
    "hidden": true
   },
   "outputs": [
    {
     "data": {
      "text/plain": [
       "[(1, 0), (1, 3), (1, 0), (1, 1), (1, 1), (1, 3), (2, 2)]"
      ]
     },
     "execution_count": 64,
     "metadata": {},
     "output_type": "execute_result"
    }
   ],
   "source": [
    "n_lst"
   ]
  },
  {
   "cell_type": "code",
   "execution_count": 80,
   "metadata": {
    "ExecuteTime": {
     "end_time": "2020-10-26T23:06:09.000179Z",
     "start_time": "2020-10-26T23:06:08.976346Z"
    },
    "hidden": true
   },
   "outputs": [],
   "source": [
    "# contour1_lst_lst[1]\n",
    "contour = contour2_lst_lst[1]"
   ]
  },
  {
   "cell_type": "code",
   "execution_count": 449,
   "metadata": {
    "ExecuteTime": {
     "end_time": "2020-10-27T03:15:49.203377Z",
     "start_time": "2020-10-27T03:15:49.179735Z"
    },
    "hidden": true
   },
   "outputs": [],
   "source": [
    "# n=0\n",
    "# k = 7\n",
    "# # n=1nope\n",
    "# print('end before jump')\n",
    "# ct = contour[n]\n",
    "# before = ct[-k:]\n",
    "# print(before)\n",
    "# ct = contour[n+1]\n",
    "# print('*jump*')\n",
    "# print('start after jump')\n",
    "# after = ct[:k]\n",
    "# print(after)\n",
    "# print(len(ct))\n",
    "\n",
    "# c_lst = list(range(k))"
   ]
  },
  {
   "cell_type": "code",
   "execution_count": 448,
   "metadata": {
    "ExecuteTime": {
     "end_time": "2020-10-27T03:15:46.769290Z",
     "start_time": "2020-10-27T03:15:46.744775Z"
    },
    "hidden": true
   },
   "outputs": [],
   "source": [
    "# plt.scatter(x=before[:,1],y=before[:,0],c=c_lst)\n",
    "# plt.show()"
   ]
  },
  {
   "cell_type": "code",
   "execution_count": 447,
   "metadata": {
    "ExecuteTime": {
     "end_time": "2020-10-27T03:15:44.665845Z",
     "start_time": "2020-10-27T03:15:44.641765Z"
    },
    "hidden": true
   },
   "outputs": [],
   "source": [
    "# plt.scatter(x=after[:,1],y=after[:,0],c=c_lst)\n",
    "# plt.show()"
   ]
  },
  {
   "cell_type": "code",
   "execution_count": 128,
   "metadata": {
    "ExecuteTime": {
     "end_time": "2020-10-27T01:06:28.648851Z",
     "start_time": "2020-10-27T01:06:28.623862Z"
    },
    "hidden": true
   },
   "outputs": [],
   "source": [
    "# def _bring_vertices_together(vmove, vtarget, width, height):\n",
    "#     '''bring 2D vertex vmove as close as possible to 2D vertex \n",
    "#     vtarget by increasing xy coordinates by width or height to decrease the distance from vmove to vtarget.'''\n",
    "#     vw = np.array([width,0.])\n",
    "#     vh = np.array([0.,height])\n",
    "#     dist = np.linalg.norm(vmove-vtarget)\n",
    "#     vtest = vmove + vw\n",
    "#     dist_test = np.linalg.norm(vtest-vtarget)\n",
    "#     if dist_test < dist:\n",
    "#         vmove = vtest.copy()\n",
    "#         dist = dist_test.copy()\n",
    "#     else:\n",
    "#         vtest = vmove - vw\n",
    "#         dist_test = np.linalg.norm(vtest-vtarget)\n",
    "#         if dist_test < dist:\n",
    "#             vmove = vtest.copy()\n",
    "#             dist = np.linalg.norm(vmove-vtarget)\n",
    "#     vtest = vmove + vh\n",
    "#     dist_test = np.linalg.norm(vtest-vtarget)\n",
    "#     if dist_test < dist:\n",
    "#         vmove = vtest.copy()\n",
    "#         dist = dist_test.copy()\n",
    "#     else:\n",
    "#         vtest = vmove - vh\n",
    "#         dist_test = np.linalg.norm(vtest-vtarget)\n",
    "#         if dist_test < dist:\n",
    "#             vmove = vtest.copy()\n",
    "#             #dist = np.linalg.norm(vmove-vtarget)\n",
    "#     return vmove"
   ]
  },
  {
   "cell_type": "code",
   "execution_count": 129,
   "metadata": {
    "ExecuteTime": {
     "end_time": "2020-10-27T01:06:31.683872Z",
     "start_time": "2020-10-27T01:06:31.657475Z"
    },
    "hidden": true
   },
   "outputs": [],
   "source": [
    "# def split_and_augment_contour_into_contiguous_segments(contour, width, height, threshold=2):\n",
    "#     '''returns a list of contiguous contours with one contour vertex added from across the computational domain, mapped onto the local coordinates. \n",
    "#     jump_threshold = the max number of pixels two points may be separated by to be considered contiguous.\n",
    "#     size_threshold = the min number of vertices in a pbc contour\n",
    "#     split the contour into a contour_lst of contiguous contours.\n",
    "#     the last contour may have length 1 or 0.  simply ignore those later.'''\n",
    "#     mask = get_contiguous_mask(contour, threshold=threshold)\n",
    "#     if mask.all():\n",
    "#         #the contour is contiguous, no augmentation necessary.  Return the input contour as a list of one contour segment\n",
    "#         return [contour]\n",
    "#     else:\n",
    "#         #the contour is not contiguous, jumps occured accross boundary\n",
    "#         indices = np.nonzero(~mask)[0]+1\n",
    "#         contour_lst = np.split(contour,indices)\n",
    "\n",
    "#         #augment contours for each jump that occurred\n",
    "#         N = len(contour_lst)\n",
    "#         #for each jump, n\n",
    "#         for n in range(N): \n",
    "#             ct_before       = contour_lst[n] #before jump\n",
    "#             if n<N-1: #this checks for a jump at the end/beginning of the pbc contour.  This shouldn't be used when the final vertex equals the initial vertex.\n",
    "#                 ct_after       = contour_lst[n+1] #after jump\n",
    "#             else:\n",
    "#                 ct_after       = contour_lst[0]\n",
    "#             vend     = ct_before[-1]\n",
    "#             vstart   = ct_after[0]\n",
    "#             #map the start to the end and the end to the start\n",
    "#             vmove=vstart\n",
    "#             vtarget=vend\n",
    "#             vmapped_end = _bring_vertices_together(vmove, vtarget, width=width, height=height)\n",
    "#             vmove=vend\n",
    "#             vtarget=vstart\n",
    "#             vmapped_start = _bring_vertices_together(vmove, vtarget, width=width, height=height)\n",
    "#             #add the new end to the end if it hasn't already\n",
    "#             if ~(vmapped_end==vend).all():\n",
    "#                 contour_lst[n] = np.vstack([ct_before,vmapped_end])\n",
    "#             #add the new start to the start if it hasn't already\n",
    "#             if ~(vmapped_start==vstart).all():\n",
    "#                 if n<N-1: #this checks for a jump at the end/beginning of the pbc contour.  This shouldn't be used when the final vertex equals the initial vertex.\n",
    "#                     contour_lst[n+1] = np.vstack([vmapped_start, ct_after])\n",
    "#                 else:\n",
    "#                     contour_lst[0] = np.vstack([vmapped_start, ct_after])\n",
    "#         return contour_lst"
   ]
  },
  {
   "cell_type": "markdown",
   "metadata": {},
   "source": [
    "# DONE: debug by removing redundant tips"
   ]
  },
  {
   "cell_type": "code",
   "execution_count": 446,
   "metadata": {
    "ExecuteTime": {
     "end_time": "2020-10-27T03:14:58.225361Z",
     "start_time": "2020-10-27T03:14:57.751795Z"
    }
   },
   "outputs": [
    {
     "name": "stdout",
     "output_type": "stream",
     "text": [
      "10\n"
     ]
    }
   ],
   "source": []
  },
  {
   "cell_type": "code",
   "execution_count": 140,
   "metadata": {
    "ExecuteTime": {
     "end_time": "2020-10-27T01:10:09.562212Z",
     "start_time": "2020-10-27T01:10:09.536598Z"
    }
   },
   "outputs": [
    {
     "data": {
      "text/plain": [
       "[[168.97691928458286],\n",
       " [145.15499221344024],\n",
       " [8.289892465488741],\n",
       " [-0.4972661837627513],\n",
       " [199.50273381623725],\n",
       " [42.14259352866384],\n",
       " [72.07522382704923, 53.71595936107701],\n",
       " [38.08553662040193],\n",
       " [94.95912994740634, 94.03363381197714]]"
      ]
     },
     "execution_count": 140,
     "metadata": {},
     "output_type": "execute_result"
    }
   ],
   "source": [
    "x_lst"
   ]
  },
  {
   "cell_type": "code",
   "execution_count": 141,
   "metadata": {
    "ExecuteTime": {
     "end_time": "2020-10-27T01:10:18.543852Z",
     "start_time": "2020-10-27T01:10:18.521273Z"
    }
   },
   "outputs": [
    {
     "data": {
      "text/plain": [
       "[[40.37976285525308],\n",
       " [145.59907034020878],\n",
       " [39.40259370135202],\n",
       " [84.94671446988824],\n",
       " [84.94671446988824],\n",
       " [108.78883267605501],\n",
       " [57.459753154159586, 91.42288753829986],\n",
       " [148.32391159151007],\n",
       " [80.31144843202092, 65.30983240338988]]"
      ]
     },
     "execution_count": 141,
     "metadata": {},
     "output_type": "execute_result"
    }
   ],
   "source": [
    "y_lst"
   ]
  },
  {
   "cell_type": "code",
   "execution_count": 142,
   "metadata": {
    "ExecuteTime": {
     "end_time": "2020-10-27T01:10:32.495558Z",
     "start_time": "2020-10-27T01:10:32.467371Z"
    }
   },
   "outputs": [
    {
     "data": {
      "text/plain": [
       "[(1, 0), (1, 7), (1, 0), (1, 2), (1, 2), (1, 2), (1, 2), (1, 7), (2, 3)]"
      ]
     },
     "execution_count": 142,
     "metadata": {},
     "output_type": "execute_result"
    }
   ],
   "source": [
    "n_lst"
   ]
  },
  {
   "cell_type": "code",
   "execution_count": 144,
   "metadata": {
    "ExecuteTime": {
     "end_time": "2020-10-27T01:12:05.933140Z",
     "start_time": "2020-10-27T01:12:05.905259Z"
    }
   },
   "outputs": [
    {
     "data": {
      "text/plain": [
       "0.00546763247450599"
      ]
     },
     "execution_count": 144,
     "metadata": {},
     "output_type": "execute_result"
    }
   ],
   "source": [
    "#the tolerance for the mapped dimension is apparently \n",
    "-0.4972661837627513+199.50273381623725-199"
   ]
  },
  {
   "cell_type": "code",
   "execution_count": 147,
   "metadata": {
    "ExecuteTime": {
     "end_time": "2020-10-27T01:13:20.461247Z",
     "start_time": "2020-10-27T01:13:20.435248Z"
    }
   },
   "outputs": [
    {
     "data": {
      "text/plain": [
       "True"
      ]
     },
     "execution_count": 147,
     "metadata": {},
     "output_type": "execute_result"
    }
   ],
   "source": [
    "# the tolerance for the unmapped dimension is zero to machine precision\n",
    "84.94671446988824 == 84.94671446988824"
   ]
  },
  {
   "cell_type": "code",
   "execution_count": 152,
   "metadata": {
    "ExecuteTime": {
     "end_time": "2020-10-27T01:23:14.620578Z",
     "start_time": "2020-10-27T01:23:14.595977Z"
    }
   },
   "outputs": [],
   "source": [
    "#best algorithm is to \n",
    "# - 1 - find the collection of spiral tips with matching coords for each dimension\n",
    "# - 2 - for the other dimension, see if they differ by 199.0 ± 0.1 or 0.001\n",
    "# - 3 - if so, remove it the smallest x+y coord from the list\n",
    "#      find the first index of the \n",
    "#      use list().pop(index=index) for each n_lst, "
   ]
  },
  {
   "cell_type": "code",
   "execution_count": 173,
   "metadata": {
    "ExecuteTime": {
     "end_time": "2020-10-27T01:29:08.251621Z",
     "start_time": "2020-10-27T01:29:08.231771Z"
    }
   },
   "outputs": [],
   "source": [
    "#step 1: determine if any such duplicate tips exist\n",
    "x_values = flatten(x_lst)\n",
    "y_values = flatten(y_lst)\n",
    "duplicates_exist_in_x = len(x_values) != len(list(set(x_values)))\n",
    "duplicates_exist_in_y = len(y_values) != len(list(set(y_values)))"
   ]
  },
  {
   "cell_type": "code",
   "execution_count": 174,
   "metadata": {
    "ExecuteTime": {
     "end_time": "2020-10-27T01:29:10.431225Z",
     "start_time": "2020-10-27T01:29:10.406223Z"
    }
   },
   "outputs": [],
   "source": [
    "#step 2: if duplicates exist in a given coord, identify the duplicate coord\n",
    "if not (duplicates_exist_in_y | duplicates_exist_in_x):\n",
    "    pass #no duplicates.  Continue\n",
    "elif duplicates_exist_in_x:\n",
    "    pass\n",
    "elif duplicates_exist_in_y:\n",
    "    pass"
   ]
  },
  {
   "cell_type": "code",
   "execution_count": 431,
   "metadata": {
    "ExecuteTime": {
     "end_time": "2020-10-27T03:04:23.862332Z",
     "start_time": "2020-10-27T03:04:23.840921Z"
    }
   },
   "outputs": [],
   "source": [
    "# def unwrap_tips(n_lst, x_lst, y_lst):\n",
    "#     '''unwrap n_lst to s1_values and s2_values'''\n",
    "#     s1_values = []\n",
    "#     s2_values = []\n",
    "#     for n,lst in enumerate(x_lst):\n",
    "#         m = len(lst)\n",
    "#         s1, s2 = n_lst[n]\n",
    "#         s1_values.extend([s1 for j in range(m)])\n",
    "#         s2_values.extend([s2 for j in range(m)])\n",
    "#     x_values = flatten(x_lst)\n",
    "#     y_values = flatten(y_lst)\n",
    "#     return s1_values, s2_values, x_values, y_values"
   ]
  },
  {
   "cell_type": "code",
   "execution_count": 442,
   "metadata": {
    "ExecuteTime": {
     "end_time": "2020-10-27T03:14:08.434000Z",
     "start_time": "2020-10-27T03:14:08.399087Z"
    }
   },
   "outputs": [],
   "source": [
    "# def unwrap_and_reduce_tips(n_lst, x_lst, y_lst, width, height, pad=1):\n",
    "#     '''returns s1_values, s2_values, x_values, y_values each as numpy arrays\n",
    "#     unwrap_and_reduce_tips unwraps output of find_tips and then removes any tip duplicates if they are within distance pad of the boundary.\n",
    "#     duplicate tips are identified by sharing an x or y coordinate that match to machine precision, \n",
    "#     i.e. are tips duplicated by periodic boundary conditions.  In the event of such a duplicate tip, \n",
    "#     the right/bottom tip is retained.\n",
    "#     '''\n",
    "#     #unwrap tips\n",
    "#     s1_values, s2_values, x_values, y_values = unwrap_tips(n_lst, x_lst, y_lst)\n",
    "\n",
    "#     #reduce redundant tips\n",
    "#     # identify any duplicate values in that coord\n",
    "#     boo_x = np.array([(x_values.count(x)-1)>0 for x in x_values])\n",
    "#     boo_y = np.array([(y_values.count(y)-1)>0 for y in y_values])\n",
    "\n",
    "#     s1_values=np.array(s1_values) \n",
    "#     s2_values=np.array(s2_values)\n",
    "#     x_values =np.array(x_values)\n",
    "#     y_values =np.array(y_values)\n",
    "\n",
    "#     #step 1: determine if any such duplicate tips exist\n",
    "#     duplicates_exist = boo_x.any() or boo_y.any()\n",
    "#     if not duplicates_exist:\n",
    "#         return s1_values, s2_values, x_values, y_values\n",
    "\n",
    "#     #step 2: remove any tip duplicates in the x coordinates if they are within distance pad of the boundary\n",
    "#     if boo_x.any():\n",
    "#         #remove any tip duplicates in the x coordinates if they are within distance pad of the boundary\n",
    "#         ar, index, inverse, counts = np.unique(x_values, return_index=True, return_inverse=True, return_counts=True,)\n",
    "#         # #test that the inverse map reconstructs the original data\n",
    "#         # assert ( (ar[inverse]-x_values == 0.).all() ) \n",
    "#         # #test that the forward map, index constructs the unique data\n",
    "#         # assert ( (ar - x_values[index] == 0.).all() ) \n",
    "\n",
    "#         indices_to_be_appended = []\n",
    "#         for j in index[counts>1]: \n",
    "#             #get the value that corresponds to this count>1 instance is x_values[j]\n",
    "#             #get the original indices that correspond to this count>1 instance\n",
    "#             boo = x_values[j]==x_values\n",
    "#             #indices_to_be_appended at the end are those that lie in the bulk but still have a matching coordinate. The parameter pad controls this.\n",
    "#             #the index of any duplicate values that should not be eliminated because they lie outside a number of pixels = pad of the boundary\n",
    "#             indices_to_be_appended.extend(list(np.argwhere(boo & ( y_values > pad ) &  ( y_values < height-pad )).flatten()))\n",
    "#             #index to replace the one given\n",
    "#             i = int(np.argwhere(boo & ( y_values >= height-pad )).flatten())\n",
    "#         #append indices_to_be_appended, if any\n",
    "#         index = list(index)\n",
    "#         index.extend(indices_to_be_appended)\n",
    "\n",
    "#         #recompute the unwrapped tips, now guaranteed to be unique in this coordinate\n",
    "#         x_values = x_values[index]\n",
    "#         y_values = y_values[index]\n",
    "#         s1_values = s1_values[index]\n",
    "#         s2_values = s2_values[index]\n",
    "\n",
    "#         boo_y = np.array([(list(y_values).count(y)-1)>0 for y in y_values])\n",
    "\n",
    "#     #step 3: remove any tip duplicates in the y coordinates if they are within distance pad of the boundary\n",
    "#     if boo_y.any():\n",
    "#         ar, index, inverse, counts = np.unique(y_values, return_index=True, return_inverse=True, return_counts=True,)\n",
    "#         # #test that the inverse map reconstructs the original data\n",
    "#         # assert ( (ar[inverse]-y_values == 0.).all() ) \n",
    "#         # #test that the forward map, index constructs the unique data\n",
    "#         # assert ( (ar - y_values[index] == 0.).all() ) \n",
    "\n",
    "#         indices_to_be_appended = []\n",
    "#         for j in index[counts>1]: \n",
    "#             #get the value that corresponds to this count>1 instance is y_values[j]\n",
    "#             #get the original indices that correspond to this count>1 instance\n",
    "#             boo = y_values[j]==y_values\n",
    "\n",
    "#             #indices_to_be_appended at the end are those that lie in the bulk but still have a matching coordinate. The parameter pad controls this.\n",
    "#             #the index of any duplicate values that should not be eliminated because they lie outside a number of pixels = pad of the boundary\n",
    "#             indices_to_be_appended.extend(list(np.argwhere(boo & ( x_values > pad ) &  ( x_values < width-pad )).flatten()))\n",
    "#             #index to replace the one given\n",
    "#             i = int(np.argwhere(boo & ( x_values >= width-pad )).flatten())\n",
    "#         #append indices_to_be_appended, if any\n",
    "#         index = list(index)\n",
    "#         index.extend(indices_to_be_appended)\n",
    "\n",
    "#         #recompute the unwrapped tips, now guaranteed to be unique in this coordinate\n",
    "#         x_values = x_values[index]\n",
    "#         y_values = y_values[index]\n",
    "#         s1_values = s1_values[index]\n",
    "#         s2_values = s2_values[index]\n",
    "#     return s1_values, s2_values, x_values, y_values"
   ]
  },
  {
   "cell_type": "code",
   "execution_count": 445,
   "metadata": {
    "ExecuteTime": {
     "end_time": "2020-10-27T03:14:41.614188Z",
     "start_time": "2020-10-27T03:14:41.587085Z"
    }
   },
   "outputs": [
    {
     "data": {
      "text/plain": [
       "10"
      ]
     },
     "execution_count": 445,
     "metadata": {},
     "output_type": "execute_result"
    }
   ],
   "source": []
  },
  {
   "cell_type": "code",
   "execution_count": 444,
   "metadata": {
    "ExecuteTime": {
     "end_time": "2020-10-27T03:14:36.527524Z",
     "start_time": "2020-10-27T03:14:36.501623Z"
    }
   },
   "outputs": [
    {
     "data": {
      "text/plain": [
       "10"
      ]
     },
     "execution_count": 444,
     "metadata": {},
     "output_type": "execute_result"
    }
   ],
   "source": []
  },
  {
   "cell_type": "code",
   "execution_count": null,
   "metadata": {
    "ExecuteTime": {
     "end_time": "2020-10-27T01:48:45.166054Z",
     "start_time": "2020-10-27T01:48:45.133803Z"
    }
   },
   "outputs": [],
   "source": []
  },
  {
   "cell_type": "code",
   "execution_count": null,
   "metadata": {
    "ExecuteTime": {
     "end_time": "2020-10-27T02:08:36.585250Z",
     "start_time": "2020-10-27T02:08:36.565019Z"
    }
   },
   "outputs": [],
   "source": []
  },
  {
   "cell_type": "code",
   "execution_count": null,
   "metadata": {
    "ExecuteTime": {
     "end_time": "2020-10-27T02:08:38.615047Z",
     "start_time": "2020-10-27T02:08:38.595974Z"
    }
   },
   "outputs": [],
   "source": []
  },
  {
   "cell_type": "code",
   "execution_count": null,
   "metadata": {
    "ExecuteTime": {
     "end_time": "2020-10-27T02:11:50.376390Z",
     "start_time": "2020-10-27T02:11:50.350040Z"
    }
   },
   "outputs": [],
   "source": []
  },
  {
   "cell_type": "code",
   "execution_count": 346,
   "metadata": {
    "ExecuteTime": {
     "end_time": "2020-10-27T02:32:58.136133Z",
     "start_time": "2020-10-27T02:32:58.116228Z"
    }
   },
   "outputs": [
    {
     "data": {
      "text/plain": [
       "array([ 0,  1,  2,  3,  3,  5,  6,  7,  8,  9, 10])"
      ]
     },
     "execution_count": 346,
     "metadata": {},
     "output_type": "execute_result"
    }
   ],
   "source": [
    "# inverse[index]\n",
    "index[inverse]"
   ]
  },
  {
   "cell_type": "code",
   "execution_count": 377,
   "metadata": {
    "ExecuteTime": {
     "end_time": "2020-10-27T02:44:37.951999Z",
     "start_time": "2020-10-27T02:44:37.925480Z"
    }
   },
   "outputs": [
    {
     "data": {
      "text/plain": [
       "[]"
      ]
     },
     "execution_count": 377,
     "metadata": {},
     "output_type": "execute_result"
    }
   ],
   "source": []
  },
  {
   "cell_type": "code",
   "execution_count": 415,
   "metadata": {
    "ExecuteTime": {
     "end_time": "2020-10-27T02:59:07.924665Z",
     "start_time": "2020-10-27T02:59:07.900083Z"
    }
   },
   "outputs": [],
   "source": []
  },
  {
   "cell_type": "code",
   "execution_count": 419,
   "metadata": {
    "ExecuteTime": {
     "end_time": "2020-10-27T03:00:13.595157Z",
     "start_time": "2020-10-27T03:00:13.568458Z"
    }
   },
   "outputs": [
    {
     "data": {
      "text/plain": [
       "array([  8.28989247, 168.97691928,  72.07522383,  94.03363381,\n",
       "        94.95912995, 199.50273382,  53.71595936,  42.14259353,\n",
       "       145.15499221,  38.08553662])"
      ]
     },
     "execution_count": 419,
     "metadata": {},
     "output_type": "execute_result"
    }
   ],
   "source": []
  },
  {
   "cell_type": "code",
   "execution_count": 397,
   "metadata": {
    "ExecuteTime": {
     "end_time": "2020-10-27T02:51:08.023840Z",
     "start_time": "2020-10-27T02:51:07.998722Z"
    }
   },
   "outputs": [
    {
     "data": {
      "text/plain": [
       "[]"
      ]
     },
     "execution_count": 397,
     "metadata": {},
     "output_type": "execute_result"
    }
   ],
   "source": [
    "#find the index of any exceptions\n",
    "lst"
   ]
  },
  {
   "cell_type": "code",
   "execution_count": 378,
   "metadata": {
    "ExecuteTime": {
     "end_time": "2020-10-27T02:44:53.848455Z",
     "start_time": "2020-10-27T02:44:53.823951Z"
    }
   },
   "outputs": [],
   "source": [
    "#append those to list\n",
    "\n"
   ]
  },
  {
   "cell_type": "code",
   "execution_count": 330,
   "metadata": {
    "ExecuteTime": {
     "end_time": "2020-10-27T02:29:27.471965Z",
     "start_time": "2020-10-27T02:29:27.445116Z"
    }
   },
   "outputs": [
    {
     "data": {
      "text/plain": [
       "array([ 2,  0,  6, 10,  9,  3,  7,  5,  1,  8])"
      ]
     },
     "execution_count": 330,
     "metadata": {},
     "output_type": "execute_result"
    }
   ],
   "source": [
    "# update index with i at j\n",
    "index"
   ]
  },
  {
   "cell_type": "code",
   "execution_count": 291,
   "metadata": {
    "ExecuteTime": {
     "end_time": "2020-10-27T02:16:14.300320Z",
     "start_time": "2020-10-27T02:16:14.275118Z"
    }
   },
   "outputs": [
    {
     "data": {
      "text/plain": [
       "84.94671446988824"
      ]
     },
     "execution_count": 291,
     "metadata": {},
     "output_type": "execute_result"
    }
   ],
   "source": [
    "y_values[j]\n",
    "y_values[j]"
   ]
  },
  {
   "cell_type": "code",
   "execution_count": 282,
   "metadata": {
    "ExecuteTime": {
     "end_time": "2020-10-27T02:13:59.389583Z",
     "start_time": "2020-10-27T02:13:59.368038Z"
    }
   },
   "outputs": [
    {
     "name": "stdout",
     "output_type": "stream",
     "text": [
      "5\n"
     ]
    }
   ],
   "source": [
    "#identify each match\n",
    "for i in np.argwhere(counts-1>0).flatten():\n",
    "    print(i)# new_index of match\n",
    "    "
   ]
  },
  {
   "cell_type": "code",
   "execution_count": 64,
   "metadata": {
    "ExecuteTime": {
     "end_time": "2020-10-27T04:07:19.575328Z",
     "start_time": "2020-10-27T04:07:19.093867Z"
    }
   },
   "outputs": [
    {
     "name": "stdout",
     "output_type": "stream",
     "text": [
      "10\n"
     ]
    }
   ],
   "source": [
    "img    = txt[...,0]\n",
    "dimgdt = dtexture_dt[...,0]\n",
    "\n",
    "contours1 = find_contours(img, level=0.5, mode='pbc')\n",
    "contours2 = find_contours(dimgdt, level=0.0, mode='pbc')\n",
    "\n",
    "n_lst, x_lst, y_lst = contours_to_simple_tips_pbc(contours1,contours2,width, height, jump_threshold = 3, size_threshold = 6)\n",
    "s1_values, s2_values, x_values, y_values = unwrap_and_reduce_tips(n_lst, x_lst, y_lst, width, height, pad=3, decimals=11)\n",
    "n_tips = count_tips(x_values)\n",
    "print(n_tips)"
   ]
  },
  {
   "cell_type": "code",
   "execution_count": 45,
   "metadata": {
    "ExecuteTime": {
     "end_time": "2020-10-27T03:58:17.041593Z",
     "start_time": "2020-10-27T03:58:17.017603Z"
    }
   },
   "outputs": [],
   "source": [
    "# import inspect\n",
    "# print(inspect.getsource(unwrap_and_reduce_tips))"
   ]
  },
  {
   "cell_type": "code",
   "execution_count": 54,
   "metadata": {
    "ExecuteTime": {
     "end_time": "2020-10-27T04:02:30.025384Z",
     "start_time": "2020-10-27T04:02:29.999285Z"
    }
   },
   "outputs": [
    {
     "name": "stdout",
     "output_type": "stream",
     "text": [
      "[168.90031805 145.11732839   8.41128085  -0.573259   199.426741\n",
      "  42.18464766  72.00205159  53.71593342  38.13599305  94.9579939\n",
      "  94.07797934]\n",
      "[ 40.3938423  145.63744437  39.41586996  84.91933212  84.91933212\n",
      " 108.78142739  57.38317817  91.43628543 148.19835586  80.39771641\n",
      "  65.23353223]\n"
     ]
    }
   ],
   "source": [
    "print(x_values)\n",
    "print(y_values)"
   ]
  },
  {
   "cell_type": "code",
   "execution_count": 63,
   "metadata": {
    "ExecuteTime": {
     "end_time": "2020-10-27T04:07:12.016107Z",
     "start_time": "2020-10-27T04:07:11.980799Z"
    }
   },
   "outputs": [],
   "source": [
    "# def unwrap_and_reduce_tips(n_lst, x_lst, y_lst, width, height, pad=1, decimals=11):\n",
    "#     '''returns s1_values, s2_values, x_values, y_values each as numpy arrays\n",
    "#     unwrap_and_reduce_tips unwraps output of find_tips and then removes any tip duplicates if they are within distance pad of the boundary.\n",
    "#     duplicate tips are identified by sharing an x or y coordinate that match to machine precision, \n",
    "#     i.e. are tips duplicated by periodic boundary conditions.  In the event of such a duplicate tip, \n",
    "#     the right/bottom tip is retained.\n",
    "#     '''\n",
    "#     #unwrap tips\n",
    "#     s1_values, s2_values, x_values, y_values = unwrap_tips(n_lst, x_lst, y_lst)\n",
    "\n",
    "#     #reduce redundant tips\n",
    "#     # identify any duplicate values in each coord\n",
    "#     x_values_rounded = np.around(x_values, decimals=decimals)\n",
    "#     y_values_rounded = np.around(y_values, decimals=decimals)\n",
    "#     boo_x = np.array([(list(x_values_rounded).count(x)-1)>0 for x in x_values_rounded])\n",
    "#     boo_y = np.array([(list(y_values_rounded).count(y)-1)>0 for y in y_values_rounded])\n",
    "\n",
    "#     s1_values=np.array(s1_values) \n",
    "#     s2_values=np.array(s2_values)\n",
    "#     x_values =np.array(x_values)\n",
    "#     y_values =np.array(y_values)\n",
    "\n",
    "#     #step 1: determine if any such duplicate tips exist\n",
    "#     duplicates_exist = boo_x.any() or boo_y.any()\n",
    "#     if not duplicates_exist:\n",
    "#         return s1_values, s2_values, x_values, y_values\n",
    "\n",
    "#     #step 2: remove any tip duplicates in the x coordinates if they are within distance pad of the boundary\n",
    "#     if boo_x.any():\n",
    "#         #remove any tip duplicates in the x coordinates if they are within distance pad of the boundary\n",
    "#         ar, index, inverse, counts = np.unique(x_values_rounded, return_index=True, return_inverse=True, return_counts=True,)\n",
    "#         # #test that the inverse map reconstructs the original data\n",
    "#         # assert ( (ar[inverse]-x_values_rounded == 0.).all() ) \n",
    "#         # #test that the forward map, index constructs the unique data\n",
    "#         # assert ( (ar - x_values_rounded[index] == 0.).all() ) \n",
    "\n",
    "#         indices_to_be_appended = []\n",
    "#         for j in index[counts>1]: \n",
    "#             #get the value that corresponds to this count>1 instance is x_values[j]\n",
    "#             #get the original indices that correspond to this count>1 instance\n",
    "#             boo = x_values_rounded[j]==x_values_rounded\n",
    "#             #indices_to_be_appended at the end are those that lie in the bulk but still have a matching coordinate. The parameter pad controls this.\n",
    "#             #the index of any duplicate values that should not be eliminated because they lie outside a number of pixels = pad of the boundary\n",
    "#             indices_to_be_appended.extend(list(np.argwhere(boo & ( y_values > pad ) &  ( y_values < height-pad )).flatten()))\n",
    "#             #index to replace the one given\n",
    "#             i = int(np.argwhere(boo & ( y_values >= height-pad )).flatten())\n",
    "#         #append indices_to_be_appended, if any\n",
    "#         index = list(index)\n",
    "#         index.extend(indices_to_be_appended)\n",
    "\n",
    "#         #recompute the unwrapped tips, now guaranteed to be unique in this coordinate\n",
    "#         x_values = x_values[index]\n",
    "#         y_values = y_values[index]\n",
    "#         s1_values = s1_values[index]\n",
    "#         s2_values = s2_values[index]\n",
    "\n",
    "#         y_values_rounded = np.around(y_values, decimals=decimals)\n",
    "#         boo_y = np.array([(list(y_values_rounded).count(y)-1)>0 for y in y_values_rounded])\n",
    "\n",
    "#     #step 3: remove any tip duplicates in the y coordinates if they are within distance pad of the boundary\n",
    "#     if boo_y.any():\n",
    "\n",
    "#         ar, index, inverse, counts = np.unique(y_values_rounded, return_index=True, return_inverse=True, return_counts=True,)\n",
    "#         # #test that the inverse map reconstructs the original data\n",
    "#         # assert ( (ar[inverse]-y_values_rounded == 0.).all() ) \n",
    "#         # #test that the forward map, index constructs the unique data\n",
    "#         # assert ( (ar - y_values_rounded[index] == 0.).all() ) \n",
    "\n",
    "#         indices_to_be_appended = []\n",
    "#         for j in index[counts>1]: \n",
    "#             #get the value that corresponds to this count>1 instance is y_values[j]\n",
    "#             #get the original indices that correspond to this count>1 instance\n",
    "#             boo = y_values_rounded[j]==y_values_rounded\n",
    "\n",
    "#             #indices_to_be_appended at the end are those that lie in the bulk but still have a matching coordinate. The parameter pad controls this.\n",
    "#             #the index of any duplicate values that should not be eliminated because they lie outside a number of pixels = pad of the boundary\n",
    "#             indices_to_be_appended.extend(list(np.argwhere(boo & ( x_values > pad ) &  ( x_values < width-pad )).flatten()))\n",
    "#             #index to replace the one given\n",
    "#             i = int(np.argwhere(boo & ( x_values >= width-pad )).flatten())\n",
    "#         #append indices_to_be_appended, if any\n",
    "#         index = list(index)\n",
    "#         index.extend(indices_to_be_appended)\n",
    "\n",
    "#         #recompute the unwrapped tips, now guaranteed to be unique in this coordinate\n",
    "#         x_values = x_values[index]\n",
    "#         y_values = y_values[index]\n",
    "#         s1_values = s1_values[index]\n",
    "#         s2_values = s2_values[index]\n",
    "#     return s1_values, s2_values, x_values, y_values"
   ]
  },
  {
   "cell_type": "code",
   "execution_count": 62,
   "metadata": {
    "ExecuteTime": {
     "end_time": "2020-10-27T04:06:46.806887Z",
     "start_time": "2020-10-27T04:06:46.780421Z"
    }
   },
   "outputs": [
    {
     "data": {
      "text/plain": [
       "10"
      ]
     },
     "execution_count": 62,
     "metadata": {},
     "output_type": "execute_result"
    }
   ],
   "source": [
    "count_tips(x_values)"
   ]
  },
  {
   "cell_type": "code",
   "execution_count": 59,
   "metadata": {
    "ExecuteTime": {
     "end_time": "2020-10-27T04:04:06.981349Z",
     "start_time": "2020-10-27T04:04:06.954696Z"
    }
   },
   "outputs": [
    {
     "data": {
      "text/plain": [
       "False"
      ]
     },
     "execution_count": 59,
     "metadata": {},
     "output_type": "execute_result"
    }
   ],
   "source": [
    "boo_x.any()"
   ]
  },
  {
   "cell_type": "code",
   "execution_count": null,
   "metadata": {},
   "outputs": [],
   "source": []
  }
 ],
 "metadata": {
  "kernelspec": {
   "display_name": "Python 3",
   "language": "python",
   "name": "python3"
  },
  "language_info": {
   "codemirror_mode": {
    "name": "ipython",
    "version": 3
   },
   "file_extension": ".py",
   "mimetype": "text/x-python",
   "name": "python",
   "nbconvert_exporter": "python",
   "pygments_lexer": "ipython3",
   "version": "3.8.5"
  },
  "varInspector": {
   "cols": {
    "lenName": 16,
    "lenType": 16,
    "lenVar": 40
   },
   "kernels_config": {
    "python": {
     "delete_cmd_postfix": "",
     "delete_cmd_prefix": "del ",
     "library": "var_list.py",
     "varRefreshCmd": "print(var_dic_list())"
    },
    "r": {
     "delete_cmd_postfix": ") ",
     "delete_cmd_prefix": "rm(",
     "library": "var_list.r",
     "varRefreshCmd": "cat(var_dic_list()) "
    }
   },
   "types_to_exclude": [
    "module",
    "function",
    "builtin_function_or_method",
    "instance",
    "_Feature"
   ],
   "window_display": false
  }
 },
 "nbformat": 4,
 "nbformat_minor": 4
}
