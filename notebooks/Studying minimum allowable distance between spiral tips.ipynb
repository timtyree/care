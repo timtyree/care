{
 "cells": [
  {
   "cell_type": "markdown",
   "metadata": {},
   "source": [
    "# Studying minimum allowable distance between spiral tips\n",
    "Tim Tyree<br>\n",
    "4.18.2021"
   ]
  },
  {
   "cell_type": "code",
   "execution_count": 3,
   "metadata": {
    "ExecuteTime": {
     "end_time": "2021-05-05T01:19:47.841612Z",
     "start_time": "2021-05-05T01:19:47.827856Z"
    },
    "run_control": {
     "marked": false
    }
   },
   "outputs": [
    {
     "ename": "IndentationError",
     "evalue": "unindent does not match any outer indentation level (full_color_contours.py, line 92)",
     "output_type": "error",
     "traceback": [
      "Traceback \u001b[0;36m(most recent call last)\u001b[0m:\n",
      "  File \u001b[1;32m\"/home/timothytyree/anaconda3/lib/python3.7/site-packages/IPython/core/interactiveshell.py\"\u001b[0m, line \u001b[1;32m3331\u001b[0m, in \u001b[1;35mrun_code\u001b[0m\n    exec(code_obj, self.user_global_ns, self.user_ns)\n",
      "  File \u001b[1;32m\"<ipython-input-3-b358c5e6b055>\"\u001b[0m, line \u001b[1;32m4\u001b[0m, in \u001b[1;35m<module>\u001b[0m\n    from lib import *\n",
      "  File \u001b[1;32m\"/home/timothytyree/Documents/GitHub/care/notebooks/lib/__init__.py\"\u001b[0m, line \u001b[1;32m1\u001b[0m, in \u001b[1;35m<module>\u001b[0m\n    from .measure import *\n",
      "\u001b[0;36m  File \u001b[0;32m\"/home/timothytyree/Documents/GitHub/care/notebooks/lib/measure/__init__.py\"\u001b[0;36m, line \u001b[0;32m15\u001b[0;36m, in \u001b[0;35m<module>\u001b[0;36m\u001b[0m\n\u001b[0;31m    from .full_color_contours import *\u001b[0m\n",
      "\u001b[0;36m  File \u001b[0;32m\"/home/timothytyree/Documents/GitHub/care/notebooks/lib/measure/full_color_contours.py\"\u001b[0;36m, line \u001b[0;32m92\u001b[0m\n\u001b[0;31m    def update_with_full_color_observations(dict_topo,contours1,contours2,txt):\u001b[0m\n\u001b[0m                                                                               ^\u001b[0m\n\u001b[0;31mIndentationError\u001b[0m\u001b[0;31m:\u001b[0m unindent does not match any outer indentation level\n"
     ]
    }
   ],
   "source": [
    "import pandas as pd, numpy as np, matplotlib.pyplot as plt\n",
    "from numba import njit\n",
    "#load the libraries\n",
    "from lib import *\n",
    "\n",
    "from lib.my_initialization import *\n",
    "from lib.controller.controller_LR import get_one_step_explicit_synchronous_splitting\n",
    "from lib.model.LR_model import *\n",
    "from lib.utils.utils_traj import *\n",
    "from lib.routines.bdrates import *\n",
    "from lib.measure.utils_measure_tips_cpu import *\n",
    "from lib.utils.stack_txt_LR import *\n",
    "from lib.viewer import *\n",
    "import trackpy\n",
    "from lib.utils import load_buffer\n",
    "\n",
    "#automate the boring stuff\n",
    "# from IPython import utils\n",
    "import time, os, sys, re\n",
    "beep = lambda x: os.system(\"echo -n '\\\\a';sleep 0.2;\" * x)\n",
    "if not 'nb_dir' in globals():\n",
    "    nb_dir = os.getcwd()\n",
    "    \n",
    "%autocall 1\n",
    "%load_ext autoreload\n",
    "%autoreload 2"
   ]
  },
  {
   "cell_type": "markdown",
   "metadata": {
    "ExecuteTime": {
     "end_time": "2021-04-29T18:16:24.047026Z",
     "start_time": "2021-04-29T18:16:24.020635Z"
    }
   },
   "source": [
    "# euclidean distance between dying tips appears to go to zero"
   ]
  },
  {
   "cell_type": "markdown",
   "metadata": {
    "heading_collapsed": true
   },
   "source": [
    "## initialize a token case repeatably for Luo-Rudy model (~15 min runtime)"
   ]
  },
  {
   "cell_type": "code",
   "execution_count": 31,
   "metadata": {
    "ExecuteTime": {
     "end_time": "2021-04-19T23:48:01.268412Z",
     "start_time": "2021-04-19T23:48:01.220634Z"
    },
    "hidden": true,
    "run_control": {
     "marked": true
    }
   },
   "outputs": [],
   "source": [
    "# ic_fn=search_for_file()\n",
    "ic_fn=f\"{nb_dir}/Data/initial-conditions-suite-3-LR/ic-out/ic008.33.npz\"\n",
    "txt=load_buffer(ic_fn)\n",
    "t=0"
   ]
  },
  {
   "cell_type": "code",
   "execution_count": 32,
   "metadata": {
    "ExecuteTime": {
     "end_time": "2021-04-19T23:48:03.614240Z",
     "start_time": "2021-04-19T23:48:02.400455Z"
    },
    "hidden": true,
    "run_control": {
     "marked": true
    }
   },
   "outputs": [],
   "source": [
    "# get_one_step\n",
    "dt, arr39, one_step = get_one_step_explicit_synchronous_splitting(\n",
    "    nb_dir,\n",
    "    dt=0.01,\n",
    "    width=200,\n",
    "    height=200,\n",
    "    ds=5.0,\n",
    "    diffCoef=0.001,\n",
    "    Cm=1.0)"
   ]
  },
  {
   "cell_type": "code",
   "execution_count": 33,
   "metadata": {
    "ExecuteTime": {
     "end_time": "2021-04-19T23:48:04.424551Z",
     "start_time": "2021-04-19T23:48:04.253076Z"
    },
    "hidden": true,
    "run_control": {
     "marked": true
    }
   },
   "outputs": [],
   "source": [
    "inVc, outVc, inmhjdfx, outmhjdfx, dVcdt=unstack_txt(txt.copy())"
   ]
  },
  {
   "cell_type": "code",
   "execution_count": 34,
   "metadata": {
    "ExecuteTime": {
     "end_time": "2021-04-19T23:55:59.976165Z",
     "start_time": "2021-04-19T23:48:04.814236Z"
    },
    "hidden": true,
    "run_control": {
     "marked": true
    }
   },
   "outputs": [],
   "source": [
    "tf=100.\n",
    "while t<tf:\n",
    "    one_step(inVc, outVc, inmhjdfx, outmhjdfx, dVcdt)\n",
    "    t+=dt"
   ]
  },
  {
   "cell_type": "code",
   "execution_count": 35,
   "metadata": {
    "ExecuteTime": {
     "end_time": "2021-04-19T23:56:00.050688Z",
     "start_time": "2021-04-19T23:56:00.033667Z"
    },
    "hidden": true,
    "run_control": {
     "marked": true
    }
   },
   "outputs": [],
   "source": [
    "#test timestep updates all channels\n",
    "inVc0, outVc0, inmhjdfx0, outmhjdfx0, dVcdt0=unstack_txt(txt)\n",
    "assert (np.max(np.abs(inVc0-inVc))>0)\n",
    "assert (np.max(np.abs(outVc0-outVc))>0)\n",
    "assert (np.max(np.abs(inmhjdfx0-inmhjdfx))>0)\n",
    "assert (np.max(np.abs(outmhjdfx0-outmhjdfx))>0)\n",
    "assert (np.max(np.abs(dVcdt0-dVcdt))>0)"
   ]
  },
  {
   "cell_type": "code",
   "execution_count": 36,
   "metadata": {
    "ExecuteTime": {
     "end_time": "2021-04-19T23:56:00.128944Z",
     "start_time": "2021-04-19T23:56:00.116093Z"
    },
    "hidden": true,
    "run_control": {
     "marked": true
    }
   },
   "outputs": [],
   "source": [
    "width=200;height=200\n",
    "compute_all_spiral_tips=get_compute_all_spiral_tips(width, height, mode='simp')"
   ]
  },
  {
   "cell_type": "code",
   "execution_count": 37,
   "metadata": {
    "ExecuteTime": {
     "end_time": "2021-04-19T23:56:00.278317Z",
     "start_time": "2021-04-19T23:56:00.193802Z"
    },
    "hidden": true,
    "run_control": {
     "marked": true
    }
   },
   "outputs": [
    {
     "name": "stdout",
     "output_type": "stream",
     "text": [
      "6.685565\n"
     ]
    },
    {
     "data": {
      "text/plain": [
       "{'t': 100.01000000001426,\n",
       " 'n': 2,\n",
       " 'x': [31.138362916846777, 92.77389184880282],\n",
       " 'y': [94.4573011205346, 46.08495673401471],\n",
       " 'grad_ux': [48.25899117063655, -1.151004739451925],\n",
       " 'grad_uy': [-14.571703140113451, 5.319836154079837],\n",
       " 'grad_vx': [-1.128798415084153, 10.04577590081355],\n",
       " 'grad_vy': [1.6993321317647967, -17.202332047623162]}"
      ]
     },
     "execution_count": 37,
     "metadata": {},
     "output_type": "execute_result"
    }
   ],
   "source": [
    "#compute all spiral tips present\n",
    "V_threshold=-50.#mV\n",
    "level1=V_threshold\n",
    "# theta_threshold=0.\n",
    "level2=0.\n",
    "#take the first step\n",
    "one_step(inVc,outVc,inmhjdfx,outmhjdfx,dVcdt)\n",
    "t+=dt\n",
    "img=inVc[...,0]\n",
    "dimgdt=dVcdt[...,0]\n",
    "dict_out=compute_all_spiral_tips(t,img,dimgdt,level1,level2)\n",
    "dict_out_instantaneous=dict_out\n",
    "print(np.max(inVc[...,0]))\n",
    "dict_out_instantaneous"
   ]
  },
  {
   "cell_type": "code",
   "execution_count": 38,
   "metadata": {
    "ExecuteTime": {
     "end_time": "2021-04-19T23:56:00.450463Z",
     "start_time": "2021-04-19T23:56:00.344262Z"
    },
    "hidden": true,
    "run_control": {
     "marked": true
    }
   },
   "outputs": [
    {
     "name": "stdout",
     "output_type": "stream",
     "text": [
      "2 tips are present at time t=100.\n"
     ]
    },
    {
     "data": {
      "image/png": "[encoded data removed]",
      "text/plain": [
       "<Figure size 432x432 with 1 Axes>"
      ]
     },
     "metadata": {},
     "output_type": "display_data"
    }
   ],
   "source": [
    "x_values=np.array(dict_out['x'])\n",
    "y_values=np.array(dict_out['y'])\n",
    "c_values=np.array(dict_out['x'])\n",
    "print(f\"{dict_out['n']} tips are present at time t={int(t)}.\")\n",
    "fig = ShowDomain(img,dimgdt,x_values,y_values,c_values,V_threshold,t,inch=6,fontsize=16,vmin_img=-85.,vmax_img=35.,\n",
    "                 area=25,frameno=1,save_fn=None,save_folder=None,save=False,annotating=False,axis=[0,200,0,200])\n",
    "plt.show(fig)"
   ]
  },
  {
   "cell_type": "code",
   "execution_count": 39,
   "metadata": {
    "ExecuteTime": {
     "end_time": "2021-04-19T23:56:01.065517Z",
     "start_time": "2021-04-19T23:56:00.516538Z"
    },
    "hidden": true,
    "run_control": {
     "marked": true
    }
   },
   "outputs": [],
   "source": [
    "txt=stack_txt(inVc, outVc, inmhjdfx, outmhjdfx, dVcdt)\n",
    "\n",
    "#save texture at this time t\n",
    "save=True\n",
    "if save:\n",
    "#     txt=stack_txt(inVc,outVc,inmhjdfx,outmhjdfx,dVcdt)\n",
    "    save_img_fn=os.path.basename(ic_fn).replace('.npz',f'_t_{t:.0f}.npz')\n",
    "    save_img_folder=f\"{nb_dir}/Data/test_data/\"\n",
    "    os.chdir(save_img_folder)\n",
    "    #     img_out=txt#np.stack([img,dimgdt]).T\n",
    "    np.savez_compressed(save_img_fn,[txt])"
   ]
  },
  {
   "cell_type": "code",
   "execution_count": 26,
   "metadata": {
    "ExecuteTime": {
     "end_time": "2021-04-19T23:47:05.353653Z",
     "start_time": "2021-04-19T23:47:05.309599Z"
    },
    "hidden": true,
    "run_control": {
     "marked": true
    }
   },
   "outputs": [],
   "source": [
    "# os.path.abspath(save_img_fn)\n",
    "txt_fn=f'{nb_dir}/Data/test_data/ic008.33_t_100.npz'\n",
    "txt=load_buffer(txt_fn)\n",
    "t=100\n",
    "#TODO: save txt as txt_save regularly at time t_save\n",
    "#TODO: time step until a spiral tip death occurs"
   ]
  },
  {
   "cell_type": "code",
   "execution_count": 27,
   "metadata": {
    "ExecuteTime": {
     "end_time": "2021-04-19T23:47:08.517021Z",
     "start_time": "2021-04-19T23:47:07.110164Z"
    },
    "hidden": true,
    "run_control": {
     "marked": true
    }
   },
   "outputs": [],
   "source": [
    "#DONE: detect all spiral tips present\n",
    "#TODO: compute r=minimum distance between all spiral tips \n",
    "#TODO: record r given current time step\n",
    "#TODO: repeat ^that death event using half the time step.  Is r different? ...If not, be sure before continuing.\n",
    "\n",
    "# get_one_step\n",
    "dt, arr39, one_step = get_one_step_explicit_synchronous_splitting(\n",
    "    nb_dir,\n",
    "    dt=0.01,\n",
    "    width=200,\n",
    "    height=200,\n",
    "    ds=5.0,\n",
    "    diffCoef=0.001,\n",
    "    Cm=1.0)\n",
    "\n",
    "width=200;height=200\n",
    "compute_all_spiral_tips=get_compute_all_spiral_tips(width, height, mode='simp')"
   ]
  },
  {
   "cell_type": "code",
   "execution_count": 4,
   "metadata": {
    "ExecuteTime": {
     "end_time": "2021-04-19T23:37:13.191705Z",
     "start_time": "2021-04-19T23:36:30.046267Z"
    },
    "hidden": true,
    "run_control": {
     "marked": true
    }
   },
   "outputs": [
    {
     "name": "stdout",
     "output_type": "stream",
     "text": [
      "File: /home/timothytyree/Documents/GitHub/care/notebooks/Data/initial-conditions-suite-3-LR/param_qu_tmax_30_Ko_50_diffCoef_0.001/trajectories/ic008.33_traj_sr_600_mem_0.csv\n"
     ]
    }
   ],
   "source": [
    "# filename=search_for_file()\n",
    "filename=\"/home/timothytyree/Documents/GitHub/care/notebooks/Data/initial-conditions-suite-3-LR/param_qu_tmax_30_Ko_50_diffCoef_0.001/trajectories/ic008.33_traj_sr_600_mem_0.csv\""
   ]
  },
  {
   "cell_type": "code",
   "execution_count": 5,
   "metadata": {
    "ExecuteTime": {
     "end_time": "2021-04-19T23:37:25.452284Z",
     "start_time": "2021-04-19T23:37:25.394983Z"
    },
    "hidden": true,
    "run_control": {
     "marked": true
    }
   },
   "outputs": [
    {
     "data": {
      "text/html": [
       "<div>\n",
       "<style scoped>\n",
       "    .dataframe tbody tr th:only-of-type {\n",
       "        vertical-align: middle;\n",
       "    }\n",
       "\n",
       "    .dataframe tbody tr th {\n",
       "        vertical-align: top;\n",
       "    }\n",
       "\n",
       "    .dataframe thead th {\n",
       "        text-align: right;\n",
       "    }\n",
       "</style>\n",
       "<table border=\"1\" class=\"dataframe\">\n",
       "  <thead>\n",
       "    <tr style=\"text-align: right;\">\n",
       "      <th></th>\n",
       "      <th>t</th>\n",
       "      <th>n</th>\n",
       "      <th>x</th>\n",
       "      <th>y</th>\n",
       "      <th>grad_ux</th>\n",
       "      <th>grad_uy</th>\n",
       "      <th>grad_vx</th>\n",
       "      <th>grad_vy</th>\n",
       "      <th>frame</th>\n",
       "      <th>particle</th>\n",
       "    </tr>\n",
       "  </thead>\n",
       "  <tbody>\n",
       "    <tr>\n",
       "      <th>0</th>\n",
       "      <td>100.1</td>\n",
       "      <td>4</td>\n",
       "      <td>76.107144</td>\n",
       "      <td>95.769295</td>\n",
       "      <td>2.122038</td>\n",
       "      <td>0.110608</td>\n",
       "      <td>3.848873</td>\n",
       "      <td>-1.268491</td>\n",
       "      <td>0</td>\n",
       "      <td>0</td>\n",
       "    </tr>\n",
       "    <tr>\n",
       "      <th>1</th>\n",
       "      <td>100.1</td>\n",
       "      <td>4</td>\n",
       "      <td>138.428533</td>\n",
       "      <td>177.960260</td>\n",
       "      <td>1.425500</td>\n",
       "      <td>0.669138</td>\n",
       "      <td>0.559806</td>\n",
       "      <td>1.344284</td>\n",
       "      <td>0</td>\n",
       "      <td>1</td>\n",
       "    </tr>\n",
       "    <tr>\n",
       "      <th>2</th>\n",
       "      <td>100.1</td>\n",
       "      <td>4</td>\n",
       "      <td>145.710107</td>\n",
       "      <td>103.460688</td>\n",
       "      <td>1.490384</td>\n",
       "      <td>0.305823</td>\n",
       "      <td>0.463274</td>\n",
       "      <td>1.750858</td>\n",
       "      <td>0</td>\n",
       "      <td>2</td>\n",
       "    </tr>\n",
       "    <tr>\n",
       "      <th>3</th>\n",
       "      <td>100.1</td>\n",
       "      <td>4</td>\n",
       "      <td>172.360040</td>\n",
       "      <td>199.042657</td>\n",
       "      <td>1.714722</td>\n",
       "      <td>0.384820</td>\n",
       "      <td>7.247116</td>\n",
       "      <td>-4.410005</td>\n",
       "      <td>0</td>\n",
       "      <td>3</td>\n",
       "    </tr>\n",
       "    <tr>\n",
       "      <th>4</th>\n",
       "      <td>102.1</td>\n",
       "      <td>4</td>\n",
       "      <td>76.078799</td>\n",
       "      <td>97.642564</td>\n",
       "      <td>2.174351</td>\n",
       "      <td>0.088509</td>\n",
       "      <td>4.100056</td>\n",
       "      <td>-1.418567</td>\n",
       "      <td>1</td>\n",
       "      <td>0</td>\n",
       "    </tr>\n",
       "  </tbody>\n",
       "</table>\n",
       "</div>"
      ],
      "text/plain": [
       "       t  n           x           y   grad_ux   grad_uy   grad_vx   grad_vy  \\\n",
       "0  100.1  4   76.107144   95.769295  2.122038  0.110608  3.848873 -1.268491   \n",
       "1  100.1  4  138.428533  177.960260  1.425500  0.669138  0.559806  1.344284   \n",
       "2  100.1  4  145.710107  103.460688  1.490384  0.305823  0.463274  1.750858   \n",
       "3  100.1  4  172.360040  199.042657  1.714722  0.384820  7.247116 -4.410005   \n",
       "4  102.1  4   76.078799   97.642564  2.174351  0.088509  4.100056 -1.418567   \n",
       "\n",
       "   frame  particle  \n",
       "0      0         0  \n",
       "1      0         1  \n",
       "2      0         2  \n",
       "3      0         3  \n",
       "4      1         0  "
      ]
     },
     "execution_count": 5,
     "metadata": {},
     "output_type": "execute_result"
    }
   ],
   "source": [
    "#determine the first time of death\n",
    "df=pd.read_csv(filename)\n",
    "df.head()"
   ]
  },
  {
   "cell_type": "code",
   "execution_count": 6,
   "metadata": {
    "ExecuteTime": {
     "end_time": "2021-04-19T23:38:17.298379Z",
     "start_time": "2021-04-19T23:38:17.260228Z"
    },
    "hidden": true,
    "run_control": {
     "marked": true
    }
   },
   "outputs": [],
   "source": [
    "dff=df.groupby('frame').n.mean()"
   ]
  },
  {
   "cell_type": "code",
   "execution_count": 12,
   "metadata": {
    "ExecuteTime": {
     "end_time": "2021-04-19T23:39:50.398017Z",
     "start_time": "2021-04-19T23:39:50.366089Z"
    },
    "hidden": true,
    "run_control": {
     "marked": true
    }
   },
   "outputs": [],
   "source": [
    "death_frame_values=dff[dff.diff()==-2].index.values\n"
   ]
  },
  {
   "cell_type": "code",
   "execution_count": 18,
   "metadata": {
    "ExecuteTime": {
     "end_time": "2021-04-19T23:42:51.398881Z",
     "start_time": "2021-04-19T23:42:51.343369Z"
    },
    "hidden": true,
    "run_control": {
     "marked": true
    }
   },
   "outputs": [],
   "source": [
    "t_lst=[]\n",
    "for frm in death_frame_values:\n",
    "    t_lst.append(df[df.frame==frm].t.mean())"
   ]
  },
  {
   "cell_type": "code",
   "execution_count": 40,
   "metadata": {
    "ExecuteTime": {
     "end_time": "2021-04-19T23:56:01.145891Z",
     "start_time": "2021-04-19T23:56:01.131222Z"
    },
    "hidden": true,
    "run_control": {
     "marked": true
    }
   },
   "outputs": [],
   "source": [
    "inVc, outVc, inmhjdfx, outmhjdfx, dVcdt=unstack_txt(txt.copy())"
   ]
  },
  {
   "cell_type": "code",
   "execution_count": 41,
   "metadata": {
    "ExecuteTime": {
     "end_time": "2021-04-20T00:20:13.084866Z",
     "start_time": "2021-04-19T23:56:01.212130Z"
    },
    "hidden": true,
    "run_control": {
     "marked": true
    }
   },
   "outputs": [],
   "source": [
    "txt_lst=[]\n",
    "for tf in t_lst[:8]:\n",
    "    while t<tf-1:\n",
    "        one_step(inVc, outVc, inmhjdfx, outmhjdfx, dVcdt)\n",
    "        t+=dt\n",
    "    txt=stack_txt(inVc, outVc, inmhjdfx, outmhjdfx, dVcdt)\n",
    "    txt_lst.append(txt)"
   ]
  },
  {
   "cell_type": "code",
   "execution_count": 42,
   "metadata": {
    "ExecuteTime": {
     "end_time": "2021-04-20T00:20:13.996577Z",
     "start_time": "2021-04-20T00:20:13.170978Z"
    },
    "hidden": true,
    "run_control": {
     "marked": true
    }
   },
   "outputs": [
    {
     "data": {
      "text/plain": [
       "0"
      ]
     },
     "execution_count": 42,
     "metadata": {},
     "output_type": "execute_result"
    }
   ],
   "source": [
    "beep(4)"
   ]
  },
  {
   "cell_type": "code",
   "execution_count": 43,
   "metadata": {
    "ExecuteTime": {
     "end_time": "2021-04-20T01:08:20.591377Z",
     "start_time": "2021-04-20T01:08:20.575015Z"
    },
    "hidden": true,
    "run_control": {
     "marked": true
    }
   },
   "outputs": [
    {
     "data": {
      "text/plain": [
       "8"
      ]
     },
     "execution_count": 43,
     "metadata": {},
     "output_type": "execute_result"
    }
   ],
   "source": [
    "len(txt_lst)"
   ]
  },
  {
   "cell_type": "markdown",
   "metadata": {
    "heading_collapsed": true
   },
   "source": [
    "## identify an LR death event for zooming into"
   ]
  },
  {
   "cell_type": "code",
   "execution_count": 60,
   "metadata": {
    "ExecuteTime": {
     "end_time": "2021-04-20T01:13:11.264990Z",
     "start_time": "2021-04-20T01:13:11.122723Z"
    },
    "hidden": true,
    "run_control": {
     "marked": true
    }
   },
   "outputs": [
    {
     "name": "stderr",
     "output_type": "stream",
     "text": [
      "Clipping input data to the valid range for imshow with RGB data ([0..1] for floats or [0..255] for integers).\n"
     ]
    },
    {
     "name": "stdout",
     "output_type": "stream",
     "text": [
      "10\n"
     ]
    },
    {
     "data": {
      "image/png": "[encoded data removed]",
      "text/plain": [
       "<Figure size 648x648 with 1 Axes>"
      ]
     },
     "metadata": {
      "needs_background": "light"
     },
     "output_type": "display_data"
    }
   ],
   "source": [
    "#test the V_threshold value\n",
    "j=1\n",
    "q=7\n",
    "V_threshold=-50.\n",
    "level1 = V_threshold\n",
    "t=-999\n",
    "level2 = 0.\n",
    "# ic=input_fn_lst[j]\n",
    "# txt=load_buffer(ic)#input_fn)\n",
    "txt=txt_lst[q]\n",
    "inVc,outVc,inmhjdfx,outmhjdfx,dVcdt=unstack_txt(txt)\n",
    "t=t_lst[q]\n",
    "width,height=txt.shape[:2]\n",
    "\n",
    "img=inVc[...,0]\n",
    "dimgdt=dVcdt[...,0]\n",
    "# compute_all_spiral_tips= get_compute_all_spiral_tips(mode='simp',width=width,height=height)\n",
    "dict_out=compute_all_spiral_tips(t,img,dimgdt,level1,level2)#,width=width,height=height)\n",
    "print(len(list(dict_out['x'])))\n",
    "fig=show_buffer_LR(txt)\n",
    "axs=fig.get_axes()\n",
    "ax=axs[0]\n",
    "ax.scatter(dict_out['x'],dict_out['y'],s=300,c='yellow',marker='*')\n",
    "plt.show()"
   ]
  },
  {
   "cell_type": "code",
   "execution_count": 62,
   "metadata": {
    "ExecuteTime": {
     "end_time": "2021-04-20T01:14:37.274900Z",
     "start_time": "2021-04-20T01:14:37.144531Z"
    },
    "hidden": true,
    "run_control": {
     "marked": true
    }
   },
   "outputs": [],
   "source": [
    "# txt=stack_txt(inVc, outVc, inmhjdfx, outmhjdfx, dVcdt)\n",
    "\n",
    "#save texture at this time t\n",
    "save=True\n",
    "if save:\n",
    "#     txt=stack_txt(inVc,outVc,inmhjdfx,outmhjdfx,dVcdt)\n",
    "    save_img_fn=os.path.basename(ic_fn).replace('.npz',f'_t_{t:.1f}.npz')\n",
    "    save_img_folder=f\"{nb_dir}/Data/test_data/\"\n",
    "    os.chdir(save_img_folder)\n",
    "    #     img_out=txt#np.stack([img,dimgdt]).T\n",
    "    np.savez_compressed(save_img_fn,txt)"
   ]
  },
  {
   "cell_type": "markdown",
   "metadata": {
    "ExecuteTime": {
     "end_time": "2021-04-20T01:16:29.022318Z",
     "start_time": "2021-04-20T01:16:28.980925Z"
    },
    "heading_collapsed": true
   },
   "source": [
    "## advance in time until two tips annihilate.  identify the location of annihilation."
   ]
  },
  {
   "cell_type": "code",
   "execution_count": 88,
   "metadata": {
    "ExecuteTime": {
     "end_time": "2021-04-20T01:42:25.342098Z",
     "start_time": "2021-04-20T01:42:25.301547Z"
    },
    "hidden": true,
    "run_control": {
     "marked": true
    }
   },
   "outputs": [],
   "source": [
    "txt_fn='/home/timothytyree/Documents/GitHub/care/notebooks/Data/test_data/ic008.33_t_444.1.npz'\n",
    "txt=load_buffer(txt_fn).astype('float64')\n",
    "t=444.1"
   ]
  },
  {
   "cell_type": "code",
   "execution_count": 89,
   "metadata": {
    "ExecuteTime": {
     "end_time": "2021-04-20T01:42:25.973219Z",
     "start_time": "2021-04-20T01:42:25.949769Z"
    },
    "hidden": true,
    "run_control": {
     "marked": true
    }
   },
   "outputs": [],
   "source": [
    "def get_tip_locations(inVc,dVcdt,level1=-50.,level2=0.):\n",
    "    # inVc,outVc,inmhjdfx,outmhjdfx,dVcdt=unstack_txt(txt)\n",
    "    #     width,height=txt.shape[:2]\n",
    "    img=inVc[...,0]\n",
    "    dimgdt=dVcdt[...,0]\n",
    "    dict_out=compute_all_spiral_tips(t,img,dimgdt,level1,level2)#,width=width,height=height)\n",
    "    return np.array(dict_out['x']),np.array(dict_out['y'])"
   ]
  },
  {
   "cell_type": "code",
   "execution_count": 174,
   "metadata": {
    "ExecuteTime": {
     "end_time": "2021-04-20T02:37:57.439720Z",
     "start_time": "2021-04-20T02:37:57.389510Z"
    },
    "hidden": true,
    "run_control": {
     "marked": true
    }
   },
   "outputs": [
    {
     "data": {
      "text/plain": [
       "6"
      ]
     },
     "execution_count": 174,
     "metadata": {},
     "output_type": "execute_result"
    }
   ],
   "source": [
    "x_values,y_values=get_tip_locations(inVc,dVcdt,level1=-50.,level2=0.)\n",
    "n_tips=x_values.shape[0]\n",
    "n_tips_current=n_tips\n",
    "n_tips_current"
   ]
  },
  {
   "cell_type": "code",
   "execution_count": 175,
   "metadata": {
    "ExecuteTime": {
     "end_time": "2021-04-20T02:48:31.891744Z",
     "start_time": "2021-04-20T02:37:58.947644Z"
    },
    "hidden": true,
    "run_control": {
     "marked": true
    }
   },
   "outputs": [
    {
     "name": "stdout",
     "output_type": "stream",
     "text": [
      "697.9399999997692\n",
      "4\n"
     ]
    }
   ],
   "source": [
    "while n_tips>=n_tips_current:\n",
    "    txt_prev=stack_txt(inVc,outVc,inmhjdfx,outmhjdfx,dVcdt)\n",
    "    x_values_prev=x_values.copy()\n",
    "    y_values_prev=y_values.copy()\n",
    "    one_step(inVc, outVc, inmhjdfx, outmhjdfx, dVcdt)\n",
    "    t+=dt\n",
    "    x_values,y_values=get_tip_locations(inVc,dVcdt,level1=-50.,level2=0.)\n",
    "    n_tips=x_values.shape[0]\n",
    "print(t)\n",
    "print(n_tips)\n",
    "txt=stack_txt(inVc,outVc,inmhjdfx,outmhjdfx,dVcdt)"
   ]
  },
  {
   "cell_type": "code",
   "execution_count": 191,
   "metadata": {
    "ExecuteTime": {
     "end_time": "2021-04-20T02:56:08.725964Z",
     "start_time": "2021-04-20T02:56:06.509176Z"
    },
    "hidden": true,
    "run_control": {
     "marked": true
    }
   },
   "outputs": [
    {
     "name": "stdout",
     "output_type": "stream",
     "text": [
      "6 tips are present at time t=696.99.\n"
     ]
    },
    {
     "data": {
      "image/png": "[encoded data removed]",
      "text/plain": [
       "<Figure size 432x432 with 1 Axes>"
      ]
     },
     "metadata": {},
     "output_type": "display_data"
    }
   ],
   "source": [
    "beep(10)\n",
    "inVc,outVc,inmhjdfx,outmhjdfx,dVcdt=unstack_txt(txt_prev)\n",
    "img=inVc[...,0]\n",
    "dimgdt=dVcdt[...,0]\n",
    "# compute_all_spiral_tips= get_compute_all_spiral_tips(mode='simp',width=width,height=height)\n",
    "dict_out=compute_all_spiral_tips(t,img,dimgdt,level1,level2)#,width=width,height=height)\n",
    "x_values=np.array(dict_out['x'])\n",
    "y_values=np.array(dict_out['y'])\n",
    "c_values=np.array(dict_out['x'])\n",
    "print(f\"{dict_out['n']} tips are present at time t={int(t)-dt}.\")\n",
    "fig = ShowDomain(img,dimgdt,x_values,y_values,c_values,V_threshold,t,inch=6,fontsize=16,vmin_img=-85.,vmax_img=35.,\n",
    "                 area=25,frameno=1,save_fn=None,save_folder=None,save=False,annotating=False,axis=[0,200,0,200])\n",
    "# fig = ShowDomain(img,dimgdt,np.array([xyavg[0]]),np.array([xyavg[1]]),np.array([0]),V_threshold,t,inch=6,fontsize=16,vmin_img=-85.,vmax_img=35.,\n",
    "#                  area=25,frameno=1,save_fn=None,save_folder=None,save=False,annotating=False,axis=[0,200,0,200])\n",
    "# ax=fig.get_axes()[0]\n",
    "# ax.scatter([xyavg[0]],[xyavg[1]],s=1000,c='yellow',marker='*')\n",
    "# plt.show(fig)"
   ]
  },
  {
   "cell_type": "code",
   "execution_count": 179,
   "metadata": {
    "ExecuteTime": {
     "end_time": "2021-04-20T02:52:04.668624Z",
     "start_time": "2021-04-20T02:52:02.497543Z"
    },
    "hidden": true,
    "run_control": {
     "marked": true
    }
   },
   "outputs": [
    {
     "name": "stdout",
     "output_type": "stream",
     "text": [
      "4 tips are present at time t=697.\n"
     ]
    },
    {
     "data": {
      "image/png": "[encoded data removed]",
      "text/plain": [
       "<Figure size 432x432 with 1 Axes>"
      ]
     },
     "metadata": {},
     "output_type": "display_data"
    }
   ],
   "source": [
    "beep(10)\n",
    "inVc,outVc,inmhjdfx,outmhjdfx,dVcdt=unstack_txt(txt)\n",
    "img=inVc[...,0]\n",
    "dimgdt=dVcdt[...,0]\n",
    "# compute_all_spiral_tips= get_compute_all_spiral_tips(mode='simp',width=width,height=height)\n",
    "dict_out=compute_all_spiral_tips(t,img,dimgdt,level1,level2)#,width=width,height=height)\n",
    "x_values=np.array(dict_out['x'])\n",
    "y_values=np.array(dict_out['y'])\n",
    "c_values=np.array(dict_out['x'])\n",
    "print(f\"{dict_out['n']} tips are present at time t={int(t)}.\")\n",
    "fig = ShowDomain(img,dimgdt,x_values,y_values,c_values,V_threshold,t,inch=6,fontsize=16,vmin_img=-85.,vmax_img=35.,\n",
    "                 area=25,frameno=1,save_fn=None,save_folder=None,save=False,annotating=False,axis=[0,200,0,200])\n",
    "# fig = ShowDomain(img,dimgdt,np.array([xyavg[0]]),np.array([xyavg[1]]),np.array([0]),V_threshold,t,inch=6,fontsize=16,vmin_img=-85.,vmax_img=35.,\n",
    "#                  area=25,frameno=1,save_fn=None,save_folder=None,save=False,annotating=False,axis=[0,200,0,200])\n",
    "# ax=fig.get_axes()[0]\n",
    "# ax.scatter([xyavg[0]],[xyavg[1]],s=1000,c='yellow',marker='*')\n",
    "# plt.show(fig)"
   ]
  },
  {
   "cell_type": "code",
   "execution_count": 181,
   "metadata": {
    "ExecuteTime": {
     "end_time": "2021-04-20T02:52:38.411438Z",
     "start_time": "2021-04-20T02:52:38.395759Z"
    },
    "hidden": true,
    "run_control": {
     "marked": true
    }
   },
   "outputs": [
    {
     "name": "stdout",
     "output_type": "stream",
     "text": [
      "[(55.72387513287924, 35.35097954340235), (92.97183554041425, 160.15211296795283), (101.70677120695012, 57.57169828133864), (126.0918613651391, 142.53495599204214), (140.96357241847184, 161.7024554609346), (141.0044240236116, 161.70930304941754)]\n",
      "[(35.35097954340239, 55.723875132878995), (57.571698281338065, 101.7067712069501), (142.5349559920376, 126.09186136513908), (160.15211296790588, 92.97183554040545), (161.70245546093162, 140.96357241844856), (161.7093030494175, 141.0044240236156)]\n"
     ]
    }
   ],
   "source": [
    "print(sorted(zip(x_values_prev,y_values_prev)))\n",
    "print(sorted(zip(x_values,y_values)))"
   ]
  },
  {
   "cell_type": "code",
   "execution_count": 196,
   "metadata": {
    "ExecuteTime": {
     "end_time": "2021-04-20T02:57:40.448186Z",
     "start_time": "2021-04-20T02:57:40.338586Z"
    },
    "hidden": true,
    "run_control": {
     "marked": true
    }
   },
   "outputs": [],
   "source": [
    "dist=get_distance_L2_pbc(width=width, height=height)"
   ]
  },
  {
   "cell_type": "code",
   "execution_count": 182,
   "metadata": {
    "ExecuteTime": {
     "end_time": "2021-04-20T02:52:39.433642Z",
     "start_time": "2021-04-20T02:52:39.418269Z"
    },
    "hidden": true,
    "run_control": {
     "marked": true
    }
   },
   "outputs": [
    {
     "name": "stdout",
     "output_type": "stream",
     "text": [
      "[ 55.72387513  92.97183554 101.70677121 126.09186137 140.96357242\n",
      " 141.00442402]\n",
      "[ 35.35097954  57.57169828 142.53495599 160.15211297 161.70245546\n",
      " 161.70930305]\n"
     ]
    }
   ],
   "source": [
    "print(x_values_prev)\n",
    "print(x_values)"
   ]
  },
  {
   "cell_type": "code",
   "execution_count": 201,
   "metadata": {
    "ExecuteTime": {
     "end_time": "2021-04-20T03:04:43.648616Z",
     "start_time": "2021-04-20T03:04:43.630794Z"
    },
    "hidden": true,
    "run_control": {
     "marked": true
    }
   },
   "outputs": [],
   "source": [
    "imin=np.argmin(np.diff(x_values_prev))\n",
    "xy1=np.array(sorted(zip(x_values_prev,y_values_prev))[imin])\n",
    "xy2=np.array(sorted(zip(x_values_prev,y_values_prev))[imin+1])\n",
    "#compute distance between these two spiral tips before death\n",
    "r=dist(xy1,xy2)\n",
    "#compute average location of these two spiral tips before death\n",
    "xyavg=(xy1+xy2)/2.\n"
   ]
  },
  {
   "cell_type": "code",
   "execution_count": 188,
   "metadata": {
    "ExecuteTime": {
     "end_time": "2021-04-20T02:53:32.258453Z",
     "start_time": "2021-04-20T02:53:32.238795Z"
    },
    "hidden": true,
    "run_control": {
     "marked": true
    }
   },
   "outputs": [],
   "source": [
    "# #view the death location and verify that it looks reasonable\n",
    "# # print(len(list(dict_out['x'])))\n",
    "# txt=stack_txt(inVc,outVc,inmhjdfx,outmhjdfx,dVcdt)\n",
    "# fig=show_buffer_LR(txt)\n",
    "# axs=fig.get_axes()\n",
    "# ax=axs[0]\n",
    "# ax.scatter(dict_out['x'],dict_out['y'],s=300,c='yellow',marker='*')\n",
    "# ax.scatter([xyavg[0]],[xyavg[1]],s=500,c='blue',marker='*')\n",
    "# plt.show()"
   ]
  },
  {
   "cell_type": "code",
   "execution_count": 189,
   "metadata": {
    "ExecuteTime": {
     "end_time": "2021-04-20T02:53:58.882540Z",
     "start_time": "2021-04-20T02:53:58.721177Z"
    },
    "hidden": true,
    "run_control": {
     "marked": true
    }
   },
   "outputs": [
    {
     "name": "stdout",
     "output_type": "stream",
     "text": [
      "/home/timothytyree/Documents/GitHub/care/notebooks/Data/test_data/ic008.33_t_697.9.npz\n"
     ]
    }
   ],
   "source": [
    "#Save the validated death event\n",
    "# txt=stack_txt(inVc, outVc, inmhjdfx, outmhjdfx, dVcdt)\n",
    "\n",
    "#save texture at this time t\n",
    "save=True\n",
    "if save:\n",
    "#     txt=stack_txt(inVc,outVc,inmhjdfx,outmhjdfx,dVcdt)\n",
    "    save_img_fn=os.path.basename(ic_fn).replace('.npz',f'_t_{t:.1f}.npz')\n",
    "    save_img_folder=f\"{nb_dir}/Data/test_data/\"\n",
    "    os.chdir(save_img_folder)\n",
    "    #     img_out=txt#np.stack([img,dimgdt]).T\n",
    "    np.savez_compressed(save_img_fn,txt_prev)\n",
    "print(os.path.abspath(save_img_fn))"
   ]
  },
  {
   "cell_type": "markdown",
   "metadata": {
    "heading_collapsed": true
   },
   "source": [
    "## measure minimum distance versus dt with high spatial resolution"
   ]
  },
  {
   "cell_type": "code",
   "execution_count": 2,
   "metadata": {
    "ExecuteTime": {
     "end_time": "2021-05-01T02:21:47.865542Z",
     "start_time": "2021-05-01T02:21:47.803823Z"
    },
    "hidden": true,
    "run_control": {
     "marked": true
    }
   },
   "outputs": [],
   "source": [
    "# def get_tip_locations(inVc,dVcdt,level1=-50.,level2=0.):\n",
    "#     # inVc,outVc,inmhjdfx,outmhjdfx,dVcdt=unstack_txt(txt)\n",
    "#     #     width,height=txt.shape[:2]\n",
    "#     img=inVc[...,0]\n",
    "#     dimgdt=dVcdt[...,0]\n",
    "#     dict_out=compute_all_spiral_tips(t,img,dimgdt,level1,level2)#,width=width,height=height)\n",
    "#     return np.array(dict_out['x']),np.array(dict_out['y'])\n",
    "\n",
    "# def zoomin_txt(txt_in):\n",
    "#     width,height,chnlno=txt_in.shape[:3]\n",
    "#     out=np.zeros((2*width,2*height,chnlno))\n",
    "#     #linearly interpolate\n",
    "#     out[::2,::2,:]=txt_in.copy()\n",
    "#     out[1:-2:2]=(out[0:-2:2]+out[2:-1:2])/2\n",
    "#     out[:,1:-2:2]=(out[:,0:-2:2]+out[:,2:-1:2])/2\n",
    "#     #final row/column for pbc\n",
    "#     out[-1,:]=(out[-2,:]+out[0,:])/2\n",
    "#     out[:,-1]=(out[:,-2]+out[:,0])/2\n",
    "#     return out"
   ]
  },
  {
   "cell_type": "code",
   "execution_count": 3,
   "metadata": {
    "ExecuteTime": {
     "end_time": "2021-05-01T02:21:48.142870Z",
     "start_time": "2021-05-01T02:21:48.096537Z"
    },
    "hidden": true,
    "run_control": {
     "marked": true
    }
   },
   "outputs": [],
   "source": [
    "# txt_fn=f'{nb_dir}/Data/test_data/ic008.33_t_697.9.npz'\n",
    "# txt_prev=load_buffer(txt_fn)\n",
    "# t=697.92"
   ]
  },
  {
   "cell_type": "code",
   "execution_count": null,
   "metadata": {
    "ExecuteTime": {
     "end_time": "2021-05-01T04:24:54.142099Z",
     "start_time": "2021-05-01T04:24:53.005Z"
    },
    "hidden": true
   },
   "outputs": [],
   "source": [
    "# txt_fn=f'{nb_dir}/Data/test_data/ic008.33_t_750.0.npz'\n",
    "# t=750.\n",
    "txt_fn=f'{nb_dir}/Data/test_data/ic008.33_t_900.0.npz'\n",
    "t=900.\n",
    "\n",
    "txt_prev=load_buffer(txt_fn)\n",
    "width,height=txt_prev.shape[:2]\n",
    "width,height"
   ]
  },
  {
   "cell_type": "code",
   "execution_count": 2,
   "metadata": {
    "ExecuteTime": {
     "end_time": "2021-05-01T04:24:55.023050Z",
     "start_time": "2021-05-01T04:24:54.957505Z"
    },
    "hidden": true
   },
   "outputs": [
    {
     "ename": "NameError",
     "evalue": "name 'txt_prev' is not defined",
     "output_type": "error",
     "traceback": [
      "\u001b[0;31m---------------------------------------------------------------------------\u001b[0m",
      "\u001b[0;31mNameError\u001b[0m                                 Traceback (most recent call last)",
      "\u001b[0;32m<ipython-input-2-76b16e3277a1>\u001b[0m in \u001b[0;36m<module>\u001b[0;34m\u001b[0m\n\u001b[0;32m----> 1\u001b[0;31m \u001b[0minVc\u001b[0m\u001b[0;34m,\u001b[0m\u001b[0moutVc\u001b[0m\u001b[0;34m,\u001b[0m\u001b[0minmhjdfx\u001b[0m\u001b[0;34m,\u001b[0m\u001b[0moutmhjdfx\u001b[0m\u001b[0;34m,\u001b[0m\u001b[0mdVcdt\u001b[0m\u001b[0;34m=\u001b[0m\u001b[0munstack_txt\u001b[0m\u001b[0;34m(\u001b[0m\u001b[0mtxt_prev\u001b[0m\u001b[0;34m)\u001b[0m\u001b[0;34m\u001b[0m\u001b[0;34m\u001b[0m\u001b[0m\n\u001b[0m\u001b[1;32m      2\u001b[0m \u001b[0mimg\u001b[0m\u001b[0;34m=\u001b[0m\u001b[0minVc\u001b[0m\u001b[0;34m[\u001b[0m\u001b[0;34m...\u001b[0m\u001b[0;34m,\u001b[0m\u001b[0;36m0\u001b[0m\u001b[0;34m]\u001b[0m\u001b[0;34m\u001b[0m\u001b[0;34m\u001b[0m\u001b[0m\n\u001b[1;32m      3\u001b[0m \u001b[0mdimgdt\u001b[0m\u001b[0;34m=\u001b[0m\u001b[0mdVcdt\u001b[0m\u001b[0;34m[\u001b[0m\u001b[0;34m...\u001b[0m\u001b[0;34m,\u001b[0m\u001b[0;36m0\u001b[0m\u001b[0;34m]\u001b[0m\u001b[0;34m\u001b[0m\u001b[0;34m\u001b[0m\u001b[0m\n\u001b[1;32m      4\u001b[0m \u001b[0mV_threshold\u001b[0m\u001b[0;34m=\u001b[0m\u001b[0;34m-\u001b[0m\u001b[0;36m50\u001b[0m\u001b[0;34m\u001b[0m\u001b[0;34m\u001b[0m\u001b[0m\n\u001b[1;32m      5\u001b[0m \u001b[0mcompute_all_spiral_tips\u001b[0m\u001b[0;34m=\u001b[0m \u001b[0mget_compute_all_spiral_tips\u001b[0m\u001b[0;34m(\u001b[0m\u001b[0mmode\u001b[0m\u001b[0;34m=\u001b[0m\u001b[0;34m'simp'\u001b[0m\u001b[0;34m,\u001b[0m\u001b[0mwidth\u001b[0m\u001b[0;34m=\u001b[0m\u001b[0mwidth\u001b[0m\u001b[0;34m,\u001b[0m\u001b[0mheight\u001b[0m\u001b[0;34m=\u001b[0m\u001b[0mheight\u001b[0m\u001b[0;34m)\u001b[0m\u001b[0;34m\u001b[0m\u001b[0;34m\u001b[0m\u001b[0m\n",
      "\u001b[0;31mNameError\u001b[0m: name 'txt_prev' is not defined"
     ]
    }
   ],
   "source": [
    "inVc,outVc,inmhjdfx,outmhjdfx,dVcdt=unstack_txt(txt_prev)\n",
    "img=inVc[...,0]\n",
    "dimgdt=dVcdt[...,0]\n",
    "V_threshold=-50\n",
    "compute_all_spiral_tips= get_compute_all_spiral_tips(mode='simp',width=width,height=height)\n",
    "dict_out=compute_all_spiral_tips(t,img,dimgdt,level1=V_threshold,level2=0.)#,width=width,height=height)\n",
    "x_values=np.array(dict_out['x'])\n",
    "y_values=np.array(dict_out['y'])\n",
    "c_values=np.array(dict_out['x'])\n",
    "print(f\"{dict_out['n']} tips are present at time t={int(t)}.\")\n",
    "fig = ShowDomain(img,dimgdt,x_values,y_values,c_values,V_threshold,t,inch=6,fontsize=16,vmin_img=-85.,vmax_img=35.,\n",
    "                 area=25,frameno=1,save_fn=None,save_folder=None,save=False,annotating=False,axis=[0,200,0,200])\n",
    "# fig = ShowDomain(img,dimgdt,np.array([xyavg[0]]),np.array([xyavg[1]]),np.array([0]),V_threshold,t,inch=6,fontsize=16,vmin_img=-85.,vmax_img=35.,\n",
    "#                  area=25,frameno=1,save_fn=None,save_folder=None,save=False,annotating=False,axis=[0,200,0,200])\n",
    "# ax=fig.get_axes()[0]\n",
    "# ax.scatter([xyavg[0]],[xyavg[1]],s=1000,c='yellow',marker='*')\n",
    "# plt.show(fig)"
   ]
  },
  {
   "cell_type": "code",
   "execution_count": 3,
   "metadata": {
    "ExecuteTime": {
     "end_time": "2021-05-01T04:25:00.657230Z",
     "start_time": "2021-05-01T04:25:00.593643Z"
    },
    "hidden": true,
    "scrolled": true
   },
   "outputs": [
    {
     "ename": "NameError",
     "evalue": "name 't' is not defined",
     "output_type": "error",
     "traceback": [
      "\u001b[0;31m---------------------------------------------------------------------------\u001b[0m",
      "\u001b[0;31mNameError\u001b[0m                                 Traceback (most recent call last)",
      "\u001b[0;32m<ipython-input-3-194b3c32876e>\u001b[0m in \u001b[0;36m<module>\u001b[0;34m\u001b[0m\n\u001b[1;32m      1\u001b[0m \u001b[0;31m#Time step until there are no more tips... saving every 50 and keeping the most recent\u001b[0m\u001b[0;34m\u001b[0m\u001b[0;34m\u001b[0m\u001b[0;34m\u001b[0m\u001b[0m\n\u001b[0;32m----> 2\u001b[0;31m \u001b[0mt_save\u001b[0m\u001b[0;34m=\u001b[0m\u001b[0mt\u001b[0m\u001b[0;34m+\u001b[0m\u001b[0;36m50\u001b[0m\u001b[0;34m\u001b[0m\u001b[0;34m\u001b[0m\u001b[0m\n\u001b[0m\u001b[1;32m      3\u001b[0m \u001b[0mt_prev\u001b[0m\u001b[0;34m=\u001b[0m\u001b[0mt\u001b[0m\u001b[0;34m\u001b[0m\u001b[0;34m\u001b[0m\u001b[0m\n\u001b[1;32m      4\u001b[0m \u001b[0;31m# txt_prev=stack_txt(inVc,outVc,inmhjdfx,outmhjdfx,dVcdt)\u001b[0m\u001b[0;34m\u001b[0m\u001b[0;34m\u001b[0m\u001b[0;34m\u001b[0m\u001b[0m\n\u001b[1;32m      5\u001b[0m \u001b[0minVc\u001b[0m\u001b[0;34m,\u001b[0m\u001b[0moutVc\u001b[0m\u001b[0;34m,\u001b[0m\u001b[0minmhjdfx\u001b[0m\u001b[0;34m,\u001b[0m\u001b[0moutmhjdfx\u001b[0m\u001b[0;34m,\u001b[0m\u001b[0mdVcdt\u001b[0m\u001b[0;34m=\u001b[0m\u001b[0munstack_txt\u001b[0m\u001b[0;34m(\u001b[0m\u001b[0mtxt_prev\u001b[0m\u001b[0;34m)\u001b[0m\u001b[0;34m\u001b[0m\u001b[0;34m\u001b[0m\u001b[0m\n",
      "\u001b[0;31mNameError\u001b[0m: name 't' is not defined"
     ]
    }
   ],
   "source": [
    "#Time step until there are no more tips... saving every 50 and keeping the most recent \n",
    "t_save=t+50\n",
    "t_prev=t\n",
    "# txt_prev=stack_txt(inVc,outVc,inmhjdfx,outmhjdfx,dVcdt)\n",
    "inVc,outVc,inmhjdfx,outmhjdfx,dVcdt=unstack_txt(txt_prev)\n",
    "x_values,y_values=get_tip_locations(inVc,dVcdt,level1=-50.,level2=0.)#slow\n",
    "n_tips=x_values.shape[0]\n",
    "while n_tips>0:\n",
    "    one_step(inVc, outVc, inmhjdfx, outmhjdfx, dVcdt)\n",
    "    t+=dt\n",
    "    if t>t_save:\n",
    "        t_save+=30.\n",
    "        t_prev=t\n",
    "        txt_prev=stack_txt(inVc,outVc,inmhjdfx,outmhjdfx,dVcdt)#slow\n",
    "        x_values,y_values=get_tip_locations(inVc,dVcdt,level1=-50.,level2=0.)\n",
    "        n_tips=x_values.shape[0]\n",
    "print(f\"termination event observed before time t={t:.3f}.\")\n",
    "beep(10)"
   ]
  },
  {
   "cell_type": "code",
   "execution_count": null,
   "metadata": {
    "ExecuteTime": {
     "end_time": "2021-05-01T02:19:51.958880Z",
     "start_time": "2021-05-01T02:19:51.758Z"
    },
    "hidden": true,
    "run_control": {
     "marked": true
    }
   },
   "outputs": [],
   "source": [
    "inVc,outVc,inmhjdfx,outmhjdfx,dVcdt=unstack_txt(txt_prev)\n",
    "img=inVc[...,0]\n",
    "dimgdt=dVcdt[...,0]\n",
    "V_threshold=-50\n",
    "# compute_all_spiral_tips= get_compute_all_spiral_tips(mode='simp',width=width,height=height)\n",
    "dict_out=compute_all_spiral_tips(t,img,dimgdt,level1=V_threshold,level2=0.)#,width=width,height=height)\n",
    "x_values=np.array(dict_out['x'])\n",
    "y_values=np.array(dict_out['y'])\n",
    "c_values=np.array(dict_out['x'])\n",
    "print(f\"{dict_out['n']} tips are present at time t={int(t)}.\")\n",
    "fig = ShowDomain(img,dimgdt,x_values,y_values,c_values,V_threshold,t,inch=6,fontsize=16,vmin_img=-85.,vmax_img=35.,\n",
    "                 area=25,frameno=1,save_fn=None,save_folder=None,save=False,annotating=False,axis=[0,200,0,200])\n",
    "# fig = ShowDomain(img,dimgdt,np.array([xyavg[0]]),np.array([xyavg[1]]),np.array([0]),V_threshold,t,inch=6,fontsize=16,vmin_img=-85.,vmax_img=35.,\n",
    "#                  area=25,frameno=1,save_fn=None,save_folder=None,save=False,annotating=False,axis=[0,200,0,200])\n",
    "# ax=fig.get_axes()[0]\n",
    "# ax.scatter([xyavg[0]],[xyavg[1]],s=1000,c='yellow',marker='*')\n",
    "# plt.show(fig)"
   ]
  },
  {
   "cell_type": "code",
   "execution_count": 7,
   "metadata": {
    "ExecuteTime": {
     "end_time": "2021-04-20T17:59:49.821496Z",
     "start_time": "2021-04-20T17:59:49.802215Z"
    },
    "hidden": true,
    "run_control": {
     "marked": true
    }
   },
   "outputs": [],
   "source": [
    "# x_values,y_values=get_tip_locations(inVc,dVcdt,level1=-50.,level2=0.)\n",
    "# n_tips=x_values.shape[0]\n",
    "# n_tips_current=n_tips\n",
    "# n_tips_current"
   ]
  },
  {
   "cell_type": "code",
   "execution_count": 8,
   "metadata": {
    "ExecuteTime": {
     "end_time": "2021-04-20T17:59:50.965242Z",
     "start_time": "2021-04-20T17:59:50.929518Z"
    },
    "hidden": true,
    "run_control": {
     "marked": true
    }
   },
   "outputs": [],
   "source": [
    "# 0.025*r*10**3 #min distance in millimeters"
   ]
  },
  {
   "cell_type": "code",
   "execution_count": 9,
   "metadata": {
    "ExecuteTime": {
     "end_time": "2021-04-20T20:43:10.546190Z",
     "start_time": "2021-04-20T18:00:21.475229Z"
    },
    "hidden": true,
    "run_control": {
     "marked": true
    }
   },
   "outputs": [
    {
     "name": "stdout",
     "output_type": "stream",
     "text": [
      "time of death was 697.930000 ms when dt=0.01 milliseconds.\n",
      "time of death was 697.922000 ms when dt=0.001 milliseconds.\n"
     ]
    },
    {
     "ename": "KeyboardInterrupt",
     "evalue": "",
     "output_type": "error",
     "traceback": [
      "\u001b[0;31m------------------------------------------------------------\u001b[0m",
      "\u001b[0;31mKeyboardInterrupt\u001b[0m          Traceback (most recent call last)",
      "\u001b[0;32m<ipython-input-9-7c6da5610ba5>\u001b[0m in \u001b[0;36m<module>\u001b[0;34m\u001b[0m\n\u001b[1;32m     31\u001b[0m         \u001b[0mx_values_prev\u001b[0m\u001b[0;34m=\u001b[0m\u001b[0mx_values\u001b[0m\u001b[0;34m.\u001b[0m\u001b[0mcopy\u001b[0m\u001b[0;34m(\u001b[0m\u001b[0;34m)\u001b[0m\u001b[0;34m\u001b[0m\u001b[0;34m\u001b[0m\u001b[0m\n\u001b[1;32m     32\u001b[0m         \u001b[0my_values_prev\u001b[0m\u001b[0;34m=\u001b[0m\u001b[0my_values\u001b[0m\u001b[0;34m.\u001b[0m\u001b[0mcopy\u001b[0m\u001b[0;34m(\u001b[0m\u001b[0;34m)\u001b[0m\u001b[0;34m\u001b[0m\u001b[0;34m\u001b[0m\u001b[0m\n\u001b[0;32m---> 33\u001b[0;31m         \u001b[0mone_step\u001b[0m\u001b[0;34m(\u001b[0m\u001b[0minVc\u001b[0m\u001b[0;34m,\u001b[0m \u001b[0moutVc\u001b[0m\u001b[0;34m,\u001b[0m \u001b[0minmhjdfx\u001b[0m\u001b[0;34m,\u001b[0m \u001b[0moutmhjdfx\u001b[0m\u001b[0;34m,\u001b[0m \u001b[0mdVcdt\u001b[0m\u001b[0;34m)\u001b[0m\u001b[0;34m\u001b[0m\u001b[0;34m\u001b[0m\u001b[0m\n\u001b[0m\u001b[1;32m     34\u001b[0m         \u001b[0mt\u001b[0m\u001b[0;34m+=\u001b[0m\u001b[0mdt\u001b[0m\u001b[0;34m\u001b[0m\u001b[0;34m\u001b[0m\u001b[0m\n\u001b[1;32m     35\u001b[0m         \u001b[0mx_values\u001b[0m\u001b[0;34m,\u001b[0m\u001b[0my_values\u001b[0m\u001b[0;34m=\u001b[0m\u001b[0mget_tip_locations\u001b[0m\u001b[0;34m(\u001b[0m\u001b[0minVc\u001b[0m\u001b[0;34m,\u001b[0m\u001b[0mdVcdt\u001b[0m\u001b[0;34m,\u001b[0m\u001b[0mlevel1\u001b[0m\u001b[0;34m=\u001b[0m\u001b[0;34m-\u001b[0m\u001b[0;36m50.\u001b[0m\u001b[0;34m,\u001b[0m\u001b[0mlevel2\u001b[0m\u001b[0;34m=\u001b[0m\u001b[0;36m0.\u001b[0m\u001b[0;34m)\u001b[0m\u001b[0;34m\u001b[0m\u001b[0;34m\u001b[0m\u001b[0m\n",
      "\u001b[0;31mKeyboardInterrupt\u001b[0m: "
     ]
    }
   ],
   "source": [
    "dt_lst=[0.01,0.001]#,0.0001]\n",
    "r_lst=[]\n",
    "ds=5.\n",
    "for dt in dt_lst:\n",
    "    # load txt_prev and init t\n",
    "    txt_prev=load_buffer(txt_fn)\n",
    "    for ___ in range(5):\n",
    "        txt_prev=zoomin_txt(txt_prev)\n",
    "    t=697.92\n",
    "    inVc,outVc,inmhjdfx,outmhjdfx,dVcdt=unstack_txt(txt_prev.copy())\n",
    "    width,height=txt_prev.shape[:2]\n",
    "    compute_all_spiral_tips=get_compute_all_spiral_tips(width, height, mode='simp')\n",
    "    dist=get_distance_L2_pbc(width=width, height=height)\n",
    "    x_values,y_values=get_tip_locations(inVc,dVcdt,level1=-50.,level2=0.)\n",
    "    n_tips=x_values.shape[0]\n",
    "    n_tips_current=n_tips\n",
    "\n",
    "    # get_one_step at this dt\n",
    "    __, arr39, one_step = get_one_step_explicit_synchronous_splitting(\n",
    "        nb_dir,dt=dt,width=width,height=height,ds=ds,diffCoef=0.001,Cm=1.0)\n",
    "    dsdpixel=ds/width\n",
    "    # forward integrate until n_tips decreases\n",
    "    while n_tips>=n_tips_current:\n",
    "        txt_prev=stack_txt(inVc,outVc,inmhjdfx,outmhjdfx,dVcdt)\n",
    "        x_values_prev=x_values.copy()\n",
    "        y_values_prev=y_values.copy()\n",
    "        one_step(inVc, outVc, inmhjdfx, outmhjdfx, dVcdt)\n",
    "        t+=dt\n",
    "        x_values,y_values=get_tip_locations(inVc,dVcdt,level1=-50.,level2=0.)\n",
    "        n_tips=x_values.shape[0]\n",
    "    print(f\"time of death was {t:.6f} ms when dt={dt} milliseconds.\")\n",
    "\n",
    "    # record most recent closest distance\n",
    "    imin=np.argmin(np.diff(x_values_prev))\n",
    "    xy1=np.array(sorted(zip(x_values_prev,y_values_prev))[imin])\n",
    "    xy2=np.array(sorted(zip(x_values_prev,y_values_prev))[imin+1])\n",
    "    #compute distance between these two spiral tips before death\n",
    "    r=dist(xy1,xy2)\n",
    "    r_lst.append(r*dsdpixel*10**3) # mm\n",
    "for r,dt in zip(r_lst,dt_lst):\n",
    "    print(f\"The minimum distance was {r} millimeters when dt={dt} milliseconds.\")\n",
    "print(f\"\\nthe space between two pixels was {dsdpixel*10**3} millimeters.\")"
   ]
  },
  {
   "cell_type": "code",
   "execution_count": null,
   "metadata": {
    "ExecuteTime": {
     "end_time": "2021-04-20T20:43:10.552182Z",
     "start_time": "2021-04-20T18:00:32.681Z"
    },
    "hidden": true,
    "run_control": {
     "marked": true
    }
   },
   "outputs": [],
   "source": [
    "beep(20)"
   ]
  },
  {
   "cell_type": "code",
   "execution_count": null,
   "metadata": {
    "hidden": true,
    "run_control": {
     "marked": true
    }
   },
   "outputs": [],
   "source": [
    "#is it necessary to shrink down the spatial resolution, ds/width? ...yes\n",
    "#does min range decrease when dsdpixel is halved? ...yes"
   ]
  },
  {
   "cell_type": "markdown",
   "metadata": {
    "ExecuteTime": {
     "end_time": "2021-04-20T03:28:51.281155Z",
     "start_time": "2021-04-20T03:28:51.246319Z"
    },
    "hidden": true
   },
   "source": [
    "__Results__\n",
    "- at original spatial resolution, this min distance was ~1.03 mm for dt=0.0001.\n",
    "- at 4X finer spatial resolution, this min distance was ~58 $\\mu$m for dt=0.0001.\n",
    "- at 32X finer spatial resolution, this min distance was ~?? $\\mu$m for dt=0.0001."
   ]
  },
  {
   "cell_type": "code",
   "execution_count": null,
   "metadata": {
    "hidden": true,
    "run_control": {
     "marked": true
    }
   },
   "outputs": [],
   "source": []
  },
  {
   "cell_type": "markdown",
   "metadata": {
    "heading_collapsed": true
   },
   "source": [
    "# Does arclength go to zero?"
   ]
  },
  {
   "cell_type": "markdown",
   "metadata": {},
   "source": [
    "# TODO: measure the activation front distance between sister spiral tips versus time, zooming into the final death event temporally and spatially"
   ]
  },
  {
   "cell_type": "code",
   "execution_count": 7,
   "metadata": {
    "ExecuteTime": {
     "end_time": "2021-05-02T20:45:50.489771Z",
     "start_time": "2021-05-02T20:45:50.437702Z"
    }
   },
   "outputs": [],
   "source": [
    "# #DONE(prerequisite): define method for ParticlePBC for updating position and distance_l2_pbc to the new, zoomed coordinates\n",
    "# #TODO: test ^that\n",
    "# #TOOD: dev the following\n",
    "# def zoom_system(txt,pdict):\n",
    "#     txt=zoomin_txt(txt)\n",
    "#     pdict=pdict.zoom_to_double()\n",
    "#     return txt,pdict\n",
    "    \n",
    "# def compute_last_sigma_max(pdict,ds=5.):\n",
    "#     pid_lst=pdict.get_alive_particles()\n",
    "#     last_particle=pdict[pid_lst[0]]\n",
    "#     scale=ds/last_particle.width #cm/pixel\n",
    "#     sigma_max=scale*last_particle.lesser_arclen_lst[-1]\n",
    "#     return sigma_max\n",
    "\n",
    "\n",
    "# def find_stopping_point(dt,pdict,txt_prev,t_prev,save_every_n_frames=1):\n",
    "#     width,height=txt_prev.shape[:2]\n",
    "#     # get_one_step at this dt,ds\n",
    "#     comp_dict_topo_simple=get_comp_dict_topo_simple(width=width,height=height)\n",
    "#     __, __, one_step = get_one_step_explicit_synchronous_splitting(nb_dir,\n",
    "#                                                                    dt=dt,width=width,height=height,\n",
    "#                                                                    ds=5.,diffCoef=0.001,Cm=1.0)\n",
    "#     #reset at last observed time of spiral tip\n",
    "#     inVc,outVc,inmhjdfx,outmhjdfx,dVcdt=unstack_txt(txt_prev)\n",
    "#     t=t_prev\n",
    "#     #compute nonlocal spiral tip observations\n",
    "#     img=inVc[...,0];dimgdt=dVcdt[...,0]\n",
    "#     dict_topo=comp_dict_topo_simple(img,dimgdt,t)\n",
    "#     ntips=len(dict_topo['x'])\n",
    "\n",
    "#     # track tips between frames using ParticleSet while n_tips>0\n",
    "#     while ntips>0:\n",
    "#         # copy current texture\n",
    "#         txt=stack_txt(inVc,outVc,inmhjdfx,outmhjdfx,dVcdt)\n",
    "#         txt_prev=txt.copy()\n",
    "#         t_prev=t\n",
    "\n",
    "#         # one_step forward\n",
    "#         for step in range(save_every_n_frames):\n",
    "#             one_step(inVc, outVc, inmhjdfx, outmhjdfx, dVcdt)\n",
    "#             t+=dt\n",
    "\n",
    "#         #compute nonlocal spiral tip observations\n",
    "#         img=inVc[...,0];dimgdt=dVcdt[...,0]\n",
    "#         dict_topo=comp_dict_topo_simple(img,dimgdt,t)\n",
    "#         ntips=len(dict_topo['x'])\n",
    "#         if ntips>0:\n",
    "#             #record nonlocal spiral tip observations\n",
    "#             pdict.merge(dict_topo)\n",
    "#         else:\n",
    "#             print(f'termination event found at time t={t}, where dt={dt} and L={img.shape[0]}...')\n",
    "\n",
    "#     min_sigma_max=compute_last_sigma_max(pdict,ds=5.)\n",
    "#     print(f\"\\t min_sigma_max={min_sigma_max}\")\n",
    "#     return txt_prev,t_prev,min_sigma_max\n",
    "    "
   ]
  },
  {
   "cell_type": "code",
   "execution_count": 6,
   "metadata": {
    "ExecuteTime": {
     "end_time": "2021-05-05T01:16:32.392638Z",
     "start_time": "2021-05-05T01:16:24.659410Z"
    },
    "scrolled": true
   },
   "outputs": [],
   "source": [
    "#load a mesh from Luo-Rudy that is near termination\n",
    "txt_fn=f'{nb_dir}/Data/test_data/ic008.33_t_900.0.npz'\n",
    "t=900.\n",
    "txt=load_buffer(txt_fn)\n",
    "inVc,outVc,inmhjdfx,outmhjdfx,dVcdt=unstack_txt(txt)\n",
    "width,height=txt.shape[:2]\n",
    "# #jit compile arclength module to llvm machine code\n",
    "# locate_nearest_point_index = get_locate_nearest_point_index(width=width,height=height)\n",
    "# distance_L2_pbc=get_distance_L2_pbc(width=width,height=height)\n",
    "# project_point_2D=get_project_point_2D(width=width,height=height)\n",
    "# subtract_pbc=get_subtract_pbc(width=width,height=height)\n",
    "# comp_perimeter=get_comp_perimeter(width=width,height=height)\n",
    "# fix_node_id=get_fix_node_id(width=width,height=height)\n",
    "# retval=get_arclength_module(width=width,height=height)\n",
    "# locate_node_indices_simple, locate_node_indices, compute_arclength_values, compute_arclength, compute_arclength_values_upto_next, compute_arclength_values_for_tips=retval\n",
    "\n",
    "#jit compile spiral tip observation\n",
    "comp_dict_topo_simple=get_comp_dict_topo_simple(width=width,height=height,level1=-40,level2=0)\n",
    "\n"
   ]
  },
  {
   "cell_type": "code",
   "execution_count": 8,
   "metadata": {
    "ExecuteTime": {
     "end_time": "2021-05-05T01:17:03.022935Z",
     "start_time": "2021-05-05T01:17:02.998339Z"
    }
   },
   "outputs": [
    {
     "ename": "NameError",
     "evalue": "name 'get_comp_dict_topo_full_color' is not defined",
     "output_type": "error",
     "traceback": [
      "\u001b[0;31m---------------------------------------------------------------------------\u001b[0m",
      "\u001b[0;31mNameError\u001b[0m                                 Traceback (most recent call last)",
      "\u001b[0;32m<ipython-input-8-60076c724ec2>\u001b[0m in \u001b[0;36m<module>\u001b[0;34m\u001b[0m\n\u001b[0;32m----> 1\u001b[0;31m \u001b[0mcomp_dict_topo_full_color\u001b[0m\u001b[0;34m=\u001b[0m\u001b[0mget_comp_dict_topo_full_color\u001b[0m\u001b[0;34m(\u001b[0m\u001b[0mwidth\u001b[0m\u001b[0;34m=\u001b[0m\u001b[0mwidth\u001b[0m\u001b[0;34m,\u001b[0m\u001b[0mheight\u001b[0m\u001b[0;34m=\u001b[0m\u001b[0mheight\u001b[0m\u001b[0;34m,\u001b[0m\u001b[0mlevel1\u001b[0m\u001b[0;34m=\u001b[0m\u001b[0;34m-\u001b[0m\u001b[0;36m40\u001b[0m\u001b[0;34m,\u001b[0m\u001b[0mlevel2\u001b[0m\u001b[0;34m=\u001b[0m\u001b[0;36m0\u001b[0m\u001b[0;34m)\u001b[0m\u001b[0;34m\u001b[0m\u001b[0;34m\u001b[0m\u001b[0m\n\u001b[0m",
      "\u001b[0;31mNameError\u001b[0m: name 'get_comp_dict_topo_full_color' is not defined"
     ]
    }
   ],
   "source": [
    "\n",
    "\n",
    "comp_dict_topo_full_color=get_comp_dict_topo_full_color(width=width,height=height,level1=-40,level2=0)\n"
   ]
  },
  {
   "cell_type": "code",
   "execution_count": null,
   "metadata": {},
   "outputs": [],
   "source": [
    "#measure tips that are already present\n",
    "img=inVc[...,0]\n",
    "dimgdt=dVcdt[...,0]\n",
    "V_threshold=-40\n",
    "dict_topo=comp_dict_topo_full_color(img,dimgdt,t,txt)\n"
   ]
  },
  {
   "cell_type": "code",
   "execution_count": 9,
   "metadata": {
    "ExecuteTime": {
     "end_time": "2021-05-02T20:45:52.044597Z",
     "start_time": "2021-05-02T20:45:51.996290Z"
    }
   },
   "outputs": [],
   "source": [
    "# #compute spiral tip location and topological number\n",
    "# contours_a = find_contours(img,        level = V_threshold)\n",
    "# contours_b = find_contours(dimgdt,     level = 0.)\n",
    "# s1_lst, s2_lst, x_lst, y_lst = contours_to_simple_tips_pbc(contours_a,contours_b,width, height,jump_threshold = 2,size_threshold = 6)\n",
    "# dict_topo={'x':x_lst,'y':y_lst,'s1':s1_lst,'s2':s2_lst, 't':t}\n",
    "#DONE: verified the topologically located tips are still reasonable\n",
    "\n",
    "#compute nonlocal spiral tip observations\n",
    "img=inVc[...,0];dimgdt=dVcdt[...,0]\n",
    "dict_topo=comp_dict_topo_simple(img,dimgdt,t)\n",
    "ntips=len(dict_topo['x'])"
   ]
  },
  {
   "cell_type": "code",
   "execution_count": 10,
   "metadata": {
    "ExecuteTime": {
     "end_time": "2021-05-02T20:45:53.139938Z",
     "start_time": "2021-05-02T20:45:52.354527Z"
    }
   },
   "outputs": [],
   "source": [
    "# init ParticlePBCSet with dict_topo\n",
    "pdict=ParticlePBCDict(dict_tips=dict_topo, width=width, height=width)#, **kwargs)\n",
    "t_prev=t;txt_prev=txt.copy();dt=0.01"
   ]
  },
  {
   "cell_type": "code",
   "execution_count": 11,
   "metadata": {
    "ExecuteTime": {
     "end_time": "2021-05-02T20:52:27.207110Z",
     "start_time": "2021-05-02T20:45:54.893993Z"
    }
   },
   "outputs": [
    {
     "name": "stdout",
     "output_type": "stream",
     "text": [
      "termination event found at time t=939.9999999999636, where dt=0.01 and L=200...\n",
      "\t min_sigma_max=0.21315453347971497\n",
      "termination event found at time t=930.9999999999718, where dt=0.01 and L=200...\n",
      "\t min_sigma_max=0.21315453347971497\n",
      "termination event found at time t=930.8999999999719, where dt=0.01 and L=200...\n",
      "\t min_sigma_max=0.07014054271307567\n",
      "termination event found at time t=930.8599999999719, where dt=0.01 and L=200...\n",
      "\t min_sigma_max=0.030350933999673375\n"
     ]
    },
    {
     "data": {
      "text/plain": [
       "0"
      ]
     },
     "execution_count": 11,
     "metadata": {},
     "output_type": "execute_result"
    }
   ],
   "source": [
    "txt_prev,t_prev,min_sigma_max=find_stopping_point(dt,pdict,txt_prev,t_prev,save_every_n_frames=1000)\n",
    "txt_prev,t_prev,min_sigma_max=find_stopping_point(dt,pdict,txt_prev,t_prev,save_every_n_frames=100)\n",
    "txt_prev,t_prev,min_sigma_max=find_stopping_point(dt,pdict,txt_prev,t_prev,save_every_n_frames=10)\n",
    "txt_prev,t_prev,min_sigma_max=find_stopping_point(dt,pdict,txt_prev,t_prev,save_every_n_frames=1)\n",
    "beep(3)"
   ]
  },
  {
   "cell_type": "code",
   "execution_count": 58,
   "metadata": {
    "ExecuteTime": {
     "end_time": "2021-05-02T20:39:14.905084Z",
     "start_time": "2021-05-02T20:39:13.093342Z"
    }
   },
   "outputs": [],
   "source": [
    "# width,height=txt_prev.shape[:2]\n",
    "# #jit compile arclength module to llvm machine code\n",
    "# locate_nearest_point_index = get_locate_nearest_point_index(width=width,height=height)\n",
    "# distance_L2_pbc=get_distance_L2_pbc(width=width,height=height)\n",
    "# project_point_2D=get_project_point_2D(width=width,height=height)\n",
    "# subtract_pbc=get_subtract_pbc(width=width,height=height)\n",
    "# comp_perimeter=get_comp_perimeter(width=width,height=height)\n",
    "# fix_node_id=get_fix_node_id(width=width,height=height)\n",
    "# retval=get_arclength_module(width=width,height=height)\n",
    "# locate_node_indices_simple, locate_node_indices, compute_arclength_values, compute_arclength, compute_arclength_values_upto_next, compute_arclength_values_for_tips=retval\n",
    "\n",
    "# #jit compile spiral tip observation\n",
    "# comp_dict_topo_simple=get_comp_dict_topo_simple(width=width,height=height)"
   ]
  },
  {
   "cell_type": "code",
   "execution_count": null,
   "metadata": {},
   "outputs": [],
   "source": [
    "#TODO: compute dict_topo "
   ]
  },
  {
   "cell_type": "code",
   "execution_count": 14,
   "metadata": {
    "ExecuteTime": {
     "end_time": "2021-05-03T17:25:24.868504Z",
     "start_time": "2021-05-02T21:02:56.316837Z"
    }
   },
   "outputs": [
    {
     "name": "stdout",
     "output_type": "stream",
     "text": [
      ".\r"
     ]
    },
    {
     "ename": "KeyboardInterrupt",
     "evalue": "",
     "output_type": "error",
     "traceback": [
      "\u001b[0;31m---------------------------------------------------------------------------\u001b[0m",
      "\u001b[0;31mKeyboardInterrupt\u001b[0m                         Traceback (most recent call last)",
      "\u001b[0;32m<ipython-input-14-6c753c538e83>\u001b[0m in \u001b[0;36m<module>\u001b[0;34m\u001b[0m\n\u001b[1;32m      3\u001b[0m \u001b[0;31m# txt_prev,t_prev,min_sigma_max=find_stopping_point(dt,pdict,txt_prev,t_prev,save_every_n_frames=1000)\u001b[0m\u001b[0;34m\u001b[0m\u001b[0;34m\u001b[0m\u001b[0;34m\u001b[0m\u001b[0m\n\u001b[1;32m      4\u001b[0m \u001b[0;31m# txt_prev,t_prev,min_sigma_max=find_stopping_point(dt,pdict,txt_prev,t_prev,save_every_n_frames=100)\u001b[0m\u001b[0;34m\u001b[0m\u001b[0;34m\u001b[0m\u001b[0;34m\u001b[0m\u001b[0m\n\u001b[0;32m----> 5\u001b[0;31m \u001b[0mtxt_prev\u001b[0m\u001b[0;34m,\u001b[0m\u001b[0mt_prev\u001b[0m\u001b[0;34m,\u001b[0m\u001b[0mmin_sigma_max\u001b[0m\u001b[0;34m=\u001b[0m\u001b[0mfind_stopping_point\u001b[0m\u001b[0;34m(\u001b[0m\u001b[0mdt\u001b[0m\u001b[0;34m,\u001b[0m\u001b[0mpdict\u001b[0m\u001b[0;34m,\u001b[0m\u001b[0mtxt_prev\u001b[0m\u001b[0;34m,\u001b[0m\u001b[0mt_prev\u001b[0m\u001b[0;34m,\u001b[0m\u001b[0msave_every_n_frames\u001b[0m\u001b[0;34m=\u001b[0m\u001b[0;36m10\u001b[0m\u001b[0;34m)\u001b[0m\u001b[0;34m\u001b[0m\u001b[0;34m\u001b[0m\u001b[0m\n\u001b[0m\u001b[1;32m      6\u001b[0m \u001b[0mtxt_prev\u001b[0m\u001b[0;34m,\u001b[0m\u001b[0mt_prev\u001b[0m\u001b[0;34m,\u001b[0m\u001b[0mmin_sigma_max\u001b[0m\u001b[0;34m=\u001b[0m\u001b[0mfind_stopping_point\u001b[0m\u001b[0;34m(\u001b[0m\u001b[0mdt\u001b[0m\u001b[0;34m,\u001b[0m\u001b[0mpdict\u001b[0m\u001b[0;34m,\u001b[0m\u001b[0mtxt_prev\u001b[0m\u001b[0;34m,\u001b[0m\u001b[0mt_prev\u001b[0m\u001b[0;34m,\u001b[0m\u001b[0msave_every_n_frames\u001b[0m\u001b[0;34m=\u001b[0m\u001b[0;36m1\u001b[0m\u001b[0;34m)\u001b[0m\u001b[0;34m\u001b[0m\u001b[0;34m\u001b[0m\u001b[0m\n\u001b[1;32m      7\u001b[0m \u001b[0mbeep\u001b[0m\u001b[0;34m(\u001b[0m\u001b[0;36m3\u001b[0m\u001b[0;34m)\u001b[0m\u001b[0;34m\u001b[0m\u001b[0;34m\u001b[0m\u001b[0m\n",
      "\u001b[0;32m<ipython-input-7-e6c450ed1f12>\u001b[0m in \u001b[0;36mfind_stopping_point\u001b[0;34m(dt, pdict, txt_prev, t_prev, save_every_n_frames)\u001b[0m\n\u001b[1;32m     44\u001b[0m         \u001b[0;31m#compute nonlocal spiral tip observations\u001b[0m\u001b[0;34m\u001b[0m\u001b[0;34m\u001b[0m\u001b[0;34m\u001b[0m\u001b[0m\n\u001b[1;32m     45\u001b[0m         \u001b[0mimg\u001b[0m\u001b[0;34m=\u001b[0m\u001b[0minVc\u001b[0m\u001b[0;34m[\u001b[0m\u001b[0;34m...\u001b[0m\u001b[0;34m,\u001b[0m\u001b[0;36m0\u001b[0m\u001b[0;34m]\u001b[0m\u001b[0;34m;\u001b[0m\u001b[0mdimgdt\u001b[0m\u001b[0;34m=\u001b[0m\u001b[0mdVcdt\u001b[0m\u001b[0;34m[\u001b[0m\u001b[0;34m...\u001b[0m\u001b[0;34m,\u001b[0m\u001b[0;36m0\u001b[0m\u001b[0;34m]\u001b[0m\u001b[0;34m\u001b[0m\u001b[0;34m\u001b[0m\u001b[0m\n\u001b[0;32m---> 46\u001b[0;31m         \u001b[0mdict_topo\u001b[0m\u001b[0;34m=\u001b[0m\u001b[0mcomp_dict_topo_simple\u001b[0m\u001b[0;34m(\u001b[0m\u001b[0mimg\u001b[0m\u001b[0;34m,\u001b[0m\u001b[0mdimgdt\u001b[0m\u001b[0;34m,\u001b[0m\u001b[0mt\u001b[0m\u001b[0;34m)\u001b[0m\u001b[0;34m\u001b[0m\u001b[0;34m\u001b[0m\u001b[0m\n\u001b[0m\u001b[1;32m     47\u001b[0m         \u001b[0mntips\u001b[0m\u001b[0;34m=\u001b[0m\u001b[0mlen\u001b[0m\u001b[0;34m(\u001b[0m\u001b[0mdict_topo\u001b[0m\u001b[0;34m[\u001b[0m\u001b[0;34m'x'\u001b[0m\u001b[0;34m]\u001b[0m\u001b[0;34m)\u001b[0m\u001b[0;34m\u001b[0m\u001b[0;34m\u001b[0m\u001b[0m\n\u001b[1;32m     48\u001b[0m         \u001b[0;32mif\u001b[0m \u001b[0mntips\u001b[0m\u001b[0;34m>\u001b[0m\u001b[0;36m0\u001b[0m\u001b[0;34m:\u001b[0m\u001b[0;34m\u001b[0m\u001b[0;34m\u001b[0m\u001b[0m\n",
      "\u001b[0;32m~/Documents/GitHub/care/notebooks/lib/measure/arclength.py\u001b[0m in \u001b[0;36mcomp_dict_topo_simple\u001b[0;34m(img, dimgdt, t, width, height, level1, level2, jump_threshold, size_threshold)\u001b[0m\n\u001b[1;32m    295\u001b[0m                 \u001b[0mcontours_a\u001b[0m \u001b[0;34m=\u001b[0m \u001b[0mfind_contours\u001b[0m\u001b[0;34m(\u001b[0m\u001b[0mimg\u001b[0m\u001b[0;34m,\u001b[0m        \u001b[0mlevel\u001b[0m \u001b[0;34m=\u001b[0m \u001b[0mlevel1\u001b[0m\u001b[0;34m)\u001b[0m\u001b[0;34m\u001b[0m\u001b[0;34m\u001b[0m\u001b[0m\n\u001b[1;32m    296\u001b[0m                 \u001b[0mcontours_b\u001b[0m \u001b[0;34m=\u001b[0m \u001b[0mfind_contours\u001b[0m\u001b[0;34m(\u001b[0m\u001b[0mdimgdt\u001b[0m\u001b[0;34m,\u001b[0m     \u001b[0mlevel\u001b[0m \u001b[0;34m=\u001b[0m \u001b[0mlevel2\u001b[0m\u001b[0;34m)\u001b[0m\u001b[0;34m\u001b[0m\u001b[0;34m\u001b[0m\u001b[0m\n\u001b[0;32m--> 297\u001b[0;31m                 \u001b[0ms1_lst\u001b[0m\u001b[0;34m,\u001b[0m \u001b[0ms2_lst\u001b[0m\u001b[0;34m,\u001b[0m \u001b[0mx_lst\u001b[0m\u001b[0;34m,\u001b[0m \u001b[0my_lst\u001b[0m \u001b[0;34m=\u001b[0m \u001b[0mcontours_to_simple_tips_pbc\u001b[0m\u001b[0;34m(\u001b[0m\u001b[0mcontours_a\u001b[0m\u001b[0;34m,\u001b[0m\u001b[0mcontours_b\u001b[0m\u001b[0;34m,\u001b[0m\u001b[0mwidth\u001b[0m\u001b[0;34m,\u001b[0m\u001b[0mheight\u001b[0m\u001b[0;34m,\u001b[0m\u001b[0mjump_threshold\u001b[0m\u001b[0;34m,\u001b[0m\u001b[0msize_threshold\u001b[0m\u001b[0;34m)\u001b[0m\u001b[0;34m\u001b[0m\u001b[0;34m\u001b[0m\u001b[0m\n\u001b[0m\u001b[1;32m    298\u001b[0m         \u001b[0;31m#     print((s1_lst, s2_lst, x_lst, y_lst))\u001b[0m\u001b[0;34m\u001b[0m\u001b[0;34m\u001b[0m\u001b[0;34m\u001b[0m\u001b[0m\n\u001b[1;32m    299\u001b[0m                 \u001b[0mdict_topo\u001b[0m\u001b[0;34m=\u001b[0m\u001b[0;34m{\u001b[0m\u001b[0;34m'x'\u001b[0m\u001b[0;34m:\u001b[0m\u001b[0mx_lst\u001b[0m\u001b[0;34m,\u001b[0m\u001b[0;34m'y'\u001b[0m\u001b[0;34m:\u001b[0m\u001b[0my_lst\u001b[0m\u001b[0;34m,\u001b[0m\u001b[0;34m's1'\u001b[0m\u001b[0;34m:\u001b[0m\u001b[0ms1_lst\u001b[0m\u001b[0;34m,\u001b[0m\u001b[0;34m's2'\u001b[0m\u001b[0;34m:\u001b[0m\u001b[0ms2_lst\u001b[0m\u001b[0;34m,\u001b[0m \u001b[0;34m't'\u001b[0m\u001b[0;34m:\u001b[0m\u001b[0mt\u001b[0m\u001b[0;34m}\u001b[0m\u001b[0;34m\u001b[0m\u001b[0;34m\u001b[0m\u001b[0m\n",
      "\u001b[0;32m~/Documents/GitHub/care/notebooks/lib/measure/_find_tips.py\u001b[0m in \u001b[0;36mcontours_to_simple_tips_pbc\u001b[0;34m(contours1, contours2, width, height, jump_threshold, size_threshold)\u001b[0m\n\u001b[1;32m    101\u001b[0m \u001b[0;34m\u001b[0m\u001b[0m\n\u001b[1;32m    102\u001b[0m     \u001b[0;31m#detect tips as above. Print tip number as above\u001b[0m\u001b[0;34m\u001b[0m\u001b[0;34m\u001b[0m\u001b[0;34m\u001b[0m\u001b[0m\n\u001b[0;32m--> 103\u001b[0;31m     \u001b[0ms1_lst\u001b[0m\u001b[0;34m,\u001b[0m \u001b[0ms2_lst\u001b[0m\u001b[0;34m,\u001b[0m \u001b[0mx_lst\u001b[0m\u001b[0;34m,\u001b[0m \u001b[0my_lst\u001b[0m \u001b[0;34m=\u001b[0m \u001b[0mfind_tips_with_pbc_knots\u001b[0m\u001b[0;34m(\u001b[0m\u001b[0mcontour1_lst_lst\u001b[0m\u001b[0;34m,\u001b[0m \u001b[0mcontour2_lst_lst\u001b[0m\u001b[0;34m,\u001b[0m \u001b[0ms1in_lst\u001b[0m\u001b[0;34m,\u001b[0m \u001b[0ms2in_lst\u001b[0m\u001b[0;34m)\u001b[0m\u001b[0;34m\u001b[0m\u001b[0;34m\u001b[0m\u001b[0m\n\u001b[0m\u001b[1;32m    104\u001b[0m     \u001b[0;32mreturn\u001b[0m \u001b[0ms1_lst\u001b[0m\u001b[0;34m,\u001b[0m \u001b[0ms2_lst\u001b[0m\u001b[0;34m,\u001b[0m \u001b[0mx_lst\u001b[0m\u001b[0;34m,\u001b[0m \u001b[0my_lst\u001b[0m\u001b[0;34m\u001b[0m\u001b[0;34m\u001b[0m\u001b[0m\n\u001b[1;32m    105\u001b[0m \u001b[0;34m\u001b[0m\u001b[0m\n",
      "\u001b[0;32m~/Documents/GitHub/care/notebooks/lib/measure/_find_tips.py\u001b[0m in \u001b[0;36mfind_tips_with_pbc_knots\u001b[0;34m(contours1, contours2, s1in_lst, s2in_lst)\u001b[0m\n\u001b[1;32m     38\u001b[0m                     \u001b[0mx2\u001b[0m\u001b[0;34m,\u001b[0m \u001b[0my2\u001b[0m \u001b[0;34m=\u001b[0m \u001b[0;34m(\u001b[0m\u001b[0mc2\u001b[0m\u001b[0;34m[\u001b[0m\u001b[0;34m:\u001b[0m\u001b[0;34m,\u001b[0m \u001b[0;36m0\u001b[0m\u001b[0;34m]\u001b[0m\u001b[0;34m,\u001b[0m \u001b[0mc2\u001b[0m\u001b[0;34m[\u001b[0m\u001b[0;34m:\u001b[0m\u001b[0;34m,\u001b[0m \u001b[0;36m1\u001b[0m\u001b[0;34m]\u001b[0m\u001b[0;34m)\u001b[0m\u001b[0;34m\u001b[0m\u001b[0;34m\u001b[0m\u001b[0m\n\u001b[1;32m     39\u001b[0m                     \u001b[0;31m#intersection is not the cause of the slowdown\u001b[0m\u001b[0;34m\u001b[0m\u001b[0;34m\u001b[0m\u001b[0;34m\u001b[0m\u001b[0m\n\u001b[0;32m---> 40\u001b[0;31m                     \u001b[0myl\u001b[0m\u001b[0;34m,\u001b[0m \u001b[0mxl\u001b[0m \u001b[0;34m=\u001b[0m \u001b[0mintersection\u001b[0m\u001b[0;34m(\u001b[0m\u001b[0mx1\u001b[0m\u001b[0;34m,\u001b[0m \u001b[0my1\u001b[0m\u001b[0;34m,\u001b[0m \u001b[0mx2\u001b[0m\u001b[0;34m,\u001b[0m \u001b[0my2\u001b[0m\u001b[0;34m)\u001b[0m\u001b[0;34m\u001b[0m\u001b[0;34m\u001b[0m\u001b[0m\n\u001b[0m\u001b[1;32m     41\u001b[0m                     \u001b[0;32mfor\u001b[0m \u001b[0mx\u001b[0m\u001b[0;34m,\u001b[0m\u001b[0my\u001b[0m \u001b[0;32min\u001b[0m \u001b[0mzip\u001b[0m\u001b[0;34m(\u001b[0m\u001b[0mxl\u001b[0m\u001b[0;34m,\u001b[0m\u001b[0myl\u001b[0m\u001b[0;34m)\u001b[0m\u001b[0;34m:\u001b[0m\u001b[0;34m\u001b[0m\u001b[0;34m\u001b[0m\u001b[0m\n\u001b[1;32m     42\u001b[0m                         \u001b[0ms1_list\u001b[0m\u001b[0;34m.\u001b[0m\u001b[0mappend\u001b[0m\u001b[0;34m(\u001b[0m\u001b[0mn1\u001b[0m\u001b[0;34m)\u001b[0m\u001b[0;34m\u001b[0m\u001b[0;34m\u001b[0m\u001b[0m\n",
      "\u001b[0;31mKeyboardInterrupt\u001b[0m: "
     ]
    }
   ],
   "source": [
    "txt_prev,pdict=zoom_system(txt_prev,pdict)\n",
    "dt=dt/10\n",
    "# txt_prev,t_prev,min_sigma_max=find_stopping_point(dt,pdict,txt_prev,t_prev,save_every_n_frames=1000)\n",
    "# txt_prev,t_prev,min_sigma_max=find_stopping_point(dt,pdict,txt_prev,t_prev,save_every_n_frames=100)\n",
    "txt_prev,t_prev,min_sigma_max=find_stopping_point(dt,pdict,txt_prev,t_prev,save_every_n_frames=10)\n",
    "txt_prev,t_prev,min_sigma_max=find_stopping_point(dt,pdict,txt_prev,t_prev,save_every_n_frames=1)\n",
    "beep(3)"
   ]
  },
  {
   "cell_type": "code",
   "execution_count": null,
   "metadata": {
    "ExecuteTime": {
     "end_time": "2021-05-02T20:36:24.294033Z",
     "start_time": "2021-05-02T20:30:29.730Z"
    }
   },
   "outputs": [],
   "source": [
    "txt_prev,pdict=zoom_system(txt_prev,pdict)\n",
    "dt=dt/10\n",
    "txt_prev,t_prev,min_sigma_max=find_stopping_point(dt,pdict,txt_prev,t_prev,save_every_n_frames=1000)\n",
    "txt_prev,t_prev,min_sigma_max=find_stopping_point(dt,pdict,txt_prev,t_prev,save_every_n_frames=100)\n",
    "txt_prev,t_prev,min_sigma_max=find_stopping_point(dt,pdict,txt_prev,t_prev,save_every_n_frames=10)\n",
    "txt_prev,t_prev,min_sigma_max=find_stopping_point(dt,pdict,txt_prev,t_prev,save_every_n_frames=1)\n",
    "beep(3)"
   ]
  },
  {
   "cell_type": "code",
   "execution_count": null,
   "metadata": {
    "ExecuteTime": {
     "end_time": "2021-05-02T20:36:24.303482Z",
     "start_time": "2021-05-02T20:30:30.261Z"
    }
   },
   "outputs": [],
   "source": [
    "txt_prev,pdict=zoom_system(txt_prev,pdict)\n",
    "dt=dt/10\n",
    "txt_prev,t_prev,min_sigma_max=find_stopping_point(dt,pdict,txt_prev,t_prev,save_every_n_frames=1000)\n",
    "txt_prev,t_prev,min_sigma_max=find_stopping_point(dt,pdict,txt_prev,t_prev,save_every_n_frames=100)\n",
    "txt_prev,t_prev,min_sigma_max=find_stopping_point(dt,pdict,txt_prev,t_prev,save_every_n_frames=10)\n",
    "txt_prev,t_prev,min_sigma_max=find_stopping_point(dt,pdict,txt_prev,t_prev,save_every_n_frames=1)\n",
    "beep(3)"
   ]
  },
  {
   "cell_type": "code",
   "execution_count": null,
   "metadata": {
    "ExecuteTime": {
     "end_time": "2021-05-02T20:36:24.312513Z",
     "start_time": "2021-05-02T20:30:30.673Z"
    }
   },
   "outputs": [],
   "source": [
    "txt_prev,pdict=zoom_system(txt_prev,pdict)\n",
    "dt=dt/10\n",
    "txt_prev,t_prev,min_sigma_max=find_stopping_point(dt,pdict,txt_prev,t_prev,save_every_n_frames=1000)\n",
    "txt_prev,t_prev,min_sigma_max=find_stopping_point(dt,pdict,txt_prev,t_prev,save_every_n_frames=100)\n",
    "txt_prev,t_prev,min_sigma_max=find_stopping_point(dt,pdict,txt_prev,t_prev,save_every_n_frames=10)\n",
    "txt_prev,t_prev,min_sigma_max=find_stopping_point(dt,pdict,txt_prev,t_prev,save_every_n_frames=1)\n",
    "beep(3)"
   ]
  },
  {
   "cell_type": "code",
   "execution_count": null,
   "metadata": {},
   "outputs": [],
   "source": []
  },
  {
   "cell_type": "code",
   "execution_count": null,
   "metadata": {},
   "outputs": [],
   "source": []
  },
  {
   "cell_type": "code",
   "execution_count": null,
   "metadata": {},
   "outputs": [],
   "source": []
  },
  {
   "cell_type": "code",
   "execution_count": null,
   "metadata": {},
   "outputs": [],
   "source": [
    "atol=1e-4;ds=5.\n",
    "while min_sigma_max>atol:\n",
    "    txt_prev,t_prev,min_sigma_max=find_stopping_point(dt,pdict,txt_prev,t_prev)\n",
    "    zoom_system(txt,pdict)\n",
    "# return pdict\n",
    "\n",
    "#TODO: starting from t_prev, advance at smaller dt\n",
    "#TODO: starting from t_prev, advance at smaller \n",
    "\n",
    "dt=0.001;ds=5 #time step size (ms) and domain size (cm)\n",
    "\n",
    "\n",
    "\n",
    "# get_one_step at this dt,ds\n",
    "__, __, one_step = get_one_step_explicit_synchronous_splitting(\n",
    "    nb_dir,dt=dt,width=width,height=height,ds=ds,diffCoef=0.001,Cm=1.0)\n",
    "comp_dict_topo_simple=get_comp_dict_topo_simple(width=width,height=height)\n"
   ]
  },
  {
   "cell_type": "code",
   "execution_count": 18,
   "metadata": {
    "ExecuteTime": {
     "end_time": "2021-05-02T20:03:50.508683Z",
     "start_time": "2021-05-02T20:03:49.731529Z"
    }
   },
   "outputs": [],
   "source": [
    "dt=0.01;ds=5 #time step size (ms) and domain size (cm)\n",
    "# get_one_step at this dt,ds\n",
    "__, __, one_step = get_one_step_explicit_synchronous_splitting(\n",
    "    nb_dir,dt=dt,width=width,height=height,ds=ds,diffCoef=0.001,Cm=1.0)"
   ]
  },
  {
   "cell_type": "code",
   "execution_count": 19,
   "metadata": {
    "ExecuteTime": {
     "end_time": "2021-05-02T20:10:03.429803Z",
     "start_time": "2021-05-02T20:03:53.564971Z"
    }
   },
   "outputs": [
    {
     "name": "stdout",
     "output_type": "stream",
     "text": [
      "termination event found at time t=939.9999999999636, where dt=0.01 and ds=5...\n"
     ]
    }
   ],
   "source": [
    "# track tips between frames using ParticleSet while n_tips>0\n",
    "save_every_n_frames=1000\n",
    "while ntips>0:\n",
    "    # copy current texture\n",
    "    txt=stack_txt(inVc,outVc,inmhjdfx,outmhjdfx,dVcdt)\n",
    "    txt_prev=txt.copy()\n",
    "    t_prev=t\n",
    "    \n",
    "    # one_step forward\n",
    "    for step in range(save_every_n_frames):\n",
    "        one_step(inVc, outVc, inmhjdfx, outmhjdfx, dVcdt)\n",
    "        t+=dt\n",
    "    \n",
    "    #compute nonlocal spiral tip observations\n",
    "    img=inVc[...,0];dimgdt=dVcdt[...,0]\n",
    "    dict_topo=comp_dict_topo_simple(img,dimgdt,t)\n",
    "    ntips=len(dict_topo['x'])\n",
    "    if ntips>0:\n",
    "        #record nonlocal spiral tip observations\n",
    "        pdict.merge(dict_topo)\n",
    "    else:\n",
    "        print(f'termination event found at time t={t}, where dt={dt} and L={img.shape[0]}...')\n"
   ]
  },
  {
   "cell_type": "code",
   "execution_count": null,
   "metadata": {
    "ExecuteTime": {
     "end_time": "2021-05-02T20:10:03.513876Z",
     "start_time": "2021-05-02T20:04:15.900Z"
    },
    "code_folding": []
   },
   "outputs": [],
   "source": [
    "#reset at last observed time of spiral tip\n",
    "inVc,outVc,inmhjdfx,outmhjdfx,dVcdt=unstack_txt(txt_prev)\n",
    "t=t_prev\n",
    "#compute nonlocal spiral tip observations\n",
    "img=inVc[...,0];dimgdt=dVcdt[...,0]\n",
    "dict_topo=comp_dict_topo_simple(img,dimgdt,t)\n",
    "ntips=len(dict_topo['x'])\n",
    "\n",
    "# track tips between frames using ParticleSet while n_tips>0\n",
    "save_every_n_frames=100\n",
    "while ntips>0:\n",
    "    # copy current texture\n",
    "    txt=stack_txt(inVc,outVc,inmhjdfx,outmhjdfx,dVcdt)\n",
    "    txt_prev=txt.copy()\n",
    "    t_prev=t\n",
    "    \n",
    "    # one_step forward\n",
    "    for step in range(save_every_n_frames):\n",
    "        one_step(inVc, outVc, inmhjdfx, outmhjdfx, dVcdt)\n",
    "        t+=dt\n",
    "    \n",
    "    #compute nonlocal spiral tip observations\n",
    "    img=inVc[...,0];dimgdt=dVcdt[...,0]\n",
    "    dict_topo=comp_dict_topo_simple(img,dimgdt,t)\n",
    "    ntips=len(dict_topo['x'])\n",
    "    if ntips>0:\n",
    "        #record nonlocal spiral tip observations\n",
    "        pdict.merge(dict_topo)\n",
    "    else:\n",
    "        print(f'termination event found at time t={t}, where dt={dt} and L={img.shape[0]}...')\n"
   ]
  },
  {
   "cell_type": "code",
   "execution_count": null,
   "metadata": {
    "ExecuteTime": {
     "end_time": "2021-05-02T20:10:03.519792Z",
     "start_time": "2021-05-02T20:04:18.037Z"
    }
   },
   "outputs": [],
   "source": [
    "#reset at last observed time of spiral tip\n",
    "inVc,outVc,inmhjdfx,outmhjdfx,dVcdt=unstack_txt(txt_prev)\n",
    "t=t_prev\n",
    "#compute nonlocal spiral tip observations\n",
    "img=inVc[...,0];dimgdt=dVcdt[...,0]\n",
    "dict_topo=comp_dict_topo_simple(img,dimgdt,t)\n",
    "ntips=len(dict_topo['x'])\n",
    "\n",
    "# track tips between frames using ParticleSet while n_tips>0\n",
    "save_every_n_frames=10\n",
    "while ntips>0:\n",
    "    # copy current texture\n",
    "    txt=stack_txt(inVc,outVc,inmhjdfx,outmhjdfx,dVcdt)\n",
    "    txt_prev=txt.copy()\n",
    "    t_prev=t\n",
    "    \n",
    "    # one_step forward\n",
    "    for step in range(save_every_n_frames):\n",
    "        one_step(inVc, outVc, inmhjdfx, outmhjdfx, dVcdt)\n",
    "        t+=dt\n",
    "    \n",
    "    #compute nonlocal spiral tip observations\n",
    "    img=inVc[...,0];dimgdt=dVcdt[...,0]\n",
    "    dict_topo=comp_dict_topo_simple(img,dimgdt,t)\n",
    "    ntips=len(dict_topo['x'])\n",
    "    if ntips>0:\n",
    "        #record nonlocal spiral tip observations\n",
    "        pdict.merge(dict_topo)\n",
    "    else:\n",
    "        print(f'termination event found at time t={t}, where dt={dt} and L={img.shape[0]}...')\n"
   ]
  },
  {
   "cell_type": "code",
   "execution_count": null,
   "metadata": {
    "ExecuteTime": {
     "end_time": "2021-05-02T20:10:03.526700Z",
     "start_time": "2021-05-02T20:04:20.065Z"
    }
   },
   "outputs": [],
   "source": [
    "#reset at last observed time of spiral tip\n",
    "inVc,outVc,inmhjdfx,outmhjdfx,dVcdt=unstack_txt(txt_prev)\n",
    "t=t_prev\n",
    "#compute nonlocal spiral tip observations\n",
    "img=inVc[...,0];dimgdt=dVcdt[...,0]\n",
    "dict_topo=comp_dict_topo_simple(img,dimgdt,t)\n",
    "ntips=len(dict_topo['x'])\n",
    "\n",
    "# track tips between frames using ParticleSet while n_tips>0\n",
    "save_every_n_frames=1\n",
    "while ntips>0:\n",
    "    # copy current texture\n",
    "    txt=stack_txt(inVc,outVc,inmhjdfx,outmhjdfx,dVcdt)\n",
    "    txt_prev=txt.copy()\n",
    "    t_prev=t\n",
    "    \n",
    "    # one_step forward\n",
    "    for step in range(save_every_n_frames):\n",
    "        one_step(inVc, outVc, inmhjdfx, outmhjdfx, dVcdt)\n",
    "        t+=dt\n",
    "    \n",
    "    #compute nonlocal spiral tip observations\n",
    "    img=inVc[...,0];dimgdt=dVcdt[...,0]\n",
    "    dict_topo=comp_dict_topo_simple(img,dimgdt,t)\n",
    "    ntips=len(dict_topo['x'])\n",
    "    if ntips>0:\n",
    "        #record nonlocal spiral tip observations\n",
    "        pdict.merge(dict_topo)\n",
    "    else:\n",
    "        print(f'termination event found at time t={t}, where dt={dt} and L={img.shape[0]}...')\n"
   ]
  },
  {
   "cell_type": "code",
   "execution_count": 10,
   "metadata": {
    "ExecuteTime": {
     "end_time": "2021-05-02T19:54:29.660255Z",
     "start_time": "2021-05-02T19:54:08.031889Z"
    }
   },
   "outputs": [],
   "source": [
    "txt_prev_save=txt_prev.copy()\n",
    "for ___ in range(5):\n",
    "    txt_prev=zoomin_txt(txt_prev)"
   ]
  },
  {
   "cell_type": "code",
   "execution_count": null,
   "metadata": {},
   "outputs": [],
   "source": [
    "#TODO: save ^this\n",
    "\n",
    "\n",
    "\n",
    "#TODO(prerequisite): define method for ParticlePBC for updating position and distance_l2_pbc to the new, zoomed coordinates\n"
   ]
  },
  {
   "cell_type": "markdown",
   "metadata": {},
   "source": [
    "__MVP__\n",
    "<!-- - DONE: move particle classes to lib\n",
    "- DONE: compute the activation front distances, $\\sigma_\\max>0$, for one snapshot -->\n",
    "<!-- - DONE: map between lesser/greater arclen\n",
    "- DONE: update dict_topo with greater/lesser arclen -->\n",
    "<!-- - DONE: init ParticlePBCSet with dict_topo\n",
    "- DONE: copy current texture -->\n",
    "<!-- - TODO: one_step forward by an amount, dt; compute dict_topo and update dict_topo with greater/lesser arclen\n",
    "- TODO: dev sort_particles_indices(): returns dict mapping apparent index to closest pid\n",
    "- TODO: append/update ParticlePBCSet with dict_topo -->\n",
    "\n",
    "- DONE: track tips between frames using ParticleSet while n_tips>0\n",
    "- TOOD: find the last death\n",
    "- TODO: zoom in on the last death\n",
    "- TODO: track/analyze ^this distance while zooming into the termination event\n",
    "- TODO: Are there any effective forces between spiral tips just before death?  Let $F \\propto \\ddot \\sigma_\\max$\n",
    "\n",
    "_Bonus_\n",
    "- TODO: compute the activation front curvature for one snapshot\n",
    "- TODO: plot each state variable versus distance from the spiral tip.  Does this graph vary over time?  Does this graph change at close ranges? Does this graph change with activation front curvature?\n"
   ]
  },
  {
   "cell_type": "code",
   "execution_count": null,
   "metadata": {},
   "outputs": [],
   "source": []
  },
  {
   "cell_type": "code",
   "execution_count": null,
   "metadata": {
    "ExecuteTime": {
     "end_time": "2021-05-02T01:29:40.635210Z",
     "start_time": "2021-05-02T01:22:58.495Z"
    }
   },
   "outputs": [],
   "source": [
    "#identify activation fronts\n",
    "#TODO(later): make function that interpolated an NxMxC numpy array to each of the node points on a contour\n",
    "#TODO(later): make function that gives voltage as a function of sigma\n",
    "#TODO(later): make function that identifies activation fronts via np.mean(arcVoltage_values)>V_threshold+atol"
   ]
  },
  {
   "cell_type": "code",
   "execution_count": null,
   "metadata": {
    "ExecuteTime": {
     "end_time": "2021-05-02T01:29:40.639908Z",
     "start_time": "2021-05-02T01:22:58.714Z"
    }
   },
   "outputs": [],
   "source": [
    "#TODO(later): interpolate txt and dtxt_dt at each node point on a contour\n",
    "#TODO(later): plot the voltage along the activation front (dVdt=0, V>V_thresh)"
   ]
  },
  {
   "cell_type": "code",
   "execution_count": null,
   "metadata": {
    "ExecuteTime": {
     "end_time": "2021-05-02T01:29:40.644045Z",
     "start_time": "2021-05-02T01:22:58.962Z"
    }
   },
   "outputs": [],
   "source": [
    "#TODO(later): measure grav_ux,y or grad_vx,y at each node on the contour\n",
    "#TODO(later): measure grav_ux,y and grad_vx,y at each node on the contour"
   ]
  },
  {
   "cell_type": "code",
   "execution_count": null,
   "metadata": {
    "ExecuteTime": {
     "end_time": "2021-05-02T01:29:40.648561Z",
     "start_time": "2021-05-02T01:22:59.209Z"
    }
   },
   "outputs": [],
   "source": [
    "# #TODO: visualize the activatation front connecting two sister spiral tips\n",
    "\n",
    "\n",
    "\n",
    "# # img,dimgdt,x_values,y_values,c_values,V_threshold,t,\n",
    "# save=False\n",
    "# inch=6;fontsize=16;vmin_img=-85.;vmax_img=35.;area=25;frameno=1;save_fn=None;save_folder=None;save=False;annotating=False;axis=[0,200,0,200];    \n",
    "# vmin_tips=0.;vmax_tips=1.;\n",
    "# fig, ax = plt.subplots(figsize=(inch,inch))\n",
    "# ax.imshow(img, cmap=plt.cm.gray,vmin=vmin_img,vmax=vmax_img)\n",
    "# # ax.imshow(dimgdt, cmap=plt.cm.gray,vmin=vmin_img,vmax=vmax_img)\n",
    "# # ax.imshow(dimgdt*img, cmap=plt.cm.gray,vmin=vmin_img,vmax=vmax_img)\n",
    "# plot_contours_pbc(contours_a, ax, linewidth=2, min_num_vertices=6, linestyle='--', alpha=0.5, color='red')#'blue')\n",
    "# # plot_contours_pbc(contours2, ax, linewidth=2, min_num_vertices=6, linestyle='--', alpha=0.5, color='green')\n",
    "# plot_contours_pbc(contours_b, ax, linewidth=2, min_num_vertices=6, linestyle='-', alpha=0.5, color='orange')\n",
    "\n",
    "# #plot spiral tips. color inner spiral tip by slow variable\n",
    "# ax.scatter(x=xv, y=yv, s=270, c='y', marker='*', zorder=3, alpha=.5, vmin=vmin_tips,vmax=vmax_tips)\n",
    "\n",
    "# # ax.scatter(x=x_values, y=y_values, s=270, c=1+0.*c_values, marker='*', zorder=3, alpha=.5, vmin=vmin_tips,vmax=vmax_tips)\n",
    "# ax.axis(axis)\n",
    "# #     ax.axis('image')\n",
    "# ax.set_xticks([])\n",
    "# ax.set_yticks([])\n",
    "# if not save:\n",
    "#     plt.show()\n",
    "# else:\n",
    "#     if save_fn is None:\n",
    "#         save_fn = f\"img{frameno:07d}.png\"\n",
    "#         frameno += 1\n",
    "# #         plt.tight_layout()\n",
    "#     if save_folder is not None:\n",
    "#         os.chdir(save_folder)\n",
    "#     plt.savefig(save_fn,dpi=720/inch, bbox_inches='tight',pad_inches=0);\n",
    "# #         plt.close();"
   ]
  },
  {
   "cell_type": "markdown",
   "metadata": {},
   "source": [
    "## TODO: dev compute_arc_values_for_tips\n",
    "- TODO: dev interpolate_txt_for_lst using bilinear interpolation\n",
    "- TODO: dev compute_arc_values_upto_next\n",
    "- TODO: dev compute_arc_values_for_tips"
   ]
  },
  {
   "cell_type": "code",
   "execution_count": null,
   "metadata": {
    "ExecuteTime": {
     "end_time": "2021-05-02T01:29:40.653630Z",
     "start_time": "2021-05-02T01:22:59.650Z"
    }
   },
   "outputs": [],
   "source": [
    "\n",
    "\n",
    "# #compute local spiral tip information\n",
    "# compute_all_spiral_tips= get_compute_all_spiral_tips(mode='full',width=width,height=height)\n",
    "# dict_local=compute_all_spiral_tips(t, img, dimgdt, V_threshold, 0.)\n",
    "#show domain\n",
    "# print(f\"{dict_local['n']} tips are present at time t={int(t)}.\")\n",
    "# fig = ShowDomain(img,dimgdt,x_values,y_values,0.*c_values,V_threshold,t,inch=6,fontsize=16,vmin_img=-85.,vmax_img=35.,\n",
    "#                  area=25,frameno=1,save_fn=None,save_folder=None,save=False,annotating=False,axis=[0,200,0,200])\n",
    "# plt.show(fig)"
   ]
  },
  {
   "cell_type": "markdown",
   "metadata": {
    "heading_collapsed": true
   },
   "source": [
    "# TODO: visualize the system after zooming"
   ]
  },
  {
   "cell_type": "code",
   "execution_count": 24,
   "metadata": {
    "ExecuteTime": {
     "end_time": "2021-05-04T19:43:02.857594Z",
     "start_time": "2021-05-04T19:43:02.820637Z"
    },
    "hidden": true
   },
   "outputs": [],
   "source": [
    "#load a mesh from Luo-Rudy that is near termination\n",
    "txt_fn=f'{nb_dir}/Data/test_data/ic008.33_t_750.0.npz'\n",
    "t=750.\n",
    "ds=5.\n",
    "txt=load_buffer(txt_fn)\n",
    "inVc,outVc,inmhjdfx,outmhjdfx,dVcdt=unstack_txt(txt)\n",
    "width,height=txt.shape[:2]\n",
    "\n"
   ]
  },
  {
   "cell_type": "code",
   "execution_count": 26,
   "metadata": {
    "ExecuteTime": {
     "end_time": "2021-05-04T19:43:09.781829Z",
     "start_time": "2021-05-04T19:43:07.282442Z"
    },
    "hidden": true
   },
   "outputs": [],
   "source": [
    "comp_dict_topo_simple=get_comp_dict_topo_simple(width=width,height=height,level1=-40,level2=0)\n",
    "#compute tips\n",
    "img=inVc[...,0];dimgdt=dVcdt[...,0]\n",
    "dict_topo=comp_dict_topo_simple(img,dimgdt,t)\n",
    "ntips=len(dict_topo['x'])\n",
    "#init for tip recording\n",
    "pdict=ParticlePBCDict(dict_tips=dict_topo, width=width, height=width)#, **kwargs)\n",
    "t_prev=t;txt_prev=txt.copy();dt=0.01\n",
    "\n",
    "# #zoom system\n",
    "# txt,pdict=zoom_system(txt,pdict)\n",
    "# dt=dt/10\n",
    "# width,height=txt.shape[:2]\n",
    "\n",
    "x_values,y_values,pid_values=pdict.get_current_locations()\n",
    "# inVc,outVc,inmhjdfx,outmhjdfx,dVcdt=unstack_txt(txt)"
   ]
  },
  {
   "cell_type": "code",
   "execution_count": 27,
   "metadata": {
    "ExecuteTime": {
     "end_time": "2021-05-04T19:43:09.911767Z",
     "start_time": "2021-05-04T19:43:09.890157Z"
    },
    "hidden": true
   },
   "outputs": [],
   "source": [
    "# #Test cases for particle distance after zooming\n",
    "# print ( arlie:=pdict[0].dist_to(np.array((100.,100.))))\n",
    "# print ( badoo:=pdict[0].dist_to(np.array((100.,200.))) )\n",
    "# assert ( arlie==pdict[0].dist_to(np.array((100.,500.))) )"
   ]
  },
  {
   "cell_type": "code",
   "execution_count": 28,
   "metadata": {
    "ExecuteTime": {
     "end_time": "2021-05-04T19:43:10.248963Z",
     "start_time": "2021-05-04T19:43:10.060265Z"
    },
    "hidden": true
   },
   "outputs": [
    {
     "name": "stdout",
     "output_type": "stream",
     "text": [
      "8 tips are present at time t=750.\n"
     ]
    },
    {
     "data": {
      "image/png": "[encoded data removed]",
      "text/plain": [
       "<Figure size 432x432 with 1 Axes>"
      ]
     },
     "metadata": {},
     "output_type": "display_data"
    }
   ],
   "source": [
    "#visually verify system\n",
    "inVc,outVc,inmhjdfx,outmhjdfx,dVcdt=unstack_txt(txt_prev)\n",
    "x_values,y_values,pid_values=pdict.get_current_locations()\n",
    "dict_topo=comp_dict_topo_simple(img,dimgdt,t)\n",
    "t=t_prev\n",
    "\n",
    "ntips=len(dict_topo['x'])\n",
    "img=inVc[...,0]\n",
    "dimgdt=dVcdt[...,0]\n",
    "V_threshold=-40\n",
    "# compute_all_spiral_tips= get_compute_all_spiral_tips(mode='simp',width=width,height=height)\n",
    "# dict_out=compute_all_spiral_tips(t,img,dimgdt,level1=V_threshold,level2=0.)#,width=width,height=height)\n",
    "print(f\"{ntips} tips are present at time t={int(t_prev)}.\")\n",
    "fig = ShowDomain(img,dimgdt,x_values,y_values,0.*x_values,V_threshold,t,inch=6,fontsize=16,vmin_img=-85.,vmax_img=35.,\n",
    "                 area=25,frameno=1,save_fn=None,save_folder=None,save=False,annotating=False,axis=[0,txt.shape[0],0,txt.shape[1]])\n",
    "# fig = ShowDomain(img,dimgdt,np.array([xyavg[0]]),np.array([xyavg[1]]),np.array([0]),V_threshold,t,inch=6,fontsize=16,vmin_img=-85.,vmax_img=35.,\n",
    "#                  area=25,frameno=1,save_fn=None,save_folder=None,save=False,annotating=False,axis=[0,200,0,200])\n",
    "# ax=fig.get_axes()[0]\n",
    "# ax.scatter([xyavg[0]],[xyavg[1]],s=1000,c='yellow',marker='*')\n",
    "# plt.show(fig)"
   ]
  },
  {
   "cell_type": "code",
   "execution_count": 15,
   "metadata": {
    "ExecuteTime": {
     "end_time": "2021-05-04T19:40:53.825247Z",
     "start_time": "2021-05-04T19:36:39.906268Z"
    },
    "hidden": true
   },
   "outputs": [
    {
     "ename": "KeyboardInterrupt",
     "evalue": "",
     "output_type": "error",
     "traceback": [
      "\u001b[0;31m---------------------------------------------------------------------------\u001b[0m",
      "\u001b[0;31mKeyboardInterrupt\u001b[0m                         Traceback (most recent call last)",
      "\u001b[0;32m<ipython-input-15-0d7c0747bbff>\u001b[0m in \u001b[0;36m<module>\u001b[0;34m\u001b[0m\n\u001b[0;32m----> 1\u001b[0;31m \u001b[0mtxt_prev\u001b[0m\u001b[0;34m,\u001b[0m\u001b[0mt_prev\u001b[0m\u001b[0;34m,\u001b[0m\u001b[0mmin_sigma_max\u001b[0m\u001b[0;34m=\u001b[0m\u001b[0mfind_stopping_point\u001b[0m\u001b[0;34m(\u001b[0m\u001b[0mdt\u001b[0m\u001b[0;34m,\u001b[0m\u001b[0mpdict\u001b[0m\u001b[0;34m,\u001b[0m\u001b[0mtxt_prev\u001b[0m\u001b[0;34m,\u001b[0m\u001b[0mt_prev\u001b[0m\u001b[0;34m,\u001b[0m\u001b[0msave_every_n_frames\u001b[0m\u001b[0;34m=\u001b[0m\u001b[0;36m1000\u001b[0m\u001b[0;34m)\u001b[0m\u001b[0;34m\u001b[0m\u001b[0;34m\u001b[0m\u001b[0m\n\u001b[0m\u001b[1;32m      2\u001b[0m \u001b[0;31m# txt_prev,t_prev,min_sigma_max=find_stopping_point(dt,pdict,txt_prev,t_prev,save_every_n_frames=100)\u001b[0m\u001b[0;34m\u001b[0m\u001b[0;34m\u001b[0m\u001b[0;34m\u001b[0m\u001b[0m\n\u001b[1;32m      3\u001b[0m \u001b[0;31m# txt_prev,t_prev,min_sigma_max=find_stopping_point(dt,pdict,txt_prev,t_prev,save_every_n_frames=10)\u001b[0m\u001b[0;34m\u001b[0m\u001b[0;34m\u001b[0m\u001b[0;34m\u001b[0m\u001b[0m\n\u001b[1;32m      4\u001b[0m \u001b[0;31m# txt_prev,t_prev,min_sigma_max=find_stopping_point(dt,pdict,txt_prev,t_prev,save_every_n_frames=1)\u001b[0m\u001b[0;34m\u001b[0m\u001b[0;34m\u001b[0m\u001b[0;34m\u001b[0m\u001b[0m\n\u001b[1;32m      5\u001b[0m \u001b[0mbeep\u001b[0m\u001b[0;34m(\u001b[0m\u001b[0;36m3\u001b[0m\u001b[0;34m)\u001b[0m\u001b[0;34m\u001b[0m\u001b[0;34m\u001b[0m\u001b[0m\n",
      "\u001b[0;32m~/Documents/GitHub/care/notebooks/lib/routines/return_min_distance.py\u001b[0m in \u001b[0;36mfind_stopping_point\u001b[0;34m(dt, pdict, txt_prev, t_prev, save_every_n_frames)\u001b[0m\n\u001b[1;32m     41\u001b[0m         \u001b[0;31m# one_step forward\u001b[0m\u001b[0;34m\u001b[0m\u001b[0;34m\u001b[0m\u001b[0;34m\u001b[0m\u001b[0m\n\u001b[1;32m     42\u001b[0m         \u001b[0;32mfor\u001b[0m \u001b[0mstep\u001b[0m \u001b[0;32min\u001b[0m \u001b[0mrange\u001b[0m\u001b[0;34m(\u001b[0m\u001b[0msave_every_n_frames\u001b[0m\u001b[0;34m)\u001b[0m\u001b[0;34m:\u001b[0m\u001b[0;34m\u001b[0m\u001b[0;34m\u001b[0m\u001b[0m\n\u001b[0;32m---> 43\u001b[0;31m             \u001b[0mone_step\u001b[0m\u001b[0;34m(\u001b[0m\u001b[0minVc\u001b[0m\u001b[0;34m,\u001b[0m \u001b[0moutVc\u001b[0m\u001b[0;34m,\u001b[0m \u001b[0minmhjdfx\u001b[0m\u001b[0;34m,\u001b[0m \u001b[0moutmhjdfx\u001b[0m\u001b[0;34m,\u001b[0m \u001b[0mdVcdt\u001b[0m\u001b[0;34m)\u001b[0m\u001b[0;34m\u001b[0m\u001b[0;34m\u001b[0m\u001b[0m\n\u001b[0m\u001b[1;32m     44\u001b[0m             \u001b[0mt\u001b[0m\u001b[0;34m+=\u001b[0m\u001b[0mdt\u001b[0m\u001b[0;34m\u001b[0m\u001b[0;34m\u001b[0m\u001b[0m\n\u001b[1;32m     45\u001b[0m \u001b[0;34m\u001b[0m\u001b[0m\n",
      "\u001b[0;31mKeyboardInterrupt\u001b[0m: "
     ]
    }
   ],
   "source": [
    "txt_prev,t_prev,min_sigma_max=find_stopping_point(dt,pdict,txt_prev,t_prev,save_every_n_frames=1000)\n",
    "# txt_prev,t_prev,min_sigma_max=find_stopping_point(dt,pdict,txt_prev,t_prev,save_every_n_frames=100)\n",
    "# txt_prev,t_prev,min_sigma_max=find_stopping_point(dt,pdict,txt_prev,t_prev,save_every_n_frames=10)\n",
    "# txt_prev,t_prev,min_sigma_max=find_stopping_point(dt,pdict,txt_prev,t_prev,save_every_n_frames=1)\n",
    "beep(3)"
   ]
  },
  {
   "cell_type": "code",
   "execution_count": 32,
   "metadata": {
    "ExecuteTime": {
     "end_time": "2021-05-04T19:44:00.941706Z",
     "start_time": "2021-05-04T19:44:00.925224Z"
    },
    "hidden": true
   },
   "outputs": [
    {
     "data": {
      "text/plain": [
       "{'x': [146.4691443741714],\n",
       " 'y': [26.450258743365257],\n",
       " 't': [750.0],\n",
       " 'lesser_pid': [1],\n",
       " 'lesser_arclen': [8.708053745567],\n",
       " 'greater_pid': [3],\n",
       " 'greater_arclen': [45.83069486175157]}"
      ]
     },
     "execution_count": 32,
     "metadata": {},
     "output_type": "execute_result"
    }
   ],
   "source": [
    "#TODO: save txt_prev\n"
   ]
  },
  {
   "cell_type": "markdown",
   "metadata": {},
   "source": [
    "# TODO: plot the activation arclength as it goes to zero for the last living tip"
   ]
  },
  {
   "cell_type": "code",
   "execution_count": null,
   "metadata": {
    "ExecuteTime": {
     "end_time": "2021-05-04T19:40:53.829711Z",
     "start_time": "2021-05-04T19:40:48.053Z"
    }
   },
   "outputs": [],
   "source": [
    "pid_lst=pdict.get_dead_particles()\n",
    "pid_lst"
   ]
  },
  {
   "cell_type": "code",
   "execution_count": 16,
   "metadata": {
    "ExecuteTime": {
     "end_time": "2021-05-04T19:40:55.930993Z",
     "start_time": "2021-05-04T19:40:55.914975Z"
    }
   },
   "outputs": [
    {
     "data": {
      "text/plain": [
       "[6, 7]"
      ]
     },
     "execution_count": 16,
     "metadata": {},
     "output_type": "execute_result"
    }
   ],
   "source": [
    "pid_lst=pdict.get_alive_particles()\n",
    "pid_lst"
   ]
  },
  {
   "cell_type": "code",
   "execution_count": 17,
   "metadata": {
    "ExecuteTime": {
     "end_time": "2021-05-04T19:41:06.630073Z",
     "start_time": "2021-05-04T19:41:06.612474Z"
    }
   },
   "outputs": [
    {
     "data": {
      "text/plain": [
       "dict_keys([0, 1, 2, 3, 4, 5, 6, 7])"
      ]
     },
     "execution_count": 17,
     "metadata": {},
     "output_type": "execute_result"
    }
   ],
   "source": [
    "pdict.keys()"
   ]
  },
  {
   "cell_type": "code",
   "execution_count": 24,
   "metadata": {
    "ExecuteTime": {
     "end_time": "2021-05-03T20:52:28.678633Z",
     "start_time": "2021-05-03T20:52:28.569073Z"
    }
   },
   "outputs": [
    {
     "name": "stdout",
     "output_type": "stream",
     "text": [
      "1 tips are present at time t=930.\n"
     ]
    },
    {
     "data": {
      "image/png": "[encoded data removed]",
      "text/plain": [
       "<Figure size 432x432 with 1 Axes>"
      ]
     },
     "metadata": {},
     "output_type": "display_data"
    }
   ],
   "source": [
    "#visually verify system\n",
    "inVc,outVc,inmhjdfx,outmhjdfx,dVcdt=unstack_txt(txt_prev)\n",
    "x_values,y_values=pdict.get_current_locations()\n",
    "ntips=x_values.shape[0]\n",
    "img=inVc[...,0]\n",
    "dimgdt=dVcdt[...,0]\n",
    "V_threshold=-40\n",
    "# compute_all_spiral_tips= get_compute_all_spiral_tips(mode='simp',width=width,height=height)\n",
    "# dict_out=compute_all_spiral_tips(t,img,dimgdt,level1=V_threshold,level2=0.)#,width=width,height=height)\n",
    "print(f\"{ntips} tips are present at time t={int(t_prev)}.\")\n",
    "fig = ShowDomain(img,dimgdt,x_values,y_values,0.*x_values,V_threshold,t,inch=6,fontsize=16,vmin_img=-85.,vmax_img=35.,\n",
    "                 area=25,frameno=1,save_fn=None,save_folder=None,save=False,annotating=False,axis=[0,txt.shape[0],0,txt.shape[1]])\n",
    "# fig = ShowDomain(img,dimgdt,np.array([xyavg[0]]),np.array([xyavg[1]]),np.array([0]),V_threshold,t,inch=6,fontsize=16,vmin_img=-85.,vmax_img=35.,\n",
    "#                  area=25,frameno=1,save_fn=None,save_folder=None,save=False,annotating=False,axis=[0,200,0,200])\n",
    "# ax=fig.get_axes()[0]\n",
    "# ax.scatter([xyavg[0]],[xyavg[1]],s=1000,c='yellow',marker='*')\n",
    "# plt.show(fig)"
   ]
  },
  {
   "cell_type": "code",
   "execution_count": 54,
   "metadata": {
    "ExecuteTime": {
     "end_time": "2021-05-03T21:04:53.530620Z",
     "start_time": "2021-05-03T21:04:53.258089Z"
    }
   },
   "outputs": [
    {
     "data": {
      "image/png": "[encoded data removed]",
      "text/plain": [
       "<Figure size 504x432 with 1 Axes>"
      ]
     },
     "metadata": {
      "needs_background": "light"
     },
     "output_type": "display_data"
    }
   ],
   "source": [
    "# plot sigma_max of the lesser_arclen versus time for all particles, centering about their last recorded time\n",
    "fontsize=18\n",
    "saving=False\n",
    "figsize=(7,6)\n",
    "fig,ax=plt.subplots(figsize=figsize)\n",
    "\n",
    "pid_lst=list(pdict.keys())\n",
    "# pid_lst=pdict.get_alive_particles()\n",
    "for pid in pid_lst:\n",
    "    #extract values\n",
    "    sigma_max_values=np.array(pdict[pid].lesser_arclen_lst)\n",
    "    t_values=np.array(pdict[pid].t_lst)\n",
    "    t_until_death_values=t_values[-1]-t_values\n",
    "    x_values=t_until_death_values\n",
    "    y_values=sigma_max_values\n",
    "    \n",
    "    #plot values\n",
    "    ax.scatter(x_values,y_values)\n",
    "\n",
    "#format\n",
    "# ax.set_xlim(xlim)\n",
    "# ax.set_ylim(ylim)\n",
    "ax.set_xlabel('time until death (ms)', fontsize=fontsize)\n",
    "ax.set_ylabel('minimum apparent arclength\\nof activation front (cm)', fontsize=fontsize)\n",
    "ax.tick_params(axis='both', which='major', labelsize=fontsize)\n",
    "ax.tick_params(axis='both', which='minor', labelsize=0)\n",
    "ax.set_xscale('log')\n",
    "ax.set_yscale('log')\n",
    "if not saving: \n",
    "    plt.show() \n",
    "else:\n",
    "    plt.tight_layout()\n",
    "    os.chdir(savefig_folder)\n",
    "    plt.savefig(savefig_fn, dpi=300)\n",
    "    print(f\"saved figure in \\n\\t{savefig_fn}\")\n",
    "    plt.close()"
   ]
  },
  {
   "cell_type": "code",
   "execution_count": 27,
   "metadata": {
    "ExecuteTime": {
     "end_time": "2021-05-03T20:55:10.271906Z",
     "start_time": "2021-05-03T20:55:10.141859Z"
    }
   },
   "outputs": [
    {
     "data": {
      "text/plain": [
       "[<matplotlib.lines.Line2D at 0x7f9063945850>]"
      ]
     },
     "execution_count": 27,
     "metadata": {},
     "output_type": "execute_result"
    },
    {
     "data": {
      "image/png": "[encoded data removed]",
      "text/plain": [
       "<Figure size 432x288 with 1 Axes>"
      ]
     },
     "metadata": {
      "needs_background": "light"
     },
     "output_type": "display_data"
    }
   ],
   "source": [
    "pid=pid_lst[0]\n",
    "sigma_max_values=np.array(pdict[pid].lesser_arclen_lst)\n",
    "t_values=np.array(pdict[pid].lesser_arclen_lst)\n",
    "t_until_death_values=t_values[-1]-t_values\n",
    "x_values=t_until_death_values\n",
    "y_values=sigma_max_values\n",
    "plt.plot(x_values,y_values)"
   ]
  },
  {
   "cell_type": "code",
   "execution_count": 40,
   "metadata": {
    "ExecuteTime": {
     "end_time": "2021-05-03T20:58:59.640904Z",
     "start_time": "2021-05-03T20:58:59.622685Z"
    }
   },
   "outputs": [
    {
     "data": {
      "text/plain": [
       "array([154.68706098,  17.56937965,  16.51058622,  16.51058622,\n",
       "        87.25726125,   8.52618134,   8.52618134,   7.96418374,\n",
       "         7.96418374,   7.41765492,   7.41765492,   6.79229556,\n",
       "         6.79229556,   6.25046338,   6.25046338,   5.64644656,\n",
       "         5.64644656,   4.93735477,   4.93735477,   4.1756479 ,\n",
       "         4.1756479 ,   2.80562171,   2.80562171,   2.53539862,\n",
       "         2.53539862,   2.18665422,   2.18665422,   1.85183652,\n",
       "         1.85183652,   1.52838018,   1.52838018,   1.21403736,\n",
       "         1.21403736])"
      ]
     },
     "execution_count": 40,
     "metadata": {},
     "output_type": "execute_result"
    }
   ],
   "source": [
    "t_values"
   ]
  },
  {
   "cell_type": "markdown",
   "metadata": {},
   "source": [
    "# TODO: make to_df function for pdict\n",
    "- TODO: bilinear interpolate txt to each contour point \n",
    "- DONE: make video of death starting at time t=900\n",
    "- DONE: color particles by pid?\n",
    "- TODO(later): color lesser arclen value contours ... or voltage"
   ]
  },
  {
   "cell_type": "code",
   "execution_count": 85,
   "metadata": {
    "ExecuteTime": {
     "end_time": "2021-05-04T18:33:48.439599Z",
     "start_time": "2021-05-04T18:33:47.760124Z"
    }
   },
   "outputs": [],
   "source": [
    "particle=pdict[0]"
   ]
  },
  {
   "cell_type": "code",
   "execution_count": 83,
   "metadata": {
    "ExecuteTime": {
     "end_time": "2021-05-04T00:29:04.332262Z",
     "start_time": "2021-05-04T00:29:04.311033Z"
    }
   },
   "outputs": [
    {
     "data": {
      "text/plain": [
       "array([{5}, {3}, {2}, {3}, {0}, {1}, {0}], dtype=object)"
      ]
     },
     "execution_count": 83,
     "metadata": {},
     "output_type": "execute_result"
    }
   ],
   "source": [
    "x_values=np.array(particle.x_lst)\n",
    "y_values=np.array(particle.y_lst)\n",
    "t_values=np.array(particle.t_lst)\n",
    "pid_values=(pid+0.*x_values).astype('int')\n",
    "# list(particle.lesser_pid_lst)[0]\n",
    "lesser_pid_values=np.array(particle.lesser_pid_lst)"
   ]
  },
  {
   "cell_type": "code",
   "execution_count": 80,
   "metadata": {
    "ExecuteTime": {
     "end_time": "2021-05-04T00:28:43.080227Z",
     "start_time": "2021-05-04T00:28:43.059857Z"
    }
   },
   "outputs": [
    {
     "ename": "NameError",
     "evalue": "name 'lesser_pid_values' is not defined",
     "output_type": "error",
     "traceback": [
      "\u001b[0;31m---------------------------------------------------------------------------\u001b[0m",
      "\u001b[0;31mNameError\u001b[0m                                 Traceback (most recent call last)",
      "\u001b[0;32m<ipython-input-80-c573f7e725c5>\u001b[0m in \u001b[0;36m<module>\u001b[0;34m\u001b[0m\n\u001b[1;32m      3\u001b[0m             \u001b[0;34m't'\u001b[0m\u001b[0;34m:\u001b[0m\u001b[0mparticle\u001b[0m\u001b[0;34m.\u001b[0m\u001b[0mt_lst\u001b[0m\u001b[0;34m,\u001b[0m\u001b[0;34m\u001b[0m\u001b[0;34m\u001b[0m\u001b[0m\n\u001b[1;32m      4\u001b[0m              \u001b[0;34m'pid'\u001b[0m\u001b[0;34m:\u001b[0m\u001b[0mpid_values\u001b[0m\u001b[0;34m,\u001b[0m\u001b[0;34m\u001b[0m\u001b[0;34m\u001b[0m\u001b[0m\n\u001b[0;32m----> 5\u001b[0;31m             'lesser_pid':lesser_pid_values})\n\u001b[0m\u001b[1;32m      6\u001b[0m \u001b[0;34m\u001b[0m\u001b[0m\n",
      "\u001b[0;31mNameError\u001b[0m: name 'lesser_pid_values' is not defined"
     ]
    }
   ],
   "source": [
    "pd.DataFrame({'x':particle.x_lst,\n",
    "            'y':particle.y_lst,\n",
    "            't':particle.t_lst,\n",
    "             'pid':pid_values,\n",
    "            'lesser_pid':lesser_pid_values})\n",
    "              "
   ]
  },
  {
   "cell_type": "code",
   "execution_count": 76,
   "metadata": {
    "ExecuteTime": {
     "end_time": "2021-05-04T00:25:51.583241Z",
     "start_time": "2021-05-04T00:25:51.563385Z"
    }
   },
   "outputs": [
    {
     "data": {
      "text/plain": [
       "4"
      ]
     },
     "execution_count": 76,
     "metadata": {},
     "output_type": "execute_result"
    }
   ],
   "source": [
    "int(list({4})[0])"
   ]
  },
  {
   "cell_type": "code",
   "execution_count": 77,
   "metadata": {
    "ExecuteTime": {
     "end_time": "2021-05-04T00:26:33.447462Z",
     "start_time": "2021-05-04T00:26:33.423735Z"
    }
   },
   "outputs": [
    {
     "data": {
      "text/plain": [
       "[127.31249832937719,\n",
       " 13.426353656524968,\n",
       " 29.383992629609292,\n",
       " 19.32020200812073,\n",
       " 13.426353656524968,\n",
       " 12.052653303007027,\n",
       " 12.052653303007027]"
      ]
     },
     "execution_count": 77,
     "metadata": {},
     "output_type": "execute_result"
    }
   ],
   "source": [
    "particle.lesser_arclen_lst"
   ]
  },
  {
   "cell_type": "markdown",
   "metadata": {},
   "source": [
    "# dev"
   ]
  },
  {
   "cell_type": "markdown",
   "metadata": {
    "ExecuteTime": {
     "end_time": "2021-05-04T02:41:44.729154Z",
     "start_time": "2021-05-04T02:41:44.220727Z"
    }
   },
   "source": [
    "# TODO(later): dev find_particle_death method\n",
    "- DONE:  save as csv method for particle and pdict using pandas\n",
    "- DONE: use existing bilinear interpolation method to get arcV_values\n",
    "- TODO: highlight activation front\n",
    "- TODO: make movie with activation fronts highlighted\n",
    "- TODO: measure sigma_max versus time for several death events\n",
    "- TODO: define a force along the string"
   ]
  },
  {
   "cell_type": "code",
   "execution_count": null,
   "metadata": {
    "ExecuteTime": {
     "end_time": "2021-05-04T19:47:54.717241Z",
     "start_time": "2021-05-04T19:47:54.699160Z"
    }
   },
   "outputs": [],
   "source": [
    "- TODO: use existing bilinear interpolation method to get arcV_values\n"
   ]
  },
  {
   "cell_type": "code",
   "execution_count": 90,
   "metadata": {
    "ExecuteTime": {
     "end_time": "2021-05-04T22:51:12.111419Z",
     "start_time": "2021-05-04T22:51:12.050912Z"
    }
   },
   "outputs": [],
   "source": [
    "bilinear_interpolate_channel?"
   ]
  },
  {
   "cell_type": "code",
   "execution_count": 71,
   "metadata": {
    "ExecuteTime": {
     "end_time": "2021-05-04T20:13:08.187460Z",
     "start_time": "2021-05-04T20:13:08.127889Z"
    }
   },
   "outputs": [],
   "source": [
    "#compute spiral tip location and topological number\n",
    "contours_a = find_contours(img,        level = V_threshold)\n",
    "contours_b = find_contours(dimgdt,     level = 0.)\n",
    "s1_lst, s2_lst, x_lst, y_lst = contours_to_simple_tips_pbc(contours_a,contours_b,width, height,jump_threshold = 2,size_threshold = 6)\n",
    "dict_topo={'x':x_lst,'y':y_lst,'s1':s1_lst,'s2':s2_lst, 't':t}"
   ]
  },
  {
   "cell_type": "code",
   "execution_count": 91,
   "metadata": {
    "ExecuteTime": {
     "end_time": "2021-05-04T22:51:35.264263Z",
     "start_time": "2021-05-04T22:51:35.245924Z"
    }
   },
   "outputs": [],
   "source": [
    "contour=contours_a[0]\n",
    "interpolate_txt_to_contour"
   ]
  },
  {
   "cell_type": "code",
   "execution_count": 83,
   "metadata": {
    "ExecuteTime": {
     "end_time": "2021-05-04T20:14:07.590407Z",
     "start_time": "2021-05-04T20:14:07.576064Z"
    }
   },
   "outputs": [],
   "source": [
    "contour_values=interpolate_txt_to_contour(contour,width,height,txt)"
   ]
  },
  {
   "cell_type": "code",
   "execution_count": null,
   "metadata": {
    "ExecuteTime": {
     "end_time": "2021-05-04T20:14:19.436308Z",
     "start_time": "2021-05-04T20:14:19.207793Z"
    }
   },
   "outputs": [],
   "source": [
    "#TODO: use interpolate_txt_to_contour in comp_dict_topo to get txt colors at node points\n",
    "\n",
    "#TODO(later, if relevant/interesting forces emerge): use deque datatype to grow locally found tips to other tips\n",
    "#TODO(later): compute estimates of node_id / segment position in cython"
   ]
  },
  {
   "cell_type": "code",
   "execution_count": 87,
   "metadata": {
    "ExecuteTime": {
     "end_time": "2021-05-04T20:22:53.508405Z",
     "start_time": "2021-05-04T20:22:53.422097Z"
    }
   },
   "outputs": [],
   "source": [
    "#compute spiral tip location and topological number\n",
    "contours_a = find_contours(img,        level = -40)\n",
    "contours_b = find_contours(dimgdt,     level = 0)\n",
    "jump_threshold = 10;size_threshold = 4\n",
    "s1_lst, s2_lst, x_lst, y_lst = contours_to_simple_tips_pbc(contours_a,contours_b,width,height,jump_threshold,size_threshold)\n",
    "comp_dict_topo_full_color(img,dimgdt,t,txt,"
   ]
  },
  {
   "cell_type": "code",
   "execution_count": 98,
   "metadata": {
    "ExecuteTime": {
     "end_time": "2021-05-05T01:13:26.900886Z",
     "start_time": "2021-05-05T01:13:26.856367Z"
    }
   },
   "outputs": [
    {
     "ename": "NameError",
     "evalue": "name 'comp_dict_topo_full_color' is not defined",
     "output_type": "error",
     "traceback": [
      "\u001b[0;31m---------------------------------------------------------------------------\u001b[0m",
      "\u001b[0;31mNameError\u001b[0m                                 Traceback (most recent call last)",
      "\u001b[0;32m<ipython-input-98-3336d84a0b30>\u001b[0m in \u001b[0;36m<module>\u001b[0;34m\u001b[0m\n\u001b[0;32m----> 1\u001b[0;31m \u001b[0mdict_topo\u001b[0m\u001b[0;34m=\u001b[0m\u001b[0mcomp_dict_topo_full_color\u001b[0m\u001b[0;34m(\u001b[0m\u001b[0mimg\u001b[0m\u001b[0;34m,\u001b[0m\u001b[0mdimgdt\u001b[0m\u001b[0;34m,\u001b[0m\u001b[0mt\u001b[0m\u001b[0;34m,\u001b[0m\u001b[0mtxt\u001b[0m\u001b[0;34m)\u001b[0m\u001b[0;34m\u001b[0m\u001b[0;34m\u001b[0m\u001b[0m\n\u001b[0m",
      "\u001b[0;31mNameError\u001b[0m: name 'comp_dict_topo_full_color' is not defined"
     ]
    }
   ],
   "source": []
  },
  {
   "cell_type": "code",
   "execution_count": 96,
   "metadata": {
    "ExecuteTime": {
     "end_time": "2021-05-04T23:28:24.432999Z",
     "start_time": "2021-05-04T23:28:24.417520Z"
    }
   },
   "outputs": [],
   "source": [
    "a={}\n",
    "a.update({'a':'a','b':'c'})"
   ]
  },
  {
   "cell_type": "code",
   "execution_count": 97,
   "metadata": {
    "ExecuteTime": {
     "end_time": "2021-05-04T23:28:27.808443Z",
     "start_time": "2021-05-04T23:28:27.792463Z"
    }
   },
   "outputs": [
    {
     "data": {
      "text/plain": [
       "{'a': 'a', 'b': 'c'}"
      ]
     },
     "execution_count": 97,
     "metadata": {},
     "output_type": "execute_result"
    }
   ],
   "source": [
    "a"
   ]
  },
  {
   "cell_type": "code",
   "execution_count": null,
   "metadata": {},
   "outputs": [],
   "source": []
  }
 ],
 "metadata": {
  "kernelspec": {
   "display_name": "Python 3",
   "language": "python",
   "name": "python3"
  },
  "language_info": {
   "codemirror_mode": {
    "name": "ipython",
    "version": 3
   },
   "file_extension": ".py",
   "mimetype": "text/x-python",
   "name": "python",
   "nbconvert_exporter": "python",
   "pygments_lexer": "ipython3",
   "version": "3.7.6"
  },
  "toc": {
   "base_numbering": 1,
   "nav_menu": {},
   "number_sections": true,
   "sideBar": true,
   "skip_h1_title": false,
   "title_cell": "Table of Contents",
   "title_sidebar": "Contents",
   "toc_cell": false,
   "toc_position": {},
   "toc_section_display": true,
   "toc_window_display": false
  },
  "varInspector": {
   "cols": {
    "lenName": 16,
    "lenType": 16,
    "lenVar": 40
   },
   "kernels_config": {
    "python": {
     "delete_cmd_postfix": "",
     "delete_cmd_prefix": "del ",
     "library": "var_list.py",
     "varRefreshCmd": "print(var_dic_list())"
    },
    "r": {
     "delete_cmd_postfix": ") ",
     "delete_cmd_prefix": "rm(",
     "library": "var_list.r",
     "varRefreshCmd": "cat(var_dic_list()) "
    }
   },
   "types_to_exclude": [
    "module",
    "function",
    "builtin_function_or_method",
    "instance",
    "_Feature"
   ],
   "window_display": false
  }
 },
 "nbformat": 4,
 "nbformat_minor": 4
}
