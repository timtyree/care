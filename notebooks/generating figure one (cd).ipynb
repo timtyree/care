{
 "cells": [
  {
   "cell_type": "markdown",
   "metadata": {},
   "source": [
    "# generating figure one (cd)"
   ]
  },
  {
   "cell_type": "code",
   "execution_count": 27,
   "metadata": {
    "ExecuteTime": {
     "end_time": "2021-03-14T22:46:16.073360Z",
     "start_time": "2021-03-14T22:46:16.054418Z"
    }
   },
   "outputs": [
    {
     "name": "stdout",
     "output_type": "stream",
     "text": [
      "The autoreload extension is already loaded. To reload it, use:\n",
      "  %reload_ext autoreload\n"
     ]
    }
   ],
   "source": [
    "from lib.my_initialization import *\n",
    "from lib import *\n",
    "from lib.utils.merge_cloud_results import *\n",
    "import seaborn as sns\n",
    "from scipy.interpolate import CubicSpline\n",
    "%load_ext autoreload\n",
    "%autoreload 2"
   ]
  },
  {
   "cell_type": "code",
   "execution_count": 33,
   "metadata": {
    "ExecuteTime": {
     "end_time": "2021-03-14T22:47:26.051332Z",
     "start_time": "2021-03-14T22:47:25.974126Z"
    }
   },
   "outputs": [
    {
     "data": {
      "text/html": [
       "<div>\n",
       "<style scoped>\n",
       "    .dataframe tbody tr th:only-of-type {\n",
       "        vertical-align: middle;\n",
       "    }\n",
       "\n",
       "    .dataframe tbody tr th {\n",
       "        vertical-align: top;\n",
       "    }\n",
       "\n",
       "    .dataframe thead th {\n",
       "        text-align: right;\n",
       "    }\n",
       "</style>\n",
       "<table border=\"1\" class=\"dataframe\">\n",
       "  <thead>\n",
       "    <tr style=\"text-align: right;\">\n",
       "      <th></th>\n",
       "      <th>t</th>\n",
       "      <th>x</th>\n",
       "      <th>y</th>\n",
       "      <th>frame</th>\n",
       "      <th>particle</th>\n",
       "    </tr>\n",
       "  </thead>\n",
       "  <tbody>\n",
       "    <tr>\n",
       "      <th>0</th>\n",
       "      <td>1384.1</td>\n",
       "      <td>0.000000</td>\n",
       "      <td>0.000000</td>\n",
       "      <td>642</td>\n",
       "      <td>250</td>\n",
       "    </tr>\n",
       "    <tr>\n",
       "      <th>1</th>\n",
       "      <td>1386.1</td>\n",
       "      <td>0.375838</td>\n",
       "      <td>0.289005</td>\n",
       "      <td>643</td>\n",
       "      <td>250</td>\n",
       "    </tr>\n",
       "    <tr>\n",
       "      <th>2</th>\n",
       "      <td>1388.1</td>\n",
       "      <td>0.876190</td>\n",
       "      <td>0.213254</td>\n",
       "      <td>644</td>\n",
       "      <td>250</td>\n",
       "    </tr>\n",
       "    <tr>\n",
       "      <th>3</th>\n",
       "      <td>1390.1</td>\n",
       "      <td>1.512380</td>\n",
       "      <td>0.130534</td>\n",
       "      <td>645</td>\n",
       "      <td>250</td>\n",
       "    </tr>\n",
       "    <tr>\n",
       "      <th>4</th>\n",
       "      <td>1392.1</td>\n",
       "      <td>-0.098148</td>\n",
       "      <td>0.883394</td>\n",
       "      <td>646</td>\n",
       "      <td>250</td>\n",
       "    </tr>\n",
       "  </tbody>\n",
       "</table>\n",
       "</div>"
      ],
      "text/plain": [
       "        t         x         y  frame  particle\n",
       "0  1384.1  0.000000  0.000000    642       250\n",
       "1  1386.1  0.375838  0.289005    643       250\n",
       "2  1388.1  0.876190  0.213254    644       250\n",
       "3  1390.1  1.512380  0.130534    645       250\n",
       "4  1392.1 -0.098148  0.883394    646       250"
      ]
     },
     "execution_count": 33,
     "metadata": {},
     "output_type": "execute_result"
    }
   ],
   "source": [
    "#TODO: measure net displacements of all particles in an _unwrap.csv trajectory file\n",
    "file=\"/home/timothytyree/Documents/GitHub/care/notebooks/Data/initial-conditions-suite-3-LR/param_qu_tmax_30_Ko_3.8_diffCoef_0.0005/all_traj_longer_than_500.csv\"\n",
    "# file=\"/home/timothytyree/Documents/GitHub/care/notebooks/Data/initial-conditions-suite-3-LR/param_qu_tmax_30_Ko_3.8_diffCoef_0.0005/trajectories_unwrap/ic018.21_traj_sr_600_mem_0_unwrap.csv\"\n",
    "df=pd.read_csv(file)\n",
    "df.head()"
   ]
  },
  {
   "cell_type": "code",
   "execution_count": null,
   "metadata": {
    "ExecuteTime": {
     "end_time": "2021-03-14T22:47:04.401075Z",
     "start_time": "2021-03-14T22:47:04.382141Z"
    }
   },
   "outputs": [],
   "source": []
  },
  {
   "cell_type": "code",
   "execution_count": 34,
   "metadata": {
    "ExecuteTime": {
     "end_time": "2021-03-14T22:47:39.918402Z",
     "start_time": "2021-03-14T22:47:39.010586Z"
    }
   },
   "outputs": [],
   "source": [
    "#map particle to times of birth-death\n",
    "e=df.groupby('particle').t.describe()[['max','min']]\n",
    "particle_lifetimes=e['max']-e['min']\n",
    "particle_lifetimes\n",
    "t_births=e['min'];t_deaths=e['max']\n",
    "\n",
    "#TODO: map particle to net displacement in x\n",
    "e=df.groupby('particle').t.describe()[['max','min']]\n",
    "particle_lifetimes=e['max']-e['min']"
   ]
  },
  {
   "cell_type": "code",
   "execution_count": 39,
   "metadata": {
    "ExecuteTime": {
     "end_time": "2021-03-14T22:48:42.951215Z",
     "start_time": "2021-03-14T22:48:42.923963Z"
    }
   },
   "outputs": [
    {
     "data": {
      "text/plain": [
       "354       92.343028\n",
       "659      -58.233743\n",
       "918      -21.870531\n",
       "1347     -11.465473\n",
       "1617     -22.490101\n",
       "            ...    \n",
       "110452    35.252942\n",
       "110712    96.945128\n",
       "110968    33.780299\n",
       "111232   -27.939761\n",
       "111498   -89.637014\n",
       "Name: x, Length: 381, dtype: float64"
      ]
     },
     "execution_count": 39,
     "metadata": {},
     "output_type": "execute_result"
    }
   ],
   "source": [
    "df.groupby('particle').x.tail(1)"
   ]
  },
  {
   "cell_type": "code",
   "execution_count": 41,
   "metadata": {
    "ExecuteTime": {
     "end_time": "2021-03-14T22:49:14.905838Z",
     "start_time": "2021-03-14T22:49:14.873123Z"
    }
   },
   "outputs": [],
   "source": [
    "DS=0.025\n",
    "particle_disp_x=DS*(df.groupby('particle').x.tail(1).values-df.groupby('particle').x.head(1).values)\n",
    "particle_disp_y=DS*(df.groupby('particle').y.tail(1).values-df.groupby('particle').y.head(1).values)\n",
    "particle_ranges=np.sqrt(particle_disp_x**2 + particle_disp_y**2 )"
   ]
  },
  {
   "cell_type": "code",
   "execution_count": 78,
   "metadata": {
    "ExecuteTime": {
     "end_time": "2021-03-14T23:04:47.854804Z",
     "start_time": "2021-03-14T23:04:47.828097Z"
    }
   },
   "outputs": [],
   "source": []
  },
  {
   "cell_type": "code",
   "execution_count": 130,
   "metadata": {
    "ExecuteTime": {
     "end_time": "2021-03-14T23:24:20.980281Z",
     "start_time": "2021-03-14T23:24:20.214367Z"
    }
   },
   "outputs": [
    {
     "data": {
      "image/png": "[encoded data removed]",
      "text/plain": [
       "<Figure size 648x288 with 2 Axes>"
      ]
     },
     "metadata": {},
     "output_type": "display_data"
    }
   ],
   "source": [
    "fontsize=20\n",
    "fig,axs=plt.subplots(ncols=2,figsize=(9,4))\n",
    "\n",
    "ax=axs[0]\n",
    "#TODO(later): plot a couple trajectories in gray with initial/final positions colored green/red\n",
    "\n",
    "\n",
    "#plot heatmap\n",
    "\n",
    "x=particle_disp_x\n",
    "y=particle_disp_y\n",
    "# ax.hist2d(x, y, bins=(15, 15), cmap=plt.cm.BuPu)\n",
    "sns.kdeplot(x,y,ax=ax,cmap=\"Blues\", shade=True,shade_lowest=False,alpha=0.8,bw=.9)\n",
    "ax.set_xlabel(r'final x displ. (cm)', fontsize=fontsize)\n",
    "ax.set_ylabel(r'final y displ. (cm)', fontsize=fontsize)\n",
    "# ax.set_xlabel(r'$\\Delta$x (cm)', fontsize=fontsize)\n",
    "# ax.set_ylabel(r'$\\Delta$y (cm)', fontsize=fontsize)\n",
    "ax.set_xticks(np.arange(-4,5,2))\n",
    "ax.set_yticks(np.arange(-4,5,2))\n",
    "ax.axis([-4,4,-4,4])\n",
    "ax.tick_params(axis='both', which='major', labelsize=fontsize)\n",
    "ax.tick_params(axis='both', which='minor', labelsize=0)\n",
    "ax.grid('on')\n",
    "ax.set_aspect('equal')\n",
    "\n",
    "ax=axs[1]\n",
    "ax.hist(particle_ranges,bins=10,density=True)\n",
    "ax.set_xlabel(r'final range (cm)', fontsize=fontsize)\n",
    "# ax.hist(particle_ranges,bins=10,density=True)\n",
    "# ax.set_xlabel('range of spiral tip (cm)', fontsize=fontsize)\n",
    "ax.set_ylabel('probability density', fontsize=fontsize)\n",
    "ax.tick_params(axis='both', which='major', labelsize=fontsize)\n",
    "ax.tick_params(axis='both', which='minor', labelsize=0)\n",
    "\n",
    "plt.tight_layout()\n",
    "plt.show()"
   ]
  },
  {
   "cell_type": "markdown",
   "metadata": {
    "ExecuteTime": {
     "end_time": "2021-03-14T23:20:35.247616Z",
     "start_time": "2021-03-14T23:20:35.224320Z"
    }
   },
   "source": [
    "sns.kdeplot?\n",
    "kwargs : key, value pairings\n",
    "    Other keyword arguments are passed to ``plt.plot()`` or\n",
    "    ``plt.contour{f}`` depending on whether a univariate or bivariate\n",
    "    plot is being drawn\n",
    "    \n",
    "kernel : {'gau' | 'cos' | 'biw' | 'epa' | 'tri' | 'triw' }, optional\n",
    "    Code for shape of kernel to fit with. Bivariate KDE can only use\n",
    "    gaussian kernel.\n",
    "bw : {'scott' | 'silverman' | scalar | pair of scalars }, optional\n",
    "    Name of reference method to determine kernel size, scalar factor,\n",
    "    or scalar for each dimension of the bivariate plot. Note that the\n",
    "    underlying computational libraries have different interperetations\n",
    "    for this parameter: ``statsmodels`` uses it directly, but ``scipy``\n",
    "    treats it as a scaling factor for the standard deviation of the\n",
    "    data.`"
   ]
  },
  {
   "cell_type": "code",
   "execution_count": 134,
   "metadata": {
    "ExecuteTime": {
     "end_time": "2021-03-14T23:47:03.621013Z",
     "start_time": "2021-03-14T23:47:03.601215Z"
    }
   },
   "outputs": [
    {
     "data": {
      "text/plain": [
       "1.5264559772969253"
      ]
     },
     "execution_count": 134,
     "metadata": {},
     "output_type": "execute_result"
    }
   ],
   "source": [
    "np.mean(particle_ranges)\n",
    "np.median(particle_ranges)\n",
    "# np.std(particle_ranges)"
   ]
  },
  {
   "cell_type": "code",
   "execution_count": 24,
   "metadata": {
    "ExecuteTime": {
     "end_time": "2021-03-14T19:56:40.705154Z",
     "start_time": "2021-03-14T19:56:40.657085Z"
    }
   },
   "outputs": [
    {
     "data": {
      "text/html": [
       "<div>\n",
       "<style scoped>\n",
       "    .dataframe tbody tr th:only-of-type {\n",
       "        vertical-align: middle;\n",
       "    }\n",
       "\n",
       "    .dataframe tbody tr th {\n",
       "        vertical-align: top;\n",
       "    }\n",
       "\n",
       "    .dataframe thead th {\n",
       "        text-align: right;\n",
       "    }\n",
       "</style>\n",
       "<table border=\"1\" class=\"dataframe\">\n",
       "  <thead>\n",
       "    <tr style=\"text-align: right;\">\n",
       "      <th></th>\n",
       "      <th>x</th>\n",
       "      <th>y</th>\n",
       "      <th>t</th>\n",
       "      <th>t_lifetimes</th>\n",
       "    </tr>\n",
       "  </thead>\n",
       "  <tbody>\n",
       "    <tr>\n",
       "      <th>28</th>\n",
       "      <td>-0.498817</td>\n",
       "      <td>-0.227652</td>\n",
       "      <td>156.1</td>\n",
       "      <td>50.865027</td>\n",
       "    </tr>\n",
       "    <tr>\n",
       "      <th>83</th>\n",
       "      <td>-0.073645</td>\n",
       "      <td>0.183584</td>\n",
       "      <td>208.1</td>\n",
       "      <td>NaN</td>\n",
       "    </tr>\n",
       "    <tr>\n",
       "      <th>100</th>\n",
       "      <td>0.058752</td>\n",
       "      <td>0.053175</td>\n",
       "      <td>132.1</td>\n",
       "      <td>NaN</td>\n",
       "    </tr>\n",
       "    <tr>\n",
       "      <th>117</th>\n",
       "      <td>0.025494</td>\n",
       "      <td>0.279820</td>\n",
       "      <td>132.1</td>\n",
       "      <td>NaN</td>\n",
       "    </tr>\n",
       "    <tr>\n",
       "      <th>124</th>\n",
       "      <td>-0.127706</td>\n",
       "      <td>0.154658</td>\n",
       "      <td>112.1</td>\n",
       "      <td>NaN</td>\n",
       "    </tr>\n",
       "  </tbody>\n",
       "</table>\n",
       "</div>"
      ],
      "text/plain": [
       "            x         y      t  t_lifetimes\n",
       "28  -0.498817 -0.227652  156.1    50.865027\n",
       "83  -0.073645  0.183584  208.1          NaN\n",
       "100  0.058752  0.053175  132.1          NaN\n",
       "117  0.025494  0.279820  132.1          NaN\n",
       "124 -0.127706  0.154658  112.1          NaN"
      ]
     },
     "execution_count": 24,
     "metadata": {},
     "output_type": "execute_result"
    }
   ],
   "source": [
    "group=df.groupby('particle')\n",
    "ef=group[['x','y','t']].tail(1).copy()\n",
    "ef['x']*=DS\n",
    "ef['y']*=DS\n",
    "# ef['t'] contains the time of death\n",
    "ef['t_lifetimes']=particle_lifetimes\n",
    "ef.head()"
   ]
  },
  {
   "cell_type": "code",
   "execution_count": null,
   "metadata": {},
   "outputs": [],
   "source": [
    "group['R']=np.sqrt(particle_disp_x**2 + particle_disp_y**2 )"
   ]
  }
 ],
 "metadata": {
  "kernelspec": {
   "display_name": "Python 3",
   "language": "python",
   "name": "python3"
  },
  "language_info": {
   "codemirror_mode": {
    "name": "ipython",
    "version": 3
   },
   "file_extension": ".py",
   "mimetype": "text/x-python",
   "name": "python",
   "nbconvert_exporter": "python",
   "pygments_lexer": "ipython3",
   "version": "3.7.6"
  },
  "toc": {
   "base_numbering": 1,
   "nav_menu": {},
   "number_sections": true,
   "sideBar": true,
   "skip_h1_title": false,
   "title_cell": "Table of Contents",
   "title_sidebar": "Contents",
   "toc_cell": false,
   "toc_position": {},
   "toc_section_display": true,
   "toc_window_display": false
  },
  "varInspector": {
   "cols": {
    "lenName": 16,
    "lenType": 16,
    "lenVar": 40
   },
   "kernels_config": {
    "python": {
     "delete_cmd_postfix": "",
     "delete_cmd_prefix": "del ",
     "library": "var_list.py",
     "varRefreshCmd": "print(var_dic_list())"
    },
    "r": {
     "delete_cmd_postfix": ") ",
     "delete_cmd_prefix": "rm(",
     "library": "var_list.r",
     "varRefreshCmd": "cat(var_dic_list()) "
    }
   },
   "types_to_exclude": [
    "module",
    "function",
    "builtin_function_or_method",
    "instance",
    "_Feature"
   ],
   "window_display": false
  }
 },
 "nbformat": 4,
 "nbformat_minor": 4
}
