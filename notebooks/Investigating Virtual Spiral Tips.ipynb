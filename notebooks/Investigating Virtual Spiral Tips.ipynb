{
 "cells": [
  {
   "cell_type": "markdown",
   "metadata": {},
   "source": [
    "# Investigating virtual spiral tips\n",
    "Tim Tyree<br>\n",
    "11.21.2020"
   ]
  },
  {
   "cell_type": "code",
   "execution_count": 1,
   "metadata": {
    "ExecuteTime": {
     "end_time": "2020-11-21T21:45:10.110068Z",
     "start_time": "2020-11-21T21:45:06.724516Z"
    }
   },
   "outputs": [
    {
     "name": "stdout",
     "output_type": "stream",
     "text": [
      "100000\n",
      "Automatic calling is: Smart\n"
     ]
    }
   ],
   "source": [
    "#pylab\n",
    "%matplotlib inline\n",
    "import numpy as np, pandas as pd, matplotlib.pyplot as plt\n",
    "from pylab import imshow, show\n",
    "\n",
    "\n",
    "import numba, trackpy, sklearn\n",
    "# from numba import njit, jit, vectorize\n",
    "# from PIL import Image\n",
    "# import imageio\n",
    "# import cv2 as cv\n",
    "\n",
    "#automate the boring stuff\n",
    "from IPython import utils\n",
    "import time, os, sys, re\n",
    "beep = lambda x: os.system(\"echo -n '\\\\a';sleep 0.2;\" * x)\n",
    "if not 'nb_dir' in globals():\n",
    "    nb_dir = os.getcwd()\n",
    "\n",
    "#load the libraries\n",
    "from lib import *\n",
    "from lib.dist_func import *\n",
    "# from lib.operari import *\n",
    "# from lib.ProgressBar import *\n",
    "# from lib.minimal_model import *\n",
    "# from lib.TexturePlot import *\n",
    "# from lib.get_tips import *\n",
    "# from lib.minimal_model import *\n",
    "# from lib.intersection import *\n",
    "# from numba import jit, njit, vectorize, cuda, uint32, f8, uint8\n",
    "# from lib.contours_to_tips import *\n",
    "\n",
    "%autocall 1\n",
    "%load_ext autoreload\n",
    "%autoreload 2"
   ]
  },
  {
   "cell_type": "markdown",
   "metadata": {},
   "source": [
    "# step 1: compute birth-death rates from log and identify a fast birth-death event from the resulting csv"
   ]
  },
  {
   "cell_type": "code",
   "execution_count": 104,
   "metadata": {
    "ExecuteTime": {
     "end_time": "2020-11-21T23:01:20.647650Z",
     "start_time": "2020-11-21T23:01:20.621773Z"
    }
   },
   "outputs": [],
   "source": [
    "from lib.routines.bdrates import *"
   ]
  },
  {
   "cell_type": "code",
   "execution_count": 105,
   "metadata": {
    "ExecuteTime": {
     "end_time": "2020-11-21T23:01:34.763460Z",
     "start_time": "2020-11-21T23:01:21.131371Z"
    }
   },
   "outputs": [],
   "source": [
    "# input_file_name = search_for_file()\n",
    "input_file_name = \"/Users/timothytyree/Documents/GitHub/care/notebooks/Data/test_data/ic_200x200.001.13_log.csv\"\n",
    "# output_file_name = input_file_name.replace('log.csv','bdrates.csv')\n",
    "\n",
    "save_folder=\"/Users/timothytyree/Documents/GitHub/care/notebooks/Data/test_data/\"\n",
    "outdir = log_to_bdrates_routine(input_file_name, save_folder, min_time_between_samples=1)\n",
    "# log_to_bdrates(input_file_name, output_file_name)\n",
    "\n",
    "data_dir_bdrates = outdir"
   ]
  },
  {
   "cell_type": "code",
   "execution_count": 106,
   "metadata": {
    "ExecuteTime": {
     "end_time": "2020-11-21T23:04:42.511926Z",
     "start_time": "2020-11-21T23:04:42.480806Z"
    }
   },
   "outputs": [],
   "source": [
    "df =  pd.read_csv(data_dir_bdrates)"
   ]
  },
  {
   "cell_type": "code",
   "execution_count": 107,
   "metadata": {
    "ExecuteTime": {
     "end_time": "2020-11-21T23:04:44.032275Z",
     "start_time": "2020-11-21T23:04:44.003225Z"
    }
   },
   "outputs": [
    {
     "data": {
      "text/html": [
       "<div>\n",
       "<style scoped>\n",
       "    .dataframe tbody tr th:only-of-type {\n",
       "        vertical-align: middle;\n",
       "    }\n",
       "\n",
       "    .dataframe tbody tr th {\n",
       "        vertical-align: top;\n",
       "    }\n",
       "\n",
       "    .dataframe thead th {\n",
       "        text-align: right;\n",
       "    }\n",
       "</style>\n",
       "<table border=\"1\" class=\"dataframe\">\n",
       "  <thead>\n",
       "    <tr style=\"text-align: right;\">\n",
       "      <th></th>\n",
       "      <th>t</th>\n",
       "      <th>n</th>\n",
       "      <th>dn</th>\n",
       "      <th>rates</th>\n",
       "    </tr>\n",
       "  </thead>\n",
       "  <tbody>\n",
       "    <tr>\n",
       "      <th>0</th>\n",
       "      <td>39</td>\n",
       "      <td>20</td>\n",
       "      <td>-2.0</td>\n",
       "      <td>0.027778</td>\n",
       "    </tr>\n",
       "    <tr>\n",
       "      <th>1</th>\n",
       "      <td>75</td>\n",
       "      <td>18</td>\n",
       "      <td>-4.0</td>\n",
       "      <td>0.002551</td>\n",
       "    </tr>\n",
       "    <tr>\n",
       "      <th>2</th>\n",
       "      <td>467</td>\n",
       "      <td>14</td>\n",
       "      <td>2.0</td>\n",
       "      <td>0.015625</td>\n",
       "    </tr>\n",
       "    <tr>\n",
       "      <th>3</th>\n",
       "      <td>531</td>\n",
       "      <td>16</td>\n",
       "      <td>-2.0</td>\n",
       "      <td>0.008929</td>\n",
       "    </tr>\n",
       "    <tr>\n",
       "      <th>4</th>\n",
       "      <td>643</td>\n",
       "      <td>14</td>\n",
       "      <td>-2.0</td>\n",
       "      <td>0.002976</td>\n",
       "    </tr>\n",
       "  </tbody>\n",
       "</table>\n",
       "</div>"
      ],
      "text/plain": [
       "     t   n   dn     rates\n",
       "0   39  20 -2.0  0.027778\n",
       "1   75  18 -4.0  0.002551\n",
       "2  467  14  2.0  0.015625\n",
       "3  531  16 -2.0  0.008929\n",
       "4  643  14 -2.0  0.002976"
      ]
     },
     "execution_count": 107,
     "metadata": {},
     "output_type": "execute_result"
    }
   ],
   "source": [
    "df.head()"
   ]
  },
  {
   "cell_type": "code",
   "execution_count": 108,
   "metadata": {
    "ExecuteTime": {
     "end_time": "2020-11-21T23:04:48.005712Z",
     "start_time": "2020-11-21T23:04:47.779789Z"
    }
   },
   "outputs": [
    {
     "data": {
      "image/png": "[encoded data removed]",
      "text/plain": [
       "<Figure size 432x288 with 1 Axes>"
      ]
     },
     "metadata": {
      "needs_background": "light"
     },
     "output_type": "display_data"
    }
   ],
   "source": [
    "plt.hist(df.rates, bins=30)\n",
    "plt.show()"
   ]
  },
  {
   "cell_type": "code",
   "execution_count": 109,
   "metadata": {
    "ExecuteTime": {
     "end_time": "2020-11-21T23:04:48.958508Z",
     "start_time": "2020-11-21T23:04:48.921521Z"
    }
   },
   "outputs": [
    {
     "data": {
      "text/html": [
       "<div>\n",
       "<style scoped>\n",
       "    .dataframe tbody tr th:only-of-type {\n",
       "        vertical-align: middle;\n",
       "    }\n",
       "\n",
       "    .dataframe tbody tr th {\n",
       "        vertical-align: top;\n",
       "    }\n",
       "\n",
       "    .dataframe thead th {\n",
       "        text-align: right;\n",
       "    }\n",
       "</style>\n",
       "<table border=\"1\" class=\"dataframe\">\n",
       "  <thead>\n",
       "    <tr style=\"text-align: right;\">\n",
       "      <th></th>\n",
       "      <th>t</th>\n",
       "      <th>n</th>\n",
       "      <th>dn</th>\n",
       "      <th>rates</th>\n",
       "    </tr>\n",
       "  </thead>\n",
       "  <tbody>\n",
       "    <tr>\n",
       "      <th>0</th>\n",
       "      <td>39</td>\n",
       "      <td>20</td>\n",
       "      <td>-2.0</td>\n",
       "      <td>0.027778</td>\n",
       "    </tr>\n",
       "    <tr>\n",
       "      <th>1</th>\n",
       "      <td>75</td>\n",
       "      <td>18</td>\n",
       "      <td>-4.0</td>\n",
       "      <td>0.002551</td>\n",
       "    </tr>\n",
       "    <tr>\n",
       "      <th>2</th>\n",
       "      <td>467</td>\n",
       "      <td>14</td>\n",
       "      <td>2.0</td>\n",
       "      <td>0.015625</td>\n",
       "    </tr>\n",
       "    <tr>\n",
       "      <th>3</th>\n",
       "      <td>531</td>\n",
       "      <td>16</td>\n",
       "      <td>-2.0</td>\n",
       "      <td>0.008929</td>\n",
       "    </tr>\n",
       "    <tr>\n",
       "      <th>4</th>\n",
       "      <td>643</td>\n",
       "      <td>14</td>\n",
       "      <td>-2.0</td>\n",
       "      <td>0.002976</td>\n",
       "    </tr>\n",
       "    <tr>\n",
       "      <th>...</th>\n",
       "      <td>...</td>\n",
       "      <td>...</td>\n",
       "      <td>...</td>\n",
       "      <td>...</td>\n",
       "    </tr>\n",
       "    <tr>\n",
       "      <th>1179</th>\n",
       "      <td>481915</td>\n",
       "      <td>6</td>\n",
       "      <td>-2.0</td>\n",
       "      <td>0.000962</td>\n",
       "    </tr>\n",
       "    <tr>\n",
       "      <th>1180</th>\n",
       "      <td>482955</td>\n",
       "      <td>4</td>\n",
       "      <td>-2.0</td>\n",
       "      <td>0.027778</td>\n",
       "    </tr>\n",
       "    <tr>\n",
       "      <th>1181</th>\n",
       "      <td>482991</td>\n",
       "      <td>2</td>\n",
       "      <td>2.0</td>\n",
       "      <td>0.008929</td>\n",
       "    </tr>\n",
       "    <tr>\n",
       "      <th>1182</th>\n",
       "      <td>483103</td>\n",
       "      <td>4</td>\n",
       "      <td>-2.0</td>\n",
       "      <td>0.011905</td>\n",
       "    </tr>\n",
       "    <tr>\n",
       "      <th>1183</th>\n",
       "      <td>483187</td>\n",
       "      <td>2</td>\n",
       "      <td>NaN</td>\n",
       "      <td>NaN</td>\n",
       "    </tr>\n",
       "  </tbody>\n",
       "</table>\n",
       "<p>1184 rows × 4 columns</p>\n",
       "</div>"
      ],
      "text/plain": [
       "           t   n   dn     rates\n",
       "0         39  20 -2.0  0.027778\n",
       "1         75  18 -4.0  0.002551\n",
       "2        467  14  2.0  0.015625\n",
       "3        531  16 -2.0  0.008929\n",
       "4        643  14 -2.0  0.002976\n",
       "...      ...  ..  ...       ...\n",
       "1179  481915   6 -2.0  0.000962\n",
       "1180  482955   4 -2.0  0.027778\n",
       "1181  482991   2  2.0  0.008929\n",
       "1182  483103   4 -2.0  0.011905\n",
       "1183  483187   2  NaN       NaN\n",
       "\n",
       "[1184 rows x 4 columns]"
      ]
     },
     "execution_count": 109,
     "metadata": {},
     "output_type": "execute_result"
    }
   ],
   "source": [
    "#find that highest bdrates\n",
    "df[df.rates==df.rates.max()]\n",
    "df"
   ]
  },
  {
   "cell_type": "code",
   "execution_count": 110,
   "metadata": {
    "ExecuteTime": {
     "end_time": "2020-11-21T23:05:02.023073Z",
     "start_time": "2020-11-21T23:05:02.002028Z"
    }
   },
   "outputs": [],
   "source": [
    "max_high_frequency_times = df[df.rates==df.rates.max()].t.values\n",
    "first_max_high_frequency_time = max_high_frequency_times[0]"
   ]
  },
  {
   "cell_type": "code",
   "execution_count": 118,
   "metadata": {
    "ExecuteTime": {
     "end_time": "2020-11-21T23:11:00.463667Z",
     "start_time": "2020-11-21T23:11:00.428573Z"
    }
   },
   "outputs": [],
   "source": [
    "df[df.t==first_max_high_frequency_time]\n",
    "#Eureka! These 't' are really indices\n",
    "max_high_frequency_indices = max_high_frequency_times"
   ]
  },
  {
   "cell_type": "markdown",
   "metadata": {
    "heading_collapsed": true
   },
   "source": [
    "# import tip log and visualize the tips at those frames\n",
    "#TODO(later): compute the texture at that earliest time"
   ]
  },
  {
   "cell_type": "code",
   "execution_count": 126,
   "metadata": {
    "ExecuteTime": {
     "end_time": "2020-11-21T23:13:50.880763Z",
     "start_time": "2020-11-21T23:13:50.856297Z"
    },
    "hidden": true
   },
   "outputs": [],
   "source": [
    "os.chdir(save_folder)\n",
    "data_dir_txt = 'ic_200x200.001.13.npz'\n",
    "data_dir_log = \"ic_200x200.001.13_log.csv\"\n",
    "data_dir_traj  = \"ic_200x200.001.13_traj_sr_400_mem_2.csv\""
   ]
  },
  {
   "cell_type": "code",
   "execution_count": 127,
   "metadata": {
    "ExecuteTime": {
     "end_time": "2020-11-21T23:13:51.861853Z",
     "start_time": "2020-11-21T23:13:51.205456Z"
    },
    "hidden": true
   },
   "outputs": [],
   "source": [
    "df = pd.read_csv(data_dir_log)"
   ]
  },
  {
   "cell_type": "code",
   "execution_count": 139,
   "metadata": {
    "ExecuteTime": {
     "end_time": "2020-11-21T23:14:59.371357Z",
     "start_time": "2020-11-21T23:14:59.347899Z"
    },
    "hidden": true
   },
   "outputs": [],
   "source": [
    "#Eureka! These 't' are really indices\n",
    "max_high_frequency_time = float(df[df.index==max_high_frequency_indices[3]].t.values)\n"
   ]
  },
  {
   "cell_type": "code",
   "execution_count": 140,
   "metadata": {
    "ExecuteTime": {
     "end_time": "2020-11-21T23:15:00.105945Z",
     "start_time": "2020-11-21T23:15:00.076061Z"
    },
    "hidden": true
   },
   "outputs": [
    {
     "name": "stdout",
     "output_type": "stream",
     "text": [
      "[1.88331 0.90145 1.66922 1.26239 2.87989     nan 2.71775 2.36941 1.88331\n",
      " 0.90145 1.66922 1.26239 2.87989     nan 2.71775 2.36941]\n",
      "[1.90807 0.63428 1.67293 1.48849     nan 2.2201      nan 2.02781 1.90807\n",
      " 0.63428 1.67293 1.48849     nan 2.2201      nan 2.02781]\n",
      "[1.93142 0.50143 1.68232 1.29659     nan     nan 1.93142 0.50143 1.68232\n",
      " 1.29659     nan     nan]\n"
     ]
    }
   ],
   "source": [
    "\n",
    "#get tip data to plot\n",
    "gf = df[df.t==max_high_frequency_time-1]\n",
    "x_values = gf.x.values\n",
    "y_values = gf.y.values\n",
    "c_values = np.abs(gf.theta.values)\n",
    "print(c_values)\n",
    "\n",
    "gf = df[df.t==max_high_frequency_time]\n",
    "x_values = gf.x.values\n",
    "y_values = gf.y.values\n",
    "c_values = np.abs(gf.theta.values)\n",
    "print(c_values)\n",
    "\n",
    "gf = df[df.t==max_high_frequency_time+1]\n",
    "x_values = gf.x.values\n",
    "y_values = gf.y.values\n",
    "c_values = np.abs(gf.theta.values)\n",
    "print(c_values)"
   ]
  },
  {
   "cell_type": "code",
   "execution_count": 115,
   "metadata": {
    "ExecuteTime": {
     "end_time": "2020-11-21T23:05:34.290143Z",
     "start_time": "2020-11-21T23:05:33.080056Z"
    },
    "hidden": true
   },
   "outputs": [
    {
     "data": {
      "text/plain": [
       "0"
      ]
     },
     "execution_count": 115,
     "metadata": {},
     "output_type": "execute_result"
    }
   ],
   "source": [
    "sum(df.t==max_high_frequency_time)\n",
    "sum(np.isclose(df.t,max_high_frequency_time))"
   ]
  },
  {
   "cell_type": "code",
   "execution_count": 116,
   "metadata": {
    "ExecuteTime": {
     "end_time": "2020-11-21T23:05:34.561124Z",
     "start_time": "2020-11-21T23:05:34.515901Z"
    },
    "hidden": true
   },
   "outputs": [
    {
     "data": {
      "text/plain": [
       "count    483189.000000\n",
       "mean      14473.330943\n",
       "std        8226.487881\n",
       "min           0.000000\n",
       "25%        7427.000000\n",
       "50%       14677.000000\n",
       "75%       21714.000000\n",
       "max       28581.025000\n",
       "Name: t, dtype: float64"
      ]
     },
     "execution_count": 116,
     "metadata": {},
     "output_type": "execute_result"
    }
   ],
   "source": [
    "df.t.describe()"
   ]
  },
  {
   "cell_type": "code",
   "execution_count": 88,
   "metadata": {
    "ExecuteTime": {
     "end_time": "2020-11-21T22:51:16.822520Z",
     "start_time": "2020-11-21T22:51:16.797053Z"
    },
    "hidden": true
   },
   "outputs": [
    {
     "data": {
      "text/plain": [
       "65119"
      ]
     },
     "execution_count": 88,
     "metadata": {},
     "output_type": "execute_result"
    }
   ],
   "source": [
    "max_high_frequency_time"
   ]
  },
  {
   "cell_type": "code",
   "execution_count": 119,
   "metadata": {
    "ExecuteTime": {
     "end_time": "2020-11-21T23:12:14.016684Z",
     "start_time": "2020-11-21T23:12:13.327925Z"
    },
    "hidden": true,
    "scrolled": true
   },
   "outputs": [
    {
     "data": {
      "text/html": [
       "<div>\n",
       "<style scoped>\n",
       "    .dataframe tbody tr th:only-of-type {\n",
       "        vertical-align: middle;\n",
       "    }\n",
       "\n",
       "    .dataframe tbody tr th {\n",
       "        vertical-align: top;\n",
       "    }\n",
       "\n",
       "    .dataframe thead th {\n",
       "        text-align: right;\n",
       "    }\n",
       "</style>\n",
       "<table border=\"1\" class=\"dataframe\">\n",
       "  <thead>\n",
       "    <tr style=\"text-align: right;\">\n",
       "      <th></th>\n",
       "      <th>t</th>\n",
       "      <th>n</th>\n",
       "      <th>x</th>\n",
       "      <th>y</th>\n",
       "      <th>theta</th>\n",
       "      <th>grad_ux</th>\n",
       "      <th>grad_uy</th>\n",
       "      <th>grad_vx</th>\n",
       "      <th>grad_vy</th>\n",
       "      <th>v</th>\n",
       "      <th>f</th>\n",
       "      <th>s</th>\n",
       "      <th>dvdt</th>\n",
       "      <th>dfdt</th>\n",
       "      <th>dsdt</th>\n",
       "    </tr>\n",
       "  </thead>\n",
       "  <tbody>\n",
       "    <tr>\n",
       "      <th>0</th>\n",
       "      <td>0.0</td>\n",
       "      <td>20</td>\n",
       "      <td>0.95045</td>\n",
       "      <td>47.03408</td>\n",
       "      <td>1.98477</td>\n",
       "      <td>0.49952</td>\n",
       "      <td>1.00000</td>\n",
       "      <td>43.74147</td>\n",
       "      <td>0.13557</td>\n",
       "      <td>0.52435</td>\n",
       "      <td>0.01091</td>\n",
       "      <td>0.83900</td>\n",
       "      <td>0.32697</td>\n",
       "      <td>-0.00084</td>\n",
       "      <td>-0.00105</td>\n",
       "    </tr>\n",
       "    <tr>\n",
       "      <th>1</th>\n",
       "      <td>0.0</td>\n",
       "      <td>20</td>\n",
       "      <td>6.34369</td>\n",
       "      <td>2.40403</td>\n",
       "      <td>1.17551</td>\n",
       "      <td>-1.02701</td>\n",
       "      <td>6.66390</td>\n",
       "      <td>1.11790</td>\n",
       "      <td>0.61298</td>\n",
       "      <td>0.50346</td>\n",
       "      <td>0.07454</td>\n",
       "      <td>0.82358</td>\n",
       "      <td>-0.00010</td>\n",
       "      <td>-0.00572</td>\n",
       "      <td>-0.00103</td>\n",
       "    </tr>\n",
       "    <tr>\n",
       "      <th>2</th>\n",
       "      <td>0.0</td>\n",
       "      <td>20</td>\n",
       "      <td>10.57992</td>\n",
       "      <td>199.59560</td>\n",
       "      <td>2.89619</td>\n",
       "      <td>-0.14802</td>\n",
       "      <td>1.05754</td>\n",
       "      <td>0.08225</td>\n",
       "      <td>1.05059</td>\n",
       "      <td>0.48484</td>\n",
       "      <td>0.27666</td>\n",
       "      <td>0.87655</td>\n",
       "      <td>0.00795</td>\n",
       "      <td>-0.02123</td>\n",
       "      <td>-0.00110</td>\n",
       "    </tr>\n",
       "    <tr>\n",
       "      <th>3</th>\n",
       "      <td>0.0</td>\n",
       "      <td>20</td>\n",
       "      <td>51.37607</td>\n",
       "      <td>0.34081</td>\n",
       "      <td>1.50927</td>\n",
       "      <td>1.00000</td>\n",
       "      <td>-0.67824</td>\n",
       "      <td>0.99233</td>\n",
       "      <td>1.69736</td>\n",
       "      <td>0.50706</td>\n",
       "      <td>0.55666</td>\n",
       "      <td>0.93134</td>\n",
       "      <td>-0.01240</td>\n",
       "      <td>-0.04272</td>\n",
       "      <td>-0.00116</td>\n",
       "    </tr>\n",
       "    <tr>\n",
       "      <th>4</th>\n",
       "      <td>0.0</td>\n",
       "      <td>20</td>\n",
       "      <td>52.38630</td>\n",
       "      <td>57.23394</td>\n",
       "      <td>2.02178</td>\n",
       "      <td>3.69757</td>\n",
       "      <td>-1.45046</td>\n",
       "      <td>-0.23487</td>\n",
       "      <td>2.12278</td>\n",
       "      <td>0.47905</td>\n",
       "      <td>0.06825</td>\n",
       "      <td>0.81568</td>\n",
       "      <td>0.00059</td>\n",
       "      <td>-0.00524</td>\n",
       "      <td>-0.00102</td>\n",
       "    </tr>\n",
       "  </tbody>\n",
       "</table>\n",
       "</div>"
      ],
      "text/plain": [
       "     t   n         x          y    theta  grad_ux  grad_uy   grad_vx  grad_vy  \\\n",
       "0  0.0  20   0.95045   47.03408  1.98477  0.49952  1.00000  43.74147  0.13557   \n",
       "1  0.0  20   6.34369    2.40403  1.17551 -1.02701  6.66390   1.11790  0.61298   \n",
       "2  0.0  20  10.57992  199.59560  2.89619 -0.14802  1.05754   0.08225  1.05059   \n",
       "3  0.0  20  51.37607    0.34081  1.50927  1.00000 -0.67824   0.99233  1.69736   \n",
       "4  0.0  20  52.38630   57.23394  2.02178  3.69757 -1.45046  -0.23487  2.12278   \n",
       "\n",
       "         v        f        s     dvdt     dfdt     dsdt  \n",
       "0  0.52435  0.01091  0.83900  0.32697 -0.00084 -0.00105  \n",
       "1  0.50346  0.07454  0.82358 -0.00010 -0.00572 -0.00103  \n",
       "2  0.48484  0.27666  0.87655  0.00795 -0.02123 -0.00110  \n",
       "3  0.50706  0.55666  0.93134 -0.01240 -0.04272 -0.00116  \n",
       "4  0.47905  0.06825  0.81568  0.00059 -0.00524 -0.00102  "
      ]
     },
     "execution_count": 119,
     "metadata": {},
     "output_type": "execute_result"
    }
   ],
   "source": [
    "src = data_dir_log\n",
    "df = pd.read_csv(src)\n",
    "df.head()"
   ]
  },
  {
   "cell_type": "markdown",
   "metadata": {},
   "source": [
    "# TODO: scatter plot spiral tips as stars, coloring black/white by c_values during a high-frequency birth-death event"
   ]
  },
  {
   "cell_type": "code",
   "execution_count": 143,
   "metadata": {
    "ExecuteTime": {
     "end_time": "2020-11-22T01:41:17.287946Z",
     "start_time": "2020-11-22T01:41:17.267589Z"
    }
   },
   "outputs": [],
   "source": [
    "c_values = df.theta.isnull().values"
   ]
  },
  {
   "cell_type": "code",
   "execution_count": 145,
   "metadata": {
    "ExecuteTime": {
     "end_time": "2020-11-25T22:06:46.305228Z",
     "start_time": "2020-11-25T22:06:45.911669Z"
    }
   },
   "outputs": [
    {
     "data": {
      "text/plain": [
       "array([False, False, False, ..., False,  True,  True])"
      ]
     },
     "execution_count": 145,
     "metadata": {},
     "output_type": "execute_result"
    }
   ],
   "source": [
    "c_values"
   ]
  },
  {
   "cell_type": "code",
   "execution_count": 155,
   "metadata": {
    "ExecuteTime": {
     "end_time": "2020-11-27T20:40:51.696485Z",
     "start_time": "2020-11-27T20:40:51.649030Z"
    }
   },
   "outputs": [
    {
     "data": {
      "text/html": [
       "<div>\n",
       "<style scoped>\n",
       "    .dataframe tbody tr th:only-of-type {\n",
       "        vertical-align: middle;\n",
       "    }\n",
       "\n",
       "    .dataframe tbody tr th {\n",
       "        vertical-align: top;\n",
       "    }\n",
       "\n",
       "    .dataframe thead th {\n",
       "        text-align: right;\n",
       "    }\n",
       "</style>\n",
       "<table border=\"1\" class=\"dataframe\">\n",
       "  <thead>\n",
       "    <tr style=\"text-align: right;\">\n",
       "      <th></th>\n",
       "      <th>t</th>\n",
       "      <th>n</th>\n",
       "      <th>x</th>\n",
       "      <th>y</th>\n",
       "      <th>theta</th>\n",
       "      <th>grad_ux</th>\n",
       "      <th>grad_uy</th>\n",
       "      <th>grad_vx</th>\n",
       "      <th>grad_vy</th>\n",
       "      <th>v</th>\n",
       "      <th>f</th>\n",
       "      <th>s</th>\n",
       "      <th>dvdt</th>\n",
       "      <th>dfdt</th>\n",
       "      <th>dsdt</th>\n",
       "    </tr>\n",
       "  </thead>\n",
       "  <tbody>\n",
       "    <tr>\n",
       "      <th>0</th>\n",
       "      <td>0.0</td>\n",
       "      <td>20</td>\n",
       "      <td>0.95045</td>\n",
       "      <td>47.03408</td>\n",
       "      <td>1.98477</td>\n",
       "      <td>0.49952</td>\n",
       "      <td>1.00000</td>\n",
       "      <td>43.74147</td>\n",
       "      <td>0.13557</td>\n",
       "      <td>0.52435</td>\n",
       "      <td>0.01091</td>\n",
       "      <td>0.83900</td>\n",
       "      <td>0.32697</td>\n",
       "      <td>-0.00084</td>\n",
       "      <td>-0.00105</td>\n",
       "    </tr>\n",
       "    <tr>\n",
       "      <th>1</th>\n",
       "      <td>0.0</td>\n",
       "      <td>20</td>\n",
       "      <td>6.34369</td>\n",
       "      <td>2.40403</td>\n",
       "      <td>1.17551</td>\n",
       "      <td>-1.02701</td>\n",
       "      <td>6.66390</td>\n",
       "      <td>1.11790</td>\n",
       "      <td>0.61298</td>\n",
       "      <td>0.50346</td>\n",
       "      <td>0.07454</td>\n",
       "      <td>0.82358</td>\n",
       "      <td>-0.00010</td>\n",
       "      <td>-0.00572</td>\n",
       "      <td>-0.00103</td>\n",
       "    </tr>\n",
       "    <tr>\n",
       "      <th>2</th>\n",
       "      <td>0.0</td>\n",
       "      <td>20</td>\n",
       "      <td>10.57992</td>\n",
       "      <td>199.59560</td>\n",
       "      <td>2.89619</td>\n",
       "      <td>-0.14802</td>\n",
       "      <td>1.05754</td>\n",
       "      <td>0.08225</td>\n",
       "      <td>1.05059</td>\n",
       "      <td>0.48484</td>\n",
       "      <td>0.27666</td>\n",
       "      <td>0.87655</td>\n",
       "      <td>0.00795</td>\n",
       "      <td>-0.02123</td>\n",
       "      <td>-0.00110</td>\n",
       "    </tr>\n",
       "    <tr>\n",
       "      <th>3</th>\n",
       "      <td>0.0</td>\n",
       "      <td>20</td>\n",
       "      <td>51.37607</td>\n",
       "      <td>0.34081</td>\n",
       "      <td>1.50927</td>\n",
       "      <td>1.00000</td>\n",
       "      <td>-0.67824</td>\n",
       "      <td>0.99233</td>\n",
       "      <td>1.69736</td>\n",
       "      <td>0.50706</td>\n",
       "      <td>0.55666</td>\n",
       "      <td>0.93134</td>\n",
       "      <td>-0.01240</td>\n",
       "      <td>-0.04272</td>\n",
       "      <td>-0.00116</td>\n",
       "    </tr>\n",
       "    <tr>\n",
       "      <th>4</th>\n",
       "      <td>0.0</td>\n",
       "      <td>20</td>\n",
       "      <td>52.38630</td>\n",
       "      <td>57.23394</td>\n",
       "      <td>2.02178</td>\n",
       "      <td>3.69757</td>\n",
       "      <td>-1.45046</td>\n",
       "      <td>-0.23487</td>\n",
       "      <td>2.12278</td>\n",
       "      <td>0.47905</td>\n",
       "      <td>0.06825</td>\n",
       "      <td>0.81568</td>\n",
       "      <td>0.00059</td>\n",
       "      <td>-0.00524</td>\n",
       "      <td>-0.00102</td>\n",
       "    </tr>\n",
       "  </tbody>\n",
       "</table>\n",
       "</div>"
      ],
      "text/plain": [
       "     t   n         x          y    theta  grad_ux  grad_uy   grad_vx  grad_vy  \\\n",
       "0  0.0  20   0.95045   47.03408  1.98477  0.49952  1.00000  43.74147  0.13557   \n",
       "1  0.0  20   6.34369    2.40403  1.17551 -1.02701  6.66390   1.11790  0.61298   \n",
       "2  0.0  20  10.57992  199.59560  2.89619 -0.14802  1.05754   0.08225  1.05059   \n",
       "3  0.0  20  51.37607    0.34081  1.50927  1.00000 -0.67824   0.99233  1.69736   \n",
       "4  0.0  20  52.38630   57.23394  2.02178  3.69757 -1.45046  -0.23487  2.12278   \n",
       "\n",
       "         v        f        s     dvdt     dfdt     dsdt  \n",
       "0  0.52435  0.01091  0.83900  0.32697 -0.00084 -0.00105  \n",
       "1  0.50346  0.07454  0.82358 -0.00010 -0.00572 -0.00103  \n",
       "2  0.48484  0.27666  0.87655  0.00795 -0.02123 -0.00110  \n",
       "3  0.50706  0.55666  0.93134 -0.01240 -0.04272 -0.00116  \n",
       "4  0.47905  0.06825  0.81568  0.00059 -0.00524 -0.00102  "
      ]
     },
     "execution_count": 155,
     "metadata": {},
     "output_type": "execute_result"
    }
   ],
   "source": [
    "df.head()"
   ]
  },
  {
   "cell_type": "code",
   "execution_count": 154,
   "metadata": {
    "ExecuteTime": {
     "end_time": "2020-11-27T20:40:42.307573Z",
     "start_time": "2020-11-27T20:40:42.196211Z"
    }
   },
   "outputs": [],
   "source": [
    "# df.describe().T"
   ]
  },
  {
   "cell_type": "code",
   "execution_count": 157,
   "metadata": {
    "ExecuteTime": {
     "end_time": "2020-11-27T20:41:21.459848Z",
     "start_time": "2020-11-27T20:41:21.429945Z"
    }
   },
   "outputs": [
    {
     "name": "stdout",
     "output_type": "stream",
     "text": [
      "Is the ratio of virtual spiral tips to spiral tips = -0.081?\n"
     ]
    }
   ],
   "source": [
    "print(f\"Is the ratio of virtual spiral tips to spiral tips = {1-df.t.count()/df.theta.count():.3f}?\")"
   ]
  },
  {
   "cell_type": "code",
   "execution_count": 159,
   "metadata": {
    "ExecuteTime": {
     "end_time": "2020-11-27T20:43:30.328966Z",
     "start_time": "2020-11-27T20:43:30.271980Z"
    }
   },
   "outputs": [
    {
     "data": {
      "text/plain": [
       "0         1.98477\n",
       "1         1.17551\n",
       "2         2.89619\n",
       "3         1.50927\n",
       "4         2.02178\n",
       "           ...   \n",
       "483181    2.23391\n",
       "483182    2.61639\n",
       "483183    2.23391\n",
       "483184    2.56158\n",
       "483186    2.56158\n",
       "Name: theta, Length: 446800, dtype: float64"
      ]
     },
     "execution_count": 159,
     "metadata": {},
     "output_type": "execute_result"
    }
   ],
   "source": [
    "df.theta.dropna()"
   ]
  },
  {
   "cell_type": "code",
   "execution_count": null,
   "metadata": {},
   "outputs": [],
   "source": []
  }
 ],
 "metadata": {
  "kernelspec": {
   "display_name": "Python 3",
   "language": "python",
   "name": "python3"
  },
  "language_info": {
   "codemirror_mode": {
    "name": "ipython",
    "version": 3
   },
   "file_extension": ".py",
   "mimetype": "text/x-python",
   "name": "python",
   "nbconvert_exporter": "python",
   "pygments_lexer": "ipython3",
   "version": "3.8.6"
  },
  "varInspector": {
   "cols": {
    "lenName": 16,
    "lenType": 16,
    "lenVar": 40
   },
   "kernels_config": {
    "python": {
     "delete_cmd_postfix": "",
     "delete_cmd_prefix": "del ",
     "library": "var_list.py",
     "varRefreshCmd": "print(var_dic_list())"
    },
    "r": {
     "delete_cmd_postfix": ") ",
     "delete_cmd_prefix": "rm(",
     "library": "var_list.r",
     "varRefreshCmd": "cat(var_dic_list()) "
    }
   },
   "types_to_exclude": [
    "module",
    "function",
    "builtin_function_or_method",
    "instance",
    "_Feature"
   ],
   "window_display": false
  }
 },
 "nbformat": 4,
 "nbformat_minor": 4
}
