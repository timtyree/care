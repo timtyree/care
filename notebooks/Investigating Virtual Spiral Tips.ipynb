{
 "cells": [
  {
   "cell_type": "markdown",
   "metadata": {},
   "source": [
    "# Investigating virtual spiral tips\n",
    "Tim Tyree<br>\n",
    "11.21.2020"
   ]
  },
  {
   "cell_type": "code",
   "execution_count": 1,
   "metadata": {
    "ExecuteTime": {
     "end_time": "2020-11-30T02:53:38.435422Z",
     "start_time": "2020-11-30T02:53:35.460143Z"
    }
   },
   "outputs": [
    {
     "name": "stdout",
     "output_type": "stream",
     "text": [
      "100000\n",
      "Automatic calling is: Smart\n"
     ]
    }
   ],
   "source": [
    "#pylab\n",
    "%matplotlib inline\n",
    "import numpy as np, pandas as pd, matplotlib.pyplot as plt\n",
    "from pylab import imshow, show\n",
    "\n",
    "\n",
    "import numba, trackpy, sklearn\n",
    "# from numba import njit, jit, vectorize\n",
    "# from PIL import Image\n",
    "# import imageio\n",
    "# import cv2 as cv\n",
    "# from dask import daskbag as db\n",
    "#automate the boring stuff\n",
    "from IPython import utils\n",
    "import time, os, sys, re\n",
    "beep = lambda x: os.system(\"echo -n '\\\\a';sleep 0.2;\" * x)\n",
    "if not 'nb_dir' in globals():\n",
    "    nb_dir = os.getcwd()\n",
    "\n",
    "#load the libraries\n",
    "from lib import *\n",
    "from lib.dist_func import *\n",
    "# from lib.operari import *\n",
    "# from lib.ProgressBar import *\n",
    "# from lib.minimal_model import *\n",
    "# from lib.TexturePlot import *\n",
    "# from lib.get_tips import *\n",
    "# from lib.minimal_model import *\n",
    "# from lib.intersection import *\n",
    "# from numba import jit, njit, vectorize, cuda, uint32, f8, uint8\n",
    "# from lib.contours_to_tips import *\n",
    "\n",
    "%autocall 1\n",
    "%load_ext autoreload\n",
    "%autoreload 2"
   ]
  },
  {
   "cell_type": "markdown",
   "metadata": {},
   "source": [
    "# step 1: compute birth-death rates from log and identify a fast birth-death event from the resulting csv"
   ]
  },
  {
   "cell_type": "code",
   "execution_count": 104,
   "metadata": {
    "ExecuteTime": {
     "end_time": "2020-11-21T23:01:20.647650Z",
     "start_time": "2020-11-21T23:01:20.621773Z"
    }
   },
   "outputs": [],
   "source": [
    "from lib.routines.bdrates import *"
   ]
  },
  {
   "cell_type": "code",
   "execution_count": 105,
   "metadata": {
    "ExecuteTime": {
     "end_time": "2020-11-21T23:01:34.763460Z",
     "start_time": "2020-11-21T23:01:21.131371Z"
    }
   },
   "outputs": [],
   "source": [
    "# input_file_name = search_for_file()\n",
    "input_file_name = \"/Users/timothytyree/Documents/GitHub/care/notebooks/Data/test_data/ic_200x200.001.13_log.csv\"\n",
    "# output_file_name = input_file_name.replace('log.csv','bdrates.csv')\n",
    "\n",
    "save_folder=\"/Users/timothytyree/Documents/GitHub/care/notebooks/Data/test_data/\"\n",
    "outdir = log_to_bdrates_routine(input_file_name, save_folder, min_time_between_samples=1)\n",
    "# log_to_bdrates(input_file_name, output_file_name)\n",
    "\n",
    "data_dir_bdrates = outdir"
   ]
  },
  {
   "cell_type": "code",
   "execution_count": 106,
   "metadata": {
    "ExecuteTime": {
     "end_time": "2020-11-21T23:04:42.511926Z",
     "start_time": "2020-11-21T23:04:42.480806Z"
    }
   },
   "outputs": [],
   "source": [
    "df =  pd.read_csv(data_dir_bdrates)"
   ]
  },
  {
   "cell_type": "code",
   "execution_count": 107,
   "metadata": {
    "ExecuteTime": {
     "end_time": "2020-11-21T23:04:44.032275Z",
     "start_time": "2020-11-21T23:04:44.003225Z"
    }
   },
   "outputs": [
    {
     "data": {
      "text/html": [
       "<div>\n",
       "<style scoped>\n",
       "    .dataframe tbody tr th:only-of-type {\n",
       "        vertical-align: middle;\n",
       "    }\n",
       "\n",
       "    .dataframe tbody tr th {\n",
       "        vertical-align: top;\n",
       "    }\n",
       "\n",
       "    .dataframe thead th {\n",
       "        text-align: right;\n",
       "    }\n",
       "</style>\n",
       "<table border=\"1\" class=\"dataframe\">\n",
       "  <thead>\n",
       "    <tr style=\"text-align: right;\">\n",
       "      <th></th>\n",
       "      <th>t</th>\n",
       "      <th>n</th>\n",
       "      <th>dn</th>\n",
       "      <th>rates</th>\n",
       "    </tr>\n",
       "  </thead>\n",
       "  <tbody>\n",
       "    <tr>\n",
       "      <th>0</th>\n",
       "      <td>39</td>\n",
       "      <td>20</td>\n",
       "      <td>-2.0</td>\n",
       "      <td>0.027778</td>\n",
       "    </tr>\n",
       "    <tr>\n",
       "      <th>1</th>\n",
       "      <td>75</td>\n",
       "      <td>18</td>\n",
       "      <td>-4.0</td>\n",
       "      <td>0.002551</td>\n",
       "    </tr>\n",
       "    <tr>\n",
       "      <th>2</th>\n",
       "      <td>467</td>\n",
       "      <td>14</td>\n",
       "      <td>2.0</td>\n",
       "      <td>0.015625</td>\n",
       "    </tr>\n",
       "    <tr>\n",
       "      <th>3</th>\n",
       "      <td>531</td>\n",
       "      <td>16</td>\n",
       "      <td>-2.0</td>\n",
       "      <td>0.008929</td>\n",
       "    </tr>\n",
       "    <tr>\n",
       "      <th>4</th>\n",
       "      <td>643</td>\n",
       "      <td>14</td>\n",
       "      <td>-2.0</td>\n",
       "      <td>0.002976</td>\n",
       "    </tr>\n",
       "  </tbody>\n",
       "</table>\n",
       "</div>"
      ],
      "text/plain": [
       "     t   n   dn     rates\n",
       "0   39  20 -2.0  0.027778\n",
       "1   75  18 -4.0  0.002551\n",
       "2  467  14  2.0  0.015625\n",
       "3  531  16 -2.0  0.008929\n",
       "4  643  14 -2.0  0.002976"
      ]
     },
     "execution_count": 107,
     "metadata": {},
     "output_type": "execute_result"
    }
   ],
   "source": [
    "df.head()"
   ]
  },
  {
   "cell_type": "code",
   "execution_count": 108,
   "metadata": {
    "ExecuteTime": {
     "end_time": "2020-11-21T23:04:48.005712Z",
     "start_time": "2020-11-21T23:04:47.779789Z"
    }
   },
   "outputs": [
    {
     "data": {
      "image/png": "[encoded data removed]",
      "text/plain": [
       "<Figure size 432x288 with 1 Axes>"
      ]
     },
     "metadata": {
      "needs_background": "light"
     },
     "output_type": "display_data"
    }
   ],
   "source": [
    "plt.hist(df.rates, bins=30)\n",
    "plt.show()"
   ]
  },
  {
   "cell_type": "code",
   "execution_count": 109,
   "metadata": {
    "ExecuteTime": {
     "end_time": "2020-11-21T23:04:48.958508Z",
     "start_time": "2020-11-21T23:04:48.921521Z"
    }
   },
   "outputs": [
    {
     "data": {
      "text/html": [
       "<div>\n",
       "<style scoped>\n",
       "    .dataframe tbody tr th:only-of-type {\n",
       "        vertical-align: middle;\n",
       "    }\n",
       "\n",
       "    .dataframe tbody tr th {\n",
       "        vertical-align: top;\n",
       "    }\n",
       "\n",
       "    .dataframe thead th {\n",
       "        text-align: right;\n",
       "    }\n",
       "</style>\n",
       "<table border=\"1\" class=\"dataframe\">\n",
       "  <thead>\n",
       "    <tr style=\"text-align: right;\">\n",
       "      <th></th>\n",
       "      <th>t</th>\n",
       "      <th>n</th>\n",
       "      <th>dn</th>\n",
       "      <th>rates</th>\n",
       "    </tr>\n",
       "  </thead>\n",
       "  <tbody>\n",
       "    <tr>\n",
       "      <th>0</th>\n",
       "      <td>39</td>\n",
       "      <td>20</td>\n",
       "      <td>-2.0</td>\n",
       "      <td>0.027778</td>\n",
       "    </tr>\n",
       "    <tr>\n",
       "      <th>1</th>\n",
       "      <td>75</td>\n",
       "      <td>18</td>\n",
       "      <td>-4.0</td>\n",
       "      <td>0.002551</td>\n",
       "    </tr>\n",
       "    <tr>\n",
       "      <th>2</th>\n",
       "      <td>467</td>\n",
       "      <td>14</td>\n",
       "      <td>2.0</td>\n",
       "      <td>0.015625</td>\n",
       "    </tr>\n",
       "    <tr>\n",
       "      <th>3</th>\n",
       "      <td>531</td>\n",
       "      <td>16</td>\n",
       "      <td>-2.0</td>\n",
       "      <td>0.008929</td>\n",
       "    </tr>\n",
       "    <tr>\n",
       "      <th>4</th>\n",
       "      <td>643</td>\n",
       "      <td>14</td>\n",
       "      <td>-2.0</td>\n",
       "      <td>0.002976</td>\n",
       "    </tr>\n",
       "    <tr>\n",
       "      <th>...</th>\n",
       "      <td>...</td>\n",
       "      <td>...</td>\n",
       "      <td>...</td>\n",
       "      <td>...</td>\n",
       "    </tr>\n",
       "    <tr>\n",
       "      <th>1179</th>\n",
       "      <td>481915</td>\n",
       "      <td>6</td>\n",
       "      <td>-2.0</td>\n",
       "      <td>0.000962</td>\n",
       "    </tr>\n",
       "    <tr>\n",
       "      <th>1180</th>\n",
       "      <td>482955</td>\n",
       "      <td>4</td>\n",
       "      <td>-2.0</td>\n",
       "      <td>0.027778</td>\n",
       "    </tr>\n",
       "    <tr>\n",
       "      <th>1181</th>\n",
       "      <td>482991</td>\n",
       "      <td>2</td>\n",
       "      <td>2.0</td>\n",
       "      <td>0.008929</td>\n",
       "    </tr>\n",
       "    <tr>\n",
       "      <th>1182</th>\n",
       "      <td>483103</td>\n",
       "      <td>4</td>\n",
       "      <td>-2.0</td>\n",
       "      <td>0.011905</td>\n",
       "    </tr>\n",
       "    <tr>\n",
       "      <th>1183</th>\n",
       "      <td>483187</td>\n",
       "      <td>2</td>\n",
       "      <td>NaN</td>\n",
       "      <td>NaN</td>\n",
       "    </tr>\n",
       "  </tbody>\n",
       "</table>\n",
       "<p>1184 rows × 4 columns</p>\n",
       "</div>"
      ],
      "text/plain": [
       "           t   n   dn     rates\n",
       "0         39  20 -2.0  0.027778\n",
       "1         75  18 -4.0  0.002551\n",
       "2        467  14  2.0  0.015625\n",
       "3        531  16 -2.0  0.008929\n",
       "4        643  14 -2.0  0.002976\n",
       "...      ...  ..  ...       ...\n",
       "1179  481915   6 -2.0  0.000962\n",
       "1180  482955   4 -2.0  0.027778\n",
       "1181  482991   2  2.0  0.008929\n",
       "1182  483103   4 -2.0  0.011905\n",
       "1183  483187   2  NaN       NaN\n",
       "\n",
       "[1184 rows x 4 columns]"
      ]
     },
     "execution_count": 109,
     "metadata": {},
     "output_type": "execute_result"
    }
   ],
   "source": [
    "#find that highest bdrates\n",
    "df[df.rates==df.rates.max()]\n",
    "df"
   ]
  },
  {
   "cell_type": "code",
   "execution_count": 110,
   "metadata": {
    "ExecuteTime": {
     "end_time": "2020-11-21T23:05:02.023073Z",
     "start_time": "2020-11-21T23:05:02.002028Z"
    }
   },
   "outputs": [],
   "source": [
    "max_high_frequency_times = df[df.rates==df.rates.max()].t.values\n",
    "first_max_high_frequency_time = max_high_frequency_times[0]"
   ]
  },
  {
   "cell_type": "code",
   "execution_count": 118,
   "metadata": {
    "ExecuteTime": {
     "end_time": "2020-11-21T23:11:00.463667Z",
     "start_time": "2020-11-21T23:11:00.428573Z"
    }
   },
   "outputs": [],
   "source": [
    "df[df.t==first_max_high_frequency_time]\n",
    "#Eureka! These 't' are really indices\n",
    "max_high_frequency_indices = max_high_frequency_times"
   ]
  },
  {
   "cell_type": "markdown",
   "metadata": {},
   "source": [
    "# import tip log and visualize the tips at those frames\n",
    "#TODO(later): compute the texture at that earliest time"
   ]
  },
  {
   "cell_type": "code",
   "execution_count": 126,
   "metadata": {
    "ExecuteTime": {
     "end_time": "2020-11-21T23:13:50.880763Z",
     "start_time": "2020-11-21T23:13:50.856297Z"
    }
   },
   "outputs": [],
   "source": [
    "os.chdir(save_folder)\n",
    "data_dir_txt = 'ic_200x200.001.13.npz'\n",
    "data_dir_log = \"ic_200x200.001.13_log.csv\"\n",
    "data_dir_traj  = \"ic_200x200.001.13_traj_sr_400_mem_2.csv\""
   ]
  },
  {
   "cell_type": "code",
   "execution_count": 127,
   "metadata": {
    "ExecuteTime": {
     "end_time": "2020-11-21T23:13:51.861853Z",
     "start_time": "2020-11-21T23:13:51.205456Z"
    }
   },
   "outputs": [],
   "source": [
    "df = pd.read_csv(data_dir_log)"
   ]
  },
  {
   "cell_type": "code",
   "execution_count": 139,
   "metadata": {
    "ExecuteTime": {
     "end_time": "2020-11-21T23:14:59.371357Z",
     "start_time": "2020-11-21T23:14:59.347899Z"
    }
   },
   "outputs": [],
   "source": [
    "#Eureka! These 't' are really indices\n",
    "max_high_frequency_time = float(df[df.index==max_high_frequency_indices[3]].t.values)\n"
   ]
  },
  {
   "cell_type": "code",
   "execution_count": 140,
   "metadata": {
    "ExecuteTime": {
     "end_time": "2020-11-21T23:15:00.105945Z",
     "start_time": "2020-11-21T23:15:00.076061Z"
    }
   },
   "outputs": [
    {
     "name": "stdout",
     "output_type": "stream",
     "text": [
      "[1.88331 0.90145 1.66922 1.26239 2.87989     nan 2.71775 2.36941 1.88331\n",
      " 0.90145 1.66922 1.26239 2.87989     nan 2.71775 2.36941]\n",
      "[1.90807 0.63428 1.67293 1.48849     nan 2.2201      nan 2.02781 1.90807\n",
      " 0.63428 1.67293 1.48849     nan 2.2201      nan 2.02781]\n",
      "[1.93142 0.50143 1.68232 1.29659     nan     nan 1.93142 0.50143 1.68232\n",
      " 1.29659     nan     nan]\n"
     ]
    }
   ],
   "source": [
    "\n",
    "#get tip data to plot\n",
    "gf = df[df.t==max_high_frequency_time-1]\n",
    "x_values = gf.x.values\n",
    "y_values = gf.y.values\n",
    "c_values = np.abs(gf.theta.values)\n",
    "print(c_values)\n",
    "\n",
    "gf = df[df.t==max_high_frequency_time]\n",
    "x_values = gf.x.values\n",
    "y_values = gf.y.values\n",
    "c_values = np.abs(gf.theta.values)\n",
    "print(c_values)\n",
    "\n",
    "gf = df[df.t==max_high_frequency_time+1]\n",
    "x_values = gf.x.values\n",
    "y_values = gf.y.values\n",
    "c_values = np.abs(gf.theta.values)\n",
    "print(c_values)"
   ]
  },
  {
   "cell_type": "code",
   "execution_count": 115,
   "metadata": {
    "ExecuteTime": {
     "end_time": "2020-11-21T23:05:34.290143Z",
     "start_time": "2020-11-21T23:05:33.080056Z"
    }
   },
   "outputs": [
    {
     "data": {
      "text/plain": [
       "0"
      ]
     },
     "execution_count": 115,
     "metadata": {},
     "output_type": "execute_result"
    }
   ],
   "source": [
    "sum(df.t==max_high_frequency_time)\n",
    "sum(np.isclose(df.t,max_high_frequency_time))"
   ]
  },
  {
   "cell_type": "code",
   "execution_count": 116,
   "metadata": {
    "ExecuteTime": {
     "end_time": "2020-11-21T23:05:34.561124Z",
     "start_time": "2020-11-21T23:05:34.515901Z"
    }
   },
   "outputs": [
    {
     "data": {
      "text/plain": [
       "count    483189.000000\n",
       "mean      14473.330943\n",
       "std        8226.487881\n",
       "min           0.000000\n",
       "25%        7427.000000\n",
       "50%       14677.000000\n",
       "75%       21714.000000\n",
       "max       28581.025000\n",
       "Name: t, dtype: float64"
      ]
     },
     "execution_count": 116,
     "metadata": {},
     "output_type": "execute_result"
    }
   ],
   "source": [
    "df.t.describe()"
   ]
  },
  {
   "cell_type": "code",
   "execution_count": 88,
   "metadata": {
    "ExecuteTime": {
     "end_time": "2020-11-21T22:51:16.822520Z",
     "start_time": "2020-11-21T22:51:16.797053Z"
    }
   },
   "outputs": [
    {
     "data": {
      "text/plain": [
       "65119"
      ]
     },
     "execution_count": 88,
     "metadata": {},
     "output_type": "execute_result"
    }
   ],
   "source": [
    "max_high_frequency_time"
   ]
  },
  {
   "cell_type": "code",
   "execution_count": 119,
   "metadata": {
    "ExecuteTime": {
     "end_time": "2020-11-21T23:12:14.016684Z",
     "start_time": "2020-11-21T23:12:13.327925Z"
    },
    "scrolled": true
   },
   "outputs": [
    {
     "data": {
      "text/html": [
       "<div>\n",
       "<style scoped>\n",
       "    .dataframe tbody tr th:only-of-type {\n",
       "        vertical-align: middle;\n",
       "    }\n",
       "\n",
       "    .dataframe tbody tr th {\n",
       "        vertical-align: top;\n",
       "    }\n",
       "\n",
       "    .dataframe thead th {\n",
       "        text-align: right;\n",
       "    }\n",
       "</style>\n",
       "<table border=\"1\" class=\"dataframe\">\n",
       "  <thead>\n",
       "    <tr style=\"text-align: right;\">\n",
       "      <th></th>\n",
       "      <th>t</th>\n",
       "      <th>n</th>\n",
       "      <th>x</th>\n",
       "      <th>y</th>\n",
       "      <th>theta</th>\n",
       "      <th>grad_ux</th>\n",
       "      <th>grad_uy</th>\n",
       "      <th>grad_vx</th>\n",
       "      <th>grad_vy</th>\n",
       "      <th>v</th>\n",
       "      <th>f</th>\n",
       "      <th>s</th>\n",
       "      <th>dvdt</th>\n",
       "      <th>dfdt</th>\n",
       "      <th>dsdt</th>\n",
       "    </tr>\n",
       "  </thead>\n",
       "  <tbody>\n",
       "    <tr>\n",
       "      <th>0</th>\n",
       "      <td>0.0</td>\n",
       "      <td>20</td>\n",
       "      <td>0.95045</td>\n",
       "      <td>47.03408</td>\n",
       "      <td>1.98477</td>\n",
       "      <td>0.49952</td>\n",
       "      <td>1.00000</td>\n",
       "      <td>43.74147</td>\n",
       "      <td>0.13557</td>\n",
       "      <td>0.52435</td>\n",
       "      <td>0.01091</td>\n",
       "      <td>0.83900</td>\n",
       "      <td>0.32697</td>\n",
       "      <td>-0.00084</td>\n",
       "      <td>-0.00105</td>\n",
       "    </tr>\n",
       "    <tr>\n",
       "      <th>1</th>\n",
       "      <td>0.0</td>\n",
       "      <td>20</td>\n",
       "      <td>6.34369</td>\n",
       "      <td>2.40403</td>\n",
       "      <td>1.17551</td>\n",
       "      <td>-1.02701</td>\n",
       "      <td>6.66390</td>\n",
       "      <td>1.11790</td>\n",
       "      <td>0.61298</td>\n",
       "      <td>0.50346</td>\n",
       "      <td>0.07454</td>\n",
       "      <td>0.82358</td>\n",
       "      <td>-0.00010</td>\n",
       "      <td>-0.00572</td>\n",
       "      <td>-0.00103</td>\n",
       "    </tr>\n",
       "    <tr>\n",
       "      <th>2</th>\n",
       "      <td>0.0</td>\n",
       "      <td>20</td>\n",
       "      <td>10.57992</td>\n",
       "      <td>199.59560</td>\n",
       "      <td>2.89619</td>\n",
       "      <td>-0.14802</td>\n",
       "      <td>1.05754</td>\n",
       "      <td>0.08225</td>\n",
       "      <td>1.05059</td>\n",
       "      <td>0.48484</td>\n",
       "      <td>0.27666</td>\n",
       "      <td>0.87655</td>\n",
       "      <td>0.00795</td>\n",
       "      <td>-0.02123</td>\n",
       "      <td>-0.00110</td>\n",
       "    </tr>\n",
       "    <tr>\n",
       "      <th>3</th>\n",
       "      <td>0.0</td>\n",
       "      <td>20</td>\n",
       "      <td>51.37607</td>\n",
       "      <td>0.34081</td>\n",
       "      <td>1.50927</td>\n",
       "      <td>1.00000</td>\n",
       "      <td>-0.67824</td>\n",
       "      <td>0.99233</td>\n",
       "      <td>1.69736</td>\n",
       "      <td>0.50706</td>\n",
       "      <td>0.55666</td>\n",
       "      <td>0.93134</td>\n",
       "      <td>-0.01240</td>\n",
       "      <td>-0.04272</td>\n",
       "      <td>-0.00116</td>\n",
       "    </tr>\n",
       "    <tr>\n",
       "      <th>4</th>\n",
       "      <td>0.0</td>\n",
       "      <td>20</td>\n",
       "      <td>52.38630</td>\n",
       "      <td>57.23394</td>\n",
       "      <td>2.02178</td>\n",
       "      <td>3.69757</td>\n",
       "      <td>-1.45046</td>\n",
       "      <td>-0.23487</td>\n",
       "      <td>2.12278</td>\n",
       "      <td>0.47905</td>\n",
       "      <td>0.06825</td>\n",
       "      <td>0.81568</td>\n",
       "      <td>0.00059</td>\n",
       "      <td>-0.00524</td>\n",
       "      <td>-0.00102</td>\n",
       "    </tr>\n",
       "  </tbody>\n",
       "</table>\n",
       "</div>"
      ],
      "text/plain": [
       "     t   n         x          y    theta  grad_ux  grad_uy   grad_vx  grad_vy  \\\n",
       "0  0.0  20   0.95045   47.03408  1.98477  0.49952  1.00000  43.74147  0.13557   \n",
       "1  0.0  20   6.34369    2.40403  1.17551 -1.02701  6.66390   1.11790  0.61298   \n",
       "2  0.0  20  10.57992  199.59560  2.89619 -0.14802  1.05754   0.08225  1.05059   \n",
       "3  0.0  20  51.37607    0.34081  1.50927  1.00000 -0.67824   0.99233  1.69736   \n",
       "4  0.0  20  52.38630   57.23394  2.02178  3.69757 -1.45046  -0.23487  2.12278   \n",
       "\n",
       "         v        f        s     dvdt     dfdt     dsdt  \n",
       "0  0.52435  0.01091  0.83900  0.32697 -0.00084 -0.00105  \n",
       "1  0.50346  0.07454  0.82358 -0.00010 -0.00572 -0.00103  \n",
       "2  0.48484  0.27666  0.87655  0.00795 -0.02123 -0.00110  \n",
       "3  0.50706  0.55666  0.93134 -0.01240 -0.04272 -0.00116  \n",
       "4  0.47905  0.06825  0.81568  0.00059 -0.00524 -0.00102  "
      ]
     },
     "execution_count": 119,
     "metadata": {},
     "output_type": "execute_result"
    }
   ],
   "source": [
    "src = data_dir_log\n",
    "df = pd.read_csv(src)\n",
    "df.head()"
   ]
  },
  {
   "cell_type": "markdown",
   "metadata": {},
   "source": [
    "# TODO: scatter plot spiral tips as stars, coloring black/white by c_values during a high-frequency birth-death event"
   ]
  },
  {
   "cell_type": "code",
   "execution_count": 143,
   "metadata": {
    "ExecuteTime": {
     "end_time": "2020-11-22T01:41:17.287946Z",
     "start_time": "2020-11-22T01:41:17.267589Z"
    }
   },
   "outputs": [],
   "source": [
    "c_values = df.theta.isnull().values"
   ]
  },
  {
   "cell_type": "code",
   "execution_count": 145,
   "metadata": {
    "ExecuteTime": {
     "end_time": "2020-11-25T22:06:46.305228Z",
     "start_time": "2020-11-25T22:06:45.911669Z"
    }
   },
   "outputs": [
    {
     "data": {
      "text/plain": [
       "array([False, False, False, ..., False,  True,  True])"
      ]
     },
     "execution_count": 145,
     "metadata": {},
     "output_type": "execute_result"
    }
   ],
   "source": [
    "c_values"
   ]
  },
  {
   "cell_type": "code",
   "execution_count": 155,
   "metadata": {
    "ExecuteTime": {
     "end_time": "2020-11-27T20:40:51.696485Z",
     "start_time": "2020-11-27T20:40:51.649030Z"
    }
   },
   "outputs": [
    {
     "data": {
      "text/html": [
       "<div>\n",
       "<style scoped>\n",
       "    .dataframe tbody tr th:only-of-type {\n",
       "        vertical-align: middle;\n",
       "    }\n",
       "\n",
       "    .dataframe tbody tr th {\n",
       "        vertical-align: top;\n",
       "    }\n",
       "\n",
       "    .dataframe thead th {\n",
       "        text-align: right;\n",
       "    }\n",
       "</style>\n",
       "<table border=\"1\" class=\"dataframe\">\n",
       "  <thead>\n",
       "    <tr style=\"text-align: right;\">\n",
       "      <th></th>\n",
       "      <th>t</th>\n",
       "      <th>n</th>\n",
       "      <th>x</th>\n",
       "      <th>y</th>\n",
       "      <th>theta</th>\n",
       "      <th>grad_ux</th>\n",
       "      <th>grad_uy</th>\n",
       "      <th>grad_vx</th>\n",
       "      <th>grad_vy</th>\n",
       "      <th>v</th>\n",
       "      <th>f</th>\n",
       "      <th>s</th>\n",
       "      <th>dvdt</th>\n",
       "      <th>dfdt</th>\n",
       "      <th>dsdt</th>\n",
       "    </tr>\n",
       "  </thead>\n",
       "  <tbody>\n",
       "    <tr>\n",
       "      <th>0</th>\n",
       "      <td>0.0</td>\n",
       "      <td>20</td>\n",
       "      <td>0.95045</td>\n",
       "      <td>47.03408</td>\n",
       "      <td>1.98477</td>\n",
       "      <td>0.49952</td>\n",
       "      <td>1.00000</td>\n",
       "      <td>43.74147</td>\n",
       "      <td>0.13557</td>\n",
       "      <td>0.52435</td>\n",
       "      <td>0.01091</td>\n",
       "      <td>0.83900</td>\n",
       "      <td>0.32697</td>\n",
       "      <td>-0.00084</td>\n",
       "      <td>-0.00105</td>\n",
       "    </tr>\n",
       "    <tr>\n",
       "      <th>1</th>\n",
       "      <td>0.0</td>\n",
       "      <td>20</td>\n",
       "      <td>6.34369</td>\n",
       "      <td>2.40403</td>\n",
       "      <td>1.17551</td>\n",
       "      <td>-1.02701</td>\n",
       "      <td>6.66390</td>\n",
       "      <td>1.11790</td>\n",
       "      <td>0.61298</td>\n",
       "      <td>0.50346</td>\n",
       "      <td>0.07454</td>\n",
       "      <td>0.82358</td>\n",
       "      <td>-0.00010</td>\n",
       "      <td>-0.00572</td>\n",
       "      <td>-0.00103</td>\n",
       "    </tr>\n",
       "    <tr>\n",
       "      <th>2</th>\n",
       "      <td>0.0</td>\n",
       "      <td>20</td>\n",
       "      <td>10.57992</td>\n",
       "      <td>199.59560</td>\n",
       "      <td>2.89619</td>\n",
       "      <td>-0.14802</td>\n",
       "      <td>1.05754</td>\n",
       "      <td>0.08225</td>\n",
       "      <td>1.05059</td>\n",
       "      <td>0.48484</td>\n",
       "      <td>0.27666</td>\n",
       "      <td>0.87655</td>\n",
       "      <td>0.00795</td>\n",
       "      <td>-0.02123</td>\n",
       "      <td>-0.00110</td>\n",
       "    </tr>\n",
       "    <tr>\n",
       "      <th>3</th>\n",
       "      <td>0.0</td>\n",
       "      <td>20</td>\n",
       "      <td>51.37607</td>\n",
       "      <td>0.34081</td>\n",
       "      <td>1.50927</td>\n",
       "      <td>1.00000</td>\n",
       "      <td>-0.67824</td>\n",
       "      <td>0.99233</td>\n",
       "      <td>1.69736</td>\n",
       "      <td>0.50706</td>\n",
       "      <td>0.55666</td>\n",
       "      <td>0.93134</td>\n",
       "      <td>-0.01240</td>\n",
       "      <td>-0.04272</td>\n",
       "      <td>-0.00116</td>\n",
       "    </tr>\n",
       "    <tr>\n",
       "      <th>4</th>\n",
       "      <td>0.0</td>\n",
       "      <td>20</td>\n",
       "      <td>52.38630</td>\n",
       "      <td>57.23394</td>\n",
       "      <td>2.02178</td>\n",
       "      <td>3.69757</td>\n",
       "      <td>-1.45046</td>\n",
       "      <td>-0.23487</td>\n",
       "      <td>2.12278</td>\n",
       "      <td>0.47905</td>\n",
       "      <td>0.06825</td>\n",
       "      <td>0.81568</td>\n",
       "      <td>0.00059</td>\n",
       "      <td>-0.00524</td>\n",
       "      <td>-0.00102</td>\n",
       "    </tr>\n",
       "  </tbody>\n",
       "</table>\n",
       "</div>"
      ],
      "text/plain": [
       "     t   n         x          y    theta  grad_ux  grad_uy   grad_vx  grad_vy  \\\n",
       "0  0.0  20   0.95045   47.03408  1.98477  0.49952  1.00000  43.74147  0.13557   \n",
       "1  0.0  20   6.34369    2.40403  1.17551 -1.02701  6.66390   1.11790  0.61298   \n",
       "2  0.0  20  10.57992  199.59560  2.89619 -0.14802  1.05754   0.08225  1.05059   \n",
       "3  0.0  20  51.37607    0.34081  1.50927  1.00000 -0.67824   0.99233  1.69736   \n",
       "4  0.0  20  52.38630   57.23394  2.02178  3.69757 -1.45046  -0.23487  2.12278   \n",
       "\n",
       "         v        f        s     dvdt     dfdt     dsdt  \n",
       "0  0.52435  0.01091  0.83900  0.32697 -0.00084 -0.00105  \n",
       "1  0.50346  0.07454  0.82358 -0.00010 -0.00572 -0.00103  \n",
       "2  0.48484  0.27666  0.87655  0.00795 -0.02123 -0.00110  \n",
       "3  0.50706  0.55666  0.93134 -0.01240 -0.04272 -0.00116  \n",
       "4  0.47905  0.06825  0.81568  0.00059 -0.00524 -0.00102  "
      ]
     },
     "execution_count": 155,
     "metadata": {},
     "output_type": "execute_result"
    }
   ],
   "source": [
    "df.head()"
   ]
  },
  {
   "cell_type": "code",
   "execution_count": 154,
   "metadata": {
    "ExecuteTime": {
     "end_time": "2020-11-27T20:40:42.307573Z",
     "start_time": "2020-11-27T20:40:42.196211Z"
    }
   },
   "outputs": [],
   "source": [
    "# df.describe().T"
   ]
  },
  {
   "cell_type": "code",
   "execution_count": 157,
   "metadata": {
    "ExecuteTime": {
     "end_time": "2020-11-27T20:41:21.459848Z",
     "start_time": "2020-11-27T20:41:21.429945Z"
    }
   },
   "outputs": [
    {
     "name": "stdout",
     "output_type": "stream",
     "text": [
      "Is the ratio of virtual spiral tips to spiral tips = -0.081?\n"
     ]
    }
   ],
   "source": [
    "print(f\"Is the ratio of virtual spiral tips to spiral tips = {1-df.t.count()/df.theta.count():.3f}?\")"
   ]
  },
  {
   "cell_type": "code",
   "execution_count": 159,
   "metadata": {
    "ExecuteTime": {
     "end_time": "2020-11-27T20:43:30.328966Z",
     "start_time": "2020-11-27T20:43:30.271980Z"
    }
   },
   "outputs": [
    {
     "data": {
      "text/plain": [
       "0         1.98477\n",
       "1         1.17551\n",
       "2         2.89619\n",
       "3         1.50927\n",
       "4         2.02178\n",
       "           ...   \n",
       "483181    2.23391\n",
       "483182    2.61639\n",
       "483183    2.23391\n",
       "483184    2.56158\n",
       "483186    2.56158\n",
       "Name: theta, Length: 446800, dtype: float64"
      ]
     },
     "execution_count": 159,
     "metadata": {},
     "output_type": "execute_result"
    }
   ],
   "source": [
    "df.theta.dropna()"
   ]
  },
  {
   "cell_type": "markdown",
   "metadata": {},
   "source": [
    "# TODO(later): 4 panel figure of 1 spiral tip trajectory\n",
    "- and then, TODO: ^super impose a list of trajectories/all trajectories in trial"
   ]
  },
  {
   "cell_type": "markdown",
   "metadata": {},
   "source": [
    "# identify/isolate a virtual spiral tip from a high frequency rate"
   ]
  },
  {
   "cell_type": "code",
   "execution_count": 411,
   "metadata": {
    "ExecuteTime": {
     "end_time": "2020-11-30T17:04:00.211314Z",
     "start_time": "2020-11-30T17:04:00.187655Z"
    }
   },
   "outputs": [],
   "source": [
    "#step 1: identify when a high freq rate occurs. (start to finish)\n",
    "# file = search_for_file()\n",
    "file = '/Users/timothytyree/Documents/GitHub/care/notebooks/Data/test_data/fast_kernel_V_0.6/ic_200x200.001.13_log.csv'"
   ]
  },
  {
   "cell_type": "code",
   "execution_count": 412,
   "metadata": {
    "ExecuteTime": {
     "end_time": "2020-11-30T17:04:01.580800Z",
     "start_time": "2020-11-30T17:04:00.802379Z"
    }
   },
   "outputs": [],
   "source": [
    "_,df_rates = compute_bdrates_from_log_w_mean(src=file, min_time_to_next_event = 0, min_time = 100)"
   ]
  },
  {
   "cell_type": "code",
   "execution_count": 413,
   "metadata": {
    "ExecuteTime": {
     "end_time": "2020-11-30T17:04:01.966943Z",
     "start_time": "2020-11-30T17:04:01.932872Z"
    }
   },
   "outputs": [
    {
     "data": {
      "text/html": [
       "<div>\n",
       "<style scoped>\n",
       "    .dataframe tbody tr th:only-of-type {\n",
       "        vertical-align: middle;\n",
       "    }\n",
       "\n",
       "    .dataframe tbody tr th {\n",
       "        vertical-align: top;\n",
       "    }\n",
       "\n",
       "    .dataframe thead th {\n",
       "        text-align: right;\n",
       "    }\n",
       "</style>\n",
       "<table border=\"1\" class=\"dataframe\">\n",
       "  <thead>\n",
       "    <tr style=\"text-align: right;\">\n",
       "      <th></th>\n",
       "      <th>dn</th>\n",
       "      <th>rate</th>\n",
       "      <th>n</th>\n",
       "      <th>time</th>\n",
       "    </tr>\n",
       "  </thead>\n",
       "  <tbody>\n",
       "    <tr>\n",
       "      <th>21</th>\n",
       "      <td>2</td>\n",
       "      <td>1.0</td>\n",
       "      <td>8</td>\n",
       "      <td>778.0</td>\n",
       "    </tr>\n",
       "    <tr>\n",
       "      <th>24</th>\n",
       "      <td>2</td>\n",
       "      <td>1.0</td>\n",
       "      <td>10</td>\n",
       "      <td>804.0</td>\n",
       "    </tr>\n",
       "    <tr>\n",
       "      <th>28</th>\n",
       "      <td>-2</td>\n",
       "      <td>1.0</td>\n",
       "      <td>18</td>\n",
       "      <td>837.0</td>\n",
       "    </tr>\n",
       "    <tr>\n",
       "      <th>39</th>\n",
       "      <td>-2</td>\n",
       "      <td>1.0</td>\n",
       "      <td>12</td>\n",
       "      <td>1101.0</td>\n",
       "    </tr>\n",
       "    <tr>\n",
       "      <th>40</th>\n",
       "      <td>2</td>\n",
       "      <td>1.0</td>\n",
       "      <td>10</td>\n",
       "      <td>1102.0</td>\n",
       "    </tr>\n",
       "  </tbody>\n",
       "</table>\n",
       "</div>"
      ],
      "text/plain": [
       "    dn  rate   n    time\n",
       "21   2   1.0   8   778.0\n",
       "24   2   1.0  10   804.0\n",
       "28  -2   1.0  18   837.0\n",
       "39  -2   1.0  12  1101.0\n",
       "40   2   1.0  10  1102.0"
      ]
     },
     "execution_count": 413,
     "metadata": {},
     "output_type": "execute_result"
    }
   ],
   "source": [
    "#the first high frequency rates\n",
    "df_rates[(df_rates.rate>0.9) & (df_rates.time>300)].head()"
   ]
  },
  {
   "cell_type": "code",
   "execution_count": 440,
   "metadata": {
    "ExecuteTime": {
     "end_time": "2020-11-30T17:14:17.692773Z",
     "start_time": "2020-11-30T17:14:16.688272Z"
    }
   },
   "outputs": [],
   "source": [
    "#step 2: isolate the virtual spiral tip\n",
    "# file = search_for_file()\n",
    "file = \"/Users/timothytyree/Documents/GitHub/care/notebooks/Data/test_data/fast_kernel_V_0.6/ic_200x200.001.13_traj_sr_400_mem_2.csv\"\n",
    "# = '/Users/timothytyree/Documents/GitHub/care/notebooks/Data/test_data/fast_kernel_V_0.6/ic_200x200.001.13_log.csv'\n",
    "df = pd.read_csv(file)"
   ]
  },
  {
   "cell_type": "code",
   "execution_count": 441,
   "metadata": {
    "ExecuteTime": {
     "end_time": "2020-11-30T17:14:18.497131Z",
     "start_time": "2020-11-30T17:14:18.459709Z"
    }
   },
   "outputs": [
    {
     "data": {
      "text/html": [
       "<div>\n",
       "<style scoped>\n",
       "    .dataframe tbody tr th:only-of-type {\n",
       "        vertical-align: middle;\n",
       "    }\n",
       "\n",
       "    .dataframe tbody tr th {\n",
       "        vertical-align: top;\n",
       "    }\n",
       "\n",
       "    .dataframe thead th {\n",
       "        text-align: right;\n",
       "    }\n",
       "</style>\n",
       "<table border=\"1\" class=\"dataframe\">\n",
       "  <thead>\n",
       "    <tr style=\"text-align: right;\">\n",
       "      <th></th>\n",
       "      <th>t</th>\n",
       "      <th>n</th>\n",
       "      <th>x</th>\n",
       "      <th>y</th>\n",
       "      <th>theta</th>\n",
       "      <th>grad_ux</th>\n",
       "      <th>grad_uy</th>\n",
       "      <th>grad_vx</th>\n",
       "      <th>grad_vy</th>\n",
       "      <th>v</th>\n",
       "      <th>f</th>\n",
       "      <th>s</th>\n",
       "      <th>dvdt</th>\n",
       "      <th>dfdt</th>\n",
       "      <th>dsdt</th>\n",
       "      <th>frame</th>\n",
       "      <th>particle</th>\n",
       "    </tr>\n",
       "  </thead>\n",
       "  <tbody>\n",
       "    <tr>\n",
       "      <th>0</th>\n",
       "      <td>0.0</td>\n",
       "      <td>18</td>\n",
       "      <td>0.94274</td>\n",
       "      <td>48.96139</td>\n",
       "      <td>NaN</td>\n",
       "      <td>0.38211</td>\n",
       "      <td>1.01060</td>\n",
       "      <td>41.37542</td>\n",
       "      <td>0.20304</td>\n",
       "      <td>0.59937</td>\n",
       "      <td>0.01250</td>\n",
       "      <td>0.84248</td>\n",
       "      <td>-0.00583</td>\n",
       "      <td>-0.00096</td>\n",
       "      <td>-0.00105</td>\n",
       "      <td>0</td>\n",
       "      <td>0</td>\n",
       "    </tr>\n",
       "    <tr>\n",
       "      <th>1</th>\n",
       "      <td>0.0</td>\n",
       "      <td>18</td>\n",
       "      <td>9.11660</td>\n",
       "      <td>199.74377</td>\n",
       "      <td>2.91912</td>\n",
       "      <td>-0.11568</td>\n",
       "      <td>1.05027</td>\n",
       "      <td>0.12146</td>\n",
       "      <td>1.04401</td>\n",
       "      <td>0.42146</td>\n",
       "      <td>0.48190</td>\n",
       "      <td>0.94701</td>\n",
       "      <td>0.34879</td>\n",
       "      <td>-0.03698</td>\n",
       "      <td>-0.00118</td>\n",
       "      <td>0</td>\n",
       "      <td>1</td>\n",
       "    </tr>\n",
       "    <tr>\n",
       "      <th>2</th>\n",
       "      <td>0.0</td>\n",
       "      <td>18</td>\n",
       "      <td>50.94590</td>\n",
       "      <td>0.57368</td>\n",
       "      <td>1.06866</td>\n",
       "      <td>1.00000</td>\n",
       "      <td>-0.71163</td>\n",
       "      <td>0.95257</td>\n",
       "      <td>3.95968</td>\n",
       "      <td>0.68626</td>\n",
       "      <td>0.49964</td>\n",
       "      <td>0.93059</td>\n",
       "      <td>0.09029</td>\n",
       "      <td>-0.03835</td>\n",
       "      <td>-0.00116</td>\n",
       "      <td>0</td>\n",
       "      <td>2</td>\n",
       "    </tr>\n",
       "    <tr>\n",
       "      <th>3</th>\n",
       "      <td>0.0</td>\n",
       "      <td>18</td>\n",
       "      <td>53.49084</td>\n",
       "      <td>57.27768</td>\n",
       "      <td>1.88416</td>\n",
       "      <td>3.71867</td>\n",
       "      <td>-1.52116</td>\n",
       "      <td>0.09061</td>\n",
       "      <td>1.84112</td>\n",
       "      <td>0.57380</td>\n",
       "      <td>0.09045</td>\n",
       "      <td>0.82437</td>\n",
       "      <td>0.00076</td>\n",
       "      <td>-0.00694</td>\n",
       "      <td>-0.00103</td>\n",
       "      <td>0</td>\n",
       "      <td>3</td>\n",
       "    </tr>\n",
       "    <tr>\n",
       "      <th>4</th>\n",
       "      <td>0.0</td>\n",
       "      <td>18</td>\n",
       "      <td>74.34072</td>\n",
       "      <td>198.22496</td>\n",
       "      <td>2.38565</td>\n",
       "      <td>1.29924</td>\n",
       "      <td>0.88857</td>\n",
       "      <td>0.11788</td>\n",
       "      <td>1.33386</td>\n",
       "      <td>0.59237</td>\n",
       "      <td>0.49116</td>\n",
       "      <td>0.94783</td>\n",
       "      <td>-0.05997</td>\n",
       "      <td>-0.03769</td>\n",
       "      <td>-0.00118</td>\n",
       "      <td>0</td>\n",
       "      <td>4</td>\n",
       "    </tr>\n",
       "  </tbody>\n",
       "</table>\n",
       "</div>"
      ],
      "text/plain": [
       "     t   n         x          y    theta  grad_ux  grad_uy   grad_vx  grad_vy  \\\n",
       "0  0.0  18   0.94274   48.96139      NaN  0.38211  1.01060  41.37542  0.20304   \n",
       "1  0.0  18   9.11660  199.74377  2.91912 -0.11568  1.05027   0.12146  1.04401   \n",
       "2  0.0  18  50.94590    0.57368  1.06866  1.00000 -0.71163   0.95257  3.95968   \n",
       "3  0.0  18  53.49084   57.27768  1.88416  3.71867 -1.52116   0.09061  1.84112   \n",
       "4  0.0  18  74.34072  198.22496  2.38565  1.29924  0.88857   0.11788  1.33386   \n",
       "\n",
       "         v        f        s     dvdt     dfdt     dsdt  frame  particle  \n",
       "0  0.59937  0.01250  0.84248 -0.00583 -0.00096 -0.00105      0         0  \n",
       "1  0.42146  0.48190  0.94701  0.34879 -0.03698 -0.00118      0         1  \n",
       "2  0.68626  0.49964  0.93059  0.09029 -0.03835 -0.00116      0         2  \n",
       "3  0.57380  0.09045  0.82437  0.00076 -0.00694 -0.00103      0         3  \n",
       "4  0.59237  0.49116  0.94783 -0.05997 -0.03769 -0.00118      0         4  "
      ]
     },
     "execution_count": 441,
     "metadata": {},
     "output_type": "execute_result"
    }
   ],
   "source": [
    "df.head()"
   ]
  },
  {
   "cell_type": "code",
   "execution_count": 442,
   "metadata": {
    "ExecuteTime": {
     "end_time": "2020-11-30T17:14:18.928627Z",
     "start_time": "2020-11-30T17:14:18.897734Z"
    }
   },
   "outputs": [
    {
     "data": {
      "text/plain": [
       "9608    8\n",
       "9609    8\n",
       "9610    8\n",
       "9611    8\n",
       "9612    8\n",
       "Name: n, dtype: int64"
      ]
     },
     "execution_count": 442,
     "metadata": {},
     "output_type": "execute_result"
    }
   ],
   "source": [
    "#WARNING: times resulting from compute_bdrates_from_log_w_mean may be 100 too big\n",
    "t = 804#17\n",
    "df[df.t==t+1].head().n"
   ]
  },
  {
   "cell_type": "code",
   "execution_count": 542,
   "metadata": {
    "ExecuteTime": {
     "end_time": "2020-11-30T17:38:34.753395Z",
     "start_time": "2020-11-30T17:38:34.662214Z"
    }
   },
   "outputs": [
    {
     "data": {
      "text/plain": [
       "t\n",
       "1519.0     6.0\n",
       "1520.0    10.0\n",
       "1521.0    10.0\n",
       "1522.0    10.0\n",
       "1523.0    10.0\n",
       "1524.0     8.0\n",
       "Name: n, dtype: float64"
      ]
     },
     "execution_count": 542,
     "metadata": {},
     "output_type": "execute_result"
    }
   ],
   "source": [
    "t = 1520#17\n",
    "df.groupby('t').mean().n.loc[t-1:t+4]"
   ]
  },
  {
   "cell_type": "code",
   "execution_count": 444,
   "metadata": {
    "ExecuteTime": {
     "end_time": "2020-11-30T17:14:23.130942Z",
     "start_time": "2020-11-30T17:14:23.103735Z"
    }
   },
   "outputs": [],
   "source": [
    "ff = df[(df.t>=t)&(df.t<=t+3)]"
   ]
  },
  {
   "cell_type": "markdown",
   "metadata": {},
   "source": [
    "# visualize a virtual spiral tip from a high frequency rate"
   ]
  },
  {
   "cell_type": "code",
   "execution_count": 546,
   "metadata": {
    "ExecuteTime": {
     "end_time": "2020-11-30T17:41:26.959348Z",
     "start_time": "2020-11-30T17:41:25.827371Z"
    }
   },
   "outputs": [
    {
     "name": "stdout",
     "output_type": "stream",
     "text": [
      "{162, 163, 170, 171, 172, 173, 192, 193, 200, 201, 206, 207, 208, 209, 210, 211, 212, 213, 116, 117}\n"
     ]
    },
    {
     "data": {
      "image/png": "[encoded data removed]",
      "text/plain": [
       "<Figure size 432x432 with 1 Axes>"
      ]
     },
     "metadata": {
      "needs_background": "light"
     },
     "output_type": "display_data"
    }
   ],
   "source": [
    "#step 2: isolate the virtual spiral tip\n",
    "# file = search_for_file()\n",
    "file = \"/Users/timothytyree/Documents/GitHub/care/notebooks/Data/test_data/fast_kernel_V_0.6/ic_200x200.001.13_traj_sr_400_mem_2.csv\"\n",
    "# = '/Users/timothytyree/Documents/GitHub/care/notebooks/Data/test_data/fast_kernel_V_0.6/ic_200x200.001.13_log.csv'\n",
    "df = pd.read_csv(file)\n",
    "t = 1520#17\n",
    "pid = 206#117\n",
    "# pid = 210#162]#206]#212]#210]#206]\n",
    "ff = df[(df.t>=t)&(df.t<=t+3)]\n",
    "t0 = np.min(ff.t.values)\n",
    "x_values = ff.x.values\n",
    "y_values = ff.y.values\n",
    "c_values = ff.t.values-t0\n",
    "#virtual spiral tip pid : 210]#\n",
    "#daughter spiral tip pid : 212]#\n",
    "#parent spiral tip pid : 208]#\n",
    "sf = ff[ff.particle==pid]\n",
    "xv_values = sf.x.values\n",
    "yv_values = sf.y.values\n",
    "# af = df[(df.t==t+4)]#(df.t==t-1)]#|(df.t==t+4)]\n",
    "# xa_values = af.x.values\n",
    "# ya_values = af.y.values\n",
    "plt.figure(figsize=(6,6))\n",
    "plt.scatter(x=x_values,y=y_values,c=c_values, cmap='Blues',marker='*',alpha=0.6,s=500)\n",
    "# plt.scatter(x=xa_values,y=ya_values,c='r',marker='o',alpha=0.6)\n",
    "plt.scatter(x=xv_values,y=yv_values,c='r',marker='o',alpha=0.6)\n",
    "print(set(ff.particle.values))\n",
    "plt.show()"
   ]
  },
  {
   "cell_type": "code",
   "execution_count": 517,
   "metadata": {
    "ExecuteTime": {
     "end_time": "2020-11-30T17:31:17.661915Z",
     "start_time": "2020-11-30T17:31:17.640168Z"
    }
   },
   "outputs": [
    {
     "data": {
      "text/plain": [
       "20"
      ]
     },
     "execution_count": 517,
     "metadata": {},
     "output_type": "execute_result"
    }
   ],
   "source": [
    "162, 170, 172, 192, 200, 206, 208, 210, 212, 116\n",
    "#206, 212 = daughter\n",
    "#208, 210 = virtual\n",
    "#TODO: see if this high frequency bd event happens for other V_threshold at a nearby time\n",
    "\n",
    "#TODO: find the particle number of the virtual spiral tips\n",
    "#TODO: describe the features of those virtural spiral tips.  Do the thetas look funny?\n",
    "len(list(set(ff.particle.values)))\n",
    "#TODO: count how many pid's are visually distinct"
   ]
  },
  {
   "cell_type": "code",
   "execution_count": 449,
   "metadata": {
    "ExecuteTime": {
     "end_time": "2020-11-30T17:15:07.758075Z",
     "start_time": "2020-11-30T17:15:07.736210Z"
    }
   },
   "outputs": [],
   "source": [
    "# print('a virtual spiral tip')\n",
    "# df[df.particle==210]#.describe().T"
   ]
  },
  {
   "cell_type": "code",
   "execution_count": 547,
   "metadata": {
    "ExecuteTime": {
     "end_time": "2020-11-30T17:42:31.263343Z",
     "start_time": "2020-11-30T17:42:31.198993Z"
    }
   },
   "outputs": [],
   "source": [
    "# print('a normal spiral tip')\n",
    "# df[df.particle==162].describe().T\n",
    "# boo = (df.t>=t)&(df.t<=t+3)\n",
    "boo = (df.t>=t-3)&(df.t<=t+3+3)\n",
    "\n",
    "#theta for virtual spiral tip\n",
    "ff = df[boo][df[boo].particle==210]#.describe().T\n",
    "d = ff.grad_ux*ff.grad_vx + ff.grad_uy*ff.grad_vy\n",
    "q = ( ff.grad_ux*ff.grad_ux + ff.grad_uy*ff.grad_uy ) * ( ff.grad_vx*ff.grad_vx + ff.grad_vy*ff.grad_vy  )\n",
    "w = np.arccos(d/q).values\n",
    "alpha = np.abs(np.pi/2-w)\n",
    "y_values_v = alpha\n",
    "x_values_v = ff.t.values-t\n",
    "\n",
    "#theta for virtual spiral tip\n",
    "ff = df[boo][df[boo].particle==208]#.describe().T\n",
    "d = ff.grad_ux*ff.grad_vx + ff.grad_uy*ff.grad_vy\n",
    "q = ( ff.grad_ux*ff.grad_ux + ff.grad_uy*ff.grad_uy ) * ( ff.grad_vx*ff.grad_vx + ff.grad_vy*ff.grad_vy  )\n",
    "w = np.arccos(d/q).values\n",
    "alpha = np.abs(np.pi/2-w)\n",
    "y_values_vv = alpha\n",
    "x_values_vv = ff.t.values-t\n",
    "\n",
    "#theta for daughter spiral tip\n",
    "ff = df[boo][df[boo].particle==213]#.describe().T\n",
    "d = ff.grad_ux*ff.grad_vx + ff.grad_uy*ff.grad_vy\n",
    "q = ( ff.grad_ux*ff.grad_ux + ff.grad_uy*ff.grad_uy ) * ( ff.grad_vx*ff.grad_vx + ff.grad_vy*ff.grad_vy  )\n",
    "w = np.arccos(d/q).values\n",
    "alpha = np.abs(np.pi/2-w)\n",
    "y_values_d = alpha\n",
    "x_values_d = ff.t.values-t\n",
    "\n",
    "#theta for parent spiral tip\n",
    "ff = df[boo][df[boo].particle==206]#.describe().T\n",
    "# ff = df[boo][df[boo].particle==201]#.describe().T\n",
    "d = ff.grad_ux*ff.grad_vx + ff.grad_uy*ff.grad_vy\n",
    "q = ( ff.grad_ux*ff.grad_ux + ff.grad_uy*ff.grad_uy ) * ( ff.grad_vx*ff.grad_vx + ff.grad_vy*ff.grad_vy  )\n",
    "w = np.arccos(d/q).values\n",
    "alpha = np.abs(np.pi/2-w)\n",
    "y_values_p = alpha\n",
    "x_values_p = ff.t.values-t\n",
    "\n",
    "#theta for typical spiral tip\n",
    "# ff = df[boo][df[boo].particle==208]#.describe().T\n",
    "ff = df[boo][df[boo].particle==201]#.describe().T\n",
    "d = ff.grad_ux*ff.grad_vx + ff.grad_uy*ff.grad_vy\n",
    "q = ( ff.grad_ux*ff.grad_ux + ff.grad_uy*ff.grad_uy ) * ( ff.grad_vx*ff.grad_vx + ff.grad_vy*ff.grad_vy  )\n",
    "w = np.arccos(d/q).values\n",
    "alpha = np.abs(np.pi/2-w)\n",
    "y_values_t = alpha\n",
    "x_values_t = ff.t.values-t\n",
    "\n",
    "#theta for typical spiral tip\n",
    "# ff = df[boo][df[boo].particle==208]#.describe().T\n",
    "ff = df[boo][df[boo].particle==162]#.describe().T\n",
    "d = ff.grad_ux*ff.grad_vx + ff.grad_uy*ff.grad_vy\n",
    "q = ( ff.grad_ux*ff.grad_ux + ff.grad_uy*ff.grad_uy ) * ( ff.grad_vx*ff.grad_vx + ff.grad_vy*ff.grad_vy  )\n",
    "w = np.arccos(d/q).values\n",
    "alpha = np.abs(np.pi/2-w)\n",
    "y_values_tt = alpha\n",
    "x_values_tt = ff.t.values-t"
   ]
  },
  {
   "cell_type": "code",
   "execution_count": 548,
   "metadata": {
    "ExecuteTime": {
     "end_time": "2020-11-30T17:42:40.314123Z",
     "start_time": "2020-11-30T17:42:40.115297Z"
    },
    "scrolled": true
   },
   "outputs": [
    {
     "data": {
      "image/png": "[encoded data removed]",
      "text/plain": [
       "<Figure size 432x288 with 1 Axes>"
      ]
     },
     "metadata": {
      "needs_background": "light"
     },
     "output_type": "display_data"
    }
   ],
   "source": [
    "\n",
    "# print('virtual spiral tip has mean ± std')\n",
    "# print('daughter spiral tip has mean ± std')\n",
    "# print((np.mean(alpha),np.std(alpha)))\n",
    "plt.plot(x_values_d,y_values_d,label='daughter')\n",
    "plt.plot(x_values_v,y_values_v,label='virtual')\n",
    "plt.plot(x_values_vv,y_values_vv,label='virtual')\n",
    "plt.plot(x_values_p,y_values_p,label='daughter')\n",
    "plt.plot(x_values_t,y_values_t,label='typical')\n",
    "plt.plot(x_values_tt,y_values_tt,label='typical')\n",
    "\n",
    "plt.xlabel('time (ms)')\n",
    "plt.ylabel('anglular disagreement from π/2 (radians)')\n",
    "plt.legend()\n",
    "plt.show()"
   ]
  },
  {
   "cell_type": "code",
   "execution_count": 199,
   "metadata": {
    "ExecuteTime": {
     "end_time": "2020-11-30T05:54:02.287989Z",
     "start_time": "2020-11-30T05:54:02.107501Z"
    }
   },
   "outputs": [
    {
     "name": "stdout",
     "output_type": "stream",
     "text": [
      "actual spiral tip has mean ± std\n",
      "(1.5191587916376954, 0.09676212441678192)\n"
     ]
    },
    {
     "data": {
      "image/png": "[encoded data removed]",
      "text/plain": [
       "<Figure size 432x288 with 1 Axes>"
      ]
     },
     "metadata": {
      "needs_background": "light"
     },
     "output_type": "display_data"
    }
   ],
   "source": [
    "#theta for actual spiral tip\n",
    "ff = df[df.particle==162]#.describe().T\n",
    "d = ff.grad_ux*ff.grad_vx + ff.grad_uy*ff.grad_vy\n",
    "q = ( ff.grad_ux*ff.grad_ux + ff.grad_uy*ff.grad_uy ) * ( ff.grad_vx*ff.grad_vx + ff.grad_vy*ff.grad_vy  )\n",
    "w = np.arccos(d/q).values\n",
    "print('actual spiral tip has mean ± std' )\n",
    "print((np.mean(w),np.std(w)))\n",
    "plt.plot(np.abs(np.pi/2-w))\n",
    "plt.xlabel('time since spiral tip birth (ms)')\n",
    "plt.ylabel('anglular disagreement from π/2 (radians)')\n",
    "plt.show()"
   ]
  },
  {
   "cell_type": "code",
   "execution_count": null,
   "metadata": {
    "ExecuteTime": {
     "end_time": "2020-11-30T05:51:23.140082Z",
     "start_time": "2020-11-30T05:51:23.113943Z"
    }
   },
   "outputs": [],
   "source": []
  },
  {
   "cell_type": "markdown",
   "metadata": {
    "ExecuteTime": {
     "end_time": "2020-11-30T05:00:50.738634Z",
     "start_time": "2020-11-30T05:00:50.711772Z"
    }
   },
   "source": [
    "the above suggests a theta_threshold of 1.2 would work quite well."
   ]
  },
  {
   "cell_type": "markdown",
   "metadata": {},
   "source": [
    "## visualize birth death rates"
   ]
  },
  {
   "cell_type": "code",
   "execution_count": 625,
   "metadata": {
    "ExecuteTime": {
     "end_time": "2020-11-06T04:56:10.526463Z",
     "start_time": "2020-11-06T04:56:10.372509Z"
    }
   },
   "outputs": [],
   "source": [
    "# #import data\n",
    "# os.chdir(folder_name)\n",
    "# df = pd.read_csv(file_out)\n",
    "\n",
    "#drop termination times\n",
    "# df.dropna(inplace=True)\n",
    "# df = d.copy()\n",
    "\n",
    "#drop rows with rates over 100/ms\n",
    "# df = df.loc[df.rates<=1].copy()\n",
    "\n",
    "# df = df.loc[df.rates<=0.02].copy()\n",
    "# df = df.loc[df.rates<=0.1].copy()\n",
    "\n",
    "def get_bdrate_plot_data(df):\n",
    "    dn_list = sorted(set(df.dn.values))\n",
    "    dn_list = [-2,2]\n",
    "\n",
    "    np.mean(df.n.values)\n",
    "\n",
    "    #compute median rates and IQR for the error bars corresponding to each category in dn_list\n",
    "    errorbar_data_list = []\n",
    "    for dn in dn_list:  \n",
    "        #iterate over n for each dn\n",
    "        df2 = df.loc[df.dn==dn].copy()\n",
    "        n_list = sorted(set(df2.n.values))\n",
    "        y_val_list = []\n",
    "        y_err_1_list = []\n",
    "        y_err_2_list = []\n",
    "        for n in n_list:\n",
    "            df3 = df2.loc[df2.n == n].copy()\n",
    "            y_val, y_err_1, y_err_2 = df3.describe().T[['50%', '25%', '75%']].loc['rates'].values\n",
    "            y_err_2 = float(y_err_2 - y_val)\n",
    "            y_err_1 = float(y_val - y_err_1)\n",
    "            y_val = float(y_val)\n",
    "            y_val_list.append(y_val)\n",
    "            y_err_1_list.append(y_err_1)\n",
    "            y_err_2_list.append(y_err_2)\n",
    "        # errorbar_data = (dn, n_list, y_val_list, y_err_1_list, y_err_2_list)\n",
    "        errorbar_data = {'dn':dn, \n",
    "                         'n_list':n_list, \n",
    "                         'y_val_list':y_val_list, \n",
    "                         'y_err_1_list':y_err_1_list, \n",
    "                         'y_err_2_list':y_err_2_list\n",
    "                        }\n",
    "        errorbar_data_list.append(errorbar_data)    \n",
    "\n",
    "    #retrieve scatter plot data points for each category in dn_list\n",
    "    scatter_data_list = []\n",
    "    for dn in dn_list:  \n",
    "        df2 = df.loc[df.dn==dn].copy()\n",
    "        x_values = df2.n.values\n",
    "        y_values = df2.rates.values\n",
    "        scatter_data = {'dn':dn, \n",
    "                         'x_values':x_values, \n",
    "                         'y_values':y_values, \n",
    "                        }\n",
    "        scatter_data_list.append(scatter_data)\n",
    "\n",
    "    #assign a color/label/other formatting to each category in dn_list\n",
    "    color_list_raw = ['red', 'blue', 'green', 'orange', 'brown', 'purple']\n",
    "    formatting_data_list = []\n",
    "    for i, dn in enumerate(dn_list):\n",
    "        formatting_data = {\n",
    "            'dn': dn,\n",
    "            'color': color_list_raw[i],\n",
    "            'label':f'$W_{{{int(dn):+d}}}$'\n",
    "        }\n",
    "        formatting_data_list.append(formatting_data) \n",
    "    retval = formatting_data_list, scatter_data_list, errorbar_data_list, \n",
    "    return retval\n",
    "\n",
    "formatting_data_list, scatter_data_list, errorbar_data_list = get_bdrate_plot_data(df=d)"
   ]
  },
  {
   "cell_type": "code",
   "execution_count": 626,
   "metadata": {
    "ExecuteTime": {
     "end_time": "2020-11-06T04:56:11.659657Z",
     "start_time": "2020-11-06T04:56:11.638862Z"
    }
   },
   "outputs": [],
   "source": [
    "assert (len(formatting_data_list) is len(scatter_data_list ))\n",
    "assert (len(formatting_data_list) is len(errorbar_data_list))"
   ]
  },
  {
   "cell_type": "code",
   "execution_count": 627,
   "metadata": {
    "ExecuteTime": {
     "end_time": "2020-11-06T04:56:15.103677Z",
     "start_time": "2020-11-06T04:56:14.850401Z"
    }
   },
   "outputs": [
    {
     "data": {
      "image/png": "[encoded data removed]",
      "text/plain": [
       "<Figure size 432x360 with 1 Axes>"
      ]
     },
     "metadata": {
      "needs_background": "light"
     },
     "output_type": "display_data"
    }
   ],
   "source": [
    "saving = False\n",
    "\n",
    "savefig_dir = f'{nb_dir}/Figures/birth_death_analysis'\n",
    "savefig_fn = 'birth_death_rates_ic2-from-log.png'\n",
    "# savefig_fn = 'birth_death_rates_log.png'\n",
    "log_scale = False\n",
    "fontsize=20\n",
    "figsize=(6,5)\n",
    "\n",
    "# def birth_death_plot(*y_axis_struct_list):\n",
    "\n",
    "# plot birth death rates with IQR y error bars with n on the x axis\n",
    "fig, ax = plt.subplots(figsize=figsize)\n",
    "for scatter_data, errorbar_data, formatting_data in zip(\n",
    "    scatter_data_list, errorbar_data_list, formatting_data_list):\n",
    "\n",
    "    dn, x_values, y_values = scatter_data.values()\n",
    "    dn, n_list, y_val_list, y_err_1_list, y_err_2_list = errorbar_data.values()\n",
    "    dn, color, label = formatting_data.values()\n",
    "    yerr = np.array(list(zip(y_err_1_list,y_err_2_list))).T\n",
    "    \n",
    "    ax.scatter(x=x_values/2,y=y_values, c=color, s=10, alpha=0.1, label=label)\n",
    "    ax.errorbar([n/2 for n in n_list], y_val_list, yerr=yerr, c=color)\n",
    "    \n",
    "# ax.legend(loc='top')\n",
    "\n",
    "# ax.set_xticks([2,4,6,8, 10, 12])\n",
    "# # ax.set_yticks([0,10,20,30,40,50])\n",
    "# ymin, ymax = ax.get_ylim()\n",
    "# ax.set_ylim((1e-3,0.4))\n",
    "\n",
    "ax.legend(loc='best', fontsize= fontsize-8)\n",
    "ax.tick_params(axis='both', labelsize= fontsize)\n",
    "ax.set_ylabel('birth/death rate (ms$^{-1}$)', fontsize=fontsize)\n",
    "ax.set_xlabel('n/2', fontsize=fontsize) \n",
    "if log_scale:\n",
    "    ax.set_yscale('log')\n",
    "# ax.set_title(f'$\\sigma = {sigma}$, threshold = {threshold}', fontsize=fontsize)\n",
    "                    \n",
    "# ax.set_title('high frequency birth deaths observed', fontsize=fontsize)\n",
    "# ax.axis([20,60,0,7])\n",
    "  \n",
    "    \n",
    "if not saving: \n",
    "    plt.show() \n",
    "else:\n",
    "    plt.tight_layout()\n",
    "    os.chdir(savefig_dir)\n",
    "    plt.savefig(savefig_fn, dpi=300)\n",
    "    print(f\"saved figure in \\n\\t{savefig_fn}.\")\n"
   ]
  },
  {
   "cell_type": "code",
   "execution_count": null,
   "metadata": {},
   "outputs": [],
   "source": []
  },
  {
   "cell_type": "markdown",
   "metadata": {
    "ExecuteTime": {
     "end_time": "2020-11-30T05:05:09.130358Z",
     "start_time": "2020-11-30T05:05:09.102935Z"
    }
   },
   "source": [
    "# TODO: recompute theta and drop all tips that have theta too smalle"
   ]
  },
  {
   "cell_type": "code",
   "execution_count": 212,
   "metadata": {
    "ExecuteTime": {
     "end_time": "2020-11-30T05:55:38.136622Z",
     "start_time": "2020-11-30T05:55:38.111724Z"
    }
   },
   "outputs": [],
   "source": [
    "#DONE: format ^those plots showing that an angular threshold exists!"
   ]
  },
  {
   "cell_type": "code",
   "execution_count": 177,
   "metadata": {
    "ExecuteTime": {
     "end_time": "2020-11-30T05:29:40.327098Z",
     "start_time": "2020-11-30T05:29:40.298654Z"
    }
   },
   "outputs": [],
   "source": [
    "d = ff.grad_ux*ff.grad_vx + ff.grad_uy*ff.grad_vy\n",
    "q = ( ff.grad_ux*ff.grad_ux + ff.grad_uy*ff.grad_uy ) * ( ff.grad_vx*ff.grad_vx + ff.grad_vy*ff.grad_vy  )\n",
    "w = np.arccos(d/q).values"
   ]
  },
  {
   "cell_type": "code",
   "execution_count": 187,
   "metadata": {
    "ExecuteTime": {
     "end_time": "2020-11-30T05:50:40.302060Z",
     "start_time": "2020-11-30T05:50:40.145419Z"
    }
   },
   "outputs": [
    {
     "data": {
      "text/plain": [
       "[<matplotlib.lines.Line2D at 0x152b4f430>]"
      ]
     },
     "execution_count": 187,
     "metadata": {},
     "output_type": "execute_result"
    },
    {
     "data": {
      "image/png": "[encoded data removed]",
      "text/plain": [
       "<Figure size 432x288 with 1 Axes>"
      ]
     },
     "metadata": {
      "needs_background": "light"
     },
     "output_type": "display_data"
    }
   ],
   "source": [
    "plt.plot(np.abs(np.pi/2-w))"
   ]
  },
  {
   "cell_type": "code",
   "execution_count": 192,
   "metadata": {
    "ExecuteTime": {
     "end_time": "2020-11-30T05:51:32.834321Z",
     "start_time": "2020-11-30T05:51:32.805347Z"
    }
   },
   "outputs": [
    {
     "data": {
      "text/plain": [
       "23759    0.691000\n",
       "23765    0.735383\n",
       "23791    0.771401\n",
       "23811    0.828731\n",
       "dtype: float64"
      ]
     },
     "execution_count": 192,
     "metadata": {},
     "output_type": "execute_result"
    }
   ],
   "source": [
    "np.abs(np.pi/2-w)"
   ]
  },
  {
   "cell_type": "code",
   "execution_count": null,
   "metadata": {
    "ExecuteTime": {
     "end_time": "2020-11-30T05:55:42.612595Z",
     "start_time": "2020-11-30T05:55:42.567623Z"
    }
   },
   "outputs": [],
   "source": []
  },
  {
   "cell_type": "code",
   "execution_count": 359,
   "metadata": {
    "ExecuteTime": {
     "end_time": "2020-11-30T16:57:33.967406Z",
     "start_time": "2020-11-30T16:57:33.935347Z"
    }
   },
   "outputs": [],
   "source": [
    "# file = search_for_file()\n",
    "# file = '/Users/timothytyree/Documents/GitHub/care/notebooks/Data/test_data/fast_kernel_V_0.6/ic_200x200.001.13_log.csv'\n",
    "\n",
    "# file = '/Users/timothytyree/Documents/GitHub/care/notebooks/Data/test_data/fast_kernel_V_0.5/ic_200x200.001.13_log.csv'\n",
    "\n",
    "file = '/Users/timothytyree/Documents/GitHub/care/notebooks/Data/test_data/fast_kernel_V_0.4/ic_200x200.001.13_log.csv'\n"
   ]
  },
  {
   "cell_type": "code",
   "execution_count": 360,
   "metadata": {
    "ExecuteTime": {
     "end_time": "2020-11-30T16:57:35.205153Z",
     "start_time": "2020-11-30T16:57:34.521782Z"
    }
   },
   "outputs": [],
   "source": [
    "#DONE: measure for angular difference from 90º\n",
    "df = pd.read_csv(file)\n",
    "\n",
    "d = df.grad_ux*df.grad_vx + df.grad_uy*df.grad_vy\n",
    "q = ( df.grad_ux*df.grad_ux + df.grad_uy*df.grad_uy ) * ( df.grad_vx*df.grad_vx + df.grad_vy*df.grad_vy  )\n",
    "w = np.arccos(d/q).values\n",
    "df['alpha'] = np.abs(np.pi/2-w)"
   ]
  },
  {
   "cell_type": "code",
   "execution_count": 371,
   "metadata": {
    "ExecuteTime": {
     "end_time": "2020-11-30T16:59:10.317303Z",
     "start_time": "2020-11-30T16:59:10.221128Z"
    }
   },
   "outputs": [],
   "source": [
    "#DONE: filter by angular difference from 90º\n",
    "alpha_threshold = 0.6\n",
    "gf = df[df.alpha<=alpha_threshold].copy()"
   ]
  },
  {
   "cell_type": "code",
   "execution_count": 372,
   "metadata": {
    "ExecuteTime": {
     "end_time": "2020-11-30T16:59:11.007099Z",
     "start_time": "2020-11-30T16:59:10.980580Z"
    }
   },
   "outputs": [
    {
     "name": "stdout",
     "output_type": "stream",
     "text": [
      "percent of trials remain = 99.6%\n"
     ]
    }
   ],
   "source": [
    "#print the percent of trials remain\n",
    "print(f'percent of trials remain = {100*gf.x.values.size/df.x.values.size:.1f}%')"
   ]
  },
  {
   "cell_type": "code",
   "execution_count": 373,
   "metadata": {
    "ExecuteTime": {
     "end_time": "2020-11-30T16:59:11.968267Z",
     "start_time": "2020-11-30T16:59:11.921583Z"
    }
   },
   "outputs": [
    {
     "data": {
      "text/plain": [
       "array([0.0000e+00, 1.0000e+00, 2.0000e+00, ..., 2.8578e+04, 2.8579e+04,\n",
       "       2.8580e+04])"
      ]
     },
     "execution_count": 373,
     "metadata": {},
     "output_type": "execute_result"
    }
   ],
   "source": [
    "#TODO: recompute tip number\n",
    "# for a in gf.groupby('t').n.count().iter_rows():\n",
    "#     pass\n",
    "hf = gf.groupby('t').x.count()/2#divide by 2 because each tip is erroneously counted twice.\n",
    "n_series = hf.values\n",
    "t_series = hf.index.values\n",
    "t_series"
   ]
  },
  {
   "cell_type": "code",
   "execution_count": 374,
   "metadata": {
    "ExecuteTime": {
     "end_time": "2020-11-30T16:59:51.842880Z",
     "start_time": "2020-11-30T16:59:12.805245Z"
    }
   },
   "outputs": [],
   "source": [
    "#DONE: recompute tip number\n",
    "for j,t in enumerate(t_series):\n",
    "    gf.loc[gf.t==t,'n']=n_series[j]"
   ]
  },
  {
   "cell_type": "code",
   "execution_count": 375,
   "metadata": {
    "ExecuteTime": {
     "end_time": "2020-11-30T17:00:01.279423Z",
     "start_time": "2020-11-30T16:59:52.015161Z"
    }
   },
   "outputs": [
    {
     "data": {
      "text/plain": [
       "0"
      ]
     },
     "execution_count": 375,
     "metadata": {},
     "output_type": "execute_result"
    }
   ],
   "source": [
    "fn = file.replace('log.csv',f'log_filtered_alpha_{alpha_threshold}.csv')\n",
    "gf.to_csv(fn)\n",
    "beep(1)"
   ]
  },
  {
   "cell_type": "code",
   "execution_count": 376,
   "metadata": {
    "ExecuteTime": {
     "end_time": "2020-11-30T17:00:27.901677Z",
     "start_time": "2020-11-30T17:00:27.692720Z"
    }
   },
   "outputs": [
    {
     "data": {
      "text/plain": [
       "[<matplotlib.lines.Line2D at 0x18a4c9430>]"
      ]
     },
     "execution_count": 376,
     "metadata": {},
     "output_type": "execute_result"
    },
    {
     "data": {
      "image/png": "[encoded data removed]",
      "text/plain": [
       "<Figure size 432x288 with 1 Axes>"
      ]
     },
     "metadata": {
      "needs_background": "light"
     },
     "output_type": "display_data"
    }
   ],
   "source": [
    "plt.plot(df.n)"
   ]
  },
  {
   "cell_type": "code",
   "execution_count": 377,
   "metadata": {
    "ExecuteTime": {
     "end_time": "2020-11-30T17:00:29.611997Z",
     "start_time": "2020-11-30T17:00:29.381919Z"
    }
   },
   "outputs": [
    {
     "data": {
      "text/plain": [
       "[<matplotlib.lines.Line2D at 0x18e89de80>]"
      ]
     },
     "execution_count": 377,
     "metadata": {},
     "output_type": "execute_result"
    },
    {
     "data": {
      "image/png": "[encoded data removed]",
      "text/plain": [
       "<Figure size 432x288 with 1 Axes>"
      ]
     },
     "metadata": {
      "needs_background": "light"
     },
     "output_type": "display_data"
    }
   ],
   "source": [
    "plt.plot(gf.n)"
   ]
  },
  {
   "cell_type": "code",
   "execution_count": 378,
   "metadata": {
    "ExecuteTime": {
     "end_time": "2020-11-30T17:00:33.272551Z",
     "start_time": "2020-11-30T17:00:32.125914Z"
    }
   },
   "outputs": [],
   "source": [
    "#DONE: compute bdrates from ^that\n",
    "_,df_rates = compute_bdrates_from_log_w_mean(src=fn, min_time_to_next_event = 0, min_time = 100)\n",
    "# n_series[j]"
   ]
  },
  {
   "cell_type": "code",
   "execution_count": 379,
   "metadata": {
    "ExecuteTime": {
     "end_time": "2020-11-30T17:00:35.506166Z",
     "start_time": "2020-11-30T17:00:35.477955Z"
    }
   },
   "outputs": [],
   "source": [
    "#TODO: visualize bdrates\n",
    "rf = df_rates[df_rates.dn==2]\n",
    "x_values = rf.n.values/2\n",
    "y_values = rf.rate.values"
   ]
  },
  {
   "cell_type": "code",
   "execution_count": 380,
   "metadata": {
    "ExecuteTime": {
     "end_time": "2020-11-30T17:00:36.129944Z",
     "start_time": "2020-11-30T17:00:35.953974Z"
    }
   },
   "outputs": [
    {
     "data": {
      "text/plain": [
       "<matplotlib.collections.PathCollection at 0x1903ffbe0>"
      ]
     },
     "execution_count": 380,
     "metadata": {},
     "output_type": "execute_result"
    },
    {
     "data": {
      "image/png": "[encoded data removed]",
      "text/plain": [
       "<Figure size 432x288 with 1 Axes>"
      ]
     },
     "metadata": {
      "needs_background": "light"
     },
     "output_type": "display_data"
    }
   ],
   "source": [
    "plt.scatter(x_values,y_values)"
   ]
  },
  {
   "cell_type": "markdown",
   "metadata": {},
   "source": [
    "are there repeats in this data?  Yes. Every datum exists twice..."
   ]
  },
  {
   "cell_type": "markdown",
   "metadata": {},
   "source": [
    "I don't know why the birth death rates aren't looking reasonable yet..."
   ]
  },
  {
   "cell_type": "code",
   "execution_count": 381,
   "metadata": {
    "ExecuteTime": {
     "end_time": "2020-11-30T17:01:35.340864Z",
     "start_time": "2020-11-30T17:01:35.311920Z"
    }
   },
   "outputs": [
    {
     "data": {
      "text/plain": [
       "'/Users/timothytyree/Documents/GitHub/care/notebooks/Data/test_data/fast_kernel_V_0.4/ic_200x200.001.13_log_filtered_alpha_0.6.csv'"
      ]
     },
     "execution_count": 381,
     "metadata": {},
     "output_type": "execute_result"
    }
   ],
   "source": [
    "# df[df.t==1000]\n",
    "fn"
   ]
  },
  {
   "cell_type": "code",
   "execution_count": 304,
   "metadata": {
    "ExecuteTime": {
     "end_time": "2020-11-30T16:41:15.586562Z",
     "start_time": "2020-11-30T16:41:15.551570Z"
    }
   },
   "outputs": [],
   "source": [
    "#DONE: collect images into a few slides.\n",
    "#DONE  show bdrates agree with old values\n",
    "#DONE: show virtual spiral tips have this angular property"
   ]
  },
  {
   "cell_type": "markdown",
   "metadata": {},
   "source": [
    "# TODO: search for other features that distinguish virtual spiral tips not filtered by  | π/2 – θ | < 0.5"
   ]
  },
  {
   "cell_type": "code",
   "execution_count": 407,
   "metadata": {
    "ExecuteTime": {
     "end_time": "2020-11-30T17:03:29.771735Z",
     "start_time": "2020-11-30T17:03:28.992048Z"
    }
   },
   "outputs": [],
   "source": [
    "fn = '/Users/timothytyree/Documents/GitHub/care/notebooks/Data/test_data/fast_kernel_V_0.6/ic_200x200.001.13_log.csv'\n",
    "# fn = '/Users/timothytyree/Documents/GitHub/care/notebooks/Data/test_data/fast_kernel_V_0.6/ic_200x200.001.13_log_filtered.csv'\n",
    "# fn = '/Users/timothytyree/Documents/GitHub/care/notebooks/Data/test_data/fast_kernel_V_0.6/ic_200x200.001.13_log_filtered_alpha_0.5.csv'\n",
    "_,df_rates = compute_bdrates_from_log_w_mean(src=fn, min_time_to_next_event = 0, min_time = 100)\n"
   ]
  },
  {
   "cell_type": "code",
   "execution_count": 408,
   "metadata": {
    "ExecuteTime": {
     "end_time": "2020-11-30T17:03:30.178924Z",
     "start_time": "2020-11-30T17:03:30.152275Z"
    }
   },
   "outputs": [],
   "source": [
    "#TODO: visualize bdrates\n",
    "rf = df_rates[df_rates.dn==2]\n",
    "x_values = rf.n.values/2\n",
    "y_values = rf.rate.values"
   ]
  },
  {
   "cell_type": "code",
   "execution_count": 409,
   "metadata": {
    "ExecuteTime": {
     "end_time": "2020-11-30T17:03:30.681746Z",
     "start_time": "2020-11-30T17:03:30.487276Z"
    }
   },
   "outputs": [
    {
     "data": {
      "text/plain": [
       "<matplotlib.collections.PathCollection at 0x19772d4c0>"
      ]
     },
     "execution_count": 409,
     "metadata": {},
     "output_type": "execute_result"
    },
    {
     "data": {
      "image/png": "[encoded data removed]",
      "text/plain": [
       "<Figure size 432x288 with 1 Axes>"
      ]
     },
     "metadata": {
      "needs_background": "light"
     },
     "output_type": "display_data"
    }
   ],
   "source": [
    "plt.scatter(x_values,y_values)"
   ]
  },
  {
   "cell_type": "code",
   "execution_count": 410,
   "metadata": {
    "ExecuteTime": {
     "end_time": "2020-11-30T17:03:31.139253Z",
     "start_time": "2020-11-30T17:03:31.111079Z"
    }
   },
   "outputs": [
    {
     "data": {
      "text/plain": [
       "{-6, -4, -2, 2, 4, 6}"
      ]
     },
     "execution_count": 410,
     "metadata": {},
     "output_type": "execute_result"
    }
   ],
   "source": [
    "set(df_rates.dn.values)"
   ]
  },
  {
   "cell_type": "code",
   "execution_count": 322,
   "metadata": {
    "ExecuteTime": {
     "end_time": "2020-11-30T16:45:01.412055Z",
     "start_time": "2020-11-30T16:45:01.387804Z"
    }
   },
   "outputs": [],
   "source": [
    "#TODO: try V_threshold = 0.5 or 0.4 if 0.6 is giving some dn = ±1 events still after filtering"
   ]
  },
  {
   "cell_type": "code",
   "execution_count": 358,
   "metadata": {
    "ExecuteTime": {
     "end_time": "2020-11-30T16:56:03.012242Z",
     "start_time": "2020-11-30T16:56:02.987668Z"
    }
   },
   "outputs": [],
   "source": [
    "#TODO: select high frequency events and isolate those times\n",
    "#TODO: isolate tips from those times\n",
    "#TODO: "
   ]
  },
  {
   "cell_type": "markdown",
   "metadata": {},
   "source": [
    "# TODO: for each trajectory, compute alpha, dalpha_dt, and then filter any alpha that is large and increasing\n",
    "OR\n",
    "- TODO: visualize alpha versus time for all PID present\n",
    "- TODO: visualize alpha versus time for a normal birth death event\n",
    "- TODO: visualize alpha versus time for another high frequency birth death event\n",
    "- "
   ]
  },
  {
   "cell_type": "code",
   "execution_count": 590,
   "metadata": {
    "ExecuteTime": {
     "end_time": "2020-11-30T18:04:35.506170Z",
     "start_time": "2020-11-30T18:04:34.570226Z"
    }
   },
   "outputs": [],
   "source": [
    "file = \"/Users/timothytyree/Documents/GitHub/care/notebooks/Data/test_data/fast_kernel_V_0.6/ic_200x200.001.13_traj_sr_400_mem_2.csv\"\n",
    "# = '/Users/timothytyree/Documents/GitHub/care/notebooks/Data/test_data/fast_kernel_V_0.6/ic_200x200.001.13_log.csv'\n",
    "df = pd.read_csv(file)\n",
    "\n",
    "t = 1520\n",
    "boo = (df.t>=t-3)&(df.t<=t+3+3+30)\n",
    "gf = df[boo]"
   ]
  },
  {
   "cell_type": "code",
   "execution_count": 591,
   "metadata": {
    "ExecuteTime": {
     "end_time": "2020-11-30T18:04:36.234518Z",
     "start_time": "2020-11-30T18:04:36.207623Z"
    }
   },
   "outputs": [
    {
     "name": "stdout",
     "output_type": "stream",
     "text": [
      "{162, 163, 170, 171, 172, 173, 192, 193, 200, 201, 206, 207, 208, 209, 210, 211, 212, 213, 214, 215, 216, 217, 218, 219, 220, 221, 116, 117}\n"
     ]
    }
   ],
   "source": [
    "print(set(gf.particle.values))\n",
    "pid_lst = [162, 170, 172, 192, 200, 206, 208, 210, 212, 116]"
   ]
  },
  {
   "cell_type": "code",
   "execution_count": 592,
   "metadata": {
    "ExecuteTime": {
     "end_time": "2020-11-30T18:04:37.146839Z",
     "start_time": "2020-11-30T18:04:36.952258Z"
    }
   },
   "outputs": [
    {
     "data": {
      "image/png": "[encoded data removed]",
      "text/plain": [
       "<Figure size 432x288 with 1 Axes>"
      ]
     },
     "metadata": {
      "needs_background": "light"
     },
     "output_type": "display_data"
    }
   ],
   "source": [
    "# plt.figure(figsize=(6,6))\n",
    "for pid in pid_lst:\n",
    "    ff = gf[gf.particle==pid]#.describe().T\n",
    "    d = ff.grad_ux*ff.grad_vx + ff.grad_uy*ff.grad_vy\n",
    "    q = ( ff.grad_ux*ff.grad_ux + ff.grad_uy*ff.grad_uy ) * ( ff.grad_vx*ff.grad_vx + ff.grad_vy*ff.grad_vy  )\n",
    "    w = np.arccos(d/q).values\n",
    "    alpha = np.abs(np.pi/2-w)\n",
    "    y_values = alpha\n",
    "    x_values = ff.t.values-t\n",
    "    plt.plot(x_values,y_values)\n",
    "plt.xlabel('time (ms)')\n",
    "plt.ylabel('anglular disagreement from π/2 (radians)')\n",
    "plt.show()"
   ]
  },
  {
   "cell_type": "code",
   "execution_count": null,
   "metadata": {
    "ExecuteTime": {
     "end_time": "2020-11-30T17:57:44.371308Z",
     "start_time": "2020-11-30T17:57:44.348157Z"
    }
   },
   "outputs": [],
   "source": []
  },
  {
   "cell_type": "code",
   "execution_count": 605,
   "metadata": {
    "ExecuteTime": {
     "end_time": "2020-11-30T18:24:30.462969Z",
     "start_time": "2020-11-30T18:24:29.500578Z"
    }
   },
   "outputs": [],
   "source": [
    "file = \"/Users/timothytyree/Documents/GitHub/care/notebooks/Data/test_data/fast_kernel_V_0.5/ic_200x200.001.13_traj_sr_400_mem_2.csv\"\n",
    "df = pd.read_csv(file)\n",
    "\n",
    "t = 1520\n",
    "boo = (df.t>=t-3)&(df.t<=t+3+3+50)\n",
    "gf = df[boo]"
   ]
  },
  {
   "cell_type": "code",
   "execution_count": 606,
   "metadata": {
    "ExecuteTime": {
     "end_time": "2020-11-30T18:24:30.685940Z",
     "start_time": "2020-11-30T18:24:30.663379Z"
    }
   },
   "outputs": [
    {
     "name": "stdout",
     "output_type": "stream",
     "text": [
      "{134, 135, 138, 139, 140, 141, 160, 161, 172, 173, 178, 179, 180, 181, 182, 183, 184, 185, 86, 87}\n"
     ]
    }
   ],
   "source": [
    "print(set(gf.particle.values))\n",
    "pid_lst = list(set(gf.particle.values))#[162, 170, 172, 192, 200, 206, 208, 210, 212, 116]"
   ]
  },
  {
   "cell_type": "code",
   "execution_count": 607,
   "metadata": {
    "ExecuteTime": {
     "end_time": "2020-11-30T18:24:31.176199Z",
     "start_time": "2020-11-30T18:24:30.903181Z"
    }
   },
   "outputs": [
    {
     "data": {
      "image/png": "[encoded data removed]",
      "text/plain": [
       "<Figure size 432x288 with 1 Axes>"
      ]
     },
     "metadata": {
      "needs_background": "light"
     },
     "output_type": "display_data"
    }
   ],
   "source": [
    "# plt.figure(figsize=(6,6))\n",
    "for pid in pid_lst:\n",
    "    ff = gf[gf.particle==pid]#.describe().T\n",
    "    d = ff.grad_ux*ff.grad_vx + ff.grad_uy*ff.grad_vy\n",
    "    q = ( ff.grad_ux*ff.grad_ux + ff.grad_uy*ff.grad_uy ) * ( ff.grad_vx*ff.grad_vx + ff.grad_vy*ff.grad_vy  )\n",
    "    w = np.arccos(d/q).values\n",
    "    alpha = np.abs(np.pi/2-w)\n",
    "    y_values = alpha\n",
    "    x_values = ff.t.values-t\n",
    "    plt.plot(x_values,y_values)\n",
    "plt.xlabel('time (ms)')\n",
    "plt.ylabel('anglular disagreement from π/2 (radians)')\n",
    "plt.show()"
   ]
  },
  {
   "cell_type": "code",
   "execution_count": 572,
   "metadata": {
    "ExecuteTime": {
     "end_time": "2020-11-30T18:00:21.635107Z",
     "start_time": "2020-11-30T18:00:21.604128Z"
    }
   },
   "outputs": [
    {
     "data": {
      "text/plain": [
       "t\n",
       "1517.0    6\n",
       "1518.0    6\n",
       "1519.0    6\n",
       "1520.0    6\n",
       "1521.0    8\n",
       "1522.0    8\n",
       "1523.0    8\n",
       "1524.0    8\n",
       "1525.0    8\n",
       "1526.0    8\n",
       "Name: n, dtype: int64"
      ]
     },
     "execution_count": 572,
     "metadata": {},
     "output_type": "execute_result"
    }
   ],
   "source": [
    "gf.groupby('t').n.mean()"
   ]
  },
  {
   "cell_type": "code",
   "execution_count": 595,
   "metadata": {
    "ExecuteTime": {
     "end_time": "2020-11-30T18:14:07.344832Z",
     "start_time": "2020-11-30T18:12:01.190667Z"
    }
   },
   "outputs": [
    {
     "data": {
      "text/plain": [
       "0"
      ]
     },
     "execution_count": 595,
     "metadata": {},
     "output_type": "execute_result"
    }
   ],
   "source": [
    "# # track V_threshold = 0.4\n",
    "# file = \"/Users/timothytyree/Documents/GitHub/care/notebooks/Data/test_data/fast_kernel_V_0.4/ic_200x200.001.13_log.csv\"\n",
    "# df = pd.read_csv(file)\n",
    "\n",
    "# # t = 1520\n",
    "# # boo = (df.t>=t-3)&(df.t<=t+3+3)\n",
    "# # gf = df[boo]\n",
    "\n",
    "# #(slow) assign each time a unique frame number\n",
    "# t_list =  sorted(set(df.t.values))\n",
    "# frameno_list = list(range(len(t_list)))\n",
    "# df['frame'] = -9999\n",
    "# for frameno, t in zip(frameno_list,t_list):\n",
    "#     df.loc[df.t==t, 'frame'] = frameno\n",
    "# #assert that all entries were given a value\n",
    "# assert ( not (df.frame<0).any() )\n",
    "# beep(1)\n",
    "# # #first: use the trivial filter\n",
    "# # # \"tip_log_ic_200x200.120.32_V_0.4__t_1e+03.csv\"\n",
    "# # boo = [i is not None for i in df.index]\n",
    "# # dg = df.loc[boo]\n",
    "\n",
    "# # dh = dg.groupby('t').mean()[['n']]\n",
    "# # dh.reset_index(inplace=True)"
   ]
  },
  {
   "cell_type": "code",
   "execution_count": 596,
   "metadata": {
    "ExecuteTime": {
     "end_time": "2020-11-30T18:17:40.001294Z",
     "start_time": "2020-11-30T18:14:17.684648Z"
    }
   },
   "outputs": [
    {
     "name": "stdout",
     "output_type": "stream",
     "text": [
      "Frame 28580: 4 trajectories present.\n"
     ]
    },
    {
     "data": {
      "text/plain": [
       "0"
      ]
     },
     "execution_count": 596,
     "metadata": {},
     "output_type": "execute_result"
    }
   ],
   "source": [
    "# import trackpy, sklearn\n",
    "# # h = 0.007\n",
    "# mem = 2\n",
    "# sr  = 400 #consider all tip pairs\n",
    "# width, height = 200, 200 # txt.shape[:2]\n",
    "# distance_L2_pbc = get_distance_L2_pbc(width,height)\n",
    "\n",
    "# link_kwargs = {\n",
    "#     'neighbor_strategy' : 'BTree',\n",
    "#     'adaptive_step':0.5,\n",
    "#     'adaptive_stop': 1e-5,\n",
    "#     'dist_func'         : distance_L2_pbc,\n",
    "#     'memory': mem,\n",
    "#     'search_range':sr\n",
    "# }\n",
    "\n",
    "# # df['frame'] = np.around(df['t']/h)\n",
    "# # df = df.astype(dtype={'frame':int}).copy()\n",
    "\n",
    "# traj = trackpy.link_df(\n",
    "#     f=df.head(-1),t_column='frame',**link_kwargs)\n",
    "# # traj = trackpy.link_df(\n",
    "# #     f=df.dropna(),t_column='frame',**link_kwargs)\n",
    "\n",
    "# beep(1)\n",
    "\n"
   ]
  },
  {
   "cell_type": "code",
   "execution_count": 598,
   "metadata": {
    "ExecuteTime": {
     "end_time": "2020-11-30T18:19:03.585280Z",
     "start_time": "2020-11-30T18:18:55.085502Z"
    }
   },
   "outputs": [
    {
     "name": "stdout",
     "output_type": "stream",
     "text": [
      "/Users/timothytyree/Documents/GitHub/care/notebooks/Data/test_data/fast_kernel_V_0.4/ic_200x200.001.13_traj_sr_400_mem_2.csv\n"
     ]
    }
   ],
   "source": [
    "# df_dir = file\n",
    "# save_fn = df_dir.replace('log.csv', f'traj_sr_{sr}_mem_{mem}.csv')\n",
    "# traj.to_csv(save_fn, index=False)\n",
    "# print ( save_fn )"
   ]
  },
  {
   "cell_type": "code",
   "execution_count": 599,
   "metadata": {
    "ExecuteTime": {
     "end_time": "2020-11-30T18:19:48.048433Z",
     "start_time": "2020-11-30T18:19:48.021965Z"
    }
   },
   "outputs": [],
   "source": [
    "# import trackpy, sklearn, pandas as pd, numpy as np\n",
    "# from lib.dist_func import *\n",
    "\n",
    "# def compute_bdrates(input_file_name, mem = 2, sr  = 400, width = 200, height = 200):\n",
    "#     df = pd.read_csv(file)\n",
    "\n",
    "#     #(slow) assign each time a unique frame number\n",
    "#     t_list =  sorted(set(df.t.values))\n",
    "#     frameno_list = list(range(len(t_list)))\n",
    "#     df['frame'] = -9999\n",
    "#     for frameno, t in zip(frameno_list,t_list):\n",
    "#         df.loc[df.t==t, 'frame'] = frameno\n",
    "#     #assert that all entries were given a value\n",
    "#     assert ( not (df.frame<0).any() )\n",
    "    \n",
    "#     #consider all tip pairs\n",
    "#     # width, height = 200, 200 # txt.shape[:2]\n",
    "#     distance_L2_pbc = get_distance_L2_pbc(width,height)\n",
    "\n",
    "#     link_kwargs = {\n",
    "#         'neighbor_strategy' : 'BTree',\n",
    "#         'adaptive_step':0.5,\n",
    "#         'adaptive_stop': 1e-5,\n",
    "#         'dist_func'         : distance_L2_pbc,\n",
    "#         'memory': mem,\n",
    "#         'search_range':sr\n",
    "#     }\n",
    "\n",
    "#     # df['frame'] = np.around(df['t']/h)\n",
    "#     # df = df.astype(dtype={'frame':int}).copy()\n",
    "#     traj = trackpy.link_df(\n",
    "#         f=df.head(-1),t_column='frame',**link_kwargs)\n",
    "#     return traj\n",
    "\n",
    "# def routine_bdrates(input_file_name, mem = 2, sr  = 400, width = 200, height = 200):\n",
    "#     traj = compute_bdrates(input_file_name, mem = 2, sr  = 400, width = 200, height = 200)\n",
    "#     save_fn = input_file_name.replace('log.csv', f'traj_sr_{sr}_mem_{mem}.csv')\n",
    "#     traj.to_csv(save_fn, index=False)\n",
    "#     return save_fn"
   ]
  },
  {
   "cell_type": "code",
   "execution_count": 603,
   "metadata": {
    "ExecuteTime": {
     "end_time": "2020-11-30T18:23:55.135773Z",
     "start_time": "2020-11-30T18:23:53.917862Z"
    }
   },
   "outputs": [
    {
     "name": "stdout",
     "output_type": "stream",
     "text": [
      "{138, 139, 142, 143, 144, 145, 164, 165, 166, 167, 168, 169, 170, 171, 172, 173, 174, 175, 176, 177, 98, 99, 116, 117}\n"
     ]
    },
    {
     "data": {
      "image/png": "[encoded data removed]",
      "text/plain": [
       "<Figure size 432x288 with 1 Axes>"
      ]
     },
     "metadata": {
      "needs_background": "light"
     },
     "output_type": "display_data"
    }
   ],
   "source": [
    "file = \"/Users/timothytyree/Documents/GitHub/care/notebooks/Data/test_data/fast_kernel_V_0.4/ic_200x200.001.13_traj_sr_400_mem_2.csv\"\n",
    "df = pd.read_csv(file)\n",
    "\n",
    "t = 1520\n",
    "boo = (df.t>=t-3)&(df.t<=t+3+3+50)\n",
    "gf = df[boo]\n",
    "\n",
    "print(set(gf.particle.values))\n",
    "pid_lst = list(set(gf.particle.values))#[162, 170, 172, 192, 200, 206, 208, 210, 212, 116]\n",
    "\n",
    "# plt.figure(figsize=(6,6))\n",
    "for pid in pid_lst:\n",
    "    ff = gf[gf.particle==pid]#.describe().T\n",
    "    d = ff.grad_ux*ff.grad_vx + ff.grad_uy*ff.grad_vy\n",
    "    q = ( ff.grad_ux*ff.grad_ux + ff.grad_uy*ff.grad_uy ) * ( ff.grad_vx*ff.grad_vx + ff.grad_vy*ff.grad_vy  )\n",
    "    w = np.arccos(d/q).values\n",
    "    alpha = np.abs(np.pi/2-w)\n",
    "    y_values = alpha\n",
    "    x_values = ff.t.values-t\n",
    "    plt.plot(x_values,y_values)\n",
    "plt.xlabel('time (ms)')\n",
    "plt.ylabel('anglular disagreement from π/2 (radians)')\n",
    "plt.show()\n"
   ]
  },
  {
   "cell_type": "code",
   "execution_count": 608,
   "metadata": {
    "ExecuteTime": {
     "end_time": "2020-11-30T18:25:14.970464Z",
     "start_time": "2020-11-30T18:25:14.950023Z"
    }
   },
   "outputs": [],
   "source": [
    "#TODO: compute bdrates for each V_threshold"
   ]
  },
  {
   "cell_type": "code",
   "execution_count": 609,
   "metadata": {
    "ExecuteTime": {
     "end_time": "2020-11-30T18:25:28.697248Z",
     "start_time": "2020-11-30T18:25:28.671440Z"
    }
   },
   "outputs": [],
   "source": [
    "# df = pd.read_csv(file)"
   ]
  },
  {
   "cell_type": "code",
   "execution_count": 639,
   "metadata": {
    "ExecuteTime": {
     "end_time": "2020-11-30T18:31:50.163658Z",
     "start_time": "2020-11-30T18:31:49.349139Z"
    }
   },
   "outputs": [],
   "source": [
    "V_threshold = 0.6\n",
    "file = f\"/Users/timothytyree/Documents/GitHub/care/notebooks/Data/test_data/fast_kernel_V_{V_threshold}/ic_200x200.001.13_log.csv\"\n",
    "df_output, gf = compute_bdrates_from_log_w_mean(\n",
    "    src=file,\n",
    "    min_time_to_next_event=0,\n",
    "    min_time=100,)"
   ]
  },
  {
   "cell_type": "code",
   "execution_count": 640,
   "metadata": {
    "ExecuteTime": {
     "end_time": "2020-11-30T18:31:50.641739Z",
     "start_time": "2020-11-30T18:31:50.356824Z"
    }
   },
   "outputs": [
    {
     "data": {
      "image/png": "[encoded data removed]",
      "text/plain": [
       "<Figure size 432x288 with 1 Axes>"
      ]
     },
     "metadata": {
      "needs_background": "light"
     },
     "output_type": "display_data"
    }
   ],
   "source": [
    "plt.hist(gf.rate.values)\n",
    "plt.title(f\"V_threshold = {V_threshold}\")\n",
    "plt.xlabel('rate (1/ms)')\n",
    "plt.ylabel('frequency')\n",
    "plt.yscale('log')\n",
    "plt.show()"
   ]
  },
  {
   "cell_type": "code",
   "execution_count": 633,
   "metadata": {
    "ExecuteTime": {
     "end_time": "2020-11-30T18:30:40.895528Z",
     "start_time": "2020-11-30T18:30:40.872200Z"
    }
   },
   "outputs": [
    {
     "data": {
      "text/plain": [
       "1.0"
      ]
     },
     "execution_count": 633,
     "metadata": {},
     "output_type": "execute_result"
    }
   ],
   "source": [
    "np.max(gf.rate.values)"
   ]
  },
  {
   "cell_type": "code",
   "execution_count": null,
   "metadata": {},
   "outputs": [],
   "source": []
  }
 ],
 "metadata": {
  "kernelspec": {
   "display_name": "Python 3",
   "language": "python",
   "name": "python3"
  },
  "language_info": {
   "codemirror_mode": {
    "name": "ipython",
    "version": 3
   },
   "file_extension": ".py",
   "mimetype": "text/x-python",
   "name": "python",
   "nbconvert_exporter": "python",
   "pygments_lexer": "ipython3",
   "version": "3.8.6"
  },
  "toc": {
   "base_numbering": 1,
   "nav_menu": {},
   "number_sections": true,
   "sideBar": true,
   "skip_h1_title": false,
   "title_cell": "Table of Contents",
   "title_sidebar": "Contents",
   "toc_cell": false,
   "toc_position": {},
   "toc_section_display": true,
   "toc_window_display": false
  },
  "varInspector": {
   "cols": {
    "lenName": 16,
    "lenType": 16,
    "lenVar": 40
   },
   "kernels_config": {
    "python": {
     "delete_cmd_postfix": "",
     "delete_cmd_prefix": "del ",
     "library": "var_list.py",
     "varRefreshCmd": "print(var_dic_list())"
    },
    "r": {
     "delete_cmd_postfix": ") ",
     "delete_cmd_prefix": "rm(",
     "library": "var_list.r",
     "varRefreshCmd": "cat(var_dic_list()) "
    }
   },
   "types_to_exclude": [
    "module",
    "function",
    "builtin_function_or_method",
    "instance",
    "_Feature"
   ],
   "window_display": false
  }
 },
 "nbformat": 4,
 "nbformat_minor": 4
}
