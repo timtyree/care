{
 "cells": [
  {
   "cell_type": "markdown",
   "id": "1ae47247",
   "metadata": {},
   "source": [
    "# generating figure 1\n",
    "Tim Tyree<br>\n",
    "9.22.2021"
   ]
  },
  {
   "cell_type": "code",
   "execution_count": 1,
   "id": "a1abc77b",
   "metadata": {
    "ExecuteTime": {
     "end_time": "2022-03-09T06:41:44.967639Z",
     "start_time": "2022-03-09T06:41:43.621953Z"
    }
   },
   "outputs": [
    {
     "name": "stdout",
     "output_type": "stream",
     "text": [
      "Automatic calling is: Smart\n"
     ]
    }
   ],
   "source": [
    "from lib.my_initialization import *\n",
    "from lib import *\n",
    "# from lib.measure.unwrap_and_smooth_cu import *\n",
    "# from lib.rapids_func import *\n",
    "# .routines.unwrap_and_smooth_trajectories_cu import *\n",
    "\n",
    "import itertools\n",
    "import dask_cudf\n",
    "from lib.rapids_func import *\n",
    "get_DT_cu\n",
    "\n",
    "#magic    \n",
    "%autocall 1\n",
    "%load_ext autoreload\n",
    "%autoreload 2\n",
    "\n",
    "import cupy as cp, cudf, numba.cuda as cuda\n",
    "import rmm\n",
    "# Switch to RMM allocator\n",
    "cp.cuda.set_allocator(rmm.rmm_cupy_allocator)"
   ]
  },
  {
   "cell_type": "markdown",
   "id": "68ddef75",
   "metadata": {},
   "source": [
    "# dev"
   ]
  },
  {
   "cell_type": "code",
   "execution_count": 8,
   "id": "51ddb762",
   "metadata": {
    "ExecuteTime": {
     "end_time": "2022-03-09T14:44:21.470247Z",
     "start_time": "2022-03-09T06:52:37.822514Z"
    }
   },
   "outputs": [
    {
     "name": "stdout",
     "output_type": "stream",
     "text": [
      "DT=0.4 ms\n",
      "running return_moving_average_of_pbc_trajectories_and_save on 648 files...\n",
      "the run time was 0.44 minutes.\n",
      "the number of successfully smoothed trajectory files was 324\n",
      "the run time was 2.02 minutes.\n",
      "the number of trajectory files processed to annihilation files was 288\n",
      "DT=0.5 ms\n",
      "running return_moving_average_of_pbc_trajectories_and_save on 159 files...\n",
      "the run time was 0.20 minutes.\n",
      "the number of successfully smoothed trajectory files was 159\n",
      "the run time was 469.61 minutes.\n",
      "the number of trajectory files processed to annihilation files was 108\n",
      "saved to\n",
      "data_dir_fk='/home/timothytyree/Documents/GitHub/bgmc/python/data/full_results/annihilation_data_fk_tavg1_0.0_tavg2_14.00_min_duration_thresh_1.csv'\n",
      "data_dir_lr='/home/timothytyree/Documents/GitHub/bgmc/python/data/full_results/annihilation_data_lr_tavg1_0.0_tavg2_14.00_min_duration_thresh_1.csv'\n"
     ]
    }
   ],
   "source": [
    "##########################\n",
    "# Perform Averaging\n",
    "##########################\n",
    "tavg1=0\n",
    "tavg2=14#todo 0\n",
    "#one token trajectory file for the fenton karma model and the luo-rudy model\n",
    "input_fn_lst=[\n",
    "# c='C0'\n",
    "# # # # #token FK at DT=0.4\n",
    "\"/home/timothytyree/Documents/GitHub/care/notebooks/Data/initial-conditions-fk-200x200/param_set_8_ds_5.0_tmax_10_diffCoef_0.0005/Log/ic200x200.0.2_traj_sr_400_mem_0.csv\",\n",
    "# c='C1'\n",
    "# #tokenLR at DT=0.5\n",
    "\"/home/timothytyree/Documents/GitHub/care/notebooks/Data/initial-conditions-suite-3-LR/param_qu_tmax_30_Ko_5.4_diffCoef_0.0005_dt_0.5/trajectories/ic002.11_traj_sr_600_mem_0.csv\",   \n",
    "]\n",
    "\n",
    "kwargs_full=dict(\n",
    "        max_dtmax_thresh = 0,      #ms\n",
    "        max_Rfinal_thresh = 0.2,   #cm\n",
    "        min_duration_thresh = 15,  #ms\n",
    "        npartitions=None,\n",
    "        width=200,\n",
    "        height=200,\n",
    "        ds=5,\n",
    "        use_drop_shorter_than=False,\n",
    "        drop_shorter_than=40, #ms\n",
    "        tmin=100., #ms\n",
    "        pid_col='particle',\n",
    "        t_col='t',\n",
    "        npartitions2=1,\n",
    "        printing=True)\n",
    "# min_duration_thresh=1\n",
    "# pid_col='particle'\n",
    "# kwargs_full=dict(\n",
    "#         max_dtmax_thresh = 0,      #ms\n",
    "#         max_Rfinal_thresh = .2,   #cm  #max range at time of annihilation to be considered an annihilation\n",
    "#         min_duration_thresh = float(min_duration_thresh),  #ms\n",
    "#         npartitions=None,\n",
    "#         width=200,\n",
    "#         height=200,\n",
    "#         ds=5,\n",
    "#         use_drop_shorter_than=False,\n",
    "#         drop_shorter_than=0, #ms\n",
    "#         tmin=100., #ms\n",
    "#         pid_col=pid_col,\n",
    "#         t_col='t',\n",
    "#         npartitions2=1,\n",
    "#         printing=True)\n",
    "\n",
    "save_dir_lst2_lst=[]\n",
    "for input_fn in input_fn_lst:\n",
    "    df = pd.read_csv(input_fn)\n",
    "    DT = np.around(get_DT(df, pid_col=pid_col), 7)\n",
    "    print(f\"DT={DT} ms\")\n",
    "    retval = routine_postprocess_trajectory_folder(\n",
    "        input_fn,\n",
    "        DT,\n",
    "        tavg1=tavg1,\n",
    "        tavg2=tavg2,\n",
    "        **kwargs_full)\n",
    "    save_dir_lst, save_dir_lst2 = retval\n",
    "    save_dir_lst2_lst.append(save_dir_lst2)\n",
    "\n",
    "saving=True\n",
    "if saving:\n",
    "    #save data to cache\n",
    "    #FK at 0.4ms\n",
    "    save_folder='/home/timothytyree/Documents/GitHub/bgmc/python/data/full_results'\n",
    "    data_dir_fk=f'{save_folder}/annihilation_data_fk_tavg1_{tavg1:.1f}_tavg2_{tavg2:.2f}_min_duration_thresh_{min_duration_thresh}.csv'\n",
    "    df_fk=dask_cudf.read_csv(save_dir_lst2_lst[0]).compute()\n",
    "    df_fk.to_csv(data_dir_fk,index=False)\n",
    "    #LR at 0.5ms\n",
    "    data_dir_lr=f'{save_folder}/annihilation_data_lr_tavg1_{tavg1:.1f}_tavg2_{tavg2:.2f}_min_duration_thresh_{min_duration_thresh}.csv'\n",
    "    df_lr=dask_cudf.read_csv(save_dir_lst2_lst[1]).compute()\n",
    "    df_lr.to_csv(data_dir_lr,index=False)\n",
    "    print(f\"saved to\\ndata_dir_fk='{data_dir_fk}'\\ndata_dir_lr='{data_dir_lr}'\")"
   ]
  },
  {
   "cell_type": "code",
   "execution_count": 9,
   "id": "4fa92cae",
   "metadata": {
    "ExecuteTime": {
     "end_time": "2022-03-09T14:44:22.257252Z",
     "start_time": "2022-03-09T14:44:21.622964Z"
    }
   },
   "outputs": [
    {
     "name": "stdout",
     "output_type": "stream",
     "text": [
      "\u0007\u0007\u0007"
     ]
    },
    {
     "data": {
      "text/plain": [
       "0"
      ]
     },
     "execution_count": 9,
     "metadata": {},
     "output_type": "execute_result"
    }
   ],
   "source": [
    "beep(3)"
   ]
  },
  {
   "cell_type": "code",
   "execution_count": null,
   "id": "9bc34583",
   "metadata": {},
   "outputs": [],
   "source": []
  },
  {
   "cell_type": "markdown",
   "id": "bda0238f",
   "metadata": {},
   "source": [
    "# TODO: plot the kdeplot of the mean squared distances versus the minimum lifetimes for the luo-rudy model"
   ]
  },
  {
   "cell_type": "code",
   "execution_count": 41,
   "id": "b3649ba2",
   "metadata": {
    "ExecuteTime": {
     "end_time": "2022-03-09T06:11:11.528571Z",
     "start_time": "2022-03-09T06:11:10.888932Z"
    }
   },
   "outputs": [
    {
     "data": {
      "text/html": [
       "<div>\n",
       "<style scoped>\n",
       "    .dataframe tbody tr th:only-of-type {\n",
       "        vertical-align: middle;\n",
       "    }\n",
       "\n",
       "    .dataframe tbody tr th {\n",
       "        vertical-align: top;\n",
       "    }\n",
       "\n",
       "    .dataframe thead th {\n",
       "        text-align: right;\n",
       "    }\n",
       "</style>\n",
       "<table border=\"1\" class=\"dataframe\">\n",
       "  <thead>\n",
       "    <tr style=\"text-align: right;\">\n",
       "      <th></th>\n",
       "      <th>event_id_int</th>\n",
       "      <th>pid_self</th>\n",
       "      <th>pid_other</th>\n",
       "      <th>index</th>\n",
       "      <th>t</th>\n",
       "      <th>R</th>\n",
       "      <th>index_pairs</th>\n",
       "      <th>index_self</th>\n",
       "      <th>index_other</th>\n",
       "      <th>x_self</th>\n",
       "      <th>y_self</th>\n",
       "      <th>x_other</th>\n",
       "      <th>y_other</th>\n",
       "      <th>R_nosavgol</th>\n",
       "      <th>tdeath</th>\n",
       "    </tr>\n",
       "  </thead>\n",
       "  <tbody>\n",
       "    <tr>\n",
       "      <th>0</th>\n",
       "      <td>1014126000</td>\n",
       "      <td>68</td>\n",
       "      <td>74</td>\n",
       "      <td>0</td>\n",
       "      <td>186.0</td>\n",
       "      <td>1.275421</td>\n",
       "      <td>0</td>\n",
       "      <td>1443</td>\n",
       "      <td>1446</td>\n",
       "      <td>134.080952</td>\n",
       "      <td>25.349498</td>\n",
       "      <td>104.738229</td>\n",
       "      <td>66.108926</td>\n",
       "      <td>1.255569</td>\n",
       "      <td>41.0</td>\n",
       "    </tr>\n",
       "    <tr>\n",
       "      <th>1</th>\n",
       "      <td>1014126000</td>\n",
       "      <td>68</td>\n",
       "      <td>74</td>\n",
       "      <td>1</td>\n",
       "      <td>186.5</td>\n",
       "      <td>1.266636</td>\n",
       "      <td>0</td>\n",
       "      <td>1456</td>\n",
       "      <td>1455</td>\n",
       "      <td>133.998502</td>\n",
       "      <td>25.012627</td>\n",
       "      <td>104.590506</td>\n",
       "      <td>66.137120</td>\n",
       "      <td>1.263936</td>\n",
       "      <td>40.5</td>\n",
       "    </tr>\n",
       "    <tr>\n",
       "      <th>2</th>\n",
       "      <td>1014126000</td>\n",
       "      <td>68</td>\n",
       "      <td>74</td>\n",
       "      <td>2</td>\n",
       "      <td>187.0</td>\n",
       "      <td>1.259860</td>\n",
       "      <td>0</td>\n",
       "      <td>1462</td>\n",
       "      <td>1467</td>\n",
       "      <td>134.039986</td>\n",
       "      <td>25.133593</td>\n",
       "      <td>104.564511</td>\n",
       "      <td>66.135175</td>\n",
       "      <td>1.262422</td>\n",
       "      <td>40.0</td>\n",
       "    </tr>\n",
       "    <tr>\n",
       "      <th>3</th>\n",
       "      <td>1014126000</td>\n",
       "      <td>68</td>\n",
       "      <td>74</td>\n",
       "      <td>3</td>\n",
       "      <td>187.5</td>\n",
       "      <td>1.254901</td>\n",
       "      <td>0</td>\n",
       "      <td>1471</td>\n",
       "      <td>1472</td>\n",
       "      <td>134.080449</td>\n",
       "      <td>25.225738</td>\n",
       "      <td>104.194274</td>\n",
       "      <td>66.067583</td>\n",
       "      <td>1.265217</td>\n",
       "      <td>39.5</td>\n",
       "    </tr>\n",
       "    <tr>\n",
       "      <th>4</th>\n",
       "      <td>1014126000</td>\n",
       "      <td>68</td>\n",
       "      <td>74</td>\n",
       "      <td>4</td>\n",
       "      <td>188.0</td>\n",
       "      <td>1.251562</td>\n",
       "      <td>0</td>\n",
       "      <td>1481</td>\n",
       "      <td>1485</td>\n",
       "      <td>134.274329</td>\n",
       "      <td>25.570294</td>\n",
       "      <td>103.919121</td>\n",
       "      <td>66.037570</td>\n",
       "      <td>1.264674</td>\n",
       "      <td>39.0</td>\n",
       "    </tr>\n",
       "  </tbody>\n",
       "</table>\n",
       "</div>"
      ],
      "text/plain": [
       "   event_id_int  pid_self  pid_other  index      t         R  index_pairs  \\\n",
       "0    1014126000        68         74      0  186.0  1.275421            0   \n",
       "1    1014126000        68         74      1  186.5  1.266636            0   \n",
       "2    1014126000        68         74      2  187.0  1.259860            0   \n",
       "3    1014126000        68         74      3  187.5  1.254901            0   \n",
       "4    1014126000        68         74      4  188.0  1.251562            0   \n",
       "\n",
       "   index_self  index_other      x_self     y_self     x_other    y_other  \\\n",
       "0        1443         1446  134.080952  25.349498  104.738229  66.108926   \n",
       "1        1456         1455  133.998502  25.012627  104.590506  66.137120   \n",
       "2        1462         1467  134.039986  25.133593  104.564511  66.135175   \n",
       "3        1471         1472  134.080449  25.225738  104.194274  66.067583   \n",
       "4        1481         1485  134.274329  25.570294  103.919121  66.037570   \n",
       "\n",
       "   R_nosavgol  tdeath  \n",
       "0    1.255569    41.0  \n",
       "1    1.263936    40.5  \n",
       "2    1.262422    40.0  \n",
       "3    1.265217    39.5  \n",
       "4    1.264674    39.0  "
      ]
     },
     "execution_count": 41,
     "metadata": {},
     "output_type": "execute_result"
    }
   ],
   "source": [
    "# data_dir_fk='/home/timothytyree/Documents/GitHub/bgmc/python/data/full_results/annihilation_data_fk_tavg1_0.0_tavg2_14.00.csv'\n",
    "# df=pd.read_csv(data_dir_fk)\n",
    "data_dir_lr='/home/timothytyree/Documents/GitHub/bgmc/python/data/full_results/annihilation_data_lr_tavg1_0.0_tavg2_14.00.csv'\n",
    "df=pd.read_csv(data_dir_lr)\n",
    "df.head()"
   ]
  },
  {
   "cell_type": "code",
   "execution_count": 42,
   "id": "adbc8b17",
   "metadata": {
    "ExecuteTime": {
     "end_time": "2022-03-09T06:11:13.803645Z",
     "start_time": "2022-03-09T06:11:11.691955Z"
    }
   },
   "outputs": [],
   "source": [
    "R_col='R'\n",
    "R_col='R_nosavgol'\n",
    "t_col='t'\n",
    "\n",
    "minimum_lifetime_lst=[]\n",
    "RBarSquared_lst=[]\n",
    "groups=df.groupby(by=['event_id_int','pid_self','pid_other'])\n",
    "for (event_id_int,pid_self,pid_other),g in groups:\n",
    "    #compute observables of interest\n",
    "    minimum_lifetime=g[t_col].max()-g[t_col].min() # ms max_min_time\n",
    "    RBarSquared=(g[R_col]**2).mean()\n",
    "    #record\n",
    "    minimum_lifetime_lst.append(minimum_lifetime)\n",
    "    RBarSquared_lst.append(RBarSquared)\n",
    "x_values=np.array(minimum_lifetime_lst)\n",
    "y_values=np.array(RBarSquared_lst)"
   ]
  },
  {
   "cell_type": "code",
   "execution_count": 43,
   "id": "de59000a",
   "metadata": {
    "ExecuteTime": {
     "end_time": "2022-03-09T06:11:14.086396Z",
     "start_time": "2022-03-09T06:11:13.966298Z"
    }
   },
   "outputs": [
    {
     "data": {
      "text/plain": [
       "<matplotlib.collections.PathCollection at 0x7f3cedca66d0>"
      ]
     },
     "execution_count": 43,
     "metadata": {},
     "output_type": "execute_result"
    },
    {
     "data": {
      "image/png": "[encoded data removed]",
      "text/plain": [
       "<Figure size 432x288 with 1 Axes>"
      ]
     },
     "metadata": {
      "needs_background": "light"
     },
     "output_type": "display_data"
    }
   ],
   "source": [
    "plt.scatter(x_values,y_values)"
   ]
  },
  {
   "cell_type": "code",
   "execution_count": 44,
   "id": "ae681e15",
   "metadata": {
    "ExecuteTime": {
     "end_time": "2022-03-09T06:11:14.452440Z",
     "start_time": "2022-03-09T06:11:14.252114Z"
    }
   },
   "outputs": [
    {
     "name": "stdout",
     "output_type": "stream",
     "text": [
      "bootstrapped average for the full model (num_samples=5181):\n",
      "mean minimum lifetime: 61.9093 +/-  0.6637 ms (p=0.2573)\n",
      "mean squared distance: 0.7049 +/-  0.0236 cm^2 (p=0.7381)\n"
     ]
    }
   ],
   "source": [
    "np.random.seed(42)\n",
    "#bootstrap average values\n",
    "num_samples=x_values.shape[0]\n",
    "xBar=np.mean(x_values)\n",
    "yBar=np.mean(y_values)\n",
    "Delta_xBar=np.mean(x_values)\n",
    "Delta_xBar,p_normal_xBar=bootstrap_95CI_Delta_mean(x_values,num_samples=1000)\n",
    "Delta_yBar,p_normal_yBar=bootstrap_95CI_Delta_mean(y_values,num_samples=1000)\n",
    "print(f\"bootstrapped average for the full model (num_samples={num_samples}):\")\n",
    "# print(f\"xBar: {xBar:.4f} +/-  {Delta_xBar:.4f} (p={p_normal_xBar:.4f})\")\n",
    "# print(f\"yBar: {yBar:.4f} +/-  {Delta_yBar:.4f} (p={p_normal_yBar:.4f})\")\n",
    "print(f\"mean minimum lifetime: {xBar:.4f} +/-  {Delta_xBar:.4f} ms (p={p_normal_xBar:.4f})\")\n",
    "print(f\"mean squared distance: {yBar:.4f} +/-  {Delta_yBar:.4f} cm^2 (p={p_normal_yBar:.4f})\")"
   ]
  },
  {
   "cell_type": "code",
   "execution_count": 46,
   "id": "649173ac",
   "metadata": {
    "ExecuteTime": {
     "end_time": "2022-03-09T06:15:14.761782Z",
     "start_time": "2022-03-09T06:15:14.741279Z"
    }
   },
   "outputs": [],
   "source": [
    "#TODO: plot a kde for these xy values\n",
    "df_xy=pd.DataFrame({'x':x_values,'y':y_values,})"
   ]
  },
  {
   "cell_type": "code",
   "execution_count": 54,
   "id": "ba496243",
   "metadata": {
    "ExecuteTime": {
     "end_time": "2022-03-09T06:17:47.689206Z",
     "start_time": "2022-03-09T06:17:47.666651Z"
    }
   },
   "outputs": [],
   "source": [
    "kwargs_plot=dict(data=df_xy, x=\"x\", y=\"y\",xlim=[0,150],ylim=[0,2])"
   ]
  },
  {
   "cell_type": "code",
   "execution_count": 55,
   "id": "ee9a3a85",
   "metadata": {
    "ExecuteTime": {
     "end_time": "2022-03-09T06:17:48.853359Z",
     "start_time": "2022-03-09T06:17:48.835879Z"
    }
   },
   "outputs": [],
   "source": [
    "# \"scatter\" | \"kde\" | \"hist\" | \"hex\" | \"reg\" | \"resid\" "
   ]
  },
  {
   "cell_type": "code",
   "execution_count": 56,
   "id": "00a8bb8f",
   "metadata": {
    "ExecuteTime": {
     "end_time": "2022-03-09T06:17:49.725516Z",
     "start_time": "2022-03-09T06:17:49.081184Z"
    }
   },
   "outputs": [
    {
     "data": {
      "text/plain": [
       "<seaborn.axisgrid.JointGrid at 0x7f3cec8a4490>"
      ]
     },
     "execution_count": 56,
     "metadata": {},
     "output_type": "execute_result"
    },
    {
     "data": {
      "image/png": "[encoded data removed]",
      "text/plain": [
       "<Figure size 432x432 with 3 Axes>"
      ]
     },
     "metadata": {
      "needs_background": "light"
     },
     "output_type": "display_data"
    }
   ],
   "source": [
    "sns.jointplot(kind=\"hex\",**kwargs_plot)"
   ]
  },
  {
   "cell_type": "code",
   "execution_count": null,
   "id": "8839977f",
   "metadata": {},
   "outputs": [],
   "source": [
    "sns.jointplot(data=penguins, x=\"bill_length_mm\", y=\"bill_depth_mm\", hue=\"species\", kind=\"kde\")\n"
   ]
  },
  {
   "cell_type": "code",
   "execution_count": null,
   "id": "6fe07527",
   "metadata": {},
   "outputs": [],
   "source": [
    "geyser = sns.load_dataset(\"geyser\")\n",
    "sns.kdeplot(data=geyser, x=\"waiting\", y=\"duration\")"
   ]
  },
  {
   "cell_type": "code",
   "execution_count": null,
   "id": "7ae5dcec",
   "metadata": {},
   "outputs": [],
   "source": [
    "sns.kdeplot(\n",
    "    data=geyser, x=\"waiting\", y=\"duration\", hue=\"kind\", fill=True,\n",
    ")"
   ]
  },
  {
   "cell_type": "code",
   "execution_count": null,
   "id": "efb00316",
   "metadata": {},
   "outputs": [],
   "source": [
    "sns.kdeplot(\n",
    "    data=geyser, x=\"waiting\", y=\"duration\",\n",
    "    fill=True, thresh=0, levels=100, cmap=\"mako\",\n",
    ")"
   ]
  },
  {
   "cell_type": "code",
   "execution_count": null,
   "id": "2cf8ed40",
   "metadata": {},
   "outputs": [],
   "source": []
  },
  {
   "cell_type": "code",
   "execution_count": null,
   "id": "8e548957",
   "metadata": {},
   "outputs": [],
   "source": []
  },
  {
   "cell_type": "markdown",
   "id": "2c30f79a",
   "metadata": {
    "heading_collapsed": true
   },
   "source": [
    "# (deprecated)"
   ]
  },
  {
   "cell_type": "code",
   "execution_count": 10,
   "id": "c536b89f",
   "metadata": {
    "ExecuteTime": {
     "end_time": "2021-09-22T20:17:32.833896Z",
     "start_time": "2021-09-22T20:17:32.775603Z"
    },
    "hidden": true
   },
   "outputs": [],
   "source": [
    "#conda activate pyenv_ub\n",
    "from lib import *\n",
    "import cuml\n",
    "import cupy\n",
    "import cudf\n",
    "import tensorflow\n",
    "import xgboost as xgb\n",
    "import bokeh\n",
    "import plotly\n",
    "import seaborn as sns"
   ]
  },
  {
   "cell_type": "code",
   "execution_count": 21,
   "id": "834b1d5c",
   "metadata": {
    "ExecuteTime": {
     "end_time": "2021-09-22T20:20:43.844137Z",
     "start_time": "2021-09-22T20:20:43.838519Z"
    },
    "hidden": true
   },
   "outputs": [],
   "source": [
    "darkmode=False\n",
    "if darkmode:\n",
    "    # For darkmode plots\n",
    "    from jupyterthemes import jtplot\n",
    "    jtplot.style(theme='monokai', context='notebook', ticks=True, grid=False)"
   ]
  },
  {
   "cell_type": "code",
   "execution_count": 27,
   "id": "9b6e8922",
   "metadata": {
    "ExecuteTime": {
     "end_time": "2021-09-22T20:38:59.564459Z",
     "start_time": "2021-09-22T20:38:59.561908Z"
    },
    "hidden": true
   },
   "outputs": [],
   "source": [
    "#TODO: load a csv file with annihilating trajectories from the Luo-Rudy model\n",
    "input_fn_full='/home/timothytyree/Documents/GitHub/care/notebooks/Data/initial-conditions-suite-3-LR/param_qu_tmax_30_Ko_5.4_diffCoef_0.0005_dt_0.025_Vthresh_-40/trajectories/ic001.21_traj_sr_600_mem_0.csv'\n",
    "#TODO: load a csv file with annihilating trajectories from the particle model\n",
    "input_fn_particle='/home/timothytyree/Documents/GitHub/bgmc/python/data/local_results/euic_False_fc_2_r_0.1_D_2_L_10_kappa_1500_varkappa_5/Log/pbc_particle_log1_log.csv'\n",
    "df_full=cudf.read_csv(input_fn_full)\n",
    "df_particle=cudf.read_csv(input_fn_particle)\n",
    "df=df_full.copy()\n",
    "df.head()"
   ]
  },
  {
   "cell_type": "code",
   "execution_count": null,
   "id": "4dd82a01",
   "metadata": {
    "hidden": true
   },
   "outputs": [],
   "source": [
    "#TODO: compute annihilation events for a particle from the Luo-Rudy model\n",
    "kwargs={\n",
    "    'input_fn_lst':file_name_list,\n",
    "    'L':width,\n",
    "    'DS':ds/width,\n",
    "    'use_cache_0':True,\n",
    "    'use_cache_1':True,\n",
    "    'npartitions':npartitions,\n",
    "    'sr':3*width,\n",
    "    'mem':0,\n",
    "    'trial_folder_name':trial_folder_name,\n",
    "    'ic_suite_fn':ic_suite_fn\n",
    "}\n",
    "DS,width,trial_folder_name"
   ]
  },
  {
   "cell_type": "code",
   "execution_count": 29,
   "id": "ff1cdb77",
   "metadata": {
    "ExecuteTime": {
     "end_time": "2021-09-22T20:45:31.577186Z",
     "start_time": "2021-09-22T20:45:28.546929Z"
    },
    "hidden": true
   },
   "outputs": [
    {
     "name": "stdout",
     "output_type": "stream",
     "text": [
      "/home/timothytyree/Documents/GitHub/care/notebooks/Data/initial-conditions-suite-3-LR/param_qu_tmax_30_Ko_5.4_diffCoef_0.0005_dt_0.025_Vthresh_-40/trajectories/ic001.21_traj_sr_600_mem_0.csv\n",
      "the time resolution is 0.025 ms.\n"
     ]
    }
   ],
   "source": [
    "input_fn=input_fn_full\n",
    "ds=5\n",
    "width=200\n",
    "pid_col='particle'\n",
    "t_col='t'\n",
    "height=width\n",
    "df=pd.read_csv(input_fn);print(input_fn)\n",
    "DT=np.around(get_DT(df,pid_col=pid_col),5);print(f\"the time resolution is {DT} ms.\")\n",
    "DS=ds/width\n",
    "trial_folder_name=os.path.dirname(os.path.dirname(input_fn))"
   ]
  },
  {
   "cell_type": "code",
   "execution_count": 30,
   "id": "3c938141",
   "metadata": {
    "ExecuteTime": {
     "end_time": "2021-09-22T20:47:37.065611Z",
     "start_time": "2021-09-22T20:46:01.485379Z"
    },
    "hidden": true
   },
   "outputs": [
    {
     "name": "stdout",
     "output_type": "stream",
     "text": [
      "termination time was 6802.80 ms\n",
      "printing summary stats on particle lifetimes for one input folder in /home/timothytyree/Documents/GitHub/care/notebooks/Data/initial-conditions-suite-3-LR/param_qu_tmax_30_Ko_5.4_diffCoef_0.0005_dt_0.025_Vthresh_-40:\n",
      "count    82798.000000\n",
      "mean         1.146551\n",
      "std          2.425658\n",
      "min         -0.000000\n",
      "25%          0.175000\n",
      "50%          0.375000\n",
      "75%          0.900000\n",
      "max         71.500000\n",
      "Name: min, dtype: float64\n",
      "\n",
      "Please make a manual decision about minimum_lifetime, crop_start_by, and crop_end_by\n"
     ]
    }
   ],
   "source": [
    "#print summary stats on particle lifetimes for one input folder\n",
    "dft=df.groupby(pid_col)[t_col].describe()\n",
    "df_lifetimes=-dft[['max','min']].T.diff().loc['min']\n",
    "print(f\"termination time was {df[t_col].max():.2f} ms\")\n",
    "\n",
    "print(f\"printing summary stats on particle lifetimes for one input folder in {trial_folder_name}:\")\n",
    "print(df_lifetimes.describe())\n",
    "# print(df_lifetimes.head(10))\n",
    "print(\"\\nPlease make a manual decision about minimum_lifetime, crop_start_by, and crop_end_by\")"
   ]
  },
  {
   "cell_type": "code",
   "execution_count": 32,
   "id": "6f8dad8e",
   "metadata": {
    "ExecuteTime": {
     "end_time": "2021-09-22T20:51:30.679205Z",
     "start_time": "2021-09-22T20:51:30.664303Z"
    },
    "hidden": true
   },
   "outputs": [
    {
     "data": {
      "text/plain": [
       "{'width': 200,\n",
       " 'height': 200,\n",
       " 'ds': 5,\n",
       " 'printing': False,\n",
       " 'min_range': 0.5,\n",
       " 'min_duration': 50,\n",
       " 'npartitions': 10,\n",
       " 'filter_beginning': True,\n",
       " 'use_grad_voltage': True,\n",
       " 'use_min_duration': False,\n",
       " 'range_threshold': 0.1,\n",
       " 'round_t_to_n_digits': 5,\n",
       " 'tmin': 100,\n",
       " 'pid_col': 'particle',\n",
       " 't_col': 't',\n",
       " 'max_dur': 500,\n",
       " 'folder_out_name': 'annihilations_mindur_50_maxdur_500_minrange_0.5_rangethresh_0.1'}"
      ]
     },
     "execution_count": 32,
     "metadata": {},
     "output_type": "execute_result"
    }
   ],
   "source": [
    "#full model lr (and fk)\n",
    "min_duration=50#ms\n",
    "min_range   =.5#cm\n",
    "filter_beginning=True #this does nothing rn...\n",
    "use_min_duration=False\n",
    "use_grad_voltage=True\n",
    "range_threshold=.1 #cm #filter any deaths occurring at ranges exceeding range_threshold\n",
    "tmin=100#ms\n",
    "max_dur=500#149#ms#150# #consider no more than the last max_dur milliseconds of either trajectory\n",
    "\n",
    "# # #particle model\n",
    "# min_duration=40  #20. #ms # a pair of particles is considered if their lifetime is at least min_range\n",
    "# min_range   =0  #cm  # a pair of particles is considered if their max distance is at least min_range\n",
    "# filter_beginning=True\n",
    "# use_min_duration=True\n",
    "# use_grad_voltage=False\n",
    "# range_threshold=10 #cm #filter any deaths occurring at ranges exceeding range_threshold\n",
    "# round_t_to_n_digits=5\n",
    "# tmin=0.  #filter all times earlier than tmin? i think so?\n",
    "# max_dur=0.#ms\n",
    "\n",
    "\n",
    "# filter_beginning=False\n",
    "# use_min_duration=False\n",
    "\n",
    "npartitions=os.cpu_count()-2\n",
    "# npartitions=10#1\n",
    "\n",
    "kwargs={\n",
    "    'width':width,\n",
    "    'height':height,\n",
    "    'ds':ds,\n",
    "#     'DT':DT,\n",
    "    'printing':False,\n",
    "    'min_range':min_range,\n",
    "    'min_duration':min_duration,\n",
    "    'npartitions':npartitions,\n",
    "    'filter_beginning':filter_beginning,\n",
    "    'use_grad_voltage':use_grad_voltage,\n",
    "    'use_min_duration':use_min_duration,\n",
    "    'range_threshold':range_threshold,\n",
    "    'round_t_to_n_digits':round_t_to_n_digits,\n",
    "    'tmin':tmin,\n",
    "    'pid_col':pid_col,\n",
    "    't_col':t_col,\n",
    "    'max_dur':max_dur,\n",
    "    'folder_out_name':f'annihilations_mindur_{min_duration}_maxdur_{max_dur}_minrange_{min_range}_rangethresh_{range_threshold}'\n",
    "}#'folder_out_name':f'annihilations\n",
    "kwargs"
   ]
  },
  {
   "cell_type": "code",
   "execution_count": 33,
   "id": "931bc530",
   "metadata": {
    "ExecuteTime": {
     "end_time": "2021-09-22T20:52:28.763519Z",
     "start_time": "2021-09-22T20:52:28.752623Z"
    },
    "hidden": true
   },
   "outputs": [],
   "source": [
    "routine_traj_to_annihilation=get_routine_traj_to_annihilation(**kwargs)\n",
    "def routine(input_fn):\n",
    "    return routine_traj_to_annihilation(input_fn)"
   ]
  },
  {
   "cell_type": "code",
   "execution_count": 34,
   "id": "85d4fada",
   "metadata": {
    "ExecuteTime": {
     "end_time": "2021-09-22T20:55:29.737075Z",
     "start_time": "2021-09-22T20:53:27.683945Z"
    },
    "hidden": true
   },
   "outputs": [
    {
     "name": "stdout",
     "output_type": "stream",
     "text": [
      "annihilations saved to\n",
      "Warning: no annihilation events considered valid for trial located at \n",
      "\t /home/timothytyree/Documents/GitHub/care/notebooks/Data/initial-conditions-suite-3-LR/param_qu_tmax_30_Ko_5.4_diffCoef_0.0005_dt_0.025_Vthresh_-40/trajectories/ic001.21_traj_sr_600_mem_0.csv\n"
     ]
    }
   ],
   "source": [
    "output_fn=routine(input_fn)\n",
    "print(f\"annihilations saved to\\n{output_fn}\")\n",
    "annhil_fn_full=output_fn"
   ]
  },
  {
   "cell_type": "code",
   "execution_count": 45,
   "id": "4c7e6b1c",
   "metadata": {
    "ExecuteTime": {
     "end_time": "2021-09-22T21:01:02.062386Z",
     "start_time": "2021-09-22T21:01:02.057591Z"
    },
    "hidden": true
   },
   "outputs": [],
   "source": [
    "annihil_fn_full='/home/timothytyree/Documents/GitHub/care/notebooks/Data/initial-conditions-suite-3-LR/param_qu_tmax_30_Ko_5.4_diffCoef_0.0005_dt_0.025_Vthresh_-40/trajectories/ic001.21_traj_sr_600_mem_0.csv'\n",
    "annihil_fn_full='/home/timothytyree/Documents/GitHub/care/notebooks/Data/initial-conditions-suite-3-LR/param_qu_tmax_30_Ko_5.4_diffCoef_0.0005_dt_0.025/annihilations_mindur_50_maxdur_149_minrange_0.5_rangethresh_0.1.csv'"
   ]
  },
  {
   "cell_type": "code",
   "execution_count": 46,
   "id": "3650cb45",
   "metadata": {
    "ExecuteTime": {
     "end_time": "2021-09-22T21:01:02.528359Z",
     "start_time": "2021-09-22T21:01:02.491316Z"
    },
    "hidden": true
   },
   "outputs": [
    {
     "data": {
      "text/html": [
       "<div>\n",
       "<style scoped>\n",
       "    .dataframe tbody tr th:only-of-type {\n",
       "        vertical-align: middle;\n",
       "    }\n",
       "\n",
       "    .dataframe tbody tr th {\n",
       "        vertical-align: top;\n",
       "    }\n",
       "\n",
       "    .dataframe thead th {\n",
       "        text-align: right;\n",
       "    }\n",
       "</style>\n",
       "<table border=\"1\" class=\"dataframe\">\n",
       "  <thead>\n",
       "    <tr style=\"text-align: right;\">\n",
       "      <th></th>\n",
       "      <th>pid</th>\n",
       "      <th>pid_deathmate</th>\n",
       "      <th>tdeath</th>\n",
       "      <th>r</th>\n",
       "      <th>theta</th>\n",
       "      <th>phi1</th>\n",
       "      <th>phi2</th>\n",
       "      <th>phi_sum</th>\n",
       "      <th>phi_diff</th>\n",
       "      <th>event_id</th>\n",
       "    </tr>\n",
       "  </thead>\n",
       "  <tbody>\n",
       "    <tr>\n",
       "      <th>0</th>\n",
       "      <td>1640</td>\n",
       "      <td>2023</td>\n",
       "      <td>47.550</td>\n",
       "      <td>0.756487</td>\n",
       "      <td>2.814156</td>\n",
       "      <td>-0.019985</td>\n",
       "      <td>-0.152492</td>\n",
       "      <td>-0.172477</td>\n",
       "      <td>0.132506</td>\n",
       "      <td>1.004126e+09</td>\n",
       "    </tr>\n",
       "    <tr>\n",
       "      <th>1</th>\n",
       "      <td>1640</td>\n",
       "      <td>2023</td>\n",
       "      <td>47.525</td>\n",
       "      <td>0.756635</td>\n",
       "      <td>2.562011</td>\n",
       "      <td>-0.015335</td>\n",
       "      <td>-0.171452</td>\n",
       "      <td>-0.186788</td>\n",
       "      <td>0.156117</td>\n",
       "      <td>1.004126e+09</td>\n",
       "    </tr>\n",
       "    <tr>\n",
       "      <th>2</th>\n",
       "      <td>1640</td>\n",
       "      <td>2023</td>\n",
       "      <td>47.500</td>\n",
       "      <td>0.756731</td>\n",
       "      <td>2.030216</td>\n",
       "      <td>-0.010485</td>\n",
       "      <td>-0.190764</td>\n",
       "      <td>-0.201249</td>\n",
       "      <td>0.180278</td>\n",
       "      <td>1.004126e+09</td>\n",
       "    </tr>\n",
       "    <tr>\n",
       "      <th>3</th>\n",
       "      <td>1640</td>\n",
       "      <td>2023</td>\n",
       "      <td>47.475</td>\n",
       "      <td>0.756783</td>\n",
       "      <td>1.335250</td>\n",
       "      <td>-0.005437</td>\n",
       "      <td>-0.210485</td>\n",
       "      <td>-0.215922</td>\n",
       "      <td>0.205048</td>\n",
       "      <td>1.004126e+09</td>\n",
       "    </tr>\n",
       "    <tr>\n",
       "      <th>4</th>\n",
       "      <td>1640</td>\n",
       "      <td>2023</td>\n",
       "      <td>47.450</td>\n",
       "      <td>0.756800</td>\n",
       "      <td>0.917789</td>\n",
       "      <td>-0.000194</td>\n",
       "      <td>-0.230668</td>\n",
       "      <td>-0.230862</td>\n",
       "      <td>0.230474</td>\n",
       "      <td>1.004126e+09</td>\n",
       "    </tr>\n",
       "  </tbody>\n",
       "</table>\n",
       "</div>"
      ],
      "text/plain": [
       "    pid  pid_deathmate  tdeath         r     theta      phi1      phi2  \\\n",
       "0  1640           2023  47.550  0.756487  2.814156 -0.019985 -0.152492   \n",
       "1  1640           2023  47.525  0.756635  2.562011 -0.015335 -0.171452   \n",
       "2  1640           2023  47.500  0.756731  2.030216 -0.010485 -0.190764   \n",
       "3  1640           2023  47.475  0.756783  1.335250 -0.005437 -0.210485   \n",
       "4  1640           2023  47.450  0.756800  0.917789 -0.000194 -0.230668   \n",
       "\n",
       "    phi_sum  phi_diff      event_id  \n",
       "0 -0.172477  0.132506  1.004126e+09  \n",
       "1 -0.186788  0.156117  1.004126e+09  \n",
       "2 -0.201249  0.180278  1.004126e+09  \n",
       "3 -0.215922  0.205048  1.004126e+09  \n",
       "4 -0.230862  0.230474  1.004126e+09  "
      ]
     },
     "execution_count": 46,
     "metadata": {},
     "output_type": "execute_result"
    }
   ],
   "source": [
    "df_full_annihil=cudf.read_csv(annihil_fn_full)\n",
    "df=df_full_annihil.copy()\n",
    "df.head()"
   ]
  },
  {
   "cell_type": "code",
   "execution_count": null,
   "id": "7ff7a2ed",
   "metadata": {
    "hidden": true
   },
   "outputs": [],
   "source": []
  },
  {
   "cell_type": "code",
   "execution_count": null,
   "id": "f9b7d54f",
   "metadata": {
    "hidden": true
   },
   "outputs": [],
   "source": []
  },
  {
   "cell_type": "code",
   "execution_count": null,
   "id": "a47019b5",
   "metadata": {
    "hidden": true
   },
   "outputs": [],
   "source": [
    "#TODO: compute annihilation events for a particle from the particle model that is\n"
   ]
  },
  {
   "cell_type": "code",
   "execution_count": null,
   "id": "b09c00bb",
   "metadata": {
    "hidden": true
   },
   "outputs": [],
   "source": [
    "#TODO: select a particle from the Luo-Rudy model that is \n",
    "# - near the center of the domain, \n",
    "# - is long lived, and \n",
    "# - has a partner that is reasonably long-lived"
   ]
  },
  {
   "cell_type": "code",
   "execution_count": null,
   "id": "b6dbceea",
   "metadata": {
    "hidden": true
   },
   "outputs": [],
   "source": [
    "#TODO: compute annihilation events for a particle from the particle model that is\n",
    "# - is long lived, and \n",
    "# - has a partner that is reasonably long-lived\n"
   ]
  },
  {
   "cell_type": "code",
   "execution_count": 22,
   "id": "3d4f0511",
   "metadata": {
    "ExecuteTime": {
     "end_time": "2021-09-22T20:32:49.450924Z",
     "start_time": "2021-09-22T20:32:49.448482Z"
    },
    "hidden": true
   },
   "outputs": [],
   "source": [
    "#TODO: visualize an appealing spiral tip trajectory\n",
    "# - swap out a few trajectories from the Luo-Rudy model and see what is most visually appealing\n",
    "\n",
    "#TODO: translate scale and rotate the particle annihilation event onto that of the Luo-Rudy model\n",
    "# - annihilation points must match\n",
    "# - at least one initial point must match\n",
    "#TODO: rotate and scale the other particle onto the other start point of the Luo-Rudy model\n",
    "#TODO: visualize Fig. 1B\n",
    "# - swap out a few trajectories from the Luo-Rudy model and see what is most visually appealing\n",
    "# - swap out a few trajectories from the particle model and see what is most visually appealing\n",
    "#TODO: scale and rotate the other start points to match\n",
    "\n",
    "#TODO: load the initial conditions texture used by this particle\n",
    "\n",
    "#TODO: generate a snapshot from the Luo-Rudy model\n"
   ]
  },
  {
   "cell_type": "code",
   "execution_count": null,
   "id": "e030b016",
   "metadata": {
    "hidden": true
   },
   "outputs": [],
   "source": []
  }
 ],
 "metadata": {
  "hide_input": false,
  "kernelspec": {
   "display_name": "Python 3 (ipykernel)",
   "language": "python",
   "name": "python3"
  },
  "language_info": {
   "codemirror_mode": {
    "name": "ipython",
    "version": 3
   },
   "file_extension": ".py",
   "mimetype": "text/x-python",
   "name": "python",
   "nbconvert_exporter": "python",
   "pygments_lexer": "ipython3",
   "version": "3.7.10"
  },
  "nbTranslate": {
   "displayLangs": [
    "*"
   ],
   "hotkey": "alt-t",
   "langInMainMenu": true,
   "sourceLang": "en",
   "targetLang": "fr",
   "useGoogleTranslate": true
  },
  "toc": {
   "base_numbering": 1,
   "nav_menu": {},
   "number_sections": true,
   "sideBar": true,
   "skip_h1_title": false,
   "title_cell": "Table of Contents",
   "title_sidebar": "Contents",
   "toc_cell": false,
   "toc_position": {},
   "toc_section_display": true,
   "toc_window_display": false
  },
  "varInspector": {
   "cols": {
    "lenName": 16,
    "lenType": 16,
    "lenVar": 40
   },
   "kernels_config": {
    "python": {
     "delete_cmd_postfix": "",
     "delete_cmd_prefix": "del ",
     "library": "var_list.py",
     "varRefreshCmd": "print(var_dic_list())"
    },
    "r": {
     "delete_cmd_postfix": ") ",
     "delete_cmd_prefix": "rm(",
     "library": "var_list.r",
     "varRefreshCmd": "cat(var_dic_list()) "
    }
   },
   "types_to_exclude": [
    "module",
    "function",
    "builtin_function_or_method",
    "instance",
    "_Feature"
   ],
   "window_display": false
  }
 },
 "nbformat": 4,
 "nbformat_minor": 5
}
