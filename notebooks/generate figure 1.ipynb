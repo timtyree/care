{
 "cells": [
  {
   "cell_type": "markdown",
   "id": "1ae47247",
   "metadata": {},
   "source": [
    "# generating figure 1\n",
    "Tim Tyree<br>\n",
    "9.22.2021"
   ]
  },
  {
   "cell_type": "code",
   "execution_count": 10,
   "id": "c536b89f",
   "metadata": {
    "ExecuteTime": {
     "end_time": "2021-09-22T20:17:32.833896Z",
     "start_time": "2021-09-22T20:17:32.775603Z"
    }
   },
   "outputs": [],
   "source": [
    "#conda activate pyenv_ub\n",
    "from lib import *\n",
    "import cuml\n",
    "import cupy\n",
    "import cudf\n",
    "import tensorflow\n",
    "import xgboost as xgb\n",
    "import bokeh\n",
    "import plotly\n",
    "import seaborn as sns"
   ]
  },
  {
   "cell_type": "code",
   "execution_count": 21,
   "id": "834b1d5c",
   "metadata": {
    "ExecuteTime": {
     "end_time": "2021-09-22T20:20:43.844137Z",
     "start_time": "2021-09-22T20:20:43.838519Z"
    }
   },
   "outputs": [],
   "source": [
    "darkmode=False\n",
    "if darkmode:\n",
    "    # For darkmode plots\n",
    "    from jupyterthemes import jtplot\n",
    "    jtplot.style(theme='monokai', context='notebook', ticks=True, grid=False)"
   ]
  },
  {
   "cell_type": "code",
   "execution_count": 27,
   "id": "9b6e8922",
   "metadata": {
    "ExecuteTime": {
     "end_time": "2021-09-22T20:38:59.564459Z",
     "start_time": "2021-09-22T20:38:59.561908Z"
    }
   },
   "outputs": [],
   "source": [
    "#TODO: load a csv file with annihilating trajectories from the Luo-Rudy model\n",
    "input_fn_full='/home/timothytyree/Documents/GitHub/care/notebooks/Data/initial-conditions-suite-3-LR/param_qu_tmax_30_Ko_5.4_diffCoef_0.0005_dt_0.025_Vthresh_-40/trajectories/ic001.21_traj_sr_600_mem_0.csv'\n",
    "#TODO: load a csv file with annihilating trajectories from the particle model\n",
    "input_fn_particle='/home/timothytyree/Documents/GitHub/bgmc/python/data/local_results/euic_False_fc_2_r_0.1_D_2_L_10_kappa_1500_varkappa_5/Log/pbc_particle_log1_log.csv'\n",
    "df_full=cudf.read_csv(input_fn_full)\n",
    "df_particle=cudf.read_csv(input_fn_particle)\n",
    "df=df_full.copy()\n",
    "df.head()"
   ]
  },
  {
   "cell_type": "code",
   "execution_count": null,
   "id": "4dd82a01",
   "metadata": {},
   "outputs": [],
   "source": [
    "#TODO: compute annihilation events for a particle from the Luo-Rudy model\n",
    "kwargs={\n",
    "    'input_fn_lst':file_name_list,\n",
    "    'L':width,\n",
    "    'DS':ds/width,\n",
    "    'use_cache_0':True,\n",
    "    'use_cache_1':True,\n",
    "    'npartitions':npartitions,\n",
    "    'sr':3*width,\n",
    "    'mem':0,\n",
    "    'trial_folder_name':trial_folder_name,\n",
    "    'ic_suite_fn':ic_suite_fn\n",
    "}\n",
    "DS,width,trial_folder_name"
   ]
  },
  {
   "cell_type": "code",
   "execution_count": 29,
   "id": "ff1cdb77",
   "metadata": {
    "ExecuteTime": {
     "end_time": "2021-09-22T20:45:31.577186Z",
     "start_time": "2021-09-22T20:45:28.546929Z"
    }
   },
   "outputs": [
    {
     "name": "stdout",
     "output_type": "stream",
     "text": [
      "/home/timothytyree/Documents/GitHub/care/notebooks/Data/initial-conditions-suite-3-LR/param_qu_tmax_30_Ko_5.4_diffCoef_0.0005_dt_0.025_Vthresh_-40/trajectories/ic001.21_traj_sr_600_mem_0.csv\n",
      "the time resolution is 0.025 ms.\n"
     ]
    }
   ],
   "source": [
    "input_fn=input_fn_full\n",
    "ds=5\n",
    "width=200\n",
    "pid_col='particle'\n",
    "t_col='t'\n",
    "height=width\n",
    "df=pd.read_csv(input_fn);print(input_fn)\n",
    "DT=np.around(get_DT(df,pid_col=pid_col),5);print(f\"the time resolution is {DT} ms.\")\n",
    "DS=ds/width\n",
    "trial_folder_name=os.path.dirname(os.path.dirname(input_fn))"
   ]
  },
  {
   "cell_type": "code",
   "execution_count": 30,
   "id": "3c938141",
   "metadata": {
    "ExecuteTime": {
     "end_time": "2021-09-22T20:47:37.065611Z",
     "start_time": "2021-09-22T20:46:01.485379Z"
    }
   },
   "outputs": [
    {
     "name": "stdout",
     "output_type": "stream",
     "text": [
      "termination time was 6802.80 ms\n",
      "printing summary stats on particle lifetimes for one input folder in /home/timothytyree/Documents/GitHub/care/notebooks/Data/initial-conditions-suite-3-LR/param_qu_tmax_30_Ko_5.4_diffCoef_0.0005_dt_0.025_Vthresh_-40:\n",
      "count    82798.000000\n",
      "mean         1.146551\n",
      "std          2.425658\n",
      "min         -0.000000\n",
      "25%          0.175000\n",
      "50%          0.375000\n",
      "75%          0.900000\n",
      "max         71.500000\n",
      "Name: min, dtype: float64\n",
      "\n",
      "Please make a manual decision about minimum_lifetime, crop_start_by, and crop_end_by\n"
     ]
    }
   ],
   "source": [
    "#print summary stats on particle lifetimes for one input folder\n",
    "dft=df.groupby(pid_col)[t_col].describe()\n",
    "df_lifetimes=-dft[['max','min']].T.diff().loc['min']\n",
    "print(f\"termination time was {df[t_col].max():.2f} ms\")\n",
    "\n",
    "print(f\"printing summary stats on particle lifetimes for one input folder in {trial_folder_name}:\")\n",
    "print(df_lifetimes.describe())\n",
    "# print(df_lifetimes.head(10))\n",
    "print(\"\\nPlease make a manual decision about minimum_lifetime, crop_start_by, and crop_end_by\")"
   ]
  },
  {
   "cell_type": "code",
   "execution_count": 32,
   "id": "6f8dad8e",
   "metadata": {
    "ExecuteTime": {
     "end_time": "2021-09-22T20:51:30.679205Z",
     "start_time": "2021-09-22T20:51:30.664303Z"
    }
   },
   "outputs": [
    {
     "data": {
      "text/plain": [
       "{'width': 200,\n",
       " 'height': 200,\n",
       " 'ds': 5,\n",
       " 'printing': False,\n",
       " 'min_range': 0.5,\n",
       " 'min_duration': 50,\n",
       " 'npartitions': 10,\n",
       " 'filter_beginning': True,\n",
       " 'use_grad_voltage': True,\n",
       " 'use_min_duration': False,\n",
       " 'range_threshold': 0.1,\n",
       " 'round_t_to_n_digits': 5,\n",
       " 'tmin': 100,\n",
       " 'pid_col': 'particle',\n",
       " 't_col': 't',\n",
       " 'max_dur': 500,\n",
       " 'folder_out_name': 'annihilations_mindur_50_maxdur_500_minrange_0.5_rangethresh_0.1'}"
      ]
     },
     "execution_count": 32,
     "metadata": {},
     "output_type": "execute_result"
    }
   ],
   "source": [
    "#full model lr (and fk)\n",
    "min_duration=50#ms\n",
    "min_range   =.5#cm\n",
    "filter_beginning=True #this does nothing rn...\n",
    "use_min_duration=False\n",
    "use_grad_voltage=True\n",
    "range_threshold=.1 #cm #filter any deaths occurring at ranges exceeding range_threshold\n",
    "tmin=100#ms\n",
    "max_dur=500#149#ms#150# #consider no more than the last max_dur milliseconds of either trajectory\n",
    "\n",
    "# # #particle model\n",
    "# min_duration=40  #20. #ms # a pair of particles is considered if their lifetime is at least min_range\n",
    "# min_range   =0  #cm  # a pair of particles is considered if their max distance is at least min_range\n",
    "# filter_beginning=True\n",
    "# use_min_duration=True\n",
    "# use_grad_voltage=False\n",
    "# range_threshold=10 #cm #filter any deaths occurring at ranges exceeding range_threshold\n",
    "# round_t_to_n_digits=5\n",
    "# tmin=0.  #filter all times earlier than tmin? i think so?\n",
    "# max_dur=0.#ms\n",
    "\n",
    "\n",
    "# filter_beginning=False\n",
    "# use_min_duration=False\n",
    "\n",
    "npartitions=os.cpu_count()-2\n",
    "# npartitions=10#1\n",
    "\n",
    "kwargs={\n",
    "    'width':width,\n",
    "    'height':height,\n",
    "    'ds':ds,\n",
    "#     'DT':DT,\n",
    "    'printing':False,\n",
    "    'min_range':min_range,\n",
    "    'min_duration':min_duration,\n",
    "    'npartitions':npartitions,\n",
    "    'filter_beginning':filter_beginning,\n",
    "    'use_grad_voltage':use_grad_voltage,\n",
    "    'use_min_duration':use_min_duration,\n",
    "    'range_threshold':range_threshold,\n",
    "    'round_t_to_n_digits':round_t_to_n_digits,\n",
    "    'tmin':tmin,\n",
    "    'pid_col':pid_col,\n",
    "    't_col':t_col,\n",
    "    'max_dur':max_dur,\n",
    "    'folder_out_name':f'annihilations_mindur_{min_duration}_maxdur_{max_dur}_minrange_{min_range}_rangethresh_{range_threshold}'\n",
    "}#'folder_out_name':f'annihilations\n",
    "kwargs"
   ]
  },
  {
   "cell_type": "code",
   "execution_count": 33,
   "id": "931bc530",
   "metadata": {
    "ExecuteTime": {
     "end_time": "2021-09-22T20:52:28.763519Z",
     "start_time": "2021-09-22T20:52:28.752623Z"
    }
   },
   "outputs": [],
   "source": [
    "routine_traj_to_annihilation=get_routine_traj_to_annihilation(**kwargs)\n",
    "def routine(input_fn):\n",
    "    return routine_traj_to_annihilation(input_fn)"
   ]
  },
  {
   "cell_type": "code",
   "execution_count": 34,
   "id": "85d4fada",
   "metadata": {
    "ExecuteTime": {
     "end_time": "2021-09-22T20:55:29.737075Z",
     "start_time": "2021-09-22T20:53:27.683945Z"
    }
   },
   "outputs": [
    {
     "name": "stdout",
     "output_type": "stream",
     "text": [
      "annihilations saved to\n",
      "Warning: no annihilation events considered valid for trial located at \n",
      "\t /home/timothytyree/Documents/GitHub/care/notebooks/Data/initial-conditions-suite-3-LR/param_qu_tmax_30_Ko_5.4_diffCoef_0.0005_dt_0.025_Vthresh_-40/trajectories/ic001.21_traj_sr_600_mem_0.csv\n"
     ]
    }
   ],
   "source": [
    "output_fn=routine(input_fn)\n",
    "print(f\"annihilations saved to\\n{output_fn}\")\n",
    "annhil_fn_full=output_fn"
   ]
  },
  {
   "cell_type": "code",
   "execution_count": 45,
   "id": "4c7e6b1c",
   "metadata": {
    "ExecuteTime": {
     "end_time": "2021-09-22T21:01:02.062386Z",
     "start_time": "2021-09-22T21:01:02.057591Z"
    }
   },
   "outputs": [],
   "source": [
    "annihil_fn_full='/home/timothytyree/Documents/GitHub/care/notebooks/Data/initial-conditions-suite-3-LR/param_qu_tmax_30_Ko_5.4_diffCoef_0.0005_dt_0.025_Vthresh_-40/trajectories/ic001.21_traj_sr_600_mem_0.csv'\n",
    "annihil_fn_full='/home/timothytyree/Documents/GitHub/care/notebooks/Data/initial-conditions-suite-3-LR/param_qu_tmax_30_Ko_5.4_diffCoef_0.0005_dt_0.025/annihilations_mindur_50_maxdur_149_minrange_0.5_rangethresh_0.1.csv'"
   ]
  },
  {
   "cell_type": "code",
   "execution_count": 46,
   "id": "3650cb45",
   "metadata": {
    "ExecuteTime": {
     "end_time": "2021-09-22T21:01:02.528359Z",
     "start_time": "2021-09-22T21:01:02.491316Z"
    }
   },
   "outputs": [
    {
     "data": {
      "text/html": [
       "<div>\n",
       "<style scoped>\n",
       "    .dataframe tbody tr th:only-of-type {\n",
       "        vertical-align: middle;\n",
       "    }\n",
       "\n",
       "    .dataframe tbody tr th {\n",
       "        vertical-align: top;\n",
       "    }\n",
       "\n",
       "    .dataframe thead th {\n",
       "        text-align: right;\n",
       "    }\n",
       "</style>\n",
       "<table border=\"1\" class=\"dataframe\">\n",
       "  <thead>\n",
       "    <tr style=\"text-align: right;\">\n",
       "      <th></th>\n",
       "      <th>pid</th>\n",
       "      <th>pid_deathmate</th>\n",
       "      <th>tdeath</th>\n",
       "      <th>r</th>\n",
       "      <th>theta</th>\n",
       "      <th>phi1</th>\n",
       "      <th>phi2</th>\n",
       "      <th>phi_sum</th>\n",
       "      <th>phi_diff</th>\n",
       "      <th>event_id</th>\n",
       "    </tr>\n",
       "  </thead>\n",
       "  <tbody>\n",
       "    <tr>\n",
       "      <th>0</th>\n",
       "      <td>1640</td>\n",
       "      <td>2023</td>\n",
       "      <td>47.550</td>\n",
       "      <td>0.756487</td>\n",
       "      <td>2.814156</td>\n",
       "      <td>-0.019985</td>\n",
       "      <td>-0.152492</td>\n",
       "      <td>-0.172477</td>\n",
       "      <td>0.132506</td>\n",
       "      <td>1.004126e+09</td>\n",
       "    </tr>\n",
       "    <tr>\n",
       "      <th>1</th>\n",
       "      <td>1640</td>\n",
       "      <td>2023</td>\n",
       "      <td>47.525</td>\n",
       "      <td>0.756635</td>\n",
       "      <td>2.562011</td>\n",
       "      <td>-0.015335</td>\n",
       "      <td>-0.171452</td>\n",
       "      <td>-0.186788</td>\n",
       "      <td>0.156117</td>\n",
       "      <td>1.004126e+09</td>\n",
       "    </tr>\n",
       "    <tr>\n",
       "      <th>2</th>\n",
       "      <td>1640</td>\n",
       "      <td>2023</td>\n",
       "      <td>47.500</td>\n",
       "      <td>0.756731</td>\n",
       "      <td>2.030216</td>\n",
       "      <td>-0.010485</td>\n",
       "      <td>-0.190764</td>\n",
       "      <td>-0.201249</td>\n",
       "      <td>0.180278</td>\n",
       "      <td>1.004126e+09</td>\n",
       "    </tr>\n",
       "    <tr>\n",
       "      <th>3</th>\n",
       "      <td>1640</td>\n",
       "      <td>2023</td>\n",
       "      <td>47.475</td>\n",
       "      <td>0.756783</td>\n",
       "      <td>1.335250</td>\n",
       "      <td>-0.005437</td>\n",
       "      <td>-0.210485</td>\n",
       "      <td>-0.215922</td>\n",
       "      <td>0.205048</td>\n",
       "      <td>1.004126e+09</td>\n",
       "    </tr>\n",
       "    <tr>\n",
       "      <th>4</th>\n",
       "      <td>1640</td>\n",
       "      <td>2023</td>\n",
       "      <td>47.450</td>\n",
       "      <td>0.756800</td>\n",
       "      <td>0.917789</td>\n",
       "      <td>-0.000194</td>\n",
       "      <td>-0.230668</td>\n",
       "      <td>-0.230862</td>\n",
       "      <td>0.230474</td>\n",
       "      <td>1.004126e+09</td>\n",
       "    </tr>\n",
       "  </tbody>\n",
       "</table>\n",
       "</div>"
      ],
      "text/plain": [
       "    pid  pid_deathmate  tdeath         r     theta      phi1      phi2  \\\n",
       "0  1640           2023  47.550  0.756487  2.814156 -0.019985 -0.152492   \n",
       "1  1640           2023  47.525  0.756635  2.562011 -0.015335 -0.171452   \n",
       "2  1640           2023  47.500  0.756731  2.030216 -0.010485 -0.190764   \n",
       "3  1640           2023  47.475  0.756783  1.335250 -0.005437 -0.210485   \n",
       "4  1640           2023  47.450  0.756800  0.917789 -0.000194 -0.230668   \n",
       "\n",
       "    phi_sum  phi_diff      event_id  \n",
       "0 -0.172477  0.132506  1.004126e+09  \n",
       "1 -0.186788  0.156117  1.004126e+09  \n",
       "2 -0.201249  0.180278  1.004126e+09  \n",
       "3 -0.215922  0.205048  1.004126e+09  \n",
       "4 -0.230862  0.230474  1.004126e+09  "
      ]
     },
     "execution_count": 46,
     "metadata": {},
     "output_type": "execute_result"
    }
   ],
   "source": [
    "df_full_annihil=cudf.read_csv(annihil_fn_full)\n",
    "df=df_full_annihil.copy()\n",
    "df.head()"
   ]
  },
  {
   "cell_type": "code",
   "execution_count": null,
   "id": "7ff7a2ed",
   "metadata": {},
   "outputs": [],
   "source": []
  },
  {
   "cell_type": "code",
   "execution_count": null,
   "id": "f9b7d54f",
   "metadata": {},
   "outputs": [],
   "source": []
  },
  {
   "cell_type": "code",
   "execution_count": null,
   "id": "a47019b5",
   "metadata": {},
   "outputs": [],
   "source": [
    "#TODO: compute annihilation events for a particle from the particle model that is\n"
   ]
  },
  {
   "cell_type": "code",
   "execution_count": null,
   "id": "b09c00bb",
   "metadata": {},
   "outputs": [],
   "source": [
    "#TODO: select a particle from the Luo-Rudy model that is \n",
    "# - near the center of the domain, \n",
    "# - is long lived, and \n",
    "# - has a partner that is reasonably long-lived"
   ]
  },
  {
   "cell_type": "code",
   "execution_count": null,
   "id": "b6dbceea",
   "metadata": {},
   "outputs": [],
   "source": [
    "#TODO: compute annihilation events for a particle from the particle model that is\n",
    "# - is long lived, and \n",
    "# - has a partner that is reasonably long-lived\n"
   ]
  },
  {
   "cell_type": "code",
   "execution_count": 22,
   "id": "3d4f0511",
   "metadata": {
    "ExecuteTime": {
     "end_time": "2021-09-22T20:32:49.450924Z",
     "start_time": "2021-09-22T20:32:49.448482Z"
    }
   },
   "outputs": [],
   "source": [
    "#TODO: visualize an appealing spiral tip trajectory\n",
    "# - swap out a few trajectories from the Luo-Rudy model and see what is most visually appealing\n",
    "\n",
    "#TODO: translate scale and rotate the particle annihilation event onto that of the Luo-Rudy model\n",
    "# - annihilation points must match\n",
    "# - at least one initial point must match\n",
    "#TODO: rotate and scale the other particle onto the other start point of the Luo-Rudy model\n",
    "#TODO: visualize Fig. 1B\n",
    "# - swap out a few trajectories from the Luo-Rudy model and see what is most visually appealing\n",
    "# - swap out a few trajectories from the particle model and see what is most visually appealing\n",
    "#TODO: scale and rotate the other start points to match\n",
    "\n",
    "#TODO: load the initial conditions texture used by this particle\n",
    "\n",
    "#TODO: generate a snapshot from the Luo-Rudy model\n"
   ]
  },
  {
   "cell_type": "code",
   "execution_count": null,
   "id": "e030b016",
   "metadata": {},
   "outputs": [],
   "source": []
  }
 ],
 "metadata": {
  "hide_input": false,
  "kernelspec": {
   "display_name": "Python 3 (ipykernel)",
   "language": "python",
   "name": "python3"
  },
  "language_info": {
   "codemirror_mode": {
    "name": "ipython",
    "version": 3
   },
   "file_extension": ".py",
   "mimetype": "text/x-python",
   "name": "python",
   "nbconvert_exporter": "python",
   "pygments_lexer": "ipython3",
   "version": "3.9.5"
  },
  "nbTranslate": {
   "displayLangs": [
    "*"
   ],
   "hotkey": "alt-t",
   "langInMainMenu": true,
   "sourceLang": "en",
   "targetLang": "fr",
   "useGoogleTranslate": true
  },
  "toc": {
   "base_numbering": 1,
   "nav_menu": {},
   "number_sections": true,
   "sideBar": true,
   "skip_h1_title": false,
   "title_cell": "Table of Contents",
   "title_sidebar": "Contents",
   "toc_cell": false,
   "toc_position": {},
   "toc_section_display": true,
   "toc_window_display": false
  },
  "varInspector": {
   "cols": {
    "lenName": 16,
    "lenType": 16,
    "lenVar": 40
   },
   "kernels_config": {
    "python": {
     "delete_cmd_postfix": "",
     "delete_cmd_prefix": "del ",
     "library": "var_list.py",
     "varRefreshCmd": "print(var_dic_list())"
    },
    "r": {
     "delete_cmd_postfix": ") ",
     "delete_cmd_prefix": "rm(",
     "library": "var_list.r",
     "varRefreshCmd": "cat(var_dic_list()) "
    }
   },
   "types_to_exclude": [
    "module",
    "function",
    "builtin_function_or_method",
    "instance",
    "_Feature"
   ],
   "window_display": false
  }
 },
 "nbformat": 4,
 "nbformat_minor": 5
}
