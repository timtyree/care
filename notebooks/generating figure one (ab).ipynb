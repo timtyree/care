{
 "cells": [
  {
   "cell_type": "markdown",
   "metadata": {
    "heading_collapsed": true
   },
   "source": [
    "# generating figure one"
   ]
  },
  {
   "cell_type": "code",
   "execution_count": 1,
   "metadata": {
    "ExecuteTime": {
     "end_time": "2021-03-13T00:22:17.459938Z",
     "start_time": "2021-03-13T00:22:16.479115Z"
    },
    "hidden": true
   },
   "outputs": [],
   "source": [
    "from lib.my_initialization import *\n",
    "from lib import *\n",
    "from lib.utils.merge_cloud_results import *\n",
    "import seaborn as sns\n",
    "from scipy.interpolate import CubicSpline\n",
    "import matplotlib.lines as lines\n",
    "%load_ext autoreload\n",
    "%autoreload 2"
   ]
  },
  {
   "cell_type": "code",
   "execution_count": 40,
   "metadata": {
    "ExecuteTime": {
     "end_time": "2021-03-14T18:33:45.223804Z",
     "start_time": "2021-03-14T18:33:45.202500Z"
    },
    "hidden": true
   },
   "outputs": [],
   "source": [
    "# file=search_for_file()"
   ]
  },
  {
   "cell_type": "code",
   "execution_count": 41,
   "metadata": {
    "ExecuteTime": {
     "end_time": "2021-03-14T18:33:46.404671Z",
     "start_time": "2021-03-14T18:33:46.237169Z"
    },
    "hidden": true
   },
   "outputs": [
    {
     "data": {
      "text/html": [
       "<div>\n",
       "<style scoped>\n",
       "    .dataframe tbody tr th:only-of-type {\n",
       "        vertical-align: middle;\n",
       "    }\n",
       "\n",
       "    .dataframe tbody tr th {\n",
       "        vertical-align: top;\n",
       "    }\n",
       "\n",
       "    .dataframe thead th {\n",
       "        text-align: right;\n",
       "    }\n",
       "</style>\n",
       "<table border=\"1\" class=\"dataframe\">\n",
       "  <thead>\n",
       "    <tr style=\"text-align: right;\">\n",
       "      <th></th>\n",
       "      <th>t</th>\n",
       "      <th>n</th>\n",
       "      <th>x</th>\n",
       "      <th>y</th>\n",
       "      <th>grad_ux</th>\n",
       "      <th>grad_uy</th>\n",
       "      <th>grad_vx</th>\n",
       "      <th>grad_vy</th>\n",
       "      <th>frame</th>\n",
       "      <th>particle</th>\n",
       "    </tr>\n",
       "  </thead>\n",
       "  <tbody>\n",
       "    <tr>\n",
       "      <th>0</th>\n",
       "      <td>100.1</td>\n",
       "      <td>16</td>\n",
       "      <td>0.000000</td>\n",
       "      <td>0.000000</td>\n",
       "      <td>-3.390770</td>\n",
       "      <td>1.041792</td>\n",
       "      <td>2.619612</td>\n",
       "      <td>0.979396</td>\n",
       "      <td>0</td>\n",
       "      <td>0</td>\n",
       "    </tr>\n",
       "    <tr>\n",
       "      <th>1</th>\n",
       "      <td>102.1</td>\n",
       "      <td>16</td>\n",
       "      <td>-0.687466</td>\n",
       "      <td>-0.913199</td>\n",
       "      <td>-0.397678</td>\n",
       "      <td>1.005516</td>\n",
       "      <td>0.823390</td>\n",
       "      <td>1.000000</td>\n",
       "      <td>1</td>\n",
       "      <td>0</td>\n",
       "    </tr>\n",
       "    <tr>\n",
       "      <th>2</th>\n",
       "      <td>104.1</td>\n",
       "      <td>14</td>\n",
       "      <td>-1.025179</td>\n",
       "      <td>-1.484508</td>\n",
       "      <td>9.624050</td>\n",
       "      <td>-22.502845</td>\n",
       "      <td>1.286155</td>\n",
       "      <td>0.227150</td>\n",
       "      <td>2</td>\n",
       "      <td>0</td>\n",
       "    </tr>\n",
       "    <tr>\n",
       "      <th>3</th>\n",
       "      <td>106.1</td>\n",
       "      <td>18</td>\n",
       "      <td>-2.142416</td>\n",
       "      <td>-1.807902</td>\n",
       "      <td>-4.184929</td>\n",
       "      <td>15.095522</td>\n",
       "      <td>1.407980</td>\n",
       "      <td>-0.096610</td>\n",
       "      <td>3</td>\n",
       "      <td>0</td>\n",
       "    </tr>\n",
       "    <tr>\n",
       "      <th>4</th>\n",
       "      <td>108.1</td>\n",
       "      <td>14</td>\n",
       "      <td>-2.508356</td>\n",
       "      <td>-1.780866</td>\n",
       "      <td>0.097265</td>\n",
       "      <td>3.443551</td>\n",
       "      <td>1.783593</td>\n",
       "      <td>-1.107906</td>\n",
       "      <td>4</td>\n",
       "      <td>0</td>\n",
       "    </tr>\n",
       "  </tbody>\n",
       "</table>\n",
       "</div>"
      ],
      "text/plain": [
       "       t   n         x         y   grad_ux    grad_uy   grad_vx   grad_vy  \\\n",
       "0  100.1  16  0.000000  0.000000 -3.390770   1.041792  2.619612  0.979396   \n",
       "1  102.1  16 -0.687466 -0.913199 -0.397678   1.005516  0.823390  1.000000   \n",
       "2  104.1  14 -1.025179 -1.484508  9.624050 -22.502845  1.286155  0.227150   \n",
       "3  106.1  18 -2.142416 -1.807902 -4.184929  15.095522  1.407980 -0.096610   \n",
       "4  108.1  14 -2.508356 -1.780866  0.097265   3.443551  1.783593 -1.107906   \n",
       "\n",
       "   frame  particle  \n",
       "0      0         0  \n",
       "1      1         0  \n",
       "2      2         0  \n",
       "3      3         0  \n",
       "4      4         0  "
      ]
     },
     "execution_count": 41,
     "metadata": {},
     "output_type": "execute_result"
    }
   ],
   "source": [
    "# file=\"/home/timothytyree/Documents/GitHub/care/notebooks/Data/initial-conditions-suite-3-LR/param_qu_tmax_30_Ko_3.8_diffCoef_0.0005/all_traj_longer_than_500.csv\"\n",
    "file=\"/home/timothytyree/Documents/GitHub/care/notebooks/Data/initial-conditions-suite-3-LR/param_qu_tmax_30_Ko_3.8_diffCoef_0.0005/trajectories_unwrap/ic018.21_traj_sr_600_mem_0_unwrap.csv\"\n",
    "df=pd.read_csv(file)\n",
    "df.head()"
   ]
  },
  {
   "cell_type": "code",
   "execution_count": 129,
   "metadata": {
    "ExecuteTime": {
     "end_time": "2021-03-14T18:54:14.480925Z",
     "start_time": "2021-03-14T18:54:14.445366Z"
    },
    "hidden": true
   },
   "outputs": [
    {
     "name": "stdout",
     "output_type": "stream",
     "text": [
      "the longest particle lasted 458.0 ms for this trial.\n"
     ]
    }
   ],
   "source": [
    "# i=13\n",
    "# i=11\n",
    "# i=10#7\n",
    "# i=3\n",
    "i=15#14\n",
    "i=15\n",
    "num_obs_series=df.groupby('particle').count().t\n",
    "long_particle=num_obs_series.sort_values(ascending=False).head(i+1)\n",
    "pid=long_particle.index.values[i]\n",
    "DT=compute_time_between_frames(df);\n",
    "lifetime=DT*long_particle.values[i]\n",
    "print(f\"the longest particle lasted {lifetime} ms for this trial.\")"
   ]
  },
  {
   "cell_type": "markdown",
   "metadata": {
    "hidden": true
   },
   "source": [
    "the 15th longest trajectory looks pretty for this trial (ic018.21)."
   ]
  },
  {
   "cell_type": "code",
   "execution_count": 138,
   "metadata": {
    "ExecuteTime": {
     "end_time": "2021-03-14T18:58:23.238813Z",
     "start_time": "2021-03-14T18:58:23.081229Z"
    },
    "hidden": true
   },
   "outputs": [
    {
     "name": "stdout",
     "output_type": "stream",
     "text": [
      "tmin_sec=1.672\n"
     ]
    },
    {
     "data": {
      "image/png": "[encoded data removed]",
      "text/plain": [
       "<Figure size 576x576 with 1 Axes>"
      ]
     },
     "metadata": {
      "needs_background": "light"
     },
     "output_type": "display_data"
    }
   ],
   "source": [
    "d=df[df.particle==pid].copy()\n",
    "tmin_sec=np.around(d.t.min()/10**3,3)\n",
    "tmax_sec=np.around(d.t.max()/10**3,3)\n",
    "print(f'tmin_sec={tmin_sec}')\n",
    "retval=PlotFlowerTrajectories(d, col='t', width=200, height=200, fontsize=24, DS=0.025, DT=1.0, jump_thresh=10.0, alpha=1, saving=False, savefig_folder=None, savefig_fn=None, chop_at_first_jump=False, ax=None, cmap='Reds')#, **kwargs)"
   ]
  },
  {
   "cell_type": "code",
   "execution_count": 71,
   "metadata": {
    "ExecuteTime": {
     "end_time": "2021-03-14T18:44:35.406445Z",
     "start_time": "2021-03-14T18:44:35.377568Z"
    },
    "hidden": true
   },
   "outputs": [
    {
     "data": {
      "text/plain": [
       "[709]"
      ]
     },
     "execution_count": 71,
     "metadata": {},
     "output_type": "execute_result"
    }
   ],
   "source": [
    "#DONE: select longest particle\n",
    "#TOOD: plot ^their trajectories > save_fn =f\"{nb_dir}/Figures/fig_1b.png\"\n",
    "#TODO: snapshot for fig. 1a\n",
    "#TODO: heatmap and histogram of net displacements\n",
    "#TODO(elsewhere): insets for fig. 2a\n",
    "# pid=709"
   ]
  },
  {
   "cell_type": "code",
   "execution_count": null,
   "metadata": {
    "ExecuteTime": {
     "end_time": "2021-03-14T18:56:23.682604Z",
     "start_time": "2021-03-14T18:56:23.628177Z"
    },
    "hidden": true
   },
   "outputs": [],
   "source": []
  },
  {
   "cell_type": "code",
   "execution_count": null,
   "metadata": {
    "hidden": true
   },
   "outputs": [],
   "source": []
  },
  {
   "cell_type": "markdown",
   "metadata": {},
   "source": [
    "# generate data for figure 1 (A)"
   ]
  },
  {
   "cell_type": "code",
   "execution_count": 139,
   "metadata": {
    "ExecuteTime": {
     "end_time": "2021-03-14T19:03:40.376988Z",
     "start_time": "2021-03-14T19:03:40.345828Z"
    }
   },
   "outputs": [],
   "source": [
    "#DONE: load ic\n",
    "#DONE: integrate to tmin_sec\n",
    "#DONE: track trajectory up to some time at a high time resolution\n",
    "#DONE: take snapshot of texture\n"
   ]
  },
  {
   "cell_type": "code",
   "execution_count": 134,
   "metadata": {
    "ExecuteTime": {
     "end_time": "2021-03-14T18:56:58.978643Z",
     "start_time": "2021-03-14T18:56:58.961151Z"
    }
   },
   "outputs": [],
   "source": []
  },
  {
   "cell_type": "code",
   "execution_count": 135,
   "metadata": {
    "ExecuteTime": {
     "end_time": "2021-03-14T18:56:59.423705Z",
     "start_time": "2021-03-14T18:56:59.402543Z"
    }
   },
   "outputs": [
    {
     "data": {
      "text/plain": [
       "'/home/timothytyree/Documents/GitHub/care/notebooks/Data/initial-conditions-suite-3-LR/param_qu_tmax_30_Ko_3.8_diffCoef_0.0005/trajectories_unwrap/ic018.21_traj_sr_600_mem_0_unwrap.csv'"
      ]
     },
     "execution_count": 135,
     "metadata": {},
     "output_type": "execute_result"
    }
   ],
   "source": [
    "file"
   ]
  },
  {
   "cell_type": "code",
   "execution_count": 141,
   "metadata": {
    "ExecuteTime": {
     "end_time": "2021-03-14T19:20:03.408421Z",
     "start_time": "2021-03-14T19:20:03.387491Z"
    }
   },
   "outputs": [],
   "source": [
    "# ic_fn=search_for_file()\n",
    "ic_fn='/home/timothytyree/Documents/GitHub/care/notebooks/Data/initial-conditions-suite-3-LR/ic-out/ic018.21.npz'"
   ]
  },
  {
   "cell_type": "code",
   "execution_count": 149,
   "metadata": {
    "ExecuteTime": {
     "end_time": "2021-03-14T19:24:20.966374Z",
     "start_time": "2021-03-14T19:24:20.925661Z"
    }
   },
   "outputs": [
    {
     "data": {
      "text/plain": [
       "(200, 200, 18)"
      ]
     },
     "execution_count": 149,
     "metadata": {},
     "output_type": "execute_result"
    }
   ],
   "source": [
    "txt=load_buffer(ic_fn)\n",
    "txt.shape"
   ]
  },
  {
   "cell_type": "code",
   "execution_count": 143,
   "metadata": {
    "ExecuteTime": {
     "end_time": "2021-03-14T19:20:09.370055Z",
     "start_time": "2021-03-14T19:20:09.338866Z"
    }
   },
   "outputs": [],
   "source": [
    "results_folder=f\"{nb_dir}/Data/fig-1-data\"\n",
    "if not os.path.exists(results_folder):\n",
    "    os.mkdir(results_folder)"
   ]
  },
  {
   "cell_type": "code",
   "execution_count": null,
   "metadata": {
    "ExecuteTime": {
     "end_time": "2021-03-14T18:32:15.051461Z",
     "start_time": "2021-03-14T18:32:15.029873Z"
    }
   },
   "outputs": [],
   "source": []
  },
  {
   "cell_type": "code",
   "execution_count": 147,
   "metadata": {
    "ExecuteTime": {
     "end_time": "2021-03-14T19:23:49.341740Z",
     "start_time": "2021-03-14T19:23:49.316338Z"
    }
   },
   "outputs": [
    {
     "name": "stdout",
     "output_type": "stream",
     "text": [
      "1.672\n"
     ]
    }
   ],
   "source": [
    "K_o=3.8\n",
    "diffCoef=0.0005\n",
    "#cython accelerated time integration of LR model\n",
    "from lib.routines.generate_tip_logs_LR_model_cy import *\n",
    "from lib.routines.kwargs_LR_model_cy import get_kwargs\n",
    "kwargs = get_kwargs(file,results_folder=results_folder)\n",
    "kwargs['tmax']=tmin_sec;print(tmin_sec)\n",
    "kwargs['diffCoef']=diffCoef\n",
    "kwargs['K_o']=K_o"
   ]
  },
  {
   "cell_type": "code",
   "execution_count": 194,
   "metadata": {
    "ExecuteTime": {
     "end_time": "2021-03-14T20:36:29.827353Z",
     "start_time": "2021-03-14T20:36:29.801793Z"
    }
   },
   "outputs": [],
   "source": [
    "# retval = generate_tip_logs_from_ic(ic_fn, **kwargs)\n",
    "# print(f\"completed birth_death_rates_from_ic: {ic}\")\n",
    "# print(f\"csv of spiral tip data stored in: {kwargs['completed_ic_dir']}\")\n"
   ]
  },
  {
   "cell_type": "code",
   "execution_count": 195,
   "metadata": {
    "ExecuteTime": {
     "end_time": "2021-03-14T20:36:30.023798Z",
     "start_time": "2021-03-14T20:36:30.008001Z"
    }
   },
   "outputs": [],
   "source": [
    "# #CUDA accelerated time integration of FK model\n",
    "# from lib.routines.gener_tip_logs_cuda import *\n",
    "# context = drv.Device(0).make_context()\n",
    "# df,txt=routine_gener_tip_logs_cuda(ic=txt,tmax_sec= 1.,tmin_sec=0.,\n",
    "#     printing=True,recording=False,\n",
    "#     diffCoef=0.001,output_time_resolution=2.,context=context)\n",
    "# print(df)"
   ]
  },
  {
   "cell_type": "code",
   "execution_count": 209,
   "metadata": {
    "ExecuteTime": {
     "end_time": "2021-03-14T20:46:07.787290Z",
     "start_time": "2021-03-14T20:46:07.762448Z"
    }
   },
   "outputs": [],
   "source": [
    "# plt.imshow(txt[...,0])"
   ]
  },
  {
   "cell_type": "code",
   "execution_count": 164,
   "metadata": {
    "ExecuteTime": {
     "end_time": "2021-03-14T19:58:21.567715Z",
     "start_time": "2021-03-14T19:31:02.555514Z"
    }
   },
   "outputs": [
    {
     "name": "stdout",
     "output_type": "stream",
     "text": [
      "integrating to time t=1672.000 ms without recording with dt=0.010 ms.\n"
     ]
    }
   ],
   "source": [
    "# dt=0.01\n",
    "# dsdpixel=0.025\n",
    "# width=200;height=200\n",
    "printing=True\n",
    "dt, one_step_map = get_one_step_map(nb_dir,dt=dt,width=width,height=height,**kwargs)\n",
    "# dt, one_step_map = get_one_step_map(nb_dir,dt,**kwargs)\n",
    "# dt, one_step_map = get_one_step_map(nb_dir,dt,dsdpixel,width,height,**kwargs)\n",
    "# dt, one_step_map = get_one_step_map(nb_dir,dt,**kwargs)\n",
    "txt_Istim_none=np.zeros(shape=(width,height), dtype=np.float64, order='C')\n",
    "tmin_early_stopping=tmin_sec*10**3\n",
    "t=0.\n",
    "txt=load_buffer(ic_fn).astype('float64')\n",
    "if printing:\n",
    "    print(f\"integrating to time t={tmin_early_stopping:.3f} ms without recording with dt={dt:.3f} ms.\")\n",
    "    print(f\"long run times ~30 minutes expected...\")\n",
    "while (t<tmin_early_stopping):\n",
    "    one_step_map(txt,txt_Istim_none)\n",
    "    t+=dt\n",
    "#precompute anything that needs precomputing\n",
    "compute_all_spiral_tips= get_compute_all_spiral_tips(mode='simp',width=width,height=height)\n"
   ]
  },
  {
   "cell_type": "code",
   "execution_count": 165,
   "metadata": {
    "ExecuteTime": {
     "end_time": "2021-03-14T19:58:22.477839Z",
     "start_time": "2021-03-14T19:58:21.648551Z"
    }
   },
   "outputs": [
    {
     "data": {
      "text/plain": [
       "0"
      ]
     },
     "execution_count": 165,
     "metadata": {},
     "output_type": "execute_result"
    }
   ],
   "source": [
    "beep(4)"
   ]
  },
  {
   "cell_type": "code",
   "execution_count": 169,
   "metadata": {
    "ExecuteTime": {
     "end_time": "2021-03-14T20:00:27.238638Z",
     "start_time": "2021-03-14T20:00:27.160478Z"
    }
   },
   "outputs": [],
   "source": [
    "level1=-50.\n",
    "level2=0.\n",
    "#TODO: track trajectory up to some time at a high time resolution\n",
    "#check for any tips being present\n",
    "inVc,outVc,inmhjdfx,outmhjdfx,dVcdt=unstack_txt(txt)\n",
    "img=inVc[...,0]\n",
    "dimgdt=dVcdt[...,0]\n",
    "dict_out=compute_all_spiral_tips(t,img,dimgdt,level1,level2)#,width=width,height=height)\n",
    "n_tips=dict_out['n']#skip this trial if no spiral tips are present"
   ]
  },
  {
   "cell_type": "code",
   "execution_count": 172,
   "metadata": {
    "ExecuteTime": {
     "end_time": "2021-03-14T20:01:16.955730Z",
     "start_time": "2021-03-14T20:01:16.935471Z"
    }
   },
   "outputs": [],
   "source": [
    "txt_tmin_sec=txt.copy()"
   ]
  },
  {
   "cell_type": "code",
   "execution_count": 174,
   "metadata": {
    "ExecuteTime": {
     "end_time": "2021-03-14T20:06:32.815417Z",
     "start_time": "2021-03-14T20:06:32.793978Z"
    }
   },
   "outputs": [],
   "source": [
    "#integrate by 300 ms while recording\n",
    "t_obs_sec=tmin_sec+0.3\n",
    "DT=0.4\n",
    "save_every_n_frames=int(DT/dt)"
   ]
  },
  {
   "cell_type": "code",
   "execution_count": 178,
   "metadata": {
    "ExecuteTime": {
     "end_time": "2021-03-14T20:12:44.575787Z",
     "start_time": "2021-03-14T20:07:21.429184Z"
    }
   },
   "outputs": [
    {
     "name": "stdout",
     "output_type": "stream",
     "text": [
      "integrating to no later than time t=1972.000 milliseconds. ms with recording with dt=0.010 ms.\n",
      "\n",
      "current time is 1972.0 ms in simulation time.\n",
      "number of nan pixel voltages is 0.\n",
      "number of tips is = 10.\n",
      "Caution! max_time was reached! Termination time not reached!  Consider rerunning with greater max_tim if termination is desired.\n"
     ]
    }
   ],
   "source": [
    "#TODO: track trajectory up to some time at a high time resolution\n",
    "tmax=t_obs_sec*10**3\n",
    "dict_out_lst=[]\n",
    "logging=True\n",
    "if n_tips==0:\n",
    "    dict_out_lst.append(dict_out)\n",
    "# n_tips=1 #to initialize loop invarient (n_tips > 0) to True\n",
    "if printing:\n",
    "    #print(f\"sigma is {sigma}, threshold is {threshold}.\")\n",
    "    #print(f\"pad is {pad}, rejection_distance is edge_tolerance is {edge_tolerance}.\")\n",
    "    print(f\"integrating to no later than time t={tmax:.3f} milliseconds. ms with recording with dt={dt:.3f} ms.\")\n",
    "# if timing:\n",
    "# \tstart = time.time()\n",
    "##########################################\n",
    "#run the simulation, measuring regularly\n",
    "##########################################\n",
    "step_count = 0\n",
    "while (t<tmax) & (n_tips > 0):\n",
    "    if step_count%save_every_n_frames == 0:\n",
    "        #compute tip locations in dict_out\n",
    "        #update texture namespace\n",
    "        inVc,outVc,inmhjdfx,outmhjdfx,dVcdt=unstack_txt(txt)\n",
    "        # txt=stack_txt(inVc,outVc,inmhjdfx,outmhjdfx,dVcdt)\n",
    "        img=inVc[...,0]\n",
    "        dimgdt=dVcdt[...,0]\n",
    "        dict_out=compute_all_spiral_tips(t,img,dimgdt,level1,level2)#,width=width,height=height)\n",
    "\n",
    "        #save tip data\n",
    "        n_tips=dict_out['n']\n",
    "        # n_tips_lst.append(n_tips)\n",
    "        # t_lst.append(t)\n",
    "        dict_out_lst.append(dict_out)\n",
    "\n",
    "        #update progress bar after each measurement\n",
    "        if not logging:\n",
    "            if printing:\n",
    "                printProgressBar(step_count, num_steps, prefix = 'Progress:', suffix = 'Complete', length = 50)\n",
    "\n",
    "    #forward Euler integration in time\n",
    "    one_step_map(txt,txt_Istim_none)\n",
    "    #advance time by one step\n",
    "    t   += dt\n",
    "    step_count += 1\n",
    "    if not logging:\n",
    "        if printing:\n",
    "            printProgressBar(step_count, num_steps, prefix = 'Progress:', suffix = 'Complete', length = 50)\n",
    "\n",
    "if printing:\n",
    "    #report the bottom line up front\n",
    "    # if timing:\n",
    "    # \tprint(f\"\\ntime integration complete. run time was {time.time()-start:.2f} seconds in realtime\")\n",
    "    if n_tips==0:\n",
    "        print(f\"zero tips remaining at time t = {t:.1f} ms.\")\n",
    "    print(f\"\\ncurrent time is {t:.1f} ms in simulation time.\")\n",
    "    print(f\"number of nan pixel voltages is {np.max(sum(np.isnan(txt[...,0])))}.\")\n",
    "    print(f\"number of tips is = {n_tips}.\")\n"
   ]
  },
  {
   "cell_type": "code",
   "execution_count": 182,
   "metadata": {
    "ExecuteTime": {
     "end_time": "2021-03-14T20:22:17.590221Z",
     "start_time": "2021-03-14T20:22:16.525181Z"
    }
   },
   "outputs": [
    {
     "name": "stdout",
     "output_type": "stream",
     "text": [
      "consider tmax_sec=2.128 before integrating further...\n"
     ]
    },
    {
     "data": {
      "text/plain": [
       "0"
      ]
     },
     "execution_count": 182,
     "metadata": {},
     "output_type": "execute_result"
    }
   ],
   "source": [
    "#save txt as .npy, and save dict_out_lst as tips_before_snapshot.csv\n",
    "tmax_sec=np.around(d.t.max()/10**3,3)\n",
    "savedf_before_fn='tips_before_snapshot.csv'\n",
    "savetxt_obs_fn='txt_obs.npy'\n",
    "os.chdir(results_folder)\n",
    "np.save(savetxt_obs_fn,txt)\n",
    "print(f\"consider tmax_sec={tmax_sec} before integrating further...\")\n",
    "beep(5)"
   ]
  },
  {
   "cell_type": "code",
   "execution_count": 192,
   "metadata": {
    "ExecuteTime": {
     "end_time": "2021-03-14T20:25:38.306738Z",
     "start_time": "2021-03-14T20:25:37.723868Z"
    }
   },
   "outputs": [],
   "source": [
    "df=pd.concat((pd.DataFrame(do) for do in dict_out_lst))\n",
    "df.reset_index(inplace=True,drop=True)\n",
    "df.to_csv(savedf_before_fn)"
   ]
  },
  {
   "cell_type": "code",
   "execution_count": 193,
   "metadata": {
    "ExecuteTime": {
     "end_time": "2021-03-14T20:30:14.406129Z",
     "start_time": "2021-03-14T20:27:49.466759Z"
    }
   },
   "outputs": [
    {
     "name": "stdout",
     "output_type": "stream",
     "text": [
      "integrating to no later than time t=2128.000 milliseconds. ms with recording with dt=0.010 ms.\n",
      "\n",
      "current time is 2128.0 ms in simulation time.\n",
      "number of nan pixel voltages is 0.\n",
      "number of tips is = 10.\n",
      "Caution! max_time was reached! Termination time not reached!  Consider rerunning with greater max_tim if termination is desired.\n"
     ]
    }
   ],
   "source": [
    "#DONE: finish off recording for that trajectory\n",
    "#DONE: track trajectory up to some time at a high time resolution\n",
    "tmax=tmax_sec*10**3\n",
    "# dict_out_lst=[]\n",
    "logging=True\n",
    "if n_tips==0:\n",
    "    dict_out_lst.append(dict_out)\n",
    "# n_tips=1 #to initialize loop invarient (n_tips > 0) to True\n",
    "if printing:\n",
    "    #print(f\"sigma is {sigma}, threshold is {threshold}.\")\n",
    "    #print(f\"pad is {pad}, rejection_distance is edge_tolerance is {edge_tolerance}.\")\n",
    "    print(f\"integrating to no later than time t={tmax:.3f} milliseconds. ms with recording with dt={dt:.3f} ms.\")\n",
    "# if timing:\n",
    "# \tstart = time.time()\n",
    "##########################################\n",
    "#run the simulation, measuring regularly\n",
    "##########################################\n",
    "step_count = 0\n",
    "while (t<tmax) & (n_tips > 0):\n",
    "    if step_count%save_every_n_frames == 0:\n",
    "        #compute tip locations in dict_out\n",
    "        #update texture namespace\n",
    "        inVc,outVc,inmhjdfx,outmhjdfx,dVcdt=unstack_txt(txt)\n",
    "        # txt=stack_txt(inVc,outVc,inmhjdfx,outmhjdfx,dVcdt)\n",
    "        img=inVc[...,0]\n",
    "        dimgdt=dVcdt[...,0]\n",
    "        dict_out=compute_all_spiral_tips(t,img,dimgdt,level1,level2)#,width=width,height=height)\n",
    "\n",
    "        #save tip data\n",
    "        n_tips=dict_out['n']\n",
    "        # n_tips_lst.append(n_tips)\n",
    "        # t_lst.append(t)\n",
    "        dict_out_lst.append(dict_out)\n",
    "\n",
    "        #update progress bar after each measurement\n",
    "        if not logging:\n",
    "            if printing:\n",
    "                printProgressBar(step_count, num_steps, prefix = 'Progress:', suffix = 'Complete', length = 50)\n",
    "\n",
    "    #forward Euler integration in time\n",
    "    one_step_map(txt,txt_Istim_none)\n",
    "    #advance time by one step\n",
    "    t   += dt\n",
    "    step_count += 1\n",
    "    if not logging:\n",
    "        if printing:\n",
    "            printProgressBar(step_count, num_steps, prefix = 'Progress:', suffix = 'Complete', length = 50)\n",
    "\n",
    "if printing:\n",
    "    #report the bottom line up front\n",
    "    # if timing:\n",
    "    # \tprint(f\"\\ntime integration complete. run time was {time.time()-start:.2f} seconds in realtime\")\n",
    "    if n_tips==0:\n",
    "        print(f\"zero tips remaining at time t = {t:.1f} ms.\")\n",
    "    print(f\"\\ncurrent time is {t:.1f} ms in simulation time.\")\n",
    "    print(f\"number of nan pixel voltages is {np.max(sum(np.isnan(txt[...,0])))}.\")\n",
    "    print(f\"number of tips is = {n_tips}.\")"
   ]
  },
  {
   "cell_type": "code",
   "execution_count": 198,
   "metadata": {
    "ExecuteTime": {
     "end_time": "2021-03-14T20:38:52.011582Z",
     "start_time": "2021-03-14T20:38:51.124286Z"
    }
   },
   "outputs": [],
   "source": [
    "savedf_after_fn='tips_after_snapshot.csv'\n",
    "df_final=pd.concat((pd.DataFrame(do) for do in dict_out_lst))\n",
    "df_final.reset_index(inplace=True)\n",
    "df_final.to_csv(savedf_after_fn)"
   ]
  },
  {
   "cell_type": "code",
   "execution_count": 199,
   "metadata": {
    "ExecuteTime": {
     "end_time": "2021-03-14T20:39:02.136650Z",
     "start_time": "2021-03-14T20:39:02.121389Z"
    }
   },
   "outputs": [],
   "source": []
  },
  {
   "cell_type": "code",
   "execution_count": 207,
   "metadata": {
    "ExecuteTime": {
     "end_time": "2021-03-14T20:45:49.989130Z",
     "start_time": "2021-03-14T20:44:53.745611Z"
    }
   },
   "outputs": [
    {
     "name": "stdout",
     "output_type": "stream",
     "text": [
      "Frame 1139: 9 trajectories present.\n"
     ]
    }
   ],
   "source": [
    "#DONE: compute trajectory of that particle\n",
    "#DONE: compute unwrapped trajectory of that particle\n",
    "sr=600;mem=0;round_t_to_n_digits=6;jump_thresh=20\n",
    "#track tips, unwrap them, and then truncate at the first jump of distance greater than jump_thresh pixels\n",
    "df_final=return_unwrapped_trajectory(df_final, width, height, sr, mem, dsdpixel, DT, round_t_to_n_digits,jump_thresh)#, **kwargs)\n",
    "df_final.to_csv(savedf_after_fn)"
   ]
  },
  {
   "cell_type": "markdown",
   "metadata": {},
   "source": [
    "# plot figure 1a"
   ]
  },
  {
   "cell_type": "code",
   "execution_count": 281,
   "metadata": {
    "ExecuteTime": {
     "end_time": "2021-03-14T21:21:09.717889Z",
     "start_time": "2021-03-14T21:21:09.696025Z"
    }
   },
   "outputs": [],
   "source": [
    "# t_obs_sec=1.972\n",
    "# DT=0.4"
   ]
  },
  {
   "cell_type": "code",
   "execution_count": 430,
   "metadata": {
    "ExecuteTime": {
     "end_time": "2021-03-14T22:31:32.909062Z",
     "start_time": "2021-03-14T22:31:32.866414Z"
    }
   },
   "outputs": [],
   "source": [
    "#TODO: superimpose those same two trajectories onto the snapshot\n",
    "os.chdir(results_folder)\n",
    "txt_obs=load_buffer(savetxt_obs_fn)\n",
    "\n",
    "# savedf_after_fn='tips_after_snapshot.csv'\n",
    "df_final=pd.read_csv('tips_after_snapshot.csv')"
   ]
  },
  {
   "cell_type": "code",
   "execution_count": 431,
   "metadata": {
    "ExecuteTime": {
     "end_time": "2021-03-14T22:31:33.743057Z",
     "start_time": "2021-03-14T22:31:33.726353Z"
    },
    "run_control": {
     "marked": true
    }
   },
   "outputs": [],
   "source": [
    "(t_obs_sec*10**3-DT/2. >=df_final.t)&(t_obs_sec*10**3+DT/2. <=df_final.t)\n",
    "t_values=df_final.t.values\n",
    "t0=t_values[0]\n",
    "frameno=(t_obs_sec*10**3-t0)/DT"
   ]
  },
  {
   "cell_type": "code",
   "execution_count": 432,
   "metadata": {
    "ExecuteTime": {
     "end_time": "2021-03-14T22:31:35.014080Z",
     "start_time": "2021-03-14T22:31:34.992600Z"
    }
   },
   "outputs": [],
   "source": [
    "frameno=int(frameno)"
   ]
  },
  {
   "cell_type": "code",
   "execution_count": 433,
   "metadata": {
    "ExecuteTime": {
     "end_time": "2021-03-14T22:31:35.922835Z",
     "start_time": "2021-03-14T22:31:35.885140Z"
    }
   },
   "outputs": [],
   "source": [
    "#select tip locations\n",
    "dict_out=dict_out_lst[frameno]\n",
    "x_values=np.array(dict_out['x'])\n",
    "y_values=np.array(dict_out['y'])"
   ]
  },
  {
   "cell_type": "code",
   "execution_count": 437,
   "metadata": {
    "ExecuteTime": {
     "end_time": "2021-03-14T22:32:14.281205Z",
     "start_time": "2021-03-14T22:32:06.455090Z"
    }
   },
   "outputs": [
    {
     "name": "stdout",
     "output_type": "stream",
     "text": [
      "Frame 1139: 9 trajectories present.\n"
     ]
    }
   ],
   "source": [
    "# track unwrapped tips\n",
    "df=pd.concat((pd.DataFrame(do) for do in dict_out_lst))\n",
    "df.reset_index(inplace=True,drop=True)\n",
    "# generate_track_tips_pbc\n",
    "df.drop_duplicates(subset=['t','x','y'],keep='first',inplace=True)\n",
    "#,ignore_index=True)\n",
    "df = compute_track_tips_pbc(df, mem, sr, width, height)#,**kwargs)\n",
    "df_final=df.copy()"
   ]
  },
  {
   "cell_type": "code",
   "execution_count": 440,
   "metadata": {
    "ExecuteTime": {
     "end_time": "2021-03-14T22:32:30.972985Z",
     "start_time": "2021-03-14T22:32:30.955171Z"
    }
   },
   "outputs": [],
   "source": [
    "boo=df_final.frame==frameno\n",
    "d=df_final[boo].copy()\n",
    "x_values=d.x.values\n",
    "y_values=d.y.values\n",
    "pid_lst_present=d.particle.values"
   ]
  },
  {
   "cell_type": "code",
   "execution_count": 441,
   "metadata": {
    "ExecuteTime": {
     "end_time": "2021-03-14T22:32:31.342547Z",
     "start_time": "2021-03-14T22:32:31.325703Z"
    }
   },
   "outputs": [],
   "source": [
    "i=9;pid=pid_lst_present[i]\n",
    "pid1=pid\n",
    "i=2;pid=pid_lst_present[i]\n",
    "pid2=pid"
   ]
  },
  {
   "cell_type": "code",
   "execution_count": 462,
   "metadata": {
    "ExecuteTime": {
     "end_time": "2021-03-14T22:36:48.173210Z",
     "start_time": "2021-03-14T22:36:48.068317Z"
    }
   },
   "outputs": [
    {
     "data": {
      "image/png": "[encoded data removed]",
      "text/plain": [
       "<Figure size 360x360 with 1 Axes>"
      ]
     },
     "metadata": {
      "needs_background": "light"
     },
     "output_type": "display_data"
    }
   ],
   "source": [
    "#DONE: superimpose those trajectories onto Fig. 1A\n",
    "save_fn =f\"fig_1a.png\"\n",
    "figsize=(5,5)\n",
    "saving=False\n",
    "fontsize = 12\n",
    "\n",
    "img=txt_obs[...,0]\n",
    "img_show=-(img+np.min(img) )/ ( np.max(img) -np.min(img) )\n",
    "fig,ax=plt.subplots(figsize=figsize)\n",
    "ax.imshow(img_show,cmap='gray')\n",
    "\n",
    "#plot all tips\n",
    "ax.scatter(x_values,y_values,marker='*',s=300,alpha=1.0,color='orange')\n",
    "\n",
    "#up to the current frame\n",
    "boo=df_final.frame<frameno;boo&=df_final.particle==pid1\n",
    "d=df_final[boo].copy()\n",
    "x_values_self=d.x.values;y_values_self=d.y.values;c_values_self=d.t.values\n",
    "ax.scatter(x_values_self,y_values_self,c=c_values_self,marker='.',s=30,alpha=0.4,cmap='Blues')\n",
    "boo=df_final.frame<frameno;boo&=df_final.particle==pid2\n",
    "d=df_final[boo].copy()\n",
    "x_values_self=d.x.values;y_values_self=d.y.values;c_values_self=d.t.values\n",
    "ax.scatter(x_values_self,y_values_self,c=c_values_self,marker='.',s=30,alpha=0.4,cmap='Greens')\n",
    "#insert scale bar\n",
    "uml = 1#cm\n",
    "lamda=0.025#cm/pxl\n",
    "pxl = 315/5#12#uml/lamda#pxl\n",
    "xstart=17#17;ycoord=17\n",
    "l1 = lines.Line2D([xstart, xstart+pxl], [ycoord, ycoord], color='white', linewidth=3, solid_capstyle='butt')\n",
    "fig.lines.extend([l1])\n",
    "message=r'1 cm'\n",
    "ax.text(x=11.5, y=187, c='white', s=message, weight='bold', fontsize=fontsize, horizontalalignment='left', verticalalignment='center')\n",
    "ax.axis('off')\n",
    "\n",
    "if not saving:\n",
    "    plt.tight_layout()\n",
    "    plt.show()\n",
    "else:\n",
    "    os.chdir(results_folder)\n",
    "    plt.savefig(save_fn, bbox_inches='tight', pad_inches=0.)#, dpi=300)"
   ]
  },
  {
   "cell_type": "markdown",
   "metadata": {
    "ExecuteTime": {
     "end_time": "2021-03-14T21:54:11.624007Z",
     "start_time": "2021-03-14T21:54:11.600639Z"
    }
   },
   "source": [
    "# plot Fig. 1b\n"
   ]
  },
  {
   "cell_type": "code",
   "execution_count": 418,
   "metadata": {
    "ExecuteTime": {
     "end_time": "2021-03-14T22:23:07.331674Z",
     "start_time": "2021-03-14T22:23:07.110829Z"
    }
   },
   "outputs": [],
   "source": [
    "#unwrap and center the token trajectories\n",
    "boo=df_final.particle==pid1\n",
    "d=df_final[boo].copy()\n",
    "d1=unwrap_traj_and_center(d,width,height,DS=0.025)\n",
    "boo=df_final.particle==pid2\n",
    "d=df_final[boo].copy()\n",
    "d2=unwrap_traj_and_center(d,width,height,DS=0.025)\n",
    "\n",
    "#flip y-axis to match fig. 1a\n",
    "d1.y*=-1\n",
    "d2.y*=-1"
   ]
  },
  {
   "cell_type": "code",
   "execution_count": 426,
   "metadata": {
    "ExecuteTime": {
     "end_time": "2021-03-14T22:26:16.482957Z",
     "start_time": "2021-03-14T22:26:16.458741Z"
    }
   },
   "outputs": [],
   "source": [
    "#TODO: linearly interpolate more t_values\n",
    "d1.t.values\n",
    "interpolate"
   ]
  },
  {
   "cell_type": "code",
   "execution_count": 463,
   "metadata": {
    "ExecuteTime": {
     "end_time": "2021-03-14T22:38:57.993449Z",
     "start_time": "2021-03-14T22:38:57.954654Z"
    }
   },
   "outputs": [
    {
     "data": {
      "text/plain": [
       "20"
      ]
     },
     "execution_count": 463,
     "metadata": {},
     "output_type": "execute_result"
    }
   ],
   "source": [
    "jump_thresh"
   ]
  },
  {
   "cell_type": "code",
   "execution_count": 471,
   "metadata": {
    "ExecuteTime": {
     "end_time": "2021-03-14T23:39:29.466591Z",
     "start_time": "2021-03-14T23:39:29.343073Z"
    }
   },
   "outputs": [
    {
     "data": {
      "image/png": "[encoded data removed]",
      "text/plain": [
       "<Figure size 360x360 with 1 Axes>"
      ]
     },
     "metadata": {
      "needs_background": "light"
     },
     "output_type": "display_data"
    }
   ],
   "source": [
    "#DONE: superimpose those trajectories onto Fig. 1A\n",
    "save_fn =f\"fig_1b.png\"\n",
    "figsize=(5,5)\n",
    "saving=False\n",
    "fontsize = 12\n",
    "\n",
    "img=txt_obs[...,0]\n",
    "img_show=-(img+np.min(img) )/ ( np.max(img) -np.min(img) )\n",
    "fig,ax=plt.subplots(figsize=figsize)\n",
    "\n",
    "ax=PlotFlowerTrajectories(d1, col='t', width=width, height=height, fontsize=24, \n",
    "                              DS=0.025, DT=DT, jump_thresh=jump_thresh, alpha=0.8, saving=False, \n",
    "                              savefig_folder=None, savefig_fn=None, chop_at_first_jump=False, \n",
    "                              ax=ax, cmap='Blues',s=200)#, **kwargs)\n",
    "ax=PlotFlowerTrajectories(d2, col='t', width=width, height=height, fontsize=24, \n",
    "                              DS=0.025, DT=DT, jump_thresh=jump_thresh, alpha=0.8, saving=False, \n",
    "                              savefig_folder=None, savefig_fn=None, chop_at_first_jump=False, \n",
    "                              ax=ax, cmap='Greens',s=200,marker='*')\n",
    "# retval=PlotFlowerTrajectories(d, col='t', width=200, height=200, fontsize=24, DS=0.025, DT=1.0, jump_thresh=10.0, alpha=1, saving=False, savefig_folder=None, savefig_fn=None, chop_at_first_jump=False, ax=None, cmap='Reds')#, **kwargs)\n",
    "\n",
    "#DONE: select longest particle\n",
    "#TOOD: plot ^their trajectories > save_fn =f\"{nb_dir}/Figures/fig_1b.png\"\n",
    "#TODO: snapshot for fig. 1a\n",
    "#TODO: heatmap and histogram of net displacements\n",
    "#TODO(elsewhere): insets for fig. 2a\n",
    "# pid=709"
   ]
  },
  {
   "cell_type": "code",
   "execution_count": 466,
   "metadata": {
    "ExecuteTime": {
     "end_time": "2021-03-14T22:39:42.265327Z",
     "start_time": "2021-03-14T22:39:42.150295Z"
    }
   },
   "outputs": [
    {
     "data": {
      "text/plain": [
       "[<matplotlib.lines.Line2D at 0x7f2da1561750>]"
      ]
     },
     "execution_count": 466,
     "metadata": {},
     "output_type": "execute_result"
    },
    {
     "data": {
      "image/png": "[encoded data removed]",
      "text/plain": [
       "<Figure size 432x288 with 1 Axes>"
      ]
     },
     "metadata": {
      "needs_background": "light"
     },
     "output_type": "display_data"
    }
   ],
   "source": [
    "plt.plot(d2.x.values,d2.y.values)"
   ]
  },
  {
   "cell_type": "code",
   "execution_count": null,
   "metadata": {},
   "outputs": [],
   "source": []
  },
  {
   "cell_type": "code",
   "execution_count": null,
   "metadata": {},
   "outputs": [],
   "source": [
    "#TODO: plot that unwrapped trajectory onto Fig. 1B\n",
    "save_fn =f\"{nb_dir}/Figures/fig_1b.png\"\n",
    "#TODO(later, in draw): indicate the range of the particle, R\n",
    "\n",
    "\n",
    "#TODO: compute ensemble averages of ranges\n",
    "#TODO: plot heatmap of MSD(tau_final) that shows isotropy (Fig. 1C)\n",
    "save_fn =f\"{nb_dir}/Figures/fig_1c.png\"\n",
    "#TODO: plot histogram of R that shows distribution (Fig. 1D)\n",
    "save_fn =f\"{nb_dir}/Figures/fig_1d.png\""
   ]
  }
 ],
 "metadata": {
  "kernelspec": {
   "display_name": "Python 3",
   "language": "python",
   "name": "python3"
  },
  "language_info": {
   "codemirror_mode": {
    "name": "ipython",
    "version": 3
   },
   "file_extension": ".py",
   "mimetype": "text/x-python",
   "name": "python",
   "nbconvert_exporter": "python",
   "pygments_lexer": "ipython3",
   "version": "3.7.6"
  },
  "toc": {
   "base_numbering": 1,
   "nav_menu": {},
   "number_sections": true,
   "sideBar": true,
   "skip_h1_title": false,
   "title_cell": "Table of Contents",
   "title_sidebar": "Contents",
   "toc_cell": false,
   "toc_position": {},
   "toc_section_display": true,
   "toc_window_display": false
  },
  "varInspector": {
   "cols": {
    "lenName": 16,
    "lenType": 16,
    "lenVar": 40
   },
   "kernels_config": {
    "python": {
     "delete_cmd_postfix": "",
     "delete_cmd_prefix": "del ",
     "library": "var_list.py",
     "varRefreshCmd": "print(var_dic_list())"
    },
    "r": {
     "delete_cmd_postfix": ") ",
     "delete_cmd_prefix": "rm(",
     "library": "var_list.r",
     "varRefreshCmd": "cat(var_dic_list()) "
    }
   },
   "types_to_exclude": [
    "module",
    "function",
    "builtin_function_or_method",
    "instance",
    "_Feature"
   ],
   "window_display": false
  }
 },
 "nbformat": 4,
 "nbformat_minor": 4
}
