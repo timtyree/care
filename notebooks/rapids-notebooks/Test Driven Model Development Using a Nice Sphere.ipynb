{
 "cells": [
  {
   "cell_type": "markdown",
   "metadata": {
    "ExecuteTime": {
     "end_time": "2020-06-27T00:01:42.964413Z",
     "start_time": "2020-06-27T00:01:42.961351Z"
    }
   },
   "source": [
    "# Test Driven Model Development Using a Nice Sphere\n",
    "Tim Tyree<br>\n",
    "6.26.2020"
   ]
  },
  {
   "cell_type": "code",
   "execution_count": 219,
   "metadata": {
    "ExecuteTime": {
     "end_time": "2020-06-29T00:00:29.398610Z",
     "start_time": "2020-06-29T00:00:29.357505Z"
    }
   },
   "outputs": [
    {
     "name": "stdout",
     "output_type": "stream",
     "text": [
      "Automatic calling is: Smart\n",
      "The autoreload extension is already loaded. To reload it, use:\n",
      "  %reload_ext autoreload\n"
     ]
    }
   ],
   "source": [
    "import numpy as np, pandas as pd, matplotlib.pyplot as plt\n",
    "from mpl_toolkits.mplot3d import Axes3D  \n",
    "\n",
    "#automate the boring stuff\n",
    "from IPython import utils\n",
    "import time, os, sys, re\n",
    "beep = lambda x: os.system(\"echo -n '\\\\a';sleep 0.2;\" * x)\n",
    "if not 'nb_dir' in globals():\n",
    "    nb_dir = os.getcwd()\n",
    "sys.path.append(\"../lib\") \n",
    "from lib import *\n",
    "sys.path.append(\"lib\") \n",
    "from lib import *\n",
    "\n",
    "# from operari import *\n",
    "# from ProgressBar import *\n",
    "# from mesh_ops import *\n",
    "\n",
    "# the visualization tools involved here for triangular meshes is\n",
    "import trimesh\n",
    "import pyglet\n",
    "from numba import njit, cuda\n",
    "# from numba.typed import List\n",
    "# import numba\n",
    "import trimesh\n",
    "\n",
    "#try using a scipy sparse matrix to speed up spring force evaluations\n",
    "#TODO: consider speeding up bigger meshes with pycuda's sparce matrices\n",
    "from scipy.sparse import csr_matrix\n",
    "import scipy.sparse as sparse\n",
    "\n",
    "#formating\n",
    "from matplotlib import rc\n",
    "rc('text', usetex=True)\n",
    "\n",
    "%autocall 1\n",
    "%load_ext autoreload\n",
    "%autoreload 2"
   ]
  },
  {
   "cell_type": "markdown",
   "metadata": {},
   "source": [
    "# import a mesh of the unit 2-sphere"
   ]
  },
  {
   "cell_type": "code",
   "execution_count": 215,
   "metadata": {
    "ExecuteTime": {
     "end_time": "2020-06-28T23:59:41.650666Z",
     "start_time": "2020-06-28T23:59:41.607725Z"
    }
   },
   "outputs": [
    {
     "name": "stderr",
     "output_type": "stream",
     "text": [
      "face_normals all zero, ignoring!\n"
     ]
    }
   ],
   "source": [
    "os.chdir(f'{nb_dir}/Data/spherical_meshes')\n",
    "mesh = trimesh.load('spherical_mesh_64.stl')\n",
    "#subtract the center of mass\n",
    "mesh.vertices -= mesh.center_mass\n",
    "#normalize the mean radius to 1\n",
    "mesh.vertices /= np.cbrt(mesh.volume*3/(4*np.pi))\n",
    "\n",
    "#normalize the mean radius to R\n",
    "# R = 1. #unit length\n",
    "# mesh.vertices *= R/np.mean(np.linalg.norm(mesh.vertices,axis=1))"
   ]
  },
  {
   "cell_type": "code",
   "execution_count": 216,
   "metadata": {
    "ExecuteTime": {
     "end_time": "2020-06-28T23:59:42.060346Z",
     "start_time": "2020-06-28T23:59:42.037659Z"
    }
   },
   "outputs": [],
   "source": [
    "assert(mesh.is_watertight)\n",
    "assert(mesh.is_winding_consistent)"
   ]
  },
  {
   "cell_type": "code",
   "execution_count": 217,
   "metadata": {
    "ExecuteTime": {
     "end_time": "2020-06-28T23:59:42.546156Z",
     "start_time": "2020-06-28T23:59:42.514743Z"
    }
   },
   "outputs": [
    {
     "name": "stdout",
     "output_type": "stream",
     "text": [
      "1.0083893459591489\n",
      "0.9999999999999999\n"
     ]
    }
   ],
   "source": [
    "# unit length check\n",
    "print(np.mean(np.linalg.norm(mesh.vertices,axis=1)))\n",
    "print(np.cbrt(mesh.volume*3/(4*np.pi)))"
   ]
  },
  {
   "cell_type": "markdown",
   "metadata": {
    "heading_collapsed": true
   },
   "source": [
    "## [deprecated, just use real space, dude.]"
   ]
  },
  {
   "cell_type": "code",
   "execution_count": 5,
   "metadata": {
    "ExecuteTime": {
     "end_time": "2020-06-28T00:15:48.932941Z",
     "start_time": "2020-06-28T00:15:48.908180Z"
    },
    "hidden": true
   },
   "outputs": [],
   "source": [
    "#doesn't work. don't know why\n",
    "# def mat_to_str(A):\n",
    "#     string = f'''\n",
    "#     {A[[0,0]]} & {A[[0,1]]} & {A[[0,2]]} & {A[[0,3]]} \\\\ \n",
    "#     {A[[1,0]]} & {A[[1,1]]} & {A[[1,2]]} & {A[[1,3]]} \\\\ \n",
    "#     {A[[2,0]]} & {A[[2,1]]} & {A[[2,2]]} & {A[[2,3]]} \\\\ \n",
    "#     {A[[3,0]]} & {A[[3,1]]} & {A[[3,2]]} & {A[[3,3]]} \\\\ \n",
    "#     '''\n",
    "#     latex_string = r'$\\left( \\begin{array}{ll} ' + string + r'\\end{{array}} \\right)$'\n",
    "#     return latex_string\n",
    "# # text(my_matrix, (1,1))"
   ]
  },
  {
   "cell_type": "markdown",
   "metadata": {
    "ExecuteTime": {
     "end_time": "2020-06-27T01:19:52.604149Z",
     "start_time": "2020-06-27T01:19:52.583114Z"
    },
    "heading_collapsed": true,
    "hidden": true
   },
   "source": [
    "### [deprecated, use real space] cast all vertices and shapes to quaternions in numpy. record as the undeformed surface\n",
    "- TODO: dilate the sphere by a known amount\n",
    "- TODO: compute the deformation gradient\n",
    "- TODO: compute the 1st piola-kirchoff tensor for some constitutive relation\n",
    "- TODO: taking thickness to be $\\delta\\ll1$, compute the effective surface tension, $\\gamma$"
   ]
  },
  {
   "cell_type": "code",
   "execution_count": 6,
   "metadata": {
    "ExecuteTime": {
     "end_time": "2020-06-28T00:15:50.013924Z",
     "start_time": "2020-06-28T00:15:49.985113Z"
    },
    "hidden": true
   },
   "outputs": [],
   "source": [
    "from colorsys import hls_to_rgb\n",
    "\n",
    "def colorize(z):\n",
    "    n,m = z.shape\n",
    "    c = np.zeros((n,m,3))\n",
    "    c[np.isinf(z)] = (1.0, 1.0, 1.0)\n",
    "    c[np.isnan(z)] = (0.5, 0.5, 0.5)\n",
    "\n",
    "    idx = ~(np.isinf(z) + np.isnan(z))\n",
    "    A = (np.angle(z[idx]) + np.pi) / (2*np.pi)\n",
    "    A = (A + 0.5) % 1.0\n",
    "    B = 1.0 - 1.0/(1.0+abs(z[idx])**0.3)\n",
    "    c[idx] = [hls_to_rgb(a, b, 0.8) for a,b in zip(A,B)]\n",
    "    return c"
   ]
  },
  {
   "cell_type": "code",
   "execution_count": 7,
   "metadata": {
    "ExecuteTime": {
     "end_time": "2020-06-28T00:15:54.298852Z",
     "start_time": "2020-06-28T00:15:54.255283Z"
    },
    "hidden": true
   },
   "outputs": [
    {
     "name": "stdout",
     "output_type": "stream",
     "text": [
      "$\\sigma_x is $\n",
      "[[0.+0.j 0.+1.j]\n",
      " [0.+1.j 0.+0.j]]\n",
      "$\\sigma_y is $\n",
      "[[ 0.+0.j  1.-0.j]\n",
      " [-1.+0.j  0.+0.j]]\n",
      "$\\sigma_z is $\n",
      "[[ 0.+1.j  0.+0.j]\n",
      " [ 0.+0.j -0.-1.j]]\n"
     ]
    }
   ],
   "source": [
    "#define the constant pauli matrices as a basis for real space\n",
    "sigx = 1.j*np.array([[0.,1.],[1.,0.]],dtype=complex)\n",
    "sigy = 1.j*np.array([[0.,-1.j],[1.j,0.]],dtype=complex)\n",
    "sigz = 1.j*np.array([[1.,0.],[0.,-1.]],dtype=complex)\n",
    "one  = np.array([[1.,0.],[0.,1.]],dtype=complex)\n",
    "zero = np.array([[0.,0.],[0.,0.]],dtype=complex)\n",
    "\n",
    "#print the imaginary spatial basis, and test that identity and zero multiply correctly.\n",
    "print(r'$\\sigma_x is $')\n",
    "print(sigx)\n",
    "print(r'$\\sigma_y is $')\n",
    "print(sigy)\n",
    "print(r'$\\sigma_z is $')\n",
    "print(sigz)\n",
    "# print(one)\n",
    "# print(zero)\n",
    "# print((one.dot(sigx)))\n",
    "assert((one.dot(sigx)==sigx).all())\n",
    "assert((zero.dot(sigx)==zero).all())\n",
    "\n",
    "# @njit\n",
    "def vec_to_quaternion(v):\n",
    "    #define the constant pauli matrices as a basis for real space\n",
    "    #     sigx = np.array([[0.,1.],[1.,0.]],dtype=complex)\n",
    "    #     sigy = np.array([[1.j,0.],[0.,-1.j]],dtype=complex)\n",
    "    #     sigz = np.array([[1.,0.],[0.,-1.]],dtype=complex)\n",
    "    return v[0]*sigx + v[1]*sigy + v[2]*sigz"
   ]
  },
  {
   "cell_type": "code",
   "execution_count": 8,
   "metadata": {
    "ExecuteTime": {
     "end_time": "2020-06-28T00:15:55.434743Z",
     "start_time": "2020-06-28T00:15:55.398475Z"
    },
    "hidden": true
   },
   "outputs": [],
   "source": [
    "#test the inverse of the basis elements are minus the basis elements\n",
    "assert((np.linalg.inv(sigx)==-sigx).all())\n",
    "assert((np.linalg.inv(sigy)==-sigy).all())\n",
    "assert((np.linalg.inv(sigz)==-sigz).all())\n",
    "#test the basis elements are anticommuting\n",
    "assert((sigx*sigy-sigy*sigx==zero).all())\n",
    "assert((sigx*sigz-sigz*sigx==zero).all())\n",
    "assert((sigz*sigy-sigy*sigz==zero).all())\n"
   ]
  },
  {
   "cell_type": "code",
   "execution_count": 9,
   "metadata": {
    "ExecuteTime": {
     "end_time": "2020-06-28T00:15:56.484438Z",
     "start_time": "2020-06-28T00:15:56.454360Z"
    },
    "hidden": true
   },
   "outputs": [],
   "source": [
    "trim = mesh.triangles[0]\n",
    "tris = mesh.triangles[100]\n",
    "\n",
    "dm1 = trim[1]-trim[0]\n",
    "dm2 = trim[2]-trim[0]\n",
    "Am =  np.cross(dm1,dm2)/2\n",
    "\n",
    "ds1 = tris[1]-tris[0]\n",
    "ds2 = tris[2]-tris[0]\n",
    "As =  np.cross(ds1,ds2)/2\n",
    "\n",
    "\n",
    "qm1 = dm1[0]*sigx + dm1[1]*sigy + dm1[2]*sigz\n",
    "qm2 = dm2[0]*sigx + dm2[1]*sigy + dm2[2]*sigz\n",
    "qs1 = ds1[0]*sigx + ds1[1]*sigy + ds1[2]*sigz\n",
    "qs2 = ds2[0]*sigx + ds2[1]*sigy + ds2[2]*sigz\n",
    "\n",
    "qAm =  Am[0]*sigx + Am[1]*sigy + Am[2]*sigz\n",
    "qAs =  As[0]*sigx + As[1]*sigy + As[2]*sigz\n",
    "\n",
    "# solve for the deformation gradient between either pair of edges.\n",
    "F1 = qs1.dot(np.linalg.inv(qm1))\n",
    "F2 = qs2.dot(np.linalg.inv(qm2))\n",
    "# FA = qAs.dot(np.linalg.inv(qAm))"
   ]
  },
  {
   "cell_type": "code",
   "execution_count": 10,
   "metadata": {
    "ExecuteTime": {
     "end_time": "2020-06-28T00:15:56.895947Z",
     "start_time": "2020-06-28T00:15:56.862596Z"
    },
    "hidden": true
   },
   "outputs": [],
   "source": [
    "#singular value decomposition on the block diagonal deformations\n",
    "U1, S1, V1 = np.linalg.svd(F1)\n",
    "V1 = V1.T.conjugate()\n",
    "\n",
    "U2, S2, V2 = np.linalg.svd(F2)\n",
    "V2 = V2.T.conjugate()"
   ]
  },
  {
   "cell_type": "code",
   "execution_count": 11,
   "metadata": {
    "ExecuteTime": {
     "end_time": "2020-06-28T00:15:57.315282Z",
     "start_time": "2020-06-28T00:15:57.293236Z"
    },
    "hidden": true
   },
   "outputs": [],
   "source": [
    "#verify svd is returning hermitian factors\n",
    "assert((np.around(U1.dot(U1.T.conjugate()),3)==one).all())\n",
    "assert((np.around(V1.dot(V1.T.conjugate()),3)==one).all())"
   ]
  },
  {
   "cell_type": "code",
   "execution_count": 12,
   "metadata": {
    "ExecuteTime": {
     "end_time": "2020-06-28T00:15:57.713048Z",
     "start_time": "2020-06-28T00:15:57.690500Z"
    },
    "hidden": true
   },
   "outputs": [],
   "source": [
    "Dm = np.array(((qm1,zero),(zero,qm2))).reshape((4,4))\n",
    "Ds = np.array(((qs1,zero),(zero,qs2))).reshape((4,4))"
   ]
  },
  {
   "cell_type": "code",
   "execution_count": 13,
   "metadata": {
    "ExecuteTime": {
     "end_time": "2020-06-28T00:15:58.122494Z",
     "start_time": "2020-06-28T00:15:58.098964Z"
    },
    "hidden": true
   },
   "outputs": [
    {
     "data": {
      "text/plain": [
       "array([[ 0.00000000e+00-0.0020773j , -2.64751533e-01-0.23108376j],\n",
       "       [ 2.64751533e-01-0.23108376j, -6.93889390e-18+0.0020773j ]])"
      ]
     },
     "execution_count": 13,
     "metadata": {},
     "output_type": "execute_result"
    }
   ],
   "source": [
    "#TODO: test if rotating by F maps dm to ds\n",
    "F1.dot(qm1).dot(F1.conjugate().T)"
   ]
  },
  {
   "cell_type": "code",
   "execution_count": 14,
   "metadata": {
    "ExecuteTime": {
     "end_time": "2020-06-28T00:15:58.622193Z",
     "start_time": "2020-06-28T00:15:58.591588Z"
    },
    "hidden": true
   },
   "outputs": [
    {
     "data": {
      "text/plain": [
       "(array([[-8.89379716e-14+8.48789279e-01j,  1.11022302e-16+5.28731274e-01j,\n",
       "         -2.64271567e-17-3.88827512e-17j, -2.62956193e-33+3.33435694e-32j],\n",
       "        [-1.11022302e-16-7.60839488e-17j,  2.16840434e-19+1.79906187e-19j,\n",
       "         -8.74768222e-01-4.84541596e-01j,  6.23283209e-17+9.18756336e-17j],\n",
       "        [ 0.00000000e+00+0.00000000e+00j,  0.00000000e+00+0.00000000e+00j,\n",
       "         -2.22044605e-16-1.62091656e-17j, -9.97589537e-01-6.93910349e-02j],\n",
       "        [-5.58442181e-14+5.28731274e-01j,  1.37368415e-16-8.48789279e-01j,\n",
       "         -1.65169697e-17-2.44628975e-17j, -1.64347588e-33+2.08773777e-32j]]),\n",
       " array([3.77416525e-01, 3.00009770e-01, 1.64880887e-18, 5.41184667e-36]),\n",
       " array([[ 5.84178464e-04+0.00000000e+00j,  5.38170272e-01+4.58663730e-01j,\n",
       "          5.38170272e-01-4.58663730e-01j, -5.84178464e-04-5.55111512e-17j],\n",
       "        [ 4.91868520e-01+0.00000000e+00j,  3.29205021e-01-3.86897161e-01j,\n",
       "          3.29205021e-01+3.86897161e-01j, -4.91868520e-01-2.40692882e-17j],\n",
       "        [ 1.22328663e-02+0.00000000e+00j, -1.43782735e-01-3.70584414e-01j,\n",
       "          3.88547647e-01-8.38868812e-02j,  4.01565161e-01-7.22899172e-01j],\n",
       "        [-8.70583353e-01+0.00000000e+00j,  1.84337431e-01-2.23491411e-01j,\n",
       "          1.91817389e-01+2.17105479e-01j, -2.72257319e-01-1.01577051e-02j]]))"
      ]
     },
     "execution_count": 14,
     "metadata": {},
     "output_type": "execute_result"
    }
   ],
   "source": [
    "np.linalg.svd(Dm)"
   ]
  },
  {
   "cell_type": "code",
   "execution_count": 15,
   "metadata": {
    "ExecuteTime": {
     "end_time": "2020-06-28T00:15:59.015413Z",
     "start_time": "2020-06-28T00:15:58.995751Z"
    },
    "hidden": true
   },
   "outputs": [],
   "source": [
    "#TODO: visualize F1 and F2 and see if they make sense."
   ]
  },
  {
   "cell_type": "markdown",
   "metadata": {
    "ExecuteTime": {
     "end_time": "2020-06-27T16:08:32.708838Z",
     "start_time": "2020-06-27T16:08:32.695053Z"
    },
    "hidden": true
   },
   "source": [
    "TODO: matrix to quaternion"
   ]
  },
  {
   "cell_type": "markdown",
   "metadata": {
    "ExecuteTime": {
     "end_time": "2020-06-27T16:08:41.197503Z",
     "start_time": "2020-06-27T16:08:41.184811Z"
    },
    "hidden": true
   },
   "source": [
    "TODO: quaternion to matrix"
   ]
  },
  {
   "cell_type": "code",
   "execution_count": 16,
   "metadata": {
    "ExecuteTime": {
     "end_time": "2020-06-28T00:16:00.158951Z",
     "start_time": "2020-06-28T00:16:00.130828Z"
    },
    "hidden": true
   },
   "outputs": [
    {
     "data": {
      "text/plain": [
       "array([[ 0.-0.j, -1.-0.j],\n",
       "       [ 1.+0.j,  0.-0.j]])"
      ]
     },
     "execution_count": 16,
     "metadata": {},
     "output_type": "execute_result"
    }
   ],
   "source": [
    "sigy.T.conjugate()"
   ]
  },
  {
   "cell_type": "code",
   "execution_count": 17,
   "metadata": {
    "ExecuteTime": {
     "end_time": "2020-06-28T00:16:00.578997Z",
     "start_time": "2020-06-28T00:16:00.558126Z"
    },
    "hidden": true
   },
   "outputs": [
    {
     "data": {
      "text/plain": [
       "array([[ 0.+0.j,  1.-0.j],\n",
       "       [-1.+0.j,  0.+0.j]])"
      ]
     },
     "execution_count": 17,
     "metadata": {},
     "output_type": "execute_result"
    }
   ],
   "source": [
    "sigy"
   ]
  },
  {
   "cell_type": "code",
   "execution_count": null,
   "metadata": {
    "hidden": true
   },
   "outputs": [],
   "source": []
  },
  {
   "cell_type": "markdown",
   "metadata": {
    "heading_collapsed": true,
    "hidden": true
   },
   "source": [
    "### [deprecated, use real space] Handling Stress with quaternions only with nearly conformal mappings"
   ]
  },
  {
   "cell_type": "markdown",
   "metadata": {
    "hidden": true
   },
   "source": [
    "Two deformations are conformal if their differentials are related by a rotation and a scaling.\n",
    "\n",
    "$$d\\tilde f = e^uRdf$$\n",
    "\n",
    "Rotations represented in $\\mathbb{R}^3$ require quadratic constraints which produce shear stress, which causes angles change under deformation.  The action of a quaternion on a vector can be written in terms of a rotation and a scale.\n",
    "\n",
    "The shape of a triangle, which has six degrees of freedom in $\\mathbb{R}^3$ cannot be represented by a single quaternion, which has only four degrees of freedom.  It is therefore necessary to represent the shape of a triangle with at least two quaternions, and it is sufficient to constrain those quaternions to be imaginary, since Im$\\,\\mathbb{H}\\simeq\\mathbb{R}^3$."
   ]
  },
  {
   "cell_type": "markdown",
   "metadata": {},
   "source": [
    "# DONE: test based development of geom_func.py"
   ]
  },
  {
   "cell_type": "markdown",
   "metadata": {
    "heading_collapsed": true
   },
   "source": [
    "## DONE: test based development of rotating two triangles to be coplanar"
   ]
  },
  {
   "cell_type": "code",
   "execution_count": 8,
   "metadata": {
    "ExecuteTime": {
     "end_time": "2020-06-28T22:24:13.355926Z",
     "start_time": "2020-06-28T22:24:13.331245Z"
    },
    "hidden": true
   },
   "outputs": [],
   "source": [
    "# tris = mesh.triangles[110]\n",
    "tris = mesh.triangles[243]\n",
    "trim = mesh.triangles[321]"
   ]
  },
  {
   "cell_type": "code",
   "execution_count": 330,
   "metadata": {
    "ExecuteTime": {
     "end_time": "2020-06-28T02:33:02.522164Z",
     "start_time": "2020-06-28T02:33:02.488451Z"
    },
    "hidden": true
   },
   "outputs": [],
   "source": [
    "# #DONE: copy the 'rotate into same plane solution' to a .py file\n",
    "# #DONE: rotate two triangles into the same plane with get_R\n",
    "# testing=True\n",
    "# def get_R(trim,tris,testing=True):\n",
    "#     '''trim is a triangle in material/reference space that is \n",
    "#     deformed to tris, which is a triangle in real space.  \n",
    "#     returns the 3x3 rotation matrix aligning both their area normals and their first shape vector.\n",
    "#     get_R assumes the deformation is continuous and did not invert the triangle being deformed.'''\n",
    "#     dm1 = trim[1]-trim[0]     #precompute in final algorithm\n",
    "#     dm2 = trim[2]-trim[0]     #precompute in final algorithm\n",
    "#     Am =  np.cross(dm1,dm2)/2 #precompute in final algorithm\n",
    "\n",
    "#     ds1 = tris[1]-tris[0]\n",
    "#     ds2 = tris[2]-tris[0]\n",
    "#     As =  np.cross(ds1,ds2)/2\n",
    "\n",
    "#     #Ra is a rotation_matrix that rotation_matrix rotates Ashat onto Amhat\n",
    "#     Ashat = As/np.linalg.norm(As)\n",
    "#     Amhat = Am/np.linalg.norm(Am)\n",
    "#     v2 = Ashat\n",
    "#     v1 = Amhat\n",
    "#     axisa  = np.cross(v1,v2)\n",
    "#     thetaa = np.arcsin(np.linalg.norm(axisa))\n",
    "#     Ra = rotation_matrix(axisa, thetaa)\n",
    "#     if not np.isclose(np.abs(np.dot(np.dot(Ra, Amhat),Ashat)),1.).all(): #doesn't care if area's end up flipped\n",
    "#         Ra = Ra.T\n",
    "#     if testing:\n",
    "#         assert(np.isclose(np.abs(np.dot(np.dot(Ra, Amhat),Ashat)),1.).all())\n",
    "\n",
    "#     #Rb is a rotation_matrix that rotates the Ra*dm1 onto ds1 without unaligning the area vectors\n",
    "#     v1 = np.dot(Ra,dm1/np.linalg.norm(dm1))\n",
    "#     v2 = ds1/np.linalg.norm(ds1)\n",
    "#     axisb  = Ashat\n",
    "#     thetab = np.arccos(np.dot(v1,v2))\n",
    "#     Rb = rotation_matrix(axisb, thetab).T\n",
    "\n",
    "\n",
    "#     if not np.isclose(np.dot(Rb, v1),v2).all():\n",
    "#         Rb = Rb.T\n",
    "\n",
    "#     if testing:\n",
    "#         # test that Rb keeps the area vectors aligned\n",
    "#         assert(np.isclose(np.dot(Rb, v1),v2).all())\n",
    "#         assert(np.isclose(np.abs(np.dot(np.dot(Ra, Amhat),Ashat)),1.).all())\n",
    "\n",
    "#     R = Rb.dot(Ra)\n",
    "#     if testing:\n",
    "#         # test that R = Rb.dot(Ra).T rotates Amhat onto Ashat\n",
    "#         assert(np.isclose(np.abs(np.dot(R.dot(Amhat),Ashat)),1.).all())\n",
    "#         # test that R = (Rb*Ra).T rotates dm1 onto ds1\n",
    "#         assert(np.isclose(R.dot(dm1/np.linalg.norm(dm1)),ds1/np.linalg.norm(ds1)).all())\n",
    "#     return R"
   ]
  },
  {
   "cell_type": "code",
   "execution_count": 9,
   "metadata": {
    "ExecuteTime": {
     "end_time": "2020-06-28T22:24:58.374964Z",
     "start_time": "2020-06-28T22:24:58.346837Z"
    },
    "hidden": true
   },
   "outputs": [],
   "source": [
    "# # np.abs(np.dot(\n",
    "# print(R.dot(Amhat))\n",
    "# print(Ashat)\n",
    "\n",
    "# print(R.dot(dm1/np.linalg.norm(dm1)))\n",
    "# print(ds1/np.linalg.norm(ds1))"
   ]
  },
  {
   "cell_type": "markdown",
   "metadata": {
    "heading_collapsed": true,
    "hidden": true
   },
   "source": [
    "### test based development of aligning two triangles"
   ]
  },
  {
   "cell_type": "code",
   "execution_count": 386,
   "metadata": {
    "ExecuteTime": {
     "end_time": "2020-06-28T02:46:12.840556Z",
     "start_time": "2020-06-28T02:46:12.810499Z"
    },
    "hidden": true
   },
   "outputs": [],
   "source": [
    "# def align_triangles(trim,tris, testing=True):\n",
    "#     '''return parameters for aligning trim to tris.  \n",
    "#     coplanar positions are returned for trim before any shear deformation, \n",
    "#     but contracting the first edges to match.'''\n",
    "#     dm1 = trim[1] - trim[0]  #precompute in final algorithm\n",
    "#     dm2 = trim[2] - trim[0]  #precompute in final algorithm\n",
    "#     Am = np.cross(dm1, dm2) / 2  #precompute in final algorithm\n",
    "\n",
    "#     ds1 = tris[1] - tris[0]\n",
    "#     ds2 = tris[2] - tris[0]\n",
    "#     As = np.cross(ds1, ds2) / 2\n",
    "\n",
    "#     #Ra is a rotation_matrix that rotation_matrix rotates Ashat onto Amhat\n",
    "#     Ashat = As / np.linalg.norm(As)\n",
    "#     Amhat = Am / np.linalg.norm(Am)\n",
    "\n",
    "#     R = get_R(trim, tris, testing=testing)\n",
    "#     if testing:\n",
    "#         assert (np.isclose(np.linalg.norm(R.dot(dm1)) / np.linalg.norm(dm1), 1.))\n",
    "\n",
    "#     #test that the local \"x\" axis is aligned by R\n",
    "#     xhat = ds1 / np.linalg.norm(ds1)\n",
    "\n",
    "#     #yhat is not needed for energy calculation, but is needed for deformation gradient calculation via outer product\n",
    "#     yhat = np.cross(As, xhat)\n",
    "#     yhat /= np.linalg.norm(yhat)\n",
    "\n",
    "#     #scale so \"the first\" edge matches between the two triangles\n",
    "#     xi1 = np.linalg.norm(ds1) / np.linalg.norm(dm1)\n",
    "    \n",
    "#     if testing:\n",
    "#         # Test that the first vectors match.\n",
    "#         assert (np.isclose(xhat, R.dot(dm1) / np.linalg.norm(dm1)).all())\n",
    "#         assert (np.isclose(np.linalg.norm(xi1 * R.dot(dm1)), np.linalg.norm(ds1)))\n",
    "\n",
    "#     # project all  edges onto the first vector and the second vector\n",
    "#     xs1 = xhat.dot(ds1)  # full length\n",
    "#     ys1 = yhat.dot(ds1)  # zero\n",
    "#     xs2 = xhat.dot(ds2)\n",
    "#     ys2 = yhat.dot(ds2)\n",
    "\n",
    "#     # for each second vector, compute the orthogonal component\n",
    "#     xm1 = xhat.dot(xi1 * R.dot(dm1))\n",
    "#     ym1 = yhat.dot(xi1 * R.dot(dm1))\n",
    "#     xm2 = xhat.dot(xi1 * R.dot(dm2))\n",
    "#     ym2 = yhat.dot(xi1 * R.dot(dm2))\n",
    "\n",
    "#     if testing:\n",
    "#         # test that nothing's left out of plane using the pythagorean theorem\n",
    "#         assert (np.isclose(np.sqrt(xm1**2 + ym1**2), np.linalg.norm(xi1 * dm1)))\n",
    "#         assert (np.isclose(np.sqrt(xm2**2 + ym2**2), np.linalg.norm(xi1 * dm2)))\n",
    "#         assert (np.isclose(np.sqrt(xs1**2 + ys1**2), np.linalg.norm(ds1)))\n",
    "#         assert (np.isclose(np.sqrt(xs2**2 + ys2**2), np.linalg.norm(ds2)))\n",
    "\n",
    "#     # scale the triangle heights to match\n",
    "#     xi2 = ys2 / ym2\n",
    "\n",
    "#     #use a shear deformation from the heisenburg group to make the triangles match\n",
    "#     s = (xs2 - xm2) / ys2\n",
    "\n",
    "\n",
    "\n",
    "#     return xm2, xm1, ym2, ym1, xs2, xs1, ys2, ys1, xhat, yhat, xi1, xi2, s\n"
   ]
  },
  {
   "cell_type": "markdown",
   "metadata": {},
   "source": [
    "## DONE: test based development of deforming one triangle onto any coplanar triangle"
   ]
  },
  {
   "cell_type": "code",
   "execution_count": 10,
   "metadata": {
    "ExecuteTime": {
     "end_time": "2020-06-28T22:25:44.111761Z",
     "start_time": "2020-06-28T22:25:44.087228Z"
    }
   },
   "outputs": [],
   "source": [
    "tris = mesh.triangles[137]\n",
    "trim = mesh.triangles[153]\n",
    "xm2, xm1, ym2, ym1, xs2, xs1, ys2, ys1, xhat, yhat, xi1, xi2, s = align_triangles(trim,tris)"
   ]
  },
  {
   "cell_type": "code",
   "execution_count": 410,
   "metadata": {
    "ExecuteTime": {
     "end_time": "2020-06-28T22:04:13.078488Z",
     "start_time": "2020-06-28T22:04:12.892575Z"
    }
   },
   "outputs": [
    {
     "data": {
      "image/png": "[encoded data removed]",
      "text/plain": [
       "<Figure size 432x288 with 1 Axes>"
      ]
     },
     "metadata": {
      "needs_background": "light"
     },
     "output_type": "display_data"
    }
   ],
   "source": [
    "xm_values = [0., xm2, xm1, 0.]\n",
    "ym_values = [0., ym2, ym1, 0.]\n",
    "xs_values = [0., xs2, xs1, 0.]\n",
    "ys_values = [0., ys2, ys1, 0.]\n",
    "\n",
    "# with 2D projections in hand, plot some vectors on top of eachother in two different colors.\n",
    "plt.plot(xs_values, ys_values, 'k')\n",
    "plt.plot(xm_values, ym_values, 'b')\n",
    "plt.show()"
   ]
  },
  {
   "cell_type": "code",
   "execution_count": 411,
   "metadata": {
    "ExecuteTime": {
     "end_time": "2020-06-28T22:04:13.733899Z",
     "start_time": "2020-06-28T22:04:13.538228Z"
    }
   },
   "outputs": [
    {
     "data": {
      "image/png": "[encoded data removed]",
      "text/plain": [
       "<Figure size 432x288 with 1 Axes>"
      ]
     },
     "metadata": {
      "needs_background": "light"
     },
     "output_type": "display_data"
    }
   ],
   "source": [
    "#TODO: test ^this by ploting a number of triangles.  do they consistently match?\n",
    "xm_values = [0., xm2 + xi2*s*ym2, xm1, 0.]\n",
    "ym_values = [0., xi2*ym2, ym1, 0.]\n",
    "xs_values = [0., xs2, xs1, 0.]\n",
    "ys_values = [0., ys2, ys1, 0.]\n",
    "plt.plot(xs_values, ys_values, 'k')\n",
    "plt.plot(xm_values, ym_values, 'b')\n",
    "plt.show()"
   ]
  },
  {
   "cell_type": "code",
   "execution_count": 180,
   "metadata": {
    "ExecuteTime": {
     "end_time": "2020-06-28T23:36:36.808570Z",
     "start_time": "2020-06-28T23:36:36.785095Z"
    }
   },
   "outputs": [],
   "source": [
    "# # compute the 3D strain gradient\n",
    "# def make_S_3by3(xi1, xi2, s, xhat, yhat):\n",
    "#     '''returns the strain gradient in the global basis of the dynamical space.\n",
    "#     s = ( xs2 - xm1 ) / ys2\n",
    "#     xi2 = ys2 / ym2\n",
    "#     xi1 = norm(ds1)/norm(dm1)\n",
    "#     xm, ym have been rotated and scaled to be coplanar with ds1 and ds2.  '''\n",
    "#     projx = np.outer(xhat,xhat)\n",
    "#     projy = np.outer(yhat,yhat)\n",
    "#     projy_to_x = np.outer(xhat,yhat)    \n",
    "#     S = np.eye(3) + (xi2-1) * projy + xi2*s * projy_to_x \n",
    "#     S *= xi1\n",
    "#     return S\n",
    "\n",
    "# # compute the 2D strain gradient\n",
    "# def make_S_2by2(xi1, xi2, s):\n",
    "#     '''returns the strain gradient in the local basis of the dynamical space.\n",
    "#     s = ( xs2 - xm2 ) / ys2\n",
    "#     xi2 = ys2 / ym2\n",
    "#     xi1 = norm(ds1)/norm(dm1)\n",
    "#     xm, ym have been rotated and scaled to be coplanar with ds1 and ds2.  '''\n",
    "#     return xi1 * np.array([[1., s*xi2],[0., xi2]])"
   ]
  },
  {
   "cell_type": "code",
   "execution_count": 214,
   "metadata": {
    "ExecuteTime": {
     "end_time": "2020-06-28T23:55:41.312672Z",
     "start_time": "2020-06-28T23:55:41.285144Z"
    }
   },
   "outputs": [],
   "source": [
    "tris = mesh.triangles[137]\n",
    "trim = mesh.triangles[153]\n",
    "\n",
    "xm2, xm1, ym2, ym1, xs2, xs1, ys2, ys1, xhat, yhat, xi1, xi2, s = align_triangles(trim,tris)"
   ]
  },
  {
   "cell_type": "code",
   "execution_count": null,
   "metadata": {
    "ExecuteTime": {
     "end_time": "2020-06-28T23:36:38.296288Z",
     "start_time": "2020-06-28T23:36:38.277328Z"
    }
   },
   "outputs": [],
   "source": []
  },
  {
   "cell_type": "code",
   "execution_count": null,
   "metadata": {
    "ExecuteTime": {
     "end_time": "2020-06-28T23:36:38.893078Z",
     "start_time": "2020-06-28T23:36:38.871909Z"
    }
   },
   "outputs": [],
   "source": []
  },
  {
   "cell_type": "code",
   "execution_count": null,
   "metadata": {
    "ExecuteTime": {
     "end_time": "2020-06-28T23:36:39.316926Z",
     "start_time": "2020-06-28T23:36:39.294867Z"
    }
   },
   "outputs": [],
   "source": []
  },
  {
   "cell_type": "code",
   "execution_count": 185,
   "metadata": {
    "ExecuteTime": {
     "end_time": "2020-06-28T23:36:40.061449Z",
     "start_time": "2020-06-28T23:36:39.873173Z"
    }
   },
   "outputs": [
    {
     "data": {
      "image/png": "[encoded data removed]",
      "text/plain": [
       "<Figure size 432x288 with 1 Axes>"
      ]
     },
     "metadata": {
      "needs_background": "light"
     },
     "output_type": "display_data"
    }
   ],
   "source": [
    "#TODO: test ^this by ploting a number of triangles.  do they consistently match?\n",
    "xm_values = [0., xm2 + xi2*s*ym2, xm1, 0.]\n",
    "ym_values = [0., xi2*ym2, ym1, 0.]\n",
    "xs_values = [0., xs2, xs1, 0.]\n",
    "ys_values = [0., ys2, ys1, 0.]\n",
    "plt.plot(xs_values, ys_values, 'k')\n",
    "plt.plot(xm_values, ym_values, 'b')\n",
    "plt.show()"
   ]
  },
  {
   "cell_type": "markdown",
   "metadata": {},
   "source": [
    "## DONE: testing the explicit deformation map\n",
    "\n",
    "$$x= \\phi(X)= FX + b$$\n",
    "$$F = S R$$\n",
    "$$b = tris[0] - trim[0]$$"
   ]
  },
  {
   "cell_type": "code",
   "execution_count": 223,
   "metadata": {
    "ExecuteTime": {
     "end_time": "2020-06-29T02:16:04.478793Z",
     "start_time": "2020-06-29T02:16:04.449396Z"
    }
   },
   "outputs": [],
   "source": [
    "# # collect the operations into polar decomposition of deformation gradient matrix.\n",
    "# def get_SR(trim,tris, printing=True, testing=False):\n",
    "#     R = get_R(trim,tris,testing=testing)\n",
    "#     retval = align_triangles(trim,tris, testing=testing)\n",
    "#     #TODO: make retval more compact\n",
    "#     xm2, xm1, ym2, ym1, xs2, xs1, ys2, ys1, xhat, yhat, xi1, xi2, s = retval\n",
    "#     S = make_S_3by3(xi1, xi2, s, xhat, yhat)\n",
    "#     if (xi2<0) and printing:\n",
    "#         print('xi2 is negative.')\n",
    "#     if (ym2<0) and printing:\n",
    "#         print('ym2 is negative.')\n",
    "#     return S, R    \n",
    "      \n",
    "# def get_F(trim,tris, printing=True, testing=False):\n",
    "#     S, R = get_SR(trim,tris, printing=printing, testing=testing)\n",
    "#     F = S.dot(R)\n",
    "#     return F\n"
   ]
  },
  {
   "cell_type": "code",
   "execution_count": 206,
   "metadata": {
    "ExecuteTime": {
     "end_time": "2020-06-28T23:43:17.651514Z",
     "start_time": "2020-06-28T23:43:17.624569Z"
    }
   },
   "outputs": [],
   "source": [
    "# # the explicit deformation map\n",
    "# def phi(F,X,b):\n",
    "#     return F.dot(X)  + b\n",
    "# def get_phi(trim,tris):\n",
    "#     F = get_F(trim,tris)\n",
    "#     b = tris[0] - F.dot(trim[0])\n",
    "#     return lambda X: phi(F,X,b)"
   ]
  },
  {
   "cell_type": "code",
   "execution_count": 224,
   "metadata": {
    "ExecuteTime": {
     "end_time": "2020-06-29T02:16:55.441729Z",
     "start_time": "2020-06-29T02:16:55.399696Z"
    }
   },
   "outputs": [
    {
     "name": "stdout",
     "output_type": "stream",
     "text": [
      "tris is\n",
      "[[ 0.43875389 -0.77115173  0.48489936]\n",
      " [ 0.57195572 -0.75999632  0.28155448]\n",
      " [ 0.67368345 -0.62344912  0.4066898 ]]\n",
      "trim is mapped to\n",
      "[[ 0.43875389 -0.77115173  0.48489936]\n",
      " [ 0.57195572 -0.75999632  0.28155448]\n",
      " [ 0.67368345 -0.62344912  0.4066898 ]]\n",
      "difference after mapping is\n",
      "[[0.00000000e+00 0.00000000e+00 0.00000000e+00]\n",
      " [0.00000000e+00 0.00000000e+00 5.55111512e-17]\n",
      " [0.00000000e+00 1.11022302e-16 0.00000000e+00]]\n"
     ]
    }
   ],
   "source": [
    "# test the explicit deformation map for a number of triangles\n",
    "tris = mesh.triangles[71]\n",
    "trim = mesh.triangles[30]\n",
    "mtos = get_phi(trim,tris)\n",
    "trim_mapped = np.array([mtos(trim[0]),mtos(trim[1]),mtos(trim[2])])\n",
    "print('tris is')\n",
    "print(tris)\n",
    "print('trim is mapped to')\n",
    "print(trim_mapped)\n",
    "print('difference after mapping is')\n",
    "print(tris - trim_mapped)\n",
    "assert(np.isclose(tris - trim_mapped,0.).all())\n",
    "# print(phi(F,trim[0],b))\n",
    "# print(phi(F,trim[1],b))\n",
    "# print(phi(F,trim[2],b))"
   ]
  },
  {
   "cell_type": "code",
   "execution_count": 212,
   "metadata": {
    "ExecuteTime": {
     "end_time": "2020-06-28T23:52:03.858518Z",
     "start_time": "2020-06-28T23:52:03.829666Z"
    }
   },
   "outputs": [],
   "source": []
  },
  {
   "cell_type": "markdown",
   "metadata": {
    "heading_collapsed": true
   },
   "source": [
    "# DONE: compute the piola-kirchoff stress tensor for the corotated linear elastic constitutive relation.  Then compute the nodal forces for a triangle stretched by a known amount.\n"
   ]
  },
  {
   "cell_type": "markdown",
   "metadata": {
    "ExecuteTime": {
     "end_time": "2020-06-29T00:02:12.286039Z",
     "start_time": "2020-06-29T00:02:12.251847Z"
    },
    "hidden": true
   },
   "source": [
    "The explicit deformation map is\n",
    "\n",
    "$$\\vec{x}= \\vec{\\phi}(\\vec{X}; \\vec{x})= \\mathbf{F}(\\vec{X}; \\vec{x})\\cdot \\vec{X} + \\vec{b}(\\vec{X}; \\vec{x})$$\n",
    "\n",
    "where\n",
    "\n",
    "$$\\mathbf{F}(\\vec{X}; \\vec{x}) = \\mathbf{S}\\cdot\\mathbf{R}$$ \n",
    "and \n",
    "$$\\vec{b}(\\vec{X}; \\vec{x}) = tris[0] - \\mathbf{F}(\\vec{X}; \\vec{x}) \\cdot trim[0].$$\n",
    "\n",
    "$S$ this is all that's needed to compute the elastic force for a given constitutive relation that's homogeneous and isotropic.  We suppose rotational invariance in the following elastic energy density:\n",
    "\n",
    "$$\n",
    "\\Psi(F=SR) = \\mu||S-\\mathbb{1}||^2 + \\frac{\\lambda}{2}\\text{tr}^2(S-\\mathbb{1})\n",
    "$$\n",
    "\n",
    "Where $\\mu$ and $\\lambda$ are the first and second Lamé parameters, measuring resistance to stretching/shearing and volume change, respectively.\n",
    "\n",
    "It can be shown this results in the following first Piola-Kirchoff stress tensor:\n",
    "\n",
    "$$\n",
    "\\mathbf{P}(\\mathbf{F})= 2\\mu(\\mathbf{S}-\\mathbb{1})\\mathbf{R} + \\lambda \\text{tr}(\\mathbf{S}-\\mathbb{1})\\mathbf{R}\n",
    "$$\n",
    "\n",
    "There is the following conversion from Young's modulus, $k$, and Poisson's ratio, $\\nu$:\n",
    "\n",
    "$$\n",
    "\\mu = \\frac{k}{2(1+\\nu)},\\qquad \\lambda=\\frac{k\\nu}{(1+\\nu)(1-2\\nu)}\n",
    "$$\n"
   ]
  },
  {
   "cell_type": "code",
   "execution_count": 417,
   "metadata": {
    "ExecuteTime": {
     "end_time": "2020-06-29T04:16:38.439224Z",
     "start_time": "2020-06-29T04:16:38.412145Z"
    },
    "hidden": true
   },
   "outputs": [],
   "source": [
    "def calc_P(S, R, mu, lam, one):\n",
    "    '''corotated linear constitutive model'''\n",
    "    P    = 2*mu*(S - one).dot(R) + lam*np.trace(S - 1) * R\n",
    "    return P\n",
    "\n",
    "def calc_outward_normals(trim):\n",
    "    '''\n",
    "    returns the outward unit normal vectors for the triangle, trim.\n",
    "    trim is a 3x3 numpy array.\n",
    "    '''\n",
    "    #compute local unit vectors of triangle's shape and center of mass (com)\n",
    "    d1, d2, A = get_shape(trim)\n",
    "    c   = trim[2] - trim[1]\n",
    "    c  /= np.linalg.norm(c)\n",
    "    d1 /= np.linalg.norm(d1)\n",
    "    d2 /= np.linalg.norm(d2)\n",
    "    A  /= np.linalg.norm(A)\n",
    "    com     = (trim[0]+trim[1]+trim[2])/3\n",
    "\n",
    "    #precompute the outward normals in material space\n",
    "    #and test that the outward normals are indeed outward\n",
    "    N1 = np.cross(d1,A)\n",
    "    N1tilde = (trim[0]+trim[1])/2 - com\n",
    "    if N1.dot(N1tilde)<0:\n",
    "        N1 *= -1\n",
    "        print(\"N1 was flipped.\")\n",
    "    N2 = np.cross(-d2,A)\n",
    "    N2tilde = (trim[0]+trim[2])/2 - com\n",
    "    if N2.dot(N2tilde)<0:\n",
    "        N2 *= -1\n",
    "        print(\"N2 was flipped.\")\n",
    "    N3 = np.cross(c,A)\n",
    "    N3tilde = (trim[2]+trim[1])/2 - com\n",
    "    if N3.dot(N3tilde)<0:\n",
    "        N3 *= -1\n",
    "        print(\"N3 was flipped.\")\n",
    "    return N1,N2,N3"
   ]
  },
  {
   "cell_type": "code",
   "execution_count": 418,
   "metadata": {
    "ExecuteTime": {
     "end_time": "2020-06-29T04:16:38.933674Z",
     "start_time": "2020-06-29T04:16:38.913631Z"
    },
    "hidden": true
   },
   "outputs": [],
   "source": [
    "trim = mesh.triangles[153]\n",
    "\n",
    "#dilate trim to make a tris with a predicted form\n",
    "sscale = 2.\n",
    "tris = trim*sscale\n",
    "\n",
    "# tris = mesh.triangles[71]\n",
    "# d1, d2, A = get_shape(trim)\n",
    "# com     = (trim[0]+trim[1]+trim[2])/3\n",
    "# (trim[0]-com)\n",
    "# np.array([\n",
    "#     trim[0] + d1\n",
    "#     trim[0] + d2,\n",
    "#     ,\n",
    "# ])"
   ]
  },
  {
   "cell_type": "code",
   "execution_count": 419,
   "metadata": {
    "ExecuteTime": {
     "end_time": "2020-06-29T04:16:39.415945Z",
     "start_time": "2020-06-29T04:16:39.392507Z"
    },
    "hidden": true
   },
   "outputs": [],
   "source": [
    "#compute P, first Piola-Kirchoff stress tensor\n",
    "mu  = 1. #first  lame parameter, kPa\n",
    "lam = 1. #second lame parameter, kPa\n",
    "delta = .01 #small thickness of membrane\n",
    "one = np.eye(3)\n",
    "S, R = get_SR(trim,tris)\n",
    "P = calc_P(S, R, mu, lam, one)\n",
    "N1,N2,N3 = calc_outward_normals(trim)\n",
    "\n",
    "# print(R)"
   ]
  },
  {
   "cell_type": "code",
   "execution_count": 421,
   "metadata": {
    "ExecuteTime": {
     "end_time": "2020-06-29T04:16:43.498014Z",
     "start_time": "2020-06-29T04:16:43.477895Z"
    },
    "hidden": true
   },
   "outputs": [],
   "source": [
    "# # q = np.array([ 0.80631039, -0.0700592 ,  0.58732893]), array([ 0.80631039, -0.0700592 ,  0.58732893])\n",
    "# w = np.array([ 0.80631039, -0.0700592 ,  0.58732893])\n",
    "# w.dot(w)"
   ]
  },
  {
   "cell_type": "code",
   "execution_count": 422,
   "metadata": {
    "ExecuteTime": {
     "end_time": "2020-06-29T04:16:44.100865Z",
     "start_time": "2020-06-29T04:16:44.078366Z"
    },
    "hidden": true
   },
   "outputs": [],
   "source": [
    "#compute the net force on each side of tris\n",
    "D1 = np.linalg.norm(tris[1]-tris[0])\n",
    "D2 = np.linalg.norm(tris[2]-tris[0])\n",
    "C  = np.linalg.norm(tris[2]-tris[1])\n",
    "F1 = - delta * P.dot(N1) * D1\n",
    "F2 = - delta * P.dot(N2) * D2\n",
    "F3 = - delta * P.dot(N3) * C"
   ]
  },
  {
   "cell_type": "code",
   "execution_count": 423,
   "metadata": {
    "ExecuteTime": {
     "end_time": "2020-06-29T04:16:44.847097Z",
     "start_time": "2020-06-29T04:16:44.826155Z"
    },
    "hidden": true
   },
   "outputs": [],
   "source": [
    "#compute the equivalent nodal forces on each vertex of tris\n",
    "nf0 = (F1 + F2)/2. \n",
    "nf1 = (F1 + F3)/2.\n",
    "nf2 = (F3 + F2)/2."
   ]
  },
  {
   "cell_type": "code",
   "execution_count": 424,
   "metadata": {
    "ExecuteTime": {
     "end_time": "2020-06-29T04:16:45.324890Z",
     "start_time": "2020-06-29T04:16:45.301017Z"
    },
    "hidden": true
   },
   "outputs": [],
   "source": [
    "#compute the deformed triangle\n",
    "ds1, ds2, As = get_shape(tris)\n",
    "dm1, dm2, Am = get_shape(trim)\n",
    "\n",
    "#test that the local \"x\" axis is aligned by R\n",
    "xhat = ds1 / np.linalg.norm(ds1)\n",
    "\n",
    "#yhat is not needed for energy calculation, but is needed for deformation gradient calculation via outer product\n",
    "yhat = np.cross(As, xhat)\n",
    "yhat /= np.linalg.norm(yhat)\n",
    "\n",
    "xs1 = xhat.dot(ds1)  # full length\n",
    "ys1 = yhat.dot(ds1)  # zero\n",
    "xs2 = xhat.dot(ds2)\n",
    "ys2 = yhat.dot(ds2)\n",
    "\n",
    "xm1 = xhat.dot(R.dot(dm1))  # full length\n",
    "ym1 = yhat.dot(R.dot(dm1))  # zero\n",
    "xm2 = xhat.dot(R.dot(dm2))\n",
    "ym2 = yhat.dot(R.dot(dm2))\n",
    "\n",
    "xshift = (xs2+xs1)/6\n",
    "yshift = (ys2+ys1)/6\n",
    "xs_values = [0., xs2, xs1, 0.]\n",
    "ys_values = [0., ys2, ys1, 0.]\n",
    "xm_values = np.array([0., xm2, xm1, 0.]) + xshift\n",
    "ym_values = np.array([0., ym2, ym1, 0.]) + yshift"
   ]
  },
  {
   "cell_type": "code",
   "execution_count": 434,
   "metadata": {
    "ExecuteTime": {
     "end_time": "2020-06-29T04:19:15.309117Z",
     "start_time": "2020-06-29T04:19:14.643619Z"
    },
    "hidden": true
   },
   "outputs": [
    {
     "data": {
      "image/png": "[encoded data removed]",
      "text/plain": [
       "<Figure size 432x288 with 1 Axes>"
      ]
     },
     "metadata": {
      "needs_background": "light"
     },
     "output_type": "display_data"
    },
    {
     "data": {
      "text/plain": [
       "<Figure size 432x288 with 0 Axes>"
      ]
     },
     "metadata": {},
     "output_type": "display_data"
    }
   ],
   "source": [
    "#plot up those nodal force examples.  Are they sensible?\n",
    "scale_arrows = 3.2\n",
    "plt.plot(xs_values, ys_values, 'k')\n",
    "plt.plot(xm_values, ym_values, 'b')\n",
    "\n",
    "\n",
    "#nodal forces\n",
    "plt.arrow(0,0,nf0.dot(xhat)*scale_arrows,nf0.dot(yhat)*scale_arrows, color='red', head_width=.01)\n",
    "plt.arrow(xs1,ys1,nf1.dot(xhat)*scale_arrows,nf1.dot(yhat)*scale_arrows, color='green', head_width=.01)\n",
    "plt.arrow(xs2,ys2,nf2.dot(xhat)*scale_arrows,nf2.dot(yhat)*scale_arrows, color='blue', head_width=.01)\n",
    "\n",
    "#forces on the sides of triangles\n",
    "plt.arrow(0+xs1/2,0+ys1/2,F1.dot(xhat)*scale_arrows,F1.dot(yhat)*scale_arrows, color='black', head_width=.02)\n",
    "plt.arrow(0+xs2/2,0+ys2/2,F2.dot(xhat)*scale_arrows,F2.dot(yhat)*scale_arrows, color='black', head_width=.02)\n",
    "plt.arrow(xs1/2+xs2/2,ys1/2+ys2/2,F3.dot(xhat)*scale_arrows,F3.dot(yhat)*scale_arrows, color='black', head_width=.02)\n",
    "\n",
    "\n",
    "plt.title('nodal forces due to stretching', fontsize=20)\n",
    "plt.axis('off')\n",
    "# plt.plot(xm_values, ym_values, 'b')\n",
    "plt.show()\n",
    "plt.savefig(f\"{nb_dir}/Figures/nodal_forces_example3.png\",dpi=400)\n"
   ]
  },
  {
   "cell_type": "code",
   "execution_count": null,
   "metadata": {
    "ExecuteTime": {
     "end_time": "2020-06-29T04:11:05.389022Z",
     "start_time": "2020-06-29T04:11:05.367276Z"
    },
    "hidden": true
   },
   "outputs": [],
   "source": []
  },
  {
   "cell_type": "code",
   "execution_count": 435,
   "metadata": {
    "ExecuteTime": {
     "end_time": "2020-06-29T04:19:31.314779Z",
     "start_time": "2020-06-29T04:19:31.286590Z"
    },
    "hidden": true
   },
   "outputs": [],
   "source": [
    "# test that the nodal forces are in plane with the deformed triangle\n",
    "assert(np.isclose(As.dot(nf0),0.))\n",
    "assert(np.isclose(As.dot(nf1),0.))\n",
    "assert(np.isclose(As.dot(nf2),0.))\n",
    "assert(np.isclose(As.dot(F1),0.))\n",
    "assert(np.isclose(As.dot(F2),0.))\n",
    "assert(np.isclose(As.dot(F3),0.))"
   ]
  },
  {
   "cell_type": "markdown",
   "metadata": {
    "ExecuteTime": {
     "end_time": "2020-06-28T22:58:02.975158Z",
     "start_time": "2020-06-28T22:58:02.947646Z"
    },
    "hidden": true
   },
   "source": [
    "A Possible Future Glitch could occur if there's a lot fo twisting, which I don't expect\n",
    "- if R.dot(Amhat).dot(Ashat)<0 and/or \n",
    "- if xi2 < 0\n",
    "\n",
    "Plot force vectors, frequently and consider printing when ^these conditions occur."
   ]
  },
  {
   "cell_type": "markdown",
   "metadata": {},
   "source": [
    "# TODO: compute the net elastic force for each vertex"
   ]
  },
  {
   "cell_type": "code",
   "execution_count": null,
   "metadata": {},
   "outputs": [],
   "source": []
  },
  {
   "cell_type": "code",
   "execution_count": null,
   "metadata": {},
   "outputs": [],
   "source": []
  },
  {
   "cell_type": "code",
   "execution_count": null,
   "metadata": {},
   "outputs": [],
   "source": []
  }
 ],
 "metadata": {
  "kernelspec": {
   "display_name": "Python 3",
   "language": "python",
   "name": "python3"
  },
  "language_info": {
   "codemirror_mode": {
    "name": "ipython",
    "version": 3
   },
   "file_extension": ".py",
   "mimetype": "text/x-python",
   "name": "python",
   "nbconvert_exporter": "python",
   "pygments_lexer": "ipython3",
   "version": "3.7.7"
  },
  "toc": {
   "base_numbering": 1,
   "nav_menu": {},
   "number_sections": true,
   "sideBar": true,
   "skip_h1_title": false,
   "title_cell": "Table of Contents",
   "title_sidebar": "Contents",
   "toc_cell": false,
   "toc_position": {},
   "toc_section_display": true,
   "toc_window_display": false
  },
  "varInspector": {
   "cols": {
    "lenName": 16,
    "lenType": 16,
    "lenVar": 40
   },
   "kernels_config": {
    "python": {
     "delete_cmd_postfix": "",
     "delete_cmd_prefix": "del ",
     "library": "var_list.py",
     "varRefreshCmd": "print(var_dic_list())"
    },
    "r": {
     "delete_cmd_postfix": ") ",
     "delete_cmd_prefix": "rm(",
     "library": "var_list.r",
     "varRefreshCmd": "cat(var_dic_list()) "
    }
   },
   "types_to_exclude": [
    "module",
    "function",
    "builtin_function_or_method",
    "instance",
    "_Feature"
   ],
   "window_display": false
  }
 },
 "nbformat": 4,
 "nbformat_minor": 4
}
