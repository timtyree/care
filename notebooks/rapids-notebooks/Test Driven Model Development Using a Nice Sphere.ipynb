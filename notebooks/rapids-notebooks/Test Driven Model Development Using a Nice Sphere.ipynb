{
 "cells": [
  {
   "cell_type": "markdown",
   "metadata": {
    "ExecuteTime": {
     "end_time": "2020-06-27T00:01:42.964413Z",
     "start_time": "2020-06-27T00:01:42.961351Z"
    }
   },
   "source": [
    "# Test Driven Model Development Using a Nice Sphere\n",
    "Tim Tyree<br>\n",
    "6.26.2020"
   ]
  },
  {
   "cell_type": "code",
   "execution_count": 1,
   "metadata": {
    "ExecuteTime": {
     "end_time": "2020-06-28T00:15:44.803994Z",
     "start_time": "2020-06-28T00:15:43.812154Z"
    }
   },
   "outputs": [
    {
     "name": "stdout",
     "output_type": "stream",
     "text": [
      "Automatic calling is: Smart\n"
     ]
    }
   ],
   "source": [
    "import numpy as np, pandas as pd, matplotlib.pyplot as plt\n",
    "from mpl_toolkits.mplot3d import Axes3D  \n",
    "\n",
    "#automate the boring stuff\n",
    "from IPython import utils\n",
    "import time, os, sys, re\n",
    "beep = lambda x: os.system(\"echo -n '\\\\a';sleep 0.2;\" * x)\n",
    "if not 'nb_dir' in globals():\n",
    "    nb_dir = os.getcwd()\n",
    "sys.path.append(\"../lib\") \n",
    "from lib import *\n",
    "sys.path.append(\"lib\") \n",
    "from lib import *\n",
    "\n",
    "# from operari import *\n",
    "# from ProgressBar import *\n",
    "# from mesh_ops import *\n",
    "\n",
    "# the visualization tools involved here for triangular meshes is\n",
    "import trimesh\n",
    "import pyglet\n",
    "from numba import njit, cuda\n",
    "# from numba.typed import List\n",
    "# import numba\n",
    "import trimesh\n",
    "\n",
    "#try using a scipy sparse matrix to speed up spring force evaluations\n",
    "#TODO: speed up bigger meshes with pycuda's sparce matrices\n",
    "from scipy.sparse import csr_matrix\n",
    "import scipy.sparse as sparse\n",
    "\n",
    "#formating\n",
    "from matplotlib import rc\n",
    "# rc('font',**{'family':'sans-serif','sans-serif':['Helvetica']})\n",
    "## for Palatino and other serif fonts use:\n",
    "#rc('font',**{'family':'serif','serif':['Palatino']})\n",
    "# import matplotlib as mpl\n",
    "# mpl.rcParams['font.size'] = 20\n",
    "# mpl.rcParams['text.usetex'] = True\n",
    "# mpl.rcParams['text.latex.preamble'] = r'\\usepackage{{amsmath}}'\n",
    "rc('text', usetex=True)\n",
    "\n",
    "%autocall 1\n",
    "%load_ext autoreload\n",
    "%autoreload 2"
   ]
  },
  {
   "cell_type": "markdown",
   "metadata": {},
   "source": [
    "# import the spherical mesh"
   ]
  },
  {
   "cell_type": "code",
   "execution_count": 2,
   "metadata": {
    "ExecuteTime": {
     "end_time": "2020-06-28T00:15:46.799810Z",
     "start_time": "2020-06-28T00:15:46.758635Z"
    }
   },
   "outputs": [
    {
     "name": "stderr",
     "output_type": "stream",
     "text": [
      "face_normals all zero, ignoring!\n"
     ]
    }
   ],
   "source": [
    "os.chdir(f'{nb_dir}/Data/spherical_meshes')\n",
    "mesh = trimesh.load('spherical_mesh_64.stl')\n",
    "#subtract the center of mass\n",
    "mesh.vertices -= mesh.center_mass\n",
    "#normalize the mean radius to R\n",
    "# R = 1. #unit length\n",
    "# mesh.vertices *= R/np.mean(np.linalg.norm(mesh.vertices,axis=1))\n",
    "mesh.vertices /= np.cbrt(mesh.volume*3/(4*np.pi))"
   ]
  },
  {
   "cell_type": "code",
   "execution_count": 3,
   "metadata": {
    "ExecuteTime": {
     "end_time": "2020-06-28T00:15:47.694494Z",
     "start_time": "2020-06-28T00:15:47.672472Z"
    }
   },
   "outputs": [],
   "source": [
    "assert(mesh.is_watertight)\n",
    "assert(mesh.is_winding_consistent)"
   ]
  },
  {
   "cell_type": "code",
   "execution_count": 4,
   "metadata": {
    "ExecuteTime": {
     "end_time": "2020-06-28T00:15:48.243077Z",
     "start_time": "2020-06-28T00:15:48.220692Z"
    }
   },
   "outputs": [
    {
     "name": "stdout",
     "output_type": "stream",
     "text": [
      "1.0083893459591489\n",
      "0.9999999999999999\n"
     ]
    }
   ],
   "source": [
    "#unit length\n",
    "print(np.mean(np.linalg.norm(mesh.vertices,axis=1)))\n",
    "print(np.cbrt(mesh.volume*3/(4*np.pi)))"
   ]
  },
  {
   "cell_type": "code",
   "execution_count": 5,
   "metadata": {
    "ExecuteTime": {
     "end_time": "2020-06-28T00:15:48.932941Z",
     "start_time": "2020-06-28T00:15:48.908180Z"
    }
   },
   "outputs": [],
   "source": [
    "#doesn't work. don't know why\n",
    "# def mat_to_str(A):\n",
    "#     string = f'''\n",
    "#     {A[[0,0]]} & {A[[0,1]]} & {A[[0,2]]} & {A[[0,3]]} \\\\ \n",
    "#     {A[[1,0]]} & {A[[1,1]]} & {A[[1,2]]} & {A[[1,3]]} \\\\ \n",
    "#     {A[[2,0]]} & {A[[2,1]]} & {A[[2,2]]} & {A[[2,3]]} \\\\ \n",
    "#     {A[[3,0]]} & {A[[3,1]]} & {A[[3,2]]} & {A[[3,3]]} \\\\ \n",
    "#     '''\n",
    "#     latex_string = r'$\\left( \\begin{array}{ll} ' + string + r'\\end{{array}} \\right)$'\n",
    "#     return latex_string\n",
    "# # text(my_matrix, (1,1))"
   ]
  },
  {
   "cell_type": "markdown",
   "metadata": {
    "ExecuteTime": {
     "end_time": "2020-06-27T01:19:52.604149Z",
     "start_time": "2020-06-27T01:19:52.583114Z"
    },
    "heading_collapsed": true
   },
   "source": [
    "# [deprecated, use real space] cast all vertices and shapes to quaternions in numpy. record as the undeformed surface\n",
    "- TODO: dilate the sphere by a known amount\n",
    "- TODO: compute the deformation gradient\n",
    "- TODO: compute the 1st piola-kirchoff tensor for some constitutive relation\n",
    "- TODO: taking thickness to be $\\delta\\ll1$, compute the effective surface tension, $\\gamma$"
   ]
  },
  {
   "cell_type": "code",
   "execution_count": 6,
   "metadata": {
    "ExecuteTime": {
     "end_time": "2020-06-28T00:15:50.013924Z",
     "start_time": "2020-06-28T00:15:49.985113Z"
    },
    "hidden": true
   },
   "outputs": [],
   "source": [
    "from colorsys import hls_to_rgb\n",
    "\n",
    "def colorize(z):\n",
    "    n,m = z.shape\n",
    "    c = np.zeros((n,m,3))\n",
    "    c[np.isinf(z)] = (1.0, 1.0, 1.0)\n",
    "    c[np.isnan(z)] = (0.5, 0.5, 0.5)\n",
    "\n",
    "    idx = ~(np.isinf(z) + np.isnan(z))\n",
    "    A = (np.angle(z[idx]) + np.pi) / (2*np.pi)\n",
    "    A = (A + 0.5) % 1.0\n",
    "    B = 1.0 - 1.0/(1.0+abs(z[idx])**0.3)\n",
    "    c[idx] = [hls_to_rgb(a, b, 0.8) for a,b in zip(A,B)]\n",
    "    return c"
   ]
  },
  {
   "cell_type": "code",
   "execution_count": 7,
   "metadata": {
    "ExecuteTime": {
     "end_time": "2020-06-28T00:15:54.298852Z",
     "start_time": "2020-06-28T00:15:54.255283Z"
    },
    "hidden": true
   },
   "outputs": [
    {
     "name": "stdout",
     "output_type": "stream",
     "text": [
      "$\\sigma_x is $\n",
      "[[0.+0.j 0.+1.j]\n",
      " [0.+1.j 0.+0.j]]\n",
      "$\\sigma_y is $\n",
      "[[ 0.+0.j  1.-0.j]\n",
      " [-1.+0.j  0.+0.j]]\n",
      "$\\sigma_z is $\n",
      "[[ 0.+1.j  0.+0.j]\n",
      " [ 0.+0.j -0.-1.j]]\n"
     ]
    }
   ],
   "source": [
    "#define the constant pauli matrices as a basis for real space\n",
    "sigx = 1.j*np.array([[0.,1.],[1.,0.]],dtype=complex)\n",
    "sigy = 1.j*np.array([[0.,-1.j],[1.j,0.]],dtype=complex)\n",
    "sigz = 1.j*np.array([[1.,0.],[0.,-1.]],dtype=complex)\n",
    "one  = np.array([[1.,0.],[0.,1.]],dtype=complex)\n",
    "zero = np.array([[0.,0.],[0.,0.]],dtype=complex)\n",
    "\n",
    "#print the imaginary spatial basis, and test that identity and zero multiply correctly.\n",
    "print(r'$\\sigma_x is $')\n",
    "print(sigx)\n",
    "print(r'$\\sigma_y is $')\n",
    "print(sigy)\n",
    "print(r'$\\sigma_z is $')\n",
    "print(sigz)\n",
    "# print(one)\n",
    "# print(zero)\n",
    "# print((one.dot(sigx)))\n",
    "assert((one.dot(sigx)==sigx).all())\n",
    "assert((zero.dot(sigx)==zero).all())\n",
    "\n",
    "# @njit\n",
    "def vec_to_quaternion(v):\n",
    "    #define the constant pauli matrices as a basis for real space\n",
    "    #     sigx = np.array([[0.,1.],[1.,0.]],dtype=complex)\n",
    "    #     sigy = np.array([[1.j,0.],[0.,-1.j]],dtype=complex)\n",
    "    #     sigz = np.array([[1.,0.],[0.,-1.]],dtype=complex)\n",
    "    return v[0]*sigx + v[1]*sigy + v[2]*sigz"
   ]
  },
  {
   "cell_type": "code",
   "execution_count": 8,
   "metadata": {
    "ExecuteTime": {
     "end_time": "2020-06-28T00:15:55.434743Z",
     "start_time": "2020-06-28T00:15:55.398475Z"
    },
    "hidden": true
   },
   "outputs": [],
   "source": [
    "#test the inverse of the basis elements are minus the basis elements\n",
    "assert((np.linalg.inv(sigx)==-sigx).all())\n",
    "assert((np.linalg.inv(sigy)==-sigy).all())\n",
    "assert((np.linalg.inv(sigz)==-sigz).all())\n",
    "#test the basis elements are anticommuting\n",
    "assert((sigx*sigy-sigy*sigx==zero).all())\n",
    "assert((sigx*sigz-sigz*sigx==zero).all())\n",
    "assert((sigz*sigy-sigy*sigz==zero).all())\n"
   ]
  },
  {
   "cell_type": "code",
   "execution_count": 9,
   "metadata": {
    "ExecuteTime": {
     "end_time": "2020-06-28T00:15:56.484438Z",
     "start_time": "2020-06-28T00:15:56.454360Z"
    },
    "hidden": true
   },
   "outputs": [],
   "source": [
    "trim = mesh.triangles[0]\n",
    "tris = mesh.triangles[100]\n",
    "\n",
    "dm1 = trim[1]-trim[0]\n",
    "dm2 = trim[2]-trim[0]\n",
    "Am =  np.cross(dm1,dm2)/2\n",
    "\n",
    "ds1 = tris[1]-tris[0]\n",
    "ds2 = tris[2]-tris[0]\n",
    "As =  np.cross(ds1,ds2)/2\n",
    "\n",
    "\n",
    "qm1 = dm1[0]*sigx + dm1[1]*sigy + dm1[2]*sigz\n",
    "qm2 = dm2[0]*sigx + dm2[1]*sigy + dm2[2]*sigz\n",
    "qs1 = ds1[0]*sigx + ds1[1]*sigy + ds1[2]*sigz\n",
    "qs2 = ds2[0]*sigx + ds2[1]*sigy + ds2[2]*sigz\n",
    "\n",
    "qAm =  Am[0]*sigx + Am[1]*sigy + Am[2]*sigz\n",
    "qAs =  As[0]*sigx + As[1]*sigy + As[2]*sigz\n",
    "\n",
    "# solve for the deformation gradient between either pair of edges.\n",
    "F1 = qs1.dot(np.linalg.inv(qm1))\n",
    "F2 = qs2.dot(np.linalg.inv(qm2))\n",
    "# FA = qAs.dot(np.linalg.inv(qAm))"
   ]
  },
  {
   "cell_type": "code",
   "execution_count": 10,
   "metadata": {
    "ExecuteTime": {
     "end_time": "2020-06-28T00:15:56.895947Z",
     "start_time": "2020-06-28T00:15:56.862596Z"
    },
    "hidden": true
   },
   "outputs": [],
   "source": [
    "#singular value decomposition on the block diagonal deformations\n",
    "U1, S1, V1 = np.linalg.svd(F1)\n",
    "V1 = V1.T.conjugate()\n",
    "\n",
    "U2, S2, V2 = np.linalg.svd(F2)\n",
    "V2 = V2.T.conjugate()"
   ]
  },
  {
   "cell_type": "code",
   "execution_count": 11,
   "metadata": {
    "ExecuteTime": {
     "end_time": "2020-06-28T00:15:57.315282Z",
     "start_time": "2020-06-28T00:15:57.293236Z"
    },
    "hidden": true
   },
   "outputs": [],
   "source": [
    "#verify svd is returning hermitian factors\n",
    "assert((np.around(U1.dot(U1.T.conjugate()),3)==one).all())\n",
    "assert((np.around(V1.dot(V1.T.conjugate()),3)==one).all())"
   ]
  },
  {
   "cell_type": "code",
   "execution_count": 12,
   "metadata": {
    "ExecuteTime": {
     "end_time": "2020-06-28T00:15:57.713048Z",
     "start_time": "2020-06-28T00:15:57.690500Z"
    },
    "hidden": true
   },
   "outputs": [],
   "source": [
    "Dm = np.array(((qm1,zero),(zero,qm2))).reshape((4,4))\n",
    "Ds = np.array(((qs1,zero),(zero,qs2))).reshape((4,4))"
   ]
  },
  {
   "cell_type": "code",
   "execution_count": 13,
   "metadata": {
    "ExecuteTime": {
     "end_time": "2020-06-28T00:15:58.122494Z",
     "start_time": "2020-06-28T00:15:58.098964Z"
    },
    "hidden": true
   },
   "outputs": [
    {
     "data": {
      "text/plain": [
       "array([[ 0.00000000e+00-0.0020773j , -2.64751533e-01-0.23108376j],\n",
       "       [ 2.64751533e-01-0.23108376j, -6.93889390e-18+0.0020773j ]])"
      ]
     },
     "execution_count": 13,
     "metadata": {},
     "output_type": "execute_result"
    }
   ],
   "source": [
    "#TODO: test if rotating by F maps dm to ds\n",
    "F1.dot(qm1).dot(F1.conjugate().T)"
   ]
  },
  {
   "cell_type": "code",
   "execution_count": 14,
   "metadata": {
    "ExecuteTime": {
     "end_time": "2020-06-28T00:15:58.622193Z",
     "start_time": "2020-06-28T00:15:58.591588Z"
    },
    "hidden": true
   },
   "outputs": [
    {
     "data": {
      "text/plain": [
       "(array([[-8.89379716e-14+8.48789279e-01j,  1.11022302e-16+5.28731274e-01j,\n",
       "         -2.64271567e-17-3.88827512e-17j, -2.62956193e-33+3.33435694e-32j],\n",
       "        [-1.11022302e-16-7.60839488e-17j,  2.16840434e-19+1.79906187e-19j,\n",
       "         -8.74768222e-01-4.84541596e-01j,  6.23283209e-17+9.18756336e-17j],\n",
       "        [ 0.00000000e+00+0.00000000e+00j,  0.00000000e+00+0.00000000e+00j,\n",
       "         -2.22044605e-16-1.62091656e-17j, -9.97589537e-01-6.93910349e-02j],\n",
       "        [-5.58442181e-14+5.28731274e-01j,  1.37368415e-16-8.48789279e-01j,\n",
       "         -1.65169697e-17-2.44628975e-17j, -1.64347588e-33+2.08773777e-32j]]),\n",
       " array([3.77416525e-01, 3.00009770e-01, 1.64880887e-18, 5.41184667e-36]),\n",
       " array([[ 5.84178464e-04+0.00000000e+00j,  5.38170272e-01+4.58663730e-01j,\n",
       "          5.38170272e-01-4.58663730e-01j, -5.84178464e-04-5.55111512e-17j],\n",
       "        [ 4.91868520e-01+0.00000000e+00j,  3.29205021e-01-3.86897161e-01j,\n",
       "          3.29205021e-01+3.86897161e-01j, -4.91868520e-01-2.40692882e-17j],\n",
       "        [ 1.22328663e-02+0.00000000e+00j, -1.43782735e-01-3.70584414e-01j,\n",
       "          3.88547647e-01-8.38868812e-02j,  4.01565161e-01-7.22899172e-01j],\n",
       "        [-8.70583353e-01+0.00000000e+00j,  1.84337431e-01-2.23491411e-01j,\n",
       "          1.91817389e-01+2.17105479e-01j, -2.72257319e-01-1.01577051e-02j]]))"
      ]
     },
     "execution_count": 14,
     "metadata": {},
     "output_type": "execute_result"
    }
   ],
   "source": [
    "np.linalg.svd(Dm)"
   ]
  },
  {
   "cell_type": "code",
   "execution_count": 15,
   "metadata": {
    "ExecuteTime": {
     "end_time": "2020-06-28T00:15:59.015413Z",
     "start_time": "2020-06-28T00:15:58.995751Z"
    },
    "hidden": true
   },
   "outputs": [],
   "source": [
    "#TODO: visualize F1 and F2 and see if they make sense."
   ]
  },
  {
   "cell_type": "markdown",
   "metadata": {
    "ExecuteTime": {
     "end_time": "2020-06-27T16:08:32.708838Z",
     "start_time": "2020-06-27T16:08:32.695053Z"
    },
    "hidden": true
   },
   "source": [
    "TODO: matrix to quaternion"
   ]
  },
  {
   "cell_type": "markdown",
   "metadata": {
    "ExecuteTime": {
     "end_time": "2020-06-27T16:08:41.197503Z",
     "start_time": "2020-06-27T16:08:41.184811Z"
    },
    "hidden": true
   },
   "source": [
    "TODO: quaternion to matrix"
   ]
  },
  {
   "cell_type": "code",
   "execution_count": 16,
   "metadata": {
    "ExecuteTime": {
     "end_time": "2020-06-28T00:16:00.158951Z",
     "start_time": "2020-06-28T00:16:00.130828Z"
    },
    "hidden": true
   },
   "outputs": [
    {
     "data": {
      "text/plain": [
       "array([[ 0.-0.j, -1.-0.j],\n",
       "       [ 1.+0.j,  0.-0.j]])"
      ]
     },
     "execution_count": 16,
     "metadata": {},
     "output_type": "execute_result"
    }
   ],
   "source": [
    "sigy.T.conjugate()"
   ]
  },
  {
   "cell_type": "code",
   "execution_count": 17,
   "metadata": {
    "ExecuteTime": {
     "end_time": "2020-06-28T00:16:00.578997Z",
     "start_time": "2020-06-28T00:16:00.558126Z"
    },
    "hidden": true
   },
   "outputs": [
    {
     "data": {
      "text/plain": [
       "array([[ 0.+0.j,  1.-0.j],\n",
       "       [-1.+0.j,  0.+0.j]])"
      ]
     },
     "execution_count": 17,
     "metadata": {},
     "output_type": "execute_result"
    }
   ],
   "source": [
    "sigy"
   ]
  },
  {
   "cell_type": "code",
   "execution_count": null,
   "metadata": {
    "hidden": true
   },
   "outputs": [],
   "source": []
  },
  {
   "cell_type": "markdown",
   "metadata": {},
   "source": [
    "# Handling Stress with quaternions only with nearly conformal mappings"
   ]
  },
  {
   "cell_type": "markdown",
   "metadata": {},
   "source": [
    "Two deformations are conformal if their differentials are related by a rotation and a scaling.\n",
    "\n",
    "$$d\\tilde f = e^uRdf$$\n",
    "\n",
    "Rotations represented in $\\mathbb{R}^3$ require quadratic constraints which produce shear stress, which causes angles change under deformation.  The action of a quaternion on a vector can be written in terms of a rotation and a scale.\n",
    "\n",
    "The shape of a triangle, which has six degrees of freedom in $\\mathbb{R}^3$ cannot be represented by a single quaternion, which has only four degrees of freedom.  It is therefore necessary to represent the shape of a triangle with at least two quaternions, and it is sufficient to constrain those quaternions to be imaginary, since Im$\\,\\mathbb{H}\\simeq\\mathbb{R}^3$."
   ]
  },
  {
   "cell_type": "markdown",
   "metadata": {},
   "source": [
    "# Enter the basis of the triangle in real space only to compute deformation gradients that support shear stress"
   ]
  },
  {
   "cell_type": "code",
   "execution_count": 18,
   "metadata": {
    "ExecuteTime": {
     "end_time": "2020-06-28T00:16:19.576559Z",
     "start_time": "2020-06-28T00:16:19.552082Z"
    }
   },
   "outputs": [],
   "source": [
    "#DONE: copy the 'rotate into same plane solution' to a .py file\n",
    "#DONE: rotate two triangles into the same plane\n"
   ]
  },
  {
   "cell_type": "code",
   "execution_count": 21,
   "metadata": {
    "ExecuteTime": {
     "end_time": "2020-06-28T00:17:13.594786Z",
     "start_time": "2020-06-28T00:17:13.573784Z"
    }
   },
   "outputs": [],
   "source": [
    "tris = mesh.triangles[100]\n",
    "trim = mesh.triangles[321]"
   ]
  },
  {
   "cell_type": "code",
   "execution_count": 24,
   "metadata": {
    "ExecuteTime": {
     "end_time": "2020-06-28T00:17:44.738219Z",
     "start_time": "2020-06-28T00:17:44.708869Z"
    }
   },
   "outputs": [],
   "source": [
    "dm1 = trim[1]-trim[0]     #precompute in final algorithm\n",
    "dm2 = trim[2]-trim[0]     #precompute in final algorithm\n",
    "Am =  np.cross(dm1,dm2)/2 #precompute in final algorithm\n",
    "\n",
    "ds1 = tris[1]-tris[0]\n",
    "ds2 = tris[2]-tris[0]\n",
    "As =  np.cross(ds1,ds2)/2\n",
    "\n",
    "#Ra is a rotation_matrix that rotation_matrix rotates Ashat onto Amhat\n",
    "Ashat = As/np.linalg.norm(As)\n",
    "Amhat = Am/np.linalg.norm(Am)"
   ]
  },
  {
   "cell_type": "code",
   "execution_count": 26,
   "metadata": {
    "ExecuteTime": {
     "end_time": "2020-06-28T00:18:41.269815Z",
     "start_time": "2020-06-28T00:18:41.242928Z"
    }
   },
   "outputs": [],
   "source": [
    "R = get_R(trim,tris)"
   ]
  },
  {
   "cell_type": "code",
   "execution_count": 27,
   "metadata": {
    "ExecuteTime": {
     "end_time": "2020-06-28T00:18:43.483213Z",
     "start_time": "2020-06-28T00:18:43.457393Z"
    }
   },
   "outputs": [
    {
     "data": {
      "text/plain": [
       "array([[-0.79946888, -0.25815147,  0.54240883],\n",
       "       [-0.4627009 ,  0.84047528, -0.28197373],\n",
       "       [ 0.38308928,  0.47640228,  0.79138074]])"
      ]
     },
     "execution_count": 27,
     "metadata": {},
     "output_type": "execute_result"
    }
   ],
   "source": [
    "R"
   ]
  },
  {
   "cell_type": "code",
   "execution_count": 29,
   "metadata": {
    "ExecuteTime": {
     "end_time": "2020-06-28T00:19:31.437889Z",
     "start_time": "2020-06-28T00:19:31.404163Z"
    }
   },
   "outputs": [
    {
     "data": {
      "text/plain": [
       "1.0000000000000002"
      ]
     },
     "execution_count": 29,
     "metadata": {},
     "output_type": "execute_result"
    }
   ],
   "source": [
    "np.linalg.norm(R.dot(dm1))/np.linalg.norm(dm1)"
   ]
  },
  {
   "cell_type": "code",
   "execution_count": 36,
   "metadata": {
    "ExecuteTime": {
     "end_time": "2020-06-28T00:21:30.295405Z",
     "start_time": "2020-06-28T00:21:30.269674Z"
    }
   },
   "outputs": [],
   "source": [
    "#test that the local \"x\" axis is aligned by R\n",
    "xhat = ds1/np.linalg.norm(ds1)\n",
    "assert(np.isclose(xhat,R.dot(dm1)/np.linalg.norm(dm1)).all())"
   ]
  },
  {
   "cell_type": "code",
   "execution_count": 39,
   "metadata": {
    "ExecuteTime": {
     "end_time": "2020-06-28T00:22:46.261074Z",
     "start_time": "2020-06-28T00:22:46.236578Z"
    }
   },
   "outputs": [],
   "source": [
    "#yhat is not needed for energy calculation, but is needed for deformation gradient calculation via outer product\n",
    "yhat = np.cross(As,xhat)\n",
    "yhat /= np.linalg.norm(yhat)"
   ]
  },
  {
   "cell_type": "code",
   "execution_count": null,
   "metadata": {},
   "outputs": [],
   "source": [
    "#TODO: project all  edges onto the first vector using the outer product.  Test that the first vectors match. \n",
    "#TODO: for each second vector, compute the orthogonal component via the pythagorean theorem\n",
    "#TODO: with 2 dimensional vectors in hand, plot some vectors on top of eachother in two different colors.\n",
    "#TODO: use a shear deformation from the heisenburg group to make the triangles match\n",
    "#TODO: test ^this by ploting a number of triangles.  do they all match?\n",
    "#TODO: if so, congrats!  Collect the operations into one matrix.  congrats!  you can now measure the deformation gradient F!"
   ]
  },
  {
   "cell_type": "code",
   "execution_count": null,
   "metadata": {},
   "outputs": [],
   "source": [
    "#TODO: scale so \"the first\" edge matches between the two triangles\n"
   ]
  },
  {
   "cell_type": "code",
   "execution_count": null,
   "metadata": {},
   "outputs": [],
   "source": []
  },
  {
   "cell_type": "code",
   "execution_count": null,
   "metadata": {},
   "outputs": [],
   "source": []
  },
  {
   "cell_type": "code",
   "execution_count": null,
   "metadata": {},
   "outputs": [],
   "source": []
  },
  {
   "cell_type": "code",
   "execution_count": null,
   "metadata": {},
   "outputs": [],
   "source": []
  },
  {
   "cell_type": "code",
   "execution_count": null,
   "metadata": {},
   "outputs": [],
   "source": []
  },
  {
   "cell_type": "code",
   "execution_count": null,
   "metadata": {},
   "outputs": [],
   "source": []
  }
 ],
 "metadata": {
  "kernelspec": {
   "display_name": "Python 3",
   "language": "python",
   "name": "python3"
  },
  "language_info": {
   "codemirror_mode": {
    "name": "ipython",
    "version": 3
   },
   "file_extension": ".py",
   "mimetype": "text/x-python",
   "name": "python",
   "nbconvert_exporter": "python",
   "pygments_lexer": "ipython3",
   "version": "3.7.7"
  },
  "toc": {
   "base_numbering": 1,
   "nav_menu": {},
   "number_sections": true,
   "sideBar": true,
   "skip_h1_title": false,
   "title_cell": "Table of Contents",
   "title_sidebar": "Contents",
   "toc_cell": false,
   "toc_position": {},
   "toc_section_display": true,
   "toc_window_display": false
  },
  "varInspector": {
   "cols": {
    "lenName": 16,
    "lenType": 16,
    "lenVar": 40
   },
   "kernels_config": {
    "python": {
     "delete_cmd_postfix": "",
     "delete_cmd_prefix": "del ",
     "library": "var_list.py",
     "varRefreshCmd": "print(var_dic_list())"
    },
    "r": {
     "delete_cmd_postfix": ") ",
     "delete_cmd_prefix": "rm(",
     "library": "var_list.r",
     "varRefreshCmd": "cat(var_dic_list()) "
    }
   },
   "types_to_exclude": [
    "module",
    "function",
    "builtin_function_or_method",
    "instance",
    "_Feature"
   ],
   "window_display": false
  }
 },
 "nbformat": 4,
 "nbformat_minor": 4
}
