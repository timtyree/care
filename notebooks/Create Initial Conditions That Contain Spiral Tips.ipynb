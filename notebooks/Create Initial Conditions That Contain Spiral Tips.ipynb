{
 "cells": [
  {
   "cell_type": "markdown",
   "metadata": {},
   "source": [
    "# Create Initial Conditions That Result in Spiral Defect Chaos\n",
    "Tim Tyree<br>\n",
    "6.8.2020"
   ]
  },
  {
   "cell_type": "code",
   "execution_count": 1,
   "metadata": {
    "ExecuteTime": {
     "end_time": "2021-02-09T23:46:30.903765Z",
     "start_time": "2021-02-09T23:46:28.313342Z"
    }
   },
   "outputs": [
    {
     "name": "stdout",
     "output_type": "stream",
     "text": [
      "Automatic calling is: Smart\n"
     ]
    }
   ],
   "source": [
    "from lib.my_initialization import *\n",
    "from lib.controller.controller_LR import get_one_step_explicit_synchronous_splitting\n",
    "from lib.model.LR_model import *\n",
    "from lib.utils.utils_traj import *\n",
    "from lib.routines.bdrates import *\n",
    "from lib.measure.utils_measure_tips_cpu import *\n",
    "from lib.utils.stack_txt_LR import *\n",
    "from lib.viewer import *\n",
    "import trackpy\n",
    "\n",
    "%autocall 1\n",
    "%load_ext autoreload\n",
    "%autoreload 2"
   ]
  },
  {
   "cell_type": "code",
   "execution_count": 4,
   "metadata": {
    "ExecuteTime": {
     "end_time": "2021-02-09T22:21:17.546269Z",
     "start_time": "2021-02-09T22:21:17.486923Z"
    }
   },
   "outputs": [],
   "source": [
    "#make plots in darkmode\n",
    "import seaborn as sns\n",
    "from jupyterthemes import jtplot\n",
    "jtplot.style(theme='monokai', context='notebook', ticks=True, grid=False)"
   ]
  },
  {
   "cell_type": "markdown",
   "metadata": {
    "heading_collapsed": true
   },
   "source": [
    "# (deprecated) create spiral defect chaos with the Fenton-Karma model "
   ]
  },
  {
   "cell_type": "code",
   "execution_count": 40,
   "metadata": {
    "ExecuteTime": {
     "end_time": "2021-01-23T01:03:49.419806Z",
     "start_time": "2021-01-23T01:03:49.404956Z"
    },
    "hidden": true
   },
   "outputs": [],
   "source": [
    "# #pylab\n",
    "# %matplotlib inline\n",
    "# import numpy as np, pandas as pd, matplotlib.pyplot as plt\n",
    "# from pylab import imshow, show\n",
    "# import skimage as sk\n",
    "# from skimage import measure, filters\n",
    "# import matplotlib.pyplot as plt, numpy as np, os\n",
    "# from numba import njit, jit, vectorize\n",
    "# from PIL import Image\n",
    "# import imageio\n",
    "# # import cv2 as cv\n",
    "\n",
    "\n",
    "\n",
    "# #automate the boring stuff\n",
    "# from IPython import utils\n",
    "# import time, os, sys, re\n",
    "# beep = lambda x: os.system(\"echo -n '\\\\a';sleep 0.2;\" * x)\n",
    "# if not 'nb_dir' in globals():\n",
    "#     nb_dir = os.getcwd()\n",
    "# width = 512\n",
    "# height = 512\n",
    "# channel_no = 3\n",
    "\n",
    "# #load the libraries\n",
    "# from lib import *\n",
    "# # from lib.operari import *\n",
    "# # from lib.ProgressBar import *\n",
    "# # from lib.minimal_model import *\n",
    "# # from lib.TexturePlot import *\n",
    "# # from lib.get_tips import *\n",
    "# # from lib.intersection import *\n",
    "# #TODO: use cuda via numba\n",
    "# # from numba import jit, njit, vectorize, cuda, uint32, f8, uint8\n",
    "# # from lib.contours_to_tips import *\n",
    "\n",
    "# %autocall 1\n",
    "# %load_ext autoreload\n",
    "# %autoreload 2"
   ]
  },
  {
   "cell_type": "markdown",
   "metadata": {
    "heading_collapsed": true,
    "hidden": true
   },
   "source": [
    "## (ignore) create a 512x512x3 initial condition that's well controlled and produces SDC"
   ]
  },
  {
   "cell_type": "markdown",
   "metadata": {
    "heading_collapsed": true,
    "hidden": true
   },
   "source": [
    "## create a 'time origin' in a simple, controlled way\n",
    "create a uniform, horizontal stimulus, then time step up to time = 100, at time steps of h = 0.01.  Record."
   ]
  },
  {
   "cell_type": "code",
   "execution_count": 41,
   "metadata": {
    "ExecuteTime": {
     "end_time": "2021-01-23T01:03:49.444752Z",
     "start_time": "2021-01-23T01:03:49.421562Z"
    },
    "hidden": true
   },
   "outputs": [],
   "source": [
    "# make the relevant initial texture\n",
    "txt = np.zeros((512,512,3))\n",
    "zero_txt = txt.copy()\n",
    "txt[256-32:256+32,:,0] = 0.5\n",
    "txt[...,1] = 0.5\n",
    "txt[...,2] = 0.5\n",
    "tme = 0"
   ]
  },
  {
   "cell_type": "code",
   "execution_count": 42,
   "metadata": {
    "ExecuteTime": {
     "end_time": "2021-01-23T01:03:49.574367Z",
     "start_time": "2021-01-23T01:03:49.446378Z"
    },
    "hidden": true
   },
   "outputs": [
    {
     "data": {
      "text/plain": [
       "<matplotlib.image.AxesImage at 0x7fd1aa38cfd0>"
      ]
     },
     "execution_count": 42,
     "metadata": {},
     "output_type": "execute_result"
    },
    {
     "data": {
      "image/png": "[encoded data removed]",
      "text/plain": [
       "<Figure size 432x288 with 1 Axes>"
      ]
     },
     "metadata": {
      "needs_background": "light"
     },
     "output_type": "display_data"
    }
   ],
   "source": [
    "plt.imshow(txt)"
   ]
  },
  {
   "cell_type": "code",
   "execution_count": 43,
   "metadata": {
    "ExecuteTime": {
     "end_time": "2021-01-23T01:03:49.594984Z",
     "start_time": "2021-01-23T01:03:49.575534Z"
    },
    "hidden": true
   },
   "outputs": [
    {
     "ename": "NameError",
     "evalue": "name 'time_step' is not defined",
     "output_type": "error",
     "traceback": [
      "\u001b[0;31m---------------------------------------------------------------------------\u001b[0m",
      "\u001b[0;31mNameError\u001b[0m                                 Traceback (most recent call last)",
      "\u001b[0;32m<ipython-input-43-88e9e4b30d99>\u001b[0m in \u001b[0;36m<module>\u001b[0;34m\u001b[0m\n\u001b[1;32m      2\u001b[0m \u001b[0mnsteps\u001b[0m \u001b[0;34m=\u001b[0m \u001b[0;36m10\u001b[0m\u001b[0;34m**\u001b[0m\u001b[0;36m4\u001b[0m\u001b[0;34m\u001b[0m\u001b[0;34m\u001b[0m\u001b[0m\n\u001b[1;32m      3\u001b[0m \u001b[0;32mfor\u001b[0m \u001b[0mstep\u001b[0m \u001b[0;32min\u001b[0m \u001b[0mrange\u001b[0m\u001b[0;34m(\u001b[0m\u001b[0mnsteps\u001b[0m\u001b[0;34m)\u001b[0m\u001b[0;34m:\u001b[0m\u001b[0;34m\u001b[0m\u001b[0;34m\u001b[0m\u001b[0m\n\u001b[0;32m----> 4\u001b[0;31m     \u001b[0mtime_step\u001b[0m\u001b[0;34m(\u001b[0m\u001b[0mtexture\u001b[0m\u001b[0;34m=\u001b[0m\u001b[0mtxt\u001b[0m\u001b[0;34m,\u001b[0m \u001b[0mh\u001b[0m \u001b[0;34m=\u001b[0m \u001b[0;36m0.01\u001b[0m\u001b[0;34m,\u001b[0m \u001b[0mzero_txt\u001b[0m\u001b[0;34m=\u001b[0m\u001b[0mzero_txt\u001b[0m\u001b[0;34m)\u001b[0m\u001b[0;34m\u001b[0m\u001b[0;34m\u001b[0m\u001b[0m\n\u001b[0m\u001b[1;32m      5\u001b[0m     \u001b[0mtme\u001b[0m \u001b[0;34m+=\u001b[0m \u001b[0mh\u001b[0m\u001b[0;34m\u001b[0m\u001b[0;34m\u001b[0m\u001b[0m\n\u001b[1;32m      6\u001b[0m     \u001b[0mprintProgressBar\u001b[0m\u001b[0;34m(\u001b[0m\u001b[0mstep\u001b[0m \u001b[0;34m+\u001b[0m \u001b[0;36m1\u001b[0m\u001b[0;34m,\u001b[0m \u001b[0mnsteps\u001b[0m\u001b[0;34m,\u001b[0m \u001b[0mprefix\u001b[0m \u001b[0;34m=\u001b[0m \u001b[0;34m'Progress:'\u001b[0m\u001b[0;34m,\u001b[0m \u001b[0msuffix\u001b[0m \u001b[0;34m=\u001b[0m \u001b[0;34m'Complete'\u001b[0m\u001b[0;34m,\u001b[0m \u001b[0mlength\u001b[0m \u001b[0;34m=\u001b[0m \u001b[0;36m50\u001b[0m\u001b[0;34m)\u001b[0m\u001b[0;34m\u001b[0m\u001b[0;34m\u001b[0m\u001b[0m\n",
      "\u001b[0;31mNameError\u001b[0m: name 'time_step' is not defined"
     ]
    }
   ],
   "source": [
    "h = 0.01\n",
    "nsteps = 10**4\n",
    "for step in range(nsteps):\n",
    "    time_step(texture=txt, h = 0.01, zero_txt=zero_txt)\n",
    "    tme += h\n",
    "    printProgressBar(step + 1, nsteps, prefix = 'Progress:', suffix = 'Complete', length = 50)\n",
    "beep(1)\n",
    "print(f\"the time is tme = {tme}.\")"
   ]
  },
  {
   "cell_type": "code",
   "execution_count": null,
   "metadata": {
    "ExecuteTime": {
     "end_time": "2021-01-23T01:03:49.597992Z",
     "start_time": "2021-01-23T01:03:49.394Z"
    },
    "hidden": true
   },
   "outputs": [],
   "source": [
    "save_fn = f\"ic_{txt.shape[1]}x{txt.shape[0]}_t={0}.npz\"\n",
    "print(save_fn)\n",
    "np.savez_compressed(f'{nb_dir}/Data/{save_fn}', txt)"
   ]
  },
  {
   "cell_type": "markdown",
   "metadata": {
    "heading_collapsed": true,
    "hidden": true
   },
   "source": [
    "## added a semicircle of stimulus tilted at 45º in the danger zone\n",
    "- Then confirm that spiral defect chaos commenses"
   ]
  },
  {
   "cell_type": "markdown",
   "metadata": {
    "heading_collapsed": true,
    "hidden": true
   },
   "source": [
    "### load test cases for pbc"
   ]
  },
  {
   "cell_type": "code",
   "execution_count": null,
   "metadata": {
    "ExecuteTime": {
     "end_time": "2021-01-23T01:03:49.598711Z",
     "start_time": "2021-01-23T01:03:49.396Z"
    },
    "hidden": true
   },
   "outputs": [],
   "source": [
    "data_dir = f'{nb_dir}/Data/ic_512x512_t=0.npz'\n",
    "txt = np.load(data_dir)['arr_0']"
   ]
  },
  {
   "cell_type": "code",
   "execution_count": null,
   "metadata": {
    "ExecuteTime": {
     "end_time": "2021-01-23T01:03:49.599357Z",
     "start_time": "2021-01-23T01:03:49.398Z"
    },
    "hidden": true
   },
   "outputs": [],
   "source": [
    "plt.imshow(txt)"
   ]
  },
  {
   "cell_type": "code",
   "execution_count": null,
   "metadata": {
    "ExecuteTime": {
     "end_time": "2020-06-17T22:51:38.598687Z",
     "start_time": "2020-06-17T22:51:38.571613Z"
    },
    "hidden": true
   },
   "outputs": [],
   "source": []
  },
  {
   "cell_type": "markdown",
   "metadata": {
    "heading_collapsed": true,
    "hidden": true
   },
   "source": [
    "## DONE: add a semicircle of stimulus tilted at 45º in the danger zone"
   ]
  },
  {
   "cell_type": "code",
   "execution_count": null,
   "metadata": {
    "ExecuteTime": {
     "end_time": "2021-01-23T01:03:49.600119Z",
     "start_time": "2021-01-23T01:03:49.401Z"
    },
    "hidden": true
   },
   "outputs": [],
   "source": [
    "from lib.controller.draw import *"
   ]
  },
  {
   "cell_type": "code",
   "execution_count": null,
   "metadata": {
    "ExecuteTime": {
     "end_time": "2021-01-23T01:03:49.600744Z",
     "start_time": "2021-01-23T01:03:49.403Z"
    },
    "hidden": true
   },
   "outputs": [],
   "source": [
    "def get_semicircle(txt,deg,x0,y0):\n",
    "    #make the initialization mesh\n",
    "    img = 0*txt[...,0].copy()\n",
    "    color_left_of_line(out=img, x0=x0, y0=y0, deg = deg, value=1.)  #make left of line mesh 0 or 1\n",
    "    color_outside_range(out=img, x0=x0,y0=y0,r=64*2, val=0.0)  #make circle mesh 0 or 1\n",
    "    #already done: hadamard product of the two.\n",
    "    return img\n",
    "#make initialization conditions\n",
    "deg = 45\n",
    "x0 = 600/4\n",
    "y0 = 600/2\n",
    "img=get_semicircle(txt,deg,x0,y0)\n",
    "plt.imshow(img,vmin=0,vmax=1)"
   ]
  },
  {
   "cell_type": "code",
   "execution_count": null,
   "metadata": {
    "ExecuteTime": {
     "end_time": "2021-01-23T01:03:49.601668Z",
     "start_time": "2021-01-23T01:03:49.406Z"
    },
    "hidden": true
   },
   "outputs": [],
   "source": [
    "# save this init + the origin\n",
    "out = txt.copy()\n",
    "out[...,0] += 10.*img\n",
    "plt.imshow(out)"
   ]
  },
  {
   "cell_type": "code",
   "execution_count": null,
   "metadata": {
    "ExecuteTime": {
     "end_time": "2021-01-23T01:03:49.602351Z",
     "start_time": "2021-01-23T01:03:49.409Z"
    },
    "hidden": true
   },
   "outputs": [],
   "source": [
    "# save_dir = nb_dir+f'/Data/ic_deg_{deg}_0'\n",
    "# np.save(save_dir+f'.npy', arr=out)\n",
    "# np.savez_compressed(save_dir+f'.npz', arr=out)"
   ]
  },
  {
   "cell_type": "code",
   "execution_count": null,
   "metadata": {
    "ExecuteTime": {
     "end_time": "2021-01-23T01:03:49.602881Z",
     "start_time": "2021-01-23T01:03:49.411Z"
    },
    "hidden": true
   },
   "outputs": [],
   "source": [
    "save_dir\n"
   ]
  },
  {
   "cell_type": "markdown",
   "metadata": {
    "ExecuteTime": {
     "end_time": "2020-06-09T18:16:14.846658Z",
     "start_time": "2020-06-09T18:16:14.820532Z"
    },
    "heading_collapsed": true,
    "hidden": true
   },
   "source": [
    "## off topic: get method from trimesh used to calculate volume"
   ]
  },
  {
   "cell_type": "code",
   "execution_count": null,
   "metadata": {
    "ExecuteTime": {
     "end_time": "2021-01-23T01:03:49.603645Z",
     "start_time": "2021-01-23T01:03:49.413Z"
    },
    "hidden": true
   },
   "outputs": [],
   "source": [
    "\n",
    "# from skimage import draw\n",
    "\n",
    "# circle_coords = draw.circle(r=100, c=100, radius=100, shape=(512,512,3))\n",
    "# txt[circle_coords]\n",
    "\n",
    "\n",
    "# compute initial point and final point of line that goes through the circle's center\n",
    "# r0 = 0; c0 = xm - dst\n",
    "# r1 = txt.shape[1]-1; c1 = xm + dsb\n",
    "# draw that circle\n",
    "# line = draw.line(r0, c0, r1, c1)\n",
    "\n",
    "# ym = 512/4; xm = 512/2; #same as circle center\n",
    "# deg   = 45 # number of degrees semicircle is cut by\n",
    "# theta = deg/180*np.pi\n",
    "\n",
    "# #dist to top\n",
    "# dtt = ym\n",
    "# #dist to bottom\n",
    "# dtb = txt.shape[1]-ym-1\n",
    "# #use trig to get dist to sides\n",
    "# dst = int(np.around(np.tan(theta)*dtt))\n",
    "# dsb = int(np.around(np.tan(theta)*dtb))\n",
    "\n",
    "\n",
    "# img = 0*txt[...,0].copy()\n",
    "# line_x = line[0]\n",
    "# color_within_range(x0=512/2,y0=512/4,r=100, out=img, val=10., width=512,height=512)\n"
   ]
  },
  {
   "cell_type": "code",
   "execution_count": null,
   "metadata": {
    "ExecuteTime": {
     "end_time": "2021-01-23T01:03:49.604383Z",
     "start_time": "2021-01-23T01:03:49.415Z"
    },
    "hidden": true
   },
   "outputs": [],
   "source": [
    "!pip3 install trimesh"
   ]
  },
  {
   "cell_type": "code",
   "execution_count": null,
   "metadata": {
    "ExecuteTime": {
     "end_time": "2021-01-23T01:03:49.604943Z",
     "start_time": "2021-01-23T01:03:49.417Z"
    },
    "hidden": true
   },
   "outputs": [],
   "source": [
    "import trimesh\n",
    "# from lib.operari import *\n",
    "# import inspect"
   ]
  },
  {
   "cell_type": "code",
   "execution_count": null,
   "metadata": {
    "ExecuteTime": {
     "end_time": "2021-01-23T01:03:49.605657Z",
     "start_time": "2021-01-23T01:03:49.419Z"
    },
    "hidden": true
   },
   "outputs": [],
   "source": [
    "file_name = 'ic_600x600.101.npz'\n",
    "file_dir = find_files(file_name, search_path=nb_dir)\n",
    "if len(file_dir)==0: raise('file not found')\n",
    "# print(\n",
    "file_dir=file_dir[0]\n",
    "# )\n",
    "# print(sys.path.exists(file_dir))"
   ]
  },
  {
   "cell_type": "code",
   "execution_count": null,
   "metadata": {
    "ExecuteTime": {
     "end_time": "2021-01-23T01:03:49.606295Z",
     "start_time": "2021-01-23T01:03:49.422Z"
    },
    "hidden": true
   },
   "outputs": [],
   "source": [
    "# generate load_mesh from .npz array\n",
    "txt = np.load(file_dir)['arr_0']"
   ]
  },
  {
   "cell_type": "code",
   "execution_count": null,
   "metadata": {
    "ExecuteTime": {
     "end_time": "2021-01-23T01:03:49.607087Z",
     "start_time": "2021-01-23T01:03:49.424Z"
    },
    "hidden": true
   },
   "outputs": [],
   "source": [
    "# #make a log folder\n",
    "make_log_folder(folder_name='Data/log-tmp/')"
   ]
  },
  {
   "cell_type": "code",
   "execution_count": null,
   "metadata": {
    "ExecuteTime": {
     "end_time": "2021-01-23T01:03:49.607757Z",
     "start_time": "2021-01-23T01:03:49.427Z"
    },
    "hidden": true
   },
   "outputs": [],
   "source": [
    "# print(inspect.getsource(trimesh.creation.faces_to_edges))"
   ]
  },
  {
   "cell_type": "code",
   "execution_count": null,
   "metadata": {
    "ExecuteTime": {
     "end_time": "2020-06-09T21:25:26.324333Z",
     "start_time": "2020-06-09T21:25:26.295877Z"
    },
    "hidden": true
   },
   "outputs": [],
   "source": []
  },
  {
   "cell_type": "code",
   "execution_count": null,
   "metadata": {
    "ExecuteTime": {
     "end_time": "2021-01-23T01:03:49.608388Z",
     "start_time": "2021-01-23T01:03:49.429Z"
    },
    "hidden": true
   },
   "outputs": [],
   "source": [
    "# print(inspect.getsource(trimesh.Trimesh.))\n",
    "#     trimesh.Trimesh.mass_properties\n",
    "trimesh.Trimesh.volume"
   ]
  },
  {
   "cell_type": "code",
   "execution_count": null,
   "metadata": {
    "ExecuteTime": {
     "end_time": "2021-01-23T01:03:49.609010Z",
     "start_time": "2021-01-23T01:03:49.431Z"
    },
    "hidden": true
   },
   "outputs": [],
   "source": [
    "trimesh."
   ]
  },
  {
   "cell_type": "markdown",
   "metadata": {
    "ExecuteTime": {
     "end_time": "2020-06-09T21:00:59.766234Z",
     "start_time": "2020-06-09T21:00:59.730141Z"
    },
    "heading_collapsed": true,
    "hidden": true
   },
   "source": [
    "### move the computational geometry ipynbs and lib from rapids-notebook/'trimesh work' over here to python/notebooks/\n",
    "Done on UB"
   ]
  },
  {
   "cell_type": "markdown",
   "metadata": {
    "heading_collapsed": true,
    "hidden": true
   },
   "source": [
    "## distractions"
   ]
  },
  {
   "cell_type": "markdown",
   "metadata": {
    "heading_collapsed": true,
    "hidden": true
   },
   "source": [
    "### TODO(when bored & w/ time): test trimesh.Trimesh.area and trimesh.Trimesh.volume can reproduce the right ratio for a sphere.\n",
    "\n",
    "### TODO: What sized cube yields a unit volume output? Hint: what's the volume for a right tetrahedron?\n",
    "\n",
    "### (and then) TODO: find out this \"surface integral\" that functionaly produces the volume of a watertight triangular mesh"
   ]
  },
  {
   "cell_type": "code",
   "execution_count": null,
   "metadata": {
    "hidden": true
   },
   "outputs": [],
   "source": [
    "\n",
    "\n",
    "\n",
    "\n"
   ]
  },
  {
   "cell_type": "markdown",
   "metadata": {
    "heading_collapsed": true,
    "hidden": true
   },
   "source": [
    "## partition WJ's 600x600 ic into nine 200x200 patches. save\n",
    "each patch is 5cm x 5 cm<br>\n",
    "6.23.2020\n"
   ]
  },
  {
   "cell_type": "code",
   "execution_count": null,
   "metadata": {
    "ExecuteTime": {
     "end_time": "2021-01-23T01:03:49.609558Z",
     "start_time": "2021-01-23T01:03:49.434Z"
    },
    "hidden": true
   },
   "outputs": [],
   "source": [
    "input_fn = search_for_file()"
   ]
  },
  {
   "cell_type": "code",
   "execution_count": null,
   "metadata": {
    "ExecuteTime": {
     "end_time": "2021-01-23T01:03:49.610366Z",
     "start_time": "2021-01-23T01:03:49.436Z"
    },
    "hidden": true
   },
   "outputs": [],
   "source": [
    "txt = load_buffer(input_fn)"
   ]
  },
  {
   "cell_type": "code",
   "execution_count": null,
   "metadata": {
    "ExecuteTime": {
     "end_time": "2021-01-23T01:03:49.610871Z",
     "start_time": "2021-01-23T01:03:49.438Z"
    },
    "hidden": true
   },
   "outputs": [],
   "source": [
    "save_fn = nb_dir+'/Data/initial-conditions/ic_200x200.101.11.npz'\n",
    "txt_out = txt[0:200,0:200]\n",
    "np.savez_compressed(save_fn,txt_out)\n",
    "print(txt_out.shape)"
   ]
  },
  {
   "cell_type": "code",
   "execution_count": null,
   "metadata": {
    "ExecuteTime": {
     "end_time": "2021-01-23T01:03:49.611523Z",
     "start_time": "2021-01-23T01:03:49.441Z"
    },
    "hidden": true
   },
   "outputs": [],
   "source": [
    "save_fn = nb_dir+'/Data/initial-conditions/ic_200x200.101.12.npz'\n",
    "txt_out = txt[200:400,0:200]\n",
    "np.savez_compressed(save_fn,txt_out)\n",
    "print(txt_out.shape)"
   ]
  },
  {
   "cell_type": "code",
   "execution_count": null,
   "metadata": {
    "ExecuteTime": {
     "end_time": "2021-01-23T01:03:49.612244Z",
     "start_time": "2021-01-23T01:03:49.444Z"
    },
    "hidden": true
   },
   "outputs": [],
   "source": [
    "save_fn = nb_dir+'/Data/initial-conditions/ic_200x200.101.13.npz'\n",
    "txt_out = txt[400:600,0:200]\n",
    "np.savez_compressed(save_fn,txt_out)\n",
    "print(txt_out.shape)"
   ]
  },
  {
   "cell_type": "code",
   "execution_count": null,
   "metadata": {
    "ExecuteTime": {
     "end_time": "2021-01-23T01:03:49.612903Z",
     "start_time": "2021-01-23T01:03:49.446Z"
    },
    "hidden": true
   },
   "outputs": [],
   "source": [
    "save_fn = nb_dir+'/Data/initial-conditions/ic_200x200.101.21.npz'\n",
    "txt_out = txt[0:200,200:400]\n",
    "np.savez_compressed(save_fn,txt_out)\n",
    "print(txt_out.shape)"
   ]
  },
  {
   "cell_type": "code",
   "execution_count": null,
   "metadata": {
    "ExecuteTime": {
     "end_time": "2021-01-23T01:03:49.613436Z",
     "start_time": "2021-01-23T01:03:49.449Z"
    },
    "hidden": true
   },
   "outputs": [],
   "source": [
    "save_fn = nb_dir+'/Data/initial-conditions/ic_200x200.101.22.npz'\n",
    "txt_out = txt[200:400,200:400]\n",
    "np.savez_compressed(save_fn,txt_out)\n",
    "print(txt_out.shape)"
   ]
  },
  {
   "cell_type": "code",
   "execution_count": null,
   "metadata": {
    "ExecuteTime": {
     "end_time": "2021-01-23T01:03:49.614287Z",
     "start_time": "2021-01-23T01:03:49.451Z"
    },
    "hidden": true
   },
   "outputs": [],
   "source": [
    "save_fn = nb_dir+'/Data/initial-conditions/ic_200x200.101.23.npz'\n",
    "txt_out = txt[400:600,200:400]\n",
    "np.savez_compressed(save_fn,txt_out)\n",
    "print(txt_out.shape)"
   ]
  },
  {
   "cell_type": "code",
   "execution_count": null,
   "metadata": {
    "ExecuteTime": {
     "end_time": "2021-01-23T01:03:49.614885Z",
     "start_time": "2021-01-23T01:03:49.453Z"
    },
    "hidden": true
   },
   "outputs": [],
   "source": [
    "save_fn = nb_dir+'/Data/initial-conditions/ic_200x200.101.31.npz'\n",
    "txt_out = txt[0:200,400:600]\n",
    "np.savez_compressed(save_fn,txt_out)\n",
    "print(txt_out.shape)"
   ]
  },
  {
   "cell_type": "code",
   "execution_count": null,
   "metadata": {
    "ExecuteTime": {
     "end_time": "2021-01-23T01:03:49.615448Z",
     "start_time": "2021-01-23T01:03:49.455Z"
    },
    "hidden": true
   },
   "outputs": [],
   "source": [
    "save_fn = nb_dir+'/Data/initial-conditions/ic_200x200.101.32.npz'\n",
    "txt_out = txt[200:400,400:600]\n",
    "np.savez_compressed(save_fn,txt_out)\n",
    "print(txt_out.shape)"
   ]
  },
  {
   "cell_type": "code",
   "execution_count": null,
   "metadata": {
    "ExecuteTime": {
     "end_time": "2021-01-23T01:03:49.616272Z",
     "start_time": "2021-01-23T01:03:49.457Z"
    },
    "hidden": true
   },
   "outputs": [],
   "source": [
    "save_fn = nb_dir+'/Data/initial-conditions/ic_200x200.101.33.npz'\n",
    "txt_out = txt[400:600,400:600]\n",
    "np.savez_compressed(save_fn,txt_out)\n",
    "print(txt_out.shape)"
   ]
  },
  {
   "cell_type": "markdown",
   "metadata": {
    "heading_collapsed": true,
    "hidden": true
   },
   "source": [
    "## file IO method that compresses numpy arrays.  \n",
    "8.13.2020\n",
    "- TODO: see whether this compressed array format can store 3 channels of float instances at each pixel"
   ]
  },
  {
   "cell_type": "code",
   "execution_count": null,
   "metadata": {
    "ExecuteTime": {
     "end_time": "2021-01-23T01:03:49.616873Z",
     "start_time": "2021-01-23T01:03:49.459Z"
    },
    "hidden": true
   },
   "outputs": [],
   "source": [
    "class IC_File(object):\n",
    "    r\"\"\"Describe the class\"\"\"\n",
    "    def __init__(self, folder, file_name):\n",
    "        os.chdir(folder)\n",
    "        f= open(file_name,\"ab\") #write to binary file: 'wb' ) )\n",
    "        data = read_array(f)\n",
    "        self.data = data\n",
    "        # for i in range(10):\n",
    "        #   f.write(\"This is line %d\\r\\n\" % (i+1))\n",
    "        f.close()\n",
    "        self.folder = folder\n",
    "        self.file_name = file_name\n",
    "        \n",
    "        self.width = None\n",
    "        self.height= None\n",
    "        self.xres = None\n",
    "        self.yres = None\n",
    "        \n",
    "    def shape(self):\n",
    "        return np.array((self.width,self.height), dtype=np.int)\n",
    "    def area(self):\n",
    "        shape = self.shape()\n",
    "        da = self.xres()*self.yres()\n",
    "        return da*shape[0]*shape[1]\n",
    "    \n",
    "def compress_array(array, save_file='data.pkl.lzma'):\n",
    "    '''array is a numpy array.'''\n",
    "    import pickle, gzip, lzma, bz2\n",
    "    data = array\n",
    "    # pickle.dump( data, gzip.open( 'data.pkl.gz',   'wb' ) ) # inferior to lzma\n",
    "    pickle.dump( data, lzma.open( save_file, 'wb' ) )\n",
    "    # pickle.dump( data,  bz2.open( 'data.pkl.bz2',  'wb' ) ) # inferior to lzma\n",
    "    \n",
    "def append_array(array, save_file='data.pkl.lzma'):\n",
    "    '''array is a numpy array.'''\n",
    "    import pickle, gzip, lzma, bz2\n",
    "    data = array\n",
    "    # pickle.dump( data, gzip.open( 'data.pkl.gz',   'wb' ) ) # inferior to lzma\n",
    "#     pickle.dump( data, lzma.open( save_file, 'ab' ) ) # slightly smaller file size\n",
    "    pickle.dump( data,  bz2.open( 'data.pkl.bz2',  'wb' ) ) # better loading speed for non-random numpy arrays"
   ]
  },
  {
   "cell_type": "code",
   "execution_count": null,
   "metadata": {
    "ExecuteTime": {
     "end_time": "2021-01-23T01:03:49.617689Z",
     "start_time": "2021-01-23T01:03:49.462Z"
    },
    "hidden": true
   },
   "outputs": [],
   "source": [
    "!pip install hickle"
   ]
  },
  {
   "cell_type": "code",
   "execution_count": null,
   "metadata": {
    "ExecuteTime": {
     "end_time": "2021-01-23T01:03:49.618179Z",
     "start_time": "2021-01-23T01:03:49.464Z"
    },
    "hidden": true
   },
   "outputs": [],
   "source": [
    "#consider using a hdf5 file structure to efficiently store numpy arrays using hickle!\n",
    "import hickle as hkl \n",
    "\n",
    "data = { 'name' : 'test', 'data_arr' : [1, 2, 3, 4] }\n",
    "\n",
    "# Dump data to file\n",
    "hkl.dump( data, 'new_data_file.hkl' )\n",
    "\n",
    "# Load data from file\n",
    "data2 = hkl.load( 'new_data_file.hkl' )\n",
    "\n",
    "print( data == data2 )"
   ]
  },
  {
   "cell_type": "markdown",
   "metadata": {
    "hidden": true
   },
   "source": [
    "There also is the possibility to \"pickle\" directly into a compressed archive by doing:"
   ]
  },
  {
   "cell_type": "code",
   "execution_count": null,
   "metadata": {
    "ExecuteTime": {
     "end_time": "2021-01-23T01:03:49.618890Z",
     "start_time": "2021-01-23T01:03:49.468Z"
    },
    "hidden": true
   },
   "outputs": [],
   "source": [
    "folder = fi"
   ]
  },
  {
   "cell_type": "markdown",
   "metadata": {
    "heading_collapsed": true,
    "hidden": true
   },
   "source": [
    "### TODO: use dask to load/write these files (check chrome!)"
   ]
  },
  {
   "cell_type": "markdown",
   "metadata": {
    "heading_collapsed": true,
    "hidden": true
   },
   "source": [
    "## partition WJ's 600x600 ic into nine 200x200 patches. save\n",
    "each patch is 5cm x 5 cm<br>\n",
    "6.23.2020\n"
   ]
  },
  {
   "cell_type": "code",
   "execution_count": null,
   "metadata": {
    "ExecuteTime": {
     "end_time": "2020-08-13T19:47:58.991043Z",
     "start_time": "2020-08-13T19:47:58.987725Z"
    },
    "hidden": true
   },
   "outputs": [],
   "source": []
  },
  {
   "cell_type": "code",
   "execution_count": null,
   "metadata": {
    "ExecuteTime": {
     "end_time": "2021-01-23T01:03:49.619570Z",
     "start_time": "2021-01-23T01:03:49.471Z"
    },
    "hidden": true
   },
   "outputs": [],
   "source": [
    "# def load_fortran(input_fn):\n",
    "#     #load txt\n",
    "#     arr = np.loadtxt(input_fn)\n",
    "#     #WJ's files come to 16 digits of machine precision.\n",
    "#     arr = arr.astype(dtype = np.float64, casting='same_kind', order='C', copy=False)\n",
    "\n",
    "#     N = arr.shape[0]\n",
    "#     n = np.sqrt(N)\n",
    "#     if not n == np.int(n):\n",
    "#         raise Exception('Error: Input array is not a square matrix!')\n",
    "#     n = int(n)\n",
    "#     arr = arr.reshape(n,n,arr.shape[-1], order='C')\n",
    "#     return arr"
   ]
  },
  {
   "cell_type": "code",
   "execution_count": null,
   "metadata": {
    "ExecuteTime": {
     "end_time": "2021-01-23T01:03:49.620300Z",
     "start_time": "2021-01-23T01:03:49.474Z"
    },
    "hidden": true
   },
   "outputs": [],
   "source": [
    "# def _precision(arr):\n",
    "#     val = arr[0,0]\n",
    "#     return ( precision := len(str(val))-2 )\n",
    "# def _dtype(arr):\n",
    "#     val = arr[0,0]\n",
    "#     return ( dtype := type(val) )"
   ]
  },
  {
   "cell_type": "code",
   "execution_count": null,
   "metadata": {
    "ExecuteTime": {
     "end_time": "2021-01-23T01:03:49.620917Z",
     "start_time": "2021-01-23T01:03:49.476Z"
    },
    "hidden": true
   },
   "outputs": [],
   "source": [
    "input_fn = search_for_file()"
   ]
  },
  {
   "cell_type": "code",
   "execution_count": null,
   "metadata": {
    "ExecuteTime": {
     "end_time": "2021-01-23T01:03:49.621472Z",
     "start_time": "2021-01-23T01:03:49.479Z"
    },
    "hidden": true
   },
   "outputs": [],
   "source": [
    "#TODO: test that the input_fn is given as the absolute file path and fix it if it isn't\n",
    "base_folder = '/'+os.path.join(*input_fn.split('/')[:-2])#+'/ds_5_param_set_8/trajectories/'\n",
    "\n",
    "\n",
    "precision = _precision(arr)\n",
    "dtype = _dtype(arr)\n",
    "\n",
    "# val = arr[0,0]\n",
    "# arr = arr.astype(dtype = np.float16, casting='same_kind', order='F', copy=False)\n",
    "\n",
    "os.chdir(tmp_folder)\n",
    "tmp_fn = file_name+'.npz'\n",
    "# np.savez_compressed(tmp_fn,arr)\n",
    "# txt = load_buffer(tmp_fn)\n",
    "txt = arr\n",
    "\n",
    "# sub_id = 33\n",
    "# initial_condition_dir = nb_dir + f'/Data/initial-conditions/ic_200x200.101.{sub_id}.npz'\n",
    "tip_position_dir = tip_log_dir.replace('.csv','_processed.csv')\n",
    "save_folder_traj = '/'+os.path.join(*initial_condition_dir.split('/')[:-2])+'/ds_5_param_set_8/trajectories/'\n",
    "birth_death_dir = '/'.join(save_folder_traj.split('/')[:-2])+'/birth-death-rates'\n"
   ]
  },
  {
   "cell_type": "code",
   "execution_count": null,
   "metadata": {
    "ExecuteTime": {
     "end_time": "2021-01-23T01:03:49.622389Z",
     "start_time": "2021-01-23T01:03:49.481Z"
    },
    "hidden": true
   },
   "outputs": [],
   "source": [
    "# def chunk_600x600_into_ninths(txt,file_name, save_folder):\n",
    "#     '''suppose file_name is a bare string with no extension such as \".npz\"\n",
    "#     suppose txt is a numpy array that is (600,600,The_Rest)\n",
    "#     '''\n",
    "#     os.chdir(save_folder)\n",
    "#     save_fn = file_name+'.11.npz'\n",
    "#     txt_out = txt[0:200,0:200]\n",
    "#     np.savez_compressed(save_fn,txt_out)\n",
    "\n",
    "#     save_fn = file_name+'.12.npz'\n",
    "#     txt_out = txt[200:400,0:200]\n",
    "#     np.savez_compressed(save_fn,txt_out)\n",
    "\n",
    "#     save_fn = file_name+'.13.npz'\n",
    "#     txt_out = txt[400:600,0:200]\n",
    "#     np.savez_compressed(save_fn,txt_out)\n",
    "\n",
    "#     save_fn = file_name+'.21.npz'\n",
    "#     txt_out = txt[0:200,200:400]\n",
    "#     np.savez_compressed(save_fn,txt_out)\n",
    "\n",
    "#     save_fn = file_name+'.22.npz'\n",
    "#     txt_out = txt[200:400,200:400]\n",
    "#     np.savez_compressed(save_fn,txt_out)\n",
    "\n",
    "#     save_fn = file_name+'.23.npz'\n",
    "#     txt_out = txt[400:600,200:400]\n",
    "#     np.savez_compressed(save_fn,txt_out)\n",
    "\n",
    "#     save_fn = file_name+'.31.npz'\n",
    "#     txt_out = txt[0:200,400:600]\n",
    "#     np.savez_compressed(save_fn,txt_out)\n",
    "\n",
    "#     save_fn = file_name+'.32.npz'\n",
    "#     txt_out = txt[200:400,400:600]\n",
    "#     np.savez_compressed(save_fn,txt_out)\n",
    "\n",
    "#     save_fn = file_name+'.33.npz'\n",
    "#     txt_out = txt[400:600,400:600]\n",
    "#     np.savez_compressed(save_fn,txt_out)\n",
    "#     return True"
   ]
  },
  {
   "cell_type": "markdown",
   "metadata": {
    "heading_collapsed": true,
    "hidden": true
   },
   "source": [
    "## functionally convert one of WJ's 600x600 ic_files into nine 200x200 ic_files\n",
    "each patch is 5cm x 5 cm<br>\n",
    "8.13.2020\n"
   ]
  },
  {
   "cell_type": "code",
   "execution_count": null,
   "metadata": {
    "ExecuteTime": {
     "end_time": "2020-08-13T20:31:03.753053Z",
     "start_time": "2020-08-13T20:31:03.730570Z"
    },
    "hidden": true
   },
   "outputs": [],
   "source": []
  },
  {
   "cell_type": "code",
   "execution_count": null,
   "metadata": {
    "ExecuteTime": {
     "end_time": "2021-01-23T01:03:49.622964Z",
     "start_time": "2021-01-23T01:03:49.483Z"
    },
    "hidden": true
   },
   "outputs": [],
   "source": [
    "chunk_600x600_into_ninths(txt=arr,file_name=file_name.replace('600','200'), save_folder=save_folder)"
   ]
  },
  {
   "cell_type": "code",
   "execution_count": null,
   "metadata": {
    "ExecuteTime": {
     "end_time": "2021-01-23T01:03:49.623676Z",
     "start_time": "2021-01-23T01:03:49.485Z"
    },
    "hidden": true
   },
   "outputs": [],
   "source": [
    "os.system('ls')"
   ]
  },
  {
   "cell_type": "code",
   "execution_count": null,
   "metadata": {
    "ExecuteTime": {
     "end_time": "2021-01-23T01:03:49.624352Z",
     "start_time": "2021-01-23T01:03:49.487Z"
    },
    "hidden": true
   },
   "outputs": [],
   "source": [
    "#list all files in the cwd\n",
    "file_list = os.listdir()\n",
    "in_fn = file_list[0]"
   ]
  },
  {
   "cell_type": "code",
   "execution_count": null,
   "metadata": {
    "ExecuteTime": {
     "end_time": "2021-01-23T01:03:49.625013Z",
     "start_time": "2021-01-23T01:03:49.490Z"
    },
    "hidden": true
   },
   "outputs": [],
   "source": [
    "#load a .npz file\n",
    "txt = load_buffer(in_fn)"
   ]
  },
  {
   "cell_type": "code",
   "execution_count": null,
   "metadata": {
    "ExecuteTime": {
     "end_time": "2021-01-23T01:03:49.625521Z",
     "start_time": "2021-01-23T01:03:49.493Z"
    },
    "hidden": true
   },
   "outputs": [],
   "source": [
    "def parse_input_fn(input_fn):\n",
    "    '''file_name, input_folder, output_folder, tmp_folder = parse_input_fn(input_fn)\n",
    "    changes to input_folder in the local scope.'''\n",
    "    file_name     = input_fn.split('/')[-1]\n",
    "    input_folder  = '/'+os.path.join(*input_fn.split('/')[:-1])\n",
    "    os.chdir(input_folder)\n",
    "    if not os.path.isabs(input_folder):\n",
    "        input_folder = os.getcwd()\n",
    "    base_folder   = '/'+os.path.join(*input_folder.split('/')[:-1])\n",
    "    tmp_folder    = base_folder+'/ic-tmp'\n",
    "    output_folder = base_folder+'/ic-in'\n",
    "    return file_name, input_folder, output_folder, tmp_folder"
   ]
  },
  {
   "cell_type": "markdown",
   "metadata": {},
   "source": [
    "# Create Initial Conditions That Result in Spiral Defect Chaos for the Luo-Rudy model\n",
    "Tim Tyree<br>\n",
    "1.15.2021"
   ]
  },
  {
   "cell_type": "markdown",
   "metadata": {
    "heading_collapsed": true
   },
   "source": [
    "## initialize a 600x600 square computational domain with the correct number of channels and as repolarized excitable myocardial tissue"
   ]
  },
  {
   "cell_type": "code",
   "execution_count": 6,
   "metadata": {
    "ExecuteTime": {
     "end_time": "2021-01-26T01:23:45.346667Z",
     "start_time": "2021-01-26T01:23:45.329236Z"
    },
    "hidden": true
   },
   "outputs": [],
   "source": [
    "def get_blank_txt_LR(width,height,V_initial=-85.,Ca_i_initial = 2*10**-4):\n",
    "    zero_c2=np.zeros(shape=(width,height,2), dtype=np.float64, order='C')\n",
    "    zero_c6=np.zeros(shape=(width,height,6), dtype=np.float64, order='C')\n",
    "    #allocate memory to texture\n",
    "    inVc=zero_c2.copy()\n",
    "    inVc[...,0]+=V_initial\n",
    "    inVc[...,1]+=Ca_i_initial\n",
    "    outVc=inVc.copy()\n",
    "    inmhjdfx=zero_c6.copy()\n",
    "    #open the gates that are open at equilibrium at the resting potential (h, j, f)\n",
    "    inmhjdfx[...,1]=1.\n",
    "    inmhjdfx[...,2]=1.\n",
    "    inmhjdfx[...,4]=1.\n",
    "    outmhjdfx=inmhjdfx.copy()\n",
    "    dVcdt=zero_c2.copy()\n",
    "    txt=stack_txt(inVc,outVc,inmhjdfx,outmhjdfx,dVcdt)\n",
    "    return txt"
   ]
  },
  {
   "cell_type": "code",
   "execution_count": 27,
   "metadata": {
    "ExecuteTime": {
     "end_time": "2021-01-26T01:34:09.756657Z",
     "start_time": "2021-01-26T01:34:07.642624Z"
    },
    "hidden": true
   },
   "outputs": [],
   "source": [
    "\n",
    "#(not terribly useful) get the forward integrate kernel\n",
    "# forward_integrate_kernel= get_forward_integrate_kernel(nb_dir,dt,width,height,ds,diffCoef=0.001,Cm=1.)"
   ]
  },
  {
   "cell_type": "code",
   "execution_count": 44,
   "metadata": {
    "ExecuteTime": {
     "end_time": "2021-01-26T01:38:38.048855Z",
     "start_time": "2021-01-26T01:38:35.601400Z"
    },
    "hidden": true
   },
   "outputs": [],
   "source": [
    "width=600\n",
    "height=600\n",
    "ds=15.0\n",
    "dt,one_step_map=get_one_step_map(\n",
    "    nb_dir,\n",
    "    dt=0.1,\n",
    "    width=width,height=height,ds=ds,\n",
    "    diffCoef=0.001,dsdpixel=ds/width,\n",
    "    Cm=1.0,\n",
    ")\n",
    "txt= get_blank_txt_LR(width,height,V_initial=-85.,Ca_i_initial = 2*10**-4)\n"
   ]
  },
  {
   "cell_type": "markdown",
   "metadata": {
    "hidden": true
   },
   "source": [
    "### DONE: test - time step a number of times and verify that nothing happens"
   ]
  },
  {
   "cell_type": "code",
   "execution_count": 45,
   "metadata": {
    "ExecuteTime": {
     "end_time": "2021-01-26T01:38:56.820414Z",
     "start_time": "2021-01-26T01:38:42.543617Z"
    },
    "hidden": true
   },
   "outputs": [],
   "source": [
    "txt_prv=txt.copy()\n",
    "for n in range(50):\n",
    "    one_step_map(txt,txt_Istim_none)\n",
    "txt_nxt=txt.copy()"
   ]
  },
  {
   "cell_type": "code",
   "execution_count": 46,
   "metadata": {
    "ExecuteTime": {
     "end_time": "2021-01-26T01:38:57.078848Z",
     "start_time": "2021-01-26T01:38:57.035884Z"
    },
    "hidden": true
   },
   "outputs": [],
   "source": [
    "delta_txt=txt_nxt-txt_prv"
   ]
  },
  {
   "cell_type": "code",
   "execution_count": 47,
   "metadata": {
    "ExecuteTime": {
     "end_time": "2021-01-26T01:38:57.764106Z",
     "start_time": "2021-01-26T01:38:57.682459Z"
    },
    "hidden": true
   },
   "outputs": [
    {
     "data": {
      "image/png": "[encoded data removed]",
      "text/plain": [
       "<Figure size 432x288 with 1 Axes>"
      ]
     },
     "metadata": {
      "needs_background": "light"
     },
     "output_type": "display_data"
    }
   ],
   "source": [
    "chnl=17\n",
    "img=delta_txt[...,chnl]\n",
    "plt.imshow(img,cmap='gray')\n",
    "plt.axis('off')\n",
    "plt.title(f'channel {chnl}',c='w',fontsize=22)\n",
    "plt.show()"
   ]
  },
  {
   "cell_type": "code",
   "execution_count": 48,
   "metadata": {
    "ExecuteTime": {
     "end_time": "2021-01-26T01:39:00.234160Z",
     "start_time": "2021-01-26T01:39:00.153320Z"
    },
    "hidden": true
   },
   "outputs": [
    {
     "name": "stdout",
     "output_type": "stream",
     "text": [
      "max absolute differences between input and output, by channel\n",
      "0.17058908051171784\n",
      "5.911731792321352e-05\n",
      "0.17058908051171784\n",
      "5.911731792321352e-05\n",
      "0.0015897566525638032\n",
      "0.011720206585876913\n",
      "0.0026551348863671498\n",
      "0.0013412403736155108\n",
      "1.5857819731790457e-06\n",
      "0.00012010460821383368\n",
      "0.0015897566525638032\n",
      "0.011720206585876913\n",
      "0.0026551348863671498\n",
      "0.0013412403736155108\n",
      "1.5857819731790457e-06\n",
      "0.00012010460821383368\n",
      "0.013434385876903857\n",
      "9.853964442275635e-06\n"
     ]
    }
   ],
   "source": [
    "print('max absolute differences between input and output, by channel')\n",
    "for chnl in range(18):\n",
    "    img=delta_txt[...,chnl]\n",
    "    print(np.max(np.abs(img)))"
   ]
  },
  {
   "cell_type": "markdown",
   "metadata": {
    "heading_collapsed": true
   },
   "source": [
    "# define txt_Istim textures that give a line stimulus of constant electric flux\n"
   ]
  },
  {
   "cell_type": "code",
   "execution_count": 79,
   "metadata": {
    "ExecuteTime": {
     "end_time": "2021-01-26T02:16:21.770138Z",
     "start_time": "2021-01-26T02:16:21.744050Z"
    },
    "hidden": true
   },
   "outputs": [
    {
     "name": "stdout",
     "output_type": "stream",
     "text": [
      "# of channels is 18.\n"
     ]
    }
   ],
   "source": [
    "chnlno=2+2+6+6+2\n",
    "# txt= get_blank_txt_LR(width,height,V_initial=-85.,Ca_i_initial = 2*10**-4)\n",
    "width=600;height=600\n",
    "zero_c2=np.zeros(shape=(width,height,2), dtype=np.float64, order='C')\n",
    "zero_c6=np.zeros(shape=(width,height,6), dtype=np.float64, order='C')\n",
    "print(f\"# of channels is {chnlno}.\")\n",
    "\n",
    "mag=-10\n",
    "txt_Istim=zero_c2[...,0].copy()\n",
    "txt_Istim[:,:5]=mag\n",
    "txt_Istim_left=txt_Istim.copy()\n",
    "\n",
    "mag=-10\n",
    "txt_Istim=zero_c2[...,0].copy()\n",
    "txt_Istim[300:305,:]=mag\n",
    "txt_Istim_top=txt_Istim.copy()\n",
    "\n",
    "txt_Istim_none=zero_c2[...,0].copy()"
   ]
  },
  {
   "cell_type": "code",
   "execution_count": 81,
   "metadata": {
    "ExecuteTime": {
     "end_time": "2021-01-26T02:16:31.970059Z",
     "start_time": "2021-01-26T02:16:31.901566Z"
    },
    "hidden": true
   },
   "outputs": [],
   "source": [
    "#make initialization conditions for a semicircular stimulus on the left\n",
    "deg = 45\n",
    "x0 = 600/4\n",
    "y0 = 600/2\n",
    "mag=-10\n",
    "from lib.controller.draw import *\n",
    "\n",
    "txt_Istim=get_semicircle(zero_c2,deg,x0,y0)\n",
    "txt_Istim*=mag\n",
    "txt_Istim_semi=txt_Istim.copy()"
   ]
  },
  {
   "cell_type": "code",
   "execution_count": 82,
   "metadata": {
    "ExecuteTime": {
     "end_time": "2021-01-26T02:16:32.731393Z",
     "start_time": "2021-01-26T02:16:32.623604Z"
    },
    "hidden": true
   },
   "outputs": [
    {
     "data": {
      "image/png": "[encoded data removed]",
      "text/plain": [
       "<Figure size 432x648 with 3 Axes>"
      ]
     },
     "metadata": {},
     "output_type": "display_data"
    }
   ],
   "source": [
    "fig,axs=plt.subplots(ncols=3,figsize=(6,9))\n",
    "ax=axs[0]\n",
    "ax.imshow(-txt_Istim_left,cmap='gray')#,vmin=-10, vmax=15)\n",
    "ax.axis('off')\n",
    "ax=axs[1]\n",
    "ax.imshow(-txt_Istim_top,cmap='gray')#,vmin=-10, vmax=15)\n",
    "ax.axis('off')\n",
    "ax=axs[2]\n",
    "ax.imshow(-txt_Istim_semi,cmap='gray')#,vmin=-10, vmax=15)\n",
    "ax.axis('off')\n",
    "plt.show()"
   ]
  },
  {
   "cell_type": "markdown",
   "metadata": {
    "heading_collapsed": true
   },
   "source": [
    "# (ignore) dev CUDA"
   ]
  },
  {
   "cell_type": "markdown",
   "metadata": {
    "heading_collapsed": true,
    "hidden": true
   },
   "source": [
    "## (working brainwarmer) compute the coordinate textures using numba.cuda.jit"
   ]
  },
  {
   "cell_type": "code",
   "execution_count": null,
   "metadata": {
    "ExecuteTime": {
     "end_time": "2021-01-23T01:03:49.633833Z",
     "start_time": "2021-01-23T01:03:49.521Z"
    },
    "hidden": true
   },
   "outputs": [],
   "source": [
    "txt=get_blank_txt_LR(width,height,V_initial=-85.,Ca_i_initial = 2*10**-4)\n",
    "t=0.\n",
    "\n",
    "#test onestep methods\n",
    "kernelA(txt,txt_Istim_left)\n",
    "kernelB(txt,txt_Istim_left)"
   ]
  },
  {
   "cell_type": "code",
   "execution_count": null,
   "metadata": {
    "ExecuteTime": {
     "end_time": "2021-01-23T01:03:49.634723Z",
     "start_time": "2021-01-23T01:03:49.523Z"
    },
    "hidden": true
   },
   "outputs": [],
   "source": [
    "import numba.cuda as cuda\n",
    "from lib.controller.one_step_splitting_cuda_kernels import *\n"
   ]
  },
  {
   "cell_type": "code",
   "execution_count": null,
   "metadata": {
    "ExecuteTime": {
     "end_time": "2021-01-23T01:03:49.635288Z",
     "start_time": "2021-01-23T01:03:49.526Z"
    },
    "hidden": true
   },
   "outputs": [],
   "source": [
    "@cuda.jit('void(int32[:], int32[:], int32[:,:])')\n",
    "def foo(aryA, aryB,aryC):\n",
    "    for n,A in enumerate(aryA):\n",
    "        for m,B in enumerate(aryB):\n",
    "            aryC[n,m]=A+B\n",
    "\n",
    "griddim = 100, 2\n",
    "blockdim = 3, 3\n",
    "width=600\n",
    "height=600\n",
    "aryA=np.zeros(width,dtype=np.int32)\n",
    "aryB=np.arange(height)#np.zeros(height,dtype=np.float64)\n",
    "ndim=aryA.shape[0]\n",
    "mdim=aryB.shape[0]\n",
    "aryC=np.zeros(shape=(ndim,mdim),dtype=np.int32)\n",
    "\n",
    "foo[griddim, blockdim](aryA, aryB, aryC)\n",
    "xcoord=aryC.copy()\n",
    "foo[griddim, blockdim](aryB, aryA, aryC)\n",
    "ycoord=aryC.copy()\n",
    "\n",
    "\n",
    "\n",
    "# one_step_kernel=cuda.jit(one_step_map_w_Istim)"
   ]
  },
  {
   "cell_type": "code",
   "execution_count": null,
   "metadata": {
    "ExecuteTime": {
     "end_time": "2021-01-23T01:03:49.635912Z",
     "start_time": "2021-01-23T01:03:49.528Z"
    },
    "hidden": true
   },
   "outputs": [],
   "source": [
    "foo[griddim, blockdim](aryB, aryA, aryC)\n"
   ]
  },
  {
   "cell_type": "code",
   "execution_count": null,
   "metadata": {
    "ExecuteTime": {
     "end_time": "2021-01-23T01:03:49.636590Z",
     "start_time": "2021-01-23T01:03:49.530Z"
    },
    "hidden": true
   },
   "outputs": [],
   "source": [
    "bpg = 50\n",
    "tpb = 32\n",
    "n = bpg * tpb\n",
    "\n",
    "@cuda.jit('(float32[:,:], float32[:,:], float32[:,:])', target='gpu')\n",
    "def cu_square_matrix_mul(A, B, C):\n",
    "    sA = cuda.shared.array(shape=(tpb, tpb), dtype=float32)\n",
    "    sB = cuda.shared.array(shape=(tpb, tpb), dtype=float32)\n",
    "\n",
    "    tx = cuda.threadIdx.x\n",
    "    ty = cuda.threadIdx.y\n",
    "    bx = cuda.blockIdx.x\n",
    "    by = cuda.blockIdx.y\n",
    "    bw = cuda.blockDim.x\n",
    "    bh = cuda.blockDim.y\n",
    "\n",
    "    x = tx + bx * bw\n",
    "    y = ty + by * bh\n",
    "\n",
    "    acc = 0.\n",
    "    for i in range(bpg):\n",
    "        if x < n and y < n:\n",
    "            sA[ty, tx] = A[y, tx + i * tpb]\n",
    "            sB[ty, tx] = B[ty + i * tpb, x]\n",
    "\n",
    "        cuda.syncthreads()\n",
    "\n",
    "        if x < n and y < n:\n",
    "            for j in range(tpb):\n",
    "                acc += sA[ty, j] * sB[j, tx]\n",
    "\n",
    "        cuda.syncthreads()\n",
    "\n",
    "    if x < n and y < n:\n",
    "        C[y, x] = acc"
   ]
  },
  {
   "cell_type": "code",
   "execution_count": null,
   "metadata": {
    "ExecuteTime": {
     "end_time": "2021-01-23T01:03:49.637332Z",
     "start_time": "2021-01-23T01:03:49.532Z"
    },
    "hidden": true
   },
   "outputs": [],
   "source": [
    "O=np.ones((4,4))\n",
    "out=O.copy()\n",
    "cu_square_matrix_mul(O, O, out)"
   ]
  },
  {
   "cell_type": "markdown",
   "metadata": {
    "heading_collapsed": true,
    "hidden": true
   },
   "source": [
    "## use cuda.grid?\n",
    "source:\n",
    "\n",
    "https://towardsdatascience.com/better-parallelization-with-numba-3a41ca69452e"
   ]
  },
  {
   "cell_type": "code",
   "execution_count": null,
   "metadata": {
    "ExecuteTime": {
     "end_time": "2021-01-23T01:03:49.637976Z",
     "start_time": "2021-01-23T01:03:49.534Z"
    },
    "hidden": true
   },
   "outputs": [],
   "source": [
    "@cuda.jit\n",
    "def get_nearby_kernel(coord1, coord2, max_dist, out):\n",
    "    start = cuda.grid(1)\n",
    "    stride = cuda.gridsize(1)\n",
    "    lat_filter = max_dist / 100\n",
    "    \n",
    "    for i in range(start, coord1.shape[0], stride):\n",
    "        ct = 0\n",
    "        _lat1 = coord1[i,0]\n",
    "        _lng1 = coord1[i,1]\n",
    "        \n",
    "        for j in range(coord2.shape[0]):\n",
    "            _lat2 = coord2[j,0]\n",
    "            _lng2 = coord2[j,1]\n",
    "            # escape condition if latitudes are too far apart\n",
    "            if math.fabs(_lat1 - _lat2) <= lat_filter:\n",
    "                dist = haversine_cuda(_lat1, _lng1, _lat2, _lng2)\n",
    "                if dist < max_dist:ct += 1\n",
    "                \n",
    "        out[i] = ct"
   ]
  },
  {
   "cell_type": "markdown",
   "metadata": {
    "heading_collapsed": true,
    "hidden": true
   },
   "source": [
    "## (not working) waste a horrid amount of time trying to GPU accelerate a working CPU kernel.  Idiot.\n",
    "test a new one_step_kernel that adds the input Istim to Iion\n",
    "- TODO(later): accelerate ^this with CUDA"
   ]
  },
  {
   "cell_type": "code",
   "execution_count": null,
   "metadata": {
    "ExecuteTime": {
     "end_time": "2021-01-23T01:03:49.638522Z",
     "start_time": "2021-01-23T01:03:49.536Z"
    },
    "hidden": true
   },
   "outputs": [],
   "source": [
    "from lib.controller.one_step_splitting_kernels import *\n",
    "from numba import cuda\n",
    "print ( cuda.is_available() )\n",
    "print ( cuda.detect() )"
   ]
  },
  {
   "cell_type": "code",
   "execution_count": null,
   "metadata": {
    "ExecuteTime": {
     "end_time": "2021-01-23T01:03:49.639170Z",
     "start_time": "2021-01-23T01:03:49.538Z"
    },
    "hidden": true
   },
   "outputs": [],
   "source": [
    "#initialize txt\n",
    "txt=get_blank_txt_LR(width,height,V_initial=-85.,Ca_i_initial = 2*10**-4)\n",
    "t=0."
   ]
  },
  {
   "cell_type": "code",
   "execution_count": null,
   "metadata": {
    "ExecuteTime": {
     "end_time": "2021-01-23T01:03:49.639931Z",
     "start_time": "2021-01-23T01:03:49.540Z"
    },
    "hidden": true
   },
   "outputs": [],
   "source": [
    "#multiple streams should have a common context\n",
    "# drv=cuda.driver.Driver()\n",
    "# drv.initialize()\n",
    "# handle=drv.pop_active_context()\n",
    "# stream=ctx.create_stream()"
   ]
  },
  {
   "cell_type": "code",
   "execution_count": null,
   "metadata": {
    "ExecuteTime": {
     "end_time": "2021-01-23T01:03:49.640567Z",
     "start_time": "2021-01-23T01:03:49.542Z"
    },
    "hidden": true
   },
   "outputs": [],
   "source": [
    "d_txt=cuda.to_device(txt,stream=stream)\n",
    "d_txt_Istim_left=cuda.to_device(txt_Istim_left,stream=stream)\n",
    "\n",
    "griddim = 100, 3\n",
    "blockdim = 3, 3\n",
    "stream=cuda.stream()\n",
    "sharedmem=10*(d_txt.size+d_txt_Istim_left.size)\n"
   ]
  },
  {
   "cell_type": "code",
   "execution_count": null,
   "metadata": {
    "ExecuteTime": {
     "end_time": "2021-01-23T01:03:49.641162Z",
     "start_time": "2021-01-23T01:03:49.544Z"
    },
    "hidden": true
   },
   "outputs": [],
   "source": [
    "# forward_integrate_kernel= get_forward_integrate_kernel(nb_dir,dt,width,height,ds,stream,diffCoef=0.001,Cm=1.)\n"
   ]
  },
  {
   "cell_type": "code",
   "execution_count": null,
   "metadata": {
    "ExecuteTime": {
     "end_time": "2021-01-23T01:03:49.641654Z",
     "start_time": "2021-01-23T01:03:49.546Z"
    },
    "hidden": true
   },
   "outputs": [],
   "source": [
    "# nsteps=1000\n",
    "# forward_integrate_kernel[griddim, blockdim, stream, sharedmem](d_txt,d_txt_Istim_left,nsteps)\n",
    "\n",
    "# retval=d_txt.to_host()\n",
    "# cuda.close()\n"
   ]
  },
  {
   "cell_type": "code",
   "execution_count": null,
   "metadata": {
    "ExecuteTime": {
     "end_time": "2021-01-23T01:03:49.642251Z",
     "start_time": "2021-01-23T01:03:49.549Z"
    },
    "hidden": true
   },
   "outputs": [],
   "source": [
    "dt, kernelA, kernelB=get_one_step_explicit_synchronous_splitting_w_Istim_kernel(nb_dir,dt,width,height,ds,stream)"
   ]
  },
  {
   "cell_type": "code",
   "execution_count": null,
   "metadata": {
    "ExecuteTime": {
     "end_time": "2021-01-23T01:03:49.642957Z",
     "start_time": "2021-01-23T01:03:49.552Z"
    },
    "hidden": true
   },
   "outputs": [],
   "source": [
    "# forward_integrate_kernel=get_forward_integrate_kernel(kernelA, kernelB, griddim = (3, 3), blockdim = (3, 3))\n",
    "get_one_step_map_w_Istim(nb_dir,dt)"
   ]
  },
  {
   "cell_type": "code",
   "execution_count": null,
   "metadata": {
    "ExecuteTime": {
     "end_time": "2021-01-23T01:03:49.643749Z",
     "start_time": "2021-01-23T01:03:49.555Z"
    },
    "hidden": true,
    "run_control": {
     "marked": true
    }
   },
   "outputs": [],
   "source": [
    "# take 1000 time steps to 100ms\n",
    "num_steps=1000#000\n",
    "update_every=100\n",
    "step_count=0\n",
    "for n in range(num_steps):\n",
    "    \n",
    "#     kernelA[griddim, blockdim, stream, sharedmem](d_txt,d_txt_Istim_left)\n",
    "#     cuda.syncthreads()\n",
    "#     cuda.synchronize()\n",
    "\n",
    "#     kernelB[griddim, blockdim, stream, sharedmem](d_txt,d_txt_Istim_left)\n",
    "#     cuda.syncthreads()\n",
    "#     cuda.synchronize()\n",
    "\n",
    "    t+=dt\n",
    "    step_count+=1\n",
    "    if step_count%update_every==0:\n",
    "        printProgressBar(step_count,num_steps)\n",
    "print(f\"the final time is t = {t} ms.\")"
   ]
  },
  {
   "cell_type": "code",
   "execution_count": null,
   "metadata": {
    "ExecuteTime": {
     "end_time": "2021-01-23T01:03:49.644412Z",
     "start_time": "2021-01-23T01:03:49.557Z"
    },
    "hidden": true
   },
   "outputs": [],
   "source": [
    "txt=d_txt.to_host()\n",
    "# txt\n"
   ]
  },
  {
   "cell_type": "code",
   "execution_count": null,
   "metadata": {
    "ExecuteTime": {
     "end_time": "2021-01-23T01:03:49.645107Z",
     "start_time": "2021-01-23T01:03:49.559Z"
    },
    "hidden": true
   },
   "outputs": [],
   "source": [
    "# kernelB[griddim, blockdim](d_txt,d_txt_Istim_left)\n",
    "d_txt.to_host()"
   ]
  },
  {
   "cell_type": "code",
   "execution_count": null,
   "metadata": {
    "ExecuteTime": {
     "end_time": "2021-01-23T01:03:49.645755Z",
     "start_time": "2021-01-23T01:03:49.561Z"
    },
    "hidden": true
   },
   "outputs": [],
   "source": [
    "# cuda.close()\n",
    "d_txt"
   ]
  },
  {
   "cell_type": "code",
   "execution_count": null,
   "metadata": {
    "ExecuteTime": {
     "end_time": "2021-01-16T10:30:41.737981Z",
     "start_time": "2021-01-16T10:30:41.692535Z"
    },
    "hidden": true
   },
   "outputs": [],
   "source": []
  },
  {
   "cell_type": "code",
   "execution_count": null,
   "metadata": {
    "ExecuteTime": {
     "end_time": "2021-01-23T01:03:49.646380Z",
     "start_time": "2021-01-23T01:03:49.564Z"
    },
    "hidden": true
   },
   "outputs": [],
   "source": [
    "chnl=17\n",
    "img=txt[...,chnl]\n",
    "plt.imshow(img,cmap='gray')\n",
    "plt.axis('off')\n",
    "plt.title(f'channel {chnl}',c='w',fontsize=22)\n",
    "plt.show()"
   ]
  },
  {
   "cell_type": "code",
   "execution_count": null,
   "metadata": {
    "ExecuteTime": {
     "end_time": "2021-01-23T01:03:49.647058Z",
     "start_time": "2021-01-23T01:03:49.566Z"
    },
    "hidden": true
   },
   "outputs": [],
   "source": [
    "# take 1000 time steps to 100ms\n",
    "numsteps=1000\n",
    "update_every=100\n",
    "step_count=0\n",
    "for n in range(numsteps):\n",
    "    kernelA(txt,txt_Istim_left)\n",
    "    kernelB(txt,txt_Istim_left)\n",
    "    t+=dt\n",
    "    step_count+=1\n",
    "    if step_count%update_every==0:\n",
    "        printProgressBar(step_count,num_steps)"
   ]
  },
  {
   "cell_type": "code",
   "execution_count": null,
   "metadata": {
    "ExecuteTime": {
     "end_time": "2021-01-23T01:03:49.647731Z",
     "start_time": "2021-01-23T01:03:49.568Z"
    },
    "hidden": true
   },
   "outputs": [],
   "source": [
    "# txt[0,0,:18].shape\n",
    "dt, kernelA, kernelB=get_one_step_explicit_synchronous_splitting_w_Istim__cuda_kernel(nb_dir,dt,width,height,ds,stream)"
   ]
  },
  {
   "cell_type": "code",
   "execution_count": null,
   "metadata": {
    "ExecuteTime": {
     "end_time": "2021-01-23T01:03:49.648372Z",
     "start_time": "2021-01-23T01:03:49.570Z"
    },
    "hidden": true
   },
   "outputs": [],
   "source": [
    "# @cuda.jit('void(float64[:,:,:], float64[:,:])')\n",
    "# def one_step_kernel(txt,txt_Istim_left):\n",
    "#     kernelA(txt,txt_Istim_left)\n",
    "#     kernelB(txt,txt_Istim_left)"
   ]
  },
  {
   "cell_type": "code",
   "execution_count": null,
   "metadata": {
    "ExecuteTime": {
     "end_time": "2021-01-23T01:03:49.648889Z",
     "start_time": "2021-01-23T01:03:49.573Z"
    },
    "hidden": true
   },
   "outputs": [],
   "source": [
    "# #take 1000 time steps to 100ms, stimulating onthe left\n",
    "# tf=100\n",
    "# num_steps=int(tf/dt)\n",
    "# t+=dt*num_steps\n",
    "# forward_integrate_kernel(txt,txt_Istim_left,num_steps)\n",
    "# beep(3)\n",
    "# t+=dt*num_steps"
   ]
  },
  {
   "cell_type": "markdown",
   "metadata": {
    "heading_collapsed": true
   },
   "source": [
    "# (success!) Generate a stable spiral wave using cross-stimulation for the LR model"
   ]
  },
  {
   "cell_type": "code",
   "execution_count": 83,
   "metadata": {
    "ExecuteTime": {
     "end_time": "2021-01-26T02:16:39.395289Z",
     "start_time": "2021-01-26T02:16:39.379384Z"
    },
    "hidden": true
   },
   "outputs": [],
   "source": [
    "ic_folder=f\"{nb_dir}/Data/initial-conditions-suite-3-LR\"\n",
    "if not os.path.exists(ic_folder):\n",
    "    os.mkdir(ic_folder)"
   ]
  },
  {
   "cell_type": "code",
   "execution_count": 94,
   "metadata": {
    "ExecuteTime": {
     "end_time": "2021-01-26T02:20:13.330529Z",
     "start_time": "2021-01-26T02:20:10.995768Z"
    },
    "hidden": true
   },
   "outputs": [],
   "source": [
    "width=600 #width of domain in pixels\n",
    "height=600 #height of domain in pixels\n",
    "ds=15.0 #width of domain in centimeters\n",
    "\n",
    "#initialize txt\n",
    "# V_initial=-85.\n",
    "# Ca_i_initial = 2*10**-4\n",
    "txt=get_blank_txt_LR(width,height,V_initial=-84.66,Ca_i_initial = 1.45E-007)\n",
    "t=0.\n",
    "\n",
    "#get time steps\n",
    "from lib.model.LR_model_optimized_w_Istim import *\n",
    "#get the onestep kernels\n",
    "dt, kernelA, kernelB=get_one_step_explicit_synchronous_splitting_w_Istim_kernel(nb_dir,dt,width,height,ds)"
   ]
  },
  {
   "cell_type": "code",
   "execution_count": 95,
   "metadata": {
    "ExecuteTime": {
     "end_time": "2021-01-26T02:20:42.387668Z",
     "start_time": "2021-01-26T02:20:13.533321Z"
    },
    "hidden": true
   },
   "outputs": [
    {
     "name": "stdout",
     "output_type": "stream",
     "text": [
      " |████████████████████████████████████████████████████████████████████████████████████████████████████| 100.0% \n",
      "the final time is t = 10.0 ms.\n",
      "\n"
     ]
    }
   ],
   "source": [
    "#stimulate on the left\n",
    "tf=10.\n",
    "num_steps=int(tf/dt)\n",
    "txt_Istim=txt_Istim_left.copy()\n",
    "update_every=10\n",
    "step_count=0\n",
    "for n in range(num_steps):\n",
    "    kernelA(txt,txt_Istim)\n",
    "    kernelB(txt,txt_Istim)\n",
    "    t+=dt\n",
    "    step_count+=1\n",
    "    if step_count%update_every==0:\n",
    "        printProgressBar(step_count,num_steps)\n",
    "txt_a1=txt.copy()\n",
    "print(f\"\\nthe final time is t = {t:.1f} ms.\\n\")\n",
    "# beep(1)"
   ]
  },
  {
   "cell_type": "code",
   "execution_count": 96,
   "metadata": {
    "ExecuteTime": {
     "end_time": "2021-01-26T02:20:42.718596Z",
     "start_time": "2021-01-26T02:20:42.585820Z"
    },
    "hidden": true
   },
   "outputs": [
    {
     "name": "stdout",
     "output_type": "stream",
     "text": [
      "26.27114464264114\n"
     ]
    },
    {
     "data": {
      "image/png": "[encoded data removed]",
      "text/plain": [
       "<Figure size 576x504 with 1 Axes>"
      ]
     },
     "metadata": {},
     "output_type": "display_data"
    }
   ],
   "source": [
    "#Visualize the buffer (plain)\n",
    "chnl=0\n",
    "print(np.max(txt[...,0]))\n",
    "img=txt_a1[...,chnl]\n",
    "plt.imshow(img,cmap='gray',vmin=-80, vmax=15)\n",
    "plt.axis('off')\n",
    "plt.title(f'channel {chnl}, time {t:.1f}\\n',c='k',fontsize=22)#c='w',fontsize=22)\n",
    "plt.show()"
   ]
  },
  {
   "cell_type": "code",
   "execution_count": 97,
   "metadata": {
    "ExecuteTime": {
     "end_time": "2021-01-26T02:29:00.029895Z",
     "start_time": "2021-01-26T02:20:43.035568Z"
    },
    "hidden": true
   },
   "outputs": [
    {
     "name": "stdout",
     "output_type": "stream",
     "text": [
      " |████████████████████████████████████████████████████████████████████████████████████████████████████| 100.0% \n",
      "the final time is t = 200.0 ms.\n",
      "\n"
     ]
    }
   ],
   "source": [
    "#integrate without stimulation\n",
    "# txt=txt_a.copy()\n",
    "tf=200\n",
    "num_steps=int((tf-t)/dt)\n",
    "txt_Istim=txt_Istim_none.copy()\n",
    "update_every=10\n",
    "step_count=0\n",
    "for n in range(num_steps):\n",
    "    kernelA(txt,txt_Istim)\n",
    "    kernelB(txt,txt_Istim)\n",
    "    step_count+=1\n",
    "    if step_count%update_every==0:\n",
    "        t+=dt*update_every\n",
    "        printProgressBar(step_count,num_steps)\n",
    "txt_a2=txt.copy()\n",
    "print(f\"\\nthe final time is t = {t:.1f} ms.\\n\")\n",
    "# beep(1)"
   ]
  },
  {
   "cell_type": "code",
   "execution_count": 98,
   "metadata": {
    "ExecuteTime": {
     "end_time": "2021-01-26T02:29:00.270402Z",
     "start_time": "2021-01-26T02:29:00.198591Z"
    },
    "hidden": true,
    "scrolled": true
   },
   "outputs": [
    {
     "name": "stdout",
     "output_type": "stream",
     "text": [
      "-5.595954622589906\n"
     ]
    },
    {
     "data": {
      "image/png": "[encoded data removed]",
      "text/plain": [
       "<Figure size 576x504 with 1 Axes>"
      ]
     },
     "metadata": {},
     "output_type": "display_data"
    }
   ],
   "source": [
    "#Visualize the buffer (plain)\n",
    "chnl=0\n",
    "print(np.max(txt[...,0]))\n",
    "ta2=t#110\n",
    "img=txt[...,chnl]\n",
    "plt.imshow(img,cmap='gray',vmin=-80, vmax=15)\n",
    "plt.axis('off')\n",
    "plt.title(f'channel {chnl}, time {ta2:.1f}\\n',c='k',fontsize=22)#c='w',fontsize=22)\n",
    "plt.show()"
   ]
  },
  {
   "cell_type": "code",
   "execution_count": 99,
   "metadata": {
    "ExecuteTime": {
     "end_time": "2021-01-26T02:29:01.828261Z",
     "start_time": "2021-01-26T02:29:00.438720Z"
    },
    "hidden": true
   },
   "outputs": [],
   "source": [
    "#save texture at this time t\n",
    "save=True\n",
    "if save:\n",
    "#     txt=stack_txt(inVc,outVc,inmhjdfx,outmhjdfx,dVcdt)\n",
    "    save_img_fn=f\"{nb_dir}/Data/initial-conditions-suite-3-LR/txt_a2.npz\"\n",
    "    #     img_out=txt#np.stack([img,dimgdt]).T\n",
    "    np.savez_compressed(save_img_fn,[txt])"
   ]
  },
  {
   "cell_type": "code",
   "execution_count": 92,
   "metadata": {
    "ExecuteTime": {
     "end_time": "2021-01-26T02:19:57.146419Z",
     "start_time": "2021-01-26T02:19:56.874751Z"
    },
    "hidden": true
   },
   "outputs": [
    {
     "data": {
      "text/plain": [
       "(600, 600, 18)"
      ]
     },
     "execution_count": 92,
     "metadata": {},
     "output_type": "execute_result"
    }
   ],
   "source": [
    "#load the buffer loaded\n",
    "t=200.\n",
    "img_fn=f'{nb_dir}/Data/initial-conditions-suite-3-LR/txt_a2.npz'\n",
    "txt=load_buffer(img_fn)[0]\n",
    "txt.shape"
   ]
  },
  {
   "cell_type": "code",
   "execution_count": 100,
   "metadata": {
    "ExecuteTime": {
     "end_time": "2021-01-26T02:29:02.078506Z",
     "start_time": "2021-01-26T02:29:02.004369Z"
    },
    "hidden": true
   },
   "outputs": [
    {
     "name": "stdout",
     "output_type": "stream",
     "text": [
      "-5.595954622589906\n"
     ]
    },
    {
     "data": {
      "image/png": "[encoded data removed]",
      "text/plain": [
       "<Figure size 576x504 with 1 Axes>"
      ]
     },
     "metadata": {},
     "output_type": "display_data"
    }
   ],
   "source": [
    "#Visualize the buffer (plain)\n",
    "chnl=1\n",
    "print(np.max(txt[...,0]))\n",
    "ta2=t#110\n",
    "img=txt[...,chnl]\n",
    "if chnl==0:\n",
    "    plt.imshow(img,cmap='gray',vmin=-10, vmax=15)\n",
    "else:\n",
    "    plt.imshow(img,cmap='gray')\n",
    "plt.axis('off')\n",
    "plt.title(f'channel {chnl}, time {ta2:.1f}\\n',c='k',fontsize=22)#c='w',fontsize=22)\n",
    "plt.show()\n"
   ]
  },
  {
   "cell_type": "code",
   "execution_count": null,
   "metadata": {
    "ExecuteTime": {
     "end_time": "2021-01-23T01:03:49.655489Z",
     "start_time": "2021-01-23T01:03:49.596Z"
    },
    "hidden": true
   },
   "outputs": [],
   "source": [
    "dt"
   ]
  },
  {
   "cell_type": "code",
   "execution_count": 101,
   "metadata": {
    "ExecuteTime": {
     "end_time": "2021-01-26T02:31:11.572798Z",
     "start_time": "2021-01-26T02:29:02.249161Z"
    },
    "hidden": true
   },
   "outputs": [
    {
     "name": "stdout",
     "output_type": "stream",
     "text": [
      "\n",
      "the final time is t = 275.0 ms.\n",
      "\n"
     ]
    }
   ],
   "source": [
    "#integrate without stimulation\n",
    "# t=130\n",
    "# txt=txt_a2.copy()\n",
    "tf=75#150\n",
    "num_steps=int((tf)/dt)\n",
    "txt_Istim=txt_Istim_none.copy()\n",
    "update_every=1\n",
    "step_count=0\n",
    "for n in range(num_steps):\n",
    "    kernelA(txt,txt_Istim)\n",
    "    kernelB(txt,txt_Istim)\n",
    "    step_count+=1\n",
    "    if step_count%update_every==0:\n",
    "        t+=dt*update_every\n",
    "#         printProgressBar(step_count,num_steps)\n",
    "txt_a3=txt.copy()\n",
    "print(f\"\\nthe final time is t = {t:.1f} ms.\\n\")\n",
    "# beep(1)\n"
   ]
  },
  {
   "cell_type": "code",
   "execution_count": 102,
   "metadata": {
    "ExecuteTime": {
     "end_time": "2021-01-26T02:31:11.811651Z",
     "start_time": "2021-01-26T02:31:11.741115Z"
    },
    "hidden": true
   },
   "outputs": [
    {
     "name": "stdout",
     "output_type": "stream",
     "text": [
      "-15.491384451013706\n"
     ]
    },
    {
     "data": {
      "image/png": "[encoded data removed]",
      "text/plain": [
       "<Figure size 576x504 with 1 Axes>"
      ]
     },
     "metadata": {},
     "output_type": "display_data"
    }
   ],
   "source": [
    "#Visualize the buffer (plain)\n",
    "chnl=0\n",
    "print(np.max(txt[...,0]))\n",
    "ta3=t#110\n",
    "img=txt[...,chnl]\n",
    "if chnl==0:\n",
    "    plt.imshow(img,cmap='gray',vmin=-80, vmax=15)\n",
    "else:\n",
    "    plt.imshow(img,cmap='gray')\n",
    "plt.axis('off')\n",
    "plt.title(f'channel {chnl}, time {ta3:.1f}\\n',c='k',fontsize=22)#c='w',fontsize=22)\n",
    "plt.show()"
   ]
  },
  {
   "cell_type": "code",
   "execution_count": 103,
   "metadata": {
    "ExecuteTime": {
     "end_time": "2021-01-26T02:31:11.995189Z",
     "start_time": "2021-01-26T02:31:11.981113Z"
    },
    "hidden": true
   },
   "outputs": [],
   "source": [
    "# #define the top stimulation width (wag) and magnitude (mag)\n",
    "# mag=-10#1.77#-10#-3.\n",
    "# wag=5\n",
    "# zero_c2=np.zeros(shape=(width,height,2), dtype=np.float64, order='C')\n",
    "# txt_Istim=zero_c2[...,0].copy()\n",
    "# txt_Istim[300:300+wag,:300]=mag\n",
    "# txt_Istim_top=txt_Istim.copy()"
   ]
  },
  {
   "cell_type": "code",
   "execution_count": 104,
   "metadata": {
    "ExecuteTime": {
     "end_time": "2021-01-26T02:31:13.752213Z",
     "start_time": "2021-01-26T02:31:12.163848Z"
    },
    "hidden": true
   },
   "outputs": [],
   "source": [
    "dt=0.01\n",
    "dt, kernelA, kernelB=get_one_step_explicit_synchronous_splitting_w_Istim_kernel(nb_dir,dt,width,height,ds)"
   ]
  },
  {
   "cell_type": "code",
   "execution_count": 105,
   "metadata": {
    "ExecuteTime": {
     "end_time": "2021-01-26T02:34:11.231195Z",
     "start_time": "2021-01-26T02:31:13.919895Z"
    },
    "hidden": true
   },
   "outputs": [
    {
     "name": "stdout",
     "output_type": "stream",
     "text": [
      "\n",
      "the final time is t = 285.0 ms.\n"
     ]
    }
   ],
   "source": [
    "#take 1000 time steps to 100ms, stimulating on the with a semicircle #top/horizontally\n",
    "tf=10#.100#10\n",
    "# t=130\n",
    "# txt=txt_a3.copy()\n",
    "# txt=txt_a2.copy()\n",
    "num_steps=int(tf/dt)\n",
    "# txt_Istim=txt_Istim_semi/copy()#txt_Istim_top.copy()\n",
    "txt_Istim=txt_Istim_top.copy()\n",
    "update_every=100\n",
    "step_count=0\n",
    "for n in range(num_steps):\n",
    "    kernelA(txt,txt_Istim)\n",
    "    kernelB(txt,txt_Istim)\n",
    "#     step_count+=1\n",
    "#     if step_count%update_every==0:\n",
    "t+=dt*num_steps#update_every\n",
    "#         printProgressBar(step_count,num_steps)\n",
    "print(f\"\\nthe final time is t = {t:.1f} ms.\")\n",
    "txt_b=txt.copy()\n",
    "# beep(1)"
   ]
  },
  {
   "cell_type": "code",
   "execution_count": 106,
   "metadata": {
    "ExecuteTime": {
     "end_time": "2021-01-26T02:34:11.507909Z",
     "start_time": "2021-01-26T02:34:11.421017Z"
    },
    "hidden": true
   },
   "outputs": [
    {
     "name": "stdout",
     "output_type": "stream",
     "text": [
      "22.124624250125606\n"
     ]
    },
    {
     "data": {
      "image/png": "[encoded data removed]",
      "text/plain": [
       "<Figure size 576x504 with 1 Axes>"
      ]
     },
     "metadata": {},
     "output_type": "display_data"
    }
   ],
   "source": [
    "#Visualize the buffer (plain)\n",
    "chnl=0\n",
    "print(np.max(txt[...,0]))\n",
    "img=txt_b[...,chnl]\n",
    "plt.imshow(img,cmap='gray',vmin=-80, vmax=15)\n",
    "plt.axis('off')\n",
    "plt.title(f'channel {chnl}, time {t:.1f}\\n',c='k',fontsize=22)#c='w',fontsize=22)\n",
    "plt.show()"
   ]
  },
  {
   "cell_type": "code",
   "execution_count": 107,
   "metadata": {
    "ExecuteTime": {
     "end_time": "2021-01-26T02:34:13.324061Z",
     "start_time": "2021-01-26T02:34:11.715393Z"
    },
    "hidden": true
   },
   "outputs": [],
   "source": [
    "dt=0.1\n",
    "dt, kernelA, kernelB=get_one_step_explicit_synchronous_splitting_w_Istim_kernel(nb_dir,dt,width,height,ds)"
   ]
  },
  {
   "cell_type": "code",
   "execution_count": 108,
   "metadata": {
    "ExecuteTime": {
     "end_time": "2021-01-26T02:34:14.920147Z",
     "start_time": "2021-01-26T02:34:13.498427Z"
    },
    "hidden": true
   },
   "outputs": [
    {
     "data": {
      "text/plain": [
       "0"
      ]
     },
     "execution_count": 108,
     "metadata": {},
     "output_type": "execute_result"
    }
   ],
   "source": [
    "beep(7)"
   ]
  },
  {
   "cell_type": "code",
   "execution_count": 109,
   "metadata": {
    "ExecuteTime": {
     "end_time": "2021-01-26T03:08:12.644403Z",
     "start_time": "2021-01-26T02:46:09.145276Z"
    },
    "hidden": true
   },
   "outputs": [
    {
     "name": "stdout",
     "output_type": "stream",
     "text": [
      " |████████████████████████████████████████████████████████████████████████████████████████████████████| 100.0% \n",
      "the final time is t = 1285.0000000000011 ms.\n"
     ]
    },
    {
     "data": {
      "text/plain": [
       "0"
      ]
     },
     "execution_count": 109,
     "metadata": {},
     "output_type": "execute_result"
    }
   ],
   "source": [
    "#take 10000 time steps forward 1 sec without stimulation\n",
    "tf=1000\n",
    "# t=170\n",
    "txt=txt_b.copy()\n",
    "num_steps=int((tf)/dt)\n",
    "txt_Istim=txt_Istim_none.copy()\n",
    "update_every=100\n",
    "step_count=0\n",
    "for n in range(num_steps):\n",
    "    kernelA(txt,txt_Istim)\n",
    "    kernelB(txt,txt_Istim)\n",
    "    step_count+=1\n",
    "    if step_count%update_every==0:\n",
    "#         t+=dt*update_every\n",
    "        #compute dict_out\n",
    "        printProgressBar(step_count,num_steps)\n",
    "t+=dt*num_steps#update_every\n",
    "print(f\"\\nthe final time is t = {t} ms.\")\n",
    "beep(1)"
   ]
  },
  {
   "cell_type": "code",
   "execution_count": 110,
   "metadata": {
    "ExecuteTime": {
     "end_time": "2021-01-26T03:08:12.815854Z",
     "start_time": "2021-01-26T03:08:12.794791Z"
    },
    "hidden": true
   },
   "outputs": [
    {
     "data": {
      "text/plain": [
       "1285.0000000000011"
      ]
     },
     "execution_count": 110,
     "metadata": {},
     "output_type": "execute_result"
    }
   ],
   "source": [
    "#10s after second shock, at time t=12 seconds\n",
    "txt_1=txt.copy()\n",
    "t"
   ]
  },
  {
   "cell_type": "code",
   "execution_count": 111,
   "metadata": {
    "ExecuteTime": {
     "end_time": "2021-01-26T03:08:13.032246Z",
     "start_time": "2021-01-26T03:08:12.970127Z"
    },
    "hidden": true
   },
   "outputs": [
    {
     "name": "stdout",
     "output_type": "stream",
     "text": [
      "1285.0000000000011\n"
     ]
    },
    {
     "data": {
      "image/png": "[encoded data removed]",
      "text/plain": [
       "<Figure size 576x504 with 1 Axes>"
      ]
     },
     "metadata": {},
     "output_type": "display_data"
    }
   ],
   "source": [
    "#Visualize the buffer (plain)\n",
    "chnl=0\n",
    "print(t)\n",
    "img=txt_1[...,chnl]\n",
    "plt.imshow(img,cmap='gray',vmin=-80, vmax=15)\n",
    "plt.axis('off')\n",
    "plt.title(f'channel {chnl}, time {t:.1f}\\n',c='k',fontsize=22)#c='w',fontsize=22)\n",
    "plt.show()"
   ]
  },
  {
   "cell_type": "code",
   "execution_count": null,
   "metadata": {
    "ExecuteTime": {
     "end_time": "2021-01-23T01:03:49.784058Z",
     "start_time": "2021-01-23T01:03:49.627Z"
    },
    "hidden": true
   },
   "outputs": [],
   "source": [
    "#save texture at this time t\n",
    "save=False\n",
    "if save:\n",
    "#     txt=stack_txt(inVc,outVc,inmhjdfx,outmhjdfx,dVcdt)\n",
    "    save_img_fn=f\"{nb_dir}/Data/initial-conditions-suite-3-LR/txt_1.npz\"\n",
    "    #     img_out=txt#np.stack([img,dimgdt]).T\n",
    "    np.savez_compressed(save_img_fn,[txt])"
   ]
  },
  {
   "cell_type": "code",
   "execution_count": null,
   "metadata": {
    "ExecuteTime": {
     "end_time": "2021-01-23T01:03:49.784676Z",
     "start_time": "2021-01-23T01:03:49.629Z"
    },
    "hidden": true
   },
   "outputs": [],
   "source": [
    "#load the buffer loaded\n",
    "t=385.\n",
    "img_fn=f'{nb_dir}/Data/initial-conditions-suite-3-LR/txt_1.npz'\n",
    "txt=load_buffer(img_fn)[0]\n",
    "txt.shape"
   ]
  },
  {
   "cell_type": "code",
   "execution_count": null,
   "metadata": {
    "ExecuteTime": {
     "end_time": "2021-01-23T01:03:49.785366Z",
     "start_time": "2021-01-23T01:03:49.632Z"
    },
    "hidden": true
   },
   "outputs": [],
   "source": [
    "#take 10000 time steps forward 1 sec without stimulation\n",
    "tf=1000\n",
    "# txt=txt_b.copy()\n",
    "num_steps=int(tf/dt)\n",
    "txt_Istim=txt_Istim_none.copy()\n",
    "update_every=100\n",
    "step_count=0\n",
    "for n in range(num_steps):\n",
    "    kernelA(txt,txt_Istim)\n",
    "    kernelB(txt,txt_Istim)\n",
    "    step_count+=1\n",
    "#     if step_count%update_every==0:\n",
    "#         t+=dt*update_every\n",
    "#         compute dict_out\n",
    "#         printProgressBar(step_count,num_steps)\n",
    "t+=dt*num_steps#update_every\n",
    "print(f\"\\nthe final time is t = {t} ms.\")\n",
    "beep(1)"
   ]
  },
  {
   "cell_type": "code",
   "execution_count": null,
   "metadata": {
    "ExecuteTime": {
     "end_time": "2021-01-23T01:03:49.786053Z",
     "start_time": "2021-01-23T01:03:49.634Z"
    },
    "hidden": true
   },
   "outputs": [],
   "source": [
    "#Visualize the buffer (plain)\n",
    "chnl=0\n",
    "print(np.max(txt[...,0]))\n",
    "img=txt[...,chnl]\n",
    "plt.imshow(img,cmap='gray',vmin=-80, vmax=15)\n",
    "plt.axis('off')\n",
    "plt.title(f'channel {chnl}, time {t:.1f}\\n',c='k',fontsize=22)#c='w',fontsize=22)\n",
    "plt.show()"
   ]
  },
  {
   "cell_type": "code",
   "execution_count": null,
   "metadata": {
    "ExecuteTime": {
     "end_time": "2021-01-23T01:03:49.786680Z",
     "start_time": "2021-01-23T01:03:49.637Z"
    },
    "hidden": true
   },
   "outputs": [],
   "source": [
    "#save texture at this time t\n",
    "save=True\n",
    "if save:\n",
    "#     txt=stack_txt(inVc,outVc,inmhjdfx,outmhjdfx,dVcdt)\n",
    "    save_img_fn=f\"{nb_dir}/Data/initial-conditions-suite-3-LR/ic600x600_tt/ic001.npz\"\n",
    "    #     img_out=txt#np.stack([img,dimgdt]).T\n",
    "    np.savez_compressed(save_img_fn,[txt])"
   ]
  },
  {
   "cell_type": "code",
   "execution_count": null,
   "metadata": {
    "ExecuteTime": {
     "end_time": "2021-01-23T01:03:49.787369Z",
     "start_time": "2021-01-23T01:03:49.639Z"
    },
    "hidden": true
   },
   "outputs": [],
   "source": [
    "beep(10)"
   ]
  },
  {
   "cell_type": "code",
   "execution_count": null,
   "metadata": {
    "ExecuteTime": {
     "end_time": "2021-01-23T01:03:49.788064Z",
     "start_time": "2021-01-23T01:03:49.642Z"
    },
    "hidden": true
   },
   "outputs": [],
   "source": [
    "#take 10000 time steps forward 1 sec without stimulation\n",
    "tf=2000\n",
    "# txt=txt_b.copy()\n",
    "num_steps=int((tf-t)/dt)\n",
    "txt_Istim=txt_Istim_none.copy()\n",
    "update_every=50\n",
    "step_count=0\n",
    "for n in range(num_steps):\n",
    "    kernelA(txt,txt_Istim)\n",
    "    kernelB(txt,txt_Istim)\n",
    "    step_count+=1\n",
    "#     if step_count%update_every==0:\n",
    "#         t+=dt*update_every\n",
    "#         compute dict_out\n",
    "#         printProgressBar(step_count,num_steps)\n",
    "t+=dt*num_steps#update_every\n",
    "print(f\"\\nthe final time is t = {t} ms.\")\n",
    "beep(10)"
   ]
  },
  {
   "cell_type": "code",
   "execution_count": null,
   "metadata": {
    "ExecuteTime": {
     "end_time": "2021-01-23T01:03:49.788782Z",
     "start_time": "2021-01-23T01:03:49.644Z"
    },
    "hidden": true
   },
   "outputs": [],
   "source": [
    "#Visualize the buffer (plain)\n",
    "chnl=0\n",
    "print(np.max(txt[...,0]))\n",
    "img=txt[...,chnl]\n",
    "plt.imshow(img,cmap='gray',vmin=-80, vmax=15)\n",
    "plt.axis('off')\n",
    "plt.title(f'channel {chnl}, time {t:.1f}\\n',c='k',fontsize=22)#c='w',fontsize=22)\n",
    "plt.show()"
   ]
  },
  {
   "cell_type": "code",
   "execution_count": null,
   "metadata": {
    "ExecuteTime": {
     "end_time": "2021-01-23T01:03:49.789462Z",
     "start_time": "2021-01-23T01:03:49.647Z"
    },
    "hidden": true
   },
   "outputs": [],
   "source": [
    "#save texture at this time t\n",
    "save=True\n",
    "if save:\n",
    "#     txt=stack_txt(inVc,outVc,inmhjdfx,outmhjdfx,dVcdt)\n",
    "    save_img_fn=f\"{nb_dir}/Data/initial-conditions-suite-3-LR/ic600x600_tt/ic001.npz\"\n",
    "    #     img_out=txt#np.stack([img,dimgdt]).T\n",
    "    np.savez_compressed(save_img_fn,[txt])"
   ]
  },
  {
   "cell_type": "markdown",
   "metadata": {
    "heading_collapsed": true
   },
   "source": [
    "# observe apparent spiral tips"
   ]
  },
  {
   "cell_type": "markdown",
   "metadata": {
    "heading_collapsed": true,
    "hidden": true
   },
   "source": [
    "### Show all spiral tips present\n"
   ]
  },
  {
   "cell_type": "code",
   "execution_count": null,
   "metadata": {
    "hidden": true
   },
   "outputs": [],
   "source": []
  },
  {
   "cell_type": "code",
   "execution_count": null,
   "metadata": {
    "ExecuteTime": {
     "end_time": "2021-01-23T01:03:49.790384Z",
     "start_time": "2021-01-23T01:03:49.650Z"
    },
    "hidden": true
   },
   "outputs": [],
   "source": [
    "#compute all spiral tips present\n",
    "V_threshold=25.#mV\n",
    "level1=V_threshold\n",
    "# theta_threshold=0.\n",
    "level2=0.\n",
    "#take the first step\n",
    "one_step(inVc,outVc,inmhjdfx,outmhjdfx,dVcdt)\n",
    "t+=dt\n",
    "img=inVc[...,0]\n",
    "dimgdt=dVcdt[...,0]\n",
    "width=200;height=200\n",
    "dict_out=compute_all_spiral_tips(t,img,dimgdt,level1,level2,width=width,height=height)\n",
    "dict_out_instantaneous=dict_out\n",
    "print(np.max(inVc[...,0]))"
   ]
  },
  {
   "cell_type": "code",
   "execution_count": null,
   "metadata": {
    "ExecuteTime": {
     "end_time": "2021-01-23T01:03:49.791062Z",
     "start_time": "2021-01-23T01:03:49.652Z"
    },
    "hidden": true
   },
   "outputs": [],
   "source": [
    "x_values=np.array(dict_out['x'])\n",
    "y_values=np.array(dict_out['y'])\n",
    "c_values=np.array(dict_out['v'])\n",
    "print(f\"{dict_out['n']} tips are present at time t={int(t)}.\")\n",
    "fig = ShowDomain(img,dimgdt,x_values,y_values,c_values,V_threshold,t,inch=6,fontsize=16,vmin_img=-85.,vmax_img=35.,\n",
    "                 area=25,frameno=1,save_fn=None,save_folder=None,save=False,annotating=False,axis=[0,200,0,200])\n",
    "plt.show(fig)"
   ]
  },
  {
   "cell_type": "code",
   "execution_count": null,
   "metadata": {
    "ExecuteTime": {
     "end_time": "2021-01-23T01:03:49.791698Z",
     "start_time": "2021-01-23T01:03:49.655Z"
    },
    "hidden": true
   },
   "outputs": [],
   "source": [
    "#save texture at this time t\n",
    "save=False\n",
    "if save:\n",
    "#     txt=stack_txt(inVc,outVc,inmhjdfx,outmhjdfx,dVcdt)\n",
    "    save_img_fn=f\"{nb_dir}/Data/test_data/test_txt_LR_euler_t_{int(t)}.npz\"\n",
    "    #     img_out=txt#np.stack([img,dimgdt]).T\n",
    "    np.savez_compressed(save_img_fn,[txt])"
   ]
  },
  {
   "cell_type": "code",
   "execution_count": null,
   "metadata": {
    "hidden": true
   },
   "outputs": [],
   "source": []
  },
  {
   "cell_type": "markdown",
   "metadata": {
    "heading_collapsed": true,
    "hidden": true
   },
   "source": [
    "### generate some spiral tips"
   ]
  },
  {
   "cell_type": "code",
   "execution_count": null,
   "metadata": {
    "ExecuteTime": {
     "end_time": "2021-01-23T01:03:49.792646Z",
     "start_time": "2021-01-23T01:03:49.658Z"
    },
    "hidden": true
   },
   "outputs": [],
   "source": [
    "dt, arr39, one_step_method = get_one_step_explicit_synchronous_splitting(nb_dir,dt)\n",
    "print(get_one_step_explicit_synchronous_splitting)"
   ]
  },
  {
   "cell_type": "code",
   "execution_count": null,
   "metadata": {
    "ExecuteTime": {
     "end_time": "2021-01-23T01:03:49.793821Z",
     "start_time": "2021-01-23T01:03:49.660Z"
    },
    "hidden": true
   },
   "outputs": [],
   "source": [
    "#forward euler explicit synchronous integration\n",
    "tf=1000.\n",
    "tmax=tf\n",
    "save_every_n_frames=10.\n",
    "V_threshold=25.#mV0.#-37.#mV\n",
    "level1=V_threshold; level2=0.\n",
    "num_steps=int(tf/dt)\n",
    "step_count=0\n",
    "n_tips_lst=[];t_lst=[];dict_out_lst=[]\n",
    "save_dict_every=100\n",
    "n_tips=1\n",
    "while (t<tmax) & (n_tips > 0):\n",
    "    if step_count%save_every_n_frames != 0:\n",
    "        #forward Euler integration in time\n",
    "        txt=one_step_map(txt)\n",
    "    else:   \n",
    "\n",
    "        #compute tip locations in dict_out\n",
    "        #update texture namespace\n",
    "        inVc,outVc,inmhjdfx,outmhjdfx,dVcdt=unstack_txt(txt)\n",
    "        txt=stack_txt(inVc,outVc,inmhjdfx,outmhjdfx,dVcdt)\n",
    "        img=inVc[...,0]\n",
    "        dimgdt=dVcdt[...,0]\n",
    "        dict_out=compute_all_spiral_tips(t,img,dimgdt,level1,level2)#,width=width,height=height)\n",
    "\n",
    "        #save tip data\n",
    "        n_tips=dict_out['n']\n",
    "        n_tips_lst.append(n_tips)\n",
    "        t_lst.append(t)\n",
    "        #         if count%save_dict_every==0:\n",
    "        dict_out_lst.append(dict_out)\n",
    "    \n",
    "        #integrate by dt\n",
    "        txt=one_step_map(txt)\n",
    "    t+=dt\n",
    "    step_count+=1\n",
    "    printProgressBar(step_count,num_steps)\n",
    "    if n_tips==0:\n",
    "        print(f\"zero tips remaining at time t={t}!\")\n",
    "        break\n",
    "beep(3)"
   ]
  },
  {
   "cell_type": "markdown",
   "metadata": {
    "heading_collapsed": true,
    "hidden": true
   },
   "source": [
    "## scratchwerk"
   ]
  },
  {
   "cell_type": "markdown",
   "metadata": {
    "heading_collapsed": true,
    "hidden": true
   },
   "source": [
    "### TODO(later maybe): apply the dormand-prince one_step method.  \n",
    "- how does it's runtime compare?\n",
    "- how does the quality of results compare?\n",
    "- note: the time step is already 0.1 ms, and the one_step is at least second order accurate."
   ]
  },
  {
   "cell_type": "markdown",
   "metadata": {
    "heading_collapsed": true,
    "hidden": true
   },
   "source": [
    "### Scrum 1.20.2021"
   ]
  },
  {
   "cell_type": "markdown",
   "metadata": {
    "ExecuteTime": {
     "end_time": "2021-01-20T18:37:47.822248Z",
     "start_time": "2021-01-20T18:37:47.782889Z"
    },
    "hidden": true
   },
   "source": [
    "DONE generate spiral waves for the LR model\n",
    "- DONE 6: carefully compare pbc implemented in LR model to FK model.\n",
    "- (ignore) further options\n",
    "    - option 1: scrutinize why my AP looks slightly different from WJ's (might be floating point arith. error... maybe\n",
    "        - try arr39.astype(np.float32) and comparing\n",
    "    - __option 3: modify my verified pycuda kernel for the FK model to use Iion from the LR model.__\n",
    "    - option 4: try using forward euler method instead of the fancy splitting method\n",
    "    - option 5: try using a 9 point stencil\n",
    "- TODO: Try a semicircle stimulus at the repolarized zone"
   ]
  },
  {
   "cell_type": "markdown",
   "metadata": {
    "heading_collapsed": true
   },
   "source": [
    "# Tile ic001 9 times, stimulate it randomly, run it for awhile, and save for later chunking\n",
    "1.20.2021"
   ]
  },
  {
   "cell_type": "code",
   "execution_count": null,
   "metadata": {
    "ExecuteTime": {
     "end_time": "2021-01-23T01:03:49.794638Z",
     "start_time": "2021-01-23T01:03:49.662Z"
    },
    "hidden": true
   },
   "outputs": [],
   "source": [
    "from lib.controller.draw import *\n",
    "from lib.model.LR_model_optimized_w_Istim import *\n",
    "\n",
    "from lib.my_initialization import *\n",
    "from lib.controller.controller_LR import get_one_step_explicit_synchronous_splitting\n",
    "from lib.model.LR_model import *\n",
    "from lib.utils.utils_traj import *\n",
    "from lib.routines.bdrates import *\n",
    "from lib.measure.utils_measure_tips_cpu import *\n",
    "from lib.utils.stack_txt_LR import *\n",
    "from lib.viewer import *\n",
    "import trackpy\n",
    "import random\n",
    "%autocall 1\n",
    "%load_ext autoreload\n",
    "%autoreload 2"
   ]
  },
  {
   "cell_type": "code",
   "execution_count": null,
   "metadata": {
    "ExecuteTime": {
     "end_time": "2021-01-23T01:03:49.795615Z",
     "start_time": "2021-01-23T01:03:49.664Z"
    },
    "hidden": true
   },
   "outputs": [],
   "source": [
    "#load the buffer loaded\n",
    "t=0.\n",
    "img_fn=f'{nb_dir}/Data/initial-conditions-suite-3-LR/ic600x600_tt/ic001.npz'\n",
    "txt_in=load_buffer(img_fn)[0]\n",
    "txt=np.tile(txt_in,(3,3,1))\n",
    "txt.shape"
   ]
  },
  {
   "cell_type": "code",
   "execution_count": null,
   "metadata": {
    "ExecuteTime": {
     "end_time": "2021-01-21T03:41:52.728966Z",
     "start_time": "2021-01-21T03:41:52.695295Z"
    },
    "hidden": true
   },
   "outputs": [],
   "source": []
  },
  {
   "cell_type": "code",
   "execution_count": null,
   "metadata": {
    "ExecuteTime": {
     "end_time": "2021-01-21T03:38:15.711106Z",
     "start_time": "2021-01-21T03:38:15.663010Z"
    },
    "hidden": true
   },
   "outputs": [],
   "source": []
  },
  {
   "cell_type": "code",
   "execution_count": null,
   "metadata": {
    "ExecuteTime": {
     "end_time": "2021-01-23T01:03:49.796775Z",
     "start_time": "2021-01-23T01:03:49.668Z"
    },
    "hidden": true
   },
   "outputs": [],
   "source": [
    "#make null stimulus\n",
    "width,height,chnlno=txt.shape\n",
    "zero_c2=np.zeros(shape=(width,height,2), dtype=np.float64, order='C')\n",
    "txt_Istim_none=zero_c2[...,0].copy()\n",
    "\n",
    "#randomly place semicircular stimuli\n",
    "random.seed(100)\n",
    "num_semi=7\n",
    "mag=-10\n",
    "\n",
    "txt_Istim=txt_Istim_none.copy()\n",
    "for n in range(num_semi):\n",
    "    x0=random.uniform(0,1)*width\n",
    "    y0=random.uniform(0,1)*height\n",
    "    deg=random.uniform(0,1)*360\n",
    "    txt_Istim+=get_semicircle(txt,deg,x0,y0)\n",
    "\n",
    "txt_Istim*=mag\n",
    "txt_Istim_semi=txt_Istim.copy()"
   ]
  },
  {
   "cell_type": "code",
   "execution_count": null,
   "metadata": {
    "ExecuteTime": {
     "end_time": "2021-01-23T01:03:49.797565Z",
     "start_time": "2021-01-23T01:03:49.670Z"
    },
    "hidden": true
   },
   "outputs": [],
   "source": [
    "#Visualize the buffer (plain)\n",
    "chnl=0\n",
    "# print(np.max(txt[...,0]))\n",
    "img=txt_Istim_semi#txt[...,chnl]\n",
    "plt.imshow(img,cmap='gray')#,vmin=-80, vmax=15)\n",
    "plt.axis('off')\n",
    "# plt.title(f'channel {chnl}, time {t:.1f}\\n',c='k',fontsize=22)#c='w',fontsize=22)\n",
    "plt.show()"
   ]
  },
  {
   "cell_type": "code",
   "execution_count": null,
   "metadata": {
    "ExecuteTime": {
     "end_time": "2021-01-23T01:03:49.798206Z",
     "start_time": "2021-01-23T01:03:49.672Z"
    },
    "hidden": true
   },
   "outputs": [],
   "source": [
    "#get the onestep kernels\n",
    "ds=45.;dt=0.1\n",
    "dt, kernelA, kernelB=get_one_step_explicit_synchronous_splitting_w_Istim_kernel(nb_dir,dt,width,height,ds)"
   ]
  },
  {
   "cell_type": "code",
   "execution_count": null,
   "metadata": {
    "ExecuteTime": {
     "end_time": "2021-01-23T01:03:49.799299Z",
     "start_time": "2021-01-23T01:03:49.674Z"
    },
    "hidden": true
   },
   "outputs": [],
   "source": [
    "#semicircular stimulation\n",
    "tf=10\n",
    "# txt=txt_b.copy()\n",
    "num_steps=int((tf)/dt)\n",
    "txt_Istim=txt_Istim_semi.copy()\n",
    "update_every=100\n",
    "step_count=0\n",
    "for n in range(num_steps):\n",
    "    kernelA(txt,txt_Istim)\n",
    "    kernelB(txt,txt_Istim)\n",
    "    step_count+=1\n",
    "    if step_count%update_every==0:\n",
    "#         t+=dt*update_every\n",
    "#         compute dict_out\n",
    "        printProgressBar(step_count,num_steps)\n",
    "t+=dt*num_steps#update_every\n",
    "print(f\"\\nthe final time is t = {t} ms.\")\n",
    "beep(10)"
   ]
  },
  {
   "cell_type": "code",
   "execution_count": null,
   "metadata": {
    "ExecuteTime": {
     "end_time": "2021-01-23T01:03:49.800032Z",
     "start_time": "2021-01-23T01:03:49.676Z"
    },
    "hidden": true
   },
   "outputs": [],
   "source": [
    "#Visualize the buffer (plain)\n",
    "chnl=0\n",
    "print(np.max(txt[...,0]))\n",
    "img=txt[...,(0,-2,1)].copy()#chnl]#0,1,V,Ca_i,INa,IK\n",
    "mn=np.min(img[...,0]);mx=np.max(img[...,0])\n",
    "img[...,0]=(img[...,0]-mn)/(mx-mn)\n",
    "# mn=np.min(img[...,1]);mx=np.max(img[...,1])\n",
    "# img[...,1]=(img[...,1]-mn)/(mx-mn)\n",
    "mn=np.min(img[...,2]);mx=np.max(img[...,2])\n",
    "img[...,2]=(img[...,2]-mn)/(mx-mn)\n",
    "plt.subplots(figsize=(9,9))\n",
    "plt.imshow(img)#,cmap='gray',vmin=-80, vmax=15)\n",
    "plt.axis('off')\n",
    "# plt.title(f'channel {chnl}, time {t:.1f}\\n',c='k',fontsize=22)#c='w',fontsize=22)\n",
    "plt.show()"
   ]
  },
  {
   "cell_type": "code",
   "execution_count": null,
   "metadata": {
    "ExecuteTime": {
     "end_time": "2021-01-23T01:03:49.800729Z",
     "start_time": "2021-01-23T01:03:49.679Z"
    },
    "hidden": true
   },
   "outputs": [],
   "source": [
    "200*0.04\n"
   ]
  },
  {
   "cell_type": "code",
   "execution_count": null,
   "metadata": {
    "ExecuteTime": {
     "end_time": "2021-01-23T01:03:49.801728Z",
     "start_time": "2021-01-23T01:03:49.681Z"
    },
    "hidden": true
   },
   "outputs": [],
   "source": [
    "#take 10000 time steps forward 1 sec without stimulation\n",
    "tf=400\n",
    "# txt=txt_b.copy()\n",
    "num_steps=int((tf-t)/dt)\n",
    "txt_Istim=txt_Istim_none.copy()\n",
    "update_every=100\n",
    "step_count=0\n",
    "for n in range(num_steps):\n",
    "    kernelA(txt,txt_Istim)\n",
    "    kernelB(txt,txt_Istim)\n",
    "    step_count+=1\n",
    "    if step_count%update_every==0:\n",
    "#         t+=dt*update_every\n",
    "#         compute dict_out\n",
    "        printProgressBar(step_count,num_steps)\n",
    "t+=dt*num_steps#update_every\n",
    "print(f\"\\nthe number of steps taken is step_count = {step_count}.\")\n",
    "# beep(10)\n",
    "dt"
   ]
  },
  {
   "cell_type": "code",
   "execution_count": null,
   "metadata": {
    "ExecuteTime": {
     "end_time": "2021-01-23T01:03:49.802571Z",
     "start_time": "2021-01-23T01:03:49.683Z"
    },
    "hidden": true
   },
   "outputs": [],
   "source": [
    "#Visualize the buffer (plain)\n",
    "chnl=0\n",
    "print(np.max(txt[...,0]))\n",
    "img=txt[...,(0,-2,1)].copy()#chnl]#0,1,V,Ca_i,INa,IK\n",
    "mn=np.min(img[...,0]);mx=np.max(img[...,0])\n",
    "img[...,0]=(img[...,0]-mn)/(mx-mn)\n",
    "# mn=np.min(img[...,1]);mx=np.max(img[...,1])\n",
    "# img[...,1]=(img[...,1]-mn)/(mx-mn)\n",
    "mn=np.min(img[...,2]);mx=np.max(img[...,2])\n",
    "img[...,2]=(img[...,2]-mn)/(mx-mn)\n",
    "plt.subplots(figsize=(9,9))\n",
    "plt.imshow(img)#,cmap='gray',vmin=-80, vmax=15)\n",
    "plt.axis('off')\n",
    "# plt.title(f'channel {chnl}, time {t:.1f}\\n',c='k',fontsize=22)#c='w',fontsize=22)\n",
    "plt.show()"
   ]
  },
  {
   "cell_type": "code",
   "execution_count": null,
   "metadata": {
    "ExecuteTime": {
     "end_time": "2021-01-23T01:03:49.803537Z",
     "start_time": "2021-01-23T01:03:49.685Z"
    },
    "hidden": true
   },
   "outputs": [],
   "source": [
    "#save texture at this time t\n",
    "save=True\n",
    "if save:\n",
    "#     txt=stack_txt(inVc,outVc,inmhjdfx,outmhjdfx,dVcdt)\n",
    "    save_img_fn=f\"{nb_dir}/Data/initial-conditions-suite-3-LR/ic1800x1800_t_{t:.0f}.npz\"\n",
    "    #     img_out=txt#np.stack([img,dimgdt]).T\n",
    "    np.savez_compressed(save_img_fn,[txt])"
   ]
  },
  {
   "cell_type": "code",
   "execution_count": null,
   "metadata": {
    "ExecuteTime": {
     "end_time": "2021-01-23T01:03:49.804710Z",
     "start_time": "2021-01-23T01:03:49.687Z"
    },
    "hidden": true
   },
   "outputs": [],
   "source": [
    "#make null stimulus\n",
    "width,height,chnlno=txt.shape\n",
    "zero_c2=np.zeros(shape=(width,height,2), dtype=np.float64, order='C')\n",
    "txt_Istim_none=zero_c2[...,0].copy()\n",
    "\n",
    "#randomly place semicircular stimulus\n",
    "random.seed(108)#101)#104)#\n",
    "num_semi=7\n",
    "mag=-10\n",
    "\n",
    "txt_Istim=txt_Istim_none.copy()\n",
    "for n in range(num_semi):\n",
    "    x0=random.uniform(0,1)*width\n",
    "    y0=random.uniform(0,1)*height\n",
    "    deg=random.uniform(0,1)*360\n",
    "    txt_Istim+=get_semicircle(txt,deg,x0,y0)\n",
    "\n",
    "txt_Istim*=mag\n",
    "txt_Istim_semi=txt_Istim.copy()\n",
    "# #Visualize the buffer (plain)\n",
    "# chnl=0\n",
    "# # print(np.max(txt[...,0]))\n",
    "# img=txt_Istim_semi#txt[...,chnl]\n",
    "# plt.imshow(img,cmap='gray')#,vmin=-80, vmax=15)\n",
    "# plt.axis('off')\n",
    "# # plt.title(f'channel {chnl}, time {t:.1f}\\n',c='k',fontsize=22)#c='w',fontsize=22)\n",
    "# plt.show()"
   ]
  },
  {
   "cell_type": "code",
   "execution_count": null,
   "metadata": {
    "ExecuteTime": {
     "end_time": "2021-01-23T01:03:49.805714Z",
     "start_time": "2021-01-23T01:03:49.689Z"
    },
    "hidden": true
   },
   "outputs": [],
   "source": [
    "#semicircular stimulation\n",
    "tf=10\n",
    "# txt=txt_b.copy()\n",
    "num_steps=int((tf)/dt)\n",
    "txt_Istim=txt_Istim_semi.copy()\n",
    "update_every=100\n",
    "step_count=0\n",
    "for n in range(num_steps):\n",
    "    kernelA(txt,txt_Istim)\n",
    "    kernelB(txt,txt_Istim)\n",
    "    step_count+=1\n",
    "    if step_count%update_every==0:\n",
    "#         t+=dt*update_every\n",
    "#         compute dict_out\n",
    "        printProgressBar(step_count,num_steps)\n",
    "t+=dt*num_steps#update_every\n",
    "print(f\"\\nthe final time is t = {t} ms.\")\n",
    "# beep(10)"
   ]
  },
  {
   "cell_type": "code",
   "execution_count": null,
   "metadata": {
    "ExecuteTime": {
     "end_time": "2021-01-23T01:03:49.806454Z",
     "start_time": "2021-01-23T01:03:49.692Z"
    },
    "hidden": true
   },
   "outputs": [],
   "source": [
    "#Visualize the buffer (plain)\n",
    "print(np.max(txt[...,0]))\n",
    "img=txt[...,(0,-2,1)].copy()#chnl]#0,1,V,Ca_i,INa,IK\n",
    "mn=np.min(img[...,0]);mx=np.max(img[...,0])\n",
    "img[...,0]=(img[...,0]-mn)/(mx-mn)\n",
    "# mn=np.min(img[...,1]);mx=np.max(img[...,1])\n",
    "# img[...,1]=(img[...,1]-mn)/(mx-mn)\n",
    "mn=np.min(img[...,2]);mx=np.max(img[...,2])\n",
    "img[...,2]=(img[...,2]-mn)/(mx-mn)\n",
    "plt.subplots(figsize=(9,9))\n",
    "plt.imshow(img)#,cmap='gray',vmin=-80, vmax=15)\n",
    "plt.axis('off')\n",
    "# plt.title(f'channel {chnl}, time {t:.1f}\\n',c='k',fontsize=22)#c='w',fontsize=22)\n",
    "plt.show()"
   ]
  },
  {
   "cell_type": "code",
   "execution_count": null,
   "metadata": {
    "ExecuteTime": {
     "end_time": "2021-01-23T01:03:49.807439Z",
     "start_time": "2021-01-23T01:03:49.694Z"
    },
    "hidden": true
   },
   "outputs": [],
   "source": [
    "#take 10000 time steps forward 1 sec without stimulation\n",
    "tf=800\n",
    "# txt=txt_b.copy()\n",
    "num_steps=int((tf)/dt)\n",
    "txt_Istim=txt_Istim_none.copy()\n",
    "update_every=100\n",
    "step_count=0\n",
    "for n in range(num_steps):\n",
    "    kernelA(txt,txt_Istim)\n",
    "    kernelB(txt,txt_Istim)\n",
    "    step_count+=1\n",
    "    if step_count%update_every==0:\n",
    "#         t+=dt*update_every\n",
    "#         compute dict_out\n",
    "        printProgressBar(step_count,num_steps)\n",
    "t+=dt*num_steps#update_every\n",
    "print(f\"\\nthe number of steps taken is step_count = {step_count}.\")\n",
    "# beep(10)\n",
    "dt"
   ]
  },
  {
   "cell_type": "code",
   "execution_count": null,
   "metadata": {
    "ExecuteTime": {
     "end_time": "2021-01-23T01:03:49.808203Z",
     "start_time": "2021-01-23T01:03:49.696Z"
    },
    "hidden": true
   },
   "outputs": [],
   "source": [
    "#save texture at this time t\n",
    "save=True\n",
    "if save:\n",
    "#     txt=stack_txt(inVc,outVc,inmhjdfx,outmhjdfx,dVcdt)\n",
    "    save_img_fn=f\"{nb_dir}/Data/initial-conditions-suite-3-LR/ic1800x1800_t_{t:.0f}.npz\"\n",
    "    #     img_out=txt#np.stack([img,dimgdt]).T\n",
    "    np.savez_compressed(save_img_fn,[txt])"
   ]
  },
  {
   "cell_type": "code",
   "execution_count": null,
   "metadata": {
    "ExecuteTime": {
     "end_time": "2021-01-23T01:03:49.809006Z",
     "start_time": "2021-01-23T01:03:49.698Z"
    },
    "hidden": true
   },
   "outputs": [],
   "source": [
    "#Visualize the buffer (plain)\n",
    "print(np.max(txt[...,0]))\n",
    "img=txt[...,(0,-2,1)].copy()#chnl]#0,1,V,Ca_i,INa,IK\n",
    "mn=np.min(img[...,0]);mx=np.max(img[...,0])\n",
    "img[...,0]=(img[...,0]-mn)/(mx-mn)\n",
    "# mn=np.min(img[...,1]);mx=np.max(img[...,1])\n",
    "# img[...,1]=(img[...,1]-mn)/(mx-mn)\n",
    "mn=np.min(img[...,2]);mx=np.max(img[...,2])\n",
    "img[...,2]=(img[...,2]-mn)/(mx-mn)\n",
    "plt.subplots(figsize=(9,9))\n",
    "plt.imshow(img)#,cmap='gray',vmin=-80, vmax=15)\n",
    "plt.axis('off')\n",
    "# plt.title(f'channel {chnl}, time {t:.1f}\\n',c='k',fontsize=22)#c='w',fontsize=22)\n",
    "plt.show()"
   ]
  },
  {
   "cell_type": "code",
   "execution_count": null,
   "metadata": {
    "ExecuteTime": {
     "end_time": "2021-01-23T01:03:49.809760Z",
     "start_time": "2021-01-23T01:03:49.700Z"
    },
    "hidden": true
   },
   "outputs": [],
   "source": [
    "#make null stimulus\n",
    "width,height,chnlno=txt.shape\n",
    "zero_c2=np.zeros(shape=(width,height,2), dtype=np.float64, order='C')\n",
    "txt_Istim_none=zero_c2[...,0].copy()\n",
    "\n",
    "#randomly place semicircular stimulus\n",
    "random.seed(104)#108)#101)#\n",
    "num_semi=7\n",
    "mag=-10\n",
    "\n",
    "txt_Istim=txt_Istim_none.copy()\n",
    "for n in range(num_semi):\n",
    "    x0=random.uniform(0,1)*width\n",
    "    y0=random.uniform(0,1)*height\n",
    "    deg=random.uniform(0,1)*360\n",
    "    txt_Istim+=get_semicircle(txt,deg,x0,y0)\n",
    "txt_Istim*=mag\n",
    "txt_Istim_semi=txt_Istim.copy()\n",
    "# #Visualize the buffer (plain)\n",
    "# chnl=0\n",
    "# # print(np.max(txt[...,0]))\n",
    "# img=txt_Istim_semi#txt[...,chnl]\n",
    "# plt.imshow(img,cmap='gray')#,vmin=-80, vmax=15)\n",
    "# plt.axis('off')\n",
    "# # plt.title(f'channel {chnl}, time {t:.1f}\\n',c='k',fontsize=22)#c='w',fontsize=22)\n",
    "# plt.show()"
   ]
  },
  {
   "cell_type": "code",
   "execution_count": null,
   "metadata": {
    "ExecuteTime": {
     "end_time": "2021-01-23T01:03:49.810567Z",
     "start_time": "2021-01-23T01:03:49.703Z"
    },
    "hidden": true
   },
   "outputs": [],
   "source": [
    "#semicircular stimulation\n",
    "tf=10\n",
    "# txt=txt_b.copy()\n",
    "num_steps=int((tf)/dt)\n",
    "txt_Istim=txt_Istim_semi.copy()\n",
    "update_every=100\n",
    "step_count=0\n",
    "for n in range(num_steps):\n",
    "    kernelA(txt,txt_Istim)\n",
    "    kernelB(txt,txt_Istim)\n",
    "    step_count+=1\n",
    "    if step_count%update_every==0:\n",
    "#         t+=dt*update_every\n",
    "#         compute dict_out\n",
    "        printProgressBar(step_count,num_steps)\n",
    "t+=dt*num_steps#update_every\n",
    "print(f\"\\nthe final time is t = {t} ms.\")\n",
    "# beep(10)"
   ]
  },
  {
   "cell_type": "code",
   "execution_count": null,
   "metadata": {
    "ExecuteTime": {
     "end_time": "2021-01-23T01:03:49.811284Z",
     "start_time": "2021-01-23T01:03:49.705Z"
    },
    "hidden": true
   },
   "outputs": [],
   "source": [
    "#Visualize the buffer (plain)\n",
    "print(np.max(txt[...,0]))\n",
    "img=txt[...,(0,-2,1)].copy()#chnl]#0,1,V,Ca_i,INa,IK\n",
    "mn=np.min(img[...,0]);mx=np.max(img[...,0])\n",
    "img[...,0]=(img[...,0]-mn)/(mx-mn)\n",
    "# mn=np.min(img[...,1]);mx=np.max(img[...,1])\n",
    "# img[...,1]=(img[...,1]-mn)/(mx-mn)\n",
    "mn=np.min(img[...,2]);mx=np.max(img[...,2])\n",
    "img[...,2]=(img[...,2]-mn)/(mx-mn)\n",
    "plt.subplots(figsize=(9,9))\n",
    "plt.imshow(img)#,cmap='gray',vmin=-80, vmax=15)\n",
    "plt.axis('off')\n",
    "# plt.title(f'channel {chnl}, time {t:.1f}\\n',c='k',fontsize=22)#c='w',fontsize=22)\n",
    "plt.show()"
   ]
  },
  {
   "cell_type": "code",
   "execution_count": null,
   "metadata": {
    "ExecuteTime": {
     "end_time": "2021-01-23T01:03:49.812046Z",
     "start_time": "2021-01-23T01:03:49.707Z"
    },
    "hidden": true
   },
   "outputs": [],
   "source": [
    "#take 10000 time steps forward 1 sec without stimulation\n",
    "tf=800\n",
    "# txt=txt_b.copy()\n",
    "num_steps=int((tf)/dt)\n",
    "txt_Istim=txt_Istim_none.copy()\n",
    "update_every=100\n",
    "step_count=0\n",
    "for n in range(num_steps):\n",
    "    kernelA(txt,txt_Istim)\n",
    "    kernelB(txt,txt_Istim)\n",
    "    step_count+=1\n",
    "    if step_count%update_every==0:\n",
    "#         t+=dt*update_every\n",
    "#         compute dict_out\n",
    "        printProgressBar(step_count,num_steps)\n",
    "t+=dt*num_steps#update_every\n",
    "print(f\"\\nthe number of steps taken is step_count = {step_count}.\")\n",
    "# beep(10)\n",
    "dt"
   ]
  },
  {
   "cell_type": "code",
   "execution_count": null,
   "metadata": {
    "ExecuteTime": {
     "end_time": "2021-01-23T01:03:49.812689Z",
     "start_time": "2021-01-23T01:03:49.709Z"
    },
    "hidden": true
   },
   "outputs": [],
   "source": [
    "#save texture at this time t\n",
    "save=True\n",
    "if save:\n",
    "#     txt=stack_txt(inVc,outVc,inmhjdfx,outmhjdfx,dVcdt)\n",
    "    save_img_fn=f\"{nb_dir}/Data/initial-conditions-suite-3-LR/ic1800x1800_t_{t:.0f}.npz\"\n",
    "    #     img_out=txt#np.stack([img,dimgdt]).T\n",
    "    np.savez_compressed(save_img_fn,[txt])"
   ]
  },
  {
   "cell_type": "code",
   "execution_count": null,
   "metadata": {
    "ExecuteTime": {
     "end_time": "2021-01-23T01:03:49.813480Z",
     "start_time": "2021-01-23T01:03:49.711Z"
    },
    "hidden": true
   },
   "outputs": [],
   "source": [
    "#Visualize the buffer (plain)\n",
    "print(np.max(txt[...,0]))\n",
    "img=txt[...,(0,-2,1)].copy()#chnl]#0,1,V,Ca_i,INa,IK\n",
    "mn=np.min(img[...,0]);mx=np.max(img[...,0])\n",
    "img[...,0]=(img[...,0]-mn)/(mx-mn)\n",
    "# mn=np.min(img[...,1]);mx=np.max(img[...,1])\n",
    "# img[...,1]=(img[...,1]-mn)/(mx-mn)\n",
    "mn=np.min(img[...,2]);mx=np.max(img[...,2])\n",
    "img[...,2]=(img[...,2]-mn)/(mx-mn)\n",
    "plt.subplots(figsize=(9,9))\n",
    "plt.imshow(img)#,cmap='gray',vmin=-80, vmax=15)\n",
    "plt.axis('off')\n",
    "# plt.title(f'channel {chnl}, time {t:.1f}\\n',c='k',fontsize=22)#c='w',fontsize=22)\n",
    "plt.show()"
   ]
  },
  {
   "cell_type": "code",
   "execution_count": null,
   "metadata": {
    "ExecuteTime": {
     "end_time": "2021-01-23T01:03:49.814163Z",
     "start_time": "2021-01-23T01:03:49.713Z"
    },
    "hidden": true
   },
   "outputs": [],
   "source": [
    "#make null stimulus\n",
    "width,height,chnlno=txt.shape\n",
    "zero_c2=np.zeros(shape=(width,height,2), dtype=np.float64, order='C')\n",
    "txt_Istim_none=zero_c2[...,0].copy()\n",
    "\n",
    "#randomly place semicircular stimulus\n",
    "random.seed(101)#104)#108)#\n",
    "num_semi=7\n",
    "mag=-10\n",
    "\n",
    "txt_Istim=txt_Istim_none.copy()\n",
    "for n in range(num_semi):\n",
    "    x0=random.uniform(0,1)*width\n",
    "    y0=random.uniform(0,1)*height\n",
    "    deg=random.uniform(0,1)*360\n",
    "    txt_Istim+=get_semicircle(txt,deg,x0,y0)\n",
    "\n",
    "txt_Istim*=mag\n",
    "txt_Istim_semi=txt_Istim.copy()\n",
    "# #Visualize the buffer (plain)\n",
    "# chnl=0\n",
    "# # print(np.max(txt[...,0]))\n",
    "# img=txt_Istim_semi#txt[...,chnl]\n",
    "# plt.imshow(img,cmap='gray')#,vmin=-80, vmax=15)\n",
    "# plt.axis('off')\n",
    "# # plt.title(f'channel {chnl}, time {t:.1f}\\n',c='k',fontsize=22)#c='w',fontsize=22)\n",
    "# plt.show()"
   ]
  },
  {
   "cell_type": "code",
   "execution_count": null,
   "metadata": {
    "ExecuteTime": {
     "end_time": "2021-01-23T01:03:49.814941Z",
     "start_time": "2021-01-23T01:03:49.716Z"
    },
    "hidden": true
   },
   "outputs": [],
   "source": [
    "#semicircular stimulation\n",
    "tf=10\n",
    "# txt=txt_b.copy()\n",
    "num_steps=int((tf)/dt)\n",
    "txt_Istim=txt_Istim_semi.copy()\n",
    "update_every=100\n",
    "step_count=0\n",
    "for n in range(num_steps):\n",
    "    kernelA(txt,txt_Istim)\n",
    "    kernelB(txt,txt_Istim)\n",
    "    step_count+=1\n",
    "    if step_count%update_every==0:\n",
    "#         t+=dt*update_every\n",
    "#         compute dict_out\n",
    "        printProgressBar(step_count,num_steps)\n",
    "t+=dt*num_steps#update_every\n",
    "print(f\"\\nthe final time is t = {t} ms.\")\n",
    "# beep(10)"
   ]
  },
  {
   "cell_type": "code",
   "execution_count": null,
   "metadata": {
    "ExecuteTime": {
     "end_time": "2021-01-23T01:03:49.815582Z",
     "start_time": "2021-01-23T01:03:49.718Z"
    },
    "hidden": true
   },
   "outputs": [],
   "source": [
    "#Visualize the buffer (plain)\n",
    "print(np.max(txt[...,0]))\n",
    "img=txt[...,(0,-2,1)].copy()#chnl]#0,1,V,Ca_i,INa,IK\n",
    "mn=np.min(img[...,0]);mx=np.max(img[...,0])\n",
    "img[...,0]=(img[...,0]-mn)/(mx-mn)\n",
    "# mn=np.min(img[...,1]);mx=np.max(img[...,1])\n",
    "# img[...,1]=(img[...,1]-mn)/(mx-mn)\n",
    "mn=np.min(img[...,2]);mx=np.max(img[...,2])\n",
    "img[...,2]=(img[...,2]-mn)/(mx-mn)\n",
    "plt.subplots(figsize=(9,9))\n",
    "plt.imshow(img)#,cmap='gray',vmin=-80, vmax=15)\n",
    "plt.axis('off')\n",
    "# plt.title(f'channel {chnl}, time {t:.1f}\\n',c='k',fontsize=22)#c='w',fontsize=22)\n",
    "plt.show()"
   ]
  },
  {
   "cell_type": "code",
   "execution_count": null,
   "metadata": {
    "ExecuteTime": {
     "end_time": "2021-01-23T01:03:49.816198Z",
     "start_time": "2021-01-23T01:03:49.720Z"
    },
    "hidden": true
   },
   "outputs": [],
   "source": [
    "#take 10000 time steps forward 1 sec without stimulation\n",
    "tf=800\n",
    "# txt=txt_b.copy()\n",
    "num_steps=int((tf)/dt)\n",
    "txt_Istim=txt_Istim_none.copy()\n",
    "update_every=100\n",
    "step_count=0\n",
    "for n in range(num_steps):\n",
    "    kernelA(txt,txt_Istim)\n",
    "    kernelB(txt,txt_Istim)\n",
    "    step_count+=1\n",
    "    if step_count%update_every==0:\n",
    "#         t+=dt*update_every\n",
    "#         compute dict_out\n",
    "        printProgressBar(step_count,num_steps)\n",
    "t+=dt*num_steps#update_every\n",
    "print(f\"\\nthe number of steps taken is step_count = {step_count}.\")\n",
    "# beep(10)\n",
    "dt"
   ]
  },
  {
   "cell_type": "code",
   "execution_count": null,
   "metadata": {
    "ExecuteTime": {
     "end_time": "2021-01-23T01:03:49.816807Z",
     "start_time": "2021-01-23T01:03:49.722Z"
    },
    "hidden": true
   },
   "outputs": [],
   "source": [
    "#save texture at this time t\n",
    "save=True\n",
    "if save:\n",
    "#     txt=stack_txt(inVc,outVc,inmhjdfx,outmhjdfx,dVcdt)\n",
    "    save_img_fn=f\"{nb_dir}/Data/initial-conditions-suite-3-LR/ic1800x1800_t_{t:.0f}.npz\"\n",
    "    #     img_out=txt#np.stack([img,dimgdt]).T\n",
    "    np.savez_compressed(save_img_fn,[txt])"
   ]
  },
  {
   "cell_type": "code",
   "execution_count": null,
   "metadata": {
    "ExecuteTime": {
     "end_time": "2021-01-23T01:03:49.817399Z",
     "start_time": "2021-01-23T01:03:49.724Z"
    },
    "hidden": true
   },
   "outputs": [],
   "source": [
    "#Visualize the buffer (plain)\n",
    "print(np.max(txt[...,0]))\n",
    "img=txt[...,(0,-2,1)].copy()#chnl]#0,1,V,Ca_i,INa,IK\n",
    "mn=np.min(img[...,0]);mx=np.max(img[...,0])\n",
    "img[...,0]=(img[...,0]-mn)/(mx-mn)\n",
    "# mn=np.min(img[...,1]);mx=np.max(img[...,1])\n",
    "# img[...,1]=(img[...,1]-mn)/(mx-mn)\n",
    "mn=np.min(img[...,2]);mx=np.max(img[...,2])\n",
    "img[...,2]=(img[...,2]-mn)/(mx-mn)\n",
    "plt.subplots(figsize=(9,9))\n",
    "plt.imshow(img)#,cmap='gray',vmin=-80, vmax=15)\n",
    "plt.axis('off')\n",
    "# plt.title(f'channel {chnl}, time {t:.1f}\\n',c='k',fontsize=22)#c='w',fontsize=22)\n",
    "plt.show()"
   ]
  },
  {
   "cell_type": "markdown",
   "metadata": {
    "hidden": true
   },
   "source": [
    "Now, chunk ^these into 200x200 regions, and verify that each one contains spiral tips!"
   ]
  },
  {
   "cell_type": "code",
   "execution_count": null,
   "metadata": {
    "ExecuteTime": {
     "end_time": "2021-01-23T01:03:49.818147Z",
     "start_time": "2021-01-23T01:03:49.726Z"
    },
    "hidden": true
   },
   "outputs": [],
   "source": [
    "#save texture at this time t\n",
    "save=True\n",
    "if save:\n",
    "#     txt=stack_txt(inVc,outVc,inmhjdfx,outmhjdfx,dVcdt)\n",
    "    save_img_fn=f\"{nb_dir}/Data/initial-conditions-suite-3-LR/ic1800x1800_t_{t:.0f}_tiny.npz\"\n",
    "    #     img_out=txt#np.stack([img,dimgdt]).T\n",
    "    np.savez_compressed(save_img_fn,[txt.astype('float16')])"
   ]
  },
  {
   "cell_type": "code",
   "execution_count": null,
   "metadata": {
    "ExecuteTime": {
     "end_time": "2021-01-23T01:03:49.818773Z",
     "start_time": "2021-01-23T01:03:49.728Z"
    },
    "hidden": true
   },
   "outputs": [],
   "source": [
    "save_img_fn"
   ]
  },
  {
   "cell_type": "code",
   "execution_count": null,
   "metadata": {
    "ExecuteTime": {
     "end_time": "2021-01-23T01:03:49.819470Z",
     "start_time": "2021-01-23T01:03:49.730Z"
    },
    "hidden": true
   },
   "outputs": [],
   "source": [
    "# #load the tiny buffer and verify it is still looks reasonable when compressing to float16.  Let's use float32\n",
    "# img_fn='/Users/timothytyree/Documents/GitHub/care/notebooks/Data/initial-conditions-suite-3-LR/ic1800x1800_t_2830_tiny.npz'\n",
    "# # img_fn=f'{nb_dir}/Data/initial-conditions-suite-3-LR/ic600x600_tt/ic001.npz'\n",
    "# txt_tiny=load_buffer(img_fn)[0]\n",
    "# # #Visualize the buffer (plain)\n",
    "# # print(np.max(txt_tiny[...,0]))\n",
    "# # img=txt_tiny.astype('float32')[...,(0,-2,1)].copy()#chnl]#0,1,V,Ca_i,INa,IK\n",
    "# # mn=np.min(img[...,0]);mx=np.max(img[...,0])\n",
    "# # img[...,0]=(img[...,0]-mn)/(mx-mn)\n",
    "# # # mn=np.min(img[...,1]);mx=np.max(img[...,1])\n",
    "# # # img[...,1]=(img[...,1]-mn)/(mx-mn)\n",
    "# # mn=np.min(img[...,2]);mx=np.max(img[...,2])\n",
    "# # img[...,2]=(img[...,2]-mn)/(mx-mn)\n",
    "# # plt.subplots(figsize=(9,9))\n",
    "# # plt.imshow(img)#,cmap='gray',vmin=-80, vmax=15)\n",
    "# # plt.axis('off')\n",
    "# # # plt.title(f'channel {chnl}, time {t:.1f}\\n',c='k',fontsize=22)#c='w',fontsize=22)\n",
    "# # plt.show()\n",
    "# txt_tiny[0,0,6]"
   ]
  },
  {
   "cell_type": "code",
   "execution_count": null,
   "metadata": {
    "ExecuteTime": {
     "end_time": "2021-01-21T19:15:26.192486Z",
     "start_time": "2021-01-21T19:15:26.146891Z"
    },
    "hidden": true
   },
   "outputs": [],
   "source": []
  },
  {
   "cell_type": "code",
   "execution_count": null,
   "metadata": {
    "ExecuteTime": {
     "end_time": "2021-01-23T01:03:49.820096Z",
     "start_time": "2021-01-23T01:03:49.733Z"
    },
    "hidden": true
   },
   "outputs": [],
   "source": [
    "img_fn='/Users/timothytyree/Documents/GitHub/care/notebooks/Data/initial-conditions-suite-3-LR/ic1800x1800_t_2830.npz'\n",
    "t=2830\n",
    "# img_fn=f'{nb_dir}/Data/initial-conditions-suite-3-LR/ic600x600_tt/ic001.npz'\n",
    "txt=load_buffer(img_fn)[0]\n",
    "txt.shape"
   ]
  },
  {
   "cell_type": "code",
   "execution_count": null,
   "metadata": {
    "ExecuteTime": {
     "end_time": "2021-01-23T01:03:49.820806Z",
     "start_time": "2021-01-23T01:03:49.735Z"
    },
    "hidden": true
   },
   "outputs": [],
   "source": [
    "#make null stimulus\n",
    "width,height,chnlno=txt.shape\n",
    "zero_c2=np.zeros(shape=(width,height,2), dtype=np.float64, order='C')\n",
    "txt_Istim_none=zero_c2[...,0].copy()\n",
    "\n",
    "#randomly place semicircular stimulus\n",
    "random.seed(1011)#101)#104)#\n",
    "num_semi=7\n",
    "mag=-10\n",
    "\n",
    "txt_Istim=txt_Istim_none.copy()\n",
    "for n in range(num_semi):\n",
    "    x0=random.uniform(0,1)*width\n",
    "    y0=random.uniform(0,1)*height\n",
    "    deg=random.uniform(0,1)*360\n",
    "    txt_Istim+=get_semicircle(txt,deg,x0,y0)\n",
    "\n",
    "txt_Istim*=mag\n",
    "txt_Istim_semi=txt_Istim.copy()\n",
    "# #Visualize the buffer (plain)\n",
    "# chnl=0\n",
    "# # print(np.max(txt[...,0]))\n",
    "# img=txt_Istim_semi#txt[...,chnl]\n",
    "# plt.imshow(img,cmap='gray')#,vmin=-80, vmax=15)\n",
    "# plt.axis('off')\n",
    "# # plt.title(f'channel {chnl}, time {t:.1f}\\n',c='k',fontsize=22)#c='w',fontsize=22)\n",
    "# plt.show()"
   ]
  },
  {
   "cell_type": "code",
   "execution_count": null,
   "metadata": {
    "ExecuteTime": {
     "end_time": "2021-01-23T01:03:49.821464Z",
     "start_time": "2021-01-23T01:03:49.737Z"
    },
    "hidden": true
   },
   "outputs": [],
   "source": [
    "#semicircular stimulation\n",
    "tf=10\n",
    "# txt=txt_b.copy()\n",
    "num_steps=int((tf)/dt)\n",
    "txt_Istim=txt_Istim_semi.copy()\n",
    "update_every=100\n",
    "step_count=0\n",
    "for n in range(num_steps):\n",
    "    kernelA(txt,txt_Istim)\n",
    "    kernelB(txt,txt_Istim)\n",
    "    step_count+=1\n",
    "    if step_count%update_every==0:\n",
    "#         t+=dt*update_every\n",
    "#         compute dict_out\n",
    "        printProgressBar(step_count,num_steps)\n",
    "t+=dt*num_steps#update_every\n",
    "print(f\"\\nthe final time is t = {t} ms.\")\n",
    "# beep(10)"
   ]
  },
  {
   "cell_type": "code",
   "execution_count": null,
   "metadata": {
    "ExecuteTime": {
     "end_time": "2021-01-23T01:03:49.822149Z",
     "start_time": "2021-01-23T01:03:49.740Z"
    },
    "hidden": true
   },
   "outputs": [],
   "source": [
    "#Visualize the buffer (plain)\n",
    "print(np.max(txt[...,0]))\n",
    "img=txt[...,(0,-2,1)].copy()#chnl]#0,1,V,Ca_i,INa,IK\n",
    "mn=np.min(img[...,0]);mx=np.max(img[...,0])\n",
    "img[...,0]=(img[...,0]-mn)/(mx-mn)\n",
    "# mn=np.min(img[...,1]);mx=np.max(img[...,1])\n",
    "# img[...,1]=(img[...,1]-mn)/(mx-mn)\n",
    "mn=np.min(img[...,2]);mx=np.max(img[...,2])\n",
    "img[...,2]=(img[...,2]-mn)/(mx-mn)\n",
    "plt.subplots(figsize=(9,9))\n",
    "plt.imshow(img)#,cmap='gray',vmin=-80, vmax=15)\n",
    "plt.axis('off')\n",
    "# plt.title(f'channel {chnl}, time {t:.1f}\\n',c='k',fontsize=22)#c='w',fontsize=22)\n",
    "plt.show()"
   ]
  },
  {
   "cell_type": "code",
   "execution_count": null,
   "metadata": {
    "ExecuteTime": {
     "end_time": "2021-01-23T01:03:49.822854Z",
     "start_time": "2021-01-23T01:03:49.742Z"
    },
    "hidden": true
   },
   "outputs": [],
   "source": [
    "#take 10000 time steps forward 1 sec without stimulation\n",
    "tf=800\n",
    "# txt=txt_b.copy()\n",
    "num_steps=int((tf)/dt)\n",
    "txt_Istim=txt_Istim_none.copy()\n",
    "update_every=100\n",
    "step_count=0\n",
    "for n in range(num_steps):\n",
    "    kernelA(txt,txt_Istim)\n",
    "    kernelB(txt,txt_Istim)\n",
    "    step_count+=1\n",
    "    if step_count%update_every==0:\n",
    "#         t+=dt*update_every\n",
    "#         compute dict_out\n",
    "        printProgressBar(step_count,num_steps)\n",
    "t+=dt*num_steps#update_every\n",
    "print(f\"\\nthe number of steps taken is step_count = {step_count}.\")\n",
    "beep(10)"
   ]
  },
  {
   "cell_type": "code",
   "execution_count": null,
   "metadata": {
    "ExecuteTime": {
     "end_time": "2021-01-23T01:03:49.823592Z",
     "start_time": "2021-01-23T01:03:49.744Z"
    },
    "hidden": true
   },
   "outputs": [],
   "source": [
    "#Visualize the buffer (plain)\n",
    "print(np.max(txt[...,0]))\n",
    "img=txt[...,(0,-2,1)].copy()#chnl]#0,1,V,Ca_i,INa,IK\n",
    "mn=np.min(img[...,0]);mx=np.max(img[...,0])\n",
    "img[...,0]=(img[...,0]-mn)/(mx-mn)\n",
    "# mn=np.min(img[...,1]);mx=np.max(img[...,1])\n",
    "# img[...,1]=(img[...,1]-mn)/(mx-mn)\n",
    "mn=np.min(img[...,2]);mx=np.max(img[...,2])\n",
    "img[...,2]=(img[...,2]-mn)/(mx-mn)\n",
    "plt.subplots(figsize=(9,9))\n",
    "plt.imshow(img)#,cmap='gray',vmin=-80, vmax=15)\n",
    "plt.axis('off')\n",
    "# plt.title(f'channel {chnl}, time {t:.1f}\\n',c='k',fontsize=22)#c='w',fontsize=22)\n",
    "plt.show()"
   ]
  },
  {
   "cell_type": "code",
   "execution_count": null,
   "metadata": {
    "ExecuteTime": {
     "end_time": "2021-01-23T01:03:49.824270Z",
     "start_time": "2021-01-23T01:03:49.746Z"
    },
    "hidden": true
   },
   "outputs": [],
   "source": [
    "#save texture at this time t\n",
    "save=True\n",
    "if save:\n",
    "#     txt=stack_txt(inVc,outVc,inmhjdfx,outmhjdfx,dVcdt)\n",
    "    save_img_fn=f\"{nb_dir}/Data/initial-conditions-suite-3-LR/ic1800x1800_t_{t:.0f}.npz\"\n",
    "    #     img_out=txt#np.stack([img,dimgdt]).T\n",
    "    np.savez_compressed(save_img_fn,[txt])#.astype('float16')])"
   ]
  },
  {
   "cell_type": "markdown",
   "metadata": {
    "heading_collapsed": true
   },
   "source": [
    "# check if spiral tips are present"
   ]
  },
  {
   "cell_type": "code",
   "execution_count": 2,
   "metadata": {
    "ExecuteTime": {
     "end_time": "2021-01-23T15:43:23.621063Z",
     "start_time": "2021-01-23T15:43:23.608047Z"
    },
    "hidden": true
   },
   "outputs": [],
   "source": [
    "ic_fn_lst=[\n",
    "    \"ic018.13.npz\",\n",
    "    \"ic008.23.npz\",\n",
    "    \"ic017.13.npz\",\n",
    "    \"ic005.11.npz\",\n",
    "    \"ic013.12.npz\",\n",
    "    \"ic011.12.npz\",\n",
    "    \"ic007.22.npz\",\n",
    "    \"ic012.32.npz\",\n",
    "    \"ic007.33.npz\",\n",
    "    \"ic014.11.npz\",\n",
    "    \"ic013.22.npz\",\n",
    "    \"ic017.11.npz\",\n",
    "    \"ic009.21.npz\",\n",
    "    \"ic007.12.npz\"\n",
    "]"
   ]
  },
  {
   "cell_type": "code",
   "execution_count": null,
   "metadata": {
    "ExecuteTime": {
     "end_time": "2021-01-23T01:03:49.825776Z",
     "start_time": "2021-01-23T01:03:49.751Z"
    },
    "hidden": true
   },
   "outputs": [],
   "source": [
    "# input_file_name=\"ic007.12.npz\"\n",
    "input_folder=f\"{nb_dir}/Data/initial-conditions-suite-3-LR/ic-out\"\n",
    "os.chdir(input_folder)\n",
    "not_reasonable_lst=[]\n",
    "num_todo=1\n",
    "compute_all_spiral_tips= get_compute_all_spiral_tips(mode='simp',width=width,height=height)\n",
    "for input_file_name in ic_fn_lst[:num_todo]:\n",
    "    txt=load_buffer(input_file_name)\n",
    "\n",
    "    #test the V_threshold value\n",
    "    V_threshold=-60.\n",
    "    level1 = V_threshold\n",
    "    t=-999\n",
    "    level2 = 0.\n",
    "    inVc,outVc,inmhjdfx,outmhjdfx,dVcdt=unstack_txt(txt)\n",
    "    img=inVc[...,0]\n",
    "    dimgdt=dVcdt[...,0]\n",
    "    dict_out=compute_all_spiral_tips(t,img,dimgdt,level1,level2)#,width=width,height=height)\n",
    "    print(len(list(dict_out['x'])))\n",
    "    fig=show_buffer_LR(txt,figsize=(3,3))\n",
    "    axs=fig.get_axes()\n",
    "    ax=axs[0]\n",
    "    ax.scatter(dict_out['x'],dict_out['y'],s=150,c='yellow',marker='*')\n",
    "    plt.show()\n",
    "    retval=input(f\"is_reasonable? (enter y/n)\")\n",
    "    if retval[0]!='y':\n",
    "        not_reasonable_lst.append(input_file_name)\n",
    "    plt.close()"
   ]
  },
  {
   "cell_type": "code",
   "execution_count": null,
   "metadata": {
    "ExecuteTime": {
     "end_time": "2021-01-23T01:03:49.826401Z",
     "start_time": "2021-01-23T01:03:49.753Z"
    },
    "hidden": true
   },
   "outputs": [],
   "source": [
    "print(not_reasonable_lst)"
   ]
  },
  {
   "cell_type": "code",
   "execution_count": 4,
   "metadata": {
    "ExecuteTime": {
     "end_time": "2021-01-23T15:43:37.859558Z",
     "start_time": "2021-01-23T15:43:37.658825Z"
    },
    "hidden": true
   },
   "outputs": [
    {
     "ename": "NameError",
     "evalue": "name 'compute_all_spiral_tips' is not defined",
     "output_type": "error",
     "traceback": [
      "\u001b[0;31m---------------------------------------------------------------------------\u001b[0m",
      "\u001b[0;31mNameError\u001b[0m                                 Traceback (most recent call last)",
      "\u001b[0;32m<ipython-input-4-b6921d381b04>\u001b[0m in \u001b[0;36m<module>\u001b[0;34m\u001b[0m\n\u001b[1;32m     13\u001b[0m \u001b[0mimg\u001b[0m\u001b[0;34m=\u001b[0m\u001b[0minVc\u001b[0m\u001b[0;34m[\u001b[0m\u001b[0;34m...\u001b[0m\u001b[0;34m,\u001b[0m\u001b[0;36m0\u001b[0m\u001b[0;34m]\u001b[0m\u001b[0;34m\u001b[0m\u001b[0;34m\u001b[0m\u001b[0m\n\u001b[1;32m     14\u001b[0m \u001b[0mdimgdt\u001b[0m\u001b[0;34m=\u001b[0m\u001b[0mdVcdt\u001b[0m\u001b[0;34m[\u001b[0m\u001b[0;34m...\u001b[0m\u001b[0;34m,\u001b[0m\u001b[0;36m0\u001b[0m\u001b[0;34m]\u001b[0m\u001b[0;34m\u001b[0m\u001b[0;34m\u001b[0m\u001b[0m\n\u001b[0;32m---> 15\u001b[0;31m \u001b[0mdict_out\u001b[0m\u001b[0;34m=\u001b[0m\u001b[0mcompute_all_spiral_tips\u001b[0m\u001b[0;34m(\u001b[0m\u001b[0mt\u001b[0m\u001b[0;34m,\u001b[0m\u001b[0mimg\u001b[0m\u001b[0;34m,\u001b[0m\u001b[0mdimgdt\u001b[0m\u001b[0;34m,\u001b[0m\u001b[0mlevel1\u001b[0m\u001b[0;34m,\u001b[0m\u001b[0mlevel2\u001b[0m\u001b[0;34m)\u001b[0m\u001b[0;31m#,width=width,height=height)\u001b[0m\u001b[0;34m\u001b[0m\u001b[0;34m\u001b[0m\u001b[0m\n\u001b[0m\u001b[1;32m     16\u001b[0m \u001b[0mprint\u001b[0m\u001b[0;34m(\u001b[0m\u001b[0mlen\u001b[0m\u001b[0;34m(\u001b[0m\u001b[0mlist\u001b[0m\u001b[0;34m(\u001b[0m\u001b[0mdict_out\u001b[0m\u001b[0;34m[\u001b[0m\u001b[0;34m'x'\u001b[0m\u001b[0;34m]\u001b[0m\u001b[0;34m)\u001b[0m\u001b[0;34m)\u001b[0m\u001b[0;34m)\u001b[0m\u001b[0;34m\u001b[0m\u001b[0;34m\u001b[0m\u001b[0m\n\u001b[1;32m     17\u001b[0m \u001b[0mfig\u001b[0m\u001b[0;34m=\u001b[0m\u001b[0mshow_buffer_LR\u001b[0m\u001b[0;34m(\u001b[0m\u001b[0mtxt\u001b[0m\u001b[0;34m,\u001b[0m\u001b[0mfigsize\u001b[0m\u001b[0;34m=\u001b[0m\u001b[0;34m(\u001b[0m\u001b[0;36m3\u001b[0m\u001b[0;34m,\u001b[0m\u001b[0;36m3\u001b[0m\u001b[0;34m)\u001b[0m\u001b[0;34m)\u001b[0m\u001b[0;34m\u001b[0m\u001b[0;34m\u001b[0m\u001b[0m\n",
      "\u001b[0;31mNameError\u001b[0m: name 'compute_all_spiral_tips' is not defined"
     ]
    }
   ],
   "source": [
    "input_folder=f\"{nb_dir}/Data/initial-conditions-suite-3-LR/ic-in\"\n",
    "os.chdir(input_folder)\n",
    "input_file_name='ic005.11.npz'\n",
    "# txt=load_buffer('ic017.11.npz')#test the V_threshold value\n",
    "# V_threshold=-50#all okay-60.#-50.#-40\n",
    "txt=load_buffer(input_file_name)#test the V_threshold value\n",
    "V_threshold=-60\n",
    "\n",
    "level1 = V_threshold\n",
    "t=-999\n",
    "level2 = 0.\n",
    "inVc,outVc,inmhjdfx,outmhjdfx,dVcdt=unstack_txt(txt)\n",
    "img=inVc[...,0]\n",
    "dimgdt=dVcdt[...,0]\n",
    "compute_all_spiral_tips= get_compute_all_spiral_tips(mode='simp',width=width,height=height)\n",
    "dict_out=compute_all_spiral_tips(t,img,dimgdt,level1,level2)#,width=width,height=height)\n",
    "print(len(list(dict_out['x'])))\n",
    "fig=show_buffer_LR(txt,figsize=(3,3))\n",
    "axs=fig.get_axes()\n",
    "ax=axs[0]\n",
    "ax.scatter(dict_out['x'],dict_out['y'],s=150,c='yellow',marker='*')\n",
    "plt.show()"
   ]
  },
  {
   "cell_type": "code",
   "execution_count": null,
   "metadata": {
    "hidden": true
   },
   "outputs": [],
   "source": []
  },
  {
   "cell_type": "markdown",
   "metadata": {},
   "source": [
    "# __confirmed__ the tip generating routine has been not getting spiral tips for simulations that contain spiral tips.\n"
   ]
  },
  {
   "cell_type": "markdown",
   "metadata": {
    "heading_collapsed": true
   },
   "source": [
    "# (ignore) scratchwerk/routine dev"
   ]
  },
  {
   "cell_type": "code",
   "execution_count": 41,
   "metadata": {
    "ExecuteTime": {
     "end_time": "2021-01-23T16:37:17.208399Z",
     "start_time": "2021-01-23T16:36:20.100852Z"
    },
    "hidden": true
   },
   "outputs": [
    {
     "name": "stdout",
     "output_type": "stream",
     "text": [
      "integrating to time t=100.000 ms without recording with dt=0.100 ms.\n"
     ]
    }
   ],
   "source": [
    "tmin_early_stopping=100\n",
    "V_threshold=-30.\n",
    "tmax=1.\n",
    "h = 0.1\n",
    "dt=h\n",
    "level1 = V_threshold\n",
    "level2 = 0.\n",
    "printing=True\n",
    "kwargs={}\n",
    "input_folder=f\"{nb_dir}/Data/initial-conditions-suite-3-LR/ic-in\"\n",
    "os.chdir(input_folder)\n",
    "input_file_name='ic005.11.npz'\n",
    "initial_condition_dir=input_file_name\n",
    "\n",
    "\n",
    "#initialize records\n",
    "t = 0.\n",
    "dict_out_lst = []\n",
    "num_steps = int(np.around((tmax)/dt))\n",
    "#initialize simulation\n",
    "txt=load_buffer(initial_condition_dir)#, Ca_i_initial = Ca_i_initial, Vmax = Vmax, Vmin = Vmin)\n",
    "width, height, channel_no = txt.shape\n",
    "kwargs.update({'width':width,'height':height})\n",
    "#allocate memory\n",
    "inVc,outVc,inmhjdfx,outmhjdfx,dVcdt=unstack_txt(txt)\n",
    "#reformate texture\n",
    "txt_ic=stack_txt(inVc,outVc,inmhjdfx,outmhjdfx,dVcdt)\n",
    "assert(np.isclose((txt_ic[0,0,:]-txt[0,0,:]),0.).all())\n",
    "#get one_step method (performs precomputing)\n",
    "dt=h#smaller step for first 100 steps (bc of pbc)\n",
    "dt, one_step_map = get_one_step_map(nb_dir,dt)\n",
    "\n",
    "if printing:\n",
    "    print(f\"integrating to time t={tmin_early_stopping:.3f} ms without recording with dt={dt:.3f} ms.\")\n",
    "while (t<tmin_early_stopping):\n",
    "    txt=one_step_map(txt)\n",
    "    t+=dt\n",
    "#precompute anything that needs precomputing\n",
    "compute_all_spiral_tips= get_compute_all_spiral_tips(mode='simp',width=width,height=height)\n",
    "\n",
    "# dt, one_step_map = get_one_step_map(nb_dir,dt)\n",
    "#check for any tips being present\n",
    "inVc,outVc,inmhjdfx,outmhjdfx,dVcdt=unstack_txt(txt)\n",
    "img=inVc[...,0]\n",
    "dimgdt=dVcdt[...,0]\n",
    "dict_out=compute_all_spiral_tips(t,img,dimgdt,level1,level2)#,width=width,height=height)\n",
    "n_tips=dict_out['n']#skip this trial if no spiral tips are present\n",
    "if n_tips==0:\n",
    "    dict_out_lst.append(dict_out)"
   ]
  },
  {
   "cell_type": "code",
   "execution_count": 42,
   "metadata": {
    "ExecuteTime": {
     "end_time": "2021-01-23T16:37:19.330145Z",
     "start_time": "2021-01-23T16:37:17.293237Z"
    },
    "hidden": true
   },
   "outputs": [
    {
     "data": {
      "text/plain": [
       "<function lib.controller.controller_LR.get_one_step_map(nb_dir, dt, **kwargs)>"
      ]
     },
     "execution_count": 42,
     "metadata": {},
     "output_type": "execute_result"
    }
   ],
   "source": [
    "beep(10)\n",
    "get_one_step_map"
   ]
  },
  {
   "cell_type": "code",
   "execution_count": 26,
   "metadata": {
    "ExecuteTime": {
     "end_time": "2021-01-23T16:00:10.703909Z",
     "start_time": "2021-01-23T16:00:10.679547Z"
    },
    "hidden": true
   },
   "outputs": [
    {
     "name": "stdout",
     "output_type": "stream",
     "text": [
      "it is False that any nan values are in txt.\n"
     ]
    }
   ],
   "source": [
    "print(f\"it is {np.isnan(txt.flatten()).any()} that any nan values are in txt.\")\n",
    "assert(not np.isnan(txt.flatten()).any())"
   ]
  },
  {
   "cell_type": "code",
   "execution_count": 43,
   "metadata": {
    "ExecuteTime": {
     "end_time": "2021-01-23T16:37:48.566117Z",
     "start_time": "2021-01-23T16:37:48.474083Z"
    },
    "hidden": true
   },
   "outputs": [
    {
     "name": "stderr",
     "output_type": "stream",
     "text": [
      "Clipping input data to the valid range for imshow with RGB data ([0..1] for floats or [0..255] for integers).\n"
     ]
    },
    {
     "name": "stdout",
     "output_type": "stream",
     "text": [
      "8\n"
     ]
    },
    {
     "data": {
      "image/png": "[encoded data removed]",
      "text/plain": [
       "<Figure size 216x216 with 1 Axes>"
      ]
     },
     "metadata": {
      "needs_background": "light"
     },
     "output_type": "display_data"
    }
   ],
   "source": [
    "#test the V_threshold value\n",
    "V_threshold=-50.\n",
    "level1 = V_threshold\n",
    "level2 = 0.\n",
    "inVc,outVc,inmhjdfx,outmhjdfx,dVcdt=unstack_txt(txt)\n",
    "img=inVc[...,0]\n",
    "dimgdt=dVcdt[...,0]\n",
    "dict_out=compute_all_spiral_tips(t,img,dimgdt,level1,level2)#,width=width,height=height)\n",
    "print(len(list(dict_out['x'])))\n",
    "fig=show_buffer_LR(txt,figsize=(3,3))\n",
    "axs=fig.get_axes()\n",
    "ax=axs[0]\n",
    "ax.scatter(dict_out['x'],dict_out['y'],s=150,c='yellow',marker='*')\n",
    "plt.show()"
   ]
  },
  {
   "cell_type": "code",
   "execution_count": 37,
   "metadata": {
    "ExecuteTime": {
     "end_time": "2021-01-23T16:35:25.346022Z",
     "start_time": "2021-01-23T16:35:25.325433Z"
    },
    "hidden": true
   },
   "outputs": [],
   "source": [
    "os.chdir(f\"{nb_dir}/lib/model/lookup_tables\")\n",
    "table_fn=f\"luo_rudy_dt_{dt}_arr39.csv\"\n",
    "arrr39=pd.read_csv(table_fn,header=None).values"
   ]
  },
  {
   "cell_type": "code",
   "execution_count": null,
   "metadata": {
    "hidden": true
   },
   "outputs": [],
   "source": []
  },
  {
   "cell_type": "code",
   "execution_count": null,
   "metadata": {
    "hidden": true
   },
   "outputs": [],
   "source": []
  },
  {
   "cell_type": "code",
   "execution_count": 57,
   "metadata": {
    "ExecuteTime": {
     "end_time": "2021-01-23T01:15:48.449403Z",
     "start_time": "2021-01-23T01:15:48.435933Z"
    },
    "hidden": true
   },
   "outputs": [],
   "source": [
    "#TODO: drop  'theta'  from dict_out throroughly in the tip feature measurement functions"
   ]
  },
  {
   "cell_type": "code",
   "execution_count": 58,
   "metadata": {
    "ExecuteTime": {
     "end_time": "2021-01-23T01:15:53.612830Z",
     "start_time": "2021-01-23T01:15:53.597566Z"
    },
    "hidden": true
   },
   "outputs": [],
   "source": [
    "# if printing:\n",
    "#     #print(f\"sigma is {sigma}, threshold is {threshold}.\")\n",
    "#     #print(f\"pad is {pad}, rejection_distance is edge_tolerance is {edge_tolerance}.\")\n",
    "#     print(f\"integrating to no later than time t={tmax:.3f} milliseconds. ms with recording with dt={dt:.3f} ms.\")\n",
    "# if timing:\n",
    "#     start = time.time()"
   ]
  },
  {
   "cell_type": "code",
   "execution_count": 61,
   "metadata": {
    "ExecuteTime": {
     "end_time": "2021-01-23T01:23:03.555443Z",
     "start_time": "2021-01-23T01:16:44.043678Z"
    },
    "hidden": true
   },
   "outputs": [],
   "source": [
    "#TODO: step through the rest of the routine\n",
    "##########################################\n",
    "#run the simulation, measuring regularly\n",
    "##########################################\n",
    "tmax=20\n",
    "save_every_n_frames=10\n",
    "logging=True\n",
    "# printing=True\n",
    "step_count = 0\n",
    "\n",
    "while (t<tmax) & (n_tips > 0):\n",
    "    if step_count%save_every_n_frames == 0:\n",
    "        #compute tip locations in dict_out\n",
    "        inVc,outVc,inmhjdfx,outmhjdfx,dVcdt=unstack_txt(txt)\n",
    "        img=inVc[...,0]\n",
    "        dimgdt=dVcdt[...,0]\n",
    "        dict_out=compute_all_spiral_tips(t,img,dimgdt,level1,level2)\n",
    "\n",
    "        #save tip data\n",
    "        n_tips=dict_out['n']\n",
    "        # n_tips_lst.append(n_tips)\n",
    "        # t_lst.append(t)\n",
    "        dict_out_lst.append(dict_out)\n",
    "\n",
    "#         #update progress bar after each measurement\n",
    "#         if not logging:\n",
    "#             if printing:\n",
    "#                 printProgressBar(step_count, num_steps, prefix = 'Progress:', suffix = 'Complete', length = 50)\n",
    "\n",
    "    #forward Euler integration in time\n",
    "    txt=one_step_map(txt)\n",
    "    #advance time by one step\n",
    "    t   += dt\n",
    "    step_count += 1\n"
   ]
  },
  {
   "cell_type": "code",
   "execution_count": 81,
   "metadata": {
    "ExecuteTime": {
     "end_time": "2021-01-23T01:43:07.737527Z",
     "start_time": "2021-01-23T01:43:07.719132Z"
    },
    "hidden": true
   },
   "outputs": [
    {
     "data": {
      "text/plain": [
       "741"
      ]
     },
     "execution_count": 81,
     "metadata": {},
     "output_type": "execute_result"
    }
   ],
   "source": [
    "len(dict_out_lst)"
   ]
  },
  {
   "cell_type": "code",
   "execution_count": 98,
   "metadata": {
    "ExecuteTime": {
     "end_time": "2021-01-23T01:45:14.263726Z",
     "start_time": "2021-01-23T01:45:14.242626Z"
    },
    "hidden": true
   },
   "outputs": [],
   "source": [
    "# confirmed: dict_out_lst looks reasonable"
   ]
  },
  {
   "cell_type": "markdown",
   "metadata": {
    "ExecuteTime": {
     "end_time": "2021-01-23T01:14:02.246325Z",
     "start_time": "2021-01-23T01:14:02.227630Z"
    },
    "hidden": true
   },
   "source": [
    "integrating by Delta_t=10 ms takes 11 seconds of runtime with saving 1 time per millisecond<br>\n"
   ]
  },
  {
   "cell_type": "code",
   "execution_count": 64,
   "metadata": {
    "ExecuteTime": {
     "end_time": "2021-01-23T01:29:50.041880Z",
     "start_time": "2021-01-23T01:29:50.025888Z"
    },
    "hidden": true
   },
   "outputs": [
    {
     "data": {
      "text/plain": [
       "100.0"
      ]
     },
     "execution_count": 64,
     "metadata": {},
     "output_type": "execute_result"
    }
   ],
   "source": [
    "#TODO: make tip detection version that compares txt to txt_old, with save_every_frame=20 #once per 2 ms at the same level, V_threshold"
   ]
  },
  {
   "cell_type": "code",
   "execution_count": 67,
   "metadata": {
    "ExecuteTime": {
     "end_time": "2021-01-23T01:41:52.994068Z",
     "start_time": "2021-01-23T01:41:52.978451Z"
    },
    "hidden": true
   },
   "outputs": [],
   "source": [
    "#TODO: run the rest of the routine step by step"
   ]
  },
  {
   "cell_type": "code",
   "execution_count": 105,
   "metadata": {
    "ExecuteTime": {
     "end_time": "2021-01-23T01:47:56.036692Z",
     "start_time": "2021-01-23T01:47:55.191602Z"
    },
    "hidden": true
   },
   "outputs": [
    {
     "name": "stdout",
     "output_type": "stream",
     "text": [
      "zero tips remaining at time t = -259.9 ms.\n",
      "saved to:\n",
      "../test_out.csv\n"
     ]
    },
    {
     "ename": "NameError",
     "evalue": "name 'completed_ic_dir' is not defined",
     "output_type": "error",
     "traceback": [
      "\u001b[0;31m---------------------------------------------------------------------------\u001b[0m",
      "\u001b[0;31mNameError\u001b[0m                                 Traceback (most recent call last)",
      "\u001b[0;32m<ipython-input-105-d42ab69528ab>\u001b[0m in \u001b[0;36m<module>\u001b[0;34m\u001b[0m\n\u001b[1;32m     25\u001b[0m         \u001b[0mprint\u001b[0m\u001b[0;34m(\u001b[0m\u001b[0;34mf\"no spiral tips detected in ic, {os.path.basename(initial_condition_dir)}\"\u001b[0m\u001b[0;34m)\u001b[0m\u001b[0;34m\u001b[0m\u001b[0;34m\u001b[0m\u001b[0m\n\u001b[1;32m     26\u001b[0m \u001b[0;31m#move the completed file to ic-out\u001b[0m\u001b[0;34m\u001b[0m\u001b[0;34m\u001b[0m\u001b[0;34m\u001b[0m\u001b[0m\n\u001b[0;32m---> 27\u001b[0;31m \u001b[0mos\u001b[0m\u001b[0;34m.\u001b[0m\u001b[0mrename\u001b[0m\u001b[0;34m(\u001b[0m\u001b[0minitial_condition_dir\u001b[0m\u001b[0;34m,\u001b[0m\u001b[0mcompleted_ic_dir\u001b[0m\u001b[0;34m)\u001b[0m\u001b[0;34m\u001b[0m\u001b[0;34m\u001b[0m\u001b[0m\n\u001b[0m\u001b[1;32m     28\u001b[0m \u001b[0;31m#input ic moved to output\u001b[0m\u001b[0;34m\u001b[0m\u001b[0;34m\u001b[0m\u001b[0;34m\u001b[0m\u001b[0m\n\u001b[1;32m     29\u001b[0m \u001b[0;32mif\u001b[0m \u001b[0mlogging\u001b[0m\u001b[0;34m:\u001b[0m\u001b[0;34m\u001b[0m\u001b[0;34m\u001b[0m\u001b[0m\n",
      "\u001b[0;31mNameError\u001b[0m: name 'completed_ic_dir' is not defined"
     ]
    }
   ],
   "source": [
    "saving=True\n",
    "data_dir_log='../test_out.csv'\n",
    "round_output_decimals=1\n",
    "if printing:\n",
    "    #report the bottom line up front\n",
    "    if n_tips==0:\n",
    "        print(f\"zero tips remaining at time t = {t:.1f} ms.\")\n",
    "if printing:\n",
    "    if t >= tmax:\n",
    "        print( f\"Caution! max_time was reached! Termination time not reached!  Consider rerunning with greater max_time!\")\n",
    "if saving:\n",
    "    df = pd.concat([pd.DataFrame(dict_out) for dict_out in dict_out_lst])\n",
    "    df.reset_index(inplace=True, drop=True)\n",
    "    if df.size>0:#if any spiral tips have been observed\n",
    "        #if the end of AF was indeed reachded, append a row recording this\n",
    "        if n_tips==0:\n",
    "            next_id = df.index.values[-1]+1\n",
    "            df = pd.concat([df,pd.DataFrame({'t': float(save_every_n_frames*h+t),'n': int(n_tips)}, index = [next_id])])\n",
    "        #save the recorded data\n",
    "        df.round(round_output_decimals).to_csv(data_dir_log, index=False)\n",
    "        if printing:\n",
    "            print('saved to:')\n",
    "            print(data_dir_log)\n",
    "    else: #no spiral tips observed, print that this ic yielded no spiral tips\n",
    "        print(f\"no spiral tips detected in ic, {os.path.basename(initial_condition_dir)}\")\n",
    "#move the completed file to ic-out\n",
    "os.rename(initial_condition_dir,completed_ic_dir)\n",
    "#input ic moved to output\n",
    "if logging:\n",
    "    if not log.closed:\n",
    "        log.close()\n",
    "\n",
    "# return kwargs\n"
   ]
  },
  {
   "cell_type": "code",
   "execution_count": 106,
   "metadata": {
    "ExecuteTime": {
     "end_time": "2021-01-23T01:48:23.261153Z",
     "start_time": "2021-01-23T01:48:23.226763Z"
    },
    "hidden": true
   },
   "outputs": [],
   "source": [
    "df=pd.read_csv(data_dir_log)\n"
   ]
  },
  {
   "cell_type": "code",
   "execution_count": 107,
   "metadata": {
    "ExecuteTime": {
     "end_time": "2021-01-23T01:48:26.938086Z",
     "start_time": "2021-01-23T01:48:26.904314Z"
    },
    "hidden": true
   },
   "outputs": [
    {
     "data": {
      "text/html": [
       "<div>\n",
       "<style scoped>\n",
       "    .dataframe tbody tr th:only-of-type {\n",
       "        vertical-align: middle;\n",
       "    }\n",
       "\n",
       "    .dataframe tbody tr th {\n",
       "        vertical-align: top;\n",
       "    }\n",
       "\n",
       "    .dataframe thead th {\n",
       "        text-align: right;\n",
       "    }\n",
       "</style>\n",
       "<table border=\"1\" class=\"dataframe\">\n",
       "  <thead>\n",
       "    <tr style=\"text-align: right;\">\n",
       "      <th></th>\n",
       "      <th>t</th>\n",
       "      <th>n</th>\n",
       "      <th>x</th>\n",
       "      <th>y</th>\n",
       "      <th>theta</th>\n",
       "      <th>grad_ux</th>\n",
       "      <th>grad_uy</th>\n",
       "      <th>grad_vx</th>\n",
       "      <th>grad_vy</th>\n",
       "      <th>v</th>\n",
       "      <th>dvdt</th>\n",
       "    </tr>\n",
       "  </thead>\n",
       "  <tbody>\n",
       "    <tr>\n",
       "      <th>0</th>\n",
       "      <td>-999.0</td>\n",
       "      <td>16</td>\n",
       "      <td>0.5</td>\n",
       "      <td>87.4</td>\n",
       "      <td>-9999.0</td>\n",
       "      <td>1.3</td>\n",
       "      <td>1.0</td>\n",
       "      <td>-0.7</td>\n",
       "      <td>1.0</td>\n",
       "      <td>-60.1</td>\n",
       "      <td>-0.1</td>\n",
       "    </tr>\n",
       "    <tr>\n",
       "      <th>1</th>\n",
       "      <td>-999.0</td>\n",
       "      <td>16</td>\n",
       "      <td>4.0</td>\n",
       "      <td>86.9</td>\n",
       "      <td>-9999.0</td>\n",
       "      <td>-0.1</td>\n",
       "      <td>1.1</td>\n",
       "      <td>-0.7</td>\n",
       "      <td>1.1</td>\n",
       "      <td>-60.2</td>\n",
       "      <td>0.0</td>\n",
       "    </tr>\n",
       "    <tr>\n",
       "      <th>2</th>\n",
       "      <td>-999.0</td>\n",
       "      <td>16</td>\n",
       "      <td>21.0</td>\n",
       "      <td>1.7</td>\n",
       "      <td>-9999.0</td>\n",
       "      <td>0.8</td>\n",
       "      <td>2.8</td>\n",
       "      <td>1.2</td>\n",
       "      <td>-1.0</td>\n",
       "      <td>-59.4</td>\n",
       "      <td>-0.5</td>\n",
       "    </tr>\n",
       "    <tr>\n",
       "      <th>3</th>\n",
       "      <td>-999.0</td>\n",
       "      <td>16</td>\n",
       "      <td>66.8</td>\n",
       "      <td>1.1</td>\n",
       "      <td>-9999.0</td>\n",
       "      <td>1.0</td>\n",
       "      <td>-1.6</td>\n",
       "      <td>1.0</td>\n",
       "      <td>1.0</td>\n",
       "      <td>-56.8</td>\n",
       "      <td>0.0</td>\n",
       "    </tr>\n",
       "    <tr>\n",
       "      <th>4</th>\n",
       "      <td>-999.0</td>\n",
       "      <td>16</td>\n",
       "      <td>69.4</td>\n",
       "      <td>127.3</td>\n",
       "      <td>-9999.0</td>\n",
       "      <td>-7.9</td>\n",
       "      <td>5.9</td>\n",
       "      <td>1.4</td>\n",
       "      <td>0.8</td>\n",
       "      <td>-60.8</td>\n",
       "      <td>0.1</td>\n",
       "    </tr>\n",
       "    <tr>\n",
       "      <th>...</th>\n",
       "      <td>...</td>\n",
       "      <td>...</td>\n",
       "      <td>...</td>\n",
       "      <td>...</td>\n",
       "      <td>...</td>\n",
       "      <td>...</td>\n",
       "      <td>...</td>\n",
       "      <td>...</td>\n",
       "      <td>...</td>\n",
       "      <td>...</td>\n",
       "      <td>...</td>\n",
       "    </tr>\n",
       "    <tr>\n",
       "      <th>5468</th>\n",
       "      <td>-262.0</td>\n",
       "      <td>2</td>\n",
       "      <td>127.8</td>\n",
       "      <td>148.5</td>\n",
       "      <td>-9999.0</td>\n",
       "      <td>0.3</td>\n",
       "      <td>1.6</td>\n",
       "      <td>-0.4</td>\n",
       "      <td>2.2</td>\n",
       "      <td>-59.0</td>\n",
       "      <td>-0.2</td>\n",
       "    </tr>\n",
       "    <tr>\n",
       "      <th>5469</th>\n",
       "      <td>-262.0</td>\n",
       "      <td>2</td>\n",
       "      <td>149.0</td>\n",
       "      <td>161.1</td>\n",
       "      <td>-9999.0</td>\n",
       "      <td>3.1</td>\n",
       "      <td>-1.0</td>\n",
       "      <td>16.2</td>\n",
       "      <td>-13.0</td>\n",
       "      <td>-60.7</td>\n",
       "      <td>0.1</td>\n",
       "    </tr>\n",
       "    <tr>\n",
       "      <th>5470</th>\n",
       "      <td>-261.0</td>\n",
       "      <td>2</td>\n",
       "      <td>132.5</td>\n",
       "      <td>148.3</td>\n",
       "      <td>-9999.0</td>\n",
       "      <td>-0.1</td>\n",
       "      <td>2.0</td>\n",
       "      <td>-0.6</td>\n",
       "      <td>2.5</td>\n",
       "      <td>-58.8</td>\n",
       "      <td>-0.2</td>\n",
       "    </tr>\n",
       "    <tr>\n",
       "      <th>5471</th>\n",
       "      <td>-261.0</td>\n",
       "      <td>2</td>\n",
       "      <td>146.4</td>\n",
       "      <td>155.7</td>\n",
       "      <td>-9999.0</td>\n",
       "      <td>9.9</td>\n",
       "      <td>-7.4</td>\n",
       "      <td>-14.9</td>\n",
       "      <td>16.0</td>\n",
       "      <td>-62.1</td>\n",
       "      <td>0.2</td>\n",
       "    </tr>\n",
       "    <tr>\n",
       "      <th>5472</th>\n",
       "      <td>-258.9</td>\n",
       "      <td>0</td>\n",
       "      <td>NaN</td>\n",
       "      <td>NaN</td>\n",
       "      <td>NaN</td>\n",
       "      <td>NaN</td>\n",
       "      <td>NaN</td>\n",
       "      <td>NaN</td>\n",
       "      <td>NaN</td>\n",
       "      <td>NaN</td>\n",
       "      <td>NaN</td>\n",
       "    </tr>\n",
       "  </tbody>\n",
       "</table>\n",
       "<p>5473 rows × 11 columns</p>\n",
       "</div>"
      ],
      "text/plain": [
       "          t   n      x      y   theta  grad_ux  grad_uy  grad_vx  grad_vy  \\\n",
       "0    -999.0  16    0.5   87.4 -9999.0      1.3      1.0     -0.7      1.0   \n",
       "1    -999.0  16    4.0   86.9 -9999.0     -0.1      1.1     -0.7      1.1   \n",
       "2    -999.0  16   21.0    1.7 -9999.0      0.8      2.8      1.2     -1.0   \n",
       "3    -999.0  16   66.8    1.1 -9999.0      1.0     -1.6      1.0      1.0   \n",
       "4    -999.0  16   69.4  127.3 -9999.0     -7.9      5.9      1.4      0.8   \n",
       "...     ...  ..    ...    ...     ...      ...      ...      ...      ...   \n",
       "5468 -262.0   2  127.8  148.5 -9999.0      0.3      1.6     -0.4      2.2   \n",
       "5469 -262.0   2  149.0  161.1 -9999.0      3.1     -1.0     16.2    -13.0   \n",
       "5470 -261.0   2  132.5  148.3 -9999.0     -0.1      2.0     -0.6      2.5   \n",
       "5471 -261.0   2  146.4  155.7 -9999.0      9.9     -7.4    -14.9     16.0   \n",
       "5472 -258.9   0    NaN    NaN     NaN      NaN      NaN      NaN      NaN   \n",
       "\n",
       "         v  dvdt  \n",
       "0    -60.1  -0.1  \n",
       "1    -60.2   0.0  \n",
       "2    -59.4  -0.5  \n",
       "3    -56.8   0.0  \n",
       "4    -60.8   0.1  \n",
       "...    ...   ...  \n",
       "5468 -59.0  -0.2  \n",
       "5469 -60.7   0.1  \n",
       "5470 -58.8  -0.2  \n",
       "5471 -62.1   0.2  \n",
       "5472   NaN   NaN  \n",
       "\n",
       "[5473 rows x 11 columns]"
      ]
     },
     "execution_count": 107,
     "metadata": {},
     "output_type": "execute_result"
    }
   ],
   "source": [
    "df"
   ]
  },
  {
   "cell_type": "markdown",
   "metadata": {
    "hidden": true
   },
   "source": [
    "confirmed: any problem with the routine has to be in the directories defined by get_kwargs"
   ]
  },
  {
   "cell_type": "code",
   "execution_count": 112,
   "metadata": {
    "ExecuteTime": {
     "end_time": "2021-01-23T01:57:41.350815Z",
     "start_time": "2021-01-23T01:57:41.333037Z"
    },
    "hidden": true
   },
   "outputs": [],
   "source": [
    "#TODO: check if these are reasonable\n",
    "#input/output filenames\n",
    "results_folder='param_test'\n",
    "ic = os.path.abspath(input_file_name)\n",
    "input_fn = ic\n",
    "data_fn = os.path.basename(input_fn)\n",
    "base_dir = '/'.join(os.path.dirname(input_fn).split('/')[:-1])\n",
    "base_save_folder_name = results_folder\n",
    "base_save_dir = os.path.join(base_dir, base_save_folder_name)"
   ]
  },
  {
   "cell_type": "code",
   "execution_count": 114,
   "metadata": {
    "ExecuteTime": {
     "end_time": "2021-01-23T01:59:16.753049Z",
     "start_time": "2021-01-23T01:59:16.737233Z"
    },
    "hidden": true
   },
   "outputs": [
    {
     "data": {
      "text/plain": [
       "'/home/timothytyree/Documents/GitHub/care/notebooks/Data/initial-conditions-suite-3-LR/param_test'"
      ]
     },
     "execution_count": 114,
     "metadata": {},
     "output_type": "execute_result"
    }
   ],
   "source": [
    "base_save_dir"
   ]
  },
  {
   "cell_type": "code",
   "execution_count": 117,
   "metadata": {
    "ExecuteTime": {
     "end_time": "2021-01-23T02:00:21.618795Z",
     "start_time": "2021-01-23T02:00:21.598418Z"
    },
    "hidden": true
   },
   "outputs": [
    {
     "data": {
      "text/plain": [
       "'param_test'"
      ]
     },
     "execution_count": 117,
     "metadata": {},
     "output_type": "execute_result"
    }
   ],
   "source": [
    "base_save_folder_name"
   ]
  },
  {
   "cell_type": "code",
   "execution_count": 132,
   "metadata": {
    "ExecuteTime": {
     "end_time": "2021-01-23T02:25:27.631383Z",
     "start_time": "2021-01-23T02:25:27.611344Z"
    },
    "hidden": true
   },
   "outputs": [],
   "source": [
    "#DONE: remove the features needing bilinear interpolation from the measurement using a get_compute_all_spiral_tips function\n",
    "from lib.measure.utils_measure_tips_cpu import *"
   ]
  },
  {
   "cell_type": "code",
   "execution_count": 133,
   "metadata": {
    "ExecuteTime": {
     "end_time": "2021-01-23T02:25:28.084483Z",
     "start_time": "2021-01-23T02:25:28.070925Z"
    },
    "hidden": true
   },
   "outputs": [
    {
     "data": {
      "text/plain": [
       "<function lib.measure.utils_measure_tips_cpu.get_compute_all_spiral_tips(mode='full', width=200, height=200)>"
      ]
     },
     "execution_count": 133,
     "metadata": {},
     "output_type": "execute_result"
    }
   ],
   "source": [
    "get_compute_all_spiral_tips"
   ]
  },
  {
   "cell_type": "code",
   "execution_count": 134,
   "metadata": {
    "ExecuteTime": {
     "end_time": "2021-01-23T02:25:28.569851Z",
     "start_time": "2021-01-23T02:25:28.556303Z"
    },
    "hidden": true
   },
   "outputs": [],
   "source": [
    "compute_all_spiral_tips= get_compute_all_spiral_tips(mode='simp',width=width,height=height)\n"
   ]
  },
  {
   "cell_type": "code",
   "execution_count": 135,
   "metadata": {
    "ExecuteTime": {
     "end_time": "2021-01-23T02:25:29.067152Z",
     "start_time": "2021-01-23T02:25:29.050117Z"
    },
    "hidden": true
   },
   "outputs": [
    {
     "data": {
      "text/plain": [
       "<function lib.measure._find_tips_kernel_cy.find_intersections>"
      ]
     },
     "execution_count": 135,
     "metadata": {},
     "output_type": "execute_result"
    }
   ],
   "source": [
    "find_intersections"
   ]
  },
  {
   "cell_type": "code",
   "execution_count": 138,
   "metadata": {
    "ExecuteTime": {
     "end_time": "2021-01-23T02:25:39.904312Z",
     "start_time": "2021-01-23T02:25:39.867464Z"
    },
    "hidden": true
   },
   "outputs": [],
   "source": [
    "dict_out=compute_all_spiral_tips(t,img,dimgdt,level1,level2)#,width=width,height=height)\n"
   ]
  },
  {
   "cell_type": "markdown",
   "metadata": {
    "ExecuteTime": {
     "end_time": "2021-01-23T02:25:30.870594Z",
     "start_time": "2021-01-23T02:25:30.857566Z"
    },
    "heading_collapsed": true
   },
   "source": [
    "# TODO: profile the runtime of the save block of code that records spiraltips.  Can this be streamed/saved directly to a file to see a speedup?\n",
    "- note that after simplifying, computing dict_out takes <40ms...  "
   ]
  },
  {
   "cell_type": "code",
   "execution_count": 139,
   "metadata": {
    "ExecuteTime": {
     "end_time": "2021-01-23T02:34:34.817508Z",
     "start_time": "2021-01-23T02:34:34.791362Z"
    },
    "hidden": true
   },
   "outputs": [
    {
     "ename": "SyntaxError",
     "evalue": "invalid syntax (<ipython-input-139-db258b088435>, line 2)",
     "output_type": "error",
     "traceback": [
      "\u001b[0;36m  File \u001b[0;32m\"<ipython-input-139-db258b088435>\"\u001b[0;36m, line \u001b[0;32m2\u001b[0m\n\u001b[0;31m    - note that after simplifying, computing dict_out takes <40ms...\u001b[0m\n\u001b[0m              ^\u001b[0m\n\u001b[0;31mSyntaxError\u001b[0m\u001b[0;31m:\u001b[0m invalid syntax\n"
     ]
    }
   ],
   "source": [
    "# TODO: profile the runtime of the save block of code that records spiraltips.  Can this be streamed/saved directly to a file to see a speedup?\n",
    "# - note that after simplifying, computing dict_out takes <40ms...  \n"
   ]
  },
  {
   "cell_type": "markdown",
   "metadata": {
    "heading_collapsed": true,
    "hidden": true
   },
   "source": [
    "## _TODO(later)_: convert all .npz father textures to .txt with smaller dtype (float32 or float16) - 2.5.2021\n",
    "- TODO: import the first .npz from local files\n",
    "- TODO: determine whether float16 is stable under current time step at $dt=0.1$ ms.\n",
    "- TODO: save father txt as .txt\n",
    "- TODO: put all ^this into a function\n",
    "- TODO: upload ^that to google drive.  copy and share links.\n",
    "- TODO: add .txt gid's to get_txt.py\n",
    "- TODO: repeat for all 4 father ic's\n",
    "...and then,\n",
    "- TODO: find where df is saved and print the signature of the function that would save df as .txt\n",
    "- TODO: simplify pipeline by totally eliminating use of the file system\n",
    "    - TODO: step_1 = find all functions called by pipeline\n",
    "    - option A: read some dunder methods and look for finding all functions called\n",
    "    - option B: just step through the pipeline and print all of the functions that are named\n",
    "    - TODO: step_2 = write one function that links together all of ^those functions\n",
    "    \n",
    "- TOOD(later, perhaps as a reward): LaTeX up the backwards error analysis of my one-step-map/numerical-method"
   ]
  },
  {
   "cell_type": "code",
   "execution_count": 3,
   "metadata": {
    "ExecuteTime": {
     "end_time": "2021-02-05T21:46:01.966091Z",
     "start_time": "2021-02-05T21:46:01.915640Z"
    },
    "hidden": true
   },
   "outputs": [],
   "source": [
    "# # - TODO: import the first .npz from local files\n",
    "# save_folder='ic1800x1800_lr_txt'\n",
    "# txt_dir=search_for_file()"
   ]
  },
  {
   "cell_type": "code",
   "execution_count": 4,
   "metadata": {
    "ExecuteTime": {
     "end_time": "2021-02-05T21:46:02.399418Z",
     "start_time": "2021-02-05T21:46:02.346772Z"
    },
    "hidden": true
   },
   "outputs": [],
   "source": [
    "ics_folder=os.path.join(nb_dir,'Data/initial-conditions-suite-3-LR')\n",
    "save_folder='ic1800x1800_lr_txt'\n",
    "in_folder='ic1800x1800_lr'\n",
    "os.chdir(ics_folder)\n",
    "if not os.path.exists(save_folder):\n",
    "    os.mkdir(save_folder)"
   ]
  },
  {
   "cell_type": "code",
   "execution_count": 5,
   "metadata": {
    "ExecuteTime": {
     "end_time": "2021-02-05T21:46:03.043674Z",
     "start_time": "2021-02-05T21:46:02.982541Z"
    },
    "hidden": true
   },
   "outputs": [],
   "source": [
    "os.chdir(in_folder)\n",
    "in_fn_lst=[os.path.abspath(fn) for fn in os.listdir() if fn[-4:]=='.npz']\n"
   ]
  },
  {
   "cell_type": "code",
   "execution_count": 140,
   "metadata": {
    "ExecuteTime": {
     "end_time": "2021-02-05T23:03:10.078831Z",
     "start_time": "2021-02-05T23:01:03.009368Z"
    },
    "hidden": true
   },
   "outputs": [],
   "source": [
    "for infn in in_fn_lst:\n",
    "\n",
    "    outfn=infn.replace(in_folder,save_folder).replace('.npz','.txt')\n",
    "\n",
    "    from lib.utils import *\n",
    "    txt=load_buffer(infn)[0]\n",
    "    txt.shape\n",
    "\n",
    "    width,height,chno=txt.shape\n",
    "    txt2=txt.reshape((width*height,chno))\n",
    "\n",
    "    #verify inversion is correct\n",
    "    txt3=txt2.reshape((width,height,chno))\n",
    "    assert ( np.max(np.abs(txt3-txt))==0 )\n",
    "\n",
    "    np.savetxt(outfn,txt2,fmt='%.3e')#, encoding='bytes')#'latin1')#"
   ]
  },
  {
   "cell_type": "code",
   "execution_count": 141,
   "metadata": {
    "ExecuteTime": {
     "end_time": "2021-02-05T23:04:02.528255Z",
     "start_time": "2021-02-05T23:03:10.442748Z"
    },
    "hidden": true
   },
   "outputs": [],
   "source": [
    "#test that 4 sig figs is enough to reproduce SDC\n",
    "width,height,chno=(1800, 1800, 18)\n",
    "txt3=np.loadtxt(outfn).reshape((width,height,chno))\n",
    "#take a subset to mimic real conditions\n",
    "txt4=txt3[0:300,0:300].copy()"
   ]
  },
  {
   "cell_type": "code",
   "execution_count": 142,
   "metadata": {
    "ExecuteTime": {
     "end_time": "2021-02-05T23:04:02.894745Z",
     "start_time": "2021-02-05T23:04:02.854717Z"
    },
    "hidden": true
   },
   "outputs": [],
   "source": [
    "# txt4=txt3[0:300,0:300].copy()"
   ]
  },
  {
   "cell_type": "code",
   "execution_count": 143,
   "metadata": {
    "ExecuteTime": {
     "end_time": "2021-02-05T23:04:03.242070Z",
     "start_time": "2021-02-05T23:04:03.204511Z"
    },
    "hidden": true
   },
   "outputs": [],
   "source": [
    "width,height,chno=txt4.shape"
   ]
  },
  {
   "cell_type": "code",
   "execution_count": 144,
   "metadata": {
    "ExecuteTime": {
     "end_time": "2021-02-05T23:04:04.384718Z",
     "start_time": "2021-02-05T23:04:03.579332Z"
    },
    "hidden": true
   },
   "outputs": [],
   "source": [
    "dt, arr39, one_step=get_one_step_explicit_synchronous_splitting(nb_dir,dt=0.1,width=width,height=height,ds=0.025*width)\n"
   ]
  },
  {
   "cell_type": "code",
   "execution_count": 145,
   "metadata": {
    "ExecuteTime": {
     "end_time": "2021-02-05T23:04:04.726103Z",
     "start_time": "2021-02-05T23:04:04.689091Z"
    },
    "hidden": true
   },
   "outputs": [],
   "source": [
    "inVc, outVc, inmhjdfx, outmhjdfx, dVcdt=unstack_txt(txt4)"
   ]
  },
  {
   "cell_type": "code",
   "execution_count": 146,
   "metadata": {
    "ExecuteTime": {
     "end_time": "2021-02-05T23:04:07.126358Z",
     "start_time": "2021-02-05T23:04:05.030164Z"
    },
    "hidden": true
   },
   "outputs": [],
   "source": [
    "one_step(inVc, outVc, inmhjdfx, outmhjdfx, dVcdt)"
   ]
  },
  {
   "cell_type": "code",
   "execution_count": 147,
   "metadata": {
    "ExecuteTime": {
     "end_time": "2021-02-05T23:04:07.488177Z",
     "start_time": "2021-02-05T23:04:07.450427Z"
    },
    "hidden": true
   },
   "outputs": [],
   "source": [
    "t=dt"
   ]
  },
  {
   "cell_type": "code",
   "execution_count": 148,
   "metadata": {
    "ExecuteTime": {
     "end_time": "2021-02-05T23:07:55.081673Z",
     "start_time": "2021-02-05T23:04:07.802144Z"
    },
    "hidden": true
   },
   "outputs": [
    {
     "data": {
      "text/plain": [
       "0"
      ]
     },
     "execution_count": 148,
     "metadata": {},
     "output_type": "execute_result"
    }
   ],
   "source": [
    "nsteps=1000\n",
    "for step in range(nsteps):\n",
    "    one_step(inVc, outVc, inmhjdfx, outmhjdfx, dVcdt)\n",
    "t+=dt*nsteps\n",
    "beep(4)"
   ]
  },
  {
   "cell_type": "code",
   "execution_count": 151,
   "metadata": {
    "ExecuteTime": {
     "end_time": "2021-02-05T23:14:18.410566Z",
     "start_time": "2021-02-05T23:14:18.298235Z"
    },
    "hidden": true
   },
   "outputs": [
    {
     "data": {
      "image/png": "[encoded data removed]",
      "text/plain": [
       "<Figure size 216x216 with 1 Axes>"
      ]
     },
     "metadata": {},
     "output_type": "display_data"
    }
   ],
   "source": [
    "#visualize buffer\n",
    "plt.subplots(figsize=(3,3))\n",
    "plt.imshow(inVc[...,0],cmap='gray')\n",
    "# plt.imshow(inmhjdfx[...,-6],cmap='gray')\n",
    "# plt.imshow(dVcdt[...,0],cmap='gray')\n",
    "plt.axis('off')\n",
    "plt.show()"
   ]
  },
  {
   "cell_type": "code",
   "execution_count": 136,
   "metadata": {
    "ExecuteTime": {
     "end_time": "2021-02-05T23:00:16.467942Z",
     "start_time": "2021-02-05T23:00:16.405552Z"
    },
    "hidden": true
   },
   "outputs": [],
   "source": [
    "#NOPE: pickles cause security threats\n",
    "# #txt's are >500MB even after rounding...  try to pickle it!\n",
    "# import numpy\n",
    "# import pickle\n",
    "# arr = txt#numpy.array([[1, 2], [3, 4]])\n",
    "# pickle.dump(arr, open(\"sample.pkl\", \"w\"))"
   ]
  },
  {
   "cell_type": "code",
   "execution_count": 137,
   "metadata": {
    "ExecuteTime": {
     "end_time": "2021-02-05T23:00:20.721064Z",
     "start_time": "2021-02-05T23:00:20.666647Z"
    },
    "hidden": true
   },
   "outputs": [
    {
     "data": {
      "text/plain": [
       "<function lib.controller.controller_LR.get_one_step_explicit_synchronous_splitting(nb_dir, dt=0.01, width=200, height=200, ds=5.0, diffCoef=0.001, Cm=1.0, **kwargs)>"
      ]
     },
     "execution_count": 137,
     "metadata": {},
     "output_type": "execute_result"
    }
   ],
   "source": [
    "get_one_step_explicit_synchronous_splitting"
   ]
  },
  {
   "cell_type": "code",
   "execution_count": 138,
   "metadata": {
    "ExecuteTime": {
     "end_time": "2021-02-05T23:00:21.632708Z",
     "start_time": "2021-02-05T23:00:21.578197Z"
    },
    "hidden": true
   },
   "outputs": [
    {
     "data": {
      "text/plain": [
       "33.333333333333336"
      ]
     },
     "execution_count": 138,
     "metadata": {},
     "output_type": "execute_result"
    }
   ],
   "source": [
    "100/3"
   ]
  },
  {
   "cell_type": "markdown",
   "metadata": {
    "hidden": true
   },
   "source": [
    "__NOTE__ if I set the max buffer for simulation to size 1800x1800, then the largest integration by $t=100$ ms takes 100 minutes\n",
    "- at 300x300, integration by $t=100$ ms takes 3 minutes\n",
    "- it is BOO that 4 sig figs is enough to restart SDC"
   ]
  },
  {
   "cell_type": "code",
   "execution_count": 150,
   "metadata": {
    "ExecuteTime": {
     "end_time": "2021-02-05T23:07:56.073175Z",
     "start_time": "2021-02-05T23:07:56.029897Z"
    },
    "hidden": true
   },
   "outputs": [
    {
     "data": {
      "text/plain": [
       "<function function.__dir__()>"
      ]
     },
     "execution_count": 150,
     "metadata": {},
     "output_type": "execute_result"
    }
   ],
   "source": [
    "# __qualname__\n",
    "# __module__\n",
    "get_compute_all_spiral_tips.__dir__"
   ]
  },
  {
   "cell_type": "code",
   "execution_count": 133,
   "metadata": {
    "ExecuteTime": {
     "end_time": "2021-02-05T22:55:39.628523Z",
     "start_time": "2021-02-05T22:55:39.576352Z"
    },
    "hidden": true
   },
   "outputs": [],
   "source": [
    "# array1=inVc[...,0]\n",
    "# array2=dVcdt[...,0]\n",
    "# level1=-50.\n",
    "# level2=0.\n",
    "# retval=find_intersections(array1,array2,level1,level2)\n",
    "# x_lst=retval[0]\n",
    "# y_lst=retval[1]\n",
    "# n_tips=len(x_lst)"
   ]
  },
  {
   "cell_type": "code",
   "execution_count": null,
   "metadata": {
    "ExecuteTime": {
     "end_time": "2021-02-05T22:51:03.176627Z",
     "start_time": "2021-02-05T22:51:03.124020Z"
    },
    "hidden": true
   },
   "outputs": [],
   "source": []
  },
  {
   "cell_type": "code",
   "execution_count": 134,
   "metadata": {
    "ExecuteTime": {
     "end_time": "2021-02-05T22:55:41.365640Z",
     "start_time": "2021-02-05T22:55:41.208529Z"
    },
    "hidden": true
   },
   "outputs": [],
   "source": [
    "dict_out_lst=[]\n",
    "compute_all_spiral_tips= get_compute_all_spiral_tips(mode='simp',width=width,height=height)\n",
    "\n",
    "img=inVc[...,0]\n",
    "dimgdt=dVcdt[...,0]\n",
    "dict_out=compute_all_spiral_tips(t,img,dimgdt,level1,level2)#,width=width,height=height)\n",
    "\n",
    "#save tip data\n",
    "n_tips=dict_out['n']\n",
    "# n_tips_lst.append(n_tips)\n",
    "# t_lst.append(t)\n",
    "dict_out_lst.append(dict_out)"
   ]
  },
  {
   "cell_type": "code",
   "execution_count": null,
   "metadata": {
    "ExecuteTime": {
     "end_time": "2021-02-05T22:54:35.138461Z",
     "start_time": "2021-02-05T22:54:35.086105Z"
    },
    "hidden": true
   },
   "outputs": [],
   "source": []
  },
  {
   "cell_type": "code",
   "execution_count": 153,
   "metadata": {
    "ExecuteTime": {
     "end_time": "2021-02-05T23:38:01.113667Z",
     "start_time": "2021-02-05T23:36:30.890742Z"
    },
    "hidden": true
   },
   "outputs": [],
   "source": []
  },
  {
   "cell_type": "code",
   "execution_count": 154,
   "metadata": {
    "ExecuteTime": {
     "end_time": "2021-02-05T23:44:11.605376Z",
     "start_time": "2021-02-05T23:44:11.549411Z"
    },
    "hidden": true
   },
   "outputs": [
    {
     "data": {
      "text/plain": [
       "<function lib.utils.get_txt.get_txt(txt_id1, txt_id2, width, height, worker_dir)>"
      ]
     },
     "execution_count": 154,
     "metadata": {},
     "output_type": "execute_result"
    }
   ],
   "source": [
    "get_txt"
   ]
  },
  {
   "cell_type": "code",
   "execution_count": 155,
   "metadata": {
    "ExecuteTime": {
     "end_time": "2021-02-05T23:44:19.059450Z",
     "start_time": "2021-02-05T23:44:19.004021Z"
    },
    "hidden": true
   },
   "outputs": [
    {
     "data": {
      "text/plain": [
       "(100, 100, 18)"
      ]
     },
     "execution_count": 155,
     "metadata": {},
     "output_type": "execute_result"
    }
   ],
   "source": [
    "txt.shape"
   ]
  },
  {
   "cell_type": "code",
   "execution_count": 156,
   "metadata": {
    "ExecuteTime": {
     "end_time": "2021-02-05T23:44:35.101156Z",
     "start_time": "2021-02-05T23:44:34.894674Z"
    },
    "hidden": true
   },
   "outputs": [
    {
     "name": "stdout",
     "output_type": "stream",
     "text": [
      "ic1800x1800.txt\r\n"
     ]
    }
   ],
   "source": [
    "!ls ic\n"
   ]
  },
  {
   "cell_type": "code",
   "execution_count": 4,
   "metadata": {
    "ExecuteTime": {
     "end_time": "2021-02-06T00:55:23.088587Z",
     "start_time": "2021-02-06T00:55:23.040473Z"
    },
    "hidden": true
   },
   "outputs": [],
   "source": [
    "# from lib.routines import generate_tip_logs_from_ic"
   ]
  },
  {
   "cell_type": "code",
   "execution_count": 6,
   "metadata": {
    "ExecuteTime": {
     "end_time": "2021-02-06T00:55:40.608334Z",
     "start_time": "2021-02-06T00:55:40.570081Z"
    },
    "hidden": true
   },
   "outputs": [],
   "source": [
    "# generate_tip_logs_from_ic((initial_condition_dir, h, tmax, V_threshold, dsdpixel, tmin_early_stopping, save_every_n_frames, round_output_decimals, printing, logging, asserting, saving, data_dir_log, completed_ic_dir, print_log_dir, Ca_i_initial=0.0002, Vmax=45.0, Vmin=-75.0, **kwargs))"
   ]
  },
  {
   "cell_type": "code",
   "execution_count": 166,
   "metadata": {
    "ExecuteTime": {
     "end_time": "2021-02-06T00:13:27.672441Z",
     "start_time": "2021-02-06T00:13:27.616908Z"
    },
    "hidden": true
   },
   "outputs": [
    {
     "data": {
      "text/plain": [
       "array([  100.1,   100.2,   100.3, ..., 29999.7, 29999.8, 29999.9])"
      ]
     },
     "execution_count": 166,
     "metadata": {},
     "output_type": "execute_result"
    }
   ],
   "source": [
    "tmax=30000\n",
    "np.arange(t,tmax,dt)"
   ]
  },
  {
   "cell_type": "code",
   "execution_count": null,
   "metadata": {
    "ExecuteTime": {
     "end_time": "2021-02-06T00:47:39.843672Z",
     "start_time": "2021-02-06T00:47:39.795335Z"
    },
    "hidden": true
   },
   "outputs": [],
   "source": [
    "# def get_one_step_map(nb_dir,dt,dsdpixel,width,height,**kwargs):\n",
    "# \t'''Example Usage:\n",
    "# \tdt, one_step_map= get_one_step_map(nb_dir,dt,dsdpixel,width,height,**kwargs)\n",
    "# \t'''\n",
    "# \t#make null stimulus\n",
    "# \tds=dsdpixel*width\n",
    "# \ttxt_Istim=np.zeros(shape=(width,height,1), dtype=np.float64, order='C')\n",
    "# \tdt, kernelA, kernelB=get_one_step_explicit_synchronous_splitting_w_Istim_kernel(nb_dir,dt,width,height,ds)\n",
    "\n",
    "# \t#get one step map\n",
    "# \t# txt_Istim=txt_Istim_none.copy()\n",
    "# \t@njit\n",
    "# \tdef one_step_map(txt):\n",
    "# \t\tkernelA(txt,txt_Istim)\n",
    "# \t\tkernelB(txt,txt_Istim)\n",
    "\n",
    "# \treturn dt, one_step_map\n"
   ]
  },
  {
   "cell_type": "markdown",
   "metadata": {
    "heading_collapsed": true,
    "hidden": true
   },
   "source": [
    "## test the routine for generating the raw tip locations"
   ]
  },
  {
   "cell_type": "code",
   "execution_count": 45,
   "metadata": {
    "ExecuteTime": {
     "end_time": "2021-02-06T01:58:56.054816Z",
     "start_time": "2021-02-06T01:57:28.178984Z"
    },
    "hidden": true
   },
   "outputs": [],
   "source": [
    "from lib.utils import get_txt\n",
    "txt=get_txt(3,1,200,200,nb_dir)\n",
    "width,height,chno=txt.shape\n",
    "dt=0.1\n",
    "dsdpixel=0.025\n"
   ]
  },
  {
   "cell_type": "code",
   "execution_count": null,
   "metadata": {
    "ExecuteTime": {
     "end_time": "2021-02-06T01:51:40.492665Z",
     "start_time": "2021-02-06T01:50:40.579Z"
    },
    "hidden": true
   },
   "outputs": [],
   "source": []
  },
  {
   "cell_type": "code",
   "execution_count": null,
   "metadata": {
    "ExecuteTime": {
     "end_time": "2021-02-06T01:45:56.366699Z",
     "start_time": "2021-02-06T01:44:50.025Z"
    },
    "hidden": true
   },
   "outputs": [],
   "source": [
    "\n",
    "# from lib.model.LR_model_optimized_w_Istim import *\n",
    "# dt,one_step_map=get_one_step_map(nb_dir, dt, dsdpixel, width, height)#, **kwargs)\n",
    "# # dt, one_step_map= get_one_step_map(nb_dir,dt,dsdpixel,width,height)#,**kwargs)\n",
    "# # txt_Istim_none=np.zeros(shape=(width,height,1), dtype=np.float64, order='C')\n",
    "# beep(4)"
   ]
  },
  {
   "cell_type": "code",
   "execution_count": 49,
   "metadata": {
    "ExecuteTime": {
     "end_time": "2021-02-06T02:08:12.741689Z",
     "start_time": "2021-02-06T02:07:39.308096Z"
    },
    "hidden": true
   },
   "outputs": [],
   "source": [
    "from lib.routines.return_tip_log import return_tips_from_txt\n",
    "\n",
    "#TODO: test return_tips_from_txt\n",
    "df=return_tips_from_txt(\n",
    "    txt=txt,\n",
    "    h=0.1,\n",
    "    tmax=200,\n",
    "    V_threshold=-50,\n",
    "    dsdpixel=0.025,\n",
    "    tmin_early_stopping=100,\n",
    "    save_every_n_frames=10,\n",
    "    round_output_decimals=5)#,\n",
    "#     **kwargs)\n",
    "beep(4)\n",
    "if df is not None:\n",
    "    df.head()"
   ]
  },
  {
   "cell_type": "code",
   "execution_count": 47,
   "metadata": {
    "ExecuteTime": {
     "end_time": "2021-02-06T02:03:46.486194Z",
     "start_time": "2021-02-06T02:03:46.394754Z"
    },
    "hidden": true
   },
   "outputs": [
    {
     "data": {
      "text/html": [
       "<div>\n",
       "<style scoped>\n",
       "    .dataframe tbody tr th:only-of-type {\n",
       "        vertical-align: middle;\n",
       "    }\n",
       "\n",
       "    .dataframe tbody tr th {\n",
       "        vertical-align: top;\n",
       "    }\n",
       "\n",
       "    .dataframe thead th {\n",
       "        text-align: right;\n",
       "    }\n",
       "</style>\n",
       "<table border=\"1\" class=\"dataframe\">\n",
       "  <thead>\n",
       "    <tr style=\"text-align: right;\">\n",
       "      <th></th>\n",
       "      <th>t</th>\n",
       "      <th>n</th>\n",
       "      <th>x</th>\n",
       "      <th>y</th>\n",
       "      <th>grad_ux</th>\n",
       "      <th>grad_uy</th>\n",
       "      <th>grad_vx</th>\n",
       "      <th>grad_vy</th>\n",
       "    </tr>\n",
       "  </thead>\n",
       "  <tbody>\n",
       "    <tr>\n",
       "      <th>0</th>\n",
       "      <td>100.099998</td>\n",
       "      <td>6.0</td>\n",
       "      <td>55.130756</td>\n",
       "      <td>54.403488</td>\n",
       "      <td>3.329384</td>\n",
       "      <td>-1.345129</td>\n",
       "      <td>0.387161</td>\n",
       "      <td>1.619202</td>\n",
       "    </tr>\n",
       "    <tr>\n",
       "      <th>1</th>\n",
       "      <td>100.099998</td>\n",
       "      <td>6.0</td>\n",
       "      <td>89.659927</td>\n",
       "      <td>198.959747</td>\n",
       "      <td>0.655068</td>\n",
       "      <td>1.155287</td>\n",
       "      <td>-3.587617</td>\n",
       "      <td>3.067755</td>\n",
       "    </tr>\n",
       "    <tr>\n",
       "      <th>2</th>\n",
       "      <td>100.099998</td>\n",
       "      <td>6.0</td>\n",
       "      <td>124.662659</td>\n",
       "      <td>135.860367</td>\n",
       "      <td>3.402744</td>\n",
       "      <td>-1.213299</td>\n",
       "      <td>0.731505</td>\n",
       "      <td>1.245643</td>\n",
       "    </tr>\n",
       "    <tr>\n",
       "      <th>3</th>\n",
       "      <td>100.099998</td>\n",
       "      <td>6.0</td>\n",
       "      <td>130.474915</td>\n",
       "      <td>192.458054</td>\n",
       "      <td>-3.619230</td>\n",
       "      <td>4.126926</td>\n",
       "      <td>-0.090589</td>\n",
       "      <td>1.742223</td>\n",
       "    </tr>\n",
       "    <tr>\n",
       "      <th>4</th>\n",
       "      <td>100.099998</td>\n",
       "      <td>6.0</td>\n",
       "      <td>175.741348</td>\n",
       "      <td>98.518990</td>\n",
       "      <td>-3.682238</td>\n",
       "      <td>9.355987</td>\n",
       "      <td>1.656552</td>\n",
       "      <td>-0.177009</td>\n",
       "    </tr>\n",
       "  </tbody>\n",
       "</table>\n",
       "</div>"
      ],
      "text/plain": [
       "            t    n           x           y   grad_ux   grad_uy   grad_vx  \\\n",
       "0  100.099998  6.0   55.130756   54.403488  3.329384 -1.345129  0.387161   \n",
       "1  100.099998  6.0   89.659927  198.959747  0.655068  1.155287 -3.587617   \n",
       "2  100.099998  6.0  124.662659  135.860367  3.402744 -1.213299  0.731505   \n",
       "3  100.099998  6.0  130.474915  192.458054 -3.619230  4.126926 -0.090589   \n",
       "4  100.099998  6.0  175.741348   98.518990 -3.682238  9.355987  1.656552   \n",
       "\n",
       "    grad_vy  \n",
       "0  1.619202  \n",
       "1  3.067755  \n",
       "2  1.245643  \n",
       "3  1.742223  \n",
       "4 -0.177009  "
      ]
     },
     "execution_count": 47,
     "metadata": {},
     "output_type": "execute_result"
    }
   ],
   "source": [
    "# from lib.controller.controller_LR import *#get_one_step_explicit_synchronous_splitting as get_one_step\n",
    "# dt, one_step_map = get_one_step_map(nb_dir,dt)#,**kwargs)#,dsdpixel,width,height,**kwargs)\n",
    "# # kwargs.update({'width':width,'height':height})\n",
    "# beep(4)\n",
    "df.head()"
   ]
  },
  {
   "cell_type": "code",
   "execution_count": 48,
   "metadata": {
    "ExecuteTime": {
     "end_time": "2021-02-06T02:04:53.155426Z",
     "start_time": "2021-02-06T02:04:53.099462Z"
    },
    "hidden": true
   },
   "outputs": [
    {
     "data": {
      "text/plain": [
       "1.1"
      ]
     },
     "execution_count": 48,
     "metadata": {},
     "output_type": "execute_result"
    }
   ],
   "source": [
    "# t=0.\n",
    "# txt_Istim_none=np.zeros(shape=(width,height), dtype=np.float64, order='C')\n",
    "# while (t<1):\n",
    "#     one_step_map(txt,txt_Istim_none)\n",
    "#     t+=dt\n",
    "# t=\n",
    "np.around(1.0999999999,decimals=1)"
   ]
  },
  {
   "cell_type": "code",
   "execution_count": null,
   "metadata": {
    "ExecuteTime": {
     "end_time": "2021-02-06T01:30:22.292217Z",
     "start_time": "2021-02-06T01:30:22.237055Z"
    },
    "hidden": true
   },
   "outputs": [],
   "source": []
  },
  {
   "cell_type": "code",
   "execution_count": 41,
   "metadata": {
    "ExecuteTime": {
     "end_time": "2021-02-06T01:44:07.476845Z",
     "start_time": "2021-02-06T01:44:07.412127Z"
    },
    "hidden": true
   },
   "outputs": [
    {
     "data": {
      "text/plain": [
       "[{'t': 100.1,\n",
       "  'n': 0,\n",
       "  'x': [],\n",
       "  'y': [],\n",
       "  'grad_ux': [],\n",
       "  'grad_uy': [],\n",
       "  'grad_vx': [],\n",
       "  'grad_vy': []},\n",
       " {'t': 100.1,\n",
       "  'n': 0,\n",
       "  'x': [],\n",
       "  'y': [],\n",
       "  'grad_ux': [],\n",
       "  'grad_uy': [],\n",
       "  'grad_vx': [],\n",
       "  'grad_vy': []}]"
      ]
     },
     "execution_count": 41,
     "metadata": {},
     "output_type": "execute_result"
    }
   ],
   "source": [
    "df\n",
    "# del txt"
   ]
  },
  {
   "cell_type": "code",
   "execution_count": 42,
   "metadata": {
    "ExecuteTime": {
     "end_time": "2021-02-06T01:44:28.581753Z",
     "start_time": "2021-02-06T01:44:28.290940Z"
    },
    "hidden": true
   },
   "outputs": [
    {
     "data": {
      "text/plain": [
       "<matplotlib.image.AxesImage at 0x1321de730>"
      ]
     },
     "execution_count": 42,
     "metadata": {},
     "output_type": "execute_result"
    },
    {
     "data": {
      "image/png": "[encoded data removed]",
      "text/plain": [
       "<Figure size 576x504 with 1 Axes>"
      ]
     },
     "metadata": {},
     "output_type": "display_data"
    }
   ],
   "source": [
    "plt.imshow(txt[...,0],cmap='gray')"
   ]
  },
  {
   "cell_type": "code",
   "execution_count": 41,
   "metadata": {
    "ExecuteTime": {
     "end_time": "2021-02-06T00:52:05.064472Z",
     "start_time": "2021-02-06T00:52:05.013098Z"
    },
    "hidden": true
   },
   "outputs": [
    {
     "data": {
      "text/plain": [
       "<function lib.model.LR_model_optimized_w_Istim.get_one_step_map(nb_dir, dt, dsdpixel, width, height, **kwargs)>"
      ]
     },
     "execution_count": 41,
     "metadata": {},
     "output_type": "execute_result"
    }
   ],
   "source": [
    "h=0.1;\n",
    "tmax=.15;\n",
    "V_threshold=-50;\n",
    "dsdpixel=0.025;\n",
    "tmin_early_stopping=100;\n",
    "save_every_n_frames=40;\n",
    "round_output_decimals=5"
   ]
  },
  {
   "cell_type": "code",
   "execution_count": 33,
   "metadata": {
    "ExecuteTime": {
     "end_time": "2021-02-06T01:39:00.755962Z",
     "start_time": "2021-02-06T01:39:00.632919Z"
    },
    "hidden": true
   },
   "outputs": [],
   "source": [
    "compute_all_spiral_tips= get_compute_all_spiral_tips(mode='simp',width=width,height=height)\n",
    "inVc, outVc, inmhjdfx, outmhjdfx, dVcdt=unstack_txt(txt)\n",
    "img=inVc[...,0]\n",
    "dimgdt=dVcdt[...,0]\n",
    "dict_out=compute_all_spiral_tips(t,img,dimgdt,level1=-50,level2=0)#,width=width,height=height)\n"
   ]
  },
  {
   "cell_type": "code",
   "execution_count": 34,
   "metadata": {
    "ExecuteTime": {
     "end_time": "2021-02-06T01:39:01.778423Z",
     "start_time": "2021-02-06T01:39:01.738382Z"
    },
    "hidden": true
   },
   "outputs": [
    {
     "data": {
      "text/plain": [
       "{'t': 1.0999999999999999,\n",
       " 'n': 4,\n",
       " 'x': [6.6037284059272325,\n",
       "  53.77505578448423,\n",
       "  88.98562067122863,\n",
       "  156.43785846766738],\n",
       " 'y': [134.9644903243535,\n",
       "  6.817953697053323,\n",
       "  181.2629400278373,\n",
       "  136.78188481022974],\n",
       " 'grad_ux': [-1.2717153522847677,\n",
       "  1.1169882323252092,\n",
       "  -3.968908499524995,\n",
       "  1.9062652521708012],\n",
       " 'grad_uy': [1.1015159617289891,\n",
       "  0.10155537228647084,\n",
       "  3.4366304009402504,\n",
       "  -0.03487453700108726],\n",
       " 'grad_vx': [-0.1752555161004705,\n",
       "  1.1680771067902143,\n",
       "  72.52565021952002,\n",
       "  1.3366239728162408],\n",
       " 'grad_vy': [1.0593579940934184,\n",
       "  -0.4966502497368661,\n",
       "  -34.11313138505005,\n",
       "  0.611902748657375]}"
      ]
     },
     "execution_count": 34,
     "metadata": {},
     "output_type": "execute_result"
    }
   ],
   "source": [
    "dict_out"
   ]
  },
  {
   "cell_type": "code",
   "execution_count": 69,
   "metadata": {
    "ExecuteTime": {
     "end_time": "2021-02-06T02:20:43.329310Z",
     "start_time": "2021-02-06T02:20:43.271686Z"
    },
    "hidden": true
   },
   "outputs": [],
   "source": [
    "def return_unwrapped_trajectory(df, width, height, sr, mem, dsdpixel, use_cache=True, **kwargs):\n",
    "    '''df is a pandas.DataFrame containing the tip log results.'''\n",
    "    # generate_track_tips_pbc\n",
    "    df.drop_duplicates(subset=['t','x','y'],keep='first',inplace=True)\n",
    "    #,ignore_index=True)\n",
    "    df = compute_track_tips_pbc(df, mem, sr, width, height)#,**kwargs)\n",
    "    # unwrap_trajectories\n",
    "    pid_lst = sorted(set(df.particle.values))\n",
    "    df = pd.concat([unwrap_traj_and_center(df[df.particle==pid], width, height, DS) for pid in pid_lst])\n",
    "    return df\n"
   ]
  },
  {
   "cell_type": "code",
   "execution_count": 55,
   "metadata": {
    "ExecuteTime": {
     "end_time": "2021-02-06T02:13:26.969398Z",
     "start_time": "2021-02-06T02:13:26.915507Z"
    },
    "hidden": true
   },
   "outputs": [],
   "source": [
    "# \tunwrapped_fn=log_to_unwrapped_trajectory(log_dir, use_cache=True,width=width, height=height,\n",
    "# \t\t\t\t\t\t\t\t\t\t\t sr=sr, mem=mem)\n",
    "from lib import *"
   ]
  },
  {
   "cell_type": "code",
   "execution_count": 64,
   "metadata": {
    "ExecuteTime": {
     "end_time": "2021-02-06T02:18:31.376024Z",
     "start_time": "2021-02-06T02:18:26.123454Z"
    },
    "hidden": true
   },
   "outputs": [
    {
     "name": "stdout",
     "output_type": "stream",
     "text": [
      "Frame 99: 2 trajectories present.\n"
     ]
    }
   ],
   "source": [
    "mem=0;sr=width*2;DS=dsdpixel\n",
    "# generate_track_tips_pbc\n",
    "df.drop_duplicates(subset=['t','x','y'],keep='first',inplace=True)#,ignore_index=True)\n",
    "df = compute_track_tips_pbc(df, mem, sr, width, height)#,**kwargs)\n",
    "# unwrap_trajectories\n",
    "pid_lst = sorted(set(df.particle.values))\n",
    "df = pd.concat([unwrap_traj_and_center(df[df.particle==pid], width, height, DS) for pid in pid_lst])\n",
    "# df = pd.concat([unwrap_traj_and_center(df[df.particle==pid], width, height, DS, **kwargs) for pid in pid_lst])"
   ]
  },
  {
   "cell_type": "code",
   "execution_count": 71,
   "metadata": {
    "ExecuteTime": {
     "end_time": "2021-02-06T02:21:13.322337Z",
     "start_time": "2021-02-06T02:21:08.150463Z"
    },
    "hidden": true
   },
   "outputs": [
    {
     "name": "stdout",
     "output_type": "stream",
     "text": [
      "Frame 99: 2 trajectories present.\n"
     ]
    }
   ],
   "source": [
    "df=return_unwrapped_trajectory(df, width, height, sr, mem, dsdpixel, use_cache=True)#, **kwargs)\n"
   ]
  },
  {
   "cell_type": "code",
   "execution_count": 75,
   "metadata": {
    "ExecuteTime": {
     "end_time": "2021-02-06T02:28:44.822300Z",
     "start_time": "2021-02-06T02:28:44.756032Z"
    },
    "hidden": true
   },
   "outputs": [],
   "source": [
    "def return_longest_trajectories(df, width, height, dsdpixel, n_tips = 1, DT = 2., \n",
    "                                round_t_to_n_digits=0, jump_thresh=20., **kwargs):\n",
    "    DS=dsdpixel\n",
    "    if n_tips==1:\n",
    "        df.reset_index(inplace=True)\n",
    "        try:\n",
    "            s = df.groupby('particle').t.count()\n",
    "        except KeyError as e:#(\"KeyError\") as e:\n",
    "            # print(e)\n",
    "            print( f\"\\t trial that failed: {input_file_name.split('/')[-1]}\")\n",
    "            return None\n",
    "        s = s.sort_values(ascending=True)\n",
    "        pid_longest_lst = list(s.index.values)#[:n_tips])\n",
    "        pid=pid_longest_lst.pop()\n",
    "        std_diffx=df[(df.particle==pid)].x.diff().dropna().std()\n",
    "        boo=False\n",
    "        if std_diffx:#.diff().dropna().x.std\n",
    "            if std_diffx>0:\n",
    "                boo=True\n",
    "        while not boo:\n",
    "            pid=pid_longest_lst.pop()\n",
    "            std_diffx=df[(df.particle==pid)].x.diff().dropna().std()\n",
    "            boo=False\n",
    "            if std_diffx:#.diff().dropna().x.std\n",
    "                if std_diffx>0:\n",
    "                    boo=True\n",
    "        pid_longest_lst=[pid]\n",
    "    else:\n",
    "        try:\n",
    "            s = df.groupby('particle').t.count()\n",
    "        except KeyError as e:#(\"KeyError\") as e:\n",
    "            # print(e)\n",
    "            print( f\"\\t trial that failed: {input_file_name.split('/')[-1]}\")\n",
    "            return None\n",
    "        s = s.sort_values(ascending=False)\n",
    "        pid_longest_lst = list(s.index.values[:n_tips])\n",
    "    #     df_traj = pd.concat([df[df.particle==pid] for pid in pid_longest_lst])\n",
    "\n",
    "    #truncate trajectories to their first apparent jump (pbc jumps should have been removed already)\n",
    "    df_lst = []\n",
    "    for pid in  pid_longest_lst:#[2:]:\n",
    "        d = df[(df.particle==pid)].copy()\n",
    "        x_values, y_values = d[['x','y']].values.T\n",
    "        index_values = d.index.values.T\n",
    "        jump_index_array, spd_lst = find_jumps(x_values,y_values,width,height, DS=DS,DT=DT, jump_thresh=jump_thresh, **kwargs)#.25)\n",
    "        if len(jump_index_array)>0:\n",
    "            ji = jump_index_array[0]\n",
    "            d.drop(index=index_values[ji:], inplace=True)\n",
    "        df_lst.append(d)\n",
    "    df_traj = pd.concat(df_lst)\n",
    "\n",
    "    #round trajectory times to remove machine noise from floating point arithmatic\n",
    "    df_traj['t'] = df_traj.t.round(round_t_to_n_digits)\n",
    "    # df_traj['x'] = df_traj.x.round(6)\n",
    "    # df_traj['y'] = df_traj.y.round(6)\n",
    "    df_traj['grad_ux'] = df_traj.grad_ux.round(5)\n",
    "    df_traj['grad_uy'] = df_traj.grad_uy.round(5)\n",
    "    df_traj['grad_vx'] = df_traj.grad_vx.round(5)\n",
    "    df_traj['grad_vy'] = df_traj.grad_vy.round(5)\n",
    "    #     assert ( (np.array(sorted(set(df_traj['particle'].values)))==np.array(sorted(pid_longest_lst))).all())\n",
    "    return df_traj\n"
   ]
  },
  {
   "cell_type": "code",
   "execution_count": 77,
   "metadata": {
    "ExecuteTime": {
     "end_time": "2021-02-06T02:29:04.570122Z",
     "start_time": "2021-02-06T02:29:04.337090Z"
    },
    "hidden": true
   },
   "outputs": [],
   "source": [
    "#print the longest lasting trajecotry that moves\n",
    "df=return_longest_trajectories(df, width, height, dsdpixel, n_tips = 1, DT = 2., \n",
    "                                round_t_to_n_digits=0, jump_thresh=20.)#, **kwargs)\n",
    "print(df.to_string())"
   ]
  },
  {
   "cell_type": "code",
   "execution_count": 79,
   "metadata": {
    "ExecuteTime": {
     "end_time": "2021-02-06T02:29:13.320271Z",
     "start_time": "2021-02-06T02:29:13.254905Z"
    },
    "hidden": true
   },
   "outputs": [
    {
     "name": "stdout",
     "output_type": "stream",
     "text": [
      "     index      t    n          x          y   grad_ux   grad_uy  grad_vx  \\\n",
      "178     15  101.0  8.0   0.000000   0.000000  15.86848 -17.98485  0.61015   \n",
      "179     23  102.0  8.0   0.965942   0.814529 -13.65763  19.71640 -0.43366   \n",
      "180     31  103.0  8.0   0.983719   0.932159   4.03381  -2.86756  0.47805   \n",
      "181     39  104.0  8.0   1.855469   1.814362   4.96274  -4.04460  0.50298   \n",
      "182     47  105.0  8.0   2.620377   2.697678   9.93495 -10.35681  0.15275   \n",
      "..     ...    ...  ...        ...        ...       ...       ...      ...   \n",
      "265    851  188.0  6.0  41.336914  21.517761   3.90101  -1.63847  2.49240   \n",
      "266    857  189.0  6.0  42.323730  23.783646   3.86171  -1.58725  2.32094   \n",
      "267    863  190.0  6.0  43.153793  26.149612   3.20346  -0.97219  2.12443   \n",
      "268    869  191.0  6.0  44.016159  29.829742   2.69560  -0.49947  1.67833   \n",
      "269    875  192.0  6.0  44.252579  33.727249   2.05678   0.08330  1.71725   \n",
      "\n",
      "     grad_vy  frame  particle  \n",
      "178  1.49627      1         5  \n",
      "179  2.82703      2         5  \n",
      "180  1.66385      3         5  \n",
      "181  1.63188      4         5  \n",
      "182  2.07707      5         5  \n",
      "..       ...    ...       ...  \n",
      "265 -0.35221     88         5  \n",
      "266 -0.19026     89         5  \n",
      "267 -0.00125     90         5  \n",
      "268  0.40285     91         5  \n",
      "269  0.38148     92         5  \n",
      "\n",
      "[92 rows x 11 columns]\n"
     ]
    }
   ],
   "source": [
    "print (df)"
   ]
  },
  {
   "cell_type": "code",
   "execution_count": 86,
   "metadata": {
    "ExecuteTime": {
     "end_time": "2021-02-06T02:51:50.408067Z",
     "start_time": "2021-02-06T02:51:50.355522Z"
    },
    "hidden": true
   },
   "outputs": [],
   "source": [
    "# print(df.to_string())\n",
    "import random"
   ]
  },
  {
   "cell_type": "code",
   "execution_count": 117,
   "metadata": {
    "ExecuteTime": {
     "end_time": "2021-02-06T02:53:18.640722Z",
     "start_time": "2021-02-06T02:53:18.596330Z"
    },
    "hidden": true
   },
   "outputs": [
    {
     "data": {
      "text/plain": [
       "424"
      ]
     },
     "execution_count": 117,
     "metadata": {},
     "output_type": "execute_result"
    }
   ],
   "source": [
    "width_in=1800\n",
    "max_area=900**2 #sqpixels\n",
    "min_area=200**2 #sqpixels\n",
    "L=int(np.floor(np.sqrt(100*random.randint(min_area/100,max_area/100))))#UNCOMMENT_HERE\n",
    "# L=int(np.floor(np.sqrt(random.uniform(min_area,max_area))))#COMMENT_HERE\n",
    "L"
   ]
  },
  {
   "cell_type": "code",
   "execution_count": 121,
   "metadata": {
    "ExecuteTime": {
     "end_time": "2021-02-06T03:48:06.668404Z",
     "start_time": "2021-02-06T03:48:06.529327Z"
    },
    "hidden": true
   },
   "outputs": [
    {
     "data": {
      "text/plain": [
       "<function lib.routines.compute_msd.unwrap_traj_and_center(d, width, height, DS, **kwargs)>"
      ]
     },
     "execution_count": 121,
     "metadata": {},
     "output_type": "execute_result"
    }
   ],
   "source": [
    "# (min_area*0.025**2,max_area*0.025**2)\n",
    "unwrap_traj_and_center"
   ]
  },
  {
   "cell_type": "markdown",
   "metadata": {
    "hidden": true
   },
   "source": [
    "The above max_area and min_area give a range of domain sizes from 25cm^2 to 505cm^2"
   ]
  },
  {
   "cell_type": "code",
   "execution_count": 124,
   "metadata": {
    "ExecuteTime": {
     "end_time": "2021-02-07T17:08:28.861179Z",
     "start_time": "2021-02-07T17:08:28.105166Z"
    },
    "hidden": true,
    "scrolled": true
   },
   "outputs": [
    {
     "ename": "ValueError",
     "evalue": "could not convert string to float: '<!DOCTYPE'",
     "output_type": "error",
     "traceback": [
      "\u001b[0;31m---------------------------------------------------------------------------\u001b[0m",
      "\u001b[0;31mValueError\u001b[0m                                Traceback (most recent call last)",
      "\u001b[0;32m<ipython-input-124-e1039a3a87e8>\u001b[0m in \u001b[0;36m<module>\u001b[0;34m\u001b[0m\n\u001b[0;32m----> 1\u001b[0;31m \u001b[0mtxt\u001b[0m\u001b[0;34m=\u001b[0m\u001b[0mget_txt\u001b[0m\u001b[0;34m(\u001b[0m\u001b[0;36m0\u001b[0m\u001b[0;34m,\u001b[0m\u001b[0;36m0\u001b[0m\u001b[0;34m,\u001b[0m\u001b[0;36m100\u001b[0m\u001b[0;34m,\u001b[0m\u001b[0;36m100\u001b[0m\u001b[0;34m,\u001b[0m\u001b[0mnb_dir\u001b[0m\u001b[0;34m)\u001b[0m\u001b[0;34m\u001b[0m\u001b[0;34m\u001b[0m\u001b[0m\n\u001b[0m",
      "\u001b[0;32m~/Documents/GitHub/care/notebooks/lib/utils/get_txt.py\u001b[0m in \u001b[0;36mget_txt\u001b[0;34m(txt_id1, txt_id2, width, height, worker_dir, **kwargs)\u001b[0m\n\u001b[1;32m     87\u001b[0m \u001b[0;34m\u001b[0m\u001b[0m\n\u001b[1;32m     88\u001b[0m \u001b[0;32mdef\u001b[0m \u001b[0mget_txt\u001b[0m\u001b[0;34m(\u001b[0m\u001b[0mtxt_id1\u001b[0m\u001b[0;34m,\u001b[0m\u001b[0mtxt_id2\u001b[0m\u001b[0;34m,\u001b[0m\u001b[0mwidth\u001b[0m\u001b[0;34m,\u001b[0m\u001b[0mheight\u001b[0m\u001b[0;34m,\u001b[0m\u001b[0mworker_dir\u001b[0m\u001b[0;34m,\u001b[0m\u001b[0;34m**\u001b[0m\u001b[0mkwargs\u001b[0m\u001b[0;34m)\u001b[0m\u001b[0;34m:\u001b[0m\u001b[0;34m\u001b[0m\u001b[0;34m\u001b[0m\u001b[0m\n\u001b[0;32m---> 89\u001b[0;31m         \u001b[0marray_lst\u001b[0m\u001b[0;34m=\u001b[0m\u001b[0mget_txt_lst\u001b[0m\u001b[0;34m(\u001b[0m\u001b[0mtxt_id1\u001b[0m\u001b[0;34m,\u001b[0m\u001b[0mwidth\u001b[0m\u001b[0;34m,\u001b[0m\u001b[0mheight\u001b[0m\u001b[0;34m,\u001b[0m\u001b[0mworker_dir\u001b[0m\u001b[0;34m,\u001b[0m\u001b[0;34m**\u001b[0m\u001b[0mkwargs\u001b[0m\u001b[0;34m)\u001b[0m\u001b[0;34m\u001b[0m\u001b[0;34m\u001b[0m\u001b[0m\n\u001b[0m\u001b[1;32m     90\u001b[0m         \u001b[0;31m# N=len(array_lst)\u001b[0m\u001b[0;34m\u001b[0m\u001b[0;34m\u001b[0m\u001b[0;34m\u001b[0m\u001b[0m\n\u001b[1;32m     91\u001b[0m         \u001b[0;32mtry\u001b[0m\u001b[0;34m:\u001b[0m\u001b[0;34m\u001b[0m\u001b[0;34m\u001b[0m\u001b[0m\n",
      "\u001b[0;32m~/Documents/GitHub/care/notebooks/lib/utils/get_txt.py\u001b[0m in \u001b[0;36mget_txt_lst\u001b[0;34m(txt_id1, width, height, worker_dir, **kwargs)\u001b[0m\n\u001b[1;32m     82\u001b[0m \u001b[0;34m\u001b[0m\u001b[0m\n\u001b[1;32m     83\u001b[0m \u001b[0;32mdef\u001b[0m \u001b[0mget_txt_lst\u001b[0m\u001b[0;34m(\u001b[0m\u001b[0mtxt_id1\u001b[0m\u001b[0;34m,\u001b[0m\u001b[0mwidth\u001b[0m\u001b[0;34m,\u001b[0m\u001b[0mheight\u001b[0m\u001b[0;34m,\u001b[0m\u001b[0mworker_dir\u001b[0m\u001b[0;34m,\u001b[0m\u001b[0;34m**\u001b[0m\u001b[0mkwargs\u001b[0m\u001b[0;34m)\u001b[0m\u001b[0;34m:\u001b[0m\u001b[0;34m\u001b[0m\u001b[0;34m\u001b[0m\u001b[0m\n\u001b[0;32m---> 84\u001b[0;31m         \u001b[0mtxt_in\u001b[0m\u001b[0;34m=\u001b[0m\u001b[0mdownload_txt\u001b[0m\u001b[0;34m(\u001b[0m\u001b[0mtxt_id1\u001b[0m\u001b[0;34m,\u001b[0m\u001b[0mworker_dir\u001b[0m\u001b[0;34m)\u001b[0m\u001b[0;34m\u001b[0m\u001b[0;34m\u001b[0m\u001b[0m\n\u001b[0m\u001b[1;32m     85\u001b[0m         \u001b[0marray_lst\u001b[0m \u001b[0;34m=\u001b[0m \u001b[0mchunk_array\u001b[0m\u001b[0;34m(\u001b[0m\u001b[0mtxt_in\u001b[0m\u001b[0;34m,\u001b[0m \u001b[0mwidth\u001b[0m\u001b[0;34m,\u001b[0m \u001b[0mheight\u001b[0m\u001b[0;34m,\u001b[0m \u001b[0mtypeout\u001b[0m\u001b[0;34m=\u001b[0m\u001b[0;34m'float64'\u001b[0m\u001b[0;34m)\u001b[0m\u001b[0;34m\u001b[0m\u001b[0;34m\u001b[0m\u001b[0m\n\u001b[1;32m     86\u001b[0m         \u001b[0;32mreturn\u001b[0m \u001b[0marray_lst\u001b[0m\u001b[0;34m\u001b[0m\u001b[0;34m\u001b[0m\u001b[0m\n",
      "\u001b[0;32m~/Documents/GitHub/care/notebooks/lib/utils/get_txt.py\u001b[0m in \u001b[0;36mdownload_txt\u001b[0;34m(txt_id, worker_dir, rm_father_ic)\u001b[0m\n\u001b[1;32m     75\u001b[0m         \u001b[0;31m#       # run_downloader(gid='14SipoA-gemvfyuA5v9tAUQRP3Firmu8G')\u001b[0m\u001b[0;34m\u001b[0m\u001b[0;34m\u001b[0m\u001b[0;34m\u001b[0m\u001b[0m\n\u001b[1;32m     76\u001b[0m         \u001b[0mos\u001b[0m\u001b[0;34m.\u001b[0m\u001b[0mchdir\u001b[0m\u001b[0;34m(\u001b[0m\u001b[0mworker_dir\u001b[0m\u001b[0;34m)\u001b[0m\u001b[0;34m\u001b[0m\u001b[0;34m\u001b[0m\u001b[0m\n\u001b[0;32m---> 77\u001b[0;31m         \u001b[0mtxt\u001b[0m\u001b[0;34m=\u001b[0m\u001b[0mload_buffer\u001b[0m\u001b[0;34m(\u001b[0m\u001b[0;34m'ic/ic1800x1800.txt'\u001b[0m\u001b[0;34m)\u001b[0m\u001b[0;31m#[0]#,allow_pickle=True)\u001b[0m\u001b[0;34m\u001b[0m\u001b[0;34m\u001b[0m\u001b[0m\n\u001b[0m\u001b[1;32m     78\u001b[0m         \u001b[0;32mif\u001b[0m \u001b[0mrm_father_ic\u001b[0m\u001b[0;34m:\u001b[0m\u001b[0;34m\u001b[0m\u001b[0;34m\u001b[0m\u001b[0m\n\u001b[1;32m     79\u001b[0m                 \u001b[0mos\u001b[0m\u001b[0;34m.\u001b[0m\u001b[0mremove\u001b[0m\u001b[0;34m(\u001b[0m\u001b[0;34m'ic/ic1800x1800.txt'\u001b[0m\u001b[0;34m)\u001b[0m\u001b[0;34m\u001b[0m\u001b[0;34m\u001b[0m\u001b[0m\n",
      "\u001b[0;32m~/Documents/GitHub/care/notebooks/lib/utils/get_txt.py\u001b[0m in \u001b[0;36mload_buffer\u001b[0;34m(data_dir, **kwargs)\u001b[0m\n\u001b[1;32m     11\u001b[0m                 \u001b[0mtxt\u001b[0m \u001b[0;34m=\u001b[0m \u001b[0mtxt\u001b[0m\u001b[0;34m[\u001b[0m\u001b[0mtxt\u001b[0m\u001b[0;34m.\u001b[0m\u001b[0mfiles\u001b[0m\u001b[0;34m[\u001b[0m\u001b[0;36m0\u001b[0m\u001b[0;34m]\u001b[0m\u001b[0;34m]\u001b[0m  \u001b[0;31m#only take the first buffer because there's typically one\u001b[0m\u001b[0;34m\u001b[0m\u001b[0;34m\u001b[0m\u001b[0m\n\u001b[1;32m     12\u001b[0m         \u001b[0;32melif\u001b[0m \u001b[0mdata_dir\u001b[0m\u001b[0;34m[\u001b[0m\u001b[0;34m-\u001b[0m\u001b[0;36m4\u001b[0m\u001b[0;34m:\u001b[0m\u001b[0;34m]\u001b[0m\u001b[0;34m==\u001b[0m\u001b[0;34m'.txt'\u001b[0m\u001b[0;34m:\u001b[0m\u001b[0;34m\u001b[0m\u001b[0;34m\u001b[0m\u001b[0m\n\u001b[0;32m---> 13\u001b[0;31m                 \u001b[0mtxt\u001b[0m \u001b[0;34m=\u001b[0m \u001b[0mnp\u001b[0m\u001b[0;34m.\u001b[0m\u001b[0mloadtxt\u001b[0m\u001b[0;34m(\u001b[0m\u001b[0mdata_dir\u001b[0m\u001b[0;34m,\u001b[0m\u001b[0;34m**\u001b[0m\u001b[0mkwargs\u001b[0m\u001b[0;34m)\u001b[0m\u001b[0;34m\u001b[0m\u001b[0;34m\u001b[0m\u001b[0m\n\u001b[0m\u001b[1;32m     14\u001b[0m                 \u001b[0mwidthxheight\u001b[0m\u001b[0;34m,\u001b[0m\u001b[0mchno\u001b[0m\u001b[0;34m=\u001b[0m\u001b[0mtxt\u001b[0m\u001b[0;34m.\u001b[0m\u001b[0mshape\u001b[0m\u001b[0;31m#(1800, 1800, 18)\u001b[0m\u001b[0;34m\u001b[0m\u001b[0;34m\u001b[0m\u001b[0m\n\u001b[1;32m     15\u001b[0m                 \u001b[0mwidth\u001b[0m\u001b[0;34m=\u001b[0m\u001b[0mint\u001b[0m\u001b[0;34m(\u001b[0m\u001b[0mnp\u001b[0m\u001b[0;34m.\u001b[0m\u001b[0msqrt\u001b[0m\u001b[0;34m(\u001b[0m\u001b[0mwidthxheight\u001b[0m\u001b[0;34m)\u001b[0m\u001b[0;34m)\u001b[0m\u001b[0;34m\u001b[0m\u001b[0;34m\u001b[0m\u001b[0m\n",
      "\u001b[0;32m/usr/local/lib/python3.8/site-packages/numpy/lib/npyio.py\u001b[0m in \u001b[0;36mloadtxt\u001b[0;34m(fname, dtype, comments, delimiter, converters, skiprows, usecols, unpack, ndmin, encoding, max_rows)\u001b[0m\n\u001b[1;32m   1137\u001b[0m         \u001b[0;31m# converting the data\u001b[0m\u001b[0;34m\u001b[0m\u001b[0;34m\u001b[0m\u001b[0;34m\u001b[0m\u001b[0m\n\u001b[1;32m   1138\u001b[0m         \u001b[0mX\u001b[0m \u001b[0;34m=\u001b[0m \u001b[0;32mNone\u001b[0m\u001b[0;34m\u001b[0m\u001b[0;34m\u001b[0m\u001b[0m\n\u001b[0;32m-> 1139\u001b[0;31m         \u001b[0;32mfor\u001b[0m \u001b[0mx\u001b[0m \u001b[0;32min\u001b[0m \u001b[0mread_data\u001b[0m\u001b[0;34m(\u001b[0m\u001b[0m_loadtxt_chunksize\u001b[0m\u001b[0;34m)\u001b[0m\u001b[0;34m:\u001b[0m\u001b[0;34m\u001b[0m\u001b[0;34m\u001b[0m\u001b[0m\n\u001b[0m\u001b[1;32m   1140\u001b[0m             \u001b[0;32mif\u001b[0m \u001b[0mX\u001b[0m \u001b[0;32mis\u001b[0m \u001b[0;32mNone\u001b[0m\u001b[0;34m:\u001b[0m\u001b[0;34m\u001b[0m\u001b[0;34m\u001b[0m\u001b[0m\n\u001b[1;32m   1141\u001b[0m                 \u001b[0mX\u001b[0m \u001b[0;34m=\u001b[0m \u001b[0mnp\u001b[0m\u001b[0;34m.\u001b[0m\u001b[0marray\u001b[0m\u001b[0;34m(\u001b[0m\u001b[0mx\u001b[0m\u001b[0;34m,\u001b[0m \u001b[0mdtype\u001b[0m\u001b[0;34m)\u001b[0m\u001b[0;34m\u001b[0m\u001b[0;34m\u001b[0m\u001b[0m\n",
      "\u001b[0;32m/usr/local/lib/python3.8/site-packages/numpy/lib/npyio.py\u001b[0m in \u001b[0;36mread_data\u001b[0;34m(chunk_size)\u001b[0m\n\u001b[1;32m   1065\u001b[0m \u001b[0;34m\u001b[0m\u001b[0m\n\u001b[1;32m   1066\u001b[0m             \u001b[0;31m# Convert each value according to its column and store\u001b[0m\u001b[0;34m\u001b[0m\u001b[0;34m\u001b[0m\u001b[0;34m\u001b[0m\u001b[0m\n\u001b[0;32m-> 1067\u001b[0;31m             \u001b[0mitems\u001b[0m \u001b[0;34m=\u001b[0m \u001b[0;34m[\u001b[0m\u001b[0mconv\u001b[0m\u001b[0;34m(\u001b[0m\u001b[0mval\u001b[0m\u001b[0;34m)\u001b[0m \u001b[0;32mfor\u001b[0m \u001b[0;34m(\u001b[0m\u001b[0mconv\u001b[0m\u001b[0;34m,\u001b[0m \u001b[0mval\u001b[0m\u001b[0;34m)\u001b[0m \u001b[0;32min\u001b[0m \u001b[0mzip\u001b[0m\u001b[0;34m(\u001b[0m\u001b[0mconverters\u001b[0m\u001b[0;34m,\u001b[0m \u001b[0mvals\u001b[0m\u001b[0;34m)\u001b[0m\u001b[0;34m]\u001b[0m\u001b[0;34m\u001b[0m\u001b[0;34m\u001b[0m\u001b[0m\n\u001b[0m\u001b[1;32m   1068\u001b[0m \u001b[0;34m\u001b[0m\u001b[0m\n\u001b[1;32m   1069\u001b[0m             \u001b[0;31m# Then pack it according to the dtype's nesting\u001b[0m\u001b[0;34m\u001b[0m\u001b[0;34m\u001b[0m\u001b[0;34m\u001b[0m\u001b[0m\n",
      "\u001b[0;32m/usr/local/lib/python3.8/site-packages/numpy/lib/npyio.py\u001b[0m in \u001b[0;36m<listcomp>\u001b[0;34m(.0)\u001b[0m\n\u001b[1;32m   1065\u001b[0m \u001b[0;34m\u001b[0m\u001b[0m\n\u001b[1;32m   1066\u001b[0m             \u001b[0;31m# Convert each value according to its column and store\u001b[0m\u001b[0;34m\u001b[0m\u001b[0;34m\u001b[0m\u001b[0;34m\u001b[0m\u001b[0m\n\u001b[0;32m-> 1067\u001b[0;31m             \u001b[0mitems\u001b[0m \u001b[0;34m=\u001b[0m \u001b[0;34m[\u001b[0m\u001b[0mconv\u001b[0m\u001b[0;34m(\u001b[0m\u001b[0mval\u001b[0m\u001b[0;34m)\u001b[0m \u001b[0;32mfor\u001b[0m \u001b[0;34m(\u001b[0m\u001b[0mconv\u001b[0m\u001b[0;34m,\u001b[0m \u001b[0mval\u001b[0m\u001b[0;34m)\u001b[0m \u001b[0;32min\u001b[0m \u001b[0mzip\u001b[0m\u001b[0;34m(\u001b[0m\u001b[0mconverters\u001b[0m\u001b[0;34m,\u001b[0m \u001b[0mvals\u001b[0m\u001b[0;34m)\u001b[0m\u001b[0;34m]\u001b[0m\u001b[0;34m\u001b[0m\u001b[0;34m\u001b[0m\u001b[0m\n\u001b[0m\u001b[1;32m   1068\u001b[0m \u001b[0;34m\u001b[0m\u001b[0m\n\u001b[1;32m   1069\u001b[0m             \u001b[0;31m# Then pack it according to the dtype's nesting\u001b[0m\u001b[0;34m\u001b[0m\u001b[0;34m\u001b[0m\u001b[0;34m\u001b[0m\u001b[0m\n",
      "\u001b[0;32m/usr/local/lib/python3.8/site-packages/numpy/lib/npyio.py\u001b[0m in \u001b[0;36mfloatconv\u001b[0;34m(x)\u001b[0m\n\u001b[1;32m    761\u001b[0m         \u001b[0;32mif\u001b[0m \u001b[0;34m'0x'\u001b[0m \u001b[0;32min\u001b[0m \u001b[0mx\u001b[0m\u001b[0;34m:\u001b[0m\u001b[0;34m\u001b[0m\u001b[0;34m\u001b[0m\u001b[0m\n\u001b[1;32m    762\u001b[0m             \u001b[0;32mreturn\u001b[0m \u001b[0mfloat\u001b[0m\u001b[0;34m.\u001b[0m\u001b[0mfromhex\u001b[0m\u001b[0;34m(\u001b[0m\u001b[0mx\u001b[0m\u001b[0;34m)\u001b[0m\u001b[0;34m\u001b[0m\u001b[0;34m\u001b[0m\u001b[0m\n\u001b[0;32m--> 763\u001b[0;31m         \u001b[0;32mreturn\u001b[0m \u001b[0mfloat\u001b[0m\u001b[0;34m(\u001b[0m\u001b[0mx\u001b[0m\u001b[0;34m)\u001b[0m\u001b[0;34m\u001b[0m\u001b[0;34m\u001b[0m\u001b[0m\n\u001b[0m\u001b[1;32m    764\u001b[0m \u001b[0;34m\u001b[0m\u001b[0m\n\u001b[1;32m    765\u001b[0m     \u001b[0mtyp\u001b[0m \u001b[0;34m=\u001b[0m \u001b[0mdtype\u001b[0m\u001b[0;34m.\u001b[0m\u001b[0mtype\u001b[0m\u001b[0;34m\u001b[0m\u001b[0;34m\u001b[0m\u001b[0m\n",
      "\u001b[0;31mValueError\u001b[0m: could not convert string to float: '<!DOCTYPE'"
     ]
    }
   ],
   "source": [
    "txt=get_txt(0,0,100,100,nb_dir)"
   ]
  },
  {
   "cell_type": "markdown",
   "metadata": {},
   "source": [
    "# generate spiral waves for FK model from scratch, as above"
   ]
  },
  {
   "cell_type": "markdown",
   "metadata": {},
   "source": [
    "# Create Initial Conditions That Result in Spiral Defect Chaos for the Fenton-Karma model\n",
    "Tim Tyree<br>\n",
    "2.9.2021"
   ]
  },
  {
   "cell_type": "markdown",
   "metadata": {},
   "source": [
    "## initialize a 600x600 square computational domain with the correct number of channels and as repolarized excitable myocardial tissue"
   ]
  },
  {
   "cell_type": "code",
   "execution_count": 84,
   "metadata": {
    "ExecuteTime": {
     "end_time": "2021-02-10T00:44:10.211438Z",
     "start_time": "2021-02-10T00:44:10.170657Z"
    }
   },
   "outputs": [],
   "source": [
    "# #fast, local, cythonic tip logging for FK model\n",
    "# from lib.routines.kwargs_cy import get_kwargs\n",
    "# from lib.routines.generate_tip_logs_cy import generate_tip_logs_from_ic\n",
    "# # get_kwargs\n",
    "# def run_routine(ic):\n",
    "#     kwargs = get_kwargs(ic,ds=ds, results_folder=results_folder,param_fn=param_fn)\n",
    "#     kwargs['V_threshold'] = 0.4\n",
    "#     kwargs['ds']=ds\n",
    "#     kwargs['h']=0.025# kwargs['h']=0.01 for ds_1_param_set_8 for stability\n",
    "    \n",
    "#     kwargs = generate_tip_logs_from_ic(ic, **kwargs)\n",
    "#     return True"
   ]
  },
  {
   "cell_type": "code",
   "execution_count": 85,
   "metadata": {
    "ExecuteTime": {
     "end_time": "2021-02-10T00:44:10.945019Z",
     "start_time": "2021-02-10T00:44:10.904853Z"
    }
   },
   "outputs": [],
   "source": [
    "#one_step_method\n",
    "# from inspect import getsource\n",
    "# print(getsource(generate_tip_logs_from_ic))"
   ]
  },
  {
   "cell_type": "code",
   "execution_count": 128,
   "metadata": {
    "ExecuteTime": {
     "end_time": "2021-02-10T00:51:14.950076Z",
     "start_time": "2021-02-10T00:51:14.889521Z"
    }
   },
   "outputs": [],
   "source": [
    "def get_blank_txt_FK(width,height,V_initial=0.,f_initial = 0.,s_initial=1.):#1.98799363e-02, s_initial=4.66179786e-01):\n",
    "    zero=np.zeros(shape=(width,height,3), dtype=np.float64, order='C')\n",
    "    #allocate memory to texture\n",
    "    txt=zero.copy()\n",
    "    txt[...,0]+=V_initial\n",
    "    txt[...,1]+=f_initial\n",
    "    txt[...,2]+=s_initial\n",
    "    return txt"
   ]
  },
  {
   "cell_type": "code",
   "execution_count": 177,
   "metadata": {
    "ExecuteTime": {
     "end_time": "2021-02-10T01:00:18.927169Z",
     "start_time": "2021-02-10T01:00:18.847722Z"
    }
   },
   "outputs": [],
   "source": [
    "width=600;height=600\n",
    "dsdpixel=0.025\n",
    "V_threshold = 0.4\n",
    "h=0.025# kwarg\n",
    "param_fn = 'param_set_8.json'\n",
    "param_dir = os.path.join(nb_dir,'lib/model')\n",
    "param_dict = json.load(open(os.path.join(param_dir,param_fn)))\n",
    "get_time_step=fetch_get_time_step(width,height,DX=dsdpixel,DY=dsdpixel,**param_dict)\n",
    "time_step=fetch_time_step(width,height,DX=dsdpixel,DY=dsdpixel,**param_dict)\n",
    "compute_all_spiral_tips= get_compute_all_spiral_tips(mode='simp',width=width,height=height)\n",
    "\n",
    "# width=600\n",
    "# height=600\n",
    "# ds=15.0\n",
    "# dt,one_step_map=get_one_step_map(nb_dir,dt=0.1,width=width,height=height,ds=ds,diffCoef=0.001,dsdpixel=ds/width,Cm=1.0,)\n",
    "txt=get_blank_txt_FK(width,height)\n",
    "\n",
    "zero_txt=np.zeros_like(txt)\n",
    "Cm=1.\n",
    "def one_step_map(txt,txt_Istim):\n",
    "    time_step(txt, h, zero_txt)\n",
    "    txt[...,0]-=h*txt_Istim/Cm"
   ]
  },
  {
   "cell_type": "code",
   "execution_count": 131,
   "metadata": {
    "ExecuteTime": {
     "end_time": "2021-02-10T00:51:20.865916Z",
     "start_time": "2021-02-10T00:51:20.811734Z"
    }
   },
   "outputs": [],
   "source": [
    "# #forward Euler integration in time\n",
    "# tf=250;\n",
    "# nsteps=tf/h\n",
    "# for stepno in range(500):\n",
    "#     time_step(txt, h, zero_txt)\n",
    "# txt"
   ]
  },
  {
   "cell_type": "code",
   "execution_count": 132,
   "metadata": {
    "ExecuteTime": {
     "end_time": "2021-02-10T00:51:22.564340Z",
     "start_time": "2021-02-10T00:51:21.484283Z"
    }
   },
   "outputs": [
    {
     "name": "stdout",
     "output_type": "stream",
     "text": [
      "[]\n"
     ]
    }
   ],
   "source": [
    "level1=V_threshold;level2=0.\n",
    "#take measurements once\n",
    "#compute as discrete flow map dtxt_dt\n",
    "dtxt_dt = zero_txt.copy()\n",
    "get_time_step(txt, dtxt_dt)\n",
    "\n",
    "#compute the images used to find isosurfaces\n",
    "img    = txt[...,0]\n",
    "dimgdt = dtxt_dt[...,0]\n",
    "\n",
    "# find_intersections\n",
    "retval = find_intersections(img,dimgdt,level1,level2)\n",
    "lst_values_x,lst_values_y,lst_values_theta, lst_values_grad_ux, lst_values_grad_uy, lst_values_grad_vx, lst_values_grad_vy = retval\n",
    "x_values = np.array(lst_values_x)\n",
    "y_values = np.array(lst_values_y)\n",
    "print(x_values)"
   ]
  },
  {
   "cell_type": "code",
   "execution_count": 133,
   "metadata": {
    "ExecuteTime": {
     "end_time": "2021-02-10T00:51:23.466408Z",
     "start_time": "2021-02-10T00:51:23.392962Z"
    }
   },
   "outputs": [],
   "source": [
    "#(not terribly useful) get the forward integrate kernel\n",
    "# forward_integrate_kernel= get_forward_integrate_kernel(nb_dir,dt,width,height,ds,diffCoef=0.001,Cm=1.)"
   ]
  },
  {
   "cell_type": "markdown",
   "metadata": {},
   "source": [
    "### DONE: test - time step a number of times and verify that nothing happens/nothing spikes spontaneously"
   ]
  },
  {
   "cell_type": "code",
   "execution_count": 134,
   "metadata": {
    "ExecuteTime": {
     "end_time": "2021-02-10T00:51:56.913666Z",
     "start_time": "2021-02-10T00:51:24.063878Z"
    }
   },
   "outputs": [],
   "source": [
    "#forward Euler integration in time\n",
    "tf=10;\n",
    "txt_prv=txt.copy()\n",
    "nsteps=int(tf/h)\n",
    "for stepno in range(nsteps):\n",
    "    time_step(txt, h, zero_txt)\n",
    "# for n in range(50):\n",
    "#     one_step_map(txt,txt_Istim_none)\n",
    "txt_nxt=txt.copy()"
   ]
  },
  {
   "cell_type": "code",
   "execution_count": 135,
   "metadata": {
    "ExecuteTime": {
     "end_time": "2021-02-10T00:51:57.499462Z",
     "start_time": "2021-02-10T00:51:57.456587Z"
    }
   },
   "outputs": [],
   "source": [
    "delta_txt=txt_nxt-txt_prv"
   ]
  },
  {
   "cell_type": "code",
   "execution_count": 136,
   "metadata": {
    "ExecuteTime": {
     "end_time": "2021-02-10T00:51:57.997675Z",
     "start_time": "2021-02-10T00:51:57.865887Z"
    }
   },
   "outputs": [
    {
     "data": {
      "image/png": "[encoded data removed]",
      "text/plain": [
       "<Figure size 432x288 with 1 Axes>"
      ]
     },
     "metadata": {
      "needs_background": "light"
     },
     "output_type": "display_data"
    }
   ],
   "source": [
    "chnl=2\n",
    "img=delta_txt[...,chnl]\n",
    "plt.imshow(img,cmap='gray')\n",
    "plt.axis('off')\n",
    "plt.title(f'channel {chnl}',c='w',fontsize=22)\n",
    "plt.show()"
   ]
  },
  {
   "cell_type": "code",
   "execution_count": 137,
   "metadata": {
    "ExecuteTime": {
     "end_time": "2021-02-10T00:52:20.242321Z",
     "start_time": "2021-02-10T00:52:19.730052Z"
    }
   },
   "outputs": [
    {
     "name": "stdout",
     "output_type": "stream",
     "text": [
      "max absolute differences between input and output, by channel\n",
      "9.832903127898837e-09\n",
      "0.007968164526547571\n",
      "0.0\n"
     ]
    },
    {
     "data": {
      "text/plain": [
       "0"
      ]
     },
     "execution_count": 137,
     "metadata": {},
     "output_type": "execute_result"
    }
   ],
   "source": [
    "print('max absolute differences between input and output, by channel')\n",
    "for chnl in range(3):\n",
    "    img=delta_txt[...,chnl]\n",
    "    print(np.max(np.abs(img)))\n",
    "beep(2)"
   ]
  },
  {
   "cell_type": "code",
   "execution_count": null,
   "metadata": {
    "ExecuteTime": {
     "end_time": "2021-02-10T00:52:22.869134Z",
     "start_time": "2021-02-10T00:52:22.790604Z"
    }
   },
   "outputs": [],
   "source": []
  },
  {
   "cell_type": "markdown",
   "metadata": {},
   "source": [
    "## define txt_Istim textures that give a line stimulus of constant electric flux\n"
   ]
  },
  {
   "cell_type": "code",
   "execution_count": 178,
   "metadata": {
    "ExecuteTime": {
     "end_time": "2021-02-10T01:00:33.660133Z",
     "start_time": "2021-02-10T01:00:33.600341Z"
    }
   },
   "outputs": [
    {
     "name": "stdout",
     "output_type": "stream",
     "text": [
      "# of channels is 3.\n"
     ]
    }
   ],
   "source": [
    "chnlno=3#2+2+6+6+2\n",
    "# txt= get_blank_txt_LR(width,height,V_initial=-85.,Ca_i_initial = 2*10**-4)\n",
    "width=600;height=600\n",
    "zero_c2=np.zeros(shape=(width,height,2), dtype=np.float64, order='C')\n",
    "# zero_c6=np.zeros(shape=(width,height,6), dtype=np.float64, order='C')\n",
    "print(f\"# of channels is {chnlno}.\")\n",
    "\n",
    "mag=-1.\n",
    "txt_Istim=zero_c2[...,0].copy()\n",
    "txt_Istim[:,:5]=mag\n",
    "txt_Istim_left=txt_Istim.copy()\n",
    "\n",
    "# mag=-1\n",
    "txt_Istim=zero_c2[...,0].copy()\n",
    "txt_Istim[300:305,:]=mag\n",
    "txt_Istim_top=txt_Istim.copy()\n",
    "\n",
    "txt_Istim_none=zero_c2[...,0].copy()"
   ]
  },
  {
   "cell_type": "code",
   "execution_count": 179,
   "metadata": {
    "ExecuteTime": {
     "end_time": "2021-02-10T01:00:36.729373Z",
     "start_time": "2021-02-10T01:00:36.637439Z"
    }
   },
   "outputs": [],
   "source": [
    "#make initialization conditions for a semicircular stimulus on the left\n",
    "deg = 45\n",
    "x0 = 600/4\n",
    "y0 = 600/2\n",
    "# mag=-1\n",
    "from lib.controller.draw import *\n",
    "\n",
    "txt_Istim=get_semicircle(zero_c2,deg,x0,y0)\n",
    "txt_Istim*=mag\n",
    "txt_Istim_semi=txt_Istim.copy()"
   ]
  },
  {
   "cell_type": "code",
   "execution_count": 180,
   "metadata": {
    "ExecuteTime": {
     "end_time": "2021-02-10T01:00:37.819263Z",
     "start_time": "2021-02-10T01:00:37.608321Z"
    }
   },
   "outputs": [
    {
     "data": {
      "image/png": "[encoded data removed]",
      "text/plain": [
       "<Figure size 432x648 with 3 Axes>"
      ]
     },
     "metadata": {
      "needs_background": "light"
     },
     "output_type": "display_data"
    }
   ],
   "source": [
    "fig,axs=plt.subplots(ncols=3,figsize=(6,9))\n",
    "ax=axs[0]\n",
    "ax.imshow(-txt_Istim_left,cmap='gray')#,vmin=-10, vmax=15)\n",
    "ax.axis('off')\n",
    "ax=axs[1]\n",
    "ax.imshow(-txt_Istim_top,cmap='gray')#,vmin=-10, vmax=15)\n",
    "ax.axis('off')\n",
    "ax=axs[2]\n",
    "ax.imshow(-txt_Istim_semi,cmap='gray')#,vmin=-10, vmax=15)\n",
    "ax.axis('off')\n",
    "plt.show()"
   ]
  },
  {
   "cell_type": "markdown",
   "metadata": {},
   "source": [
    "## (success!) Generate a stable spiral wave using cross-stimulation for the FK model"
   ]
  },
  {
   "cell_type": "code",
   "execution_count": 181,
   "metadata": {
    "ExecuteTime": {
     "end_time": "2021-02-10T01:00:39.119169Z",
     "start_time": "2021-02-10T01:00:39.075394Z"
    }
   },
   "outputs": [],
   "source": [
    "from lib.utils import printProgressBar"
   ]
  },
  {
   "cell_type": "code",
   "execution_count": 189,
   "metadata": {
    "ExecuteTime": {
     "end_time": "2021-02-10T01:11:00.191123Z",
     "start_time": "2021-02-10T01:11:00.154620Z"
    }
   },
   "outputs": [],
   "source": [
    "ic_folder=f\"{nb_dir}/Data/initial-conditions-suite-4-FK\"\n",
    "if not os.path.exists(ic_folder):\n",
    "    os.mkdir(ic_folder)"
   ]
  },
  {
   "cell_type": "code",
   "execution_count": 183,
   "metadata": {
    "ExecuteTime": {
     "end_time": "2021-02-10T01:00:40.979977Z",
     "start_time": "2021-02-10T01:00:40.903929Z"
    }
   },
   "outputs": [],
   "source": [
    "width=600 #width of domain in pixels\n",
    "height=600 #height of domain in pixels\n",
    "ds=15.0 #width of domain in centimeters\n",
    "\n",
    "#initialize txt\n",
    "# V_initial=-85.\n",
    "# Ca_i_initial = 2*10**-4\n",
    "# txt=get_blank_txt_LR(width,height,V_initial=-84.66,Ca_i_initial = 1.45E-007)\n",
    "txt=get_blank_txt_FK(width,height)\n",
    "t=0.\n",
    "dt=h\n",
    "#get time steps\n",
    "# from lib.model.LR_model_optimized_w_Istim import *\n",
    "#get the onestep kernels\n",
    "# dt, kernelA, kernelB=get_one_step_explicit_synchronous_splitting_w_Istim_kernel(nb_dir,dt,width,height,ds)"
   ]
  },
  {
   "cell_type": "code",
   "execution_count": 184,
   "metadata": {
    "ExecuteTime": {
     "end_time": "2021-02-10T01:01:13.836608Z",
     "start_time": "2021-02-10T01:00:42.054770Z"
    }
   },
   "outputs": [
    {
     "name": "stdout",
     "output_type": "stream",
     "text": [
      " |████████████████████████████████████████████████████████████████████████████████████████████████████| 100.0% \n",
      "the final time is t = 10.0 ms.\n",
      "\n"
     ]
    }
   ],
   "source": [
    "#stimulate on the left\n",
    "tf=10.\n",
    "num_steps=int(tf/dt)\n",
    "txt_Istim=txt_Istim_left.copy()\n",
    "update_every=10\n",
    "step_count=0\n",
    "for n in range(num_steps):\n",
    "#     kernelA(txt,txt_Istim)\n",
    "#     kernelB(txt,txt_Istim)\n",
    "    one_step_map(txt,txt_Istim)\n",
    "    t+=dt\n",
    "    step_count+=1\n",
    "    if step_count%update_every==0:\n",
    "        printProgressBar(step_count,num_steps)\n",
    "txt_a1=txt.copy()\n",
    "print(f\"\\nthe final time is t = {t:.1f} ms.\\n\")\n",
    "# beep(1)"
   ]
  },
  {
   "cell_type": "code",
   "execution_count": 185,
   "metadata": {
    "ExecuteTime": {
     "end_time": "2021-02-10T01:01:15.108923Z",
     "start_time": "2021-02-10T01:01:14.936467Z"
    }
   },
   "outputs": [
    {
     "name": "stdout",
     "output_type": "stream",
     "text": [
      "6.170427341490393\n"
     ]
    },
    {
     "data": {
      "image/png": "[encoded data removed]",
      "text/plain": [
       "<Figure size 432x288 with 1 Axes>"
      ]
     },
     "metadata": {
      "needs_background": "light"
     },
     "output_type": "display_data"
    }
   ],
   "source": [
    "#Visualize the buffer (plain)\n",
    "chnl=0\n",
    "print(np.max(txt[...,0]))\n",
    "img=txt_a1[...,chnl]\n",
    "plt.imshow(img,cmap='gray',vmin=0, vmax=1)\n",
    "plt.axis('off')\n",
    "plt.title(f'channel {chnl}, time {t:.1f}\\n',c='k',fontsize=22)#c='w',fontsize=22)\n",
    "plt.show()"
   ]
  },
  {
   "cell_type": "code",
   "execution_count": 186,
   "metadata": {
    "ExecuteTime": {
     "end_time": "2021-02-10T01:10:57.920870Z",
     "start_time": "2021-02-10T01:01:20.078857Z"
    }
   },
   "outputs": [
    {
     "name": "stdout",
     "output_type": "stream",
     "text": [
      " |███████████████████████████████████████████████████████████████████████████████████████████████████-| 99.9% \n",
      "the final time is t = 199.8 ms.\n",
      "\n"
     ]
    }
   ],
   "source": [
    "#integrate without stimulation\n",
    "# txt=txt_a.copy()\n",
    "tf=200\n",
    "num_steps=int((tf-t)/dt)\n",
    "txt_Istim=txt_Istim_none.copy()\n",
    "update_every=10\n",
    "step_count=0\n",
    "for n in range(num_steps):\n",
    "#     kernelA(txt,txt_Istim)\n",
    "#     kernelB(txt,txt_Istim)\n",
    "    one_step_map(txt,txt_Istim)\n",
    "    step_count+=1\n",
    "    if step_count%update_every==0:\n",
    "        t+=dt*update_every\n",
    "        printProgressBar(step_count,num_steps)\n",
    "txt_a2=txt.copy()\n",
    "print(f\"\\nthe final time is t = {t:.1f} ms.\\n\")\n",
    "# beep(1)"
   ]
  },
  {
   "cell_type": "code",
   "execution_count": 187,
   "metadata": {
    "ExecuteTime": {
     "end_time": "2021-02-10T01:10:58.719031Z",
     "start_time": "2021-02-10T01:10:58.602454Z"
    }
   },
   "outputs": [
    {
     "name": "stdout",
     "output_type": "stream",
     "text": [
      "4.154293708714057e-05\n"
     ]
    },
    {
     "data": {
      "image/png": "[encoded data removed]",
      "text/plain": [
       "<Figure size 432x288 with 1 Axes>"
      ]
     },
     "metadata": {
      "needs_background": "light"
     },
     "output_type": "display_data"
    }
   ],
   "source": [
    "#Visualize the buffer (plain)\n",
    "chnl=0\n",
    "print(np.max(txt[...,0]))\n",
    "ta2=t#110\n",
    "img=txt[...,chnl]\n",
    "plt.imshow(img,cmap='gray',vmin=0, vmax=1)\n",
    "plt.axis('off')\n",
    "plt.title(f'channel {chnl}, time {ta2:.1f}\\n',c='k',fontsize=22)#c='w',fontsize=22)\n",
    "plt.show()"
   ]
  },
  {
   "cell_type": "code",
   "execution_count": 190,
   "metadata": {
    "ExecuteTime": {
     "end_time": "2021-02-10T01:11:00.955771Z",
     "start_time": "2021-02-10T01:11:00.878037Z"
    }
   },
   "outputs": [],
   "source": [
    "#save texture at this time t\n",
    "save=True\n",
    "if save:\n",
    "#     txt=stack_txt(inVc,outVc,inmhjdfx,outmhjdfx,dVcdt)\n",
    "    save_img_fn=ic_folder+\"/txt_a2.npz\"\n",
    "    #     img_out=txt#np.stack([img,dimgdt]).T\n",
    "    np.savez_compressed(save_img_fn,[txt])"
   ]
  },
  {
   "cell_type": "code",
   "execution_count": 92,
   "metadata": {
    "ExecuteTime": {
     "end_time": "2021-01-26T02:19:57.146419Z",
     "start_time": "2021-01-26T02:19:56.874751Z"
    }
   },
   "outputs": [
    {
     "data": {
      "text/plain": [
       "(600, 600, 18)"
      ]
     },
     "execution_count": 92,
     "metadata": {},
     "output_type": "execute_result"
    }
   ],
   "source": [
    "# #load the buffer loaded\n",
    "# t=200.\n",
    "# img_fn=f'{nb_dir}/Data/initial-conditions-suite-4-FK/txt_a2.npz'\n",
    "# txt=load_buffer(img_fn)[0]\n",
    "# txt.shape"
   ]
  },
  {
   "cell_type": "code",
   "execution_count": 191,
   "metadata": {
    "ExecuteTime": {
     "end_time": "2021-02-10T01:11:01.739030Z",
     "start_time": "2021-02-10T01:11:01.619875Z"
    }
   },
   "outputs": [
    {
     "name": "stdout",
     "output_type": "stream",
     "text": [
      "4.154293708714057e-05\n"
     ]
    },
    {
     "data": {
      "image/png": "[encoded data removed]",
      "text/plain": [
       "<Figure size 432x288 with 1 Axes>"
      ]
     },
     "metadata": {
      "needs_background": "light"
     },
     "output_type": "display_data"
    }
   ],
   "source": [
    "#Visualize the buffer (plain)\n",
    "chnl=1\n",
    "print(np.max(txt[...,0]))\n",
    "ta2=t#110\n",
    "img=txt[...,chnl]\n",
    "if chnl==0:\n",
    "    plt.imshow(img,cmap='gray',vmin=-10, vmax=15)\n",
    "else:\n",
    "    plt.imshow(img,cmap='gray')\n",
    "plt.axis('off')\n",
    "plt.title(f'channel {chnl}, time {ta2:.1f}\\n',c='k',fontsize=22)#c='w',fontsize=22)\n",
    "plt.show()\n"
   ]
  },
  {
   "cell_type": "code",
   "execution_count": null,
   "metadata": {
    "ExecuteTime": {
     "end_time": "2021-01-23T01:03:49.655489Z",
     "start_time": "2021-01-23T01:03:49.596Z"
    }
   },
   "outputs": [],
   "source": [
    "dt"
   ]
  },
  {
   "cell_type": "code",
   "execution_count": 192,
   "metadata": {
    "ExecuteTime": {
     "end_time": "2021-02-10T01:14:39.486464Z",
     "start_time": "2021-02-10T01:11:02.408914Z"
    }
   },
   "outputs": [
    {
     "name": "stdout",
     "output_type": "stream",
     "text": [
      "\n",
      "the final time is t = 274.7 ms.\n",
      "\n"
     ]
    }
   ],
   "source": [
    "#integrate without stimulation\n",
    "# t=130\n",
    "# txt=txt_a2.copy()\n",
    "tf=75#150\n",
    "num_steps=int((tf)/dt)\n",
    "txt_Istim=txt_Istim_none.copy()\n",
    "update_every=1\n",
    "step_count=0\n",
    "for n in range(num_steps):\n",
    "#     kernelA(txt,txt_Istim)\n",
    "#     kernelB(txt,txt_Istim)\n",
    "    one_step_map(txt,txt_Istim)\n",
    "    step_count+=1\n",
    "    if step_count%update_every==0:\n",
    "        t+=dt*update_every\n",
    "#         printProgressBar(step_count,num_steps)\n",
    "txt_a3=txt.copy()\n",
    "print(f\"\\nthe final time is t = {t:.1f} ms.\\n\")\n",
    "# beep(1)\n"
   ]
  },
  {
   "cell_type": "code",
   "execution_count": null,
   "metadata": {
    "ExecuteTime": {
     "end_time": "2021-02-10T01:15:31.259990Z",
     "start_time": "2021-02-10T01:14:59.699Z"
    }
   },
   "outputs": [],
   "source": [
    "#Visualize the buffer (plain)\n",
    "chnl=0\n",
    "print(np.max(txt[...,0]))\n",
    "ta3=t#110\n",
    "img=txt[...,chnl]\n",
    "if chnl==0:\n",
    "    plt.imshow(img,cmap='gray',vmin=0, vmax=1)\n",
    "else:\n",
    "    plt.imshow(img,cmap='gray')\n",
    "plt.axis('off')\n",
    "plt.title(f'channel {chnl}, time {ta3:.1f}\\n',c='k',fontsize=22)#c='w',fontsize=22)\n",
    "plt.show()"
   ]
  },
  {
   "cell_type": "code",
   "execution_count": 103,
   "metadata": {
    "ExecuteTime": {
     "end_time": "2021-01-26T02:31:11.995189Z",
     "start_time": "2021-01-26T02:31:11.981113Z"
    }
   },
   "outputs": [],
   "source": [
    "# #define the top stimulation width (wag) and magnitude (mag)\n",
    "# mag=-10#1.77#-10#-3.\n",
    "# wag=5\n",
    "# zero_c2=np.zeros(shape=(width,height,2), dtype=np.float64, order='C')\n",
    "# txt_Istim=zero_c2[...,0].copy()\n",
    "# txt_Istim[300:300+wag,:300]=mag\n",
    "# txt_Istim_top=txt_Istim.copy()"
   ]
  },
  {
   "cell_type": "code",
   "execution_count": 104,
   "metadata": {
    "ExecuteTime": {
     "end_time": "2021-01-26T02:31:13.752213Z",
     "start_time": "2021-01-26T02:31:12.163848Z"
    }
   },
   "outputs": [],
   "source": [
    "# dt=0.01\n",
    "# dt, kernelA, kernelB=get_one_step_explicit_synchronous_splitting_w_Istim_kernel(nb_dir,dt,width,height,ds)"
   ]
  },
  {
   "cell_type": "code",
   "execution_count": 194,
   "metadata": {
    "ExecuteTime": {
     "end_time": "2021-02-10T01:15:12.537063Z",
     "start_time": "2021-02-10T01:14:41.612673Z"
    }
   },
   "outputs": [
    {
     "name": "stdout",
     "output_type": "stream",
     "text": [
      "\n",
      "the final time is t = 284.7 ms.\n"
     ]
    }
   ],
   "source": [
    "#take 1000 time steps to 100ms, stimulating on the with a semicircle #top/horizontally\n",
    "tf=10#.100#10\n",
    "# t=130\n",
    "# txt=txt_a3.copy()\n",
    "# txt=txt_a2.copy()\n",
    "num_steps=int(tf/dt)\n",
    "txt_Istim=txt_Istim_semi.copy()#txt_Istim_top.copy()\n",
    "# txt_Istim=txt_Istim_top.copy()\n",
    "update_every=100\n",
    "step_count=0\n",
    "for n in range(num_steps):\n",
    "#     kernelA(txt,txt_Istim)\n",
    "#     kernelB(txt,txt_Istim)\n",
    "    one_step_map(txt,txt_Istim)\n",
    "#     step_count+=1\n",
    "#     if step_count%update_every==0:\n",
    "t+=dt*num_steps#update_every\n",
    "#         printProgressBar(step_count,num_steps)\n",
    "print(f\"\\nthe final time is t = {t:.1f} ms.\")\n",
    "txt_b=txt.copy()\n",
    "# beep(1)"
   ]
  },
  {
   "cell_type": "code",
   "execution_count": 201,
   "metadata": {
    "ExecuteTime": {
     "end_time": "2021-02-10T01:17:46.895244Z",
     "start_time": "2021-02-10T01:17:46.724560Z"
    },
    "scrolled": true
   },
   "outputs": [
    {
     "name": "stdout",
     "output_type": "stream",
     "text": [
      "1.0397730602418414\n"
     ]
    },
    {
     "data": {
      "image/png": "[encoded data removed]",
      "text/plain": [
       "<Figure size 432x288 with 1 Axes>"
      ]
     },
     "metadata": {
      "needs_background": "light"
     },
     "output_type": "display_data"
    }
   ],
   "source": [
    "#Visualize the buffer (plain)\n",
    "chnl=0\n",
    "print(np.max(txt[...,0]))\n",
    "img=txt_b[...,chnl]\n",
    "plt.imshow(img,cmap='gray',vmin=0, vmax=1)\n",
    "plt.axis('off')\n",
    "plt.title(f'channel {chnl}, time {t:.1f}\\n',c='k',fontsize=22)#c='w',fontsize=22)\n",
    "plt.show()"
   ]
  },
  {
   "cell_type": "code",
   "execution_count": 107,
   "metadata": {
    "ExecuteTime": {
     "end_time": "2021-01-26T02:34:13.324061Z",
     "start_time": "2021-01-26T02:34:11.715393Z"
    }
   },
   "outputs": [],
   "source": [
    "# dt=0.1\n",
    "# dt, kernelA, kernelB=get_one_step_explicit_synchronous_splitting_w_Istim_kernel(nb_dir,dt,width,height,ds)"
   ]
  },
  {
   "cell_type": "code",
   "execution_count": 108,
   "metadata": {
    "ExecuteTime": {
     "end_time": "2021-01-26T02:34:14.920147Z",
     "start_time": "2021-01-26T02:34:13.498427Z"
    }
   },
   "outputs": [
    {
     "data": {
      "text/plain": [
       "0"
      ]
     },
     "execution_count": 108,
     "metadata": {},
     "output_type": "execute_result"
    }
   ],
   "source": [
    "# beep(7)"
   ]
  },
  {
   "cell_type": "code",
   "execution_count": null,
   "metadata": {
    "ExecuteTime": {
     "start_time": "2021-02-10T01:18:10.074Z"
    }
   },
   "outputs": [
    {
     "name": "stdout",
     "output_type": "stream",
     "text": [
      " |█████████████████████-------------------------------------------------------------------------------| 21.6% \r"
     ]
    }
   ],
   "source": [
    "#take 10000 time steps forward 1 sec without stimulation\n",
    "tf= 1200\n",
    "t = 284.7\n",
    "txt=txt_b.copy()\n",
    "num_steps=int((tf-t)/dt)\n",
    "txt_Istim=txt_Istim_none.copy()\n",
    "update_every=100\n",
    "step_count=0\n",
    "for n in range(num_steps):\n",
    "#     kernelA(txt,txt_Istim)\n",
    "#     kernelB(txt,txt_Istim)\n",
    "    one_step_map(txt,txt_Istim)\n",
    "    step_count+=1\n",
    "    if step_count%update_every==0:\n",
    "#         t+=dt*update_every\n",
    "        #compute dict_out\n",
    "        printProgressBar(step_count,num_steps)\n",
    "t+=dt*num_steps#update_every\n",
    "print(f\"\\nthe final time is t = {t} ms.\")\n",
    "beep(1)\n",
    "\n",
    "txt_1=txt.copy()"
   ]
  },
  {
   "cell_type": "code",
   "execution_count": null,
   "metadata": {
    "ExecuteTime": {
     "start_time": "2021-02-10T01:20:08.969Z"
    }
   },
   "outputs": [],
   "source": [
    "#Visualize the buffer (plain)\n",
    "chnl=0\n",
    "print(t)\n",
    "img=txt_1[...,chnl]\n",
    "plt.imshow(img,cmap='gray',vmin=0, vmax=1)\n",
    "plt.axis('off')\n",
    "plt.title(f'channel {chnl}, time {t:.1f}\\n',c='k',fontsize=22)#c='w',fontsize=22)\n",
    "plt.show()"
   ]
  },
  {
   "cell_type": "code",
   "execution_count": null,
   "metadata": {
    "ExecuteTime": {
     "start_time": "2021-02-10T01:20:11.388Z"
    }
   },
   "outputs": [],
   "source": [
    "#save texture at this time t\n",
    "save=True\n",
    "if save:\n",
    "#     txt=stack_txt(inVc,outVc,inmhjdfx,outmhjdfx,dVcdt)\n",
    "    save_img_fn=f\"{nb_dir}/Data/initial-conditions-suite-4-FK/txt_1.npz\"\n",
    "    #     img_out=txt#np.stack([img,dimgdt]).T\n",
    "    np.savez_compressed(save_img_fn,[txt])\n",
    "print(t)\n",
    "beep(10)"
   ]
  },
  {
   "cell_type": "code",
   "execution_count": null,
   "metadata": {},
   "outputs": [],
   "source": []
  },
  {
   "cell_type": "code",
   "execution_count": null,
   "metadata": {
    "ExecuteTime": {
     "start_time": "2021-02-10T01:20:43.823Z"
    }
   },
   "outputs": [],
   "source": [
    "#load the buffer loaded\n",
    "# t=385.\n",
    "img_fn=f'{nb_dir}/Data/initial-conditions-suite-4-FK/txt_1.npz'\n",
    "txt=load_buffer(img_fn)[0]\n",
    "txt.shape"
   ]
  },
  {
   "cell_type": "code",
   "execution_count": null,
   "metadata": {
    "ExecuteTime": {
     "start_time": "2021-02-10T01:21:44.482Z"
    }
   },
   "outputs": [],
   "source": [
    "#take 10000 time steps forward 1 sec without stimulation\n",
    "tf=10\n",
    "# txt=txt_b.copy()\n",
    "num_steps=int(tf/dt)\n",
    "txt_Istim=txt_Istim_none.copy()\n",
    "update_every=100\n",
    "step_count=0\n",
    "for n in range(num_steps):\n",
    "#     kernelA(txt,txt_Istim)\n",
    "#     kernelB(txt,txt_Istim)\n",
    "    one_step_map(txt,txt_Istim)\n",
    "    step_count+=1\n",
    "#     if step_count%update_every==0:\n",
    "#         t+=dt*update_every\n",
    "#         compute dict_out\n",
    "#         printProgressBar(step_count,num_steps)\n",
    "t+=dt*num_steps#update_every\n",
    "print(f\"\\nthe final time is t = {t} ms.\")\n",
    "beep(1)"
   ]
  },
  {
   "cell_type": "code",
   "execution_count": null,
   "metadata": {
    "ExecuteTime": {
     "start_time": "2021-02-10T01:21:45.377Z"
    }
   },
   "outputs": [],
   "source": [
    "#Visualize the buffer (plain)\n",
    "chnl=0\n",
    "print(np.max(txt[...,0]))\n",
    "img=txt[...,chnl]\n",
    "plt.imshow(img,cmap='gray',vmin=0, vmax=1)\n",
    "plt.axis('off')\n",
    "plt.title(f'channel {chnl}, time {t:.1f}\\n',c='k',fontsize=22)#c='w',fontsize=22)\n",
    "plt.show()"
   ]
  },
  {
   "cell_type": "code",
   "execution_count": null,
   "metadata": {
    "ExecuteTime": {
     "start_time": "2021-02-10T01:21:56.377Z"
    }
   },
   "outputs": [],
   "source": [
    "#save texture at this time t\n",
    "save=True\n",
    "if save:\n",
    "#     txt=stack_txt(inVc,outVc,inmhjdfx,outmhjdfx,dVcdt)\n",
    "    save_img_fn=f\"{nb_dir}/Data/initial-conditions-suite-4-FK/ic600x600_tt/ic001.npz\"\n",
    "    #     img_out=txt#np.stack([img,dimgdt]).T\n",
    "    np.savez_compressed(save_img_fn,[txt])"
   ]
  },
  {
   "cell_type": "code",
   "execution_count": null,
   "metadata": {
    "ExecuteTime": {
     "end_time": "2021-01-23T01:03:49.787369Z",
     "start_time": "2021-01-23T01:03:49.639Z"
    }
   },
   "outputs": [],
   "source": [
    "beep(10)"
   ]
  },
  {
   "cell_type": "code",
   "execution_count": null,
   "metadata": {
    "ExecuteTime": {
     "end_time": "2021-01-23T01:03:49.788064Z",
     "start_time": "2021-01-23T01:03:49.642Z"
    }
   },
   "outputs": [],
   "source": [
    "#take 10000 time steps forward 1 sec without stimulation\n",
    "tf=2000\n",
    "# txt=txt_b.copy()\n",
    "num_steps=int((tf-t)/dt)\n",
    "txt_Istim=txt_Istim_none.copy()\n",
    "update_every=50\n",
    "step_count=0\n",
    "for n in range(num_steps):\n",
    "    kernelA(txt,txt_Istim)\n",
    "    kernelB(txt,txt_Istim)\n",
    "    step_count+=1\n",
    "#     if step_count%update_every==0:\n",
    "#         t+=dt*update_every\n",
    "#         compute dict_out\n",
    "#         printProgressBar(step_count,num_steps)\n",
    "t+=dt*num_steps#update_every\n",
    "print(f\"\\nthe final time is t = {t} ms.\")\n",
    "beep(10)"
   ]
  },
  {
   "cell_type": "code",
   "execution_count": null,
   "metadata": {
    "ExecuteTime": {
     "end_time": "2021-01-23T01:03:49.788782Z",
     "start_time": "2021-01-23T01:03:49.644Z"
    }
   },
   "outputs": [],
   "source": [
    "#Visualize the buffer (plain)\n",
    "chnl=0\n",
    "print(np.max(txt[...,0]))\n",
    "img=txt[...,chnl]\n",
    "plt.imshow(img,cmap='gray',vmin=-80, vmax=15)\n",
    "plt.axis('off')\n",
    "plt.title(f'channel {chnl}, time {t:.1f}\\n',c='k',fontsize=22)#c='w',fontsize=22)\n",
    "plt.show()"
   ]
  },
  {
   "cell_type": "code",
   "execution_count": null,
   "metadata": {
    "ExecuteTime": {
     "end_time": "2021-01-23T01:03:49.789462Z",
     "start_time": "2021-01-23T01:03:49.647Z"
    }
   },
   "outputs": [],
   "source": [
    "#save texture at this time t\n",
    "save=True\n",
    "if save:\n",
    "#     txt=stack_txt(inVc,outVc,inmhjdfx,outmhjdfx,dVcdt)\n",
    "    save_img_fn=f\"{nb_dir}/Data/initial-conditions-suite-4-FK/ic600x600_tt/ic001.npz\"\n",
    "    #     img_out=txt#np.stack([img,dimgdt]).T\n",
    "    np.savez_compressed(save_img_fn,[txt])\n",
    "print(t)"
   ]
  },
  {
   "cell_type": "markdown",
   "metadata": {},
   "source": [
    "## observe apparent spiral tips"
   ]
  },
  {
   "cell_type": "markdown",
   "metadata": {
    "heading_collapsed": true
   },
   "source": [
    "### Show all spiral tips present\n"
   ]
  },
  {
   "cell_type": "code",
   "execution_count": null,
   "metadata": {
    "hidden": true
   },
   "outputs": [],
   "source": []
  },
  {
   "cell_type": "code",
   "execution_count": null,
   "metadata": {
    "ExecuteTime": {
     "end_time": "2021-01-23T01:03:49.790384Z",
     "start_time": "2021-01-23T01:03:49.650Z"
    },
    "hidden": true
   },
   "outputs": [],
   "source": [
    "#compute all spiral tips present\n",
    "V_threshold=25.#mV\n",
    "level1=V_threshold\n",
    "# theta_threshold=0.\n",
    "level2=0.\n",
    "#take the first step\n",
    "one_step(inVc,outVc,inmhjdfx,outmhjdfx,dVcdt)\n",
    "t+=dt\n",
    "img=inVc[...,0]\n",
    "dimgdt=dVcdt[...,0]\n",
    "width=200;height=200\n",
    "dict_out=compute_all_spiral_tips(t,img,dimgdt,level1,level2,width=width,height=height)\n",
    "dict_out_instantaneous=dict_out\n",
    "print(np.max(inVc[...,0]))"
   ]
  },
  {
   "cell_type": "code",
   "execution_count": null,
   "metadata": {
    "ExecuteTime": {
     "end_time": "2021-01-23T01:03:49.791062Z",
     "start_time": "2021-01-23T01:03:49.652Z"
    },
    "hidden": true
   },
   "outputs": [],
   "source": [
    "x_values=np.array(dict_out['x'])\n",
    "y_values=np.array(dict_out['y'])\n",
    "c_values=np.array(dict_out['v'])\n",
    "print(f\"{dict_out['n']} tips are present at time t={int(t)}.\")\n",
    "fig = ShowDomain(img,dimgdt,x_values,y_values,c_values,V_threshold,t,inch=6,fontsize=16,vmin_img=-85.,vmax_img=35.,\n",
    "                 area=25,frameno=1,save_fn=None,save_folder=None,save=False,annotating=False,axis=[0,200,0,200])\n",
    "plt.show(fig)"
   ]
  },
  {
   "cell_type": "code",
   "execution_count": null,
   "metadata": {
    "ExecuteTime": {
     "end_time": "2021-01-23T01:03:49.791698Z",
     "start_time": "2021-01-23T01:03:49.655Z"
    },
    "hidden": true
   },
   "outputs": [],
   "source": [
    "#save texture at this time t\n",
    "save=False\n",
    "if save:\n",
    "#     txt=stack_txt(inVc,outVc,inmhjdfx,outmhjdfx,dVcdt)\n",
    "    save_img_fn=f\"{nb_dir}/Data/test_data/test_txt_LR_euler_t_{int(t)}.npz\"\n",
    "    #     img_out=txt#np.stack([img,dimgdt]).T\n",
    "    np.savez_compressed(save_img_fn,[txt])"
   ]
  },
  {
   "cell_type": "markdown",
   "metadata": {},
   "source": [
    "# TODO: test that loading an ic keeps spiral tips when changing parameter sets"
   ]
  },
  {
   "cell_type": "markdown",
   "metadata": {
    "heading_collapsed": true
   },
   "source": [
    "# (briefly) see/test if I can use the LR ic's to start SDC using any FK time step\n",
    "... (nope)"
   ]
  },
  {
   "cell_type": "markdown",
   "metadata": {
    "ExecuteTime": {
     "end_time": "2021-02-09T22:56:43.358598Z",
     "start_time": "2021-02-09T22:56:43.303877Z"
    },
    "hidden": true
   },
   "source": [
    "project V (mV) onto V (unitless), j onto f , and j,f,w onto s."
   ]
  },
  {
   "cell_type": "code",
   "execution_count": 2,
   "metadata": {
    "ExecuteTime": {
     "end_time": "2021-02-09T23:46:43.422743Z",
     "start_time": "2021-02-09T23:46:43.384983Z"
    },
    "hidden": true
   },
   "outputs": [],
   "source": [
    "from lib.utils import get_txt"
   ]
  },
  {
   "cell_type": "code",
   "execution_count": 27,
   "metadata": {
    "ExecuteTime": {
     "end_time": "2021-02-09T23:59:07.232966Z",
     "start_time": "2021-02-09T23:57:50.053686Z"
    },
    "hidden": true
   },
   "outputs": [],
   "source": [
    "#TODO: load a small txt from LR database\n",
    "txt_id1=0\n",
    "txt_id2=0 \n",
    "width=200\n",
    "height=200\n",
    "worker_dir=nb_dir\n",
    "txt=get_txt(txt_id1, txt_id2, width, height, worker_dir)#, **kwargs)\n",
    "txt_lr=txt.copy()"
   ]
  },
  {
   "cell_type": "code",
   "execution_count": 28,
   "metadata": {
    "ExecuteTime": {
     "end_time": "2021-02-09T23:59:07.929973Z",
     "start_time": "2021-02-09T23:59:07.741316Z"
    },
    "hidden": true
   },
   "outputs": [
    {
     "name": "stdout",
     "output_type": "stream",
     "text": [
      "/Users/timothytyree/Documents/GitHub/care/notebooks/Data/test_data/test_txt_LR.npz\n"
     ]
    }
   ],
   "source": [
    "#save texture at this time t\n",
    "save=True\n",
    "if save:\n",
    "#     txt=stack_txt(inVc,outVc,inmhjdfx,outmhjdfx,dVcdt)\n",
    "    save_img_fn=f\"{nb_dir}/Data/test_data/test_txt_LR.npz\"\n",
    "    #     img_out=txt#np.stack([img,dimgdt]).T\n",
    "    np.savez_compressed(save_img_fn,[txt])\n",
    "print(save_img_fn)"
   ]
  },
  {
   "cell_type": "code",
   "execution_count": 33,
   "metadata": {
    "ExecuteTime": {
     "end_time": "2021-02-09T23:59:51.660604Z",
     "start_time": "2021-02-09T23:59:51.607025Z"
    },
    "hidden": true
   },
   "outputs": [],
   "source": [
    "from lib.utils import load_buffer\n",
    "# txt=load_buffer(save_img_fn)\n",
    "img_fn=\"/Users/timothytyree/Documents/GitHub/care/notebooks/Data/test_data/test_txt_LR.npz\"\n",
    "txt=np.load(save_img_fn)['arr_0'][0]"
   ]
  },
  {
   "cell_type": "code",
   "execution_count": 34,
   "metadata": {
    "ExecuteTime": {
     "end_time": "2021-02-09T23:59:53.317579Z",
     "start_time": "2021-02-09T23:59:53.264958Z"
    },
    "hidden": true
   },
   "outputs": [
    {
     "data": {
      "text/plain": [
       "(200, 200, 3)"
      ]
     },
     "execution_count": 34,
     "metadata": {},
     "output_type": "execute_result"
    }
   ],
   "source": [
    "inVc, outVc, inmhjdfx, outmhjdfx, dVcdt=unstack_txt(txt_lr)\n",
    "V=inVc[...,0]\n",
    "Vmn=np.min(V)\n",
    "Vmx=0\n",
    "V=(V+Vmn)/(Vmx-Vmn)\n",
    "F=0.6*inmhjdfx[...,1]#h\n",
    "# F=0.6*inmhjdfx[...,2]#j #didn't work\n",
    "S=1-0.5*(1-inmhjdfx[...,4])#f \n",
    "txt=np.stack([V,F,S],axis=-1)\n",
    "txt.shape"
   ]
  },
  {
   "cell_type": "code",
   "execution_count": 35,
   "metadata": {
    "ExecuteTime": {
     "end_time": "2021-02-09T23:59:54.298886Z",
     "start_time": "2021-02-09T23:59:54.212333Z"
    },
    "hidden": true
   },
   "outputs": [
    {
     "name": "stdout",
     "output_type": "stream",
     "text": [
      "/Users/timothytyree/Documents/GitHub/care/notebooks/Data/test_data/test_txt_FK_from_LR.npz\n"
     ]
    }
   ],
   "source": [
    "#save texture at this time t\n",
    "save=True\n",
    "if save:\n",
    "#     txt=stack_txt(inVc,outVc,inmhjdfx,outmhjdfx,dVcdt)\n",
    "    save_img_fn=f\"{nb_dir}/Data/test_data/test_txt_FK_from_LR.npz\"\n",
    "    #     img_out=txt#np.stack([img,dimgdt]).T\n",
    "    np.savez_compressed(save_img_fn,[txt])\n",
    "print(save_img_fn)"
   ]
  },
  {
   "cell_type": "code",
   "execution_count": 36,
   "metadata": {
    "ExecuteTime": {
     "end_time": "2021-02-09T23:59:58.580376Z",
     "start_time": "2021-02-09T23:59:58.522314Z"
    },
    "hidden": true
   },
   "outputs": [],
   "source": [
    "from lib.utils import load_buffer\n",
    "# txt=load_buffer(save_img_fn)\n",
    "txt=np.load(save_img_fn)['arr_0'][0]"
   ]
  },
  {
   "cell_type": "code",
   "execution_count": 38,
   "metadata": {
    "ExecuteTime": {
     "end_time": "2021-02-10T00:00:03.779344Z",
     "start_time": "2021-02-10T00:00:03.641845Z"
    },
    "hidden": true
   },
   "outputs": [
    {
     "data": {
      "image/png": "[encoded data removed]",
      "text/plain": [
       "<Figure size 432x288 with 1 Axes>"
      ]
     },
     "metadata": {
      "needs_background": "light"
     },
     "output_type": "display_data"
    }
   ],
   "source": [
    "plt.imshow(txt[...,0],cmap='gray')\n",
    "plt.axis('off')\n",
    "plt.show()\n"
   ]
  },
  {
   "cell_type": "code",
   "execution_count": 39,
   "metadata": {
    "ExecuteTime": {
     "end_time": "2021-02-10T00:00:07.033536Z",
     "start_time": "2021-02-10T00:00:06.978608Z"
    },
    "hidden": true
   },
   "outputs": [],
   "source": [
    "# width=200;height=200\n",
    "dsdpixel=0.025\n",
    "V_threshold = 0.4\n",
    "h=0.01# kwarg\n",
    "param_fn = 'param_set_8.json'\n",
    "param_dir = os.path.join(nb_dir,'lib/model')\n",
    "param_dict = json.load(open(os.path.join(param_dir,param_fn)))\n",
    "get_time_step=fetch_get_time_step(width,height,DX=dsdpixel,DY=dsdpixel,**param_dict)\n",
    "time_step=fetch_time_step(width,height,DX=dsdpixel,DY=dsdpixel,**param_dict)\n",
    "compute_all_spiral_tips= get_compute_all_spiral_tips(mode='simp',width=width,height=height)\n",
    "\n",
    "# ds=15.0\n",
    "# dt,one_step_map=get_one_step_map(nb_dir,dt=0.1,width=width,height=height,ds=ds,diffCoef=0.001,dsdpixel=ds/width,Cm=1.0,)\n",
    "# txt=get_blank_txt_FK(width,height,V_initial=0.,f_initial = 0., s_initial=0.)\n",
    "zero_txt=np.zeros_like(txt)\n",
    "def one_step_map(txt):\n",
    "    time_step(txt, h, zero_txt)"
   ]
  },
  {
   "cell_type": "code",
   "execution_count": 40,
   "metadata": {
    "ExecuteTime": {
     "end_time": "2021-02-10T00:01:36.468563Z",
     "start_time": "2021-02-10T00:00:08.235682Z"
    },
    "hidden": true
   },
   "outputs": [],
   "source": [
    "#forward Euler integration in time\n",
    "for stepno in range(10000):\n",
    "    time_step(txt, h, zero_txt)\n"
   ]
  },
  {
   "cell_type": "code",
   "execution_count": 41,
   "metadata": {
    "ExecuteTime": {
     "end_time": "2021-02-10T00:01:37.535930Z",
     "start_time": "2021-02-10T00:01:36.859976Z"
    },
    "hidden": true
   },
   "outputs": [
    {
     "data": {
      "text/plain": [
       "0"
      ]
     },
     "execution_count": 41,
     "metadata": {},
     "output_type": "execute_result"
    }
   ],
   "source": [
    "beep(3)"
   ]
  },
  {
   "cell_type": "code",
   "execution_count": 42,
   "metadata": {
    "ExecuteTime": {
     "end_time": "2021-02-10T00:01:38.501388Z",
     "start_time": "2021-02-10T00:01:37.933957Z"
    },
    "hidden": true
   },
   "outputs": [
    {
     "data": {
      "image/png": "[encoded data removed]",
      "text/plain": [
       "<Figure size 432x288 with 1 Axes>"
      ]
     },
     "metadata": {
      "needs_background": "light"
     },
     "output_type": "display_data"
    },
    {
     "data": {
      "text/plain": [
       "0"
      ]
     },
     "execution_count": 42,
     "metadata": {},
     "output_type": "execute_result"
    }
   ],
   "source": [
    "plt.imshow(txt[...,0],cmap='gray')\n",
    "plt.axis('off')\n",
    "plt.show()\n",
    "beep(2)"
   ]
  },
  {
   "cell_type": "code",
   "execution_count": 44,
   "metadata": {
    "ExecuteTime": {
     "end_time": "2021-02-10T00:34:12.263054Z",
     "start_time": "2021-02-10T00:34:12.026213Z"
    },
    "hidden": true
   },
   "outputs": [
    {
     "data": {
      "text/plain": [
       "-0.0006366016600089458"
      ]
     },
     "execution_count": 44,
     "metadata": {},
     "output_type": "execute_result"
    }
   ],
   "source": [
    "np.min(txt[...,0])"
   ]
  },
  {
   "cell_type": "code",
   "execution_count": null,
   "metadata": {
    "hidden": true
   },
   "outputs": [],
   "source": []
  }
 ],
 "metadata": {
  "kernelspec": {
   "display_name": "Python 3",
   "language": "python",
   "name": "python3"
  },
  "language_info": {
   "codemirror_mode": {
    "name": "ipython",
    "version": 3
   },
   "file_extension": ".py",
   "mimetype": "text/x-python",
   "name": "python",
   "nbconvert_exporter": "python",
   "pygments_lexer": "ipython3",
   "version": "3.8.7"
  },
  "toc": {
   "base_numbering": 1,
   "nav_menu": {},
   "number_sections": true,
   "sideBar": true,
   "skip_h1_title": false,
   "title_cell": "Table of Contents",
   "title_sidebar": "Contents",
   "toc_cell": false,
   "toc_position": {
    "height": "calc(100% - 180px)",
    "left": "10px",
    "top": "150px",
    "width": "307.2px"
   },
   "toc_section_display": true,
   "toc_window_display": false
  },
  "varInspector": {
   "cols": {
    "lenName": 16,
    "lenType": 16,
    "lenVar": 40
   },
   "kernels_config": {
    "python": {
     "delete_cmd_postfix": "",
     "delete_cmd_prefix": "del ",
     "library": "var_list.py",
     "varRefreshCmd": "print(var_dic_list())"
    },
    "r": {
     "delete_cmd_postfix": ") ",
     "delete_cmd_prefix": "rm(",
     "library": "var_list.r",
     "varRefreshCmd": "cat(var_dic_list()) "
    }
   },
   "types_to_exclude": [
    "module",
    "function",
    "builtin_function_or_method",
    "instance",
    "_Feature"
   ],
   "window_display": false
  }
 },
 "nbformat": 4,
 "nbformat_minor": 2
}
