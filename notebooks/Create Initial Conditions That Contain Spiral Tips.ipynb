{
 "cells": [
  {
   "cell_type": "markdown",
   "metadata": {},
   "source": [
    "# Create Initial Conditions That Result in Spiral Defect Chaos\n",
    "Tim Tyree<br>\n",
    "6.8.2020"
   ]
  },
  {
   "cell_type": "code",
   "execution_count": 1,
   "metadata": {
    "ExecuteTime": {
     "end_time": "2022-03-24T23:14:46.917946Z",
     "start_time": "2022-03-24T23:14:45.923611Z"
    }
   },
   "outputs": [
    {
     "name": "stdout",
     "output_type": "stream",
     "text": [
      "Automatic calling is: Smart\n"
     ]
    }
   ],
   "source": [
    "from lib.my_initialization import *\n",
    "from lib.controller.controller_LR import get_one_step_explicit_synchronous_splitting\n",
    "from lib.model.LR_model import *\n",
    "from lib.utils.utils_traj import *\n",
    "from lib.routines.bdrates import *\n",
    "from lib.measure.utils_measure_tips_cpu import *\n",
    "from lib.utils.stack_txt_LR import *\n",
    "from lib.viewer import *\n",
    "import trackpy\n",
    "from lib.utils import load_buffer\n",
    "\n",
    "%autocall 1\n",
    "%load_ext autoreload\n",
    "%autoreload 2"
   ]
  },
  {
   "cell_type": "code",
   "execution_count": 2,
   "metadata": {
    "ExecuteTime": {
     "end_time": "2022-03-24T23:14:46.971022Z",
     "start_time": "2022-03-24T23:14:46.955488Z"
    }
   },
   "outputs": [],
   "source": [
    "# #make plots in darkmode\n",
    "# import seaborn as sns\n",
    "# from jupyterthemes import jtplot\n",
    "# jtplot.style(theme='monokai', context='notebook', ticks=True, grid=False)"
   ]
  },
  {
   "cell_type": "markdown",
   "metadata": {
    "heading_collapsed": true
   },
   "source": [
    "# (deprecated) create spiral defect chaos with the Fenton-Karma model "
   ]
  },
  {
   "cell_type": "code",
   "execution_count": 3,
   "metadata": {
    "ExecuteTime": {
     "end_time": "2021-12-02T00:28:06.887069Z",
     "start_time": "2021-12-02T00:28:06.872227Z"
    },
    "hidden": true
   },
   "outputs": [],
   "source": [
    "# #pylab\n",
    "# %matplotlib inline\n",
    "# import numpy as np, pandas as pd, matplotlib.pyplot as plt\n",
    "# from pylab import imshow, show\n",
    "# import skimage as sk\n",
    "# from skimage import measure, filters\n",
    "# import matplotlib.pyplot as plt, numpy as np, os\n",
    "# from numba import njit, jit, vectorize\n",
    "# from PIL import Image\n",
    "# import imageio\n",
    "# # import cv2 as cv\n",
    "\n",
    "\n",
    "\n",
    "# #automate the boring stuff\n",
    "# from IPython import utils\n",
    "# import time, os, sys, re\n",
    "# beep = lambda x: os.system(\"echo -n '\\\\a';sleep 0.2;\" * x)\n",
    "# if not 'nb_dir' in globals():\n",
    "#     nb_dir = os.getcwd()\n",
    "# width = 512\n",
    "# height = 512\n",
    "# channel_no = 3\n",
    "\n",
    "# #load the libraries\n",
    "# from lib import *\n",
    "# # from lib.operari import *\n",
    "# # from lib.ProgressBar import *\n",
    "# # from lib.minimal_model import *\n",
    "# # from lib.TexturePlot import *\n",
    "# # from lib.get_tips import *\n",
    "# # from lib.intersection import *\n",
    "# #TODO: use cuda via numba\n",
    "# # from numba import jit, njit, vectorize, cuda, uint32, f8, uint8\n",
    "# # from lib.contours_to_tips import *\n",
    "\n",
    "# %autocall 1\n",
    "# %load_ext autoreload\n",
    "# %autoreload 2"
   ]
  },
  {
   "cell_type": "markdown",
   "metadata": {
    "hidden": true
   },
   "source": [
    "## (ignore) create a 512x512x3 initial condition that's well controlled and produces SDC"
   ]
  },
  {
   "cell_type": "markdown",
   "metadata": {
    "hidden": true
   },
   "source": [
    "## create a 'time origin' in a simple, controlled way\n",
    "create a uniform, horizontal stimulus, then time step up to time = 100, at time steps of h = 0.01.  Record."
   ]
  },
  {
   "cell_type": "code",
   "execution_count": 4,
   "metadata": {
    "ExecuteTime": {
     "end_time": "2021-12-02T00:28:06.907931Z",
     "start_time": "2021-12-02T00:28:06.888040Z"
    },
    "hidden": true
   },
   "outputs": [],
   "source": [
    "# make the relevant initial texture\n",
    "txt = np.zeros((512,512,3))\n",
    "zero_txt = txt.copy()\n",
    "txt[256-32:256+32,:,0] = 0.5\n",
    "txt[...,1] = 0.5\n",
    "txt[...,2] = 0.5\n",
    "tme = 0"
   ]
  },
  {
   "cell_type": "code",
   "execution_count": 5,
   "metadata": {
    "ExecuteTime": {
     "end_time": "2021-12-02T00:28:07.041674Z",
     "start_time": "2021-12-02T00:28:06.909100Z"
    },
    "hidden": true
   },
   "outputs": [
    {
     "data": {
      "text/plain": [
       "<matplotlib.image.AxesImage at 0x7f20247e5490>"
      ]
     },
     "execution_count": 5,
     "metadata": {},
     "output_type": "execute_result"
    },
    {
     "data": {
      "image/png": "[encoded data removed]",
      "text/plain": [
       "<Figure size 432x288 with 1 Axes>"
      ]
     },
     "metadata": {
      "needs_background": "light"
     },
     "output_type": "display_data"
    }
   ],
   "source": [
    "plt.imshow(txt)"
   ]
  },
  {
   "cell_type": "code",
   "execution_count": 6,
   "metadata": {
    "ExecuteTime": {
     "end_time": "2021-12-02T00:28:07.180104Z",
     "start_time": "2021-12-02T00:28:07.042915Z"
    },
    "hidden": true
   },
   "outputs": [
    {
     "ename": "NameError",
     "evalue": "name 'time_step' is not defined",
     "output_type": "error",
     "traceback": [
      "\u001b[0;31m---------------------------------------------------------------------------\u001b[0m",
      "\u001b[0;31mNameError\u001b[0m                                 Traceback (most recent call last)",
      "\u001b[0;32m/tmp/ipykernel_22727/1351760113.py\u001b[0m in \u001b[0;36m<module>\u001b[0;34m\u001b[0m\n\u001b[1;32m      2\u001b[0m \u001b[0mnsteps\u001b[0m \u001b[0;34m=\u001b[0m \u001b[0;36m10\u001b[0m\u001b[0;34m**\u001b[0m\u001b[0;36m4\u001b[0m\u001b[0;34m\u001b[0m\u001b[0;34m\u001b[0m\u001b[0m\n\u001b[1;32m      3\u001b[0m \u001b[0;32mfor\u001b[0m \u001b[0mstep\u001b[0m \u001b[0;32min\u001b[0m \u001b[0mrange\u001b[0m\u001b[0;34m(\u001b[0m\u001b[0mnsteps\u001b[0m\u001b[0;34m)\u001b[0m\u001b[0;34m:\u001b[0m\u001b[0;34m\u001b[0m\u001b[0;34m\u001b[0m\u001b[0m\n\u001b[0;32m----> 4\u001b[0;31m     \u001b[0mtime_step\u001b[0m\u001b[0;34m(\u001b[0m\u001b[0mtexture\u001b[0m\u001b[0;34m=\u001b[0m\u001b[0mtxt\u001b[0m\u001b[0;34m,\u001b[0m \u001b[0mh\u001b[0m \u001b[0;34m=\u001b[0m \u001b[0;36m0.01\u001b[0m\u001b[0;34m,\u001b[0m \u001b[0mzero_txt\u001b[0m\u001b[0;34m=\u001b[0m\u001b[0mzero_txt\u001b[0m\u001b[0;34m)\u001b[0m\u001b[0;34m\u001b[0m\u001b[0;34m\u001b[0m\u001b[0m\n\u001b[0m\u001b[1;32m      5\u001b[0m     \u001b[0mtme\u001b[0m \u001b[0;34m+=\u001b[0m \u001b[0mh\u001b[0m\u001b[0;34m\u001b[0m\u001b[0;34m\u001b[0m\u001b[0m\n\u001b[1;32m      6\u001b[0m     \u001b[0mprintProgressBar\u001b[0m\u001b[0;34m(\u001b[0m\u001b[0mstep\u001b[0m \u001b[0;34m+\u001b[0m \u001b[0;36m1\u001b[0m\u001b[0;34m,\u001b[0m \u001b[0mnsteps\u001b[0m\u001b[0;34m,\u001b[0m \u001b[0mprefix\u001b[0m \u001b[0;34m=\u001b[0m \u001b[0;34m'Progress:'\u001b[0m\u001b[0;34m,\u001b[0m \u001b[0msuffix\u001b[0m \u001b[0;34m=\u001b[0m \u001b[0;34m'Complete'\u001b[0m\u001b[0;34m,\u001b[0m \u001b[0mlength\u001b[0m \u001b[0;34m=\u001b[0m \u001b[0;36m50\u001b[0m\u001b[0;34m)\u001b[0m\u001b[0;34m\u001b[0m\u001b[0;34m\u001b[0m\u001b[0m\n",
      "\u001b[0;31mNameError\u001b[0m: name 'time_step' is not defined"
     ]
    }
   ],
   "source": [
    "h = 0.01\n",
    "nsteps = 10**4\n",
    "for step in range(nsteps):\n",
    "    time_step(texture=txt, h = 0.01, zero_txt=zero_txt)\n",
    "    tme += h\n",
    "    printProgressBar(step + 1, nsteps, prefix = 'Progress:', suffix = 'Complete', length = 50)\n",
    "beep(1)\n",
    "print(f\"the time is tme = {tme}.\")"
   ]
  },
  {
   "cell_type": "code",
   "execution_count": null,
   "metadata": {
    "ExecuteTime": {
     "end_time": "2021-12-02T00:28:07.184449Z",
     "start_time": "2021-12-02T00:28:07.184438Z"
    },
    "hidden": true
   },
   "outputs": [],
   "source": [
    "save_fn = f\"ic_{txt.shape[1]}x{txt.shape[0]}_t={0}.npz\"\n",
    "print(save_fn)\n",
    "np.savez_compressed(f'{nb_dir}/Data/{save_fn}', txt)"
   ]
  },
  {
   "cell_type": "code",
   "execution_count": 14,
   "metadata": {
    "ExecuteTime": {
     "end_time": "2021-12-02T00:50:06.062168Z",
     "start_time": "2021-12-02T00:50:06.044425Z"
    },
    "hidden": true
   },
   "outputs": [],
   "source": [
    "# save_fig?"
   ]
  },
  {
   "cell_type": "code",
   "execution_count": null,
   "metadata": {
    "hidden": true
   },
   "outputs": [],
   "source": []
  },
  {
   "cell_type": "code",
   "execution_count": 12,
   "metadata": {
    "ExecuteTime": {
     "end_time": "2021-12-02T00:46:38.548602Z",
     "start_time": "2021-12-02T00:46:38.522861Z"
    },
    "hidden": true
   },
   "outputs": [],
   "source": [
    "#fast, local, cythonic tip logging\n",
    "from lib.routines.kwargs_cy import get_kwargs\n",
    "from lib.routines.generate_tip_logs_cy import generate_tip_logs_from_ic\n",
    "# get_kwargs\n",
    "def run_routine(ic):\n",
    "    kwargs = get_kwargs(ic,ds=ds, results_folder=results_folder,param_fn=param_fn)\n",
    "    kwargs['V_threshold'] = 0.4\n",
    "    kwargs['ds']=ds\n",
    "    kwargs['tmax_sec']=tmax_sec\n",
    "    kwargs['tmax']=tmax_sec*10**3\n",
    "    kwargs[\"diffCoef\"]= diffcoef\n",
    "    kwargs['h']=dt\n",
    "#     kwargs['h']=0.025# kwargs['h']=0.01 for ds_1_param_set_8 for stability\n",
    "    kwargs['save_every_n_frames']= 1#40\n",
    "    kwargs['tmin']=100\n",
    "    kwargs = generate_tip_logs_from_ic(ic, **kwargs)\n",
    "    return True\n",
    "\n",
    "\n",
    "# get_time_step(txt, dtexture_dt)\n",
    "# get_time_step_at_pixel\n",
    "# get_one_step_explicit_synchronous_splitting?"
   ]
  },
  {
   "cell_type": "markdown",
   "metadata": {
    "hidden": true
   },
   "source": [
    "## added a semicircle of stimulus tilted at 45º in the danger zone\n",
    "- Then confirm that spiral defect chaos commenses"
   ]
  },
  {
   "cell_type": "markdown",
   "metadata": {
    "hidden": true
   },
   "source": [
    "### load test cases for pbc"
   ]
  },
  {
   "cell_type": "code",
   "execution_count": null,
   "metadata": {
    "ExecuteTime": {
     "end_time": "2021-12-02T00:28:07.185256Z",
     "start_time": "2021-12-02T00:28:07.185243Z"
    },
    "hidden": true
   },
   "outputs": [],
   "source": [
    "data_dir = f'{nb_dir}/Data/ic_512x512_t=0.npz'\n",
    "txt = np.load(data_dir)['arr_0']"
   ]
  },
  {
   "cell_type": "code",
   "execution_count": null,
   "metadata": {
    "ExecuteTime": {
     "end_time": "2021-12-02T00:28:07.186216Z",
     "start_time": "2021-12-02T00:28:07.186205Z"
    },
    "hidden": true
   },
   "outputs": [],
   "source": [
    "plt.imshow(txt)"
   ]
  },
  {
   "cell_type": "code",
   "execution_count": null,
   "metadata": {
    "ExecuteTime": {
     "end_time": "2020-06-17T22:51:38.598687Z",
     "start_time": "2020-06-17T22:51:38.571613Z"
    },
    "hidden": true
   },
   "outputs": [],
   "source": []
  },
  {
   "cell_type": "markdown",
   "metadata": {
    "heading_collapsed": true,
    "hidden": true
   },
   "source": [
    "## DONE: add a semicircle of stimulus tilted at 45º in the danger zone"
   ]
  },
  {
   "cell_type": "code",
   "execution_count": null,
   "metadata": {
    "ExecuteTime": {
     "end_time": "2021-12-02T00:28:07.187101Z",
     "start_time": "2021-12-02T00:28:07.187087Z"
    },
    "hidden": true
   },
   "outputs": [],
   "source": [
    "from lib.controller.draw import *"
   ]
  },
  {
   "cell_type": "code",
   "execution_count": null,
   "metadata": {
    "ExecuteTime": {
     "end_time": "2021-12-02T00:28:07.187757Z",
     "start_time": "2021-12-02T00:28:07.187746Z"
    },
    "hidden": true
   },
   "outputs": [],
   "source": [
    "def get_semicircle(txt,deg,x0,y0):\n",
    "    #make the initialization mesh\n",
    "    img = 0*txt[...,0].copy()\n",
    "    color_left_of_line(out=img, x0=x0, y0=y0, deg = deg, value=1.)  #make left of line mesh 0 or 1\n",
    "    color_outside_range(out=img, x0=x0,y0=y0,r=64*2, val=0.0)  #make circle mesh 0 or 1\n",
    "    #already done: hadamard product of the two.\n",
    "    return img\n",
    "#make initialization conditions\n",
    "deg = 45\n",
    "x0 = 600/4\n",
    "y0 = 600/2\n",
    "img=get_semicircle(txt,deg,x0,y0)\n",
    "plt.imshow(img,vmin=0,vmax=1)"
   ]
  },
  {
   "cell_type": "code",
   "execution_count": null,
   "metadata": {
    "ExecuteTime": {
     "end_time": "2021-12-02T00:28:07.188528Z",
     "start_time": "2021-12-02T00:28:07.188518Z"
    },
    "hidden": true
   },
   "outputs": [],
   "source": [
    "# save this init + the origin\n",
    "out = txt.copy()\n",
    "out[...,0] += 10.*img\n",
    "plt.imshow(out)"
   ]
  },
  {
   "cell_type": "code",
   "execution_count": null,
   "metadata": {
    "ExecuteTime": {
     "end_time": "2021-12-02T00:28:07.189130Z",
     "start_time": "2021-12-02T00:28:07.189120Z"
    },
    "hidden": true
   },
   "outputs": [],
   "source": [
    "# save_dir = nb_dir+f'/Data/ic_deg_{deg}_0'\n",
    "# np.save(save_dir+f'.npy', arr=out)\n",
    "# np.savez_compressed(save_dir+f'.npz', arr=out)"
   ]
  },
  {
   "cell_type": "code",
   "execution_count": null,
   "metadata": {
    "ExecuteTime": {
     "end_time": "2021-12-02T00:28:07.189844Z",
     "start_time": "2021-12-02T00:28:07.189834Z"
    },
    "hidden": true
   },
   "outputs": [],
   "source": [
    "save_dir\n"
   ]
  },
  {
   "cell_type": "markdown",
   "metadata": {
    "ExecuteTime": {
     "end_time": "2020-06-09T18:16:14.846658Z",
     "start_time": "2020-06-09T18:16:14.820532Z"
    },
    "heading_collapsed": true,
    "hidden": true
   },
   "source": [
    "## off topic: get method from trimesh used to calculate volume"
   ]
  },
  {
   "cell_type": "code",
   "execution_count": null,
   "metadata": {
    "ExecuteTime": {
     "end_time": "2021-12-02T00:28:07.190473Z",
     "start_time": "2021-12-02T00:28:07.190463Z"
    },
    "hidden": true
   },
   "outputs": [],
   "source": [
    "\n",
    "# from skimage import draw\n",
    "\n",
    "# circle_coords = draw.circle(r=100, c=100, radius=100, shape=(512,512,3))\n",
    "# txt[circle_coords]\n",
    "\n",
    "\n",
    "# compute initial point and final point of line that goes through the circle's center\n",
    "# r0 = 0; c0 = xm - dst\n",
    "# r1 = txt.shape[1]-1; c1 = xm + dsb\n",
    "# draw that circle\n",
    "# line = draw.line(r0, c0, r1, c1)\n",
    "\n",
    "# ym = 512/4; xm = 512/2; #same as circle center\n",
    "# deg   = 45 # number of degrees semicircle is cut by\n",
    "# theta = deg/180*np.pi\n",
    "\n",
    "# #dist to top\n",
    "# dtt = ym\n",
    "# #dist to bottom\n",
    "# dtb = txt.shape[1]-ym-1\n",
    "# #use trig to get dist to sides\n",
    "# dst = int(np.around(np.tan(theta)*dtt))\n",
    "# dsb = int(np.around(np.tan(theta)*dtb))\n",
    "\n",
    "\n",
    "# img = 0*txt[...,0].copy()\n",
    "# line_x = line[0]\n",
    "# color_within_range(x0=512/2,y0=512/4,r=100, out=img, val=10., width=512,height=512)\n"
   ]
  },
  {
   "cell_type": "code",
   "execution_count": null,
   "metadata": {
    "ExecuteTime": {
     "end_time": "2021-12-02T00:28:07.191294Z",
     "start_time": "2021-12-02T00:28:07.191284Z"
    },
    "hidden": true
   },
   "outputs": [],
   "source": [
    "!pip3 install trimesh"
   ]
  },
  {
   "cell_type": "code",
   "execution_count": null,
   "metadata": {
    "ExecuteTime": {
     "end_time": "2021-12-02T00:28:07.191904Z",
     "start_time": "2021-12-02T00:28:07.191894Z"
    },
    "hidden": true
   },
   "outputs": [],
   "source": [
    "import trimesh\n",
    "# from lib.operari import *\n",
    "# import inspect"
   ]
  },
  {
   "cell_type": "code",
   "execution_count": null,
   "metadata": {
    "ExecuteTime": {
     "end_time": "2021-12-02T00:28:07.192677Z",
     "start_time": "2021-12-02T00:28:07.192667Z"
    },
    "hidden": true
   },
   "outputs": [],
   "source": [
    "file_name = 'ic_600x600.101.npz'\n",
    "file_dir = find_files(file_name, search_path=nb_dir)\n",
    "if len(file_dir)==0: raise('file not found')\n",
    "# print(\n",
    "file_dir=file_dir[0]\n",
    "# )\n",
    "# print(sys.path.exists(file_dir))"
   ]
  },
  {
   "cell_type": "code",
   "execution_count": null,
   "metadata": {
    "ExecuteTime": {
     "end_time": "2021-12-02T00:28:07.193272Z",
     "start_time": "2021-12-02T00:28:07.193261Z"
    },
    "hidden": true
   },
   "outputs": [],
   "source": [
    "# generate load_mesh from .npz array\n",
    "txt = np.load(file_dir)['arr_0']"
   ]
  },
  {
   "cell_type": "code",
   "execution_count": null,
   "metadata": {
    "ExecuteTime": {
     "end_time": "2021-12-02T00:28:07.193993Z",
     "start_time": "2021-12-02T00:28:07.193983Z"
    },
    "hidden": true
   },
   "outputs": [],
   "source": [
    "# #make a log folder\n",
    "make_log_folder(folder_name='Data/log-tmp/')"
   ]
  },
  {
   "cell_type": "code",
   "execution_count": null,
   "metadata": {
    "ExecuteTime": {
     "end_time": "2021-12-02T00:28:07.194483Z",
     "start_time": "2021-12-02T00:28:07.194473Z"
    },
    "hidden": true
   },
   "outputs": [],
   "source": [
    "# print(inspect.getsource(trimesh.creation.faces_to_edges))"
   ]
  },
  {
   "cell_type": "code",
   "execution_count": null,
   "metadata": {
    "ExecuteTime": {
     "end_time": "2020-06-09T21:25:26.324333Z",
     "start_time": "2020-06-09T21:25:26.295877Z"
    },
    "hidden": true
   },
   "outputs": [],
   "source": []
  },
  {
   "cell_type": "code",
   "execution_count": null,
   "metadata": {
    "ExecuteTime": {
     "end_time": "2021-12-02T00:28:07.195053Z",
     "start_time": "2021-12-02T00:28:07.195043Z"
    },
    "hidden": true
   },
   "outputs": [],
   "source": [
    "# print(inspect.getsource(trimesh.Trimesh.))\n",
    "#     trimesh.Trimesh.mass_properties\n",
    "trimesh.Trimesh.volume"
   ]
  },
  {
   "cell_type": "code",
   "execution_count": null,
   "metadata": {
    "ExecuteTime": {
     "end_time": "2021-12-02T00:28:07.195800Z",
     "start_time": "2021-12-02T00:28:07.195791Z"
    },
    "hidden": true
   },
   "outputs": [],
   "source": [
    "trimesh."
   ]
  },
  {
   "cell_type": "markdown",
   "metadata": {
    "ExecuteTime": {
     "end_time": "2020-06-09T21:00:59.766234Z",
     "start_time": "2020-06-09T21:00:59.730141Z"
    },
    "heading_collapsed": true,
    "hidden": true
   },
   "source": [
    "### move the computational geometry ipynbs and lib from rapids-notebook/'trimesh work' over here to python/notebooks/\n",
    "Done on UB"
   ]
  },
  {
   "cell_type": "markdown",
   "metadata": {
    "heading_collapsed": true,
    "hidden": true
   },
   "source": [
    "## distractions"
   ]
  },
  {
   "cell_type": "markdown",
   "metadata": {
    "heading_collapsed": true,
    "hidden": true
   },
   "source": [
    "### TODO(when bored & w/ time): test trimesh.Trimesh.area and trimesh.Trimesh.volume can reproduce the right ratio for a sphere.\n",
    "\n",
    "### TODO: What sized cube yields a unit volume output? Hint: what's the volume for a right tetrahedron?\n",
    "\n",
    "### (and then) TODO: find out this \"surface integral\" that functionaly produces the volume of a watertight triangular mesh"
   ]
  },
  {
   "cell_type": "code",
   "execution_count": null,
   "metadata": {
    "hidden": true
   },
   "outputs": [],
   "source": [
    "\n",
    "\n",
    "\n",
    "\n"
   ]
  },
  {
   "cell_type": "markdown",
   "metadata": {
    "heading_collapsed": true,
    "hidden": true
   },
   "source": [
    "## partition WJ's 600x600 ic into nine 200x200 patches. save\n",
    "each patch is 5cm x 5 cm<br>\n",
    "6.23.2020\n"
   ]
  },
  {
   "cell_type": "code",
   "execution_count": null,
   "metadata": {
    "ExecuteTime": {
     "end_time": "2021-12-02T00:28:07.196627Z",
     "start_time": "2021-12-02T00:28:07.196617Z"
    },
    "hidden": true
   },
   "outputs": [],
   "source": [
    "input_fn = search_for_file()"
   ]
  },
  {
   "cell_type": "code",
   "execution_count": null,
   "metadata": {
    "ExecuteTime": {
     "end_time": "2021-12-02T00:28:07.197244Z",
     "start_time": "2021-12-02T00:28:07.197235Z"
    },
    "hidden": true
   },
   "outputs": [],
   "source": [
    "txt = load_buffer(input_fn)"
   ]
  },
  {
   "cell_type": "code",
   "execution_count": null,
   "metadata": {
    "ExecuteTime": {
     "end_time": "2021-12-02T00:28:07.197887Z",
     "start_time": "2021-12-02T00:28:07.197853Z"
    },
    "hidden": true
   },
   "outputs": [],
   "source": [
    "save_fn = nb_dir+'/Data/initial-conditions/ic_200x200.101.11.npz'\n",
    "txt_out = txt[0:200,0:200]\n",
    "np.savez_compressed(save_fn,txt_out)\n",
    "print(txt_out.shape)"
   ]
  },
  {
   "cell_type": "code",
   "execution_count": null,
   "metadata": {
    "ExecuteTime": {
     "end_time": "2021-12-02T00:28:07.198639Z",
     "start_time": "2021-12-02T00:28:07.198630Z"
    },
    "hidden": true
   },
   "outputs": [],
   "source": [
    "save_fn = nb_dir+'/Data/initial-conditions/ic_200x200.101.12.npz'\n",
    "txt_out = txt[200:400,0:200]\n",
    "np.savez_compressed(save_fn,txt_out)\n",
    "print(txt_out.shape)"
   ]
  },
  {
   "cell_type": "code",
   "execution_count": null,
   "metadata": {
    "ExecuteTime": {
     "end_time": "2021-12-02T00:28:07.199274Z",
     "start_time": "2021-12-02T00:28:07.199264Z"
    },
    "hidden": true
   },
   "outputs": [],
   "source": [
    "save_fn = nb_dir+'/Data/initial-conditions/ic_200x200.101.13.npz'\n",
    "txt_out = txt[400:600,0:200]\n",
    "np.savez_compressed(save_fn,txt_out)\n",
    "print(txt_out.shape)"
   ]
  },
  {
   "cell_type": "code",
   "execution_count": null,
   "metadata": {
    "ExecuteTime": {
     "end_time": "2021-12-02T00:28:07.200009Z",
     "start_time": "2021-12-02T00:28:07.199998Z"
    },
    "hidden": true
   },
   "outputs": [],
   "source": [
    "save_fn = nb_dir+'/Data/initial-conditions/ic_200x200.101.21.npz'\n",
    "txt_out = txt[0:200,200:400]\n",
    "np.savez_compressed(save_fn,txt_out)\n",
    "print(txt_out.shape)"
   ]
  },
  {
   "cell_type": "code",
   "execution_count": null,
   "metadata": {
    "ExecuteTime": {
     "end_time": "2021-12-02T00:28:07.200700Z",
     "start_time": "2021-12-02T00:28:07.200690Z"
    },
    "hidden": true
   },
   "outputs": [],
   "source": [
    "save_fn = nb_dir+'/Data/initial-conditions/ic_200x200.101.22.npz'\n",
    "txt_out = txt[200:400,200:400]\n",
    "np.savez_compressed(save_fn,txt_out)\n",
    "print(txt_out.shape)"
   ]
  },
  {
   "cell_type": "code",
   "execution_count": null,
   "metadata": {
    "ExecuteTime": {
     "end_time": "2021-12-02T00:28:07.201353Z",
     "start_time": "2021-12-02T00:28:07.201343Z"
    },
    "hidden": true
   },
   "outputs": [],
   "source": [
    "save_fn = nb_dir+'/Data/initial-conditions/ic_200x200.101.23.npz'\n",
    "txt_out = txt[400:600,200:400]\n",
    "np.savez_compressed(save_fn,txt_out)\n",
    "print(txt_out.shape)"
   ]
  },
  {
   "cell_type": "code",
   "execution_count": null,
   "metadata": {
    "ExecuteTime": {
     "end_time": "2021-12-02T00:28:07.201988Z",
     "start_time": "2021-12-02T00:28:07.201978Z"
    },
    "hidden": true
   },
   "outputs": [],
   "source": [
    "save_fn = nb_dir+'/Data/initial-conditions/ic_200x200.101.31.npz'\n",
    "txt_out = txt[0:200,400:600]\n",
    "np.savez_compressed(save_fn,txt_out)\n",
    "print(txt_out.shape)"
   ]
  },
  {
   "cell_type": "code",
   "execution_count": null,
   "metadata": {
    "ExecuteTime": {
     "end_time": "2021-12-02T00:28:07.202724Z",
     "start_time": "2021-12-02T00:28:07.202714Z"
    },
    "hidden": true
   },
   "outputs": [],
   "source": [
    "save_fn = nb_dir+'/Data/initial-conditions/ic_200x200.101.32.npz'\n",
    "txt_out = txt[200:400,400:600]\n",
    "np.savez_compressed(save_fn,txt_out)\n",
    "print(txt_out.shape)"
   ]
  },
  {
   "cell_type": "code",
   "execution_count": null,
   "metadata": {
    "ExecuteTime": {
     "end_time": "2021-12-02T00:28:07.204479Z",
     "start_time": "2021-12-02T00:28:07.204469Z"
    },
    "hidden": true
   },
   "outputs": [],
   "source": [
    "save_fn = nb_dir+'/Data/initial-conditions/ic_200x200.101.33.npz'\n",
    "txt_out = txt[400:600,400:600]\n",
    "np.savez_compressed(save_fn,txt_out)\n",
    "print(txt_out.shape)"
   ]
  },
  {
   "cell_type": "markdown",
   "metadata": {
    "heading_collapsed": true,
    "hidden": true
   },
   "source": [
    "## file IO method that compresses numpy arrays.  \n",
    "8.13.2020\n",
    "- TODO: see whether this compressed array format can store 3 channels of float instances at each pixel"
   ]
  },
  {
   "cell_type": "code",
   "execution_count": null,
   "metadata": {
    "ExecuteTime": {
     "end_time": "2021-12-02T00:28:07.205104Z",
     "start_time": "2021-12-02T00:28:07.205095Z"
    },
    "hidden": true
   },
   "outputs": [],
   "source": [
    "class IC_File(object):\n",
    "    r\"\"\"Describe the class\"\"\"\n",
    "    def __init__(self, folder, file_name):\n",
    "        os.chdir(folder)\n",
    "        f= open(file_name,\"ab\") #write to binary file: 'wb' ) )\n",
    "        data = read_array(f)\n",
    "        self.data = data\n",
    "        # for i in range(10):\n",
    "        #   f.write(\"This is line %d\\r\\n\" % (i+1))\n",
    "        f.close()\n",
    "        self.folder = folder\n",
    "        self.file_name = file_name\n",
    "        \n",
    "        self.width = None\n",
    "        self.height= None\n",
    "        self.xres = None\n",
    "        self.yres = None\n",
    "        \n",
    "    def shape(self):\n",
    "        return np.array((self.width,self.height), dtype=np.int)\n",
    "    def area(self):\n",
    "        shape = self.shape()\n",
    "        da = self.xres()*self.yres()\n",
    "        return da*shape[0]*shape[1]\n",
    "    \n",
    "def compress_array(array, save_file='data.pkl.lzma'):\n",
    "    '''array is a numpy array.'''\n",
    "    import pickle, gzip, lzma, bz2\n",
    "    data = array\n",
    "    # pickle.dump( data, gzip.open( 'data.pkl.gz',   'wb' ) ) # inferior to lzma\n",
    "    pickle.dump( data, lzma.open( save_file, 'wb' ) )\n",
    "    # pickle.dump( data,  bz2.open( 'data.pkl.bz2',  'wb' ) ) # inferior to lzma\n",
    "    \n",
    "def append_array(array, save_file='data.pkl.lzma'):\n",
    "    '''array is a numpy array.'''\n",
    "    import pickle, gzip, lzma, bz2\n",
    "    data = array\n",
    "    # pickle.dump( data, gzip.open( 'data.pkl.gz',   'wb' ) ) # inferior to lzma\n",
    "#     pickle.dump( data, lzma.open( save_file, 'ab' ) ) # slightly smaller file size\n",
    "    pickle.dump( data,  bz2.open( 'data.pkl.bz2',  'wb' ) ) # better loading speed for non-random numpy arrays"
   ]
  },
  {
   "cell_type": "code",
   "execution_count": null,
   "metadata": {
    "ExecuteTime": {
     "end_time": "2021-12-02T00:28:07.205838Z",
     "start_time": "2021-12-02T00:28:07.205828Z"
    },
    "hidden": true
   },
   "outputs": [],
   "source": [
    "!pip install hickle"
   ]
  },
  {
   "cell_type": "code",
   "execution_count": null,
   "metadata": {
    "ExecuteTime": {
     "end_time": "2021-12-02T00:28:07.206567Z",
     "start_time": "2021-12-02T00:28:07.206557Z"
    },
    "hidden": true
   },
   "outputs": [],
   "source": [
    "#consider using a hdf5 file structure to efficiently store numpy arrays using hickle!\n",
    "import hickle as hkl \n",
    "\n",
    "data = { 'name' : 'test', 'data_arr' : [1, 2, 3, 4] }\n",
    "\n",
    "# Dump data to file\n",
    "hkl.dump( data, 'new_data_file.hkl' )\n",
    "\n",
    "# Load data from file\n",
    "data2 = hkl.load( 'new_data_file.hkl' )\n",
    "\n",
    "print( data == data2 )"
   ]
  },
  {
   "cell_type": "markdown",
   "metadata": {
    "hidden": true
   },
   "source": [
    "There also is the possibility to \"pickle\" directly into a compressed archive by doing:"
   ]
  },
  {
   "cell_type": "code",
   "execution_count": null,
   "metadata": {
    "ExecuteTime": {
     "end_time": "2021-12-02T00:28:07.207176Z",
     "start_time": "2021-12-02T00:28:07.207166Z"
    },
    "hidden": true
   },
   "outputs": [],
   "source": [
    "folder = fi"
   ]
  },
  {
   "cell_type": "markdown",
   "metadata": {
    "heading_collapsed": true,
    "hidden": true
   },
   "source": [
    "### TODO: use dask to load/write these files (check chrome!)"
   ]
  },
  {
   "cell_type": "markdown",
   "metadata": {
    "heading_collapsed": true,
    "hidden": true
   },
   "source": [
    "## partition WJ's 600x600 ic into nine 200x200 patches. save\n",
    "each patch is 5cm x 5 cm<br>\n",
    "6.23.2020\n"
   ]
  },
  {
   "cell_type": "code",
   "execution_count": null,
   "metadata": {
    "ExecuteTime": {
     "end_time": "2020-08-13T19:47:58.991043Z",
     "start_time": "2020-08-13T19:47:58.987725Z"
    },
    "hidden": true
   },
   "outputs": [],
   "source": []
  },
  {
   "cell_type": "code",
   "execution_count": null,
   "metadata": {
    "ExecuteTime": {
     "end_time": "2021-12-02T00:28:07.207996Z",
     "start_time": "2021-12-02T00:28:07.207985Z"
    },
    "hidden": true
   },
   "outputs": [],
   "source": [
    "# def load_fortran(input_fn):\n",
    "#     #load txt\n",
    "#     arr = np.loadtxt(input_fn)\n",
    "#     #WJ's files come to 16 digits of machine precision.\n",
    "#     arr = arr.astype(dtype = np.float64, casting='same_kind', order='C', copy=False)\n",
    "\n",
    "#     N = arr.shape[0]\n",
    "#     n = np.sqrt(N)\n",
    "#     if not n == np.int(n):\n",
    "#         raise Exception('Error: Input array is not a square matrix!')\n",
    "#     n = int(n)\n",
    "#     arr = arr.reshape(n,n,arr.shape[-1], order='C')\n",
    "#     return arr"
   ]
  },
  {
   "cell_type": "code",
   "execution_count": null,
   "metadata": {
    "ExecuteTime": {
     "end_time": "2021-12-02T00:28:07.208685Z",
     "start_time": "2021-12-02T00:28:07.208674Z"
    },
    "hidden": true
   },
   "outputs": [],
   "source": [
    "# def _precision(arr):\n",
    "#     val = arr[0,0]\n",
    "#     return ( precision := len(str(val))-2 )\n",
    "# def _dtype(arr):\n",
    "#     val = arr[0,0]\n",
    "#     return ( dtype := type(val) )"
   ]
  },
  {
   "cell_type": "code",
   "execution_count": null,
   "metadata": {
    "ExecuteTime": {
     "end_time": "2021-12-02T00:28:07.209358Z",
     "start_time": "2021-12-02T00:28:07.209348Z"
    },
    "hidden": true
   },
   "outputs": [],
   "source": [
    "input_fn = search_for_file()"
   ]
  },
  {
   "cell_type": "code",
   "execution_count": null,
   "metadata": {
    "ExecuteTime": {
     "end_time": "2021-12-02T00:28:07.210161Z",
     "start_time": "2021-12-02T00:28:07.210150Z"
    },
    "hidden": true
   },
   "outputs": [],
   "source": [
    "#TODO: test that the input_fn is given as the absolute file path and fix it if it isn't\n",
    "base_folder = '/'+os.path.join(*input_fn.split('/')[:-2])#+'/ds_5_param_set_8/trajectories/'\n",
    "\n",
    "\n",
    "precision = _precision(arr)\n",
    "dtype = _dtype(arr)\n",
    "\n",
    "# val = arr[0,0]\n",
    "# arr = arr.astype(dtype = np.float16, casting='same_kind', order='F', copy=False)\n",
    "\n",
    "os.chdir(tmp_folder)\n",
    "tmp_fn = file_name+'.npz'\n",
    "# np.savez_compressed(tmp_fn,arr)\n",
    "# txt = load_buffer(tmp_fn)\n",
    "txt = arr\n",
    "\n",
    "# sub_id = 33\n",
    "# initial_condition_dir = nb_dir + f'/Data/initial-conditions/ic_200x200.101.{sub_id}.npz'\n",
    "tip_position_dir = tip_log_dir.replace('.csv','_processed.csv')\n",
    "save_folder_traj = '/'+os.path.join(*initial_condition_dir.split('/')[:-2])+'/ds_5_param_set_8/trajectories/'\n",
    "birth_death_dir = '/'.join(save_folder_traj.split('/')[:-2])+'/birth-death-rates'\n"
   ]
  },
  {
   "cell_type": "code",
   "execution_count": null,
   "metadata": {
    "ExecuteTime": {
     "end_time": "2021-12-02T00:28:07.210768Z",
     "start_time": "2021-12-02T00:28:07.210758Z"
    },
    "hidden": true
   },
   "outputs": [],
   "source": [
    "# def chunk_600x600_into_ninths(txt,file_name, save_folder):\n",
    "#     '''suppose file_name is a bare string with no extension such as \".npz\"\n",
    "#     suppose txt is a numpy array that is (600,600,The_Rest)\n",
    "#     '''\n",
    "#     os.chdir(save_folder)\n",
    "#     save_fn = file_name+'.11.npz'\n",
    "#     txt_out = txt[0:200,0:200]\n",
    "#     np.savez_compressed(save_fn,txt_out)\n",
    "\n",
    "#     save_fn = file_name+'.12.npz'\n",
    "#     txt_out = txt[200:400,0:200]\n",
    "#     np.savez_compressed(save_fn,txt_out)\n",
    "\n",
    "#     save_fn = file_name+'.13.npz'\n",
    "#     txt_out = txt[400:600,0:200]\n",
    "#     np.savez_compressed(save_fn,txt_out)\n",
    "\n",
    "#     save_fn = file_name+'.21.npz'\n",
    "#     txt_out = txt[0:200,200:400]\n",
    "#     np.savez_compressed(save_fn,txt_out)\n",
    "\n",
    "#     save_fn = file_name+'.22.npz'\n",
    "#     txt_out = txt[200:400,200:400]\n",
    "#     np.savez_compressed(save_fn,txt_out)\n",
    "\n",
    "#     save_fn = file_name+'.23.npz'\n",
    "#     txt_out = txt[400:600,200:400]\n",
    "#     np.savez_compressed(save_fn,txt_out)\n",
    "\n",
    "#     save_fn = file_name+'.31.npz'\n",
    "#     txt_out = txt[0:200,400:600]\n",
    "#     np.savez_compressed(save_fn,txt_out)\n",
    "\n",
    "#     save_fn = file_name+'.32.npz'\n",
    "#     txt_out = txt[200:400,400:600]\n",
    "#     np.savez_compressed(save_fn,txt_out)\n",
    "\n",
    "#     save_fn = file_name+'.33.npz'\n",
    "#     txt_out = txt[400:600,400:600]\n",
    "#     np.savez_compressed(save_fn,txt_out)\n",
    "#     return True"
   ]
  },
  {
   "cell_type": "markdown",
   "metadata": {
    "heading_collapsed": true,
    "hidden": true
   },
   "source": [
    "## functionally convert one of WJ's 600x600 ic_files into nine 200x200 ic_files\n",
    "each patch is 5cm x 5 cm<br>\n",
    "8.13.2020\n"
   ]
  },
  {
   "cell_type": "code",
   "execution_count": null,
   "metadata": {
    "ExecuteTime": {
     "end_time": "2020-08-13T20:31:03.753053Z",
     "start_time": "2020-08-13T20:31:03.730570Z"
    },
    "hidden": true
   },
   "outputs": [],
   "source": []
  },
  {
   "cell_type": "code",
   "execution_count": null,
   "metadata": {
    "ExecuteTime": {
     "end_time": "2021-12-02T00:28:07.211450Z",
     "start_time": "2021-12-02T00:28:07.211440Z"
    },
    "hidden": true
   },
   "outputs": [],
   "source": [
    "chunk_600x600_into_ninths(txt=arr,file_name=file_name.replace('600','200'), save_folder=save_folder)"
   ]
  },
  {
   "cell_type": "code",
   "execution_count": null,
   "metadata": {
    "ExecuteTime": {
     "end_time": "2021-12-02T00:28:07.212128Z",
     "start_time": "2021-12-02T00:28:07.212118Z"
    },
    "hidden": true
   },
   "outputs": [],
   "source": [
    "os.system('ls')"
   ]
  },
  {
   "cell_type": "code",
   "execution_count": null,
   "metadata": {
    "ExecuteTime": {
     "end_time": "2021-12-02T00:28:07.213033Z",
     "start_time": "2021-12-02T00:28:07.213022Z"
    },
    "hidden": true
   },
   "outputs": [],
   "source": [
    "#list all files in the cwd\n",
    "file_list = os.listdir()\n",
    "in_fn = file_list[0]"
   ]
  },
  {
   "cell_type": "code",
   "execution_count": null,
   "metadata": {
    "ExecuteTime": {
     "end_time": "2021-12-02T00:28:07.213744Z",
     "start_time": "2021-12-02T00:28:07.213734Z"
    },
    "hidden": true
   },
   "outputs": [],
   "source": [
    "#load a .npz file\n",
    "txt = load_buffer(in_fn)"
   ]
  },
  {
   "cell_type": "code",
   "execution_count": null,
   "metadata": {
    "ExecuteTime": {
     "end_time": "2021-12-02T00:28:07.214355Z",
     "start_time": "2021-12-02T00:28:07.214345Z"
    },
    "hidden": true
   },
   "outputs": [],
   "source": [
    "def parse_input_fn(input_fn):\n",
    "    '''file_name, input_folder, output_folder, tmp_folder = parse_input_fn(input_fn)\n",
    "    changes to input_folder in the local scope.'''\n",
    "    file_name     = input_fn.split('/')[-1]\n",
    "    input_folder  = '/'+os.path.join(*input_fn.split('/')[:-1])\n",
    "    os.chdir(input_folder)\n",
    "    if not os.path.isabs(input_folder):\n",
    "        input_folder = os.getcwd()\n",
    "    base_folder   = '/'+os.path.join(*input_folder.split('/')[:-1])\n",
    "    tmp_folder    = base_folder+'/ic-tmp'\n",
    "    output_folder = base_folder+'/ic-in'\n",
    "    return file_name, input_folder, output_folder, tmp_folder"
   ]
  },
  {
   "cell_type": "markdown",
   "metadata": {},
   "source": [
    "# Create Initial Conditions That Result in Spiral Defect Chaos for the Luo-Rudy model\n",
    "Tim Tyree<br>\n",
    "1.15.2021"
   ]
  },
  {
   "cell_type": "markdown",
   "metadata": {},
   "source": [
    "## initialize a 600x600 square computational domain with the correct number of channels and as repolarized excitable myocardial tissue"
   ]
  },
  {
   "cell_type": "code",
   "execution_count": 4,
   "metadata": {
    "ExecuteTime": {
     "end_time": "2022-03-24T23:15:03.680279Z",
     "start_time": "2022-03-24T23:15:03.659887Z"
    }
   },
   "outputs": [],
   "source": [
    "def get_blank_txt_LR(width,height,V_initial=-85.,Ca_i_initial = 2*10**-4):\n",
    "    zero_c2=np.zeros(shape=(width,height,2), dtype=np.float64, order='C')\n",
    "    zero_c6=np.zeros(shape=(width,height,6), dtype=np.float64, order='C')\n",
    "    #allocate memory to texture\n",
    "    inVc=zero_c2.copy()\n",
    "    inVc[...,0]+=V_initial\n",
    "    inVc[...,1]+=Ca_i_initial\n",
    "    outVc=inVc.copy()\n",
    "    inmhjdfx=zero_c6.copy()\n",
    "    #open the gates that are open at equilibrium at the resting potential (h, j, f)\n",
    "    inmhjdfx[...,1]=1.\n",
    "    inmhjdfx[...,2]=1.\n",
    "    inmhjdfx[...,4]=1.\n",
    "    outmhjdfx=inmhjdfx.copy()\n",
    "    dVcdt=zero_c2.copy()\n",
    "    txt=stack_txt(inVc,outVc,inmhjdfx,outmhjdfx,dVcdt)\n",
    "    return txt"
   ]
  },
  {
   "cell_type": "code",
   "execution_count": 5,
   "metadata": {
    "ExecuteTime": {
     "end_time": "2022-03-24T23:15:04.451737Z",
     "start_time": "2022-03-24T23:15:04.435005Z"
    }
   },
   "outputs": [],
   "source": [
    "\n",
    "#(not terribly useful) get the forward integrate kernel\n",
    "# forward_integrate_kernel= get_forward_integrate_kernel(nb_dir,dt,width,height,ds,diffCoef=0.001,Cm=1.)"
   ]
  },
  {
   "cell_type": "code",
   "execution_count": 7,
   "metadata": {
    "ExecuteTime": {
     "end_time": "2022-03-24T23:15:28.054287Z",
     "start_time": "2022-03-24T23:15:27.995289Z"
    }
   },
   "outputs": [],
   "source": [
    "from lib.controller.one_step_splitting_cuda_kernels import *"
   ]
  },
  {
   "cell_type": "code",
   "execution_count": 9,
   "metadata": {
    "ExecuteTime": {
     "end_time": "2022-03-24T23:15:39.618157Z",
     "start_time": "2022-03-24T23:15:38.675067Z"
    }
   },
   "outputs": [],
   "source": [
    "width=600\n",
    "height=600\n",
    "dt=0.025\n",
    "ds=15.0\n",
    "dt,one_step_map= get_one_step_map_w_Istim(nb_dir,dt)\n",
    "# dt,one_step_map=get_one_step_map(\n",
    "#     nb_dir,\n",
    "#     dt=0.1,\n",
    "#     width=width,height=height,ds=ds,\n",
    "#     diffCoef=0.001,dsdpixel=ds/width,\n",
    "#     Cm=1.0,\n",
    "# )\n",
    "txt= get_blank_txt_LR(width,height,V_initial=-85.,Ca_i_initial = 2*10**-4)\n"
   ]
  },
  {
   "cell_type": "markdown",
   "metadata": {},
   "source": [
    "### DONE: test - time step a number of times and verify that nothing happens"
   ]
  },
  {
   "cell_type": "code",
   "execution_count": 12,
   "metadata": {
    "ExecuteTime": {
     "end_time": "2022-03-24T23:16:17.677587Z",
     "start_time": "2022-03-24T23:16:17.604910Z"
    }
   },
   "outputs": [
    {
     "ename": "TypingError",
     "evalue": "Failed in nopython mode pipeline (step: nopython frontend)\n\u001b[1m\u001b[1m\u001b[1m\u001b[1mFailed in nopython mode pipeline (step: nopython frontend)\n\u001b[1m\u001b[1mNo implementation of function Function(<built-in function isub>) found for signature:\n \n >>> isub(float64, array(float64, 1d, C))\n \nThere are 10 candidate implementations:\n\u001b[1m   - Of which 8 did not match due to:\n   Overload of function 'isub': File: <numerous>: Line N/A.\n     With argument(s): '(float64, array(float64, 1d, C))':\u001b[0m\n\u001b[1m    No match.\u001b[0m\n\u001b[1m   - Of which 2 did not match due to:\n   Operator Overload in function 'isub': File: unknown: Line unknown.\n     With argument(s): '(float64, array(float64, 1d, C))':\u001b[0m\n\u001b[1m    No match for registered cases:\n     * (int64, int64) -> int64\n     * (int64, uint64) -> int64\n     * (uint64, int64) -> int64\n     * (uint64, uint64) -> uint64\n     * (float32, float32) -> float32\n     * (float64, float64) -> float64\n     * (complex64, complex64) -> complex64\n     * (complex128, complex128) -> complex128\u001b[0m\n\u001b[0m\n\u001b[0m\u001b[1mDuring: typing of intrinsic-call at /home/timothytyree/Documents/GitHub/care/notebooks/lib/controller/controller_LR.py (58)\u001b[0m\n\u001b[1m\nFile \"lib/controller/controller_LR.py\", line 58:\u001b[0m\n\u001b[1m    def one_step_explicit_synchronous_splitting_w_Istim(inVc,outVc,inmhjdfx,outmhjdfx,dVcdt,txt_Istim):\n        <source elided>\n                Istim = txt_Istim[x,y]\n\u001b[1m                dVcdt_val[0]-=Istim/Cm\n\u001b[0m                \u001b[1m^\u001b[0m\u001b[0m\n\n\u001b[0m\u001b[1mDuring: resolving callee type: type(CPUDispatcher(<function get_one_step_explicit_synchronous_splitting_w_Istim.<locals>.one_step_explicit_synchronous_splitting_w_Istim at 0x7f6f02e9c7a0>))\u001b[0m\n\u001b[0m\u001b[1mDuring: typing of call at /home/timothytyree/Documents/GitHub/care/notebooks/lib/controller/controller_LR.py (14)\n\u001b[0m\n\u001b[0m\u001b[1mDuring: resolving callee type: type(CPUDispatcher(<function get_one_step_explicit_synchronous_splitting_w_Istim.<locals>.one_step_explicit_synchronous_splitting_w_Istim at 0x7f6f02e9c7a0>))\u001b[0m\n\u001b[0m\u001b[1mDuring: typing of call at /home/timothytyree/Documents/GitHub/care/notebooks/lib/controller/controller_LR.py (14)\n\u001b[0m\n\u001b[1m\nFile \"lib/controller/controller_LR.py\", line 14:\u001b[0m\n\u001b[1m    def one_step_map_w_Istim(txt, txt_Istim):\n        <source elided>\n        #integrate by dt\n\u001b[1m        one_step_method(inVc,outVc,inmhjdfx,outmhjdfx,dVcdt,txt_Istim)\n\u001b[0m        \u001b[1m^\u001b[0m\u001b[0m\n",
     "output_type": "error",
     "traceback": [
      "\u001b[0;31m---------------------------------------------------------------------------\u001b[0m",
      "\u001b[0;31mTypingError\u001b[0m                               Traceback (most recent call last)",
      "\u001b[0;32m/tmp/ipykernel_586231/971109198.py\u001b[0m in \u001b[0;36m<module>\u001b[0;34m\u001b[0m\n\u001b[1;32m      2\u001b[0m \u001b[0mtxt_Istim_none\u001b[0m\u001b[0;34m=\u001b[0m\u001b[0mnp\u001b[0m\u001b[0;34m.\u001b[0m\u001b[0mzeros_like\u001b[0m\u001b[0;34m(\u001b[0m\u001b[0mtxt_prv\u001b[0m\u001b[0;34m)\u001b[0m\u001b[0;34m\u001b[0m\u001b[0;34m\u001b[0m\u001b[0m\n\u001b[1;32m      3\u001b[0m \u001b[0;32mfor\u001b[0m \u001b[0mn\u001b[0m \u001b[0;32min\u001b[0m \u001b[0mrange\u001b[0m\u001b[0;34m(\u001b[0m\u001b[0;36m50\u001b[0m\u001b[0;34m)\u001b[0m\u001b[0;34m:\u001b[0m\u001b[0;34m\u001b[0m\u001b[0;34m\u001b[0m\u001b[0m\n\u001b[0;32m----> 4\u001b[0;31m     \u001b[0mone_step_map\u001b[0m\u001b[0;34m(\u001b[0m\u001b[0mtxt\u001b[0m\u001b[0;34m,\u001b[0m\u001b[0mtxt_Istim_none\u001b[0m\u001b[0;34m)\u001b[0m\u001b[0;34m\u001b[0m\u001b[0;34m\u001b[0m\u001b[0m\n\u001b[0m\u001b[1;32m      5\u001b[0m \u001b[0mtxt_nxt\u001b[0m\u001b[0;34m=\u001b[0m\u001b[0mtxt\u001b[0m\u001b[0;34m.\u001b[0m\u001b[0mcopy\u001b[0m\u001b[0;34m(\u001b[0m\u001b[0;34m)\u001b[0m\u001b[0;34m\u001b[0m\u001b[0;34m\u001b[0m\u001b[0m\n",
      "\u001b[0;32m~/anaconda3/envs/pyenv_ub/lib/python3.7/site-packages/numba/core/dispatcher.py\u001b[0m in \u001b[0;36m_compile_for_args\u001b[0;34m(self, *args, **kws)\u001b[0m\n\u001b[1;32m    418\u001b[0m                 \u001b[0me\u001b[0m\u001b[0;34m.\u001b[0m\u001b[0mpatch_message\u001b[0m\u001b[0;34m(\u001b[0m\u001b[0mmsg\u001b[0m\u001b[0;34m)\u001b[0m\u001b[0;34m\u001b[0m\u001b[0;34m\u001b[0m\u001b[0m\n\u001b[1;32m    419\u001b[0m \u001b[0;34m\u001b[0m\u001b[0m\n\u001b[0;32m--> 420\u001b[0;31m             \u001b[0merror_rewrite\u001b[0m\u001b[0;34m(\u001b[0m\u001b[0me\u001b[0m\u001b[0;34m,\u001b[0m \u001b[0;34m'typing'\u001b[0m\u001b[0;34m)\u001b[0m\u001b[0;34m\u001b[0m\u001b[0;34m\u001b[0m\u001b[0m\n\u001b[0m\u001b[1;32m    421\u001b[0m         \u001b[0;32mexcept\u001b[0m \u001b[0merrors\u001b[0m\u001b[0;34m.\u001b[0m\u001b[0mUnsupportedError\u001b[0m \u001b[0;32mas\u001b[0m \u001b[0me\u001b[0m\u001b[0;34m:\u001b[0m\u001b[0;34m\u001b[0m\u001b[0;34m\u001b[0m\u001b[0m\n\u001b[1;32m    422\u001b[0m             \u001b[0;31m# Something unsupported is present in the user code, add help info\u001b[0m\u001b[0;34m\u001b[0m\u001b[0;34m\u001b[0m\u001b[0;34m\u001b[0m\u001b[0m\n",
      "\u001b[0;32m~/anaconda3/envs/pyenv_ub/lib/python3.7/site-packages/numba/core/dispatcher.py\u001b[0m in \u001b[0;36merror_rewrite\u001b[0;34m(e, issue_type)\u001b[0m\n\u001b[1;32m    359\u001b[0m                 \u001b[0;32mraise\u001b[0m \u001b[0me\u001b[0m\u001b[0;34m\u001b[0m\u001b[0;34m\u001b[0m\u001b[0m\n\u001b[1;32m    360\u001b[0m             \u001b[0;32melse\u001b[0m\u001b[0;34m:\u001b[0m\u001b[0;34m\u001b[0m\u001b[0;34m\u001b[0m\u001b[0m\n\u001b[0;32m--> 361\u001b[0;31m                 \u001b[0;32mraise\u001b[0m \u001b[0me\u001b[0m\u001b[0;34m.\u001b[0m\u001b[0mwith_traceback\u001b[0m\u001b[0;34m(\u001b[0m\u001b[0;32mNone\u001b[0m\u001b[0;34m)\u001b[0m\u001b[0;34m\u001b[0m\u001b[0;34m\u001b[0m\u001b[0m\n\u001b[0m\u001b[1;32m    362\u001b[0m \u001b[0;34m\u001b[0m\u001b[0m\n\u001b[1;32m    363\u001b[0m         \u001b[0margtypes\u001b[0m \u001b[0;34m=\u001b[0m \u001b[0;34m[\u001b[0m\u001b[0;34m]\u001b[0m\u001b[0;34m\u001b[0m\u001b[0;34m\u001b[0m\u001b[0m\n",
      "\u001b[0;31mTypingError\u001b[0m: Failed in nopython mode pipeline (step: nopython frontend)\n\u001b[1m\u001b[1m\u001b[1m\u001b[1mFailed in nopython mode pipeline (step: nopython frontend)\n\u001b[1m\u001b[1mNo implementation of function Function(<built-in function isub>) found for signature:\n \n >>> isub(float64, array(float64, 1d, C))\n \nThere are 10 candidate implementations:\n\u001b[1m   - Of which 8 did not match due to:\n   Overload of function 'isub': File: <numerous>: Line N/A.\n     With argument(s): '(float64, array(float64, 1d, C))':\u001b[0m\n\u001b[1m    No match.\u001b[0m\n\u001b[1m   - Of which 2 did not match due to:\n   Operator Overload in function 'isub': File: unknown: Line unknown.\n     With argument(s): '(float64, array(float64, 1d, C))':\u001b[0m\n\u001b[1m    No match for registered cases:\n     * (int64, int64) -> int64\n     * (int64, uint64) -> int64\n     * (uint64, int64) -> int64\n     * (uint64, uint64) -> uint64\n     * (float32, float32) -> float32\n     * (float64, float64) -> float64\n     * (complex64, complex64) -> complex64\n     * (complex128, complex128) -> complex128\u001b[0m\n\u001b[0m\n\u001b[0m\u001b[1mDuring: typing of intrinsic-call at /home/timothytyree/Documents/GitHub/care/notebooks/lib/controller/controller_LR.py (58)\u001b[0m\n\u001b[1m\nFile \"lib/controller/controller_LR.py\", line 58:\u001b[0m\n\u001b[1m    def one_step_explicit_synchronous_splitting_w_Istim(inVc,outVc,inmhjdfx,outmhjdfx,dVcdt,txt_Istim):\n        <source elided>\n                Istim = txt_Istim[x,y]\n\u001b[1m                dVcdt_val[0]-=Istim/Cm\n\u001b[0m                \u001b[1m^\u001b[0m\u001b[0m\n\n\u001b[0m\u001b[1mDuring: resolving callee type: type(CPUDispatcher(<function get_one_step_explicit_synchronous_splitting_w_Istim.<locals>.one_step_explicit_synchronous_splitting_w_Istim at 0x7f6f02e9c7a0>))\u001b[0m\n\u001b[0m\u001b[1mDuring: typing of call at /home/timothytyree/Documents/GitHub/care/notebooks/lib/controller/controller_LR.py (14)\n\u001b[0m\n\u001b[0m\u001b[1mDuring: resolving callee type: type(CPUDispatcher(<function get_one_step_explicit_synchronous_splitting_w_Istim.<locals>.one_step_explicit_synchronous_splitting_w_Istim at 0x7f6f02e9c7a0>))\u001b[0m\n\u001b[0m\u001b[1mDuring: typing of call at /home/timothytyree/Documents/GitHub/care/notebooks/lib/controller/controller_LR.py (14)\n\u001b[0m\n\u001b[1m\nFile \"lib/controller/controller_LR.py\", line 14:\u001b[0m\n\u001b[1m    def one_step_map_w_Istim(txt, txt_Istim):\n        <source elided>\n        #integrate by dt\n\u001b[1m        one_step_method(inVc,outVc,inmhjdfx,outmhjdfx,dVcdt,txt_Istim)\n\u001b[0m        \u001b[1m^\u001b[0m\u001b[0m\n"
     ]
    }
   ],
   "source": [
    "txt_prv=txt.copy().astype(np.float64)\n",
    "txt_Istim_none=np.zeros_like(txt_prv)\n",
    "for n in range(50):\n",
    "    one_step_map(txt,txt_Istim_none)\n",
    "txt_nxt=txt.copy()"
   ]
  },
  {
   "cell_type": "code",
   "execution_count": null,
   "metadata": {
    "ExecuteTime": {
     "end_time": "2021-12-02T00:28:07.217664Z",
     "start_time": "2021-12-02T00:28:07.217653Z"
    }
   },
   "outputs": [],
   "source": [
    "delta_txt=txt_nxt-txt_prv"
   ]
  },
  {
   "cell_type": "code",
   "execution_count": null,
   "metadata": {
    "ExecuteTime": {
     "end_time": "2021-12-02T00:28:07.218175Z",
     "start_time": "2021-12-02T00:28:07.218165Z"
    }
   },
   "outputs": [],
   "source": [
    "chnl=17\n",
    "img=delta_txt[...,chnl]\n",
    "plt.imshow(img,cmap='gray')\n",
    "plt.axis('off')\n",
    "plt.title(f'channel {chnl}',c='w',fontsize=22)\n",
    "plt.show()"
   ]
  },
  {
   "cell_type": "code",
   "execution_count": null,
   "metadata": {
    "ExecuteTime": {
     "end_time": "2021-12-02T00:28:07.218796Z",
     "start_time": "2021-12-02T00:28:07.218771Z"
    }
   },
   "outputs": [],
   "source": [
    "print('max absolute differences between input and output, by channel')\n",
    "for chnl in range(18):\n",
    "    img=delta_txt[...,chnl]\n",
    "    print(np.max(np.abs(img)))"
   ]
  },
  {
   "cell_type": "markdown",
   "metadata": {},
   "source": [
    "# define txt_Istim textures that give a line stimulus of constant electric flux\n"
   ]
  },
  {
   "cell_type": "code",
   "execution_count": null,
   "metadata": {
    "ExecuteTime": {
     "end_time": "2021-12-02T00:28:07.219633Z",
     "start_time": "2021-12-02T00:28:07.219623Z"
    }
   },
   "outputs": [],
   "source": [
    "chnlno=2+2+6+6+2\n",
    "# txt= get_blank_txt_LR(width,height,V_initial=-85.,Ca_i_initial = 2*10**-4)\n",
    "width=600;height=600\n",
    "zero_c2=np.zeros(shape=(width,height,2), dtype=np.float64, order='C')\n",
    "zero_c6=np.zeros(shape=(width,height,6), dtype=np.float64, order='C')\n",
    "print(f\"# of channels is {chnlno}.\")\n",
    "\n",
    "mag=-10\n",
    "txt_Istim=zero_c2[...,0].copy()\n",
    "txt_Istim[:,:5]=mag\n",
    "txt_Istim_left=txt_Istim.copy()\n",
    "\n",
    "mag=-10\n",
    "txt_Istim=zero_c2[...,0].copy()\n",
    "txt_Istim[300:305,:]=mag\n",
    "txt_Istim_top=txt_Istim.copy()\n",
    "\n",
    "txt_Istim_none=zero_c2[...,0].copy()"
   ]
  },
  {
   "cell_type": "code",
   "execution_count": null,
   "metadata": {
    "ExecuteTime": {
     "end_time": "2021-12-02T00:28:07.220379Z",
     "start_time": "2021-12-02T00:28:07.220369Z"
    }
   },
   "outputs": [],
   "source": [
    "#make initialization conditions for a semicircular stimulus on the left\n",
    "deg = 45\n",
    "x0 = 600/4\n",
    "y0 = 600/2\n",
    "mag=-10\n",
    "from lib.controller.draw import *\n",
    "\n",
    "txt_Istim=get_semicircle(zero_c2,deg,x0,y0)\n",
    "txt_Istim*=mag\n",
    "txt_Istim_semi=txt_Istim.copy()"
   ]
  },
  {
   "cell_type": "code",
   "execution_count": null,
   "metadata": {
    "ExecuteTime": {
     "end_time": "2021-12-02T00:28:07.221026Z",
     "start_time": "2021-12-02T00:28:07.221016Z"
    }
   },
   "outputs": [],
   "source": [
    "fig,axs=plt.subplots(ncols=3,figsize=(6,9))\n",
    "ax=axs[0]\n",
    "ax.imshow(-txt_Istim_left,cmap='gray')#,vmin=-10, vmax=15)\n",
    "ax.axis('off')\n",
    "ax=axs[1]\n",
    "ax.imshow(-txt_Istim_top,cmap='gray')#,vmin=-10, vmax=15)\n",
    "ax.axis('off')\n",
    "ax=axs[2]\n",
    "ax.imshow(-txt_Istim_semi,cmap='gray')#,vmin=-10, vmax=15)\n",
    "ax.axis('off')\n",
    "plt.show()"
   ]
  },
  {
   "cell_type": "markdown",
   "metadata": {},
   "source": [
    "# (ignore) dev CUDA"
   ]
  },
  {
   "cell_type": "markdown",
   "metadata": {
    "heading_collapsed": true
   },
   "source": [
    "## (working brainwarmer) compute the coordinate textures using numba.cuda.jit"
   ]
  },
  {
   "cell_type": "code",
   "execution_count": null,
   "metadata": {
    "ExecuteTime": {
     "end_time": "2021-12-02T00:28:07.221558Z",
     "start_time": "2021-12-02T00:28:07.221548Z"
    },
    "hidden": true
   },
   "outputs": [],
   "source": [
    "txt=get_blank_txt_LR(width,height,V_initial=-85.,Ca_i_initial = 2*10**-4)\n",
    "t=0.\n",
    "\n",
    "#test onestep methods\n",
    "kernelA(txt,txt_Istim_left)\n",
    "kernelB(txt,txt_Istim_left)"
   ]
  },
  {
   "cell_type": "code",
   "execution_count": null,
   "metadata": {
    "ExecuteTime": {
     "end_time": "2021-12-02T00:28:07.222394Z",
     "start_time": "2021-12-02T00:28:07.222383Z"
    },
    "hidden": true
   },
   "outputs": [],
   "source": [
    "import numba.cuda as cuda\n",
    "from lib.controller.one_step_splitting_cuda_kernels import *\n"
   ]
  },
  {
   "cell_type": "code",
   "execution_count": null,
   "metadata": {
    "ExecuteTime": {
     "end_time": "2021-12-02T00:28:07.223481Z",
     "start_time": "2021-12-02T00:28:07.223470Z"
    },
    "hidden": true
   },
   "outputs": [],
   "source": [
    "@cuda.jit('void(int32[:], int32[:], int32[:,:])')\n",
    "def foo(aryA, aryB,aryC):\n",
    "    for n,A in enumerate(aryA):\n",
    "        for m,B in enumerate(aryB):\n",
    "            aryC[n,m]=A+B\n",
    "\n",
    "griddim = 100, 2\n",
    "blockdim = 3, 3\n",
    "width=600\n",
    "height=600\n",
    "aryA=np.zeros(width,dtype=np.int32)\n",
    "aryB=np.arange(height)#np.zeros(height,dtype=np.float64)\n",
    "ndim=aryA.shape[0]\n",
    "mdim=aryB.shape[0]\n",
    "aryC=np.zeros(shape=(ndim,mdim),dtype=np.int32)\n",
    "\n",
    "foo[griddim, blockdim](aryA, aryB, aryC)\n",
    "xcoord=aryC.copy()\n",
    "foo[griddim, blockdim](aryB, aryA, aryC)\n",
    "ycoord=aryC.copy()\n",
    "\n",
    "\n",
    "\n",
    "# one_step_kernel=cuda.jit(one_step_map_w_Istim)"
   ]
  },
  {
   "cell_type": "code",
   "execution_count": null,
   "metadata": {
    "ExecuteTime": {
     "end_time": "2021-12-02T00:28:07.224183Z",
     "start_time": "2021-12-02T00:28:07.224173Z"
    },
    "hidden": true
   },
   "outputs": [],
   "source": [
    "foo[griddim, blockdim](aryB, aryA, aryC)\n"
   ]
  },
  {
   "cell_type": "code",
   "execution_count": null,
   "metadata": {
    "ExecuteTime": {
     "end_time": "2021-12-02T00:28:07.224922Z",
     "start_time": "2021-12-02T00:28:07.224913Z"
    },
    "hidden": true
   },
   "outputs": [],
   "source": [
    "bpg = 50\n",
    "tpb = 32\n",
    "n = bpg * tpb\n",
    "\n",
    "@cuda.jit('(float32[:,:], float32[:,:], float32[:,:])', target='gpu')\n",
    "def cu_square_matrix_mul(A, B, C):\n",
    "    sA = cuda.shared.array(shape=(tpb, tpb), dtype=float32)\n",
    "    sB = cuda.shared.array(shape=(tpb, tpb), dtype=float32)\n",
    "\n",
    "    tx = cuda.threadIdx.x\n",
    "    ty = cuda.threadIdx.y\n",
    "    bx = cuda.blockIdx.x\n",
    "    by = cuda.blockIdx.y\n",
    "    bw = cuda.blockDim.x\n",
    "    bh = cuda.blockDim.y\n",
    "\n",
    "    x = tx + bx * bw\n",
    "    y = ty + by * bh\n",
    "\n",
    "    acc = 0.\n",
    "    for i in range(bpg):\n",
    "        if x < n and y < n:\n",
    "            sA[ty, tx] = A[y, tx + i * tpb]\n",
    "            sB[ty, tx] = B[ty + i * tpb, x]\n",
    "\n",
    "        cuda.syncthreads()\n",
    "\n",
    "        if x < n and y < n:\n",
    "            for j in range(tpb):\n",
    "                acc += sA[ty, j] * sB[j, tx]\n",
    "\n",
    "        cuda.syncthreads()\n",
    "\n",
    "    if x < n and y < n:\n",
    "        C[y, x] = acc"
   ]
  },
  {
   "cell_type": "code",
   "execution_count": null,
   "metadata": {
    "ExecuteTime": {
     "end_time": "2021-12-02T00:28:07.225516Z",
     "start_time": "2021-12-02T00:28:07.225506Z"
    },
    "hidden": true
   },
   "outputs": [],
   "source": [
    "O=np.ones((4,4))\n",
    "out=O.copy()\n",
    "cu_square_matrix_mul(O, O, out)"
   ]
  },
  {
   "cell_type": "markdown",
   "metadata": {
    "heading_collapsed": true
   },
   "source": [
    "## use cuda.grid?\n",
    "source:\n",
    "\n",
    "https://towardsdatascience.com/better-parallelization-with-numba-3a41ca69452e"
   ]
  },
  {
   "cell_type": "code",
   "execution_count": null,
   "metadata": {
    "ExecuteTime": {
     "end_time": "2021-12-02T00:28:07.226440Z",
     "start_time": "2021-12-02T00:28:07.226430Z"
    },
    "hidden": true
   },
   "outputs": [],
   "source": [
    "@cuda.jit\n",
    "def get_nearby_kernel(coord1, coord2, max_dist, out):\n",
    "    start = cuda.grid(1)\n",
    "    stride = cuda.gridsize(1)\n",
    "    lat_filter = max_dist / 100\n",
    "    \n",
    "    for i in range(start, coord1.shape[0], stride):\n",
    "        ct = 0\n",
    "        _lat1 = coord1[i,0]\n",
    "        _lng1 = coord1[i,1]\n",
    "        \n",
    "        for j in range(coord2.shape[0]):\n",
    "            _lat2 = coord2[j,0]\n",
    "            _lng2 = coord2[j,1]\n",
    "            # escape condition if latitudes are too far apart\n",
    "            if math.fabs(_lat1 - _lat2) <= lat_filter:\n",
    "                dist = haversine_cuda(_lat1, _lng1, _lat2, _lng2)\n",
    "                if dist < max_dist:ct += 1\n",
    "                \n",
    "        out[i] = ct"
   ]
  },
  {
   "cell_type": "markdown",
   "metadata": {},
   "source": [
    "## (not working) wasted a horrid amount of time trying to GPU accelerate a working CPU kernel.  Idiot.\n",
    "test a new one_step_kernel that adds the input Istim to Iion\n",
    "- TODO(later): accelerate ^this with CUDA\n",
    "\n",
    "__update 9.27.2021... seriously stop trying to debug numba.cuda idiot...__  njiting the lookup table will always throw\n",
    "\n",
    "`\n",
    " LoweringError: Failed in nopython mode pipeline (step: nopython mode backend)\n",
    "\u001b[1m\u001b[1m'DeviceNDArray' object has no attribute 'tobytes'\n",
    "`"
   ]
  },
  {
   "cell_type": "code",
   "execution_count": null,
   "metadata": {
    "ExecuteTime": {
     "end_time": "2021-12-02T00:28:07.227036Z",
     "start_time": "2021-12-02T00:28:07.227026Z"
    }
   },
   "outputs": [],
   "source": [
    "import numba.cuda as cuda\n",
    "stream=cuda.stream()\n",
    "\n",
    "# from lib.controller.one_step_splitting_kernels import *\n",
    "# from numba import cuda\n",
    "print ( cuda.is_available() )\n",
    "print ( cuda.detect() )"
   ]
  },
  {
   "cell_type": "code",
   "execution_count": null,
   "metadata": {
    "ExecuteTime": {
     "end_time": "2021-12-02T00:28:07.227712Z",
     "start_time": "2021-12-02T00:28:07.227702Z"
    }
   },
   "outputs": [],
   "source": [
    "#initialize txt\n",
    "txt=get_blank_txt_LR(width,height,V_initial=-85.,Ca_i_initial = 2*10**-4)\n",
    "t=0."
   ]
  },
  {
   "cell_type": "code",
   "execution_count": null,
   "metadata": {
    "ExecuteTime": {
     "end_time": "2021-12-02T00:28:07.228301Z",
     "start_time": "2021-12-02T00:28:07.228292Z"
    }
   },
   "outputs": [],
   "source": [
    "# # multiple streams should have a common context\n",
    "# drv=cuda.driver.Driver()\n",
    "# drv.initialize()\n",
    "# handle=drv.pop_active_context()\n",
    "# stream=ctx.create_stream()"
   ]
  },
  {
   "cell_type": "code",
   "execution_count": null,
   "metadata": {
    "ExecuteTime": {
     "end_time": "2021-12-02T00:28:07.228933Z",
     "start_time": "2021-12-02T00:28:07.228923Z"
    }
   },
   "outputs": [],
   "source": [
    "d_txt=cuda.to_device(txt,stream=stream)\n",
    "d_txt_Istim_left=cuda.to_device(txt_Istim_left,stream=stream)\n",
    "griddim = 100, 3\n",
    "blockdim = 3, 3\n",
    "sharedmem=10*(d_txt.size+d_txt_Istim_left.size)\n"
   ]
  },
  {
   "cell_type": "code",
   "execution_count": null,
   "metadata": {
    "ExecuteTime": {
     "end_time": "2021-12-02T00:28:07.229561Z",
     "start_time": "2021-12-02T00:28:07.229551Z"
    }
   },
   "outputs": [],
   "source": [
    "from lib.controller.one_step_splitting_cuda_kernels import *\n",
    "from lib.controller.one_step_splitting_cuda_kernels import _get_lookup_params"
   ]
  },
  {
   "cell_type": "code",
   "execution_count": null,
   "metadata": {
    "ExecuteTime": {
     "end_time": "2021-12-02T00:28:07.230241Z",
     "start_time": "2021-12-02T00:28:07.230230Z"
    }
   },
   "outputs": [],
   "source": [
    "dt=0.01\n",
    "forward_integrate_kernel= get_forward_integrate_kernel(nb_dir,dt,width,height,ds,stream,diffCoef=0.001,Cm=1.)\n"
   ]
  },
  {
   "cell_type": "code",
   "execution_count": null,
   "metadata": {
    "ExecuteTime": {
     "end_time": "2021-12-02T00:28:07.230843Z",
     "start_time": "2021-12-02T00:28:07.230833Z"
    }
   },
   "outputs": [],
   "source": [
    "#TODO: debug the lookup table...\n",
    "#precompute lookup table\n",
    "arr39=get_arr39(dt,nb_dir)\n",
    "v_values=arr39[:,0]\n",
    "v0=np.min(v_values)\n",
    "dv=np.around(np.mean(np.diff(v_values)),1)\n",
    "lookup_params=_get_lookup_params(v_values,arr39,stream)"
   ]
  },
  {
   "cell_type": "code",
   "execution_count": null,
   "metadata": {
    "ExecuteTime": {
     "end_time": "2021-12-02T00:28:07.231815Z",
     "start_time": "2021-12-02T00:28:07.231805Z"
    }
   },
   "outputs": [],
   "source": [
    "# nsteps=1000\n",
    "# forward_integrate_kernel[griddim, blockdim, stream, sharedmem](d_txt,d_txt_Istim_left,nsteps)\n",
    "\n",
    "# retval=d_txt.to_host()\n",
    "# cuda.close()"
   ]
  },
  {
   "cell_type": "code",
   "execution_count": null,
   "metadata": {
    "ExecuteTime": {
     "end_time": "2021-12-02T00:28:07.232436Z",
     "start_time": "2021-12-02T00:28:07.232427Z"
    }
   },
   "outputs": [],
   "source": [
    "dt, kernelA, kernelB=get_one_step_explicit_synchronous_splitting_w_Istim_kernel(nb_dir,dt,width,height,ds,stream)"
   ]
  },
  {
   "cell_type": "code",
   "execution_count": null,
   "metadata": {
    "ExecuteTime": {
     "end_time": "2021-12-02T00:28:07.233101Z",
     "start_time": "2021-12-02T00:28:07.233090Z"
    }
   },
   "outputs": [],
   "source": [
    "# forward_integrate_kernel=get_forward_integrate_kernel(kernelA, kernelB, griddim = (3, 3), blockdim = (3, 3))\n",
    "# get_one_step_map_w_Istim(nb_dir,dt)"
   ]
  },
  {
   "cell_type": "code",
   "execution_count": null,
   "metadata": {
    "ExecuteTime": {
     "end_time": "2021-12-02T00:28:07.234076Z",
     "start_time": "2021-12-02T00:28:07.234066Z"
    },
    "run_control": {
     "marked": true
    }
   },
   "outputs": [],
   "source": [
    "# take 1000 time steps to 100ms\n",
    "num_steps=1000#000\n",
    "update_every=100\n",
    "step_count=0\n",
    "for n in range(num_steps):\n",
    "    \n",
    "#     kernelA[griddim, blockdim, stream, sharedmem](d_txt,d_txt_Istim_left)\n",
    "#     cuda.syncthreads()\n",
    "#     cuda.synchronize()\n",
    "\n",
    "#     kernelB[griddim, blockdim, stream, sharedmem](d_txt,d_txt_Istim_left)\n",
    "#     cuda.syncthreads()\n",
    "#     cuda.synchronize()\n",
    "\n",
    "    t+=dt\n",
    "    step_count+=1\n",
    "    if step_count%update_every==0:\n",
    "        printProgressBar(step_count,num_steps)\n",
    "print(f\"the final time is t = {t} ms.\")"
   ]
  },
  {
   "cell_type": "code",
   "execution_count": null,
   "metadata": {
    "ExecuteTime": {
     "end_time": "2021-12-02T00:28:07.234768Z",
     "start_time": "2021-12-02T00:28:07.234759Z"
    }
   },
   "outputs": [],
   "source": [
    "txt=d_txt.to_host()\n",
    "# txt\n"
   ]
  },
  {
   "cell_type": "code",
   "execution_count": null,
   "metadata": {
    "ExecuteTime": {
     "end_time": "2021-12-02T00:28:07.235479Z",
     "start_time": "2021-12-02T00:28:07.235469Z"
    }
   },
   "outputs": [],
   "source": [
    "# kernelB[griddim, blockdim](d_txt,d_txt_Istim_left)\n",
    "d_txt.to_host()"
   ]
  },
  {
   "cell_type": "code",
   "execution_count": null,
   "metadata": {
    "ExecuteTime": {
     "end_time": "2021-12-02T00:28:07.236122Z",
     "start_time": "2021-12-02T00:28:07.236112Z"
    }
   },
   "outputs": [],
   "source": [
    "# cuda.close()\n",
    "d_txt"
   ]
  },
  {
   "cell_type": "code",
   "execution_count": null,
   "metadata": {
    "ExecuteTime": {
     "end_time": "2021-01-16T10:30:41.737981Z",
     "start_time": "2021-01-16T10:30:41.692535Z"
    }
   },
   "outputs": [],
   "source": []
  },
  {
   "cell_type": "code",
   "execution_count": null,
   "metadata": {
    "ExecuteTime": {
     "end_time": "2021-12-02T00:28:07.236749Z",
     "start_time": "2021-12-02T00:28:07.236739Z"
    }
   },
   "outputs": [],
   "source": [
    "chnl=17\n",
    "img=txt[...,chnl]\n",
    "plt.imshow(img,cmap='gray')\n",
    "plt.axis('off')\n",
    "plt.title(f'channel {chnl}',c='w',fontsize=22)\n",
    "plt.show()"
   ]
  },
  {
   "cell_type": "code",
   "execution_count": null,
   "metadata": {
    "ExecuteTime": {
     "end_time": "2021-12-02T00:28:07.237404Z",
     "start_time": "2021-12-02T00:28:07.237395Z"
    }
   },
   "outputs": [],
   "source": [
    "# take 1000 time steps to 100ms\n",
    "numsteps=1000\n",
    "update_every=100\n",
    "step_count=0\n",
    "for n in range(numsteps):\n",
    "    kernelA(txt,txt_Istim_left)\n",
    "    kernelB(txt,txt_Istim_left)\n",
    "    t+=dt\n",
    "    step_count+=1\n",
    "    if step_count%update_every==0:\n",
    "        printProgressBar(step_count,num_steps)"
   ]
  },
  {
   "cell_type": "code",
   "execution_count": null,
   "metadata": {
    "ExecuteTime": {
     "end_time": "2021-12-02T00:28:07.238068Z",
     "start_time": "2021-12-02T00:28:07.238058Z"
    }
   },
   "outputs": [],
   "source": [
    "# txt[0,0,:18].shape\n",
    "dt, kernelA, kernelB=get_one_step_explicit_synchronous_splitting_w_Istim_kernel(nb_dir,dt,width,height,ds,stream)"
   ]
  },
  {
   "cell_type": "code",
   "execution_count": null,
   "metadata": {
    "ExecuteTime": {
     "end_time": "2021-12-02T00:28:07.238644Z",
     "start_time": "2021-12-02T00:28:07.238635Z"
    }
   },
   "outputs": [],
   "source": [
    "# @cuda.jit('void(float64[:,:,:], float64[:,:])')\n",
    "# def one_step_kernel(txt,txt_Istim_left):\n",
    "#     kernelA(txt,txt_Istim_left)\n",
    "#     kernelB(txt,txt_Istim_left)\n",
    "get_one_step_explicit_synchronous_splitting_w_Istim_kernel"
   ]
  },
  {
   "cell_type": "code",
   "execution_count": null,
   "metadata": {
    "ExecuteTime": {
     "end_time": "2021-12-02T00:28:07.239461Z",
     "start_time": "2021-12-02T00:28:07.239451Z"
    }
   },
   "outputs": [],
   "source": [
    "# #take 1000 time steps to 100ms, stimulating onthe left\n",
    "# tf=100\n",
    "# num_steps=int(tf/dt)\n",
    "# t+=dt*num_steps\n",
    "# forward_integrate_kernel(txt,txt_Istim_left,num_steps)\n",
    "# beep(3)\n",
    "# t+=dt*num_steps"
   ]
  },
  {
   "cell_type": "markdown",
   "metadata": {},
   "source": [
    "# (success!) Generate a stable spiral wave using cross-stimulation for the LR model"
   ]
  },
  {
   "cell_type": "code",
   "execution_count": null,
   "metadata": {
    "ExecuteTime": {
     "end_time": "2021-12-02T00:28:07.240105Z",
     "start_time": "2021-12-02T00:28:07.240096Z"
    }
   },
   "outputs": [],
   "source": [
    "ic_folder=f\"{nb_dir}/Data/initial-conditions-suite-3-LR\"\n",
    "if not os.path.exists(ic_folder):\n",
    "    os.mkdir(ic_folder)"
   ]
  },
  {
   "cell_type": "code",
   "execution_count": null,
   "metadata": {
    "ExecuteTime": {
     "end_time": "2021-12-02T00:28:07.240673Z",
     "start_time": "2021-12-02T00:28:07.240663Z"
    }
   },
   "outputs": [],
   "source": [
    "width=600 #width of domain in pixels\n",
    "height=600 #height of domain in pixels\n",
    "ds=15.0 #width of domain in centimeters\n",
    "\n",
    "#initialize txt\n",
    "# V_initial=-85.\n",
    "# Ca_i_initial = 2*10**-4\n",
    "txt=get_blank_txt_LR(width,height,V_initial=-84.66,Ca_i_initial = 1.45E-007)\n",
    "t=0.\n",
    "\n",
    "#get time steps\n",
    "from lib.model.LR_model_optimized_w_Istim import *\n",
    "#get the onestep kernels\n",
    "dt, kernelA, kernelB=get_one_step_explicit_synchronous_splitting_w_Istim_kernel(nb_dir,dt,width,height,ds)"
   ]
  },
  {
   "cell_type": "code",
   "execution_count": null,
   "metadata": {
    "ExecuteTime": {
     "end_time": "2021-12-02T00:28:07.241309Z",
     "start_time": "2021-12-02T00:28:07.241300Z"
    }
   },
   "outputs": [],
   "source": [
    "#stimulate on the left\n",
    "tf=10.\n",
    "num_steps=int(tf/dt)\n",
    "txt_Istim=txt_Istim_left.copy()\n",
    "update_every=10\n",
    "step_count=0\n",
    "for n in range(num_steps):\n",
    "    kernelA(txt,txt_Istim)\n",
    "    kernelB(txt,txt_Istim)\n",
    "    t+=dt\n",
    "    step_count+=1\n",
    "    if step_count%update_every==0:\n",
    "        printProgressBar(step_count,num_steps)\n",
    "txt_a1=txt.copy()\n",
    "print(f\"\\nthe final time is t = {t:.1f} ms.\\n\")\n",
    "# beep(1)"
   ]
  },
  {
   "cell_type": "code",
   "execution_count": null,
   "metadata": {
    "ExecuteTime": {
     "end_time": "2021-12-02T00:28:07.242310Z",
     "start_time": "2021-12-02T00:28:07.242293Z"
    }
   },
   "outputs": [],
   "source": [
    "#Visualize the buffer (plain)\n",
    "chnl=0\n",
    "print(np.max(txt[...,0]))\n",
    "img=txt_a1[...,chnl]\n",
    "plt.imshow(img,cmap='gray',vmin=-80, vmax=15)\n",
    "plt.axis('off')\n",
    "plt.title(f'channel {chnl}, time {t:.1f}\\n',c='k',fontsize=22)#c='w',fontsize=22)\n",
    "plt.show()"
   ]
  },
  {
   "cell_type": "code",
   "execution_count": null,
   "metadata": {
    "ExecuteTime": {
     "end_time": "2021-12-02T00:28:07.243190Z",
     "start_time": "2021-12-02T00:28:07.243174Z"
    }
   },
   "outputs": [],
   "source": [
    "#integrate without stimulation\n",
    "# txt=txt_a.copy()\n",
    "tf=200\n",
    "num_steps=int((tf-t)/dt)\n",
    "txt_Istim=txt_Istim_none.copy()\n",
    "update_every=10\n",
    "step_count=0\n",
    "for n in range(num_steps):\n",
    "    kernelA(txt,txt_Istim)\n",
    "    kernelB(txt,txt_Istim)\n",
    "    step_count+=1\n",
    "    if step_count%update_every==0:\n",
    "        t+=dt*update_every\n",
    "        printProgressBar(step_count,num_steps)\n",
    "txt_a2=txt.copy()\n",
    "print(f\"\\nthe final time is t = {t:.1f} ms.\\n\")\n",
    "# beep(1)"
   ]
  },
  {
   "cell_type": "code",
   "execution_count": null,
   "metadata": {
    "ExecuteTime": {
     "end_time": "2021-12-02T00:28:07.244136Z",
     "start_time": "2021-12-02T00:28:07.244120Z"
    },
    "scrolled": true
   },
   "outputs": [],
   "source": [
    "#Visualize the buffer (plain)\n",
    "chnl=0\n",
    "print(np.max(txt[...,0]))\n",
    "ta2=t#110\n",
    "img=txt[...,chnl]\n",
    "plt.imshow(img,cmap='gray',vmin=-80, vmax=15)\n",
    "plt.axis('off')\n",
    "plt.title(f'channel {chnl}, time {ta2:.1f}\\n',c='k',fontsize=22)#c='w',fontsize=22)\n",
    "plt.show()"
   ]
  },
  {
   "cell_type": "code",
   "execution_count": null,
   "metadata": {
    "ExecuteTime": {
     "end_time": "2021-12-02T00:28:07.245140Z",
     "start_time": "2021-12-02T00:28:07.245123Z"
    }
   },
   "outputs": [],
   "source": [
    "#save texture at this time t\n",
    "save=True\n",
    "if save:\n",
    "#     txt=stack_txt(inVc,outVc,inmhjdfx,outmhjdfx,dVcdt)\n",
    "    save_img_fn=f\"{nb_dir}/Data/initial-conditions-suite-3-LR/txt_a2.npz\"\n",
    "    #     img_out=txt#np.stack([img,dimgdt]).T\n",
    "    np.savez_compressed(save_img_fn,[txt])"
   ]
  },
  {
   "cell_type": "code",
   "execution_count": null,
   "metadata": {
    "ExecuteTime": {
     "end_time": "2021-12-02T00:28:07.246423Z",
     "start_time": "2021-12-02T00:28:07.246407Z"
    }
   },
   "outputs": [],
   "source": [
    "#load the buffer loaded\n",
    "t=200.\n",
    "img_fn=f'{nb_dir}/Data/initial-conditions-suite-3-LR/txt_a2.npz'\n",
    "txt=load_buffer(img_fn)[0]\n",
    "txt.shape"
   ]
  },
  {
   "cell_type": "code",
   "execution_count": null,
   "metadata": {
    "ExecuteTime": {
     "end_time": "2021-12-02T00:28:07.247350Z",
     "start_time": "2021-12-02T00:28:07.247334Z"
    }
   },
   "outputs": [],
   "source": [
    "#Visualize the buffer (plain)\n",
    "chnl=1\n",
    "print(np.max(txt[...,0]))\n",
    "ta2=t#110\n",
    "img=txt[...,chnl]\n",
    "if chnl==0:\n",
    "    plt.imshow(img,cmap='gray',vmin=-10, vmax=15)\n",
    "else:\n",
    "    plt.imshow(img,cmap='gray')\n",
    "plt.axis('off')\n",
    "plt.title(f'channel {chnl}, time {ta2:.1f}\\n',c='k',fontsize=22)#c='w',fontsize=22)\n",
    "plt.show()\n"
   ]
  },
  {
   "cell_type": "code",
   "execution_count": null,
   "metadata": {
    "ExecuteTime": {
     "end_time": "2021-12-02T00:28:07.248451Z",
     "start_time": "2021-12-02T00:28:07.248434Z"
    }
   },
   "outputs": [],
   "source": [
    "dt"
   ]
  },
  {
   "cell_type": "code",
   "execution_count": null,
   "metadata": {
    "ExecuteTime": {
     "end_time": "2021-12-02T00:28:07.249373Z",
     "start_time": "2021-12-02T00:28:07.249357Z"
    }
   },
   "outputs": [],
   "source": [
    "#integrate without stimulation\n",
    "# t=130\n",
    "# txt=txt_a2.copy()\n",
    "tf=75#150\n",
    "num_steps=int((tf)/dt)\n",
    "txt_Istim=txt_Istim_none.copy()\n",
    "update_every=1\n",
    "step_count=0\n",
    "for n in range(num_steps):\n",
    "    kernelA(txt,txt_Istim)\n",
    "    kernelB(txt,txt_Istim)\n",
    "    step_count+=1\n",
    "    if step_count%update_every==0:\n",
    "        t+=dt*update_every\n",
    "#         printProgressBar(step_count,num_steps)\n",
    "txt_a3=txt.copy()\n",
    "print(f\"\\nthe final time is t = {t:.1f} ms.\\n\")\n",
    "# beep(1)\n"
   ]
  },
  {
   "cell_type": "code",
   "execution_count": null,
   "metadata": {
    "ExecuteTime": {
     "end_time": "2021-12-02T00:28:07.250371Z",
     "start_time": "2021-12-02T00:28:07.250353Z"
    }
   },
   "outputs": [],
   "source": [
    "#Visualize the buffer (plain)\n",
    "chnl=0\n",
    "print(np.max(txt[...,0]))\n",
    "ta3=t#110\n",
    "img=txt[...,chnl]\n",
    "if chnl==0:\n",
    "    plt.imshow(img,cmap='gray',vmin=-80, vmax=15)\n",
    "else:\n",
    "    plt.imshow(img,cmap='gray')\n",
    "plt.axis('off')\n",
    "plt.title(f'channel {chnl}, time {ta3:.1f}\\n',c='k',fontsize=22)#c='w',fontsize=22)\n",
    "plt.show()"
   ]
  },
  {
   "cell_type": "code",
   "execution_count": null,
   "metadata": {
    "ExecuteTime": {
     "end_time": "2021-12-02T00:28:07.251359Z",
     "start_time": "2021-12-02T00:28:07.251342Z"
    }
   },
   "outputs": [],
   "source": [
    "# #define the top stimulation width (wag) and magnitude (mag)\n",
    "# mag=-10#1.77#-10#-3.\n",
    "# wag=5\n",
    "# zero_c2=np.zeros(shape=(width,height,2), dtype=np.float64, order='C')\n",
    "# txt_Istim=zero_c2[...,0].copy()\n",
    "# txt_Istim[300:300+wag,:300]=mag\n",
    "# txt_Istim_top=txt_Istim.copy()"
   ]
  },
  {
   "cell_type": "code",
   "execution_count": null,
   "metadata": {
    "ExecuteTime": {
     "end_time": "2021-12-02T00:28:07.252295Z",
     "start_time": "2021-12-02T00:28:07.252278Z"
    }
   },
   "outputs": [],
   "source": [
    "dt=0.01\n",
    "dt, kernelA, kernelB=get_one_step_explicit_synchronous_splitting_w_Istim_kernel(nb_dir,dt,width,height,ds)"
   ]
  },
  {
   "cell_type": "code",
   "execution_count": null,
   "metadata": {
    "ExecuteTime": {
     "end_time": "2021-12-02T00:28:07.253069Z",
     "start_time": "2021-12-02T00:28:07.253053Z"
    }
   },
   "outputs": [],
   "source": [
    "#take 1000 time steps to 100ms, stimulating on the with a semicircle #top/horizontally\n",
    "tf=10#.100#10\n",
    "# t=130\n",
    "# txt=txt_a3.copy()\n",
    "# txt=txt_a2.copy()\n",
    "num_steps=int(tf/dt)\n",
    "# txt_Istim=txt_Istim_semi/copy()#txt_Istim_top.copy()\n",
    "txt_Istim=txt_Istim_top.copy()\n",
    "update_every=100\n",
    "step_count=0\n",
    "for n in range(num_steps):\n",
    "    kernelA(txt,txt_Istim)\n",
    "    kernelB(txt,txt_Istim)\n",
    "#     step_count+=1\n",
    "#     if step_count%update_every==0:\n",
    "t+=dt*num_steps#update_every\n",
    "#         printProgressBar(step_count,num_steps)\n",
    "print(f\"\\nthe final time is t = {t:.1f} ms.\")\n",
    "txt_b=txt.copy()\n",
    "# beep(1)"
   ]
  },
  {
   "cell_type": "code",
   "execution_count": null,
   "metadata": {
    "ExecuteTime": {
     "end_time": "2021-12-02T00:28:07.254396Z",
     "start_time": "2021-12-02T00:28:07.254378Z"
    }
   },
   "outputs": [],
   "source": [
    "#Visualize the buffer (plain)\n",
    "chnl=0\n",
    "print(np.max(txt[...,0]))\n",
    "img=txt_b[...,chnl]\n",
    "plt.imshow(img,cmap='gray',vmin=-80, vmax=15)\n",
    "plt.axis('off')\n",
    "plt.title(f'channel {chnl}, time {t:.1f}\\n',c='k',fontsize=22)#c='w',fontsize=22)\n",
    "plt.show()"
   ]
  },
  {
   "cell_type": "code",
   "execution_count": null,
   "metadata": {
    "ExecuteTime": {
     "end_time": "2021-12-02T00:28:07.255357Z",
     "start_time": "2021-12-02T00:28:07.255340Z"
    }
   },
   "outputs": [],
   "source": [
    "dt=0.1\n",
    "dt, kernelA, kernelB=get_one_step_explicit_synchronous_splitting_w_Istim_kernel(nb_dir,dt,width,height,ds)"
   ]
  },
  {
   "cell_type": "code",
   "execution_count": null,
   "metadata": {
    "ExecuteTime": {
     "end_time": "2021-12-02T00:28:07.256244Z",
     "start_time": "2021-12-02T00:28:07.256228Z"
    }
   },
   "outputs": [],
   "source": [
    "beep(7)"
   ]
  },
  {
   "cell_type": "code",
   "execution_count": null,
   "metadata": {
    "ExecuteTime": {
     "end_time": "2021-12-02T00:28:07.257390Z",
     "start_time": "2021-12-02T00:28:07.257373Z"
    }
   },
   "outputs": [],
   "source": [
    "#take 10000 time steps forward 1 sec without stimulation\n",
    "tf=1000\n",
    "# t=170\n",
    "txt=txt_b.copy()\n",
    "num_steps=int((tf)/dt)\n",
    "txt_Istim=txt_Istim_none.copy()\n",
    "update_every=100\n",
    "step_count=0\n",
    "for n in range(num_steps):\n",
    "    kernelA(txt,txt_Istim)\n",
    "    kernelB(txt,txt_Istim)\n",
    "    step_count+=1\n",
    "    if step_count%update_every==0:\n",
    "#         t+=dt*update_every\n",
    "        #compute dict_out\n",
    "        printProgressBar(step_count,num_steps)\n",
    "t+=dt*num_steps#update_every\n",
    "print(f\"\\nthe final time is t = {t} ms.\")\n",
    "beep(1)"
   ]
  },
  {
   "cell_type": "code",
   "execution_count": null,
   "metadata": {
    "ExecuteTime": {
     "end_time": "2021-12-02T00:28:07.258319Z",
     "start_time": "2021-12-02T00:28:07.258302Z"
    }
   },
   "outputs": [],
   "source": [
    "#10s after second shock, at time t=12 seconds\n",
    "txt_1=txt.copy()\n",
    "t"
   ]
  },
  {
   "cell_type": "code",
   "execution_count": null,
   "metadata": {
    "ExecuteTime": {
     "end_time": "2021-12-02T00:28:07.259236Z",
     "start_time": "2021-12-02T00:28:07.259219Z"
    }
   },
   "outputs": [],
   "source": [
    "#Visualize the buffer (plain)\n",
    "chnl=0\n",
    "print(t)\n",
    "img=txt_1[...,chnl]\n",
    "plt.imshow(img,cmap='gray',vmin=-80, vmax=15)\n",
    "plt.axis('off')\n",
    "plt.title(f'channel {chnl}, time {t:.1f}\\n',c='k',fontsize=22)#c='w',fontsize=22)\n",
    "plt.show()"
   ]
  },
  {
   "cell_type": "code",
   "execution_count": null,
   "metadata": {
    "ExecuteTime": {
     "end_time": "2021-12-02T00:28:07.260215Z",
     "start_time": "2021-12-02T00:28:07.260198Z"
    }
   },
   "outputs": [],
   "source": [
    "#save texture at this time t\n",
    "save=False\n",
    "if save:\n",
    "#     txt=stack_txt(inVc,outVc,inmhjdfx,outmhjdfx,dVcdt)\n",
    "    save_img_fn=f\"{nb_dir}/Data/initial-conditions-suite-3-LR/txt_1.npz\"\n",
    "    #     img_out=txt#np.stack([img,dimgdt]).T\n",
    "    np.savez_compressed(save_img_fn,[txt])"
   ]
  },
  {
   "cell_type": "code",
   "execution_count": null,
   "metadata": {
    "ExecuteTime": {
     "end_time": "2021-12-02T00:28:07.261366Z",
     "start_time": "2021-12-02T00:28:07.261350Z"
    }
   },
   "outputs": [],
   "source": [
    "#load the buffer loaded\n",
    "t=385.\n",
    "img_fn=f'{nb_dir}/Data/initial-conditions-suite-3-LR/txt_1.npz'\n",
    "txt=load_buffer(img_fn)[0]\n",
    "txt.shape"
   ]
  },
  {
   "cell_type": "code",
   "execution_count": null,
   "metadata": {
    "ExecuteTime": {
     "end_time": "2021-12-02T00:28:07.262301Z",
     "start_time": "2021-12-02T00:28:07.262284Z"
    }
   },
   "outputs": [],
   "source": [
    "#take 10000 time steps forward 1 sec without stimulation\n",
    "tf=1000\n",
    "# txt=txt_b.copy()\n",
    "num_steps=int(tf/dt)\n",
    "txt_Istim=txt_Istim_none.copy()\n",
    "update_every=100\n",
    "step_count=0\n",
    "for n in range(num_steps):\n",
    "    kernelA(txt,txt_Istim)\n",
    "    kernelB(txt,txt_Istim)\n",
    "    step_count+=1\n",
    "#     if step_count%update_every==0:\n",
    "#         t+=dt*update_every\n",
    "#         compute dict_out\n",
    "#         printProgressBar(step_count,num_steps)\n",
    "t+=dt*num_steps#update_every\n",
    "print(f\"\\nthe final time is t = {t} ms.\")\n",
    "beep(1)"
   ]
  },
  {
   "cell_type": "code",
   "execution_count": null,
   "metadata": {
    "ExecuteTime": {
     "end_time": "2021-12-02T00:28:07.263401Z",
     "start_time": "2021-12-02T00:28:07.263384Z"
    }
   },
   "outputs": [],
   "source": [
    "#Visualize the buffer (plain)\n",
    "chnl=0\n",
    "print(np.max(txt[...,0]))\n",
    "img=txt[...,chnl]\n",
    "plt.imshow(img,cmap='gray',vmin=-80, vmax=15)\n",
    "plt.axis('off')\n",
    "plt.title(f'channel {chnl}, time {t:.1f}\\n',c='k',fontsize=22)#c='w',fontsize=22)\n",
    "plt.show()"
   ]
  },
  {
   "cell_type": "code",
   "execution_count": null,
   "metadata": {
    "ExecuteTime": {
     "end_time": "2021-12-02T00:28:07.264215Z",
     "start_time": "2021-12-02T00:28:07.264198Z"
    }
   },
   "outputs": [],
   "source": [
    "#save texture at this time t\n",
    "save=True\n",
    "if save:\n",
    "#     txt=stack_txt(inVc,outVc,inmhjdfx,outmhjdfx,dVcdt)\n",
    "    save_img_fn=f\"{nb_dir}/Data/initial-conditions-suite-3-LR/ic600x600_tt/ic001.npz\"\n",
    "    #     img_out=txt#np.stack([img,dimgdt]).T\n",
    "    np.savez_compressed(save_img_fn,[txt])"
   ]
  },
  {
   "cell_type": "code",
   "execution_count": null,
   "metadata": {
    "ExecuteTime": {
     "end_time": "2021-12-02T00:28:07.265295Z",
     "start_time": "2021-12-02T00:28:07.265278Z"
    }
   },
   "outputs": [],
   "source": [
    "beep(10)"
   ]
  },
  {
   "cell_type": "code",
   "execution_count": null,
   "metadata": {
    "ExecuteTime": {
     "end_time": "2021-12-02T00:28:07.266308Z",
     "start_time": "2021-12-02T00:28:07.266292Z"
    }
   },
   "outputs": [],
   "source": [
    "#take 10000 time steps forward 1 sec without stimulation\n",
    "tf=2000\n",
    "# txt=txt_b.copy()\n",
    "num_steps=int((tf-t)/dt)\n",
    "txt_Istim=txt_Istim_none.copy()\n",
    "update_every=50\n",
    "step_count=0\n",
    "for n in range(num_steps):\n",
    "    kernelA(txt,txt_Istim)\n",
    "    kernelB(txt,txt_Istim)\n",
    "    step_count+=1\n",
    "#     if step_count%update_every==0:\n",
    "#         t+=dt*update_every\n",
    "#         compute dict_out\n",
    "#         printProgressBar(step_count,num_steps)\n",
    "t+=dt*num_steps#update_every\n",
    "print(f\"\\nthe final time is t = {t} ms.\")\n",
    "beep(10)"
   ]
  },
  {
   "cell_type": "code",
   "execution_count": null,
   "metadata": {
    "ExecuteTime": {
     "end_time": "2021-12-02T00:28:07.267399Z",
     "start_time": "2021-12-02T00:28:07.267368Z"
    }
   },
   "outputs": [],
   "source": [
    "#Visualize the buffer (plain)\n",
    "chnl=0\n",
    "print(np.max(txt[...,0]))\n",
    "img=txt[...,chnl]\n",
    "plt.imshow(img,cmap='gray',vmin=-80, vmax=15)\n",
    "plt.axis('off')\n",
    "plt.title(f'channel {chnl}, time {t:.1f}\\n',c='k',fontsize=22)#c='w',fontsize=22)\n",
    "plt.show()"
   ]
  },
  {
   "cell_type": "code",
   "execution_count": null,
   "metadata": {
    "ExecuteTime": {
     "end_time": "2021-12-02T00:28:07.268277Z",
     "start_time": "2021-12-02T00:28:07.268261Z"
    }
   },
   "outputs": [],
   "source": [
    "#save texture at this time t\n",
    "save=True\n",
    "if save:\n",
    "#     txt=stack_txt(inVc,outVc,inmhjdfx,outmhjdfx,dVcdt)\n",
    "    save_img_fn=f\"{nb_dir}/Data/initial-conditions-suite-3-LR/ic600x600_tt/ic001.npz\"\n",
    "    #     img_out=txt#np.stack([img,dimgdt]).T\n",
    "    np.savez_compressed(save_img_fn,[txt])"
   ]
  },
  {
   "cell_type": "markdown",
   "metadata": {
    "heading_collapsed": true
   },
   "source": [
    "# observe apparent spiral tips"
   ]
  },
  {
   "cell_type": "markdown",
   "metadata": {
    "hidden": true
   },
   "source": [
    "### Show all spiral tips present\n"
   ]
  },
  {
   "cell_type": "code",
   "execution_count": null,
   "metadata": {
    "ExecuteTime": {
     "end_time": "2021-12-02T00:28:07.269332Z",
     "start_time": "2021-12-02T00:28:07.269315Z"
    },
    "hidden": true
   },
   "outputs": [],
   "source": [
    "one_step"
   ]
  },
  {
   "cell_type": "code",
   "execution_count": null,
   "metadata": {
    "ExecuteTime": {
     "end_time": "2021-12-02T00:28:07.270391Z",
     "start_time": "2021-12-02T00:28:07.270374Z"
    },
    "hidden": true
   },
   "outputs": [],
   "source": [
    "#compute all spiral tips present\n",
    "V_threshold=25.#mV\n",
    "level1=V_threshold\n",
    "# theta_threshold=0.\n",
    "level2=0.\n",
    "#take the first step\n",
    "one_step(inVc,outVc,inmhjdfx,outmhjdfx,dVcdt)\n",
    "t+=dt\n",
    "img=inVc[...,0]\n",
    "dimgdt=dVcdt[...,0]\n",
    "width=200;height=200\n",
    "dict_out=compute_all_spiral_tips(t,img,dimgdt,level1,level2,width=width,height=height)\n",
    "dict_out_instantaneous=dict_out\n",
    "print(np.max(inVc[...,0]))"
   ]
  },
  {
   "cell_type": "code",
   "execution_count": null,
   "metadata": {
    "ExecuteTime": {
     "end_time": "2021-12-02T00:28:07.271368Z",
     "start_time": "2021-12-02T00:28:07.271351Z"
    },
    "hidden": true
   },
   "outputs": [],
   "source": [
    "x_values=np.array(dict_out['x'])\n",
    "y_values=np.array(dict_out['y'])\n",
    "c_values=np.array(dict_out['v'])\n",
    "print(f\"{dict_out['n']} tips are present at time t={int(t)}.\")\n",
    "fig = ShowDomain(img,dimgdt,x_values,y_values,c_values,V_threshold,t,inch=6,fontsize=16,vmin_img=-85.,vmax_img=35.,\n",
    "                 area=25,frameno=1,save_fn=None,save_folder=None,save=False,annotating=False,axis=[0,200,0,200])\n",
    "plt.show(fig)"
   ]
  },
  {
   "cell_type": "code",
   "execution_count": null,
   "metadata": {
    "ExecuteTime": {
     "end_time": "2021-12-02T00:28:07.272224Z",
     "start_time": "2021-12-02T00:28:07.272208Z"
    },
    "hidden": true
   },
   "outputs": [],
   "source": [
    "#save texture at this time t\n",
    "save=False\n",
    "if save:\n",
    "#     txt=stack_txt(inVc,outVc,inmhjdfx,outmhjdfx,dVcdt)\n",
    "    save_img_fn=f\"{nb_dir}/Data/test_data/test_txt_LR_euler_t_{int(t)}.npz\"\n",
    "    #     img_out=txt#np.stack([img,dimgdt]).T\n",
    "    np.savez_compressed(save_img_fn,[txt])"
   ]
  },
  {
   "cell_type": "code",
   "execution_count": null,
   "metadata": {
    "hidden": true
   },
   "outputs": [],
   "source": []
  },
  {
   "cell_type": "markdown",
   "metadata": {
    "heading_collapsed": true,
    "hidden": true
   },
   "source": [
    "### generate some spiral tips"
   ]
  },
  {
   "cell_type": "code",
   "execution_count": null,
   "metadata": {
    "ExecuteTime": {
     "end_time": "2021-12-02T00:28:07.273076Z",
     "start_time": "2021-12-02T00:28:07.273060Z"
    },
    "hidden": true
   },
   "outputs": [],
   "source": [
    "dt, arr39, one_step_method = get_one_step_explicit_synchronous_splitting(nb_dir,dt)\n",
    "print(get_one_step_explicit_synchronous_splitting)"
   ]
  },
  {
   "cell_type": "code",
   "execution_count": null,
   "metadata": {
    "ExecuteTime": {
     "end_time": "2021-12-02T00:28:07.274091Z",
     "start_time": "2021-12-02T00:28:07.274075Z"
    },
    "hidden": true
   },
   "outputs": [],
   "source": [
    "#forward euler explicit synchronous integration\n",
    "tf=1000.\n",
    "tmax=tf\n",
    "save_every_n_frames=10.\n",
    "V_threshold=25.#mV0.#-37.#mV\n",
    "level1=V_threshold; level2=0.\n",
    "num_steps=int(tf/dt)\n",
    "step_count=0\n",
    "n_tips_lst=[];t_lst=[];dict_out_lst=[]\n",
    "save_dict_every=100\n",
    "n_tips=1\n",
    "while (t<tmax) & (n_tips > 0):\n",
    "    if step_count%save_every_n_frames != 0:\n",
    "        #forward Euler integration in time\n",
    "        txt=one_step_map(txt)\n",
    "    else:   \n",
    "\n",
    "        #compute tip locations in dict_out\n",
    "        #update texture namespace\n",
    "        inVc,outVc,inmhjdfx,outmhjdfx,dVcdt=unstack_txt(txt)\n",
    "        txt=stack_txt(inVc,outVc,inmhjdfx,outmhjdfx,dVcdt)\n",
    "        img=inVc[...,0]\n",
    "        dimgdt=dVcdt[...,0]\n",
    "        dict_out=compute_all_spiral_tips(t,img,dimgdt,level1,level2)#,width=width,height=height)\n",
    "\n",
    "        #save tip data\n",
    "        n_tips=dict_out['n']\n",
    "        n_tips_lst.append(n_tips)\n",
    "        t_lst.append(t)\n",
    "        #         if count%save_dict_every==0:\n",
    "        dict_out_lst.append(dict_out)\n",
    "    \n",
    "        #integrate by dt\n",
    "        txt=one_step_map(txt)\n",
    "    t+=dt\n",
    "    step_count+=1\n",
    "    printProgressBar(step_count,num_steps)\n",
    "    if n_tips==0:\n",
    "        print(f\"zero tips remaining at time t={t}!\")\n",
    "        break\n",
    "beep(3)"
   ]
  },
  {
   "cell_type": "markdown",
   "metadata": {
    "heading_collapsed": true,
    "hidden": true
   },
   "source": [
    "## scratchwerk"
   ]
  },
  {
   "cell_type": "markdown",
   "metadata": {
    "heading_collapsed": true,
    "hidden": true
   },
   "source": [
    "### TODO(later maybe): apply the dormand-prince one_step method.  \n",
    "- how does it's runtime compare?\n",
    "- how does the quality of results compare?\n",
    "- note: the time step is already 0.1 ms, and the one_step is at least second order accurate."
   ]
  },
  {
   "cell_type": "markdown",
   "metadata": {
    "heading_collapsed": true,
    "hidden": true
   },
   "source": [
    "### Scrum 1.20.2021"
   ]
  },
  {
   "cell_type": "markdown",
   "metadata": {
    "ExecuteTime": {
     "end_time": "2021-01-20T18:37:47.822248Z",
     "start_time": "2021-01-20T18:37:47.782889Z"
    },
    "hidden": true
   },
   "source": [
    "DONE generate spiral waves for the LR model\n",
    "- DONE 6: carefully compare pbc implemented in LR model to FK model.\n",
    "- (ignore) further options\n",
    "    - option 1: scrutinize why my AP looks slightly different from WJ's (might be floating point arith. error... maybe\n",
    "        - try arr39.astype(np.float32) and comparing\n",
    "    - __option 3: modify my verified pycuda kernel for the FK model to use Iion from the LR model.__\n",
    "    - option 4: try using forward euler method instead of the fancy splitting method\n",
    "    - option 5: try using a 9 point stencil\n",
    "- TODO: Try a semicircle stimulus at the repolarized zone"
   ]
  },
  {
   "cell_type": "markdown",
   "metadata": {
    "heading_collapsed": true
   },
   "source": [
    "# Tile ic001 9 times, stimulate it randomly, run it for awhile, and save for later chunking\n",
    "1.20.2021"
   ]
  },
  {
   "cell_type": "code",
   "execution_count": null,
   "metadata": {
    "ExecuteTime": {
     "end_time": "2021-12-02T00:28:07.275078Z",
     "start_time": "2021-12-02T00:28:07.275063Z"
    },
    "hidden": true
   },
   "outputs": [],
   "source": [
    "from lib.controller.draw import *\n",
    "from lib.model.LR_model_optimized_w_Istim import *\n",
    "\n",
    "from lib.my_initialization import *\n",
    "from lib.controller.controller_LR import get_one_step_explicit_synchronous_splitting\n",
    "from lib.model.LR_model import *\n",
    "from lib.utils.utils_traj import *\n",
    "from lib.routines.bdrates import *\n",
    "from lib.measure.utils_measure_tips_cpu import *\n",
    "from lib.utils.stack_txt_LR import *\n",
    "from lib.viewer import *\n",
    "import trackpy\n",
    "import random\n",
    "%autocall 1\n",
    "%load_ext autoreload\n",
    "%autoreload 2"
   ]
  },
  {
   "cell_type": "code",
   "execution_count": null,
   "metadata": {
    "ExecuteTime": {
     "end_time": "2021-12-02T00:28:07.276183Z",
     "start_time": "2021-12-02T00:28:07.276167Z"
    },
    "hidden": true
   },
   "outputs": [],
   "source": [
    "#load the buffer loaded\n",
    "t=0.\n",
    "img_fn=f'{nb_dir}/Data/initial-conditions-suite-3-LR/ic600x600_tt/ic001.npz'\n",
    "txt_in=load_buffer(img_fn)[0]\n",
    "txt=np.tile(txt_in,(3,3,1))\n",
    "txt.shape"
   ]
  },
  {
   "cell_type": "code",
   "execution_count": null,
   "metadata": {
    "ExecuteTime": {
     "end_time": "2021-01-21T03:41:52.728966Z",
     "start_time": "2021-01-21T03:41:52.695295Z"
    },
    "hidden": true
   },
   "outputs": [],
   "source": []
  },
  {
   "cell_type": "code",
   "execution_count": null,
   "metadata": {
    "ExecuteTime": {
     "end_time": "2021-01-21T03:38:15.711106Z",
     "start_time": "2021-01-21T03:38:15.663010Z"
    },
    "hidden": true
   },
   "outputs": [],
   "source": []
  },
  {
   "cell_type": "code",
   "execution_count": null,
   "metadata": {
    "ExecuteTime": {
     "end_time": "2021-12-02T00:28:07.277359Z",
     "start_time": "2021-12-02T00:28:07.277322Z"
    },
    "hidden": true
   },
   "outputs": [],
   "source": [
    "#make null stimulus\n",
    "width,height,chnlno=txt.shape\n",
    "zero_c2=np.zeros(shape=(width,height,2), dtype=np.float64, order='C')\n",
    "txt_Istim_none=zero_c2[...,0].copy()\n",
    "\n",
    "#randomly place semicircular stimuli\n",
    "random.seed(100)\n",
    "num_semi=7\n",
    "mag=-10\n",
    "\n",
    "txt_Istim=txt_Istim_none.copy()\n",
    "for n in range(num_semi):\n",
    "    x0=random.uniform(0,1)*width\n",
    "    y0=random.uniform(0,1)*height\n",
    "    deg=random.uniform(0,1)*360\n",
    "    txt_Istim+=get_semicircle(txt,deg,x0,y0)\n",
    "\n",
    "txt_Istim*=mag\n",
    "txt_Istim_semi=txt_Istim.copy()"
   ]
  },
  {
   "cell_type": "code",
   "execution_count": null,
   "metadata": {
    "ExecuteTime": {
     "end_time": "2021-12-02T00:28:07.278200Z",
     "start_time": "2021-12-02T00:28:07.278184Z"
    },
    "hidden": true
   },
   "outputs": [],
   "source": [
    "#Visualize the buffer (plain)\n",
    "chnl=0\n",
    "# print(np.max(txt[...,0]))\n",
    "img=txt_Istim_semi#txt[...,chnl]\n",
    "plt.imshow(img,cmap='gray')#,vmin=-80, vmax=15)\n",
    "plt.axis('off')\n",
    "# plt.title(f'channel {chnl}, time {t:.1f}\\n',c='k',fontsize=22)#c='w',fontsize=22)\n",
    "plt.show()"
   ]
  },
  {
   "cell_type": "code",
   "execution_count": null,
   "metadata": {
    "ExecuteTime": {
     "end_time": "2021-12-02T00:28:07.279201Z",
     "start_time": "2021-12-02T00:28:07.279185Z"
    },
    "hidden": true
   },
   "outputs": [],
   "source": [
    "#get the onestep kernels\n",
    "ds=45.;dt=0.1\n",
    "dt, kernelA, kernelB=get_one_step_explicit_synchronous_splitting_w_Istim_kernel(nb_dir,dt,width,height,ds)"
   ]
  },
  {
   "cell_type": "code",
   "execution_count": null,
   "metadata": {
    "ExecuteTime": {
     "end_time": "2021-12-02T00:28:07.280328Z",
     "start_time": "2021-12-02T00:28:07.280301Z"
    },
    "hidden": true
   },
   "outputs": [],
   "source": [
    "#semicircular stimulation\n",
    "tf=10\n",
    "# txt=txt_b.copy()\n",
    "num_steps=int((tf)/dt)\n",
    "txt_Istim=txt_Istim_semi.copy()\n",
    "update_every=100\n",
    "step_count=0\n",
    "for n in range(num_steps):\n",
    "    kernelA(txt,txt_Istim)\n",
    "    kernelB(txt,txt_Istim)\n",
    "    step_count+=1\n",
    "    if step_count%update_every==0:\n",
    "#         t+=dt*update_every\n",
    "#         compute dict_out\n",
    "        printProgressBar(step_count,num_steps)\n",
    "t+=dt*num_steps#update_every\n",
    "print(f\"\\nthe final time is t = {t} ms.\")\n",
    "beep(10)"
   ]
  },
  {
   "cell_type": "code",
   "execution_count": null,
   "metadata": {
    "ExecuteTime": {
     "end_time": "2021-12-02T00:28:07.281008Z",
     "start_time": "2021-12-02T00:28:07.280998Z"
    },
    "hidden": true
   },
   "outputs": [],
   "source": [
    "#Visualize the buffer (plain)\n",
    "chnl=0\n",
    "print(np.max(txt[...,0]))\n",
    "img=txt[...,(0,-2,1)].copy()#chnl]#0,1,V,Ca_i,INa,IK\n",
    "mn=np.min(img[...,0]);mx=np.max(img[...,0])\n",
    "img[...,0]=(img[...,0]-mn)/(mx-mn)\n",
    "# mn=np.min(img[...,1]);mx=np.max(img[...,1])\n",
    "# img[...,1]=(img[...,1]-mn)/(mx-mn)\n",
    "mn=np.min(img[...,2]);mx=np.max(img[...,2])\n",
    "img[...,2]=(img[...,2]-mn)/(mx-mn)\n",
    "plt.subplots(figsize=(9,9))\n",
    "plt.imshow(img)#,cmap='gray',vmin=-80, vmax=15)\n",
    "plt.axis('off')\n",
    "# plt.title(f'channel {chnl}, time {t:.1f}\\n',c='k',fontsize=22)#c='w',fontsize=22)\n",
    "plt.show()"
   ]
  },
  {
   "cell_type": "code",
   "execution_count": null,
   "metadata": {
    "ExecuteTime": {
     "end_time": "2021-12-02T00:28:07.282034Z",
     "start_time": "2021-12-02T00:28:07.282023Z"
    },
    "hidden": true
   },
   "outputs": [],
   "source": [
    "200*0.04\n"
   ]
  },
  {
   "cell_type": "code",
   "execution_count": null,
   "metadata": {
    "ExecuteTime": {
     "end_time": "2021-12-02T00:28:07.282618Z",
     "start_time": "2021-12-02T00:28:07.282609Z"
    },
    "hidden": true
   },
   "outputs": [],
   "source": [
    "#take 10000 time steps forward 1 sec without stimulation\n",
    "tf=400\n",
    "# txt=txt_b.copy()\n",
    "num_steps=int((tf-t)/dt)\n",
    "txt_Istim=txt_Istim_none.copy()\n",
    "update_every=100\n",
    "step_count=0\n",
    "for n in range(num_steps):\n",
    "    kernelA(txt,txt_Istim)\n",
    "    kernelB(txt,txt_Istim)\n",
    "    step_count+=1\n",
    "    if step_count%update_every==0:\n",
    "#         t+=dt*update_every\n",
    "#         compute dict_out\n",
    "        printProgressBar(step_count,num_steps)\n",
    "t+=dt*num_steps#update_every\n",
    "print(f\"\\nthe number of steps taken is step_count = {step_count}.\")\n",
    "# beep(10)\n",
    "dt"
   ]
  },
  {
   "cell_type": "code",
   "execution_count": null,
   "metadata": {
    "ExecuteTime": {
     "end_time": "2021-12-02T00:28:07.283526Z",
     "start_time": "2021-12-02T00:28:07.283510Z"
    },
    "hidden": true
   },
   "outputs": [],
   "source": [
    "#Visualize the buffer (plain)\n",
    "chnl=0\n",
    "print(np.max(txt[...,0]))\n",
    "img=txt[...,(0,-2,1)].copy()#chnl]#0,1,V,Ca_i,INa,IK\n",
    "mn=np.min(img[...,0]);mx=np.max(img[...,0])\n",
    "img[...,0]=(img[...,0]-mn)/(mx-mn)\n",
    "# mn=np.min(img[...,1]);mx=np.max(img[...,1])\n",
    "# img[...,1]=(img[...,1]-mn)/(mx-mn)\n",
    "mn=np.min(img[...,2]);mx=np.max(img[...,2])\n",
    "img[...,2]=(img[...,2]-mn)/(mx-mn)\n",
    "plt.subplots(figsize=(9,9))\n",
    "plt.imshow(img)#,cmap='gray',vmin=-80, vmax=15)\n",
    "plt.axis('off')\n",
    "# plt.title(f'channel {chnl}, time {t:.1f}\\n',c='k',fontsize=22)#c='w',fontsize=22)\n",
    "plt.show()"
   ]
  },
  {
   "cell_type": "code",
   "execution_count": null,
   "metadata": {
    "ExecuteTime": {
     "end_time": "2021-12-02T00:28:07.284142Z",
     "start_time": "2021-12-02T00:28:07.284133Z"
    },
    "hidden": true
   },
   "outputs": [],
   "source": [
    "#save texture at this time t\n",
    "save=True\n",
    "if save:\n",
    "#     txt=stack_txt(inVc,outVc,inmhjdfx,outmhjdfx,dVcdt)\n",
    "    save_img_fn=f\"{nb_dir}/Data/initial-conditions-suite-3-LR/ic1800x1800_t_{t:.0f}.npz\"\n",
    "    #     img_out=txt#np.stack([img,dimgdt]).T\n",
    "    np.savez_compressed(save_img_fn,[txt])"
   ]
  },
  {
   "cell_type": "code",
   "execution_count": null,
   "metadata": {
    "ExecuteTime": {
     "end_time": "2021-12-02T00:28:07.284989Z",
     "start_time": "2021-12-02T00:28:07.284979Z"
    },
    "hidden": true
   },
   "outputs": [],
   "source": [
    "#make null stimulus\n",
    "width,height,chnlno=txt.shape\n",
    "zero_c2=np.zeros(shape=(width,height,2), dtype=np.float64, order='C')\n",
    "txt_Istim_none=zero_c2[...,0].copy()\n",
    "\n",
    "#randomly place semicircular stimulus\n",
    "random.seed(108)#101)#104)#\n",
    "num_semi=7\n",
    "mag=-10\n",
    "\n",
    "txt_Istim=txt_Istim_none.copy()\n",
    "for n in range(num_semi):\n",
    "    x0=random.uniform(0,1)*width\n",
    "    y0=random.uniform(0,1)*height\n",
    "    deg=random.uniform(0,1)*360\n",
    "    txt_Istim+=get_semicircle(txt,deg,x0,y0)\n",
    "\n",
    "txt_Istim*=mag\n",
    "txt_Istim_semi=txt_Istim.copy()\n",
    "# #Visualize the buffer (plain)\n",
    "# chnl=0\n",
    "# # print(np.max(txt[...,0]))\n",
    "# img=txt_Istim_semi#txt[...,chnl]\n",
    "# plt.imshow(img,cmap='gray')#,vmin=-80, vmax=15)\n",
    "# plt.axis('off')\n",
    "# # plt.title(f'channel {chnl}, time {t:.1f}\\n',c='k',fontsize=22)#c='w',fontsize=22)\n",
    "# plt.show()"
   ]
  },
  {
   "cell_type": "code",
   "execution_count": null,
   "metadata": {
    "ExecuteTime": {
     "end_time": "2021-12-02T00:28:07.285618Z",
     "start_time": "2021-12-02T00:28:07.285608Z"
    },
    "hidden": true
   },
   "outputs": [],
   "source": [
    "#semicircular stimulation\n",
    "tf=10\n",
    "# txt=txt_b.copy()\n",
    "num_steps=int((tf)/dt)\n",
    "txt_Istim=txt_Istim_semi.copy()\n",
    "update_every=100\n",
    "step_count=0\n",
    "for n in range(num_steps):\n",
    "    kernelA(txt,txt_Istim)\n",
    "    kernelB(txt,txt_Istim)\n",
    "    step_count+=1\n",
    "    if step_count%update_every==0:\n",
    "#         t+=dt*update_every\n",
    "#         compute dict_out\n",
    "        printProgressBar(step_count,num_steps)\n",
    "t+=dt*num_steps#update_every\n",
    "print(f\"\\nthe final time is t = {t} ms.\")\n",
    "# beep(10)"
   ]
  },
  {
   "cell_type": "code",
   "execution_count": null,
   "metadata": {
    "ExecuteTime": {
     "end_time": "2021-12-02T00:28:07.286600Z",
     "start_time": "2021-12-02T00:28:07.286589Z"
    },
    "hidden": true
   },
   "outputs": [],
   "source": [
    "#Visualize the buffer (plain)\n",
    "print(np.max(txt[...,0]))\n",
    "img=txt[...,(0,-2,1)].copy()#chnl]#0,1,V,Ca_i,INa,IK\n",
    "mn=np.min(img[...,0]);mx=np.max(img[...,0])\n",
    "img[...,0]=(img[...,0]-mn)/(mx-mn)\n",
    "# mn=np.min(img[...,1]);mx=np.max(img[...,1])\n",
    "# img[...,1]=(img[...,1]-mn)/(mx-mn)\n",
    "mn=np.min(img[...,2]);mx=np.max(img[...,2])\n",
    "img[...,2]=(img[...,2]-mn)/(mx-mn)\n",
    "plt.subplots(figsize=(9,9))\n",
    "plt.imshow(img)#,cmap='gray',vmin=-80, vmax=15)\n",
    "plt.axis('off')\n",
    "# plt.title(f'channel {chnl}, time {t:.1f}\\n',c='k',fontsize=22)#c='w',fontsize=22)\n",
    "plt.show()"
   ]
  },
  {
   "cell_type": "code",
   "execution_count": null,
   "metadata": {
    "ExecuteTime": {
     "end_time": "2021-12-02T00:28:07.287325Z",
     "start_time": "2021-12-02T00:28:07.287314Z"
    },
    "hidden": true
   },
   "outputs": [],
   "source": [
    "#take 10000 time steps forward 1 sec without stimulation\n",
    "tf=800\n",
    "# txt=txt_b.copy()\n",
    "num_steps=int((tf)/dt)\n",
    "txt_Istim=txt_Istim_none.copy()\n",
    "update_every=100\n",
    "step_count=0\n",
    "for n in range(num_steps):\n",
    "    kernelA(txt,txt_Istim)\n",
    "    kernelB(txt,txt_Istim)\n",
    "    step_count+=1\n",
    "    if step_count%update_every==0:\n",
    "#         t+=dt*update_every\n",
    "#         compute dict_out\n",
    "        printProgressBar(step_count,num_steps)\n",
    "t+=dt*num_steps#update_every\n",
    "print(f\"\\nthe number of steps taken is step_count = {step_count}.\")\n",
    "# beep(10)\n",
    "dt"
   ]
  },
  {
   "cell_type": "code",
   "execution_count": null,
   "metadata": {
    "ExecuteTime": {
     "end_time": "2021-12-02T00:28:07.288396Z",
     "start_time": "2021-12-02T00:28:07.288385Z"
    },
    "hidden": true
   },
   "outputs": [],
   "source": [
    "#save texture at this time t\n",
    "save=True\n",
    "if save:\n",
    "#     txt=stack_txt(inVc,outVc,inmhjdfx,outmhjdfx,dVcdt)\n",
    "    save_img_fn=f\"{nb_dir}/Data/initial-conditions-suite-3-LR/ic1800x1800_t_{t:.0f}.npz\"\n",
    "    #     img_out=txt#np.stack([img,dimgdt]).T\n",
    "    np.savez_compressed(save_img_fn,[txt])"
   ]
  },
  {
   "cell_type": "code",
   "execution_count": null,
   "metadata": {
    "ExecuteTime": {
     "end_time": "2021-12-02T00:28:07.288880Z",
     "start_time": "2021-12-02T00:28:07.288871Z"
    },
    "hidden": true
   },
   "outputs": [],
   "source": [
    "#Visualize the buffer (plain)\n",
    "print(np.max(txt[...,0]))\n",
    "img=txt[...,(0,-2,1)].copy()#chnl]#0,1,V,Ca_i,INa,IK\n",
    "mn=np.min(img[...,0]);mx=np.max(img[...,0])\n",
    "img[...,0]=(img[...,0]-mn)/(mx-mn)\n",
    "# mn=np.min(img[...,1]);mx=np.max(img[...,1])\n",
    "# img[...,1]=(img[...,1]-mn)/(mx-mn)\n",
    "mn=np.min(img[...,2]);mx=np.max(img[...,2])\n",
    "img[...,2]=(img[...,2]-mn)/(mx-mn)\n",
    "plt.subplots(figsize=(9,9))\n",
    "plt.imshow(img)#,cmap='gray',vmin=-80, vmax=15)\n",
    "plt.axis('off')\n",
    "# plt.title(f'channel {chnl}, time {t:.1f}\\n',c='k',fontsize=22)#c='w',fontsize=22)\n",
    "plt.show()"
   ]
  },
  {
   "cell_type": "code",
   "execution_count": null,
   "metadata": {
    "ExecuteTime": {
     "end_time": "2021-12-02T00:28:07.289711Z",
     "start_time": "2021-12-02T00:28:07.289701Z"
    },
    "hidden": true
   },
   "outputs": [],
   "source": [
    "#make null stimulus\n",
    "width,height,chnlno=txt.shape\n",
    "zero_c2=np.zeros(shape=(width,height,2), dtype=np.float64, order='C')\n",
    "txt_Istim_none=zero_c2[...,0].copy()\n",
    "\n",
    "#randomly place semicircular stimulus\n",
    "random.seed(104)#108)#101)#\n",
    "num_semi=7\n",
    "mag=-10\n",
    "\n",
    "txt_Istim=txt_Istim_none.copy()\n",
    "for n in range(num_semi):\n",
    "    x0=random.uniform(0,1)*width\n",
    "    y0=random.uniform(0,1)*height\n",
    "    deg=random.uniform(0,1)*360\n",
    "    txt_Istim+=get_semicircle(txt,deg,x0,y0)\n",
    "txt_Istim*=mag\n",
    "txt_Istim_semi=txt_Istim.copy()\n",
    "# #Visualize the buffer (plain)\n",
    "# chnl=0\n",
    "# # print(np.max(txt[...,0]))\n",
    "# img=txt_Istim_semi#txt[...,chnl]\n",
    "# plt.imshow(img,cmap='gray')#,vmin=-80, vmax=15)\n",
    "# plt.axis('off')\n",
    "# # plt.title(f'channel {chnl}, time {t:.1f}\\n',c='k',fontsize=22)#c='w',fontsize=22)\n",
    "# plt.show()"
   ]
  },
  {
   "cell_type": "code",
   "execution_count": null,
   "metadata": {
    "ExecuteTime": {
     "end_time": "2021-12-02T00:28:07.290443Z",
     "start_time": "2021-12-02T00:28:07.290433Z"
    },
    "hidden": true
   },
   "outputs": [],
   "source": [
    "#semicircular stimulation\n",
    "tf=10\n",
    "# txt=txt_b.copy()\n",
    "num_steps=int((tf)/dt)\n",
    "txt_Istim=txt_Istim_semi.copy()\n",
    "update_every=100\n",
    "step_count=0\n",
    "for n in range(num_steps):\n",
    "    kernelA(txt,txt_Istim)\n",
    "    kernelB(txt,txt_Istim)\n",
    "    step_count+=1\n",
    "    if step_count%update_every==0:\n",
    "#         t+=dt*update_every\n",
    "#         compute dict_out\n",
    "        printProgressBar(step_count,num_steps)\n",
    "t+=dt*num_steps#update_every\n",
    "print(f\"\\nthe final time is t = {t} ms.\")\n",
    "# beep(10)"
   ]
  },
  {
   "cell_type": "code",
   "execution_count": null,
   "metadata": {
    "ExecuteTime": {
     "end_time": "2021-12-02T00:28:07.291334Z",
     "start_time": "2021-12-02T00:28:07.291324Z"
    },
    "hidden": true
   },
   "outputs": [],
   "source": [
    "#Visualize the buffer (plain)\n",
    "print(np.max(txt[...,0]))\n",
    "img=txt[...,(0,-2,1)].copy()#chnl]#0,1,V,Ca_i,INa,IK\n",
    "mn=np.min(img[...,0]);mx=np.max(img[...,0])\n",
    "img[...,0]=(img[...,0]-mn)/(mx-mn)\n",
    "# mn=np.min(img[...,1]);mx=np.max(img[...,1])\n",
    "# img[...,1]=(img[...,1]-mn)/(mx-mn)\n",
    "mn=np.min(img[...,2]);mx=np.max(img[...,2])\n",
    "img[...,2]=(img[...,2]-mn)/(mx-mn)\n",
    "plt.subplots(figsize=(9,9))\n",
    "plt.imshow(img)#,cmap='gray',vmin=-80, vmax=15)\n",
    "plt.axis('off')\n",
    "# plt.title(f'channel {chnl}, time {t:.1f}\\n',c='k',fontsize=22)#c='w',fontsize=22)\n",
    "plt.show()"
   ]
  },
  {
   "cell_type": "code",
   "execution_count": null,
   "metadata": {
    "ExecuteTime": {
     "end_time": "2021-12-02T00:28:07.292040Z",
     "start_time": "2021-12-02T00:28:07.292030Z"
    },
    "hidden": true
   },
   "outputs": [],
   "source": [
    "#take 10000 time steps forward 1 sec without stimulation\n",
    "tf=800\n",
    "# txt=txt_b.copy()\n",
    "num_steps=int((tf)/dt)\n",
    "txt_Istim=txt_Istim_none.copy()\n",
    "update_every=100\n",
    "step_count=0\n",
    "for n in range(num_steps):\n",
    "    kernelA(txt,txt_Istim)\n",
    "    kernelB(txt,txt_Istim)\n",
    "    step_count+=1\n",
    "    if step_count%update_every==0:\n",
    "#         t+=dt*update_every\n",
    "#         compute dict_out\n",
    "        printProgressBar(step_count,num_steps)\n",
    "t+=dt*num_steps#update_every\n",
    "print(f\"\\nthe number of steps taken is step_count = {step_count}.\")\n",
    "# beep(10)\n",
    "dt"
   ]
  },
  {
   "cell_type": "code",
   "execution_count": null,
   "metadata": {
    "ExecuteTime": {
     "end_time": "2021-12-02T00:28:07.292480Z",
     "start_time": "2021-12-02T00:28:07.292470Z"
    },
    "hidden": true
   },
   "outputs": [],
   "source": [
    "#save texture at this time t\n",
    "save=True\n",
    "if save:\n",
    "#     txt=stack_txt(inVc,outVc,inmhjdfx,outmhjdfx,dVcdt)\n",
    "    save_img_fn=f\"{nb_dir}/Data/initial-conditions-suite-3-LR/ic1800x1800_t_{t:.0f}.npz\"\n",
    "    #     img_out=txt#np.stack([img,dimgdt]).T\n",
    "    np.savez_compressed(save_img_fn,[txt])"
   ]
  },
  {
   "cell_type": "code",
   "execution_count": null,
   "metadata": {
    "ExecuteTime": {
     "end_time": "2021-12-02T00:28:07.292944Z",
     "start_time": "2021-12-02T00:28:07.292934Z"
    },
    "hidden": true
   },
   "outputs": [],
   "source": [
    "#Visualize the buffer (plain)\n",
    "print(np.max(txt[...,0]))\n",
    "img=txt[...,(0,-2,1)].copy()#chnl]#0,1,V,Ca_i,INa,IK\n",
    "mn=np.min(img[...,0]);mx=np.max(img[...,0])\n",
    "img[...,0]=(img[...,0]-mn)/(mx-mn)\n",
    "# mn=np.min(img[...,1]);mx=np.max(img[...,1])\n",
    "# img[...,1]=(img[...,1]-mn)/(mx-mn)\n",
    "mn=np.min(img[...,2]);mx=np.max(img[...,2])\n",
    "img[...,2]=(img[...,2]-mn)/(mx-mn)\n",
    "plt.subplots(figsize=(9,9))\n",
    "plt.imshow(img)#,cmap='gray',vmin=-80, vmax=15)\n",
    "plt.axis('off')\n",
    "# plt.title(f'channel {chnl}, time {t:.1f}\\n',c='k',fontsize=22)#c='w',fontsize=22)\n",
    "plt.show()"
   ]
  },
  {
   "cell_type": "code",
   "execution_count": null,
   "metadata": {
    "ExecuteTime": {
     "end_time": "2021-12-02T00:28:07.293575Z",
     "start_time": "2021-12-02T00:28:07.293565Z"
    },
    "hidden": true
   },
   "outputs": [],
   "source": [
    "#make null stimulus\n",
    "width,height,chnlno=txt.shape\n",
    "zero_c2=np.zeros(shape=(width,height,2), dtype=np.float64, order='C')\n",
    "txt_Istim_none=zero_c2[...,0].copy()\n",
    "\n",
    "#randomly place semicircular stimulus\n",
    "random.seed(101)#104)#108)#\n",
    "num_semi=7\n",
    "mag=-10\n",
    "\n",
    "txt_Istim=txt_Istim_none.copy()\n",
    "for n in range(num_semi):\n",
    "    x0=random.uniform(0,1)*width\n",
    "    y0=random.uniform(0,1)*height\n",
    "    deg=random.uniform(0,1)*360\n",
    "    txt_Istim+=get_semicircle(txt,deg,x0,y0)\n",
    "\n",
    "txt_Istim*=mag\n",
    "txt_Istim_semi=txt_Istim.copy()\n",
    "# #Visualize the buffer (plain)\n",
    "# chnl=0\n",
    "# # print(np.max(txt[...,0]))\n",
    "# img=txt_Istim_semi#txt[...,chnl]\n",
    "# plt.imshow(img,cmap='gray')#,vmin=-80, vmax=15)\n",
    "# plt.axis('off')\n",
    "# # plt.title(f'channel {chnl}, time {t:.1f}\\n',c='k',fontsize=22)#c='w',fontsize=22)\n",
    "# plt.show()"
   ]
  },
  {
   "cell_type": "code",
   "execution_count": null,
   "metadata": {
    "ExecuteTime": {
     "end_time": "2021-12-02T00:28:07.294205Z",
     "start_time": "2021-12-02T00:28:07.294195Z"
    },
    "hidden": true
   },
   "outputs": [],
   "source": [
    "#semicircular stimulation\n",
    "tf=10\n",
    "# txt=txt_b.copy()\n",
    "num_steps=int((tf)/dt)\n",
    "txt_Istim=txt_Istim_semi.copy()\n",
    "update_every=100\n",
    "step_count=0\n",
    "for n in range(num_steps):\n",
    "    kernelA(txt,txt_Istim)\n",
    "    kernelB(txt,txt_Istim)\n",
    "    step_count+=1\n",
    "    if step_count%update_every==0:\n",
    "#         t+=dt*update_every\n",
    "#         compute dict_out\n",
    "        printProgressBar(step_count,num_steps)\n",
    "t+=dt*num_steps#update_every\n",
    "print(f\"\\nthe final time is t = {t} ms.\")\n",
    "# beep(10)"
   ]
  },
  {
   "cell_type": "code",
   "execution_count": null,
   "metadata": {
    "ExecuteTime": {
     "end_time": "2021-12-02T00:28:07.294990Z",
     "start_time": "2021-12-02T00:28:07.294980Z"
    },
    "hidden": true
   },
   "outputs": [],
   "source": [
    "#Visualize the buffer (plain)\n",
    "print(np.max(txt[...,0]))\n",
    "img=txt[...,(0,-2,1)].copy()#chnl]#0,1,V,Ca_i,INa,IK\n",
    "mn=np.min(img[...,0]);mx=np.max(img[...,0])\n",
    "img[...,0]=(img[...,0]-mn)/(mx-mn)\n",
    "# mn=np.min(img[...,1]);mx=np.max(img[...,1])\n",
    "# img[...,1]=(img[...,1]-mn)/(mx-mn)\n",
    "mn=np.min(img[...,2]);mx=np.max(img[...,2])\n",
    "img[...,2]=(img[...,2]-mn)/(mx-mn)\n",
    "plt.subplots(figsize=(9,9))\n",
    "plt.imshow(img)#,cmap='gray',vmin=-80, vmax=15)\n",
    "plt.axis('off')\n",
    "# plt.title(f'channel {chnl}, time {t:.1f}\\n',c='k',fontsize=22)#c='w',fontsize=22)\n",
    "plt.show()"
   ]
  },
  {
   "cell_type": "code",
   "execution_count": null,
   "metadata": {
    "ExecuteTime": {
     "end_time": "2021-12-02T00:28:07.295716Z",
     "start_time": "2021-12-02T00:28:07.295705Z"
    },
    "hidden": true
   },
   "outputs": [],
   "source": [
    "#take 10000 time steps forward 1 sec without stimulation\n",
    "tf=800\n",
    "# txt=txt_b.copy()\n",
    "num_steps=int((tf)/dt)\n",
    "txt_Istim=txt_Istim_none.copy()\n",
    "update_every=100\n",
    "step_count=0\n",
    "for n in range(num_steps):\n",
    "    kernelA(txt,txt_Istim)\n",
    "    kernelB(txt,txt_Istim)\n",
    "    step_count+=1\n",
    "    if step_count%update_every==0:\n",
    "#         t+=dt*update_every\n",
    "#         compute dict_out\n",
    "        printProgressBar(step_count,num_steps)\n",
    "t+=dt*num_steps#update_every\n",
    "print(f\"\\nthe number of steps taken is step_count = {step_count}.\")\n",
    "# beep(10)\n",
    "dt"
   ]
  },
  {
   "cell_type": "code",
   "execution_count": null,
   "metadata": {
    "ExecuteTime": {
     "end_time": "2021-12-02T00:28:07.296536Z",
     "start_time": "2021-12-02T00:28:07.296526Z"
    },
    "hidden": true
   },
   "outputs": [],
   "source": [
    "#save texture at this time t\n",
    "save=True\n",
    "if save:\n",
    "#     txt=stack_txt(inVc,outVc,inmhjdfx,outmhjdfx,dVcdt)\n",
    "    save_img_fn=f\"{nb_dir}/Data/initial-conditions-suite-3-LR/ic1800x1800_t_{t:.0f}.npz\"\n",
    "    #     img_out=txt#np.stack([img,dimgdt]).T\n",
    "    np.savez_compressed(save_img_fn,[txt])"
   ]
  },
  {
   "cell_type": "code",
   "execution_count": null,
   "metadata": {
    "ExecuteTime": {
     "end_time": "2021-12-02T00:28:07.297068Z",
     "start_time": "2021-12-02T00:28:07.297057Z"
    },
    "hidden": true
   },
   "outputs": [],
   "source": [
    "#Visualize the buffer (plain)\n",
    "print(np.max(txt[...,0]))\n",
    "img=txt[...,(0,-2,1)].copy()#chnl]#0,1,V,Ca_i,INa,IK\n",
    "mn=np.min(img[...,0]);mx=np.max(img[...,0])\n",
    "img[...,0]=(img[...,0]-mn)/(mx-mn)\n",
    "# mn=np.min(img[...,1]);mx=np.max(img[...,1])\n",
    "# img[...,1]=(img[...,1]-mn)/(mx-mn)\n",
    "mn=np.min(img[...,2]);mx=np.max(img[...,2])\n",
    "img[...,2]=(img[...,2]-mn)/(mx-mn)\n",
    "plt.subplots(figsize=(9,9))\n",
    "plt.imshow(img)#,cmap='gray',vmin=-80, vmax=15)\n",
    "plt.axis('off')\n",
    "# plt.title(f'channel {chnl}, time {t:.1f}\\n',c='k',fontsize=22)#c='w',fontsize=22)\n",
    "plt.show()"
   ]
  },
  {
   "cell_type": "markdown",
   "metadata": {
    "hidden": true
   },
   "source": [
    "Now, chunk ^these into 200x200 regions, and verify that each one contains spiral tips!"
   ]
  },
  {
   "cell_type": "code",
   "execution_count": null,
   "metadata": {
    "ExecuteTime": {
     "end_time": "2021-12-02T00:28:07.297951Z",
     "start_time": "2021-12-02T00:28:07.297941Z"
    },
    "hidden": true
   },
   "outputs": [],
   "source": [
    "#save texture at this time t\n",
    "save=True\n",
    "if save:\n",
    "#     txt=stack_txt(inVc,outVc,inmhjdfx,outmhjdfx,dVcdt)\n",
    "    save_img_fn=f\"{nb_dir}/Data/initial-conditions-suite-3-LR/ic1800x1800_t_{t:.0f}_tiny.npz\"\n",
    "    #     img_out=txt#np.stack([img,dimgdt]).T\n",
    "    np.savez_compressed(save_img_fn,[txt.astype('float16')])"
   ]
  },
  {
   "cell_type": "code",
   "execution_count": null,
   "metadata": {
    "ExecuteTime": {
     "end_time": "2021-12-02T00:28:07.298497Z",
     "start_time": "2021-12-02T00:28:07.298487Z"
    },
    "hidden": true
   },
   "outputs": [],
   "source": [
    "save_img_fn"
   ]
  },
  {
   "cell_type": "code",
   "execution_count": null,
   "metadata": {
    "ExecuteTime": {
     "end_time": "2021-12-02T00:28:07.299239Z",
     "start_time": "2021-12-02T00:28:07.299228Z"
    },
    "hidden": true
   },
   "outputs": [],
   "source": [
    "# #load the tiny buffer and verify it is still looks reasonable when compressing to float16.  Let's use float32\n",
    "# img_fn='/Users/timothytyree/Documents/GitHub/care/notebooks/Data/initial-conditions-suite-3-LR/ic1800x1800_t_2830_tiny.npz'\n",
    "# # img_fn=f'{nb_dir}/Data/initial-conditions-suite-3-LR/ic600x600_tt/ic001.npz'\n",
    "# txt_tiny=load_buffer(img_fn)[0]\n",
    "# # #Visualize the buffer (plain)\n",
    "# # print(np.max(txt_tiny[...,0]))\n",
    "# # img=txt_tiny.astype('float32')[...,(0,-2,1)].copy()#chnl]#0,1,V,Ca_i,INa,IK\n",
    "# # mn=np.min(img[...,0]);mx=np.max(img[...,0])\n",
    "# # img[...,0]=(img[...,0]-mn)/(mx-mn)\n",
    "# # # mn=np.min(img[...,1]);mx=np.max(img[...,1])\n",
    "# # # img[...,1]=(img[...,1]-mn)/(mx-mn)\n",
    "# # mn=np.min(img[...,2]);mx=np.max(img[...,2])\n",
    "# # img[...,2]=(img[...,2]-mn)/(mx-mn)\n",
    "# # plt.subplots(figsize=(9,9))\n",
    "# # plt.imshow(img)#,cmap='gray',vmin=-80, vmax=15)\n",
    "# # plt.axis('off')\n",
    "# # # plt.title(f'channel {chnl}, time {t:.1f}\\n',c='k',fontsize=22)#c='w',fontsize=22)\n",
    "# # plt.show()\n",
    "# txt_tiny[0,0,6]"
   ]
  },
  {
   "cell_type": "code",
   "execution_count": null,
   "metadata": {
    "ExecuteTime": {
     "end_time": "2021-01-21T19:15:26.192486Z",
     "start_time": "2021-01-21T19:15:26.146891Z"
    },
    "hidden": true
   },
   "outputs": [],
   "source": []
  },
  {
   "cell_type": "code",
   "execution_count": null,
   "metadata": {
    "ExecuteTime": {
     "end_time": "2021-12-02T00:28:07.299897Z",
     "start_time": "2021-12-02T00:28:07.299887Z"
    },
    "hidden": true
   },
   "outputs": [],
   "source": [
    "img_fn='/Users/timothytyree/Documents/GitHub/care/notebooks/Data/initial-conditions-suite-3-LR/ic1800x1800_t_2830.npz'\n",
    "t=2830\n",
    "# img_fn=f'{nb_dir}/Data/initial-conditions-suite-3-LR/ic600x600_tt/ic001.npz'\n",
    "txt=load_buffer(img_fn)[0]\n",
    "txt.shape"
   ]
  },
  {
   "cell_type": "code",
   "execution_count": null,
   "metadata": {
    "ExecuteTime": {
     "end_time": "2021-12-02T00:28:07.300529Z",
     "start_time": "2021-12-02T00:28:07.300519Z"
    },
    "hidden": true
   },
   "outputs": [],
   "source": [
    "#make null stimulus\n",
    "width,height,chnlno=txt.shape\n",
    "zero_c2=np.zeros(shape=(width,height,2), dtype=np.float64, order='C')\n",
    "txt_Istim_none=zero_c2[...,0].copy()\n",
    "\n",
    "#randomly place semicircular stimulus\n",
    "random.seed(1011)#101)#104)#\n",
    "num_semi=7\n",
    "mag=-10\n",
    "\n",
    "txt_Istim=txt_Istim_none.copy()\n",
    "for n in range(num_semi):\n",
    "    x0=random.uniform(0,1)*width\n",
    "    y0=random.uniform(0,1)*height\n",
    "    deg=random.uniform(0,1)*360\n",
    "    txt_Istim+=get_semicircle(txt,deg,x0,y0)\n",
    "\n",
    "txt_Istim*=mag\n",
    "txt_Istim_semi=txt_Istim.copy()\n",
    "# #Visualize the buffer (plain)\n",
    "# chnl=0\n",
    "# # print(np.max(txt[...,0]))\n",
    "# img=txt_Istim_semi#txt[...,chnl]\n",
    "# plt.imshow(img,cmap='gray')#,vmin=-80, vmax=15)\n",
    "# plt.axis('off')\n",
    "# # plt.title(f'channel {chnl}, time {t:.1f}\\n',c='k',fontsize=22)#c='w',fontsize=22)\n",
    "# plt.show()"
   ]
  },
  {
   "cell_type": "code",
   "execution_count": null,
   "metadata": {
    "ExecuteTime": {
     "end_time": "2021-12-02T00:28:07.301378Z",
     "start_time": "2021-12-02T00:28:07.301369Z"
    },
    "hidden": true
   },
   "outputs": [],
   "source": [
    "#semicircular stimulation\n",
    "tf=10\n",
    "# txt=txt_b.copy()\n",
    "num_steps=int((tf)/dt)\n",
    "txt_Istim=txt_Istim_semi.copy()\n",
    "update_every=100\n",
    "step_count=0\n",
    "for n in range(num_steps):\n",
    "    kernelA(txt,txt_Istim)\n",
    "    kernelB(txt,txt_Istim)\n",
    "    step_count+=1\n",
    "    if step_count%update_every==0:\n",
    "#         t+=dt*update_every\n",
    "#         compute dict_out\n",
    "        printProgressBar(step_count,num_steps)\n",
    "t+=dt*num_steps#update_every\n",
    "print(f\"\\nthe final time is t = {t} ms.\")\n",
    "# beep(10)"
   ]
  },
  {
   "cell_type": "code",
   "execution_count": null,
   "metadata": {
    "ExecuteTime": {
     "end_time": "2021-12-02T00:28:07.302070Z",
     "start_time": "2021-12-02T00:28:07.302031Z"
    },
    "hidden": true
   },
   "outputs": [],
   "source": [
    "#Visualize the buffer (plain)\n",
    "print(np.max(txt[...,0]))\n",
    "img=txt[...,(0,-2,1)].copy()#chnl]#0,1,V,Ca_i,INa,IK\n",
    "mn=np.min(img[...,0]);mx=np.max(img[...,0])\n",
    "img[...,0]=(img[...,0]-mn)/(mx-mn)\n",
    "# mn=np.min(img[...,1]);mx=np.max(img[...,1])\n",
    "# img[...,1]=(img[...,1]-mn)/(mx-mn)\n",
    "mn=np.min(img[...,2]);mx=np.max(img[...,2])\n",
    "img[...,2]=(img[...,2]-mn)/(mx-mn)\n",
    "plt.subplots(figsize=(9,9))\n",
    "plt.imshow(img)#,cmap='gray',vmin=-80, vmax=15)\n",
    "plt.axis('off')\n",
    "# plt.title(f'channel {chnl}, time {t:.1f}\\n',c='k',fontsize=22)#c='w',fontsize=22)\n",
    "plt.show()"
   ]
  },
  {
   "cell_type": "code",
   "execution_count": null,
   "metadata": {
    "ExecuteTime": {
     "end_time": "2021-12-02T00:28:07.302771Z",
     "start_time": "2021-12-02T00:28:07.302761Z"
    },
    "hidden": true
   },
   "outputs": [],
   "source": [
    "#take 10000 time steps forward 1 sec without stimulation\n",
    "tf=800\n",
    "# txt=txt_b.copy()\n",
    "num_steps=int((tf)/dt)\n",
    "txt_Istim=txt_Istim_none.copy()\n",
    "update_every=100\n",
    "step_count=0\n",
    "for n in range(num_steps):\n",
    "    kernelA(txt,txt_Istim)\n",
    "    kernelB(txt,txt_Istim)\n",
    "    step_count+=1\n",
    "    if step_count%update_every==0:\n",
    "#         t+=dt*update_every\n",
    "#         compute dict_out\n",
    "        printProgressBar(step_count,num_steps)\n",
    "t+=dt*num_steps#update_every\n",
    "print(f\"\\nthe number of steps taken is step_count = {step_count}.\")\n",
    "beep(10)"
   ]
  },
  {
   "cell_type": "code",
   "execution_count": null,
   "metadata": {
    "ExecuteTime": {
     "end_time": "2021-12-02T00:28:07.303749Z",
     "start_time": "2021-12-02T00:28:07.303739Z"
    },
    "hidden": true
   },
   "outputs": [],
   "source": [
    "#Visualize the buffer (plain)\n",
    "print(np.max(txt[...,0]))\n",
    "img=txt[...,(0,-2,1)].copy()#chnl]#0,1,V,Ca_i,INa,IK\n",
    "mn=np.min(img[...,0]);mx=np.max(img[...,0])\n",
    "img[...,0]=(img[...,0]-mn)/(mx-mn)\n",
    "# mn=np.min(img[...,1]);mx=np.max(img[...,1])\n",
    "# img[...,1]=(img[...,1]-mn)/(mx-mn)\n",
    "mn=np.min(img[...,2]);mx=np.max(img[...,2])\n",
    "img[...,2]=(img[...,2]-mn)/(mx-mn)\n",
    "plt.subplots(figsize=(9,9))\n",
    "plt.imshow(img)#,cmap='gray',vmin=-80, vmax=15)\n",
    "plt.axis('off')\n",
    "# plt.title(f'channel {chnl}, time {t:.1f}\\n',c='k',fontsize=22)#c='w',fontsize=22)\n",
    "plt.show()"
   ]
  },
  {
   "cell_type": "code",
   "execution_count": null,
   "metadata": {
    "ExecuteTime": {
     "end_time": "2021-12-02T00:28:07.304255Z",
     "start_time": "2021-12-02T00:28:07.304241Z"
    },
    "hidden": true
   },
   "outputs": [],
   "source": [
    "#save texture at this time t\n",
    "save=True\n",
    "if save:\n",
    "#     txt=stack_txt(inVc,outVc,inmhjdfx,outmhjdfx,dVcdt)\n",
    "    save_img_fn=f\"{nb_dir}/Data/initial-conditions-suite-3-LR/ic1800x1800_t_{t:.0f}.npz\"\n",
    "    #     img_out=txt#np.stack([img,dimgdt]).T\n",
    "    np.savez_compressed(save_img_fn,[txt])#.astype('float16')])"
   ]
  },
  {
   "cell_type": "markdown",
   "metadata": {
    "heading_collapsed": true
   },
   "source": [
    "# check if spiral tips are present"
   ]
  },
  {
   "cell_type": "code",
   "execution_count": null,
   "metadata": {
    "ExecuteTime": {
     "end_time": "2021-12-02T00:28:07.305329Z",
     "start_time": "2021-12-02T00:28:07.305314Z"
    },
    "hidden": true
   },
   "outputs": [],
   "source": [
    "ic_fn_lst=[\n",
    "    \"ic018.13.npz\",\n",
    "    \"ic008.23.npz\",\n",
    "    \"ic017.13.npz\",\n",
    "    \"ic005.11.npz\",\n",
    "    \"ic013.12.npz\",\n",
    "    \"ic011.12.npz\",\n",
    "    \"ic007.22.npz\",\n",
    "    \"ic012.32.npz\",\n",
    "    \"ic007.33.npz\",\n",
    "    \"ic014.11.npz\",\n",
    "    \"ic013.22.npz\",\n",
    "    \"ic017.11.npz\",\n",
    "    \"ic009.21.npz\",\n",
    "    \"ic007.12.npz\"\n",
    "]"
   ]
  },
  {
   "cell_type": "code",
   "execution_count": null,
   "metadata": {
    "ExecuteTime": {
     "end_time": "2021-12-02T00:28:07.305875Z",
     "start_time": "2021-12-02T00:28:07.305864Z"
    },
    "hidden": true
   },
   "outputs": [],
   "source": [
    "# input_file_name=\"ic007.12.npz\"\n",
    "input_folder=f\"{nb_dir}/Data/initial-conditions-suite-3-LR/ic-out\"\n",
    "os.chdir(input_folder)\n",
    "not_reasonable_lst=[]\n",
    "num_todo=1\n",
    "compute_all_spiral_tips= get_compute_all_spiral_tips(mode='simp',width=width,height=height)\n",
    "for input_file_name in ic_fn_lst[:num_todo]:\n",
    "    txt=load_buffer(input_file_name)\n",
    "\n",
    "    #test the V_threshold value\n",
    "    V_threshold=-60.\n",
    "    level1 = V_threshold\n",
    "    t=-999\n",
    "    level2 = 0.\n",
    "    inVc,outVc,inmhjdfx,outmhjdfx,dVcdt=unstack_txt(txt)\n",
    "    img=inVc[...,0]\n",
    "    dimgdt=dVcdt[...,0]\n",
    "    dict_out=compute_all_spiral_tips(t,img,dimgdt,level1,level2)#,width=width,height=height)\n",
    "    print(len(list(dict_out['x'])))\n",
    "    fig=show_buffer_LR(txt,figsize=(3,3))\n",
    "    axs=fig.get_axes()\n",
    "    ax=axs[0]\n",
    "    ax.scatter(dict_out['x'],dict_out['y'],s=150,c='yellow',marker='*')\n",
    "    plt.show()\n",
    "    retval=input(f\"is_reasonable? (enter y/n)\")\n",
    "    if retval[0]!='y':\n",
    "        not_reasonable_lst.append(input_file_name)\n",
    "    plt.close()"
   ]
  },
  {
   "cell_type": "code",
   "execution_count": null,
   "metadata": {
    "ExecuteTime": {
     "end_time": "2021-12-02T00:28:07.306568Z",
     "start_time": "2021-12-02T00:28:07.306554Z"
    },
    "hidden": true
   },
   "outputs": [],
   "source": [
    "print(not_reasonable_lst)"
   ]
  },
  {
   "cell_type": "code",
   "execution_count": null,
   "metadata": {
    "ExecuteTime": {
     "end_time": "2021-12-02T00:28:07.307186Z",
     "start_time": "2021-12-02T00:28:07.307176Z"
    },
    "hidden": true
   },
   "outputs": [],
   "source": [
    "input_folder=f\"{nb_dir}/Data/initial-conditions-suite-3-LR/ic-in\"\n",
    "os.chdir(input_folder)\n",
    "input_file_name='ic005.11.npz'\n",
    "# txt=load_buffer('ic017.11.npz')#test the V_threshold value\n",
    "# V_threshold=-50#all okay-60.#-50.#-40\n",
    "txt=load_buffer(input_file_name)#test the V_threshold value\n",
    "V_threshold=-60\n",
    "\n",
    "level1 = V_threshold\n",
    "t=-999\n",
    "level2 = 0.\n",
    "inVc,outVc,inmhjdfx,outmhjdfx,dVcdt=unstack_txt(txt)\n",
    "img=inVc[...,0]\n",
    "dimgdt=dVcdt[...,0]\n",
    "compute_all_spiral_tips= get_compute_all_spiral_tips(mode='simp',width=width,height=height)\n",
    "dict_out=compute_all_spiral_tips(t,img,dimgdt,level1,level2)#,width=width,height=height)\n",
    "print(len(list(dict_out['x'])))\n",
    "fig=show_buffer_LR(txt,figsize=(3,3))\n",
    "axs=fig.get_axes()\n",
    "ax=axs[0]\n",
    "ax.scatter(dict_out['x'],dict_out['y'],s=150,c='yellow',marker='*')\n",
    "plt.show()"
   ]
  },
  {
   "cell_type": "code",
   "execution_count": null,
   "metadata": {
    "hidden": true
   },
   "outputs": [],
   "source": []
  },
  {
   "cell_type": "markdown",
   "metadata": {},
   "source": [
    "# __confirmed__ the tip generating routine has been not getting spiral tips for simulations that contain spiral tips.\n"
   ]
  },
  {
   "cell_type": "markdown",
   "metadata": {
    "heading_collapsed": true
   },
   "source": [
    "# (ignore) scratchwerk/routine dev"
   ]
  },
  {
   "cell_type": "code",
   "execution_count": null,
   "metadata": {
    "ExecuteTime": {
     "end_time": "2021-12-02T00:28:07.307952Z",
     "start_time": "2021-12-02T00:28:07.307915Z"
    },
    "hidden": true
   },
   "outputs": [],
   "source": [
    "tmin_early_stopping=100\n",
    "V_threshold=-30.\n",
    "tmax=1.\n",
    "h = 0.1\n",
    "dt=h\n",
    "level1 = V_threshold\n",
    "level2 = 0.\n",
    "printing=True\n",
    "kwargs={}\n",
    "input_folder=f\"{nb_dir}/Data/initial-conditions-suite-3-LR/ic-in\"\n",
    "os.chdir(input_folder)\n",
    "input_file_name='ic005.11.npz'\n",
    "initial_condition_dir=input_file_name\n",
    "\n",
    "\n",
    "#initialize records\n",
    "t = 0.\n",
    "dict_out_lst = []\n",
    "num_steps = int(np.around((tmax)/dt))\n",
    "#initialize simulation\n",
    "txt=load_buffer(initial_condition_dir)#, Ca_i_initial = Ca_i_initial, Vmax = Vmax, Vmin = Vmin)\n",
    "width, height, channel_no = txt.shape\n",
    "kwargs.update({'width':width,'height':height})\n",
    "#allocate memory\n",
    "inVc,outVc,inmhjdfx,outmhjdfx,dVcdt=unstack_txt(txt)\n",
    "#reformate texture\n",
    "txt_ic=stack_txt(inVc,outVc,inmhjdfx,outmhjdfx,dVcdt)\n",
    "assert(np.isclose((txt_ic[0,0,:]-txt[0,0,:]),0.).all())\n",
    "#get one_step method (performs precomputing)\n",
    "dt=h#smaller step for first 100 steps (bc of pbc)\n",
    "dt, one_step_map = get_one_step_map(nb_dir,dt)\n",
    "\n",
    "if printing:\n",
    "    print(f\"integrating to time t={tmin_early_stopping:.3f} ms without recording with dt={dt:.3f} ms.\")\n",
    "while (t<tmin_early_stopping):\n",
    "    txt=one_step_map(txt)\n",
    "    t+=dt\n",
    "#precompute anything that needs precomputing\n",
    "compute_all_spiral_tips= get_compute_all_spiral_tips(mode='simp',width=width,height=height)\n",
    "\n",
    "# dt, one_step_map = get_one_step_map(nb_dir,dt)\n",
    "#check for any tips being present\n",
    "inVc,outVc,inmhjdfx,outmhjdfx,dVcdt=unstack_txt(txt)\n",
    "img=inVc[...,0]\n",
    "dimgdt=dVcdt[...,0]\n",
    "dict_out=compute_all_spiral_tips(t,img,dimgdt,level1,level2)#,width=width,height=height)\n",
    "n_tips=dict_out['n']#skip this trial if no spiral tips are present\n",
    "if n_tips==0:\n",
    "    dict_out_lst.append(dict_out)"
   ]
  },
  {
   "cell_type": "code",
   "execution_count": 7,
   "metadata": {
    "ExecuteTime": {
     "end_time": "2021-12-02T00:28:09.342935Z",
     "start_time": "2021-12-02T00:28:07.314558Z"
    },
    "hidden": true
   },
   "outputs": [
    {
     "name": "stdout",
     "output_type": "stream",
     "text": [
      "\u0007\u0007\u0007\u0007\u0007\u0007\u0007\u0007\u0007\u0007"
     ]
    },
    {
     "ename": "NameError",
     "evalue": "name 'get_one_step_map' is not defined",
     "output_type": "error",
     "traceback": [
      "\u001b[0;31m---------------------------------------------------------------------------\u001b[0m",
      "\u001b[0;31mNameError\u001b[0m                                 Traceback (most recent call last)",
      "\u001b[0;32m/tmp/ipykernel_22727/799802690.py\u001b[0m in \u001b[0;36m<module>\u001b[0;34m\u001b[0m\n\u001b[1;32m      1\u001b[0m \u001b[0mbeep\u001b[0m\u001b[0;34m(\u001b[0m\u001b[0;36m10\u001b[0m\u001b[0;34m)\u001b[0m\u001b[0;34m\u001b[0m\u001b[0;34m\u001b[0m\u001b[0m\n\u001b[0;32m----> 2\u001b[0;31m \u001b[0mget_one_step_map\u001b[0m\u001b[0;34m\u001b[0m\u001b[0;34m\u001b[0m\u001b[0m\n\u001b[0m",
      "\u001b[0;31mNameError\u001b[0m: name 'get_one_step_map' is not defined"
     ]
    }
   ],
   "source": [
    "beep(10)\n",
    "get_one_step_map"
   ]
  },
  {
   "cell_type": "code",
   "execution_count": null,
   "metadata": {
    "ExecuteTime": {
     "end_time": "2021-12-02T00:28:09.346619Z",
     "start_time": "2021-12-02T00:28:09.346608Z"
    },
    "hidden": true
   },
   "outputs": [],
   "source": [
    "print(f\"it is {np.isnan(txt.flatten()).any()} that any nan values are in txt.\")\n",
    "assert(not np.isnan(txt.flatten()).any())"
   ]
  },
  {
   "cell_type": "code",
   "execution_count": null,
   "metadata": {
    "ExecuteTime": {
     "end_time": "2021-12-02T00:28:09.347640Z",
     "start_time": "2021-12-02T00:28:09.347629Z"
    },
    "hidden": true
   },
   "outputs": [],
   "source": [
    "#test the V_threshold value\n",
    "V_threshold=-50.\n",
    "level1 = V_threshold\n",
    "level2 = 0.\n",
    "inVc,outVc,inmhjdfx,outmhjdfx,dVcdt=unstack_txt(txt)\n",
    "img=inVc[...,0]\n",
    "dimgdt=dVcdt[...,0]\n",
    "dict_out=compute_all_spiral_tips(t,img,dimgdt,level1,level2)#,width=width,height=height)\n",
    "print(len(list(dict_out['x'])))\n",
    "fig=show_buffer_LR(txt,figsize=(3,3))\n",
    "axs=fig.get_axes()\n",
    "ax=axs[0]\n",
    "ax.scatter(dict_out['x'],dict_out['y'],s=150,c='yellow',marker='*')\n",
    "plt.show()"
   ]
  },
  {
   "cell_type": "code",
   "execution_count": null,
   "metadata": {
    "ExecuteTime": {
     "end_time": "2021-12-02T00:28:09.348293Z",
     "start_time": "2021-12-02T00:28:09.348283Z"
    },
    "hidden": true
   },
   "outputs": [],
   "source": [
    "os.chdir(f\"{nb_dir}/lib/model/lookup_tables\")\n",
    "table_fn=f\"luo_rudy_dt_{dt}_arr39.csv\"\n",
    "arrr39=pd.read_csv(table_fn,header=None).values"
   ]
  },
  {
   "cell_type": "code",
   "execution_count": null,
   "metadata": {
    "hidden": true
   },
   "outputs": [],
   "source": []
  },
  {
   "cell_type": "code",
   "execution_count": null,
   "metadata": {
    "hidden": true
   },
   "outputs": [],
   "source": []
  },
  {
   "cell_type": "code",
   "execution_count": null,
   "metadata": {
    "ExecuteTime": {
     "end_time": "2021-12-02T00:28:09.349191Z",
     "start_time": "2021-12-02T00:28:09.349181Z"
    },
    "hidden": true
   },
   "outputs": [],
   "source": [
    "#TODO: drop  'theta'  from dict_out throroughly in the tip feature measurement functions"
   ]
  },
  {
   "cell_type": "code",
   "execution_count": null,
   "metadata": {
    "ExecuteTime": {
     "end_time": "2021-12-02T00:28:09.349831Z",
     "start_time": "2021-12-02T00:28:09.349820Z"
    },
    "hidden": true
   },
   "outputs": [],
   "source": [
    "# if printing:\n",
    "#     #print(f\"sigma is {sigma}, threshold is {threshold}.\")\n",
    "#     #print(f\"pad is {pad}, rejection_distance is edge_tolerance is {edge_tolerance}.\")\n",
    "#     print(f\"integrating to no later than time t={tmax:.3f} milliseconds. ms with recording with dt={dt:.3f} ms.\")\n",
    "# if timing:\n",
    "#     start = time.time()"
   ]
  },
  {
   "cell_type": "code",
   "execution_count": null,
   "metadata": {
    "ExecuteTime": {
     "end_time": "2021-12-02T00:28:09.350473Z",
     "start_time": "2021-12-02T00:28:09.350463Z"
    },
    "hidden": true
   },
   "outputs": [],
   "source": [
    "#TODO: step through the rest of the routine\n",
    "##########################################\n",
    "#run the simulation, measuring regularly\n",
    "##########################################\n",
    "tmax=20\n",
    "save_every_n_frames=10\n",
    "logging=True\n",
    "# printing=True\n",
    "step_count = 0\n",
    "\n",
    "while (t<tmax) & (n_tips > 0):\n",
    "    if step_count%save_every_n_frames == 0:\n",
    "        #compute tip locations in dict_out\n",
    "        inVc,outVc,inmhjdfx,outmhjdfx,dVcdt=unstack_txt(txt)\n",
    "        img=inVc[...,0]\n",
    "        dimgdt=dVcdt[...,0]\n",
    "        dict_out=compute_all_spiral_tips(t,img,dimgdt,level1,level2)\n",
    "\n",
    "        #save tip data\n",
    "        n_tips=dict_out['n']\n",
    "        # n_tips_lst.append(n_tips)\n",
    "        # t_lst.append(t)\n",
    "        dict_out_lst.append(dict_out)\n",
    "\n",
    "#         #update progress bar after each measurement\n",
    "#         if not logging:\n",
    "#             if printing:\n",
    "#                 printProgressBar(step_count, num_steps, prefix = 'Progress:', suffix = 'Complete', length = 50)\n",
    "\n",
    "    #forward Euler integration in time\n",
    "    txt=one_step_map(txt)\n",
    "    #advance time by one step\n",
    "    t   += dt\n",
    "    step_count += 1\n"
   ]
  },
  {
   "cell_type": "code",
   "execution_count": null,
   "metadata": {
    "ExecuteTime": {
     "end_time": "2021-12-02T00:28:09.351168Z",
     "start_time": "2021-12-02T00:28:09.351158Z"
    },
    "hidden": true
   },
   "outputs": [],
   "source": [
    "len(dict_out_lst)"
   ]
  },
  {
   "cell_type": "code",
   "execution_count": null,
   "metadata": {
    "ExecuteTime": {
     "end_time": "2021-12-02T00:28:09.352149Z",
     "start_time": "2021-12-02T00:28:09.352138Z"
    },
    "hidden": true
   },
   "outputs": [],
   "source": [
    "# confirmed: dict_out_lst looks reasonable"
   ]
  },
  {
   "cell_type": "markdown",
   "metadata": {
    "ExecuteTime": {
     "end_time": "2021-01-23T01:14:02.246325Z",
     "start_time": "2021-01-23T01:14:02.227630Z"
    },
    "hidden": true
   },
   "source": [
    "integrating by Delta_t=10 ms takes 11 seconds of runtime with saving 1 time per millisecond<br>\n"
   ]
  },
  {
   "cell_type": "code",
   "execution_count": null,
   "metadata": {
    "ExecuteTime": {
     "end_time": "2021-12-02T00:28:09.352825Z",
     "start_time": "2021-12-02T00:28:09.352815Z"
    },
    "hidden": true
   },
   "outputs": [],
   "source": [
    "#TODO: make tip detection version that compares txt to txt_old, with save_every_frame=20 #once per 2 ms at the same level, V_threshold"
   ]
  },
  {
   "cell_type": "code",
   "execution_count": null,
   "metadata": {
    "ExecuteTime": {
     "end_time": "2021-12-02T00:28:09.353562Z",
     "start_time": "2021-12-02T00:28:09.353538Z"
    },
    "hidden": true
   },
   "outputs": [],
   "source": [
    "#TODO: run the rest of the routine step by step"
   ]
  },
  {
   "cell_type": "code",
   "execution_count": null,
   "metadata": {
    "ExecuteTime": {
     "end_time": "2021-12-02T00:28:09.354291Z",
     "start_time": "2021-12-02T00:28:09.354281Z"
    },
    "hidden": true
   },
   "outputs": [],
   "source": [
    "saving=True\n",
    "data_dir_log='../test_out.csv'\n",
    "round_output_decimals=1\n",
    "if printing:\n",
    "    #report the bottom line up front\n",
    "    if n_tips==0:\n",
    "        print(f\"zero tips remaining at time t = {t:.1f} ms.\")\n",
    "if printing:\n",
    "    if t >= tmax:\n",
    "        print( f\"Caution! max_time was reached! Termination time not reached!  Consider rerunning with greater max_time!\")\n",
    "if saving:\n",
    "    df = pd.concat([pd.DataFrame(dict_out) for dict_out in dict_out_lst])\n",
    "    df.reset_index(inplace=True, drop=True)\n",
    "    if df.size>0:#if any spiral tips have been observed\n",
    "        #if the end of AF was indeed reachded, append a row recording this\n",
    "        if n_tips==0:\n",
    "            next_id = df.index.values[-1]+1\n",
    "            df = pd.concat([df,pd.DataFrame({'t': float(save_every_n_frames*h+t),'n': int(n_tips)}, index = [next_id])])\n",
    "        #save the recorded data\n",
    "        df.round(round_output_decimals).to_csv(data_dir_log, index=False)\n",
    "        if printing:\n",
    "            print('saved to:')\n",
    "            print(data_dir_log)\n",
    "    else: #no spiral tips observed, print that this ic yielded no spiral tips\n",
    "        print(f\"no spiral tips detected in ic, {os.path.basename(initial_condition_dir)}\")\n",
    "#move the completed file to ic-out\n",
    "os.rename(initial_condition_dir,completed_ic_dir)\n",
    "#input ic moved to output\n",
    "if logging:\n",
    "    if not log.closed:\n",
    "        log.close()\n",
    "\n",
    "# return kwargs\n"
   ]
  },
  {
   "cell_type": "code",
   "execution_count": null,
   "metadata": {
    "ExecuteTime": {
     "end_time": "2021-12-02T00:28:09.355030Z",
     "start_time": "2021-12-02T00:28:09.355018Z"
    },
    "hidden": true
   },
   "outputs": [],
   "source": [
    "df=pd.read_csv(data_dir_log)\n"
   ]
  },
  {
   "cell_type": "code",
   "execution_count": null,
   "metadata": {
    "ExecuteTime": {
     "end_time": "2021-12-02T00:28:09.355690Z",
     "start_time": "2021-12-02T00:28:09.355680Z"
    },
    "hidden": true
   },
   "outputs": [],
   "source": [
    "df"
   ]
  },
  {
   "cell_type": "markdown",
   "metadata": {
    "hidden": true
   },
   "source": [
    "confirmed: any problem with the routine has to be in the directories defined by get_kwargs"
   ]
  },
  {
   "cell_type": "code",
   "execution_count": null,
   "metadata": {
    "ExecuteTime": {
     "end_time": "2021-12-02T00:28:09.356501Z",
     "start_time": "2021-12-02T00:28:09.356491Z"
    },
    "hidden": true
   },
   "outputs": [],
   "source": [
    "#TODO: check if these are reasonable\n",
    "#input/output filenames\n",
    "results_folder='param_test'\n",
    "ic = os.path.abspath(input_file_name)\n",
    "input_fn = ic\n",
    "data_fn = os.path.basename(input_fn)\n",
    "base_dir = '/'.join(os.path.dirname(input_fn).split('/')[:-1])\n",
    "base_save_folder_name = results_folder\n",
    "base_save_dir = os.path.join(base_dir, base_save_folder_name)"
   ]
  },
  {
   "cell_type": "code",
   "execution_count": null,
   "metadata": {
    "ExecuteTime": {
     "end_time": "2021-12-02T00:28:09.357258Z",
     "start_time": "2021-12-02T00:28:09.357248Z"
    },
    "hidden": true
   },
   "outputs": [],
   "source": [
    "base_save_dir"
   ]
  },
  {
   "cell_type": "code",
   "execution_count": null,
   "metadata": {
    "ExecuteTime": {
     "end_time": "2021-12-02T00:28:09.358038Z",
     "start_time": "2021-12-02T00:28:09.358028Z"
    },
    "hidden": true
   },
   "outputs": [],
   "source": [
    "base_save_folder_name"
   ]
  },
  {
   "cell_type": "code",
   "execution_count": null,
   "metadata": {
    "ExecuteTime": {
     "end_time": "2021-12-02T00:28:09.358596Z",
     "start_time": "2021-12-02T00:28:09.358586Z"
    },
    "hidden": true
   },
   "outputs": [],
   "source": [
    "#DONE: remove the features needing bilinear interpolation from the measurement using a get_compute_all_spiral_tips function\n",
    "from lib.measure.utils_measure_tips_cpu import *"
   ]
  },
  {
   "cell_type": "code",
   "execution_count": null,
   "metadata": {
    "ExecuteTime": {
     "end_time": "2021-12-02T00:28:09.359716Z",
     "start_time": "2021-12-02T00:28:09.359705Z"
    },
    "hidden": true
   },
   "outputs": [],
   "source": [
    "get_compute_all_spiral_tips"
   ]
  },
  {
   "cell_type": "code",
   "execution_count": null,
   "metadata": {
    "ExecuteTime": {
     "end_time": "2021-12-02T00:28:09.360391Z",
     "start_time": "2021-12-02T00:28:09.360381Z"
    },
    "hidden": true
   },
   "outputs": [],
   "source": [
    "compute_all_spiral_tips= get_compute_all_spiral_tips(mode='simp',width=width,height=height)\n"
   ]
  },
  {
   "cell_type": "code",
   "execution_count": null,
   "metadata": {
    "ExecuteTime": {
     "end_time": "2021-12-02T00:28:09.361335Z",
     "start_time": "2021-12-02T00:28:09.361309Z"
    },
    "hidden": true
   },
   "outputs": [],
   "source": [
    "find_intersections"
   ]
  },
  {
   "cell_type": "code",
   "execution_count": null,
   "metadata": {
    "ExecuteTime": {
     "end_time": "2021-12-02T00:28:09.362363Z",
     "start_time": "2021-12-02T00:28:09.362353Z"
    },
    "hidden": true
   },
   "outputs": [],
   "source": [
    "dict_out=compute_all_spiral_tips(t,img,dimgdt,level1,level2)#,width=width,height=height)\n"
   ]
  },
  {
   "cell_type": "markdown",
   "metadata": {
    "ExecuteTime": {
     "end_time": "2021-01-23T02:25:30.870594Z",
     "start_time": "2021-01-23T02:25:30.857566Z"
    }
   },
   "source": [
    "# TODO: profile the runtime of the save block of code that records spiraltips.  Can this be streamed/saved directly to a file to see a speedup?\n",
    "- note that after simplifying, computing dict_out takes <40ms...  "
   ]
  },
  {
   "cell_type": "code",
   "execution_count": null,
   "metadata": {
    "ExecuteTime": {
     "end_time": "2021-12-02T00:28:09.363058Z",
     "start_time": "2021-12-02T00:28:09.363047Z"
    }
   },
   "outputs": [],
   "source": [
    "# TODO: profile the runtime of the save block of code that records spiraltips.  Can this be streamed/saved directly to a file to see a speedup?\n",
    "# - note that after simplifying, computing dict_out takes <40ms...  \n"
   ]
  },
  {
   "cell_type": "markdown",
   "metadata": {},
   "source": [
    "## convert all .npz father textures to .txt with smaller dtype (float32 or float16) - 2.5.2021\n"
   ]
  },
  {
   "cell_type": "markdown",
   "metadata": {},
   "source": [
    "- TODO: import the first .npz from local files\n",
    "- TODO: determine whether float16 is stable under current time step at $dt=0.1$ ms.\n",
    "- TODO: save father txt as .txt\n",
    "- TODO: put all ^this into a function\n",
    "- TODO: upload ^that to google drive.  copy and share links.\n",
    "- TODO: add .txt gid's to get_txt.py\n",
    "- TODO: repeat for all 4 father ic's\n",
    "...and then,\n",
    "- TODO: find where df is saved and print the signature of the function that would save df as .txt\n",
    "- TODO: simplify pipeline by totally eliminating use of the file system\n",
    "    - TODO: step_1 = find all functions called by pipeline\n",
    "    - option A: read some dunder methods and look for finding all functions called\n",
    "    - option B: just step through the pipeline and print all of the functions that are named\n",
    "    - TODO: step_2 = write one function that links together all of ^those functions\n",
    "    \n",
    "- TOOD(later, perhaps as a reward): LaTeX up the backwards error analysis of my one-step-map/numerical-method"
   ]
  },
  {
   "cell_type": "code",
   "execution_count": null,
   "metadata": {
    "ExecuteTime": {
     "end_time": "2021-12-02T00:28:09.363847Z",
     "start_time": "2021-12-02T00:28:09.363836Z"
    }
   },
   "outputs": [],
   "source": [
    "# # - TODO: import the first .npz from local files\n",
    "# save_folder='ic1800x1800_lr_txt'\n",
    "# txt_dir=search_for_file()"
   ]
  },
  {
   "cell_type": "code",
   "execution_count": null,
   "metadata": {
    "ExecuteTime": {
     "end_time": "2021-12-02T00:28:09.364575Z",
     "start_time": "2021-12-02T00:28:09.364565Z"
    }
   },
   "outputs": [],
   "source": [
    "# ics_folder=os.path.join(nb_dir,'Data/initial-conditions-suite-3-LR')\n",
    "# save_folder='ic1800x1800_lr_txt'\n",
    "# in_folder='ic1800x1800_lr'\n",
    "ics_folder=os.path.join(nb_dir,'Data/initial-conditions-suite-4-FK')\n",
    "save_folder='ic1800x1800_fk_txt'\n",
    "in_folder='ic1800x1800_fk'\n",
    "os.chdir(ics_folder)\n",
    "if not os.path.exists(save_folder):\n",
    "    os.mkdir(save_folder)"
   ]
  },
  {
   "cell_type": "code",
   "execution_count": null,
   "metadata": {
    "ExecuteTime": {
     "end_time": "2021-12-02T00:28:09.365658Z",
     "start_time": "2021-12-02T00:28:09.365643Z"
    }
   },
   "outputs": [],
   "source": [
    "os.chdir(in_folder)\n",
    "in_fn_lst=[os.path.abspath(fn) for fn in os.listdir() if fn[-4:]=='.npz']\n"
   ]
  },
  {
   "cell_type": "code",
   "execution_count": null,
   "metadata": {
    "ExecuteTime": {
     "end_time": "2021-12-02T00:28:09.366257Z",
     "start_time": "2021-12-02T00:28:09.366248Z"
    }
   },
   "outputs": [],
   "source": [
    "for infn in in_fn_lst:\n",
    "\n",
    "    outfn=infn.replace(in_folder,save_folder).replace('.npz','.txt')\n",
    "\n",
    "    from lib.utils import *\n",
    "    txt=load_buffer(infn)[0]\n",
    "    txt.shape\n",
    "\n",
    "    width,height,chno=txt.shape\n",
    "    txt2=txt.reshape((width*height,chno))\n",
    "\n",
    "    #verify inversion is correct\n",
    "    txt3=txt2.reshape((width,height,chno))\n",
    "    assert ( np.max(np.abs(txt3-txt))==0 )\n",
    "\n",
    "    np.savetxt(outfn,txt2,fmt='%.3e')#, encoding='bytes')#'latin1')#"
   ]
  },
  {
   "cell_type": "code",
   "execution_count": null,
   "metadata": {
    "ExecuteTime": {
     "end_time": "2021-12-02T00:28:09.367049Z",
     "start_time": "2021-12-02T00:28:09.367038Z"
    }
   },
   "outputs": [],
   "source": [
    "#test that 4 sig figs is enough to reproduce SDC\n",
    "# width,height,chno=(1800, 1800, 18)\n",
    "width,height,chno=(1800, 1800,3)\n",
    "txt3=np.loadtxt(outfn).reshape((width,height,chno))\n",
    "#take a subset to mimic real conditions\n",
    "txt4=txt3[0:300,0:300].copy()"
   ]
  },
  {
   "cell_type": "code",
   "execution_count": null,
   "metadata": {
    "ExecuteTime": {
     "end_time": "2021-12-02T00:28:09.367817Z",
     "start_time": "2021-12-02T00:28:09.367806Z"
    }
   },
   "outputs": [],
   "source": [
    "# txt4=txt3[0:300,0:300].copy()\n",
    "nsteps=1000\n",
    "for step in range(nsteps):\n",
    "    one_step(inVc, outVc, inmhjdfx, outmhjdfx, dVcdt)\n",
    "t+=dt*nsteps\n",
    "beep(4)"
   ]
  },
  {
   "cell_type": "code",
   "execution_count": null,
   "metadata": {
    "ExecuteTime": {
     "end_time": "2021-12-02T00:28:09.368546Z",
     "start_time": "2021-12-02T00:28:09.368537Z"
    }
   },
   "outputs": [],
   "source": [
    "width,height,chno=txt4.shape"
   ]
  },
  {
   "cell_type": "code",
   "execution_count": null,
   "metadata": {
    "ExecuteTime": {
     "end_time": "2021-12-02T00:28:09.369291Z",
     "start_time": "2021-12-02T00:28:09.369281Z"
    }
   },
   "outputs": [],
   "source": [
    "dt, arr39, one_step=get_one_step_explicit_synchronous_splitting(nb_dir,dt=0.1,width=width,height=height,ds=0.025*width)\n",
    "inVc, outVc, inmhjdfx, outmhjdfx, dVcdt=unstack_txt(txt4)\n",
    "one_step(inVc, outVc, inmhjdfx, outmhjdfx, dVcdt)\n",
    "t=dt"
   ]
  },
  {
   "cell_type": "code",
   "execution_count": null,
   "metadata": {
    "ExecuteTime": {
     "end_time": "2021-12-02T00:28:09.370114Z",
     "start_time": "2021-12-02T00:28:09.370104Z"
    }
   },
   "outputs": [],
   "source": [
    "t=0.;\n",
    "txt=txt4.copy()\n",
    "nsteps=2000\n",
    "txt=one_step_map_gpu(txt,nsteps)\n",
    "# for step in range(nsteps):\n",
    "#     one_step(inVc, outVc, inmhjdfx, outmhjdfx, dVcdt)\n",
    "t+=dt*nsteps\n",
    "beep(4)"
   ]
  },
  {
   "cell_type": "code",
   "execution_count": null,
   "metadata": {
    "ExecuteTime": {
     "end_time": "2021-12-02T00:28:09.370720Z",
     "start_time": "2021-12-02T00:28:09.370710Z"
    }
   },
   "outputs": [],
   "source": [
    "#visualize buffer\n",
    "plt.subplots(figsize=(3,3))\n",
    "plt.imshow(txt[...,0],cmap='gray')\n",
    "# plt.imshow(inVc[...,0],cmap='gray')\n",
    "# plt.imshow(inmhjdfx[...,-6],cmap='gray')\n",
    "# plt.imshow(dVcdt[...,0],cmap='gray')\n",
    "plt.axis('off')\n",
    "plt.show()\n",
    "txt.shape"
   ]
  },
  {
   "cell_type": "code",
   "execution_count": null,
   "metadata": {
    "ExecuteTime": {
     "end_time": "2021-12-02T00:28:09.371465Z",
     "start_time": "2021-12-02T00:28:09.371455Z"
    }
   },
   "outputs": [],
   "source": [
    "#NOPE: pickles cause security threats\n",
    "# #txt's are >500MB even after rounding...  try to pickle it!\n",
    "# import numpy\n",
    "# import pickle\n",
    "# arr = txt#numpy.array([[1, 2], [3, 4]])\n",
    "# pickle.dump(arr, open(\"sample.pkl\", \"w\"))"
   ]
  },
  {
   "cell_type": "code",
   "execution_count": null,
   "metadata": {
    "ExecuteTime": {
     "end_time": "2021-12-02T00:28:09.372148Z",
     "start_time": "2021-12-02T00:28:09.372138Z"
    }
   },
   "outputs": [],
   "source": [
    "get_one_step_explicit_synchronous_splitting"
   ]
  },
  {
   "cell_type": "code",
   "execution_count": null,
   "metadata": {
    "ExecuteTime": {
     "end_time": "2021-12-02T00:28:09.372918Z",
     "start_time": "2021-12-02T00:28:09.372908Z"
    }
   },
   "outputs": [],
   "source": [
    "100/3"
   ]
  },
  {
   "cell_type": "markdown",
   "metadata": {},
   "source": [
    "__NOTE__ if I set the max buffer for simulation to size 1800x1800, then the largest integration by $t=100$ ms takes 100 minutes\n",
    "- at 300x300, integration by $t=100$ ms takes 3 minutes\n",
    "- it is BOO that 4 sig figs is enough to restart SDC"
   ]
  },
  {
   "cell_type": "code",
   "execution_count": null,
   "metadata": {
    "ExecuteTime": {
     "end_time": "2021-12-02T00:28:09.373592Z",
     "start_time": "2021-12-02T00:28:09.373582Z"
    }
   },
   "outputs": [],
   "source": [
    "# __qualname__\n",
    "# __module__\n",
    "get_compute_all_spiral_tips.__dir__"
   ]
  },
  {
   "cell_type": "code",
   "execution_count": null,
   "metadata": {
    "ExecuteTime": {
     "end_time": "2021-12-02T00:28:09.374411Z",
     "start_time": "2021-12-02T00:28:09.374401Z"
    }
   },
   "outputs": [],
   "source": [
    "# array1=inVc[...,0]\n",
    "# array2=dVcdt[...,0]\n",
    "# level1=-50.\n",
    "# level2=0.\n",
    "# retval=find_intersections(array1,array2,level1,level2)\n",
    "# x_lst=retval[0]\n",
    "# y_lst=retval[1]\n",
    "# n_tips=len(x_lst)"
   ]
  },
  {
   "cell_type": "code",
   "execution_count": null,
   "metadata": {
    "ExecuteTime": {
     "end_time": "2021-02-05T22:51:03.176627Z",
     "start_time": "2021-02-05T22:51:03.124020Z"
    }
   },
   "outputs": [],
   "source": []
  },
  {
   "cell_type": "code",
   "execution_count": null,
   "metadata": {
    "ExecuteTime": {
     "end_time": "2021-12-02T00:28:09.374979Z",
     "start_time": "2021-12-02T00:28:09.374969Z"
    }
   },
   "outputs": [],
   "source": [
    "dict_out_lst=[]\n",
    "compute_all_spiral_tips= get_compute_all_spiral_tips(mode='simp',width=width,height=height)\n",
    "\n",
    "img=inVc[...,0]\n",
    "dimgdt=dVcdt[...,0]\n",
    "dict_out=compute_all_spiral_tips(t,img,dimgdt,level1,level2)#,width=width,height=height)\n",
    "\n",
    "#save tip data\n",
    "n_tips=dict_out['n']\n",
    "# n_tips_lst.append(n_tips)\n",
    "# t_lst.append(t)\n",
    "dict_out_lst.append(dict_out)"
   ]
  },
  {
   "cell_type": "code",
   "execution_count": null,
   "metadata": {
    "ExecuteTime": {
     "end_time": "2021-02-05T22:54:35.138461Z",
     "start_time": "2021-02-05T22:54:35.086105Z"
    }
   },
   "outputs": [],
   "source": []
  },
  {
   "cell_type": "code",
   "execution_count": null,
   "metadata": {
    "ExecuteTime": {
     "end_time": "2021-02-05T23:38:01.113667Z",
     "start_time": "2021-02-05T23:36:30.890742Z"
    }
   },
   "outputs": [],
   "source": []
  },
  {
   "cell_type": "code",
   "execution_count": null,
   "metadata": {
    "ExecuteTime": {
     "end_time": "2021-12-02T00:28:09.375621Z",
     "start_time": "2021-12-02T00:28:09.375610Z"
    }
   },
   "outputs": [],
   "source": [
    "get_txt"
   ]
  },
  {
   "cell_type": "code",
   "execution_count": null,
   "metadata": {
    "ExecuteTime": {
     "end_time": "2021-12-02T00:28:09.376440Z",
     "start_time": "2021-12-02T00:28:09.376430Z"
    }
   },
   "outputs": [],
   "source": [
    "txt.shape"
   ]
  },
  {
   "cell_type": "code",
   "execution_count": null,
   "metadata": {
    "ExecuteTime": {
     "end_time": "2021-12-02T00:28:09.377171Z",
     "start_time": "2021-12-02T00:28:09.377160Z"
    }
   },
   "outputs": [],
   "source": [
    "!ls ic\n"
   ]
  },
  {
   "cell_type": "code",
   "execution_count": null,
   "metadata": {
    "ExecuteTime": {
     "end_time": "2021-12-02T00:28:09.377813Z",
     "start_time": "2021-12-02T00:28:09.377802Z"
    }
   },
   "outputs": [],
   "source": [
    "# from lib.routines import generate_tip_logs_from_ic"
   ]
  },
  {
   "cell_type": "code",
   "execution_count": null,
   "metadata": {
    "ExecuteTime": {
     "end_time": "2021-12-02T00:28:09.378379Z",
     "start_time": "2021-12-02T00:28:09.378369Z"
    }
   },
   "outputs": [],
   "source": [
    "# generate_tip_logs_from_ic((initial_condition_dir, h, tmax, V_threshold, dsdpixel, tmin_early_stopping, save_every_n_frames, round_output_decimals, printing, logging, asserting, saving, data_dir_log, completed_ic_dir, print_log_dir, Ca_i_initial=0.0002, Vmax=45.0, Vmin=-75.0, **kwargs))"
   ]
  },
  {
   "cell_type": "code",
   "execution_count": null,
   "metadata": {
    "ExecuteTime": {
     "end_time": "2021-12-02T00:28:09.379100Z",
     "start_time": "2021-12-02T00:28:09.379090Z"
    }
   },
   "outputs": [],
   "source": [
    "tmax=30000\n",
    "np.arange(t,tmax,dt)"
   ]
  },
  {
   "cell_type": "code",
   "execution_count": null,
   "metadata": {
    "ExecuteTime": {
     "end_time": "2021-12-02T00:28:09.379774Z",
     "start_time": "2021-12-02T00:28:09.379763Z"
    }
   },
   "outputs": [],
   "source": [
    "# def get_one_step_map(nb_dir,dt,dsdpixel,width,height,**kwargs):\n",
    "# \t'''Example Usage:\n",
    "# \tdt, one_step_map= get_one_step_map(nb_dir,dt,dsdpixel,width,height,**kwargs)\n",
    "# \t'''\n",
    "# \t#make null stimulus\n",
    "# \tds=dsdpixel*width\n",
    "# \ttxt_Istim=np.zeros(shape=(width,height,1), dtype=np.float64, order='C')\n",
    "# \tdt, kernelA, kernelB=get_one_step_explicit_synchronous_splitting_w_Istim_kernel(nb_dir,dt,width,height,ds)\n",
    "\n",
    "# \t#get one step map\n",
    "# \t# txt_Istim=txt_Istim_none.copy()\n",
    "# \t@njit\n",
    "# \tdef one_step_map(txt):\n",
    "# \t\tkernelA(txt,txt_Istim)\n",
    "# \t\tkernelB(txt,txt_Istim)\n",
    "\n",
    "# \treturn dt, one_step_map\n"
   ]
  },
  {
   "cell_type": "markdown",
   "metadata": {},
   "source": [
    "## test the routine for generating the raw tip locations"
   ]
  },
  {
   "cell_type": "code",
   "execution_count": null,
   "metadata": {
    "ExecuteTime": {
     "end_time": "2021-12-02T00:28:09.380547Z",
     "start_time": "2021-12-02T00:28:09.380537Z"
    }
   },
   "outputs": [],
   "source": [
    "from lib.utils import get_txt\n",
    "txt=get_txt(3,1,200,200,nb_dir)\n",
    "width,height,chno=txt.shape\n",
    "dt=0.1\n",
    "dsdpixel=0.025\n"
   ]
  },
  {
   "cell_type": "code",
   "execution_count": null,
   "metadata": {
    "ExecuteTime": {
     "end_time": "2021-02-06T01:51:40.492665Z",
     "start_time": "2021-02-06T01:50:40.579Z"
    }
   },
   "outputs": [],
   "source": []
  },
  {
   "cell_type": "code",
   "execution_count": null,
   "metadata": {
    "ExecuteTime": {
     "end_time": "2021-12-02T00:28:09.381194Z",
     "start_time": "2021-12-02T00:28:09.381167Z"
    }
   },
   "outputs": [],
   "source": [
    "\n",
    "# from lib.model.LR_model_optimized_w_Istim import *\n",
    "# dt,one_step_map=get_one_step_map(nb_dir, dt, dsdpixel, width, height)#, **kwargs)\n",
    "# # dt, one_step_map= get_one_step_map(nb_dir,dt,dsdpixel,width,height)#,**kwargs)\n",
    "# # txt_Istim_none=np.zeros(shape=(width,height,1), dtype=np.float64, order='C')\n",
    "# beep(4)"
   ]
  },
  {
   "cell_type": "code",
   "execution_count": null,
   "metadata": {
    "ExecuteTime": {
     "end_time": "2021-12-02T00:28:09.381918Z",
     "start_time": "2021-12-02T00:28:09.381908Z"
    }
   },
   "outputs": [],
   "source": [
    "from lib.routines.return_tip_log import return_tips_from_txt\n",
    "\n",
    "#TODO: test return_tips_from_txt\n",
    "df=return_tips_from_txt(\n",
    "    txt=txt,\n",
    "    h=0.1,\n",
    "    tmax=200,\n",
    "    V_threshold=-50,\n",
    "    dsdpixel=0.025,\n",
    "    tmin_early_stopping=100,\n",
    "    save_every_n_frames=10,\n",
    "    round_output_decimals=5)#,\n",
    "#     **kwargs)\n",
    "beep(4)\n",
    "if df is not None:\n",
    "    df.head()"
   ]
  },
  {
   "cell_type": "code",
   "execution_count": null,
   "metadata": {
    "ExecuteTime": {
     "end_time": "2021-12-02T00:28:09.382778Z",
     "start_time": "2021-12-02T00:28:09.382755Z"
    }
   },
   "outputs": [],
   "source": [
    "# from lib.controller.controller_LR import *#get_one_step_explicit_synchronous_splitting as get_one_step\n",
    "# dt, one_step_map = get_one_step_map(nb_dir,dt)#,**kwargs)#,dsdpixel,width,height,**kwargs)\n",
    "# # kwargs.update({'width':width,'height':height})\n",
    "# beep(4)\n",
    "df.head()"
   ]
  },
  {
   "cell_type": "code",
   "execution_count": null,
   "metadata": {
    "ExecuteTime": {
     "end_time": "2021-12-02T00:28:09.383392Z",
     "start_time": "2021-12-02T00:28:09.383382Z"
    }
   },
   "outputs": [],
   "source": [
    "# t=0.\n",
    "# txt_Istim_none=np.zeros(shape=(width,height), dtype=np.float64, order='C')\n",
    "# while (t<1):\n",
    "#     one_step_map(txt,txt_Istim_none)\n",
    "#     t+=dt\n",
    "# t=\n",
    "np.around(1.0999999999,decimals=1)"
   ]
  },
  {
   "cell_type": "code",
   "execution_count": null,
   "metadata": {
    "ExecuteTime": {
     "end_time": "2021-02-06T01:30:22.292217Z",
     "start_time": "2021-02-06T01:30:22.237055Z"
    }
   },
   "outputs": [],
   "source": []
  },
  {
   "cell_type": "code",
   "execution_count": null,
   "metadata": {
    "ExecuteTime": {
     "end_time": "2021-12-02T00:28:09.384103Z",
     "start_time": "2021-12-02T00:28:09.384093Z"
    }
   },
   "outputs": [],
   "source": [
    "df\n",
    "# del txt"
   ]
  },
  {
   "cell_type": "code",
   "execution_count": null,
   "metadata": {
    "ExecuteTime": {
     "end_time": "2021-12-02T00:28:09.384664Z",
     "start_time": "2021-12-02T00:28:09.384655Z"
    }
   },
   "outputs": [],
   "source": [
    "plt.imshow(txt[...,0],cmap='gray')"
   ]
  },
  {
   "cell_type": "code",
   "execution_count": null,
   "metadata": {
    "ExecuteTime": {
     "end_time": "2021-12-02T00:28:09.385314Z",
     "start_time": "2021-12-02T00:28:09.385304Z"
    }
   },
   "outputs": [],
   "source": [
    "h=0.1;\n",
    "tmax=.15;\n",
    "V_threshold=-50;\n",
    "dsdpixel=0.025;\n",
    "tmin_early_stopping=100;\n",
    "save_every_n_frames=40;\n",
    "round_output_decimals=5"
   ]
  },
  {
   "cell_type": "code",
   "execution_count": null,
   "metadata": {
    "ExecuteTime": {
     "end_time": "2021-12-02T00:28:09.386080Z",
     "start_time": "2021-12-02T00:28:09.386070Z"
    }
   },
   "outputs": [],
   "source": [
    "compute_all_spiral_tips= get_compute_all_spiral_tips(mode='simp',width=width,height=height)\n",
    "inVc, outVc, inmhjdfx, outmhjdfx, dVcdt=unstack_txt(txt)\n",
    "img=inVc[...,0]\n",
    "dimgdt=dVcdt[...,0]\n",
    "dict_out=compute_all_spiral_tips(t,img,dimgdt,level1=-50,level2=0)#,width=width,height=height)\n"
   ]
  },
  {
   "cell_type": "code",
   "execution_count": null,
   "metadata": {
    "ExecuteTime": {
     "end_time": "2021-12-02T00:28:09.386736Z",
     "start_time": "2021-12-02T00:28:09.386725Z"
    }
   },
   "outputs": [],
   "source": [
    "dict_out"
   ]
  },
  {
   "cell_type": "code",
   "execution_count": null,
   "metadata": {
    "ExecuteTime": {
     "end_time": "2021-12-02T00:28:09.387380Z",
     "start_time": "2021-12-02T00:28:09.387370Z"
    }
   },
   "outputs": [],
   "source": [
    "def return_unwrapped_trajectory(df, width, height, sr, mem, dsdpixel, use_cache=True, **kwargs):\n",
    "    '''df is a pandas.DataFrame containing the tip log results.'''\n",
    "    # generate_track_tips_pbc\n",
    "    df.drop_duplicates(subset=['t','x','y'],keep='first',inplace=True)\n",
    "    #,ignore_index=True)\n",
    "    df = compute_track_tips_pbc(df, mem, sr, width, height)#,**kwargs)\n",
    "    # unwrap_trajectories\n",
    "    pid_lst = sorted(set(df.particle.values))\n",
    "    df = pd.concat([unwrap_traj_and_center(df[df.particle==pid], width, height, DS) for pid in pid_lst])\n",
    "    return df\n"
   ]
  },
  {
   "cell_type": "code",
   "execution_count": null,
   "metadata": {
    "ExecuteTime": {
     "end_time": "2021-12-02T00:28:09.388118Z",
     "start_time": "2021-12-02T00:28:09.388090Z"
    }
   },
   "outputs": [],
   "source": [
    "# \tunwrapped_fn=log_to_unwrapped_trajectory(log_dir, use_cache=True,width=width, height=height,\n",
    "# \t\t\t\t\t\t\t\t\t\t\t sr=sr, mem=mem)\n",
    "from lib import *"
   ]
  },
  {
   "cell_type": "code",
   "execution_count": null,
   "metadata": {
    "ExecuteTime": {
     "end_time": "2021-12-02T00:28:09.389179Z",
     "start_time": "2021-12-02T00:28:09.389168Z"
    }
   },
   "outputs": [],
   "source": [
    "mem=0;sr=width*2;DS=dsdpixel\n",
    "# generate_track_tips_pbc\n",
    "df.drop_duplicates(subset=['t','x','y'],keep='first',inplace=True)#,ignore_index=True)\n",
    "df = compute_track_tips_pbc(df, mem, sr, width, height)#,**kwargs)\n",
    "# unwrap_trajectories\n",
    "pid_lst = sorted(set(df.particle.values))\n",
    "df = pd.concat([unwrap_traj_and_center(df[df.particle==pid], width, height, DS) for pid in pid_lst])\n",
    "# df = pd.concat([unwrap_traj_and_center(df[df.particle==pid], width, height, DS, **kwargs) for pid in pid_lst])"
   ]
  },
  {
   "cell_type": "code",
   "execution_count": null,
   "metadata": {
    "ExecuteTime": {
     "end_time": "2021-12-02T00:28:09.390001Z",
     "start_time": "2021-12-02T00:28:09.389991Z"
    }
   },
   "outputs": [],
   "source": [
    "df=return_unwrapped_trajectory(df, width, height, sr, mem, dsdpixel, use_cache=True)#, **kwargs)\n"
   ]
  },
  {
   "cell_type": "code",
   "execution_count": null,
   "metadata": {
    "ExecuteTime": {
     "end_time": "2021-12-02T00:28:09.390726Z",
     "start_time": "2021-12-02T00:28:09.390716Z"
    }
   },
   "outputs": [],
   "source": [
    "def return_longest_trajectories(df, width, height, dsdpixel, n_tips = 1, DT = 2., \n",
    "                                round_t_to_n_digits=0, jump_thresh=20., **kwargs):\n",
    "    DS=dsdpixel\n",
    "    if n_tips==1:\n",
    "        df.reset_index(inplace=True)\n",
    "        try:\n",
    "            s = df.groupby('particle').t.count()\n",
    "        except KeyError as e:#(\"KeyError\") as e:\n",
    "            # print(e)\n",
    "            print( f\"\\t trial that failed: {input_file_name.split('/')[-1]}\")\n",
    "            return None\n",
    "        s = s.sort_values(ascending=True)\n",
    "        pid_longest_lst = list(s.index.values)#[:n_tips])\n",
    "        pid=pid_longest_lst.pop()\n",
    "        std_diffx=df[(df.particle==pid)].x.diff().dropna().std()\n",
    "        boo=False\n",
    "        if std_diffx:#.diff().dropna().x.std\n",
    "            if std_diffx>0:\n",
    "                boo=True\n",
    "        while not boo:\n",
    "            pid=pid_longest_lst.pop()\n",
    "            std_diffx=df[(df.particle==pid)].x.diff().dropna().std()\n",
    "            boo=False\n",
    "            if std_diffx:#.diff().dropna().x.std\n",
    "                if std_diffx>0:\n",
    "                    boo=True\n",
    "        pid_longest_lst=[pid]\n",
    "    else:\n",
    "        try:\n",
    "            s = df.groupby('particle').t.count()\n",
    "        except KeyError as e:#(\"KeyError\") as e:\n",
    "            # print(e)\n",
    "            print( f\"\\t trial that failed: {input_file_name.split('/')[-1]}\")\n",
    "            return None\n",
    "        s = s.sort_values(ascending=False)\n",
    "        pid_longest_lst = list(s.index.values[:n_tips])\n",
    "    #     df_traj = pd.concat([df[df.particle==pid] for pid in pid_longest_lst])\n",
    "\n",
    "    #truncate trajectories to their first apparent jump (pbc jumps should have been removed already)\n",
    "    df_lst = []\n",
    "    for pid in  pid_longest_lst:#[2:]:\n",
    "        d = df[(df.particle==pid)].copy()\n",
    "        x_values, y_values = d[['x','y']].values.T\n",
    "        index_values = d.index.values.T\n",
    "        jump_index_array, spd_lst = find_jumps(x_values,y_values,width,height, DS=DS,DT=DT, jump_thresh=jump_thresh, **kwargs)#.25)\n",
    "        if len(jump_index_array)>0:\n",
    "            ji = jump_index_array[0]\n",
    "            d.drop(index=index_values[ji:], inplace=True)\n",
    "        df_lst.append(d)\n",
    "    df_traj = pd.concat(df_lst)\n",
    "\n",
    "    #round trajectory times to remove machine noise from floating point arithmatic\n",
    "    df_traj['t'] = df_traj.t.round(round_t_to_n_digits)\n",
    "    # df_traj['x'] = df_traj.x.round(6)\n",
    "    # df_traj['y'] = df_traj.y.round(6)\n",
    "    df_traj['grad_ux'] = df_traj.grad_ux.round(5)\n",
    "    df_traj['grad_uy'] = df_traj.grad_uy.round(5)\n",
    "    df_traj['grad_vx'] = df_traj.grad_vx.round(5)\n",
    "    df_traj['grad_vy'] = df_traj.grad_vy.round(5)\n",
    "    #     assert ( (np.array(sorted(set(df_traj['particle'].values)))==np.array(sorted(pid_longest_lst))).all())\n",
    "    return df_traj\n"
   ]
  },
  {
   "cell_type": "code",
   "execution_count": null,
   "metadata": {
    "ExecuteTime": {
     "end_time": "2021-12-02T00:28:09.391662Z",
     "start_time": "2021-12-02T00:28:09.391651Z"
    }
   },
   "outputs": [],
   "source": [
    "#print the longest lasting trajecotry that moves\n",
    "df=return_longest_trajectories(df, width, height, dsdpixel, n_tips = 1, DT = 2., \n",
    "                                round_t_to_n_digits=0, jump_thresh=20.)#, **kwargs)\n",
    "print(df.to_string())"
   ]
  },
  {
   "cell_type": "code",
   "execution_count": null,
   "metadata": {
    "ExecuteTime": {
     "end_time": "2021-12-02T00:28:09.392878Z",
     "start_time": "2021-12-02T00:28:09.392867Z"
    }
   },
   "outputs": [],
   "source": [
    "print (df)"
   ]
  },
  {
   "cell_type": "code",
   "execution_count": null,
   "metadata": {
    "ExecuteTime": {
     "end_time": "2021-12-02T00:28:09.393615Z",
     "start_time": "2021-12-02T00:28:09.393600Z"
    }
   },
   "outputs": [],
   "source": [
    "# print(df.to_string())\n",
    "import random"
   ]
  },
  {
   "cell_type": "code",
   "execution_count": null,
   "metadata": {
    "ExecuteTime": {
     "end_time": "2021-12-02T00:28:09.394413Z",
     "start_time": "2021-12-02T00:28:09.394403Z"
    }
   },
   "outputs": [],
   "source": [
    "width_in=1800\n",
    "max_area=900**2 #sqpixels\n",
    "min_area=200**2 #sqpixels\n",
    "L=int(np.floor(np.sqrt(100*random.randint(min_area/100,max_area/100))))#UNCOMMENT_HERE\n",
    "# L=int(np.floor(np.sqrt(random.uniform(min_area,max_area))))#COMMENT_HERE\n",
    "L"
   ]
  },
  {
   "cell_type": "code",
   "execution_count": null,
   "metadata": {
    "ExecuteTime": {
     "end_time": "2021-12-02T00:28:09.395091Z",
     "start_time": "2021-12-02T00:28:09.395081Z"
    }
   },
   "outputs": [],
   "source": [
    "# (min_area*0.025**2,max_area*0.025**2)\n",
    "unwrap_traj_and_center"
   ]
  },
  {
   "cell_type": "markdown",
   "metadata": {},
   "source": [
    "The above max_area and min_area give a range of domain sizes from 25cm^2 to 505cm^2"
   ]
  },
  {
   "cell_type": "code",
   "execution_count": null,
   "metadata": {
    "ExecuteTime": {
     "end_time": "2021-12-02T00:28:09.395729Z",
     "start_time": "2021-12-02T00:28:09.395719Z"
    },
    "scrolled": true
   },
   "outputs": [],
   "source": [
    "txt=get_txt(0,0,100,100,nb_dir)"
   ]
  },
  {
   "cell_type": "markdown",
   "metadata": {},
   "source": [
    "# Create Initial Conditions That Result in Spiral Defect Chaos for the Fenton-Karma model\n",
    "Tim Tyree<br>\n",
    "2.9.2021"
   ]
  },
  {
   "cell_type": "markdown",
   "metadata": {},
   "source": [
    "## initialize a 600x600 square computational domain with the correct number of channels and as repolarized excitable myocardial tissue"
   ]
  },
  {
   "cell_type": "code",
   "execution_count": null,
   "metadata": {
    "ExecuteTime": {
     "end_time": "2021-12-02T00:28:09.396418Z",
     "start_time": "2021-12-02T00:28:09.396408Z"
    }
   },
   "outputs": [],
   "source": [
    "# #fast, local, cythonic tip logging for FK model\n",
    "# from lib.routines.kwargs_cy import get_kwargs\n",
    "# from lib.routines.generate_tip_logs_cy import generate_tip_logs_from_ic\n",
    "# # get_kwargs\n",
    "# def run_routine(ic):\n",
    "#     kwargs = get_kwargs(ic,ds=ds, results_folder=results_folder,param_fn=param_fn)\n",
    "#     kwargs['V_threshold'] = 0.4\n",
    "#     kwargs['ds']=ds\n",
    "#     kwargs['h']=0.025# kwargs['h']=0.01 for ds_1_param_set_8 for stability\n",
    "    \n",
    "#     kwargs = generate_tip_logs_from_ic(ic, **kwargs)\n",
    "#     return True"
   ]
  },
  {
   "cell_type": "code",
   "execution_count": null,
   "metadata": {
    "ExecuteTime": {
     "end_time": "2021-12-02T00:28:09.397047Z",
     "start_time": "2021-12-02T00:28:09.397037Z"
    }
   },
   "outputs": [],
   "source": [
    "#one_step_method\n",
    "# from inspect import getsource\n",
    "# print(getsource(generate_tip_logs_from_ic))"
   ]
  },
  {
   "cell_type": "code",
   "execution_count": null,
   "metadata": {
    "ExecuteTime": {
     "end_time": "2021-12-02T00:28:09.398026Z",
     "start_time": "2021-12-02T00:28:09.398016Z"
    }
   },
   "outputs": [],
   "source": [
    "def get_blank_txt_FK(width,height,V_initial=0.,f_initial = 1.,s_initial=1.):#1.98799363e-02, s_initial=4.66179786e-01):\n",
    "    zero=np.zeros(shape=(width,height,3), dtype=np.float64, order='C')\n",
    "    #allocate memory to texture\n",
    "    txt=zero.copy()\n",
    "    txt[...,0]+=V_initial\n",
    "    txt[...,1]+=f_initial\n",
    "    txt[...,2]+=s_initial\n",
    "    return txt"
   ]
  },
  {
   "cell_type": "code",
   "execution_count": null,
   "metadata": {
    "ExecuteTime": {
     "end_time": "2021-12-02T00:28:09.398684Z",
     "start_time": "2021-12-02T00:28:09.398661Z"
    }
   },
   "outputs": [],
   "source": [
    "width=600;height=600\n",
    "dsdpixel=0.025\n",
    "V_threshold = 0.4\n",
    "h=0.025# kwarg\n",
    "dt = 0.025\n",
    "n = 40  #half the number of steps between observations of spiral tips\n",
    "DT=2*n*dt\n",
    "param_fn = 'param_set_8_og.json'\n",
    "# param_fn = 'param_set_8.json'\n",
    "param_dir = os.path.join(nb_dir,'lib/model')\n",
    "param_dict = json.load(open(os.path.join(param_dir,param_fn)))\n",
    "#load parameters for parameter set 8 for the Fenton-Karma Model\n",
    "param_file_name = os.path.join(param_dir,param_fn)#'/home/timothytyree/Documents/GitHub/care/notebooks/lib/model/param_set_8.json'\n",
    "kwargs = read_parameters_from_json(param_file_name)\n",
    "get_time_step=fetch_get_time_step(width,height,DX=dsdpixel,DY=dsdpixel,**param_dict)\n",
    "time_step=fetch_time_step(width,height,DX=dsdpixel,DY=dsdpixel,**param_dict)\n",
    "compute_all_spiral_tips= get_compute_all_spiral_tips(mode='simp',width=width,height=height)\n",
    "\n",
    "# width=600\n",
    "# height=600\n",
    "# ds=15.0\n",
    "# dt,one_step_map=get_one_step_map(nb_dir,dt=0.1,width=width,height=height,ds=ds,diffCoef=0.001,dsdpixel=ds/width,Cm=1.0,)\n",
    "ic=get_blank_txt_FK(width,height)\n",
    "\n",
    "time_step=fetch_time_step(width,height,DX=dsdpixel,DY=dsdpixel,**param_dict)\n",
    "zero_txt=np.zeros_like(txt)\n",
    "Cm=1.\n",
    "def one_step_map(txt,txt_Istim):\n",
    "    time_step(txt, h, zero_txt)\n",
    "    txt[...,0]-=h*txt_Istim/Cm\n",
    "    \n"
   ]
  },
  {
   "cell_type": "code",
   "execution_count": null,
   "metadata": {
    "ExecuteTime": {
     "end_time": "2021-12-02T00:28:09.399430Z",
     "start_time": "2021-12-02T00:28:09.399420Z"
    }
   },
   "outputs": [],
   "source": [
    "from lib.model.minimal_model_cuda import *\n",
    "from lib.controller.controller_cuda import *\n",
    "from lib.utils.utils_jsonio import *\n",
    "\n",
    "\n",
    "# ic = load_buffer(input_file_name)\n",
    "height, width, channel_no = ic.shape\n",
    "\n",
    "#map initial condition to the three initial scalar fields\n",
    "u_initial = np.array(ic.astype(np.float64)[...,0])\n",
    "v_initial = np.array(ic.astype(np.float64)[...,1])\n",
    "w_initial = np.array(ic.astype(np.float64)[...,2])"
   ]
  },
  {
   "cell_type": "code",
   "execution_count": null,
   "metadata": {
    "ExecuteTime": {
     "end_time": "2021-12-02T00:28:09.400278Z",
     "start_time": "2021-12-02T00:28:09.400268Z"
    }
   },
   "outputs": [],
   "source": [
    "# #load parameters for parameter set 8 for the Fenton-Karma Model\n",
    "# param_file_name = '/home/timothytyree/Documents/GitHub/care/notebooks/lib/model/param_set_8.json'\n",
    "# kwargs = read_parameters_from_json(param_file_name)"
   ]
  },
  {
   "cell_type": "code",
   "execution_count": null,
   "metadata": {
    "ExecuteTime": {
     "end_time": "2021-12-02T00:28:09.400852Z",
     "start_time": "2021-12-02T00:28:09.400842Z"
    }
   },
   "outputs": [],
   "source": [
    "kernel_string = get_kernel_string_FK_model(**kwargs, DT=dt,DX=0.025,height=height,width=width)\n",
    "\n",
    "#initializing cuda context\n",
    "#initialize PyCuda and get compute capability needed for compilation\n",
    "context = drv.Device(0).make_context()\n",
    "devprops = { str(k): v for (k, v) in context.get_device().get_attributes().items() }\n",
    "cc = str(devprops['COMPUTE_CAPABILITY_MAJOR']) + str(devprops['COMPUTE_CAPABILITY_MINOR'])\n",
    "\n",
    "#define how resources are used\n",
    "# width  = kwargs['width']\n",
    "# height = kwargs['height']\n",
    "threads = (16,32,1)\n",
    "grid = (int(width/10), int(height/10), 1)\n",
    "block_size_string = \"#define block_size_x 10\\n#define block_size_y 10\\n\"\n",
    "\n",
    "#don't allocate memory many times for the same task!\n",
    "#allocate GPU memory for voltage scalar field\n",
    "u_old = drv.mem_alloc(u_initial.nbytes)\n",
    "u_new = drv.mem_alloc(u_initial.nbytes)\n",
    "\n",
    "#allocate GPU memory for v and w auxiliary fields\n",
    "v_old = drv.mem_alloc(v_initial.nbytes)\n",
    "v_new = drv.mem_alloc(v_initial.nbytes)\n",
    "w_old = drv.mem_alloc(w_initial.nbytes)\n",
    "w_new = drv.mem_alloc(w_initial.nbytes)\n",
    "\n",
    "#setup thread block dimensions and compile the kernel\n",
    "mod = SourceModule(block_size_string+kernel_string)\n",
    "time_step_kernel = mod.get_function(\"time_step_kernel\")\n",
    "\n",
    "\n",
    "one_step_map_gpu=get_one_step_map(time_step_kernel,drv,\n",
    "                             u_new, u_old, v_new, v_old, w_new, w_old,\n",
    "                             threads, grid,context)"
   ]
  },
  {
   "cell_type": "code",
   "execution_count": null,
   "metadata": {
    "ExecuteTime": {
     "end_time": "2021-12-02T00:28:09.401480Z",
     "start_time": "2021-12-02T00:28:09.401469Z"
    }
   },
   "outputs": [],
   "source": [
    "# #forward Euler integration in time\n",
    "# tf=250;\n",
    "# nsteps=tf/h\n",
    "# for stepno in range(500):\n",
    "#     time_step(txt, h, zero_txt)\n",
    "# txt"
   ]
  },
  {
   "cell_type": "code",
   "execution_count": null,
   "metadata": {
    "ExecuteTime": {
     "end_time": "2021-12-02T00:28:09.402206Z",
     "start_time": "2021-12-02T00:28:09.402195Z"
    }
   },
   "outputs": [],
   "source": [
    "level1=V_threshold;level2=0.\n",
    "#take measurements once\n",
    "#compute as discrete flow map dtxt_dt\n",
    "dtxt_dt = zero_txt.copy()\n",
    "get_time_step(txt, dtxt_dt)\n",
    "\n",
    "#compute the images used to find isosurfaces\n",
    "img    = txt[...,0]\n",
    "dimgdt = dtxt_dt[...,0]\n",
    "\n",
    "# find_intersections\n",
    "retval = find_intersections(img,dimgdt,level1,level2)\n",
    "lst_values_x,lst_values_y,lst_values_theta, lst_values_grad_ux, lst_values_grad_uy, lst_values_grad_vx, lst_values_grad_vy = retval\n",
    "x_values = np.array(lst_values_x)\n",
    "y_values = np.array(lst_values_y)\n",
    "print(x_values)"
   ]
  },
  {
   "cell_type": "code",
   "execution_count": null,
   "metadata": {
    "ExecuteTime": {
     "end_time": "2021-12-02T00:28:09.402871Z",
     "start_time": "2021-12-02T00:28:09.402861Z"
    }
   },
   "outputs": [],
   "source": [
    "#(not terribly useful) get the forward integrate kernel\n",
    "# forward_integrate_kernel= get_forward_integrate_kernel(nb_dir,dt,width,height,ds,diffCoef=0.001,Cm=1.)"
   ]
  },
  {
   "cell_type": "markdown",
   "metadata": {
    "heading_collapsed": true
   },
   "source": [
    "### DONE: test - time step a number of times and verify that nothing happens/nothing spikes spontaneously"
   ]
  },
  {
   "cell_type": "code",
   "execution_count": null,
   "metadata": {
    "ExecuteTime": {
     "end_time": "2021-12-02T00:28:09.403842Z",
     "start_time": "2021-12-02T00:28:09.403831Z"
    },
    "hidden": true
   },
   "outputs": [],
   "source": [
    "#forward Euler integration in time\n",
    "tf=1000;\n",
    "txt=ic.copy()\n",
    "txt_prv=txt.copy()\n",
    "nsteps=int(tf/DT)\n",
    "# for stepno in range(nsteps):\n",
    "txt=one_step_map_gpu(txt,nsteps)\n",
    "#     time_step(txt, h, zero_txt)\n",
    "# for n in range(50):\n",
    "#     one_step_map(txt,txt_Istim_none)\n",
    "txt_nxt=txt.copy()"
   ]
  },
  {
   "cell_type": "code",
   "execution_count": null,
   "metadata": {
    "ExecuteTime": {
     "end_time": "2021-12-02T00:28:09.404564Z",
     "start_time": "2021-12-02T00:28:09.404549Z"
    },
    "hidden": true
   },
   "outputs": [],
   "source": [
    "delta_txt=txt_nxt-txt_prv"
   ]
  },
  {
   "cell_type": "code",
   "execution_count": null,
   "metadata": {
    "ExecuteTime": {
     "end_time": "2021-12-02T00:28:09.405374Z",
     "start_time": "2021-12-02T00:28:09.405363Z"
    },
    "hidden": true
   },
   "outputs": [],
   "source": [
    "chnl=0\n",
    "img=delta_txt[...,chnl]\n",
    "plt.imshow(img,cmap='gray')\n",
    "plt.axis('off')\n",
    "plt.title(f'channel {chnl}',c='w',fontsize=22)\n",
    "plt.show()"
   ]
  },
  {
   "cell_type": "code",
   "execution_count": null,
   "metadata": {
    "ExecuteTime": {
     "end_time": "2021-12-02T00:28:09.405984Z",
     "start_time": "2021-12-02T00:28:09.405974Z"
    },
    "hidden": true
   },
   "outputs": [],
   "source": [
    "print('max absolute differences between input and output, by channel')\n",
    "for chnl in range(3):\n",
    "    img=delta_txt[...,chnl]\n",
    "    print(np.max(np.abs(img)))\n",
    "beep(2)"
   ]
  },
  {
   "cell_type": "code",
   "execution_count": null,
   "metadata": {
    "ExecuteTime": {
     "end_time": "2021-12-02T00:28:09.406784Z",
     "start_time": "2021-12-02T00:28:09.406773Z"
    },
    "hidden": true
   },
   "outputs": [],
   "source": [
    "txt[0,0]"
   ]
  },
  {
   "cell_type": "markdown",
   "metadata": {
    "heading_collapsed": true
   },
   "source": [
    "## define txt_Istim textures that give a line stimulus of constant electric flux\n"
   ]
  },
  {
   "cell_type": "code",
   "execution_count": null,
   "metadata": {
    "ExecuteTime": {
     "end_time": "2021-12-02T00:28:09.407639Z",
     "start_time": "2021-12-02T00:28:09.407629Z"
    },
    "hidden": true
   },
   "outputs": [],
   "source": [
    "chnlno=3#2+2+6+6+2\n",
    "# txt= get_blank_txt_LR(width,height,V_initial=-85.,Ca_i_initial = 2*10**-4)\n",
    "width=600;height=600\n",
    "zero_c2=np.zeros(shape=(width,height,2), dtype=np.float64, order='C')\n",
    "# zero_c6=np.zeros(shape=(width,height,6), dtype=np.float64, order='C')\n",
    "print(f\"# of channels is {chnlno}.\")\n",
    "\n",
    "mag=-1.\n",
    "txt_Istim=zero_c2[...,0].copy()\n",
    "txt_Istim[:,:5]=mag\n",
    "txt_Istim_left=txt_Istim.copy()\n",
    "\n",
    "# mag=-1\n",
    "txt_Istim=zero_c2[...,0].copy()\n",
    "txt_Istim[300:305,:]=mag\n",
    "txt_Istim_top=txt_Istim.copy()\n",
    "\n",
    "txt_Istim_none=zero_c2[...,0].copy()"
   ]
  },
  {
   "cell_type": "code",
   "execution_count": null,
   "metadata": {
    "ExecuteTime": {
     "end_time": "2021-12-02T00:28:09.408570Z",
     "start_time": "2021-12-02T00:28:09.408559Z"
    },
    "hidden": true
   },
   "outputs": [],
   "source": [
    "#make initialization conditions for a semicircular stimulus on the left\n",
    "deg = 45\n",
    "x0 = 600/4\n",
    "y0 = 600/2\n",
    "# mag=-1\n",
    "from lib.controller.draw import *\n",
    "\n",
    "txt_Istim=get_semicircle(zero_c2,deg,x0,y0)\n",
    "txt_Istim*=mag\n",
    "txt_Istim_semi=txt_Istim.copy()"
   ]
  },
  {
   "cell_type": "code",
   "execution_count": null,
   "metadata": {
    "ExecuteTime": {
     "end_time": "2021-12-02T00:28:09.409251Z",
     "start_time": "2021-12-02T00:28:09.409240Z"
    },
    "hidden": true
   },
   "outputs": [],
   "source": [
    "fig,axs=plt.subplots(ncols=3,figsize=(6,9))\n",
    "ax=axs[0]\n",
    "ax.imshow(-txt_Istim_left,cmap='gray')#,vmin=-10, vmax=15)\n",
    "ax.axis('off')\n",
    "ax=axs[1]\n",
    "ax.imshow(-txt_Istim_top,cmap='gray')#,vmin=-10, vmax=15)\n",
    "ax.axis('off')\n",
    "ax=axs[2]\n",
    "ax.imshow(-txt_Istim_semi,cmap='gray')#,vmin=-10, vmax=15)\n",
    "ax.axis('off')\n",
    "plt.show()"
   ]
  },
  {
   "cell_type": "markdown",
   "metadata": {
    "heading_collapsed": true
   },
   "source": [
    "## (success!) Generate a stable spiral wave using cross-stimulation for the FK model"
   ]
  },
  {
   "cell_type": "code",
   "execution_count": null,
   "metadata": {
    "ExecuteTime": {
     "end_time": "2021-12-02T00:28:09.410383Z",
     "start_time": "2021-12-02T00:28:09.410368Z"
    },
    "hidden": true
   },
   "outputs": [],
   "source": [
    "from lib.utils import printProgressBar"
   ]
  },
  {
   "cell_type": "code",
   "execution_count": null,
   "metadata": {
    "ExecuteTime": {
     "end_time": "2021-12-02T00:28:09.411382Z",
     "start_time": "2021-12-02T00:28:09.411369Z"
    },
    "hidden": true
   },
   "outputs": [],
   "source": [
    "ic_folder=f\"{nb_dir}/Data/initial-conditions-suite-4-FK\"\n",
    "if not os.path.exists(ic_folder):\n",
    "    os.mkdir(ic_folder)"
   ]
  },
  {
   "cell_type": "code",
   "execution_count": null,
   "metadata": {
    "ExecuteTime": {
     "end_time": "2021-12-02T00:28:09.412248Z",
     "start_time": "2021-12-02T00:28:09.412236Z"
    },
    "hidden": true
   },
   "outputs": [],
   "source": [
    "width=600 #width of domain in pixels\n",
    "height=600 #height of domain in pixels\n",
    "ds=15.0 #width of domain in centimeters\n",
    "\n",
    "#initialize txt\n",
    "# V_initial=-85.\n",
    "# Ca_i_initial = 2*10**-4\n",
    "# txt=get_blank_txt_LR(width,height,V_initial=-84.66,Ca_i_initial = 1.45E-007)\n",
    "txt=get_blank_txt_FK(width,height)\n",
    "t=0.\n",
    "dt=h\n",
    "#get time steps\n",
    "# from lib.model.LR_model_optimized_w_Istim import *\n",
    "#get the onestep kernels\n",
    "# dt, kernelA, kernelB=get_one_step_explicit_synchronous_splitting_w_Istim_kernel(nb_dir,dt,width,height,ds)"
   ]
  },
  {
   "cell_type": "code",
   "execution_count": null,
   "metadata": {
    "ExecuteTime": {
     "end_time": "2021-12-02T00:28:09.413517Z",
     "start_time": "2021-12-02T00:28:09.413505Z"
    },
    "hidden": true
   },
   "outputs": [],
   "source": [
    "#stimulate on the left\n",
    "tf=10.\n",
    "num_steps=int(tf/dt)\n",
    "txt_Istim=txt_Istim_left.copy()\n",
    "update_every=10\n",
    "step_count=0\n",
    "for n in range(num_steps):\n",
    "#     kernelA(txt,txt_Istim)\n",
    "#     kernelB(txt,txt_Istim)\n",
    "    one_step_map(txt,txt_Istim)\n",
    "#     t+=dt\n",
    "    step_count+=1\n",
    "    if step_count%update_every==0:\n",
    "        printProgressBar(step_count,num_steps)\n",
    "t+=dt*num_steps\n",
    "txt_a1=txt.copy()\n",
    "print(f\"\\nthe final time is t = {t:.1f} ms.\\n\")\n",
    "# beep(1)"
   ]
  },
  {
   "cell_type": "code",
   "execution_count": null,
   "metadata": {
    "ExecuteTime": {
     "end_time": "2021-12-02T00:28:09.414179Z",
     "start_time": "2021-12-02T00:28:09.414168Z"
    },
    "hidden": true
   },
   "outputs": [],
   "source": [
    "#Visualize the buffer (plain)\n",
    "chnl=0\n",
    "print(np.max(txt[...,0]))\n",
    "img=txt_a1[...,chnl]\n",
    "plt.imshow(img,cmap='gray',vmin=0, vmax=1)\n",
    "plt.axis('off')\n",
    "plt.title(f'channel {chnl}, time {t:.1f}\\n',c='k',fontsize=22)#c='w',fontsize=22)\n",
    "plt.show()"
   ]
  },
  {
   "cell_type": "code",
   "execution_count": null,
   "metadata": {
    "ExecuteTime": {
     "end_time": "2021-12-02T00:28:09.414962Z",
     "start_time": "2021-12-02T00:28:09.414951Z"
    },
    "hidden": true
   },
   "outputs": [],
   "source": [
    "#integrate without stimulation\n",
    "# txt=txt_a.copy()\n",
    "tf=250\n",
    "t=10#\n",
    "txt=txt_a1.copy()\n",
    "num_steps=int((tf-t)/dt)\n",
    "txt_Istim=txt_Istim_none.copy()\n",
    "update_every=10\n",
    "step_count=0\n",
    "nsteps=int(num_steps/2)\n",
    "txt=one_step_map_gpu(txt,nsteps)\n",
    "t+=dt*num_steps\n",
    "# for n in range(num_steps):\n",
    "# #     kernelA(txt,txt_Istim)\n",
    "# #     kernelB(txt,txt_Istim)\n",
    "#     one_step_map(txt,txt_Istim)\n",
    "#     step_count+=1\n",
    "#     if step_count%update_every==0:\n",
    "#         t+=dt*update_every\n",
    "#         printProgressBar(step_count,num_steps)\n",
    "txt_a2=txt.copy()\n",
    "print(f\"\\nthe final time is t = {t:.1f} ms.\\n\")\n",
    "# beep(1)\n",
    "nsteps"
   ]
  },
  {
   "cell_type": "code",
   "execution_count": null,
   "metadata": {
    "ExecuteTime": {
     "end_time": "2021-12-02T00:28:09.415795Z",
     "start_time": "2021-12-02T00:28:09.415784Z"
    },
    "hidden": true
   },
   "outputs": [],
   "source": [
    "#Visualize the buffer (plain)\n",
    "chnl=0\n",
    "print(np.max(txt[...,0]))\n",
    "ta2=t#110\n",
    "img=txt[...,chnl]\n",
    "plt.imshow(img,cmap='gray',vmin=0, vmax=1)\n",
    "plt.axis('off')\n",
    "plt.title(f'channel {chnl}, time {ta2:.1f}\\n',c='k',fontsize=22)#c='w',fontsize=22)\n",
    "plt.show()"
   ]
  },
  {
   "cell_type": "code",
   "execution_count": null,
   "metadata": {
    "ExecuteTime": {
     "end_time": "2021-12-02T00:28:09.416843Z",
     "start_time": "2021-12-02T00:28:09.416832Z"
    },
    "hidden": true
   },
   "outputs": [],
   "source": [
    "#save texture at this time t\n",
    "save=True\n",
    "if save:\n",
    "#     txt=stack_txt(inVc,outVc,inmhjdfx,outmhjdfx,dVcdt)\n",
    "    save_img_fn=ic_folder+\"/txt_a2.npz\"\n",
    "    #     img_out=txt#np.stack([img,dimgdt]).T\n",
    "    np.savez_compressed(save_img_fn,[txt])"
   ]
  },
  {
   "cell_type": "code",
   "execution_count": null,
   "metadata": {
    "ExecuteTime": {
     "end_time": "2021-12-02T00:28:09.417795Z",
     "start_time": "2021-12-02T00:28:09.417785Z"
    },
    "hidden": true
   },
   "outputs": [],
   "source": [
    "#load the buffer loaded\n",
    "t=250.\n",
    "img_fn=f'{nb_dir}/Data/initial-conditions-suite-4-FK/txt_a2.npz'\n",
    "txt=load_buffer(img_fn)[0]\n",
    "txt.shape"
   ]
  },
  {
   "cell_type": "code",
   "execution_count": null,
   "metadata": {
    "ExecuteTime": {
     "end_time": "2021-12-02T00:28:09.418400Z",
     "start_time": "2021-12-02T00:28:09.418391Z"
    },
    "hidden": true
   },
   "outputs": [],
   "source": [
    "#Visualize the buffer (plain)\n",
    "chnl=0\n",
    "print(np.max(txt[...,0]))\n",
    "ta2=t#110\n",
    "img=txt[...,chnl]\n",
    "if chnl==0:\n",
    "    plt.imshow(img,cmap='gray',vmin=0, vmax=1)\n",
    "else:\n",
    "    plt.imshow(img,cmap='gray')\n",
    "plt.axis('off')\n",
    "plt.title(f'channel {chnl}, time {ta2:.1f}\\n',c='k',fontsize=22)#c='w',fontsize=22)\n",
    "plt.show()\n"
   ]
  },
  {
   "cell_type": "code",
   "execution_count": null,
   "metadata": {
    "ExecuteTime": {
     "end_time": "2021-12-02T00:28:09.419059Z",
     "start_time": "2021-12-02T00:28:09.419050Z"
    },
    "hidden": true
   },
   "outputs": [],
   "source": [
    "dt"
   ]
  },
  {
   "cell_type": "code",
   "execution_count": null,
   "metadata": {
    "ExecuteTime": {
     "end_time": "2021-12-02T00:28:09.419885Z",
     "start_time": "2021-12-02T00:28:09.419875Z"
    },
    "hidden": true
   },
   "outputs": [],
   "source": [
    "#integrate without stimulation\n",
    "# t=130\n",
    "# txt=txt_a2.copy()\n",
    "tf=70#150\n",
    "num_steps=int((tf)/dt)\n",
    "txt_Istim=txt_Istim_none.copy()\n",
    "update_every=1\n",
    "step_count=0\n",
    "\n",
    "nsteps=int(num_steps/2)\n",
    "txt=one_step_map_gpu(txt,nsteps)\n",
    "t+=dt*num_steps\n",
    "\n",
    "# for n in range(num_steps):\n",
    "# #     kernelA(txt,txt_Istim)\n",
    "# #     kernelB(txt,txt_Istim)\n",
    "#     one_step_map(txt,txt_Istim)\n",
    "#     step_count+=1\n",
    "#     if step_count%update_every==0:\n",
    "#         t+=dt*update_every\n",
    "# #         printProgressBar(step_count,num_steps)\n",
    "txt_a3=txt.copy()\n",
    "print(f\"\\nthe final time is t = {t:.1f} ms.\\n\")\n",
    "# beep(1)\n"
   ]
  },
  {
   "cell_type": "code",
   "execution_count": null,
   "metadata": {
    "ExecuteTime": {
     "end_time": "2021-12-02T00:28:09.420679Z",
     "start_time": "2021-12-02T00:28:09.420669Z"
    },
    "hidden": true
   },
   "outputs": [],
   "source": [
    "#Visualize the buffer (plain)\n",
    "chnl=0\n",
    "print(np.max(txt[...,0]))\n",
    "ta3=t#110\n",
    "img=txt[...,chnl]\n",
    "if chnl==0:\n",
    "    plt.imshow(img,cmap='gray',vmin=0, vmax=1)\n",
    "else:\n",
    "    plt.imshow(img,cmap='gray')\n",
    "plt.axis('off')\n",
    "plt.title(f'channel {chnl}, time {ta3:.1f}\\n',c='k',fontsize=22)#c='w',fontsize=22)\n",
    "plt.show()"
   ]
  },
  {
   "cell_type": "code",
   "execution_count": null,
   "metadata": {
    "ExecuteTime": {
     "end_time": "2021-12-02T00:28:09.421992Z",
     "start_time": "2021-12-02T00:28:09.421980Z"
    },
    "hidden": true
   },
   "outputs": [],
   "source": [
    "# #define the top stimulation width (wag) and magnitude (mag)\n",
    "# mag=-10#1.77#-10#-3.\n",
    "# wag=5\n",
    "# zero_c2=np.zeros(shape=(width,height,2), dtype=np.float64, order='C')\n",
    "# txt_Istim=zero_c2[...,0].copy()\n",
    "# txt_Istim[300:300+wag,:300]=mag\n",
    "# txt_Istim_top=txt_Istim.copy()"
   ]
  },
  {
   "cell_type": "code",
   "execution_count": null,
   "metadata": {
    "ExecuteTime": {
     "end_time": "2021-12-02T00:28:09.423017Z",
     "start_time": "2021-12-02T00:28:09.423004Z"
    },
    "hidden": true
   },
   "outputs": [],
   "source": [
    "# dt=0.01\n",
    "# dt, kernelA, kernelB=get_one_step_explicit_synchronous_splitting_w_Istim_kernel(nb_dir,dt,width,height,ds)"
   ]
  },
  {
   "cell_type": "code",
   "execution_count": null,
   "metadata": {
    "ExecuteTime": {
     "end_time": "2021-12-02T00:28:09.424334Z",
     "start_time": "2021-12-02T00:28:09.424290Z"
    },
    "hidden": true
   },
   "outputs": [],
   "source": [
    "#take 1000 time steps to 100ms, stimulating on the with a semicircle #top/horizontally\n",
    "tf=20#.100#10\n",
    "# t=130\n",
    "# txt=txt_a3.copy()\n",
    "# txt=txt_a2.copy()\n",
    "num_steps=int(tf/dt)\n",
    "txt_Istim=txt_Istim_semi.copy()#txt_Istim_top.copy()\n",
    "# txt_Istim=txt_Istim_top.copy()\n",
    "update_every=100\n",
    "step_count=0\n",
    "for n in range(num_steps):\n",
    "#     kernelA(txt,txt_Istim)\n",
    "#     kernelB(txt,txt_Istim)\n",
    "    one_step_map(txt,txt_Istim)\n",
    "#     step_count+=1\n",
    "#     if step_count%update_every==0:\n",
    "t+=dt*num_steps#update_every\n",
    "#         printProgressBar(step_count,num_steps)\n",
    "print(f\"\\nthe final time is t = {t:.1f} ms.\")\n",
    "txt_b=txt.copy()\n",
    "# beep(1)"
   ]
  },
  {
   "cell_type": "code",
   "execution_count": null,
   "metadata": {
    "ExecuteTime": {
     "end_time": "2021-12-02T00:28:09.425472Z",
     "start_time": "2021-12-02T00:28:09.425460Z"
    },
    "hidden": true,
    "scrolled": true
   },
   "outputs": [],
   "source": [
    "#Visualize the buffer (plain)\n",
    "chnl=1\n",
    "print(np.max(txt[...,0]))\n",
    "img=txt[...,chnl]\n",
    "# img=txt_b[...,chnl]\n",
    "plt.imshow(img,cmap='gray',vmin=0, vmax=1)\n",
    "plt.axis('off')\n",
    "plt.title(f'channel {chnl}, time {t:.1f}\\n',c='k',fontsize=22)#c='w',fontsize=22)\n",
    "plt.show()"
   ]
  },
  {
   "cell_type": "code",
   "execution_count": null,
   "metadata": {
    "ExecuteTime": {
     "end_time": "2021-12-02T00:28:09.426187Z",
     "start_time": "2021-12-02T00:28:09.426147Z"
    },
    "hidden": true
   },
   "outputs": [],
   "source": [
    "# dt=0.1\n",
    "# dt, kernelA, kernelB=get_one_step_explicit_synchronous_splitting_w_Istim_kernel(nb_dir,dt,width,height,ds)"
   ]
  },
  {
   "cell_type": "code",
   "execution_count": null,
   "metadata": {
    "ExecuteTime": {
     "end_time": "2021-12-02T00:28:09.426956Z",
     "start_time": "2021-12-02T00:28:09.426929Z"
    },
    "hidden": true
   },
   "outputs": [],
   "source": [
    "#take 10000 time steps forward 1 sec without stimulation\n",
    "tf= 600\n",
    "# t = 320#284.7\n",
    "# txt=txt_b.copy()\n",
    "num_steps=int((tf-t)/dt)\n",
    "\n",
    "nsteps=int(num_steps/2)\n",
    "txt=one_step_map_gpu(txt,nsteps)\n",
    "t+=dt*num_steps\n",
    "\n",
    "# txt_Istim=txt_Istim_none.copy()\n",
    "# update_every=100\n",
    "# step_count=0\n",
    "# for n in range(num_steps):\n",
    "# #     kernelA(txt,txt_Istim)\n",
    "# #     kernelB(txt,txt_Istim)\n",
    "#     one_step_map(txt,txt_Istim)\n",
    "#     step_count+=1\n",
    "#     if step_count%update_every==0:\n",
    "# #         t+=dt*update_every\n",
    "#         #compute dict_out\n",
    "#         printProgressBar(step_count,num_steps)\n",
    "# t+=dt*num_steps#update_every\n",
    "print(f\"\\nthe final time is t = {t} ms.\")\n",
    "# beep(1)\n",
    "\n",
    "txt_1=txt.copy()"
   ]
  },
  {
   "cell_type": "code",
   "execution_count": null,
   "metadata": {
    "ExecuteTime": {
     "end_time": "2021-12-02T00:28:09.427906Z",
     "start_time": "2021-12-02T00:28:09.427895Z"
    },
    "hidden": true,
    "scrolled": true
   },
   "outputs": [],
   "source": [
    "#Visualize the buffer (plain)\n",
    "chnl=0\n",
    "print(t)\n",
    "img=txt_1[...,chnl]\n",
    "plt.imshow(img,cmap='gray',vmin=0, vmax=1)\n",
    "plt.axis('off')\n",
    "plt.title(f'channel {chnl}, time {t:.1f}\\n',c='k',fontsize=22)#c='w',fontsize=22)\n",
    "plt.show()"
   ]
  },
  {
   "cell_type": "code",
   "execution_count": null,
   "metadata": {
    "ExecuteTime": {
     "end_time": "2021-12-02T00:28:09.429018Z",
     "start_time": "2021-12-02T00:28:09.429007Z"
    },
    "hidden": true
   },
   "outputs": [],
   "source": [
    "# beep(7)\n",
    "# semi\n",
    "#make initialization conditions for a semicircular stimulus on the left\n",
    "deg = -45\n",
    "x0 = 600/4\n",
    "y0 = 3*600/4\n",
    "# mag=-1\n",
    "from lib.controller.draw import *\n",
    "\n",
    "txt_Istim=get_semicircle(zero_c2,deg,x0,y0)\n",
    "txt_Istim*=mag\n",
    "txt_Istim_semi_2=txt_Istim.copy()\n",
    "\n",
    "deg = -45\n",
    "x0 = 5*600/8\n",
    "y0 = 1*600/4\n",
    "# mag=-1\n",
    "from lib.controller.draw import *\n",
    "\n",
    "txt_Istim=get_semicircle(zero_c2,deg,x0,y0)\n",
    "txt_Istim*=mag\n",
    "txt_Istim_semi_3=txt_Istim.copy()"
   ]
  },
  {
   "cell_type": "code",
   "execution_count": null,
   "metadata": {
    "ExecuteTime": {
     "end_time": "2021-12-02T00:28:09.429656Z",
     "start_time": "2021-12-02T00:28:09.429646Z"
    },
    "hidden": true
   },
   "outputs": [],
   "source": [
    "#take 1000 time steps to 100ms, stimulating on the with a semicircle #top/horizontally\n",
    "tf=10#.100#10\n",
    "# t=130\n",
    "# txt=txt_a3.copy()\n",
    "# txt=txt_a2.copy()\n",
    "num_steps=int(tf/dt)\n",
    "txt_Istim=txt_Istim_semi_2.copy()#txt_Istim_top.copy()\n",
    "# txt_Istim=txt_Istim_top.copy()\n",
    "update_every=100\n",
    "step_count=0\n",
    "for n in range(num_steps):\n",
    "#     kernelA(txt,txt_Istim)\n",
    "#     kernelB(txt,txt_Istim)\n",
    "    one_step_map(txt,txt_Istim)\n",
    "#     step_count+=1\n",
    "#     if step_count%update_every==0:\n",
    "t+=dt*num_steps#update_every\n",
    "#         printProgressBar(step_count,num_steps)\n",
    "print(f\"\\nthe final time is t = {t:.1f} ms.\")\n",
    "# txt_b=txt.copy()\n",
    "# beep(1)"
   ]
  },
  {
   "cell_type": "code",
   "execution_count": null,
   "metadata": {
    "hidden": true
   },
   "outputs": [],
   "source": []
  },
  {
   "cell_type": "code",
   "execution_count": null,
   "metadata": {
    "ExecuteTime": {
     "end_time": "2021-12-02T00:28:09.430296Z",
     "start_time": "2021-12-02T00:28:09.430287Z"
    },
    "hidden": true
   },
   "outputs": [],
   "source": [
    "#save texture at this time t\n",
    "save=True\n",
    "if save:\n",
    "#     txt=stack_txt(inVc,outVc,inmhjdfx,outmhjdfx,dVcdt)\n",
    "    save_img_fn=f\"{nb_dir}/Data/initial-conditions-suite-4-FK/txt_1.npz\"\n",
    "    #     img_out=txt#np.stack([img,dimgdt]).T\n",
    "    np.savez_compressed(save_img_fn,[txt])\n",
    "print(t)\n",
    "beep(10)"
   ]
  },
  {
   "cell_type": "code",
   "execution_count": null,
   "metadata": {
    "ExecuteTime": {
     "end_time": "2021-12-02T00:28:09.431022Z",
     "start_time": "2021-12-02T00:28:09.431012Z"
    },
    "hidden": true
   },
   "outputs": [],
   "source": [
    "# #load the buffer loaded\n",
    "# t=610.\n",
    "# img_fn=f'{nb_dir}/Data/initial-conditions-suite-4-FK/txt_1.npz'\n",
    "# txt=load_buffer(img_fn)[0]\n",
    "# txt.shape\n",
    "# # t=500"
   ]
  },
  {
   "cell_type": "code",
   "execution_count": null,
   "metadata": {
    "ExecuteTime": {
     "end_time": "2021-12-02T00:28:09.431705Z",
     "start_time": "2021-12-02T00:28:09.431695Z"
    },
    "hidden": true,
    "scrolled": true
   },
   "outputs": [],
   "source": [
    "#Visualize the buffer (plain)\n",
    "chnl=0\n",
    "print(t)\n",
    "img=txt[...,chnl]\n",
    "plt.imshow(img,cmap='gray',vmin=0, vmax=1)\n",
    "plt.axis('off')\n",
    "plt.title(f'channel {chnl}, time {t:.1f}\\n',c='k',fontsize=22)#c='w',fontsize=22)\n",
    "plt.show()"
   ]
  },
  {
   "cell_type": "code",
   "execution_count": null,
   "metadata": {
    "ExecuteTime": {
     "end_time": "2021-12-02T00:28:09.432405Z",
     "start_time": "2021-12-02T00:28:09.432394Z"
    },
    "hidden": true
   },
   "outputs": [],
   "source": [
    "#take 10000 time steps forward 1 sec without stimulation\n",
    "tf=200\n",
    "# txt_Istim_semi_2\n",
    "# txt=txt_b.copy()\n",
    "num_steps=int(tf/dt)\n",
    "\n",
    "nsteps=int(num_steps/2)\n",
    "txt=one_step_map_gpu(txt,nsteps)\n",
    "t+=dt*num_steps\n",
    "\n",
    "\n",
    "# txt_Istim=txt_Istim_none.copy()\n",
    "# update_every=100\n",
    "# step_count=0\n",
    "# for n in range(num_steps):\n",
    "# #     kernelA(txt,txt_Istim)\n",
    "# #     kernelB(txt,txt_Istim)\n",
    "#     one_step_map(txt,txt_Istim)\n",
    "#     step_count+=1\n",
    "# #     if step_count%update_every==0:\n",
    "# #         t+=dt*update_every\n",
    "# #         compute dict_out\n",
    "# #         printProgressBar(step_count,num_steps)\n",
    "# t+=dt*num_steps#update_every\n",
    "print(f\"\\nthe final time is t = {t} ms.\")\n",
    "beep(1)"
   ]
  },
  {
   "cell_type": "code",
   "execution_count": null,
   "metadata": {
    "ExecuteTime": {
     "end_time": "2021-12-02T00:28:09.433500Z",
     "start_time": "2021-12-02T00:28:09.433490Z"
    },
    "hidden": true
   },
   "outputs": [],
   "source": [
    "#Visualize the buffer (plain)\n",
    "chnl=0\n",
    "print(np.max(txt[...,0]))\n",
    "img=txt[...,chnl]\n",
    "plt.imshow(img,cmap='gray',vmin=0, vmax=1)\n",
    "plt.axis('off')\n",
    "plt.title(f'channel {chnl}, time {t:.1f}\\n',c='k',fontsize=22)#c='w',fontsize=22)\n",
    "plt.show()"
   ]
  },
  {
   "cell_type": "code",
   "execution_count": null,
   "metadata": {
    "ExecuteTime": {
     "end_time": "2021-12-02T00:28:09.434166Z",
     "start_time": "2021-12-02T00:28:09.434156Z"
    },
    "hidden": true
   },
   "outputs": [],
   "source": [
    "#take 1000 time steps to 100ms, stimulating on the with a semicircle #top/horizontally\n",
    "tf=10#.100#10\n",
    "# t=130\n",
    "# txt=txt_a3.copy()\n",
    "# txt=txt_a2.copy()\n",
    "num_steps=int(tf/dt)\n",
    "txt_Istim=txt_Istim_semi_3.copy()#txt_Istim_top.copy()\n",
    "# txt_Istim=txt_Istim_top.copy()\n",
    "update_every=100\n",
    "step_count=0\n",
    "for n in range(num_steps):\n",
    "#     kernelA(txt,txt_Istim)\n",
    "#     kernelB(txt,txt_Istim)\n",
    "    one_step_map(txt,txt_Istim)\n",
    "#     step_count+=1\n",
    "#     if step_count%update_every==0:\n",
    "t+=dt*num_steps#update_every\n",
    "#         printProgressBar(step_count,num_steps)\n",
    "print(f\"\\nthe final time is t = {t:.1f} ms.\")\n",
    "# txt_b=txt.copy()\n",
    "# beep(1)"
   ]
  },
  {
   "cell_type": "code",
   "execution_count": null,
   "metadata": {
    "ExecuteTime": {
     "end_time": "2021-12-02T00:28:09.434977Z",
     "start_time": "2021-12-02T00:28:09.434950Z"
    },
    "hidden": true
   },
   "outputs": [],
   "source": [
    "#Visualize the buffer (plain)\n",
    "chnl=0\n",
    "print(np.max(txt[...,0]))\n",
    "img=txt[...,chnl]\n",
    "plt.imshow(img,cmap='gray',vmin=0, vmax=1)\n",
    "plt.axis('off')\n",
    "plt.title(f'channel {chnl}, time {t:.1f}\\n',c='k',fontsize=22)#c='w',fontsize=22)\n",
    "plt.show()"
   ]
  },
  {
   "cell_type": "code",
   "execution_count": null,
   "metadata": {
    "ExecuteTime": {
     "end_time": "2021-12-02T00:28:09.435642Z",
     "start_time": "2021-12-02T00:28:09.435632Z"
    },
    "hidden": true
   },
   "outputs": [],
   "source": [
    "#take 10000 time steps forward 1 sec without stimulation\n",
    "tf=200\n",
    "# txt=txt_b.copy()\n",
    "num_steps=int(tf/dt)\n",
    "nsteps=int(num_steps/2)\n",
    "txt=one_step_map_gpu(txt,nsteps)\n",
    "t+=dt*num_steps\n",
    "print(f\"\\nthe final time is t = {t} ms.\")\n",
    "beep(1)"
   ]
  },
  {
   "cell_type": "code",
   "execution_count": null,
   "metadata": {
    "ExecuteTime": {
     "end_time": "2021-12-02T00:28:09.436359Z",
     "start_time": "2021-12-02T00:28:09.436349Z"
    },
    "hidden": true
   },
   "outputs": [],
   "source": [
    "#Visualize the buffer (plain)\n",
    "chnl=0\n",
    "print(np.max(txt[...,0]))\n",
    "img=txt[...,chnl]\n",
    "plt.imshow(img,cmap='gray',vmin=0, vmax=1)\n",
    "plt.axis('off')\n",
    "plt.title(f'channel {chnl}, time {t:.1f}\\n',c='k',fontsize=22)#c='w',fontsize=22)\n",
    "plt.show()"
   ]
  },
  {
   "cell_type": "code",
   "execution_count": null,
   "metadata": {
    "ExecuteTime": {
     "end_time": "2021-12-02T00:28:09.437268Z",
     "start_time": "2021-12-02T00:28:09.437258Z"
    },
    "hidden": true
   },
   "outputs": [],
   "source": [
    "#take 10000 time steps forward 1 sec without stimulation\n",
    "tf= 1200\n",
    "# t = 320#284.7\n",
    "# txt=txt_b.copy()\n",
    "num_steps=int((tf-t)/dt)\n",
    "\n",
    "nsteps=int(num_steps/2)\n",
    "txt=one_step_map_gpu(txt,nsteps)\n",
    "t+=dt*num_steps\n",
    "print(f\"\\nthe final time is t = {t} ms.\")"
   ]
  },
  {
   "cell_type": "code",
   "execution_count": null,
   "metadata": {
    "ExecuteTime": {
     "end_time": "2021-12-02T00:28:09.437948Z",
     "start_time": "2021-12-02T00:28:09.437937Z"
    },
    "hidden": true
   },
   "outputs": [],
   "source": [
    "#Visualize the buffer (plain)\n",
    "chnl=0\n",
    "print(np.max(txt[...,0]))\n",
    "img=txt[...,chnl]\n",
    "plt.imshow(img,cmap='gray',vmin=0, vmax=1)\n",
    "plt.axis('off')\n",
    "plt.title(f'channel {chnl}, time {t:.1f}\\n',c='k',fontsize=22)#c='w',fontsize=22)\n",
    "plt.show()"
   ]
  },
  {
   "cell_type": "code",
   "execution_count": null,
   "metadata": {
    "ExecuteTime": {
     "end_time": "2021-12-02T00:28:09.438713Z",
     "start_time": "2021-12-02T00:28:09.438703Z"
    },
    "hidden": true
   },
   "outputs": [],
   "source": [
    "#save texture at this time t\n",
    "save=True\n",
    "if save:\n",
    "#     txt=stack_txt(inVc,outVc,inmhjdfx,outmhjdfx,dVcdt)\n",
    "    save_img_fn=f\"{nb_dir}/Data/initial-conditions-suite-4-FK/ic600x600_tt/ic001.npz\"\n",
    "    #     img_out=txt#np.stack([img,dimgdt]).T\n",
    "    np.savez_compressed(save_img_fn,[txt])"
   ]
  },
  {
   "cell_type": "code",
   "execution_count": null,
   "metadata": {
    "ExecuteTime": {
     "end_time": "2021-12-02T00:28:09.440666Z",
     "start_time": "2021-12-02T00:28:09.440655Z"
    },
    "hidden": true
   },
   "outputs": [],
   "source": [
    "# beep(10)"
   ]
  },
  {
   "cell_type": "code",
   "execution_count": null,
   "metadata": {
    "ExecuteTime": {
     "end_time": "2021-12-02T00:28:09.441320Z",
     "start_time": "2021-12-02T00:28:09.441310Z"
    },
    "hidden": true
   },
   "outputs": [],
   "source": [
    "#take 10000 time steps forward 1 sec without stimulation\n",
    "tf=2000\n",
    "# txt=txt_b.copy()\n",
    "num_steps=int((tf-t)/dt)\n",
    "# txt_Istim=txt_Istim_none.copy()\n",
    "# update_every=50\n",
    "# step_count=0\n",
    "# for n in range(num_steps):\n",
    "#     kernelA(txt,txt_Istim)\n",
    "#     kernelB(txt,txt_Istim)\n",
    "#     step_count+=1\n",
    "# #     if step_count%update_every==0:\n",
    "# #         t+=dt*update_every\n",
    "# #         compute dict_out\n",
    "# #         printProgressBar(step_count,num_steps)\n",
    "\n",
    "\n",
    "nsteps=int(num_steps/2)\n",
    "txt=one_step_map_gpu(txt,nsteps)\n",
    "t+=dt*num_steps\n",
    "print(f\"\\nthe final time is t = {t} ms.\")\n",
    "beep(10)"
   ]
  },
  {
   "cell_type": "code",
   "execution_count": null,
   "metadata": {
    "ExecuteTime": {
     "end_time": "2021-12-02T00:28:09.442255Z",
     "start_time": "2021-12-02T00:28:09.442243Z"
    },
    "hidden": true
   },
   "outputs": [],
   "source": [
    "#Visualize the buffer (plain)\n",
    "chnl=0\n",
    "print(np.max(txt[...,0]))\n",
    "img=txt[...,chnl]\n",
    "plt.imshow(img,cmap='gray',vmin=0, vmax=1)\n",
    "plt.axis('off')\n",
    "plt.title(f'channel {chnl}, time {t:.1f}\\n',c='k',fontsize=22)#c='w',fontsize=22)\n",
    "plt.show()"
   ]
  },
  {
   "cell_type": "code",
   "execution_count": null,
   "metadata": {
    "hidden": true
   },
   "outputs": [],
   "source": []
  },
  {
   "cell_type": "code",
   "execution_count": null,
   "metadata": {
    "ExecuteTime": {
     "end_time": "2021-12-02T00:28:09.442888Z",
     "start_time": "2021-12-02T00:28:09.442878Z"
    },
    "hidden": true
   },
   "outputs": [],
   "source": [
    "#save texture at this time t\n",
    "save=True\n",
    "if save:\n",
    "#     txt=stack_txt(inVc,outVc,inmhjdfx,outmhjdfx,dVcdt)\n",
    "    save_img_fn=f\"{nb_dir}/Data/initial-conditions-suite-4-FK/ic600x600_tt/ic001.npz\"\n",
    "    #     img_out=txt#np.stack([img,dimgdt]).T\n",
    "    np.savez_compressed(save_img_fn,[txt])\n",
    "print(t)"
   ]
  },
  {
   "cell_type": "markdown",
   "metadata": {
    "heading_collapsed": true
   },
   "source": [
    "## observe apparent spiral tips"
   ]
  },
  {
   "cell_type": "markdown",
   "metadata": {
    "hidden": true
   },
   "source": [
    "### Show all spiral tips present\n"
   ]
  },
  {
   "cell_type": "code",
   "execution_count": null,
   "metadata": {
    "ExecuteTime": {
     "end_time": "2021-12-02T00:28:09.443609Z",
     "start_time": "2021-12-02T00:28:09.443598Z"
    },
    "hidden": true
   },
   "outputs": [],
   "source": [
    "get_"
   ]
  },
  {
   "cell_type": "code",
   "execution_count": null,
   "metadata": {
    "ExecuteTime": {
     "end_time": "2021-12-02T00:28:09.444278Z",
     "start_time": "2021-12-02T00:28:09.444268Z"
    },
    "hidden": true
   },
   "outputs": [],
   "source": [
    "#compute all spiral tips present\n",
    "V_threshold=25.#mV\n",
    "level1=V_threshold\n",
    "# theta_threshold=0.\n",
    "level2=0.\n",
    "#take the first step\n",
    "one_step(inVc,outVc,inmhjdfx,outmhjdfx,dVcdt)\n",
    "t+=dt\n",
    "img=inVc[...,0]\n",
    "dimgdt=dVcdt[...,0]\n",
    "# width=200;height=200\n",
    "dict_out=compute_all_spiral_tips(t,img,dimgdt,level1,level2,width=width,height=height)\n",
    "dict_out_instantaneous=dict_out\n",
    "print(np.max(inVc[...,0]))"
   ]
  },
  {
   "cell_type": "code",
   "execution_count": null,
   "metadata": {
    "ExecuteTime": {
     "end_time": "2021-12-02T00:28:09.444922Z",
     "start_time": "2021-12-02T00:28:09.444911Z"
    },
    "hidden": true
   },
   "outputs": [],
   "source": [
    "x_values=np.array(dict_out['x'])\n",
    "y_values=np.array(dict_out['y'])\n",
    "c_values=np.array(dict_out['v'])\n",
    "print(f\"{dict_out['n']} tips are present at time t={int(t)}.\")\n",
    "fig = ShowDomain(img,dimgdt,x_values,y_values,c_values,V_threshold,t,inch=6,fontsize=16,vmin_img=-85.,vmax_img=35.,\n",
    "                 area=25,frameno=1,save_fn=None,save_folder=None,save=False,annotating=False,axis=[0,200,0,200])\n",
    "plt.show(fig)"
   ]
  },
  {
   "cell_type": "code",
   "execution_count": null,
   "metadata": {
    "ExecuteTime": {
     "end_time": "2021-12-02T00:28:09.445585Z",
     "start_time": "2021-12-02T00:28:09.445575Z"
    },
    "hidden": true
   },
   "outputs": [],
   "source": [
    "#save texture at this time t\n",
    "save=False\n",
    "if save:\n",
    "#     txt=stack_txt(inVc,outVc,inmhjdfx,outmhjdfx,dVcdt)\n",
    "    save_img_fn=f\"{nb_dir}/Data/test_data/test_txt_LR_euler_t_{int(t)}.npz\"\n",
    "    #     img_out=txt#np.stack([img,dimgdt]).T\n",
    "    np.savez_compressed(save_img_fn,[txt])"
   ]
  },
  {
   "cell_type": "markdown",
   "metadata": {
    "heading_collapsed": true
   },
   "source": [
    "# Tile ic001 9 times, stimulate it randomly, run it for awhile, and save for later chunking\n",
    "1.20.2021"
   ]
  },
  {
   "cell_type": "code",
   "execution_count": null,
   "metadata": {
    "ExecuteTime": {
     "end_time": "2021-12-02T00:28:09.446274Z",
     "start_time": "2021-12-02T00:28:09.446258Z"
    },
    "hidden": true
   },
   "outputs": [],
   "source": [
    "from lib.controller.draw import *\n",
    "from lib.model.LR_model_optimized_w_Istim import *\n",
    "from lib.utils import printProgressBar\n",
    "from lib.my_initialization import *\n",
    "from lib.controller.controller_LR import get_one_step_explicit_synchronous_splitting\n",
    "from lib.model.LR_model import *\n",
    "from lib.utils.utils_traj import *\n",
    "from lib.routines.bdrates import *\n",
    "from lib.measure.utils_measure_tips_cpu import *\n",
    "from lib.utils.stack_txt_LR import *\n",
    "from lib.viewer import *\n",
    "import trackpy\n",
    "import random\n",
    "%autocall 1\n",
    "%load_ext autoreload\n",
    "%autoreload 2"
   ]
  },
  {
   "cell_type": "code",
   "execution_count": null,
   "metadata": {
    "ExecuteTime": {
     "end_time": "2021-12-02T00:28:09.447254Z",
     "start_time": "2021-12-02T00:28:09.447242Z"
    },
    "hidden": true
   },
   "outputs": [],
   "source": [
    "#load the buffer loaded\n",
    "t=0.\n",
    "img_fn=f'{nb_dir}/Data/initial-conditions-suite-4-FK/ic600x600_tt/ic001.npz'\n",
    "txt_in=load_buffer(img_fn)[0]\n",
    "txt=np.tile(txt_in,(3,3,1))\n",
    "width,height,chnlno=txt.shape"
   ]
  },
  {
   "cell_type": "code",
   "execution_count": null,
   "metadata": {
    "ExecuteTime": {
     "end_time": "2021-12-02T00:28:09.447992Z",
     "start_time": "2021-12-02T00:28:09.447981Z"
    },
    "hidden": true
   },
   "outputs": [],
   "source": [
    "#Visualize the buffer (plain)\n",
    "chnl=0\n",
    "print(np.max(txt[...,0]))\n",
    "img=txt[...,chnl]\n",
    "plt.imshow(img,cmap='gray',vmin=0, vmax=1)\n",
    "plt.axis('off')\n",
    "plt.title(f'channel {chnl}, time {t:.1f}\\n',c='k',fontsize=22)#c='w',fontsize=22)\n",
    "plt.show()"
   ]
  },
  {
   "cell_type": "code",
   "execution_count": null,
   "metadata": {
    "ExecuteTime": {
     "end_time": "2021-12-02T00:28:09.448845Z",
     "start_time": "2021-12-02T00:28:09.448834Z"
    },
    "hidden": true
   },
   "outputs": [],
   "source": [
    "from lib.model.minimal_model_cuda import *\n",
    "from lib.controller.controller_cuda import *\n",
    "from lib.utils.utils_jsonio import *\n",
    "\n",
    "\n",
    "# ic = load_buffer(input_file_name)\n",
    "height, width, channel_no = txt.shape\n",
    "\n",
    "# #map initial condition to the three initial scalar fields\n",
    "u_initial = np.array(txt.astype(np.float64)[...,0])\n",
    "v_initial = np.array(txt.astype(np.float64)[...,1])\n",
    "w_initial = np.array(txt.astype(np.float64)[...,2])"
   ]
  },
  {
   "cell_type": "code",
   "execution_count": 8,
   "metadata": {
    "ExecuteTime": {
     "end_time": "2021-12-02T00:28:12.418341Z",
     "start_time": "2021-12-02T00:28:12.392142Z"
    },
    "hidden": true
   },
   "outputs": [
    {
     "ename": "NameError",
     "evalue": "name 'width' is not defined",
     "output_type": "error",
     "traceback": [
      "\u001b[0;31m---------------------------------------------------------------------------\u001b[0m",
      "\u001b[0;31mNameError\u001b[0m                                 Traceback (most recent call last)",
      "\u001b[0;32m/tmp/ipykernel_22727/304029997.py\u001b[0m in \u001b[0;36m<module>\u001b[0;34m\u001b[0m\n\u001b[1;32m     12\u001b[0m \u001b[0mparam_file_name\u001b[0m \u001b[0;34m=\u001b[0m \u001b[0mos\u001b[0m\u001b[0;34m.\u001b[0m\u001b[0mpath\u001b[0m\u001b[0;34m.\u001b[0m\u001b[0mjoin\u001b[0m\u001b[0;34m(\u001b[0m\u001b[0mparam_dir\u001b[0m\u001b[0;34m,\u001b[0m\u001b[0mparam_fn\u001b[0m\u001b[0;34m)\u001b[0m\u001b[0;31m#'/home/timothytyree/Documents/GitHub/care/notebooks/lib/model/param_set_8.json'\u001b[0m\u001b[0;34m\u001b[0m\u001b[0;34m\u001b[0m\u001b[0m\n\u001b[1;32m     13\u001b[0m \u001b[0mkwargs\u001b[0m \u001b[0;34m=\u001b[0m \u001b[0mread_parameters_from_json\u001b[0m\u001b[0;34m(\u001b[0m\u001b[0mparam_file_name\u001b[0m\u001b[0;34m)\u001b[0m\u001b[0;34m\u001b[0m\u001b[0;34m\u001b[0m\u001b[0m\n\u001b[0;32m---> 14\u001b[0;31m \u001b[0mget_time_step\u001b[0m\u001b[0;34m=\u001b[0m\u001b[0mfetch_get_time_step\u001b[0m\u001b[0;34m(\u001b[0m\u001b[0mwidth\u001b[0m\u001b[0;34m,\u001b[0m\u001b[0mheight\u001b[0m\u001b[0;34m,\u001b[0m\u001b[0mDX\u001b[0m\u001b[0;34m=\u001b[0m\u001b[0mdsdpixel\u001b[0m\u001b[0;34m,\u001b[0m\u001b[0mDY\u001b[0m\u001b[0;34m=\u001b[0m\u001b[0mdsdpixel\u001b[0m\u001b[0;34m,\u001b[0m\u001b[0;34m**\u001b[0m\u001b[0mparam_dict\u001b[0m\u001b[0;34m)\u001b[0m\u001b[0;34m\u001b[0m\u001b[0;34m\u001b[0m\u001b[0m\n\u001b[0m\u001b[1;32m     15\u001b[0m \u001b[0mtime_step\u001b[0m\u001b[0;34m=\u001b[0m\u001b[0mfetch_time_step\u001b[0m\u001b[0;34m(\u001b[0m\u001b[0mwidth\u001b[0m\u001b[0;34m,\u001b[0m\u001b[0mheight\u001b[0m\u001b[0;34m,\u001b[0m\u001b[0mDX\u001b[0m\u001b[0;34m=\u001b[0m\u001b[0mdsdpixel\u001b[0m\u001b[0;34m,\u001b[0m\u001b[0mDY\u001b[0m\u001b[0;34m=\u001b[0m\u001b[0mdsdpixel\u001b[0m\u001b[0;34m,\u001b[0m\u001b[0;34m**\u001b[0m\u001b[0mparam_dict\u001b[0m\u001b[0;34m)\u001b[0m\u001b[0;34m\u001b[0m\u001b[0;34m\u001b[0m\u001b[0m\n\u001b[1;32m     16\u001b[0m \u001b[0mcompute_all_spiral_tips\u001b[0m\u001b[0;34m=\u001b[0m \u001b[0mget_compute_all_spiral_tips\u001b[0m\u001b[0;34m(\u001b[0m\u001b[0mmode\u001b[0m\u001b[0;34m=\u001b[0m\u001b[0;34m'simp'\u001b[0m\u001b[0;34m,\u001b[0m\u001b[0mwidth\u001b[0m\u001b[0;34m=\u001b[0m\u001b[0mwidth\u001b[0m\u001b[0;34m,\u001b[0m\u001b[0mheight\u001b[0m\u001b[0;34m=\u001b[0m\u001b[0mheight\u001b[0m\u001b[0;34m)\u001b[0m\u001b[0;34m\u001b[0m\u001b[0;34m\u001b[0m\u001b[0m\n",
      "\u001b[0;31mNameError\u001b[0m: name 'width' is not defined"
     ]
    }
   ],
   "source": [
    "dsdpixel=0.025\n",
    "V_threshold = 0.4\n",
    "h=0.01# kwarg\n",
    "dt = 0.025\n",
    "n = 40  #half the number of steps between observations of spiral tips\n",
    "DT=2*n*dt\n",
    "param_fn = 'param_set_8_og.json'\n",
    "# param_fn = 'param_set_8.json'\n",
    "param_dir = os.path.join(nb_dir,'lib/model')\n",
    "param_dict = json.load(open(os.path.join(param_dir,param_fn)))\n",
    "#load parameters for parameter set 8 for the Fenton-Karma Model\n",
    "param_file_name = os.path.join(param_dir,param_fn)#'/home/timothytyree/Documents/GitHub/care/notebooks/lib/model/param_set_8.json'\n",
    "kwargs = read_parameters_from_json(param_file_name)\n",
    "get_time_step=fetch_get_time_step(width,height,DX=dsdpixel,DY=dsdpixel,**param_dict)\n",
    "time_step=fetch_time_step(width,height,DX=dsdpixel,DY=dsdpixel,**param_dict)\n",
    "compute_all_spiral_tips= get_compute_all_spiral_tips(mode='simp',width=width,height=height)\n",
    "\n",
    "kernel_string = get_kernel_string_FK_model(**kwargs, DT=dt,DX=0.025,height=height,width=width)\n",
    "\n",
    "#initializing cuda context\n",
    "#initialize PyCuda and get compute capability needed for compilation\n",
    "context = drv.Device(0).make_context()\n",
    "devprops = { str(k): v for (k, v) in context.get_device().get_attributes().items() }\n",
    "cc = str(devprops['COMPUTE_CAPABILITY_MAJOR']) + str(devprops['COMPUTE_CAPABILITY_MINOR'])\n",
    "\n",
    "#define how resources are used\n",
    "# width  = kwargs['width']\n",
    "# height = kwargs['height']\n",
    "threads = (16,32,1)\n",
    "grid = (int(width/10), int(height/10), 1)\n",
    "block_size_string = \"#define block_size_x 10\\n#define block_size_y 10\\n\"\n",
    "\n",
    "#don't allocate memory many times for the same task!\n",
    "#allocate GPU memory for voltage scalar field\n",
    "u_old = drv.mem_alloc(u_initial.nbytes)\n",
    "u_new = drv.mem_alloc(u_initial.nbytes)\n",
    "\n",
    "#allocate GPU memory for v and w auxiliary fields\n",
    "v_old = drv.mem_alloc(v_initial.nbytes)\n",
    "v_new = drv.mem_alloc(v_initial.nbytes)\n",
    "w_old = drv.mem_alloc(w_initial.nbytes)\n",
    "w_new = drv.mem_alloc(w_initial.nbytes)\n",
    "\n",
    "#setup thread block dimensions and compile the kernel\n",
    "mod = SourceModule(block_size_string+kernel_string)\n",
    "time_step_kernel = mod.get_function(\"time_step_kernel\")\n",
    "\n",
    "\n",
    "one_step_map_gpu=get_one_step_map(time_step_kernel,drv,\n",
    "                             u_new, u_old, v_new, v_old, w_new, w_old,\n",
    "                             threads, grid,context)"
   ]
  },
  {
   "cell_type": "code",
   "execution_count": null,
   "metadata": {
    "ExecuteTime": {
     "end_time": "2021-12-02T00:28:12.421405Z",
     "start_time": "2021-12-02T00:28:12.421394Z"
    },
    "hidden": true
   },
   "outputs": [],
   "source": [
    "param_fn = 'param_set_8_og.json'\n",
    "# param_fn = 'param_set_8.json'\n",
    "param_dir = os.path.join(nb_dir,'lib/model')\n",
    "param_dict = json.load(open(os.path.join(param_dir,param_fn)))\n",
    "#get time step with external stimulus for FK model\n",
    "time_step=fetch_time_step(width,height,DX=dsdpixel,DY=dsdpixel,**param_dict)\n",
    "zero_txt=np.zeros_like(txt)\n",
    "Cm=1.\n",
    "def one_step_map(txt,txt_Istim):\n",
    "    time_step(txt, h, zero_txt)\n",
    "    txt[...,0]-=h*txt_Istim/Cm"
   ]
  },
  {
   "cell_type": "code",
   "execution_count": null,
   "metadata": {
    "ExecuteTime": {
     "end_time": "2021-12-02T00:28:12.422022Z",
     "start_time": "2021-12-02T00:28:12.422013Z"
    },
    "hidden": true
   },
   "outputs": [],
   "source": [
    "get_time_step?"
   ]
  },
  {
   "cell_type": "code",
   "execution_count": null,
   "metadata": {
    "ExecuteTime": {
     "end_time": "2021-12-02T00:28:12.422891Z",
     "start_time": "2021-12-02T00:28:12.422881Z"
    },
    "hidden": true
   },
   "outputs": [],
   "source": [
    "#make null stimulus\n",
    "width,height,chnlno=txt.shape\n",
    "zero_c2=np.zeros(shape=(width,height,2), dtype=np.float64, order='C')\n",
    "txt_Istim_none=zero_c2[...,0].copy()\n",
    "\n",
    "#randomly place semicircular stimuli\n",
    "random.seed(100)\n",
    "num_semi=7\n",
    "mag=-1\n",
    "\n",
    "txt_Istim=txt_Istim_none.copy()\n",
    "for n in range(num_semi):\n",
    "    x0=random.uniform(0,1)*width\n",
    "    y0=random.uniform(0,1)*height\n",
    "    deg=random.uniform(0,1)*360\n",
    "    txt_Istim+=get_semicircle(txt,deg,x0,y0)\n",
    "\n",
    "txt_Istim*=mag\n",
    "txt_Istim_semi=txt_Istim.copy()"
   ]
  },
  {
   "cell_type": "code",
   "execution_count": null,
   "metadata": {
    "ExecuteTime": {
     "end_time": "2021-12-02T00:28:12.423800Z",
     "start_time": "2021-12-02T00:28:12.423789Z"
    },
    "hidden": true
   },
   "outputs": [],
   "source": [
    "#Visualize the buffer (plain)\n",
    "chnl=0\n",
    "# print(np.max(txt[...,0]))\n",
    "img=txt_Istim_semi#txt[...,chnl]\n",
    "plt.imshow(-img,cmap='gray')#,vmin=-80, vmax=15)\n",
    "plt.axis('off')\n",
    "# plt.title(f'channel {chnl}, time {t:.1f}\\n',c='k',fontsize=22)#c='w',fontsize=22)\n",
    "plt.show()"
   ]
  },
  {
   "cell_type": "code",
   "execution_count": null,
   "metadata": {
    "ExecuteTime": {
     "end_time": "2021-12-02T00:28:12.424421Z",
     "start_time": "2021-12-02T00:28:12.424412Z"
    },
    "hidden": true
   },
   "outputs": [],
   "source": [
    "# #get the onestep kernels\n",
    "# ds=45.;dt=0.025\n",
    "# dt, kernelA, kernelB=get_one_step_explicit_synchronous_splitting_w_Istim_kernel(nb_dir,dt,width,height,ds)"
   ]
  },
  {
   "cell_type": "code",
   "execution_count": null,
   "metadata": {
    "ExecuteTime": {
     "end_time": "2021-12-02T00:28:12.425201Z",
     "start_time": "2021-12-02T00:28:12.425191Z"
    },
    "hidden": true
   },
   "outputs": [],
   "source": [
    "#semicircular stimulation\n",
    "tf=10\n",
    "# txt=txt_b.copy()\n",
    "num_steps=int((tf)/dt)\n",
    "txt_Istim=txt_Istim_semi.copy()\n",
    "update_every=100\n",
    "step_count=0\n",
    "for n in range(num_steps):\n",
    "    one_step_map(txt,txt_Istim)\n",
    "#     kernelA(txt,txt_Istim)\n",
    "#     kernelB(txt,txt_Istim)\n",
    "    step_count+=1\n",
    "    if step_count%update_every==0:\n",
    "#         t+=dt*update_every\n",
    "#         compute dict_out\n",
    "        printProgressBar(step_count,num_steps)\n",
    "t+=dt*num_steps#update_every\n",
    "print(f\"\\nthe final time is t = {t} ms.\")\n",
    "beep(10)"
   ]
  },
  {
   "cell_type": "code",
   "execution_count": null,
   "metadata": {
    "ExecuteTime": {
     "end_time": "2021-12-02T00:28:12.425849Z",
     "start_time": "2021-12-02T00:28:12.425840Z"
    },
    "hidden": true
   },
   "outputs": [],
   "source": [
    "#Visualize the buffer (plain)\n",
    "chnl=0\n",
    "print(np.max(txt[...,0]))\n",
    "img=txt[...,(0,-2,1)].copy()#chnl]#0,1,V,Ca_i,INa,IK\n",
    "mn=np.min(img[...,0]);mx=np.max(img[...,0])\n",
    "img[...,0]=(img[...,0]-mn)/(mx-mn)\n",
    "mn=np.min(img[...,1]);mx=np.max(img[...,1])\n",
    "img[...,1]=(img[...,1]-mn)/(mx-mn)\n",
    "mn=np.min(img[...,2]);mx=np.max(img[...,2])\n",
    "img[...,2]=(img[...,2]-mn)/(mx-mn)\n",
    "plt.subplots(figsize=(9,9))\n",
    "plt.imshow(img)#,cmap='gray',vmin=-80, vmax=15)\n",
    "plt.axis('off')\n",
    "# plt.title(f'channel {chnl}, time {t:.1f}\\n',c='k',fontsize=22)#c='w',fontsize=22)\n",
    "plt.show()"
   ]
  },
  {
   "cell_type": "code",
   "execution_count": null,
   "metadata": {
    "ExecuteTime": {
     "end_time": "2021-12-02T00:28:12.426497Z",
     "start_time": "2021-12-02T00:28:12.426487Z"
    },
    "hidden": true
   },
   "outputs": [],
   "source": [
    "200*0.04\n",
    "# txt"
   ]
  },
  {
   "cell_type": "code",
   "execution_count": null,
   "metadata": {
    "ExecuteTime": {
     "end_time": "2021-12-02T00:28:12.427187Z",
     "start_time": "2021-12-02T00:28:12.427175Z"
    },
    "hidden": true
   },
   "outputs": [],
   "source": [
    "#take 10000 time steps forward 1 sec without stimulation\n",
    "tf=400\n",
    "# txt=txt_b.copy()\n",
    "num_steps=int((tf-t)/dt)\n",
    "\n",
    "# txt_Istim=txt_Istim_none.copy()\n",
    "# update_every=100\n",
    "# step_count=0\n",
    "# for n in range(num_steps):\n",
    "#     kernelA(txt,txt_Istim)\n",
    "#     kernelB(txt,txt_Istim)\n",
    "#     step_count+=1\n",
    "#     if step_count%update_every==0:\n",
    "# #         t+=dt*update_every\n",
    "# #         compute dict_out\n",
    "#         printProgressBar(step_count,num_steps)\n",
    "# t+=dt*num_steps#update_every\n",
    "nsteps=int(num_steps/2)\n",
    "txt=one_step_map_gpu(txt,nsteps)\n",
    "t+=dt*num_steps\n",
    "print(f\"\\nthe number of steps taken is step_count = {step_count}.\")\n",
    "# beep(10)\n",
    "dt"
   ]
  },
  {
   "cell_type": "code",
   "execution_count": null,
   "metadata": {
    "ExecuteTime": {
     "end_time": "2021-12-02T00:28:12.427992Z",
     "start_time": "2021-12-02T00:28:12.427982Z"
    },
    "hidden": true
   },
   "outputs": [],
   "source": [
    "#Visualize the buffer (plain)\n",
    "chnl=0\n",
    "print(np.max(txt[...,0]))\n",
    "img=txt[...,(0,-2,1)].copy()#chnl]#0,1,V,Ca_i,INa,IK\n",
    "mn=np.min(img[...,0]);mx=np.max(img[...,0])\n",
    "img[...,0]=(img[...,0]-mn)/(mx-mn)\n",
    "# mn=np.min(img[...,1]);mx=np.max(img[...,1])\n",
    "# img[...,1]=(img[...,1]-mn)/(mx-mn)\n",
    "mn=np.min(img[...,2]);mx=np.max(img[...,2])\n",
    "img[...,2]=(img[...,2]-mn)/(mx-mn)\n",
    "plt.subplots(figsize=(9,9))\n",
    "plt.imshow(img)#,cmap='gray',vmin=-80, vmax=15)\n",
    "plt.axis('off')\n",
    "# plt.title(f'channel {chnl}, time {t:.1f}\\n',c='k',fontsize=22)#c='w',fontsize=22)\n",
    "plt.show()"
   ]
  },
  {
   "cell_type": "code",
   "execution_count": null,
   "metadata": {
    "ExecuteTime": {
     "end_time": "2021-12-02T00:28:12.429102Z",
     "start_time": "2021-12-02T00:28:12.429092Z"
    },
    "hidden": true
   },
   "outputs": [],
   "source": [
    "#save texture at this time t\n",
    "save=True\n",
    "if save:\n",
    "#     txt=stack_txt(inVc,outVc,inmhjdfx,outmhjdfx,dVcdt)\n",
    "    save_img_fn=f\"{nb_dir}/Data/initial-conditions-suite-4-FK/ic1800x1800_t_{t:.0f}.npz\"\n",
    "    #     img_out=txt#np.stack([img,dimgdt]).T\n",
    "    np.savez_compressed(save_img_fn,[txt])"
   ]
  },
  {
   "cell_type": "code",
   "execution_count": null,
   "metadata": {
    "ExecuteTime": {
     "end_time": "2021-12-02T00:28:12.429778Z",
     "start_time": "2021-12-02T00:28:12.429767Z"
    },
    "hidden": true
   },
   "outputs": [],
   "source": [
    "#make null stimulus\n",
    "width,height,chnlno=txt.shape\n",
    "zero_c2=np.zeros(shape=(width,height,2), dtype=np.float64, order='C')\n",
    "txt_Istim_none=zero_c2[...,0].copy()\n",
    "\n",
    "#randomly place semicircular stimulus\n",
    "random.seed(108)#101)#104)#\n",
    "num_semi=7\n",
    "mag=-1\n",
    "\n",
    "txt_Istim=txt_Istim_none.copy()\n",
    "for n in range(num_semi):\n",
    "    x0=random.uniform(0,1)*width\n",
    "    y0=random.uniform(0,1)*height\n",
    "    deg=random.uniform(0,1)*360\n",
    "    txt_Istim+=get_semicircle(txt,deg,x0,y0)\n",
    "\n",
    "txt_Istim*=mag\n",
    "txt_Istim_semi=txt_Istim.copy()\n",
    "# #Visualize the buffer (plain)\n",
    "# chnl=0\n",
    "# # print(np.max(txt[...,0]))\n",
    "# img=txt_Istim_semi#txt[...,chnl]\n",
    "# plt.imshow(img,cmap='gray')#,vmin=-80, vmax=15)\n",
    "# plt.axis('off')\n",
    "# # plt.title(f'channel {chnl}, time {t:.1f}\\n',c='k',fontsize=22)#c='w',fontsize=22)\n",
    "# plt.show()"
   ]
  },
  {
   "cell_type": "code",
   "execution_count": null,
   "metadata": {
    "ExecuteTime": {
     "end_time": "2021-12-02T00:28:12.430537Z",
     "start_time": "2021-12-02T00:28:12.430527Z"
    },
    "hidden": true
   },
   "outputs": [],
   "source": [
    "#semicircular stimulation\n",
    "tf=10\n",
    "# txt=txt_b.copy()\n",
    "num_steps=int((tf)/dt)\n",
    "txt_Istim=txt_Istim_semi.copy()\n",
    "update_every=100\n",
    "step_count=0\n",
    "for n in range(num_steps):\n",
    "    one_step_map(txt,txt_Istim)\n",
    "#     kernelA(txt,txt_Istim)\n",
    "#     kernelB(txt,txt_Istim)\n",
    "    step_count+=1\n",
    "    if step_count%update_every==0:\n",
    "#         t+=dt*update_every\n",
    "#         compute dict_out\n",
    "        printProgressBar(step_count,num_steps)\n",
    "t+=dt*num_steps#update_every\n",
    "print(f\"\\nthe final time is t = {t} ms.\")\n",
    "# beep(10)"
   ]
  },
  {
   "cell_type": "code",
   "execution_count": null,
   "metadata": {
    "ExecuteTime": {
     "end_time": "2021-12-02T00:28:12.431126Z",
     "start_time": "2021-12-02T00:28:12.431116Z"
    },
    "hidden": true
   },
   "outputs": [],
   "source": [
    "#Visualize the buffer (plain)\n",
    "print(np.max(txt[...,0]))\n",
    "img=txt[...,(0,-2,1)].copy()#chnl]#0,1,V,Ca_i,INa,IK\n",
    "mn=np.min(img[...,0]);mx=np.max(img[...,0])\n",
    "img[...,0]=(img[...,0]-mn)/(mx-mn)\n",
    "# mn=np.min(img[...,1]);mx=np.max(img[...,1])\n",
    "# img[...,1]=(img[...,1]-mn)/(mx-mn)\n",
    "mn=np.min(img[...,2]);mx=np.max(img[...,2])\n",
    "img[...,2]=(img[...,2]-mn)/(mx-mn)\n",
    "plt.subplots(figsize=(9,9))\n",
    "plt.imshow(img)#,cmap='gray',vmin=-80, vmax=15)\n",
    "plt.axis('off')\n",
    "# plt.title(f'channel {chnl}, time {t:.1f}\\n',c='k',fontsize=22)#c='w',fontsize=22)\n",
    "plt.show()"
   ]
  },
  {
   "cell_type": "code",
   "execution_count": null,
   "metadata": {
    "ExecuteTime": {
     "end_time": "2021-12-02T00:28:12.431910Z",
     "start_time": "2021-12-02T00:28:12.431900Z"
    },
    "hidden": true
   },
   "outputs": [],
   "source": [
    "#take 10000 time steps forward 1 sec without stimulation\n",
    "tf=800\n",
    "# txt=txt_b.copy()\n",
    "num_steps=int((tf)/dt)\n",
    "# txt_Istim=txt_Istim_none.copy()\n",
    "# update_every=100\n",
    "# step_count=0\n",
    "# for n in range(num_steps):\n",
    "#     kernelA(txt,txt_Istim)\n",
    "#     kernelB(txt,txt_Istim)\n",
    "#     step_count+=1\n",
    "#     if step_count%update_every==0:\n",
    "# #         t+=dt*update_every\n",
    "# #         compute dict_out\n",
    "#         printProgressBar(step_count,num_steps)\n",
    "# t+=dt*num_steps#update_every\n",
    "nsteps=int(num_steps/2)\n",
    "txt=one_step_map_gpu(txt,nsteps)\n",
    "t+=dt*num_steps\n",
    "print(f\"\\nthe number of steps taken is step_count = {step_count}.\")\n",
    "# beep(10)\n",
    "dt"
   ]
  },
  {
   "cell_type": "code",
   "execution_count": null,
   "metadata": {
    "ExecuteTime": {
     "end_time": "2021-12-02T00:28:12.432538Z",
     "start_time": "2021-12-02T00:28:12.432528Z"
    },
    "hidden": true
   },
   "outputs": [],
   "source": [
    "#save texture at this time t\n",
    "save=True\n",
    "if save:\n",
    "#     txt=stack_txt(inVc,outVc,inmhjdfx,outmhjdfx,dVcdt)\n",
    "    save_img_fn=f\"{nb_dir}/Data/initial-conditions-suite-4-FK/ic1800x1800_t_{t:.0f}.npz\"\n",
    "    #     img_out=txt#np.stack([img,dimgdt]).T\n",
    "    np.savez_compressed(save_img_fn,[txt])"
   ]
  },
  {
   "cell_type": "code",
   "execution_count": null,
   "metadata": {
    "ExecuteTime": {
     "end_time": "2021-12-02T00:28:12.433230Z",
     "start_time": "2021-12-02T00:28:12.433220Z"
    },
    "hidden": true,
    "scrolled": true
   },
   "outputs": [],
   "source": [
    "#Visualize the buffer (plain)\n",
    "print(np.max(txt[...,0]))\n",
    "img=txt[...,(0,-2,1)].copy()#chnl]#0,1,V,Ca_i,INa,IK\n",
    "mn=np.min(img[...,0]);mx=np.max(img[...,0])\n",
    "img[...,0]=(img[...,0]-mn)/(mx-mn)\n",
    "# mn=np.min(img[...,1]);mx=np.max(img[...,1])\n",
    "# img[...,1]=(img[...,1]-mn)/(mx-mn)\n",
    "mn=np.min(img[...,2]);mx=np.max(img[...,2])\n",
    "img[...,2]=(img[...,2]-mn)/(mx-mn)\n",
    "plt.subplots(figsize=(9,9))\n",
    "plt.imshow(img)#,cmap='gray',vmin=-80, vmax=15)\n",
    "plt.axis('off')\n",
    "# plt.title(f'channel {chnl}, time {t:.1f}\\n',c='k',fontsize=22)#c='w',fontsize=22)\n",
    "plt.show()"
   ]
  },
  {
   "cell_type": "code",
   "execution_count": null,
   "metadata": {
    "ExecuteTime": {
     "end_time": "2021-12-02T00:28:12.433913Z",
     "start_time": "2021-12-02T00:28:12.433903Z"
    },
    "hidden": true
   },
   "outputs": [],
   "source": [
    "#make null stimulus\n",
    "width,height,chnlno=txt.shape\n",
    "zero_c2=np.zeros(shape=(width,height,2), dtype=np.float64, order='C')\n",
    "txt_Istim_none=zero_c2[...,0].copy()\n",
    "\n",
    "#randomly place semicircular stimulus\n",
    "random.seed(104)#108)#101)#\n",
    "num_semi=7\n",
    "mag=-1\n",
    "\n",
    "txt_Istim=txt_Istim_none.copy()\n",
    "for n in range(num_semi):\n",
    "    x0=random.uniform(0,1)*width\n",
    "    y0=random.uniform(0,1)*height\n",
    "    deg=random.uniform(0,1)*360\n",
    "    txt_Istim+=get_semicircle(txt,deg,x0,y0)\n",
    "txt_Istim*=mag\n",
    "txt_Istim_semi=txt_Istim.copy()\n",
    "# #Visualize the buffer (plain)\n",
    "# chnl=0\n",
    "# # print(np.max(txt[...,0]))\n",
    "# img=txt_Istim_semi#txt[...,chnl]\n",
    "# plt.imshow(img,cmap='gray')#,vmin=-80, vmax=15)\n",
    "# plt.axis('off')\n",
    "# # plt.title(f'channel {chnl}, time {t:.1f}\\n',c='k',fontsize=22)#c='w',fontsize=22)\n",
    "# plt.show()"
   ]
  },
  {
   "cell_type": "code",
   "execution_count": null,
   "metadata": {
    "ExecuteTime": {
     "end_time": "2021-12-02T00:28:12.434513Z",
     "start_time": "2021-12-02T00:28:12.434503Z"
    },
    "hidden": true
   },
   "outputs": [],
   "source": [
    "#semicircular stimulation\n",
    "tf=10\n",
    "# txt=txt_b.copy()\n",
    "num_steps=int((tf)/dt)\n",
    "txt_Istim=txt_Istim_semi.copy()\n",
    "update_every=100\n",
    "step_count=0\n",
    "for n in range(num_steps):\n",
    "    one_step_map(txt,txt_Istim)\n",
    "#     kernelA(txt,txt_Istim)\n",
    "#     kernelB(txt,txt_Istim)\n",
    "    step_count+=1\n",
    "    if step_count%update_every==0:\n",
    "#         t+=dt*update_every\n",
    "#         compute dict_out\n",
    "        printProgressBar(step_count,num_steps)\n",
    "t+=dt*num_steps#update_every\n",
    "print(f\"\\nthe final time is t = {t} ms.\")\n",
    "# beep(10)"
   ]
  },
  {
   "cell_type": "code",
   "execution_count": null,
   "metadata": {
    "ExecuteTime": {
     "end_time": "2021-12-02T00:28:12.435289Z",
     "start_time": "2021-12-02T00:28:12.435278Z"
    },
    "hidden": true
   },
   "outputs": [],
   "source": [
    "#Visualize the buffer (plain)\n",
    "print(np.max(txt[...,0]))\n",
    "img=txt[...,(0,-2,1)].copy()#chnl]#0,1,V,Ca_i,INa,IK\n",
    "mn=np.min(img[...,0]);mx=np.max(img[...,0])\n",
    "img[...,0]=(img[...,0]-mn)/(mx-mn)\n",
    "# mn=np.min(img[...,1]);mx=np.max(img[...,1])\n",
    "# img[...,1]=(img[...,1]-mn)/(mx-mn)\n",
    "mn=np.min(img[...,2]);mx=np.max(img[...,2])\n",
    "img[...,2]=(img[...,2]-mn)/(mx-mn)\n",
    "plt.subplots(figsize=(9,9))\n",
    "plt.imshow(img)#,cmap='gray',vmin=-80, vmax=15)\n",
    "plt.axis('off')\n",
    "# plt.title(f'channel {chnl}, time {t:.1f}\\n',c='k',fontsize=22)#c='w',fontsize=22)\n",
    "plt.show()"
   ]
  },
  {
   "cell_type": "code",
   "execution_count": null,
   "metadata": {
    "ExecuteTime": {
     "end_time": "2021-12-02T00:28:12.436233Z",
     "start_time": "2021-12-02T00:28:12.436215Z"
    },
    "hidden": true
   },
   "outputs": [],
   "source": [
    "#take 10000 time steps forward 1 sec without stimulation\n",
    "tf=800\n",
    "# txt=txt_b.copy()\n",
    "num_steps=int((tf)/dt)\n",
    "# txt_Istim=txt_Istim_none.copy()\n",
    "# update_every=100\n",
    "# step_count=0\n",
    "# for n in range(num_steps):\n",
    "#     kernelA(txt,txt_Istim)\n",
    "#     kernelB(txt,txt_Istim)\n",
    "#     step_count+=1\n",
    "#     if step_count%update_every==0:\n",
    "# #         t+=dt*update_every\n",
    "# #         compute dict_out\n",
    "#         printProgressBar(step_count,num_steps)\n",
    "# t+=dt*num_steps#update_every\n",
    "nsteps=int(num_steps/2)\n",
    "txt=one_step_map_gpu(txt,nsteps)\n",
    "t+=dt*num_steps\n",
    "print(f\"\\nthe number of steps taken is step_count = {step_count}.\")\n",
    "# beep(10)\n",
    "dt"
   ]
  },
  {
   "cell_type": "code",
   "execution_count": null,
   "metadata": {
    "ExecuteTime": {
     "end_time": "2021-12-02T00:28:12.437082Z",
     "start_time": "2021-12-02T00:28:12.437066Z"
    },
    "hidden": true
   },
   "outputs": [],
   "source": [
    "#save texture at this time t\n",
    "save=True\n",
    "if save:\n",
    "#     txt=stack_txt(inVc,outVc,inmhjdfx,outmhjdfx,dVcdt)\n",
    "    save_img_fn=f\"{nb_dir}/Data/initial-conditions-suite-4-FK/ic1800x1800_t_{t:.0f}.npz\"\n",
    "    #     img_out=txt#np.stack([img,dimgdt]).T\n",
    "    np.savez_compressed(save_img_fn,[txt])"
   ]
  },
  {
   "cell_type": "code",
   "execution_count": null,
   "metadata": {
    "ExecuteTime": {
     "end_time": "2021-12-02T00:28:12.438239Z",
     "start_time": "2021-12-02T00:28:12.438221Z"
    },
    "hidden": true
   },
   "outputs": [],
   "source": [
    "#Visualize the buffer (plain)\n",
    "print(np.max(txt[...,0]))\n",
    "img=txt[...,(0,-2,1)].copy()#chnl]#0,1,V,Ca_i,INa,IK\n",
    "mn=np.min(img[...,0]);mx=np.max(img[...,0])\n",
    "img[...,0]=(img[...,0]-mn)/(mx-mn)\n",
    "# mn=np.min(img[...,1]);mx=np.max(img[...,1])\n",
    "# img[...,1]=(img[...,1]-mn)/(mx-mn)\n",
    "mn=np.min(img[...,2]);mx=np.max(img[...,2])\n",
    "img[...,2]=(img[...,2]-mn)/(mx-mn)\n",
    "plt.subplots(figsize=(9,9))\n",
    "plt.imshow(img)#,cmap='gray',vmin=-80, vmax=15)\n",
    "plt.axis('off')\n",
    "# plt.title(f'channel {chnl}, time {t:.1f}\\n',c='k',fontsize=22)#c='w',fontsize=22)\n",
    "plt.show()"
   ]
  },
  {
   "cell_type": "code",
   "execution_count": null,
   "metadata": {
    "ExecuteTime": {
     "end_time": "2021-12-02T00:28:12.439150Z",
     "start_time": "2021-12-02T00:28:12.439132Z"
    },
    "hidden": true
   },
   "outputs": [],
   "source": [
    "#make null stimulus\n",
    "width,height,chnlno=txt.shape\n",
    "zero_c2=np.zeros(shape=(width,height,2), dtype=np.float64, order='C')\n",
    "txt_Istim_none=zero_c2[...,0].copy()\n",
    "\n",
    "#randomly place semicircular stimulus\n",
    "random.seed(101)#104)#108)#\n",
    "num_semi=7\n",
    "mag=-1\n",
    "\n",
    "txt_Istim=txt_Istim_none.copy()\n",
    "for n in range(num_semi):\n",
    "    x0=random.uniform(0,1)*width\n",
    "    y0=random.uniform(0,1)*height\n",
    "    deg=random.uniform(0,1)*360\n",
    "    txt_Istim+=get_semicircle(txt,deg,x0,y0)\n",
    "\n",
    "txt_Istim*=mag\n",
    "txt_Istim_semi=txt_Istim.copy()\n",
    "# #Visualize the buffer (plain)\n",
    "# chnl=0\n",
    "# # print(np.max(txt[...,0]))\n",
    "# img=txt_Istim_semi#txt[...,chnl]\n",
    "# plt.imshow(img,cmap='gray')#,vmin=-80, vmax=15)\n",
    "# plt.axis('off')\n",
    "# # plt.title(f'channel {chnl}, time {t:.1f}\\n',c='k',fontsize=22)#c='w',fontsize=22)\n",
    "# plt.show()"
   ]
  },
  {
   "cell_type": "code",
   "execution_count": null,
   "metadata": {
    "ExecuteTime": {
     "end_time": "2021-12-02T00:28:12.440017Z",
     "start_time": "2021-12-02T00:28:12.440001Z"
    },
    "hidden": true
   },
   "outputs": [],
   "source": [
    "#semicircular stimulation\n",
    "tf=10\n",
    "# txt=txt_b.copy()\n",
    "num_steps=int((tf)/dt)\n",
    "txt_Istim=txt_Istim_semi.copy()\n",
    "update_every=100\n",
    "step_count=0\n",
    "for n in range(num_steps):\n",
    "    one_step_map(txt,txt_Istim)\n",
    "#     kernelA(txt,txt_Istim)\n",
    "#     kernelB(txt,txt_Istim)\n",
    "    step_count+=1\n",
    "    if step_count%update_every==0:\n",
    "#         t+=dt*update_every\n",
    "#         compute dict_out\n",
    "        printProgressBar(step_count,num_steps)\n",
    "t+=dt*num_steps#update_every\n",
    "print(f\"\\nthe final time is t = {t} ms.\")\n",
    "# beep(10)"
   ]
  },
  {
   "cell_type": "code",
   "execution_count": null,
   "metadata": {
    "ExecuteTime": {
     "end_time": "2021-12-02T00:28:12.441211Z",
     "start_time": "2021-12-02T00:28:12.441194Z"
    },
    "hidden": true
   },
   "outputs": [],
   "source": [
    "#Visualize the buffer (plain)\n",
    "print(np.max(txt[...,0]))\n",
    "img=txt[...,(0,-2,1)].copy()#chnl]#0,1,V,Ca_i,INa,IK\n",
    "mn=np.min(img[...,0]);mx=np.max(img[...,0])\n",
    "img[...,0]=(img[...,0]-mn)/(mx-mn)\n",
    "# mn=np.min(img[...,1]);mx=np.max(img[...,1])\n",
    "# img[...,1]=(img[...,1]-mn)/(mx-mn)\n",
    "mn=np.min(img[...,2]);mx=np.max(img[...,2])\n",
    "img[...,2]=(img[...,2]-mn)/(mx-mn)\n",
    "plt.subplots(figsize=(9,9))\n",
    "plt.imshow(img)#,cmap='gray',vmin=-80, vmax=15)\n",
    "plt.axis('off')\n",
    "# plt.title(f'channel {chnl}, time {t:.1f}\\n',c='k',fontsize=22)#c='w',fontsize=22)\n",
    "plt.show()"
   ]
  },
  {
   "cell_type": "code",
   "execution_count": null,
   "metadata": {
    "ExecuteTime": {
     "end_time": "2021-12-02T00:28:12.442151Z",
     "start_time": "2021-12-02T00:28:12.442134Z"
    },
    "hidden": true
   },
   "outputs": [],
   "source": [
    "#take 10000 time steps forward 1 sec without stimulation\n",
    "tf=800\n",
    "# txt=txt_b.copy()\n",
    "num_steps=int((tf)/dt)\n",
    "# txt_Istim=txt_Istim_none.copy()\n",
    "# update_every=100\n",
    "# step_count=0\n",
    "# for n in range(num_steps):\n",
    "#     kernelA(txt,txt_Istim)\n",
    "#     kernelB(txt,txt_Istim)\n",
    "#     step_count+=1\n",
    "#     if step_count%update_every==0:\n",
    "# #         t+=dt*update_every\n",
    "# #         compute dict_out\n",
    "#         printProgressBar(step_count,num_steps)\n",
    "# t+=dt*num_steps#update_every\n",
    "nsteps=int(num_steps/2)\n",
    "txt=one_step_map_gpu(txt,nsteps)\n",
    "t+=dt*num_steps\n",
    "print(f\"\\nthe number of steps taken is step_count = {step_count}.\")\n",
    "# beep(10)\n",
    "dt"
   ]
  },
  {
   "cell_type": "code",
   "execution_count": null,
   "metadata": {
    "ExecuteTime": {
     "end_time": "2021-12-02T00:28:12.443097Z",
     "start_time": "2021-12-02T00:28:12.443080Z"
    },
    "hidden": true
   },
   "outputs": [],
   "source": [
    "#save texture at this time t\n",
    "save=True\n",
    "if save:\n",
    "#     txt=stack_txt(inVc,outVc,inmhjdfx,outmhjdfx,dVcdt)\n",
    "    save_img_fn=f\"{nb_dir}/Data/initial-conditions-suite-4-FK/ic1800x1800_t_{t:.0f}.npz\"\n",
    "    #     img_out=txt#np.stack([img,dimgdt]).T\n",
    "    np.savez_compressed(save_img_fn,[txt])"
   ]
  },
  {
   "cell_type": "code",
   "execution_count": null,
   "metadata": {
    "ExecuteTime": {
     "end_time": "2021-12-02T00:28:12.443892Z",
     "start_time": "2021-12-02T00:28:12.443875Z"
    },
    "hidden": true
   },
   "outputs": [],
   "source": [
    "#Visualize the buffer (plain)\n",
    "print(np.max(txt[...,0]))\n",
    "img=txt[...,(0,-2,1)].copy()#chnl]#0,1,V,Ca_i,INa,IK\n",
    "mn=np.min(img[...,0]);mx=np.max(img[...,0])\n",
    "img[...,0]=(img[...,0]-mn)/(mx-mn)\n",
    "# mn=np.min(img[...,1]);mx=np.max(img[...,1])\n",
    "# img[...,1]=(img[...,1]-mn)/(mx-mn)\n",
    "mn=np.min(img[...,2]);mx=np.max(img[...,2])\n",
    "img[...,2]=(img[...,2]-mn)/(mx-mn)\n",
    "plt.subplots(figsize=(9,9))\n",
    "plt.imshow(img)#,cmap='gray',vmin=-80, vmax=15)\n",
    "plt.axis('off')\n",
    "# plt.title(f'channel {chnl}, time {t:.1f}\\n',c='k',fontsize=22)#c='w',fontsize=22)\n",
    "plt.show()"
   ]
  },
  {
   "cell_type": "markdown",
   "metadata": {
    "hidden": true
   },
   "source": [
    "Now, chunk ^these into 200x200 regions, and verify that each one contains spiral tips!"
   ]
  },
  {
   "cell_type": "code",
   "execution_count": null,
   "metadata": {
    "ExecuteTime": {
     "end_time": "2021-12-02T00:28:12.444836Z",
     "start_time": "2021-12-02T00:28:12.444820Z"
    },
    "hidden": true
   },
   "outputs": [],
   "source": [
    "#save texture at this time t\n",
    "save=True\n",
    "if save:\n",
    "#     txt=stack_txt(inVc,outVc,inmhjdfx,outmhjdfx,dVcdt)\n",
    "    save_img_fn=f\"{nb_dir}/Data/initial-conditions-suite-4-FK/ic1800x1800_t_{t:.0f}_tiny.npz\"\n",
    "    #     img_out=txt#np.stack([img,dimgdt]).T\n",
    "    np.savez_compressed(save_img_fn,[txt.astype('float16')])"
   ]
  },
  {
   "cell_type": "code",
   "execution_count": null,
   "metadata": {
    "ExecuteTime": {
     "end_time": "2021-12-02T00:28:12.445822Z",
     "start_time": "2021-12-02T00:28:12.445804Z"
    },
    "hidden": true
   },
   "outputs": [],
   "source": [
    "save_img_fn"
   ]
  },
  {
   "cell_type": "code",
   "execution_count": null,
   "metadata": {
    "ExecuteTime": {
     "end_time": "2021-12-02T00:28:12.446649Z",
     "start_time": "2021-12-02T00:28:12.446632Z"
    },
    "hidden": true
   },
   "outputs": [],
   "source": [
    "# #load the tiny buffer and verify it is still looks reasonable when compressing to float16.  Let's use float32\n",
    "# img_fn='/Users/timothytyree/Documents/GitHub/care/notebooks/Data/initial-conditions-suite-3-LR/ic1800x1800_t_2830_tiny.npz'\n",
    "# # img_fn=f'{nb_dir}/Data/initial-conditions-suite-3-LR/ic600x600_tt/ic001.npz'\n",
    "# txt_tiny=load_buffer(img_fn)[0]\n",
    "# # #Visualize the buffer (plain)\n",
    "# # print(np.max(txt_tiny[...,0]))\n",
    "# # img=txt_tiny.astype('float32')[...,(0,-2,1)].copy()#chnl]#0,1,V,Ca_i,INa,IK\n",
    "# # mn=np.min(img[...,0]);mx=np.max(img[...,0])\n",
    "# # img[...,0]=(img[...,0]-mn)/(mx-mn)\n",
    "# # # mn=np.min(img[...,1]);mx=np.max(img[...,1])\n",
    "# # # img[...,1]=(img[...,1]-mn)/(mx-mn)\n",
    "# # mn=np.min(img[...,2]);mx=np.max(img[...,2])\n",
    "# # img[...,2]=(img[...,2]-mn)/(mx-mn)\n",
    "# # plt.subplots(figsize=(9,9))\n",
    "# # plt.imshow(img)#,cmap='gray',vmin=-80, vmax=15)\n",
    "# # plt.axis('off')\n",
    "# # # plt.title(f'channel {chnl}, time {t:.1f}\\n',c='k',fontsize=22)#c='w',fontsize=22)\n",
    "# # plt.show()\n",
    "# txt_tiny[0,0,6]"
   ]
  },
  {
   "cell_type": "code",
   "execution_count": null,
   "metadata": {
    "ExecuteTime": {
     "end_time": "2021-01-21T19:15:26.192486Z",
     "start_time": "2021-01-21T19:15:26.146891Z"
    },
    "hidden": true
   },
   "outputs": [],
   "source": []
  },
  {
   "cell_type": "code",
   "execution_count": null,
   "metadata": {
    "ExecuteTime": {
     "end_time": "2021-12-02T00:28:12.447746Z",
     "start_time": "2021-12-02T00:28:12.447729Z"
    },
    "hidden": true
   },
   "outputs": [],
   "source": [
    "# img_fn='/Users/timothytyree/Documents/GitHub/care/notebooks/Data/initial-conditions-suite-4-FK/ic1800x1800_t_2830.npz'\n",
    "# t=2830\n",
    "# # img_fn=f'{nb_dir}/Data/initial-conditions-suite-3-LR/ic600x600_tt/ic001.npz'\n",
    "# txt=load_buffer(img_fn)[0]\n",
    "# txt.shape"
   ]
  },
  {
   "cell_type": "code",
   "execution_count": null,
   "metadata": {
    "ExecuteTime": {
     "end_time": "2021-12-02T00:28:12.448678Z",
     "start_time": "2021-12-02T00:28:12.448662Z"
    },
    "hidden": true
   },
   "outputs": [],
   "source": [
    "#make null stimulus\n",
    "width,height,chnlno=txt.shape\n",
    "zero_c2=np.zeros(shape=(width,height,2), dtype=np.float64, order='C')\n",
    "txt_Istim_none=zero_c2[...,0].copy()\n",
    "\n",
    "#randomly place semicircular stimulus\n",
    "random.seed(1011)#101)#104)#\n",
    "num_semi=7\n",
    "mag=-1\n",
    "\n",
    "txt_Istim=txt_Istim_none.copy()\n",
    "for n in range(num_semi):\n",
    "    x0=random.uniform(0,1)*width\n",
    "    y0=random.uniform(0,1)*height\n",
    "    deg=random.uniform(0,1)*360\n",
    "    txt_Istim+=get_semicircle(txt,deg,x0,y0)\n",
    "\n",
    "txt_Istim*=mag\n",
    "txt_Istim_semi=txt_Istim.copy()\n",
    "# #Visualize the buffer (plain)\n",
    "# chnl=0\n",
    "# # print(np.max(txt[...,0]))\n",
    "# img=txt_Istim_semi#txt[...,chnl]\n",
    "# plt.imshow(img,cmap='gray')#,vmin=-80, vmax=15)\n",
    "# plt.axis('off')\n",
    "# # plt.title(f'channel {chnl}, time {t:.1f}\\n',c='k',fontsize=22)#c='w',fontsize=22)\n",
    "# plt.show()"
   ]
  },
  {
   "cell_type": "code",
   "execution_count": null,
   "metadata": {
    "ExecuteTime": {
     "end_time": "2021-12-02T00:28:12.449884Z",
     "start_time": "2021-12-02T00:28:12.449868Z"
    },
    "hidden": true
   },
   "outputs": [],
   "source": [
    "#semicircular stimulation\n",
    "tf=10\n",
    "# txt=txt_b.copy()\n",
    "num_steps=int((tf)/dt)\n",
    "txt_Istim=txt_Istim_semi.copy()\n",
    "update_every=100\n",
    "step_count=0\n",
    "for n in range(num_steps):\n",
    "    one_step_map(txt,txt_Istim)\n",
    "#     kernelA(txt,txt_Istim)\n",
    "#     kernelB(txt,txt_Istim)\n",
    "    step_count+=1\n",
    "    if step_count%update_every==0:\n",
    "#         t+=dt*update_every\n",
    "#         compute dict_out\n",
    "        printProgressBar(step_count,num_steps)\n",
    "t+=dt*num_steps#update_every\n",
    "print(f\"\\nthe final time is t = {t} ms.\")\n",
    "# beep(10)"
   ]
  },
  {
   "cell_type": "code",
   "execution_count": null,
   "metadata": {
    "ExecuteTime": {
     "end_time": "2021-12-02T00:28:12.450860Z",
     "start_time": "2021-12-02T00:28:12.450843Z"
    },
    "hidden": true
   },
   "outputs": [],
   "source": [
    "#Visualize the buffer (plain)\n",
    "print(np.max(txt[...,0]))\n",
    "img=txt[...,(0,-2,1)].copy()#chnl]#0,1,V,Ca_i,INa,IK\n",
    "mn=np.min(img[...,0]);mx=np.max(img[...,0])\n",
    "img[...,0]=(img[...,0]-mn)/(mx-mn)\n",
    "# mn=np.min(img[...,1]);mx=np.max(img[...,1])\n",
    "# img[...,1]=(img[...,1]-mn)/(mx-mn)\n",
    "mn=np.min(img[...,2]);mx=np.max(img[...,2])\n",
    "img[...,2]=(img[...,2]-mn)/(mx-mn)\n",
    "plt.subplots(figsize=(9,9))\n",
    "plt.imshow(img)#,cmap='gray',vmin=-80, vmax=15)\n",
    "plt.axis('off')\n",
    "# plt.title(f'channel {chnl}, time {t:.1f}\\n',c='k',fontsize=22)#c='w',fontsize=22)\n",
    "plt.show()"
   ]
  },
  {
   "cell_type": "code",
   "execution_count": null,
   "metadata": {
    "ExecuteTime": {
     "end_time": "2021-12-02T00:28:12.451955Z",
     "start_time": "2021-12-02T00:28:12.451937Z"
    },
    "hidden": true
   },
   "outputs": [],
   "source": [
    "#take 10000 time steps forward 1 sec without stimulation\n",
    "tf=800\n",
    "# txt=txt_b.copy()\n",
    "num_steps=int((tf)/dt)\n",
    "# txt_Istim=txt_Istim_none.copy()\n",
    "# update_every=100\n",
    "# step_count=0\n",
    "# for n in range(num_steps):\n",
    "#     kernelA(txt,txt_Istim)\n",
    "#     kernelB(txt,txt_Istim)\n",
    "#     step_count+=1\n",
    "#     if step_count%update_every==0:\n",
    "# #         t+=dt*update_every\n",
    "# #         compute dict_out\n",
    "#         printProgressBar(step_count,num_steps)\n",
    "# t+=dt*num_steps#update_every\n",
    "nsteps=int(num_steps/2)\n",
    "txt=one_step_map_gpu(txt,nsteps)\n",
    "t+=dt*num_steps\n",
    "print(f\"\\nthe number of steps taken is step_count = {step_count}.\")\n",
    "beep(10)"
   ]
  },
  {
   "cell_type": "code",
   "execution_count": null,
   "metadata": {
    "ExecuteTime": {
     "end_time": "2021-12-02T00:28:12.452771Z",
     "start_time": "2021-12-02T00:28:12.452754Z"
    },
    "hidden": true
   },
   "outputs": [],
   "source": [
    "#Visualize the buffer (plain)\n",
    "print(np.max(txt[...,0]))\n",
    "img=txt[...,(0,-2,1)].copy()#chnl]#0,1,V,Ca_i,INa,IK\n",
    "mn=np.min(img[...,0]);mx=np.max(img[...,0])\n",
    "img[...,0]=(img[...,0]-mn)/(mx-mn)\n",
    "# mn=np.min(img[...,1]);mx=np.max(img[...,1])\n",
    "# img[...,1]=(img[...,1]-mn)/(mx-mn)\n",
    "mn=np.min(img[...,2]);mx=np.max(img[...,2])\n",
    "img[...,2]=(img[...,2]-mn)/(mx-mn)\n",
    "plt.subplots(figsize=(9,9))\n",
    "plt.imshow(img)#,cmap='gray',vmin=-80, vmax=15)\n",
    "plt.axis('off')\n",
    "# plt.title(f'channel {chnl}, time {t:.1f}\\n',c='k',fontsize=22)#c='w',fontsize=22)\n",
    "plt.show()"
   ]
  },
  {
   "cell_type": "code",
   "execution_count": null,
   "metadata": {
    "ExecuteTime": {
     "end_time": "2021-12-02T00:28:12.453849Z",
     "start_time": "2021-12-02T00:28:12.453833Z"
    },
    "hidden": true
   },
   "outputs": [],
   "source": [
    "#save texture at this time t\n",
    "save=True\n",
    "if save:\n",
    "#     txt=stack_txt(inVc,outVc,inmhjdfx,outmhjdfx,dVcdt)\n",
    "    save_img_fn=f\"{nb_dir}/Data/initial-conditions-suite-4-FK/ic1800x1800_t_{t:.0f}.npz\"\n",
    "    #     img_out=txt#np.stack([img,dimgdt]).T\n",
    "    np.savez_compressed(save_img_fn,[txt])#.astype('float16')])"
   ]
  },
  {
   "cell_type": "code",
   "execution_count": null,
   "metadata": {
    "ExecuteTime": {
     "end_time": "2021-12-02T00:28:12.454786Z",
     "start_time": "2021-12-02T00:28:12.454770Z"
    },
    "hidden": true
   },
   "outputs": [],
   "source": [
    "t"
   ]
  },
  {
   "cell_type": "markdown",
   "metadata": {
    "heading_collapsed": true
   },
   "source": [
    "# check if spiral tips are present"
   ]
  },
  {
   "cell_type": "code",
   "execution_count": null,
   "metadata": {
    "ExecuteTime": {
     "end_time": "2021-12-02T00:28:12.455676Z",
     "start_time": "2021-12-02T00:28:12.455659Z"
    },
    "hidden": true
   },
   "outputs": [],
   "source": [
    "ic_fn_lst=[\n",
    "    \"ic018.13.npz\",\n",
    "    \"ic008.23.npz\",\n",
    "    \"ic017.13.npz\",\n",
    "    \"ic005.11.npz\",\n",
    "    \"ic013.12.npz\",\n",
    "    \"ic011.12.npz\",\n",
    "    \"ic007.22.npz\",\n",
    "    \"ic012.32.npz\",\n",
    "    \"ic007.33.npz\",\n",
    "    \"ic014.11.npz\",\n",
    "    \"ic013.22.npz\",\n",
    "    \"ic017.11.npz\",\n",
    "    \"ic009.21.npz\",\n",
    "    \"ic007.12.npz\"\n",
    "]"
   ]
  },
  {
   "cell_type": "code",
   "execution_count": null,
   "metadata": {
    "ExecuteTime": {
     "end_time": "2021-12-02T00:28:12.456650Z",
     "start_time": "2021-12-02T00:28:12.456633Z"
    },
    "hidden": true
   },
   "outputs": [],
   "source": [
    "# input_file_name=\"ic007.12.npz\"\n",
    "input_folder=f\"{nb_dir}/Data/initial-conditions-suite-3-LR/ic-out\"\n",
    "os.chdir(input_folder)\n",
    "not_reasonable_lst=[]\n",
    "num_todo=1\n",
    "compute_all_spiral_tips= get_compute_all_spiral_tips(mode='simp',width=width,height=height)\n",
    "for input_file_name in ic_fn_lst[:num_todo]:\n",
    "    txt=load_buffer(input_file_name)\n",
    "\n",
    "    #test the V_threshold value\n",
    "    V_threshold=-60.\n",
    "    level1 = V_threshold\n",
    "    t=-999\n",
    "    level2 = 0.\n",
    "    inVc,outVc,inmhjdfx,outmhjdfx,dVcdt=unstack_txt(txt)\n",
    "    img=inVc[...,0]\n",
    "    dimgdt=dVcdt[...,0]\n",
    "    dict_out=compute_all_spiral_tips(t,img,dimgdt,level1,level2)#,width=width,height=height)\n",
    "    print(len(list(dict_out['x'])))\n",
    "    fig=show_buffer_LR(txt,figsize=(3,3))\n",
    "    axs=fig.get_axes()\n",
    "    ax=axs[0]\n",
    "    ax.scatter(dict_out['x'],dict_out['y'],s=150,c='yellow',marker='*')\n",
    "    plt.show()\n",
    "    retval=input(f\"is_reasonable? (enter y/n)\")\n",
    "    if retval[0]!='y':\n",
    "        not_reasonable_lst.append(input_file_name)\n",
    "    plt.close()"
   ]
  },
  {
   "cell_type": "code",
   "execution_count": null,
   "metadata": {
    "ExecuteTime": {
     "end_time": "2021-12-02T00:28:12.457811Z",
     "start_time": "2021-12-02T00:28:12.457794Z"
    },
    "hidden": true
   },
   "outputs": [],
   "source": [
    "print(not_reasonable_lst)"
   ]
  },
  {
   "cell_type": "code",
   "execution_count": null,
   "metadata": {
    "ExecuteTime": {
     "end_time": "2021-12-02T00:28:12.458688Z",
     "start_time": "2021-12-02T00:28:12.458671Z"
    },
    "hidden": true
   },
   "outputs": [],
   "source": [
    "input_folder=f\"{nb_dir}/Data/initial-conditions-suite-3-LR/ic-in\"\n",
    "os.chdir(input_folder)\n",
    "input_file_name='ic005.11.npz'\n",
    "# txt=load_buffer('ic017.11.npz')#test the V_threshold value\n",
    "# V_threshold=-50#all okay-60.#-50.#-40\n",
    "txt=load_buffer(input_file_name)#test the V_threshold value\n",
    "V_threshold=-60\n",
    "\n",
    "level1 = V_threshold\n",
    "t=-999\n",
    "level2 = 0.\n",
    "inVc,outVc,inmhjdfx,outmhjdfx,dVcdt=unstack_txt(txt)\n",
    "img=inVc[...,0]\n",
    "dimgdt=dVcdt[...,0]\n",
    "compute_all_spiral_tips= get_compute_all_spiral_tips(mode='simp',width=width,height=height)\n",
    "dict_out=compute_all_spiral_tips(t,img,dimgdt,level1,level2)#,width=width,height=height)\n",
    "print(len(list(dict_out['x'])))\n",
    "fig=show_buffer_LR(txt,figsize=(3,3))\n",
    "axs=fig.get_axes()\n",
    "ax=axs[0]\n",
    "ax.scatter(dict_out['x'],dict_out['y'],s=150,c='yellow',marker='*')\n",
    "plt.show()"
   ]
  },
  {
   "cell_type": "code",
   "execution_count": null,
   "metadata": {
    "hidden": true
   },
   "outputs": [],
   "source": []
  },
  {
   "cell_type": "markdown",
   "metadata": {
    "heading_collapsed": true
   },
   "source": [
    "# TODO: test that loading an ic keeps spiral tips when changing parameter sets"
   ]
  },
  {
   "cell_type": "markdown",
   "metadata": {},
   "source": [
    "# (ignore) I cannot use the LR ic's to start SDC using any FK time step"
   ]
  },
  {
   "cell_type": "markdown",
   "metadata": {
    "ExecuteTime": {
     "end_time": "2021-02-09T22:56:43.358598Z",
     "start_time": "2021-02-09T22:56:43.303877Z"
    }
   },
   "source": [
    "project V (mV) onto V (unitless), j onto f , and j,f,w onto s."
   ]
  },
  {
   "cell_type": "code",
   "execution_count": null,
   "metadata": {
    "ExecuteTime": {
     "end_time": "2021-12-02T00:28:12.459587Z",
     "start_time": "2021-12-02T00:28:12.459570Z"
    }
   },
   "outputs": [],
   "source": [
    "from lib.utils import get_txt"
   ]
  },
  {
   "cell_type": "code",
   "execution_count": null,
   "metadata": {
    "ExecuteTime": {
     "end_time": "2021-12-02T00:28:12.460665Z",
     "start_time": "2021-12-02T00:28:12.460654Z"
    }
   },
   "outputs": [],
   "source": [
    "#TODO: load a small txt from LR database\n",
    "txt_id1=0\n",
    "txt_id2=0 \n",
    "width=200\n",
    "height=200\n",
    "worker_dir=nb_dir\n",
    "txt=get_txt(txt_id1, txt_id2, width, height, worker_dir)#, **kwargs)\n",
    "txt_lr=txt.copy()"
   ]
  },
  {
   "cell_type": "code",
   "execution_count": null,
   "metadata": {
    "ExecuteTime": {
     "end_time": "2021-12-02T00:28:12.461580Z",
     "start_time": "2021-12-02T00:28:12.461570Z"
    }
   },
   "outputs": [],
   "source": [
    "#save texture at this time t\n",
    "save=True\n",
    "if save:\n",
    "#     txt=stack_txt(inVc,outVc,inmhjdfx,outmhjdfx,dVcdt)\n",
    "    save_img_fn=f\"{nb_dir}/Data/test_data/test_txt_LR.npz\"\n",
    "    #     img_out=txt#np.stack([img,dimgdt]).T\n",
    "    np.savez_compressed(save_img_fn,[txt])\n",
    "print(save_img_fn)"
   ]
  },
  {
   "cell_type": "code",
   "execution_count": null,
   "metadata": {
    "ExecuteTime": {
     "end_time": "2021-12-02T00:28:12.462322Z",
     "start_time": "2021-12-02T00:28:12.462298Z"
    }
   },
   "outputs": [],
   "source": [
    "from lib.utils import load_buffer\n",
    "# txt=load_buffer(save_img_fn)\n",
    "img_fn=\"/Users/timothytyree/Documents/GitHub/care/notebooks/Data/test_data/test_txt_LR.npz\"\n",
    "txt=np.load(save_img_fn)['arr_0'][0]"
   ]
  },
  {
   "cell_type": "code",
   "execution_count": null,
   "metadata": {
    "ExecuteTime": {
     "end_time": "2021-12-02T00:28:12.462909Z",
     "start_time": "2021-12-02T00:28:12.462899Z"
    }
   },
   "outputs": [],
   "source": [
    "inVc, outVc, inmhjdfx, outmhjdfx, dVcdt=unstack_txt(txt_lr)\n",
    "V=inVc[...,0]\n",
    "Vmn=np.min(V)\n",
    "Vmx=0\n",
    "V=(V+Vmn)/(Vmx-Vmn)\n",
    "F=0.6*inmhjdfx[...,1]#h\n",
    "# F=0.6*inmhjdfx[...,2]#j #didn't work\n",
    "S=1-0.5*(1-inmhjdfx[...,4])#f \n",
    "txt=np.stack([V,F,S],axis=-1)\n",
    "txt.shape"
   ]
  },
  {
   "cell_type": "code",
   "execution_count": null,
   "metadata": {
    "ExecuteTime": {
     "end_time": "2021-12-02T00:28:12.463960Z",
     "start_time": "2021-12-02T00:28:12.463948Z"
    }
   },
   "outputs": [],
   "source": [
    "#save texture at this time t\n",
    "save=True\n",
    "if save:\n",
    "#     txt=stack_txt(inVc,outVc,inmhjdfx,outmhjdfx,dVcdt)\n",
    "    save_img_fn=f\"{nb_dir}/Data/test_data/test_txt_FK_from_LR.npz\"\n",
    "    #     img_out=txt#np.stack([img,dimgdt]).T\n",
    "    np.savez_compressed(save_img_fn,[txt])\n",
    "print(save_img_fn)"
   ]
  },
  {
   "cell_type": "code",
   "execution_count": null,
   "metadata": {
    "ExecuteTime": {
     "end_time": "2021-12-02T00:28:12.464638Z",
     "start_time": "2021-12-02T00:28:12.464628Z"
    }
   },
   "outputs": [],
   "source": [
    "from lib.utils import load_buffer\n",
    "# txt=load_buffer(save_img_fn)\n",
    "txt=np.load(save_img_fn)['arr_0'][0]"
   ]
  },
  {
   "cell_type": "code",
   "execution_count": null,
   "metadata": {
    "ExecuteTime": {
     "end_time": "2021-12-02T00:28:12.465182Z",
     "start_time": "2021-12-02T00:28:12.465172Z"
    }
   },
   "outputs": [],
   "source": [
    "plt.imshow(txt[...,0],cmap='gray')\n",
    "plt.axis('off')\n",
    "plt.show()\n"
   ]
  },
  {
   "cell_type": "code",
   "execution_count": null,
   "metadata": {
    "ExecuteTime": {
     "end_time": "2021-12-02T00:28:12.465915Z",
     "start_time": "2021-12-02T00:28:12.465905Z"
    }
   },
   "outputs": [],
   "source": [
    "# width=200;height=200\n",
    "dsdpixel=0.025\n",
    "V_threshold = 0.4\n",
    "h=0.01# kwarg\n",
    "param_fn = 'param_set_8.json'\n",
    "param_dir = os.path.join(nb_dir,'lib/model')\n",
    "param_dict = json.load(open(os.path.join(param_dir,param_fn)))\n",
    "get_time_step=fetch_get_time_step(width,height,DX=dsdpixel,DY=dsdpixel,**param_dict)\n",
    "time_step=fetch_time_step(width,height,DX=dsdpixel,DY=dsdpixel,**param_dict)\n",
    "compute_all_spiral_tips= get_compute_all_spiral_tips(mode='simp',width=width,height=height)\n",
    "\n",
    "# ds=15.0\n",
    "# dt,one_step_map=get_one_step_map(nb_dir,dt=0.1,width=width,height=height,ds=ds,diffCoef=0.001,dsdpixel=ds/width,Cm=1.0,)\n",
    "# txt=get_blank_txt_FK(width,height,V_initial=0.,f_initial = 0., s_initial=0.)\n",
    "zero_txt=np.zeros_like(txt)\n",
    "def one_step_map(txt):\n",
    "    time_step(txt, h, zero_txt)"
   ]
  },
  {
   "cell_type": "code",
   "execution_count": null,
   "metadata": {
    "ExecuteTime": {
     "end_time": "2021-12-02T00:28:12.466810Z",
     "start_time": "2021-12-02T00:28:12.466799Z"
    }
   },
   "outputs": [],
   "source": [
    "#forward Euler integration in time\n",
    "for stepno in range(10000):\n",
    "    time_step(txt, h, zero_txt)\n"
   ]
  },
  {
   "cell_type": "code",
   "execution_count": null,
   "metadata": {
    "ExecuteTime": {
     "end_time": "2021-12-02T00:28:12.467357Z",
     "start_time": "2021-12-02T00:28:12.467347Z"
    }
   },
   "outputs": [],
   "source": [
    "beep(3)"
   ]
  },
  {
   "cell_type": "code",
   "execution_count": null,
   "metadata": {
    "ExecuteTime": {
     "end_time": "2021-12-02T00:28:12.468294Z",
     "start_time": "2021-12-02T00:28:12.468269Z"
    }
   },
   "outputs": [],
   "source": [
    "plt.imshow(txt[...,0],cmap='gray')\n",
    "plt.axis('off')\n",
    "plt.show()\n",
    "beep(2)"
   ]
  },
  {
   "cell_type": "code",
   "execution_count": null,
   "metadata": {
    "ExecuteTime": {
     "end_time": "2021-12-02T00:28:12.469056Z",
     "start_time": "2021-12-02T00:28:12.469046Z"
    }
   },
   "outputs": [],
   "source": [
    "np.min(txt[...,0])"
   ]
  },
  {
   "cell_type": "code",
   "execution_count": null,
   "metadata": {},
   "outputs": [],
   "source": []
  }
 ],
 "metadata": {
  "kernelspec": {
   "display_name": "Python 3 (ipykernel)",
   "language": "python",
   "name": "python3"
  },
  "language_info": {
   "codemirror_mode": {
    "name": "ipython",
    "version": 3
   },
   "file_extension": ".py",
   "mimetype": "text/x-python",
   "name": "python",
   "nbconvert_exporter": "python",
   "pygments_lexer": "ipython3",
   "version": "3.7.10"
  },
  "toc": {
   "base_numbering": 1,
   "nav_menu": {},
   "number_sections": true,
   "sideBar": true,
   "skip_h1_title": false,
   "title_cell": "Table of Contents",
   "title_sidebar": "Contents",
   "toc_cell": false,
   "toc_position": {
    "height": "calc(100% - 180px)",
    "left": "10px",
    "top": "150px",
    "width": "307.2px"
   },
   "toc_section_display": true,
   "toc_window_display": false
  },
  "varInspector": {
   "cols": {
    "lenName": 16,
    "lenType": 16,
    "lenVar": 40
   },
   "kernels_config": {
    "python": {
     "delete_cmd_postfix": "",
     "delete_cmd_prefix": "del ",
     "library": "var_list.py",
     "varRefreshCmd": "print(var_dic_list())"
    },
    "r": {
     "delete_cmd_postfix": ") ",
     "delete_cmd_prefix": "rm(",
     "library": "var_list.r",
     "varRefreshCmd": "cat(var_dic_list()) "
    }
   },
   "types_to_exclude": [
    "module",
    "function",
    "builtin_function_or_method",
    "instance",
    "_Feature"
   ],
   "window_display": false
  }
 },
 "nbformat": 4,
 "nbformat_minor": 2
}
