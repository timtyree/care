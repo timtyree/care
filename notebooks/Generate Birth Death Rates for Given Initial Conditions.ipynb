{
 "cells": [
  {
   "cell_type": "markdown",
   "metadata": {},
   "source": [
    "# Generate Birth Death Rates for Given Initial Conditions\n",
    "Tim Tyree\n",
    "8.11.2020"
   ]
  },
  {
   "cell_type": "markdown",
   "metadata": {},
   "source": [
    "__bare minimum is this plus plotting the output by 3pm tomorrow__\n",
    "- DONE: clean up these sections.  remove uneeded comments, redundant code\n",
    "- DONE: save birth death rates to a file named according to all of the relevant parameters in a special folder. don't delete the last entry! it gives the termination time!\n",
    "- DONE: move all parameters to the beginning of the notebook\n",
    "- TODO: move notebook contents to sublimetext and call on a list of functions!\n",
    "- TODO: make EP fields spread out into their own fields in the trajectories\n",
    "- TODO: change the print statements to print to a log file \n",
    "- TODO: smooth out the filenames in sublimeText\n",
    "- DONE: make asserting=True by default. (optional) make beeping=True by default\n",
    "- TODO: make ext incrementing work again.  keep it simple, stupid!\n",
    "__and then,__ \n",
    "run all nine grid squares, "
   ]
  },
  {
   "cell_type": "code",
   "execution_count": 1,
   "metadata": {
    "ExecuteTime": {
     "end_time": "2020-08-14T21:56:50.140607Z",
     "start_time": "2020-08-14T21:56:47.761259Z"
    }
   },
   "outputs": [
    {
     "name": "stdout",
     "output_type": "stream",
     "text": [
      "100000\n",
      "Automatic calling is: Smart\n"
     ]
    }
   ],
   "source": [
    "#pylab\n",
    "%matplotlib inline\n",
    "import numpy as np, pandas as pd, matplotlib.pyplot as plt\n",
    "# from pylab import imshow, show\n",
    "\n",
    "#tracking\n",
    "import numba, trackpy\n",
    "# sklearn\n",
    "\n",
    "#automate the boring stuff\n",
    "# from IPython import utils\n",
    "import time, os, sys, re\n",
    "beep = lambda x: os.system(\"echo -n '\\\\a';sleep 0.2;\" * x)\n",
    "if not 'nb_dir' in globals():\n",
    "    nb_dir = os.getcwd()\n",
    "\n",
    "#are these even used?\n",
    "from numba import njit, jit, vectorize\n",
    "# import skimage as sk\n",
    "from skimage import measure, filters\n",
    "# from PIL import Image\n",
    "# import imageio\n",
    "\n",
    "#load the libraries\n",
    "from lib import *\n",
    "from lib.dist_func import *\n",
    "\n",
    "#load the libraries\n",
    "from lib.operari import *\n",
    "from lib.ProgressBar import *\n",
    "from lib.minimal_model import *\n",
    "from lib.TexturePlot import *\n",
    "from lib.get_tips import *\n",
    "from lib.minimal_model import *\n",
    "from lib.intersection import *\n",
    "\n",
    "%autocall 1\n",
    "%load_ext autoreload\n",
    "%autoreload 2"
   ]
  },
  {
   "cell_type": "code",
   "execution_count": 4,
   "metadata": {
    "ExecuteTime": {
     "end_time": "2020-08-14T22:33:20.358186Z",
     "start_time": "2020-08-14T22:33:20.332873Z"
    }
   },
   "outputs": [],
   "source": [
    "#the given initial conditions\n",
    "initial_condition_dir = '/Users/timothytyree/Documents/GitHub/care/notebooks/Data/initial-conditions-suite-1/ic-in/ic_200x200.121.33.npz'\n",
    "# sub_id = 33\n",
    "# file = '/Users/timothytyree/Documents/GitHub/care/notebooks/Data/initial-conditions-suite-1/ds_5_param_set_8/birth-death-rates/ic_200x200.117.21_ds_5_sigma_1.5_threshold_0.6_sr_50_mem_2_tmin_100_LT_2_bdrates.csv'\n",
    "# data_dir =file\n",
    "# initial_condition_dir\n",
    "# initial_condition_dir = nb_dir + f'/Data/initial-conditions/ic_200x200.101.{sub_id}.npz'\n",
    "# data_dir =initial_condition_dir\n",
    "# search_for_file()"
   ]
  },
  {
   "cell_type": "code",
   "execution_count": 5,
   "metadata": {
    "ExecuteTime": {
     "end_time": "2020-08-14T22:33:42.081811Z",
     "start_time": "2020-08-14T22:33:42.039501Z"
    }
   },
   "outputs": [
    {
     "name": "stdout",
     "output_type": "stream",
     "text": [
      "Will integrate up to no later than time = 1.00 milliseconds.\n",
      "file name is unused - /Users/timothytyree/Documents/GitHub/care/notebooks/Data/ds_5_param_set_8/Log/33_ds_5_sigma_1.5_threshold_0.6_.csv\n",
      "tip_log_dir is: \n",
      "\t/Users/timothytyree/Documents/GitHub/care/notebooks/Data/ds_5_param_set_8/Log/33_ds_5_sigma_1.5_threshold_0.6_007.csv.\n",
      "Caution! This tip_log_dir already exists!\n"
     ]
    }
   ],
   "source": [
    "################################        \n",
    "###### START PARAMETERS ########\n",
    "################################\n",
    "\n",
    "#the given parameters\n",
    "\n",
    "#printing/testing parameters\n",
    "beeping   = True\n",
    "asserting = True\n",
    "printing  = True \n",
    "plotting  = False\n",
    "#define parameters for tip detection\n",
    "sigma       = 1.5\n",
    "threshold   = 0.6\n",
    "V_threshold = 0.5\n",
    "\n",
    "edge_tolerance = 3\n",
    "pad = 5\n",
    "atol = 1e-11\n",
    "color_values = None\n",
    "\n",
    "# h = 0.007\n",
    "h = 0.01\n",
    "nsteps = 1*10**3 # int(1.8*10**5)#0#*10**4\n",
    "save_every_n_frames = 100#nsteps#100#nsteps#10#50\n",
    "max_time = h*nsteps\n",
    "print( f\"Will integrate up to no later than time = {max_time:.2f} milliseconds.\")\n",
    "\n",
    "# time_sig_figs = 4  #you need to change this manually below for pretty printing only!\n",
    "max_buffers_to_save = 0\n",
    "buffers_saved = 0\n",
    "start_saving_buffers_at_step = 0#10**4 # nsteps/4\n",
    "# tip_states = None\n",
    "timing = False\n",
    "recording_if_odd = True\n",
    "recording = True\n",
    "descrip = f'sigma_{sigma}_threshold_{threshold}'\n",
    "\n",
    "#this saving overwrites the current save_file.  I check ahead of time that this won't happen with a \"Caution! ... \" print statement\n",
    "save = True\n",
    "\n",
    "#define parameters for tip tracking \n",
    "mem = 2 \n",
    "sr  = 40 #?works sampling every 100 frames\n",
    "# sr  = 1 #works sampling every frame\n",
    "\n",
    "#trajectory filtering parameters\n",
    "tmin = 50#100\n",
    "LT_thresh = 0#2 #14 = 0.007*2000\n",
    "\n",
    "#input/output filenames\n",
    "base_save_dir = f\"{nb_dir}/Data/ds_5_param_set_8\"\n",
    "save_folder = f'{nb_dir}/Data/ds_5_param_set_8' #no '/Log'\n",
    "\n",
    "tip_log_fn = f'Log/{sub_id}_ds_5_sigma_{sigma}_threshold_{threshold}_.csv'\n",
    "tip_log_dir = get_unique_file_name(os.path.join(save_folder, tip_log_fn), ext_string='.csv');\n",
    "tip_position_dir = tip_log_dir.replace('.csv','_processed.csv')\n",
    "\n",
    "data_dir_traj = base_save_dir+\"/trajectories\"\n",
    "data_fn_traj = os.path.basename(tip_position_dir).replace('_processed.csv', f'_traj_sr_{sr}_mem_{mem}.csv')\n",
    "\n",
    "save_folder_traj = '/'+os.path.join(*initial_condition_dir.split('/')[:-2])+'/ds_5_param_set_8/trajectories/'\n",
    "birth_death_dir = '/'.join(save_folder_traj.split('/')[:-2])+'/birth-death-rates'\n",
    "data_fn_bdrates = data_fn_traj.replace('.csv','_bdrates.csv')\n",
    "\n",
    "#set the ending extension explicitely\n",
    "ending_str = '_007.csv'\n",
    "tip_log_dir = '_'.join ( tip_log_dir.split('_')[:-1] ) + ending_str\n",
    "if printing:\n",
    "    print(f\"tip_log_dir is: \\n\\t{tip_log_dir}.\")\n",
    "    if (os.path.exists(tip_log_dir)):\n",
    "        print(f\"Caution! This tip_log_dir already exists!\")\n",
    "        \n",
    "################################        \n",
    "######## END PARAMETERS ########\n",
    "################################"
   ]
  },
  {
   "cell_type": "markdown",
   "metadata": {},
   "source": [
    "# generate raw spiral tip data"
   ]
  },
  {
   "cell_type": "code",
   "execution_count": 6,
   "metadata": {
    "ExecuteTime": {
     "end_time": "2020-08-14T22:33:44.806156Z",
     "start_time": "2020-08-14T22:33:44.780559Z"
    }
   },
   "outputs": [],
   "source": [
    "# output_dir = get_unique_dir(path)\n",
    "#deprecated\n",
    "# output_dir = os.path.join(nb_dir, save_folder)\n",
    "# if not os.path.exists(output_dir):\n",
    "#     os.mkdir(output_dir)\n",
    "# output_dir = os.path.join(nb_dir, save_folder) + '/Log'\n",
    "# if not os.path.exists(output_dir):\n",
    "#     os.mkdir(output_dir)"
   ]
  },
  {
   "cell_type": "code",
   "execution_count": 21,
   "metadata": {
    "ExecuteTime": {
     "end_time": "2020-08-14T22:39:06.196462Z",
     "start_time": "2020-08-14T22:39:06.153794Z"
    }
   },
   "outputs": [
    {
     "name": "stdout",
     "output_type": "stream",
     "text": [
      "loading initial conditions from: \n",
      "\t/Users/timothytyree/Documents/GitHub/care/notebooks/Data/initial-conditions-suite-1/ic-in/ic_200x200.121.33.npz.\n",
      "changed directory to save_folder: \n",
      "\t/Users/timothytyree/Documents/GitHub/care/notebooks/Data/ds_5_param_set_8.\n"
     ]
    }
   ],
   "source": [
    "##############################################        \n",
    "######## GENERATE TIP LOGS PARAMETERS ########\n",
    "##############################################\n",
    "\n",
    "print(f'loading initial conditions from: \\n\\t{initial_condition_dir}.')\n",
    "os.chdir(nb_dir)\n",
    "txt = load_buffer(initial_condition_dir)\n",
    "width, height, channel_no = txt.shape\n",
    "\n",
    "#reinitialize records\n",
    "time_start = 0.  #eval(buffer_fn[buffer_fn.find('time_')+len('time_'):-4])\n",
    "if asserting:\n",
    "    assert (float(time_start) is not None)\n",
    "tip_state_lst = []\n",
    "tme = time_start\n",
    "\n",
    "#change directory to where results are logged\n",
    "os.chdir(save_folder)\n",
    "if printing:\n",
    "    print(f\"changed directory to save_folder: \\n\\t{save_folder}.\")\n",
    "\n",
    "#precompute the _padded_ mesh coordinates\n",
    "ycoord_mesh, xcoord_mesh = np.meshgrid(np.arange(0,txt.shape[0]+2*pad),np.arange(0,txt.shape[0]+2*pad))\n",
    "nanstate = [np.nan,np.nan,np.nan]\n",
    "channel_no = 3"
   ]
  },
  {
   "cell_type": "code",
   "execution_count": 22,
   "metadata": {
    "ExecuteTime": {
     "end_time": "2020-08-14T22:39:07.307182Z",
     "start_time": "2020-08-14T22:39:07.283452Z"
    }
   },
   "outputs": [],
   "source": [
    "# # jump forward a number of steps to see what happens to the buffer\n",
    "# for j in range(500):\n",
    "#     #integrate explicitely in time\n",
    "#     time_step(txt, h=h, zero_txt=zero_txt) #up to twice as fast as for separated calls\n",
    "#     tme += h"
   ]
  },
  {
   "cell_type": "code",
   "execution_count": 26,
   "metadata": {
    "ExecuteTime": {
     "end_time": "2020-08-14T22:41:03.955154Z",
     "start_time": "2020-08-14T22:41:03.606291Z"
    }
   },
   "outputs": [
    {
     "data": {
      "image/png": "[encoded data removed]",
      "text/plain": [
       "<Figure size 360x360 with 1 Axes>"
      ]
     },
     "metadata": {
      "needs_background": "light"
     },
     "output_type": "display_data"
    }
   ],
   "source": [
    "####This section may be skipped\n",
    "# check all the functions work and compile the needed functions just in time\n",
    "zero_txt = txt.copy()*0.\n",
    "time_step(txt, h=h, zero_txt=zero_txt)\n",
    "\n",
    "width, height, channel_no = txt.shape\n",
    "zero_txt = np.zeros((width, height, channel_no), dtype=np.float64)\n",
    "dtexture_dt = zero_txt.copy()\n",
    "get_time_step(txt, dtexture_dt)\n",
    "\n",
    "#calculate contours and tips after enforcing pbcs\n",
    "img_nxt = txt[..., 0]#padded_txt#\n",
    "img_inc = ifilter(dtexture_dt[..., 0])# ifilter(dpadded_txt_dt) #  #mask of instantaneously increasing voltages \n",
    "img_inc = filters.gaussian(img_inc,sigma=sigma, mode='wrap') \n",
    "img_nxt_unpadded = img_nxt.copy()\n",
    "img_inc_unpadded = img_inc.copy()\n",
    "\n",
    "img_nxt, img_inc = matrices_to_padded_matrices(img_nxt_unpadded, img_inc_unpadded,pad=pad)\n",
    "txt_padded, dtexture_dt_padded = matrices_to_padded_matrices(txt, dtexture_dt,pad=pad)\n",
    "\n",
    "contours_raw = measure.find_contours(img_nxt, level=V_threshold,fully_connected='low',positive_orientation='low')\n",
    "contours_inc = measure.find_contours(img_inc, level=threshold)\n",
    "tips  = get_tips(contours_raw, contours_inc)\n",
    "tips_mapped = map_pbc_tips_back(tips=tips, pad=pad, width=width, height=height, \n",
    "                  edge_tolerance=edge_tolerance, atol = atol)\n",
    "n_old = count_tips(tips_mapped[2])\n",
    "\n",
    "#extract local EP field values for each tip\n",
    "states_EP = get_states(tips_mapped, txt, pad, nanstate, xcoord_mesh, ycoord_mesh, channel_no = channel_no)\n",
    "tips_mapped = add_states(tips_mapped, states_EP)\n",
    "color_values = None\n",
    "\n",
    "# # color by state value\n",
    "# states_nearest, states_interpolated_linear, states_interpolated_cubic = states_EP\n",
    "# chnl = 2\n",
    "# # typs = 'nearest'\n",
    "# # typs = 'linearly interpolated'\n",
    "# typs = 'cubic-spline interpolated'\n",
    "# state_value = np.array(states_interpolated_linear)[:,chnl]\n",
    "# color_values = state_value\n",
    "# print(f'plotting channel {chnl} \\nof the {typs} states.')\n",
    "\n",
    "# if printing:\n",
    "    # #bluf\n",
    "    # print('max value of change for each channel is {:.4f} , {:.4f}, {:.4f}.'.format(*tuple(np.max(txt,axis=(0,1)))))\n",
    "    # print('max rate of change for each channel is {:.4f} , {:.4f}, {:.4f}.'.format(*tuple(np.max(dtexture_dt,axis=(0,1)))))\n",
    "\n",
    "    # print(f\"\\n number of type 1 contour = {len(contours_raw)},\\n number of type 2 contour = {len(contours_inc)},\")\n",
    "    # print(f\"the number of tips are {n_old}. time is {tme:.1f} ms.\")\n",
    "    # print(f\"note for time <100ms, I'm saying nothing about the accuracy of tip detection.\")\n",
    "    # print(f\"\"\"the topological tip state:{tips[0]}\"\"\")\n",
    "    # print(f\"\"\"x position of tips: {tips[1]}\"\"\")\n",
    "    # print(f\"\"\"y position of tips: {tips[2]}\"\"\")\n",
    "\n",
    "plotting = True\n",
    "if plotting:\n",
    "    #plot texture contours and tips. oh my!\n",
    "    # img_nxt_unpadded = img_nxt[pad:-pad,pad:-pad]\n",
    "    # img_inc_unpadded = img_inc[pad:-pad,pad:-pad]\n",
    "    contours_raw_unpadded = measure.find_contours(img_nxt_unpadded, level=V_threshold,fully_connected='low',positive_orientation='low')\n",
    "    contours_inc_unpadded = measure.find_contours(img_inc_unpadded, level=threshold)\n",
    "\n",
    "    # #print texture information\n",
    "    # describe(txt)\n",
    "\n",
    "    fig = plot_buffer(img_nxt_unpadded, img_inc_unpadded, contours_raw_unpadded, contours_inc_unpadded, tips_mapped, \n",
    "                      figsize=(5,5),max_marker_size=400, lw=1, color_values=color_values);\n",
    "    plt.show()\n",
    "    # plt.close()"
   ]
  },
  {
   "cell_type": "code",
   "execution_count": 24,
   "metadata": {
    "ExecuteTime": {
     "end_time": "2020-08-14T22:39:12.458311Z",
     "start_time": "2020-08-14T22:39:12.432767Z"
    }
   },
   "outputs": [],
   "source": [
    "# txt\n",
    "# tme\n",
    "h = 0.1#1 does not work #0.1 works\n",
    "nsteps = 1*10**4 # int(1.8*10**5)#0#*10**4"
   ]
  },
  {
   "cell_type": "code",
   "execution_count": 25,
   "metadata": {
    "ExecuteTime": {
     "end_time": "2020-08-14T22:40:48.402119Z",
     "start_time": "2020-08-14T22:39:13.013366Z"
    }
   },
   "outputs": [
    {
     "name": "stdout",
     "output_type": "stream",
     "text": [
      "sigma is 1.5, threshold is 0.6.\n",
      "pad is 5, rejection_distance is edge_tolerance is 3.\n",
      "starting simulation.  integrating up to time 1000.000 milliseconds.\n",
      "Progress: |██████████████████████████████████████████████████| 100.0% Complete\n",
      "❤\n",
      "\n",
      "time integration complete. run time was 95.14 seconds in realtime\n",
      "current time is 1000.0 ms in simulation time.\n",
      "number of nan pixel voltages is 0.\n"
     ]
    }
   ],
   "source": [
    "#integrate explicitely in time\n",
    "state = np.zeros((txt.shape[0],txt.shape[1],4),dtype=np.float64)\n",
    "if printing:\n",
    "    print(f\"sigma is {sigma}, threshold is {threshold}.\")\n",
    "    print(f\"pad is {pad}, rejection_distance is edge_tolerance is {edge_tolerance}.\")\n",
    "    print(f\"starting simulation.  integrating up to time {h*nsteps+tme:.3f} milliseconds.\")\n",
    "start = time.time()\n",
    "for step in range(nsteps):\n",
    "    recording = step%save_every_n_frames==0\n",
    "    if not recording:\n",
    "        #integrate explicitely in time\n",
    "        time_step(txt, h=h, zero_txt=zero_txt) #up to twice as fast as for separated calls\n",
    "        tme += h\n",
    "    if recording:\n",
    "        #calculate discrete flow map\n",
    "        dtexture_dt = zero_txt.copy()\n",
    "        get_time_step(txt, dtexture_dt)\n",
    "        \n",
    "        #pad texture for saving view \n",
    "        padded_txt, dpadded_txt_dt = textures_to_padded_textures(txt, dtexture_dt,pad=pad)\n",
    "        \n",
    "        #integrate explicitely in time by the forward euler method\n",
    "        txt += h*dtexture_dt\n",
    "        tme += h\n",
    "        \n",
    "        #calculate contours and tips after enforcing pbcs\n",
    "        img_nxt = txt[..., 0]#padded_txt#\n",
    "        img_inc = ifilter(dtexture_dt[..., 0])# ifilter(dpadded_txt_dt) #  #mask of instantaneously increasing voltages \n",
    "        img_inc = filters.gaussian(img_inc,sigma=sigma, mode='wrap') \n",
    "        img_nxt_unpadded = img_nxt.copy()\n",
    "        img_inc_unpadded = img_inc.copy()\n",
    "        img_nxt, img_inc = matrices_to_padded_matrices(img_nxt_unpadded, img_inc_unpadded,pad=pad)\n",
    "        contours_raw = measure.find_contours(img_nxt, level=V_threshold,fully_connected='low',positive_orientation='low')\n",
    "        contours_inc = measure.find_contours(img_inc, level=threshold)\n",
    "        tips  = get_tips(contours_raw, contours_inc)\n",
    "        tips_mapped = map_pbc_tips_back(tips=tips, pad=pad, width=width, height=height, \n",
    "                          edge_tolerance=edge_tolerance, atol = atol)\n",
    "\n",
    "        #extract local EP field values for each tip\n",
    "        states_EP = get_states(tips_mapped, txt, pad, nanstate, xcoord_mesh, ycoord_mesh, channel_no = channel_no)\n",
    "        tips_mapped = add_states(tips_mapped, states_EP)\n",
    "\n",
    "        #record spiral tip locations \n",
    "        s1_lst, s2_lst, x_lst, y_lst, states_nearest, states_interpolated_linear, states_interpolated_cubic = tips_mapped\n",
    "        tip_state_lst.append({\n",
    "                    't': float(tme),\n",
    "                    'x': tuple(x_lst),\n",
    "                    'y': tuple(y_lst),\n",
    "                    's1': tuple(s1_lst),\n",
    "                    's2': tuple(s2_lst),\n",
    "            'states_interpolated_linear': tuple(states_interpolated_linear)\n",
    "        })\n",
    "#         #record spiral tip locations with all three types of EP_states computed\n",
    "#         s1_lst, s2_lst, x_lst, y_lst, states_nearest, states_interpolated_linear, states_interpolated_cubic = tips_mapped\n",
    "#         tip_state_lst.append({\n",
    "#                     't': float(np.around(tme, time_sig_figs)),\n",
    "#                     'x': tuple(x_lst),\n",
    "#                     'y': tuple(y_lst),\n",
    "#                     's1': tuple(s1_lst),\n",
    "#                     's2': tuple(s2_lst),\n",
    "#             'states_nearest': tuple(states_nearest),\n",
    "#             'states_interpolated_linear': tuple(states_interpolated_linear),\n",
    "#             'states_interpolated_cubic': tuple(states_interpolated_cubic),\n",
    "#         })\n",
    "        \n",
    "        #determine if an odd number of tips were born        \n",
    "        n = count_tips(tips_mapped[2]) #counts the number of '.' in the nested list of x positions or just a normal list\n",
    "        dn = n - n_old\n",
    "        n_old = n\n",
    "        \n",
    "        #save the state if save_state is True \n",
    "        #save_state = recording_if_odd & odd_event & odd_tip_number # ==> odd birth/death event has just occurred\n",
    "        save_state = recording_if_odd & (dn%2!=0) & (n%2!=0)\n",
    "        if save_state:\n",
    "            #plot texture contours and tips. oh my!\n",
    "            #img_nxt_unpadded = img_nxt[pad:-pad,pad:-pad]\n",
    "            #img_inc_unpadded = img_inc[pad:-pad,pad:-pad]\n",
    "            contours_raw_unpadded = measure.find_contours(img_nxt_unpadded, level=V_threshold,fully_connected='low',positive_orientation='low')\n",
    "            contours_inc_unpadded = measure.find_contours(img_inc_unpadded, level=threshold)\n",
    "            if printing:\n",
    "                print(f'odd tip spotted at time {tme:.3f}! dn={dn} and n={n}...')\n",
    "            fig = plot_buffer(img_nxt_unpadded, img_inc_unpadded, contours_raw_unpadded, contours_inc_unpadded, tips_mapped, \n",
    "                              figsize=(5,5), max_marker_size=200, lw=1, color_values = None);\n",
    "            fig.savefig(f'plot_of_n_{n}_dn_{dn}_for_{descrip}_at_time_{tme:.1f}.pdf', bbox_inches='tight',pad_inches=0);\n",
    "            plt.close();\n",
    "            #save texture as an .npy file as desired\n",
    "            if step>start_saving_buffers_at_step:\n",
    "                if buffers_saved<max_buffers_to_save:\n",
    "                    buffers_saved += 1\n",
    "                    np.save(f'buffer_of_n_{n}_dn_{dn}_for_{descrip}_at_time_{tme:.1f}.npy', txt)\n",
    "        #early stopping when spirals die out\n",
    "        stop_early = (n==0) & (step>100) #np.max(txt[...,0])<0.1\n",
    "        if stop_early:\n",
    "            if printing:\n",
    "                print(f'\\nmax voltage is {np.max(txt[...,0]):.4f}.') \n",
    "                print(f\"tip number = {n}.  stopping simulation at time t={tme:.3f}. please record domain size.\")\n",
    "            break\n",
    "    printProgressBar(step + 1, nsteps, prefix = 'Progress:', suffix = 'Complete', length = 50)\n",
    "\n",
    "if printing:\n",
    "    #report the bottom line up front\n",
    "    print(f\"\\ntime integration complete. run time was {time.time()-start:.2f} seconds in realtime\")\n",
    "    print(f\"current time is {tme:.1f} ms in simulation time.\")\n",
    "    print(f\"number of nan pixel voltages is {np.max(sum(np.isnan(txt[...,0])))}.\")\n",
    "    # print(f\"current max voltage is {np.nanmax(txt[...,0]):.4f}.\")\n",
    "    # print(f\"current max fast variable is {np.nanmax(txt[...,1]):.4f}.\")\n",
    "    # print(f\"current max slow variable is {np.nanmax(txt[...,2]):.4f}.\")\n",
    "    # n_lst, x_lst, y_lst = get_tips(contours_raw, contours_inc)\n",
    "    # tip_states = {'n': n_lst, 'x': x_lst, 'y': y_lst}\n",
    "    # print(f\"tip_states are {tip_states}.\")\n",
    "    # print(f'current tip state is {tip_states}')\n",
    "    # if len(lst)~=0:\n",
    "    # print(f\"number of tips is = {set([len(q) for q in lst_x[-1]])}.\") #most recent number of tips\n",
    "    if recording:\n",
    "        print(f\"\\n number of type 1 contour = {len(contours_raw)},\\tnumber of type 2 contour = {len(contours_inc)},\")\n",
    "        print(f\"the number of tips are {count_tips(tips_mapped[2])}.\")\n",
    "        #     print(f\"\"\"the topological tip state is the following:{tips[0]}\"\"\")\n",
    "if beeping:\n",
    "    beep(1)"
   ]
  },
  {
   "cell_type": "code",
   "execution_count": 10,
   "metadata": {
    "ExecuteTime": {
     "end_time": "2020-08-12T18:51:12.356738Z",
     "start_time": "2020-08-12T18:51:12.332248Z"
    }
   },
   "outputs": [],
   "source": [
    "if printing:\n",
    "    if tme >= (max_time):\n",
    "        print( f\"Caution! max_time was reached! Termination time not reached!  Consider rerunning with greater n_steps!\")"
   ]
  },
  {
   "cell_type": "code",
   "execution_count": 11,
   "metadata": {
    "ExecuteTime": {
     "end_time": "2020-08-12T18:51:12.403761Z",
     "start_time": "2020-08-12T18:51:12.358577Z"
    }
   },
   "outputs": [
    {
     "name": "stdout",
     "output_type": "stream",
     "text": [
      "saved to:\n",
      "/Users/timothytyree/Documents/GitHub/care/notebooks/Data/ds_5_param_set_8/Log/33_ds_5_sigma_1.5_threshold_0.6_007.csv\n"
     ]
    }
   ],
   "source": [
    "if save:\n",
    "    df = pd.DataFrame(tip_state_lst)\n",
    "    df.to_csv(tip_log_dir, index=False)\n",
    "#     df.to_csv(f'{nb_dir}/Data/tip_log_{descrip}_at_time_{tme:.1f}.csv', index=False)\n",
    "if printing:\n",
    "    print('saved to:')\n",
    "    print(tip_log_dir)\n",
    "# print(f'Data/tip_log__{descrip}_at_time_{tme:.1f}.csv')"
   ]
  },
  {
   "cell_type": "markdown",
   "metadata": {},
   "source": [
    "# postprocessing"
   ]
  },
  {
   "cell_type": "code",
   "execution_count": 70,
   "metadata": {
    "ExecuteTime": {
     "end_time": "2020-08-12T23:34:24.836427Z",
     "start_time": "2020-08-12T23:34:24.556214Z"
    },
    "cell_style": "center"
   },
   "outputs": [
    {
     "name": "stdout",
     "output_type": "stream",
     "text": [
      "True it is that the file to be post processed exists,\n",
      "and the resulting \"_processed.csv\" was supplanted herein:\n",
      "\t/Users/timothytyree/Documents/GitHub/care/notebooks/Data/ds_5_param_set_8/Log/33_ds_5_sigma_1.5_threshold_0.6__processed.csv\n"
     ]
    }
   ],
   "source": [
    "##########################################################        \n",
    "######## POSTPROCESSING TIP LOGS TO TIP LOCATIONS ########\n",
    "##########################################################\n",
    "\n",
    "os.chdir(save_folder)\n",
    "if printing:\n",
    "    print(str(os.path.exists(tip_log_dir))+\" it is that the file to be post processed exists,\")\n",
    "\n",
    "#save the tip positions expanded into rows\n",
    "df_output = process_tip_log_file(tip_log_dir, include_EP=True, include_nonlinear_EP=False)\n",
    "\n",
    "#expand the EP data into its own columns\n",
    "df_output = unwrap_EP(df_output, \n",
    "               EP_col_name = 'states_interpolated_linear',\n",
    "               drop_original_column=False).copy()\n",
    "\n",
    "#save the tip positions to csv\n",
    "df_output.to_csv(tip_position_dir, index=False)\n",
    "if printing:\n",
    "    print(f\"and the resulting \\\"_processed.csv\\\" was supplanted herein:\\n\\t{tip_position_dir}\")"
   ]
  },
  {
   "cell_type": "code",
   "execution_count": 13,
   "metadata": {
    "ExecuteTime": {
     "end_time": "2020-08-12T18:51:12.587226Z",
     "start_time": "2020-08-12T18:51:12.560655Z"
    }
   },
   "outputs": [
    {
     "name": "stdout",
     "output_type": "stream",
     "text": [
      "inferred from filename: (ds,sigma,threshold) = (5, 1.5, 0.6)\n"
     ]
    }
   ],
   "source": [
    "#load processed df with tips as rows\n",
    "df = pd.read_csv(tip_position_dir)\n",
    "fn = tip_position_dir.split('/')[-1]\n",
    "descrip = fn[:fn.find('_processed.csv')]\n",
    "threshold = eval(fn[fn.find('threshold_')+len('threshold_'):].split('_')[0])\n",
    "ds = eval(fn[fn.find('ds_')+len('ds_'):].split('_')[0])\n",
    "sigma = eval(fn[fn.find('sigma_')+len('sigma_'):].split('_')[0])\n",
    "if printing:\n",
    "    print(f\"inferred from filename: (ds,sigma,threshold) = {(ds,sigma,threshold)}\")"
   ]
  },
  {
   "cell_type": "code",
   "execution_count": 14,
   "metadata": {
    "ExecuteTime": {
     "end_time": "2020-08-12T18:51:12.613240Z",
     "start_time": "2020-08-12T18:51:12.588665Z"
    }
   },
   "outputs": [
    {
     "name": "stdout",
     "output_type": "stream",
     "text": [
      "loading .csv of size [?? 346 KB ??] from \n",
      "\t/Users/timothytyree/Documents/GitHub/care/notebooks/Data/ds_5_param_set_8/Log/33_ds_5_sigma_1.5_threshold_0.6__processed.csv\n",
      "files will be saved in the folder: \n",
      "\t/Users/timothytyree/Documents/GitHub/care/notebooks/Data/ds_5_param_set_8/trajectories/\n"
     ]
    }
   ],
   "source": [
    "#import tip positions\n",
    "os.chdir(save_folder_traj)\n",
    "#if using ^that result of tip positions expanded into rows? \n",
    "data_dir = tip_position_dir\n",
    "if printing:\n",
    "    print(f\"loading .csv of size [?? {2*sys.getsizeof(data_dir)} KB ??] from \\n\\t{data_dir}\")\n",
    "df = pd.read_csv(data_dir)\n",
    "\n",
    "os.chdir(save_folder_traj)\n",
    "if printing:\n",
    "    print(f\"files will be saved in the folder: \\n\\t{save_folder_traj}\")"
   ]
  },
  {
   "cell_type": "code",
   "execution_count": 15,
   "metadata": {
    "ExecuteTime": {
     "end_time": "2020-08-12T18:51:12.635223Z",
     "start_time": "2020-08-12T18:51:12.614616Z"
    }
   },
   "outputs": [],
   "source": [
    "# test data has no odd spiral tips since the data has periodic boundary conditions\n",
    "no_odd_spiral_tips_exist = not (np.array(list(set(df.n.values)))%2==1).any()\n",
    "if asserting:\n",
    "    assert (no_odd_spiral_tips_exist)\n",
    "if printing:\n",
    "    if not no_odd_spiral_tips_exist:\n",
    "        print('Caution! odd spiral tips exist!')"
   ]
  },
  {
   "cell_type": "markdown",
   "metadata": {},
   "source": [
    "# tip tracking using periodic boundary conditions"
   ]
  },
  {
   "cell_type": "code",
   "execution_count": 16,
   "metadata": {
    "ExecuteTime": {
     "end_time": "2020-08-12T18:51:15.118967Z",
     "start_time": "2020-08-12T18:51:12.637027Z"
    }
   },
   "outputs": [
    {
     "name": "stdout",
     "output_type": "stream",
     "text": [
      "Frame 242: 2 trajectories present.\n"
     ]
    }
   ],
   "source": [
    "############################################################        \n",
    "######## TRACKING TIP LOCATIONS TO TIP TRAJECTORIES ########\n",
    "############################################################\n",
    "\n",
    "# import tip positions\n",
    "df_dir = tip_position_dir\n",
    "df = pd.read_csv(df_dir)\n",
    "\n",
    "#assign each time a unique frame number\n",
    "t_list =  sorted(set(df.t.values))\n",
    "frameno_list = list(range(len(t_list)))\n",
    "df['frame'] = -9999\n",
    "for frameno, t in zip(frameno_list,t_list):\n",
    "    df.loc[df.t==t, 'frame'] = frameno\n",
    "\n",
    "if asserting:\n",
    "    #test that all entries were given a value\n",
    "    assert ( not (df.frame<0).any() )\n",
    "\n",
    "# track tip trajectories\n",
    "width  = txt.shape[0] #0 may be switched with 1 here\n",
    "height = txt.shape[1]\n",
    "distance_L2_pbc = get_distance_L2_pbc(width=width,height=height)\n",
    "link_kwargs = {\n",
    "    'neighbor_strategy' : 'BTree',\n",
    "    'dist_func'         : distance_L2_pbc,\n",
    "    'search_range': sr,\n",
    "    'memory': mem,\n",
    "    'adaptive_stop': 2.0,\n",
    "    'adaptive_step': 0.95\n",
    "    }\n",
    "\n",
    "traj = trackpy.link_df(\n",
    "    f=df,t_column='frame', **link_kwargs)"
   ]
  },
  {
   "cell_type": "code",
   "execution_count": 17,
   "metadata": {
    "ExecuteTime": {
     "end_time": "2020-08-12T18:51:15.151475Z",
     "start_time": "2020-08-12T18:51:15.120676Z"
    }
   },
   "outputs": [
    {
     "name": "stdout",
     "output_type": "stream",
     "text": [
      "data_df_traj: 33_ds_5_sigma_1.5_threshold_0.6__traj_sr_40_mem_2.csv\n"
     ]
    }
   ],
   "source": [
    "traj.to_csv(data_fn_traj, index=False)\n",
    "if printing:\n",
    "    print (f\"data_df_traj: {data_fn_traj}\")"
   ]
  },
  {
   "cell_type": "code",
   "execution_count": 18,
   "metadata": {
    "ExecuteTime": {
     "end_time": "2020-08-12T18:51:15.172690Z",
     "start_time": "2020-08-12T18:51:15.152879Z"
    }
   },
   "outputs": [],
   "source": [
    "if asserting:\n",
    "    #test that every row has a nonnegative particle number\n",
    "    assert ( (traj.particle>=0).all() )"
   ]
  },
  {
   "cell_type": "code",
   "execution_count": 19,
   "metadata": {
    "ExecuteTime": {
     "end_time": "2020-08-12T18:51:15.194010Z",
     "start_time": "2020-08-12T18:51:15.174163Z"
    }
   },
   "outputs": [],
   "source": [
    "    \n",
    "# os.chdir(data_dir_traj)\n",
    "# df = pd.read_csv(data_fn_traj)\n",
    "# # select only data after 100 milliseconds\n",
    "# df = df[df.t>tmin].copy()\n",
    "\n",
    "# #naive computation of lifetime for a given tip\n",
    "# def get_lifetime(pid,df):\n",
    "#     mx,mn = df[(df.particle==pid)].t.describe()[['max','min']]\n",
    "#     lifetime = mx-mn #milliseconds\n",
    "#     return lifetime\n",
    "\n",
    "# #get a DataFrame of only the long lived spiral tips\n",
    "# pid_values = np.array(list(set(df.particle.values)))\n",
    "# lifetime_values = np.array([get_lifetime(pid,df) for pid in pid_values])\n",
    "# boo = (lifetime_values>LT_thresh)\n",
    "# boo_long = (df.particle is None)\n",
    "# for pid in pid_values[boo]:\n",
    "#     boo_long |= (df.particle==pid)\n",
    "    \n",
    "# df = df[boo_long].copy()"
   ]
  },
  {
   "cell_type": "code",
   "execution_count": 20,
   "metadata": {
    "ExecuteTime": {
     "end_time": "2020-08-12T18:51:15.238484Z",
     "start_time": "2020-08-12T18:51:15.195652Z"
    }
   },
   "outputs": [
    {
     "name": "stdout",
     "output_type": "stream",
     "text": [
      "loading trajectories from data_fn_traj: 33_ds_5_sigma_1.5_threshold_0.6__traj_sr_40_mem_2.csv.\n"
     ]
    }
   ],
   "source": [
    "#filter trajectories and compute the (filtered) spiral tip number as a function of time. store in df\n",
    "#import most recent tip trajectory data and the corresponding raw tips\n",
    "if printing:\n",
    "    print (f\"loading trajectories from data_fn_traj: {data_fn_traj}.\")\n",
    "    \n",
    "#import most recent tip trajectory data and the corresponding raw tips\n",
    "os.chdir(data_dir_traj)\n",
    "df = pd.read_csv(data_fn_traj)\n",
    "\n",
    "# select only data after tmin milliseconds\n",
    "df = df[df.t>tmin].copy()\n",
    "\n",
    "#naive computation of lifetime for a given tip\n",
    "def get_lifetime(pid,df):\n",
    "    mx,mn = df[(df.particle==pid)].t.describe()[['max','min']]\n",
    "    lifetime = mx-mn #milliseconds\n",
    "    return lifetime\n",
    "\n",
    "#get a DataFrame of only the long lived spiral tips\n",
    "pid_values = np.array(list(set(df.particle.values)))\n",
    "lifetime_values = np.array([get_lifetime(pid,df) for pid in pid_values])\n",
    "boo = (lifetime_values>LT_thresh)\n",
    "boo_long = (df.particle is None)\n",
    "for pid in pid_values[boo]:\n",
    "    boo_long |= (df.particle==pid)\n",
    "df = df[boo_long].copy()\n",
    "n_series = df['t'].value_counts().sort_index()\n",
    "\n",
    "#explicitely append the last death when n becomes zero\n",
    "last_two_times = n_series.index.values[-2:]\n",
    "h = np.diff(last_two_times)\n",
    "end_time= last_two_times[-1]+h\n",
    "n_series = n_series.append(pd.Series([0], index=[float(end_time)]))\n",
    "\n",
    "#store as a pandas.DataFrame\n",
    "df = pd.DataFrame({\"t\":n_series.index.values,\"n\":n_series.values})"
   ]
  },
  {
   "cell_type": "code",
   "execution_count": 21,
   "metadata": {
    "ExecuteTime": {
     "end_time": "2020-08-12T18:51:15.266031Z",
     "start_time": "2020-08-12T18:51:15.239751Z"
    }
   },
   "outputs": [],
   "source": [
    "#compute birth death rates\n",
    "df['dn'] = df.n.diff().shift(-1)\n",
    "df = df.query('dn != 0').copy()\n",
    "rates = 1/df['t'].diff().shift(-1).dropna() # birth death rates in unites of 1/ms\n",
    "df['rates'] = rates\n",
    "# df.dropna(inplace=True) #this gets rid of the termination time datum.  we want that!"
   ]
  },
  {
   "cell_type": "code",
   "execution_count": 22,
   "metadata": {
    "ExecuteTime": {
     "end_time": "2020-08-12T18:51:16.088420Z",
     "start_time": "2020-08-12T18:51:15.270641Z"
    }
   },
   "outputs": [
    {
     "name": "stdout",
     "output_type": "stream",
     "text": [
      "birth death rates successfully saved in: 33_ds_5_sigma_1.5_threshold_0.6__traj_sr_40_mem_2_bdrates.csv\n"
     ]
    }
   ],
   "source": [
    "#save birth death rates to a file named according to all of the relevant parameters in a special folder.\n",
    "os.chdir(birth_death_dir)\n",
    "df.index.rename('index', inplace=True)\n",
    "df.to_csv(data_fn_bdrates)\n",
    "\n",
    "if printing:\n",
    "    print (f\"birth death rates successfully saved in: {data_fn_bdrates}\")\n",
    "if beeping:\n",
    "    beep(3)"
   ]
  },
  {
   "cell_type": "code",
   "execution_count": 23,
   "metadata": {
    "ExecuteTime": {
     "end_time": "2020-08-12T18:51:16.627614Z",
     "start_time": "2020-08-12T18:51:16.092716Z"
    }
   },
   "outputs": [
    {
     "data": {
      "image/png": "[encoded data removed]",
      "text/plain": [
       "<Figure size 432x288 with 1 Axes>"
      ]
     },
     "metadata": {
      "needs_background": "light"
     },
     "output_type": "display_data"
    }
   ],
   "source": [
    "plotting=True\n",
    "if plotting:\n",
    "    x_values = df.query('dn==2').n/2\n",
    "    y_values = df.query('dn==2').rates\n",
    "    plt.scatter(x=x_values,y=y_values, c='g', label='$W_{+2}$')\n",
    "    x_values = df.query('dn==-2').n/2\n",
    "    y_values = df.query('dn==-2').rates\n",
    "    plt.scatter(x=x_values,y=y_values, c='r', label='$W_{-2}$')\n",
    "\n",
    "    plt.legend()\n",
    "    plt.xlabel('n/2')\n",
    "    plt.ylabel('rate (ms$^{-1}$)')"
   ]
  },
  {
   "cell_type": "code",
   "execution_count": null,
   "metadata": {
    "ExecuteTime": {
     "end_time": "2020-08-12T17:34:57.743843Z",
     "start_time": "2020-08-12T17:34:57.711809Z"
    }
   },
   "outputs": [],
   "source": []
  },
  {
   "cell_type": "code",
   "execution_count": null,
   "metadata": {
    "ExecuteTime": {
     "end_time": "2020-08-12T16:50:10.390275Z",
     "start_time": "2020-08-12T16:50:10.365337Z"
    }
   },
   "outputs": [],
   "source": []
  },
  {
   "cell_type": "code",
   "execution_count": null,
   "metadata": {
    "ExecuteTime": {
     "end_time": "2020-08-12T16:50:11.535484Z",
     "start_time": "2020-08-12T16:50:11.505917Z"
    }
   },
   "outputs": [],
   "source": []
  },
  {
   "cell_type": "code",
   "execution_count": null,
   "metadata": {},
   "outputs": [],
   "source": []
  },
  {
   "cell_type": "code",
   "execution_count": null,
   "metadata": {},
   "outputs": [],
   "source": []
  }
 ],
 "metadata": {
  "kernelspec": {
   "display_name": "Python 3",
   "language": "python",
   "name": "python3"
  },
  "language_info": {
   "codemirror_mode": {
    "name": "ipython",
    "version": 3
   },
   "file_extension": ".py",
   "mimetype": "text/x-python",
   "name": "python",
   "nbconvert_exporter": "python",
   "pygments_lexer": "ipython3",
   "version": "3.8.5"
  },
  "varInspector": {
   "cols": {
    "lenName": 16,
    "lenType": 16,
    "lenVar": 40
   },
   "kernels_config": {
    "python": {
     "delete_cmd_postfix": "",
     "delete_cmd_prefix": "del ",
     "library": "var_list.py",
     "varRefreshCmd": "print(var_dic_list())"
    },
    "r": {
     "delete_cmd_postfix": ") ",
     "delete_cmd_prefix": "rm(",
     "library": "var_list.r",
     "varRefreshCmd": "cat(var_dic_list()) "
    }
   },
   "types_to_exclude": [
    "module",
    "function",
    "builtin_function_or_method",
    "instance",
    "_Feature"
   ],
   "window_display": false
  }
 },
 "nbformat": 4,
 "nbformat_minor": 4
}
