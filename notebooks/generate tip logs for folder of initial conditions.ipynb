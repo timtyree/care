{
 "cells": [
  {
   "cell_type": "markdown",
   "metadata": {},
   "source": [
    "# generate tip logs using the Luo-Rudy model for a folder of initial conditions\n",
    "Tim Tyree<br>\n",
    "1.21.2021"
   ]
  },
  {
   "cell_type": "code",
   "execution_count": 1,
   "metadata": {
    "ExecuteTime": {
     "end_time": "2021-08-09T20:32:46.459622Z",
     "start_time": "2021-08-09T20:32:43.979188Z"
    }
   },
   "outputs": [
    {
     "name": "stdout",
     "output_type": "stream",
     "text": [
      "Automatic calling is: Smart\n"
     ]
    }
   ],
   "source": [
    "from lib.my_initialization import *\n",
    "from lib.utils.utils_traj import *\n",
    "import trackpy\n",
    "from scipy import stats\n",
    "from lib.utils.operari import *\n",
    "\n",
    "%autocall 1\n",
    "%load_ext autoreload\n",
    "%autoreload 2\n",
    "# awareness&chill"
   ]
  },
  {
   "cell_type": "code",
   "execution_count": 2,
   "metadata": {
    "ExecuteTime": {
     "end_time": "2021-08-09T20:32:49.469643Z",
     "start_time": "2021-08-09T20:32:49.440954Z"
    }
   },
   "outputs": [],
   "source": [
    "darkmode=False\n",
    "if darkmode:\n",
    "    #make plots in darkmode\n",
    "    import seaborn as sns\n",
    "    from jupyterthemes import jtplot\n",
    "    jtplot.style(theme='monokai', context='notebook', ticks=True, grid=False)"
   ]
  },
  {
   "cell_type": "markdown",
   "metadata": {},
   "source": [
    "# generate tip logs for the Luo-Rudy model"
   ]
  },
  {
   "cell_type": "code",
   "execution_count": 3,
   "metadata": {
    "ExecuteTime": {
     "end_time": "2021-08-09T20:32:51.728603Z",
     "start_time": "2021-08-09T20:32:51.697927Z"
    }
   },
   "outputs": [],
   "source": [
    "# ic = search_for_filename()\n",
    "# ic=search_for_file()\n",
    "ic=\"/home/timothytyree/Documents/GitHub/care/notebooks/Data/initial-conditions-suite-3-LR/ic-in/ic001.33.npz\"\n",
    "# ic=\"/home/timothytyree/Documents/GitHub/care/notebooks/Data/initial-conditions-lr-300x300/ic-in/ic300x300.0.3.npz\"\n",
    "# ic=\"/home/timothytyree/Documents/GitHub/care/notebooks/Data/initial-conditions-lr-600x600/ic-in/ic600x600.0.3.npz\""
   ]
  },
  {
   "cell_type": "code",
   "execution_count": 4,
   "metadata": {
    "ExecuteTime": {
     "end_time": "2021-08-09T20:32:56.963421Z",
     "start_time": "2021-08-09T20:32:56.939153Z"
    }
   },
   "outputs": [
    {
     "name": "stdout",
     "output_type": "stream",
     "text": [
      "/home/timothytyree/Documents/GitHub/care/notebooks/Data/initial-conditions-suite-3-LR\n"
     ]
    }
   ],
   "source": [
    "base_folder=os.path.dirname(os.path.dirname(ic))\n",
    "os.chdir(base_folder)\n",
    "L=200\n",
    "tmax_sec=30\n",
    "print(base_folder)"
   ]
  },
  {
   "cell_type": "code",
   "execution_count": 17,
   "metadata": {
    "ExecuteTime": {
     "end_time": "2021-08-09T20:36:49.244220Z",
     "start_time": "2021-08-09T20:36:49.220109Z"
    }
   },
   "outputs": [
    {
     "name": "stdout",
     "output_type": "stream",
     "text": [
      "new file system not initialized.\n"
     ]
    }
   ],
   "source": [
    "#initialize filesystem if not already initialized\n",
    "cwd=os.getcwd()\n",
    "# base_folder   = '/'+os.path.join(*cwd.split('/')[:-1])\n",
    "# base_folder=f\"{nb_dir}/Data/initial-conditions-suite-3-LR\"\n",
    "V_threshold=-40#mV\n",
    "K_o=5.4#50#3.8\n",
    "diffCoef=0.0005\n",
    "dt=0.025\n",
    "DT=0.1\n",
    "save_every_n_frames=int(DT/dt)\n",
    "\n",
    "results_folder=f'param_qu_tmax_{tmax_sec}_Ko_{K_o}_diffCoef_{diffCoef}_dt_{dt*save_every_n_frames:.3f}_Vthresh_{V_threshold}'\n",
    "# param_fn = 'param_set_8_og.json'\n",
    "try:\n",
    "    init_filesystem_bd(base_folder,\n",
    "                      results_folder=results_folder,\n",
    "                      subfolder_list=None)\n",
    "except FileExistsError:\n",
    "    print('new file system not initialized.')"
   ]
  },
  {
   "cell_type": "code",
   "execution_count": 18,
   "metadata": {
    "ExecuteTime": {
     "end_time": "2021-08-09T20:36:50.368731Z",
     "start_time": "2021-08-09T20:36:50.352943Z"
    }
   },
   "outputs": [],
   "source": [
    "#reset in out if ic-in is empty of npz files\n",
    "enable_reset_in_out=True\n",
    "if enable_reset_in_out:\n",
    "    os.chdir(base_folder)\n",
    "    def is_npz(s): return s[-4:]=='.npz'\n",
    "    retval = [fn for fn in os.listdir('ic-in') if is_npz(fn)]\n",
    "    if len(retval)==0:\n",
    "        os.rename('ic-in','ic-in2')\n",
    "        os.rename('ic-out','ic-in')\n",
    "        os.rename('ic-in2','ic-out')\n",
    "        print('ic was reset')"
   ]
  },
  {
   "cell_type": "code",
   "execution_count": 19,
   "metadata": {
    "ExecuteTime": {
     "end_time": "2021-08-09T20:36:51.098182Z",
     "start_time": "2021-08-09T20:36:51.058143Z"
    }
   },
   "outputs": [],
   "source": [
    "npartitions=11"
   ]
  },
  {
   "cell_type": "code",
   "execution_count": 20,
   "metadata": {
    "ExecuteTime": {
     "end_time": "2021-08-09T20:36:51.415767Z",
     "start_time": "2021-08-09T20:36:51.388424Z"
    }
   },
   "outputs": [
    {
     "data": {
      "text/plain": [
       "159"
      ]
     },
     "execution_count": 20,
     "metadata": {},
     "output_type": "execute_result"
    }
   ],
   "source": [
    "#get all .npz files in the file's directory\n",
    "input_fn_lst=get_all_files_matching_pattern(file=ic, trgt='.npz')\n",
    "len(input_fn_lst)"
   ]
  },
  {
   "cell_type": "code",
   "execution_count": 21,
   "metadata": {
    "ExecuteTime": {
     "end_time": "2021-08-09T20:36:51.891852Z",
     "start_time": "2021-08-09T20:36:51.854504Z"
    }
   },
   "outputs": [
    {
     "data": {
      "text/plain": [
       "<function lib.routines.generate_tip_logs_LR_model_cy.generate_tip_logs_from_ic(initial_condition_dir, h, tmax, V_threshold, dsdpixel, diffCoef, tmin_early_stopping, save_every_n_frames, round_output_decimals, printing, logging, asserting, saving, data_dir_log, completed_ic_dir, print_log_dir, Ca_i_initial=0.0002, Vmax=45.0, Vmin=-75.0, **kwargs)>"
      ]
     },
     "execution_count": 21,
     "metadata": {},
     "output_type": "execute_result"
    }
   ],
   "source": [
    "from lib.routines.generate_tip_logs_LR_model_cy import *\n",
    "# from lib.routines.generate_tip_logs_LR_model_cy import *\n",
    "from lib.routines.kwargs_LR_model_cy import get_kwargs\n",
    "\n",
    "def routine(ic):\n",
    "#     kwargs = get_kwargs(ic)   \n",
    "    kwargs = get_kwargs(ic, results_folder=results_folder)#,param_fn=param_fn)\n",
    "    kwargs['V_threshold'] =  V_threshold#mV\n",
    "    kwargs['mode'] =  'LR'\n",
    "    kwargs['h']=dt\n",
    "#     kwargs['V_threshold'] =  .4#mV\n",
    "#     kwargs['mode'] =  'FK'\n",
    "#     kwargs['dt']=0.025\n",
    "    kwargs['save_every_n_frames']= 1#40\n",
    "    kwargs['tmin']=100\n",
    "    kwargs['diffCoef'] = diffCoef\n",
    "    kwargs['dsdpixel'] = 0.025#ds/width#0.025#\n",
    "#     kwargs['h']=0.1# kwargs['h']=0.01 for ds_1_param_set_8 for stability\n",
    "    kwargs['tmax_sec'] = tmax_sec #maximum time to be integrated in seconds\n",
    "    kwargs['tmax']     = tmax_sec*10**3\n",
    "    kwargs['K_o']=K_o#TODO: expose K_o to this level if it should be varied extensively\n",
    "    kwargsout = generate_tip_logs_from_ic(ic, **kwargs)\n",
    "    #     print(f\"completed birth_death_rates_from_ic: {ic}\")\n",
    "    #     print(f\"csv of spiral tip data stored in: {kwargs['completed_ic_dir']}\")\n",
    "#     return os.path.basename(ic)\n",
    "    return kwargsout#['data_dir_log']#output location\n",
    "generate_tip_logs_from_ic"
   ]
  },
  {
   "cell_type": "code",
   "execution_count": 22,
   "metadata": {
    "ExecuteTime": {
     "end_time": "2021-08-09T20:36:52.312294Z",
     "start_time": "2021-08-09T20:36:52.292560Z"
    }
   },
   "outputs": [],
   "source": [
    "# kwargs = get_kwargs(ic, results_folder=results_folder)#,param_fn=param_fn)\n",
    "# kwargs\n",
    "# get_kwargs(ic, results_folder=results_folder)\n",
    "# ds/200"
   ]
  },
  {
   "cell_type": "code",
   "execution_count": 23,
   "metadata": {
    "ExecuteTime": {
     "end_time": "2021-08-09T20:36:52.932243Z",
     "start_time": "2021-08-09T20:36:52.761349Z"
    }
   },
   "outputs": [
    {
     "name": "stderr",
     "output_type": "stream",
     "text": [
      "Clipping input data to the valid range for imshow with RGB data ([0..1] for floats or [0..255] for integers).\n"
     ]
    },
    {
     "name": "stdout",
     "output_type": "stream",
     "text": [
      "6\n"
     ]
    },
    {
     "data": {
      "image/png": "[encoded data removed]",
      "text/plain": [
       "<Figure size 648x648 with 1 Axes>"
      ]
     },
     "metadata": {
      "needs_background": "light"
     },
     "output_type": "display_data"
    }
   ],
   "source": [
    "#test the V_threshold value\n",
    "j=1\n",
    "level1 = V_threshold\n",
    "t=-999\n",
    "level2 = 0.\n",
    "ic=input_fn_lst[j]\n",
    "txt=load_buffer(ic)#input_fn)\n",
    "inVc,outVc,inmhjdfx,outmhjdfx,dVcdt=unstack_txt(txt)\n",
    "width,height=txt.shape[:2]\n",
    "\n",
    "img=inVc[...,0]\n",
    "dimgdt=dVcdt[...,0]\n",
    "compute_all_spiral_tips= get_compute_all_spiral_tips(mode='simp',width=width,height=height)\n",
    "dict_out=compute_all_spiral_tips(t,img,dimgdt,level1,level2)#,width=width,height=height)\n",
    "print(len(list(dict_out['x'])))\n",
    "fig=show_buffer_LR(txt)\n",
    "axs=fig.get_axes()\n",
    "ax=axs[0]\n",
    "ax.scatter(dict_out['x'],dict_out['y'],s=300,c='yellow',marker='*')\n",
    "plt.show()"
   ]
  },
  {
   "cell_type": "code",
   "execution_count": 24,
   "metadata": {
    "ExecuteTime": {
     "end_time": "2021-08-09T20:37:00.625522Z",
     "start_time": "2021-08-09T20:37:00.609909Z"
    }
   },
   "outputs": [],
   "source": [
    "# # #test the routine on 1 file\n",
    "# input_fn=ic#'/home/timothytyree/Documents/GitHub/care/notebooks/Data/initial-conditions-suite-3-LR/ic-out/ic007.33.npz' \n",
    "# kwgs=routine(input_fn)"
   ]
  },
  {
   "cell_type": "code",
   "execution_count": null,
   "metadata": {
    "ExecuteTime": {
     "start_time": "2021-08-09T20:37:11.271Z"
    }
   },
   "outputs": [],
   "source": [
    "#all CPU version\n",
    "b = db.from_sequence(input_fn_lst, npartitions=npartitions).map(routine)\n",
    "start = time.time()\n",
    "retval = list(b)\n",
    "print(f\"run time for generating birth-death rates from file_name_list: {time.time()-start:.2f} seconds.\")\n",
    "beep(10)"
   ]
  },
  {
   "cell_type": "markdown",
   "metadata": {
    "heading_collapsed": true
   },
   "source": [
    "# etc"
   ]
  },
  {
   "cell_type": "markdown",
   "metadata": {
    "ExecuteTime": {
     "end_time": "2021-01-23T01:05:46.683753Z",
     "start_time": "2021-01-23T01:05:46.667031Z"
    },
    "heading_collapsed": true,
    "hidden": true
   },
   "source": [
    "### Estimated runtime per ic-suite of initial conditions (cpu) is very slow, but the analysis pipeline can update after each trial if I wanted.\n",
    "- is 2 days without saving any data<br>\n",
    "\n",
    "integrating to t=10 ms takes 11 seconds of runtime<br>\n",
    "thus, integrating to t=10 s should take 11*10**3 seconds of runtime, <br>\n",
    "which is ~ 3 hours per trial per cpu core<br>\n",
    "thus, `the runtime to run N=171 trials on 10 cpu cores is expected to be 171/10*3/24 ~ 2 days`\n",
    "- is 3.5 days with saving data at a very early stopping time<br>\n",
    "\n",
    "integrating by t=10 ms takes 6 minutes of runtime with saving 1 time per millisecond<br>\n",
    "thus, integrating to t=10 s should take 6*10**3 minutes of runtime with the saving I've been doing, <br>\n",
    "which is 6*10**3/60 ~ 100 hours per trial per cpu core<br>\n",
    "with save_every_n_frames=20 (once per 2 ms) and integrating to tmax=1 second would cut this down to 5 hours per trial\n",
    "^this would take 5*171/10/24 = 3.5 days per ic-suite"
   ]
  },
  {
   "cell_type": "code",
   "execution_count": 31,
   "metadata": {
    "ExecuteTime": {
     "end_time": "2021-01-22T16:27:22.752366Z",
     "start_time": "2021-01-22T16:27:22.719888Z"
    },
    "hidden": true
   },
   "outputs": [
    {
     "name": "stdout",
     "output_type": "stream",
     "text": [
      "def load_buffer(data_dir):\n",
      "\tif data_dir[-4:]=='.npy':\n",
      "\t\ttxt = np.load(data_dir)\n",
      "\t\treturn txt\n",
      "\telif data_dir[-4:]=='.npz':\n",
      "\t\ttxt = np.load(data_dir)\n",
      "\t\ttxt = txt[txt.files[0]]  #only take the first buffer because there's typically one\n",
      "\t\treturn txt\n",
      "\telse:\n",
      "\t\tprint(f\"\\tWarning: Failed to load {data_dir}.\")\n",
      "\t\traise Exception(f\"\\tWarning: Failed to load {data_dir}.\")\n",
      "\n"
     ]
    }
   ],
   "source": [
    "from inspect import getsource\n",
    "print(getsource(load_buffer))"
   ]
  },
  {
   "cell_type": "markdown",
   "metadata": {
    "heading_collapsed": true,
    "hidden": true
   },
   "source": [
    "### Ways to make the pipeline faster\n",
    "- remove the unnecessary feature measurements (just make them optional via some new kwarg!)\n",
    "- learn GPUDirect Storage (avoid: very time consuming!)\n",
    "- scale to open science grid (prereq: test/dev function taking an ic to an msd csv (or a diffcoeff csv!))"
   ]
  },
  {
   "cell_type": "markdown",
   "metadata": {
    "heading_collapsed": true,
    "hidden": true
   },
   "source": [
    "## TODO: profile the runtime of the save block of code that records spiraltips.  Can this be streamed/saved directly to a file to see a speedup?\n",
    "- note that after simplifying, computing dict_out takes <40ms...  \n"
   ]
  },
  {
   "cell_type": "code",
   "execution_count": 61,
   "metadata": {
    "ExecuteTime": {
     "end_time": "2021-01-25T01:45:50.250847Z",
     "start_time": "2021-01-25T01:45:50.235954Z"
    },
    "hidden": true
   },
   "outputs": [],
   "source": [
    "R = 8.3145  # J/(mol * °K) universal gas constant\n",
    "T = 273.15+37#°K physiologically normal body temperature 37°C\n",
    "F = 96485.3321233100184 # C/mol faraday's constant\n",
    "# R=8.315\n",
    "# T=310.15\n",
    "# F=96490.\n",
    "rtoverffull=R*T/F\n",
    "rtoverf=rtoverffull#0.02650"
   ]
  },
  {
   "cell_type": "code",
   "execution_count": 83,
   "metadata": {
    "ExecuteTime": {
     "end_time": "2021-01-25T01:49:38.675910Z",
     "start_time": "2021-01-25T01:49:38.658007Z"
    },
    "hidden": true
   },
   "outputs": [
    {
     "data": {
      "text/plain": [
       "-72.71743403953546"
      ]
     },
     "execution_count": 83,
     "metadata": {},
     "output_type": "execute_result"
    }
   ],
   "source": [
    "# write(6,*)rtoverffull,rtoverf\n",
    "xk0=7#2.85#K_o#,5.4#7. higher K_o should give shorter APD#\n",
    "# c     gx1=0.282*2.837*sqrt(5.4/xk0)\n",
    "# c modified to:\n",
    "gx1=0.423*2.837*np.sqrt(5.4/xk0)\n",
    "gk1=0.6047*np.sqrt(xk0/5.4)\n",
    "pr=0.01833\n",
    "xna0=140.\n",
    "xnai=18.\n",
    "xki=145.\n",
    "vx1=1000.*rtoverf*np.log((xk0+pr*xna0)/(xki+pr*xnai))\n",
    "vx1\n",
    "#wj's code used vx1=77.6mV for K_o=5.4\n",
    "#luo used vx1=-87.94 for K_o=2.85\n",
    "#let's try K_o=7"
   ]
  },
  {
   "cell_type": "code",
   "execution_count": null,
   "metadata": {
    "hidden": true
   },
   "outputs": [],
   "source": []
  }
 ],
 "metadata": {
  "kernelspec": {
   "display_name": "Python 3",
   "language": "python",
   "name": "python3"
  },
  "language_info": {
   "codemirror_mode": {
    "name": "ipython",
    "version": 3
   },
   "file_extension": ".py",
   "mimetype": "text/x-python",
   "name": "python",
   "nbconvert_exporter": "python",
   "pygments_lexer": "ipython3",
   "version": "3.7.6"
  },
  "toc": {
   "base_numbering": 1,
   "nav_menu": {},
   "number_sections": true,
   "sideBar": true,
   "skip_h1_title": false,
   "title_cell": "Table of Contents",
   "title_sidebar": "Contents",
   "toc_cell": false,
   "toc_position": {},
   "toc_section_display": true,
   "toc_window_display": false
  },
  "varInspector": {
   "cols": {
    "lenName": 16,
    "lenType": 16,
    "lenVar": 40
   },
   "kernels_config": {
    "python": {
     "delete_cmd_postfix": "",
     "delete_cmd_prefix": "del ",
     "library": "var_list.py",
     "varRefreshCmd": "print(var_dic_list())"
    },
    "r": {
     "delete_cmd_postfix": ") ",
     "delete_cmd_prefix": "rm(",
     "library": "var_list.r",
     "varRefreshCmd": "cat(var_dic_list()) "
    }
   },
   "types_to_exclude": [
    "module",
    "function",
    "builtin_function_or_method",
    "instance",
    "_Feature"
   ],
   "window_display": false
  }
 },
 "nbformat": 4,
 "nbformat_minor": 4
}
