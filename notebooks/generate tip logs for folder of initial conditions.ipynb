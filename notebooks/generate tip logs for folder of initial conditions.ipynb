{
 "cells": [
  {
   "cell_type": "markdown",
   "metadata": {},
   "source": [
    "# testing the routine on 1 file from the folder\n",
    "Tim Tyree\n",
    "1.21.2021"
   ]
  },
  {
   "cell_type": "code",
   "execution_count": 24,
   "metadata": {
    "ExecuteTime": {
     "end_time": "2021-01-28T22:43:19.349157Z",
     "start_time": "2021-01-28T22:43:19.329676Z"
    }
   },
   "outputs": [
    {
     "name": "stdout",
     "output_type": "stream",
     "text": [
      "Automatic calling is: Smart\n",
      "The autoreload extension is already loaded. To reload it, use:\n",
      "  %reload_ext autoreload\n"
     ]
    }
   ],
   "source": [
    "from lib.my_initialization import *\n",
    "from lib.utils.utils_traj import *\n",
    "import trackpy\n",
    "from scipy import stats\n",
    "from lib.utils.operari import *\n",
    "\n",
    "\n",
    "%autocall 1\n",
    "%load_ext autoreload\n",
    "%autoreload 2\n",
    "# awareness&chill"
   ]
  },
  {
   "cell_type": "code",
   "execution_count": 26,
   "metadata": {
    "ExecuteTime": {
     "end_time": "2021-01-23T22:11:25.069917Z",
     "start_time": "2021-01-23T22:11:25.055099Z"
    }
   },
   "outputs": [],
   "source": [
    "#make plots in darkmode\n",
    "import seaborn as sns\n",
    "from jupyterthemes import jtplot\n",
    "jtplot.style(theme='monokai', context='notebook', ticks=True, grid=False)"
   ]
  },
  {
   "cell_type": "markdown",
   "metadata": {},
   "source": [
    "# TODO: copy&paste the routine function call from lib\n",
    "while the cpu one-step method generates data\n",
    "- TODO: consider the gpu compiling solution \n",
    "- TODO: debug the D-table-generator... it's printing blank .csv's :("
   ]
  },
  {
   "cell_type": "code",
   "execution_count": 25,
   "metadata": {
    "ExecuteTime": {
     "end_time": "2021-01-28T22:43:23.134959Z",
     "start_time": "2021-01-28T22:43:23.121956Z"
    }
   },
   "outputs": [],
   "source": [
    "# ic = search_for_filename()\n",
    "# ic=search_for_file()\n",
    "ic=\"/home/timothytyree/Documents/GitHub/care/notebooks/Data/initial-conditions-suite-3-LR/ic-in/ic001.33.npz\""
   ]
  },
  {
   "cell_type": "code",
   "execution_count": 35,
   "metadata": {
    "ExecuteTime": {
     "end_time": "2021-01-28T22:46:26.938995Z",
     "start_time": "2021-01-28T22:46:26.914412Z"
    }
   },
   "outputs": [],
   "source": [
    "#initialize filesystem if not already initialized\n",
    "cwd=os.getcwd()\n",
    "# base_folder   = '/'+os.path.join(*cwd.split('/')[:-1])\n",
    "base_folder=f\"{nb_dir}/Data/initial-conditions-suite-3-LR\"\n",
    "ds=7.5\n",
    "tmax_sec=30\n",
    "# K_o=7.#5.4 higher K_o should give shorter APD#\n",
    "\n",
    "results_folder=f'ds_{ds}_param_qu_tmax_{tmax_sec}'#_Ko_{K_o}'\n",
    "# param_fn = 'param_set_8_og.json'\n",
    "try:\n",
    "    init_filesystem_bd(base_folder,\n",
    "                      results_folder=results_folder,\n",
    "                      subfolder_list=None)\n",
    "except FileExistsError:\n",
    "    print('new file system not initialized.')"
   ]
  },
  {
   "cell_type": "code",
   "execution_count": 36,
   "metadata": {
    "ExecuteTime": {
     "end_time": "2021-01-28T22:46:30.096546Z",
     "start_time": "2021-01-28T22:46:30.068613Z"
    }
   },
   "outputs": [],
   "source": [
    "#reset in out if ic-in is empty of npz files\n",
    "enable_reset_in_out=True\n",
    "if enable_reset_in_out:\n",
    "    os.chdir(base_folder)\n",
    "    def is_npz(s): return s[-4:]=='.npz'\n",
    "    retval = [fn for fn in os.listdir('ic-in') if is_npz(fn)]\n",
    "    if len(retval)==0:\n",
    "        os.rename('ic-in','ic-in2')\n",
    "        os.rename('ic-out','ic-in')\n",
    "        os.rename('ic-in2','ic-out')\n",
    "        print('ic reset')"
   ]
  },
  {
   "cell_type": "code",
   "execution_count": null,
   "metadata": {
    "ExecuteTime": {
     "end_time": "2021-01-23T22:11:33.014209Z",
     "start_time": "2021-01-23T22:11:32.973343Z"
    }
   },
   "outputs": [],
   "source": []
  },
  {
   "cell_type": "code",
   "execution_count": 37,
   "metadata": {
    "ExecuteTime": {
     "end_time": "2021-01-28T22:46:33.524550Z",
     "start_time": "2021-01-28T22:46:33.502697Z"
    }
   },
   "outputs": [
    {
     "data": {
      "text/plain": [
       "159"
      ]
     },
     "execution_count": 37,
     "metadata": {},
     "output_type": "execute_result"
    }
   ],
   "source": [
    "#get all .npz files in the file's directory\n",
    "input_fn_lst=get_all_files_matching_pattern(file=ic, trgt='.npz')\n",
    "len(input_fn_lst)"
   ]
  },
  {
   "cell_type": "code",
   "execution_count": 38,
   "metadata": {
    "ExecuteTime": {
     "end_time": "2021-01-28T22:46:34.499326Z",
     "start_time": "2021-01-28T22:46:34.485807Z"
    }
   },
   "outputs": [
    {
     "data": {
      "text/plain": [
       "'/home/timothytyree/Documents/GitHub/care/notebooks/Data/initial-conditions-suite-3-LR/ic-in/ic012.32.npz'"
      ]
     },
     "execution_count": 38,
     "metadata": {},
     "output_type": "execute_result"
    }
   ],
   "source": [
    "# is this an absolute path?\n",
    "input_fn_lst[0]"
   ]
  },
  {
   "cell_type": "code",
   "execution_count": 41,
   "metadata": {
    "ExecuteTime": {
     "end_time": "2021-01-28T22:47:07.160704Z",
     "start_time": "2021-01-28T22:47:07.144322Z"
    }
   },
   "outputs": [],
   "source": [
    "from lib.routines.generate_tip_logs_LR_model_cy import *\n",
    "from lib.routines.kwargs_LR_model_cy import get_kwargs\n",
    "\n",
    "def routine(ic):\n",
    "#     kwargs = get_kwargs(ic)   \n",
    "    kwargs = get_kwargs(ic, results_folder=results_folder)#,param_fn=param_fn)\n",
    "#     kwargs['V_threshold'] =  -50.#mV\n",
    "    width=200\n",
    "    kwargs['dsdpixel']=ds/width#0.025#\n",
    "#     kwargs['h']=0.1# kwargs['h']=0.01 for ds_1_param_set_8 for stability\n",
    "    kwargs['tmax_sec'] = tmax_sec #maximum time to be integrated in seconds\n",
    "    kwargs['tmax']= tmax_sec*10**3\n",
    "#     kwargs['K_o']=K_o#TODO: expose K_o to this level if it should be varied extensively\n",
    "    kwargsout = generate_tip_logs_from_ic(ic, **kwargs)\n",
    "    #     print(f\"completed birth_death_rates_from_ic: {ic}\")\n",
    "    #     print(f\"csv of spiral tip data stored in: {kwargs['completed_ic_dir']}\")\n",
    "#     return os.path.basename(ic)\n",
    "    return kwargsout#['data_dir_log']#output location"
   ]
  },
  {
   "cell_type": "code",
   "execution_count": 43,
   "metadata": {
    "ExecuteTime": {
     "end_time": "2021-01-28T22:47:13.133041Z",
     "start_time": "2021-01-28T22:47:13.099891Z"
    }
   },
   "outputs": [
    {
     "data": {
      "text/plain": [
       "0.0375"
      ]
     },
     "execution_count": 43,
     "metadata": {},
     "output_type": "execute_result"
    }
   ],
   "source": [
    "# kwargs = get_kwargs(ic, results_folder=results_folder)#,param_fn=param_fn)\n",
    "# kwargs\n",
    "tmax_sec\n",
    "ds/200"
   ]
  },
  {
   "cell_type": "code",
   "execution_count": 44,
   "metadata": {
    "ExecuteTime": {
     "end_time": "2021-01-28T22:47:18.962819Z",
     "start_time": "2021-01-28T22:47:18.802516Z"
    }
   },
   "outputs": [
    {
     "name": "stderr",
     "output_type": "stream",
     "text": [
      "Clipping input data to the valid range for imshow with RGB data ([0..1] for floats or [0..255] for integers).\n"
     ]
    },
    {
     "name": "stdout",
     "output_type": "stream",
     "text": [
      "8\n"
     ]
    },
    {
     "data": {
      "image/png": "[encoded data removed]",
      "text/plain": [
       "<Figure size 648x648 with 1 Axes>"
      ]
     },
     "metadata": {
      "needs_background": "light"
     },
     "output_type": "display_data"
    }
   ],
   "source": [
    "#test the V_threshold value\n",
    "j=131\n",
    "V_threshold=-50.\n",
    "level1 = V_threshold\n",
    "\n",
    "t=-999\n",
    "level2 = 0.\n",
    "ic=input_fn_lst[j]\n",
    "txt=load_buffer(ic)#input_fn)\n",
    "inVc,outVc,inmhjdfx,outmhjdfx,dVcdt=unstack_txt(txt)\n",
    "img=inVc[...,0]\n",
    "dimgdt=dVcdt[...,0]\n",
    "compute_all_spiral_tips= get_compute_all_spiral_tips(mode='simp')#width=width,height=height)\n",
    "dict_out=compute_all_spiral_tips(t,img,dimgdt,level1,level2)#,width=width,height=height)\n",
    "print(len(list(dict_out['x'])))\n",
    "fig=show_buffer_LR(txt)\n",
    "axs=fig.get_axes()\n",
    "ax=axs[0]\n",
    "ax.scatter(dict_out['x'],dict_out['y'],s=1500,c='yellow',marker='*')\n",
    "plt.show()"
   ]
  },
  {
   "cell_type": "code",
   "execution_count": 45,
   "metadata": {
    "ExecuteTime": {
     "end_time": "2021-01-28T22:47:21.700617Z",
     "start_time": "2021-01-28T22:47:21.666573Z"
    }
   },
   "outputs": [],
   "source": [
    "# #test the routine on 1 file\n",
    "# input_fn='/home/timothytyree/Documents/GitHub/care/notebooks/Data/initial-conditions-suite-3-LR/ic-in/ic007.33.npz' \n",
    "# kwgs=routine(input_fn)"
   ]
  },
  {
   "cell_type": "code",
   "execution_count": null,
   "metadata": {
    "ExecuteTime": {
     "start_time": "2021-01-28T22:47:29.059Z"
    }
   },
   "outputs": [],
   "source": [
    "#all CPU version\n",
    "b = db.from_sequence(input_fn_lst, npartitions=10).map(routine)\n",
    "start = time.time()\n",
    "retval = list(b)\n",
    "print(f\"run time for generating birth-death rates from file_name_list: {time.time()-start:.2f} seconds.\")\n",
    "beep(10)"
   ]
  },
  {
   "cell_type": "code",
   "execution_count": 56,
   "metadata": {
    "ExecuteTime": {
     "end_time": "2021-01-25T01:31:10.994368Z",
     "start_time": "2021-01-25T01:31:10.973354Z"
    }
   },
   "outputs": [
    {
     "data": {
      "text/plain": [
       "5.658611111111111"
      ]
     },
     "execution_count": 56,
     "metadata": {},
     "output_type": "execute_result"
    }
   ],
   "source": [
    "12436/60/60\n",
    "20371/60/60"
   ]
  },
  {
   "cell_type": "markdown",
   "metadata": {},
   "source": [
    "# TODO: archive the following .npz files from ic-suite-3-LR"
   ]
  },
  {
   "cell_type": "markdown",
   "metadata": {},
   "source": [
    "- no spiral tips detected in ic, ic007.33.npz-\n",
    "- no spiral tips detected in ic, ic007.11.npz-\n",
    "- no spiral tips detected in ic, ic006.22.npz-\n",
    "- no spiral tips detected in ic, ic016.23.npz-\n",
    "- no spiral tips detected in ic, ic006.33.npz-\n",
    "- no spiral tips detected in ic, ic008.12.npz-\n",
    "- no spiral tips detected in ic, ic010.13.npz-\n",
    "- no spiral tips detected in ic, ic015.12.npz-\n",
    "- no spiral tips detected in ic, ic009.13.npz-\n",
    "- no spiral tips detected in ic, ic018.33.npz-\n",
    "- no spiral tips detected in ic, ic007.32.npz-\n",
    "- no spiral tips detected in ic, ic007.12.npz-\n",
    "- run time for generating birth-death rates from file_name_list: 20484.25 seconds."
   ]
  },
  {
   "cell_type": "markdown",
   "metadata": {
    "ExecuteTime": {
     "end_time": "2021-01-23T01:05:46.683753Z",
     "start_time": "2021-01-23T01:05:46.667031Z"
    }
   },
   "source": [
    "### Estimated runtime per ic-suite of initial conditions (cpu) is very slow, but the analysis pipeline can update after each trial if I wanted.\n",
    "- is 2 days without saving any data<br>\n",
    "\n",
    "integrating to t=10 ms takes 11 seconds of runtime<br>\n",
    "thus, integrating to t=10 s should take 11*10**3 seconds of runtime, <br>\n",
    "which is ~ 3 hours per trial per cpu core<br>\n",
    "thus, `the runtime to run N=171 trials on 10 cpu cores is expected to be 171/10*3/24 ~ 2 days`\n",
    "- is 3.5 days with saving data at a very early stopping time<br>\n",
    "\n",
    "integrating by t=10 ms takes 6 minutes of runtime with saving 1 time per millisecond<br>\n",
    "thus, integrating to t=10 s should take 6*10**3 minutes of runtime with the saving I've been doing, <br>\n",
    "which is 6*10**3/60 ~ 100 hours per trial per cpu core<br>\n",
    "with save_every_n_frames=20 (once per 2 ms) and integrating to tmax=1 second would cut this down to 5 hours per trial\n",
    "^this would take 5*171/10/24 = 3.5 days per ic-suite"
   ]
  },
  {
   "cell_type": "code",
   "execution_count": 31,
   "metadata": {
    "ExecuteTime": {
     "end_time": "2021-01-22T16:27:22.752366Z",
     "start_time": "2021-01-22T16:27:22.719888Z"
    }
   },
   "outputs": [
    {
     "name": "stdout",
     "output_type": "stream",
     "text": [
      "def load_buffer(data_dir):\n",
      "\tif data_dir[-4:]=='.npy':\n",
      "\t\ttxt = np.load(data_dir)\n",
      "\t\treturn txt\n",
      "\telif data_dir[-4:]=='.npz':\n",
      "\t\ttxt = np.load(data_dir)\n",
      "\t\ttxt = txt[txt.files[0]]  #only take the first buffer because there's typically one\n",
      "\t\treturn txt\n",
      "\telse:\n",
      "\t\tprint(f\"\\tWarning: Failed to load {data_dir}.\")\n",
      "\t\traise Exception(f\"\\tWarning: Failed to load {data_dir}.\")\n",
      "\n"
     ]
    }
   ],
   "source": [
    "from inspect import getsource\n",
    "print(getsource(load_buffer))"
   ]
  },
  {
   "cell_type": "markdown",
   "metadata": {
    "heading_collapsed": true
   },
   "source": [
    "### Ways to make the pipeline faster\n",
    "- remove the unnecessary feature measurements (just make them optional via some new kwarg!)\n",
    "- learn GPUDirect Storage (avoid: very time consuming!)\n",
    "- scale to open science grid (prereq: test/dev function taking an ic to an msd csv (or a diffcoeff csv!))"
   ]
  },
  {
   "cell_type": "markdown",
   "metadata": {},
   "source": [
    "# TODO: profile the runtime of the save block of code that records spiraltips.  Can this be streamed/saved directly to a file to see a speedup?\n",
    "- note that after simplifying, computing dict_out takes <40ms...  \n"
   ]
  },
  {
   "cell_type": "code",
   "execution_count": 61,
   "metadata": {
    "ExecuteTime": {
     "end_time": "2021-01-25T01:45:50.250847Z",
     "start_time": "2021-01-25T01:45:50.235954Z"
    }
   },
   "outputs": [],
   "source": [
    "R = 8.3145  # J/(mol * °K) universal gas constant\n",
    "T = 273.15+37#°K physiologically normal body temperature 37°C\n",
    "F = 96485.3321233100184 # C/mol faraday's constant\n",
    "# R=8.315\n",
    "# T=310.15\n",
    "# F=96490.\n",
    "rtoverffull=R*T/F\n",
    "rtoverf=rtoverffull#0.02650"
   ]
  },
  {
   "cell_type": "code",
   "execution_count": 83,
   "metadata": {
    "ExecuteTime": {
     "end_time": "2021-01-25T01:49:38.675910Z",
     "start_time": "2021-01-25T01:49:38.658007Z"
    }
   },
   "outputs": [
    {
     "data": {
      "text/plain": [
       "-72.71743403953546"
      ]
     },
     "execution_count": 83,
     "metadata": {},
     "output_type": "execute_result"
    }
   ],
   "source": [
    "# write(6,*)rtoverffull,rtoverf\n",
    "xk0=7#2.85#K_o#,5.4#7. higher K_o should give shorter APD#\n",
    "# c     gx1=0.282*2.837*sqrt(5.4/xk0)\n",
    "# c modified to:\n",
    "gx1=0.423*2.837*np.sqrt(5.4/xk0)\n",
    "gk1=0.6047*np.sqrt(xk0/5.4)\n",
    "pr=0.01833\n",
    "xna0=140.\n",
    "xnai=18.\n",
    "xki=145.\n",
    "vx1=1000.*rtoverf*np.log((xk0+pr*xna0)/(xki+pr*xnai))\n",
    "vx1\n",
    "#wj's code used vx1=77.6mV for K_o=5.4\n",
    "#luo used vx1=-87.94 for K_o=2.85\n",
    "#let's try K_o=7"
   ]
  },
  {
   "cell_type": "code",
   "execution_count": null,
   "metadata": {},
   "outputs": [],
   "source": []
  }
 ],
 "metadata": {
  "kernelspec": {
   "display_name": "Python 3",
   "language": "python",
   "name": "python3"
  },
  "toc": {
   "base_numbering": 1,
   "nav_menu": {},
   "number_sections": true,
   "sideBar": true,
   "skip_h1_title": false,
   "title_cell": "Table of Contents",
   "title_sidebar": "Contents",
   "toc_cell": false,
   "toc_position": {},
   "toc_section_display": true,
   "toc_window_display": false
  },
  "varInspector": {
   "cols": {
    "lenName": 16,
    "lenType": 16,
    "lenVar": 40
   },
   "kernels_config": {
    "python": {
     "delete_cmd_postfix": "",
     "delete_cmd_prefix": "del ",
     "library": "var_list.py",
     "varRefreshCmd": "print(var_dic_list())"
    },
    "r": {
     "delete_cmd_postfix": ") ",
     "delete_cmd_prefix": "rm(",
     "library": "var_list.r",
     "varRefreshCmd": "cat(var_dic_list()) "
    }
   },
   "types_to_exclude": [
    "module",
    "function",
    "builtin_function_or_method",
    "instance",
    "_Feature"
   ],
   "window_display": false
  }
 },
 "nbformat": 4,
 "nbformat_minor": 4
}
