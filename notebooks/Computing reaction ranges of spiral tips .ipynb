{
 "cells": [
  {
   "cell_type": "markdown",
   "metadata": {},
   "source": [
    "# Computing reaction ranges of spiral tips \n",
    "Tim Tyree<br>\n",
    "3.19.2021"
   ]
  },
  {
   "cell_type": "code",
   "execution_count": 1,
   "metadata": {
    "ExecuteTime": {
     "end_time": "2021-08-24T02:14:17.494279Z",
     "start_time": "2021-08-24T02:14:15.686055Z"
    },
    "run_control": {
     "marked": false
    }
   },
   "outputs": [],
   "source": [
    "from lib.my_initialization import *\n",
    "from lib import *\n",
    "from lib.utils.merge_cloud_results import *\n",
    "import seaborn as sns\n",
    "# from scipy.interpolate import CubicSpline\n",
    "from scipy.interpolate import splprep, splev\n",
    "import matplotlib\n",
    "%load_ext autoreload\n",
    "%autoreload 2"
   ]
  },
  {
   "cell_type": "code",
   "execution_count": 2,
   "metadata": {
    "ExecuteTime": {
     "end_time": "2021-08-09T20:26:03.096389Z",
     "start_time": "2021-08-09T20:26:03.080280Z"
    },
    "run_control": {
     "marked": false
    }
   },
   "outputs": [],
   "source": [
    "darkmode=False\n",
    "if darkmode:\n",
    "    # For darkmode plots\n",
    "    from jupyterthemes import jtplot\n",
    "    jtplot.style(theme='monokai', context='notebook', ticks=True, grid=False)"
   ]
  },
  {
   "cell_type": "markdown",
   "metadata": {
    "heading_collapsed": true
   },
   "source": [
    "# (ignore) don't make a nice snapshot"
   ]
  },
  {
   "cell_type": "code",
   "execution_count": 3,
   "metadata": {
    "ExecuteTime": {
     "end_time": "2021-08-09T05:46:25.092623Z",
     "start_time": "2021-08-09T05:46:25.066276Z"
    },
    "hidden": true,
    "run_control": {
     "marked": false
    }
   },
   "outputs": [],
   "source": [
    "#load poster child csv\n",
    "file='/home/timothytyree/Documents/GitHub/care/notebooks/Data/initial-conditions-suite-3-LR/param_qu_tmax_30_Ko_3.8_diffCoef_0.001/trajectories/ic018.21_traj_sr_600_mem_0.csv'\n",
    "ic_fn='/home/timothytyree/Documents/GitHub/care/notebooks/Data/initial-conditions-suite-3-LR/ic-out/ic018.21.npz'"
   ]
  },
  {
   "cell_type": "code",
   "execution_count": 4,
   "metadata": {
    "ExecuteTime": {
     "end_time": "2021-08-09T05:46:25.148993Z",
     "start_time": "2021-08-09T05:46:25.095263Z"
    },
    "hidden": true,
    "run_control": {
     "marked": false
    }
   },
   "outputs": [
    {
     "name": "stdout",
     "output_type": "stream",
     "text": [
      "0.1\n"
     ]
    }
   ],
   "source": [
    "txt=load_buffer(ic_fn)\n",
    "# txt.shape\n",
    "results_folder=f\"{nb_dir}/Data/reaction-range-data\"\n",
    "if not os.path.exists(results_folder):\n",
    "    os.mkdir(results_folder)\n",
    "K_o=3.8\n",
    "diffCoef=0.001\n",
    "tmin_sec=0.1\n",
    "#cython accelerated time integration of LR model\n",
    "from lib.routines.generate_tip_logs_LR_model_cy import *\n",
    "from lib.routines.kwargs_LR_model_cy import get_kwargs\n",
    "kwargs = get_kwargs(ic_fn,results_folder=results_folder)\n",
    "kwargs['tmax']=tmin_sec;print(tmin_sec)\n",
    "kwargs['diffCoef']=diffCoef\n",
    "kwargs['K_o']=K_o"
   ]
  },
  {
   "cell_type": "code",
   "execution_count": 5,
   "metadata": {
    "ExecuteTime": {
     "end_time": "2021-08-09T05:48:02.966147Z",
     "start_time": "2021-08-09T05:46:25.150451Z"
    },
    "hidden": true,
    "run_control": {
     "marked": false
    }
   },
   "outputs": [
    {
     "name": "stdout",
     "output_type": "stream",
     "text": [
      "integrating to time t=100.000 ms without recording with dt=0.010 ms.\n",
      "long run times ~2 minutes expected...\n"
     ]
    },
    {
     "ename": "KeyboardInterrupt",
     "evalue": "",
     "output_type": "error",
     "traceback": [
      "\u001b[0;31m---------------------------------------------------------------------------\u001b[0m",
      "\u001b[0;31mKeyboardInterrupt\u001b[0m                         Traceback (most recent call last)",
      "\u001b[0;32m<ipython-input-5-130b9b2233b5>\u001b[0m in \u001b[0;36m<module>\u001b[0;34m\u001b[0m\n\u001b[1;32m     15\u001b[0m     \u001b[0mprint\u001b[0m\u001b[0;34m(\u001b[0m\u001b[0;34mf\"long run times ~2 minutes expected...\"\u001b[0m\u001b[0;34m)\u001b[0m\u001b[0;34m\u001b[0m\u001b[0;34m\u001b[0m\u001b[0m\n\u001b[1;32m     16\u001b[0m \u001b[0;32mwhile\u001b[0m \u001b[0;34m(\u001b[0m\u001b[0mt\u001b[0m\u001b[0;34m<\u001b[0m\u001b[0mtmin_early_stopping\u001b[0m\u001b[0;34m)\u001b[0m\u001b[0;34m:\u001b[0m\u001b[0;34m\u001b[0m\u001b[0;34m\u001b[0m\u001b[0m\n\u001b[0;32m---> 17\u001b[0;31m     \u001b[0mone_step_map\u001b[0m\u001b[0;34m(\u001b[0m\u001b[0mtxt\u001b[0m\u001b[0;34m,\u001b[0m\u001b[0mtxt_Istim_none\u001b[0m\u001b[0;34m)\u001b[0m\u001b[0;34m\u001b[0m\u001b[0;34m\u001b[0m\u001b[0m\n\u001b[0m\u001b[1;32m     18\u001b[0m     \u001b[0mt\u001b[0m\u001b[0;34m+=\u001b[0m\u001b[0mdt\u001b[0m\u001b[0;34m\u001b[0m\u001b[0;34m\u001b[0m\u001b[0m\n\u001b[1;32m     19\u001b[0m \u001b[0;31m#precompute anything that needs precomputing\u001b[0m\u001b[0;34m\u001b[0m\u001b[0;34m\u001b[0m\u001b[0;34m\u001b[0m\u001b[0m\n",
      "\u001b[0;31mKeyboardInterrupt\u001b[0m: "
     ]
    }
   ],
   "source": [
    "dt=0.01\n",
    "dsdpixel=0.025\n",
    "width=200;height=200\n",
    "printing=True\n",
    "dt, one_step_map = get_one_step_map(nb_dir,dt=dt,width=width,height=height,**kwargs)\n",
    "# dt, one_step_map = get_one_step_map(nb_dir,dt,**kwargs)\n",
    "# dt, one_step_map = get_one_step_map(nb_dir,dt,dsdpixel,width,height,**kwargs)\n",
    "# dt, one_step_map = get_one_step_map(nb_dir,dt,**kwargs)\n",
    "txt_Istim_none=np.zeros(shape=(width,height), dtype=np.float64, order='C')\n",
    "tmin_early_stopping=tmin_sec*10**3\n",
    "t=0.\n",
    "txt=load_buffer(ic_fn).astype('float64')\n",
    "if printing:\n",
    "    print(f\"integrating to time t={tmin_early_stopping:.3f} ms without recording with dt={dt:.3f} ms.\")\n",
    "    print(f\"long run times ~2 minutes expected...\")\n",
    "while (t<tmin_early_stopping):\n",
    "    one_step_map(txt,txt_Istim_none)\n",
    "    t+=dt\n",
    "#precompute anything that needs precomputing\n",
    "compute_all_spiral_tips= get_compute_all_spiral_tips(mode='simp',width=width,height=height)\n"
   ]
  },
  {
   "cell_type": "code",
   "execution_count": null,
   "metadata": {
    "ExecuteTime": {
     "end_time": "2021-08-09T05:48:02.980533Z",
     "start_time": "2021-08-09T05:46:23.043Z"
    },
    "hidden": true,
    "run_control": {
     "marked": false
    }
   },
   "outputs": [],
   "source": [
    "level1=-50.\n",
    "level2=0.\n",
    "#TODO: track trajectory up to some time at a high time resolution\n",
    "#check for any tips being present\n",
    "inVc,outVc,inmhjdfx,outmhjdfx,dVcdt=unstack_txt(txt)\n",
    "img=inVc[...,0]\n",
    "dimgdt=dVcdt[...,0]\n",
    "dict_out=compute_all_spiral_tips(t,img,dimgdt,level1,level2)#,width=width,height=height)\n",
    "n_tips=dict_out['n']#skip this trial if no spiral tips are present"
   ]
  },
  {
   "cell_type": "code",
   "execution_count": null,
   "metadata": {
    "ExecuteTime": {
     "end_time": "2021-08-09T05:48:02.981292Z",
     "start_time": "2021-08-09T05:46:23.049Z"
    },
    "hidden": true,
    "run_control": {
     "marked": false
    }
   },
   "outputs": [],
   "source": [
    "txt_tmin_sec=txt.copy()\n",
    "beep(4)"
   ]
  },
  {
   "cell_type": "code",
   "execution_count": null,
   "metadata": {
    "ExecuteTime": {
     "end_time": "2021-08-09T05:48:02.982193Z",
     "start_time": "2021-08-09T05:46:23.056Z"
    },
    "hidden": true,
    "run_control": {
     "marked": false
    }
   },
   "outputs": [],
   "source": [
    "#verify whether the apparent tips agree with the recorded tips\n",
    "df_recorded = pd.read_csv(file)"
   ]
  },
  {
   "cell_type": "code",
   "execution_count": null,
   "metadata": {
    "ExecuteTime": {
     "end_time": "2021-08-09T05:48:02.982730Z",
     "start_time": "2021-08-09T05:46:23.063Z"
    },
    "hidden": true,
    "run_control": {
     "marked": false
    }
   },
   "outputs": [],
   "source": [
    "t"
   ]
  },
  {
   "cell_type": "code",
   "execution_count": null,
   "metadata": {
    "ExecuteTime": {
     "end_time": "2021-08-09T05:48:02.983283Z",
     "start_time": "2021-08-09T05:46:23.070Z"
    },
    "hidden": true,
    "run_control": {
     "marked": false
    }
   },
   "outputs": [],
   "source": [
    "dict_out['x']\n"
   ]
  },
  {
   "cell_type": "code",
   "execution_count": null,
   "metadata": {
    "ExecuteTime": {
     "end_time": "2021-08-09T05:48:02.983748Z",
     "start_time": "2021-08-09T05:46:23.078Z"
    },
    "hidden": true,
    "run_control": {
     "marked": false
    }
   },
   "outputs": [],
   "source": [
    "df_recorded[(df_recorded.t>=t-0.5)&(df_recorded.t<=t+0.5)]"
   ]
  },
  {
   "cell_type": "code",
   "execution_count": null,
   "metadata": {
    "ExecuteTime": {
     "end_time": "2021-08-09T05:48:02.984442Z",
     "start_time": "2021-08-09T05:46:23.085Z"
    },
    "hidden": true,
    "run_control": {
     "marked": false
    }
   },
   "outputs": [],
   "source": [
    "df_recorded"
   ]
  },
  {
   "cell_type": "code",
   "execution_count": null,
   "metadata": {
    "ExecuteTime": {
     "end_time": "2021-08-09T05:48:02.985308Z",
     "start_time": "2021-08-09T05:46:23.091Z"
    },
    "hidden": true,
    "run_control": {
     "marked": false
    }
   },
   "outputs": [],
   "source": [
    "while (t<tmin_early_stopping+0.1*20):\n",
    "    one_step_map(txt,txt_Istim_none)\n",
    "    t+=dt"
   ]
  },
  {
   "cell_type": "code",
   "execution_count": null,
   "metadata": {
    "ExecuteTime": {
     "end_time": "2021-08-09T05:48:02.985847Z",
     "start_time": "2021-08-09T05:46:23.096Z"
    },
    "hidden": true,
    "run_control": {
     "marked": false
    }
   },
   "outputs": [],
   "source": [
    "inVc,outVc,inmhjdfx,outmhjdfx,dVcdt=unstack_txt(txt)\n",
    "img=inVc[...,0]\n",
    "dimgdt=dVcdt[...,0]\n",
    "dict_out=compute_all_spiral_tips(t,img,dimgdt,level1,level2)#,width=width,height=height)\n",
    "n_tips=dict_out['n']#skip this trial if no spiral tips are present\n",
    "dict_out['x']"
   ]
  },
  {
   "cell_type": "code",
   "execution_count": null,
   "metadata": {
    "ExecuteTime": {
     "end_time": "2021-08-09T05:48:02.986410Z",
     "start_time": "2021-08-09T05:46:23.102Z"
    },
    "hidden": true,
    "run_control": {
     "marked": false
    }
   },
   "outputs": [],
   "source": [
    "sorted(df_recorded[df_recorded.frame==15].x.values)\n",
    "# list(df_recorded[(df_recorded.t>=t-0.5)&(df_recorded.t<=t+0.5)]['x'].values)"
   ]
  },
  {
   "cell_type": "code",
   "execution_count": null,
   "metadata": {
    "ExecuteTime": {
     "end_time": "2021-08-09T05:48:02.986975Z",
     "start_time": "2021-08-09T05:46:23.108Z"
    },
    "hidden": true,
    "run_control": {
     "marked": false
    }
   },
   "outputs": [],
   "source": [
    "dict_out['x']"
   ]
  },
  {
   "cell_type": "markdown",
   "metadata": {},
   "source": [
    "# DO analyze the existing spiral tip trajectory data"
   ]
  },
  {
   "cell_type": "markdown",
   "metadata": {},
   "source": [
    "# plot naive reaction ranges at death and birth"
   ]
  },
  {
   "cell_type": "markdown",
   "metadata": {
    "heading_collapsed": true
   },
   "source": [
    "## show birth/death range for LR model with dt=0.4ms"
   ]
  },
  {
   "cell_type": "code",
   "execution_count": null,
   "metadata": {
    "ExecuteTime": {
     "end_time": "2021-08-09T05:48:02.987726Z",
     "start_time": "2021-08-09T05:46:23.116Z"
    },
    "hidden": true,
    "run_control": {
     "marked": false
    }
   },
   "outputs": [],
   "source": [
    "#load poster child csv\n",
    "file='/home/timothytyree/Documents/GitHub/care/notebooks/Data/initial-conditions-suite-3-LR/param_qu_tmax_30_Ko_3.8_diffCoef_0.001/trajectories/ic018.21_traj_sr_600_mem_0.csv'\n",
    "# ic_fn='/home/timothytyree/Documents/GitHub/care/notebooks/Data/initial-conditions-suite-3-LR/ic-out/ic018.21.npz'\n",
    "df=pd.read_csv(file)\n",
    "df.head()"
   ]
  },
  {
   "cell_type": "code",
   "execution_count": null,
   "metadata": {
    "ExecuteTime": {
     "end_time": "2021-08-09T05:48:02.988387Z",
     "start_time": "2021-08-09T05:46:23.122Z"
    },
    "hidden": true,
    "run_control": {
     "marked": false
    }
   },
   "outputs": [],
   "source": [
    "def compute_DT(df,round_t_to_n_digits=3):\n",
    "    '''DT is the time between two observations'''\n",
    "    DT=np.around(df[(df.frame==1)].t.values[0]-df[(df.frame==0)].t.values[0],round_t_to_n_digits)\n",
    "    return DT"
   ]
  },
  {
   "cell_type": "code",
   "execution_count": null,
   "metadata": {
    "ExecuteTime": {
     "end_time": "2021-08-09T05:48:02.989003Z",
     "start_time": "2021-08-09T05:46:23.127Z"
    },
    "hidden": true,
    "run_control": {
     "marked": false
    }
   },
   "outputs": [],
   "source": [
    "#compute interactions\n",
    "df_interactions=compute_df_interactions(file,DS=5./200.)\n",
    "df_interactions.dropna(inplace=True)\n",
    "death_ranges=DS*df_interactions.rT.values\n",
    "birth_ranges=DS*df_interactions.r0.values"
   ]
  },
  {
   "cell_type": "code",
   "execution_count": null,
   "metadata": {
    "ExecuteTime": {
     "end_time": "2021-08-09T05:48:02.989619Z",
     "start_time": "2021-08-09T05:46:23.133Z"
    },
    "hidden": true,
    "run_control": {
     "marked": false
    },
    "scrolled": true
   },
   "outputs": [],
   "source": [
    "fontsize=16\n",
    "#plot naive range at death and birth\n",
    "plt.hist(DS*df_interactions.rT.values,bins=10,label='range at death',alpha=0.7,color='red',density=True)\n",
    "plt.hist(DS*df_interactions.r0.values,bins=20,label='range at birth',alpha=0.3,color='green',density=True)\n",
    "plt.ylabel('probability density',fontsize=fontsize)\n",
    "plt.xlabel('reaction range (cm)',fontsize=fontsize)\n",
    "plt.legend(fontsize=fontsize)\n",
    "plt.tick_params(axis='both', which='major', labelsize=fontsize)\n",
    "plt.tick_params(axis='both', which='minor', labelsize=0)\n",
    "plt.show()"
   ]
  },
  {
   "cell_type": "code",
   "execution_count": null,
   "metadata": {
    "ExecuteTime": {
     "end_time": "2021-08-09T05:48:02.990213Z",
     "start_time": "2021-08-09T05:46:23.138Z"
    },
    "hidden": true
   },
   "outputs": [],
   "source": [
    "print(f\"for this trial,\")\n",
    "print(f\"\\tdeath range was {np.mean(death_ranges):.3f} +- {np.std(death_ranges):.3f} cm\")\n",
    "print(f\"\\tbirth range was {np.mean(birth_ranges):.3f} +- {np.std(birth_ranges):.3f} cm\")\n",
    "print(f\"\\ttime between two frames was {DT} ms\")"
   ]
  },
  {
   "cell_type": "markdown",
   "metadata": {
    "ExecuteTime": {
     "end_time": "2021-05-03T17:59:26.065430Z",
     "start_time": "2021-05-03T17:59:26.012339Z"
    },
    "hidden": true
   },
   "source": [
    "^this is for the LR model"
   ]
  },
  {
   "cell_type": "markdown",
   "metadata": {
    "heading_collapsed": true
   },
   "source": [
    "## show birth/death range for LR model with dt=?? ms"
   ]
  },
  {
   "cell_type": "code",
   "execution_count": null,
   "metadata": {
    "ExecuteTime": {
     "end_time": "2021-08-09T05:48:02.990834Z",
     "start_time": "2021-08-09T05:46:23.150Z"
    },
    "hidden": true,
    "run_control": {
     "marked": false
    }
   },
   "outputs": [],
   "source": [
    "# file=f\"{nb_dir}/Data/initial-conditions-suite-2/ds_5_param_set_8_V_0.5_fastkernel/ic_200x200.001.13_traj_sr_400_mem_0.csv\"\n",
    "# file=f\"{nb_dir}/Data/initial-conditions-suite-1/ds_5_param_set_8/trajectories/ic_200x200.104.32_ds_5_sigma_1.5_threshold_0.6_sr_50_mem_2_traj.csv\"\n",
    "\n",
    "#load poster child csv\n",
    "# file='/home/timothytyree/Documents/GitHub/care/notebooks/Data/initial-conditions-suite-3-LR/param_qu_tmax_30_Ko_3.8_diffCoef_0.001/trajectories/ic018.21_traj_sr_600_mem_0.csv'\n",
    "# ic_fn='/home/timothytyree/Documents/GitHub/care/notebooks/Data/initial-conditions-suite-3-LR/ic-out/ic018.21.npz'\n",
    "df=pd.read_csv(file)\n",
    "df.head()"
   ]
  },
  {
   "cell_type": "code",
   "execution_count": null,
   "metadata": {
    "ExecuteTime": {
     "end_time": "2021-08-09T05:48:02.991782Z",
     "start_time": "2021-08-09T05:46:23.166Z"
    },
    "hidden": true,
    "run_control": {
     "marked": false
    }
   },
   "outputs": [],
   "source": [
    "def compute_DT(df,round_t_to_n_digits=3):\n",
    "    '''DT is the time between two observations'''\n",
    "    DT=np.around(df[(df.frame==1)].t.values[0]-df[(df.frame==0)].t.values[0],round_t_to_n_digits)\n",
    "    return DT"
   ]
  },
  {
   "cell_type": "code",
   "execution_count": null,
   "metadata": {
    "ExecuteTime": {
     "end_time": "2021-08-09T05:48:02.992467Z",
     "start_time": "2021-08-09T05:46:23.182Z"
    },
    "hidden": true,
    "run_control": {
     "marked": false
    }
   },
   "outputs": [],
   "source": [
    "DS=5./200.\n",
    "DT=compute_DT(df,round_t_to_n_digits=3);print(DT)\n",
    "#compute interactions\n",
    "df_interactions=compute_df_interactions(file,DS=DS)\n",
    "# df_interactions.dropna(inplace=True)\n",
    "death_ranges=DS*df_interactions.rT.values\n",
    "birth_ranges=DS*df_interactions.r0.values"
   ]
  },
  {
   "cell_type": "code",
   "execution_count": null,
   "metadata": {
    "ExecuteTime": {
     "end_time": "2021-08-09T05:48:02.993080Z",
     "start_time": "2021-08-09T05:46:23.199Z"
    },
    "hidden": true
   },
   "outputs": [],
   "source": [
    "death_ranges.shape\n"
   ]
  },
  {
   "cell_type": "code",
   "execution_count": null,
   "metadata": {
    "ExecuteTime": {
     "end_time": "2021-08-09T05:48:02.993671Z",
     "start_time": "2021-08-09T05:46:23.219Z"
    },
    "hidden": true,
    "run_control": {
     "marked": false
    }
   },
   "outputs": [],
   "source": [
    "fontsize=16\n",
    "#plot naive range at death and birth\n",
    "plt.hist(DS*df_interactions.rT.values,bins=10,label='range at death',alpha=0.7,color='red',density=True)\n",
    "plt.hist(DS*df_interactions.r0.values,bins=20,label='range at birth',alpha=0.3,color='green',density=True)\n",
    "plt.ylabel('probability density',fontsize=fontsize)\n",
    "plt.xlabel('reaction range (cm)',fontsize=fontsize)\n",
    "plt.legend(fontsize=fontsize)\n",
    "plt.tick_params(axis='both', which='major', labelsize=fontsize)\n",
    "plt.tick_params(axis='both', which='minor', labelsize=0)\n",
    "plt.show()\n",
    "\n",
    "print(f\"for this trial,\")\n",
    "print(f\"\\tdeath range was {np.mean(death_ranges):.3f} +- {np.std(death_ranges):.3f} cm\")\n",
    "print(f\"\\tbirth range was {np.mean(birth_ranges):.3f} +- {np.std(birth_ranges):.3f} cm\")\n",
    "print(f\"\\ttime between two frames was {DT} ms\")\n",
    "\n"
   ]
  },
  {
   "cell_type": "code",
   "execution_count": null,
   "metadata": {
    "ExecuteTime": {
     "end_time": "2021-05-03T17:58:35.999436Z",
     "start_time": "2021-05-03T17:58:35.948760Z"
    },
    "hidden": true
   },
   "outputs": [],
   "source": []
  },
  {
   "cell_type": "code",
   "execution_count": null,
   "metadata": {
    "hidden": true
   },
   "outputs": [],
   "source": []
  },
  {
   "cell_type": "code",
   "execution_count": null,
   "metadata": {
    "hidden": true
   },
   "outputs": [],
   "source": []
  },
  {
   "cell_type": "code",
   "execution_count": null,
   "metadata": {
    "hidden": true
   },
   "outputs": [],
   "source": []
  },
  {
   "cell_type": "markdown",
   "metadata": {
    "heading_collapsed": true
   },
   "source": [
    "## show birth/death range for FK model with dt=1.0 ms"
   ]
  },
  {
   "cell_type": "code",
   "execution_count": null,
   "metadata": {
    "ExecuteTime": {
     "end_time": "2021-08-09T05:48:02.994204Z",
     "start_time": "2021-08-09T05:46:23.273Z"
    },
    "hidden": true
   },
   "outputs": [],
   "source": [
    "from lib.routines.return_reaction_ranges_from_folder import *"
   ]
  },
  {
   "cell_type": "code",
   "execution_count": null,
   "metadata": {
    "ExecuteTime": {
     "end_time": "2021-08-09T05:48:02.994805Z",
     "start_time": "2021-08-09T05:46:23.283Z"
    },
    "hidden": true
   },
   "outputs": [],
   "source": [
    "input_fn=search_for_file()\n"
   ]
  },
  {
   "cell_type": "code",
   "execution_count": null,
   "metadata": {
    "ExecuteTime": {
     "end_time": "2021-08-09T05:48:02.995459Z",
     "start_time": "2021-08-09T05:46:23.296Z"
    },
    "hidden": true
   },
   "outputs": [],
   "source": [
    "# input_fn=f\"/home/timothytyree/Documents/GitHub/care/notebooks/Data/initial-conditions-suite-3-LR/ds_5_param_qu_tmax_10_Ko_7/trajectories/ic001.21_traj_sr_400_mem_0.csv\"\n",
    "# input_fn=f\"/home/timothytyree/Documents/GitHub/care/notebooks/Data/initial-conditions-suite-3-LR/ds_5_param_qu_tmax_10_Ko_7/trajectories/ic010.12_traj_sr_400_mem_0.csv\"\n",
    "# input_fn=\"/home/timothytyree/Documents/GitHub/care/notebooks/Data/initial-conditions-suite-3-LR/param_qu_tmax_30_Ko_3.8_diffCoef_0.0005/trajectories/ic004.33_traj_sr_600_mem_0.csv\"\n",
    "# input_fn=f\"{nb_dir}/Data/initial-conditions-suite-2/ds_5_param_set_8_V_0.5_fastkernel/ic_200x200.001.13_traj_sr_400_mem_0.csv\"\n",
    "\n",
    "\n",
    "# input_fn=f\"/home/timothytyree/Documents/GitHub/care/notebooks/Data/initial-conditions-fk-300x300/ds_7.5_param_set_8/Log/ic300x300.0.6_traj_sr_600_mem_0.csv\"\n",
    "# input_fn=f\"/home/timothytyree/Documents/GitHub/care/notebooks/Data/initial-conditions-lr-300x300/param_qu_tmax_30/trajectories/ic300x300.3.3_traj_sr_600_mem_0.csv\"\n",
    "input_fn=f\"/home/timothytyree/Documents/GitHub/care/notebooks/Data/initial-conditions-lr-600x600/param_qu_tmax_30/Log/ic600x600.0.1_traj_sr_1200_mem_0.csv\"\n",
    "df=pd.read_csv(input_fn)\n",
    "DT=compute_DT(df,round_t_to_n_digits=3);print(DT)\n",
    "\n",
    "width=200.\n",
    "# df=pd.read_csv(input_fn)\n",
    "# DT=compute_DT(df,round_t_to_n_digits=3);print(DT)\n",
    "bin_edges=get_bin_edges(input_fn,ds=5.,width=width,nbins=100)\n",
    "\n",
    "#TODO: use dask.bag on UB\n",
    "input_fn_lst=[input_fn]\n",
    "for input_fn in input_fn_lst:\n",
    "    bin_count_death, bin_count_birth,DT=comp_bdrange_bincounts(input_fn,bin_edges,ds=5.,width=200.)\n",
    "\n",
    "#TODO: reduce using dask.bag\n",
    "# bin_count_death=sum_bin_count(bin_count_death1,bin_count_death2)\n",
    "# bin_count_birth=sum_bin_count(bin_count_birth1,bin_count_birth2)\n",
    "\n",
    "range_values,brate_values,drate_values=comp_bdrates_by_bin(bin_count_birth,bin_count_death,bin_edges,DT)\n",
    "# TODO: put ^this in a routine that asks for a trajectory folder as input\n",
    "# print(f\"for this trial,\")\n",
    "# print(f\"\\tdeath range was {np.mean(death_ranges):.3f} +- {np.std(death_ranges):.3f} cm\")\n",
    "# print(f\"\\tbirth range was {np.mean(birth_ranges):.3f} +- {np.std(birth_ranges):.3f} cm\")\n",
    "# print(f\"\\ttime between two frames was {DT} ms\")"
   ]
  },
  {
   "cell_type": "code",
   "execution_count": null,
   "metadata": {
    "ExecuteTime": {
     "end_time": "2021-08-09T05:48:02.996026Z",
     "start_time": "2021-08-09T05:46:23.306Z"
    },
    "hidden": true
   },
   "outputs": [],
   "source": [
    "file_out=f\"{nb_dir}/Data/initial-conditions-lr-600x600/param_qu_tmax_30/ic0.1_traj_sr_1200_mem_0_rate_histogram.csv\"\n",
    "df_out=pd.DataFrame({\n",
    "    'r':range_values,\n",
    "    'brate':brate_values,\n",
    "    'drate':drate_values\n",
    "})\n",
    "df_out.to_csv(file_out,index=False)\n",
    "print(file_out)"
   ]
  },
  {
   "cell_type": "code",
   "execution_count": null,
   "metadata": {
    "ExecuteTime": {
     "end_time": "2021-08-09T05:48:02.996581Z",
     "start_time": "2021-08-09T05:46:23.317Z"
    },
    "hidden": true
   },
   "outputs": [],
   "source": [
    "beep(4)"
   ]
  },
  {
   "cell_type": "code",
   "execution_count": null,
   "metadata": {
    "ExecuteTime": {
     "end_time": "2021-08-09T05:48:02.997127Z",
     "start_time": "2021-08-09T05:46:23.327Z"
    },
    "hidden": true
   },
   "outputs": [],
   "source": [
    "# death_ranges,birth_ranges,DT=return_bd_ranges(input_fn,DS,round_t_to_n_digits=3)\n",
    "DT=compute_DT(df,round_t_to_n_digits=3)\n",
    "#compute interactions\n",
    "df_interactions=compute_df_interactions(input_fn,DS=DS)\n",
    "df_interactions.dropna(inplace=True)\n",
    "death_ranges=DS*df_interactions.rT.values\n",
    "birth_ranges=DS*df_interactions.r0.values"
   ]
  },
  {
   "cell_type": "code",
   "execution_count": null,
   "metadata": {
    "ExecuteTime": {
     "end_time": "2021-08-09T05:48:02.997716Z",
     "start_time": "2021-08-09T05:46:23.338Z"
    },
    "hidden": true,
    "run_control": {
     "marked": true
    }
   },
   "outputs": [],
   "source": [
    "print(input_fn)\n",
    "fig,ax=PlotRangesBD(range_values,brate_values,drate_values,DT,fontsize=16,figsize=(7,5))\n",
    "\n",
    "#for deaths\n",
    "c,death_location,death_scale=genextreme.fit(death_ranges)\n",
    "x=range_values\n",
    "ax.plot(x, genextreme.pdf(x, c,loc=death_location,scale=death_scale)*500,\n",
    "       'r-', lw=5, alpha=0.6, label='genextreme pdf')\n",
    "ax.set_xlim([0,1])\n",
    "print(f\"death fit: {c,death_location,death_scale}\")\n",
    "#for births\n",
    "cbirth,birth_location,birth_scale=genextreme.fit(birth_ranges)\n",
    "ax.plot(x, genextreme.pdf(x, cbirth,loc=birth_location,scale=birth_scale)*500,\n",
    "       'g-', lw=5, alpha=0.6, label='genextreme pdf')\n",
    "\n",
    "print(f\"birth fit: {cbirth,birth_location,birth_scale}\")\n",
    "plt.show()\n"
   ]
  },
  {
   "cell_type": "code",
   "execution_count": null,
   "metadata": {
    "ExecuteTime": {
     "end_time": "2021-08-09T05:48:02.998293Z",
     "start_time": "2021-08-09T05:46:23.347Z"
    },
    "hidden": true
   },
   "outputs": [],
   "source": [
    "# def PlotRangesBD(bin_ranges,brate_values,drate_values,fontsize=16,figsize=(7,5)):\n",
    "#     '''plots results of what was aggregated from a large number of tips'''\n",
    "#     fig,ax=plt.subplots(figsize=figsize)\n",
    "#     ax.bar(x=bin_ranges,height=drate_values,align='center',width=bin_width,alpha=0.7,color='red',label='pair annihilation rate')\n",
    "#     ax.bar(x=bin_ranges,height=brate_values,align='center',width=bin_width,alpha=0.7,color='green',label='pair creation rate')\n",
    "#     ax.set_xlabel('apparent range (cm)',fontsize=fontsize)\n",
    "#     ax.set_ylabel('reaction rate (Hz)',fontsize=fontsize)\n",
    "#     ax.legend(fontsize=fontsize)\n",
    "#     ax.tick_params(axis='both', which='major', labelsize=fontsize)\n",
    "#     ax.tick_params(axis='both', which='minor', labelsize=0)\n",
    "#     ax.set_title(f\"{DT_sec:.4f} seconds between two frames\",fontsize=fontsize)\n",
    "#     return fig,ax"
   ]
  },
  {
   "cell_type": "code",
   "execution_count": null,
   "metadata": {
    "ExecuteTime": {
     "end_time": "2021-08-09T05:48:02.999148Z",
     "start_time": "2021-08-09T05:46:23.358Z"
    },
    "hidden": true,
    "run_control": {
     "marked": false
    }
   },
   "outputs": [],
   "source": [
    "fontsize=16\n",
    "#plot naive range at death and birth\n",
    "plt.hist(death_ranges,bins=10,label='range at death',alpha=0.7,color='red',density=True)\n",
    "plt.hist(birth_ranges,bins=20,label='range at birth',alpha=0.3,color='green',density=True)\n",
    "plt.ylabel('probability density',fontsize=fontsize)\n",
    "plt.xlabel('reaction range (cm)',fontsize=fontsize)\n",
    "plt.legend(fontsize=fontsize)\n",
    "plt.tick_params(axis='both', which='major', labelsize=fontsize)\n",
    "plt.tick_params(axis='both', which='minor', labelsize=0)\n",
    "plt.show()\n",
    "print(f\"for this trial,\")\n",
    "print(f\"\\tdeath range was {np.mean(death_ranges):.3f} +- {np.std(death_ranges):.3f} cm\")\n",
    "print(f\"\\tbirth range was {np.mean(birth_ranges):.3f} +- {np.std(birth_ranges):.3f} cm\")\n",
    "print(f\"\\ttime between two frames was {DT} ms\")"
   ]
  },
  {
   "cell_type": "code",
   "execution_count": null,
   "metadata": {
    "ExecuteTime": {
     "end_time": "2021-08-09T05:48:02.999847Z",
     "start_time": "2021-08-09T05:46:23.369Z"
    },
    "hidden": true
   },
   "outputs": [],
   "source": [
    "print(f\"for this trial,\")\n",
    "print(f\"\\tdeath range was {np.mean(death_ranges):.3f} +- {np.std(death_ranges):.3f} cm\")\n",
    "print(f\"\\tbirth range was {np.mean(birth_ranges):.3f} +- {np.std(birth_ranges):.3f} cm\")\n",
    "print(f\"\\ttime between two frames was {DT} ms\")\n"
   ]
  },
  {
   "cell_type": "markdown",
   "metadata": {
    "hidden": true
   },
   "source": [
    "^this is for the FK model"
   ]
  },
  {
   "cell_type": "markdown",
   "metadata": {
    "heading_collapsed": true
   },
   "source": [
    "# visualize the COM frame/trajectory versus time just before death\n",
    "- TODO: compute annihilation speed near death in the COM frame\n",
    "- TODO: plot ^that.  does an apparent range of acceleration/certain annihilation emerge?\n",
    "- TODO: how often do spiral tips come closer than distance X and not promptly annihilate\n",
    "- TODO: scatter plot of mean (stdev) interaction range, \n",
    "     - where each dot is 1 trial.  \n",
    "     - xcoord = mean interaction range\n",
    "     - ycoord = stdev interaction range\n",
    "     - marker shape = type of trial"
   ]
  },
  {
   "cell_type": "code",
   "execution_count": null,
   "metadata": {
    "ExecuteTime": {
     "end_time": "2021-08-09T05:48:03.000571Z",
     "start_time": "2021-08-09T05:46:23.383Z"
    },
    "hidden": true,
    "run_control": {
     "marked": false
    }
   },
   "outputs": [],
   "source": [
    "#select from the longest lived particles\n",
    "index_longest=3\n",
    "DT=compute_DT(df)\n",
    "trajectory_lifetimes=DT*df.groupby('particle').count().sort_values(by='x',ascending=False).x\n",
    "pid=int(trajectory_lifetimes.head(index_longest).index.values[-1])\n",
    "pid"
   ]
  },
  {
   "cell_type": "code",
   "execution_count": null,
   "metadata": {
    "ExecuteTime": {
     "end_time": "2021-08-09T05:48:03.001336Z",
     "start_time": "2021-08-09T05:46:23.394Z"
    },
    "hidden": true,
    "run_control": {
     "marked": false
    }
   },
   "outputs": [],
   "source": [
    "#identify the death partner of that particle\n",
    "df_interactions[df_interactions.pid==pid]"
   ]
  },
  {
   "cell_type": "code",
   "execution_count": null,
   "metadata": {
    "ExecuteTime": {
     "end_time": "2021-08-09T05:48:03.002031Z",
     "start_time": "2021-08-09T05:46:23.405Z"
    },
    "hidden": true,
    "run_control": {
     "marked": false
    }
   },
   "outputs": [],
   "source": [
    "#compile distance metric\n",
    "width=200;height=200;DS=0.025\n",
    "distance_L2_pbc = get_distance_L2_pbc(width=width,height=height)"
   ]
  },
  {
   "cell_type": "code",
   "execution_count": null,
   "metadata": {
    "ExecuteTime": {
     "end_time": "2021-08-09T05:48:03.002733Z",
     "start_time": "2021-08-09T05:46:23.416Z"
    },
    "hidden": true,
    "run_control": {
     "marked": false
    }
   },
   "outputs": [],
   "source": [
    "n_frames=700#30\n",
    "\n",
    "#compute the COM and the range between two spiral tips just before they annihilate\n",
    "pid_other=df_interactions[df_interactions.pid==pid].pid_deathmate.values[-1]\n",
    "d1=df[df.particle==pid].tail(n_frames).copy()\n",
    "d1u=unwrap_traj_and_center(d1, width, height, DS)\n",
    "d2=df[df.particle==pid_other].tail(n_frames).copy()\n",
    "d2u=unwrap_traj_and_center(d2, width, height, DS)"
   ]
  },
  {
   "cell_type": "code",
   "execution_count": null,
   "metadata": {
    "ExecuteTime": {
     "end_time": "2021-08-09T05:48:03.003432Z",
     "start_time": "2021-08-09T05:46:23.427Z"
    },
    "hidden": true
   },
   "outputs": [],
   "source": [
    "#compute the shift between these two tips in their unwrapped coordinates\n",
    "disp_1=(d1.head(1)-d1u.head(1))[['x','y']].values.flatten()\n",
    "disp_2=(d2.head(1)-d2u.head(1))[['x','y']].values.flatten()"
   ]
  },
  {
   "cell_type": "code",
   "execution_count": null,
   "metadata": {
    "ExecuteTime": {
     "end_time": "2021-08-09T05:48:03.004163Z",
     "start_time": "2021-08-09T05:46:23.437Z"
    },
    "hidden": true
   },
   "outputs": [],
   "source": [
    "#compute individual particle speeds and truncate at final jump\n",
    "x_values=d1u.x.values;y_values=d1u.y.values;t_values=d1u.t.values;\n",
    "jump_lst,speed_lst=find_jumps_non_pbc(x_values,y_values,\n",
    "    width,height,DS,DT,distance_L2_pbc=distance_L2_pbc,jump_thresh=30)\n",
    "if len(list(jump_lst))>0:\n",
    "    s1_values=np.array(speed_lst[jump_lst[-1]+1:])#*10**3 #cm per second\n",
    "    t1_values=np.array(t_values[jump_lst[-1]+2:])-DT/2 #ms time before death\n",
    "else:\n",
    "    s1_values=np.array(speed_lst)#*10**3 #cm per second\n",
    "    t1_values=np.array(t_values[1:]) #ms time before death\n",
    "print(jump_lst)\n",
    "#slice dataframe to include only those observations after any jumps\n",
    "d1u=d1u[d1u.t>=t1_values[0]].copy()\n",
    "d1=d1[d1.t>=t1_values[0]].copy()\n",
    "\n",
    "#compute individual particle speeds and truncate at final jump\n",
    "x_values=d2u.x.values;y_values=d2u.y.values;t_values=d2u.t.values;\n",
    "jump_lst,speed_lst=find_jumps_non_pbc(x_values,y_values,\n",
    "    width,height,DS,DT,distance_L2_pbc=distance_L2_pbc,jump_thresh=30)\n",
    "if len(list(jump_lst))>0:\n",
    "    s2_values=np.array(speed_lst[jump_lst[-1]+1:])#*10**3 #cm per second\n",
    "    t2_values=np.array(t_values[jump_lst[-1]+2:]) #ms time before death\n",
    "else:\n",
    "    s2_values=np.array(speed_lst)#*10**3 #cm per second\n",
    "    t2_values=np.array(t_values[1:])-DT/2 #ms time before death\n",
    "print(jump_lst)\n",
    "\n",
    "#slice dataframe to include only those observations after any jumps\n",
    "d2u=d2u[d2u.t>=t2_values[0]].copy()\n",
    "d2=d2[d2.t>=t2_values[0]].copy()"
   ]
  },
  {
   "cell_type": "code",
   "execution_count": null,
   "metadata": {
    "ExecuteTime": {
     "end_time": "2021-08-09T05:48:03.004900Z",
     "start_time": "2021-08-09T05:46:23.448Z"
    },
    "hidden": true,
    "run_control": {
     "marked": false
    }
   },
   "outputs": [],
   "source": [
    "#compute the COM and the range between two spiral tips just before they annihilate\n",
    "xy_final_com=(d1.tail(1).values+d2.tail(1).values).flatten()[2:4]/2\n",
    "xy_final_range=(d1.tail(1).values-d2.tail(1).values).flatten()[2:4]\n",
    "final_range=np.linalg.norm(xy_final_range)*DS"
   ]
  },
  {
   "cell_type": "code",
   "execution_count": null,
   "metadata": {
    "ExecuteTime": {
     "end_time": "2021-08-09T05:48:03.005760Z",
     "start_time": "2021-08-09T05:46:23.458Z"
    },
    "hidden": true,
    "scrolled": true
   },
   "outputs": [],
   "source": [
    "#plot that annihilation event in the transformed coordinates\n",
    "x1_values=d1u.x.values-d1u.x.values[-1]+xy_final_range[0]/2\n",
    "y1_values=d1u.y.values-d1u.y.values[-1]+xy_final_range[1]/2\n",
    "c1_values=d1u.t.values\n",
    "x2_values=d2u.x.values-d2u.x.values[-1]-xy_final_range[0]/2\n",
    "y2_values=d2u.y.values-d2u.y.values[-1]-xy_final_range[1]/2\n",
    "c2_values=d2u.t.values\n",
    "\n",
    "#plot that annihilation event in the transformed death coordinates\n",
    "fig, ax = plt.subplots(figsize=(5,5))\n",
    "ax.scatter(x1_values*DS,y1_values*DS,c=c1_values,cmap='Greens')\n",
    "ax.scatter(x2_values*DS,y2_values*DS,c=c2_values,cmap='Blues')\n",
    "ax.scatter([0],[0],c='red',marker='*',s=500)\n",
    "# ax.scatter([xy_final_com[0]],[xy_final_com[1]],c='red',marker='*',s=500)\n",
    "ax.set_ylabel('y (cm)',fontsize=fontsize)\n",
    "ax.set_xlabel('x (cm)',fontsize=fontsize)\n",
    "ax.tick_params(axis='both', which='major', labelsize=fontsize)\n",
    "ax.tick_params(axis='both', which='minor', labelsize=0)\n",
    "ax.grid('on')\n",
    "ax.set_aspect('equal')\n",
    "plt.show()"
   ]
  },
  {
   "cell_type": "code",
   "execution_count": null,
   "metadata": {
    "ExecuteTime": {
     "end_time": "2021-08-09T05:48:03.006336Z",
     "start_time": "2021-08-09T05:46:23.468Z"
    },
    "hidden": true
   },
   "outputs": [],
   "source": [
    "lifetime_considered_1=x1_values.shape[0]*DT\n",
    "lifetime_considered_2=x2_values.shape[0]*DT\n",
    "print(f\"lifetime considered for green was {lifetime_considered_1} ms.\")\n",
    "print(f\"lifetime considered for blue was {lifetime_considered_2} ms.\")"
   ]
  },
  {
   "cell_type": "code",
   "execution_count": null,
   "metadata": {
    "ExecuteTime": {
     "end_time": "2021-08-09T05:48:03.006871Z",
     "start_time": "2021-08-09T05:46:23.478Z"
    },
    "hidden": true
   },
   "outputs": [],
   "source": [
    "#truncate both trajectories to briefest of the two\n",
    "# tmin=np.min(np.hstack([t1_values,t2_values]))\n",
    "tmin=np.max([np.min(t1_values),np.min(t2_values)])\n",
    "boo1=tmin<=t1_values\n",
    "boo2=tmin<=t2_values\n",
    "x1_values=x1_values[boo1]\n",
    "y1_values=y1_values[boo1]\n",
    "c1_values=c1_values[boo1]\n",
    "x2_values=x2_values[boo2]\n",
    "y2_values=y2_values[boo2]\n",
    "c2_values=c2_values[boo2]"
   ]
  },
  {
   "cell_type": "code",
   "execution_count": null,
   "metadata": {
    "ExecuteTime": {
     "end_time": "2021-03-19T23:29:20.620980Z",
     "start_time": "2021-03-19T23:29:20.591662Z"
    },
    "hidden": true
   },
   "outputs": [],
   "source": []
  },
  {
   "cell_type": "code",
   "execution_count": null,
   "metadata": {
    "ExecuteTime": {
     "end_time": "2021-08-09T05:48:03.007626Z",
     "start_time": "2021-08-09T05:46:23.494Z"
    },
    "hidden": true
   },
   "outputs": [],
   "source": [
    "#compute the range/displacement between the two spiral tips at each time point just before death\n",
    "x=(x1_values+x2_values)/2\n",
    "y=(y1_values+y2_values)/2\n",
    "t_values=c1_values\n",
    "#model ^that displacement time series using a Bezier curve\n",
    "tck, u = splprep([x, y],u=t_values, s=0)\n",
    "new_points = splev(u, tck,0)\n",
    "#notice that (i) we force interpolation by using s=0, (ii) the parameterization, u, is generated automatically. Now plot the result:"
   ]
  },
  {
   "cell_type": "code",
   "execution_count": null,
   "metadata": {
    "ExecuteTime": {
     "end_time": "2021-08-09T05:48:03.008376Z",
     "start_time": "2021-08-09T05:46:23.505Z"
    },
    "hidden": true
   },
   "outputs": [],
   "source": [
    "#plot COM just before death\n",
    "fig, ax = plt.subplots()\n",
    "ax.scatter(x, y,s=10,c='r')\n",
    "ax.plot(new_points[0], new_points[1], 'r-')\n",
    "ax.set_ylabel('y (pixels)',fontsize=fontsize)\n",
    "ax.set_xlabel('x (pixels)',fontsize=fontsize)\n",
    "ax.tick_params(axis='both', which='major', labelsize=fontsize)\n",
    "ax.tick_params(axis='both', which='minor', labelsize=0)\n",
    "ax.grid('on')\n",
    "ax.set_aspect('equal')\n",
    "ax.set_title('COM vector\\njust before death',fontsize=fontsize)\n",
    "plt.show()"
   ]
  },
  {
   "cell_type": "code",
   "execution_count": null,
   "metadata": {
    "ExecuteTime": {
     "end_time": "2021-08-09T05:48:03.009134Z",
     "start_time": "2021-08-09T05:46:23.516Z"
    },
    "hidden": true
   },
   "outputs": [],
   "source": [
    "#compute the range/displacement between the two spiral tips at each time point just before death\n",
    "delta_x_values=x1_values-x2_values\n",
    "delta_y_values=y1_values-y2_values\n",
    "x=delta_x_values\n",
    "y=delta_y_values\n",
    "t_values=c1_values\n",
    "#model ^that displacement time series using a Bezier curve\n",
    "tck, u = splprep([x, y],u=t_values, s=0)\n",
    "new_points = splev(u, tck,0)#\n",
    "#noice that (i) we force interpolation by using s=0, (ii) the parameterization, u, is generated automatically. Now plot the result:"
   ]
  },
  {
   "cell_type": "code",
   "execution_count": null,
   "metadata": {
    "ExecuteTime": {
     "end_time": "2021-08-09T05:48:03.009860Z",
     "start_time": "2021-08-09T05:46:23.525Z"
    },
    "hidden": true
   },
   "outputs": [],
   "source": [
    "fig, ax = plt.subplots()\n",
    "ax.scatter(x,y,c=c1_values,cmap='Blues')\n",
    "ax.plot(new_points[0], new_points[1], 'r-')\n",
    "ax.set_ylabel('y (pixels)',fontsize=fontsize)\n",
    "ax.set_xlabel('x (pixels)',fontsize=fontsize)\n",
    "ax.tick_params(axis='both', which='major', labelsize=fontsize)\n",
    "ax.tick_params(axis='both', which='minor', labelsize=0)\n",
    "ax.grid('on')\n",
    "ax.set_aspect('equal')\n",
    "ax.set_title('displacement vector\\njust before death',fontsize=fontsize)\n",
    "plt.show()"
   ]
  },
  {
   "cell_type": "code",
   "execution_count": null,
   "metadata": {
    "ExecuteTime": {
     "end_time": "2021-08-09T05:48:03.010599Z",
     "start_time": "2021-08-09T05:46:23.534Z"
    },
    "hidden": true
   },
   "outputs": [],
   "source": [
    "#compute speed as the magnitude of the first derivative of ^that Bezier curve versus time\n",
    "d_new_points_dt = splev(u, tck,1)\n",
    "speed_values=np.linalg.norm(np.stack(d_new_points_dt),axis=0)*DS"
   ]
  },
  {
   "cell_type": "code",
   "execution_count": null,
   "metadata": {
    "ExecuteTime": {
     "end_time": "2021-08-09T05:48:03.011490Z",
     "start_time": "2021-08-09T05:46:23.544Z"
    },
    "hidden": true
   },
   "outputs": [],
   "source": [
    "# #checked that the first speed listed agrees the first speed resulting from the above\n",
    "# dxdt_init=d_new_points_dt[0][0]\n",
    "# dydt_init=d_new_points_dt[1][0]\n",
    "# np.linalg.norm([dxdt_init,dydt_init])*DS"
   ]
  },
  {
   "cell_type": "code",
   "execution_count": null,
   "metadata": {
    "ExecuteTime": {
     "end_time": "2021-08-09T05:48:03.012291Z",
     "start_time": "2021-08-09T05:46:23.553Z"
    },
    "hidden": true
   },
   "outputs": [],
   "source": [
    "u_values=np.arange(np.min(u),np.max(u),.1)\n",
    "d_new_points_dt = splev(u_values, tck,1)\n",
    "speed_values=np.linalg.norm(np.stack(d_new_points_dt),axis=0)*DS*10**3"
   ]
  },
  {
   "cell_type": "code",
   "execution_count": null,
   "metadata": {
    "ExecuteTime": {
     "end_time": "2021-08-09T05:48:03.013139Z",
     "start_time": "2021-08-09T05:46:23.563Z"
    },
    "hidden": true
   },
   "outputs": [],
   "source": [
    "speed_values_naive=np.linalg.norm(np.diff(np.stack([delta_x_values,delta_y_values])),axis=0)*DS/DT*10**3"
   ]
  },
  {
   "cell_type": "code",
   "execution_count": null,
   "metadata": {
    "ExecuteTime": {
     "end_time": "2021-08-09T05:48:03.013847Z",
     "start_time": "2021-08-09T05:46:23.572Z"
    },
    "hidden": true
   },
   "outputs": [],
   "source": [
    "# #compute speed of each particle just before death\n",
    "# dd1=d1u.diff()\n",
    "# d1['speed']=(dd1.x**2+dd1.y**2)*DS/DT*10**3\n",
    "# dd2=d2u.diff()\n",
    "# d2['speed']=(dd2.x**2+dd2.y**2)*DS/DT*10**3\n",
    "\n",
    "# s1_values=d1.dropna().speed.values\n",
    "# s2_values=d2.dropna().speed.values\n",
    "# t1_values=d1.dropna().t.values\n",
    "# t2_values=d2.dropna().t.values"
   ]
  },
  {
   "cell_type": "code",
   "execution_count": null,
   "metadata": {
    "ExecuteTime": {
     "end_time": "2021-08-09T05:48:03.014764Z",
     "start_time": "2021-08-09T05:46:23.581Z"
    },
    "hidden": true
   },
   "outputs": [],
   "source": [
    "#plot relative speed just before death\n",
    "tf=u_values[-1]\n",
    "fig, ax = plt.subplots()\n",
    "ax.plot(u_values-tf, speed_values,label='from spline fit')\n",
    "ax.plot(c1_values[1:]-tf-DT/2, speed_values_naive,label='naive')\n",
    "# #plot absolute speeds just before death\n",
    "# plt.plot(t1_values-tf,s1_values,label='particle A')\n",
    "# plt.plot(t2_values-tf,s2_values,label='particle B')\n",
    "\n",
    "ax.set_xlabel('time (s)',fontsize=fontsize)\n",
    "ax.set_ylabel('relative speed (cm/s)',fontsize=fontsize)\n",
    "ax.tick_params(axis='both', which='major', labelsize=fontsize)\n",
    "ax.tick_params(axis='both', which='minor', labelsize=0)\n",
    "ax.legend(fontsize=fontsize)\n",
    "# ax.set_title('COM vector\\njust before death',fontsize=fontsize)\n",
    "plt.show()"
   ]
  },
  {
   "cell_type": "code",
   "execution_count": null,
   "metadata": {
    "ExecuteTime": {
     "end_time": "2021-08-09T05:48:03.015658Z",
     "start_time": "2021-08-09T05:46:23.591Z"
    },
    "hidden": true
   },
   "outputs": [],
   "source": [
    "#plot relative speed just before death\n",
    "#plot speeds for long time scales, and show whether they only react whenever speed crosses a thershold\n",
    "tf=u_values[-1]\n",
    "fig, ax = plt.subplots()\n",
    "# ax.plot(u_values-tf, speed_values,label='from spline fit')\n",
    "# ax.plot(c1_values[1:]-tf-DT/2, speed_values_naive,label='naive')\n",
    "#plot absolute speeds just before death\n",
    "plt.plot(t1_values-tf,s1_values,label='particle A')\n",
    "plt.plot(t2_values-tf,s2_values,label='particle B')\n",
    "\n",
    "ax.set_xlabel('time (s)',fontsize=fontsize)\n",
    "ax.set_ylabel('lab frame speed (cm/s)',fontsize=fontsize)\n",
    "ax.tick_params(axis='both', which='major', labelsize=fontsize)\n",
    "ax.tick_params(axis='both', which='minor', labelsize=0)\n",
    "ax.legend(fontsize=fontsize)\n",
    "# ax.set_title('COM vector\\njust before death',fontsize=fontsize)\n",
    "plt.show()"
   ]
  },
  {
   "cell_type": "code",
   "execution_count": null,
   "metadata": {
    "ExecuteTime": {
     "end_time": "2021-08-09T05:48:03.016527Z",
     "start_time": "2021-08-09T05:46:23.603Z"
    },
    "hidden": true
   },
   "outputs": [],
   "source": [
    "#compute range versus time leading up to death\n",
    "range_values=np.sqrt(delta_x_values**2+delta_y_values**2)*DS"
   ]
  },
  {
   "cell_type": "code",
   "execution_count": null,
   "metadata": {
    "ExecuteTime": {
     "end_time": "2021-08-09T05:48:03.017274Z",
     "start_time": "2021-08-09T05:46:23.613Z"
    },
    "hidden": true
   },
   "outputs": [],
   "source": [
    "#plot relative range just before death\n",
    "tf=u_values[-1]\n",
    "fig, ax = plt.subplots()\n",
    "# ax.plot(u_values-tf, range_values,label='from spline fit')\n",
    "ax.plot(c1_values-tf, range_values,label='_Hidden')\n",
    "# #plot absolute speeds just before death\n",
    "# plt.plot(t1_values-tf,s1_values,label='particle A')\n",
    "# plt.plot(t2_values-tf,s2_values,label='particle B')\n",
    "\n",
    "ax.set_xlabel('time (s)',fontsize=fontsize)\n",
    "ax.set_ylabel('range (cm)',fontsize=fontsize)\n",
    "ax.tick_params(axis='both', which='major', labelsize=fontsize)\n",
    "ax.tick_params(axis='both', which='minor', labelsize=0)\n",
    "# ax.legend(fontsize=fontsize)\n",
    "# ax.set_title('COM vector\\njust before death',fontsize=fontsize)\n",
    "plt.show()"
   ]
  },
  {
   "cell_type": "code",
   "execution_count": null,
   "metadata": {
    "ExecuteTime": {
     "end_time": "2021-08-09T05:48:03.018227Z",
     "start_time": "2021-08-09T05:46:23.623Z"
    },
    "hidden": true
   },
   "outputs": [],
   "source": [
    "#TODO: plot relative speeds for several trajectories\n",
    "#TODO: plot ensemble averaged relative speeds for many trials\n",
    "#TODO: test whether tips only react when their relative range crosses a threshold\n",
    "#TODO: decide what the (cleanest) measure of reaction will be\n"
   ]
  },
  {
   "cell_type": "markdown",
   "metadata": {
    "heading_collapsed": true
   },
   "source": [
    "# Visualize timeseries data leading up to many deaths\n",
    "- --> critical reaction range, $X>0$, appears to exist"
   ]
  },
  {
   "cell_type": "code",
   "execution_count": null,
   "metadata": {
    "ExecuteTime": {
     "end_time": "2021-08-09T05:48:03.019382Z",
     "start_time": "2021-08-09T05:46:23.635Z"
    },
    "hidden": true
   },
   "outputs": [],
   "source": [
    "def compute_death_timeseries(df,pid,pid_other,DT,n_frames_max=1000):\n",
    "    #compute the COM and the range between two spiral tips just before they annihilate\n",
    "    d1=df[df.particle==pid].tail(n_frames_max).copy()\n",
    "    d1u=unwrap_traj_and_center(d1, width, height, DS)\n",
    "    d2=df[df.particle==pid_other].tail(n_frames_max).copy()\n",
    "    d2u=unwrap_traj_and_center(d2, width, height, DS)\n",
    "\n",
    "    #compute the shift between these two tips in their unwrapped coordinates\n",
    "    disp_1=(d1.head(1)-d1u.head(1))[['x','y']].values.flatten()\n",
    "    disp_2=(d2.head(1)-d2u.head(1))[['x','y']].values.flatten()\n",
    "\n",
    "    #compute individual particle speeds and truncate at final jump\n",
    "    x_values=d1u.x.values;y_values=d1u.y.values;t_values=d1u.t.values;\n",
    "    jump_lst,speed_lst=find_jumps_non_pbc(x_values,y_values,\n",
    "        width,height,DS,DT,distance_L2_pbc=distance_L2_pbc,jump_thresh=30)\n",
    "    if len(list(jump_lst))>0:\n",
    "        s1_values=np.array(speed_lst[jump_lst[-1]+1:])#*10**3 #cm per second\n",
    "        t1_values=np.array(t_values[jump_lst[-1]+2:])-DT/2 #ms time before death\n",
    "    else:\n",
    "        s1_values=np.array(speed_lst)#*10**3 #cm per second\n",
    "        t1_values=np.array(t_values[1:]) #ms time before death\n",
    "    # print(jump_lst)\n",
    "    #slice dataframe to include only those observations after any jumps\n",
    "    d1u=d1u[d1u.t>=t1_values[0]].copy()\n",
    "    d1=d1[d1.t>=t1_values[0]].copy()\n",
    "\n",
    "    #compute individual particle speeds and truncate at final jump\n",
    "    x_values=d2u.x.values;y_values=d2u.y.values;t_values=d2u.t.values;\n",
    "    jump_lst,speed_lst=find_jumps_non_pbc(x_values,y_values,\n",
    "        width,height,DS,DT,distance_L2_pbc=distance_L2_pbc,jump_thresh=30)\n",
    "    if len(list(jump_lst))>0:\n",
    "        s2_values=np.array(speed_lst[jump_lst[-1]+1:])#*10**3 #cm per second\n",
    "        t2_values=np.array(t_values[jump_lst[-1]+2:]) #ms time before death\n",
    "    else:\n",
    "        s2_values=np.array(speed_lst)#*10**3 #cm per second\n",
    "        t2_values=np.array(t_values[1:])-DT/2 #ms time before death\n",
    "    # print(jump_lst)\n",
    "\n",
    "    #slice dataframe to include only those observations after any jumps\n",
    "    d2u=d2u[d2u.t>=t2_values[0]].copy()\n",
    "    d2=d2[d2.t>=t2_values[0]].copy()\n",
    "\n",
    "    #compute the COM and the range between two spiral tips just before they annihilate\n",
    "    xy_final_com=(d1.tail(1).values+d2.tail(1).values).flatten()[2:4]/2\n",
    "    xy_final_range=(d1.tail(1).values-d2.tail(1).values).flatten()[2:4]\n",
    "    final_range=np.linalg.norm(xy_final_range)*DS\n",
    "    \n",
    "    #compute the transformed coordinates\n",
    "    x1_values=d1u.x.values-d1u.x.values[-1]+xy_final_range[0]/2\n",
    "    y1_values=d1u.y.values-d1u.y.values[-1]+xy_final_range[1]/2\n",
    "    c1_values=d1u.t.values\n",
    "    x2_values=d2u.x.values-d2u.x.values[-1]-xy_final_range[0]/2\n",
    "    y2_values=d2u.y.values-d2u.y.values[-1]-xy_final_range[1]/2\n",
    "    c2_values=d2u.t.values\n",
    "\n",
    "    #truncate both trajectories to briefest of the two\n",
    "#     lifetime_considered_1=x1_values.shape[0]*DT\n",
    "#     lifetime_considered_2=x2_values.shape[0]*DT\n",
    "    tmin=np.max([np.min(t1_values),np.min(t2_values)])+DT/2\n",
    "    boo1=tmin<c1_values\n",
    "    boo2=tmin<c2_values\n",
    "    x1_values=x1_values[boo1]\n",
    "    y1_values=y1_values[boo1]\n",
    "    c1_values=c1_values[boo1]\n",
    "    x2_values=x2_values[boo2]\n",
    "    y2_values=y2_values[boo2]\n",
    "    c2_values=c2_values[boo2]\n",
    "\n",
    "#     return tmin,c1_values,c2_values\n",
    "    #compute the range/displacement between the two spiral tips at each time point just before death\n",
    "    delta_x_values=x1_values-x2_values\n",
    "    delta_y_values=y1_values-y2_values    \n",
    "    \n",
    "    #compute speed versus time leading up to death\n",
    "    speed_values_naive=np.linalg.norm(np.diff(np.stack([delta_x_values,delta_y_values])),axis=0)*DS/DT*10**3\n",
    "    speed_values = speed_values_naive[1:]+speed_values_naive[:-1] #simple moving average so t_values match\n",
    "\n",
    "    #compute range versus time leading up to death\n",
    "    range_values=np.sqrt(delta_x_values**2+delta_y_values**2)*DS\n",
    "    range_values=range_values[2:]\n",
    "    #compute times\n",
    "    tf=c2_values[-1]\n",
    "    range_t_values=c1_values-tf\n",
    "    # speed_t_values=c1_values[1:]-tf-DT/2\n",
    "    t_values=range_t_values[2:]\n",
    "\n",
    "    #compute a DataFrame of all deaths with fields range and speed\n",
    "    df_rxn=pd.DataFrame({\n",
    "                't':t_values,\n",
    "                 'range':range_values,\n",
    "                 'speed':speed_values,\n",
    "                'pid_self':pid+0*range_values.astype('int'),\n",
    "                'pid_other':pid_other+0*range_values.astype('int')\n",
    "                 })\n",
    "    return df_rxn"
   ]
  },
  {
   "cell_type": "code",
   "execution_count": null,
   "metadata": {
    "ExecuteTime": {
     "end_time": "2021-08-09T05:48:03.020201Z",
     "start_time": "2021-08-09T05:46:23.644Z"
    },
    "hidden": true
   },
   "outputs": [],
   "source": [
    "# compute_death_timeseries(df,pid,pid_other,DT,n_frames_max=1000)\n",
    "df=pd.read_csv(file)"
   ]
  },
  {
   "cell_type": "code",
   "execution_count": null,
   "metadata": {
    "ExecuteTime": {
     "end_time": "2021-08-09T05:48:03.021101Z",
     "start_time": "2021-08-09T05:46:23.657Z"
    },
    "hidden": true
   },
   "outputs": [],
   "source": [
    "\n",
    "for d in df_rxn_lst:\n",
    "    print(d[0].shape[0],d[1].shape[0])"
   ]
  },
  {
   "cell_type": "code",
   "execution_count": null,
   "metadata": {
    "ExecuteTime": {
     "end_time": "2021-08-09T05:48:03.021931Z",
     "start_time": "2021-08-09T05:46:23.667Z"
    },
    "hidden": true
   },
   "outputs": [],
   "source": [
    "#select from the longest lived particles\n",
    "df_rxn_lst=[]\n",
    "DT=compute_DT(df)\n",
    "trajectory_lifetimes=DT*df.groupby('particle').count().sort_values(by='x',ascending=False).x\n",
    "for index_longest in range(50):#15):\n",
    "    pid=int(trajectory_lifetimes.head(index_longest+1).index.values[-1])\n",
    "    pid_other=df_interactions[df_interactions.pid==pid].pid_deathmate.values[-1]\n",
    "    try:\n",
    "        df_rxn=compute_death_timeseries(df,pid,pid_other,DT,n_frames_max=1000)\n",
    "        df_rxn_lst.append(df_rxn)\n",
    "    except AttributeError as e:\n",
    "        print(e)\n",
    "    except IndexError as e:\n",
    "        print(e)"
   ]
  },
  {
   "cell_type": "code",
   "execution_count": null,
   "metadata": {
    "ExecuteTime": {
     "end_time": "2021-08-09T05:48:03.022911Z",
     "start_time": "2021-08-09T05:46:23.677Z"
    },
    "hidden": true
   },
   "outputs": [],
   "source": [
    "#TODO: plot relative speeds for several trajectories\n",
    "#TODO: 2 panel plot of single df_rxn\n",
    "fig, axs = plt.subplots(nrows=2,figsize=(5,9))\n",
    "\n",
    "for df_rxn in df_rxn_lst:#[:-15]:\n",
    "    #plot relative range just before death\n",
    "    axs[0].plot(df_rxn['t'].values,df_rxn['range'].values,label=\"_Hidden\",c='gray',lw=1,alpha=0.5)\n",
    "    #plot relative speed just before death\n",
    "    axs[1].plot(df_rxn['t'].values,df_rxn['speed'].values,label=\"_Hidden\",c='gray',lw=1,alpha=0.5)\n",
    "\n",
    "\n",
    "#format plots\n",
    "ax=axs[0]\n",
    "ax.set_xlabel('time (ms)',fontsize=fontsize)\n",
    "ax.set_ylabel('range (cm)',fontsize=fontsize)\n",
    "ax.tick_params(axis='both', which='major', labelsize=fontsize)\n",
    "ax.tick_params(axis='both', which='minor', labelsize=0)\n",
    "ax.set_xlim([-50,0])\n",
    "ax.set_ylim([0,1])\n",
    "# ax.legend(fontsize=fontsize)\n",
    "\n",
    "ax=axs[1]\n",
    "ax.set_xlabel('time (ms)',fontsize=fontsize)\n",
    "ax.set_ylabel('relative speed (cm/s)',fontsize=fontsize)\n",
    "ax.tick_params(axis='both', which='major', labelsize=fontsize)\n",
    "ax.tick_params(axis='both', which='minor', labelsize=0)\n",
    "ax.set_xlim([-50,0])\n",
    "\n",
    "# ax.legend(fontsize=fontsize)\n",
    "axs[0].set_title('Luo-Rudy Model', fontsize=fontsize)\n",
    "plt.tight_layout()\n",
    "plt.show()"
   ]
  },
  {
   "cell_type": "code",
   "execution_count": null,
   "metadata": {
    "ExecuteTime": {
     "end_time": "2021-08-09T05:48:03.024056Z",
     "start_time": "2021-08-09T05:46:23.687Z"
    },
    "hidden": true
   },
   "outputs": [],
   "source": [
    "df[df.particle==pid_other]"
   ]
  },
  {
   "cell_type": "markdown",
   "metadata": {
    "hidden": true
   },
   "source": [
    "__Result__\n",
    "- relative speed is not a clean measure for a rxn that is about to occur\n",
    "- relative speed typically jumps for the last time within 2 ms of death\n",
    "- at about t=-2 ms, annihilating tips are ~ 0.4 cm apart.\n",
    "- range is a clean measure for a rxn that is about to occur within 5-50ms if tips come closer than X = 0.2-0.6 cm"
   ]
  },
  {
   "cell_type": "markdown",
   "metadata": {
    "heading_collapsed": true
   },
   "source": [
    "# make measure for when the nearest tip comes closer than X=0.5 cm\n",
    "- TODO: measure fraction of events that end in "
   ]
  },
  {
   "cell_type": "code",
   "execution_count": null,
   "metadata": {
    "ExecuteTime": {
     "end_time": "2021-08-09T05:48:03.025001Z",
     "start_time": "2021-08-09T05:46:23.699Z"
    },
    "code_folding": [],
    "hidden": true
   },
   "outputs": [],
   "source": [
    "def compute_DT(df,round_t_to_n_digits=3):\n",
    "    '''DT is the time between two observations'''\n",
    "    DT=np.around(df[(df.frame==1)].t.values[0]-df[(df.frame==0)].t.values[0],round_t_to_n_digits)\n",
    "    return DT\n",
    "\n",
    "#measure the distance to the nearest tip for a given tip at a given frame\n",
    "def compute_closest_range_lst(df,pid):\n",
    "    d=df[df.particle==pid]\n",
    "    frame_lst=list(set(d.frame.values))\n",
    "    closest_range_lst=[]\n",
    "    for frame in frame_lst:\n",
    "        point_1=d[d.frame==frame][['x','y']].values.flatten()\n",
    "        dist_lst=[]\n",
    "        for point_2 in df[df.frame==frame][['x','y']].values:\n",
    "            dist_lst.append ( distance_L2_pbc(point_1, point_2)*DS ) \n",
    "        closest_range=sorted(dist_lst)[1]\n",
    "        closest_range_lst.append(closest_range)\n",
    "    return frame_lst, closest_range_lst"
   ]
  },
  {
   "cell_type": "code",
   "execution_count": null,
   "metadata": {
    "ExecuteTime": {
     "end_time": "2021-08-09T05:48:03.025830Z",
     "start_time": "2021-08-09T05:46:23.710Z"
    },
    "hidden": true
   },
   "outputs": [],
   "source": [
    "def count_events_range_entered(df,pid,X):\n",
    "    try:\n",
    "        frame_lst, closest_range_lst = compute_closest_range_lst(df,pid)\n",
    "        cr_values=np.array(closest_range_lst)\n",
    "        t_values=DT*(np.array(frame_lst)-frame_lst[-1])\n",
    "        boo=cr_values-X<0\n",
    "        count=sum(boo[1:]&~boo[:-1])\n",
    "        # frames_since_last_below_X=np.diff(np.argwhere(boo)).flatten()\n",
    "        ends_closer_than_X = boo[-1]\n",
    "    except Exception as e:\n",
    "        print(e)\n",
    "        ends_closer_than_X=False\n",
    "        count=0\n",
    "    return ends_closer_than_X, count"
   ]
  },
  {
   "cell_type": "code",
   "execution_count": null,
   "metadata": {
    "ExecuteTime": {
     "end_time": "2021-08-09T05:48:03.026688Z",
     "start_time": "2021-08-09T05:46:23.721Z"
    },
    "hidden": true
   },
   "outputs": [],
   "source": [
    "#load poster child csv\n",
    "# file='/home/timothytyree/Documents/GitHub/care/notebooks/Data/initial-conditions-suite-3-LR/param_qu_tmax_30_Ko_3.8_diffCoef_0.001/trajectories/ic018.21_traj_sr_600_mem_0.csv'\n",
    "file=search_for_file()\n",
    "#one fenton-karma trial\n",
    "# file='/home/timothytyree/Documents/GitHub/care/notebooks/Data/initial-conditions-fk-200x200/param_set_8_ds_5.0_tmax_10_diffcoef_0.001/Log/ic200x200.0.0_traj_sr_400_mem_0.csv'\n",
    "#another fenton-karma trial\n",
    "# file='/home/timothytyree/Documents/GitHub/care/notebooks/Data/initial-conditions-fk-200x200/param_set_8_ds_5.0_tmax_10_diffCoef_0.0005/Log/ic200x200.0.0_traj_sr_400_mem_0.csv'\n",
    "#LR\n",
    "# file='/home/timothytyree/Documents/GitHub/care/notebooks/Data/initial-conditions-suite-3-LR/param_qu_tmax_30_Ko_3.8_diffCoef_0.0005/trajectories/ic001.13_traj_sr_600_mem_0.csv'\n",
    "df=pd.read_csv(file)\n",
    "df.head()"
   ]
  },
  {
   "cell_type": "code",
   "execution_count": null,
   "metadata": {
    "ExecuteTime": {
     "end_time": "2021-08-09T05:48:03.027540Z",
     "start_time": "2021-08-09T05:46:23.732Z"
    },
    "hidden": true
   },
   "outputs": [],
   "source": [
    "#count the fraction of events where range is entered\n",
    "X_values=np.arange(0.1,1.0,0.1)\n",
    "f_lst=[]\n",
    "DT=compute_DT(df);print(DT)\n",
    "#select from the longest lived particles\n",
    "trajectory_lifetimes=DT*df.groupby('particle').count().sort_values(by='x',ascending=False).x\n",
    "for X in X_values:\n",
    "    count_lst=[]\n",
    "    for index_longest in range(50):#15):\n",
    "        pid=int(trajectory_lifetimes.head(index_longest+1).index.values[-1])\n",
    "        ends_closer_than_X, count=count_events_range_entered(df,pid,X)\n",
    "        if ends_closer_than_X:\n",
    "            count_lst.append(count)\n",
    "    #compute the fraction of events that come closer than range X and end with a range observed to be closer than X\n",
    "    f = 1-sum(np.array(count_lst)>1)/len(count_lst)\n",
    "    f_lst.append(f)\n",
    "f_values=np.array(f_lst)\n",
    "beep(10)"
   ]
  },
  {
   "cell_type": "code",
   "execution_count": null,
   "metadata": {
    "ExecuteTime": {
     "end_time": "2021-08-09T05:48:03.028334Z",
     "start_time": "2021-08-09T05:46:23.741Z"
    },
    "hidden": true
   },
   "outputs": [],
   "source": [
    "10*60/20*11"
   ]
  },
  {
   "cell_type": "code",
   "execution_count": null,
   "metadata": {
    "ExecuteTime": {
     "end_time": "2021-08-09T05:48:03.029061Z",
     "start_time": "2021-08-09T05:46:23.750Z"
    },
    "hidden": true
   },
   "outputs": [],
   "source": [
    "fig,ax=plt.subplots(figsize=(6,5))\n",
    "ax.plot(X_values,f_values)\n",
    "ax.set_xlabel(r'reaction range (cm)',fontsize=fontsize)\n",
    "ax.set_ylabel('fraction of deaths\\ns.t. range was entered once',fontsize=fontsize)\n",
    "ax.tick_params(axis='both', which='major', labelsize=fontsize)\n",
    "ax.tick_params(axis='both', which='minor', labelsize=0)\n",
    "# ax.legend(fontsize=fontsize)\n",
    "ax.set_title('Fenton-Karma Model (another trial)',fontsize=fontsize)\n",
    "plt.show()"
   ]
  },
  {
   "cell_type": "code",
   "execution_count": null,
   "metadata": {
    "ExecuteTime": {
     "end_time": "2021-08-09T05:48:03.029745Z",
     "start_time": "2021-08-09T05:46:23.760Z"
    },
    "hidden": true
   },
   "outputs": [],
   "source": [
    "#TODO: visualize a death event which has large range\n",
    "#TODO: print long-ranged death versus time"
   ]
  },
  {
   "cell_type": "markdown",
   "metadata": {
    "ExecuteTime": {
     "end_time": "2021-03-20T01:49:17.168873Z",
     "start_time": "2021-03-20T01:49:17.126881Z"
    },
    "hidden": true
   },
   "source": [
    "## compute f versus X for all trials in folder\n",
    "- iterate over all trials in a folder overnight"
   ]
  },
  {
   "cell_type": "code",
   "execution_count": null,
   "metadata": {
    "ExecuteTime": {
     "end_time": "2021-08-09T05:48:03.030606Z",
     "start_time": "2021-08-09T05:46:23.772Z"
    },
    "hidden": true
   },
   "outputs": [],
   "source": [
    "ntips=50\n",
    "def compute_df_range(file):\n",
    "    df=pd.read_csv(file)\n",
    "    #count the fraction of events where range is entered\n",
    "    X_values=np.arange(0.1,1.0,0.1)\n",
    "    f_lst=[]\n",
    "    DT=compute_DT(df);#print(DT)\n",
    "    #select from the longest lived particles\n",
    "    trajectory_lifetimes=DT*df.groupby('particle').count().sort_values(by='x',ascending=False).x\n",
    "    for X in X_values:\n",
    "        count_lst=[]\n",
    "        for index_longest in range(ntips):#15):\n",
    "            pid=int(trajectory_lifetimes.head(index_longest+1).index.values[-1])\n",
    "            ends_closer_than_X, count=count_events_range_entered(df,pid,X)\n",
    "            if ends_closer_than_X:\n",
    "                count_lst.append(count)\n",
    "        if len(count_lst)>0:\n",
    "        #compute the fraction of events that come closer than range X and end with a range observed to be closer than X\n",
    "            f = 1-sum(np.array(count_lst)>1)/len(count_lst)\n",
    "        else:\n",
    "            f = -9999\n",
    "        f_lst.append(f)\n",
    "    f_values=np.array(f_lst)\n",
    "    df_range=pd.DataFrame({'src':os.path.basename(file),\n",
    "         'f':f_values,'X':X_values})\n",
    "    return df_range\n",
    "\n",
    "def routine(file):\n",
    "    return compute_df_range(file)"
   ]
  },
  {
   "cell_type": "code",
   "execution_count": null,
   "metadata": {
    "ExecuteTime": {
     "end_time": "2021-08-09T05:48:03.031554Z",
     "start_time": "2021-08-09T05:46:23.781Z"
    },
    "hidden": true
   },
   "outputs": [],
   "source": [
    "#DONE: measure final range at time of death\n",
    "#TODO: measure time since crossing X at time of death\n",
    "file=search_for_file()"
   ]
  },
  {
   "cell_type": "code",
   "execution_count": null,
   "metadata": {
    "ExecuteTime": {
     "end_time": "2021-08-09T05:48:03.032309Z",
     "start_time": "2021-08-09T05:46:23.789Z"
    },
    "hidden": true
   },
   "outputs": [],
   "source": [
    "#FK\n",
    "# file='/home/timothytyree/Documents/GitHub/care/notebooks/Data/initial-conditions-fk-200x200/param_set_8_ds_5.0_tmax_10_diffCoef_0.0005/Log/ic200x200.0.1_traj_sr_400_mem_0.csv'\n",
    "\n",
    "#LR\n",
    "file='/home/timothytyree/Documents/GitHub/care/notebooks/Data/initial-conditions-suite-3-LR/param_qu_tmax_30_Ko_3.8_diffCoef_0.001/trajectories/ic001.21_traj_sr_600_mem_0.csv'\n",
    "input_fn_lst = get_all_files_matching_pattern(file,trgt='_mem_0.csv')\n",
    "print(len(input_fn_lst))"
   ]
  },
  {
   "cell_type": "code",
   "execution_count": null,
   "metadata": {
    "ExecuteTime": {
     "end_time": "2021-08-09T05:48:03.033202Z",
     "start_time": "2021-08-09T05:46:23.799Z"
    },
    "hidden": true
   },
   "outputs": [],
   "source": [
    "retval=routine(file)"
   ]
  },
  {
   "cell_type": "code",
   "execution_count": null,
   "metadata": {
    "ExecuteTime": {
     "end_time": "2021-08-09T05:48:03.034048Z",
     "start_time": "2021-08-09T05:46:23.810Z"
    },
    "hidden": true
   },
   "outputs": [],
   "source": [
    "df=pd.read_csv(file)\n",
    "#count the fraction of events where range is entered\n",
    "X_values=np.arange(0.1,1.0,0.1)\n",
    "f_lst=[]\n",
    "DT=compute_DT(df);#print(DT)"
   ]
  },
  {
   "cell_type": "code",
   "execution_count": null,
   "metadata": {
    "ExecuteTime": {
     "end_time": "2021-08-09T05:48:03.035001Z",
     "start_time": "2021-08-09T05:46:23.819Z"
    },
    "hidden": true
   },
   "outputs": [],
   "source": [
    "#compile distance metric\n",
    "width=200;height=200;DS=0.025\n",
    "distance_L2_pbc = get_distance_L2_pbc(width=width,height=height)"
   ]
  },
  {
   "cell_type": "code",
   "execution_count": null,
   "metadata": {
    "ExecuteTime": {
     "end_time": "2021-08-09T05:48:03.036059Z",
     "start_time": "2021-08-09T05:46:23.830Z"
    },
    "hidden": true
   },
   "outputs": [],
   "source": [
    "# for fn in input_fn_lst:\n",
    "#     #all CPU version\n",
    "b = db.from_sequence(input_fn_lst, npartitions=9).map(routine)\n",
    "start = time.time()\n",
    "df_range_lst = list(b)\n",
    "print(f\"run time for generating birth-death rates from file_name_list: {time.time()-start:.2f} seconds.\")\n",
    "beep(10)"
   ]
  },
  {
   "cell_type": "code",
   "execution_count": null,
   "metadata": {
    "ExecuteTime": {
     "end_time": "2021-08-09T05:48:03.036884Z",
     "start_time": "2021-08-09T05:46:23.839Z"
    },
    "hidden": true
   },
   "outputs": [],
   "source": [
    "#TODO: save df_range_lst as csv\n",
    "df=pd.concat(df_range_lst)\n",
    "# df.head()\n",
    "favg_values=np.array([np.mean(df[(df.X==X)&(df.f>-1)].f.values) for X in X_values])\n",
    "N_values=np.array([len(list(set(df[(df.X==X)&(df.f>-1)].src.values))) for X in X_values])\n",
    "N_values"
   ]
  },
  {
   "cell_type": "code",
   "execution_count": null,
   "metadata": {
    "ExecuteTime": {
     "end_time": "2021-08-09T05:48:03.037574Z",
     "start_time": "2021-08-09T05:46:23.849Z"
    },
    "hidden": true
   },
   "outputs": [],
   "source": [
    "folder=os.path.dirname(os.path.dirname(file))\n",
    "os.chdir(folder)\n",
    "savefn=f'rxn_range_results_ntips_{ntips}.csv'\n",
    "df.to_csv(savefn,index=False)\n",
    "print(os.path.abspath(savefn))"
   ]
  },
  {
   "cell_type": "code",
   "execution_count": null,
   "metadata": {
    "ExecuteTime": {
     "end_time": "2021-08-09T05:48:03.038492Z",
     "start_time": "2021-08-09T05:46:23.858Z"
    },
    "hidden": true
   },
   "outputs": [],
   "source": [
    "#TODO: compute the average and standard deviation, averaging over src\n"
   ]
  },
  {
   "cell_type": "code",
   "execution_count": null,
   "metadata": {
    "ExecuteTime": {
     "end_time": "2021-08-09T05:48:03.039290Z",
     "start_time": "2021-08-09T05:46:23.867Z"
    },
    "hidden": true,
    "run_control": {
     "marked": false
    }
   },
   "outputs": [],
   "source": [
    "#compute the average averaging over src\n",
    "os.chdir('/home/timothytyree/Documents/GitHub/care/notebooks/Data/initial-conditions-fk-200x200/param_set_8_ds_5.0_tmax_10_diffCoef_0.0005')\n",
    "df=pd.read_csv('rxn_range_results_ntips_1.csv')\n",
    "favg_values=np.array([np.mean(df[(df.X==X)&(df.f>-1)].f.values) for X in X_values])\n",
    "ferr_values=np.array([np.std(df[(df.X==X)&(df.f>-1)].f.values) for X in X_values])\n",
    "N_values=np.array([len(list(set(df[(df.X==X)&(df.f>-1)].src.values))) for X in X_values])\n",
    "N_values"
   ]
  },
  {
   "cell_type": "code",
   "execution_count": null,
   "metadata": {
    "ExecuteTime": {
     "end_time": "2021-08-09T05:48:03.040026Z",
     "start_time": "2021-08-09T05:46:23.875Z"
    },
    "hidden": true
   },
   "outputs": [],
   "source": [
    "fig,ax=plt.subplots(figsize=(6,5))\n",
    "# ax.plot(X_values,ferr_values)\n",
    "ax.plot(X_values,favg_values)\n",
    "ax.set_xlabel(r'reaction range (cm)',fontsize=fontsize)\n",
    "ax.set_ylabel('fraction of deaths\\ns.t. range was entered once',fontsize=fontsize)\n",
    "ax.tick_params(axis='both', which='major', labelsize=fontsize)\n",
    "ax.tick_params(axis='both', which='minor', labelsize=0)\n",
    "# ax.legend(fontsize=fontsize)\n",
    "ax.set_title(u'(1 tip per trial, $N_{trials}>190$ per bin)\\nFenton-Karma Model',fontsize=fontsize)\n",
    "plt.show();print(f'f(0.1)={np.mean(df[(df.X==0.1)&(df.f>-1)].f.values)}')"
   ]
  },
  {
   "cell_type": "code",
   "execution_count": null,
   "metadata": {
    "ExecuteTime": {
     "end_time": "2021-08-09T05:48:03.040691Z",
     "start_time": "2021-08-09T05:46:23.886Z"
    },
    "hidden": true
   },
   "outputs": [],
   "source": [
    "# df=pd.read_csv('/home/timothytyree/Documents/GitHub/care/notebooks/Data/initial-conditions-suite-3-LR/param_qu_tmax_30_Ko_3.8_diffCoef_0.0005/rxn_range_results_ntips_10.csv')\n",
    "df=pd.read_csv('/home/timothytyree/Documents/GitHub/care/notebooks/Data/initial-conditions-suite-3-LR/param_qu_tmax_30_Ko_3.8_diffCoef_0.001/rxn_range_results_ntips_50.csv')\n",
    "favg_values=np.array([np.mean(df[(df.X==X)&(df.f>-1)].f.values) for X in X_values])\n",
    "ferr1_values=np.array([np.quantile(df[(df.X==X)&(df.f>-1)].f.values,0.25) for X in X_values])\n",
    "ferr2_values=np.array([np.quantile(df[(df.X==X)&(df.f>-1)].f.values,0.75) for X in X_values])\n",
    "\n",
    "N_values=np.array([len(list(set(df[(df.X==X)&(df.f>-1)].src.values))) for X in X_values])\n",
    "N_values"
   ]
  },
  {
   "cell_type": "code",
   "execution_count": null,
   "metadata": {
    "hidden": true
   },
   "outputs": [],
   "source": []
  },
  {
   "cell_type": "code",
   "execution_count": null,
   "metadata": {
    "ExecuteTime": {
     "end_time": "2021-08-09T05:48:03.041534Z",
     "start_time": "2021-08-09T05:46:23.898Z"
    },
    "hidden": true
   },
   "outputs": [],
   "source": [
    "\n",
    "fontsize=18\n",
    "fig,ax=plt.subplots(figsize=(6,5))\n",
    "ax.plot(X_values,favg_values)\n",
    "ax.fill_between(X_values,ferr1_values,ferr2_values,alpha=0.3)\n",
    "ax.set_xlabel(r'reaction range (cm)',\n",
    "              fontsize=fontsize)\n",
    "ax.set_ylabel('fraction of deaths\\ns.t. range was entered once',fontsize=fontsize)\n",
    "ax.tick_params(axis='both', which='major', labelsize=fontsize)\n",
    "ax.tick_params(axis='both', which='minor', labelsize=0)\n",
    "# ax.legend(fontsize=fontsize)\n",
    "ax.set_title(u'(50 tips per trial, $N_{trials}>140$ per bin)\\nLuo-Rudy Model',fontsize=fontsize)\n",
    "plt.show();print(f'f(0.1)={np.mean(df[(df.X==0.1)&(df.f>-1)].f.values)}')"
   ]
  },
  {
   "cell_type": "code",
   "execution_count": null,
   "metadata": {
    "ExecuteTime": {
     "end_time": "2021-08-09T05:48:03.042307Z",
     "start_time": "2021-08-09T05:46:23.907Z"
    },
    "hidden": true
   },
   "outputs": [],
   "source": [
    "X=0.1\n",
    "f_values=df[(df.X==0.1)&(df.f>-1)].f.values\n",
    "# np.min(f_values)\n",
    "f_values"
   ]
  },
  {
   "cell_type": "code",
   "execution_count": null,
   "metadata": {
    "ExecuteTime": {
     "end_time": "2021-08-09T05:48:03.043156Z",
     "start_time": "2021-08-09T05:46:23.916Z"
    },
    "hidden": true
   },
   "outputs": [],
   "source": [
    "np.mean(f_values)"
   ]
  },
  {
   "cell_type": "code",
   "execution_count": null,
   "metadata": {
    "ExecuteTime": {
     "end_time": "2021-08-09T05:48:03.043992Z",
     "start_time": "2021-08-09T05:46:23.926Z"
    },
    "hidden": true
   },
   "outputs": [],
   "source": [
    "c=0\n",
    "for src in df[(df.X==0.1)&(df.f==0.0)].src.values:\n",
    "    d=df[df.src==src]\n",
    "    x_values=np.array(d.X.values)\n",
    "    y_values=np.array(d.f.values)\n",
    "    plt.plot(x_values,y_values)\n",
    "    c+=1\n",
    "plt.show();print(f\"N_trials={c}\")"
   ]
  },
  {
   "cell_type": "code",
   "execution_count": null,
   "metadata": {
    "ExecuteTime": {
     "end_time": "2021-08-09T05:48:03.044874Z",
     "start_time": "2021-08-09T05:46:23.936Z"
    },
    "hidden": true
   },
   "outputs": [],
   "source": [
    "c=0\n",
    "for src in list(set(df[(df.X==0.1)&(df.f>=0.)].src.values)):\n",
    "    d=df[df.src==src]\n",
    "    x_values=np.array(d.X.values)\n",
    "    y_values=np.array(d.f.values)\n",
    "    plt.plot(x_values,y_values)\n",
    "    c+=1\n",
    "plt.show();print(f\"N_trials={c}\")"
   ]
  },
  {
   "cell_type": "markdown",
   "metadata": {
    "heading_collapsed": true
   },
   "source": [
    "# estimate the mean number density "
   ]
  },
  {
   "cell_type": "code",
   "execution_count": null,
   "metadata": {
    "ExecuteTime": {
     "end_time": "2021-08-09T05:48:03.045728Z",
     "start_time": "2021-08-09T05:46:23.947Z"
    },
    "hidden": true
   },
   "outputs": [],
   "source": [
    "\n",
    "#LR\n",
    "file='/home/timothytyree/Documents/GitHub/care/notebooks/Data/initial-conditions-suite-3-LR/param_qu_tmax_30_Ko_3.8_diffCoef_0.001/trajectories/ic001.21_traj_sr_600_mem_0.csv'\n",
    "input_fn_lst = get_all_files_matching_pattern(file,trgt='_mem_0.csv')\n",
    "print(len(input_fn_lst))"
   ]
  },
  {
   "cell_type": "code",
   "execution_count": null,
   "metadata": {
    "ExecuteTime": {
     "end_time": "2021-08-09T05:48:03.046471Z",
     "start_time": "2021-08-09T05:46:23.957Z"
    },
    "hidden": true
   },
   "outputs": [],
   "source": [
    "def routine2(file):\n",
    "    df=pd.read_csv(file)\n",
    "    return df.n.mean()/25 #per cm^2\n",
    "\n",
    "# for fn in input_fn_lst:\n",
    "#     #all CPU version\n",
    "b = db.from_sequence(input_fn_lst, npartitions=9).map(routine2)\n",
    "start = time.time()\n",
    "qavg_lst = list(b)\n",
    "print(f\"run time: {time.time()-start:.2f} seconds.\")\n",
    "beep(10)"
   ]
  },
  {
   "cell_type": "code",
   "execution_count": null,
   "metadata": {
    "ExecuteTime": {
     "end_time": "2021-08-09T05:48:03.047302Z",
     "start_time": "2021-08-09T05:46:23.966Z"
    },
    "hidden": true
   },
   "outputs": [],
   "source": [
    "plt.hist(qavg_lst,bins=9)\n",
    "plt.xlabel('mean number density',fontsize=fontsize)\n",
    "plt.ylabel('frequency',fontsize=fontsize)\n",
    "plt.tick_params(axis='both', which='major', labelsize=fontsize)\n",
    "plt.tick_params(axis='both', which='minor', labelsize=0)\n",
    "# ax.legend(fontsize=fontsize)\n",
    "plt.title('Luo-Rudy Model',fontsize=fontsize)\n",
    "plt.show()\n",
    "print(f'mean number density was {np.mean(qavg_lst):.3f} +- {np.std(qavg_lst):.3f} tips per cm^2.')\n",
    "print(f'N_{{trials}}={len(input_fn_lst)}, A_{{domain}}=25 cm^2')"
   ]
  },
  {
   "cell_type": "code",
   "execution_count": null,
   "metadata": {
    "ExecuteTime": {
     "end_time": "2021-08-09T05:48:03.048050Z",
     "start_time": "2021-08-09T05:46:23.975Z"
    },
    "hidden": true
   },
   "outputs": [],
   "source": [
    "#FK\n",
    "file='/home/timothytyree/Documents/GitHub/care/notebooks/Data/initial-conditions-fk-200x200/param_set_8_ds_5.0_tmax_10_diffCoef_0.0005/Log/ic200x200.0.1_traj_sr_400_mem_0.csv'\n",
    "\n",
    "#LR\n",
    "# file='/home/timothytyree/Documents/GitHub/care/notebooks/Data/initial-conditions-suite-3-LR/param_qu_tmax_30_Ko_3.8_diffCoef_0.001/trajectories/ic001.21_traj_sr_600_mem_0.csv'\n",
    "input_fn_lst = get_all_files_matching_pattern(file,trgt='_mem_0.csv')\n",
    "print(len(input_fn_lst))"
   ]
  },
  {
   "cell_type": "code",
   "execution_count": null,
   "metadata": {
    "ExecuteTime": {
     "end_time": "2021-08-09T05:48:03.048777Z",
     "start_time": "2021-08-09T05:46:23.983Z"
    },
    "hidden": true
   },
   "outputs": [],
   "source": [
    "def routine2(file):\n",
    "    df=pd.read_csv(file)\n",
    "    return df.n.mean()/25 #per cm^2\n",
    "\n",
    "# for fn in input_fn_lst:\n",
    "#     #all CPU version\n",
    "b = db.from_sequence(input_fn_lst, npartitions=9).map(routine2)\n",
    "start = time.time()\n",
    "qavg_lst = list(b)\n",
    "print(f\"run time: {time.time()-start:.2f} seconds.\")\n",
    "beep(10)"
   ]
  },
  {
   "cell_type": "code",
   "execution_count": null,
   "metadata": {
    "ExecuteTime": {
     "end_time": "2021-08-09T05:48:03.049542Z",
     "start_time": "2021-08-09T05:46:23.994Z"
    },
    "hidden": true,
    "scrolled": true
   },
   "outputs": [],
   "source": [
    "plt.hist(qavg_lst,bins=9)\n",
    "plt.xlabel('mean number density',fontsize=fontsize)\n",
    "plt.ylabel('frequency',fontsize=fontsize)\n",
    "plt.tick_params(axis='both', which='major', labelsize=fontsize)\n",
    "plt.tick_params(axis='both', which='minor', labelsize=0)\n",
    "# ax.legend(fontsize=fontsize)\n",
    "plt.title('Fenton-Karma Model',fontsize=fontsize)\n",
    "plt.show()\n",
    "print(f'mean number density was {np.mean(qavg_lst):.3f} +- {np.std(qavg_lst):.3f} tips per cm^2.')\n",
    "print(f'N_{{trials}}={len(input_fn_lst)}, A_{{domain}}=25 cm^2')"
   ]
  },
  {
   "cell_type": "markdown",
   "metadata": {
    "heading_collapsed": true
   },
   "source": [
    "# compute histogram of reaction ranges for given folder using daskbag"
   ]
  },
  {
   "cell_type": "code",
   "execution_count": null,
   "metadata": {
    "ExecuteTime": {
     "end_time": "2021-08-09T05:48:03.050339Z",
     "start_time": "2021-08-09T05:46:24.005Z"
    },
    "hidden": true
   },
   "outputs": [],
   "source": [
    "from lib.routines.return_reaction_ranges_from_folder import *"
   ]
  },
  {
   "cell_type": "code",
   "execution_count": null,
   "metadata": {
    "ExecuteTime": {
     "end_time": "2021-08-09T05:48:03.051299Z",
     "start_time": "2021-08-09T05:46:24.016Z"
    },
    "hidden": true
   },
   "outputs": [],
   "source": [
    "# def get_files_in_folder(folder,trgt):\n",
    "#     '''gets all files in a given folder that contain a target string, trgt'''\n",
    "#     os.chdir(folder)\n",
    "#     fn_lst=os.listdir()\n",
    "#     ifl=[]\n",
    "#     for fn in fn_lst:\n",
    "#         if fn.find(trgt)!=-1:\n",
    "#             ifl.append(fn)\n",
    "#     return ifl\n",
    "\n",
    "# def return_bincounts_bdranges(folder,bin_edges,ds=5.,width=200.):\n",
    "#     '''\n",
    "#     Example Usage:\n",
    "#     retval_lst=return_bincounts_bdranges(folder,bin_edges,ds=5.,width=200.)\n",
    "#     beep(10)\n",
    "#     '''\n",
    "\n",
    "#     input_fn_lst=get_files_in_folder(folder,trgt='_traj_')\n",
    "#     print(f\"binning {len(input_fn_lst)} files...\")\n",
    "\n",
    "#     def routine(input_fn):\n",
    "#         try:\n",
    "#             bin_count_death, bin_count_birth,DT=comp_bdrange_bincounts(input_fn,bin_edges,ds=ds,width=width)\n",
    "#             return bin_count_death, bin_count_birth, DT\n",
    "#         except Exception as e:\n",
    "#             return None\n",
    "\n",
    "#     def agg(retval1,retval2):\n",
    "#         val_lst=[]\n",
    "#         for val1,val2 in zip(retval1,retval2):\n",
    "#             val_lst.append(val1+val2)\n",
    "#         retval=tuple(val_lst)\n",
    "#         return retval\n",
    "\n",
    "#     bag = db.from_sequence(input_fn_lst, npartitions=10).map(routine)\n",
    "#     # retval_lst=list(bag)\n",
    "#     # # took extra 16 minutes? slow... dask doesn't appear to cache like spark does...\n",
    "#     # bag = db.from_sequence(retval_lst, npartitions=10).accumulate(agg)\n",
    "#     # retval=list(bag)\n",
    "#     # #DONE: instead, use agg to use retval_lst as input\n",
    "\n",
    "#     start = time.time()\n",
    "#     retval_lst = list(bag)\n",
    "#     print(f\"the run time for filtering files was {(time.time()-start)/60:.2f} minutes.\")    \n",
    "#     return retval_lst"
   ]
  },
  {
   "cell_type": "code",
   "execution_count": null,
   "metadata": {
    "ExecuteTime": {
     "end_time": "2021-08-09T05:48:03.052133Z",
     "start_time": "2021-08-09T05:46:24.026Z"
    },
    "hidden": true
   },
   "outputs": [],
   "source": [
    "file=search_for_file()"
   ]
  },
  {
   "cell_type": "code",
   "execution_count": null,
   "metadata": {
    "ExecuteTime": {
     "end_time": "2021-08-09T05:48:03.052913Z",
     "start_time": "2021-08-09T05:46:24.035Z"
    },
    "hidden": true
   },
   "outputs": [],
   "source": [
    "file=f\"/Users/timothytyree/Documents/GitHub/care/notebooks/Data/ds_5_param_set_8/trajectories/tip_log_ds_5_sigma_1.0_threshold_0.8_006_traj_sr_50_mem_2.csv\"\n",
    "# file=f\"/Users/timothytyree/Documents/GitHub/care/notebooks/Data/initial-conditions-suite-1/ds_5_param_set_8/trajectories/ic_200x200.111.12_ds_5_sigma_1.5_threshold_0.6_sr_50_mem_2_traj.csv\""
   ]
  },
  {
   "cell_type": "code",
   "execution_count": null,
   "metadata": {
    "ExecuteTime": {
     "end_time": "2021-08-09T05:48:03.053645Z",
     "start_time": "2021-08-09T05:46:24.045Z"
    },
    "hidden": true
   },
   "outputs": [],
   "source": [
    "#token LR trial\n",
    "# file=\"/home/timothytyree/Documents/GitHub/care/notebooks/Data/initial-conditions-suite-3-LR/param_qu_tmax_30_Ko_3.8_diffCoef_0.0005/trajectories/ic001.13_traj_sr_600_mem_0.csv\"\n",
    "# file=\"/home/timothytyree/Documents/GitHub/care/notebooks/Data/initial-conditions-suite-3-LR/param_qu_tmax_30_Ko_3.8_diffCoef_0.001/trajectories/ic002.33_traj_sr_600_mem_0.csv\"\n",
    "#token FK trial\n",
    "# file=\"/home/timothytyree/Documents/GitHub/care/notebooks/Data/initial-conditions-suite-2/ds_5_param_set_8_fastkernel_V_0.4/trajectories/ic_200x200.001.12_traj_sr_400_mem_2.csv\"\n",
    "# file='/home/timothytyree/Documents/GitHub/care/notebooks/Data/initial-conditions-suite-2/ds_5_param_set_8_fastkernel_V_0.4/trajectories/ic_200x200.001.12_traj_sr_400_mem_2.csv'\n",
    "input_fn=file\n",
    "folder=os.path.dirname(file)\n",
    "df=pd.read_csv(input_fn)\n",
    "DT=compute_DT(df,round_t_to_n_digits=3)\n",
    "trialname=os.path.basename(os.path.dirname(folder))\n",
    "print(f\"there was {DT} ms between observations for the trial run, {trialname}\")"
   ]
  },
  {
   "cell_type": "code",
   "execution_count": null,
   "metadata": {
    "ExecuteTime": {
     "end_time": "2021-08-09T05:48:03.054428Z",
     "start_time": "2021-08-09T05:46:24.054Z"
    },
    "hidden": true
   },
   "outputs": [],
   "source": [
    "DS=5./200.\n",
    "#compute interactions\n",
    "df_interactions=compute_df_interactions(input_fn,DS=DS)\n",
    "# df_interactions.dropna(inplace=True)\n",
    "death_ranges=DS*df_interactions.rT.values\n",
    "birth_ranges=DS*df_interactions.r0.values\n",
    "\n",
    "plt.hist(birth_ranges,color='green',alpha=0.5,bins=40)\n",
    "plt.hist(death_ranges,color='red',alpha=0.5,bins=40)\n",
    "plt.show()"
   ]
  },
  {
   "cell_type": "code",
   "execution_count": null,
   "metadata": {
    "ExecuteTime": {
     "end_time": "2021-08-09T05:48:03.055232Z",
     "start_time": "2021-08-09T05:46:24.064Z"
    },
    "hidden": true
   },
   "outputs": [],
   "source": [
    "# bin_edges=np.arange(0,10,0.005) #cm\n",
    "bin_edges=np.arange(0,10,0.05) #cm\n",
    "\n",
    "# bin_edges=get_bin_edges(input_fn,ds=5.,width=200.,nbins=40)\n",
    "# print(f\"maximum bin edges is {np.max(bin_edges):.2f} cm.\")\n",
    "bin_edges.shape"
   ]
  },
  {
   "cell_type": "code",
   "execution_count": null,
   "metadata": {
    "ExecuteTime": {
     "end_time": "2021-08-09T05:48:03.055998Z",
     "start_time": "2021-08-09T05:46:24.072Z"
    },
    "hidden": true
   },
   "outputs": [],
   "source": [
    "retval_lst=return_bincounts_bdranges(folder,bin_edges,ds=5.,width=200.)\n",
    "beep(10)"
   ]
  },
  {
   "cell_type": "code",
   "execution_count": null,
   "metadata": {
    "ExecuteTime": {
     "end_time": "2021-08-09T05:48:03.056873Z",
     "start_time": "2021-08-09T05:46:24.080Z"
    },
    "hidden": true
   },
   "outputs": [],
   "source": [
    "#DONE: showed runtime was roughly independent of bin number\n",
    "# 35.8 #minutes runtime for 40 bins, same for 2000 bins... 2000 bins used for now on"
   ]
  },
  {
   "cell_type": "code",
   "execution_count": null,
   "metadata": {
    "ExecuteTime": {
     "end_time": "2021-08-09T05:48:03.057600Z",
     "start_time": "2021-08-09T05:46:24.088Z"
    },
    "hidden": true
   },
   "outputs": [],
   "source": [
    "#post processing\n",
    "trial_count=len(retval_lst)\n",
    "retval = retval_lst[0]\n",
    "count=1\n",
    "net_bin_count_death, net_bin_count_birth, DT=retval\n",
    "for retval in retval_lst[1:]:\n",
    "    bin_count_death, bin_count_birth, DT_local=retval\n",
    "    if DT==DT_local:\n",
    "        net_bin_count_death+=bin_count_death\n",
    "        net_bin_count_birth+=bin_count_birth   \n",
    "        count+=1\n",
    "\n",
    "assert (count==trial_count)\n",
    "range_values,brate_values,drate_values=comp_bdrates_by_bin(net_bin_count_birth,net_bin_count_death,bin_edges,DT)"
   ]
  },
  {
   "cell_type": "code",
   "execution_count": null,
   "metadata": {
    "ExecuteTime": {
     "end_time": "2021-08-09T05:48:03.058337Z",
     "start_time": "2021-08-09T05:46:24.096Z"
    },
    "hidden": true
   },
   "outputs": [],
   "source": [
    "print(f\"{sum(net_bin_count_death)} spiral tip birth/death events were considered.\")\n"
   ]
  },
  {
   "cell_type": "code",
   "execution_count": null,
   "metadata": {
    "ExecuteTime": {
     "end_time": "2021-08-09T05:48:03.059158Z",
     "start_time": "2021-08-09T05:46:24.107Z"
    },
    "hidden": true
   },
   "outputs": [],
   "source": [
    "#save as .csv in a centralized location with a reasonable name that can be loaded later\n",
    "df=pd.DataFrame({\n",
    "    'r':range_values,\n",
    "    'brate':brate_values,\n",
    "    'drate':drate_values\n",
    "})"
   ]
  },
  {
   "cell_type": "code",
   "execution_count": null,
   "metadata": {
    "ExecuteTime": {
     "end_time": "2021-08-09T05:48:03.060042Z",
     "start_time": "2021-08-09T05:46:24.118Z"
    },
    "hidden": true
   },
   "outputs": [],
   "source": [
    "i=folder.find('Data')\n",
    "data_folder=folder[:i+4]\n",
    "tnl=folder[i+5:].split('/')[:2]\n",
    "trialname=tnl[0]+'_'+tnl[1]\n",
    "trialname=trialname.replace('_','-').lower()\n",
    "save_fn=trialname+f'-nbins-{bin_edges.shape[0]-1}-DT-{DT:.2f}.csv'\n",
    "save_fn"
   ]
  },
  {
   "cell_type": "code",
   "execution_count": null,
   "metadata": {
    "ExecuteTime": {
     "end_time": "2021-05-07T01:45:33.156237Z",
     "start_time": "2021-05-07T01:45:33.127662Z"
    },
    "hidden": true
   },
   "outputs": [],
   "source": []
  },
  {
   "cell_type": "code",
   "execution_count": null,
   "metadata": {
    "ExecuteTime": {
     "end_time": "2021-08-09T05:48:03.060816Z",
     "start_time": "2021-08-09T05:46:24.134Z"
    },
    "hidden": true
   },
   "outputs": [],
   "source": [
    "save_foldername='reaction-ranges'\n",
    "os.chdir(data_folder)\n",
    "if not os.path.exists(save_foldername):\n",
    "    os.mkdir(save_foldername)\n",
    "save_folder=os.path.abspath(save_foldername)\n",
    "os.chdir(save_foldername)\n"
   ]
  },
  {
   "cell_type": "code",
   "execution_count": null,
   "metadata": {
    "ExecuteTime": {
     "end_time": "2021-08-09T05:48:03.061565Z",
     "start_time": "2021-08-09T05:46:24.143Z"
    },
    "hidden": true
   },
   "outputs": [],
   "source": [
    "df.to_csv(save_fn,index=False)\n",
    "print(f\"reaction range results saved in {os.path.abspath(save_fn)}\")"
   ]
  },
  {
   "cell_type": "code",
   "execution_count": null,
   "metadata": {
    "ExecuteTime": {
     "end_time": "2021-08-09T05:48:03.062353Z",
     "start_time": "2021-08-09T05:46:24.152Z"
    },
    "hidden": true
   },
   "outputs": [],
   "source": [
    "#TODO: print a 1 trial sample in Mathematica\n",
    "#TODO: for a 1 trial sample in Mathematica, see what distribution might fit best."
   ]
  },
  {
   "cell_type": "code",
   "execution_count": null,
   "metadata": {
    "ExecuteTime": {
     "end_time": "2021-08-09T05:48:03.063114Z",
     "start_time": "2021-08-09T05:46:24.162Z"
    },
    "hidden": true
   },
   "outputs": [],
   "source": [
    "# bin_count_death, bin_count_birth,DT=comp_bdrange_bincounts(input_fn,bin_edges,ds=5.,width=200.)\n",
    "# range_values,brate_values,drate_values=comp_bdrates_by_bin(bin_count_birth,bin_count_death,bin_edges,DT)\n"
   ]
  },
  {
   "cell_type": "code",
   "execution_count": null,
   "metadata": {
    "ExecuteTime": {
     "end_time": "2021-08-09T05:48:03.063905Z",
     "start_time": "2021-08-09T05:46:24.171Z"
    },
    "hidden": true
   },
   "outputs": [],
   "source": [
    "# df=pd.read_csv(input_fn)\n",
    "# DS=5./200.\n",
    "# DT=compute_DT(df,round_t_to_n_digits=3);print(DT)\n",
    "# #compute interactions\n",
    "# df_interactions=compute_df_interactions(file,DS=DS)\n",
    "# # df_interactions.dropna(inplace=True)\n",
    "# death_ranges=DS*df_interactions.rT.values\n",
    "# birth_ranges=DS*df_interactions.r0.values"
   ]
  },
  {
   "cell_type": "code",
   "execution_count": null,
   "metadata": {
    "ExecuteTime": {
     "end_time": "2021-08-09T05:48:03.064619Z",
     "start_time": "2021-08-09T05:46:24.180Z"
    },
    "hidden": true
   },
   "outputs": [],
   "source": [
    "!ls"
   ]
  },
  {
   "cell_type": "code",
   "execution_count": null,
   "metadata": {
    "ExecuteTime": {
     "end_time": "2021-08-09T05:48:03.065336Z",
     "start_time": "2021-08-09T05:46:24.192Z"
    },
    "hidden": true
   },
   "outputs": [],
   "source": [
    "# list(birth_ranges)\n",
    "os.chdir(save_folder)\n",
    "df=pd.read_csv(save_fn)\n",
    "df.head()\n",
    "range_values=df.r.values\n",
    "brate_values=df.brate.values\n",
    "drate_values=df.drate.values\n",
    "\n",
    "fig,ax=PlotRangesBD(range_values,brate_values,drate_values,DT,fontsize=16,figsize=(7,5))\n",
    "# ax.set_xlim([0,0.5])\n",
    "ax.set_xlim([0,2.])\n",
    "# ax.set_ylim([0,800])\n",
    "# ax.set_yscale('log')\n",
    "print(save_fn)"
   ]
  },
  {
   "cell_type": "code",
   "execution_count": null,
   "metadata": {
    "ExecuteTime": {
     "end_time": "2021-05-07T03:58:23.024010Z",
     "start_time": "2021-05-07T03:58:22.997569Z"
    },
    "hidden": true
   },
   "outputs": [],
   "source": []
  },
  {
   "cell_type": "code",
   "execution_count": null,
   "metadata": {
    "ExecuteTime": {
     "end_time": "2021-05-11T17:27:47.098989Z",
     "start_time": "2021-05-11T17:27:47.080522Z"
    },
    "hidden": true
   },
   "outputs": [],
   "source": []
  },
  {
   "cell_type": "code",
   "execution_count": null,
   "metadata": {
    "ExecuteTime": {
     "end_time": "2021-08-09T05:48:03.066238Z",
     "start_time": "2021-08-09T05:46:24.212Z"
    },
    "hidden": true
   },
   "outputs": [],
   "source": [
    "#for naive sample from the FK model, the extreme value distribution\n",
    "birth_location=0.18335122955448724#cm\n",
    "birth_scale=0.1316063323393546#cm\n",
    "alpha=birth_location\n",
    "beta=birth_scale\n",
    "\n",
    "def comp_extreme_value_pdf(x,alpha,beta):\n",
    "    val=(alpha-x)/beta\n",
    "    p=np.exp(val-np.exp(val))/beta\n",
    "    return p\n",
    "\n",
    "#compare to the functional form of the gumbel distribution\n",
    "def comp_gumbel_pdf(x,alpha,beta):\n",
    "    val=-(alpha-x)/beta\n",
    "    p=np.exp(val-np.exp(val))/beta\n",
    "    return p\n",
    "\n",
    "\n",
    "birth_hat_values=comp_extreme_value_pdf(range_values,alpha,beta)\n",
    "plt.plot(range_values,birth_hat_values)\n",
    "plt.show()"
   ]
  },
  {
   "cell_type": "code",
   "execution_count": null,
   "metadata": {
    "ExecuteTime": {
     "end_time": "2021-08-09T05:48:03.067192Z",
     "start_time": "2021-08-09T05:46:24.221Z"
    },
    "hidden": true
   },
   "outputs": [],
   "source": [
    "def run_reaction_ranges_routine(folder_in):\n",
    "    input_fn_lst_pre=get_files_in_folder(folder_in,trgt='_traj_sr')\n",
    "    input_fn_lst=[]\n",
    "    for input_fn in input_fn_lst_pre:\n",
    "        if input_fn.find('unwrap')==-1:\n",
    "            input_fn_lst.append(input_fn)\n",
    "    if len(input_fn_lst)==0:\n",
    "        return False\n",
    "    \n",
    "    input_fn=input_fn_lst[0]\n",
    "\n",
    "    #get width if specified for a given folder\n",
    "    width=200.\n",
    "    i=folder_in.find('00x')\n",
    "    if i !=-1:\n",
    "        s=folder_in[i+3:]\n",
    "        width=float(eval(s.split('/')[0]))\n",
    "\n",
    "    folder=folder_in # os.path.dirname(input_fn)\n",
    "    df=pd.read_csv(input_fn)\n",
    "    DT=compute_DT(df,round_t_to_n_digits=3)\n",
    "    trialname=os.path.basename(os.path.dirname(folder))\n",
    "    print(f\"there was {DT} ms between observations for the trial run, {trialname}\")\n",
    "\n",
    "    bin_edges=np.arange(0,10.05,0.05) #cm\n",
    "\n",
    "    retval_lst=return_bincounts_bdranges(folder,bin_edges,ds=5.,width=width)\n",
    "    beep(2)\n",
    "\n",
    "    #post processing\n",
    "    trial_count=len(retval_lst)\n",
    "    retval = retval_lst[0]\n",
    "    count=1\n",
    "    net_bin_count_death, net_bin_count_birth, DT=retval\n",
    "    for retval in retval_lst[1:]:\n",
    "        bin_count_death, bin_count_birth, DT_local=retval\n",
    "        if DT==DT_local:\n",
    "            net_bin_count_death+=bin_count_death\n",
    "            net_bin_count_birth+=bin_count_birth\n",
    "            count+=1\n",
    "\n",
    "    assert (count==trial_count)\n",
    "    range_values,brate_values,drate_values=comp_bdrates_by_bin(net_bin_count_birth,net_bin_count_death,bin_edges,DT)\n",
    "\n",
    "    print(f\"N={sum(net_bin_count_death)} spiral tip birth/death events were considered.\")\n",
    "\n",
    "    #save as .csv in a centralized location with a reasonable name that can be loaded later\n",
    "    df=pd.DataFrame({\n",
    "        'r':range_values,\n",
    "        'brate':brate_values,\n",
    "        'drate':drate_values\n",
    "    })\n",
    "\n",
    "    i=folder.find('Data')\n",
    "    data_folder=folder[:i+4]\n",
    "    tnl=folder[i+5:].split('/')[:2]\n",
    "    trialname=tnl[0]+'_'+tnl[1]\n",
    "    trialname=trialname.replace('_','-').lower()\n",
    "    save_fn=trialname+f'-nbins-{bin_edges.shape[0]-1}-DT-{DT:.2f}.csv'\n",
    "\n",
    "    save_foldername='reaction-ranges'\n",
    "    os.chdir(data_folder)\n",
    "    if not os.path.exists(save_foldername):\n",
    "        os.mkdir(save_foldername)\n",
    "    save_folder=os.path.abspath(save_foldername)\n",
    "    os.chdir(save_foldername)\n",
    "\n",
    "    # bin_count_death, bin_count_birth,DT=comp_bdrange_bincounts(input_fn,bin_edges,ds=5.,width=width)\n",
    "    # range_values,brate_values,drate_values=comp_bdrates_by_bin(bin_count_birth,bin_count_death,bin_edges,DT)\n",
    "\n",
    "    df.to_csv(save_fn,index=False)\n",
    "    print(f\"reaction range results saved in {os.path.abspath(save_fn)}\")\n",
    "    return True"
   ]
  },
  {
   "cell_type": "code",
   "execution_count": null,
   "metadata": {
    "ExecuteTime": {
     "end_time": "2021-08-09T05:48:03.068131Z",
     "start_time": "2021-08-09T05:46:24.231Z"
    },
    "hidden": true
   },
   "outputs": [],
   "source": [
    "fig,ax=PlotRangesBD(range_values,brate_values,drate_values,DT,fontsize=16,figsize=(7,5))\n",
    "# ax.set_xlim([0,0.5])\n",
    "ax.set_xlim([0,2.])\n",
    "# ax.set_ylim([0,800])\n",
    "# ax.set_yscale('log')\n",
    "print(save_fn)\n",
    "# plt.close()"
   ]
  },
  {
   "cell_type": "markdown",
   "metadata": {
    "heading_collapsed": true
   },
   "source": [
    "# run range computation for all trial folders"
   ]
  },
  {
   "cell_type": "code",
   "execution_count": null,
   "metadata": {
    "ExecuteTime": {
     "end_time": "2021-08-09T05:48:03.068988Z",
     "start_time": "2021-08-09T05:46:24.242Z"
    },
    "hidden": true
   },
   "outputs": [],
   "source": [
    "from lib.routines.return_reaction_ranges_from_folder import *"
   ]
  },
  {
   "cell_type": "code",
   "execution_count": null,
   "metadata": {
    "ExecuteTime": {
     "end_time": "2021-08-09T05:48:03.069844Z",
     "start_time": "2021-08-09T05:46:24.252Z"
    },
    "hidden": true
   },
   "outputs": [],
   "source": [
    "#DONE: test command line routine\n",
    "#TODO: recursively find all folders  that contain '_traj_' files\n"
   ]
  },
  {
   "cell_type": "code",
   "execution_count": null,
   "metadata": {
    "ExecuteTime": {
     "end_time": "2021-08-09T05:48:03.070672Z",
     "start_time": "2021-08-09T05:46:24.261Z"
    },
    "hidden": true
   },
   "outputs": [],
   "source": [
    "# def directory_find(trgt, root='.'):\n",
    "#     for path, dirs, files in os.walk(root):\n",
    "#         return path"
   ]
  },
  {
   "cell_type": "code",
   "execution_count": null,
   "metadata": {
    "ExecuteTime": {
     "end_time": "2021-08-09T05:48:03.071479Z",
     "start_time": "2021-08-09T05:46:24.269Z"
    },
    "hidden": true
   },
   "outputs": [],
   "source": [
    "# folder_lst=directory_find(trgt='_traj_', root=f'{nb_dir}/Data')\n",
    "# len(folder_lst)"
   ]
  },
  {
   "cell_type": "code",
   "execution_count": null,
   "metadata": {
    "ExecuteTime": {
     "end_time": "2021-08-09T05:48:03.072202Z",
     "start_time": "2021-08-09T05:46:24.279Z"
    },
    "hidden": true
   },
   "outputs": [],
   "source": [
    "def get_folders_directly_containing_trgt(rootdir,trgt):\n",
    "    '''\n",
    "    Example Usage:\n",
    "    rootdir=f'{nb_dir}/Data'\n",
    "    trgt='_traj_'\n",
    "    folder_lst=get_folder_directly_containing_trgt(rootdir,trgt)\n",
    "    '''\n",
    "    folder_lst=[]\n",
    "    for path, dirs, files in os.walk(rootdir):\n",
    "        input_fn_lst=get_files_in_folder(path,trgt=trgt)\n",
    "        if len(input_fn_lst)>0:\n",
    "            folder_lst.append(path)\n",
    "    return folder_lst"
   ]
  },
  {
   "cell_type": "code",
   "execution_count": null,
   "metadata": {
    "ExecuteTime": {
     "end_time": "2021-08-09T05:48:03.073093Z",
     "start_time": "2021-08-09T05:46:24.289Z"
    },
    "hidden": true
   },
   "outputs": [],
   "source": [
    "rootdir=f'{nb_dir}/Data'\n",
    "trgt='_traj_sr'\n",
    "folder_lst=get_folders_directly_containing_trgt(rootdir,trgt)"
   ]
  },
  {
   "cell_type": "code",
   "execution_count": null,
   "metadata": {
    "ExecuteTime": {
     "end_time": "2021-08-09T05:48:03.073862Z",
     "start_time": "2021-08-09T05:46:24.300Z"
    },
    "hidden": true
   },
   "outputs": [],
   "source": [
    "len(folder_lst)"
   ]
  },
  {
   "cell_type": "code",
   "execution_count": null,
   "metadata": {
    "ExecuteTime": {
     "end_time": "2021-08-09T05:48:03.074673Z",
     "start_time": "2021-08-09T05:46:24.311Z"
    },
    "hidden": true
   },
   "outputs": [],
   "source": [
    "folder_\n",
    "for folder in folder_lst:\n",
    "    run_reaction_ranges_routine(folder)\n",
    "    print('')"
   ]
  },
  {
   "cell_type": "code",
   "execution_count": null,
   "metadata": {
    "ExecuteTime": {
     "end_time": "2021-08-09T05:48:03.075525Z",
     "start_time": "2021-08-09T05:46:24.322Z"
    },
    "hidden": true
   },
   "outputs": [],
   "source": [
    "#exclude the trial that raised a TypeError for non-iterable NoneType object...\n",
    "n_found=-9999\n",
    "for n,folder in enumerate(folder_lst):\n",
    "    j=folder.find('600x600')\n",
    "    if j!=-1:\n",
    "        n_found=n\n",
    "        j_found=j\n",
    "n_found"
   ]
  },
  {
   "cell_type": "code",
   "execution_count": null,
   "metadata": {
    "ExecuteTime": {
     "end_time": "2021-08-09T05:48:03.076221Z",
     "start_time": "2021-08-09T05:46:24.333Z"
    },
    "hidden": true
   },
   "outputs": [],
   "source": [
    "folder_lst_neu=folder_lst[n_found+2:]\n",
    "for folder in folder_lst_neu:\n",
    "    run_reaction_ranges_routine(folder)\n",
    "    print('')"
   ]
  },
  {
   "cell_type": "code",
   "execution_count": null,
   "metadata": {
    "ExecuteTime": {
     "end_time": "2021-08-09T05:48:03.077014Z",
     "start_time": "2021-08-09T05:46:24.343Z"
    },
    "hidden": true
   },
   "outputs": [],
   "source": [
    "print(save_folder)\n",
    "file=f\"/home/timothytyree/Documents/GitHub/care/notebooks/Data/reaction-ranges/initial-conditions-fk-200x200-param-set-8-ds-5.0-tmax-10-diffcoef-0.0005-nbins-200-DT-0.40.csv\"\n",
    "file=f\"/home/timothytyree/Documents/GitHub/care/notebooks/Data/reaction-ranges/initial-conditions-fk-200x200-param-set-8-ds-5.0-tmax-10-diffcoef-0.0005-nbins-200-DT-0.40.csv\"\n",
    "DT=0.4\n",
    "\n",
    "# list(birth_ranges)\n",
    "os.chdir(save_folder)\n",
    "df=pd.read_csv(file)\n",
    "print(df.r.values.shape[0])\n",
    "range_values=df.r.values\n",
    "brate_values=df.brate.values\n",
    "drate_values=df.drate.values\n",
    "\n",
    "fig,ax=PlotRangesBD(range_values,brate_values,drate_values,DT,fontsize=16,figsize=(7,5))\n",
    "# ax.set_xlim([0,0.5])\n",
    "ax.set_xlim([0,2.])\n",
    "# ax.set_ylim([0,800])\n",
    "# ax.set_yscale('log')\n",
    "print(file)"
   ]
  },
  {
   "cell_type": "code",
   "execution_count": null,
   "metadata": {
    "ExecuteTime": {
     "end_time": "2021-08-09T05:48:03.077850Z",
     "start_time": "2021-08-09T05:46:24.353Z"
    },
    "hidden": true
   },
   "outputs": [],
   "source": [
    "file=\"/home/timothytyree/Documents/GitHub/care/notebooks/Data/reaction-ranges/initial-conditions-suite-3-lr-ds-5-param-qu-tmax-1-nbins-200-DT-2.00.csv\"\n",
    "print(save_folder)\n",
    "DT=2.0\n",
    "\n",
    "os.chdir(save_folder)\n",
    "df=pd.read_csv(file)\n",
    "print(df.r.values.shape[0])\n",
    "range_values=df.r.values\n",
    "brate_values=df.brate.values\n",
    "drate_values=df.drate.values\n",
    "\n",
    "fig,ax=PlotRangesBD(range_values,brate_values,drate_values,DT,fontsize=16,figsize=(7,5))\n",
    "# ax.set_xlim([0,0.5])\n",
    "ax.set_xlim([0,2.])\n",
    "# ax.set_ylim([0,800])\n",
    "# ax.set_yscale('log')\n",
    "print(file)\n"
   ]
  },
  {
   "cell_type": "code",
   "execution_count": null,
   "metadata": {
    "ExecuteTime": {
     "end_time": "2021-08-09T05:48:03.078669Z",
     "start_time": "2021-08-09T05:46:24.362Z"
    },
    "hidden": true
   },
   "outputs": [],
   "source": [
    "os.chdir(save_folder)\n",
    "!pwd"
   ]
  },
  {
   "cell_type": "code",
   "execution_count": null,
   "metadata": {
    "ExecuteTime": {
     "end_time": "2021-08-09T05:48:03.079510Z",
     "start_time": "2021-08-09T05:46:24.373Z"
    },
    "hidden": true
   },
   "outputs": [],
   "source": [
    "!ls"
   ]
  },
  {
   "cell_type": "markdown",
   "metadata": {
    "heading_collapsed": true
   },
   "source": [
    "# TODO: use MLE on a visually reasonable sample of (i) the LR model \n",
    "and then,\n",
    "- TODO: make .h header file for GEV reaction rates\n",
    "- and (ii,later) the FK model"
   ]
  },
  {
   "cell_type": "code",
   "execution_count": null,
   "metadata": {
    "ExecuteTime": {
     "end_time": "2021-08-09T05:48:03.080452Z",
     "start_time": "2021-08-09T05:46:24.387Z"
    },
    "hidden": true
   },
   "outputs": [],
   "source": [
    "from scipy.stats import genextreme\n",
    "from lib.routines.return_reaction_ranges_from_folder import PlotRangesBD"
   ]
  },
  {
   "cell_type": "code",
   "execution_count": null,
   "metadata": {
    "ExecuteTime": {
     "end_time": "2021-08-09T05:48:03.081436Z",
     "start_time": "2021-08-09T05:46:24.397Z"
    },
    "hidden": true
   },
   "outputs": [],
   "source": [
    "#TODO: load small data set for LR\n",
    "file=\"/home/timothytyree/Documents/GitHub/care/notebooks/Data/reaction-ranges/initial-conditions-suite-3-lr-ds-5-param-qu-tmax-1-nbins-200-DT-2.00.csv\"\n",
    "save_folder=f\"/home/timothytyree/Documents/GitHub/care/notebooks/Data/reaction-ranges\"\n",
    "print(save_folder)\n",
    "DT=2.0\n",
    "\n",
    "os.chdir(save_folder)\n",
    "df=pd.read_csv(file)\n",
    "print(df.r.values.shape[0])\n",
    "range_values=df.r.values\n",
    "brate_values=df.brate.values\n",
    "drate_values=df.drate.values\n",
    "\n",
    "fig,ax=PlotRangesBD(range_values,brate_values,drate_values,DT,fontsize=16,figsize=(7,5))\n",
    "# ax.set_xlim([0,0.5])\n",
    "ax.set_xlim([0,2.])\n",
    "# ax.set_ylim([0,800])\n",
    "# ax.set_yscale('log')\n",
    "print(file)\n"
   ]
  },
  {
   "cell_type": "code",
   "execution_count": null,
   "metadata": {
    "ExecuteTime": {
     "end_time": "2021-08-09T05:48:03.082812Z",
     "start_time": "2021-08-09T05:46:24.407Z"
    },
    "hidden": true
   },
   "outputs": [],
   "source": [
    "#TODO: find if I can initialize genextreme.fit with reasonable values\n",
    "genextreme.fit?"
   ]
  },
  {
   "cell_type": "code",
   "execution_count": null,
   "metadata": {
    "ExecuteTime": {
     "end_time": "2021-08-09T05:48:03.084015Z",
     "start_time": "2021-08-09T05:46:24.417Z"
    },
    "hidden": true
   },
   "outputs": [],
   "source": [
    "#fit distributions\n",
    "dargs=genextreme.fit(drate_values)\n",
    "bargs=genextreme.fit(brate_values)\n",
    "\n",
    "dshape,dloc,dscale=genextreme.fit(-drate_values)\n",
    "bshape,bloc,bscale=genextreme.fit(-brate_values)\n",
    "\n",
    "print( bargs  , dargs)\n",
    "\n",
    "#print the entropy of either fit\n",
    "print( genextreme.entropy(*bargs)  , genextreme.entropy(*dargs))"
   ]
  },
  {
   "cell_type": "code",
   "execution_count": null,
   "metadata": {
    "ExecuteTime": {
     "end_time": "2021-05-11T00:44:13.078494Z",
     "start_time": "2021-05-11T00:44:13.057092Z"
    },
    "hidden": true
   },
   "outputs": [],
   "source": []
  },
  {
   "cell_type": "code",
   "execution_count": null,
   "metadata": {
    "hidden": true
   },
   "outputs": [],
   "source": []
  },
  {
   "cell_type": "code",
   "execution_count": null,
   "metadata": {
    "ExecuteTime": {
     "end_time": "2021-08-09T05:48:03.084918Z",
     "start_time": "2021-08-09T05:46:24.438Z"
    },
    "hidden": true
   },
   "outputs": [],
   "source": [
    "def comp_stats(data):\n",
    "    return np.mean(data),np.var(data),stats.kurtosis(data),stats.skew(data)"
   ]
  },
  {
   "cell_type": "code",
   "execution_count": null,
   "metadata": {
    "ExecuteTime": {
     "end_time": "2021-08-09T05:48:03.085711Z",
     "start_time": "2021-08-09T05:46:24.448Z"
    },
    "hidden": true
   },
   "outputs": [],
   "source": [
    "data=drate_values\n",
    "mean, var, skew, kurt = comp_stats(data)\n",
    "print(mean, var, skew, kurt)\n",
    "# #compare to fits\n",
    "# mean, var, skew, kurt = genextreme.stats(dargs[0],loc=dargs[1],scale=dargs[2], moments='mvsk')\n",
    "mean, var, skew, kurt = genextreme.stats(*dargs, moments='mvsk')\n",
    "print(mean, var, skew, kurt)"
   ]
  },
  {
   "cell_type": "code",
   "execution_count": null,
   "metadata": {
    "ExecuteTime": {
     "end_time": "2021-08-09T05:48:03.086738Z",
     "start_time": "2021-08-09T05:46:24.459Z"
    },
    "hidden": true
   },
   "outputs": [],
   "source": [
    "(x, c, loc=0, scale=1)"
   ]
  },
  {
   "cell_type": "code",
   "execution_count": null,
   "metadata": {
    "ExecuteTime": {
     "end_time": "2021-08-09T05:48:03.087666Z",
     "start_time": "2021-08-09T05:46:24.470Z"
    },
    "hidden": true
   },
   "outputs": [],
   "source": [
    "c = -0.1\n",
    "mean, var, skew, kurt = genextreme.stats(c, moments='mvsk')\n",
    "\n",
    "# Display the probability density function (``pdf``):\n",
    "\n",
    "x = np.linspace(genextreme.ppf(0.01, c),\n",
    "                 genextreme.ppf(0.99, c), 100)\n",
    "plt.plot(x, genextreme.pdf(x, c),\n",
    "        'r-', lw=5, alpha=0.6, label='genextreme pdf')\n",
    "plt.show()"
   ]
  },
  {
   "cell_type": "code",
   "execution_count": null,
   "metadata": {
    "ExecuteTime": {
     "end_time": "2021-08-09T05:48:03.088667Z",
     "start_time": "2021-08-09T05:46:24.483Z"
    },
    "hidden": true
   },
   "outputs": [],
   "source": [
    "# c = -0.1\n",
    "c=bshape\n",
    "mean, var, skew, kurt = genextreme.stats(c, moments='mvsk')\n",
    "\n",
    "# Display the probability density function (``pdf``):\n",
    "\n",
    "# x = np.linspace(genextreme.ppf(0.01, c),\n",
    "#                  genextreme.ppf(0.99, c), 100)\n",
    "x=x_values\n",
    "y= genextreme.pdf(x, c,loc=bloc,scale=bscale)\n",
    "plt.plot(x,y, 'r-', lw=5, alpha=0.6, label='genextreme pdf')\n",
    "plt.show()\n"
   ]
  },
  {
   "cell_type": "code",
   "execution_count": null,
   "metadata": {
    "ExecuteTime": {
     "end_time": "2021-08-09T05:48:03.089865Z",
     "start_time": "2021-08-09T05:46:24.492Z"
    },
    "hidden": true
   },
   "outputs": [],
   "source": [
    "mean, var, skew, kurt"
   ]
  },
  {
   "cell_type": "code",
   "execution_count": null,
   "metadata": {
    "ExecuteTime": {
     "end_time": "2021-08-09T05:48:03.090900Z",
     "start_time": "2021-08-09T05:46:24.502Z"
    },
    "hidden": true
   },
   "outputs": [],
   "source": [
    "#evaluate the fits\n",
    "x_values=np.arange(0,2.01,0.01)\n",
    "yb_values=genextreme.pdf(x_values,*bargs)*500#/2*10**3\n",
    "yd_values=genextreme.pdf(x_values,*dargs)*500#/2*10**3\n",
    "# print(yd_values)\n",
    "\n",
    "#plot the fits\n",
    "fig,ax=PlotRangesBD(range_values,brate_values,drate_values,DT,fontsize=16,figsize=(7,5))\n",
    "ax.plot(x_values,yb_values,c='g')\n",
    "ax.plot(x_values,yd_values,c='r')\n",
    "\n",
    "# ax.set_xlim([0,0.5])\n",
    "ax.set_xlim([0,2.])\n",
    "ax.set_ylim([0,1500])\n",
    "# ax.set_yscale('log')\n",
    "print(file)\n"
   ]
  },
  {
   "cell_type": "code",
   "execution_count": null,
   "metadata": {
    "ExecuteTime": {
     "end_time": "2021-08-09T05:48:03.092140Z",
     "start_time": "2021-08-09T05:46:24.513Z"
    },
    "hidden": true
   },
   "outputs": [],
   "source": [
    "#TODO: load large data set for LR"
   ]
  },
  {
   "cell_type": "code",
   "execution_count": null,
   "metadata": {
    "ExecuteTime": {
     "end_time": "2021-08-09T05:48:03.093071Z",
     "start_time": "2021-08-09T05:46:24.523Z"
    },
    "hidden": true
   },
   "outputs": [],
   "source": [
    "#for naive sample from the FK model, the extreme value distribution\n",
    "birth_location=0.18335122955448724#cm\n",
    "birth_scale=0.1316063323393546#cm\n",
    "alpha=birth_location\n",
    "beta=birth_scale\n",
    "\n",
    "def comp_extreme_value_pdf(x,alpha,beta):\n",
    "    val=(alpha-x)/beta\n",
    "    p=np.exp(val-np.exp(val))/beta\n",
    "    return p\n",
    "\n",
    "#compare to the functional form of the gumbel distribution\n",
    "def comp_gumbel_pdf(x,alpha,beta):\n",
    "    val=-(alpha-x)/beta\n",
    "    p=np.exp(val-np.exp(val))/beta\n",
    "    return p\n",
    "\n",
    "birth_hat_values=comp_extreme_value_pdf(range_values,alpha,beta)*500\n",
    "plt.plot(range_values,birth_hat_values)\n",
    "plt.show()"
   ]
  },
  {
   "cell_type": "code",
   "execution_count": null,
   "metadata": {
    "ExecuteTime": {
     "end_time": "2021-08-09T05:48:03.094294Z",
     "start_time": "2021-08-09T05:46:24.533Z"
    },
    "hidden": true
   },
   "outputs": [],
   "source": [
    "from scipy.stats import genextreme\n",
    "import matplotlib.pyplot as plt\n",
    "\n",
    "birth_location=0.18335122955448724#cm\n",
    "birth_scale=0.1316063323393546#cm\n",
    "\n",
    "death_location=0.25#8335122955448724#cm\n",
    "death_scale=0.13#316063323393546#cm\n",
    "\n",
    "# fig, ax = plt.subplots(1, 1)\n",
    "# Calculate a few first moments:\n",
    "\n",
    "fig,ax=PlotRangesBD(range_values,brate_values,drate_values,DT,fontsize=16,figsize=(7,5))\n",
    "\n",
    "# >>>\n",
    "c =-.0\n",
    "# mean, var, skew, kurt = genextreme.stats(c, moments='mvsk')\n",
    "# Display the probability density function (pdf):\n",
    "\n",
    "# >>>\n",
    "x = x_values#np.linspace(genextreme.ppf(0.01, c),genextreme.ppf(0.99, c), 100)\n",
    "# ax.plot(x, genextreme.pdf(x, c,loc=birth_location,scale=birth_scale)*500,\n",
    "ax.plot(x, genextreme.pdf(x, c,loc=death_location,scale=death_scale)*500,\n",
    "       'r-', lw=5, alpha=0.6, label='genextreme pdf')\n",
    "\n",
    "ax.set_xlim([0,2])\n",
    "plt.show()"
   ]
  },
  {
   "cell_type": "code",
   "execution_count": null,
   "metadata": {
    "ExecuteTime": {
     "end_time": "2021-08-09T05:48:03.095916Z",
     "start_time": "2021-08-09T05:46:24.542Z"
    },
    "hidden": true
   },
   "outputs": [],
   "source": [
    "# TODO: measure shape coefficient for death rate\n",
    "# TODO: compute death_loc,scale"
   ]
  },
  {
   "cell_type": "code",
   "execution_count": null,
   "metadata": {
    "ExecuteTime": {
     "end_time": "2021-08-09T05:48:03.097309Z",
     "start_time": "2021-08-09T05:46:24.552Z"
    },
    "hidden": true
   },
   "outputs": [],
   "source": [
    "drate_values"
   ]
  },
  {
   "cell_type": "code",
   "execution_count": null,
   "metadata": {
    "ExecuteTime": {
     "end_time": "2021-08-09T05:48:03.098482Z",
     "start_time": "2021-08-09T05:46:24.563Z"
    },
    "hidden": true
   },
   "outputs": [],
   "source": [
    "input_fn=search_for_file()\n",
    "DS=5./200.\n",
    "#compute interactions\n",
    "df_interactions=compute_df_interactions(input_fn,DS=DS)\n",
    "# df_interactions.dropna(inplace=True)\n",
    "death_ranges=DS*df_interactions.rT.values\n",
    "birth_ranges=DS*df_interactions.r0.values\n",
    "\n",
    "plt.hist(birth_ranges,color='green',alpha=0.5,bins=40)\n",
    "plt.hist(death_ranges,color='red',alpha=0.5,bins=40)\n",
    "plt.show()"
   ]
  },
  {
   "cell_type": "code",
   "execution_count": null,
   "metadata": {
    "ExecuteTime": {
     "end_time": "2021-08-09T05:48:03.099452Z",
     "start_time": "2021-08-09T05:46:24.572Z"
    },
    "hidden": true
   },
   "outputs": [],
   "source": [
    "input_fn=search_for_file()\n",
    "DS=5./200.\n",
    "#compute interactions\n",
    "df_interactions=compute_df_interactions(input_fn,DS=DS)\n",
    "# df_interactions.dropna(inplace=True)\n",
    "death_ranges=DS*df_interactions.rT.values\n",
    "birth_ranges=DS*df_interactions.r0.values\n",
    "\n",
    "plt.hist(birth_ranges,color='green',alpha=0.5,bins=40)\n",
    "plt.hist(death_ranges,color='red',alpha=0.5,bins=40)\n",
    "plt.show()"
   ]
  },
  {
   "cell_type": "code",
   "execution_count": null,
   "metadata": {
    "ExecuteTime": {
     "end_time": "2021-08-09T05:48:03.100248Z",
     "start_time": "2021-08-09T05:46:24.582Z"
    },
    "hidden": true
   },
   "outputs": [],
   "source": [
    "from scipy.stats import genextreme\n",
    "import matplotlib.pyplot as plt\n",
    "fig, ax = plt.subplots(1, 1)\n",
    "# Calculate a few first moments:\n",
    "\n",
    "# >>>\n",
    "c = -0.1\n",
    "mean, var, skew, kurt = genextreme.stats(c, moments='mvsk')\n",
    "# Display the probability density function (pdf):\n",
    "\n",
    "# >>>\n",
    "x = np.linspace(genextreme.ppf(0.01, c),\n",
    "                genextreme.ppf(0.99, c), 100)\n",
    "ax.plot(x, genextreme.pdf(x, c),\n",
    "       'r-', lw=5, alpha=0.6, label='genextreme pdf')\n",
    "# Alternatively, the distribution object can be called (as a function) to fix the shape, location and scale parameters. This returns a “frozen” RV object holding the given parameters fixed.\n",
    "\n",
    "# Freeze the distribution and display the frozen pdf:\n",
    "\n",
    "# >>>\n",
    "rv = genextreme(c)\n",
    "ax.plot(x, rv.pdf(x), 'k-', lw=2, label='frozen pdf')\n",
    "\n",
    "vals = genextreme.ppf([0.001, 0.5, 0.999], c)\n",
    "np.allclose([0.001, 0.5, 0.999], genextreme.cdf(vals, c))\n",
    "\n",
    "\n",
    "r = genextreme.rvs(c, size=1000)\n",
    "# And compare the histogram:\n",
    "\n",
    "ax.hist(r, density=True, histtype='stepfilled', alpha=0.2)\n",
    "ax.legend(loc='best', frameon=False)\n",
    "plt.show()\n"
   ]
  },
  {
   "cell_type": "markdown",
   "metadata": {
    "heading_collapsed": true
   },
   "source": [
    "# DONE: test rrate_gev.h before implementing it in c..."
   ]
  },
  {
   "cell_type": "code",
   "execution_count": null,
   "metadata": {
    "ExecuteTime": {
     "end_time": "2021-08-09T05:48:03.100967Z",
     "start_time": "2021-08-09T05:46:24.596Z"
    },
    "hidden": true
   },
   "outputs": [],
   "source": [
    "def comp_gen_extreme_value_pdf(x,shape,location,scale):\n",
    "    shape=-1.*shape\n",
    "    val=(x-location)/scale\n",
    "    #compute t(x)\n",
    "    if shape==0:\n",
    "        t=np.exp(-val)\n",
    "    else:\n",
    "        t=(1.+shape*val)**(-1./shape)\n",
    "    #compute pdf\n",
    "    p=t**(shape+1.)*np.exp(-1*t)/scale\n",
    "    return p\n",
    "\n",
    "def comp_rrate_gev(x,shape,location,scale,rate0):\n",
    "    return rate0*comp_gen_extreme_value_pdf(x,shape,location,scale)\n",
    "    \n",
    "# from inspect import getsource\n",
    "# print(getsource(genextreme.pdf))"
   ]
  },
  {
   "cell_type": "code",
   "execution_count": null,
   "metadata": {
    "hidden": true
   },
   "outputs": [],
   "source": []
  },
  {
   "cell_type": "code",
   "execution_count": null,
   "metadata": {
    "ExecuteTime": {
     "end_time": "2021-08-09T05:48:03.102192Z",
     "start_time": "2021-08-09T05:46:24.612Z"
    },
    "hidden": true
   },
   "outputs": [],
   "source": [
    "from scipy.stats import genextreme\n",
    "import matplotlib.pyplot as plt\n",
    "\n",
    "birth_location=0.18335122955448724#cm\n",
    "birth_scale=0.1316063323393546#cm\n",
    "\n",
    "death_location=0.25#8335122955448724#cm\n",
    "death_scale=0.13#316063323393546#cm\n",
    "\n",
    "# fig, ax = plt.subplots(1, 1)\n",
    "# Calculate a few first moments:\n",
    "\n",
    "fig,ax=PlotRangesBD(range_values,brate_values,drate_values,DT,fontsize=16,figsize=(7,5))\n",
    "\n",
    "# >>>\n",
    "c =-.3\n",
    "# mean, var, skew, kurt = genextreme.stats(c, moments='mvsk')\n",
    "# Display the probability density function (pdf):\n",
    "\n",
    "# >>>\n",
    "x = x_values#np.linspace(genextreme.ppf(0.01, c),genextreme.ppf(0.99, c), 100)\n",
    "# ax.plot(x, genextreme.pdf(x, c,loc=birth_location,scale=birth_scale)*500,\n",
    "ax.plot(x, genextreme.pdf(x, c,loc=death_location,scale=death_scale)*500,\n",
    "       'r-', lw=5, alpha=0.6, label='genextreme pdf')\n",
    "\n",
    "y=comp_rrate_gev(x,shape=c,location=death_location,scale=death_scale,rate0=500.)\n",
    "ax.plot(x, y,\n",
    "       'r--', lw=5, alpha=0.6, label='rrate_gev test')\n",
    "\n",
    "ax.set_xlim([0,2])\n",
    "plt.show()"
   ]
  },
  {
   "cell_type": "code",
   "execution_count": null,
   "metadata": {
    "ExecuteTime": {
     "end_time": "2021-08-09T05:48:03.103193Z",
     "start_time": "2021-08-09T05:46:24.623Z"
    },
    "hidden": true
   },
   "outputs": [],
   "source": [
    "PlotRangesBD"
   ]
  },
  {
   "cell_type": "markdown",
   "metadata": {},
   "source": [
    "# estimate kappa for r fixed via direct computation from particle trajectories"
   ]
  },
  {
   "cell_type": "code",
   "execution_count": 2,
   "metadata": {
    "ExecuteTime": {
     "end_time": "2021-08-24T02:14:56.757451Z",
     "start_time": "2021-08-24T02:14:56.732649Z"
    }
   },
   "outputs": [],
   "source": [
    "def print_termination_time(input_fn,t_col='t',tscale=0.001,printing=True,**kwargs):\n",
    "    tt=pd.read_csv(input_fn)[t_col].max()*tscale\n",
    "    if printing:\n",
    "        print(f\"the termination time was {tt:.3f} seconds.\")\n",
    "    return tt\n",
    "\n",
    "\n",
    "def compute_kappa_vs_r(input_fn,r_values,DT,**kwargs):\n",
    "    routine_traj_to_annihilation=get_routine_traj_to_annihilation(**kwargs)\n",
    "    output_fn=routine_traj_to_annihilation(input_fn)\n",
    "    if not os.path.exists(output_fn):\n",
    "        return None\n",
    "    #do i have one event in output_fn? yes.\n",
    "    df=pd.read_csv(output_fn)\n",
    "    t_col='tdeath'\n",
    "    #find the valid event id's\n",
    "    df=compute_event_id(pd.read_csv(output_fn).reset_index(drop=True),input_fn,pid_col='pid',t_col='tdeath')\n",
    "    # df=pd.read_csv(output_fn)\n",
    "    navg1=int(tavg1/DT)\n",
    "    if printing:\n",
    "        print(f\"there were {len(list(set(df['pid'].values)))} valid annihilations found...\")\n",
    "        print(f\"tavg1={DT*navg1} ms\")\n",
    "    df.sort_values([id_col, t_col], ascending=False, inplace=True)\n",
    "    tvals = sorted(set(df[t_col].values))\n",
    "    DT = tvals[1] - tvals[0]\n",
    "    event_id_lst = sorted(set(df[id_col].values))\n",
    "    valid_event_id_lst=filter_events_ending_at_large_range(df,rdeath_thresh=rdeath_thresh)\n",
    "    invalid_event_id_lst=find_events_insufficient_size(df,size_thresh=size_thresh)\n",
    "    valid_event_id_lst=list(set(valid_event_id_lst).difference(set(invalid_event_id_lst)))\n",
    "    if printing:\n",
    "        print(f\"{len(event_id_lst)} annihilation events are inputed\")\n",
    "        print(f\"{len(valid_event_id_lst)} annihilation events end at a range smaller than {rdeath_thresh} cm.\")\n",
    "\n",
    "    #smooth data\n",
    "    df = moving_average_of_events(df, valid_event_id_lst, navg=navg1, id_col=id_col, t_col=t_col)\n",
    "    valid_event_id_lst=filter_events_ending_at_large_range(df,rdeath_thresh=rdeath_thresh)\n",
    "    invalid_event_id_lst=find_events_insufficient_size(df,size_thresh=size_thresh)\n",
    "    valid_event_id_lst=list(set(valid_event_id_lst).difference(set(invalid_event_id_lst)))\n",
    "\n",
    "    #TODO(after the following): find out why I'm only getting 1 annihilation event for this FK trial...\n",
    "\n",
    "    #for each valid_event_id:\n",
    "    #select the event values\n",
    "    if len(valid_event_id_lst)==0:\n",
    "        return None\n",
    "    event_id=valid_event_id_lst[0]\n",
    "    d=df[df[id_col]==event_id]\n",
    "    R_values=d['r'].values\n",
    "    tdeath_values=d['tdeath'].values\n",
    "\n",
    "    tau_lst=[];r_lst=[]\n",
    "    for r in r_values:\n",
    "        #find the latest observation that this event passes r for r in an array of r_values\n",
    "        boo=R_values>=r\n",
    "        if boo.any():\n",
    "            index_last_further_than_r=int(np.argwhere(boo)[-1])\n",
    "            tdeath_last_further_than_r=tdeath_values[index_last_further_than_r] #milliseconds\n",
    "            tau=tdeath_last_further_than_r\n",
    "            tau_lst.append(tau)\n",
    "            r_lst.append(r)\n",
    "    r_values=np.array(r_lst)\n",
    "    tau_values=np.array(tau_lst)\n",
    "    dict_out={'r':r_values,'tau':tau_values}\n",
    "    return dict_out"
   ]
  },
  {
   "cell_type": "markdown",
   "metadata": {
    "heading_collapsed": true
   },
   "source": [
    "## for the FK model"
   ]
  },
  {
   "cell_type": "code",
   "execution_count": 104,
   "metadata": {
    "ExecuteTime": {
     "end_time": "2021-08-24T03:08:07.923336Z",
     "start_time": "2021-08-24T03:08:07.415076Z"
    },
    "hidden": true
   },
   "outputs": [
    {
     "name": "stdout",
     "output_type": "stream",
     "text": [
      "the termination time was 1.479 seconds.\n"
     ]
    }
   ],
   "source": [
    "#load a given file of trajectories\n",
    "# input_fn=search_for_file()\n",
    "\n",
    "# from the FK model with DT=0.025ms\n",
    "input_fn=\"/home/timothytyree/Documents/GitHub/care/notebooks/Data/initial-conditions-fk-200x200/param_set_8_ds_5.0_tmax_30_diffCoef_0.001_dt_0.025/trajectories/ic200x200.0.4_traj_sr_600_mem_0.csv\"\n",
    "# # from the LR model with DT=0.025ms\n",
    "# input_fn=\"/home/timothytyree/Documents/GitHub/care/notebooks/Data/initial-conditions-suite-3-LR/param_qu_tmax_30_Ko_5.4_diffCoef_0.0005_dt_0.025/trajectories/ic001.22_traj_sr_600_mem_0.csv\"\n",
    "ds=5\n",
    "width=200\n",
    "DT=0.025#ms\n",
    "pid_col='particle'\n",
    "t_col='t'\n",
    "id_col='event_id'\n",
    "t_col='t'\n",
    "\n",
    "\n",
    "#print the termination time\n",
    "print_termination_time(input_fn);"
   ]
  },
  {
   "cell_type": "code",
   "execution_count": null,
   "metadata": {
    "hidden": true
   },
   "outputs": [],
   "source": []
  },
  {
   "cell_type": "code",
   "execution_count": 105,
   "metadata": {
    "ExecuteTime": {
     "end_time": "2021-08-24T03:08:11.504124Z",
     "start_time": "2021-08-24T03:08:11.018518Z"
    },
    "hidden": true
   },
   "outputs": [
    {
     "name": "stdout",
     "output_type": "stream",
     "text": [
      "termination time was 1479.45 ms\n",
      "printing summary stats on particle lifetimes\n",
      "count      46.000000\n",
      "mean      159.690217\n",
      "std       304.893103\n",
      "min        -0.000000\n",
      "25%         1.006250\n",
      "50%        34.937500\n",
      "75%       135.818750\n",
      "max      1288.550000\n",
      "Name: min, dtype: float64\n",
      "\n",
      "Please make a manual decision about minimum_lifetime, crop_start_by, and crop_end_by\n"
     ]
    }
   ],
   "source": [
    "#print summary stats on particle lifetimes for one input folder\n",
    "df=pd.read_csv(input_fn)\n",
    "dft=df.groupby(pid_col)[t_col].describe()\n",
    "df_lifetimes=-dft[['max','min']].T.diff().loc['min']\n",
    "print(f\"termination time was {df[t_col].max():.2f} ms\")\n",
    "\n",
    "print(f\"printing summary stats on particle lifetimes\")# for one input folder in {trial_folder_name}:\")\n",
    "print(df_lifetimes.describe())\n",
    "# print(df_lifetimes.head(10))\n",
    "print(\"\\nPlease make a manual decision about minimum_lifetime, crop_start_by, and crop_end_by\")"
   ]
  },
  {
   "cell_type": "code",
   "execution_count": 112,
   "metadata": {
    "ExecuteTime": {
     "end_time": "2021-08-24T03:09:02.250849Z",
     "start_time": "2021-08-24T03:09:02.196281Z"
    },
    "hidden": true
   },
   "outputs": [],
   "source": [
    "# compute Rkappa versus r\n",
    "#full model lr (and fk)\n",
    "min_duration=20#50##20. #ms\n",
    "min_range   =.1#1.#.2#  #cm  # a pair of particles is considered if their max distance is at least min_range\n",
    "filter_beginning=True #i think this does nothing...\n",
    "use_min_duration=False\n",
    "use_grad_voltage=True\n",
    "printing=False\n",
    "range_threshold=.5#0.1 #cm #filter any deaths occurring at ranges exceeding range_threshold\n",
    "tmin=100#ms\n",
    "max_dur=500#150#ms#150# #consider no more than the last max_dur milliseconds of either trajectory\n",
    "round_t_to_n_digits=5\n",
    "tavg1=0.5 #s\n",
    "navg1=int(tavg1/DT)\n",
    "rdeath_thresh=0.7\n",
    "size_thresh=100\n",
    "r_values=np.arange(0.01,1.01,0.01) #cm :: the fixed reaction range\n",
    "height=width\n",
    "\n",
    "# # #particle model\n",
    "# min_duration=40  #20. #ms # a pair of particles is considered if their lifetime is at least min_range\n",
    "# min_range   =0  #cm  # a pair of particles is considered if their max distance is at least min_range\n",
    "# filter_beginning=True\n",
    "# use_min_duration=True\n",
    "# use_grad_voltage=False\n",
    "# range_threshold=10 #cm #filter any deaths occurring at ranges exceeding range_threshold\n",
    "# round_t_to_n_digits=5\n",
    "# tmin=0.  #filter all times earlier than tmin? i think so?\n",
    "# max_dur=0.#ms\n",
    "\n",
    "npartitions=os.cpu_count()\n",
    "\n",
    "kwargs={\n",
    "    'width':width,\n",
    "    'height':height,\n",
    "    'ds':ds,\n",
    "    'printing':False,\n",
    "    'min_range':min_range,\n",
    "    'min_duration':min_duration,\n",
    "    'npartitions':npartitions,\n",
    "    'filter_beginning':filter_beginning,\n",
    "    'use_grad_voltage':use_grad_voltage,\n",
    "    'use_min_duration':use_min_duration,\n",
    "    'range_threshold':range_threshold,\n",
    "    'round_t_to_n_digits':round_t_to_n_digits,\n",
    "    'tmin':tmin,\n",
    "    'pid_col':pid_col,\n",
    "    't_col':t_col,\n",
    "    'max_dur':max_dur,\n",
    "    'folder_out_name':f'annihilations_mindur_{min_duration}_maxdur_{max_dur}_minrange_{min_range}_rangethresh_{range_threshold}',\n",
    "    'tavg1':tavg1,\n",
    "    'rdeath_thresh':rdeath_thresh,\n",
    "    'size_thresh':size_thresh\n",
    "}\n",
    "\n",
    "def compute_kappa_vs_r(input_fn,r_values,DT,**kwargs):\n",
    "    routine_traj_to_annihilation=get_routine_traj_to_annihilation(**kwargs)\n",
    "    output_fn=routine_traj_to_annihilation(input_fn)\n",
    "    if not os.path.exists(output_fn):\n",
    "        return None\n",
    "    #do i have one event in output_fn? yes.\n",
    "    df=pd.read_csv(output_fn)\n",
    "    t_col='tdeath'\n",
    "    #find the valid event id's\n",
    "    df=compute_event_id(pd.read_csv(output_fn).reset_index(drop=True),input_fn,pid_col='pid',t_col='tdeath')\n",
    "    # df=pd.read_csv(output_fn)\n",
    "    navg1=int(tavg1/DT)\n",
    "    if printing:\n",
    "        print(f\"there were {len(list(set(df['pid'].values)))} valid annihilations found...\")\n",
    "        print(f\"tavg1={DT*navg1} ms\")\n",
    "    df.sort_values([id_col, t_col], ascending=False, inplace=True)\n",
    "    tvals = sorted(set(df[t_col].values))\n",
    "    DT = tvals[1] - tvals[0]\n",
    "    event_id_lst = sorted(set(df[id_col].values))\n",
    "    valid_event_id_lst=filter_events_ending_at_large_range(df,rdeath_thresh=rdeath_thresh)\n",
    "    invalid_event_id_lst=find_events_insufficient_size(df,size_thresh=size_thresh)\n",
    "    valid_event_id_lst=list(set(valid_event_id_lst).difference(set(invalid_event_id_lst)))\n",
    "    if printing:\n",
    "        print(f\"{len(event_id_lst)} annihilation events are inputed\")\n",
    "        print(f\"{len(valid_event_id_lst)} annihilation events end at a range smaller than {rdeath_thresh} cm.\")\n",
    "\n",
    "    #smooth data\n",
    "    df = moving_average_of_events(df, valid_event_id_lst, navg=navg1, id_col=id_col, t_col=t_col)\n",
    "    valid_event_id_lst=filter_events_ending_at_large_range(df,rdeath_thresh=rdeath_thresh)\n",
    "    invalid_event_id_lst=find_events_insufficient_size(df,size_thresh=size_thresh)\n",
    "    valid_event_id_lst=list(set(valid_event_id_lst).difference(set(invalid_event_id_lst)))\n",
    "\n",
    "    #TODO(after the following): find out why I'm only getting 1 annihilation event for this FK trial...\n",
    "\n",
    "    #for each valid_event_id:\n",
    "    #select the event values\n",
    "    if len(valid_event_id_lst)==0:\n",
    "        return None\n",
    "    event_id=valid_event_id_lst[0]\n",
    "    d=df[df[id_col]==event_id]\n",
    "    R_values=d['r'].values\n",
    "    tdeath_values=d['tdeath'].values\n",
    "\n",
    "    tau_lst=[];r_lst=[]\n",
    "    for r in r_values:\n",
    "        #find the latest observation that this event passes r for r in an array of r_values\n",
    "        boo=R_values>=r\n",
    "        if boo.any():\n",
    "            index_last_further_than_r=int(np.argwhere(boo)[-1])\n",
    "            tdeath_last_further_than_r=tdeath_values[index_last_further_than_r] #milliseconds\n",
    "            tau=tdeath_last_further_than_r\n",
    "#         #find the earliest observation that this event passes r for r in an array of r_values\n",
    "#         boo=R_values>=r\n",
    "#         if boo.any():\n",
    "#             index_last_further_than_r=int(np.argwhere(boo)[0])\n",
    "#             tdeath_last_further_than_r=tdeath_values[index_last_further_than_r] #milliseconds\n",
    "#             tau=tdeath_last_further_than_r\n",
    "            tau_lst.append(tau)\n",
    "            r_lst.append(r)\n",
    "    r_values=np.array(r_lst)\n",
    "    tau_values=np.array(tau_lst)\n",
    "    dict_out={'r':r_values,'tau':tau_values}\n",
    "    return dict_out"
   ]
  },
  {
   "cell_type": "code",
   "execution_count": 113,
   "metadata": {
    "ExecuteTime": {
     "end_time": "2021-08-24T03:09:05.280408Z",
     "start_time": "2021-08-24T03:09:02.821894Z"
    },
    "hidden": true
   },
   "outputs": [
    {
     "data": {
      "image/png": "[encoded data removed]",
      "text/plain": [
       "<Figure size 648x288 with 2 Axes>"
      ]
     },
     "metadata": {
      "needs_background": "light"
     },
     "output_type": "display_data"
    }
   ],
   "source": [
    "#test kappa for one trajectory / trial\n",
    "dict_out=compute_kappa_vs_r(input_fn,r_values,DT=DT,**kwargs)\n",
    "r_values=dict_out['r']\n",
    "tau_values=dict_out['tau']\n",
    "#plot apparent r versus kappa\n",
    "#Nota bene: estimates for kappa with r<0.1cm were shit/constant(~4000Hz) for one particular annihilation event\n",
    "x=r_values\n",
    "y=1000/tau_values\n",
    "fontsize=18\n",
    "fig,axs=plt.subplots(ncols=2,figsize=(9,4))\n",
    "ax=axs[0]\n",
    "ax.plot(x,y)\n",
    "format_plot(ax, xlabel=r'$r$ (cm)', ylabel=r'$\\kappa$ (Hz)', fontsize=fontsize, use_loglog=False)\n",
    "ax=axs[1]\n",
    "ax.plot(x,y)\n",
    "format_plot(ax, xlabel=r'$r$ (cm)', ylabel=r'$\\kappa$ (Hz)', fontsize=fontsize, use_loglog=True)\n",
    "plt.tight_layout()\n",
    "plt.show()"
   ]
  },
  {
   "cell_type": "code",
   "execution_count": 114,
   "metadata": {
    "ExecuteTime": {
     "end_time": "2021-08-24T03:09:09.244963Z",
     "start_time": "2021-08-24T03:09:09.222004Z"
    },
    "hidden": true
   },
   "outputs": [],
   "source": [
    "#TODO: consider a list of r_values\n",
    "#TODO: compute tau for each r in r_values"
   ]
  },
  {
   "cell_type": "code",
   "execution_count": 115,
   "metadata": {
    "ExecuteTime": {
     "end_time": "2021-08-24T03:09:09.401218Z",
     "start_time": "2021-08-24T03:09:09.387641Z"
    },
    "hidden": true
   },
   "outputs": [],
   "source": [
    "#TODO: daskbag over all files in the folder of input_fn\n",
    "#TODO: return a list of  tdeath_last_further_than_r_values for each annihilation\n",
    "#TODO: merge that list\n",
    "#TODO: compute the mean value\n",
    "#TODO: record "
   ]
  },
  {
   "cell_type": "code",
   "execution_count": 116,
   "metadata": {
    "ExecuteTime": {
     "end_time": "2021-08-24T03:09:10.399442Z",
     "start_time": "2021-08-24T03:09:10.384746Z"
    },
    "hidden": true
   },
   "outputs": [],
   "source": [
    "def routine(input_fn):\n",
    "    return compute_kappa_vs_r(input_fn,r_values,DT=DT,**kwargs)"
   ]
  },
  {
   "cell_type": "code",
   "execution_count": 117,
   "metadata": {
    "ExecuteTime": {
     "end_time": "2021-08-24T03:09:12.792868Z",
     "start_time": "2021-08-24T03:09:10.810110Z"
    },
    "hidden": true
   },
   "outputs": [
    {
     "name": "stdout",
     "output_type": "stream",
     "text": [
      "the apparent value for kappa for this trial was 1860 Hz at r=0.1 cm.\n"
     ]
    }
   ],
   "source": [
    "r=0.1 #cm\n",
    "use_test=True\n",
    "if use_test:\n",
    "    dict_out=routine(input_fn)\n",
    "    r_values=dict_out['r']\n",
    "    tau_values=dict_out['tau']\n",
    "    tau=tau_values[np.isclose(r_values,r)]\n",
    "    kappa=1000/np.mean(tau)\n",
    "    print(f\"the apparent value for kappa for this trial was {kappa:.0f} Hz at r={r} cm.\")"
   ]
  },
  {
   "cell_type": "code",
   "execution_count": 118,
   "metadata": {
    "ExecuteTime": {
     "end_time": "2021-08-24T03:14:16.042827Z",
     "start_time": "2021-08-24T03:09:16.215447Z"
    },
    "hidden": true
   },
   "outputs": [
    {
     "name": "stdout",
     "output_type": "stream",
     "text": [
      "number of files found: 324\n",
      "token example fn: /home/timothytyree/Documents/GitHub/care/notebooks/Data/initial-conditions-fk-200x200/param_set_8_ds_5.0_tmax_30_diffCoef_0.001_dt_0.025/trajectories/ic200x200.3.55_traj_sr_600_mem_0.csv\n",
      "run time for computing mean reaction rate of annihilation events was 299.17 seconds.\n"
     ]
    },
    {
     "data": {
      "text/plain": [
       "0"
      ]
     },
     "execution_count": 118,
     "metadata": {},
     "output_type": "execute_result"
    }
   ],
   "source": [
    "###################################\n",
    "# Run the daskbag! (~7min run time)\n",
    "###################################\n",
    "#find all files matching pattern\n",
    "trgt_raw='_traj_'\n",
    "trgt=input_fn[input_fn.find(trgt_raw):]\n",
    "input_fn_lst=get_all_files_matching_pattern(file=input_fn, trgt=trgt)\n",
    "print(f\"number of files found: {len(input_fn_lst)}\")\n",
    "print(f\"token example fn: {input_fn_lst[0]}\")\n",
    "#all CPU version\n",
    "b = db.from_sequence(input_fn_lst, npartitions=npartitions).map(routine)\n",
    "start = time.time()\n",
    "retval = list(b)\n",
    "print(f\"run time for computing mean reaction rate of annihilation events was {time.time()-start:.2f} seconds.\")\n",
    "beep(3)"
   ]
  },
  {
   "cell_type": "code",
   "execution_count": 119,
   "metadata": {
    "ExecuteTime": {
     "end_time": "2021-08-24T03:14:16.682709Z",
     "start_time": "2021-08-24T03:14:16.661624Z"
    },
    "hidden": true
   },
   "outputs": [],
   "source": [
    "# #format results as a pandas.Dataframe instance\n",
    "# df=pd.concat([pd.DataFrame(dic) for dic in retval])\n",
    "# df_routine_out=df.copy()\n",
    "\n",
    "# #TODO: compute the mean tdeath as tau_avg.  suggest the expected kappa is kappa = 1 / tau_avg\n",
    "# df['kappa'] = 1000. / df['tau']\n",
    "\n",
    "# r_values=df['r']\n",
    "# tau_values=df['tau']\n",
    "# kappa_values=df['kappa']"
   ]
  },
  {
   "cell_type": "code",
   "execution_count": 120,
   "metadata": {
    "ExecuteTime": {
     "end_time": "2021-08-24T03:14:17.265726Z",
     "start_time": "2021-08-24T03:14:17.251981Z"
    },
    "hidden": true
   },
   "outputs": [],
   "source": [
    "#DONE: plot individual kappa density to check for outliers\n",
    "# g = sns.JointGrid(data=df, x=\"r\", y=\"kappa\")\n",
    "# g.plot_joint(sns.kdeplot,fill=True)\n",
    "# g.plot_joint(sns.scatterplot,s=5,alpha=0.2)\n",
    "# g.plot_marginals(sns.kdeplot)\n",
    "# # plt.scatter(df['r'].values,df['kappa'].values,s=5,alpha=0.3)\n",
    "# plt.show()"
   ]
  },
  {
   "cell_type": "code",
   "execution_count": 121,
   "metadata": {
    "ExecuteTime": {
     "end_time": "2021-08-24T03:14:17.838724Z",
     "start_time": "2021-08-24T03:14:17.824146Z"
    },
    "hidden": true
   },
   "outputs": [],
   "source": [
    "# #DONE: plot 1/average tau versus r and check for obvious differences\n",
    "# #DONE: bootstrap the results for kappa\n",
    "# bins=30\n",
    "# sdf=df_routine_out.copy()\n",
    "# df_tau = bin_and_bootstrap_xy_values(x=df['r'].values,\n",
    "#                                        y=df['tau'].values,\n",
    "#                                        xlabel='r',\n",
    "#                                        ylabel='tau',\n",
    "#                                        bins=bins,\n",
    "#                                        min_numobs=None,\n",
    "#                                        num_bootstrap_samples=1000,\n",
    "#                                        npartitions=npartitions,\n",
    "#                                      printing=False)\n",
    "# df=df_tau.copy()\n",
    "# x_values=df['r'].values\n",
    "# y_values=1000./df['tau'].values\n",
    "# y_err_values=1000/df['Delta_tau'].values\n",
    "\n",
    "# #plot mean radial velocities\n",
    "# fig, ax = plt.subplots(ncols=1, figsize=(5, 4))\n",
    "\n",
    "# # def PlotYErrorBar(x_values,y=y_values,yerr=y_err_values):\n",
    "# #kwargs\n",
    "# alpha=0.5\n",
    "# c='C0'\n",
    "# fontsize=18\n",
    "# elinewidth=4\n",
    "# markersize=4\n",
    "# capsize=200\n",
    "# xlim=[0, 1]\n",
    "# x_label=r'r (cm)'\n",
    "# y_label=r'$\\kappa$ (Hz)'\n",
    "\n",
    "# ax.errorbar(x=x_values,y=y_values,yerr=y_err_values,\n",
    "#                 c=c,alpha=alpha,fmt='o',markersize=markersize,ecolor=c,elinewidth=elinewidth,errorevery=1,capsize=capsize)\n",
    "# # #plot fits\n",
    "# # ax.plot(x_values, y_hat_values, c=c, lw=2, alpha=1, linestyle='solid')\n",
    "\n",
    "# #format plot\n",
    "# ax.set_xlim(xlim)\n",
    "# # ax.set_ylim([-0.5,.1])\n",
    "# ax.set_xlabel(x_label, fontsize=fontsize)\n",
    "# ax.set_ylabel(y_label, fontsize=fontsize)\n",
    "# ax.tick_params(axis='both', which='major', labelsize=fontsize)\n",
    "# ax.tick_params(axis='both', which='minor', labelsize=0)\n",
    "\n",
    "# ax.set_ylim([0,4000])\n",
    "\n",
    "# ax.set_title(f'tavg1={navg1*DT:.3f} ms\\n',fontsize=fontsize)\n",
    "# plt.tight_layout()\n",
    "# plt.show()"
   ]
  },
  {
   "cell_type": "code",
   "execution_count": 122,
   "metadata": {
    "ExecuteTime": {
     "end_time": "2021-08-24T03:14:18.399207Z",
     "start_time": "2021-08-24T03:14:18.385314Z"
    },
    "hidden": true
   },
   "outputs": [],
   "source": [
    "# #DONE: plot M=pi/2*kappa*r**2 versus r... it didn't look beautiful\n",
    "# df_kappa['M']=np.pi/2*df_kappa['kappa']*df_kappa['r']**3\n",
    "# y_values=df_kappa['M']"
   ]
  },
  {
   "cell_type": "code",
   "execution_count": 123,
   "metadata": {
    "ExecuteTime": {
     "end_time": "2021-08-24T03:14:19.090060Z",
     "start_time": "2021-08-24T03:14:18.963470Z"
    },
    "hidden": true
   },
   "outputs": [],
   "source": [
    "#format results as a pandas.Dataframe instance\n",
    "df=pd.concat([pd.DataFrame(dic) for dic in retval])\n",
    "df_routine_out=df.copy()\n",
    "\n",
    "#TODO: compute the mean tdeath as tau_avg.  suggest the expected kappa is kappa = 1 / tau_avg\n",
    "df['kappa'] = 1000. / df['tau']\n",
    "\n",
    "r_values=df['r']\n",
    "tau_values=df['tau']\n",
    "kappa_values=df['kappa']"
   ]
  },
  {
   "cell_type": "code",
   "execution_count": 124,
   "metadata": {
    "ExecuteTime": {
     "end_time": "2021-08-24T03:14:19.689166Z",
     "start_time": "2021-08-24T03:14:19.667803Z"
    },
    "hidden": true
   },
   "outputs": [
    {
     "name": "stdout",
     "output_type": "stream",
     "text": [
      "averaging before taking the inverse...\n",
      "the apparent value for kappa for this trial was 3034 Hz at r=0.1 cm.\n",
      "the apparent value for kappa for this trial was 891 Hz at r=0.2 cm.\n",
      "the apparent value for kappa for this trial was 375 Hz at r=0.3 cm.\n",
      "\n",
      "averaging after taking the inverse...\n",
      "the apparent value for kappa for this trial was 3828 Hz at r=0.1 cm.\n",
      "the apparent value for kappa for this trial was 2344 Hz at r=0.2 cm.\n",
      "the apparent value for kappa for this trial was 1184 Hz at r=0.3 cm.\n"
     ]
    }
   ],
   "source": [
    "#print some typical values as a check\n",
    "print('averaging before taking the inverse...')\n",
    "for r in [0.1,0.2,0.3]:#cm\n",
    "    tau=tau_values[np.isclose(r_values,r)]\n",
    "    kappa=1000/np.mean(tau)#Hz\n",
    "    print(f\"the apparent value for kappa for this trial was {kappa:.0f} Hz at r={r} cm.\")\n",
    "    \n",
    "#averaging after taking the inverse...\n",
    "print('\\naveraging after taking the inverse...')\n",
    "for r in [0.1,0.2,0.3]:#cm\n",
    "    kappa=kappa_values[np.isclose(r_values,r)]\n",
    "    print(f\"the apparent value for kappa for this trial was {np.mean(kappa):.0f} Hz at r={r} cm.\")\n",
    "    "
   ]
  },
  {
   "cell_type": "code",
   "execution_count": 125,
   "metadata": {
    "ExecuteTime": {
     "end_time": "2021-08-24T03:14:20.373042Z",
     "start_time": "2021-08-24T03:14:20.253259Z"
    },
    "hidden": true
   },
   "outputs": [
    {
     "data": {
      "image/png": "[encoded data removed]",
      "text/plain": [
       "<Figure size 432x288 with 1 Axes>"
      ]
     },
     "metadata": {
      "needs_background": "light"
     },
     "output_type": "display_data"
    }
   ],
   "source": [
    "#TODO: filter the high and low rates? No... Don't filter if you want to represent the mean field results...\n",
    "df=df_routine_out.copy()\n",
    "plt.hist(kappa_values[np.isclose(r_values,r)],bins=8)\n",
    "plt.show()"
   ]
  },
  {
   "cell_type": "code",
   "execution_count": 126,
   "metadata": {
    "ExecuteTime": {
     "end_time": "2021-08-24T03:14:24.170873Z",
     "start_time": "2021-08-24T03:14:20.936405Z"
    },
    "hidden": true
   },
   "outputs": [
    {
     "data": {
      "text/html": [
       "<div>\n",
       "<style scoped>\n",
       "    .dataframe tbody tr th:only-of-type {\n",
       "        vertical-align: middle;\n",
       "    }\n",
       "\n",
       "    .dataframe tbody tr th {\n",
       "        vertical-align: top;\n",
       "    }\n",
       "\n",
       "    .dataframe thead th {\n",
       "        text-align: right;\n",
       "    }\n",
       "</style>\n",
       "<table border=\"1\" class=\"dataframe\">\n",
       "  <thead>\n",
       "    <tr style=\"text-align: right;\">\n",
       "      <th></th>\n",
       "      <th>r</th>\n",
       "      <th>kappa</th>\n",
       "      <th>Delta_r</th>\n",
       "      <th>Delta_kappa</th>\n",
       "      <th>p_r</th>\n",
       "      <th>p_kappa</th>\n",
       "      <th>counts</th>\n",
       "    </tr>\n",
       "  </thead>\n",
       "  <tbody>\n",
       "    <tr>\n",
       "      <th>0</th>\n",
       "      <td>0.02</td>\n",
       "      <td>0.238309</td>\n",
       "      <td>0.000594</td>\n",
       "      <td>0.000855</td>\n",
       "      <td>0.119736</td>\n",
       "      <td>1.848941e-113</td>\n",
       "      <td>711</td>\n",
       "    </tr>\n",
       "    <tr>\n",
       "      <th>1</th>\n",
       "      <td>0.05</td>\n",
       "      <td>0.247169</td>\n",
       "      <td>0.000598</td>\n",
       "      <td>0.005032</td>\n",
       "      <td>0.717560</td>\n",
       "      <td>1.475849e-48</td>\n",
       "      <td>711</td>\n",
       "    </tr>\n",
       "    <tr>\n",
       "      <th>2</th>\n",
       "      <td>0.08</td>\n",
       "      <td>0.280327</td>\n",
       "      <td>0.000597</td>\n",
       "      <td>0.014841</td>\n",
       "      <td>0.676397</td>\n",
       "      <td>7.333774e-18</td>\n",
       "      <td>711</td>\n",
       "    </tr>\n",
       "    <tr>\n",
       "      <th>3</th>\n",
       "      <td>0.11</td>\n",
       "      <td>0.374385</td>\n",
       "      <td>0.000601</td>\n",
       "      <td>0.055345</td>\n",
       "      <td>0.161579</td>\n",
       "      <td>1.271538e-85</td>\n",
       "      <td>711</td>\n",
       "    </tr>\n",
       "    <tr>\n",
       "      <th>4</th>\n",
       "      <td>0.14</td>\n",
       "      <td>0.527549</td>\n",
       "      <td>0.000596</td>\n",
       "      <td>0.106095</td>\n",
       "      <td>0.929464</td>\n",
       "      <td>4.019975e-70</td>\n",
       "      <td>711</td>\n",
       "    </tr>\n",
       "  </tbody>\n",
       "</table>\n",
       "</div>"
      ],
      "text/plain": [
       "      r     kappa   Delta_r  Delta_kappa       p_r        p_kappa  counts\n",
       "0  0.02  0.238309  0.000594     0.000855  0.119736  1.848941e-113     711\n",
       "1  0.05  0.247169  0.000598     0.005032  0.717560   1.475849e-48     711\n",
       "2  0.08  0.280327  0.000597     0.014841  0.676397   7.333774e-18     711\n",
       "3  0.11  0.374385  0.000601     0.055345  0.161579   1.271538e-85     711\n",
       "4  0.14  0.527549  0.000596     0.106095  0.929464   4.019975e-70     711"
      ]
     },
     "execution_count": 126,
     "metadata": {},
     "output_type": "execute_result"
    }
   ],
   "source": [
    "#TOOD(later?): drop data that is larger than kappa>=3000 Hz\n",
    "#bootstrap the results for kappa\n",
    "bins=30\n",
    "df=df_routine_out.copy()\n",
    "df_tau = bin_and_bootstrap_xy_values(x=df['r'].values,\n",
    "                                       y=df['tau'].values,\n",
    "                                       xlabel='r',\n",
    "                                       ylabel='kappa',\n",
    "                                       bins=bins,\n",
    "                                       min_numobs=None,\n",
    "                                       num_bootstrap_samples=10000,\n",
    "                                       npartitions=npartitions,printing=False)\n",
    "df_tau.head()"
   ]
  },
  {
   "cell_type": "code",
   "execution_count": 127,
   "metadata": {
    "ExecuteTime": {
     "end_time": "2021-08-24T03:14:28.033085Z",
     "start_time": "2021-08-24T03:14:24.754380Z"
    },
    "hidden": true,
    "scrolled": true
   },
   "outputs": [
    {
     "data": {
      "text/html": [
       "<div>\n",
       "<style scoped>\n",
       "    .dataframe tbody tr th:only-of-type {\n",
       "        vertical-align: middle;\n",
       "    }\n",
       "\n",
       "    .dataframe tbody tr th {\n",
       "        vertical-align: top;\n",
       "    }\n",
       "\n",
       "    .dataframe thead th {\n",
       "        text-align: right;\n",
       "    }\n",
       "</style>\n",
       "<table border=\"1\" class=\"dataframe\">\n",
       "  <thead>\n",
       "    <tr style=\"text-align: right;\">\n",
       "      <th></th>\n",
       "      <th>r</th>\n",
       "      <th>kappa</th>\n",
       "      <th>Delta_r</th>\n",
       "      <th>Delta_kappa</th>\n",
       "      <th>p_r</th>\n",
       "      <th>p_kappa</th>\n",
       "      <th>counts</th>\n",
       "    </tr>\n",
       "  </thead>\n",
       "  <tbody>\n",
       "    <tr>\n",
       "      <th>0</th>\n",
       "      <td>0.02</td>\n",
       "      <td>4201.922982</td>\n",
       "      <td>0.000596</td>\n",
       "      <td>8.601888</td>\n",
       "      <td>0.844687</td>\n",
       "      <td>3.036324e-111</td>\n",
       "      <td>711</td>\n",
       "    </tr>\n",
       "    <tr>\n",
       "      <th>1</th>\n",
       "      <td>0.05</td>\n",
       "      <td>4145.754730</td>\n",
       "      <td>0.000593</td>\n",
       "      <td>27.961261</td>\n",
       "      <td>0.557777</td>\n",
       "      <td>8.096219e-24</td>\n",
       "      <td>711</td>\n",
       "    </tr>\n",
       "    <tr>\n",
       "      <th>2</th>\n",
       "      <td>0.08</td>\n",
       "      <td>3988.492662</td>\n",
       "      <td>0.000598</td>\n",
       "      <td>50.913602</td>\n",
       "      <td>0.861568</td>\n",
       "      <td>2.139695e-07</td>\n",
       "      <td>711</td>\n",
       "    </tr>\n",
       "    <tr>\n",
       "      <th>3</th>\n",
       "      <td>0.11</td>\n",
       "      <td>3729.630726</td>\n",
       "      <td>0.000592</td>\n",
       "      <td>73.055777</td>\n",
       "      <td>0.884783</td>\n",
       "      <td>4.622948e-03</td>\n",
       "      <td>711</td>\n",
       "    </tr>\n",
       "    <tr>\n",
       "      <th>4</th>\n",
       "      <td>0.14</td>\n",
       "      <td>3390.330491</td>\n",
       "      <td>0.000598</td>\n",
       "      <td>87.685509</td>\n",
       "      <td>0.677041</td>\n",
       "      <td>2.915235e-01</td>\n",
       "      <td>711</td>\n",
       "    </tr>\n",
       "  </tbody>\n",
       "</table>\n",
       "</div>"
      ],
      "text/plain": [
       "      r        kappa   Delta_r  Delta_kappa       p_r        p_kappa  counts\n",
       "0  0.02  4201.922982  0.000596     8.601888  0.844687  3.036324e-111     711\n",
       "1  0.05  4145.754730  0.000593    27.961261  0.557777   8.096219e-24     711\n",
       "2  0.08  3988.492662  0.000598    50.913602  0.861568   2.139695e-07     711\n",
       "3  0.11  3729.630726  0.000592    73.055777  0.884783   4.622948e-03     711\n",
       "4  0.14  3390.330491  0.000598    87.685509  0.677041   2.915235e-01     711"
      ]
     },
     "execution_count": 127,
     "metadata": {},
     "output_type": "execute_result"
    }
   ],
   "source": [
    "#bootstrap the results for kappa\n",
    "bins=30\n",
    "df=df_routine_out.copy()\n",
    "df_kappa = bin_and_bootstrap_xy_values(x=df['r'].values,\n",
    "                                       y=1000/df['tau'].values,\n",
    "                                       xlabel='r',\n",
    "                                       ylabel='kappa',\n",
    "                                       bins=bins,\n",
    "                                       min_numobs=None,\n",
    "                                       num_bootstrap_samples=10000,\n",
    "                                       npartitions=npartitions,\n",
    "                                     printing=False)\n",
    "df_kappa.head()"
   ]
  },
  {
   "cell_type": "code",
   "execution_count": 128,
   "metadata": {
    "ExecuteTime": {
     "end_time": "2021-08-24T03:14:28.658096Z",
     "start_time": "2021-08-24T03:14:28.630785Z"
    },
    "hidden": true
   },
   "outputs": [
    {
     "name": "stdout",
     "output_type": "stream",
     "text": [
      "considering ranges from r=0.170 to r=0.855 cm,\n",
      "the apparent exponent for kappa=b*r^m is m=-2.139+-0.092,\n",
      "the apparent magnitude is b=85.281+-~~1.086 cm^p/s.\n",
      "\n",
      "ols fit:\n",
      "m=-2.1391358628305324\n",
      "Delta_m=0.09238729094127329\n",
      "b=4.4459571765161945\n",
      "Delta_b=0.08285352809366704\n",
      "Rsquared=0.9889556480970237\n",
      "saved results to /home/timothytyree/Documents/GitHub/care/notebooks/Data/initial-conditions-fk-200x200/param_set_8_ds_5.0_tmax_30_diffCoef_0.001_dt_0.025/reaction_rates_bins_30.csv\n"
     ]
    }
   ],
   "source": [
    "df=df_kappa.copy()\n",
    "df.dropna(inplace=True)\n",
    "x_values=df['r'].values\n",
    "y_values=df['kappa'].values\n",
    "y_err_values=df['Delta_kappa'].values\n",
    "\n",
    "#fit the apparent exponent and magnitude of a powerlaw\n",
    "xmin=0.15\n",
    "boo=x_values>xmin\n",
    "x=np.log(x_values)[boo]\n",
    "y=np.log(y_values)[boo]\n",
    "dict_loglog=compute_95CI_ols(x,y)\n",
    "y_hat_values=np.exp(dict_loglog['b'])*x_values**dict_loglog['m']\n",
    "print(f\"considering ranges from r={np.exp(np.min(x)):.3f} to r={np.exp(np.max(x)):.3f} cm,\")\n",
    "print(f\"the apparent exponent for kappa=b*r^m is m={dict_loglog['m']:.3f}+-{dict_loglog['Delta_m']:.3f},\")\n",
    "print(f\"the apparent magnitude is b={np.exp(dict_loglog['b']):.3f}+-~~{np.exp(dict_loglog['Delta_b']):.3f} cm^p/s.\")\n",
    "print(f\"\\nols fit:\")\n",
    "print_dict(dict_loglog)\n",
    "\n",
    "#save results after bootstrapping\n",
    "trial_folder_name=os.path.dirname(os.path.dirname(input_fn))\n",
    "os.chdir(trial_folder_name)\n",
    "save_fn=f'reaction_rates_bins_{bins}.csv'\n",
    "df_kappa.to_csv(save_fn,index=False)\n",
    "print(f\"saved results to {os.path.abspath(save_fn)}\")"
   ]
  },
  {
   "cell_type": "code",
   "execution_count": 134,
   "metadata": {
    "ExecuteTime": {
     "end_time": "2021-08-24T03:37:26.775365Z",
     "start_time": "2021-08-24T03:37:26.649361Z"
    },
    "hidden": true
   },
   "outputs": [
    {
     "data": {
      "image/png": "[encoded data removed]",
      "text/plain": [
       "<Figure size 360x288 with 1 Axes>"
      ]
     },
     "metadata": {
      "needs_background": "light"
     },
     "output_type": "display_data"
    }
   ],
   "source": [
    "#plot mean radial velocities\n",
    "fig, ax = plt.subplots(ncols=1, figsize=(5, 4))\n",
    "\n",
    "# def PlotYErrorBar(x_values,y=y_values,yerr=y_err_values):\n",
    "#kwargs\n",
    "alpha=0.5\n",
    "c='C0'\n",
    "# c='C1'\n",
    "fontsize=18\n",
    "elinewidth=3\n",
    "markersize=3\n",
    "capsize=3\n",
    "xlim=[0, 0.8]\n",
    "ylim=[0,5000]\n",
    "x_label=r'r (cm)'\n",
    "y_label=r'$\\kappa$ (Hz)'\n",
    "\n",
    "ax.errorbar(x=x_values,y=y_values,yerr=y_err_values,\n",
    "                c=c,alpha=alpha,fmt='o',markersize=markersize,ecolor=c,elinewidth=elinewidth,errorevery=1,capsize=capsize)\n",
    "#plot fits\n",
    "ax.plot(x_values, y_hat_values, c=c, lw=2, alpha=1, linestyle='solid')\n",
    "\n",
    "#format plot\n",
    "ax.set_xlim(xlim)\n",
    "ax.set_ylim(ylim)\n",
    "# ax.set_ylim([-0.5,.1])\n",
    "ax.set_xlabel(x_label, fontsize=fontsize)\n",
    "ax.set_ylabel(y_label, fontsize=fontsize)\n",
    "ax.tick_params(axis='both', which='major', labelsize=fontsize)\n",
    "ax.tick_params(axis='both', which='minor', labelsize=0)\n",
    "\n",
    "\n",
    "ax.set_title(f'tavg1={navg1*DT:.3f} ms\\n',fontsize=fontsize)\n",
    "plt.tight_layout()\n",
    "plt.show()"
   ]
  },
  {
   "cell_type": "code",
   "execution_count": 130,
   "metadata": {
    "ExecuteTime": {
     "end_time": "2021-08-24T03:14:30.017624Z",
     "start_time": "2021-08-24T03:14:30.003905Z"
    },
    "hidden": true
   },
   "outputs": [],
   "source": [
    "# option A: use two OLS methods\n",
    "# option B: use my previous wnlfit method IF it has uncertainty built in under the hood (clearly)\n",
    "#DONE: (i) find the exponent at large r\n",
    "#DONE: (ii) find the decay rate at large r"
   ]
  },
  {
   "cell_type": "markdown",
   "metadata": {
    "ExecuteTime": {
     "end_time": "2021-08-09T08:27:29.921922Z",
     "start_time": "2021-08-09T08:27:29.905514Z"
    },
    "hidden": true
   },
   "source": [
    "Results For the FK model:\n",
    "\n",
    "considering ranges from r=0.3 to r=0.9 cm,\n",
    "- the apparent exponent for kappa=B*r^m is m=-2.401+-0.075,\n",
    "- the apparent magnitude is B=4.314+-0.049 cm^p/s."
   ]
  },
  {
   "cell_type": "code",
   "execution_count": 131,
   "metadata": {
    "ExecuteTime": {
     "end_time": "2021-08-24T03:14:30.031604Z",
     "start_time": "2021-08-24T03:14:30.018605Z"
    },
    "hidden": true
   },
   "outputs": [],
   "source": [
    "#this didn't make sensible results for some reason...\n",
    "# #compute the apparent magnitude, M supposing the exponent m=2\n",
    "# # plot_slope_of_emsd?\n",
    "# #compute the apparent exponent\n",
    "# m=dict_loglog['m']\n",
    "# # print(f\"m={m}\")\n",
    "# xmin=0.3\n",
    "# boo=x_values>xmin\n",
    "# x=x_values[boo].copy()\n",
    "# y=y_values[boo].copy()*x**m\n",
    "# # y=np.pi/2*y*x**2\n",
    "# dict_linlin=compute_95CI_ols(x,y)\n",
    "# print(f\"the apparent magnitude is M={dict_linlin['m']:.3f}+-{dict_linlin['Delta_m']:.3f} cm^p/s\")\n",
    "# print_dict(dict_linlin)"
   ]
  },
  {
   "cell_type": "code",
   "execution_count": 132,
   "metadata": {
    "ExecuteTime": {
     "end_time": "2021-08-24T03:14:30.045607Z",
     "start_time": "2021-08-24T03:14:30.032728Z"
    },
    "hidden": true
   },
   "outputs": [],
   "source": [
    "#DOEN: get a function that goes through all the points!\n",
    "#TODO(later): refine a function that goes through all the points!\n",
    "#HINT: see my previous wnlfit method. compute RMSE."
   ]
  },
  {
   "cell_type": "markdown",
   "metadata": {
    "heading_collapsed": true
   },
   "source": [
    "## Repeating ^that functional measurement of kappa versus r for the Luo-Rudy model"
   ]
  },
  {
   "cell_type": "code",
   "execution_count": 133,
   "metadata": {
    "ExecuteTime": {
     "end_time": "2021-08-24T03:14:31.840770Z",
     "start_time": "2021-08-24T03:14:31.723316Z"
    },
    "hidden": true
   },
   "outputs": [
    {
     "name": "stdout",
     "output_type": "stream",
     "text": [
      "the termination time was 3.609 seconds.\n"
     ]
    }
   ],
   "source": [
    "#load a given file of trajectories\n",
    "# input_fn=search_for_file()\n",
    "\n",
    "# # from the FK model with DT=0.025ms\n",
    "# input_fn=\"/home/timothytyree/Documents/GitHub/care/notebooks/Data/initial-conditions-fk-200x200/param_set_8_ds_5.0_tmax_30_diffCoef_0.001_dt_0.025/trajectories/ic200x200.0.4_traj_sr_600_mem_0.csv\"\n",
    "\n",
    "# # # from the LR model with DT=0.025ms\n",
    "# # input_fn=\"/home/timothytyree/Documents/GitHub/care/notebooks/Data/initial-conditions-suite-3-LR/param_qu_tmax_30_Ko_5.4_diffCoef_0.0005_dt_0.025/trajectories/ic001.22_traj_sr_600_mem_0.csv\"\n",
    "ds=5\n",
    "width=200\n",
    "DT=0.025#ms\n",
    "pid_col='particle'\n",
    "t_col='t'\n",
    "id_col='event_id'\n",
    "\n",
    "# from the FK model with DT=0.5 ms\n",
    "input_fn=f\"/home/timothytyree/Documents/GitHub/care/notebooks/Data/initial-conditions-suite-3-LR/param_qu_tmax_30_Ko_5.4_diffCoef_0.0005_dt_0.5/trajectories/ic001.13_traj_sr_600_mem_0.csv\"\n",
    "DT=0.5#ms\n",
    "\n",
    "#print the termination time\n",
    "print_termination_time(input_fn);"
   ]
  },
  {
   "cell_type": "code",
   "execution_count": 47,
   "metadata": {
    "ExecuteTime": {
     "end_time": "2021-08-09T20:40:06.443440Z",
     "start_time": "2021-08-09T20:40:01.952936Z"
    },
    "hidden": true
   },
   "outputs": [
    {
     "name": "stdout",
     "output_type": "stream",
     "text": [
      "termination time was 3609.00 ms\n",
      "printing summary stats on particle lifetimes\n",
      "count    1639.000000\n",
      "mean       15.568944\n",
      "std        34.690963\n",
      "min        -0.000000\n",
      "25%        -0.000000\n",
      "50%         0.500000\n",
      "75%        11.750000\n",
      "max       394.500000\n",
      "Name: min, dtype: float64\n",
      "\n",
      "Please make a manual decision about minimum_lifetime, crop_start_by, and crop_end_by\n"
     ]
    }
   ],
   "source": [
    "#print summary stats on particle lifetimes for one input folder\n",
    "df=pd.read_csv(input_fn)\n",
    "dft=df.groupby(pid_col)[t_col].describe()\n",
    "df_lifetimes=-dft[['max','min']].T.diff().loc['min']\n",
    "print(f\"termination time was {df[t_col].max():.2f} ms\")\n",
    "\n",
    "print(f\"printing summary stats on particle lifetimes\")# for one input folder in {trial_folder_name}:\")\n",
    "print(df_lifetimes.describe())\n",
    "# print(df_lifetimes.head(10))\n",
    "print(\"\\nPlease make a manual decision about minimum_lifetime, crop_start_by, and crop_end_by\")"
   ]
  },
  {
   "cell_type": "code",
   "execution_count": 50,
   "metadata": {
    "ExecuteTime": {
     "end_time": "2021-08-09T20:40:22.494751Z",
     "start_time": "2021-08-09T20:40:22.415324Z"
    },
    "hidden": true
   },
   "outputs": [],
   "source": [
    "# compute Rkappa versus r\n",
    "#full model lr (and fk)\n",
    "min_duration=20#50##20. #ms\n",
    "min_range   =.1#1.#.2#  #cm  # a pair of particles is considered if their max distance is at least min_range\n",
    "filter_beginning=True #i think this does nothing...\n",
    "use_min_duration=False\n",
    "use_grad_voltage=True\n",
    "printing=False\n",
    "range_threshold=.5#0.1 #cm #filter any deaths occurring at ranges exceeding range_threshold\n",
    "tmin=100#ms\n",
    "max_dur=500#150#ms#150# #consider no more than the last max_dur milliseconds of either trajectory\n",
    "round_t_to_n_digits=5\n",
    "tavg1=0.5 #s\n",
    "navg1=int(tavg1/DT)\n",
    "rdeath_thresh=0.7\n",
    "size_thresh=100\n",
    "r_values=np.arange(0.01,1.01,0.01) #cm :: the fixed reaction range\n",
    "\n",
    "# # #particle model\n",
    "# min_duration=40  #20. #ms # a pair of particles is considered if their lifetime is at least min_range\n",
    "# min_range   =0  #cm  # a pair of particles is considered if their max distance is at least min_range\n",
    "# filter_beginning=True\n",
    "# use_min_duration=True\n",
    "# use_grad_voltage=False\n",
    "# range_threshold=10 #cm #filter any deaths occurring at ranges exceeding range_threshold\n",
    "# round_t_to_n_digits=5\n",
    "# tmin=0.  #filter all times earlier than tmin? i think so?\n",
    "# max_dur=0.#ms\n",
    "\n",
    "npartitions=os.cpu_count()\n",
    "\n",
    "kwargs={\n",
    "    'width':width,\n",
    "    'height':height,\n",
    "    'ds':ds,\n",
    "    'printing':False,\n",
    "    'min_range':min_range,\n",
    "    'min_duration':min_duration,\n",
    "    'npartitions':npartitions,\n",
    "    'filter_beginning':filter_beginning,\n",
    "    'use_grad_voltage':use_grad_voltage,\n",
    "    'use_min_duration':use_min_duration,\n",
    "    'range_threshold':range_threshold,\n",
    "    'round_t_to_n_digits':round_t_to_n_digits,\n",
    "    'tmin':tmin,\n",
    "    'pid_col':pid_col,\n",
    "    't_col':t_col,\n",
    "    'max_dur':max_dur,\n",
    "    'folder_out_name':f'annihilations_mindur_{min_duration}_maxdur_{max_dur}_minrange_{min_range}_rangethresh_{range_threshold}',\n",
    "    'tavg1':tavg1,\n",
    "    'rdeath_thresh':rdeath_thresh,\n",
    "    'size_thresh':size_thresh\n",
    "}\n"
   ]
  },
  {
   "cell_type": "code",
   "execution_count": 82,
   "metadata": {
    "ExecuteTime": {
     "end_time": "2021-08-09T20:52:14.276495Z",
     "start_time": "2021-08-09T20:52:14.247786Z"
    },
    "hidden": true
   },
   "outputs": [],
   "source": [
    "# dict_out=compute_kappa_vs_r(input_fn,r_values,DT=DT,**kwargs)\n",
    "# r_values=dict_out['r']\n",
    "# tau_values=dict_out['tau']\n",
    "# #plot apparent r versus kappa\n",
    "# #Nota bene: estimates for kappa with r<0.1cm were shit/constant(~4000Hz) for one particular annihilation event\n",
    "# x=r_values\n",
    "# y=1000/tau_values\n",
    "# fontsize=18\n",
    "# fig,axs=plt.subplots(ncols=2,figsize=(9,4))\n",
    "# ax=axs[0]\n",
    "# ax.plot(x,y)\n",
    "# format_plot(ax, xlabel=r'$r$ (cm)', ylabel=r'$\\kappa$ (Hz)', fontsize=fontsize, use_loglog=False)\n",
    "# ax=axs[1]\n",
    "# ax.plot(x,y)\n",
    "# format_plot(ax, xlabel=r'$r$ (cm)', ylabel=r'$\\kappa$ (Hz)', fontsize=fontsize, use_loglog=True)\n",
    "# plt.tight_layout()\n",
    "# plt.show()"
   ]
  },
  {
   "cell_type": "code",
   "execution_count": 60,
   "metadata": {
    "ExecuteTime": {
     "end_time": "2021-08-09T20:41:25.741376Z",
     "start_time": "2021-08-09T20:41:25.687234Z"
    },
    "hidden": true
   },
   "outputs": [],
   "source": [
    "def routine(input_fn):\n",
    "    return compute_kappa_vs_r(input_fn,r_values,DT=DT,**kwargs)"
   ]
  },
  {
   "cell_type": "code",
   "execution_count": 61,
   "metadata": {
    "ExecuteTime": {
     "end_time": "2021-08-09T20:41:29.056060Z",
     "start_time": "2021-08-09T20:41:29.024988Z"
    },
    "hidden": true
   },
   "outputs": [],
   "source": [
    "r=0.1 #cm\n",
    "use_test=False\n",
    "if use_test:\n",
    "    dict_out=routine(input_fn)\n",
    "    r_values=dict_out['r']\n",
    "    tau_values=dict_out['tau']\n",
    "    tau=tau_values[np.isclose(r_values,r)]\n",
    "    kappa=1000/np.mean(tau)\n",
    "    print(f\"the apparent value for kappa for this trial was {kappa:.0f} Hz at r={r} cm.\")"
   ]
  },
  {
   "cell_type": "code",
   "execution_count": 66,
   "metadata": {
    "ExecuteTime": {
     "end_time": "2021-08-09T20:51:46.216052Z",
     "start_time": "2021-08-09T20:41:47.219866Z"
    },
    "hidden": true
   },
   "outputs": [
    {
     "name": "stdout",
     "output_type": "stream",
     "text": [
      "number of files found: 159\n",
      "token example fn: /home/timothytyree/Documents/GitHub/care/notebooks/Data/initial-conditions-suite-3-LR/param_qu_tmax_30_Ko_5.4_diffCoef_0.0005_dt_0.5/trajectories/ic014.12_traj_sr_600_mem_0.csv\n",
      "run time for computing mean reaction rate of annihilation events was 598.32 seconds.\n"
     ]
    },
    {
     "data": {
      "text/plain": [
       "0"
      ]
     },
     "execution_count": 66,
     "metadata": {},
     "output_type": "execute_result"
    }
   ],
   "source": [
    "###################################\n",
    "# Run the daskbag! (~7min run time)\n",
    "###################################\n",
    "#find all files matching pattern\n",
    "trgt_raw='_traj_'\n",
    "trgt=input_fn[input_fn.find(trgt_raw):]\n",
    "input_fn_lst=get_all_files_matching_pattern(file=input_fn, trgt=trgt)\n",
    "print(f\"number of files found: {len(input_fn_lst)}\")\n",
    "print(f\"token example fn: {input_fn_lst[0]}\")\n",
    "#all CPU version\n",
    "b = db.from_sequence(input_fn_lst, npartitions=npartitions).map(routine)\n",
    "start = time.time()\n",
    "retval = list(b)\n",
    "print(f\"run time for computing mean reaction rate of annihilation events was {time.time()-start:.2f} seconds.\")\n",
    "beep(3)"
   ]
  },
  {
   "cell_type": "code",
   "execution_count": 67,
   "metadata": {
    "ExecuteTime": {
     "end_time": "2021-08-09T20:51:47.261153Z",
     "start_time": "2021-08-09T20:51:47.188329Z"
    },
    "hidden": true
   },
   "outputs": [],
   "source": [
    "#TODO: estimate how many events actually were used..."
   ]
  },
  {
   "cell_type": "code",
   "execution_count": 68,
   "metadata": {
    "ExecuteTime": {
     "end_time": "2021-08-09T20:51:48.246544Z",
     "start_time": "2021-08-09T20:51:48.214654Z"
    },
    "hidden": true
   },
   "outputs": [],
   "source": [
    "# #format results as a pandas.Dataframe instance\n",
    "# df=pd.concat([pd.DataFrame(dic) for dic in retval])\n",
    "# df_routine_out=df.copy()\n",
    "\n",
    "# #TODO: compute the mean tdeath as tau_avg.  suggest the expected kappa is kappa = 1 / tau_avg\n",
    "# df['kappa'] = 1000. / df['tau']\n",
    "\n",
    "# r_values=df['r']\n",
    "# tau_values=df['tau']\n",
    "# kappa_values=df['kappa']"
   ]
  },
  {
   "cell_type": "code",
   "execution_count": 69,
   "metadata": {
    "ExecuteTime": {
     "end_time": "2021-08-09T20:51:48.279589Z",
     "start_time": "2021-08-09T20:51:48.249284Z"
    },
    "hidden": true
   },
   "outputs": [],
   "source": [
    "#DONE: plot individual kappa density to check for outliers\n",
    "# g = sns.JointGrid(data=df, x=\"r\", y=\"kappa\")\n",
    "# g.plot_joint(sns.kdeplot,fill=True)\n",
    "# g.plot_joint(sns.scatterplot,s=5,alpha=0.2)\n",
    "# g.plot_marginals(sns.kdeplot)\n",
    "# # plt.scatter(df['r'].values,df['kappa'].values,s=5,alpha=0.3)\n",
    "# plt.show()"
   ]
  },
  {
   "cell_type": "code",
   "execution_count": 70,
   "metadata": {
    "ExecuteTime": {
     "end_time": "2021-08-09T20:51:48.313459Z",
     "start_time": "2021-08-09T20:51:48.281964Z"
    },
    "hidden": true
   },
   "outputs": [],
   "source": [
    "# #DONE: plot 1/average tau versus r and check for obvious differences\n",
    "# #DONE: bootstrap the results for kappa\n",
    "# bins=30\n",
    "# sdf=df_routine_out.copy()\n",
    "# df_tau = bin_and_bootstrap_xy_values(x=df['r'].values,\n",
    "#                                        y=df['tau'].values,\n",
    "#                                        xlabel='r',\n",
    "#                                        ylabel='tau',\n",
    "#                                        bins=bins,\n",
    "#                                        min_numobs=None,\n",
    "#                                        num_bootstrap_samples=1000,\n",
    "#                                        npartitions=npartitions,\n",
    "#                                      printing=False)\n",
    "# df=df_tau.copy()\n",
    "# x_values=df['r'].values\n",
    "# y_values=1000./df['tau'].values\n",
    "# y_err_values=1000/df['Delta_tau'].values\n",
    "\n",
    "# #plot mean radial velocities\n",
    "# fig, ax = plt.subplots(ncols=1, figsize=(5, 4))\n",
    "\n",
    "# # def PlotYErrorBar(x_values,y=y_values,yerr=y_err_values):\n",
    "# #kwargs\n",
    "# alpha=0.5\n",
    "# c='C0'\n",
    "# fontsize=18\n",
    "# elinewidth=4\n",
    "# markersize=4\n",
    "# capsize=200\n",
    "# xlim=[0, 1]\n",
    "# x_label=r'r (cm)'\n",
    "# y_label=r'$\\kappa$ (Hz)'\n",
    "\n",
    "# ax.errorbar(x=x_values,y=y_values,yerr=y_err_values,\n",
    "#                 c=c,alpha=alpha,fmt='o',markersize=markersize,ecolor=c,elinewidth=elinewidth,errorevery=1,capsize=capsize)\n",
    "# # #plot fits\n",
    "# # ax.plot(x_values, y_hat_values, c=c, lw=2, alpha=1, linestyle='solid')\n",
    "\n",
    "# #format plot\n",
    "# ax.set_xlim(xlim)\n",
    "# # ax.set_ylim([-0.5,.1])\n",
    "# ax.set_xlabel(x_label, fontsize=fontsize)\n",
    "# ax.set_ylabel(y_label, fontsize=fontsize)\n",
    "# ax.tick_params(axis='both', which='major', labelsize=fontsize)\n",
    "# ax.tick_params(axis='both', which='minor', labelsize=0)\n",
    "\n",
    "# ax.set_ylim([0,4000])\n",
    "\n",
    "# ax.set_title(f'tavg1={navg1*DT:.3f} ms\\n',fontsize=fontsize)\n",
    "# plt.tight_layout()\n",
    "# plt.show()"
   ]
  },
  {
   "cell_type": "code",
   "execution_count": 71,
   "metadata": {
    "ExecuteTime": {
     "end_time": "2021-08-09T20:51:50.848430Z",
     "start_time": "2021-08-09T20:51:50.820274Z"
    },
    "hidden": true
   },
   "outputs": [],
   "source": [
    "# #DONE: plot M=pi/2*kappa*r**2 versus r... it didn't look beautiful\n",
    "# df_kappa['M']=np.pi/2*df_kappa['kappa']*df_kappa['r']**3\n",
    "# y_values=df_kappa['M']"
   ]
  },
  {
   "cell_type": "code",
   "execution_count": 72,
   "metadata": {
    "ExecuteTime": {
     "end_time": "2021-08-09T20:51:50.970816Z",
     "start_time": "2021-08-09T20:51:50.850424Z"
    },
    "hidden": true
   },
   "outputs": [],
   "source": [
    "#format results as a pandas.Dataframe instance\n",
    "df=pd.concat([pd.DataFrame(dic) for dic in retval])\n",
    "df_routine_out=df.copy()\n",
    "\n",
    "#TODO: compute the mean tdeath as tau_avg.  suggest the expected kappa is kappa = 1 / tau_avg\n",
    "df['kappa'] = 1000. / df['tau']\n",
    "\n",
    "df.dropna(inplace=True)\n",
    "r_values=df['r']\n",
    "tau_values=df['tau']\n",
    "kappa_values=df['kappa']"
   ]
  },
  {
   "cell_type": "code",
   "execution_count": 73,
   "metadata": {
    "ExecuteTime": {
     "end_time": "2021-08-09T20:51:51.012276Z",
     "start_time": "2021-08-09T20:51:50.972935Z"
    },
    "hidden": true
   },
   "outputs": [
    {
     "name": "stdout",
     "output_type": "stream",
     "text": [
      "averaging before taking the inverse...\n",
      "the apparent value for kappa for this trial was 2714 Hz at r=0.1 cm.\n",
      "the apparent value for kappa for this trial was 589 Hz at r=0.2 cm.\n",
      "the apparent value for kappa for this trial was 185 Hz at r=0.3 cm.\n",
      "\n",
      "averaging after taking the inverse...\n",
      "the apparent value for kappa for this trial was inf Hz at r=0.1 cm.\n",
      "the apparent value for kappa for this trial was inf Hz at r=0.2 cm.\n",
      "the apparent value for kappa for this trial was 474 Hz at r=0.3 cm.\n"
     ]
    }
   ],
   "source": [
    "#print some typical values as a check\n",
    "print('averaging before taking the inverse...')\n",
    "for r in [0.1,0.2,0.3]:#cm\n",
    "    tau=tau_values[np.isclose(r_values,r)]\n",
    "    kappa=1000/np.mean(tau)#Hz\n",
    "    print(f\"the apparent value for kappa for this trial was {kappa:.0f} Hz at r={r} cm.\")\n",
    "    \n",
    "#averaging after taking the inverse...\n",
    "print('\\naveraging after taking the inverse...')\n",
    "for r in [0.1,0.2,0.3]:#cm\n",
    "    kappa=kappa_values[np.isclose(r_values,r)]\n",
    "    print(f\"the apparent value for kappa for this trial was {np.mean(kappa):.0f} Hz at r={r} cm.\")\n",
    "    "
   ]
  },
  {
   "cell_type": "code",
   "execution_count": 74,
   "metadata": {
    "ExecuteTime": {
     "end_time": "2021-08-09T20:51:53.999282Z",
     "start_time": "2021-08-09T20:51:53.732810Z"
    },
    "hidden": true
   },
   "outputs": [
    {
     "data": {
      "image/png": "[encoded data removed]",
      "text/plain": [
       "<Figure size 432x288 with 1 Axes>"
      ]
     },
     "metadata": {
      "needs_background": "light"
     },
     "output_type": "display_data"
    }
   ],
   "source": [
    "#TODO: filter the high and low rates? No... Don't filter if you want to represent the mean field results...\n",
    "df=df_routine_out.copy()\n",
    "plt.hist(kappa_values[np.isclose(r_values,r)],bins=8)\n",
    "plt.show()"
   ]
  },
  {
   "cell_type": "code",
   "execution_count": 75,
   "metadata": {
    "ExecuteTime": {
     "end_time": "2021-08-09T20:52:00.092367Z",
     "start_time": "2021-08-09T20:51:54.001712Z"
    },
    "hidden": true,
    "scrolled": true
   },
   "outputs": [
    {
     "data": {
      "text/html": [
       "<div>\n",
       "<style scoped>\n",
       "    .dataframe tbody tr th:only-of-type {\n",
       "        vertical-align: middle;\n",
       "    }\n",
       "\n",
       "    .dataframe tbody tr th {\n",
       "        vertical-align: top;\n",
       "    }\n",
       "\n",
       "    .dataframe thead th {\n",
       "        text-align: right;\n",
       "    }\n",
       "</style>\n",
       "<table border=\"1\" class=\"dataframe\">\n",
       "  <thead>\n",
       "    <tr style=\"text-align: right;\">\n",
       "      <th></th>\n",
       "      <th>r</th>\n",
       "      <th>kappa</th>\n",
       "      <th>Delta_r</th>\n",
       "      <th>Delta_kappa</th>\n",
       "      <th>p_r</th>\n",
       "      <th>p_kappa</th>\n",
       "      <th>counts</th>\n",
       "    </tr>\n",
       "  </thead>\n",
       "  <tbody>\n",
       "    <tr>\n",
       "      <th>0</th>\n",
       "      <td>0.025</td>\n",
       "      <td>0.075658</td>\n",
       "      <td>0.001757</td>\n",
       "      <td>0.028921</td>\n",
       "      <td>0.670257</td>\n",
       "      <td>1.833864e-16</td>\n",
       "      <td>152</td>\n",
       "    </tr>\n",
       "    <tr>\n",
       "      <th>1</th>\n",
       "      <td>0.060</td>\n",
       "      <td>0.232456</td>\n",
       "      <td>0.001504</td>\n",
       "      <td>0.045832</td>\n",
       "      <td>0.301234</td>\n",
       "      <td>5.101441e-01</td>\n",
       "      <td>114</td>\n",
       "    </tr>\n",
       "    <tr>\n",
       "      <th>2</th>\n",
       "      <td>0.090</td>\n",
       "      <td>0.333333</td>\n",
       "      <td>0.001486</td>\n",
       "      <td>0.051214</td>\n",
       "      <td>0.374669</td>\n",
       "      <td>6.331009e-01</td>\n",
       "      <td>114</td>\n",
       "    </tr>\n",
       "    <tr>\n",
       "      <th>3</th>\n",
       "      <td>0.125</td>\n",
       "      <td>0.595395</td>\n",
       "      <td>0.001772</td>\n",
       "      <td>0.074753</td>\n",
       "      <td>0.845416</td>\n",
       "      <td>4.288320e-18</td>\n",
       "      <td>152</td>\n",
       "    </tr>\n",
       "    <tr>\n",
       "      <th>4</th>\n",
       "      <td>0.160</td>\n",
       "      <td>0.916667</td>\n",
       "      <td>0.001485</td>\n",
       "      <td>0.113971</td>\n",
       "      <td>0.352066</td>\n",
       "      <td>2.144727e-12</td>\n",
       "      <td>114</td>\n",
       "    </tr>\n",
       "  </tbody>\n",
       "</table>\n",
       "</div>"
      ],
      "text/plain": [
       "       r     kappa   Delta_r  Delta_kappa       p_r       p_kappa  counts\n",
       "0  0.025  0.075658  0.001757     0.028921  0.670257  1.833864e-16     152\n",
       "1  0.060  0.232456  0.001504     0.045832  0.301234  5.101441e-01     114\n",
       "2  0.090  0.333333  0.001486     0.051214  0.374669  6.331009e-01     114\n",
       "3  0.125  0.595395  0.001772     0.074753  0.845416  4.288320e-18     152\n",
       "4  0.160  0.916667  0.001485     0.113971  0.352066  2.144727e-12     114"
      ]
     },
     "execution_count": 75,
     "metadata": {},
     "output_type": "execute_result"
    }
   ],
   "source": [
    "#TOOD(later?): drop data that is larger than kappa>=3000 Hz\n",
    "\n",
    "#bootstrap the results for kappa\n",
    "bins=30\n",
    "df=df_routine_out.copy()\n",
    "df_tau = bin_and_bootstrap_xy_values(x=df['r'].values,\n",
    "                                       y=df['tau'].values,\n",
    "                                       xlabel='r',\n",
    "                                       ylabel='kappa',\n",
    "                                       bins=bins,\n",
    "                                       min_numobs=None,\n",
    "                                       num_bootstrap_samples=10000,\n",
    "                                       npartitions=npartitions,printing=False)\n",
    "df_tau.head()"
   ]
  },
  {
   "cell_type": "code",
   "execution_count": 76,
   "metadata": {
    "ExecuteTime": {
     "end_time": "2021-08-09T20:52:08.549916Z",
     "start_time": "2021-08-09T20:52:02.235928Z"
    },
    "hidden": true,
    "scrolled": true
   },
   "outputs": [
    {
     "data": {
      "text/html": [
       "<div>\n",
       "<style scoped>\n",
       "    .dataframe tbody tr th:only-of-type {\n",
       "        vertical-align: middle;\n",
       "    }\n",
       "\n",
       "    .dataframe tbody tr th {\n",
       "        vertical-align: top;\n",
       "    }\n",
       "\n",
       "    .dataframe thead th {\n",
       "        text-align: right;\n",
       "    }\n",
       "</style>\n",
       "<table border=\"1\" class=\"dataframe\">\n",
       "  <thead>\n",
       "    <tr style=\"text-align: right;\">\n",
       "      <th></th>\n",
       "      <th>r</th>\n",
       "      <th>kappa</th>\n",
       "      <th>Delta_r</th>\n",
       "      <th>Delta_kappa</th>\n",
       "      <th>p_r</th>\n",
       "      <th>p_kappa</th>\n",
       "      <th>counts</th>\n",
       "    </tr>\n",
       "  </thead>\n",
       "  <tbody>\n",
       "    <tr>\n",
       "      <th>0</th>\n",
       "      <td>0.025</td>\n",
       "      <td>inf</td>\n",
       "      <td>0.001781</td>\n",
       "      <td>NaN</td>\n",
       "      <td>0.752364</td>\n",
       "      <td>NaN</td>\n",
       "      <td>152</td>\n",
       "    </tr>\n",
       "    <tr>\n",
       "      <th>1</th>\n",
       "      <td>0.060</td>\n",
       "      <td>inf</td>\n",
       "      <td>0.001497</td>\n",
       "      <td>NaN</td>\n",
       "      <td>0.270185</td>\n",
       "      <td>NaN</td>\n",
       "      <td>114</td>\n",
       "    </tr>\n",
       "    <tr>\n",
       "      <th>2</th>\n",
       "      <td>0.090</td>\n",
       "      <td>inf</td>\n",
       "      <td>0.001496</td>\n",
       "      <td>NaN</td>\n",
       "      <td>0.036264</td>\n",
       "      <td>NaN</td>\n",
       "      <td>114</td>\n",
       "    </tr>\n",
       "    <tr>\n",
       "      <th>3</th>\n",
       "      <td>0.125</td>\n",
       "      <td>inf</td>\n",
       "      <td>0.001791</td>\n",
       "      <td>NaN</td>\n",
       "      <td>0.838067</td>\n",
       "      <td>NaN</td>\n",
       "      <td>152</td>\n",
       "    </tr>\n",
       "    <tr>\n",
       "      <th>4</th>\n",
       "      <td>0.160</td>\n",
       "      <td>inf</td>\n",
       "      <td>0.001505</td>\n",
       "      <td>NaN</td>\n",
       "      <td>0.345043</td>\n",
       "      <td>NaN</td>\n",
       "      <td>114</td>\n",
       "    </tr>\n",
       "  </tbody>\n",
       "</table>\n",
       "</div>"
      ],
      "text/plain": [
       "       r  kappa   Delta_r  Delta_kappa       p_r  p_kappa  counts\n",
       "0  0.025    inf  0.001781          NaN  0.752364      NaN     152\n",
       "1  0.060    inf  0.001497          NaN  0.270185      NaN     114\n",
       "2  0.090    inf  0.001496          NaN  0.036264      NaN     114\n",
       "3  0.125    inf  0.001791          NaN  0.838067      NaN     152\n",
       "4  0.160    inf  0.001505          NaN  0.345043      NaN     114"
      ]
     },
     "execution_count": 76,
     "metadata": {},
     "output_type": "execute_result"
    }
   ],
   "source": [
    "#bootstrap the results for kappa\n",
    "bins=30\n",
    "sdf=df_routine_out.copy()\n",
    "df_kappa = bin_and_bootstrap_xy_values(x=df['r'].values,\n",
    "                                       y=1000/df['tau'].values,\n",
    "                                       xlabel='r',\n",
    "                                       ylabel='kappa',\n",
    "                                       bins=bins,\n",
    "                                       min_numobs=None,\n",
    "                                       num_bootstrap_samples=10000,\n",
    "                                       npartitions=npartitions,\n",
    "                                     printing=False)\n",
    "df_kappa.head()"
   ]
  },
  {
   "cell_type": "code",
   "execution_count": 78,
   "metadata": {
    "ExecuteTime": {
     "end_time": "2021-08-09T20:52:08.745359Z",
     "start_time": "2021-08-09T20:52:08.671062Z"
    },
    "hidden": true
   },
   "outputs": [
    {
     "name": "stdout",
     "output_type": "stream",
     "text": [
      "considering ranges from r=0.260 to r=0.980 cm,\n",
      "the apparent exponent for kappa=b*r^m is m=-0.401+-0.131,\n",
      "the apparent magnitude is b=263.930+-~~1.093 cm^p/s.\n",
      "\n",
      "ols fit:\n",
      "m=-0.4014942205769435\n",
      "Delta_m=0.13137727178364283\n",
      "b=5.575684418594762\n",
      "Delta_b=0.08849889050407513\n",
      "Rsquared=0.6307897971803853\n"
     ]
    }
   ],
   "source": [
    "df=df_kappa.copy()\n",
    "df.dropna(inplace=True)\n",
    "x_values=df['r'].values\n",
    "y_values=df['kappa'].values\n",
    "y_err_values=df['Delta_kappa'].values\n",
    "\n",
    "#fit the apparent exponent and magnitude of a powerlaw\n",
    "xmin=0.15\n",
    "boo=x_values>xmin\n",
    "x=np.log(x_values)[boo]\n",
    "y=np.log(y_values)[boo]\n",
    "dict_loglog=compute_95CI_ols(x,y)\n",
    "y_hat_values=np.exp(dict_loglog['b'])*x_values**dict_loglog['m']\n",
    "print(f\"considering ranges from r={np.exp(np.min(x)):.3f} to r={np.exp(np.max(x)):.3f} cm,\")\n",
    "print(f\"the apparent exponent for kappa=b*r^m is m={dict_loglog['m']:.3f}+-{dict_loglog['Delta_m']:.3f},\")\n",
    "print(f\"the apparent magnitude is b={np.exp(dict_loglog['b']):.3f}+-{np.exp(dict_loglog['Delta_b']):.3f} cm^p/s.\")\n",
    "print(f\"\\nols fit:\")\n",
    "print_dict(dict_loglog)\n",
    "\n",
    "#save results after bootstrapping\n",
    "trial_folder_name=os.path.dirname(os.path.dirname(input_fn))\n",
    "os.chdir(trial_folder_name)\n",
    "save_fn=f'reaction_rates_bins_{bins}.csv'\n",
    "df_kappa.to_csv(save_fn,index=False)\n",
    "print(f\"saved results to {os.path.abspath(save_fn)}\")"
   ]
  },
  {
   "cell_type": "code",
   "execution_count": 83,
   "metadata": {
    "ExecuteTime": {
     "end_time": "2021-08-09T20:55:31.099196Z",
     "start_time": "2021-08-09T20:55:30.792407Z"
    },
    "hidden": true,
    "scrolled": true
   },
   "outputs": [
    {
     "data": {
      "image/png": "[encoded data removed]",
      "text/plain": [
       "<Figure size 360x288 with 1 Axes>"
      ]
     },
     "metadata": {
      "needs_background": "light"
     },
     "output_type": "display_data"
    }
   ],
   "source": [
    "#plot mean radial velocities\n",
    "fig, ax = plt.subplots(ncols=1, figsize=(5, 4))\n",
    "\n",
    "# def PlotYErrorBar(x_values,y=y_values,yerr=y_err_values):\n",
    "#kwargs\n",
    "alpha=0.5\n",
    "c='C1'\n",
    "fontsize=18\n",
    "elinewidth=3\n",
    "markersize=3\n",
    "capsize=3\n",
    "xlim=[0, 0.8]\n",
    "ylim=[0,5000]\n",
    "x_label=r'r (cm)'\n",
    "y_label=r'$\\kappa$ (Hz)'\n",
    "\n",
    "ax.errorbar(x=x_values,y=y_values,yerr=y_err_values,\n",
    "                c=c,alpha=alpha,fmt='o',markersize=markersize,ecolor=c,elinewidth=elinewidth,errorevery=1,capsize=capsize)\n",
    "#plot fits\n",
    "ax.plot(x_values, y_hat_values, c=c, lw=2, alpha=1, linestyle='solid')\n",
    "\n",
    "#format plot\n",
    "ax.set_xlim(xlim)\n",
    "ax.set_ylim(ylim)\n",
    "# ax.set_ylim([-0.5,.1])\n",
    "ax.set_xlabel(x_label, fontsize=fontsize)\n",
    "ax.set_ylabel(y_label, fontsize=fontsize)\n",
    "ax.tick_params(axis='both', which='major', labelsize=fontsize)\n",
    "ax.tick_params(axis='both', which='minor', labelsize=0)\n",
    "\n",
    "\n",
    "ax.set_title(f'tavg1={navg1*DT:.3f} ms\\n',fontsize=fontsize)\n",
    "plt.tight_layout()\n",
    "plt.show()"
   ]
  },
  {
   "cell_type": "code",
   "execution_count": 80,
   "metadata": {
    "ExecuteTime": {
     "end_time": "2021-08-09T20:52:09.176228Z",
     "start_time": "2021-08-09T20:52:09.140167Z"
    },
    "hidden": true
   },
   "outputs": [],
   "source": [
    "# option A: use two OLS methods\n",
    "# option B: use my previous wnlfit method IF it has uncertainty built in under the hood (clearly)\n",
    "#DONE: (i) find the exponent at large r\n",
    "#DONE: (ii) find the decay rate at large r"
   ]
  },
  {
   "cell_type": "markdown",
   "metadata": {
    "ExecuteTime": {
     "end_time": "2021-08-09T08:27:29.921922Z",
     "start_time": "2021-08-09T08:27:29.905514Z"
    },
    "hidden": true
   },
   "source": [
    "Results For the FK model:\n",
    "\n",
    "considering ranges from r=0.3 to r=0.9 cm,\n",
    "- the apparent exponent for kappa=B*r^m is m=-2.401+-0.075,\n",
    "- the apparent magnitude is B=4.314+-0.049 cm^p/s."
   ]
  },
  {
   "cell_type": "code",
   "execution_count": 81,
   "metadata": {
    "ExecuteTime": {
     "end_time": "2021-08-09T20:52:13.466582Z",
     "start_time": "2021-08-09T20:52:13.437227Z"
    },
    "hidden": true
   },
   "outputs": [],
   "source": [
    "#this didn't make sensible results for some reason...\n",
    "# #compute the apparent magnitude, M supposing the exponent m=2\n",
    "# # plot_slope_of_emsd?\n",
    "# #compute the apparent exponent\n",
    "# m=dict_loglog['m']\n",
    "# # print(f\"m={m}\")\n",
    "# xmin=0.3\n",
    "# boo=x_values>xmin\n",
    "# x=x_values[boo].copy()\n",
    "# y=y_values[boo].copy()*x**m\n",
    "# # y=np.pi/2*y*x**2\n",
    "# dict_linlin=compute_95CI_ols(x,y)\n",
    "# print(f\"the apparent magnitude is M={dict_linlin['m']:.3f}+-{dict_linlin['Delta_m']:.3f} cm^p/s\")\n",
    "# print_dict(dict_linlin)"
   ]
  },
  {
   "cell_type": "code",
   "execution_count": 566,
   "metadata": {
    "ExecuteTime": {
     "end_time": "2021-08-09T09:37:04.377649Z",
     "start_time": "2021-08-09T09:37:04.361694Z"
    },
    "hidden": true
   },
   "outputs": [],
   "source": [
    "#DOEN: get a function that goes through all the points!\n",
    "#TODO(later): refine a function that goes through all the points!\n",
    "#HINT: see my previous wnlfit method. compute RMSE."
   ]
  },
  {
   "cell_type": "markdown",
   "metadata": {},
   "source": [
    "# compute the intersection point of kappa versus r\n",
    "- for ^those\n",
    "- for the curve resulting from $M=\\frac{\\pi}{2} \\kappa r^{2(1-m)}$"
   ]
  },
  {
   "cell_type": "code",
   "execution_count": 204,
   "metadata": {
    "ExecuteTime": {
     "end_time": "2021-08-24T03:54:54.971975Z",
     "start_time": "2021-08-24T03:54:54.951983Z"
    }
   },
   "outputs": [],
   "source": [
    "#compute kappa versus r using dimensional analysis\n",
    "def estimate_kappa_from_drates(r,M,m):\n",
    "    return M*(np.pi*r**2/2)**(1-m)"
   ]
  },
  {
   "cell_type": "code",
   "execution_count": 205,
   "metadata": {
    "ExecuteTime": {
     "end_time": "2021-08-24T03:54:55.711669Z",
     "start_time": "2021-08-24T03:54:55.694182Z"
    }
   },
   "outputs": [],
   "source": [
    "#powerlaw fits for LR and FK model for death rates\n",
    "m_fk=1.945;#+-0.030; B_fk=2.441+-0.051\n",
    "m_lr=1.544;#+-0.034; B_lr=5.870+-0.137\n",
    "M_fk=5.67;#+-0.39 Hz*cm^{2(m-1)}\n",
    "M_lr=15.37;#+-1.57 Hz*cm^{2(m-1)}\n",
    "# RMSE_fk=0.1252 Hz/cm^2\n",
    "# RMSE_lr=0.0974 Hz/cm^2\n",
    "# R^2=0.997 (FK)\n",
    "# R^2=0.994 (LR)\n",
    "# yscale=10**3\n",
    "xv=np.arange(0.1,1.,.05)\n",
    "yv_fk=M_fk*(xv)**m_fk\n",
    "yv_lr=M_lr*(xv)**m_lr\n",
    "# yv_fk=np.exp(M_fk)*(xv)**m_fk\n",
    "# yv_lr=np.exp(M_lr)*(xv)**m_lr"
   ]
  },
  {
   "cell_type": "code",
   "execution_count": 206,
   "metadata": {
    "ExecuteTime": {
     "end_time": "2021-08-24T03:54:56.410987Z",
     "start_time": "2021-08-24T03:54:56.309694Z"
    }
   },
   "outputs": [
    {
     "data": {
      "image/png": "[encoded data removed]",
      "text/plain": [
       "<Figure size 432x288 with 1 Axes>"
      ]
     },
     "metadata": {
      "needs_background": "light"
     },
     "output_type": "display_data"
    }
   ],
   "source": [
    "plt.plot(xv*25/2,yv_lr*25)\n",
    "plt.xlabel('N/2')\n",
    "plt.ylabel('death rate (Hz)')\n",
    "plt.show()"
   ]
  },
  {
   "cell_type": "markdown",
   "metadata": {},
   "source": [
    "considering ranges from r=0.160 to r=0.430 cm,\n",
    "the apparent exponent for kappa=b*r^m is m=-1.697+-0.030,\n",
    "the apparent magnitude is b=41.857+-~~1.040 cm^p/s.\n",
    "\n",
    "ols fit:\n",
    "m=-1.696859127781343\n",
    "Delta_m=0.03036315553775994\n",
    "b=3.734261877278228\n",
    "Delta_b=0.0392134280979438\n",
    "Rsquared=0.9985020009684339\n",
    "saved results to /home/timothytyree/Documents/GitHub/care/notebooks/Data/initial-conditions-suite-3-LR/param_qu_tmax_30_Ko_5.4_diffCoef_0.0005_dt_0.025/reaction_rates_bins_30.csv"
   ]
  },
  {
   "cell_type": "markdown",
   "metadata": {},
   "source": [
    "## For the FK model"
   ]
  },
  {
   "cell_type": "code",
   "execution_count": 207,
   "metadata": {
    "ExecuteTime": {
     "end_time": "2021-08-24T03:54:57.714975Z",
     "start_time": "2021-08-24T03:54:57.692152Z"
    }
   },
   "outputs": [
    {
     "name": "stdout",
     "output_type": "stream",
     "text": [
      "considering ranges from r=0.170 to r=0.855 cm,\n",
      "the apparent exponent for kappa=b*r^m is m=-2.139+-0.092,\n",
      "the apparent magnitude is b=85.281+-~~1.086 cm^p/s.\n",
      "\n",
      "ols fit:\n",
      "m=-2.1391358628305337\n",
      "Delta_m=0.09238729094127318\n",
      "b=4.445957176516194\n",
      "Delta_b=0.08285352809366693\n",
      "Rsquared=0.988955648097024\n"
     ]
    }
   ],
   "source": [
    "tavg1=0.5\n",
    "#FK kappa versus r from trajectories\n",
    "input_fn=\"/home/timothytyree/Documents/GitHub/care/notebooks/Data/initial-conditions-fk-200x200/param_set_8_ds_5.0_tmax_30_diffCoef_0.001_dt_0.025/reaction_rates_bins_30.csv\"\n",
    "# #LR kappa versus r from trajectories\n",
    "# input_fn=\"/home/timothytyree/Documents/GitHub/care/notebooks/Data/initial-conditions-suite-3-LR/param_qu_tmax_30_Ko_5.4_diffCoef_0.0005_dt_0.025/reaction_rates_bins_30.csv\"\n",
    "df=pd.read_csv(input_fn)\n",
    "df.dropna(inplace=True)\n",
    "x_values=df['r'].values\n",
    "y_values=df['kappa'].values\n",
    "y_err_values=df['Delta_kappa'].values\n",
    "\n",
    "#fit the apparent exponent and magnitude of a powerlaw\n",
    "xmin=0.15\n",
    "boo=x_values>xmin\n",
    "x=np.log(x_values)[boo]\n",
    "y=np.log(y_values)[boo]\n",
    "dict_loglog=compute_95CI_ols(x,y)\n",
    "y_hat_values=np.exp(dict_loglog['b'])*x_values**dict_loglog['m']\n",
    "print(f\"considering ranges from r={np.exp(np.min(x)):.3f} to r={np.exp(np.max(x)):.3f} cm,\")\n",
    "print(f\"the apparent exponent for kappa=b*r^m is m={dict_loglog['m']:.3f}+-{dict_loglog['Delta_m']:.3f},\")\n",
    "print(f\"the apparent magnitude is b={np.exp(dict_loglog['b']):.3f}+-~~{np.exp(dict_loglog['Delta_b']):.3f} cm^p/s.\")\n",
    "print(f\"\\nols fit:\")\n",
    "print_dict(dict_loglog)\n",
    "\n",
    "# #save results after bootstrapping\n",
    "# trial_folder_name=os.path.dirname(os.path.dirname(input_fn))\n",
    "# os.chdir(trial_folder_name)\n",
    "# save_fn=f'reaction_rates_bins_{bins}.csv'\n",
    "# df_kappa.to_csv(save_fn,index=False)\n",
    "# print(f\"saved results to {os.path.abspath(save_fn)}\")"
   ]
  },
  {
   "cell_type": "code",
   "execution_count": 208,
   "metadata": {
    "ExecuteTime": {
     "end_time": "2021-08-24T03:54:58.512045Z",
     "start_time": "2021-08-24T03:54:58.393029Z"
    }
   },
   "outputs": [
    {
     "data": {
      "image/png": "[encoded data removed]",
      "text/plain": [
       "<Figure size 360x288 with 1 Axes>"
      ]
     },
     "metadata": {
      "needs_background": "light"
     },
     "output_type": "display_data"
    }
   ],
   "source": [
    "M=M_fk#lr\n",
    "m=m_fk#lr\n",
    "x_trgt=0.025\n",
    "y_trgt=estimate_kappa_from_drates(x_trgt,M,m)\n",
    "c='C0'#'C1'\n",
    "#plot mean radial velocities\n",
    "fig, ax = plt.subplots(ncols=1, figsize=(5, 4))\n",
    "\n",
    "# def PlotYErrorBar(x_values,y=y_values,yerr=y_err_values):\n",
    "#kwargs\n",
    "alpha=0.5\n",
    "\n",
    "fontsize=18\n",
    "elinewidth=3\n",
    "markersize=3\n",
    "capsize=3\n",
    "xlim=[0, 1.]\n",
    "ylim=[0,5000]\n",
    "x_label=r'r (cm)'\n",
    "y_label=r'$\\kappa$ (Hz)'\n",
    "\n",
    "ax.errorbar(x=x_values,y=y_values,yerr=y_err_values,\n",
    "                c=c,alpha=alpha,fmt='o',markersize=markersize,ecolor=c,elinewidth=elinewidth,errorevery=1,capsize=capsize)\n",
    "#plot fits\n",
    "ax.plot(x_values, y_hat_values, c=c, lw=2, alpha=1, linestyle='solid')\n",
    "\n",
    "#plot the data from the empirical data\n",
    "ax.plot(x_values, estimate_kappa_from_drates(x_values,M,m), c='k', lw=2, alpha=1.,linestyle='dashed')\n",
    "ax.scatter([x_trgt],[y_trgt],marker='*',c='k',s=250,alpha=0.8)\n",
    "\n",
    "#format plot\n",
    "ax.set_xlim(xlim)\n",
    "ax.set_ylim(ylim)\n",
    "# ax.set_ylim([-0.5,.1])\n",
    "ax.set_xlabel(x_label, fontsize=fontsize)\n",
    "ax.set_ylabel(y_label, fontsize=fontsize)\n",
    "ax.tick_params(axis='both', which='major', labelsize=fontsize)\n",
    "ax.tick_params(axis='both', which='minor', labelsize=0)\n",
    "\n",
    "\n",
    "ax.set_title(f'tavg1={tavg1:.3f} ms\\n(r,kappa)=({x_trgt:.3f} cm,{y_trgt:.0f} Hz)\\n',fontsize=fontsize)\n",
    "plt.tight_layout()\n",
    "plt.show()"
   ]
  },
  {
   "cell_type": "markdown",
   "metadata": {},
   "source": [
    "## For the LR model"
   ]
  },
  {
   "cell_type": "code",
   "execution_count": 209,
   "metadata": {
    "ExecuteTime": {
     "end_time": "2021-08-24T03:54:59.176108Z",
     "start_time": "2021-08-24T03:54:59.155735Z"
    }
   },
   "outputs": [
    {
     "name": "stdout",
     "output_type": "stream",
     "text": [
      "considering ranges from r=0.160 to r=0.430 cm,\n",
      "the apparent exponent for kappa=b*r^m is m=-1.697+-0.030,\n",
      "the apparent magnitude is b=41.857+-~~1.040 cm^p/s.\n",
      "\n",
      "ols fit:\n",
      "m=-1.696859127781343\n",
      "Delta_m=0.030363155537759815\n",
      "b=3.734261877278228\n",
      "Delta_b=0.039213428097943634\n",
      "Rsquared=0.9985020009684339\n"
     ]
    }
   ],
   "source": [
    "tavg1=0.5\n",
    "#FK kappa versus r from trajectories\n",
    "# input_fn=\"/home/timothytyree/Documents/GitHub/care/notebooks/Data/initial-conditions-fk-200x200/param_set_8_ds_5.0_tmax_30_diffCoef_0.001_dt_0.025/reaction_rates_bins_30.csv\"\n",
    "# #LR kappa versus r from trajectories\n",
    "input_fn=\"/home/timothytyree/Documents/GitHub/care/notebooks/Data/initial-conditions-suite-3-LR/param_qu_tmax_30_Ko_5.4_diffCoef_0.0005_dt_0.025/reaction_rates_bins_30.csv\"\n",
    "df=pd.read_csv(input_fn)\n",
    "df.dropna(inplace=True)\n",
    "x_values=df['r'].values\n",
    "y_values=df['kappa'].values\n",
    "y_err_values=df['Delta_kappa'].values\n",
    "\n",
    "#fit the apparent exponent and magnitude of a powerlaw\n",
    "xmin=0.15\n",
    "boo=x_values>xmin\n",
    "x=np.log(x_values)[boo]\n",
    "y=np.log(y_values)[boo]\n",
    "dict_loglog=compute_95CI_ols(x,y)\n",
    "y_hat_values=np.exp(dict_loglog['b'])*x_values**dict_loglog['m']\n",
    "print(f\"considering ranges from r={np.exp(np.min(x)):.3f} to r={np.exp(np.max(x)):.3f} cm,\")\n",
    "print(f\"the apparent exponent for kappa=b*r^m is m={dict_loglog['m']:.3f}+-{dict_loglog['Delta_m']:.3f},\")\n",
    "print(f\"the apparent magnitude is b={np.exp(dict_loglog['b']):.3f}+-~~{np.exp(dict_loglog['Delta_b']):.3f} cm^p/s.\")\n",
    "print(f\"\\nols fit:\")\n",
    "print_dict(dict_loglog)\n",
    "\n",
    "# #save results after bootstrapping\n",
    "# trial_folder_name=os.path.dirname(os.path.dirname(input_fn))\n",
    "# os.chdir(trial_folder_name)\n",
    "# save_fn=f'reaction_rates_bins_{bins}.csv'\n",
    "# df_kappa.to_csv(save_fn,index=False)\n",
    "# print(f\"saved results to {os.path.abspath(save_fn)}\")"
   ]
  },
  {
   "cell_type": "code",
   "execution_count": 210,
   "metadata": {
    "ExecuteTime": {
     "end_time": "2021-08-24T03:54:59.945637Z",
     "start_time": "2021-08-24T03:54:59.799888Z"
    }
   },
   "outputs": [
    {
     "data": {
      "image/png": "[encoded data removed]",
      "text/plain": [
       "<Figure size 360x288 with 1 Axes>"
      ]
     },
     "metadata": {
      "needs_background": "light"
     },
     "output_type": "display_data"
    }
   ],
   "source": [
    "M=M_lr\n",
    "m=m_lr\n",
    "x_trgt=0.025\n",
    "y_trgt=estimate_kappa_from_drates(x_trgt,M,m)\n",
    "c='C1'\n",
    "#plot mean radial velocities\n",
    "fig, ax = plt.subplots(ncols=1, figsize=(5, 4))\n",
    "\n",
    "# def PlotYErrorBar(x_values,y=y_values,yerr=y_err_values):\n",
    "#kwargs\n",
    "alpha=0.5\n",
    "\n",
    "fontsize=18\n",
    "elinewidth=3\n",
    "markersize=3\n",
    "capsize=3\n",
    "xlim=[0, 1.]\n",
    "ylim=[0,5000]\n",
    "x_label=r'r (cm)'\n",
    "y_label=r'$\\kappa$ (Hz)'\n",
    "\n",
    "ax.errorbar(x=x_values,y=y_values,yerr=y_err_values,\n",
    "                c=c,alpha=alpha,fmt='o',markersize=markersize,ecolor=c,elinewidth=elinewidth,errorevery=1,capsize=capsize)\n",
    "#plot fits\n",
    "ax.plot(x_values, y_hat_values, c=c, lw=2, alpha=1, linestyle='solid')\n",
    "\n",
    "#plot the data from the empirical data\n",
    "ax.plot(x_values, estimate_kappa_from_drates(x_values,M,m), c='k', lw=2, alpha=1.,linestyle='dashed')\n",
    "ax.scatter([x_trgt],[y_trgt],marker='*',c='k',s=250,alpha=0.8)\n",
    "\n",
    "#format plot\n",
    "ax.set_xlim(xlim)\n",
    "ax.set_ylim(ylim)\n",
    "# ax.set_ylim([-0.5,.1])\n",
    "ax.set_xlabel(x_label, fontsize=fontsize)\n",
    "ax.set_ylabel(y_label, fontsize=fontsize)\n",
    "ax.tick_params(axis='both', which='major', labelsize=fontsize)\n",
    "ax.tick_params(axis='both', which='minor', labelsize=0)\n",
    "\n",
    "\n",
    "ax.set_title(f'tavg1={tavg1:.3f} ms\\n(r,kappa)=({x_trgt:.3f} cm,{y_trgt:.0f} Hz)\\n',fontsize=fontsize)\n",
    "plt.tight_layout()\n",
    "plt.show()"
   ]
  },
  {
   "cell_type": "code",
   "execution_count": null,
   "metadata": {},
   "outputs": [],
   "source": []
  },
  {
   "cell_type": "code",
   "execution_count": null,
   "metadata": {},
   "outputs": [],
   "source": []
  },
  {
   "cell_type": "code",
   "execution_count": null,
   "metadata": {},
   "outputs": [],
   "source": []
  },
  {
   "cell_type": "code",
   "execution_count": null,
   "metadata": {},
   "outputs": [],
   "source": []
  },
  {
   "cell_type": "code",
   "execution_count": null,
   "metadata": {},
   "outputs": [],
   "source": []
  },
  {
   "cell_type": "code",
   "execution_count": null,
   "metadata": {},
   "outputs": [],
   "source": []
  }
 ],
 "metadata": {
  "kernelspec": {
   "display_name": "Python 3",
   "language": "python",
   "name": "python3"
  },
  "language_info": {
   "codemirror_mode": {
    "name": "ipython",
    "version": 3
   },
   "file_extension": ".py",
   "mimetype": "text/x-python",
   "name": "python",
   "nbconvert_exporter": "python",
   "pygments_lexer": "ipython3",
   "version": "3.7.6"
  },
  "toc": {
   "base_numbering": 1,
   "nav_menu": {},
   "number_sections": true,
   "sideBar": true,
   "skip_h1_title": false,
   "title_cell": "Table of Contents",
   "title_sidebar": "Contents",
   "toc_cell": false,
   "toc_position": {},
   "toc_section_display": true,
   "toc_window_display": false
  },
  "varInspector": {
   "cols": {
    "lenName": 16,
    "lenType": 16,
    "lenVar": 40
   },
   "kernels_config": {
    "python": {
     "delete_cmd_postfix": "",
     "delete_cmd_prefix": "del ",
     "library": "var_list.py",
     "varRefreshCmd": "print(var_dic_list())"
    },
    "r": {
     "delete_cmd_postfix": ") ",
     "delete_cmd_prefix": "rm(",
     "library": "var_list.r",
     "varRefreshCmd": "cat(var_dic_list()) "
    }
   },
   "types_to_exclude": [
    "module",
    "function",
    "builtin_function_or_method",
    "instance",
    "_Feature"
   ],
   "window_display": false
  }
 },
 "nbformat": 4,
 "nbformat_minor": 4
}
