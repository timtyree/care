{
 "cells": [
  {
   "cell_type": "markdown",
   "metadata": {},
   "source": [
    "# Identifying Odd Births and Deaths\n",
    "Tim Tyree <br>\n",
    "May 26, 2020"
   ]
  },
  {
   "cell_type": "markdown",
   "metadata": {},
   "source": [
    "### __Goals__\n",
    "1. quantify number of births/death numbers that are odd integers\n",
    "2. select those odd births/deaths\n",
    "3. find out what they have in common?\n",
    "\n",
    "__TODO: Simulation Workflow - save buffers when odd birth/death occurs__<br>\n",
    "- TODO: add function that compares previous to current birth-death rate and checks for a certain change\n",
    "- TODO: save buffer every time an odd birth/death occurs"
   ]
  },
  {
   "cell_type": "markdown",
   "metadata": {},
   "source": [
    "### initialize/load the data"
   ]
  },
  {
   "cell_type": "code",
   "execution_count": 1,
   "metadata": {
    "ExecuteTime": {
     "end_time": "2020-05-28T07:15:13.452527Z",
     "start_time": "2020-05-28T07:15:10.080682Z"
    }
   },
   "outputs": [
    {
     "name": "stdout",
     "output_type": "stream",
     "text": [
      "Automatic calling is: Smart\n"
     ]
    }
   ],
   "source": [
    "import numpy as np, pandas as pd, matplotlib.pyplot as plt, os\n",
    "from pylab import imshow, show\n",
    "import skimage as sk\n",
    "from skimage import measure, filters\n",
    "from PIL import Image\n",
    "import imageio\n",
    "import seaborn as sns\n",
    "from ast import literal_eval\n",
    "\n",
    "if 'nb_dir' not in globals():\n",
    "    nb_dir = os.getcwd()\n",
    "\n",
    "width = 512\n",
    "height = 512\n",
    "channel_no = 3\n",
    "\n",
    "from lib.minimal_model import *\n",
    "from lib.TexturePlot import *\n",
    "from lib.get_tips import *\n",
    "from lib.minimal_model import *\n",
    "from lib.intersection import *\n",
    "from lib.ProgressBar import *\n",
    "\n",
    "#TODO: use cuda via numba\n",
    "# from numba import jit, njit, vectorize, cuda, uint32, f8, uint8\n",
    "# from lib.contours_to_tips import *\n",
    "\n",
    "#automate the boring stuff\n",
    "from IPython import utils\n",
    "import time, os, sys, re\n",
    "beep = lambda x: os.system(\"echo -n '\\\\a';sleep 0.2;\" * x)\n",
    "if not 'nb_dir' in globals():\n",
    "    nb_dir = os.getcwd()\n",
    "width = 512\n",
    "height = 512\n",
    "channel_no = 3\n",
    "\n",
    "%autocall 1\n",
    "%load_ext autoreload\n",
    "%autoreload 2\n",
    "\n",
    "def save_fun(descrip,ext='.png'):\n",
    "    return f'Figures/odd/odd_births_deaths_{descrip}{ext}'"
   ]
  },
  {
   "cell_type": "code",
   "execution_count": 2,
   "metadata": {
    "ExecuteTime": {
     "end_time": "2020-05-28T07:15:13.797194Z",
     "start_time": "2020-05-28T07:15:13.457804Z"
    }
   },
   "outputs": [
    {
     "data": {
      "text/html": [
       "<div>\n",
       "<style scoped>\n",
       "    .dataframe tbody tr th:only-of-type {\n",
       "        vertical-align: middle;\n",
       "    }\n",
       "\n",
       "    .dataframe tbody tr th {\n",
       "        vertical-align: top;\n",
       "    }\n",
       "\n",
       "    .dataframe thead th {\n",
       "        text-align: right;\n",
       "    }\n",
       "</style>\n",
       "<table border=\"1\" class=\"dataframe\">\n",
       "  <thead>\n",
       "    <tr style=\"text-align: right;\">\n",
       "      <th></th>\n",
       "      <th>s</th>\n",
       "      <th>t</th>\n",
       "      <th>x</th>\n",
       "      <th>y</th>\n",
       "    </tr>\n",
       "  </thead>\n",
       "  <tbody>\n",
       "    <tr>\n",
       "      <th>0</th>\n",
       "      <td>()</td>\n",
       "      <td>0.1</td>\n",
       "      <td>()</td>\n",
       "      <td>()</td>\n",
       "    </tr>\n",
       "    <tr>\n",
       "      <th>1</th>\n",
       "      <td>()</td>\n",
       "      <td>0.2</td>\n",
       "      <td>()</td>\n",
       "      <td>()</td>\n",
       "    </tr>\n",
       "    <tr>\n",
       "      <th>2</th>\n",
       "      <td>()</td>\n",
       "      <td>0.3</td>\n",
       "      <td>()</td>\n",
       "      <td>()</td>\n",
       "    </tr>\n",
       "    <tr>\n",
       "      <th>3</th>\n",
       "      <td>()</td>\n",
       "      <td>0.4</td>\n",
       "      <td>()</td>\n",
       "      <td>()</td>\n",
       "    </tr>\n",
       "    <tr>\n",
       "      <th>4</th>\n",
       "      <td>((2, 2),)</td>\n",
       "      <td>0.5</td>\n",
       "      <td>([223.00920390582573, 223.13931741836333, 223....</td>\n",
       "      <td>([264.8208521326477, 256.9705731112276, 255.02...</td>\n",
       "    </tr>\n",
       "  </tbody>\n",
       "</table>\n",
       "</div>"
      ],
      "text/plain": [
       "           s    t                                                  x  \\\n",
       "0         ()  0.1                                                 ()   \n",
       "1         ()  0.2                                                 ()   \n",
       "2         ()  0.3                                                 ()   \n",
       "3         ()  0.4                                                 ()   \n",
       "4  ((2, 2),)  0.5  ([223.00920390582573, 223.13931741836333, 223....   \n",
       "\n",
       "                                                   y  \n",
       "0                                                 ()  \n",
       "1                                                 ()  \n",
       "2                                                 ()  \n",
       "3                                                 ()  \n",
       "4  ([264.8208521326477, 256.9705731112276, 255.02...  "
      ]
     },
     "execution_count": 2,
     "metadata": {},
     "output_type": "execute_result"
    }
   ],
   "source": [
    "# data_dir = 'Data/tip_log_circle6_at_time_3012.8.csv' # 2 tips in uniform circular motion\n",
    "# data_dir = 'Data/tip_log_circle6_params_changed_at_time_1800.0.csv' # chaos - sigma = 1, threshold = 0.9, no wrapping\n",
    "# data_dir = 'Data/tip_log_chaos_circle6_sigma_2_at_time_3600.2.csv'  # chaos - sigma = 2, threshold = 0.9, no wrapping\n",
    "# data_dir = 'Data/tip_log_chaos_circle6_sigma_2_wrapping_at_time_1800.0.csv'\n",
    "# data_dir = 'Data/tip_log_chaos_circle6_sigma_3_threshold_0.8_wrapping_true_at_time_1800.0.csv'\n",
    "data_dir = 'Data/tip_log_chaos_circle6_sigma_4_threshold_0.9_wrapping_true_at_time_1800.0.csv'\n",
    "descrip = data_dir.replace('Data/tip_log_chaos_circle6_','')[:-4]\n",
    "# descrip = 'sigma_3_threshold_0.8_yes_wrapping'\n",
    "df = pd.read_csv(data_dir)\n",
    "df.head()"
   ]
  },
  {
   "cell_type": "code",
   "execution_count": 3,
   "metadata": {
    "ExecuteTime": {
     "end_time": "2020-05-28T07:15:13.893670Z",
     "start_time": "2020-05-28T07:15:13.807147Z"
    }
   },
   "outputs": [
    {
     "data": {
      "text/plain": [
       "'sigma_4_threshold_0.9_wrapping_true_at_time_1800.0'"
      ]
     },
     "execution_count": 3,
     "metadata": {},
     "output_type": "execute_result"
    }
   ],
   "source": [
    "# data_dir.replace('Data/tip_log_chaos_circle6_','')[:-4]"
   ]
  },
  {
   "cell_type": "markdown",
   "metadata": {},
   "source": [
    "# Compute how often odd births/deaths occur"
   ]
  },
  {
   "cell_type": "code",
   "execution_count": 4,
   "metadata": {
    "ExecuteTime": {
     "end_time": "2020-05-28T07:15:27.600228Z",
     "start_time": "2020-05-28T07:15:13.898223Z"
    }
   },
   "outputs": [],
   "source": [
    "#compute the number of spiral tips\n",
    "t_values = []\n",
    "n_values = []\n",
    "for j in range(df.t.size):\n",
    "    t = df.iloc[j].t\n",
    "    t_values.append(t)\n",
    "    x = df.iloc[j].x\n",
    "    n = x.count('.')#.replace('[','').replace(']','').count('.')\n",
    "    n_values.append(n)\n",
    "df['n'] = n_values\n",
    "df['dn'] = df['n'].diff()\n",
    "df = df.dropna().astype({'dn': 'int32'}).copy()\n",
    "\n",
    "#check a tautology given the above\n",
    "# assert(df[boo_odd].tail(1).x.values[0].count('.') == df[boo_odd].tail(1).n.values[0])"
   ]
  },
  {
   "cell_type": "code",
   "execution_count": 5,
   "metadata": {
    "ExecuteTime": {
     "end_time": "2020-05-28T07:15:27.695066Z",
     "start_time": "2020-05-28T07:15:27.603503Z"
    }
   },
   "outputs": [
    {
     "name": "stdout",
     "output_type": "stream",
     "text": [
      "> odd birthdeaths occured with # of births/deaths per event = [ 1 -1].<br>\n",
      "> total # of odd birth/death events detected 20.<br>\n",
      "> total # of birth/death events detected 542.<br>\n",
      "> the percent of birth/deaths that were odd was 3.7%.<br>\n",
      "\n",
      "> # of frames with an odd # of spiral tips created/destroyed = 20<br>\n",
      "> # of frames with an odd # of spiral tips existing = 86<br>\n",
      "> fraction of such frames that are odd births/deaths = 0.2326<br>\n"
     ]
    }
   ],
   "source": [
    "#find/select the birth/deaths values that are odd\n",
    "dn_values = np.diff(np.array(n_values))\n",
    "set_bd = list(set(dn_values))\n",
    "boo = [dn % 2 == 1 for dn in set_bd]\n",
    "set_odd = np.array(set_bd)[boo]  # the set of all odd birth/death types\n",
    "boo_odd = df.t.isnull().values\n",
    "for odd in set_odd:\n",
    "    boo_odd |= (df.dn == odd)\n",
    "\n",
    "#a time series of when/where nontrivial birth/deaths occur\n",
    "series_bd = df.loc[df.dn != 0].dropna().dn\n",
    "num_odds = len(df[boo_odd].t.values)\n",
    "num_total = len(series_bd.values)\n",
    "\n",
    "#bluf - fraction of odd births/deaths\n",
    "print(f\"> odd birthdeaths occured with # of births/deaths per event = {set_odd}.<br>\")\n",
    "print(f\"> total # of odd birth/death events detected {num_odds}.<br>\")\n",
    "print(f\"> total # of birth/death events detected {num_total}.<br>\")\n",
    "print(f\"> the percent of birth/deaths that were odd was {100*num_odds/num_total:.1f}%.<br>\")\n",
    "\n",
    "#bluf - stability of odd spiral tip numbers\n",
    "print('')\n",
    "print(f\"> # of frames with an odd # of spiral tips created/destroyed = {sum(df.dn%2!=0)}<br>\")\n",
    "print(f\"> # of frames with an odd # of spiral tips existing = {sum(df.n%2!=0)}<br>\")\n",
    "print(f\"> fraction of such frames that are odd births/deaths = {sum(df.dn%2!=0)/sum(df.n%2!=0):.4f}<br>\")"
   ]
  },
  {
   "cell_type": "markdown",
   "metadata": {},
   "source": [
    "__Results for chaotic data runs__\n",
    "1. for data_dir = 'Data/tip_log_circle6_params_changed_at_time_1800.0.csv'\n",
    "    - sigma = 1, threshold = 0.9, no blur wrapping\n",
    "    -   >odd birthdeaths occured with [ 1  3 -9 -7 -1 -3] # of births/deaths.<br>\n",
    "        >total # of odd birth/death events detected 72.<br>\n",
    "        >total # of birth/death events detected 641.<br>\n",
    "        >the percent of birth/deaths that were odd was 11.2%.<br>\n",
    "1. for data_dir = 'Data/tip_log_chaos_circle6_sigma_2_at_time_3600.2.csv' \n",
    "    - sigma = 2, threshold = 0.9, no blur wrapping\n",
    "    -   >odd birthdeaths occured with [ 1 -1] # of births/deaths.<br>\n",
    "        >total # of odd birth/death events detected 43.<br>\n",
    "        >total # of birth/death events detected 143.<br>\n",
    "        >the percent of birth/deaths that were odd was 33.6%.<br>\n",
    "1. for data_dir = 'Data/tip_log_chaos_circle6_sigma_2_at_time_3600.2.csv' \n",
    "    - sigma = 2, threshold = 0.9, blur wrapping in use\n",
    "    -    >odd birthdeaths occured with # of births/deaths per event = [ 1 -1].<br>\n",
    "        >total # of odd birth/death events detected 18.<br>\n",
    "        >total # of birth/death events detected 113.<br>\n",
    "        >the percent of birth/deaths that were odd was 15.9%.<br>\n",
    "1. data_dir = 'Data/tip_log_chaos_circle6_sigma_3_threshold_0.8_wrapping_true_at_time_1800.0.csv'\n",
    "    - > odd birthdeaths occured with # of births/deaths per event = [ 1 -1].<br>\n",
    "    > total # of odd birth/death events detected 22.<br>\n",
    "    > total # of birth/death events detected 102.<br>\n",
    "    > the percent of birth/deaths that were odd was 21.6%.<br>\n",
    "1. data_dir = 'Data/tip_log_chaos_circle6_sigma_4_threshold_0.9_wrapping_true_at_time_1800.0.csv'\n",
    "    - > odd birthdeaths occured with # of births/deaths per event = [ 1 -1].<br>\n",
    "    > total # of odd birth/death events detected 20.<br>\n",
    "    > total # of birth/death events detected 542.<br>\n",
    "    > the percent of birth/deaths that were odd was 3.7%.<br>"
   ]
  },
  {
   "cell_type": "markdown",
   "metadata": {},
   "source": [
    "# Histogram and temporal occurance of odd births/deaths "
   ]
  },
  {
   "cell_type": "code",
   "execution_count": 6,
   "metadata": {
    "ExecuteTime": {
     "end_time": "2020-05-28T07:15:27.769430Z",
     "start_time": "2020-05-28T07:15:27.697950Z"
    }
   },
   "outputs": [],
   "source": [
    "# discriminate odd births from odd deaths\n",
    "todd_values, nodd_values = df[boo_odd][['t','n']].values.T\n",
    "todd_b_values, nodd_b_values = df[(df.dn>0) & boo_odd][['t','n']].values.T\n",
    "todd_d_values, nodd_d_values = df[(df.dn<0) & boo_odd][['t','n']].values.T"
   ]
  },
  {
   "cell_type": "code",
   "execution_count": 7,
   "metadata": {
    "ExecuteTime": {
     "end_time": "2020-05-28T07:15:29.031720Z",
     "start_time": "2020-05-28T07:15:27.774239Z"
    }
   },
   "outputs": [
    {
     "data": {
      "image/png": "[encoded data removed]",
      "text/plain": [
       "<Figure size 1152x576 with 1 Axes>"
      ]
     },
     "metadata": {
      "needs_background": "light"
     },
     "output_type": "display_data"
    }
   ],
   "source": [
    "\n",
    "#plot\n",
    "fig, ax = plt.subplots(figsize=(16,8))\n",
    "fontsize = 24\n",
    "# ax.scatter(x=t_values, y=n_values, c='g', alpha=0.7, s=3)\n",
    "ax.plot(t_values, n_values, c='g', alpha=0.8, lw=2)\n",
    "ax.scatter(x=todd_b_values, y=nodd_b_values, label=f\"odd births\", c='b', s=100)\n",
    "ax.scatter(x=todd_d_values, y=nodd_d_values, label=f\"odd deaths\", c='r', s=100)\n",
    "ax.legend(fontsize=fontsize-5)\n",
    "ax.set_xlabel('time', fontsize=fontsize)\n",
    "ax.set_ylabel('number of spiral tips', fontsize=fontsize)\n",
    "ax.tick_params(axis='both', labelsize= fontsize)\n",
    "\n",
    "plt.tight_layout()\n",
    "# plt.show()\n",
    "plt.savefig(save_fun(descrip='odd_timeseries',ext='.svg'))\n",
    "plt.savefig(save_fun(descrip='odd_timeseries',ext='.png'))"
   ]
  },
  {
   "cell_type": "code",
   "execution_count": 32,
   "metadata": {
    "ExecuteTime": {
     "end_time": "2020-05-28T07:18:10.971679Z",
     "start_time": "2020-05-28T07:18:09.770708Z"
    }
   },
   "outputs": [
    {
     "data": {
      "image/png": "[encoded data removed]",
      "text/plain": [
       "<Figure size 864x504 with 1 Axes>"
      ]
     },
     "metadata": {
      "needs_background": "light"
     },
     "output_type": "display_data"
    }
   ],
   "source": [
    "fig, ax = plt.subplots(figsize=(12,7))\n",
    "# ax.hist(series_bd.values, bins = 50, color='g')\n",
    "ax.hist(df.loc[(~boo_odd) & (df.dn!=0)].dropna().dn, bins = 32, color='g', label='even')\n",
    "ax.hist(df.loc[(df.dn>0) & boo_odd].dropna().dn, bins = 4, color='b', label='odd births')\n",
    "ax.hist(df.loc[(df.dn<0) & boo_odd].dropna().dn, bins = 4, color='r', label='odd deaths')\n",
    "\n",
    "ax.legend(fontsize=fontsize-5)\n",
    "ax.set_xticks(list(range(-10,10,1)))\n",
    "ax.tick_params(axis='both', labelsize= fontsize)\n",
    "ax.set_xlabel('frequency', fontsize=fontsize)\n",
    "ax.set_ylabel('change in spiral tip number', fontsize=fontsize)\n",
    "plt.tight_layout()\n",
    "plt.tight_layout()\n",
    "# plt.show()\n",
    "plt.savefig(save_fun(descrip='odd_histogram',ext='.svg'))\n",
    "plt.savefig(save_fun(descrip='odd_histogram',ext='.png'))"
   ]
  },
  {
   "cell_type": "code",
   "execution_count": 9,
   "metadata": {
    "ExecuteTime": {
     "end_time": "2020-05-28T07:15:30.961703Z",
     "start_time": "2020-05-28T07:15:30.581826Z"
    }
   },
   "outputs": [
    {
     "data": {
      "text/plain": [
       "dn\n",
       "-10        2.0\n",
       "-8         1.0\n",
       "-6         7.0\n",
       "-4        31.0\n",
       "-2       225.0\n",
       "-1        10.0\n",
       " 0     17457.0\n",
       " 1        10.0\n",
       " 2       210.0\n",
       " 4        31.0\n",
       " 6        11.0\n",
       " 8         2.0\n",
       " 10        1.0\n",
       " 12        1.0\n",
       "Name: (n, count), dtype: float64"
      ]
     },
     "execution_count": 9,
     "metadata": {},
     "output_type": "execute_result"
    }
   ],
   "source": [
    "df.groupby('dn').describe()['n','count']"
   ]
  },
  {
   "cell_type": "markdown",
   "metadata": {},
   "source": [
    "# Look for commonalities between odd birth/death events\n",
    "- when did they occur?\n",
    "    - do odd births come before odd deaths?  \n",
    "        - Not really, based on visual inspection of the figure.  It looks like births come before deaths about as often as deaths come before births.  Is there useful information stored in s? If not, record total tip number instead.  Maybe there is, though.  s Tells us if higher order births/deaths are on separate contours, which could tell us if we have a higher order interaction (that conserves vorticity) or if we have tree level events that only coincidentally occur at the same time.\n",
    "            - I observed an x coordinate sublist with 4 entries together with a dn value of 4, which supports the birth of quadrupulets.  This occurred once in the set of 113 events over the period of tmax = 1800.0.  I think rather than 4 tips being created from a point, it is more likely that 2 births occurred ~simultaneously on the intersection of the same two contours.\n",
    "\n",
    "        - __TODO__: get xy positions for each tip pair and compare between frames.  use this between frames to identify odd events\n",
    "- can the topological number variable be used to identify and filter them?\n",
    "    - naïvely, no.  they are not reliably consistent between frames.  \n",
    "- do they occur near the buffer edges?\n",
    "- do they persist?\n",
    "    - not really, no.  this suggests the error lies in the detection and not the simulation\n"
   ]
  },
  {
   "cell_type": "markdown",
   "metadata": {
    "heading_collapsed": true
   },
   "source": [
    "# the recorded nested lists of topological number is not self consistent over time.  This may change with contour finding that obeys periodic boundary conditions "
   ]
  },
  {
   "cell_type": "code",
   "execution_count": 40,
   "metadata": {
    "ExecuteTime": {
     "end_time": "2020-05-28T21:18:35.703449Z",
     "start_time": "2020-05-28T21:18:35.670867Z"
    },
    "hidden": true
   },
   "outputs": [],
   "source": [
    "#as of writing this, the following sublist has 4 entries, that together with dn==4 supports the birth of quadrupulets\n",
    "# print(df[df.dn==4].x.values)\n",
    "# print(df[df.dn==4].y.values)"
   ]
  },
  {
   "cell_type": "code",
   "execution_count": 11,
   "metadata": {
    "ExecuteTime": {
     "end_time": "2020-05-28T07:15:31.798940Z",
     "start_time": "2020-05-28T07:15:31.036174Z"
    },
    "hidden": true
   },
   "outputs": [
    {
     "data": {
      "text/plain": [
       "Text(0, 0.5, 'frequency')"
      ]
     },
     "execution_count": 11,
     "metadata": {},
     "output_type": "execute_result"
    },
    {
     "data": {
      "image/png": "[encoded data removed]",
      "text/plain": [
       "<Figure size 432x288 with 1 Axes>"
      ]
     },
     "metadata": {
      "needs_background": "light"
     },
     "output_type": "display_data"
    }
   ],
   "source": [
    "#the amount of time between odd events suggests most are from misclassification, not simulation error\n",
    "plt.hist(df[boo_odd].t.diff().dropna(), bins=50, color='black')\n",
    "plt.xlim([0,350])\n",
    "plt.xlabel('time until next odd birth/death')\n",
    "plt.ylabel('frequency')"
   ]
  },
  {
   "cell_type": "code",
   "execution_count": 39,
   "metadata": {
    "ExecuteTime": {
     "end_time": "2020-05-28T21:17:51.667948Z",
     "start_time": "2020-05-28T21:17:51.619312Z"
    },
    "code_folding": [],
    "hidden": true
   },
   "outputs": [],
   "source": [
    "#compute topological numbers from prev/next frame\n",
    "df['s_prev'] = df.shift(1).s # current val sees previous val here\n",
    "df['s_next'] = df.shift(-1).s\n",
    "\n",
    "df = df.dropna().copy()\n",
    "\n",
    "# can the topological number variable be used to identify and filter them?\n",
    "s_prev, s_curr, s_next = df[boo_odd][['s_prev','s','s_next']].head(1).values.T\n",
    "r_prev = set(literal_eval(s_prev[0][1:-1]))\n",
    "r_curr = set(literal_eval(s_curr[0][1:-1]))\n",
    "r_next = set(literal_eval(s_next[0][1:-1]))\n",
    "# r_curr.difference_update(r_prev)\n",
    "# r_curr.difference_update(r_next)\n",
    "print(r_prev)\n",
    "print(r_curr)\n",
    "print(r_next)\n"
   ]
  },
  {
   "cell_type": "code",
   "execution_count": 14,
   "metadata": {
    "ExecuteTime": {
     "end_time": "2020-05-28T07:15:32.080461Z",
     "start_time": "2020-05-28T07:15:32.013262Z"
    },
    "hidden": true,
    "scrolled": true
   },
   "outputs": [
    {
     "data": {
      "text/plain": [
       "6622    ((5, 7), (6, 6))\n",
       "6623    ((5, 7), (6, 6))\n",
       "6624    ((5, 7), (6, 6))\n",
       "6625    ((5, 6), (6, 7))\n",
       "6626    ((5, 6), (6, 7))\n",
       "6627    ((5, 6), (6, 7))\n",
       "6628    ((5, 6), (6, 7))\n",
       "6629    ((5, 6), (6, 7))\n",
       "6630    ((5, 6), (6, 7))\n",
       "6631    ((5, 6), (6, 7))\n",
       "6632    ((5, 7), (6, 6))\n",
       "6633    ((5, 7), (6, 6))\n",
       "Name: s, dtype: object"
      ]
     },
     "execution_count": 14,
     "metadata": {},
     "output_type": "execute_result"
    }
   ],
   "source": [
    "df.iloc[6620:6632].s"
   ]
  },
  {
   "cell_type": "markdown",
   "metadata": {
    "hidden": true
   },
   "source": [
    "The contour numbering is not consistent:\n",
    ">6624    [(3, 6), (4, 7), (5, 4), (6, 5)]\n",
    "\n",
    ">6625    [(3, 6), (4, 7), (5, 4), (6, 5)]\n",
    "\n",
    ">6626    [(3, 6), (4, 7), (5, 4), (6, 5)]\n",
    "\n",
    ">6627    [(3, 6), (4, 7), (5, 4), (6, 5)]\n",
    "\n",
    ">6628    [(3, 6), (4, 7), (5, 4), (6, 5)]\n",
    "\n",
    ">6629    [(3, 6), (4, 7), (5, 4), (6, 5)]\n",
    "\n",
    ">6630    [(3, 6), (4, 7), (5, 4), (6, 5)]\n",
    "\n",
    ">6631    [(3, 6), (4, 7), (5, 4), (6, 5)]\n",
    "\n",
    ">6632    [(3, 7), (4, 8), (5, 6), (6, 5)]\n",
    "\n",
    ">6633            [(3, 7), (5, 6), (6, 5)]\n",
    "\n",
    ">6634            [(3, 7), (5, 6), (6, 5)]\n",
    "\n",
    ">6635            [(3, 7), (5, 5), (6, 6)]"
   ]
  },
  {
   "cell_type": "markdown",
   "metadata": {
    "hidden": true
   },
   "source": [
    "## TODO(later): topologically compute spiral tip trajectories\n",
    "- to identify odd events\n",
    "- note: this requires contours that obey periodic boundary conditions, which is not implemented as of my writing this"
   ]
  },
  {
   "cell_type": "code",
   "execution_count": 15,
   "metadata": {
    "ExecuteTime": {
     "end_time": "2020-05-28T07:15:32.238997Z",
     "start_time": "2020-05-28T07:15:32.092764Z"
    },
    "hidden": true
   },
   "outputs": [],
   "source": [
    "# TODO: get xy positions for each tip pair and compare between frames.  \n",
    "# (then)TODO: use ^this between frames to identify odd events\n",
    "\n",
    "    "
   ]
  },
  {
   "cell_type": "code",
   "execution_count": 16,
   "metadata": {
    "ExecuteTime": {
     "end_time": "2020-05-28T07:15:32.320536Z",
     "start_time": "2020-05-28T07:15:32.245859Z"
    },
    "hidden": true
   },
   "outputs": [],
   "source": [
    "# first - list of pairs of x coordinates. # second - list of pairs of y coordinates.\n",
    "d = df.tail()\n",
    "loc_lst = list(zip(literal_eval(d.x.values[0]),literal_eval(d.y.values[0])))\n",
    "tipt = d.t.values"
   ]
  },
  {
   "cell_type": "code",
   "execution_count": 17,
   "metadata": {
    "ExecuteTime": {
     "end_time": "2020-05-28T07:15:32.407671Z",
     "start_time": "2020-05-28T07:15:32.327128Z"
    },
    "hidden": true
   },
   "outputs": [
    {
     "data": {
      "text/plain": [
       "[([206.27309076070816, 212.0543074637748],\n",
       "  [87.5887233580352, 142.21668067858485]),\n",
       " ([213.93306864429582, 213.24018432471266],\n",
       "  [364.86460270126776, 424.9019116180587])]"
      ]
     },
     "execution_count": 17,
     "metadata": {},
     "output_type": "execute_result"
    }
   ],
   "source": [
    "loc_lst"
   ]
  },
  {
   "cell_type": "code",
   "execution_count": 18,
   "metadata": {
    "ExecuteTime": {
     "end_time": "2020-05-28T07:15:32.483781Z",
     "start_time": "2020-05-28T07:15:32.417703Z"
    },
    "hidden": true
   },
   "outputs": [],
   "source": [
    "r = literal_eval(df.tail().x.values[0])"
   ]
  },
  {
   "cell_type": "code",
   "execution_count": 19,
   "metadata": {
    "ExecuteTime": {
     "end_time": "2020-05-28T07:15:32.578274Z",
     "start_time": "2020-05-28T07:15:32.489210Z"
    },
    "hidden": true
   },
   "outputs": [
    {
     "name": "stdout",
     "output_type": "stream",
     "text": [
      "# of frames with an odd # of spiral tips created/destroyed = 20\n",
      "# of frames with an odd # of spiral tips existing = 86\n",
      "fraction of odd frames that are births/deaths events = 0.2326\n"
     ]
    }
   ],
   "source": [
    "print(f\"# of frames with an odd # of spiral tips created/destroyed = {sum(df.dn%2!=0)}\")\n",
    "print(f\"# of frames with an odd # of spiral tips existing = {sum(df.n%2!=0)}\")\n",
    "print(f\"fraction of odd frames that are births/deaths events = {sum(df.dn%2!=0)/sum(df.n%2!=0):.4f}\")"
   ]
  },
  {
   "cell_type": "code",
   "execution_count": 20,
   "metadata": {
    "ExecuteTime": {
     "end_time": "2020-05-28T07:15:32.642630Z",
     "start_time": "2020-05-28T07:15:32.585557Z"
    },
    "hidden": true
   },
   "outputs": [],
   "source": [
    "# ANY = False\n",
    "# N_obs = len(df.t.values)\n",
    "# print(f'looking through {N_obs} rows.')\n",
    "# feature_list = []\n",
    "# for obs, d in df.iterrows():\n",
    "#     for s, (tipx, tipy) in enumerate(loc_lst):\n",
    "#         xy_of_entangled = list(zip(tipx,tipy))\n",
    "#         if (len(xy_of_entangled)%4!=0):#)!=2:#\n",
    "# #         if (len(xy_of_entangled)%4!=0):#)!=2:#\n",
    "#             if not ANY:\n",
    "# #                 print(f\"odd number of tips detected on same contour pair! xy pixel location(s) is(are):\")\n",
    "#                 ANY = True\n",
    "# #             print(f\"at time {tipt}, xy list = {xy_of_entangled}\")  \n",
    "#         else:\n",
    "#             for x,y in xy_of_entangled:\n",
    "#                 feature_list.append([t,x,y,s])      \n",
    "# #     printProgressBar(obs + 1, N_obs, prefix = 'Progress:', suffix = 'Complete', length = 50)\n",
    "# print(\"\"\"Note: because my contours do not yet obey periodic boundary conditions, \n",
    "# the contour pair cannot reliably identify odd spiral tips.\"\"\")   "
   ]
  },
  {
   "cell_type": "code",
   "execution_count": 21,
   "metadata": {
    "ExecuteTime": {
     "end_time": "2020-05-28T07:15:32.701583Z",
     "start_time": "2020-05-28T07:15:32.646484Z"
    },
    "hidden": true
   },
   "outputs": [],
   "source": [
    "# # ANY = False\n",
    "# N_obs = len(df.t.values)\n",
    "# print(f'looking through {N_obs} rows.')\n",
    "# feature_list = []\n",
    "# for obs, d in df.iterrows():\n",
    "#     for s, (tipx, tipy) in enumerate(d):\n",
    "#         xy_of_entangled = list(zip(tipx,tipy))\n",
    "#         if (len(xy_of_entangled)%4!=0):#)!=2:#\n",
    "# #         if (len(xy_of_entangled)%4!=0):#)!=2:#\n",
    "#             if not ANY:\n",
    "# #                 print(f\"odd number of tips detected on same contour pair! xy pixel location(s) is(are):\")\n",
    "#                 ANY = True\n",
    "# #             print(f\"at time {tipt}, xy list = {xy_of_entangled}\")  \n",
    "#         else:\n",
    "#             for x,y in xy_of_entangled:\n",
    "#                 feature_list.append([t,x,y,s])      \n",
    "# #     printProgressBar(obs + 1, N_obs, prefix = 'Progress:', suffix = 'Complete', length = 50)\n",
    "# print(\"\"\"Note: because my contours do not yet obey periodic boundary conditions, \n",
    "# the contour pair cannot reliably identify odd spiral tips.\"\"\")  "
   ]
  },
  {
   "cell_type": "code",
   "execution_count": null,
   "metadata": {
    "ExecuteTime": {
     "end_time": "2020-05-28T02:33:21.280160Z",
     "start_time": "2020-05-28T02:33:21.247093Z"
    },
    "hidden": true
   },
   "outputs": [],
   "source": []
  },
  {
   "cell_type": "code",
   "execution_count": null,
   "metadata": {
    "ExecuteTime": {
     "end_time": "2020-05-28T02:13:27.883859Z",
     "start_time": "2020-05-28T02:13:27.844563Z"
    },
    "hidden": true
   },
   "outputs": [],
   "source": []
  },
  {
   "cell_type": "code",
   "execution_count": 22,
   "metadata": {
    "ExecuteTime": {
     "end_time": "2020-05-28T07:15:32.745912Z",
     "start_time": "2020-05-28T07:15:32.705142Z"
    },
    "hidden": true
   },
   "outputs": [],
   "source": [
    "# for s, (tipx, tipy) in enumerate(d[['x','y']].values):\n",
    "#     xy_of_entangled = list(zip(tipx,tipy))\n",
    "#     if (len(xy_of_entangled)%4!=0):#)!=2:#\n",
    "# #         if (len(xy_of_entangled)%4!=0):#)!=2:#\n",
    "#         if not ANY:\n",
    "# #                 print(f\"odd number of tips detected on same contour pair! xy pixel location(s) is(are):\")\n",
    "#             ANY = True\n",
    "# #             print(f\"at time {tipt}, xy list = {xy_of_entangled}\")  \n",
    "#     else:\n",
    "#         for x,y in xy_of_entangled:\n",
    "#             feature_list.append([t,x,y,s])"
   ]
  },
  {
   "cell_type": "markdown",
   "metadata": {},
   "source": [
    "# Format tip log so each tip location gets a row"
   ]
  },
  {
   "cell_type": "markdown",
   "metadata": {},
   "source": [
    "__Tip Features:__\n",
    "- **t** : time (dimensionless)\n",
    "- **x** : x coordinate (pixels)\n",
    "- **y** : y coordinate (pixels)\n",
    "- **s** : topological number (not consistent between frames)"
   ]
  },
  {
   "cell_type": "code",
   "execution_count": 23,
   "metadata": {
    "ExecuteTime": {
     "end_time": "2020-05-28T07:15:32.794863Z",
     "start_time": "2020-05-28T07:15:32.749550Z"
    }
   },
   "outputs": [],
   "source": [
    "d = df.iloc[-1]#.tail(1)  #assume d to be a pandas series instance\n",
    "t_list, n_list, dn_list = df[['t', 'n', 'dn']].values.T\n",
    "t, n, dn = tuple(d[['t', 'n', 'dn']].values[:].T)"
   ]
  },
  {
   "cell_type": "code",
   "execution_count": 24,
   "metadata": {
    "ExecuteTime": {
     "end_time": "2020-05-28T07:15:32.843609Z",
     "start_time": "2020-05-28T07:15:32.797494Z"
    }
   },
   "outputs": [],
   "source": [
    "tip_list = []\n",
    "start = time.time()\n",
    "x_list, y_list = literal_eval(d.x),literal_eval(d.y)\n",
    "for s, (xx, yy) in enumerate(zip(x_list, y_list)):\n",
    "    for x,y in zip(xx,yy):\n",
    "        tip_list.append((t, x, y, s, n, dn))\n",
    "      "
   ]
  },
  {
   "cell_type": "code",
   "execution_count": 25,
   "metadata": {
    "ExecuteTime": {
     "end_time": "2020-05-28T07:15:32.891580Z",
     "start_time": "2020-05-28T07:15:32.847046Z"
    }
   },
   "outputs": [],
   "source": [
    "df_tips = pd.DataFrame(tip_list, columns = {'t','x','y','s','n','dn'})[['t','x','y','s','n','dn']]"
   ]
  },
  {
   "cell_type": "code",
   "execution_count": 26,
   "metadata": {
    "ExecuteTime": {
     "end_time": "2020-05-28T07:16:11.129563Z",
     "start_time": "2020-05-28T07:15:32.895233Z"
    }
   },
   "outputs": [
    {
     "name": "stdout",
     "output_type": "stream",
     "text": [
      "97400 rows appended in 38.178 seconds.\n"
     ]
    }
   ],
   "source": [
    "tip_list = []\n",
    "start = time.time()# t_list, n_list, dn_list = df[['t', 'n', 'dn']].values.T\n",
    "for index, d in df.reset_index().iterrows():\n",
    "    #assume d to be a pandas series instance\n",
    "    x_list, y_list = literal_eval(d.x),literal_eval(d.y)\n",
    "    t, n, dn = tuple(d[['t', 'n', 'dn']].values[:].T)\n",
    "    for s, (xx, yy) in enumerate(zip(x_list, y_list)):\n",
    "        for x,y in zip(xx,yy):\n",
    "            tip_list.append((t, x, y, s, n, dn))\n",
    "print(f\"{len(tip_list)} rows appended in {time.time()-start:.3f} seconds.\")"
   ]
  },
  {
   "cell_type": "code",
   "execution_count": 27,
   "metadata": {
    "ExecuteTime": {
     "end_time": "2020-05-28T07:16:11.383200Z",
     "start_time": "2020-05-28T07:16:11.132879Z"
    }
   },
   "outputs": [],
   "source": [
    "df_tips = pd.DataFrame(tip_list).rename(columns={0:'t',1:'x',2:'y',3:'s',4:'n',5:'dn'})"
   ]
  },
  {
   "cell_type": "code",
   "execution_count": 28,
   "metadata": {
    "ExecuteTime": {
     "end_time": "2020-05-28T07:16:11.672043Z",
     "start_time": "2020-05-28T07:16:11.387179Z"
    }
   },
   "outputs": [
    {
     "name": "stdout",
     "output_type": "stream",
     "text": [
      "the number of null observations in output dataset is 0.\n"
     ]
    }
   ],
   "source": [
    "print(f\"the number of null observations in output dataset is {sum(sum(df_tips.isnull().values))}.\")"
   ]
  },
  {
   "cell_type": "code",
   "execution_count": 29,
   "metadata": {
    "ExecuteTime": {
     "end_time": "2020-05-28T07:16:13.450895Z",
     "start_time": "2020-05-28T07:16:11.685249Z"
    }
   },
   "outputs": [
    {
     "name": "stdout",
     "output_type": "stream",
     "text": [
      "tip locations saved to:\n",
      "\tData/tip_positions_chaos_circle6_sigma_4_threshold_0.9_wrapping_true_at_time_1800.0.csv\n"
     ]
    }
   ],
   "source": [
    "save_dir = data_dir.replace('tip_log','tip_positions')\n",
    "df_tips.to_csv(save_dir)\n",
    "print(f\"tip locations saved to:\\n\\t{save_dir}\")"
   ]
  },
  {
   "cell_type": "code",
   "execution_count": 30,
   "metadata": {
    "ExecuteTime": {
     "end_time": "2020-05-28T07:16:13.499690Z",
     "start_time": "2020-05-28T07:16:13.453980Z"
    }
   },
   "outputs": [],
   "source": [
    "# DONE: iterate through the list. form a df. save.\n",
    "\n",
    "# _TODO(later)_ in new notebook for the hopefully minimal minutia of particle tracking...\n",
    "# TODO: delete duplicates. print percent of rows deleted this way.\n",
    "# TODO: track particles with trackpy\n",
    "# TODO: track consistency of particle number with topological number over time\n",
    "# TODO: locate any inconsistencies.  plot them.  do you see a tendency?\n",
    "# TODO: can I identify spiral tips by grouping by t then by s, and keeping only even numbered groups? No! Not as long as the contour numbering fails to obey pbc\n",
    "# TODO: with this cleaned data, compute the apparent birth-death rates"
   ]
  },
  {
   "cell_type": "markdown",
   "metadata": {
    "ExecuteTime": {
     "end_time": "2020-05-28T16:05:55.405981Z",
     "start_time": "2020-05-28T16:05:55.239797Z"
    }
   },
   "source": [
    "# TODO run this notebook on all results\n",
    "or put it into a .py file and loop it over tip logs within a certain folder"
   ]
  },
  {
   "cell_type": "code",
   "execution_count": 34,
   "metadata": {
    "ExecuteTime": {
     "end_time": "2020-05-28T16:06:06.798830Z",
     "start_time": "2020-05-28T16:06:06.752501Z"
    }
   },
   "outputs": [
    {
     "data": {
      "text/plain": [
       "1.2"
      ]
     },
     "execution_count": 34,
     "metadata": {},
     "output_type": "execute_result"
    }
   ],
   "source": [
    "18/15"
   ]
  },
  {
   "cell_type": "code",
   "execution_count": 35,
   "metadata": {
    "ExecuteTime": {
     "end_time": "2020-05-28T16:07:29.558757Z",
     "start_time": "2020-05-28T16:07:29.516109Z"
    }
   },
   "outputs": [
    {
     "data": {
      "text/plain": [
       "4464.0"
      ]
     },
     "execution_count": 35,
     "metadata": {},
     "output_type": "execute_result"
    }
   ],
   "source": [
    "1.24*60**2"
   ]
  },
  {
   "cell_type": "code",
   "execution_count": 37,
   "metadata": {
    "ExecuteTime": {
     "end_time": "2020-05-28T16:08:51.001938Z",
     "start_time": "2020-05-28T16:08:50.957282Z"
    }
   },
   "outputs": [
    {
     "data": {
      "text/plain": [
       "7.777777777777778"
      ]
     },
     "execution_count": 37,
     "metadata": {},
     "output_type": "execute_result"
    }
   ],
   "source": [
    "28*10**3/60**2"
   ]
  },
  {
   "cell_type": "code",
   "execution_count": 38,
   "metadata": {
    "ExecuteTime": {
     "end_time": "2020-05-28T16:10:40.997048Z",
     "start_time": "2020-05-28T16:10:40.949610Z"
    }
   },
   "outputs": [
    {
     "data": {
      "text/plain": [
       "125"
      ]
     },
     "execution_count": 38,
     "metadata": {},
     "output_type": "execute_result"
    }
   ],
   "source": [
    "33+24+68"
   ]
  },
  {
   "cell_type": "code",
   "execution_count": null,
   "metadata": {},
   "outputs": [],
   "source": []
  }
 ],
 "metadata": {
  "kernelspec": {
   "display_name": "Python 3",
   "language": "python",
   "name": "python3"
  },
  "language_info": {
   "codemirror_mode": {
    "name": "ipython",
    "version": 3
   },
   "file_extension": ".py",
   "mimetype": "text/x-python",
   "name": "python",
   "nbconvert_exporter": "python",
   "pygments_lexer": "ipython3",
   "version": "3.7.7"
  },
  "varInspector": {
   "cols": {
    "lenName": 16,
    "lenType": 16,
    "lenVar": 40
   },
   "kernels_config": {
    "python": {
     "delete_cmd_postfix": "",
     "delete_cmd_prefix": "del ",
     "library": "var_list.py",
     "varRefreshCmd": "print(var_dic_list())"
    },
    "r": {
     "delete_cmd_postfix": ") ",
     "delete_cmd_prefix": "rm(",
     "library": "var_list.r",
     "varRefreshCmd": "cat(var_dic_list()) "
    }
   },
   "types_to_exclude": [
    "module",
    "function",
    "builtin_function_or_method",
    "instance",
    "_Feature"
   ],
   "window_display": false
  }
 },
 "nbformat": 4,
 "nbformat_minor": 2
}
