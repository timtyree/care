{
 "cells": [
  {
   "cell_type": "markdown",
   "metadata": {},
   "source": [
    "# Identifying Odd Births and Deaths\n",
    "Tim Tyree <br>\n",
    "May 26, 2020"
   ]
  },
  {
   "cell_type": "markdown",
   "metadata": {
    "heading_collapsed": true
   },
   "source": [
    "### initialize/load the data"
   ]
  },
  {
   "cell_type": "code",
   "execution_count": 1,
   "metadata": {
    "ExecuteTime": {
     "end_time": "2020-07-03T02:33:55.779816Z",
     "start_time": "2020-07-03T02:33:52.332349Z"
    },
    "hidden": true
   },
   "outputs": [
    {
     "name": "stdout",
     "output_type": "stream",
     "text": [
      "100000\n",
      "Automatic calling is: Smart\n"
     ]
    }
   ],
   "source": [
    "import numpy as np, pandas as pd, matplotlib.pyplot as plt, os\n",
    "from pylab import imshow, show\n",
    "import skimage as sk\n",
    "from skimage import measure, filters\n",
    "from PIL import Image\n",
    "import imageio\n",
    "import seaborn as sns\n",
    "from ast import literal_eval\n",
    "\n",
    "from lib.minimal_model import *\n",
    "from lib.TexturePlot import *\n",
    "from lib.get_tips import *\n",
    "from lib.minimal_model import *\n",
    "from lib.intersection import *\n",
    "from lib.ProgressBar import *\n",
    "from lib.operari import *\n",
    "from lib.OddBirthDeathPlots import *\n",
    "\n",
    "#TODO: use cuda via numba\n",
    "# from numba import jit, njit, vectorize, cuda, uint32, f8, uint8\n",
    "# from lib.contours_to_tips import *\n",
    "\n",
    "#automate the boring stuff\n",
    "from IPython import utils\n",
    "import time, os, sys, re\n",
    "beep = lambda x: os.system(\"echo -n '\\\\a';sleep 0.2;\" * x)\n",
    "if not 'nb_dir' in globals():\n",
    "    nb_dir = os.getcwd()\n",
    "\n",
    "\n",
    "%autocall 1\n",
    "%load_ext autoreload\n",
    "%autoreload 2\n",
    "\n",
    "# def save_fun(descrip,ext='.png'):\n",
    "#     return f'Figures/odd/odd_births_deaths_{descrip}{ext}'"
   ]
  },
  {
   "cell_type": "markdown",
   "metadata": {
    "heading_collapsed": true
   },
   "source": [
    "# The struggle of ironing out odd spiral tips"
   ]
  },
  {
   "cell_type": "markdown",
   "metadata": {
    "hidden": true
   },
   "source": [
    "### __Goals__\n",
    "1. quantify number of births/death numbers that are odd integers\n",
    "2. select those odd births/deaths\n",
    "3. find out what they have in common?\n",
    "\n",
    "__Simulation Workflow__ - save buffers when odd birth/death occur.  They no longer occur<br>\n",
    "- Done: add function that compares previous to current birth-death rate and checks for a certain change\n",
    "- Done: save buffer every time an odd birth/death occurs"
   ]
  },
  {
   "cell_type": "markdown",
   "metadata": {
    "heading_collapsed": true,
    "hidden": true
   },
   "source": [
    "## Completed: make measures for how often odd births/deaths occur"
   ]
  },
  {
   "cell_type": "code",
   "execution_count": 10,
   "metadata": {
    "ExecuteTime": {
     "end_time": "2020-06-21T23:09:00.735106Z",
     "start_time": "2020-06-21T23:09:00.607155Z"
    },
    "hidden": true
   },
   "outputs": [
    {
     "data": {
      "text/html": [
       "<div>\n",
       "<style scoped>\n",
       "    .dataframe tbody tr th:only-of-type {\n",
       "        vertical-align: middle;\n",
       "    }\n",
       "\n",
       "    .dataframe tbody tr th {\n",
       "        vertical-align: top;\n",
       "    }\n",
       "\n",
       "    .dataframe thead th {\n",
       "        text-align: right;\n",
       "    }\n",
       "</style>\n",
       "<table border=\"1\" class=\"dataframe\">\n",
       "  <thead>\n",
       "    <tr style=\"text-align: right;\">\n",
       "      <th></th>\n",
       "      <th>n</th>\n",
       "      <th>s1</th>\n",
       "      <th>s2</th>\n",
       "      <th>t</th>\n",
       "      <th>x</th>\n",
       "      <th>y</th>\n",
       "    </tr>\n",
       "  </thead>\n",
       "  <tbody>\n",
       "    <tr>\n",
       "      <th>0</th>\n",
       "      <td>48</td>\n",
       "      <td>(3,)</td>\n",
       "      <td>(1,)</td>\n",
       "      <td>0.002</td>\n",
       "      <td>127.385450</td>\n",
       "      <td>196.908083</td>\n",
       "    </tr>\n",
       "    <tr>\n",
       "      <th>1</th>\n",
       "      <td>48</td>\n",
       "      <td>(3,)</td>\n",
       "      <td>(1,)</td>\n",
       "      <td>0.002</td>\n",
       "      <td>88.983856</td>\n",
       "      <td>146.186622</td>\n",
       "    </tr>\n",
       "    <tr>\n",
       "      <th>2</th>\n",
       "      <td>48</td>\n",
       "      <td>(9,)</td>\n",
       "      <td>(17,)</td>\n",
       "      <td>0.002</td>\n",
       "      <td>72.113406</td>\n",
       "      <td>31.062414</td>\n",
       "    </tr>\n",
       "    <tr>\n",
       "      <th>3</th>\n",
       "      <td>48</td>\n",
       "      <td>(13,)</td>\n",
       "      <td>(17,)</td>\n",
       "      <td>0.002</td>\n",
       "      <td>88.529995</td>\n",
       "      <td>9.381733</td>\n",
       "    </tr>\n",
       "    <tr>\n",
       "      <th>4</th>\n",
       "      <td>48</td>\n",
       "      <td>(13,)</td>\n",
       "      <td>(17,)</td>\n",
       "      <td>0.002</td>\n",
       "      <td>76.504990</td>\n",
       "      <td>589.540427</td>\n",
       "    </tr>\n",
       "  </tbody>\n",
       "</table>\n",
       "</div>"
      ],
      "text/plain": [
       "    n     s1     s2      t           x           y\n",
       "0  48   (3,)   (1,)  0.002  127.385450  196.908083\n",
       "1  48   (3,)   (1,)  0.002   88.983856  146.186622\n",
       "2  48   (9,)  (17,)  0.002   72.113406   31.062414\n",
       "3  48  (13,)  (17,)  0.002   88.529995    9.381733\n",
       "4  48  (13,)  (17,)  0.002   76.504990  589.540427"
      ]
     },
     "execution_count": 10,
     "metadata": {},
     "output_type": "execute_result"
    }
   ],
   "source": [
    "# data_dir = 'Data/tip_logs_odd_runs/tip_log_circle6_at_time_3012.8.csv' # 2 tips in uniform circular motion\n",
    "# data_dir = 'Data/tip_logs_odd_runs/tip_log_circle6_params_changed_at_time_1800.0.csv' # chaos - sigma = 1, threshold = 0.9, no wrapping\n",
    "# data_dir = 'Data/tip_logs_odd_runs/tip_log_chaos_circle6_sigma_2_at_time_3600.2.csv'  # chaos - sigma = 2, threshold = 0.9, no wrapping\n",
    "# data_dir = 'Data/tip_logs_odd_runs/tip_log_chaos_circle6_sigma_2_wrapping_at_time_1800.0.csv'\n",
    "# data_dir = 'Data/tip_logs_odd_runs/tip_log_chaos_circle6_sigma_3_threshold_0.8_wrapping_true_at_time_1800.0.csv'\n",
    "# data_dir = 'Data/tip_logs_odd_runs/tip_log_chaos_circle6_sigma_4_threshold_0.9_wrapping_true_at_time_1800.0.csv'\n",
    "# descrip = data_dir.replace('Data/tip_log_chaos_circle6_','')[:-4]\n",
    "# descrip = 'sigma_3_threshold_0.8_yes_wrapping'\n",
    "\n",
    "data_dir = 'Data/zero_odd_tips_detected_ds_5_param_set_8.csv'\n",
    "df = pd.read_csv(data_dir)\n",
    "df.head()"
   ]
  },
  {
   "cell_type": "code",
   "execution_count": null,
   "metadata": {
    "ExecuteTime": {
     "end_time": "2020-06-21T23:09:52.466712Z",
     "start_time": "2020-06-21T23:09:52.429977Z"
    },
    "hidden": true
   },
   "outputs": [],
   "source": []
  },
  {
   "cell_type": "code",
   "execution_count": 8,
   "metadata": {
    "ExecuteTime": {
     "end_time": "2020-06-21T23:06:56.963784Z",
     "start_time": "2020-06-21T23:06:56.941093Z"
    },
    "hidden": true
   },
   "outputs": [],
   "source": [
    "# # data_dir.replace('Data/tip_log_chaos_circle6_','')[:-4]\n",
    "\n",
    "# import os\n",
    "\n",
    "# def find_files(filename, search_path):\n",
    "#    result = []\n",
    "\n",
    "# # Wlaking top-down from the root\n",
    "#    for root, dir, files in os.walk(search_path):\n",
    "#       if filename in files:\n",
    "#          result.append(os.path.join(root, filename))\n",
    "#    return result\n",
    "\n",
    "# print(find_files(\"smpl.htm\",\"D:\"))\n",
    "\n",
    "\n"
   ]
  },
  {
   "cell_type": "code",
   "execution_count": 15,
   "metadata": {
    "ExecuteTime": {
     "end_time": "2020-06-21T23:09:55.599206Z",
     "start_time": "2020-06-21T23:09:55.573657Z"
    },
    "hidden": true
   },
   "outputs": [],
   "source": [
    "# #compute the number of spiral tips\n",
    "# t_values = []\n",
    "# n_values = []\n",
    "# for j in range(df.t.size):\n",
    "#     t = df.iloc[j].t\n",
    "#     t_values.append(t)\n",
    "#     x = df.iloc[j].x\n",
    "#     n = x.count('.')#.replace('[','').replace(']','').count('.')\n",
    "#     n_values.append(n)\n",
    "# df['n'] = n_values\n",
    "# df['dn'] = df['n'].diff()\n",
    "# df = df.dropna().astype({'dn': 'int32'}).copy()\n",
    "\n",
    "# #check a tautology given the above\n",
    "# # assert(df[boo_odd].tail(1).x.values[0].count('.') == df[boo_odd].tail(1).n.values[0])"
   ]
  },
  {
   "cell_type": "code",
   "execution_count": 17,
   "metadata": {
    "ExecuteTime": {
     "end_time": "2020-06-21T23:10:45.154352Z",
     "start_time": "2020-06-21T23:10:45.095258Z"
    },
    "hidden": true
   },
   "outputs": [
    {
     "ename": "AxisError",
     "evalue": "axis -1 is out of bounds for array of dimension 0",
     "output_type": "error",
     "traceback": [
      "\u001b[0;31m---------------------------------------------------------------------------\u001b[0m",
      "\u001b[0;31mAxisError\u001b[0m                                 Traceback (most recent call last)",
      "\u001b[0;32m<ipython-input-17-33d1a81b9f72>\u001b[0m in \u001b[0;36m<module>\u001b[0;34m\u001b[0m\n\u001b[1;32m      1\u001b[0m \u001b[0;31m#find/select the birth/deaths values that are odd\u001b[0m\u001b[0;34m\u001b[0m\u001b[0;34m\u001b[0m\u001b[0;34m\u001b[0m\u001b[0m\n\u001b[0;32m----> 2\u001b[0;31m \u001b[0mdn_values\u001b[0m \u001b[0;34m=\u001b[0m \u001b[0mnp\u001b[0m\u001b[0;34m.\u001b[0m\u001b[0mdiff\u001b[0m\u001b[0;34m(\u001b[0m\u001b[0mnp\u001b[0m\u001b[0;34m.\u001b[0m\u001b[0marray\u001b[0m\u001b[0;34m(\u001b[0m\u001b[0mn_values\u001b[0m\u001b[0;34m)\u001b[0m\u001b[0;34m)\u001b[0m\u001b[0;34m\u001b[0m\u001b[0;34m\u001b[0m\u001b[0m\n\u001b[0m\u001b[1;32m      3\u001b[0m \u001b[0mset_bd\u001b[0m \u001b[0;34m=\u001b[0m \u001b[0mlist\u001b[0m\u001b[0;34m(\u001b[0m\u001b[0mset\u001b[0m\u001b[0;34m(\u001b[0m\u001b[0mdn_values\u001b[0m\u001b[0;34m)\u001b[0m\u001b[0;34m)\u001b[0m\u001b[0;34m\u001b[0m\u001b[0;34m\u001b[0m\u001b[0m\n\u001b[1;32m      4\u001b[0m \u001b[0mboo\u001b[0m \u001b[0;34m=\u001b[0m \u001b[0;34m[\u001b[0m\u001b[0mdn\u001b[0m \u001b[0;34m%\u001b[0m \u001b[0;36m2\u001b[0m \u001b[0;34m==\u001b[0m \u001b[0;36m1\u001b[0m \u001b[0;32mfor\u001b[0m \u001b[0mdn\u001b[0m \u001b[0;32min\u001b[0m \u001b[0mset_bd\u001b[0m\u001b[0;34m]\u001b[0m\u001b[0;34m\u001b[0m\u001b[0;34m\u001b[0m\u001b[0m\n\u001b[1;32m      5\u001b[0m \u001b[0mset_odd\u001b[0m \u001b[0;34m=\u001b[0m \u001b[0mnp\u001b[0m\u001b[0;34m.\u001b[0m\u001b[0marray\u001b[0m\u001b[0;34m(\u001b[0m\u001b[0mset_bd\u001b[0m\u001b[0;34m)\u001b[0m\u001b[0;34m[\u001b[0m\u001b[0mboo\u001b[0m\u001b[0;34m]\u001b[0m  \u001b[0;31m# the set of all odd birth/death types\u001b[0m\u001b[0;34m\u001b[0m\u001b[0;34m\u001b[0m\u001b[0m\n",
      "\u001b[0;32m/usr/local/lib/python3.7/site-packages/numpy/lib/function_base.py\u001b[0m in \u001b[0;36mdiff\u001b[0;34m(a, n, axis, prepend, append)\u001b[0m\n\u001b[1;32m   1238\u001b[0m     \u001b[0ma\u001b[0m \u001b[0;34m=\u001b[0m \u001b[0masanyarray\u001b[0m\u001b[0;34m(\u001b[0m\u001b[0ma\u001b[0m\u001b[0;34m)\u001b[0m\u001b[0;34m\u001b[0m\u001b[0;34m\u001b[0m\u001b[0m\n\u001b[1;32m   1239\u001b[0m     \u001b[0mnd\u001b[0m \u001b[0;34m=\u001b[0m \u001b[0ma\u001b[0m\u001b[0;34m.\u001b[0m\u001b[0mndim\u001b[0m\u001b[0;34m\u001b[0m\u001b[0;34m\u001b[0m\u001b[0m\n\u001b[0;32m-> 1240\u001b[0;31m     \u001b[0maxis\u001b[0m \u001b[0;34m=\u001b[0m \u001b[0mnormalize_axis_index\u001b[0m\u001b[0;34m(\u001b[0m\u001b[0maxis\u001b[0m\u001b[0;34m,\u001b[0m \u001b[0mnd\u001b[0m\u001b[0;34m)\u001b[0m\u001b[0;34m\u001b[0m\u001b[0;34m\u001b[0m\u001b[0m\n\u001b[0m\u001b[1;32m   1241\u001b[0m \u001b[0;34m\u001b[0m\u001b[0m\n\u001b[1;32m   1242\u001b[0m     \u001b[0mcombined\u001b[0m \u001b[0;34m=\u001b[0m \u001b[0;34m[\u001b[0m\u001b[0;34m]\u001b[0m\u001b[0;34m\u001b[0m\u001b[0;34m\u001b[0m\u001b[0m\n",
      "\u001b[0;31mAxisError\u001b[0m: axis -1 is out of bounds for array of dimension 0"
     ]
    }
   ],
   "source": [
    "#find/select the birth/deaths values that are odd\n",
    "dn_values = np.diff(np.array(n_values))\n",
    "set_bd = list(set(dn_values))\n",
    "boo = [dn % 2 == 1 for dn in set_bd]\n",
    "set_odd = np.array(set_bd)[boo]  # the set of all odd birth/death types\n",
    "boo_odd = df.t.isnull().values\n",
    "for odd in set_odd:\n",
    "    boo_odd |= (df.dn == odd)\n",
    "\n",
    "#a time series of when/where nontrivial birth/deaths occur\n",
    "series_bd = df.loc[df.dn != 0].dropna().dn\n",
    "num_odds = len(df[boo_odd].t.values)\n",
    "num_total = len(series_bd.values)\n",
    "\n",
    "#bluf - fraction of odd births/deaths\n",
    "print(f\"> odd birthdeaths occured with # of births/deaths per event = {set_odd}.<br>\")\n",
    "print(f\"> total # of odd birth/death events detected {num_odds}.<br>\")\n",
    "print(f\"> total # of birth/death events detected {num_total}.<br>\")\n",
    "print(f\"> the percent of birth/deaths that were odd was {100*num_odds/num_total:.1f}%.<br>\")\n",
    "\n",
    "#bluf - stability of odd spiral tip numbers\n",
    "print('')\n",
    "print(f\"> # of frames with an odd # of spiral tips created/destroyed = {sum(df.dn%2!=0)}<br>\")\n",
    "print(f\"> # of frames with an odd # of spiral tips existing = {sum(df.n%2!=0)}<br>\")\n",
    "print(f\"> fraction of such frames that are odd births/deaths = {sum(df.dn%2!=0)/sum(df.n%2!=0):.4f}<br>\")"
   ]
  },
  {
   "cell_type": "markdown",
   "metadata": {
    "hidden": true
   },
   "source": [
    "__Results for chaotic data runs__\n",
    "1. for data_dir = 'Data/tip_log_circle6_params_changed_at_time_1800.0.csv'\n",
    "    - sigma = 1, threshold = 0.9, no blur wrapping\n",
    "    -   >odd birthdeaths occured with [ 1  3 -9 -7 -1 -3] # of births/deaths.<br>\n",
    "        >total # of odd birth/death events detected 72.<br>\n",
    "        >total # of birth/death events detected 641.<br>\n",
    "        >the percent of birth/deaths that were odd was 11.2%.<br>\n",
    "1. for data_dir = 'Data/tip_log_chaos_circle6_sigma_2_at_time_3600.2.csv' \n",
    "    - sigma = 2, threshold = 0.9, no blur wrapping\n",
    "    -   >odd birthdeaths occured with [ 1 -1] # of births/deaths.<br>\n",
    "        >total # of odd birth/death events detected 43.<br>\n",
    "        >total # of birth/death events detected 143.<br>\n",
    "        >the percent of birth/deaths that were odd was 33.6%.<br>\n",
    "1. for data_dir = 'Data/tip_log_chaos_circle6_sigma_2_at_time_3600.2.csv' \n",
    "    - sigma = 2, threshold = 0.9, blur wrapping in use\n",
    "    -    >odd birthdeaths occured with # of births/deaths per event = [ 1 -1].<br>\n",
    "        >total # of odd birth/death events detected 18.<br>\n",
    "        >total # of birth/death events detected 113.<br>\n",
    "        >the percent of birth/deaths that were odd was 15.9%.<br>\n",
    "1. data_dir = 'Data/tip_log_chaos_circle6_sigma_3_threshold_0.8_wrapping_true_at_time_1800.0.csv'\n",
    "    - > odd birthdeaths occured with # of births/deaths per event = [ 1 -1].<br>\n",
    "    > total # of odd birth/death events detected 22.<br>\n",
    "    > total # of birth/death events detected 102.<br>\n",
    "    > the percent of birth/deaths that were odd was 21.6%.<br>\n",
    "1. data_dir = 'Data/tip_log_chaos_circle6_sigma_4_threshold_0.9_wrapping_true_at_time_1800.0.csv'\n",
    "    - > odd birthdeaths occured with # of births/deaths per event = [ 1 -1].<br>\n",
    "    > total # of odd birth/death events detected 20.<br>\n",
    "    > total # of birth/death events detected 542.<br>\n",
    "    > the percent of birth/deaths that were odd was 3.7%.<br>"
   ]
  },
  {
   "cell_type": "markdown",
   "metadata": {
    "heading_collapsed": true,
    "hidden": true
   },
   "source": [
    "## Histogram and temporal occurance of odd births/deaths "
   ]
  },
  {
   "cell_type": "code",
   "execution_count": null,
   "metadata": {
    "ExecuteTime": {
     "end_time": "2020-06-21T23:10:21.700954Z",
     "start_time": "2020-06-21T23:10:21.578071Z"
    },
    "hidden": true
   },
   "outputs": [],
   "source": []
  },
  {
   "cell_type": "code",
   "execution_count": 16,
   "metadata": {
    "ExecuteTime": {
     "end_time": "2020-05-29T19:27:51.860953Z",
     "start_time": "2020-05-29T19:27:51.833381Z"
    },
    "hidden": true
   },
   "outputs": [],
   "source": [
    "# discriminate odd births from odd deaths\n",
    "todd_values, nodd_values = df[boo_odd][['t','n']].values.T\n",
    "todd_b_values, nodd_b_values = df[(df.dn>0) & boo_odd][['t','n']].values.T\n",
    "todd_d_values, nodd_d_values = df[(df.dn<0) & boo_odd][['t','n']].values.T"
   ]
  },
  {
   "cell_type": "code",
   "execution_count": 6,
   "metadata": {
    "ExecuteTime": {
     "end_time": "2020-06-21T23:06:21.633089Z",
     "start_time": "2020-06-21T23:06:21.175583Z"
    },
    "hidden": true,
    "scrolled": true
   },
   "outputs": [
    {
     "ename": "ValueError",
     "evalue": "x and y must have same first dimension, but have shapes (1,) and (0,)",
     "output_type": "error",
     "traceback": [
      "\u001b[0;31m---------------------------------------------------------------------------\u001b[0m",
      "\u001b[0;31mValueError\u001b[0m                                Traceback (most recent call last)",
      "\u001b[0;32m<ipython-input-6-5bbdd33f8727>\u001b[0m in \u001b[0;36m<module>\u001b[0;34m\u001b[0m\n\u001b[1;32m      4\u001b[0m \u001b[0mfontsize\u001b[0m \u001b[0;34m=\u001b[0m \u001b[0;36m24\u001b[0m\u001b[0;34m\u001b[0m\u001b[0;34m\u001b[0m\u001b[0m\n\u001b[1;32m      5\u001b[0m \u001b[0;31m# ax.scatter(x=t_values, y=n_values, c='g', alpha=0.7, s=3)\u001b[0m\u001b[0;34m\u001b[0m\u001b[0;34m\u001b[0m\u001b[0;34m\u001b[0m\u001b[0m\n\u001b[0;32m----> 6\u001b[0;31m \u001b[0max\u001b[0m\u001b[0;34m.\u001b[0m\u001b[0mplot\u001b[0m\u001b[0;34m(\u001b[0m\u001b[0mt_values\u001b[0m\u001b[0;34m,\u001b[0m \u001b[0mn_values\u001b[0m\u001b[0;34m,\u001b[0m \u001b[0mc\u001b[0m\u001b[0;34m=\u001b[0m\u001b[0;34m'g'\u001b[0m\u001b[0;34m,\u001b[0m \u001b[0malpha\u001b[0m\u001b[0;34m=\u001b[0m\u001b[0;36m0.8\u001b[0m\u001b[0;34m,\u001b[0m \u001b[0mlw\u001b[0m\u001b[0;34m=\u001b[0m\u001b[0;36m2\u001b[0m\u001b[0;34m)\u001b[0m\u001b[0;34m\u001b[0m\u001b[0;34m\u001b[0m\u001b[0m\n\u001b[0m\u001b[1;32m      7\u001b[0m \u001b[0max\u001b[0m\u001b[0;34m.\u001b[0m\u001b[0mscatter\u001b[0m\u001b[0;34m(\u001b[0m\u001b[0mx\u001b[0m\u001b[0;34m=\u001b[0m\u001b[0mtodd_b_values\u001b[0m\u001b[0;34m,\u001b[0m \u001b[0my\u001b[0m\u001b[0;34m=\u001b[0m\u001b[0mnodd_b_values\u001b[0m\u001b[0;34m,\u001b[0m \u001b[0mlabel\u001b[0m\u001b[0;34m=\u001b[0m\u001b[0;34mf\"odd births\"\u001b[0m\u001b[0;34m,\u001b[0m \u001b[0mc\u001b[0m\u001b[0;34m=\u001b[0m\u001b[0;34m'b'\u001b[0m\u001b[0;34m,\u001b[0m \u001b[0ms\u001b[0m\u001b[0;34m=\u001b[0m\u001b[0;36m100\u001b[0m\u001b[0;34m)\u001b[0m\u001b[0;34m\u001b[0m\u001b[0;34m\u001b[0m\u001b[0m\n\u001b[1;32m      8\u001b[0m \u001b[0max\u001b[0m\u001b[0;34m.\u001b[0m\u001b[0mscatter\u001b[0m\u001b[0;34m(\u001b[0m\u001b[0mx\u001b[0m\u001b[0;34m=\u001b[0m\u001b[0mtodd_d_values\u001b[0m\u001b[0;34m,\u001b[0m \u001b[0my\u001b[0m\u001b[0;34m=\u001b[0m\u001b[0mnodd_d_values\u001b[0m\u001b[0;34m,\u001b[0m \u001b[0mlabel\u001b[0m\u001b[0;34m=\u001b[0m\u001b[0;34mf\"odd deaths\"\u001b[0m\u001b[0;34m,\u001b[0m \u001b[0mc\u001b[0m\u001b[0;34m=\u001b[0m\u001b[0;34m'r'\u001b[0m\u001b[0;34m,\u001b[0m \u001b[0ms\u001b[0m\u001b[0;34m=\u001b[0m\u001b[0;36m100\u001b[0m\u001b[0;34m)\u001b[0m\u001b[0;34m\u001b[0m\u001b[0;34m\u001b[0m\u001b[0m\n",
      "\u001b[0;32m/usr/local/lib/python3.7/site-packages/matplotlib/axes/_axes.py\u001b[0m in \u001b[0;36mplot\u001b[0;34m(self, scalex, scaley, data, *args, **kwargs)\u001b[0m\n\u001b[1;32m   1664\u001b[0m         \"\"\"\n\u001b[1;32m   1665\u001b[0m         \u001b[0mkwargs\u001b[0m \u001b[0;34m=\u001b[0m \u001b[0mcbook\u001b[0m\u001b[0;34m.\u001b[0m\u001b[0mnormalize_kwargs\u001b[0m\u001b[0;34m(\u001b[0m\u001b[0mkwargs\u001b[0m\u001b[0;34m,\u001b[0m \u001b[0mmlines\u001b[0m\u001b[0;34m.\u001b[0m\u001b[0mLine2D\u001b[0m\u001b[0;34m.\u001b[0m\u001b[0m_alias_map\u001b[0m\u001b[0;34m)\u001b[0m\u001b[0;34m\u001b[0m\u001b[0;34m\u001b[0m\u001b[0m\n\u001b[0;32m-> 1666\u001b[0;31m         \u001b[0mlines\u001b[0m \u001b[0;34m=\u001b[0m \u001b[0;34m[\u001b[0m\u001b[0;34m*\u001b[0m\u001b[0mself\u001b[0m\u001b[0;34m.\u001b[0m\u001b[0m_get_lines\u001b[0m\u001b[0;34m(\u001b[0m\u001b[0;34m*\u001b[0m\u001b[0margs\u001b[0m\u001b[0;34m,\u001b[0m \u001b[0mdata\u001b[0m\u001b[0;34m=\u001b[0m\u001b[0mdata\u001b[0m\u001b[0;34m,\u001b[0m \u001b[0;34m**\u001b[0m\u001b[0mkwargs\u001b[0m\u001b[0;34m)\u001b[0m\u001b[0;34m]\u001b[0m\u001b[0;34m\u001b[0m\u001b[0;34m\u001b[0m\u001b[0m\n\u001b[0m\u001b[1;32m   1667\u001b[0m         \u001b[0;32mfor\u001b[0m \u001b[0mline\u001b[0m \u001b[0;32min\u001b[0m \u001b[0mlines\u001b[0m\u001b[0;34m:\u001b[0m\u001b[0;34m\u001b[0m\u001b[0;34m\u001b[0m\u001b[0m\n\u001b[1;32m   1668\u001b[0m             \u001b[0mself\u001b[0m\u001b[0;34m.\u001b[0m\u001b[0madd_line\u001b[0m\u001b[0;34m(\u001b[0m\u001b[0mline\u001b[0m\u001b[0;34m)\u001b[0m\u001b[0;34m\u001b[0m\u001b[0;34m\u001b[0m\u001b[0m\n",
      "\u001b[0;32m/usr/local/lib/python3.7/site-packages/matplotlib/axes/_base.py\u001b[0m in \u001b[0;36m__call__\u001b[0;34m(self, *args, **kwargs)\u001b[0m\n\u001b[1;32m    223\u001b[0m                 \u001b[0mthis\u001b[0m \u001b[0;34m+=\u001b[0m \u001b[0margs\u001b[0m\u001b[0;34m[\u001b[0m\u001b[0;36m0\u001b[0m\u001b[0;34m]\u001b[0m\u001b[0;34m,\u001b[0m\u001b[0;34m\u001b[0m\u001b[0;34m\u001b[0m\u001b[0m\n\u001b[1;32m    224\u001b[0m                 \u001b[0margs\u001b[0m \u001b[0;34m=\u001b[0m \u001b[0margs\u001b[0m\u001b[0;34m[\u001b[0m\u001b[0;36m1\u001b[0m\u001b[0;34m:\u001b[0m\u001b[0;34m]\u001b[0m\u001b[0;34m\u001b[0m\u001b[0;34m\u001b[0m\u001b[0m\n\u001b[0;32m--> 225\u001b[0;31m             \u001b[0;32myield\u001b[0m \u001b[0;32mfrom\u001b[0m \u001b[0mself\u001b[0m\u001b[0;34m.\u001b[0m\u001b[0m_plot_args\u001b[0m\u001b[0;34m(\u001b[0m\u001b[0mthis\u001b[0m\u001b[0;34m,\u001b[0m \u001b[0mkwargs\u001b[0m\u001b[0;34m)\u001b[0m\u001b[0;34m\u001b[0m\u001b[0;34m\u001b[0m\u001b[0m\n\u001b[0m\u001b[1;32m    226\u001b[0m \u001b[0;34m\u001b[0m\u001b[0m\n\u001b[1;32m    227\u001b[0m     \u001b[0;32mdef\u001b[0m \u001b[0mget_next_color\u001b[0m\u001b[0;34m(\u001b[0m\u001b[0mself\u001b[0m\u001b[0;34m)\u001b[0m\u001b[0;34m:\u001b[0m\u001b[0;34m\u001b[0m\u001b[0;34m\u001b[0m\u001b[0m\n",
      "\u001b[0;32m/usr/local/lib/python3.7/site-packages/matplotlib/axes/_base.py\u001b[0m in \u001b[0;36m_plot_args\u001b[0;34m(self, tup, kwargs)\u001b[0m\n\u001b[1;32m    389\u001b[0m             \u001b[0mx\u001b[0m\u001b[0;34m,\u001b[0m \u001b[0my\u001b[0m \u001b[0;34m=\u001b[0m \u001b[0mindex_of\u001b[0m\u001b[0;34m(\u001b[0m\u001b[0mtup\u001b[0m\u001b[0;34m[\u001b[0m\u001b[0;34m-\u001b[0m\u001b[0;36m1\u001b[0m\u001b[0;34m]\u001b[0m\u001b[0;34m)\u001b[0m\u001b[0;34m\u001b[0m\u001b[0;34m\u001b[0m\u001b[0m\n\u001b[1;32m    390\u001b[0m \u001b[0;34m\u001b[0m\u001b[0m\n\u001b[0;32m--> 391\u001b[0;31m         \u001b[0mx\u001b[0m\u001b[0;34m,\u001b[0m \u001b[0my\u001b[0m \u001b[0;34m=\u001b[0m \u001b[0mself\u001b[0m\u001b[0;34m.\u001b[0m\u001b[0m_xy_from_xy\u001b[0m\u001b[0;34m(\u001b[0m\u001b[0mx\u001b[0m\u001b[0;34m,\u001b[0m \u001b[0my\u001b[0m\u001b[0;34m)\u001b[0m\u001b[0;34m\u001b[0m\u001b[0;34m\u001b[0m\u001b[0m\n\u001b[0m\u001b[1;32m    392\u001b[0m \u001b[0;34m\u001b[0m\u001b[0m\n\u001b[1;32m    393\u001b[0m         \u001b[0;32mif\u001b[0m \u001b[0mself\u001b[0m\u001b[0;34m.\u001b[0m\u001b[0mcommand\u001b[0m \u001b[0;34m==\u001b[0m \u001b[0;34m'plot'\u001b[0m\u001b[0;34m:\u001b[0m\u001b[0;34m\u001b[0m\u001b[0;34m\u001b[0m\u001b[0m\n",
      "\u001b[0;32m/usr/local/lib/python3.7/site-packages/matplotlib/axes/_base.py\u001b[0m in \u001b[0;36m_xy_from_xy\u001b[0;34m(self, x, y)\u001b[0m\n\u001b[1;32m    268\u001b[0m         \u001b[0;32mif\u001b[0m \u001b[0mx\u001b[0m\u001b[0;34m.\u001b[0m\u001b[0mshape\u001b[0m\u001b[0;34m[\u001b[0m\u001b[0;36m0\u001b[0m\u001b[0;34m]\u001b[0m \u001b[0;34m!=\u001b[0m \u001b[0my\u001b[0m\u001b[0;34m.\u001b[0m\u001b[0mshape\u001b[0m\u001b[0;34m[\u001b[0m\u001b[0;36m0\u001b[0m\u001b[0;34m]\u001b[0m\u001b[0;34m:\u001b[0m\u001b[0;34m\u001b[0m\u001b[0;34m\u001b[0m\u001b[0m\n\u001b[1;32m    269\u001b[0m             raise ValueError(\"x and y must have same first dimension, but \"\n\u001b[0;32m--> 270\u001b[0;31m                              \"have shapes {} and {}\".format(x.shape, y.shape))\n\u001b[0m\u001b[1;32m    271\u001b[0m         \u001b[0;32mif\u001b[0m \u001b[0mx\u001b[0m\u001b[0;34m.\u001b[0m\u001b[0mndim\u001b[0m \u001b[0;34m>\u001b[0m \u001b[0;36m2\u001b[0m \u001b[0;32mor\u001b[0m \u001b[0my\u001b[0m\u001b[0;34m.\u001b[0m\u001b[0mndim\u001b[0m \u001b[0;34m>\u001b[0m \u001b[0;36m2\u001b[0m\u001b[0;34m:\u001b[0m\u001b[0;34m\u001b[0m\u001b[0;34m\u001b[0m\u001b[0m\n\u001b[1;32m    272\u001b[0m             raise ValueError(\"x and y can be no greater than 2-D, but have \"\n",
      "\u001b[0;31mValueError\u001b[0m: x and y must have same first dimension, but have shapes (1,) and (0,)"
     ]
    },
    {
     "data": {
      "image/png": "[encoded data removed]",
      "text/plain": [
       "<Figure size 1800x576 with 1 Axes>"
      ]
     },
     "metadata": {
      "needs_background": "light"
     },
     "output_type": "display_data"
    }
   ],
   "source": [
    "\n",
    "#plot\n",
    "fig, ax = plt.subplots(figsize=(25,8))\n",
    "fontsize = 24\n",
    "# ax.scatter(x=t_values, y=n_values, c='g', alpha=0.7, s=3)\n",
    "ax.plot(t_values, n_values, c='g', alpha=0.8, lw=2)\n",
    "ax.scatter(x=todd_b_values, y=nodd_b_values, label=f\"odd births\", c='b', s=100)\n",
    "ax.scatter(x=todd_d_values, y=nodd_d_values, label=f\"odd deaths\", c='r', s=100)\n",
    "ax.legend(fontsize=fontsize-5)\n",
    "ax.set_xlabel('time', fontsize=fontsize)\n",
    "ax.set_ylabel('number of spiral tips', fontsize=fontsize)\n",
    "ax.tick_params(axis='both', labelsize= fontsize)\n",
    "\n",
    "plt.tight_layout()\n",
    "# plt.show()\n",
    "plt.savefig(save_fun(descrip='odd_timeseries',ext='.svg'))\n",
    "plt.savefig(save_fun(descrip='odd_timeseries',ext='.png'))"
   ]
  },
  {
   "cell_type": "code",
   "execution_count": 18,
   "metadata": {
    "ExecuteTime": {
     "end_time": "2020-05-29T19:27:58.978428Z",
     "start_time": "2020-05-29T19:27:58.350040Z"
    },
    "hidden": true
   },
   "outputs": [
    {
     "data": {
      "image/png": "[encoded data removed]",
      "text/plain": [
       "<Figure size 864x504 with 1 Axes>"
      ]
     },
     "metadata": {
      "needs_background": "light"
     },
     "output_type": "display_data"
    }
   ],
   "source": [
    "fig, ax = plt.subplots(figsize=(12,7))\n",
    "# ax.hist(series_bd.values, bins = 50, color='g')\n",
    "ax.hist(df.loc[(~boo_odd) & (df.dn!=0)].dropna().dn, bins = 32, color='g', label='even')\n",
    "ax.hist(df.loc[(df.dn>0) & boo_odd].dropna().dn, bins = 4, color='b', label='odd births')\n",
    "ax.hist(df.loc[(df.dn<0) & boo_odd].dropna().dn, bins = 4, color='r', label='odd deaths')\n",
    "\n",
    "ax.legend(fontsize=fontsize-5)\n",
    "ax.set_xticks(list(range(-10,10,1)))\n",
    "ax.tick_params(axis='both', labelsize= fontsize)\n",
    "ax.set_xlabel('frequency', fontsize=fontsize)\n",
    "ax.set_ylabel('change in spiral tip number', fontsize=fontsize)\n",
    "plt.tight_layout()\n",
    "plt.tight_layout()\n",
    "# plt.show()\n",
    "plt.savefig(save_fun(descrip='odd_histogram',ext='.svg'))\n",
    "plt.savefig(save_fun(descrip='odd_histogram',ext='.png'))"
   ]
  },
  {
   "cell_type": "code",
   "execution_count": 9,
   "metadata": {
    "ExecuteTime": {
     "end_time": "2020-05-28T07:15:30.961703Z",
     "start_time": "2020-05-28T07:15:30.581826Z"
    },
    "hidden": true
   },
   "outputs": [
    {
     "data": {
      "text/plain": [
       "dn\n",
       "-10        2.0\n",
       "-8         1.0\n",
       "-6         7.0\n",
       "-4        31.0\n",
       "-2       225.0\n",
       "-1        10.0\n",
       " 0     17457.0\n",
       " 1        10.0\n",
       " 2       210.0\n",
       " 4        31.0\n",
       " 6        11.0\n",
       " 8         2.0\n",
       " 10        1.0\n",
       " 12        1.0\n",
       "Name: (n, count), dtype: float64"
      ]
     },
     "execution_count": 9,
     "metadata": {},
     "output_type": "execute_result"
    }
   ],
   "source": [
    "df.groupby('dn').describe()['n','count']"
   ]
  },
  {
   "cell_type": "markdown",
   "metadata": {
    "heading_collapsed": true,
    "hidden": true
   },
   "source": [
    "## Look for commonalities between odd birth/death events\n"
   ]
  },
  {
   "cell_type": "markdown",
   "metadata": {
    "hidden": true
   },
   "source": [
    "- when did they occur?\n",
    "    - do odd births come before odd deaths?  \n",
    "        - Not really, based on visual inspection of the figure.  It looks like births come before deaths about as often as deaths come before births.  Is there useful information stored in s? If not, record total tip number instead.  Maybe there is, though.  s Tells us if higher order births/deaths are on separate contours, which could tell us if we have a higher order interaction (that conserves vorticity) or if we have tree level events that only coincidentally occur at the same time.\n",
    "            - I observed an x coordinate sublist with 4 entries together with a dn value of 4, which supports the birth of quadrupulets.  This occurred once in the set of 113 events over the period of tmax = 1800.0.  I think rather than 4 tips being created from a point, it is more likely that 2 births occurred ~simultaneously on the intersection of the same two contours.\n",
    "\n",
    "        - __TODO__: get xy positions for each tip pair and compare between frames.  use this between frames to identify odd events\n",
    "- can the topological number variable be used to identify and filter them?\n",
    "    - naïvely, no.  they are not reliably consistent between frames.  \n",
    "- do they occur near the buffer edges?\n",
    "- do they persist?\n",
    "    - not really, no.  this suggests the error lies in the detection and not the simulation\n"
   ]
  },
  {
   "cell_type": "markdown",
   "metadata": {
    "heading_collapsed": true,
    "hidden": true
   },
   "source": [
    "## the recorded nested lists of topological number is not self consistent over time.  This may change with contour finding that obeys periodic boundary conditions "
   ]
  },
  {
   "cell_type": "code",
   "execution_count": 40,
   "metadata": {
    "ExecuteTime": {
     "end_time": "2020-05-28T21:18:35.703449Z",
     "start_time": "2020-05-28T21:18:35.670867Z"
    },
    "hidden": true
   },
   "outputs": [],
   "source": [
    "#as of writing this, the following sublist has 4 entries, that together with dn==4 supports the birth of quadrupulets\n",
    "# print(df[df.dn==4].x.values)\n",
    "# print(df[df.dn==4].y.values)"
   ]
  },
  {
   "cell_type": "code",
   "execution_count": 11,
   "metadata": {
    "ExecuteTime": {
     "end_time": "2020-05-28T07:15:31.798940Z",
     "start_time": "2020-05-28T07:15:31.036174Z"
    },
    "hidden": true
   },
   "outputs": [
    {
     "data": {
      "text/plain": [
       "Text(0, 0.5, 'frequency')"
      ]
     },
     "execution_count": 11,
     "metadata": {},
     "output_type": "execute_result"
    },
    {
     "data": {
      "image/png": "[encoded data removed]",
      "text/plain": [
       "<Figure size 432x288 with 1 Axes>"
      ]
     },
     "metadata": {
      "needs_background": "light"
     },
     "output_type": "display_data"
    }
   ],
   "source": [
    "#the amount of time between odd events suggests most are from misclassification, not simulation error\n",
    "plt.hist(df[boo_odd].t.diff().dropna(), bins=50, color='black')\n",
    "plt.xlim([0,350])\n",
    "plt.xlabel('time until next odd birth/death')\n",
    "plt.ylabel('frequency')"
   ]
  },
  {
   "cell_type": "code",
   "execution_count": 39,
   "metadata": {
    "ExecuteTime": {
     "end_time": "2020-05-28T21:17:51.667948Z",
     "start_time": "2020-05-28T21:17:51.619312Z"
    },
    "code_folding": [],
    "hidden": true
   },
   "outputs": [],
   "source": [
    "#compute topological numbers from prev/next frame\n",
    "df['s_prev'] = df.shift(1).s # current val sees previous val here\n",
    "df['s_next'] = df.shift(-1).s\n",
    "\n",
    "df = df.dropna().copy()\n",
    "\n",
    "# can the topological number variable be used to identify and filter them?\n",
    "s_prev, s_curr, s_next = df[boo_odd][['s_prev','s','s_next']].head(1).values.T\n",
    "r_prev = set(literal_eval(s_prev[0][1:-1]))\n",
    "r_curr = set(literal_eval(s_curr[0][1:-1]))\n",
    "r_next = set(literal_eval(s_next[0][1:-1]))\n",
    "# r_curr.difference_update(r_prev)\n",
    "# r_curr.difference_update(r_next)\n",
    "print(r_prev)\n",
    "print(r_curr)\n",
    "print(r_next)\n"
   ]
  },
  {
   "cell_type": "code",
   "execution_count": 14,
   "metadata": {
    "ExecuteTime": {
     "end_time": "2020-05-28T07:15:32.080461Z",
     "start_time": "2020-05-28T07:15:32.013262Z"
    },
    "hidden": true,
    "scrolled": true
   },
   "outputs": [
    {
     "data": {
      "text/plain": [
       "6622    ((5, 7), (6, 6))\n",
       "6623    ((5, 7), (6, 6))\n",
       "6624    ((5, 7), (6, 6))\n",
       "6625    ((5, 6), (6, 7))\n",
       "6626    ((5, 6), (6, 7))\n",
       "6627    ((5, 6), (6, 7))\n",
       "6628    ((5, 6), (6, 7))\n",
       "6629    ((5, 6), (6, 7))\n",
       "6630    ((5, 6), (6, 7))\n",
       "6631    ((5, 6), (6, 7))\n",
       "6632    ((5, 7), (6, 6))\n",
       "6633    ((5, 7), (6, 6))\n",
       "Name: s, dtype: object"
      ]
     },
     "execution_count": 14,
     "metadata": {},
     "output_type": "execute_result"
    }
   ],
   "source": [
    "df.iloc[6620:6632].s"
   ]
  },
  {
   "cell_type": "markdown",
   "metadata": {
    "hidden": true
   },
   "source": [
    "The contour numbering is not consistent:\n",
    ">6624    [(3, 6), (4, 7), (5, 4), (6, 5)]\n",
    "\n",
    ">6625    [(3, 6), (4, 7), (5, 4), (6, 5)]\n",
    "\n",
    ">6626    [(3, 6), (4, 7), (5, 4), (6, 5)]\n",
    "\n",
    ">6627    [(3, 6), (4, 7), (5, 4), (6, 5)]\n",
    "\n",
    ">6628    [(3, 6), (4, 7), (5, 4), (6, 5)]\n",
    "\n",
    ">6629    [(3, 6), (4, 7), (5, 4), (6, 5)]\n",
    "\n",
    ">6630    [(3, 6), (4, 7), (5, 4), (6, 5)]\n",
    "\n",
    ">6631    [(3, 6), (4, 7), (5, 4), (6, 5)]\n",
    "\n",
    ">6632    [(3, 7), (4, 8), (5, 6), (6, 5)]\n",
    "\n",
    ">6633            [(3, 7), (5, 6), (6, 5)]\n",
    "\n",
    ">6634            [(3, 7), (5, 6), (6, 5)]\n",
    "\n",
    ">6635            [(3, 7), (5, 5), (6, 6)]"
   ]
  },
  {
   "cell_type": "markdown",
   "metadata": {
    "heading_collapsed": true,
    "hidden": true
   },
   "source": [
    "## TODO(later): topologically compute spiral tip trajectories\n",
    "- to identify odd events\n",
    "- note: this requires contours that obey periodic boundary conditions, which is not implemented as of my writing this"
   ]
  },
  {
   "cell_type": "code",
   "execution_count": 15,
   "metadata": {
    "ExecuteTime": {
     "end_time": "2020-05-28T07:15:32.238997Z",
     "start_time": "2020-05-28T07:15:32.092764Z"
    },
    "hidden": true
   },
   "outputs": [],
   "source": [
    "# TODO: get xy positions for each tip pair and compare between frames.  \n",
    "# (then)TODO: use ^this between frames to identify odd events\n",
    "\n",
    "    "
   ]
  },
  {
   "cell_type": "code",
   "execution_count": 16,
   "metadata": {
    "ExecuteTime": {
     "end_time": "2020-05-28T07:15:32.320536Z",
     "start_time": "2020-05-28T07:15:32.245859Z"
    },
    "hidden": true
   },
   "outputs": [],
   "source": [
    "# first - list of pairs of x coordinates. # second - list of pairs of y coordinates.\n",
    "d = df.tail()\n",
    "loc_lst = list(zip(literal_eval(d.x.values[0]),literal_eval(d.y.values[0])))\n",
    "tipt = d.t.values"
   ]
  },
  {
   "cell_type": "code",
   "execution_count": 17,
   "metadata": {
    "ExecuteTime": {
     "end_time": "2020-05-28T07:15:32.407671Z",
     "start_time": "2020-05-28T07:15:32.327128Z"
    },
    "hidden": true
   },
   "outputs": [
    {
     "data": {
      "text/plain": [
       "[([206.27309076070816, 212.0543074637748],\n",
       "  [87.5887233580352, 142.21668067858485]),\n",
       " ([213.93306864429582, 213.24018432471266],\n",
       "  [364.86460270126776, 424.9019116180587])]"
      ]
     },
     "execution_count": 17,
     "metadata": {},
     "output_type": "execute_result"
    }
   ],
   "source": [
    "loc_lst"
   ]
  },
  {
   "cell_type": "code",
   "execution_count": 18,
   "metadata": {
    "ExecuteTime": {
     "end_time": "2020-05-28T07:15:32.483781Z",
     "start_time": "2020-05-28T07:15:32.417703Z"
    },
    "hidden": true
   },
   "outputs": [],
   "source": [
    "r = literal_eval(df.tail().x.values[0])"
   ]
  },
  {
   "cell_type": "code",
   "execution_count": 19,
   "metadata": {
    "ExecuteTime": {
     "end_time": "2020-05-28T07:15:32.578274Z",
     "start_time": "2020-05-28T07:15:32.489210Z"
    },
    "hidden": true
   },
   "outputs": [
    {
     "name": "stdout",
     "output_type": "stream",
     "text": [
      "# of frames with an odd # of spiral tips created/destroyed = 20\n",
      "# of frames with an odd # of spiral tips existing = 86\n",
      "fraction of odd frames that are births/deaths events = 0.2326\n"
     ]
    }
   ],
   "source": [
    "print(f\"# of frames with an odd # of spiral tips created/destroyed = {sum(df.dn%2!=0)}\")\n",
    "print(f\"# of frames with an odd # of spiral tips existing = {sum(df.n%2!=0)}\")\n",
    "print(f\"fraction of odd frames that are births/deaths events = {sum(df.dn%2!=0)/sum(df.n%2!=0):.4f}\")"
   ]
  },
  {
   "cell_type": "code",
   "execution_count": 20,
   "metadata": {
    "ExecuteTime": {
     "end_time": "2020-05-28T07:15:32.642630Z",
     "start_time": "2020-05-28T07:15:32.585557Z"
    },
    "hidden": true
   },
   "outputs": [],
   "source": [
    "# ANY = False\n",
    "# N_obs = len(df.t.values)\n",
    "# print(f'looking through {N_obs} rows.')\n",
    "# feature_list = []\n",
    "# for obs, d in df.iterrows():\n",
    "#     for s, (tipx, tipy) in enumerate(loc_lst):\n",
    "#         xy_of_entangled = list(zip(tipx,tipy))\n",
    "#         if (len(xy_of_entangled)%4!=0):#)!=2:#\n",
    "# #         if (len(xy_of_entangled)%4!=0):#)!=2:#\n",
    "#             if not ANY:\n",
    "# #                 print(f\"odd number of tips detected on same contour pair! xy pixel location(s) is(are):\")\n",
    "#                 ANY = True\n",
    "# #             print(f\"at time {tipt}, xy list = {xy_of_entangled}\")  \n",
    "#         else:\n",
    "#             for x,y in xy_of_entangled:\n",
    "#                 feature_list.append([t,x,y,s])      \n",
    "# #     printProgressBar(obs + 1, N_obs, prefix = 'Progress:', suffix = 'Complete', length = 50)\n",
    "# print(\"\"\"Note: because my contours do not yet obey periodic boundary conditions, \n",
    "# the contour pair cannot reliably identify odd spiral tips.\"\"\")   "
   ]
  },
  {
   "cell_type": "code",
   "execution_count": 21,
   "metadata": {
    "ExecuteTime": {
     "end_time": "2020-05-28T07:15:32.701583Z",
     "start_time": "2020-05-28T07:15:32.646484Z"
    },
    "hidden": true
   },
   "outputs": [],
   "source": [
    "# # ANY = False\n",
    "# N_obs = len(df.t.values)\n",
    "# print(f'looking through {N_obs} rows.')\n",
    "# feature_list = []\n",
    "# for obs, d in df.iterrows():\n",
    "#     for s, (tipx, tipy) in enumerate(d):\n",
    "#         xy_of_entangled = list(zip(tipx,tipy))\n",
    "#         if (len(xy_of_entangled)%4!=0):#)!=2:#\n",
    "# #         if (len(xy_of_entangled)%4!=0):#)!=2:#\n",
    "#             if not ANY:\n",
    "# #                 print(f\"odd number of tips detected on same contour pair! xy pixel location(s) is(are):\")\n",
    "#                 ANY = True\n",
    "# #             print(f\"at time {tipt}, xy list = {xy_of_entangled}\")  \n",
    "#         else:\n",
    "#             for x,y in xy_of_entangled:\n",
    "#                 feature_list.append([t,x,y,s])      \n",
    "# #     printProgressBar(obs + 1, N_obs, prefix = 'Progress:', suffix = 'Complete', length = 50)\n",
    "# print(\"\"\"Note: because my contours do not yet obey periodic boundary conditions, \n",
    "# the contour pair cannot reliably identify odd spiral tips.\"\"\")  "
   ]
  },
  {
   "cell_type": "code",
   "execution_count": null,
   "metadata": {
    "ExecuteTime": {
     "end_time": "2020-05-28T02:33:21.280160Z",
     "start_time": "2020-05-28T02:33:21.247093Z"
    },
    "hidden": true
   },
   "outputs": [],
   "source": []
  },
  {
   "cell_type": "code",
   "execution_count": null,
   "metadata": {
    "ExecuteTime": {
     "end_time": "2020-05-28T02:13:27.883859Z",
     "start_time": "2020-05-28T02:13:27.844563Z"
    },
    "hidden": true
   },
   "outputs": [],
   "source": []
  },
  {
   "cell_type": "code",
   "execution_count": 22,
   "metadata": {
    "ExecuteTime": {
     "end_time": "2020-05-28T07:15:32.745912Z",
     "start_time": "2020-05-28T07:15:32.705142Z"
    },
    "hidden": true
   },
   "outputs": [],
   "source": [
    "# for s, (tipx, tipy) in enumerate(d[['x','y']].values):\n",
    "#     xy_of_entangled = list(zip(tipx,tipy))\n",
    "#     if (len(xy_of_entangled)%4!=0):#)!=2:#\n",
    "# #         if (len(xy_of_entangled)%4!=0):#)!=2:#\n",
    "#         if not ANY:\n",
    "# #                 print(f\"odd number of tips detected on same contour pair! xy pixel location(s) is(are):\")\n",
    "#             ANY = True\n",
    "# #             print(f\"at time {tipt}, xy list = {xy_of_entangled}\")  \n",
    "#     else:\n",
    "#         for x,y in xy_of_entangled:\n",
    "#             feature_list.append([t,x,y,s])"
   ]
  },
  {
   "cell_type": "markdown",
   "metadata": {
    "heading_collapsed": true,
    "hidden": true
   },
   "source": [
    "## Format tip log so each tip location gets a row"
   ]
  },
  {
   "cell_type": "code",
   "execution_count": 64,
   "metadata": {
    "ExecuteTime": {
     "end_time": "2020-05-28T22:53:44.009773Z",
     "start_time": "2020-05-28T22:53:43.971359Z"
    },
    "hidden": true
   },
   "outputs": [],
   "source": [
    "# d = df.iloc[-1]#.tail(1)  #assume d to be a pandas series instance\n",
    "# t_list, n_list, dn_list = df[['t', 'n', 'dn']].values.T\n",
    "# t, n, dn = tuple(d[['t', 'n', 'dn']].values[:].T)"
   ]
  },
  {
   "cell_type": "code",
   "execution_count": 60,
   "metadata": {
    "ExecuteTime": {
     "end_time": "2020-05-28T22:53:05.937327Z",
     "start_time": "2020-05-28T22:53:05.893060Z"
    },
    "hidden": true
   },
   "outputs": [],
   "source": [
    "# tip_list = []\n",
    "# start = time.time()\n",
    "# x_list, y_list = literal_eval(d.x),literal_eval(d.y)\n",
    "# for s, (xx, yy) in enumerate(zip(x_list, y_list)):\n",
    "#     for x,y in zip(xx,yy):\n",
    "#         tip_list.append((t, x, y, s, n, dn))\n",
    "      "
   ]
  },
  {
   "cell_type": "code",
   "execution_count": 20,
   "metadata": {
    "ExecuteTime": {
     "end_time": "2020-05-29T19:28:33.018617Z",
     "start_time": "2020-05-29T19:28:32.998753Z"
    },
    "hidden": true
   },
   "outputs": [],
   "source": [
    "# df_tips = pd.DataFrame(tip_list, columns = {'t','x','y','s','n','dn'})[['t','x','y','s','n','dn']]"
   ]
  },
  {
   "cell_type": "code",
   "execution_count": 26,
   "metadata": {
    "ExecuteTime": {
     "end_time": "2020-05-28T07:16:11.129563Z",
     "start_time": "2020-05-28T07:15:32.895233Z"
    },
    "hidden": true
   },
   "outputs": [
    {
     "name": "stdout",
     "output_type": "stream",
     "text": [
      "97400 rows appended in 38.178 seconds.\n"
     ]
    }
   ],
   "source": [
    "tip_list = []\n",
    "start = time.time()# t_list, n_list, dn_list = df[['t', 'n', 'dn']].values.T\n",
    "for index, d in df.reset_index().iterrows():\n",
    "    #assume d to be a pandas series instance\n",
    "    x_list, y_list = literal_eval(d.x),literal_eval(d.y)\n",
    "    t, n, dn = tuple(d[['t', 'n', 'dn']].values[:].T)\n",
    "    for s, (xx, yy) in enumerate(zip(x_list, y_list)):\n",
    "        for x,y in zip(xx,yy):\n",
    "            tip_list.append((t, x, y, s, n, dn))\n",
    "print(f\"{len(tip_list)} rows appended in {time.time()-start:.3f} seconds.\")"
   ]
  },
  {
   "cell_type": "code",
   "execution_count": 27,
   "metadata": {
    "ExecuteTime": {
     "end_time": "2020-05-28T07:16:11.383200Z",
     "start_time": "2020-05-28T07:16:11.132879Z"
    },
    "hidden": true
   },
   "outputs": [],
   "source": [
    "df_tips = pd.DataFrame(tip_list).rename(columns={0:'t',1:'x',2:'y',3:'s',4:'n',5:'dn'})"
   ]
  },
  {
   "cell_type": "code",
   "execution_count": 28,
   "metadata": {
    "ExecuteTime": {
     "end_time": "2020-05-28T07:16:11.672043Z",
     "start_time": "2020-05-28T07:16:11.387179Z"
    },
    "hidden": true
   },
   "outputs": [
    {
     "name": "stdout",
     "output_type": "stream",
     "text": [
      "the number of null observations in output dataset is 0.\n"
     ]
    }
   ],
   "source": [
    "print(f\"the number of null observations in output dataset is {sum(sum(df_tips.isnull().values))}.\")"
   ]
  },
  {
   "cell_type": "code",
   "execution_count": 29,
   "metadata": {
    "ExecuteTime": {
     "end_time": "2020-05-28T07:16:13.450895Z",
     "start_time": "2020-05-28T07:16:11.685249Z"
    },
    "hidden": true,
    "scrolled": true
   },
   "outputs": [
    {
     "name": "stdout",
     "output_type": "stream",
     "text": [
      "tip locations saved to:\n",
      "\tData/tip_positions_chaos_circle6_sigma_4_threshold_0.9_wrapping_true_at_time_1800.0.csv\n"
     ]
    }
   ],
   "source": [
    "save_dir = data_dir.replace('tip_log','tip_positions')\n",
    "df_tips.to_csv(save_dir)\n",
    "print(f\"tip locations saved to:\\n\\t{save_dir}\")"
   ]
  },
  {
   "cell_type": "code",
   "execution_count": 30,
   "metadata": {
    "ExecuteTime": {
     "end_time": "2020-05-28T07:16:13.499690Z",
     "start_time": "2020-05-28T07:16:13.453980Z"
    },
    "hidden": true
   },
   "outputs": [],
   "source": [
    "# DONE: iterate through the list. form a df. save.\n",
    "\n",
    "# _TODO(later)_ in new notebook for the hopefully minimal minutia of particle tracking...\n",
    "# TODO: delete duplicates. print percent of rows deleted this way.\n",
    "# TODO: track particles with trackpy\n",
    "# TODO: track consistency of particle number with topological number over time\n",
    "# TODO: locate any inconsistencies.  plot them.  do you see a tendency?\n",
    "# TODO: can I identify spiral tips by grouping by t then by s, and keeping only even numbered groups? No! Not as long as the contour numbering fails to obey pbc\n",
    "# TODO: with this cleaned data, compute the apparent birth-death rates"
   ]
  },
  {
   "cell_type": "markdown",
   "metadata": {
    "ExecuteTime": {
     "end_time": "2020-05-28T16:05:55.405981Z",
     "start_time": "2020-05-28T16:05:55.239797Z"
    },
    "heading_collapsed": true,
    "hidden": true
   },
   "source": [
    "## DONE: dev for automated tip log post processing\n",
    "or put it into a .py file and loop it over tip logs within a certain folder"
   ]
  },
  {
   "cell_type": "code",
   "execution_count": 44,
   "metadata": {
    "ExecuteTime": {
     "end_time": "2020-05-28T21:48:26.789000Z",
     "start_time": "2020-05-28T21:48:26.754710Z"
    },
    "hidden": true
   },
   "outputs": [
    {
     "data": {
      "text/plain": [
       "False"
      ]
     },
     "execution_count": 44,
     "metadata": {},
     "output_type": "execute_result"
    }
   ],
   "source": [
    "os.path.exists('Data/tip_log_summary.csv')"
   ]
  },
  {
   "cell_type": "code",
   "execution_count": 52,
   "metadata": {
    "ExecuteTime": {
     "end_time": "2020-05-28T21:51:33.612511Z",
     "start_time": "2020-05-28T21:51:33.575251Z"
    },
    "hidden": true
   },
   "outputs": [
    {
     "data": {
      "text/plain": [
       "1799.6"
      ]
     },
     "execution_count": 52,
     "metadata": {},
     "output_type": "execute_result"
    }
   ],
   "source": [
    "np.around(df.t.describe()[['min','max']].diff()[-1],1)"
   ]
  },
  {
   "cell_type": "code",
   "execution_count": 53,
   "metadata": {
    "ExecuteTime": {
     "end_time": "2020-05-28T21:51:51.897202Z",
     "start_time": "2020-05-28T21:51:51.856024Z"
    },
    "hidden": true
   },
   "outputs": [
    {
     "data": {
      "text/plain": [
       "0.3"
      ]
     },
     "execution_count": 53,
     "metadata": {},
     "output_type": "execute_result"
    }
   ],
   "source": [
    "tmin = np.min(df.t.values)\n",
    "tmax = np.max(df.t.values)"
   ]
  },
  {
   "cell_type": "code",
   "execution_count": 57,
   "metadata": {
    "ExecuteTime": {
     "end_time": "2020-05-28T22:15:59.571343Z",
     "start_time": "2020-05-28T22:15:59.532357Z"
    },
    "hidden": true
   },
   "outputs": [
    {
     "data": {
      "text/html": [
       "<div>\n",
       "<style scoped>\n",
       "    .dataframe tbody tr th:only-of-type {\n",
       "        vertical-align: middle;\n",
       "    }\n",
       "\n",
       "    .dataframe tbody tr th {\n",
       "        vertical-align: top;\n",
       "    }\n",
       "\n",
       "    .dataframe thead th {\n",
       "        text-align: right;\n",
       "    }\n",
       "</style>\n",
       "<table border=\"1\" class=\"dataframe\">\n",
       "  <thead>\n",
       "    <tr style=\"text-align: right;\">\n",
       "      <th></th>\n",
       "      <th>0</th>\n",
       "      <th>1</th>\n",
       "      <th>2</th>\n",
       "      <th>3</th>\n",
       "      <th>4</th>\n",
       "      <th>5</th>\n",
       "    </tr>\n",
       "  </thead>\n",
       "  <tbody>\n",
       "    <tr>\n",
       "      <th>0</th>\n",
       "      <td>t</td>\n",
       "      <td>x</td>\n",
       "      <td>y</td>\n",
       "      <td>s</td>\n",
       "      <td>n</td>\n",
       "      <td>dn</td>\n",
       "    </tr>\n",
       "  </tbody>\n",
       "</table>\n",
       "</div>"
      ],
      "text/plain": [
       "   0  1  2  3  4   5\n",
       "0  t  x  y  s  n  dn"
      ]
     },
     "execution_count": 57,
     "metadata": {},
     "output_type": "execute_result"
    }
   ],
   "source": [
    "pd.DataFrame([{0:'t',1:'x',2:'y',3:'s',4:'n',5:'dn'}])"
   ]
  },
  {
   "cell_type": "code",
   "execution_count": 59,
   "metadata": {
    "ExecuteTime": {
     "end_time": "2020-05-28T22:43:28.607033Z",
     "start_time": "2020-05-28T22:43:28.569897Z"
    },
    "hidden": true
   },
   "outputs": [],
   "source": []
  },
  {
   "cell_type": "code",
   "execution_count": null,
   "metadata": {
    "ExecuteTime": {
     "end_time": "2020-05-28T22:53:20.506336Z",
     "start_time": "2020-05-28T22:53:20.475381Z"
    },
    "hidden": true
   },
   "outputs": [],
   "source": []
  },
  {
   "cell_type": "code",
   "execution_count": null,
   "metadata": {
    "ExecuteTime": {
     "end_time": "2020-05-28T23:17:58.587862Z",
     "start_time": "2020-05-28T23:17:58.561002Z"
    },
    "hidden": true
   },
   "outputs": [],
   "source": []
  },
  {
   "cell_type": "markdown",
   "metadata": {
    "ExecuteTime": {
     "end_time": "2020-05-28T23:23:12.668288Z",
     "start_time": "2020-05-28T23:23:12.637563Z"
    },
    "heading_collapsed": true,
    "hidden": true
   },
   "source": [
    "## i should take the some runs and plot where the tips are and plot them!\n",
    "Then run my GPU more? No, I might need to implement periodic boundary conditions on the contour funciton\n",
    "\n",
    "__If periodic boundary conditions not being met are the cause of odd birth/deaths, then either__\n",
    "- the contour finding is at fault (because it's not explicitely periodic), _or_\n",
    "- the intersection function is at fault (also because it's not explicitely periodic)\n",
    "\n",
    "__TODO:__ plot the x-y coordinates of tips when odd events occur.  Color by the topological number"
   ]
  },
  {
   "cell_type": "code",
   "execution_count": 21,
   "metadata": {
    "ExecuteTime": {
     "end_time": "2020-05-29T20:06:11.308048Z",
     "start_time": "2020-05-29T20:06:11.281840Z"
    },
    "hidden": true
   },
   "outputs": [],
   "source": [
    "import os\n",
    "\n",
    "def find_files(filename, search_path):\n",
    "   result = []\n",
    "\n",
    "# Wlaking top-down from the root\n",
    "   for root, dir, files in os.walk(search_path):\n",
    "      if filename in files:\n",
    "         result.append(os.path.join(root, filename))\n",
    "   return result\n",
    "\n",
    "# print(find_files(\"smpl.htm\",\"D:\"))"
   ]
  },
  {
   "cell_type": "code",
   "execution_count": 103,
   "metadata": {
    "ExecuteTime": {
     "end_time": "2020-05-29T02:37:00.165170Z",
     "start_time": "2020-05-29T02:37:00.038879Z"
    },
    "hidden": true
   },
   "outputs": [],
   "source": [
    "#these are the trials that did the best in terms of percent of birth/death events that were odd.\n",
    "data_dir = 'Data/input/tip_log_chaos_circle6_sigma_4_threshold_0.9_wrapping_true_at_time_1800.0.csv'\n",
    "# 'Data/input/tip_log_chaos_circle6_sigma_3_threshold_0.95_wrapping_true_at_time_4500.0.csv'\n",
    "# 'Data/input/tip_log_chaos_circle6_sigma_3_threshold_0.99_wrapping_true_at_time_4500.0.csv'\n",
    "# 'Data/input/tip_log_chaos_circle6_sigma_5_threshold_0.9_wrapping_true_at_time_4500.0.csv'\n",
    "# 'Data/input/tip_log_chaos_circle6_sigma_2_threshold_0.9_wrapping_at_time_1800.0.csv'\n",
    "data_dir = data_dir.replace('tip_log','tip_positions').replace('input','output')\n",
    "df = pd.read_csv(data_dir)"
   ]
  },
  {
   "cell_type": "code",
   "execution_count": 104,
   "metadata": {
    "ExecuteTime": {
     "end_time": "2020-05-29T02:37:01.630910Z",
     "start_time": "2020-05-29T02:37:01.608799Z"
    },
    "hidden": true,
    "scrolled": true
   },
   "outputs": [
    {
     "name": "stdout",
     "output_type": "stream",
     "text": [
      "For this trial, sigma was 4, threshold was 0.9.\n"
     ]
    }
   ],
   "source": [
    "#TODO: run these lines and add sigma and threshold columns to the summaries spreadsheet\n",
    "sigma = eval(data_dir[data_dir.find('sigma_')+len('sigma_'):].split('_')[0])\n",
    "threshold = eval(data_dir[data_dir.find('threshold_')+len('threshold_'):].split('_')[0])\n",
    "print(f'For this trial, sigma was {sigma}, threshold was {threshold}.')"
   ]
  },
  {
   "cell_type": "markdown",
   "metadata": {
    "heading_collapsed": true,
    "hidden": true
   },
   "source": [
    "## odd tips will still happen if atol is too small and pad/rejection_distance are too small\n",
    "retrying with atol = 1e-2"
   ]
  },
  {
   "cell_type": "code",
   "execution_count": 107,
   "metadata": {
    "ExecuteTime": {
     "end_time": "2020-05-29T02:37:48.895738Z",
     "start_time": "2020-05-29T02:37:48.608595Z"
    },
    "hidden": true
   },
   "outputs": [
    {
     "name": "stdout",
     "output_type": "stream",
     "text": [
      "118\n"
     ]
    },
    {
     "data": {
      "text/plain": [
       "{-1, 1}"
      ]
     },
     "execution_count": 107,
     "metadata": {},
     "output_type": "execute_result"
    }
   ],
   "source": [
    "print(sum(df.dn.values%2!=0))#number of odd events\n",
    "set(df[df.dn.values%2!=0].dn)"
   ]
  },
  {
   "cell_type": "code",
   "execution_count": 247,
   "metadata": {
    "ExecuteTime": {
     "end_time": "2020-06-24T16:20:21.265584Z",
     "start_time": "2020-06-24T16:20:21.206791Z"
    },
    "hidden": true,
    "scrolled": true
   },
   "outputs": [
    {
     "data": {
      "text/html": [
       "<div>\n",
       "<style scoped>\n",
       "    .dataframe tbody tr th:only-of-type {\n",
       "        vertical-align: middle;\n",
       "    }\n",
       "\n",
       "    .dataframe tbody tr th {\n",
       "        vertical-align: top;\n",
       "    }\n",
       "\n",
       "    .dataframe thead th {\n",
       "        text-align: right;\n",
       "    }\n",
       "</style>\n",
       "<table border=\"1\" class=\"dataframe\">\n",
       "  <thead>\n",
       "    <tr style=\"text-align: right;\">\n",
       "      <th></th>\n",
       "      <th>n</th>\n",
       "      <th>s1</th>\n",
       "      <th>s2</th>\n",
       "      <th>t</th>\n",
       "      <th>x</th>\n",
       "      <th>y</th>\n",
       "    </tr>\n",
       "  </thead>\n",
       "  <tbody>\n",
       "    <tr>\n",
       "      <th>17090</th>\n",
       "      <td>11</td>\n",
       "      <td>(0, 2)</td>\n",
       "      <td>(1, 1)</td>\n",
       "      <td>10.073</td>\n",
       "      <td>191.722206</td>\n",
       "      <td>34.387174</td>\n",
       "    </tr>\n",
       "    <tr>\n",
       "      <th>17091</th>\n",
       "      <td>11</td>\n",
       "      <td>(0, 2, 2, 4)</td>\n",
       "      <td>(1, 1, 6, 13)</td>\n",
       "      <td>10.073</td>\n",
       "      <td>197.750662</td>\n",
       "      <td>13.326499</td>\n",
       "    </tr>\n",
       "    <tr>\n",
       "      <th>17092</th>\n",
       "      <td>11</td>\n",
       "      <td>(0, 2)</td>\n",
       "      <td>(1, 6)</td>\n",
       "      <td>10.073</td>\n",
       "      <td>59.619148</td>\n",
       "      <td>2.753276</td>\n",
       "    </tr>\n",
       "    <tr>\n",
       "      <th>17093</th>\n",
       "      <td>11</td>\n",
       "      <td>(1,)</td>\n",
       "      <td>(1,)</td>\n",
       "      <td>10.073</td>\n",
       "      <td>57.542300</td>\n",
       "      <td>28.121047</td>\n",
       "    </tr>\n",
       "    <tr>\n",
       "      <th>17094</th>\n",
       "      <td>11</td>\n",
       "      <td>(1,)</td>\n",
       "      <td>(3,)</td>\n",
       "      <td>10.073</td>\n",
       "      <td>96.732815</td>\n",
       "      <td>59.379463</td>\n",
       "    </tr>\n",
       "    <tr>\n",
       "      <th>17095</th>\n",
       "      <td>11</td>\n",
       "      <td>(1, 3)</td>\n",
       "      <td>(4, 10)</td>\n",
       "      <td>10.073</td>\n",
       "      <td>198.530645</td>\n",
       "      <td>117.194565</td>\n",
       "    </tr>\n",
       "    <tr>\n",
       "      <th>17096</th>\n",
       "      <td>11</td>\n",
       "      <td>(1, 3)</td>\n",
       "      <td>(9, 10)</td>\n",
       "      <td>10.073</td>\n",
       "      <td>122.749514</td>\n",
       "      <td>192.249409</td>\n",
       "    </tr>\n",
       "    <tr>\n",
       "      <th>17097</th>\n",
       "      <td>11</td>\n",
       "      <td>(1, 1, 3, 3)</td>\n",
       "      <td>(9, 9, 10, 10)</td>\n",
       "      <td>10.073</td>\n",
       "      <td>108.000396</td>\n",
       "      <td>196.195172</td>\n",
       "    </tr>\n",
       "    <tr>\n",
       "      <th>17098</th>\n",
       "      <td>11</td>\n",
       "      <td>(2,)</td>\n",
       "      <td>(3,)</td>\n",
       "      <td>10.073</td>\n",
       "      <td>170.462349</td>\n",
       "      <td>68.213698</td>\n",
       "    </tr>\n",
       "    <tr>\n",
       "      <th>17099</th>\n",
       "      <td>11</td>\n",
       "      <td>(2, 6)</td>\n",
       "      <td>(4, 10)</td>\n",
       "      <td>10.073</td>\n",
       "      <td>1.414549</td>\n",
       "      <td>179.238965</td>\n",
       "    </tr>\n",
       "    <tr>\n",
       "      <th>17100</th>\n",
       "      <td>11</td>\n",
       "      <td>(2,)</td>\n",
       "      <td>(4,)</td>\n",
       "      <td>10.073</td>\n",
       "      <td>42.386239</td>\n",
       "      <td>155.340530</td>\n",
       "    </tr>\n",
       "  </tbody>\n",
       "</table>\n",
       "</div>"
      ],
      "text/plain": [
       "        n            s1              s2       t           x           y\n",
       "17090  11        (0, 2)          (1, 1)  10.073  191.722206   34.387174\n",
       "17091  11  (0, 2, 2, 4)   (1, 1, 6, 13)  10.073  197.750662   13.326499\n",
       "17092  11        (0, 2)          (1, 6)  10.073   59.619148    2.753276\n",
       "17093  11          (1,)            (1,)  10.073   57.542300   28.121047\n",
       "17094  11          (1,)            (3,)  10.073   96.732815   59.379463\n",
       "17095  11        (1, 3)         (4, 10)  10.073  198.530645  117.194565\n",
       "17096  11        (1, 3)         (9, 10)  10.073  122.749514  192.249409\n",
       "17097  11  (1, 1, 3, 3)  (9, 9, 10, 10)  10.073  108.000396  196.195172\n",
       "17098  11          (2,)            (3,)  10.073  170.462349   68.213698\n",
       "17099  11        (2, 6)         (4, 10)  10.073    1.414549  179.238965\n",
       "17100  11          (2,)            (4,)  10.073   42.386239  155.340530"
      ]
     },
     "execution_count": 247,
     "metadata": {},
     "output_type": "execute_result"
    }
   ],
   "source": [
    "df.query('t == 10.073')#542.710+7*0.007')#10.073')#50.96')\n"
   ]
  },
  {
   "cell_type": "code",
   "execution_count": 252,
   "metadata": {
    "ExecuteTime": {
     "end_time": "2020-06-24T16:22:38.107200Z",
     "start_time": "2020-06-24T16:22:38.064874Z"
    },
    "hidden": true
   },
   "outputs": [
    {
     "data": {
      "text/html": [
       "<div>\n",
       "<style scoped>\n",
       "    .dataframe tbody tr th:only-of-type {\n",
       "        vertical-align: middle;\n",
       "    }\n",
       "\n",
       "    .dataframe tbody tr th {\n",
       "        vertical-align: top;\n",
       "    }\n",
       "\n",
       "    .dataframe thead th {\n",
       "        text-align: right;\n",
       "    }\n",
       "</style>\n",
       "<table border=\"1\" class=\"dataframe\">\n",
       "  <thead>\n",
       "    <tr style=\"text-align: right;\">\n",
       "      <th></th>\n",
       "      <th>n</th>\n",
       "      <th>s1</th>\n",
       "      <th>s2</th>\n",
       "      <th>t</th>\n",
       "      <th>x</th>\n",
       "      <th>y</th>\n",
       "    </tr>\n",
       "  </thead>\n",
       "  <tbody>\n",
       "    <tr>\n",
       "      <th>17101</th>\n",
       "      <td>12</td>\n",
       "      <td>(0, 2)</td>\n",
       "      <td>(1, 1)</td>\n",
       "      <td>10.08</td>\n",
       "      <td>191.722203</td>\n",
       "      <td>34.387087</td>\n",
       "    </tr>\n",
       "    <tr>\n",
       "      <th>17102</th>\n",
       "      <td>12</td>\n",
       "      <td>(0, 2, 2, 4)</td>\n",
       "      <td>(1, 1, 6, 13)</td>\n",
       "      <td>10.08</td>\n",
       "      <td>197.750662</td>\n",
       "      <td>13.327144</td>\n",
       "    </tr>\n",
       "    <tr>\n",
       "      <th>17103</th>\n",
       "      <td>12</td>\n",
       "      <td>(0, 2)</td>\n",
       "      <td>(1, 6)</td>\n",
       "      <td>10.08</td>\n",
       "      <td>59.619438</td>\n",
       "      <td>2.753278</td>\n",
       "    </tr>\n",
       "    <tr>\n",
       "      <th>17104</th>\n",
       "      <td>12</td>\n",
       "      <td>(1,)</td>\n",
       "      <td>(1,)</td>\n",
       "      <td>10.08</td>\n",
       "      <td>57.542195</td>\n",
       "      <td>28.120898</td>\n",
       "    </tr>\n",
       "    <tr>\n",
       "      <th>17105</th>\n",
       "      <td>12</td>\n",
       "      <td>(1,)</td>\n",
       "      <td>(3,)</td>\n",
       "      <td>10.08</td>\n",
       "      <td>96.732897</td>\n",
       "      <td>59.379523</td>\n",
       "    </tr>\n",
       "    <tr>\n",
       "      <th>17106</th>\n",
       "      <td>12</td>\n",
       "      <td>(1, 3)</td>\n",
       "      <td>(4, 10)</td>\n",
       "      <td>10.08</td>\n",
       "      <td>198.530553</td>\n",
       "      <td>117.194380</td>\n",
       "    </tr>\n",
       "    <tr>\n",
       "      <th>17107</th>\n",
       "      <td>12</td>\n",
       "      <td>(1, 3)</td>\n",
       "      <td>(9, 10)</td>\n",
       "      <td>10.08</td>\n",
       "      <td>122.855003</td>\n",
       "      <td>192.171908</td>\n",
       "    </tr>\n",
       "    <tr>\n",
       "      <th>17108</th>\n",
       "      <td>12</td>\n",
       "      <td>(1, 3)</td>\n",
       "      <td>(9, 10)</td>\n",
       "      <td>10.08</td>\n",
       "      <td>108.000887</td>\n",
       "      <td>196.195195</td>\n",
       "    </tr>\n",
       "    <tr>\n",
       "      <th>17109</th>\n",
       "      <td>12</td>\n",
       "      <td>(1, 3)</td>\n",
       "      <td>(9, 10)</td>\n",
       "      <td>10.08</td>\n",
       "      <td>107.999063</td>\n",
       "      <td>196.194922</td>\n",
       "    </tr>\n",
       "    <tr>\n",
       "      <th>17110</th>\n",
       "      <td>12</td>\n",
       "      <td>(2,)</td>\n",
       "      <td>(3,)</td>\n",
       "      <td>10.08</td>\n",
       "      <td>170.462309</td>\n",
       "      <td>68.213780</td>\n",
       "    </tr>\n",
       "    <tr>\n",
       "      <th>17111</th>\n",
       "      <td>12</td>\n",
       "      <td>(2, 6)</td>\n",
       "      <td>(4, 10)</td>\n",
       "      <td>10.08</td>\n",
       "      <td>1.414603</td>\n",
       "      <td>179.239014</td>\n",
       "    </tr>\n",
       "    <tr>\n",
       "      <th>17112</th>\n",
       "      <td>12</td>\n",
       "      <td>(2,)</td>\n",
       "      <td>(4,)</td>\n",
       "      <td>10.08</td>\n",
       "      <td>42.386396</td>\n",
       "      <td>155.340536</td>\n",
       "    </tr>\n",
       "  </tbody>\n",
       "</table>\n",
       "</div>"
      ],
      "text/plain": [
       "        n            s1             s2      t           x           y\n",
       "17101  12        (0, 2)         (1, 1)  10.08  191.722203   34.387087\n",
       "17102  12  (0, 2, 2, 4)  (1, 1, 6, 13)  10.08  197.750662   13.327144\n",
       "17103  12        (0, 2)         (1, 6)  10.08   59.619438    2.753278\n",
       "17104  12          (1,)           (1,)  10.08   57.542195   28.120898\n",
       "17105  12          (1,)           (3,)  10.08   96.732897   59.379523\n",
       "17106  12        (1, 3)        (4, 10)  10.08  198.530553  117.194380\n",
       "17107  12        (1, 3)        (9, 10)  10.08  122.855003  192.171908\n",
       "17108  12        (1, 3)        (9, 10)  10.08  108.000887  196.195195\n",
       "17109  12        (1, 3)        (9, 10)  10.08  107.999063  196.194922\n",
       "17110  12          (2,)           (3,)  10.08  170.462309   68.213780\n",
       "17111  12        (2, 6)        (4, 10)  10.08    1.414603  179.239014\n",
       "17112  12          (2,)           (4,)  10.08   42.386396  155.340536"
      ]
     },
     "execution_count": 252,
     "metadata": {},
     "output_type": "execute_result"
    }
   ],
   "source": [
    "# df.describe().t\n",
    "df.query('t == 10.073+1*0.007')"
   ]
  },
  {
   "cell_type": "code",
   "execution_count": 267,
   "metadata": {
    "ExecuteTime": {
     "end_time": "2020-06-24T16:27:27.020417Z",
     "start_time": "2020-06-24T16:27:26.979988Z"
    },
    "hidden": true
   },
   "outputs": [
    {
     "data": {
      "text/html": [
       "<div>\n",
       "<style scoped>\n",
       "    .dataframe tbody tr th:only-of-type {\n",
       "        vertical-align: middle;\n",
       "    }\n",
       "\n",
       "    .dataframe tbody tr th {\n",
       "        vertical-align: top;\n",
       "    }\n",
       "\n",
       "    .dataframe thead th {\n",
       "        text-align: right;\n",
       "    }\n",
       "</style>\n",
       "<table border=\"1\" class=\"dataframe\">\n",
       "  <thead>\n",
       "    <tr style=\"text-align: right;\">\n",
       "      <th></th>\n",
       "      <th>n</th>\n",
       "      <th>s1</th>\n",
       "      <th>s2</th>\n",
       "      <th>t</th>\n",
       "      <th>x</th>\n",
       "      <th>y</th>\n",
       "    </tr>\n",
       "  </thead>\n",
       "  <tbody>\n",
       "    <tr>\n",
       "      <th>17113</th>\n",
       "      <td>12</td>\n",
       "      <td>(0, 2)</td>\n",
       "      <td>(1, 1)</td>\n",
       "      <td>10.087</td>\n",
       "      <td>191.722200</td>\n",
       "      <td>34.387002</td>\n",
       "    </tr>\n",
       "    <tr>\n",
       "      <th>17114</th>\n",
       "      <td>12</td>\n",
       "      <td>(0, 2, 2, 4)</td>\n",
       "      <td>(1, 1, 6, 13)</td>\n",
       "      <td>10.087</td>\n",
       "      <td>197.750662</td>\n",
       "      <td>13.327789</td>\n",
       "    </tr>\n",
       "    <tr>\n",
       "      <th>17115</th>\n",
       "      <td>12</td>\n",
       "      <td>(0, 2)</td>\n",
       "      <td>(1, 6)</td>\n",
       "      <td>10.087</td>\n",
       "      <td>59.619725</td>\n",
       "      <td>2.753279</td>\n",
       "    </tr>\n",
       "    <tr>\n",
       "      <th>17116</th>\n",
       "      <td>12</td>\n",
       "      <td>(1,)</td>\n",
       "      <td>(1,)</td>\n",
       "      <td>10.087</td>\n",
       "      <td>57.437217</td>\n",
       "      <td>28.263094</td>\n",
       "    </tr>\n",
       "    <tr>\n",
       "      <th>17117</th>\n",
       "      <td>12</td>\n",
       "      <td>(1,)</td>\n",
       "      <td>(3,)</td>\n",
       "      <td>10.087</td>\n",
       "      <td>96.732978</td>\n",
       "      <td>59.379583</td>\n",
       "    </tr>\n",
       "    <tr>\n",
       "      <th>17118</th>\n",
       "      <td>12</td>\n",
       "      <td>(1, 3)</td>\n",
       "      <td>(4, 10)</td>\n",
       "      <td>10.087</td>\n",
       "      <td>198.530462</td>\n",
       "      <td>117.194196</td>\n",
       "    </tr>\n",
       "    <tr>\n",
       "      <th>17119</th>\n",
       "      <td>12</td>\n",
       "      <td>(1, 3)</td>\n",
       "      <td>(9, 10)</td>\n",
       "      <td>10.087</td>\n",
       "      <td>122.855023</td>\n",
       "      <td>192.171912</td>\n",
       "    </tr>\n",
       "    <tr>\n",
       "      <th>17120</th>\n",
       "      <td>12</td>\n",
       "      <td>(1, 3)</td>\n",
       "      <td>(9, 10)</td>\n",
       "      <td>10.087</td>\n",
       "      <td>108.001329</td>\n",
       "      <td>196.195215</td>\n",
       "    </tr>\n",
       "    <tr>\n",
       "      <th>17121</th>\n",
       "      <td>12</td>\n",
       "      <td>(1, 3)</td>\n",
       "      <td>(9, 10)</td>\n",
       "      <td>10.087</td>\n",
       "      <td>107.998598</td>\n",
       "      <td>196.194807</td>\n",
       "    </tr>\n",
       "    <tr>\n",
       "      <th>17122</th>\n",
       "      <td>12</td>\n",
       "      <td>(2,)</td>\n",
       "      <td>(3,)</td>\n",
       "      <td>10.087</td>\n",
       "      <td>170.462269</td>\n",
       "      <td>68.213860</td>\n",
       "    </tr>\n",
       "    <tr>\n",
       "      <th>17123</th>\n",
       "      <td>12</td>\n",
       "      <td>(2, 6)</td>\n",
       "      <td>(4, 10)</td>\n",
       "      <td>10.087</td>\n",
       "      <td>1.414656</td>\n",
       "      <td>179.239062</td>\n",
       "    </tr>\n",
       "    <tr>\n",
       "      <th>17124</th>\n",
       "      <td>12</td>\n",
       "      <td>(2,)</td>\n",
       "      <td>(4,)</td>\n",
       "      <td>10.087</td>\n",
       "      <td>42.386533</td>\n",
       "      <td>155.340475</td>\n",
       "    </tr>\n",
       "  </tbody>\n",
       "</table>\n",
       "</div>"
      ],
      "text/plain": [
       "        n            s1             s2       t           x           y\n",
       "17113  12        (0, 2)         (1, 1)  10.087  191.722200   34.387002\n",
       "17114  12  (0, 2, 2, 4)  (1, 1, 6, 13)  10.087  197.750662   13.327789\n",
       "17115  12        (0, 2)         (1, 6)  10.087   59.619725    2.753279\n",
       "17116  12          (1,)           (1,)  10.087   57.437217   28.263094\n",
       "17117  12          (1,)           (3,)  10.087   96.732978   59.379583\n",
       "17118  12        (1, 3)        (4, 10)  10.087  198.530462  117.194196\n",
       "17119  12        (1, 3)        (9, 10)  10.087  122.855023  192.171912\n",
       "17120  12        (1, 3)        (9, 10)  10.087  108.001329  196.195215\n",
       "17121  12        (1, 3)        (9, 10)  10.087  107.998598  196.194807\n",
       "17122  12          (2,)           (3,)  10.087  170.462269   68.213860\n",
       "17123  12        (2, 6)        (4, 10)  10.087    1.414656  179.239062\n",
       "17124  12          (2,)           (4,)  10.087   42.386533  155.340475"
      ]
     },
     "execution_count": 267,
     "metadata": {},
     "output_type": "execute_result"
    }
   ],
   "source": [
    "# set(df.groupby('t').count().n.values)\n",
    "df.query('t == 10.073+2*0.007')\n",
    "# df.query('t == 542.710+0.007*9')#120.6234')#542.766')#10.073')#50.96')\n",
    "\n",
    "# df.query('t == 542.710')#120.6234')#542.766')#10.073')#50.96')\n",
    "\n",
    "#odd birth via duplicate tip\n",
    "# df.iloc[62118][['x','y']]-df.iloc[62112][['x','y']]\n"
   ]
  },
  {
   "cell_type": "code",
   "execution_count": 266,
   "metadata": {
    "ExecuteTime": {
     "end_time": "2020-06-24T16:26:08.356802Z",
     "start_time": "2020-06-24T16:26:08.315305Z"
    },
    "hidden": true
   },
   "outputs": [
    {
     "data": {
      "text/html": [
       "<div>\n",
       "<style scoped>\n",
       "    .dataframe tbody tr th:only-of-type {\n",
       "        vertical-align: middle;\n",
       "    }\n",
       "\n",
       "    .dataframe tbody tr th {\n",
       "        vertical-align: top;\n",
       "    }\n",
       "\n",
       "    .dataframe thead th {\n",
       "        text-align: right;\n",
       "    }\n",
       "</style>\n",
       "<table border=\"1\" class=\"dataframe\">\n",
       "  <thead>\n",
       "    <tr style=\"text-align: right;\">\n",
       "      <th></th>\n",
       "      <th>n</th>\n",
       "      <th>s1</th>\n",
       "      <th>s2</th>\n",
       "      <th>t</th>\n",
       "      <th>x</th>\n",
       "      <th>y</th>\n",
       "    </tr>\n",
       "  </thead>\n",
       "  <tbody>\n",
       "    <tr>\n",
       "      <th>17137</th>\n",
       "      <td>10</td>\n",
       "      <td>(0, 2)</td>\n",
       "      <td>(1, 1)</td>\n",
       "      <td>10.101</td>\n",
       "      <td>191.722194</td>\n",
       "      <td>34.386837</td>\n",
       "    </tr>\n",
       "    <tr>\n",
       "      <th>17138</th>\n",
       "      <td>10</td>\n",
       "      <td>(0, 2, 2, 4)</td>\n",
       "      <td>(1, 1, 6, 13)</td>\n",
       "      <td>10.101</td>\n",
       "      <td>197.750662</td>\n",
       "      <td>13.329074</td>\n",
       "    </tr>\n",
       "    <tr>\n",
       "      <th>17139</th>\n",
       "      <td>10</td>\n",
       "      <td>(0, 2)</td>\n",
       "      <td>(1, 6)</td>\n",
       "      <td>10.101</td>\n",
       "      <td>59.620291</td>\n",
       "      <td>2.753281</td>\n",
       "    </tr>\n",
       "    <tr>\n",
       "      <th>17140</th>\n",
       "      <td>10</td>\n",
       "      <td>(1,)</td>\n",
       "      <td>(1,)</td>\n",
       "      <td>10.101</td>\n",
       "      <td>57.436843</td>\n",
       "      <td>28.262704</td>\n",
       "    </tr>\n",
       "    <tr>\n",
       "      <th>17141</th>\n",
       "      <td>10</td>\n",
       "      <td>(1,)</td>\n",
       "      <td>(3,)</td>\n",
       "      <td>10.101</td>\n",
       "      <td>96.733137</td>\n",
       "      <td>59.379700</td>\n",
       "    </tr>\n",
       "    <tr>\n",
       "      <th>17142</th>\n",
       "      <td>10</td>\n",
       "      <td>(1, 3)</td>\n",
       "      <td>(4, 10)</td>\n",
       "      <td>10.101</td>\n",
       "      <td>198.530283</td>\n",
       "      <td>117.193832</td>\n",
       "    </tr>\n",
       "    <tr>\n",
       "      <th>17143</th>\n",
       "      <td>10</td>\n",
       "      <td>(1, 3)</td>\n",
       "      <td>(9, 10)</td>\n",
       "      <td>10.101</td>\n",
       "      <td>122.855071</td>\n",
       "      <td>192.171921</td>\n",
       "    </tr>\n",
       "    <tr>\n",
       "      <th>17144</th>\n",
       "      <td>10</td>\n",
       "      <td>(2,)</td>\n",
       "      <td>(3,)</td>\n",
       "      <td>10.101</td>\n",
       "      <td>170.462191</td>\n",
       "      <td>68.214019</td>\n",
       "    </tr>\n",
       "    <tr>\n",
       "      <th>17145</th>\n",
       "      <td>10</td>\n",
       "      <td>(2, 6)</td>\n",
       "      <td>(4, 10)</td>\n",
       "      <td>10.101</td>\n",
       "      <td>1.414758</td>\n",
       "      <td>179.239155</td>\n",
       "    </tr>\n",
       "    <tr>\n",
       "      <th>17146</th>\n",
       "      <td>10</td>\n",
       "      <td>(2,)</td>\n",
       "      <td>(4,)</td>\n",
       "      <td>10.101</td>\n",
       "      <td>42.386806</td>\n",
       "      <td>155.340355</td>\n",
       "    </tr>\n",
       "  </tbody>\n",
       "</table>\n",
       "</div>"
      ],
      "text/plain": [
       "        n            s1             s2       t           x           y\n",
       "17137  10        (0, 2)         (1, 1)  10.101  191.722194   34.386837\n",
       "17138  10  (0, 2, 2, 4)  (1, 1, 6, 13)  10.101  197.750662   13.329074\n",
       "17139  10        (0, 2)         (1, 6)  10.101   59.620291    2.753281\n",
       "17140  10          (1,)           (1,)  10.101   57.436843   28.262704\n",
       "17141  10          (1,)           (3,)  10.101   96.733137   59.379700\n",
       "17142  10        (1, 3)        (4, 10)  10.101  198.530283  117.193832\n",
       "17143  10        (1, 3)        (9, 10)  10.101  122.855071  192.171921\n",
       "17144  10          (2,)           (3,)  10.101  170.462191   68.214019\n",
       "17145  10        (2, 6)        (4, 10)  10.101    1.414758  179.239155\n",
       "17146  10          (2,)           (4,)  10.101   42.386806  155.340355"
      ]
     },
     "execution_count": 266,
     "metadata": {},
     "output_type": "execute_result"
    }
   ],
   "source": [
    "df.query('t == 10.073+4*0.007')"
   ]
  },
  {
   "cell_type": "code",
   "execution_count": 268,
   "metadata": {
    "ExecuteTime": {
     "end_time": "2020-06-24T16:27:58.885453Z",
     "start_time": "2020-06-24T16:27:58.852693Z"
    },
    "hidden": true
   },
   "outputs": [
    {
     "data": {
      "text/plain": [
       "0.0027614683569837737"
      ]
     },
     "execution_count": 268,
     "metadata": {},
     "output_type": "execute_result"
    }
   ],
   "source": [
    "# df2.query('dn==1').tail(5)\n",
    "# df.query('t==542.7869999999999-0.007')\n",
    "# df.query('t==542.7869999999999')\n",
    "np.linalg.norm((df.iloc[17121][['x','y']]-df.iloc[17120][['x','y']]).values)"
   ]
  },
  {
   "cell_type": "markdown",
   "metadata": {
    "hidden": true
   },
   "source": [
    "Ah, ha!   So an odd tip may appear as a duplicate of another if both atol<=1e-4 and the padding/rejection_distance is small.  So, Either give up speed by increasing the padding or give up positional accuracy by increasing atol = 1e-3.  Since right now, I'm only counting tips, let's just increase atol to 1e-2.\n",
    "\n",
    "But first, check a typical birth distance! ~1pxl."
   ]
  },
  {
   "cell_type": "markdown",
   "metadata": {
    "hidden": true
   },
   "source": [
    "1.1043720768493772 was a sample distance between two tips when they were first created, which makes sense.  Two new tips aren't likely to be independently detected at distances less than a pixel.  Thus, choosing atol = 1e-2 should be perfectly safe."
   ]
  },
  {
   "cell_type": "markdown",
   "metadata": {
    "heading_collapsed": true
   },
   "source": [
    "# post process tip log \n",
    "\n",
    "6.23.2020"
   ]
  },
  {
   "cell_type": "markdown",
   "metadata": {
    "hidden": true
   },
   "source": [
    "__Tip Features:__\n",
    "- **t** : time (dimensionless)\n",
    "- **x** : x coordinate (pixels)\n",
    "- **y** : y coordinate (pixels)\n",
    "- **s** : topological number (not consistent between frames)"
   ]
  },
  {
   "cell_type": "code",
   "execution_count": null,
   "metadata": {
    "hidden": true
   },
   "outputs": [],
   "source": []
  },
  {
   "cell_type": "code",
   "execution_count": 285,
   "metadata": {
    "ExecuteTime": {
     "end_time": "2020-06-24T20:09:02.635542Z",
     "start_time": "2020-06-24T20:09:02.603995Z"
    },
    "hidden": true
   },
   "outputs": [],
   "source": [
    "# search_for_file()\n",
    "# data_dir = nb_dir + '/Data/initial-conditions/ic_200x200.101.22.npz'\n",
    "# output_fn = f'Log/tip_log_ds_5_sigma_{sigma}_threshold_{threshold}.csv'\n",
    "# save_folder = f'{nb_dir}/Data/ds_5_param_set_8' #no '/Log'\n",
    "# output_file = get_unique_file_name(os.path.join(save_folder, output_fn), ext_string='.csv')\n"
   ]
  },
  {
   "cell_type": "code",
   "execution_count": 375,
   "metadata": {
    "ExecuteTime": {
     "end_time": "2020-06-25T17:56:33.575713Z",
     "start_time": "2020-06-25T17:56:33.519817Z"
    },
    "hidden": true
   },
   "outputs": [
    {
     "data": {
      "text/plain": [
       "True"
      ]
     },
     "execution_count": 375,
     "metadata": {},
     "output_type": "execute_result"
    }
   ],
   "source": [
    "ds = 5; sigma = .5; threshold = 0.9\n",
    "\n",
    "#try rerunning with everything the same, except with the rejection distance = 20\n",
    "# Rerunning with threshold=0.6.  if odd tips are still detected, then see if the odd tips are close to the edge.  if they are, then padding is likely to blame, and increasing padding will improve this.\n",
    "input_fn = 'Log/tip_log_ds_5_sigma_3.0_threshold_0.6.csv' #many odd tips detected \n",
    "# input_fn = 'Log/tip_log_ds_5_sigma_3.0_threshold_0.9.csv'  #many odd tips detected, where they due to padding or a large sigma.  \n",
    "\n",
    "#These all work (no odd tips) when we have atol=1e-11, pad = 25, and rejection_distance = 10 pixels.  \n",
    "# High frequency tips still detected, however.\n",
    "# input_fn = 'Log/tip_log_ds_5_sigma_0.5_threshold_0.9.csv'\n",
    "# input_fn = 'Log/tip_log_ds_5_sigma_0.5_threshold_0.6.csv'\n",
    "# input_fn = 'Log/tip_log_ds_5_sigma_1.5_threshold_0.6.csv'\n",
    "# input_fn = 'Log/tip_log_ds_5_sigma_1.0_threshold_0.9.csv'\n",
    "# input_fn = 'Log/tip_log_ds_5_sigma_1.5_threshold_0.9_001.csv'\n",
    "# input_fn = 'Log/tip_log_ds_5_sigma_1.0_threshold_0.6.csv'\n",
    "\n",
    "\n",
    "# input_fn = 'Log/tip_log_ds_5_sigma_1.5_threshold_0.9.csv'\n",
    "# input_fn = 'Log/tip_log_ds_5_6.23-2.csv'\n",
    "\n",
    "os.chdir(nb_dir+'/Data/ds_5_param_set_8')\n",
    "os.path.exists(input_fn)"
   ]
  },
  {
   "cell_type": "code",
   "execution_count": 376,
   "metadata": {
    "ExecuteTime": {
     "end_time": "2020-06-25T17:57:18.881182Z",
     "start_time": "2020-06-25T17:56:40.989126Z"
    },
    "hidden": true
   },
   "outputs": [
    {
     "data": {
      "text/plain": [
       "0"
      ]
     },
     "execution_count": 376,
     "metadata": {},
     "output_type": "execute_result"
    }
   ],
   "source": [
    "#TODO: identify PromoterSequence with some message variant of \"#TODO: \"\n",
    "#TODO: identify file location with a central spreadsheet array using the thing alias's use.  see matlab-y related (hyper?)linking system\n",
    "#TODO(later): subclassify the above #TODO(later): variants for IA assisted active learning by margin sampling a boosted decision tree of weak recursive learners.\n",
    "#TODO(later): train the GivingTree on hand labeled 0-5 \"!\" urgency on past \"#TODO: \"'s. Be sure to give it sight of the duration that has occured since the file was last operated.  Don't bother going through the github records.  You've got more immediate concerns.\n",
    "#TODO(later): for all \"completed\" or not TODO entry, make a direct link to the code immediately after it in the following few lines.  Don't bother for now with the previous few lines.  You've got research to do!\n",
    "df_output = process_tip_log_file(input_fn)\n",
    "df_output.to_csv(input_fn.replace('.csv','_processed.csv'), index=False)\n",
    "beep(1)"
   ]
  },
  {
   "cell_type": "code",
   "execution_count": 377,
   "metadata": {
    "ExecuteTime": {
     "end_time": "2020-06-25T17:58:05.892698Z",
     "start_time": "2020-06-25T17:58:05.584141Z"
    },
    "hidden": true
   },
   "outputs": [
    {
     "data": {
      "text/html": [
       "<div>\n",
       "<style scoped>\n",
       "    .dataframe tbody tr th:only-of-type {\n",
       "        vertical-align: middle;\n",
       "    }\n",
       "\n",
       "    .dataframe tbody tr th {\n",
       "        vertical-align: top;\n",
       "    }\n",
       "\n",
       "    .dataframe thead th {\n",
       "        text-align: right;\n",
       "    }\n",
       "</style>\n",
       "<table border=\"1\" class=\"dataframe\">\n",
       "  <thead>\n",
       "    <tr style=\"text-align: right;\">\n",
       "      <th></th>\n",
       "      <th>n</th>\n",
       "      <th>s1</th>\n",
       "      <th>s2</th>\n",
       "      <th>t</th>\n",
       "      <th>x</th>\n",
       "      <th>y</th>\n",
       "    </tr>\n",
       "  </thead>\n",
       "  <tbody>\n",
       "    <tr>\n",
       "      <th>0</th>\n",
       "      <td>12</td>\n",
       "      <td>(1, 4)</td>\n",
       "      <td>(2, 14)</td>\n",
       "      <td>0.007</td>\n",
       "      <td>198.936923</td>\n",
       "      <td>129.831450</td>\n",
       "    </tr>\n",
       "    <tr>\n",
       "      <th>1</th>\n",
       "      <td>12</td>\n",
       "      <td>(1,)</td>\n",
       "      <td>(10,)</td>\n",
       "      <td>0.007</td>\n",
       "      <td>60.575069</td>\n",
       "      <td>24.048501</td>\n",
       "    </tr>\n",
       "    <tr>\n",
       "      <th>2</th>\n",
       "      <td>12</td>\n",
       "      <td>(1,)</td>\n",
       "      <td>(10,)</td>\n",
       "      <td>0.007</td>\n",
       "      <td>103.920866</td>\n",
       "      <td>62.195459</td>\n",
       "    </tr>\n",
       "    <tr>\n",
       "      <th>3</th>\n",
       "      <td>12</td>\n",
       "      <td>(3, 4)</td>\n",
       "      <td>(13, 14)</td>\n",
       "      <td>0.007</td>\n",
       "      <td>157.605143</td>\n",
       "      <td>198.936923</td>\n",
       "    </tr>\n",
       "    <tr>\n",
       "      <th>4</th>\n",
       "      <td>12</td>\n",
       "      <td>(3, 4)</td>\n",
       "      <td>(13, 14)</td>\n",
       "      <td>0.007</td>\n",
       "      <td>142.742716</td>\n",
       "      <td>198.936923</td>\n",
       "    </tr>\n",
       "  </tbody>\n",
       "</table>\n",
       "</div>"
      ],
      "text/plain": [
       "    n      s1        s2      t           x           y\n",
       "0  12  (1, 4)   (2, 14)  0.007  198.936923  129.831450\n",
       "1  12    (1,)     (10,)  0.007   60.575069   24.048501\n",
       "2  12    (1,)     (10,)  0.007  103.920866   62.195459\n",
       "3  12  (3, 4)  (13, 14)  0.007  157.605143  198.936923\n",
       "4  12  (3, 4)  (13, 14)  0.007  142.742716  198.936923"
      ]
     },
     "execution_count": 377,
     "metadata": {},
     "output_type": "execute_result"
    }
   ],
   "source": [
    "df = pd.read_csv(input_fn.replace('.csv','_processed.csv'))\n",
    "df.head()"
   ]
  },
  {
   "cell_type": "code",
   "execution_count": 1,
   "metadata": {
    "ExecuteTime": {
     "end_time": "2020-07-02T00:44:58.084962Z",
     "start_time": "2020-07-02T00:44:57.979476Z"
    },
    "hidden": true,
    "scrolled": true
   },
   "outputs": [
    {
     "ename": "NameError",
     "evalue": "name 'input_fn' is not defined",
     "output_type": "error",
     "traceback": [
      "\u001b[0;31m---------------------------------------------------------------------------\u001b[0m",
      "\u001b[0;31mNameError\u001b[0m                                 Traceback (most recent call last)",
      "\u001b[0;32m<ipython-input-1-ee12fa123e5b>\u001b[0m in \u001b[0;36m<module>\u001b[0;34m\u001b[0m\n\u001b[0;32m----> 1\u001b[0;31m \u001b[0mdescrip\u001b[0m \u001b[0;34m=\u001b[0m \u001b[0minput_fn\u001b[0m\u001b[0;34m.\u001b[0m\u001b[0msplit\u001b[0m\u001b[0;34m(\u001b[0m\u001b[0;34m'/'\u001b[0m\u001b[0;34m)\u001b[0m\u001b[0;34m[\u001b[0m\u001b[0;34m-\u001b[0m\u001b[0;36m1\u001b[0m\u001b[0;34m]\u001b[0m\u001b[0;34m[\u001b[0m\u001b[0;34m:\u001b[0m\u001b[0;34m-\u001b[0m\u001b[0;36m4\u001b[0m\u001b[0;34m]\u001b[0m\u001b[0;34m\u001b[0m\u001b[0;34m\u001b[0m\u001b[0m\n\u001b[0m\u001b[1;32m      2\u001b[0m \u001b[0;31m# nb_dir = '/Users/timothytyree/Documents/GitHub/care/notebooks/'\u001b[0m\u001b[0;34m\u001b[0m\u001b[0;34m\u001b[0m\u001b[0;34m\u001b[0m\u001b[0m\n\u001b[1;32m      3\u001b[0m \u001b[0mprint\u001b[0m\u001b[0;34m(\u001b[0m\u001b[0mdescrip\u001b[0m\u001b[0;34m)\u001b[0m\u001b[0;34m\u001b[0m\u001b[0;34m\u001b[0m\u001b[0m\n",
      "\u001b[0;31mNameError\u001b[0m: name 'input_fn' is not defined"
     ]
    }
   ],
   "source": [
    "descrip = input_fn.split('/')[-1][:-4]\n",
    "# nb_dir = '/Users/timothytyree/Documents/GitHub/care/notebooks/'\n",
    "print(descrip)"
   ]
  },
  {
   "cell_type": "markdown",
   "metadata": {},
   "source": [
    "# Import _processed.csv tip log"
   ]
  },
  {
   "cell_type": "code",
   "execution_count": 8,
   "metadata": {
    "ExecuteTime": {
     "end_time": "2020-07-03T02:41:28.836452Z",
     "start_time": "2020-07-03T02:41:28.564010Z"
    }
   },
   "outputs": [],
   "source": [
    "#COPIED FROM LIFETIMES OF SPIRAL TIPS\n",
    "# #search for input_fn \"tip_log_\"+ .. .._ +num+\".csv\"\n",
    "# input_fn = search_for_file(nb_dir+'/Data/ds_5_param_set_8')\n",
    "# print(input_fn)\n",
    "# #TODO: find a proper way to terminate the Tk application launched by search_for_file.  it doesn't terminate\n",
    "\n",
    "# print(\"have you the right sigma and threshold?\")\n",
    "# ds = 5; sigma = .5; threshold = 0.9\n",
    "\n",
    "# # input_fn = 'Log/tip_log_ds_5_sigma_1.0_threshold_0.6_001.csv'\n",
    "# os.chdir(nb_dir+'/Data/ds_5_param_set_8')\n",
    "# str(os.path.exists(input_fn))+\" it is that file exists,\"\n",
    "\n",
    "# #save the tip positions expanded into rows\n",
    "# df_output = process_tip_log_file(input_fn)\n",
    "# saveherein = input_fn.replace('.csv','_processed.csv')\n",
    "# df_output.to_csv(saveherein, index=False)\n",
    "# beep(1)\n",
    "# print(f\"and the resulting \\\"_processed.csv\\\" was supplanted herein:\\n\\t{saveherein}\")\n",
    "\n",
    "input_fn = nb_dir+'/Data/ds_5_param_set_8/Log/tip_log_ds_5_sigma_1.5_threshold_0.6_processed.csv'\n",
    "# input_fn = nb_dir+'/Data/ds_5_param_set_8/Log/tip_log_ds_5_sigma_0.5_threshold_0.9_002_processed.csv'\n",
    "\n",
    "#load processed df with tips as rows\n",
    "df = pd.read_csv(input_fn)\n",
    "fn = input_fn.split('/')[-1]\n",
    "descrip = fn[:fn.find('_processed.csv')]\n",
    "\n",
    "#extract parameters from filename\n",
    "threshold = eval(fn[fn.find('threshold_')+len('threshold_'):].split('_')[0])\n",
    "ds = eval(fn[fn.find('ds_')+len('ds_'):].split('_')[0])\n",
    "sigma = eval(fn[fn.find('sigma_')+len('sigma_'):].split('_')[0])"
   ]
  },
  {
   "cell_type": "markdown",
   "metadata": {
    "ExecuteTime": {
     "end_time": "2020-05-29T02:18:41.131064Z",
     "start_time": "2020-05-29T02:18:41.098752Z"
    }
   },
   "source": [
    "# plot the oddplots for a given trial"
   ]
  },
  {
   "cell_type": "code",
   "execution_count": 9,
   "metadata": {
    "ExecuteTime": {
     "end_time": "2020-07-03T02:41:29.948083Z",
     "start_time": "2020-07-03T02:41:29.893776Z"
    },
    "code_folding": []
   },
   "outputs": [],
   "source": [
    "#compute the number of spiral tips\n",
    "t_values, n_values = df.groupby('t').mean()['n'].reset_index()[['t','n']].values.T"
   ]
  },
  {
   "cell_type": "code",
   "execution_count": 10,
   "metadata": {
    "ExecuteTime": {
     "end_time": "2020-07-03T02:41:30.452375Z",
     "start_time": "2020-07-03T02:41:30.429944Z"
    }
   },
   "outputs": [
    {
     "data": {
      "text/plain": [
       "11"
      ]
     },
     "execution_count": 10,
     "metadata": {},
     "output_type": "execute_result"
    }
   ],
   "source": [
    "11"
   ]
  },
  {
   "cell_type": "code",
   "execution_count": 17,
   "metadata": {
    "ExecuteTime": {
     "end_time": "2020-07-03T02:45:16.227478Z",
     "start_time": "2020-07-03T02:45:14.873709Z"
    }
   },
   "outputs": [
    {
     "name": "stdout",
     "output_type": "stream",
     "text": [
      "/Users/timothytyree/Documents/GitHub/care/notebooks/Figures/zero_odd_births-deaths_tip_log_ds_5_sigma_1.5_threshold_0.6.png\n"
     ]
    },
    {
     "data": {
      "image/png": "[encoded data removed]",
      "text/plain": [
       "<Figure size 648x360 with 1 Axes>"
      ]
     },
     "metadata": {
      "needs_background": "light"
     },
     "output_type": "display_data"
    }
   ],
   "source": [
    "save_dir = f\"{nb_dir}/Figures/zero_odd_births-deaths_{descrip}.png\"\n",
    "print(save_dir)\n",
    "fig, ax = plt.subplots(figsize=(9,5))\n",
    "ax.plot(t_values, n_values, c='g', alpha=0.8, lw=4)\n",
    "# ax.scatter(x=todd_b_values, y=nodd_b_values, label=f\"odd births\", c='b', s=100)\n",
    "# ax.scatter(x=todd_d_values, y=nodd_d_values, label=f\"odd deaths\", c='r', s=100)\n",
    "fontsize= 24\n",
    "# ax.legend(fontsize=fontsize-5)\n",
    "ax.set_xlabel('time (ms)', fontsize=fontsize)\n",
    "ax.set_ylabel('n', fontsize=fontsize) # ax.set_ylabel('number of spiral tips', fontsize=fontsize)\n",
    "ax.set_yticks([0,4,8,12,16,20])\n",
    "ax.tick_params(axis='both', labelsize= fontsize)\n",
    "# ax.set_title(f'With pbc, no odd birth/deaths occured.\\nDomain size = {ds**2} cm$^2$', fontsize=fontsize)\n",
    "plt.tight_layout()\n",
    "# fig.savefig(f\"{nb_dir}/Figures/zero_odd_births-deaths_{descrip}.png\",dpi=400)\n",
    "fig.savefig(save_dir,dpi=400)"
   ]
  },
  {
   "cell_type": "code",
   "execution_count": 18,
   "metadata": {
    "ExecuteTime": {
     "end_time": "2020-07-03T02:46:56.408810Z",
     "start_time": "2020-07-03T02:46:56.382812Z"
    }
   },
   "outputs": [],
   "source": [
    "# sum(n_series.isnull())\n",
    "# set(n_series.values)\n",
    "# dn_series"
   ]
  },
  {
   "cell_type": "code",
   "execution_count": 32,
   "metadata": {
    "ExecuteTime": {
     "end_time": "2020-07-03T02:50:35.579909Z",
     "start_time": "2020-07-03T02:50:35.510604Z"
    }
   },
   "outputs": [
    {
     "name": "stdout",
     "output_type": "stream",
     "text": [
      "the number of frames observed with an odd number of tips = 0.\n"
     ]
    }
   ],
   "source": [
    "n_series = df.query('t >= 100').groupby('t').n.mean()\n",
    "odd_array = n_series.values%2\n",
    "num_odd_frames = np.add.reduce(odd_array)\n",
    "print(f\"the number of frames observed with an odd number of tips = {num_odd_frames}.\")"
   ]
  },
  {
   "cell_type": "code",
   "execution_count": 33,
   "metadata": {
    "ExecuteTime": {
     "end_time": "2020-07-03T02:50:36.031989Z",
     "start_time": "2020-07-03T02:50:36.005807Z"
    }
   },
   "outputs": [],
   "source": [
    "# odd_frames = n_series[odd_array==1].index.values\n",
    "# print(f\"the first frame of odd tips was at t = {np.min(odd_frames)}.\")\n",
    "# print(f\"the last frame of odd tips was at t = {np.max(odd_frames)}.\")"
   ]
  },
  {
   "cell_type": "code",
   "execution_count": 34,
   "metadata": {
    "ExecuteTime": {
     "end_time": "2020-07-03T02:50:36.362539Z",
     "start_time": "2020-07-03T02:50:36.326146Z"
    }
   },
   "outputs": [],
   "source": [
    "dn_series = n_series.diff().dropna()  #this line needs changed if you want to know when the sampled rate occured\n",
    "dn_series = dn_series[dn_series!=0].reset_index()\n",
    "dn_series['W'] = 1/dn_series['t'].diff() #sampled birth/death rate - per milliseconds\n",
    "dn_series = dn_series.dropna().rename(columns={'n':'dn'}).drop(columns='t')\n",
    "dn_series['n'] = df['n']"
   ]
  },
  {
   "cell_type": "code",
   "execution_count": 35,
   "metadata": {
    "ExecuteTime": {
     "end_time": "2020-07-03T02:50:36.645345Z",
     "start_time": "2020-07-03T02:50:36.606374Z"
    }
   },
   "outputs": [],
   "source": [
    "df2 = pd.DataFrame(n_series).reset_index()\n",
    "df2['dn'] = df2.n.diff()\n",
    "df2 = df2[df2.dn!=0].dropna().copy()\n",
    "df2['dt'] = df2.t.diff()\n",
    "df2['W'] = 1/df2.dt.values\n",
    "df2 = df2.dropna()\n",
    "# dn_series = dn_series[dn_series!=0].reset_index()\n",
    "# dn_series['W'] = 1/dn_series['t'].diff() #sampled birth/death rate - per milliseconds\n",
    "# dn_series = dn_series.dropna().rename(columns={'n':'dn'}).drop(columns='t')\n"
   ]
  },
  {
   "cell_type": "code",
   "execution_count": 47,
   "metadata": {
    "ExecuteTime": {
     "end_time": "2020-07-03T02:57:22.516106Z",
     "start_time": "2020-07-03T02:57:22.483954Z"
    }
   },
   "outputs": [
    {
     "name": "stdout",
     "output_type": "stream",
     "text": [
      "birth/death changes were consisted of [-2.0, 2.0].\n",
      "[-2.5, -1.5, 1.5, 2.5]\n"
     ]
    }
   ],
   "source": [
    "dn_values = dn_series['dn'].values\n",
    "dn_bins = sorted(set(dn_values))\n",
    "dn_bins.sort()\n",
    "list_W_n = dn_bins\n",
    "print(f\"birth/death changes were consisted of {list_W_n}.\")\n",
    "xticks = [-6.0, -4.0, -2.0, 0, 2.0, 4.0, 6.]\n",
    "\n",
    "# dn_bins =  [-6.5, -5.5, -4.5,-3.5, -2.5,-1.5, 0, 1.5,2.5, 3.5,4.5,5.5, 6.5,7.5, 8.5]\n",
    "# dn_bins =  [-16.5, -15.5, -8.5,-7.5, 0,  7.5,8.5,15.5, 16.5]\n",
    "\n",
    "a = np.array(dn_bins)-0.5\n",
    "b = np.array(dn_bins)+0.5\n",
    "c = np.empty((a.size + b.size,), dtype=a.dtype)\n",
    "c[0::2] = a\n",
    "c[1::2] = b\n",
    "dn_bins = sorted(c)\n",
    "print(dn_bins)\n",
    "del a,b,c"
   ]
  },
  {
   "cell_type": "code",
   "execution_count": 48,
   "metadata": {
    "ExecuteTime": {
     "end_time": "2020-07-03T02:57:23.797613Z",
     "start_time": "2020-07-03T02:57:22.834105Z"
    }
   },
   "outputs": [
    {
     "data": {
      "image/png": "[encoded data removed]",
      "text/plain": [
       "<Figure size 432x360 with 1 Axes>"
      ]
     },
     "metadata": {
      "needs_background": "light"
     },
     "output_type": "display_data"
    }
   ],
   "source": [
    "\n",
    "fig, ax = plt.subplots(figsize=(6,5))\n",
    "# ax.hist(dn_values,    color='g', label='even')\n",
    "\n",
    "ax.hist(dn_values,  bins=dn_bins,    color='g', label='even')\n",
    "\n",
    "# ax.hist(dn_odd_births, bins = bins_odd, color='b', label='odd births')\n",
    "# ax.hist(dn_odd_deaths, bins = bins_odd, color='r', label='odd deaths')\n",
    "# ax.set_xticks([-16,-8,8,16])\n",
    "\n",
    "\n",
    "# ax.legend(fontsize=fontsize-5)\n",
    "ax.set_xticks(xticks)\n",
    "# ax.set_yticks([0,10,20,30,40,50])\n",
    "ax.tick_params(axis='both', labelsize= fontsize)\n",
    "ax.set_ylabel('frequency', fontsize=fontsize)\n",
    "ax.set_xlabel('change in spiral tip number', fontsize=fontsize)\n",
    "plt.tight_layout()\n",
    "fig.savefig(f\"{nb_dir}/Figures/histogram_zero_odd_births-deaths_{descrip}.png\",dpi=400)\n",
    "\n",
    "# fig.savefig('Figures/histogram_zero_odd_births-deaths_ds_5_pbc.pdf')\n",
    "# fig.savefig(f'Figures/histogram_zero_odd_births-deaths_ds_{ds}_pbc.png',dpi=400)\n",
    "# fig.savefig(f'Figures/histogram_zero_odd_births-deaths_ds_{ds}_pbc.png',dpi=400)"
   ]
  },
  {
   "cell_type": "code",
   "execution_count": null,
   "metadata": {
    "ExecuteTime": {
     "end_time": "2020-06-23T23:48:25.680426Z",
     "start_time": "2020-06-23T23:48:25.650744Z"
    }
   },
   "outputs": [],
   "source": [
    "\n"
   ]
  },
  {
   "cell_type": "code",
   "execution_count": 25,
   "metadata": {
    "ExecuteTime": {
     "end_time": "2020-07-03T02:47:07.644584Z",
     "start_time": "2020-07-03T02:47:07.619007Z"
    }
   },
   "outputs": [],
   "source": [
    "# dn_values\n",
    "# dn_series.query('dn==-2')"
   ]
  },
  {
   "cell_type": "code",
   "execution_count": 28,
   "metadata": {
    "ExecuteTime": {
     "end_time": "2020-07-03T02:48:54.912057Z",
     "start_time": "2020-07-03T02:48:54.877085Z"
    }
   },
   "outputs": [
    {
     "name": "stdout",
     "output_type": "stream",
     "text": [
      "[-2.0, 2.0]\n"
     ]
    },
    {
     "data": {
      "text/html": [
       "<div>\n",
       "<style scoped>\n",
       "    .dataframe tbody tr th:only-of-type {\n",
       "        vertical-align: middle;\n",
       "    }\n",
       "\n",
       "    .dataframe tbody tr th {\n",
       "        vertical-align: top;\n",
       "    }\n",
       "\n",
       "    .dataframe thead th {\n",
       "        text-align: right;\n",
       "    }\n",
       "</style>\n",
       "<table border=\"1\" class=\"dataframe\">\n",
       "  <thead>\n",
       "    <tr style=\"text-align: right;\">\n",
       "      <th></th>\n",
       "      <th>t</th>\n",
       "      <th>n</th>\n",
       "      <th>dn</th>\n",
       "      <th>dt</th>\n",
       "      <th>W</th>\n",
       "    </tr>\n",
       "  </thead>\n",
       "  <tbody>\n",
       "    <tr>\n",
       "      <th>18</th>\n",
       "      <td>0.133</td>\n",
       "      <td>12</td>\n",
       "      <td>2.0</td>\n",
       "      <td>0.112</td>\n",
       "      <td>8.928571</td>\n",
       "    </tr>\n",
       "    <tr>\n",
       "      <th>43</th>\n",
       "      <td>0.308</td>\n",
       "      <td>14</td>\n",
       "      <td>2.0</td>\n",
       "      <td>0.175</td>\n",
       "      <td>5.714286</td>\n",
       "    </tr>\n",
       "    <tr>\n",
       "      <th>44</th>\n",
       "      <td>0.315</td>\n",
       "      <td>16</td>\n",
       "      <td>2.0</td>\n",
       "      <td>0.007</td>\n",
       "      <td>142.857143</td>\n",
       "    </tr>\n",
       "    <tr>\n",
       "      <th>46</th>\n",
       "      <td>0.329</td>\n",
       "      <td>18</td>\n",
       "      <td>2.0</td>\n",
       "      <td>0.014</td>\n",
       "      <td>71.428571</td>\n",
       "    </tr>\n",
       "    <tr>\n",
       "      <th>60</th>\n",
       "      <td>0.427</td>\n",
       "      <td>20</td>\n",
       "      <td>2.0</td>\n",
       "      <td>0.098</td>\n",
       "      <td>10.204082</td>\n",
       "    </tr>\n",
       "  </tbody>\n",
       "</table>\n",
       "</div>"
      ],
      "text/plain": [
       "        t   n   dn     dt           W\n",
       "18  0.133  12  2.0  0.112    8.928571\n",
       "43  0.308  14  2.0  0.175    5.714286\n",
       "44  0.315  16  2.0  0.007  142.857143\n",
       "46  0.329  18  2.0  0.014   71.428571\n",
       "60  0.427  20  2.0  0.098   10.204082"
      ]
     },
     "execution_count": 28,
     "metadata": {},
     "output_type": "execute_result"
    }
   ],
   "source": [
    "print(list_W_n)\n",
    "df2.head()"
   ]
  },
  {
   "cell_type": "code",
   "execution_count": 60,
   "metadata": {
    "ExecuteTime": {
     "end_time": "2020-07-03T03:53:16.691227Z",
     "start_time": "2020-07-03T03:53:15.232056Z"
    }
   },
   "outputs": [
    {
     "name": "stdout",
     "output_type": "stream",
     "text": [
      "/Users/timothytyree/Documents/GitHub/care/notebooks/Figures/birth_deaths_zero_odd_births-deaths_tip_log_ds_5_sigma_1.5_threshold_0.6.png\n"
     ]
    },
    {
     "data": {
      "image/png": "[encoded data removed]",
      "text/plain": [
       "<Figure size 576x360 with 1 Axes>"
      ]
     },
     "metadata": {
      "needs_background": "light"
     },
     "output_type": "display_data"
    }
   ],
   "source": [
    "fontsize=24\n",
    "dn_list = [-2,2]#list_W_n#\n",
    "color_list = ['blue', 'red']#,'green']\n",
    "x_shift_list = [0,0]\n",
    "assert(len(dn_list)==len(color_list))\n",
    "df2g = df2.query('t >= 100').query('W <= 40').groupby(by=['dn','n']).W.describe()\n",
    "# df2g = df2.query('W < 20').groupby(by=['dn','n']).W.describe()\n",
    "# plot birth death rates with IQR y error bars with n on the x axis\n",
    "fig, ax = plt.subplots(figsize=(8,5))\n",
    "for dn, color, x_shift in zip(dn_list,color_list, x_shift_list):\n",
    "    x_values, y_values, y_err_1, y_err_2 = df2g.loc[dn].dropna().reset_index()[['n', '50%','25%','75%']].values.T\n",
    "    x_values = (x_values-x_shift)/2\n",
    "    x_scatter_values, y_scatter_values = df2.query(f'dn=={dn}')[['n','W']].values.T\n",
    "    x_scatter_values = (x_scatter_values-x_shift)/2\n",
    "    yerr = np.array(list(zip(y_err_1,y_err_2))).T\n",
    "\n",
    "    ax.scatter(x=x_scatter_values+x_shift,y=y_scatter_values, c=color, s=20,alpha=0.5, label=f'$W_{{{int(dn)}}}$')#, domain size = {int(ds**2)} cm$^2$')\n",
    "    ax.errorbar(x_values, y_values, yerr=yerr, c=color)\n",
    "    #     ax.errorbar(x_values, y_values, yerr=yerr, c=color)\n",
    "\n",
    "# ax.set_xticks(xticks)\n",
    "# ax.set_yticks([0,10,20,30,40,50])\n",
    "ymin, ymax = ax.get_ylim()\n",
    "ax.set_ylim((1e-3,ymax+25))\n",
    "\n",
    "ax.legend(loc='lower right', fontsize= fontsize-4)\n",
    "ax.tick_params(axis='both', labelsize= fontsize)\n",
    "ax.set_ylabel('birth/death rate (ms$^{-1}$)', fontsize=fontsize)\n",
    "ax.set_xlabel('n/2', fontsize=fontsize) \n",
    "ax.set_yscale('log')\n",
    "\n",
    "# ax.set_title(f'$\\sigma = {sigma}$, threshold = {threshold}', fontsize=fontsize)\n",
    "\n",
    "# ax.set_title('high frequency birth deaths observed', fontsize=fontsize)\n",
    "# ax.axis([20,60,0,7])\n",
    "plt.tight_layout()\n",
    "savefig_dir = f\"{nb_dir}/Figures/birth_deaths_zero_odd_births-deaths_{descrip}.png\"\n",
    "fig.savefig(savefig_dir,dpi=400)\n",
    "print(savefig_dir)\n",
    "# plt.show()\n",
    "# fig.savefig('Figures/birth_deaths_zero_odd_births-deaths_ds_5_pbc.pdf')\n",
    "# fig.savefig(f'Figures/birth_deaths_zero_odd_births-deaths_ds_{ds}_pbc.png',dpi=400)"
   ]
  },
  {
   "cell_type": "code",
   "execution_count": null,
   "metadata": {
    "ExecuteTime": {
     "end_time": "2020-06-24T04:32:49.333197Z",
     "start_time": "2020-06-24T04:32:49.300868Z"
    }
   },
   "outputs": [],
   "source": []
  },
  {
   "cell_type": "code",
   "execution_count": null,
   "metadata": {
    "ExecuteTime": {
     "end_time": "2020-06-24T04:33:05.377714Z",
     "start_time": "2020-06-24T04:33:05.336110Z"
    }
   },
   "outputs": [],
   "source": []
  },
  {
   "cell_type": "code",
   "execution_count": null,
   "metadata": {
    "ExecuteTime": {
     "end_time": "2020-06-24T04:33:15.733511Z",
     "start_time": "2020-06-24T04:33:15.694761Z"
    }
   },
   "outputs": [],
   "source": []
  }
 ],
 "metadata": {
  "kernelspec": {
   "display_name": "Python 3",
   "language": "python",
   "name": "python3"
  },
  "language_info": {
   "codemirror_mode": {
    "name": "ipython",
    "version": 3
   },
   "file_extension": ".py",
   "mimetype": "text/x-python",
   "name": "python",
   "nbconvert_exporter": "python",
   "pygments_lexer": "ipython3",
   "version": "3.7.7"
  },
  "varInspector": {
   "cols": {
    "lenName": 16,
    "lenType": 16,
    "lenVar": 40
   },
   "kernels_config": {
    "python": {
     "delete_cmd_postfix": "",
     "delete_cmd_prefix": "del ",
     "library": "var_list.py",
     "varRefreshCmd": "print(var_dic_list())"
    },
    "r": {
     "delete_cmd_postfix": ") ",
     "delete_cmd_prefix": "rm(",
     "library": "var_list.r",
     "varRefreshCmd": "cat(var_dic_list()) "
    }
   },
   "types_to_exclude": [
    "module",
    "function",
    "builtin_function_or_method",
    "instance",
    "_Feature"
   ],
   "window_display": false
  }
 },
 "nbformat": 4,
 "nbformat_minor": 2
}
