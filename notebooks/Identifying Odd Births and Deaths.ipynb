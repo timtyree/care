{
 "cells": [
  {
   "cell_type": "markdown",
   "metadata": {},
   "source": [
    "# Identifying Odd Births and Deaths\n",
    "Tim Tyree <br>\n",
    "May 26, 2020"
   ]
  },
  {
   "cell_type": "markdown",
   "metadata": {},
   "source": [
    "### __Goals__\n",
    "1. quantify number of births/death numbers that are odd integers\n",
    "2. select those odd births/deaths\n",
    "3. find out what they have in common?\n",
    "\n",
    "__TODO: Simulation Workflow - save buffers when odd birth/death occurs__<br>\n",
    "- TODO: add function that compares previous to current birth-death rate and checks for a certain change\n",
    "- TODO: save buffer every time an odd birth/death occurs"
   ]
  },
  {
   "cell_type": "markdown",
   "metadata": {},
   "source": [
    "### initialize/load the data"
   ]
  },
  {
   "cell_type": "code",
   "execution_count": 2,
   "metadata": {
    "ExecuteTime": {
     "end_time": "2020-05-27T02:05:47.036051Z",
     "start_time": "2020-05-27T02:05:44.970363Z"
    }
   },
   "outputs": [
    {
     "name": "stdout",
     "output_type": "stream",
     "text": [
      "Automatic calling is: Smart\n"
     ]
    }
   ],
   "source": [
    "import numpy as np, pandas as pd, matplotlib.pyplot as plt, os\n",
    "from pylab import imshow, show\n",
    "import skimage as sk\n",
    "from skimage import measure, filters\n",
    "from PIL import Image\n",
    "import imageio\n",
    "\n",
    "if 'nb_dir' not in globals():\n",
    "    nb_dir = os.getcwd()\n",
    "\n",
    "width = 512\n",
    "height = 512\n",
    "channel_no = 3\n",
    "\n",
    "from lib.minimal_model import *\n",
    "from lib.TexturePlot import *\n",
    "from lib.get_tips import *\n",
    "from lib.minimal_model import *\n",
    "from lib.intersection import *\n",
    "from lib.ProgressBar import *\n",
    "\n",
    "#TODO: use cuda via numba\n",
    "# from numba import jit, njit, vectorize, cuda, uint32, f8, uint8\n",
    "# from lib.contours_to_tips import *\n",
    "\n",
    "#automate the boring stuff\n",
    "from IPython import utils\n",
    "import time, os, sys, re\n",
    "beep = lambda x: os.system(\"echo -n '\\\\a';sleep 0.2;\" * x)\n",
    "if not 'nb_dir' in globals():\n",
    "    nb_dir = os.getcwd()\n",
    "width = 512\n",
    "height = 512\n",
    "channel_no = 3\n",
    "\n",
    "%autocall 1\n",
    "%load_ext autoreload\n",
    "%autoreload 2\n",
    "\n",
    "@njit\n",
    "def ifilter(texture):\n",
    "    return texture > 0"
   ]
  },
  {
   "cell_type": "code",
   "execution_count": 3,
   "metadata": {
    "ExecuteTime": {
     "end_time": "2020-05-27T02:05:47.412140Z",
     "start_time": "2020-05-27T02:05:47.091649Z"
    }
   },
   "outputs": [
    {
     "data": {
      "text/html": [
       "<div>\n",
       "<style scoped>\n",
       "    .dataframe tbody tr th:only-of-type {\n",
       "        vertical-align: middle;\n",
       "    }\n",
       "\n",
       "    .dataframe tbody tr th {\n",
       "        vertical-align: top;\n",
       "    }\n",
       "\n",
       "    .dataframe thead th {\n",
       "        text-align: right;\n",
       "    }\n",
       "</style>\n",
       "<table border=\"1\" class=\"dataframe\">\n",
       "  <thead>\n",
       "    <tr style=\"text-align: right;\">\n",
       "      <th></th>\n",
       "      <th>s</th>\n",
       "      <th>t</th>\n",
       "      <th>x</th>\n",
       "      <th>y</th>\n",
       "    </tr>\n",
       "  </thead>\n",
       "  <tbody>\n",
       "    <tr>\n",
       "      <th>0</th>\n",
       "      <td>[(4, 4)]</td>\n",
       "      <td>0.1</td>\n",
       "      <td>[[208.26301996295518, 206.2455030716099]]</td>\n",
       "      <td>[[186.98311401050975, 327.0213442661851]]</td>\n",
       "    </tr>\n",
       "    <tr>\n",
       "      <th>1</th>\n",
       "      <td>[(4, 4)]</td>\n",
       "      <td>0.2</td>\n",
       "      <td>[[208.3901408608393, 206.2192121600748]]</td>\n",
       "      <td>[[186.44925138676243, 327.0601409464275]]</td>\n",
       "    </tr>\n",
       "    <tr>\n",
       "      <th>2</th>\n",
       "      <td>[(4, 4)]</td>\n",
       "      <td>0.3</td>\n",
       "      <td>[[208.35858046013357, 206.1988479988617]]</td>\n",
       "      <td>[[186.3915276332306, 327.110001482903]]</td>\n",
       "    </tr>\n",
       "    <tr>\n",
       "      <th>3</th>\n",
       "      <td>[(4, 4)]</td>\n",
       "      <td>0.4</td>\n",
       "      <td>[[208.33072119906782, 206.33878858034495]]</td>\n",
       "      <td>[[186.32810522409392, 327.6448642235999]]</td>\n",
       "    </tr>\n",
       "    <tr>\n",
       "      <th>4</th>\n",
       "      <td>[(4, 4)]</td>\n",
       "      <td>0.5</td>\n",
       "      <td>[[208.30230358696605, 206.3125517373314]]</td>\n",
       "      <td>[[186.27495102612446, 327.7058801495779]]</td>\n",
       "    </tr>\n",
       "  </tbody>\n",
       "</table>\n",
       "</div>"
      ],
      "text/plain": [
       "          s    t                                           x  \\\n",
       "0  [(4, 4)]  0.1   [[208.26301996295518, 206.2455030716099]]   \n",
       "1  [(4, 4)]  0.2    [[208.3901408608393, 206.2192121600748]]   \n",
       "2  [(4, 4)]  0.3   [[208.35858046013357, 206.1988479988617]]   \n",
       "3  [(4, 4)]  0.4  [[208.33072119906782, 206.33878858034495]]   \n",
       "4  [(4, 4)]  0.5   [[208.30230358696605, 206.3125517373314]]   \n",
       "\n",
       "                                           y  \n",
       "0  [[186.98311401050975, 327.0213442661851]]  \n",
       "1  [[186.44925138676243, 327.0601409464275]]  \n",
       "2    [[186.3915276332306, 327.110001482903]]  \n",
       "3  [[186.32810522409392, 327.6448642235999]]  \n",
       "4  [[186.27495102612446, 327.7058801495779]]  "
      ]
     },
     "execution_count": 3,
     "metadata": {},
     "output_type": "execute_result"
    }
   ],
   "source": [
    "# data_dir = 'Data/tip_log_circle6_at_time_3012.8.csv'\n",
    "data_dir = 'Data/tip_log_circle6_params_changed_at_time_1800.0.csv'\n",
    "df = pd.read_csv(data_dir)\n",
    "df.head()"
   ]
  },
  {
   "cell_type": "markdown",
   "metadata": {},
   "source": [
    "# Compute how often odd births/deaths occur"
   ]
  },
  {
   "cell_type": "code",
   "execution_count": 20,
   "metadata": {
    "ExecuteTime": {
     "end_time": "2020-05-27T02:21:58.434027Z",
     "start_time": "2020-05-27T02:21:52.504865Z"
    }
   },
   "outputs": [],
   "source": [
    "#compute the number of spiral tips\n",
    "t_values = []\n",
    "n_values = []\n",
    "for j in range(df.t.size):\n",
    "    t = df.iloc[j].t\n",
    "    t_values.append(t)\n",
    "    x = df.iloc[j].x\n",
    "    n = x.replace('[','').replace(']','').count('.')\n",
    "    n_values.append(n)"
   ]
  },
  {
   "cell_type": "code",
   "execution_count": 21,
   "metadata": {
    "ExecuteTime": {
     "end_time": "2020-05-27T02:21:59.662664Z",
     "start_time": "2020-05-27T02:21:59.632499Z"
    }
   },
   "outputs": [],
   "source": [
    "df['n'] = n_values\n",
    "df['dn'] = df['n'].diff()"
   ]
  },
  {
   "cell_type": "code",
   "execution_count": 53,
   "metadata": {
    "ExecuteTime": {
     "end_time": "2020-05-27T02:32:01.325461Z",
     "start_time": "2020-05-27T02:32:01.297265Z"
    }
   },
   "outputs": [
    {
     "name": "stdout",
     "output_type": "stream",
     "text": [
      "odd birthdeaths occured in numbers [ 1  3 -9 -7 -1 -3].\n"
     ]
    }
   ],
   "source": [
    "dn_values = np.diff(np.array(n_values))\n",
    "#select the birth/deaths values that are odd\n",
    "set_bd = list(set(dn_values))\n",
    "boo = [dn%2==1 for dn in set_bd]\n",
    "set_odd = np.array(set_bd)[boo] # the set of all odd birth/death types\n",
    "print(f\"odd birthdeaths occured in numbers {set_odd}.\")\n",
    "# plt.hist(np.diff(np.array(n_values)), bins = 2)"
   ]
  },
  {
   "cell_type": "code",
   "execution_count": 54,
   "metadata": {
    "ExecuteTime": {
     "end_time": "2020-05-27T02:32:06.006148Z",
     "start_time": "2020-05-27T02:32:05.811194Z"
    }
   },
   "outputs": [
    {
     "data": {
      "text/plain": [
       "dn\n",
       "-14.0        1.0\n",
       "-12.0        1.0\n",
       "-10.0        2.0\n",
       "-9.0         1.0\n",
       "-8.0         3.0\n",
       "-7.0         1.0\n",
       "-6.0        12.0\n",
       "-4.0        33.0\n",
       "-3.0         3.0\n",
       "-2.0       227.0\n",
       "-1.0        32.0\n",
       " 0.0     17358.0\n",
       " 1.0        33.0\n",
       " 2.0       240.0\n",
       " 3.0         2.0\n",
       " 4.0        38.0\n",
       " 6.0         5.0\n",
       " 10.0        2.0\n",
       " 12.0        1.0\n",
       " 14.0        1.0\n",
       " 18.0        1.0\n",
       " 20.0        1.0\n",
       " 26.0        1.0\n",
       "Name: (n, count), dtype: float64"
      ]
     },
     "execution_count": 54,
     "metadata": {},
     "output_type": "execute_result"
    }
   ],
   "source": [
    "df.dropna().groupby('dn').describe()['n','count']"
   ]
  },
  {
   "cell_type": "code",
   "execution_count": 61,
   "metadata": {
    "ExecuteTime": {
     "end_time": "2020-05-27T02:33:36.779140Z",
     "start_time": "2020-05-27T02:33:36.748811Z"
    }
   },
   "outputs": [
    {
     "name": "stdout",
     "output_type": "stream",
     "text": [
      "the percent of birth/deaths that were odd was 11.2%.\n"
     ]
    }
   ],
   "source": [
    "series_bd = df.loc[df.dn!=0].dropna().dn #a time series of when/where nontrivial birth/deaths occur\n",
    "num_odds = (66+6)\n",
    "num_total = len(series_bd.values)\n",
    "print(f\"the percent of birth/deaths that were odd was {100*num_odds/num_total:.1f}%.\")"
   ]
  },
  {
   "cell_type": "code",
   "execution_count": null,
   "metadata": {},
   "outputs": [],
   "source": [
    "# query = f'dn=={1}'"
   ]
  },
  {
   "cell_type": "code",
   "execution_count": 51,
   "metadata": {
    "ExecuteTime": {
     "end_time": "2020-05-27T02:30:26.866158Z",
     "start_time": "2020-05-27T02:30:26.643070Z"
    }
   },
   "outputs": [
    {
     "data": {
      "image/png": "[encoded data removed]",
      "text/plain": [
       "<Figure size 432x288 with 1 Axes>"
      ]
     },
     "metadata": {
      "needs_background": "light"
     },
     "output_type": "display_data"
    }
   ],
   "source": [
    "plt.hist(series_bd.values, bins = 50)\n",
    "plt.label('time', fontsize=24)\n",
    "plt.ylabel('number of spiral tips', fontsize=24)\n",
    "plt.show()"
   ]
  },
  {
   "cell_type": "code",
   "execution_count": 23,
   "metadata": {
    "ExecuteTime": {
     "end_time": "2020-05-27T02:22:05.743090Z",
     "start_time": "2020-05-27T02:22:05.329644Z"
    }
   },
   "outputs": [
    {
     "data": {
      "text/plain": [
       "Text(0, 0.5, 'number of spiral tips')"
      ]
     },
     "execution_count": 23,
     "metadata": {},
     "output_type": "execute_result"
    },
    {
     "data": {
      "image/png": "[encoded data removed]",
      "text/plain": [
       "<Figure size 432x432 with 1 Axes>"
      ]
     },
     "metadata": {
      "needs_background": "light"
     },
     "output_type": "display_data"
    }
   ],
   "source": [
    "fig, ax = plt.subplots(figsize=(6,6))\n",
    "ax.scatter(x=t_values, y=n_values)\n",
    "dn_values = np.diff(np.array(n_values))\n",
    "ax.set_xlabel('time', fontsize=24)\n",
    "ax.set_ylabel('number of spiral tips', fontsize=24)"
   ]
  },
  {
   "cell_type": "code",
   "execution_count": null,
   "metadata": {},
   "outputs": [],
   "source": []
  }
 ],
 "metadata": {
  "kernelspec": {
   "display_name": "Python 3",
   "language": "python",
   "name": "python3"
  },
  "language_info": {
   "codemirror_mode": {
    "name": "ipython",
    "version": 3
   },
   "file_extension": ".py",
   "mimetype": "text/x-python",
   "name": "python",
   "nbconvert_exporter": "python",
   "pygments_lexer": "ipython3",
   "version": "3.7.7"
  },
  "varInspector": {
   "cols": {
    "lenName": 16,
    "lenType": 16,
    "lenVar": 40
   },
   "kernels_config": {
    "python": {
     "delete_cmd_postfix": "",
     "delete_cmd_prefix": "del ",
     "library": "var_list.py",
     "varRefreshCmd": "print(var_dic_list())"
    },
    "r": {
     "delete_cmd_postfix": ") ",
     "delete_cmd_prefix": "rm(",
     "library": "var_list.r",
     "varRefreshCmd": "cat(var_dic_list()) "
    }
   },
   "types_to_exclude": [
    "module",
    "function",
    "builtin_function_or_method",
    "instance",
    "_Feature"
   ],
   "window_display": false
  }
 },
 "nbformat": 4,
 "nbformat_minor": 2
}
