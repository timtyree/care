{
 "cells": [
  {
   "cell_type": "markdown",
   "metadata": {},
   "source": [
    "# Track Tip Trajectories for Folder of Tip Logs\n",
    "Tim Tyree<br>\n",
    "12.17.2020"
   ]
  },
  {
   "cell_type": "code",
   "execution_count": 1,
   "metadata": {
    "ExecuteTime": {
     "end_time": "2023-09-12T22:10:13.049086Z",
     "start_time": "2023-09-12T22:10:11.071310Z"
    }
   },
   "outputs": [
    {
     "name": "stdout",
     "output_type": "stream",
     "text": [
      "Automatic calling is: Smart\n"
     ]
    }
   ],
   "source": [
    "import pandas as pd, numpy as np, matplotlib.pyplot as plt\n",
    "\n",
    "#automate the boring stuff\n",
    "# from IPython import utils\n",
    "import time, os, sys, re\n",
    "import dask.bag as db\n",
    "beep = lambda x: os.system(\"echo -n '\\\\a';sleep 0.2;\" * x)\n",
    "if not 'nb_dir' in globals():\n",
    "    nb_dir = os.getcwd()\n",
    "    \n",
    "#load the libraries\n",
    "from lib import *\n",
    "from lib.utils.operari import *\n",
    "\n",
    "%autocall 1\n",
    "%load_ext autoreload\n",
    "%autoreload 2\n",
    "# awareness&chill"
   ]
  },
  {
   "cell_type": "code",
   "execution_count": 2,
   "metadata": {
    "ExecuteTime": {
     "end_time": "2023-09-12T22:10:13.154100Z",
     "start_time": "2023-09-12T22:10:13.050997Z"
    }
   },
   "outputs": [],
   "source": [
    "#make plots work in darkmode\n",
    "import seaborn as sns\n",
    "from jupyterthemes import jtplot\n",
    "jtplot.style(theme='monokai', context='notebook', ticks=True, grid=False)"
   ]
  },
  {
   "cell_type": "markdown",
   "metadata": {},
   "source": [
    "# compute trajectories for folder of tip logs"
   ]
  },
  {
   "cell_type": "code",
   "execution_count": 3,
   "metadata": {
    "ExecuteTime": {
     "end_time": "2023-09-12T22:10:14.260189Z",
     "start_time": "2023-09-12T22:10:14.243346Z"
    }
   },
   "outputs": [],
   "source": [
    "# fn_out = run_routine(file)"
   ]
  },
  {
   "cell_type": "code",
   "execution_count": 4,
   "metadata": {
    "ExecuteTime": {
     "end_time": "2023-09-12T22:10:15.148617Z",
     "start_time": "2023-09-12T22:10:15.131620Z"
    }
   },
   "outputs": [],
   "source": [
    "# #TODO: make save_fn replace Log with trajectories because apparently it isn't\n",
    "# # save_fn = input_file_name.replace('/Log','/trajectories').replace('log.csv', f'traj_sr_{sr}_mem_{mem}.csv')\n",
    "# input_file_name = file_name_list[0]\n",
    "# sr=400\n",
    "# mem=2\n",
    "# save_fn = os.path.abspath(input_file_name).replace('/Log','/trajectories').replace('log.csv', f'traj_sr_{sr}_mem_{mem}.csv')\n",
    "\n",
    "# print(save_fn)"
   ]
  },
  {
   "cell_type": "code",
   "execution_count": null,
   "metadata": {
    "ExecuteTime": {
     "end_time": "2020-12-18T08:34:40.045958Z",
     "start_time": "2020-12-18T08:34:40.022181Z"
    }
   },
   "outputs": [],
   "source": []
  },
  {
   "cell_type": "code",
   "execution_count": 35,
   "metadata": {
    "ExecuteTime": {
     "end_time": "2020-12-18T19:48:09.795408Z",
     "start_time": "2020-12-18T19:47:49.058066Z"
    }
   },
   "outputs": [
    {
     "name": "stdout",
     "output_type": "stream",
     "text": [
      "please select a file from within the desired folder.\n",
      "File: /home/timothytyree/Documents/GitHub/care/notebooks/Data/initial-conditions-suite-2/ds_5_param_set_8_fastkernel_V_0.5_archive/Log/ic_200x200.004.11_log.csv\n"
     ]
    }
   ],
   "source": [
    "# #find file interactively\n",
    "# print(\"please select a file from within the desired folder.\")\n",
    "# file = search_for_file()"
   ]
  },
  {
   "cell_type": "code",
   "execution_count": null,
   "metadata": {},
   "outputs": [],
   "source": []
  },
  {
   "cell_type": "code",
   "execution_count": null,
   "metadata": {},
   "outputs": [],
   "source": []
  },
  {
   "cell_type": "code",
   "execution_count": 36,
   "metadata": {
    "ExecuteTime": {
     "end_time": "2020-12-18T19:48:25.528686Z",
     "start_time": "2020-12-18T19:48:25.500678Z"
    }
   },
   "outputs": [
    {
     "name": "stdout",
     "output_type": "stream",
     "text": [
      "171\n"
     ]
    }
   ],
   "source": [
    "#9 samples LT = 0\n",
    "# file =  '/Users/timothytyree/Documents/GitHub/care/notebooks/Data/ds_5_param_set_8/birth-death-rates/33_ds_5_sigma_1.5_threshold_0.6__traj_sr_40_mem_2_bdrates.csv'\n",
    "# file = \"/home/timothytyree/Documents/GitHub/care/notebooks/Data/initial-conditions-suite-2/ds_5_param_set_8_fastkernel_V_0.4_archive/Log/ic_200x200.002.31_log.csv\"\n",
    "#>60 samples LT = 2\n",
    "# file = '/Users/timothytyree/Documents/GitHub/care/notebooks/Data/initial-conditions-suite-1/ds_5_param_set_8/birth-death-rates/ic_200x200.117.21_ds_5_sigma_1.5_threshold_0.6_sr_50_mem_2_tmin_100_LT_2_bdrates.csv'\n",
    "#change to the directory containing file\n",
    "# file = \"/home/timothytyree/Documents/GitHub/care/notebooks/Data/initial-conditions-suite-2/ds_5_param_set_8_fastkernel_V_0.6_archive/Log/ic_200x200.001.11.csv\"\n",
    "folder_name = os.path.dirname(file)\n",
    "\n",
    "\n",
    "#find folder interactively. Crashes jupyter's root kernel :(\n",
    "# from tkinter import Tk\n",
    "# from tkinter.filedialog import askdirectory\n",
    "# path = askdirectory(title='Select Folder') # shows dialog box and return the path\n",
    "# print(path) \n",
    "\n",
    "# get all .csv files in the current working directory\n",
    "os.chdir(folder_name)\n",
    "retval = !ls\n",
    "file_name_list = list(retval)\n",
    "# check each file if it ends in .csv before merging it\n",
    "def is_csv(file_name):\n",
    "    return file_name[-4:]=='.csv'\n",
    "file_name_list = [f for f in file_name_list if is_csv(f)]\n",
    "# remove all files with 'threshold'\n",
    "# file_name_list = [f for f in file_name_list if f.find('threshold')==-1]\n",
    "\n",
    "print(len(file_name_list))"
   ]
  },
  {
   "cell_type": "code",
   "execution_count": 37,
   "metadata": {
    "ExecuteTime": {
     "end_time": "2020-12-18T19:48:28.792713Z",
     "start_time": "2020-12-18T19:48:28.780196Z"
    }
   },
   "outputs": [],
   "source": [
    "def produce_one_csv(list_of_files, file_out):\n",
    "   # Consolidate all csv files into one object\n",
    "   result_obj = pd.concat([pd.read_csv(file) for file in list_of_files])\n",
    "   # Convert the above object into a csv file and export\n",
    "   result_obj.to_csv(file_out, index=False, encoding=\"utf-8\")"
   ]
  },
  {
   "cell_type": "code",
   "execution_count": 38,
   "metadata": {
    "ExecuteTime": {
     "end_time": "2020-12-18T19:48:29.114850Z",
     "start_time": "2020-12-18T19:48:29.098309Z"
    }
   },
   "outputs": [],
   "source": [
    "def run_routine(ic):\n",
    "    output_file_name = preprocess_log(ic)\n",
    "    return output_file_name"
   ]
  },
  {
   "cell_type": "code",
   "execution_count": 39,
   "metadata": {
    "ExecuteTime": {
     "end_time": "2020-12-18T22:33:16.755835Z",
     "start_time": "2020-12-18T19:48:33.291336Z"
    }
   },
   "outputs": [
    {
     "name": "stdout",
     "output_type": "stream",
     "text": [
      "Frame 12785: 2 trajectories present.\n",
      "run time for generating birth-death rates from file_name_list: 9882.84 seconds.\n"
     ]
    },
    {
     "data": {
      "text/plain": [
       "0"
      ]
     },
     "execution_count": 39,
     "metadata": {},
     "output_type": "execute_result"
    }
   ],
   "source": [
    "b = db.from_sequence(file_name_list, npartitions=10).map(run_routine)\n",
    "start = time.time()\n",
    "retval = list(b)\n",
    "print(f\"run time for generating birth-death rates from file_name_list: {time.time()-start:.2f} seconds.\")\n",
    "beep(3)"
   ]
  },
  {
   "cell_type": "code",
   "execution_count": 11,
   "metadata": {
    "ExecuteTime": {
     "end_time": "2020-12-18T04:08:33.828761Z",
     "start_time": "2020-12-18T04:08:33.812437Z"
    }
   },
   "outputs": [],
   "source": [
    "# ic = file_name_list[0]"
   ]
  },
  {
   "cell_type": "code",
   "execution_count": 13,
   "metadata": {
    "ExecuteTime": {
     "end_time": "2020-12-18T04:11:29.296367Z",
     "start_time": "2020-12-18T04:10:23.455957Z"
    }
   },
   "outputs": [
    {
     "name": "stdout",
     "output_type": "stream",
     "text": [
      "Frame 3811: 4 trajectories present.\n"
     ]
    }
   ],
   "source": [
    "# input_file_name = \"/home/timothytyree/Documents/GitHub/care/notebooks/Data/initial-conditions-suite-2/ds_5_param_set_8_fastkernel_V_0.4_archive/Log/ic_200x200.001.11_log.csv\"\n",
    "# output_file_name = preprocess_log(ic)"
   ]
  },
  {
   "cell_type": "markdown",
   "metadata": {},
   "source": [
    "# unwrap each trajectory in folder of trajectories"
   ]
  },
  {
   "cell_type": "code",
   "execution_count": 68,
   "metadata": {
    "ExecuteTime": {
     "end_time": "2020-12-19T03:50:15.164587Z",
     "start_time": "2020-12-19T03:49:47.962745Z"
    }
   },
   "outputs": [
    {
     "name": "stdout",
     "output_type": "stream",
     "text": [
      "please select a file from within the desired folder.\n",
      "File: /home/timothytyree/Documents/GitHub/care/notebooks/Data/initial-conditions-suite-2/ds_5_param_set_8_fastkernel_V_0.6_archive/trajectories/ic_200x200.001.22_traj_sr_400_mem_2.csv\n"
     ]
    }
   ],
   "source": [
    "#find file interactively\n",
    "print(\"please select a file from within the desired folder.\")\n",
    "file = search_for_file()"
   ]
  },
  {
   "cell_type": "code",
   "execution_count": 69,
   "metadata": {
    "ExecuteTime": {
     "end_time": "2020-12-19T03:50:17.337072Z",
     "start_time": "2020-12-19T03:50:17.313997Z"
    }
   },
   "outputs": [],
   "source": [
    "# load trajectories\n",
    "from lib.routines.compute_msd import *"
   ]
  },
  {
   "cell_type": "code",
   "execution_count": 70,
   "metadata": {
    "ExecuteTime": {
     "end_time": "2020-12-19T03:50:18.376398Z",
     "start_time": "2020-12-19T03:50:18.342416Z"
    }
   },
   "outputs": [
    {
     "name": "stdout",
     "output_type": "stream",
     "text": [
      "171\n"
     ]
    }
   ],
   "source": [
    "folder_name = os.path.dirname(file)\n",
    "folder_name_output = folder_name.replace('trajectories','trajectories_unwrapped')\n",
    "# get all .csv files in the current working directory\n",
    "os.chdir(folder_name)\n",
    "retval = !ls\n",
    "file_name_list = list(retval)\n",
    "# check each file if it ends in .csv before merging it\n",
    "def is_csv(file_name):\n",
    "    return file_name[-4:]=='.csv'\n",
    "file_name_list = [os.path.join(folder_name,f) for f in file_name_list if is_csv(f)]\n",
    "# remove all files with 'threshold'\n",
    "# file_name_list = [f for f in file_name_list if f.find('threshold')==-1]\n",
    "\n",
    "print(len(file_name_list))"
   ]
  },
  {
   "cell_type": "code",
   "execution_count": 71,
   "metadata": {
    "ExecuteTime": {
     "end_time": "2020-12-19T03:50:21.413320Z",
     "start_time": "2020-12-19T03:50:21.374946Z"
    }
   },
   "outputs": [],
   "source": [
    "def run_routine(input_file_name):\n",
    "    output_file_name = input_file_name.replace('trajectories','trajectories_unwrapped')\n",
    "    unwrap_trajectories(input_file_name, output_file_name)\n",
    "    return output_file_name"
   ]
  },
  {
   "cell_type": "code",
   "execution_count": 72,
   "metadata": {
    "ExecuteTime": {
     "end_time": "2020-12-19T06:14:22.825769Z",
     "start_time": "2020-12-19T03:50:22.869160Z"
    }
   },
   "outputs": [
    {
     "name": "stdout",
     "output_type": "stream",
     "text": [
      "run time for generating birth-death rates from file_name_list: 8639.31 seconds.\n"
     ]
    },
    {
     "data": {
      "text/plain": [
       "0"
      ]
     },
     "execution_count": 72,
     "metadata": {},
     "output_type": "execute_result"
    }
   ],
   "source": [
    "b = db.from_sequence(file_name_list, npartitions=10).map(run_routine)\n",
    "start = time.time()\n",
    "retval = list(b);\n",
    "print(f\"run time for generating birth-death rates from file_name_list: {time.time()-start:.2f} seconds.\")\n",
    "beep(3)"
   ]
  },
  {
   "cell_type": "code",
   "execution_count": null,
   "metadata": {
    "ExecuteTime": {
     "end_time": "2020-12-19T02:19:40.919278Z",
     "start_time": "2020-12-19T02:19:40.880636Z"
    }
   },
   "outputs": [],
   "source": []
  },
  {
   "cell_type": "code",
   "execution_count": null,
   "metadata": {},
   "outputs": [],
   "source": []
  },
  {
   "cell_type": "code",
   "execution_count": null,
   "metadata": {},
   "outputs": [],
   "source": []
  },
  {
   "cell_type": "code",
   "execution_count": null,
   "metadata": {},
   "outputs": [],
   "source": [
    "\n",
    "#select the longest n trajectories\n",
    "n_tips = 1#15\n",
    "df = pd.read_csv(output_file_name)\n",
    "s = df.groupby('particle').t.count()\n",
    "s = s.sort_values(ascending=False)\n",
    "pid_longest_lst = list(s.index.values[:n_tips])\n",
    "# d = df[df.particle==pid_longest]\n",
    "# print(pid_longest)\n",
    "# print(s.head())\n",
    "# pid_longest_lst = s.head(n_tips).values\n",
    "df_traj = pd.concat([df[df.particle==pid] for pid in pid_longest_lst])\n",
    "assert ( (np.array(sorted(set(df_traj['particle'].values)))==np.array(sorted(pid_longest_lst))).all())\n",
    "#compute ensemble mean squared displacement\n",
    "emsd = trackpy.motion.emsd(df_traj, mpp=1., fps=1.,max_lagtime=40000)\n",
    "#save results\n",
    "output_file_name_msd = output_file_name.replace(\"trajectories/\",\"msd/\").replace(\"traj_\",f\"emsd_ntips_{n_tips}\")\n",
    "emsd.to_csv(output_file_name_msd, index=False)"
   ]
  },
  {
   "cell_type": "code",
   "execution_count": null,
   "metadata": {},
   "outputs": [],
   "source": [
    "saving = False\n",
    "savefig_fn = os.path.basename(output_file_name_msd).replace('.csv','.svg')\n",
    "savefig_folder = os.path.join(nb_dir,'Figures/msd')\n",
    "fontsize =22\n",
    "figsize=(6,4)\n",
    "DS = 5/200 #cm per pixel\n",
    "DT = 1. #ms per frame\n",
    "x_values = emsd.index.values*DT/10**3 #lag in seconds\n",
    "y_values = emsd.values*DS**2 #msd\n",
    "\n",
    "fig, ax = plt.subplots(figsize=figsize)\n",
    "ax.plot(x_values,y_values)\n",
    "ax.set_xlabel('lag (s)', fontsize=fontsize)\n",
    "ax.set_ylabel(r'MSD (cm$^2$)', fontsize=fontsize)\n",
    "ax.tick_params(axis='both', which='major', labelsize=fontsize)\n",
    "ax.tick_params(axis='both', which='minor', labelsize=0)\n",
    "if not saving: \n",
    "    plt.show() \n",
    "else:\n",
    "    plt.tight_layout()\n",
    "    os.chdir(savefig_folder)\n",
    "    plt.savefig(savefig_fn, dpi=300)\n",
    "    print(f\"saved figure in \\n\\t{savefig_fn}\")"
   ]
  }
 ],
 "metadata": {
  "kernelspec": {
   "display_name": "Python 3 (ipykernel)",
   "language": "python",
   "name": "python3"
  },
  "language_info": {
   "codemirror_mode": {
    "name": "ipython",
    "version": 3
   },
   "file_extension": ".py",
   "mimetype": "text/x-python",
   "name": "python",
   "nbconvert_exporter": "python",
   "pygments_lexer": "ipython3",
   "version": "3.9.13"
  },
  "toc": {
   "base_numbering": 1,
   "nav_menu": {},
   "number_sections": true,
   "sideBar": true,
   "skip_h1_title": false,
   "title_cell": "Table of Contents",
   "title_sidebar": "Contents",
   "toc_cell": false,
   "toc_position": {},
   "toc_section_display": true,
   "toc_window_display": false
  },
  "varInspector": {
   "cols": {
    "lenName": 16,
    "lenType": 16,
    "lenVar": 40
   },
   "kernels_config": {
    "python": {
     "delete_cmd_postfix": "",
     "delete_cmd_prefix": "del ",
     "library": "var_list.py",
     "varRefreshCmd": "print(var_dic_list())"
    },
    "r": {
     "delete_cmd_postfix": ") ",
     "delete_cmd_prefix": "rm(",
     "library": "var_list.r",
     "varRefreshCmd": "cat(var_dic_list()) "
    }
   },
   "types_to_exclude": [
    "module",
    "function",
    "builtin_function_or_method",
    "instance",
    "_Feature"
   ],
   "window_display": false
  }
 },
 "nbformat": 4,
 "nbformat_minor": 4
}
