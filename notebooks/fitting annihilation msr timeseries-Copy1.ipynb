{
 "cells": [
  {
   "cell_type": "markdown",
   "id": "048258cb",
   "metadata": {},
   "source": [
    "# fitting annihilation msr timeseries\n",
    "Tim Tyree<br>\n",
    "7.5.2022"
   ]
  },
  {
   "cell_type": "code",
   "execution_count": 1,
   "id": "7249626d",
   "metadata": {
    "ExecuteTime": {
     "end_time": "2022-07-20T17:33:54.793582Z",
     "start_time": "2022-07-20T17:33:53.070905Z"
    }
   },
   "outputs": [],
   "source": [
    "from IPython.display import clear_output\n",
    "clear_output(wait=True)\n",
    "\n",
    "import sys,os\n",
    "og_stdout=sys.stdout\n",
    "from lib.my_initialization import *\n",
    "\n",
    "os.chdir(nb_dir)\n",
    "from lib import *\n",
    "\n",
    "# import cupy, cudf\n",
    "# from lib.rapids_func import *\n",
    "\n",
    "import seaborn as sns\n",
    "import matplotlib.ticker as mtick\n",
    "\n",
    "import warnings\n",
    "warnings.simplefilter(\"ignore\", UserWarning)\n",
    "%load_ext autoreload\n",
    "%autoreload 2"
   ]
  },
  {
   "cell_type": "code",
   "execution_count": 18,
   "id": "43aadfdf",
   "metadata": {
    "ExecuteTime": {
     "end_time": "2022-07-20T17:40:25.125065Z",
     "start_time": "2022-07-20T17:40:25.089759Z"
    }
   },
   "outputs": [],
   "source": [
    "#reset matplotlib settings\n",
    "import matplotlib as mpl\n",
    "sns.reset_orig()\n",
    "mpl.rc_file_defaults()"
   ]
  },
  {
   "cell_type": "markdown",
   "id": "1261a81a",
   "metadata": {},
   "source": [
    "# define module"
   ]
  },
  {
   "cell_type": "code",
   "execution_count": null,
   "id": "d5e417a6",
   "metadata": {},
   "outputs": [],
   "source": []
  },
  {
   "cell_type": "markdown",
   "id": "7b53ca3c",
   "metadata": {},
   "source": [
    "# load data"
   ]
  },
  {
   "cell_type": "code",
   "execution_count": 67,
   "id": "99b84bb4",
   "metadata": {
    "ExecuteTime": {
     "end_time": "2022-07-20T18:13:06.456423Z",
     "start_time": "2022-07-20T18:13:06.218314Z"
    }
   },
   "outputs": [
    {
     "name": "stdout",
     "output_type": "stream",
     "text": [
      "loaded range timeseries from 152 termination events\n"
     ]
    },
    {
     "data": {
      "text/html": [
       "<div>\n",
       "<style scoped>\n",
       "    .dataframe tbody tr th:only-of-type {\n",
       "        vertical-align: middle;\n",
       "    }\n",
       "\n",
       "    .dataframe tbody tr th {\n",
       "        vertical-align: top;\n",
       "    }\n",
       "\n",
       "    .dataframe thead th {\n",
       "        text-align: right;\n",
       "    }\n",
       "</style>\n",
       "<table border=\"1\" class=\"dataframe\">\n",
       "  <thead>\n",
       "    <tr style=\"text-align: right;\">\n",
       "      <th></th>\n",
       "      <th>annihilation_index</th>\n",
       "      <th>R</th>\n",
       "      <th>tdeath</th>\n",
       "      <th>t</th>\n",
       "      <th>n</th>\n",
       "      <th>x</th>\n",
       "      <th>y</th>\n",
       "      <th>grad_ux</th>\n",
       "      <th>grad_uy</th>\n",
       "      <th>grad_vx</th>\n",
       "      <th>grad_vy</th>\n",
       "      <th>frame</th>\n",
       "      <th>trial_num</th>\n",
       "    </tr>\n",
       "  </thead>\n",
       "  <tbody>\n",
       "    <tr>\n",
       "      <th>6318</th>\n",
       "      <td>0</td>\n",
       "      <td>0.179885</td>\n",
       "      <td>0.0</td>\n",
       "      <td>2352.0</td>\n",
       "      <td>2</td>\n",
       "      <td>144.34804</td>\n",
       "      <td>82.93726</td>\n",
       "      <td>1.23411</td>\n",
       "      <td>0.58661</td>\n",
       "      <td>1.37163</td>\n",
       "      <td>0.35375</td>\n",
       "      <td>1177</td>\n",
       "      <td>0</td>\n",
       "    </tr>\n",
       "    <tr>\n",
       "      <th>6316</th>\n",
       "      <td>0</td>\n",
       "      <td>0.489484</td>\n",
       "      <td>2.0</td>\n",
       "      <td>2350.0</td>\n",
       "      <td>2</td>\n",
       "      <td>140.80990</td>\n",
       "      <td>90.10595</td>\n",
       "      <td>1.27602</td>\n",
       "      <td>0.56800</td>\n",
       "      <td>1.45780</td>\n",
       "      <td>0.29252</td>\n",
       "      <td>1176</td>\n",
       "      <td>0</td>\n",
       "    </tr>\n",
       "    <tr>\n",
       "      <th>6314</th>\n",
       "      <td>0</td>\n",
       "      <td>1.195989</td>\n",
       "      <td>4.0</td>\n",
       "      <td>2348.0</td>\n",
       "      <td>2</td>\n",
       "      <td>118.89407</td>\n",
       "      <td>108.84410</td>\n",
       "      <td>0.20201</td>\n",
       "      <td>1.87254</td>\n",
       "      <td>0.39609</td>\n",
       "      <td>1.65512</td>\n",
       "      <td>1175</td>\n",
       "      <td>0</td>\n",
       "    </tr>\n",
       "    <tr>\n",
       "      <th>6312</th>\n",
       "      <td>0</td>\n",
       "      <td>1.401146</td>\n",
       "      <td>6.0</td>\n",
       "      <td>2346.0</td>\n",
       "      <td>4</td>\n",
       "      <td>106.46835</td>\n",
       "      <td>108.31253</td>\n",
       "      <td>-0.39413</td>\n",
       "      <td>2.37612</td>\n",
       "      <td>0.14468</td>\n",
       "      <td>1.83677</td>\n",
       "      <td>1174</td>\n",
       "      <td>0</td>\n",
       "    </tr>\n",
       "    <tr>\n",
       "      <th>6310</th>\n",
       "      <td>1</td>\n",
       "      <td>0.275609</td>\n",
       "      <td>0.0</td>\n",
       "      <td>2346.0</td>\n",
       "      <td>4</td>\n",
       "      <td>76.75345</td>\n",
       "      <td>90.36230</td>\n",
       "      <td>1.62715</td>\n",
       "      <td>0.47231</td>\n",
       "      <td>4.64334</td>\n",
       "      <td>-2.10047</td>\n",
       "      <td>1174</td>\n",
       "      <td>0</td>\n",
       "    </tr>\n",
       "  </tbody>\n",
       "</table>\n",
       "</div>"
      ],
      "text/plain": [
       "      annihilation_index         R  tdeath       t  n          x          y  \\\n",
       "6318                   0  0.179885     0.0  2352.0  2  144.34804   82.93726   \n",
       "6316                   0  0.489484     2.0  2350.0  2  140.80990   90.10595   \n",
       "6314                   0  1.195989     4.0  2348.0  2  118.89407  108.84410   \n",
       "6312                   0  1.401146     6.0  2346.0  4  106.46835  108.31253   \n",
       "6310                   1  0.275609     0.0  2346.0  4   76.75345   90.36230   \n",
       "\n",
       "      grad_ux  grad_uy  grad_vx  grad_vy  frame  trial_num  \n",
       "6318  1.23411  0.58661  1.37163  0.35375   1177          0  \n",
       "6316  1.27602  0.56800  1.45780  0.29252   1176          0  \n",
       "6314  0.20201  1.87254  0.39609  1.65512   1175          0  \n",
       "6312 -0.39413  2.37612  0.14468  1.83677   1174          0  \n",
       "6310  1.62715  0.47231  4.64334 -2.10047   1174          0  "
      ]
     },
     "execution_count": 67,
     "metadata": {},
     "output_type": "execute_result"
    }
   ],
   "source": [
    "#load spiral tip range time series from cache\n",
    "#######################\n",
    "# Luo-Rudy\n",
    "#######################\n",
    "#WJ's data for LR model (200x200) diffCoeff=0.001\n",
    "range_data_dir='/home/timothytyree/Documents/GitHub/care/notebooks/Data/from_wjr/tippos_per_001_annihilation_range_timeseries.pkl'\n",
    "# #my data for LR model (200x200) diffCoeff=0.001\n",
    "range_data_dir='/home/timothytyree/Documents/GitHub/care/notebooks/Data/initial-conditions-suite-3-LR/ds_5_param_qu_tmax_30_Ko_5.4_diffCoef_0.001/annihilation_range_timeseries.pkl'\n",
    "# #my data for LR model (200x200) diffCoeff=0.0005\n",
    "# range_data_dir='/home/timothytyree/Documents/GitHub/care/notebooks/Data/initial-conditions-suite-3-LR/param_qu_tmax_30_Ko_5.4_diffCoef_0.0005_dt_0.5/annihilation_range_timeseries.pkl'\n",
    "\n",
    "#######################\n",
    "# # Fenton-Karma\n",
    "# #######################\n",
    "# # # #my data for FK model (200x200) diffCoeff=0.0005\n",
    "# range_data_dir='/home/timothytyree/Documents/GitHub/care/notebooks/Data/initial-conditions-fk-200x200/param_set_8_ds_5.0_tmax_10_diffCoef_0.0005/annihilation_range_timeseries.pkl'\n",
    "# # range_data_dir='/home/timothytyree/Documents/GitHub/care/notebooks/Data/initial-conditions-fk-200x200/param_set_8_ds_5.0_tmax_10_diffCoef_0.0005/annihilation_range_timeseries.pkl'\n",
    "# # # #my data for FK model (200x200) diffCoeff=0.001\n",
    "# range_data_dir='/home/timothytyree/Documents/GitHub/care/notebooks/Data/initial-conditions-fk-200x200/param_set_8_ds_5.0_tmax_30_diffCoef_0.001_dt_1/annihilation_range_timeseries.pkl'\n",
    "# # # range_data_dir='/home/timothytyree/Documents/GitHub/care/notebooks/Data/initial-conditions-fk-200x200/param_set_8_ds_5.0_tmax_30_diffCoef_0.001_dt_0.025/annihilation_range_timeseries.pkl'\n",
    "\n",
    "data_lst=load_from_pickle(range_data_dir)\n",
    "print(f\"loaded range timeseries from {len(data_lst)} termination events\")\n",
    "df=pd.concat(data_lst)\n",
    "del data_lst\n",
    "df.head()"
   ]
  },
  {
   "cell_type": "markdown",
   "id": "604c1aa1",
   "metadata": {},
   "source": [
    "# compute mean minimum lifetime"
   ]
  },
  {
   "cell_type": "code",
   "execution_count": 68,
   "id": "c7a3d4e2",
   "metadata": {
    "ExecuteTime": {
     "end_time": "2022-07-20T18:13:08.192848Z",
     "start_time": "2022-07-20T18:13:08.120082Z"
    }
   },
   "outputs": [],
   "source": [
    "for n,g in df.groupby(by=['trial_num','annihilation_index']):\n",
    "    pass"
   ]
  },
  {
   "cell_type": "code",
   "execution_count": 69,
   "id": "fd266ddc",
   "metadata": {
    "ExecuteTime": {
     "end_time": "2022-07-20T18:13:08.964621Z",
     "start_time": "2022-07-20T18:13:08.594213Z"
    }
   },
   "outputs": [
    {
     "data": {
      "image/png": "[encoded data removed]",
      "text/plain": [
       "<Figure size 640x480 with 1 Axes>"
      ]
     },
     "metadata": {},
     "output_type": "display_data"
    }
   ],
   "source": [
    "bins=80\n",
    "color='C1'\n",
    "# color='C0'\n",
    "# bins=np.logspace(-2,2,100)\n",
    "minlifetime_values = df.groupby(by=['trial_num','annihilation_index'])['tdeath'].max().values\n",
    "plt.hist(minlifetime_values,bins=bins,density=True,log=True,color=color,alpha=0.7)\n",
    "format_plot(ax=plt.gca(),xlabel=r'min$(\\Gamma_1,\\Gamma_2)$ (ms)',ylabel='PDF')\n",
    "plt.show()"
   ]
  },
  {
   "cell_type": "code",
   "execution_count": 70,
   "id": "7bfcd6c5",
   "metadata": {
    "ExecuteTime": {
     "end_time": "2022-07-20T18:13:11.346484Z",
     "start_time": "2022-07-20T18:13:11.326726Z"
    }
   },
   "outputs": [],
   "source": [
    "def comp_mean_bootstrap_uncertainty(x,num_samples=1000):\n",
    "    \"\"\"\n",
    "    Example Usage:\n",
    "meanx,Delta_meanx,num_obs,p_normal=comp_mean_bootstrap_uncertainty(minlifetime_values)\n",
    "printing=True\n",
    "if printing:\n",
    "    print(f\"mean: {meanx:.4f} +/- {Delta_meanx:.4f} (N={num_obs}, {p_normal=:.4f})\")\n",
    "    \"\"\"\n",
    "    meanx = np.mean(x)\n",
    "    Delta_meanx,p_normal=bootstrap_95CI_Delta_mean(x,num_samples=num_samples)\n",
    "    num_obs=x.shape[0]\n",
    "    return meanx,Delta_meanx,num_obs,p_normal\n",
    "\n"
   ]
  },
  {
   "cell_type": "code",
   "execution_count": 71,
   "id": "1521eb36",
   "metadata": {
    "ExecuteTime": {
     "end_time": "2022-07-20T18:13:12.536659Z",
     "start_time": "2022-07-20T18:13:12.472495Z"
    }
   },
   "outputs": [
    {
     "name": "stdout",
     "output_type": "stream",
     "text": [
      "mean lifetime: 31.5633 +/- 1.2712 ms (N=3884, p_normal=0.0409)\n"
     ]
    }
   ],
   "source": [
    "meanx,Delta_meanx,num_obs,p_normal=comp_mean_bootstrap_uncertainty(minlifetime_values)\n",
    "printing=True\n",
    "if printing:\n",
    "    print(f\"mean lifetime: {meanx:.4f} +/- {Delta_meanx:.4f} ms (N={num_obs}, {p_normal=:.4f})\")"
   ]
  },
  {
   "cell_type": "code",
   "execution_count": null,
   "id": "33649fc2",
   "metadata": {},
   "outputs": [],
   "source": []
  },
  {
   "cell_type": "markdown",
   "id": "db651ad7",
   "metadata": {},
   "source": [
    "# compute mean squared range (msr)"
   ]
  },
  {
   "cell_type": "code",
   "execution_count": 37,
   "id": "e1b8ea87",
   "metadata": {
    "ExecuteTime": {
     "end_time": "2022-07-20T18:04:36.696885Z",
     "start_time": "2022-07-20T18:04:36.672259Z"
    }
   },
   "outputs": [
    {
     "name": "stdout",
     "output_type": "stream",
     "text": [
      "tdeath ranges from 0.0 to 476.0 ms\n",
      "R^2 ranges from 6.249999999999291e-06 to 12.450062500000005 cm^2\n"
     ]
    }
   ],
   "source": [
    "x_values_in=df['tdeath'].values\n",
    "y_values_in=df['R'].values**2\n",
    "print(f\"tdeath ranges from {np.min(x_values_in)} to {np.max(x_values_in)} ms\")\n",
    "print(f\"R^2 ranges from {np.min(y_values_in)} to {np.max(y_values_in)} cm^2\")"
   ]
  },
  {
   "cell_type": "code",
   "execution_count": 38,
   "id": "93286253",
   "metadata": {
    "ExecuteTime": {
     "end_time": "2022-07-20T18:04:37.752344Z",
     "start_time": "2022-07-20T18:04:37.732572Z"
    }
   },
   "outputs": [],
   "source": [
    "assert not np.isnan(x_values_in).any() \n",
    "assert not np.isnan(y_values_in).any()"
   ]
  },
  {
   "cell_type": "code",
   "execution_count": 39,
   "id": "79c506e0",
   "metadata": {
    "ExecuteTime": {
     "end_time": "2022-07-20T18:05:01.099007Z",
     "start_time": "2022-07-20T18:04:39.266891Z"
    }
   },
   "outputs": [
    {
     "data": {
      "text/html": [
       "<div>\n",
       "<style scoped>\n",
       "    .dataframe tbody tr th:only-of-type {\n",
       "        vertical-align: middle;\n",
       "    }\n",
       "\n",
       "    .dataframe tbody tr th {\n",
       "        vertical-align: top;\n",
       "    }\n",
       "\n",
       "    .dataframe thead th {\n",
       "        text-align: right;\n",
       "    }\n",
       "</style>\n",
       "<table border=\"1\" class=\"dataframe\">\n",
       "  <thead>\n",
       "    <tr style=\"text-align: right;\">\n",
       "      <th></th>\n",
       "      <th>tdeath_avg</th>\n",
       "      <th>MSR</th>\n",
       "      <th>Delta_tdeath_avg</th>\n",
       "      <th>Delta_MSR</th>\n",
       "      <th>p_tdeath_avg</th>\n",
       "      <th>p_MSR</th>\n",
       "      <th>counts</th>\n",
       "    </tr>\n",
       "  </thead>\n",
       "  <tbody>\n",
       "    <tr>\n",
       "      <th>0</th>\n",
       "      <td>1.866754</td>\n",
       "      <td>0.159315</td>\n",
       "      <td>0.010869</td>\n",
       "      <td>0.001281</td>\n",
       "      <td>0.256476</td>\n",
       "      <td>0.046081</td>\n",
       "      <td>66156</td>\n",
       "    </tr>\n",
       "    <tr>\n",
       "      <th>1</th>\n",
       "      <td>6.927233</td>\n",
       "      <td>0.452619</td>\n",
       "      <td>0.012313</td>\n",
       "      <td>0.003232</td>\n",
       "      <td>0.224239</td>\n",
       "      <td>0.276889</td>\n",
       "      <td>51878</td>\n",
       "    </tr>\n",
       "    <tr>\n",
       "      <th>2</th>\n",
       "      <td>11.941894</td>\n",
       "      <td>0.757394</td>\n",
       "      <td>0.012935</td>\n",
       "      <td>0.005802</td>\n",
       "      <td>0.690776</td>\n",
       "      <td>0.258489</td>\n",
       "      <td>44040</td>\n",
       "    </tr>\n",
       "    <tr>\n",
       "      <th>3</th>\n",
       "      <td>16.945997</td>\n",
       "      <td>1.089291</td>\n",
       "      <td>0.014577</td>\n",
       "      <td>0.009193</td>\n",
       "      <td>0.171078</td>\n",
       "      <td>0.245441</td>\n",
       "      <td>38350</td>\n",
       "    </tr>\n",
       "    <tr>\n",
       "      <th>4</th>\n",
       "      <td>21.947091</td>\n",
       "      <td>1.446256</td>\n",
       "      <td>0.015338</td>\n",
       "      <td>0.013053</td>\n",
       "      <td>0.096605</td>\n",
       "      <td>0.008943</td>\n",
       "      <td>33359</td>\n",
       "    </tr>\n",
       "  </tbody>\n",
       "</table>\n",
       "</div>"
      ],
      "text/plain": [
       "   tdeath_avg       MSR  Delta_tdeath_avg  Delta_MSR  p_tdeath_avg     p_MSR  \\\n",
       "0    1.866754  0.159315          0.010869   0.001281      0.256476  0.046081   \n",
       "1    6.927233  0.452619          0.012313   0.003232      0.224239  0.276889   \n",
       "2   11.941894  0.757394          0.012935   0.005802      0.690776  0.258489   \n",
       "3   16.945997  1.089291          0.014577   0.009193      0.171078  0.245441   \n",
       "4   21.947091  1.446256          0.015338   0.013053      0.096605  0.008943   \n",
       "\n",
       "   counts  \n",
       "0   66156  \n",
       "1   51878  \n",
       "2   44040  \n",
       "3   38350  \n",
       "4   33359  "
      ]
     },
     "execution_count": 39,
     "metadata": {},
     "output_type": "execute_result"
    }
   ],
   "source": [
    "#compute bootstrap \n",
    "# bins=np.arange(0,450,1)\n",
    "# bins=np.arange(0,1800,5)\n",
    "bins=np.arange(0,2800,5)\n",
    "df_bootstrap=bin_and_bootstrap_xy_values_parallel(x_values_in,\n",
    "                               y_values_in,\n",
    "                               xlabel='tdeath_avg',\n",
    "                               ylabel='MSR',\n",
    "                               bins=bins,\n",
    "                               min_numobs=10,\n",
    "                               num_bootstrap_samples=1000,\n",
    "                               npartitions=10,\n",
    "                               use_test=False)\n",
    "df_bootstrap.head()"
   ]
  },
  {
   "cell_type": "code",
   "execution_count": 40,
   "id": "bcc82139",
   "metadata": {
    "ExecuteTime": {
     "end_time": "2022-07-20T18:05:01.239477Z",
     "start_time": "2022-07-20T18:05:01.209462Z"
    }
   },
   "outputs": [
    {
     "data": {
      "text/html": [
       "<div>\n",
       "<style scoped>\n",
       "    .dataframe tbody tr th:only-of-type {\n",
       "        vertical-align: middle;\n",
       "    }\n",
       "\n",
       "    .dataframe tbody tr th {\n",
       "        vertical-align: top;\n",
       "    }\n",
       "\n",
       "    .dataframe thead th {\n",
       "        text-align: right;\n",
       "    }\n",
       "</style>\n",
       "<table border=\"1\" class=\"dataframe\">\n",
       "  <thead>\n",
       "    <tr style=\"text-align: right;\">\n",
       "      <th></th>\n",
       "      <th>tdeath_avg</th>\n",
       "      <th>MSR</th>\n",
       "      <th>Delta_tdeath_avg</th>\n",
       "      <th>Delta_MSR</th>\n",
       "      <th>p_tdeath_avg</th>\n",
       "      <th>p_MSR</th>\n",
       "      <th>counts</th>\n",
       "    </tr>\n",
       "  </thead>\n",
       "  <tbody>\n",
       "    <tr>\n",
       "      <th>89</th>\n",
       "      <td>447.0</td>\n",
       "      <td>2.989172</td>\n",
       "      <td>0.726774</td>\n",
       "      <td>1.013663</td>\n",
       "      <td>0.788698</td>\n",
       "      <td>0.006489</td>\n",
       "      <td>15</td>\n",
       "    </tr>\n",
       "    <tr>\n",
       "      <th>90</th>\n",
       "      <td>452.0</td>\n",
       "      <td>2.982419</td>\n",
       "      <td>0.725913</td>\n",
       "      <td>1.199974</td>\n",
       "      <td>0.643340</td>\n",
       "      <td>0.001214</td>\n",
       "      <td>15</td>\n",
       "    </tr>\n",
       "    <tr>\n",
       "      <th>91</th>\n",
       "      <td>457.0</td>\n",
       "      <td>3.054279</td>\n",
       "      <td>0.713747</td>\n",
       "      <td>1.231557</td>\n",
       "      <td>0.849723</td>\n",
       "      <td>0.411864</td>\n",
       "      <td>15</td>\n",
       "    </tr>\n",
       "    <tr>\n",
       "      <th>92</th>\n",
       "      <td>462.0</td>\n",
       "      <td>2.906550</td>\n",
       "      <td>0.722869</td>\n",
       "      <td>1.190256</td>\n",
       "      <td>0.609452</td>\n",
       "      <td>0.891280</td>\n",
       "      <td>15</td>\n",
       "    </tr>\n",
       "    <tr>\n",
       "      <th>93</th>\n",
       "      <td>467.0</td>\n",
       "      <td>2.907728</td>\n",
       "      <td>0.700864</td>\n",
       "      <td>1.128598</td>\n",
       "      <td>0.085055</td>\n",
       "      <td>0.207943</td>\n",
       "      <td>15</td>\n",
       "    </tr>\n",
       "  </tbody>\n",
       "</table>\n",
       "</div>"
      ],
      "text/plain": [
       "    tdeath_avg       MSR  Delta_tdeath_avg  Delta_MSR  p_tdeath_avg     p_MSR  \\\n",
       "89       447.0  2.989172          0.726774   1.013663      0.788698  0.006489   \n",
       "90       452.0  2.982419          0.725913   1.199974      0.643340  0.001214   \n",
       "91       457.0  3.054279          0.713747   1.231557      0.849723  0.411864   \n",
       "92       462.0  2.906550          0.722869   1.190256      0.609452  0.891280   \n",
       "93       467.0  2.907728          0.700864   1.128598      0.085055  0.207943   \n",
       "\n",
       "    counts  \n",
       "89      15  \n",
       "90      15  \n",
       "91      15  \n",
       "92      15  \n",
       "93      15  "
      ]
     },
     "execution_count": 40,
     "metadata": {},
     "output_type": "execute_result"
    }
   ],
   "source": [
    "df_bootstrap.tail()"
   ]
  },
  {
   "cell_type": "code",
   "execution_count": 41,
   "id": "6feea9bc",
   "metadata": {
    "ExecuteTime": {
     "end_time": "2022-07-20T18:05:01.336144Z",
     "start_time": "2022-07-20T18:05:01.316641Z"
    }
   },
   "outputs": [
    {
     "data": {
      "text/plain": [
       "((94,), (94,), (94,))"
      ]
     },
     "execution_count": 41,
     "metadata": {},
     "output_type": "execute_result"
    }
   ],
   "source": [
    "x_values=df_bootstrap['tdeath_avg'].values\n",
    "y_values=df_bootstrap['MSR'].values\n",
    "yerr_values=df_bootstrap['Delta_MSR'].values\n",
    "x_values.shape,y_values.shape,yerr_values.shape"
   ]
  },
  {
   "cell_type": "code",
   "execution_count": 42,
   "id": "17fe57c4",
   "metadata": {
    "ExecuteTime": {
     "end_time": "2022-07-20T18:05:01.597882Z",
     "start_time": "2022-07-20T18:05:01.425985Z"
    }
   },
   "outputs": [
    {
     "name": "stdout",
     "output_type": "stream",
     "text": [
      "Does this appear to intersect at zero?\n"
     ]
    },
    {
     "data": {
      "image/png": "[encoded data removed]",
      "text/plain": [
       "<Figure size 640x480 with 1 Axes>"
      ]
     },
     "metadata": {},
     "output_type": "display_data"
    }
   ],
   "source": [
    "print(f\"Does this appear to intersect at zero?\")\n",
    "c='C0'\n",
    "plt.plot(x_values,y_values,lw=2,alpha=0.8,c=c)\n",
    "plt.fill_between(x_values,y_values-yerr_values,y_values+yerr_values,lw=2,alpha=0.4,color=c)\n",
    "format_plot(ax=plt.gca(),xlabel=r'$t_f-t$ (ms)',ylabel=r'MSR (cm$^2$)')\n",
    "# plt.xlim([0,180])\n",
    "# plt.ylim([0,3.1])\n",
    "plt.xlim([0,15])\n",
    "plt.ylim([-.1,1])\n",
    "plt.show()"
   ]
  },
  {
   "cell_type": "code",
   "execution_count": 43,
   "id": "aa4bbaba",
   "metadata": {
    "ExecuteTime": {
     "end_time": "2022-07-20T18:05:01.807860Z",
     "start_time": "2022-07-20T18:05:01.686774Z"
    }
   },
   "outputs": [
    {
     "data": {
      "image/png": "[encoded data removed]",
      "text/plain": [
       "<Figure size 400x420 with 1 Axes>"
      ]
     },
     "metadata": {},
     "output_type": "display_data"
    }
   ],
   "source": [
    "#plot expected\n",
    "fig,ax=plt.subplots(figsize=(4,4.2))\n",
    "# ax.plot(x_values,4*9.5*1e-3*x_values,'--',lw=2,alpha=0.8,c='C1')\n",
    "# ax.plot(x_values,4*1.8*1e-3*x_values,'--',lw=2,alpha=0.8,c='C0')\n",
    "#plot data\n",
    "ax.plot(x_values,y_values,lw=2,alpha=0.8,c=c)\n",
    "ax.fill_between(x_values,y_values-yerr_values,y_values+yerr_values,lw=2,alpha=0.4,color=c)\n",
    "format_plot(ax=ax,xlabel=r'$t_f-t$ (ms)',ylabel=r'MSR (cm$^2$)')\n",
    "ax.set_xlim([0,200])\n",
    "ax.set_ylim([0,8])\n",
    "plt.show()"
   ]
  },
  {
   "cell_type": "code",
   "execution_count": 44,
   "id": "ed0f1909",
   "metadata": {
    "ExecuteTime": {
     "end_time": "2022-07-20T18:05:01.939107Z",
     "start_time": "2022-07-20T18:05:01.919968Z"
    }
   },
   "outputs": [],
   "source": [
    "# range_data_dir"
   ]
  },
  {
   "cell_type": "code",
   "execution_count": 45,
   "id": "9db8947f",
   "metadata": {
    "ExecuteTime": {
     "end_time": "2022-07-20T18:05:02.193988Z",
     "start_time": "2022-07-20T18:05:02.017182Z"
    }
   },
   "outputs": [
    {
     "data": {
      "image/png": "[encoded data removed]",
      "text/plain": [
       "<Figure size 800x420 with 1 Axes>"
      ]
     },
     "metadata": {},
     "output_type": "display_data"
    }
   ],
   "source": [
    "#plot expected\n",
    "fig,ax=plt.subplots(figsize=(8,4.2))\n",
    "# ax.plot(x_values,4*9.5*1e-3*x_values,'--',lw=2,alpha=0.8,c='C1')\n",
    "# ax.plot(x_values,4*1.8*1e-3*x_values,'--',lw=2,alpha=0.8,c='C0')\n",
    "#plot data\n",
    "ax.plot(x_values,y_values,lw=2,alpha=0.8,c=c)\n",
    "ax.fill_between(x_values,y_values-yerr_values,y_values+yerr_values,lw=2,alpha=0.4,color=c)\n",
    "format_plot(ax=ax,xlabel=r'$t_f-t$ (ms)',ylabel=r'MSR (cm$^2$)')\n",
    "ax.set_xlim([0,2000])\n",
    "ax.set_ylim([0,8])\n",
    "plt.show()"
   ]
  },
  {
   "cell_type": "code",
   "execution_count": 47,
   "id": "0b5a61ab",
   "metadata": {
    "ExecuteTime": {
     "end_time": "2022-07-20T18:05:59.856674Z",
     "start_time": "2022-07-20T18:05:59.825023Z"
    }
   },
   "outputs": [
    {
     "name": "stdout",
     "output_type": "stream",
     "text": [
      "msr_dir_bootstrap='/home/timothytyree/Documents/GitHub/care/notebooks/Data/from_wjr/tippos_per_001_annihilation_msr.csv'\n"
     ]
    }
   ],
   "source": [
    "#save msr as .csv\n",
    "msr_dir_bootstrap=range_data_dir.replace('annihilation_range_timeseries.pkl','annihilation_msr.csv')\n",
    "df_bootstrap.to_csv(msr_dir_bootstrap,index=False)\n",
    "print(f\"{msr_dir_bootstrap=}\")"
   ]
  },
  {
   "cell_type": "code",
   "execution_count": 49,
   "id": "4dffd4c2",
   "metadata": {
    "ExecuteTime": {
     "end_time": "2022-07-06T05:12:55.911690Z",
     "start_time": "2022-07-06T05:12:55.889913Z"
    }
   },
   "outputs": [],
   "source": [
    "#######################\n",
    "# Luo-Rudy\n",
    "#######################\n",
    "#WJ's data for LR model (200x200)\n",
    "# msr_dir_bootstrap='/home/timothytyree/Documents/GitHub/care/notebooks/Data/from_wjr/tippos_per_001_annihilation_msr.csv'\n",
    "# #my data for LR model (200x200) diffCoeff=0.001\n",
    "# msr_dir_bootstrap='/home/timothytyree/Documents/GitHub/care/notebooks/Data/initial-conditions-suite-3-LR/ds_5_param_qu_tmax_30_Ko_5.4_diffCoef_0.001/annihilation_msr.csv'\n",
    "# #my data for LR model (200x200) diffCoeff=0.0005\n",
    "# msr_dir_bootstrap='/home/timothytyree/Documents/GitHub/care/notebooks/Data/initial-conditions-suite-3-LR/param_qu_tmax_30_Ko_5.4_diffCoef_0.0005_dt_0.5/annihilation_msr.csv'\n"
   ]
  },
  {
   "cell_type": "code",
   "execution_count": 48,
   "id": "c0368a36",
   "metadata": {
    "ExecuteTime": {
     "end_time": "2022-07-20T18:06:07.993612Z",
     "start_time": "2022-07-20T18:06:07.973622Z"
    }
   },
   "outputs": [],
   "source": [
    "# search_for_file()"
   ]
  },
  {
   "cell_type": "code",
   "execution_count": 2,
   "id": "82dc9c8a",
   "metadata": {
    "ExecuteTime": {
     "end_time": "2022-07-06T03:24:50.349702Z",
     "start_time": "2022-07-06T03:24:50.326054Z"
    }
   },
   "outputs": [],
   "source": [
    "#TODO: fit msr to analytical model solution to the affine oscillatory model, as before, except with period fixed\n",
    "period=140 #ms\n",
    "# mean lifetime: 33.3659 +/- 0.7127 ms (N=15273, p_normal=0.5554)\n",
    "Gamma=33.4 #+/- 0.7"
   ]
  },
  {
   "cell_type": "code",
   "execution_count": 52,
   "id": "c2abd399",
   "metadata": {
    "ExecuteTime": {
     "end_time": "2022-07-06T05:28:05.885796Z",
     "start_time": "2022-07-06T05:28:05.846268Z"
    }
   },
   "outputs": [
    {
     "name": "stdout",
     "output_type": "stream",
     "text": [
      "found 324 files comparable to /home/timothytyree/Documents/GitHub/care/notebooks/Data/initial-conditions-fk-200x200/param_set_8_ds_5.0_tmax_10_diffCoef_0.0005/Log/ic200x200.0.0_log.csv\n"
     ]
    }
   ],
   "source": [
    "input_dir='/home/timothytyree/Documents/GitHub/care/notebooks/Data/initial-conditions-fk-200x200/param_set_8_ds_5.0_tmax_10_diffCoef_0.0005/Log/ic200x200.0.1_log.csv'\n",
    "input_folder=os.path.dirname(input_dir)\n",
    "fn_lst=[os.path.join(input_folder,x) for x in sorted(os.listdir(input_folder)) if x.find('_log.csv')!=-1]\n",
    "print(f\"found {len(fn_lst)} files comparable to {fn_lst[0]}\")\n"
   ]
  },
  {
   "cell_type": "code",
   "execution_count": null,
   "id": "26e279e5",
   "metadata": {},
   "outputs": [],
   "source": []
  }
 ],
 "metadata": {
  "kernelspec": {
   "display_name": "Python 3 (ipykernel)",
   "language": "python",
   "name": "python3"
  },
  "language_info": {
   "codemirror_mode": {
    "name": "ipython",
    "version": 3
   },
   "file_extension": ".py",
   "mimetype": "text/x-python",
   "name": "python",
   "nbconvert_exporter": "python",
   "pygments_lexer": "ipython3",
   "version": "3.9.13"
  },
  "toc": {
   "base_numbering": 1,
   "nav_menu": {},
   "number_sections": true,
   "sideBar": true,
   "skip_h1_title": false,
   "title_cell": "Table of Contents",
   "title_sidebar": "Contents",
   "toc_cell": false,
   "toc_position": {},
   "toc_section_display": true,
   "toc_window_display": false
  },
  "varInspector": {
   "cols": {
    "lenName": 16,
    "lenType": 16,
    "lenVar": 40
   },
   "kernels_config": {
    "python": {
     "delete_cmd_postfix": "",
     "delete_cmd_prefix": "del ",
     "library": "var_list.py",
     "varRefreshCmd": "print(var_dic_list())"
    },
    "r": {
     "delete_cmd_postfix": ") ",
     "delete_cmd_prefix": "rm(",
     "library": "var_list.r",
     "varRefreshCmd": "cat(var_dic_list()) "
    }
   },
   "types_to_exclude": [
    "module",
    "function",
    "builtin_function_or_method",
    "instance",
    "_Feature"
   ],
   "window_display": false
  }
 },
 "nbformat": 4,
 "nbformat_minor": 5
}
