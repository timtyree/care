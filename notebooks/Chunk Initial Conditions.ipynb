{
 "cells": [
  {
   "cell_type": "markdown",
   "metadata": {},
   "source": [
    "# Chunk Initial Conditions\n",
    "Tim Tyree<br>\n",
    "8.13.2020"
   ]
  },
  {
   "cell_type": "markdown",
   "metadata": {},
   "source": [
    "- DONE: use dask to do a run a trivial function with 8 workers an an array of string input that returns True\n",
    "- DONE: get a list of files to operate on\n",
    "- DONE: clean up messy stuff left in my folder structure \n",
    "- DONE: for the first of ^that list, functionally chunk it into ninths using chunk_600x600_into_ninths(txt,file_name, save_folder)\n",
    "- TODO: run dask on to create my ic's"
   ]
  },
  {
   "cell_type": "code",
   "execution_count": 9,
   "metadata": {
    "ExecuteTime": {
     "end_time": "2020-08-13T21:43:44.878027Z",
     "start_time": "2020-08-13T21:43:44.844005Z"
    }
   },
   "outputs": [
    {
     "name": "stdout",
     "output_type": "stream",
     "text": [
      "Automatic calling is: Smart\n",
      "The autoreload extension is already loaded. To reload it, use:\n",
      "  %reload_ext autoreload\n"
     ]
    }
   ],
   "source": [
    "#pylab\n",
    "%matplotlib inline\n",
    "import numpy as np, pandas as pd, matplotlib.pyplot as plt\n",
    "# from pylab import imshow, show\n",
    "import time\n",
    "# import skimage as sk\n",
    "# from skimage import measure, filters\n",
    "\n",
    "# import matplotlib.pyplot as plt, numpy as np, os\n",
    "# from numba import njit, jit, vectorize\n",
    "# from PIL import Image\n",
    "# import imageio\n",
    "\n",
    "#automate the boring stuff\n",
    "from IPython import utils\n",
    "import time, os, sys, re\n",
    "beep = lambda x: os.system(\"echo -n '\\\\a';sleep 0.2;\" * x)\n",
    "if not 'nb_dir' in globals():\n",
    "    nb_dir = os.getcwd()\n",
    "\n",
    "import dask.bag as db\n",
    "from lib.chunk_ic import chunk_600x600_from_fn\n",
    "\n",
    "#load the libraries\n",
    "from lib import *\n",
    "\n",
    "%autocall 1\n",
    "%load_ext autoreload\n",
    "%autoreload 2"
   ]
  },
  {
   "cell_type": "markdown",
   "metadata": {},
   "source": [
    "# Goal: use dask to do a run a trivial function with 8 workers an an array of string input that returns True"
   ]
  },
  {
   "cell_type": "markdown",
   "metadata": {
    "heading_collapsed": true
   },
   "source": [
    "## dev initial dask bag use"
   ]
  },
  {
   "cell_type": "code",
   "execution_count": 27,
   "metadata": {
    "ExecuteTime": {
     "end_time": "2020-08-13T21:16:27.357516Z",
     "start_time": "2020-08-13T21:16:27.329541Z"
    },
    "hidden": true
   },
   "outputs": [],
   "source": [
    "from lib.chunk_ic import chunk_600x600_into_ninths, load_fortran, parse_input_fn"
   ]
  },
  {
   "cell_type": "code",
   "execution_count": 18,
   "metadata": {
    "ExecuteTime": {
     "end_time": "2020-08-13T21:06:06.230773Z",
     "start_time": "2020-08-13T21:06:06.084253Z"
    },
    "hidden": true
   },
   "outputs": [],
   "source": [
    "import dask\n",
    "# !pip install \"dask[bag]\" --upgrade\n",
    "import dask.bag as db"
   ]
  },
  {
   "cell_type": "code",
   "execution_count": 21,
   "metadata": {
    "ExecuteTime": {
     "end_time": "2020-08-13T21:11:47.187737Z",
     "start_time": "2020-08-13T21:11:38.512464Z"
    },
    "hidden": true
   },
   "outputs": [
    {
     "name": "stdout",
     "output_type": "stream",
     "text": [
      "please select a file from within the desired folder.\n",
      "File: /Users/timothytyree/Documents/GitHub/care/notebooks/Data/initial-conditions-suite-1/ic-wj/ic_600x600.122\n"
     ]
    }
   ],
   "source": [
    "#find file interactively\n",
    "print(\"please select a file from within the desired folder.\")\n",
    "file = search_for_file()\n",
    "\n",
    "#get a list of all files\n",
    "#change to the directory containing file\n",
    "folder_name = os.path.dirname(file)\n",
    "os.chdir(folder_name)\n",
    "\n",
    "#find folder interactively. Crashes jupyter's root kernel :(\n",
    "# from tkinter import Tk\n",
    "# from tkinter.filedialog import askdirectory\n",
    "# path = askdirectory(title='Select Folder') # shows dialog box and return the path\n",
    "# print(path) "
   ]
  },
  {
   "cell_type": "code",
   "execution_count": 22,
   "metadata": {
    "ExecuteTime": {
     "end_time": "2020-08-13T21:12:17.882101Z",
     "start_time": "2020-08-13T21:12:17.795554Z"
    },
    "hidden": true
   },
   "outputs": [],
   "source": [
    "# get all .csv files in the current working directory\n",
    "retval = !ls\n",
    "file_name_list = list(retval)\n",
    "# check each file if it ends in .csv before merging it\n",
    "def is_csv(file_name):\n",
    "    return file_name[-4:]=='.csv'\n",
    "file_name_list = [f for f in file_name_list if not is_csv(f)]\n",
    "cwd = os.getcwd()\n",
    "input_fn_list = [cwd+fn for fn in file_name_list]"
   ]
  },
  {
   "cell_type": "code",
   "execution_count": 34,
   "metadata": {
    "ExecuteTime": {
     "end_time": "2020-08-13T21:18:52.688808Z",
     "start_time": "2020-08-13T21:18:52.664593Z"
    },
    "hidden": true
   },
   "outputs": [],
   "source": []
  },
  {
   "cell_type": "code",
   "execution_count": 37,
   "metadata": {
    "ExecuteTime": {
     "end_time": "2020-08-13T21:19:49.396329Z",
     "start_time": "2020-08-13T21:19:48.989714Z"
    },
    "hidden": true
   },
   "outputs": [],
   "source": [
    "# use Dask Bag to load your data. This parallelizes the loading step and reduces inter-worker communication:\n",
    "# triv = lambda object:object\n",
    "# load_from_filename = triv\n",
    "load_from_filename = load_fortran\n",
    "b = db.from_sequence(input_fn_list).map(load_from_filename)\n",
    "# b = b.map(triv)\n",
    "retval = list(b)"
   ]
  },
  {
   "cell_type": "code",
   "execution_count": null,
   "metadata": {
    "hidden": true
   },
   "outputs": [],
   "source": [
    "# result = b.compute()\n",
    "# result = list(b)\n",
    "# b.to_textfiles('/path/to/data/*.json.gz')"
   ]
  },
  {
   "cell_type": "code",
   "execution_count": null,
   "metadata": {
    "ExecuteTime": {
     "end_time": "2020-08-13T21:16:42.957720Z",
     "start_time": "2020-08-13T21:16:42.931823Z"
    },
    "hidden": true
   },
   "outputs": [],
   "source": [
    "# use Dask Bag to load your data. This parallelizes the loading step and reduces inter-worker communication:\n",
    "# triv = lambda object:object\n",
    "# load_from_filename = triv\n",
    "load_from_filename = load_fortran\n",
    "b = db.from_sequence(input_fn_list).map(load_from_filename)\n",
    "# b = b.map(triv)\n",
    "retval = list(b)"
   ]
  },
  {
   "cell_type": "markdown",
   "metadata": {
    "heading_collapsed": true
   },
   "source": [
    "## for the first of ^that list, functionally chunk it into ninths \n",
    "using chunk_600x600_into_ninths(txt,file_name, save_folder)"
   ]
  },
  {
   "cell_type": "code",
   "execution_count": 41,
   "metadata": {
    "ExecuteTime": {
     "end_time": "2020-08-13T21:23:26.585523Z",
     "start_time": "2020-08-13T21:23:26.562185Z"
    },
    "hidden": true
   },
   "outputs": [],
   "source": [
    "input_fn = '/Users/timothytyree/Documents/GitHub/care/notebooks/Data/initial-conditions-suite-1/ic-wj/ic_600x600.122'"
   ]
  },
  {
   "cell_type": "code",
   "execution_count": 48,
   "metadata": {
    "ExecuteTime": {
     "end_time": "2020-08-13T21:25:54.772434Z",
     "start_time": "2020-08-13T21:25:54.751283Z"
    },
    "hidden": true
   },
   "outputs": [],
   "source": [
    "from dask.delayed import delayed\n"
   ]
  },
  {
   "cell_type": "code",
   "execution_count": 55,
   "metadata": {
    "ExecuteTime": {
     "end_time": "2020-08-13T21:27:59.619275Z",
     "start_time": "2020-08-13T21:27:59.594006Z"
    },
    "hidden": true
   },
   "outputs": [],
   "source": [
    "#use the loading protocol on one file\n",
    "# d = delayed(load_fortran)(input_fn)"
   ]
  },
  {
   "cell_type": "code",
   "execution_count": 6,
   "metadata": {
    "ExecuteTime": {
     "end_time": "2020-08-13T21:42:01.107760Z",
     "start_time": "2020-08-13T21:42:01.079774Z"
    },
    "hidden": true
   },
   "outputs": [],
   "source": [
    "def chunk_from_fn(input_fn):\n",
    "    arr = load_fortran(input_fn)\n",
    "    file_name, input_folder, output_folder, tmp_folder = parse_input_fn(input_fn)\n",
    "    chunk_600x600_into_ninths(txt=arr,\n",
    "                              file_name=file_name.replace('600','200'),\n",
    "                              save_folder=output_folder\n",
    "                             )\n",
    "    print(f'done with {input_fn}!')\n",
    "    return True"
   ]
  },
  {
   "cell_type": "code",
   "execution_count": 60,
   "metadata": {
    "ExecuteTime": {
     "end_time": "2020-08-13T21:31:50.891327Z",
     "start_time": "2020-08-13T21:31:47.353167Z"
    },
    "hidden": true
   },
   "outputs": [
    {
     "data": {
      "text/plain": [
       "True"
      ]
     },
     "execution_count": 60,
     "metadata": {},
     "output_type": "execute_result"
    }
   ],
   "source": [
    "chunk_from_fn(input_fn)"
   ]
  },
  {
   "cell_type": "markdown",
   "metadata": {},
   "source": [
    "# fill ic-in with ic-wj chunked into ninths"
   ]
  },
  {
   "cell_type": "code",
   "execution_count": 7,
   "metadata": {
    "ExecuteTime": {
     "end_time": "2020-08-13T21:42:52.366511Z",
     "start_time": "2020-08-13T21:42:44.077343Z"
    }
   },
   "outputs": [
    {
     "name": "stdout",
     "output_type": "stream",
     "text": [
      "please select a file from within the desired folder.\n",
      "File: /Users/timothytyree/Documents/GitHub/care/notebooks/Data/initial-conditions-suite-1/ic-wj/ic_600x600.121\n"
     ]
    }
   ],
   "source": [
    "# get input_fn_list interactively\n",
    "#find file interactively\n",
    "print(\"please select a file from within the desired folder.\")\n",
    "file = search_for_file()\n",
    "\n",
    "#get a list of all files\n",
    "#change to the directory containing file\n",
    "folder_name = os.path.dirname(file)\n",
    "os.chdir(folder_name)"
   ]
  },
  {
   "cell_type": "code",
   "execution_count": 13,
   "metadata": {
    "ExecuteTime": {
     "end_time": "2020-08-13T21:45:14.988366Z",
     "start_time": "2020-08-13T21:45:14.927748Z"
    }
   },
   "outputs": [],
   "source": [
    "# get all ic files that are in the current working directory that are not .csv's\n",
    "retval = !ls\n",
    "file_name_list = list(retval)\n",
    "# check each file if it ends in .csv before merging it\n",
    "def is_csv(file_name):\n",
    "    return file_name[-4:]=='.csv'\n",
    "file_name_list = [f for f in file_name_list if not is_csv(f)]\n",
    "cwd = os.getcwd()\n",
    "input_fn_list = ['/'.join((cwd,fn)) for fn in file_name_list]"
   ]
  },
  {
   "cell_type": "code",
   "execution_count": null,
   "metadata": {
    "ExecuteTime": {
     "end_time": "2020-08-13T21:45:07.751954Z",
     "start_time": "2020-08-13T21:45:07.726006Z"
    }
   },
   "outputs": [],
   "source": [
    "# def chunk_600x600_from_fn(input_fn):\n",
    "# \tinput_fn = os.path.abspath(input_fn)\n",
    "# \tarr = load_fortran(input_fn)\n",
    "# \tfile_name, input_folder, output_folder, tmp_folder = parse_input_fn(input_fn)\n",
    "# \tchunk_600x600_into_ninths(txt=arr,\n",
    "# \t\t\t\t\t\t\t  file_name=file_name.replace('600','200'),\n",
    "# \t\t\t\t\t\t\t  save_folder=output_folder\n",
    "# \t\t\t\t\t\t\t )\n",
    "# \tprint(f'done chunking {input_fn}!')\n",
    "# \treturn True"
   ]
  },
  {
   "cell_type": "code",
   "execution_count": 14,
   "metadata": {
    "ExecuteTime": {
     "end_time": "2020-08-13T21:45:42.734184Z",
     "start_time": "2020-08-13T21:45:19.499023Z"
    }
   },
   "outputs": [
    {
     "name": "stdout",
     "output_type": "stream",
     "text": [
      "run time for chunking: 23.21 [seconds?]\n"
     ]
    }
   ],
   "source": [
    "start = time.time()\n",
    "b = db.from_sequence(input_fn_list).map(chunk_600x600_from_fn)\n",
    "retval = list(b)\n",
    "print(f\"run time for chunking: {time.time()-start:.2f} [seconds?]\")"
   ]
  },
  {
   "cell_type": "code",
   "execution_count": null,
   "metadata": {
    "ExecuteTime": {
     "end_time": "2020-08-14T16:20:56.183925Z",
     "start_time": "2020-08-14T16:20:56.124437Z"
    }
   },
   "outputs": [],
   "source": []
  },
  {
   "cell_type": "code",
   "execution_count": null,
   "metadata": {},
   "outputs": [],
   "source": []
  }
 ],
 "metadata": {
  "kernelspec": {
   "display_name": "Python 3",
   "language": "python",
   "name": "python3"
  },
  "language_info": {
   "codemirror_mode": {
    "name": "ipython",
    "version": 3
   },
   "file_extension": ".py",
   "mimetype": "text/x-python",
   "name": "python",
   "nbconvert_exporter": "python",
   "pygments_lexer": "ipython3",
   "version": "3.8.5"
  },
  "varInspector": {
   "cols": {
    "lenName": 16,
    "lenType": 16,
    "lenVar": 40
   },
   "kernels_config": {
    "python": {
     "delete_cmd_postfix": "",
     "delete_cmd_prefix": "del ",
     "library": "var_list.py",
     "varRefreshCmd": "print(var_dic_list())"
    },
    "r": {
     "delete_cmd_postfix": ") ",
     "delete_cmd_prefix": "rm(",
     "library": "var_list.r",
     "varRefreshCmd": "cat(var_dic_list()) "
    }
   },
   "types_to_exclude": [
    "module",
    "function",
    "builtin_function_or_method",
    "instance",
    "_Feature"
   ],
   "window_display": false
  }
 },
 "nbformat": 4,
 "nbformat_minor": 4
}
