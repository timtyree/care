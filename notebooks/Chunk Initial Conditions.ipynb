{
 "cells": [
  {
   "cell_type": "markdown",
   "metadata": {},
   "source": [
    "# Chunk Initial Conditions\n",
    "Tim Tyree<br>\n",
    "8.13.2020"
   ]
  },
  {
   "cell_type": "code",
   "execution_count": 20,
   "metadata": {
    "ExecuteTime": {
     "end_time": "2021-02-15T21:46:09.349019Z",
     "start_time": "2021-02-15T21:46:09.330454Z"
    }
   },
   "outputs": [
    {
     "name": "stdout",
     "output_type": "stream",
     "text": [
      "Automatic calling is: Smart\n",
      "The autoreload extension is already loaded. To reload it, use:\n",
      "  %reload_ext autoreload\n"
     ]
    }
   ],
   "source": [
    "from lib.my_initialization import *\n",
    "from lib.routines.chunk_ic import *\n",
    "# from lib.controller.controller_LR import get_one_step_explicit_synchronous_splitting\n",
    "# from lib.model.LR_model import *\n",
    "# from lib.utils.utils_traj import *\n",
    "# from lib.routines.bdrates import *\n",
    "# from lib.measure.utils_measure_tips_cpu import *\n",
    "# from lib.utils.stack_txt_LR import *\n",
    "from lib.viewer import *\n",
    "import trackpy\n",
    "from lib import *\n",
    "%autocall 1\n",
    "%load_ext autoreload\n",
    "%autoreload 2"
   ]
  },
  {
   "cell_type": "markdown",
   "metadata": {
    "heading_collapsed": true
   },
   "source": [
    "# Goal: use dask to do a run a trivial function with 8 workers an an array of string input that returns True"
   ]
  },
  {
   "cell_type": "code",
   "execution_count": 2,
   "metadata": {
    "ExecuteTime": {
     "end_time": "2021-01-21T21:08:36.905543Z",
     "start_time": "2021-01-21T21:08:36.903172Z"
    },
    "hidden": true
   },
   "outputs": [],
   "source": [
    "# #pylab\n",
    "# %matplotlib inline\n",
    "# import numpy as np, pandas as pd, matplotlib.pyplot as plt\n",
    "# # from pylab import imshow, show\n",
    "# import time\n",
    "# # import skimage as sk\n",
    "# # from skimage import measure, filters\n",
    "\n",
    "# # import matplotlib.pyplot as plt, numpy as np, os\n",
    "# # from numba import njit, jit, vectorize\n",
    "# # from PIL import Image\n",
    "# # import imageio\n",
    "\n",
    "# #automate the boring stuff\n",
    "# from IPython import utils\n",
    "# import time, os, sys, re\n",
    "# beep = lambda x: os.system(\"echo -n '\\\\a';sleep 0.2;\" * x)\n",
    "# if not 'nb_dir' in globals():\n",
    "#     nb_dir = os.getcwd()\n",
    "\n",
    "# import dask.bag as db\n",
    "# from lib.chunk_ic import chunk_600x600_from_fn\n",
    "\n",
    "# #load the libraries\n",
    "# from lib import *\n",
    "\n",
    "# %autocall 1\n",
    "# %load_ext autoreload\n",
    "# %autoreload 2"
   ]
  },
  {
   "cell_type": "markdown",
   "metadata": {
    "heading_collapsed": true,
    "hidden": true
   },
   "source": [
    "## dev initial dask bag use"
   ]
  },
  {
   "cell_type": "code",
   "execution_count": 27,
   "metadata": {
    "ExecuteTime": {
     "end_time": "2020-08-13T21:16:27.357516Z",
     "start_time": "2020-08-13T21:16:27.329541Z"
    },
    "hidden": true
   },
   "outputs": [],
   "source": [
    "from lib.chunk_ic import chunk_600x600_into_ninths, load_fortran, parse_input_fn"
   ]
  },
  {
   "cell_type": "code",
   "execution_count": 18,
   "metadata": {
    "ExecuteTime": {
     "end_time": "2020-08-13T21:06:06.230773Z",
     "start_time": "2020-08-13T21:06:06.084253Z"
    },
    "hidden": true
   },
   "outputs": [],
   "source": [
    "import dask\n",
    "# !pip install \"dask[bag]\" --upgrade\n",
    "import dask.bag as db"
   ]
  },
  {
   "cell_type": "code",
   "execution_count": 21,
   "metadata": {
    "ExecuteTime": {
     "end_time": "2020-08-13T21:11:47.187737Z",
     "start_time": "2020-08-13T21:11:38.512464Z"
    },
    "hidden": true
   },
   "outputs": [
    {
     "name": "stdout",
     "output_type": "stream",
     "text": [
      "please select a file from within the desired folder.\n",
      "File: /Users/timothytyree/Documents/GitHub/care/notebooks/Data/initial-conditions-suite-1/ic-wj/ic_600x600.122\n"
     ]
    }
   ],
   "source": [
    "#find file interactively\n",
    "print(\"please select a file from within the desired folder.\")\n",
    "file = search_for_file()\n",
    "\n",
    "#get a list of all files\n",
    "#change to the directory containing file\n",
    "folder_name = os.path.dirname(file)\n",
    "os.chdir(folder_name)\n",
    "\n",
    "#find folder interactively. Crashes jupyter's root kernel :(\n",
    "# from tkinter import Tk\n",
    "# from tkinter.filedialog import askdirectory\n",
    "# path = askdirectory(title='Select Folder') # shows dialog box and return the path\n",
    "# print(path) "
   ]
  },
  {
   "cell_type": "code",
   "execution_count": 22,
   "metadata": {
    "ExecuteTime": {
     "end_time": "2020-08-13T21:12:17.882101Z",
     "start_time": "2020-08-13T21:12:17.795554Z"
    },
    "hidden": true
   },
   "outputs": [],
   "source": [
    "# get all .csv files in the current working directory\n",
    "retval = !ls\n",
    "file_name_list = list(retval)\n",
    "# check each file if it ends in .csv before merging it\n",
    "def is_csv(file_name):\n",
    "    return file_name[-4:]=='.csv'\n",
    "file_name_list = [f for f in file_name_list if not is_csv(f)]\n",
    "cwd = os.getcwd()\n",
    "input_fn_list = [cwd+fn for fn in file_name_list]"
   ]
  },
  {
   "cell_type": "code",
   "execution_count": 34,
   "metadata": {
    "ExecuteTime": {
     "end_time": "2020-08-13T21:18:52.688808Z",
     "start_time": "2020-08-13T21:18:52.664593Z"
    },
    "hidden": true
   },
   "outputs": [],
   "source": []
  },
  {
   "cell_type": "code",
   "execution_count": 37,
   "metadata": {
    "ExecuteTime": {
     "end_time": "2020-08-13T21:19:49.396329Z",
     "start_time": "2020-08-13T21:19:48.989714Z"
    },
    "hidden": true
   },
   "outputs": [],
   "source": [
    "# use Dask Bag to load your data. This parallelizes the loading step and reduces inter-worker communication:\n",
    "# triv = lambda object:object\n",
    "# load_from_filename = triv\n",
    "load_from_filename = load_fortran\n",
    "b = db.from_sequence(input_fn_list).map(load_from_filename)\n",
    "# b = b.map(triv)\n",
    "retval = list(b)"
   ]
  },
  {
   "cell_type": "code",
   "execution_count": null,
   "metadata": {
    "hidden": true
   },
   "outputs": [],
   "source": [
    "# result = b.compute()\n",
    "# result = list(b)\n",
    "# b.to_textfiles('/path/to/data/*.json.gz')"
   ]
  },
  {
   "cell_type": "code",
   "execution_count": null,
   "metadata": {
    "ExecuteTime": {
     "end_time": "2020-08-13T21:16:42.957720Z",
     "start_time": "2020-08-13T21:16:42.931823Z"
    },
    "hidden": true
   },
   "outputs": [],
   "source": [
    "# use Dask Bag to load your data. This parallelizes the loading step and reduces inter-worker communication:\n",
    "# triv = lambda object:object\n",
    "# load_from_filename = triv\n",
    "load_from_filename = load_fortran\n",
    "b = db.from_sequence(input_fn_list).map(load_from_filename)\n",
    "# b = b.map(triv)\n",
    "retval = list(b)"
   ]
  },
  {
   "cell_type": "markdown",
   "metadata": {
    "heading_collapsed": true,
    "hidden": true
   },
   "source": [
    "## for the first of ^that list, functionally chunk it into ninths \n",
    "using chunk_600x600_into_ninths(txt,file_name, save_folder)"
   ]
  },
  {
   "cell_type": "code",
   "execution_count": 41,
   "metadata": {
    "ExecuteTime": {
     "end_time": "2020-08-13T21:23:26.585523Z",
     "start_time": "2020-08-13T21:23:26.562185Z"
    },
    "hidden": true
   },
   "outputs": [],
   "source": [
    "input_fn = '/Users/timothytyree/Documents/GitHub/care/notebooks/Data/initial-conditions-suite-1/ic-wj/ic_600x600.122'"
   ]
  },
  {
   "cell_type": "code",
   "execution_count": 48,
   "metadata": {
    "ExecuteTime": {
     "end_time": "2020-08-13T21:25:54.772434Z",
     "start_time": "2020-08-13T21:25:54.751283Z"
    },
    "hidden": true
   },
   "outputs": [],
   "source": [
    "from dask.delayed import delayed\n"
   ]
  },
  {
   "cell_type": "code",
   "execution_count": 55,
   "metadata": {
    "ExecuteTime": {
     "end_time": "2020-08-13T21:27:59.619275Z",
     "start_time": "2020-08-13T21:27:59.594006Z"
    },
    "hidden": true
   },
   "outputs": [],
   "source": [
    "#use the loading protocol on one file\n",
    "# d = delayed(load_fortran)(input_fn)"
   ]
  },
  {
   "cell_type": "code",
   "execution_count": 6,
   "metadata": {
    "ExecuteTime": {
     "end_time": "2020-08-13T21:42:01.107760Z",
     "start_time": "2020-08-13T21:42:01.079774Z"
    },
    "hidden": true
   },
   "outputs": [],
   "source": [
    "def chunk_from_fn(input_fn):\n",
    "    arr = load_fortran(input_fn)\n",
    "    file_name, input_folder, output_folder, tmp_folder = parse_input_fn(input_fn)\n",
    "    chunk_600x600_into_ninths(txt=arr,\n",
    "                              file_name=file_name.replace('600','200'),\n",
    "                              save_folder=output_folder\n",
    "                             )\n",
    "    print(f'done with {input_fn}!')\n",
    "    return True"
   ]
  },
  {
   "cell_type": "code",
   "execution_count": 60,
   "metadata": {
    "ExecuteTime": {
     "end_time": "2020-08-13T21:31:50.891327Z",
     "start_time": "2020-08-13T21:31:47.353167Z"
    },
    "hidden": true
   },
   "outputs": [
    {
     "data": {
      "text/plain": [
       "True"
      ]
     },
     "execution_count": 60,
     "metadata": {},
     "output_type": "execute_result"
    }
   ],
   "source": [
    "chunk_from_fn(input_fn)"
   ]
  },
  {
   "cell_type": "markdown",
   "metadata": {
    "heading_collapsed": true
   },
   "source": [
    "# fill ic-in with ic-wj chunked into ninths"
   ]
  },
  {
   "cell_type": "code",
   "execution_count": 3,
   "metadata": {
    "ExecuteTime": {
     "end_time": "2020-08-15T02:06:54.474598Z",
     "start_time": "2020-08-15T02:06:34.469053Z"
    },
    "hidden": true
   },
   "outputs": [
    {
     "name": "stdout",
     "output_type": "stream",
     "text": [
      "please select a file from within the desired folder.\n",
      "File: /home/timothytyree/Documents/GitHub/care/notebooks/Data/initial-conditions-suite-2/ic-wj/ic_600x600.004\n"
     ]
    }
   ],
   "source": [
    "# get input_fn_list interactively\n",
    "#find file interactively\n",
    "print(\"please select a file from within the desired folder.\")\n",
    "file = search_for_file()\n",
    "\n",
    "#get a list of all files\n",
    "#change to the directory containing file\n",
    "folder_name = os.path.dirname(file)\n",
    "os.chdir(folder_name)"
   ]
  },
  {
   "cell_type": "code",
   "execution_count": 4,
   "metadata": {
    "ExecuteTime": {
     "end_time": "2020-08-15T02:07:04.947660Z",
     "start_time": "2020-08-15T02:07:04.921546Z"
    },
    "hidden": true
   },
   "outputs": [],
   "source": [
    "# get all ic files that are in the current working directory that are not .csv's\n",
    "retval = !ls\n",
    "file_name_list = list(retval)\n",
    "# check each file if it ends in .csv before merging it\n",
    "def is_csv(file_name):\n",
    "    return file_name[-4:]=='.csv'\n",
    "file_name_list = [f for f in file_name_list if not is_csv(f)]\n",
    "cwd = os.getcwd()\n",
    "input_fn_list = ['/'.join((cwd,fn)) for fn in file_name_list]"
   ]
  },
  {
   "cell_type": "code",
   "execution_count": 4,
   "metadata": {
    "ExecuteTime": {
     "end_time": "2021-01-21T21:08:59.488986Z",
     "start_time": "2021-01-21T21:08:59.437108Z"
    },
    "hidden": true
   },
   "outputs": [
    {
     "ename": "NameError",
     "evalue": "name 'chunk_600x600_from_fn' is not defined",
     "output_type": "error",
     "traceback": [
      "\u001b[0;31m---------------------------------------------------------------------------\u001b[0m",
      "\u001b[0;31mNameError\u001b[0m                                 Traceback (most recent call last)",
      "\u001b[0;32m<ipython-input-4-46c85c9b4ed4>\u001b[0m in \u001b[0;36m<module>\u001b[0;34m\u001b[0m\n\u001b[1;32m      9\u001b[0m \u001b[0;31m#       print(f'done chunking {input_fn}!')\u001b[0m\u001b[0;34m\u001b[0m\u001b[0;34m\u001b[0m\u001b[0;34m\u001b[0m\u001b[0m\n\u001b[1;32m     10\u001b[0m \u001b[0;31m#       return True\u001b[0m\u001b[0;34m\u001b[0m\u001b[0;34m\u001b[0m\u001b[0;34m\u001b[0m\u001b[0m\n\u001b[0;32m---> 11\u001b[0;31m \u001b[0mchunk_600x600_from_fn\u001b[0m\u001b[0;34m\u001b[0m\u001b[0;34m\u001b[0m\u001b[0m\n\u001b[0m",
      "\u001b[0;31mNameError\u001b[0m: name 'chunk_600x600_from_fn' is not defined"
     ]
    }
   ],
   "source": [
    "# def chunk_600x600_from_fn(input_fn):\n",
    "# \tinput_fn = os.path.abspath(input_fn)\n",
    "# \tarr = load_fortran(input_fn)\n",
    "# \tfile_name, input_folder, output_folder, tmp_folder = parse_input_fn(input_fn)\n",
    "# \tchunk_600x600_into_ninths(txt=arr,\n",
    "# \t\t\t\t\t\t\t  file_name=file_name.replace('600','200'),\n",
    "# \t\t\t\t\t\t\t  save_folder=output_folder\n",
    "# \t\t\t\t\t\t\t )\n",
    "# \tprint(f'done chunking {input_fn}!')\n",
    "# \treturn True"
   ]
  },
  {
   "cell_type": "code",
   "execution_count": 5,
   "metadata": {
    "ExecuteTime": {
     "end_time": "2020-08-15T02:09:03.574124Z",
     "start_time": "2020-08-15T02:08:55.686885Z"
    },
    "hidden": true
   },
   "outputs": [
    {
     "name": "stdout",
     "output_type": "stream",
     "text": [
      "done chunking /home/timothytyree/Documents/GitHub/care/notebooks/Data/initial-conditions-suite-2/ic-wj/ic_600x600.002!\n",
      "done chunking /home/timothytyree/Documents/GitHub/care/notebooks/Data/initial-conditions-suite-2/ic-wj/ic_600x600.010!\n",
      "done chunking /home/timothytyree/Documents/GitHub/care/notebooks/Data/initial-conditions-suite-2/ic-wj/ic_600x600.007!\n",
      "done chunking /home/timothytyree/Documents/GitHub/care/notebooks/Data/initial-conditions-suite-2/ic-wj/ic_600x600.012!\n",
      "done chunking /home/timothytyree/Documents/GitHub/care/notebooks/Data/initial-conditions-suite-2/ic-wj/ic_600x600.003!\n",
      "done chunking /home/timothytyree/Documents/GitHub/care/notebooks/Data/initial-conditions-suite-2/ic-wj/ic_600x600.006!\n",
      "done chunking /home/timothytyree/Documents/GitHub/care/notebooks/Data/initial-conditions-suite-2/ic-wj/ic_600x600.008!\n",
      "done chunking /home/timothytyree/Documents/GitHub/care/notebooks/Data/initial-conditions-suite-2/ic-wj/ic_600x600.001!\n",
      "done chunking /home/timothytyree/Documents/GitHub/care/notebooks/Data/initial-conditions-suite-2/ic-wj/ic_600x600.005!\n",
      "done chunking /home/timothytyree/Documents/GitHub/care/notebooks/Data/initial-conditions-suite-2/ic-wj/ic_600x600.011!\n",
      "done chunking /home/timothytyree/Documents/GitHub/care/notebooks/Data/initial-conditions-suite-2/ic-wj/ic_600x600.004!\n",
      "done chunking /home/timothytyree/Documents/GitHub/care/notebooks/Data/initial-conditions-suite-2/ic-wj/ic_600x600.009!\n",
      "done chunking /home/timothytyree/Documents/GitHub/care/notebooks/Data/initial-conditions-suite-2/ic-wj/ic_600x600.019!\n",
      "done chunking /home/timothytyree/Documents/GitHub/care/notebooks/Data/initial-conditions-suite-2/ic-wj/ic_600x600.015!\n",
      "done chunking /home/timothytyree/Documents/GitHub/care/notebooks/Data/initial-conditions-suite-2/ic-wj/ic_600x600.017!\n",
      "done chunking /home/timothytyree/Documents/GitHub/care/notebooks/Data/initial-conditions-suite-2/ic-wj/ic_600x600.018!\n",
      "done chunking /home/timothytyree/Documents/GitHub/care/notebooks/Data/initial-conditions-suite-2/ic-wj/ic_600x600.016!\n",
      "done chunking /home/timothytyree/Documents/GitHub/care/notebooks/Data/initial-conditions-suite-2/ic-wj/ic_600x600.013!\n",
      "done chunking /home/timothytyree/Documents/GitHub/care/notebooks/Data/initial-conditions-suite-2/ic-wj/ic_600x600.014!\n",
      "run time for chunking: 7.87 [seconds?]\n"
     ]
    }
   ],
   "source": [
    "start = time.time()\n",
    "b = db.from_sequence(input_fn_list).map(chunk_600x600_from_fn)\n",
    "retval = list(b)\n",
    "print(f\"run time for chunking: {time.time()-start:.2f} [seconds?]\")"
   ]
  },
  {
   "cell_type": "markdown",
   "metadata": {
    "ExecuteTime": {
     "end_time": "2020-08-14T16:20:56.183925Z",
     "start_time": "2020-08-14T16:20:56.124437Z"
    },
    "heading_collapsed": true
   },
   "source": [
    "# chunk my 1800x1800 initial conditions into ninths"
   ]
  },
  {
   "cell_type": "markdown",
   "metadata": {
    "hidden": true
   },
   "source": [
    "part .12 was gotten from, for example, txt[200:400,0:200]\n",
    "\n",
    "this indicates the first column and the second row"
   ]
  },
  {
   "cell_type": "code",
   "execution_count": 33,
   "metadata": {
    "ExecuteTime": {
     "end_time": "2021-01-21T22:06:21.130468Z",
     "start_time": "2021-01-21T22:06:21.078974Z"
    },
    "hidden": true
   },
   "outputs": [],
   "source": [
    "from lib.viewer.TexturePlot import *\n",
    "from lib.routines.chunk_ic import *"
   ]
  },
  {
   "cell_type": "code",
   "execution_count": 42,
   "metadata": {
    "ExecuteTime": {
     "end_time": "2021-01-21T22:12:39.219203Z",
     "start_time": "2021-01-21T22:12:39.178899Z"
    },
    "hidden": true
   },
   "outputs": [],
   "source": [
    "folder_name=f\"{nb_dir}/Data/initial-conditions-suite-3-LR\"\n",
    "os.chdir(folder_name)"
   ]
  },
  {
   "cell_type": "code",
   "execution_count": 43,
   "metadata": {
    "ExecuteTime": {
     "end_time": "2021-01-21T22:12:42.588245Z",
     "start_time": "2021-01-21T22:12:42.519044Z"
    },
    "hidden": true
   },
   "outputs": [
    {
     "data": {
      "text/plain": [
       "['ic1800x1800_t_1210.npz', 'ic1800x1800_t_2830.npz']"
      ]
     },
     "execution_count": 43,
     "metadata": {},
     "output_type": "execute_result"
    }
   ],
   "source": [
    "#get the list of all input 1800x1800 frames\n",
    "txt_fn_lst=!ls ic1800x1800_tt\n",
    "txt_fn_lst"
   ]
  },
  {
   "cell_type": "code",
   "execution_count": 47,
   "metadata": {
    "ExecuteTime": {
     "end_time": "2021-01-21T22:15:59.195446Z",
     "start_time": "2021-01-21T22:15:59.144456Z"
    },
    "hidden": true
   },
   "outputs": [],
   "source": [
    "# #DONE: verified that each input texture is not stimulated by a semicircle \n",
    "# and verified that the initial translational symmetry from 3x3 tiling has died out\n",
    "# txt=load_buffer('ic1800x1800_tt/'+txt_fn_lst[0])[0]\n",
    "# fig=show_buffer_LR(txt.astype('float32'))\n",
    "# plt.show()"
   ]
  },
  {
   "cell_type": "markdown",
   "metadata": {
    "hidden": true
   },
   "source": [
    "arr[0,1] gives the 0th row and the 1st column"
   ]
  },
  {
   "cell_type": "code",
   "execution_count": 48,
   "metadata": {
    "ExecuteTime": {
     "end_time": "2021-01-21T22:16:26.198146Z",
     "start_time": "2021-01-21T22:16:00.204838Z"
    },
    "hidden": true
   },
   "outputs": [
    {
     "name": "stdout",
     "output_type": "stream",
     "text": [
      "chunked ic1800x1800_t_1210.npz\n",
      "chunked ic1800x1800_t_2830.npz\n"
     ]
    }
   ],
   "source": [
    "count=0\n",
    "save_folder='ic-tt'\n",
    "for txt_fn in txt_fn_lst:\n",
    "    txt_in=load_buffer('ic1800x1800_tt/'+txt_fn)[0]\n",
    "    count=chunk_1800x1800_into_ninths_npz(txt_in, save_folder,count,typeout='float64')\n",
    "    print(f'chunked {txt_fn}')"
   ]
  },
  {
   "cell_type": "code",
   "execution_count": 49,
   "metadata": {
    "ExecuteTime": {
     "end_time": "2021-01-21T22:16:28.929771Z",
     "start_time": "2021-01-21T22:16:28.147189Z"
    },
    "hidden": true
   },
   "outputs": [
    {
     "name": "stdout",
     "output_type": "stream",
     "text": [
      "20\n",
      "ic001.npz ic004.npz ic007.npz ic010.npz ic013.npz ic016.npz ic019.npz\r\n",
      "ic002.npz ic005.npz ic008.npz ic011.npz ic014.npz ic017.npz\r\n",
      "ic003.npz ic006.npz ic009.npz ic012.npz ic015.npz ic018.npz\r\n"
     ]
    }
   ],
   "source": [
    "beep(3)\n",
    "print(count)\n",
    "!ls ic-tt"
   ]
  },
  {
   "cell_type": "code",
   "execution_count": 56,
   "metadata": {
    "ExecuteTime": {
     "end_time": "2021-01-21T22:22:17.053110Z",
     "start_time": "2021-01-21T22:22:17.002533Z"
    },
    "hidden": true
   },
   "outputs": [
    {
     "data": {
      "text/plain": [
       "19"
      ]
     },
     "execution_count": 56,
     "metadata": {},
     "output_type": "execute_result"
    }
   ],
   "source": [
    "os.chdir(folder_name)\n",
    "os.chdir('ic-tt')\n",
    "ic_fn_lst=get_all_files_matching_pattern(os.path.abspath('ic001.npz'), trgt='.npz')\n",
    "len(ic_fn_lst)"
   ]
  },
  {
   "cell_type": "code",
   "execution_count": 60,
   "metadata": {
    "ExecuteTime": {
     "end_time": "2021-01-21T22:24:45.482157Z",
     "start_time": "2021-01-21T22:24:45.434148Z"
    },
    "hidden": true
   },
   "outputs": [],
   "source": [
    "#chunk ic-tt to ic-in\n",
    "def routine(input_file_name):\n",
    "    txt_in=load_buffer(input_file_name)\n",
    "    retval=chunk_600x600_into_ninths_npz(txt_in, input_file_name, save_folder='ic-in',typeout='float32')\n",
    "    return txt_in.shape"
   ]
  },
  {
   "cell_type": "code",
   "execution_count": 61,
   "metadata": {
    "ExecuteTime": {
     "end_time": "2021-01-21T22:24:57.623330Z",
     "start_time": "2021-01-21T22:24:47.513051Z"
    },
    "hidden": true
   },
   "outputs": [
    {
     "name": "stdout",
     "output_type": "stream",
     "text": [
      "the run time for chunking was 10.06 seconds.\n"
     ]
    }
   ],
   "source": [
    "os.chdir(folder_name)\n",
    "start = time.time()\n",
    "b = db.from_sequence(ic_fn_lst).map(routine)\n",
    "retval = list(b)\n",
    "print(f\"the run time for chunking was {time.time()-start:.2f} seconds.\")"
   ]
  },
  {
   "cell_type": "code",
   "execution_count": 63,
   "metadata": {
    "ExecuteTime": {
     "end_time": "2021-01-21T22:25:03.335070Z",
     "start_time": "2021-01-21T22:25:03.274581Z"
    },
    "hidden": true
   },
   "outputs": [
    {
     "data": {
      "text/plain": [
       "(600, 600, 18)"
      ]
     },
     "execution_count": 63,
     "metadata": {},
     "output_type": "execute_result"
    }
   ],
   "source": [
    "retval[0]"
   ]
  },
  {
   "cell_type": "markdown",
   "metadata": {
    "heading_collapsed": true
   },
   "source": [
    "# defined a generalized chunk function"
   ]
  },
  {
   "cell_type": "code",
   "execution_count": 42,
   "metadata": {
    "ExecuteTime": {
     "end_time": "2021-01-27T01:15:48.861873Z",
     "start_time": "2021-01-27T01:15:48.803812Z"
    },
    "hidden": true
   },
   "outputs": [],
   "source": [
    "# from inspect import getsource\n",
    "# print ( getsource ( chunk_1800x1800_into_ninths_npz))"
   ]
  },
  {
   "cell_type": "code",
   "execution_count": 43,
   "metadata": {
    "ExecuteTime": {
     "end_time": "2021-01-27T01:15:50.893457Z",
     "start_time": "2021-01-27T01:15:50.835057Z"
    },
    "hidden": true
   },
   "outputs": [],
   "source": [
    "# def chunk_array(txt_in,width_out,height_out,typeout='float64'):\n",
    "#     '''returns txt_out_lst\n",
    "#     suppose file_name is a bare string with the extension  \".npz\"\n",
    "#     suppose txt_in is a numpy array that is (1800,1800,The_Rest)\n",
    "#     count is the ic number of the most recent ic00X file saved (increments by 1 before saving).\n",
    "#     '''    \n",
    "#     width_in,height_in=txt_in.shape[:2]\n",
    "#     txt_out_lst=[]\n",
    "#     x=0;y=0;\n",
    "#     x_lst=list(range(0,width_in-width_out,width_out))\n",
    "#     y_lst=list(range(0,width_in-width_out,width_out))\n",
    "#     for x in x_lst:\n",
    "#         for y in y_lst:\n",
    "#             arr=txt_in[x:x+width_out,y:y+height_out]\n",
    "#             txt_out_lst.append(arr.astype(typeout))\n",
    "#     return txt_out_lst "
   ]
  },
  {
   "cell_type": "code",
   "execution_count": 44,
   "metadata": {
    "ExecuteTime": {
     "end_time": "2021-01-27T01:15:53.724523Z",
     "start_time": "2021-01-27T01:15:53.667256Z"
    },
    "hidden": true
   },
   "outputs": [
    {
     "data": {
      "text/plain": [
       "9"
      ]
     },
     "execution_count": 44,
     "metadata": {},
     "output_type": "execute_result"
    }
   ],
   "source": [
    "width_in=500;height_in=500;chnlno=2\n",
    "shape=(width_in,height_in,chnlno)\n",
    "txt_in=np.zeros(shape,dtype=np.float64)\n",
    "\n",
    "txt_out_lst= chunk_array(txt_in,width_out,height_out,typeout='float64')\n",
    "len(txt_out_lst)"
   ]
  },
  {
   "cell_type": "code",
   "execution_count": 54,
   "metadata": {
    "ExecuteTime": {
     "end_time": "2021-01-27T01:44:09.048563Z",
     "start_time": "2021-01-27T01:44:09.002400Z"
    },
    "hidden": true
   },
   "outputs": [],
   "source": [
    "def make_directories(input_dir):\n",
    "    '''make f\"{worker_dir}/wlib/\" or /tmp/ be the absolute directory of the input'''\n",
    "    worker_dir=os.path.abspath(input_dir+'/worker')\n",
    "    if not os.path.exists(worker_dir):\n",
    "        os.mkdir(worker_dir)\n",
    "    wlib_dir=os.path.abspath(worker_dir+'/wlib')\n",
    "    if not os.path.exists(wlib_dir):\n",
    "        os.mkdir(wlib_dir)\n",
    "    log_dir=os.path.abspath(worker_dir+'/log')\n",
    "    if not os.path.exists(log_dir):\n",
    "        os.mkdir(log_dir)\n",
    "    ic_dir=os.path.abspath(worker_dir+'/ic')\n",
    "    if not os.path.exists(ic_dir):\n",
    "        os.mkdir(ic_dir)\n",
    "input_dir=nb_dir\n",
    "# make_directories(input_dir)\n",
    "worker_dir=os.path.abspath(input_dir+'/worker')\n",
    "if not os.path.exists(worker_dir):\n",
    "    os.mkdir(worker_dir)\n",
    "wlib_dir=os.path.abspath(worker_dir+'/wlib')\n",
    "if not os.path.exists(wlib_dir):\n",
    "    os.mkdir(wlib_dir)\n",
    "log_dir=os.path.abspath(worker_dir+'/log')\n",
    "if not os.path.exists(log_dir):\n",
    "    os.mkdir(log_dir)\n",
    "ic_dir=os.path.abspath(worker_dir+'/ic')\n",
    "if not os.path.exists(ic_dir):\n",
    "    os.mkdir(ic_dir)"
   ]
  },
  {
   "cell_type": "code",
   "execution_count": 55,
   "metadata": {
    "ExecuteTime": {
     "end_time": "2021-01-27T01:44:12.880893Z",
     "start_time": "2021-01-27T01:44:12.821196Z"
    },
    "hidden": true
   },
   "outputs": [],
   "source": [
    "#save txt_out_lst as single .npz\n",
    "# txt_out_lst)\n",
    "os.chdir(ic_dir)\n",
    "file='test.npz'\n",
    "np.savez_compressed(file,txt_out_lst)"
   ]
  },
  {
   "cell_type": "code",
   "execution_count": 78,
   "metadata": {
    "ExecuteTime": {
     "end_time": "2021-01-27T01:50:13.849284Z",
     "start_time": "2021-01-27T01:50:13.806170Z"
    },
    "hidden": true
   },
   "outputs": [],
   "source": [
    "# load_buffer(file).shape"
   ]
  },
  {
   "cell_type": "code",
   "execution_count": 95,
   "metadata": {
    "ExecuteTime": {
     "end_time": "2021-01-27T01:59:40.313619Z",
     "start_time": "2021-01-27T01:59:40.264256Z"
    },
    "hidden": true
   },
   "outputs": [
    {
     "ename": "TypeError",
     "evalue": "'list' object is not callable",
     "output_type": "error",
     "traceback": [
      "\u001b[0;31m---------------------------------------------------------------------------\u001b[0m",
      "\u001b[0;31mTypeError\u001b[0m                                 Traceback (most recent call last)",
      "\u001b[0;32m<ipython-input-95-78a3b166ba63>\u001b[0m in \u001b[0;36m<module>\u001b[0;34m\u001b[0m\n\u001b[0;32m----> 1\u001b[0;31m \u001b[0mnp\u001b[0m\u001b[0;34m.\u001b[0m\u001b[0mload\u001b[0m\u001b[0;34m(\u001b[0m\u001b[0mfile\u001b[0m\u001b[0;34m)\u001b[0m\u001b[0;34m.\u001b[0m\u001b[0mfiles\u001b[0m\u001b[0;34m(\u001b[0m\u001b[0;34m)\u001b[0m\u001b[0;34m\u001b[0m\u001b[0;34m\u001b[0m\u001b[0m\n\u001b[0m",
      "\u001b[0;31mTypeError\u001b[0m: 'list' object is not callable"
     ]
    }
   ],
   "source": [
    "np.load(file)\n",
    ".files()"
   ]
  },
  {
   "cell_type": "code",
   "execution_count": 96,
   "metadata": {
    "ExecuteTime": {
     "end_time": "2021-01-27T01:59:54.242084Z",
     "start_time": "2021-01-27T01:59:54.198450Z"
    },
    "hidden": true
   },
   "outputs": [],
   "source": [
    "# with  as item:\n",
    "\n",
    "\n",
    "with np.load(file) as data:\n",
    "    a = data#[0]\n",
    "\n",
    "# with np.load(file).iteritems() as X:#, B() as Y, C() as Z:\n",
    "# #     do_something()\n",
    "#     print(X)"
   ]
  },
  {
   "cell_type": "code",
   "execution_count": 101,
   "metadata": {
    "ExecuteTime": {
     "end_time": "2021-01-27T02:00:18.542913Z",
     "start_time": "2021-01-27T02:00:18.495336Z"
    },
    "hidden": true
   },
   "outputs": [
    {
     "data": {
      "text/plain": [
       "['arr_0']"
      ]
     },
     "execution_count": 101,
     "metadata": {},
     "output_type": "execute_result"
    }
   ],
   "source": [
    "# a.files\n",
    "# a.get('arr_0')\n",
    "# a.buffer\n",
    "a.files"
   ]
  },
  {
   "cell_type": "code",
   "execution_count": 103,
   "metadata": {
    "ExecuteTime": {
     "end_time": "2021-01-27T02:00:27.029581Z",
     "start_time": "2021-01-27T02:00:26.983207Z"
    },
    "hidden": true
   },
   "outputs": [
    {
     "data": {
      "text/plain": [
       "<function lib.utils.operari.load_buffer(data_dir)>"
      ]
     },
     "execution_count": 103,
     "metadata": {},
     "output_type": "execute_result"
    }
   ],
   "source": [
    "load_buffer"
   ]
  },
  {
   "cell_type": "markdown",
   "metadata": {},
   "source": [
    "# dev generate arguments for worker"
   ]
  },
  {
   "cell_type": "code",
   "execution_count": 1,
   "metadata": {
    "ExecuteTime": {
     "end_time": "2021-01-30T02:08:24.830604Z",
     "start_time": "2021-01-30T02:08:24.827226Z"
    }
   },
   "outputs": [],
   "source": [
    "L=312\n",
    "width_in=1800;height_in=1800\n",
    "width_out=L;height_out=L"
   ]
  },
  {
   "cell_type": "code",
   "execution_count": 7,
   "metadata": {
    "ExecuteTime": {
     "end_time": "2021-01-30T02:09:21.764661Z",
     "start_time": "2021-01-30T02:09:21.761707Z"
    }
   },
   "outputs": [],
   "source": []
  },
  {
   "cell_type": "code",
   "execution_count": null,
   "metadata": {
    "ExecuteTime": {
     "end_time": "2021-01-30T05:13:58.657701Z",
     "start_time": "2021-01-30T05:13:58.653952Z"
    }
   },
   "outputs": [],
   "source": []
  },
  {
   "cell_type": "code",
   "execution_count": 136,
   "metadata": {
    "ExecuteTime": {
     "end_time": "2021-01-30T05:27:22.254195Z",
     "start_time": "2021-01-30T05:27:22.251820Z"
    }
   },
   "outputs": [],
   "source": [
    "# #inputs are to be of the form L txt_id1 txt_id2\n",
    "# # for given L,\n",
    "\n",
    "# counter=0\n",
    "# for txt_id1 in range(N_txt_id1):\n",
    "#     for txt_id2 in range(N_txt_id2):\n",
    "#         print(f\"{L} {txt_id1} {txt_id2}\")\n",
    "#         counter+=1"
   ]
  },
  {
   "cell_type": "code",
   "execution_count": 133,
   "metadata": {
    "ExecuteTime": {
     "end_time": "2021-01-30T05:26:25.393859Z",
     "start_time": "2021-01-30T05:26:25.389564Z"
    }
   },
   "outputs": [],
   "source": [
    "import random\n",
    "max_area=1800**2 #sqpixels\n",
    "min_area=300**2 #sqpixels\n",
    "L=int(np.floor(np.sqrt(random.uniform(min_area,max_area))))\n",
    "#randomly determine which initial condition to use\n",
    "N_txt_id1=4-1#the max index of the main-square\n",
    "N_txt_id2=int(np.floor(width_in / L))**2-1#the max index to the sub-square \n",
    "txt_id1=random.randint(0,N_txt_id1)\n",
    "txt_id2=random.randint(0,N_txt_id2)"
   ]
  },
  {
   "cell_type": "code",
   "execution_count": 135,
   "metadata": {
    "ExecuteTime": {
     "end_time": "2021-01-30T05:26:55.488235Z",
     "start_time": "2021-01-30T05:26:55.483429Z"
    }
   },
   "outputs": [
    {
     "data": {
      "text/plain": [
       "(1660, 2, 0)"
      ]
     },
     "execution_count": 135,
     "metadata": {},
     "output_type": "execute_result"
    }
   ],
   "source": [
    "L, txt_id1, txt_id2"
   ]
  },
  {
   "cell_type": "code",
   "execution_count": 129,
   "metadata": {
    "ExecuteTime": {
     "end_time": "2021-01-30T05:22:49.254451Z",
     "start_time": "2021-01-30T05:22:49.251675Z"
    }
   },
   "outputs": [],
   "source": []
  },
  {
   "cell_type": "code",
   "execution_count": null,
   "metadata": {
    "ExecuteTime": {
     "end_time": "2021-01-30T05:21:51.659841Z",
     "start_time": "2021-01-30T05:21:51.656062Z"
    }
   },
   "outputs": [],
   "source": []
  },
  {
   "cell_type": "code",
   "execution_count": 143,
   "metadata": {
    "ExecuteTime": {
     "end_time": "2021-02-01T03:34:12.742468Z",
     "start_time": "2021-02-01T03:34:12.738865Z"
    }
   },
   "outputs": [
    {
     "name": "stdout",
     "output_type": "stream",
     "text": [
      "IndexError:\n",
      "list index out of range\n"
     ]
    }
   ],
   "source": [
    "try:\n",
    "    [1,2,3][4]\n",
    "except IndexError as e:\n",
    "    print (f'IndexError for {txt_id2}')\n",
    "    print ( e )"
   ]
  },
  {
   "cell_type": "code",
   "execution_count": 144,
   "metadata": {
    "ExecuteTime": {
     "end_time": "2021-02-01T04:21:48.613218Z",
     "start_time": "2021-02-01T04:21:48.608111Z"
    }
   },
   "outputs": [
    {
     "data": {
      "text/plain": [
       "[0, 312, 624, 936, 1248]"
      ]
     },
     "execution_count": 144,
     "metadata": {},
     "output_type": "execute_result"
    }
   ],
   "source": [
    "list(range(0,width_in-width_out,width_out))"
   ]
  },
  {
   "cell_type": "code",
   "execution_count": 145,
   "metadata": {
    "ExecuteTime": {
     "end_time": "2021-02-01T04:21:52.852651Z",
     "start_time": "2021-02-01T04:21:52.847988Z"
    }
   },
   "outputs": [
    {
     "data": {
      "text/plain": [
       "312"
      ]
     },
     "execution_count": 145,
     "metadata": {},
     "output_type": "execute_result"
    }
   ],
   "source": [
    "width_out"
   ]
  },
  {
   "cell_type": "code",
   "execution_count": 146,
   "metadata": {
    "ExecuteTime": {
     "end_time": "2021-02-01T04:21:57.153786Z",
     "start_time": "2021-02-01T04:21:57.149257Z"
    }
   },
   "outputs": [
    {
     "data": {
      "text/plain": [
       "1800"
      ]
     },
     "execution_count": 146,
     "metadata": {},
     "output_type": "execute_result"
    }
   ],
   "source": [
    "width_in"
   ]
  },
  {
   "cell_type": "code",
   "execution_count": 147,
   "metadata": {
    "ExecuteTime": {
     "end_time": "2021-02-03T23:35:50.692431Z",
     "start_time": "2021-02-03T23:35:50.484019Z"
    }
   },
   "outputs": [
    {
     "name": "stdout",
     "output_type": "stream",
     "text": [
      "/Users/timothytyree/Documents/GitHub/care/notebooks\r\n"
     ]
    }
   ],
   "source": [
    "!pwd\n"
   ]
  },
  {
   "cell_type": "markdown",
   "metadata": {},
   "source": []
  },
  {
   "cell_type": "code",
   "execution_count": 3,
   "metadata": {
    "ExecuteTime": {
     "end_time": "2021-02-08T23:10:22.463274Z",
     "start_time": "2021-02-08T23:10:22.439804Z"
    }
   },
   "outputs": [
    {
     "data": {
      "text/plain": [
       "'/home/timothytyree/Documents/GitHub/care/notebooks'"
      ]
     },
     "execution_count": 3,
     "metadata": {},
     "output_type": "execute_result"
    }
   ],
   "source": [
    "# - TODO: import the first .npz from local files\n",
    "save_folder='ic1800x1800_lr_txt'\n",
    "nb_dir"
   ]
  },
  {
   "cell_type": "markdown",
   "metadata": {},
   "source": [
    "# fill the chunked folders with chunked initial conditions"
   ]
  },
  {
   "cell_type": "code",
   "execution_count": 20,
   "metadata": {
    "ExecuteTime": {
     "end_time": "2021-02-08T23:21:13.425478Z",
     "start_time": "2021-02-08T23:21:13.411232Z"
    }
   },
   "outputs": [],
   "source": [
    "# width_in=500;height_in=500;chnlno=2\n",
    "# shape=(width_in,height_in,chnlno)\n",
    "# txt_in=np.zeros(shape,dtype=np.float64)\n",
    "\n",
    "# txt_out_lst= chunk_array(txt_in,width_out,height_out,typeout='float64')\n",
    "# len(txt_out_lst)"
   ]
  },
  {
   "cell_type": "code",
   "execution_count": 22,
   "metadata": {
    "ExecuteTime": {
     "end_time": "2021-02-15T21:46:43.151514Z",
     "start_time": "2021-02-15T21:46:43.132856Z"
    },
    "run_control": {
     "marked": true
    }
   },
   "outputs": [
    {
     "data": {
      "text/plain": [
       "['/home/timothytyree/Documents/GitHub/care/notebooks/Data/initial-conditions-fk-1800x1800/ic1800x1800.0.npz',\n",
       " '/home/timothytyree/Documents/GitHub/care/notebooks/Data/initial-conditions-fk-1800x1800/ic1800x1800.1.npz',\n",
       " '/home/timothytyree/Documents/GitHub/care/notebooks/Data/initial-conditions-fk-1800x1800/ic1800x1800.2.npz',\n",
       " '/home/timothytyree/Documents/GitHub/care/notebooks/Data/initial-conditions-fk-1800x1800/ic1800x1800.3.npz']"
      ]
     },
     "execution_count": 22,
     "metadata": {},
     "output_type": "execute_result"
    }
   ],
   "source": [
    "L=200\n",
    "# folder_in=os.path.join(nb_dir,'Data/initial-conditions-lr-1800x1800')\n",
    "# folder_out=os.path.join(nb_dir,f'Data/initial-conditions-lr-{L}x{L}')\n",
    "folder_in=os.path.join(nb_dir,'Data/initial-conditions-fk-1800x1800')\n",
    "folder_out=os.path.join(nb_dir,f'Data/initial-conditions-fk-{L}x{L}')\n",
    "if not os.path.exists(folder_in):\n",
    "    os.mkdir(folder_in)\n",
    "if not os.path.exists(folder_out):\n",
    "    os.mkdir(folder_out)\n",
    "os.chdir(folder_in)\n",
    "input_file_lst=sorted([os.path.abspath(fn) for fn in os.listdir()])\n",
    "input_file_lst"
   ]
  },
  {
   "cell_type": "code",
   "execution_count": 23,
   "metadata": {
    "ExecuteTime": {
     "end_time": "2021-02-15T21:46:52.623903Z",
     "start_time": "2021-02-15T21:46:45.201401Z"
    }
   },
   "outputs": [],
   "source": [
    "assert (len(input_file_lst)!=0)\n",
    "os.chdir(folder_out)\n",
    "for txt_id1,input_fn in enumerate(input_file_lst):\n",
    "    #chunk to LxL list of initial conditions\n",
    "    txt_in=load_buffer(input_fn)\n",
    "    txt_out_lst= chunk_array(txt_in,width_out=L,height_out=L,typeout='float32')\n",
    "    \n",
    "    #save each as\n",
    "    for txt_id2,txt in enumerate(txt_out_lst):\n",
    "        save_fn=f\"ic{L}x{L}.{txt_id1}.{txt_id2}.npz\"\n",
    "        np.savez_compressed(save_fn,txt)"
   ]
  },
  {
   "cell_type": "code",
   "execution_count": 24,
   "metadata": {
    "ExecuteTime": {
     "end_time": "2021-02-15T21:46:54.463939Z",
     "start_time": "2021-02-15T21:46:54.447097Z"
    }
   },
   "outputs": [
    {
     "data": {
      "text/plain": [
       "(1800, 1800, 3)"
      ]
     },
     "execution_count": 24,
     "metadata": {},
     "output_type": "execute_result"
    }
   ],
   "source": [
    "txt_in.shape"
   ]
  },
  {
   "cell_type": "code",
   "execution_count": 9,
   "metadata": {
    "ExecuteTime": {
     "end_time": "2021-02-14T04:14:17.955188Z",
     "start_time": "2021-02-14T04:12:44.058475Z"
    }
   },
   "outputs": [
    {
     "name": "stdout",
     "output_type": "stream",
     "text": [
      "downloading FK model...\n",
      "downloading FK model...\n",
      "downloading FK model...\n",
      "downloading FK model...\n"
     ]
    }
   ],
   "source": [
    "# input_file_lst=[]\n",
    "assert (len(input_file_lst)==0)\n",
    "for txt_id1 in range(4):\n",
    "    txt_in=download_txt(txt_id1, worker_dir=nb_dir, rm_father_ic=True, mode='FK')#, **kwargs)\n",
    "    os.chdir(folder_in)\n",
    "    input_fn=f\"ic1800x1800.{txt_id1}.npz\"\n",
    "    input_file_lst.append(input_fn)\n",
    "    np.savez_compressed(input_fn,txt_in)\n",
    "    txt_out_lst= chunk_array(txt_in,width_out=L,height_out=L,typeout='float32')\n",
    "    os.chdir(folder_out)\n",
    "    #save each as\n",
    "    for txt_id2,txt in enumerate(txt_out_lst):\n",
    "        save_fn=f\"ic{L}x{L}.{txt_id1}.{txt_id2}.npz\"\n",
    "        np.savez_compressed(save_fn,txt)\n",
    "    "
   ]
  },
  {
   "cell_type": "code",
   "execution_count": 10,
   "metadata": {
    "ExecuteTime": {
     "end_time": "2021-02-14T04:15:00.060595Z",
     "start_time": "2021-02-14T04:15:00.045620Z"
    }
   },
   "outputs": [
    {
     "name": "stdout",
     "output_type": "stream",
     "text": [
      "['ic1800x1800.0.npz', 'ic1800x1800.1.npz', 'ic1800x1800.2.npz', 'ic1800x1800.3.npz']\n"
     ]
    }
   ],
   "source": [
    "print(input_file_lst)"
   ]
  },
  {
   "cell_type": "code",
   "execution_count": 28,
   "metadata": {
    "ExecuteTime": {
     "end_time": "2021-02-08T23:22:19.106292Z",
     "start_time": "2021-02-08T23:22:18.974638Z"
    }
   },
   "outputs": [
    {
     "name": "stdout",
     "output_type": "stream",
     "text": [
      "ic900x900.0.0.npz  ic900x900.1.0.npz  ic900x900.2.0.npz  ic900x900.3.0.npz\r\n"
     ]
    }
   ],
   "source": [
    "!ls"
   ]
  },
  {
   "cell_type": "code",
   "execution_count": 30,
   "metadata": {
    "ExecuteTime": {
     "end_time": "2021-02-08T23:22:42.626345Z",
     "start_time": "2021-02-08T23:22:42.611394Z"
    }
   },
   "outputs": [
    {
     "data": {
      "text/plain": [
       "1"
      ]
     },
     "execution_count": 30,
     "metadata": {},
     "output_type": "execute_result"
    }
   ],
   "source": [
    "len(txt_out_lst)"
   ]
  },
  {
   "cell_type": "code",
   "execution_count": 31,
   "metadata": {
    "ExecuteTime": {
     "end_time": "2021-02-08T23:22:55.197252Z",
     "start_time": "2021-02-08T23:22:55.163302Z"
    }
   },
   "outputs": [
    {
     "data": {
      "text/plain": [
       "<function lib.utils.chunk_array.chunk_array(txt_in, width_out, height_out, typeout='float64')>"
      ]
     },
     "execution_count": 31,
     "metadata": {},
     "output_type": "execute_result"
    }
   ],
   "source": [
    "chunk_array"
   ]
  },
  {
   "cell_type": "code",
   "execution_count": 51,
   "metadata": {
    "ExecuteTime": {
     "end_time": "2021-02-08T23:29:35.495637Z",
     "start_time": "2021-02-08T23:29:35.480547Z"
    }
   },
   "outputs": [],
   "source": [
    "# def chunk_array(txt_in,width_out,height_out,typeout='float64'):\n",
    "#     '''returns txt_out_lst\n",
    "#     suppose file_name is a bare string with the extension  \".npz\"\n",
    "#     suppose txt_in is a numpy array that is (1800,1800,:).\n",
    "#     '''    \n",
    "#     width_in,height_in=txt_in.shape[:2]\n",
    "#     txt_out_lst=[]\n",
    "#     x=0;y=0;\n",
    "#     x_lst=list(range(0,width_in-width_out+1,width_out))\n",
    "#     y_lst=list(range(0,height_in-height_out+1,height_out))\n",
    "#     for x in x_lst:\n",
    "#         for y in y_lst:\n",
    "#             arr=txt_in[x:x+width_out,y:y+height_out]\n",
    "#             txt_out_lst.append(arr.astype(typeout))\n",
    "#     return txt_out_lst"
   ]
  },
  {
   "cell_type": "code",
   "execution_count": 52,
   "metadata": {
    "ExecuteTime": {
     "end_time": "2021-02-08T23:29:35.576606Z",
     "start_time": "2021-02-08T23:29:35.560488Z"
    }
   },
   "outputs": [],
   "source": [
    "# txt_out_lst= chunk_array(txt_in,width_out=L,height_out=L,typeout='float64')\n"
   ]
  },
  {
   "cell_type": "code",
   "execution_count": 63,
   "metadata": {
    "ExecuteTime": {
     "end_time": "2021-02-08T23:41:11.054295Z",
     "start_time": "2021-02-08T23:41:11.034353Z"
    }
   },
   "outputs": [
    {
     "data": {
      "text/plain": [
       "'/home/timothytyree/Documents/GitHub/care/notebooks/Data/initial-conditions-lr-600x600'"
      ]
     },
     "execution_count": 63,
     "metadata": {},
     "output_type": "execute_result"
    }
   ],
   "source": [
    "# len(txt_out_lst)\n",
    "folder_out"
   ]
  },
  {
   "cell_type": "code",
   "execution_count": 26,
   "metadata": {
    "ExecuteTime": {
     "end_time": "2021-02-15T21:48:19.667140Z",
     "start_time": "2021-02-15T21:48:19.646542Z"
    }
   },
   "outputs": [],
   "source": [
    "L=200\n",
    "folder_in=os.path.join(nb_dir,'Data/initial-conditions-fk-1800x1800')\n",
    "folder_out=os.path.join(nb_dir,f'Data/initial-conditions-fk-{L}x{L}')\n",
    "\n",
    "os.chdir(folder_out)\n",
    "fldr='ic-in'\n",
    "try:\n",
    "    os.mkdir(fldr)\n",
    "except Exception:\n",
    "    print( 'ic-in not made')\n",
    "#move all to ic-in/\n",
    "# fn_lst=os.listdir()\n",
    "fn_lst=sorted(os.listdir())[1:]\n",
    "for fn in fn_lst:\n",
    "    os.rename(fn,fldr+'/'+fn)\n",
    "#create ic-out/\n",
    "fldro='ic-out'\n",
    "try:\n",
    "    os.mkdir(fldro)\n",
    "except Exception:\n",
    "    print( 'ic-out not made')"
   ]
  },
  {
   "cell_type": "code",
   "execution_count": 27,
   "metadata": {
    "ExecuteTime": {
     "end_time": "2021-02-15T21:48:21.148298Z",
     "start_time": "2021-02-15T21:48:21.134058Z"
    }
   },
   "outputs": [
    {
     "data": {
      "text/plain": [
       "['ic-out']"
      ]
     },
     "execution_count": 27,
     "metadata": {},
     "output_type": "execute_result"
    }
   ],
   "source": [
    "sorted(os.listdir())[1:]"
   ]
  },
  {
   "cell_type": "markdown",
   "metadata": {},
   "source": [
    "# initialize ic-in and ic-out folders"
   ]
  },
  {
   "cell_type": "code",
   "execution_count": null,
   "metadata": {},
   "outputs": [],
   "source": [
    "ic=search_for_file()\n"
   ]
  },
  {
   "cell_type": "code",
   "execution_count": null,
   "metadata": {},
   "outputs": [],
   "source": [
    "base_folder=os.path.dirname(os.path.dirname(ic))\n",
    "os.chdir(base_folder)\n",
    "L=300\n",
    "tmax_sec=30\n",
    "print(base_folder)\n",
    "# len(input_fn_lst)"
   ]
  },
  {
   "cell_type": "code",
   "execution_count": null,
   "metadata": {},
   "outputs": [],
   "source": [
    "base_folder=os.path.dirname(ic)\n",
    "os.chdir(base_folder)\n",
    "print(base_folder)\n",
    "trgt='.npz'\n",
    "fn_lst=get_all_files_matching_pattern(ic,trgt)\n",
    "os.mkdir('ic-in')\n",
    "os.mkdir('ic-out')\n",
    "for fn in fn_lst:\n",
    "    fn=os.path.basename(fn)\n",
    "    os.rename(fn,os.path.join('ic-in',fn))"
   ]
  }
 ],
 "metadata": {
  "kernelspec": {
   "display_name": "Python 3 (ipykernel)",
   "language": "python",
   "name": "python3"
  },
  "language_info": {
   "codemirror_mode": {
    "name": "ipython",
    "version": 3
   },
   "file_extension": ".py",
   "mimetype": "text/x-python",
   "name": "python",
   "nbconvert_exporter": "python",
   "pygments_lexer": "ipython3",
   "version": "3.7.10"
  },
  "toc": {
   "base_numbering": 1,
   "nav_menu": {},
   "number_sections": true,
   "sideBar": true,
   "skip_h1_title": false,
   "title_cell": "Table of Contents",
   "title_sidebar": "Contents",
   "toc_cell": false,
   "toc_position": {},
   "toc_section_display": true,
   "toc_window_display": false
  },
  "varInspector": {
   "cols": {
    "lenName": 16,
    "lenType": 16,
    "lenVar": 40
   },
   "kernels_config": {
    "python": {
     "delete_cmd_postfix": "",
     "delete_cmd_prefix": "del ",
     "library": "var_list.py",
     "varRefreshCmd": "print(var_dic_list())"
    },
    "r": {
     "delete_cmd_postfix": ") ",
     "delete_cmd_prefix": "rm(",
     "library": "var_list.r",
     "varRefreshCmd": "cat(var_dic_list()) "
    }
   },
   "types_to_exclude": [
    "module",
    "function",
    "builtin_function_or_method",
    "instance",
    "_Feature"
   ],
   "window_display": false
  }
 },
 "nbformat": 4,
 "nbformat_minor": 4
}
