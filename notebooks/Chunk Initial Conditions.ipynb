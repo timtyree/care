{
 "cells": [
  {
   "cell_type": "markdown",
   "metadata": {},
   "source": [
    "# Chunk Initial Conditions\n",
    "Tim Tyree<br>\n",
    "8.13.2020"
   ]
  },
  {
   "cell_type": "code",
   "execution_count": 2,
   "metadata": {
    "ExecuteTime": {
     "end_time": "2021-01-21T21:33:31.422651Z",
     "start_time": "2021-01-21T21:33:31.371511Z"
    }
   },
   "outputs": [
    {
     "name": "stdout",
     "output_type": "stream",
     "text": [
      "Automatic calling is: Smart\n",
      "The autoreload extension is already loaded. To reload it, use:\n",
      "  %reload_ext autoreload\n"
     ]
    }
   ],
   "source": [
    "from lib.my_initialization import *\n",
    "from lib.routines.chunk_ic import *\n",
    "# from lib.controller.controller_LR import get_one_step_explicit_synchronous_splitting\n",
    "# from lib.model.LR_model import *\n",
    "# from lib.utils.utils_traj import *\n",
    "# from lib.routines.bdrates import *\n",
    "# from lib.measure.utils_measure_tips_cpu import *\n",
    "# from lib.utils.stack_txt_LR import *\n",
    "from lib.viewer import *\n",
    "import trackpy\n",
    "\n",
    "%autocall 1\n",
    "%load_ext autoreload\n",
    "%autoreload 2"
   ]
  },
  {
   "cell_type": "code",
   "execution_count": null,
   "metadata": {
    "ExecuteTime": {
     "start_time": "2021-01-21T21:32:37.632Z"
    }
   },
   "outputs": [],
   "source": []
  },
  {
   "cell_type": "markdown",
   "metadata": {},
   "source": [
    "- DONE: use dask to do a run a trivial function with 8 workers an an array of string input that returns True\n",
    "- DONE: get a list of files to operate on\n",
    "- DONE: clean up messy stuff left in my folder structure \n",
    "- DONE: for the first of ^that list, functionally chunk it into ninths using chunk_600x600_into_ninths(txt,file_name, save_folder)\n",
    "- TODO: run dask on to create my ic's"
   ]
  },
  {
   "cell_type": "code",
   "execution_count": 2,
   "metadata": {
    "ExecuteTime": {
     "end_time": "2021-01-21T21:08:36.905543Z",
     "start_time": "2021-01-21T21:08:36.903172Z"
    }
   },
   "outputs": [],
   "source": [
    "# #pylab\n",
    "# %matplotlib inline\n",
    "# import numpy as np, pandas as pd, matplotlib.pyplot as plt\n",
    "# # from pylab import imshow, show\n",
    "# import time\n",
    "# # import skimage as sk\n",
    "# # from skimage import measure, filters\n",
    "\n",
    "# # import matplotlib.pyplot as plt, numpy as np, os\n",
    "# # from numba import njit, jit, vectorize\n",
    "# # from PIL import Image\n",
    "# # import imageio\n",
    "\n",
    "# #automate the boring stuff\n",
    "# from IPython import utils\n",
    "# import time, os, sys, re\n",
    "# beep = lambda x: os.system(\"echo -n '\\\\a';sleep 0.2;\" * x)\n",
    "# if not 'nb_dir' in globals():\n",
    "#     nb_dir = os.getcwd()\n",
    "\n",
    "# import dask.bag as db\n",
    "# from lib.chunk_ic import chunk_600x600_from_fn\n",
    "\n",
    "# #load the libraries\n",
    "# from lib import *\n",
    "\n",
    "# %autocall 1\n",
    "# %load_ext autoreload\n",
    "# %autoreload 2"
   ]
  },
  {
   "cell_type": "markdown",
   "metadata": {},
   "source": [
    "# Goal: use dask to do a run a trivial function with 8 workers an an array of string input that returns True"
   ]
  },
  {
   "cell_type": "markdown",
   "metadata": {
    "heading_collapsed": true
   },
   "source": [
    "## dev initial dask bag use"
   ]
  },
  {
   "cell_type": "code",
   "execution_count": 27,
   "metadata": {
    "ExecuteTime": {
     "end_time": "2020-08-13T21:16:27.357516Z",
     "start_time": "2020-08-13T21:16:27.329541Z"
    },
    "hidden": true
   },
   "outputs": [],
   "source": [
    "from lib.chunk_ic import chunk_600x600_into_ninths, load_fortran, parse_input_fn"
   ]
  },
  {
   "cell_type": "code",
   "execution_count": 18,
   "metadata": {
    "ExecuteTime": {
     "end_time": "2020-08-13T21:06:06.230773Z",
     "start_time": "2020-08-13T21:06:06.084253Z"
    },
    "hidden": true
   },
   "outputs": [],
   "source": [
    "import dask\n",
    "# !pip install \"dask[bag]\" --upgrade\n",
    "import dask.bag as db"
   ]
  },
  {
   "cell_type": "code",
   "execution_count": 21,
   "metadata": {
    "ExecuteTime": {
     "end_time": "2020-08-13T21:11:47.187737Z",
     "start_time": "2020-08-13T21:11:38.512464Z"
    },
    "hidden": true
   },
   "outputs": [
    {
     "name": "stdout",
     "output_type": "stream",
     "text": [
      "please select a file from within the desired folder.\n",
      "File: /Users/timothytyree/Documents/GitHub/care/notebooks/Data/initial-conditions-suite-1/ic-wj/ic_600x600.122\n"
     ]
    }
   ],
   "source": [
    "#find file interactively\n",
    "print(\"please select a file from within the desired folder.\")\n",
    "file = search_for_file()\n",
    "\n",
    "#get a list of all files\n",
    "#change to the directory containing file\n",
    "folder_name = os.path.dirname(file)\n",
    "os.chdir(folder_name)\n",
    "\n",
    "#find folder interactively. Crashes jupyter's root kernel :(\n",
    "# from tkinter import Tk\n",
    "# from tkinter.filedialog import askdirectory\n",
    "# path = askdirectory(title='Select Folder') # shows dialog box and return the path\n",
    "# print(path) "
   ]
  },
  {
   "cell_type": "code",
   "execution_count": 22,
   "metadata": {
    "ExecuteTime": {
     "end_time": "2020-08-13T21:12:17.882101Z",
     "start_time": "2020-08-13T21:12:17.795554Z"
    },
    "hidden": true
   },
   "outputs": [],
   "source": [
    "# get all .csv files in the current working directory\n",
    "retval = !ls\n",
    "file_name_list = list(retval)\n",
    "# check each file if it ends in .csv before merging it\n",
    "def is_csv(file_name):\n",
    "    return file_name[-4:]=='.csv'\n",
    "file_name_list = [f for f in file_name_list if not is_csv(f)]\n",
    "cwd = os.getcwd()\n",
    "input_fn_list = [cwd+fn for fn in file_name_list]"
   ]
  },
  {
   "cell_type": "code",
   "execution_count": 34,
   "metadata": {
    "ExecuteTime": {
     "end_time": "2020-08-13T21:18:52.688808Z",
     "start_time": "2020-08-13T21:18:52.664593Z"
    },
    "hidden": true
   },
   "outputs": [],
   "source": []
  },
  {
   "cell_type": "code",
   "execution_count": 37,
   "metadata": {
    "ExecuteTime": {
     "end_time": "2020-08-13T21:19:49.396329Z",
     "start_time": "2020-08-13T21:19:48.989714Z"
    },
    "hidden": true
   },
   "outputs": [],
   "source": [
    "# use Dask Bag to load your data. This parallelizes the loading step and reduces inter-worker communication:\n",
    "# triv = lambda object:object\n",
    "# load_from_filename = triv\n",
    "load_from_filename = load_fortran\n",
    "b = db.from_sequence(input_fn_list).map(load_from_filename)\n",
    "# b = b.map(triv)\n",
    "retval = list(b)"
   ]
  },
  {
   "cell_type": "code",
   "execution_count": null,
   "metadata": {
    "hidden": true
   },
   "outputs": [],
   "source": [
    "# result = b.compute()\n",
    "# result = list(b)\n",
    "# b.to_textfiles('/path/to/data/*.json.gz')"
   ]
  },
  {
   "cell_type": "code",
   "execution_count": null,
   "metadata": {
    "ExecuteTime": {
     "end_time": "2020-08-13T21:16:42.957720Z",
     "start_time": "2020-08-13T21:16:42.931823Z"
    },
    "hidden": true
   },
   "outputs": [],
   "source": [
    "# use Dask Bag to load your data. This parallelizes the loading step and reduces inter-worker communication:\n",
    "# triv = lambda object:object\n",
    "# load_from_filename = triv\n",
    "load_from_filename = load_fortran\n",
    "b = db.from_sequence(input_fn_list).map(load_from_filename)\n",
    "# b = b.map(triv)\n",
    "retval = list(b)"
   ]
  },
  {
   "cell_type": "markdown",
   "metadata": {
    "heading_collapsed": true
   },
   "source": [
    "## for the first of ^that list, functionally chunk it into ninths \n",
    "using chunk_600x600_into_ninths(txt,file_name, save_folder)"
   ]
  },
  {
   "cell_type": "code",
   "execution_count": 41,
   "metadata": {
    "ExecuteTime": {
     "end_time": "2020-08-13T21:23:26.585523Z",
     "start_time": "2020-08-13T21:23:26.562185Z"
    },
    "hidden": true
   },
   "outputs": [],
   "source": [
    "input_fn = '/Users/timothytyree/Documents/GitHub/care/notebooks/Data/initial-conditions-suite-1/ic-wj/ic_600x600.122'"
   ]
  },
  {
   "cell_type": "code",
   "execution_count": 48,
   "metadata": {
    "ExecuteTime": {
     "end_time": "2020-08-13T21:25:54.772434Z",
     "start_time": "2020-08-13T21:25:54.751283Z"
    },
    "hidden": true
   },
   "outputs": [],
   "source": [
    "from dask.delayed import delayed\n"
   ]
  },
  {
   "cell_type": "code",
   "execution_count": 55,
   "metadata": {
    "ExecuteTime": {
     "end_time": "2020-08-13T21:27:59.619275Z",
     "start_time": "2020-08-13T21:27:59.594006Z"
    },
    "hidden": true
   },
   "outputs": [],
   "source": [
    "#use the loading protocol on one file\n",
    "# d = delayed(load_fortran)(input_fn)"
   ]
  },
  {
   "cell_type": "code",
   "execution_count": 6,
   "metadata": {
    "ExecuteTime": {
     "end_time": "2020-08-13T21:42:01.107760Z",
     "start_time": "2020-08-13T21:42:01.079774Z"
    },
    "hidden": true
   },
   "outputs": [],
   "source": [
    "def chunk_from_fn(input_fn):\n",
    "    arr = load_fortran(input_fn)\n",
    "    file_name, input_folder, output_folder, tmp_folder = parse_input_fn(input_fn)\n",
    "    chunk_600x600_into_ninths(txt=arr,\n",
    "                              file_name=file_name.replace('600','200'),\n",
    "                              save_folder=output_folder\n",
    "                             )\n",
    "    print(f'done with {input_fn}!')\n",
    "    return True"
   ]
  },
  {
   "cell_type": "code",
   "execution_count": 60,
   "metadata": {
    "ExecuteTime": {
     "end_time": "2020-08-13T21:31:50.891327Z",
     "start_time": "2020-08-13T21:31:47.353167Z"
    },
    "hidden": true
   },
   "outputs": [
    {
     "data": {
      "text/plain": [
       "True"
      ]
     },
     "execution_count": 60,
     "metadata": {},
     "output_type": "execute_result"
    }
   ],
   "source": [
    "chunk_from_fn(input_fn)"
   ]
  },
  {
   "cell_type": "markdown",
   "metadata": {},
   "source": [
    "# fill ic-in with ic-wj chunked into ninths"
   ]
  },
  {
   "cell_type": "code",
   "execution_count": 3,
   "metadata": {
    "ExecuteTime": {
     "end_time": "2020-08-15T02:06:54.474598Z",
     "start_time": "2020-08-15T02:06:34.469053Z"
    }
   },
   "outputs": [
    {
     "name": "stdout",
     "output_type": "stream",
     "text": [
      "please select a file from within the desired folder.\n",
      "File: /home/timothytyree/Documents/GitHub/care/notebooks/Data/initial-conditions-suite-2/ic-wj/ic_600x600.004\n"
     ]
    }
   ],
   "source": [
    "# get input_fn_list interactively\n",
    "#find file interactively\n",
    "print(\"please select a file from within the desired folder.\")\n",
    "file = search_for_file()\n",
    "\n",
    "#get a list of all files\n",
    "#change to the directory containing file\n",
    "folder_name = os.path.dirname(file)\n",
    "os.chdir(folder_name)"
   ]
  },
  {
   "cell_type": "code",
   "execution_count": 4,
   "metadata": {
    "ExecuteTime": {
     "end_time": "2020-08-15T02:07:04.947660Z",
     "start_time": "2020-08-15T02:07:04.921546Z"
    }
   },
   "outputs": [],
   "source": [
    "# get all ic files that are in the current working directory that are not .csv's\n",
    "retval = !ls\n",
    "file_name_list = list(retval)\n",
    "# check each file if it ends in .csv before merging it\n",
    "def is_csv(file_name):\n",
    "    return file_name[-4:]=='.csv'\n",
    "file_name_list = [f for f in file_name_list if not is_csv(f)]\n",
    "cwd = os.getcwd()\n",
    "input_fn_list = ['/'.join((cwd,fn)) for fn in file_name_list]"
   ]
  },
  {
   "cell_type": "code",
   "execution_count": 4,
   "metadata": {
    "ExecuteTime": {
     "end_time": "2021-01-21T21:08:59.488986Z",
     "start_time": "2021-01-21T21:08:59.437108Z"
    }
   },
   "outputs": [
    {
     "ename": "NameError",
     "evalue": "name 'chunk_600x600_from_fn' is not defined",
     "output_type": "error",
     "traceback": [
      "\u001b[0;31m---------------------------------------------------------------------------\u001b[0m",
      "\u001b[0;31mNameError\u001b[0m                                 Traceback (most recent call last)",
      "\u001b[0;32m<ipython-input-4-46c85c9b4ed4>\u001b[0m in \u001b[0;36m<module>\u001b[0;34m\u001b[0m\n\u001b[1;32m      9\u001b[0m \u001b[0;31m#       print(f'done chunking {input_fn}!')\u001b[0m\u001b[0;34m\u001b[0m\u001b[0;34m\u001b[0m\u001b[0;34m\u001b[0m\u001b[0m\n\u001b[1;32m     10\u001b[0m \u001b[0;31m#       return True\u001b[0m\u001b[0;34m\u001b[0m\u001b[0;34m\u001b[0m\u001b[0;34m\u001b[0m\u001b[0m\n\u001b[0;32m---> 11\u001b[0;31m \u001b[0mchunk_600x600_from_fn\u001b[0m\u001b[0;34m\u001b[0m\u001b[0;34m\u001b[0m\u001b[0m\n\u001b[0m",
      "\u001b[0;31mNameError\u001b[0m: name 'chunk_600x600_from_fn' is not defined"
     ]
    }
   ],
   "source": [
    "# def chunk_600x600_from_fn(input_fn):\n",
    "# \tinput_fn = os.path.abspath(input_fn)\n",
    "# \tarr = load_fortran(input_fn)\n",
    "# \tfile_name, input_folder, output_folder, tmp_folder = parse_input_fn(input_fn)\n",
    "# \tchunk_600x600_into_ninths(txt=arr,\n",
    "# \t\t\t\t\t\t\t  file_name=file_name.replace('600','200'),\n",
    "# \t\t\t\t\t\t\t  save_folder=output_folder\n",
    "# \t\t\t\t\t\t\t )\n",
    "# \tprint(f'done chunking {input_fn}!')\n",
    "# \treturn True"
   ]
  },
  {
   "cell_type": "code",
   "execution_count": 5,
   "metadata": {
    "ExecuteTime": {
     "end_time": "2020-08-15T02:09:03.574124Z",
     "start_time": "2020-08-15T02:08:55.686885Z"
    }
   },
   "outputs": [
    {
     "name": "stdout",
     "output_type": "stream",
     "text": [
      "done chunking /home/timothytyree/Documents/GitHub/care/notebooks/Data/initial-conditions-suite-2/ic-wj/ic_600x600.002!\n",
      "done chunking /home/timothytyree/Documents/GitHub/care/notebooks/Data/initial-conditions-suite-2/ic-wj/ic_600x600.010!\n",
      "done chunking /home/timothytyree/Documents/GitHub/care/notebooks/Data/initial-conditions-suite-2/ic-wj/ic_600x600.007!\n",
      "done chunking /home/timothytyree/Documents/GitHub/care/notebooks/Data/initial-conditions-suite-2/ic-wj/ic_600x600.012!\n",
      "done chunking /home/timothytyree/Documents/GitHub/care/notebooks/Data/initial-conditions-suite-2/ic-wj/ic_600x600.003!\n",
      "done chunking /home/timothytyree/Documents/GitHub/care/notebooks/Data/initial-conditions-suite-2/ic-wj/ic_600x600.006!\n",
      "done chunking /home/timothytyree/Documents/GitHub/care/notebooks/Data/initial-conditions-suite-2/ic-wj/ic_600x600.008!\n",
      "done chunking /home/timothytyree/Documents/GitHub/care/notebooks/Data/initial-conditions-suite-2/ic-wj/ic_600x600.001!\n",
      "done chunking /home/timothytyree/Documents/GitHub/care/notebooks/Data/initial-conditions-suite-2/ic-wj/ic_600x600.005!\n",
      "done chunking /home/timothytyree/Documents/GitHub/care/notebooks/Data/initial-conditions-suite-2/ic-wj/ic_600x600.011!\n",
      "done chunking /home/timothytyree/Documents/GitHub/care/notebooks/Data/initial-conditions-suite-2/ic-wj/ic_600x600.004!\n",
      "done chunking /home/timothytyree/Documents/GitHub/care/notebooks/Data/initial-conditions-suite-2/ic-wj/ic_600x600.009!\n",
      "done chunking /home/timothytyree/Documents/GitHub/care/notebooks/Data/initial-conditions-suite-2/ic-wj/ic_600x600.019!\n",
      "done chunking /home/timothytyree/Documents/GitHub/care/notebooks/Data/initial-conditions-suite-2/ic-wj/ic_600x600.015!\n",
      "done chunking /home/timothytyree/Documents/GitHub/care/notebooks/Data/initial-conditions-suite-2/ic-wj/ic_600x600.017!\n",
      "done chunking /home/timothytyree/Documents/GitHub/care/notebooks/Data/initial-conditions-suite-2/ic-wj/ic_600x600.018!\n",
      "done chunking /home/timothytyree/Documents/GitHub/care/notebooks/Data/initial-conditions-suite-2/ic-wj/ic_600x600.016!\n",
      "done chunking /home/timothytyree/Documents/GitHub/care/notebooks/Data/initial-conditions-suite-2/ic-wj/ic_600x600.013!\n",
      "done chunking /home/timothytyree/Documents/GitHub/care/notebooks/Data/initial-conditions-suite-2/ic-wj/ic_600x600.014!\n",
      "run time for chunking: 7.87 [seconds?]\n"
     ]
    }
   ],
   "source": [
    "start = time.time()\n",
    "b = db.from_sequence(input_fn_list).map(chunk_600x600_from_fn)\n",
    "retval = list(b)\n",
    "print(f\"run time for chunking: {time.time()-start:.2f} [seconds?]\")"
   ]
  },
  {
   "cell_type": "markdown",
   "metadata": {
    "ExecuteTime": {
     "end_time": "2020-08-14T16:20:56.183925Z",
     "start_time": "2020-08-14T16:20:56.124437Z"
    }
   },
   "source": [
    "# chunk my 1800x1800 initial conditions into ninths"
   ]
  },
  {
   "cell_type": "markdown",
   "metadata": {},
   "source": [
    "part .12 was gotten from, for example, txt[200:400,0:200]\n",
    "\n",
    "this indicates the first column and the second row"
   ]
  },
  {
   "cell_type": "code",
   "execution_count": 33,
   "metadata": {
    "ExecuteTime": {
     "end_time": "2021-01-21T22:06:21.130468Z",
     "start_time": "2021-01-21T22:06:21.078974Z"
    }
   },
   "outputs": [],
   "source": [
    "from lib.viewer.TexturePlot import *\n",
    "from lib.routines.chunk_ic import *"
   ]
  },
  {
   "cell_type": "code",
   "execution_count": 42,
   "metadata": {
    "ExecuteTime": {
     "end_time": "2021-01-21T22:12:39.219203Z",
     "start_time": "2021-01-21T22:12:39.178899Z"
    }
   },
   "outputs": [],
   "source": [
    "folder_name=f\"{nb_dir}/Data/initial-conditions-suite-3-LR\"\n",
    "os.chdir(folder_name)"
   ]
  },
  {
   "cell_type": "code",
   "execution_count": 43,
   "metadata": {
    "ExecuteTime": {
     "end_time": "2021-01-21T22:12:42.588245Z",
     "start_time": "2021-01-21T22:12:42.519044Z"
    }
   },
   "outputs": [
    {
     "data": {
      "text/plain": [
       "['ic1800x1800_t_1210.npz', 'ic1800x1800_t_2830.npz']"
      ]
     },
     "execution_count": 43,
     "metadata": {},
     "output_type": "execute_result"
    }
   ],
   "source": [
    "#get the list of all input 1800x1800 frames\n",
    "txt_fn_lst=!ls ic1800x1800_tt\n",
    "txt_fn_lst"
   ]
  },
  {
   "cell_type": "code",
   "execution_count": 47,
   "metadata": {
    "ExecuteTime": {
     "end_time": "2021-01-21T22:15:59.195446Z",
     "start_time": "2021-01-21T22:15:59.144456Z"
    }
   },
   "outputs": [],
   "source": [
    "# #DONE: verified that each input texture is not stimulated by a semicircle \n",
    "# and verified that the initial translational symmetry from 3x3 tiling has died out\n",
    "# txt=load_buffer('ic1800x1800_tt/'+txt_fn_lst[0])[0]\n",
    "# fig=show_buffer_LR(txt.astype('float32'))\n",
    "# plt.show()"
   ]
  },
  {
   "cell_type": "markdown",
   "metadata": {},
   "source": [
    "arr[0,1] gives the 0th row and the 1st column"
   ]
  },
  {
   "cell_type": "code",
   "execution_count": 48,
   "metadata": {
    "ExecuteTime": {
     "end_time": "2021-01-21T22:16:26.198146Z",
     "start_time": "2021-01-21T22:16:00.204838Z"
    }
   },
   "outputs": [
    {
     "name": "stdout",
     "output_type": "stream",
     "text": [
      "chunked ic1800x1800_t_1210.npz\n",
      "chunked ic1800x1800_t_2830.npz\n"
     ]
    }
   ],
   "source": [
    "count=0\n",
    "save_folder='ic-tt'\n",
    "for txt_fn in txt_fn_lst:\n",
    "    txt_in=load_buffer('ic1800x1800_tt/'+txt_fn)[0]\n",
    "    count=chunk_1800x1800_into_ninths_npz(txt_in, save_folder,count,typeout='float64')\n",
    "    print(f'chunked {txt_fn}')"
   ]
  },
  {
   "cell_type": "code",
   "execution_count": 49,
   "metadata": {
    "ExecuteTime": {
     "end_time": "2021-01-21T22:16:28.929771Z",
     "start_time": "2021-01-21T22:16:28.147189Z"
    }
   },
   "outputs": [
    {
     "name": "stdout",
     "output_type": "stream",
     "text": [
      "20\n",
      "ic001.npz ic004.npz ic007.npz ic010.npz ic013.npz ic016.npz ic019.npz\r\n",
      "ic002.npz ic005.npz ic008.npz ic011.npz ic014.npz ic017.npz\r\n",
      "ic003.npz ic006.npz ic009.npz ic012.npz ic015.npz ic018.npz\r\n"
     ]
    }
   ],
   "source": [
    "beep(3)\n",
    "print(count)\n",
    "!ls ic-tt"
   ]
  },
  {
   "cell_type": "code",
   "execution_count": 56,
   "metadata": {
    "ExecuteTime": {
     "end_time": "2021-01-21T22:22:17.053110Z",
     "start_time": "2021-01-21T22:22:17.002533Z"
    }
   },
   "outputs": [
    {
     "data": {
      "text/plain": [
       "19"
      ]
     },
     "execution_count": 56,
     "metadata": {},
     "output_type": "execute_result"
    }
   ],
   "source": [
    "os.chdir(folder_name)\n",
    "os.chdir('ic-tt')\n",
    "ic_fn_lst=get_all_files_matching_pattern(os.path.abspath('ic001.npz'), trgt='.npz')\n",
    "len(ic_fn_lst)"
   ]
  },
  {
   "cell_type": "code",
   "execution_count": 60,
   "metadata": {
    "ExecuteTime": {
     "end_time": "2021-01-21T22:24:45.482157Z",
     "start_time": "2021-01-21T22:24:45.434148Z"
    }
   },
   "outputs": [],
   "source": [
    "#chunk ic-tt to ic-in\n",
    "def routine(input_file_name):\n",
    "    txt_in=load_buffer(input_file_name)\n",
    "    retval=chunk_600x600_into_ninths_npz(txt_in, input_file_name, save_folder='ic-in',typeout='float32')\n",
    "    return txt_in.shape"
   ]
  },
  {
   "cell_type": "code",
   "execution_count": 61,
   "metadata": {
    "ExecuteTime": {
     "end_time": "2021-01-21T22:24:57.623330Z",
     "start_time": "2021-01-21T22:24:47.513051Z"
    }
   },
   "outputs": [
    {
     "name": "stdout",
     "output_type": "stream",
     "text": [
      "the run time for chunking was 10.06 seconds.\n"
     ]
    }
   ],
   "source": [
    "os.chdir(folder_name)\n",
    "start = time.time()\n",
    "b = db.from_sequence(ic_fn_lst).map(routine)\n",
    "retval = list(b)\n",
    "print(f\"the run time for chunking was {time.time()-start:.2f} seconds.\")"
   ]
  },
  {
   "cell_type": "code",
   "execution_count": 63,
   "metadata": {
    "ExecuteTime": {
     "end_time": "2021-01-21T22:25:03.335070Z",
     "start_time": "2021-01-21T22:25:03.274581Z"
    }
   },
   "outputs": [
    {
     "data": {
      "text/plain": [
       "(600, 600, 18)"
      ]
     },
     "execution_count": 63,
     "metadata": {},
     "output_type": "execute_result"
    }
   ],
   "source": [
    "retval[0]"
   ]
  },
  {
   "cell_type": "code",
   "execution_count": null,
   "metadata": {},
   "outputs": [],
   "source": []
  }
 ],
 "metadata": {
  "kernelspec": {
   "display_name": "Python 3",
   "language": "python",
   "name": "python3"
  },
  "language_info": {
   "codemirror_mode": {
    "name": "ipython",
    "version": 3
   },
   "file_extension": ".py",
   "mimetype": "text/x-python",
   "name": "python",
   "nbconvert_exporter": "python",
   "pygments_lexer": "ipython3",
   "version": "3.8.6"
  },
  "toc": {
   "base_numbering": 1,
   "nav_menu": {},
   "number_sections": true,
   "sideBar": true,
   "skip_h1_title": false,
   "title_cell": "Table of Contents",
   "title_sidebar": "Contents",
   "toc_cell": false,
   "toc_position": {},
   "toc_section_display": true,
   "toc_window_display": false
  },
  "varInspector": {
   "cols": {
    "lenName": 16,
    "lenType": 16,
    "lenVar": 40
   },
   "kernels_config": {
    "python": {
     "delete_cmd_postfix": "",
     "delete_cmd_prefix": "del ",
     "library": "var_list.py",
     "varRefreshCmd": "print(var_dic_list())"
    },
    "r": {
     "delete_cmd_postfix": ") ",
     "delete_cmd_prefix": "rm(",
     "library": "var_list.r",
     "varRefreshCmd": "cat(var_dic_list()) "
    }
   },
   "types_to_exclude": [
    "module",
    "function",
    "builtin_function_or_method",
    "instance",
    "_Feature"
   ],
   "window_display": false
  }
 },
 "nbformat": 4,
 "nbformat_minor": 4
}
