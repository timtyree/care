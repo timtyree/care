{
 "cells": [
  {
   "cell_type": "markdown",
   "metadata": {},
   "source": [
    "# Make a minimalist movie showing tip trajectories\n",
    "Tim Tyree<br>\n",
    "11.16.2020"
   ]
  },
  {
   "cell_type": "code",
   "execution_count": 1,
   "metadata": {
    "ExecuteTime": {
     "end_time": "2020-11-17T17:16:51.714612Z",
     "start_time": "2020-11-17T17:16:48.427564Z"
    }
   },
   "outputs": [
    {
     "name": "stdout",
     "output_type": "stream",
     "text": [
      "100000\n",
      "Automatic calling is: Smart\n"
     ]
    }
   ],
   "source": [
    "#pylab\n",
    "%matplotlib inline\n",
    "import numpy as np, pandas as pd, matplotlib.pyplot as plt\n",
    "\n",
    "import skimage as sk\n",
    "from skimage import measure, filters\n",
    "\n",
    "from numba import njit, jit, vectorize\n",
    "from PIL import Image\n",
    "import imageio\n",
    "# import cv2 as cv\n",
    "\n",
    "#automate the boring stuff\n",
    "from IPython import utils\n",
    "import time, os, sys, re\n",
    "beep = lambda x: os.system(\"echo -n '\\\\a';sleep 0.2;\" * x)\n",
    "if not 'nb_dir' in globals():\n",
    "    nb_dir = os.getcwd()\n",
    "# width = 512\n",
    "# height = 512\n",
    "# channel_no = 3\n",
    "\n",
    "# #load the libraries\n",
    "from lib import *\n",
    "# from lib.measure._find_tips_pbc_cy import lookup_segments\n",
    "# from lib.measure._find_tips_kernel import *\n",
    "# from lib.measure._find_tips_kernel_cy import find_intersections\n",
    "#use cuda via numba\n",
    "from numba import jit, njit, vectorize, cuda, uint32, f8, uint8\n",
    "from numba.typed import List\n",
    "# from lib.contours_to_tips import *\n",
    "\n",
    "%autocall 1\n",
    "%load_ext autoreload\n",
    "%autoreload 2"
   ]
  },
  {
   "cell_type": "code",
   "execution_count": 3,
   "metadata": {
    "ExecuteTime": {
     "end_time": "2020-11-17T17:17:01.213976Z",
     "start_time": "2020-11-17T17:17:01.183027Z"
    }
   },
   "outputs": [],
   "source": [
    "#TODO(later): plot these tips with their u's and v's\n",
    "# Display the image and plot all pbc contours found properly!\n",
    "def save_plot_as_png(img, dimgdt, x_values, y_values, c_values, n_tips, V_threshold, t, save_folder, frameno, \n",
    "    save = True, inch = 6, **kwargs):\n",
    "    ''''''\n",
    "    fig, ax = plt.subplots(figsize=(inch,inch))\n",
    "\n",
    "    #appears to work     contours1 = find_contours(img,    level = 0.5)\n",
    "    contours1 = find_contours(img,    level = V_threshold)\n",
    "    contours2 = find_contours(dimgdt, level = 0.0)\n",
    "\n",
    "    # ax.imshow(img, cmap=plt.cm.gray)\n",
    "    ax.imshow(dimgdt, cmap=plt.cm.gray)\n",
    "    # ax.imshow(dimgdt*img, cmap=plt.cm.gray)\n",
    "\n",
    "\n",
    "    plot_contours_pbc(contours1, ax, linewidth=2, min_num_vertices=6, linestyle='-', alpha=0.5, color='blue')\n",
    "    plot_contours_pbc(contours2, ax, linewidth=2, min_num_vertices=6, linestyle='--', alpha=0.5, color='orange')\n",
    "\n",
    "    #plot spiral tips. color inner spiral tip by slow variable\n",
    "    ax.scatter(x=x_values, y=y_values, s=270, c=1+0.*c_values, marker='*', zorder=3, alpha=1., vmin=0,vmax=1)\n",
    "    ax.scatter(x=x_values, y=y_values, s=45, c=c_values, marker='*', zorder=3, alpha=1., vmin=0,vmax=1, cmap='Blues')\n",
    "    # ax.scatter(x=x_values, y=y_values, s=270, c='yellow', marker='*', zorder=3, alpha=1.)\n",
    "    # ax.scatter(x=x_values, y=y_values, s=45, c='blue', marker='*', zorder=3, alpha=1.)\n",
    "\n",
    "    ax.text(.0,.95,f\"Current Time = {t:.1} ms\",\n",
    "            horizontalalignment='left',color='white',fontsize=16,\n",
    "            transform=ax.transAxes)\n",
    "    ax.text(.0,.9,f\"Num. of Tips  = {n_tips}\",\n",
    "            horizontalalignment='left',color='white',fontsize=16,\n",
    "            transform=ax.transAxes)\n",
    "    ax.text(.5,.01,f\"Area = {25}cm^2, V. Threshold = {V_threshold}\",\n",
    "            horizontalalignment='center',color='white',fontsize=16,\n",
    "            transform=ax.transAxes)\n",
    "\n",
    "    # ax.set_title(f\"Area ={25}cm^2, V. Threshold ={V_threshold}, Num. Tips ={n_tips}\", color='blue', loc='left',pad=0)\n",
    "    ax.axis([0,200,0,200])\n",
    "#     ax.axis('image')\n",
    "    ax.set_xticks([])\n",
    "    ax.set_yticks([])\n",
    "\n",
    "    if not save:\n",
    "        plt.show()\n",
    "    else:\n",
    "        os.chdir(save_folder)\n",
    "        save_fn = f\"img{frameno:07d}.png\"\n",
    "        frameno += 1\n",
    "#         plt.tight_layout()\n",
    "        plt.savefig(save_fn,dpi=720/inch, bbox_inches='tight',pad_inches=0);\n",
    "        plt.close();\n",
    "        #     print(f'figure saved in {save_fn}.')\n",
    "        #     plt.savefig('example_parameterless_tip_detection_t_600.png')\n",
    "    return frameno"
   ]
  },
  {
   "cell_type": "markdown",
   "metadata": {},
   "source": [
    "# for one ic, compute two frames at 25ms apart (real time)\n"
   ]
  },
  {
   "cell_type": "code",
   "execution_count": 7,
   "metadata": {
    "ExecuteTime": {
     "end_time": "2020-11-17T17:17:39.219122Z",
     "start_time": "2020-11-17T17:17:39.173146Z"
    }
   },
   "outputs": [],
   "source": [
    "#import a texture\n",
    "# ## practical test case for fast tip detection kernel\n",
    "# file = '/Users/timothytyree/Documents/GitHub/care/notebooks/Data/initial-conditions-suite-1/ic-out/ic_200x200.120.32.npz'\n",
    "# txt = load_buffer(file)\n",
    "# t   = 0. #ms\n",
    "\n",
    "# #load ^that loaded initial after 20000 steps = 500 ms at time_steps of size 0.025\n",
    "file = '/Users/timothytyree/Documents/GitHub/care/notebooks/Data/test_txt.npz'\n",
    "txt  = load_buffer(file)\n",
    "t   = 500 #ms\n",
    "\n",
    "#define tip detection routine parameters\n",
    "V_threshold = 0.4\n",
    "decimals=10\n",
    "theta_threshold = 0.\n",
    "level1 = V_threshold\n",
    "level2 = 0.0\n",
    "h    = 0.025 #ms\n",
    "\n",
    "\n",
    "zero_txt = txt.copy()*0.\n",
    "width, height = txt.shape[:2]\n",
    "\n",
    "t_list = []\n",
    "n_list = []   \n",
    "dict_lst = []\n"
   ]
  },
  {
   "cell_type": "code",
   "execution_count": null,
   "metadata": {
    "ExecuteTime": {
     "end_time": "2020-11-16T19:06:40.379560Z",
     "start_time": "2020-11-16T19:06:40.343380Z"
    }
   },
   "outputs": [],
   "source": []
  },
  {
   "cell_type": "code",
   "execution_count": 8,
   "metadata": {
    "ExecuteTime": {
     "end_time": "2020-11-17T17:17:44.135686Z",
     "start_time": "2020-11-17T17:17:41.655545Z"
    }
   },
   "outputs": [
    {
     "name": "stdout",
     "output_type": "stream",
     "text": [
      "500.025\n",
      "Progress: |██████████████████████████████████████████████████| 100.0% Complete\n",
      "the current tip number is 10.\n"
     ]
    }
   ],
   "source": [
    "# tmax = 25#30000#6000#3025.600-2*h# 886.6-h#6000#600#510#600#505.225# #ms\n",
    "num_steps = 1#int(np.around((tmax-t)/h))\n",
    "tmax = h*num_steps+t\n",
    "print(tmax)\n",
    "step_count = 0\n",
    "while t<tmax:\n",
    "    #TODO: insert functionality for saving every n frames\n",
    "\n",
    "    #measure system with cython\n",
    "    #compute as discrete flow map dtxt_dt\n",
    "    dtxt_dt = zero_txt.copy()\n",
    "    get_time_step(txt, dtxt_dt)\n",
    "\n",
    "    #compute the images to find isosurfaces of\n",
    "    img    = txt[...,0]\n",
    "    dimgdt = dtxt_dt[...,0]\n",
    "\n",
    "    # find_intersections\n",
    "    retval = find_intersections(img,dimgdt,level1,level2,theta_threshold=theta_threshold)\n",
    "    lst_values_x,lst_values_y,lst_values_theta, lst_values_grad_ux, lst_values_grad_uy, lst_values_grad_vx, lst_values_grad_vy = retval\n",
    "    x_values = np.array(lst_values_x)\n",
    "    y_values = np.array(lst_values_y)\n",
    "    # EP states given by bilinear interpolation with periodic boundary conditions\n",
    "    v_lst, f_lst, s_lst = interpolate_states(x_values,y_values,width,height,txt)\n",
    "    dvdt_lst, dfdt_lst, dsdt_lst = interpolate_states(x_values,y_values,width,height,dtxt_dt)\n",
    "\n",
    "    n_tips = x_values.size\n",
    "    dict_out = {\n",
    "        't': float(t),\n",
    "        'n': int(n_tips),\n",
    "        'x': tuple(lst_values_x),\n",
    "        'y': tuple(lst_values_y),\n",
    "        'theta': tuple(lst_values_theta),\n",
    "        'grad_ux': tuple(lst_values_grad_ux),\n",
    "        'grad_uy': tuple(lst_values_grad_uy),\n",
    "        'grad_vx': tuple(lst_values_grad_vx),\n",
    "        'grad_vy': tuple(lst_values_grad_vy),\n",
    "        'v':v_lst,\n",
    "        'f':f_lst,\n",
    "        's':s_lst,\n",
    "        'dvdt':dvdt_lst,\n",
    "        'dfdt':dfdt_lst,\n",
    "        'dsdt':dsdt_lst,\n",
    "    }\n",
    "    dict_lst.append(dict_out)\n",
    "    \n",
    "    #record data for current time\n",
    "    t_list.append(t)\n",
    "    n_list.append(n_tips)\n",
    "\n",
    "    #forward Euler integration in time\n",
    "    txt += h*dtxt_dt\n",
    "    t   += h\n",
    "    step_count += 1\n",
    "    \n",
    "    #progress bar that updates after each measurement\n",
    "    printProgressBar(step_count, num_steps, prefix = 'Progress:', suffix = 'Complete', length = 50)\n",
    "beep(1)\n",
    "print(f\"\\nthe current tip number is {n_tips}.\")"
   ]
  },
  {
   "cell_type": "code",
   "execution_count": 9,
   "metadata": {
    "ExecuteTime": {
     "end_time": "2020-11-17T17:17:44.591228Z",
     "start_time": "2020-11-17T17:17:44.554619Z"
    }
   },
   "outputs": [
    {
     "name": "stdout",
     "output_type": "stream",
     "text": [
      "created save folder at /Users/timothytyree/Documents/GitHub/care/notebooks/Figures/mov/ic_test_V_0.4/frame_every_1_ms\n"
     ]
    }
   ],
   "source": [
    "# plt.imshow(dimgdt,cmap='gray')\n",
    "min_time_between_samples = 1 #milliseconds\n",
    "frameno = 1\n",
    "save_every_n_frames = int(min_time_between_samples/h)\n",
    "\n",
    "#create a save_folder if it doesn't already exist\n",
    "os.chdir(nb_dir)\n",
    "base_folder = os.path.join(nb_dir,f'Figures/mov/ic_{\"test\"}_V_{V_threshold}')\n",
    "save_folder_name = f'frame_every_{min_time_between_samples}_ms'\n",
    "save_folder = os.path.join(base_folder,save_folder_name)\n",
    "\n",
    "if not os.path.exists(base_folder):\n",
    "    os.mkdir(base_folder)\n",
    "    print(f\"created save folder at {base_folder}\")\n",
    "os.chdir(base_folder)\n",
    "if not os.path.exists(save_folder):\n",
    "    os.mkdir(save_folder)\n",
    "    print(f\"created save folder at {save_folder}\")\n",
    "os.chdir(save_folder)"
   ]
  },
  {
   "cell_type": "code",
   "execution_count": 10,
   "metadata": {
    "ExecuteTime": {
     "end_time": "2020-11-17T17:17:47.378790Z",
     "start_time": "2020-11-17T17:17:46.998344Z"
    }
   },
   "outputs": [],
   "source": [
    "#save the state of the system\n",
    "c_values = np.array(dfdt_lst)\n",
    "# c_values = np.array(s_lst)\n",
    "frameno = save_plot_as_png(img, dimgdt, x_values, y_values, c_values, n_tips, V_threshold, t, save_folder, frameno, \n",
    "    save = True, inch = 6)"
   ]
  },
  {
   "cell_type": "code",
   "execution_count": null,
   "metadata": {
    "ExecuteTime": {
     "end_time": "2020-11-16T20:25:13.232207Z",
     "start_time": "2020-11-16T20:25:12.832268Z"
    }
   },
   "outputs": [],
   "source": []
  },
  {
   "cell_type": "code",
   "execution_count": 11,
   "metadata": {
    "ExecuteTime": {
     "end_time": "2020-11-17T19:04:42.448187Z",
     "start_time": "2020-11-17T17:17:48.987904Z"
    }
   },
   "outputs": [
    {
     "name": "stdout",
     "output_type": "stream",
     "text": [
      "Progress: |█-------------------------------------------------| 3.0% Complete\n",
      "the current tip number is 0.\n"
     ]
    }
   ],
   "source": [
    "tmax = 300000#30000#6000#3025.600-2*h# 886.6-h#6000#600#510#600#505.225# #ms\n",
    "num_steps = int(np.around((tmax-t)/h))\n",
    "tmax = h*num_steps+t\n",
    "# print(tmax)\n",
    "step_count = 0\n",
    "while (t<tmax) & (n_tips > 0):\n",
    "    if step_count%save_every_n_frames != 0:\n",
    "        #forward Euler integration in time\n",
    "        time_step(txt, h, zero_txt)\n",
    "    else:\n",
    "        #measure system with cython\n",
    "        #compute as discrete flow map dtxt_dt\n",
    "        dtxt_dt = zero_txt.copy()\n",
    "        get_time_step(txt, dtxt_dt)\n",
    "\n",
    "        #compute the images to find isosurfaces of\n",
    "        img    = txt[...,0]\n",
    "        dimgdt = dtxt_dt[...,0]\n",
    "\n",
    "        # find_intersections\n",
    "        retval = find_intersections(img,dimgdt,level1,level2,theta_threshold=theta_threshold)\n",
    "        lst_values_x,lst_values_y,lst_values_theta, lst_values_grad_ux, lst_values_grad_uy, lst_values_grad_vx, lst_values_grad_vy = retval\n",
    "        x_values = np.array(lst_values_x)\n",
    "        y_values = np.array(lst_values_y)\n",
    "        # EP states given by bilinear interpolation with periodic boundary conditions\n",
    "        v_lst, f_lst, s_lst = interpolate_states(x_values,y_values,width,height,txt)\n",
    "        dvdt_lst, dfdt_lst, dsdt_lst = interpolate_states(x_values,y_values,width,height,dtxt_dt)\n",
    "\n",
    "\n",
    "\n",
    "        n_tips = x_values.size\n",
    "        dict_out = {\n",
    "            't': float(t),\n",
    "            'n': int(n_tips),\n",
    "            'x': tuple(lst_values_x),\n",
    "            'y': tuple(lst_values_y),\n",
    "            'theta': tuple(lst_values_theta),\n",
    "            'grad_ux': tuple(lst_values_grad_ux),\n",
    "            'grad_uy': tuple(lst_values_grad_uy),\n",
    "            'grad_vx': tuple(lst_values_grad_vx),\n",
    "            'grad_vy': tuple(lst_values_grad_vy),\n",
    "            'v':v_lst,\n",
    "            'f':f_lst,\n",
    "            's':s_lst,\n",
    "            'dvdt':dvdt_lst,\n",
    "            'dfdt':dfdt_lst,\n",
    "            'dsdt':dsdt_lst,\n",
    "        }\n",
    "        dict_lst.append(dict_out)\n",
    "\n",
    "        #record data for current time\n",
    "        t_list.append(t)\n",
    "        n_list.append(n_tips)\n",
    "\n",
    "        #save the state of the system as a png\n",
    "        c_values = np.array(dfdt_lst)#s_lst)\n",
    "        frameno = save_plot_as_png(img, dimgdt, x_values, y_values, c_values, n_tips, V_threshold, t, save_folder, frameno, \n",
    "                                   save = True, inch = 6)\n",
    "        #progress bar that updates after each measurement\n",
    "        printProgressBar(step_count, num_steps, prefix = 'Progress:', suffix = 'Complete', length = 50)\n",
    "\n",
    "        #forward Euler integration in time\n",
    "        txt += h*dtxt_dt\n",
    "    t   += h\n",
    "    step_count += 1\n",
    "    \n",
    "beep(3)\n",
    "print(f\"\\nthe current tip number is {n_tips}.\")"
   ]
  },
  {
   "cell_type": "code",
   "execution_count": null,
   "metadata": {
    "ExecuteTime": {
     "end_time": "2020-11-17T17:16:52.001342Z",
     "start_time": "2020-11-17T17:16:51.533Z"
    }
   },
   "outputs": [],
   "source": [
    "#TODO: make a *.mov of ^this\n",
    "#TODO(later): compute the trajectories of spiral tips.\n",
    "#TODO(later): color tips by their particle number.\n",
    "#TODO(later): make a *.mov of ^this\n",
    "#TODO(later): does ^this look reasonable"
   ]
  },
  {
   "cell_type": "code",
   "execution_count": 2,
   "metadata": {
    "ExecuteTime": {
     "end_time": "2020-11-17T17:16:55.201595Z",
     "start_time": "2020-11-17T17:16:55.164000Z"
    }
   },
   "outputs": [
    {
     "ename": "NameError",
     "evalue": "name 'save_plot_as_png' is not defined",
     "output_type": "error",
     "traceback": [
      "\u001b[0;31m---------------------------------------------------------------------------\u001b[0m",
      "\u001b[0;31mNameError\u001b[0m                                 Traceback (most recent call last)",
      "\u001b[0;32m<ipython-input-2-798e14a1ea12>\u001b[0m in \u001b[0;36m<module>\u001b[0;34m\u001b[0m\n\u001b[0;32m----> 1\u001b[0;31m save_plot_as_png(img, dimgdt, x_values, y_values, c_values, n_tips, V_threshold, t, save_folder, frameno, \n\u001b[0m\u001b[1;32m      2\u001b[0m                                    save = True, inch = 6)\n",
      "\u001b[0;31mNameError\u001b[0m: name 'save_plot_as_png' is not defined"
     ]
    }
   ],
   "source": [
    "save_plot_as_png(img, dimgdt, x_values, y_values, c_values, n_tips, V_threshold, t, save_folder, frameno, \n",
    "                                   save = True, inch = 6)"
   ]
  },
  {
   "cell_type": "code",
   "execution_count": 22,
   "metadata": {
    "ExecuteTime": {
     "end_time": "2020-11-16T19:28:16.470009Z",
     "start_time": "2020-11-16T19:28:16.444310Z"
    }
   },
   "outputs": [
    {
     "name": "stdout",
     "output_type": "stream",
     "text": [
      "9\n"
     ]
    }
   ],
   "source": [
    "#TODO: time step forward 25ms\n",
    "#TODO: print dV/dt to file\n",
    "\n",
    "contour_lst = split_contour_into_contiguous(contours1[0])\n",
    "ct = contour_lst[0]\n",
    "print(len(contour_lst))"
   ]
  },
  {
   "cell_type": "code",
   "execution_count": 23,
   "metadata": {
    "ExecuteTime": {
     "end_time": "2020-11-16T19:28:16.880300Z",
     "start_time": "2020-11-16T19:28:16.851367Z"
    }
   },
   "outputs": [
    {
     "name": "stdout",
     "output_type": "stream",
     "text": [
      "8\n"
     ]
    }
   ],
   "source": [
    "min_num_vertices = 3\n",
    "pop_until_long_enough(lst_lst=contour_lst,min_length=min_num_vertices)\n",
    "print(len(contour_lst))"
   ]
  },
  {
   "cell_type": "markdown",
   "metadata": {
    "ExecuteTime": {
     "end_time": "2020-11-16T19:28:22.292836Z",
     "start_time": "2020-11-16T19:28:22.265896Z"
    }
   },
   "source": [
    "# TODO: color solid blue contour by local contour curvature\n",
    "- TODO: integrate some integral measure of string curvature between the \"high\"-halves of the contour2 family of $dV/dt=0$. __I observe that tips move in the direction their nonlocal string dictates."
   ]
  },
  {
   "cell_type": "code",
   "execution_count": null,
   "metadata": {},
   "outputs": [],
   "source": [
    "#TODO: download an audio track to put into the background of the movie before the prepending intro.MTS\n",
    "!youtube-dl https://youtu.be/O2KUTa6P6lM -pxl_fmt 720hd -o tmp.mka\n",
    "# !youtube-dl https://www.youtube.com/watch?v=O2KUTa6P6lM&ab_channel=ThePochaccos"
   ]
  }
 ],
 "metadata": {
  "kernelspec": {
   "display_name": "Python 3",
   "language": "python",
   "name": "python3"
  },
  "varInspector": {
   "cols": {
    "lenName": 16,
    "lenType": 16,
    "lenVar": 40
   },
   "kernels_config": {
    "python": {
     "delete_cmd_postfix": "",
     "delete_cmd_prefix": "del ",
     "library": "var_list.py",
     "varRefreshCmd": "print(var_dic_list())"
    },
    "r": {
     "delete_cmd_postfix": ") ",
     "delete_cmd_prefix": "rm(",
     "library": "var_list.r",
     "varRefreshCmd": "cat(var_dic_list()) "
    }
   },
   "types_to_exclude": [
    "module",
    "function",
    "builtin_function_or_method",
    "instance",
    "_Feature"
   ],
   "window_display": false
  }
 },
 "nbformat": 4,
 "nbformat_minor": 4
}
