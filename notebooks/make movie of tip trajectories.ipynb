{
 "cells": [
  {
   "cell_type": "markdown",
   "metadata": {},
   "source": [
    "# Make a minimalist movie showing tip trajectories\n",
    "Tim Tyree<br>\n",
    "11.16.2020"
   ]
  },
  {
   "cell_type": "code",
   "execution_count": 1,
   "metadata": {
    "ExecuteTime": {
     "end_time": "2021-09-28T04:18:38.651029Z",
     "start_time": "2021-09-28T04:18:37.500959Z"
    }
   },
   "outputs": [
    {
     "name": "stdout",
     "output_type": "stream",
     "text": [
      "Automatic calling is: Smart\n"
     ]
    }
   ],
   "source": [
    "#pylab\n",
    "%matplotlib inline\n",
    "import numpy as np, pandas as pd, matplotlib.pyplot as plt\n",
    "\n",
    "import skimage as sk\n",
    "from skimage import measure, filters\n",
    "\n",
    "from numba import njit, jit, vectorize\n",
    "from PIL import Image\n",
    "import imageio\n",
    "# import cv2 as cv\n",
    "\n",
    "#automate the boring stuff\n",
    "from IPython import utils\n",
    "import time, os, sys, re\n",
    "beep = lambda x: os.system(\"echo -n '\\\\a';sleep 0.2;\" * x)\n",
    "if not 'nb_dir' in globals():\n",
    "    nb_dir = os.getcwd()\n",
    "# width = 512\n",
    "# height = 512\n",
    "# channel_no = 3\n",
    "\n",
    "# #load the libraries\n",
    "from lib import *\n",
    "# from lib.measure._find_tips_pbc_cy import lookup_segments\n",
    "# from lib.measure._find_tips_kernel import *\n",
    "# from lib.measure._find_tips_kernel_cy import find_intersections\n",
    "#use cuda via numba\n",
    "from numba import jit, njit, vectorize, cuda, uint32, f8, uint8\n",
    "from numba.typed import List\n",
    "# from lib.contours_to_tips import *\n",
    "import shutil\n",
    "from lib.measure.comp_tips_safely import get_comp_tips\n",
    "from lib.viewer.DomainPlot import SaveTipsAndColoredContours\n",
    "\n",
    "%autocall 1\n",
    "%load_ext autoreload\n",
    "%autoreload 2"
   ]
  },
  {
   "cell_type": "code",
   "execution_count": 2,
   "metadata": {
    "ExecuteTime": {
     "end_time": "2021-09-28T04:18:38.665965Z",
     "start_time": "2021-09-28T04:18:38.652409Z"
    }
   },
   "outputs": [],
   "source": [
    "#DONE: see if the LR one step method is already cuda accelerated. it's not and shan't\n",
    "#TODO: get the plotter to be functional \n",
    "#TODO: copy the highly successfull method from bgmc over here"
   ]
  },
  {
   "cell_type": "code",
   "execution_count": 3,
   "metadata": {
    "ExecuteTime": {
     "end_time": "2021-09-28T04:18:38.682913Z",
     "start_time": "2021-09-28T04:18:38.667229Z"
    }
   },
   "outputs": [],
   "source": [
    "# from lib.controller.one_step_splitting_cuda_kernels import get_forward_integrate_kernel"
   ]
  },
  {
   "cell_type": "code",
   "execution_count": 4,
   "metadata": {
    "ExecuteTime": {
     "end_time": "2021-09-28T04:18:38.698404Z",
     "start_time": "2021-09-28T04:18:38.684276Z"
    }
   },
   "outputs": [],
   "source": [
    "# forward_integrate_kernel=get_forward_integrate_kernel(nb_dir,dt,width,height,ds,stream,diffCoef=0.001,Cm=1.)\n",
    "# forward_integrate_kernel(txt,txt_Istim, num_steps)"
   ]
  },
  {
   "cell_type": "markdown",
   "metadata": {
    "heading_collapsed": true
   },
   "source": [
    "# scratchwerk\n"
   ]
  },
  {
   "cell_type": "code",
   "execution_count": 5,
   "metadata": {
    "ExecuteTime": {
     "end_time": "2021-09-28T04:18:38.716628Z",
     "start_time": "2021-09-28T04:18:38.699584Z"
    },
    "hidden": true
   },
   "outputs": [],
   "source": [
    "# #TODO(later): plot these tips with their u's and v's\n",
    "# # Display the image and plot all pbc contours found properly!\n",
    "# def save_plot_as_png(img, dimgdt, x_values, y_values, c_values, n_tips, V_threshold, t, save_folder, frameno, \n",
    "#     save = True, inch = 6, **kwargs):\n",
    "#     ''''''\n",
    "#     fig, ax = plt.subplots(figsize=(inch,inch))\n",
    "\n",
    "#     #appears to work     contours1 = find_contours(img,    level = 0.5)\n",
    "#     contours1 = find_contours(img,    level = V_threshold)\n",
    "#     contours2 = find_contours(dimgdt, level = 0.0)\n",
    "\n",
    "#     # ax.imshow(img, cmap=plt.cm.gray)\n",
    "#     ax.imshow(dimgdt, cmap=plt.cm.gray)\n",
    "#     # ax.imshow(dimgdt*img, cmap=plt.cm.gray)\n",
    "\n",
    "\n",
    "#     plot_contours_pbc(contours1, ax, linewidth=2, min_num_vertices=6, linestyle='-', alpha=0.5, color='blue')\n",
    "#     plot_contours_pbc(contours2, ax, linewidth=2, min_num_vertices=6, linestyle='--', alpha=0.5, color='orange')\n",
    "\n",
    "#     #plot spiral tips. color inner spiral tip by slow variable\n",
    "#     ax.scatter(x=x_values, y=y_values, s=270, c=1+0.*c_values, marker='*', zorder=3, alpha=1., vmin=0,vmax=1)\n",
    "#     ax.scatter(x=x_values, y=y_values, s=45, c=c_values, marker='*', zorder=3, alpha=1., vmin=0,vmax=1, cmap='Blues')\n",
    "#     # ax.scatter(x=x_values, y=y_values, s=270, c='yellow', marker='*', zorder=3, alpha=1.)\n",
    "#     # ax.scatter(x=x_values, y=y_values, s=45, c='blue', marker='*', zorder=3, alpha=1.)\n",
    "\n",
    "#     ax.text(.0,.95,f\"t = {t*10**3:.2} s\",\n",
    "#             horizontalalignment='left',color='white',fontsize=16,\n",
    "#             transform=ax.transAxes)\n",
    "#     ax.text(.0,.9,f\"Num. of Tips  = {n_tips}\",\n",
    "#             horizontalalignment='left',color='white',fontsize=16,\n",
    "#             transform=ax.transAxes)\n",
    "#     ax.text(.5,.01,f\"Area = {25}cm^2, V. Threshold = {V_threshold}\",\n",
    "#             horizontalalignment='center',color='white',fontsize=16,\n",
    "#             transform=ax.transAxes)\n",
    "\n",
    "#     # ax.set_title(f\"Area ={25}cm^2, V. Threshold ={V_threshold}, Num. Tips ={n_tips}\", color='blue', loc='left',pad=0)\n",
    "#     ax.axis([0,200,0,200])\n",
    "# #     ax.axis('image')\n",
    "#     ax.set_xticks([])\n",
    "#     ax.set_yticks([])\n",
    "\n",
    "#     if not save:\n",
    "#         plt.show()\n",
    "#     else:\n",
    "#         os.chdir(save_folder)\n",
    "#         save_fn = f\"img{frameno:07d}.png\"\n",
    "#         frameno += 1\n",
    "# #         plt.tight_layout()\n",
    "#         plt.savefig(save_fn,dpi=720/inch, bbox_inches='tight',pad_inches=0);\n",
    "#         plt.close();\n",
    "#         #     print(f'figure saved in {save_fn}.')\n",
    "#         #     plt.savefig('example_parameterless_tip_detection_t_600.png')\n",
    "#     return frameno"
   ]
  },
  {
   "cell_type": "code",
   "execution_count": 6,
   "metadata": {
    "ExecuteTime": {
     "end_time": "2021-09-28T04:18:38.735113Z",
     "start_time": "2021-09-28T04:18:38.718627Z"
    },
    "hidden": true
   },
   "outputs": [],
   "source": [
    "# #import a texture\n",
    "# # ## practical test case for fast tip detection kernel\n",
    "# # file = '/Users/timothytyree/Documents/GitHub/care/notebooks/Data/initial-conditions-suite-1/ic-out/ic_200x200.120.32.npz'\n",
    "# # txt = load_buffer(file)\n",
    "# # t   = 0. #ms\n",
    "\n",
    "# # # #load ^that loaded initial after 20000 steps = 500 ms at time_steps of size 0.025\n",
    "# # file = '/Users/timothytyree/Documents/GitHub/care/notebooks/Data/test_txt.npz'\n",
    "# # txt  = load_buffer(file)\n",
    "# # t   = 500 #ms\n",
    "\n",
    "# # #load a mesh from Luo-Rudy that is near termination\n",
    "# txt_fn=f'{nb_dir}/Data/test_data/ic008.33_t_900.0.npz'\n",
    "# t=900.\n",
    "# txt=load_buffer(txt_fn)\n",
    "# inVc,outVc,inmhjdfx,outmhjdfx,dVcdt=unstack_txt(txt)\n",
    "\n",
    "\n",
    "\n",
    "# # #define tip detection routine parameters\n",
    "# # V_threshold = 0.4\n",
    "# # decimals=10\n",
    "# # theta_threshold = 0.\n",
    "# # level1 = V_threshold\n",
    "# # level2 = 0.0\n",
    "# # h    = 0.025 #ms\n",
    "\n",
    "# #define tip detection routine parameters\n",
    "# V_threshold = -40\n",
    "# decimals=10\n",
    "# theta_threshold = 0.\n",
    "# level1 = V_threshold\n",
    "# level2 = 0.0\n",
    "# h    = 0.025#0.0010 #ms\n",
    "# dt=h\n",
    "# ds=5#cm\n",
    "# zero_txt = txt.copy()*0.\n",
    "# width, height = txt.shape[:2]\n",
    "\n",
    "# t_list = []\n",
    "# n_list = []   \n",
    "# dict_lst = []"
   ]
  },
  {
   "cell_type": "code",
   "execution_count": 7,
   "metadata": {
    "ExecuteTime": {
     "end_time": "2021-09-28T04:18:38.767814Z",
     "start_time": "2021-09-28T04:18:38.737176Z"
    },
    "hidden": true
   },
   "outputs": [],
   "source": [
    "# # get_one_step at this dt\n",
    "# __, arr39, one_step = get_one_step_explicit_synchronous_splitting(\n",
    "#     nb_dir,dt=dt,width=width,height=height,ds=ds,diffCoef=0.001,Cm=1.0)"
   ]
  },
  {
   "cell_type": "code",
   "execution_count": null,
   "metadata": {
    "hidden": true
   },
   "outputs": [],
   "source": []
  },
  {
   "cell_type": "code",
   "execution_count": null,
   "metadata": {
    "hidden": true
   },
   "outputs": [],
   "source": []
  },
  {
   "cell_type": "code",
   "execution_count": null,
   "metadata": {
    "hidden": true
   },
   "outputs": [],
   "source": []
  },
  {
   "cell_type": "markdown",
   "metadata": {
    "heading_collapsed": true,
    "hidden": true
   },
   "source": [
    "### scratchwerk"
   ]
  },
  {
   "cell_type": "code",
   "execution_count": 8,
   "metadata": {
    "ExecuteTime": {
     "end_time": "2021-09-28T04:18:38.790636Z",
     "start_time": "2021-09-28T04:18:38.769542Z"
    },
    "hidden": true
   },
   "outputs": [],
   "source": [
    "# # tmax = 25#30000#6000#3025.600-2*h# 886.6-h#6000#600#510#600#505.225# #ms\n",
    "# num_steps = 1#int(np.around((tmax-t)/h))\n",
    "# tmax = h*num_steps+t\n",
    "# print(tmax)\n",
    "# step_count = 0\n",
    "# while t<tmax:\n",
    "#     #TODO: insert functionality for saving every n frames\n",
    "\n",
    "# #     #measure system with cython\n",
    "# #     #compute as discrete flow map dtxt_dt\n",
    "# #     dtxt_dt = zero_txt.copy()\n",
    "# #     get_time_step(txt, dtxt_dt)\n",
    "\n",
    "# #     #compute the images to find isosurfaces of\n",
    "# #     img    = txt[...,0]\n",
    "# #     dimgdt = dtxt_dt[...,0]\n",
    "\n",
    "#     # find_intersections\n",
    "#     retval = find_intersections(img,dimgdt,level1,level2,theta_threshold=theta_threshold)\n",
    "#     lst_values_x,lst_values_y,lst_values_theta, lst_values_grad_ux, lst_values_grad_uy, lst_values_grad_vx, lst_values_grad_vy = retval\n",
    "#     x_values = np.array(lst_values_x)\n",
    "#     y_values = np.array(lst_values_y)\n",
    "#     # EP states given by bilinear interpolation with periodic boundary conditions\n",
    "#     v_lst, f_lst, s_lst = interpolate_states(x_values,y_values,width,height,txt)\n",
    "#     dvdt_lst, dfdt_lst, dsdt_lst = interpolate_states(x_values,y_values,width,height,dtxt_dt)\n",
    "\n",
    "#     n_tips = x_values.size\n",
    "#     dict_out = {\n",
    "#         't': float(t),\n",
    "#         'n': int(n_tips),\n",
    "#         'x': tuple(lst_values_x),\n",
    "#         'y': tuple(lst_values_y),\n",
    "#         'theta': tuple(lst_values_theta),\n",
    "#         'grad_ux': tuple(lst_values_grad_ux),\n",
    "#         'grad_uy': tuple(lst_values_grad_uy),\n",
    "#         'grad_vx': tuple(lst_values_grad_vx),\n",
    "#         'grad_vy': tuple(lst_values_grad_vy),\n",
    "#         'v':v_lst,\n",
    "#         'f':f_lst,\n",
    "#         's':s_lst,\n",
    "#         'dvdt':dvdt_lst,\n",
    "#         'dfdt':dfdt_lst,\n",
    "#         'dsdt':dsdt_lst,\n",
    "#     }\n",
    "#     dict_lst.append(dict_out)\n",
    "    \n",
    "#     #record data for current time\n",
    "#     t_list.append(t)\n",
    "#     n_list.append(n_tips)\n",
    "\n",
    "#     #forward Euler integration in time\n",
    "#     txt += h*dtxt_dt\n",
    "#     t   += h\n",
    "#     step_count += 1\n",
    "    \n",
    "#     #progress bar that updates after each measurement\n",
    "#     printProgressBar(step_count, num_steps, prefix = 'Progress:', suffix = 'Complete', length = 50)\n",
    "# beep(1)\n",
    "# print(f\"\\nthe current tip number is {n_tips}.\")"
   ]
  },
  {
   "cell_type": "code",
   "execution_count": 9,
   "metadata": {
    "ExecuteTime": {
     "end_time": "2021-09-28T04:18:38.809980Z",
     "start_time": "2021-09-28T04:18:38.791945Z"
    },
    "hidden": true
   },
   "outputs": [],
   "source": [
    "# #save the state of the system\n",
    "# c_values = np.array(dfdt_lst)\n",
    "# # c_values = np.array(s_lst)\n",
    "# frameno = save_plot_as_png(img, dimgdt, x_values, y_values, c_values, n_tips, V_threshold, t, save_folder, frameno, \n",
    "#     save = True, inch = 6)"
   ]
  },
  {
   "cell_type": "code",
   "execution_count": 10,
   "metadata": {
    "ExecuteTime": {
     "end_time": "2021-09-28T04:18:38.827645Z",
     "start_time": "2021-09-28T04:18:38.811353Z"
    },
    "hidden": true
   },
   "outputs": [],
   "source": [
    "# #not used in save_figure_as_png\n",
    "# # def get_time_step(frameno,t,t_unit_string=\"s\"):\n",
    "# #     return f\"frame={frameno}\"\n",
    "# #     return f\"t = {t*10**3:.2} \"+t_unit_string\n",
    "\n",
    "# def get_message(ntips):\n",
    "#     return f\"Num. of Tips  = {ntips}\"\n",
    "\n",
    "# #TODO(later): plot these tips with their u's and v's\n",
    "# # Display the image and plot all pbc contours found properly!\n",
    "# def save_figure_as_png(fig,ax,save_folder,save_fn,time_step,inch = 6, **kwargs):\n",
    "#     '''\n",
    "#     Example Usage:\n",
    "    \n",
    "#     '''\n",
    "#     ax.text(.0,.95,time_step,\n",
    "#             horizontalalignment='left',color='white',fontsize=16,\n",
    "#             transform=ax.transAxes)\n",
    "#     ax.text(.0,.9,message,\n",
    "#             horizontalalignment='left',color='white',fontsize=16,\n",
    "#             transform=ax.transAxes)\n",
    "# #     ax.text(.5,.01,f\"Area = {25}cm^2, V. Threshold = {V_threshold}\",\n",
    "# #             horizontalalignment='center',color='white',fontsize=16,\n",
    "# #             transform=ax.transAxes)\n",
    "#     os.chdir(save_folder)\n",
    "#     save_fn = f\"img{frameno:07d}.png\"\n",
    "#     frameno += 1\n",
    "# #         plt.tight_layout()\n",
    "#     fig.savefig(save_fn,dpi=720/inch, bbox_inches='tight',pad_inches=0);\n",
    "#     plt.close();\n",
    "#     return os.path.abspath(save_fn)\n",
    "\n",
    "# # def plot_system(img,dimgdt,V_threshold=-40):\n",
    "# # #     #visually verify system\n",
    "# # #     img=inVc[...,0]\n",
    "# # #     dimgdt=dVcdt[...,0]\n",
    "# #     # compute_all_spiral_tips= get_compute_all_spiral_tips(mode='simp',width=width,height=height)\n",
    "# #     # dict_out=compute_all_spiral_tips(t,img,dimgdt,level1=V_threshold,level2=0.)#,width=width,height=height)\n",
    "# #     #     print(f\"{ntips} tips are present at time t={int(t_prev)}.\")\n",
    "# #     fig = ShowDomain(img,dimgdt,x_values,y_values,0.*x_values,V_threshold,t,inch=6,fontsize=16,vmin_img=-85.,vmax_img=35.,\n",
    "# #                      area=25,frameno=1,save_fn=None,save_folder=None,save=False,annotating=False,axis=[0,txt.shape[0],0,txt.shape[1]])\n",
    "# #     ax_list = fig.axes\n",
    "# #     return fig"
   ]
  },
  {
   "cell_type": "code",
   "execution_count": null,
   "metadata": {
    "ExecuteTime": {
     "end_time": "2021-09-27T20:26:59.104885Z",
     "start_time": "2021-09-27T20:26:58.929280Z"
    },
    "hidden": true
   },
   "outputs": [],
   "source": []
  },
  {
   "cell_type": "code",
   "execution_count": 11,
   "metadata": {
    "ExecuteTime": {
     "end_time": "2021-09-28T04:18:38.845128Z",
     "start_time": "2021-09-28T04:18:38.828748Z"
    },
    "hidden": true
   },
   "outputs": [],
   "source": [
    "# #TODO: add support for getting intersection between frames separated by at least two milliseconds\n",
    "\n",
    "# tmax = 300000#30000#6000#3025.600-2*h# 886.6-h#6000#600#510#600#505.225# #ms\n",
    "# num_steps = int(np.around((tmax-t)/h))\n",
    "# tmax = h*num_steps+t\n",
    "# # print(tmax)\n",
    "# n_tips=1\n",
    "# step_count = 0\n",
    "# while (t<tmax) & (n_tips > 0):\n",
    "#     if step_count%save_every_n_frames != 0:\n",
    "#         #forward Euler integration in time\n",
    "#         time_step(txt, h, zero_txt)\n",
    "#     else:\n",
    "#         #measure system with cython\n",
    "#         #compute as discrete flow map dtxt_dt\n",
    "#         dtxt_dt = zero_txt.copy()\n",
    "#         get_time_step(txt, dtxt_dt)\n",
    "\n",
    "#         #compute the images to find isosurfaces of\n",
    "#         img    = txt[...,0]\n",
    "#         dimgdt = dtxt_dt[...,0]\n",
    "\n",
    "#         # find_intersections\n",
    "#         retval = find_intersections(img,dimgdt,level1,level2,theta_threshold=theta_threshold)\n",
    "#         lst_values_x,lst_values_y,lst_values_theta, lst_values_grad_ux, lst_values_grad_uy, lst_values_grad_vx, lst_values_grad_vy = retval\n",
    "#         x_values = np.array(lst_values_x)\n",
    "#         y_values = np.array(lst_values_y)\n",
    "#         # EP states given by bilinear interpolation with periodic boundary conditions\n",
    "#         v_lst, f_lst, s_lst = interpolate_states(x_values,y_values,width,height,txt)\n",
    "#         dvdt_lst, dfdt_lst, dsdt_lst = interpolate_states(x_values,y_values,width,height,dtxt_dt)\n",
    "\n",
    "\n",
    "\n",
    "#         n_tips = x_values.size\n",
    "#         dict_out = {\n",
    "#             't': float(t),\n",
    "#             'n': int(n_tips),\n",
    "#             'x': tuple(lst_values_x),\n",
    "#             'y': tuple(lst_values_y),\n",
    "#             'theta': tuple(lst_values_theta),\n",
    "#             'grad_ux': tuple(lst_values_grad_ux),\n",
    "#             'grad_uy': tuple(lst_values_grad_uy),\n",
    "#             'grad_vx': tuple(lst_values_grad_vx),\n",
    "#             'grad_vy': tuple(lst_values_grad_vy),\n",
    "#             'v':v_lst,\n",
    "#             'f':f_lst,\n",
    "#             's':s_lst,\n",
    "#             'dvdt':dvdt_lst,\n",
    "#             'dfdt':dfdt_lst,\n",
    "#             'dsdt':dsdt_lst,\n",
    "#         }\n",
    "#         dict_lst.append(dict_out)\n",
    "\n",
    "#         #record data for current time\n",
    "#         t_list.append(t)\n",
    "#         n_list.append(n_tips)\n",
    "\n",
    "#         #save the state of the system as a png\n",
    "#         c_values = np.array(dfdt_lst)#s_lst)\n",
    "#         frameno = save_plot_as_png(img, dimgdt, x_values, y_values, c_values, n_tips, V_threshold, t, save_folder, frameno, \n",
    "#                                    save = True, inch = 6)\n",
    "#         #progress bar that updates after each measurement\n",
    "#         printProgressBar(step_count, num_steps, prefix = 'Progress:', suffix = 'Complete', length = 50)\n",
    "\n",
    "#         #forward Euler integration in time\n",
    "#         txt += h*dtxt_dt\n",
    "#     t   += h\n",
    "#     step_count += 1\n",
    "    \n",
    "# beep(3)\n",
    "# print(f\"\\nthe current tip number is {n_tips}.\")"
   ]
  },
  {
   "cell_type": "code",
   "execution_count": 12,
   "metadata": {
    "ExecuteTime": {
     "end_time": "2021-09-28T04:18:38.860290Z",
     "start_time": "2021-09-28T04:18:38.846092Z"
    },
    "hidden": true
   },
   "outputs": [],
   "source": [
    "#TODO: make a *.mov of ^this\n",
    "#TODO(later): compute the trajectories of spiral tips.\n",
    "#TODO(later): color tips by their particle number.\n",
    "#TODO(later): make a *.mov of ^this\n",
    "#TODO(later): does ^this look reasonable"
   ]
  },
  {
   "cell_type": "code",
   "execution_count": 13,
   "metadata": {
    "ExecuteTime": {
     "end_time": "2021-09-28T04:18:38.875421Z",
     "start_time": "2021-09-28T04:18:38.861301Z"
    },
    "hidden": true
   },
   "outputs": [],
   "source": [
    "# save_plot_as_png(img, dimgdt, x_values, y_values, c_values, n_tips, V_threshold, t, save_folder, frameno, \n",
    "#                                    save = True, inch = 6)"
   ]
  },
  {
   "cell_type": "code",
   "execution_count": 14,
   "metadata": {
    "ExecuteTime": {
     "end_time": "2021-09-28T04:18:38.890327Z",
     "start_time": "2021-09-28T04:18:38.876429Z"
    },
    "hidden": true
   },
   "outputs": [],
   "source": [
    "# #TODO: time step forward 25ms\n",
    "# #TODO: print dV/dt to file\n",
    "\n",
    "# contour_lst = split_contour_into_contiguous(contours1[0])\n",
    "# ct = contour_lst[0]\n",
    "# print(len(contour_lst))"
   ]
  },
  {
   "cell_type": "code",
   "execution_count": 15,
   "metadata": {
    "ExecuteTime": {
     "end_time": "2021-09-28T04:18:38.905427Z",
     "start_time": "2021-09-28T04:18:38.891240Z"
    },
    "hidden": true
   },
   "outputs": [],
   "source": [
    "# min_num_vertices = 3\n",
    "# pop_until_long_enough(lst_lst=contour_lst,min_length=min_num_vertices)\n",
    "# print(len(contour_lst))"
   ]
  },
  {
   "cell_type": "markdown",
   "metadata": {
    "ExecuteTime": {
     "end_time": "2020-11-16T19:28:22.292836Z",
     "start_time": "2020-11-16T19:28:22.265896Z"
    },
    "hidden": true
   },
   "source": [
    "### TODO(later): add background music from the public domain"
   ]
  },
  {
   "cell_type": "markdown",
   "metadata": {
    "hidden": true
   },
   "source": [
    "- TODO: integrate some integral measure of string curvature between the \"high\"-halves of the contour2 family of $dV/dt=0$. __I observe that tips move in the direction their nonlocal string dictates."
   ]
  },
  {
   "cell_type": "code",
   "execution_count": 16,
   "metadata": {
    "ExecuteTime": {
     "end_time": "2021-09-28T04:18:38.922498Z",
     "start_time": "2021-09-28T04:18:38.906430Z"
    },
    "hidden": true
   },
   "outputs": [],
   "source": [
    "#TODO: download an audio track to put into the background of the movie before the prepending intro.MTS\n",
    "# !youtube-dl https://youtu.be/O2KUTa6P6lM -pxl_fmt 720hd -o tmp.mka\n",
    "# !youtube-dl https://www.youtube.com/watch?v=O2KUTa6P6lM&ab_channel=ThePochaccos"
   ]
  },
  {
   "cell_type": "markdown",
   "metadata": {},
   "source": [
    "# DONE: make a miminalize movie of the LR model"
   ]
  },
  {
   "cell_type": "code",
   "execution_count": 43,
   "metadata": {
    "ExecuteTime": {
     "end_time": "2021-09-28T18:54:37.779451Z",
     "start_time": "2021-09-28T18:54:37.761087Z"
    }
   },
   "outputs": [],
   "source": [
    "def save_system_as_png(img,dimgdt,x_values,y_values,c_values,V_threshold,\n",
    "            frameno,t,\n",
    "            save_folder,\n",
    "            save_fn):\n",
    "    #visually verify system\n",
    "    # compute_all_spiral_tips= get_compute_all_spiral_tips(mode='simp',width=width,height=height)\n",
    "    # dict_out=compute_all_spiral_tips(t,img,dimgdt,level1=V_threshold,level2=0.)#,width=width,height=height)\n",
    "    # print(f\"{ntips} tips are present at time t={int(t_prev)}.\")\n",
    "    fig = ShowDomain(img,dimgdt,x_values,y_values,c_values,V_threshold,t,inch=6,\n",
    "                     fontsize=16,vmin_img=-85.,vmax_img=35.,area=25,\n",
    "                     frameno=frameno,\n",
    "                     save_fn=save_fn,\n",
    "                     save_folder=save_folder,\n",
    "                     save=True,\n",
    "                     annotating=True,\n",
    "                     axis=[0,img.shape[0],0,img.shape[1]],cmap='bone')\n",
    "    return save_fn"
   ]
  },
  {
   "cell_type": "code",
   "execution_count": 44,
   "metadata": {
    "ExecuteTime": {
     "end_time": "2021-09-28T18:54:38.343932Z",
     "start_time": "2021-09-28T18:54:38.326577Z"
    }
   },
   "outputs": [],
   "source": [
    "# # find_intersections\n",
    "# retval = find_intersections(img,dimgdt,level1,level2,theta_threshold=theta_threshold)\n",
    "# lst_values_x,lst_values_y,lst_values_theta, lst_values_grad_ux, lst_values_grad_uy, lst_values_grad_vx, lst_values_grad_vy = retval\n",
    "# x_values = np.array(lst_values_x)\n",
    "# y_values = np.array(lst_values_y)"
   ]
  },
  {
   "cell_type": "code",
   "execution_count": 45,
   "metadata": {
    "ExecuteTime": {
     "end_time": "2021-09-28T18:54:38.908631Z",
     "start_time": "2021-09-28T18:54:38.894365Z"
    }
   },
   "outputs": [],
   "source": [
    "# jump_threshold=width/2\n",
    "# size_threshold=0\n",
    "# level1=V_threshold\n",
    "# level2=V_threshold\n",
    "# #compute spiral tip location and topological number\n",
    "# contours_a = find_contours(img,        level = level1)\n",
    "# contours_b = find_contours(img_prev,     level = level2)\n",
    "# s1_lst, s2_lst, x_lst, y_lst = contours_to_simple_tips_pbc(contours_a,contours_b,width,height,jump_threshold,size_threshold)\n",
    "# dict_topo={'x':x_lst,'y':y_lst,'s1':s1_lst,'s2':s2_lst, 't':t}\n",
    "# print(dict_topo)"
   ]
  },
  {
   "cell_type": "code",
   "execution_count": 46,
   "metadata": {
    "ExecuteTime": {
     "end_time": "2021-09-28T18:54:51.454502Z",
     "start_time": "2021-09-28T18:54:51.252337Z"
    }
   },
   "outputs": [
    {
     "name": "stdout",
     "output_type": "stream",
     "text": [
      "dumped cache at /home/timothytyree/Documents/GitHub/care/notebooks/Figures/mov\n",
      "created save folder at /home/timothytyree/Documents/GitHub/care/notebooks/Figures/mov\n"
     ]
    }
   ],
   "source": [
    "#initialize file system for movie storing\n",
    "# min_time_between_samples = 2 #milliseconds\n",
    "# frameno = 1\n",
    "# dt=0.01\n",
    "# save_every_n_frames = int(min_time_between_samples/dt)\n",
    "dump_cache=True\n",
    "\n",
    "os.chdir(nb_dir)\n",
    "save_folder = os.path.join(nb_dir,f'Figures/mov')#c_{\"test\"}_V_{V_threshold}')\n",
    "# save_folder_name = f'frame_every_{min_time_between_samples}_ms'\n",
    "# save_folder = os.path.join(base_folder,save_folder_name)\n",
    "\n",
    "\n",
    "#dump save_folder if it already exists\n",
    "if os.path.exists(save_folder) and dump_cache:\n",
    "    shutil.rmtree(save_folder)\n",
    "    print(f\"dumped cache at {save_folder}\")\n",
    "\n",
    "#create a save_folder if it doesn't already exist\n",
    "# if not os.path.exists(base_folder):\n",
    "#     os.mkdir(base_folder)\n",
    "#     print(f\"created save folder at {base_folder}\")\n",
    "# os.chdir(base_folder)\n",
    "if not os.path.exists(save_folder):\n",
    "    os.mkdir(save_folder)\n",
    "    print(f\"created save folder at {save_folder}\")\n",
    "os.chdir(save_folder)"
   ]
  },
  {
   "cell_type": "code",
   "execution_count": 47,
   "metadata": {
    "ExecuteTime": {
     "end_time": "2021-09-28T18:54:53.202867Z",
     "start_time": "2021-09-28T18:54:53.181345Z"
    }
   },
   "outputs": [],
   "source": [
    "# ic_fn=search_for_file()\n",
    "# ic_fn='/home/timothytyree/Documents/GitHub/care/notebooks/Data/test_data/ic008.33_t_750.0.npz'\n",
    "# t=750"
   ]
  },
  {
   "cell_type": "code",
   "execution_count": 48,
   "metadata": {
    "ExecuteTime": {
     "end_time": "2021-09-28T18:54:55.677286Z",
     "start_time": "2021-09-28T18:54:55.201439Z"
    }
   },
   "outputs": [],
   "source": [
    "save_folder=f'{nb_dir}/Figures/mov'\n",
    "ic_fn=f\"{nb_dir}/Data/initial-conditions-suite-3-LR/ic-out/ic008.33.npz\"\n",
    "t=0\n",
    "\n",
    "txt=load_buffer(ic_fn)\n",
    "ds=5.\n",
    "frameno=1\n",
    "# txt=load_buffer(txt_fn)\n",
    "inVc,outVc,inmhjdfx,outmhjdfx,dVcdt=unstack_txt(txt)\n",
    "width,height=txt.shape[:2]\n",
    "V_threshold=-40\n",
    "dt=0.1 #supports really long termination time...\n",
    "diffCoef=0.001#0.0005\n",
    "Cm=1.0\n",
    "# comp_dict_topo_full_color=get_comp_dict_topo_full_color(width=width,height=height,level1=V_threshold,level2=V_threshold)\n",
    "# get_one_step at this dt\n",
    "__, arr39, one_step = get_one_step_explicit_synchronous_splitting(\n",
    "    nb_dir,dt=dt,width=width,height=height,ds=ds,diffCoef=diffCoef,Cm=Cm)\n",
    "# comp_dict_topo_simple=get_comp_dict_topo_simple(width=width,height=height,level1=V_threshold,level2=0)\n"
   ]
  },
  {
   "cell_type": "code",
   "execution_count": 49,
   "metadata": {
    "ExecuteTime": {
     "end_time": "2021-09-28T18:54:58.509861Z",
     "start_time": "2021-09-28T18:54:58.494658Z"
    }
   },
   "outputs": [],
   "source": [
    "#try to fix the wobble motion by increasing the time between img and img_prev\n",
    "DT=4 #??\n",
    "# DT=2 #supported odd numbers of spiral tips briefly\n",
    "# DT=16 #tips far from apparent tips\n",
    "#DT=8.#wobbeled\n",
    "nsteps_per_DT=int(DT/dt)"
   ]
  },
  {
   "cell_type": "code",
   "execution_count": 50,
   "metadata": {
    "ExecuteTime": {
     "end_time": "2021-09-28T18:55:45.579622Z",
     "start_time": "2021-09-28T18:55:01.004335Z"
    },
    "run_control": {
     "marked": false
    },
    "scrolled": true
   },
   "outputs": [],
   "source": [
    "#comp img_prev example\n",
    "inVc,outVc,inmhjdfx,outmhjdfx,dVcdt=unstack_txt(txt)\n",
    "#integrate to t=100 milliseconds\n",
    "while t<100:\n",
    "    one_step(inVc,outVc,inmhjdfx,outmhjdfx,dVcdt)\n",
    "    t+=dt\n",
    "img_prev=inVc[...,0].copy()\n",
    "for n in range(nsteps_per_DT):\n",
    "    one_step(inVc,outVc,inmhjdfx,outmhjdfx,dVcdt)\n",
    "    t+=dt\n",
    "txt=stack_txt(inVc,outVc,inmhjdfx,outmhjdfx,dVcdt).copy()\n",
    "img=inVc[...,0].copy();#dimgdt=dVcdt[...,0]"
   ]
  },
  {
   "cell_type": "code",
   "execution_count": 51,
   "metadata": {
    "ExecuteTime": {
     "end_time": "2021-09-28T18:55:46.210136Z",
     "start_time": "2021-09-28T18:55:46.135201Z"
    }
   },
   "outputs": [],
   "source": [
    "jump_threshold=width/2\n",
    "size_threshold=0\n",
    "level1=V_threshold\n",
    "level2=V_threshold\n",
    "#compute spiral tip location and topological number\n",
    "contours_a = find_contours(img,        level = level1)\n",
    "contours_b = find_contours(img_prev,     level = level2)\n",
    "s1_lst, s2_lst, x_lst, y_lst = contours_to_simple_tips_pbc(contours_a,contours_b,width,height,jump_threshold,size_threshold)"
   ]
  },
  {
   "cell_type": "code",
   "execution_count": 52,
   "metadata": {
    "ExecuteTime": {
     "end_time": "2021-09-28T18:55:46.815206Z",
     "start_time": "2021-09-28T18:55:46.598228Z"
    }
   },
   "outputs": [
    {
     "data": {
      "image/png": "[encoded data removed]",
      "text/plain": [
       "<Figure size 432x432 with 1 Axes>"
      ]
     },
     "metadata": {},
     "output_type": "display_data"
    }
   ],
   "source": [
    "x_values=np.array(x_lst)\n",
    "y_values=np.array(y_lst)\n",
    "c_values=0*x_values\n",
    "\n",
    "retval=ShowDomain(img,img_prev,x_values,y_values,c_values,V_threshold,t,inch=6,\n",
    "                     fontsize=16,vmin_img=-85.,vmax_img=35.,area=25,\n",
    "                     frameno=frameno,\n",
    "                     save_fn=None,\n",
    "                     save_folder=None,\n",
    "                     save=False,\n",
    "                     annotating=False,\n",
    "                     axis=[0,img.shape[0],0,img.shape[1]], cmap='bone');"
   ]
  },
  {
   "cell_type": "code",
   "execution_count": 53,
   "metadata": {
    "ExecuteTime": {
     "end_time": "2021-09-28T18:59:06.382363Z",
     "start_time": "2021-09-28T18:56:02.952307Z"
    }
   },
   "outputs": [
    {
     "name": "stdout",
     "output_type": "stream",
     "text": [
      "ntips=0, time=407.1 ms.\r"
     ]
    },
    {
     "data": {
      "text/plain": [
       "0"
      ]
     },
     "execution_count": 53,
     "metadata": {},
     "output_type": "execute_result"
    }
   ],
   "source": [
    "DT_fps=1#ms between frames\n",
    "save_every_n_frames=int(DT_fps/dt)#20  #sets the overall frame rate\n",
    "ntips=1\n",
    "# while there are tips,\n",
    "img_item_lst=[]\n",
    "tfinal=9e9\n",
    "tnaught=-9e9\n",
    "while (ntips>0) or (t<tfinal):\n",
    "    # =stack_txt(inVc,outVc,inmhjdfx,outmhjdfx,dVcdt).copy()\n",
    "    #compute tips\n",
    "    #     inVc,outVc,inmhjdfx,outmhjdfx,dVcdt=unstack_txt(txt)\n",
    "    img=inVc[...,0].copy()#;dimgdt=dVcdt[...,0]\n",
    "    img_item_lst.append((t,img))\n",
    "    \n",
    "    #recall img_prev, which is voltage at a time DT earlier\n",
    "    t_a,img_prev=img_item_lst[0]\n",
    "    DT_img_item_lst=t-t_a\n",
    "    if DT_img_item_lst>=DT:\n",
    "        img_item_lst.pop(0)\n",
    "\n",
    "        #compute spiral tip location and topological number\n",
    "        contours_a = find_contours(img,        level = level1)\n",
    "        contours_b = find_contours(img_prev,     level = level2)\n",
    "        s1_lst, s2_lst, x_lst, y_lst = contours_to_simple_tips_pbc(contours_a,contours_b,width,height,jump_threshold,size_threshold)\n",
    "        ntips=len(x_lst)\n",
    "        x_values=np.array(x_lst)\n",
    "        y_values=np.array(y_lst)\n",
    "        c_values=0.*x_values\n",
    "        #t_prev=t;#txt_prev=txt.copy();\n",
    "        frameno+=1\n",
    "        \n",
    "        #     save png\n",
    "        if tnaught==-9e9:\n",
    "            tnaught=t\n",
    "        save_system_as_png(img,img_prev,x_values,y_values,c_values,V_threshold,\n",
    "                frameno,t-tnaught,\n",
    "                save_folder=save_folder,\n",
    "                save_fn=None)\n",
    "        print(f\"ntips={ntips}, time={t:.1f} ms.\", end='\\r')\n",
    "\n",
    "    for j in range(save_every_n_frames):\n",
    "        #     integrate forward by one_step\n",
    "        one_step(inVc, outVc, inmhjdfx, outmhjdfx, dVcdt)\n",
    "        t+=dt\n",
    "        \n",
    "    if (ntips==0) and (tfinal==9e9):\n",
    "        tfinal=t+100\n",
    "beep(5)"
   ]
  },
  {
   "cell_type": "code",
   "execution_count": 54,
   "metadata": {
    "ExecuteTime": {
     "end_time": "2021-09-28T18:59:20.116563Z",
     "start_time": "2021-09-28T18:59:06.632068Z"
    }
   },
   "outputs": [
    {
     "name": "stdout",
     "output_type": "stream",
     "text": [
      "ffmpeg version 4.3.1-4ubuntu1 Copyright (c) 2000-2020 the FFmpeg developers\n",
      "  built with gcc 10 (Ubuntu 10.2.0-9ubuntu2)\n",
      "  configuration: --prefix=/usr --extra-version=4ubuntu1 --toolchain=hardened --libdir=/usr/lib/x86_64-linux-gnu --incdir=/usr/include/x86_64-linux-gnu --arch=amd64 --enable-gpl --disable-stripping --enable-avresample --disable-filter=resample --enable-gnutls --enable-ladspa --enable-libaom --enable-libass --enable-libbluray --enable-libbs2b --enable-libcaca --enable-libcdio --enable-libcodec2 --enable-libdav1d --enable-libflite --enable-libfontconfig --enable-libfreetype --enable-libfribidi --enable-libgme --enable-libgsm --enable-libjack --enable-libmp3lame --enable-libmysofa --enable-libopenjpeg --enable-libopenmpt --enable-libopus --enable-libpulse --enable-librabbitmq --enable-librsvg --enable-librubberband --enable-libshine --enable-libsnappy --enable-libsoxr --enable-libspeex --enable-libsrt --enable-libssh --enable-libtheora --enable-libtwolame --enable-libvidstab --enable-libvorbis --enable-libvpx --enable-libwavpack --enable-libwebp --enable-libx265 --enable-libxml2 --enable-libxvid --enable-libzmq --enable-libzvbi --enable-lv2 --enable-omx --enable-openal --enable-opencl --enable-opengl --enable-sdl2 --enable-pocketsphinx --enable-libmfx --enable-libdc1394 --enable-libdrm --enable-libiec61883 --enable-nvenc --enable-chromaprint --enable-frei0r --enable-libx264 --enable-shared\n",
      "  libavutil      56. 51.100 / 56. 51.100\n",
      "  libavcodec     58. 91.100 / 58. 91.100\n",
      "  libavformat    58. 45.100 / 58. 45.100\n",
      "  libavdevice    58. 10.100 / 58. 10.100\n",
      "  libavfilter     7. 85.100 /  7. 85.100\n",
      "  libavresample   4.  0.  0 /  4.  0.  0\n",
      "  libswscale      5.  7.100 /  5.  7.100\n",
      "  libswresample   3.  7.100 /  3.  7.100\n",
      "  libpostproc    55.  7.100 / 55.  7.100\n",
      "Input #0, image2, from '../../notebooks/Figures/mov/img%07d.png':\n",
      "  Duration: 00:00:11.96, start: 0.000000, bitrate: N/A\n",
      "    Stream #0:0: Video: png, rgba(pc), 549x549 [SAR 4724:4724 DAR 1:1], 25 fps, 25 tbr, 25 tbn, 25 tbc\n",
      "Stream mapping:\n",
      "  Stream #0:0 -> #0:0 (png (native) -> h264 (libx264))\n",
      "Press [q] to stop, [?] for help\n",
      "\u001b[1;36m[libx264 @ 0x56300af79dc0] \u001b[0musing SAR=1/1\n",
      "\u001b[1;36m[libx264 @ 0x56300af79dc0] \u001b[0musing cpu capabilities: MMX2 SSE2Fast SSSE3 SSE4.2 AVX FMA3 BMI2 AVX2\n",
      "\u001b[1;36m[libx264 @ 0x56300af79dc0] \u001b[0mprofile High, level 3.2, 4:2:0, 8-bit\n",
      "Output #0, mpegts, to '../mov/tmp/tmp.MTS':\n",
      "  Metadata:\n",
      "    encoder         : Lavf58.45.100\n",
      "    Stream #0:0: Video: h264 (libx264), yuv420p, 1280x720 [SAR 1:1 DAR 16:9], q=-1--1, 60 fps, 90k tbn, 60 tbc\n",
      "    Metadata:\n",
      "      encoder         : Lavc58.91.100 libx264\n",
      "    Side data:\n",
      "      cpb: bitrate max/min/avg: 0/0/0 buffer size: 0 vbv_delay: N/A\n",
      "frame=  718 fps= 87 q=-1.0 Lsize=     820kB time=00:00:11.91 bitrate= 563.8kbits/s speed=1.44x    \n",
      "video:672kB audio:0kB subtitle:0kB other streams:0kB global headers:0kB muxing overhead: 22.119284%\n",
      "\u001b[1;36m[libx264 @ 0x56300af79dc0] \u001b[0mframe I:3     Avg QP:23.20  size:  7143\n",
      "\u001b[1;36m[libx264 @ 0x56300af79dc0] \u001b[0mframe P:181   Avg QP:24.60  size:  2585\n",
      "\u001b[1;36m[libx264 @ 0x56300af79dc0] \u001b[0mframe B:534   Avg QP:19.61  size:   371\n",
      "\u001b[1;36m[libx264 @ 0x56300af79dc0] \u001b[0mconsecutive B-frames:  0.8%  0.0%  0.0% 99.2%\n",
      "\u001b[1;36m[libx264 @ 0x56300af79dc0] \u001b[0mmb I  I16..4: 31.1% 66.1%  2.9%\n",
      "\u001b[1;36m[libx264 @ 0x56300af79dc0] \u001b[0mmb P  I16..4:  4.6%  2.9%  0.1%  P16..4: 18.1%  1.9%  0.6%  0.0%  0.0%    skip:71.7%\n",
      "\u001b[1;36m[libx264 @ 0x56300af79dc0] \u001b[0mmb B  I16..4:  0.1%  0.0%  0.0%  B16..8:  7.1%  0.2%  0.0%  direct: 0.0%  skip:92.6%  L0:48.6% L1:49.8% BI: 1.6%\n",
      "\u001b[1;36m[libx264 @ 0x56300af79dc0] \u001b[0m8x8 transform intra:42.8% inter:80.5%\n",
      "\u001b[1;36m[libx264 @ 0x56300af79dc0] \u001b[0mcoded y,uvDC,uvAC intra: 7.0% 0.7% 0.5% inter: 0.7% 0.1% 0.1%\n",
      "\u001b[1;36m[libx264 @ 0x56300af79dc0] \u001b[0mi16 v,h,dc,p: 23% 22%  3% 52%\n",
      "\u001b[1;36m[libx264 @ 0x56300af79dc0] \u001b[0mi8 v,h,dc,ddl,ddr,vr,hd,vl,hu: 29% 15% 44%  2%  3%  3%  2%  1%  1%\n",
      "\u001b[1;36m[libx264 @ 0x56300af79dc0] \u001b[0mi4 v,h,dc,ddl,ddr,vr,hd,vl,hu: 38% 29% 14%  3%  4%  4%  3%  3%  2%\n",
      "\u001b[1;36m[libx264 @ 0x56300af79dc0] \u001b[0mi8c dc,h,v,p: 99%  1%  1%  0%\n",
      "\u001b[1;36m[libx264 @ 0x56300af79dc0] \u001b[0mWeighted P-Frames: Y:45.3% UV:2.8%\n",
      "\u001b[1;36m[libx264 @ 0x56300af79dc0] \u001b[0mref P L0: 61.4%  6.7% 23.6%  6.3%  2.0%\n",
      "\u001b[1;36m[libx264 @ 0x56300af79dc0] \u001b[0mref B L0: 88.9%  8.3%  2.8%\n",
      "\u001b[1;36m[libx264 @ 0x56300af79dc0] \u001b[0mref B L1: 99.2%  0.8%\n",
      "\u001b[1;36m[libx264 @ 0x56300af79dc0] \u001b[0mkb/s:459.73\n",
      "ffmpeg version 4.3.1-4ubuntu1 Copyright (c) 2000-2020 the FFmpeg developers\n",
      "  built with gcc 10 (Ubuntu 10.2.0-9ubuntu2)\n",
      "  configuration: --prefix=/usr --extra-version=4ubuntu1 --toolchain=hardened --libdir=/usr/lib/x86_64-linux-gnu --incdir=/usr/include/x86_64-linux-gnu --arch=amd64 --enable-gpl --disable-stripping --enable-avresample --disable-filter=resample --enable-gnutls --enable-ladspa --enable-libaom --enable-libass --enable-libbluray --enable-libbs2b --enable-libcaca --enable-libcdio --enable-libcodec2 --enable-libdav1d --enable-libflite --enable-libfontconfig --enable-libfreetype --enable-libfribidi --enable-libgme --enable-libgsm --enable-libjack --enable-libmp3lame --enable-libmysofa --enable-libopenjpeg --enable-libopenmpt --enable-libopus --enable-libpulse --enable-librabbitmq --enable-librsvg --enable-librubberband --enable-libshine --enable-libsnappy --enable-libsoxr --enable-libspeex --enable-libsrt --enable-libssh --enable-libtheora --enable-libtwolame --enable-libvidstab --enable-libvorbis --enable-libvpx --enable-libwavpack --enable-libwebp --enable-libx265 --enable-libxml2 --enable-libxvid --enable-libzmq --enable-libzvbi --enable-lv2 --enable-omx --enable-openal --enable-opencl --enable-opengl --enable-sdl2 --enable-pocketsphinx --enable-libmfx --enable-libdc1394 --enable-libdrm --enable-libiec61883 --enable-nvenc --enable-chromaprint --enable-frei0r --enable-libx264 --enable-shared\n",
      "  libavutil      56. 51.100 / 56. 51.100\n",
      "  libavcodec     58. 91.100 / 58. 91.100\n",
      "  libavformat    58. 45.100 / 58. 45.100\n",
      "  libavdevice    58. 10.100 / 58. 10.100\n",
      "  libavfilter     7. 85.100 /  7. 85.100\n",
      "  libavresample   4.  0.  0 /  4.  0.  0\n",
      "  libswscale      5.  7.100 /  5.  7.100\n",
      "  libswresample   3.  7.100 /  3.  7.100\n",
      "  libpostproc    55.  7.100 / 55.  7.100\n",
      "Input #0, lavfi, from 'color=black:1280x720':\n",
      "  Duration: N/A, start: 0.000000, bitrate: N/A\n",
      "    Stream #0:0: Video: rawvideo (I420 / 0x30323449), yuv420p, 1280x720 [SAR 1:1 DAR 16:9], 25 tbr, 25 tbn, 25 tbc\n",
      "Input #1, lavfi, from 'anullsrc':\n",
      "  Duration: N/A, start: 0.000000, bitrate: 705 kb/s\n",
      "    Stream #1:0: Audio: pcm_u8, 44100 Hz, stereo, u8, 705 kb/s\n",
      "Stream mapping:\n",
      "  Stream #0:0 -> #0:0 (rawvideo (native) -> h264 (libx264))\n",
      "  Stream #1:0 -> #0:1 (pcm_u8 (native) -> aac (native))\n",
      "Press [q] to stop, [?] for help\n",
      "\u001b[1;36m[libx264 @ 0x55d3f633d200] \u001b[0musing SAR=1/1\n",
      "\u001b[1;36m[libx264 @ 0x55d3f633d200] \u001b[0musing cpu capabilities: MMX2 SSE2Fast SSSE3 SSE4.2 AVX FMA3 BMI2 AVX2\n",
      "\u001b[1;36m[libx264 @ 0x55d3f633d200] \u001b[0mprofile High, level 3.2, 4:2:0, 8-bit\n",
      "\u001b[1;36m[libx264 @ 0x55d3f633d200] \u001b[0m264 - core 160 r3011 cde9a93 - H.264/MPEG-4 AVC codec - Copyleft 2003-2020 - http://www.videolan.org/x264.html - options: cabac=1 ref=3 deblock=1:0:0 analyse=0x3:0x113 me=hex subme=7 psy=1 psy_rd=1.00:0.00 mixed_ref=1 me_range=16 chroma_me=1 trellis=1 8x8dct=1 cqm=0 deadzone=21,11 fast_pskip=1 chroma_qp_offset=-2 threads=18 lookahead_threads=3 sliced_threads=0 nr=0 decimate=1 interlaced=0 bluray_compat=0 constrained_intra=0 bframes=3 b_pyramid=2 b_adapt=1 b_bias=0 direct=1 weightb=1 open_gop=0 weightp=2 keyint=250 keyint_min=25 scenecut=40 intra_refresh=0 rc_lookahead=40 rc=abr mbtree=1 bitrate=1000 ratetol=1.0 qcomp=0.60 qpmin=0 qpmax=69 qpstep=4 ip_ratio=1.40 aq=1:1.00\n",
      "Output #0, mp4, to 'tmp/intro.mp4':\n",
      "  Metadata:\n",
      "    encoder         : Lavf58.45.100\n",
      "    Stream #0:0: Video: h264 (libx264) (avc1 / 0x31637661), yuv420p, 1280x720 [SAR 1:1 DAR 16:9], q=-1--1, 1000 kb/s, 60 fps, 2k tbn, 60 tbc\n",
      "    Metadata:\n",
      "      encoder         : Lavc58.91.100 libx264\n",
      "    Side data:\n",
      "      cpb: bitrate max/min/avg: 0/0/1000000 buffer size: 0 vbv_delay: N/A\n",
      "    Stream #0:1: Audio: aac (LC) (mp4a / 0x6134706D), 44100 Hz, stereo, fltp, 128 kb/s\n",
      "    Metadata:\n",
      "      encoder         : Lavc58.91.100 aac\n"
     ]
    },
    {
     "name": "stdout",
     "output_type": "stream",
     "text": [
      "frame=  240 fps=0.0 q=-1.0 Lsize=      47kB time=00:00:04.01 bitrate=  95.8kbits/s speed=9.13x    \n",
      "video:37kB audio:1kB subtitle:0kB other streams:0kB global headers:0kB muxing overhead: 23.787844%\n",
      "\u001b[1;36m[libx264 @ 0x55d3f633d200] \u001b[0mframe I:1     Avg QP:22.50  size:   208\n",
      "\u001b[1;36m[libx264 @ 0x55d3f633d200] \u001b[0mframe P:61    Avg QP: 5.44  size:   436\n",
      "\u001b[1;36m[libx264 @ 0x55d3f633d200] \u001b[0mframe B:178   Avg QP: 4.22  size:    58\n",
      "\u001b[1;36m[libx264 @ 0x55d3f633d200] \u001b[0mconsecutive B-frames:  0.8%  0.8%  0.0% 98.3%\n",
      "\u001b[1;36m[libx264 @ 0x55d3f633d200] \u001b[0mmb I  I16..4: 100.0%  0.0%  0.0%\n",
      "\u001b[1;36m[libx264 @ 0x55d3f633d200] \u001b[0mmb P  I16..4:  0.0%  0.0%  0.0%  P16..4:  0.7%  0.1%  0.1%  0.0%  0.0%    skip:99.1%\n",
      "\u001b[1;36m[libx264 @ 0x55d3f633d200] \u001b[0mmb B  I16..4:  0.0%  0.0%  0.0%  B16..8:  0.4%  0.0%  0.0%  direct: 0.0%  skip:99.6%  L0:51.7% L1:48.2% BI: 0.2%\n",
      "\u001b[1;36m[libx264 @ 0x55d3f633d200] \u001b[0mfinal ratefactor: -2.73\n",
      "\u001b[1;36m[libx264 @ 0x55d3f633d200] \u001b[0m8x8 transform intra:1.5% inter:30.3%\n",
      "\u001b[1;36m[libx264 @ 0x55d3f633d200] \u001b[0mcoded y,uvDC,uvAC intra: 1.0% 0.0% 0.0% inter: 0.1% 0.0% 0.0%\n",
      "\u001b[1;36m[libx264 @ 0x55d3f633d200] \u001b[0mi16 v,h,dc,p: 98%  0%  2%  0%\n",
      "\u001b[1;36m[libx264 @ 0x55d3f633d200] \u001b[0mi8 v,h,dc,ddl,ddr,vr,hd,vl,hu: 16% 12% 56%  1%  4%  4%  1%  4%  1%\n",
      "\u001b[1;36m[libx264 @ 0x55d3f633d200] \u001b[0mi4 v,h,dc,ddl,ddr,vr,hd,vl,hu: 51% 14% 17%  2%  4%  3%  5%  2%  2%\n",
      "\u001b[1;36m[libx264 @ 0x55d3f633d200] \u001b[0mi8c dc,h,v,p: 100%  0%  0%  0%\n",
      "\u001b[1;36m[libx264 @ 0x55d3f633d200] \u001b[0mWeighted P-Frames: Y:49.2% UV:0.0%\n",
      "\u001b[1;36m[libx264 @ 0x55d3f633d200] \u001b[0mref P L0: 96.9%  2.4%  0.6%  0.0%  0.0%\n",
      "\u001b[1;36m[libx264 @ 0x55d3f633d200] \u001b[0mref B L0: 91.7%  8.0%  0.2%\n",
      "\u001b[1;36m[libx264 @ 0x55d3f633d200] \u001b[0mref B L1: 97.3%  2.7%\n",
      "\u001b[1;36m[libx264 @ 0x55d3f633d200] \u001b[0mkb/s:74.22\n",
      "\u001b[1;36m[aac @ 0x55d3f633ea80] \u001b[0mQavg: 120.000\n",
      "ffmpeg version 4.3.1-4ubuntu1 Copyright (c) 2000-2020 the FFmpeg developers\n",
      "  built with gcc 10 (Ubuntu 10.2.0-9ubuntu2)\n",
      "  configuration: --prefix=/usr --extra-version=4ubuntu1 --toolchain=hardened --libdir=/usr/lib/x86_64-linux-gnu --incdir=/usr/include/x86_64-linux-gnu --arch=amd64 --enable-gpl --disable-stripping --enable-avresample --disable-filter=resample --enable-gnutls --enable-ladspa --enable-libaom --enable-libass --enable-libbluray --enable-libbs2b --enable-libcaca --enable-libcdio --enable-libcodec2 --enable-libdav1d --enable-libflite --enable-libfontconfig --enable-libfreetype --enable-libfribidi --enable-libgme --enable-libgsm --enable-libjack --enable-libmp3lame --enable-libmysofa --enable-libopenjpeg --enable-libopenmpt --enable-libopus --enable-libpulse --enable-librabbitmq --enable-librsvg --enable-librubberband --enable-libshine --enable-libsnappy --enable-libsoxr --enable-libspeex --enable-libsrt --enable-libssh --enable-libtheora --enable-libtwolame --enable-libvidstab --enable-libvorbis --enable-libvpx --enable-libwavpack --enable-libwebp --enable-libx265 --enable-libxml2 --enable-libxvid --enable-libzmq --enable-libzvbi --enable-lv2 --enable-omx --enable-openal --enable-opencl --enable-opengl --enable-sdl2 --enable-pocketsphinx --enable-libmfx --enable-libdc1394 --enable-libdrm --enable-libiec61883 --enable-nvenc --enable-chromaprint --enable-frei0r --enable-libx264 --enable-shared\n",
      "  libavutil      56. 51.100 / 56. 51.100\n",
      "  libavcodec     58. 91.100 / 58. 91.100\n",
      "  libavformat    58. 45.100 / 58. 45.100\n",
      "  libavdevice    58. 10.100 / 58. 10.100\n",
      "  libavfilter     7. 85.100 /  7. 85.100\n",
      "  libavresample   4.  0.  0 /  4.  0.  0\n",
      "  libswscale      5.  7.100 /  5.  7.100\n",
      "  libswresample   3.  7.100 /  3.  7.100\n",
      "  libpostproc    55.  7.100 / 55.  7.100\n",
      "Input #0, mov,mp4,m4a,3gp,3g2,mj2, from 'tmp/intro.mp4':\n",
      "  Metadata:\n",
      "    major_brand     : isom\n",
      "    minor_version   : 512\n",
      "    compatible_brands: isomiso2avc1mp41\n",
      "    encoder         : Lavf58.45.100\n",
      "  Duration: 00:00:04.02, start: 0.000000, bitrate: 95 kb/s\n",
      "    Stream #0:0(und): Video: h264 (High) (avc1 / 0x31637661), yuv420p, 1280x720 [SAR 1:1 DAR 16:9], 75 kb/s, 60 fps, 60 tbr, 2k tbn, 120 tbc (default)\n",
      "    Metadata:\n",
      "      handler_name    : VideoHandler\n",
      "    Stream #0:1(und): Audio: aac (LC) (mp4a / 0x6134706D), 44100 Hz, stereo, fltp, 2 kb/s (default)\n",
      "    Metadata:\n",
      "      handler_name    : SoundHandler\n",
      "Stream mapping:\n",
      "  Stream #0:0 -> #0:0 (h264 (native) -> mpeg2video (native))\n",
      "  Stream #0:1 -> #0:1 (aac (native) -> mp2 (native))\n",
      "Press [q] to stop, [?] for help\n",
      "Output #0, mpegts, to 'tmp/clip-1.MTS':\n",
      "  Metadata:\n",
      "    major_brand     : isom\n",
      "    minor_version   : 512\n",
      "    compatible_brands: isomiso2avc1mp41\n",
      "    encoder         : Lavf58.45.100\n",
      "    Stream #0:0(und): Video: mpeg2video (Main), yuv420p, 1280x720 [SAR 1:1 DAR 16:9], q=2-31, 200 kb/s, 60 fps, 90k tbn, 60 tbc (default)\n",
      "    Metadata:\n",
      "      handler_name    : VideoHandler\n",
      "      encoder         : Lavc58.91.100 mpeg2video\n",
      "    Side data:\n",
      "      cpb: bitrate max/min/avg: 0/0/200000 buffer size: 0 vbv_delay: N/A\n",
      "    Stream #0:1(und): Audio: mp2, 44100 Hz, stereo, s16, 384 kb/s (default)\n",
      "    Metadata:\n",
      "      handler_name    : SoundHandler\n",
      "      encoder         : Lavc58.91.100 mp2\n",
      "frame=  240 fps=0.0 q=0.0 Lsize=     817kB time=00:00:04.01 bitrate=1668.2kbits/s speed=  14x    \n",
      "video:564kB audio:189kB subtitle:0kB other streams:0kB global headers:0kB muxing overhead: 8.563205%\n",
      "ffmpeg version 4.3.1-4ubuntu1 Copyright (c) 2000-2020 the FFmpeg developers\n",
      "  built with gcc 10 (Ubuntu 10.2.0-9ubuntu2)\n",
      "  configuration: --prefix=/usr --extra-version=4ubuntu1 --toolchain=hardened --libdir=/usr/lib/x86_64-linux-gnu --incdir=/usr/include/x86_64-linux-gnu --arch=amd64 --enable-gpl --disable-stripping --enable-avresample --disable-filter=resample --enable-gnutls --enable-ladspa --enable-libaom --enable-libass --enable-libbluray --enable-libbs2b --enable-libcaca --enable-libcdio --enable-libcodec2 --enable-libdav1d --enable-libflite --enable-libfontconfig --enable-libfreetype --enable-libfribidi --enable-libgme --enable-libgsm --enable-libjack --enable-libmp3lame --enable-libmysofa --enable-libopenjpeg --enable-libopenmpt --enable-libopus --enable-libpulse --enable-librabbitmq --enable-librsvg --enable-librubberband --enable-libshine --enable-libsnappy --enable-libsoxr --enable-libspeex --enable-libsrt --enable-libssh --enable-libtheora --enable-libtwolame --enable-libvidstab --enable-libvorbis --enable-libvpx --enable-libwavpack --enable-libwebp --enable-libx265 --enable-libxml2 --enable-libxvid --enable-libzmq --enable-libzvbi --enable-lv2 --enable-omx --enable-openal --enable-opencl --enable-opengl --enable-sdl2 --enable-pocketsphinx --enable-libmfx --enable-libdc1394 --enable-libdrm --enable-libiec61883 --enable-nvenc --enable-chromaprint --enable-frei0r --enable-libx264 --enable-shared\n",
      "  libavutil      56. 51.100 / 56. 51.100\n",
      "  libavcodec     58. 91.100 / 58. 91.100\n",
      "  libavformat    58. 45.100 / 58. 45.100\n",
      "  libavdevice    58. 10.100 / 58. 10.100\n",
      "  libavfilter     7. 85.100 /  7. 85.100\n",
      "  libavresample   4.  0.  0 /  4.  0.  0\n",
      "  libswscale      5.  7.100 /  5.  7.100\n",
      "  libswresample   3.  7.100 /  3.  7.100\n",
      "  libpostproc    55.  7.100 / 55.  7.100\n",
      "Input #0, mpegts, from 'tmp/tmp.MTS':\n",
      "  Duration: 00:00:11.97, start: 1.433333, bitrate: 561 kb/s\n",
      "  Program 1 \n",
      "    Metadata:\n",
      "      service_name    : Service01\n",
      "      service_provider: FFmpeg\n",
      "    Stream #0:0[0x100]: Video: h264 (High) ([27][0][0][0] / 0x001B), yuv420p(progressive), 1280x720 [SAR 1:1 DAR 16:9], 60 fps, 60 tbr, 90k tbn, 120 tbc\n",
      "Stream mapping:\n",
      "  Stream #0:0 -> #0:0 (h264 (native) -> mpeg2video (native))\n",
      "Press [q] to stop, [?] for help\n",
      "Output #0, mpegts, to 'tmp/clip-2.MTS':\n",
      "  Metadata:\n",
      "    encoder         : Lavf58.45.100\n",
      "    Stream #0:0: Video: mpeg2video (Main), yuv420p, 1280x720 [SAR 1:1 DAR 16:9], q=2-31, 200 kb/s, 60 fps, 90k tbn, 60 tbc\n",
      "    Metadata:\n",
      "      encoder         : Lavc58.91.100 mpeg2video\n",
      "    Side data:\n",
      "      cpb: bitrate max/min/avg: 0/0/200000 buffer size: 0 vbv_delay: N/A\n",
      "frame=  718 fps=0.0 q=0.0 Lsize=    5388kB time=00:00:11.93 bitrate=3698.7kbits/s speed=12.9x    \n",
      "video:5148kB audio:0kB subtitle:0kB other streams:0kB global headers:0kB muxing overhead: 4.661834%\n",
      "ffmpeg version 4.3.1-4ubuntu1 Copyright (c) 2000-2020 the FFmpeg developers\n",
      "  built with gcc 10 (Ubuntu 10.2.0-9ubuntu2)\n",
      "  configuration: --prefix=/usr --extra-version=4ubuntu1 --toolchain=hardened --libdir=/usr/lib/x86_64-linux-gnu --incdir=/usr/include/x86_64-linux-gnu --arch=amd64 --enable-gpl --disable-stripping --enable-avresample --disable-filter=resample --enable-gnutls --enable-ladspa --enable-libaom --enable-libass --enable-libbluray --enable-libbs2b --enable-libcaca --enable-libcdio --enable-libcodec2 --enable-libdav1d --enable-libflite --enable-libfontconfig --enable-libfreetype --enable-libfribidi --enable-libgme --enable-libgsm --enable-libjack --enable-libmp3lame --enable-libmysofa --enable-libopenjpeg --enable-libopenmpt --enable-libopus --enable-libpulse --enable-librabbitmq --enable-librsvg --enable-librubberband --enable-libshine --enable-libsnappy --enable-libsoxr --enable-libspeex --enable-libsrt --enable-libssh --enable-libtheora --enable-libtwolame --enable-libvidstab --enable-libvorbis --enable-libvpx --enable-libwavpack --enable-libwebp --enable-libx265 --enable-libxml2 --enable-libxvid --enable-libzmq --enable-libzvbi --enable-lv2 --enable-omx --enable-openal --enable-opencl --enable-opengl --enable-sdl2 --enable-pocketsphinx --enable-libmfx --enable-libdc1394 --enable-libdrm --enable-libiec61883 --enable-nvenc --enable-chromaprint --enable-frei0r --enable-libx264 --enable-shared\n",
      "  libavutil      56. 51.100 / 56. 51.100\n",
      "  libavcodec     58. 91.100 / 58. 91.100\n",
      "  libavformat    58. 45.100 / 58. 45.100\n",
      "  libavdevice    58. 10.100 / 58. 10.100\n",
      "  libavfilter     7. 85.100 /  7. 85.100\n",
      "  libavresample   4.  0.  0 /  4.  0.  0\n",
      "  libswscale      5.  7.100 /  5.  7.100\n",
      "  libswresample   3.  7.100 /  3.  7.100\n",
      "  libpostproc    55.  7.100 / 55.  7.100\n",
      "Input #0, concat, from 'list.txt':\n",
      "  Duration: N/A, start: 0.000000, bitrate: N/A\n",
      "    Stream #0:0: Video: mpeg2video (Main) ([2][0][0][0] / 0x0002), yuv420p(tv, progressive), 1280x720 [SAR 1:1 DAR 16:9], 60 fps, 60 tbr, 90k tbn, 90k tbc\n",
      "    Stream #0:1(und): Audio: mp2 ([3][0][0][0] / 0x0003), 44100 Hz, stereo, s16p, 384 kb/s\n",
      "Output #0, mpegts, to 'tmp/tmp2.MTS':\n",
      "  Metadata:\n",
      "    encoder         : Lavf58.45.100\n",
      "    Stream #0:0: Video: mpeg2video (Main) ([2][0][0][0] / 0x0002), yuv420p(tv, progressive), 1280x720 [SAR 1:1 DAR 16:9], q=2-31, 60 fps, 60 tbr, 90k tbn, 90k tbc\n",
      "    Stream #0:1(und): Audio: mp2 ([3][0][0][0] / 0x0003), 44100 Hz, stereo, s16p, 384 kb/s\n",
      "Stream mapping:\n",
      "  Stream #0:0 -> #0:0 (copy)\n",
      "  Stream #0:1 -> #0:1 (copy)\n",
      "Press [q] to stop, [?] for help\n",
      "frame=  958 fps=0.0 q=-1.0 Lsize=    6205kB time=00:00:15.94 bitrate=3188.0kbits/s speed= 949x    \n",
      "video:5712kB audio:189kB subtitle:0kB other streams:0kB global headers:0kB muxing overhead: 5.159416%\n"
     ]
    },
    {
     "name": "stdout",
     "output_type": "stream",
     "text": [
      "ffmpeg version 4.3.1-4ubuntu1 Copyright (c) 2000-2020 the FFmpeg developers\n",
      "  built with gcc 10 (Ubuntu 10.2.0-9ubuntu2)\n",
      "  configuration: --prefix=/usr --extra-version=4ubuntu1 --toolchain=hardened --libdir=/usr/lib/x86_64-linux-gnu --incdir=/usr/include/x86_64-linux-gnu --arch=amd64 --enable-gpl --disable-stripping --enable-avresample --disable-filter=resample --enable-gnutls --enable-ladspa --enable-libaom --enable-libass --enable-libbluray --enable-libbs2b --enable-libcaca --enable-libcdio --enable-libcodec2 --enable-libdav1d --enable-libflite --enable-libfontconfig --enable-libfreetype --enable-libfribidi --enable-libgme --enable-libgsm --enable-libjack --enable-libmp3lame --enable-libmysofa --enable-libopenjpeg --enable-libopenmpt --enable-libopus --enable-libpulse --enable-librabbitmq --enable-librsvg --enable-librubberband --enable-libshine --enable-libsnappy --enable-libsoxr --enable-libspeex --enable-libsrt --enable-libssh --enable-libtheora --enable-libtwolame --enable-libvidstab --enable-libvorbis --enable-libvpx --enable-libwavpack --enable-libwebp --enable-libx265 --enable-libxml2 --enable-libxvid --enable-libzmq --enable-libzvbi --enable-lv2 --enable-omx --enable-openal --enable-opencl --enable-opengl --enable-sdl2 --enable-pocketsphinx --enable-libmfx --enable-libdc1394 --enable-libdrm --enable-libiec61883 --enable-nvenc --enable-chromaprint --enable-frei0r --enable-libx264 --enable-shared\n",
      "  libavutil      56. 51.100 / 56. 51.100\n",
      "  libavcodec     58. 91.100 / 58. 91.100\n",
      "  libavformat    58. 45.100 / 58. 45.100\n",
      "  libavdevice    58. 10.100 / 58. 10.100\n",
      "  libavfilter     7. 85.100 /  7. 85.100\n",
      "  libavresample   4.  0.  0 /  4.  0.  0\n",
      "  libswscale      5.  7.100 /  5.  7.100\n",
      "  libswresample   3.  7.100 /  3.  7.100\n",
      "  libpostproc    55.  7.100 / 55.  7.100\n",
      "Input #0, mpegts, from 'tmp/tmp2.MTS':\n",
      "  Duration: 00:00:15.98, start: 1.405756, bitrate: 3181 kb/s\n",
      "  Program 1 \n",
      "    Metadata:\n",
      "      service_name    : Service01\n",
      "      service_provider: FFmpeg\n",
      "    Stream #0:0[0x100]: Video: mpeg2video (Main) ([2][0][0][0] / 0x0002), yuv420p(tv, progressive), 1280x720 [SAR 1:1 DAR 16:9], 60 fps, 60 tbr, 90k tbn, 120 tbc\n",
      "    Side data:\n",
      "      cpb: bitrate max/min/avg: 0/0/0 buffer size: 49152 vbv_delay: N/A\n",
      "    Stream #0:1[0x101](und): Audio: mp2 ([3][0][0][0] / 0x0003), 44100 Hz, stereo, fltp, 384 kb/s\n",
      "Stream mapping:\n",
      "  Stream #0:0 -> #0:0 (mpeg2video (native) -> h264 (libx264))\n",
      "  Stream #0:1 -> #0:1 (mp2 (native) -> aac (native))\n",
      "Press [q] to stop, [?] for help\n",
      "\u001b[1;36m[libx264 @ 0x55cbee385540] \u001b[0musing SAR=1/1\n",
      "\u001b[1;36m[libx264 @ 0x55cbee385540] \u001b[0musing cpu capabilities: MMX2 SSE2Fast SSSE3 SSE4.2 AVX FMA3 BMI2 AVX2\n",
      "\u001b[1;36m[libx264 @ 0x55cbee385540] \u001b[0mprofile High, level 3.2, 4:2:0, 8-bit\n",
      "\u001b[1;36m[libx264 @ 0x55cbee385540] \u001b[0m264 - core 160 r3011 cde9a93 - H.264/MPEG-4 AVC codec - Copyleft 2003-2020 - http://www.videolan.org/x264.html - options: cabac=1 ref=3 deblock=1:0:0 analyse=0x3:0x113 me=hex subme=7 psy=1 psy_rd=1.00:0.00 mixed_ref=1 me_range=16 chroma_me=1 trellis=1 8x8dct=1 cqm=0 deadzone=21,11 fast_pskip=1 chroma_qp_offset=-2 threads=18 lookahead_threads=3 sliced_threads=0 nr=0 decimate=1 interlaced=0 bluray_compat=0 constrained_intra=0 bframes=3 b_pyramid=2 b_adapt=1 b_bias=0 direct=1 weightb=1 open_gop=0 weightp=2 keyint=250 keyint_min=25 scenecut=40 intra_refresh=0 rc_lookahead=40 rc=crf mbtree=1 crf=30.0 qcomp=0.60 qpmin=0 qpmax=69 qpstep=4 ip_ratio=1.40 aq=1:1.00\n",
      "Output #0, mov, to 'out.mov':\n",
      "  Metadata:\n",
      "    encoder         : Lavf58.45.100\n",
      "    Stream #0:0: Video: h264 (libx264) (avc1 / 0x31637661), yuv420p(progressive), 1280x720 [SAR 1:1 DAR 16:9], q=-1--1, 60 fps, 15360 tbn, 60 tbc\n",
      "    Metadata:\n",
      "      encoder         : Lavc58.91.100 libx264\n",
      "    Side data:\n",
      "      cpb: bitrate max/min/avg: 0/0/0 buffer size: 0 vbv_delay: N/A\n",
      "    Stream #0:1(und): Audio: aac (LC) (mp4a / 0x6134706D), 44100 Hz, stereo, fltp, 128 kb/s\n",
      "    Metadata:\n",
      "      encoder         : Lavc58.91.100 aac\n",
      "frame=  959 fps=340 q=-1.0 Lsize=     458kB time=00:00:15.93 bitrate= 235.5kbits/s dup=1 drop=0 speed=5.65x    \n",
      "video:441kB audio:1kB subtitle:0kB other streams:0kB global headers:0kB muxing overhead: 3.655915%\n",
      "\u001b[1;36m[libx264 @ 0x55cbee385540] \u001b[0mframe I:4     Avg QP:25.98  size:  3402\n",
      "\u001b[1;36m[libx264 @ 0x55cbee385540] \u001b[0mframe P:288   Avg QP:28.04  size:  1054\n",
      "\u001b[1;36m[libx264 @ 0x55cbee385540] \u001b[0mframe B:667   Avg QP:25.58  size:   200\n",
      "\u001b[1;36m[libx264 @ 0x55cbee385540] \u001b[0mconsecutive B-frames:  4.5%  6.0%  6.9% 82.6%\n",
      "\u001b[1;36m[libx264 @ 0x55cbee385540] \u001b[0mmb I  I16..4: 53.1% 45.4%  1.5%\n",
      "\u001b[1;36m[libx264 @ 0x55cbee385540] \u001b[0mmb P  I16..4:  3.8%  2.0%  0.0%  P16..4:  9.7%  0.6%  0.2%  0.0%  0.0%    skip:83.8%\n",
      "\u001b[1;36m[libx264 @ 0x55cbee385540] \u001b[0mmb B  I16..4:  0.1%  0.0%  0.0%  B16..8:  4.7%  0.1%  0.0%  direct: 0.0%  skip:95.1%  L0:34.2% L1:65.3% BI: 0.5%\n",
      "\u001b[1;36m[libx264 @ 0x55cbee385540] \u001b[0m8x8 transform intra:36.1% inter:84.7%\n",
      "\u001b[1;36m[libx264 @ 0x55cbee385540] \u001b[0mcoded y,uvDC,uvAC intra: 2.8% 0.8% 0.3% inter: 0.2% 0.0% 0.0%\n",
      "\u001b[1;36m[libx264 @ 0x55cbee385540] \u001b[0mi16 v,h,dc,p: 28% 19%  4% 49%\n",
      "\u001b[1;36m[libx264 @ 0x55cbee385540] \u001b[0mi8 v,h,dc,ddl,ddr,vr,hd,vl,hu: 25%  9% 63%  1%  1%  1%  1%  1%  0%\n",
      "\u001b[1;36m[libx264 @ 0x55cbee385540] \u001b[0mi4 v,h,dc,ddl,ddr,vr,hd,vl,hu: 36% 25% 17%  3%  4%  5%  3%  4%  2%\n",
      "\u001b[1;36m[libx264 @ 0x55cbee385540] \u001b[0mi8c dc,h,v,p: 98%  1%  1%  0%\n",
      "\u001b[1;36m[libx264 @ 0x55cbee385540] \u001b[0mWeighted P-Frames: Y:30.6% UV:2.8%\n",
      "\u001b[1;36m[libx264 @ 0x55cbee385540] \u001b[0mref P L0: 62.5%  7.8% 23.2%  5.5%  1.1%\n",
      "\u001b[1;36m[libx264 @ 0x55cbee385540] \u001b[0mref B L0: 83.5% 11.6%  4.9%\n",
      "\u001b[1;36m[libx264 @ 0x55cbee385540] \u001b[0mref B L1: 97.4%  2.6%\n",
      "\u001b[1;36m[libx264 @ 0x55cbee385540] \u001b[0mkb/s:225.62\n",
      "\u001b[1;36m[aac @ 0x55cbee37ee40] \u001b[0mQavg: 65536.000\n"
     ]
    }
   ],
   "source": [
    "#concatenate the folder of png files to a video\n",
    "os.chdir(f\"{nb_dir}/../vid/src\")\n",
    "!./concat_folder_png.sh"
   ]
  },
  {
   "cell_type": "code",
   "execution_count": 55,
   "metadata": {
    "ExecuteTime": {
     "end_time": "2021-09-28T18:59:20.480198Z",
     "start_time": "2021-09-28T18:59:20.462620Z"
    }
   },
   "outputs": [
    {
     "name": "stdout",
     "output_type": "stream",
     "text": [
      "renamed video to lr_ic008.33_DT_4.mov\n"
     ]
    }
   ],
   "source": [
    "#rename that video reasonably\n",
    "vidname='lr_'+os.path.basename(ic_fn)[:-4]+f'_DT_{DT}.mov'\n",
    "os.chdir(f\"{nb_dir}/../vid/mov\")\n",
    "os.rename('out.mov',vidname)\n",
    "print(f\"renamed video to {vidname}\")"
   ]
  },
  {
   "cell_type": "code",
   "execution_count": 57,
   "metadata": {
    "ExecuteTime": {
     "end_time": "2021-09-28T18:59:22.471293Z",
     "start_time": "2021-09-28T18:59:22.451800Z"
    }
   },
   "outputs": [
    {
     "data": {
      "text/plain": [
       "'/home/timothytyree/Documents/GitHub/care/vid/mov/lr_ic008.33_DT_4.mov'"
      ]
     },
     "execution_count": 57,
     "metadata": {},
     "output_type": "execute_result"
    }
   ],
   "source": [
    "os.path.abspath(vidname)"
   ]
  },
  {
   "cell_type": "code",
   "execution_count": 56,
   "metadata": {
    "ExecuteTime": {
     "end_time": "2021-09-28T18:59:22.167042Z",
     "start_time": "2021-09-28T18:59:20.744542Z"
    }
   },
   "outputs": [
    {
     "data": {
      "text/plain": [
       "0"
      ]
     },
     "execution_count": 56,
     "metadata": {},
     "output_type": "execute_result"
    }
   ],
   "source": [
    "beep(7)"
   ]
  },
  {
   "cell_type": "markdown",
   "metadata": {
    "ExecuteTime": {
     "end_time": "2021-05-05T19:36:27.106309Z",
     "start_time": "2021-05-05T19:36:27.084437Z"
    },
    "heading_collapsed": true
   },
   "source": [
    "# DONT: analyze pdict"
   ]
  },
  {
   "cell_type": "code",
   "execution_count": 31,
   "metadata": {
    "ExecuteTime": {
     "end_time": "2021-09-28T06:20:03.537937Z",
     "start_time": "2021-09-28T06:20:03.410779Z"
    },
    "hidden": true
   },
   "outputs": [
    {
     "ename": "NameError",
     "evalue": "name 'pdict' is not defined",
     "output_type": "error",
     "traceback": [
      "\u001b[0;31m---------------------------------------------------------------------------\u001b[0m",
      "\u001b[0;31mNameError\u001b[0m                                 Traceback (most recent call last)",
      "\u001b[0;32m<ipython-input-31-7749b1386b6e>\u001b[0m in \u001b[0;36m<module>\u001b[0;34m\u001b[0m\n\u001b[0;32m----> 1\u001b[0;31m \u001b[0mpl\u001b[0m\u001b[0;34m=\u001b[0m\u001b[0mpdict\u001b[0m\u001b[0;34m.\u001b[0m\u001b[0mget_alive_particles\u001b[0m\u001b[0;34m(\u001b[0m\u001b[0;34m)\u001b[0m\u001b[0;34m\u001b[0m\u001b[0;34m\u001b[0m\u001b[0m\n\u001b[0m\u001b[1;32m      2\u001b[0m \u001b[0mpl\u001b[0m\u001b[0;34m\u001b[0m\u001b[0;34m\u001b[0m\u001b[0m\n",
      "\u001b[0;31mNameError\u001b[0m: name 'pdict' is not defined"
     ]
    }
   ],
   "source": [
    "# pl=pdict.get_alive_particles()\n",
    "# pl"
   ]
  },
  {
   "cell_type": "code",
   "execution_count": null,
   "metadata": {
    "ExecuteTime": {
     "end_time": "2021-09-28T06:20:03.543491Z",
     "start_time": "2021-09-28T04:18:37.458Z"
    },
    "hidden": true,
    "scrolled": true
   },
   "outputs": [],
   "source": [
    "# # plot sigma_max of the lesser_arclen versus time for all particles, centering about their last recorded time\n",
    "# fontsize=18\n",
    "# saving=True\n",
    "# savefig_folder=f\"{nb_dir}/Figures\"\n",
    "# savefig_fn=f\"arclen-versus-ttdeath.png\"\n",
    "# figsize=(6,5)\n",
    "# fig,ax=plt.subplots(figsize=figsize)\n",
    "\n",
    "# pid_lst=list(pdict.keys())\n",
    "# pid_lst=pdict.get_alive_particles()\n",
    "\n",
    "# # pid_lst=pdict.get_alive_particles()\n",
    "# for pid in pid_lst[:1]:\n",
    "#     #extract values\n",
    "#     sigma_max_values=np.array(pdict[pid]['greater_arclen'])\n",
    "#     sigma_max_values_other=np.array(pdict[pid]['lesser_arclen'])\n",
    "#     t_values=np.array(pdict[pid]['t'])\n",
    "#     t_until_death_values=t_values[-1]-t_values\n",
    "#     x_values=t_until_death_values\n",
    "#     y_values=sigma_max_values*5/img.shape[0]\n",
    "#     y_values_other=sigma_max_values_other*5/img.shape[0]\n",
    "    \n",
    "#     #plot values\n",
    "#     ax.scatter(x_values,y_values,alpha=0.2)\n",
    "#     ax.scatter(x_values,y_values_other,alpha=0.2)\n",
    "# #format\n",
    "# ax.set_xlim([8e-3,2e1])\n",
    "# ax.set_ylim([1e-2,10])\n",
    "# ax.set_xlabel('time until death (ms)', fontsize=fontsize)\n",
    "# ax.set_ylabel('arclength of\\nactivation front (cm)', fontsize=fontsize)\n",
    "# ax.tick_params(axis='both', which='major', labelsize=fontsize)\n",
    "# ax.tick_params(axis='both', which='minor', labelsize=0)\n",
    "# ax.set_xscale('log')\n",
    "# ax.set_yscale('log')\n",
    "# if not saving: \n",
    "#     plt.show() \n",
    "# else:\n",
    "#     plt.tight_layout()\n",
    "#     os.chdir(savefig_folder)\n",
    "#     plt.savefig(savefig_fn, dpi=300)\n",
    "#     print(f\"saved figure in \\n\\t{savefig_fn}\")\n",
    "#     plt.close()"
   ]
  },
  {
   "cell_type": "code",
   "execution_count": null,
   "metadata": {
    "ExecuteTime": {
     "end_time": "2021-09-28T06:20:03.543982Z",
     "start_time": "2021-09-28T04:18:37.460Z"
    },
    "hidden": true
   },
   "outputs": [],
   "source": [
    "# len(dict_topo['x'])"
   ]
  },
  {
   "cell_type": "markdown",
   "metadata": {
    "heading_collapsed": true
   },
   "source": [
    "# DONT: make movie highlighting curvature"
   ]
  },
  {
   "cell_type": "code",
   "execution_count": null,
   "metadata": {
    "ExecuteTime": {
     "end_time": "2021-09-28T06:20:03.544443Z",
     "start_time": "2021-09-28T04:18:37.462Z"
    },
    "hidden": true
   },
   "outputs": [],
   "source": [
    "# # #load a mesh from Luo-Rudy\n",
    "# # ic_fn=search_for_file()\n",
    "# try:\n",
    "#     ic_fn=f\"{nb_dir}/Data/initial-conditions-suite-3-LR/ic-out/ic008.33.npz\"\n",
    "#     txt=load_buffer(ic_fn)\n",
    "#     t=0\n",
    "# except FileNotFoundError as e:\n",
    "#     ic_fn=f\"{nb_dir}/Data/initial-conditions-suite-3-LR/ic-in/ic008.33.npz\"\n",
    "#     txt=load_buffer(ic_fn)\n",
    "#     t=0   \n",
    "    \n",
    "# save_folder=f\"{nb_dir}/Figures/mov\"    \n",
    "# ds=5.\n",
    "# frameno=0\n",
    "# DT=2.\n",
    "# dt=0.01\n",
    "# nsteps_per_DT=int(DT/dt)\n",
    "# save_every_n_frames=50"
   ]
  },
  {
   "cell_type": "code",
   "execution_count": null,
   "metadata": {
    "ExecuteTime": {
     "end_time": "2021-09-28T06:20:03.544878Z",
     "start_time": "2021-09-28T04:18:37.464Z"
    },
    "hidden": true
   },
   "outputs": [],
   "source": [
    "# inVc,outVc,inmhjdfx,outmhjdfx,dVcdt=unstack_txt(txt)\n",
    "# width,height=txt.shape[:2]\n",
    "# V_threshold=-50;dt=0.01\n",
    "\n",
    "# # comp_dict_topo_full_color=get_comp_dict_topo_full_color(width=width,height=height,level1=V_threshold,level2=0.)\n",
    "# # get_one_step at this dt\n",
    "# __, arr39, one_step = get_one_step_explicit_synchronous_splitting(\n",
    "#     nb_dir,dt=dt,width=width,height=height,ds=ds,diffCoef=0.0005,Cm=1.0)\n",
    "# # comp_dict_topo_simple=get_comp_dict_topo_simple(width=width,height=height,level1=V_threshold,level2=0)\n",
    "# txt=stack_txt(inVc,outVc,inmhjdfx,outmhjdfx,dVcdt)"
   ]
  },
  {
   "cell_type": "code",
   "execution_count": null,
   "metadata": {
    "ExecuteTime": {
     "end_time": "2021-09-28T06:20:03.545304Z",
     "start_time": "2021-09-28T04:18:37.465Z"
    },
    "hidden": true
   },
   "outputs": [],
   "source": [
    "# img_prev=txt[...,0].copy()\n",
    "# inVc,outVc,inmhjdfx,outmhjdfx,dVcdt=unstack_txt(txt)\n",
    "# for n in range(nsteps_per_DT):\n",
    "#     one_step(inVc,outVc,inmhjdfx,outmhjdfx,dVcdt)\n",
    "#     t+=dt\n",
    "# txt=stack_txt(inVc,outVc,inmhjdfx,outmhjdfx,dVcdt)\n",
    "# img=inVc[...,0]\n",
    "# dimgdt=dVcdt[...,0]\n",
    "\n",
    "# comp_tips=get_comp_tips(width,height,V_threshold)\n",
    "# dict_tips=comp_tips(img,img_prev,dimgdt,t,txt)\n",
    "# pdict=ParticlePBCDict(dict_tips=dict_tips, width=width, height=width)#, **kwargs)\n",
    "\n",
    "# if not os.path.exists(save_folder):\n",
    "#     os.mkdir(save_folder)"
   ]
  },
  {
   "cell_type": "code",
   "execution_count": null,
   "metadata": {
    "ExecuteTime": {
     "end_time": "2021-09-28T06:20:03.545829Z",
     "start_time": "2021-09-28T04:18:37.468Z"
    },
    "hidden": true
   },
   "outputs": [],
   "source": [
    "# # while there are still tips,\n",
    "# img_item_lst=[]\n",
    "# ntips=len(dict_tips['x'])\n",
    "# while ntips>0:\n",
    "#     txt=stack_txt(inVc,outVc,inmhjdfx,outmhjdfx,dVcdt).copy()\n",
    "#     #compute images\n",
    "#     img=inVc[...,0].copy()#;dimgdt=dVcdt[...,0]\n",
    "#     img_item_lst.append((t,img))\n",
    "#     #recall img_prev, which is voltage at a time DT earlier\n",
    "#     t_a,img_prev=img_item_lst[0]\n",
    "#     DT_img_item_lst=t-t_a\n",
    "#     if DT_img_item_lst>=DT:\n",
    "#         #record tips\n",
    "#         img_item_lst.pop(0)\n",
    "#         dict_tips=comp_tips(img,img_prev,dimgdt, t, txt)\n",
    "#         ntips=len(dict_tips['x'])\n",
    "#         if ntips>0:\n",
    "#             pdict.merge(dict_tips)\n",
    "#             # t_prev=t;txt_prev=txt.copy();\n",
    "#         frameno=SaveTipsAndColoredContours(img,frameno,dict_tips,save_folder=save_folder)#,save_fn=None,vmin_img=-85.,vmax_img=35.,inch=5)\n",
    "#         print(f\"saved ntips={ntips}, time={t:.2f} ms.\", end='\\r')\n",
    "\n",
    "#     for j in range(save_every_n_frames):\n",
    "#         #     integrate forward by one_step\n",
    "#         one_step(inVc, outVc, inmhjdfx, outmhjdfx, dVcdt)\n",
    "#         t+=dt\n",
    "# #save a few more frames\n",
    "# nframes_extra=50\n",
    "# for n in range(nframes_extra):\n",
    "#     txt=stack_txt(inVc,outVc,inmhjdfx,outmhjdfx,dVcdt).copy()\n",
    "#     #compute images\n",
    "#     img=inVc[...,0].copy()#;dimgdt=dVcdt[...,0]\n",
    "#     img_item_lst.append((t,img))\n",
    "#     #recall img_prev, which is voltage at a time DT earlier\n",
    "#     t_a,img_prev=img_item_lst[0]\n",
    "#     DT_img_item_lst=t-t_a\n",
    "#     if DT_img_item_lst>=DT:\n",
    "#         #record tips\n",
    "#         img_item_lst.pop(0)\n",
    "#         dict_tips=comp_tips(img,img_prev,dimgdt, t, txt)\n",
    "#         ntips=len(dict_tips['x'])\n",
    "#         frameno=SaveTipsAndColoredContours(img,frameno,dict_tips,save_folder=save_folder)#,save_fn=None,vmin_img=-85.,vmax_img=35.,inch=5)\n",
    "#     for j in range(save_every_n_frames):\n",
    "#         #     integrate forward by one_step\n",
    "#         one_step(inVc, outVc, inmhjdfx, outmhjdfx, dVcdt)\n",
    "#         t+=dt\n",
    "# beep(5)"
   ]
  },
  {
   "cell_type": "code",
   "execution_count": null,
   "metadata": {
    "hidden": true
   },
   "outputs": [],
   "source": []
  }
 ],
 "metadata": {
  "kernelspec": {
   "display_name": "Python 3",
   "language": "python",
   "name": "python3"
  },
  "language_info": {
   "codemirror_mode": {
    "name": "ipython",
    "version": 3
   },
   "file_extension": ".py",
   "mimetype": "text/x-python",
   "name": "python",
   "nbconvert_exporter": "python",
   "pygments_lexer": "ipython3",
   "version": "3.7.6"
  },
  "toc": {
   "base_numbering": 1,
   "nav_menu": {},
   "number_sections": true,
   "sideBar": true,
   "skip_h1_title": false,
   "title_cell": "Table of Contents",
   "title_sidebar": "Contents",
   "toc_cell": false,
   "toc_position": {},
   "toc_section_display": true,
   "toc_window_display": false
  },
  "varInspector": {
   "cols": {
    "lenName": 16,
    "lenType": 16,
    "lenVar": 40
   },
   "kernels_config": {
    "python": {
     "delete_cmd_postfix": "",
     "delete_cmd_prefix": "del ",
     "library": "var_list.py",
     "varRefreshCmd": "print(var_dic_list())"
    },
    "r": {
     "delete_cmd_postfix": ") ",
     "delete_cmd_prefix": "rm(",
     "library": "var_list.r",
     "varRefreshCmd": "cat(var_dic_list()) "
    }
   },
   "types_to_exclude": [
    "module",
    "function",
    "builtin_function_or_method",
    "instance",
    "_Feature"
   ],
   "window_display": false
  }
 },
 "nbformat": 4,
 "nbformat_minor": 4
}
