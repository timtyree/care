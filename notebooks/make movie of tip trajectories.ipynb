{
 "cells": [
  {
   "cell_type": "markdown",
   "metadata": {},
   "source": [
    "# Make a minimalist movie showing tip trajectories\n",
    "Tim Tyree<br>\n",
    "11.16.2020"
   ]
  },
  {
   "cell_type": "code",
   "execution_count": 1,
   "metadata": {
    "ExecuteTime": {
     "end_time": "2021-09-27T23:26:44.409906Z",
     "start_time": "2021-09-27T23:26:43.416185Z"
    }
   },
   "outputs": [
    {
     "name": "stdout",
     "output_type": "stream",
     "text": [
      "Automatic calling is: Smart\n"
     ]
    }
   ],
   "source": [
    "#pylab\n",
    "%matplotlib inline\n",
    "import numpy as np, pandas as pd, matplotlib.pyplot as plt\n",
    "\n",
    "import skimage as sk\n",
    "from skimage import measure, filters\n",
    "\n",
    "from numba import njit, jit, vectorize\n",
    "from PIL import Image\n",
    "import imageio\n",
    "# import cv2 as cv\n",
    "\n",
    "#automate the boring stuff\n",
    "from IPython import utils\n",
    "import time, os, sys, re\n",
    "beep = lambda x: os.system(\"echo -n '\\\\a';sleep 0.2;\" * x)\n",
    "if not 'nb_dir' in globals():\n",
    "    nb_dir = os.getcwd()\n",
    "# width = 512\n",
    "# height = 512\n",
    "# channel_no = 3\n",
    "\n",
    "# #load the libraries\n",
    "from lib import *\n",
    "# from lib.measure._find_tips_pbc_cy import lookup_segments\n",
    "# from lib.measure._find_tips_kernel import *\n",
    "# from lib.measure._find_tips_kernel_cy import find_intersections\n",
    "#use cuda via numba\n",
    "from numba import jit, njit, vectorize, cuda, uint32, f8, uint8\n",
    "from numba.typed import List\n",
    "# from lib.contours_to_tips import *\n",
    "import shutil\n",
    "from lib.measure.comp_tips_safely import get_comp_tips\n",
    "from lib.viewer.DomainPlot import SaveTipsAndColoredContours\n",
    "\n",
    "%autocall 1\n",
    "%load_ext autoreload\n",
    "%autoreload 2"
   ]
  },
  {
   "cell_type": "code",
   "execution_count": null,
   "metadata": {
    "ExecuteTime": {
     "end_time": "2021-09-27T23:26:44.572815Z",
     "start_time": "2021-09-27T23:26:44.544584Z"
    }
   },
   "outputs": [],
   "source": []
  },
  {
   "cell_type": "code",
   "execution_count": null,
   "metadata": {
    "ExecuteTime": {
     "end_time": "2021-09-27T23:06:52.255284Z",
     "start_time": "2021-09-27T23:06:52.184932Z"
    }
   },
   "outputs": [],
   "source": []
  },
  {
   "cell_type": "code",
   "execution_count": 10,
   "metadata": {
    "ExecuteTime": {
     "end_time": "2021-09-27T23:07:49.815066Z",
     "start_time": "2021-09-27T23:07:49.794817Z"
    }
   },
   "outputs": [],
   "source": [
    "#DONE: see if the LR one step method is already cuda accelerated. it's not and shan't\n",
    "#TODO: get the plotter to be functional \n",
    "#TODO: copy the highly successfull method from bgmc over here"
   ]
  },
  {
   "cell_type": "code",
   "execution_count": 11,
   "metadata": {
    "ExecuteTime": {
     "end_time": "2021-09-27T23:07:53.233270Z",
     "start_time": "2021-09-27T23:07:53.215691Z"
    }
   },
   "outputs": [],
   "source": [
    "# from lib.controller.one_step_splitting_cuda_kernels import get_forward_integrate_kernel"
   ]
  },
  {
   "cell_type": "code",
   "execution_count": 12,
   "metadata": {
    "ExecuteTime": {
     "end_time": "2021-09-27T23:08:09.744631Z",
     "start_time": "2021-09-27T23:08:09.723306Z"
    }
   },
   "outputs": [],
   "source": [
    "# forward_integrate_kernel=get_forward_integrate_kernel(nb_dir,dt,width,height,ds,stream,diffCoef=0.001,Cm=1.)\n",
    "# forward_integrate_kernel(txt,txt_Istim, num_steps)"
   ]
  },
  {
   "cell_type": "markdown",
   "metadata": {
    "heading_collapsed": true
   },
   "source": [
    "# scratchwerk\n"
   ]
  },
  {
   "cell_type": "code",
   "execution_count": 13,
   "metadata": {
    "ExecuteTime": {
     "end_time": "2021-09-27T23:08:35.780979Z",
     "start_time": "2021-09-27T23:08:35.734772Z"
    },
    "hidden": true
   },
   "outputs": [],
   "source": [
    "# #TODO(later): plot these tips with their u's and v's\n",
    "# # Display the image and plot all pbc contours found properly!\n",
    "# def save_plot_as_png(img, dimgdt, x_values, y_values, c_values, n_tips, V_threshold, t, save_folder, frameno, \n",
    "#     save = True, inch = 6, **kwargs):\n",
    "#     ''''''\n",
    "#     fig, ax = plt.subplots(figsize=(inch,inch))\n",
    "\n",
    "#     #appears to work     contours1 = find_contours(img,    level = 0.5)\n",
    "#     contours1 = find_contours(img,    level = V_threshold)\n",
    "#     contours2 = find_contours(dimgdt, level = 0.0)\n",
    "\n",
    "#     # ax.imshow(img, cmap=plt.cm.gray)\n",
    "#     ax.imshow(dimgdt, cmap=plt.cm.gray)\n",
    "#     # ax.imshow(dimgdt*img, cmap=plt.cm.gray)\n",
    "\n",
    "\n",
    "#     plot_contours_pbc(contours1, ax, linewidth=2, min_num_vertices=6, linestyle='-', alpha=0.5, color='blue')\n",
    "#     plot_contours_pbc(contours2, ax, linewidth=2, min_num_vertices=6, linestyle='--', alpha=0.5, color='orange')\n",
    "\n",
    "#     #plot spiral tips. color inner spiral tip by slow variable\n",
    "#     ax.scatter(x=x_values, y=y_values, s=270, c=1+0.*c_values, marker='*', zorder=3, alpha=1., vmin=0,vmax=1)\n",
    "#     ax.scatter(x=x_values, y=y_values, s=45, c=c_values, marker='*', zorder=3, alpha=1., vmin=0,vmax=1, cmap='Blues')\n",
    "#     # ax.scatter(x=x_values, y=y_values, s=270, c='yellow', marker='*', zorder=3, alpha=1.)\n",
    "#     # ax.scatter(x=x_values, y=y_values, s=45, c='blue', marker='*', zorder=3, alpha=1.)\n",
    "\n",
    "#     ax.text(.0,.95,f\"t = {t*10**3:.2} s\",\n",
    "#             horizontalalignment='left',color='white',fontsize=16,\n",
    "#             transform=ax.transAxes)\n",
    "#     ax.text(.0,.9,f\"Num. of Tips  = {n_tips}\",\n",
    "#             horizontalalignment='left',color='white',fontsize=16,\n",
    "#             transform=ax.transAxes)\n",
    "#     ax.text(.5,.01,f\"Area = {25}cm^2, V. Threshold = {V_threshold}\",\n",
    "#             horizontalalignment='center',color='white',fontsize=16,\n",
    "#             transform=ax.transAxes)\n",
    "\n",
    "#     # ax.set_title(f\"Area ={25}cm^2, V. Threshold ={V_threshold}, Num. Tips ={n_tips}\", color='blue', loc='left',pad=0)\n",
    "#     ax.axis([0,200,0,200])\n",
    "# #     ax.axis('image')\n",
    "#     ax.set_xticks([])\n",
    "#     ax.set_yticks([])\n",
    "\n",
    "#     if not save:\n",
    "#         plt.show()\n",
    "#     else:\n",
    "#         os.chdir(save_folder)\n",
    "#         save_fn = f\"img{frameno:07d}.png\"\n",
    "#         frameno += 1\n",
    "# #         plt.tight_layout()\n",
    "#         plt.savefig(save_fn,dpi=720/inch, bbox_inches='tight',pad_inches=0);\n",
    "#         plt.close();\n",
    "#         #     print(f'figure saved in {save_fn}.')\n",
    "#         #     plt.savefig('example_parameterless_tip_detection_t_600.png')\n",
    "#     return frameno"
   ]
  },
  {
   "cell_type": "code",
   "execution_count": 14,
   "metadata": {
    "ExecuteTime": {
     "end_time": "2021-09-27T23:08:41.303164Z",
     "start_time": "2021-09-27T23:08:40.977393Z"
    },
    "hidden": true
   },
   "outputs": [],
   "source": [
    "# #import a texture\n",
    "# # ## practical test case for fast tip detection kernel\n",
    "# # file = '/Users/timothytyree/Documents/GitHub/care/notebooks/Data/initial-conditions-suite-1/ic-out/ic_200x200.120.32.npz'\n",
    "# # txt = load_buffer(file)\n",
    "# # t   = 0. #ms\n",
    "\n",
    "# # # #load ^that loaded initial after 20000 steps = 500 ms at time_steps of size 0.025\n",
    "# # file = '/Users/timothytyree/Documents/GitHub/care/notebooks/Data/test_txt.npz'\n",
    "# # txt  = load_buffer(file)\n",
    "# # t   = 500 #ms\n",
    "\n",
    "# # #load a mesh from Luo-Rudy that is near termination\n",
    "# txt_fn=f'{nb_dir}/Data/test_data/ic008.33_t_900.0.npz'\n",
    "# t=900.\n",
    "# txt=load_buffer(txt_fn)\n",
    "# inVc,outVc,inmhjdfx,outmhjdfx,dVcdt=unstack_txt(txt)\n",
    "\n",
    "\n",
    "\n",
    "# # #define tip detection routine parameters\n",
    "# # V_threshold = 0.4\n",
    "# # decimals=10\n",
    "# # theta_threshold = 0.\n",
    "# # level1 = V_threshold\n",
    "# # level2 = 0.0\n",
    "# # h    = 0.025 #ms\n",
    "\n",
    "# #define tip detection routine parameters\n",
    "# V_threshold = -40\n",
    "# decimals=10\n",
    "# theta_threshold = 0.\n",
    "# level1 = V_threshold\n",
    "# level2 = 0.0\n",
    "# h    = 0.025#0.0010 #ms\n",
    "# dt=h\n",
    "# ds=5#cm\n",
    "# zero_txt = txt.copy()*0.\n",
    "# width, height = txt.shape[:2]\n",
    "\n",
    "# t_list = []\n",
    "# n_list = []   \n",
    "# dict_lst = []"
   ]
  },
  {
   "cell_type": "code",
   "execution_count": null,
   "metadata": {
    "ExecuteTime": {
     "start_time": "2021-09-28T00:08:33.989Z"
    },
    "hidden": true
   },
   "outputs": [],
   "source": [
    "# # get_one_step at this dt\n",
    "# __, arr39, one_step = get_one_step_explicit_synchronous_splitting(\n",
    "#     nb_dir,dt=dt,width=width,height=height,ds=ds,diffCoef=0.001,Cm=1.0)"
   ]
  },
  {
   "cell_type": "code",
   "execution_count": null,
   "metadata": {
    "hidden": true
   },
   "outputs": [],
   "source": []
  },
  {
   "cell_type": "code",
   "execution_count": null,
   "metadata": {
    "hidden": true
   },
   "outputs": [],
   "source": []
  },
  {
   "cell_type": "code",
   "execution_count": null,
   "metadata": {
    "hidden": true
   },
   "outputs": [],
   "source": []
  },
  {
   "cell_type": "markdown",
   "metadata": {
    "heading_collapsed": true,
    "hidden": true
   },
   "source": [
    "### scratchwerk"
   ]
  },
  {
   "cell_type": "code",
   "execution_count": 5,
   "metadata": {
    "ExecuteTime": {
     "end_time": "2021-09-27T05:06:17.724534Z",
     "start_time": "2021-09-27T05:06:17.705622Z"
    },
    "hidden": true
   },
   "outputs": [],
   "source": [
    "# # tmax = 25#30000#6000#3025.600-2*h# 886.6-h#6000#600#510#600#505.225# #ms\n",
    "# num_steps = 1#int(np.around((tmax-t)/h))\n",
    "# tmax = h*num_steps+t\n",
    "# print(tmax)\n",
    "# step_count = 0\n",
    "# while t<tmax:\n",
    "#     #TODO: insert functionality for saving every n frames\n",
    "\n",
    "# #     #measure system with cython\n",
    "# #     #compute as discrete flow map dtxt_dt\n",
    "# #     dtxt_dt = zero_txt.copy()\n",
    "# #     get_time_step(txt, dtxt_dt)\n",
    "\n",
    "# #     #compute the images to find isosurfaces of\n",
    "# #     img    = txt[...,0]\n",
    "# #     dimgdt = dtxt_dt[...,0]\n",
    "\n",
    "#     # find_intersections\n",
    "#     retval = find_intersections(img,dimgdt,level1,level2,theta_threshold=theta_threshold)\n",
    "#     lst_values_x,lst_values_y,lst_values_theta, lst_values_grad_ux, lst_values_grad_uy, lst_values_grad_vx, lst_values_grad_vy = retval\n",
    "#     x_values = np.array(lst_values_x)\n",
    "#     y_values = np.array(lst_values_y)\n",
    "#     # EP states given by bilinear interpolation with periodic boundary conditions\n",
    "#     v_lst, f_lst, s_lst = interpolate_states(x_values,y_values,width,height,txt)\n",
    "#     dvdt_lst, dfdt_lst, dsdt_lst = interpolate_states(x_values,y_values,width,height,dtxt_dt)\n",
    "\n",
    "#     n_tips = x_values.size\n",
    "#     dict_out = {\n",
    "#         't': float(t),\n",
    "#         'n': int(n_tips),\n",
    "#         'x': tuple(lst_values_x),\n",
    "#         'y': tuple(lst_values_y),\n",
    "#         'theta': tuple(lst_values_theta),\n",
    "#         'grad_ux': tuple(lst_values_grad_ux),\n",
    "#         'grad_uy': tuple(lst_values_grad_uy),\n",
    "#         'grad_vx': tuple(lst_values_grad_vx),\n",
    "#         'grad_vy': tuple(lst_values_grad_vy),\n",
    "#         'v':v_lst,\n",
    "#         'f':f_lst,\n",
    "#         's':s_lst,\n",
    "#         'dvdt':dvdt_lst,\n",
    "#         'dfdt':dfdt_lst,\n",
    "#         'dsdt':dsdt_lst,\n",
    "#     }\n",
    "#     dict_lst.append(dict_out)\n",
    "    \n",
    "#     #record data for current time\n",
    "#     t_list.append(t)\n",
    "#     n_list.append(n_tips)\n",
    "\n",
    "#     #forward Euler integration in time\n",
    "#     txt += h*dtxt_dt\n",
    "#     t   += h\n",
    "#     step_count += 1\n",
    "    \n",
    "#     #progress bar that updates after each measurement\n",
    "#     printProgressBar(step_count, num_steps, prefix = 'Progress:', suffix = 'Complete', length = 50)\n",
    "# beep(1)\n",
    "# print(f\"\\nthe current tip number is {n_tips}.\")"
   ]
  },
  {
   "cell_type": "code",
   "execution_count": 7,
   "metadata": {
    "ExecuteTime": {
     "end_time": "2021-09-27T05:06:17.764834Z",
     "start_time": "2021-09-27T05:06:17.748620Z"
    },
    "hidden": true
   },
   "outputs": [],
   "source": [
    "# #save the state of the system\n",
    "# c_values = np.array(dfdt_lst)\n",
    "# # c_values = np.array(s_lst)\n",
    "# frameno = save_plot_as_png(img, dimgdt, x_values, y_values, c_values, n_tips, V_threshold, t, save_folder, frameno, \n",
    "#     save = True, inch = 6)"
   ]
  },
  {
   "cell_type": "code",
   "execution_count": 3,
   "metadata": {
    "ExecuteTime": {
     "end_time": "2021-09-27T23:26:51.392686Z",
     "start_time": "2021-09-27T23:26:51.371987Z"
    },
    "hidden": true
   },
   "outputs": [],
   "source": [
    "# #not used in save_figure_as_png\n",
    "# # def get_time_step(frameno,t,t_unit_string=\"s\"):\n",
    "# #     return f\"frame={frameno}\"\n",
    "# #     return f\"t = {t*10**3:.2} \"+t_unit_string\n",
    "\n",
    "# def get_message(ntips):\n",
    "#     return f\"Num. of Tips  = {ntips}\"\n",
    "\n",
    "# #TODO(later): plot these tips with their u's and v's\n",
    "# # Display the image and plot all pbc contours found properly!\n",
    "# def save_figure_as_png(fig,ax,save_folder,save_fn,time_step,inch = 6, **kwargs):\n",
    "#     '''\n",
    "#     Example Usage:\n",
    "    \n",
    "#     '''\n",
    "#     ax.text(.0,.95,time_step,\n",
    "#             horizontalalignment='left',color='white',fontsize=16,\n",
    "#             transform=ax.transAxes)\n",
    "#     ax.text(.0,.9,message,\n",
    "#             horizontalalignment='left',color='white',fontsize=16,\n",
    "#             transform=ax.transAxes)\n",
    "# #     ax.text(.5,.01,f\"Area = {25}cm^2, V. Threshold = {V_threshold}\",\n",
    "# #             horizontalalignment='center',color='white',fontsize=16,\n",
    "# #             transform=ax.transAxes)\n",
    "#     os.chdir(save_folder)\n",
    "#     save_fn = f\"img{frameno:07d}.png\"\n",
    "#     frameno += 1\n",
    "# #         plt.tight_layout()\n",
    "#     fig.savefig(save_fn,dpi=720/inch, bbox_inches='tight',pad_inches=0);\n",
    "#     plt.close();\n",
    "#     return os.path.abspath(save_fn)\n",
    "\n",
    "# # def plot_system(img,dimgdt,V_threshold=-40):\n",
    "# # #     #visually verify system\n",
    "# # #     img=inVc[...,0]\n",
    "# # #     dimgdt=dVcdt[...,0]\n",
    "# #     # compute_all_spiral_tips= get_compute_all_spiral_tips(mode='simp',width=width,height=height)\n",
    "# #     # dict_out=compute_all_spiral_tips(t,img,dimgdt,level1=V_threshold,level2=0.)#,width=width,height=height)\n",
    "# #     #     print(f\"{ntips} tips are present at time t={int(t_prev)}.\")\n",
    "# #     fig = ShowDomain(img,dimgdt,x_values,y_values,0.*x_values,V_threshold,t,inch=6,fontsize=16,vmin_img=-85.,vmax_img=35.,\n",
    "# #                      area=25,frameno=1,save_fn=None,save_folder=None,save=False,annotating=False,axis=[0,txt.shape[0],0,txt.shape[1]])\n",
    "# #     ax_list = fig.axes\n",
    "# #     return fig"
   ]
  },
  {
   "cell_type": "code",
   "execution_count": null,
   "metadata": {
    "ExecuteTime": {
     "end_time": "2021-09-27T20:26:59.104885Z",
     "start_time": "2021-09-27T20:26:58.929280Z"
    },
    "hidden": true
   },
   "outputs": [],
   "source": []
  },
  {
   "cell_type": "code",
   "execution_count": 9,
   "metadata": {
    "ExecuteTime": {
     "end_time": "2021-09-27T05:06:17.801914Z",
     "start_time": "2021-09-27T05:06:17.784194Z"
    },
    "hidden": true
   },
   "outputs": [],
   "source": [
    "# #TODO: add support for getting intersection between frames separated by at least two milliseconds\n",
    "\n",
    "# tmax = 300000#30000#6000#3025.600-2*h# 886.6-h#6000#600#510#600#505.225# #ms\n",
    "# num_steps = int(np.around((tmax-t)/h))\n",
    "# tmax = h*num_steps+t\n",
    "# # print(tmax)\n",
    "# n_tips=1\n",
    "# step_count = 0\n",
    "# while (t<tmax) & (n_tips > 0):\n",
    "#     if step_count%save_every_n_frames != 0:\n",
    "#         #forward Euler integration in time\n",
    "#         time_step(txt, h, zero_txt)\n",
    "#     else:\n",
    "#         #measure system with cython\n",
    "#         #compute as discrete flow map dtxt_dt\n",
    "#         dtxt_dt = zero_txt.copy()\n",
    "#         get_time_step(txt, dtxt_dt)\n",
    "\n",
    "#         #compute the images to find isosurfaces of\n",
    "#         img    = txt[...,0]\n",
    "#         dimgdt = dtxt_dt[...,0]\n",
    "\n",
    "#         # find_intersections\n",
    "#         retval = find_intersections(img,dimgdt,level1,level2,theta_threshold=theta_threshold)\n",
    "#         lst_values_x,lst_values_y,lst_values_theta, lst_values_grad_ux, lst_values_grad_uy, lst_values_grad_vx, lst_values_grad_vy = retval\n",
    "#         x_values = np.array(lst_values_x)\n",
    "#         y_values = np.array(lst_values_y)\n",
    "#         # EP states given by bilinear interpolation with periodic boundary conditions\n",
    "#         v_lst, f_lst, s_lst = interpolate_states(x_values,y_values,width,height,txt)\n",
    "#         dvdt_lst, dfdt_lst, dsdt_lst = interpolate_states(x_values,y_values,width,height,dtxt_dt)\n",
    "\n",
    "\n",
    "\n",
    "#         n_tips = x_values.size\n",
    "#         dict_out = {\n",
    "#             't': float(t),\n",
    "#             'n': int(n_tips),\n",
    "#             'x': tuple(lst_values_x),\n",
    "#             'y': tuple(lst_values_y),\n",
    "#             'theta': tuple(lst_values_theta),\n",
    "#             'grad_ux': tuple(lst_values_grad_ux),\n",
    "#             'grad_uy': tuple(lst_values_grad_uy),\n",
    "#             'grad_vx': tuple(lst_values_grad_vx),\n",
    "#             'grad_vy': tuple(lst_values_grad_vy),\n",
    "#             'v':v_lst,\n",
    "#             'f':f_lst,\n",
    "#             's':s_lst,\n",
    "#             'dvdt':dvdt_lst,\n",
    "#             'dfdt':dfdt_lst,\n",
    "#             'dsdt':dsdt_lst,\n",
    "#         }\n",
    "#         dict_lst.append(dict_out)\n",
    "\n",
    "#         #record data for current time\n",
    "#         t_list.append(t)\n",
    "#         n_list.append(n_tips)\n",
    "\n",
    "#         #save the state of the system as a png\n",
    "#         c_values = np.array(dfdt_lst)#s_lst)\n",
    "#         frameno = save_plot_as_png(img, dimgdt, x_values, y_values, c_values, n_tips, V_threshold, t, save_folder, frameno, \n",
    "#                                    save = True, inch = 6)\n",
    "#         #progress bar that updates after each measurement\n",
    "#         printProgressBar(step_count, num_steps, prefix = 'Progress:', suffix = 'Complete', length = 50)\n",
    "\n",
    "#         #forward Euler integration in time\n",
    "#         txt += h*dtxt_dt\n",
    "#     t   += h\n",
    "#     step_count += 1\n",
    "    \n",
    "# beep(3)\n",
    "# print(f\"\\nthe current tip number is {n_tips}.\")"
   ]
  },
  {
   "cell_type": "code",
   "execution_count": 10,
   "metadata": {
    "ExecuteTime": {
     "end_time": "2021-09-27T05:06:17.820264Z",
     "start_time": "2021-09-27T05:06:17.803696Z"
    },
    "hidden": true
   },
   "outputs": [],
   "source": [
    "#TODO: make a *.mov of ^this\n",
    "#TODO(later): compute the trajectories of spiral tips.\n",
    "#TODO(later): color tips by their particle number.\n",
    "#TODO(later): make a *.mov of ^this\n",
    "#TODO(later): does ^this look reasonable"
   ]
  },
  {
   "cell_type": "code",
   "execution_count": 11,
   "metadata": {
    "ExecuteTime": {
     "end_time": "2021-09-27T05:06:17.839498Z",
     "start_time": "2021-09-27T05:06:17.821450Z"
    },
    "hidden": true
   },
   "outputs": [],
   "source": [
    "# save_plot_as_png(img, dimgdt, x_values, y_values, c_values, n_tips, V_threshold, t, save_folder, frameno, \n",
    "#                                    save = True, inch = 6)"
   ]
  },
  {
   "cell_type": "code",
   "execution_count": 12,
   "metadata": {
    "ExecuteTime": {
     "end_time": "2021-09-27T05:06:17.857319Z",
     "start_time": "2021-09-27T05:06:17.840716Z"
    },
    "hidden": true
   },
   "outputs": [],
   "source": [
    "# #TODO: time step forward 25ms\n",
    "# #TODO: print dV/dt to file\n",
    "\n",
    "# contour_lst = split_contour_into_contiguous(contours1[0])\n",
    "# ct = contour_lst[0]\n",
    "# print(len(contour_lst))"
   ]
  },
  {
   "cell_type": "code",
   "execution_count": 13,
   "metadata": {
    "ExecuteTime": {
     "end_time": "2021-09-27T05:06:17.874700Z",
     "start_time": "2021-09-27T05:06:17.858667Z"
    },
    "hidden": true
   },
   "outputs": [],
   "source": [
    "# min_num_vertices = 3\n",
    "# pop_until_long_enough(lst_lst=contour_lst,min_length=min_num_vertices)\n",
    "# print(len(contour_lst))"
   ]
  },
  {
   "cell_type": "markdown",
   "metadata": {
    "ExecuteTime": {
     "end_time": "2020-11-16T19:28:22.292836Z",
     "start_time": "2020-11-16T19:28:22.265896Z"
    },
    "hidden": true
   },
   "source": [
    "### TODO(later): add background music from the public domain"
   ]
  },
  {
   "cell_type": "markdown",
   "metadata": {
    "hidden": true
   },
   "source": [
    "- TODO: integrate some integral measure of string curvature between the \"high\"-halves of the contour2 family of $dV/dt=0$. __I observe that tips move in the direction their nonlocal string dictates."
   ]
  },
  {
   "cell_type": "code",
   "execution_count": 14,
   "metadata": {
    "ExecuteTime": {
     "end_time": "2021-09-27T05:06:17.892517Z",
     "start_time": "2021-09-27T05:06:17.875807Z"
    },
    "hidden": true
   },
   "outputs": [],
   "source": [
    "#TODO: download an audio track to put into the background of the movie before the prepending intro.MTS\n",
    "# !youtube-dl https://youtu.be/O2KUTa6P6lM -pxl_fmt 720hd -o tmp.mka\n",
    "# !youtube-dl https://www.youtube.com/watch?v=O2KUTa6P6lM&ab_channel=ThePochaccos"
   ]
  },
  {
   "cell_type": "markdown",
   "metadata": {},
   "source": [
    "# DONE: make a miminalize movie of the LR model"
   ]
  },
  {
   "cell_type": "code",
   "execution_count": 28,
   "metadata": {
    "ExecuteTime": {
     "end_time": "2021-09-28T00:05:38.008547Z",
     "start_time": "2021-09-28T00:05:37.989483Z"
    }
   },
   "outputs": [],
   "source": [
    "def save_system_as_png(img,dimgdt,x_values,y_values,c_values,V_threshold,\n",
    "            frameno,t,\n",
    "            save_folder,\n",
    "            save_fn):\n",
    "    #visually verify system\n",
    "    # compute_all_spiral_tips= get_compute_all_spiral_tips(mode='simp',width=width,height=height)\n",
    "    # dict_out=compute_all_spiral_tips(t,img,dimgdt,level1=V_threshold,level2=0.)#,width=width,height=height)\n",
    "    # print(f\"{ntips} tips are present at time t={int(t_prev)}.\")\n",
    "    fig = ShowDomain(img,dimgdt,x_values,y_values,c_values,V_threshold,t,inch=6,\n",
    "                     fontsize=16,vmin_img=-85.,vmax_img=35.,area=25,\n",
    "                     frameno=frameno,\n",
    "                     save_fn=save_fn,\n",
    "                     save_folder=save_folder,\n",
    "                     save=True,\n",
    "                     annotating=True,\n",
    "                     axis=[0,img.shape[0],0,img.shape[1]],cmap='bone')\n",
    "    return save_fn"
   ]
  },
  {
   "cell_type": "code",
   "execution_count": 22,
   "metadata": {
    "ExecuteTime": {
     "end_time": "2021-09-27T23:16:15.068215Z",
     "start_time": "2021-09-27T23:16:15.043480Z"
    }
   },
   "outputs": [],
   "source": [
    "# # find_intersections\n",
    "# retval = find_intersections(img,dimgdt,level1,level2,theta_threshold=theta_threshold)\n",
    "# lst_values_x,lst_values_y,lst_values_theta, lst_values_grad_ux, lst_values_grad_uy, lst_values_grad_vx, lst_values_grad_vy = retval\n",
    "# x_values = np.array(lst_values_x)\n",
    "# y_values = np.array(lst_values_y)"
   ]
  },
  {
   "cell_type": "code",
   "execution_count": 50,
   "metadata": {
    "ExecuteTime": {
     "end_time": "2021-09-27T23:19:39.247162Z",
     "start_time": "2021-09-27T23:19:39.217123Z"
    }
   },
   "outputs": [],
   "source": [
    "# jump_threshold=width/2\n",
    "# size_threshold=0\n",
    "# level1=V_threshold\n",
    "# level2=V_threshold\n",
    "# #compute spiral tip location and topological number\n",
    "# contours_a = find_contours(img,        level = level1)\n",
    "# contours_b = find_contours(img_prev,     level = level2)\n",
    "# s1_lst, s2_lst, x_lst, y_lst = contours_to_simple_tips_pbc(contours_a,contours_b,width,height,jump_threshold,size_threshold)\n",
    "# dict_topo={'x':x_lst,'y':y_lst,'s1':s1_lst,'s2':s2_lst, 't':t}\n",
    "# print(dict_topo)"
   ]
  },
  {
   "cell_type": "code",
   "execution_count": 27,
   "metadata": {
    "ExecuteTime": {
     "end_time": "2021-09-28T00:04:01.247906Z",
     "start_time": "2021-09-28T00:04:01.186822Z"
    }
   },
   "outputs": [
    {
     "name": "stdout",
     "output_type": "stream",
     "text": [
      "dumped cache at /home/timothytyree/Documents/GitHub/care/notebooks/Figures/mov\n",
      "created save folder at /home/timothytyree/Documents/GitHub/care/notebooks/Figures/mov\n"
     ]
    }
   ],
   "source": [
    "#initialize file system for movie storing\n",
    "# min_time_between_samples = 2 #milliseconds\n",
    "# frameno = 1\n",
    "# dt=0.01\n",
    "# save_every_n_frames = int(min_time_between_samples/dt)\n",
    "dump_cache=True\n",
    "\n",
    "os.chdir(nb_dir)\n",
    "save_folder = os.path.join(nb_dir,f'Figures/mov')#c_{\"test\"}_V_{V_threshold}')\n",
    "# save_folder_name = f'frame_every_{min_time_between_samples}_ms'\n",
    "# save_folder = os.path.join(base_folder,save_folder_name)\n",
    "\n",
    "\n",
    "#dump save_folder if it already exists\n",
    "if os.path.exists(save_folder):\n",
    "    shutil.rmtree(save_folder)\n",
    "    print(f\"dumped cache at {save_folder}\")\n",
    "\n",
    "#create a save_folder if it doesn't already exist\n",
    "# if not os.path.exists(base_folder):\n",
    "#     os.mkdir(base_folder)\n",
    "#     print(f\"created save folder at {base_folder}\")\n",
    "# os.chdir(base_folder)\n",
    "if not os.path.exists(save_folder):\n",
    "    os.mkdir(save_folder)\n",
    "    print(f\"created save folder at {save_folder}\")\n",
    "os.chdir(save_folder)"
   ]
  },
  {
   "cell_type": "code",
   "execution_count": 5,
   "metadata": {
    "ExecuteTime": {
     "end_time": "2021-09-27T23:27:15.231733Z",
     "start_time": "2021-09-27T23:27:15.208595Z"
    }
   },
   "outputs": [],
   "source": [
    "# ic_fn=search_for_file()\n",
    "# ic_fn='/home/timothytyree/Documents/GitHub/care/notebooks/Data/test_data/ic008.33_t_750.0.npz'\n",
    "# t=750"
   ]
  },
  {
   "cell_type": "code",
   "execution_count": 20,
   "metadata": {
    "ExecuteTime": {
     "end_time": "2021-09-27T23:59:12.120833Z",
     "start_time": "2021-09-27T23:59:11.489957Z"
    }
   },
   "outputs": [],
   "source": [
    "ic_fn=f\"{nb_dir}/Data/initial-conditions-suite-3-LR/ic-out/ic008.33.npz\"\n",
    "t=0\n",
    "txt=load_buffer(ic_fn)\n",
    "\n",
    "\n",
    "save_folder=f'{nb_dir}/Figures/mov'\n",
    "ds=5.\n",
    "frameno=1\n",
    "# txt=load_buffer(txt_fn)\n",
    "inVc,outVc,inmhjdfx,outmhjdfx,dVcdt=unstack_txt(txt)\n",
    "width,height=txt.shape[:2]\n",
    "V_threshold=-40;dt=0.01\n",
    "\n",
    "# comp_dict_topo_full_color=get_comp_dict_topo_full_color(width=width,height=height,level1=V_threshold,level2=V_threshold)\n",
    "# get_one_step at this dt\n",
    "__, arr39, one_step = get_one_step_explicit_synchronous_splitting(\n",
    "    nb_dir,dt=dt,width=width,height=height,ds=ds,diffCoef=0.0005,Cm=1.0)\n",
    "# comp_dict_topo_simple=get_comp_dict_topo_simple(width=width,height=height,level1=V_threshold,level2=0)\n",
    "DT=8.\n",
    "nsteps_per_DT=int(DT/dt)"
   ]
  },
  {
   "cell_type": "code",
   "execution_count": 21,
   "metadata": {
    "ExecuteTime": {
     "end_time": "2021-09-27T23:59:46.984445Z",
     "start_time": "2021-09-27T23:59:12.288942Z"
    },
    "run_control": {
     "marked": false
    },
    "scrolled": true
   },
   "outputs": [],
   "source": [
    "#comp img_prev example\n",
    "inVc,outVc,inmhjdfx,outmhjdfx,dVcdt=unstack_txt(txt)\n",
    "img_prev=inVc[...,0].copy()\n",
    "for n in range(nsteps_per_DT):\n",
    "    one_step(inVc,outVc,inmhjdfx,outmhjdfx,dVcdt)\n",
    "    t+=dt\n",
    "txt=stack_txt(inVc,outVc,inmhjdfx,outmhjdfx,dVcdt).copy()\n",
    "img=inVc[...,0].copy();#dimgdt=dVcdt[...,0]"
   ]
  },
  {
   "cell_type": "code",
   "execution_count": 22,
   "metadata": {
    "ExecuteTime": {
     "end_time": "2021-09-27T23:59:47.225071Z",
     "start_time": "2021-09-27T23:59:47.157010Z"
    }
   },
   "outputs": [],
   "source": [
    "jump_threshold=width/2\n",
    "size_threshold=0\n",
    "level1=V_threshold\n",
    "level2=V_threshold\n",
    "#compute spiral tip location and topological number\n",
    "contours_a = find_contours(img,        level = level1)\n",
    "contours_b = find_contours(img_prev,     level = level2)\n",
    "s1_lst, s2_lst, x_lst, y_lst = contours_to_simple_tips_pbc(contours_a,contours_b,width,height,jump_threshold,size_threshold)"
   ]
  },
  {
   "cell_type": "code",
   "execution_count": 29,
   "metadata": {
    "ExecuteTime": {
     "end_time": "2021-09-28T00:07:04.690556Z",
     "start_time": "2021-09-28T00:07:04.559294Z"
    }
   },
   "outputs": [
    {
     "data": {
      "image/png": "[encoded data removed]",
      "text/plain": [
       "<Figure size 432x432 with 1 Axes>"
      ]
     },
     "metadata": {},
     "output_type": "display_data"
    }
   ],
   "source": [
    "x_values=np.array(x_lst)\n",
    "y_values=np.array(y_lst)\n",
    "c_values=0*x_values\n",
    "\n",
    "retval=ShowDomain(img,img_prev,x_values,y_values,c_values,V_threshold,t,inch=6,\n",
    "                     fontsize=16,vmin_img=-85.,vmax_img=35.,area=25,\n",
    "                     frameno=frameno,\n",
    "                     save_fn=None,\n",
    "                     save_folder=None,\n",
    "                     save=False,\n",
    "                     annotating=False,\n",
    "                     axis=[0,img.shape[0],0,img.shape[1]], cmap='bone');"
   ]
  },
  {
   "cell_type": "code",
   "execution_count": null,
   "metadata": {
    "ExecuteTime": {
     "start_time": "2021-09-28T00:07:11.566Z"
    }
   },
   "outputs": [
    {
     "name": "stdout",
     "output_type": "stream",
     "text": [
      "ntips=4, time=56.8 ms.\r"
     ]
    }
   ],
   "source": [
    "save_every_n_frames=20  #sets the overall frame rate\n",
    "ntips=1\n",
    "# while there are tips,\n",
    "img_item_lst=[]\n",
    "tfinal=9e9\n",
    "tnaught=-9e9\n",
    "while (ntips>0) and (t<tfinal):\n",
    "    # =stack_txt(inVc,outVc,inmhjdfx,outmhjdfx,dVcdt).copy()\n",
    "    #compute tips\n",
    "    #     inVc,outVc,inmhjdfx,outmhjdfx,dVcdt=unstack_txt(txt)\n",
    "    img=inVc[...,0].copy()#;dimgdt=dVcdt[...,0]\n",
    "    img_item_lst.append((t,img))\n",
    "    \n",
    "    #recall img_prev, which is voltage at a time DT earlier\n",
    "    t_a,img_prev=img_item_lst[0]\n",
    "    DT_img_item_lst=t-t_a\n",
    "    if DT_img_item_lst>=DT:\n",
    "        img_item_lst.pop(0)\n",
    "\n",
    "        #compute spiral tip location and topological number\n",
    "        contours_a = find_contours(img,        level = level1)\n",
    "        contours_b = find_contours(img_prev,     level = level2)\n",
    "        s1_lst, s2_lst, x_lst, y_lst = contours_to_simple_tips_pbc(contours_a,contours_b,width,height,jump_threshold,size_threshold)\n",
    "        ntips=len(x_lst)\n",
    "        x_values=np.array(x_lst)\n",
    "        y_values=np.array(y_lst)\n",
    "        c_values=0.*x_values\n",
    "        #t_prev=t;#txt_prev=txt.copy();\n",
    "        frameno+=1\n",
    "        \n",
    "        #     save png\n",
    "        if tnaught==-9e9:\n",
    "            tnaught=t\n",
    "        save_system_as_png(img,img_prev,x_values,y_values,c_values,V_threshold,\n",
    "                frameno,t-tnaught,\n",
    "                save_folder=save_folder,\n",
    "                save_fn=None)\n",
    "        print(f\"ntips={ntips}, time={t:.1f} ms.\", end='\\r')\n",
    "\n",
    "    for j in range(save_every_n_frames):\n",
    "        #     integrate forward by one_step\n",
    "        one_step(inVc, outVc, inmhjdfx, outmhjdfx, dVcdt)\n",
    "        t+=dt\n",
    "        \n",
    "    if (ntips==0) and (tfinal==9e9):\n",
    "        tfinal=t+100\n",
    "beep(5)"
   ]
  },
  {
   "cell_type": "code",
   "execution_count": null,
   "metadata": {
    "ExecuteTime": {
     "start_time": "2021-09-28T00:07:13.330Z"
    }
   },
   "outputs": [],
   "source": [
    "#concatenate the folder of png files to a video\n",
    "os.chdir(f\"{nb_dir}/../vid/src\")\n",
    "!./concat_folder_png.sh"
   ]
  },
  {
   "cell_type": "code",
   "execution_count": null,
   "metadata": {
    "ExecuteTime": {
     "start_time": "2021-09-28T00:07:19.300Z"
    }
   },
   "outputs": [],
   "source": [
    "#rename that video reasonably\n",
    "vidname='lr_'+os.path.basename(ic_fn)[:-4]+'.mov'\n",
    "os.chdir(f\"{nb_dir}/../vid/mov\")\n",
    "os.rename('out.mov',vidname)\n",
    "print(f\"renamed video to {vidname}\")"
   ]
  },
  {
   "cell_type": "code",
   "execution_count": null,
   "metadata": {},
   "outputs": [],
   "source": []
  },
  {
   "cell_type": "markdown",
   "metadata": {
    "ExecuteTime": {
     "end_time": "2021-05-05T19:36:27.106309Z",
     "start_time": "2021-05-05T19:36:27.084437Z"
    },
    "heading_collapsed": true
   },
   "source": [
    "# DONT: analyze pdict"
   ]
  },
  {
   "cell_type": "code",
   "execution_count": 25,
   "metadata": {
    "ExecuteTime": {
     "end_time": "2021-09-27T06:38:40.399484Z",
     "start_time": "2021-09-27T06:38:40.361695Z"
    },
    "hidden": true
   },
   "outputs": [
    {
     "data": {
      "text/plain": [
       "[0, 1, 2, 3, 4, 5, 6, 7, 8, 9, 10, 11, 12, 13]"
      ]
     },
     "execution_count": 25,
     "metadata": {},
     "output_type": "execute_result"
    }
   ],
   "source": [
    "pl=pdict.get_alive_particles()\n",
    "pl"
   ]
  },
  {
   "cell_type": "code",
   "execution_count": 26,
   "metadata": {
    "ExecuteTime": {
     "end_time": "2021-09-27T06:38:40.894047Z",
     "start_time": "2021-09-27T06:38:40.401850Z"
    },
    "hidden": true,
    "scrolled": true
   },
   "outputs": [
    {
     "name": "stdout",
     "output_type": "stream",
     "text": [
      "saved figure in \n",
      "\tarclen-versus-ttdeath.png\n"
     ]
    }
   ],
   "source": [
    "# plot sigma_max of the lesser_arclen versus time for all particles, centering about their last recorded time\n",
    "fontsize=18\n",
    "saving=True\n",
    "savefig_folder=f\"{nb_dir}/Figures\"\n",
    "savefig_fn=f\"arclen-versus-ttdeath.png\"\n",
    "figsize=(6,5)\n",
    "fig,ax=plt.subplots(figsize=figsize)\n",
    "\n",
    "pid_lst=list(pdict.keys())\n",
    "pid_lst=pdict.get_alive_particles()\n",
    "\n",
    "# pid_lst=pdict.get_alive_particles()\n",
    "for pid in pid_lst[:1]:\n",
    "    #extract values\n",
    "    sigma_max_values=np.array(pdict[pid]['greater_arclen'])\n",
    "    sigma_max_values_other=np.array(pdict[pid]['lesser_arclen'])\n",
    "    t_values=np.array(pdict[pid]['t'])\n",
    "    t_until_death_values=t_values[-1]-t_values\n",
    "    x_values=t_until_death_values\n",
    "    y_values=sigma_max_values*5/img.shape[0]\n",
    "    y_values_other=sigma_max_values_other*5/img.shape[0]\n",
    "    \n",
    "    #plot values\n",
    "    ax.scatter(x_values,y_values,alpha=0.2)\n",
    "    ax.scatter(x_values,y_values_other,alpha=0.2)\n",
    "#format\n",
    "ax.set_xlim([8e-3,2e1])\n",
    "ax.set_ylim([1e-2,10])\n",
    "ax.set_xlabel('time until death (ms)', fontsize=fontsize)\n",
    "ax.set_ylabel('arclength of\\nactivation front (cm)', fontsize=fontsize)\n",
    "ax.tick_params(axis='both', which='major', labelsize=fontsize)\n",
    "ax.tick_params(axis='both', which='minor', labelsize=0)\n",
    "ax.set_xscale('log')\n",
    "ax.set_yscale('log')\n",
    "if not saving: \n",
    "    plt.show() \n",
    "else:\n",
    "    plt.tight_layout()\n",
    "    os.chdir(savefig_folder)\n",
    "    plt.savefig(savefig_fn, dpi=300)\n",
    "    print(f\"saved figure in \\n\\t{savefig_fn}\")\n",
    "    plt.close()"
   ]
  },
  {
   "cell_type": "code",
   "execution_count": 27,
   "metadata": {
    "ExecuteTime": {
     "end_time": "2021-09-27T06:38:40.910408Z",
     "start_time": "2021-09-27T06:38:40.895343Z"
    },
    "hidden": true
   },
   "outputs": [
    {
     "data": {
      "text/plain": [
       "0"
      ]
     },
     "execution_count": 27,
     "metadata": {},
     "output_type": "execute_result"
    }
   ],
   "source": [
    "len(dict_topo['x'])"
   ]
  },
  {
   "cell_type": "markdown",
   "metadata": {
    "heading_collapsed": true
   },
   "source": [
    "# DONT: make movie highlighting curvature"
   ]
  },
  {
   "cell_type": "code",
   "execution_count": 28,
   "metadata": {
    "ExecuteTime": {
     "end_time": "2021-09-27T06:38:40.937407Z",
     "start_time": "2021-09-27T06:38:40.911424Z"
    },
    "hidden": true
   },
   "outputs": [],
   "source": [
    "# #load a mesh from Luo-Rudy\n",
    "# ic_fn=search_for_file()\n",
    "try:\n",
    "    ic_fn=f\"{nb_dir}/Data/initial-conditions-suite-3-LR/ic-out/ic008.33.npz\"\n",
    "    txt=load_buffer(ic_fn)\n",
    "    t=0\n",
    "except FileNotFoundError as e:\n",
    "    ic_fn=f\"{nb_dir}/Data/initial-conditions-suite-3-LR/ic-in/ic008.33.npz\"\n",
    "    txt=load_buffer(ic_fn)\n",
    "    t=0   \n",
    "    \n",
    "save_folder=f\"{nb_dir}/Figures/mov\"    \n",
    "ds=5.\n",
    "frameno=0\n",
    "DT=2.\n",
    "dt=0.01\n",
    "nsteps_per_DT=int(DT/dt)\n",
    "save_every_n_frames=50"
   ]
  },
  {
   "cell_type": "code",
   "execution_count": 29,
   "metadata": {
    "ExecuteTime": {
     "end_time": "2021-09-27T06:38:41.384568Z",
     "start_time": "2021-09-27T06:38:40.938479Z"
    },
    "hidden": true
   },
   "outputs": [],
   "source": [
    "inVc,outVc,inmhjdfx,outmhjdfx,dVcdt=unstack_txt(txt)\n",
    "width,height=txt.shape[:2]\n",
    "V_threshold=-50;dt=0.01\n",
    "\n",
    "# comp_dict_topo_full_color=get_comp_dict_topo_full_color(width=width,height=height,level1=V_threshold,level2=0.)\n",
    "# get_one_step at this dt\n",
    "__, arr39, one_step = get_one_step_explicit_synchronous_splitting(\n",
    "    nb_dir,dt=dt,width=width,height=height,ds=ds,diffCoef=0.0005,Cm=1.0)\n",
    "# comp_dict_topo_simple=get_comp_dict_topo_simple(width=width,height=height,level1=V_threshold,level2=0)\n",
    "txt=stack_txt(inVc,outVc,inmhjdfx,outmhjdfx,dVcdt)"
   ]
  },
  {
   "cell_type": "code",
   "execution_count": 30,
   "metadata": {
    "ExecuteTime": {
     "end_time": "2021-09-27T06:39:23.964028Z",
     "start_time": "2021-09-27T06:38:41.385599Z"
    },
    "hidden": true
   },
   "outputs": [
    {
     "name": "stdout",
     "output_type": "stream",
     "text": [
      ".\r"
     ]
    },
    {
     "ename": "IndexError",
     "evalue": "tuple index out of range",
     "output_type": "error",
     "traceback": [
      "\u001b[0;31m---------------------------------------------------------------------------\u001b[0m",
      "\u001b[0;31mIndexError\u001b[0m                                Traceback (most recent call last)",
      "\u001b[0;32m<ipython-input-30-6354d565c280>\u001b[0m in \u001b[0;36m<module>\u001b[0;34m\u001b[0m\n\u001b[1;32m      9\u001b[0m \u001b[0;34m\u001b[0m\u001b[0m\n\u001b[1;32m     10\u001b[0m \u001b[0mcomp_tips\u001b[0m\u001b[0;34m=\u001b[0m\u001b[0mget_comp_tips\u001b[0m\u001b[0;34m(\u001b[0m\u001b[0mwidth\u001b[0m\u001b[0;34m,\u001b[0m\u001b[0mheight\u001b[0m\u001b[0;34m,\u001b[0m\u001b[0mV_threshold\u001b[0m\u001b[0;34m)\u001b[0m\u001b[0;34m\u001b[0m\u001b[0;34m\u001b[0m\u001b[0m\n\u001b[0;32m---> 11\u001b[0;31m \u001b[0mdict_tips\u001b[0m\u001b[0;34m=\u001b[0m\u001b[0mcomp_tips\u001b[0m\u001b[0;34m(\u001b[0m\u001b[0mimg\u001b[0m\u001b[0;34m,\u001b[0m\u001b[0mimg_prev\u001b[0m\u001b[0;34m,\u001b[0m\u001b[0mdimgdt\u001b[0m\u001b[0;34m,\u001b[0m\u001b[0mt\u001b[0m\u001b[0;34m,\u001b[0m\u001b[0mtxt\u001b[0m\u001b[0;34m)\u001b[0m\u001b[0;34m\u001b[0m\u001b[0;34m\u001b[0m\u001b[0m\n\u001b[0m\u001b[1;32m     12\u001b[0m \u001b[0mpdict\u001b[0m\u001b[0;34m=\u001b[0m\u001b[0mParticlePBCDict\u001b[0m\u001b[0;34m(\u001b[0m\u001b[0mdict_tips\u001b[0m\u001b[0;34m=\u001b[0m\u001b[0mdict_tips\u001b[0m\u001b[0;34m,\u001b[0m \u001b[0mwidth\u001b[0m\u001b[0;34m=\u001b[0m\u001b[0mwidth\u001b[0m\u001b[0;34m,\u001b[0m \u001b[0mheight\u001b[0m\u001b[0;34m=\u001b[0m\u001b[0mwidth\u001b[0m\u001b[0;34m)\u001b[0m\u001b[0;31m#, **kwargs)\u001b[0m\u001b[0;34m\u001b[0m\u001b[0;34m\u001b[0m\u001b[0m\n\u001b[1;32m     13\u001b[0m \u001b[0;34m\u001b[0m\u001b[0m\n",
      "\u001b[0;32m~/Documents/GitHub/care/notebooks/lib/measure/comp_tips_safely.py\u001b[0m in \u001b[0;36mcomp_tips\u001b[0;34m(img, img_prev, dimgdt, t, txt)\u001b[0m\n\u001b[1;32m    167\u001b[0m         \u001b[0min_to_out\u001b[0m\u001b[0;34m=\u001b[0m\u001b[0msort_particles_indices\u001b[0m\u001b[0;34m(\u001b[0m\u001b[0mdict_out\u001b[0m\u001b[0;34m=\u001b[0m\u001b[0mdict_topo\u001b[0m\u001b[0;34m,\u001b[0m \u001b[0mdict_in\u001b[0m\u001b[0;34m=\u001b[0m\u001b[0mdict_simp\u001b[0m\u001b[0;34m,\u001b[0m \u001b[0msearch_range\u001b[0m\u001b[0;34m=\u001b[0m\u001b[0msearch_range\u001b[0m\u001b[0;34m)\u001b[0m\u001b[0;34m\u001b[0m\u001b[0;34m\u001b[0m\u001b[0m\n\u001b[1;32m    168\u001b[0m         \u001b[0;31m#return the dict of all ^those tips\u001b[0m\u001b[0;34m\u001b[0m\u001b[0;34m\u001b[0m\u001b[0;34m\u001b[0m\u001b[0m\n\u001b[0;32m--> 169\u001b[0;31m         \u001b[0mdict_tips\u001b[0m\u001b[0;34m=\u001b[0m\u001b[0mzip_tips\u001b[0m\u001b[0;34m(\u001b[0m\u001b[0mdict_simp\u001b[0m\u001b[0;34m,\u001b[0m\u001b[0mdict_topo\u001b[0m\u001b[0;34m,\u001b[0m\u001b[0min_to_out\u001b[0m\u001b[0;34m)\u001b[0m\u001b[0;34m\u001b[0m\u001b[0;34m\u001b[0m\u001b[0m\n\u001b[0m\u001b[1;32m    170\u001b[0m         \u001b[0;31m#TODO: better handle when lesser_pid and/or greater_pid is not included in the list\u001b[0m\u001b[0;34m\u001b[0m\u001b[0;34m\u001b[0m\u001b[0;34m\u001b[0m\u001b[0m\n\u001b[1;32m    171\u001b[0m         \u001b[0;31m#TODO: test reindex dict_tips works\u001b[0m\u001b[0;34m\u001b[0m\u001b[0;34m\u001b[0m\u001b[0;34m\u001b[0m\u001b[0m\n",
      "\u001b[0;32m~/Documents/GitHub/care/notebooks/lib/measure/comp_tips_safely.py\u001b[0m in \u001b[0;36mzip_tips\u001b[0;34m(dict_simp, dict_topo, dict_in_to_out)\u001b[0m\n\u001b[1;32m    114\u001b[0m             \u001b[0;31m# if the field already exists, append the next particle's value to the list\u001b[0m\u001b[0;34m\u001b[0m\u001b[0;34m\u001b[0m\u001b[0;34m\u001b[0m\u001b[0m\n\u001b[1;32m    115\u001b[0m             \u001b[0;32melif\u001b[0m \u001b[0mset\u001b[0m\u001b[0;34m(\u001b[0m\u001b[0mdict_tips\u001b[0m\u001b[0;34m.\u001b[0m\u001b[0mkeys\u001b[0m\u001b[0;34m(\u001b[0m\u001b[0;34m)\u001b[0m\u001b[0;34m)\u001b[0m\u001b[0;34m.\u001b[0m\u001b[0missuperset\u001b[0m\u001b[0;34m(\u001b[0m\u001b[0;34m{\u001b[0m\u001b[0mkey\u001b[0m\u001b[0;34m}\u001b[0m\u001b[0;34m)\u001b[0m\u001b[0;34m:\u001b[0m\u001b[0;34m\u001b[0m\u001b[0;34m\u001b[0m\u001b[0m\n\u001b[0;32m--> 116\u001b[0;31m                 \u001b[0mdict_tips\u001b[0m\u001b[0;34m[\u001b[0m\u001b[0mkey\u001b[0m\u001b[0;34m]\u001b[0m\u001b[0;34m.\u001b[0m\u001b[0mappend\u001b[0m\u001b[0;34m(\u001b[0m\u001b[0mvalue\u001b[0m\u001b[0;34m[\u001b[0m\u001b[0mpid\u001b[0m\u001b[0;34m]\u001b[0m\u001b[0;34m)\u001b[0m\u001b[0;34m\u001b[0m\u001b[0;34m\u001b[0m\u001b[0m\n\u001b[0m\u001b[1;32m    117\u001b[0m             \u001b[0;32melse\u001b[0m\u001b[0;34m:\u001b[0m\u001b[0;31m#else, the field does not exist and initialize it with a list containing the next particle's value\u001b[0m\u001b[0;34m\u001b[0m\u001b[0;34m\u001b[0m\u001b[0m\n\u001b[1;32m    118\u001b[0m                 \u001b[0mdict_tips\u001b[0m\u001b[0;34m[\u001b[0m\u001b[0mkey\u001b[0m\u001b[0;34m]\u001b[0m\u001b[0;34m=\u001b[0m\u001b[0;34m[\u001b[0m\u001b[0mvalue\u001b[0m\u001b[0;34m[\u001b[0m\u001b[0mpid\u001b[0m\u001b[0;34m]\u001b[0m\u001b[0;34m]\u001b[0m\u001b[0;34m\u001b[0m\u001b[0;34m\u001b[0m\u001b[0m\n",
      "\u001b[0;31mIndexError\u001b[0m: tuple index out of range"
     ]
    }
   ],
   "source": [
    "img_prev=txt[...,0].copy()\n",
    "inVc,outVc,inmhjdfx,outmhjdfx,dVcdt=unstack_txt(txt)\n",
    "for n in range(nsteps_per_DT):\n",
    "    one_step(inVc,outVc,inmhjdfx,outmhjdfx,dVcdt)\n",
    "    t+=dt\n",
    "txt=stack_txt(inVc,outVc,inmhjdfx,outmhjdfx,dVcdt)\n",
    "img=inVc[...,0]\n",
    "dimgdt=dVcdt[...,0]\n",
    "\n",
    "comp_tips=get_comp_tips(width,height,V_threshold)\n",
    "dict_tips=comp_tips(img,img_prev,dimgdt,t,txt)\n",
    "pdict=ParticlePBCDict(dict_tips=dict_tips, width=width, height=width)#, **kwargs)\n",
    "\n",
    "if not os.path.exists(save_folder):\n",
    "    os.mkdir(save_folder)"
   ]
  },
  {
   "cell_type": "code",
   "execution_count": null,
   "metadata": {
    "ExecuteTime": {
     "end_time": "2021-09-27T06:39:23.969723Z",
     "start_time": "2021-09-27T05:06:15.368Z"
    },
    "hidden": true
   },
   "outputs": [],
   "source": [
    "# while there are still tips,\n",
    "img_item_lst=[]\n",
    "ntips=len(dict_tips['x'])\n",
    "while ntips>0:\n",
    "    txt=stack_txt(inVc,outVc,inmhjdfx,outmhjdfx,dVcdt).copy()\n",
    "    #compute images\n",
    "    img=inVc[...,0].copy()#;dimgdt=dVcdt[...,0]\n",
    "    img_item_lst.append((t,img))\n",
    "    #recall img_prev, which is voltage at a time DT earlier\n",
    "    t_a,img_prev=img_item_lst[0]\n",
    "    DT_img_item_lst=t-t_a\n",
    "    if DT_img_item_lst>=DT:\n",
    "        #record tips\n",
    "        img_item_lst.pop(0)\n",
    "        dict_tips=comp_tips(img,img_prev,dimgdt, t, txt)\n",
    "        ntips=len(dict_tips['x'])\n",
    "        if ntips>0:\n",
    "            pdict.merge(dict_tips)\n",
    "            # t_prev=t;txt_prev=txt.copy();\n",
    "        frameno=SaveTipsAndColoredContours(img,frameno,dict_tips,save_folder=save_folder)#,save_fn=None,vmin_img=-85.,vmax_img=35.,inch=5)\n",
    "        print(f\"saved ntips={ntips}, time={t:.2f} ms.\", end='\\r')\n",
    "\n",
    "    for j in range(save_every_n_frames):\n",
    "        #     integrate forward by one_step\n",
    "        one_step(inVc, outVc, inmhjdfx, outmhjdfx, dVcdt)\n",
    "        t+=dt\n",
    "#save a few more frames\n",
    "nframes_extra=50\n",
    "for n in range(nframes_extra):\n",
    "    txt=stack_txt(inVc,outVc,inmhjdfx,outmhjdfx,dVcdt).copy()\n",
    "    #compute images\n",
    "    img=inVc[...,0].copy()#;dimgdt=dVcdt[...,0]\n",
    "    img_item_lst.append((t,img))\n",
    "    #recall img_prev, which is voltage at a time DT earlier\n",
    "    t_a,img_prev=img_item_lst[0]\n",
    "    DT_img_item_lst=t-t_a\n",
    "    if DT_img_item_lst>=DT:\n",
    "        #record tips\n",
    "        img_item_lst.pop(0)\n",
    "        dict_tips=comp_tips(img,img_prev,dimgdt, t, txt)\n",
    "        ntips=len(dict_tips['x'])\n",
    "        frameno=SaveTipsAndColoredContours(img,frameno,dict_tips,save_folder=save_folder)#,save_fn=None,vmin_img=-85.,vmax_img=35.,inch=5)\n",
    "    for j in range(save_every_n_frames):\n",
    "        #     integrate forward by one_step\n",
    "        one_step(inVc, outVc, inmhjdfx, outmhjdfx, dVcdt)\n",
    "        t+=dt\n",
    "beep(5)"
   ]
  },
  {
   "cell_type": "code",
   "execution_count": null,
   "metadata": {
    "hidden": true
   },
   "outputs": [],
   "source": []
  }
 ],
 "metadata": {
  "kernelspec": {
   "display_name": "Python 3",
   "language": "python",
   "name": "python3"
  },
  "language_info": {
   "codemirror_mode": {
    "name": "ipython",
    "version": 3
   },
   "file_extension": ".py",
   "mimetype": "text/x-python",
   "name": "python",
   "nbconvert_exporter": "python",
   "pygments_lexer": "ipython3",
   "version": "3.7.6"
  },
  "toc": {
   "base_numbering": 1,
   "nav_menu": {},
   "number_sections": true,
   "sideBar": true,
   "skip_h1_title": false,
   "title_cell": "Table of Contents",
   "title_sidebar": "Contents",
   "toc_cell": false,
   "toc_position": {},
   "toc_section_display": true,
   "toc_window_display": false
  },
  "varInspector": {
   "cols": {
    "lenName": 16,
    "lenType": 16,
    "lenVar": 40
   },
   "kernels_config": {
    "python": {
     "delete_cmd_postfix": "",
     "delete_cmd_prefix": "del ",
     "library": "var_list.py",
     "varRefreshCmd": "print(var_dic_list())"
    },
    "r": {
     "delete_cmd_postfix": ") ",
     "delete_cmd_prefix": "rm(",
     "library": "var_list.r",
     "varRefreshCmd": "cat(var_dic_list()) "
    }
   },
   "types_to_exclude": [
    "module",
    "function",
    "builtin_function_or_method",
    "instance",
    "_Feature"
   ],
   "window_display": false
  }
 },
 "nbformat": 4,
 "nbformat_minor": 4
}
