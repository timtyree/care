{
 "cells": [
  {
   "cell_type": "code",
   "execution_count": 1,
   "metadata": {
    "ExecuteTime": {
     "end_time": "2020-11-05T22:15:17.087861Z",
     "start_time": "2020-11-05T22:15:14.923794Z"
    }
   },
   "outputs": [
    {
     "name": "stdout",
     "output_type": "stream",
     "text": [
      "100000\n",
      "Automatic calling is: Smart\n"
     ]
    }
   ],
   "source": [
    "#pylab\n",
    "%matplotlib inline\n",
    "import numpy as np, pandas as pd, matplotlib.pyplot as plt\n",
    "\n",
    "import skimage as sk\n",
    "from skimage import measure, filters\n",
    "\n",
    "from numba import njit, jit, vectorize\n",
    "from PIL import Image\n",
    "import imageio\n",
    "# import cv2 as cv\n",
    "\n",
    "#automate the boring stuff\n",
    "from IPython import utils\n",
    "import time, os, sys, re\n",
    "beep = lambda x: os.system(\"echo -n '\\\\a';sleep 0.2;\" * x)\n",
    "if not 'nb_dir' in globals():\n",
    "    nb_dir = os.getcwd()\n",
    "# width = 512\n",
    "# height = 512\n",
    "# channel_no = 3\n",
    "\n",
    "# #load the libraries\n",
    "from lib import *\n",
    "from lib.routines.compute_bdrates import *\n",
    "# from lib.measure._find_tips_pbc_cy import lookup_segments\n",
    "# from lib.measure._find_tips_kernel import *\n",
    "# from lib.measure._find_tips_kernel_cy import find_intersections\n",
    "#use cuda via numba\n",
    "from numba import jit, njit, vectorize, cuda, uint32, f8, uint8\n",
    "from numba.typed import List\n",
    "# from lib.contours_to_tips import *\n",
    "\n",
    "%autocall 1\n",
    "%load_ext autoreload\n",
    "%autoreload 2"
   ]
  },
  {
   "cell_type": "markdown",
   "metadata": {},
   "source": [
    "# TODO: plot two nearby frames of tips and functionally link them"
   ]
  },
  {
   "cell_type": "markdown",
   "metadata": {},
   "source": [
    "# find a nice theta_threshold"
   ]
  },
  {
   "cell_type": "code",
   "execution_count": 619,
   "metadata": {
    "ExecuteTime": {
     "end_time": "2020-11-06T04:55:30.588908Z",
     "start_time": "2020-11-06T04:55:30.234574Z"
    }
   },
   "outputs": [],
   "source": [
    "data_dir_log = os.path.join(nb_dir,'Figures/methods/tip_log_ic_200x200.120.32_V_0.4__t_1e+03.csv')\n",
    "df = pd.read_csv(data_dir_log)\n",
    "df['grad_u_mag'] = df['grad_ux']**2 + df['grad_uy']**2\n",
    "df['grad_v_mag'] = df['grad_vx']**2 + df['grad_vy']**2\n",
    "df['theta_comp'] = np.abs(np.pi/2-df['theta'])\n",
    "\n"
   ]
  },
  {
   "cell_type": "code",
   "execution_count": 620,
   "metadata": {
    "ExecuteTime": {
     "end_time": "2020-11-06T04:55:31.538145Z",
     "start_time": "2020-11-06T04:55:31.299060Z"
    }
   },
   "outputs": [
    {
     "data": {
      "image/png": "[encoded data removed]",
      "text/plain": [
       "<Figure size 432x288 with 1 Axes>"
      ]
     },
     "metadata": {
      "needs_background": "light"
     },
     "output_type": "display_data"
    }
   ],
   "source": [
    "col = 'theta'\n",
    "values = df[col].values\n",
    "plt.hist(values,bins = 20, color='orange')\n",
    "plt.title(col)\n",
    "plt.show()"
   ]
  },
  {
   "cell_type": "code",
   "execution_count": 621,
   "metadata": {
    "ExecuteTime": {
     "end_time": "2020-11-06T04:55:34.456528Z",
     "start_time": "2020-11-06T04:55:34.196035Z"
    }
   },
   "outputs": [
    {
     "name": "stdout",
     "output_type": "stream",
     "text": [
      "Index(['t', 'n', 'x', 'y', 'theta', 'grad_ux', 'grad_uy', 'grad_vx', 'grad_vy',\n",
      "       'v', 'f', 's', 'dvdt', 'dfdt', 'dsdt', 'grad_u_mag', 'grad_v_mag',\n",
      "       'theta_comp'],\n",
      "      dtype='object')\n"
     ]
    },
    {
     "data": {
      "text/html": [
       "<div>\n",
       "<style scoped>\n",
       "    .dataframe tbody tr th:only-of-type {\n",
       "        vertical-align: middle;\n",
       "    }\n",
       "\n",
       "    .dataframe tbody tr th {\n",
       "        vertical-align: top;\n",
       "    }\n",
       "\n",
       "    .dataframe thead th {\n",
       "        text-align: right;\n",
       "    }\n",
       "</style>\n",
       "<table border=\"1\" class=\"dataframe\">\n",
       "  <thead>\n",
       "    <tr style=\"text-align: right;\">\n",
       "      <th></th>\n",
       "      <th>t</th>\n",
       "      <th>n</th>\n",
       "      <th>x</th>\n",
       "      <th>y</th>\n",
       "      <th>theta</th>\n",
       "      <th>grad_ux</th>\n",
       "      <th>grad_uy</th>\n",
       "      <th>grad_vx</th>\n",
       "      <th>grad_vy</th>\n",
       "      <th>v</th>\n",
       "      <th>f</th>\n",
       "      <th>s</th>\n",
       "      <th>dvdt</th>\n",
       "      <th>dfdt</th>\n",
       "      <th>dsdt</th>\n",
       "      <th>grad_u_mag</th>\n",
       "      <th>grad_v_mag</th>\n",
       "      <th>theta_comp</th>\n",
       "    </tr>\n",
       "  </thead>\n",
       "  <tbody>\n",
       "    <tr>\n",
       "      <th>min</th>\n",
       "      <td>500.0</td>\n",
       "      <td>6.0</td>\n",
       "      <td>0.000001</td>\n",
       "      <td>0.000594</td>\n",
       "      <td>0.009657</td>\n",
       "      <td>-47421.204764</td>\n",
       "      <td>-98663.593328</td>\n",
       "      <td>-872126.015134</td>\n",
       "      <td>-120463.408507</td>\n",
       "      <td>0.236417</td>\n",
       "      <td>0.000003</td>\n",
       "      <td>0.670323</td>\n",
       "      <td>-0.007617</td>\n",
       "      <td>-0.015415</td>\n",
       "      <td>-0.001097</td>\n",
       "      <td>1.002346e+00</td>\n",
       "      <td>1.034120e+00</td>\n",
       "      <td>0.000003</td>\n",
       "    </tr>\n",
       "    <tr>\n",
       "      <th>max</th>\n",
       "      <td>1000.0</td>\n",
       "      <td>16.0</td>\n",
       "      <td>199.998907</td>\n",
       "      <td>199.997691</td>\n",
       "      <td>3.133060</td>\n",
       "      <td>71555.306143</td>\n",
       "      <td>60095.555167</td>\n",
       "      <td>41462.790237</td>\n",
       "      <td>565070.209264</td>\n",
       "      <td>0.598606</td>\n",
       "      <td>0.200864</td>\n",
       "      <td>0.877856</td>\n",
       "      <td>0.012283</td>\n",
       "      <td>-0.000000</td>\n",
       "      <td>-0.000838</td>\n",
       "      <td>1.142413e+10</td>\n",
       "      <td>1.079908e+12</td>\n",
       "      <td>1.562264</td>\n",
       "    </tr>\n",
       "  </tbody>\n",
       "</table>\n",
       "</div>"
      ],
      "text/plain": [
       "          t     n           x           y     theta       grad_ux  \\\n",
       "min   500.0   6.0    0.000001    0.000594  0.009657 -47421.204764   \n",
       "max  1000.0  16.0  199.998907  199.997691  3.133060  71555.306143   \n",
       "\n",
       "          grad_uy        grad_vx        grad_vy         v         f         s  \\\n",
       "min -98663.593328 -872126.015134 -120463.408507  0.236417  0.000003  0.670323   \n",
       "max  60095.555167   41462.790237  565070.209264  0.598606  0.200864  0.877856   \n",
       "\n",
       "         dvdt      dfdt      dsdt    grad_u_mag    grad_v_mag  theta_comp  \n",
       "min -0.007617 -0.015415 -0.001097  1.002346e+00  1.034120e+00    0.000003  \n",
       "max  0.012283 -0.000000 -0.000838  1.142413e+10  1.079908e+12    1.562264  "
      ]
     },
     "execution_count": 621,
     "metadata": {},
     "output_type": "execute_result"
    }
   ],
   "source": [
    "print(df.columns)\n",
    "#summary statistics for each column\n",
    "df.describe().T[[\n",
    "    'min',\n",
    "    'max'\n",
    "]].T"
   ]
  },
  {
   "cell_type": "code",
   "execution_count": 622,
   "metadata": {
    "ExecuteTime": {
     "end_time": "2020-11-06T04:55:37.114077Z",
     "start_time": "2020-11-06T04:55:37.091590Z"
    }
   },
   "outputs": [],
   "source": [
    "dg = df#.query('t < 1000')"
   ]
  },
  {
   "cell_type": "code",
   "execution_count": 623,
   "metadata": {
    "ExecuteTime": {
     "end_time": "2020-11-06T04:55:40.810632Z",
     "start_time": "2020-11-06T04:55:40.057960Z"
    }
   },
   "outputs": [
    {
     "name": "stdout",
     "output_type": "stream",
     "text": [
      "theta_comp is the nonnegative angle complementary to theta\n"
     ]
    },
    {
     "data": {
      "image/png": "[encoded data removed]",
      "text/plain": [
       "<Figure size 504x504 with 1 Axes>"
      ]
     },
     "metadata": {
      "needs_background": "light"
     },
     "output_type": "display_data"
    }
   ],
   "source": [
    "plt.figure(figsize=(7,7))\n",
    "col_lst = ['theta', 'theta_comp']\n",
    "print(\"theta_comp is the nonnegative angle complementary to theta\")\n",
    "for col in col_lst:\n",
    "    values = dg[col].values\n",
    "    plt.hist(values,bins = 40, label = col, alpha=0.5, log=True, density=True)\n",
    "plt.legend()\n",
    "plt.xlabel('value')\n",
    "plt.ylabel('likelihood')\n",
    "plt.title('raw spiral tips before filtering')\n",
    "# plt.xticks([0,0.5,1,1.5,2,2.5,3,1.1,1.2,1.3,1.4,1.2])\n",
    "# plt.xlim([1.2,1.4])\n",
    "plt.show()"
   ]
  },
  {
   "cell_type": "code",
   "execution_count": 624,
   "metadata": {
    "ExecuteTime": {
     "end_time": "2020-11-06T04:55:43.019236Z",
     "start_time": "2020-11-06T04:55:42.996560Z"
    }
   },
   "outputs": [
    {
     "name": "stdout",
     "output_type": "stream",
     "text": [
      "please consider theta_comp_threshold = 1.047...\n",
      "TODO: try tracking with some memory mem>=2.\n"
     ]
    }
   ],
   "source": [
    "1/np.sqrt(2)\n",
    "theta_comp_threshold = 1*np.pi/3\n",
    "print(f\"please consider theta_comp_threshold = {theta_comp_threshold:.3f}...\")\n",
    "print(f\"TODO: try tracking with some memory mem>=2.\")"
   ]
  },
  {
   "cell_type": "markdown",
   "metadata": {
    "ExecuteTime": {
     "end_time": "2020-11-05T21:20:51.208729Z",
     "start_time": "2020-11-05T21:20:51.183107Z"
    }
   },
   "source": [
    "# visualize histograms of EP features (not clearly helpful to filtering)"
   ]
  },
  {
   "cell_type": "code",
   "execution_count": 78,
   "metadata": {
    "ExecuteTime": {
     "end_time": "2020-11-05T22:33:54.698149Z",
     "start_time": "2020-11-05T22:33:53.908449Z"
    }
   },
   "outputs": [
    {
     "data": {
      "image/png": "[encoded data removed]",
      "text/plain": [
       "<Figure size 504x504 with 1 Axes>"
      ]
     },
     "metadata": {
      "needs_background": "light"
     },
     "output_type": "display_data"
    }
   ],
   "source": [
    "plt.figure(figsize=(7,7))\n",
    "col_lst = ['grad_u_mag', 'grad_u_mag']\n",
    "for col in col_lst:\n",
    "    values = dg[col].values\n",
    "    plt.hist(values,bins = 40, label = col, alpha=0.5, log=True, density=True)\n",
    "plt.legend()\n",
    "plt.xlabel('value')\n",
    "plt.ylabel('likelihood')\n",
    "plt.title('raw spiral tips before filtering')\n",
    "# plt.xticks([0,0.5,1,1.5,2,2.5,3,1.1,1.2,1.3,1.4,1.2])\n",
    "# plt.xlim([1.2,1.4])\n",
    "plt.show()"
   ]
  },
  {
   "cell_type": "code",
   "execution_count": 79,
   "metadata": {
    "ExecuteTime": {
     "end_time": "2020-11-05T22:33:56.477790Z",
     "start_time": "2020-11-05T22:33:55.496825Z"
    }
   },
   "outputs": [
    {
     "data": {
      "image/png": "[encoded data removed]",
      "text/plain": [
       "<Figure size 504x504 with 1 Axes>"
      ]
     },
     "metadata": {
      "needs_background": "light"
     },
     "output_type": "display_data"
    }
   ],
   "source": [
    "plt.figure(figsize=(7,7))\n",
    "col_lst = ['v', 'f', 's'] \n",
    "for col in col_lst:\n",
    "    values = dg[col].values\n",
    "    plt.hist(values,bins = 40, label = col, alpha=0.5, log=True, density=True)\n",
    "plt.legend()\n",
    "plt.xlabel('value')\n",
    "plt.ylabel('likelihood')\n",
    "plt.title('raw spiral tips before filtering')\n",
    "# plt.xticks([0,0.5,1,1.5,2,2.5,3,1.1,1.2,1.3,1.4,1.2])\n",
    "# plt.xlim([1.2,1.4])\n",
    "plt.show()"
   ]
  },
  {
   "cell_type": "code",
   "execution_count": 80,
   "metadata": {
    "ExecuteTime": {
     "end_time": "2020-11-05T22:33:57.804847Z",
     "start_time": "2020-11-05T22:33:56.858503Z"
    },
    "scrolled": true
   },
   "outputs": [
    {
     "data": {
      "image/png": "[encoded data removed]",
      "text/plain": [
       "<Figure size 504x504 with 1 Axes>"
      ]
     },
     "metadata": {
      "needs_background": "light"
     },
     "output_type": "display_data"
    }
   ],
   "source": [
    "plt.figure(figsize=(7,7))\n",
    "col_lst = ['dvdt', 'dfdt', 'dsdt']\n",
    "for col in col_lst:\n",
    "    values = dg[col].values\n",
    "    plt.hist(values,bins = 40, label = col, alpha=0.5, log=True, density=True)\n",
    "plt.legend()\n",
    "plt.xlabel('value')\n",
    "plt.ylabel('likelihood')\n",
    "plt.title('raw spiral tips before filtering')\n",
    "# plt.xticks([0,0.5,1,1.5,2,2.5,3,1.1,1.2,1.3,1.4,1.2])\n",
    "# plt.xlim([1.2,1.4])\n",
    "plt.show()"
   ]
  },
  {
   "cell_type": "code",
   "execution_count": 45,
   "metadata": {
    "ExecuteTime": {
     "end_time": "2020-11-05T22:27:20.831531Z",
     "start_time": "2020-11-05T22:27:20.811484Z"
    }
   },
   "outputs": [
    {
     "name": "stdout",
     "output_type": "stream",
     "text": [
      "It is False that any unfiltered spiral tips were observed with dsdt>-0.0007.\n"
     ]
    }
   ],
   "source": [
    "#good sanity check but doesn't identify any bad tips here.\n",
    "dsdt_thresh=-0.0007\n",
    "print(f\"It is {(df['dsdt']>dsdt_thresh).values.any()} that any unfiltered spiral tips were observed with dsdt>{dsdt_thresh}.\")"
   ]
  },
  {
   "cell_type": "markdown",
   "metadata": {},
   "source": [
    "# TODO: consider tracking/filtering tips on the basis of moving in the direction of grad_u (or grad_v)\n",
    "- TODO: see solution for automated tip detection\n",
    "- TODO: visualize the histogram of angles between grad_u and the displacement between frames for each row resulting from ^that\n",
    "- TODO: is there any bimodal distribution?  If not, consider variations on a them.  e.g., grad_v... np.cross... etc..."
   ]
  },
  {
   "cell_type": "markdown",
   "metadata": {},
   "source": [
    "# DONE: try a DataFrame filter and view the resulting bdrates (on a histogram?)"
   ]
  },
  {
   "cell_type": "code",
   "execution_count": 752,
   "metadata": {
    "ExecuteTime": {
     "end_time": "2020-11-06T05:43:25.435899Z",
     "start_time": "2020-11-06T05:42:44.643123Z"
    }
   },
   "outputs": [],
   "source": [
    "data_dir_log = os.path.join(nb_dir,'Figures/methods/tip_log_ic_200x200.120.32_V_0.4__t_1e+03.csv')\n",
    "df = pd.read_csv(data_dir_log)\n",
    "df['grad_u_mag'] = df['grad_ux']**2 + df['grad_uy']**2\n",
    "df['grad_v_mag'] = df['grad_vx']**2 + df['grad_vy']**2\n",
    "df['theta_comp'] = np.abs(np.pi/2-df['theta'])\n",
    "\n",
    "#(slow) assign each time a unique frame number\n",
    "t_list =  sorted(set(df.t.values))\n",
    "frameno_list = list(range(len(t_list)))\n",
    "df['frame'] = -9999\n",
    "for frameno, t in zip(frameno_list,t_list):\n",
    "    df.loc[df.t==t, 'frame'] = frameno\n",
    "#assert that all entries were given a value\n",
    "assert ( not (df.frame<0).any() )\n",
    "\n",
    "#first: use the trivial filter\n",
    "# \"tip_log_ic_200x200.120.32_V_0.4__t_1e+03.csv\"\n",
    "boo = [i is not None for i in df.index]\n",
    "dg = df.loc[boo]\n",
    "\n",
    "dh = dg.groupby('t').mean()[['n']]\n",
    "dh.reset_index(inplace=True)"
   ]
  },
  {
   "cell_type": "code",
   "execution_count": 116,
   "metadata": {
    "ExecuteTime": {
     "end_time": "2020-11-05T22:42:52.245144Z",
     "start_time": "2020-11-05T22:42:52.224549Z"
    }
   },
   "outputs": [],
   "source": [
    "t_series = dh.t\n",
    "n_series = dh.n"
   ]
  },
  {
   "cell_type": "code",
   "execution_count": 134,
   "metadata": {
    "ExecuteTime": {
     "end_time": "2020-11-05T22:45:35.317235Z",
     "start_time": "2020-11-05T22:45:35.290424Z"
    }
   },
   "outputs": [],
   "source": [
    "d = compute_bdrates(n_series,t_series).dropna()"
   ]
  },
  {
   "cell_type": "code",
   "execution_count": 137,
   "metadata": {
    "ExecuteTime": {
     "end_time": "2020-11-05T22:45:52.610922Z",
     "start_time": "2020-11-05T22:45:52.574399Z"
    }
   },
   "outputs": [
    {
     "data": {
      "text/html": [
       "<div>\n",
       "<style scoped>\n",
       "    .dataframe tbody tr th:only-of-type {\n",
       "        vertical-align: middle;\n",
       "    }\n",
       "\n",
       "    .dataframe tbody tr th {\n",
       "        vertical-align: top;\n",
       "    }\n",
       "\n",
       "    .dataframe thead th {\n",
       "        text-align: right;\n",
       "    }\n",
       "</style>\n",
       "<table border=\"1\" class=\"dataframe\">\n",
       "  <thead>\n",
       "    <tr style=\"text-align: right;\">\n",
       "      <th></th>\n",
       "      <th>t</th>\n",
       "      <th>n</th>\n",
       "      <th>dn</th>\n",
       "      <th>rates</th>\n",
       "    </tr>\n",
       "  </thead>\n",
       "  <tbody>\n",
       "    <tr>\n",
       "      <th>count</th>\n",
       "      <td>27.000000</td>\n",
       "      <td>27.000000</td>\n",
       "      <td>27.000000</td>\n",
       "      <td>27.000000</td>\n",
       "    </tr>\n",
       "    <tr>\n",
       "      <th>mean</th>\n",
       "      <td>791.401852</td>\n",
       "      <td>10.962963</td>\n",
       "      <td>0.074074</td>\n",
       "      <td>0.397100</td>\n",
       "    </tr>\n",
       "    <tr>\n",
       "      <th>std</th>\n",
       "      <td>153.404389</td>\n",
       "      <td>2.793970</td>\n",
       "      <td>2.036700</td>\n",
       "      <td>1.089967</td>\n",
       "    </tr>\n",
       "    <tr>\n",
       "      <th>min</th>\n",
       "      <td>527.125000</td>\n",
       "      <td>6.000000</td>\n",
       "      <td>-2.000000</td>\n",
       "      <td>0.011474</td>\n",
       "    </tr>\n",
       "    <tr>\n",
       "      <th>25%</th>\n",
       "      <td>664.612500</td>\n",
       "      <td>9.000000</td>\n",
       "      <td>-2.000000</td>\n",
       "      <td>0.036920</td>\n",
       "    </tr>\n",
       "    <tr>\n",
       "      <th>50%</th>\n",
       "      <td>814.800000</td>\n",
       "      <td>10.000000</td>\n",
       "      <td>2.000000</td>\n",
       "      <td>0.063898</td>\n",
       "    </tr>\n",
       "    <tr>\n",
       "      <th>75%</th>\n",
       "      <td>920.600000</td>\n",
       "      <td>13.000000</td>\n",
       "      <td>2.000000</td>\n",
       "      <td>0.290404</td>\n",
       "    </tr>\n",
       "    <tr>\n",
       "      <th>max</th>\n",
       "      <td>995.225000</td>\n",
       "      <td>16.000000</td>\n",
       "      <td>2.000000</td>\n",
       "      <td>5.714286</td>\n",
       "    </tr>\n",
       "  </tbody>\n",
       "</table>\n",
       "</div>"
      ],
      "text/plain": [
       "                t          n         dn      rates\n",
       "count   27.000000  27.000000  27.000000  27.000000\n",
       "mean   791.401852  10.962963   0.074074   0.397100\n",
       "std    153.404389   2.793970   2.036700   1.089967\n",
       "min    527.125000   6.000000  -2.000000   0.011474\n",
       "25%    664.612500   9.000000  -2.000000   0.036920\n",
       "50%    814.800000  10.000000   2.000000   0.063898\n",
       "75%    920.600000  13.000000   2.000000   0.290404\n",
       "max    995.225000  16.000000   2.000000   5.714286"
      ]
     },
     "execution_count": 137,
     "metadata": {},
     "output_type": "execute_result"
    }
   ],
   "source": [
    "d.describe()"
   ]
  },
  {
   "cell_type": "code",
   "execution_count": 149,
   "metadata": {
    "ExecuteTime": {
     "end_time": "2020-11-05T22:50:00.413362Z",
     "start_time": "2020-11-05T22:50:00.195678Z"
    },
    "scrolled": true
   },
   "outputs": [
    {
     "name": "stdout",
     "output_type": "stream",
     "text": [
      "27\n",
      "0.39710001958551644\n",
      "1.0695924036783464\n"
     ]
    },
    {
     "data": {
      "image/png": "[encoded data removed]",
      "text/plain": [
       "<Figure size 432x288 with 1 Axes>"
      ]
     },
     "metadata": {
      "needs_background": "light"
     },
     "output_type": "display_data"
    }
   ],
   "source": [
    "print(d.rates.values.size)\n",
    "print(d.rates.values.mean())\n",
    "print(d.rates.values.std())\n",
    "\n",
    "plt.hist(d.rates.values, bins=30)\n",
    "plt.show()"
   ]
  },
  {
   "cell_type": "markdown",
   "metadata": {},
   "source": [
    "- DONE: visualize bdrates for a sanity check\n",
    "- TODO: get generate_tip_logs_cy up and running\n",
    "- TODO: start ^that on UB\n",
    "- TODO: continue playing with filters here\n",
    "- with (filtered) tip locations,\n",
    "    - TODO: visualize bdrates\n",
    "    - TODO: compute trajectories \n",
    "    - TODO: visualize MSD\n",
    "    "
   ]
  },
  {
   "cell_type": "code",
   "execution_count": 176,
   "metadata": {
    "ExecuteTime": {
     "end_time": "2020-11-05T22:58:48.693102Z",
     "start_time": "2020-11-05T22:58:48.673379Z"
    }
   },
   "outputs": [],
   "source": [
    "t_series = dh.t\n",
    "n_series = dh.n"
   ]
  },
  {
   "cell_type": "code",
   "execution_count": 177,
   "metadata": {
    "ExecuteTime": {
     "end_time": "2020-11-05T22:58:50.272580Z",
     "start_time": "2020-11-05T22:58:50.097907Z"
    }
   },
   "outputs": [
    {
     "name": "stdout",
     "output_type": "stream",
     "text": [
      "20001\n"
     ]
    },
    {
     "data": {
      "image/png": "[encoded data removed]",
      "text/plain": [
       "<Figure size 432x288 with 1 Axes>"
      ]
     },
     "metadata": {
      "needs_background": "light"
     },
     "output_type": "display_data"
    }
   ],
   "source": [
    "x_values = t_series.values\n",
    "y_values = n_series.values\n",
    "\n",
    "num_observations = len(x_values)\n",
    "print(num_observations)\n",
    "\n",
    "save = False\n",
    "plt.plot(x_values,y_values)\n",
    "plt.title(f\"recording every 25 µs\")\n",
    "plt.xlabel(f\"time (ms)\")\n",
    "plt.ylabel(f\"number of spiral tips\")\n",
    "# ax.set_xticks([])\n",
    "plt.yticks([2,4,6,8,10,12,14,16,18,20,22])\n",
    "if not save:\n",
    "    plt.show()\n",
    "else:\n",
    "    os.chdir(nb_dir)\n",
    "    os.chdir('Figures/methods')\n",
    "    plt.savefig(f\"example_ic_200x200.120.32_num_tips_t_0_{t:.1}_V_{V_threshold}.png\")\n",
    "    #     plt.savefig('example_no_high_frequency_birth_deaths_t_500_600.png')"
   ]
  },
  {
   "cell_type": "markdown",
   "metadata": {},
   "source": [
    "## visualize birth death rates"
   ]
  },
  {
   "cell_type": "code",
   "execution_count": 625,
   "metadata": {
    "ExecuteTime": {
     "end_time": "2020-11-06T04:56:10.526463Z",
     "start_time": "2020-11-06T04:56:10.372509Z"
    }
   },
   "outputs": [],
   "source": [
    "# #import data\n",
    "# os.chdir(folder_name)\n",
    "# df = pd.read_csv(file_out)\n",
    "\n",
    "#drop termination times\n",
    "# df.dropna(inplace=True)\n",
    "# df = d.copy()\n",
    "\n",
    "#drop rows with rates over 100/ms\n",
    "# df = df.loc[df.rates<=1].copy()\n",
    "\n",
    "# df = df.loc[df.rates<=0.02].copy()\n",
    "# df = df.loc[df.rates<=0.1].copy()\n",
    "\n",
    "def get_bdrate_plot_data(df):\n",
    "    dn_list = sorted(set(df.dn.values))\n",
    "    dn_list = [-2,2]\n",
    "\n",
    "    np.mean(df.n.values)\n",
    "\n",
    "    #compute median rates and IQR for the error bars corresponding to each category in dn_list\n",
    "    errorbar_data_list = []\n",
    "    for dn in dn_list:  \n",
    "        #iterate over n for each dn\n",
    "        df2 = df.loc[df.dn==dn].copy()\n",
    "        n_list = sorted(set(df2.n.values))\n",
    "        y_val_list = []\n",
    "        y_err_1_list = []\n",
    "        y_err_2_list = []\n",
    "        for n in n_list:\n",
    "            df3 = df2.loc[df2.n == n].copy()\n",
    "            y_val, y_err_1, y_err_2 = df3.describe().T[['50%', '25%', '75%']].loc['rates'].values\n",
    "            y_err_2 = float(y_err_2 - y_val)\n",
    "            y_err_1 = float(y_val - y_err_1)\n",
    "            y_val = float(y_val)\n",
    "            y_val_list.append(y_val)\n",
    "            y_err_1_list.append(y_err_1)\n",
    "            y_err_2_list.append(y_err_2)\n",
    "        # errorbar_data = (dn, n_list, y_val_list, y_err_1_list, y_err_2_list)\n",
    "        errorbar_data = {'dn':dn, \n",
    "                         'n_list':n_list, \n",
    "                         'y_val_list':y_val_list, \n",
    "                         'y_err_1_list':y_err_1_list, \n",
    "                         'y_err_2_list':y_err_2_list\n",
    "                        }\n",
    "        errorbar_data_list.append(errorbar_data)    \n",
    "\n",
    "    #retrieve scatter plot data points for each category in dn_list\n",
    "    scatter_data_list = []\n",
    "    for dn in dn_list:  \n",
    "        df2 = df.loc[df.dn==dn].copy()\n",
    "        x_values = df2.n.values\n",
    "        y_values = df2.rates.values\n",
    "        scatter_data = {'dn':dn, \n",
    "                         'x_values':x_values, \n",
    "                         'y_values':y_values, \n",
    "                        }\n",
    "        scatter_data_list.append(scatter_data)\n",
    "\n",
    "    #assign a color/label/other formatting to each category in dn_list\n",
    "    color_list_raw = ['red', 'blue', 'green', 'orange', 'brown', 'purple']\n",
    "    formatting_data_list = []\n",
    "    for i, dn in enumerate(dn_list):\n",
    "        formatting_data = {\n",
    "            'dn': dn,\n",
    "            'color': color_list_raw[i],\n",
    "            'label':f'$W_{{{int(dn):+d}}}$'\n",
    "        }\n",
    "        formatting_data_list.append(formatting_data) \n",
    "    retval = formatting_data_list, scatter_data_list, errorbar_data_list, \n",
    "    return retval\n",
    "\n",
    "formatting_data_list, scatter_data_list, errorbar_data_list = get_bdrate_plot_data(df=d)"
   ]
  },
  {
   "cell_type": "code",
   "execution_count": 626,
   "metadata": {
    "ExecuteTime": {
     "end_time": "2020-11-06T04:56:11.659657Z",
     "start_time": "2020-11-06T04:56:11.638862Z"
    }
   },
   "outputs": [],
   "source": [
    "assert (len(formatting_data_list) is len(scatter_data_list ))\n",
    "assert (len(formatting_data_list) is len(errorbar_data_list))"
   ]
  },
  {
   "cell_type": "code",
   "execution_count": 627,
   "metadata": {
    "ExecuteTime": {
     "end_time": "2020-11-06T04:56:15.103677Z",
     "start_time": "2020-11-06T04:56:14.850401Z"
    }
   },
   "outputs": [
    {
     "data": {
      "image/png": "[encoded data removed]",
      "text/plain": [
       "<Figure size 432x360 with 1 Axes>"
      ]
     },
     "metadata": {
      "needs_background": "light"
     },
     "output_type": "display_data"
    }
   ],
   "source": [
    "saving = False\n",
    "\n",
    "savefig_dir = f'{nb_dir}/Figures/birth_death_analysis'\n",
    "savefig_fn = 'birth_death_rates_ic2-from-log.png'\n",
    "# savefig_fn = 'birth_death_rates_log.png'\n",
    "log_scale = False\n",
    "fontsize=20\n",
    "figsize=(6,5)\n",
    "\n",
    "# def birth_death_plot(*y_axis_struct_list):\n",
    "\n",
    "# plot birth death rates with IQR y error bars with n on the x axis\n",
    "fig, ax = plt.subplots(figsize=figsize)\n",
    "for scatter_data, errorbar_data, formatting_data in zip(\n",
    "    scatter_data_list, errorbar_data_list, formatting_data_list):\n",
    "\n",
    "    dn, x_values, y_values = scatter_data.values()\n",
    "    dn, n_list, y_val_list, y_err_1_list, y_err_2_list = errorbar_data.values()\n",
    "    dn, color, label = formatting_data.values()\n",
    "    yerr = np.array(list(zip(y_err_1_list,y_err_2_list))).T\n",
    "    \n",
    "    ax.scatter(x=x_values/2,y=y_values, c=color, s=10, alpha=0.1, label=label)\n",
    "    ax.errorbar([n/2 for n in n_list], y_val_list, yerr=yerr, c=color)\n",
    "    \n",
    "# ax.legend(loc='top')\n",
    "\n",
    "# ax.set_xticks([2,4,6,8, 10, 12])\n",
    "# # ax.set_yticks([0,10,20,30,40,50])\n",
    "# ymin, ymax = ax.get_ylim()\n",
    "# ax.set_ylim((1e-3,0.4))\n",
    "\n",
    "ax.legend(loc='best', fontsize= fontsize-8)\n",
    "ax.tick_params(axis='both', labelsize= fontsize)\n",
    "ax.set_ylabel('birth/death rate (ms$^{-1}$)', fontsize=fontsize)\n",
    "ax.set_xlabel('n/2', fontsize=fontsize) \n",
    "if log_scale:\n",
    "    ax.set_yscale('log')\n",
    "# ax.set_title(f'$\\sigma = {sigma}$, threshold = {threshold}', fontsize=fontsize)\n",
    "                    \n",
    "# ax.set_title('high frequency birth deaths observed', fontsize=fontsize)\n",
    "# ax.axis([20,60,0,7])\n",
    "  \n",
    "    \n",
    "if not saving: \n",
    "    plt.show() \n",
    "else:\n",
    "    plt.tight_layout()\n",
    "    os.chdir(savefig_dir)\n",
    "    plt.savefig(savefig_fn, dpi=300)\n",
    "    print(f\"saved figure in \\n\\t{savefig_fn}.\")\n"
   ]
  },
  {
   "cell_type": "code",
   "execution_count": 628,
   "metadata": {
    "ExecuteTime": {
     "end_time": "2020-11-06T04:56:43.838072Z",
     "start_time": "2020-11-06T04:56:43.814516Z"
    }
   },
   "outputs": [
    {
     "data": {
      "text/plain": [
       "(14,)"
      ]
     },
     "execution_count": 628,
     "metadata": {},
     "output_type": "execute_result"
    }
   ],
   "source": [
    "# import trackpy\n",
    "y_values.shape\n",
    "# trackpy.link_iter?"
   ]
  },
  {
   "cell_type": "code",
   "execution_count": 629,
   "metadata": {
    "ExecuteTime": {
     "end_time": "2020-11-06T04:56:45.120502Z",
     "start_time": "2020-11-06T04:56:45.095971Z"
    }
   },
   "outputs": [
    {
     "data": {
      "text/plain": [
       "(14,)"
      ]
     },
     "execution_count": 629,
     "metadata": {},
     "output_type": "execute_result"
    }
   ],
   "source": [
    "#the number when considering rates <= 0.1, we have\n",
    "y_values.shape"
   ]
  },
  {
   "cell_type": "code",
   "execution_count": 630,
   "metadata": {
    "ExecuteTime": {
     "end_time": "2020-11-06T04:56:48.106222Z",
     "start_time": "2020-11-06T04:56:48.078763Z"
    }
   },
   "outputs": [
    {
     "data": {
      "text/plain": [
       "(203282,)"
      ]
     },
     "execution_count": 630,
     "metadata": {},
     "output_type": "execute_result"
    }
   ],
   "source": [
    "df.n.values.shape"
   ]
  },
  {
   "cell_type": "code",
   "execution_count": 631,
   "metadata": {
    "ExecuteTime": {
     "end_time": "2020-11-06T04:56:50.067751Z",
     "start_time": "2020-11-06T04:56:50.036255Z"
    }
   },
   "outputs": [
    {
     "data": {
      "text/html": [
       "<div>\n",
       "<style scoped>\n",
       "    .dataframe tbody tr th:only-of-type {\n",
       "        vertical-align: middle;\n",
       "    }\n",
       "\n",
       "    .dataframe tbody tr th {\n",
       "        vertical-align: top;\n",
       "    }\n",
       "\n",
       "    .dataframe thead th {\n",
       "        text-align: right;\n",
       "    }\n",
       "</style>\n",
       "<table border=\"1\" class=\"dataframe\">\n",
       "  <thead>\n",
       "    <tr style=\"text-align: right;\">\n",
       "      <th></th>\n",
       "      <th>t</th>\n",
       "      <th>n</th>\n",
       "      <th>x</th>\n",
       "      <th>y</th>\n",
       "      <th>theta</th>\n",
       "      <th>grad_ux</th>\n",
       "      <th>grad_uy</th>\n",
       "      <th>grad_vx</th>\n",
       "      <th>grad_vy</th>\n",
       "      <th>v</th>\n",
       "      <th>f</th>\n",
       "      <th>s</th>\n",
       "      <th>dvdt</th>\n",
       "      <th>dfdt</th>\n",
       "      <th>dsdt</th>\n",
       "      <th>grad_u_mag</th>\n",
       "      <th>grad_v_mag</th>\n",
       "      <th>theta_comp</th>\n",
       "    </tr>\n",
       "  </thead>\n",
       "  <tbody>\n",
       "  </tbody>\n",
       "</table>\n",
       "</div>"
      ],
      "text/plain": [
       "Empty DataFrame\n",
       "Columns: [t, n, x, y, theta, grad_ux, grad_uy, grad_vx, grad_vy, v, f, s, dvdt, dfdt, dsdt, grad_u_mag, grad_v_mag, theta_comp]\n",
       "Index: []"
      ]
     },
     "execution_count": 631,
     "metadata": {},
     "output_type": "execute_result"
    }
   ],
   "source": [
    "df[(df.n%2==1)]"
   ]
  },
  {
   "cell_type": "code",
   "execution_count": null,
   "metadata": {
    "ExecuteTime": {
     "end_time": "2020-08-19T20:32:35.053829Z",
     "start_time": "2020-08-19T20:32:35.032721Z"
    }
   },
   "outputs": [],
   "source": []
  },
  {
   "cell_type": "code",
   "execution_count": 632,
   "metadata": {
    "ExecuteTime": {
     "end_time": "2020-11-06T04:56:52.215510Z",
     "start_time": "2020-11-06T04:56:52.191622Z"
    }
   },
   "outputs": [],
   "source": [
    "# from lib.birth_death_rates_from_ic import *\n",
    "# initial_condition_dir = '/Users/timothytyree/Documents/GitHub/care/notebooks/Data/initial-conditions-suite-1/ic-in/ic_200x200.121.33.npz'\n",
    "# birth_death_rates_from_ic(initial_condition_dir)"
   ]
  },
  {
   "cell_type": "markdown",
   "metadata": {
    "ExecuteTime": {
     "end_time": "2020-11-05T21:31:15.378973Z",
     "start_time": "2020-11-05T21:31:15.350963Z"
    }
   },
   "source": [
    "# DONE: Test the full routine for generating tip logs"
   ]
  },
  {
   "cell_type": "code",
   "execution_count": 213,
   "metadata": {
    "ExecuteTime": {
     "end_time": "2020-11-06T00:56:58.526100Z",
     "start_time": "2020-11-06T00:56:58.504851Z"
    }
   },
   "outputs": [],
   "source": [
    "# from lib.routines.kwargs_cy import get_kwargs\n",
    "# from lib.routines.generate_tip_logs_cy import generate_tip_logs_from_ic\n",
    "# def run_routine(ic):\n",
    "#     kwargs = get_kwargs(ic)\n",
    "#     kwargs = generate_tip_logs_from_ic(ic, **kwargs)\n",
    "#     return True\n",
    "# # get_kwargs\n",
    "# # generate_tip_logs_from_ic\n",
    "\n",
    "# # ic = search_for_file()\n",
    "# ic = '/Users/timothytyree/Documents/GitHub/care/notebooks/Data/initial-conditions-suite-1/ic-in/ic_200x200.121.32.npz'\n",
    "# kwargs = get_kwargs(ic)\n",
    "\n",
    "# kwargs['tmax'] = 100\n",
    "\n",
    "# kwargs = generate_tip_logs_from_ic(ic, **kwargs)\n",
    "\n",
    "# beep(3)"
   ]
  },
  {
   "cell_type": "markdown",
   "metadata": {},
   "source": [
    "# DONE: filter df by theta and potentially more!"
   ]
  },
  {
   "cell_type": "code",
   "execution_count": 633,
   "metadata": {
    "ExecuteTime": {
     "end_time": "2020-11-06T04:57:07.496872Z",
     "start_time": "2020-11-06T04:57:07.107328Z"
    }
   },
   "outputs": [],
   "source": [
    "data_dir_log = os.path.join(nb_dir,'Figures/methods/tip_log_ic_200x200.120.32_V_0.4__t_1e+03.csv')\n",
    "df = pd.read_csv(data_dir_log)\n",
    "df['grad_u_mag'] = df['grad_ux']**2 + df['grad_uy']**2\n",
    "df['grad_v_mag'] = df['grad_vx']**2 + df['grad_vy']**2\n",
    "df['theta_comp'] = np.abs(np.pi/4-df['theta'])\n",
    "dnaught = df.copy()\n"
   ]
  },
  {
   "cell_type": "code",
   "execution_count": 634,
   "metadata": {
    "ExecuteTime": {
     "end_time": "2020-11-06T04:57:10.973663Z",
     "start_time": "2020-11-06T04:57:10.878821Z"
    }
   },
   "outputs": [],
   "source": [
    "# input suggesting initial thresholds = \"tip_log_ic_200x200.120.32_V_0.4__t_1e+03.csv\"\n",
    "theta_comp_threshold = np.pi/2.5 #1*np.pi/3 #np.pi/4  created aberrations #1/np.sqrt(2)#was too small\n",
    "f_threshold = 0\n",
    "#the trivial filter\n",
    "boo = np.array([i is not None for i in df.index])\n",
    "\n",
    "#the theta thresholded filter\n",
    "boo &= (df.theta_comp<=theta_comp_threshold)\n",
    "\n",
    "#TODO: consider an f threshold for small f_threshold.  There's a bunch near zero\n",
    "boo &= df.f>0.01\n",
    "\n",
    "#TODO: consider any other filters??\n",
    "\n",
    "#compute birth death rates\n",
    "dg = df.loc[boo]\n",
    "\n",
    "#mean tip field DataFrame\n",
    "# dg = dg.groupby('t').mean()[['n']]\n",
    "# dg.reset_index(inplace=True)\n",
    "\n",
    "#birth-death rates DataFrame\n",
    "t_series = dg.t\n",
    "n_series = dg.n\n",
    "d = compute_bdrates(n_series,t_series).dropna()\n"
   ]
  },
  {
   "cell_type": "code",
   "execution_count": 635,
   "metadata": {
    "ExecuteTime": {
     "end_time": "2020-11-06T04:57:12.453701Z",
     "start_time": "2020-11-06T04:57:12.240716Z"
    }
   },
   "outputs": [
    {
     "name": "stdout",
     "output_type": "stream",
     "text": [
      "109324\n"
     ]
    },
    {
     "data": {
      "image/png": "[encoded data removed]",
      "text/plain": [
       "<Figure size 432x288 with 1 Axes>"
      ]
     },
     "metadata": {
      "needs_background": "light"
     },
     "output_type": "display_data"
    }
   ],
   "source": [
    "x_values = t_series.values\n",
    "y_values = n_series.values\n",
    "\n",
    "num_observations = len(x_values)\n",
    "print(num_observations)\n",
    "\n",
    "save = False\n",
    "plt.plot(x_values,y_values)\n",
    "plt.title(f\"recording every 25 µs\")\n",
    "plt.xlabel(f\"time (ms)\")\n",
    "plt.ylabel(f\"number of spiral tips\")\n",
    "# ax.set_xticks([])\n",
    "plt.yticks([2,4,6,8,10,12,14,16,18,20,22])\n",
    "if not save:\n",
    "    plt.show()\n",
    "else:\n",
    "    os.chdir(nb_dir)\n",
    "    os.chdir('Figures/methods')\n",
    "    plt.savefig(f\"example_ic_200x200.120.32_num_tips_t_0_{t:.1}_V_{V_threshold}.png\")\n",
    "    #     plt.savefig('example_no_high_frequency_birth_deaths_t_500_600.png')"
   ]
  },
  {
   "cell_type": "markdown",
   "metadata": {},
   "source": [
    "# TODO(finally): data science together a tip trajectory dataFrame for a given input_file_name of tip logs\n",
    "- ^this might provide a new filter to robustly remove false tips!"
   ]
  },
  {
   "cell_type": "code",
   "execution_count": 636,
   "metadata": {
    "ExecuteTime": {
     "end_time": "2020-11-06T04:57:25.992707Z",
     "start_time": "2020-11-06T04:57:25.965597Z"
    }
   },
   "outputs": [
    {
     "name": "stdout",
     "output_type": "stream",
     "text": [
      "the max bdrate is\n"
     ]
    },
    {
     "data": {
      "text/plain": [
       "5.714285714283487"
      ]
     },
     "execution_count": 636,
     "metadata": {},
     "output_type": "execute_result"
    }
   ],
   "source": [
    "print('the max bdrate is')\n",
    "d.rates.describe()['max']"
   ]
  },
  {
   "cell_type": "markdown",
   "metadata": {},
   "source": [
    "## TODO(refer to tip tracking .ipynb): track the tips using current trackpy implementation"
   ]
  },
  {
   "cell_type": "code",
   "execution_count": 637,
   "metadata": {
    "ExecuteTime": {
     "end_time": "2020-11-06T04:57:31.239863Z",
     "start_time": "2020-11-06T04:57:31.203886Z"
    }
   },
   "outputs": [
    {
     "data": {
      "text/html": [
       "<div>\n",
       "<style scoped>\n",
       "    .dataframe tbody tr th:only-of-type {\n",
       "        vertical-align: middle;\n",
       "    }\n",
       "\n",
       "    .dataframe tbody tr th {\n",
       "        vertical-align: top;\n",
       "    }\n",
       "\n",
       "    .dataframe thead th {\n",
       "        text-align: right;\n",
       "    }\n",
       "</style>\n",
       "<table border=\"1\" class=\"dataframe\">\n",
       "  <thead>\n",
       "    <tr style=\"text-align: right;\">\n",
       "      <th></th>\n",
       "      <th>t</th>\n",
       "      <th>n</th>\n",
       "      <th>x</th>\n",
       "      <th>y</th>\n",
       "      <th>theta</th>\n",
       "      <th>grad_ux</th>\n",
       "      <th>grad_uy</th>\n",
       "      <th>grad_vx</th>\n",
       "      <th>grad_vy</th>\n",
       "      <th>v</th>\n",
       "      <th>f</th>\n",
       "      <th>s</th>\n",
       "      <th>dvdt</th>\n",
       "      <th>dfdt</th>\n",
       "      <th>dsdt</th>\n",
       "      <th>grad_u_mag</th>\n",
       "      <th>grad_v_mag</th>\n",
       "      <th>theta_comp</th>\n",
       "    </tr>\n",
       "  </thead>\n",
       "  <tbody>\n",
       "    <tr>\n",
       "      <th>0</th>\n",
       "      <td>500.0</td>\n",
       "      <td>10</td>\n",
       "      <td>1.797431</td>\n",
       "      <td>86.755323</td>\n",
       "      <td>1.971812</td>\n",
       "      <td>-0.388966</td>\n",
       "      <td>1.031992</td>\n",
       "      <td>-20.991924</td>\n",
       "      <td>1.446331</td>\n",
       "      <td>0.393947</td>\n",
       "      <td>0.069935</td>\n",
       "      <td>0.806118</td>\n",
       "      <td>0.000158</td>\n",
       "      <td>-0.005367</td>\n",
       "      <td>-0.001008</td>\n",
       "      <td>1.216302</td>\n",
       "      <td>442.752747</td>\n",
       "      <td>1.186414</td>\n",
       "    </tr>\n",
       "    <tr>\n",
       "      <th>3</th>\n",
       "      <td>500.0</td>\n",
       "      <td>10</td>\n",
       "      <td>40.851780</td>\n",
       "      <td>110.424705</td>\n",
       "      <td>1.833902</td>\n",
       "      <td>0.584281</td>\n",
       "      <td>1.154459</td>\n",
       "      <td>7.221990</td>\n",
       "      <td>-1.295690</td>\n",
       "      <td>0.381903</td>\n",
       "      <td>0.072489</td>\n",
       "      <td>0.852224</td>\n",
       "      <td>-0.002022</td>\n",
       "      <td>-0.005563</td>\n",
       "      <td>-0.001065</td>\n",
       "      <td>1.674160</td>\n",
       "      <td>53.835952</td>\n",
       "      <td>1.048504</td>\n",
       "    </tr>\n",
       "    <tr>\n",
       "      <th>4</th>\n",
       "      <td>500.0</td>\n",
       "      <td>10</td>\n",
       "      <td>54.879738</td>\n",
       "      <td>91.393116</td>\n",
       "      <td>1.697853</td>\n",
       "      <td>1.509588</td>\n",
       "      <td>0.692450</td>\n",
       "      <td>-0.642129</td>\n",
       "      <td>1.973307</td>\n",
       "      <td>0.422004</td>\n",
       "      <td>0.079982</td>\n",
       "      <td>0.810298</td>\n",
       "      <td>0.003837</td>\n",
       "      <td>-0.006138</td>\n",
       "      <td>-0.001013</td>\n",
       "      <td>2.758343</td>\n",
       "      <td>4.306270</td>\n",
       "      <td>0.912455</td>\n",
       "    </tr>\n",
       "    <tr>\n",
       "      <th>6</th>\n",
       "      <td>500.0</td>\n",
       "      <td>10</td>\n",
       "      <td>91.030156</td>\n",
       "      <td>65.441517</td>\n",
       "      <td>1.860444</td>\n",
       "      <td>0.631821</td>\n",
       "      <td>1.511874</td>\n",
       "      <td>5.967334</td>\n",
       "      <td>-5.892677</td>\n",
       "      <td>0.389288</td>\n",
       "      <td>0.099321</td>\n",
       "      <td>0.852280</td>\n",
       "      <td>0.003154</td>\n",
       "      <td>-0.007623</td>\n",
       "      <td>-0.001065</td>\n",
       "      <td>2.684961</td>\n",
       "      <td>70.332717</td>\n",
       "      <td>1.075046</td>\n",
       "    </tr>\n",
       "    <tr>\n",
       "      <th>7</th>\n",
       "      <td>500.0</td>\n",
       "      <td>10</td>\n",
       "      <td>93.586530</td>\n",
       "      <td>78.484654</td>\n",
       "      <td>1.590592</td>\n",
       "      <td>3.856218</td>\n",
       "      <td>-2.395161</td>\n",
       "      <td>0.761045</td>\n",
       "      <td>1.281898</td>\n",
       "      <td>0.386417</td>\n",
       "      <td>0.010750</td>\n",
       "      <td>0.792977</td>\n",
       "      <td>0.000252</td>\n",
       "      <td>-0.000825</td>\n",
       "      <td>-0.000991</td>\n",
       "      <td>20.607213</td>\n",
       "      <td>2.222452</td>\n",
       "      <td>0.805194</td>\n",
       "    </tr>\n",
       "  </tbody>\n",
       "</table>\n",
       "</div>"
      ],
      "text/plain": [
       "       t   n          x           y     theta   grad_ux   grad_uy    grad_vx  \\\n",
       "0  500.0  10   1.797431   86.755323  1.971812 -0.388966  1.031992 -20.991924   \n",
       "3  500.0  10  40.851780  110.424705  1.833902  0.584281  1.154459   7.221990   \n",
       "4  500.0  10  54.879738   91.393116  1.697853  1.509588  0.692450  -0.642129   \n",
       "6  500.0  10  91.030156   65.441517  1.860444  0.631821  1.511874   5.967334   \n",
       "7  500.0  10  93.586530   78.484654  1.590592  3.856218 -2.395161   0.761045   \n",
       "\n",
       "    grad_vy         v         f         s      dvdt      dfdt      dsdt  \\\n",
       "0  1.446331  0.393947  0.069935  0.806118  0.000158 -0.005367 -0.001008   \n",
       "3 -1.295690  0.381903  0.072489  0.852224 -0.002022 -0.005563 -0.001065   \n",
       "4  1.973307  0.422004  0.079982  0.810298  0.003837 -0.006138 -0.001013   \n",
       "6 -5.892677  0.389288  0.099321  0.852280  0.003154 -0.007623 -0.001065   \n",
       "7  1.281898  0.386417  0.010750  0.792977  0.000252 -0.000825 -0.000991   \n",
       "\n",
       "   grad_u_mag  grad_v_mag  theta_comp  \n",
       "0    1.216302  442.752747    1.186414  \n",
       "3    1.674160   53.835952    1.048504  \n",
       "4    2.758343    4.306270    0.912455  \n",
       "6    2.684961   70.332717    1.075046  \n",
       "7   20.607213    2.222452    0.805194  "
      ]
     },
     "execution_count": 637,
     "metadata": {},
     "output_type": "execute_result"
    }
   ],
   "source": [
    "import trackpy\n",
    "dg.head()"
   ]
  },
  {
   "cell_type": "code",
   "execution_count": 711,
   "metadata": {
    "ExecuteTime": {
     "end_time": "2020-11-06T05:28:41.340969Z",
     "start_time": "2020-11-06T05:28:41.319285Z"
    }
   },
   "outputs": [],
   "source": [
    "from lib.tracking import link\n",
    "# retval = link(f=df, search_range=sr, pos_columns=None, t_column='frame', memory=0,\n",
    "#         predictor=None, adaptive_stop=None, adaptive_step=0.95,\n",
    "#         neighbor_strategy=None, link_strategy=None, dist_func=None,\n",
    "#         to_eucl=None)"
   ]
  },
  {
   "cell_type": "code",
   "execution_count": 714,
   "metadata": {
    "ExecuteTime": {
     "end_time": "2020-11-06T05:31:45.731863Z",
     "start_time": "2020-11-06T05:31:14.460799Z"
    }
   },
   "outputs": [],
   "source": [
    "# track tips using periodic boundary conditions\n",
    "\n",
    "# df_dir = '/Users/timothytyree/Documents/GitHub/care/notebooks/Data/ds_5_param_set_8/Log/tip_log_ds_5_sigma_1.5_threshold_0.9_processed.csv'\n",
    "# import sklearn\n",
    "# df_dir = data_dir\n",
    "# print(data_dir)\n",
    "# df = pd.read_csv(df_dir)\n",
    "\n",
    "df = dg\n",
    "# mem = 2\n",
    "# sr = \n",
    "\n",
    "#assign each time a unique frame number\n",
    "t_list =  sorted(set(df.t.values))\n",
    "frameno_list = list(range(len(t_list)))\n",
    "df['frame'] = -9999\n",
    "for frameno, t in zip(frameno_list,t_list):\n",
    "    df.loc[df.t==t, 'frame'] = frameno\n",
    "#assert that all entries were given a value\n",
    "assert ( not (df.frame<0).any() )\n",
    "\n",
    "#TODO: check that n is reproduced by the number of x in the trajectory file\n",
    "# traj.query('t==555').t\n",
    "# df['frame']\n",
    "\n",
    "\n"
   ]
  },
  {
   "cell_type": "code",
   "execution_count": 718,
   "metadata": {
    "ExecuteTime": {
     "end_time": "2020-11-06T05:32:49.899983Z",
     "start_time": "2020-11-06T05:32:49.875483Z"
    }
   },
   "outputs": [],
   "source": [
    "trackpy.link_df?"
   ]
  },
  {
   "cell_type": "code",
   "execution_count": 720,
   "metadata": {
    "ExecuteTime": {
     "end_time": "2020-11-06T05:35:48.608303Z",
     "start_time": "2020-11-06T05:34:31.074577Z"
    }
   },
   "outputs": [
    {
     "name": "stdout",
     "output_type": "stream",
     "text": [
      "Frame 19997: 6 trajectories present.\n"
     ]
    },
    {
     "data": {
      "text/plain": [
       "0"
      ]
     },
     "execution_count": 720,
     "metadata": {},
     "output_type": "execute_result"
    }
   ],
   "source": [
    "# h = 0.007\n",
    "mem = 0\n",
    "sr  = width+height #?works sampling every 100 frames\n",
    "# sr  = 1 #works sampling every frame\n",
    "distance_L2_pbc = get_distance_L2_pbc(width,height)\n",
    "link_kwargs = {\n",
    "    'neighbor_strategy' : 'BTree',\n",
    "    'adaptive_step':0.5,\n",
    "    'adaptive_stop': 1e-5,\n",
    "    'dist_func'         : distance_L2_pbc,\n",
    "    'memory': mem,\n",
    "    'search_range':sr\n",
    "}\n",
    "# df['frame'] = np.around(df['t']/h)\n",
    "# df = df.astype(dtype={'frame':int}).copy()\n",
    "\n",
    "\n",
    "traj = trackpy.link_df(\n",
    "    f=df,t_column='frame', **link_kwargs)\n",
    "\n",
    "beep(2)"
   ]
  },
  {
   "cell_type": "code",
   "execution_count": null,
   "metadata": {},
   "outputs": [],
   "source": []
  },
  {
   "cell_type": "code",
   "execution_count": 715,
   "metadata": {
    "ExecuteTime": {
     "end_time": "2020-11-06T05:31:47.381828Z",
     "start_time": "2020-11-06T05:31:46.443517Z"
    }
   },
   "outputs": [
    {
     "data": {
      "text/html": [
       "<div>\n",
       "<style scoped>\n",
       "    .dataframe tbody tr th:only-of-type {\n",
       "        vertical-align: middle;\n",
       "    }\n",
       "\n",
       "    .dataframe tbody tr th {\n",
       "        vertical-align: top;\n",
       "    }\n",
       "\n",
       "    .dataframe thead th {\n",
       "        text-align: right;\n",
       "    }\n",
       "</style>\n",
       "<table border=\"1\" class=\"dataframe\">\n",
       "  <thead>\n",
       "    <tr style=\"text-align: right;\">\n",
       "      <th></th>\n",
       "      <th>t</th>\n",
       "      <th>n</th>\n",
       "      <th>x</th>\n",
       "      <th>y</th>\n",
       "      <th>theta</th>\n",
       "      <th>grad_ux</th>\n",
       "      <th>grad_uy</th>\n",
       "      <th>grad_vx</th>\n",
       "      <th>grad_vy</th>\n",
       "      <th>v</th>\n",
       "      <th>f</th>\n",
       "      <th>s</th>\n",
       "      <th>dvdt</th>\n",
       "      <th>dfdt</th>\n",
       "      <th>dsdt</th>\n",
       "      <th>grad_u_mag</th>\n",
       "      <th>grad_v_mag</th>\n",
       "      <th>theta_comp</th>\n",
       "      <th>frame</th>\n",
       "      <th>particle</th>\n",
       "    </tr>\n",
       "  </thead>\n",
       "  <tbody>\n",
       "    <tr>\n",
       "      <th>0</th>\n",
       "      <td>500.0</td>\n",
       "      <td>10</td>\n",
       "      <td>1.797431</td>\n",
       "      <td>86.755323</td>\n",
       "      <td>1.971812</td>\n",
       "      <td>-0.388966</td>\n",
       "      <td>1.031992</td>\n",
       "      <td>-20.991924</td>\n",
       "      <td>1.446331</td>\n",
       "      <td>0.393947</td>\n",
       "      <td>0.069935</td>\n",
       "      <td>0.806118</td>\n",
       "      <td>0.000158</td>\n",
       "      <td>-0.005367</td>\n",
       "      <td>-0.001008</td>\n",
       "      <td>1.216302</td>\n",
       "      <td>442.752747</td>\n",
       "      <td>1.186414</td>\n",
       "      <td>0</td>\n",
       "      <td>0</td>\n",
       "    </tr>\n",
       "    <tr>\n",
       "      <th>3</th>\n",
       "      <td>500.0</td>\n",
       "      <td>10</td>\n",
       "      <td>40.851780</td>\n",
       "      <td>110.424705</td>\n",
       "      <td>1.833902</td>\n",
       "      <td>0.584281</td>\n",
       "      <td>1.154459</td>\n",
       "      <td>7.221990</td>\n",
       "      <td>-1.295690</td>\n",
       "      <td>0.381903</td>\n",
       "      <td>0.072489</td>\n",
       "      <td>0.852224</td>\n",
       "      <td>-0.002022</td>\n",
       "      <td>-0.005563</td>\n",
       "      <td>-0.001065</td>\n",
       "      <td>1.674160</td>\n",
       "      <td>53.835952</td>\n",
       "      <td>1.048504</td>\n",
       "      <td>0</td>\n",
       "      <td>1</td>\n",
       "    </tr>\n",
       "    <tr>\n",
       "      <th>4</th>\n",
       "      <td>500.0</td>\n",
       "      <td>10</td>\n",
       "      <td>54.879738</td>\n",
       "      <td>91.393116</td>\n",
       "      <td>1.697853</td>\n",
       "      <td>1.509588</td>\n",
       "      <td>0.692450</td>\n",
       "      <td>-0.642129</td>\n",
       "      <td>1.973307</td>\n",
       "      <td>0.422004</td>\n",
       "      <td>0.079982</td>\n",
       "      <td>0.810298</td>\n",
       "      <td>0.003837</td>\n",
       "      <td>-0.006138</td>\n",
       "      <td>-0.001013</td>\n",
       "      <td>2.758343</td>\n",
       "      <td>4.306270</td>\n",
       "      <td>0.912455</td>\n",
       "      <td>0</td>\n",
       "      <td>2</td>\n",
       "    </tr>\n",
       "    <tr>\n",
       "      <th>6</th>\n",
       "      <td>500.0</td>\n",
       "      <td>10</td>\n",
       "      <td>91.030156</td>\n",
       "      <td>65.441517</td>\n",
       "      <td>1.860444</td>\n",
       "      <td>0.631821</td>\n",
       "      <td>1.511874</td>\n",
       "      <td>5.967334</td>\n",
       "      <td>-5.892677</td>\n",
       "      <td>0.389288</td>\n",
       "      <td>0.099321</td>\n",
       "      <td>0.852280</td>\n",
       "      <td>0.003154</td>\n",
       "      <td>-0.007623</td>\n",
       "      <td>-0.001065</td>\n",
       "      <td>2.684961</td>\n",
       "      <td>70.332717</td>\n",
       "      <td>1.075046</td>\n",
       "      <td>0</td>\n",
       "      <td>3</td>\n",
       "    </tr>\n",
       "    <tr>\n",
       "      <th>7</th>\n",
       "      <td>500.0</td>\n",
       "      <td>10</td>\n",
       "      <td>93.586530</td>\n",
       "      <td>78.484654</td>\n",
       "      <td>1.590592</td>\n",
       "      <td>3.856218</td>\n",
       "      <td>-2.395161</td>\n",
       "      <td>0.761045</td>\n",
       "      <td>1.281898</td>\n",
       "      <td>0.386417</td>\n",
       "      <td>0.010750</td>\n",
       "      <td>0.792977</td>\n",
       "      <td>0.000252</td>\n",
       "      <td>-0.000825</td>\n",
       "      <td>-0.000991</td>\n",
       "      <td>20.607213</td>\n",
       "      <td>2.222452</td>\n",
       "      <td>0.805194</td>\n",
       "      <td>0</td>\n",
       "      <td>4</td>\n",
       "    </tr>\n",
       "  </tbody>\n",
       "</table>\n",
       "</div>"
      ],
      "text/plain": [
       "       t   n          x           y     theta   grad_ux   grad_uy    grad_vx  \\\n",
       "0  500.0  10   1.797431   86.755323  1.971812 -0.388966  1.031992 -20.991924   \n",
       "3  500.0  10  40.851780  110.424705  1.833902  0.584281  1.154459   7.221990   \n",
       "4  500.0  10  54.879738   91.393116  1.697853  1.509588  0.692450  -0.642129   \n",
       "6  500.0  10  91.030156   65.441517  1.860444  0.631821  1.511874   5.967334   \n",
       "7  500.0  10  93.586530   78.484654  1.590592  3.856218 -2.395161   0.761045   \n",
       "\n",
       "    grad_vy         v         f         s      dvdt      dfdt      dsdt  \\\n",
       "0  1.446331  0.393947  0.069935  0.806118  0.000158 -0.005367 -0.001008   \n",
       "3 -1.295690  0.381903  0.072489  0.852224 -0.002022 -0.005563 -0.001065   \n",
       "4  1.973307  0.422004  0.079982  0.810298  0.003837 -0.006138 -0.001013   \n",
       "6 -5.892677  0.389288  0.099321  0.852280  0.003154 -0.007623 -0.001065   \n",
       "7  1.281898  0.386417  0.010750  0.792977  0.000252 -0.000825 -0.000991   \n",
       "\n",
       "   grad_u_mag  grad_v_mag  theta_comp  frame  particle  \n",
       "0    1.216302  442.752747    1.186414      0         0  \n",
       "3    1.674160   53.835952    1.048504      0         1  \n",
       "4    2.758343    4.306270    0.912455      0         2  \n",
       "6    2.684961   70.332717    1.075046      0         3  \n",
       "7   20.607213    2.222452    0.805194      0         4  "
      ]
     },
     "execution_count": 715,
     "metadata": {},
     "output_type": "execute_result"
    }
   ],
   "source": [
    "#save ^that\n",
    "# save_fn = os.path.basename(df_dir).replace('_processed.csv', f'_traj_sr_{sr}_mem_{mem}.csv')\n",
    "# traj.to_csv(save_fn, index=False)\n",
    "# print (save_fn)\n",
    "\n",
    "beep(4)\n",
    "traj.head()"
   ]
  },
  {
   "cell_type": "code",
   "execution_count": 395,
   "metadata": {
    "ExecuteTime": {
     "end_time": "2020-11-06T02:20:40.274745Z",
     "start_time": "2020-11-06T02:20:39.681286Z"
    }
   },
   "outputs": [
    {
     "data": {
      "image/png": "[encoded data removed]",
      "text/plain": [
       "<Figure size 432x288 with 1 Axes>"
      ]
     },
     "metadata": {
      "needs_background": "light"
     },
     "output_type": "display_data"
    }
   ],
   "source": [
    "#plot spiral tip number versus time\n",
    "# df = traj.copy()\n",
    "#compute the number of spiral tips in each time frame\n",
    "# df.groupby('t').describe().head()\n",
    "n_series = traj['t'].value_counts().sort_index()\n",
    "# plot tip number versus time for long-lived trajectories\n",
    "x_values = n_series.index.values\n",
    "y_values = n_series.values\n",
    "\n",
    "##########################\n",
    "plt.plot(x_values,y_values, label='n, number of trajectories (raw)')\n",
    "\n",
    "# plot tip number versus time for all trajectories\n",
    "t_values = df.t.values\n",
    "n_values = df.n.values\n",
    "\n",
    "##########################\n",
    "plt.plot(t_values, n_values+1, alpha=0.5, label='1+n, measured during simulation')\n",
    "plt.title(\"The number of trajectories reproduces \\nthe originally observed n exactly.\")\n",
    "plt.xlabel('time (ms)')\n",
    "plt.ylabel('n or n+1')\n",
    "plt.legend()\n",
    "plt.show()\n",
    "\n",
    "#test that every row has a nonnegative particle number\n",
    "assert ( (traj.particle>=0).all() )\n",
    "# print ( save_fn ) \n"
   ]
  },
  {
   "cell_type": "markdown",
   "metadata": {},
   "source": [
    "The initial number of tips in `traj` versus `dnaught`"
   ]
  },
  {
   "cell_type": "code",
   "execution_count": 396,
   "metadata": {
    "ExecuteTime": {
     "end_time": "2020-11-06T02:20:42.295875Z",
     "start_time": "2020-11-06T02:20:42.272949Z"
    }
   },
   "outputs": [
    {
     "data": {
      "text/plain": [
       "7"
      ]
     },
     "execution_count": 396,
     "metadata": {},
     "output_type": "execute_result"
    }
   ],
   "source": [
    "(traj.t<500.+0.024).values.sum()"
   ]
  },
  {
   "cell_type": "code",
   "execution_count": 397,
   "metadata": {
    "ExecuteTime": {
     "end_time": "2020-11-06T02:20:43.016134Z",
     "start_time": "2020-11-06T02:20:42.993742Z"
    }
   },
   "outputs": [
    {
     "data": {
      "text/plain": [
       "10"
      ]
     },
     "execution_count": 397,
     "metadata": {},
     "output_type": "execute_result"
    }
   ],
   "source": [
    "(dnaught.t<500.+0.024).values.sum()"
   ]
  },
  {
   "cell_type": "markdown",
   "metadata": {},
   "source": [
    "# this must be done \"manually\" (or with prior methods with \"working\" test cases). \n",
    "- DONE: plot the positions from first two frames in dnaught\n",
    "- TODO: plot their plt.quiver arrows\n",
    "- TODO: manually match the two frames\n",
    "- TODO: compute displacements, plot via plt.quiver in different color\n",
    "- TODO: compute the angles between these values\n",
    "- TODO: repeat ^this for all frames\n",
    "    - Do ^this by repeating the method (approximately)\n",
    "- TODO: visualize the angle between the two colors of arrows using a histogram!\n",
    "    - Do any robust thresholds appear?"
   ]
  },
  {
   "cell_type": "markdown",
   "metadata": {
    "ExecuteTime": {
     "end_time": "2020-11-06T01:43:05.257063Z",
     "start_time": "2020-11-06T01:43:05.228014Z"
    }
   },
   "source": [
    "## quiver plot the positions from first two frames in dnaught\n",
    "- TODO(immediately): look for a solution for tip tracking with periodic boundary conditions"
   ]
  },
  {
   "cell_type": "code",
   "execution_count": 660,
   "metadata": {
    "ExecuteTime": {
     "end_time": "2020-11-06T05:10:44.055206Z",
     "start_time": "2020-11-06T05:10:43.972733Z"
    }
   },
   "outputs": [],
   "source": [
    "# ## practical test case for fast tip detection kernel\n",
    "# file = '/Users/timothytyree/Documents/GitHub/care/notebooks/Data/initial-conditions-suite-1/ic-out/ic_200x200.120.32.npz'\n",
    "# txt = load_buffer(file)\n",
    "# t   = 0. #ms\n",
    "\n",
    "\n",
    "#load ^that loaded initial after 20000 steps = 500 ms at time_steps of size 0.025\n",
    "file = '/Users/timothytyree/Documents/GitHub/care/notebooks/Data/test_txt.npz'\n",
    "txt  = load_buffer(file)\n",
    "t   = 500 #ms\n",
    "\n",
    "V_threshold = 0.4\n",
    "theta_threshold = 0.\n",
    "level1 = V_threshold\n",
    "level2 = 0.0\n",
    "\n",
    "zero_txt = txt.copy()*0.\n",
    "width, height = txt.shape[:2]\n",
    "\n",
    "contours1 = find_contours(img,    level = V_threshold)\n",
    "contours2 = find_contours(dimgdt, level = 0.0)"
   ]
  },
  {
   "cell_type": "code",
   "execution_count": 661,
   "metadata": {
    "ExecuteTime": {
     "end_time": "2020-11-06T05:10:44.957257Z",
     "start_time": "2020-11-06T05:10:44.884622Z"
    }
   },
   "outputs": [],
   "source": [
    "#measure system with cython\n",
    "#compute as discrete flow map dtexture_dt\n",
    "dtxt_dt = zero_txt.copy()\n",
    "get_time_step(txt, dtxt_dt)\n",
    "\n",
    "#compute the images to find isosurfaces of\n",
    "img    = txt[...,0]\n",
    "dimgdt = dtxt_dt[...,0]\n",
    "\n",
    "# find_intersections\n",
    "lst_values_x,lst_values_y,lst_values_theta, lst_values_grad_ux, lst_values_grad_uy, lst_values_grad_vx, lst_values_grad_vy = find_intersections(img,dimgdt,level1,level2)\n",
    "x_values = np.array(lst_values_x)\n",
    "y_values = np.array(lst_values_y)\n",
    "# EP states given by bilinear interpolation with periodic boundary conditions\n",
    "v_lst, f_lst, s_lst = interpolate_states(x_values,y_values,width,height,txt)\n",
    "dvdt_lst, dfdt_lst, dsdt_lst = interpolate_states(x_values,y_values,width,height,dtxt_dt)\n",
    "\n",
    "n_tips = x_values.size\n",
    "dict_out = {\n",
    "    't': float(t),\n",
    "    'n': int(n_tips),\n",
    "    'x': tuple(lst_values_x),\n",
    "    'y': tuple(lst_values_y),\n",
    "    'theta': tuple(lst_values_theta),\n",
    "    'grad_ux': tuple(lst_values_grad_ux),\n",
    "    'grad_uy': tuple(lst_values_grad_uy),\n",
    "    'grad_vx': tuple(lst_values_grad_vx),\n",
    "    'grad_vy': tuple(lst_values_grad_vy),\n",
    "    'v':v_lst,\n",
    "    'f':f_lst,\n",
    "    's':s_lst,\n",
    "    'dvdt':dvdt_lst,\n",
    "    'dfdt':dfdt_lst,\n",
    "    'dsdt':dsdt_lst,\n",
    "}"
   ]
  },
  {
   "cell_type": "code",
   "execution_count": 662,
   "metadata": {
    "ExecuteTime": {
     "end_time": "2020-11-06T05:10:45.762513Z",
     "start_time": "2020-11-06T05:10:45.739336Z"
    }
   },
   "outputs": [
    {
     "data": {
      "text/plain": [
       "12"
      ]
     },
     "execution_count": 662,
     "metadata": {},
     "output_type": "execute_result"
    }
   ],
   "source": [
    "(traj.t<500+2*0.025-0.001).values.sum()"
   ]
  },
  {
   "cell_type": "code",
   "execution_count": 663,
   "metadata": {
    "ExecuteTime": {
     "end_time": "2020-11-06T05:10:46.567499Z",
     "start_time": "2020-11-06T05:10:46.544974Z"
    }
   },
   "outputs": [
    {
     "data": {
      "text/plain": [
       "20"
      ]
     },
     "execution_count": 663,
     "metadata": {},
     "output_type": "execute_result"
    }
   ],
   "source": [
    "(dnaught.t<500+2*0.025-0.001).values.sum()"
   ]
  },
  {
   "cell_type": "code",
   "execution_count": 664,
   "metadata": {
    "ExecuteTime": {
     "end_time": "2020-11-06T05:10:47.675474Z",
     "start_time": "2020-11-06T05:10:47.630201Z"
    }
   },
   "outputs": [
    {
     "data": {
      "text/html": [
       "<div>\n",
       "<style scoped>\n",
       "    .dataframe tbody tr th:only-of-type {\n",
       "        vertical-align: middle;\n",
       "    }\n",
       "\n",
       "    .dataframe tbody tr th {\n",
       "        vertical-align: top;\n",
       "    }\n",
       "\n",
       "    .dataframe thead th {\n",
       "        text-align: right;\n",
       "    }\n",
       "</style>\n",
       "<table border=\"1\" class=\"dataframe\">\n",
       "  <thead>\n",
       "    <tr style=\"text-align: right;\">\n",
       "      <th></th>\n",
       "      <th>t</th>\n",
       "      <th>n</th>\n",
       "      <th>x</th>\n",
       "      <th>y</th>\n",
       "      <th>theta</th>\n",
       "      <th>grad_ux</th>\n",
       "      <th>grad_uy</th>\n",
       "      <th>grad_vx</th>\n",
       "      <th>grad_vy</th>\n",
       "      <th>v</th>\n",
       "      <th>f</th>\n",
       "      <th>s</th>\n",
       "      <th>dvdt</th>\n",
       "      <th>dfdt</th>\n",
       "      <th>dsdt</th>\n",
       "      <th>grad_u_mag</th>\n",
       "      <th>grad_v_mag</th>\n",
       "      <th>theta_comp</th>\n",
       "    </tr>\n",
       "  </thead>\n",
       "  <tbody>\n",
       "    <tr>\n",
       "      <th>0</th>\n",
       "      <td>500.0</td>\n",
       "      <td>10</td>\n",
       "      <td>1.797431</td>\n",
       "      <td>86.755323</td>\n",
       "      <td>1.971812</td>\n",
       "      <td>-0.388966</td>\n",
       "      <td>1.031992</td>\n",
       "      <td>-20.991924</td>\n",
       "      <td>1.446331</td>\n",
       "      <td>0.393947</td>\n",
       "      <td>0.069935</td>\n",
       "      <td>0.806118</td>\n",
       "      <td>0.000158</td>\n",
       "      <td>-0.005367</td>\n",
       "      <td>-0.001008</td>\n",
       "      <td>1.216302</td>\n",
       "      <td>442.752747</td>\n",
       "      <td>1.186414</td>\n",
       "    </tr>\n",
       "    <tr>\n",
       "      <th>1</th>\n",
       "      <td>500.0</td>\n",
       "      <td>10</td>\n",
       "      <td>5.612069</td>\n",
       "      <td>40.878797</td>\n",
       "      <td>2.071288</td>\n",
       "      <td>0.687743</td>\n",
       "      <td>1.046119</td>\n",
       "      <td>-8.996704</td>\n",
       "      <td>2.376151</td>\n",
       "      <td>0.406868</td>\n",
       "      <td>0.001261</td>\n",
       "      <td>0.787299</td>\n",
       "      <td>0.001041</td>\n",
       "      <td>-0.000097</td>\n",
       "      <td>-0.000984</td>\n",
       "      <td>1.567355</td>\n",
       "      <td>86.586776</td>\n",
       "      <td>1.285890</td>\n",
       "    </tr>\n",
       "    <tr>\n",
       "      <th>2</th>\n",
       "      <td>500.0</td>\n",
       "      <td>10</td>\n",
       "      <td>35.278882</td>\n",
       "      <td>151.369661</td>\n",
       "      <td>1.930416</td>\n",
       "      <td>0.858636</td>\n",
       "      <td>1.032637</td>\n",
       "      <td>-1.011235</td>\n",
       "      <td>1.476774</td>\n",
       "      <td>0.398899</td>\n",
       "      <td>0.004692</td>\n",
       "      <td>0.814439</td>\n",
       "      <td>0.000425</td>\n",
       "      <td>-0.000360</td>\n",
       "      <td>-0.001018</td>\n",
       "      <td>1.803595</td>\n",
       "      <td>3.203458</td>\n",
       "      <td>1.145018</td>\n",
       "    </tr>\n",
       "    <tr>\n",
       "      <th>3</th>\n",
       "      <td>500.0</td>\n",
       "      <td>10</td>\n",
       "      <td>40.851780</td>\n",
       "      <td>110.424705</td>\n",
       "      <td>1.833902</td>\n",
       "      <td>0.584281</td>\n",
       "      <td>1.154459</td>\n",
       "      <td>7.221990</td>\n",
       "      <td>-1.295690</td>\n",
       "      <td>0.381903</td>\n",
       "      <td>0.072489</td>\n",
       "      <td>0.852224</td>\n",
       "      <td>-0.002022</td>\n",
       "      <td>-0.005563</td>\n",
       "      <td>-0.001065</td>\n",
       "      <td>1.674160</td>\n",
       "      <td>53.835952</td>\n",
       "      <td>1.048504</td>\n",
       "    </tr>\n",
       "    <tr>\n",
       "      <th>4</th>\n",
       "      <td>500.0</td>\n",
       "      <td>10</td>\n",
       "      <td>54.879738</td>\n",
       "      <td>91.393116</td>\n",
       "      <td>1.697853</td>\n",
       "      <td>1.509588</td>\n",
       "      <td>0.692450</td>\n",
       "      <td>-0.642129</td>\n",
       "      <td>1.973307</td>\n",
       "      <td>0.422004</td>\n",
       "      <td>0.079982</td>\n",
       "      <td>0.810298</td>\n",
       "      <td>0.003837</td>\n",
       "      <td>-0.006138</td>\n",
       "      <td>-0.001013</td>\n",
       "      <td>2.758343</td>\n",
       "      <td>4.306270</td>\n",
       "      <td>0.912455</td>\n",
       "    </tr>\n",
       "  </tbody>\n",
       "</table>\n",
       "</div>"
      ],
      "text/plain": [
       "       t   n          x           y     theta   grad_ux   grad_uy    grad_vx  \\\n",
       "0  500.0  10   1.797431   86.755323  1.971812 -0.388966  1.031992 -20.991924   \n",
       "1  500.0  10   5.612069   40.878797  2.071288  0.687743  1.046119  -8.996704   \n",
       "2  500.0  10  35.278882  151.369661  1.930416  0.858636  1.032637  -1.011235   \n",
       "3  500.0  10  40.851780  110.424705  1.833902  0.584281  1.154459   7.221990   \n",
       "4  500.0  10  54.879738   91.393116  1.697853  1.509588  0.692450  -0.642129   \n",
       "\n",
       "    grad_vy         v         f         s      dvdt      dfdt      dsdt  \\\n",
       "0  1.446331  0.393947  0.069935  0.806118  0.000158 -0.005367 -0.001008   \n",
       "1  2.376151  0.406868  0.001261  0.787299  0.001041 -0.000097 -0.000984   \n",
       "2  1.476774  0.398899  0.004692  0.814439  0.000425 -0.000360 -0.001018   \n",
       "3 -1.295690  0.381903  0.072489  0.852224 -0.002022 -0.005563 -0.001065   \n",
       "4  1.973307  0.422004  0.079982  0.810298  0.003837 -0.006138 -0.001013   \n",
       "\n",
       "   grad_u_mag  grad_v_mag  theta_comp  \n",
       "0    1.216302  442.752747    1.186414  \n",
       "1    1.567355   86.586776    1.285890  \n",
       "2    1.803595    3.203458    1.145018  \n",
       "3    1.674160   53.835952    1.048504  \n",
       "4    2.758343    4.306270    0.912455  "
      ]
     },
     "execution_count": 664,
     "metadata": {},
     "output_type": "execute_result"
    }
   ],
   "source": [
    "dh = dnaught[(dnaught.t<500+2*0.025-0.001).values]\n",
    "dh.head()"
   ]
  },
  {
   "cell_type": "code",
   "execution_count": 665,
   "metadata": {
    "ExecuteTime": {
     "end_time": "2020-11-06T05:10:48.844324Z",
     "start_time": "2020-11-06T05:10:48.818434Z"
    }
   },
   "outputs": [],
   "source": [
    "tmin = dh.t.min()\n",
    "\n",
    "#get the tips from time t and from the next timestep\n",
    "t = t\n",
    "h = 0.025 #ms\n",
    "di = dh[dh.t==t]\n",
    "x_values1 = di.x.values\n",
    "y_values1 = di.y.values\n",
    "\n",
    "#compute any other features desired for visualization\n",
    "grad_ux = di.grad_ux.values\n",
    "grad_uy = di.grad_uy.values\n",
    "grad_vx = di.grad_vx.values\n",
    "grad_vy = di.grad_vy.values\n",
    "c_value1 = di.f\n",
    "\n",
    "di = dh[(dh.t>t) & (dh.t<t+h+0.001)]\n",
    "x_values2 = di.x.values\n",
    "y_values2 = di.y.values\n",
    "#compute any other features desired for visualization\n"
   ]
  },
  {
   "cell_type": "code",
   "execution_count": 679,
   "metadata": {
    "ExecuteTime": {
     "end_time": "2020-11-06T05:15:16.093049Z",
     "start_time": "2020-11-06T05:15:16.069592Z"
    }
   },
   "outputs": [],
   "source": [
    "h = 0.025\n",
    "X  = x_values1\n",
    "Y  = y_values1\n",
    "Xp = x_values2\n",
    "Yp = y_values2\n",
    "\n",
    "#compute the velocities predicted by traj\n",
    "dxdt = (Xp - X)/h\n",
    "dydt = (Yp - Y)/h\n",
    "speed = np.sqrt(dxdt**2 + dydt**2)\n",
    "M = np.sqrt(dxdt**2 + dydt**2)\n",
    "U = dxdt/M\n",
    "V = dydt/M\n",
    "\n",
    "#compute the unit gradient of u that is normal to the segment1\n",
    "Mu = np.sqrt(grad_ux**2 + grad_uy**2)\n",
    "Uu = grad_ux/Mu\n",
    "Vu = grad_uy/Mu\n",
    "\n",
    "#compute the unit gradient of v that is normal to the segment2\n",
    "Mv = np.sqrt(grad_vx**2 + grad_vx**2)\n",
    "Uv = grad_vx/Mv\n",
    "Vv = grad_vy/Mv\n"
   ]
  },
  {
   "cell_type": "code",
   "execution_count": 684,
   "metadata": {
    "ExecuteTime": {
     "end_time": "2020-11-06T05:16:05.942570Z",
     "start_time": "2020-11-06T05:16:05.466102Z"
    }
   },
   "outputs": [
    {
     "data": {
      "image/png": "[encoded data removed]",
      "text/plain": [
       "<Figure size 432x432 with 1 Axes>"
      ]
     },
     "metadata": {},
     "output_type": "display_data"
    }
   ],
   "source": [
    "#TODO: plot these tips with their u's and v's\n",
    "# Display the image and plot all pbc contours found properly!\n",
    "save = False\n",
    "printing = False\n",
    "quiver_kwargs = {'alpha' : 1.,'zorder':100, 'units':'inches'}#, 'scale' : 2.5}\n",
    "\n",
    "fig, ax = plt.subplots(figsize=(6,6))\n",
    "# fig, axs = plt.subplots(ncols = 2, figsize=(8,4))\n",
    "# ax = axs[0]\n",
    "ax.imshow(img, cmap=plt.cm.gray)\n",
    "plot_contours_pbc(contours1, ax, linewidth=2, min_num_vertices=1, linestyle='-')\n",
    "plot_contours_pbc(contours2, ax, linewidth=2, min_num_vertices=1, linestyle='--')\n",
    "# Q = \n",
    "\n",
    "#tips in current frame\n",
    "ax.scatter(x=x_values1, y=y_values1, s=270, c='yellow', marker='*', zorder=3, alpha=1.)\n",
    "\n",
    "#tips in coming frame\n",
    "ax.scatter(x=x_values2, y=y_values2, s=45, c='blue', marker='*', zorder=3, alpha=1.)\n",
    "\n",
    "Q = ax.quiver(X, Y, Uu, Vu, color='red',scale = 2.5, label=r'$\\nabla u$', **quiver_kwargs)#, units='width'\n",
    "# qk = ax.quiverkey(Q, 0.9, 0.9, 2, r'$\\nabla u$', labelpos='E',coordinates='figure')\n",
    "ax.quiver(X, Y, Uv, Vv, color='blue',scale = 2.5,label=r'$\\nabla v$', **quiver_kwargs)#, units='width'\n",
    "ax.quiver(X, Y, U, V, color='green',scale = 2.5, label='disp.', **quiver_kwargs)#, units='width'\n",
    "\n",
    "# fig, ax = plt.subplots()\n",
    "#arrows showing apparent displacement direction\n",
    "# ax.set_title('Arrows scale with plot width, not view')\n",
    "# Q = ax.quiver(X, Y, 100*U, 100*V, alpha = 0.5,label ='apparent disp.', zorder=100, units='inches')#, units='width'\n",
    "# qk = ax.quiverkey(Q, 0.9, 0.9, 2, r'$2 \\frac{m}{s}$', labelpos='E',\n",
    "#                    coordinates='figure')\n",
    "\n",
    "ax.set_title(f\"Number of Tips = {n_tips}\")\n",
    "ax.axis('image')\n",
    "ax.set_xticks([])\n",
    "ax.set_yticks([])\n",
    "# plt.show()\n",
    "plt.legend()\n",
    "\n",
    "\n",
    "if not save:\n",
    "    plt.show()\n",
    "else:\n",
    "    os.chdir(nb_dir)\n",
    "    os.chdir('Figures/methods')\n",
    "    save_fn = f\"tip_displacements_ic_200x200.120.32_t_{t:.3f}_V_{V_threshold}.png\"\n",
    "    plt.savefig(save_fn)\n",
    "    print(f'figure saved in {save_fn}.')\n",
    "if printing:\n",
    "    residuals_x = np.array(sorted(x_values1))-np.array(sorted(x_values2))\n",
    "    print('\\ncomparing the two methods, the x coord of final tips has the following x displacements:')\n",
    "    print(f\"{ *residuals_x, }\")\n",
    "    \n",
    "    residuals_y = np.array(sorted(y_values1))-np.array(sorted(y_values2))\n",
    "    print('\\ncomparing the two methods, the x coord of final tips has the following x displacements:')\n",
    "    print(f\"{ *residuals_y, }\")\n",
    "    \n",
    "    #     print(sorted(lst_values_x))"
   ]
  },
  {
   "cell_type": "code",
   "execution_count": null,
   "metadata": {
    "ExecuteTime": {
     "end_time": "2020-11-06T02:49:12.446374Z",
     "start_time": "2020-11-06T02:48:51.961Z"
    }
   },
   "outputs": [],
   "source": [
    "\n",
    "\n",
    "\n",
    "# fig, ax = plt.subplots()\n",
    "# ax.set_title('Arrows scale with plot width, not view')\n",
    "# Q = ax.quiver(X, Y, U, V, units='width', alpha = 0.5)\n",
    "# # qk = ax.quiverkey(Q, 0.9, 0.9, 2, r'$2 \\frac{m}{s}$', labelpos='E',\n",
    "# #                    coordinates='figure')\n",
    "# plt.show()"
   ]
  },
  {
   "cell_type": "code",
   "execution_count": 408,
   "metadata": {
    "ExecuteTime": {
     "end_time": "2020-11-06T02:22:21.965121Z",
     "start_time": "2020-11-06T02:22:21.941040Z"
    }
   },
   "outputs": [
    {
     "data": {
      "text/plain": [
       "array([ 0.010049, -0.006373, -0.008833, -0.007589,  0.000501,  0.021865,\n",
       "       -0.008886, -0.003107,  0.000946,  0.013254])"
      ]
     },
     "execution_count": 408,
     "metadata": {},
     "output_type": "execute_result"
    }
   ],
   "source": [
    "#TODO: manual tracking automation\n",
    "np.array(sorted(x_values1))-np.array(sorted(x_values2))"
   ]
  },
  {
   "cell_type": "code",
   "execution_count": 685,
   "metadata": {
    "ExecuteTime": {
     "end_time": "2020-11-06T05:16:13.886640Z",
     "start_time": "2020-11-06T05:16:13.856291Z"
    }
   },
   "outputs": [],
   "source": [
    "speed_threshold = 2.\n",
    "h = 0.025\n",
    "\n",
    "#sorted tip coordinates make this an optimizing/improving condition\n",
    "index1_lst = np.argsort(x_values1)\n",
    "index2_lst = np.argsort(x_values2)\n",
    "\n",
    "#sort x_values1,2 with an index map\n",
    "lst_x1 = list(x_values1[index1_lst])\n",
    "lst_y1 = list(y_values1[index1_lst])\n",
    "lst_x2 = list(x_values2[index2_lst])\n",
    "lst_y2 = list(y_values2[index2_lst])\n",
    "\n",
    "lst_matches = []\n",
    "# while lst_x1 is not []:\n",
    "while len(lst_x1)>0:\n",
    "    n_best = -1\n",
    "    x1 = lst_x1.pop()\n",
    "    y1 = lst_y1.pop()\n",
    "    x2 = lst_x2[n_best]\n",
    "    y2 = lst_y2[n_best]\n",
    "    good = True\n",
    "    \n",
    "    #compute indices of the potential match\n",
    "    i1 = int(np.argwhere(x1==x_values1))\n",
    "    j1 = int(np.argwhere(y1==y_values1))\n",
    "    #     i2 = int(np.argwhere(x2==x_values2))\n",
    "    #     j2 = int(np.argwhere(y2==y_values2))\n",
    "    #     assert(i2 is j2)\n",
    "    \n",
    "    ##test if good match.  See conditions below\n",
    "    ##compute instantaneous measures\n",
    "    #compute the speed directly\n",
    "    spd = np.linalg.norm(np.array([[x2-x1],[y2-y1]]))/h\n",
    "    good &= spd<=speed_threshold\n",
    "    \n",
    "    #compute the velocities predicted by traj\n",
    "    # speed = np.sqrt(dxdt**2 + dydt**2) \n",
    "    # speed[i1]\n",
    "    \n",
    "    #compute the unit gradient of u that is normal to the segment1\n",
    "    ux = grad_ux[i1]\n",
    "    uy = grad_uy[i1]\n",
    "    mu = np.sqrt(ux**2 + uy**2)\n",
    "    nux = ux/mu\n",
    "    nuy = uy/mu\n",
    "\n",
    "    #compute the unit gradient of u that is normal to the segment1\n",
    "    vx = grad_vx[i1]\n",
    "    vy = grad_vy[i1]\n",
    "    mv = np.sqrt(vx**2 + vy**2)\n",
    "    nvx = vx/mu\n",
    "    nvy = vy/mu\n",
    "    \n",
    "\n",
    "    \n",
    "    #TODO: compute angle between \n",
    "\n",
    "    #         #compute marker specific data\n",
    "    #     #         x1=lst_x1.pop(i1)\n",
    "    #     #         x2=lst_x2[i1] \n",
    "    #             #plot that marker\n",
    "    #             pass\n",
    "\n",
    "\n",
    "\n",
    "\n",
    "    #         for i2 in np.argsort(x_values2):\n",
    "    #             #         x2=lst_x2[i2]\n",
    "\n",
    "    #             #TODO: if not ^that and previous speed was below a speed_threshold, verify that it has found the nearest match \n",
    "\n",
    "    #             #TODO(later): only do ^this check if \n",
    "\n",
    "    #             #TODO: compute the _pbc_distance between the two points\n",
    "\n",
    "    \n",
    "    if not good:\n",
    "        #check if any other next_tip makes a closer/better match\n",
    "        min_dist = spd # float(np.max((width,height)))\n",
    "        n_better = -1\n",
    "        for n,x2,y2 in enumerate(zip(x_values2,y_values2)): \n",
    "            #find match with smallest distance\n",
    "            spdp = np.linalg.norm(np.array([[x2-x1],[y2-y1]]))/h\n",
    "            boo_better = spdp<spd\n",
    "            \n",
    "            #compute any other conditionals\n",
    "            \n",
    "            if boo_better:\n",
    "                n_better = n\n",
    "                spd = spdp\n",
    "                good = True\n",
    "            #             good &= spd<=speed_threshold\n",
    "            #TODO: compute dist\n",
    "            \n",
    "            #if dist<min_dist:\n",
    "#                 update min_dist and friends with dist and friends\n",
    "#             for if they match spiral tips\n",
    "    if good:\n",
    "        # remove the n_best match\n",
    "        x2 = lst_x2.pop(n_best)\n",
    "        y2 = lst_y2.pop(n_best)\n",
    "        #TODO: record the match with indices i2 == j2\n",
    "        i2 = int(np.argwhere(x2==x_values2))\n",
    "        #         j2 = int(np.argwhere(y2==y_values2))\n",
    "        #         assert(i2 is j2)\n",
    "        lst_matches.append((i1,i2))\n",
    "    else:\n",
    "        pass\n",
    "        #don'trecord the match\n"
   ]
  },
  {
   "cell_type": "code",
   "execution_count": 615,
   "metadata": {
    "ExecuteTime": {
     "end_time": "2020-11-06T04:15:02.518514Z",
     "start_time": "2020-11-06T04:15:02.496873Z"
    }
   },
   "outputs": [],
   "source": [
    "# TODO: seperately record any new tips if they exist\n",
    "if len(lst_y2)>0:\n",
    "    pass\n",
    "    #add new tips as new trajectories.\n",
    "    #record a dict_new_tips at these new tips and their next values\n",
    "    #append dict_new_tips to lst_dict\n"
   ]
  },
  {
   "cell_type": "code",
   "execution_count": 567,
   "metadata": {
    "ExecuteTime": {
     "end_time": "2020-11-06T03:49:55.505676Z",
     "start_time": "2020-11-06T03:49:55.484215Z"
    }
   },
   "outputs": [],
   "source": [
    "#TODO: consider the absense of a tip nearby in the next frame as a damning condition for a \n",
    "#TODO: datascience the list of dict_new_tips.  Try to identify a feature distinguishing bad tips."
   ]
  },
  {
   "cell_type": "code",
   "execution_count": 593,
   "metadata": {
    "ExecuteTime": {
     "end_time": "2020-11-06T04:05:37.150871Z",
     "start_time": "2020-11-06T04:05:37.124032Z"
    }
   },
   "outputs": [
    {
     "name": "stdout",
     "output_type": "stream",
     "text": [
      "172.395224\n",
      "143.92543999999998\n",
      "93.589637\n",
      "91.03904200000001\n",
      "77.87591\n",
      "54.879236999999996\n",
      "40.859369\n",
      "35.287715000000006\n",
      "5.618442\n",
      "1.787382\n"
     ]
    }
   ],
   "source": [
    "speed_threshold = 2.\n",
    "h = 0.025\n",
    "\n",
    "#sorted tip coordinates make this an optimizing/improving condition\n",
    "index1_lst = np.argsort(x_values1)\n",
    "index2_lst = np.argsort(x_values2)\n",
    "\n",
    "#sort x_values1,2 with an index map\n",
    "lst_x1 = list(x_values1[index1_lst])\n",
    "lst_y1 = list(y_values1[index1_lst])\n",
    "lst_x2 = list(x_values2[index2_lst])\n",
    "lst_y2 = list(y_values2[index2_lst])\n",
    "\n",
    "\n",
    "lst_matches = []\n",
    "# while lst_x1 is not []:\n",
    "while len(lst_x1)>0:\n",
    "    n_best = -1\n",
    "    x1 = lst_x1.pop()\n",
    "    y1 = lst_y1.pop()\n",
    "    x2 = lst_x2[n_best]\n",
    "    y2 = lst_y2[n_best]\n",
    "    \n",
    "    # remove the n_best match\n",
    "    x2 = lst_x2.pop(n_best)\n",
    "    y2 = lst_y2.pop(n_best)\n",
    "    print(x2)"
   ]
  },
  {
   "cell_type": "code",
   "execution_count": 582,
   "metadata": {
    "ExecuteTime": {
     "end_time": "2020-11-06T04:03:30.955732Z",
     "start_time": "2020-11-06T04:03:30.926922Z"
    }
   },
   "outputs": [
    {
     "ename": "TypeError",
     "evalue": "remove() takes no keyword arguments",
     "output_type": "error",
     "traceback": [
      "\u001b[0;31m---------------------------------------------------------------------------\u001b[0m",
      "\u001b[0;31mTypeError\u001b[0m                                 Traceback (most recent call last)",
      "\u001b[0;32m<ipython-input-582-1353b2c2d3da>\u001b[0m in \u001b[0;36m<module>\u001b[0;34m\u001b[0m\n\u001b[0;32m----> 1\u001b[0;31m \u001b[0mx2\u001b[0m \u001b[0;34m=\u001b[0m \u001b[0mlst_x2\u001b[0m\u001b[0;34m.\u001b[0m\u001b[0mremove\u001b[0m\u001b[0;34m(\u001b[0m\u001b[0mindex\u001b[0m\u001b[0;34m=\u001b[0m\u001b[0mn_best\u001b[0m\u001b[0;34m)\u001b[0m\u001b[0;34m\u001b[0m\u001b[0;34m\u001b[0m\u001b[0m\n\u001b[0m",
      "\u001b[0;31mTypeError\u001b[0m: remove() takes no keyword arguments"
     ]
    }
   ],
   "source": []
  },
  {
   "cell_type": "code",
   "execution_count": 591,
   "metadata": {
    "ExecuteTime": {
     "end_time": "2020-11-06T04:05:03.453453Z",
     "start_time": "2020-11-06T04:05:03.431373Z"
    }
   },
   "outputs": [
    {
     "data": {
      "text/plain": [
       "5.618442"
      ]
     },
     "execution_count": 591,
     "metadata": {},
     "output_type": "execute_result"
    }
   ],
   "source": [
    "lst_x2.pop(1)#n_best)"
   ]
  },
  {
   "cell_type": "code",
   "execution_count": 616,
   "metadata": {
    "ExecuteTime": {
     "end_time": "2020-11-06T04:16:38.066217Z",
     "start_time": "2020-11-06T04:16:38.042627Z"
    }
   },
   "outputs": [
    {
     "ename": "SyntaxError",
     "evalue": "invalid syntax (<ipython-input-616-9606d5e70034>, line 3)",
     "output_type": "error",
     "traceback": [
      "\u001b[0;36m  File \u001b[0;32m\"<ipython-input-616-9606d5e70034>\"\u001b[0;36m, line \u001b[0;32m3\u001b[0m\n\u001b[0;31m    particle_values1 =\u001b[0m\n\u001b[0m                       ^\u001b[0m\n\u001b[0;31mSyntaxError\u001b[0m\u001b[0;31m:\u001b[0m invalid syntax\n"
     ]
    }
   ],
   "source": [
    "#TODO: work out particle tracking\n",
    "particle_counter = len(lst_x1)\n",
    "particle_values1 = \n",
    "particle_values2 = "
   ]
  },
  {
   "cell_type": "code",
   "execution_count": 598,
   "metadata": {
    "ExecuteTime": {
     "end_time": "2020-11-06T04:07:02.719374Z",
     "start_time": "2020-11-06T04:07:02.696102Z"
    }
   },
   "outputs": [
    {
     "name": "stdout",
     "output_type": "stream",
     "text": [
      "9\n",
      "9\n"
     ]
    }
   ],
   "source": [
    "print(i2)\n",
    "print(j2)\n",
    "assert(i2 is j2)"
   ]
  },
  {
   "cell_type": "markdown",
   "metadata": {},
   "source": [
    "# __TODO(time permitting): see old tracking routine using pbc enforcing distance__\n",
    "__TODO(time permitting): see old tracking routine using pbc enforcing distance__\n"
   ]
  },
  {
   "cell_type": "code",
   "execution_count": 618,
   "metadata": {
    "ExecuteTime": {
     "end_time": "2020-11-06T04:48:47.257516Z",
     "start_time": "2020-11-06T04:48:47.236189Z"
    }
   },
   "outputs": [],
   "source": [
    "# __TODO(time permitting): see old tracking routine using pbc enforcing distance__\n"
   ]
  },
  {
   "cell_type": "markdown",
   "metadata": {},
   "source": [
    "# track tips using periodic boundary conditions"
   ]
  },
  {
   "cell_type": "code",
   "execution_count": 722,
   "metadata": {
    "ExecuteTime": {
     "end_time": "2020-11-06T05:36:25.879360Z",
     "start_time": "2020-11-06T05:36:25.858134Z"
    }
   },
   "outputs": [],
   "source": [
    "# df_dir = '/Users/timothytyree/Documents/GitHub/care/notebooks/Data/ds_5_param_set_8/Log/tip_log_ds_5_sigma_1.5_threshold_0.9_processed.csv'\n",
    "# import sklearn\n",
    "# df_dir = data_dir\n",
    "# print(data_dir)\n",
    "# df = pd.read_csv(df_dir)\n",
    "\n",
    "df = dg"
   ]
  },
  {
   "cell_type": "code",
   "execution_count": 723,
   "metadata": {
    "ExecuteTime": {
     "end_time": "2020-11-06T05:36:57.478256Z",
     "start_time": "2020-11-06T05:36:27.485015Z"
    }
   },
   "outputs": [],
   "source": [
    "# #assign each time a unique frame number\n",
    "# t_list =  sorted(set(df.t.values))\n",
    "# frameno_list = list(range(len(t_list)))\n",
    "# df['frame'] = -9999\n",
    "# for frameno, t in zip(frameno_list,t_list):\n",
    "#     df.loc[df.t==t, 'frame'] = frameno\n",
    "# #assert that all entries were given a value\n",
    "# assert ( not (df.frame<0).any() )"
   ]
  },
  {
   "cell_type": "code",
   "execution_count": 725,
   "metadata": {
    "ExecuteTime": {
     "end_time": "2020-11-06T05:36:58.898552Z",
     "start_time": "2020-11-06T05:36:58.865353Z"
    }
   },
   "outputs": [
    {
     "data": {
      "text/html": [
       "<div>\n",
       "<style scoped>\n",
       "    .dataframe tbody tr th:only-of-type {\n",
       "        vertical-align: middle;\n",
       "    }\n",
       "\n",
       "    .dataframe tbody tr th {\n",
       "        vertical-align: top;\n",
       "    }\n",
       "\n",
       "    .dataframe thead th {\n",
       "        text-align: right;\n",
       "    }\n",
       "</style>\n",
       "<table border=\"1\" class=\"dataframe\">\n",
       "  <thead>\n",
       "    <tr style=\"text-align: right;\">\n",
       "      <th></th>\n",
       "      <th>t</th>\n",
       "      <th>n</th>\n",
       "      <th>x</th>\n",
       "      <th>y</th>\n",
       "      <th>theta</th>\n",
       "      <th>grad_ux</th>\n",
       "      <th>grad_uy</th>\n",
       "      <th>grad_vx</th>\n",
       "      <th>grad_vy</th>\n",
       "      <th>v</th>\n",
       "      <th>f</th>\n",
       "      <th>s</th>\n",
       "      <th>dvdt</th>\n",
       "      <th>dfdt</th>\n",
       "      <th>dsdt</th>\n",
       "      <th>grad_u_mag</th>\n",
       "      <th>grad_v_mag</th>\n",
       "      <th>theta_comp</th>\n",
       "      <th>frame</th>\n",
       "    </tr>\n",
       "  </thead>\n",
       "  <tbody>\n",
       "    <tr>\n",
       "      <th>0</th>\n",
       "      <td>500.0</td>\n",
       "      <td>10</td>\n",
       "      <td>1.797431</td>\n",
       "      <td>86.755323</td>\n",
       "      <td>1.971812</td>\n",
       "      <td>-0.388966</td>\n",
       "      <td>1.031992</td>\n",
       "      <td>-20.991924</td>\n",
       "      <td>1.446331</td>\n",
       "      <td>0.393947</td>\n",
       "      <td>0.069935</td>\n",
       "      <td>0.806118</td>\n",
       "      <td>0.000158</td>\n",
       "      <td>-0.005367</td>\n",
       "      <td>-0.001008</td>\n",
       "      <td>1.216302</td>\n",
       "      <td>442.752747</td>\n",
       "      <td>1.186414</td>\n",
       "      <td>0</td>\n",
       "    </tr>\n",
       "    <tr>\n",
       "      <th>3</th>\n",
       "      <td>500.0</td>\n",
       "      <td>10</td>\n",
       "      <td>40.851780</td>\n",
       "      <td>110.424705</td>\n",
       "      <td>1.833902</td>\n",
       "      <td>0.584281</td>\n",
       "      <td>1.154459</td>\n",
       "      <td>7.221990</td>\n",
       "      <td>-1.295690</td>\n",
       "      <td>0.381903</td>\n",
       "      <td>0.072489</td>\n",
       "      <td>0.852224</td>\n",
       "      <td>-0.002022</td>\n",
       "      <td>-0.005563</td>\n",
       "      <td>-0.001065</td>\n",
       "      <td>1.674160</td>\n",
       "      <td>53.835952</td>\n",
       "      <td>1.048504</td>\n",
       "      <td>0</td>\n",
       "    </tr>\n",
       "    <tr>\n",
       "      <th>4</th>\n",
       "      <td>500.0</td>\n",
       "      <td>10</td>\n",
       "      <td>54.879738</td>\n",
       "      <td>91.393116</td>\n",
       "      <td>1.697853</td>\n",
       "      <td>1.509588</td>\n",
       "      <td>0.692450</td>\n",
       "      <td>-0.642129</td>\n",
       "      <td>1.973307</td>\n",
       "      <td>0.422004</td>\n",
       "      <td>0.079982</td>\n",
       "      <td>0.810298</td>\n",
       "      <td>0.003837</td>\n",
       "      <td>-0.006138</td>\n",
       "      <td>-0.001013</td>\n",
       "      <td>2.758343</td>\n",
       "      <td>4.306270</td>\n",
       "      <td>0.912455</td>\n",
       "      <td>0</td>\n",
       "    </tr>\n",
       "    <tr>\n",
       "      <th>6</th>\n",
       "      <td>500.0</td>\n",
       "      <td>10</td>\n",
       "      <td>91.030156</td>\n",
       "      <td>65.441517</td>\n",
       "      <td>1.860444</td>\n",
       "      <td>0.631821</td>\n",
       "      <td>1.511874</td>\n",
       "      <td>5.967334</td>\n",
       "      <td>-5.892677</td>\n",
       "      <td>0.389288</td>\n",
       "      <td>0.099321</td>\n",
       "      <td>0.852280</td>\n",
       "      <td>0.003154</td>\n",
       "      <td>-0.007623</td>\n",
       "      <td>-0.001065</td>\n",
       "      <td>2.684961</td>\n",
       "      <td>70.332717</td>\n",
       "      <td>1.075046</td>\n",
       "      <td>0</td>\n",
       "    </tr>\n",
       "    <tr>\n",
       "      <th>7</th>\n",
       "      <td>500.0</td>\n",
       "      <td>10</td>\n",
       "      <td>93.586530</td>\n",
       "      <td>78.484654</td>\n",
       "      <td>1.590592</td>\n",
       "      <td>3.856218</td>\n",
       "      <td>-2.395161</td>\n",
       "      <td>0.761045</td>\n",
       "      <td>1.281898</td>\n",
       "      <td>0.386417</td>\n",
       "      <td>0.010750</td>\n",
       "      <td>0.792977</td>\n",
       "      <td>0.000252</td>\n",
       "      <td>-0.000825</td>\n",
       "      <td>-0.000991</td>\n",
       "      <td>20.607213</td>\n",
       "      <td>2.222452</td>\n",
       "      <td>0.805194</td>\n",
       "      <td>0</td>\n",
       "    </tr>\n",
       "  </tbody>\n",
       "</table>\n",
       "</div>"
      ],
      "text/plain": [
       "       t   n          x           y     theta   grad_ux   grad_uy    grad_vx  \\\n",
       "0  500.0  10   1.797431   86.755323  1.971812 -0.388966  1.031992 -20.991924   \n",
       "3  500.0  10  40.851780  110.424705  1.833902  0.584281  1.154459   7.221990   \n",
       "4  500.0  10  54.879738   91.393116  1.697853  1.509588  0.692450  -0.642129   \n",
       "6  500.0  10  91.030156   65.441517  1.860444  0.631821  1.511874   5.967334   \n",
       "7  500.0  10  93.586530   78.484654  1.590592  3.856218 -2.395161   0.761045   \n",
       "\n",
       "    grad_vy         v         f         s      dvdt      dfdt      dsdt  \\\n",
       "0  1.446331  0.393947  0.069935  0.806118  0.000158 -0.005367 -0.001008   \n",
       "3 -1.295690  0.381903  0.072489  0.852224 -0.002022 -0.005563 -0.001065   \n",
       "4  1.973307  0.422004  0.079982  0.810298  0.003837 -0.006138 -0.001013   \n",
       "6 -5.892677  0.389288  0.099321  0.852280  0.003154 -0.007623 -0.001065   \n",
       "7  1.281898  0.386417  0.010750  0.792977  0.000252 -0.000825 -0.000991   \n",
       "\n",
       "   grad_u_mag  grad_v_mag  theta_comp  frame  \n",
       "0    1.216302  442.752747    1.186414      0  \n",
       "3    1.674160   53.835952    1.048504      0  \n",
       "4    2.758343    4.306270    0.912455      0  \n",
       "6    2.684961   70.332717    1.075046      0  \n",
       "7   20.607213    2.222452    0.805194      0  "
      ]
     },
     "execution_count": 725,
     "metadata": {},
     "output_type": "execute_result"
    }
   ],
   "source": [
    "# np.mean(spd)*h\n",
    "df.head()"
   ]
  },
  {
   "cell_type": "code",
   "execution_count": 749,
   "metadata": {
    "ExecuteTime": {
     "end_time": "2020-11-06T05:41:21.003485Z",
     "start_time": "2020-11-06T05:41:20.977962Z"
    }
   },
   "outputs": [],
   "source": [
    "#find the first odd tip\n",
    "ntips_series = df.groupby('frame').frame.count()\n",
    "(ntips_series.values%2==1).any()\n",
    "frm_first_odd_tip = ntips_series[(ntips_series.values%2==1)].index[0]"
   ]
  },
  {
   "cell_type": "code",
   "execution_count": 750,
   "metadata": {
    "ExecuteTime": {
     "end_time": "2020-11-06T05:41:21.780931Z",
     "start_time": "2020-11-06T05:41:21.746311Z"
    }
   },
   "outputs": [
    {
     "data": {
      "text/html": [
       "<div>\n",
       "<style scoped>\n",
       "    .dataframe tbody tr th:only-of-type {\n",
       "        vertical-align: middle;\n",
       "    }\n",
       "\n",
       "    .dataframe tbody tr th {\n",
       "        vertical-align: top;\n",
       "    }\n",
       "\n",
       "    .dataframe thead th {\n",
       "        text-align: right;\n",
       "    }\n",
       "</style>\n",
       "<table border=\"1\" class=\"dataframe\">\n",
       "  <thead>\n",
       "    <tr style=\"text-align: right;\">\n",
       "      <th></th>\n",
       "      <th>t</th>\n",
       "      <th>n</th>\n",
       "      <th>x</th>\n",
       "      <th>y</th>\n",
       "      <th>theta</th>\n",
       "      <th>grad_ux</th>\n",
       "      <th>grad_uy</th>\n",
       "      <th>grad_vx</th>\n",
       "      <th>grad_vy</th>\n",
       "      <th>v</th>\n",
       "      <th>f</th>\n",
       "      <th>s</th>\n",
       "      <th>dvdt</th>\n",
       "      <th>dfdt</th>\n",
       "      <th>dsdt</th>\n",
       "      <th>grad_u_mag</th>\n",
       "      <th>grad_v_mag</th>\n",
       "      <th>theta_comp</th>\n",
       "      <th>frame</th>\n",
       "    </tr>\n",
       "  </thead>\n",
       "  <tbody>\n",
       "    <tr>\n",
       "      <th>150</th>\n",
       "      <td>500.375</td>\n",
       "      <td>10</td>\n",
       "      <td>1.645408</td>\n",
       "      <td>86.699291</td>\n",
       "      <td>1.970774</td>\n",
       "      <td>-0.375128</td>\n",
       "      <td>1.031675</td>\n",
       "      <td>-17.331507</td>\n",
       "      <td>1.339212</td>\n",
       "      <td>0.407851</td>\n",
       "      <td>0.076418</td>\n",
       "      <td>0.810414</td>\n",
       "      <td>-0.000229</td>\n",
       "      <td>-0.005865</td>\n",
       "      <td>-0.001013</td>\n",
       "      <td>1.205074</td>\n",
       "      <td>302.174624</td>\n",
       "      <td>1.185376</td>\n",
       "      <td>15</td>\n",
       "    </tr>\n",
       "    <tr>\n",
       "      <th>153</th>\n",
       "      <td>500.375</td>\n",
       "      <td>10</td>\n",
       "      <td>40.961809</td>\n",
       "      <td>110.370310</td>\n",
       "      <td>1.730963</td>\n",
       "      <td>0.566021</td>\n",
       "      <td>1.161240</td>\n",
       "      <td>6.563957</td>\n",
       "      <td>-1.062471</td>\n",
       "      <td>0.373692</td>\n",
       "      <td>0.069049</td>\n",
       "      <td>0.851793</td>\n",
       "      <td>-0.002741</td>\n",
       "      <td>-0.005299</td>\n",
       "      <td>-0.001065</td>\n",
       "      <td>1.668858</td>\n",
       "      <td>44.214376</td>\n",
       "      <td>0.945565</td>\n",
       "      <td>15</td>\n",
       "    </tr>\n",
       "    <tr>\n",
       "      <th>154</th>\n",
       "      <td>500.375</td>\n",
       "      <td>10</td>\n",
       "      <td>54.872547</td>\n",
       "      <td>91.409871</td>\n",
       "      <td>1.688424</td>\n",
       "      <td>1.551911</td>\n",
       "      <td>0.666842</td>\n",
       "      <td>-0.596187</td>\n",
       "      <td>1.945707</td>\n",
       "      <td>0.422239</td>\n",
       "      <td>0.077439</td>\n",
       "      <td>0.809770</td>\n",
       "      <td>0.003600</td>\n",
       "      <td>-0.005943</td>\n",
       "      <td>-0.001012</td>\n",
       "      <td>2.853106</td>\n",
       "      <td>4.141215</td>\n",
       "      <td>0.903026</td>\n",
       "      <td>15</td>\n",
       "    </tr>\n",
       "    <tr>\n",
       "      <th>156</th>\n",
       "      <td>500.375</td>\n",
       "      <td>10</td>\n",
       "      <td>91.163789</td>\n",
       "      <td>65.381970</td>\n",
       "      <td>1.919325</td>\n",
       "      <td>0.674545</td>\n",
       "      <td>1.452448</td>\n",
       "      <td>5.919637</td>\n",
       "      <td>-5.840799</td>\n",
       "      <td>0.395027</td>\n",
       "      <td>0.093010</td>\n",
       "      <td>0.850999</td>\n",
       "      <td>0.001697</td>\n",
       "      <td>-0.007138</td>\n",
       "      <td>-0.001064</td>\n",
       "      <td>2.564616</td>\n",
       "      <td>69.157035</td>\n",
       "      <td>1.133927</td>\n",
       "      <td>15</td>\n",
       "    </tr>\n",
       "    <tr>\n",
       "      <th>157</th>\n",
       "      <td>500.375</td>\n",
       "      <td>10</td>\n",
       "      <td>93.633129</td>\n",
       "      <td>78.562353</td>\n",
       "      <td>1.591943</td>\n",
       "      <td>3.701176</td>\n",
       "      <td>-2.210451</td>\n",
       "      <td>0.741635</td>\n",
       "      <td>1.304451</td>\n",
       "      <td>0.390479</td>\n",
       "      <td>0.010189</td>\n",
       "      <td>0.791651</td>\n",
       "      <td>0.000198</td>\n",
       "      <td>-0.000782</td>\n",
       "      <td>-0.000990</td>\n",
       "      <td>18.584797</td>\n",
       "      <td>2.251615</td>\n",
       "      <td>0.806545</td>\n",
       "      <td>15</td>\n",
       "    </tr>\n",
       "    <tr>\n",
       "      <th>158</th>\n",
       "      <td>500.375</td>\n",
       "      <td>10</td>\n",
       "      <td>143.910919</td>\n",
       "      <td>144.458976</td>\n",
       "      <td>1.232888</td>\n",
       "      <td>1.653136</td>\n",
       "      <td>0.352289</td>\n",
       "      <td>0.212213</td>\n",
       "      <td>1.779244</td>\n",
       "      <td>0.376770</td>\n",
       "      <td>0.142497</td>\n",
       "      <td>0.872611</td>\n",
       "      <td>0.002876</td>\n",
       "      <td>-0.010936</td>\n",
       "      <td>-0.001091</td>\n",
       "      <td>2.856966</td>\n",
       "      <td>3.210744</td>\n",
       "      <td>0.447490</td>\n",
       "      <td>15</td>\n",
       "    </tr>\n",
       "    <tr>\n",
       "      <th>159</th>\n",
       "      <td>500.375</td>\n",
       "      <td>10</td>\n",
       "      <td>172.206696</td>\n",
       "      <td>40.784039</td>\n",
       "      <td>2.034810</td>\n",
       "      <td>-0.035308</td>\n",
       "      <td>5.391066</td>\n",
       "      <td>1.671114</td>\n",
       "      <td>-1.843379</td>\n",
       "      <td>0.479536</td>\n",
       "      <td>0.043113</td>\n",
       "      <td>0.821281</td>\n",
       "      <td>-0.002813</td>\n",
       "      <td>-0.003309</td>\n",
       "      <td>-0.001027</td>\n",
       "      <td>29.064839</td>\n",
       "      <td>6.190668</td>\n",
       "      <td>1.249412</td>\n",
       "      <td>15</td>\n",
       "    </tr>\n",
       "  </tbody>\n",
       "</table>\n",
       "</div>"
      ],
      "text/plain": [
       "           t   n           x           y     theta   grad_ux   grad_uy  \\\n",
       "150  500.375  10    1.645408   86.699291  1.970774 -0.375128  1.031675   \n",
       "153  500.375  10   40.961809  110.370310  1.730963  0.566021  1.161240   \n",
       "154  500.375  10   54.872547   91.409871  1.688424  1.551911  0.666842   \n",
       "156  500.375  10   91.163789   65.381970  1.919325  0.674545  1.452448   \n",
       "157  500.375  10   93.633129   78.562353  1.591943  3.701176 -2.210451   \n",
       "158  500.375  10  143.910919  144.458976  1.232888  1.653136  0.352289   \n",
       "159  500.375  10  172.206696   40.784039  2.034810 -0.035308  5.391066   \n",
       "\n",
       "       grad_vx   grad_vy         v         f         s      dvdt      dfdt  \\\n",
       "150 -17.331507  1.339212  0.407851  0.076418  0.810414 -0.000229 -0.005865   \n",
       "153   6.563957 -1.062471  0.373692  0.069049  0.851793 -0.002741 -0.005299   \n",
       "154  -0.596187  1.945707  0.422239  0.077439  0.809770  0.003600 -0.005943   \n",
       "156   5.919637 -5.840799  0.395027  0.093010  0.850999  0.001697 -0.007138   \n",
       "157   0.741635  1.304451  0.390479  0.010189  0.791651  0.000198 -0.000782   \n",
       "158   0.212213  1.779244  0.376770  0.142497  0.872611  0.002876 -0.010936   \n",
       "159   1.671114 -1.843379  0.479536  0.043113  0.821281 -0.002813 -0.003309   \n",
       "\n",
       "         dsdt  grad_u_mag  grad_v_mag  theta_comp  frame  \n",
       "150 -0.001013    1.205074  302.174624    1.185376     15  \n",
       "153 -0.001065    1.668858   44.214376    0.945565     15  \n",
       "154 -0.001012    2.853106    4.141215    0.903026     15  \n",
       "156 -0.001064    2.564616   69.157035    1.133927     15  \n",
       "157 -0.000990   18.584797    2.251615    0.806545     15  \n",
       "158 -0.001091    2.856966    3.210744    0.447490     15  \n",
       "159 -0.001027   29.064839    6.190668    1.249412     15  "
      ]
     },
     "execution_count": 750,
     "metadata": {},
     "output_type": "execute_result"
    }
   ],
   "source": [
    "df.loc[df.frame==frm_first_odd_tip]"
   ]
  },
  {
   "cell_type": "code",
   "execution_count": 751,
   "metadata": {
    "ExecuteTime": {
     "end_time": "2020-11-06T05:41:55.519577Z",
     "start_time": "2020-11-06T05:41:55.482743Z"
    }
   },
   "outputs": [
    {
     "ename": "AttributeError",
     "evalue": "'DataFrame' object has no attribute 'frame'",
     "output_type": "error",
     "traceback": [
      "\u001b[0;31m---------------------------------------------------------------------------\u001b[0m",
      "\u001b[0;31mAttributeError\u001b[0m                            Traceback (most recent call last)",
      "\u001b[0;32m<ipython-input-751-7033031e1c1b>\u001b[0m in \u001b[0;36m<module>\u001b[0;34m\u001b[0m\n\u001b[0;32m----> 1\u001b[0;31m \u001b[0mdnaught\u001b[0m\u001b[0;34m.\u001b[0m\u001b[0mloc\u001b[0m\u001b[0;34m[\u001b[0m\u001b[0mdnaught\u001b[0m\u001b[0;34m.\u001b[0m\u001b[0mframe\u001b[0m\u001b[0;34m==\u001b[0m\u001b[0mfrm_first_odd_tip\u001b[0m\u001b[0;34m]\u001b[0m\u001b[0;34m\u001b[0m\u001b[0;34m\u001b[0m\u001b[0m\n\u001b[0m",
      "\u001b[0;32m/usr/local/lib/python3.8/site-packages/pandas/core/generic.py\u001b[0m in \u001b[0;36m__getattr__\u001b[0;34m(self, name)\u001b[0m\n\u001b[1;32m   5272\u001b[0m             \u001b[0;32mif\u001b[0m \u001b[0mself\u001b[0m\u001b[0;34m.\u001b[0m\u001b[0m_info_axis\u001b[0m\u001b[0;34m.\u001b[0m\u001b[0m_can_hold_identifiers_and_holds_name\u001b[0m\u001b[0;34m(\u001b[0m\u001b[0mname\u001b[0m\u001b[0;34m)\u001b[0m\u001b[0;34m:\u001b[0m\u001b[0;34m\u001b[0m\u001b[0;34m\u001b[0m\u001b[0m\n\u001b[1;32m   5273\u001b[0m                 \u001b[0;32mreturn\u001b[0m \u001b[0mself\u001b[0m\u001b[0;34m[\u001b[0m\u001b[0mname\u001b[0m\u001b[0;34m]\u001b[0m\u001b[0;34m\u001b[0m\u001b[0;34m\u001b[0m\u001b[0m\n\u001b[0;32m-> 5274\u001b[0;31m             \u001b[0;32mreturn\u001b[0m \u001b[0mobject\u001b[0m\u001b[0;34m.\u001b[0m\u001b[0m__getattribute__\u001b[0m\u001b[0;34m(\u001b[0m\u001b[0mself\u001b[0m\u001b[0;34m,\u001b[0m \u001b[0mname\u001b[0m\u001b[0;34m)\u001b[0m\u001b[0;34m\u001b[0m\u001b[0;34m\u001b[0m\u001b[0m\n\u001b[0m\u001b[1;32m   5275\u001b[0m \u001b[0;34m\u001b[0m\u001b[0m\n\u001b[1;32m   5276\u001b[0m     \u001b[0;32mdef\u001b[0m \u001b[0m__setattr__\u001b[0m\u001b[0;34m(\u001b[0m\u001b[0mself\u001b[0m\u001b[0;34m,\u001b[0m \u001b[0mname\u001b[0m\u001b[0;34m:\u001b[0m \u001b[0mstr\u001b[0m\u001b[0;34m,\u001b[0m \u001b[0mvalue\u001b[0m\u001b[0;34m)\u001b[0m \u001b[0;34m->\u001b[0m \u001b[0;32mNone\u001b[0m\u001b[0;34m:\u001b[0m\u001b[0;34m\u001b[0m\u001b[0;34m\u001b[0m\u001b[0m\n",
      "\u001b[0;31mAttributeError\u001b[0m: 'DataFrame' object has no attribute 'frame'"
     ]
    }
   ],
   "source": [
    "dnaught.loc[dnaught.frame==frm_first_odd_tip]"
   ]
  },
  {
   "cell_type": "code",
   "execution_count": 755,
   "metadata": {
    "ExecuteTime": {
     "end_time": "2020-11-06T06:08:52.982909Z",
     "start_time": "2020-11-06T06:07:19.554758Z"
    }
   },
   "outputs": [
    {
     "name": "stdout",
     "output_type": "stream",
     "text": [
      "Frame 20000: 12 trajectories present.\n"
     ]
    },
    {
     "data": {
      "text/plain": [
       "0"
      ]
     },
     "execution_count": 755,
     "metadata": {},
     "output_type": "execute_result"
    }
   ],
   "source": [
    "# h = 0.007\n",
    "mem = 2\n",
    "sr  = 400#consider all tip pairs\n",
    "width, height = txt.shape[:2]\n",
    "distance_L2_pbc = get_distance_L2_pbc(width,height)\n",
    "\n",
    "link_kwargs = {\n",
    "    'neighbor_strategy' : 'BTree',\n",
    "    'adaptive_step':0.5,\n",
    "    'adaptive_stop': 1e-5,\n",
    "    'dist_func'         : distance_L2_pbc,\n",
    "    'memory': mem,\n",
    "    'search_range':sr\n",
    "}\n",
    "\n",
    "# df['frame'] = np.around(df['t']/h)\n",
    "# df = df.astype(dtype={'frame':int}).copy()\n",
    "traj = trackpy.link_df(\n",
    "    f=df,t_column='frame',**link_kwargs)\n",
    "\n",
    "beep(1)"
   ]
  },
  {
   "cell_type": "code",
   "execution_count": 756,
   "metadata": {
    "ExecuteTime": {
     "end_time": "2020-11-06T06:08:59.919277Z",
     "start_time": "2020-11-06T06:08:59.892841Z"
    }
   },
   "outputs": [],
   "source": [
    "#TODO: check that n is reproduced by the number of x in the trajectory file. as of now it doesn't :(\n",
    "# traj.query('t==555').t\n",
    "# df['frame']\n",
    "data_folder = \"/Users/timothytyree/Documents/GitHub/care/notebooks/Data/\"\n",
    "save_fn = os.path.join(data_folder,'test_trajectories.csv')\n",
    "# input_file_dir.replace(f'_traj_sr_{sr}_mem_{mem}.csv')"
   ]
  },
  {
   "cell_type": "code",
   "execution_count": null,
   "metadata": {
    "ExecuteTime": {
     "end_time": "2020-11-06T05:25:37.897457Z",
     "start_time": "2020-11-06T05:25:37.875252Z"
    }
   },
   "outputs": [],
   "source": []
  },
  {
   "cell_type": "code",
   "execution_count": 757,
   "metadata": {
    "ExecuteTime": {
     "end_time": "2020-11-06T06:09:05.212945Z",
     "start_time": "2020-11-06T06:09:05.187101Z"
    }
   },
   "outputs": [
    {
     "name": "stdout",
     "output_type": "stream",
     "text": [
      "/Users/timothytyree/Documents/GitHub/care/notebooks/Data/test_trajectories.csv\n"
     ]
    }
   ],
   "source": [
    "# save_fn = os.path.basename(df_dir).replace('_processed.csv', \n",
    "print(save_fn)"
   ]
  },
  {
   "cell_type": "code",
   "execution_count": 758,
   "metadata": {
    "ExecuteTime": {
     "end_time": "2020-11-06T06:09:14.990487Z",
     "start_time": "2020-11-06T06:09:10.189325Z"
    }
   },
   "outputs": [
    {
     "name": "stdout",
     "output_type": "stream",
     "text": [
      "/Users/timothytyree/Documents/GitHub/care/notebooks/Data/test_trajectories.csv\n"
     ]
    }
   ],
   "source": [
    "traj.to_csv(save_fn, index=False)\n",
    "print (save_fn)"
   ]
  },
  {
   "cell_type": "code",
   "execution_count": 759,
   "metadata": {
    "ExecuteTime": {
     "end_time": "2020-11-06T06:09:17.883690Z",
     "start_time": "2020-11-06T06:09:17.544452Z"
    }
   },
   "outputs": [
    {
     "data": {
      "image/png": "[encoded data removed]",
      "text/plain": [
       "<Figure size 432x288 with 1 Axes>"
      ]
     },
     "metadata": {
      "needs_background": "light"
     },
     "output_type": "display_data"
    }
   ],
   "source": [
    "#plot spiral tip number versus time\n",
    "# df = traj.copy()\n",
    "#compute the number of spiral tips in each time frame\n",
    "# df.groupby('t').describe().head()\n",
    "n_series = traj['t'].value_counts().sort_index()\n",
    "# plot tip number versus time for long-lived trajectories\n",
    "x_values = n_series.index.values\n",
    "y_values = n_series.values\n",
    "plt.plot(x_values,y_values, label='n, number of trajectories (raw)')\n",
    "\n",
    "# plot tip number versus time for all trajectories\n",
    "t_values = df.t.values\n",
    "n_values = df.n.values\n",
    "plt.plot(t_values, n_values+1, alpha=0.5, label='1+n, measured during simulation')\n",
    "plt.title(\"The number of trajectories reproduces \\nthe originally observed n exactly.\")\n",
    "plt.xlabel('time (ms)')\n",
    "plt.ylabel('n or n+1')\n",
    "plt.legend()\n",
    "plt.show()"
   ]
  },
  {
   "cell_type": "code",
   "execution_count": 269,
   "metadata": {
    "ExecuteTime": {
     "end_time": "2020-08-12T00:46:24.589621Z",
     "start_time": "2020-08-12T00:46:24.567146Z"
    }
   },
   "outputs": [
    {
     "name": "stdout",
     "output_type": "stream",
     "text": [
      "tip_log_ds_5_sigma_1.5_threshold_0.6_006_traj_sr_40_mem_2.csv\n"
     ]
    }
   ],
   "source": [
    "#test that every row has a nonnegative particle number\n",
    "assert ( (traj.particle>=0).all() )\n",
    "print ( save_fn ) "
   ]
  },
  {
   "cell_type": "markdown",
   "metadata": {},
   "source": [
    "# TODO: for each trajectory visualize \n",
    "- line/scatter/errorbar plot MSD versus lag\n",
    "- the histogram of angle between the three quiver arrows\n",
    "- (later) fresh birth-death rates\n",
    "- line plots of EP state evolution\n",
    "    - do bad new tips follow a pattern?"
   ]
  },
  {
   "cell_type": "code",
   "execution_count": 761,
   "metadata": {
    "ExecuteTime": {
     "end_time": "2020-11-06T06:11:03.821788Z",
     "start_time": "2020-11-06T06:11:03.779577Z"
    }
   },
   "outputs": [
    {
     "data": {
      "text/html": [
       "<div>\n",
       "<style scoped>\n",
       "    .dataframe tbody tr th:only-of-type {\n",
       "        vertical-align: middle;\n",
       "    }\n",
       "\n",
       "    .dataframe tbody tr th {\n",
       "        vertical-align: top;\n",
       "    }\n",
       "\n",
       "    .dataframe thead th {\n",
       "        text-align: right;\n",
       "    }\n",
       "</style>\n",
       "<table border=\"1\" class=\"dataframe\">\n",
       "  <thead>\n",
       "    <tr style=\"text-align: right;\">\n",
       "      <th></th>\n",
       "      <th>t</th>\n",
       "      <th>n</th>\n",
       "      <th>x</th>\n",
       "      <th>y</th>\n",
       "      <th>theta</th>\n",
       "      <th>grad_ux</th>\n",
       "      <th>grad_uy</th>\n",
       "      <th>grad_vx</th>\n",
       "      <th>grad_vy</th>\n",
       "      <th>v</th>\n",
       "      <th>f</th>\n",
       "      <th>s</th>\n",
       "      <th>dvdt</th>\n",
       "      <th>dfdt</th>\n",
       "      <th>dsdt</th>\n",
       "      <th>grad_u_mag</th>\n",
       "      <th>grad_v_mag</th>\n",
       "      <th>theta_comp</th>\n",
       "      <th>frame</th>\n",
       "      <th>particle</th>\n",
       "    </tr>\n",
       "  </thead>\n",
       "  <tbody>\n",
       "    <tr>\n",
       "      <th>0</th>\n",
       "      <td>500.0</td>\n",
       "      <td>10</td>\n",
       "      <td>1.797431</td>\n",
       "      <td>86.755323</td>\n",
       "      <td>1.971812</td>\n",
       "      <td>-0.388966</td>\n",
       "      <td>1.031992</td>\n",
       "      <td>-20.991924</td>\n",
       "      <td>1.446331</td>\n",
       "      <td>0.393947</td>\n",
       "      <td>0.069935</td>\n",
       "      <td>0.806118</td>\n",
       "      <td>0.000158</td>\n",
       "      <td>-0.005367</td>\n",
       "      <td>-0.001008</td>\n",
       "      <td>1.216302</td>\n",
       "      <td>442.752747</td>\n",
       "      <td>0.401016</td>\n",
       "      <td>0</td>\n",
       "      <td>0</td>\n",
       "    </tr>\n",
       "    <tr>\n",
       "      <th>1</th>\n",
       "      <td>500.0</td>\n",
       "      <td>10</td>\n",
       "      <td>5.612069</td>\n",
       "      <td>40.878797</td>\n",
       "      <td>2.071288</td>\n",
       "      <td>0.687743</td>\n",
       "      <td>1.046119</td>\n",
       "      <td>-8.996704</td>\n",
       "      <td>2.376151</td>\n",
       "      <td>0.406868</td>\n",
       "      <td>0.001261</td>\n",
       "      <td>0.787299</td>\n",
       "      <td>0.001041</td>\n",
       "      <td>-0.000097</td>\n",
       "      <td>-0.000984</td>\n",
       "      <td>1.567355</td>\n",
       "      <td>86.586776</td>\n",
       "      <td>0.500492</td>\n",
       "      <td>0</td>\n",
       "      <td>1</td>\n",
       "    </tr>\n",
       "    <tr>\n",
       "      <th>2</th>\n",
       "      <td>500.0</td>\n",
       "      <td>10</td>\n",
       "      <td>35.278882</td>\n",
       "      <td>151.369661</td>\n",
       "      <td>1.930416</td>\n",
       "      <td>0.858636</td>\n",
       "      <td>1.032637</td>\n",
       "      <td>-1.011235</td>\n",
       "      <td>1.476774</td>\n",
       "      <td>0.398899</td>\n",
       "      <td>0.004692</td>\n",
       "      <td>0.814439</td>\n",
       "      <td>0.000425</td>\n",
       "      <td>-0.000360</td>\n",
       "      <td>-0.001018</td>\n",
       "      <td>1.803595</td>\n",
       "      <td>3.203458</td>\n",
       "      <td>0.359620</td>\n",
       "      <td>0</td>\n",
       "      <td>2</td>\n",
       "    </tr>\n",
       "    <tr>\n",
       "      <th>3</th>\n",
       "      <td>500.0</td>\n",
       "      <td>10</td>\n",
       "      <td>40.851780</td>\n",
       "      <td>110.424705</td>\n",
       "      <td>1.833902</td>\n",
       "      <td>0.584281</td>\n",
       "      <td>1.154459</td>\n",
       "      <td>7.221990</td>\n",
       "      <td>-1.295690</td>\n",
       "      <td>0.381903</td>\n",
       "      <td>0.072489</td>\n",
       "      <td>0.852224</td>\n",
       "      <td>-0.002022</td>\n",
       "      <td>-0.005563</td>\n",
       "      <td>-0.001065</td>\n",
       "      <td>1.674160</td>\n",
       "      <td>53.835952</td>\n",
       "      <td>0.263106</td>\n",
       "      <td>0</td>\n",
       "      <td>3</td>\n",
       "    </tr>\n",
       "    <tr>\n",
       "      <th>4</th>\n",
       "      <td>500.0</td>\n",
       "      <td>10</td>\n",
       "      <td>54.879738</td>\n",
       "      <td>91.393116</td>\n",
       "      <td>1.697853</td>\n",
       "      <td>1.509588</td>\n",
       "      <td>0.692450</td>\n",
       "      <td>-0.642129</td>\n",
       "      <td>1.973307</td>\n",
       "      <td>0.422004</td>\n",
       "      <td>0.079982</td>\n",
       "      <td>0.810298</td>\n",
       "      <td>0.003837</td>\n",
       "      <td>-0.006138</td>\n",
       "      <td>-0.001013</td>\n",
       "      <td>2.758343</td>\n",
       "      <td>4.306270</td>\n",
       "      <td>0.127057</td>\n",
       "      <td>0</td>\n",
       "      <td>4</td>\n",
       "    </tr>\n",
       "  </tbody>\n",
       "</table>\n",
       "</div>"
      ],
      "text/plain": [
       "       t   n          x           y     theta   grad_ux   grad_uy    grad_vx  \\\n",
       "0  500.0  10   1.797431   86.755323  1.971812 -0.388966  1.031992 -20.991924   \n",
       "1  500.0  10   5.612069   40.878797  2.071288  0.687743  1.046119  -8.996704   \n",
       "2  500.0  10  35.278882  151.369661  1.930416  0.858636  1.032637  -1.011235   \n",
       "3  500.0  10  40.851780  110.424705  1.833902  0.584281  1.154459   7.221990   \n",
       "4  500.0  10  54.879738   91.393116  1.697853  1.509588  0.692450  -0.642129   \n",
       "\n",
       "    grad_vy         v         f         s      dvdt      dfdt      dsdt  \\\n",
       "0  1.446331  0.393947  0.069935  0.806118  0.000158 -0.005367 -0.001008   \n",
       "1  2.376151  0.406868  0.001261  0.787299  0.001041 -0.000097 -0.000984   \n",
       "2  1.476774  0.398899  0.004692  0.814439  0.000425 -0.000360 -0.001018   \n",
       "3 -1.295690  0.381903  0.072489  0.852224 -0.002022 -0.005563 -0.001065   \n",
       "4  1.973307  0.422004  0.079982  0.810298  0.003837 -0.006138 -0.001013   \n",
       "\n",
       "   grad_u_mag  grad_v_mag  theta_comp  frame  particle  \n",
       "0    1.216302  442.752747    0.401016      0         0  \n",
       "1    1.567355   86.586776    0.500492      0         1  \n",
       "2    1.803595    3.203458    0.359620      0         2  \n",
       "3    1.674160   53.835952    0.263106      0         3  \n",
       "4    2.758343    4.306270    0.127057      0         4  "
      ]
     },
     "execution_count": 761,
     "metadata": {},
     "output_type": "execute_result"
    }
   ],
   "source": [
    "#this one is good!!! look above!!!\n",
    "traj.head()"
   ]
  },
  {
   "cell_type": "code",
   "execution_count": 770,
   "metadata": {
    "ExecuteTime": {
     "end_time": "2020-11-06T06:17:41.010656Z",
     "start_time": "2020-11-06T06:17:38.666306Z"
    }
   },
   "outputs": [
    {
     "data": {
      "image/png": "[encoded data removed]",
      "text/plain": [
       "<Figure size 432x288 with 1 Axes>"
      ]
     },
     "metadata": {
      "needs_background": "light"
     },
     "output_type": "display_data"
    }
   ],
   "source": [
    "for pid in sorted(set(traj.particle.values)):\n",
    "    p = traj.query(f'particle == {pid}')\n",
    "    xv = p.x.values\n",
    "    yv = p.y.values\n",
    "    cv = p.frame.values\n",
    "    plt.scatter(xv,yv,c=cv,s=5,alpha=0.8)\n",
    "plt.show()"
   ]
  },
  {
   "cell_type": "code",
   "execution_count": null,
   "metadata": {
    "ExecuteTime": {
     "end_time": "2020-11-06T06:15:28.217690Z",
     "start_time": "2020-11-06T06:15:28.035407Z"
    }
   },
   "outputs": [],
   "source": [
    "for pid in sorted(set(traj.particle.values)):\n",
    "    p = traj.query(f'particle == {pid}')\n",
    "    xv = p.x.values\n",
    "    yv = p.y.values\n",
    "    cv = p.frame.values\n",
    "    plt.scatter(xv,yv,c=cv,s=5,alpha=0.8)\n",
    "plt.show()"
   ]
  },
  {
   "cell_type": "code",
   "execution_count": 848,
   "metadata": {
    "ExecuteTime": {
     "end_time": "2020-11-06T06:41:48.348195Z",
     "start_time": "2020-11-06T06:41:48.321541Z"
    }
   },
   "outputs": [],
   "source": [
    "# no brief particles (briefer than LT_thresh)\n",
    "LT_thresh = 5000#1000#400\n",
    "boo = traj['particle'].value_counts()>LT_thresh#.sort_index()>LT_thresh\n",
    "# assert ( boo.values.all() ) \n",
    "lst_pid_long_enough = boo[boo].index.values"
   ]
  },
  {
   "cell_type": "code",
   "execution_count": 849,
   "metadata": {
    "ExecuteTime": {
     "end_time": "2020-11-06T06:41:48.976031Z",
     "start_time": "2020-11-06T06:41:48.944734Z"
    }
   },
   "outputs": [],
   "source": [
    "# boo_pid = ~np.array([v is not None for v in traj['particle'].values])\n",
    "\n",
    "# for pid in lst_pid_long_enough:\n",
    "#     boo_pid &= traj.particle==pid\n",
    "# traj2 = traj[boo_pid]\n",
    "# traj2"
   ]
  },
  {
   "cell_type": "code",
   "execution_count": 850,
   "metadata": {
    "ExecuteTime": {
     "end_time": "2020-11-06T06:41:49.652327Z",
     "start_time": "2020-11-06T06:41:49.533360Z"
    }
   },
   "outputs": [],
   "source": [
    "traj2 = pd.concat([traj.query(f'particle == {pid}') for pid in lst_pid_long_enough])"
   ]
  },
  {
   "cell_type": "code",
   "execution_count": 851,
   "metadata": {
    "ExecuteTime": {
     "end_time": "2020-11-06T06:41:50.236040Z",
     "start_time": "2020-11-06T06:41:50.216002Z"
    }
   },
   "outputs": [],
   "source": [
    "fps = 1/h*10**3 #frames per second\n",
    "mpp = 5/200*10**4 #microns per pixel"
   ]
  },
  {
   "cell_type": "code",
   "execution_count": 852,
   "metadata": {
    "ExecuteTime": {
     "end_time": "2020-11-06T06:41:50.982131Z",
     "start_time": "2020-11-06T06:41:50.806932Z"
    }
   },
   "outputs": [],
   "source": [
    "\n",
    "# msd_series = trackpy.motion.emsd(traj,mpp=mpp, fps=fps)\n",
    "msd_series = trackpy.motion.emsd(traj2,mpp=mpp, fps=fps)\n",
    "x_values = msd_series.index.values*10**3\n",
    "y_values = msd_series.values/10**6"
   ]
  },
  {
   "cell_type": "code",
   "execution_count": 853,
   "metadata": {
    "ExecuteTime": {
     "end_time": "2020-11-06T06:41:51.681148Z",
     "start_time": "2020-11-06T06:41:51.529372Z"
    },
    "scrolled": true
   },
   "outputs": [
    {
     "data": {
      "image/png": "[encoded data removed]",
      "text/plain": [
       "<Figure size 432x288 with 1 Axes>"
      ]
     },
     "metadata": {
      "needs_background": "light"
     },
     "output_type": "display_data"
    }
   ],
   "source": [
    "# plt.plot(msd_series.index.values,msd_series.values)\n",
    "plt.scatter(x=x_values,y=y_values)\n",
    "# plt.xscale('log')\n",
    "# plt.yscale('log')\n",
    "plt.xlabel('lag (ms)')\n",
    "plt.ylabel('MSD (cm^2)')\n",
    "plt.show()"
   ]
  },
  {
   "cell_type": "code",
   "execution_count": 857,
   "metadata": {
    "ExecuteTime": {
     "end_time": "2020-11-06T06:42:13.768032Z",
     "start_time": "2020-11-06T06:42:13.741851Z"
    }
   },
   "outputs": [
    {
     "data": {
      "text/plain": [
       "array([2.500e-05, 5.000e-05, 7.500e-05, 1.000e-04, 1.250e-04, 1.500e-04,\n",
       "       1.750e-04, 2.000e-04, 2.250e-04, 2.500e-04, 2.750e-04, 3.000e-04,\n",
       "       3.250e-04, 3.500e-04, 3.750e-04, 4.000e-04, 4.250e-04, 4.500e-04,\n",
       "       4.750e-04, 5.000e-04, 5.250e-04, 5.500e-04, 5.750e-04, 6.000e-04,\n",
       "       6.250e-04, 6.500e-04, 6.750e-04, 7.000e-04, 7.250e-04, 7.500e-04,\n",
       "       7.750e-04, 8.000e-04, 8.250e-04, 8.500e-04, 8.750e-04, 9.000e-04,\n",
       "       9.250e-04, 9.500e-04, 9.750e-04, 1.000e-03, 1.025e-03, 1.050e-03,\n",
       "       1.075e-03, 1.100e-03, 1.125e-03, 1.150e-03, 1.175e-03, 1.200e-03,\n",
       "       1.225e-03, 1.250e-03, 1.275e-03, 1.300e-03, 1.325e-03, 1.350e-03,\n",
       "       1.375e-03, 1.400e-03, 1.425e-03, 1.450e-03, 1.475e-03, 1.500e-03,\n",
       "       1.525e-03, 1.550e-03, 1.575e-03, 1.600e-03, 1.625e-03, 1.650e-03,\n",
       "       1.675e-03, 1.700e-03, 1.725e-03, 1.750e-03, 1.775e-03, 1.800e-03,\n",
       "       1.825e-03, 1.850e-03, 1.875e-03, 1.900e-03, 1.925e-03, 1.950e-03,\n",
       "       1.975e-03, 2.000e-03, 2.025e-03, 2.050e-03, 2.075e-03, 2.100e-03,\n",
       "       2.125e-03, 2.150e-03, 2.175e-03, 2.200e-03, 2.225e-03, 2.250e-03,\n",
       "       2.275e-03, 2.300e-03, 2.325e-03, 2.350e-03, 2.375e-03, 2.400e-03,\n",
       "       2.425e-03, 2.450e-03, 2.475e-03, 2.500e-03])"
      ]
     },
     "execution_count": 857,
     "metadata": {},
     "output_type": "execute_result"
    }
   ],
   "source": [
    "msd_series.index.values"
   ]
  },
  {
   "cell_type": "code",
   "execution_count": null,
   "metadata": {
    "ExecuteTime": {
     "end_time": "2020-11-06T06:34:36.305491Z",
     "start_time": "2020-11-06T06:34:36.280602Z"
    }
   },
   "outputs": [],
   "source": []
  },
  {
   "cell_type": "code",
   "execution_count": null,
   "metadata": {},
   "outputs": [],
   "source": []
  }
 ],
 "metadata": {
  "kernelspec": {
   "display_name": "Python 3",
   "language": "python",
   "name": "python3"
  },
  "language_info": {
   "codemirror_mode": {
    "name": "ipython",
    "version": 3
   },
   "file_extension": ".py",
   "mimetype": "text/x-python",
   "name": "python",
   "nbconvert_exporter": "python",
   "pygments_lexer": "ipython3",
   "version": "3.8.5"
  },
  "varInspector": {
   "cols": {
    "lenName": 16,
    "lenType": 16,
    "lenVar": 40
   },
   "kernels_config": {
    "python": {
     "delete_cmd_postfix": "",
     "delete_cmd_prefix": "del ",
     "library": "var_list.py",
     "varRefreshCmd": "print(var_dic_list())"
    },
    "r": {
     "delete_cmd_postfix": ") ",
     "delete_cmd_prefix": "rm(",
     "library": "var_list.r",
     "varRefreshCmd": "cat(var_dic_list()) "
    }
   },
   "types_to_exclude": [
    "module",
    "function",
    "builtin_function_or_method",
    "instance",
    "_Feature"
   ],
   "window_display": false
  }
 },
 "nbformat": 4,
 "nbformat_minor": 4
}
