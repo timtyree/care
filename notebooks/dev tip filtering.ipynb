{
 "cells": [
  {
   "cell_type": "code",
   "execution_count": 1,
   "metadata": {
    "ExecuteTime": {
     "end_time": "2020-11-05T22:15:17.087861Z",
     "start_time": "2020-11-05T22:15:14.923794Z"
    }
   },
   "outputs": [
    {
     "name": "stdout",
     "output_type": "stream",
     "text": [
      "100000\n",
      "Automatic calling is: Smart\n"
     ]
    }
   ],
   "source": [
    "#pylab\n",
    "%matplotlib inline\n",
    "import numpy as np, pandas as pd, matplotlib.pyplot as plt\n",
    "\n",
    "import skimage as sk\n",
    "from skimage import measure, filters\n",
    "\n",
    "from numba import njit, jit, vectorize\n",
    "from PIL import Image\n",
    "import imageio\n",
    "# import cv2 as cv\n",
    "\n",
    "#automate the boring stuff\n",
    "from IPython import utils\n",
    "import time, os, sys, re\n",
    "beep = lambda x: os.system(\"echo -n '\\\\a';sleep 0.2;\" * x)\n",
    "if not 'nb_dir' in globals():\n",
    "    nb_dir = os.getcwd()\n",
    "# width = 512\n",
    "# height = 512\n",
    "# channel_no = 3\n",
    "\n",
    "# #load the libraries\n",
    "from lib import *\n",
    "from lib.routines.compute_bdrates import *\n",
    "# from lib.measure._find_tips_pbc_cy import lookup_segments\n",
    "# from lib.measure._find_tips_kernel import *\n",
    "# from lib.measure._find_tips_kernel_cy import find_intersections\n",
    "#use cuda via numba\n",
    "from numba import jit, njit, vectorize, cuda, uint32, f8, uint8\n",
    "from numba.typed import List\n",
    "# from lib.contours_to_tips import *\n",
    "\n",
    "%autocall 1\n",
    "%load_ext autoreload\n",
    "%autoreload 2"
   ]
  },
  {
   "cell_type": "markdown",
   "metadata": {},
   "source": [
    "# TODO: plot two nearby frames of tips and functionally link them"
   ]
  },
  {
   "cell_type": "code",
   "execution_count": 18,
   "metadata": {
    "ExecuteTime": {
     "end_time": "2020-11-05T21:07:45.498822Z",
     "start_time": "2020-11-05T21:07:45.453537Z"
    }
   },
   "outputs": [],
   "source": [
    "#TODO: plot a single frame of tips using plt.quiver\n",
    "# fig1, ax1 = plt.subplots()\n",
    "# ax1.set_title('Arrows scale with plot width, not view')\n",
    "# Q = ax1.quiver(X, Y, U, V, units='width')\n",
    "# qk = ax1.quiverkey(Q, 0.9, 0.9, 2, r'$2 \\frac{m}{s}$', labelpos='E',\n",
    "#                    coordinates='figure')"
   ]
  },
  {
   "cell_type": "markdown",
   "metadata": {},
   "source": [
    "# find a nice theta_threshold"
   ]
  },
  {
   "cell_type": "code",
   "execution_count": 101,
   "metadata": {
    "ExecuteTime": {
     "end_time": "2020-11-05T22:41:23.721134Z",
     "start_time": "2020-11-05T22:41:23.412427Z"
    }
   },
   "outputs": [],
   "source": [
    "data_dir_log = os.path.join(nb_dir,'Figures/methods/tip_log_ic_200x200.120.32_V_0.4__t_1e+03.csv')\n",
    "df = pd.read_csv(data_dir_log)\n",
    "df['grad_u_mag'] = df['grad_ux']**2 + df['grad_uy']**2\n",
    "df['grad_v_mag'] = df['grad_vx']**2 + df['grad_vy']**2\n",
    "df['theta_comp'] = np.abs(np.pi/2-df['theta'])\n"
   ]
  },
  {
   "cell_type": "code",
   "execution_count": 102,
   "metadata": {
    "ExecuteTime": {
     "end_time": "2020-11-05T22:41:24.353565Z",
     "start_time": "2020-11-05T22:41:24.137088Z"
    }
   },
   "outputs": [
    {
     "data": {
      "image/png": "[encoded data removed]",
      "text/plain": [
       "<Figure size 432x288 with 1 Axes>"
      ]
     },
     "metadata": {
      "needs_background": "light"
     },
     "output_type": "display_data"
    }
   ],
   "source": [
    "col = 'theta'\n",
    "values = df[col].values\n",
    "plt.hist(values,bins = 20, color='orange')\n",
    "plt.title(col)\n",
    "plt.show()"
   ]
  },
  {
   "cell_type": "code",
   "execution_count": 104,
   "metadata": {
    "ExecuteTime": {
     "end_time": "2020-11-05T22:41:34.599104Z",
     "start_time": "2020-11-05T22:41:34.399946Z"
    }
   },
   "outputs": [
    {
     "name": "stdout",
     "output_type": "stream",
     "text": [
      "Index(['t', 'n', 'x', 'y', 'theta', 'grad_ux', 'grad_uy', 'grad_vx', 'grad_vy',\n",
      "       'v', 'f', 's', 'dvdt', 'dfdt', 'dsdt', 'grad_u_mag', 'grad_v_mag',\n",
      "       'theta_comp'],\n",
      "      dtype='object')\n"
     ]
    },
    {
     "data": {
      "text/html": [
       "<div>\n",
       "<style scoped>\n",
       "    .dataframe tbody tr th:only-of-type {\n",
       "        vertical-align: middle;\n",
       "    }\n",
       "\n",
       "    .dataframe tbody tr th {\n",
       "        vertical-align: top;\n",
       "    }\n",
       "\n",
       "    .dataframe thead th {\n",
       "        text-align: right;\n",
       "    }\n",
       "</style>\n",
       "<table border=\"1\" class=\"dataframe\">\n",
       "  <thead>\n",
       "    <tr style=\"text-align: right;\">\n",
       "      <th></th>\n",
       "      <th>t</th>\n",
       "      <th>n</th>\n",
       "      <th>x</th>\n",
       "      <th>y</th>\n",
       "      <th>theta</th>\n",
       "      <th>grad_ux</th>\n",
       "      <th>grad_uy</th>\n",
       "      <th>grad_vx</th>\n",
       "      <th>grad_vy</th>\n",
       "      <th>v</th>\n",
       "      <th>f</th>\n",
       "      <th>s</th>\n",
       "      <th>dvdt</th>\n",
       "      <th>dfdt</th>\n",
       "      <th>dsdt</th>\n",
       "      <th>grad_u_mag</th>\n",
       "      <th>grad_v_mag</th>\n",
       "      <th>theta_comp</th>\n",
       "    </tr>\n",
       "  </thead>\n",
       "  <tbody>\n",
       "    <tr>\n",
       "      <th>min</th>\n",
       "      <td>500.0</td>\n",
       "      <td>6.0</td>\n",
       "      <td>0.000001</td>\n",
       "      <td>0.000594</td>\n",
       "      <td>0.009657</td>\n",
       "      <td>-47421.204764</td>\n",
       "      <td>-98663.593328</td>\n",
       "      <td>-872126.015134</td>\n",
       "      <td>-120463.408507</td>\n",
       "      <td>0.236417</td>\n",
       "      <td>0.000003</td>\n",
       "      <td>0.670323</td>\n",
       "      <td>-0.007617</td>\n",
       "      <td>-0.015415</td>\n",
       "      <td>-0.001097</td>\n",
       "      <td>1.002346e+00</td>\n",
       "      <td>1.034120e+00</td>\n",
       "      <td>0.000003</td>\n",
       "    </tr>\n",
       "    <tr>\n",
       "      <th>max</th>\n",
       "      <td>1000.0</td>\n",
       "      <td>16.0</td>\n",
       "      <td>199.998907</td>\n",
       "      <td>199.997691</td>\n",
       "      <td>3.133060</td>\n",
       "      <td>71555.306143</td>\n",
       "      <td>60095.555167</td>\n",
       "      <td>41462.790237</td>\n",
       "      <td>565070.209264</td>\n",
       "      <td>0.598606</td>\n",
       "      <td>0.200864</td>\n",
       "      <td>0.877856</td>\n",
       "      <td>0.012283</td>\n",
       "      <td>-0.000000</td>\n",
       "      <td>-0.000838</td>\n",
       "      <td>1.142413e+10</td>\n",
       "      <td>1.079908e+12</td>\n",
       "      <td>1.562264</td>\n",
       "    </tr>\n",
       "  </tbody>\n",
       "</table>\n",
       "</div>"
      ],
      "text/plain": [
       "          t     n           x           y     theta       grad_ux  \\\n",
       "min   500.0   6.0    0.000001    0.000594  0.009657 -47421.204764   \n",
       "max  1000.0  16.0  199.998907  199.997691  3.133060  71555.306143   \n",
       "\n",
       "          grad_uy        grad_vx        grad_vy         v         f         s  \\\n",
       "min -98663.593328 -872126.015134 -120463.408507  0.236417  0.000003  0.670323   \n",
       "max  60095.555167   41462.790237  565070.209264  0.598606  0.200864  0.877856   \n",
       "\n",
       "         dvdt      dfdt      dsdt    grad_u_mag    grad_v_mag  theta_comp  \n",
       "min -0.007617 -0.015415 -0.001097  1.002346e+00  1.034120e+00    0.000003  \n",
       "max  0.012283 -0.000000 -0.000838  1.142413e+10  1.079908e+12    1.562264  "
      ]
     },
     "execution_count": 104,
     "metadata": {},
     "output_type": "execute_result"
    }
   ],
   "source": [
    "print(df.columns)\n",
    "#summary statistics for each column\n",
    "df.describe().T[[\n",
    "    'min',\n",
    "    'max'\n",
    "]].T"
   ]
  },
  {
   "cell_type": "code",
   "execution_count": 105,
   "metadata": {
    "ExecuteTime": {
     "end_time": "2020-11-05T22:41:37.533278Z",
     "start_time": "2020-11-05T22:41:37.511224Z"
    }
   },
   "outputs": [],
   "source": [
    "dg = df#.query('t < 1000')"
   ]
  },
  {
   "cell_type": "code",
   "execution_count": 106,
   "metadata": {
    "ExecuteTime": {
     "end_time": "2020-11-05T22:41:41.891894Z",
     "start_time": "2020-11-05T22:41:41.186095Z"
    }
   },
   "outputs": [
    {
     "name": "stdout",
     "output_type": "stream",
     "text": [
      "theta_comp is the nonnegative angle complementary to theta\n"
     ]
    },
    {
     "data": {
      "image/png": "[encoded data removed]",
      "text/plain": [
       "<Figure size 504x504 with 1 Axes>"
      ]
     },
     "metadata": {
      "needs_background": "light"
     },
     "output_type": "display_data"
    }
   ],
   "source": [
    "plt.figure(figsize=(7,7))\n",
    "col_lst = ['theta', 'theta_comp']\n",
    "print(\"theta_comp is the nonnegative angle complementary to theta\")\n",
    "for col in col_lst:\n",
    "    values = dg[col].values\n",
    "    plt.hist(values,bins = 40, label = col, alpha=0.5, log=True, density=True)\n",
    "plt.legend()\n",
    "plt.xlabel('value')\n",
    "plt.ylabel('likelihood')\n",
    "plt.title('raw spiral tips before filtering')\n",
    "# plt.xticks([0,0.5,1,1.5,2,2.5,3,1.1,1.2,1.3,1.4,1.2])\n",
    "# plt.xlim([1.2,1.4])\n",
    "plt.show()"
   ]
  },
  {
   "cell_type": "code",
   "execution_count": 107,
   "metadata": {
    "ExecuteTime": {
     "end_time": "2020-11-05T22:41:43.309238Z",
     "start_time": "2020-11-05T22:41:43.283076Z"
    }
   },
   "outputs": [
    {
     "name": "stdout",
     "output_type": "stream",
     "text": [
      "please consider theta_comp_threshold = 1.047...\n",
      "TODO: try tracking with some memory mem>=2.\n"
     ]
    }
   ],
   "source": [
    "1/np.sqrt(2)\n",
    "theta_comp_threshold = 1*np.pi/3\n",
    "print(f\"please consider theta_comp_threshold = {theta_comp_threshold:.3f}...\")\n",
    "print(f\"TODO: try tracking with some memory mem>=2.\")"
   ]
  },
  {
   "cell_type": "markdown",
   "metadata": {
    "ExecuteTime": {
     "end_time": "2020-11-05T21:20:51.208729Z",
     "start_time": "2020-11-05T21:20:51.183107Z"
    },
    "heading_collapsed": true
   },
   "source": [
    "# visualize histograms of EP features (not clearly helpful to filtering)"
   ]
  },
  {
   "cell_type": "code",
   "execution_count": 78,
   "metadata": {
    "ExecuteTime": {
     "end_time": "2020-11-05T22:33:54.698149Z",
     "start_time": "2020-11-05T22:33:53.908449Z"
    },
    "hidden": true
   },
   "outputs": [
    {
     "data": {
      "image/png": "[encoded data removed]",
      "text/plain": [
       "<Figure size 504x504 with 1 Axes>"
      ]
     },
     "metadata": {
      "needs_background": "light"
     },
     "output_type": "display_data"
    }
   ],
   "source": [
    "plt.figure(figsize=(7,7))\n",
    "col_lst = ['grad_u_mag', 'grad_u_mag']\n",
    "for col in col_lst:\n",
    "    values = dg[col].values\n",
    "    plt.hist(values,bins = 40, label = col, alpha=0.5, log=True, density=True)\n",
    "plt.legend()\n",
    "plt.xlabel('value')\n",
    "plt.ylabel('likelihood')\n",
    "plt.title('raw spiral tips before filtering')\n",
    "# plt.xticks([0,0.5,1,1.5,2,2.5,3,1.1,1.2,1.3,1.4,1.2])\n",
    "# plt.xlim([1.2,1.4])\n",
    "plt.show()"
   ]
  },
  {
   "cell_type": "code",
   "execution_count": 79,
   "metadata": {
    "ExecuteTime": {
     "end_time": "2020-11-05T22:33:56.477790Z",
     "start_time": "2020-11-05T22:33:55.496825Z"
    },
    "hidden": true
   },
   "outputs": [
    {
     "data": {
      "image/png": "[encoded data removed]",
      "text/plain": [
       "<Figure size 504x504 with 1 Axes>"
      ]
     },
     "metadata": {
      "needs_background": "light"
     },
     "output_type": "display_data"
    }
   ],
   "source": [
    "plt.figure(figsize=(7,7))\n",
    "col_lst = ['v', 'f', 's'] \n",
    "for col in col_lst:\n",
    "    values = dg[col].values\n",
    "    plt.hist(values,bins = 40, label = col, alpha=0.5, log=True, density=True)\n",
    "plt.legend()\n",
    "plt.xlabel('value')\n",
    "plt.ylabel('likelihood')\n",
    "plt.title('raw spiral tips before filtering')\n",
    "# plt.xticks([0,0.5,1,1.5,2,2.5,3,1.1,1.2,1.3,1.4,1.2])\n",
    "# plt.xlim([1.2,1.4])\n",
    "plt.show()"
   ]
  },
  {
   "cell_type": "code",
   "execution_count": 80,
   "metadata": {
    "ExecuteTime": {
     "end_time": "2020-11-05T22:33:57.804847Z",
     "start_time": "2020-11-05T22:33:56.858503Z"
    },
    "hidden": true
   },
   "outputs": [
    {
     "data": {
      "image/png": "[encoded data removed]",
      "text/plain": [
       "<Figure size 504x504 with 1 Axes>"
      ]
     },
     "metadata": {
      "needs_background": "light"
     },
     "output_type": "display_data"
    }
   ],
   "source": [
    "plt.figure(figsize=(7,7))\n",
    "col_lst = ['dvdt', 'dfdt', 'dsdt']\n",
    "for col in col_lst:\n",
    "    values = dg[col].values\n",
    "    plt.hist(values,bins = 40, label = col, alpha=0.5, log=True, density=True)\n",
    "plt.legend()\n",
    "plt.xlabel('value')\n",
    "plt.ylabel('likelihood')\n",
    "plt.title('raw spiral tips before filtering')\n",
    "# plt.xticks([0,0.5,1,1.5,2,2.5,3,1.1,1.2,1.3,1.4,1.2])\n",
    "# plt.xlim([1.2,1.4])\n",
    "plt.show()"
   ]
  },
  {
   "cell_type": "code",
   "execution_count": 45,
   "metadata": {
    "ExecuteTime": {
     "end_time": "2020-11-05T22:27:20.831531Z",
     "start_time": "2020-11-05T22:27:20.811484Z"
    },
    "hidden": true
   },
   "outputs": [
    {
     "name": "stdout",
     "output_type": "stream",
     "text": [
      "It is False that any unfiltered spiral tips were observed with dsdt>-0.0007.\n"
     ]
    }
   ],
   "source": [
    "#good sanity check but doesn't identify any bad tips here.\n",
    "dsdt_thresh=-0.0007\n",
    "print(f\"It is {(df['dsdt']>dsdt_thresh).values.any()} that any unfiltered spiral tips were observed with dsdt>{dsdt_thresh}.\")"
   ]
  },
  {
   "cell_type": "markdown",
   "metadata": {
    "heading_collapsed": true
   },
   "source": [
    "# TODO: consider tracking/filtering tips on the basis of moving in the direction of grad_u (or grad_v)\n",
    "- TODO: see solution for automated tip detection\n",
    "- TODO: visualize the histogram of angles between grad_u and the displacement between frames for each row resulting from ^that\n",
    "- TODO: is there any bimodal distribution?  If not, consider variations on a them.  e.g., grad_v... np.cross... etc..."
   ]
  },
  {
   "cell_type": "markdown",
   "metadata": {},
   "source": [
    "# TODO: try a DataFrame filter and view the resulting bdrates (on a histogram?)"
   ]
  },
  {
   "cell_type": "code",
   "execution_count": 108,
   "metadata": {
    "ExecuteTime": {
     "end_time": "2020-11-05T22:41:53.172563Z",
     "start_time": "2020-11-05T22:41:52.866804Z"
    }
   },
   "outputs": [],
   "source": [
    "data_dir_log = os.path.join(nb_dir,'Figures/methods/tip_log_ic_200x200.120.32_V_0.4__t_1e+03.csv')\n",
    "df = pd.read_csv(data_dir_log)\n",
    "df['grad_u_mag'] = df['grad_ux']**2 + df['grad_uy']**2\n",
    "df['grad_v_mag'] = df['grad_vx']**2 + df['grad_vy']**2\n",
    "df['theta_comp'] = np.abs(np.pi/2-df['theta'])"
   ]
  },
  {
   "cell_type": "code",
   "execution_count": 110,
   "metadata": {
    "ExecuteTime": {
     "end_time": "2020-11-05T22:42:12.081976Z",
     "start_time": "2020-11-05T22:42:11.931850Z"
    }
   },
   "outputs": [],
   "source": [
    "#first: use the trivial filter\n",
    "# \"tip_log_ic_200x200.120.32_V_0.4__t_1e+03.csv\"\n",
    "boo = [i is not None for i in df.index]\n",
    "dg = df.loc[boo]\n",
    "\n",
    "dh = dg.groupby('t').mean()[['n']]\n",
    "dh.reset_index(inplace=True)"
   ]
  },
  {
   "cell_type": "code",
   "execution_count": 116,
   "metadata": {
    "ExecuteTime": {
     "end_time": "2020-11-05T22:42:52.245144Z",
     "start_time": "2020-11-05T22:42:52.224549Z"
    }
   },
   "outputs": [],
   "source": [
    "t_series = dh.t\n",
    "n_series = dh.n"
   ]
  },
  {
   "cell_type": "code",
   "execution_count": 134,
   "metadata": {
    "ExecuteTime": {
     "end_time": "2020-11-05T22:45:35.317235Z",
     "start_time": "2020-11-05T22:45:35.290424Z"
    }
   },
   "outputs": [],
   "source": [
    "d = compute_bdrates(n_series,t_series).dropna()"
   ]
  },
  {
   "cell_type": "code",
   "execution_count": 137,
   "metadata": {
    "ExecuteTime": {
     "end_time": "2020-11-05T22:45:52.610922Z",
     "start_time": "2020-11-05T22:45:52.574399Z"
    }
   },
   "outputs": [
    {
     "data": {
      "text/html": [
       "<div>\n",
       "<style scoped>\n",
       "    .dataframe tbody tr th:only-of-type {\n",
       "        vertical-align: middle;\n",
       "    }\n",
       "\n",
       "    .dataframe tbody tr th {\n",
       "        vertical-align: top;\n",
       "    }\n",
       "\n",
       "    .dataframe thead th {\n",
       "        text-align: right;\n",
       "    }\n",
       "</style>\n",
       "<table border=\"1\" class=\"dataframe\">\n",
       "  <thead>\n",
       "    <tr style=\"text-align: right;\">\n",
       "      <th></th>\n",
       "      <th>t</th>\n",
       "      <th>n</th>\n",
       "      <th>dn</th>\n",
       "      <th>rates</th>\n",
       "    </tr>\n",
       "  </thead>\n",
       "  <tbody>\n",
       "    <tr>\n",
       "      <th>count</th>\n",
       "      <td>27.000000</td>\n",
       "      <td>27.000000</td>\n",
       "      <td>27.000000</td>\n",
       "      <td>27.000000</td>\n",
       "    </tr>\n",
       "    <tr>\n",
       "      <th>mean</th>\n",
       "      <td>791.401852</td>\n",
       "      <td>10.962963</td>\n",
       "      <td>0.074074</td>\n",
       "      <td>0.397100</td>\n",
       "    </tr>\n",
       "    <tr>\n",
       "      <th>std</th>\n",
       "      <td>153.404389</td>\n",
       "      <td>2.793970</td>\n",
       "      <td>2.036700</td>\n",
       "      <td>1.089967</td>\n",
       "    </tr>\n",
       "    <tr>\n",
       "      <th>min</th>\n",
       "      <td>527.125000</td>\n",
       "      <td>6.000000</td>\n",
       "      <td>-2.000000</td>\n",
       "      <td>0.011474</td>\n",
       "    </tr>\n",
       "    <tr>\n",
       "      <th>25%</th>\n",
       "      <td>664.612500</td>\n",
       "      <td>9.000000</td>\n",
       "      <td>-2.000000</td>\n",
       "      <td>0.036920</td>\n",
       "    </tr>\n",
       "    <tr>\n",
       "      <th>50%</th>\n",
       "      <td>814.800000</td>\n",
       "      <td>10.000000</td>\n",
       "      <td>2.000000</td>\n",
       "      <td>0.063898</td>\n",
       "    </tr>\n",
       "    <tr>\n",
       "      <th>75%</th>\n",
       "      <td>920.600000</td>\n",
       "      <td>13.000000</td>\n",
       "      <td>2.000000</td>\n",
       "      <td>0.290404</td>\n",
       "    </tr>\n",
       "    <tr>\n",
       "      <th>max</th>\n",
       "      <td>995.225000</td>\n",
       "      <td>16.000000</td>\n",
       "      <td>2.000000</td>\n",
       "      <td>5.714286</td>\n",
       "    </tr>\n",
       "  </tbody>\n",
       "</table>\n",
       "</div>"
      ],
      "text/plain": [
       "                t          n         dn      rates\n",
       "count   27.000000  27.000000  27.000000  27.000000\n",
       "mean   791.401852  10.962963   0.074074   0.397100\n",
       "std    153.404389   2.793970   2.036700   1.089967\n",
       "min    527.125000   6.000000  -2.000000   0.011474\n",
       "25%    664.612500   9.000000  -2.000000   0.036920\n",
       "50%    814.800000  10.000000   2.000000   0.063898\n",
       "75%    920.600000  13.000000   2.000000   0.290404\n",
       "max    995.225000  16.000000   2.000000   5.714286"
      ]
     },
     "execution_count": 137,
     "metadata": {},
     "output_type": "execute_result"
    }
   ],
   "source": [
    "d.describe()"
   ]
  },
  {
   "cell_type": "code",
   "execution_count": 149,
   "metadata": {
    "ExecuteTime": {
     "end_time": "2020-11-05T22:50:00.413362Z",
     "start_time": "2020-11-05T22:50:00.195678Z"
    }
   },
   "outputs": [
    {
     "name": "stdout",
     "output_type": "stream",
     "text": [
      "27\n",
      "0.39710001958551644\n",
      "1.0695924036783464\n"
     ]
    },
    {
     "data": {
      "image/png": "[encoded data removed]",
      "text/plain": [
       "<Figure size 432x288 with 1 Axes>"
      ]
     },
     "metadata": {
      "needs_background": "light"
     },
     "output_type": "display_data"
    }
   ],
   "source": [
    "print(d.rates.values.size)\n",
    "print(d.rates.values.mean())\n",
    "print(d.rates.values.std())\n",
    "\n",
    "plt.hist(d.rates.values, bins=30)\n",
    "plt.show()"
   ]
  },
  {
   "cell_type": "markdown",
   "metadata": {},
   "source": [
    "- DONE: visualize bdrates for a sanity check\n",
    "- TODO: get generate_tip_logs_cy up and running\n",
    "- TODO: start ^that on UB\n",
    "- TODO: continue playing with filters here\n",
    "- with (filtered) tip locations,\n",
    "    - TODO: visualize bdrates\n",
    "    - TODO: compute trajectories \n",
    "    - TODO: visualize MSD\n",
    "    "
   ]
  },
  {
   "cell_type": "code",
   "execution_count": 176,
   "metadata": {
    "ExecuteTime": {
     "end_time": "2020-11-05T22:58:48.693102Z",
     "start_time": "2020-11-05T22:58:48.673379Z"
    }
   },
   "outputs": [],
   "source": [
    "t_series = dh.t\n",
    "n_series = dh.n"
   ]
  },
  {
   "cell_type": "code",
   "execution_count": 177,
   "metadata": {
    "ExecuteTime": {
     "end_time": "2020-11-05T22:58:50.272580Z",
     "start_time": "2020-11-05T22:58:50.097907Z"
    }
   },
   "outputs": [
    {
     "name": "stdout",
     "output_type": "stream",
     "text": [
      "20001\n"
     ]
    },
    {
     "data": {
      "image/png": "[encoded data removed]",
      "text/plain": [
       "<Figure size 432x288 with 1 Axes>"
      ]
     },
     "metadata": {
      "needs_background": "light"
     },
     "output_type": "display_data"
    }
   ],
   "source": [
    "x_values = t_series.values\n",
    "y_values = n_series.values\n",
    "\n",
    "num_observations = len(x_values)\n",
    "print(num_observations)\n",
    "\n",
    "save = False\n",
    "plt.plot(x_values,y_values)\n",
    "plt.title(f\"recording every 25 µs\")\n",
    "plt.xlabel(f\"time (ms)\")\n",
    "plt.ylabel(f\"number of spiral tips\")\n",
    "# ax.set_xticks([])\n",
    "plt.yticks([2,4,6,8,10,12,14,16,18,20,22])\n",
    "if not save:\n",
    "    plt.show()\n",
    "else:\n",
    "    os.chdir(nb_dir)\n",
    "    os.chdir('Figures/methods')\n",
    "    plt.savefig(f\"example_ic_200x200.120.32_num_tips_t_0_{t:.1}_V_{V_threshold}.png\")\n",
    "    #     plt.savefig('example_no_high_frequency_birth_deaths_t_500_600.png')"
   ]
  },
  {
   "cell_type": "markdown",
   "metadata": {},
   "source": [
    "## visualize birth death rates"
   ]
  },
  {
   "cell_type": "code",
   "execution_count": 179,
   "metadata": {
    "ExecuteTime": {
     "end_time": "2020-11-05T22:59:11.711073Z",
     "start_time": "2020-11-05T22:59:11.689603Z"
    }
   },
   "outputs": [],
   "source": [
    "# #import data\n",
    "# os.chdir(folder_name)\n",
    "# df = pd.read_csv(file_out)\n",
    "\n",
    "#drop termination times\n",
    "# df.dropna(inplace=True)\n",
    "df = d.copy()\n",
    "\n",
    "#drop rows with rates over 100/ms\n",
    "df = df.loc[df.rates<=1].copy()\n",
    "\n",
    "# df = df.loc[df.rates<=0.02].copy()\n",
    "# df = df.loc[df.rates<=0.1].copy()\n",
    "\n",
    "dn_list = sorted(set(df.dn.values))\n",
    "dn_list = [-2,2]"
   ]
  },
  {
   "cell_type": "code",
   "execution_count": 180,
   "metadata": {
    "ExecuteTime": {
     "end_time": "2020-11-05T22:59:12.199981Z",
     "start_time": "2020-11-05T22:59:12.178206Z"
    }
   },
   "outputs": [
    {
     "data": {
      "text/plain": [
       "10.923076923076923"
      ]
     },
     "execution_count": 180,
     "metadata": {},
     "output_type": "execute_result"
    }
   ],
   "source": [
    "np.mean(df.n.values)"
   ]
  },
  {
   "cell_type": "code",
   "execution_count": 181,
   "metadata": {
    "ExecuteTime": {
     "end_time": "2020-11-05T22:59:12.905319Z",
     "start_time": "2020-11-05T22:59:12.763856Z"
    }
   },
   "outputs": [],
   "source": [
    "#compute median rates and IQR for the error bars corresponding to each category in dn_list\n",
    "errorbar_data_list = []\n",
    "for dn in dn_list:  \n",
    "    #iterate over n for each dn\n",
    "    df2 = df.loc[df.dn==dn].copy()\n",
    "    n_list = sorted(set(df2.n.values))\n",
    "    y_val_list = []\n",
    "    y_err_1_list = []\n",
    "    y_err_2_list = []\n",
    "    for n in n_list:\n",
    "        df3 = df2.loc[df2.n == n].copy()\n",
    "        y_val, y_err_1, y_err_2 = df3.describe().T[['50%', '25%', '75%']].loc['rates'].values\n",
    "        y_err_2 = float(y_err_2 - y_val)\n",
    "        y_err_1 = float(y_val - y_err_1)\n",
    "        y_val = float(y_val)\n",
    "        y_val_list.append(y_val)\n",
    "        y_err_1_list.append(y_err_1)\n",
    "        y_err_2_list.append(y_err_2)\n",
    "    # errorbar_data = (dn, n_list, y_val_list, y_err_1_list, y_err_2_list)\n",
    "    errorbar_data = {'dn':dn, \n",
    "                     'n_list':n_list, \n",
    "                     'y_val_list':y_val_list, \n",
    "                     'y_err_1_list':y_err_1_list, \n",
    "                     'y_err_2_list':y_err_2_list\n",
    "                    }\n",
    "    errorbar_data_list.append(errorbar_data)    "
   ]
  },
  {
   "cell_type": "code",
   "execution_count": 182,
   "metadata": {
    "ExecuteTime": {
     "end_time": "2020-11-05T22:59:13.507564Z",
     "start_time": "2020-11-05T22:59:13.461164Z"
    }
   },
   "outputs": [],
   "source": [
    "#retrieve scatter plot data points for each category in dn_list\n",
    "scatter_data_list = []\n",
    "for dn in dn_list:  \n",
    "    df2 = df.loc[df.dn==dn].copy()\n",
    "    x_values = df2.n.values\n",
    "    y_values = df2.rates.values\n",
    "    scatter_data = {'dn':dn, \n",
    "                     'x_values':x_values, \n",
    "                     'y_values':y_values, \n",
    "                    }\n",
    "    scatter_data_list.append(scatter_data)"
   ]
  },
  {
   "cell_type": "code",
   "execution_count": 183,
   "metadata": {
    "ExecuteTime": {
     "end_time": "2020-11-05T22:59:14.010852Z",
     "start_time": "2020-11-05T22:59:13.987297Z"
    }
   },
   "outputs": [],
   "source": [
    "#assign a color/label/other formatting to each category in dn_list\n",
    "color_list_raw = ['red', 'blue', 'green', 'orange', 'brown', 'purple']\n",
    "formatting_data_list = []\n",
    "for i, dn in enumerate(dn_list):\n",
    "    formatting_data = {\n",
    "        'dn': dn,\n",
    "        'color': color_list_raw[i],\n",
    "        'label':f'$W_{{{int(dn):+d}}}$'\n",
    "    }\n",
    "    formatting_data_list.append(formatting_data)   "
   ]
  },
  {
   "cell_type": "code",
   "execution_count": 184,
   "metadata": {
    "ExecuteTime": {
     "end_time": "2020-11-05T22:59:14.493914Z",
     "start_time": "2020-11-05T22:59:14.474180Z"
    }
   },
   "outputs": [],
   "source": [
    "assert (len(formatting_data_list) is len(scatter_data_list ))\n",
    "assert (len(formatting_data_list) is len(errorbar_data_list))"
   ]
  },
  {
   "cell_type": "code",
   "execution_count": 185,
   "metadata": {
    "ExecuteTime": {
     "end_time": "2020-11-05T22:59:15.230256Z",
     "start_time": "2020-11-05T22:59:14.986427Z"
    }
   },
   "outputs": [
    {
     "data": {
      "image/png": "[encoded data removed]",
      "text/plain": [
       "<Figure size 432x360 with 1 Axes>"
      ]
     },
     "metadata": {
      "needs_background": "light"
     },
     "output_type": "display_data"
    }
   ],
   "source": [
    "saving = False\n",
    "\n",
    "savefig_dir = f'{nb_dir}/Figures/birth_death_analysis'\n",
    "savefig_fn = 'birth_death_rates_ic2-from-log.png'\n",
    "# savefig_fn = 'birth_death_rates_log.png'\n",
    "log_scale = False\n",
    "fontsize=20\n",
    "figsize=(6,5)\n",
    "\n",
    "# def birth_death_plot(*y_axis_struct_list):\n",
    "\n",
    "# plot birth death rates with IQR y error bars with n on the x axis\n",
    "fig, ax = plt.subplots(figsize=figsize)\n",
    "for scatter_data, errorbar_data, formatting_data in zip(\n",
    "    scatter_data_list, errorbar_data_list, formatting_data_list):\n",
    "\n",
    "    dn, x_values, y_values = scatter_data.values()\n",
    "    dn, n_list, y_val_list, y_err_1_list, y_err_2_list = errorbar_data.values()\n",
    "    dn, color, label = formatting_data.values()\n",
    "    yerr = np.array(list(zip(y_err_1_list,y_err_2_list))).T\n",
    "    \n",
    "    ax.scatter(x=x_values/2,y=y_values, c=color, s=10, alpha=0.1, label=label)\n",
    "    ax.errorbar([n/2 for n in n_list], y_val_list, yerr=yerr, c=color)\n",
    "    \n",
    "# ax.legend(loc='top')\n",
    "\n",
    "# ax.set_xticks([2,4,6,8, 10, 12])\n",
    "# # ax.set_yticks([0,10,20,30,40,50])\n",
    "# ymin, ymax = ax.get_ylim()\n",
    "# ax.set_ylim((1e-3,0.4))\n",
    "\n",
    "ax.legend(loc='best', fontsize= fontsize-8)\n",
    "ax.tick_params(axis='both', labelsize= fontsize)\n",
    "ax.set_ylabel('birth/death rate (ms$^{-1}$)', fontsize=fontsize)\n",
    "ax.set_xlabel('n/2', fontsize=fontsize) \n",
    "if log_scale:\n",
    "    ax.set_yscale('log')\n",
    "# ax.set_title(f'$\\sigma = {sigma}$, threshold = {threshold}', fontsize=fontsize)\n",
    "                    \n",
    "# ax.set_title('high frequency birth deaths observed', fontsize=fontsize)\n",
    "# ax.axis([20,60,0,7])\n",
    "  \n",
    "    \n",
    "if not saving: \n",
    "    plt.show() \n",
    "else:\n",
    "    plt.tight_layout()\n",
    "    os.chdir(savefig_dir)\n",
    "    plt.savefig(savefig_fn, dpi=300)\n",
    "    print(f\"saved figure in \\n\\t{savefig_fn}.\")\n"
   ]
  },
  {
   "cell_type": "code",
   "execution_count": 186,
   "metadata": {
    "ExecuteTime": {
     "end_time": "2020-11-05T22:59:15.828014Z",
     "start_time": "2020-11-05T22:59:15.804944Z"
    }
   },
   "outputs": [
    {
     "data": {
      "text/plain": [
       "(14,)"
      ]
     },
     "execution_count": 186,
     "metadata": {},
     "output_type": "execute_result"
    }
   ],
   "source": [
    "# import trackpy\n",
    "y_values.shape\n",
    "# trackpy.link_iter?"
   ]
  },
  {
   "cell_type": "code",
   "execution_count": 170,
   "metadata": {
    "ExecuteTime": {
     "end_time": "2020-11-05T22:57:16.780624Z",
     "start_time": "2020-11-05T22:57:16.760141Z"
    }
   },
   "outputs": [
    {
     "data": {
      "text/plain": [
       "(14,)"
      ]
     },
     "execution_count": 170,
     "metadata": {},
     "output_type": "execute_result"
    }
   ],
   "source": [
    "#the number when considering rates <= 0.1, we have\n",
    "y_values.shape"
   ]
  },
  {
   "cell_type": "code",
   "execution_count": 173,
   "metadata": {
    "ExecuteTime": {
     "end_time": "2020-11-05T22:57:57.294420Z",
     "start_time": "2020-11-05T22:57:57.273024Z"
    }
   },
   "outputs": [
    {
     "data": {
      "text/plain": [
       "(26,)"
      ]
     },
     "execution_count": 173,
     "metadata": {},
     "output_type": "execute_result"
    }
   ],
   "source": [
    "df.n.values.shape"
   ]
  },
  {
   "cell_type": "code",
   "execution_count": 174,
   "metadata": {
    "ExecuteTime": {
     "end_time": "2020-11-05T22:57:58.088861Z",
     "start_time": "2020-11-05T22:57:58.062342Z"
    }
   },
   "outputs": [
    {
     "data": {
      "text/html": [
       "<div>\n",
       "<style scoped>\n",
       "    .dataframe tbody tr th:only-of-type {\n",
       "        vertical-align: middle;\n",
       "    }\n",
       "\n",
       "    .dataframe tbody tr th {\n",
       "        vertical-align: top;\n",
       "    }\n",
       "\n",
       "    .dataframe thead th {\n",
       "        text-align: right;\n",
       "    }\n",
       "</style>\n",
       "<table border=\"1\" class=\"dataframe\">\n",
       "  <thead>\n",
       "    <tr style=\"text-align: right;\">\n",
       "      <th></th>\n",
       "      <th>t</th>\n",
       "      <th>n</th>\n",
       "      <th>dn</th>\n",
       "      <th>rates</th>\n",
       "    </tr>\n",
       "    <tr>\n",
       "      <th>index</th>\n",
       "      <th></th>\n",
       "      <th></th>\n",
       "      <th></th>\n",
       "      <th></th>\n",
       "    </tr>\n",
       "  </thead>\n",
       "  <tbody>\n",
       "  </tbody>\n",
       "</table>\n",
       "</div>"
      ],
      "text/plain": [
       "Empty DataFrame\n",
       "Columns: [t, n, dn, rates]\n",
       "Index: []"
      ]
     },
     "execution_count": 174,
     "metadata": {},
     "output_type": "execute_result"
    }
   ],
   "source": [
    "df[(df.n%2==1)]"
   ]
  },
  {
   "cell_type": "code",
   "execution_count": null,
   "metadata": {
    "ExecuteTime": {
     "end_time": "2020-08-19T20:32:35.053829Z",
     "start_time": "2020-08-19T20:32:35.032721Z"
    }
   },
   "outputs": [],
   "source": []
  },
  {
   "cell_type": "code",
   "execution_count": 175,
   "metadata": {
    "ExecuteTime": {
     "end_time": "2020-11-05T22:58:03.257467Z",
     "start_time": "2020-11-05T22:58:03.237167Z"
    }
   },
   "outputs": [],
   "source": [
    "# from lib.birth_death_rates_from_ic import *\n",
    "# initial_condition_dir = '/Users/timothytyree/Documents/GitHub/care/notebooks/Data/initial-conditions-suite-1/ic-in/ic_200x200.121.33.npz'\n",
    "# birth_death_rates_from_ic(initial_condition_dir)"
   ]
  },
  {
   "cell_type": "markdown",
   "metadata": {
    "ExecuteTime": {
     "end_time": "2020-11-05T21:31:15.378973Z",
     "start_time": "2020-11-05T21:31:15.350963Z"
    }
   },
   "source": [
    "# Test the full routine for generating tip logs"
   ]
  },
  {
   "cell_type": "code",
   "execution_count": 202,
   "metadata": {
    "ExecuteTime": {
     "end_time": "2020-11-05T23:32:10.005100Z",
     "start_time": "2020-11-05T23:32:09.978163Z"
    }
   },
   "outputs": [],
   "source": [
    "from lib.routines.kwargs_cy import get_kwargs\n",
    "from lib.routines.generate_tip_logs_cy import generate_tip_logs_from_ic\n",
    "def run_routine(ic):\n",
    "    kwargs = get_kwargs(ic)\n",
    "    kwargs = generate_tip_logs_from_ic(ic, **kwargs)\n",
    "    return True"
   ]
  },
  {
   "cell_type": "code",
   "execution_count": 203,
   "metadata": {
    "ExecuteTime": {
     "end_time": "2020-11-05T23:32:13.651359Z",
     "start_time": "2020-11-05T23:32:13.625512Z"
    }
   },
   "outputs": [
    {
     "data": {
      "text/plain": [
       "<function lib.routines.kwargs_cy.get_kwargs(ic)>"
      ]
     },
     "execution_count": 203,
     "metadata": {},
     "output_type": "execute_result"
    }
   ],
   "source": [
    "get_kwargs"
   ]
  },
  {
   "cell_type": "code",
   "execution_count": 204,
   "metadata": {
    "ExecuteTime": {
     "end_time": "2020-11-05T23:32:14.519371Z",
     "start_time": "2020-11-05T23:32:14.493600Z"
    }
   },
   "outputs": [
    {
     "data": {
      "text/plain": [
       "<function lib.routines.generate_tip_logs_cy.generate_tip_logs_from_ic(initial_condition_dir, h, tmax, V_threshold, theta_threshold, tmin_early_stopping, save_every_n_frames, round_output_decimals, timing, printing, logging, asserting, beeping, saving, data_dir_log, completed_ic_dir, print_log_dir, **kwargs)>"
      ]
     },
     "execution_count": 204,
     "metadata": {},
     "output_type": "execute_result"
    }
   ],
   "source": [
    "generate_tip_logs_from_ic"
   ]
  },
  {
   "cell_type": "code",
   "execution_count": 206,
   "metadata": {
    "ExecuteTime": {
     "end_time": "2020-11-05T23:32:26.047093Z",
     "start_time": "2020-11-05T23:32:26.023511Z"
    }
   },
   "outputs": [],
   "source": [
    "# ic = search_for_file()\n",
    "ic = '/Users/timothytyree/Documents/GitHub/care/notebooks/Data/initial-conditions-suite-1/ic-in/ic_200x200.121.32.npz'\n",
    "kwargs = get_kwargs(ic)"
   ]
  },
  {
   "cell_type": "code",
   "execution_count": 207,
   "metadata": {
    "ExecuteTime": {
     "end_time": "2020-11-05T23:32:27.192358Z",
     "start_time": "2020-11-05T23:32:27.167983Z"
    }
   },
   "outputs": [],
   "source": [
    "kwargs['tmax'] = 100"
   ]
  },
  {
   "cell_type": "code",
   "execution_count": 208,
   "metadata": {
    "ExecuteTime": {
     "end_time": "2020-11-05T23:33:05.129646Z",
     "start_time": "2020-11-05T23:32:27.892462Z"
    }
   },
   "outputs": [],
   "source": [
    "kwargs = generate_tip_logs_from_ic(ic, **kwargs)"
   ]
  },
  {
   "cell_type": "code",
   "execution_count": 209,
   "metadata": {
    "ExecuteTime": {
     "end_time": "2020-11-05T23:33:06.261235Z",
     "start_time": "2020-11-05T23:33:05.566083Z"
    }
   },
   "outputs": [
    {
     "data": {
      "text/plain": [
       "0"
      ]
     },
     "execution_count": 209,
     "metadata": {},
     "output_type": "execute_result"
    }
   ],
   "source": [
    "beep(3)"
   ]
  },
  {
   "cell_type": "code",
   "execution_count": null,
   "metadata": {},
   "outputs": [],
   "source": []
  }
 ],
 "metadata": {
  "kernelspec": {
   "display_name": "Python 3",
   "language": "python",
   "name": "python3"
  },
  "language_info": {
   "codemirror_mode": {
    "name": "ipython",
    "version": 3
   },
   "file_extension": ".py",
   "mimetype": "text/x-python",
   "name": "python",
   "nbconvert_exporter": "python",
   "pygments_lexer": "ipython3",
   "version": "3.8.5"
  },
  "varInspector": {
   "cols": {
    "lenName": 16,
    "lenType": 16,
    "lenVar": 40
   },
   "kernels_config": {
    "python": {
     "delete_cmd_postfix": "",
     "delete_cmd_prefix": "del ",
     "library": "var_list.py",
     "varRefreshCmd": "print(var_dic_list())"
    },
    "r": {
     "delete_cmd_postfix": ") ",
     "delete_cmd_prefix": "rm(",
     "library": "var_list.r",
     "varRefreshCmd": "cat(var_dic_list()) "
    }
   },
   "types_to_exclude": [
    "module",
    "function",
    "builtin_function_or_method",
    "instance",
    "_Feature"
   ],
   "window_display": false
  }
 },
 "nbformat": 4,
 "nbformat_minor": 4
}
