{
 "cells": [
  {
   "cell_type": "markdown",
   "metadata": {},
   "source": [
    "# Visualize Birth Death Rates For a Given Folder\n",
    "Tim Tyree<br>\n",
    "8.12.2020"
   ]
  },
  {
   "cell_type": "code",
   "execution_count": 1,
   "metadata": {
    "ExecuteTime": {
     "end_time": "2020-08-15T22:28:03.017373Z",
     "start_time": "2020-08-15T22:28:01.732875Z"
    }
   },
   "outputs": [
    {
     "name": "stdout",
     "output_type": "stream",
     "text": [
      "100000\n",
      "Automatic calling is: Smart\n"
     ]
    }
   ],
   "source": [
    "import pandas as pd, numpy as np, matplotlib.pyplot as plt\n",
    "\n",
    "#automate the boring stuff\n",
    "# from IPython import utils\n",
    "import time, os, sys, re\n",
    "beep = lambda x: os.system(\"echo -n '\\\\a';sleep 0.2;\" * x)\n",
    "if not 'nb_dir' in globals():\n",
    "    nb_dir = os.getcwd()\n",
    "    \n",
    "#load the libraries\n",
    "from lib import *\n",
    "\n",
    "%autocall 1\n",
    "%load_ext autoreload\n",
    "%autoreload 2"
   ]
  },
  {
   "cell_type": "markdown",
   "metadata": {},
   "source": [
    "# combine all of the relevant files in a given folder into one .csv"
   ]
  },
  {
   "cell_type": "code",
   "execution_count": 3,
   "metadata": {
    "ExecuteTime": {
     "end_time": "2020-08-15T22:28:36.474797Z",
     "start_time": "2020-08-15T22:28:24.251263Z"
    }
   },
   "outputs": [
    {
     "name": "stdout",
     "output_type": "stream",
     "text": [
      "please select a file from within the desired folder.\n",
      "File: /home/timothytyree/Documents/GitHub/care/notebooks/Data/initial-conditions-suite-2/ds_5_param_set_8/birth-death-rates/ic_200x200.001.11_ds_5_sigma_1.5_threshold_0.6_sr_50_mem_2_tmin_100_LT_2_bdrates.csv\n"
     ]
    }
   ],
   "source": [
    "#find file interactively\n",
    "print(\"please select a file from within the desired folder.\")\n",
    "file = search_for_file()"
   ]
  },
  {
   "cell_type": "code",
   "execution_count": 4,
   "metadata": {
    "ExecuteTime": {
     "end_time": "2020-08-15T22:28:40.338540Z",
     "start_time": "2020-08-15T22:28:40.318881Z"
    }
   },
   "outputs": [],
   "source": [
    "#9 samples LT = 0\n",
    "# file =  '/Users/timothytyree/Documents/GitHub/care/notebooks/Data/ds_5_param_set_8/birth-death-rates/33_ds_5_sigma_1.5_threshold_0.6__traj_sr_40_mem_2_bdrates.csv'\n",
    "\n",
    "#>60 samples LT = 2\n",
    "# file = '/Users/timothytyree/Documents/GitHub/care/notebooks/Data/initial-conditions-suite-1/ds_5_param_set_8/birth-death-rates/ic_200x200.117.21_ds_5_sigma_1.5_threshold_0.6_sr_50_mem_2_tmin_100_LT_2_bdrates.csv'\n",
    "#change to the directory containing file\n",
    "folder_name = os.path.dirname(file)\n",
    "os.chdir(folder_name)\n",
    "\n",
    "#find folder interactively. Crashes jupyter's root kernel :(\n",
    "# from tkinter import Tk\n",
    "# from tkinter.filedialog import askdirectory\n",
    "# path = askdirectory(title='Select Folder') # shows dialog box and return the path\n",
    "# print(path) "
   ]
  },
  {
   "cell_type": "code",
   "execution_count": 48,
   "metadata": {
    "ExecuteTime": {
     "end_time": "2020-08-15T23:29:48.652963Z",
     "start_time": "2020-08-15T23:29:48.629726Z"
    }
   },
   "outputs": [],
   "source": [
    "# get all .csv files in the current working directory\n",
    "retval = !ls\n",
    "file_name_list = list(retval)\n",
    "# check each file if it ends in .csv before merging it\n",
    "def is_csv(file_name):\n",
    "    return file_name[-4:]=='.csv'\n",
    "file_name_list = [f for f in file_name_list if is_csv(f)]"
   ]
  },
  {
   "cell_type": "code",
   "execution_count": 6,
   "metadata": {
    "ExecuteTime": {
     "end_time": "2020-08-15T22:28:42.259822Z",
     "start_time": "2020-08-15T22:28:42.225779Z"
    }
   },
   "outputs": [
    {
     "name": "stdout",
     "output_type": "stream",
     "text": [
      "149\n"
     ]
    }
   ],
   "source": [
    "print(len(file_name_list))"
   ]
  },
  {
   "cell_type": "code",
   "execution_count": 7,
   "metadata": {
    "ExecuteTime": {
     "end_time": "2020-08-15T22:28:43.173825Z",
     "start_time": "2020-08-15T22:28:43.159957Z"
    }
   },
   "outputs": [
    {
     "data": {
      "text/plain": [
       "171"
      ]
     },
     "execution_count": 7,
     "metadata": {},
     "output_type": "execute_result"
    }
   ],
   "source": [
    "149/9\n",
    "19*9"
   ]
  },
  {
   "cell_type": "code",
   "execution_count": 8,
   "metadata": {
    "ExecuteTime": {
     "end_time": "2020-08-15T22:28:44.377681Z",
     "start_time": "2020-08-15T22:28:44.363392Z"
    }
   },
   "outputs": [],
   "source": [
    "def produce_one_csv(list_of_files, file_out):\n",
    "   # Consolidate all csv files into one object\n",
    "   result_obj = pd.concat([pd.read_csv(file) for file in list_of_files])\n",
    "   # Convert the above object into a csv file and export\n",
    "   result_obj.to_csv(file_out, index=False, encoding=\"utf-8\")"
   ]
  },
  {
   "cell_type": "code",
   "execution_count": 9,
   "metadata": {
    "ExecuteTime": {
     "end_time": "2020-08-15T22:28:49.047560Z",
     "start_time": "2020-08-15T22:28:48.772234Z"
    }
   },
   "outputs": [],
   "source": [
    "file_out = \"../consolidated_rates.csv\"\n",
    "produce_one_csv(list_of_files=file_name_list, file_out=file_out)"
   ]
  },
  {
   "cell_type": "markdown",
   "metadata": {
    "heading_collapsed": true
   },
   "source": [
    "# visualize the consolidated_rates.csv"
   ]
  },
  {
   "cell_type": "markdown",
   "metadata": {
    "heading_collapsed": true,
    "hidden": true
   },
   "source": [
    "## visualize termination times"
   ]
  },
  {
   "cell_type": "code",
   "execution_count": 10,
   "metadata": {
    "ExecuteTime": {
     "end_time": "2020-08-15T22:28:51.401958Z",
     "start_time": "2020-08-15T22:28:51.382391Z"
    },
    "hidden": true
   },
   "outputs": [],
   "source": [
    "#sort a df into the rows with termination times and everything else\n",
    "os.chdir(folder_name)\n",
    "df = pd.read_csv(file_out)\n",
    "na_loc = df.isna().T.any()\n",
    "df_term = df[na_loc].copy()\n",
    "termination_times = df_term['t'].values\n",
    "# df_bd = df[~na_loc].copy() "
   ]
  },
  {
   "cell_type": "code",
   "execution_count": 11,
   "metadata": {
    "ExecuteTime": {
     "end_time": "2020-08-15T22:28:55.439450Z",
     "start_time": "2020-08-15T22:28:55.425093Z"
    },
    "hidden": true
   },
   "outputs": [
    {
     "name": "stdout",
     "output_type": "stream",
     "text": [
      "the mean termination time is \n",
      "                1365 ± 1311 ms\n",
      "                \n",
      "the median termination time is \n",
      "                876 ms (IQR:  265 - 1888 ms)\n",
      "                \n"
     ]
    }
   ],
   "source": [
    "print(f\"\"\"the mean termination time is \n",
    "                {np.mean(termination_times):.0f} ± {np.std(termination_times):.0f} ms\n",
    "                \"\"\")\n",
    "print(f\"\"\"the median termination time is \n",
    "                {np.median(termination_times):.0f} ms (IQR:  {np.quantile(termination_times, 0.25):.0f} - {np.quantile(termination_times, 0.75):.0f} ms)\n",
    "                \"\"\")"
   ]
  },
  {
   "cell_type": "code",
   "execution_count": 12,
   "metadata": {
    "ExecuteTime": {
     "end_time": "2020-08-15T22:29:02.050456Z",
     "start_time": "2020-08-15T22:29:02.036621Z"
    },
    "hidden": true
   },
   "outputs": [],
   "source": [
    "r = 1/np.mean(termination_times)\n",
    "def P(k,t):\n",
    "    '''the probability that k events occur in time t'''\n",
    "    return (r*t)**k*np.exp(-r*t)/np.math.factorial(k)"
   ]
  },
  {
   "cell_type": "code",
   "execution_count": 14,
   "metadata": {
    "ExecuteTime": {
     "end_time": "2020-08-15T22:29:53.297213Z",
     "start_time": "2020-08-15T22:29:53.139322Z"
    },
    "hidden": true
   },
   "outputs": [
    {
     "ename": "FileNotFoundError",
     "evalue": "[Errno 2] No such file or directory: '/home/timothytyree/Documents/GitHub/care/notebooks/Figures/birth_death_analysis'",
     "output_type": "error",
     "traceback": [
      "\u001b[0;31m---------------------------------------------------------------------------\u001b[0m",
      "\u001b[0;31mFileNotFoundError\u001b[0m                         Traceback (most recent call last)",
      "\u001b[0;32m<ipython-input-14-b29e881ef974>\u001b[0m in \u001b[0;36m<module>\u001b[0;34m\u001b[0m\n\u001b[1;32m     26\u001b[0m \u001b[0;32melse\u001b[0m\u001b[0;34m:\u001b[0m\u001b[0;34m\u001b[0m\u001b[0;34m\u001b[0m\u001b[0m\n\u001b[1;32m     27\u001b[0m     \u001b[0mplt\u001b[0m\u001b[0;34m.\u001b[0m\u001b[0mtight_layout\u001b[0m\u001b[0;34m(\u001b[0m\u001b[0;34m)\u001b[0m\u001b[0;34m\u001b[0m\u001b[0;34m\u001b[0m\u001b[0m\n\u001b[0;32m---> 28\u001b[0;31m     \u001b[0mos\u001b[0m\u001b[0;34m.\u001b[0m\u001b[0mchdir\u001b[0m\u001b[0;34m(\u001b[0m\u001b[0msavefig_dir\u001b[0m\u001b[0;34m)\u001b[0m\u001b[0;34m\u001b[0m\u001b[0;34m\u001b[0m\u001b[0m\n\u001b[0m\u001b[1;32m     29\u001b[0m     \u001b[0mplt\u001b[0m\u001b[0;34m.\u001b[0m\u001b[0msavefig\u001b[0m\u001b[0;34m(\u001b[0m\u001b[0msavefig_fn\u001b[0m\u001b[0;34m,\u001b[0m \u001b[0mdpi\u001b[0m\u001b[0;34m=\u001b[0m\u001b[0;36m300\u001b[0m\u001b[0;34m)\u001b[0m\u001b[0;34m\u001b[0m\u001b[0;34m\u001b[0m\u001b[0m\n\u001b[1;32m     30\u001b[0m     \u001b[0mprint\u001b[0m\u001b[0;34m(\u001b[0m\u001b[0;34mf\"saved figure in \\n\\t{savefig_fn}.\"\u001b[0m\u001b[0;34m)\u001b[0m\u001b[0;34m\u001b[0m\u001b[0;34m\u001b[0m\u001b[0m\n",
      "\u001b[0;31mFileNotFoundError\u001b[0m: [Errno 2] No such file or directory: '/home/timothytyree/Documents/GitHub/care/notebooks/Figures/birth_death_analysis'"
     ]
    },
    {
     "data": {
      "image/png": "[encoded data removed]",
      "text/plain": [
       "<Figure size 360x360 with 1 Axes>"
      ]
     },
     "metadata": {
      "needs_background": "light"
     },
     "output_type": "display_data"
    }
   ],
   "source": [
    "#plot the histogram of termination times\n",
    "saving = True\n",
    "fontsize=16\n",
    "\n",
    "savefig_dir = f'{nb_dir}/Figures/birth_death_analysis'\n",
    "savefig_fn = 'histogram_termination_times_suite-2.png'\n",
    "\n",
    "fig, ax = plt.subplots(figsize=(5, 5))\n",
    "ax.hist(termination_times, bins = 10)\n",
    "\n",
    "# #overlay a poisson distribution\n",
    "# N = len(termination_times)\n",
    "# x_values = np.linspace(1,6000,100)\n",
    "# y_values = N*P(1,x_values)\n",
    "# ax.plot(x_values,y_values)\n",
    "\n",
    "#format plot\n",
    "# plt.title(f'''termination times for 9 200x200 patches''', fontsize=fontsize)\n",
    "ax.set_ylabel('freq.', fontsize=fontsize)\n",
    "ax.set_xlabel('termination times (ms)', fontsize=fontsize)\n",
    "ax.tick_params(axis='both', which='both', labelsize=fontsize)\n",
    "ax.set_ylim((0,80))\n",
    "\n",
    "if not saving: \n",
    "    plt.show() \n",
    "else:\n",
    "    plt.tight_layout()\n",
    "    os.chdir(savefig_dir)\n",
    "    plt.savefig(savefig_fn, dpi=300)\n",
    "    print(f\"saved figure in \\n\\t{savefig_fn}.\")"
   ]
  },
  {
   "cell_type": "code",
   "execution_count": 28,
   "metadata": {
    "ExecuteTime": {
     "end_time": "2020-08-15T18:03:13.885262Z",
     "start_time": "2020-08-15T18:03:13.738855Z"
    },
    "hidden": true
   },
   "outputs": [],
   "source": [
    "ax.hist?"
   ]
  },
  {
   "cell_type": "code",
   "execution_count": 22,
   "metadata": {
    "ExecuteTime": {
     "end_time": "2020-08-15T18:01:55.589400Z",
     "start_time": "2020-08-15T18:01:55.568882Z"
    },
    "hidden": true
   },
   "outputs": [],
   "source": [
    "# from scipy.stats import poisson"
   ]
  },
  {
   "cell_type": "code",
   "execution_count": 19,
   "metadata": {
    "ExecuteTime": {
     "end_time": "2020-08-15T18:01:22.645850Z",
     "start_time": "2020-08-15T18:01:22.621838Z"
    },
    "hidden": true
   },
   "outputs": [
    {
     "data": {
      "text/plain": [
       "720"
      ]
     },
     "execution_count": 19,
     "metadata": {},
     "output_type": "execute_result"
    }
   ],
   "source": []
  },
  {
   "cell_type": "code",
   "execution_count": 21,
   "metadata": {
    "ExecuteTime": {
     "end_time": "2020-08-14T20:41:50.120893Z",
     "start_time": "2020-08-14T20:41:50.070177Z"
    },
    "hidden": true
   },
   "outputs": [
    {
     "data": {
      "text/plain": [
       "7.043322813315152e-114"
      ]
     },
     "execution_count": 21,
     "metadata": {},
     "output_type": "execute_result"
    }
   ],
   "source": [
    "dist.pmf(5)"
   ]
  },
  {
   "cell_type": "markdown",
   "metadata": {
    "hidden": true
   },
   "source": [
    "## visualize birth death rates"
   ]
  },
  {
   "cell_type": "code",
   "execution_count": 15,
   "metadata": {
    "ExecuteTime": {
     "end_time": "2020-08-15T22:29:59.063488Z",
     "start_time": "2020-08-15T22:29:59.027583Z"
    },
    "hidden": true
   },
   "outputs": [],
   "source": [
    "#import data\n",
    "os.chdir(folder_name)\n",
    "df = pd.read_csv(file_out)\n",
    "\n",
    "#drop termination times\n",
    "df.dropna(inplace=True)\n",
    "\n",
    "#drop rows with rates over 100/ms\n",
    "df = df.loc[df.rates<=9].copy()\n",
    "\n",
    "\n",
    "dn_list = sorted(set(df.dn.values))\n",
    "dn_list = [-2,2]"
   ]
  },
  {
   "cell_type": "code",
   "execution_count": null,
   "metadata": {
    "ExecuteTime": {
     "end_time": "2020-08-14T20:46:21.153268Z",
     "start_time": "2020-08-14T20:46:21.104403Z"
    },
    "hidden": true
   },
   "outputs": [],
   "source": []
  },
  {
   "cell_type": "code",
   "execution_count": 16,
   "metadata": {
    "ExecuteTime": {
     "end_time": "2020-08-15T22:30:02.910658Z",
     "start_time": "2020-08-15T22:30:02.755175Z"
    },
    "hidden": true
   },
   "outputs": [],
   "source": [
    "#compute median rates and IQR for the error bars corresponding to each category in dn_list\n",
    "errorbar_data_list = []\n",
    "for dn in dn_list:  \n",
    "    #iterate over n for each dn\n",
    "    df2 = df.loc[df.dn==dn].copy()\n",
    "    n_list = sorted(set(df2.n.values))\n",
    "    y_val_list = []\n",
    "    y_err_1_list = []\n",
    "    y_err_2_list = []\n",
    "    for n in n_list:\n",
    "        df3 = df2.loc[df2.n == n].copy()\n",
    "        y_val, y_err_1, y_err_2 = df3.describe().T[['50%', '25%', '75%']].loc['rates'].values\n",
    "        y_err_2 = float(y_err_2 - y_val)\n",
    "        y_err_1 = float(y_val - y_err_1)\n",
    "        y_val = float(y_val)\n",
    "        y_val_list.append(y_val)\n",
    "        y_err_1_list.append(y_err_1)\n",
    "        y_err_2_list.append(y_err_2)\n",
    "    # errorbar_data = (dn, n_list, y_val_list, y_err_1_list, y_err_2_list)\n",
    "    errorbar_data = {'dn':dn, \n",
    "                     'n_list':n_list, \n",
    "                     'y_val_list':y_val_list, \n",
    "                     'y_err_1_list':y_err_1_list, \n",
    "                     'y_err_2_list':y_err_2_list\n",
    "                    }\n",
    "    errorbar_data_list.append(errorbar_data)    "
   ]
  },
  {
   "cell_type": "code",
   "execution_count": 17,
   "metadata": {
    "ExecuteTime": {
     "end_time": "2020-08-15T22:30:03.805821Z",
     "start_time": "2020-08-15T22:30:03.792054Z"
    },
    "hidden": true
   },
   "outputs": [],
   "source": [
    "#retrieve scatter plot data points for each category in dn_list\n",
    "scatter_data_list = []\n",
    "for dn in dn_list:  \n",
    "    df2 = df.loc[df.dn==dn].copy()\n",
    "    x_values = df2.n.values\n",
    "    y_values = df2.rates.values\n",
    "    scatter_data = {'dn':dn, \n",
    "                     'x_values':x_values, \n",
    "                     'y_values':y_values, \n",
    "                    }\n",
    "    scatter_data_list.append(scatter_data)"
   ]
  },
  {
   "cell_type": "code",
   "execution_count": 18,
   "metadata": {
    "ExecuteTime": {
     "end_time": "2020-08-15T22:30:04.280774Z",
     "start_time": "2020-08-15T22:30:04.260737Z"
    },
    "hidden": true
   },
   "outputs": [],
   "source": [
    "#assign a color/label/other formatting to each category in dn_list\n",
    "color_list_raw = ['red', 'blue', 'green', 'orange', 'brown', 'purple']\n",
    "formatting_data_list = []\n",
    "for i, dn in enumerate(dn_list):\n",
    "    formatting_data = {\n",
    "        'dn': dn,\n",
    "        'color': color_list_raw[i],\n",
    "        'label':f'$W_{{{int(dn):+d}}}$'\n",
    "    }\n",
    "    formatting_data_list.append(formatting_data)   "
   ]
  },
  {
   "cell_type": "code",
   "execution_count": 19,
   "metadata": {
    "ExecuteTime": {
     "end_time": "2020-08-15T22:30:05.294262Z",
     "start_time": "2020-08-15T22:30:05.261048Z"
    },
    "hidden": true
   },
   "outputs": [],
   "source": [
    "assert (len(formatting_data_list) is len(scatter_data_list ))\n",
    "assert (len(formatting_data_list) is len(errorbar_data_list))"
   ]
  },
  {
   "cell_type": "code",
   "execution_count": 20,
   "metadata": {
    "ExecuteTime": {
     "end_time": "2020-08-15T22:30:13.863889Z",
     "start_time": "2020-08-15T22:30:13.539731Z"
    },
    "hidden": true
   },
   "outputs": [
    {
     "data": {
      "image/png": "[encoded data removed]",
      "text/plain": [
       "<Figure size 432x360 with 1 Axes>"
      ]
     },
     "metadata": {
      "needs_background": "light"
     },
     "output_type": "display_data"
    }
   ],
   "source": [
    "saving = False\n",
    "\n",
    "savefig_dir = f'{nb_dir}/Figures/birth_death_analysis'\n",
    "savefig_fn = 'birth_death_rates.png'\n",
    "# savefig_fn = 'birth_death_rates_log.png'\n",
    "log_scale = False\n",
    "fontsize=20\n",
    "figsize=(6,5)\n",
    "\n",
    "# def birth_death_plot(*y_axis_struct_list):\n",
    "\n",
    "# plot birth death rates with IQR y error bars with n on the x axis\n",
    "fig, ax = plt.subplots(figsize=figsize)\n",
    "for scatter_data, errorbar_data, formatting_data in zip(\n",
    "    scatter_data_list, errorbar_data_list, formatting_data_list):\n",
    "\n",
    "    dn, x_values, y_values = scatter_data.values()\n",
    "    dn, n_list, y_val_list, y_err_1_list, y_err_2_list = errorbar_data.values()\n",
    "    dn, color, label = formatting_data.values()\n",
    "    yerr = np.array(list(zip(y_err_1_list,y_err_2_list))).T\n",
    "    \n",
    "    ax.scatter(x=x_values/2,y=y_values, c=color, s=10, alpha=0.5, label=label)\n",
    "    ax.errorbar([n/2 for n in n_list], y_val_list, yerr=yerr, c=color)\n",
    "    \n",
    "# ax.legend(loc='top')\n",
    "\n",
    "# # ax.set_xticks(xticks)\n",
    "# # ax.set_yticks([0,10,20,30,40,50])\n",
    "# ymin, ymax = ax.get_ylim()\n",
    "# ax.set_ylim((1e-3,0.4))\n",
    "\n",
    "ax.legend(loc='best', fontsize= fontsize-8)\n",
    "ax.tick_params(axis='both', labelsize= fontsize)\n",
    "ax.set_ylabel('birth/death rate (ms$^{-1}$)', fontsize=fontsize)\n",
    "ax.set_xlabel('n/2', fontsize=fontsize) \n",
    "if log_scale:\n",
    "    ax.set_yscale('log')\n",
    "# ax.set_title(f'$\\sigma = {sigma}$, threshold = {threshold}', fontsize=fontsize)\n",
    "                    \n",
    "# ax.set_title('high frequency birth deaths observed', fontsize=fontsize)\n",
    "# ax.axis([20,60,0,7])\n",
    "  \n",
    "    \n",
    "if not saving: \n",
    "    plt.show() \n",
    "else:\n",
    "    plt.tight_layout()\n",
    "    os.chdir(savefig_dir)\n",
    "    plt.savefig(savefig_fn, dpi=300)\n",
    "    print(f\"saved figure in \\n\\t{savefig_fn}.\")\n"
   ]
  },
  {
   "cell_type": "code",
   "execution_count": 61,
   "metadata": {
    "ExecuteTime": {
     "end_time": "2020-08-15T18:10:56.715693Z",
     "start_time": "2020-08-15T18:10:56.692585Z"
    },
    "hidden": true
   },
   "outputs": [],
   "source": [
    "# import trackpy\n",
    "\n",
    "# trackpy.link_iter?"
   ]
  },
  {
   "cell_type": "code",
   "execution_count": 60,
   "metadata": {
    "ExecuteTime": {
     "end_time": "2020-08-15T18:10:55.984198Z",
     "start_time": "2020-08-15T18:10:55.959193Z"
    },
    "hidden": true
   },
   "outputs": [],
   "source": [
    "# import inspect"
   ]
  },
  {
   "cell_type": "code",
   "execution_count": 79,
   "metadata": {
    "ExecuteTime": {
     "end_time": "2020-08-15T18:16:30.114605Z",
     "start_time": "2020-08-15T18:16:30.088366Z"
    },
    "hidden": true
   },
   "outputs": [
    {
     "data": {
      "text/plain": [
       "(3057,)"
      ]
     },
     "execution_count": 79,
     "metadata": {},
     "output_type": "execute_result"
    }
   ],
   "source": [
    "df.n.values.shape"
   ]
  },
  {
   "cell_type": "code",
   "execution_count": 21,
   "metadata": {
    "ExecuteTime": {
     "end_time": "2020-08-15T22:30:36.181193Z",
     "start_time": "2020-08-15T22:30:36.154833Z"
    },
    "hidden": true
   },
   "outputs": [
    {
     "data": {
      "text/html": [
       "<div>\n",
       "<style scoped>\n",
       "    .dataframe tbody tr th:only-of-type {\n",
       "        vertical-align: middle;\n",
       "    }\n",
       "\n",
       "    .dataframe tbody tr th {\n",
       "        vertical-align: top;\n",
       "    }\n",
       "\n",
       "    .dataframe thead th {\n",
       "        text-align: right;\n",
       "    }\n",
       "</style>\n",
       "<table border=\"1\" class=\"dataframe\">\n",
       "  <thead>\n",
       "    <tr style=\"text-align: right;\">\n",
       "      <th></th>\n",
       "      <th>index</th>\n",
       "      <th>t</th>\n",
       "      <th>n</th>\n",
       "      <th>dn</th>\n",
       "      <th>rates</th>\n",
       "    </tr>\n",
       "  </thead>\n",
       "  <tbody>\n",
       "    <tr>\n",
       "      <th>14</th>\n",
       "      <td>537</td>\n",
       "      <td>637.1</td>\n",
       "      <td>7</td>\n",
       "      <td>-1.0</td>\n",
       "      <td>0.043478</td>\n",
       "    </tr>\n",
       "    <tr>\n",
       "      <th>20</th>\n",
       "      <td>1090</td>\n",
       "      <td>1190.1</td>\n",
       "      <td>3</td>\n",
       "      <td>-1.0</td>\n",
       "      <td>0.055556</td>\n",
       "    </tr>\n",
       "    <tr>\n",
       "      <th>61</th>\n",
       "      <td>1168</td>\n",
       "      <td>1268.1</td>\n",
       "      <td>3</td>\n",
       "      <td>-1.0</td>\n",
       "      <td>0.008475</td>\n",
       "    </tr>\n",
       "    <tr>\n",
       "      <th>159</th>\n",
       "      <td>530</td>\n",
       "      <td>630.1</td>\n",
       "      <td>7</td>\n",
       "      <td>-3.0</td>\n",
       "      <td>0.333333</td>\n",
       "    </tr>\n",
       "    <tr>\n",
       "      <th>168</th>\n",
       "      <td>1055</td>\n",
       "      <td>1155.1</td>\n",
       "      <td>11</td>\n",
       "      <td>-1.0</td>\n",
       "      <td>0.050000</td>\n",
       "    </tr>\n",
       "    <tr>\n",
       "      <th>...</th>\n",
       "      <td>...</td>\n",
       "      <td>...</td>\n",
       "      <td>...</td>\n",
       "      <td>...</td>\n",
       "      <td>...</td>\n",
       "    </tr>\n",
       "    <tr>\n",
       "      <th>4293</th>\n",
       "      <td>1506</td>\n",
       "      <td>1606.1</td>\n",
       "      <td>5</td>\n",
       "      <td>-1.0</td>\n",
       "      <td>0.125000</td>\n",
       "    </tr>\n",
       "    <tr>\n",
       "      <th>4297</th>\n",
       "      <td>1824</td>\n",
       "      <td>1924.1</td>\n",
       "      <td>5</td>\n",
       "      <td>-1.0</td>\n",
       "      <td>0.022727</td>\n",
       "    </tr>\n",
       "    <tr>\n",
       "      <th>4314</th>\n",
       "      <td>3088</td>\n",
       "      <td>3188.1</td>\n",
       "      <td>3</td>\n",
       "      <td>-1.0</td>\n",
       "      <td>0.100000</td>\n",
       "    </tr>\n",
       "    <tr>\n",
       "      <th>4340</th>\n",
       "      <td>648</td>\n",
       "      <td>748.1</td>\n",
       "      <td>7</td>\n",
       "      <td>-1.0</td>\n",
       "      <td>0.030303</td>\n",
       "    </tr>\n",
       "    <tr>\n",
       "      <th>4351</th>\n",
       "      <td>1128</td>\n",
       "      <td>1228.1</td>\n",
       "      <td>5</td>\n",
       "      <td>-1.0</td>\n",
       "      <td>0.009524</td>\n",
       "    </tr>\n",
       "  </tbody>\n",
       "</table>\n",
       "<p>222 rows × 5 columns</p>\n",
       "</div>"
      ],
      "text/plain": [
       "      index       t   n   dn     rates\n",
       "14      537   637.1   7 -1.0  0.043478\n",
       "20     1090  1190.1   3 -1.0  0.055556\n",
       "61     1168  1268.1   3 -1.0  0.008475\n",
       "159     530   630.1   7 -3.0  0.333333\n",
       "168    1055  1155.1  11 -1.0  0.050000\n",
       "...     ...     ...  ..  ...       ...\n",
       "4293   1506  1606.1   5 -1.0  0.125000\n",
       "4297   1824  1924.1   5 -1.0  0.022727\n",
       "4314   3088  3188.1   3 -1.0  0.100000\n",
       "4340    648   748.1   7 -1.0  0.030303\n",
       "4351   1128  1228.1   5 -1.0  0.009524\n",
       "\n",
       "[222 rows x 5 columns]"
      ]
     },
     "execution_count": 21,
     "metadata": {},
     "output_type": "execute_result"
    }
   ],
   "source": [
    "df[(df.n%2==1)]"
   ]
  },
  {
   "cell_type": "code",
   "execution_count": 23,
   "metadata": {
    "ExecuteTime": {
     "end_time": "2020-08-15T22:31:31.152411Z",
     "start_time": "2020-08-15T22:31:31.114587Z"
    },
    "hidden": true
   },
   "outputs": [
    {
     "data": {
      "text/plain": [
       "index    645.00000\n",
       "t        745.10000\n",
       "n          4.00000\n",
       "dn        -2.00000\n",
       "rates      0.00495\n",
       "Name: 16, dtype: float64"
      ]
     },
     "execution_count": 23,
     "metadata": {},
     "output_type": "execute_result"
    }
   ],
   "source": [
    "df.iloc[14]"
   ]
  },
  {
   "cell_type": "code",
   "execution_count": 69,
   "metadata": {
    "ExecuteTime": {
     "end_time": "2020-08-15T18:13:52.408908Z",
     "start_time": "2020-08-15T18:13:52.383474Z"
    },
    "hidden": true
   },
   "outputs": [],
   "source": [
    "# from lib.birth_death_rates_from_ic import *\n",
    "# initial_condition_dir = '/Users/timothytyree/Documents/GitHub/care/notebooks/Data/initial-conditions-suite-1/ic-in/ic_200x200.121.33.npz'\n",
    "# birth_death_rates_from_ic(initial_condition_dir)"
   ]
  },
  {
   "cell_type": "markdown",
   "metadata": {
    "hidden": true
   },
   "source": [
    "### warning! odd tips detected!  \n",
    "These could be caused by \n",
    "- (made it huge, problem still persists)padding being too small (with this new D)\n",
    "- something funny in the tracking\n",
    "    - pad=5\n",
    "    - edge_tolerance = 3"
   ]
  },
  {
   "cell_type": "code",
   "execution_count": 90,
   "metadata": {
    "ExecuteTime": {
     "end_time": "2020-08-15T18:23:02.392440Z",
     "start_time": "2020-08-15T18:23:02.367691Z"
    },
    "hidden": true
   },
   "outputs": [],
   "source": [
    "# save_every_n_frames = 100"
   ]
  },
  {
   "cell_type": "code",
   "execution_count": 91,
   "metadata": {
    "ExecuteTime": {
     "end_time": "2020-08-15T18:23:35.211167Z",
     "start_time": "2020-08-15T18:23:35.180852Z"
    },
    "hidden": true
   },
   "outputs": [
    {
     "data": {
      "text/plain": [
       "100.0"
      ]
     },
     "execution_count": 91,
     "metadata": {},
     "output_type": "execute_result"
    }
   ],
   "source": [
    "10**6/10/10**3"
   ]
  },
  {
   "cell_type": "code",
   "execution_count": 93,
   "metadata": {
    "ExecuteTime": {
     "end_time": "2020-08-15T18:23:48.483292Z",
     "start_time": "2020-08-15T18:23:48.456592Z"
    },
    "hidden": true
   },
   "outputs": [
    {
     "data": {
      "text/plain": [
       "6.180200000004952"
      ]
     },
     "execution_count": 93,
     "metadata": {},
     "output_type": "execute_result"
    }
   ],
   "source": [
    "np.max(termination_times)/10**3"
   ]
  },
  {
   "cell_type": "markdown",
   "metadata": {
    "ExecuteTime": {
     "end_time": "2020-08-15T18:24:04.873325Z",
     "start_time": "2020-08-15T18:24:04.848885Z"
    },
    "hidden": true
   },
   "source": [
    "my max duration was 6.18 seconds.  wouter's mean termination time was ~26 seconds\n",
    "\n",
    "he saw 405 events, I saw ~3000 events"
   ]
  },
  {
   "cell_type": "markdown",
   "metadata": {},
   "source": [
    "# plot an odd birth death event's trajectory"
   ]
  },
  {
   "cell_type": "code",
   "execution_count": 97,
   "metadata": {
    "ExecuteTime": {
     "end_time": "2020-08-16T00:16:54.595990Z",
     "start_time": "2020-08-16T00:16:45.710291Z"
    }
   },
   "outputs": [
    {
     "name": "stdout",
     "output_type": "stream",
     "text": [
      "please select a file from within the desired folder.\n",
      "File: /home/timothytyree/Documents/GitHub/care/notebooks/Data/initial-conditions-suite-2/ic-out/ic_200x200.001.13.npz\n"
     ]
    }
   ],
   "source": [
    "#TODO: load a given trajectory file,\n",
    "#find file interactively/\n",
    "print(\"please select a file from within the desired folder.\")\n",
    "file = search_for_file()"
   ]
  },
  {
   "cell_type": "code",
   "execution_count": 77,
   "metadata": {
    "ExecuteTime": {
     "end_time": "2020-08-16T00:11:36.955262Z",
     "start_time": "2020-08-16T00:11:36.940457Z"
    }
   },
   "outputs": [],
   "source": [
    "def check_csv_for_odds(file):\n",
    "    df = pd.read_csv(file)\n",
    "    return (df.n%2==1).any()"
   ]
  },
  {
   "cell_type": "code",
   "execution_count": 78,
   "metadata": {
    "ExecuteTime": {
     "end_time": "2020-08-16T00:11:39.360006Z",
     "start_time": "2020-08-16T00:11:39.347222Z"
    }
   },
   "outputs": [],
   "source": [
    "# df.head()"
   ]
  },
  {
   "cell_type": "code",
   "execution_count": 79,
   "metadata": {
    "ExecuteTime": {
     "end_time": "2020-08-16T00:11:39.783640Z",
     "start_time": "2020-08-16T00:11:39.763184Z"
    }
   },
   "outputs": [],
   "source": [
    "folder_name = os.path.dirname(file)\n",
    "os.chdir(folder_name)\n",
    "file_name_list = [f for f in file_name_list if is_csv(f)]"
   ]
  },
  {
   "cell_type": "code",
   "execution_count": 80,
   "metadata": {
    "ExecuteTime": {
     "end_time": "2020-08-16T00:11:43.103049Z",
     "start_time": "2020-08-16T00:11:41.947089Z"
    }
   },
   "outputs": [],
   "source": [
    "for f in file_name_list:\n",
    "#     print(f)\n",
    "    assert(not  check_csv_for_odds(f) )"
   ]
  },
  {
   "cell_type": "code",
   "execution_count": 81,
   "metadata": {
    "ExecuteTime": {
     "end_time": "2020-08-16T00:11:46.998106Z",
     "start_time": "2020-08-16T00:11:46.981496Z"
    }
   },
   "outputs": [],
   "source": [
    "f = 'ic_200x200.001.11_ds_5_sigma_1.5_threshold_0.6_sr_50_mem_2_traj.csv'\n",
    "df = pd.read_csv(f)"
   ]
  },
  {
   "cell_type": "code",
   "execution_count": 82,
   "metadata": {
    "ExecuteTime": {
     "end_time": "2020-08-16T00:11:47.269921Z",
     "start_time": "2020-08-16T00:11:47.251399Z"
    }
   },
   "outputs": [
    {
     "data": {
      "text/html": [
       "<div>\n",
       "<style scoped>\n",
       "    .dataframe tbody tr th:only-of-type {\n",
       "        vertical-align: middle;\n",
       "    }\n",
       "\n",
       "    .dataframe tbody tr th {\n",
       "        vertical-align: top;\n",
       "    }\n",
       "\n",
       "    .dataframe thead th {\n",
       "        text-align: right;\n",
       "    }\n",
       "</style>\n",
       "<table border=\"1\" class=\"dataframe\">\n",
       "  <thead>\n",
       "    <tr style=\"text-align: right;\">\n",
       "      <th></th>\n",
       "      <th>t</th>\n",
       "      <th>x</th>\n",
       "      <th>y</th>\n",
       "      <th>s1</th>\n",
       "      <th>s2</th>\n",
       "      <th>n</th>\n",
       "      <th>V</th>\n",
       "      <th>f</th>\n",
       "      <th>s</th>\n",
       "      <th>frame</th>\n",
       "      <th>particle</th>\n",
       "    </tr>\n",
       "  </thead>\n",
       "  <tbody>\n",
       "  </tbody>\n",
       "</table>\n",
       "</div>"
      ],
      "text/plain": [
       "Empty DataFrame\n",
       "Columns: [t, x, y, s1, s2, n, V, f, s, frame, particle]\n",
       "Index: []"
      ]
     },
     "execution_count": 82,
     "metadata": {},
     "output_type": "execute_result"
    }
   ],
   "source": [
    "df.loc[df.n%2==1]\n",
    "#TODO: compute change in RAW spiral tip number\n",
    "#TODO: can I find any ODD changes in the RAW spiral tip number?\n"
   ]
  },
  {
   "cell_type": "code",
   "execution_count": 83,
   "metadata": {
    "ExecuteTime": {
     "end_time": "2020-08-16T00:11:49.438240Z",
     "start_time": "2020-08-16T00:11:49.419954Z"
    }
   },
   "outputs": [
    {
     "data": {
      "text/plain": [
       "False"
      ]
     },
     "execution_count": 83,
     "metadata": {},
     "output_type": "execute_result"
    }
   ],
   "source": [
    "check_csv_for_odds(f)"
   ]
  },
  {
   "cell_type": "markdown",
   "metadata": {
    "ExecuteTime": {
     "end_time": "2020-08-15T23:31:52.720770Z",
     "start_time": "2020-08-15T23:31:52.709029Z"
    }
   },
   "source": [
    "No RAW odd spiral tips exist in the new spiral tip data\n",
    "\n",
    "TODO(after finding the tracking problem): CHECK if RAW odd spiral tips exist in the OLD spiral tip data.\n",
    "\n",
    "THUS, it is in the tracking. RETRY with LT_thresh=0"
   ]
  },
  {
   "cell_type": "code",
   "execution_count": 63,
   "metadata": {
    "ExecuteTime": {
     "end_time": "2020-08-15T23:33:03.191271Z",
     "start_time": "2020-08-15T23:33:03.176666Z"
    }
   },
   "outputs": [],
   "source": [
    "#TODO(later): compute the spiral tip number from the number of tips to confirm it is from the tracking (waste of time)\n",
    "# TODO: recompute all trajectories with LT=0 and see if the problem goes away\n"
   ]
  },
  {
   "cell_type": "code",
   "execution_count": 64,
   "metadata": {
    "ExecuteTime": {
     "end_time": "2020-08-16T00:04:07.188294Z",
     "start_time": "2020-08-16T00:04:07.170591Z"
    }
   },
   "outputs": [],
   "source": [
    "#DONE: get the function for computing bdrates from trajectory file\n",
    "#DONE: get kwargs, give it width and height = 200 pixels\n",
    "#TODO: archive old bdrates\n",
    "#TODO: recompute bdrates WITH LT_THRESH=0, see if the problem goes away,\n",
    "#TODO: if it does, recompute on the ic-suite-1 results with LT=0 and see if the problem goes away."
   ]
  },
  {
   "cell_type": "code",
   "execution_count": 98,
   "metadata": {
    "ExecuteTime": {
     "end_time": "2020-08-16T00:17:01.720465Z",
     "start_time": "2020-08-16T00:17:01.703625Z"
    }
   },
   "outputs": [],
   "source": [
    "from lib.birth_death_rates_from_ic import _get_kwargs, compute_birth_death_rates\n",
    "\n",
    "\n",
    "#NOTE kwargs need to be initial conditions, NOT .trajectory files\n",
    "kwargs = _get_kwargs(file)\n",
    "kwargs['width']=200\n",
    "kwargs['height']=200\n",
    "kwargs['LT_thresh'] = 0"
   ]
  },
  {
   "cell_type": "code",
   "execution_count": 99,
   "metadata": {
    "ExecuteTime": {
     "end_time": "2020-08-16T00:17:03.621021Z",
     "start_time": "2020-08-16T00:17:03.600311Z"
    }
   },
   "outputs": [
    {
     "data": {
      "text/plain": [
       "'/home/timothytyree/Documents/GitHub/care/notebooks/Data/initial-conditions-suite-2/ic-out/ic_200x200.001.13.npz'"
      ]
     },
     "execution_count": 99,
     "metadata": {},
     "output_type": "execute_result"
    }
   ],
   "source": [
    "# os.chdir('..')\n",
    "os.path.abspath(file)"
   ]
  },
  {
   "cell_type": "code",
   "execution_count": 101,
   "metadata": {
    "ExecuteTime": {
     "end_time": "2020-08-16T00:17:11.070402Z",
     "start_time": "2020-08-16T00:17:11.039377Z"
    }
   },
   "outputs": [
    {
     "name": "stdout",
     "output_type": "stream",
     "text": [
      "loading trajectories from data_fn_traj: /home/timothytyree/Documents/GitHub/care/notebooks/Data/initial-conditions-suite-2/ds_5_param_set_8/ic_200x200.001.11_ds_5_sigma_1.5_threshold_0.6_sr_50_mem_2_traj.csv.\n"
     ]
    },
    {
     "ename": "FileNotFoundError",
     "evalue": "[Errno 2] File /home/timothytyree/Documents/GitHub/care/notebooks/Data/initial-conditions-suite-2/ds_5_param_set_8/ic_200x200.001.11_ds_5_sigma_1.5_threshold_0.6_sr_50_mem_2_traj.csv does not exist: '/home/timothytyree/Documents/GitHub/care/notebooks/Data/initial-conditions-suite-2/ds_5_param_set_8/ic_200x200.001.11_ds_5_sigma_1.5_threshold_0.6_sr_50_mem_2_traj.csv'",
     "output_type": "error",
     "traceback": [
      "\u001b[0;31m---------------------------------------------------------------------------\u001b[0m",
      "\u001b[0;31mFileNotFoundError\u001b[0m                         Traceback (most recent call last)",
      "\u001b[0;32m<ipython-input-101-3aefa99f9f30>\u001b[0m in \u001b[0;36m<module>\u001b[0;34m\u001b[0m\n\u001b[1;32m      1\u001b[0m \u001b[0;32mfor\u001b[0m \u001b[0mfile\u001b[0m \u001b[0;32min\u001b[0m \u001b[0mfile_name_list\u001b[0m\u001b[0;34m:\u001b[0m\u001b[0;34m\u001b[0m\u001b[0;34m\u001b[0m\u001b[0m\n\u001b[0;32m----> 2\u001b[0;31m     \u001b[0mretval\u001b[0m \u001b[0;34m=\u001b[0m \u001b[0mcompute_birth_death_rates\u001b[0m\u001b[0;34m(\u001b[0m\u001b[0mdata_fn_trajectories\u001b[0m\u001b[0;34m=\u001b[0m\u001b[0mos\u001b[0m\u001b[0;34m.\u001b[0m\u001b[0mpath\u001b[0m\u001b[0;34m.\u001b[0m\u001b[0mabspath\u001b[0m\u001b[0;34m(\u001b[0m\u001b[0mfile\u001b[0m\u001b[0;34m)\u001b[0m\u001b[0;34m,\u001b[0m\u001b[0;34m**\u001b[0m\u001b[0mkwargs\u001b[0m\u001b[0;34m)\u001b[0m\u001b[0;34m\u001b[0m\u001b[0;34m\u001b[0m\u001b[0m\n\u001b[0m",
      "\u001b[0;32m~/Documents/GitHub/care/notebooks/lib/birth_death_rates_from_ic.py\u001b[0m in \u001b[0;36mcompute_birth_death_rates\u001b[0;34m(data_fn_trajectories, **kwargs)\u001b[0m\n\u001b[1;32m    551\u001b[0m         \u001b[0mdata_folder_traj\u001b[0m\u001b[0;34m=\u001b[0m\u001b[0mkwargs\u001b[0m\u001b[0;34m[\u001b[0m\u001b[0;34m'data_folder_traj'\u001b[0m\u001b[0;34m]\u001b[0m\u001b[0;34m\u001b[0m\u001b[0;34m\u001b[0m\u001b[0m\n\u001b[1;32m    552\u001b[0m         \u001b[0mos\u001b[0m\u001b[0;34m.\u001b[0m\u001b[0mchdir\u001b[0m\u001b[0;34m(\u001b[0m\u001b[0mdata_folder_traj\u001b[0m\u001b[0;34m)\u001b[0m\u001b[0;34m\u001b[0m\u001b[0;34m\u001b[0m\u001b[0m\n\u001b[0;32m--> 553\u001b[0;31m         \u001b[0mdf\u001b[0m \u001b[0;34m=\u001b[0m \u001b[0mpd\u001b[0m\u001b[0;34m.\u001b[0m\u001b[0mread_csv\u001b[0m\u001b[0;34m(\u001b[0m\u001b[0mdata_fn_traj\u001b[0m\u001b[0;34m)\u001b[0m\u001b[0;34m\u001b[0m\u001b[0;34m\u001b[0m\u001b[0m\n\u001b[0m\u001b[1;32m    554\u001b[0m \u001b[0;34m\u001b[0m\u001b[0m\n\u001b[1;32m    555\u001b[0m         \u001b[0;31m# select only data after tmin milliseconds\u001b[0m\u001b[0;34m\u001b[0m\u001b[0;34m\u001b[0m\u001b[0;34m\u001b[0m\u001b[0m\n",
      "\u001b[0;32m~/anaconda3/lib/python3.7/site-packages/pandas/io/parsers.py\u001b[0m in \u001b[0;36mparser_f\u001b[0;34m(filepath_or_buffer, sep, delimiter, header, names, index_col, usecols, squeeze, prefix, mangle_dupe_cols, dtype, engine, converters, true_values, false_values, skipinitialspace, skiprows, skipfooter, nrows, na_values, keep_default_na, na_filter, verbose, skip_blank_lines, parse_dates, infer_datetime_format, keep_date_col, date_parser, dayfirst, cache_dates, iterator, chunksize, compression, thousands, decimal, lineterminator, quotechar, quoting, doublequote, escapechar, comment, encoding, dialect, error_bad_lines, warn_bad_lines, delim_whitespace, low_memory, memory_map, float_precision)\u001b[0m\n\u001b[1;32m    674\u001b[0m         )\n\u001b[1;32m    675\u001b[0m \u001b[0;34m\u001b[0m\u001b[0m\n\u001b[0;32m--> 676\u001b[0;31m         \u001b[0;32mreturn\u001b[0m \u001b[0m_read\u001b[0m\u001b[0;34m(\u001b[0m\u001b[0mfilepath_or_buffer\u001b[0m\u001b[0;34m,\u001b[0m \u001b[0mkwds\u001b[0m\u001b[0;34m)\u001b[0m\u001b[0;34m\u001b[0m\u001b[0;34m\u001b[0m\u001b[0m\n\u001b[0m\u001b[1;32m    677\u001b[0m \u001b[0;34m\u001b[0m\u001b[0m\n\u001b[1;32m    678\u001b[0m     \u001b[0mparser_f\u001b[0m\u001b[0;34m.\u001b[0m\u001b[0m__name__\u001b[0m \u001b[0;34m=\u001b[0m \u001b[0mname\u001b[0m\u001b[0;34m\u001b[0m\u001b[0;34m\u001b[0m\u001b[0m\n",
      "\u001b[0;32m~/anaconda3/lib/python3.7/site-packages/pandas/io/parsers.py\u001b[0m in \u001b[0;36m_read\u001b[0;34m(filepath_or_buffer, kwds)\u001b[0m\n\u001b[1;32m    446\u001b[0m \u001b[0;34m\u001b[0m\u001b[0m\n\u001b[1;32m    447\u001b[0m     \u001b[0;31m# Create the parser.\u001b[0m\u001b[0;34m\u001b[0m\u001b[0;34m\u001b[0m\u001b[0;34m\u001b[0m\u001b[0m\n\u001b[0;32m--> 448\u001b[0;31m     \u001b[0mparser\u001b[0m \u001b[0;34m=\u001b[0m \u001b[0mTextFileReader\u001b[0m\u001b[0;34m(\u001b[0m\u001b[0mfp_or_buf\u001b[0m\u001b[0;34m,\u001b[0m \u001b[0;34m**\u001b[0m\u001b[0mkwds\u001b[0m\u001b[0;34m)\u001b[0m\u001b[0;34m\u001b[0m\u001b[0;34m\u001b[0m\u001b[0m\n\u001b[0m\u001b[1;32m    449\u001b[0m \u001b[0;34m\u001b[0m\u001b[0m\n\u001b[1;32m    450\u001b[0m     \u001b[0;32mif\u001b[0m \u001b[0mchunksize\u001b[0m \u001b[0;32mor\u001b[0m \u001b[0miterator\u001b[0m\u001b[0;34m:\u001b[0m\u001b[0;34m\u001b[0m\u001b[0;34m\u001b[0m\u001b[0m\n",
      "\u001b[0;32m~/anaconda3/lib/python3.7/site-packages/pandas/io/parsers.py\u001b[0m in \u001b[0;36m__init__\u001b[0;34m(self, f, engine, **kwds)\u001b[0m\n\u001b[1;32m    878\u001b[0m             \u001b[0mself\u001b[0m\u001b[0;34m.\u001b[0m\u001b[0moptions\u001b[0m\u001b[0;34m[\u001b[0m\u001b[0;34m\"has_index_names\"\u001b[0m\u001b[0;34m]\u001b[0m \u001b[0;34m=\u001b[0m \u001b[0mkwds\u001b[0m\u001b[0;34m[\u001b[0m\u001b[0;34m\"has_index_names\"\u001b[0m\u001b[0;34m]\u001b[0m\u001b[0;34m\u001b[0m\u001b[0;34m\u001b[0m\u001b[0m\n\u001b[1;32m    879\u001b[0m \u001b[0;34m\u001b[0m\u001b[0m\n\u001b[0;32m--> 880\u001b[0;31m         \u001b[0mself\u001b[0m\u001b[0;34m.\u001b[0m\u001b[0m_make_engine\u001b[0m\u001b[0;34m(\u001b[0m\u001b[0mself\u001b[0m\u001b[0;34m.\u001b[0m\u001b[0mengine\u001b[0m\u001b[0;34m)\u001b[0m\u001b[0;34m\u001b[0m\u001b[0;34m\u001b[0m\u001b[0m\n\u001b[0m\u001b[1;32m    881\u001b[0m \u001b[0;34m\u001b[0m\u001b[0m\n\u001b[1;32m    882\u001b[0m     \u001b[0;32mdef\u001b[0m \u001b[0mclose\u001b[0m\u001b[0;34m(\u001b[0m\u001b[0mself\u001b[0m\u001b[0;34m)\u001b[0m\u001b[0;34m:\u001b[0m\u001b[0;34m\u001b[0m\u001b[0;34m\u001b[0m\u001b[0m\n",
      "\u001b[0;32m~/anaconda3/lib/python3.7/site-packages/pandas/io/parsers.py\u001b[0m in \u001b[0;36m_make_engine\u001b[0;34m(self, engine)\u001b[0m\n\u001b[1;32m   1112\u001b[0m     \u001b[0;32mdef\u001b[0m \u001b[0m_make_engine\u001b[0m\u001b[0;34m(\u001b[0m\u001b[0mself\u001b[0m\u001b[0;34m,\u001b[0m \u001b[0mengine\u001b[0m\u001b[0;34m=\u001b[0m\u001b[0;34m\"c\"\u001b[0m\u001b[0;34m)\u001b[0m\u001b[0;34m:\u001b[0m\u001b[0;34m\u001b[0m\u001b[0;34m\u001b[0m\u001b[0m\n\u001b[1;32m   1113\u001b[0m         \u001b[0;32mif\u001b[0m \u001b[0mengine\u001b[0m \u001b[0;34m==\u001b[0m \u001b[0;34m\"c\"\u001b[0m\u001b[0;34m:\u001b[0m\u001b[0;34m\u001b[0m\u001b[0;34m\u001b[0m\u001b[0m\n\u001b[0;32m-> 1114\u001b[0;31m             \u001b[0mself\u001b[0m\u001b[0;34m.\u001b[0m\u001b[0m_engine\u001b[0m \u001b[0;34m=\u001b[0m \u001b[0mCParserWrapper\u001b[0m\u001b[0;34m(\u001b[0m\u001b[0mself\u001b[0m\u001b[0;34m.\u001b[0m\u001b[0mf\u001b[0m\u001b[0;34m,\u001b[0m \u001b[0;34m**\u001b[0m\u001b[0mself\u001b[0m\u001b[0;34m.\u001b[0m\u001b[0moptions\u001b[0m\u001b[0;34m)\u001b[0m\u001b[0;34m\u001b[0m\u001b[0;34m\u001b[0m\u001b[0m\n\u001b[0m\u001b[1;32m   1115\u001b[0m         \u001b[0;32melse\u001b[0m\u001b[0;34m:\u001b[0m\u001b[0;34m\u001b[0m\u001b[0;34m\u001b[0m\u001b[0m\n\u001b[1;32m   1116\u001b[0m             \u001b[0;32mif\u001b[0m \u001b[0mengine\u001b[0m \u001b[0;34m==\u001b[0m \u001b[0;34m\"python\"\u001b[0m\u001b[0;34m:\u001b[0m\u001b[0;34m\u001b[0m\u001b[0;34m\u001b[0m\u001b[0m\n",
      "\u001b[0;32m~/anaconda3/lib/python3.7/site-packages/pandas/io/parsers.py\u001b[0m in \u001b[0;36m__init__\u001b[0;34m(self, src, **kwds)\u001b[0m\n\u001b[1;32m   1889\u001b[0m         \u001b[0mkwds\u001b[0m\u001b[0;34m[\u001b[0m\u001b[0;34m\"usecols\"\u001b[0m\u001b[0;34m]\u001b[0m \u001b[0;34m=\u001b[0m \u001b[0mself\u001b[0m\u001b[0;34m.\u001b[0m\u001b[0musecols\u001b[0m\u001b[0;34m\u001b[0m\u001b[0;34m\u001b[0m\u001b[0m\n\u001b[1;32m   1890\u001b[0m \u001b[0;34m\u001b[0m\u001b[0m\n\u001b[0;32m-> 1891\u001b[0;31m         \u001b[0mself\u001b[0m\u001b[0;34m.\u001b[0m\u001b[0m_reader\u001b[0m \u001b[0;34m=\u001b[0m \u001b[0mparsers\u001b[0m\u001b[0;34m.\u001b[0m\u001b[0mTextReader\u001b[0m\u001b[0;34m(\u001b[0m\u001b[0msrc\u001b[0m\u001b[0;34m,\u001b[0m \u001b[0;34m**\u001b[0m\u001b[0mkwds\u001b[0m\u001b[0;34m)\u001b[0m\u001b[0;34m\u001b[0m\u001b[0;34m\u001b[0m\u001b[0m\n\u001b[0m\u001b[1;32m   1892\u001b[0m         \u001b[0mself\u001b[0m\u001b[0;34m.\u001b[0m\u001b[0munnamed_cols\u001b[0m \u001b[0;34m=\u001b[0m \u001b[0mself\u001b[0m\u001b[0;34m.\u001b[0m\u001b[0m_reader\u001b[0m\u001b[0;34m.\u001b[0m\u001b[0munnamed_cols\u001b[0m\u001b[0;34m\u001b[0m\u001b[0;34m\u001b[0m\u001b[0m\n\u001b[1;32m   1893\u001b[0m \u001b[0;34m\u001b[0m\u001b[0m\n",
      "\u001b[0;32mpandas/_libs/parsers.pyx\u001b[0m in \u001b[0;36mpandas._libs.parsers.TextReader.__cinit__\u001b[0;34m()\u001b[0m\n",
      "\u001b[0;32mpandas/_libs/parsers.pyx\u001b[0m in \u001b[0;36mpandas._libs.parsers.TextReader._setup_parser_source\u001b[0;34m()\u001b[0m\n",
      "\u001b[0;31mFileNotFoundError\u001b[0m: [Errno 2] File /home/timothytyree/Documents/GitHub/care/notebooks/Data/initial-conditions-suite-2/ds_5_param_set_8/ic_200x200.001.11_ds_5_sigma_1.5_threshold_0.6_sr_50_mem_2_traj.csv does not exist: '/home/timothytyree/Documents/GitHub/care/notebooks/Data/initial-conditions-suite-2/ds_5_param_set_8/ic_200x200.001.11_ds_5_sigma_1.5_threshold_0.6_sr_50_mem_2_traj.csv'"
     ]
    }
   ],
   "source": [
    "for file in file_name_list:\n",
    "    retval = compute_birth_death_rates(data_fn_trajectories=os.path.abspath(file),**kwargs)"
   ]
  },
  {
   "cell_type": "code",
   "execution_count": 100,
   "metadata": {
    "ExecuteTime": {
     "end_time": "2020-08-16T00:17:07.452961Z",
     "start_time": "2020-08-16T00:17:07.439033Z"
    }
   },
   "outputs": [
    {
     "data": {
      "text/plain": [
       "'/home/timothytyree/Documents/GitHub/care/notebooks/Data/initial-conditions-suite-2/ds_5_param_set_8/trajectories'"
      ]
     },
     "execution_count": 100,
     "metadata": {},
     "output_type": "execute_result"
    }
   ],
   "source": [
    "kwargs['data_folder_traj']"
   ]
  },
  {
   "cell_type": "markdown",
   "metadata": {},
   "source": [
    "#IT's hard to check .  file's not found.  just rerun with LT_thresh set to zero "
   ]
  }
 ],
 "metadata": {
  "kernelspec": {
   "display_name": "Python 3",
   "language": "python",
   "name": "python3"
  },
  "language_info": {
   "codemirror_mode": {
    "name": "ipython",
    "version": 3
   },
   "file_extension": ".py",
   "mimetype": "text/x-python",
   "name": "python",
   "nbconvert_exporter": "python",
   "pygments_lexer": "ipython3",
   "version": "3.7.6"
  },
  "toc": {
   "base_numbering": 1,
   "nav_menu": {},
   "number_sections": true,
   "sideBar": true,
   "skip_h1_title": false,
   "title_cell": "Table of Contents",
   "title_sidebar": "Contents",
   "toc_cell": false,
   "toc_position": {},
   "toc_section_display": true,
   "toc_window_display": false
  },
  "varInspector": {
   "cols": {
    "lenName": 16,
    "lenType": 16,
    "lenVar": 40
   },
   "kernels_config": {
    "python": {
     "delete_cmd_postfix": "",
     "delete_cmd_prefix": "del ",
     "library": "var_list.py",
     "varRefreshCmd": "print(var_dic_list())"
    },
    "r": {
     "delete_cmd_postfix": ") ",
     "delete_cmd_prefix": "rm(",
     "library": "var_list.r",
     "varRefreshCmd": "cat(var_dic_list()) "
    }
   },
   "types_to_exclude": [
    "module",
    "function",
    "builtin_function_or_method",
    "instance",
    "_Feature"
   ],
   "window_display": false
  }
 },
 "nbformat": 4,
 "nbformat_minor": 4
}
