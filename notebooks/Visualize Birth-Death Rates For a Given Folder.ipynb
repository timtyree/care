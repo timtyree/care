{
 "cells": [
  {
   "cell_type": "markdown",
   "metadata": {},
   "source": [
    "# Visualize Birth Death Rates For a Given Folder\n",
    "Tim Tyree<br>\n",
    "8.12.2020"
   ]
  },
  {
   "cell_type": "code",
   "execution_count": 23,
   "metadata": {
    "ExecuteTime": {
     "end_time": "2020-08-18T17:59:46.525079Z",
     "start_time": "2020-08-18T17:59:46.505460Z"
    }
   },
   "outputs": [
    {
     "name": "stdout",
     "output_type": "stream",
     "text": [
      "Automatic calling is: Smart\n",
      "The autoreload extension is already loaded. To reload it, use:\n",
      "  %reload_ext autoreload\n"
     ]
    }
   ],
   "source": [
    "import pandas as pd, numpy as np, matplotlib.pyplot as plt\n",
    "\n",
    "#automate the boring stuff\n",
    "# from IPython import utils\n",
    "import time, os, sys, re\n",
    "beep = lambda x: os.system(\"echo -n '\\\\a';sleep 0.2;\" * x)\n",
    "if not 'nb_dir' in globals():\n",
    "    nb_dir = os.getcwd()\n",
    "    \n",
    "#load the libraries\n",
    "from lib import *\n",
    "\n",
    "%autocall 1\n",
    "%load_ext autoreload\n",
    "%autoreload 2"
   ]
  },
  {
   "cell_type": "markdown",
   "metadata": {},
   "source": [
    "# combine all of the relevant files in a given folder into one .csv"
   ]
  },
  {
   "cell_type": "code",
   "execution_count": null,
   "metadata": {
    "ExecuteTime": {
     "start_time": "2020-08-18T18:02:30.847Z"
    }
   },
   "outputs": [
    {
     "name": "stdout",
     "output_type": "stream",
     "text": [
      "please select a file from within the desired folder.\n"
     ]
    }
   ],
   "source": [
    "#find file interactively\n",
    "print(\"please select a file from within the desired folder.\")\n",
    "file = search_for_file()"
   ]
  },
  {
   "cell_type": "code",
   "execution_count": 26,
   "metadata": {
    "ExecuteTime": {
     "end_time": "2020-08-18T18:00:13.304981Z",
     "start_time": "2020-08-18T18:00:13.293459Z"
    }
   },
   "outputs": [],
   "source": [
    "#9 samples LT = 0\n",
    "# file =  '/Users/timothytyree/Documents/GitHub/care/notebooks/Data/ds_5_param_set_8/birth-death-rates/33_ds_5_sigma_1.5_threshold_0.6__traj_sr_40_mem_2_bdrates.csv'\n",
    "\n",
    "#>60 samples LT = 2\n",
    "# file = '/Users/timothytyree/Documents/GitHub/care/notebooks/Data/initial-conditions-suite-1/ds_5_param_set_8/birth-death-rates/ic_200x200.117.21_ds_5_sigma_1.5_threshold_0.6_sr_50_mem_2_tmin_100_LT_2_bdrates.csv'\n",
    "#change to the directory containing file\n",
    "folder_name = os.path.dirname(file)\n",
    "os.chdir(folder_name)\n",
    "\n",
    "#find folder interactively. Crashes jupyter's root kernel :(\n",
    "# from tkinter import Tk\n",
    "# from tkinter.filedialog import askdirectory\n",
    "# path = askdirectory(title='Select Folder') # shows dialog box and return the path\n",
    "# print(path) "
   ]
  },
  {
   "cell_type": "code",
   "execution_count": 27,
   "metadata": {
    "ExecuteTime": {
     "end_time": "2020-08-18T18:00:14.090251Z",
     "start_time": "2020-08-18T18:00:14.065216Z"
    }
   },
   "outputs": [],
   "source": [
    "# get all .csv files in the current working directory\n",
    "retval = !ls\n",
    "file_name_list = list(retval)\n",
    "# check each file if it ends in .csv before merging it\n",
    "def is_csv(file_name):\n",
    "    return file_name[-4:]=='.csv'\n",
    "file_name_list = [f for f in file_name_list if is_csv(f)]"
   ]
  },
  {
   "cell_type": "code",
   "execution_count": 28,
   "metadata": {
    "ExecuteTime": {
     "end_time": "2020-08-18T18:00:15.139196Z",
     "start_time": "2020-08-18T18:00:15.121000Z"
    }
   },
   "outputs": [
    {
     "name": "stdout",
     "output_type": "stream",
     "text": [
      "162\n"
     ]
    }
   ],
   "source": [
    "print(len(file_name_list))"
   ]
  },
  {
   "cell_type": "code",
   "execution_count": null,
   "metadata": {
    "ExecuteTime": {
     "end_time": "2020-08-17T15:46:09.340361Z",
     "start_time": "2020-08-17T15:46:09.317140Z"
    }
   },
   "outputs": [],
   "source": [
    "\n"
   ]
  },
  {
   "cell_type": "code",
   "execution_count": 29,
   "metadata": {
    "ExecuteTime": {
     "end_time": "2020-08-18T18:00:17.053843Z",
     "start_time": "2020-08-18T18:00:17.041975Z"
    }
   },
   "outputs": [],
   "source": [
    "def produce_one_csv(list_of_files, file_out):\n",
    "   # Consolidate all csv files into one object\n",
    "   result_obj = pd.concat([pd.read_csv(file) for file in list_of_files])\n",
    "   # Convert the above object into a csv file and export\n",
    "   result_obj.to_csv(file_out, index=False, encoding=\"utf-8\")"
   ]
  },
  {
   "cell_type": "code",
   "execution_count": 30,
   "metadata": {
    "ExecuteTime": {
     "end_time": "2020-08-18T18:00:17.828969Z",
     "start_time": "2020-08-18T18:00:17.557352Z"
    }
   },
   "outputs": [],
   "source": [
    "file_out = \"../consolidated_rates.csv\"\n",
    "produce_one_csv(list_of_files=file_name_list, file_out=file_out)"
   ]
  },
  {
   "cell_type": "markdown",
   "metadata": {},
   "source": [
    "# visualize the consolidated_rates.csv"
   ]
  },
  {
   "cell_type": "markdown",
   "metadata": {},
   "source": [
    "## visualize termination times"
   ]
  },
  {
   "cell_type": "code",
   "execution_count": 31,
   "metadata": {
    "ExecuteTime": {
     "end_time": "2020-08-18T18:00:20.732366Z",
     "start_time": "2020-08-18T18:00:20.715385Z"
    }
   },
   "outputs": [],
   "source": [
    "#sort a df into the rows with termination times and everything else\n",
    "os.chdir(folder_name)\n",
    "df = pd.read_csv(file_out)\n",
    "na_loc = df.isna().T.any()\n",
    "df_term = df[na_loc].copy()\n",
    "termination_times = df_term['t'].values\n",
    "# df_bd = df[~na_loc].copy() "
   ]
  },
  {
   "cell_type": "code",
   "execution_count": 32,
   "metadata": {
    "ExecuteTime": {
     "end_time": "2020-08-18T18:00:21.941148Z",
     "start_time": "2020-08-18T18:00:21.900916Z"
    }
   },
   "outputs": [],
   "source": [
    "#add zeros for the trials that terminated faster than 100ms\n",
    "total_num_trials = 19*9"
   ]
  },
  {
   "cell_type": "code",
   "execution_count": 33,
   "metadata": {
    "ExecuteTime": {
     "end_time": "2020-08-18T18:00:23.823075Z",
     "start_time": "2020-08-18T18:00:23.811339Z"
    }
   },
   "outputs": [],
   "source": [
    "l = list(termination_times)\n",
    "while len(l)<total_num_trials:\n",
    "    l.append(0.)\n",
    "termination_times = np.array(l)"
   ]
  },
  {
   "cell_type": "code",
   "execution_count": 34,
   "metadata": {
    "ExecuteTime": {
     "end_time": "2020-08-18T18:00:31.896430Z",
     "start_time": "2020-08-18T18:00:31.883830Z"
    }
   },
   "outputs": [
    {
     "name": "stdout",
     "output_type": "stream",
     "text": [
      "the mean termination time is \n",
      "                2845.09123 ± 3683.63898 ms\n",
      "                \n",
      "the median termination time is \n",
      "                1637.55000 ms (IQR:  371 - 3994 ms)\n",
      "                \n",
      "the max termination time is 24205 ms\n"
     ]
    }
   ],
   "source": [
    "print(f\"\"\"the mean termination time is \n",
    "                {np.mean(termination_times):.5f} ± {np.std(termination_times):.5f} ms\n",
    "                \"\"\")\n",
    "print(f\"\"\"the median termination time is \n",
    "                {np.median(termination_times):.5f} ms (IQR:  {np.quantile(termination_times, 0.25):.0f} - {np.quantile(termination_times, 0.75):.0f} ms)\n",
    "                \"\"\")\n",
    "print(f\"\"\"the max termination time is {np.max(termination_times):.0f} ms\"\"\")"
   ]
  },
  {
   "cell_type": "code",
   "execution_count": 35,
   "metadata": {
    "ExecuteTime": {
     "end_time": "2020-08-18T18:00:37.235343Z",
     "start_time": "2020-08-18T18:00:37.214769Z"
    },
    "code_folding": [],
    "run_control": {
     "marked": false
    }
   },
   "outputs": [
    {
     "name": "stdout",
     "output_type": "stream",
     "text": [
      "the mean termination time is \n",
      "                2845.09123 ± 3683.63898 ms\n",
      "                \n",
      "the median termination time is \n",
      "                1637.55000 ms (IQR:  371 - 3994 ms)\n",
      "                \n",
      "the max termination time is 24205 ms\n"
     ]
    }
   ],
   "source": [
    "print(f\"\"\"the mean termination time is \n",
    "                {np.mean(termination_times):.5f} ± {np.std(termination_times):.5f} ms\n",
    "                \"\"\")\n",
    "print(f\"\"\"the median termination time is \n",
    "                {np.median(termination_times):.5f} ms (IQR:  {np.quantile(termination_times, 0.25):.0f} - {np.quantile(termination_times, 0.75):.0f} ms)\n",
    "                \"\"\")\n",
    "print(f\"\"\"the max termination time is {np.max(termination_times):.0f} ms\"\"\")"
   ]
  },
  {
   "cell_type": "code",
   "execution_count": 36,
   "metadata": {
    "ExecuteTime": {
     "end_time": "2020-08-18T18:00:39.539701Z",
     "start_time": "2020-08-18T18:00:39.527568Z"
    }
   },
   "outputs": [
    {
     "data": {
      "text/plain": [
       "13564489"
      ]
     },
     "execution_count": 36,
     "metadata": {},
     "output_type": "execute_result"
    }
   ],
   "source": [
    "3683**2"
   ]
  },
  {
   "cell_type": "code",
   "execution_count": 37,
   "metadata": {
    "ExecuteTime": {
     "end_time": "2020-08-18T18:00:39.976169Z",
     "start_time": "2020-08-18T18:00:39.961005Z"
    }
   },
   "outputs": [
    {
     "data": {
      "text/plain": [
       "2845.0912280658604"
      ]
     },
     "execution_count": 37,
     "metadata": {},
     "output_type": "execute_result"
    }
   ],
   "source": [
    "np.sum(termination_times)/(19*9)"
   ]
  },
  {
   "cell_type": "code",
   "execution_count": 38,
   "metadata": {
    "ExecuteTime": {
     "end_time": "2020-08-18T18:00:41.840549Z",
     "start_time": "2020-08-18T18:00:41.828632Z"
    }
   },
   "outputs": [],
   "source": [
    "r = 1/np.mean(termination_times)\n",
    "def P(k,t):\n",
    "    '''the probability that k events occur in time t'''\n",
    "    return (r*t)**k*np.exp(-r*t)/np.math.factorial(k)"
   ]
  },
  {
   "cell_type": "code",
   "execution_count": 39,
   "metadata": {
    "ExecuteTime": {
     "end_time": "2020-08-18T18:00:42.509276Z",
     "start_time": "2020-08-18T18:00:42.267570Z"
    }
   },
   "outputs": [
    {
     "name": "stdout",
     "output_type": "stream",
     "text": [
      "saved figure in \n",
      "\thistogram_termination_times_suite-2.png.\n"
     ]
    },
    {
     "data": {
      "image/png": "[encoded data removed]",
      "text/plain": [
       "<Figure size 360x360 with 1 Axes>"
      ]
     },
     "metadata": {
      "needs_background": "light"
     },
     "output_type": "display_data"
    }
   ],
   "source": [
    "#plot the histogram of termination times\n",
    "saving = True\n",
    "fontsize=16\n",
    "\n",
    "savefig_dir = f'{nb_dir}/Figures/birth_death_analysis'\n",
    "savefig_fn = 'histogram_termination_times_suite-2.png'\n",
    "\n",
    "fig, ax = plt.subplots(figsize=(5, 5))\n",
    "ax.hist(termination_times, bins = 10)\n",
    "\n",
    "#overlay a poisson distribution\n",
    "N = len(termination_times)\n",
    "x_values = np.linspace(1,12000,100)\n",
    "y_values = N*P(0,x_values)\n",
    "ax.plot(x_values,y_values)\n",
    "\n",
    "#format plot\n",
    "# plt.title(f'''termination times for 9 200x200 patches''', fontsize=fontsize)\n",
    "ax.set_ylabel('freq.', fontsize=fontsize)\n",
    "ax.set_xlabel('termination times (ms)', fontsize=fontsize)\n",
    "ax.tick_params(axis='both', which='both', labelsize=fontsize)\n",
    "# ax.set_ylim((0,80))\n",
    "\n",
    "if not saving: \n",
    "    plt.show() \n",
    "else:\n",
    "    plt.tight_layout()\n",
    "    os.chdir(savefig_dir)\n",
    "    plt.savefig(savefig_fn, dpi=300)\n",
    "    print(f\"saved figure in \\n\\t{savefig_fn}.\")"
   ]
  },
  {
   "cell_type": "code",
   "execution_count": 40,
   "metadata": {
    "ExecuteTime": {
     "end_time": "2020-08-18T18:00:52.970267Z",
     "start_time": "2020-08-18T18:00:52.955782Z"
    }
   },
   "outputs": [
    {
     "data": {
      "text/plain": [
       "array([12560.04999989, 10185.04999992, 11822.5499999 , 10620.04999992,\n",
       "       16180.04999983, 20235.05000006, 14725.04999986, 10752.54999991,\n",
       "       10770.04999991, 10547.54999992, 24205.05000029])"
      ]
     },
     "execution_count": 40,
     "metadata": {},
     "output_type": "execute_result"
    }
   ],
   "source": [
    "termination_times[termination_times>=10000]"
   ]
  },
  {
   "cell_type": "code",
   "execution_count": 41,
   "metadata": {
    "ExecuteTime": {
     "end_time": "2020-08-18T18:00:53.956595Z",
     "start_time": "2020-08-18T18:00:53.938810Z"
    }
   },
   "outputs": [],
   "source": [
    "# from scipy.stats import poisson"
   ]
  },
  {
   "cell_type": "code",
   "execution_count": null,
   "metadata": {
    "ExecuteTime": {
     "end_time": "2020-08-15T18:01:22.645850Z",
     "start_time": "2020-08-15T18:01:22.621838Z"
    }
   },
   "outputs": [],
   "source": []
  },
  {
   "cell_type": "code",
   "execution_count": 43,
   "metadata": {
    "ExecuteTime": {
     "end_time": "2020-08-18T18:00:59.974783Z",
     "start_time": "2020-08-18T18:00:59.956401Z"
    }
   },
   "outputs": [],
   "source": [
    "# dist.pmf(5)"
   ]
  },
  {
   "cell_type": "markdown",
   "metadata": {},
   "source": [
    "## visualize birth death rates"
   ]
  },
  {
   "cell_type": "code",
   "execution_count": 55,
   "metadata": {
    "ExecuteTime": {
     "end_time": "2020-08-18T18:01:52.266456Z",
     "start_time": "2020-08-18T18:01:52.241877Z"
    }
   },
   "outputs": [],
   "source": [
    "#import data\n",
    "os.chdir(folder_name)\n",
    "df = pd.read_csv(file_out)\n",
    "\n",
    "#drop termination times\n",
    "df.dropna(inplace=True)\n",
    "\n",
    "#drop rows with rates over 100/ms\n",
    "df = df.loc[df.rates<=9].copy()\n",
    "\n",
    "\n",
    "dn_list = sorted(set(df.dn.values))\n",
    "dn_list = [-2,2]"
   ]
  },
  {
   "cell_type": "code",
   "execution_count": 56,
   "metadata": {
    "ExecuteTime": {
     "end_time": "2020-08-18T18:01:52.800749Z",
     "start_time": "2020-08-18T18:01:52.771992Z"
    }
   },
   "outputs": [
    {
     "data": {
      "text/plain": [
       "5.3453652902107995"
      ]
     },
     "execution_count": 56,
     "metadata": {},
     "output_type": "execute_result"
    }
   ],
   "source": [
    "np.mean(df.n.values)"
   ]
  },
  {
   "cell_type": "code",
   "execution_count": 57,
   "metadata": {
    "ExecuteTime": {
     "end_time": "2020-08-18T18:01:54.907524Z",
     "start_time": "2020-08-18T18:01:54.763900Z"
    }
   },
   "outputs": [],
   "source": [
    "#compute median rates and IQR for the error bars corresponding to each category in dn_list\n",
    "errorbar_data_list = []\n",
    "for dn in dn_list:  \n",
    "    #iterate over n for each dn\n",
    "    df2 = df.loc[df.dn==dn].copy()\n",
    "    n_list = sorted(set(df2.n.values))\n",
    "    y_val_list = []\n",
    "    y_err_1_list = []\n",
    "    y_err_2_list = []\n",
    "    for n in n_list:\n",
    "        df3 = df2.loc[df2.n == n].copy()\n",
    "        y_val, y_err_1, y_err_2 = df3.describe().T[['50%', '25%', '75%']].loc['rates'].values\n",
    "        y_err_2 = float(y_err_2 - y_val)\n",
    "        y_err_1 = float(y_val - y_err_1)\n",
    "        y_val = float(y_val)\n",
    "        y_val_list.append(y_val)\n",
    "        y_err_1_list.append(y_err_1)\n",
    "        y_err_2_list.append(y_err_2)\n",
    "    # errorbar_data = (dn, n_list, y_val_list, y_err_1_list, y_err_2_list)\n",
    "    errorbar_data = {'dn':dn, \n",
    "                     'n_list':n_list, \n",
    "                     'y_val_list':y_val_list, \n",
    "                     'y_err_1_list':y_err_1_list, \n",
    "                     'y_err_2_list':y_err_2_list\n",
    "                    }\n",
    "    errorbar_data_list.append(errorbar_data)    "
   ]
  },
  {
   "cell_type": "code",
   "execution_count": 58,
   "metadata": {
    "ExecuteTime": {
     "end_time": "2020-08-18T18:01:55.550272Z",
     "start_time": "2020-08-18T18:01:55.518880Z"
    }
   },
   "outputs": [],
   "source": [
    "#retrieve scatter plot data points for each category in dn_list\n",
    "scatter_data_list = []\n",
    "for dn in dn_list:  \n",
    "    df2 = df.loc[df.dn==dn].copy()\n",
    "    x_values = df2.n.values\n",
    "    y_values = df2.rates.values\n",
    "    scatter_data = {'dn':dn, \n",
    "                     'x_values':x_values, \n",
    "                     'y_values':y_values, \n",
    "                    }\n",
    "    scatter_data_list.append(scatter_data)"
   ]
  },
  {
   "cell_type": "code",
   "execution_count": 59,
   "metadata": {
    "ExecuteTime": {
     "end_time": "2020-08-18T18:01:57.045002Z",
     "start_time": "2020-08-18T18:01:57.029210Z"
    }
   },
   "outputs": [],
   "source": [
    "#assign a color/label/other formatting to each category in dn_list\n",
    "color_list_raw = ['red', 'blue', 'green', 'orange', 'brown', 'purple']\n",
    "formatting_data_list = []\n",
    "for i, dn in enumerate(dn_list):\n",
    "    formatting_data = {\n",
    "        'dn': dn,\n",
    "        'color': color_list_raw[i],\n",
    "        'label':f'$W_{{{int(dn):+d}}}$'\n",
    "    }\n",
    "    formatting_data_list.append(formatting_data)   "
   ]
  },
  {
   "cell_type": "code",
   "execution_count": 60,
   "metadata": {
    "ExecuteTime": {
     "end_time": "2020-08-18T18:01:57.347554Z",
     "start_time": "2020-08-18T18:01:57.335157Z"
    }
   },
   "outputs": [],
   "source": [
    "assert (len(formatting_data_list) is len(scatter_data_list ))\n",
    "assert (len(formatting_data_list) is len(errorbar_data_list))"
   ]
  },
  {
   "cell_type": "code",
   "execution_count": 61,
   "metadata": {
    "ExecuteTime": {
     "end_time": "2020-08-18T18:02:01.444296Z",
     "start_time": "2020-08-18T18:02:00.859516Z"
    }
   },
   "outputs": [
    {
     "name": "stdout",
     "output_type": "stream",
     "text": [
      "saved figure in \n",
      "\tbirth_death_rates_ic2_log.png.\n"
     ]
    },
    {
     "data": {
      "image/png": "[encoded data removed]",
      "text/plain": [
       "<Figure size 432x360 with 1 Axes>"
      ]
     },
     "metadata": {
      "needs_background": "light"
     },
     "output_type": "display_data"
    }
   ],
   "source": [
    "saving = True\n",
    "\n",
    "savefig_dir = f'{nb_dir}/Figures/birth_death_analysis'\n",
    "savefig_fn = 'birth_death_rates_ic2_log.png'\n",
    "# savefig_fn = 'birth_death_rates_log.png'\n",
    "log_scale = True\n",
    "fontsize=20\n",
    "figsize=(6,5)\n",
    "\n",
    "# def birth_death_plot(*y_axis_struct_list):\n",
    "\n",
    "# plot birth death rates with IQR y error bars with n on the x axis\n",
    "fig, ax = plt.subplots(figsize=figsize)\n",
    "for scatter_data, errorbar_data, formatting_data in zip(\n",
    "    scatter_data_list, errorbar_data_list, formatting_data_list):\n",
    "\n",
    "    dn, x_values, y_values = scatter_data.values()\n",
    "    dn, n_list, y_val_list, y_err_1_list, y_err_2_list = errorbar_data.values()\n",
    "    dn, color, label = formatting_data.values()\n",
    "    yerr = np.array(list(zip(y_err_1_list,y_err_2_list))).T\n",
    "    \n",
    "    ax.scatter(x=x_values/2,y=y_values, c=color, s=10, alpha=0.2, label=label)\n",
    "    ax.errorbar([n/2 for n in n_list], y_val_list, yerr=yerr, c=color)\n",
    "    \n",
    "# ax.legend(loc='top')\n",
    "\n",
    "# # ax.set_xticks(xticks)\n",
    "# # ax.set_yticks([0,10,20,30,40,50])\n",
    "# ymin, ymax = ax.get_ylim()\n",
    "# ax.set_ylim((1e-3,0.4))\n",
    "\n",
    "ax.legend(loc='best', fontsize= fontsize-8)\n",
    "ax.tick_params(axis='both', labelsize= fontsize)\n",
    "ax.set_ylabel('birth/death rate (ms$^{-1}$)', fontsize=fontsize)\n",
    "ax.set_xlabel('n/2', fontsize=fontsize) \n",
    "if log_scale:\n",
    "    ax.set_yscale('log')\n",
    "# ax.set_title(f'$\\sigma = {sigma}$, threshold = {threshold}', fontsize=fontsize)\n",
    "                    \n",
    "# ax.set_title('high frequency birth deaths observed', fontsize=fontsize)\n",
    "# ax.axis([20,60,0,7])\n",
    "  \n",
    "    \n",
    "if not saving: \n",
    "    plt.show() \n",
    "else:\n",
    "    plt.tight_layout()\n",
    "    os.chdir(savefig_dir)\n",
    "    plt.savefig(savefig_fn, dpi=300)\n",
    "    print(f\"saved figure in \\n\\t{savefig_fn}.\")\n"
   ]
  },
  {
   "cell_type": "code",
   "execution_count": 62,
   "metadata": {
    "ExecuteTime": {
     "end_time": "2020-08-18T18:02:03.631930Z",
     "start_time": "2020-08-18T18:02:03.620486Z"
    }
   },
   "outputs": [],
   "source": [
    "# import trackpy\n",
    "\n",
    "# trackpy.link_iter?"
   ]
  },
  {
   "cell_type": "code",
   "execution_count": 63,
   "metadata": {
    "ExecuteTime": {
     "end_time": "2020-08-18T18:02:03.931713Z",
     "start_time": "2020-08-18T18:02:03.917293Z"
    }
   },
   "outputs": [],
   "source": [
    "# import inspect"
   ]
  },
  {
   "cell_type": "code",
   "execution_count": 64,
   "metadata": {
    "ExecuteTime": {
     "end_time": "2020-08-18T18:02:04.272860Z",
     "start_time": "2020-08-18T18:02:04.258314Z"
    }
   },
   "outputs": [
    {
     "data": {
      "text/plain": [
       "(6926,)"
      ]
     },
     "execution_count": 64,
     "metadata": {},
     "output_type": "execute_result"
    }
   ],
   "source": [
    "df.n.values.shape"
   ]
  },
  {
   "cell_type": "code",
   "execution_count": 65,
   "metadata": {
    "ExecuteTime": {
     "end_time": "2020-08-18T18:02:06.618569Z",
     "start_time": "2020-08-18T18:02:06.592039Z"
    }
   },
   "outputs": [
    {
     "data": {
      "text/html": [
       "<div>\n",
       "<style scoped>\n",
       "    .dataframe tbody tr th:only-of-type {\n",
       "        vertical-align: middle;\n",
       "    }\n",
       "\n",
       "    .dataframe tbody tr th {\n",
       "        vertical-align: top;\n",
       "    }\n",
       "\n",
       "    .dataframe thead th {\n",
       "        text-align: right;\n",
       "    }\n",
       "</style>\n",
       "<table border=\"1\" class=\"dataframe\">\n",
       "  <thead>\n",
       "    <tr style=\"text-align: right;\">\n",
       "      <th></th>\n",
       "      <th>index</th>\n",
       "      <th>t</th>\n",
       "      <th>n</th>\n",
       "      <th>dn</th>\n",
       "      <th>rates</th>\n",
       "    </tr>\n",
       "  </thead>\n",
       "  <tbody>\n",
       "    <tr>\n",
       "      <th>18</th>\n",
       "      <td>254</td>\n",
       "      <td>735.025</td>\n",
       "      <td>7</td>\n",
       "      <td>-1.0</td>\n",
       "      <td>0.044444</td>\n",
       "    </tr>\n",
       "    <tr>\n",
       "      <th>24</th>\n",
       "      <td>378</td>\n",
       "      <td>1045.025</td>\n",
       "      <td>7</td>\n",
       "      <td>-1.0</td>\n",
       "      <td>0.005195</td>\n",
       "    </tr>\n",
       "    <tr>\n",
       "      <th>46</th>\n",
       "      <td>1048</td>\n",
       "      <td>2720.025</td>\n",
       "      <td>7</td>\n",
       "      <td>1.0</td>\n",
       "      <td>0.021053</td>\n",
       "    </tr>\n",
       "    <tr>\n",
       "      <th>57</th>\n",
       "      <td>1535</td>\n",
       "      <td>3937.525</td>\n",
       "      <td>3</td>\n",
       "      <td>-1.0</td>\n",
       "      <td>0.001569</td>\n",
       "    </tr>\n",
       "    <tr>\n",
       "      <th>129</th>\n",
       "      <td>277</td>\n",
       "      <td>792.525</td>\n",
       "      <td>5</td>\n",
       "      <td>1.0</td>\n",
       "      <td>0.044444</td>\n",
       "    </tr>\n",
       "    <tr>\n",
       "      <th>...</th>\n",
       "      <td>...</td>\n",
       "      <td>...</td>\n",
       "      <td>...</td>\n",
       "      <td>...</td>\n",
       "      <td>...</td>\n",
       "    </tr>\n",
       "    <tr>\n",
       "      <th>7161</th>\n",
       "      <td>106</td>\n",
       "      <td>365.025</td>\n",
       "      <td>3</td>\n",
       "      <td>-1.0</td>\n",
       "      <td>0.009302</td>\n",
       "    </tr>\n",
       "    <tr>\n",
       "      <th>7188</th>\n",
       "      <td>466</td>\n",
       "      <td>1265.025</td>\n",
       "      <td>5</td>\n",
       "      <td>-1.0</td>\n",
       "      <td>0.008163</td>\n",
       "    </tr>\n",
       "    <tr>\n",
       "      <th>7194</th>\n",
       "      <td>562</td>\n",
       "      <td>1505.025</td>\n",
       "      <td>5</td>\n",
       "      <td>-1.0</td>\n",
       "      <td>0.028571</td>\n",
       "    </tr>\n",
       "    <tr>\n",
       "      <th>7205</th>\n",
       "      <td>69</td>\n",
       "      <td>272.525</td>\n",
       "      <td>1</td>\n",
       "      <td>1.0</td>\n",
       "      <td>0.022222</td>\n",
       "    </tr>\n",
       "    <tr>\n",
       "      <th>7238</th>\n",
       "      <td>65</td>\n",
       "      <td>262.525</td>\n",
       "      <td>5</td>\n",
       "      <td>-1.0</td>\n",
       "      <td>0.066667</td>\n",
       "    </tr>\n",
       "  </tbody>\n",
       "</table>\n",
       "<p>490 rows × 5 columns</p>\n",
       "</div>"
      ],
      "text/plain": [
       "      index         t  n   dn     rates\n",
       "18      254   735.025  7 -1.0  0.044444\n",
       "24      378  1045.025  7 -1.0  0.005195\n",
       "46     1048  2720.025  7  1.0  0.021053\n",
       "57     1535  3937.525  3 -1.0  0.001569\n",
       "129     277   792.525  5  1.0  0.044444\n",
       "...     ...       ... ..  ...       ...\n",
       "7161    106   365.025  3 -1.0  0.009302\n",
       "7188    466  1265.025  5 -1.0  0.008163\n",
       "7194    562  1505.025  5 -1.0  0.028571\n",
       "7205     69   272.525  1  1.0  0.022222\n",
       "7238     65   262.525  5 -1.0  0.066667\n",
       "\n",
       "[490 rows x 5 columns]"
      ]
     },
     "execution_count": 65,
     "metadata": {},
     "output_type": "execute_result"
    }
   ],
   "source": [
    "df[(df.n%2==1)]"
   ]
  },
  {
   "cell_type": "code",
   "execution_count": 66,
   "metadata": {
    "ExecuteTime": {
     "end_time": "2020-08-18T18:02:08.530443Z",
     "start_time": "2020-08-18T18:02:08.505552Z"
    }
   },
   "outputs": [
    {
     "data": {
      "text/plain": [
       "index    207.000\n",
       "t        617.525\n",
       "n          4.000\n",
       "dn         2.000\n",
       "rates      0.200\n",
       "Name: 14, dtype: float64"
      ]
     },
     "execution_count": 66,
     "metadata": {},
     "output_type": "execute_result"
    }
   ],
   "source": [
    "df.iloc[14]"
   ]
  },
  {
   "cell_type": "code",
   "execution_count": 67,
   "metadata": {
    "ExecuteTime": {
     "end_time": "2020-08-18T18:02:14.848450Z",
     "start_time": "2020-08-18T18:02:14.837509Z"
    }
   },
   "outputs": [],
   "source": [
    "# from lib.birth_death_rates_from_ic import *\n",
    "# initial_condition_dir = '/Users/timothytyree/Documents/GitHub/care/notebooks/Data/initial-conditions-suite-1/ic-in/ic_200x200.121.33.npz'\n",
    "# birth_death_rates_from_ic(initial_condition_dir)"
   ]
  },
  {
   "cell_type": "markdown",
   "metadata": {},
   "source": [
    "### warning! odd tips detected!  \n",
    "These could be caused by \n",
    "- (made it huge, problem still persists)padding being too small (with this new D)\n",
    "- something funny in the tracking\n",
    "    - pad=5\n",
    "    - edge_tolerance = 3"
   ]
  },
  {
   "cell_type": "code",
   "execution_count": 90,
   "metadata": {
    "ExecuteTime": {
     "end_time": "2020-08-15T18:23:02.392440Z",
     "start_time": "2020-08-15T18:23:02.367691Z"
    }
   },
   "outputs": [],
   "source": [
    "# save_every_n_frames = 100"
   ]
  },
  {
   "cell_type": "code",
   "execution_count": 91,
   "metadata": {
    "ExecuteTime": {
     "end_time": "2020-08-15T18:23:35.211167Z",
     "start_time": "2020-08-15T18:23:35.180852Z"
    }
   },
   "outputs": [
    {
     "data": {
      "text/plain": [
       "100.0"
      ]
     },
     "execution_count": 91,
     "metadata": {},
     "output_type": "execute_result"
    }
   ],
   "source": [
    "10**6/10/10**3"
   ]
  },
  {
   "cell_type": "code",
   "execution_count": 66,
   "metadata": {
    "ExecuteTime": {
     "end_time": "2020-08-17T04:09:03.326003Z",
     "start_time": "2020-08-17T04:09:03.304286Z"
    }
   },
   "outputs": [
    {
     "name": "stdout",
     "output_type": "stream",
     "text": [
      "the max termination time was 16.18 seconds.\n"
     ]
    }
   ],
   "source": [
    "print(f\"the max termination time was {np.max(termination_times)/10**3:.2f} seconds.\")"
   ]
  },
  {
   "cell_type": "markdown",
   "metadata": {
    "ExecuteTime": {
     "end_time": "2020-08-15T18:24:04.873325Z",
     "start_time": "2020-08-15T18:24:04.848885Z"
    }
   },
   "source": [
    "my max duration was 6.18 seconds.  wouter's mean termination time was ~26 seconds\n",
    "\n",
    "he saw 405 events, I saw ~3000 events"
   ]
  },
  {
   "cell_type": "markdown",
   "metadata": {},
   "source": [
    "# plot an odd birth death event's trajectory"
   ]
  },
  {
   "cell_type": "code",
   "execution_count": 97,
   "metadata": {
    "ExecuteTime": {
     "end_time": "2020-08-16T00:16:54.595990Z",
     "start_time": "2020-08-16T00:16:45.710291Z"
    }
   },
   "outputs": [
    {
     "name": "stdout",
     "output_type": "stream",
     "text": [
      "please select a file from within the desired folder.\n",
      "File: /home/timothytyree/Documents/GitHub/care/notebooks/Data/initial-conditions-suite-2/ic-out/ic_200x200.001.13.npz\n"
     ]
    }
   ],
   "source": [
    "#TODO: load a given trajectory file,\n",
    "#find file interactively/\n",
    "print(\"please select a file from within the desired folder.\")\n",
    "file = search_for_file()"
   ]
  },
  {
   "cell_type": "code",
   "execution_count": 77,
   "metadata": {
    "ExecuteTime": {
     "end_time": "2020-08-16T00:11:36.955262Z",
     "start_time": "2020-08-16T00:11:36.940457Z"
    }
   },
   "outputs": [],
   "source": [
    "def check_csv_for_odds(file):\n",
    "    df = pd.read_csv(file)\n",
    "    return (df.n%2==1).any()"
   ]
  },
  {
   "cell_type": "code",
   "execution_count": 78,
   "metadata": {
    "ExecuteTime": {
     "end_time": "2020-08-16T00:11:39.360006Z",
     "start_time": "2020-08-16T00:11:39.347222Z"
    }
   },
   "outputs": [],
   "source": [
    "# df.head()"
   ]
  },
  {
   "cell_type": "code",
   "execution_count": 109,
   "metadata": {
    "ExecuteTime": {
     "end_time": "2020-08-16T01:06:42.521137Z",
     "start_time": "2020-08-16T01:06:42.498583Z"
    }
   },
   "outputs": [],
   "source": [
    "folder_name = os.path.dirname(file)\n",
    "os.chdir(folder_name)\n",
    "file_name_list = [f for f in file_name_list if is_csv(f)]"
   ]
  },
  {
   "cell_type": "code",
   "execution_count": 110,
   "metadata": {
    "ExecuteTime": {
     "end_time": "2020-08-16T01:06:42.913961Z",
     "start_time": "2020-08-16T01:06:42.875981Z"
    }
   },
   "outputs": [
    {
     "ename": "AssertionError",
     "evalue": "",
     "output_type": "error",
     "traceback": [
      "\u001b[0;31m---------------------------------------------------------------------------\u001b[0m",
      "\u001b[0;31mAssertionError\u001b[0m                            Traceback (most recent call last)",
      "\u001b[0;32m<ipython-input-110-be99ae906e37>\u001b[0m in \u001b[0;36m<module>\u001b[0;34m\u001b[0m\n\u001b[1;32m      1\u001b[0m \u001b[0;32mfor\u001b[0m \u001b[0mf\u001b[0m \u001b[0;32min\u001b[0m \u001b[0mfile_name_list\u001b[0m\u001b[0;34m:\u001b[0m\u001b[0;34m\u001b[0m\u001b[0;34m\u001b[0m\u001b[0m\n\u001b[1;32m      2\u001b[0m \u001b[0;31m#     print(f)\u001b[0m\u001b[0;34m\u001b[0m\u001b[0;34m\u001b[0m\u001b[0;34m\u001b[0m\u001b[0m\n\u001b[0;32m----> 3\u001b[0;31m     \u001b[0;32massert\u001b[0m\u001b[0;34m(\u001b[0m\u001b[0;32mnot\u001b[0m  \u001b[0mcheck_csv_for_odds\u001b[0m\u001b[0;34m(\u001b[0m\u001b[0mf\u001b[0m\u001b[0;34m)\u001b[0m \u001b[0;34m)\u001b[0m\u001b[0;34m\u001b[0m\u001b[0;34m\u001b[0m\u001b[0m\n\u001b[0m",
      "\u001b[0;31mAssertionError\u001b[0m: "
     ]
    }
   ],
   "source": [
    "for f in file_name_list:\n",
    "#     print(f)\n",
    "    assert(not  check_csv_for_odds(f) )"
   ]
  },
  {
   "cell_type": "code",
   "execution_count": 112,
   "metadata": {
    "ExecuteTime": {
     "end_time": "2020-08-16T01:07:01.177514Z",
     "start_time": "2020-08-16T01:07:01.129642Z"
    }
   },
   "outputs": [
    {
     "name": "stdout",
     "output_type": "stream",
     "text": [
      "ic_200x200.001.12_ds_5_sigma_1.5_threshold_0.6_sr_50_mem_2_tmin_100_LT_0_bdrates.csv\n"
     ]
    }
   ],
   "source": [
    "# f = 'ic_200x200.001.11_ds_5_sigma_1.5_threshold_0.6_sr_50_mem_2_traj.csv'\n",
    "df = pd.read_csv(f)\n",
    "print(f)"
   ]
  },
  {
   "cell_type": "code",
   "execution_count": 82,
   "metadata": {
    "ExecuteTime": {
     "end_time": "2020-08-16T00:11:47.269921Z",
     "start_time": "2020-08-16T00:11:47.251399Z"
    }
   },
   "outputs": [
    {
     "data": {
      "text/html": [
       "<div>\n",
       "<style scoped>\n",
       "    .dataframe tbody tr th:only-of-type {\n",
       "        vertical-align: middle;\n",
       "    }\n",
       "\n",
       "    .dataframe tbody tr th {\n",
       "        vertical-align: top;\n",
       "    }\n",
       "\n",
       "    .dataframe thead th {\n",
       "        text-align: right;\n",
       "    }\n",
       "</style>\n",
       "<table border=\"1\" class=\"dataframe\">\n",
       "  <thead>\n",
       "    <tr style=\"text-align: right;\">\n",
       "      <th></th>\n",
       "      <th>t</th>\n",
       "      <th>x</th>\n",
       "      <th>y</th>\n",
       "      <th>s1</th>\n",
       "      <th>s2</th>\n",
       "      <th>n</th>\n",
       "      <th>V</th>\n",
       "      <th>f</th>\n",
       "      <th>s</th>\n",
       "      <th>frame</th>\n",
       "      <th>particle</th>\n",
       "    </tr>\n",
       "  </thead>\n",
       "  <tbody>\n",
       "  </tbody>\n",
       "</table>\n",
       "</div>"
      ],
      "text/plain": [
       "Empty DataFrame\n",
       "Columns: [t, x, y, s1, s2, n, V, f, s, frame, particle]\n",
       "Index: []"
      ]
     },
     "execution_count": 82,
     "metadata": {},
     "output_type": "execute_result"
    }
   ],
   "source": [
    "df.loc[df.n%2==1]\n",
    "#TODO: compute change in RAW spiral tip number\n",
    "#TODO: can I find any ODD changes in the RAW spiral tip number?\n"
   ]
  },
  {
   "cell_type": "code",
   "execution_count": 83,
   "metadata": {
    "ExecuteTime": {
     "end_time": "2020-08-16T00:11:49.438240Z",
     "start_time": "2020-08-16T00:11:49.419954Z"
    }
   },
   "outputs": [
    {
     "data": {
      "text/plain": [
       "False"
      ]
     },
     "execution_count": 83,
     "metadata": {},
     "output_type": "execute_result"
    }
   ],
   "source": [
    "check_csv_for_odds(f)"
   ]
  },
  {
   "cell_type": "markdown",
   "metadata": {
    "ExecuteTime": {
     "end_time": "2020-08-15T23:31:52.720770Z",
     "start_time": "2020-08-15T23:31:52.709029Z"
    }
   },
   "source": [
    "No RAW odd spiral tips exist in the new spiral tip data\n",
    "\n",
    "TODO(after finding the tracking problem): CHECK if RAW odd spiral tips exist in the OLD spiral tip data.\n",
    "\n",
    "THUS, it is in the tracking. RETRY with LT_thresh=0"
   ]
  },
  {
   "cell_type": "code",
   "execution_count": 63,
   "metadata": {
    "ExecuteTime": {
     "end_time": "2020-08-15T23:33:03.191271Z",
     "start_time": "2020-08-15T23:33:03.176666Z"
    }
   },
   "outputs": [],
   "source": [
    "#TODO(later): compute the spiral tip number from the number of tips to confirm it is from the tracking (waste of time)\n",
    "# TODO: recompute all trajectories with LT=0 and see if the problem goes away\n"
   ]
  },
  {
   "cell_type": "code",
   "execution_count": 64,
   "metadata": {
    "ExecuteTime": {
     "end_time": "2020-08-16T00:04:07.188294Z",
     "start_time": "2020-08-16T00:04:07.170591Z"
    }
   },
   "outputs": [],
   "source": [
    "#DONE: get the function for computing bdrates from trajectory file\n",
    "#DONE: get kwargs, give it width and height = 200 pixels\n",
    "#TODO: archive old bdrates\n",
    "#TODO: recompute bdrates WITH LT_THRESH=0, see if the problem goes away,\n",
    "#TODO: if it does, recompute on the ic-suite-1 results with LT=0 and see if the problem goes away."
   ]
  },
  {
   "cell_type": "code",
   "execution_count": 98,
   "metadata": {
    "ExecuteTime": {
     "end_time": "2020-08-16T00:17:01.720465Z",
     "start_time": "2020-08-16T00:17:01.703625Z"
    }
   },
   "outputs": [],
   "source": [
    "from lib.birth_death_rates_from_ic import _get_kwargs, compute_birth_death_rates\n",
    "\n",
    "\n",
    "#NOTE kwargs need to be initial conditions, NOT .trajectory files\n",
    "kwargs = _get_kwargs(file)\n",
    "kwargs['width']=200\n",
    "kwargs['height']=200\n",
    "kwargs['LT_thresh'] = 0"
   ]
  },
  {
   "cell_type": "code",
   "execution_count": 99,
   "metadata": {
    "ExecuteTime": {
     "end_time": "2020-08-16T00:17:03.621021Z",
     "start_time": "2020-08-16T00:17:03.600311Z"
    }
   },
   "outputs": [
    {
     "data": {
      "text/plain": [
       "'/home/timothytyree/Documents/GitHub/care/notebooks/Data/initial-conditions-suite-2/ic-out/ic_200x200.001.13.npz'"
      ]
     },
     "execution_count": 99,
     "metadata": {},
     "output_type": "execute_result"
    }
   ],
   "source": [
    "# os.chdir('..')\n",
    "os.path.abspath(file)"
   ]
  },
  {
   "cell_type": "code",
   "execution_count": 101,
   "metadata": {
    "ExecuteTime": {
     "end_time": "2020-08-16T00:17:11.070402Z",
     "start_time": "2020-08-16T00:17:11.039377Z"
    }
   },
   "outputs": [
    {
     "name": "stdout",
     "output_type": "stream",
     "text": [
      "loading trajectories from data_fn_traj: /home/timothytyree/Documents/GitHub/care/notebooks/Data/initial-conditions-suite-2/ds_5_param_set_8/ic_200x200.001.11_ds_5_sigma_1.5_threshold_0.6_sr_50_mem_2_traj.csv.\n"
     ]
    },
    {
     "ename": "FileNotFoundError",
     "evalue": "[Errno 2] File /home/timothytyree/Documents/GitHub/care/notebooks/Data/initial-conditions-suite-2/ds_5_param_set_8/ic_200x200.001.11_ds_5_sigma_1.5_threshold_0.6_sr_50_mem_2_traj.csv does not exist: '/home/timothytyree/Documents/GitHub/care/notebooks/Data/initial-conditions-suite-2/ds_5_param_set_8/ic_200x200.001.11_ds_5_sigma_1.5_threshold_0.6_sr_50_mem_2_traj.csv'",
     "output_type": "error",
     "traceback": [
      "\u001b[0;31m---------------------------------------------------------------------------\u001b[0m",
      "\u001b[0;31mFileNotFoundError\u001b[0m                         Traceback (most recent call last)",
      "\u001b[0;32m<ipython-input-101-3aefa99f9f30>\u001b[0m in \u001b[0;36m<module>\u001b[0;34m\u001b[0m\n\u001b[1;32m      1\u001b[0m \u001b[0;32mfor\u001b[0m \u001b[0mfile\u001b[0m \u001b[0;32min\u001b[0m \u001b[0mfile_name_list\u001b[0m\u001b[0;34m:\u001b[0m\u001b[0;34m\u001b[0m\u001b[0;34m\u001b[0m\u001b[0m\n\u001b[0;32m----> 2\u001b[0;31m     \u001b[0mretval\u001b[0m \u001b[0;34m=\u001b[0m \u001b[0mcompute_birth_death_rates\u001b[0m\u001b[0;34m(\u001b[0m\u001b[0mdata_fn_trajectories\u001b[0m\u001b[0;34m=\u001b[0m\u001b[0mos\u001b[0m\u001b[0;34m.\u001b[0m\u001b[0mpath\u001b[0m\u001b[0;34m.\u001b[0m\u001b[0mabspath\u001b[0m\u001b[0;34m(\u001b[0m\u001b[0mfile\u001b[0m\u001b[0;34m)\u001b[0m\u001b[0;34m,\u001b[0m\u001b[0;34m**\u001b[0m\u001b[0mkwargs\u001b[0m\u001b[0;34m)\u001b[0m\u001b[0;34m\u001b[0m\u001b[0;34m\u001b[0m\u001b[0m\n\u001b[0m",
      "\u001b[0;32m~/Documents/GitHub/care/notebooks/lib/birth_death_rates_from_ic.py\u001b[0m in \u001b[0;36mcompute_birth_death_rates\u001b[0;34m(data_fn_trajectories, **kwargs)\u001b[0m\n\u001b[1;32m    551\u001b[0m         \u001b[0mdata_folder_traj\u001b[0m\u001b[0;34m=\u001b[0m\u001b[0mkwargs\u001b[0m\u001b[0;34m[\u001b[0m\u001b[0;34m'data_folder_traj'\u001b[0m\u001b[0;34m]\u001b[0m\u001b[0;34m\u001b[0m\u001b[0;34m\u001b[0m\u001b[0m\n\u001b[1;32m    552\u001b[0m         \u001b[0mos\u001b[0m\u001b[0;34m.\u001b[0m\u001b[0mchdir\u001b[0m\u001b[0;34m(\u001b[0m\u001b[0mdata_folder_traj\u001b[0m\u001b[0;34m)\u001b[0m\u001b[0;34m\u001b[0m\u001b[0;34m\u001b[0m\u001b[0m\n\u001b[0;32m--> 553\u001b[0;31m         \u001b[0mdf\u001b[0m \u001b[0;34m=\u001b[0m \u001b[0mpd\u001b[0m\u001b[0;34m.\u001b[0m\u001b[0mread_csv\u001b[0m\u001b[0;34m(\u001b[0m\u001b[0mdata_fn_traj\u001b[0m\u001b[0;34m)\u001b[0m\u001b[0;34m\u001b[0m\u001b[0;34m\u001b[0m\u001b[0m\n\u001b[0m\u001b[1;32m    554\u001b[0m \u001b[0;34m\u001b[0m\u001b[0m\n\u001b[1;32m    555\u001b[0m         \u001b[0;31m# select only data after tmin milliseconds\u001b[0m\u001b[0;34m\u001b[0m\u001b[0;34m\u001b[0m\u001b[0;34m\u001b[0m\u001b[0m\n",
      "\u001b[0;32m~/anaconda3/lib/python3.7/site-packages/pandas/io/parsers.py\u001b[0m in \u001b[0;36mparser_f\u001b[0;34m(filepath_or_buffer, sep, delimiter, header, names, index_col, usecols, squeeze, prefix, mangle_dupe_cols, dtype, engine, converters, true_values, false_values, skipinitialspace, skiprows, skipfooter, nrows, na_values, keep_default_na, na_filter, verbose, skip_blank_lines, parse_dates, infer_datetime_format, keep_date_col, date_parser, dayfirst, cache_dates, iterator, chunksize, compression, thousands, decimal, lineterminator, quotechar, quoting, doublequote, escapechar, comment, encoding, dialect, error_bad_lines, warn_bad_lines, delim_whitespace, low_memory, memory_map, float_precision)\u001b[0m\n\u001b[1;32m    674\u001b[0m         )\n\u001b[1;32m    675\u001b[0m \u001b[0;34m\u001b[0m\u001b[0m\n\u001b[0;32m--> 676\u001b[0;31m         \u001b[0;32mreturn\u001b[0m \u001b[0m_read\u001b[0m\u001b[0;34m(\u001b[0m\u001b[0mfilepath_or_buffer\u001b[0m\u001b[0;34m,\u001b[0m \u001b[0mkwds\u001b[0m\u001b[0;34m)\u001b[0m\u001b[0;34m\u001b[0m\u001b[0;34m\u001b[0m\u001b[0m\n\u001b[0m\u001b[1;32m    677\u001b[0m \u001b[0;34m\u001b[0m\u001b[0m\n\u001b[1;32m    678\u001b[0m     \u001b[0mparser_f\u001b[0m\u001b[0;34m.\u001b[0m\u001b[0m__name__\u001b[0m \u001b[0;34m=\u001b[0m \u001b[0mname\u001b[0m\u001b[0;34m\u001b[0m\u001b[0;34m\u001b[0m\u001b[0m\n",
      "\u001b[0;32m~/anaconda3/lib/python3.7/site-packages/pandas/io/parsers.py\u001b[0m in \u001b[0;36m_read\u001b[0;34m(filepath_or_buffer, kwds)\u001b[0m\n\u001b[1;32m    446\u001b[0m \u001b[0;34m\u001b[0m\u001b[0m\n\u001b[1;32m    447\u001b[0m     \u001b[0;31m# Create the parser.\u001b[0m\u001b[0;34m\u001b[0m\u001b[0;34m\u001b[0m\u001b[0;34m\u001b[0m\u001b[0m\n\u001b[0;32m--> 448\u001b[0;31m     \u001b[0mparser\u001b[0m \u001b[0;34m=\u001b[0m \u001b[0mTextFileReader\u001b[0m\u001b[0;34m(\u001b[0m\u001b[0mfp_or_buf\u001b[0m\u001b[0;34m,\u001b[0m \u001b[0;34m**\u001b[0m\u001b[0mkwds\u001b[0m\u001b[0;34m)\u001b[0m\u001b[0;34m\u001b[0m\u001b[0;34m\u001b[0m\u001b[0m\n\u001b[0m\u001b[1;32m    449\u001b[0m \u001b[0;34m\u001b[0m\u001b[0m\n\u001b[1;32m    450\u001b[0m     \u001b[0;32mif\u001b[0m \u001b[0mchunksize\u001b[0m \u001b[0;32mor\u001b[0m \u001b[0miterator\u001b[0m\u001b[0;34m:\u001b[0m\u001b[0;34m\u001b[0m\u001b[0;34m\u001b[0m\u001b[0m\n",
      "\u001b[0;32m~/anaconda3/lib/python3.7/site-packages/pandas/io/parsers.py\u001b[0m in \u001b[0;36m__init__\u001b[0;34m(self, f, engine, **kwds)\u001b[0m\n\u001b[1;32m    878\u001b[0m             \u001b[0mself\u001b[0m\u001b[0;34m.\u001b[0m\u001b[0moptions\u001b[0m\u001b[0;34m[\u001b[0m\u001b[0;34m\"has_index_names\"\u001b[0m\u001b[0;34m]\u001b[0m \u001b[0;34m=\u001b[0m \u001b[0mkwds\u001b[0m\u001b[0;34m[\u001b[0m\u001b[0;34m\"has_index_names\"\u001b[0m\u001b[0;34m]\u001b[0m\u001b[0;34m\u001b[0m\u001b[0;34m\u001b[0m\u001b[0m\n\u001b[1;32m    879\u001b[0m \u001b[0;34m\u001b[0m\u001b[0m\n\u001b[0;32m--> 880\u001b[0;31m         \u001b[0mself\u001b[0m\u001b[0;34m.\u001b[0m\u001b[0m_make_engine\u001b[0m\u001b[0;34m(\u001b[0m\u001b[0mself\u001b[0m\u001b[0;34m.\u001b[0m\u001b[0mengine\u001b[0m\u001b[0;34m)\u001b[0m\u001b[0;34m\u001b[0m\u001b[0;34m\u001b[0m\u001b[0m\n\u001b[0m\u001b[1;32m    881\u001b[0m \u001b[0;34m\u001b[0m\u001b[0m\n\u001b[1;32m    882\u001b[0m     \u001b[0;32mdef\u001b[0m \u001b[0mclose\u001b[0m\u001b[0;34m(\u001b[0m\u001b[0mself\u001b[0m\u001b[0;34m)\u001b[0m\u001b[0;34m:\u001b[0m\u001b[0;34m\u001b[0m\u001b[0;34m\u001b[0m\u001b[0m\n",
      "\u001b[0;32m~/anaconda3/lib/python3.7/site-packages/pandas/io/parsers.py\u001b[0m in \u001b[0;36m_make_engine\u001b[0;34m(self, engine)\u001b[0m\n\u001b[1;32m   1112\u001b[0m     \u001b[0;32mdef\u001b[0m \u001b[0m_make_engine\u001b[0m\u001b[0;34m(\u001b[0m\u001b[0mself\u001b[0m\u001b[0;34m,\u001b[0m \u001b[0mengine\u001b[0m\u001b[0;34m=\u001b[0m\u001b[0;34m\"c\"\u001b[0m\u001b[0;34m)\u001b[0m\u001b[0;34m:\u001b[0m\u001b[0;34m\u001b[0m\u001b[0;34m\u001b[0m\u001b[0m\n\u001b[1;32m   1113\u001b[0m         \u001b[0;32mif\u001b[0m \u001b[0mengine\u001b[0m \u001b[0;34m==\u001b[0m \u001b[0;34m\"c\"\u001b[0m\u001b[0;34m:\u001b[0m\u001b[0;34m\u001b[0m\u001b[0;34m\u001b[0m\u001b[0m\n\u001b[0;32m-> 1114\u001b[0;31m             \u001b[0mself\u001b[0m\u001b[0;34m.\u001b[0m\u001b[0m_engine\u001b[0m \u001b[0;34m=\u001b[0m \u001b[0mCParserWrapper\u001b[0m\u001b[0;34m(\u001b[0m\u001b[0mself\u001b[0m\u001b[0;34m.\u001b[0m\u001b[0mf\u001b[0m\u001b[0;34m,\u001b[0m \u001b[0;34m**\u001b[0m\u001b[0mself\u001b[0m\u001b[0;34m.\u001b[0m\u001b[0moptions\u001b[0m\u001b[0;34m)\u001b[0m\u001b[0;34m\u001b[0m\u001b[0;34m\u001b[0m\u001b[0m\n\u001b[0m\u001b[1;32m   1115\u001b[0m         \u001b[0;32melse\u001b[0m\u001b[0;34m:\u001b[0m\u001b[0;34m\u001b[0m\u001b[0;34m\u001b[0m\u001b[0m\n\u001b[1;32m   1116\u001b[0m             \u001b[0;32mif\u001b[0m \u001b[0mengine\u001b[0m \u001b[0;34m==\u001b[0m \u001b[0;34m\"python\"\u001b[0m\u001b[0;34m:\u001b[0m\u001b[0;34m\u001b[0m\u001b[0;34m\u001b[0m\u001b[0m\n",
      "\u001b[0;32m~/anaconda3/lib/python3.7/site-packages/pandas/io/parsers.py\u001b[0m in \u001b[0;36m__init__\u001b[0;34m(self, src, **kwds)\u001b[0m\n\u001b[1;32m   1889\u001b[0m         \u001b[0mkwds\u001b[0m\u001b[0;34m[\u001b[0m\u001b[0;34m\"usecols\"\u001b[0m\u001b[0;34m]\u001b[0m \u001b[0;34m=\u001b[0m \u001b[0mself\u001b[0m\u001b[0;34m.\u001b[0m\u001b[0musecols\u001b[0m\u001b[0;34m\u001b[0m\u001b[0;34m\u001b[0m\u001b[0m\n\u001b[1;32m   1890\u001b[0m \u001b[0;34m\u001b[0m\u001b[0m\n\u001b[0;32m-> 1891\u001b[0;31m         \u001b[0mself\u001b[0m\u001b[0;34m.\u001b[0m\u001b[0m_reader\u001b[0m \u001b[0;34m=\u001b[0m \u001b[0mparsers\u001b[0m\u001b[0;34m.\u001b[0m\u001b[0mTextReader\u001b[0m\u001b[0;34m(\u001b[0m\u001b[0msrc\u001b[0m\u001b[0;34m,\u001b[0m \u001b[0;34m**\u001b[0m\u001b[0mkwds\u001b[0m\u001b[0;34m)\u001b[0m\u001b[0;34m\u001b[0m\u001b[0;34m\u001b[0m\u001b[0m\n\u001b[0m\u001b[1;32m   1892\u001b[0m         \u001b[0mself\u001b[0m\u001b[0;34m.\u001b[0m\u001b[0munnamed_cols\u001b[0m \u001b[0;34m=\u001b[0m \u001b[0mself\u001b[0m\u001b[0;34m.\u001b[0m\u001b[0m_reader\u001b[0m\u001b[0;34m.\u001b[0m\u001b[0munnamed_cols\u001b[0m\u001b[0;34m\u001b[0m\u001b[0;34m\u001b[0m\u001b[0m\n\u001b[1;32m   1893\u001b[0m \u001b[0;34m\u001b[0m\u001b[0m\n",
      "\u001b[0;32mpandas/_libs/parsers.pyx\u001b[0m in \u001b[0;36mpandas._libs.parsers.TextReader.__cinit__\u001b[0;34m()\u001b[0m\n",
      "\u001b[0;32mpandas/_libs/parsers.pyx\u001b[0m in \u001b[0;36mpandas._libs.parsers.TextReader._setup_parser_source\u001b[0;34m()\u001b[0m\n",
      "\u001b[0;31mFileNotFoundError\u001b[0m: [Errno 2] File /home/timothytyree/Documents/GitHub/care/notebooks/Data/initial-conditions-suite-2/ds_5_param_set_8/ic_200x200.001.11_ds_5_sigma_1.5_threshold_0.6_sr_50_mem_2_traj.csv does not exist: '/home/timothytyree/Documents/GitHub/care/notebooks/Data/initial-conditions-suite-2/ds_5_param_set_8/ic_200x200.001.11_ds_5_sigma_1.5_threshold_0.6_sr_50_mem_2_traj.csv'"
     ]
    }
   ],
   "source": [
    "for file in file_name_list:\n",
    "    retval = compute_birth_death_rates(data_fn_trajectories=os.path.abspath(file),**kwargs)"
   ]
  },
  {
   "cell_type": "code",
   "execution_count": 100,
   "metadata": {
    "ExecuteTime": {
     "end_time": "2020-08-16T00:17:07.452961Z",
     "start_time": "2020-08-16T00:17:07.439033Z"
    }
   },
   "outputs": [
    {
     "data": {
      "text/plain": [
       "'/home/timothytyree/Documents/GitHub/care/notebooks/Data/initial-conditions-suite-2/ds_5_param_set_8/trajectories'"
      ]
     },
     "execution_count": 100,
     "metadata": {},
     "output_type": "execute_result"
    }
   ],
   "source": [
    "kwargs['data_folder_traj']"
   ]
  },
  {
   "cell_type": "markdown",
   "metadata": {},
   "source": [
    "#IT's hard to check .  file's not found.  just rerun with LT_thresh set to zero \n",
    "- Result: odd tips exist even when LT is zero\n",
    "- try rerunning with a large runtime and with lt=0\n",
    "    - "
   ]
  }
 ],
 "metadata": {
  "kernelspec": {
   "display_name": "Python 3",
   "language": "python",
   "name": "python3"
  },
  "language_info": {
   "codemirror_mode": {
    "name": "ipython",
    "version": 3
   },
   "file_extension": ".py",
   "mimetype": "text/x-python",
   "name": "python",
   "nbconvert_exporter": "python",
   "pygments_lexer": "ipython3",
   "version": "3.7.6"
  },
  "toc": {
   "base_numbering": 1,
   "nav_menu": {},
   "number_sections": true,
   "sideBar": true,
   "skip_h1_title": false,
   "title_cell": "Table of Contents",
   "title_sidebar": "Contents",
   "toc_cell": false,
   "toc_position": {},
   "toc_section_display": true,
   "toc_window_display": false
  },
  "varInspector": {
   "cols": {
    "lenName": 16,
    "lenType": 16,
    "lenVar": 40
   },
   "kernels_config": {
    "python": {
     "delete_cmd_postfix": "",
     "delete_cmd_prefix": "del ",
     "library": "var_list.py",
     "varRefreshCmd": "print(var_dic_list())"
    },
    "r": {
     "delete_cmd_postfix": ") ",
     "delete_cmd_prefix": "rm(",
     "library": "var_list.r",
     "varRefreshCmd": "cat(var_dic_list()) "
    }
   },
   "types_to_exclude": [
    "module",
    "function",
    "builtin_function_or_method",
    "instance",
    "_Feature"
   ],
   "window_display": false
  }
 },
 "nbformat": 4,
 "nbformat_minor": 4
}
