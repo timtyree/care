{
 "cells": [
  {
   "cell_type": "markdown",
   "metadata": {},
   "source": [
    "# Visualize Birth Death Rates For a Given Folder\n",
    "Tim Tyree<br>\n",
    "8.12.2020"
   ]
  },
  {
   "cell_type": "code",
   "execution_count": 2,
   "metadata": {
    "ExecuteTime": {
     "end_time": "2020-08-12T19:19:58.903920Z",
     "start_time": "2020-08-12T19:19:56.946780Z"
    }
   },
   "outputs": [
    {
     "name": "stdout",
     "output_type": "stream",
     "text": [
      "100000\n",
      "Automatic calling is: Smart\n"
     ]
    }
   ],
   "source": [
    "import pandas as pd, numpy as np, matplotlib.pyplot as plt\n",
    "\n",
    "#automate the boring stuff\n",
    "# from IPython import utils\n",
    "import time, os, sys, re\n",
    "beep = lambda x: os.system(\"echo -n '\\\\a';sleep 0.2;\" * x)\n",
    "if not 'nb_dir' in globals():\n",
    "    nb_dir = os.getcwd()\n",
    "    \n",
    "#load the libraries\n",
    "from lib import *\n",
    "\n",
    "%autocall 1\n",
    "%load_ext autoreload\n",
    "%autoreload 2"
   ]
  },
  {
   "cell_type": "markdown",
   "metadata": {},
   "source": [
    "# combine all of the relevant files in a given folder into one .csv"
   ]
  },
  {
   "cell_type": "code",
   "execution_count": 4,
   "metadata": {
    "ExecuteTime": {
     "end_time": "2020-08-12T19:20:20.317971Z",
     "start_time": "2020-08-12T19:20:13.062671Z"
    }
   },
   "outputs": [
    {
     "name": "stdout",
     "output_type": "stream",
     "text": [
      "please select a file from within the desired folder.\n",
      "File: /Users/timothytyree/Documents/GitHub/care/notebooks/Data/ds_5_param_set_8/birth-death-rates/33_ds_5_sigma_1.5_threshold_0.6__traj_sr_40_mem_2_bdrates.csv\n"
     ]
    }
   ],
   "source": [
    "#find file interactively\n",
    "print(\"please select a file from within the desired folder.\")\n",
    "file = search_for_file()"
   ]
  },
  {
   "cell_type": "code",
   "execution_count": 1,
   "metadata": {
    "ExecuteTime": {
     "end_time": "2020-08-12T19:19:53.112491Z",
     "start_time": "2020-08-12T19:19:53.110065Z"
    }
   },
   "outputs": [],
   "source": [
    "file =  '/Users/timothytyree/Documents/GitHub/care/notebooks/Data/ds_5_param_set_8/birth-death-rates/33_ds_5_sigma_1.5_threshold_0.6__traj_sr_40_mem_2_bdrates.csv'\n",
    "\n",
    "#change to the directory containing file\n",
    "folder_name = os.path.dirname(file)\n",
    "os.chdir(folder_name)\n",
    "\n",
    "#find folder interactively. Crashes jupyter's root kernel :(\n",
    "# from tkinter import Tk\n",
    "# from tkinter.filedialog import askdirectory\n",
    "# path = askdirectory(title='Select Folder') # shows dialog box and return the path\n",
    "# print(path) "
   ]
  },
  {
   "cell_type": "code",
   "execution_count": 62,
   "metadata": {
    "ExecuteTime": {
     "end_time": "2020-08-12T20:13:49.541654Z",
     "start_time": "2020-08-12T20:13:49.486194Z"
    }
   },
   "outputs": [],
   "source": [
    "# get all .csv files in the current working directory\n",
    "retval = !ls\n",
    "file_name_list = list(retval)\n",
    "# check each file if it ends in .csv before merging it\n",
    "def is_csv(file_name):\n",
    "    return file_name[-4:]=='.csv'\n",
    "file_name_list = [f for f in file_name_list if is_csv(f)]"
   ]
  },
  {
   "cell_type": "code",
   "execution_count": 298,
   "metadata": {
    "ExecuteTime": {
     "end_time": "2020-08-12T23:40:06.581715Z",
     "start_time": "2020-08-12T23:40:06.548856Z"
    }
   },
   "outputs": [],
   "source": [
    "def produce_one_csv(list_of_files, file_out):\n",
    "   # Consolidate all csv files into one object\n",
    "   result_obj = pd.concat([pd.read_csv(file) for file in list_of_files])\n",
    "   # Convert the above object into a csv file and export\n",
    "   result_obj.to_csv(file_out, index=False, encoding=\"utf-8\")"
   ]
  },
  {
   "cell_type": "code",
   "execution_count": 66,
   "metadata": {
    "ExecuteTime": {
     "end_time": "2020-08-12T20:17:30.024834Z",
     "start_time": "2020-08-12T20:17:29.974204Z"
    }
   },
   "outputs": [],
   "source": [
    "file_out = \"../consolidated_rates.csv\"\n",
    "produce_one_csv(list_of_files=file_name_list, file_out=file_out)"
   ]
  },
  {
   "cell_type": "markdown",
   "metadata": {},
   "source": [
    "# visualize the consolidated_rates.csv"
   ]
  },
  {
   "cell_type": "markdown",
   "metadata": {},
   "source": [
    "## visualize termination times"
   ]
  },
  {
   "cell_type": "code",
   "execution_count": 95,
   "metadata": {
    "ExecuteTime": {
     "end_time": "2020-08-12T20:33:44.583254Z",
     "start_time": "2020-08-12T20:33:44.547140Z"
    }
   },
   "outputs": [],
   "source": [
    "#sort a df into the rows with termination times and everything else\n",
    "os.chdir(folder_name)\n",
    "df = pd.read_csv(file_out)\n",
    "na_loc = df.isna().T.any()\n",
    "df_term = df[na_loc].copy()\n",
    "termination_times = df_term['t'].values\n",
    "# df_bd = df[~na_loc].copy() "
   ]
  },
  {
   "cell_type": "code",
   "execution_count": 118,
   "metadata": {
    "ExecuteTime": {
     "end_time": "2020-08-12T20:39:16.816636Z",
     "start_time": "2020-08-12T20:39:16.792746Z"
    }
   },
   "outputs": [
    {
     "name": "stdout",
     "output_type": "stream",
     "text": [
      "the mean termination time is \n",
      "                338 ± 227 ms\n",
      "                \n",
      "the median termination time is \n",
      "                323 ms (IQR:  170 - 558 ms)\n",
      "                \n"
     ]
    }
   ],
   "source": [
    "print(f\"\"\"the mean termination time is \n",
    "                {np.mean(termination_times):.0f} ± {np.std(termination_times):.0f} ms\n",
    "                \"\"\")\n",
    "print(f\"\"\"the median termination time is \n",
    "                {np.median(termination_times):.0f} ms (IQR:  {np.quantile(termination_times, 0.25):.0f} - {np.quantile(termination_times, 0.75):.0f} ms)\n",
    "                \"\"\")"
   ]
  },
  {
   "cell_type": "code",
   "execution_count": 119,
   "metadata": {
    "ExecuteTime": {
     "end_time": "2020-08-12T20:39:32.780314Z",
     "start_time": "2020-08-12T20:39:32.333437Z"
    }
   },
   "outputs": [
    {
     "name": "stdout",
     "output_type": "stream",
     "text": [
      "saved figure in \n",
      "\thistogram_termination_times.png.\n"
     ]
    },
    {
     "data": {
      "image/png": "[encoded data removed]",
      "text/plain": [
       "<Figure size 360x360 with 1 Axes>"
      ]
     },
     "metadata": {
      "needs_background": "light"
     },
     "output_type": "display_data"
    }
   ],
   "source": [
    "#plot the histogram of termination times\n",
    "saving = True\n",
    "fontsize=16\n",
    "\n",
    "savefig_dir = f'{nb_dir}/Figures/birth_death_analysis'\n",
    "savefig_fn = 'histogram_termination_times.png'\n",
    "\n",
    "fig, ax = plt.subplots(figsize=(5, 5))\n",
    "ax.hist(termination_times, bins = 3)\n",
    "\n",
    "#format plot\n",
    "# plt.title(f'''termination times for 9 200x200 patches''', fontsize=fontsize)\n",
    "ax.set_ylabel('freq.', fontsize=fontsize)\n",
    "ax.set_xlabel('termination times (ms)', fontsize=fontsize)\n",
    "ax.tick_params(axis='both', which='both', labelsize=fontsize)\n",
    "\n",
    "if not saving: \n",
    "    plt.show() \n",
    "else:\n",
    "    plt.tight_layout()\n",
    "    os.chdir(savefig_dir)\n",
    "    plt.savefig(savefig_fn, dpi=300)\n",
    "    print(f\"saved figure in \\n\\t{savefig_fn}.\")"
   ]
  },
  {
   "cell_type": "markdown",
   "metadata": {},
   "source": [
    "## visualize birth death rates"
   ]
  },
  {
   "cell_type": "code",
   "execution_count": 282,
   "metadata": {
    "ExecuteTime": {
     "end_time": "2020-08-12T21:43:59.767661Z",
     "start_time": "2020-08-12T21:43:59.741306Z"
    }
   },
   "outputs": [],
   "source": [
    "#import data\n",
    "os.chdir(folder_name)\n",
    "df = pd.read_csv(file_out)\n",
    "df.dropna(inplace=True)\n",
    "dn_list = sorted(set(df.dn.values))\n",
    "dn_list = [-2,2]"
   ]
  },
  {
   "cell_type": "code",
   "execution_count": 283,
   "metadata": {
    "ExecuteTime": {
     "end_time": "2020-08-12T21:44:00.281977Z",
     "start_time": "2020-08-12T21:44:00.103878Z"
    }
   },
   "outputs": [],
   "source": [
    "#compute median rates and IQR for the error bars corresponding to each category in dn_list\n",
    "errorbar_data_list = []\n",
    "for dn in dn_list:  \n",
    "    #iterate over n for each dn\n",
    "    df2 = df.loc[df.dn==dn].copy()\n",
    "    n_list = sorted(set(df2.n.values))\n",
    "    y_val_list = []\n",
    "    y_err_1_list = []\n",
    "    y_err_2_list = []\n",
    "    for n in n_list:\n",
    "        df3 = df2.loc[df2.n == n].copy()\n",
    "        y_val, y_err_1, y_err_2 = df3.describe().T[['50%', '25%', '75%']].loc['rates'].values\n",
    "        y_err_2 = float(y_err_2 - y_val)\n",
    "        y_err_1 = float(y_val - y_err_1)\n",
    "        y_val = float(y_val)\n",
    "        y_val_list.append(y_val)\n",
    "        y_err_1_list.append(y_err_1)\n",
    "        y_err_2_list.append(y_err_2)\n",
    "    # errorbar_data = (dn, n_list, y_val_list, y_err_1_list, y_err_2_list)\n",
    "    errorbar_data = {'dn':dn, \n",
    "                     'n_list':n_list, \n",
    "                     'y_val_list':y_val_list, \n",
    "                     'y_err_1_list':y_err_1_list, \n",
    "                     'y_err_2_list':y_err_2_list\n",
    "                    }\n",
    "    errorbar_data_list.append(errorbar_data)    "
   ]
  },
  {
   "cell_type": "code",
   "execution_count": 284,
   "metadata": {
    "ExecuteTime": {
     "end_time": "2020-08-12T21:44:01.973281Z",
     "start_time": "2020-08-12T21:44:01.942742Z"
    }
   },
   "outputs": [],
   "source": [
    "#retrieve scatter plot data points for each category in dn_list\n",
    "scatter_data_list = []\n",
    "for dn in dn_list:  \n",
    "    df2 = df.loc[df.dn==dn].copy()\n",
    "    x_values = df2.n.values\n",
    "    y_values = df2.rates.values\n",
    "    scatter_data = {'dn':dn, \n",
    "                     'x_values':x_values, \n",
    "                     'y_values':y_values, \n",
    "                    }\n",
    "    scatter_data_list.append(scatter_data)"
   ]
  },
  {
   "cell_type": "code",
   "execution_count": 285,
   "metadata": {
    "ExecuteTime": {
     "end_time": "2020-08-12T21:44:02.446557Z",
     "start_time": "2020-08-12T21:44:02.423812Z"
    }
   },
   "outputs": [],
   "source": [
    "#assign a color/label/other formatting to each category in dn_list\n",
    "color_list_raw = ['red', 'blue', 'green', 'orange', 'brown', 'purple']\n",
    "formatting_data_list = []\n",
    "for i, dn in enumerate(dn_list):\n",
    "    formatting_data = {\n",
    "        'dn': dn,\n",
    "        'color': color_list_raw[i],\n",
    "        'label':f'$W_{{{int(dn):+d}}}$'\n",
    "    }\n",
    "    formatting_data_list.append(formatting_data)   "
   ]
  },
  {
   "cell_type": "code",
   "execution_count": 286,
   "metadata": {
    "ExecuteTime": {
     "end_time": "2020-08-12T21:44:03.326606Z",
     "start_time": "2020-08-12T21:44:03.303398Z"
    }
   },
   "outputs": [],
   "source": [
    "assert (len(formatting_data_list) is len(scatter_data_list ))\n",
    "assert (len(formatting_data_list) is len(errorbar_data_list))"
   ]
  },
  {
   "cell_type": "code",
   "execution_count": 297,
   "metadata": {
    "ExecuteTime": {
     "end_time": "2020-08-12T23:01:13.152596Z",
     "start_time": "2020-08-12T23:01:12.811508Z"
    }
   },
   "outputs": [
    {
     "data": {
      "image/png": "[encoded data removed]",
      "text/plain": [
       "<Figure size 432x360 with 1 Axes>"
      ]
     },
     "metadata": {
      "needs_background": "light"
     },
     "output_type": "display_data"
    }
   ],
   "source": [
    "saving = False\n",
    "\n",
    "savefig_dir = f'{nb_dir}/Figures/birth_death_analysis'\n",
    "savefig_fn = 'birth_death_rates.png'\n",
    "# savefig_fn = 'birth_death_rates_log.png'\n",
    "log_scale = False\n",
    "fontsize=20\n",
    "figsize=(6,5)\n",
    "\n",
    "# def birth_death_plot(*y_axis_struct_list):\n",
    "\n",
    "# plot birth death rates with IQR y error bars with n on the x axis\n",
    "fig, ax = plt.subplots(figsize=figsize)\n",
    "for scatter_data, errorbar_data, formatting_data in zip(\n",
    "    scatter_data_list, errorbar_data_list, formatting_data_list):\n",
    "\n",
    "    dn, x_values, y_values = scatter_data.values()\n",
    "    dn, n_list, y_val_list, y_err_1_list, y_err_2_list = errorbar_data.values()\n",
    "    dn, color, label = formatting_data.values()\n",
    "    yerr = np.array(list(zip(y_err_1_list,y_err_2_list))).T\n",
    "    \n",
    "    ax.scatter(x=x_values,y=y_values, c=color, s=10, alpha=0.5, label=label)\n",
    "    ax.errorbar(n_list, y_val_list, yerr=yerr, c=color)\n",
    "    \n",
    "ax.legend()\n",
    "\n",
    "# # ax.set_xticks(xticks)\n",
    "# # ax.set_yticks([0,10,20,30,40,50])\n",
    "# ymin, ymax = ax.get_ylim()\n",
    "# ax.set_ylim((1e-3,ymax+25))\n",
    "\n",
    "ax.legend(loc='lower right', fontsize= fontsize-8)\n",
    "ax.tick_params(axis='both', labelsize= fontsize)\n",
    "ax.set_ylabel('birth/death rate (ms$^{-1}$)', fontsize=fontsize)\n",
    "ax.set_xlabel('n', fontsize=fontsize) \n",
    "if log_scale:\n",
    "    ax.set_yscale('log')\n",
    "# ax.set_title(f'$\\sigma = {sigma}$, threshold = {threshold}', fontsize=fontsize)\n",
    "                    \n",
    "# ax.set_title('high frequency birth deaths observed', fontsize=fontsize)\n",
    "# ax.axis([20,60,0,7])\n",
    "  \n",
    "    \n",
    "if not saving: \n",
    "    plt.show() \n",
    "else:\n",
    "    plt.tight_layout()\n",
    "    os.chdir(savefig_dir)\n",
    "    plt.savefig(savefig_fn, dpi=300)\n",
    "    print(f\"saved figure in \\n\\t{savefig_fn}.\")\n"
   ]
  },
  {
   "cell_type": "code",
   "execution_count": null,
   "metadata": {},
   "outputs": [],
   "source": []
  }
 ],
 "metadata": {
  "kernelspec": {
   "display_name": "Python 3",
   "language": "python",
   "name": "python3"
  },
  "language_info": {
   "codemirror_mode": {
    "name": "ipython",
    "version": 3
   },
   "file_extension": ".py",
   "mimetype": "text/x-python",
   "name": "python",
   "nbconvert_exporter": "python",
   "pygments_lexer": "ipython3",
   "version": "3.8.5"
  },
  "varInspector": {
   "cols": {
    "lenName": 16,
    "lenType": 16,
    "lenVar": 40
   },
   "kernels_config": {
    "python": {
     "delete_cmd_postfix": "",
     "delete_cmd_prefix": "del ",
     "library": "var_list.py",
     "varRefreshCmd": "print(var_dic_list())"
    },
    "r": {
     "delete_cmd_postfix": ") ",
     "delete_cmd_prefix": "rm(",
     "library": "var_list.r",
     "varRefreshCmd": "cat(var_dic_list()) "
    }
   },
   "types_to_exclude": [
    "module",
    "function",
    "builtin_function_or_method",
    "instance",
    "_Feature"
   ],
   "window_display": false
  }
 },
 "nbformat": 4,
 "nbformat_minor": 4
}
