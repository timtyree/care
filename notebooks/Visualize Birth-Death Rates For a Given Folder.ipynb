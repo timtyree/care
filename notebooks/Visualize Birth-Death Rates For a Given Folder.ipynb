{
 "cells": [
  {
   "cell_type": "markdown",
   "metadata": {},
   "source": [
    "# Visualize Birth Death Rates For a Given Folder\n",
    "Tim Tyree<br>\n",
    "8.12.2020"
   ]
  },
  {
   "cell_type": "code",
   "execution_count": 1,
   "metadata": {
    "ExecuteTime": {
     "end_time": "2020-11-13T21:06:54.940296Z",
     "start_time": "2020-11-13T21:06:51.860316Z"
    }
   },
   "outputs": [
    {
     "name": "stdout",
     "output_type": "stream",
     "text": [
      "100000\n",
      "Automatic calling is: Smart\n"
     ]
    }
   ],
   "source": [
    "import pandas as pd, numpy as np, matplotlib.pyplot as plt\n",
    "\n",
    "#automate the boring stuff\n",
    "# from IPython import utils\n",
    "import time, os, sys, re\n",
    "beep = lambda x: os.system(\"echo -n '\\\\a';sleep 0.2;\" * x)\n",
    "if not 'nb_dir' in globals():\n",
    "    nb_dir = os.getcwd()\n",
    "    \n",
    "#load the libraries\n",
    "from lib import *\n",
    "\n",
    "%autocall 1\n",
    "%load_ext autoreload\n",
    "%autoreload 2\n",
    "# awareness&chill"
   ]
  },
  {
   "cell_type": "markdown",
   "metadata": {},
   "source": [
    "# combine all of the relevant bdrates files within a given folder into one .csv"
   ]
  },
  {
   "cell_type": "code",
   "execution_count": 2,
   "metadata": {
    "ExecuteTime": {
     "end_time": "2020-10-26T17:25:00.239402Z",
     "start_time": "2020-10-26T17:24:40.927895Z"
    }
   },
   "outputs": [
    {
     "name": "stdout",
     "output_type": "stream",
     "text": [
      "please select a file from within the desired folder.\n",
      "File: /home/timothytyree/Documents/GitHub/care/notebooks/Data/initial-conditions-suite-2/ds_5_param_set_8_laurener_archive/archive-laurener/termination_times_ic_001-019.csv\n"
     ]
    }
   ],
   "source": [
    "#find file interactively\n",
    "print(\"please select a file from within the desired folder.\")\n",
    "file = search_for_file()"
   ]
  },
  {
   "cell_type": "code",
   "execution_count": 16,
   "metadata": {
    "ExecuteTime": {
     "end_time": "2020-10-04T01:22:23.102110Z",
     "start_time": "2020-10-04T01:22:23.074711Z"
    }
   },
   "outputs": [],
   "source": [
    "#9 samples LT = 0\n",
    "# file =  '/Users/timothytyree/Documents/GitHub/care/notebooks/Data/ds_5_param_set_8/birth-death-rates/33_ds_5_sigma_1.5_threshold_0.6__traj_sr_40_mem_2_bdrates.csv'\n",
    "\n",
    "#>60 samples LT = 2\n",
    "# file = '/Users/timothytyree/Documents/GitHub/care/notebooks/Data/initial-conditions-suite-1/ds_5_param_set_8/birth-death-rates/ic_200x200.117.21_ds_5_sigma_1.5_threshold_0.6_sr_50_mem_2_tmin_100_LT_2_bdrates.csv'\n",
    "#change to the directory containing file\n",
    "folder_name = os.path.dirname(file)\n",
    "\n",
    "\n",
    "#find folder interactively. Crashes jupyter's root kernel :(\n",
    "# from tkinter import Tk\n",
    "# from tkinter.filedialog import askdirectory\n",
    "# path = askdirectory(title='Select Folder') # shows dialog box and return the path\n",
    "# print(path) "
   ]
  },
  {
   "cell_type": "code",
   "execution_count": 17,
   "metadata": {
    "ExecuteTime": {
     "end_time": "2020-10-04T01:22:26.576277Z",
     "start_time": "2020-10-04T01:22:26.554734Z"
    }
   },
   "outputs": [],
   "source": [
    "# get all .csv files in the current working directory\n",
    "os.chdir(folder_name)\n",
    "retval = !ls\n",
    "file_name_list = list(retval)\n",
    "# check each file if it ends in .csv before merging it\n",
    "def is_csv(file_name):\n",
    "    return file_name[-4:]=='.csv'\n",
    "file_name_list = [f for f in file_name_list if is_csv(f)]\n",
    "# remove all files with 'threshold'\n",
    "# file_name_list = [f for f in file_name_list if f.find('threshold')==-1]"
   ]
  },
  {
   "cell_type": "code",
   "execution_count": 18,
   "metadata": {
    "ExecuteTime": {
     "end_time": "2020-10-04T01:22:29.258840Z",
     "start_time": "2020-10-04T01:22:29.247319Z"
    }
   },
   "outputs": [
    {
     "name": "stdout",
     "output_type": "stream",
     "text": [
      "110\n"
     ]
    }
   ],
   "source": [
    "print(len(file_name_list))"
   ]
  },
  {
   "cell_type": "code",
   "execution_count": null,
   "metadata": {
    "ExecuteTime": {
     "end_time": "2020-09-27T22:04:37.483681Z",
     "start_time": "2020-09-27T22:04:37.454761Z"
    }
   },
   "outputs": [],
   "source": []
  },
  {
   "cell_type": "code",
   "execution_count": 19,
   "metadata": {
    "ExecuteTime": {
     "end_time": "2020-10-04T01:22:49.380037Z",
     "start_time": "2020-10-04T01:22:49.364144Z"
    }
   },
   "outputs": [],
   "source": [
    "def produce_one_csv(list_of_files, file_out):\n",
    "   # Consolidate all csv files into one object\n",
    "   result_obj = pd.concat([pd.read_csv(file) for file in list_of_files])\n",
    "   # Convert the above object into a csv file and export\n",
    "   result_obj.to_csv(file_out, index=False, encoding=\"utf-8\")"
   ]
  },
  {
   "cell_type": "code",
   "execution_count": 20,
   "metadata": {
    "ExecuteTime": {
     "end_time": "2020-10-04T01:22:57.353982Z",
     "start_time": "2020-10-04T01:22:56.697081Z"
    }
   },
   "outputs": [],
   "source": [
    "# file_out = \"../consolidated_rates.csv\"\n",
    "file_out = \"../consolidated_rates-from-log-set-.csv\"\n",
    "produce_one_csv(list_of_files=file_name_list, file_out=file_out)"
   ]
  },
  {
   "cell_type": "markdown",
   "metadata": {},
   "source": [
    "# visualize the consolidated_rates.csv"
   ]
  },
  {
   "cell_type": "markdown",
   "metadata": {},
   "source": [
    "## visualize termination times"
   ]
  },
  {
   "cell_type": "code",
   "execution_count": null,
   "metadata": {},
   "outputs": [],
   "source": [
    "searc"
   ]
  },
  {
   "cell_type": "code",
   "execution_count": 21,
   "metadata": {
    "ExecuteTime": {
     "end_time": "2020-10-04T01:23:02.556499Z",
     "start_time": "2020-10-04T01:23:02.489855Z"
    }
   },
   "outputs": [
    {
     "name": "stdout",
     "output_type": "stream",
     "text": [
      "../consolidated_rates-from-log-set-A.csv\n"
     ]
    }
   ],
   "source": [
    "#sort a df into the rows with termination times and everything else\n",
    "os.chdir(folder_name)\n",
    "print(file_out)\n",
    "df = pd.read_csv(file_out)\n",
    "# np.nan values mark termination times/the final datum for a trial.\n",
    "na_loc = df.isna().T.any()\n",
    "df_term = df[na_loc].copy()\n",
    "termination_times = df_term['t'].values  #lookup the time value for each such datum\n",
    "# df_bd = df[~na_loc].copy() "
   ]
  },
  {
   "cell_type": "code",
   "execution_count": 22,
   "metadata": {
    "ExecuteTime": {
     "end_time": "2020-10-04T01:23:06.182287Z",
     "start_time": "2020-10-04T01:23:06.163968Z"
    }
   },
   "outputs": [],
   "source": [
    "# #add zeros for the trials that terminated faster than 100ms\n",
    "# total_num_trials = 19*9\n",
    "\n",
    "# l = list(termination_times)\n",
    "# while len(l)<total_num_trials:\n",
    "#     l.append(0.)\n",
    "# termination_times = np.array(l)"
   ]
  },
  {
   "cell_type": "code",
   "execution_count": 23,
   "metadata": {
    "ExecuteTime": {
     "end_time": "2020-10-04T01:23:06.910565Z",
     "start_time": "2020-10-04T01:23:06.873419Z"
    }
   },
   "outputs": [
    {
     "data": {
      "text/html": [
       "<div>\n",
       "<style scoped>\n",
       "    .dataframe tbody tr th:only-of-type {\n",
       "        vertical-align: middle;\n",
       "    }\n",
       "\n",
       "    .dataframe tbody tr th {\n",
       "        vertical-align: top;\n",
       "    }\n",
       "\n",
       "    .dataframe thead th {\n",
       "        text-align: right;\n",
       "    }\n",
       "</style>\n",
       "<table border=\"1\" class=\"dataframe\">\n",
       "  <thead>\n",
       "    <tr style=\"text-align: right;\">\n",
       "      <th></th>\n",
       "      <th>Unnamed: 0</th>\n",
       "      <th>t</th>\n",
       "      <th>n</th>\n",
       "      <th>dn</th>\n",
       "      <th>rates</th>\n",
       "    </tr>\n",
       "  </thead>\n",
       "  <tbody>\n",
       "    <tr>\n",
       "      <th>0</th>\n",
       "      <td>0</td>\n",
       "      <td>0.025</td>\n",
       "      <td>24</td>\n",
       "      <td>-6.0</td>\n",
       "      <td>0.200000</td>\n",
       "    </tr>\n",
       "    <tr>\n",
       "      <th>1</th>\n",
       "      <td>2</td>\n",
       "      <td>5.025</td>\n",
       "      <td>18</td>\n",
       "      <td>-2.0</td>\n",
       "      <td>0.080000</td>\n",
       "    </tr>\n",
       "    <tr>\n",
       "      <th>2</th>\n",
       "      <td>7</td>\n",
       "      <td>17.525</td>\n",
       "      <td>16</td>\n",
       "      <td>2.0</td>\n",
       "      <td>0.200000</td>\n",
       "    </tr>\n",
       "    <tr>\n",
       "      <th>3</th>\n",
       "      <td>9</td>\n",
       "      <td>22.525</td>\n",
       "      <td>18</td>\n",
       "      <td>2.0</td>\n",
       "      <td>0.400000</td>\n",
       "    </tr>\n",
       "    <tr>\n",
       "      <th>4</th>\n",
       "      <td>10</td>\n",
       "      <td>25.025</td>\n",
       "      <td>20</td>\n",
       "      <td>-2.0</td>\n",
       "      <td>0.133333</td>\n",
       "    </tr>\n",
       "  </tbody>\n",
       "</table>\n",
       "</div>"
      ],
      "text/plain": [
       "   Unnamed: 0       t   n   dn     rates\n",
       "0           0   0.025  24 -6.0  0.200000\n",
       "1           2   5.025  18 -2.0  0.080000\n",
       "2           7  17.525  16  2.0  0.200000\n",
       "3           9  22.525  18  2.0  0.400000\n",
       "4          10  25.025  20 -2.0  0.133333"
      ]
     },
     "execution_count": 23,
     "metadata": {},
     "output_type": "execute_result"
    }
   ],
   "source": [
    "# awareness&chill\n",
    "df.head()"
   ]
  },
  {
   "cell_type": "code",
   "execution_count": 24,
   "metadata": {
    "ExecuteTime": {
     "end_time": "2020-10-04T01:23:14.689976Z",
     "start_time": "2020-10-04T01:23:14.667335Z"
    }
   },
   "outputs": [
    {
     "name": "stdout",
     "output_type": "stream",
     "text": [
      "the mean termination time is \n",
      "                28.8 ± 32.9 s\n",
      "                \n",
      "the median termination time is \n",
      "                19.8 s (IQR:  7.9 s - 40.0 s)\n",
      "                \n",
      "the max termination time is 246 s\n",
      "no. trials considered = 110.\n"
     ]
    }
   ],
   "source": [
    "print(f\"\"\"the mean termination time is \n",
    "                {10**-3*np.mean(termination_times):.1f} ± {10**-3*np.std(termination_times):.1f} s\n",
    "                \"\"\")\n",
    "print(f\"\"\"the median termination time is \n",
    "                {10**-3*np.median(termination_times):.1f} s (IQR:  {10**-3*np.quantile(termination_times, 0.25):.1f} s - {10**-3*np.quantile(termination_times, 0.75):.1f} s)\n",
    "                \"\"\")\n",
    "print(f\"\"\"the max termination time is {10**-3*np.max(termination_times):.0f} s\"\"\")\n",
    "print(f'no. trials considered = {len(file_name_list)}.')"
   ]
  },
  {
   "cell_type": "code",
   "execution_count": 13,
   "metadata": {
    "ExecuteTime": {
     "end_time": "2020-10-04T01:21:40.656491Z",
     "start_time": "2020-10-04T01:21:40.643970Z"
    }
   },
   "outputs": [
    {
     "data": {
      "text/plain": [
       "13564489"
      ]
     },
     "execution_count": 13,
     "metadata": {},
     "output_type": "execute_result"
    }
   ],
   "source": [
    "3683**2"
   ]
  },
  {
   "cell_type": "code",
   "execution_count": 14,
   "metadata": {
    "ExecuteTime": {
     "end_time": "2020-10-04T01:21:41.079193Z",
     "start_time": "2020-10-04T01:21:41.061735Z"
    }
   },
   "outputs": [
    {
     "data": {
      "text/plain": [
       "11694.853801169591"
      ]
     },
     "execution_count": 14,
     "metadata": {},
     "output_type": "execute_result"
    }
   ],
   "source": [
    "np.sum(termination_times)/(19*9)"
   ]
  },
  {
   "cell_type": "code",
   "execution_count": 117,
   "metadata": {
    "ExecuteTime": {
     "end_time": "2020-09-27T22:06:28.720219Z",
     "start_time": "2020-09-27T22:06:28.708025Z"
    }
   },
   "outputs": [],
   "source": [
    "r = 10**3/np.mean(termination_times)\n",
    "def P(k,t):\n",
    "    '''the probability that k events occur in time t'''\n",
    "    return (r*t)**k*np.exp(-r*t)/np.math.factorial(k)"
   ]
  },
  {
   "cell_type": "code",
   "execution_count": 118,
   "metadata": {
    "ExecuteTime": {
     "end_time": "2020-09-27T22:06:30.960744Z",
     "start_time": "2020-09-27T22:06:30.731868Z"
    }
   },
   "outputs": [
    {
     "name": "stdout",
     "output_type": "stream",
     "text": [
      "saved figure in \n",
      "\thistogram_termination_times_suite-2.png.\n"
     ]
    },
    {
     "data": {
      "image/png": "[encoded data removed]",
      "text/plain": [
       "<Figure size 360x360 with 1 Axes>"
      ]
     },
     "metadata": {
      "needs_background": "light"
     },
     "output_type": "display_data"
    }
   ],
   "source": [
    "#plot the histogram of termination times\n",
    "saving = True\n",
    "fontsize=16\n",
    "\n",
    "savefig_dir = f'{nb_dir}/Figures/birth_death_analysis'\n",
    "savefig_fn = 'histogram_termination_times_suite-2.png'\n",
    "\n",
    "fig, ax = plt.subplots(figsize=(5, 5))\n",
    "ax.hist(np.array(termination_times)/10**3, bins = 10)\n",
    "\n",
    "#overlay a poisson distribution\n",
    "N = len(termination_times)\n",
    "x_values = np.linspace(1,220000,100)/10**3\n",
    "y_values = N*P(0,x_values)\n",
    "ax.plot(x_values,y_values)\n",
    "\n",
    "#format plot\n",
    "# plt.title(f'''termination times for 9 200x200 patches''', fontsize=fontsize)\n",
    "ax.set_ylabel('freq.', fontsize=fontsize)\n",
    "ax.set_xlabel('termination times (s)', fontsize=fontsize)\n",
    "ax.tick_params(axis='both', which='both', labelsize=fontsize)\n",
    "# ax.set_ylim((0,80))\n",
    "ax.set_yscale('log')\n",
    "if not saving: \n",
    "    plt.show() \n",
    "else:\n",
    "    plt.tight_layout()\n",
    "    os.chdir(savefig_dir)\n",
    "    plt.savefig(savefig_fn, dpi=300)\n",
    "    print(f\"saved figure in \\n\\t{savefig_fn}.\")"
   ]
  },
  {
   "cell_type": "code",
   "execution_count": 82,
   "metadata": {
    "ExecuteTime": {
     "end_time": "2020-09-27T21:58:40.597061Z",
     "start_time": "2020-09-27T21:58:40.577108Z"
    }
   },
   "outputs": [
    {
     "name": "stdout",
     "output_type": "stream",
     "text": [
      "0.03306839777483597\n"
     ]
    }
   ],
   "source": [
    "# termination_times[termination_times>=10000]\n",
    "print(r)"
   ]
  },
  {
   "cell_type": "code",
   "execution_count": 45,
   "metadata": {
    "ExecuteTime": {
     "end_time": "2020-09-27T21:36:49.607131Z",
     "start_time": "2020-09-27T21:36:49.595673Z"
    }
   },
   "outputs": [],
   "source": [
    "# from scipy.stats import poisson"
   ]
  },
  {
   "cell_type": "code",
   "execution_count": null,
   "metadata": {
    "ExecuteTime": {
     "end_time": "2020-08-15T18:01:22.645850Z",
     "start_time": "2020-08-15T18:01:22.621838Z"
    }
   },
   "outputs": [],
   "source": [
    "ax.set_yscale('log')"
   ]
  },
  {
   "cell_type": "code",
   "execution_count": 109,
   "metadata": {
    "ExecuteTime": {
     "end_time": "2020-09-27T22:04:06.229958Z",
     "start_time": "2020-09-27T22:04:06.211323Z"
    }
   },
   "outputs": [
    {
     "data": {
      "text/plain": [
       "'../consolidated_rates-from-log.csv'"
      ]
     },
     "execution_count": 109,
     "metadata": {},
     "output_type": "execute_result"
    }
   ],
   "source": [
    "# dist.pmf(5)\n",
    "file_out"
   ]
  },
  {
   "cell_type": "markdown",
   "metadata": {},
   "source": [
    "## visualize birth death rates"
   ]
  },
  {
   "cell_type": "code",
   "execution_count": 119,
   "metadata": {
    "ExecuteTime": {
     "end_time": "2020-09-27T22:06:35.420886Z",
     "start_time": "2020-09-27T22:06:35.323290Z"
    }
   },
   "outputs": [],
   "source": [
    "#import data\n",
    "os.chdir(folder_name)\n",
    "df = pd.read_csv(file_out)\n",
    "\n",
    "#drop termination times\n",
    "df.dropna(inplace=True)\n",
    "\n",
    "#drop rows with rates over 100/ms\n",
    "df = df.loc[df.rates<=9].copy()\n",
    "\n",
    "# df = df.loc[df.rates<=0.02].copy()\n",
    "df = df.loc[df.rates<=0.1].copy()\n",
    "\n",
    "dn_list = sorted(set(df.dn.values))\n",
    "dn_list = [-2,2]"
   ]
  },
  {
   "cell_type": "code",
   "execution_count": 106,
   "metadata": {
    "ExecuteTime": {
     "end_time": "2020-09-27T22:03:53.620667Z",
     "start_time": "2020-09-27T22:03:53.593813Z"
    }
   },
   "outputs": [
    {
     "data": {
      "text/plain": [
       "9.058946975703027"
      ]
     },
     "execution_count": 106,
     "metadata": {},
     "output_type": "execute_result"
    }
   ],
   "source": [
    "np.mean(df.n.values)"
   ]
  },
  {
   "cell_type": "code",
   "execution_count": 120,
   "metadata": {
    "ExecuteTime": {
     "end_time": "2020-09-27T22:06:38.792757Z",
     "start_time": "2020-09-27T22:06:38.552185Z"
    }
   },
   "outputs": [],
   "source": [
    "#compute median rates and IQR for the error bars corresponding to each category in dn_list\n",
    "errorbar_data_list = []\n",
    "for dn in dn_list:  \n",
    "    #iterate over n for each dn\n",
    "    df2 = df.loc[df.dn==dn].copy()\n",
    "    n_list = sorted(set(df2.n.values))\n",
    "    y_val_list = []\n",
    "    y_err_1_list = []\n",
    "    y_err_2_list = []\n",
    "    for n in n_list:\n",
    "        df3 = df2.loc[df2.n == n].copy()\n",
    "        y_val, y_err_1, y_err_2 = df3.describe().T[['50%', '25%', '75%']].loc['rates'].values\n",
    "        y_err_2 = float(y_err_2 - y_val)\n",
    "        y_err_1 = float(y_val - y_err_1)\n",
    "        y_val = float(y_val)\n",
    "        y_val_list.append(y_val)\n",
    "        y_err_1_list.append(y_err_1)\n",
    "        y_err_2_list.append(y_err_2)\n",
    "    # errorbar_data = (dn, n_list, y_val_list, y_err_1_list, y_err_2_list)\n",
    "    errorbar_data = {'dn':dn, \n",
    "                     'n_list':n_list, \n",
    "                     'y_val_list':y_val_list, \n",
    "                     'y_err_1_list':y_err_1_list, \n",
    "                     'y_err_2_list':y_err_2_list\n",
    "                    }\n",
    "    errorbar_data_list.append(errorbar_data)    "
   ]
  },
  {
   "cell_type": "code",
   "execution_count": 121,
   "metadata": {
    "ExecuteTime": {
     "end_time": "2020-09-27T22:06:40.981012Z",
     "start_time": "2020-09-27T22:06:40.954797Z"
    }
   },
   "outputs": [],
   "source": [
    "#retrieve scatter plot data points for each category in dn_list\n",
    "scatter_data_list = []\n",
    "for dn in dn_list:  \n",
    "    df2 = df.loc[df.dn==dn].copy()\n",
    "    x_values = df2.n.values\n",
    "    y_values = df2.rates.values\n",
    "    scatter_data = {'dn':dn, \n",
    "                     'x_values':x_values, \n",
    "                     'y_values':y_values, \n",
    "                    }\n",
    "    scatter_data_list.append(scatter_data)"
   ]
  },
  {
   "cell_type": "code",
   "execution_count": 122,
   "metadata": {
    "ExecuteTime": {
     "end_time": "2020-09-27T22:06:41.213933Z",
     "start_time": "2020-09-27T22:06:41.197719Z"
    }
   },
   "outputs": [],
   "source": [
    "#assign a color/label/other formatting to each category in dn_list\n",
    "color_list_raw = ['red', 'blue', 'green', 'orange', 'brown', 'purple']\n",
    "formatting_data_list = []\n",
    "for i, dn in enumerate(dn_list):\n",
    "    formatting_data = {\n",
    "        'dn': dn,\n",
    "        'color': color_list_raw[i],\n",
    "        'label':f'$W_{{{int(dn):+d}}}$'\n",
    "    }\n",
    "    formatting_data_list.append(formatting_data)   "
   ]
  },
  {
   "cell_type": "code",
   "execution_count": 123,
   "metadata": {
    "ExecuteTime": {
     "end_time": "2020-09-27T22:06:41.877145Z",
     "start_time": "2020-09-27T22:06:41.858275Z"
    }
   },
   "outputs": [],
   "source": [
    "assert (len(formatting_data_list) is len(scatter_data_list ))\n",
    "assert (len(formatting_data_list) is len(errorbar_data_list))"
   ]
  },
  {
   "cell_type": "code",
   "execution_count": 124,
   "metadata": {
    "ExecuteTime": {
     "end_time": "2020-09-27T22:06:45.649666Z",
     "start_time": "2020-09-27T22:06:42.666731Z"
    }
   },
   "outputs": [
    {
     "name": "stdout",
     "output_type": "stream",
     "text": [
      "saved figure in \n",
      "\tbirth_death_rates_ic2-from-log.png.\n"
     ]
    },
    {
     "data": {
      "image/png": "[encoded data removed]",
      "text/plain": [
       "<Figure size 432x360 with 1 Axes>"
      ]
     },
     "metadata": {
      "needs_background": "light"
     },
     "output_type": "display_data"
    }
   ],
   "source": [
    "saving = True\n",
    "\n",
    "savefig_dir = f'{nb_dir}/Figures/birth_death_analysis'\n",
    "savefig_fn = 'birth_death_rates_ic2-from-log.png'\n",
    "# savefig_fn = 'birth_death_rates_log.png'\n",
    "log_scale = False\n",
    "fontsize=20\n",
    "figsize=(6,5)\n",
    "\n",
    "# def birth_death_plot(*y_axis_struct_list):\n",
    "\n",
    "# plot birth death rates with IQR y error bars with n on the x axis\n",
    "fig, ax = plt.subplots(figsize=figsize)\n",
    "for scatter_data, errorbar_data, formatting_data in zip(\n",
    "    scatter_data_list, errorbar_data_list, formatting_data_list):\n",
    "\n",
    "    dn, x_values, y_values = scatter_data.values()\n",
    "    dn, n_list, y_val_list, y_err_1_list, y_err_2_list = errorbar_data.values()\n",
    "    dn, color, label = formatting_data.values()\n",
    "    yerr = np.array(list(zip(y_err_1_list,y_err_2_list))).T\n",
    "    \n",
    "    ax.scatter(x=x_values/2,y=y_values, c=color, s=10, alpha=0.1, label=label)\n",
    "    ax.errorbar([n/2 for n in n_list], y_val_list, yerr=yerr, c=color)\n",
    "    \n",
    "# ax.legend(loc='top')\n",
    "\n",
    "ax.set_xticks([2,4,6,8, 10, 12])\n",
    "# # ax.set_yticks([0,10,20,30,40,50])\n",
    "# ymin, ymax = ax.get_ylim()\n",
    "# ax.set_ylim((1e-3,0.4))\n",
    "\n",
    "ax.legend(loc='best', fontsize= fontsize-8)\n",
    "ax.tick_params(axis='both', labelsize= fontsize)\n",
    "ax.set_ylabel('birth/death rate (ms$^{-1}$)', fontsize=fontsize)\n",
    "ax.set_xlabel('n/2', fontsize=fontsize) \n",
    "if log_scale:\n",
    "    ax.set_yscale('log')\n",
    "# ax.set_title(f'$\\sigma = {sigma}$, threshold = {threshold}', fontsize=fontsize)\n",
    "                    \n",
    "# ax.set_title('high frequency birth deaths observed', fontsize=fontsize)\n",
    "# ax.axis([20,60,0,7])\n",
    "  \n",
    "    \n",
    "if not saving: \n",
    "    plt.show() \n",
    "else:\n",
    "    plt.tight_layout()\n",
    "    os.chdir(savefig_dir)\n",
    "    plt.savefig(savefig_fn, dpi=300)\n",
    "    print(f\"saved figure in \\n\\t{savefig_fn}.\")\n"
   ]
  },
  {
   "cell_type": "code",
   "execution_count": 78,
   "metadata": {
    "ExecuteTime": {
     "end_time": "2020-09-24T22:23:42.235942Z",
     "start_time": "2020-09-24T22:23:42.203569Z"
    }
   },
   "outputs": [
    {
     "data": {
      "text/plain": [
       "(36573,)"
      ]
     },
     "execution_count": 78,
     "metadata": {},
     "output_type": "execute_result"
    }
   ],
   "source": [
    "# import trackpy\n",
    "y_values.shape\n",
    "# trackpy.link_iter?"
   ]
  },
  {
   "cell_type": "code",
   "execution_count": 86,
   "metadata": {
    "ExecuteTime": {
     "end_time": "2020-09-24T22:29:53.068471Z",
     "start_time": "2020-09-24T22:29:53.038726Z"
    }
   },
   "outputs": [
    {
     "data": {
      "text/plain": [
       "(22972,)"
      ]
     },
     "execution_count": 86,
     "metadata": {},
     "output_type": "execute_result"
    }
   ],
   "source": [
    "#the number when considering rates <= 0.1, we have\n",
    "y_values.shape"
   ]
  },
  {
   "cell_type": "code",
   "execution_count": 26,
   "metadata": {
    "ExecuteTime": {
     "end_time": "2020-08-19T20:32:31.158769Z",
     "start_time": "2020-08-19T20:32:31.139217Z"
    }
   },
   "outputs": [
    {
     "data": {
      "text/plain": [
       "(6791,)"
      ]
     },
     "execution_count": 26,
     "metadata": {},
     "output_type": "execute_result"
    }
   ],
   "source": [
    "df.n.values.shape"
   ]
  },
  {
   "cell_type": "code",
   "execution_count": 125,
   "metadata": {
    "ExecuteTime": {
     "end_time": "2020-09-27T22:07:42.845906Z",
     "start_time": "2020-09-27T22:07:42.822719Z"
    }
   },
   "outputs": [
    {
     "data": {
      "text/html": [
       "<div>\n",
       "<style scoped>\n",
       "    .dataframe tbody tr th:only-of-type {\n",
       "        vertical-align: middle;\n",
       "    }\n",
       "\n",
       "    .dataframe tbody tr th {\n",
       "        vertical-align: top;\n",
       "    }\n",
       "\n",
       "    .dataframe thead th {\n",
       "        text-align: right;\n",
       "    }\n",
       "</style>\n",
       "<table border=\"1\" class=\"dataframe\">\n",
       "  <thead>\n",
       "    <tr style=\"text-align: right;\">\n",
       "      <th></th>\n",
       "      <th>Unnamed: 0</th>\n",
       "      <th>t</th>\n",
       "      <th>n</th>\n",
       "      <th>dn</th>\n",
       "      <th>rates</th>\n",
       "    </tr>\n",
       "  </thead>\n",
       "  <tbody>\n",
       "  </tbody>\n",
       "</table>\n",
       "</div>"
      ],
      "text/plain": [
       "Empty DataFrame\n",
       "Columns: [Unnamed: 0, t, n, dn, rates]\n",
       "Index: []"
      ]
     },
     "execution_count": 125,
     "metadata": {},
     "output_type": "execute_result"
    }
   ],
   "source": [
    "df[(df.n%2==1)]"
   ]
  },
  {
   "cell_type": "code",
   "execution_count": 28,
   "metadata": {
    "ExecuteTime": {
     "end_time": "2020-08-19T20:32:35.053829Z",
     "start_time": "2020-08-19T20:32:35.032721Z"
    }
   },
   "outputs": [
    {
     "data": {
      "text/plain": [
       "index    208.000\n",
       "t        620.025\n",
       "n          4.000\n",
       "dn         2.000\n",
       "rates      0.400\n",
       "Name: 14, dtype: float64"
      ]
     },
     "execution_count": 28,
     "metadata": {},
     "output_type": "execute_result"
    }
   ],
   "source": [
    "df.iloc[14]"
   ]
  },
  {
   "cell_type": "code",
   "execution_count": 29,
   "metadata": {
    "ExecuteTime": {
     "end_time": "2020-08-19T20:32:37.091709Z",
     "start_time": "2020-08-19T20:32:37.078954Z"
    }
   },
   "outputs": [],
   "source": [
    "# from lib.birth_death_rates_from_ic import *\n",
    "# initial_condition_dir = '/Users/timothytyree/Documents/GitHub/care/notebooks/Data/initial-conditions-suite-1/ic-in/ic_200x200.121.33.npz'\n",
    "# birth_death_rates_from_ic(initial_condition_dir)"
   ]
  },
  {
   "cell_type": "markdown",
   "metadata": {
    "heading_collapsed": true
   },
   "source": [
    "### warning! odd tips detected!  Have no/less fear... This is in the filtered n, not in the raw n.\n",
    "These could be caused by \n",
    "- (made padding huge, problem still persists)padding being too small (with this new D)\n",
    "- something funny in the tracking\n",
    "    - pad=5\n",
    "    - edge_tolerance = 3"
   ]
  },
  {
   "cell_type": "code",
   "execution_count": 30,
   "metadata": {
    "ExecuteTime": {
     "end_time": "2020-08-19T20:32:40.675109Z",
     "start_time": "2020-08-19T20:32:40.657348Z"
    },
    "hidden": true
   },
   "outputs": [],
   "source": [
    "# save_every_n_frames = 100"
   ]
  },
  {
   "cell_type": "code",
   "execution_count": 31,
   "metadata": {
    "ExecuteTime": {
     "end_time": "2020-08-19T20:32:41.473208Z",
     "start_time": "2020-08-19T20:32:41.458023Z"
    },
    "hidden": true
   },
   "outputs": [
    {
     "data": {
      "text/plain": [
       "100.0"
      ]
     },
     "execution_count": 31,
     "metadata": {},
     "output_type": "execute_result"
    }
   ],
   "source": [
    "10**6/10/10**3"
   ]
  },
  {
   "cell_type": "code",
   "execution_count": 32,
   "metadata": {
    "ExecuteTime": {
     "end_time": "2020-08-19T20:32:42.375889Z",
     "start_time": "2020-08-19T20:32:42.362134Z"
    },
    "hidden": true
   },
   "outputs": [
    {
     "name": "stdout",
     "output_type": "stream",
     "text": [
      "the max termination time was 24.21 seconds.\n"
     ]
    }
   ],
   "source": [
    "print(f\"the max termination time was {np.max(termination_times)/10**3:.2f} seconds.\")"
   ]
  },
  {
   "cell_type": "markdown",
   "metadata": {
    "ExecuteTime": {
     "end_time": "2020-08-15T18:24:04.873325Z",
     "start_time": "2020-08-15T18:24:04.848885Z"
    },
    "hidden": true
   },
   "source": [
    "my max duration was 6.18 seconds.  wouter's mean termination time was ~26 seconds\n",
    "\n",
    "he saw 405 events, I saw ~3000 events"
   ]
  },
  {
   "cell_type": "markdown",
   "metadata": {
    "heading_collapsed": true
   },
   "source": [
    "# plot an odd birth death event's trajectory"
   ]
  },
  {
   "cell_type": "code",
   "execution_count": 33,
   "metadata": {
    "ExecuteTime": {
     "end_time": "2020-08-19T20:32:58.443121Z",
     "start_time": "2020-08-19T20:32:49.109727Z"
    },
    "hidden": true
   },
   "outputs": [
    {
     "name": "stdout",
     "output_type": "stream",
     "text": [
      "please select a file from within the desired folder.\n",
      "File: /home/timothytyree/Documents/GitHub/care/notebooks/Data/initial-conditions-suite-2/ds_5_param_set_8/trajectories/ic_200x200.001.13_ds_5_sigma_1.5_threshold_0.6_sr_10_mem_2_traj.csv\n"
     ]
    }
   ],
   "source": [
    "#TODO: load a given trajectory file,\n",
    "#find file interactively/\n",
    "print(\"please select a file from within the desired folder.\")\n",
    "file = search_for_file()"
   ]
  },
  {
   "cell_type": "code",
   "execution_count": 34,
   "metadata": {
    "ExecuteTime": {
     "end_time": "2020-08-19T20:33:00.570620Z",
     "start_time": "2020-08-19T20:33:00.556767Z"
    },
    "hidden": true
   },
   "outputs": [],
   "source": [
    "def check_csv_for_odds(file):\n",
    "    df = pd.read_csv(file)\n",
    "    return (df.n%2==1).any()"
   ]
  },
  {
   "cell_type": "code",
   "execution_count": null,
   "metadata": {
    "ExecuteTime": {
     "end_time": "2020-08-19T20:33:42.843775Z",
     "start_time": "2020-08-19T20:33:42.703162Z"
    },
    "hidden": true
   },
   "outputs": [],
   "source": []
  },
  {
   "cell_type": "code",
   "execution_count": 40,
   "metadata": {
    "ExecuteTime": {
     "end_time": "2020-08-19T20:34:04.882320Z",
     "start_time": "2020-08-19T20:34:04.830787Z"
    },
    "hidden": true
   },
   "outputs": [],
   "source": [
    "folder_name = os.path.dirname(file)\n",
    "os.chdir(folder_name)\n",
    "file_name_list = !ls\n",
    "file_name_list = [f for f in file_name_list if is_csv(f)]"
   ]
  },
  {
   "cell_type": "code",
   "execution_count": 41,
   "metadata": {
    "ExecuteTime": {
     "end_time": "2020-08-19T20:34:06.517720Z",
     "start_time": "2020-08-19T20:34:05.561086Z"
    },
    "hidden": true
   },
   "outputs": [],
   "source": [
    "for f in file_name_list:\n",
    "#     print(f)\n",
    "    assert(not  check_csv_for_odds(f) )"
   ]
  },
  {
   "cell_type": "code",
   "execution_count": 42,
   "metadata": {
    "ExecuteTime": {
     "end_time": "2020-08-19T20:34:08.260535Z",
     "start_time": "2020-08-19T20:34:08.243415Z"
    },
    "hidden": true
   },
   "outputs": [
    {
     "name": "stdout",
     "output_type": "stream",
     "text": [
      "ic_200x200.019.33_ds_5_sigma_1.5_threshold_0.6_sr_10_mem_2_traj.csv\n"
     ]
    }
   ],
   "source": [
    "# f = 'ic_200x200.001.11_ds_5_sigma_1.5_threshold_0.6_sr_50_mem_2_traj.csv'\n",
    "df = pd.read_csv(f)\n",
    "print(f)"
   ]
  },
  {
   "cell_type": "code",
   "execution_count": 43,
   "metadata": {
    "ExecuteTime": {
     "end_time": "2020-08-19T20:34:11.687026Z",
     "start_time": "2020-08-19T20:34:11.664412Z"
    },
    "hidden": true
   },
   "outputs": [
    {
     "data": {
      "text/html": [
       "<div>\n",
       "<style scoped>\n",
       "    .dataframe tbody tr th:only-of-type {\n",
       "        vertical-align: middle;\n",
       "    }\n",
       "\n",
       "    .dataframe tbody tr th {\n",
       "        vertical-align: top;\n",
       "    }\n",
       "\n",
       "    .dataframe thead th {\n",
       "        text-align: right;\n",
       "    }\n",
       "</style>\n",
       "<table border=\"1\" class=\"dataframe\">\n",
       "  <thead>\n",
       "    <tr style=\"text-align: right;\">\n",
       "      <th></th>\n",
       "      <th>t</th>\n",
       "      <th>x</th>\n",
       "      <th>y</th>\n",
       "      <th>s1</th>\n",
       "      <th>s2</th>\n",
       "      <th>n</th>\n",
       "      <th>V</th>\n",
       "      <th>f</th>\n",
       "      <th>s</th>\n",
       "      <th>frame</th>\n",
       "      <th>particle</th>\n",
       "    </tr>\n",
       "  </thead>\n",
       "  <tbody>\n",
       "  </tbody>\n",
       "</table>\n",
       "</div>"
      ],
      "text/plain": [
       "Empty DataFrame\n",
       "Columns: [t, x, y, s1, s2, n, V, f, s, frame, particle]\n",
       "Index: []"
      ]
     },
     "execution_count": 43,
     "metadata": {},
     "output_type": "execute_result"
    }
   ],
   "source": [
    "df.loc[df.n%2==1]\n",
    "#TODO: compute change in RAW spiral tip number\n",
    "#TODO: can I find any ODD changes in the RAW spiral tip number?\n"
   ]
  },
  {
   "cell_type": "code",
   "execution_count": 44,
   "metadata": {
    "ExecuteTime": {
     "end_time": "2020-08-19T20:34:23.390335Z",
     "start_time": "2020-08-19T20:34:23.364089Z"
    },
    "hidden": true
   },
   "outputs": [
    {
     "data": {
      "text/plain": [
       "False"
      ]
     },
     "execution_count": 44,
     "metadata": {},
     "output_type": "execute_result"
    }
   ],
   "source": [
    "check_csv_for_odds(f)"
   ]
  },
  {
   "cell_type": "markdown",
   "metadata": {
    "heading_collapsed": true,
    "hidden": true
   },
   "source": [
    "## view odd trajectory"
   ]
  },
  {
   "cell_type": "code",
   "execution_count": 58,
   "metadata": {
    "ExecuteTime": {
     "end_time": "2020-08-18T19:18:36.959703Z",
     "start_time": "2020-08-18T19:18:36.902419Z"
    },
    "hidden": true
   },
   "outputs": [],
   "source": [
    "file_name_traj = f.replace('_tmin_100_LT_0_bdrates','_traj')\n",
    "folder_name_traj = folder_name.replace('birth-death-rates','trajectories')"
   ]
  },
  {
   "cell_type": "code",
   "execution_count": 59,
   "metadata": {
    "ExecuteTime": {
     "end_time": "2020-08-18T19:18:37.730276Z",
     "start_time": "2020-08-18T19:18:37.680797Z"
    },
    "hidden": true
   },
   "outputs": [],
   "source": [
    "os.chdir(folder_name_traj)\n",
    "df = pd.read_csv(file_name_traj)"
   ]
  },
  {
   "cell_type": "code",
   "execution_count": 62,
   "metadata": {
    "ExecuteTime": {
     "end_time": "2020-08-18T19:19:16.329792Z",
     "start_time": "2020-08-18T19:19:16.276501Z"
    },
    "hidden": true
   },
   "outputs": [
    {
     "data": {
      "text/plain": [
       "False"
      ]
     },
     "execution_count": 62,
     "metadata": {},
     "output_type": "execute_result"
    }
   ],
   "source": [
    "(df.n%2==1).any()"
   ]
  },
  {
   "cell_type": "markdown",
   "metadata": {
    "hidden": true
   },
   "source": [
    "The first odd birth death event in the bdrates for ic_200x200.003.32 does not exist in the raw tip number data.  The problem must lie strictly between the tip detection and the final computation of number of tip trajectories.\n",
    "\n",
    "- TODO(option A): compute the birth-death rates from the raw tip number\n",
    "    - TODO: LOG TO BDRATES\n",
    "        - 1. import log and isolate n timeseries\n",
    "        - 1. use the existing method to compute birth-death rates\n",
    "- TODO(option B): tune the tracking to get the right tip number.  This is already partially done in another .ipynb"
   ]
  },
  {
   "cell_type": "code",
   "execution_count": 63,
   "metadata": {
    "ExecuteTime": {
     "end_time": "2020-08-18T19:19:44.490266Z",
     "start_time": "2020-08-18T19:19:44.437399Z"
    },
    "hidden": true
   },
   "outputs": [
    {
     "data": {
      "text/plain": [
       "'ic_200x200.003.32_ds_5_sigma_1.5_threshold_0.6_sr_10_mem_2_traj.csv'"
      ]
     },
     "execution_count": 63,
     "metadata": {},
     "output_type": "execute_result"
    }
   ],
   "source": [
    "file_name_traj"
   ]
  },
  {
   "cell_type": "code",
   "execution_count": null,
   "metadata": {
    "hidden": true
   },
   "outputs": [],
   "source": []
  },
  {
   "cell_type": "code",
   "execution_count": null,
   "metadata": {
    "hidden": true
   },
   "outputs": [],
   "source": []
  },
  {
   "cell_type": "markdown",
   "metadata": {
    "heading_collapsed": true
   },
   "source": [
    "# view kwargs"
   ]
  },
  {
   "cell_type": "markdown",
   "metadata": {
    "ExecuteTime": {
     "end_time": "2020-08-15T23:31:52.720770Z",
     "start_time": "2020-08-15T23:31:52.709029Z"
    },
    "hidden": true
   },
   "source": [
    "No RAW odd spiral tips exist in the new spiral tip data\n",
    "\n",
    "TODO(after finding the tracking problem): CHECK if RAW odd spiral tips exist in the OLD spiral tip data.\n",
    "\n",
    "THUS, it is in the tracking. RETRY with LT_thresh=0"
   ]
  },
  {
   "cell_type": "code",
   "execution_count": 63,
   "metadata": {
    "ExecuteTime": {
     "end_time": "2020-08-15T23:33:03.191271Z",
     "start_time": "2020-08-15T23:33:03.176666Z"
    },
    "hidden": true
   },
   "outputs": [],
   "source": [
    "#TODO(later): compute the spiral tip number from the number of tips to confirm it is from the tracking (waste of time)\n",
    "# TODO: recompute all trajectories with LT=0 and see if the problem goes away\n"
   ]
  },
  {
   "cell_type": "code",
   "execution_count": 2,
   "metadata": {
    "ExecuteTime": {
     "end_time": "2020-08-18T18:13:24.367815Z",
     "start_time": "2020-08-18T18:13:24.365580Z"
    },
    "hidden": true
   },
   "outputs": [],
   "source": [
    "#DONE: get the function for computing bdrates from trajectory file\n",
    "#DONE: get kwargs, give it width and height = 200 pixels\n",
    "#TODO: archive old bdrates\n",
    "#TODO: recompute bdrates WITH LT_THRESH=0, see if the problem goes away,\n",
    "#TODO: if it does, recompute on the ic-suite-1 results with LT=0 and see if the problem goes away.\n",
    "\n",
    "\n",
    "file = '/home/timothytyree/Documents/GitHub/care/notebooks/Data/initial-conditions-suite-2/ic-out/ic_200x200.001.13.npz'"
   ]
  },
  {
   "cell_type": "code",
   "execution_count": 3,
   "metadata": {
    "ExecuteTime": {
     "end_time": "2020-08-18T18:13:24.882060Z",
     "start_time": "2020-08-18T18:13:24.875208Z"
    },
    "hidden": true
   },
   "outputs": [],
   "source": [
    "from lib.birth_death_rates_from_ic import _get_kwargs, compute_birth_death_rates\n",
    "\n",
    "\n",
    "#NOTE kwargs need to be initial conditions, NOT .trajectory files\n",
    "kwargs = _get_kwargs(file)\n",
    "kwargs['width']=200\n",
    "kwargs['height']=200\n",
    "kwargs['LT_thresh'] = 0"
   ]
  },
  {
   "cell_type": "code",
   "execution_count": 5,
   "metadata": {
    "ExecuteTime": {
     "end_time": "2020-08-18T18:13:39.024707Z",
     "start_time": "2020-08-18T18:13:39.019367Z"
    },
    "hidden": true
   },
   "outputs": [
    {
     "data": {
      "text/plain": [
       "{'beeping': False,\n",
       " 'asserting': False,\n",
       " 'printing': True,\n",
       " 'plotting': False,\n",
       " 'logging': True,\n",
       " 'sigma': 1.5,\n",
       " 'threshold': 0.6,\n",
       " 'V_threshold': 0.5,\n",
       " 'edge_tolerance': 20,\n",
       " 'pad': 21,\n",
       " 'atol': 1e-10,\n",
       " 'color_values': None,\n",
       " 'h': 0.025,\n",
       " 'nsteps': 10000000,\n",
       " 'save_every_n_frames': 100,\n",
       " 'max_time': 250000.0,\n",
       " 'max_buffers_to_save': 0,\n",
       " 'buffers_saved_counter': 0,\n",
       " 'start_saving_buffers_at_step': 0,\n",
       " 'timing': False,\n",
       " 'recording_if_odd': True,\n",
       " 'recording': True,\n",
       " 'descrip': 'sigma_1.5_threshold_0.6',\n",
       " 'save': True,\n",
       " 'mem': 2,\n",
       " 'sr': 10,\n",
       " 'ds': 5,\n",
       " 'tmin': 100,\n",
       " 'LT_thresh': 0,\n",
       " 'base_dir': '/home/timothytyree/Documents/GitHub/care/notebooks/Data/initial-conditions-suite-2',\n",
       " 'base_save_dir': '/home/timothytyree/Documents/GitHub/care/notebooks/Data/initial-conditions-suite-2/ds_5_param_set_8',\n",
       " 'data_folder_bdrates': '/home/timothytyree/Documents/GitHub/care/notebooks/Data/initial-conditions-suite-2/ds_5_param_set_8/birth-death-rates',\n",
       " 'data_folder_traj': '/home/timothytyree/Documents/GitHub/care/notebooks/Data/initial-conditions-suite-2/ds_5_param_set_8/trajectories',\n",
       " 'data_folder_log': '/home/timothytyree/Documents/GitHub/care/notebooks/Data/initial-conditions-suite-2/ds_5_param_set_8/Log',\n",
       " 'data_fn': 'ic_200x200.001.13.npz',\n",
       " 'data_fn_log': 'ic_200x200.001.13_ds_5_sigma_1.5_threshold_0.6_log.csv',\n",
       " 'data_fn_tips': 'ic_200x200.001.13_ds_5_sigma_1.5_threshold_0.6_processed.csv',\n",
       " 'data_fn_traj': 'ic_200x200.001.13_ds_5_sigma_1.5_threshold_0.6_sr_10_mem_2_traj.csv',\n",
       " 'data_fn_bdrates': 'ic_200x200.001.13_ds_5_sigma_1.5_threshold_0.6_sr_10_mem_2_tmin_100_LT_0_bdrates.csv',\n",
       " 'data_dir_bdrates': '/home/timothytyree/Documents/GitHub/care/notebooks/Data/initial-conditions-suite-2/ds_5_param_set_8/birth-death-rates/ic_200x200.001.13_ds_5_sigma_1.5_threshold_0.6_sr_10_mem_2_tmin_100_LT_0_bdrates.csv',\n",
       " 'data_dir_traj': '/home/timothytyree/Documents/GitHub/care/notebooks/Data/initial-conditions-suite-2/ds_5_param_set_8/trajectories/ic_200x200.001.13_ds_5_sigma_1.5_threshold_0.6_sr_10_mem_2_traj.csv',\n",
       " 'data_dir_tips': '/home/timothytyree/Documents/GitHub/care/notebooks/Data/initial-conditions-suite-2/ds_5_param_set_8/Log/ic_200x200.001.13_ds_5_sigma_1.5_threshold_0.6_processed.csv',\n",
       " 'data_dir_log': '/home/timothytyree/Documents/GitHub/care/notebooks/Data/initial-conditions-suite-2/ds_5_param_set_8/Log/ic_200x200.001.13_ds_5_sigma_1.5_threshold_0.6_log.csv',\n",
       " 'print_log_dir': '/home/timothytyree/Documents/GitHub/care/notebooks/Data/initial-conditions-suite-2/ds_5_param_set_8/Log/ic_200x200.001.13_ds_5_sigma_1.5_threshold_0.6.log',\n",
       " 'width': 200,\n",
       " 'height': 200}"
      ]
     },
     "execution_count": 5,
     "metadata": {},
     "output_type": "execute_result"
    }
   ],
   "source": [
    "# os.chdir('..')\n",
    "# os.path.abspath(file)\n",
    "kwargs"
   ]
  },
  {
   "cell_type": "code",
   "execution_count": 101,
   "metadata": {
    "ExecuteTime": {
     "end_time": "2020-08-16T00:17:11.070402Z",
     "start_time": "2020-08-16T00:17:11.039377Z"
    },
    "hidden": true,
    "scrolled": true
   },
   "outputs": [
    {
     "name": "stdout",
     "output_type": "stream",
     "text": [
      "loading trajectories from data_fn_traj: /home/timothytyree/Documents/GitHub/care/notebooks/Data/initial-conditions-suite-2/ds_5_param_set_8/ic_200x200.001.11_ds_5_sigma_1.5_threshold_0.6_sr_50_mem_2_traj.csv.\n"
     ]
    },
    {
     "ename": "FileNotFoundError",
     "evalue": "[Errno 2] File /home/timothytyree/Documents/GitHub/care/notebooks/Data/initial-conditions-suite-2/ds_5_param_set_8/ic_200x200.001.11_ds_5_sigma_1.5_threshold_0.6_sr_50_mem_2_traj.csv does not exist: '/home/timothytyree/Documents/GitHub/care/notebooks/Data/initial-conditions-suite-2/ds_5_param_set_8/ic_200x200.001.11_ds_5_sigma_1.5_threshold_0.6_sr_50_mem_2_traj.csv'",
     "output_type": "error",
     "traceback": [
      "\u001b[0;31m---------------------------------------------------------------------------\u001b[0m",
      "\u001b[0;31mFileNotFoundError\u001b[0m                         Traceback (most recent call last)",
      "\u001b[0;32m<ipython-input-101-3aefa99f9f30>\u001b[0m in \u001b[0;36m<module>\u001b[0;34m\u001b[0m\n\u001b[1;32m      1\u001b[0m \u001b[0;32mfor\u001b[0m \u001b[0mfile\u001b[0m \u001b[0;32min\u001b[0m \u001b[0mfile_name_list\u001b[0m\u001b[0;34m:\u001b[0m\u001b[0;34m\u001b[0m\u001b[0;34m\u001b[0m\u001b[0m\n\u001b[0;32m----> 2\u001b[0;31m     \u001b[0mretval\u001b[0m \u001b[0;34m=\u001b[0m \u001b[0mcompute_birth_death_rates\u001b[0m\u001b[0;34m(\u001b[0m\u001b[0mdata_fn_trajectories\u001b[0m\u001b[0;34m=\u001b[0m\u001b[0mos\u001b[0m\u001b[0;34m.\u001b[0m\u001b[0mpath\u001b[0m\u001b[0;34m.\u001b[0m\u001b[0mabspath\u001b[0m\u001b[0;34m(\u001b[0m\u001b[0mfile\u001b[0m\u001b[0;34m)\u001b[0m\u001b[0;34m,\u001b[0m\u001b[0;34m**\u001b[0m\u001b[0mkwargs\u001b[0m\u001b[0;34m)\u001b[0m\u001b[0;34m\u001b[0m\u001b[0;34m\u001b[0m\u001b[0m\n\u001b[0m",
      "\u001b[0;32m~/Documents/GitHub/care/notebooks/lib/birth_death_rates_from_ic.py\u001b[0m in \u001b[0;36mcompute_birth_death_rates\u001b[0;34m(data_fn_trajectories, **kwargs)\u001b[0m\n\u001b[1;32m    551\u001b[0m         \u001b[0mdata_folder_traj\u001b[0m\u001b[0;34m=\u001b[0m\u001b[0mkwargs\u001b[0m\u001b[0;34m[\u001b[0m\u001b[0;34m'data_folder_traj'\u001b[0m\u001b[0;34m]\u001b[0m\u001b[0;34m\u001b[0m\u001b[0;34m\u001b[0m\u001b[0m\n\u001b[1;32m    552\u001b[0m         \u001b[0mos\u001b[0m\u001b[0;34m.\u001b[0m\u001b[0mchdir\u001b[0m\u001b[0;34m(\u001b[0m\u001b[0mdata_folder_traj\u001b[0m\u001b[0;34m)\u001b[0m\u001b[0;34m\u001b[0m\u001b[0;34m\u001b[0m\u001b[0m\n\u001b[0;32m--> 553\u001b[0;31m         \u001b[0mdf\u001b[0m \u001b[0;34m=\u001b[0m \u001b[0mpd\u001b[0m\u001b[0;34m.\u001b[0m\u001b[0mread_csv\u001b[0m\u001b[0;34m(\u001b[0m\u001b[0mdata_fn_traj\u001b[0m\u001b[0;34m)\u001b[0m\u001b[0;34m\u001b[0m\u001b[0;34m\u001b[0m\u001b[0m\n\u001b[0m\u001b[1;32m    554\u001b[0m \u001b[0;34m\u001b[0m\u001b[0m\n\u001b[1;32m    555\u001b[0m         \u001b[0;31m# select only data after tmin milliseconds\u001b[0m\u001b[0;34m\u001b[0m\u001b[0;34m\u001b[0m\u001b[0;34m\u001b[0m\u001b[0m\n",
      "\u001b[0;32m~/anaconda3/lib/python3.7/site-packages/pandas/io/parsers.py\u001b[0m in \u001b[0;36mparser_f\u001b[0;34m(filepath_or_buffer, sep, delimiter, header, names, index_col, usecols, squeeze, prefix, mangle_dupe_cols, dtype, engine, converters, true_values, false_values, skipinitialspace, skiprows, skipfooter, nrows, na_values, keep_default_na, na_filter, verbose, skip_blank_lines, parse_dates, infer_datetime_format, keep_date_col, date_parser, dayfirst, cache_dates, iterator, chunksize, compression, thousands, decimal, lineterminator, quotechar, quoting, doublequote, escapechar, comment, encoding, dialect, error_bad_lines, warn_bad_lines, delim_whitespace, low_memory, memory_map, float_precision)\u001b[0m\n\u001b[1;32m    674\u001b[0m         )\n\u001b[1;32m    675\u001b[0m \u001b[0;34m\u001b[0m\u001b[0m\n\u001b[0;32m--> 676\u001b[0;31m         \u001b[0;32mreturn\u001b[0m \u001b[0m_read\u001b[0m\u001b[0;34m(\u001b[0m\u001b[0mfilepath_or_buffer\u001b[0m\u001b[0;34m,\u001b[0m \u001b[0mkwds\u001b[0m\u001b[0;34m)\u001b[0m\u001b[0;34m\u001b[0m\u001b[0;34m\u001b[0m\u001b[0m\n\u001b[0m\u001b[1;32m    677\u001b[0m \u001b[0;34m\u001b[0m\u001b[0m\n\u001b[1;32m    678\u001b[0m     \u001b[0mparser_f\u001b[0m\u001b[0;34m.\u001b[0m\u001b[0m__name__\u001b[0m \u001b[0;34m=\u001b[0m \u001b[0mname\u001b[0m\u001b[0;34m\u001b[0m\u001b[0;34m\u001b[0m\u001b[0m\n",
      "\u001b[0;32m~/anaconda3/lib/python3.7/site-packages/pandas/io/parsers.py\u001b[0m in \u001b[0;36m_read\u001b[0;34m(filepath_or_buffer, kwds)\u001b[0m\n\u001b[1;32m    446\u001b[0m \u001b[0;34m\u001b[0m\u001b[0m\n\u001b[1;32m    447\u001b[0m     \u001b[0;31m# Create the parser.\u001b[0m\u001b[0;34m\u001b[0m\u001b[0;34m\u001b[0m\u001b[0;34m\u001b[0m\u001b[0m\n\u001b[0;32m--> 448\u001b[0;31m     \u001b[0mparser\u001b[0m \u001b[0;34m=\u001b[0m \u001b[0mTextFileReader\u001b[0m\u001b[0;34m(\u001b[0m\u001b[0mfp_or_buf\u001b[0m\u001b[0;34m,\u001b[0m \u001b[0;34m**\u001b[0m\u001b[0mkwds\u001b[0m\u001b[0;34m)\u001b[0m\u001b[0;34m\u001b[0m\u001b[0;34m\u001b[0m\u001b[0m\n\u001b[0m\u001b[1;32m    449\u001b[0m \u001b[0;34m\u001b[0m\u001b[0m\n\u001b[1;32m    450\u001b[0m     \u001b[0;32mif\u001b[0m \u001b[0mchunksize\u001b[0m \u001b[0;32mor\u001b[0m \u001b[0miterator\u001b[0m\u001b[0;34m:\u001b[0m\u001b[0;34m\u001b[0m\u001b[0;34m\u001b[0m\u001b[0m\n",
      "\u001b[0;32m~/anaconda3/lib/python3.7/site-packages/pandas/io/parsers.py\u001b[0m in \u001b[0;36m__init__\u001b[0;34m(self, f, engine, **kwds)\u001b[0m\n\u001b[1;32m    878\u001b[0m             \u001b[0mself\u001b[0m\u001b[0;34m.\u001b[0m\u001b[0moptions\u001b[0m\u001b[0;34m[\u001b[0m\u001b[0;34m\"has_index_names\"\u001b[0m\u001b[0;34m]\u001b[0m \u001b[0;34m=\u001b[0m \u001b[0mkwds\u001b[0m\u001b[0;34m[\u001b[0m\u001b[0;34m\"has_index_names\"\u001b[0m\u001b[0;34m]\u001b[0m\u001b[0;34m\u001b[0m\u001b[0;34m\u001b[0m\u001b[0m\n\u001b[1;32m    879\u001b[0m \u001b[0;34m\u001b[0m\u001b[0m\n\u001b[0;32m--> 880\u001b[0;31m         \u001b[0mself\u001b[0m\u001b[0;34m.\u001b[0m\u001b[0m_make_engine\u001b[0m\u001b[0;34m(\u001b[0m\u001b[0mself\u001b[0m\u001b[0;34m.\u001b[0m\u001b[0mengine\u001b[0m\u001b[0;34m)\u001b[0m\u001b[0;34m\u001b[0m\u001b[0;34m\u001b[0m\u001b[0m\n\u001b[0m\u001b[1;32m    881\u001b[0m \u001b[0;34m\u001b[0m\u001b[0m\n\u001b[1;32m    882\u001b[0m     \u001b[0;32mdef\u001b[0m \u001b[0mclose\u001b[0m\u001b[0;34m(\u001b[0m\u001b[0mself\u001b[0m\u001b[0;34m)\u001b[0m\u001b[0;34m:\u001b[0m\u001b[0;34m\u001b[0m\u001b[0;34m\u001b[0m\u001b[0m\n",
      "\u001b[0;32m~/anaconda3/lib/python3.7/site-packages/pandas/io/parsers.py\u001b[0m in \u001b[0;36m_make_engine\u001b[0;34m(self, engine)\u001b[0m\n\u001b[1;32m   1112\u001b[0m     \u001b[0;32mdef\u001b[0m \u001b[0m_make_engine\u001b[0m\u001b[0;34m(\u001b[0m\u001b[0mself\u001b[0m\u001b[0;34m,\u001b[0m \u001b[0mengine\u001b[0m\u001b[0;34m=\u001b[0m\u001b[0;34m\"c\"\u001b[0m\u001b[0;34m)\u001b[0m\u001b[0;34m:\u001b[0m\u001b[0;34m\u001b[0m\u001b[0;34m\u001b[0m\u001b[0m\n\u001b[1;32m   1113\u001b[0m         \u001b[0;32mif\u001b[0m \u001b[0mengine\u001b[0m \u001b[0;34m==\u001b[0m \u001b[0;34m\"c\"\u001b[0m\u001b[0;34m:\u001b[0m\u001b[0;34m\u001b[0m\u001b[0;34m\u001b[0m\u001b[0m\n\u001b[0;32m-> 1114\u001b[0;31m             \u001b[0mself\u001b[0m\u001b[0;34m.\u001b[0m\u001b[0m_engine\u001b[0m \u001b[0;34m=\u001b[0m \u001b[0mCParserWrapper\u001b[0m\u001b[0;34m(\u001b[0m\u001b[0mself\u001b[0m\u001b[0;34m.\u001b[0m\u001b[0mf\u001b[0m\u001b[0;34m,\u001b[0m \u001b[0;34m**\u001b[0m\u001b[0mself\u001b[0m\u001b[0;34m.\u001b[0m\u001b[0moptions\u001b[0m\u001b[0;34m)\u001b[0m\u001b[0;34m\u001b[0m\u001b[0;34m\u001b[0m\u001b[0m\n\u001b[0m\u001b[1;32m   1115\u001b[0m         \u001b[0;32melse\u001b[0m\u001b[0;34m:\u001b[0m\u001b[0;34m\u001b[0m\u001b[0;34m\u001b[0m\u001b[0m\n\u001b[1;32m   1116\u001b[0m             \u001b[0;32mif\u001b[0m \u001b[0mengine\u001b[0m \u001b[0;34m==\u001b[0m \u001b[0;34m\"python\"\u001b[0m\u001b[0;34m:\u001b[0m\u001b[0;34m\u001b[0m\u001b[0;34m\u001b[0m\u001b[0m\n",
      "\u001b[0;32m~/anaconda3/lib/python3.7/site-packages/pandas/io/parsers.py\u001b[0m in \u001b[0;36m__init__\u001b[0;34m(self, src, **kwds)\u001b[0m\n\u001b[1;32m   1889\u001b[0m         \u001b[0mkwds\u001b[0m\u001b[0;34m[\u001b[0m\u001b[0;34m\"usecols\"\u001b[0m\u001b[0;34m]\u001b[0m \u001b[0;34m=\u001b[0m \u001b[0mself\u001b[0m\u001b[0;34m.\u001b[0m\u001b[0musecols\u001b[0m\u001b[0;34m\u001b[0m\u001b[0;34m\u001b[0m\u001b[0m\n\u001b[1;32m   1890\u001b[0m \u001b[0;34m\u001b[0m\u001b[0m\n\u001b[0;32m-> 1891\u001b[0;31m         \u001b[0mself\u001b[0m\u001b[0;34m.\u001b[0m\u001b[0m_reader\u001b[0m \u001b[0;34m=\u001b[0m \u001b[0mparsers\u001b[0m\u001b[0;34m.\u001b[0m\u001b[0mTextReader\u001b[0m\u001b[0;34m(\u001b[0m\u001b[0msrc\u001b[0m\u001b[0;34m,\u001b[0m \u001b[0;34m**\u001b[0m\u001b[0mkwds\u001b[0m\u001b[0;34m)\u001b[0m\u001b[0;34m\u001b[0m\u001b[0;34m\u001b[0m\u001b[0m\n\u001b[0m\u001b[1;32m   1892\u001b[0m         \u001b[0mself\u001b[0m\u001b[0;34m.\u001b[0m\u001b[0munnamed_cols\u001b[0m \u001b[0;34m=\u001b[0m \u001b[0mself\u001b[0m\u001b[0;34m.\u001b[0m\u001b[0m_reader\u001b[0m\u001b[0;34m.\u001b[0m\u001b[0munnamed_cols\u001b[0m\u001b[0;34m\u001b[0m\u001b[0;34m\u001b[0m\u001b[0m\n\u001b[1;32m   1893\u001b[0m \u001b[0;34m\u001b[0m\u001b[0m\n",
      "\u001b[0;32mpandas/_libs/parsers.pyx\u001b[0m in \u001b[0;36mpandas._libs.parsers.TextReader.__cinit__\u001b[0;34m()\u001b[0m\n",
      "\u001b[0;32mpandas/_libs/parsers.pyx\u001b[0m in \u001b[0;36mpandas._libs.parsers.TextReader._setup_parser_source\u001b[0;34m()\u001b[0m\n",
      "\u001b[0;31mFileNotFoundError\u001b[0m: [Errno 2] File /home/timothytyree/Documents/GitHub/care/notebooks/Data/initial-conditions-suite-2/ds_5_param_set_8/ic_200x200.001.11_ds_5_sigma_1.5_threshold_0.6_sr_50_mem_2_traj.csv does not exist: '/home/timothytyree/Documents/GitHub/care/notebooks/Data/initial-conditions-suite-2/ds_5_param_set_8/ic_200x200.001.11_ds_5_sigma_1.5_threshold_0.6_sr_50_mem_2_traj.csv'"
     ]
    }
   ],
   "source": [
    "for file in file_name_list:\n",
    "    retval = compute_birth_death_rates(data_fn_trajectories=os.path.abspath(file),**kwargs)"
   ]
  },
  {
   "cell_type": "code",
   "execution_count": 100,
   "metadata": {
    "ExecuteTime": {
     "end_time": "2020-08-16T00:17:07.452961Z",
     "start_time": "2020-08-16T00:17:07.439033Z"
    },
    "hidden": true
   },
   "outputs": [
    {
     "data": {
      "text/plain": [
       "'/home/timothytyree/Documents/GitHub/care/notebooks/Data/initial-conditions-suite-2/ds_5_param_set_8/trajectories'"
      ]
     },
     "execution_count": 100,
     "metadata": {},
     "output_type": "execute_result"
    }
   ],
   "source": [
    "kwargs['data_folder_traj']"
   ]
  },
  {
   "cell_type": "markdown",
   "metadata": {},
   "source": [
    "#IT's hard to check .  file's not found.  just rerun with LT_thresh set to zero \n",
    "- Result: odd tips exist even when LT is zero\n",
    "- try rerunning with a large runtime and with lt=0\n",
    "    - "
   ]
  },
  {
   "cell_type": "markdown",
   "metadata": {
    "ExecuteTime": {
     "end_time": "2020-08-18T19:32:11.120795Z",
     "start_time": "2020-08-18T19:32:11.118472Z"
    }
   },
   "source": [
    "# compute birth-death rates for a folder of tip logs"
   ]
  },
  {
   "cell_type": "code",
   "execution_count": 55,
   "metadata": {
    "ExecuteTime": {
     "end_time": "2020-09-27T21:44:18.036597Z",
     "start_time": "2020-09-27T21:44:18.018022Z"
    }
   },
   "outputs": [],
   "source": [
    "def log_to_bdrates(input_file_name, output_file_name):\n",
    "    '''imports a raw output tip log file from input_file_name and saves to a birth-death rate file in output_file_name. '''\n",
    "    df = pd.read_csv(input_file_name)\n",
    "\n",
    "    #extract n_series\n",
    "    n_list = []\n",
    "    for i, row in df.iterrows():\n",
    "        n = len(eval(row.x))\n",
    "        n_list.append(n)\n",
    "    df['n'] = n_list\n",
    "    n_series = df.n\n",
    "    n_series.index = df.t\n",
    "\n",
    "    #compute birth-death rates\n",
    "    #store as a pandas.DataFrame\n",
    "    df = pd.DataFrame({\"t\":n_series.index.values,\"n\":n_series.values})\n",
    "\n",
    "    #compute birth death rates\n",
    "    df['dn'] = df.n.diff().shift(-1)\n",
    "    df = df.query('dn != 0').copy()\n",
    "    rates = 1/df['t'].diff().shift(-1).dropna() # birth death rates in unites of 1/ms\n",
    "    df['rates'] = rates\n",
    "\n",
    "    #save birth death rates to a file named according to all of the relevant parameters in a special folder.\n",
    "    df.to_csv(output_file_name)\n",
    "    return True"
   ]
  },
  {
   "cell_type": "code",
   "execution_count": 56,
   "metadata": {
    "ExecuteTime": {
     "end_time": "2020-09-27T21:46:05.999984Z",
     "start_time": "2020-09-27T21:44:47.534622Z"
    }
   },
   "outputs": [
    {
     "name": "stdout",
     "output_type": "stream",
     "text": [
      "please select a file from within the desired folder.\n",
      "File: /home/timothytyree/Documents/GitHub/care/notebooks/Data/initial-conditions-suite-2/ds_5_param_set_8/Log/ic_200x200.014.32_ds_5_sigma_1.5_threshold_0.6_log.csv\n"
     ]
    }
   ],
   "source": [
    "#get a folder of filenames of tip log files ending in log.csv\n",
    "#find file interactively\n",
    "print(\"please select a file from within the desired folder.\")\n",
    "file = search_for_file()\n",
    "folder_name = os.path.dirname(file)\n",
    "os.chdir(folder_name)\n",
    "\n",
    "# get all .csv files in the current working directory\n",
    "retval = !ls\n",
    "file_name_list = list(retval)\n",
    "# check each file if it ends in .csv before merging it\n",
    "def is_target(file_name, target = '_log.csv'):\n",
    "    return file_name[-len(target):]==target\n",
    "\n",
    "\n",
    "file_name_list = [f for f in file_name_list if is_target(f, target = 'log.csv')]\n",
    "# file_name_list = [f for f in file_name_list if f.find('threshold')!=-1]\n",
    "\n",
    "\n"
   ]
  },
  {
   "cell_type": "code",
   "execution_count": 57,
   "metadata": {
    "ExecuteTime": {
     "end_time": "2020-09-27T21:46:16.661935Z",
     "start_time": "2020-09-27T21:46:16.648233Z"
    }
   },
   "outputs": [],
   "source": [
    "#create a save_folder, for bdrates if it doesn't already exist\n",
    "save_folder = folder_name.replace('/Log','/birth-death-rates-from-log-simplified')\n",
    "if not os.path.exists(save_folder):\n",
    "    os.mkdir(save_folder)"
   ]
  },
  {
   "cell_type": "code",
   "execution_count": 60,
   "metadata": {
    "ExecuteTime": {
     "end_time": "2020-09-27T21:46:36.043291Z",
     "start_time": "2020-09-27T21:46:36.022771Z"
    }
   },
   "outputs": [
    {
     "name": "stdout",
     "output_type": "stream",
     "text": [
      "171\n"
     ]
    }
   ],
   "source": [
    "print(len(file_name_list))"
   ]
  },
  {
   "cell_type": "code",
   "execution_count": 61,
   "metadata": {
    "ExecuteTime": {
     "end_time": "2020-09-27T21:49:41.982280Z",
     "start_time": "2020-09-27T21:46:38.768318Z"
    }
   },
   "outputs": [],
   "source": [
    "#for each file in the folder, compute the birth-death rates\n",
    "#TODO(later): daskbag accelerate this process\n",
    "os.chdir(folder_name)\n",
    "for input_file_name in file_name_list:\n",
    "    output_file_name = input_file_name.replace('log.csv','bdrates.csv')\n",
    "    output_dir = os.path.join(save_folder,output_file_name)\n",
    "    log_to_bdrates(input_file_name=input_file_name, \n",
    "                   output_file_name=output_dir)"
   ]
  },
  {
   "cell_type": "code",
   "execution_count": 62,
   "metadata": {
    "ExecuteTime": {
     "end_time": "2020-09-27T21:49:42.664082Z",
     "start_time": "2020-09-27T21:49:42.043016Z"
    }
   },
   "outputs": [
    {
     "data": {
      "text/plain": [
       "0"
      ]
     },
     "execution_count": 62,
     "metadata": {},
     "output_type": "execute_result"
    }
   ],
   "source": [
    "beep(3)"
   ]
  },
  {
   "cell_type": "code",
   "execution_count": 63,
   "metadata": {
    "ExecuteTime": {
     "end_time": "2020-09-27T21:51:42.353312Z",
     "start_time": "2020-09-27T21:51:29.362811Z"
    }
   },
   "outputs": [
    {
     "name": "stdout",
     "output_type": "stream",
     "text": [
      "File: /home/timothytyree/Documents/GitHub/care/notebooks/Data/initial-conditions-suite-2/ds_5_param_set_8/birth-death-rates-from-log-simplified/ic_200x200.001.12_ds_5_sigma_1.5_threshold_0.6_bdrates.csv\n"
     ]
    }
   ],
   "source": [
    "#9 samples LT = 0\n",
    "# file =  '/Users/timothytyree/Documents/GitHub/care/notebooks/Data/ds_5_param_set_8/birth-death-rates/33_ds_5_sigma_1.5_threshold_0.6__traj_sr_40_mem_2_bdrates.csv'\n",
    "\n",
    "#>60 samples LT = 2\n",
    "file = search_for_file()\n",
    "# file = '/Users/timothytyree/Documents/GitHub/care/notebooks/Data/initial-conditions-suite-1/ds_5_param_set_8/birth-death-rates/ic_200x200.117.21_ds_5_sigma_1.5_threshold_0.6_sr_50_mem_2_tmin_100_LT_2_bdrates.csv'\n",
    "#change to the directory containing file\n",
    "folder_name = os.path.dirname(file)\n",
    "\n",
    "\n",
    "#find folder interactively. Crashes jupyter's root kernel :(\n",
    "# from tkinter import Tk\n",
    "# from tkinter.filedialog import askdirectory\n",
    "# path = askdirectory(title='Select Folder') # shows dialog box and return the path\n",
    "# print(path) "
   ]
  },
  {
   "cell_type": "code",
   "execution_count": 64,
   "metadata": {
    "ExecuteTime": {
     "end_time": "2020-09-27T21:51:44.634261Z",
     "start_time": "2020-09-27T21:51:44.580909Z"
    }
   },
   "outputs": [],
   "source": [
    "# get all .csv files in the current working directory\n",
    "os.chdir(folder_name)\n",
    "retval = !ls\n",
    "file_name_list = list(retval)\n",
    "# check each file if it ends in .csv before merging it\n",
    "def is_csv(file_name):\n",
    "    return file_name[-4:]=='.csv'\n",
    "file_name_list = [f for f in file_name_list if is_csv(f)]\n",
    "# remove all files with 'threshold'\n",
    "# file_name_list = [f for f in file_name_list if f.find('threshold')==-1]"
   ]
  },
  {
   "cell_type": "code",
   "execution_count": 65,
   "metadata": {
    "ExecuteTime": {
     "end_time": "2020-09-27T21:51:45.586897Z",
     "start_time": "2020-09-27T21:51:45.574856Z"
    }
   },
   "outputs": [
    {
     "name": "stdout",
     "output_type": "stream",
     "text": [
      "171\n"
     ]
    }
   ],
   "source": [
    "print(len(file_name_list))"
   ]
  },
  {
   "cell_type": "code",
   "execution_count": 66,
   "metadata": {
    "ExecuteTime": {
     "end_time": "2020-09-27T21:51:47.360210Z",
     "start_time": "2020-09-27T21:51:47.348649Z"
    }
   },
   "outputs": [
    {
     "name": "stdout",
     "output_type": "stream",
     "text": [
      "['ic_200x200.001.11_ds_5_sigma_1.5_threshold_0.6_bdrates.csv', 'ic_200x200.001.12_ds_5_sigma_1.5_threshold_0.6_bdrates.csv', 'ic_200x200.001.13_ds_5_sigma_1.5_threshold_0.6_bdrates.csv', 'ic_200x200.001.21_ds_5_sigma_1.5_threshold_0.6_bdrates.csv', 'ic_200x200.001.22_ds_5_sigma_1.5_threshold_0.6_bdrates.csv', 'ic_200x200.001.23_ds_5_sigma_1.5_threshold_0.6_bdrates.csv', 'ic_200x200.001.31_ds_5_sigma_1.5_threshold_0.6_bdrates.csv', 'ic_200x200.001.32_ds_5_sigma_1.5_threshold_0.6_bdrates.csv', 'ic_200x200.001.33_bdrates.csv', 'ic_200x200.002.11_bdrates.csv', 'ic_200x200.002.12_bdrates.csv', 'ic_200x200.002.13_bdrates.csv', 'ic_200x200.002.21_bdrates.csv', 'ic_200x200.002.22_bdrates.csv', 'ic_200x200.002.23_bdrates.csv', 'ic_200x200.002.31_bdrates.csv', 'ic_200x200.002.32_bdrates.csv', 'ic_200x200.002.33_bdrates.csv', 'ic_200x200.003.11_bdrates.csv', 'ic_200x200.003.12_bdrates.csv', 'ic_200x200.003.13_bdrates.csv', 'ic_200x200.003.21_bdrates.csv', 'ic_200x200.003.22_bdrates.csv', 'ic_200x200.003.23_bdrates.csv', 'ic_200x200.003.31_bdrates.csv', 'ic_200x200.003.32_ds_5_sigma_1.5_threshold_0.6_bdrates.csv', 'ic_200x200.003.33_ds_5_sigma_1.5_threshold_0.6_bdrates.csv', 'ic_200x200.004.11_ds_5_sigma_1.5_threshold_0.6_bdrates.csv', 'ic_200x200.004.12_ds_5_sigma_1.5_threshold_0.6_bdrates.csv', 'ic_200x200.004.13_ds_5_sigma_1.5_threshold_0.6_bdrates.csv', 'ic_200x200.004.21_bdrates.csv', 'ic_200x200.004.22_bdrates.csv', 'ic_200x200.004.23_ds_5_sigma_1.5_threshold_0.6_bdrates.csv', 'ic_200x200.004.31_ds_5_sigma_1.5_threshold_0.6_bdrates.csv', 'ic_200x200.004.32_ds_5_sigma_1.5_threshold_0.6_bdrates.csv', 'ic_200x200.004.33_bdrates.csv', 'ic_200x200.005.11_bdrates.csv', 'ic_200x200.005.12_bdrates.csv', 'ic_200x200.005.13_bdrates.csv', 'ic_200x200.005.21_bdrates.csv', 'ic_200x200.005.22_bdrates.csv', 'ic_200x200.005.23_bdrates.csv', 'ic_200x200.005.31_bdrates.csv', 'ic_200x200.005.32_bdrates.csv', 'ic_200x200.005.33_bdrates.csv', 'ic_200x200.006.11_bdrates.csv', 'ic_200x200.006.12_bdrates.csv', 'ic_200x200.006.13_bdrates.csv', 'ic_200x200.006.21_bdrates.csv', 'ic_200x200.006.22_bdrates.csv', 'ic_200x200.006.23_ds_5_sigma_1.5_threshold_0.6_bdrates.csv', 'ic_200x200.006.31_ds_5_sigma_1.5_threshold_0.6_bdrates.csv', 'ic_200x200.006.32_ds_5_sigma_1.5_threshold_0.6_bdrates.csv', 'ic_200x200.006.33_ds_5_sigma_1.5_threshold_0.6_bdrates.csv', 'ic_200x200.007.11_ds_5_sigma_1.5_threshold_0.6_bdrates.csv', 'ic_200x200.007.12_ds_5_sigma_1.5_threshold_0.6_bdrates.csv', 'ic_200x200.007.13_ds_5_sigma_1.5_threshold_0.6_bdrates.csv', 'ic_200x200.007.21_bdrates.csv', 'ic_200x200.007.22_bdrates.csv', 'ic_200x200.007.23_ds_5_sigma_1.5_threshold_0.6_bdrates.csv', 'ic_200x200.007.31_ds_5_sigma_1.5_threshold_0.6_bdrates.csv', 'ic_200x200.007.32_ds_5_sigma_1.5_threshold_0.6_bdrates.csv', 'ic_200x200.007.33_ds_5_sigma_1.5_threshold_0.6_bdrates.csv', 'ic_200x200.008.11_ds_5_sigma_1.5_threshold_0.6_bdrates.csv', 'ic_200x200.008.12_bdrates.csv', 'ic_200x200.008.13_bdrates.csv', 'ic_200x200.008.21_bdrates.csv', 'ic_200x200.008.22_bdrates.csv', 'ic_200x200.008.23_bdrates.csv', 'ic_200x200.008.31_bdrates.csv', 'ic_200x200.008.32_bdrates.csv', 'ic_200x200.008.33_bdrates.csv', 'ic_200x200.009.11_bdrates.csv', 'ic_200x200.009.12_bdrates.csv', 'ic_200x200.009.13_bdrates.csv', 'ic_200x200.009.21_ds_5_sigma_1.5_threshold_0.6_bdrates.csv', 'ic_200x200.009.22_ds_5_sigma_1.5_threshold_0.6_bdrates.csv', 'ic_200x200.009.23_bdrates.csv', 'ic_200x200.009.31_bdrates.csv', 'ic_200x200.009.32_bdrates.csv', 'ic_200x200.009.33_bdrates.csv', 'ic_200x200.010.11_bdrates.csv', 'ic_200x200.010.12_bdrates.csv', 'ic_200x200.010.13_bdrates.csv', 'ic_200x200.010.21_bdrates.csv', 'ic_200x200.010.22_bdrates.csv', 'ic_200x200.010.23_bdrates.csv', 'ic_200x200.010.31_bdrates.csv', 'ic_200x200.010.32_bdrates.csv', 'ic_200x200.010.33_bdrates.csv', 'ic_200x200.011.11_bdrates.csv', 'ic_200x200.011.12_ds_5_sigma_1.5_threshold_0.6_bdrates.csv', 'ic_200x200.011.13_ds_5_sigma_1.5_threshold_0.6_bdrates.csv', 'ic_200x200.011.21_ds_5_sigma_1.5_threshold_0.6_bdrates.csv', 'ic_200x200.011.22_ds_5_sigma_1.5_threshold_0.6_bdrates.csv', 'ic_200x200.011.23_ds_5_sigma_1.5_threshold_0.6_bdrates.csv', 'ic_200x200.011.31_ds_5_sigma_1.5_threshold_0.6_bdrates.csv', 'ic_200x200.011.32_ds_5_sigma_1.5_threshold_0.6_bdrates.csv', 'ic_200x200.011.33_ds_5_sigma_1.5_threshold_0.6_bdrates.csv', 'ic_200x200.012.11_ds_5_sigma_1.5_threshold_0.6_bdrates.csv', 'ic_200x200.012.12_ds_5_sigma_1.5_threshold_0.6_bdrates.csv', 'ic_200x200.012.13_ds_5_sigma_1.5_threshold_0.6_bdrates.csv', 'ic_200x200.012.21_ds_5_sigma_1.5_threshold_0.6_bdrates.csv', 'ic_200x200.012.22_ds_5_sigma_1.5_threshold_0.6_bdrates.csv', 'ic_200x200.012.23_ds_5_sigma_1.5_threshold_0.6_bdrates.csv', 'ic_200x200.012.31_ds_5_sigma_1.5_threshold_0.6_bdrates.csv', 'ic_200x200.012.32_ds_5_sigma_1.5_threshold_0.6_bdrates.csv', 'ic_200x200.012.33_ds_5_sigma_1.5_threshold_0.6_bdrates.csv', 'ic_200x200.013.11_ds_5_sigma_1.5_threshold_0.6_bdrates.csv', 'ic_200x200.013.12_ds_5_sigma_1.5_threshold_0.6_bdrates.csv', 'ic_200x200.013.13_ds_5_sigma_1.5_threshold_0.6_bdrates.csv', 'ic_200x200.013.21_ds_5_sigma_1.5_threshold_0.6_bdrates.csv', 'ic_200x200.013.22_ds_5_sigma_1.5_threshold_0.6_bdrates.csv', 'ic_200x200.013.23_ds_5_sigma_1.5_threshold_0.6_bdrates.csv', 'ic_200x200.013.31_ds_5_sigma_1.5_threshold_0.6_bdrates.csv', 'ic_200x200.013.32_ds_5_sigma_1.5_threshold_0.6_bdrates.csv', 'ic_200x200.013.33_ds_5_sigma_1.5_threshold_0.6_bdrates.csv', 'ic_200x200.014.11_ds_5_sigma_1.5_threshold_0.6_bdrates.csv', 'ic_200x200.014.12_ds_5_sigma_1.5_threshold_0.6_bdrates.csv', 'ic_200x200.014.13_ds_5_sigma_1.5_threshold_0.6_bdrates.csv', 'ic_200x200.014.21_ds_5_sigma_1.5_threshold_0.6_bdrates.csv', 'ic_200x200.014.22_ds_5_sigma_1.5_threshold_0.6_bdrates.csv', 'ic_200x200.014.23_ds_5_sigma_1.5_threshold_0.6_bdrates.csv', 'ic_200x200.014.31_ds_5_sigma_1.5_threshold_0.6_bdrates.csv', 'ic_200x200.014.32_ds_5_sigma_1.5_threshold_0.6_bdrates.csv', 'ic_200x200.014.33_ds_5_sigma_1.5_threshold_0.6_bdrates.csv', 'ic_200x200.015.11_ds_5_sigma_1.5_threshold_0.6_bdrates.csv', 'ic_200x200.015.12_ds_5_sigma_1.5_threshold_0.6_bdrates.csv', 'ic_200x200.015.13_ds_5_sigma_1.5_threshold_0.6_bdrates.csv', 'ic_200x200.015.21_ds_5_sigma_1.5_threshold_0.6_bdrates.csv', 'ic_200x200.015.22_ds_5_sigma_1.5_threshold_0.6_bdrates.csv', 'ic_200x200.015.23_ds_5_sigma_1.5_threshold_0.6_bdrates.csv', 'ic_200x200.015.31_ds_5_sigma_1.5_threshold_0.6_bdrates.csv', 'ic_200x200.015.32_ds_5_sigma_1.5_threshold_0.6_bdrates.csv', 'ic_200x200.015.33_ds_5_sigma_1.5_threshold_0.6_bdrates.csv', 'ic_200x200.016.11_ds_5_sigma_1.5_threshold_0.6_bdrates.csv', 'ic_200x200.016.12_ds_5_sigma_1.5_threshold_0.6_bdrates.csv', 'ic_200x200.016.13_ds_5_sigma_1.5_threshold_0.6_bdrates.csv', 'ic_200x200.016.21_ds_5_sigma_1.5_threshold_0.6_bdrates.csv', 'ic_200x200.016.22_ds_5_sigma_1.5_threshold_0.6_bdrates.csv', 'ic_200x200.016.23_ds_5_sigma_1.5_threshold_0.6_bdrates.csv', 'ic_200x200.016.31_ds_5_sigma_1.5_threshold_0.6_bdrates.csv', 'ic_200x200.016.32_ds_5_sigma_1.5_threshold_0.6_bdrates.csv', 'ic_200x200.016.33_ds_5_sigma_1.5_threshold_0.6_bdrates.csv', 'ic_200x200.017.11_ds_5_sigma_1.5_threshold_0.6_bdrates.csv', 'ic_200x200.017.12_ds_5_sigma_1.5_threshold_0.6_bdrates.csv', 'ic_200x200.017.13_ds_5_sigma_1.5_threshold_0.6_bdrates.csv', 'ic_200x200.017.21_ds_5_sigma_1.5_threshold_0.6_bdrates.csv', 'ic_200x200.017.22_ds_5_sigma_1.5_threshold_0.6_bdrates.csv', 'ic_200x200.017.23_ds_5_sigma_1.5_threshold_0.6_bdrates.csv', 'ic_200x200.017.31_ds_5_sigma_1.5_threshold_0.6_bdrates.csv', 'ic_200x200.017.32_ds_5_sigma_1.5_threshold_0.6_bdrates.csv', 'ic_200x200.017.33_ds_5_sigma_1.5_threshold_0.6_bdrates.csv', 'ic_200x200.018.11_ds_5_sigma_1.5_threshold_0.6_bdrates.csv', 'ic_200x200.018.12_ds_5_sigma_1.5_threshold_0.6_bdrates.csv', 'ic_200x200.018.13_ds_5_sigma_1.5_threshold_0.6_bdrates.csv', 'ic_200x200.018.21_ds_5_sigma_1.5_threshold_0.6_bdrates.csv', 'ic_200x200.018.22_ds_5_sigma_1.5_threshold_0.6_bdrates.csv', 'ic_200x200.018.23_ds_5_sigma_1.5_threshold_0.6_bdrates.csv', 'ic_200x200.018.31_ds_5_sigma_1.5_threshold_0.6_bdrates.csv', 'ic_200x200.018.32_ds_5_sigma_1.5_threshold_0.6_bdrates.csv', 'ic_200x200.018.33_ds_5_sigma_1.5_threshold_0.6_bdrates.csv', 'ic_200x200.019.11_ds_5_sigma_1.5_threshold_0.6_bdrates.csv', 'ic_200x200.019.12_ds_5_sigma_1.5_threshold_0.6_bdrates.csv', 'ic_200x200.019.13_ds_5_sigma_1.5_threshold_0.6_bdrates.csv', 'ic_200x200.019.21_ds_5_sigma_1.5_threshold_0.6_bdrates.csv', 'ic_200x200.019.22_ds_5_sigma_1.5_threshold_0.6_bdrates.csv', 'ic_200x200.019.23_ds_5_sigma_1.5_threshold_0.6_bdrates.csv', 'ic_200x200.019.31_ds_5_sigma_1.5_threshold_0.6_bdrates.csv', 'ic_200x200.019.32_ds_5_sigma_1.5_threshold_0.6_bdrates.csv', 'ic_200x200.019.33_ds_5_sigma_1.5_threshold_0.6_bdrates.csv']\n"
     ]
    }
   ],
   "source": [
    "\n",
    "print(file_name_list)"
   ]
  },
  {
   "cell_type": "code",
   "execution_count": 67,
   "metadata": {
    "ExecuteTime": {
     "end_time": "2020-09-27T21:51:51.555340Z",
     "start_time": "2020-09-27T21:51:51.542457Z"
    }
   },
   "outputs": [],
   "source": [
    "def produce_one_csv(list_of_files, file_out):\n",
    "   # Consolidate all csv files into one object\n",
    "   result_obj = pd.concat([pd.read_csv(file) for file in list_of_files])\n",
    "   # Convert the above object into a csv file and export\n",
    "   result_obj.to_csv(file_out, index=False, encoding=\"utf-8\")"
   ]
  },
  {
   "cell_type": "code",
   "execution_count": 68,
   "metadata": {
    "ExecuteTime": {
     "end_time": "2020-09-27T21:51:52.842158Z",
     "start_time": "2020-09-27T21:51:51.968258Z"
    }
   },
   "outputs": [],
   "source": [
    "# file_out = \"../consolidated_rates.csv\"\n",
    "file_out = \"../consolidated_rates-from-log.csv\"\n",
    "produce_one_csv(list_of_files=file_name_list, file_out=file_out)"
   ]
  },
  {
   "cell_type": "code",
   "execution_count": null,
   "metadata": {},
   "outputs": [],
   "source": []
  },
  {
   "cell_type": "markdown",
   "metadata": {
    "ExecuteTime": {
     "end_time": "2020-08-20T02:01:10.518061Z",
     "start_time": "2020-08-20T02:01:10.495129Z"
    }
   },
   "source": [
    "# TODO: plot the resultingtermination times for the desired folder of bdrates\n",
    "and then, document this, comparing to WJ's old results.  Do this with a .pdf made in OpenOffice Draw"
   ]
  },
  {
   "cell_type": "markdown",
   "metadata": {},
   "source": [
    "# TODO: make .csv of termination times of trials"
   ]
  },
  {
   "cell_type": "code",
   "execution_count": 72,
   "metadata": {
    "ExecuteTime": {
     "end_time": "2020-10-04T01:51:10.120980Z",
     "start_time": "2020-10-04T01:51:01.623035Z"
    }
   },
   "outputs": [
    {
     "name": "stdout",
     "output_type": "stream",
     "text": [
      "File: /home/timothytyree/Documents/GitHub/care/notebooks/Data/initial-conditions-suite-2/ds_5_param_set_8/birth-death-rates-from-log-simplifiedd-set-A/ic_200x200.001.21_ds_5_sigma_1.5_threshold_0.6_bdrates.csv\n"
     ]
    }
   ],
   "source": [
    "#for one input_file_name .csv get its termination time\n",
    "file = search_for_file()\n"
   ]
  },
  {
   "cell_type": "code",
   "execution_count": 27,
   "metadata": {
    "ExecuteTime": {
     "end_time": "2020-10-04T01:27:33.010483Z",
     "start_time": "2020-10-04T01:27:32.990428Z"
    }
   },
   "outputs": [],
   "source": [
    "folder_name = os.path.dirname(file)\n",
    "file_name = os.path.basename(file)"
   ]
  },
  {
   "cell_type": "code",
   "execution_count": 45,
   "metadata": {
    "ExecuteTime": {
     "end_time": "2020-10-04T01:32:07.695286Z",
     "start_time": "2020-10-04T01:32:07.678439Z"
    }
   },
   "outputs": [],
   "source": [
    "def get_termination_time(input_file_name):\n",
    "    df = pd.read_csv(input_file_name)\n",
    "    tt = float(df.loc[df.isna()['rates']]['t'].values)\n",
    "    return tt"
   ]
  },
  {
   "cell_type": "code",
   "execution_count": 75,
   "metadata": {
    "ExecuteTime": {
     "end_time": "2020-10-04T01:53:59.582507Z",
     "start_time": "2020-10-04T01:53:59.559050Z"
    }
   },
   "outputs": [
    {
     "name": "stdout",
     "output_type": "stream",
     "text": [
      "61\n"
     ]
    }
   ],
   "source": [
    "folder_name = \"/home/timothytyree/Documents/GitHub/care/notebooks/Data/initial-conditions-suite-2/ds_5_param_set_8/birth-death-rates-from-log-simplified-set-B/\"\n",
    "\n",
    "# get all .csv files in the current working directory\n",
    "os.chdir(folder_name)\n",
    "retval = !ls\n",
    "file_name_list = list(retval)\n",
    "# check each file if it ends in .csv before merging it\n",
    "def is_csv(file_name):\n",
    "    return file_name[-4:]=='.csv'\n",
    "file_name_list = [f for f in file_name_list if is_csv(f)]\n",
    "print(len(file_name_list))"
   ]
  },
  {
   "cell_type": "code",
   "execution_count": 76,
   "metadata": {
    "ExecuteTime": {
     "end_time": "2020-10-04T01:54:03.940292Z",
     "start_time": "2020-10-04T01:54:03.804263Z"
    }
   },
   "outputs": [],
   "source": [
    "os.chdir(folder_name)\n",
    "fn_lst = []; tt_lst = []; ic_lst = []; part_lst = []; method_lst = [];\n",
    "for input_file_name in file_name_list:\n",
    "    file_name = os.path.basename(input_file_name)\n",
    "    tt = get_termination_time(input_file_name)\n",
    "    \n",
    "    ic = file_name.split('.')[1]\n",
    "    part = file_name.split('.')[2].split('_')[0]\n",
    "    \n",
    "    fn_lst.append(file_name)\n",
    "    tt_lst.append(tt)\n",
    "    ic_lst.append(ic)\n",
    "    part_lst.append(part)\n",
    "    method_lst.append('B')"
   ]
  },
  {
   "cell_type": "code",
   "execution_count": 77,
   "metadata": {
    "ExecuteTime": {
     "end_time": "2020-10-04T01:54:08.090297Z",
     "start_time": "2020-10-04T01:54:08.053442Z"
    }
   },
   "outputs": [
    {
     "name": "stdout",
     "output_type": "stream",
     "text": [
      "110\n"
     ]
    }
   ],
   "source": [
    "folder_name = \"/home/timothytyree/Documents/GitHub/care/notebooks/Data/initial-conditions-suite-2/ds_5_param_set_8/birth-death-rates-from-log-simplified-set-A\"\n",
    "\n",
    "# get all .csv files in the current working directory\n",
    "os.chdir(folder_name)\n",
    "retval = !ls\n",
    "file_name_list = list(retval)\n",
    "# check each file if it ends in .csv before merging it\n",
    "def is_csv(file_name):\n",
    "    return file_name[-4:]=='.csv'\n",
    "file_name_list = [f for f in file_name_list if is_csv(f)]\n",
    "print(len(file_name_list))\n"
   ]
  },
  {
   "cell_type": "code",
   "execution_count": 78,
   "metadata": {
    "ExecuteTime": {
     "end_time": "2020-10-04T01:54:17.498020Z",
     "start_time": "2020-10-04T01:54:17.271456Z"
    }
   },
   "outputs": [],
   "source": [
    "os.chdir(folder_name)\n",
    "# fn_lst = []; tt_lst = []; ic_lst = []; part_lst = []; method_lst = [];\n",
    "for input_file_name in file_name_list:\n",
    "    file_name = os.path.basename(input_file_name)\n",
    "    tt = get_termination_time(input_file_name)\n",
    "    \n",
    "    ic = file_name.split('.')[1]\n",
    "    part = file_name.split('.')[2].split('_')[0]\n",
    "    \n",
    "    fn_lst.append(file_name)\n",
    "    tt_lst.append(tt)\n",
    "    ic_lst.append(ic)\n",
    "    part_lst.append(part)\n",
    "    method_lst.append('A')"
   ]
  },
  {
   "cell_type": "code",
   "execution_count": 79,
   "metadata": {
    "ExecuteTime": {
     "end_time": "2020-10-04T01:54:24.915037Z",
     "start_time": "2020-10-04T01:54:24.891145Z"
    }
   },
   "outputs": [],
   "source": [
    "df = pd.DataFrame({'ic':ic_lst, 'part':part_lst, 'term_time':tt_lst, 'method':method_lst, 'file_name':fn_lst})"
   ]
  },
  {
   "cell_type": "code",
   "execution_count": 86,
   "metadata": {
    "ExecuteTime": {
     "end_time": "2020-10-04T01:57:16.661097Z",
     "start_time": "2020-10-04T01:57:16.642637Z"
    }
   },
   "outputs": [],
   "source": [
    "save_folder = os.path.join(nb_dir,'Data','initial-conditions-suite-2/ds_5_param_set_8')\n",
    "os.chdir(save_folder)\n",
    "df.to_csv('termination_times_ic_001-019.csv', index=False)"
   ]
  },
  {
   "cell_type": "markdown",
   "metadata": {
    "ExecuteTime": {
     "end_time": "2020-10-04T01:56:51.768772Z",
     "start_time": "2020-10-04T01:56:51.722654Z"
    }
   },
   "source": [
    "### plot termination times"
   ]
  },
  {
   "cell_type": "code",
   "execution_count": 3,
   "metadata": {
    "ExecuteTime": {
     "end_time": "2020-10-26T17:25:41.108351Z",
     "start_time": "2020-10-26T17:25:41.089470Z"
    }
   },
   "outputs": [],
   "source": [
    "file = \"/home/timothytyree/Documents/GitHub/care/notebooks/Data/initial-conditions-suite-2/ds_5_param_set_8_laurener_archive/archive-laurener/termination_times_ic_001-019.csv\""
   ]
  },
  {
   "cell_type": "code",
   "execution_count": 4,
   "metadata": {
    "ExecuteTime": {
     "end_time": "2020-10-26T17:25:49.850326Z",
     "start_time": "2020-10-26T17:25:49.820269Z"
    }
   },
   "outputs": [],
   "source": [
    "df = pd.read_csv(file)"
   ]
  },
  {
   "cell_type": "code",
   "execution_count": 5,
   "metadata": {
    "ExecuteTime": {
     "end_time": "2020-10-26T17:25:54.788549Z",
     "start_time": "2020-10-26T17:25:54.756290Z"
    }
   },
   "outputs": [
    {
     "data": {
      "text/html": [
       "<div>\n",
       "<style scoped>\n",
       "    .dataframe tbody tr th:only-of-type {\n",
       "        vertical-align: middle;\n",
       "    }\n",
       "\n",
       "    .dataframe tbody tr th {\n",
       "        vertical-align: top;\n",
       "    }\n",
       "\n",
       "    .dataframe thead th {\n",
       "        text-align: right;\n",
       "    }\n",
       "</style>\n",
       "<table border=\"1\" class=\"dataframe\">\n",
       "  <thead>\n",
       "    <tr style=\"text-align: right;\">\n",
       "      <th></th>\n",
       "      <th>ic</th>\n",
       "      <th>part</th>\n",
       "      <th>term_time</th>\n",
       "      <th>method</th>\n",
       "      <th>file_name</th>\n",
       "    </tr>\n",
       "  </thead>\n",
       "  <tbody>\n",
       "    <tr>\n",
       "      <th>0</th>\n",
       "      <td>1</td>\n",
       "      <td>33</td>\n",
       "      <td>96605.0</td>\n",
       "      <td>B</td>\n",
       "      <td>ic_200x200.001.33_bdrates.csv</td>\n",
       "    </tr>\n",
       "    <tr>\n",
       "      <th>1</th>\n",
       "      <td>2</td>\n",
       "      <td>11</td>\n",
       "      <td>51365.0</td>\n",
       "      <td>B</td>\n",
       "      <td>ic_200x200.002.11_bdrates.csv</td>\n",
       "    </tr>\n",
       "    <tr>\n",
       "      <th>2</th>\n",
       "      <td>2</td>\n",
       "      <td>12</td>\n",
       "      <td>65162.5</td>\n",
       "      <td>B</td>\n",
       "      <td>ic_200x200.002.12_bdrates.csv</td>\n",
       "    </tr>\n",
       "    <tr>\n",
       "      <th>3</th>\n",
       "      <td>2</td>\n",
       "      <td>13</td>\n",
       "      <td>70932.5</td>\n",
       "      <td>B</td>\n",
       "      <td>ic_200x200.002.13_bdrates.csv</td>\n",
       "    </tr>\n",
       "    <tr>\n",
       "      <th>4</th>\n",
       "      <td>2</td>\n",
       "      <td>21</td>\n",
       "      <td>24097.5</td>\n",
       "      <td>B</td>\n",
       "      <td>ic_200x200.002.21_bdrates.csv</td>\n",
       "    </tr>\n",
       "  </tbody>\n",
       "</table>\n",
       "</div>"
      ],
      "text/plain": [
       "   ic  part  term_time method                      file_name\n",
       "0   1    33    96605.0      B  ic_200x200.001.33_bdrates.csv\n",
       "1   2    11    51365.0      B  ic_200x200.002.11_bdrates.csv\n",
       "2   2    12    65162.5      B  ic_200x200.002.12_bdrates.csv\n",
       "3   2    13    70932.5      B  ic_200x200.002.13_bdrates.csv\n",
       "4   2    21    24097.5      B  ic_200x200.002.21_bdrates.csv"
      ]
     },
     "execution_count": 5,
     "metadata": {},
     "output_type": "execute_result"
    }
   ],
   "source": [
    "df.head()"
   ]
  },
  {
   "cell_type": "code",
   "execution_count": 8,
   "metadata": {
    "ExecuteTime": {
     "end_time": "2020-10-26T17:26:50.220071Z",
     "start_time": "2020-10-26T17:26:50.204848Z"
    }
   },
   "outputs": [],
   "source": [
    "termination_times = df.term_time.values"
   ]
  },
  {
   "cell_type": "code",
   "execution_count": 10,
   "metadata": {
    "ExecuteTime": {
     "end_time": "2020-10-26T17:27:57.362167Z",
     "start_time": "2020-10-26T17:27:56.891905Z"
    }
   },
   "outputs": [
    {
     "name": "stdout",
     "output_type": "stream",
     "text": [
      "saved figure in \n",
      "\thistogram_termination_times_suite-2-log.png.\n"
     ]
    },
    {
     "data": {
      "image/png": "[encoded data removed]",
      "text/plain": [
       "<Figure size 360x360 with 1 Axes>"
      ]
     },
     "metadata": {
      "needs_background": "light"
     },
     "output_type": "display_data"
    }
   ],
   "source": [
    "r = 10**3/np.mean(termination_times)\n",
    "def P(k,t):\n",
    "    '''the probability that k events occur in time t'''\n",
    "    return (r*t)**k*np.exp(-r*t)/np.math.factorial(k)\n",
    "\n",
    "#plot the histogram of termination times\n",
    "saving = True\n",
    "fontsize=16\n",
    "\n",
    "savefig_dir = f'{nb_dir}/Figures/birth_death_analysis'\n",
    "savefig_fn = 'histogram_termination_times_suite-2-log.png'\n",
    "\n",
    "fig, ax = plt.subplots(figsize=(5, 5))\n",
    "ax.hist(np.array(termination_times)/10**3, bins = 10)\n",
    "\n",
    "#overlay a poisson distribution\n",
    "N = len(termination_times)\n",
    "x_values = np.linspace(1,220000,100)/10**3\n",
    "y_values = N*P(0,x_values)\n",
    "ax.plot(x_values,y_values)\n",
    "\n",
    "#format plot\n",
    "# plt.title(f'''termination times for 9 200x200 patches''', fontsize=fontsize)\n",
    "ax.set_ylabel('freq.', fontsize=fontsize)\n",
    "ax.set_xlabel('termination times (s)', fontsize=fontsize)\n",
    "ax.tick_params(axis='both', which='both', labelsize=fontsize)\n",
    "# ax.set_ylim((0,80))\n",
    "ax.set_yscale('log')\n",
    "if not saving: \n",
    "    plt.show() \n",
    "else:\n",
    "    plt.tight_layout()\n",
    "    os.chdir(savefig_dir)\n",
    "    plt.savefig(savefig_fn, dpi=300)\n",
    "    print(f\"saved figure in \\n\\t{savefig_fn}.\")"
   ]
  },
  {
   "cell_type": "code",
   "execution_count": 12,
   "metadata": {
    "ExecuteTime": {
     "end_time": "2020-10-26T17:32:16.791655Z",
     "start_time": "2020-10-26T17:32:16.768954Z"
    }
   },
   "outputs": [
    {
     "data": {
      "text/plain": [
       "30240.352339083354"
      ]
     },
     "execution_count": 12,
     "metadata": {},
     "output_type": "execute_result"
    }
   ],
   "source": [
    "np.mean(termination_times)"
   ]
  },
  {
   "cell_type": "code",
   "execution_count": 13,
   "metadata": {
    "ExecuteTime": {
     "end_time": "2020-10-26T17:32:28.561464Z",
     "start_time": "2020-10-26T17:32:28.541929Z"
    }
   },
   "outputs": [
    {
     "data": {
      "text/plain": [
       "32597.54377007532"
      ]
     },
     "execution_count": 13,
     "metadata": {},
     "output_type": "execute_result"
    }
   ],
   "source": [
    "np.std(termination_times)"
   ]
  },
  {
   "cell_type": "code",
   "execution_count": null,
   "metadata": {},
   "outputs": [],
   "source": []
  }
 ],
 "metadata": {
  "kernelspec": {
   "display_name": "Python 3",
   "language": "python",
   "name": "python3"
  },
  "language_info": {
   "codemirror_mode": {
    "name": "ipython",
    "version": 3
   },
   "file_extension": ".py",
   "mimetype": "text/x-python",
   "name": "python",
   "nbconvert_exporter": "python",
   "pygments_lexer": "ipython3",
   "version": "3.8.5"
  },
  "toc": {
   "base_numbering": 1,
   "nav_menu": {},
   "number_sections": true,
   "sideBar": true,
   "skip_h1_title": false,
   "title_cell": "Table of Contents",
   "title_sidebar": "Contents",
   "toc_cell": false,
   "toc_position": {},
   "toc_section_display": true,
   "toc_window_display": false
  },
  "varInspector": {
   "cols": {
    "lenName": 16,
    "lenType": 16,
    "lenVar": 40
   },
   "kernels_config": {
    "python": {
     "delete_cmd_postfix": "",
     "delete_cmd_prefix": "del ",
     "library": "var_list.py",
     "varRefreshCmd": "print(var_dic_list())"
    },
    "r": {
     "delete_cmd_postfix": ") ",
     "delete_cmd_prefix": "rm(",
     "library": "var_list.r",
     "varRefreshCmd": "cat(var_dic_list()) "
    }
   },
   "types_to_exclude": [
    "module",
    "function",
    "builtin_function_or_method",
    "instance",
    "_Feature"
   ],
   "window_display": false
  }
 },
 "nbformat": 4,
 "nbformat_minor": 4
}
