{
 "cells": [
  {
   "cell_type": "markdown",
   "metadata": {},
   "source": [
    "# My Local Laplacian\n",
    "Tim Tyree<br>\n",
    "6.7.2020<br>"
   ]
  },
  {
   "cell_type": "code",
   "execution_count": 6,
   "metadata": {
    "ExecuteTime": {
     "end_time": "2020-06-08T03:14:25.707521Z",
     "start_time": "2020-06-08T03:14:25.698048Z"
    }
   },
   "outputs": [],
   "source": [
    "import numpy as np, pandas as pd, matplotlib.pyplot as plt\n",
    "from lib.cardiomyocyte import *"
   ]
  },
  {
   "cell_type": "markdown",
   "metadata": {},
   "source": [
    "## Local Orthogonal Basis that is explicitely computable\n",
    "- for each lattice site location, $q_{i,j}\\in\\mathbf{R}^3$, taken from a lattice discretizing a locally smooth, 2D surface of compact support embedded within $\\mathbf{R}^3$, \n",
    "- we may orient such that $\\hat{x}$ is the unit vector in the direction of the nearest neighboring lattice site and $\\hat{y}$ is the vector orthogonal to $\\hat{x}$ that lies on the smooth manifold such that $\\hat{x}\\times\\hat{y}$ is directed outward.  \n",
    "    - Notice that local orthogonal basis $(\\hat{x},\\hat{y})$ is explicitely computable.\n",
    "- we will consider in what follows a continuous, smooth scalar field, $\\psi:\\mathbf{R}^3\\rightarrow\\mathbf{R}$ evaluated at lattice sites chosen from a locally smooth triangular lattice, $\\mathcal{L}_\\text{triangular}$."
   ]
  },
  {
   "cell_type": "markdown",
   "metadata": {},
   "source": [
    "## Approximating the surface - Attempt #1\n",
    "### Convex Averaging of neighboring weights (--> I'd reckon this is a first order accurate approximation)\n",
    "Let $q_A\\in\\mathbf{R}^3$ be the lattice site of the neighbor nearest to $q_{i,j+1}$.\n",
    "Let $N(q_{i,j})$ be the collection of lattice site locations neighboring $q_{i,j}$ that are not the nearest neighbor of $q_{i,j}$.  Then,<br>\n",
    "for each $k\\in N(q_{i,j})$:<br>\n",
    "   - let $q(k)\\in \\mathbf{R}^3$ be the location of the lattice site neighboring $q_{i,j}$.\n",
    "   - let $\\vartheta$ be the angle between $A$ and $B$, where $A$ is the ray beginning at $q_{i,j}$ and extending towards $q_A$ and where $B$ is the ray beginning at $q_{i,j}$ and extending towards $q_k$.\n",
    "   - let $\\Delta^2 x(k) = \\Big[(q(k) - q_{i,j})\\cdot(q(k) - q_0)\\Big]^2$ = the $k^{th}$ square displacement weight in the x direction\n",
    "   - let $\\Delta^2 y(k) = \\Big[(q(k) - q_{i,j})\\times(q(k) - q_0)\\Big]^2$ = the $k^{th}$ square displacement weight in the y direction \n",
    "then, take a mean squared average of the neighbors, binning each neighbor into up to 5 of 8 bins representing a square lattice around $q_{i,j}$.<br>\n",
    "then, take the best approximation a square lattice can have for a 2D laplacian, optimizing for local isotropic symmetry (old news).<br>\n",
    "\n",
    "- let $\\Delta^2 q$ be the mean squared distance of neighboring lattice sites \n",
    "\n",
    "Now, the remaining question is, how do we best interpolate the real valued scalar field $\\psi(q)$ onto our square lattice?  **See Magnus Expansion--> not helpful**"
   ]
  },
  {
   "cell_type": "markdown",
   "metadata": {},
   "source": [
    "## Approximating the surface - Attempt #2\n",
    "### Bezier surface\n",
    "Let $q_{a,b}$ define the origin of a Bezier surface $\\mathbf{p}(u,v)\\in[0,1]\\times[0,1]$.  Recall then that for control points $mathbf{k}_{i,j}$, we have\n",
    "$$\n",
    "\\mathbf{p}(u,v) = \\sum^n_{i=0} \\sum^m_{j=0} B^n_i(u)B^m_j(v)\\mathbf{k}_{i,j}\n",
    "$$\n",
    "\n",
    "where \n",
    "$$\n",
    "B_i^n(u)= { n \\choose k } u^i(1-u)^{n-i}\n",
    "$$\n",
    "is a Bernstin polynomial."
   ]
  },
  {
   "cell_type": "markdown",
   "metadata": {},
   "source": [
    "__Some properties of Bézier surfaces:__\n",
    "\n",
    "- A Bézier surface will transform in the same way as its control points under all linear transformations and translations.\n",
    "- All u = constant and v = constant lines in the (u, v) space, and, in particular, all four edges of the deformed (u, v) unit square are Bézier curves.\n",
    "- A Bézier surface will lie completely within the convex hull of its control points, and therefore also completely within the bounding box of its control points in any given Cartesian coordinate system.\n",
    "- The points in the patch corresponding to the corners of the deformed unit square coincide with four of the control points.\n",
    "- However, a Bézier surface does not generally pass through its other control points.\n",
    "\n",
    "^this was taken from from https://en.wikipedia.org/wiki/B%C3%A9zier_surface"
   ]
  },
  {
   "cell_type": "code",
   "execution_count": null,
   "metadata": {},
   "outputs": [],
   "source": []
  },
  {
   "cell_type": "markdown",
   "metadata": {},
   "source": [
    "# Define Helper Functions"
   ]
  },
  {
   "cell_type": "code",
   "execution_count": 1,
   "metadata": {
    "ExecuteTime": {
     "end_time": "2020-06-08T02:06:36.526407Z",
     "start_time": "2020-06-08T02:06:36.514416Z"
    }
   },
   "outputs": [],
   "source": [
    "def _my_get_laplacian():\n",
    "    '''compute laplaction from local infinitely smooth fit.\n",
    "    disp_list'''\n",
    "    disp_lst, angle_list = _get_local_geometry(self, self.get_neighboring_ids())\n",
    "    total_angle = np.sum(angle_lst)\n",
    "    #TODO(see magnus expansion?):  establish the best local 2D coordinates.  suppose locally Lie smoothness.\n",
    "\n",
    "    #TODO: define an isotropic laplacian with respect to those best local 2D coordinates\n",
    "    return dV2dx2\n",
    "\n",
    "def _get_local_geometry(self, neighboring_ids):\n",
    "    '''assign angular coordinates to neighbors'''\n",
    "    theta_lst = [0.]\n",
    "    self.get_neighboring_ids()\n",
    "    point_1, point_2 = (np.mean(self.triangle, axis=0),np.mean(other.triangle, axis=0))\n",
    "    point_old = point_2\n",
    "    disp   = [self.get_displacement_matrix_element(point_1, point_2)]\n",
    "    if len(neighboring_ids)==0:\n",
    "        return disp_lst, angle_list\n",
    "    for nid in neighboring_ids[1:]:\n",
    "        other  = self.data.loc[nid]\n",
    "        point_1, point_2 = (np.mean(self.triangle, axis=0),np.mean(other.triangle, axis=0))\n",
    "        disp   = self.get_displacement_matrix_element(point_1, point_2)\n",
    "        angle  = _get_angle(q1=point_1, q2=point_old, q3=point_2)\n",
    "        theta_lst.append(angle)\n",
    "    return disp_lst, angle_list\n",
    "\n",
    "def _get_angle(q1, q2, q3):\n",
    "    '''returns the angle between q2-q1 and q3-q1'''\n",
    "    return np.angle(q2-q1, q3-q1)"
   ]
  },
  {
   "cell_type": "code",
   "execution_count": null,
   "metadata": {},
   "outputs": [],
   "source": []
  }
 ],
 "metadata": {
  "kernelspec": {
   "display_name": "Python 3",
   "language": "python",
   "name": "python3"
  },
  "language_info": {
   "codemirror_mode": {
    "name": "ipython",
    "version": 3
   },
   "file_extension": ".py",
   "mimetype": "text/x-python",
   "name": "python",
   "nbconvert_exporter": "python",
   "pygments_lexer": "ipython3",
   "version": "3.7.7"
  },
  "varInspector": {
   "cols": {
    "lenName": 16,
    "lenType": 16,
    "lenVar": 40
   },
   "kernels_config": {
    "python": {
     "delete_cmd_postfix": "",
     "delete_cmd_prefix": "del ",
     "library": "var_list.py",
     "varRefreshCmd": "print(var_dic_list())"
    },
    "r": {
     "delete_cmd_postfix": ") ",
     "delete_cmd_prefix": "rm(",
     "library": "var_list.r",
     "varRefreshCmd": "cat(var_dic_list()) "
    }
   },
   "types_to_exclude": [
    "module",
    "function",
    "builtin_function_or_method",
    "instance",
    "_Feature"
   ],
   "window_display": false
  }
 },
 "nbformat": 4,
 "nbformat_minor": 2
}
