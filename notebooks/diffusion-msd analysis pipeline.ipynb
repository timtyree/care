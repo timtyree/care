{
 "cells": [
  {
   "cell_type": "markdown",
   "metadata": {},
   "source": [
    "# msd-from-tip-log DAG workflow  \n",
    "TODO(later): add option to skip recomputation of cached results<br>\n",
    "Tim Tyree<br>\n",
    "1.18.2021\n"
   ]
  },
  {
   "cell_type": "code",
   "execution_count": 24,
   "metadata": {
    "ExecuteTime": {
     "end_time": "2021-01-26T20:48:24.922915Z",
     "start_time": "2021-01-26T20:48:24.868922Z"
    }
   },
   "outputs": [
    {
     "name": "stdout",
     "output_type": "stream",
     "text": [
      "Automatic calling is: Smart\n"
     ]
    }
   ],
   "source": [
    "from lib.my_initialization import *\n",
    "from lib import *\n",
    "\n",
    "from lib.my_initialization import *\n",
    "from lib.utils.utils_traj import *\n",
    "\n",
    "from lib.utils.operari import *\n",
    "\n",
    "\n",
    "import trackpy, pandas as pd, numpy as np\n",
    "from lib import *\n",
    "from lib.routines.track_tips import *\n",
    "from lib.utils.dist_func import *\n",
    "from lib.utils.utils_traj import *\n",
    "\n",
    "from lib.routines.compute_trajectories import *\n",
    "from lib.routines.dag_log_to_msd import *\n",
    "from lib.routines.compute_msd import *\n",
    "\n",
    "import trackpy\n",
    "%autocall 1\n",
    "%load_ext autoreload\n",
    "%autoreload 2\n",
    "# awareness&chill"
   ]
  },
  {
   "cell_type": "code",
   "execution_count": null,
   "metadata": {
    "ExecuteTime": {
     "end_time": "2021-01-26T20:37:04.499465Z",
     "start_time": "2021-01-26T20:37:02.509Z"
    }
   },
   "outputs": [],
   "source": [
    "#make plots in darkmode\n",
    "import seaborn as sns\n",
    "from jupyterthemes import jtplot\n",
    "jtplot.style(theme='monokai', context='notebook', ticks=True, grid=False)"
   ]
  },
  {
   "cell_type": "code",
   "execution_count": null,
   "metadata": {},
   "outputs": [],
   "source": [
    "#TODO: turn the diffcoef_summary into a .csv update instead of overwriting"
   ]
  },
  {
   "cell_type": "markdown",
   "metadata": {
    "heading_collapsed": true
   },
   "source": [
    "# (ignore dev) generate msd figures"
   ]
  },
  {
   "cell_type": "code",
   "execution_count": 2,
   "metadata": {
    "ExecuteTime": {
     "end_time": "2021-01-25T02:02:29.411157Z",
     "start_time": "2021-01-25T02:02:29.392516Z"
    },
    "hidden": true
   },
   "outputs": [
    {
     "name": "stdout",
     "output_type": "stream",
     "text": [
      "171\n"
     ]
    }
   ],
   "source": [
    "# #find file interactively\n",
    "# print(\"please select a file from within the desired folder.\")\n",
    "# file = search_for_file()\n",
    "file='/home/timothytyree/Documents/GitHub/care/notebooks/Data/initial-conditions-suite-2/ds_2_param_set_8/Log/ic_200x200.001.12_log.csv'\n",
    "trgt='log.csv'\n",
    "assert(file[-len(trgt):]==trgt)\n",
    "\n",
    "file_name_list=get_all_files_matching_pattern(file,trgt)\n",
    "print(len(file_name_list))\n",
    "os.chdir(nb_dir)"
   ]
  },
  {
   "cell_type": "code",
   "execution_count": 3,
   "metadata": {
    "ExecuteTime": {
     "end_time": "2021-01-25T02:02:42.748600Z",
     "start_time": "2021-01-25T02:02:42.733700Z"
    },
    "hidden": true
   },
   "outputs": [],
   "source": [
    "# make unwrapped trajectory for file_name_list\n",
    "# run_routine_log_to_msd\n",
    "# # b = db.from_sequence(file_name_list[:2], npartitions=2).map(run_routine_log_to_msd)\n",
    "# b = db.from_sequence(file_name_list, npartitions=2).map(run_routine_log_to_msd)\n",
    "# start = time.time()\n",
    "# retval = list(b)\n",
    "# print(f\"run time for generating trajectories from file_name_list: {time.time()-start:.2f} seconds.\")\n",
    "# beep(3)\n",
    "# output_file_name_list=retval\n",
    "# print(len(output_file_name_list))"
   ]
  },
  {
   "cell_type": "code",
   "execution_count": 2,
   "metadata": {
    "ExecuteTime": {
     "end_time": "2021-01-18T23:08:14.819021Z",
     "start_time": "2021-01-18T23:08:14.743468Z"
    },
    "hidden": true
   },
   "outputs": [],
   "source": []
  },
  {
   "cell_type": "code",
   "execution_count": 18,
   "metadata": {
    "ExecuteTime": {
     "end_time": "2021-01-19T01:07:41.901609Z",
     "start_time": "2021-01-19T01:07:17.665116Z"
    },
    "hidden": true
   },
   "outputs": [
    {
     "name": "stdout",
     "output_type": "stream",
     "text": [
      "Num. file names in list = 171.\n",
      "ValueError: No objects to concatenate\n",
      "\ttrial that failed: ic_200x200.008.12_traj_sr_400_mem_0_unwrap.csv\n",
      "ValueError: No objects to concatenate\n",
      "\ttrial that failed: ic_200x200.011.31_traj_sr_400_mem_0_unwrap.csv\n",
      "ValueError: No objects to concatenate\n",
      "\ttrial that failed: ic_200x200.018.31_traj_sr_400_mem_0_unwrap.csv\n",
      "ValueError: No objects to concatenate\n",
      "\ttrial that failed: ic_200x200.011.33_traj_sr_400_mem_0_unwrap.csv\n",
      "saved figure in \n",
      "\temsd_longest_by_trial_tips_ntips_1_long_time_std.png\n",
      "saved figure in \n",
      "\temsd_longest_by_trial_tips_ntips_1_short_time_std.png\n",
      "saved figure in \n",
      "\temsd_longest_by_trial_tips_ntips_1_very_short_time_std.png\n"
     ]
    }
   ],
   "source": [
    "# #compute mean squared displacements, aggregating results\n",
    "# n_tips=1; DT=1.\n",
    "# file_out=output_file_name_list[0]\n",
    "# # file_out='/home/timothytyree/Documents/GitHub/care/notebooks/Data/initial-conditions-suite-2/ds_1_param_set_8/trajectories/ic_200x200.011.11_traj_sr_400_mem_0_unwrap.csv'\n",
    "# # file_out='/home/timothytyree/Documents/GitHub/care/notebooks/Data/initial-conditions-suite-2/ds_2_param_set_8/trajectories/ic_200x200.011.11_traj_sr_400_mem_0_unwrap.csv'\n",
    "# retval=gen_msd_figs(file_out,n_tips, DT)#, V_thresh=0.4)"
   ]
  },
  {
   "cell_type": "code",
   "execution_count": 19,
   "metadata": {
    "ExecuteTime": {
     "end_time": "2021-01-19T01:08:06.324201Z",
     "start_time": "2021-01-19T01:07:42.322054Z"
    },
    "hidden": true
   },
   "outputs": [
    {
     "name": "stdout",
     "output_type": "stream",
     "text": [
      "Num. file names in list = 171.\n",
      "ValueError: No objects to concatenate\n",
      "\ttrial that failed: ic_200x200.017.23_traj_sr_400_mem_0_unwrap.csv\n",
      "ValueError: No objects to concatenate\n",
      "\ttrial that failed: ic_200x200.005.22_traj_sr_400_mem_0_unwrap.csv\n",
      "ValueError: No objects to concatenate\n",
      "\ttrial that failed: ic_200x200.006.23_traj_sr_400_mem_0_unwrap.csv\n",
      "saved figure in \n",
      "\temsd_longest_by_trial_tips_ntips_1_long_time_std.png\n",
      "saved figure in \n",
      "\temsd_longest_by_trial_tips_ntips_1_short_time_std.png\n",
      "saved figure in \n",
      "\temsd_longest_by_trial_tips_ntips_1_very_short_time_std.png\n"
     ]
    }
   ],
   "source": [
    "# file_out='/home/timothytyree/Documents/GitHub/care/notebooks/Data/initial-conditions-suite-2/ds_2_param_set_8/trajectories/ic_200x200.011.11_traj_sr_400_mem_0_unwrap.csv'\n",
    "# retval=gen_msd_figs(file_out,n_tips, DT)#, V_thresh=0.4)"
   ]
  },
  {
   "cell_type": "markdown",
   "metadata": {
    "ExecuteTime": {
     "end_time": "2021-01-23T19:31:58.475770Z",
     "start_time": "2021-01-23T19:31:58.435850Z"
    },
    "heading_collapsed": true
   },
   "source": [
    "# (ignore dev) find dag workflow for one trial and give it a caching option\n",
    "- Hint: use os.path.exists(fn)"
   ]
  },
  {
   "cell_type": "code",
   "execution_count": 4,
   "metadata": {
    "ExecuteTime": {
     "end_time": "2021-01-25T02:04:58.037157Z",
     "start_time": "2021-01-25T02:04:58.022571Z"
    },
    "hidden": true
   },
   "outputs": [],
   "source": [
    "#TODO: make a function that _for one trial_folder_ computes all analysis steps from tracking to diffcoeff output\n",
    "##################\n",
    "# Scrum: 1.23.2021\n",
    "##################\n",
    "#TODO: make a function that _for one trial_folder_ computes all analysis steps from tracking to diffcoeff output\n",
    "#TODO: give ^this function a kwarg option use_cached_files=True, that looks for files already existing \n",
    "#TODO: make a function that computes all analysis steps from tracking to diffcoeff table\n",
    "#TODO: give ^this function a kwarg option use_cached_files=True, that looks for files already existing \n",
    "#TODO(later): make viewer for data, where I give a trial_folder and it shows me all the plots for it"
   ]
  },
  {
   "cell_type": "code",
   "execution_count": 5,
   "metadata": {
    "ExecuteTime": {
     "end_time": "2021-01-25T02:05:15.065246Z",
     "start_time": "2021-01-25T02:05:15.049421Z"
    },
    "hidden": true
   },
   "outputs": [],
   "source": [
    "# find dag workflow for one trial and give it a caching option\n",
    "# - Hint: use os.path.exists(fn)"
   ]
  },
  {
   "cell_type": "code",
   "execution_count": 2,
   "metadata": {
    "ExecuteTime": {
     "end_time": "2021-01-25T22:49:17.176939Z",
     "start_time": "2021-01-25T22:49:17.159255Z"
    },
    "hidden": true
   },
   "outputs": [],
   "source": [
    "def msd_fig_gener(input_file_name,n_tips=1):\n",
    "    trgt='_unwrap.csv'\n",
    "    assert(input_file_name[-len(trgt)]==trgt)\n",
    "    #Generate msd figures for input_file_name\n",
    "    dirname = os.path.dirname(input_file_name).split('/')[-1]\n",
    "    folder_name=os.path.dirname(input_file_name)\n",
    "    save_folder = folder_name.replace(dirname,'msd')\n",
    "    output_file_name = f\"emsd_longest_by_trial_tips_ntips_{n_tips}.csv\"\n",
    "    #determine DT\n",
    "    df=pd.read_csv(input_file_name)\n",
    "    DT=df.t.head(2).diff().dropna().values[0]\n",
    "    retval=gen_msd_figs(file_out,n_tips, DT)#, V_thresh=0.4)\n",
    "    return retval"
   ]
  },
  {
   "cell_type": "code",
   "execution_count": 11,
   "metadata": {
    "ExecuteTime": {
     "end_time": "2021-01-25T02:08:11.872471Z",
     "start_time": "2021-01-25T02:08:11.844424Z"
    },
    "hidden": true
   },
   "outputs": [
    {
     "data": {
      "text/plain": [
       "1.0"
      ]
     },
     "execution_count": 11,
     "metadata": {},
     "output_type": "execute_result"
    }
   ],
   "source": [
    "n_tips=1\n",
    "use_cache=True\n",
    "input_file_name='/home/timothytyree/Documents/GitHub/care/notebooks/Data/initial-conditions-suite-2/ds_2_param_set_8/trajectories/ic_200x200.011.11_traj_sr_400_mem_0_unwrap.csv'\n",
    "msd_fig_gener(input_file_name,n_tips)"
   ]
  },
  {
   "cell_type": "code",
   "execution_count": 22,
   "metadata": {
    "ExecuteTime": {
     "end_time": "2021-01-23T21:25:13.104440Z",
     "start_time": "2021-01-23T21:25:13.089257Z"
    },
    "hidden": true
   },
   "outputs": [],
   "source": [
    "#compute the ensemble mean squared displacements for each trial\n",
    "#determine DT\n",
    "input_file_name=file_name_list[0]\n",
    "df=pd.read_csv(input_file_name)\n",
    "DT=df.t.head(2).diff().dropna().values[0]\n",
    "os.chdir(save_folder)\n",
    "if not use_cache or not os.path.exists(output_file_name):\n",
    "    \n",
    "    output_file_name=generate_msd_figures_routine_for_list(file_name_list, n_tips,DT=DT,put_file_name=None,save_folder=None,**kwargs):\n"
   ]
  },
  {
   "cell_type": "code",
   "execution_count": 19,
   "metadata": {
    "ExecuteTime": {
     "end_time": "2021-01-23T21:23:50.961663Z",
     "start_time": "2021-01-23T21:23:50.934519Z"
    },
    "hidden": true
   },
   "outputs": [
    {
     "data": {
      "text/plain": [
       "'/home/timothytyree/Documents/GitHub/care/notebooks/Data/initial-conditions-suite-2/ds_2_param_set_8/msd'"
      ]
     },
     "execution_count": 19,
     "metadata": {},
     "output_type": "execute_result"
    }
   ],
   "source": [
    "save_folder"
   ]
  },
  {
   "cell_type": "markdown",
   "metadata": {},
   "source": [
    "# define module for diffusion analysis pipeline"
   ]
  },
  {
   "cell_type": "code",
   "execution_count": 23,
   "metadata": {
    "ExecuteTime": {
     "end_time": "2021-01-26T20:48:21.995985Z",
     "start_time": "2021-01-26T20:48:21.992884Z"
    }
   },
   "outputs": [
    {
     "data": {
      "text/plain": [
       "<function lib.routines.dag_log_to_msd.dag_a_postprocess(emsd_fn, trial_folder_name, dir_out, **kwargs)>"
      ]
     },
     "execution_count": 23,
     "metadata": {},
     "output_type": "execute_result"
    }
   ],
   "source": [
    "from lib.routines.dag_log_to_msd import *\n",
    "dag_a_postprocess"
   ]
  },
  {
   "cell_type": "code",
   "execution_count": 20,
   "metadata": {
    "ExecuteTime": {
     "end_time": "2021-01-26T20:41:11.375196Z",
     "start_time": "2021-01-26T20:41:11.363738Z"
    },
    "code_folding": []
   },
   "outputs": [],
   "source": [
    "def run_routine_log_to_unwrapped_trajectory(input_file_name, use_cache=True, sr=400, mem=0, **kwargs):\n",
    "    '''ic is a .csv file name of a tip log.'''\n",
    "    traj_fn = os.path.abspath(input_file_name).replace('/Log','/trajectories').replace('log.csv', f'traj_sr_{sr}_mem_{mem}.csv')\n",
    "    output_file_name = traj_fn.replace('/trajectories','/trajectories_unwrap').replace('.csv',\"_unwrap.csv\")\n",
    "    if not use_cache or not os.path.exists(traj_fn):\n",
    "        traj_fn = generate_track_tips_pbc(input_file_name, save_fn=traj_fn, **kwargs)\n",
    "    if not use_cache or not os.path.exists(output_file_name):\n",
    "        retval_ignore = unwrap_trajectories(traj_fn, output_file_name)      \n",
    "    return os.path.abspath(output_file_name)\n",
    "\n",
    "def run_routine_unwrapped_trajectories_to_diffcoeff_summary(file_name_list,trial_folder_name,use_cache=True,n_tips=1,**kwargs):\n",
    "    '''file_name_list is a list of strings locating files ending in _unwrap.csv'''\n",
    "    input_file_name=file_name_list[0]\n",
    "    #determine DT\n",
    "    df=pd.read_csv(input_file_name)\n",
    "    DT=df.t.head(2).diff().dropna().values[0]\n",
    "    dirname = os.path.dirname(input_file_name).split('/')[-1]\n",
    "    folder_name=os.path.dirname(input_file_name)\n",
    "    save_folder = folder_name.replace(dirname,'msd')\n",
    "    emsd_fn = os.path.join(save_folder,f\"emsd_longest_by_trial_tips_ntips_{n_tips}.csv\")\n",
    "    if not os.path.exists(save_folder):\n",
    "        os.mkdir(save_folder)\n",
    "    os.chdir(save_folder)\n",
    "    if not use_cache or not os.path.exists(emsd_fn):\n",
    "        #compute the ensemble mean squared displacements for each trial\n",
    "        emsd_fn=generate_msd_figures_routine_for_list(file_name_list, n_tips, DT=DT,\n",
    "                                                               output_file_name=emsd_fn,\n",
    "                                                               save_folder=save_folder,**kwargs)\n",
    "    #compute the diffusion coefficient summary\n",
    "    os.chdir(os.path.dirname(emsd_fn))\n",
    "    dir_out=os.path.join(save_folder,\"diffcoeff_summary_\"+os.path.basename(emsd_fn))\n",
    "    if not use_cache or not os.path.exists(dir_out):\n",
    "        dir_out = dag_a_postprocess(emsd_fn=emsd_fn,\n",
    "                                trial_folder_name=trial_folder_name,\n",
    "                                dir_out=dir_out,**kwargs)\n",
    "    return dir_out\n",
    "\n",
    "def workflow_reduce_logs_to_diffcoeff_summary(input_fn_lst, use_cache_0=True,use_cache_1=False, npartitions=2, **kwargs):\n",
    "    print(f\"the total number of trials recorded is {len(input_fn_lst)}\")\n",
    "    def routine(fn):\n",
    "        output_file_name=run_routine_log_to_unwrapped_trajectory(fn, use_cache=use_cache_0,**kwargs)\n",
    "        return output_file_name\n",
    "    b = db.from_sequence(input_fn_lst, npartitions=npartitions).map(routine)\n",
    "    file_name_list = list(b)\n",
    "    print(f'reducing {len(file_name_list)} unwrapped trajectories files to a single row describing the diffusion coefficient of spiral tips for that trial...')\n",
    "    #reduce reduce_logs_to_diffcoeff_summary\n",
    "    df_out= run_routine_unwrapped_trajectories_to_diffcoeff_summary(file_name_list,use_cache=use_cache_1,**kwargs)\n",
    "    return df_out\n",
    "    \n"
   ]
  },
  {
   "cell_type": "code",
   "execution_count": 9,
   "metadata": {
    "ExecuteTime": {
     "end_time": "2021-01-26T20:37:33.690041Z",
     "start_time": "2021-01-26T20:37:33.686779Z"
    }
   },
   "outputs": [],
   "source": [
    "def get_all_logs(trial_folder,trial_folder_name):\n",
    "    cwd=os.getcwd()\n",
    "    file=f\"{trial_folder}/Log/ic_200x200.001.12_log.csv\"\n",
    "    trgt='log.csv'\n",
    "    assert(file[-len(trgt):]==trgt)\n",
    "    input_fn_lst=get_all_files_matching_pattern(file,trgt)\n",
    "    # print(len(input_fn_lst))\n",
    "    os.chdir(cwd)\n",
    "    return input_fn_lst"
   ]
  },
  {
   "cell_type": "code",
   "execution_count": 10,
   "metadata": {
    "ExecuteTime": {
     "end_time": "2021-01-26T20:37:34.458447Z",
     "start_time": "2021-01-26T20:37:34.455289Z"
    }
   },
   "outputs": [],
   "source": [
    "def gen_diffcoeff_summary(trial_folder_name,ic_suite_fn,**kwargs):\n",
    "    #find all log files for each trial folder\n",
    "    trial_folder=f\"{ic_suite_fn}/{trial_folder_name}\"\n",
    "    input_fn_lst= get_all_logs(trial_folder,trial_folder_name)\n",
    "    print(f\"{trial_folder_name} contains {len(input_fn_lst)} tip logs\")\n",
    "    #reduce that trial folder to a single diffusion coefficient row\n",
    "    diffcoeff_summary_fn=workflow_reduce_logs_to_diffcoeff_summary(\n",
    "        input_fn_lst,trial_folder_name=trial_folder_name,\n",
    "        use_cache_0=True, use_cache_1=False,**kwargs)\n",
    "    return diffcoeff_summary_fn\n"
   ]
  },
  {
   "cell_type": "code",
   "execution_count": 36,
   "metadata": {
    "ExecuteTime": {
     "end_time": "2021-01-26T03:27:28.131479Z",
     "start_time": "2021-01-26T03:27:28.118612Z"
    }
   },
   "outputs": [],
   "source": [
    "# def get_all_trial_folders_not_archived(ic_suite_fn):\n",
    "#     os.chdir(ic_suite_fn)\n",
    "#     dir_lst=os.listdir()\n",
    "#     trial_folder_name_lst=[]\n",
    "#     for dir_run in dir_lst:\n",
    "#         # dir_run=dir_lst[0]\n",
    "#         trial_folder_name=dir_run\n",
    "#         #test if trial_folder_name is not a folder\n",
    "#         boo  = os.path.isdir(trial_folder_name)\n",
    "#         #test if trial_folder_name starts with ic\n",
    "#         boo &=trial_folder_name[:2]!='ic'\n",
    "#         #test if trial_folder_name contains archiv\n",
    "#         boo &=trial_folder_name.find('archiv')==-1\n",
    "#         #if not, append it to the trial_folder_name_lst\n",
    "#         if boo:\n",
    "#             trial_folder_name_lst.append(trial_folder_name)\n",
    "#     return trial_folder_name_lst"
   ]
  },
  {
   "cell_type": "code",
   "execution_count": 5,
   "metadata": {
    "ExecuteTime": {
     "end_time": "2021-01-26T20:16:12.418576Z",
     "start_time": "2021-01-26T20:16:12.402372Z"
    }
   },
   "outputs": [],
   "source": [
    "# #find all log files for a given trial\n",
    "# trial_folder_name='ds_5_param_set_3'\n",
    "# trial_folder=f\"{nb_dir}/Data/initial-conditions-suite-2/{trial_folder_name}\"\n",
    "# input_fn_lst= get_all_logs(trial_folder,trial_folder_name)\n",
    "# print(len(input_fn_lst))"
   ]
  },
  {
   "cell_type": "code",
   "execution_count": 15,
   "metadata": {
    "ExecuteTime": {
     "end_time": "2021-01-26T20:38:26.636913Z",
     "start_time": "2021-01-26T20:38:26.633644Z"
    }
   },
   "outputs": [],
   "source": [
    "#DONE: test workflow_reduce_logs_to_diffcoeff_summary runtime on trial_folder with cached results\n",
    "# pipeline to run up to an individual data run (workflow_reduce_logs_to_diffcoeff_summary)\n",
    "\n",
    "def diffcoeff_table_gener(ic_suite_fn,trial_folder_name_lst,dict_kwargs_trial,npartitions=2,**kwargs_table):\n",
    "    #generate the diffusion table\n",
    "    for trial_folder_name in trial_folder_name_lst:\n",
    "        kwargs_trial= dict_kwargs_trial[trial_folder_name]\n",
    "        print(f'beginning diffusion analysis of {trial_folder_name}...')\n",
    "        diffcoeff_summary_fn= gen_diffcoeff_summary(trial_folder_name,ic_suite_fn,npartitions=npartitions,**kwargs_trial)\n",
    "    #reduce\n",
    "    retval= gen_diffcoeff_table(ic_suite_fn,trial_folder_name_lst,**kwargs_table)\n",
    "    return retval"
   ]
  },
  {
   "cell_type": "markdown",
   "metadata": {},
   "source": [
    "# FK model analysis pipeline"
   ]
  },
  {
   "cell_type": "code",
   "execution_count": 45,
   "metadata": {
    "ExecuteTime": {
     "end_time": "2021-01-26T03:35:13.361679Z",
     "start_time": "2021-01-26T03:35:13.343168Z"
    }
   },
   "outputs": [
    {
     "name": "stdout",
     "output_type": "stream",
     "text": [
      "['ds_5_param_set_8_fastkernel_V_0.4', 'ds_5_param_set_4', 'ds_5_param_set_8_og', 'ds_5_param_set_8_fastkernel_V_0.5', 'ds_10_param_set_8_og', 'ds_5_param_set_8_fastkernel_V_0.6', 'ds_1_param_set_8', 'ds_5_param_set_3', 'ds_2_param_set_8']\n"
     ]
    }
   ],
   "source": [
    "ic_suite_fn=f\"{nb_dir}/Data/initial-conditions-suite-2\"\n",
    "trial_folder_name_lst=get_all_trial_folders_not_archived(ic_suite_fn)    \n",
    "#initialize dict_kwargs_trial\n",
    "dict_kwargs_trial={}\n",
    "for fn in trial_folder_name_lst:\n",
    "    dict_kwargs_trial[fn]={}\n",
    "    \n",
    "#add any custom changes to instances of the analysis pipeline\n",
    "dict_kwargs_trial['ds_5_param_set_3']['duration_thresh']=.35\n",
    "# # other parameters of potential interest\n",
    "# tau_min=.15, n_tips=1,DT=1., \n",
    "print(trial_folder_name_lst)"
   ]
  },
  {
   "cell_type": "code",
   "execution_count": 46,
   "metadata": {
    "ExecuteTime": {
     "end_time": "2021-01-26T03:35:13.724263Z",
     "start_time": "2021-01-26T03:35:13.705938Z"
    }
   },
   "outputs": [],
   "source": [
    "trial_folder_name_lst=['ds_5_param_set_8_fastkernel_V_0.4','ds_5_param_set_3','ds_5_param_set_4','ds_5_param_set_8_og','ds_10_param_set_8_og']"
   ]
  },
  {
   "cell_type": "code",
   "execution_count": null,
   "metadata": {
    "ExecuteTime": {
     "start_time": "2021-01-26T03:35:14.162Z"
    }
   },
   "outputs": [
    {
     "name": "stdout",
     "output_type": "stream",
     "text": [
      "Frame 300000: 19 trajectories present.\n"
     ]
    }
   ],
   "source": [
    "retval= diffcoeff_table_gener(ic_suite_fn,trial_folder_name_lst,dict_kwargs_trial,npartitions=2)\n",
    "\n",
    "beep(10)\n",
    "print(f\"retval is {retval}\")"
   ]
  },
  {
   "cell_type": "code",
   "execution_count": null,
   "metadata": {
    "ExecuteTime": {
     "end_time": "2021-01-25T19:10:22.157224Z",
     "start_time": "2021-01-25T16:51:13.601Z"
    }
   },
   "outputs": [],
   "source": [
    "# diffcoeff_summary_fn= gen_diffcoeff_summary(trial_folder_name,ic_suite_fn,**kwargs_trial)\n"
   ]
  },
  {
   "cell_type": "code",
   "execution_count": 114,
   "metadata": {
    "ExecuteTime": {
     "end_time": "2021-01-24T01:48:21.839951Z",
     "start_time": "2021-01-24T01:48:21.819642Z"
    }
   },
   "outputs": [
    {
     "data": {
      "text/plain": [
       "'ds_2_param_set_8'"
      ]
     },
     "execution_count": 114,
     "metadata": {},
     "output_type": "execute_result"
    }
   ],
   "source": [
    "#DONE: test workflow_reduce_logs_to_diffcoeff_summary runtime on trial_folder with cached results\n",
    "# pipeline to run up to an individual data run (workflow_reduce_logs_to_diffcoeff_summary)\n",
    "\n",
    "# # def gener_diffcoeff_table(ic_suite_fn,trial_folder_name_lst,**kwargs):\n",
    "# #TODO: generate the diffusion table\n",
    "# for trial_folder_name in trial_folder_name_lst:\n",
    "#     kwargs_trial= dict_kwargs_trial[trial_folder_name]\n",
    "#     print(f'beginning diffusion analysis of {trial_folder_name}...')\n",
    "#     diffcoeff_summary_fn= gen_diffcoeff_summary(trial_folder_name,ic_suite_fn,npartitions=6,**kwargs_trial)\n"
   ]
  },
  {
   "cell_type": "markdown",
   "metadata": {},
   "source": [
    "# LR model analysis pipeline"
   ]
  },
  {
   "cell_type": "code",
   "execution_count": 26,
   "metadata": {
    "ExecuteTime": {
     "end_time": "2021-01-28T00:25:47.167863Z",
     "start_time": "2021-01-28T00:25:47.152789Z"
    }
   },
   "outputs": [
    {
     "name": "stdout",
     "output_type": "stream",
     "text": [
      "['ds_5_param_qu_tmax_1', 'ds_2_param_qu_tmax_10', 'ds_5_param_qu_tmax_30_Ko_7.0', 'ds_5_param_qu_tmax_1_deprec_V_-60.', 'ds_5_param_qu_tmax_10_Ko_5.4', 'ds_5_param_qu_tmax_10_Ko_7', 'ds_7.5_param_qu_tmax_30', 'ds_5_param_qu_tmax_10', 'ds_5_param_qu_tmax_30_Ko_5.4']\n"
     ]
    }
   ],
   "source": [
    "ic_suite_fn=f\"{nb_dir}/Data/initial-conditions-suite-3-LR\"\n",
    "trial_folder_name_lst=get_all_trial_folders_not_archived(ic_suite_fn)    \n",
    "#initialize dict_kwargs_trial\n",
    "dict_kwargs_trial={}\n",
    "for fn in trial_folder_name_lst:\n",
    "    dict_kwargs_trial[fn]={}\n",
    "    \n",
    "#add any custom changes to instances of the analysis pipeline\n",
    "# dict_kwargs_trial['ds_5_param_set_3']['duration_thresh']=.35\n",
    "# # other parameters of potential interest\n",
    "# tau_min=.15, n_tips=1,DT=1., \n",
    "print(trial_folder_name_lst)"
   ]
  },
  {
   "cell_type": "code",
   "execution_count": 27,
   "metadata": {
    "ExecuteTime": {
     "end_time": "2021-01-28T00:26:07.052485Z",
     "start_time": "2021-01-28T00:26:07.016418Z"
    }
   },
   "outputs": [],
   "source": [
    "trial_folder_name_lst=['ds_7.5_param_qu_tmax_30']#'ds_5_param_qu_tmax_10_Ko_7','ds_5_param_qu_tmax_30_Ko_5.4']\n",
    "# trial_folder_name_lst=['ds_5_param_qu_tmax_10',"
   ]
  },
  {
   "cell_type": "code",
   "execution_count": 30,
   "metadata": {
    "ExecuteTime": {
     "end_time": "2021-01-28T22:38:05.715892Z",
     "start_time": "2021-01-28T22:37:36.605133Z"
    }
   },
   "outputs": [
    {
     "name": "stdout",
     "output_type": "stream",
     "text": [
      "beginning diffusion analysis of ds_7.5_param_qu_tmax_30...\n",
      "ds_7.5_param_qu_tmax_30 contains 159 tip logs\n",
      "the total number of trials recorded is 159\n",
      "reducing 159 unwrapped trajectories files to a single row describing the diffusion coefficient of spiral tips for that trial...\n",
      "Num. file names in list = 159.\n",
      "ValueError: No objects to concatenate\n",
      "\ttrial that failed: ic008.21_traj_sr_400_mem_0_unwrap.csv\n",
      "ValueError: No objects to concatenate\n",
      "\ttrial that failed: ic005.33_traj_sr_400_mem_0_unwrap.csv\n",
      "saved figure in \n",
      "\t/home/timothytyree/Documents/GitHub/care/notebooks/Data/initial-conditions-suite-3-LR/ds_7.5_param_qu_tmax_30/msd/fig\n",
      "saved figure in \n",
      "\t/home/timothytyree/Documents/GitHub/care/notebooks/Data/initial-conditions-suite-3-LR/ds_7.5_param_qu_tmax_30/msd/fig\n",
      "saved figure in \n",
      "\t/home/timothytyree/Documents/GitHub/care/notebooks/Data/initial-conditions-suite-3-LR/ds_7.5_param_qu_tmax_30/msd/fig\n",
      "generating diffcoeff_figures for ds_7.5_param_qu_tmax_30\n",
      "\tnum. trials that didn't show a tip lasing longer than 150ms is 0, and that didn't show am Rsquared of at least 0.0 is 15\n",
      "saved diffcoeff_summary to /home/timothytyree/Documents/GitHub/care/notebooks/Data/initial-conditions-suite-3-LR/ds_7.5_param_qu_tmax_30/msd\n",
      "the total number of trials considered in summary is 35\n",
      "generating diffcoeff_figures for ds_7.5_param_qu_tmax_30\n",
      "\tnum. trials that didn't show a tip lasing longer than 150ms is 0, and that didn't show am Rsquared of at least 0.0 is 15\n",
      "saved diffcoeff_summary to \n",
      "the total number of trials considered in summary is 35\n",
      "\n",
      " output csv saved in:\t /home/timothytyree/Documents/GitHub/care/notebooks/Data/initial-conditions-suite-3-LR\n",
      "retval is ['diffcoeff_summary_diffcoeff_emsd_longest_by_trial_tips_ntips_1_Tmin_0.15_Tmax_0.5.csv']\n"
     ]
    }
   ],
   "source": [
    "retval= diffcoeff_table_gener(ic_suite_fn,trial_folder_name_lst,dict_kwargs_trial,\n",
    "                              npartitions=2, use_cache_1=False)#, R2_thresh=0.0,duration_thresh=.0, tau_min=0.)\n",
    "beep(2)\n",
    "print(f\"retval is {retval}\")"
   ]
  },
  {
   "cell_type": "code",
   "execution_count": 22,
   "metadata": {
    "ExecuteTime": {
     "end_time": "2021-01-26T20:35:11.364990Z",
     "start_time": "2021-01-26T20:35:11.346850Z"
    }
   },
   "outputs": [
    {
     "data": {
      "text/plain": [
       "['diffcoeff_summary_diffcoeff_emsd_longest_by_trial_tips_ntips_1_Tmin_0.15_Tmax_0.5.csv',\n",
       " 'diffcoeff_summary_diffcoeff_emsd_longest_by_trial_tips_ntips_1_Tmin_0.15_Tmax_0.5.csv']"
      ]
     },
     "execution_count": 22,
     "metadata": {},
     "output_type": "execute_result"
    }
   ],
   "source": [
    "#add any custom changes to instances of the analysis pipeline\n",
    "# dict_kwargs_trial['ds_5_param_set_3']['duration_thresh']=.35\n",
    "# # other parameters of potential interest\n",
    "# tau_min=.15, n_tips=1,DT=1., \n",
    "\n",
    "# diffcoeff_summary_fn= gen_diffcoeff_summary(trial_folder_name,ic_suite_fn,**kwargs_trial)\n",
    "retval"
   ]
  },
  {
   "cell_type": "code",
   "execution_count": 13,
   "metadata": {
    "ExecuteTime": {
     "end_time": "2021-01-26T19:53:24.242007Z",
     "start_time": "2021-01-26T19:53:24.149401Z"
    }
   },
   "outputs": [],
   "source": [
    "#bare combine diffcoeff_summaries\n",
    "# os.chdir(os.path.dirname(emsd_fn))\n",
    "dir_out=os.path.join(save_folder,\"diffcoeff_summary_\"+os.path.basename(emsd_fn))\n",
    "# if not use_cache or not os.path.exists(dir_out):\n",
    "dir_out = dag_a_postprocess(emsd_fn=emsd_fn,\n",
    "                        trial_folder_name=trial_folder_name,\n",
    "                        dir_out=dir_out,**kwargs)"
   ]
  },
  {
   "cell_type": "code",
   "execution_count": 18,
   "metadata": {
    "ExecuteTime": {
     "end_time": "2021-01-26T20:40:28.643495Z",
     "start_time": "2021-01-26T20:40:28.631745Z"
    }
   },
   "outputs": [
    {
     "ename": "NameError",
     "evalue": "name 'dag_a_postprocess' is not defined",
     "output_type": "error",
     "traceback": [
      "\u001b[0;31m---------------------------------------------------------------------------\u001b[0m",
      "\u001b[0;31mNameError\u001b[0m                                 Traceback (most recent call last)",
      "\u001b[0;32m<ipython-input-18-a8e871a71a8c>\u001b[0m in \u001b[0;36m<module>\u001b[0;34m\u001b[0m\n\u001b[0;32m----> 1\u001b[0;31m \u001b[0mdag_a_postprocess\u001b[0m\u001b[0;34m\u001b[0m\u001b[0;34m\u001b[0m\u001b[0m\n\u001b[0m",
      "\u001b[0;31mNameError\u001b[0m: name 'dag_a_postprocess' is not defined"
     ]
    }
   ],
   "source": []
  },
  {
   "cell_type": "code",
   "execution_count": null,
   "metadata": {},
   "outputs": [],
   "source": []
  }
 ],
 "metadata": {
  "kernelspec": {
   "display_name": "Python 3",
   "language": "python",
   "name": "python3"
  },
  "toc": {
   "base_numbering": 1,
   "nav_menu": {},
   "number_sections": true,
   "sideBar": true,
   "skip_h1_title": false,
   "title_cell": "Table of Contents",
   "title_sidebar": "Contents",
   "toc_cell": false,
   "toc_position": {},
   "toc_section_display": true,
   "toc_window_display": false
  },
  "varInspector": {
   "cols": {
    "lenName": 16,
    "lenType": 16,
    "lenVar": 40
   },
   "kernels_config": {
    "python": {
     "delete_cmd_postfix": "",
     "delete_cmd_prefix": "del ",
     "library": "var_list.py",
     "varRefreshCmd": "print(var_dic_list())"
    },
    "r": {
     "delete_cmd_postfix": ") ",
     "delete_cmd_prefix": "rm(",
     "library": "var_list.r",
     "varRefreshCmd": "cat(var_dic_list()) "
    }
   },
   "types_to_exclude": [
    "module",
    "function",
    "builtin_function_or_method",
    "instance",
    "_Feature"
   ],
   "window_display": false
  }
 },
 "nbformat": 4,
 "nbformat_minor": 4
}
