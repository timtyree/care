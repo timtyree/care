{
 "cells": [
  {
   "cell_type": "markdown",
   "metadata": {},
   "source": [
    "# Processing a Folder of Tip Logs\n",
    "TODO(later): add option to skip recomputation of cached results<br>\n",
    "Tim Tyree<br>\n",
    "1.18.2021\n"
   ]
  },
  {
   "cell_type": "code",
   "execution_count": 1,
   "metadata": {
    "ExecuteTime": {
     "end_time": "2021-06-23T02:27:35.352249Z",
     "start_time": "2021-06-23T02:27:32.327986Z"
    }
   },
   "outputs": [
    {
     "name": "stdout",
     "output_type": "stream",
     "text": [
      "Automatic calling is: Smart\n"
     ]
    }
   ],
   "source": [
    "from lib.my_initialization import *\n",
    "from lib import *\n",
    "\n",
    "from lib.my_initialization import *\n",
    "from lib.utils.utils_traj import *\n",
    "\n",
    "from lib.utils.operari import *\n",
    "\n",
    "import trackpy, pandas as pd, numpy as np\n",
    "from lib import *\n",
    "from lib.routines.track_tips import *\n",
    "from lib.utils.dist_func import *\n",
    "from lib.utils.utils_traj import *\n",
    "\n",
    "from lib.routines.compute_trajectories import *\n",
    "from lib.routines.dag_log_to_msd import *\n",
    "from lib.routines.compute_msd import *\n",
    "\n",
    "import trackpy\n",
    "%autocall 1\n",
    "%load_ext autoreload\n",
    "%autoreload 2\n",
    "# awareness&chill"
   ]
  },
  {
   "cell_type": "code",
   "execution_count": 2,
   "metadata": {
    "ExecuteTime": {
     "end_time": "2021-06-22T20:40:37.120822Z",
     "start_time": "2021-06-22T20:40:37.106476Z"
    }
   },
   "outputs": [],
   "source": [
    "# #make plots in darkmode\n",
    "# import seaborn as sns\n",
    "# from jupyterthemes import jtplot\n",
    "# jtplot.style(theme='monokai', context='notebook', ticks=True, grid=False)"
   ]
  },
  {
   "cell_type": "code",
   "execution_count": 3,
   "metadata": {
    "ExecuteTime": {
     "end_time": "2021-06-22T20:40:37.439035Z",
     "start_time": "2021-06-22T20:40:37.423873Z"
    }
   },
   "outputs": [],
   "source": [
    "#TODO: turn the diffcoef_summary into a .csv update instead of overwriting"
   ]
  },
  {
   "cell_type": "markdown",
   "metadata": {},
   "source": [
    "# (ignore dev) generate msd figures"
   ]
  },
  {
   "cell_type": "code",
   "execution_count": 3,
   "metadata": {
    "ExecuteTime": {
     "end_time": "2021-06-22T20:49:53.189906Z",
     "start_time": "2021-06-22T20:49:53.169782Z"
    }
   },
   "outputs": [
    {
     "name": "stdout",
     "output_type": "stream",
     "text": [
      "/home/timothytyree/Documents/GitHub/care/notebooks/Data/initial-conditions-suite-3-LR/param_qu_tmax_30_Ko_5.4_diffCoef_0.0005_dt_0.5/Log/ic001.21_log.csv\n",
      "number of files in list: 159\n"
     ]
    }
   ],
   "source": [
    "# #find file interactively\n",
    "# print(\"please select a file from within the desired folder.\")\n",
    "# file = search_for_file()\n",
    "file='/home/timothytyree/Documents/GitHub/care/notebooks/Data/initial-conditions-suite-3-LR/param_qu_tmax_30_Ko_5.4_diffCoef_0.0005_dt_0.5/Log/ic001.21_log.csv'\n",
    "print(file)\n",
    "# file='/home/timothytyree/Documents/GitHub/care/notebooks/Data/initial-conditions-suite-2/ds_2_param_set_8/Log/ic_200x200.001.12_log.csv'\n",
    "\n",
    "ds=5\n",
    "width=200\n",
    "height=width\n",
    "DS=ds/width\n",
    "\n",
    "# input_fn=search_for_file()\n",
    "input_fn=f\"/home/timothytyree/Documents/GitHub/care/notebooks/Data/initial-conditions-fk-200x200/param_set_8_ds_5.0_tmax_10_diffCoef_0.0005/Log/ic200x200.0.3_traj_sr_400_mem_0.csv\"\n",
    "df=pd.read_csv(input_fn)\n",
    "print(input_fn)\n",
    "DT=compute_DT(df,round_t_to_n_digits=3);print(f\"the time resolution is {DT} ms.\")\n",
    "\n",
    "\n",
    "trgt='log.csv'\n",
    "assert(file[-len(trgt):]==trgt)\n",
    "\n",
    "file_name_list=get_all_files_matching_pattern(file,trgt)\n",
    "print(f\"number of files in list: {len(file_name_list)}\")\n",
    "os.chdir(nb_dir)"
   ]
  },
  {
   "cell_type": "code",
   "execution_count": 12,
   "metadata": {
    "ExecuteTime": {
     "end_time": "2021-06-22T20:57:37.791378Z",
     "start_time": "2021-06-22T20:57:22.446973Z"
    }
   },
   "outputs": [
    {
     "name": "stdout",
     "output_type": "stream",
     "text": [
      "Frame 18418: 2 trajectories present.\n"
     ]
    }
   ],
   "source": [
    "#generate trajectories, unwrapped trajectories, and mean squared displacements for folder of tip logs\n",
    "ds=5\n",
    "width=200\n",
    "kwargs={\n",
    "    'input_fn_lst':file_name_list,\n",
    "    'L':width,\n",
    "    'DS':ds/width,\n",
    "    'use_cache_0':True,\n",
    "    'use_cache_1':True,\n",
    "    'npartitions':12,\n",
    "    'sr':600,\n",
    "    'mem':0\n",
    "}\n"
   ]
  },
  {
   "cell_type": "code",
   "execution_count": 18,
   "metadata": {
    "ExecuteTime": {
     "end_time": "2021-06-22T21:18:27.897444Z",
     "start_time": "2021-06-22T21:12:23.042372Z"
    }
   },
   "outputs": [
    {
     "name": "stdout",
     "output_type": "stream",
     "text": [
      "Frame 13406: 6 trajectories present.\n"
     ]
    }
   ],
   "source": [
    "retval=run_routine_log_to_unwrapped_trajectory(input_file_name=file,use_cache=True, **kwargs)"
   ]
  },
  {
   "cell_type": "code",
   "execution_count": 19,
   "metadata": {
    "ExecuteTime": {
     "end_time": "2021-06-22T21:18:44.249520Z",
     "start_time": "2021-06-22T21:18:43.614754Z"
    }
   },
   "outputs": [
    {
     "data": {
      "text/plain": [
       "'/home/timothytyree/Documents/GitHub/care/notebooks/Data/initial-conditions-suite-3-LR/param_qu_tmax_30_Ko_5.4_diffCoef_0.0005_dt_0.5/trajectories_unwrap/ic001.21_traj_sr_600_mem_0_unwrap.csv'"
      ]
     },
     "execution_count": 19,
     "metadata": {},
     "output_type": "execute_result"
    }
   ],
   "source": [
    "#TODO: generate annihilation/creation events for folder of trajectories\n",
    "beep(3)\n",
    "retval"
   ]
  },
  {
   "cell_type": "code",
   "execution_count": null,
   "metadata": {},
   "outputs": [],
   "source": [
    "df_summary=workflow_reduce_logs_to_diffcoeff_summary(**kwargs)\n",
    "beep(7)"
   ]
  },
  {
   "cell_type": "code",
   "execution_count": null,
   "metadata": {},
   "outputs": [],
   "source": [
    "min_duration=20. #ms\n",
    "min_range   =1.  #cm\n",
    "\n",
    "kwargs={\n",
    "    'width':width,\n",
    "    'height':height,\n",
    "    'ds':ds,\n",
    "    'printing':False,\n",
    "    'min_range':min_range,\n",
    "    'min_duration':min_duration,\n",
    "}\n",
    "routine_traj_to_creation=get_routine_traj_to_creation(**kwargs)\n",
    "\n",
    "def routine(input_fn):\n",
    "    return routine_traj_to_creation(input_fn)"
   ]
  },
  {
   "cell_type": "code",
   "execution_count": 3,
   "metadata": {
    "ExecuteTime": {
     "end_time": "2021-01-25T02:02:42.748600Z",
     "start_time": "2021-01-25T02:02:42.733700Z"
    }
   },
   "outputs": [],
   "source": [
    "# make unwrapped trajectory for file_name_list\n",
    "# run_routine_log_to_msd\n",
    "# # b = db.from_sequence(file_name_list[:2], npartitions=2).map(run_routine_log_to_msd)\n",
    "# b = db.from_sequence(file_name_list, npartitions=2).map(run_routine_log_to_msd)\n",
    "# start = time.time()\n",
    "# retval = list(b)\n",
    "# print(f\"run time for generating trajectories from file_name_list: {time.time()-start:.2f} seconds.\")\n",
    "# beep(3)\n",
    "# output_file_name_list=retval\n",
    "# print(len(output_file_name_list))"
   ]
  },
  {
   "cell_type": "code",
   "execution_count": 5,
   "metadata": {
    "ExecuteTime": {
     "end_time": "2021-06-22T20:41:14.601349Z",
     "start_time": "2021-06-22T20:41:14.588475Z"
    }
   },
   "outputs": [],
   "source": [
    "# #compute mean squared displacements, aggregating results\n",
    "# n_tips=1; DT=1.\n",
    "# file_out=output_file_name_list[0]\n",
    "# # file_out='/home/timothytyree/Documents/GitHub/care/notebooks/Data/initial-conditions-suite-2/ds_1_param_set_8/trajectories/ic_200x200.011.11_traj_sr_400_mem_0_unwrap.csv'\n",
    "# # file_out='/home/timothytyree/Documents/GitHub/care/notebooks/Data/initial-conditions-suite-2/ds_2_param_set_8/trajectories/ic_200x200.011.11_traj_sr_400_mem_0_unwrap.csv'\n",
    "# retval=gen_msd_figs(file_out,n_tips, DT)#, V_thresh=0.4)"
   ]
  },
  {
   "cell_type": "code",
   "execution_count": 6,
   "metadata": {
    "ExecuteTime": {
     "end_time": "2021-06-22T20:41:15.320422Z",
     "start_time": "2021-06-22T20:41:15.306767Z"
    }
   },
   "outputs": [],
   "source": [
    "# file_out='/home/timothytyree/Documents/GitHub/care/notebooks/Data/initial-conditions-suite-2/ds_2_param_set_8/trajectories/ic_200x200.011.11_traj_sr_400_mem_0_unwrap.csv'\n",
    "# retval=gen_msd_figs(file_out,n_tips, DT)#, V_thresh=0.4)"
   ]
  },
  {
   "cell_type": "markdown",
   "metadata": {
    "ExecuteTime": {
     "end_time": "2021-01-23T19:31:58.475770Z",
     "start_time": "2021-01-23T19:31:58.435850Z"
    }
   },
   "source": [
    "# (ignore dev) find dag workflow for one trial and give it a caching option\n",
    "- Hint: use os.path.exists(fn)"
   ]
  },
  {
   "cell_type": "code",
   "execution_count": 7,
   "metadata": {
    "ExecuteTime": {
     "end_time": "2021-06-22T20:41:18.720310Z",
     "start_time": "2021-06-22T20:41:18.707310Z"
    },
    "run_control": {
     "marked": true
    }
   },
   "outputs": [],
   "source": [
    "#TODO: make a function that _for one trial_folder_ computes all analysis steps from tracking to diffcoeff output\n",
    "##################\n",
    "# Scrum: 1.23.2021\n",
    "##################\n",
    "#TODO: make a function that _for one trial_folder_ computes all analysis steps from tracking to diffcoeff output\n",
    "#TODO: give ^this function a kwarg option use_cached_files=True, that looks for files already existing \n",
    "#TODO: make a function that computes all analysis steps from tracking to diffcoeff table\n",
    "#TODO: give ^this function a kwarg option use_cached_files=True, that looks for files already existing \n",
    "#TODO(later): make viewer for data, where I give a trial_folder and it shows me all the plots for it"
   ]
  },
  {
   "cell_type": "code",
   "execution_count": 5,
   "metadata": {
    "ExecuteTime": {
     "end_time": "2021-06-22T20:50:02.613091Z",
     "start_time": "2021-06-22T20:50:02.597810Z"
    }
   },
   "outputs": [],
   "source": [
    "# find dag workflow for one trial and give it a caching option\n",
    "# - Hint: use os.path.exists(fn)\n",
    "# msd_fig_gener"
   ]
  },
  {
   "cell_type": "code",
   "execution_count": 2,
   "metadata": {
    "ExecuteTime": {
     "end_time": "2021-01-25T22:49:17.176939Z",
     "start_time": "2021-01-25T22:49:17.159255Z"
    }
   },
   "outputs": [],
   "source": [
    "# def msd_fig_gener(input_file_name,n_tips=1):\n",
    "#     trgt='_unwrap.csv'\n",
    "#     assert(input_file_name[-len(trgt)]==trgt)\n",
    "#     #Generate msd figures for input_file_name\n",
    "#     dirname = os.path.dirname(input_file_name).split('/')[-1]\n",
    "#     folder_name=os.path.dirname(input_file_name)\n",
    "#     save_folder = folder_name.replace(dirname,'msd')\n",
    "#     output_file_name = f\"emsd_longest_by_trial_tips_ntips_{n_tips}.csv\"\n",
    "#     #determine DT\n",
    "#     df=pd.read_csv(input_file_name)\n",
    "#     DT=df.t.head(2).diff().dropna().values[0]\n",
    "#     retval=gen_msd_figs(file_out,n_tips, DT)#, V_thresh=0.4)\n",
    "#     return retval"
   ]
  },
  {
   "cell_type": "code",
   "execution_count": 11,
   "metadata": {
    "ExecuteTime": {
     "end_time": "2021-01-25T02:08:11.872471Z",
     "start_time": "2021-01-25T02:08:11.844424Z"
    }
   },
   "outputs": [
    {
     "data": {
      "text/plain": [
       "1.0"
      ]
     },
     "execution_count": 11,
     "metadata": {},
     "output_type": "execute_result"
    }
   ],
   "source": [
    "# n_tips=1\n",
    "# use_cache=True\n",
    "# input_file_name='/home/timothytyree/Documents/GitHub/care/notebooks/Data/initial-conditions-suite-2/ds_2_param_set_8/trajectories/ic_200x200.011.11_traj_sr_400_mem_0_unwrap.csv'\n",
    "# msd_fig_gener(input_file_name,n_tips)"
   ]
  },
  {
   "cell_type": "code",
   "execution_count": 22,
   "metadata": {
    "ExecuteTime": {
     "end_time": "2021-01-23T21:25:13.104440Z",
     "start_time": "2021-01-23T21:25:13.089257Z"
    }
   },
   "outputs": [],
   "source": [
    "#compute the ensemble mean squared displacements for each trial\n",
    "#determine DT\n",
    "input_file_name=file_name_list[0]\n",
    "df=pd.read_csv(input_file_name)\n",
    "DT=df.t.head(2).diff().dropna().values[0]\n",
    "os.chdir(save_folder)\n",
    "if not use_cache or not os.path.exists(output_file_name):\n",
    "    \n",
    "    output_file_name=generate_msd_figures_routine_for_list(file_name_list, n_tips,DT=DT,put_file_name=None,save_folder=None,**kwargs):\n"
   ]
  },
  {
   "cell_type": "code",
   "execution_count": 19,
   "metadata": {
    "ExecuteTime": {
     "end_time": "2021-01-23T21:23:50.961663Z",
     "start_time": "2021-01-23T21:23:50.934519Z"
    }
   },
   "outputs": [
    {
     "data": {
      "text/plain": [
       "'/home/timothytyree/Documents/GitHub/care/notebooks/Data/initial-conditions-suite-2/ds_2_param_set_8/msd'"
      ]
     },
     "execution_count": 19,
     "metadata": {},
     "output_type": "execute_result"
    }
   ],
   "source": [
    "save_folder"
   ]
  },
  {
   "cell_type": "markdown",
   "metadata": {
    "heading_collapsed": true
   },
   "source": [
    "# define module for diffusion analysis pipeline"
   ]
  },
  {
   "cell_type": "code",
   "execution_count": 6,
   "metadata": {
    "ExecuteTime": {
     "end_time": "2021-06-22T20:50:50.475939Z",
     "start_time": "2021-06-22T20:50:50.435914Z"
    },
    "hidden": true
   },
   "outputs": [
    {
     "data": {
      "text/plain": [
       "<function lib.routines.dag_log_to_msd.run_routine_log_to_unwrapped_trajectory(input_file_name, sr, mem, L, use_cache=True, DS=0.025, **kwargs)>"
      ]
     },
     "execution_count": 6,
     "metadata": {},
     "output_type": "execute_result"
    }
   ],
   "source": [
    "run_routine_log_to_unwrapped_trajectory"
   ]
  },
  {
   "cell_type": "code",
   "execution_count": 7,
   "metadata": {
    "ExecuteTime": {
     "end_time": "2021-06-22T20:50:51.880775Z",
     "start_time": "2021-06-22T20:50:51.845356Z"
    },
    "hidden": true
   },
   "outputs": [
    {
     "data": {
      "text/plain": [
       "<function lib.routines.dag_log_to_msd.dag_a_postprocess(emsd_fn, trial_folder_name, dir_out, **kwargs)>"
      ]
     },
     "execution_count": 7,
     "metadata": {},
     "output_type": "execute_result"
    }
   ],
   "source": [
    "from lib.routines.dag_log_to_msd import *\n",
    "dag_a_postprocess"
   ]
  },
  {
   "cell_type": "code",
   "execution_count": 13,
   "metadata": {
    "ExecuteTime": {
     "end_time": "2021-06-22T20:47:32.038534Z",
     "start_time": "2021-06-22T20:47:32.008074Z"
    },
    "code_folding": [],
    "hidden": true
   },
   "outputs": [],
   "source": [
    "# def run_routine_log_to_unwrapped_trajectory(input_file_name,sr, mem,L,  use_cache=True, DS=0.025, **kwargs):\n",
    "#     '''ic is a .csv file name of a tip log.'''\n",
    "#     traj_fn = os.path.abspath(input_file_name).replace('/Log','/trajectories').replace('log.csv', f'traj_sr_{sr}_mem_{mem}.csv')\n",
    "#     output_file_name = traj_fn.replace('/trajectories','/trajectories_unwrap').replace('.csv',\"_unwrap.csv\")\n",
    "#     if not use_cache or not os.path.exists(traj_fn):\n",
    "#         traj_fn = generate_track_tips_pbc(input_file_name, save_fn=traj_fn,sr=sr,mem=mem, width=L,height=L)#,**kwargs)\n",
    "#     if not use_cache or not os.path.exists(output_file_name):\n",
    "#         retval_ignore = unwrap_trajectories(traj_fn, output_file_name,width=L,height=L,DS=DS)      \n",
    "#     return os.path.abspath(output_file_name)\n",
    "\n",
    "# def run_routine_unwrapped_trajectories_to_diffcoeff_summary(file_name_list,trial_folder_name,L,DS,use_cache=True,n_tips=1,**kwargs):\n",
    "#     '''file_name_list is a list of strings locating files ending in _unwrap.csv'''\n",
    "#     input_file_name=file_name_list[0]\n",
    "#     #determine DT\n",
    "#     df=pd.read_csv(input_file_name)\n",
    "#     DT=df.t.head(2).diff().dropna().values[0]\n",
    "#     dirname = os.path.dirname(input_file_name).split('/')[-1]\n",
    "#     folder_name=os.path.dirname(input_file_name)\n",
    "#     save_folder = folder_name.replace(dirname,'msd')\n",
    "#     emsd_fn = os.path.join(save_folder,f\"emsd_longest_by_trial_tips_ntips_{n_tips}.csv\")\n",
    "#     if not os.path.exists(save_folder):\n",
    "#         os.mkdir(save_folder)\n",
    "#     os.chdir(save_folder)\n",
    "#     if not use_cache or not os.path.exists(emsd_fn):\n",
    "#         #compute the ensemble mean squared displacements for each trial\n",
    "#         emsd_fn=generate_msd_figures_routine_for_list(file_name_list, n_tips, DT=DT,DS=DS,\n",
    "#                                                                output_file_name=emsd_fn,L=L,\n",
    "#                                                                save_folder=save_folder,**kwargs)\n",
    "#     #compute the diffusion coefficient summary\n",
    "#     os.chdir(os.path.dirname(emsd_fn))\n",
    "#     dir_out=os.path.join(save_folder,\"diffcoeff_summary_\"+os.path.basename(emsd_fn))\n",
    "#     if not use_cache or not os.path.exists(dir_out):\n",
    "#         dir_out = dag_a_postprocess(emsd_fn=emsd_fn,\n",
    "#                                 trial_folder_name=trial_folder_name,\n",
    "#                                 dir_out=dir_out,**kwargs)\n",
    "#     return dir_out\n",
    "\n",
    "# def workflow_reduce_logs_to_diffcoeff_summary(input_fn_lst, L,DS,use_cache_0=True,use_cache_1=False, npartitions=2, **kwargs):\n",
    "#     print(f\"the total number of trials recorded is {len(input_fn_lst)}\")\n",
    "#     def routine(fn):\n",
    "#         output_file_name=run_routine_log_to_unwrapped_trajectory(fn, use_cache=use_cache_0,L=L,**kwargs)\n",
    "#         return output_file_name\n",
    "#     b = db.from_sequence(input_fn_lst, npartitions=npartitions).map(routine)\n",
    "#     file_name_list = list(b)\n",
    "#     print(f'reducing {len(file_name_list)} unwrapped trajectories files to a single row describing the diffusion coefficient of spiral tips for that trial...')\n",
    "#     #reduce reduce_logs_to_diffcoeff_summary\n",
    "#     df_out= run_routine_unwrapped_trajectories_to_diffcoeff_summary(file_name_list,use_cache=use_cache_1,DS=DS,L=L,**kwargs)\n",
    "#     return df_out\n",
    "    \n",
    "\n",
    "\n",
    "# def get_all_logs(trial_folder,trial_folder_name):\n",
    "#     cwd=os.getcwd()\n",
    "#     file=f\"{trial_folder}/Log/ic_200x200.001.12_log.csv\"\n",
    "#     trgt='log.csv'\n",
    "#     assert(file[-len(trgt):]==trgt)\n",
    "#     input_fn_lst=get_all_files_matching_pattern(file,trgt)\n",
    "#     # print(len(input_fn_lst))\n",
    "#     os.chdir(cwd)\n",
    "#     return input_fn_lst\n",
    "\n",
    "# def gen_diffcoeff_summary(trial_folder_name,L,DS,ic_suite_fn,**kwargs):\n",
    "#     #find all log files for each trial folder\n",
    "#     trial_folder=f\"{ic_suite_fn}/{trial_folder_name}\"\n",
    "#     input_fn_lst= get_all_logs(trial_folder,trial_folder_name)\n",
    "#     print(f\"{trial_folder_name} contains {len(input_fn_lst)} tip logs\")\n",
    "#     #reduce that trial folder to a single diffusion coefficient row\n",
    "#     diffcoeff_summary_fn=workflow_reduce_logs_to_diffcoeff_summary(\n",
    "#         input_fn_lst,L=L,DS=DS,trial_folder_name=trial_folder_name,\n",
    "#         use_cache_0=True,**kwargs)\n",
    "#     return diffcoeff_summary_fn\n",
    "\n",
    "\n",
    "# # def get_all_trial_folders_not_archived(ic_suite_fn):\n",
    "# #     os.chdir(ic_suite_fn)\n",
    "# #     dir_lst=os.listdir()\n",
    "# #     trial_folder_name_lst=[]\n",
    "# #     for dir_run in dir_lst:\n",
    "# #         # dir_run=dir_lst[0]\n",
    "# #         trial_folder_name=dir_run\n",
    "# #         #test if trial_folder_name is not a folder\n",
    "# #         boo  = os.path.isdir(trial_folder_name)\n",
    "# #         #test if trial_folder_name starts with ic\n",
    "# #         boo &=trial_folder_name[:2]!='ic'\n",
    "# #         #test if trial_folder_name contains archiv\n",
    "# #         boo &=trial_folder_name.find('archiv')==-1\n",
    "# #         #if not, append it to the trial_folder_name_lst\n",
    "# #         if boo:\n",
    "# #             trial_folder_name_lst.append(trial_folder_name)\n",
    "# #     return trial_folder_name_lst\n",
    "\n",
    "# # #find all log files for a given trial\n",
    "# # trial_folder_name='ds_5_param_set_3'\n",
    "# # trial_folder=f\"{nb_dir}/Data/initial-conditions-suite-2/{trial_folder_name}\"\n",
    "# # input_fn_lst= get_all_logs(trial_folder,trial_folder_name)\n",
    "# # print(len(input_fn_lst))\n",
    "\n",
    "# #DONE: test workflow_reduce_logs_to_diffcoeff_summary runtime on trial_folder with cached results\n",
    "# # pipeline to run up to an individual data run (workflow_reduce_logs_to_diffcoeff_summary)\n",
    "\n",
    "# def diffcoeff_table_gener(ic_suite_fn,L,DS,trial_folder_name_lst,dict_kwargs_trial,npartitions=2,**kwargs_table):\n",
    "#     #generate the diffusion table\n",
    "#     for trial_folder_name in trial_folder_name_lst:\n",
    "#         kwargs_trial= dict_kwargs_trial[trial_folder_name]\n",
    "#         kwargs_trial.update(kwargs_table)\n",
    "#         print(f'beginning diffusion analysis of {trial_folder_name}...')\n",
    "#         diffcoeff_summary_fn= gen_diffcoeff_summary(trial_folder_name,L=L,ic_suite_fn=ic_suite_fn,npartitions=npartitions,DS=DS,**kwargs_trial)\n",
    "#     #reduce\n",
    "#     retval= gen_diffcoeff_table(ic_suite_fn,trial_folder_name_lst=trial_folder_name_lst,**kwargs_table)\n",
    "#     return retval"
   ]
  },
  {
   "cell_type": "markdown",
   "metadata": {
    "heading_collapsed": true
   },
   "source": [
    "# FK model analysis pipeline"
   ]
  },
  {
   "cell_type": "code",
   "execution_count": 45,
   "metadata": {
    "ExecuteTime": {
     "end_time": "2021-01-26T03:35:13.361679Z",
     "start_time": "2021-01-26T03:35:13.343168Z"
    },
    "hidden": true
   },
   "outputs": [
    {
     "name": "stdout",
     "output_type": "stream",
     "text": [
      "['ds_5_param_set_8_fastkernel_V_0.4', 'ds_5_param_set_4', 'ds_5_param_set_8_og', 'ds_5_param_set_8_fastkernel_V_0.5', 'ds_10_param_set_8_og', 'ds_5_param_set_8_fastkernel_V_0.6', 'ds_1_param_set_8', 'ds_5_param_set_3', 'ds_2_param_set_8']\n"
     ]
    }
   ],
   "source": [
    "ic_suite_fn=f\"{nb_dir}/Data/initial-conditions-suite-2\"\n",
    "trial_folder_name_lst=get_all_trial_folders_not_archived(ic_suite_fn)    \n",
    "#initialize dict_kwargs_trial\n",
    "dict_kwargs_trial={}\n",
    "for fn in trial_folder_name_lst:\n",
    "    dict_kwargs_trial[fn]={}\n",
    "    \n",
    "#add any custom changes to instances of the analysis pipeline\n",
    "dict_kwargs_trial['ds_5_param_set_3']['duration_thresh']=.35\n",
    "# # other parameters of potential interest\n",
    "# tau_min=.15, n_tips=1,DT=1., \n",
    "print(trial_folder_name_lst)"
   ]
  },
  {
   "cell_type": "code",
   "execution_count": 46,
   "metadata": {
    "ExecuteTime": {
     "end_time": "2021-01-26T03:35:13.724263Z",
     "start_time": "2021-01-26T03:35:13.705938Z"
    },
    "hidden": true
   },
   "outputs": [],
   "source": [
    "trial_folder_name_lst=['ds_5_param_set_8_fastkernel_V_0.4','ds_5_param_set_3','ds_5_param_set_4','ds_5_param_set_8_og','ds_10_param_set_8_og']"
   ]
  },
  {
   "cell_type": "code",
   "execution_count": null,
   "metadata": {
    "ExecuteTime": {
     "start_time": "2021-01-26T03:35:14.162Z"
    },
    "hidden": true
   },
   "outputs": [
    {
     "name": "stdout",
     "output_type": "stream",
     "text": [
      "Frame 300000: 19 trajectories present.\n"
     ]
    }
   ],
   "source": [
    "retval= diffcoeff_table_gener(ic_suite_fn,trial_folder_name_lst,dict_kwargs_trial,npartitions=2)\n",
    "\n",
    "beep(10)\n",
    "print(f\"retval is {retval}\")"
   ]
  },
  {
   "cell_type": "code",
   "execution_count": null,
   "metadata": {
    "ExecuteTime": {
     "end_time": "2021-01-25T19:10:22.157224Z",
     "start_time": "2021-01-25T16:51:13.601Z"
    },
    "hidden": true
   },
   "outputs": [],
   "source": [
    "# diffcoeff_summary_fn= gen_diffcoeff_summary(trial_folder_name,ic_suite_fn,**kwargs_trial)\n"
   ]
  },
  {
   "cell_type": "code",
   "execution_count": 114,
   "metadata": {
    "ExecuteTime": {
     "end_time": "2021-01-24T01:48:21.839951Z",
     "start_time": "2021-01-24T01:48:21.819642Z"
    },
    "hidden": true
   },
   "outputs": [
    {
     "data": {
      "text/plain": [
       "'ds_2_param_set_8'"
      ]
     },
     "execution_count": 114,
     "metadata": {},
     "output_type": "execute_result"
    }
   ],
   "source": [
    "#DONE: test workflow_reduce_logs_to_diffcoeff_summary runtime on trial_folder with cached results\n",
    "# pipeline to run up to an individual data run (workflow_reduce_logs_to_diffcoeff_summary)\n",
    "\n",
    "# # def gener_diffcoeff_table(ic_suite_fn,trial_folder_name_lst,**kwargs):\n",
    "# #TODO: generate the diffusion table\n",
    "# for trial_folder_name in trial_folder_name_lst:\n",
    "#     kwargs_trial= dict_kwargs_trial[trial_folder_name]\n",
    "#     print(f'beginning diffusion analysis of {trial_folder_name}...')\n",
    "#     diffcoeff_summary_fn= gen_diffcoeff_summary(trial_folder_name,ic_suite_fn,npartitions=6,**kwargs_trial)\n"
   ]
  },
  {
   "cell_type": "markdown",
   "metadata": {
    "heading_collapsed": true
   },
   "source": [
    "# LR model analysis pipeline"
   ]
  },
  {
   "cell_type": "code",
   "execution_count": 10,
   "metadata": {
    "ExecuteTime": {
     "end_time": "2021-03-12T17:46:44.757979Z",
     "start_time": "2021-03-12T17:46:19.135181Z"
    },
    "hidden": true
   },
   "outputs": [
    {
     "name": "stdout",
     "output_type": "stream",
     "text": [
      "please select a (local) log file\n",
      "File: /home/timothytyree/Documents/GitHub/care/notebooks/Data/initial-conditions-suite-3-LR/param_qu_tmax_30_Ko_50_diffCoef_0.001/Log/ic001.13_log.csv\n"
     ]
    }
   ],
   "source": [
    "print('please select a (local) log file')\n",
    "file=search_for_file()"
   ]
  },
  {
   "cell_type": "code",
   "execution_count": 11,
   "metadata": {
    "ExecuteTime": {
     "end_time": "2021-03-12T17:46:50.609470Z",
     "start_time": "2021-03-12T17:46:50.583698Z"
    },
    "hidden": true
   },
   "outputs": [],
   "source": [
    "# file='/home/timothytyree/Documents/GitHub/care/notebooks/Data/initial-conditions-suite-3-LR/param_qu_tmax_30_Ko_3.8/Log/ic001.13_log.csv'"
   ]
  },
  {
   "cell_type": "code",
   "execution_count": 8,
   "metadata": {
    "ExecuteTime": {
     "end_time": "2021-06-22T20:51:04.285515Z",
     "start_time": "2021-06-22T20:51:04.269580Z"
    },
    "hidden": true
   },
   "outputs": [
    {
     "data": {
      "text/plain": [
       "'param_qu_tmax_30_Ko_5.4_diffCoef_0.0005_dt_0.5'"
      ]
     },
     "execution_count": 8,
     "metadata": {},
     "output_type": "execute_result"
    }
   ],
   "source": [
    "trial_folder=os.path.basename(os.path.dirname(os.path.dirname(file)))\n",
    "trial_folder"
   ]
  },
  {
   "cell_type": "code",
   "execution_count": null,
   "metadata": {
    "hidden": true
   },
   "outputs": [],
   "source": []
  },
  {
   "cell_type": "code",
   "execution_count": 9,
   "metadata": {
    "ExecuteTime": {
     "end_time": "2021-06-22T20:51:10.305716Z",
     "start_time": "2021-06-22T20:51:10.286413Z"
    },
    "hidden": true
   },
   "outputs": [
    {
     "name": "stdout",
     "output_type": "stream",
     "text": [
      "['param_qu_tmax_30_Ko_3.8_diffCoef_0.00075', 'ds_5_param_qu_tmax_30_Ko_7.0_diffCoef_0.001', 'param_qu_tmax_30_Ko_5.4_diffCoef_0.0005_dt_0.025', 'ds_5_param_qu_tmax_1', 'ds_2_param_qu_tmax_10', 'sv', 'ds_5_param_qu_tmax_1_deprec_V_-60.', 'param_qu_tmax_30_Ko_3.8_diffCoef_0.001', 'ds_5_param_qu_tmax_10_Ko_5.4', 'ds_5_param_qu_tmax_10_Ko_7', 'ds_7.5_param_qu_tmax_30', 'param_qu_tmax_30_Ko_5.4_diffCoef_0.0005_dt_0.5', 'param_qu_tmax_30', 'ds_5_param_qu_tmax_30_Ko_5.4_diffCoef_0.001', 'ds_10_param_qu_tmax_30', 'param_qu_tmax_30_Ko_3.8_diffCoef_0.0005', 'ds_5_param_qu_tmax_10', 'param_qu_tmax_30_Ko_50_diffCoef_0.001']\n"
     ]
    }
   ],
   "source": [
    "ic_suite_fn=os.path.dirname(os.path.dirname(os.path.dirname(file)))\n",
    "# ic_suite_fn=f\"{nb_dir}/Data/initial-conditions-suite-3-LR\"\n",
    "trial_folder_name_lst=get_all_trial_folders_not_archived(ic_suite_fn)    \n",
    "#initialize dict_kwargs_trial\n",
    "dict_kwargs_trial={}\n",
    "for fn in trial_folder_name_lst:\n",
    "    dict_kwargs_trial[fn]={}\n",
    "    \n",
    "#add any custom changes to instances of the analysis pipeline\n",
    "# dict_kwargs_trial['ds_5_param_set_3']['duration_thresh']=.35\n",
    "# # other parameters of potential interest\n",
    "# tau_min=.15, n_tips=1,DT=1., \n",
    "print(trial_folder_name_lst)"
   ]
  },
  {
   "cell_type": "code",
   "execution_count": 19,
   "metadata": {
    "ExecuteTime": {
     "end_time": "2021-03-12T17:48:12.174148Z",
     "start_time": "2021-03-12T17:48:12.151294Z"
    },
    "hidden": true
   },
   "outputs": [],
   "source": [
    "# trial_folder_name_lst=['ds_7.5_param_qu_tmax_30']#'ds_5_param_qu_tmax_10_Ko_7','ds_5_param_qu_tmax_30_Ko_5.4']\n",
    "# trial_folder_name_lst=['ds_5_param_qu_tmax_10',\n",
    "# trial_folder_name_lst=['ds_5_param_qu_tmax_30_Ko_5.4']\n",
    "# trial_folder_name_lst=['ds_5_param_qu_tmax_30_Ko_7.0', 'ds_7.5_param_qu_tmax_30', 'ds_10_param_qu_tmax_30','ds_5_param_qu_tmax_30_Ko_5.4']\n",
    "# trial_folder_name_lst=['param_qu_tmax_30_Ko_3.8']\n",
    "# trial_folder_name_lst=[ 'param_qu_tmax_30_Ko_3.8_diffCoef_0.0005','param_qu_tmax_30_Ko_3.8_diffCoef_0.00075']\n",
    "trial_folder_name_lst=[trial_folder]"
   ]
  },
  {
   "cell_type": "code",
   "execution_count": 20,
   "metadata": {
    "ExecuteTime": {
     "end_time": "2021-03-12T17:59:51.822444Z",
     "start_time": "2021-03-12T17:48:36.419594Z"
    },
    "hidden": true
   },
   "outputs": [
    {
     "name": "stdout",
     "output_type": "stream",
     "text": [
      "Frame 1888: 2 trajectories present.\n",
      "reducing 158 unwrapped trajectories files to a single row describing the diffusion coefficient of spiral tips for that trial...\n",
      "Num. file names in list = 158.\n",
      "ValueError: No objects to concatenate\n",
      "\ttrial that failed: ic018.23_traj_sr_600_mem_0_unwrap.csv\n",
      "saved figure in \n",
      "\t/home/timothytyree/Documents/GitHub/care/notebooks/Data/initial-conditions-suite-3-LR/param_qu_tmax_30_Ko_50_diffCoef_0.001/msd/fig\n",
      "saved figure in \n",
      "\t/home/timothytyree/Documents/GitHub/care/notebooks/Data/initial-conditions-suite-3-LR/param_qu_tmax_30_Ko_50_diffCoef_0.001/msd/fig\n",
      "saved figure in \n",
      "\t/home/timothytyree/Documents/GitHub/care/notebooks/Data/initial-conditions-suite-3-LR/param_qu_tmax_30_Ko_50_diffCoef_0.001/msd/fig\n",
      "generating diffcoeff_figures for param_qu_tmax_30_Ko_50_diffCoef_0.001\n",
      "\tnum. trials that didn't show a tip lasing longer than 0ms is 0, and that didn't show am Rsquared of at least 0.0 is 12\n",
      "saved diffcoeff_summary to /home/timothytyree/Documents/GitHub/care/notebooks/Data/initial-conditions-suite-3-LR/param_qu_tmax_30_Ko_50_diffCoef_0.001/msd\n",
      "the total number of trials considered in summary is 157\n",
      "generating diffcoeff_figures for param_qu_tmax_30_Ko_50_diffCoef_0.001\n",
      "\tnum. trials that didn't show a tip lasing longer than 150ms is 0, and that didn't show am Rsquared of at least 0.0 is 12\n",
      "saved diffcoeff_summary to \n",
      "the total number of trials considered in summary is 157\n",
      "retval is ['diffcoeff_summary_diffcoeff_emsd_longest_by_trial_tips_ntips_1_Tmin_0.0_Tmax_0.5.csv']\n"
     ]
    }
   ],
   "source": [
    "retval= diffcoeff_table_gener(ic_suite_fn=ic_suite_fn,trial_folder_name_lst=trial_folder_name_lst,\n",
    "                              dict_kwargs_trial=dict_kwargs_trial,L=200,\n",
    "                              npartitions=9, use_cache_1=True, R2_thresh=0.0,duration_thresh=.0, tau_min=0.,\n",
    "                             sr=600,mem=0,DS=0.025)#width=200,height=200\n",
    "beep(2)\n",
    "print(f\"retval is {retval}\")"
   ]
  },
  {
   "cell_type": "code",
   "execution_count": null,
   "metadata": {
    "ExecuteTime": {
     "end_time": "2021-03-02T20:41:31.797850Z",
     "start_time": "2021-03-02T20:41:31.735Z"
    },
    "hidden": true
   },
   "outputs": [],
   "source": [
    "#add any custom changes to instances of the analysis pipeline\n",
    "# dict_kwargs_trial['ds_5_param_set_3']['duration_thresh']=.35\n",
    "# # other parameters of potential interest\n",
    "# tau_min=.15, n_tips=1,DT=1., \n",
    "\n",
    "# diffcoeff_summary_fn= gen_diffcoeff_summary(trial_folder_name,ic_suite_fn,**kwargs_trial)"
   ]
  },
  {
   "cell_type": "code",
   "execution_count": 13,
   "metadata": {
    "ExecuteTime": {
     "end_time": "2021-03-02T20:24:24.012938Z",
     "start_time": "2021-03-02T20:24:23.993680Z"
    },
    "hidden": true
   },
   "outputs": [
    {
     "ename": "NameError",
     "evalue": "name 'save_folder' is not defined",
     "output_type": "error",
     "traceback": [
      "\u001b[0;31m---------------------------------------------------------------------------\u001b[0m",
      "\u001b[0;31mNameError\u001b[0m                                 Traceback (most recent call last)",
      "\u001b[0;32m<ipython-input-13-e4127b24d799>\u001b[0m in \u001b[0;36m<module>\u001b[0;34m\u001b[0m\n\u001b[1;32m      1\u001b[0m \u001b[0;31m#bare combine diffcoeff_summaries\u001b[0m\u001b[0;34m\u001b[0m\u001b[0;34m\u001b[0m\u001b[0;34m\u001b[0m\u001b[0m\n\u001b[1;32m      2\u001b[0m \u001b[0;31m# os.chdir(os.path.dirname(emsd_fn))\u001b[0m\u001b[0;34m\u001b[0m\u001b[0;34m\u001b[0m\u001b[0;34m\u001b[0m\u001b[0m\n\u001b[0;32m----> 3\u001b[0;31m \u001b[0mdir_out\u001b[0m\u001b[0;34m=\u001b[0m\u001b[0mos\u001b[0m\u001b[0;34m.\u001b[0m\u001b[0mpath\u001b[0m\u001b[0;34m.\u001b[0m\u001b[0mjoin\u001b[0m\u001b[0;34m(\u001b[0m\u001b[0msave_folder\u001b[0m\u001b[0;34m,\u001b[0m\u001b[0;34m\"diffcoeff_summary_\"\u001b[0m\u001b[0;34m+\u001b[0m\u001b[0mos\u001b[0m\u001b[0;34m.\u001b[0m\u001b[0mpath\u001b[0m\u001b[0;34m.\u001b[0m\u001b[0mbasename\u001b[0m\u001b[0;34m(\u001b[0m\u001b[0memsd_fn\u001b[0m\u001b[0;34m)\u001b[0m\u001b[0;34m)\u001b[0m\u001b[0;34m\u001b[0m\u001b[0;34m\u001b[0m\u001b[0m\n\u001b[0m\u001b[1;32m      4\u001b[0m \u001b[0;31m# if not use_cache or not os.path.exists(dir_out):\u001b[0m\u001b[0;34m\u001b[0m\u001b[0;34m\u001b[0m\u001b[0;34m\u001b[0m\u001b[0m\n\u001b[1;32m      5\u001b[0m dir_out = dag_a_postprocess(emsd_fn=emsd_fn,\n",
      "\u001b[0;31mNameError\u001b[0m: name 'save_folder' is not defined"
     ]
    }
   ],
   "source": [
    "#bare combine diffcoeff_summaries\n",
    "# os.chdir(os.path.dirname(emsd_fn))\n",
    "dir_out=os.path.join(save_folder,\"diffcoeff_summary_\"+os.path.basename(emsd_fn))\n",
    "# if not use_cache or not os.path.exists(dir_out):\n",
    "dir_out = dag_a_postprocess(emsd_fn=emsd_fn,\n",
    "                        trial_folder_name=trial_folder_name,\n",
    "                        dir_out=dir_out,**kwargs)"
   ]
  },
  {
   "cell_type": "markdown",
   "metadata": {
    "heading_collapsed": true
   },
   "source": [
    "# use functions from care_worker to track spiral tips"
   ]
  },
  {
   "cell_type": "code",
   "execution_count": 31,
   "metadata": {
    "ExecuteTime": {
     "end_time": "2021-02-11T23:28:41.750622Z",
     "start_time": "2021-02-11T23:28:23.235333Z"
    },
    "hidden": true
   },
   "outputs": [
    {
     "name": "stdout",
     "output_type": "stream",
     "text": [
      "File: /home/timothytyree/Documents/GitHub/care/notebooks/Data/initial-conditions-lr-300x300/param_qu_tmax_30/Log/ic300x300.0.2_log.csv\n"
     ]
    },
    {
     "ename": "TypeError",
     "evalue": "generate_track_tips_pbc() missing 4 required positional arguments: 'mem', 'sr', 'width', and 'height'",
     "output_type": "error",
     "traceback": [
      "\u001b[0;31m---------------------------------------------------------------------------\u001b[0m",
      "\u001b[0;31mTypeError\u001b[0m                                 Traceback (most recent call last)",
      "\u001b[0;32m<ipython-input-31-b682f8d46a8d>\u001b[0m in \u001b[0;36m<module>\u001b[0;34m\u001b[0m\n\u001b[1;32m      1\u001b[0m \u001b[0minput_file_name\u001b[0m \u001b[0;34m=\u001b[0m \u001b[0msearch_for_file\u001b[0m\u001b[0;34m(\u001b[0m\u001b[0;34m)\u001b[0m\u001b[0;34m\u001b[0m\u001b[0;34m\u001b[0m\u001b[0m\n\u001b[1;32m      2\u001b[0m \u001b[0;31m# \"/home/timothytyree/Documents/GitHub/care/notebooks/Data/initial-conditions-suite-2/ds_5_param_set_8_fastkernel_V_0.4_archive/Log/ic_200x200.001.11_log.csv\"\u001b[0m\u001b[0;34m\u001b[0m\u001b[0;34m\u001b[0m\u001b[0;34m\u001b[0m\u001b[0m\n\u001b[0;32m----> 3\u001b[0;31m \u001b[0moutput_file_name\u001b[0m \u001b[0;34m=\u001b[0m \u001b[0mpreprocess_log\u001b[0m\u001b[0;34m(\u001b[0m\u001b[0minput_file_name\u001b[0m\u001b[0;34m)\u001b[0m\u001b[0;34m\u001b[0m\u001b[0;34m\u001b[0m\u001b[0m\n\u001b[0m\u001b[1;32m      4\u001b[0m \u001b[0;34m\u001b[0m\u001b[0m\n\u001b[1;32m      5\u001b[0m \u001b[0;34m\u001b[0m\u001b[0m\n",
      "\u001b[0;32m~/Documents/GitHub/care/notebooks/lib/routines/compute_msd.py\u001b[0m in \u001b[0;36mpreprocess_log\u001b[0;34m(input_file_name)\u001b[0m\n\u001b[1;32m    105\u001b[0m     \u001b[0;31m#track tips for given input file\u001b[0m\u001b[0;34m\u001b[0m\u001b[0;34m\u001b[0m\u001b[0;34m\u001b[0m\u001b[0m\n\u001b[1;32m    106\u001b[0m \u001b[0;34m\u001b[0m\u001b[0m\n\u001b[0;32m--> 107\u001b[0;31m     \u001b[0moutput_file_name\u001b[0m \u001b[0;34m=\u001b[0m \u001b[0mgenerate_track_tips_pbc\u001b[0m\u001b[0;34m(\u001b[0m\u001b[0minput_file_name\u001b[0m\u001b[0;34m,\u001b[0m \u001b[0msave_fn\u001b[0m\u001b[0;34m=\u001b[0m\u001b[0;32mNone\u001b[0m\u001b[0;34m)\u001b[0m\u001b[0;34m\u001b[0m\u001b[0;34m\u001b[0m\u001b[0m\n\u001b[0m\u001b[1;32m    108\u001b[0m     \u001b[0;32mreturn\u001b[0m \u001b[0moutput_file_name\u001b[0m\u001b[0;34m\u001b[0m\u001b[0;34m\u001b[0m\u001b[0m\n\u001b[1;32m    109\u001b[0m \u001b[0;34m\u001b[0m\u001b[0m\n",
      "\u001b[0;31mTypeError\u001b[0m: generate_track_tips_pbc() missing 4 required positional arguments: 'mem', 'sr', 'width', and 'height'"
     ]
    }
   ],
   "source": [
    "input_file_name = search_for_file()\n",
    "# \"/home/timothytyree/Documents/GitHub/care/notebooks/Data/initial-conditions-suite-2/ds_5_param_set_8_fastkernel_V_0.4_archive/Log/ic_200x200.001.11_log.csv\"\n",
    "output_file_name = preprocess_log(input_file_name)\n",
    "\n",
    "\n",
    "#select the longest n trajectories\n",
    "n_tips = 1#15\n",
    "s = df.groupby('particle').t.count()\n",
    "s = s.sort_values(ascending=False)\n",
    "pid_longest_lst = list(s.index.values[:n_tips])\n",
    "# d = df[df.particle==pid_longest]\n",
    "# print(pid_longest)\n",
    "# print(s.head())\n",
    "# pid_longest_lst = s.head(n_tips).values\n",
    "df_traj = pd.concat([df[df.particle==pid] for pid in pid_longest_lst])\n",
    "assert ( (np.array(sorted(set(df_traj['particle'].values)))==np.array(sorted(pid_longest_lst))).all())\n",
    "\n"
   ]
  },
  {
   "cell_type": "code",
   "execution_count": null,
   "metadata": {
    "ExecuteTime": {
     "end_time": "2021-01-26T20:40:28.643495Z",
     "start_time": "2021-01-26T20:40:28.631745Z"
    },
    "hidden": true
   },
   "outputs": [],
   "source": []
  },
  {
   "cell_type": "markdown",
   "metadata": {
    "heading_collapsed": true
   },
   "source": [
    "# define function that takes a folder of care_worker output and returns a df where each trial is represented no more than 1 time\n"
   ]
  },
  {
   "cell_type": "code",
   "execution_count": 6,
   "metadata": {
    "ExecuteTime": {
     "end_time": "2021-02-18T02:16:18.244450Z",
     "start_time": "2021-02-18T02:15:41.994414Z"
    },
    "hidden": true
   },
   "outputs": [],
   "source": [
    "file=search_for_file()"
   ]
  },
  {
   "cell_type": "code",
   "execution_count": 9,
   "metadata": {
    "ExecuteTime": {
     "end_time": "2021-02-25T22:03:04.741504Z",
     "start_time": "2021-02-25T22:03:04.675091Z"
    },
    "hidden": true
   },
   "outputs": [],
   "source": [
    "# log_folder=\"/Users/timothytyree/Documents/GitHub/care_worker/python/Log\"\n",
    "log_folder='/home/timothytyree/Documents/GitHub/care_worker/python/osg_output/Log'\n",
    "os.chdir(log_folder)"
   ]
  },
  {
   "cell_type": "code",
   "execution_count": 10,
   "metadata": {
    "ExecuteTime": {
     "end_time": "2021-02-25T22:03:05.453249Z",
     "start_time": "2021-02-25T22:03:05.387757Z"
    },
    "hidden": true
   },
   "outputs": [
    {
     "name": "stdout",
     "output_type": "stream",
     "text": [
      "the number of output files in folder is 0.\n"
     ]
    }
   ],
   "source": [
    "input_fn_lst=[os.path.abspath(fn) for fn in os.listdir() if fn.find('job.out.')!=-1]\n",
    "print(f\"the number of output files in folder is {len(input_fn_lst)}.\")"
   ]
  },
  {
   "cell_type": "code",
   "execution_count": 11,
   "metadata": {
    "ExecuteTime": {
     "end_time": "2021-02-25T22:03:06.327675Z",
     "start_time": "2021-02-25T22:03:06.271754Z"
    },
    "hidden": true
   },
   "outputs": [],
   "source": [
    "\n",
    "# df.head()"
   ]
  },
  {
   "cell_type": "code",
   "execution_count": 11,
   "metadata": {
    "ExecuteTime": {
     "end_time": "2021-02-18T02:18:47.414843Z",
     "start_time": "2021-02-18T02:18:47.368614Z"
    },
    "hidden": true
   },
   "outputs": [],
   "source": [
    "# def read_inputs(line,trgt_lst):\n",
    "#     input_lst=[]\n",
    "#     for trgt in trgt_lst:\n",
    "#         i=line.find(trgt)\n",
    "#         l=len(trgt)\n",
    "#         val=eval(line[i+l:].split(',')[0])\n",
    "#         input_lst.append(val)\n",
    "#     return input_lst\n",
    "\n",
    "import re\n",
    "def parse_inputs(line):\n",
    "    result_keys = re.findall(r'\\S+=', line)\n",
    "    result_values = re.findall(r'=\\d+', line) \n",
    "    if len(result_values)==0:\n",
    "        pass\n",
    "        #     return None\n",
    "    input_dict={}\n",
    "    for k,v in zip(result_keys,result_values):\n",
    "        key=k.split('=')[0].split(',')[-1]\n",
    "        value=eval(v.split('=')[-1])\n",
    "        input_dict[key]=value\n",
    "    return input_dict\n",
    "\n",
    "def next_line(f):\n",
    "    yield f.readline()\n",
    "\n",
    "def parse_input_params(input_fn):\n",
    "    line_no=0\n",
    "    #read through until the outputs starts\n",
    "    with open(input_fn) as f:\n",
    "        for line in f:\n",
    "            line_no+=1\n",
    "            input_dict=parse_inputs(line)\n",
    "            if len(list(input_dict))>0: \n",
    "                found_output=True\n",
    "                return line_no, input_dict\n",
    "    return -1,{}\n"
   ]
  },
  {
   "cell_type": "code",
   "execution_count": 12,
   "metadata": {
    "ExecuteTime": {
     "end_time": "2021-02-18T02:18:48.392712Z",
     "start_time": "2021-02-18T02:18:48.364149Z"
    },
    "hidden": true
   },
   "outputs": [],
   "source": [
    "def parse_input_fn(input_fn):\n",
    "    printing=False\n",
    "    line_no, input_dict=parse_input_params(input_fn)\n",
    "    found_output=line_no!=-1\n",
    "    if found_output and printing:\n",
    "        print(f'the inputs found on line {line_no} were {input_dict}.')\n",
    "    try:\n",
    "        #         print(line_no)\n",
    "        df=pd.read_csv(input_fn,header=line_no+1,delim_whitespace=True).astype({'n':int})\n",
    "    except Exception:\n",
    "        #only 1 line found in file, input_fn, skip\n",
    "        return None\n",
    "    \n",
    "    df.drop(columns=['index'],inplace=True)\n",
    "    df\n",
    "    #reset frame number to start at zero\n",
    "    df['frame']=df['frame']-df['frame'].values[0]\n",
    "    #updating df...\n",
    "    for k in input_dict.keys():\n",
    "        df[k]=input_dict[k]\n",
    "\n",
    "    index_labels=[\"L\",\"txt_id1\",\"txt_id2\"]\n",
    "    column_labels=[\"frame\",\"x\",\"y\",\"particle\",\"n\",\"grad_ux\",\"grad_uy\",\"grad_vx\",\"grad_vy\"]\n",
    "    df.set_index(keys=index_labels,inplace=True)#, columns=column_labels)\n",
    "    # df=df[column_labels]\n",
    "    return df"
   ]
  },
  {
   "cell_type": "code",
   "execution_count": 13,
   "metadata": {
    "ExecuteTime": {
     "end_time": "2021-02-18T02:18:49.004016Z",
     "start_time": "2021-02-18T02:18:48.976580Z"
    },
    "hidden": true
   },
   "outputs": [],
   "source": [
    "def return_df_updated_with_input_folder(input_fn_lst):#,df=None):\n",
    "    \"\"\"    returns df with this schema,\n",
    "    multindex L|txt_id1|txt_id2|frame|particle\n",
    "    and columns frame,x,y,n,t,grad_ux,grad_uy,grad_vx,grad_vy,particle\n",
    "    input_fn='/Users/timothytyree/Documents/GitHub/care_worker/python/Log/job.out.8051248.703'\n",
    "    \"\"\"\n",
    "    K12_index_set={}\n",
    "    df_lst=[]\n",
    "#     if df is None:\n",
    "#         del df\n",
    "    for input_fn in input_fn_lst:\n",
    "        retval= parse_input_fn(input_fn)\n",
    "        # df.unstack(1).unstack(1).head()\n",
    "        if retval is not None:\n",
    "            # TODO(optional for faster runtime): update a df_out only if it does not yet contain input_dict\n",
    "            # TODO(optional test): assert that whenever an output is repeated, \n",
    "            # that their results are equal (to floating point precision)\n",
    "            =retval.index.values[0][:3]\n",
    "            src=\"{}_{}_{}\".format(*K12_index)\n",
    "            retval['src']=src\n",
    "            #count if K12_index exists in the set of current index values\n",
    "            try:\n",
    "                K12_index_set[K12_index]+=1\n",
    "            except KeyError:\n",
    "                #then add K12_index to the set\n",
    "                K12_index_set[K12_index]=0\n",
    "                # K12_index_set.update({K12_index:0})\n",
    "                df_lst.append(retval)\n",
    "                print(f\"the src={src} spiral tip lasted {retval.t.max()-retval.t.min()} ms.\")\n",
    "    print(K12_index_set)\n",
    "    return df_lst,K12_index_set"
   ]
  },
  {
   "cell_type": "code",
   "execution_count": 14,
   "metadata": {
    "ExecuteTime": {
     "end_time": "2021-02-18T02:19:13.197486Z",
     "start_time": "2021-02-18T02:19:01.053317Z"
    },
    "hidden": true
   },
   "outputs": [
    {
     "name": "stdout",
     "output_type": "stream",
     "text": [
      "the src=239_2_0 spiral tip lasted 2074.0 ms.\n",
      "the src=392_2_4 spiral tip lasted 5052.0 ms.\n",
      "the src=267_3_14 spiral tip lasted 4314.0 ms.\n",
      "the src=371_3_1 spiral tip lasted 3516.0 ms.\n",
      "the src=371_1_5 spiral tip lasted 6032.0 ms.\n",
      "the src=307_3_7 spiral tip lasted 3636.0 ms.\n",
      "the src=214_1_37 spiral tip lasted 1660.0 ms.\n",
      "the src=311_2_14 spiral tip lasted 2912.0 ms.\n",
      "the src=434_2_3 spiral tip lasted 4854.0 ms.\n",
      "the src=227_3_19 spiral tip lasted 3740.0 ms.\n",
      "the src=362_3_6 spiral tip lasted 4890.0 ms.\n",
      "the src=291_3_22 spiral tip lasted 3200.0 ms.\n",
      "the src=278_1_12 spiral tip lasted 3262.0 ms.\n",
      "the src=309_3_1 spiral tip lasted 4062.0 ms.\n",
      "the src=498_1_3 spiral tip lasted 4348.0 ms.\n",
      "the src=297_1_17 spiral tip lasted 2284.0 ms.\n",
      "the src=234_3_15 spiral tip lasted 1412.0 ms.\n",
      "the src=228_2_23 spiral tip lasted 1442.0 ms.\n",
      "the src=225_3_33 spiral tip lasted 2704.0 ms.\n",
      "the src=353_0_6 spiral tip lasted 6794.0 ms.\n",
      "the src=430_2_5 spiral tip lasted 5052.0 ms.\n",
      "the src=406_2_0 spiral tip lasted 4776.0 ms.\n",
      "the src=211_2_31 spiral tip lasted 120.0 ms.\n",
      "the src=331_2_10 spiral tip lasted 4192.0 ms.\n",
      "the src=255_0_10 spiral tip lasted 6766.0 ms.\n",
      "the src=386_0_3 spiral tip lasted 3868.0 ms.\n",
      "the src=458_1_0 spiral tip lasted 3750.0 ms.\n",
      "the src=342_2_13 spiral tip lasted 3702.0 ms.\n",
      "the src=288_3_16 spiral tip lasted 1778.0 ms.\n",
      "the src=293_3_2 spiral tip lasted 2288.0 ms.\n",
      "the src=261_0_20 spiral tip lasted 3356.0 ms.\n",
      "the src=295_0_11 spiral tip lasted 1482.0 ms.\n",
      "the src=393_2_0 spiral tip lasted 4094.0 ms.\n",
      "the src=416_1_0 spiral tip lasted 3858.0 ms.\n",
      "the src=477_3_2 spiral tip lasted 6412.0 ms.\n",
      "the src=423_3_6 spiral tip lasted 6570.0 ms.\n",
      "the src=234_1_4 spiral tip lasted 70.0 ms.\n",
      "the src=354_2_1 spiral tip lasted 4634.0 ms.\n",
      "the src=237_1_8 spiral tip lasted 82.0 ms.\n",
      "the src=412_0_8 spiral tip lasted 4004.0 ms.\n",
      "the src=458_3_1 spiral tip lasted 3862.0 ms.\n",
      "the src=214_2_36 spiral tip lasted 796.0 ms.\n",
      "the src=336_1_14 spiral tip lasted 1464.0 ms.\n",
      "the src=332_1_15 spiral tip lasted 4168.0 ms.\n",
      "the src=310_0_6 spiral tip lasted 1188.0 ms.\n",
      "the src=205_2_20 spiral tip lasted 3524.0 ms.\n",
      "the src=401_1_4 spiral tip lasted 6344.0 ms.\n",
      "the src=378_3_0 spiral tip lasted 6752.0 ms.\n",
      "the src=428_0_3 spiral tip lasted 4046.0 ms.\n",
      "the src=408_2_4 spiral tip lasted 5110.0 ms.\n",
      "the src=347_3_10 spiral tip lasted 4836.0 ms.\n",
      "the src=347_0_0 spiral tip lasted 3178.0 ms.\n",
      "the src=233_2_6 spiral tip lasted 2440.0 ms.\n",
      "the src=386_1_7 spiral tip lasted 4282.0 ms.\n",
      "the src=362_1_4 spiral tip lasted 3296.0 ms.\n",
      "the src=328_2_15 spiral tip lasted 272.0 ms.\n",
      "the src=314_1_13 spiral tip lasted 3538.0 ms.\n",
      "the src=404_1_7 spiral tip lasted 4732.0 ms.\n",
      "the src=223_2_46 spiral tip lasted 3540.0 ms.\n",
      "the src=209_1_46 spiral tip lasted 2374.0 ms.\n",
      "the src=367_0_6 spiral tip lasted 4046.0 ms.\n",
      "the src=463_1_2 spiral tip lasted 5592.0 ms.\n",
      "the src=204_2_7 spiral tip lasted 1884.0 ms.\n",
      "the src=403_0_8 spiral tip lasted 4558.0 ms.\n",
      "the src=344_3_4 spiral tip lasted 586.0 ms.\n",
      "the src=329_3_1 spiral tip lasted 4846.0 ms.\n",
      "the src=495_1_0 spiral tip lasted 4988.0 ms.\n",
      "the src=362_3_2 spiral tip lasted 3232.0 ms.\n",
      "the src=222_1_9 spiral tip lasted 82.0 ms.\n",
      "the src=454_1_2 spiral tip lasted 5524.0 ms.\n",
      "the src=249_1_7 spiral tip lasted 550.0 ms.\n",
      "the src=265_0_24 spiral tip lasted 3998.0 ms.\n",
      "the src=400_0_4 spiral tip lasted 5466.0 ms.\n",
      "the src=431_1_3 spiral tip lasted 3694.0 ms.\n",
      "the src=398_0_7 spiral tip lasted 3586.0 ms.\n",
      "the src=385_0_3 spiral tip lasted 3602.0 ms.\n",
      "the src=254_1_13 spiral tip lasted 2838.0 ms.\n",
      "the src=208_0_24 spiral tip lasted 146.0 ms.\n",
      "the src=224_2_44 spiral tip lasted 6224.0 ms.\n",
      "the src=448_3_1 spiral tip lasted 5096.0 ms.\n",
      "the src=454_1_0 spiral tip lasted 4726.0 ms.\n",
      "the src=301_1_3 spiral tip lasted 166.0 ms.\n",
      "the src=324_0_7 spiral tip lasted 4004.0 ms.\n",
      "the src=430_0_2 spiral tip lasted 4846.0 ms.\n",
      "the src=265_3_21 spiral tip lasted 3794.0 ms.\n",
      "the src=397_1_3 spiral tip lasted 2550.0 ms.\n",
      "the src=204_0_6 spiral tip lasted 1278.0 ms.\n",
      "the src=485_3_2 spiral tip lasted 5206.0 ms.\n",
      "the src=457_0_0 spiral tip lasted 4976.0 ms.\n",
      "the src=374_3_2 spiral tip lasted 3684.0 ms.\n",
      "the src=286_2_10 spiral tip lasted 4844.0 ms.\n",
      "the src=378_0_7 spiral tip lasted 1934.0 ms.\n",
      "the src=471_1_2 spiral tip lasted 5254.0 ms.\n",
      "the src=317_1_15 spiral tip lasted 4054.0 ms.\n",
      "the src=377_0_4 spiral tip lasted 3926.0 ms.\n",
      "the src=293_2_3 spiral tip lasted 674.0 ms.\n",
      "the src=489_0_3 spiral tip lasted 4256.0 ms.\n",
      "the src=201_1_5 spiral tip lasted 74.0 ms.\n",
      "the src=342_3_2 spiral tip lasted 6652.0 ms.\n",
      "the src=324_0_9 spiral tip lasted 178.0 ms.\n",
      "the src=430_3_3 spiral tip lasted 5740.0 ms.\n",
      "the src=248_3_17 spiral tip lasted 2476.0 ms.\n",
      "the src=250_0_13 spiral tip lasted 2982.0 ms.\n",
      "the src=457_1_2 spiral tip lasted 4254.0 ms.\n",
      "the src=339_1_0 spiral tip lasted 4208.0 ms.\n",
      "the src=415_2_6 spiral tip lasted 4732.0 ms.\n",
      "the src=300_2_12 spiral tip lasted 3458.0 ms.\n",
      "the src=326_1_13 spiral tip lasted 4528.0 ms.\n",
      "the src=317_0_15 spiral tip lasted 3756.0 ms.\n",
      "the src=203_3_42 spiral tip lasted 1340.0 ms.\n",
      "the src=433_3_3 spiral tip lasted 6602.0 ms.\n",
      "the src=379_0_2 spiral tip lasted 5318.0 ms.\n",
      "the src=293_1_4 spiral tip lasted 3252.0 ms.\n",
      "the src=356_0_11 spiral tip lasted 4282.0 ms.\n",
      "the src=478_1_1 spiral tip lasted 5236.0 ms.\n",
      "the src=236_0_23 spiral tip lasted 928.0 ms.\n",
      "the src=442_1_4 spiral tip lasted 6730.0 ms.\n",
      "the src=238_1_24 spiral tip lasted 1574.0 ms.\n",
      "the src=259_1_2 spiral tip lasted 1420.0 ms.\n",
      "the src=393_2_8 spiral tip lasted 5886.0 ms.\n",
      "the src=223_0_4 spiral tip lasted 92.0 ms.\n",
      "the src=365_3_1 spiral tip lasted 4686.0 ms.\n",
      "the src=331_0_7 spiral tip lasted 4370.0 ms.\n",
      "the src=473_0_3 spiral tip lasted 5358.0 ms.\n",
      "the src=271_2_9 spiral tip lasted 1130.0 ms.\n",
      "the src=375_3_4 spiral tip lasted 6138.0 ms.\n",
      "the src=299_3_7 spiral tip lasted 1874.0 ms.\n",
      "the src=343_0_1 spiral tip lasted 4266.0 ms.\n",
      "the src=383_3_2 spiral tip lasted 4534.0 ms.\n",
      "the src=333_3_4 spiral tip lasted 2410.0 ms.\n",
      "the src=283_3_18 spiral tip lasted 4134.0 ms.\n",
      "the src=390_0_5 spiral tip lasted 4174.0 ms.\n",
      "the src=349_0_12 spiral tip lasted 3668.0 ms.\n",
      "the src=266_0_18 spiral tip lasted 966.0 ms.\n",
      "the src=314_2_14 spiral tip lasted 4606.0 ms.\n",
      "the src=202_2_13 spiral tip lasted 262.0 ms.\n",
      "the src=313_1_13 spiral tip lasted 1666.0 ms.\n",
      "the src=456_3_3 spiral tip lasted 4058.0 ms.\n",
      "the src=348_0_1 spiral tip lasted 3630.0 ms.\n",
      "the src=298_2_12 spiral tip lasted 3020.0 ms.\n",
      "the src=379_3_5 spiral tip lasted 4036.0 ms.\n",
      "the src=353_3_13 spiral tip lasted 4558.0 ms.\n",
      "the src=423_3_4 spiral tip lasted 6888.0 ms.\n",
      "the src=454_1_1 spiral tip lasted 5718.0 ms.\n",
      "the src=353_1_5 spiral tip lasted 5196.0 ms.\n",
      "the src=288_0_4 spiral tip lasted 3986.0 ms.\n",
      "the src=334_0_12 spiral tip lasted 4336.0 ms.\n",
      "the src=383_2_2 spiral tip lasted 5952.0 ms.\n",
      "the src=323_2_11 spiral tip lasted 5532.0 ms.\n",
      "the src=323_0_3 spiral tip lasted 5736.0 ms.\n",
      "the src=389_0_0 spiral tip lasted 4506.0 ms.\n",
      "the src=357_0_15 spiral tip lasted 3810.0 ms.\n",
      "the src=343_0_14 spiral tip lasted 5300.0 ms.\n",
      "the src=211_1_18 spiral tip lasted 426.0 ms.\n",
      "the src=222_0_45 spiral tip lasted 1306.0 ms.\n",
      "the src=410_3_1 spiral tip lasted 5184.0 ms.\n",
      "the src=357_0_11 spiral tip lasted 5066.0 ms.\n",
      "the src=324_1_5 spiral tip lasted 3664.0 ms.\n",
      "the src=463_1_1 spiral tip lasted 4044.0 ms.\n",
      "the src=360_0_14 spiral tip lasted 3888.0 ms.\n",
      "the src=413_2_5 spiral tip lasted 5332.0 ms.\n",
      "the src=273_2_23 spiral tip lasted 1836.0 ms.\n",
      "the src=425_2_8 spiral tip lasted 2270.0 ms.\n",
      "the src=413_2_8 spiral tip lasted 4030.0 ms.\n",
      "the src=256_0_21 spiral tip lasted 3344.0 ms.\n",
      "the src=368_0_6 spiral tip lasted 4340.0 ms.\n",
      "the src=384_3_8 spiral tip lasted 4276.0 ms.\n",
      "the src=255_2_15 spiral tip lasted 2858.0 ms.\n",
      "the src=444_3_3 spiral tip lasted 1204.0 ms.\n",
      "the src=210_0_26 spiral tip lasted 2058.0 ms.\n",
      "the src=420_2_1 spiral tip lasted 4630.0 ms.\n",
      "the src=382_1_1 spiral tip lasted 4158.0 ms.\n",
      "the src=259_2_8 spiral tip lasted 2872.0 ms.\n",
      "the src=282_1_20 spiral tip lasted 3276.0 ms.\n",
      "the src=250_1_26 spiral tip lasted 2566.0 ms.\n",
      "the src=393_3_0 spiral tip lasted 4120.0 ms.\n",
      "the src=450_3_5 spiral tip lasted 5582.0 ms.\n",
      "the src=250_0_35 spiral tip lasted 4706.0 ms.\n",
      "the src=310_3_7 spiral tip lasted 2842.0 ms.\n",
      "the src=242_0_31 spiral tip lasted 2924.0 ms.\n",
      "the src=430_1_0 spiral tip lasted 4896.0 ms.\n",
      "the src=315_2_10 spiral tip lasted 3828.0 ms.\n",
      "the src=209_2_16 spiral tip lasted 398.0 ms.\n",
      "the src=484_0_3 spiral tip lasted 4784.0 ms.\n",
      "the src=309_1_4 spiral tip lasted 3504.0 ms.\n",
      "the src=388_3_4 spiral tip lasted 4594.0 ms.\n",
      "the src=424_3_4 spiral tip lasted 3934.0 ms.\n"
     ]
    },
    {
     "name": "stdout",
     "output_type": "stream",
     "text": [
      "the src=429_0_3 spiral tip lasted 4764.0 ms.\n",
      "the src=375_0_1 spiral tip lasted 4900.0 ms.\n",
      "the src=296_1_15 spiral tip lasted 3648.0 ms.\n",
      "the src=364_0_4 spiral tip lasted 5528.0 ms.\n",
      "the src=239_3_19 spiral tip lasted 652.0 ms.\n",
      "the src=458_0_2 spiral tip lasted 7898.0 ms.\n",
      "the src=470_3_0 spiral tip lasted 4616.0 ms.\n",
      "the src=366_0_3 spiral tip lasted 5134.0 ms.\n",
      "the src=354_1_11 spiral tip lasted 572.0 ms.\n",
      "the src=403_1_6 spiral tip lasted 5790.0 ms.\n",
      "the src=292_1_6 spiral tip lasted 2688.0 ms.\n",
      "the src=223_3_47 spiral tip lasted 240.0 ms.\n",
      "the src=488_1_2 spiral tip lasted 4486.0 ms.\n",
      "the src=269_1_21 spiral tip lasted 1706.0 ms.\n",
      "the src=307_2_8 spiral tip lasted 2658.0 ms.\n",
      "the src=427_0_8 spiral tip lasted 3990.0 ms.\n",
      "the src=426_3_1 spiral tip lasted 3144.0 ms.\n",
      "the src=254_0_12 spiral tip lasted 1560.0 ms.\n",
      "the src=241_1_24 spiral tip lasted 3890.0 ms.\n",
      "the src=384_1_4 spiral tip lasted 3412.0 ms.\n",
      "the src=432_2_2 spiral tip lasted 4218.0 ms.\n",
      "the src=421_3_3 spiral tip lasted 4874.0 ms.\n",
      "the src=355_3_7 spiral tip lasted 3502.0 ms.\n",
      "the src=284_0_0 spiral tip lasted 3428.0 ms.\n",
      "the src=364_1_6 spiral tip lasted 4466.0 ms.\n",
      "the src=396_0_4 spiral tip lasted 3542.0 ms.\n",
      "the src=475_3_3 spiral tip lasted 4460.0 ms.\n",
      "the src=246_2_5 spiral tip lasted 1442.0 ms.\n",
      "the src=295_3_9 spiral tip lasted 4722.0 ms.\n",
      "the src=285_0_19 spiral tip lasted 5320.0 ms.\n",
      "the src=497_1_3 spiral tip lasted 6804.0 ms.\n",
      "the src=291_2_16 spiral tip lasted 4314.0 ms.\n",
      "the src=464_0_1 spiral tip lasted 3806.0 ms.\n",
      "the src=439_1_1 spiral tip lasted 4700.0 ms.\n",
      "the src=440_1_8 spiral tip lasted 5132.0 ms.\n",
      "the src=465_2_3 spiral tip lasted 3752.0 ms.\n",
      "the src=459_2_2 spiral tip lasted 3684.0 ms.\n",
      "the src=268_2_21 spiral tip lasted 2048.0 ms.\n",
      "the src=453_2_0 spiral tip lasted 4500.0 ms.\n",
      "the src=408_2_2 spiral tip lasted 3894.0 ms.\n",
      "the src=301_1_9 spiral tip lasted 2520.0 ms.\n",
      "the src=378_0_1 spiral tip lasted 3562.0 ms.\n",
      "the src=331_1_10 spiral tip lasted 3764.0 ms.\n",
      "the src=418_2_2 spiral tip lasted 4708.0 ms.\n",
      "the src=354_2_5 spiral tip lasted 3326.0 ms.\n",
      "the src=345_0_15 spiral tip lasted 4424.0 ms.\n",
      "the src=461_2_0 spiral tip lasted 6056.0 ms.\n",
      "the src=463_0_3 spiral tip lasted 4278.0 ms.\n",
      "the src=236_1_6 spiral tip lasted 2170.0 ms.\n",
      "the src=474_1_1 spiral tip lasted 5402.0 ms.\n",
      "the src=436_2_1 spiral tip lasted 5070.0 ms.\n",
      "the src=210_2_18 spiral tip lasted 728.0 ms.\n",
      "the src=440_0_0 spiral tip lasted 3774.0 ms.\n",
      "the src=384_2_1 spiral tip lasted 3920.0 ms.\n",
      "the src=478_0_0 spiral tip lasted 5542.0 ms.\n",
      "the src=374_1_1 spiral tip lasted 3474.0 ms.\n",
      "the src=220_3_15 spiral tip lasted 1310.0 ms.\n",
      "the src=445_3_4 spiral tip lasted 5592.0 ms.\n",
      "the src=222_3_30 spiral tip lasted 1826.0 ms.\n",
      "the src=330_3_15 spiral tip lasted 6094.0 ms.\n",
      "the src=257_3_17 spiral tip lasted 1234.0 ms.\n",
      "the src=324_2_10 spiral tip lasted 4120.0 ms.\n",
      "the src=294_3_0 spiral tip lasted 4096.0 ms.\n",
      "the src=289_0_11 spiral tip lasted 734.0 ms.\n",
      "the src=247_2_26 spiral tip lasted 2436.0 ms.\n",
      "the src=377_2_4 spiral tip lasted 4662.0 ms.\n",
      "the src=429_2_8 spiral tip lasted 4870.0 ms.\n",
      "the src=270_0_18 spiral tip lasted 4824.0 ms.\n",
      "the src=361_3_7 spiral tip lasted 4732.0 ms.\n",
      "the src=260_3_2 spiral tip lasted 272.0 ms.\n",
      "the src=355_3_13 spiral tip lasted 8134.0 ms.\n",
      "the src=380_2_1 spiral tip lasted 3346.0 ms.\n",
      "the src=425_3_5 spiral tip lasted 4092.0 ms.\n",
      "the src=449_0_4 spiral tip lasted 5266.0 ms.\n",
      "the src=244_0_30 spiral tip lasted 1462.0 ms.\n",
      "the src=245_1_28 spiral tip lasted 4884.0 ms.\n",
      "the src=457_3_3 spiral tip lasted 4722.0 ms.\n",
      "the src=305_2_8 spiral tip lasted 3276.0 ms.\n",
      "the src=474_1_2 spiral tip lasted 4680.0 ms.\n",
      "the src=443_3_5 spiral tip lasted 5654.0 ms.\n",
      "the src=345_3_6 spiral tip lasted 4272.0 ms.\n",
      "the src=320_2_5 spiral tip lasted 1338.0 ms.\n",
      "the src=384_0_7 spiral tip lasted 4534.0 ms.\n",
      "the src=359_2_15 spiral tip lasted 5850.0 ms.\n",
      "the src=351_0_10 spiral tip lasted 5568.0 ms.\n",
      "the src=308_0_3 spiral tip lasted 5274.0 ms.\n",
      "the src=438_2_2 spiral tip lasted 3646.0 ms.\n",
      "the src=332_0_3 spiral tip lasted 3188.0 ms.\n",
      "the src=289_2_17 spiral tip lasted 120.0 ms.\n",
      "the src=446_1_4 spiral tip lasted 4262.0 ms.\n",
      "the src=422_3_3 spiral tip lasted 4018.0 ms.\n",
      "the src=333_3_2 spiral tip lasted 4306.0 ms.\n",
      "the src=260_2_23 spiral tip lasted 252.0 ms.\n",
      "the src=351_2_5 spiral tip lasted 5098.0 ms.\n",
      "the src=337_1_4 spiral tip lasted 1640.0 ms.\n",
      "the src=226_1_27 spiral tip lasted 2856.0 ms.\n",
      "the src=430_0_7 spiral tip lasted 4584.0 ms.\n",
      "the src=322_0_3 spiral tip lasted 6614.0 ms.\n",
      "the src=300_2_6 spiral tip lasted 4648.0 ms.\n",
      "the src=385_2_8 spiral tip lasted 4770.0 ms.\n",
      "the src=258_2_5 spiral tip lasted 624.0 ms.\n",
      "the src=279_1_3 spiral tip lasted 134.0 ms.\n",
      "the src=446_3_8 spiral tip lasted 4986.0 ms.\n",
      "the src=428_2_7 spiral tip lasted 4224.0 ms.\n",
      "the src=370_2_0 spiral tip lasted 4350.0 ms.\n",
      "the src=479_1_3 spiral tip lasted 4148.0 ms.\n",
      "the src=385_3_3 spiral tip lasted 4066.0 ms.\n",
      "the src=380_1_0 spiral tip lasted 3644.0 ms.\n",
      "the src=443_2_8 spiral tip lasted 4056.0 ms.\n",
      "the src=369_0_4 spiral tip lasted 5334.0 ms.\n",
      "the src=316_3_8 spiral tip lasted 4756.0 ms.\n",
      "the src=396_3_8 spiral tip lasted 4892.0 ms.\n",
      "the src=328_1_9 spiral tip lasted 3932.0 ms.\n",
      "the src=471_2_2 spiral tip lasted 6102.0 ms.\n",
      "the src=365_1_0 spiral tip lasted 4158.0 ms.\n",
      "the src=354_3_8 spiral tip lasted 4826.0 ms.\n",
      "the src=420_2_6 spiral tip lasted 5330.0 ms.\n",
      "the src=401_3_1 spiral tip lasted 5620.0 ms.\n",
      "the src=425_0_5 spiral tip lasted 7946.0 ms.\n",
      "the src=256_0_9 spiral tip lasted 2292.0 ms.\n",
      "the src=400_1_3 spiral tip lasted 3724.0 ms.\n",
      "the src=396_1_0 spiral tip lasted 4208.0 ms.\n",
      "the src=300_3_20 spiral tip lasted 3906.0 ms.\n",
      "the src=221_3_40 spiral tip lasted 1698.0 ms.\n",
      "the src=294_0_19 spiral tip lasted 1390.0 ms.\n",
      "the src=357_3_2 spiral tip lasted 3062.0 ms.\n",
      "the src=211_0_6 spiral tip lasted 2598.0 ms.\n",
      "the src=331_1_0 spiral tip lasted 2958.0 ms.\n",
      "the src=231_3_24 spiral tip lasted 592.0 ms.\n",
      "the src=367_3_5 spiral tip lasted 5052.0 ms.\n",
      "the src=284_0_7 spiral tip lasted 2270.0 ms.\n",
      "the src=367_1_7 spiral tip lasted 3940.0 ms.\n",
      "the src=359_2_7 spiral tip lasted 6218.0 ms.\n",
      "the src=428_0_0 spiral tip lasted 6378.0 ms.\n",
      "the src=445_0_2 spiral tip lasted 4016.0 ms.\n",
      "the src=373_2_6 spiral tip lasted 4634.0 ms.\n",
      "the src=348_3_6 spiral tip lasted 2376.0 ms.\n",
      "the src=238_3_22 spiral tip lasted 290.0 ms.\n",
      "the src=338_0_8 spiral tip lasted 3868.0 ms.\n",
      "the src=379_1_7 spiral tip lasted 4136.0 ms.\n",
      "the src=361_2_5 spiral tip lasted 5248.0 ms.\n",
      "the src=201_3_7 spiral tip lasted 30.0 ms.\n",
      "the src=309_0_5 spiral tip lasted 5188.0 ms.\n",
      "the src=304_0_6 spiral tip lasted 3514.0 ms.\n",
      "the src=393_0_7 spiral tip lasted 4340.0 ms.\n",
      "the src=352_0_12 spiral tip lasted 4632.0 ms.\n",
      "the src=289_2_9 spiral tip lasted 4676.0 ms.\n",
      "the src=415_2_3 spiral tip lasted 3322.0 ms.\n",
      "the src=288_2_4 spiral tip lasted 3968.0 ms.\n",
      "the src=376_0_4 spiral tip lasted 5202.0 ms.\n",
      "the src=357_1_9 spiral tip lasted 5702.0 ms.\n",
      "the src=261_2_5 spiral tip lasted 1884.0 ms.\n",
      "the src=347_0_1 spiral tip lasted 4316.0 ms.\n",
      "the src=252_3_35 spiral tip lasted 2958.0 ms.\n",
      "the src=397_2_5 spiral tip lasted 5348.0 ms.\n",
      "the src=341_2_15 spiral tip lasted 5072.0 ms.\n",
      "the src=477_1_3 spiral tip lasted 6628.0 ms.\n",
      "the src=266_3_5 spiral tip lasted 2406.0 ms.\n",
      "the src=289_1_14 spiral tip lasted 2976.0 ms.\n",
      "the src=228_3_32 spiral tip lasted 2598.0 ms.\n",
      "the src=370_3_3 spiral tip lasted 3420.0 ms.\n",
      "the src=356_1_14 spiral tip lasted 3850.0 ms.\n",
      "the src=248_0_17 spiral tip lasted 1190.0 ms.\n",
      "the src=360_3_5 spiral tip lasted 3612.0 ms.\n",
      "the src=451_3_0 spiral tip lasted 5554.0 ms.\n",
      "the src=459_1_0 spiral tip lasted 5130.0 ms.\n",
      "the src=342_1_15 spiral tip lasted 4600.0 ms.\n",
      "the src=224_1_17 spiral tip lasted 3218.0 ms.\n",
      "the src=265_2_18 spiral tip lasted 1738.0 ms.\n",
      "the src=227_1_28 spiral tip lasted 4950.0 ms.\n",
      "the src=320_3_9 spiral tip lasted 274.0 ms.\n",
      "the src=326_1_2 spiral tip lasted 3126.0 ms.\n",
      "the src=356_1_9 spiral tip lasted 2150.0 ms.\n",
      "the src=286_3_10 spiral tip lasted 3324.0 ms.\n",
      "the src=216_2_15 spiral tip lasted 166.0 ms.\n",
      "the src=414_0_6 spiral tip lasted 4198.0 ms.\n",
      "the src=288_2_19 spiral tip lasted 3220.0 ms.\n",
      "the src=400_2_2 spiral tip lasted 5960.0 ms.\n",
      "the src=302_2_14 spiral tip lasted 4528.0 ms.\n",
      "the src=332_3_14 spiral tip lasted 4728.0 ms.\n",
      "the src=289_2_7 spiral tip lasted 1556.0 ms.\n",
      "the src=296_2_12 spiral tip lasted 4400.0 ms.\n",
      "the src=293_3_12 spiral tip lasted 2992.0 ms.\n",
      "the src=281_0_8 spiral tip lasted 3030.0 ms.\n",
      "the src=401_3_4 spiral tip lasted 4896.0 ms.\n"
     ]
    },
    {
     "name": "stdout",
     "output_type": "stream",
     "text": [
      "the src=246_0_24 spiral tip lasted 2132.0 ms.\n",
      "the src=316_0_3 spiral tip lasted 4032.0 ms.\n",
      "the src=227_0_23 spiral tip lasted 2358.0 ms.\n",
      "the src=425_1_2 spiral tip lasted 3854.0 ms.\n",
      "the src=357_1_11 spiral tip lasted 3378.0 ms.\n",
      "the src=201_2_20 spiral tip lasted 8.0 ms.\n",
      "the src=256_3_27 spiral tip lasted 1798.0 ms.\n",
      "the src=404_3_8 spiral tip lasted 2158.0 ms.\n",
      "the src=217_0_34 spiral tip lasted 1450.0 ms.\n",
      "the src=229_3_7 spiral tip lasted 1836.0 ms.\n",
      "the src=363_2_4 spiral tip lasted 7842.0 ms.\n",
      "the src=359_2_0 spiral tip lasted 3374.0 ms.\n",
      "the src=394_1_6 spiral tip lasted 4286.0 ms.\n",
      "the src=467_3_3 spiral tip lasted 5026.0 ms.\n",
      "the src=403_0_6 spiral tip lasted 3918.0 ms.\n",
      "the src=217_3_28 spiral tip lasted 1962.0 ms.\n",
      "the src=358_2_11 spiral tip lasted 3604.0 ms.\n",
      "the src=214_0_7 spiral tip lasted 2062.0 ms.\n",
      "the src=210_1_30 spiral tip lasted 2062.0 ms.\n",
      "the src=290_1_24 spiral tip lasted 3268.0 ms.\n",
      "the src=268_0_22 spiral tip lasted 3676.0 ms.\n",
      "the src=370_2_4 spiral tip lasted 6420.0 ms.\n",
      "the src=391_2_1 spiral tip lasted 5530.0 ms.\n",
      "the src=387_2_7 spiral tip lasted 6366.0 ms.\n",
      "the src=319_3_4 spiral tip lasted 3846.0 ms.\n",
      "the src=284_3_7 spiral tip lasted 2302.0 ms.\n",
      "the src=373_1_6 spiral tip lasted 4422.0 ms.\n",
      "the src=246_0_12 spiral tip lasted 1622.0 ms.\n",
      "the src=352_1_12 spiral tip lasted 5162.0 ms.\n",
      "the src=378_2_4 spiral tip lasted 3502.0 ms.\n",
      "the src=290_1_8 spiral tip lasted 816.0 ms.\n",
      "the src=476_2_2 spiral tip lasted 4664.0 ms.\n",
      "the src=309_0_1 spiral tip lasted 2758.0 ms.\n",
      "the src=413_1_7 spiral tip lasted 5614.0 ms.\n",
      "the src=373_1_8 spiral tip lasted 3854.0 ms.\n",
      "the src=461_2_2 spiral tip lasted 6120.0 ms.\n",
      "the src=352_1_13 spiral tip lasted 3198.0 ms.\n",
      "the src=496_2_3 spiral tip lasted 3922.0 ms.\n",
      "the src=390_3_8 spiral tip lasted 6496.0 ms.\n",
      "the src=344_2_9 spiral tip lasted 4722.0 ms.\n",
      "the src=368_1_6 spiral tip lasted 3954.0 ms.\n",
      "the src=304_1_12 spiral tip lasted 1388.0 ms.\n",
      "the src=311_0_12 spiral tip lasted 2864.0 ms.\n",
      "the src=260_3_13 spiral tip lasted 2398.0 ms.\n",
      "the src=491_2_2 spiral tip lasted 5280.0 ms.\n",
      "the src=267_2_14 spiral tip lasted 3302.0 ms.\n",
      "the src=469_2_0 spiral tip lasted 4070.0 ms.\n",
      "the src=247_0_30 spiral tip lasted 1476.0 ms.\n",
      "the src=429_3_4 spiral tip lasted 3896.0 ms.\n",
      "the src=446_0_8 spiral tip lasted 6174.0 ms.\n",
      "the src=278_2_6 spiral tip lasted 3810.0 ms.\n",
      "the src=332_1_12 spiral tip lasted 4902.0 ms.\n",
      "the src=420_3_6 spiral tip lasted 4228.0 ms.\n",
      "the src=466_1_2 spiral tip lasted 4434.0 ms.\n",
      "the src=318_1_2 spiral tip lasted 4504.0 ms.\n",
      "the src=380_0_3 spiral tip lasted 4268.0 ms.\n",
      "the src=297_0_2 spiral tip lasted 2704.0 ms.\n",
      "the src=346_1_5 spiral tip lasted 4000.0 ms.\n",
      "the src=241_0_31 spiral tip lasted 4178.0 ms.\n",
      "the src=446_2_6 spiral tip lasted 4824.0 ms.\n",
      "the src=303_1_9 spiral tip lasted 5904.0 ms.\n",
      "the src=439_3_2 spiral tip lasted 6230.0 ms.\n",
      "the src=439_0_8 spiral tip lasted 4334.0 ms.\n",
      "the src=389_2_8 spiral tip lasted 4312.0 ms.\n",
      "the src=228_3_5 spiral tip lasted 724.0 ms.\n",
      "the src=230_1_25 spiral tip lasted 1138.0 ms.\n",
      "the src=202_3_6 spiral tip lasted 1010.0 ms.\n",
      "the src=365_2_4 spiral tip lasted 3734.0 ms.\n",
      "the src=453_0_3 spiral tip lasted 4356.0 ms.\n",
      "the src=438_1_2 spiral tip lasted 3198.0 ms.\n",
      "the src=451_0_3 spiral tip lasted 4780.0 ms.\n",
      "the src=421_1_1 spiral tip lasted 4674.0 ms.\n",
      "the src=261_2_15 spiral tip lasted 3198.0 ms.\n",
      "the src=482_3_2 spiral tip lasted 3970.0 ms.\n",
      "the src=261_1_8 spiral tip lasted 926.0 ms.\n",
      "the src=250_2_6 spiral tip lasted 1292.0 ms.\n",
      "the src=400_1_1 spiral tip lasted 6194.0 ms.\n",
      "the src=361_2_0 spiral tip lasted 3834.0 ms.\n",
      "the src=441_3_5 spiral tip lasted 4798.0 ms.\n",
      "the src=455_0_1 spiral tip lasted 4998.0 ms.\n",
      "the src=304_0_11 spiral tip lasted 3546.0 ms.\n",
      "the src=361_3_1 spiral tip lasted 5890.0 ms.\n",
      "the src=346_2_2 spiral tip lasted 4296.0 ms.\n",
      "the src=297_1_22 spiral tip lasted 3164.0 ms.\n",
      "the src=414_2_5 spiral tip lasted 2700.0 ms.\n",
      "the src=320_0_12 spiral tip lasted 2988.0 ms.\n",
      "the src=228_3_9 spiral tip lasted 1572.0 ms.\n",
      "the src=430_1_2 spiral tip lasted 3992.0 ms.\n",
      "the src=417_0_5 spiral tip lasted 4186.0 ms.\n",
      "the src=285_0_6 spiral tip lasted 3160.0 ms.\n",
      "the src=364_1_8 spiral tip lasted 3396.0 ms.\n",
      "the src=233_3_2 spiral tip lasted 2336.0 ms.\n",
      "the src=323_3_13 spiral tip lasted 5230.0 ms.\n",
      "the src=386_3_2 spiral tip lasted 5084.0 ms.\n",
      "the src=426_3_8 spiral tip lasted 5672.0 ms.\n",
      "the src=264_0_24 spiral tip lasted 2098.0 ms.\n",
      "the src=300_3_6 spiral tip lasted 4078.0 ms.\n",
      "the src=410_0_5 spiral tip lasted 4358.0 ms.\n",
      "the src=379_3_7 spiral tip lasted 4008.0 ms.\n",
      "the src=209_1_32 spiral tip lasted 344.0 ms.\n",
      "the src=246_1_12 spiral tip lasted 2542.0 ms.\n",
      "the src=346_0_0 spiral tip lasted 4500.0 ms.\n",
      "the src=213_1_18 spiral tip lasted 3430.0 ms.\n",
      "the src=478_1_2 spiral tip lasted 4640.0 ms.\n",
      "the src=463_3_3 spiral tip lasted 4764.0 ms.\n",
      "the src=361_0_3 spiral tip lasted 1700.0 ms.\n",
      "the src=287_1_16 spiral tip lasted 3674.0 ms.\n",
      "the src=301_0_3 spiral tip lasted 3938.0 ms.\n",
      "the src=236_0_18 spiral tip lasted 3320.0 ms.\n",
      "the src=313_2_10 spiral tip lasted 4016.0 ms.\n",
      "the src=258_2_1 spiral tip lasted 186.0 ms.\n",
      "the src=388_3_3 spiral tip lasted 2260.0 ms.\n",
      "the src=244_3_3 spiral tip lasted 3438.0 ms.\n",
      "the src=335_0_2 spiral tip lasted 4590.0 ms.\n",
      "the src=233_3_27 spiral tip lasted 2650.0 ms.\n",
      "the src=235_2_1 spiral tip lasted 286.0 ms.\n",
      "the src=275_2_6 spiral tip lasted 3786.0 ms.\n",
      "the src=351_1_0 spiral tip lasted 4504.0 ms.\n",
      "the src=323_0_9 spiral tip lasted 4300.0 ms.\n",
      "the src=263_3_13 spiral tip lasted 2540.0 ms.\n",
      "the src=272_2_20 spiral tip lasted 2820.0 ms.\n",
      "the src=277_3_4 spiral tip lasted 2448.0 ms.\n",
      "the src=371_2_7 spiral tip lasted 4526.0 ms.\n",
      "the src=379_1_8 spiral tip lasted 4826.0 ms.\n",
      "the src=283_1_1 spiral tip lasted 2492.0 ms.\n",
      "the src=426_1_2 spiral tip lasted 4980.0 ms.\n",
      "the src=244_1_3 spiral tip lasted 298.0 ms.\n",
      "the src=495_2_3 spiral tip lasted 4510.0 ms.\n",
      "the src=493_3_1 spiral tip lasted 5036.0 ms.\n",
      "the src=216_3_23 spiral tip lasted 4022.0 ms.\n",
      "the src=396_1_2 spiral tip lasted 4248.0 ms.\n",
      "the src=353_0_0 spiral tip lasted 5114.0 ms.\n",
      "the src=434_3_6 spiral tip lasted 2756.0 ms.\n",
      "the src=395_2_3 spiral tip lasted 3326.0 ms.\n",
      "the src=289_3_17 spiral tip lasted 2472.0 ms.\n",
      "the src=401_0_6 spiral tip lasted 5344.0 ms.\n",
      "the src=229_0_7 spiral tip lasted 1178.0 ms.\n",
      "the src=420_3_0 spiral tip lasted 4696.0 ms.\n",
      "the src=292_2_21 spiral tip lasted 2214.0 ms.\n",
      "the src=278_1_1 spiral tip lasted 4482.0 ms.\n",
      "the src=235_0_16 spiral tip lasted 432.0 ms.\n",
      "the src=226_0_23 spiral tip lasted 572.0 ms.\n",
      "the src=373_2_3 spiral tip lasted 5464.0 ms.\n",
      "the src=333_2_11 spiral tip lasted 4750.0 ms.\n",
      "the src=245_2_29 spiral tip lasted 2424.0 ms.\n",
      "the src=323_2_15 spiral tip lasted 3008.0 ms.\n",
      "the src=224_0_4 spiral tip lasted 214.0 ms.\n",
      "the src=490_2_0 spiral tip lasted 5504.0 ms.\n",
      "the src=202_3_23 spiral tip lasted 5510.0 ms.\n",
      "the src=278_2_9 spiral tip lasted 2342.0 ms.\n",
      "the src=391_3_4 spiral tip lasted 5240.0 ms.\n",
      "the src=306_3_11 spiral tip lasted 4364.0 ms.\n",
      "the src=392_1_5 spiral tip lasted 4350.0 ms.\n",
      "the src=208_1_19 spiral tip lasted 948.0 ms.\n",
      "the src=207_2_37 spiral tip lasted 942.0 ms.\n",
      "the src=392_3_7 spiral tip lasted 6000.0 ms.\n",
      "the src=375_2_1 spiral tip lasted 3924.0 ms.\n",
      "the src=410_3_8 spiral tip lasted 4582.0 ms.\n",
      "{(239, 2, 0): 0, (392, 2, 4): 0, (267, 3, 14): 0, (371, 3, 1): 0, (371, 1, 5): 0, (307, 3, 7): 0, (214, 1, 37): 0, (311, 2, 14): 0, (434, 2, 3): 0, (227, 3, 19): 0, (362, 3, 6): 0, (291, 3, 22): 0, (278, 1, 12): 0, (309, 3, 1): 0, (498, 1, 3): 0, (297, 1, 17): 0, (234, 3, 15): 0, (228, 2, 23): 0, (225, 3, 33): 0, (353, 0, 6): 0, (430, 2, 5): 0, (406, 2, 0): 0, (211, 2, 31): 0, (331, 2, 10): 0, (255, 0, 10): 0, (386, 0, 3): 0, (458, 1, 0): 0, (342, 2, 13): 0, (288, 3, 16): 0, (293, 3, 2): 0, (261, 0, 20): 0, (295, 0, 11): 0, (393, 2, 0): 0, (416, 1, 0): 0, (477, 3, 2): 0, (423, 3, 6): 0, (234, 1, 4): 0, (354, 2, 1): 0, (237, 1, 8): 0, (412, 0, 8): 0, (458, 3, 1): 0, (214, 2, 36): 0, (336, 1, 14): 0, (332, 1, 15): 0, (310, 0, 6): 0, (205, 2, 20): 0, (401, 1, 4): 0, (378, 3, 0): 0, (428, 0, 3): 0, (408, 2, 4): 0, (347, 3, 10): 0, (347, 0, 0): 0, (233, 2, 6): 0, (386, 1, 7): 0, (362, 1, 4): 0, (328, 2, 15): 0, (314, 1, 13): 0, (404, 1, 7): 1, (223, 2, 46): 0, (209, 1, 46): 0, (367, 0, 6): 0, (463, 1, 2): 0, (204, 2, 7): 0, (403, 0, 8): 0, (344, 3, 4): 0, (329, 3, 1): 0, (495, 1, 0): 0, (362, 3, 2): 0, (222, 1, 9): 0, (454, 1, 2): 0, (249, 1, 7): 0, (265, 0, 24): 0, (400, 0, 4): 0, (431, 1, 3): 0, (398, 0, 7): 0, (385, 0, 3): 0, (254, 1, 13): 0, (208, 0, 24): 0, (224, 2, 44): 0, (448, 3, 1): 0, (454, 1, 0): 0, (301, 1, 3): 0, (324, 0, 7): 1, (430, 0, 2): 0, (265, 3, 21): 0, (397, 1, 3): 0, (204, 0, 6): 0, (485, 3, 2): 0, (457, 0, 0): 0, (374, 3, 2): 0, (286, 2, 10): 0, (378, 0, 7): 0, (471, 1, 2): 0, (317, 1, 15): 0, (377, 0, 4): 0, (293, 2, 3): 0, (489, 0, 3): 0, (201, 1, 5): 0, (342, 3, 2): 0, (324, 0, 9): 0, (430, 3, 3): 0, (248, 3, 17): 0, (250, 0, 13): 0, (457, 1, 2): 0, (339, 1, 0): 1, (415, 2, 6): 0, (300, 2, 12): 0, (326, 1, 13): 0, (317, 0, 15): 0, (203, 3, 42): 0, (433, 3, 3): 0, (379, 0, 2): 0, (293, 1, 4): 0, (356, 0, 11): 0, (478, 1, 1): 0, (236, 0, 23): 0, (442, 1, 4): 0, (238, 1, 24): 0, (259, 1, 2): 0, (393, 2, 8): 0, (223, 0, 4): 0, (365, 3, 1): 0, (331, 0, 7): 0, (473, 0, 3): 0, (271, 2, 9): 0, (375, 3, 4): 0, (299, 3, 7): 0, (343, 0, 1): 0, (383, 3, 2): 0, (333, 3, 4): 0, (283, 3, 18): 0, (390, 0, 5): 2, (349, 0, 12): 0, (266, 0, 18): 0, (314, 2, 14): 0, (202, 2, 13): 0, (313, 1, 13): 0, (456, 3, 3): 0, (348, 0, 1): 0, (298, 2, 12): 0, (379, 3, 5): 0, (353, 3, 13): 0, (423, 3, 4): 0, (454, 1, 1): 0, (353, 1, 5): 0, (288, 0, 4): 0, (334, 0, 12): 0, (383, 2, 2): 0, (323, 2, 11): 1, (323, 0, 3): 0, (389, 0, 0): 0, (357, 0, 15): 0, (343, 0, 14): 0, (211, 1, 18): 0, (222, 0, 45): 0, (410, 3, 1): 0, (357, 0, 11): 0, (324, 1, 5): 0, (463, 1, 1): 0, (360, 0, 14): 0, (413, 2, 5): 0, (273, 2, 23): 0, (425, 2, 8): 0, (413, 2, 8): 0, (256, 0, 21): 0, (368, 0, 6): 0, (384, 3, 8): 0, (255, 2, 15): 0, (444, 3, 3): 0, (210, 0, 26): 0, (420, 2, 1): 0, (382, 1, 1): 0, (259, 2, 8): 0, (282, 1, 20): 0, (250, 1, 26): 0, (393, 3, 0): 0, (450, 3, 5): 0, (250, 0, 35): 0, (310, 3, 7): 0, (242, 0, 31): 0, (430, 1, 0): 0, (315, 2, 10): 0, (209, 2, 16): 0, (484, 0, 3): 0, (309, 1, 4): 0, (388, 3, 4): 0, (424, 3, 4): 0, (429, 0, 3): 0, (375, 0, 1): 0, (296, 1, 15): 0, (364, 0, 4): 0, (239, 3, 19): 0, (458, 0, 2): 0, (470, 3, 0): 0, (366, 0, 3): 0, (354, 1, 11): 0, (403, 1, 6): 0, (292, 1, 6): 0, (223, 3, 47): 0, (488, 1, 2): 0, (269, 1, 21): 1, (307, 2, 8): 0, (427, 0, 8): 0, (426, 3, 1): 0, (254, 0, 12): 0, (241, 1, 24): 0, (384, 1, 4): 0, (432, 2, 2): 0, (421, 3, 3): 1, (355, 3, 7): 0, (284, 0, 0): 0, (364, 1, 6): 0, (396, 0, 4): 0, (475, 3, 3): 0, (246, 2, 5): 0, (295, 3, 9): 0, (285, 0, 19): 0, (497, 1, 3): 0, (291, 2, 16): 0, (464, 0, 1): 0, (439, 1, 1): 0, (440, 1, 8): 0, (465, 2, 3): 0, (459, 2, 2): 0, (268, 2, 21): 0, (453, 2, 0): 0, (408, 2, 2): 0, (301, 1, 9): 0, (378, 0, 1): 0, (331, 1, 10): 0, (418, 2, 2): 0, (354, 2, 5): 0, (345, 0, 15): 0, (461, 2, 0): 0, (463, 0, 3): 0, (236, 1, 6): 0, (474, 1, 1): 0, (436, 2, 1): 0, (210, 2, 18): 0, (440, 0, 0): 1, (384, 2, 1): 0, (478, 0, 0): 0, (374, 1, 1): 0, (220, 3, 15): 0, (445, 3, 4): 0, (222, 3, 30): 0, (330, 3, 15): 0, (257, 3, 17): 0, (324, 2, 10): 0, (294, 3, 0): 0, (289, 0, 11): 0, (247, 2, 26): 0, (377, 2, 4): 0, (429, 2, 8): 0, (270, 0, 18): 0, (361, 3, 7): 0, (260, 3, 2): 0, (355, 3, 13): 0, (380, 2, 1): 0, (425, 3, 5): 2, (449, 0, 4): 0, (244, 0, 30): 0, (245, 1, 28): 0, (457, 3, 3): 0, (305, 2, 8): 0, (474, 1, 2): 1, (443, 3, 5): 0, (345, 3, 6): 0, (320, 2, 5): 0, (384, 0, 7): 0, (359, 2, 15): 0, (351, 0, 10): 0, (308, 0, 3): 1, (438, 2, 2): 0, (332, 0, 3): 0, (289, 2, 17): 0, (446, 1, 4): 1, (422, 3, 3): 0, (333, 3, 2): 0, (260, 2, 23): 0, (351, 2, 5): 0, (337, 1, 4): 0, (226, 1, 27): 0, (430, 0, 7): 0, (322, 0, 3): 0, (300, 2, 6): 0, (385, 2, 8): 0, (258, 2, 5): 0, (279, 1, 3): 0, (446, 3, 8): 0, (428, 2, 7): 0, (370, 2, 0): 0, (479, 1, 3): 0, (385, 3, 3): 0, (380, 1, 0): 0, (443, 2, 8): 0, (369, 0, 4): 0, (316, 3, 8): 0, (396, 3, 8): 0, (328, 1, 9): 0, (471, 2, 2): 0, (365, 1, 0): 0, (354, 3, 8): 0, (420, 2, 6): 0, (401, 3, 1): 0, (425, 0, 5): 0, (256, 0, 9): 0, (400, 1, 3): 0, (396, 1, 0): 0, (300, 3, 20): 1, (221, 3, 40): 0, (294, 0, 19): 0, (357, 3, 2): 0, (211, 0, 6): 0, (331, 1, 0): 0, (231, 3, 24): 0, (367, 3, 5): 0, (284, 0, 7): 0, (367, 1, 7): 0, (359, 2, 7): 0, (428, 0, 0): 0, (445, 0, 2): 0, (373, 2, 6): 0, (348, 3, 6): 0, (238, 3, 22): 0, (338, 0, 8): 0, (379, 1, 7): 0, (361, 2, 5): 0, (201, 3, 7): 0, (309, 0, 5): 0, (304, 0, 6): 0, (393, 0, 7): 0, (352, 0, 12): 0, (289, 2, 9): 0, (415, 2, 3): 0, (288, 2, 4): 0, (376, 0, 4): 0, (357, 1, 9): 0, (261, 2, 5): 0, (347, 0, 1): 0, (252, 3, 35): 0, (397, 2, 5): 0, (341, 2, 15): 0, (477, 1, 3): 0, (266, 3, 5): 0, (289, 1, 14): 0, (228, 3, 32): 0, (370, 3, 3): 0, (356, 1, 14): 0, (248, 0, 17): 0, (360, 3, 5): 0, (451, 3, 0): 0, (459, 1, 0): 0, (342, 1, 15): 0, (224, 1, 17): 0, (265, 2, 18): 0, (227, 1, 28): 0, (320, 3, 9): 0, (326, 1, 2): 0, (356, 1, 9): 0, (286, 3, 10): 0, (216, 2, 15): 0, (414, 0, 6): 0, (288, 2, 19): 0, (400, 2, 2): 0, (302, 2, 14): 0, (332, 3, 14): 0, (289, 2, 7): 0, (296, 2, 12): 0, (293, 3, 12): 0, (281, 0, 8): 0, (401, 3, 4): 0, (246, 0, 24): 0, (316, 0, 3): 0, (227, 0, 23): 0, (425, 1, 2): 0, (357, 1, 11): 0, (201, 2, 20): 0, (256, 3, 27): 0, (404, 3, 8): 0, (217, 0, 34): 0, (229, 3, 7): 0, (363, 2, 4): 0, (359, 2, 0): 0, (394, 1, 6): 0, (467, 3, 3): 0, (403, 0, 6): 0, (217, 3, 28): 0, (358, 2, 11): 0, (214, 0, 7): 0, (210, 1, 30): 0, (290, 1, 24): 0, (268, 0, 22): 0, (370, 2, 4): 0, (391, 2, 1): 0, (387, 2, 7): 0, (319, 3, 4): 0, (284, 3, 7): 0, (373, 1, 6): 0, (246, 0, 12): 0, (352, 1, 12): 0, (378, 2, 4): 0, (290, 1, 8): 0, (476, 2, 2): 0, (309, 0, 1): 0, (413, 1, 7): 0, (373, 1, 8): 0, (461, 2, 2): 0, (352, 1, 13): 0, (496, 2, 3): 0, (390, 3, 8): 0, (344, 2, 9): 0, (368, 1, 6): 0, (304, 1, 12): 0, (311, 0, 12): 0, (260, 3, 13): 0, (491, 2, 2): 0, (267, 2, 14): 0, (469, 2, 0): 0, (247, 0, 30): 0, (429, 3, 4): 0, (446, 0, 8): 0, (278, 2, 6): 0, (332, 1, 12): 0, (420, 3, 6): 0, (466, 1, 2): 0, (318, 1, 2): 0, (380, 0, 3): 0, (297, 0, 2): 0, (346, 1, 5): 0, (241, 0, 31): 0, (446, 2, 6): 0, (303, 1, 9): 0, (439, 3, 2): 0, (439, 0, 8): 0, (389, 2, 8): 0, (228, 3, 5): 0, (230, 1, 25): 0, (202, 3, 6): 0, (365, 2, 4): 0, (453, 0, 3): 0, (438, 1, 2): 0, (451, 0, 3): 0, (421, 1, 1): 0, (261, 2, 15): 0, (482, 3, 2): 0, (261, 1, 8): 0, (250, 2, 6): 0, (400, 1, 1): 0, (361, 2, 0): 0, (441, 3, 5): 0, (455, 0, 1): 0, (304, 0, 11): 0, (361, 3, 1): 0, (346, 2, 2): 0, (297, 1, 22): 0, (414, 2, 5): 0, (320, 0, 12): 0, (228, 3, 9): 0, (430, 1, 2): 0, (417, 0, 5): 0, (285, 0, 6): 0, (364, 1, 8): 0, (233, 3, 2): 0, (323, 3, 13): 0, (386, 3, 2): 0, (426, 3, 8): 0, (264, 0, 24): 0, (300, 3, 6): 0, (410, 0, 5): 0, (379, 3, 7): 0, (209, 1, 32): 0, (246, 1, 12): 0, (346, 0, 0): 0, (213, 1, 18): 0, (478, 1, 2): 0, (463, 3, 3): 0, (361, 0, 3): 0, (287, 1, 16): 0, (301, 0, 3): 0, (236, 0, 18): 0, (313, 2, 10): 0, (258, 2, 1): 0, (388, 3, 3): 0, (244, 3, 3): 0, (335, 0, 2): 0, (233, 3, 27): 0, (235, 2, 1): 0, (275, 2, 6): 0, (351, 1, 0): 0, (323, 0, 9): 0, (263, 3, 13): 0, (272, 2, 20): 0, (277, 3, 4): 0, (371, 2, 7): 0, (379, 1, 8): 0, (283, 1, 1): 0, (426, 1, 2): 0, (244, 1, 3): 0, (495, 2, 3): 0, (493, 3, 1): 0, (216, 3, 23): 0, (396, 1, 2): 0, (353, 0, 0): 0, (434, 3, 6): 0, (395, 2, 3): 0, (289, 3, 17): 0, (401, 0, 6): 0, (229, 0, 7): 0, (420, 3, 0): 0, (292, 2, 21): 0, (278, 1, 1): 0, (235, 0, 16): 0, (226, 0, 23): 0, (373, 2, 3): 0, (333, 2, 11): 0, (245, 2, 29): 0, (323, 2, 15): 0, (224, 0, 4): 0, (490, 2, 0): 0, (202, 3, 23): 0, (278, 2, 9): 0, (391, 3, 4): 0, (306, 3, 11): 0, (392, 1, 5): 0, (208, 1, 19): 0, (207, 2, 37): 0, (392, 3, 7): 0, (375, 2, 1): 0, (410, 3, 8): 0}\n"
     ]
    }
   ],
   "source": [
    "df_lst,K12_index_set=return_df_updated_with_input_folder(input_fn_lst)"
   ]
  },
  {
   "cell_type": "code",
   "execution_count": 15,
   "metadata": {
    "ExecuteTime": {
     "end_time": "2021-02-18T02:19:30.806185Z",
     "start_time": "2021-02-18T02:19:30.780288Z"
    },
    "hidden": true
   },
   "outputs": [
    {
     "name": "stdout",
     "output_type": "stream",
     "text": [
      "530 distinct trials were successfully recorded.\n"
     ]
    }
   ],
   "source": [
    "print(f\"{len(list(K12_index_set))} distinct trials were successfully recorded.\")"
   ]
  },
  {
   "cell_type": "code",
   "execution_count": 19,
   "metadata": {
    "ExecuteTime": {
     "end_time": "2021-02-18T02:20:55.787958Z",
     "start_time": "2021-02-18T02:20:55.761880Z"
    },
    "hidden": true
   },
   "outputs": [
    {
     "data": {
      "text/plain": [
       "530"
      ]
     },
     "execution_count": 19,
     "metadata": {},
     "output_type": "execute_result"
    }
   ],
   "source": [
    "len(list(K12_index_set.values()))"
   ]
  },
  {
   "cell_type": "code",
   "execution_count": 20,
   "metadata": {
    "ExecuteTime": {
     "end_time": "2021-02-18T02:21:09.425712Z",
     "start_time": "2021-02-18T02:21:08.628925Z"
    },
    "hidden": true
   },
   "outputs": [
    {
     "data": {
      "text/html": [
       "<div>\n",
       "<style scoped>\n",
       "    .dataframe tbody tr th:only-of-type {\n",
       "        vertical-align: middle;\n",
       "    }\n",
       "\n",
       "    .dataframe tbody tr th {\n",
       "        vertical-align: top;\n",
       "    }\n",
       "\n",
       "    .dataframe thead th {\n",
       "        text-align: right;\n",
       "    }\n",
       "</style>\n",
       "<table border=\"1\" class=\"dataframe\">\n",
       "  <thead>\n",
       "    <tr style=\"text-align: right;\">\n",
       "      <th></th>\n",
       "      <th></th>\n",
       "      <th></th>\n",
       "      <th>t</th>\n",
       "      <th>n</th>\n",
       "      <th>x</th>\n",
       "      <th>y</th>\n",
       "      <th>grad_ux</th>\n",
       "      <th>grad_uy</th>\n",
       "      <th>grad_vx</th>\n",
       "      <th>grad_vy</th>\n",
       "      <th>frame</th>\n",
       "      <th>particle</th>\n",
       "      <th>src</th>\n",
       "    </tr>\n",
       "    <tr>\n",
       "      <th>L</th>\n",
       "      <th>txt_id1</th>\n",
       "      <th>txt_id2</th>\n",
       "      <th></th>\n",
       "      <th></th>\n",
       "      <th></th>\n",
       "      <th></th>\n",
       "      <th></th>\n",
       "      <th></th>\n",
       "      <th></th>\n",
       "      <th></th>\n",
       "      <th></th>\n",
       "      <th></th>\n",
       "      <th></th>\n",
       "    </tr>\n",
       "  </thead>\n",
       "  <tbody>\n",
       "    <tr>\n",
       "      <th rowspan=\"5\" valign=\"top\">239</th>\n",
       "      <th rowspan=\"5\" valign=\"top\">2</th>\n",
       "      <th>0</th>\n",
       "      <td>1844.0</td>\n",
       "      <td>6</td>\n",
       "      <td>0.000000</td>\n",
       "      <td>0.000000</td>\n",
       "      <td>-2.06868</td>\n",
       "      <td>5.42342</td>\n",
       "      <td>-4.52837</td>\n",
       "      <td>9.01983</td>\n",
       "      <td>0</td>\n",
       "      <td>47</td>\n",
       "      <td>239_2_0</td>\n",
       "    </tr>\n",
       "    <tr>\n",
       "      <th>0</th>\n",
       "      <td>1846.0</td>\n",
       "      <td>6</td>\n",
       "      <td>5.151337</td>\n",
       "      <td>1.888168</td>\n",
       "      <td>-1.79723</td>\n",
       "      <td>5.18668</td>\n",
       "      <td>6.10606</td>\n",
       "      <td>-6.67075</td>\n",
       "      <td>1</td>\n",
       "      <td>47</td>\n",
       "      <td>239_2_0</td>\n",
       "    </tr>\n",
       "    <tr>\n",
       "      <th>0</th>\n",
       "      <td>1848.0</td>\n",
       "      <td>6</td>\n",
       "      <td>8.037594</td>\n",
       "      <td>2.839096</td>\n",
       "      <td>-1.54593</td>\n",
       "      <td>4.89857</td>\n",
       "      <td>4.07635</td>\n",
       "      <td>-3.71336</td>\n",
       "      <td>2</td>\n",
       "      <td>47</td>\n",
       "      <td>239_2_0</td>\n",
       "    </tr>\n",
       "    <tr>\n",
       "      <th>0</th>\n",
       "      <td>1850.0</td>\n",
       "      <td>6</td>\n",
       "      <td>10.420452</td>\n",
       "      <td>3.560852</td>\n",
       "      <td>-1.35436</td>\n",
       "      <td>4.68894</td>\n",
       "      <td>3.55395</td>\n",
       "      <td>-3.00205</td>\n",
       "      <td>3</td>\n",
       "      <td>47</td>\n",
       "      <td>239_2_0</td>\n",
       "    </tr>\n",
       "    <tr>\n",
       "      <th>0</th>\n",
       "      <td>1852.0</td>\n",
       "      <td>6</td>\n",
       "      <td>12.554859</td>\n",
       "      <td>4.159058</td>\n",
       "      <td>-1.28145</td>\n",
       "      <td>4.63373</td>\n",
       "      <td>3.14485</td>\n",
       "      <td>-2.40385</td>\n",
       "      <td>4</td>\n",
       "      <td>47</td>\n",
       "      <td>239_2_0</td>\n",
       "    </tr>\n",
       "  </tbody>\n",
       "</table>\n",
       "</div>"
      ],
      "text/plain": [
       "                          t  n          x         y  grad_ux  grad_uy  \\\n",
       "L   txt_id1 txt_id2                                                     \n",
       "239 2       0        1844.0  6   0.000000  0.000000 -2.06868  5.42342   \n",
       "            0        1846.0  6   5.151337  1.888168 -1.79723  5.18668   \n",
       "            0        1848.0  6   8.037594  2.839096 -1.54593  4.89857   \n",
       "            0        1850.0  6  10.420452  3.560852 -1.35436  4.68894   \n",
       "            0        1852.0  6  12.554859  4.159058 -1.28145  4.63373   \n",
       "\n",
       "                     grad_vx  grad_vy  frame  particle      src  \n",
       "L   txt_id1 txt_id2                                              \n",
       "239 2       0       -4.52837  9.01983      0        47  239_2_0  \n",
       "            0        6.10606 -6.67075      1        47  239_2_0  \n",
       "            0        4.07635 -3.71336      2        47  239_2_0  \n",
       "            0        3.55395 -3.00205      3        47  239_2_0  \n",
       "            0        3.14485 -2.40385      4        47  239_2_0  "
      ]
     },
     "execution_count": 20,
     "metadata": {},
     "output_type": "execute_result"
    }
   ],
   "source": [
    "df=pd.concat(df_lst)\n",
    "df.head()"
   ]
  },
  {
   "cell_type": "code",
   "execution_count": 21,
   "metadata": {
    "ExecuteTime": {
     "end_time": "2021-02-18T02:21:36.511264Z",
     "start_time": "2021-02-18T02:21:22.374990Z"
    },
    "hidden": true
   },
   "outputs": [],
   "source": [
    "#save df as csv in care\n",
    "save_folder=os.path.join(nb_dir,'Data/cloud_results')\n",
    "os.chdir(save_folder)\n",
    "save_fn='longest_traj_by_area_fk_pbc.csv'\n",
    "df.to_csv(save_fn)"
   ]
  },
  {
   "cell_type": "code",
   "execution_count": 44,
   "metadata": {
    "ExecuteTime": {
     "end_time": "2021-02-08T18:41:47.111685Z",
     "start_time": "2021-02-08T18:41:47.066371Z"
    },
    "hidden": true
   },
   "outputs": [],
   "source": [
    "#TODO: verify save\n",
    "#TODO: compute the area for each trial\n",
    "#TODO: detect brownian motion for each trial\n",
    "#TODO: compute the largest number of repeats of a single trial run\n"
   ]
  },
  {
   "cell_type": "code",
   "execution_count": 67,
   "metadata": {
    "ExecuteTime": {
     "end_time": "2021-02-09T18:35:17.730524Z",
     "start_time": "2021-02-09T18:35:17.663464Z"
    },
    "hidden": true,
    "scrolled": true
   },
   "outputs": [
    {
     "data": {
      "text/plain": [
       "{(529, 0, 0): 0,\n",
       " (404, 1, 1): 0,\n",
       " (613, 0, 0): 0,\n",
       " (420, 0, 5): 0,\n",
       " (447, 1, 0): 0,\n",
       " (360, 1, 8): 0,\n",
       " (361, 2, 8): 0,\n",
       " (457, 3, 2): 0,\n",
       " (472, 2, 1): 0,\n",
       " (455, 2, 3): 0,\n",
       " (426, 3, 4): 0,\n",
       " (489, 3, 3): 0,\n",
       " (371, 2, 3): 0,\n",
       " (440, 3, 7): 0,\n",
       " (544, 3, 2): 0,\n",
       " (523, 0, 1): 0,\n",
       " (531, 2, 3): 0,\n",
       " (306, 1, 7): 0,\n",
       " (513, 2, 3): 0,\n",
       " (327, 3, 15): 0,\n",
       " (353, 1, 12): 0,\n",
       " (357, 1, 14): 0,\n",
       " (363, 2, 5): 0,\n",
       " (592, 2, 3): 0,\n",
       " (367, 2, 8): 0,\n",
       " (367, 2, 6): 0,\n",
       " (364, 2, 5): 0,\n",
       " (547, 2, 1): 0,\n",
       " (355, 2, 12): 0,\n",
       " (452, 1, 3): 0,\n",
       " (317, 1, 6): 0,\n",
       " (317, 1, 9): 0,\n",
       " (346, 3, 3): 0,\n",
       " (515, 0, 1): 0,\n",
       " (554, 2, 1): 0,\n",
       " (534, 1, 0): 0,\n",
       " (300, 0, 7): 0,\n",
       " (513, 0, 3): 0,\n",
       " (392, 0, 8): 0}"
      ]
     },
     "execution_count": 67,
     "metadata": {},
     "output_type": "execute_result"
    }
   ],
   "source": [
    "K12_index_set"
   ]
  },
  {
   "cell_type": "markdown",
   "metadata": {
    "heading_collapsed": true
   },
   "source": [
    "# Plot some mean squared displacements"
   ]
  },
  {
   "cell_type": "code",
   "execution_count": 46,
   "metadata": {
    "ExecuteTime": {
     "end_time": "2021-02-08T18:41:49.967194Z",
     "start_time": "2021-02-08T18:41:49.921540Z"
    },
    "hidden": true
   },
   "outputs": [],
   "source": [
    "#load df \n",
    "data_folder=os.path.join(nb_dir,'Data/cloud_results')\n",
    "os.chdir(data_folder)\n",
    "data_fn='longest_traj_by_area_lr_pbc.csv'"
   ]
  },
  {
   "cell_type": "code",
   "execution_count": 47,
   "metadata": {
    "ExecuteTime": {
     "end_time": "2021-02-08T18:41:51.096103Z",
     "start_time": "2021-02-08T18:41:51.029953Z"
    },
    "hidden": true
   },
   "outputs": [],
   "source": [
    "#DONE: compute the area for each trial\n",
    "df=pd.read_csv(data_fn)\n",
    "df['area']=df.L**2*0.025**2#cm^2"
   ]
  },
  {
   "cell_type": "code",
   "execution_count": 48,
   "metadata": {
    "ExecuteTime": {
     "end_time": "2021-02-08T18:41:51.991565Z",
     "start_time": "2021-02-08T18:41:51.945920Z"
    },
    "hidden": true
   },
   "outputs": [],
   "source": [
    "#TODO: plot MSD for each trial\n",
    "d=df[(df.L==513)& (df.txt_id1==0)&(df.txt_id2==3)]\n",
    "#TODO: detect brownian motion for each trial\n",
    "#TODO: compute the largest number of repeats of a single trial run"
   ]
  },
  {
   "cell_type": "code",
   "execution_count": 49,
   "metadata": {
    "ExecuteTime": {
     "end_time": "2021-02-08T18:41:58.419818Z",
     "start_time": "2021-02-08T18:41:58.369490Z"
    },
    "hidden": true
   },
   "outputs": [
    {
     "name": "stdout",
     "output_type": "stream",
     "text": [
      "this spiral tip lasted 228.0 ms.\n"
     ]
    }
   ],
   "source": [
    "print(f\"this spiral tip lasted {d.t.max()-d.t.min()} ms.\")"
   ]
  },
  {
   "cell_type": "code",
   "execution_count": 65,
   "metadata": {
    "ExecuteTime": {
     "end_time": "2021-02-08T18:49:26.871851Z",
     "start_time": "2021-02-08T18:49:26.574231Z"
    },
    "hidden": true
   },
   "outputs": [
    {
     "data": {
      "image/png": "[encoded data removed]",
      "text/plain": [
       "<Figure size 432x288 with 1 Axes>"
      ]
     },
     "metadata": {
      "needs_background": "light"
     },
     "output_type": "display_data"
    }
   ],
   "source": [
    "src_lst=['447_1_0',\"523_0_1\",\"529_0_0\"]\n",
    "A_lst=[447**2*DS**2,523**2*DS**2,529**2*DS**2]\n",
    "for A,src in zip(A_lst,src_lst):\n",
    "    d_in=df[df.src==src]\n",
    "\n",
    "    DS=0.025#cm per pixel\n",
    "    DT=2.#ms per frame\n",
    "    #compute ensemble mean squared displacement\n",
    "    emsd = trackpy.motion.emsd(d_in, mpp=1., fps=1.,max_lagtime=40000)\n",
    "    #cast ensemble mean squared displacement into units of cm^2 and seconds\n",
    "    d_out= pd.DataFrame({'msd':DS**2*emsd.values, 'lagt':emsd.index.values*DT/10**3, 'src':src})\n",
    "\n",
    "\n",
    "    x_values=d_out.lagt\n",
    "    y_values=d_out.msd\n",
    "\n",
    "    plt.plot(x_values,y_values,label=f\"{np.around(A)} cm^2\")\n",
    "plt.xlabel('lag (sec)')\n",
    "plt.ylabel(r'MSD (cm$^2$)')\n",
    "plt.legend()\n",
    "plt.show()"
   ]
  },
  {
   "cell_type": "code",
   "execution_count": null,
   "metadata": {
    "hidden": true
   },
   "outputs": [],
   "source": [
    "DT=df.t.head(2).diff().dropna().values[0]"
   ]
  },
  {
   "cell_type": "code",
   "execution_count": 1,
   "metadata": {
    "ExecuteTime": {
     "end_time": "2021-02-17T17:38:28.281393Z",
     "start_time": "2021-02-17T17:38:28.203773Z"
    },
    "hidden": true
   },
   "outputs": [
    {
     "ename": "NameError",
     "evalue": "name 'df' is not defined",
     "output_type": "error",
     "traceback": [
      "\u001b[0;31m----------------------------------------------------\u001b[0m",
      "\u001b[0;31mNameError\u001b[0m          Traceback (most recent call last)",
      "\u001b[0;32m<ipython-input-1-00cf07b74dcd>\u001b[0m in \u001b[0;36m<module>\u001b[0;34m\u001b[0m\n\u001b[0;32m----> 1\u001b[0;31m \u001b[0mdf\u001b[0m\u001b[0;34m\u001b[0m\u001b[0;34m\u001b[0m\u001b[0m\n\u001b[0m",
      "\u001b[0;31mNameError\u001b[0m: name 'df' is not defined"
     ]
    }
   ],
   "source": [
    "df"
   ]
  },
  {
   "cell_type": "markdown",
   "metadata": {
    "heading_collapsed": true
   },
   "source": [
    "# (optional) visualize angular histograms"
   ]
  },
  {
   "cell_type": "code",
   "execution_count": 382,
   "metadata": {
    "ExecuteTime": {
     "end_time": "2021-06-23T21:25:28.280405Z",
     "start_time": "2021-06-23T21:25:28.006825Z"
    },
    "hidden": true
   },
   "outputs": [
    {
     "data": {
      "text/html": [
       "<div>\n",
       "<style scoped>\n",
       "    .dataframe tbody tr th:only-of-type {\n",
       "        vertical-align: middle;\n",
       "    }\n",
       "\n",
       "    .dataframe tbody tr th {\n",
       "        vertical-align: top;\n",
       "    }\n",
       "\n",
       "    .dataframe thead th {\n",
       "        text-align: right;\n",
       "    }\n",
       "</style>\n",
       "<table border=\"1\" class=\"dataframe\">\n",
       "  <thead>\n",
       "    <tr style=\"text-align: right;\">\n",
       "      <th></th>\n",
       "      <th>pid</th>\n",
       "      <th>pid_deathmate</th>\n",
       "      <th>tdeath</th>\n",
       "      <th>r</th>\n",
       "      <th>theta</th>\n",
       "    </tr>\n",
       "  </thead>\n",
       "  <tbody>\n",
       "    <tr>\n",
       "      <th>0</th>\n",
       "      <td>888</td>\n",
       "      <td>978</td>\n",
       "      <td>118.0</td>\n",
       "      <td>1.366658</td>\n",
       "      <td>0.568870</td>\n",
       "    </tr>\n",
       "    <tr>\n",
       "      <th>1</th>\n",
       "      <td>888</td>\n",
       "      <td>978</td>\n",
       "      <td>117.5</td>\n",
       "      <td>1.368553</td>\n",
       "      <td>0.361079</td>\n",
       "    </tr>\n",
       "    <tr>\n",
       "      <th>2</th>\n",
       "      <td>888</td>\n",
       "      <td>978</td>\n",
       "      <td>117.0</td>\n",
       "      <td>1.374627</td>\n",
       "      <td>3.011826</td>\n",
       "    </tr>\n",
       "    <tr>\n",
       "      <th>3</th>\n",
       "      <td>888</td>\n",
       "      <td>978</td>\n",
       "      <td>116.5</td>\n",
       "      <td>1.376211</td>\n",
       "      <td>2.989086</td>\n",
       "    </tr>\n",
       "    <tr>\n",
       "      <th>4</th>\n",
       "      <td>888</td>\n",
       "      <td>978</td>\n",
       "      <td>116.0</td>\n",
       "      <td>1.374350</td>\n",
       "      <td>0.375708</td>\n",
       "    </tr>\n",
       "  </tbody>\n",
       "</table>\n",
       "</div>"
      ],
      "text/plain": [
       "   pid  pid_deathmate  tdeath         r     theta\n",
       "0  888            978   118.0  1.366658  0.568870\n",
       "1  888            978   117.5  1.368553  0.361079\n",
       "2  888            978   117.0  1.374627  3.011826\n",
       "3  888            978   116.5  1.376211  2.989086\n",
       "4  888            978   116.0  1.374350  0.375708"
      ]
     },
     "execution_count": 382,
     "metadata": {},
     "output_type": "execute_result"
    }
   ],
   "source": [
    "#LR results for DT = 0.5 ms\n",
    "#annihilations aggregated\n",
    "input_fn=\"/home/timothytyree/Documents/GitHub/care/notebooks/Data/initial-conditions-suite-3-LR/param_qu_tmax_30_Ko_5.4_diffCoef_0.0005_dt_0.5/annihilations_minr_1.0_mindur_20.0.csv\"\n",
    "# # #creations aggregated\n",
    "# input_fn=\"/home/timothytyree/Documents/GitHub/care/notebooks/Data/initial-conditions-suite-3-LR/param_qu_tmax_30_Ko_5.4_diffCoef_0.0005_dt_0.5/creations_minr_1.0_mindur_20.0.csv\"\n",
    "\n",
    "# #FK results for DT = 0.4 ms\n",
    "# #annihilations aggregated\n",
    "# input_fn=\"/home/timothytyree/Documents/GitHub/care/notebooks/Data/initial-conditions-fk-200x200/param_set_8_ds_5.0_tmax_10_diffCoef_0.0005/annihilations_minr_1.0_mindur_20.0.csv\"\n",
    "# # #creations aggregated\n",
    "# input_fn=\"/home/timothytyree/Documents/GitHub/care/notebooks/Data/initial-conditions-fk-200x200/param_set_8_ds_5.0_tmax_10_diffCoef_0.0005/creations_minr_1.0_mindur_20.0.csv\"\n",
    "\n",
    "# input_fn=search_for_file()\n",
    "# input_fn=\"/home/timothytyree/Documents/GitHub/care/notebooks/Data/initial-conditions-suite-3-LR/param_qu_tmax_30_Ko_3.8_diffCoef_0.0005/annihilations/ic001.21_traj_sr_600_mem_0_annihilations.csv\"\n",
    "df=pd.read_csv(input_fn)\n",
    "df.head()"
   ]
  },
  {
   "cell_type": "code",
   "execution_count": null,
   "metadata": {
    "ExecuteTime": {
     "end_time": "2021-06-23T03:53:48.883100Z",
     "start_time": "2021-06-23T03:53:48.828687Z"
    },
    "hidden": true
   },
   "outputs": [],
   "source": []
  },
  {
   "cell_type": "code",
   "execution_count": 383,
   "metadata": {
    "ExecuteTime": {
     "end_time": "2021-06-23T21:25:30.259854Z",
     "start_time": "2021-06-23T21:25:30.151989Z"
    },
    "hidden": true
   },
   "outputs": [
    {
     "name": "stdout",
     "output_type": "stream",
     "text": [
      "considering angles at times (tA,tB,tC)=(0.5, 4.0, 20.0) milliseconds.\n"
     ]
    }
   ],
   "source": [
    "#slice df to a given tdeath\n",
    "t_values=sorted(set(df.tdeath.values))\n",
    "# t_values=sorted(set(df.tbirth.values))\n",
    "\n",
    "# #FK\n",
    "# tA=t_values[0]#.4\n",
    "# tB=t_values[9]#4.\n",
    "# tC=t_values[49]#20.\n",
    "#LR\n",
    "tA=t_values[0]\n",
    "tB=t_values[7]\n",
    "tC=t_values[39]\n",
    "\n",
    "print(f\"considering angles at times (tA,tB,tC)={(tA,tB,tC)} milliseconds.\")\n",
    "\n",
    "anglesA=df[df.tdeath==tA].theta.values\n",
    "anglesB=df[df.tdeath==tB].theta.values\n",
    "anglesC=df[df.tdeath==tC].theta.values\n",
    "\n",
    "# anglesA=df[df.tbirth==tA].theta.values\n",
    "# anglesB=df[df.tbirth==tB].theta.values\n",
    "# anglesC=df[df.tbirth==tC].theta.values\n",
    "\n",
    "\n",
    "ax_lst=[0,1,2]\n",
    "color_lst=['C0','C1','C2']\n",
    "angle_lst=[anglesA,anglesB,anglesC]"
   ]
  },
  {
   "cell_type": "code",
   "execution_count": 384,
   "metadata": {
    "ExecuteTime": {
     "end_time": "2021-06-23T21:25:30.797997Z",
     "start_time": "2021-06-23T21:25:30.777910Z"
    },
    "hidden": true
   },
   "outputs": [],
   "source": [
    "#angular histogram viewer from optical_flow\n",
    "# the area of each bin is proportional to the number of observations in it,\n",
    "bins=4*16\n",
    "symmetrize=False\n",
    "density=True"
   ]
  },
  {
   "cell_type": "code",
   "execution_count": 385,
   "metadata": {
    "ExecuteTime": {
     "end_time": "2021-06-23T21:25:30.821812Z",
     "start_time": "2021-06-23T21:25:30.799487Z"
    },
    "hidden": true
   },
   "outputs": [],
   "source": [
    "kwargs={\n",
    "    'symmetrize':symmetrize,\n",
    "    'density':density,\n",
    "    'bins':bins,\n",
    "    'alpha':0.4\n",
    "}\n",
    "\n",
    "x_values=np.linspace(0,2*np.pi,50)\n",
    "if density:\n",
    "    y0=1/(bins * np.pi)**0.5\n",
    "else:\n",
    "    y0=1/(bins)*angles.size"
   ]
  },
  {
   "cell_type": "code",
   "execution_count": 386,
   "metadata": {
    "ExecuteTime": {
     "end_time": "2021-06-23T21:25:31.807321Z",
     "start_time": "2021-06-23T21:25:31.789469Z"
    },
    "hidden": true
   },
   "outputs": [
    {
     "name": "stdout",
     "output_type": "stream",
     "text": [
      "the number of events considered is 5279.\n"
     ]
    }
   ],
   "source": [
    "print(f\"the number of events considered is {anglesA.shape[0]}.\")"
   ]
  },
  {
   "cell_type": "code",
   "execution_count": null,
   "metadata": {
    "hidden": true
   },
   "outputs": [],
   "source": []
  },
  {
   "cell_type": "code",
   "execution_count": 387,
   "metadata": {
    "ExecuteTime": {
     "end_time": "2021-06-23T21:25:33.327992Z",
     "start_time": "2021-06-23T21:25:32.346607Z"
    },
    "hidden": true,
    "scrolled": true
   },
   "outputs": [
    {
     "name": "stdout",
     "output_type": "stream",
     "text": [
      "considering angles at times (tA,tB,tC)=(0.5, 4.0, 20.0) milliseconds.\n"
     ]
    },
    {
     "data": {
      "image/png": "[encoded data removed]",
      "text/plain": [
       "<Figure size 576x288 with 3 Axes>"
      ]
     },
     "metadata": {
      "needs_background": "light"
     },
     "output_type": "display_data"
    }
   ],
   "source": [
    "import matplotlib.pyplot as plt\n",
    "import numpy as np\n",
    "\n",
    "\n",
    "# Construct figure and axis to plot on\n",
    "figsize=(8,4)\n",
    "fig, axs = plt.subplots(ncols=3, subplot_kw=dict(projection='polar'),figsize=figsize)\n",
    "\n",
    "# Visualise by area of bins\n",
    "for i,angles,color in zip(ax_lst,angle_lst,color_lst):\n",
    "    circular_hist(axs[i], x=angles,color=color,edgecolor=color,**kwargs)\n",
    "    axs[i].plot(x_values,y0+0.*x_values,'k--',lw=2,alpha=0.7)\n",
    "    axs[i].set_ylim([0,2*y0])\n",
    "plt.tight_layout()\n",
    "print(f\"considering angles at times (tA,tB,tC)={(tA,tB,tC)} milliseconds.\")\n",
    "\n",
    "plt.show()"
   ]
  },
  {
   "cell_type": "markdown",
   "metadata": {
    "ExecuteTime": {
     "end_time": "2021-06-23T04:27:50.692785Z",
     "start_time": "2021-06-23T04:27:50.663141Z"
    }
   },
   "source": [
    "# (optional) visualize those other plots for annihilation/creation events"
   ]
  },
  {
   "cell_type": "code",
   "execution_count": 299,
   "metadata": {
    "ExecuteTime": {
     "end_time": "2021-06-23T20:19:00.659572Z",
     "start_time": "2021-06-23T20:18:59.948248Z"
    }
   },
   "outputs": [],
   "source": [
    "df.sort_values('tdeath',ascending=True,inplace=True)"
   ]
  },
  {
   "cell_type": "code",
   "execution_count": 373,
   "metadata": {
    "ExecuteTime": {
     "end_time": "2021-06-23T21:01:29.759878Z",
     "start_time": "2021-06-23T21:01:28.106335Z"
    }
   },
   "outputs": [
    {
     "data": {
      "text/html": [
       "<div>\n",
       "<style scoped>\n",
       "    .dataframe tbody tr th:only-of-type {\n",
       "        vertical-align: middle;\n",
       "    }\n",
       "\n",
       "    .dataframe tbody tr th {\n",
       "        vertical-align: top;\n",
       "    }\n",
       "\n",
       "    .dataframe thead th {\n",
       "        text-align: right;\n",
       "    }\n",
       "</style>\n",
       "<table border=\"1\" class=\"dataframe\">\n",
       "  <thead>\n",
       "    <tr style=\"text-align: right;\">\n",
       "      <th></th>\n",
       "      <th>pid</th>\n",
       "      <th>pid_birthmate</th>\n",
       "      <th>tbirth</th>\n",
       "      <th>r</th>\n",
       "      <th>theta</th>\n",
       "    </tr>\n",
       "  </thead>\n",
       "  <tbody>\n",
       "    <tr>\n",
       "      <th>0</th>\n",
       "      <td>285</td>\n",
       "      <td>284</td>\n",
       "      <td>0.4</td>\n",
       "      <td>0.204170</td>\n",
       "      <td>0.032240</td>\n",
       "    </tr>\n",
       "    <tr>\n",
       "      <th>1</th>\n",
       "      <td>285</td>\n",
       "      <td>284</td>\n",
       "      <td>0.8</td>\n",
       "      <td>0.270681</td>\n",
       "      <td>0.036714</td>\n",
       "    </tr>\n",
       "    <tr>\n",
       "      <th>2</th>\n",
       "      <td>285</td>\n",
       "      <td>284</td>\n",
       "      <td>1.2</td>\n",
       "      <td>0.321884</td>\n",
       "      <td>0.042506</td>\n",
       "    </tr>\n",
       "    <tr>\n",
       "      <th>3</th>\n",
       "      <td>285</td>\n",
       "      <td>284</td>\n",
       "      <td>1.6</td>\n",
       "      <td>0.363609</td>\n",
       "      <td>0.045664</td>\n",
       "    </tr>\n",
       "    <tr>\n",
       "      <th>4</th>\n",
       "      <td>285</td>\n",
       "      <td>284</td>\n",
       "      <td>2.0</td>\n",
       "      <td>0.400710</td>\n",
       "      <td>0.062050</td>\n",
       "    </tr>\n",
       "  </tbody>\n",
       "</table>\n",
       "</div>"
      ],
      "text/plain": [
       "   pid  pid_birthmate  tbirth         r     theta\n",
       "0  285            284     0.4  0.204170  0.032240\n",
       "1  285            284     0.8  0.270681  0.036714\n",
       "2  285            284     1.2  0.321884  0.042506\n",
       "3  285            284     1.6  0.363609  0.045664\n",
       "4  285            284     2.0  0.400710  0.062050"
      ]
     },
     "execution_count": 373,
     "metadata": {},
     "output_type": "execute_result"
    }
   ],
   "source": [
    "#LR results for DT = 0.5 ms\n",
    "#annihilations aggregated\n",
    "# input_fn=\"/home/timothytyree/Documents/GitHub/care/notebooks/Data/initial-conditions-suite-3-LR/param_qu_tmax_30_Ko_5.4_diffCoef_0.0005_dt_0.5/annihilations_minr_1.0_mindur_20.0.csv\"\n",
    "# # #creations aggregated\n",
    "# input_fn=\"/home/timothytyree/Documents/GitHub/care/notebooks/Data/initial-conditions-suite-3-LR/param_qu_tmax_30_Ko_5.4_diffCoef_0.0005_dt_0.5/creations_minr_1.0_mindur_20.0.csv\"\n",
    "\n",
    "# #FK results for DT = 0.4 ms\n",
    "# #annihilations aggregated\n",
    "# input_fn=\"/home/timothytyree/Documents/GitHub/care/notebooks/Data/initial-conditions-fk-200x200/param_set_8_ds_5.0_tmax_10_diffCoef_0.0005/annihilations_minr_1.0_mindur_20.0.csv\"\n",
    "# # #creations aggregated\n",
    "input_fn=\"/home/timothytyree/Documents/GitHub/care/notebooks/Data/initial-conditions-fk-200x200/param_set_8_ds_5.0_tmax_10_diffCoef_0.0005/creations_minr_1.0_mindur_20.0.csv\"\n",
    "\n",
    "# input_fn=search_for_file()\n",
    "# input_fn=\"/home/timothytyree/Documents/GitHub/care/notebooks/Data/initial-conditions-suite-3-LR/param_qu_tmax_30_Ko_3.8_diffCoef_0.0005/annihilations/ic001.21_traj_sr_600_mem_0_annihilations.csv\"\n",
    "df=pd.read_csv(input_fn)\n",
    "df.head()"
   ]
  },
  {
   "cell_type": "code",
   "execution_count": 374,
   "metadata": {
    "ExecuteTime": {
     "end_time": "2021-06-23T21:01:30.307489Z",
     "start_time": "2021-06-23T21:01:30.288847Z"
    }
   },
   "outputs": [
    {
     "data": {
      "text/plain": [
       "array([  0.5,   1. ,   1.5,   2. ,   2.5,   3. ,   3.5,   4. ,   4.5,\n",
       "         5. ,   5.5,   6. ,   6.5,   7. ,   7.5,   8. ,   8.5,   9. ,\n",
       "         9.5,  10. ,  10.5,  11. ,  11.5,  12. ,  12.5,  13. ,  13.5,\n",
       "        14. ,  14.5,  15. ,  15.5,  16. ,  16.5,  17. ,  17.5,  18. ,\n",
       "        18.5,  19. ,  19.5,  20. ,  20.5,  21. ,  21.5,  22. ,  22.5,\n",
       "        23. ,  23.5,  24. ,  24.5,  25. ,  25.5,  26. ,  26.5,  27. ,\n",
       "        27.5,  28. ,  28.5,  29. ,  29.5,  30. ,  30.5,  31. ,  31.5,\n",
       "        32. ,  32.5,  33. ,  33.5,  34. ,  34.5,  35. ,  35.5,  36. ,\n",
       "        36.5,  37. ,  37.5,  38. ,  38.5,  39. ,  39.5,  40. ,  40.5,\n",
       "        41. ,  41.5,  42. ,  42.5,  43. ,  43.5,  44. ,  44.5,  45. ,\n",
       "        45.5,  46. ,  46.5,  47. ,  47.5,  48. ,  48.5,  49. ,  49.5,\n",
       "        50. ,  50.5,  51. ,  51.5,  52. ,  52.5,  53. ,  53.5,  54. ,\n",
       "        54.5,  55. ,  55.5,  56. ,  56.5,  57. ,  57.5,  58. ,  58.5,\n",
       "        59. ,  59.5,  60. ,  60.5,  61. ,  61.5,  62. ,  62.5,  63. ,\n",
       "        63.5,  64. ,  64.5,  65. ,  65.5,  66. ,  66.5,  67. ,  67.5,\n",
       "        68. ,  68.5,  69. ,  69.5,  70. ,  70.5,  71. ,  71.5,  72. ,\n",
       "        72.5,  73. ,  73.5,  74. ,  74.5,  75. ,  75.5,  76. ,  76.5,\n",
       "        77. ,  77.5,  78. ,  78.5,  79. ,  79.5,  80. ,  80.5,  81. ,\n",
       "        81.5,  82. ,  82.5,  83. ,  83.5,  84. ,  84.5,  85. ,  85.5,\n",
       "        86. ,  86.5,  87. ,  87.5,  88. ,  88.5,  89. ,  89.5,  90. ,\n",
       "        90.5,  91. ,  91.5,  92. ,  92.5,  93. ,  93.5,  94. ,  94.5,\n",
       "        95. ,  95.5,  96. ,  96.5,  97. ,  97.5,  98. ,  98.5,  99. ,\n",
       "        99.5, 100. , 100.5, 101. , 101.5, 102. , 102.5, 103. , 103.5,\n",
       "       104. , 104.5, 105. , 105.5, 106. , 106.5, 107. , 107.5, 108. ,\n",
       "       108.5, 109. , 109.5, 110. , 110.5, 111. , 111.5, 112. , 112.5,\n",
       "       113. , 113.5, 114. , 114.5, 115. , 115.5, 116. , 116.5, 117. ,\n",
       "       117.5, 118. , 118.5, 119. , 119.5, 120. , 120.5, 121. , 121.5,\n",
       "       122. , 122.5, 123. , 123.5, 124. , 124.5, 125. , 125.5, 126. ,\n",
       "       126.5, 127. , 127.5, 128. , 128.5, 129. , 129.5, 130. , 130.5,\n",
       "       131. , 131.5, 132. , 132.5, 133. , 133.5, 134. , 134.5, 135. ,\n",
       "       135.5, 136. , 136.5, 137. , 137.5, 138. , 138.5, 139. , 139.5,\n",
       "       140. , 140.5, 141. , 141.5, 142. , 142.5, 143. , 143.5, 144. ,\n",
       "       144.5, 145. , 145.5, 146. , 146.5, 147. , 147.5, 148. , 148.5,\n",
       "       149. , 149.5, 150. , 150.5, 151. , 151.5, 152. , 152.5, 153. ,\n",
       "       153.5, 154. , 154.5, 155. , 155.5, 156. , 156.5, 157. , 157.5,\n",
       "       158. , 158.5, 159. , 159.5, 160. , 160.5, 161. , 161.5, 162. ,\n",
       "       162.5, 163. , 163.5, 164. , 164.5, 165. , 165.5, 166. , 166.5,\n",
       "       167. , 167.5, 168. , 168.5, 169. , 169.5, 170. , 170.5, 171. ,\n",
       "       171.5, 172. , 172.5, 173. , 173.5, 174. , 174.5, 175. , 175.5,\n",
       "       176. , 176.5, 177. , 177.5, 178. , 178.5, 179. , 179.5, 180. ,\n",
       "       180.5, 181. , 181.5, 182. , 182.5, 183. , 183.5, 184. , 184.5,\n",
       "       185. , 185.5, 186. , 186.5, 187. , 187.5, 188. , 188.5, 189. ,\n",
       "       189.5, 190. , 190.5, 191. , 191.5, 192. , 192.5, 193. , 193.5,\n",
       "       194. , 194.5, 195. , 195.5, 196. , 196.5, 197. , 197.5, 198. ,\n",
       "       198.5, 199. , 199.5, 200. , 200.5, 201. , 201.5, 202. , 202.5,\n",
       "       203. , 203.5, 204. , 204.5, 205. , 205.5, 206. , 206.5, 207. ,\n",
       "       207.5, 208. , 208.5, 209. , 209.5, 210. , 210.5, 211. , 211.5,\n",
       "       212. , 212.5, 213. , 213.5, 214. , 214.5, 215. , 215.5, 216. ,\n",
       "       216.5, 217. , 217.5, 218. , 218.5, 219. , 219.5, 220. , 220.5,\n",
       "       221. , 221.5, 222. , 222.5, 223. , 223.5, 224. , 224.5, 225. ,\n",
       "       225.5, 226. , 226.5, 227. , 227.5, 228. , 228.5, 229. , 229.5,\n",
       "       230. , 230.5, 231. , 231.5, 232. , 232.5, 233. , 233.5, 234. ,\n",
       "       234.5, 235. , 235.5, 236. , 236.5, 237. , 237.5, 238. , 238.5,\n",
       "       239. , 239.5, 240. , 240.5, 241. , 241.5, 242. , 242.5, 243. ,\n",
       "       243.5, 244. , 244.5, 245. , 245.5, 246. , 246.5, 247. , 247.5,\n",
       "       248. , 248.5, 249. , 249.5, 250. , 250.5, 251. , 251.5, 252. ,\n",
       "       252.5, 253. , 253.5, 254. , 254.5, 255. , 255.5, 256. , 256.5,\n",
       "       257. , 257.5, 258. , 258.5, 259. , 259.5, 260. , 260.5, 261. ,\n",
       "       261.5, 262. , 262.5, 263. , 263.5, 264. , 264.5, 265. , 265.5,\n",
       "       266. , 266.5, 267. , 267.5, 268. , 268.5, 269. , 269.5, 270. ,\n",
       "       270.5, 271. , 271.5, 272. , 272.5, 273. ])"
      ]
     },
     "execution_count": 374,
     "metadata": {},
     "output_type": "execute_result"
    }
   ],
   "source": [
    "t_values"
   ]
  },
  {
   "cell_type": "code",
   "execution_count": 375,
   "metadata": {
    "ExecuteTime": {
     "end_time": "2021-06-23T21:01:30.845644Z",
     "start_time": "2021-06-23T21:01:30.830513Z"
    }
   },
   "outputs": [],
   "source": [
    "df_phases=df"
   ]
  },
  {
   "cell_type": "code",
   "execution_count": 376,
   "metadata": {
    "ExecuteTime": {
     "end_time": "2021-06-23T21:01:31.442530Z",
     "start_time": "2021-06-23T21:01:31.426232Z"
    }
   },
   "outputs": [
    {
     "data": {
      "text/plain": [
       "1.7861593024454532"
      ]
     },
     "execution_count": 376,
     "metadata": {},
     "output_type": "execute_result"
    }
   ],
   "source": [
    "np.max(r_values)"
   ]
  },
  {
   "cell_type": "code",
   "execution_count": 378,
   "metadata": {
    "ExecuteTime": {
     "end_time": "2021-06-23T21:01:41.192279Z",
     "start_time": "2021-06-23T21:01:40.641949Z"
    }
   },
   "outputs": [
    {
     "name": "stdout",
     "output_type": "stream",
     "text": [
      "considering angles at times (tA,tB,tC)=(0.4, 3.2, 16.0) milliseconds.\n"
     ]
    }
   ],
   "source": [
    "#slice df to a given tdeath\n",
    "# t_values=sorted(set(df.tdeath.values))\n",
    "t_values=sorted(set(df.tbirth.values))\n",
    "\n",
    "# #FK\n",
    "# tA=t_values[0]#.4\n",
    "# tB=t_values[9]#4.\n",
    "# tC=t_values[49]#20.\n",
    "#LR\n",
    "tA=t_values[0]\n",
    "tB=t_values[7]\n",
    "tC=t_values[39]\n",
    "\n",
    "print(f\"considering angles at times (tA,tB,tC)={(tA,tB,tC)} milliseconds.\")\n",
    "\n",
    "# anglesA=df[df.tdeath==tA].theta.values\n",
    "# anglesB=df[df.tdeath==tB].theta.values\n",
    "# anglesC=df[df.tdeath==tC].theta.values\n",
    "\n",
    "# # anglesA=df[df.tbirth==tA].theta.values\n",
    "# # anglesB=df[df.tbirth==tB].theta.values\n",
    "# # anglesC=df[df.tbirth==tC].theta.values\n",
    "\n",
    "\n",
    "# ax_lst=[0,1,2]\n",
    "color_lst=['C0','C1','C2']\n",
    "# angle_lst=[anglesA,anglesB,anglesC]"
   ]
  },
  {
   "cell_type": "code",
   "execution_count": 379,
   "metadata": {
    "ExecuteTime": {
     "end_time": "2021-06-23T21:01:41.975665Z",
     "start_time": "2021-06-23T21:01:41.953256Z"
    }
   },
   "outputs": [
    {
     "ename": "AttributeError",
     "evalue": "'DataFrame' object has no attribute 'tdeath'",
     "output_type": "error",
     "traceback": [
      "\u001b[0;31m---------------------------------------------------------------------------\u001b[0m",
      "\u001b[0;31mAttributeError\u001b[0m                            Traceback (most recent call last)",
      "\u001b[0;32m<ipython-input-379-c9a484702c30>\u001b[0m in \u001b[0;36m<module>\u001b[0;34m\u001b[0m\n\u001b[0;32m----> 1\u001b[0;31m \u001b[0mDT\u001b[0m\u001b[0;34m=\u001b[0m\u001b[0msorted\u001b[0m\u001b[0;34m(\u001b[0m\u001b[0mset\u001b[0m\u001b[0;34m(\u001b[0m\u001b[0mdf\u001b[0m\u001b[0;34m.\u001b[0m\u001b[0mtdeath\u001b[0m\u001b[0;34m.\u001b[0m\u001b[0mvalues\u001b[0m\u001b[0;34m)\u001b[0m\u001b[0;34m)\u001b[0m\u001b[0;34m[\u001b[0m\u001b[0;36m0\u001b[0m\u001b[0;34m]\u001b[0m\u001b[0;34m\u001b[0m\u001b[0;34m\u001b[0m\u001b[0m\n\u001b[0m",
      "\u001b[0;32m~/anaconda3/lib/python3.7/site-packages/pandas/core/generic.py\u001b[0m in \u001b[0;36m__getattr__\u001b[0;34m(self, name)\u001b[0m\n\u001b[1;32m   5272\u001b[0m             \u001b[0;32mif\u001b[0m \u001b[0mself\u001b[0m\u001b[0;34m.\u001b[0m\u001b[0m_info_axis\u001b[0m\u001b[0;34m.\u001b[0m\u001b[0m_can_hold_identifiers_and_holds_name\u001b[0m\u001b[0;34m(\u001b[0m\u001b[0mname\u001b[0m\u001b[0;34m)\u001b[0m\u001b[0;34m:\u001b[0m\u001b[0;34m\u001b[0m\u001b[0;34m\u001b[0m\u001b[0m\n\u001b[1;32m   5273\u001b[0m                 \u001b[0;32mreturn\u001b[0m \u001b[0mself\u001b[0m\u001b[0;34m[\u001b[0m\u001b[0mname\u001b[0m\u001b[0;34m]\u001b[0m\u001b[0;34m\u001b[0m\u001b[0;34m\u001b[0m\u001b[0m\n\u001b[0;32m-> 5274\u001b[0;31m             \u001b[0;32mreturn\u001b[0m \u001b[0mobject\u001b[0m\u001b[0;34m.\u001b[0m\u001b[0m__getattribute__\u001b[0m\u001b[0;34m(\u001b[0m\u001b[0mself\u001b[0m\u001b[0;34m,\u001b[0m \u001b[0mname\u001b[0m\u001b[0;34m)\u001b[0m\u001b[0;34m\u001b[0m\u001b[0;34m\u001b[0m\u001b[0m\n\u001b[0m\u001b[1;32m   5275\u001b[0m \u001b[0;34m\u001b[0m\u001b[0m\n\u001b[1;32m   5276\u001b[0m     \u001b[0;32mdef\u001b[0m \u001b[0m__setattr__\u001b[0m\u001b[0;34m(\u001b[0m\u001b[0mself\u001b[0m\u001b[0;34m,\u001b[0m \u001b[0mname\u001b[0m\u001b[0;34m:\u001b[0m \u001b[0mstr\u001b[0m\u001b[0;34m,\u001b[0m \u001b[0mvalue\u001b[0m\u001b[0;34m)\u001b[0m \u001b[0;34m->\u001b[0m \u001b[0;32mNone\u001b[0m\u001b[0;34m:\u001b[0m\u001b[0;34m\u001b[0m\u001b[0;34m\u001b[0m\u001b[0m\n",
      "\u001b[0;31mAttributeError\u001b[0m: 'DataFrame' object has no attribute 'tdeath'"
     ]
    }
   ],
   "source": [
    "DT=sorted(set(df.tdeath.values))[0]"
   ]
  },
  {
   "cell_type": "code",
   "execution_count": 380,
   "metadata": {
    "ExecuteTime": {
     "end_time": "2021-06-23T21:01:43.939322Z",
     "start_time": "2021-06-23T21:01:42.625772Z"
    }
   },
   "outputs": [
    {
     "data": {
      "image/png": "[encoded data removed]",
      "text/plain": [
       "<Figure size 504x216 with 2 Axes>"
      ]
     },
     "metadata": {
      "needs_background": "light"
     },
     "output_type": "display_data"
    }
   ],
   "source": [
    "#compute/plot average over particles\n",
    "N=len(list(set(df_phases.pid.values)))\n",
    "dfm=df_phases.groupby('tbirth').mean()\n",
    "dfs=df_phases.groupby('tbirth').std()\n",
    "\n",
    "\n",
    "# dfm=df_phases.groupby('tdeath').mean()\n",
    "# dfs=df_phases.groupby('tdeath').std()\n",
    "x_values=dfm.index.values\n",
    "y_values=dfm.theta.values\n",
    "yerr_values=dfs.theta.values\n",
    "\n",
    "fig,axs=plt.subplots(ncols=2,figsize=(7,3))#(5,4))\n",
    "\n",
    "ax=axs[0]\n",
    "ax.fill_between(x_values, y_values-yerr_values, y_values+yerr_values,color='gray',alpha=0.2)\n",
    "ax.plot(x_values,y_values,'k--',lw=2)\n",
    "ax.set_xlim([DT,20])\n",
    "ax.set_xlabel('time after creation (ms)',fontsize=fontsize)\n",
    "\n",
    "# ax.set_xlabel('time until annihilation (ms)',fontsize=fontsize)\n",
    "ax.set_ylabel('angle between\\n velocities (radians)',fontsize=fontsize)\n",
    "ax.set_xscale('log')\n",
    "ax.tick_params(axis='both', which='major', labelsize=fontsize)\n",
    "ax.tick_params(axis='both', which='minor', labelsize=1)\n",
    "\n",
    "#plot the mean drdt versus r\n",
    "t_values=dfm.index.values\n",
    "range_values=dfm.r.values\n",
    "drdt_values=np.diff(range_values)/DT\n",
    "r_values=range_values[1:]/2+range_values[:-1]/2\n",
    "ax=axs[1]\n",
    "ax.scatter(r_values,drdt_values,alpha=alpha,label='_Hidden',c='gray',s=10)\n",
    "ax.set_xscale('log')\n",
    "ax.set_yscale('log')\n",
    "ax.tick_params(axis='both', which='major', labelsize=fontsize)\n",
    "ax.tick_params(axis='both', which='minor', labelsize=1)\n",
    "ax.set_xlabel('r (cm)',fontsize=fontsize)\n",
    "ax.set_ylabel('dr/dt (cm/ms)',fontsize=fontsize)\n",
    "ax.axis([1e-1,2,1e-3,0.2])\n",
    "\n",
    "plt.tight_layout()\n",
    "plt.show()"
   ]
  },
  {
   "cell_type": "code",
   "execution_count": null,
   "metadata": {},
   "outputs": [],
   "source": []
  },
  {
   "cell_type": "code",
   "execution_count": 363,
   "metadata": {
    "ExecuteTime": {
     "end_time": "2021-06-23T20:59:15.031730Z",
     "start_time": "2021-06-23T20:59:13.036537Z"
    }
   },
   "outputs": [
    {
     "ename": "OverflowError",
     "evalue": "Exceeded cell block limit (set 'agg.path.chunksize' rcparam)",
     "output_type": "error",
     "traceback": [
      "\u001b[0;31m---------------------------------------------------------------------------\u001b[0m",
      "\u001b[0;31mOverflowError\u001b[0m                             Traceback (most recent call last)",
      "\u001b[0;32m~/anaconda3/lib/python3.7/site-packages/matplotlib/backends/backend_agg.py\u001b[0m in \u001b[0;36mdraw_path\u001b[0;34m(self, gc, path, transform, rgbFace)\u001b[0m\n\u001b[1;32m    145\u001b[0m             \u001b[0;32mtry\u001b[0m\u001b[0;34m:\u001b[0m\u001b[0;34m\u001b[0m\u001b[0;34m\u001b[0m\u001b[0m\n\u001b[0;32m--> 146\u001b[0;31m                 \u001b[0mself\u001b[0m\u001b[0;34m.\u001b[0m\u001b[0m_renderer\u001b[0m\u001b[0;34m.\u001b[0m\u001b[0mdraw_path\u001b[0m\u001b[0;34m(\u001b[0m\u001b[0mgc\u001b[0m\u001b[0;34m,\u001b[0m \u001b[0mpath\u001b[0m\u001b[0;34m,\u001b[0m \u001b[0mtransform\u001b[0m\u001b[0;34m,\u001b[0m \u001b[0mrgbFace\u001b[0m\u001b[0;34m)\u001b[0m\u001b[0;34m\u001b[0m\u001b[0;34m\u001b[0m\u001b[0m\n\u001b[0m\u001b[1;32m    147\u001b[0m             \u001b[0;32mexcept\u001b[0m \u001b[0mOverflowError\u001b[0m\u001b[0;34m:\u001b[0m\u001b[0;34m\u001b[0m\u001b[0;34m\u001b[0m\u001b[0m\n",
      "\u001b[0;31mOverflowError\u001b[0m: In draw_path: Exceeded cell block limit",
      "\nDuring handling of the above exception, another exception occurred:\n",
      "\u001b[0;31mOverflowError\u001b[0m                             Traceback (most recent call last)",
      "\u001b[0;32m~/anaconda3/lib/python3.7/site-packages/IPython/core/formatters.py\u001b[0m in \u001b[0;36m__call__\u001b[0;34m(self, obj)\u001b[0m\n\u001b[1;32m    339\u001b[0m                 \u001b[0;32mpass\u001b[0m\u001b[0;34m\u001b[0m\u001b[0;34m\u001b[0m\u001b[0m\n\u001b[1;32m    340\u001b[0m             \u001b[0;32melse\u001b[0m\u001b[0;34m:\u001b[0m\u001b[0;34m\u001b[0m\u001b[0;34m\u001b[0m\u001b[0m\n\u001b[0;32m--> 341\u001b[0;31m                 \u001b[0;32mreturn\u001b[0m \u001b[0mprinter\u001b[0m\u001b[0;34m(\u001b[0m\u001b[0mobj\u001b[0m\u001b[0;34m)\u001b[0m\u001b[0;34m\u001b[0m\u001b[0;34m\u001b[0m\u001b[0m\n\u001b[0m\u001b[1;32m    342\u001b[0m             \u001b[0;31m# Finally look for special method names\u001b[0m\u001b[0;34m\u001b[0m\u001b[0;34m\u001b[0m\u001b[0;34m\u001b[0m\u001b[0m\n\u001b[1;32m    343\u001b[0m             \u001b[0mmethod\u001b[0m \u001b[0;34m=\u001b[0m \u001b[0mget_real_method\u001b[0m\u001b[0;34m(\u001b[0m\u001b[0mobj\u001b[0m\u001b[0;34m,\u001b[0m \u001b[0mself\u001b[0m\u001b[0;34m.\u001b[0m\u001b[0mprint_method\u001b[0m\u001b[0;34m)\u001b[0m\u001b[0;34m\u001b[0m\u001b[0;34m\u001b[0m\u001b[0m\n",
      "\u001b[0;32m~/anaconda3/lib/python3.7/site-packages/IPython/core/pylabtools.py\u001b[0m in \u001b[0;36m<lambda>\u001b[0;34m(fig)\u001b[0m\n\u001b[1;32m    246\u001b[0m \u001b[0;34m\u001b[0m\u001b[0m\n\u001b[1;32m    247\u001b[0m     \u001b[0;32mif\u001b[0m \u001b[0;34m'png'\u001b[0m \u001b[0;32min\u001b[0m \u001b[0mformats\u001b[0m\u001b[0;34m:\u001b[0m\u001b[0;34m\u001b[0m\u001b[0;34m\u001b[0m\u001b[0m\n\u001b[0;32m--> 248\u001b[0;31m         \u001b[0mpng_formatter\u001b[0m\u001b[0;34m.\u001b[0m\u001b[0mfor_type\u001b[0m\u001b[0;34m(\u001b[0m\u001b[0mFigure\u001b[0m\u001b[0;34m,\u001b[0m \u001b[0;32mlambda\u001b[0m \u001b[0mfig\u001b[0m\u001b[0;34m:\u001b[0m \u001b[0mprint_figure\u001b[0m\u001b[0;34m(\u001b[0m\u001b[0mfig\u001b[0m\u001b[0;34m,\u001b[0m \u001b[0;34m'png'\u001b[0m\u001b[0;34m,\u001b[0m \u001b[0;34m**\u001b[0m\u001b[0mkwargs\u001b[0m\u001b[0;34m)\u001b[0m\u001b[0;34m)\u001b[0m\u001b[0;34m\u001b[0m\u001b[0;34m\u001b[0m\u001b[0m\n\u001b[0m\u001b[1;32m    249\u001b[0m     \u001b[0;32mif\u001b[0m \u001b[0;34m'retina'\u001b[0m \u001b[0;32min\u001b[0m \u001b[0mformats\u001b[0m \u001b[0;32mor\u001b[0m \u001b[0;34m'png2x'\u001b[0m \u001b[0;32min\u001b[0m \u001b[0mformats\u001b[0m\u001b[0;34m:\u001b[0m\u001b[0;34m\u001b[0m\u001b[0;34m\u001b[0m\u001b[0m\n\u001b[1;32m    250\u001b[0m         \u001b[0mpng_formatter\u001b[0m\u001b[0;34m.\u001b[0m\u001b[0mfor_type\u001b[0m\u001b[0;34m(\u001b[0m\u001b[0mFigure\u001b[0m\u001b[0;34m,\u001b[0m \u001b[0;32mlambda\u001b[0m \u001b[0mfig\u001b[0m\u001b[0;34m:\u001b[0m \u001b[0mretina_figure\u001b[0m\u001b[0;34m(\u001b[0m\u001b[0mfig\u001b[0m\u001b[0;34m,\u001b[0m \u001b[0;34m**\u001b[0m\u001b[0mkwargs\u001b[0m\u001b[0;34m)\u001b[0m\u001b[0;34m)\u001b[0m\u001b[0;34m\u001b[0m\u001b[0;34m\u001b[0m\u001b[0m\n",
      "\u001b[0;32m~/anaconda3/lib/python3.7/site-packages/IPython/core/pylabtools.py\u001b[0m in \u001b[0;36mprint_figure\u001b[0;34m(fig, fmt, bbox_inches, **kwargs)\u001b[0m\n\u001b[1;32m    130\u001b[0m         \u001b[0mFigureCanvasBase\u001b[0m\u001b[0;34m(\u001b[0m\u001b[0mfig\u001b[0m\u001b[0;34m)\u001b[0m\u001b[0;34m\u001b[0m\u001b[0;34m\u001b[0m\u001b[0m\n\u001b[1;32m    131\u001b[0m \u001b[0;34m\u001b[0m\u001b[0m\n\u001b[0;32m--> 132\u001b[0;31m     \u001b[0mfig\u001b[0m\u001b[0;34m.\u001b[0m\u001b[0mcanvas\u001b[0m\u001b[0;34m.\u001b[0m\u001b[0mprint_figure\u001b[0m\u001b[0;34m(\u001b[0m\u001b[0mbytes_io\u001b[0m\u001b[0;34m,\u001b[0m \u001b[0;34m**\u001b[0m\u001b[0mkw\u001b[0m\u001b[0;34m)\u001b[0m\u001b[0;34m\u001b[0m\u001b[0;34m\u001b[0m\u001b[0m\n\u001b[0m\u001b[1;32m    133\u001b[0m     \u001b[0mdata\u001b[0m \u001b[0;34m=\u001b[0m \u001b[0mbytes_io\u001b[0m\u001b[0;34m.\u001b[0m\u001b[0mgetvalue\u001b[0m\u001b[0;34m(\u001b[0m\u001b[0;34m)\u001b[0m\u001b[0;34m\u001b[0m\u001b[0;34m\u001b[0m\u001b[0m\n\u001b[1;32m    134\u001b[0m     \u001b[0;32mif\u001b[0m \u001b[0mfmt\u001b[0m \u001b[0;34m==\u001b[0m \u001b[0;34m'svg'\u001b[0m\u001b[0;34m:\u001b[0m\u001b[0;34m\u001b[0m\u001b[0;34m\u001b[0m\u001b[0m\n",
      "\u001b[0;32m~/anaconda3/lib/python3.7/site-packages/matplotlib/backend_bases.py\u001b[0m in \u001b[0;36mprint_figure\u001b[0;34m(self, filename, dpi, facecolor, edgecolor, orientation, format, bbox_inches, **kwargs)\u001b[0m\n\u001b[1;32m   2063\u001b[0m                         \u001b[0morientation\u001b[0m\u001b[0;34m=\u001b[0m\u001b[0morientation\u001b[0m\u001b[0;34m,\u001b[0m\u001b[0;34m\u001b[0m\u001b[0;34m\u001b[0m\u001b[0m\n\u001b[1;32m   2064\u001b[0m                         \u001b[0mdryrun\u001b[0m\u001b[0;34m=\u001b[0m\u001b[0;32mTrue\u001b[0m\u001b[0;34m,\u001b[0m\u001b[0;34m\u001b[0m\u001b[0;34m\u001b[0m\u001b[0m\n\u001b[0;32m-> 2065\u001b[0;31m                         **kwargs)\n\u001b[0m\u001b[1;32m   2066\u001b[0m                     \u001b[0mrenderer\u001b[0m \u001b[0;34m=\u001b[0m \u001b[0mself\u001b[0m\u001b[0;34m.\u001b[0m\u001b[0mfigure\u001b[0m\u001b[0;34m.\u001b[0m\u001b[0m_cachedRenderer\u001b[0m\u001b[0;34m\u001b[0m\u001b[0;34m\u001b[0m\u001b[0m\n\u001b[1;32m   2067\u001b[0m                     \u001b[0mbbox_artists\u001b[0m \u001b[0;34m=\u001b[0m \u001b[0mkwargs\u001b[0m\u001b[0;34m.\u001b[0m\u001b[0mpop\u001b[0m\u001b[0;34m(\u001b[0m\u001b[0;34m\"bbox_extra_artists\"\u001b[0m\u001b[0;34m,\u001b[0m \u001b[0;32mNone\u001b[0m\u001b[0;34m)\u001b[0m\u001b[0;34m\u001b[0m\u001b[0;34m\u001b[0m\u001b[0m\n",
      "\u001b[0;32m~/anaconda3/lib/python3.7/site-packages/matplotlib/backends/backend_agg.py\u001b[0m in \u001b[0;36mprint_png\u001b[0;34m(self, filename_or_obj, metadata, pil_kwargs, *args, **kwargs)\u001b[0m\n\u001b[1;32m    525\u001b[0m \u001b[0;34m\u001b[0m\u001b[0m\n\u001b[1;32m    526\u001b[0m         \u001b[0;32melse\u001b[0m\u001b[0;34m:\u001b[0m\u001b[0;34m\u001b[0m\u001b[0;34m\u001b[0m\u001b[0m\n\u001b[0;32m--> 527\u001b[0;31m             \u001b[0mFigureCanvasAgg\u001b[0m\u001b[0;34m.\u001b[0m\u001b[0mdraw\u001b[0m\u001b[0;34m(\u001b[0m\u001b[0mself\u001b[0m\u001b[0;34m)\u001b[0m\u001b[0;34m\u001b[0m\u001b[0;34m\u001b[0m\u001b[0m\n\u001b[0m\u001b[1;32m    528\u001b[0m             \u001b[0mrenderer\u001b[0m \u001b[0;34m=\u001b[0m \u001b[0mself\u001b[0m\u001b[0;34m.\u001b[0m\u001b[0mget_renderer\u001b[0m\u001b[0;34m(\u001b[0m\u001b[0;34m)\u001b[0m\u001b[0;34m\u001b[0m\u001b[0;34m\u001b[0m\u001b[0m\n\u001b[1;32m    529\u001b[0m             \u001b[0;32mwith\u001b[0m \u001b[0mcbook\u001b[0m\u001b[0;34m.\u001b[0m\u001b[0m_setattr_cm\u001b[0m\u001b[0;34m(\u001b[0m\u001b[0mrenderer\u001b[0m\u001b[0;34m,\u001b[0m \u001b[0mdpi\u001b[0m\u001b[0;34m=\u001b[0m\u001b[0mself\u001b[0m\u001b[0;34m.\u001b[0m\u001b[0mfigure\u001b[0m\u001b[0;34m.\u001b[0m\u001b[0mdpi\u001b[0m\u001b[0;34m)\u001b[0m\u001b[0;34m,\u001b[0m\u001b[0;31m \u001b[0m\u001b[0;31m\\\u001b[0m\u001b[0;34m\u001b[0m\u001b[0;34m\u001b[0m\u001b[0m\n",
      "\u001b[0;32m~/anaconda3/lib/python3.7/site-packages/matplotlib/backends/backend_agg.py\u001b[0m in \u001b[0;36mdraw\u001b[0;34m(self)\u001b[0m\n\u001b[1;32m    386\u001b[0m         \u001b[0mself\u001b[0m\u001b[0;34m.\u001b[0m\u001b[0mrenderer\u001b[0m \u001b[0;34m=\u001b[0m \u001b[0mself\u001b[0m\u001b[0;34m.\u001b[0m\u001b[0mget_renderer\u001b[0m\u001b[0;34m(\u001b[0m\u001b[0mcleared\u001b[0m\u001b[0;34m=\u001b[0m\u001b[0;32mTrue\u001b[0m\u001b[0;34m)\u001b[0m\u001b[0;34m\u001b[0m\u001b[0;34m\u001b[0m\u001b[0m\n\u001b[1;32m    387\u001b[0m         \u001b[0;32mwith\u001b[0m \u001b[0mRendererAgg\u001b[0m\u001b[0;34m.\u001b[0m\u001b[0mlock\u001b[0m\u001b[0;34m:\u001b[0m\u001b[0;34m\u001b[0m\u001b[0;34m\u001b[0m\u001b[0m\n\u001b[0;32m--> 388\u001b[0;31m             \u001b[0mself\u001b[0m\u001b[0;34m.\u001b[0m\u001b[0mfigure\u001b[0m\u001b[0;34m.\u001b[0m\u001b[0mdraw\u001b[0m\u001b[0;34m(\u001b[0m\u001b[0mself\u001b[0m\u001b[0;34m.\u001b[0m\u001b[0mrenderer\u001b[0m\u001b[0;34m)\u001b[0m\u001b[0;34m\u001b[0m\u001b[0;34m\u001b[0m\u001b[0m\n\u001b[0m\u001b[1;32m    389\u001b[0m             \u001b[0;31m# A GUI class may be need to update a window using this draw, so\u001b[0m\u001b[0;34m\u001b[0m\u001b[0;34m\u001b[0m\u001b[0;34m\u001b[0m\u001b[0m\n\u001b[1;32m    390\u001b[0m             \u001b[0;31m# don't forget to call the superclass.\u001b[0m\u001b[0;34m\u001b[0m\u001b[0;34m\u001b[0m\u001b[0;34m\u001b[0m\u001b[0m\n",
      "\u001b[0;32m~/anaconda3/lib/python3.7/site-packages/matplotlib/artist.py\u001b[0m in \u001b[0;36mdraw_wrapper\u001b[0;34m(artist, renderer, *args, **kwargs)\u001b[0m\n\u001b[1;32m     36\u001b[0m                 \u001b[0mrenderer\u001b[0m\u001b[0;34m.\u001b[0m\u001b[0mstart_filter\u001b[0m\u001b[0;34m(\u001b[0m\u001b[0;34m)\u001b[0m\u001b[0;34m\u001b[0m\u001b[0;34m\u001b[0m\u001b[0m\n\u001b[1;32m     37\u001b[0m \u001b[0;34m\u001b[0m\u001b[0m\n\u001b[0;32m---> 38\u001b[0;31m             \u001b[0;32mreturn\u001b[0m \u001b[0mdraw\u001b[0m\u001b[0;34m(\u001b[0m\u001b[0martist\u001b[0m\u001b[0;34m,\u001b[0m \u001b[0mrenderer\u001b[0m\u001b[0;34m,\u001b[0m \u001b[0;34m*\u001b[0m\u001b[0margs\u001b[0m\u001b[0;34m,\u001b[0m \u001b[0;34m**\u001b[0m\u001b[0mkwargs\u001b[0m\u001b[0;34m)\u001b[0m\u001b[0;34m\u001b[0m\u001b[0;34m\u001b[0m\u001b[0m\n\u001b[0m\u001b[1;32m     39\u001b[0m         \u001b[0;32mfinally\u001b[0m\u001b[0;34m:\u001b[0m\u001b[0;34m\u001b[0m\u001b[0;34m\u001b[0m\u001b[0m\n\u001b[1;32m     40\u001b[0m             \u001b[0;32mif\u001b[0m \u001b[0martist\u001b[0m\u001b[0;34m.\u001b[0m\u001b[0mget_agg_filter\u001b[0m\u001b[0;34m(\u001b[0m\u001b[0;34m)\u001b[0m \u001b[0;32mis\u001b[0m \u001b[0;32mnot\u001b[0m \u001b[0;32mNone\u001b[0m\u001b[0;34m:\u001b[0m\u001b[0;34m\u001b[0m\u001b[0;34m\u001b[0m\u001b[0m\n",
      "\u001b[0;32m~/anaconda3/lib/python3.7/site-packages/matplotlib/figure.py\u001b[0m in \u001b[0;36mdraw\u001b[0;34m(self, renderer)\u001b[0m\n\u001b[1;32m   1707\u001b[0m             \u001b[0mself\u001b[0m\u001b[0;34m.\u001b[0m\u001b[0mpatch\u001b[0m\u001b[0;34m.\u001b[0m\u001b[0mdraw\u001b[0m\u001b[0;34m(\u001b[0m\u001b[0mrenderer\u001b[0m\u001b[0;34m)\u001b[0m\u001b[0;34m\u001b[0m\u001b[0;34m\u001b[0m\u001b[0m\n\u001b[1;32m   1708\u001b[0m             mimage._draw_list_compositing_images(\n\u001b[0;32m-> 1709\u001b[0;31m                 renderer, self, artists, self.suppressComposite)\n\u001b[0m\u001b[1;32m   1710\u001b[0m \u001b[0;34m\u001b[0m\u001b[0m\n\u001b[1;32m   1711\u001b[0m             \u001b[0mrenderer\u001b[0m\u001b[0;34m.\u001b[0m\u001b[0mclose_group\u001b[0m\u001b[0;34m(\u001b[0m\u001b[0;34m'figure'\u001b[0m\u001b[0;34m)\u001b[0m\u001b[0;34m\u001b[0m\u001b[0;34m\u001b[0m\u001b[0m\n",
      "\u001b[0;32m~/anaconda3/lib/python3.7/site-packages/matplotlib/image.py\u001b[0m in \u001b[0;36m_draw_list_compositing_images\u001b[0;34m(renderer, parent, artists, suppress_composite)\u001b[0m\n\u001b[1;32m    133\u001b[0m     \u001b[0;32mif\u001b[0m \u001b[0mnot_composite\u001b[0m \u001b[0;32mor\u001b[0m \u001b[0;32mnot\u001b[0m \u001b[0mhas_images\u001b[0m\u001b[0;34m:\u001b[0m\u001b[0;34m\u001b[0m\u001b[0;34m\u001b[0m\u001b[0m\n\u001b[1;32m    134\u001b[0m         \u001b[0;32mfor\u001b[0m \u001b[0ma\u001b[0m \u001b[0;32min\u001b[0m \u001b[0martists\u001b[0m\u001b[0;34m:\u001b[0m\u001b[0;34m\u001b[0m\u001b[0;34m\u001b[0m\u001b[0m\n\u001b[0;32m--> 135\u001b[0;31m             \u001b[0ma\u001b[0m\u001b[0;34m.\u001b[0m\u001b[0mdraw\u001b[0m\u001b[0;34m(\u001b[0m\u001b[0mrenderer\u001b[0m\u001b[0;34m)\u001b[0m\u001b[0;34m\u001b[0m\u001b[0;34m\u001b[0m\u001b[0m\n\u001b[0m\u001b[1;32m    136\u001b[0m     \u001b[0;32melse\u001b[0m\u001b[0;34m:\u001b[0m\u001b[0;34m\u001b[0m\u001b[0;34m\u001b[0m\u001b[0m\n\u001b[1;32m    137\u001b[0m         \u001b[0;31m# Composite any adjacent images together\u001b[0m\u001b[0;34m\u001b[0m\u001b[0;34m\u001b[0m\u001b[0;34m\u001b[0m\u001b[0m\n",
      "\u001b[0;32m~/anaconda3/lib/python3.7/site-packages/matplotlib/artist.py\u001b[0m in \u001b[0;36mdraw_wrapper\u001b[0;34m(artist, renderer, *args, **kwargs)\u001b[0m\n\u001b[1;32m     36\u001b[0m                 \u001b[0mrenderer\u001b[0m\u001b[0;34m.\u001b[0m\u001b[0mstart_filter\u001b[0m\u001b[0;34m(\u001b[0m\u001b[0;34m)\u001b[0m\u001b[0;34m\u001b[0m\u001b[0;34m\u001b[0m\u001b[0m\n\u001b[1;32m     37\u001b[0m \u001b[0;34m\u001b[0m\u001b[0m\n\u001b[0;32m---> 38\u001b[0;31m             \u001b[0;32mreturn\u001b[0m \u001b[0mdraw\u001b[0m\u001b[0;34m(\u001b[0m\u001b[0martist\u001b[0m\u001b[0;34m,\u001b[0m \u001b[0mrenderer\u001b[0m\u001b[0;34m,\u001b[0m \u001b[0;34m*\u001b[0m\u001b[0margs\u001b[0m\u001b[0;34m,\u001b[0m \u001b[0;34m**\u001b[0m\u001b[0mkwargs\u001b[0m\u001b[0;34m)\u001b[0m\u001b[0;34m\u001b[0m\u001b[0;34m\u001b[0m\u001b[0m\n\u001b[0m\u001b[1;32m     39\u001b[0m         \u001b[0;32mfinally\u001b[0m\u001b[0;34m:\u001b[0m\u001b[0;34m\u001b[0m\u001b[0;34m\u001b[0m\u001b[0m\n\u001b[1;32m     40\u001b[0m             \u001b[0;32mif\u001b[0m \u001b[0martist\u001b[0m\u001b[0;34m.\u001b[0m\u001b[0mget_agg_filter\u001b[0m\u001b[0;34m(\u001b[0m\u001b[0;34m)\u001b[0m \u001b[0;32mis\u001b[0m \u001b[0;32mnot\u001b[0m \u001b[0;32mNone\u001b[0m\u001b[0;34m:\u001b[0m\u001b[0;34m\u001b[0m\u001b[0;34m\u001b[0m\u001b[0m\n",
      "\u001b[0;32m~/anaconda3/lib/python3.7/site-packages/matplotlib/axes/_base.py\u001b[0m in \u001b[0;36mdraw\u001b[0;34m(self, renderer, inframe)\u001b[0m\n\u001b[1;32m   2645\u001b[0m             \u001b[0mrenderer\u001b[0m\u001b[0;34m.\u001b[0m\u001b[0mstop_rasterizing\u001b[0m\u001b[0;34m(\u001b[0m\u001b[0;34m)\u001b[0m\u001b[0;34m\u001b[0m\u001b[0;34m\u001b[0m\u001b[0m\n\u001b[1;32m   2646\u001b[0m \u001b[0;34m\u001b[0m\u001b[0m\n\u001b[0;32m-> 2647\u001b[0;31m         \u001b[0mmimage\u001b[0m\u001b[0;34m.\u001b[0m\u001b[0m_draw_list_compositing_images\u001b[0m\u001b[0;34m(\u001b[0m\u001b[0mrenderer\u001b[0m\u001b[0;34m,\u001b[0m \u001b[0mself\u001b[0m\u001b[0;34m,\u001b[0m \u001b[0martists\u001b[0m\u001b[0;34m)\u001b[0m\u001b[0;34m\u001b[0m\u001b[0;34m\u001b[0m\u001b[0m\n\u001b[0m\u001b[1;32m   2648\u001b[0m \u001b[0;34m\u001b[0m\u001b[0m\n\u001b[1;32m   2649\u001b[0m         \u001b[0mrenderer\u001b[0m\u001b[0;34m.\u001b[0m\u001b[0mclose_group\u001b[0m\u001b[0;34m(\u001b[0m\u001b[0;34m'axes'\u001b[0m\u001b[0;34m)\u001b[0m\u001b[0;34m\u001b[0m\u001b[0;34m\u001b[0m\u001b[0m\n",
      "\u001b[0;32m~/anaconda3/lib/python3.7/site-packages/matplotlib/image.py\u001b[0m in \u001b[0;36m_draw_list_compositing_images\u001b[0;34m(renderer, parent, artists, suppress_composite)\u001b[0m\n\u001b[1;32m    133\u001b[0m     \u001b[0;32mif\u001b[0m \u001b[0mnot_composite\u001b[0m \u001b[0;32mor\u001b[0m \u001b[0;32mnot\u001b[0m \u001b[0mhas_images\u001b[0m\u001b[0;34m:\u001b[0m\u001b[0;34m\u001b[0m\u001b[0;34m\u001b[0m\u001b[0m\n\u001b[1;32m    134\u001b[0m         \u001b[0;32mfor\u001b[0m \u001b[0ma\u001b[0m \u001b[0;32min\u001b[0m \u001b[0martists\u001b[0m\u001b[0;34m:\u001b[0m\u001b[0;34m\u001b[0m\u001b[0;34m\u001b[0m\u001b[0m\n\u001b[0;32m--> 135\u001b[0;31m             \u001b[0ma\u001b[0m\u001b[0;34m.\u001b[0m\u001b[0mdraw\u001b[0m\u001b[0;34m(\u001b[0m\u001b[0mrenderer\u001b[0m\u001b[0;34m)\u001b[0m\u001b[0;34m\u001b[0m\u001b[0;34m\u001b[0m\u001b[0m\n\u001b[0m\u001b[1;32m    136\u001b[0m     \u001b[0;32melse\u001b[0m\u001b[0;34m:\u001b[0m\u001b[0;34m\u001b[0m\u001b[0;34m\u001b[0m\u001b[0m\n\u001b[1;32m    137\u001b[0m         \u001b[0;31m# Composite any adjacent images together\u001b[0m\u001b[0;34m\u001b[0m\u001b[0;34m\u001b[0m\u001b[0;34m\u001b[0m\u001b[0m\n",
      "\u001b[0;32m~/anaconda3/lib/python3.7/site-packages/matplotlib/artist.py\u001b[0m in \u001b[0;36mdraw_wrapper\u001b[0;34m(artist, renderer, *args, **kwargs)\u001b[0m\n\u001b[1;32m     36\u001b[0m                 \u001b[0mrenderer\u001b[0m\u001b[0;34m.\u001b[0m\u001b[0mstart_filter\u001b[0m\u001b[0;34m(\u001b[0m\u001b[0;34m)\u001b[0m\u001b[0;34m\u001b[0m\u001b[0;34m\u001b[0m\u001b[0m\n\u001b[1;32m     37\u001b[0m \u001b[0;34m\u001b[0m\u001b[0m\n\u001b[0;32m---> 38\u001b[0;31m             \u001b[0;32mreturn\u001b[0m \u001b[0mdraw\u001b[0m\u001b[0;34m(\u001b[0m\u001b[0martist\u001b[0m\u001b[0;34m,\u001b[0m \u001b[0mrenderer\u001b[0m\u001b[0;34m,\u001b[0m \u001b[0;34m*\u001b[0m\u001b[0margs\u001b[0m\u001b[0;34m,\u001b[0m \u001b[0;34m**\u001b[0m\u001b[0mkwargs\u001b[0m\u001b[0;34m)\u001b[0m\u001b[0;34m\u001b[0m\u001b[0;34m\u001b[0m\u001b[0m\n\u001b[0m\u001b[1;32m     39\u001b[0m         \u001b[0;32mfinally\u001b[0m\u001b[0;34m:\u001b[0m\u001b[0;34m\u001b[0m\u001b[0;34m\u001b[0m\u001b[0m\n\u001b[1;32m     40\u001b[0m             \u001b[0;32mif\u001b[0m \u001b[0martist\u001b[0m\u001b[0;34m.\u001b[0m\u001b[0mget_agg_filter\u001b[0m\u001b[0;34m(\u001b[0m\u001b[0;34m)\u001b[0m \u001b[0;32mis\u001b[0m \u001b[0;32mnot\u001b[0m \u001b[0;32mNone\u001b[0m\u001b[0;34m:\u001b[0m\u001b[0;34m\u001b[0m\u001b[0;34m\u001b[0m\u001b[0m\n",
      "\u001b[0;32m~/anaconda3/lib/python3.7/site-packages/matplotlib/lines.py\u001b[0m in \u001b[0;36mdraw\u001b[0;34m(self, renderer)\u001b[0m\n\u001b[1;32m    800\u001b[0m \u001b[0;34m\u001b[0m\u001b[0m\n\u001b[1;32m    801\u001b[0m                 \u001b[0mgc\u001b[0m\u001b[0;34m.\u001b[0m\u001b[0mset_dashes\u001b[0m\u001b[0;34m(\u001b[0m\u001b[0mself\u001b[0m\u001b[0;34m.\u001b[0m\u001b[0m_dashOffset\u001b[0m\u001b[0;34m,\u001b[0m \u001b[0mself\u001b[0m\u001b[0;34m.\u001b[0m\u001b[0m_dashSeq\u001b[0m\u001b[0;34m)\u001b[0m\u001b[0;34m\u001b[0m\u001b[0;34m\u001b[0m\u001b[0m\n\u001b[0;32m--> 802\u001b[0;31m                 \u001b[0mrenderer\u001b[0m\u001b[0;34m.\u001b[0m\u001b[0mdraw_path\u001b[0m\u001b[0;34m(\u001b[0m\u001b[0mgc\u001b[0m\u001b[0;34m,\u001b[0m \u001b[0mtpath\u001b[0m\u001b[0;34m,\u001b[0m \u001b[0maffine\u001b[0m\u001b[0;34m.\u001b[0m\u001b[0mfrozen\u001b[0m\u001b[0;34m(\u001b[0m\u001b[0;34m)\u001b[0m\u001b[0;34m)\u001b[0m\u001b[0;34m\u001b[0m\u001b[0;34m\u001b[0m\u001b[0m\n\u001b[0m\u001b[1;32m    803\u001b[0m                 \u001b[0mgc\u001b[0m\u001b[0;34m.\u001b[0m\u001b[0mrestore\u001b[0m\u001b[0;34m(\u001b[0m\u001b[0;34m)\u001b[0m\u001b[0;34m\u001b[0m\u001b[0;34m\u001b[0m\u001b[0m\n\u001b[1;32m    804\u001b[0m \u001b[0;34m\u001b[0m\u001b[0m\n",
      "\u001b[0;32m~/anaconda3/lib/python3.7/site-packages/matplotlib/backends/backend_agg.py\u001b[0m in \u001b[0;36mdraw_path\u001b[0;34m(self, gc, path, transform, rgbFace)\u001b[0m\n\u001b[1;32m    146\u001b[0m                 \u001b[0mself\u001b[0m\u001b[0;34m.\u001b[0m\u001b[0m_renderer\u001b[0m\u001b[0;34m.\u001b[0m\u001b[0mdraw_path\u001b[0m\u001b[0;34m(\u001b[0m\u001b[0mgc\u001b[0m\u001b[0;34m,\u001b[0m \u001b[0mpath\u001b[0m\u001b[0;34m,\u001b[0m \u001b[0mtransform\u001b[0m\u001b[0;34m,\u001b[0m \u001b[0mrgbFace\u001b[0m\u001b[0;34m)\u001b[0m\u001b[0;34m\u001b[0m\u001b[0;34m\u001b[0m\u001b[0m\n\u001b[1;32m    147\u001b[0m             \u001b[0;32mexcept\u001b[0m \u001b[0mOverflowError\u001b[0m\u001b[0;34m:\u001b[0m\u001b[0;34m\u001b[0m\u001b[0;34m\u001b[0m\u001b[0m\n\u001b[0;32m--> 148\u001b[0;31m                 raise OverflowError(\"Exceeded cell block limit (set \"\n\u001b[0m\u001b[1;32m    149\u001b[0m                                     \"'agg.path.chunksize' rcparam)\")\n\u001b[1;32m    150\u001b[0m \u001b[0;34m\u001b[0m\u001b[0m\n",
      "\u001b[0;31mOverflowError\u001b[0m: Exceeded cell block limit (set 'agg.path.chunksize' rcparam)"
     ]
    },
    {
     "data": {
      "text/plain": [
       "<Figure size 864x288 with 3 Axes>"
      ]
     },
     "metadata": {
      "needs_background": "light"
     },
     "output_type": "display_data"
    }
   ],
   "source": [
    "saving=False\n",
    "savefig_folder=f\"{nb_dir}/Figures\"\n",
    "savefig_fn=f\"lr-annihilations.png\"\n",
    "fontsize=14\n",
    "tmax=1e2\n",
    "alpha=.1\n",
    "fig,axs=plt.subplots(ncols=3,figsize=(12,4))#(5,4))\n",
    "\n",
    "# y_values_lst=[dfm.phi1.values,dfm.phi2.values,dfm.phi_sum.values, dfm.phi_diff.values]\n",
    "# y_values_lst=[phi1_values,phi2_values,phi_sum_values, phi_diff_values]\n",
    "# y_label_lst=[r'$\\phi_1$',r'$\\phi_2$',r'$\\phi_{sum}$',r'$\\phi_{diff}$']\n",
    "# ax_lst=[0,0,1,1]\n",
    "# c_lst=['C0','C1','C0','C1']\n",
    "\n",
    "#extract local particle values\n",
    "# pid_lst=list(set(df_phases.pid.values))\n",
    "# for pid in pid_lst:#[:10]:\n",
    "#     boo=df_phases.pid==pid\n",
    "t_values=df_phases.tdeath.values\n",
    "range_values=df_phases.r.values\n",
    "theta_values=df_phases.theta.values\n",
    "\n",
    "x_values=t_values\n",
    "y_values=theta_values\n",
    "ax=axs[0]\n",
    "ax.plot(x_values,y_values,alpha=alpha,label='_Hidden',c='gray',lw=2.5)\n",
    "ax.set_xlabel('time until annihilation (ms)',fontsize=fontsize)\n",
    "ax.set_ylabel('angle between\\n velocities (radians)',fontsize=fontsize)\n",
    "ax.set_xlim([DT,tmax])\n",
    "ax.set_xscale('log')\n",
    "ax.tick_params(axis='both', which='major', labelsize=fontsize)\n",
    "ax.tick_params(axis='both', which='minor', labelsize=1)\n",
    "\n",
    "#plot range versus time until death\n",
    "x_values=t_values\n",
    "y_values=range_values\n",
    "ax=axs[1]\n",
    "ax.scatter(x_values,y_values,alpha=alpha,label='_Hidden',c='gray',lw=2.5)\n",
    "ax.set_xlabel('time until annihilation (ms)',fontsize=fontsize)\n",
    "ax.set_ylabel('distance between\\nspiral tips (cm)',fontsize=fontsize)\n",
    "ax.set_xlim([DT,tmax])\n",
    "ax.set_xscale('log')\n",
    "ax.set_yscale('log')\n",
    "ax.tick_params(axis='both', which='major', labelsize=fontsize)\n",
    "ax.tick_params(axis='both', which='minor', labelsize=1)\n",
    "\n",
    "# plot angle between versus range (left)\n",
    "x_values=range_values\n",
    "y_values=theta_values\n",
    "ax=axs[2]\n",
    "ax.scatter(x_values,y_values,alpha=alpha,label='_Hidden',c='gray',s=15)\n",
    "ax.set_xlabel('distance between\\nspiral tips (cm)',fontsize=fontsize)\n",
    "ax.set_ylabel('angle between\\n velocities (radians)',fontsize=fontsize)\n",
    "ax.set_xlim([1e-2,1])\n",
    "ax.set_xscale('log')\n",
    "#     ax.set_yscale('log')\n",
    "ax.tick_params(axis='both', which='major', labelsize=fontsize)\n",
    "ax.tick_params(axis='both', which='minor', labelsize=1)   \n",
    "\n",
    "\n",
    "    \n",
    "# axs[0].set_title('phi_1 and phi_2 \\n',fontsize=fontsize)\n",
    "# axs[1].set_title('phi_sum and phi_diff \\n',fontsize=fontsize)\n",
    "plt.tight_layout()\n",
    "# plt.show()\n",
    "# print(f\"\\ttime between two frames was {0.001} ms\")\n",
    "\n",
    "\n",
    "plt.tight_layout()\n",
    "if not saving: \n",
    "    plt.show() \n",
    "else:\n",
    "    os.chdir(savefig_folder)\n",
    "    plt.savefig(savefig_fn, dpi=300)\n",
    "    print(f\"saved figure in \\n\\t{savefig_fn}\")\n",
    "#     plt.close()"
   ]
  },
  {
   "cell_type": "code",
   "execution_count": null,
   "metadata": {},
   "outputs": [],
   "source": []
  },
  {
   "cell_type": "code",
   "execution_count": 327,
   "metadata": {
    "ExecuteTime": {
     "end_time": "2021-06-23T20:37:08.838818Z",
     "start_time": "2021-06-23T20:36:10.289909Z"
    }
   },
   "outputs": [
    {
     "data": {
      "image/png": "[encoded data removed]",
      "text/plain": [
       "<Figure size 864x288 with 3 Axes>"
      ]
     },
     "metadata": {
      "needs_background": "light"
     },
     "output_type": "display_data"
    }
   ],
   "source": [
    "# saving=False\n",
    "# savefig_folder=f\"{nb_dir}/Figures\"\n",
    "# savefig_fn=f\"lr-annihilations.png\"\n",
    "# fontsize=14\n",
    "# tmax=1e2\n",
    "# alpha=.1\n",
    "# fig,axs=plt.subplots(ncols=3,figsize=(12,4))#(5,4))\n",
    "\n",
    "# # y_values_lst=[dfm.phi1.values,dfm.phi2.values,dfm.phi_sum.values, dfm.phi_diff.values]\n",
    "# # y_values_lst=[phi1_values,phi2_values,phi_sum_values, phi_diff_values]\n",
    "# # y_label_lst=[r'$\\phi_1$',r'$\\phi_2$',r'$\\phi_{sum}$',r'$\\phi_{diff}$']\n",
    "# # ax_lst=[0,0,1,1]\n",
    "# # c_lst=['C0','C1','C0','C1']\n",
    "\n",
    "# #extract local particle values\n",
    "# pid_lst=list(set(df_phases.pid.values))\n",
    "# for pid in pid_lst:#[:10]:\n",
    "#     boo=df_phases.pid==pid\n",
    "#     t_values=df_phases[boo].tdeath.values\n",
    "#     range_values=df_phases[boo].r.values\n",
    "#     theta_values=df_phases[boo].theta.values\n",
    "    \n",
    "#     x_values=t_values\n",
    "#     y_values=theta_values\n",
    "#     ax=axs[0]\n",
    "#     ax.plot(x_values,y_values,alpha=alpha,label='_Hidden',c='gray',lw=2.5)\n",
    "#     ax.set_xlabel('time until annihilation (ms)',fontsize=fontsize)\n",
    "#     ax.set_ylabel('angle between\\n velocities (radians)',fontsize=fontsize)\n",
    "#     ax.set_xlim([DT,tmax])\n",
    "#     ax.set_xscale('log')\n",
    "#     ax.tick_params(axis='both', which='major', labelsize=fontsize)\n",
    "#     ax.tick_params(axis='both', which='minor', labelsize=1)\n",
    "\n",
    "#     #plot range versus time until death\n",
    "#     x_values=t_values\n",
    "#     y_values=range_values\n",
    "#     ax=axs[1]\n",
    "#     ax.plot(x_values,y_values,alpha=alpha,label='_Hidden',c='gray',lw=2.5)\n",
    "#     ax.set_xlabel('time until annihilation (ms)',fontsize=fontsize)\n",
    "#     ax.set_ylabel('distance between\\nspiral tips (cm)',fontsize=fontsize)\n",
    "#     ax.set_xlim([DT,tmax])\n",
    "#     ax.set_xscale('log')\n",
    "#     ax.set_yscale('log')\n",
    "#     ax.tick_params(axis='both', which='major', labelsize=fontsize)\n",
    "#     ax.tick_params(axis='both', which='minor', labelsize=1)\n",
    "\n",
    "#     # plot angle between versus range (left)\n",
    "#     x_values=range_values\n",
    "#     y_values=theta_values\n",
    "#     ax=axs[2]\n",
    "#     ax.scatter(x_values,y_values,alpha=alpha,label='_Hidden',c='gray',s=15)\n",
    "#     ax.set_xlabel('distance between\\nspiral tips (cm)',fontsize=fontsize)\n",
    "#     ax.set_ylabel('angle between\\n velocities (radians)',fontsize=fontsize)\n",
    "#     ax.set_xlim([1e-2,1])\n",
    "#     ax.set_xscale('log')\n",
    "# #     ax.set_yscale('log')\n",
    "#     ax.tick_params(axis='both', which='major', labelsize=fontsize)\n",
    "#     ax.tick_params(axis='both', which='minor', labelsize=1)   \n",
    "    \n",
    "\n",
    "    \n",
    "# # axs[0].set_title('phi_1 and phi_2 \\n',fontsize=fontsize)\n",
    "# # axs[1].set_title('phi_sum and phi_diff \\n',fontsize=fontsize)\n",
    "# plt.tight_layout()\n",
    "# # plt.show()\n",
    "# # print(f\"\\ttime between two frames was {0.001} ms\")\n",
    "\n",
    "\n",
    "# plt.tight_layout()\n",
    "# if not saving: \n",
    "#     plt.show() \n",
    "# else:\n",
    "#     os.chdir(savefig_folder)\n",
    "#     plt.savefig(savefig_fn, dpi=300)\n",
    "#     print(f\"saved figure in \\n\\t{savefig_fn}\")\n",
    "# #     plt.close()"
   ]
  },
  {
   "cell_type": "code",
   "execution_count": 305,
   "metadata": {
    "ExecuteTime": {
     "end_time": "2021-06-23T20:20:03.025640Z",
     "start_time": "2021-06-23T20:20:03.001466Z"
    }
   },
   "outputs": [],
   "source": [
    "# tA=DT # 0.4 #ms\n",
    "# tB=2   #ms\n",
    "# tC=20  #ms\n",
    "# #iterate over all annihilation events computing/plotting the shortest trajectory if it is long enough and if it gets further than a certain range\n",
    "# df_deaths=df_phases\n",
    "# saving=False\n",
    "# savefig_folder=f\"{nb_dir}/Figures\"\n",
    "# savefig_fn=f\"angles-between-deaths-b-lr.png\"\n",
    "# # savefig_fn=f\"angles-between-deaths-b.png\"\n",
    "# fontsize=16\n",
    "# bins=6\n",
    "# tmax=1e2\n",
    "# #plot naive range at death and birth\n",
    "# fig,axs=plt.subplots(ncols=2,figsize=(12,5))\n",
    "\n",
    "# # y_values_lst=[dfm.phi1.values,dfm.phi2.values,dfm.phi_sum.values, dfm.phi_diff.values]\n",
    "# # y_values_lst=[phi1_values,phi2_values,phi_sum_values, phi_diff_values]\n",
    "# y_label_lst=[r'$\\vartheta$']\n",
    "# ax_lst=[1]\n",
    "# c_lst=['gray']\n",
    "# # angle_threshold=2.3\n",
    "# val1_lst=[];val2_lst=[];val3_lst=[]\n",
    "# #extract local particle values\n",
    "# pid_lst=list(set(df_deaths.pid.values))\n",
    "# for pid in pid_lst:#[:10]:\n",
    "#     boo=df_deaths.pid==pid\n",
    "#     y_values_lst=[df_deaths[boo].theta.values]\n",
    "#     x_values=df_deaths[boo]['tdeath'].values\n",
    "#     for y_values,y_label,nax,color in zip(y_values_lst,y_label_lst,ax_lst,c_lst):\n",
    "#         ax=axs[nax]\n",
    "#         ax.plot(x_values,y_values,alpha=.3,label='_Hidden',c=color,lw=2.5)\n",
    "\n",
    "#         boo1=np.isclose(x_values,tA)\n",
    "#         boo2=np.isclose(x_values,tB)\n",
    "#         boo3=np.isclose(x_values,tC)\n",
    "#         val1=y_values[boo1]\n",
    "#         val2=y_values[boo2]\n",
    "#         val3=y_values[boo3]\n",
    "#         if val1.shape[0]>0:\n",
    "#             val1_lst.append(val1[0])\n",
    "#             val2_lst.append(val2[0])\n",
    "#             val3_lst.append(val3[0])\n",
    "            \n",
    "# ax.set_xlabel('time until annihilation (ms)',fontsize=fontsize)\n",
    "# ax.set_ylabel('angle between\\n velocities (radians)',fontsize=fontsize)\n",
    "# ax.set_xlim([DT,tmax])\n",
    "# ax.set_xscale('log')\n",
    "# ax.tick_params(axis='both', which='major', labelsize=fontsize)\n",
    "# ax.tick_params(axis='both', which='minor', labelsize=1)\n",
    "                \n",
    "# # fontsize=16\n",
    "# # fig,ax=plt.subplots(ncols=1,figsize=(5,5))\n",
    "# ax=axs[0]\n",
    "# # ax.hist(val1_lst,bins=bins,density=True,color='C0',label=f't=-{tA:.1f} ms',alpha=0.7)\n",
    "# ax.hist(val2_lst,bins=bins,density=True,color='C1',label=f't=-{tB:.1f} ms',alpha=0.7)\n",
    "# ax.hist(val3_lst,bins=bins,density=True,color='C2',label=f't=-{tC:.1f} ms',alpha=0.7)\n",
    "# ax.legend(fontsize=fontsize)\n",
    "# #plot control\n",
    "# xv=np.arange(0,np.pi,0.1)\n",
    "# ax.plot(xv,xv*0.+1/np.pi,'k--')#,color='gray',)\n",
    "# ax.set_xlabel('angle between\\n velocities (radians)',fontsize=fontsize)\n",
    "# ax.set_ylabel(r'prob. density',fontsize=fontsize)\n",
    "# ax.tick_params(axis='both', which='major', labelsize=fontsize)\n",
    "# ax.tick_params(axis='both', which='minor', labelsize=1)\n",
    "            \n",
    "# plt.tight_layout()\n",
    "# # plt.show()\n",
    "# # print(f\"\\ttime between two frames was {0.001} ms\")\n",
    "# plt.tight_layout()\n",
    "# if not saving:\n",
    "#     plt.show()\n",
    "# else:\n",
    "#     os.chdir(savefig_folder)\n",
    "#     plt.savefig(savefig_fn, dpi=300)\n",
    "#     print(f\"saved figure in \\n\\t{savefig_fn}\")\n",
    "\n",
    "#     #     plt.close()"
   ]
  },
  {
   "cell_type": "code",
   "execution_count": null,
   "metadata": {
    "ExecuteTime": {
     "end_time": "2021-06-17T03:18:08.267960Z",
     "start_time": "2021-06-17T03:17:47.545Z"
    }
   },
   "outputs": [],
   "source": [
    "# fontsize=16\n",
    "# saving=False\n",
    "# savefig_folder=f\"{nb_dir}/Figures\"\n",
    "# savefig_fn=f\"fine-death-range-phase.png\"\n",
    "# #plot naive range at death and birth\n",
    "# fig,axs=plt.subplots(ncols=2,figsize=(12,5))#(5,4))\n",
    "\n",
    "# # y_values_lst=[dfm.phi1.values,dfm.phi2.values,dfm.phi_sum.values, dfm.phi_diff.values]\n",
    "# # y_values_lst=[phi1_values,phi2_values,phi_sum_values, phi_diff_values]\n",
    "# y_label_lst=[r'$\\phi_1$',r'$\\phi_2$',r'$\\phi_{sum}$',r'$\\phi_{diff}$']\n",
    "# ax_lst=[0,0,1,1]\n",
    "# c_lst=['C0','C1','C0','C1']\n",
    "\n",
    "# #extract local particle values\n",
    "# pid_lst=list(set(df_phases.pid.values))\n",
    "# for pid in pid_lst[:10]:\n",
    "#     boo=df_phases.pid==pid\n",
    "#     y_values_lst=[df_phases[boo].phi1.values,df_phases[boo].phi2.values,df_phases[boo].phi_sum.values, df_phases[boo].phi_diff.values]\n",
    "#     x_values=df_phases[boo].tdeath.values\n",
    "#     for y_values,y_label,nax,color in zip(y_values_lst,y_label_lst,ax_lst,c_lst):\n",
    "#         ax=axs[nax]\n",
    "#         ax.plot(x_values,y_values,alpha=.3,label='_Hidden',c=color,lw=2.5)\n",
    "#         # plt.scatter(x_values[boo],range_values[boo],c='k',alpha=0.5,s=3)\n",
    "#         ax.set_xlabel('time until annihilation (ms)',fontsize=fontsize)\n",
    "#         ax.set_ylabel('signed phase (rad)',fontsize=fontsize)\n",
    "\n",
    "#         ax.set_xlim([DT,1e1])\n",
    "#     #     ax.set_ylim([-np.pi/8,np.pi/8])\n",
    "#         #     ax.set_xlim([1e-3,1e2])\n",
    "#         ax.set_xscale('log')\n",
    "#         # plt.yscale('log')\n",
    "#         ax.tick_params(axis='both', which='major', labelsize=fontsize)\n",
    "#         ax.tick_params(axis='both', which='minor', labelsize=1)\n",
    "#     #     ax.legend(fontsize=fontsize)\n",
    "# axs[0].set_title('phi_1 and phi_2 \\n',fontsize=fontsize)\n",
    "# axs[1].set_title('phi_sum and phi_diff \\n',fontsize=fontsize)\n",
    "# plt.tight_layout()\n",
    "# # plt.show()\n",
    "# # print(f\"\\ttime between two frames was {0.001} ms\")\n",
    "# plt.tight_layout()\n",
    "# if not saving: \n",
    "#     plt.show() \n",
    "# else:\n",
    "#     os.chdir(savefig_folder)\n",
    "#     plt.savefig(savefig_fn, dpi=300)\n",
    "#     print(f\"saved figure in \\n\\t{savefig_fn}\")\n",
    "# #     plt.close()"
   ]
  },
  {
   "cell_type": "code",
   "execution_count": 287,
   "metadata": {
    "ExecuteTime": {
     "end_time": "2021-06-23T19:46:19.619706Z",
     "start_time": "2021-06-23T19:46:19.416952Z"
    },
    "scrolled": false
   },
   "outputs": [
    {
     "ename": "NameError",
     "evalue": "name 'phi1_values' is not defined",
     "output_type": "error",
     "traceback": [
      "\u001b[0;31m---------------------------------------------------------------------------\u001b[0m",
      "\u001b[0;31mNameError\u001b[0m                                 Traceback (most recent call last)",
      "\u001b[0;32m<ipython-input-287-68bb27e9ae10>\u001b[0m in \u001b[0;36m<module>\u001b[0;34m\u001b[0m\n\u001b[1;32m      6\u001b[0m \u001b[0mfig\u001b[0m\u001b[0;34m,\u001b[0m\u001b[0maxs\u001b[0m\u001b[0;34m=\u001b[0m\u001b[0mplt\u001b[0m\u001b[0;34m.\u001b[0m\u001b[0msubplots\u001b[0m\u001b[0;34m(\u001b[0m\u001b[0mncols\u001b[0m\u001b[0;34m=\u001b[0m\u001b[0;36m2\u001b[0m\u001b[0;34m,\u001b[0m\u001b[0mfigsize\u001b[0m\u001b[0;34m=\u001b[0m\u001b[0;34m(\u001b[0m\u001b[0;36m12\u001b[0m\u001b[0;34m,\u001b[0m\u001b[0;36m5\u001b[0m\u001b[0;34m)\u001b[0m\u001b[0;34m)\u001b[0m\u001b[0;31m#(5,4))\u001b[0m\u001b[0;34m\u001b[0m\u001b[0;34m\u001b[0m\u001b[0m\n\u001b[1;32m      7\u001b[0m \u001b[0;34m\u001b[0m\u001b[0m\n\u001b[0;32m----> 8\u001b[0;31m \u001b[0my_values_lst\u001b[0m\u001b[0;34m=\u001b[0m\u001b[0;34m[\u001b[0m\u001b[0mphi1_values\u001b[0m\u001b[0;34m,\u001b[0m\u001b[0mphi2_values\u001b[0m\u001b[0;34m,\u001b[0m\u001b[0mphi_sum_values\u001b[0m\u001b[0;34m,\u001b[0m \u001b[0mphi_diff_values\u001b[0m\u001b[0;34m]\u001b[0m\u001b[0;34m\u001b[0m\u001b[0;34m\u001b[0m\u001b[0m\n\u001b[0m\u001b[1;32m      9\u001b[0m \u001b[0my_label_lst\u001b[0m\u001b[0;34m=\u001b[0m\u001b[0;34m[\u001b[0m\u001b[0;34mr'$\\phi_1$'\u001b[0m\u001b[0;34m,\u001b[0m\u001b[0;34mr'$\\phi_2$'\u001b[0m\u001b[0;34m,\u001b[0m\u001b[0;34mr'$\\phi_{sum}$'\u001b[0m\u001b[0;34m,\u001b[0m\u001b[0;34mr'$\\phi_{diff}$'\u001b[0m\u001b[0;34m]\u001b[0m\u001b[0;34m\u001b[0m\u001b[0;34m\u001b[0m\u001b[0m\n\u001b[1;32m     10\u001b[0m \u001b[0max_lst\u001b[0m\u001b[0;34m=\u001b[0m\u001b[0;34m[\u001b[0m\u001b[0;36m0\u001b[0m\u001b[0;34m,\u001b[0m\u001b[0;36m0\u001b[0m\u001b[0;34m,\u001b[0m\u001b[0;36m1\u001b[0m\u001b[0;34m,\u001b[0m\u001b[0;36m1\u001b[0m\u001b[0;34m]\u001b[0m\u001b[0;34m\u001b[0m\u001b[0;34m\u001b[0m\u001b[0m\n",
      "\u001b[0;31mNameError\u001b[0m: name 'phi1_values' is not defined"
     ]
    },
    {
     "data": {
      "image/png": "[encoded data removed]",
      "text/plain": [
       "<Figure size 864x360 with 2 Axes>"
      ]
     },
     "metadata": {
      "needs_background": "light"
     },
     "output_type": "display_data"
    }
   ],
   "source": [
    "# fontsize=16\n",
    "# saving=False\n",
    "# savefig_folder=f\"{nb_dir}/Figures/fine_death\"\n",
    "# savefig_fn=f\"fine-death-range-phase.png\"\n",
    "# #plot naive range at death and birth\n",
    "# fig,axs=plt.subplots(ncols=2,figsize=(12,5))#(5,4))\n",
    "\n",
    "# y_values_lst=[phi1_values,phi2_values,phi_sum_values, phi_diff_values]\n",
    "# y_label_lst=[r'$\\phi_1$',r'$\\phi_2$',r'$\\phi_{sum}$',r'$\\phi_{diff}$']\n",
    "# ax_lst=[0,0,1,1]\n",
    "# c_lst=['C0','C1','C0','C1']\n",
    "\n",
    "# for y_values,y_label,nax,color in zip(y_values_lst,y_label_lst,ax_lst,c_lst):\n",
    "#     ax=axs[nax]\n",
    "#     ax.plot(x_values,y_values,alpha=1.0,label=y_label,c=color,lw=2.5)\n",
    "#     # plt.scatter(x_values[boo],range_values[boo],c='k',alpha=0.5,s=3)\n",
    "#     ax.set_xlabel('time until annihilation (ms)',fontsize=fontsize)\n",
    "#     ax.set_ylabel('signed phase (rad)',fontsize=fontsize)\n",
    "\n",
    "#     ax.set_xlim([DT,1e1])\n",
    "# #     ax.set_ylim([-np.pi/8,np.pi/8])\n",
    "#     #     ax.set_xlim([1e-3,1e2])\n",
    "#     ax.set_xscale('log')\n",
    "#     # plt.yscale('log')\n",
    "#     ax.tick_params(axis='both', which='major', labelsize=fontsize)\n",
    "#     ax.tick_params(axis='both', which='minor', labelsize=1)\n",
    "#     ax.legend(fontsize=fontsize)\n",
    "\n",
    "# plt.tight_layout()\n",
    "# # plt.show()\n",
    "# # print(f\"\\ttime between two frames was {0.001} ms\")\n",
    "# plt.tight_layout()\n",
    "# if not saving: \n",
    "#     plt.show() \n",
    "# else:\n",
    "#     os.chdir(savefig_folder)\n",
    "#     plt.savefig(savefig_fn, dpi=300)\n",
    "#     print(f\"saved figure in \\n\\t{savefig_fn}\")\n",
    "# #     plt.close()"
   ]
  },
  {
   "cell_type": "code",
   "execution_count": null,
   "metadata": {},
   "outputs": [],
   "source": []
  }
 ],
 "metadata": {
  "kernelspec": {
   "display_name": "Python 3",
   "language": "python",
   "name": "python3"
  },
  "language_info": {
   "codemirror_mode": {
    "name": "ipython",
    "version": 3
   },
   "file_extension": ".py",
   "mimetype": "text/x-python",
   "name": "python",
   "nbconvert_exporter": "python",
   "pygments_lexer": "ipython3",
   "version": "3.7.6"
  },
  "toc": {
   "base_numbering": 1,
   "nav_menu": {},
   "number_sections": true,
   "sideBar": true,
   "skip_h1_title": false,
   "title_cell": "Table of Contents",
   "title_sidebar": "Contents",
   "toc_cell": false,
   "toc_position": {
    "height": "calc(100% - 180px)",
    "left": "10px",
    "top": "150px",
    "width": "250.667px"
   },
   "toc_section_display": true,
   "toc_window_display": false
  },
  "varInspector": {
   "cols": {
    "lenName": 16,
    "lenType": 16,
    "lenVar": 40
   },
   "kernels_config": {
    "python": {
     "delete_cmd_postfix": "",
     "delete_cmd_prefix": "del ",
     "library": "var_list.py",
     "varRefreshCmd": "print(var_dic_list())"
    },
    "r": {
     "delete_cmd_postfix": ") ",
     "delete_cmd_prefix": "rm(",
     "library": "var_list.r",
     "varRefreshCmd": "cat(var_dic_list()) "
    }
   },
   "types_to_exclude": [
    "module",
    "function",
    "builtin_function_or_method",
    "instance",
    "_Feature"
   ],
   "window_display": false
  }
 },
 "nbformat": 4,
 "nbformat_minor": 4
}
