{
 "cells": [
  {
   "cell_type": "markdown",
   "metadata": {},
   "source": [
    "# msd-from-tip-log DAG workflow  \n",
    "TODO(later): add option to skip recomputation of cached results<br>\n",
    "Tim Tyree<br>\n",
    "1.18.2021\n"
   ]
  },
  {
   "cell_type": "code",
   "execution_count": 1,
   "metadata": {
    "ExecuteTime": {
     "end_time": "2021-02-08T18:32:48.713856Z",
     "start_time": "2021-02-08T18:32:46.235998Z"
    }
   },
   "outputs": [
    {
     "name": "stdout",
     "output_type": "stream",
     "text": [
      "Automatic calling is: Smart\n"
     ]
    }
   ],
   "source": [
    "from lib.my_initialization import *\n",
    "from lib import *\n",
    "\n",
    "from lib.my_initialization import *\n",
    "from lib.utils.utils_traj import *\n",
    "\n",
    "from lib.utils.operari import *\n",
    "\n",
    "\n",
    "import trackpy, pandas as pd, numpy as np\n",
    "from lib import *\n",
    "from lib.routines.track_tips import *\n",
    "from lib.utils.dist_func import *\n",
    "from lib.utils.utils_traj import *\n",
    "\n",
    "from lib.routines.compute_trajectories import *\n",
    "from lib.routines.dag_log_to_msd import *\n",
    "from lib.routines.compute_msd import *\n",
    "\n",
    "import trackpy\n",
    "%autocall 1\n",
    "%load_ext autoreload\n",
    "%autoreload 2\n",
    "# awareness&chill"
   ]
  },
  {
   "cell_type": "code",
   "execution_count": 2,
   "metadata": {
    "ExecuteTime": {
     "end_time": "2021-02-08T18:05:18.997942Z",
     "start_time": "2021-02-08T18:05:18.837300Z"
    }
   },
   "outputs": [],
   "source": [
    "# #make plots in darkmode\n",
    "# import seaborn as sns\n",
    "# from jupyterthemes import jtplot\n",
    "# jtplot.style(theme='monokai', context='notebook', ticks=True, grid=False)"
   ]
  },
  {
   "cell_type": "code",
   "execution_count": null,
   "metadata": {},
   "outputs": [],
   "source": [
    "#TODO: turn the diffcoef_summary into a .csv update instead of overwriting"
   ]
  },
  {
   "cell_type": "markdown",
   "metadata": {
    "heading_collapsed": true
   },
   "source": [
    "# (ignore dev) generate msd figures"
   ]
  },
  {
   "cell_type": "code",
   "execution_count": 2,
   "metadata": {
    "ExecuteTime": {
     "end_time": "2021-01-25T02:02:29.411157Z",
     "start_time": "2021-01-25T02:02:29.392516Z"
    },
    "hidden": true
   },
   "outputs": [
    {
     "name": "stdout",
     "output_type": "stream",
     "text": [
      "171\n"
     ]
    }
   ],
   "source": [
    "# #find file interactively\n",
    "# print(\"please select a file from within the desired folder.\")\n",
    "# file = search_for_file()\n",
    "file='/home/timothytyree/Documents/GitHub/care/notebooks/Data/initial-conditions-suite-2/ds_2_param_set_8/Log/ic_200x200.001.12_log.csv'\n",
    "trgt='log.csv'\n",
    "assert(file[-len(trgt):]==trgt)\n",
    "\n",
    "file_name_list=get_all_files_matching_pattern(file,trgt)\n",
    "print(len(file_name_list))\n",
    "os.chdir(nb_dir)"
   ]
  },
  {
   "cell_type": "code",
   "execution_count": 3,
   "metadata": {
    "ExecuteTime": {
     "end_time": "2021-01-25T02:02:42.748600Z",
     "start_time": "2021-01-25T02:02:42.733700Z"
    },
    "hidden": true
   },
   "outputs": [],
   "source": [
    "# make unwrapped trajectory for file_name_list\n",
    "# run_routine_log_to_msd\n",
    "# # b = db.from_sequence(file_name_list[:2], npartitions=2).map(run_routine_log_to_msd)\n",
    "# b = db.from_sequence(file_name_list, npartitions=2).map(run_routine_log_to_msd)\n",
    "# start = time.time()\n",
    "# retval = list(b)\n",
    "# print(f\"run time for generating trajectories from file_name_list: {time.time()-start:.2f} seconds.\")\n",
    "# beep(3)\n",
    "# output_file_name_list=retval\n",
    "# print(len(output_file_name_list))"
   ]
  },
  {
   "cell_type": "code",
   "execution_count": 2,
   "metadata": {
    "ExecuteTime": {
     "end_time": "2021-01-18T23:08:14.819021Z",
     "start_time": "2021-01-18T23:08:14.743468Z"
    },
    "hidden": true
   },
   "outputs": [],
   "source": []
  },
  {
   "cell_type": "code",
   "execution_count": 18,
   "metadata": {
    "ExecuteTime": {
     "end_time": "2021-01-19T01:07:41.901609Z",
     "start_time": "2021-01-19T01:07:17.665116Z"
    },
    "hidden": true
   },
   "outputs": [
    {
     "name": "stdout",
     "output_type": "stream",
     "text": [
      "Num. file names in list = 171.\n",
      "ValueError: No objects to concatenate\n",
      "\ttrial that failed: ic_200x200.008.12_traj_sr_400_mem_0_unwrap.csv\n",
      "ValueError: No objects to concatenate\n",
      "\ttrial that failed: ic_200x200.011.31_traj_sr_400_mem_0_unwrap.csv\n",
      "ValueError: No objects to concatenate\n",
      "\ttrial that failed: ic_200x200.018.31_traj_sr_400_mem_0_unwrap.csv\n",
      "ValueError: No objects to concatenate\n",
      "\ttrial that failed: ic_200x200.011.33_traj_sr_400_mem_0_unwrap.csv\n",
      "saved figure in \n",
      "\temsd_longest_by_trial_tips_ntips_1_long_time_std.png\n",
      "saved figure in \n",
      "\temsd_longest_by_trial_tips_ntips_1_short_time_std.png\n",
      "saved figure in \n",
      "\temsd_longest_by_trial_tips_ntips_1_very_short_time_std.png\n"
     ]
    }
   ],
   "source": [
    "# #compute mean squared displacements, aggregating results\n",
    "# n_tips=1; DT=1.\n",
    "# file_out=output_file_name_list[0]\n",
    "# # file_out='/home/timothytyree/Documents/GitHub/care/notebooks/Data/initial-conditions-suite-2/ds_1_param_set_8/trajectories/ic_200x200.011.11_traj_sr_400_mem_0_unwrap.csv'\n",
    "# # file_out='/home/timothytyree/Documents/GitHub/care/notebooks/Data/initial-conditions-suite-2/ds_2_param_set_8/trajectories/ic_200x200.011.11_traj_sr_400_mem_0_unwrap.csv'\n",
    "# retval=gen_msd_figs(file_out,n_tips, DT)#, V_thresh=0.4)"
   ]
  },
  {
   "cell_type": "code",
   "execution_count": 19,
   "metadata": {
    "ExecuteTime": {
     "end_time": "2021-01-19T01:08:06.324201Z",
     "start_time": "2021-01-19T01:07:42.322054Z"
    },
    "hidden": true
   },
   "outputs": [
    {
     "name": "stdout",
     "output_type": "stream",
     "text": [
      "Num. file names in list = 171.\n",
      "ValueError: No objects to concatenate\n",
      "\ttrial that failed: ic_200x200.017.23_traj_sr_400_mem_0_unwrap.csv\n",
      "ValueError: No objects to concatenate\n",
      "\ttrial that failed: ic_200x200.005.22_traj_sr_400_mem_0_unwrap.csv\n",
      "ValueError: No objects to concatenate\n",
      "\ttrial that failed: ic_200x200.006.23_traj_sr_400_mem_0_unwrap.csv\n",
      "saved figure in \n",
      "\temsd_longest_by_trial_tips_ntips_1_long_time_std.png\n",
      "saved figure in \n",
      "\temsd_longest_by_trial_tips_ntips_1_short_time_std.png\n",
      "saved figure in \n",
      "\temsd_longest_by_trial_tips_ntips_1_very_short_time_std.png\n"
     ]
    }
   ],
   "source": [
    "# file_out='/home/timothytyree/Documents/GitHub/care/notebooks/Data/initial-conditions-suite-2/ds_2_param_set_8/trajectories/ic_200x200.011.11_traj_sr_400_mem_0_unwrap.csv'\n",
    "# retval=gen_msd_figs(file_out,n_tips, DT)#, V_thresh=0.4)"
   ]
  },
  {
   "cell_type": "markdown",
   "metadata": {
    "ExecuteTime": {
     "end_time": "2021-01-23T19:31:58.475770Z",
     "start_time": "2021-01-23T19:31:58.435850Z"
    },
    "heading_collapsed": true
   },
   "source": [
    "# (ignore dev) find dag workflow for one trial and give it a caching option\n",
    "- Hint: use os.path.exists(fn)"
   ]
  },
  {
   "cell_type": "code",
   "execution_count": 4,
   "metadata": {
    "ExecuteTime": {
     "end_time": "2021-01-25T02:04:58.037157Z",
     "start_time": "2021-01-25T02:04:58.022571Z"
    },
    "hidden": true
   },
   "outputs": [],
   "source": [
    "#TODO: make a function that _for one trial_folder_ computes all analysis steps from tracking to diffcoeff output\n",
    "##################\n",
    "# Scrum: 1.23.2021\n",
    "##################\n",
    "#TODO: make a function that _for one trial_folder_ computes all analysis steps from tracking to diffcoeff output\n",
    "#TODO: give ^this function a kwarg option use_cached_files=True, that looks for files already existing \n",
    "#TODO: make a function that computes all analysis steps from tracking to diffcoeff table\n",
    "#TODO: give ^this function a kwarg option use_cached_files=True, that looks for files already existing \n",
    "#TODO(later): make viewer for data, where I give a trial_folder and it shows me all the plots for it"
   ]
  },
  {
   "cell_type": "code",
   "execution_count": 5,
   "metadata": {
    "ExecuteTime": {
     "end_time": "2021-01-25T02:05:15.065246Z",
     "start_time": "2021-01-25T02:05:15.049421Z"
    },
    "hidden": true
   },
   "outputs": [],
   "source": [
    "# find dag workflow for one trial and give it a caching option\n",
    "# - Hint: use os.path.exists(fn)"
   ]
  },
  {
   "cell_type": "code",
   "execution_count": 2,
   "metadata": {
    "ExecuteTime": {
     "end_time": "2021-01-25T22:49:17.176939Z",
     "start_time": "2021-01-25T22:49:17.159255Z"
    },
    "hidden": true
   },
   "outputs": [],
   "source": [
    "def msd_fig_gener(input_file_name,n_tips=1):\n",
    "    trgt='_unwrap.csv'\n",
    "    assert(input_file_name[-len(trgt)]==trgt)\n",
    "    #Generate msd figures for input_file_name\n",
    "    dirname = os.path.dirname(input_file_name).split('/')[-1]\n",
    "    folder_name=os.path.dirname(input_file_name)\n",
    "    save_folder = folder_name.replace(dirname,'msd')\n",
    "    output_file_name = f\"emsd_longest_by_trial_tips_ntips_{n_tips}.csv\"\n",
    "    #determine DT\n",
    "    df=pd.read_csv(input_file_name)\n",
    "    DT=df.t.head(2).diff().dropna().values[0]\n",
    "    retval=gen_msd_figs(file_out,n_tips, DT)#, V_thresh=0.4)\n",
    "    return retval"
   ]
  },
  {
   "cell_type": "code",
   "execution_count": 11,
   "metadata": {
    "ExecuteTime": {
     "end_time": "2021-01-25T02:08:11.872471Z",
     "start_time": "2021-01-25T02:08:11.844424Z"
    },
    "hidden": true
   },
   "outputs": [
    {
     "data": {
      "text/plain": [
       "1.0"
      ]
     },
     "execution_count": 11,
     "metadata": {},
     "output_type": "execute_result"
    }
   ],
   "source": [
    "n_tips=1\n",
    "use_cache=True\n",
    "input_file_name='/home/timothytyree/Documents/GitHub/care/notebooks/Data/initial-conditions-suite-2/ds_2_param_set_8/trajectories/ic_200x200.011.11_traj_sr_400_mem_0_unwrap.csv'\n",
    "msd_fig_gener(input_file_name,n_tips)"
   ]
  },
  {
   "cell_type": "code",
   "execution_count": 22,
   "metadata": {
    "ExecuteTime": {
     "end_time": "2021-01-23T21:25:13.104440Z",
     "start_time": "2021-01-23T21:25:13.089257Z"
    },
    "hidden": true
   },
   "outputs": [],
   "source": [
    "#compute the ensemble mean squared displacements for each trial\n",
    "#determine DT\n",
    "input_file_name=file_name_list[0]\n",
    "df=pd.read_csv(input_file_name)\n",
    "DT=df.t.head(2).diff().dropna().values[0]\n",
    "os.chdir(save_folder)\n",
    "if not use_cache or not os.path.exists(output_file_name):\n",
    "    \n",
    "    output_file_name=generate_msd_figures_routine_for_list(file_name_list, n_tips,DT=DT,put_file_name=None,save_folder=None,**kwargs):\n"
   ]
  },
  {
   "cell_type": "code",
   "execution_count": 19,
   "metadata": {
    "ExecuteTime": {
     "end_time": "2021-01-23T21:23:50.961663Z",
     "start_time": "2021-01-23T21:23:50.934519Z"
    },
    "hidden": true
   },
   "outputs": [
    {
     "data": {
      "text/plain": [
       "'/home/timothytyree/Documents/GitHub/care/notebooks/Data/initial-conditions-suite-2/ds_2_param_set_8/msd'"
      ]
     },
     "execution_count": 19,
     "metadata": {},
     "output_type": "execute_result"
    }
   ],
   "source": [
    "save_folder"
   ]
  },
  {
   "cell_type": "markdown",
   "metadata": {
    "heading_collapsed": true
   },
   "source": [
    "# define module for diffusion analysis pipeline"
   ]
  },
  {
   "cell_type": "code",
   "execution_count": 23,
   "metadata": {
    "ExecuteTime": {
     "end_time": "2021-01-26T20:48:21.995985Z",
     "start_time": "2021-01-26T20:48:21.992884Z"
    },
    "hidden": true
   },
   "outputs": [
    {
     "data": {
      "text/plain": [
       "<function lib.routines.dag_log_to_msd.dag_a_postprocess(emsd_fn, trial_folder_name, dir_out, **kwargs)>"
      ]
     },
     "execution_count": 23,
     "metadata": {},
     "output_type": "execute_result"
    }
   ],
   "source": [
    "from lib.routines.dag_log_to_msd import *\n",
    "dag_a_postprocess"
   ]
  },
  {
   "cell_type": "code",
   "execution_count": 20,
   "metadata": {
    "ExecuteTime": {
     "end_time": "2021-01-26T20:41:11.375196Z",
     "start_time": "2021-01-26T20:41:11.363738Z"
    },
    "code_folding": [],
    "hidden": true
   },
   "outputs": [],
   "source": [
    "def run_routine_log_to_unwrapped_trajectory(input_file_name, use_cache=True, sr=400, mem=0, **kwargs):\n",
    "    '''ic is a .csv file name of a tip log.'''\n",
    "    traj_fn = os.path.abspath(input_file_name).replace('/Log','/trajectories').replace('log.csv', f'traj_sr_{sr}_mem_{mem}.csv')\n",
    "    output_file_name = traj_fn.replace('/trajectories','/trajectories_unwrap').replace('.csv',\"_unwrap.csv\")\n",
    "    if not use_cache or not os.path.exists(traj_fn):\n",
    "        traj_fn = generate_track_tips_pbc(input_file_name, save_fn=traj_fn, **kwargs)\n",
    "    if not use_cache or not os.path.exists(output_file_name):\n",
    "        retval_ignore = unwrap_trajectories(traj_fn, output_file_name)      \n",
    "    return os.path.abspath(output_file_name)\n",
    "\n",
    "def run_routine_unwrapped_trajectories_to_diffcoeff_summary(file_name_list,trial_folder_name,use_cache=True,n_tips=1,**kwargs):\n",
    "    '''file_name_list is a list of strings locating files ending in _unwrap.csv'''\n",
    "    input_file_name=file_name_list[0]\n",
    "    #determine DT\n",
    "    df=pd.read_csv(input_file_name)\n",
    "    DT=df.t.head(2).diff().dropna().values[0]\n",
    "    dirname = os.path.dirname(input_file_name).split('/')[-1]\n",
    "    folder_name=os.path.dirname(input_file_name)\n",
    "    save_folder = folder_name.replace(dirname,'msd')\n",
    "    emsd_fn = os.path.join(save_folder,f\"emsd_longest_by_trial_tips_ntips_{n_tips}.csv\")\n",
    "    if not os.path.exists(save_folder):\n",
    "        os.mkdir(save_folder)\n",
    "    os.chdir(save_folder)\n",
    "    if not use_cache or not os.path.exists(emsd_fn):\n",
    "        #compute the ensemble mean squared displacements for each trial\n",
    "        emsd_fn=generate_msd_figures_routine_for_list(file_name_list, n_tips, DT=DT,\n",
    "                                                               output_file_name=emsd_fn,\n",
    "                                                               save_folder=save_folder,**kwargs)\n",
    "    #compute the diffusion coefficient summary\n",
    "    os.chdir(os.path.dirname(emsd_fn))\n",
    "    dir_out=os.path.join(save_folder,\"diffcoeff_summary_\"+os.path.basename(emsd_fn))\n",
    "    if not use_cache or not os.path.exists(dir_out):\n",
    "        dir_out = dag_a_postprocess(emsd_fn=emsd_fn,\n",
    "                                trial_folder_name=trial_folder_name,\n",
    "                                dir_out=dir_out,**kwargs)\n",
    "    return dir_out\n",
    "\n",
    "def workflow_reduce_logs_to_diffcoeff_summary(input_fn_lst, use_cache_0=True,use_cache_1=False, npartitions=2, **kwargs):\n",
    "    print(f\"the total number of trials recorded is {len(input_fn_lst)}\")\n",
    "    def routine(fn):\n",
    "        output_file_name=run_routine_log_to_unwrapped_trajectory(fn, use_cache=use_cache_0,**kwargs)\n",
    "        return output_file_name\n",
    "    b = db.from_sequence(input_fn_lst, npartitions=npartitions).map(routine)\n",
    "    file_name_list = list(b)\n",
    "    print(f'reducing {len(file_name_list)} unwrapped trajectories files to a single row describing the diffusion coefficient of spiral tips for that trial...')\n",
    "    #reduce reduce_logs_to_diffcoeff_summary\n",
    "    df_out= run_routine_unwrapped_trajectories_to_diffcoeff_summary(file_name_list,use_cache=use_cache_1,**kwargs)\n",
    "    return df_out\n",
    "    \n"
   ]
  },
  {
   "cell_type": "code",
   "execution_count": 9,
   "metadata": {
    "ExecuteTime": {
     "end_time": "2021-01-26T20:37:33.690041Z",
     "start_time": "2021-01-26T20:37:33.686779Z"
    },
    "hidden": true
   },
   "outputs": [],
   "source": [
    "def get_all_logs(trial_folder,trial_folder_name):\n",
    "    cwd=os.getcwd()\n",
    "    file=f\"{trial_folder}/Log/ic_200x200.001.12_log.csv\"\n",
    "    trgt='log.csv'\n",
    "    assert(file[-len(trgt):]==trgt)\n",
    "    input_fn_lst=get_all_files_matching_pattern(file,trgt)\n",
    "    # print(len(input_fn_lst))\n",
    "    os.chdir(cwd)\n",
    "    return input_fn_lst"
   ]
  },
  {
   "cell_type": "code",
   "execution_count": 10,
   "metadata": {
    "ExecuteTime": {
     "end_time": "2021-01-26T20:37:34.458447Z",
     "start_time": "2021-01-26T20:37:34.455289Z"
    },
    "hidden": true
   },
   "outputs": [],
   "source": [
    "def gen_diffcoeff_summary(trial_folder_name,ic_suite_fn,**kwargs):\n",
    "    #find all log files for each trial folder\n",
    "    trial_folder=f\"{ic_suite_fn}/{trial_folder_name}\"\n",
    "    input_fn_lst= get_all_logs(trial_folder,trial_folder_name)\n",
    "    print(f\"{trial_folder_name} contains {len(input_fn_lst)} tip logs\")\n",
    "    #reduce that trial folder to a single diffusion coefficient row\n",
    "    diffcoeff_summary_fn=workflow_reduce_logs_to_diffcoeff_summary(\n",
    "        input_fn_lst,trial_folder_name=trial_folder_name,\n",
    "        use_cache_0=True, use_cache_1=False,**kwargs)\n",
    "    return diffcoeff_summary_fn\n"
   ]
  },
  {
   "cell_type": "code",
   "execution_count": 36,
   "metadata": {
    "ExecuteTime": {
     "end_time": "2021-01-26T03:27:28.131479Z",
     "start_time": "2021-01-26T03:27:28.118612Z"
    },
    "hidden": true
   },
   "outputs": [],
   "source": [
    "# def get_all_trial_folders_not_archived(ic_suite_fn):\n",
    "#     os.chdir(ic_suite_fn)\n",
    "#     dir_lst=os.listdir()\n",
    "#     trial_folder_name_lst=[]\n",
    "#     for dir_run in dir_lst:\n",
    "#         # dir_run=dir_lst[0]\n",
    "#         trial_folder_name=dir_run\n",
    "#         #test if trial_folder_name is not a folder\n",
    "#         boo  = os.path.isdir(trial_folder_name)\n",
    "#         #test if trial_folder_name starts with ic\n",
    "#         boo &=trial_folder_name[:2]!='ic'\n",
    "#         #test if trial_folder_name contains archiv\n",
    "#         boo &=trial_folder_name.find('archiv')==-1\n",
    "#         #if not, append it to the trial_folder_name_lst\n",
    "#         if boo:\n",
    "#             trial_folder_name_lst.append(trial_folder_name)\n",
    "#     return trial_folder_name_lst"
   ]
  },
  {
   "cell_type": "code",
   "execution_count": 5,
   "metadata": {
    "ExecuteTime": {
     "end_time": "2021-01-26T20:16:12.418576Z",
     "start_time": "2021-01-26T20:16:12.402372Z"
    },
    "hidden": true
   },
   "outputs": [],
   "source": [
    "# #find all log files for a given trial\n",
    "# trial_folder_name='ds_5_param_set_3'\n",
    "# trial_folder=f\"{nb_dir}/Data/initial-conditions-suite-2/{trial_folder_name}\"\n",
    "# input_fn_lst= get_all_logs(trial_folder,trial_folder_name)\n",
    "# print(len(input_fn_lst))"
   ]
  },
  {
   "cell_type": "code",
   "execution_count": 15,
   "metadata": {
    "ExecuteTime": {
     "end_time": "2021-01-26T20:38:26.636913Z",
     "start_time": "2021-01-26T20:38:26.633644Z"
    },
    "hidden": true
   },
   "outputs": [],
   "source": [
    "#DONE: test workflow_reduce_logs_to_diffcoeff_summary runtime on trial_folder with cached results\n",
    "# pipeline to run up to an individual data run (workflow_reduce_logs_to_diffcoeff_summary)\n",
    "\n",
    "def diffcoeff_table_gener(ic_suite_fn,trial_folder_name_lst,dict_kwargs_trial,npartitions=2,**kwargs_table):\n",
    "    #generate the diffusion table\n",
    "    for trial_folder_name in trial_folder_name_lst:\n",
    "        kwargs_trial= dict_kwargs_trial[trial_folder_name]\n",
    "        print(f'beginning diffusion analysis of {trial_folder_name}...')\n",
    "        diffcoeff_summary_fn= gen_diffcoeff_summary(trial_folder_name,ic_suite_fn,npartitions=npartitions,**kwargs_trial)\n",
    "    #reduce\n",
    "    retval= gen_diffcoeff_table(ic_suite_fn,trial_folder_name_lst,**kwargs_table)\n",
    "    return retval"
   ]
  },
  {
   "cell_type": "markdown",
   "metadata": {
    "heading_collapsed": true
   },
   "source": [
    "# FK model analysis pipeline"
   ]
  },
  {
   "cell_type": "code",
   "execution_count": 45,
   "metadata": {
    "ExecuteTime": {
     "end_time": "2021-01-26T03:35:13.361679Z",
     "start_time": "2021-01-26T03:35:13.343168Z"
    },
    "hidden": true
   },
   "outputs": [
    {
     "name": "stdout",
     "output_type": "stream",
     "text": [
      "['ds_5_param_set_8_fastkernel_V_0.4', 'ds_5_param_set_4', 'ds_5_param_set_8_og', 'ds_5_param_set_8_fastkernel_V_0.5', 'ds_10_param_set_8_og', 'ds_5_param_set_8_fastkernel_V_0.6', 'ds_1_param_set_8', 'ds_5_param_set_3', 'ds_2_param_set_8']\n"
     ]
    }
   ],
   "source": [
    "ic_suite_fn=f\"{nb_dir}/Data/initial-conditions-suite-2\"\n",
    "trial_folder_name_lst=get_all_trial_folders_not_archived(ic_suite_fn)    \n",
    "#initialize dict_kwargs_trial\n",
    "dict_kwargs_trial={}\n",
    "for fn in trial_folder_name_lst:\n",
    "    dict_kwargs_trial[fn]={}\n",
    "    \n",
    "#add any custom changes to instances of the analysis pipeline\n",
    "dict_kwargs_trial['ds_5_param_set_3']['duration_thresh']=.35\n",
    "# # other parameters of potential interest\n",
    "# tau_min=.15, n_tips=1,DT=1., \n",
    "print(trial_folder_name_lst)"
   ]
  },
  {
   "cell_type": "code",
   "execution_count": 46,
   "metadata": {
    "ExecuteTime": {
     "end_time": "2021-01-26T03:35:13.724263Z",
     "start_time": "2021-01-26T03:35:13.705938Z"
    },
    "hidden": true
   },
   "outputs": [],
   "source": [
    "trial_folder_name_lst=['ds_5_param_set_8_fastkernel_V_0.4','ds_5_param_set_3','ds_5_param_set_4','ds_5_param_set_8_og','ds_10_param_set_8_og']"
   ]
  },
  {
   "cell_type": "code",
   "execution_count": null,
   "metadata": {
    "ExecuteTime": {
     "start_time": "2021-01-26T03:35:14.162Z"
    },
    "hidden": true
   },
   "outputs": [
    {
     "name": "stdout",
     "output_type": "stream",
     "text": [
      "Frame 300000: 19 trajectories present.\n"
     ]
    }
   ],
   "source": [
    "retval= diffcoeff_table_gener(ic_suite_fn,trial_folder_name_lst,dict_kwargs_trial,npartitions=2)\n",
    "\n",
    "beep(10)\n",
    "print(f\"retval is {retval}\")"
   ]
  },
  {
   "cell_type": "code",
   "execution_count": null,
   "metadata": {
    "ExecuteTime": {
     "end_time": "2021-01-25T19:10:22.157224Z",
     "start_time": "2021-01-25T16:51:13.601Z"
    },
    "hidden": true
   },
   "outputs": [],
   "source": [
    "# diffcoeff_summary_fn= gen_diffcoeff_summary(trial_folder_name,ic_suite_fn,**kwargs_trial)\n"
   ]
  },
  {
   "cell_type": "code",
   "execution_count": 114,
   "metadata": {
    "ExecuteTime": {
     "end_time": "2021-01-24T01:48:21.839951Z",
     "start_time": "2021-01-24T01:48:21.819642Z"
    },
    "hidden": true
   },
   "outputs": [
    {
     "data": {
      "text/plain": [
       "'ds_2_param_set_8'"
      ]
     },
     "execution_count": 114,
     "metadata": {},
     "output_type": "execute_result"
    }
   ],
   "source": [
    "#DONE: test workflow_reduce_logs_to_diffcoeff_summary runtime on trial_folder with cached results\n",
    "# pipeline to run up to an individual data run (workflow_reduce_logs_to_diffcoeff_summary)\n",
    "\n",
    "# # def gener_diffcoeff_table(ic_suite_fn,trial_folder_name_lst,**kwargs):\n",
    "# #TODO: generate the diffusion table\n",
    "# for trial_folder_name in trial_folder_name_lst:\n",
    "#     kwargs_trial= dict_kwargs_trial[trial_folder_name]\n",
    "#     print(f'beginning diffusion analysis of {trial_folder_name}...')\n",
    "#     diffcoeff_summary_fn= gen_diffcoeff_summary(trial_folder_name,ic_suite_fn,npartitions=6,**kwargs_trial)\n"
   ]
  },
  {
   "cell_type": "markdown",
   "metadata": {
    "heading_collapsed": true
   },
   "source": [
    "# LR model analysis pipeline"
   ]
  },
  {
   "cell_type": "code",
   "execution_count": 26,
   "metadata": {
    "ExecuteTime": {
     "end_time": "2021-01-28T00:25:47.167863Z",
     "start_time": "2021-01-28T00:25:47.152789Z"
    },
    "hidden": true
   },
   "outputs": [
    {
     "name": "stdout",
     "output_type": "stream",
     "text": [
      "['ds_5_param_qu_tmax_1', 'ds_2_param_qu_tmax_10', 'ds_5_param_qu_tmax_30_Ko_7.0', 'ds_5_param_qu_tmax_1_deprec_V_-60.', 'ds_5_param_qu_tmax_10_Ko_5.4', 'ds_5_param_qu_tmax_10_Ko_7', 'ds_7.5_param_qu_tmax_30', 'ds_5_param_qu_tmax_10', 'ds_5_param_qu_tmax_30_Ko_5.4']\n"
     ]
    }
   ],
   "source": [
    "ic_suite_fn=f\"{nb_dir}/Data/initial-conditions-suite-3-LR\"\n",
    "trial_folder_name_lst=get_all_trial_folders_not_archived(ic_suite_fn)    \n",
    "#initialize dict_kwargs_trial\n",
    "dict_kwargs_trial={}\n",
    "for fn in trial_folder_name_lst:\n",
    "    dict_kwargs_trial[fn]={}\n",
    "    \n",
    "#add any custom changes to instances of the analysis pipeline\n",
    "# dict_kwargs_trial['ds_5_param_set_3']['duration_thresh']=.35\n",
    "# # other parameters of potential interest\n",
    "# tau_min=.15, n_tips=1,DT=1., \n",
    "print(trial_folder_name_lst)"
   ]
  },
  {
   "cell_type": "code",
   "execution_count": 27,
   "metadata": {
    "ExecuteTime": {
     "end_time": "2021-01-28T00:26:07.052485Z",
     "start_time": "2021-01-28T00:26:07.016418Z"
    },
    "hidden": true
   },
   "outputs": [],
   "source": [
    "trial_folder_name_lst=['ds_7.5_param_qu_tmax_30']#'ds_5_param_qu_tmax_10_Ko_7','ds_5_param_qu_tmax_30_Ko_5.4']\n",
    "# trial_folder_name_lst=['ds_5_param_qu_tmax_10',"
   ]
  },
  {
   "cell_type": "code",
   "execution_count": 30,
   "metadata": {
    "ExecuteTime": {
     "end_time": "2021-01-28T22:38:05.715892Z",
     "start_time": "2021-01-28T22:37:36.605133Z"
    },
    "hidden": true
   },
   "outputs": [
    {
     "name": "stdout",
     "output_type": "stream",
     "text": [
      "beginning diffusion analysis of ds_7.5_param_qu_tmax_30...\n",
      "ds_7.5_param_qu_tmax_30 contains 159 tip logs\n",
      "the total number of trials recorded is 159\n",
      "reducing 159 unwrapped trajectories files to a single row describing the diffusion coefficient of spiral tips for that trial...\n",
      "Num. file names in list = 159.\n",
      "ValueError: No objects to concatenate\n",
      "\ttrial that failed: ic008.21_traj_sr_400_mem_0_unwrap.csv\n",
      "ValueError: No objects to concatenate\n",
      "\ttrial that failed: ic005.33_traj_sr_400_mem_0_unwrap.csv\n",
      "saved figure in \n",
      "\t/home/timothytyree/Documents/GitHub/care/notebooks/Data/initial-conditions-suite-3-LR/ds_7.5_param_qu_tmax_30/msd/fig\n",
      "saved figure in \n",
      "\t/home/timothytyree/Documents/GitHub/care/notebooks/Data/initial-conditions-suite-3-LR/ds_7.5_param_qu_tmax_30/msd/fig\n",
      "saved figure in \n",
      "\t/home/timothytyree/Documents/GitHub/care/notebooks/Data/initial-conditions-suite-3-LR/ds_7.5_param_qu_tmax_30/msd/fig\n",
      "generating diffcoeff_figures for ds_7.5_param_qu_tmax_30\n",
      "\tnum. trials that didn't show a tip lasing longer than 150ms is 0, and that didn't show am Rsquared of at least 0.0 is 15\n",
      "saved diffcoeff_summary to /home/timothytyree/Documents/GitHub/care/notebooks/Data/initial-conditions-suite-3-LR/ds_7.5_param_qu_tmax_30/msd\n",
      "the total number of trials considered in summary is 35\n",
      "generating diffcoeff_figures for ds_7.5_param_qu_tmax_30\n",
      "\tnum. trials that didn't show a tip lasing longer than 150ms is 0, and that didn't show am Rsquared of at least 0.0 is 15\n",
      "saved diffcoeff_summary to \n",
      "the total number of trials considered in summary is 35\n",
      "\n",
      " output csv saved in:\t /home/timothytyree/Documents/GitHub/care/notebooks/Data/initial-conditions-suite-3-LR\n",
      "retval is ['diffcoeff_summary_diffcoeff_emsd_longest_by_trial_tips_ntips_1_Tmin_0.15_Tmax_0.5.csv']\n"
     ]
    }
   ],
   "source": [
    "retval= diffcoeff_table_gener(ic_suite_fn,trial_folder_name_lst,dict_kwargs_trial,\n",
    "                              npartitions=2, use_cache_1=False)#, R2_thresh=0.0,duration_thresh=.0, tau_min=0.)\n",
    "beep(2)\n",
    "print(f\"retval is {retval}\")"
   ]
  },
  {
   "cell_type": "code",
   "execution_count": 22,
   "metadata": {
    "ExecuteTime": {
     "end_time": "2021-01-26T20:35:11.364990Z",
     "start_time": "2021-01-26T20:35:11.346850Z"
    },
    "hidden": true
   },
   "outputs": [
    {
     "data": {
      "text/plain": [
       "['diffcoeff_summary_diffcoeff_emsd_longest_by_trial_tips_ntips_1_Tmin_0.15_Tmax_0.5.csv',\n",
       " 'diffcoeff_summary_diffcoeff_emsd_longest_by_trial_tips_ntips_1_Tmin_0.15_Tmax_0.5.csv']"
      ]
     },
     "execution_count": 22,
     "metadata": {},
     "output_type": "execute_result"
    }
   ],
   "source": [
    "#add any custom changes to instances of the analysis pipeline\n",
    "# dict_kwargs_trial['ds_5_param_set_3']['duration_thresh']=.35\n",
    "# # other parameters of potential interest\n",
    "# tau_min=.15, n_tips=1,DT=1., \n",
    "\n",
    "# diffcoeff_summary_fn= gen_diffcoeff_summary(trial_folder_name,ic_suite_fn,**kwargs_trial)\n",
    "retval"
   ]
  },
  {
   "cell_type": "code",
   "execution_count": 13,
   "metadata": {
    "ExecuteTime": {
     "end_time": "2021-01-26T19:53:24.242007Z",
     "start_time": "2021-01-26T19:53:24.149401Z"
    },
    "hidden": true
   },
   "outputs": [],
   "source": [
    "#bare combine diffcoeff_summaries\n",
    "# os.chdir(os.path.dirname(emsd_fn))\n",
    "dir_out=os.path.join(save_folder,\"diffcoeff_summary_\"+os.path.basename(emsd_fn))\n",
    "# if not use_cache or not os.path.exists(dir_out):\n",
    "dir_out = dag_a_postprocess(emsd_fn=emsd_fn,\n",
    "                        trial_folder_name=trial_folder_name,\n",
    "                        dir_out=dir_out,**kwargs)"
   ]
  },
  {
   "cell_type": "code",
   "execution_count": null,
   "metadata": {
    "ExecuteTime": {
     "end_time": "2021-01-26T20:40:28.643495Z",
     "start_time": "2021-01-26T20:40:28.631745Z"
    },
    "hidden": true
   },
   "outputs": [],
   "source": []
  },
  {
   "cell_type": "markdown",
   "metadata": {},
   "source": [
    "# define function that takes a folder of care_worker output and returns a df where each trial is represented no more than 1 time\n"
   ]
  },
  {
   "cell_type": "code",
   "execution_count": 2,
   "metadata": {
    "ExecuteTime": {
     "end_time": "2021-02-08T18:32:52.386901Z",
     "start_time": "2021-02-08T18:32:52.339384Z"
    }
   },
   "outputs": [
    {
     "data": {
      "text/plain": [
       "'/Users/timothytyree/Documents/GitHub/care/notebooks'"
      ]
     },
     "execution_count": 2,
     "metadata": {},
     "output_type": "execute_result"
    }
   ],
   "source": [
    "nb_dir"
   ]
  },
  {
   "cell_type": "code",
   "execution_count": 3,
   "metadata": {
    "ExecuteTime": {
     "end_time": "2021-02-08T18:32:52.664605Z",
     "start_time": "2021-02-08T18:32:52.613967Z"
    }
   },
   "outputs": [],
   "source": [
    "log_folder=\"/Users/timothytyree/Documents/GitHub/care_worker/python/Log\"\n",
    "os.chdir(log_folder)"
   ]
  },
  {
   "cell_type": "code",
   "execution_count": 4,
   "metadata": {
    "ExecuteTime": {
     "end_time": "2021-02-08T18:32:53.151119Z",
     "start_time": "2021-02-08T18:32:53.003339Z"
    }
   },
   "outputs": [
    {
     "name": "stdout",
     "output_type": "stream",
     "text": [
      "the number of output files in folder is 1965.\n"
     ]
    }
   ],
   "source": [
    "input_fn_lst=[os.path.abspath(fn) for fn in os.listdir() if fn.find('job.out.')!=-1]\n",
    "print(f\"the number of output files in folder is {len(input_fn_lst)}.\")"
   ]
  },
  {
   "cell_type": "code",
   "execution_count": 5,
   "metadata": {
    "ExecuteTime": {
     "end_time": "2021-02-08T18:32:53.574889Z",
     "start_time": "2021-02-08T18:32:53.535037Z"
    }
   },
   "outputs": [],
   "source": [
    "\n",
    "# df.head()"
   ]
  },
  {
   "cell_type": "code",
   "execution_count": 6,
   "metadata": {
    "ExecuteTime": {
     "end_time": "2021-02-08T18:32:54.971578Z",
     "start_time": "2021-02-08T18:32:54.921070Z"
    }
   },
   "outputs": [],
   "source": [
    "# def read_inputs(line,trgt_lst):\n",
    "#     input_lst=[]\n",
    "#     for trgt in trgt_lst:\n",
    "#         i=line.find(trgt)\n",
    "#         l=len(trgt)\n",
    "#         val=eval(line[i+l:].split(',')[0])\n",
    "#         input_lst.append(val)\n",
    "#     return input_lst\n",
    "\n",
    "import re\n",
    "def parse_inputs(line):\n",
    "    result_keys = re.findall(r'\\S+=', line)\n",
    "    result_values = re.findall(r'=\\d+', line) \n",
    "    if len(result_values)==0:\n",
    "        pass\n",
    "        #     return None\n",
    "    input_dict={}\n",
    "    for k,v in zip(result_keys,result_values):\n",
    "        key=k.split('=')[0].split(',')[-1]\n",
    "        value=eval(v.split('=')[-1])\n",
    "        input_dict[key]=value\n",
    "    return input_dict\n",
    "\n",
    "def next_line(f):\n",
    "    yield f.readline()\n",
    "\n",
    "def parse_input_params(input_fn):\n",
    "    line_no=0\n",
    "    #read through until the outputs starts\n",
    "    with open(input_fn) as f:\n",
    "        for line in f:\n",
    "            line_no+=1\n",
    "            input_dict=parse_inputs(line)\n",
    "            if len(list(input_dict))>0: \n",
    "                found_output=True\n",
    "                return line_no, input_dict\n",
    "    return -1,{}\n"
   ]
  },
  {
   "cell_type": "code",
   "execution_count": 7,
   "metadata": {
    "ExecuteTime": {
     "end_time": "2021-02-08T18:32:55.966010Z",
     "start_time": "2021-02-08T18:32:55.913636Z"
    }
   },
   "outputs": [],
   "source": [
    "def parse_input_fn(input_fn):\n",
    "    printing=False\n",
    "    line_no, input_dict=parse_input_params(input_fn)\n",
    "    found_output=line_no!=-1\n",
    "    if found_output and printing:\n",
    "        print(f'the inputs found on line {line_no} were {input_dict}.')\n",
    "    try:\n",
    "        #         print(line_no)\n",
    "        df=pd.read_csv(input_fn,header=line_no+1,delim_whitespace=True).astype({'n':int})\n",
    "    except Exception:\n",
    "        #only 1 line found in file, input_fn, skip\n",
    "        return None\n",
    "    \n",
    "    df.drop(columns=['index'],inplace=True)\n",
    "    df\n",
    "    #reset frame number to start at zero\n",
    "    df['frame']=df['frame']-df['frame'].values[0]\n",
    "    #updating df...\n",
    "    for k in input_dict.keys():\n",
    "        df[k]=input_dict[k]\n",
    "\n",
    "    index_labels=[\"L\",\"txt_id1\",\"txt_id2\"]\n",
    "    column_labels=[\"frame\",\"x\",\"y\",\"particle\",\"n\",\"grad_ux\",\"grad_uy\",\"grad_vx\",\"grad_vy\"]\n",
    "    df.set_index(keys=index_labels,inplace=True)#, columns=column_labels)\n",
    "    # df=df[column_labels]\n",
    "    return df"
   ]
  },
  {
   "cell_type": "code",
   "execution_count": 39,
   "metadata": {
    "ExecuteTime": {
     "end_time": "2021-02-08T18:41:36.634549Z",
     "start_time": "2021-02-08T18:41:36.582484Z"
    }
   },
   "outputs": [],
   "source": [
    "def return_df_updated_with_input_folder(input_fn_lst):#,df=None):\n",
    "    \"\"\"    returns df with this schema,\n",
    "    multindex L|txt_id1|txt_id2|frame|particle\n",
    "    and columns frame,x,y,n,t,grad_ux,grad_uy,grad_vx,grad_vy,particle\n",
    "    input_fn='/Users/timothytyree/Documents/GitHub/care_worker/python/Log/job.out.8051248.703'\n",
    "    \"\"\"\n",
    "    K12_index_set={}\n",
    "    df_lst=[]\n",
    "#     if df is None:\n",
    "#         del df\n",
    "    for input_fn in input_fn_lst:\n",
    "        retval= parse_input_fn(input_fn)\n",
    "        # df.unstack(1).unstack(1).head()\n",
    "        if retval is not None:\n",
    "            # TODO(optional for faster runtime): update a df_out only if it does not yet contain input_dict\n",
    "            # TODO(optional test): assert that whenever an output is repeated, \n",
    "            # that their results are equal (to floating point precision)\n",
    "            K12_index=retval.index.values[0][:3]\n",
    "            src=\"{}_{}_{}\".format(*K12_index)\n",
    "            retval['src']=src\n",
    "            #count if K12_index exists in the set of current index values\n",
    "            try:\n",
    "                K12_index_set[K12_index]+=1\n",
    "            except KeyError:\n",
    "                #then add K12_index to the set\n",
    "                K12_index_set[K12_index]=0\n",
    "                # K12_index_set.update({K12_index:0})\n",
    "                df_lst.append(retval)\n",
    "                print(f\"the src={src} spiral tip lasted {retval.t.max()-retval.t.min()} ms.\")\n",
    "    print(K12_index_set)\n",
    "    return df_lst,K12_index_set"
   ]
  },
  {
   "cell_type": "code",
   "execution_count": 40,
   "metadata": {
    "ExecuteTime": {
     "end_time": "2021-02-08T18:41:41.289032Z",
     "start_time": "2021-02-08T18:41:37.415008Z"
    }
   },
   "outputs": [
    {
     "name": "stdout",
     "output_type": "stream",
     "text": [
      "the src=529_0_0 spiral tip lasted 876.0 ms.\n",
      "the src=404_1_1 spiral tip lasted 930.0 ms.\n",
      "the src=613_0_0 spiral tip lasted 486.0 ms.\n",
      "the src=420_0_5 spiral tip lasted 904.0 ms.\n",
      "the src=447_1_0 spiral tip lasted 1324.0 ms.\n",
      "the src=360_1_8 spiral tip lasted 620.0 ms.\n",
      "the src=361_2_8 spiral tip lasted 750.0 ms.\n",
      "the src=457_3_2 spiral tip lasted 48.0 ms.\n",
      "the src=472_2_1 spiral tip lasted 778.0 ms.\n",
      "the src=455_2_3 spiral tip lasted 878.0 ms.\n",
      "the src=426_3_4 spiral tip lasted 632.0 ms.\n",
      "the src=489_3_3 spiral tip lasted 206.0 ms.\n",
      "the src=371_2_3 spiral tip lasted 392.0 ms.\n",
      "the src=440_3_7 spiral tip lasted 6.0 ms.\n",
      "the src=544_3_2 spiral tip lasted 548.0 ms.\n",
      "the src=523_0_1 spiral tip lasted 1206.0 ms.\n",
      "the src=531_2_3 spiral tip lasted 6.0 ms.\n",
      "the src=306_1_7 spiral tip lasted 406.0 ms.\n",
      "the src=513_2_3 spiral tip lasted 292.0 ms.\n",
      "the src=327_3_15 spiral tip lasted 594.0 ms.\n",
      "the src=353_1_12 spiral tip lasted 704.0 ms.\n",
      "the src=357_1_14 spiral tip lasted 904.0 ms.\n",
      "the src=363_2_5 spiral tip lasted 280.0 ms.\n",
      "the src=592_2_3 spiral tip lasted 244.0 ms.\n",
      "the src=367_2_8 spiral tip lasted 446.0 ms.\n",
      "the src=367_2_6 spiral tip lasted 158.0 ms.\n",
      "the src=364_2_5 spiral tip lasted 752.0 ms.\n",
      "the src=547_2_1 spiral tip lasted 588.0 ms.\n",
      "the src=355_2_12 spiral tip lasted 52.0 ms.\n",
      "the src=452_1_3 spiral tip lasted 838.0 ms.\n",
      "the src=317_1_6 spiral tip lasted 646.0 ms.\n",
      "the src=317_1_9 spiral tip lasted 618.0 ms.\n",
      "the src=346_3_3 spiral tip lasted 966.0 ms.\n",
      "the src=515_0_1 spiral tip lasted 30.0 ms.\n",
      "the src=554_2_1 spiral tip lasted 160.0 ms.\n",
      "the src=534_1_0 spiral tip lasted 356.0 ms.\n",
      "the src=300_0_7 spiral tip lasted 702.0 ms.\n",
      "the src=513_0_3 spiral tip lasted 228.0 ms.\n",
      "the src=392_0_8 spiral tip lasted 540.0 ms.\n",
      "{(529, 0, 0): 0, (404, 1, 1): 0, (613, 0, 0): 0, (420, 0, 5): 0, (447, 1, 0): 0, (360, 1, 8): 0, (361, 2, 8): 0, (457, 3, 2): 0, (472, 2, 1): 0, (455, 2, 3): 0, (426, 3, 4): 0, (489, 3, 3): 0, (371, 2, 3): 0, (440, 3, 7): 0, (544, 3, 2): 0, (523, 0, 1): 0, (531, 2, 3): 0, (306, 1, 7): 0, (513, 2, 3): 0, (327, 3, 15): 0, (353, 1, 12): 0, (357, 1, 14): 0, (363, 2, 5): 0, (592, 2, 3): 0, (367, 2, 8): 0, (367, 2, 6): 0, (364, 2, 5): 0, (547, 2, 1): 0, (355, 2, 12): 0, (452, 1, 3): 0, (317, 1, 6): 0, (317, 1, 9): 0, (346, 3, 3): 0, (515, 0, 1): 0, (554, 2, 1): 0, (534, 1, 0): 0, (300, 0, 7): 0, (513, 0, 3): 0, (392, 0, 8): 0}\n"
     ]
    }
   ],
   "source": [
    "df_lst,K12_index_set=return_df_updated_with_input_folder(input_fn_lst)\n",
    "# df.index.values\n",
    "# K12_index_set"
   ]
  },
  {
   "cell_type": "code",
   "execution_count": 41,
   "metadata": {
    "ExecuteTime": {
     "end_time": "2021-02-08T18:41:42.129167Z",
     "start_time": "2021-02-08T18:41:42.093588Z"
    }
   },
   "outputs": [
    {
     "name": "stdout",
     "output_type": "stream",
     "text": [
      "39 distinct trials were successfully recorded.\n"
     ]
    }
   ],
   "source": [
    "print(f\"{len(list(K12_index_set))} distinct trials were successfully recorded.\")"
   ]
  },
  {
   "cell_type": "code",
   "execution_count": 42,
   "metadata": {
    "ExecuteTime": {
     "end_time": "2021-02-08T18:41:44.187090Z",
     "start_time": "2021-02-08T18:41:44.095494Z"
    }
   },
   "outputs": [
    {
     "data": {
      "text/html": [
       "<div>\n",
       "<style scoped>\n",
       "    .dataframe tbody tr th:only-of-type {\n",
       "        vertical-align: middle;\n",
       "    }\n",
       "\n",
       "    .dataframe tbody tr th {\n",
       "        vertical-align: top;\n",
       "    }\n",
       "\n",
       "    .dataframe thead th {\n",
       "        text-align: right;\n",
       "    }\n",
       "</style>\n",
       "<table border=\"1\" class=\"dataframe\">\n",
       "  <thead>\n",
       "    <tr style=\"text-align: right;\">\n",
       "      <th></th>\n",
       "      <th></th>\n",
       "      <th></th>\n",
       "      <th>t</th>\n",
       "      <th>n</th>\n",
       "      <th>x</th>\n",
       "      <th>y</th>\n",
       "      <th>grad_ux</th>\n",
       "      <th>grad_uy</th>\n",
       "      <th>grad_vx</th>\n",
       "      <th>grad_vy</th>\n",
       "      <th>frame</th>\n",
       "      <th>particle</th>\n",
       "      <th>src</th>\n",
       "    </tr>\n",
       "    <tr>\n",
       "      <th>L</th>\n",
       "      <th>txt_id1</th>\n",
       "      <th>txt_id2</th>\n",
       "      <th></th>\n",
       "      <th></th>\n",
       "      <th></th>\n",
       "      <th></th>\n",
       "      <th></th>\n",
       "      <th></th>\n",
       "      <th></th>\n",
       "      <th></th>\n",
       "      <th></th>\n",
       "      <th></th>\n",
       "      <th></th>\n",
       "    </tr>\n",
       "  </thead>\n",
       "  <tbody>\n",
       "    <tr>\n",
       "      <th rowspan=\"5\" valign=\"top\">529</th>\n",
       "      <th rowspan=\"5\" valign=\"top\">0</th>\n",
       "      <th>0</th>\n",
       "      <td>2674.0</td>\n",
       "      <td>32</td>\n",
       "      <td>0.000000</td>\n",
       "      <td>0.000000</td>\n",
       "      <td>1.68924</td>\n",
       "      <td>0.18676</td>\n",
       "      <td>2.52048</td>\n",
       "      <td>-0.79924</td>\n",
       "      <td>0</td>\n",
       "      <td>1156</td>\n",
       "      <td>529_0_0</td>\n",
       "    </tr>\n",
       "    <tr>\n",
       "      <th>0</th>\n",
       "      <td>2676.0</td>\n",
       "      <td>34</td>\n",
       "      <td>-1.061890</td>\n",
       "      <td>4.804138</td>\n",
       "      <td>1.42292</td>\n",
       "      <td>0.50777</td>\n",
       "      <td>1.97250</td>\n",
       "      <td>-0.13491</td>\n",
       "      <td>1</td>\n",
       "      <td>1156</td>\n",
       "      <td>529_0_0</td>\n",
       "    </tr>\n",
       "    <tr>\n",
       "      <th>0</th>\n",
       "      <td>2678.0</td>\n",
       "      <td>34</td>\n",
       "      <td>-2.404633</td>\n",
       "      <td>8.383820</td>\n",
       "      <td>1.29731</td>\n",
       "      <td>0.65854</td>\n",
       "      <td>2.19612</td>\n",
       "      <td>-0.37403</td>\n",
       "      <td>2</td>\n",
       "      <td>1156</td>\n",
       "      <td>529_0_0</td>\n",
       "    </tr>\n",
       "    <tr>\n",
       "      <th>0</th>\n",
       "      <td>2680.0</td>\n",
       "      <td>34</td>\n",
       "      <td>-3.996124</td>\n",
       "      <td>11.647675</td>\n",
       "      <td>1.24995</td>\n",
       "      <td>0.71677</td>\n",
       "      <td>1.78466</td>\n",
       "      <td>0.10811</td>\n",
       "      <td>3</td>\n",
       "      <td>1156</td>\n",
       "      <td>529_0_0</td>\n",
       "    </tr>\n",
       "    <tr>\n",
       "      <th>0</th>\n",
       "      <td>2682.0</td>\n",
       "      <td>38</td>\n",
       "      <td>-5.219940</td>\n",
       "      <td>13.588715</td>\n",
       "      <td>1.08055</td>\n",
       "      <td>0.90952</td>\n",
       "      <td>2.14106</td>\n",
       "      <td>-0.28554</td>\n",
       "      <td>4</td>\n",
       "      <td>1156</td>\n",
       "      <td>529_0_0</td>\n",
       "    </tr>\n",
       "  </tbody>\n",
       "</table>\n",
       "</div>"
      ],
      "text/plain": [
       "                          t   n         x          y  grad_ux  grad_uy  \\\n",
       "L   txt_id1 txt_id2                                                      \n",
       "529 0       0        2674.0  32  0.000000   0.000000  1.68924  0.18676   \n",
       "            0        2676.0  34 -1.061890   4.804138  1.42292  0.50777   \n",
       "            0        2678.0  34 -2.404633   8.383820  1.29731  0.65854   \n",
       "            0        2680.0  34 -3.996124  11.647675  1.24995  0.71677   \n",
       "            0        2682.0  38 -5.219940  13.588715  1.08055  0.90952   \n",
       "\n",
       "                     grad_vx  grad_vy  frame  particle      src  \n",
       "L   txt_id1 txt_id2                                              \n",
       "529 0       0        2.52048 -0.79924      0      1156  529_0_0  \n",
       "            0        1.97250 -0.13491      1      1156  529_0_0  \n",
       "            0        2.19612 -0.37403      2      1156  529_0_0  \n",
       "            0        1.78466  0.10811      3      1156  529_0_0  \n",
       "            0        2.14106 -0.28554      4      1156  529_0_0  "
      ]
     },
     "execution_count": 42,
     "metadata": {},
     "output_type": "execute_result"
    }
   ],
   "source": [
    "df=pd.concat(df_lst)\n",
    "df.head()"
   ]
  },
  {
   "cell_type": "code",
   "execution_count": 43,
   "metadata": {
    "ExecuteTime": {
     "end_time": "2021-02-08T18:41:46.054751Z",
     "start_time": "2021-02-08T18:41:45.902034Z"
    }
   },
   "outputs": [],
   "source": [
    "#save df as csv in care\n",
    "save_folder=os.path.join(nb_dir,'Data/cloud_results')\n",
    "os.chdir(save_folder)\n",
    "save_fn='longest_traj_by_area_lr_pbc.csv'\n",
    "df.to_csv(save_fn)"
   ]
  },
  {
   "cell_type": "code",
   "execution_count": 44,
   "metadata": {
    "ExecuteTime": {
     "end_time": "2021-02-08T18:41:47.111685Z",
     "start_time": "2021-02-08T18:41:47.066371Z"
    }
   },
   "outputs": [],
   "source": [
    "#TODO: verify save\n",
    "#TODO: compute the area for each trial\n",
    "#TODO: detect brownian motion for each trial\n",
    "#TODO: compute the largest number of repeats of a single trial run\n"
   ]
  },
  {
   "cell_type": "code",
   "execution_count": 45,
   "metadata": {
    "ExecuteTime": {
     "end_time": "2021-02-08T18:41:47.883276Z",
     "start_time": "2021-02-08T18:41:47.842799Z"
    }
   },
   "outputs": [
    {
     "data": {
      "text/plain": [
       "{(529, 0, 0): 0,\n",
       " (404, 1, 1): 0,\n",
       " (613, 0, 0): 0,\n",
       " (420, 0, 5): 0,\n",
       " (447, 1, 0): 0,\n",
       " (360, 1, 8): 0,\n",
       " (361, 2, 8): 0,\n",
       " (457, 3, 2): 0,\n",
       " (472, 2, 1): 0,\n",
       " (455, 2, 3): 0,\n",
       " (426, 3, 4): 0,\n",
       " (489, 3, 3): 0,\n",
       " (371, 2, 3): 0,\n",
       " (440, 3, 7): 0,\n",
       " (544, 3, 2): 0,\n",
       " (523, 0, 1): 0,\n",
       " (531, 2, 3): 0,\n",
       " (306, 1, 7): 0,\n",
       " (513, 2, 3): 0,\n",
       " (327, 3, 15): 0,\n",
       " (353, 1, 12): 0,\n",
       " (357, 1, 14): 0,\n",
       " (363, 2, 5): 0,\n",
       " (592, 2, 3): 0,\n",
       " (367, 2, 8): 0,\n",
       " (367, 2, 6): 0,\n",
       " (364, 2, 5): 0,\n",
       " (547, 2, 1): 0,\n",
       " (355, 2, 12): 0,\n",
       " (452, 1, 3): 0,\n",
       " (317, 1, 6): 0,\n",
       " (317, 1, 9): 0,\n",
       " (346, 3, 3): 0,\n",
       " (515, 0, 1): 0,\n",
       " (554, 2, 1): 0,\n",
       " (534, 1, 0): 0,\n",
       " (300, 0, 7): 0,\n",
       " (513, 0, 3): 0,\n",
       " (392, 0, 8): 0}"
      ]
     },
     "execution_count": 45,
     "metadata": {},
     "output_type": "execute_result"
    }
   ],
   "source": [
    "K12_index_set"
   ]
  },
  {
   "cell_type": "markdown",
   "metadata": {},
   "source": [
    "# TODO(next):"
   ]
  },
  {
   "cell_type": "code",
   "execution_count": 46,
   "metadata": {
    "ExecuteTime": {
     "end_time": "2021-02-08T18:41:49.967194Z",
     "start_time": "2021-02-08T18:41:49.921540Z"
    }
   },
   "outputs": [],
   "source": [
    "#load df \n",
    "data_folder=os.path.join(nb_dir,'Data/cloud_results')\n",
    "os.chdir(data_folder)\n",
    "data_fn='longest_traj_by_area_lr_pbc.csv'"
   ]
  },
  {
   "cell_type": "code",
   "execution_count": 47,
   "metadata": {
    "ExecuteTime": {
     "end_time": "2021-02-08T18:41:51.096103Z",
     "start_time": "2021-02-08T18:41:51.029953Z"
    }
   },
   "outputs": [],
   "source": [
    "#DONE: compute the area for each trial\n",
    "df=pd.read_csv(data_fn)\n",
    "df['area']=df.L**2*0.025**2#cm^2"
   ]
  },
  {
   "cell_type": "code",
   "execution_count": 48,
   "metadata": {
    "ExecuteTime": {
     "end_time": "2021-02-08T18:41:51.991565Z",
     "start_time": "2021-02-08T18:41:51.945920Z"
    }
   },
   "outputs": [],
   "source": [
    "#TODO: plot MSD for each trial\n",
    "d=df[(df.L==513)& (df.txt_id1==0)&(df.txt_id2==3)]\n",
    "#TODO: detect brownian motion for each trial\n",
    "#TODO: compute the largest number of repeats of a single trial run"
   ]
  },
  {
   "cell_type": "code",
   "execution_count": 49,
   "metadata": {
    "ExecuteTime": {
     "end_time": "2021-02-08T18:41:58.419818Z",
     "start_time": "2021-02-08T18:41:58.369490Z"
    }
   },
   "outputs": [
    {
     "name": "stdout",
     "output_type": "stream",
     "text": [
      "this spiral tip lasted 228.0 ms.\n"
     ]
    }
   ],
   "source": [
    "print(f\"this spiral tip lasted {d.t.max()-d.t.min()} ms.\")"
   ]
  },
  {
   "cell_type": "code",
   "execution_count": 65,
   "metadata": {
    "ExecuteTime": {
     "end_time": "2021-02-08T18:49:26.871851Z",
     "start_time": "2021-02-08T18:49:26.574231Z"
    }
   },
   "outputs": [
    {
     "data": {
      "image/png": "[encoded data removed]",
      "text/plain": [
       "<Figure size 432x288 with 1 Axes>"
      ]
     },
     "metadata": {
      "needs_background": "light"
     },
     "output_type": "display_data"
    }
   ],
   "source": [
    "src_lst=['447_1_0',\"523_0_1\",\"529_0_0\"]\n",
    "A_lst=[447**2*DS**2,523**2*DS**2,529**2*DS**2]\n",
    "for A,src in zip(A_lst,src_lst):\n",
    "    d_in=df[df.src==src]\n",
    "\n",
    "    DS=0.025#cm per pixel\n",
    "    DT=2.#ms per frame\n",
    "    #compute ensemble mean squared displacement\n",
    "    emsd = trackpy.motion.emsd(d_in, mpp=1., fps=1.,max_lagtime=40000)\n",
    "    #cast ensemble mean squared displacement into units of cm^2 and seconds\n",
    "    d_out= pd.DataFrame({'msd':DS**2*emsd.values, 'lagt':emsd.index.values*DT/10**3, 'src':src})\n",
    "\n",
    "\n",
    "    x_values=d_out.lagt\n",
    "    y_values=d_out.msd\n",
    "\n",
    "    plt.plot(x_values,y_values,label=f\"{np.around(A)} cm^2\")\n",
    "plt.xlabel('lag (sec)')\n",
    "plt.ylabel(r'MSD (cm$^2$)')\n",
    "plt.legend()\n",
    "plt.show()"
   ]
  },
  {
   "cell_type": "code",
   "execution_count": null,
   "metadata": {},
   "outputs": [],
   "source": []
  }
 ],
 "metadata": {
  "kernelspec": {
   "display_name": "Python 3",
   "language": "python",
   "name": "python3"
  },
  "language_info": {
   "codemirror_mode": {
    "name": "ipython",
    "version": 3
   },
   "file_extension": ".py",
   "mimetype": "text/x-python",
   "name": "python",
   "nbconvert_exporter": "python",
   "pygments_lexer": "ipython3",
   "version": "3.8.7"
  },
  "toc": {
   "base_numbering": 1,
   "nav_menu": {},
   "number_sections": true,
   "sideBar": true,
   "skip_h1_title": false,
   "title_cell": "Table of Contents",
   "title_sidebar": "Contents",
   "toc_cell": false,
   "toc_position": {},
   "toc_section_display": true,
   "toc_window_display": false
  },
  "varInspector": {
   "cols": {
    "lenName": 16,
    "lenType": 16,
    "lenVar": 40
   },
   "kernels_config": {
    "python": {
     "delete_cmd_postfix": "",
     "delete_cmd_prefix": "del ",
     "library": "var_list.py",
     "varRefreshCmd": "print(var_dic_list())"
    },
    "r": {
     "delete_cmd_postfix": ") ",
     "delete_cmd_prefix": "rm(",
     "library": "var_list.r",
     "varRefreshCmd": "cat(var_dic_list()) "
    }
   },
   "types_to_exclude": [
    "module",
    "function",
    "builtin_function_or_method",
    "instance",
    "_Feature"
   ],
   "window_display": false
  }
 },
 "nbformat": 4,
 "nbformat_minor": 4
}
