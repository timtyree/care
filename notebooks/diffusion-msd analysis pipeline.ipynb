{
 "cells": [
  {
   "cell_type": "markdown",
   "metadata": {},
   "source": [
    "# msd-from-tip-log DAG workflow  \n",
    "TODO(later): add option to skip recomputation of cached results<br>\n",
    "Tim Tyree<br>\n",
    "1.18.2021\n"
   ]
  },
  {
   "cell_type": "code",
   "execution_count": 1,
   "metadata": {
    "ExecuteTime": {
     "end_time": "2021-03-05T03:41:24.191382Z",
     "start_time": "2021-03-05T03:41:23.175627Z"
    }
   },
   "outputs": [
    {
     "name": "stdout",
     "output_type": "stream",
     "text": [
      "Automatic calling is: Smart\n"
     ]
    }
   ],
   "source": [
    "from lib.my_initialization import *\n",
    "from lib import *\n",
    "\n",
    "from lib.my_initialization import *\n",
    "from lib.utils.utils_traj import *\n",
    "\n",
    "from lib.utils.operari import *\n",
    "\n",
    "\n",
    "import trackpy, pandas as pd, numpy as np\n",
    "from lib import *\n",
    "from lib.routines.track_tips import *\n",
    "from lib.utils.dist_func import *\n",
    "from lib.utils.utils_traj import *\n",
    "\n",
    "from lib.routines.compute_trajectories import *\n",
    "from lib.routines.dag_log_to_msd import *\n",
    "from lib.routines.compute_msd import *\n",
    "\n",
    "import trackpy\n",
    "%autocall 1\n",
    "%load_ext autoreload\n",
    "%autoreload 2\n",
    "# awareness&chill"
   ]
  },
  {
   "cell_type": "code",
   "execution_count": 2,
   "metadata": {
    "ExecuteTime": {
     "end_time": "2021-02-22T17:42:16.364957Z",
     "start_time": "2021-02-22T17:42:16.296875Z"
    }
   },
   "outputs": [],
   "source": [
    "# #make plots in darkmode\n",
    "# import seaborn as sns\n",
    "# from jupyterthemes import jtplot\n",
    "# jtplot.style(theme='monokai', context='notebook', ticks=True, grid=False)"
   ]
  },
  {
   "cell_type": "code",
   "execution_count": null,
   "metadata": {},
   "outputs": [],
   "source": [
    "#TODO: turn the diffcoef_summary into a .csv update instead of overwriting"
   ]
  },
  {
   "cell_type": "markdown",
   "metadata": {
    "heading_collapsed": true
   },
   "source": [
    "# (ignore dev) generate msd figures"
   ]
  },
  {
   "cell_type": "code",
   "execution_count": 2,
   "metadata": {
    "ExecuteTime": {
     "end_time": "2021-01-25T02:02:29.411157Z",
     "start_time": "2021-01-25T02:02:29.392516Z"
    },
    "hidden": true
   },
   "outputs": [
    {
     "name": "stdout",
     "output_type": "stream",
     "text": [
      "171\n"
     ]
    }
   ],
   "source": [
    "# #find file interactively\n",
    "# print(\"please select a file from within the desired folder.\")\n",
    "# file = search_for_file()\n",
    "file='/home/timothytyree/Documents/GitHub/care/notebooks/Data/initial-conditions-suite-2/ds_2_param_set_8/Log/ic_200x200.001.12_log.csv'\n",
    "trgt='log.csv'\n",
    "assert(file[-len(trgt):]==trgt)\n",
    "\n",
    "file_name_list=get_all_files_matching_pattern(file,trgt)\n",
    "print(len(file_name_list))\n",
    "os.chdir(nb_dir)"
   ]
  },
  {
   "cell_type": "code",
   "execution_count": 3,
   "metadata": {
    "ExecuteTime": {
     "end_time": "2021-01-25T02:02:42.748600Z",
     "start_time": "2021-01-25T02:02:42.733700Z"
    },
    "hidden": true
   },
   "outputs": [],
   "source": [
    "# make unwrapped trajectory for file_name_list\n",
    "# run_routine_log_to_msd\n",
    "# # b = db.from_sequence(file_name_list[:2], npartitions=2).map(run_routine_log_to_msd)\n",
    "# b = db.from_sequence(file_name_list, npartitions=2).map(run_routine_log_to_msd)\n",
    "# start = time.time()\n",
    "# retval = list(b)\n",
    "# print(f\"run time for generating trajectories from file_name_list: {time.time()-start:.2f} seconds.\")\n",
    "# beep(3)\n",
    "# output_file_name_list=retval\n",
    "# print(len(output_file_name_list))"
   ]
  },
  {
   "cell_type": "code",
   "execution_count": 2,
   "metadata": {
    "ExecuteTime": {
     "end_time": "2021-01-18T23:08:14.819021Z",
     "start_time": "2021-01-18T23:08:14.743468Z"
    },
    "hidden": true
   },
   "outputs": [],
   "source": []
  },
  {
   "cell_type": "code",
   "execution_count": 18,
   "metadata": {
    "ExecuteTime": {
     "end_time": "2021-01-19T01:07:41.901609Z",
     "start_time": "2021-01-19T01:07:17.665116Z"
    },
    "hidden": true
   },
   "outputs": [
    {
     "name": "stdout",
     "output_type": "stream",
     "text": [
      "Num. file names in list = 171.\n",
      "ValueError: No objects to concatenate\n",
      "\ttrial that failed: ic_200x200.008.12_traj_sr_400_mem_0_unwrap.csv\n",
      "ValueError: No objects to concatenate\n",
      "\ttrial that failed: ic_200x200.011.31_traj_sr_400_mem_0_unwrap.csv\n",
      "ValueError: No objects to concatenate\n",
      "\ttrial that failed: ic_200x200.018.31_traj_sr_400_mem_0_unwrap.csv\n",
      "ValueError: No objects to concatenate\n",
      "\ttrial that failed: ic_200x200.011.33_traj_sr_400_mem_0_unwrap.csv\n",
      "saved figure in \n",
      "\temsd_longest_by_trial_tips_ntips_1_long_time_std.png\n",
      "saved figure in \n",
      "\temsd_longest_by_trial_tips_ntips_1_short_time_std.png\n",
      "saved figure in \n",
      "\temsd_longest_by_trial_tips_ntips_1_very_short_time_std.png\n"
     ]
    }
   ],
   "source": [
    "# #compute mean squared displacements, aggregating results\n",
    "# n_tips=1; DT=1.\n",
    "# file_out=output_file_name_list[0]\n",
    "# # file_out='/home/timothytyree/Documents/GitHub/care/notebooks/Data/initial-conditions-suite-2/ds_1_param_set_8/trajectories/ic_200x200.011.11_traj_sr_400_mem_0_unwrap.csv'\n",
    "# # file_out='/home/timothytyree/Documents/GitHub/care/notebooks/Data/initial-conditions-suite-2/ds_2_param_set_8/trajectories/ic_200x200.011.11_traj_sr_400_mem_0_unwrap.csv'\n",
    "# retval=gen_msd_figs(file_out,n_tips, DT)#, V_thresh=0.4)"
   ]
  },
  {
   "cell_type": "code",
   "execution_count": 19,
   "metadata": {
    "ExecuteTime": {
     "end_time": "2021-01-19T01:08:06.324201Z",
     "start_time": "2021-01-19T01:07:42.322054Z"
    },
    "hidden": true
   },
   "outputs": [
    {
     "name": "stdout",
     "output_type": "stream",
     "text": [
      "Num. file names in list = 171.\n",
      "ValueError: No objects to concatenate\n",
      "\ttrial that failed: ic_200x200.017.23_traj_sr_400_mem_0_unwrap.csv\n",
      "ValueError: No objects to concatenate\n",
      "\ttrial that failed: ic_200x200.005.22_traj_sr_400_mem_0_unwrap.csv\n",
      "ValueError: No objects to concatenate\n",
      "\ttrial that failed: ic_200x200.006.23_traj_sr_400_mem_0_unwrap.csv\n",
      "saved figure in \n",
      "\temsd_longest_by_trial_tips_ntips_1_long_time_std.png\n",
      "saved figure in \n",
      "\temsd_longest_by_trial_tips_ntips_1_short_time_std.png\n",
      "saved figure in \n",
      "\temsd_longest_by_trial_tips_ntips_1_very_short_time_std.png\n"
     ]
    }
   ],
   "source": [
    "# file_out='/home/timothytyree/Documents/GitHub/care/notebooks/Data/initial-conditions-suite-2/ds_2_param_set_8/trajectories/ic_200x200.011.11_traj_sr_400_mem_0_unwrap.csv'\n",
    "# retval=gen_msd_figs(file_out,n_tips, DT)#, V_thresh=0.4)"
   ]
  },
  {
   "cell_type": "markdown",
   "metadata": {
    "ExecuteTime": {
     "end_time": "2021-01-23T19:31:58.475770Z",
     "start_time": "2021-01-23T19:31:58.435850Z"
    },
    "heading_collapsed": true
   },
   "source": [
    "# (ignore dev) find dag workflow for one trial and give it a caching option\n",
    "- Hint: use os.path.exists(fn)"
   ]
  },
  {
   "cell_type": "code",
   "execution_count": 4,
   "metadata": {
    "ExecuteTime": {
     "end_time": "2021-01-25T02:04:58.037157Z",
     "start_time": "2021-01-25T02:04:58.022571Z"
    },
    "hidden": true
   },
   "outputs": [],
   "source": [
    "#TODO: make a function that _for one trial_folder_ computes all analysis steps from tracking to diffcoeff output\n",
    "##################\n",
    "# Scrum: 1.23.2021\n",
    "##################\n",
    "#TODO: make a function that _for one trial_folder_ computes all analysis steps from tracking to diffcoeff output\n",
    "#TODO: give ^this function a kwarg option use_cached_files=True, that looks for files already existing \n",
    "#TODO: make a function that computes all analysis steps from tracking to diffcoeff table\n",
    "#TODO: give ^this function a kwarg option use_cached_files=True, that looks for files already existing \n",
    "#TODO(later): make viewer for data, where I give a trial_folder and it shows me all the plots for it"
   ]
  },
  {
   "cell_type": "code",
   "execution_count": 5,
   "metadata": {
    "ExecuteTime": {
     "end_time": "2021-01-25T02:05:15.065246Z",
     "start_time": "2021-01-25T02:05:15.049421Z"
    },
    "hidden": true
   },
   "outputs": [],
   "source": [
    "# find dag workflow for one trial and give it a caching option\n",
    "# - Hint: use os.path.exists(fn)"
   ]
  },
  {
   "cell_type": "code",
   "execution_count": 2,
   "metadata": {
    "ExecuteTime": {
     "end_time": "2021-01-25T22:49:17.176939Z",
     "start_time": "2021-01-25T22:49:17.159255Z"
    },
    "hidden": true
   },
   "outputs": [],
   "source": [
    "def msd_fig_gener(input_file_name,n_tips=1):\n",
    "    trgt='_unwrap.csv'\n",
    "    assert(input_file_name[-len(trgt)]==trgt)\n",
    "    #Generate msd figures for input_file_name\n",
    "    dirname = os.path.dirname(input_file_name).split('/')[-1]\n",
    "    folder_name=os.path.dirname(input_file_name)\n",
    "    save_folder = folder_name.replace(dirname,'msd')\n",
    "    output_file_name = f\"emsd_longest_by_trial_tips_ntips_{n_tips}.csv\"\n",
    "    #determine DT\n",
    "    df=pd.read_csv(input_file_name)\n",
    "    DT=df.t.head(2).diff().dropna().values[0]\n",
    "    retval=gen_msd_figs(file_out,n_tips, DT)#, V_thresh=0.4)\n",
    "    return retval"
   ]
  },
  {
   "cell_type": "code",
   "execution_count": 11,
   "metadata": {
    "ExecuteTime": {
     "end_time": "2021-01-25T02:08:11.872471Z",
     "start_time": "2021-01-25T02:08:11.844424Z"
    },
    "hidden": true
   },
   "outputs": [
    {
     "data": {
      "text/plain": [
       "1.0"
      ]
     },
     "execution_count": 11,
     "metadata": {},
     "output_type": "execute_result"
    }
   ],
   "source": [
    "n_tips=1\n",
    "use_cache=True\n",
    "input_file_name='/home/timothytyree/Documents/GitHub/care/notebooks/Data/initial-conditions-suite-2/ds_2_param_set_8/trajectories/ic_200x200.011.11_traj_sr_400_mem_0_unwrap.csv'\n",
    "msd_fig_gener(input_file_name,n_tips)"
   ]
  },
  {
   "cell_type": "code",
   "execution_count": 22,
   "metadata": {
    "ExecuteTime": {
     "end_time": "2021-01-23T21:25:13.104440Z",
     "start_time": "2021-01-23T21:25:13.089257Z"
    },
    "hidden": true
   },
   "outputs": [],
   "source": [
    "#compute the ensemble mean squared displacements for each trial\n",
    "#determine DT\n",
    "input_file_name=file_name_list[0]\n",
    "df=pd.read_csv(input_file_name)\n",
    "DT=df.t.head(2).diff().dropna().values[0]\n",
    "os.chdir(save_folder)\n",
    "if not use_cache or not os.path.exists(output_file_name):\n",
    "    \n",
    "    output_file_name=generate_msd_figures_routine_for_list(file_name_list, n_tips,DT=DT,put_file_name=None,save_folder=None,**kwargs):\n"
   ]
  },
  {
   "cell_type": "code",
   "execution_count": 19,
   "metadata": {
    "ExecuteTime": {
     "end_time": "2021-01-23T21:23:50.961663Z",
     "start_time": "2021-01-23T21:23:50.934519Z"
    },
    "hidden": true
   },
   "outputs": [
    {
     "data": {
      "text/plain": [
       "'/home/timothytyree/Documents/GitHub/care/notebooks/Data/initial-conditions-suite-2/ds_2_param_set_8/msd'"
      ]
     },
     "execution_count": 19,
     "metadata": {},
     "output_type": "execute_result"
    }
   ],
   "source": [
    "save_folder"
   ]
  },
  {
   "cell_type": "markdown",
   "metadata": {},
   "source": [
    "# define module for diffusion analysis pipeline"
   ]
  },
  {
   "cell_type": "code",
   "execution_count": 2,
   "metadata": {
    "ExecuteTime": {
     "end_time": "2021-03-05T03:41:35.080870Z",
     "start_time": "2021-03-05T03:41:35.056454Z"
    }
   },
   "outputs": [
    {
     "data": {
      "text/plain": [
       "<function lib.routines.dag_log_to_msd.dag_a_postprocess(emsd_fn, trial_folder_name, dir_out, **kwargs)>"
      ]
     },
     "execution_count": 2,
     "metadata": {},
     "output_type": "execute_result"
    }
   ],
   "source": [
    "from lib.routines.dag_log_to_msd import *\n",
    "dag_a_postprocess"
   ]
  },
  {
   "cell_type": "code",
   "execution_count": 3,
   "metadata": {
    "ExecuteTime": {
     "end_time": "2021-03-05T03:41:35.592599Z",
     "start_time": "2021-03-05T03:41:35.565931Z"
    },
    "code_folding": []
   },
   "outputs": [],
   "source": [
    "def run_routine_log_to_unwrapped_trajectory(input_file_name,sr, mem,L,  use_cache=True, DS=0.025, **kwargs):\n",
    "    '''ic is a .csv file name of a tip log.'''\n",
    "    traj_fn = os.path.abspath(input_file_name).replace('/Log','/trajectories').replace('log.csv', f'traj_sr_{sr}_mem_{mem}.csv')\n",
    "    output_file_name = traj_fn.replace('/trajectories','/trajectories_unwrap').replace('.csv',\"_unwrap.csv\")\n",
    "    if not use_cache or not os.path.exists(traj_fn):\n",
    "        traj_fn = generate_track_tips_pbc(input_file_name, save_fn=traj_fn,sr=sr,mem=mem, width=L,height=L)#,**kwargs)\n",
    "    if not use_cache or not os.path.exists(output_file_name):\n",
    "        retval_ignore = unwrap_trajectories(traj_fn, output_file_name,width=L,height=L,DS=DS)      \n",
    "    return os.path.abspath(output_file_name)\n",
    "\n",
    "def run_routine_unwrapped_trajectories_to_diffcoeff_summary(file_name_list,trial_folder_name,L,DS,use_cache=True,n_tips=1,**kwargs):\n",
    "    '''file_name_list is a list of strings locating files ending in _unwrap.csv'''\n",
    "    input_file_name=file_name_list[0]\n",
    "    #determine DT\n",
    "    df=pd.read_csv(input_file_name)\n",
    "    DT=df.t.head(2).diff().dropna().values[0]\n",
    "    dirname = os.path.dirname(input_file_name).split('/')[-1]\n",
    "    folder_name=os.path.dirname(input_file_name)\n",
    "    save_folder = folder_name.replace(dirname,'msd')\n",
    "    emsd_fn = os.path.join(save_folder,f\"emsd_longest_by_trial_tips_ntips_{n_tips}.csv\")\n",
    "    if not os.path.exists(save_folder):\n",
    "        os.mkdir(save_folder)\n",
    "    os.chdir(save_folder)\n",
    "    if not use_cache or not os.path.exists(emsd_fn):\n",
    "        #compute the ensemble mean squared displacements for each trial\n",
    "        emsd_fn=generate_msd_figures_routine_for_list(file_name_list, n_tips, DT=DT,DS=DS,\n",
    "                                                               output_file_name=emsd_fn,L=L,\n",
    "                                                               save_folder=save_folder,**kwargs)\n",
    "    #compute the diffusion coefficient summary\n",
    "    os.chdir(os.path.dirname(emsd_fn))\n",
    "    dir_out=os.path.join(save_folder,\"diffcoeff_summary_\"+os.path.basename(emsd_fn))\n",
    "    if not use_cache or not os.path.exists(dir_out):\n",
    "        dir_out = dag_a_postprocess(emsd_fn=emsd_fn,\n",
    "                                trial_folder_name=trial_folder_name,\n",
    "                                dir_out=dir_out,**kwargs)\n",
    "    return dir_out\n",
    "\n",
    "def workflow_reduce_logs_to_diffcoeff_summary(input_fn_lst, L,DS,use_cache_0=True,use_cache_1=False, npartitions=2, **kwargs):\n",
    "    print(f\"the total number of trials recorded is {len(input_fn_lst)}\")\n",
    "    def routine(fn):\n",
    "        output_file_name=run_routine_log_to_unwrapped_trajectory(fn, use_cache=use_cache_0,L=L,**kwargs)\n",
    "        return output_file_name\n",
    "    b = db.from_sequence(input_fn_lst, npartitions=npartitions).map(routine)\n",
    "    file_name_list = list(b)\n",
    "    print(f'reducing {len(file_name_list)} unwrapped trajectories files to a single row describing the diffusion coefficient of spiral tips for that trial...')\n",
    "    #reduce reduce_logs_to_diffcoeff_summary\n",
    "    df_out= run_routine_unwrapped_trajectories_to_diffcoeff_summary(file_name_list,use_cache=use_cache_1,DS=DS,L=L,**kwargs)\n",
    "    return df_out\n",
    "    \n"
   ]
  },
  {
   "cell_type": "code",
   "execution_count": 4,
   "metadata": {
    "ExecuteTime": {
     "end_time": "2021-03-05T03:41:36.014114Z",
     "start_time": "2021-03-05T03:41:35.985246Z"
    }
   },
   "outputs": [],
   "source": [
    "def get_all_logs(trial_folder,trial_folder_name):\n",
    "    cwd=os.getcwd()\n",
    "    file=f\"{trial_folder}/Log/ic_200x200.001.12_log.csv\"\n",
    "    trgt='log.csv'\n",
    "    assert(file[-len(trgt):]==trgt)\n",
    "    input_fn_lst=get_all_files_matching_pattern(file,trgt)\n",
    "    # print(len(input_fn_lst))\n",
    "    os.chdir(cwd)\n",
    "    return input_fn_lst"
   ]
  },
  {
   "cell_type": "code",
   "execution_count": 5,
   "metadata": {
    "ExecuteTime": {
     "end_time": "2021-03-05T03:41:36.366160Z",
     "start_time": "2021-03-05T03:41:36.328573Z"
    }
   },
   "outputs": [],
   "source": [
    "def gen_diffcoeff_summary(trial_folder_name,L,DS,ic_suite_fn,**kwargs):\n",
    "    #find all log files for each trial folder\n",
    "    trial_folder=f\"{ic_suite_fn}/{trial_folder_name}\"\n",
    "    input_fn_lst= get_all_logs(trial_folder,trial_folder_name)\n",
    "    print(f\"{trial_folder_name} contains {len(input_fn_lst)} tip logs\")\n",
    "    #reduce that trial folder to a single diffusion coefficient row\n",
    "    diffcoeff_summary_fn=workflow_reduce_logs_to_diffcoeff_summary(\n",
    "        input_fn_lst,L=L,DS=DS,trial_folder_name=trial_folder_name,\n",
    "        use_cache_0=True,**kwargs)\n",
    "    return diffcoeff_summary_fn\n"
   ]
  },
  {
   "cell_type": "code",
   "execution_count": 6,
   "metadata": {
    "ExecuteTime": {
     "end_time": "2021-03-05T03:41:37.314876Z",
     "start_time": "2021-03-05T03:41:37.299012Z"
    }
   },
   "outputs": [],
   "source": [
    "# def get_all_trial_folders_not_archived(ic_suite_fn):\n",
    "#     os.chdir(ic_suite_fn)\n",
    "#     dir_lst=os.listdir()\n",
    "#     trial_folder_name_lst=[]\n",
    "#     for dir_run in dir_lst:\n",
    "#         # dir_run=dir_lst[0]\n",
    "#         trial_folder_name=dir_run\n",
    "#         #test if trial_folder_name is not a folder\n",
    "#         boo  = os.path.isdir(trial_folder_name)\n",
    "#         #test if trial_folder_name starts with ic\n",
    "#         boo &=trial_folder_name[:2]!='ic'\n",
    "#         #test if trial_folder_name contains archiv\n",
    "#         boo &=trial_folder_name.find('archiv')==-1\n",
    "#         #if not, append it to the trial_folder_name_lst\n",
    "#         if boo:\n",
    "#             trial_folder_name_lst.append(trial_folder_name)\n",
    "#     return trial_folder_name_lst"
   ]
  },
  {
   "cell_type": "code",
   "execution_count": 7,
   "metadata": {
    "ExecuteTime": {
     "end_time": "2021-03-05T03:41:37.769664Z",
     "start_time": "2021-03-05T03:41:37.752564Z"
    }
   },
   "outputs": [],
   "source": [
    "# #find all log files for a given trial\n",
    "# trial_folder_name='ds_5_param_set_3'\n",
    "# trial_folder=f\"{nb_dir}/Data/initial-conditions-suite-2/{trial_folder_name}\"\n",
    "# input_fn_lst= get_all_logs(trial_folder,trial_folder_name)\n",
    "# print(len(input_fn_lst))"
   ]
  },
  {
   "cell_type": "code",
   "execution_count": 13,
   "metadata": {
    "ExecuteTime": {
     "end_time": "2021-03-05T03:42:40.829901Z",
     "start_time": "2021-03-05T03:42:40.809742Z"
    }
   },
   "outputs": [],
   "source": [
    "#DONE: test workflow_reduce_logs_to_diffcoeff_summary runtime on trial_folder with cached results\n",
    "# pipeline to run up to an individual data run (workflow_reduce_logs_to_diffcoeff_summary)\n",
    "\n",
    "def diffcoeff_table_gener(ic_suite_fn,L,DS,trial_folder_name_lst,dict_kwargs_trial,npartitions=2,**kwargs_table):\n",
    "    #generate the diffusion table\n",
    "    for trial_folder_name in trial_folder_name_lst:\n",
    "        kwargs_trial= dict_kwargs_trial[trial_folder_name]\n",
    "        kwargs_trial.update(kwargs_table)\n",
    "        print(f'beginning diffusion analysis of {trial_folder_name}...')\n",
    "        diffcoeff_summary_fn= gen_diffcoeff_summary(trial_folder_name,L=L,ic_suite_fn=ic_suite_fn,npartitions=npartitions,DS=DS,**kwargs_trial)\n",
    "    #reduce\n",
    "    retval= gen_diffcoeff_table(ic_suite_fn,trial_folder_name_lst=trial_folder_name_lst,**kwargs_table)\n",
    "    return retval"
   ]
  },
  {
   "cell_type": "markdown",
   "metadata": {
    "heading_collapsed": true
   },
   "source": [
    "# FK model analysis pipeline"
   ]
  },
  {
   "cell_type": "code",
   "execution_count": 45,
   "metadata": {
    "ExecuteTime": {
     "end_time": "2021-01-26T03:35:13.361679Z",
     "start_time": "2021-01-26T03:35:13.343168Z"
    },
    "hidden": true
   },
   "outputs": [
    {
     "name": "stdout",
     "output_type": "stream",
     "text": [
      "['ds_5_param_set_8_fastkernel_V_0.4', 'ds_5_param_set_4', 'ds_5_param_set_8_og', 'ds_5_param_set_8_fastkernel_V_0.5', 'ds_10_param_set_8_og', 'ds_5_param_set_8_fastkernel_V_0.6', 'ds_1_param_set_8', 'ds_5_param_set_3', 'ds_2_param_set_8']\n"
     ]
    }
   ],
   "source": [
    "ic_suite_fn=f\"{nb_dir}/Data/initial-conditions-suite-2\"\n",
    "trial_folder_name_lst=get_all_trial_folders_not_archived(ic_suite_fn)    \n",
    "#initialize dict_kwargs_trial\n",
    "dict_kwargs_trial={}\n",
    "for fn in trial_folder_name_lst:\n",
    "    dict_kwargs_trial[fn]={}\n",
    "    \n",
    "#add any custom changes to instances of the analysis pipeline\n",
    "dict_kwargs_trial['ds_5_param_set_3']['duration_thresh']=.35\n",
    "# # other parameters of potential interest\n",
    "# tau_min=.15, n_tips=1,DT=1., \n",
    "print(trial_folder_name_lst)"
   ]
  },
  {
   "cell_type": "code",
   "execution_count": 46,
   "metadata": {
    "ExecuteTime": {
     "end_time": "2021-01-26T03:35:13.724263Z",
     "start_time": "2021-01-26T03:35:13.705938Z"
    },
    "hidden": true
   },
   "outputs": [],
   "source": [
    "trial_folder_name_lst=['ds_5_param_set_8_fastkernel_V_0.4','ds_5_param_set_3','ds_5_param_set_4','ds_5_param_set_8_og','ds_10_param_set_8_og']"
   ]
  },
  {
   "cell_type": "code",
   "execution_count": null,
   "metadata": {
    "ExecuteTime": {
     "start_time": "2021-01-26T03:35:14.162Z"
    },
    "hidden": true
   },
   "outputs": [
    {
     "name": "stdout",
     "output_type": "stream",
     "text": [
      "Frame 300000: 19 trajectories present.\n"
     ]
    }
   ],
   "source": [
    "retval= diffcoeff_table_gener(ic_suite_fn,trial_folder_name_lst,dict_kwargs_trial,npartitions=2)\n",
    "\n",
    "beep(10)\n",
    "print(f\"retval is {retval}\")"
   ]
  },
  {
   "cell_type": "code",
   "execution_count": null,
   "metadata": {
    "ExecuteTime": {
     "end_time": "2021-01-25T19:10:22.157224Z",
     "start_time": "2021-01-25T16:51:13.601Z"
    },
    "hidden": true
   },
   "outputs": [],
   "source": [
    "# diffcoeff_summary_fn= gen_diffcoeff_summary(trial_folder_name,ic_suite_fn,**kwargs_trial)\n"
   ]
  },
  {
   "cell_type": "code",
   "execution_count": 114,
   "metadata": {
    "ExecuteTime": {
     "end_time": "2021-01-24T01:48:21.839951Z",
     "start_time": "2021-01-24T01:48:21.819642Z"
    },
    "hidden": true
   },
   "outputs": [
    {
     "data": {
      "text/plain": [
       "'ds_2_param_set_8'"
      ]
     },
     "execution_count": 114,
     "metadata": {},
     "output_type": "execute_result"
    }
   ],
   "source": [
    "#DONE: test workflow_reduce_logs_to_diffcoeff_summary runtime on trial_folder with cached results\n",
    "# pipeline to run up to an individual data run (workflow_reduce_logs_to_diffcoeff_summary)\n",
    "\n",
    "# # def gener_diffcoeff_table(ic_suite_fn,trial_folder_name_lst,**kwargs):\n",
    "# #TODO: generate the diffusion table\n",
    "# for trial_folder_name in trial_folder_name_lst:\n",
    "#     kwargs_trial= dict_kwargs_trial[trial_folder_name]\n",
    "#     print(f'beginning diffusion analysis of {trial_folder_name}...')\n",
    "#     diffcoeff_summary_fn= gen_diffcoeff_summary(trial_folder_name,ic_suite_fn,npartitions=6,**kwargs_trial)\n"
   ]
  },
  {
   "cell_type": "markdown",
   "metadata": {},
   "source": [
    "# LR model analysis pipeline"
   ]
  },
  {
   "cell_type": "code",
   "execution_count": 31,
   "metadata": {
    "ExecuteTime": {
     "end_time": "2021-02-22T20:08:15.341212Z",
     "start_time": "2021-02-22T20:07:55.919168Z"
    }
   },
   "outputs": [
    {
     "name": "stdout",
     "output_type": "stream",
     "text": [
      "please select a (local) log file\n",
      "File: /home/timothytyree/Documents/GitHub/care/notebooks/Data/initial-conditions-suite-3-LR/ds_5_param_qu_tmax_30_Ko_7.0/Log/ic001.33_log.csv\n"
     ]
    }
   ],
   "source": [
    "print('please select a (local) log file')\n",
    "file=search_for_file()"
   ]
  },
  {
   "cell_type": "code",
   "execution_count": 9,
   "metadata": {
    "ExecuteTime": {
     "end_time": "2021-03-05T03:41:49.193679Z",
     "start_time": "2021-03-05T03:41:49.178036Z"
    }
   },
   "outputs": [],
   "source": [
    "file='/home/timothytyree/Documents/GitHub/care/notebooks/Data/initial-conditions-suite-3-LR/param_qu_tmax_30_Ko_3.8/Log/ic001.13_log.csv'"
   ]
  },
  {
   "cell_type": "code",
   "execution_count": 10,
   "metadata": {
    "ExecuteTime": {
     "end_time": "2021-03-05T03:41:49.665900Z",
     "start_time": "2021-03-05T03:41:49.646805Z"
    }
   },
   "outputs": [
    {
     "name": "stdout",
     "output_type": "stream",
     "text": [
      "['param_qu_tmax_30_Ko_3.8_diffCoef_0.00075', 'ds_5_param_qu_tmax_1', 'ds_2_param_qu_tmax_10', 'ds_5_param_qu_tmax_30_Ko_7.0', 'ds_5_param_qu_tmax_1_deprec_V_-60.', 'ds_5_param_qu_tmax_10_Ko_5.4', 'ds_5_param_qu_tmax_10_Ko_7', 'ds_7.5_param_qu_tmax_30', 'param_qu_tmax_30_Ko_3.8', 'param_qu_tmax_30', 'ds_10_param_qu_tmax_30', 'param_qu_tmax_30_Ko_3.8_diffCoef_0.0005', 'ds_5_param_qu_tmax_10', 'ds_5_param_qu_tmax_30_Ko_5.4']\n"
     ]
    }
   ],
   "source": [
    "ic_suite_fn=os.path.dirname(os.path.dirname(os.path.dirname(file)))\n",
    "# ic_suite_fn=f\"{nb_dir}/Data/initial-conditions-suite-3-LR\"\n",
    "trial_folder_name_lst=get_all_trial_folders_not_archived(ic_suite_fn)    \n",
    "#initialize dict_kwargs_trial\n",
    "dict_kwargs_trial={}\n",
    "for fn in trial_folder_name_lst:\n",
    "    dict_kwargs_trial[fn]={}\n",
    "    \n",
    "#add any custom changes to instances of the analysis pipeline\n",
    "# dict_kwargs_trial['ds_5_param_set_3']['duration_thresh']=.35\n",
    "# # other parameters of potential interest\n",
    "# tau_min=.15, n_tips=1,DT=1., \n",
    "print(trial_folder_name_lst)"
   ]
  },
  {
   "cell_type": "code",
   "execution_count": 15,
   "metadata": {
    "ExecuteTime": {
     "end_time": "2021-03-05T06:16:28.176311Z",
     "start_time": "2021-03-05T06:16:28.156139Z"
    }
   },
   "outputs": [],
   "source": [
    "# trial_folder_name_lst=['ds_7.5_param_qu_tmax_30']#'ds_5_param_qu_tmax_10_Ko_7','ds_5_param_qu_tmax_30_Ko_5.4']\n",
    "# trial_folder_name_lst=['ds_5_param_qu_tmax_10',\n",
    "# trial_folder_name_lst=['ds_5_param_qu_tmax_30_Ko_5.4']\n",
    "# trial_folder_name_lst=['ds_5_param_qu_tmax_30_Ko_7.0', 'ds_7.5_param_qu_tmax_30', 'ds_10_param_qu_tmax_30','ds_5_param_qu_tmax_30_Ko_5.4']\n",
    "# trial_folder_name_lst=['param_qu_tmax_30_Ko_3.8']\n",
    "trial_folder_name_lst=[ 'param_qu_tmax_30_Ko_3.8_diffCoef_0.0005','param_qu_tmax_30_Ko_3.8_diffCoef_0.00075']"
   ]
  },
  {
   "cell_type": "code",
   "execution_count": 16,
   "metadata": {
    "ExecuteTime": {
     "end_time": "2021-03-05T08:29:41.930630Z",
     "start_time": "2021-03-05T06:16:28.984598Z"
    }
   },
   "outputs": [
    {
     "name": "stdout",
     "output_type": "stream",
     "text": [
      "Frame 525: 2 trajectories present.\n",
      "reducing 159 unwrapped trajectories files to a single row describing the diffusion coefficient of spiral tips for that trial...\n",
      "Num. file names in list = 159.\n",
      "ValueError: No objects to concatenate\n",
      "\ttrial that failed: ic018.21_traj_sr_600_mem_0_unwrap.csv\n",
      "ValueError: No objects to concatenate\n",
      "\ttrial that failed: ic002.23_traj_sr_600_mem_0_unwrap.csv\n",
      "saved figure in \n",
      "\t/home/timothytyree/Documents/GitHub/care/notebooks/Data/initial-conditions-suite-3-LR/param_qu_tmax_30_Ko_3.8_diffCoef_0.0005/msd/fig\n",
      "saved figure in \n",
      "\t/home/timothytyree/Documents/GitHub/care/notebooks/Data/initial-conditions-suite-3-LR/param_qu_tmax_30_Ko_3.8_diffCoef_0.0005/msd/fig\n",
      "saved figure in \n",
      "\t/home/timothytyree/Documents/GitHub/care/notebooks/Data/initial-conditions-suite-3-LR/param_qu_tmax_30_Ko_3.8_diffCoef_0.0005/msd/fig\n",
      "generating diffcoeff_figures for param_qu_tmax_30_Ko_3.8_diffCoef_0.0005\n",
      "\tnum. trials that didn't show a tip lasing longer than 0ms is 0, and that didn't show am Rsquared of at least 0.0 is 9\n",
      "saved diffcoeff_summary to /home/timothytyree/Documents/GitHub/care/notebooks/Data/initial-conditions-suite-3-LR/param_qu_tmax_30_Ko_3.8_diffCoef_0.0005/msd\n",
      "the total number of trials considered in summary is 156\n",
      "beginning diffusion analysis of param_qu_tmax_30_Ko_3.8_diffCoef_0.00075...\n",
      "param_qu_tmax_30_Ko_3.8_diffCoef_0.00075 contains 159 tip logs\n",
      "the total number of trials recorded is 159\n",
      "reducing 159 unwrapped trajectories files to a single row describing the diffusion coefficient of spiral tips for that trial...\n",
      "generating diffcoeff_figures for param_qu_tmax_30_Ko_3.8_diffCoef_0.0005\n",
      "\tnum. trials that didn't show a tip lasing longer than 150ms is 0, and that didn't show am Rsquared of at least 0.0 is 9\n",
      "saved diffcoeff_summary to \n",
      "the total number of trials considered in summary is 156\n",
      "generating diffcoeff_figures for param_qu_tmax_30_Ko_3.8_diffCoef_0.00075\n",
      "\tnum. trials that didn't show a tip lasing longer than 150ms is 0, and that didn't show am Rsquared of at least 0.0 is 4\n",
      "saved diffcoeff_summary to \n",
      "the total number of trials considered in summary is 158\n",
      "retval is ['diffcoeff_summary_diffcoeff_emsd_longest_by_trial_tips_ntips_1_Tmin_0.0_Tmax_0.5.csv', 'diffcoeff_summary_diffcoeff_emsd_longest_by_trial_tips_ntips_1_Tmin_0.0_Tmax_0.5.csv']\n"
     ]
    }
   ],
   "source": [
    "retval= diffcoeff_table_gener(ic_suite_fn=ic_suite_fn,trial_folder_name_lst=trial_folder_name_lst,\n",
    "                              dict_kwargs_trial=dict_kwargs_trial,L=200,\n",
    "                              npartitions=9, use_cache_1=True, R2_thresh=0.0,duration_thresh=.0, tau_min=0.,\n",
    "                             sr=600,mem=0,DS=0.025)#width=200,height=200\n",
    "beep(2)\n",
    "print(f\"retval is {retval}\")"
   ]
  },
  {
   "cell_type": "code",
   "execution_count": null,
   "metadata": {
    "ExecuteTime": {
     "end_time": "2021-03-02T20:41:31.797850Z",
     "start_time": "2021-03-02T20:41:31.735Z"
    }
   },
   "outputs": [],
   "source": [
    "#add any custom changes to instances of the analysis pipeline\n",
    "# dict_kwargs_trial['ds_5_param_set_3']['duration_thresh']=.35\n",
    "# # other parameters of potential interest\n",
    "# tau_min=.15, n_tips=1,DT=1., \n",
    "\n",
    "# diffcoeff_summary_fn= gen_diffcoeff_summary(trial_folder_name,ic_suite_fn,**kwargs_trial)"
   ]
  },
  {
   "cell_type": "code",
   "execution_count": 13,
   "metadata": {
    "ExecuteTime": {
     "end_time": "2021-03-02T20:24:24.012938Z",
     "start_time": "2021-03-02T20:24:23.993680Z"
    }
   },
   "outputs": [
    {
     "ename": "NameError",
     "evalue": "name 'save_folder' is not defined",
     "output_type": "error",
     "traceback": [
      "\u001b[0;31m---------------------------------------------------------------------------\u001b[0m",
      "\u001b[0;31mNameError\u001b[0m                                 Traceback (most recent call last)",
      "\u001b[0;32m<ipython-input-13-e4127b24d799>\u001b[0m in \u001b[0;36m<module>\u001b[0;34m\u001b[0m\n\u001b[1;32m      1\u001b[0m \u001b[0;31m#bare combine diffcoeff_summaries\u001b[0m\u001b[0;34m\u001b[0m\u001b[0;34m\u001b[0m\u001b[0;34m\u001b[0m\u001b[0m\n\u001b[1;32m      2\u001b[0m \u001b[0;31m# os.chdir(os.path.dirname(emsd_fn))\u001b[0m\u001b[0;34m\u001b[0m\u001b[0;34m\u001b[0m\u001b[0;34m\u001b[0m\u001b[0m\n\u001b[0;32m----> 3\u001b[0;31m \u001b[0mdir_out\u001b[0m\u001b[0;34m=\u001b[0m\u001b[0mos\u001b[0m\u001b[0;34m.\u001b[0m\u001b[0mpath\u001b[0m\u001b[0;34m.\u001b[0m\u001b[0mjoin\u001b[0m\u001b[0;34m(\u001b[0m\u001b[0msave_folder\u001b[0m\u001b[0;34m,\u001b[0m\u001b[0;34m\"diffcoeff_summary_\"\u001b[0m\u001b[0;34m+\u001b[0m\u001b[0mos\u001b[0m\u001b[0;34m.\u001b[0m\u001b[0mpath\u001b[0m\u001b[0;34m.\u001b[0m\u001b[0mbasename\u001b[0m\u001b[0;34m(\u001b[0m\u001b[0memsd_fn\u001b[0m\u001b[0;34m)\u001b[0m\u001b[0;34m)\u001b[0m\u001b[0;34m\u001b[0m\u001b[0;34m\u001b[0m\u001b[0m\n\u001b[0m\u001b[1;32m      4\u001b[0m \u001b[0;31m# if not use_cache or not os.path.exists(dir_out):\u001b[0m\u001b[0;34m\u001b[0m\u001b[0;34m\u001b[0m\u001b[0;34m\u001b[0m\u001b[0m\n\u001b[1;32m      5\u001b[0m dir_out = dag_a_postprocess(emsd_fn=emsd_fn,\n",
      "\u001b[0;31mNameError\u001b[0m: name 'save_folder' is not defined"
     ]
    }
   ],
   "source": [
    "#bare combine diffcoeff_summaries\n",
    "# os.chdir(os.path.dirname(emsd_fn))\n",
    "dir_out=os.path.join(save_folder,\"diffcoeff_summary_\"+os.path.basename(emsd_fn))\n",
    "# if not use_cache or not os.path.exists(dir_out):\n",
    "dir_out = dag_a_postprocess(emsd_fn=emsd_fn,\n",
    "                        trial_folder_name=trial_folder_name,\n",
    "                        dir_out=dir_out,**kwargs)"
   ]
  },
  {
   "cell_type": "markdown",
   "metadata": {
    "heading_collapsed": true
   },
   "source": [
    "# use functions from care_worker to track spiral tips"
   ]
  },
  {
   "cell_type": "code",
   "execution_count": 31,
   "metadata": {
    "ExecuteTime": {
     "end_time": "2021-02-11T23:28:41.750622Z",
     "start_time": "2021-02-11T23:28:23.235333Z"
    },
    "hidden": true
   },
   "outputs": [
    {
     "name": "stdout",
     "output_type": "stream",
     "text": [
      "File: /home/timothytyree/Documents/GitHub/care/notebooks/Data/initial-conditions-lr-300x300/param_qu_tmax_30/Log/ic300x300.0.2_log.csv\n"
     ]
    },
    {
     "ename": "TypeError",
     "evalue": "generate_track_tips_pbc() missing 4 required positional arguments: 'mem', 'sr', 'width', and 'height'",
     "output_type": "error",
     "traceback": [
      "\u001b[0;31m---------------------------------------------------------------------------\u001b[0m",
      "\u001b[0;31mTypeError\u001b[0m                                 Traceback (most recent call last)",
      "\u001b[0;32m<ipython-input-31-b682f8d46a8d>\u001b[0m in \u001b[0;36m<module>\u001b[0;34m\u001b[0m\n\u001b[1;32m      1\u001b[0m \u001b[0minput_file_name\u001b[0m \u001b[0;34m=\u001b[0m \u001b[0msearch_for_file\u001b[0m\u001b[0;34m(\u001b[0m\u001b[0;34m)\u001b[0m\u001b[0;34m\u001b[0m\u001b[0;34m\u001b[0m\u001b[0m\n\u001b[1;32m      2\u001b[0m \u001b[0;31m# \"/home/timothytyree/Documents/GitHub/care/notebooks/Data/initial-conditions-suite-2/ds_5_param_set_8_fastkernel_V_0.4_archive/Log/ic_200x200.001.11_log.csv\"\u001b[0m\u001b[0;34m\u001b[0m\u001b[0;34m\u001b[0m\u001b[0;34m\u001b[0m\u001b[0m\n\u001b[0;32m----> 3\u001b[0;31m \u001b[0moutput_file_name\u001b[0m \u001b[0;34m=\u001b[0m \u001b[0mpreprocess_log\u001b[0m\u001b[0;34m(\u001b[0m\u001b[0minput_file_name\u001b[0m\u001b[0;34m)\u001b[0m\u001b[0;34m\u001b[0m\u001b[0;34m\u001b[0m\u001b[0m\n\u001b[0m\u001b[1;32m      4\u001b[0m \u001b[0;34m\u001b[0m\u001b[0m\n\u001b[1;32m      5\u001b[0m \u001b[0;34m\u001b[0m\u001b[0m\n",
      "\u001b[0;32m~/Documents/GitHub/care/notebooks/lib/routines/compute_msd.py\u001b[0m in \u001b[0;36mpreprocess_log\u001b[0;34m(input_file_name)\u001b[0m\n\u001b[1;32m    105\u001b[0m     \u001b[0;31m#track tips for given input file\u001b[0m\u001b[0;34m\u001b[0m\u001b[0;34m\u001b[0m\u001b[0;34m\u001b[0m\u001b[0m\n\u001b[1;32m    106\u001b[0m \u001b[0;34m\u001b[0m\u001b[0m\n\u001b[0;32m--> 107\u001b[0;31m     \u001b[0moutput_file_name\u001b[0m \u001b[0;34m=\u001b[0m \u001b[0mgenerate_track_tips_pbc\u001b[0m\u001b[0;34m(\u001b[0m\u001b[0minput_file_name\u001b[0m\u001b[0;34m,\u001b[0m \u001b[0msave_fn\u001b[0m\u001b[0;34m=\u001b[0m\u001b[0;32mNone\u001b[0m\u001b[0;34m)\u001b[0m\u001b[0;34m\u001b[0m\u001b[0;34m\u001b[0m\u001b[0m\n\u001b[0m\u001b[1;32m    108\u001b[0m     \u001b[0;32mreturn\u001b[0m \u001b[0moutput_file_name\u001b[0m\u001b[0;34m\u001b[0m\u001b[0;34m\u001b[0m\u001b[0m\n\u001b[1;32m    109\u001b[0m \u001b[0;34m\u001b[0m\u001b[0m\n",
      "\u001b[0;31mTypeError\u001b[0m: generate_track_tips_pbc() missing 4 required positional arguments: 'mem', 'sr', 'width', and 'height'"
     ]
    }
   ],
   "source": [
    "input_file_name = search_for_file()\n",
    "# \"/home/timothytyree/Documents/GitHub/care/notebooks/Data/initial-conditions-suite-2/ds_5_param_set_8_fastkernel_V_0.4_archive/Log/ic_200x200.001.11_log.csv\"\n",
    "output_file_name = preprocess_log(input_file_name)\n",
    "\n",
    "\n",
    "#select the longest n trajectories\n",
    "n_tips = 1#15\n",
    "s = df.groupby('particle').t.count()\n",
    "s = s.sort_values(ascending=False)\n",
    "pid_longest_lst = list(s.index.values[:n_tips])\n",
    "# d = df[df.particle==pid_longest]\n",
    "# print(pid_longest)\n",
    "# print(s.head())\n",
    "# pid_longest_lst = s.head(n_tips).values\n",
    "df_traj = pd.concat([df[df.particle==pid] for pid in pid_longest_lst])\n",
    "assert ( (np.array(sorted(set(df_traj['particle'].values)))==np.array(sorted(pid_longest_lst))).all())\n",
    "\n"
   ]
  },
  {
   "cell_type": "code",
   "execution_count": null,
   "metadata": {
    "ExecuteTime": {
     "end_time": "2021-01-26T20:40:28.643495Z",
     "start_time": "2021-01-26T20:40:28.631745Z"
    },
    "hidden": true
   },
   "outputs": [],
   "source": []
  },
  {
   "cell_type": "markdown",
   "metadata": {},
   "source": [
    "# define function that takes a folder of care_worker output and returns a df where each trial is represented no more than 1 time\n"
   ]
  },
  {
   "cell_type": "code",
   "execution_count": 6,
   "metadata": {
    "ExecuteTime": {
     "end_time": "2021-02-18T02:16:18.244450Z",
     "start_time": "2021-02-18T02:15:41.994414Z"
    }
   },
   "outputs": [],
   "source": [
    "file=search_for_file()"
   ]
  },
  {
   "cell_type": "code",
   "execution_count": 9,
   "metadata": {
    "ExecuteTime": {
     "end_time": "2021-02-25T22:03:04.741504Z",
     "start_time": "2021-02-25T22:03:04.675091Z"
    }
   },
   "outputs": [],
   "source": [
    "# log_folder=\"/Users/timothytyree/Documents/GitHub/care_worker/python/Log\"\n",
    "log_folder='/home/timothytyree/Documents/GitHub/care_worker/python/osg_output/Log'\n",
    "os.chdir(log_folder)"
   ]
  },
  {
   "cell_type": "code",
   "execution_count": 10,
   "metadata": {
    "ExecuteTime": {
     "end_time": "2021-02-25T22:03:05.453249Z",
     "start_time": "2021-02-25T22:03:05.387757Z"
    }
   },
   "outputs": [
    {
     "name": "stdout",
     "output_type": "stream",
     "text": [
      "the number of output files in folder is 0.\n"
     ]
    }
   ],
   "source": [
    "input_fn_lst=[os.path.abspath(fn) for fn in os.listdir() if fn.find('job.out.')!=-1]\n",
    "print(f\"the number of output files in folder is {len(input_fn_lst)}.\")"
   ]
  },
  {
   "cell_type": "code",
   "execution_count": 11,
   "metadata": {
    "ExecuteTime": {
     "end_time": "2021-02-25T22:03:06.327675Z",
     "start_time": "2021-02-25T22:03:06.271754Z"
    }
   },
   "outputs": [],
   "source": [
    "\n",
    "# df.head()"
   ]
  },
  {
   "cell_type": "code",
   "execution_count": 11,
   "metadata": {
    "ExecuteTime": {
     "end_time": "2021-02-18T02:18:47.414843Z",
     "start_time": "2021-02-18T02:18:47.368614Z"
    }
   },
   "outputs": [],
   "source": [
    "# def read_inputs(line,trgt_lst):\n",
    "#     input_lst=[]\n",
    "#     for trgt in trgt_lst:\n",
    "#         i=line.find(trgt)\n",
    "#         l=len(trgt)\n",
    "#         val=eval(line[i+l:].split(',')[0])\n",
    "#         input_lst.append(val)\n",
    "#     return input_lst\n",
    "\n",
    "import re\n",
    "def parse_inputs(line):\n",
    "    result_keys = re.findall(r'\\S+=', line)\n",
    "    result_values = re.findall(r'=\\d+', line) \n",
    "    if len(result_values)==0:\n",
    "        pass\n",
    "        #     return None\n",
    "    input_dict={}\n",
    "    for k,v in zip(result_keys,result_values):\n",
    "        key=k.split('=')[0].split(',')[-1]\n",
    "        value=eval(v.split('=')[-1])\n",
    "        input_dict[key]=value\n",
    "    return input_dict\n",
    "\n",
    "def next_line(f):\n",
    "    yield f.readline()\n",
    "\n",
    "def parse_input_params(input_fn):\n",
    "    line_no=0\n",
    "    #read through until the outputs starts\n",
    "    with open(input_fn) as f:\n",
    "        for line in f:\n",
    "            line_no+=1\n",
    "            input_dict=parse_inputs(line)\n",
    "            if len(list(input_dict))>0: \n",
    "                found_output=True\n",
    "                return line_no, input_dict\n",
    "    return -1,{}\n"
   ]
  },
  {
   "cell_type": "code",
   "execution_count": 12,
   "metadata": {
    "ExecuteTime": {
     "end_time": "2021-02-18T02:18:48.392712Z",
     "start_time": "2021-02-18T02:18:48.364149Z"
    }
   },
   "outputs": [],
   "source": [
    "def parse_input_fn(input_fn):\n",
    "    printing=False\n",
    "    line_no, input_dict=parse_input_params(input_fn)\n",
    "    found_output=line_no!=-1\n",
    "    if found_output and printing:\n",
    "        print(f'the inputs found on line {line_no} were {input_dict}.')\n",
    "    try:\n",
    "        #         print(line_no)\n",
    "        df=pd.read_csv(input_fn,header=line_no+1,delim_whitespace=True).astype({'n':int})\n",
    "    except Exception:\n",
    "        #only 1 line found in file, input_fn, skip\n",
    "        return None\n",
    "    \n",
    "    df.drop(columns=['index'],inplace=True)\n",
    "    df\n",
    "    #reset frame number to start at zero\n",
    "    df['frame']=df['frame']-df['frame'].values[0]\n",
    "    #updating df...\n",
    "    for k in input_dict.keys():\n",
    "        df[k]=input_dict[k]\n",
    "\n",
    "    index_labels=[\"L\",\"txt_id1\",\"txt_id2\"]\n",
    "    column_labels=[\"frame\",\"x\",\"y\",\"particle\",\"n\",\"grad_ux\",\"grad_uy\",\"grad_vx\",\"grad_vy\"]\n",
    "    df.set_index(keys=index_labels,inplace=True)#, columns=column_labels)\n",
    "    # df=df[column_labels]\n",
    "    return df"
   ]
  },
  {
   "cell_type": "code",
   "execution_count": 13,
   "metadata": {
    "ExecuteTime": {
     "end_time": "2021-02-18T02:18:49.004016Z",
     "start_time": "2021-02-18T02:18:48.976580Z"
    }
   },
   "outputs": [],
   "source": [
    "def return_df_updated_with_input_folder(input_fn_lst):#,df=None):\n",
    "    \"\"\"    returns df with this schema,\n",
    "    multindex L|txt_id1|txt_id2|frame|particle\n",
    "    and columns frame,x,y,n,t,grad_ux,grad_uy,grad_vx,grad_vy,particle\n",
    "    input_fn='/Users/timothytyree/Documents/GitHub/care_worker/python/Log/job.out.8051248.703'\n",
    "    \"\"\"\n",
    "    K12_index_set={}\n",
    "    df_lst=[]\n",
    "#     if df is None:\n",
    "#         del df\n",
    "    for input_fn in input_fn_lst:\n",
    "        retval= parse_input_fn(input_fn)\n",
    "        # df.unstack(1).unstack(1).head()\n",
    "        if retval is not None:\n",
    "            # TODO(optional for faster runtime): update a df_out only if it does not yet contain input_dict\n",
    "            # TODO(optional test): assert that whenever an output is repeated, \n",
    "            # that their results are equal (to floating point precision)\n",
    "            =retval.index.values[0][:3]\n",
    "            src=\"{}_{}_{}\".format(*K12_index)\n",
    "            retval['src']=src\n",
    "            #count if K12_index exists in the set of current index values\n",
    "            try:\n",
    "                K12_index_set[K12_index]+=1\n",
    "            except KeyError:\n",
    "                #then add K12_index to the set\n",
    "                K12_index_set[K12_index]=0\n",
    "                # K12_index_set.update({K12_index:0})\n",
    "                df_lst.append(retval)\n",
    "                print(f\"the src={src} spiral tip lasted {retval.t.max()-retval.t.min()} ms.\")\n",
    "    print(K12_index_set)\n",
    "    return df_lst,K12_index_set"
   ]
  },
  {
   "cell_type": "code",
   "execution_count": 14,
   "metadata": {
    "ExecuteTime": {
     "end_time": "2021-02-18T02:19:13.197486Z",
     "start_time": "2021-02-18T02:19:01.053317Z"
    }
   },
   "outputs": [
    {
     "name": "stdout",
     "output_type": "stream",
     "text": [
      "the src=239_2_0 spiral tip lasted 2074.0 ms.\n",
      "the src=392_2_4 spiral tip lasted 5052.0 ms.\n",
      "the src=267_3_14 spiral tip lasted 4314.0 ms.\n",
      "the src=371_3_1 spiral tip lasted 3516.0 ms.\n",
      "the src=371_1_5 spiral tip lasted 6032.0 ms.\n",
      "the src=307_3_7 spiral tip lasted 3636.0 ms.\n",
      "the src=214_1_37 spiral tip lasted 1660.0 ms.\n",
      "the src=311_2_14 spiral tip lasted 2912.0 ms.\n",
      "the src=434_2_3 spiral tip lasted 4854.0 ms.\n",
      "the src=227_3_19 spiral tip lasted 3740.0 ms.\n",
      "the src=362_3_6 spiral tip lasted 4890.0 ms.\n",
      "the src=291_3_22 spiral tip lasted 3200.0 ms.\n",
      "the src=278_1_12 spiral tip lasted 3262.0 ms.\n",
      "the src=309_3_1 spiral tip lasted 4062.0 ms.\n",
      "the src=498_1_3 spiral tip lasted 4348.0 ms.\n",
      "the src=297_1_17 spiral tip lasted 2284.0 ms.\n",
      "the src=234_3_15 spiral tip lasted 1412.0 ms.\n",
      "the src=228_2_23 spiral tip lasted 1442.0 ms.\n",
      "the src=225_3_33 spiral tip lasted 2704.0 ms.\n",
      "the src=353_0_6 spiral tip lasted 6794.0 ms.\n",
      "the src=430_2_5 spiral tip lasted 5052.0 ms.\n",
      "the src=406_2_0 spiral tip lasted 4776.0 ms.\n",
      "the src=211_2_31 spiral tip lasted 120.0 ms.\n",
      "the src=331_2_10 spiral tip lasted 4192.0 ms.\n",
      "the src=255_0_10 spiral tip lasted 6766.0 ms.\n",
      "the src=386_0_3 spiral tip lasted 3868.0 ms.\n",
      "the src=458_1_0 spiral tip lasted 3750.0 ms.\n",
      "the src=342_2_13 spiral tip lasted 3702.0 ms.\n",
      "the src=288_3_16 spiral tip lasted 1778.0 ms.\n",
      "the src=293_3_2 spiral tip lasted 2288.0 ms.\n",
      "the src=261_0_20 spiral tip lasted 3356.0 ms.\n",
      "the src=295_0_11 spiral tip lasted 1482.0 ms.\n",
      "the src=393_2_0 spiral tip lasted 4094.0 ms.\n",
      "the src=416_1_0 spiral tip lasted 3858.0 ms.\n",
      "the src=477_3_2 spiral tip lasted 6412.0 ms.\n",
      "the src=423_3_6 spiral tip lasted 6570.0 ms.\n",
      "the src=234_1_4 spiral tip lasted 70.0 ms.\n",
      "the src=354_2_1 spiral tip lasted 4634.0 ms.\n",
      "the src=237_1_8 spiral tip lasted 82.0 ms.\n",
      "the src=412_0_8 spiral tip lasted 4004.0 ms.\n",
      "the src=458_3_1 spiral tip lasted 3862.0 ms.\n",
      "the src=214_2_36 spiral tip lasted 796.0 ms.\n",
      "the src=336_1_14 spiral tip lasted 1464.0 ms.\n",
      "the src=332_1_15 spiral tip lasted 4168.0 ms.\n",
      "the src=310_0_6 spiral tip lasted 1188.0 ms.\n",
      "the src=205_2_20 spiral tip lasted 3524.0 ms.\n",
      "the src=401_1_4 spiral tip lasted 6344.0 ms.\n",
      "the src=378_3_0 spiral tip lasted 6752.0 ms.\n",
      "the src=428_0_3 spiral tip lasted 4046.0 ms.\n",
      "the src=408_2_4 spiral tip lasted 5110.0 ms.\n",
      "the src=347_3_10 spiral tip lasted 4836.0 ms.\n",
      "the src=347_0_0 spiral tip lasted 3178.0 ms.\n",
      "the src=233_2_6 spiral tip lasted 2440.0 ms.\n",
      "the src=386_1_7 spiral tip lasted 4282.0 ms.\n",
      "the src=362_1_4 spiral tip lasted 3296.0 ms.\n",
      "the src=328_2_15 spiral tip lasted 272.0 ms.\n",
      "the src=314_1_13 spiral tip lasted 3538.0 ms.\n",
      "the src=404_1_7 spiral tip lasted 4732.0 ms.\n",
      "the src=223_2_46 spiral tip lasted 3540.0 ms.\n",
      "the src=209_1_46 spiral tip lasted 2374.0 ms.\n",
      "the src=367_0_6 spiral tip lasted 4046.0 ms.\n",
      "the src=463_1_2 spiral tip lasted 5592.0 ms.\n",
      "the src=204_2_7 spiral tip lasted 1884.0 ms.\n",
      "the src=403_0_8 spiral tip lasted 4558.0 ms.\n",
      "the src=344_3_4 spiral tip lasted 586.0 ms.\n",
      "the src=329_3_1 spiral tip lasted 4846.0 ms.\n",
      "the src=495_1_0 spiral tip lasted 4988.0 ms.\n",
      "the src=362_3_2 spiral tip lasted 3232.0 ms.\n",
      "the src=222_1_9 spiral tip lasted 82.0 ms.\n",
      "the src=454_1_2 spiral tip lasted 5524.0 ms.\n",
      "the src=249_1_7 spiral tip lasted 550.0 ms.\n",
      "the src=265_0_24 spiral tip lasted 3998.0 ms.\n",
      "the src=400_0_4 spiral tip lasted 5466.0 ms.\n",
      "the src=431_1_3 spiral tip lasted 3694.0 ms.\n",
      "the src=398_0_7 spiral tip lasted 3586.0 ms.\n",
      "the src=385_0_3 spiral tip lasted 3602.0 ms.\n",
      "the src=254_1_13 spiral tip lasted 2838.0 ms.\n",
      "the src=208_0_24 spiral tip lasted 146.0 ms.\n",
      "the src=224_2_44 spiral tip lasted 6224.0 ms.\n",
      "the src=448_3_1 spiral tip lasted 5096.0 ms.\n",
      "the src=454_1_0 spiral tip lasted 4726.0 ms.\n",
      "the src=301_1_3 spiral tip lasted 166.0 ms.\n",
      "the src=324_0_7 spiral tip lasted 4004.0 ms.\n",
      "the src=430_0_2 spiral tip lasted 4846.0 ms.\n",
      "the src=265_3_21 spiral tip lasted 3794.0 ms.\n",
      "the src=397_1_3 spiral tip lasted 2550.0 ms.\n",
      "the src=204_0_6 spiral tip lasted 1278.0 ms.\n",
      "the src=485_3_2 spiral tip lasted 5206.0 ms.\n",
      "the src=457_0_0 spiral tip lasted 4976.0 ms.\n",
      "the src=374_3_2 spiral tip lasted 3684.0 ms.\n",
      "the src=286_2_10 spiral tip lasted 4844.0 ms.\n",
      "the src=378_0_7 spiral tip lasted 1934.0 ms.\n",
      "the src=471_1_2 spiral tip lasted 5254.0 ms.\n",
      "the src=317_1_15 spiral tip lasted 4054.0 ms.\n",
      "the src=377_0_4 spiral tip lasted 3926.0 ms.\n",
      "the src=293_2_3 spiral tip lasted 674.0 ms.\n",
      "the src=489_0_3 spiral tip lasted 4256.0 ms.\n",
      "the src=201_1_5 spiral tip lasted 74.0 ms.\n",
      "the src=342_3_2 spiral tip lasted 6652.0 ms.\n",
      "the src=324_0_9 spiral tip lasted 178.0 ms.\n",
      "the src=430_3_3 spiral tip lasted 5740.0 ms.\n",
      "the src=248_3_17 spiral tip lasted 2476.0 ms.\n",
      "the src=250_0_13 spiral tip lasted 2982.0 ms.\n",
      "the src=457_1_2 spiral tip lasted 4254.0 ms.\n",
      "the src=339_1_0 spiral tip lasted 4208.0 ms.\n",
      "the src=415_2_6 spiral tip lasted 4732.0 ms.\n",
      "the src=300_2_12 spiral tip lasted 3458.0 ms.\n",
      "the src=326_1_13 spiral tip lasted 4528.0 ms.\n",
      "the src=317_0_15 spiral tip lasted 3756.0 ms.\n",
      "the src=203_3_42 spiral tip lasted 1340.0 ms.\n",
      "the src=433_3_3 spiral tip lasted 6602.0 ms.\n",
      "the src=379_0_2 spiral tip lasted 5318.0 ms.\n",
      "the src=293_1_4 spiral tip lasted 3252.0 ms.\n",
      "the src=356_0_11 spiral tip lasted 4282.0 ms.\n",
      "the src=478_1_1 spiral tip lasted 5236.0 ms.\n",
      "the src=236_0_23 spiral tip lasted 928.0 ms.\n",
      "the src=442_1_4 spiral tip lasted 6730.0 ms.\n",
      "the src=238_1_24 spiral tip lasted 1574.0 ms.\n",
      "the src=259_1_2 spiral tip lasted 1420.0 ms.\n",
      "the src=393_2_8 spiral tip lasted 5886.0 ms.\n",
      "the src=223_0_4 spiral tip lasted 92.0 ms.\n",
      "the src=365_3_1 spiral tip lasted 4686.0 ms.\n",
      "the src=331_0_7 spiral tip lasted 4370.0 ms.\n",
      "the src=473_0_3 spiral tip lasted 5358.0 ms.\n",
      "the src=271_2_9 spiral tip lasted 1130.0 ms.\n",
      "the src=375_3_4 spiral tip lasted 6138.0 ms.\n",
      "the src=299_3_7 spiral tip lasted 1874.0 ms.\n",
      "the src=343_0_1 spiral tip lasted 4266.0 ms.\n",
      "the src=383_3_2 spiral tip lasted 4534.0 ms.\n",
      "the src=333_3_4 spiral tip lasted 2410.0 ms.\n",
      "the src=283_3_18 spiral tip lasted 4134.0 ms.\n",
      "the src=390_0_5 spiral tip lasted 4174.0 ms.\n",
      "the src=349_0_12 spiral tip lasted 3668.0 ms.\n",
      "the src=266_0_18 spiral tip lasted 966.0 ms.\n",
      "the src=314_2_14 spiral tip lasted 4606.0 ms.\n",
      "the src=202_2_13 spiral tip lasted 262.0 ms.\n",
      "the src=313_1_13 spiral tip lasted 1666.0 ms.\n",
      "the src=456_3_3 spiral tip lasted 4058.0 ms.\n",
      "the src=348_0_1 spiral tip lasted 3630.0 ms.\n",
      "the src=298_2_12 spiral tip lasted 3020.0 ms.\n",
      "the src=379_3_5 spiral tip lasted 4036.0 ms.\n",
      "the src=353_3_13 spiral tip lasted 4558.0 ms.\n",
      "the src=423_3_4 spiral tip lasted 6888.0 ms.\n",
      "the src=454_1_1 spiral tip lasted 5718.0 ms.\n",
      "the src=353_1_5 spiral tip lasted 5196.0 ms.\n",
      "the src=288_0_4 spiral tip lasted 3986.0 ms.\n",
      "the src=334_0_12 spiral tip lasted 4336.0 ms.\n",
      "the src=383_2_2 spiral tip lasted 5952.0 ms.\n",
      "the src=323_2_11 spiral tip lasted 5532.0 ms.\n",
      "the src=323_0_3 spiral tip lasted 5736.0 ms.\n",
      "the src=389_0_0 spiral tip lasted 4506.0 ms.\n",
      "the src=357_0_15 spiral tip lasted 3810.0 ms.\n",
      "the src=343_0_14 spiral tip lasted 5300.0 ms.\n",
      "the src=211_1_18 spiral tip lasted 426.0 ms.\n",
      "the src=222_0_45 spiral tip lasted 1306.0 ms.\n",
      "the src=410_3_1 spiral tip lasted 5184.0 ms.\n",
      "the src=357_0_11 spiral tip lasted 5066.0 ms.\n",
      "the src=324_1_5 spiral tip lasted 3664.0 ms.\n",
      "the src=463_1_1 spiral tip lasted 4044.0 ms.\n",
      "the src=360_0_14 spiral tip lasted 3888.0 ms.\n",
      "the src=413_2_5 spiral tip lasted 5332.0 ms.\n",
      "the src=273_2_23 spiral tip lasted 1836.0 ms.\n",
      "the src=425_2_8 spiral tip lasted 2270.0 ms.\n",
      "the src=413_2_8 spiral tip lasted 4030.0 ms.\n",
      "the src=256_0_21 spiral tip lasted 3344.0 ms.\n",
      "the src=368_0_6 spiral tip lasted 4340.0 ms.\n",
      "the src=384_3_8 spiral tip lasted 4276.0 ms.\n",
      "the src=255_2_15 spiral tip lasted 2858.0 ms.\n",
      "the src=444_3_3 spiral tip lasted 1204.0 ms.\n",
      "the src=210_0_26 spiral tip lasted 2058.0 ms.\n",
      "the src=420_2_1 spiral tip lasted 4630.0 ms.\n",
      "the src=382_1_1 spiral tip lasted 4158.0 ms.\n",
      "the src=259_2_8 spiral tip lasted 2872.0 ms.\n",
      "the src=282_1_20 spiral tip lasted 3276.0 ms.\n",
      "the src=250_1_26 spiral tip lasted 2566.0 ms.\n",
      "the src=393_3_0 spiral tip lasted 4120.0 ms.\n",
      "the src=450_3_5 spiral tip lasted 5582.0 ms.\n",
      "the src=250_0_35 spiral tip lasted 4706.0 ms.\n",
      "the src=310_3_7 spiral tip lasted 2842.0 ms.\n",
      "the src=242_0_31 spiral tip lasted 2924.0 ms.\n",
      "the src=430_1_0 spiral tip lasted 4896.0 ms.\n",
      "the src=315_2_10 spiral tip lasted 3828.0 ms.\n",
      "the src=209_2_16 spiral tip lasted 398.0 ms.\n",
      "the src=484_0_3 spiral tip lasted 4784.0 ms.\n",
      "the src=309_1_4 spiral tip lasted 3504.0 ms.\n",
      "the src=388_3_4 spiral tip lasted 4594.0 ms.\n",
      "the src=424_3_4 spiral tip lasted 3934.0 ms.\n"
     ]
    },
    {
     "name": "stdout",
     "output_type": "stream",
     "text": [
      "the src=429_0_3 spiral tip lasted 4764.0 ms.\n",
      "the src=375_0_1 spiral tip lasted 4900.0 ms.\n",
      "the src=296_1_15 spiral tip lasted 3648.0 ms.\n",
      "the src=364_0_4 spiral tip lasted 5528.0 ms.\n",
      "the src=239_3_19 spiral tip lasted 652.0 ms.\n",
      "the src=458_0_2 spiral tip lasted 7898.0 ms.\n",
      "the src=470_3_0 spiral tip lasted 4616.0 ms.\n",
      "the src=366_0_3 spiral tip lasted 5134.0 ms.\n",
      "the src=354_1_11 spiral tip lasted 572.0 ms.\n",
      "the src=403_1_6 spiral tip lasted 5790.0 ms.\n",
      "the src=292_1_6 spiral tip lasted 2688.0 ms.\n",
      "the src=223_3_47 spiral tip lasted 240.0 ms.\n",
      "the src=488_1_2 spiral tip lasted 4486.0 ms.\n",
      "the src=269_1_21 spiral tip lasted 1706.0 ms.\n",
      "the src=307_2_8 spiral tip lasted 2658.0 ms.\n",
      "the src=427_0_8 spiral tip lasted 3990.0 ms.\n",
      "the src=426_3_1 spiral tip lasted 3144.0 ms.\n",
      "the src=254_0_12 spiral tip lasted 1560.0 ms.\n",
      "the src=241_1_24 spiral tip lasted 3890.0 ms.\n",
      "the src=384_1_4 spiral tip lasted 3412.0 ms.\n",
      "the src=432_2_2 spiral tip lasted 4218.0 ms.\n",
      "the src=421_3_3 spiral tip lasted 4874.0 ms.\n",
      "the src=355_3_7 spiral tip lasted 3502.0 ms.\n",
      "the src=284_0_0 spiral tip lasted 3428.0 ms.\n",
      "the src=364_1_6 spiral tip lasted 4466.0 ms.\n",
      "the src=396_0_4 spiral tip lasted 3542.0 ms.\n",
      "the src=475_3_3 spiral tip lasted 4460.0 ms.\n",
      "the src=246_2_5 spiral tip lasted 1442.0 ms.\n",
      "the src=295_3_9 spiral tip lasted 4722.0 ms.\n",
      "the src=285_0_19 spiral tip lasted 5320.0 ms.\n",
      "the src=497_1_3 spiral tip lasted 6804.0 ms.\n",
      "the src=291_2_16 spiral tip lasted 4314.0 ms.\n",
      "the src=464_0_1 spiral tip lasted 3806.0 ms.\n",
      "the src=439_1_1 spiral tip lasted 4700.0 ms.\n",
      "the src=440_1_8 spiral tip lasted 5132.0 ms.\n",
      "the src=465_2_3 spiral tip lasted 3752.0 ms.\n",
      "the src=459_2_2 spiral tip lasted 3684.0 ms.\n",
      "the src=268_2_21 spiral tip lasted 2048.0 ms.\n",
      "the src=453_2_0 spiral tip lasted 4500.0 ms.\n",
      "the src=408_2_2 spiral tip lasted 3894.0 ms.\n",
      "the src=301_1_9 spiral tip lasted 2520.0 ms.\n",
      "the src=378_0_1 spiral tip lasted 3562.0 ms.\n",
      "the src=331_1_10 spiral tip lasted 3764.0 ms.\n",
      "the src=418_2_2 spiral tip lasted 4708.0 ms.\n",
      "the src=354_2_5 spiral tip lasted 3326.0 ms.\n",
      "the src=345_0_15 spiral tip lasted 4424.0 ms.\n",
      "the src=461_2_0 spiral tip lasted 6056.0 ms.\n",
      "the src=463_0_3 spiral tip lasted 4278.0 ms.\n",
      "the src=236_1_6 spiral tip lasted 2170.0 ms.\n",
      "the src=474_1_1 spiral tip lasted 5402.0 ms.\n",
      "the src=436_2_1 spiral tip lasted 5070.0 ms.\n",
      "the src=210_2_18 spiral tip lasted 728.0 ms.\n",
      "the src=440_0_0 spiral tip lasted 3774.0 ms.\n",
      "the src=384_2_1 spiral tip lasted 3920.0 ms.\n",
      "the src=478_0_0 spiral tip lasted 5542.0 ms.\n",
      "the src=374_1_1 spiral tip lasted 3474.0 ms.\n",
      "the src=220_3_15 spiral tip lasted 1310.0 ms.\n",
      "the src=445_3_4 spiral tip lasted 5592.0 ms.\n",
      "the src=222_3_30 spiral tip lasted 1826.0 ms.\n",
      "the src=330_3_15 spiral tip lasted 6094.0 ms.\n",
      "the src=257_3_17 spiral tip lasted 1234.0 ms.\n",
      "the src=324_2_10 spiral tip lasted 4120.0 ms.\n",
      "the src=294_3_0 spiral tip lasted 4096.0 ms.\n",
      "the src=289_0_11 spiral tip lasted 734.0 ms.\n",
      "the src=247_2_26 spiral tip lasted 2436.0 ms.\n",
      "the src=377_2_4 spiral tip lasted 4662.0 ms.\n",
      "the src=429_2_8 spiral tip lasted 4870.0 ms.\n",
      "the src=270_0_18 spiral tip lasted 4824.0 ms.\n",
      "the src=361_3_7 spiral tip lasted 4732.0 ms.\n",
      "the src=260_3_2 spiral tip lasted 272.0 ms.\n",
      "the src=355_3_13 spiral tip lasted 8134.0 ms.\n",
      "the src=380_2_1 spiral tip lasted 3346.0 ms.\n",
      "the src=425_3_5 spiral tip lasted 4092.0 ms.\n",
      "the src=449_0_4 spiral tip lasted 5266.0 ms.\n",
      "the src=244_0_30 spiral tip lasted 1462.0 ms.\n",
      "the src=245_1_28 spiral tip lasted 4884.0 ms.\n",
      "the src=457_3_3 spiral tip lasted 4722.0 ms.\n",
      "the src=305_2_8 spiral tip lasted 3276.0 ms.\n",
      "the src=474_1_2 spiral tip lasted 4680.0 ms.\n",
      "the src=443_3_5 spiral tip lasted 5654.0 ms.\n",
      "the src=345_3_6 spiral tip lasted 4272.0 ms.\n",
      "the src=320_2_5 spiral tip lasted 1338.0 ms.\n",
      "the src=384_0_7 spiral tip lasted 4534.0 ms.\n",
      "the src=359_2_15 spiral tip lasted 5850.0 ms.\n",
      "the src=351_0_10 spiral tip lasted 5568.0 ms.\n",
      "the src=308_0_3 spiral tip lasted 5274.0 ms.\n",
      "the src=438_2_2 spiral tip lasted 3646.0 ms.\n",
      "the src=332_0_3 spiral tip lasted 3188.0 ms.\n",
      "the src=289_2_17 spiral tip lasted 120.0 ms.\n",
      "the src=446_1_4 spiral tip lasted 4262.0 ms.\n",
      "the src=422_3_3 spiral tip lasted 4018.0 ms.\n",
      "the src=333_3_2 spiral tip lasted 4306.0 ms.\n",
      "the src=260_2_23 spiral tip lasted 252.0 ms.\n",
      "the src=351_2_5 spiral tip lasted 5098.0 ms.\n",
      "the src=337_1_4 spiral tip lasted 1640.0 ms.\n",
      "the src=226_1_27 spiral tip lasted 2856.0 ms.\n",
      "the src=430_0_7 spiral tip lasted 4584.0 ms.\n",
      "the src=322_0_3 spiral tip lasted 6614.0 ms.\n",
      "the src=300_2_6 spiral tip lasted 4648.0 ms.\n",
      "the src=385_2_8 spiral tip lasted 4770.0 ms.\n",
      "the src=258_2_5 spiral tip lasted 624.0 ms.\n",
      "the src=279_1_3 spiral tip lasted 134.0 ms.\n",
      "the src=446_3_8 spiral tip lasted 4986.0 ms.\n",
      "the src=428_2_7 spiral tip lasted 4224.0 ms.\n",
      "the src=370_2_0 spiral tip lasted 4350.0 ms.\n",
      "the src=479_1_3 spiral tip lasted 4148.0 ms.\n",
      "the src=385_3_3 spiral tip lasted 4066.0 ms.\n",
      "the src=380_1_0 spiral tip lasted 3644.0 ms.\n",
      "the src=443_2_8 spiral tip lasted 4056.0 ms.\n",
      "the src=369_0_4 spiral tip lasted 5334.0 ms.\n",
      "the src=316_3_8 spiral tip lasted 4756.0 ms.\n",
      "the src=396_3_8 spiral tip lasted 4892.0 ms.\n",
      "the src=328_1_9 spiral tip lasted 3932.0 ms.\n",
      "the src=471_2_2 spiral tip lasted 6102.0 ms.\n",
      "the src=365_1_0 spiral tip lasted 4158.0 ms.\n",
      "the src=354_3_8 spiral tip lasted 4826.0 ms.\n",
      "the src=420_2_6 spiral tip lasted 5330.0 ms.\n",
      "the src=401_3_1 spiral tip lasted 5620.0 ms.\n",
      "the src=425_0_5 spiral tip lasted 7946.0 ms.\n",
      "the src=256_0_9 spiral tip lasted 2292.0 ms.\n",
      "the src=400_1_3 spiral tip lasted 3724.0 ms.\n",
      "the src=396_1_0 spiral tip lasted 4208.0 ms.\n",
      "the src=300_3_20 spiral tip lasted 3906.0 ms.\n",
      "the src=221_3_40 spiral tip lasted 1698.0 ms.\n",
      "the src=294_0_19 spiral tip lasted 1390.0 ms.\n",
      "the src=357_3_2 spiral tip lasted 3062.0 ms.\n",
      "the src=211_0_6 spiral tip lasted 2598.0 ms.\n",
      "the src=331_1_0 spiral tip lasted 2958.0 ms.\n",
      "the src=231_3_24 spiral tip lasted 592.0 ms.\n",
      "the src=367_3_5 spiral tip lasted 5052.0 ms.\n",
      "the src=284_0_7 spiral tip lasted 2270.0 ms.\n",
      "the src=367_1_7 spiral tip lasted 3940.0 ms.\n",
      "the src=359_2_7 spiral tip lasted 6218.0 ms.\n",
      "the src=428_0_0 spiral tip lasted 6378.0 ms.\n",
      "the src=445_0_2 spiral tip lasted 4016.0 ms.\n",
      "the src=373_2_6 spiral tip lasted 4634.0 ms.\n",
      "the src=348_3_6 spiral tip lasted 2376.0 ms.\n",
      "the src=238_3_22 spiral tip lasted 290.0 ms.\n",
      "the src=338_0_8 spiral tip lasted 3868.0 ms.\n",
      "the src=379_1_7 spiral tip lasted 4136.0 ms.\n",
      "the src=361_2_5 spiral tip lasted 5248.0 ms.\n",
      "the src=201_3_7 spiral tip lasted 30.0 ms.\n",
      "the src=309_0_5 spiral tip lasted 5188.0 ms.\n",
      "the src=304_0_6 spiral tip lasted 3514.0 ms.\n",
      "the src=393_0_7 spiral tip lasted 4340.0 ms.\n",
      "the src=352_0_12 spiral tip lasted 4632.0 ms.\n",
      "the src=289_2_9 spiral tip lasted 4676.0 ms.\n",
      "the src=415_2_3 spiral tip lasted 3322.0 ms.\n",
      "the src=288_2_4 spiral tip lasted 3968.0 ms.\n",
      "the src=376_0_4 spiral tip lasted 5202.0 ms.\n",
      "the src=357_1_9 spiral tip lasted 5702.0 ms.\n",
      "the src=261_2_5 spiral tip lasted 1884.0 ms.\n",
      "the src=347_0_1 spiral tip lasted 4316.0 ms.\n",
      "the src=252_3_35 spiral tip lasted 2958.0 ms.\n",
      "the src=397_2_5 spiral tip lasted 5348.0 ms.\n",
      "the src=341_2_15 spiral tip lasted 5072.0 ms.\n",
      "the src=477_1_3 spiral tip lasted 6628.0 ms.\n",
      "the src=266_3_5 spiral tip lasted 2406.0 ms.\n",
      "the src=289_1_14 spiral tip lasted 2976.0 ms.\n",
      "the src=228_3_32 spiral tip lasted 2598.0 ms.\n",
      "the src=370_3_3 spiral tip lasted 3420.0 ms.\n",
      "the src=356_1_14 spiral tip lasted 3850.0 ms.\n",
      "the src=248_0_17 spiral tip lasted 1190.0 ms.\n",
      "the src=360_3_5 spiral tip lasted 3612.0 ms.\n",
      "the src=451_3_0 spiral tip lasted 5554.0 ms.\n",
      "the src=459_1_0 spiral tip lasted 5130.0 ms.\n",
      "the src=342_1_15 spiral tip lasted 4600.0 ms.\n",
      "the src=224_1_17 spiral tip lasted 3218.0 ms.\n",
      "the src=265_2_18 spiral tip lasted 1738.0 ms.\n",
      "the src=227_1_28 spiral tip lasted 4950.0 ms.\n",
      "the src=320_3_9 spiral tip lasted 274.0 ms.\n",
      "the src=326_1_2 spiral tip lasted 3126.0 ms.\n",
      "the src=356_1_9 spiral tip lasted 2150.0 ms.\n",
      "the src=286_3_10 spiral tip lasted 3324.0 ms.\n",
      "the src=216_2_15 spiral tip lasted 166.0 ms.\n",
      "the src=414_0_6 spiral tip lasted 4198.0 ms.\n",
      "the src=288_2_19 spiral tip lasted 3220.0 ms.\n",
      "the src=400_2_2 spiral tip lasted 5960.0 ms.\n",
      "the src=302_2_14 spiral tip lasted 4528.0 ms.\n",
      "the src=332_3_14 spiral tip lasted 4728.0 ms.\n",
      "the src=289_2_7 spiral tip lasted 1556.0 ms.\n",
      "the src=296_2_12 spiral tip lasted 4400.0 ms.\n",
      "the src=293_3_12 spiral tip lasted 2992.0 ms.\n",
      "the src=281_0_8 spiral tip lasted 3030.0 ms.\n",
      "the src=401_3_4 spiral tip lasted 4896.0 ms.\n"
     ]
    },
    {
     "name": "stdout",
     "output_type": "stream",
     "text": [
      "the src=246_0_24 spiral tip lasted 2132.0 ms.\n",
      "the src=316_0_3 spiral tip lasted 4032.0 ms.\n",
      "the src=227_0_23 spiral tip lasted 2358.0 ms.\n",
      "the src=425_1_2 spiral tip lasted 3854.0 ms.\n",
      "the src=357_1_11 spiral tip lasted 3378.0 ms.\n",
      "the src=201_2_20 spiral tip lasted 8.0 ms.\n",
      "the src=256_3_27 spiral tip lasted 1798.0 ms.\n",
      "the src=404_3_8 spiral tip lasted 2158.0 ms.\n",
      "the src=217_0_34 spiral tip lasted 1450.0 ms.\n",
      "the src=229_3_7 spiral tip lasted 1836.0 ms.\n",
      "the src=363_2_4 spiral tip lasted 7842.0 ms.\n",
      "the src=359_2_0 spiral tip lasted 3374.0 ms.\n",
      "the src=394_1_6 spiral tip lasted 4286.0 ms.\n",
      "the src=467_3_3 spiral tip lasted 5026.0 ms.\n",
      "the src=403_0_6 spiral tip lasted 3918.0 ms.\n",
      "the src=217_3_28 spiral tip lasted 1962.0 ms.\n",
      "the src=358_2_11 spiral tip lasted 3604.0 ms.\n",
      "the src=214_0_7 spiral tip lasted 2062.0 ms.\n",
      "the src=210_1_30 spiral tip lasted 2062.0 ms.\n",
      "the src=290_1_24 spiral tip lasted 3268.0 ms.\n",
      "the src=268_0_22 spiral tip lasted 3676.0 ms.\n",
      "the src=370_2_4 spiral tip lasted 6420.0 ms.\n",
      "the src=391_2_1 spiral tip lasted 5530.0 ms.\n",
      "the src=387_2_7 spiral tip lasted 6366.0 ms.\n",
      "the src=319_3_4 spiral tip lasted 3846.0 ms.\n",
      "the src=284_3_7 spiral tip lasted 2302.0 ms.\n",
      "the src=373_1_6 spiral tip lasted 4422.0 ms.\n",
      "the src=246_0_12 spiral tip lasted 1622.0 ms.\n",
      "the src=352_1_12 spiral tip lasted 5162.0 ms.\n",
      "the src=378_2_4 spiral tip lasted 3502.0 ms.\n",
      "the src=290_1_8 spiral tip lasted 816.0 ms.\n",
      "the src=476_2_2 spiral tip lasted 4664.0 ms.\n",
      "the src=309_0_1 spiral tip lasted 2758.0 ms.\n",
      "the src=413_1_7 spiral tip lasted 5614.0 ms.\n",
      "the src=373_1_8 spiral tip lasted 3854.0 ms.\n",
      "the src=461_2_2 spiral tip lasted 6120.0 ms.\n",
      "the src=352_1_13 spiral tip lasted 3198.0 ms.\n",
      "the src=496_2_3 spiral tip lasted 3922.0 ms.\n",
      "the src=390_3_8 spiral tip lasted 6496.0 ms.\n",
      "the src=344_2_9 spiral tip lasted 4722.0 ms.\n",
      "the src=368_1_6 spiral tip lasted 3954.0 ms.\n",
      "the src=304_1_12 spiral tip lasted 1388.0 ms.\n",
      "the src=311_0_12 spiral tip lasted 2864.0 ms.\n",
      "the src=260_3_13 spiral tip lasted 2398.0 ms.\n",
      "the src=491_2_2 spiral tip lasted 5280.0 ms.\n",
      "the src=267_2_14 spiral tip lasted 3302.0 ms.\n",
      "the src=469_2_0 spiral tip lasted 4070.0 ms.\n",
      "the src=247_0_30 spiral tip lasted 1476.0 ms.\n",
      "the src=429_3_4 spiral tip lasted 3896.0 ms.\n",
      "the src=446_0_8 spiral tip lasted 6174.0 ms.\n",
      "the src=278_2_6 spiral tip lasted 3810.0 ms.\n",
      "the src=332_1_12 spiral tip lasted 4902.0 ms.\n",
      "the src=420_3_6 spiral tip lasted 4228.0 ms.\n",
      "the src=466_1_2 spiral tip lasted 4434.0 ms.\n",
      "the src=318_1_2 spiral tip lasted 4504.0 ms.\n",
      "the src=380_0_3 spiral tip lasted 4268.0 ms.\n",
      "the src=297_0_2 spiral tip lasted 2704.0 ms.\n",
      "the src=346_1_5 spiral tip lasted 4000.0 ms.\n",
      "the src=241_0_31 spiral tip lasted 4178.0 ms.\n",
      "the src=446_2_6 spiral tip lasted 4824.0 ms.\n",
      "the src=303_1_9 spiral tip lasted 5904.0 ms.\n",
      "the src=439_3_2 spiral tip lasted 6230.0 ms.\n",
      "the src=439_0_8 spiral tip lasted 4334.0 ms.\n",
      "the src=389_2_8 spiral tip lasted 4312.0 ms.\n",
      "the src=228_3_5 spiral tip lasted 724.0 ms.\n",
      "the src=230_1_25 spiral tip lasted 1138.0 ms.\n",
      "the src=202_3_6 spiral tip lasted 1010.0 ms.\n",
      "the src=365_2_4 spiral tip lasted 3734.0 ms.\n",
      "the src=453_0_3 spiral tip lasted 4356.0 ms.\n",
      "the src=438_1_2 spiral tip lasted 3198.0 ms.\n",
      "the src=451_0_3 spiral tip lasted 4780.0 ms.\n",
      "the src=421_1_1 spiral tip lasted 4674.0 ms.\n",
      "the src=261_2_15 spiral tip lasted 3198.0 ms.\n",
      "the src=482_3_2 spiral tip lasted 3970.0 ms.\n",
      "the src=261_1_8 spiral tip lasted 926.0 ms.\n",
      "the src=250_2_6 spiral tip lasted 1292.0 ms.\n",
      "the src=400_1_1 spiral tip lasted 6194.0 ms.\n",
      "the src=361_2_0 spiral tip lasted 3834.0 ms.\n",
      "the src=441_3_5 spiral tip lasted 4798.0 ms.\n",
      "the src=455_0_1 spiral tip lasted 4998.0 ms.\n",
      "the src=304_0_11 spiral tip lasted 3546.0 ms.\n",
      "the src=361_3_1 spiral tip lasted 5890.0 ms.\n",
      "the src=346_2_2 spiral tip lasted 4296.0 ms.\n",
      "the src=297_1_22 spiral tip lasted 3164.0 ms.\n",
      "the src=414_2_5 spiral tip lasted 2700.0 ms.\n",
      "the src=320_0_12 spiral tip lasted 2988.0 ms.\n",
      "the src=228_3_9 spiral tip lasted 1572.0 ms.\n",
      "the src=430_1_2 spiral tip lasted 3992.0 ms.\n",
      "the src=417_0_5 spiral tip lasted 4186.0 ms.\n",
      "the src=285_0_6 spiral tip lasted 3160.0 ms.\n",
      "the src=364_1_8 spiral tip lasted 3396.0 ms.\n",
      "the src=233_3_2 spiral tip lasted 2336.0 ms.\n",
      "the src=323_3_13 spiral tip lasted 5230.0 ms.\n",
      "the src=386_3_2 spiral tip lasted 5084.0 ms.\n",
      "the src=426_3_8 spiral tip lasted 5672.0 ms.\n",
      "the src=264_0_24 spiral tip lasted 2098.0 ms.\n",
      "the src=300_3_6 spiral tip lasted 4078.0 ms.\n",
      "the src=410_0_5 spiral tip lasted 4358.0 ms.\n",
      "the src=379_3_7 spiral tip lasted 4008.0 ms.\n",
      "the src=209_1_32 spiral tip lasted 344.0 ms.\n",
      "the src=246_1_12 spiral tip lasted 2542.0 ms.\n",
      "the src=346_0_0 spiral tip lasted 4500.0 ms.\n",
      "the src=213_1_18 spiral tip lasted 3430.0 ms.\n",
      "the src=478_1_2 spiral tip lasted 4640.0 ms.\n",
      "the src=463_3_3 spiral tip lasted 4764.0 ms.\n",
      "the src=361_0_3 spiral tip lasted 1700.0 ms.\n",
      "the src=287_1_16 spiral tip lasted 3674.0 ms.\n",
      "the src=301_0_3 spiral tip lasted 3938.0 ms.\n",
      "the src=236_0_18 spiral tip lasted 3320.0 ms.\n",
      "the src=313_2_10 spiral tip lasted 4016.0 ms.\n",
      "the src=258_2_1 spiral tip lasted 186.0 ms.\n",
      "the src=388_3_3 spiral tip lasted 2260.0 ms.\n",
      "the src=244_3_3 spiral tip lasted 3438.0 ms.\n",
      "the src=335_0_2 spiral tip lasted 4590.0 ms.\n",
      "the src=233_3_27 spiral tip lasted 2650.0 ms.\n",
      "the src=235_2_1 spiral tip lasted 286.0 ms.\n",
      "the src=275_2_6 spiral tip lasted 3786.0 ms.\n",
      "the src=351_1_0 spiral tip lasted 4504.0 ms.\n",
      "the src=323_0_9 spiral tip lasted 4300.0 ms.\n",
      "the src=263_3_13 spiral tip lasted 2540.0 ms.\n",
      "the src=272_2_20 spiral tip lasted 2820.0 ms.\n",
      "the src=277_3_4 spiral tip lasted 2448.0 ms.\n",
      "the src=371_2_7 spiral tip lasted 4526.0 ms.\n",
      "the src=379_1_8 spiral tip lasted 4826.0 ms.\n",
      "the src=283_1_1 spiral tip lasted 2492.0 ms.\n",
      "the src=426_1_2 spiral tip lasted 4980.0 ms.\n",
      "the src=244_1_3 spiral tip lasted 298.0 ms.\n",
      "the src=495_2_3 spiral tip lasted 4510.0 ms.\n",
      "the src=493_3_1 spiral tip lasted 5036.0 ms.\n",
      "the src=216_3_23 spiral tip lasted 4022.0 ms.\n",
      "the src=396_1_2 spiral tip lasted 4248.0 ms.\n",
      "the src=353_0_0 spiral tip lasted 5114.0 ms.\n",
      "the src=434_3_6 spiral tip lasted 2756.0 ms.\n",
      "the src=395_2_3 spiral tip lasted 3326.0 ms.\n",
      "the src=289_3_17 spiral tip lasted 2472.0 ms.\n",
      "the src=401_0_6 spiral tip lasted 5344.0 ms.\n",
      "the src=229_0_7 spiral tip lasted 1178.0 ms.\n",
      "the src=420_3_0 spiral tip lasted 4696.0 ms.\n",
      "the src=292_2_21 spiral tip lasted 2214.0 ms.\n",
      "the src=278_1_1 spiral tip lasted 4482.0 ms.\n",
      "the src=235_0_16 spiral tip lasted 432.0 ms.\n",
      "the src=226_0_23 spiral tip lasted 572.0 ms.\n",
      "the src=373_2_3 spiral tip lasted 5464.0 ms.\n",
      "the src=333_2_11 spiral tip lasted 4750.0 ms.\n",
      "the src=245_2_29 spiral tip lasted 2424.0 ms.\n",
      "the src=323_2_15 spiral tip lasted 3008.0 ms.\n",
      "the src=224_0_4 spiral tip lasted 214.0 ms.\n",
      "the src=490_2_0 spiral tip lasted 5504.0 ms.\n",
      "the src=202_3_23 spiral tip lasted 5510.0 ms.\n",
      "the src=278_2_9 spiral tip lasted 2342.0 ms.\n",
      "the src=391_3_4 spiral tip lasted 5240.0 ms.\n",
      "the src=306_3_11 spiral tip lasted 4364.0 ms.\n",
      "the src=392_1_5 spiral tip lasted 4350.0 ms.\n",
      "the src=208_1_19 spiral tip lasted 948.0 ms.\n",
      "the src=207_2_37 spiral tip lasted 942.0 ms.\n",
      "the src=392_3_7 spiral tip lasted 6000.0 ms.\n",
      "the src=375_2_1 spiral tip lasted 3924.0 ms.\n",
      "the src=410_3_8 spiral tip lasted 4582.0 ms.\n",
      "{(239, 2, 0): 0, (392, 2, 4): 0, (267, 3, 14): 0, (371, 3, 1): 0, (371, 1, 5): 0, (307, 3, 7): 0, (214, 1, 37): 0, (311, 2, 14): 0, (434, 2, 3): 0, (227, 3, 19): 0, (362, 3, 6): 0, (291, 3, 22): 0, (278, 1, 12): 0, (309, 3, 1): 0, (498, 1, 3): 0, (297, 1, 17): 0, (234, 3, 15): 0, (228, 2, 23): 0, (225, 3, 33): 0, (353, 0, 6): 0, (430, 2, 5): 0, (406, 2, 0): 0, (211, 2, 31): 0, (331, 2, 10): 0, (255, 0, 10): 0, (386, 0, 3): 0, (458, 1, 0): 0, (342, 2, 13): 0, (288, 3, 16): 0, (293, 3, 2): 0, (261, 0, 20): 0, (295, 0, 11): 0, (393, 2, 0): 0, (416, 1, 0): 0, (477, 3, 2): 0, (423, 3, 6): 0, (234, 1, 4): 0, (354, 2, 1): 0, (237, 1, 8): 0, (412, 0, 8): 0, (458, 3, 1): 0, (214, 2, 36): 0, (336, 1, 14): 0, (332, 1, 15): 0, (310, 0, 6): 0, (205, 2, 20): 0, (401, 1, 4): 0, (378, 3, 0): 0, (428, 0, 3): 0, (408, 2, 4): 0, (347, 3, 10): 0, (347, 0, 0): 0, (233, 2, 6): 0, (386, 1, 7): 0, (362, 1, 4): 0, (328, 2, 15): 0, (314, 1, 13): 0, (404, 1, 7): 1, (223, 2, 46): 0, (209, 1, 46): 0, (367, 0, 6): 0, (463, 1, 2): 0, (204, 2, 7): 0, (403, 0, 8): 0, (344, 3, 4): 0, (329, 3, 1): 0, (495, 1, 0): 0, (362, 3, 2): 0, (222, 1, 9): 0, (454, 1, 2): 0, (249, 1, 7): 0, (265, 0, 24): 0, (400, 0, 4): 0, (431, 1, 3): 0, (398, 0, 7): 0, (385, 0, 3): 0, (254, 1, 13): 0, (208, 0, 24): 0, (224, 2, 44): 0, (448, 3, 1): 0, (454, 1, 0): 0, (301, 1, 3): 0, (324, 0, 7): 1, (430, 0, 2): 0, (265, 3, 21): 0, (397, 1, 3): 0, (204, 0, 6): 0, (485, 3, 2): 0, (457, 0, 0): 0, (374, 3, 2): 0, (286, 2, 10): 0, (378, 0, 7): 0, (471, 1, 2): 0, (317, 1, 15): 0, (377, 0, 4): 0, (293, 2, 3): 0, (489, 0, 3): 0, (201, 1, 5): 0, (342, 3, 2): 0, (324, 0, 9): 0, (430, 3, 3): 0, (248, 3, 17): 0, (250, 0, 13): 0, (457, 1, 2): 0, (339, 1, 0): 1, (415, 2, 6): 0, (300, 2, 12): 0, (326, 1, 13): 0, (317, 0, 15): 0, (203, 3, 42): 0, (433, 3, 3): 0, (379, 0, 2): 0, (293, 1, 4): 0, (356, 0, 11): 0, (478, 1, 1): 0, (236, 0, 23): 0, (442, 1, 4): 0, (238, 1, 24): 0, (259, 1, 2): 0, (393, 2, 8): 0, (223, 0, 4): 0, (365, 3, 1): 0, (331, 0, 7): 0, (473, 0, 3): 0, (271, 2, 9): 0, (375, 3, 4): 0, (299, 3, 7): 0, (343, 0, 1): 0, (383, 3, 2): 0, (333, 3, 4): 0, (283, 3, 18): 0, (390, 0, 5): 2, (349, 0, 12): 0, (266, 0, 18): 0, (314, 2, 14): 0, (202, 2, 13): 0, (313, 1, 13): 0, (456, 3, 3): 0, (348, 0, 1): 0, (298, 2, 12): 0, (379, 3, 5): 0, (353, 3, 13): 0, (423, 3, 4): 0, (454, 1, 1): 0, (353, 1, 5): 0, (288, 0, 4): 0, (334, 0, 12): 0, (383, 2, 2): 0, (323, 2, 11): 1, (323, 0, 3): 0, (389, 0, 0): 0, (357, 0, 15): 0, (343, 0, 14): 0, (211, 1, 18): 0, (222, 0, 45): 0, (410, 3, 1): 0, (357, 0, 11): 0, (324, 1, 5): 0, (463, 1, 1): 0, (360, 0, 14): 0, (413, 2, 5): 0, (273, 2, 23): 0, (425, 2, 8): 0, (413, 2, 8): 0, (256, 0, 21): 0, (368, 0, 6): 0, (384, 3, 8): 0, (255, 2, 15): 0, (444, 3, 3): 0, (210, 0, 26): 0, (420, 2, 1): 0, (382, 1, 1): 0, (259, 2, 8): 0, (282, 1, 20): 0, (250, 1, 26): 0, (393, 3, 0): 0, (450, 3, 5): 0, (250, 0, 35): 0, (310, 3, 7): 0, (242, 0, 31): 0, (430, 1, 0): 0, (315, 2, 10): 0, (209, 2, 16): 0, (484, 0, 3): 0, (309, 1, 4): 0, (388, 3, 4): 0, (424, 3, 4): 0, (429, 0, 3): 0, (375, 0, 1): 0, (296, 1, 15): 0, (364, 0, 4): 0, (239, 3, 19): 0, (458, 0, 2): 0, (470, 3, 0): 0, (366, 0, 3): 0, (354, 1, 11): 0, (403, 1, 6): 0, (292, 1, 6): 0, (223, 3, 47): 0, (488, 1, 2): 0, (269, 1, 21): 1, (307, 2, 8): 0, (427, 0, 8): 0, (426, 3, 1): 0, (254, 0, 12): 0, (241, 1, 24): 0, (384, 1, 4): 0, (432, 2, 2): 0, (421, 3, 3): 1, (355, 3, 7): 0, (284, 0, 0): 0, (364, 1, 6): 0, (396, 0, 4): 0, (475, 3, 3): 0, (246, 2, 5): 0, (295, 3, 9): 0, (285, 0, 19): 0, (497, 1, 3): 0, (291, 2, 16): 0, (464, 0, 1): 0, (439, 1, 1): 0, (440, 1, 8): 0, (465, 2, 3): 0, (459, 2, 2): 0, (268, 2, 21): 0, (453, 2, 0): 0, (408, 2, 2): 0, (301, 1, 9): 0, (378, 0, 1): 0, (331, 1, 10): 0, (418, 2, 2): 0, (354, 2, 5): 0, (345, 0, 15): 0, (461, 2, 0): 0, (463, 0, 3): 0, (236, 1, 6): 0, (474, 1, 1): 0, (436, 2, 1): 0, (210, 2, 18): 0, (440, 0, 0): 1, (384, 2, 1): 0, (478, 0, 0): 0, (374, 1, 1): 0, (220, 3, 15): 0, (445, 3, 4): 0, (222, 3, 30): 0, (330, 3, 15): 0, (257, 3, 17): 0, (324, 2, 10): 0, (294, 3, 0): 0, (289, 0, 11): 0, (247, 2, 26): 0, (377, 2, 4): 0, (429, 2, 8): 0, (270, 0, 18): 0, (361, 3, 7): 0, (260, 3, 2): 0, (355, 3, 13): 0, (380, 2, 1): 0, (425, 3, 5): 2, (449, 0, 4): 0, (244, 0, 30): 0, (245, 1, 28): 0, (457, 3, 3): 0, (305, 2, 8): 0, (474, 1, 2): 1, (443, 3, 5): 0, (345, 3, 6): 0, (320, 2, 5): 0, (384, 0, 7): 0, (359, 2, 15): 0, (351, 0, 10): 0, (308, 0, 3): 1, (438, 2, 2): 0, (332, 0, 3): 0, (289, 2, 17): 0, (446, 1, 4): 1, (422, 3, 3): 0, (333, 3, 2): 0, (260, 2, 23): 0, (351, 2, 5): 0, (337, 1, 4): 0, (226, 1, 27): 0, (430, 0, 7): 0, (322, 0, 3): 0, (300, 2, 6): 0, (385, 2, 8): 0, (258, 2, 5): 0, (279, 1, 3): 0, (446, 3, 8): 0, (428, 2, 7): 0, (370, 2, 0): 0, (479, 1, 3): 0, (385, 3, 3): 0, (380, 1, 0): 0, (443, 2, 8): 0, (369, 0, 4): 0, (316, 3, 8): 0, (396, 3, 8): 0, (328, 1, 9): 0, (471, 2, 2): 0, (365, 1, 0): 0, (354, 3, 8): 0, (420, 2, 6): 0, (401, 3, 1): 0, (425, 0, 5): 0, (256, 0, 9): 0, (400, 1, 3): 0, (396, 1, 0): 0, (300, 3, 20): 1, (221, 3, 40): 0, (294, 0, 19): 0, (357, 3, 2): 0, (211, 0, 6): 0, (331, 1, 0): 0, (231, 3, 24): 0, (367, 3, 5): 0, (284, 0, 7): 0, (367, 1, 7): 0, (359, 2, 7): 0, (428, 0, 0): 0, (445, 0, 2): 0, (373, 2, 6): 0, (348, 3, 6): 0, (238, 3, 22): 0, (338, 0, 8): 0, (379, 1, 7): 0, (361, 2, 5): 0, (201, 3, 7): 0, (309, 0, 5): 0, (304, 0, 6): 0, (393, 0, 7): 0, (352, 0, 12): 0, (289, 2, 9): 0, (415, 2, 3): 0, (288, 2, 4): 0, (376, 0, 4): 0, (357, 1, 9): 0, (261, 2, 5): 0, (347, 0, 1): 0, (252, 3, 35): 0, (397, 2, 5): 0, (341, 2, 15): 0, (477, 1, 3): 0, (266, 3, 5): 0, (289, 1, 14): 0, (228, 3, 32): 0, (370, 3, 3): 0, (356, 1, 14): 0, (248, 0, 17): 0, (360, 3, 5): 0, (451, 3, 0): 0, (459, 1, 0): 0, (342, 1, 15): 0, (224, 1, 17): 0, (265, 2, 18): 0, (227, 1, 28): 0, (320, 3, 9): 0, (326, 1, 2): 0, (356, 1, 9): 0, (286, 3, 10): 0, (216, 2, 15): 0, (414, 0, 6): 0, (288, 2, 19): 0, (400, 2, 2): 0, (302, 2, 14): 0, (332, 3, 14): 0, (289, 2, 7): 0, (296, 2, 12): 0, (293, 3, 12): 0, (281, 0, 8): 0, (401, 3, 4): 0, (246, 0, 24): 0, (316, 0, 3): 0, (227, 0, 23): 0, (425, 1, 2): 0, (357, 1, 11): 0, (201, 2, 20): 0, (256, 3, 27): 0, (404, 3, 8): 0, (217, 0, 34): 0, (229, 3, 7): 0, (363, 2, 4): 0, (359, 2, 0): 0, (394, 1, 6): 0, (467, 3, 3): 0, (403, 0, 6): 0, (217, 3, 28): 0, (358, 2, 11): 0, (214, 0, 7): 0, (210, 1, 30): 0, (290, 1, 24): 0, (268, 0, 22): 0, (370, 2, 4): 0, (391, 2, 1): 0, (387, 2, 7): 0, (319, 3, 4): 0, (284, 3, 7): 0, (373, 1, 6): 0, (246, 0, 12): 0, (352, 1, 12): 0, (378, 2, 4): 0, (290, 1, 8): 0, (476, 2, 2): 0, (309, 0, 1): 0, (413, 1, 7): 0, (373, 1, 8): 0, (461, 2, 2): 0, (352, 1, 13): 0, (496, 2, 3): 0, (390, 3, 8): 0, (344, 2, 9): 0, (368, 1, 6): 0, (304, 1, 12): 0, (311, 0, 12): 0, (260, 3, 13): 0, (491, 2, 2): 0, (267, 2, 14): 0, (469, 2, 0): 0, (247, 0, 30): 0, (429, 3, 4): 0, (446, 0, 8): 0, (278, 2, 6): 0, (332, 1, 12): 0, (420, 3, 6): 0, (466, 1, 2): 0, (318, 1, 2): 0, (380, 0, 3): 0, (297, 0, 2): 0, (346, 1, 5): 0, (241, 0, 31): 0, (446, 2, 6): 0, (303, 1, 9): 0, (439, 3, 2): 0, (439, 0, 8): 0, (389, 2, 8): 0, (228, 3, 5): 0, (230, 1, 25): 0, (202, 3, 6): 0, (365, 2, 4): 0, (453, 0, 3): 0, (438, 1, 2): 0, (451, 0, 3): 0, (421, 1, 1): 0, (261, 2, 15): 0, (482, 3, 2): 0, (261, 1, 8): 0, (250, 2, 6): 0, (400, 1, 1): 0, (361, 2, 0): 0, (441, 3, 5): 0, (455, 0, 1): 0, (304, 0, 11): 0, (361, 3, 1): 0, (346, 2, 2): 0, (297, 1, 22): 0, (414, 2, 5): 0, (320, 0, 12): 0, (228, 3, 9): 0, (430, 1, 2): 0, (417, 0, 5): 0, (285, 0, 6): 0, (364, 1, 8): 0, (233, 3, 2): 0, (323, 3, 13): 0, (386, 3, 2): 0, (426, 3, 8): 0, (264, 0, 24): 0, (300, 3, 6): 0, (410, 0, 5): 0, (379, 3, 7): 0, (209, 1, 32): 0, (246, 1, 12): 0, (346, 0, 0): 0, (213, 1, 18): 0, (478, 1, 2): 0, (463, 3, 3): 0, (361, 0, 3): 0, (287, 1, 16): 0, (301, 0, 3): 0, (236, 0, 18): 0, (313, 2, 10): 0, (258, 2, 1): 0, (388, 3, 3): 0, (244, 3, 3): 0, (335, 0, 2): 0, (233, 3, 27): 0, (235, 2, 1): 0, (275, 2, 6): 0, (351, 1, 0): 0, (323, 0, 9): 0, (263, 3, 13): 0, (272, 2, 20): 0, (277, 3, 4): 0, (371, 2, 7): 0, (379, 1, 8): 0, (283, 1, 1): 0, (426, 1, 2): 0, (244, 1, 3): 0, (495, 2, 3): 0, (493, 3, 1): 0, (216, 3, 23): 0, (396, 1, 2): 0, (353, 0, 0): 0, (434, 3, 6): 0, (395, 2, 3): 0, (289, 3, 17): 0, (401, 0, 6): 0, (229, 0, 7): 0, (420, 3, 0): 0, (292, 2, 21): 0, (278, 1, 1): 0, (235, 0, 16): 0, (226, 0, 23): 0, (373, 2, 3): 0, (333, 2, 11): 0, (245, 2, 29): 0, (323, 2, 15): 0, (224, 0, 4): 0, (490, 2, 0): 0, (202, 3, 23): 0, (278, 2, 9): 0, (391, 3, 4): 0, (306, 3, 11): 0, (392, 1, 5): 0, (208, 1, 19): 0, (207, 2, 37): 0, (392, 3, 7): 0, (375, 2, 1): 0, (410, 3, 8): 0}\n"
     ]
    }
   ],
   "source": [
    "df_lst,K12_index_set=return_df_updated_with_input_folder(input_fn_lst)"
   ]
  },
  {
   "cell_type": "code",
   "execution_count": 15,
   "metadata": {
    "ExecuteTime": {
     "end_time": "2021-02-18T02:19:30.806185Z",
     "start_time": "2021-02-18T02:19:30.780288Z"
    }
   },
   "outputs": [
    {
     "name": "stdout",
     "output_type": "stream",
     "text": [
      "530 distinct trials were successfully recorded.\n"
     ]
    }
   ],
   "source": [
    "print(f\"{len(list(K12_index_set))} distinct trials were successfully recorded.\")"
   ]
  },
  {
   "cell_type": "code",
   "execution_count": 19,
   "metadata": {
    "ExecuteTime": {
     "end_time": "2021-02-18T02:20:55.787958Z",
     "start_time": "2021-02-18T02:20:55.761880Z"
    }
   },
   "outputs": [
    {
     "data": {
      "text/plain": [
       "530"
      ]
     },
     "execution_count": 19,
     "metadata": {},
     "output_type": "execute_result"
    }
   ],
   "source": [
    "len(list(K12_index_set.values()))"
   ]
  },
  {
   "cell_type": "code",
   "execution_count": 20,
   "metadata": {
    "ExecuteTime": {
     "end_time": "2021-02-18T02:21:09.425712Z",
     "start_time": "2021-02-18T02:21:08.628925Z"
    }
   },
   "outputs": [
    {
     "data": {
      "text/html": [
       "<div>\n",
       "<style scoped>\n",
       "    .dataframe tbody tr th:only-of-type {\n",
       "        vertical-align: middle;\n",
       "    }\n",
       "\n",
       "    .dataframe tbody tr th {\n",
       "        vertical-align: top;\n",
       "    }\n",
       "\n",
       "    .dataframe thead th {\n",
       "        text-align: right;\n",
       "    }\n",
       "</style>\n",
       "<table border=\"1\" class=\"dataframe\">\n",
       "  <thead>\n",
       "    <tr style=\"text-align: right;\">\n",
       "      <th></th>\n",
       "      <th></th>\n",
       "      <th></th>\n",
       "      <th>t</th>\n",
       "      <th>n</th>\n",
       "      <th>x</th>\n",
       "      <th>y</th>\n",
       "      <th>grad_ux</th>\n",
       "      <th>grad_uy</th>\n",
       "      <th>grad_vx</th>\n",
       "      <th>grad_vy</th>\n",
       "      <th>frame</th>\n",
       "      <th>particle</th>\n",
       "      <th>src</th>\n",
       "    </tr>\n",
       "    <tr>\n",
       "      <th>L</th>\n",
       "      <th>txt_id1</th>\n",
       "      <th>txt_id2</th>\n",
       "      <th></th>\n",
       "      <th></th>\n",
       "      <th></th>\n",
       "      <th></th>\n",
       "      <th></th>\n",
       "      <th></th>\n",
       "      <th></th>\n",
       "      <th></th>\n",
       "      <th></th>\n",
       "      <th></th>\n",
       "      <th></th>\n",
       "    </tr>\n",
       "  </thead>\n",
       "  <tbody>\n",
       "    <tr>\n",
       "      <th rowspan=\"5\" valign=\"top\">239</th>\n",
       "      <th rowspan=\"5\" valign=\"top\">2</th>\n",
       "      <th>0</th>\n",
       "      <td>1844.0</td>\n",
       "      <td>6</td>\n",
       "      <td>0.000000</td>\n",
       "      <td>0.000000</td>\n",
       "      <td>-2.06868</td>\n",
       "      <td>5.42342</td>\n",
       "      <td>-4.52837</td>\n",
       "      <td>9.01983</td>\n",
       "      <td>0</td>\n",
       "      <td>47</td>\n",
       "      <td>239_2_0</td>\n",
       "    </tr>\n",
       "    <tr>\n",
       "      <th>0</th>\n",
       "      <td>1846.0</td>\n",
       "      <td>6</td>\n",
       "      <td>5.151337</td>\n",
       "      <td>1.888168</td>\n",
       "      <td>-1.79723</td>\n",
       "      <td>5.18668</td>\n",
       "      <td>6.10606</td>\n",
       "      <td>-6.67075</td>\n",
       "      <td>1</td>\n",
       "      <td>47</td>\n",
       "      <td>239_2_0</td>\n",
       "    </tr>\n",
       "    <tr>\n",
       "      <th>0</th>\n",
       "      <td>1848.0</td>\n",
       "      <td>6</td>\n",
       "      <td>8.037594</td>\n",
       "      <td>2.839096</td>\n",
       "      <td>-1.54593</td>\n",
       "      <td>4.89857</td>\n",
       "      <td>4.07635</td>\n",
       "      <td>-3.71336</td>\n",
       "      <td>2</td>\n",
       "      <td>47</td>\n",
       "      <td>239_2_0</td>\n",
       "    </tr>\n",
       "    <tr>\n",
       "      <th>0</th>\n",
       "      <td>1850.0</td>\n",
       "      <td>6</td>\n",
       "      <td>10.420452</td>\n",
       "      <td>3.560852</td>\n",
       "      <td>-1.35436</td>\n",
       "      <td>4.68894</td>\n",
       "      <td>3.55395</td>\n",
       "      <td>-3.00205</td>\n",
       "      <td>3</td>\n",
       "      <td>47</td>\n",
       "      <td>239_2_0</td>\n",
       "    </tr>\n",
       "    <tr>\n",
       "      <th>0</th>\n",
       "      <td>1852.0</td>\n",
       "      <td>6</td>\n",
       "      <td>12.554859</td>\n",
       "      <td>4.159058</td>\n",
       "      <td>-1.28145</td>\n",
       "      <td>4.63373</td>\n",
       "      <td>3.14485</td>\n",
       "      <td>-2.40385</td>\n",
       "      <td>4</td>\n",
       "      <td>47</td>\n",
       "      <td>239_2_0</td>\n",
       "    </tr>\n",
       "  </tbody>\n",
       "</table>\n",
       "</div>"
      ],
      "text/plain": [
       "                          t  n          x         y  grad_ux  grad_uy  \\\n",
       "L   txt_id1 txt_id2                                                     \n",
       "239 2       0        1844.0  6   0.000000  0.000000 -2.06868  5.42342   \n",
       "            0        1846.0  6   5.151337  1.888168 -1.79723  5.18668   \n",
       "            0        1848.0  6   8.037594  2.839096 -1.54593  4.89857   \n",
       "            0        1850.0  6  10.420452  3.560852 -1.35436  4.68894   \n",
       "            0        1852.0  6  12.554859  4.159058 -1.28145  4.63373   \n",
       "\n",
       "                     grad_vx  grad_vy  frame  particle      src  \n",
       "L   txt_id1 txt_id2                                              \n",
       "239 2       0       -4.52837  9.01983      0        47  239_2_0  \n",
       "            0        6.10606 -6.67075      1        47  239_2_0  \n",
       "            0        4.07635 -3.71336      2        47  239_2_0  \n",
       "            0        3.55395 -3.00205      3        47  239_2_0  \n",
       "            0        3.14485 -2.40385      4        47  239_2_0  "
      ]
     },
     "execution_count": 20,
     "metadata": {},
     "output_type": "execute_result"
    }
   ],
   "source": [
    "df=pd.concat(df_lst)\n",
    "df.head()"
   ]
  },
  {
   "cell_type": "code",
   "execution_count": 21,
   "metadata": {
    "ExecuteTime": {
     "end_time": "2021-02-18T02:21:36.511264Z",
     "start_time": "2021-02-18T02:21:22.374990Z"
    }
   },
   "outputs": [],
   "source": [
    "#save df as csv in care\n",
    "save_folder=os.path.join(nb_dir,'Data/cloud_results')\n",
    "os.chdir(save_folder)\n",
    "save_fn='longest_traj_by_area_fk_pbc.csv'\n",
    "df.to_csv(save_fn)"
   ]
  },
  {
   "cell_type": "code",
   "execution_count": 44,
   "metadata": {
    "ExecuteTime": {
     "end_time": "2021-02-08T18:41:47.111685Z",
     "start_time": "2021-02-08T18:41:47.066371Z"
    }
   },
   "outputs": [],
   "source": [
    "#TODO: verify save\n",
    "#TODO: compute the area for each trial\n",
    "#TODO: detect brownian motion for each trial\n",
    "#TODO: compute the largest number of repeats of a single trial run\n"
   ]
  },
  {
   "cell_type": "code",
   "execution_count": 67,
   "metadata": {
    "ExecuteTime": {
     "end_time": "2021-02-09T18:35:17.730524Z",
     "start_time": "2021-02-09T18:35:17.663464Z"
    },
    "scrolled": true
   },
   "outputs": [
    {
     "data": {
      "text/plain": [
       "{(529, 0, 0): 0,\n",
       " (404, 1, 1): 0,\n",
       " (613, 0, 0): 0,\n",
       " (420, 0, 5): 0,\n",
       " (447, 1, 0): 0,\n",
       " (360, 1, 8): 0,\n",
       " (361, 2, 8): 0,\n",
       " (457, 3, 2): 0,\n",
       " (472, 2, 1): 0,\n",
       " (455, 2, 3): 0,\n",
       " (426, 3, 4): 0,\n",
       " (489, 3, 3): 0,\n",
       " (371, 2, 3): 0,\n",
       " (440, 3, 7): 0,\n",
       " (544, 3, 2): 0,\n",
       " (523, 0, 1): 0,\n",
       " (531, 2, 3): 0,\n",
       " (306, 1, 7): 0,\n",
       " (513, 2, 3): 0,\n",
       " (327, 3, 15): 0,\n",
       " (353, 1, 12): 0,\n",
       " (357, 1, 14): 0,\n",
       " (363, 2, 5): 0,\n",
       " (592, 2, 3): 0,\n",
       " (367, 2, 8): 0,\n",
       " (367, 2, 6): 0,\n",
       " (364, 2, 5): 0,\n",
       " (547, 2, 1): 0,\n",
       " (355, 2, 12): 0,\n",
       " (452, 1, 3): 0,\n",
       " (317, 1, 6): 0,\n",
       " (317, 1, 9): 0,\n",
       " (346, 3, 3): 0,\n",
       " (515, 0, 1): 0,\n",
       " (554, 2, 1): 0,\n",
       " (534, 1, 0): 0,\n",
       " (300, 0, 7): 0,\n",
       " (513, 0, 3): 0,\n",
       " (392, 0, 8): 0}"
      ]
     },
     "execution_count": 67,
     "metadata": {},
     "output_type": "execute_result"
    }
   ],
   "source": [
    "K12_index_set"
   ]
  },
  {
   "cell_type": "markdown",
   "metadata": {},
   "source": [
    "# Plot some mean squared displacements"
   ]
  },
  {
   "cell_type": "code",
   "execution_count": 46,
   "metadata": {
    "ExecuteTime": {
     "end_time": "2021-02-08T18:41:49.967194Z",
     "start_time": "2021-02-08T18:41:49.921540Z"
    }
   },
   "outputs": [],
   "source": [
    "#load df \n",
    "data_folder=os.path.join(nb_dir,'Data/cloud_results')\n",
    "os.chdir(data_folder)\n",
    "data_fn='longest_traj_by_area_lr_pbc.csv'"
   ]
  },
  {
   "cell_type": "code",
   "execution_count": 47,
   "metadata": {
    "ExecuteTime": {
     "end_time": "2021-02-08T18:41:51.096103Z",
     "start_time": "2021-02-08T18:41:51.029953Z"
    }
   },
   "outputs": [],
   "source": [
    "#DONE: compute the area for each trial\n",
    "df=pd.read_csv(data_fn)\n",
    "df['area']=df.L**2*0.025**2#cm^2"
   ]
  },
  {
   "cell_type": "code",
   "execution_count": 48,
   "metadata": {
    "ExecuteTime": {
     "end_time": "2021-02-08T18:41:51.991565Z",
     "start_time": "2021-02-08T18:41:51.945920Z"
    }
   },
   "outputs": [],
   "source": [
    "#TODO: plot MSD for each trial\n",
    "d=df[(df.L==513)& (df.txt_id1==0)&(df.txt_id2==3)]\n",
    "#TODO: detect brownian motion for each trial\n",
    "#TODO: compute the largest number of repeats of a single trial run"
   ]
  },
  {
   "cell_type": "code",
   "execution_count": 49,
   "metadata": {
    "ExecuteTime": {
     "end_time": "2021-02-08T18:41:58.419818Z",
     "start_time": "2021-02-08T18:41:58.369490Z"
    }
   },
   "outputs": [
    {
     "name": "stdout",
     "output_type": "stream",
     "text": [
      "this spiral tip lasted 228.0 ms.\n"
     ]
    }
   ],
   "source": [
    "print(f\"this spiral tip lasted {d.t.max()-d.t.min()} ms.\")"
   ]
  },
  {
   "cell_type": "code",
   "execution_count": 65,
   "metadata": {
    "ExecuteTime": {
     "end_time": "2021-02-08T18:49:26.871851Z",
     "start_time": "2021-02-08T18:49:26.574231Z"
    }
   },
   "outputs": [
    {
     "data": {
      "image/png": "[encoded data removed]",
      "text/plain": [
       "<Figure size 432x288 with 1 Axes>"
      ]
     },
     "metadata": {
      "needs_background": "light"
     },
     "output_type": "display_data"
    }
   ],
   "source": [
    "src_lst=['447_1_0',\"523_0_1\",\"529_0_0\"]\n",
    "A_lst=[447**2*DS**2,523**2*DS**2,529**2*DS**2]\n",
    "for A,src in zip(A_lst,src_lst):\n",
    "    d_in=df[df.src==src]\n",
    "\n",
    "    DS=0.025#cm per pixel\n",
    "    DT=2.#ms per frame\n",
    "    #compute ensemble mean squared displacement\n",
    "    emsd = trackpy.motion.emsd(d_in, mpp=1., fps=1.,max_lagtime=40000)\n",
    "    #cast ensemble mean squared displacement into units of cm^2 and seconds\n",
    "    d_out= pd.DataFrame({'msd':DS**2*emsd.values, 'lagt':emsd.index.values*DT/10**3, 'src':src})\n",
    "\n",
    "\n",
    "    x_values=d_out.lagt\n",
    "    y_values=d_out.msd\n",
    "\n",
    "    plt.plot(x_values,y_values,label=f\"{np.around(A)} cm^2\")\n",
    "plt.xlabel('lag (sec)')\n",
    "plt.ylabel(r'MSD (cm$^2$)')\n",
    "plt.legend()\n",
    "plt.show()"
   ]
  },
  {
   "cell_type": "code",
   "execution_count": null,
   "metadata": {},
   "outputs": [],
   "source": [
    "DT=df.t.head(2).diff().dropna().values[0]"
   ]
  },
  {
   "cell_type": "code",
   "execution_count": 1,
   "metadata": {
    "ExecuteTime": {
     "end_time": "2021-02-17T17:38:28.281393Z",
     "start_time": "2021-02-17T17:38:28.203773Z"
    }
   },
   "outputs": [
    {
     "ename": "NameError",
     "evalue": "name 'df' is not defined",
     "output_type": "error",
     "traceback": [
      "\u001b[0;31m----------------------------------------------------\u001b[0m",
      "\u001b[0;31mNameError\u001b[0m          Traceback (most recent call last)",
      "\u001b[0;32m<ipython-input-1-00cf07b74dcd>\u001b[0m in \u001b[0;36m<module>\u001b[0;34m\u001b[0m\n\u001b[0;32m----> 1\u001b[0;31m \u001b[0mdf\u001b[0m\u001b[0;34m\u001b[0m\u001b[0;34m\u001b[0m\u001b[0m\n\u001b[0m",
      "\u001b[0;31mNameError\u001b[0m: name 'df' is not defined"
     ]
    }
   ],
   "source": [
    "df"
   ]
  },
  {
   "cell_type": "code",
   "execution_count": null,
   "metadata": {},
   "outputs": [],
   "source": []
  }
 ],
 "metadata": {
  "kernelspec": {
   "display_name": "Python 3",
   "language": "python",
   "name": "python3"
  },
  "language_info": {
   "codemirror_mode": {
    "name": "ipython",
    "version": 3
   },
   "file_extension": ".py",
   "mimetype": "text/x-python",
   "name": "python",
   "nbconvert_exporter": "python",
   "pygments_lexer": "ipython3",
   "version": "3.7.6"
  },
  "toc": {
   "base_numbering": 1,
   "nav_menu": {},
   "number_sections": true,
   "sideBar": true,
   "skip_h1_title": false,
   "title_cell": "Table of Contents",
   "title_sidebar": "Contents",
   "toc_cell": false,
   "toc_position": {
    "height": "calc(100% - 180px)",
    "left": "10px",
    "top": "150px",
    "width": "250.667px"
   },
   "toc_section_display": true,
   "toc_window_display": false
  },
  "varInspector": {
   "cols": {
    "lenName": 16,
    "lenType": 16,
    "lenVar": 40
   },
   "kernels_config": {
    "python": {
     "delete_cmd_postfix": "",
     "delete_cmd_prefix": "del ",
     "library": "var_list.py",
     "varRefreshCmd": "print(var_dic_list())"
    },
    "r": {
     "delete_cmd_postfix": ") ",
     "delete_cmd_prefix": "rm(",
     "library": "var_list.r",
     "varRefreshCmd": "cat(var_dic_list()) "
    }
   },
   "types_to_exclude": [
    "module",
    "function",
    "builtin_function_or_method",
    "instance",
    "_Feature"
   ],
   "window_display": false
  }
 },
 "nbformat": 4,
 "nbformat_minor": 4
}
