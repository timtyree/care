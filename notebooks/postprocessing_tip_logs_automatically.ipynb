{
 "cells": [
  {
   "cell_type": "markdown",
   "metadata": {},
   "source": [
    "# postprocessing_tip_logs_automaticallly\n",
    "Tim Tyree<br>\n",
    "5.28.2020<br>"
   ]
  },
  {
   "cell_type": "code",
   "execution_count": 1,
   "metadata": {
    "ExecuteTime": {
     "end_time": "2020-05-29T18:20:46.434501Z",
     "start_time": "2020-05-29T18:20:43.854416Z"
    }
   },
   "outputs": [],
   "source": [
    "from lib.process_tip_log import process_tip_log\n",
    "from lib.ProgressBar import *\n",
    "import os, time"
   ]
  },
  {
   "cell_type": "code",
   "execution_count": 2,
   "metadata": {
    "ExecuteTime": {
     "end_time": "2020-05-29T01:44:20.778376Z",
     "start_time": "2020-05-29T01:44:20.774714Z"
    }
   },
   "outputs": [],
   "source": [
    "#process_tip_log? #yields\n",
    "# process_tip_log(data_dir, descrip = None, plot_figs=True, \n",
    "# \tsave_summary_dir = 'Data/tip_log_summaries/odd_tip_log_summary.csv', \n",
    "# \tsave_tip_locations_dir = None, verbose = True)"
   ]
  },
  {
   "cell_type": "code",
   "execution_count": 2,
   "metadata": {
    "ExecuteTime": {
     "end_time": "2020-05-29T18:25:19.860254Z",
     "start_time": "2020-05-29T18:20:47.270215Z"
    }
   },
   "outputs": [
    {
     "name": "stdout",
     "output_type": "stream",
     "text": [
      "processing 8 logs files...\n",
      "\n",
      "> odd birthdeaths occured with # of births/deaths per event = [ 1  3  5 -1 -3].<br>\n",
      "> total # of odd birth/death events detected 232.<br>\n",
      "> total # of birth/death events detected 2066.<br>\n",
      "> the percent of birth/deaths that were odd was 11.2%.<br>\n",
      "\n",
      "> # of frames with an odd # of spiral tips created/destroyed = 232<br>\n",
      "> # of frames with an odd # of spiral tips existing = 1975<br>\n",
      "> fraction of such frames that are odd births/deaths = 0.1175<br>\n",
      "df_summary saved to Data/tip_log_summaries/odd_tip_log_summary.csv\n",
      "saved odd_timeseries plot to:\n",
      "Figures/odd/odd_timeseries__sigma_0.1_threshold_0.95_wrapping_true_at_time_1485.2.png\n",
      "saved odd_histogram plot to:\n",
      "Figures/odd/odd_timeseries__sigma_0.1_threshold_0.95_wrapping_true_at_time_1485.2.png\n",
      "saved odd_histogram plot to:\n",
      "Figures/odd/odd_histogram__sigma_0.1_threshold_0.95_wrapping_true_at_time_1485.2.png\n",
      "495681 rows appended in 15.651 seconds.\n",
      "the number of null observations in output dataset is 0.\n",
      "tip locations saved to:\n",
      "\tData/output/tip_positions_chaos_circle6_starting_at_5400.0_sigma_0.1_threshold_0.95_wrapping_true_at_time_1485.2.csv\n",
      "> odd birthdeaths occured with # of births/deaths per event = [ 1  3  5 -1 -3].<br>\n",
      "> total # of odd birth/death events detected 229.<br>\n",
      "> total # of birth/death events detected 2014.<br>\n",
      "> the percent of birth/deaths that were odd was 11.4%.<br>\n",
      "\n",
      "> # of frames with an odd # of spiral tips created/destroyed = 229<br>\n",
      "> # of frames with an odd # of spiral tips existing = 1931<br>\n",
      "> fraction of such frames that are odd births/deaths = 0.1186<br>\n",
      "df_summary saved to Data/tip_log_summaries/odd_tip_log_summary.csv\n",
      "saved odd_timeseries plot to:\n",
      "Figures/odd/odd_timeseries__sigma_0.01_threshold_0.95_wrapping_true_at_time_1455.7.png\n",
      "saved odd_histogram plot to:\n",
      "Figures/odd/odd_timeseries__sigma_0.01_threshold_0.95_wrapping_true_at_time_1455.7.png\n",
      "saved odd_histogram plot to:\n",
      "Figures/odd/odd_histogram__sigma_0.01_threshold_0.95_wrapping_true_at_time_1455.7.png\n",
      "483179 rows appended in 15.143 seconds.\n",
      "the number of null observations in output dataset is 0.\n",
      "tip locations saved to:\n",
      "\tData/output/tip_positions_chaos_circle6_starting_at_5400.0_sigma_0.01_threshold_0.95_wrapping_true_at_time_1455.7.csv\n",
      "> odd birthdeaths occured with # of births/deaths per event = [ 1  3  5 -1 -5 -3].<br>\n",
      "> total # of odd birth/death events detected 239.<br>\n",
      "> total # of birth/death events detected 2050.<br>\n",
      "> the percent of birth/deaths that were odd was 11.7%.<br>\n",
      "\n",
      "> # of frames with an odd # of spiral tips created/destroyed = 239<br>\n",
      "> # of frames with an odd # of spiral tips existing = 1991<br>\n",
      "> fraction of such frames that are odd births/deaths = 0.1200<br>\n",
      "df_summary saved to Data/tip_log_summaries/odd_tip_log_summary.csv\n",
      "saved odd_timeseries plot to:\n",
      "Figures/odd/odd_timeseries__sigma_0.001_threshold_0.99_wrapping_true_at_time_1464.9.png\n",
      "saved odd_histogram plot to:\n",
      "Figures/odd/odd_timeseries__sigma_0.001_threshold_0.99_wrapping_true_at_time_1464.9.png\n",
      "saved odd_histogram plot to:\n",
      "Figures/odd/odd_histogram__sigma_0.001_threshold_0.99_wrapping_true_at_time_1464.9.png\n",
      "487251 rows appended in 15.786 seconds.\n",
      "the number of null observations in output dataset is 0.\n",
      "tip locations saved to:\n",
      "\tData/output/tip_positions_chaos_circle6_starting_at_5400.0_sigma_0.001_threshold_0.99_wrapping_true_at_time_1464.9.csv\n",
      "> odd birthdeaths occured with # of births/deaths per event = [ 1  5 -1 -3].<br>\n",
      "> total # of odd birth/death events detected 252.<br>\n",
      "> total # of birth/death events detected 859.<br>\n",
      "> the percent of birth/deaths that were odd was 29.3%.<br>\n",
      "\n",
      "> # of frames with an odd # of spiral tips created/destroyed = 252<br>\n",
      "> # of frames with an odd # of spiral tips existing = 1883<br>\n",
      "> fraction of such frames that are odd births/deaths = 0.1338<br>\n",
      "df_summary saved to Data/tip_log_summaries/odd_tip_log_summary.csv\n",
      "saved odd_timeseries plot to:\n",
      "Figures/odd/odd_timeseries__sigma_4_threshold_0.7_wrapping_true_at_time_5400.0.png\n",
      "saved odd_histogram plot to:\n",
      "Figures/odd/odd_timeseries__sigma_4_threshold_0.7_wrapping_true_at_time_5400.0.png\n",
      "saved odd_histogram plot to:\n",
      "Figures/odd/odd_histogram__sigma_4_threshold_0.7_wrapping_true_at_time_5400.0.png\n",
      "682085 rows appended in 47.968 seconds.\n",
      "the number of null observations in output dataset is 0.\n",
      "tip locations saved to:\n",
      "\tData/output/tip_positions_chaos_circle6_sigma_4_threshold_0.7_wrapping_true_at_time_5400.0.csv\n",
      "> odd birthdeaths occured with # of births/deaths per event = [ 1  3 -1 -3].<br>\n",
      "> total # of odd birth/death events detected 186.<br>\n",
      "> total # of birth/death events detected 837.<br>\n",
      "> the percent of birth/deaths that were odd was 22.2%.<br>\n",
      "\n",
      "> # of frames with an odd # of spiral tips created/destroyed = 186<br>\n",
      "> # of frames with an odd # of spiral tips existing = 1590<br>\n",
      "> fraction of such frames that are odd births/deaths = 0.1170<br>\n",
      "df_summary saved to Data/tip_log_summaries/odd_tip_log_summary.csv\n",
      "saved odd_timeseries plot to:\n",
      "Figures/odd/odd_timeseries__sigma_2_threshold_0.6_wrapping_true_at_time_5400.0.png\n",
      "saved odd_histogram plot to:\n",
      "Figures/odd/odd_timeseries__sigma_2_threshold_0.6_wrapping_true_at_time_5400.0.png\n",
      "saved odd_histogram plot to:\n",
      "Figures/odd/odd_histogram__sigma_2_threshold_0.6_wrapping_true_at_time_5400.0.png\n",
      "700260 rows appended in 47.055 seconds.\n",
      "the number of null observations in output dataset is 0.\n",
      "tip locations saved to:\n",
      "\tData/output/tip_positions_chaos_circle6_sigma_2_threshold_0.6_wrapping_true_at_time_5400.0.csv\n",
      "> odd birthdeaths occured with # of births/deaths per event = [ 1  3  5 -1 -3].<br>\n",
      "> total # of odd birth/death events detected 230.<br>\n",
      "> total # of birth/death events detected 2026.<br>\n",
      "> the percent of birth/deaths that were odd was 11.4%.<br>\n",
      "\n",
      "> # of frames with an odd # of spiral tips created/destroyed = 230<br>\n",
      "> # of frames with an odd # of spiral tips existing = 1947<br>\n",
      "> fraction of such frames that are odd births/deaths = 0.1181<br>\n",
      "df_summary saved to Data/tip_log_summaries/odd_tip_log_summary.csv\n",
      "saved odd_timeseries plot to:\n",
      "Figures/odd/odd_timeseries__sigma_0.001_threshold_0.95_wrapping_true_at_time_1461.1.png\n",
      "saved odd_histogram plot to:\n",
      "Figures/odd/odd_timeseries__sigma_0.001_threshold_0.95_wrapping_true_at_time_1461.1.png\n",
      "saved odd_histogram plot to:\n",
      "Figures/odd/odd_histogram__sigma_0.001_threshold_0.95_wrapping_true_at_time_1461.1.png\n",
      "485539 rows appended in 16.736 seconds.\n",
      "the number of null observations in output dataset is 0.\n",
      "tip locations saved to:\n",
      "\tData/output/tip_positions_chaos_circle6_starting_at_5400.0_sigma_0.001_threshold_0.95_wrapping_true_at_time_1461.1.csv\n",
      "> odd birthdeaths occured with # of births/deaths per event = [ 1  3  5 -1 -5 -3].<br>\n",
      "> total # of odd birth/death events detected 240.<br>\n",
      "> total # of birth/death events detected 2055.<br>\n",
      "> the percent of birth/deaths that were odd was 11.7%.<br>\n",
      "\n",
      "> # of frames with an odd # of spiral tips created/destroyed = 240<br>\n",
      "> # of frames with an odd # of spiral tips existing = 2007<br>\n",
      "> fraction of such frames that are odd births/deaths = 0.1196<br>\n",
      "df_summary saved to Data/tip_log_summaries/odd_tip_log_summary.csv\n",
      "saved odd_timeseries plot to:\n",
      "Figures/odd/odd_timeseries__sigma_0.001_threshold_0.999_wrapping_true_at_time_1468.7.png\n",
      "saved odd_histogram plot to:\n",
      "Figures/odd/odd_timeseries__sigma_0.001_threshold_0.999_wrapping_true_at_time_1468.7.png\n",
      "saved odd_histogram plot to:\n",
      "Figures/odd/odd_histogram__sigma_0.001_threshold_0.999_wrapping_true_at_time_1468.7.png\n",
      "488823 rows appended in 15.216 seconds.\n",
      "the number of null observations in output dataset is 0.\n",
      "tip locations saved to:\n",
      "\tData/output/tip_positions_chaos_circle6_starting_at_5400.0_sigma_0.001_threshold_0.999_wrapping_true_at_time_1468.7.csv\n",
      "Progress: |██████████████████████████████████████████████████| 100.0% Complete\n"
     ]
    },
    {
     "ename": "TypeError",
     "evalue": "unsupported operand type(s) for -: 'float' and 'builtin_function_or_method'",
     "output_type": "error",
     "traceback": [
      "\u001b[0;31m---------------------------------------------------------------------------\u001b[0m",
      "\u001b[0;31mTypeError\u001b[0m                                 Traceback (most recent call last)",
      "\u001b[0;32m<ipython-input-2-6613b9ae9535>\u001b[0m in \u001b[0;36m<module>\u001b[0;34m\u001b[0m\n\u001b[1;32m     13\u001b[0m             \u001b[0m_\u001b[0m \u001b[0;34m=\u001b[0m \u001b[0mprocess_tip_log\u001b[0m\u001b[0;34m(\u001b[0m\u001b[0mdata_dir\u001b[0m\u001b[0;34m,\u001b[0m \u001b[0mverbose\u001b[0m\u001b[0;34m=\u001b[0m\u001b[0;32mTrue\u001b[0m\u001b[0;34m)\u001b[0m\u001b[0;34m\u001b[0m\u001b[0;34m\u001b[0m\u001b[0m\n\u001b[1;32m     14\u001b[0m         \u001b[0mprintProgressBar\u001b[0m\u001b[0;34m(\u001b[0m\u001b[0mi\u001b[0m \u001b[0;34m+\u001b[0m \u001b[0;36m1\u001b[0m\u001b[0;34m,\u001b[0m \u001b[0mlen\u001b[0m\u001b[0;34m(\u001b[0m\u001b[0mdirs\u001b[0m\u001b[0;34m)\u001b[0m\u001b[0;34m,\u001b[0m \u001b[0mprefix\u001b[0m \u001b[0;34m=\u001b[0m \u001b[0;34m'Progress:'\u001b[0m\u001b[0;34m,\u001b[0m \u001b[0msuffix\u001b[0m \u001b[0;34m=\u001b[0m \u001b[0;34m'Complete'\u001b[0m\u001b[0;34m,\u001b[0m \u001b[0mlength\u001b[0m \u001b[0;34m=\u001b[0m \u001b[0;36m50\u001b[0m\u001b[0;34m)\u001b[0m\u001b[0;34m;\u001b[0m \u001b[0mi\u001b[0m \u001b[0;34m+=\u001b[0m \u001b[0;36m1\u001b[0m\u001b[0;34m\u001b[0m\u001b[0;34m\u001b[0m\u001b[0m\n\u001b[0;32m---> 15\u001b[0;31m \u001b[0mprint\u001b[0m\u001b[0;34m(\u001b[0m\u001b[0;34mf'\\n\\tlogging completed in {time.time()-start:.2f}'\u001b[0m\u001b[0;34m)\u001b[0m\u001b[0;34m\u001b[0m\u001b[0;34m\u001b[0m\u001b[0m\n\u001b[0m",
      "\u001b[0;31mTypeError\u001b[0m: unsupported operand type(s) for -: 'float' and 'builtin_function_or_method'"
     ]
    }
   ],
   "source": [
    "# print list of input files using os.walk\n",
    "start = time.time; i = 0\n",
    "for root, dirs, files in os.walk(\"Data/input\", topdown=False):\n",
    "    print(f\"processing {len(files)} logs files...\\n\")\n",
    "    for name in files:\n",
    "        data_dir = os.path.join(root, name)\n",
    "        if data_dir[-4:] =='.csv':\n",
    "            _ = process_tip_log(data_dir, verbose=True)\n",
    "        printProgressBar(i + 1, len(files), prefix = 'Progress:', suffix = 'Complete', length = 50); i += 1\n",
    "    for name in dirs:\n",
    "        data_dir = os.path.join(root, name)\n",
    "        if data_dir[-4:] =='.csv':\n",
    "            _ = process_tip_log(data_dir, verbose=True)\n",
    "        printProgressBar(i + 1, len(dirs), prefix = 'Progress:', suffix = 'Complete', length = 50); i += 1\n",
    "print(f'\\n\\tlogging completed in {time.time()-start:.2f}')"
   ]
  },
  {
   "cell_type": "code",
   "execution_count": 4,
   "metadata": {
    "ExecuteTime": {
     "end_time": "2020-05-29T02:03:30.807159Z",
     "start_time": "2020-05-29T02:03:30.803480Z"
    }
   },
   "outputs": [],
   "source": [
    "import matplotlib.pyplot as plt\n",
    "\n",
    "plt.close('all')"
   ]
  },
  {
   "cell_type": "code",
   "execution_count": 7,
   "metadata": {
    "ExecuteTime": {
     "end_time": "2020-05-29T02:29:33.563074Z",
     "start_time": "2020-05-29T02:28:12.201868Z"
    }
   },
   "outputs": [
    {
     "name": "stdout",
     "output_type": "stream",
     "text": [
      "> odd birthdeaths occured with # of births/deaths per event = [ 1  5 -1 -3].<br>\n",
      "> total # of odd birth/death events detected 252.<br>\n",
      "> total # of birth/death events detected 859.<br>\n",
      "> the percent of birth/deaths that were odd was 29.3%.<br>\n",
      "\n",
      "> # of frames with an odd # of spiral tips created/destroyed = 252<br>\n",
      "> # of frames with an odd # of spiral tips existing = 1883<br>\n",
      "> fraction of such frames that are odd births/deaths = 0.1338<br>\n",
      "df_summary saved to Data/tip_log_summaries/odd_tip_log_summary.csv\n",
      "saved odd_timeseries plot to:\n",
      "Figures/odd/odd_timeseries__sigma_4_threshold_0.7_wrapping_true_at_time_5400.0.png\n",
      "saved odd_histogram plot to:\n",
      "Figures/odd/odd_timeseries__sigma_4_threshold_0.7_wrapping_true_at_time_5400.0.png\n",
      "saved odd_histogram plot to:\n",
      "Figures/odd/odd_histogram__sigma_4_threshold_0.7_wrapping_true_at_time_5400.0.png\n",
      "682085 rows appended in 54.187 seconds.\n",
      "the number of null observations in output dataset is 0.\n",
      "tip locations saved to:\n",
      "\tData/tip_positions_chaos_circle6_sigma_4_threshold_0.7_wrapping_true_at_time_5400.0.csv\n"
     ]
    }
   ],
   "source": [
    "# %timeit\n",
    "# data_dir = 'Data/tip_log_chaos_circle6_sigma_4_threshold_0.7_wrapping_true_at_time_5400.0.csv'\n",
    "# _ = process_tip_log(data_dir, verbose=True)"
   ]
  },
  {
   "cell_type": "code",
   "execution_count": 13,
   "metadata": {
    "ExecuteTime": {
     "end_time": "2020-05-29T02:31:21.953794Z",
     "start_time": "2020-05-29T02:31:21.950754Z"
    }
   },
   "outputs": [],
   "source": [
    "try:\n",
    "    printProgressBar(1, 0, prefix = 'Progress:', suffix = 'Complete', length = 50); i += 1\n",
    "except:\n",
    "    pass"
   ]
  },
  {
   "cell_type": "markdown",
   "metadata": {},
   "source": [
    "# quick! post process"
   ]
  },
  {
   "cell_type": "code",
   "execution_count": null,
   "metadata": {},
   "outputs": [],
   "source": [
    "Data/tip_log_chaos_circle6_starting_at_5400.0_sigma_0.001_threshold_0.999_wrapping_true_at_time_1468.7.csv\n",
    "Data/tip_log_chaos_circle6_starting_at_5400.0_sigma_0.001_threshold_0.99_wrapping_true_at_time_1464.9.csv\n",
    "Data/tip_log_chaos_circle6_starting_at_5400.0_sigma_0.001_threshold_0.95_wrapping_true_at_time_1461.1.csv\n",
    "Data/tip_log_chaos_circle6_starting_at_5400.0_sigma_0.1_threshold_0.95_wrapping_true_at_time_1485.2.csv\n",
    "'Data/tip_log_chaos_circle6_starting_at_5400.0_sigma_0.01_threshold_0.95_wrapping_true_at_time_1455.7.csv'"
   ]
  }
 ],
 "metadata": {
  "kernelspec": {
   "display_name": "Python 3",
   "language": "python",
   "name": "python3"
  },
  "language_info": {
   "codemirror_mode": {
    "name": "ipython",
    "version": 3
   },
   "file_extension": ".py",
   "mimetype": "text/x-python",
   "name": "python",
   "nbconvert_exporter": "python",
   "pygments_lexer": "ipython3",
   "version": "3.7.7"
  },
  "varInspector": {
   "cols": {
    "lenName": 16,
    "lenType": 16,
    "lenVar": 40
   },
   "kernels_config": {
    "python": {
     "delete_cmd_postfix": "",
     "delete_cmd_prefix": "del ",
     "library": "var_list.py",
     "varRefreshCmd": "print(var_dic_list())"
    },
    "r": {
     "delete_cmd_postfix": ") ",
     "delete_cmd_prefix": "rm(",
     "library": "var_list.r",
     "varRefreshCmd": "cat(var_dic_list()) "
    }
   },
   "types_to_exclude": [
    "module",
    "function",
    "builtin_function_or_method",
    "instance",
    "_Feature"
   ],
   "window_display": false
  }
 },
 "nbformat": 4,
 "nbformat_minor": 2
}
