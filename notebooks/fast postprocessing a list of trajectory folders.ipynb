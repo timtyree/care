{
 "cells": [
  {
   "cell_type": "markdown",
   "id": "e2413b0f",
   "metadata": {},
   "source": [
    "# fast postprocessing a list of trajectory folders\n",
    "Tim Tyree<br>\n",
    "9.30.2021"
   ]
  },
  {
   "cell_type": "code",
   "execution_count": 1,
   "id": "1954b0ad",
   "metadata": {
    "ExecuteTime": {
     "end_time": "2021-10-07T21:51:55.767493Z",
     "start_time": "2021-10-07T21:51:54.233310Z"
    }
   },
   "outputs": [],
   "source": [
    "from lib.my_initialization import *\n",
    "from lib import *\n",
    "# from lib.measure.unwrap_and_smooth_cu import *\n",
    "# from lib.routines.unwrap_and_smooth_trajectories_cu import *\n",
    "from lib.rapids_func import *\n",
    "import cupy as cp, cudf, numba.cuda as cuda\n",
    "import rmm\n",
    "# Switch to RMM allocator\n",
    "cp.cuda.set_allocator(rmm.rmm_cupy_allocator)"
   ]
  },
  {
   "cell_type": "code",
   "execution_count": 2,
   "id": "cda14788",
   "metadata": {
    "ExecuteTime": {
     "end_time": "2021-10-07T21:51:55.770634Z",
     "start_time": "2021-10-07T21:51:55.768481Z"
    }
   },
   "outputs": [],
   "source": [
    "# from lib.rapids_func.measure.annihilations_cu import routine_compute_radial_velocities_pbc_cu"
   ]
  },
  {
   "cell_type": "code",
   "execution_count": 3,
   "id": "aec80e6e",
   "metadata": {
    "ExecuteTime": {
     "end_time": "2021-10-07T21:51:55.782746Z",
     "start_time": "2021-10-07T21:51:55.772283Z"
    }
   },
   "outputs": [],
   "source": [
    "# from lib.rapids_func.measure.annihilations_cu import *\n",
    "# routine_compute_radial_velocities_pbc_cu"
   ]
  },
  {
   "cell_type": "code",
   "execution_count": null,
   "id": "34daab61",
   "metadata": {
    "ExecuteTime": {
     "end_time": "2021-10-07T03:58:11.725661Z",
     "start_time": "2021-10-07T03:58:11.715050Z"
    }
   },
   "outputs": [],
   "source": []
  },
  {
   "cell_type": "code",
   "execution_count": 4,
   "id": "d7494e1c",
   "metadata": {
    "ExecuteTime": {
     "end_time": "2021-10-07T21:51:55.791025Z",
     "start_time": "2021-10-07T21:51:55.784072Z"
    }
   },
   "outputs": [],
   "source": [
    "darkmode=False\n",
    "if darkmode:\n",
    "    # For darkmode plots\n",
    "    from jupyterthemes import jtplot\n",
    "    jtplot.style(theme='monokai', context='notebook', ticks=True, grid=False)"
   ]
  },
  {
   "cell_type": "markdown",
   "id": "4e081e1f",
   "metadata": {},
   "source": [
    "# Postprocessing trajectories from the full models"
   ]
  },
  {
   "cell_type": "code",
   "execution_count": 5,
   "id": "e38f67fe",
   "metadata": {
    "ExecuteTime": {
     "end_time": "2021-10-07T21:51:55.796648Z",
     "start_time": "2021-10-07T21:51:55.791941Z"
    }
   },
   "outputs": [],
   "source": [
    "input_fn_lst = [\n",
    "    '/home/timothytyree/Documents/GitHub/care/notebooks/Data/initial-conditions-fk-200x200/param_set_8_ds_5.0_tmax_10_diffCoef_0.0005/Log/ic200x200.0.2_traj_sr_400_mem_0.csv',\n",
    "    '/home/timothytyree/Documents/GitHub/care/notebooks/Data/initial-conditions-suite-3-LR/param_qu_tmax_30_Ko_5.4_diffCoef_0.0005_dt_0.5/trajectories/ic002.11_traj_sr_600_mem_0.csv',\n",
    "    '/home/timothytyree/Documents/GitHub/care/notebooks/Data/initial-conditions-fk-200x200/param_set_8_ds_5.0_tmax_30_diffCoef_0.001_dt_0.025/trajectories/ic200x200.0.8_traj_sr_600_mem_0.csv',\n",
    "    '/home/timothytyree/Documents/GitHub/care/notebooks/Data/initial-conditions-suite-3-LR/param_qu_tmax_30_Ko_5.4_diffCoef_0.0005_dt_0.025_Vthresh_-40/trajectories/ic002.22_traj_sr_600_mem_0.csv',\n",
    "    '/home/timothytyree/Documents/GitHub/care/notebooks/Data/initial-conditions-suite-3-LR/param_qu_tmax_30_Ko_5.4_diffCoef_0.0005_dt_0.025/trajectories/ic001.33_traj_sr_600_mem_0.csv',\n",
    "    '/home/timothytyree/Documents/GitHub/care/notebooks/Data/initial-conditions-suite-3-LR/ds_5_param_qu_tmax_30_Ko_5.4_diffCoef_0.001/trajectories/ic001.22_traj_sr_400_mem_0.csv',\n",
    "    '/home/timothytyree/Documents/GitHub/care/notebooks/Data/initial-conditions-suite-2/ds_5_param_set_8_fastkernel_V_0.4/trajectories/ic_200x200.001.12_traj_sr_400_mem_2.csv',\n",
    "    '/home/timothytyree/Documents/GitHub/care/notebooks/Data/initial-conditions-suite-2/ds_5_param_set_8_fastkernel_V_0.5/trajectories/ic_200x200.001.21_traj_sr_400_mem_2.csv',\n",
    "    '/home/timothytyree/Documents/GitHub/care/notebooks/Data/initial-conditions-suite-2/ds_5_param_set_8_fastkernel_V_0.6/trajectories/ic_200x200.001.23_traj_sr_400_mem_2.csv'\n",
    "]"
   ]
  },
  {
   "cell_type": "code",
   "execution_count": 6,
   "id": "5240ebbb",
   "metadata": {
    "ExecuteTime": {
     "end_time": "2021-10-07T21:51:55.803933Z",
     "start_time": "2021-10-07T21:51:55.797831Z"
    }
   },
   "outputs": [],
   "source": [
    "# input_fn=search_for_file()\n",
    "# input_fn_lst.append(input_fn)\n",
    "# print(input_fn_lst)"
   ]
  },
  {
   "cell_type": "code",
   "execution_count": 7,
   "id": "dfed3c44",
   "metadata": {
    "ExecuteTime": {
     "end_time": "2021-10-07T22:09:56.849475Z",
     "start_time": "2021-10-07T21:51:55.805420Z"
    }
   },
   "outputs": [
    {
     "name": "stdout",
     "output_type": "stream",
     "text": [
      "DT=0.4 ms\n",
      "running return_moving_average_of_pbc_trajectories_and_save on 648 files...\n",
      "the run time was 1.51 minutes.\n",
      "the number of successfully smoothed trajectory files was 324\n",
      "Warning: duplicate particles detected but not removed!  TODO: Implement the 3 comments above!\n",
      "the run time was 0.89 minutes.\n",
      "the number of trajectory files processed to annihilation files was 324\n",
      "DT=0.5 ms\n",
      "running return_moving_average_of_pbc_trajectories_and_save on 159 files...\n",
      "the run time was 1.85 minutes.\n",
      "the number of successfully smoothed trajectory files was 157\n",
      "Warning: duplicate particles detected but not removed!  TODO: Implement the 3 comments above!\n",
      "Warning: duplicate particles detected but not removed!  TODO: Implement the 3 comments above!\n",
      "Warning: duplicate particles detected but not removed!  TODO: Implement the 3 comments above!\n",
      "Warning: duplicate particles detected but not removed!  TODO: Implement the 3 comments above!\n",
      "the run time was 0.69 minutes.\n",
      "the number of trajectory files processed to annihilation files was 157\n",
      "DT=0.025 ms\n",
      "running return_moving_average_of_pbc_trajectories_and_save on 324 files...\n",
      "the run time was 1.54 minutes.\n",
      "the number of successfully smoothed trajectory files was 322\n",
      "the run time was 1.20 minutes.\n",
      "the number of trajectory files processed to annihilation files was 322\n",
      "DT=0.025 ms\n",
      "running return_moving_average_of_pbc_trajectories_and_save on 32 files...\n",
      "the run time was 0.46 minutes.\n",
      "the number of successfully smoothed trajectory files was 27\n",
      "the run time was 0.10 minutes.\n",
      "the number of trajectory files processed to annihilation files was 27\n",
      "DT=0.025 ms\n",
      "running return_moving_average_of_pbc_trajectories_and_save on 125 files...\n",
      "the run time was 2.00 minutes.\n",
      "the number of successfully smoothed trajectory files was 123\n",
      "the run time was 0.43 minutes.\n",
      "the number of trajectory files processed to annihilation files was 123\n",
      "DT=2.0 ms\n",
      "running return_moving_average_of_pbc_trajectories_and_save on 168 files...\n",
      "the run time was 0.37 minutes.\n",
      "the number of successfully smoothed trajectory files was 167\n",
      "the run time was 0.35 minutes.\n",
      "the number of trajectory files processed to annihilation files was 167\n",
      "DT=nan ms\n",
      "running return_moving_average_of_pbc_trajectories_and_save on 342 files...\n",
      "the run time was 0.04 minutes.\n",
      "the number of successfully smoothed trajectory files was 0\n",
      "the run time was 0.04 minutes.\n",
      "the number of trajectory files processed to annihilation files was 0\n",
      "DT=1.0 ms\n",
      "running return_moving_average_of_pbc_trajectories_and_save on 171 files...\n",
      "the run time was 2.27 minutes.\n",
      "the number of successfully smoothed trajectory files was 171\n",
      "Warning: duplicate particles detected but not removed!  TODO: Implement the 3 comments above!\n",
      "Warning: duplicate particles detected but not removed!  TODO: Implement the 3 comments above!\n",
      "Warning: duplicate particles detected but not removed!  TODO: Implement the 3 comments above!\n",
      "Warning: duplicate particles detected but not removed!  TODO: Implement the 3 comments above!\n",
      "Warning: duplicate particles detected but not removed!  TODO: Implement the 3 comments above!\n",
      "Warning: duplicate particles detected but not removed!  TODO: Implement the 3 comments above!\n",
      "Warning: duplicate particles detected but not removed!  TODO: Implement the 3 comments above!\n",
      "Warning: duplicate particles detected but not removed!  TODO: Implement the 3 comments above!\n",
      "the run time was 0.78 minutes.\n",
      "the number of trajectory files processed to annihilation files was 171\n",
      "DT=1.0 ms\n",
      "running return_moving_average_of_pbc_trajectories_and_save on 171 files...\n",
      "the run time was 2.48 minutes.\n",
      "the number of successfully smoothed trajectory files was 171\n",
      "Warning: duplicate particles detected but not removed!  TODO: Implement the 3 comments above!\n",
      "Warning: duplicate particles detected but not removed!  TODO: Implement the 3 comments above!\n",
      "Warning: duplicate particles detected but not removed!  TODO: Implement the 3 comments above!\n",
      "Warning: duplicate particles detected but not removed!  TODO: Implement the 3 comments above!\n",
      "Warning: duplicate particles detected but not removed!  TODO: Implement the 3 comments above!\n",
      "the run time was 0.91 minutes.\n",
      "the number of trajectory files processed to annihilation files was 171\n"
     ]
    }
   ],
   "source": [
    "for input_fn in input_fn_lst:\n",
    "    df=pd.read_csv(input_fn)\n",
    "    DT=np.around(get_DT(df),7)\n",
    "    print(f\"DT={DT} ms\")\n",
    "    retval=routine_postprocess_trajectory_folder(input_fn,DT,tavg1=4, tavg2=24,\n",
    "                                            max_dtmax_thresh = 0,      #ms\n",
    "                                            max_Rfinal_thresh = 0.2,   #cm\n",
    "                                            min_duration_thresh = 40,  #ms\n",
    "                                            npartitions=None,\n",
    "                                            width=200,\n",
    "                                            height=200,\n",
    "                                            ds=5,\n",
    "                                            use_drop_shorter_than=True,\n",
    "                                            drop_shorter_than=40, #ms\n",
    "                                            tmin=100., #ms\n",
    "                                            pid_col='particle',\n",
    "                                            t_col='t',\n",
    "                                            printing=False)\n",
    "    save_dir_lst,save_dir_lst2=retval"
   ]
  },
  {
   "cell_type": "code",
   "execution_count": null,
   "id": "cb1a7db7",
   "metadata": {
    "ExecuteTime": {
     "end_time": "2021-10-07T04:15:20.792461Z",
     "start_time": "2021-10-07T04:15:20.789319Z"
    }
   },
   "outputs": [],
   "source": []
  },
  {
   "cell_type": "code",
   "execution_count": 8,
   "id": "bd8d4087",
   "metadata": {
    "ExecuteTime": {
     "end_time": "2021-10-07T22:09:56.854319Z",
     "start_time": "2021-10-07T22:09:56.850728Z"
    }
   },
   "outputs": [
    {
     "name": "stdout",
     "output_type": "stream",
     "text": [
      "[] []\n"
     ]
    }
   ],
   "source": [
    "sus_lst=[1 for x in save_dir_lst if x is None]\n",
    "sus_lst2=[1 for x in save_dir_lst2 if x is None]\n",
    "print(sus_lst,sus_lst2)"
   ]
  },
  {
   "cell_type": "code",
   "execution_count": null,
   "id": "4104e556",
   "metadata": {},
   "outputs": [],
   "source": []
  },
  {
   "cell_type": "markdown",
   "id": "8bd6b0db",
   "metadata": {},
   "source": [
    "# Postprocessing trajectories from the particle model"
   ]
  },
  {
   "cell_type": "code",
   "execution_count": 9,
   "id": "714af9ac",
   "metadata": {
    "ExecuteTime": {
     "end_time": "2021-10-07T22:09:56.862825Z",
     "start_time": "2021-10-07T22:09:56.855720Z"
    }
   },
   "outputs": [],
   "source": [
    "input_fn_lst = reversed([\n",
    "    '/home/timothytyree/Documents/GitHub/bgmc/python/data/local_results/euic_False_fc_2_r_0.1_D_0_L_10_kappa_0_varkappa_0/Log/pbc_particle_log1_log.csv',\n",
    "    '/home/timothytyree/Documents/GitHub/bgmc/python/data/local_results/euic_False_fc_2_r_0.1_D_0_L_10_kappa_1500_varkappa_5/Log/pbc_particle_log2_log.csv',\n",
    "    '/home/timothytyree/Documents/GitHub/bgmc/python/data/local_results/euic_False_fc_2_r_0.1_D_2_L_10_kappa_0_varkappa_0/Log/pbc_particle_log5_log.csv',\n",
    "    '/home/timothytyree/Documents/GitHub/bgmc/python/data/local_results/euic_False_fc_2_r_0.1_D_2_L_10_kappa_1500_varkappa_0/Log/pbc_particle_log5_log.csv',\n",
    "    '/home/timothytyree/Documents/GitHub/bgmc/python/data/local_results/euic_False_fc_2_r_0.1_D_2_L_10_kappa_1500_varkappa_5/Log/pbc_particle_log5_log.csv'\n",
    "])\n",
    "\n",
    "\n",
    "# folder=f'/home/timothytyree/Documents/GitHub/bgmc/python/data/local_results'\n",
    "# input_fn=search_for_file(folder)\n",
    "# input_fn_lst.append(input_fn)\n",
    "# print(input_fn_lst)"
   ]
  },
  {
   "cell_type": "code",
   "execution_count": 10,
   "id": "e24fc05d",
   "metadata": {
    "ExecuteTime": {
     "end_time": "2021-10-07T22:13:16.193507Z",
     "start_time": "2021-10-07T22:09:56.863987Z"
    }
   },
   "outputs": [
    {
     "name": "stdout",
     "output_type": "stream",
     "text": [
      "DT=0.25 ms\n",
      "running return_moving_average_of_pbc_trajectories_and_save on 200 files...\n",
      "the run time was 0.20 minutes.\n",
      "the number of successfully smoothed trajectory files was 200\n",
      "the run time was 0.51 minutes.\n",
      "the number of trajectory files processed to annihilation files was 200\n",
      "DT=0.25 ms\n",
      "running return_moving_average_of_pbc_trajectories_and_save on 200 files...\n",
      "the run time was 0.28 minutes.\n",
      "the number of successfully smoothed trajectory files was 200\n",
      "the run time was 0.58 minutes.\n",
      "the number of trajectory files processed to annihilation files was 200\n",
      "DT=0.25 ms\n",
      "running return_moving_average_of_pbc_trajectories_and_save on 200 files...\n",
      "the run time was 0.30 minutes.\n",
      "the number of successfully smoothed trajectory files was 200\n",
      "the run time was 0.36 minutes.\n",
      "the number of trajectory files processed to annihilation files was 200\n",
      "DT=0.25 ms\n",
      "running return_moving_average_of_pbc_trajectories_and_save on 200 files...\n",
      "the run time was 0.21 minutes.\n",
      "the number of successfully smoothed trajectory files was 200\n",
      "the run time was 0.55 minutes.\n",
      "the number of trajectory files processed to annihilation files was 200\n",
      "DT=0.25 ms\n",
      "running return_moving_average_of_pbc_trajectories_and_save on 50 files...\n",
      "the run time was 0.17 minutes.\n",
      "the number of successfully smoothed trajectory files was 50\n",
      "the run time was 0.15 minutes.\n",
      "the number of trajectory files processed to annihilation files was 50\n"
     ]
    }
   ],
   "source": [
    "pid_col='pid_explicit'\n",
    "for input_fn in input_fn_lst:\n",
    "    df=pd.read_csv(input_fn)\n",
    "    DT=np.around(get_DT(df,pid_col=pid_col),7)\n",
    "    print(f\"DT={DT} ms\")\n",
    "    retval=routine_postprocess_trajectory_folder(input_fn,DT,tavg1=4, tavg2=14,\n",
    "                                            max_dtmax_thresh = 0,      #ms\n",
    "                                            max_Rfinal_thresh = 0.2,   #cm\n",
    "                                            min_duration_thresh = 15,  #ms\n",
    "                                            npartitions=None,\n",
    "                                            width=10,\n",
    "                                            height=10,\n",
    "                                            ds=10,\n",
    "                                            use_drop_shorter_than=False,\n",
    "                                            drop_shorter_than=0, #ms\n",
    "                                            tmin=0., #ms\n",
    "                                            pid_col=pid_col,\n",
    "                                            t_col='t',\n",
    "                                            printing=False)\n",
    "    save_dir_lst,save_dir_lst2=retval"
   ]
  },
  {
   "cell_type": "code",
   "execution_count": 11,
   "id": "3a60f05f",
   "metadata": {
    "ExecuteTime": {
     "end_time": "2021-10-07T22:13:16.197916Z",
     "start_time": "2021-10-07T22:13:16.194815Z"
    }
   },
   "outputs": [
    {
     "name": "stdout",
     "output_type": "stream",
     "text": [
      "[] []\n"
     ]
    }
   ],
   "source": [
    "sus_lst=[1 for x in save_dir_lst if x is None]\n",
    "sus_lst2=[1 for x in save_dir_lst2 if x is None]\n",
    "print(sus_lst,sus_lst2)"
   ]
  },
  {
   "cell_type": "code",
   "execution_count": null,
   "id": "5a08184d",
   "metadata": {},
   "outputs": [],
   "source": []
  },
  {
   "cell_type": "code",
   "execution_count": null,
   "id": "b86c4115",
   "metadata": {},
   "outputs": [],
   "source": []
  },
  {
   "cell_type": "code",
   "execution_count": 12,
   "id": "048db30c",
   "metadata": {
    "ExecuteTime": {
     "end_time": "2021-10-07T22:13:16.210642Z",
     "start_time": "2021-10-07T22:13:16.200343Z"
    }
   },
   "outputs": [],
   "source": [
    "input_fn='/home/timothytyree/Documents/GitHub/bgmc/python/data/local_results/euic_False_fc_2_r_0.1_D_2_L_10_kappa_1500_varkappa_5/smoothed_trajectories_tavg_4/pbc_particle_log11_log_smoothed.csv'"
   ]
  },
  {
   "cell_type": "code",
   "execution_count": 13,
   "id": "174cc3e9",
   "metadata": {
    "ExecuteTime": {
     "end_time": "2021-10-07T22:13:17.806738Z",
     "start_time": "2021-10-07T22:13:16.211919Z"
    }
   },
   "outputs": [
    {
     "data": {
      "text/plain": [
       "'/home/timothytyree/Documents/GitHub/bgmc/python/data/local_results/euic_False_fc_2_r_0.1_D_2_L_10_kappa_1500_varkappa_5/smoothed_annihilations_tavg1_4.0_tavg2_14.25_maxdtmax_0_maxRfin_0.1_mindur_15/pbc_particle_log11_log_smoothed_annihilations_denoised.csv'"
      ]
     },
     "execution_count": 13,
     "metadata": {},
     "output_type": "execute_result"
    }
   ],
   "source": [
    "routine_compute_radial_velocities_pbc_cu(input_fn,\n",
    "                                     tavg2=14,\n",
    "                                     width=10,  #for handling periodic boundary conditions (pbc)\n",
    "                                     height=10, #for handling periodic boundary conditions (pbc)\n",
    "                                     ds=10,     #domain size in cm.  set to width to have nulled effect\n",
    "                                     max_dtmax_thresh = 0,      #ms\n",
    "                                     max_Rfinal_thresh = 0.1,   #cm\n",
    "                                     min_duration_thresh = 15,  #ms\n",
    "                                     round_t_to_n_digits=7,\n",
    "                                     trial_col='event_id_int',  #TODO: generalize kwarg handling of trial_col\n",
    "                                     pid_col='pid_explicit',\n",
    "                                     t_col='t',\n",
    "                                     use_tavg2=True,\n",
    "                                     save_df_pairs=True,\n",
    "                                     printing=False,\n",
    "                                     testing=True)"
   ]
  },
  {
   "cell_type": "code",
   "execution_count": 14,
   "id": "6ba428cd",
   "metadata": {
    "ExecuteTime": {
     "end_time": "2021-10-07T22:13:17.835184Z",
     "start_time": "2021-10-07T22:13:17.807722Z"
    }
   },
   "outputs": [
    {
     "data": {
      "text/html": [
       "<div>\n",
       "<style scoped>\n",
       "    .dataframe tbody tr th:only-of-type {\n",
       "        vertical-align: middle;\n",
       "    }\n",
       "\n",
       "    .dataframe tbody tr th {\n",
       "        vertical-align: top;\n",
       "    }\n",
       "\n",
       "    .dataframe thead th {\n",
       "        text-align: right;\n",
       "    }\n",
       "</style>\n",
       "<table border=\"1\" class=\"dataframe\">\n",
       "  <thead>\n",
       "    <tr style=\"text-align: right;\">\n",
       "      <th></th>\n",
       "      <th>event_id_int</th>\n",
       "      <th>pid_self</th>\n",
       "      <th>pid_other</th>\n",
       "      <th>index</th>\n",
       "      <th>t</th>\n",
       "      <th>R</th>\n",
       "      <th>index_pairs</th>\n",
       "      <th>index_self</th>\n",
       "      <th>index_other</th>\n",
       "      <th>x_self</th>\n",
       "      <th>y_self</th>\n",
       "      <th>x_other</th>\n",
       "      <th>y_other</th>\n",
       "      <th>R_nosavgol</th>\n",
       "      <th>tdeath</th>\n",
       "    </tr>\n",
       "  </thead>\n",
       "  <tbody>\n",
       "    <tr>\n",
       "      <th>0</th>\n",
       "      <td>111</td>\n",
       "      <td>3</td>\n",
       "      <td>2</td>\n",
       "      <td>350</td>\n",
       "      <td>0.00</td>\n",
       "      <td>4.124346</td>\n",
       "      <td>1</td>\n",
       "      <td>3</td>\n",
       "      <td>2</td>\n",
       "      <td>2.260345</td>\n",
       "      <td>3.690236</td>\n",
       "      <td>7.245564</td>\n",
       "      <td>2.464959</td>\n",
       "      <td>5.133587</td>\n",
       "      <td>1572.75</td>\n",
       "    </tr>\n",
       "    <tr>\n",
       "      <th>1</th>\n",
       "      <td>111</td>\n",
       "      <td>3</td>\n",
       "      <td>2</td>\n",
       "      <td>351</td>\n",
       "      <td>0.25</td>\n",
       "      <td>4.129769</td>\n",
       "      <td>1</td>\n",
       "      <td>19</td>\n",
       "      <td>18</td>\n",
       "      <td>2.255592</td>\n",
       "      <td>3.715496</td>\n",
       "      <td>7.246972</td>\n",
       "      <td>2.407531</td>\n",
       "      <td>5.159907</td>\n",
       "      <td>1572.50</td>\n",
       "    </tr>\n",
       "    <tr>\n",
       "      <th>2</th>\n",
       "      <td>111</td>\n",
       "      <td>3</td>\n",
       "      <td>2</td>\n",
       "      <td>352</td>\n",
       "      <td>0.50</td>\n",
       "      <td>4.135220</td>\n",
       "      <td>1</td>\n",
       "      <td>35</td>\n",
       "      <td>34</td>\n",
       "      <td>2.252711</td>\n",
       "      <td>3.728793</td>\n",
       "      <td>7.237700</td>\n",
       "      <td>2.419068</td>\n",
       "      <td>5.154172</td>\n",
       "      <td>1572.25</td>\n",
       "    </tr>\n",
       "    <tr>\n",
       "      <th>3</th>\n",
       "      <td>111</td>\n",
       "      <td>3</td>\n",
       "      <td>2</td>\n",
       "      <td>353</td>\n",
       "      <td>0.75</td>\n",
       "      <td>4.141164</td>\n",
       "      <td>1</td>\n",
       "      <td>51</td>\n",
       "      <td>50</td>\n",
       "      <td>2.284883</td>\n",
       "      <td>3.755425</td>\n",
       "      <td>7.246122</td>\n",
       "      <td>2.425278</td>\n",
       "      <td>5.136456</td>\n",
       "      <td>1572.00</td>\n",
       "    </tr>\n",
       "    <tr>\n",
       "      <th>4</th>\n",
       "      <td>111</td>\n",
       "      <td>3</td>\n",
       "      <td>2</td>\n",
       "      <td>354</td>\n",
       "      <td>1.00</td>\n",
       "      <td>4.148696</td>\n",
       "      <td>1</td>\n",
       "      <td>67</td>\n",
       "      <td>66</td>\n",
       "      <td>2.298194</td>\n",
       "      <td>3.766673</td>\n",
       "      <td>7.246516</td>\n",
       "      <td>2.454145</td>\n",
       "      <td>5.119435</td>\n",
       "      <td>1571.75</td>\n",
       "    </tr>\n",
       "    <tr>\n",
       "      <th>...</th>\n",
       "      <td>...</td>\n",
       "      <td>...</td>\n",
       "      <td>...</td>\n",
       "      <td>...</td>\n",
       "      <td>...</td>\n",
       "      <td>...</td>\n",
       "      <td>...</td>\n",
       "      <td>...</td>\n",
       "      <td>...</td>\n",
       "      <td>...</td>\n",
       "      <td>...</td>\n",
       "      <td>...</td>\n",
       "      <td>...</td>\n",
       "      <td>...</td>\n",
       "      <td>...</td>\n",
       "    </tr>\n",
       "    <tr>\n",
       "      <th>6637</th>\n",
       "      <td>111</td>\n",
       "      <td>14</td>\n",
       "      <td>11</td>\n",
       "      <td>345</td>\n",
       "      <td>86.25</td>\n",
       "      <td>4.113905</td>\n",
       "      <td>0</td>\n",
       "      <td>3448</td>\n",
       "      <td>3447</td>\n",
       "      <td>9.499142</td>\n",
       "      <td>9.700434</td>\n",
       "      <td>9.393116</td>\n",
       "      <td>9.524863</td>\n",
       "      <td>0.205102</td>\n",
       "      <td>1.00</td>\n",
       "    </tr>\n",
       "    <tr>\n",
       "      <th>6638</th>\n",
       "      <td>111</td>\n",
       "      <td>14</td>\n",
       "      <td>11</td>\n",
       "      <td>346</td>\n",
       "      <td>86.50</td>\n",
       "      <td>4.114758</td>\n",
       "      <td>0</td>\n",
       "      <td>3454</td>\n",
       "      <td>3453</td>\n",
       "      <td>9.465365</td>\n",
       "      <td>9.660836</td>\n",
       "      <td>9.346534</td>\n",
       "      <td>9.521122</td>\n",
       "      <td>0.183413</td>\n",
       "      <td>0.75</td>\n",
       "    </tr>\n",
       "    <tr>\n",
       "      <th>6639</th>\n",
       "      <td>111</td>\n",
       "      <td>14</td>\n",
       "      <td>11</td>\n",
       "      <td>347</td>\n",
       "      <td>86.75</td>\n",
       "      <td>4.115191</td>\n",
       "      <td>0</td>\n",
       "      <td>3460</td>\n",
       "      <td>3459</td>\n",
       "      <td>9.421797</td>\n",
       "      <td>9.632707</td>\n",
       "      <td>9.396446</td>\n",
       "      <td>9.542200</td>\n",
       "      <td>0.093990</td>\n",
       "      <td>0.50</td>\n",
       "    </tr>\n",
       "    <tr>\n",
       "      <th>6640</th>\n",
       "      <td>111</td>\n",
       "      <td>14</td>\n",
       "      <td>11</td>\n",
       "      <td>348</td>\n",
       "      <td>87.00</td>\n",
       "      <td>4.117155</td>\n",
       "      <td>0</td>\n",
       "      <td>3466</td>\n",
       "      <td>3465</td>\n",
       "      <td>9.394736</td>\n",
       "      <td>9.559649</td>\n",
       "      <td>9.410317</td>\n",
       "      <td>9.576310</td>\n",
       "      <td>0.022811</td>\n",
       "      <td>0.25</td>\n",
       "    </tr>\n",
       "    <tr>\n",
       "      <th>6641</th>\n",
       "      <td>111</td>\n",
       "      <td>14</td>\n",
       "      <td>11</td>\n",
       "      <td>349</td>\n",
       "      <td>87.25</td>\n",
       "      <td>4.121050</td>\n",
       "      <td>0</td>\n",
       "      <td>3472</td>\n",
       "      <td>3471</td>\n",
       "      <td>9.458623</td>\n",
       "      <td>9.571772</td>\n",
       "      <td>9.427191</td>\n",
       "      <td>9.582525</td>\n",
       "      <td>0.033220</td>\n",
       "      <td>0.00</td>\n",
       "    </tr>\n",
       "  </tbody>\n",
       "</table>\n",
       "<p>6642 rows × 15 columns</p>\n",
       "</div>"
      ],
      "text/plain": [
       "      event_id_int  pid_self  pid_other  index      t         R  index_pairs  \\\n",
       "0              111         3          2    350   0.00  4.124346            1   \n",
       "1              111         3          2    351   0.25  4.129769            1   \n",
       "2              111         3          2    352   0.50  4.135220            1   \n",
       "3              111         3          2    353   0.75  4.141164            1   \n",
       "4              111         3          2    354   1.00  4.148696            1   \n",
       "...            ...       ...        ...    ...    ...       ...          ...   \n",
       "6637           111        14         11    345  86.25  4.113905            0   \n",
       "6638           111        14         11    346  86.50  4.114758            0   \n",
       "6639           111        14         11    347  86.75  4.115191            0   \n",
       "6640           111        14         11    348  87.00  4.117155            0   \n",
       "6641           111        14         11    349  87.25  4.121050            0   \n",
       "\n",
       "      index_self  index_other    x_self    y_self   x_other   y_other  \\\n",
       "0              3            2  2.260345  3.690236  7.245564  2.464959   \n",
       "1             19           18  2.255592  3.715496  7.246972  2.407531   \n",
       "2             35           34  2.252711  3.728793  7.237700  2.419068   \n",
       "3             51           50  2.284883  3.755425  7.246122  2.425278   \n",
       "4             67           66  2.298194  3.766673  7.246516  2.454145   \n",
       "...          ...          ...       ...       ...       ...       ...   \n",
       "6637        3448         3447  9.499142  9.700434  9.393116  9.524863   \n",
       "6638        3454         3453  9.465365  9.660836  9.346534  9.521122   \n",
       "6639        3460         3459  9.421797  9.632707  9.396446  9.542200   \n",
       "6640        3466         3465  9.394736  9.559649  9.410317  9.576310   \n",
       "6641        3472         3471  9.458623  9.571772  9.427191  9.582525   \n",
       "\n",
       "      R_nosavgol   tdeath  \n",
       "0       5.133587  1572.75  \n",
       "1       5.159907  1572.50  \n",
       "2       5.154172  1572.25  \n",
       "3       5.136456  1572.00  \n",
       "4       5.119435  1571.75  \n",
       "...          ...      ...  \n",
       "6637    0.205102     1.00  \n",
       "6638    0.183413     0.75  \n",
       "6639    0.093990     0.50  \n",
       "6640    0.022811     0.25  \n",
       "6641    0.033220     0.00  \n",
       "\n",
       "[6642 rows x 15 columns]"
      ]
     },
     "execution_count": 14,
     "metadata": {},
     "output_type": "execute_result"
    }
   ],
   "source": [
    "pd.read_csv('/home/timothytyree/Documents/GitHub/bgmc/python/data/local_results/euic_False_fc_2_r_0.1_D_2_L_10_kappa_1500_varkappa_5/smoothed_annihilations_tavg1_4.0_tavg2_24.25_maxdtmax_0_maxRfin_0.1_mindur_25/pbc_particle_log11_log_smoothed_annihilations_denoised.csv')"
   ]
  },
  {
   "cell_type": "code",
   "execution_count": null,
   "id": "dc918d51",
   "metadata": {},
   "outputs": [],
   "source": []
  }
 ],
 "metadata": {
  "kernelspec": {
   "display_name": "Python 3 (ipykernel)",
   "language": "python",
   "name": "python3"
  },
  "language_info": {
   "codemirror_mode": {
    "name": "ipython",
    "version": 3
   },
   "file_extension": ".py",
   "mimetype": "text/x-python",
   "name": "python",
   "nbconvert_exporter": "python",
   "pygments_lexer": "ipython3",
   "version": "3.7.10"
  },
  "toc": {
   "base_numbering": 1,
   "nav_menu": {},
   "number_sections": true,
   "sideBar": true,
   "skip_h1_title": false,
   "title_cell": "Table of Contents",
   "title_sidebar": "Contents",
   "toc_cell": false,
   "toc_position": {},
   "toc_section_display": true,
   "toc_window_display": false
  },
  "varInspector": {
   "cols": {
    "lenName": 16,
    "lenType": 16,
    "lenVar": 40
   },
   "kernels_config": {
    "python": {
     "delete_cmd_postfix": "",
     "delete_cmd_prefix": "del ",
     "library": "var_list.py",
     "varRefreshCmd": "print(var_dic_list())"
    },
    "r": {
     "delete_cmd_postfix": ") ",
     "delete_cmd_prefix": "rm(",
     "library": "var_list.r",
     "varRefreshCmd": "cat(var_dic_list()) "
    }
   },
   "types_to_exclude": [
    "module",
    "function",
    "builtin_function_or_method",
    "instance",
    "_Feature"
   ],
   "window_display": false
  }
 },
 "nbformat": 4,
 "nbformat_minor": 5
}
