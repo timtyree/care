{
 "cells": [
  {
   "cell_type": "markdown",
   "id": "e2413b0f",
   "metadata": {},
   "source": [
    "# fast postprocessing a list of trajectory folders\n",
    "Tim Tyree<br>\n",
    "9.30.2021"
   ]
  },
  {
   "cell_type": "code",
   "execution_count": 1,
   "id": "1954b0ad",
   "metadata": {
    "ExecuteTime": {
     "end_time": "2021-10-02T05:47:02.337762Z",
     "start_time": "2021-10-02T05:47:00.560090Z"
    }
   },
   "outputs": [],
   "source": [
    "from lib.my_initialization import *\n",
    "from lib import *\n",
    "# from lib.measure.unwrap_and_smooth_cu import *\n",
    "# from lib.routines.unwrap_and_smooth_trajectories_cu import *\n",
    "from lib.rapids_func import *\n",
    "import cupy as cp, cudf, numba.cuda as cuda\n",
    "import rmm\n",
    "# Switch to RMM allocator\n",
    "cp.cuda.set_allocator(rmm.rmm_cupy_allocator)"
   ]
  },
  {
   "cell_type": "code",
   "execution_count": 2,
   "id": "d7494e1c",
   "metadata": {
    "ExecuteTime": {
     "end_time": "2021-10-02T05:47:02.342545Z",
     "start_time": "2021-10-02T05:47:02.339664Z"
    }
   },
   "outputs": [],
   "source": [
    "darkmode=False\n",
    "if darkmode:\n",
    "    # For darkmode plots\n",
    "    from jupyterthemes import jtplot\n",
    "    jtplot.style(theme='monokai', context='notebook', ticks=True, grid=False)"
   ]
  },
  {
   "cell_type": "markdown",
   "id": "4e081e1f",
   "metadata": {},
   "source": [
    "# Postprocessing trajectories from the full models"
   ]
  },
  {
   "cell_type": "code",
   "execution_count": 3,
   "id": "e38f67fe",
   "metadata": {
    "ExecuteTime": {
     "end_time": "2021-10-02T05:47:02.355024Z",
     "start_time": "2021-10-02T05:47:02.344263Z"
    }
   },
   "outputs": [],
   "source": [
    "input_fn_lst = [\n",
    "    '/home/timothytyree/Documents/GitHub/care/notebooks/Data/initial-conditions-fk-200x200/param_set_8_ds_5.0_tmax_10_diffCoef_0.0005/Log/ic200x200.0.2_traj_sr_400_mem_0.csv',\n",
    "    '/home/timothytyree/Documents/GitHub/care/notebooks/Data/initial-conditions-suite-3-LR/param_qu_tmax_30_Ko_5.4_diffCoef_0.0005_dt_0.5/trajectories/ic002.11_traj_sr_600_mem_0.csv',\n",
    "    '/home/timothytyree/Documents/GitHub/care/notebooks/Data/initial-conditions-fk-200x200/param_set_8_ds_5.0_tmax_30_diffCoef_0.001_dt_0.025/trajectories/ic200x200.0.8_traj_sr_600_mem_0.csv',\n",
    "    '/home/timothytyree/Documents/GitHub/care/notebooks/Data/initial-conditions-suite-3-LR/param_qu_tmax_30_Ko_5.4_diffCoef_0.0005_dt_0.025_Vthresh_-40/trajectories/ic002.22_traj_sr_600_mem_0.csv',\n",
    "    '/home/timothytyree/Documents/GitHub/care/notebooks/Data/initial-conditions-suite-3-LR/param_qu_tmax_30_Ko_5.4_diffCoef_0.0005_dt_0.025/trajectories/ic001.33_traj_sr_600_mem_0.csv',\n",
    "    '/home/timothytyree/Documents/GitHub/care/notebooks/Data/initial-conditions-suite-3-LR/ds_5_param_qu_tmax_30_Ko_5.4_diffCoef_0.001/trajectories/ic001.22_traj_sr_400_mem_0.csv',\n",
    "    '/home/timothytyree/Documents/GitHub/care/notebooks/Data/initial-conditions-suite-2/ds_5_param_set_8_fastkernel_V_0.4/trajectories/ic_200x200.001.12_traj_sr_400_mem_2.csv',\n",
    "    '/home/timothytyree/Documents/GitHub/care/notebooks/Data/initial-conditions-suite-2/ds_5_param_set_8_fastkernel_V_0.5/trajectories/ic_200x200.001.21_traj_sr_400_mem_2.csv',\n",
    "    '/home/timothytyree/Documents/GitHub/care/notebooks/Data/initial-conditions-suite-2/ds_5_param_set_8_fastkernel_V_0.6/trajectories/ic_200x200.001.23_traj_sr_400_mem_2.csv'\n",
    "]"
   ]
  },
  {
   "cell_type": "code",
   "execution_count": 4,
   "id": "5240ebbb",
   "metadata": {
    "ExecuteTime": {
     "end_time": "2021-10-02T05:47:02.365028Z",
     "start_time": "2021-10-02T05:47:02.356518Z"
    }
   },
   "outputs": [],
   "source": [
    "# input_fn=search_for_file()\n",
    "# input_fn_lst.append(input_fn)\n",
    "# print(input_fn_lst)"
   ]
  },
  {
   "cell_type": "code",
   "execution_count": null,
   "id": "dfed3c44",
   "metadata": {
    "ExecuteTime": {
     "start_time": "2021-10-02T05:47:00.440Z"
    }
   },
   "outputs": [
    {
     "name": "stdout",
     "output_type": "stream",
     "text": [
      "DT=0.4 ms\n",
      "running return_moving_average_of_pbc_trajectories_and_save on 972 files...\n"
     ]
    }
   ],
   "source": [
    "for input_fn in input_fn_lst:\n",
    "    df=pd.read_csv(input_fn)\n",
    "    DT=np.around(get_DT(df),7)\n",
    "    print(f\"DT={DT} ms\")\n",
    "    save_dir_lst=routine_postprocess_trajectory_folder(input_fn,DT,tavg1=4, npartitions=None,\n",
    "                                            width=200,\n",
    "                                            height=200,\n",
    "                                            use_drop_shorter_than=True,\n",
    "                                            drop_shorter_than=50, #ms\n",
    "                                            tmin=100., #ms\n",
    "                                            pid_col='particle',\n",
    "                                            t_col='t',\n",
    "                                            printing=False)"
   ]
  },
  {
   "cell_type": "code",
   "execution_count": null,
   "id": "8d62584d",
   "metadata": {},
   "outputs": [],
   "source": []
  },
  {
   "cell_type": "markdown",
   "id": "8bd6b0db",
   "metadata": {},
   "source": [
    "# Postprocessing trajectories from the particle model"
   ]
  },
  {
   "cell_type": "code",
   "execution_count": null,
   "id": "714af9ac",
   "metadata": {
    "ExecuteTime": {
     "start_time": "2021-10-02T05:47:00.445Z"
    }
   },
   "outputs": [],
   "source": [
    "input_fn_lst = [\n",
    "    '/home/timothytyree/Documents/GitHub/bgmc/python/data/local_results/euic_False_fc_2_r_0.1_D_0_L_10_kappa_0_varkappa_0/Log/pbc_particle_log1_log.csv',\n",
    "    '/home/timothytyree/Documents/GitHub/bgmc/python/data/local_results/euic_False_fc_2_r_0.1_D_0_L_10_kappa_1500_varkappa_5/Log/pbc_particle_log2_log.csv',\n",
    "    '/home/timothytyree/Documents/GitHub/bgmc/python/data/local_results/euic_False_fc_2_r_0.1_D_2_L_10_kappa_0_varkappa_0/Log/pbc_particle_log5_log.csv',\n",
    "    '/home/timothytyree/Documents/GitHub/bgmc/python/data/local_results/euic_False_fc_2_r_0.1_D_2_L_10_kappa_1500_varkappa_0/Log/pbc_particle_log5_log.csv',\n",
    "    '/home/timothytyree/Documents/GitHub/bgmc/python/data/local_results/euic_False_fc_2_r_0.1_D_2_L_10_kappa_1500_varkappa_5/Log/pbc_particle_log5_log.csv'\n",
    "]\n",
    "\n",
    "# folder=f'/home/timothytyree/Documents/GitHub/bgmc/python/data/local_results'\n",
    "# input_fn=search_for_file(folder)\n",
    "# input_fn_lst.append(input_fn)\n",
    "# print(input_fn_lst)"
   ]
  },
  {
   "cell_type": "code",
   "execution_count": null,
   "id": "e24fc05d",
   "metadata": {
    "ExecuteTime": {
     "start_time": "2021-10-02T05:47:00.447Z"
    }
   },
   "outputs": [],
   "source": [
    "pid_col='pid_explicit'\n",
    "for input_fn in input_fn_lst:\n",
    "    df=pd.read_csv(input_fn)\n",
    "    DT=np.around(get_DT(df,pid_col=pid_col),7)\n",
    "    print(f\"DT={DT} ms\")\n",
    "    save_dir_lst=routine_postprocess_trajectory_folder(input_fn,DT,tavg1=4, npartitions=None,\n",
    "                                            width=10,\n",
    "                                            height=10,\n",
    "                                            use_drop_shorter_than=True,\n",
    "                                            drop_shorter_than=50, #ms\n",
    "                                            tmin=0., #ms\n",
    "                                            pid_col=pid_col,\n",
    "                                            t_col='t',\n",
    "                                            printing=False)"
   ]
  },
  {
   "cell_type": "code",
   "execution_count": null,
   "id": "3a60f05f",
   "metadata": {},
   "outputs": [],
   "source": []
  }
 ],
 "metadata": {
  "kernelspec": {
   "display_name": "Python 3 (ipykernel)",
   "language": "python",
   "name": "python3"
  },
  "language_info": {
   "codemirror_mode": {
    "name": "ipython",
    "version": 3
   },
   "file_extension": ".py",
   "mimetype": "text/x-python",
   "name": "python",
   "nbconvert_exporter": "python",
   "pygments_lexer": "ipython3",
   "version": "3.7.10"
  },
  "toc": {
   "base_numbering": 1,
   "nav_menu": {},
   "number_sections": true,
   "sideBar": true,
   "skip_h1_title": false,
   "title_cell": "Table of Contents",
   "title_sidebar": "Contents",
   "toc_cell": false,
   "toc_position": {},
   "toc_section_display": true,
   "toc_window_display": false
  },
  "varInspector": {
   "cols": {
    "lenName": 16,
    "lenType": 16,
    "lenVar": 40
   },
   "kernels_config": {
    "python": {
     "delete_cmd_postfix": "",
     "delete_cmd_prefix": "del ",
     "library": "var_list.py",
     "varRefreshCmd": "print(var_dic_list())"
    },
    "r": {
     "delete_cmd_postfix": ") ",
     "delete_cmd_prefix": "rm(",
     "library": "var_list.r",
     "varRefreshCmd": "cat(var_dic_list()) "
    }
   },
   "types_to_exclude": [
    "module",
    "function",
    "builtin_function_or_method",
    "instance",
    "_Feature"
   ],
   "window_display": false
  }
 },
 "nbformat": 4,
 "nbformat_minor": 5
}
