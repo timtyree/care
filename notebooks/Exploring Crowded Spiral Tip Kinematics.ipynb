{
 "cells": [
  {
   "cell_type": "markdown",
   "id": "e764ea64",
   "metadata": {
    "heading_collapsed": true
   },
   "source": [
    "# Exploring Crowded Spiral Tip Kinematics\n",
    "Tim Tyree<br>\n",
    "12.2.2021"
   ]
  },
  {
   "cell_type": "code",
   "execution_count": 1,
   "id": "5d45ec3b",
   "metadata": {
    "ExecuteTime": {
     "end_time": "2021-12-02T22:16:04.445798Z",
     "start_time": "2021-12-02T22:16:02.751444Z"
    },
    "hidden": true
   },
   "outputs": [
    {
     "name": "stdout",
     "output_type": "stream",
     "text": [
      "Automatic calling is: Smart\n"
     ]
    }
   ],
   "source": [
    "from lib.my_initialization import *\n",
    "from lib import *\n",
    "# from lib.measure.unwrap_and_smooth_cu import *\n",
    "# from lib.rapids_func import *\n",
    "# .routines.unwrap_and_smooth_trajectories_cu import *\n",
    "\n",
    "import itertools\n",
    "import dask_cudf\n",
    "from lib.rapids_func import *\n",
    "get_DT_cu\n",
    "\n",
    "#magic    \n",
    "%autocall 1\n",
    "%load_ext autoreload\n",
    "%autoreload 2\n",
    "\n",
    "import cupy as cp, cudf, numba.cuda as cuda\n",
    "import rmm\n",
    "# Switch to RMM allocator\n",
    "cp.cuda.set_allocator(rmm.rmm_cupy_allocator)\n",
    "#set random seed\n",
    "cp.random.seed(42)\n",
    "np.random.seed(42)\n",
    "darkmode=True\n",
    "if darkmode:\n",
    "    # For darkmode plots\n",
    "    from jupyterthemes import jtplot\n",
    "    jtplot.style(theme='monokai', context='notebook', ticks=True, grid=False)"
   ]
  },
  {
   "cell_type": "markdown",
   "id": "24715c5e",
   "metadata": {
    "heading_collapsed": true
   },
   "source": [
    "# define module"
   ]
  },
  {
   "cell_type": "code",
   "execution_count": 8,
   "id": "a8f22391",
   "metadata": {
    "ExecuteTime": {
     "end_time": "2021-12-02T22:19:00.071764Z",
     "start_time": "2021-12-02T22:19:00.047490Z"
    },
    "hidden": true
   },
   "outputs": [],
   "source": [
    "def comp_lifetimes(input_fn,event_index_values):\n",
    "    fn = os.path.basename(input_fn)\n",
    "    event_id_int=int(float('1'+(''.join(re.findall(r'-?\\d+\\d*',fn)))))\n",
    "    event_id_int\n",
    "\n",
    "    #get a unique list of all particles involved in an annihilation event for this event_id_int\n",
    "    pid_lst=[]\n",
    "    for x in event_index_values:\n",
    "        if int(x[0])==event_id_int:\n",
    "            pid_lst.append(int(x[1]))\n",
    "            pid_lst.append(int(x[2]))\n",
    "\n",
    "    pid_values=np.unique(np.array(pid_lst))\n",
    "    # assert len(pid_lst)==pid_values.shape[0] \n",
    "\n",
    "    #for each pid, compute v_rms and the lifetime\n",
    "    df=pd.read_csv(input_fn)\n",
    "\n",
    "    lifetime_lst=[]\n",
    "    for pid in pid_values:\n",
    "        #compute time series data\n",
    "        txy_values=df.loc[df['particle']==pid,['t','x','y']].values\n",
    "        t_values=txy_values[:,0]-np.min(txy_values[:,0])\n",
    "        #compute particle averaged values\n",
    "        lifetime=np.max(t_values)-np.min(t_values)*1e-3 #seconds\n",
    "        #record\n",
    "        lifetime_lst.append(lifetime)\n",
    "    return lifetime_lst"
   ]
  },
  {
   "cell_type": "markdown",
   "id": "bc60c909",
   "metadata": {
    "heading_collapsed": true
   },
   "source": [
    "# dev"
   ]
  },
  {
   "cell_type": "code",
   "execution_count": 2,
   "id": "cbf3f111",
   "metadata": {
    "ExecuteTime": {
     "end_time": "2021-12-02T22:16:43.380873Z",
     "start_time": "2021-12-02T22:16:43.359365Z"
    },
    "hidden": true
   },
   "outputs": [],
   "source": [
    "tavg1=0\n",
    "tavg2=14#todo 0\n",
    "#one token trajectory file for the fenton karma model and the luo-rudy model\n",
    "input_fn_lst=[\n",
    "# c='C0'\n",
    "# # # # #token FK at DT=0.4\n",
    "\"/home/timothytyree/Documents/GitHub/care/notebooks/Data/initial-conditions-fk-200x200/param_set_8_ds_5.0_tmax_10_diffCoef_0.0005/Log/ic200x200.0.2_traj_sr_400_mem_0.csv\",\n",
    "# c='C1'\n",
    "# #tokenLR at DT=0.5\n",
    "\"/home/timothytyree/Documents/GitHub/care/notebooks/Data/initial-conditions-suite-3-LR/param_qu_tmax_30_Ko_5.4_diffCoef_0.0005_dt_0.5/trajectories/ic002.11_traj_sr_600_mem_0.csv\",   \n",
    "]"
   ]
  },
  {
   "cell_type": "code",
   "execution_count": 3,
   "id": "0ae651ab",
   "metadata": {
    "ExecuteTime": {
     "end_time": "2021-12-02T22:17:10.380304Z",
     "start_time": "2021-12-02T22:17:09.356375Z"
    },
    "hidden": true
   },
   "outputs": [
    {
     "data": {
      "text/html": [
       "<div>\n",
       "<style scoped>\n",
       "    .dataframe tbody tr th:only-of-type {\n",
       "        vertical-align: middle;\n",
       "    }\n",
       "\n",
       "    .dataframe tbody tr th {\n",
       "        vertical-align: top;\n",
       "    }\n",
       "\n",
       "    .dataframe thead th {\n",
       "        text-align: right;\n",
       "    }\n",
       "</style>\n",
       "<table border=\"1\" class=\"dataframe\">\n",
       "  <thead>\n",
       "    <tr style=\"text-align: right;\">\n",
       "      <th></th>\n",
       "      <th>event_id_int</th>\n",
       "      <th>pid_self</th>\n",
       "      <th>pid_other</th>\n",
       "      <th>index</th>\n",
       "      <th>t</th>\n",
       "      <th>R</th>\n",
       "      <th>index_pairs</th>\n",
       "      <th>index_self</th>\n",
       "      <th>index_other</th>\n",
       "      <th>x_self</th>\n",
       "      <th>y_self</th>\n",
       "      <th>x_other</th>\n",
       "      <th>y_other</th>\n",
       "      <th>R_nosavgol</th>\n",
       "      <th>tdeath</th>\n",
       "    </tr>\n",
       "  </thead>\n",
       "  <tbody>\n",
       "    <tr>\n",
       "      <th>0</th>\n",
       "      <td>1014126000</td>\n",
       "      <td>68</td>\n",
       "      <td>74</td>\n",
       "      <td>0</td>\n",
       "      <td>186.0</td>\n",
       "      <td>1.275421</td>\n",
       "      <td>0</td>\n",
       "      <td>1443</td>\n",
       "      <td>1446</td>\n",
       "      <td>134.080952</td>\n",
       "      <td>25.349498</td>\n",
       "      <td>104.738229</td>\n",
       "      <td>66.108926</td>\n",
       "      <td>1.255569</td>\n",
       "      <td>41.0</td>\n",
       "    </tr>\n",
       "    <tr>\n",
       "      <th>1</th>\n",
       "      <td>1014126000</td>\n",
       "      <td>68</td>\n",
       "      <td>74</td>\n",
       "      <td>1</td>\n",
       "      <td>186.5</td>\n",
       "      <td>1.266636</td>\n",
       "      <td>0</td>\n",
       "      <td>1456</td>\n",
       "      <td>1455</td>\n",
       "      <td>133.998502</td>\n",
       "      <td>25.012627</td>\n",
       "      <td>104.590506</td>\n",
       "      <td>66.137120</td>\n",
       "      <td>1.263936</td>\n",
       "      <td>40.5</td>\n",
       "    </tr>\n",
       "    <tr>\n",
       "      <th>2</th>\n",
       "      <td>1014126000</td>\n",
       "      <td>68</td>\n",
       "      <td>74</td>\n",
       "      <td>2</td>\n",
       "      <td>187.0</td>\n",
       "      <td>1.259860</td>\n",
       "      <td>0</td>\n",
       "      <td>1462</td>\n",
       "      <td>1467</td>\n",
       "      <td>134.039986</td>\n",
       "      <td>25.133593</td>\n",
       "      <td>104.564511</td>\n",
       "      <td>66.135175</td>\n",
       "      <td>1.262422</td>\n",
       "      <td>40.0</td>\n",
       "    </tr>\n",
       "    <tr>\n",
       "      <th>3</th>\n",
       "      <td>1014126000</td>\n",
       "      <td>68</td>\n",
       "      <td>74</td>\n",
       "      <td>3</td>\n",
       "      <td>187.5</td>\n",
       "      <td>1.254901</td>\n",
       "      <td>0</td>\n",
       "      <td>1471</td>\n",
       "      <td>1472</td>\n",
       "      <td>134.080449</td>\n",
       "      <td>25.225738</td>\n",
       "      <td>104.194274</td>\n",
       "      <td>66.067583</td>\n",
       "      <td>1.265217</td>\n",
       "      <td>39.5</td>\n",
       "    </tr>\n",
       "    <tr>\n",
       "      <th>4</th>\n",
       "      <td>1014126000</td>\n",
       "      <td>68</td>\n",
       "      <td>74</td>\n",
       "      <td>4</td>\n",
       "      <td>188.0</td>\n",
       "      <td>1.251562</td>\n",
       "      <td>0</td>\n",
       "      <td>1481</td>\n",
       "      <td>1485</td>\n",
       "      <td>134.274329</td>\n",
       "      <td>25.570294</td>\n",
       "      <td>103.919121</td>\n",
       "      <td>66.037570</td>\n",
       "      <td>1.264674</td>\n",
       "      <td>39.0</td>\n",
       "    </tr>\n",
       "  </tbody>\n",
       "</table>\n",
       "</div>"
      ],
      "text/plain": [
       "   event_id_int  pid_self  pid_other  index      t         R  index_pairs  \\\n",
       "0    1014126000        68         74      0  186.0  1.275421            0   \n",
       "1    1014126000        68         74      1  186.5  1.266636            0   \n",
       "2    1014126000        68         74      2  187.0  1.259860            0   \n",
       "3    1014126000        68         74      3  187.5  1.254901            0   \n",
       "4    1014126000        68         74      4  188.0  1.251562            0   \n",
       "\n",
       "   index_self  index_other      x_self     y_self     x_other    y_other  \\\n",
       "0        1443         1446  134.080952  25.349498  104.738229  66.108926   \n",
       "1        1456         1455  133.998502  25.012627  104.590506  66.137120   \n",
       "2        1462         1467  134.039986  25.133593  104.564511  66.135175   \n",
       "3        1471         1472  134.080449  25.225738  104.194274  66.067583   \n",
       "4        1481         1485  134.274329  25.570294  103.919121  66.037570   \n",
       "\n",
       "   R_nosavgol  tdeath  \n",
       "0    1.255569    41.0  \n",
       "1    1.263936    40.5  \n",
       "2    1.262422    40.0  \n",
       "3    1.265217    39.5  \n",
       "4    1.264674    39.0  "
      ]
     },
     "execution_count": 3,
     "metadata": {},
     "output_type": "execute_result"
    }
   ],
   "source": [
    "data_dir_fk='/home/timothytyree/Documents/GitHub/bgmc/python/data/full_results/annihilation_data_fk_tavg1_0.0_tavg2_14.00.csv'\n",
    "data_dir_lr='/home/timothytyree/Documents/GitHub/bgmc/python/data/full_results/annihilation_data_lr_tavg1_0.0_tavg2_14.00.csv'\n",
    "df_annihilation=cudf.read_csv(data_dir_lr)\n",
    "df_annihilation.head()"
   ]
  },
  {
   "cell_type": "code",
   "execution_count": 4,
   "id": "73ccf4d5",
   "metadata": {
    "ExecuteTime": {
     "end_time": "2021-12-02T22:17:24.269423Z",
     "start_time": "2021-12-02T22:17:24.147234Z"
    },
    "hidden": true
   },
   "outputs": [
    {
     "data": {
      "text/plain": [
       "array([[1001116000,        511,        515],\n",
       "       [1001116000,        746,        815],\n",
       "       [1001116000,        809,        793],\n",
       "       ...,\n",
       "       [1019316000,       8257,       8177],\n",
       "       [1019316000,       8317,       8303],\n",
       "       [1019316000,       8450,       8451]])"
      ]
     },
     "execution_count": 4,
     "metadata": {},
     "output_type": "execute_result"
    }
   ],
   "source": [
    "event_index_values=df_annihilation[['event_id_int','pid_self','pid_other']].drop_duplicates().values\n",
    "event_index_values"
   ]
  },
  {
   "cell_type": "code",
   "execution_count": 9,
   "id": "6cc665d8",
   "metadata": {
    "ExecuteTime": {
     "end_time": "2021-12-02T22:28:06.054793Z",
     "start_time": "2021-12-02T22:28:06.028026Z"
    },
    "hidden": true
   },
   "outputs": [
    {
     "data": {
      "text/plain": [
       "159"
      ]
     },
     "execution_count": 9,
     "metadata": {},
     "output_type": "execute_result"
    }
   ],
   "source": [
    "# #FK\n",
    "# input_fn=\"/home/timothytyree/Documents/GitHub/care/notebooks/Data/initial-conditions-fk-200x200/param_set_8_ds_5.0_tmax_10_diffCoef_0.0005/Log/ic200x200.0.2_traj_sr_400_mem_0.csv\"\n",
    "#LR\n",
    "input_fn=\"/home/timothytyree/Documents/GitHub/care/notebooks/Data/initial-conditions-suite-3-LR/param_qu_tmax_30_Ko_5.4_diffCoef_0.0005_dt_0.5/trajectories_unwrap/ic001.33_traj_sr_600_mem_0_unwrap.csv\"\n",
    "input_fn_lst=get_all_files_matching_pattern(input_fn,trgt='_unwrap.csv')\n",
    "len(input_fn_lst)"
   ]
  },
  {
   "cell_type": "markdown",
   "id": "3b6792c2",
   "metadata": {
    "heading_collapsed": true
   },
   "source": [
    "# TODO: compute v_rms using finite difference method? ...just make sure no erroneous jumps first...\n",
    "- TODO: plot and make sure that all pbc jumps are properly removed...\n",
    "- TODO: only consider particles that display no clear pbc jumps in the estimation for the average lifetimes "
   ]
  },
  {
   "cell_type": "code",
   "execution_count": 38,
   "id": "2a6e3d0c",
   "metadata": {
    "ExecuteTime": {
     "end_time": "2021-12-01T20:52:42.542257Z",
     "start_time": "2021-12-01T20:52:42.522623Z"
    },
    "hidden": true
   },
   "outputs": [
    {
     "data": {
      "text/plain": [
       "1200200024000"
      ]
     },
     "execution_count": 38,
     "metadata": {},
     "output_type": "execute_result"
    }
   ],
   "source": [
    "fn = os.path.basename(input_fn)\n",
    "event_id_int=int(float('1'+(''.join(re.findall(r'-?\\d+\\d*',fn)))))\n",
    "event_id_int\n",
    "\n",
    "#get a unique list of all particles involved in an annihilation event for this event_id_int\n",
    "pid_lst=[]\n",
    "for x in event_index_values:\n",
    "    if int(x[0])==event_id_int:\n",
    "        pid_lst.append(int(x[1]))\n",
    "        pid_lst.append(int(x[2]))\n",
    "\n",
    "pid_values=np.unique(np.array(pid_lst))\n",
    "# assert len(pid_lst)==pid_values.shape[0] \n",
    "\n",
    "#for each pid, compute v_rms and the lifetime\n",
    "df=pd.read_csv(input_fn)\n",
    "df.head()\n",
    "\n",
    "lifetime_lst=[]\n",
    "for pid in pid_values:\n",
    "    #compute time series data\n",
    "    txy_values=df.loc[df['particle']==pid,['t','x','y']].values\n",
    "    t_values=txy_values[:,0]-np.min(txy_values[:,0])\n",
    "    #compute particle averaged values\n",
    "    lifetime=np.max(t_values)-np.min(t_values)*1e-3 #seconds\n",
    "    #record\n",
    "    lifetime_lst.append(lifetime)"
   ]
  },
  {
   "cell_type": "code",
   "execution_count": 49,
   "id": "70266976",
   "metadata": {
    "ExecuteTime": {
     "end_time": "2021-12-01T21:02:26.693815Z",
     "start_time": "2021-12-01T21:02:26.671033Z"
    },
    "hidden": true
   },
   "outputs": [],
   "source": [
    "DT=np.around(get_DT(df),7)"
   ]
  },
  {
   "cell_type": "code",
   "execution_count": 51,
   "id": "c5372ebc",
   "metadata": {
    "ExecuteTime": {
     "end_time": "2021-12-01T21:02:34.697211Z",
     "start_time": "2021-12-01T21:02:34.661878Z"
    },
    "hidden": true
   },
   "outputs": [],
   "source": [
    "tavg2=14 #ms\n",
    "navg2=int(tavg2/DT)\n",
    "if not (navg2%2==1): #odd navg2 is required by savgol_filter\n",
    "    navg2+=1\n",
    "    tavg2=np.around(navg2*DT,7)"
   ]
  },
  {
   "cell_type": "code",
   "execution_count": 52,
   "id": "4c004f0f",
   "metadata": {
    "ExecuteTime": {
     "end_time": "2021-12-01T21:02:45.248512Z",
     "start_time": "2021-12-01T21:02:45.225922Z"
    },
    "hidden": true
   },
   "outputs": [],
   "source": [
    "savgol_kwargs=dict(\n",
    "    window_length=navg2,\n",
    "    polyorder=3,\n",
    "    deriv=1,\n",
    "    delta=1.0,\n",
    "    axis=-1,\n",
    "    mode='interp'\n",
    ")"
   ]
  },
  {
   "cell_type": "code",
   "execution_count": 69,
   "id": "57c93102",
   "metadata": {
    "ExecuteTime": {
     "end_time": "2021-12-01T21:38:33.965728Z",
     "start_time": "2021-12-01T21:38:33.906870Z"
    },
    "hidden": true
   },
   "outputs": [],
   "source": [
    "# #select only the particles that belong to pid_values\n",
    "boo=False\n",
    "for pid in pid_values:\n",
    "    boo|=df['particle']==pid\n"
   ]
  },
  {
   "cell_type": "code",
   "execution_count": null,
   "id": "54ec6836",
   "metadata": {
    "hidden": true
   },
   "outputs": [],
   "source": []
  },
  {
   "cell_type": "code",
   "execution_count": 118,
   "id": "866e7d95",
   "metadata": {
    "ExecuteTime": {
     "end_time": "2021-12-02T22:08:29.822426Z",
     "start_time": "2021-12-02T22:08:29.797207Z"
    },
    "hidden": true
   },
   "outputs": [
    {
     "data": {
      "text/plain": [
       "array([ 0. ,  0.4,  0.8,  1.2,  1.6,  2. ,  2.4,  2.8,  3.2,  3.6,  4. ,\n",
       "        4.4,  4.8,  5.2,  5.6,  6. ,  6.4,  6.8,  7.2,  7.6,  8. ,  8.4,\n",
       "        8.8,  9.2,  9.6, 10. , 10.4, 10.8, 11.2, 11.6, 12. , 12.4, 12.8,\n",
       "       13.2, 13.6, 14. , 14.4, 14.8, 15.2, 15.6, 16. , 16.4, 16.8, 17.2,\n",
       "       17.6, 18. , 18.4, 18.8, 19.2, 19.6, 20. , 20.4, 20.8, 21.2, 21.6,\n",
       "       22. , 22.4, 22.8, 23.2, 23.6, 24. , 24.4, 24.8, 25.2, 25.6, 26. ,\n",
       "       26.4, 26.8, 27.2, 27.6, 28. , 28.4, 28.8, 29.2, 29.6, 30. , 30.4,\n",
       "       30.8, 31.2, 31.6, 32. , 32.4, 32.8, 33.2, 33.6, 34. , 34.4, 34.8,\n",
       "       35.2, 35.6, 36. , 36.4, 36.8, 37.2, 37.6, 38. , 38.4, 38.8, 39.2,\n",
       "       39.6, 40. , 40.4])"
      ]
     },
     "execution_count": 118,
     "metadata": {},
     "output_type": "execute_result"
    }
   ],
   "source": []
  },
  {
   "cell_type": "code",
   "execution_count": 92,
   "id": "f02968b6",
   "metadata": {
    "ExecuteTime": {
     "end_time": "2021-12-01T21:48:45.733283Z",
     "start_time": "2021-12-01T21:48:45.708593Z"
    },
    "hidden": true
   },
   "outputs": [],
   "source": [
    "DS=5/200"
   ]
  },
  {
   "cell_type": "code",
   "execution_count": 73,
   "id": "4d4245a7",
   "metadata": {
    "ExecuteTime": {
     "end_time": "2021-12-01T21:38:51.308236Z",
     "start_time": "2021-12-01T21:38:51.284518Z"
    },
    "hidden": true
   },
   "outputs": [
    {
     "data": {
      "text/plain": [
       "70"
      ]
     },
     "execution_count": 73,
     "metadata": {},
     "output_type": "execute_result"
    }
   ],
   "source": [
    "for pid in pid_values:\n",
    "    #compute time series data\n",
    "    txy_values=df.loc[df['particle']==pid,['t','x','y']].values\n",
    "    t_values=txy_values[:,0]-np.min(txy_values[:,0])\n",
    "    vxy_values=df.loc[df['particle']==pid,['vx','vy']].values\n",
    "    vsq_values=vxy_values[:,0]**2+vxy_values[:,1]**2\n",
    "    xy0=txy_values[0,1:]\n",
    "    dxy_values=txy_values[:,1:]-xy0\n",
    "    sd_values=dxy_values[:,0]**2+dxy_values[:,1]**2\n",
    "    #compute particle averaged values\n",
    "    lifetime=np.max(t_values)-np.min(t_values)*1e-3 #seconds\n",
    "    v_rms=np.sqrt(np.mean(vsq_values))"
   ]
  },
  {
   "cell_type": "code",
   "execution_count": 91,
   "id": "38e27dc9",
   "metadata": {
    "ExecuteTime": {
     "end_time": "2021-12-01T21:48:44.636095Z",
     "start_time": "2021-12-01T21:48:44.532121Z"
    },
    "hidden": true
   },
   "outputs": [],
   "source": [
    "#compute the xy velocities for each group\n",
    "#compute the smoothed derivative savgol_filter using scipy's cryptic cython code\n",
    "df['vx']=np.nan\n",
    "df['vy']=np.nan\n",
    "grouped=df[boo].groupby('particle')\n",
    "result = grouped['x'].apply(savgol_filter,**savgol_kwargs)\n",
    "df.loc[boo,'vx']=DS*np.concatenate(result.values)/DT*1e3 #cm/s\n",
    "result = grouped['y'].apply(savgol_filter,**savgol_kwargs)\n",
    "df.loc[boo,'vy']=DS*np.concatenate(result.values)/DT*1e3 #cm/s"
   ]
  },
  {
   "cell_type": "code",
   "execution_count": 116,
   "id": "2a3331e7",
   "metadata": {
    "ExecuteTime": {
     "end_time": "2021-12-02T05:25:14.775141Z",
     "start_time": "2021-12-02T05:25:14.755431Z"
    },
    "hidden": true
   },
   "outputs": [],
   "source": [
    "#TODO: wrap for loop <for pid in pid_values> using a dask bag.\n",
    "# b = db.from_sequence(input_fn_list, npartitions=12).map(run_routine)\n",
    "# start = time.time()\n",
    "# retval = list(b)\n",
    "# print(f\"run time for generating birth-death rates from file_name_list: {time.time()-start:.2f} seconds.\")\n",
    "# beep(3)"
   ]
  },
  {
   "cell_type": "code",
   "execution_count": 100,
   "id": "6a149342",
   "metadata": {
    "ExecuteTime": {
     "end_time": "2021-12-01T21:50:12.586230Z",
     "start_time": "2021-12-01T21:50:12.409053Z"
    },
    "hidden": true
   },
   "outputs": [],
   "source": [
    "lifetime_lst=[]\n",
    "v_rms_lst=[]\n",
    "for pid in pid_values:\n",
    "    #compute time series data\n",
    "    txy_values=df.loc[df['particle']==pid,['t','x','y']].values\n",
    "    t_values=txy_values[:,0]-np.min(txy_values[:,0])\n",
    "    vxy_values=df.loc[df['particle']==pid,['vx','vy']].values\n",
    "    vsq_values=vxy_values[:,0]**2+vxy_values[:,1]**2\n",
    "    xy0=txy_values[0,1:]\n",
    "    dxy_values=txy_values[:,1:]-xy0\n",
    "    sd_values=dxy_values[:,0]**2+dxy_values[:,1]**2\n",
    "    #compute particle averaged values\n",
    "    lifetime=np.max(t_values)-np.min(t_values)*1e-3 #seconds\n",
    "    v_rms=np.sqrt(np.mean(vsq_values))\n",
    "    #record\n",
    "    lifetime_lst.append(lifetime)\n",
    "    v_rms_lst.append(v_rms)"
   ]
  },
  {
   "cell_type": "code",
   "execution_count": 103,
   "id": "1688a2d9",
   "metadata": {
    "ExecuteTime": {
     "end_time": "2021-12-01T21:50:16.542657Z",
     "start_time": "2021-12-01T21:50:16.371693Z"
    },
    "hidden": true
   },
   "outputs": [
    {
     "data": {
      "text/plain": [
       "True"
      ]
     },
     "execution_count": 103,
     "metadata": {},
     "output_type": "execute_result"
    },
    {
     "data": {
      "image/png": "[encoded data removed]",
      "text/plain": [
       "<Figure size 432x288 with 1 Axes>"
      ]
     },
     "metadata": {
      "needs_background": "light"
     },
     "output_type": "display_data"
    }
   ],
   "source": [
    "plt.plot(t_values,sd_values*DS**2)\n",
    "format_plot(ax=plt.gca(),xlabel='t (ms)',ylabel=r'Squared Displacement (cm$^2$)',fontsize=16)"
   ]
  },
  {
   "cell_type": "code",
   "execution_count": 104,
   "id": "587ee112",
   "metadata": {
    "ExecuteTime": {
     "end_time": "2021-12-01T21:50:17.331974Z",
     "start_time": "2021-12-01T21:50:17.187651Z"
    },
    "hidden": true
   },
   "outputs": [
    {
     "data": {
      "text/plain": [
       "True"
      ]
     },
     "execution_count": 104,
     "metadata": {},
     "output_type": "execute_result"
    },
    {
     "data": {
      "image/png": "[encoded data removed]",
      "text/plain": [
       "<Figure size 432x288 with 1 Axes>"
      ]
     },
     "metadata": {
      "needs_background": "light"
     },
     "output_type": "display_data"
    }
   ],
   "source": [
    "plt.plot(t_values,vsq_values)\n",
    "format_plot(ax=plt.gca(),xlabel='t (ms)',ylabel=r'Squared Velocity (cm$^2$/s$^2$)',fontsize=16)"
   ]
  },
  {
   "cell_type": "code",
   "execution_count": 106,
   "id": "6a5e5d51",
   "metadata": {
    "ExecuteTime": {
     "end_time": "2021-12-01T21:51:59.533547Z",
     "start_time": "2021-12-01T21:51:59.507979Z"
    },
    "hidden": true
   },
   "outputs": [],
   "source": [
    "mean_lifetime=np.mean(lifetime_lst)"
   ]
  },
  {
   "cell_type": "code",
   "execution_count": 97,
   "id": "f2925a20",
   "metadata": {
    "ExecuteTime": {
     "end_time": "2021-12-01T21:48:56.244241Z",
     "start_time": "2021-12-01T21:48:56.224462Z"
    },
    "hidden": true
   },
   "outputs": [
    {
     "data": {
      "text/plain": [
       "103.73975946970626"
      ]
     },
     "execution_count": 97,
     "metadata": {},
     "output_type": "execute_result"
    }
   ],
   "source": [
    "np.mean(v_rms_lst)"
   ]
  },
  {
   "cell_type": "code",
   "execution_count": 107,
   "id": "1a7225f4",
   "metadata": {
    "ExecuteTime": {
     "end_time": "2021-12-01T21:52:23.455259Z",
     "start_time": "2021-12-01T21:52:22.934356Z"
    },
    "hidden": true
   },
   "outputs": [],
   "source": [
    "Delta_mean_lifetime=bootstrap_95CI_Delta_mean(x, num_samples=1000)"
   ]
  },
  {
   "cell_type": "code",
   "execution_count": 108,
   "id": "fbf4f7b9",
   "metadata": {
    "ExecuteTime": {
     "end_time": "2021-12-01T21:52:54.538317Z",
     "start_time": "2021-12-01T21:52:54.514902Z"
    },
    "hidden": true
   },
   "outputs": [],
   "source": [
    "#TODO: fix v_rms\n",
    "#TODO: aggregate over all annihilation events\n",
    "#TODO: repeat for LR model"
   ]
  },
  {
   "cell_type": "markdown",
   "id": "8940f307",
   "metadata": {},
   "source": [
    "# TODO(later): measure period of oscillation \n",
    "- DONT: ~140ms and the parameters might be wrong - option A: for isolated spiral waves\n",
    "- TODO: option B: for crowded spiral waves\n",
    "        - option B.A:\n",
    "        - HINT: try computing autocorrelation function of MSD, as for MSR, above...).\n",
    "        - prerequisite, for each spiral pair involved in an annihilation, if it doesn't jump for x seconds, compute the MSD up until its first jump.\n",
    "            - HINT: I think I have a function that does ^this somehwere...\n",
    "            - TODO: check lib for this sd measurement function that works immediately.  If it doesn't work, just dev it here!\n",
    "        - option B.B:\n",
    "            - compare with some average measure of the period period,\n",
    "            \n",
    "$$\n",
    "\\hat{T}(t)=\\frac{2\\pi ||\\vec{r}'(t)||^2}{||\\vec{r}'(t)\\times\\vec{r}''(t)||}\n",
    "$$\n",
    "\n",
    "where the velocity and acceleration of the observed trajectory $\\vec{r}(t)$ is computed using a Savitzky-Golay filtration."
   ]
  },
  {
   "cell_type": "code",
   "execution_count": null,
   "id": "307a65ca",
   "metadata": {},
   "outputs": [],
   "source": []
  }
 ],
 "metadata": {
  "kernelspec": {
   "display_name": "Python 3 (ipykernel)",
   "language": "python",
   "name": "python3"
  },
  "language_info": {
   "codemirror_mode": {
    "name": "ipython",
    "version": 3
   },
   "file_extension": ".py",
   "mimetype": "text/x-python",
   "name": "python",
   "nbconvert_exporter": "python",
   "pygments_lexer": "ipython3",
   "version": "3.7.10"
  },
  "toc": {
   "base_numbering": 1,
   "nav_menu": {},
   "number_sections": true,
   "sideBar": true,
   "skip_h1_title": false,
   "title_cell": "Table of Contents",
   "title_sidebar": "Contents",
   "toc_cell": false,
   "toc_position": {},
   "toc_section_display": true,
   "toc_window_display": false
  },
  "varInspector": {
   "cols": {
    "lenName": 16,
    "lenType": 16,
    "lenVar": 40
   },
   "kernels_config": {
    "python": {
     "delete_cmd_postfix": "",
     "delete_cmd_prefix": "del ",
     "library": "var_list.py",
     "varRefreshCmd": "print(var_dic_list())"
    },
    "r": {
     "delete_cmd_postfix": ") ",
     "delete_cmd_prefix": "rm(",
     "library": "var_list.r",
     "varRefreshCmd": "cat(var_dic_list()) "
    }
   },
   "types_to_exclude": [
    "module",
    "function",
    "builtin_function_or_method",
    "instance",
    "_Feature"
   ],
   "window_display": false
  }
 },
 "nbformat": 4,
 "nbformat_minor": 5
}
