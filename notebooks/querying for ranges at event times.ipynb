{
 "cells": [
  {
   "cell_type": "markdown",
   "id": "a296d0fa",
   "metadata": {},
   "source": [
    "# querying for ranges at event times\n",
    "Tim Tyree<br>\n",
    "10.8.2021"
   ]
  },
  {
   "cell_type": "code",
   "execution_count": 1,
   "id": "1c692f47",
   "metadata": {
    "ExecuteTime": {
     "end_time": "2021-10-08T21:58:59.539565Z",
     "start_time": "2021-10-08T21:58:57.990002Z"
    }
   },
   "outputs": [
    {
     "name": "stdout",
     "output_type": "stream",
     "text": [
      "Automatic calling is: Smart\n"
     ]
    }
   ],
   "source": [
    "from lib.my_initialization import *\n",
    "from lib import *\n",
    "# from lib.measure.unwrap_and_smooth_cu import *\n",
    "# from lib.rapids_func import *\n",
    "# .routines.unwrap_and_smooth_trajectories_cu import *\n",
    "\n",
    "import itertools\n",
    "import dask_cudf\n",
    "from lib.rapids_func import *\n",
    "\n",
    "#magic    \n",
    "%autocall 1\n",
    "%load_ext autoreload\n",
    "%autoreload 2\n",
    "\n",
    "import cupy as cp, cudf, numba.cuda as cuda\n",
    "import rmm\n",
    "# Switch to RMM allocator\n",
    "cp.cuda.set_allocator(rmm.rmm_cupy_allocator)"
   ]
  },
  {
   "cell_type": "code",
   "execution_count": 2,
   "id": "0092e984",
   "metadata": {
    "ExecuteTime": {
     "end_time": "2021-10-08T21:58:59.561344Z",
     "start_time": "2021-10-08T21:58:59.540710Z"
    }
   },
   "outputs": [],
   "source": [
    "darkmode=False\n",
    "if darkmode:\n",
    "    # For darkmode plots\n",
    "    from jupyterthemes import jtplot\n",
    "    jtplot.style(theme='monokai', context='notebook', ticks=True, grid=False)"
   ]
  },
  {
   "cell_type": "code",
   "execution_count": 3,
   "id": "cf32d40f",
   "metadata": {
    "ExecuteTime": {
     "end_time": "2021-10-08T21:58:59.584531Z",
     "start_time": "2021-10-08T21:58:59.563796Z"
    }
   },
   "outputs": [],
   "source": [
    "#TODO: wouter's query"
   ]
  },
  {
   "cell_type": "code",
   "execution_count": 83,
   "id": "6a6df31f",
   "metadata": {
    "ExecuteTime": {
     "end_time": "2021-10-08T22:20:35.210642Z",
     "start_time": "2021-10-08T22:20:35.189477Z"
    }
   },
   "outputs": [],
   "source": [
    "# input_fn=search_for_file()\n",
    "# input_fn='/home/timothytyree/Documents/GitHub/care/notebooks/Data/initial-conditions-fk-200x200/param_set_8_ds_5.0_tmax_30_diffCoef_0.001_dt_0.025/trajectories/ic200x200.1.1_traj_sr_600_mem_0.csv'\n",
    "input_fn='/home/timothytyree/Documents/GitHub/care/notebooks/Data/initial-conditions-fk-200x200/param_set_8_ds_5.0_tmax_30_diffCoef_0.001_dt_0.025/trajectories/ic200x200.0.1_traj_sr_600_mem_0.csv'"
   ]
  },
  {
   "cell_type": "code",
   "execution_count": 84,
   "id": "8877e3e7",
   "metadata": {
    "ExecuteTime": {
     "end_time": "2021-10-08T22:20:35.606068Z",
     "start_time": "2021-10-08T22:20:35.586818Z"
    }
   },
   "outputs": [],
   "source": [
    "width=200\n",
    "height=200\n",
    "ds=5 #cm\n",
    "DS=ds/width"
   ]
  },
  {
   "cell_type": "code",
   "execution_count": 110,
   "id": "854f4196",
   "metadata": {
    "ExecuteTime": {
     "end_time": "2021-10-08T22:34:01.278623Z",
     "start_time": "2021-10-08T22:34:01.158582Z"
    }
   },
   "outputs": [
    {
     "data": {
      "text/plain": [
       "0.025"
      ]
     },
     "execution_count": 110,
     "metadata": {},
     "output_type": "execute_result"
    }
   ],
   "source": [
    "distance_L2_pbc=get_distance_L2_pbc(width,height)\n",
    "round_t_to_n_digits=7\n",
    "DT = get_DT_cu(df)  #ms\n",
    "DT"
   ]
  },
  {
   "cell_type": "code",
   "execution_count": 188,
   "id": "5cec2c2e",
   "metadata": {
    "ExecuteTime": {
     "end_time": "2021-10-08T23:04:26.897132Z",
     "start_time": "2021-10-08T23:04:26.859923Z"
    }
   },
   "outputs": [],
   "source": [
    "def routine(input_fn):\n",
    "    df = cudf.read_csv(input_fn)\n",
    "    df['t'] = cp.around(df['t'], round_t_to_n_digits)  #fixes machine error\n",
    "    #assign unique identifier to this event\n",
    "    event_id_int = float(\n",
    "        '1' + (''.join(re.findall(r'-?\\d+\\d*', os.path.basename(input_fn)))))\n",
    "    df['event_id_int'] = int(event_id_int)\n",
    "    n_series = (df.groupby('t')['n'].mean().astype('int').sort_index())\n",
    "\n",
    "    #identify time points where 2->4\n",
    "    boo = (n_series.diff() == 2).shift(-1) & (n_series == 2)\n",
    "    times_2_then_4 = boo[boo].index.values.get()\n",
    "\n",
    "    index1_lst = []\n",
    "    index2_lst = []\n",
    "    R_birth_lst = []\n",
    "    t_lst = []\n",
    "    for t in times_2_then_4:\n",
    "        dff2 = df.loc[df['t'] == t, ['event_id_int', 'particle', 'x', 'y']]\n",
    "        dff4 = df.loc[(cp.isclose(df['t'], t + DT, rtol=1e-10)),#&(df['n']==4)),\n",
    "                      ['event_id_int', 'particle', 'x', 'y']]\n",
    "        #compute ranges for new particles\n",
    "        new_pid = sorted(\n",
    "            set(dff4['particle'].values.get()).difference(\n",
    "                dff2['particle'].values.get()))\n",
    "        point1 = dff4.loc[dff4['particle'] == new_pid[0],\n",
    "                          ['x', 'y']].values.get().flatten()\n",
    "        point2 = dff4.loc[dff4['particle'] == new_pid[1],\n",
    "                          ['x', 'y']].values.get().flatten()\n",
    "#         index1 = dff4.loc[dff4['particle'] == new_pid[0]].index.values.get()\n",
    "#         index2 = dff4.loc[dff4['particle'] == new_pid[1]].index.values.get()\n",
    "        index1 = int(dff4.loc[dff4['particle'] == new_pid[0]].index.values.get())\n",
    "        index2 = int(dff4.loc[dff4['particle'] == new_pid[1]].index.values.get())\n",
    "        R_birth = distance_L2_pbc(point1, point2) * DS  #cm\n",
    "        #record\n",
    "        index1_lst.append(index1)\n",
    "        index2_lst.append(index2)\n",
    "        R_birth_lst.append(R_birth)\n",
    "        t_lst.append(t)\n",
    "\n",
    "    df_2_to_4 = pd.DataFrame({\n",
    "        'R_birth': R_birth_lst,\n",
    "        't': t_lst,\n",
    "        'event_id_int': event_id_int,\n",
    "        'index1': index1_lst,\n",
    "        'index2': index2_lst,\n",
    "    }).astype({'event_id_int': 'int64', 'index1': 'int32','index2': 'int32'})\n",
    "\n",
    "    #DONE: identify time points where 2->4\n",
    "    #DONE: identify the novel/remaining particles\n",
    "    #DONE: compute the distance between them\n",
    "    #DONE: repeat for when #identify time points where 4->2\n",
    "\n",
    "    #identify time points where 4->2\n",
    "    boo = (n_series.diff() == -2) & (n_series == 2)\n",
    "    times_4_then_2 = boo[boo].index.values.get()\n",
    "    times_4_then_2\n",
    "\n",
    "    index1_lst = []\n",
    "    index2_lst = []\n",
    "    R_gone_lst = []\n",
    "    index1_lst2 = []\n",
    "    index2_lst2 = []\n",
    "    R_stay_lst = []\n",
    "    t_lst = []\n",
    "    for t in times_4_then_2:\n",
    "        dff2 = df.loc[df['t'] == t, ['event_id_int', 'particle', 'x', 'y']]\n",
    "        dff4 = df.loc[(cp.isclose(df['t'], t - DT, rtol=1e-10)),#]&(df['n']==4)),\n",
    "                      ['event_id_int', 'particle', 'x', 'y']]\n",
    "        #compute ranges for annihilating particles\n",
    "        gone_pid = sorted(\n",
    "            set(dff4['particle'].values.get()).difference(\n",
    "                dff2['particle'].values.get()))\n",
    "        point1 = dff4.loc[dff4['particle'] == gone_pid[0],\n",
    "                          ['x', 'y']].values.get().flatten()\n",
    "        point2 = dff4.loc[dff4['particle'] == gone_pid[1],\n",
    "                          ['x', 'y']].values.get().flatten()\n",
    "#         index1 = dff4.loc[dff4['particle'] == gone_pid[0]].index.values.get()\n",
    "#         index2 = dff4.loc[dff4['particle'] == gone_pid[1]].index.values.get()\n",
    "        index1 = int(dff4.loc[dff4['particle'] == gone_pid[0]].index.values.get())\n",
    "        index2 = int(dff4.loc[dff4['particle'] == gone_pid[1]].index.values.get())\n",
    "        R_gone = distance_L2_pbc(point1, point2) * DS  #cm\n",
    "\n",
    "        #record\n",
    "        index1_lst.append(index1)\n",
    "        index2_lst.append(index2)\n",
    "        R_gone_lst.append(R_gone)\n",
    "        t_lst.append(t)\n",
    "\n",
    "        #compute ranges for remaining particles\n",
    "        stay_pid = sorted(dff2['particle'].values.get())\n",
    "        point1 = dff4.loc[dff4['particle'] == stay_pid[0],\n",
    "                          ['x', 'y']].values.get().flatten()\n",
    "        point2 = dff4.loc[dff4['particle'] == stay_pid[1],\n",
    "                          ['x', 'y']].values.get().flatten()\n",
    "#         index1 = dff4.loc[dff4['particle'] == stay_pid[0]].index.values.get()\n",
    "#         index2 = dff4.loc[dff4['particle'] == stay_pid[1]].index.values.get()\n",
    "        index1 = int(dff4.loc[dff4['particle'] == stay_pid[0]].index.values.get())\n",
    "        index2 = int(dff4.loc[dff4['particle'] == stay_pid[1]].index.values.get())\n",
    "        R_stay = distance_L2_pbc(point1, point2) * DS  #cm\n",
    "\n",
    "        #record\n",
    "        index1_lst2.append(index1)\n",
    "        index2_lst2.append(index2)\n",
    "        R_stay_lst.append(R_stay)\n",
    "\n",
    "    df_4_to_2 = pd.DataFrame({\n",
    "        'R_stay': R_stay_lst,\n",
    "        'R_gone': R_gone_lst,\n",
    "        't': t_lst,\n",
    "        'event_id_int': event_id_int,\n",
    "        'index1_stay': index1_lst2,\n",
    "        'index2_stay': index2_lst2,\n",
    "        'index1_gone': index1_lst,\n",
    "        'index2_gone': index2_lst,\n",
    "    }).astype({'event_id_int': 'int64', 'index1_stay': 'int32','index2_stay': 'int32',\n",
    "                                        'index1_gone': 'int32','index2_gone': 'int32'})\n",
    "    return df_2_to_4, df_4_to_2"
   ]
  },
  {
   "cell_type": "code",
   "execution_count": 189,
   "id": "d5951c24",
   "metadata": {
    "ExecuteTime": {
     "end_time": "2021-10-08T23:04:27.679035Z",
     "start_time": "2021-10-08T23:04:27.654215Z"
    }
   },
   "outputs": [
    {
     "name": "stdout",
     "output_type": "stream",
     "text": [
      "computing ranges at 2->4 and 4->2 events for 324 trajectory files from\n",
      "/home/timothytyree/Documents/GitHub/care/notebooks/Data/initial-conditions-fk-200x200/param_set_8_ds_5.0_tmax_30_diffCoef_0.001_dt_0.025/trajectories\n"
     ]
    }
   ],
   "source": [
    "input_fn_lst=get_all_files_matching_pattern(input_fn,trgt='.csv')\n",
    "print(f'computing ranges at 2->4 and 4->2 events for {len(input_fn_lst)} trajectory files from\\n{os.path.dirname(input_fn)}')"
   ]
  },
  {
   "cell_type": "code",
   "execution_count": 190,
   "id": "c037a71e",
   "metadata": {
    "ExecuteTime": {
     "end_time": "2021-10-08T23:04:28.271311Z",
     "start_time": "2021-10-08T23:04:28.250435Z"
    }
   },
   "outputs": [],
   "source": [
    "npartitions=os.cpu_count()\n",
    "printing=True"
   ]
  },
  {
   "cell_type": "code",
   "execution_count": 191,
   "id": "55f54e3e",
   "metadata": {
    "ExecuteTime": {
     "end_time": "2021-10-08T23:05:21.847646Z",
     "start_time": "2021-10-08T23:04:28.822346Z"
    }
   },
   "outputs": [
    {
     "name": "stdout",
     "output_type": "stream",
     "text": [
      "run time for computation was 52.97 seconds.\n"
     ]
    }
   ],
   "source": [
    "#all CPU version\n",
    "b = db.from_sequence(input_fn_lst, npartitions=npartitions).map(routine)\n",
    "start = time.time()\n",
    "retval = list(b)\n",
    "if printing:\n",
    "    print(f\"run time for computation was {time.time()-start:.2f} seconds.\")"
   ]
  },
  {
   "cell_type": "code",
   "execution_count": 192,
   "id": "ea5e8ee1",
   "metadata": {
    "ExecuteTime": {
     "end_time": "2021-10-08T23:05:25.788483Z",
     "start_time": "2021-10-08T23:05:25.725751Z"
    }
   },
   "outputs": [
    {
     "data": {
      "text/plain": [
       "(324, 2)"
      ]
     },
     "execution_count": 192,
     "metadata": {},
     "output_type": "execute_result"
    }
   ],
   "source": [
    "retval_array=np.array(retval,dtype=object)\n",
    "retval_array.shape"
   ]
  },
  {
   "cell_type": "code",
   "execution_count": 217,
   "id": "7694859d",
   "metadata": {
    "ExecuteTime": {
     "end_time": "2021-10-08T23:12:59.737124Z",
     "start_time": "2021-10-08T23:12:59.670524Z"
    }
   },
   "outputs": [
    {
     "data": {
      "text/html": [
       "<div>\n",
       "<style scoped>\n",
       "    .dataframe tbody tr th:only-of-type {\n",
       "        vertical-align: middle;\n",
       "    }\n",
       "\n",
       "    .dataframe tbody tr th {\n",
       "        vertical-align: top;\n",
       "    }\n",
       "\n",
       "    .dataframe thead th {\n",
       "        text-align: right;\n",
       "    }\n",
       "</style>\n",
       "<table border=\"1\" class=\"dataframe\">\n",
       "  <thead>\n",
       "    <tr style=\"text-align: right;\">\n",
       "      <th></th>\n",
       "      <th>R_birth</th>\n",
       "      <th>t</th>\n",
       "      <th>event_id_int</th>\n",
       "      <th>index1</th>\n",
       "      <th>index2</th>\n",
       "    </tr>\n",
       "  </thead>\n",
       "  <tbody>\n",
       "    <tr>\n",
       "      <th>0</th>\n",
       "      <td>0.023579</td>\n",
       "      <td>639.825</td>\n",
       "      <td>12002003556000</td>\n",
       "      <td>120629</td>\n",
       "      <td>120630</td>\n",
       "    </tr>\n",
       "    <tr>\n",
       "      <th>1</th>\n",
       "      <td>0.045014</td>\n",
       "      <td>780.800</td>\n",
       "      <td>12002003556000</td>\n",
       "      <td>144465</td>\n",
       "      <td>144466</td>\n",
       "    </tr>\n",
       "    <tr>\n",
       "      <th>0</th>\n",
       "      <td>0.033323</td>\n",
       "      <td>532.500</td>\n",
       "      <td>12002001516000</td>\n",
       "      <td>77707</td>\n",
       "      <td>77708</td>\n",
       "    </tr>\n",
       "    <tr>\n",
       "      <th>1</th>\n",
       "      <td>0.004324</td>\n",
       "      <td>593.800</td>\n",
       "      <td>12002001516000</td>\n",
       "      <td>83297</td>\n",
       "      <td>83295</td>\n",
       "    </tr>\n",
       "    <tr>\n",
       "      <th>2</th>\n",
       "      <td>0.030411</td>\n",
       "      <td>1171.475</td>\n",
       "      <td>12002001516000</td>\n",
       "      <td>177432</td>\n",
       "      <td>177431</td>\n",
       "    </tr>\n",
       "    <tr>\n",
       "      <th>...</th>\n",
       "      <td>...</td>\n",
       "      <td>...</td>\n",
       "      <td>...</td>\n",
       "      <td>...</td>\n",
       "      <td>...</td>\n",
       "    </tr>\n",
       "    <tr>\n",
       "      <th>0</th>\n",
       "      <td>0.023187</td>\n",
       "      <td>311.675</td>\n",
       "      <td>12002003106000</td>\n",
       "      <td>105816</td>\n",
       "      <td>105817</td>\n",
       "    </tr>\n",
       "    <tr>\n",
       "      <th>1</th>\n",
       "      <td>0.085401</td>\n",
       "      <td>487.150</td>\n",
       "      <td>12002003106000</td>\n",
       "      <td>123543</td>\n",
       "      <td>123544</td>\n",
       "    </tr>\n",
       "    <tr>\n",
       "      <th>2</th>\n",
       "      <td>0.003173</td>\n",
       "      <td>1191.725</td>\n",
       "      <td>12002003106000</td>\n",
       "      <td>221879</td>\n",
       "      <td>221881</td>\n",
       "    </tr>\n",
       "    <tr>\n",
       "      <th>3</th>\n",
       "      <td>0.014758</td>\n",
       "      <td>1217.825</td>\n",
       "      <td>12002003106000</td>\n",
       "      <td>226806</td>\n",
       "      <td>226807</td>\n",
       "    </tr>\n",
       "    <tr>\n",
       "      <th>4</th>\n",
       "      <td>0.010059</td>\n",
       "      <td>1407.525</td>\n",
       "      <td>12002003106000</td>\n",
       "      <td>245031</td>\n",
       "      <td>245032</td>\n",
       "    </tr>\n",
       "  </tbody>\n",
       "</table>\n",
       "<p>2047 rows × 5 columns</p>\n",
       "</div>"
      ],
      "text/plain": [
       "     R_birth         t    event_id_int  index1  index2\n",
       "0   0.023579   639.825  12002003556000  120629  120630\n",
       "1   0.045014   780.800  12002003556000  144465  144466\n",
       "0   0.033323   532.500  12002001516000   77707   77708\n",
       "1   0.004324   593.800  12002001516000   83297   83295\n",
       "2   0.030411  1171.475  12002001516000  177432  177431\n",
       "..       ...       ...             ...     ...     ...\n",
       "0   0.023187   311.675  12002003106000  105816  105817\n",
       "1   0.085401   487.150  12002003106000  123543  123544\n",
       "2   0.003173  1191.725  12002003106000  221879  221881\n",
       "3   0.014758  1217.825  12002003106000  226806  226807\n",
       "4   0.010059  1407.525  12002003106000  245031  245032\n",
       "\n",
       "[2047 rows x 5 columns]"
      ]
     },
     "execution_count": 217,
     "metadata": {},
     "output_type": "execute_result"
    }
   ],
   "source": [
    "df_2_to_4=pd.concat(retval_array[:,0])\n",
    "df_2_to_4"
   ]
  },
  {
   "cell_type": "code",
   "execution_count": 226,
   "id": "e2edea71",
   "metadata": {
    "ExecuteTime": {
     "end_time": "2021-10-08T23:21:57.108194Z",
     "start_time": "2021-10-08T23:21:56.953687Z"
    }
   },
   "outputs": [
    {
     "data": {
      "image/png": "[encoded data removed]",
      "text/plain": [
       "<Figure size 432x288 with 1 Axes>"
      ]
     },
     "metadata": {
      "needs_background": "light"
     },
     "output_type": "display_data"
    }
   ],
   "source": [
    "plt.hist(df_2_to_4['R_birth'].values,bins=30,density=True)\n",
    "format_plot(ax=plt.gca(), xlabel=r'$R_{birth}^{(2\\rightarrow4)}$ (cm)', ylabel='PDF', fontsize=20)\n",
    "plt.xlim([0,0.2])\n",
    "plt.show()"
   ]
  },
  {
   "cell_type": "markdown",
   "id": "be5e6a26",
   "metadata": {},
   "source": [
    "__Results__\n",
    "- the range of the newly created particles appears bimodal (N=2047 events)\n",
    "- the range of the newly created particles appears bimodal both (i) when considering all 2->4 events and (ii) when considering only (2->4) events that occur later than t=4.5 seconds\n",
    "- the distributions of ranges of remaining particles after a 4->2 event (N=2365) appear qualitatively similar to those of all ranges between all particles at all times... If you want, I can perform a statistical test to see if the distributions are \n",
    "\n",
    "- these creation and annihilation distributions were significantly different according to a two-sample Kolmogorov-Smirnov test for goodness of fit (p=5.249127117412655e-07)"
   ]
  },
  {
   "cell_type": "code",
   "execution_count": 215,
   "id": "01e90898",
   "metadata": {
    "ExecuteTime": {
     "end_time": "2021-10-08T23:11:49.745918Z",
     "start_time": "2021-10-08T23:11:49.721359Z"
    }
   },
   "outputs": [],
   "source": [
    "# tmin=df_2_to_4['t'].quantile(0.8);print(f\"tmin={tmin} ms\")\n",
    "# plt.hist(df_2_to_4.query(f't>={tmin}')['R_birth'].values,bins=30,density=True)\n",
    "# format_plot(ax=plt.gca(), xlabel=r'$R_{creation}^{(2\\rightarrow4)}$ (cm)', ylabel='PDF', fontsize=20)\n",
    "# plt.show()"
   ]
  },
  {
   "cell_type": "code",
   "execution_count": 218,
   "id": "3f0da684",
   "metadata": {
    "ExecuteTime": {
     "end_time": "2021-10-08T23:13:13.898458Z",
     "start_time": "2021-10-08T23:13:13.853264Z"
    }
   },
   "outputs": [],
   "source": [
    "df_4_to_2=pd.concat(retval_array[:,1])\n",
    "# df_4_to_2.head()"
   ]
  },
  {
   "cell_type": "code",
   "execution_count": 219,
   "id": "3833ce94",
   "metadata": {
    "ExecuteTime": {
     "end_time": "2021-10-08T23:13:27.306789Z",
     "start_time": "2021-10-08T23:13:27.166916Z"
    }
   },
   "outputs": [
    {
     "data": {
      "image/png": "[encoded data removed]",
      "text/plain": [
       "<Figure size 432x288 with 1 Axes>"
      ]
     },
     "metadata": {
      "needs_background": "light"
     },
     "output_type": "display_data"
    }
   ],
   "source": [
    "plt.hist(df_4_to_2['R_stay'].values,bins=30,density=True)\n",
    "format_plot(ax=plt.gca(), xlabel=r'$R_{stay}^{(4\\rightarrow2)}$ (cm)', ylabel='PDF', fontsize=20)\n",
    "plt.show()"
   ]
  },
  {
   "cell_type": "code",
   "execution_count": 225,
   "id": "5f3192ce",
   "metadata": {
    "ExecuteTime": {
     "end_time": "2021-10-08T23:18:11.832006Z",
     "start_time": "2021-10-08T23:18:11.668141Z"
    }
   },
   "outputs": [
    {
     "data": {
      "image/png": "[encoded data removed]",
      "text/plain": [
       "<Figure size 432x288 with 1 Axes>"
      ]
     },
     "metadata": {
      "needs_background": "light"
     },
     "output_type": "display_data"
    }
   ],
   "source": [
    "plt.hist(df_4_to_2['R_gone'].values,bins=40,density=True)\n",
    "format_plot(ax=plt.gca(), xlabel=r'$R_{gone}^{(4\\rightarrow2)}$ (cm)', ylabel='PDF', fontsize=20)\n",
    "plt.xlim([0,0.2])\n",
    "plt.show()"
   ]
  },
  {
   "cell_type": "code",
   "execution_count": 221,
   "id": "3d6dfe97",
   "metadata": {
    "ExecuteTime": {
     "end_time": "2021-10-08T23:15:59.130872Z",
     "start_time": "2021-10-08T23:15:59.110222Z"
    }
   },
   "outputs": [],
   "source": [
    "#DONE: identified bug\n",
    "#DONE: reproduce erroneous behavior\n",
    "#DONE: fix bug in multiple rows matching in df_2_to_4 for index1 and index2 retrieval\n",
    "#DONE: verify that the bug is gone (true if int(...) works)"
   ]
  },
  {
   "cell_type": "code",
   "execution_count": 222,
   "id": "a1d15b8a",
   "metadata": {
    "ExecuteTime": {
     "end_time": "2021-10-08T23:16:05.149503Z",
     "start_time": "2021-10-08T23:16:05.123325Z"
    }
   },
   "outputs": [
    {
     "data": {
      "text/html": [
       "<div>\n",
       "<style scoped>\n",
       "    .dataframe tbody tr th:only-of-type {\n",
       "        vertical-align: middle;\n",
       "    }\n",
       "\n",
       "    .dataframe tbody tr th {\n",
       "        vertical-align: top;\n",
       "    }\n",
       "\n",
       "    .dataframe thead th {\n",
       "        text-align: right;\n",
       "    }\n",
       "</style>\n",
       "<table border=\"1\" class=\"dataframe\">\n",
       "  <thead>\n",
       "    <tr style=\"text-align: right;\">\n",
       "      <th></th>\n",
       "      <th>R_stay</th>\n",
       "      <th>R_gone</th>\n",
       "      <th>t</th>\n",
       "      <th>event_id_int</th>\n",
       "      <th>index1_stay</th>\n",
       "      <th>index2_stay</th>\n",
       "      <th>index1_gone</th>\n",
       "      <th>index2_gone</th>\n",
       "    </tr>\n",
       "  </thead>\n",
       "  <tbody>\n",
       "    <tr>\n",
       "      <th>0</th>\n",
       "      <td>1.503694</td>\n",
       "      <td>0.022295</td>\n",
       "      <td>439.725</td>\n",
       "      <td>12002003556000</td>\n",
       "      <td>104614</td>\n",
       "      <td>104615</td>\n",
       "      <td>104617</td>\n",
       "      <td>104616</td>\n",
       "    </tr>\n",
       "    <tr>\n",
       "      <th>1</th>\n",
       "      <td>0.940460</td>\n",
       "      <td>0.008984</td>\n",
       "      <td>766.750</td>\n",
       "      <td>12002003556000</td>\n",
       "      <td>143335</td>\n",
       "      <td>143334</td>\n",
       "      <td>143336</td>\n",
       "      <td>143337</td>\n",
       "    </tr>\n",
       "    <tr>\n",
       "      <th>2</th>\n",
       "      <td>0.373077</td>\n",
       "      <td>0.011420</td>\n",
       "      <td>781.650</td>\n",
       "      <td>12002003556000</td>\n",
       "      <td>144593</td>\n",
       "      <td>144592</td>\n",
       "      <td>144594</td>\n",
       "      <td>144595</td>\n",
       "    </tr>\n",
       "    <tr>\n",
       "      <th>0</th>\n",
       "      <td>2.928500</td>\n",
       "      <td>0.051299</td>\n",
       "      <td>166.325</td>\n",
       "      <td>12002001516000</td>\n",
       "      <td>48406</td>\n",
       "      <td>48407</td>\n",
       "      <td>48408</td>\n",
       "      <td>48409</td>\n",
       "    </tr>\n",
       "    <tr>\n",
       "      <th>1</th>\n",
       "      <td>2.317649</td>\n",
       "      <td>0.003074</td>\n",
       "      <td>541.075</td>\n",
       "      <td>12002001516000</td>\n",
       "      <td>79070</td>\n",
       "      <td>79073</td>\n",
       "      <td>79072</td>\n",
       "      <td>79071</td>\n",
       "    </tr>\n",
       "    <tr>\n",
       "      <th>...</th>\n",
       "      <td>...</td>\n",
       "      <td>...</td>\n",
       "      <td>...</td>\n",
       "      <td>...</td>\n",
       "      <td>...</td>\n",
       "      <td>...</td>\n",
       "      <td>...</td>\n",
       "      <td>...</td>\n",
       "    </tr>\n",
       "    <tr>\n",
       "      <th>1</th>\n",
       "      <td>1.451637</td>\n",
       "      <td>0.029859</td>\n",
       "      <td>357.800</td>\n",
       "      <td>12002003106000</td>\n",
       "      <td>113190</td>\n",
       "      <td>113191</td>\n",
       "      <td>113189</td>\n",
       "      <td>113188</td>\n",
       "    </tr>\n",
       "    <tr>\n",
       "      <th>2</th>\n",
       "      <td>2.418702</td>\n",
       "      <td>0.028078</td>\n",
       "      <td>814.675</td>\n",
       "      <td>12002003106000</td>\n",
       "      <td>191708</td>\n",
       "      <td>191711</td>\n",
       "      <td>191710</td>\n",
       "      <td>191709</td>\n",
       "    </tr>\n",
       "    <tr>\n",
       "      <th>3</th>\n",
       "      <td>2.028194</td>\n",
       "      <td>0.006256</td>\n",
       "      <td>1217.775</td>\n",
       "      <td>12002003106000</td>\n",
       "      <td>226794</td>\n",
       "      <td>226797</td>\n",
       "      <td>226795</td>\n",
       "      <td>226796</td>\n",
       "    </tr>\n",
       "    <tr>\n",
       "      <th>4</th>\n",
       "      <td>1.237123</td>\n",
       "      <td>0.010520</td>\n",
       "      <td>1255.975</td>\n",
       "      <td>12002003106000</td>\n",
       "      <td>232903</td>\n",
       "      <td>232902</td>\n",
       "      <td>232900</td>\n",
       "      <td>232901</td>\n",
       "    </tr>\n",
       "    <tr>\n",
       "      <th>5</th>\n",
       "      <td>1.379337</td>\n",
       "      <td>0.011110</td>\n",
       "      <td>1411.025</td>\n",
       "      <td>12002003106000</td>\n",
       "      <td>245582</td>\n",
       "      <td>245584</td>\n",
       "      <td>245585</td>\n",
       "      <td>245583</td>\n",
       "    </tr>\n",
       "  </tbody>\n",
       "</table>\n",
       "<p>2365 rows × 8 columns</p>\n",
       "</div>"
      ],
      "text/plain": [
       "      R_stay    R_gone         t    event_id_int  index1_stay  index2_stay  \\\n",
       "0   1.503694  0.022295   439.725  12002003556000       104614       104615   \n",
       "1   0.940460  0.008984   766.750  12002003556000       143335       143334   \n",
       "2   0.373077  0.011420   781.650  12002003556000       144593       144592   \n",
       "0   2.928500  0.051299   166.325  12002001516000        48406        48407   \n",
       "1   2.317649  0.003074   541.075  12002001516000        79070        79073   \n",
       "..       ...       ...       ...             ...          ...          ...   \n",
       "1   1.451637  0.029859   357.800  12002003106000       113190       113191   \n",
       "2   2.418702  0.028078   814.675  12002003106000       191708       191711   \n",
       "3   2.028194  0.006256  1217.775  12002003106000       226794       226797   \n",
       "4   1.237123  0.010520  1255.975  12002003106000       232903       232902   \n",
       "5   1.379337  0.011110  1411.025  12002003106000       245582       245584   \n",
       "\n",
       "    index1_gone  index2_gone  \n",
       "0        104617       104616  \n",
       "1        143336       143337  \n",
       "2        144594       144595  \n",
       "0         48408        48409  \n",
       "1         79072        79071  \n",
       "..          ...          ...  \n",
       "1        113189       113188  \n",
       "2        191710       191709  \n",
       "3        226795       226796  \n",
       "4        232900       232901  \n",
       "5        245585       245583  \n",
       "\n",
       "[2365 rows x 8 columns]"
      ]
     },
     "execution_count": 222,
     "metadata": {},
     "output_type": "execute_result"
    }
   ],
   "source": [
    "df_4_to_2"
   ]
  },
  {
   "cell_type": "code",
   "execution_count": 231,
   "id": "6a0ff9be",
   "metadata": {
    "ExecuteTime": {
     "end_time": "2021-10-08T23:29:43.188567Z",
     "start_time": "2021-10-08T23:29:43.143777Z"
    }
   },
   "outputs": [
    {
     "data": {
      "text/plain": [
       "KstestResult(statistic=0.08285584741657724, pvalue=5.249127117412655e-07)"
      ]
     },
     "execution_count": 231,
     "metadata": {},
     "output_type": "execute_result"
    }
   ],
   "source": [
    "s1=df_4_to_2['R_gone'].values\n",
    "s2=df_2_to_4['R_birth'].values\n",
    "scipy.stats.kstest(s1,s2,mode='exact')\n"
   ]
  },
  {
   "cell_type": "code",
   "execution_count": 233,
   "id": "fef62017",
   "metadata": {
    "ExecuteTime": {
     "end_time": "2021-10-08T23:37:23.710122Z",
     "start_time": "2021-10-08T23:37:23.688717Z"
    }
   },
   "outputs": [],
   "source": [
    "#save ranges as pdf\n",
    "save_folder=os.path.dirname(os.path.dirname(input_fn))\n",
    "os.chdir(save_folder)"
   ]
  },
  {
   "cell_type": "code",
   "execution_count": 234,
   "id": "bd682442",
   "metadata": {
    "ExecuteTime": {
     "end_time": "2021-10-08T23:38:10.996822Z",
     "start_time": "2021-10-08T23:38:10.943714Z"
    }
   },
   "outputs": [],
   "source": [
    "df_4_to_2.to_csv('ranges_4_to_2.csv',index=False)\n",
    "df_2_to_4.to_csv('ranges_2_to_4.csv',index=False)"
   ]
  },
  {
   "cell_type": "code",
   "execution_count": null,
   "id": "e1e78ac3",
   "metadata": {},
   "outputs": [],
   "source": []
  }
 ],
 "metadata": {
  "kernelspec": {
   "display_name": "Python 3 (ipykernel)",
   "language": "python",
   "name": "python3"
  },
  "language_info": {
   "codemirror_mode": {
    "name": "ipython",
    "version": 3
   },
   "file_extension": ".py",
   "mimetype": "text/x-python",
   "name": "python",
   "nbconvert_exporter": "python",
   "pygments_lexer": "ipython3",
   "version": "3.7.10"
  },
  "toc": {
   "base_numbering": 1,
   "nav_menu": {},
   "number_sections": true,
   "sideBar": true,
   "skip_h1_title": false,
   "title_cell": "Table of Contents",
   "title_sidebar": "Contents",
   "toc_cell": false,
   "toc_position": {},
   "toc_section_display": true,
   "toc_window_display": false
  },
  "varInspector": {
   "cols": {
    "lenName": 16,
    "lenType": 16,
    "lenVar": 40
   },
   "kernels_config": {
    "python": {
     "delete_cmd_postfix": "",
     "delete_cmd_prefix": "del ",
     "library": "var_list.py",
     "varRefreshCmd": "print(var_dic_list())"
    },
    "r": {
     "delete_cmd_postfix": ") ",
     "delete_cmd_prefix": "rm(",
     "library": "var_list.r",
     "varRefreshCmd": "cat(var_dic_list()) "
    }
   },
   "types_to_exclude": [
    "module",
    "function",
    "builtin_function_or_method",
    "instance",
    "_Feature"
   ],
   "window_display": false
  }
 },
 "nbformat": 4,
 "nbformat_minor": 5
}
