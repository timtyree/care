{
 "cells": [
  {
   "cell_type": "markdown",
   "metadata": {},
   "source": [
    "# Nonparallelized 2D Atrial Fibrillation - 3 Variable Model"
   ]
  },
  {
   "cell_type": "code",
   "execution_count": 52,
   "metadata": {
    "ExecuteTime": {
     "end_time": "2020-05-24T03:41:38.538895Z",
     "start_time": "2020-05-24T03:41:38.512926Z"
    }
   },
   "outputs": [
    {
     "name": "stdout",
     "output_type": "stream",
     "text": [
      "The autoreload extension is already loaded. To reload it, use:\n",
      "  %reload_ext autoreload\n"
     ]
    }
   ],
   "source": [
    "import matplotlib.pyplot as plt, numpy as np, os\n",
    "from numba import njit, jit\n",
    "from PIL import Image\n",
    "import imageio\n",
    "# import cv2 as cv\n",
    "\n",
    "if 'nb_dir' not in globals():\n",
    "    nb_dir = os.getcwd()\n",
    "\n",
    "width = 512\n",
    "height = 512\n",
    "channel_no = 3\n",
    "\n",
    "from lib.minimal_model import *\n",
    "from lib.TexturePlot import *\n",
    "\n",
    "%load_ext autoreload\n",
    "%autoreload 2"
   ]
  },
  {
   "cell_type": "code",
   "execution_count": 53,
   "metadata": {
    "ExecuteTime": {
     "end_time": "2020-05-24T03:41:41.195304Z",
     "start_time": "2020-05-24T03:41:41.181681Z"
    }
   },
   "outputs": [],
   "source": [
    "beep = lambda x: os.system(\"echo -n '\\\\a';sleep 0.2;\" * x)"
   ]
  },
  {
   "cell_type": "markdown",
   "metadata": {},
   "source": [
    "# initialize the buffer in a reproducible way \n",
    "*and save as a .jpg for later*<br>\n",
    "The buffer has three channels for the three variable model\n",
    "- gimage[...,0] denotes the transmembrane voltage \n",
    "- gimage[...,1] denotes the fast variable\n",
    "- gimage[...,2] denotes the slow variable "
   ]
  },
  {
   "cell_type": "code",
   "execution_count": 3,
   "metadata": {
    "ExecuteTime": {
     "end_time": "2020-05-24T01:02:31.644967Z",
     "start_time": "2020-05-24T01:02:31.125746Z"
    }
   },
   "outputs": [
    {
     "data": {
      "image/png": "[encoded data removed]",
      "text/plain": [
       "<Figure size 720x720 with 1 Axes>"
      ]
     },
     "metadata": {
      "needs_background": "light"
     },
     "output_type": "display_data"
    }
   ],
   "source": [
    "\n",
    "# #create standardized initialization buffer\n",
    "# gimage = initialize_mesh(width, height, channel_no, value=1)  #100)\n",
    "# #view the buffer\n",
    "# plt.figure(figsize=(6, 6))\n",
    "# plt.imshow(gimage.astype('uint8'))\n",
    "# plt.axis('off')"
   ]
  },
  {
   "cell_type": "code",
   "execution_count": 4,
   "metadata": {
    "ExecuteTime": {
     "end_time": "2020-05-24T01:02:31.677375Z",
     "start_time": "2020-05-24T01:02:31.647605Z"
    }
   },
   "outputs": [
    {
     "name": "stdout",
     "output_type": "stream",
     "text": [
      "initial mean voltage is 0.03125.\n",
      "initial mean fast variable is 0.96875.\n",
      "initial mean slow variable is 0.3875000000000002.\n"
     ]
    }
   ],
   "source": [
    "# Image.frombuffer(\"L\", (width, height), 1*gimage, 'raw', \"L\", 0, 1)\n",
    "# img = Image.frombuffer(\"L\", (512, 512), 2*gimage, 'raw', \"L\", 0, 1)\n",
    "# pbc(gimage,512,512)\n",
    "print(f\"initial mean voltage is {np.mean(gimage[...,0])}.\")\n",
    "print(f\"initial mean fast variable is {np.mean(gimage[...,1])}.\")\n",
    "print(f\"initial mean slow variable is {np.mean(gimage[...,2])}.\")"
   ]
  },
  {
   "cell_type": "markdown",
   "metadata": {},
   "source": [
    "# reimplement the shader in numpy"
   ]
  },
  {
   "cell_type": "code",
   "execution_count": 5,
   "metadata": {
    "ExecuteTime": {
     "end_time": "2020-05-24T01:02:31.713773Z",
     "start_time": "2020-05-24T01:02:31.681845Z"
    }
   },
   "outputs": [],
   "source": [
    "# abs(sum(time_step_at_pixel(txt, 0, 0)))\n",
    "# pbc(gimage,512,512),"
   ]
  },
  {
   "cell_type": "code",
   "execution_count": 6,
   "metadata": {
    "ExecuteTime": {
     "end_time": "2020-05-24T01:02:32.357552Z",
     "start_time": "2020-05-24T01:02:31.716331Z"
    }
   },
   "outputs": [],
   "source": [
    "txt = gimage.copy()\n",
    "assert ((np.isclose(pbc(gimage, 512, 512),\n",
    "                    np.array([0., 0., 0.], dtype=np.float32))).any()\n",
    "        )  #roughly test periodic boundary conditions\n",
    "# assert((np.isclose(pbc(gimage,512,512),np.array([-0.01574451,  0.11116473,  0.02320262], dtype=np.float32))).any())  #roughly test periodic boundary conditions\n",
    "assert (abs(sum(time_step_at_pixel(txt, 0, 0))) < 0.2\n",
    "        )  #test time step works at a given pixel"
   ]
  },
  {
   "cell_type": "code",
   "execution_count": 7,
   "metadata": {
    "ExecuteTime": {
     "end_time": "2020-05-24T01:02:32.576736Z",
     "start_time": "2020-05-24T01:02:32.358846Z"
    }
   },
   "outputs": [],
   "source": [
    "dtexture_dt = np.zeros((width, height, channel_no), dtype=np.float64)\n",
    "get_time_step(txt, dtexture_dt)\n",
    "\n",
    "assert (0 < abs(np.min(dtexture_dt)))  #test that dtexture_dt was written to\n",
    "assert (np.max(txt[..., 0]) >= np.max(gimage[..., 0] is not None)\n",
    "        )  #test that txt was not written to"
   ]
  },
  {
   "cell_type": "code",
   "execution_count": 36,
   "metadata": {
    "ExecuteTime": {
     "end_time": "2020-05-24T01:53:40.366826Z",
     "start_time": "2020-05-24T01:53:40.347515Z"
    }
   },
   "outputs": [
    {
     "data": {
      "text/plain": [
       "True"
      ]
     },
     "execution_count": 36,
     "metadata": {},
     "output_type": "execute_result"
    }
   ],
   "source": [
    "gimage.any()"
   ]
  },
  {
   "cell_type": "code",
   "execution_count": 42,
   "metadata": {
    "ExecuteTime": {
     "end_time": "2020-05-24T01:54:51.779119Z",
     "start_time": "2020-05-24T01:54:51.426345Z"
    }
   },
   "outputs": [],
   "source": [
    "@jit\n",
    "def time_step(texture, h):\n",
    "    dtexture_dt = np.zeros((width, height, channel_no), dtype=np.float64)\n",
    "    get_time_step(texture, dtexture_dt)\n",
    "    texture += h * dtexture_dt\n",
    "\n",
    "assert(time_step(gimage ,0.1) is None)\n",
    "assert(gimage.any())\n",
    "assert(gimage[0,0].dtype    is not None)"
   ]
  },
  {
   "cell_type": "code",
   "execution_count": 50,
   "metadata": {
    "ExecuteTime": {
     "end_time": "2020-05-24T02:06:15.063904Z",
     "start_time": "2020-05-24T02:05:50.805073Z"
    }
   },
   "outputs": [
    {
     "name": "stdout",
     "output_type": "stream",
     "text": [
      "number of nan pixel voltages is 512.\n",
      "current mean voltage is nan.\n",
      "current mean fast variable is 0.9437823406974571.\n",
      "current mean slow variable is 0.9992614056651274.\n"
     ]
    },
    {
     "ename": "NameError",
     "evalue": "name 'tme' is not defined",
     "output_type": "error",
     "traceback": [
      "\u001b[0;31m---------------------------------------------------------------------------\u001b[0m",
      "\u001b[0;31mNameError\u001b[0m                                 Traceback (most recent call last)",
      "\u001b[0;32m<ipython-input-50-411ab3758f0a>\u001b[0m in \u001b[0;36m<module>\u001b[0;34m\u001b[0m\n\u001b[1;32m     11\u001b[0m \u001b[0mprint\u001b[0m\u001b[0;34m(\u001b[0m\u001b[0;34mf\"current mean fast variable is {np.mean(txt[...,1])}.\"\u001b[0m\u001b[0;34m)\u001b[0m\u001b[0;34m\u001b[0m\u001b[0;34m\u001b[0m\u001b[0m\n\u001b[1;32m     12\u001b[0m \u001b[0mprint\u001b[0m\u001b[0;34m(\u001b[0m\u001b[0;34mf\"current mean slow variable is {np.mean(txt[...,2])}.\"\u001b[0m\u001b[0;34m)\u001b[0m\u001b[0;34m\u001b[0m\u001b[0;34m\u001b[0m\u001b[0m\n\u001b[0;32m---> 13\u001b[0;31m \u001b[0mprint\u001b[0m\u001b[0;34m(\u001b[0m\u001b[0;34mf\"current time is {tme}.\"\u001b[0m\u001b[0;34m)\u001b[0m\u001b[0;34m\u001b[0m\u001b[0;34m\u001b[0m\u001b[0m\n\u001b[0m",
      "\u001b[0;31mNameError\u001b[0m: name 'tme' is not defined"
     ]
    }
   ],
   "source": [
    "#reinitialize\n",
    "# txt  = gimage.copy() tme = 0\n",
    "# txt = np.load('Data/buffer_test.npy')\n",
    "tmo = 1\n",
    "h = 0.1\n",
    "for step in range(500):\n",
    "    time_step(txt, h=h)\n",
    "    tmo += h\n",
    "print(f\"number of nan pixel voltages is {np.max(sum(np.isnan(txt[...,0])))}.\")\n",
    "print(f\"current mean voltage is {np.mean(txt[...,0])}.\")\n",
    "print(f\"current mean fast variable is {np.mean(txt[...,1])}.\")\n",
    "print(f\"current mean slow variable is {np.mean(txt[...,2])}.\")\n",
    "print(f\"current time is {tme}.\")"
   ]
  },
  {
   "cell_type": "code",
   "execution_count": 51,
   "metadata": {
    "ExecuteTime": {
     "end_time": "2020-05-24T02:16:59.117574Z",
     "start_time": "2020-05-24T02:16:59.093503Z"
    }
   },
   "outputs": [],
   "source": [
    "#save canvas\n",
    "# np.save(f'Data/buffer_time_origin_primed.npy', txt)\n",
    "# np.save('Data/buffer_init.npy', gimage)"
   ]
  },
  {
   "cell_type": "code",
   "execution_count": 46,
   "metadata": {
    "ExecuteTime": {
     "end_time": "2020-05-24T02:03:25.512551Z",
     "start_time": "2020-05-24T02:03:24.881497Z"
    }
   },
   "outputs": [
    {
     "data": {
      "image/png": "[encoded data removed]",
      "text/plain": [
       "<Figure size 1296x432 with 3 Axes>"
      ]
     },
     "metadata": {
      "needs_background": "light"
     },
     "output_type": "display_data"
    },
    {
     "data": {
      "image/png": "[encoded data removed]",
      "text/plain": [
       "<Figure size 1296x432 with 3 Axes>"
      ]
     },
     "metadata": {
      "needs_background": "light"
     },
     "output_type": "display_data"
    },
    {
     "name": "stdout",
     "output_type": "stream",
     "text": [
      "max value: 0.8220734919420856\n",
      "    min value: -5.842994007759086e-09\n",
      "    mean value: 0.07776932446174945\n",
      "max value: 1.0\n",
      "    min value: 4.2730396698647395e-07\n",
      "    mean value: 0.8207531354970061\n",
      "max value: 0.9999357315470903\n",
      "    min value: 0.9255846617243946\n",
      "    mean value: 0.9930852439857958\n"
     ]
    }
   ],
   "source": [
    "dtexture_dt = np.zeros((width, height, channel_no), dtype=np.float64)\n",
    "get_time_step(txt, dtexture_dt)\n",
    "display_texture(txt, vmins=(0, 0, 0), vmaxs=(1, 1, 1))\n",
    "display_texture(dtexture_dt, vmins=(-1, -1, -1), vmaxs=(1, 1, 1))\n",
    "describe_texture(txt[..., 0])\n",
    "describe_texture(txt[..., 1])\n",
    "describe_texture(txt[..., 2])"
   ]
  },
  {
   "cell_type": "code",
   "execution_count": 47,
   "metadata": {
    "ExecuteTime": {
     "end_time": "2020-05-24T02:04:24.808568Z",
     "start_time": "2020-05-24T02:04:24.783703Z"
    }
   },
   "outputs": [
    {
     "ename": "NameError",
     "evalue": "name 'tme' is not defined",
     "output_type": "error",
     "traceback": [
      "\u001b[0;31m---------------------------------------------------------------------------\u001b[0m",
      "\u001b[0;31mNameError\u001b[0m                                 Traceback (most recent call last)",
      "\u001b[0;32m<ipython-input-47-476060994964>\u001b[0m in \u001b[0;36m<module>\u001b[0;34m\u001b[0m\n\u001b[0;32m----> 1\u001b[0;31m \u001b[0mtme\u001b[0m\u001b[0;34m\u001b[0m\u001b[0;34m\u001b[0m\u001b[0m\n\u001b[0m",
      "\u001b[0;31mNameError\u001b[0m: name 'tme' is not defined"
     ]
    }
   ],
   "source": [
    "tme\n"
   ]
  },
  {
   "cell_type": "code",
   "execution_count": 12,
   "metadata": {
    "ExecuteTime": {
     "end_time": "2020-05-24T01:02:55.902831Z",
     "start_time": "2020-05-24T01:02:55.883115Z"
    }
   },
   "outputs": [
    {
     "data": {
      "text/plain": [
       "array([1.76288650e-139, 1.00000000e+000, 9.93761824e-001])"
      ]
     },
     "execution_count": 12,
     "metadata": {},
     "output_type": "execute_result"
    }
   ],
   "source": [
    "txt[10, 10]\n",
    "# time_step(txt,h=0.01) #~maximally repolarized tissue at equilibrium"
   ]
  },
  {
   "cell_type": "code",
   "execution_count": 13,
   "metadata": {
    "ExecuteTime": {
     "end_time": "2020-05-24T01:02:55.929010Z",
     "start_time": "2020-05-24T01:02:55.905335Z"
    }
   },
   "outputs": [
    {
     "data": {
      "text/plain": [
       "1.0"
      ]
     },
     "execution_count": 13,
     "metadata": {},
     "output_type": "execute_result"
    }
   ],
   "source": [
    "np.max(txt)"
   ]
  },
  {
   "cell_type": "code",
   "execution_count": 14,
   "metadata": {
    "ExecuteTime": {
     "end_time": "2020-05-24T01:02:55.947248Z",
     "start_time": "2020-05-24T01:02:55.930882Z"
    }
   },
   "outputs": [],
   "source": [
    "# plt.figure(figsize=(6,6))\n",
    "# plt.imshow(np.abs(txt[...,1]))\n",
    "# plt.axis('off');"
   ]
  },
  {
   "cell_type": "code",
   "execution_count": 15,
   "metadata": {
    "ExecuteTime": {
     "end_time": "2020-05-24T01:02:55.970307Z",
     "start_time": "2020-05-24T01:02:55.949252Z"
    }
   },
   "outputs": [],
   "source": [
    "# plt.figure(figsize=(6,6))\n",
    "# plt.imshow(np.abs(gimage))\n",
    "# plt.axis('off');"
   ]
  },
  {
   "cell_type": "code",
   "execution_count": 19,
   "metadata": {
    "ExecuteTime": {
     "end_time": "2020-05-24T01:02:56.673352Z",
     "start_time": "2020-05-24T01:02:56.652669Z"
    }
   },
   "outputs": [
    {
     "name": "stdout",
     "output_type": "stream",
     "text": [
      "max value: 0.20978046762179947\n",
      "    min value: -0.020086308292728373\n",
      "    mean value: 0.0004050928873281145\n",
      "max value: 0.0506543622685071\n",
      "    min value: -0.3003003003003003\n",
      "    mean value: -0.0022845232335665672\n",
      "max value: 0.08373588792460812\n",
      "    min value: -0.001489897786717182\n",
      "    mean value: 0.0022267171412359166\n"
     ]
    }
   ],
   "source": [
    "describe_texture(dtexture_dt[..., 0])\n",
    "describe_texture(dtexture_dt[..., 1])\n",
    "describe_texture(dtexture_dt[..., 2])"
   ]
  },
  {
   "cell_type": "code",
   "execution_count": 20,
   "metadata": {
    "ExecuteTime": {
     "end_time": "2020-05-24T01:02:56.697841Z",
     "start_time": "2020-05-24T01:02:56.674860Z"
    }
   },
   "outputs": [
    {
     "data": {
      "text/plain": [
       "array([-0.0071063 ,  0.00099352,  0.05021173])"
      ]
     },
     "execution_count": 20,
     "metadata": {},
     "output_type": "execute_result"
    }
   ],
   "source": [
    "dtexture_dt[256, 256]\n",
    "\n",
    "# def time_step(texture):\n",
    "#     '''assuming width and height have the size of the first two axes fo texture'''\n",
    "#     for x in range(width):\n",
    "#         for y in range(height):\n",
    "#             texture[y, x] = time_step_at_pixel(texture,x,y)"
   ]
  },
  {
   "cell_type": "code",
   "execution_count": 21,
   "metadata": {
    "ExecuteTime": {
     "end_time": "2020-05-24T01:02:56.720377Z",
     "start_time": "2020-05-24T01:02:56.699724Z"
    }
   },
   "outputs": [
    {
     "data": {
      "text/plain": [
       "array([0.05881514, 0.00647924, 0.44767102])"
      ]
     },
     "execution_count": 21,
     "metadata": {},
     "output_type": "execute_result"
    }
   ],
   "source": [
    "txt[256, 256]\n",
    "# txt  = gimage\n",
    "# time_step(txt,0.1)"
   ]
  },
  {
   "cell_type": "code",
   "execution_count": 22,
   "metadata": {
    "ExecuteTime": {
     "end_time": "2020-05-24T01:02:56.740247Z",
     "start_time": "2020-05-24T01:02:56.722541Z"
    },
    "code_folding": []
   },
   "outputs": [],
   "source": [
    "# time_step(txt,0.1)\n",
    "\n",
    "# get_time_step(txt , dtexture_dt)\n",
    "# txt = time_step(txt,h=0.1)\n",
    "\n",
    "# @jit\n",
    "# def time_step(texture, h):\n",
    "#     for x in range(512):\n",
    "#         for y in range(512):\n",
    "#             texture[x,y] += h*time_step_at_pixel(texture,x,y)\n",
    "\n",
    "# # @njit\n",
    "# def time_step(texture1, texture2, h):\n",
    "# \t#width  = 512\n",
    "# \t#height = 512\n",
    "# \tfor x in range(512):\n",
    "# \t\tfor y in range(512):\n",
    "# \t\t\ttexture2[x,y] = time_step_at_pixel(texture1,x,y,h)\n",
    "\n",
    "#     dtexture_dt = np.zeros((width, height, channel_no), dtype = np.float32)\n",
    "#     get_time_step(texture , dtexture_dt)\n",
    "#     return texture + h*dtexture_dt"
   ]
  },
  {
   "cell_type": "markdown",
   "metadata": {},
   "source": [
    "it takes 600 seconds for one time step before compiling<br>\n",
    "it takes 20 milliseconds for one time step after compiling<br>"
   ]
  },
  {
   "cell_type": "code",
   "execution_count": 23,
   "metadata": {
    "ExecuteTime": {
     "end_time": "2020-05-24T01:02:56.757956Z",
     "start_time": "2020-05-24T01:02:56.742750Z"
    }
   },
   "outputs": [],
   "source": [
    "# #view the buffer\n",
    "# img = Image.frombuffer(\"L\", (512, 512), txt, 'raw', \"L\", 0, 1)\n",
    "# img"
   ]
  },
  {
   "cell_type": "markdown",
   "metadata": {},
   "source": [
    "okay, it's running fast, but i'm overwriting the buffer with the time step\n",
    "##TODO: use time_step for forward euler integration\n",
    "##TODO: check if my function calls need x,y replaced with y,x\n",
    "##TODO: find out how many reinits I need to get spiral tips, is this stable?\n",
    "##TODO: put all of these functions into a lib with an __init__.py"
   ]
  },
  {
   "cell_type": "markdown",
   "metadata": {},
   "source": [
    "For the current glitch/instability, we see something spontaneously pop out of the left-right hand side.  This leads me to believe that pbc() is causing the trouble, and it doesn't have to do with a xy to yx parity."
   ]
  },
  {
   "cell_type": "code",
   "execution_count": null,
   "metadata": {},
   "outputs": [],
   "source": []
  },
  {
   "cell_type": "code",
   "execution_count": null,
   "metadata": {},
   "outputs": [],
   "source": []
  },
  {
   "cell_type": "code",
   "execution_count": 28,
   "metadata": {
    "ExecuteTime": {
     "end_time": "2020-05-24T01:06:08.072373Z",
     "start_time": "2020-05-24T01:06:08.027756Z"
    }
   },
   "outputs": [],
   "source": [
    "set_voltage_in_box(txt,\n",
    "                   min_x=256 - 128,\n",
    "                   max_x=256 - 64,\n",
    "                   min_y=256 - 32,\n",
    "                   max_y=256 + 32,\n",
    "                   width=512,\n",
    "                   height=512,\n",
    "                   value=30.0)"
   ]
  },
  {
   "cell_type": "code",
   "execution_count": null,
   "metadata": {
    "ExecuteTime": {
     "end_time": "2020-05-23T21:58:16.714501Z",
     "start_time": "2020-05-23T21:58:16.678762Z"
    }
   },
   "outputs": [],
   "source": []
  },
  {
   "cell_type": "code",
   "execution_count": null,
   "metadata": {
    "ExecuteTime": {
     "end_time": "2020-05-23T18:26:19.731364Z",
     "start_time": "2020-05-23T18:26:19.701319Z"
    }
   },
   "outputs": [],
   "source": []
  },
  {
   "cell_type": "code",
   "execution_count": null,
   "metadata": {
    "ExecuteTime": {
     "end_time": "2020-05-24T00:17:05.359654Z",
     "start_time": "2020-05-24T00:17:05.341654Z"
    }
   },
   "outputs": [],
   "source": []
  },
  {
   "cell_type": "code",
   "execution_count": null,
   "metadata": {
    "ExecuteTime": {
     "end_time": "2020-05-24T00:17:05.383809Z",
     "start_time": "2020-05-24T00:17:05.361804Z"
    }
   },
   "outputs": [],
   "source": []
  },
  {
   "cell_type": "code",
   "execution_count": null,
   "metadata": {},
   "outputs": [],
   "source": []
  }
 ],
 "metadata": {
  "kernelspec": {
   "display_name": "Python 3",
   "language": "python",
   "name": "python3"
  },
  "language_info": {
   "codemirror_mode": {
    "name": "ipython",
    "version": 3
   },
   "file_extension": ".py",
   "mimetype": "text/x-python",
   "name": "python",
   "nbconvert_exporter": "python",
   "pygments_lexer": "ipython3",
   "version": "3.7.7"
  },
  "varInspector": {
   "cols": {
    "lenName": 16,
    "lenType": 16,
    "lenVar": 40
   },
   "kernels_config": {
    "python": {
     "delete_cmd_postfix": "",
     "delete_cmd_prefix": "del ",
     "library": "var_list.py",
     "varRefreshCmd": "print(var_dic_list())"
    },
    "r": {
     "delete_cmd_postfix": ") ",
     "delete_cmd_prefix": "rm(",
     "library": "var_list.r",
     "varRefreshCmd": "cat(var_dic_list()) "
    }
   },
   "types_to_exclude": [
    "module",
    "function",
    "builtin_function_or_method",
    "instance",
    "_Feature"
   ],
   "window_display": false
  }
 },
 "nbformat": 4,
 "nbformat_minor": 2
}
