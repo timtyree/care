{
 "cells": [
  {
   "cell_type": "markdown",
   "id": "23d11d61",
   "metadata": {},
   "source": [
    "# animating tip positions in a single trial\n",
    "Tim Tyree<br>\n",
    "5.1.2023"
   ]
  },
  {
   "cell_type": "code",
   "execution_count": 1,
   "id": "13529003",
   "metadata": {
    "ExecuteTime": {
     "end_time": "2023-05-01T21:15:52.536951Z",
     "start_time": "2023-05-01T21:15:50.991235Z"
    }
   },
   "outputs": [],
   "source": [
    "from lib.my_initialization import *\n",
    "import shutil"
   ]
  },
  {
   "cell_type": "code",
   "execution_count": 45,
   "id": "018cc4c4",
   "metadata": {
    "ExecuteTime": {
     "end_time": "2023-05-01T21:28:29.718868Z",
     "start_time": "2023-05-01T21:28:29.705839Z"
    }
   },
   "outputs": [
    {
     "data": {
      "text/plain": [
       "<function lib.utils.ProgressBar.printProgressBar(iteration, total, prefix='', suffix='', decimals=1, length=100, fill='█', printEnd='\\r')>"
      ]
     },
     "execution_count": 45,
     "metadata": {},
     "output_type": "execute_result"
    }
   ],
   "source": [
    "from lib import unwrap_and_center_xy_values\n",
    "from scipy.signal import savgol_filter\n",
    "from lib import ScatterPlotSnapshot\n",
    "from lib import *\n",
    "# printProgressBar"
   ]
  },
  {
   "cell_type": "markdown",
   "id": "cbd98240",
   "metadata": {},
   "source": [
    "# define module"
   ]
  },
  {
   "cell_type": "code",
   "execution_count": null,
   "id": "6fba2ca5",
   "metadata": {
    "ExecuteTime": {
     "end_time": "2023-05-01T20:27:13.575579Z",
     "start_time": "2023-05-01T20:27:13.445831Z"
    }
   },
   "outputs": [],
   "source": []
  },
  {
   "cell_type": "markdown",
   "id": "f3da5c21",
   "metadata": {},
   "source": [
    "# determine chirality"
   ]
  },
  {
   "cell_type": "code",
   "execution_count": 164,
   "id": "6a0ab221",
   "metadata": {
    "ExecuteTime": {
     "end_time": "2023-05-02T01:15:13.056090Z",
     "start_time": "2023-05-02T01:15:13.052967Z"
    }
   },
   "outputs": [],
   "source": [
    "model_name = \"Fenton-Karma\"\n",
    "folder = f\"{nb_dir}/Data/initial-conditions-fk-200x200/param_set_8_ds_5.0_tmax_10_diffcoef_0.001/trajectories\"\n",
    "# fn = \"ic200x200.3.80_traj_sr_400_mem_0.csv\"\n",
    "fn = \"ic200x200.3.79_traj_sr_400_mem_0.csv\"\n",
    "\n",
    "# model_name = \"Luo-Rudy\"\n",
    "# folder = f\"{nb_dir}/Data/initial-conditions-suite-3-LR/param_qu_tmax_30_Ko_5.4_diffCoef_0.0005_dt_0.5/trajectories\"\n",
    "# fn = \"ic019.33_traj_sr_600_mem_0.csv\"\n",
    "# os.listdir(folder)\n",
    "input_dir = os.path.join(folder,fn)\n",
    "os.path.exists(input_dir)\n",
    "\n",
    "width=200\n",
    "height=200"
   ]
  },
  {
   "cell_type": "code",
   "execution_count": 165,
   "id": "a30864bb",
   "metadata": {
    "ExecuteTime": {
     "end_time": "2023-05-02T01:15:14.086332Z",
     "start_time": "2023-05-02T01:15:13.966445Z"
    }
   },
   "outputs": [
    {
     "name": "stdout",
     "output_type": "stream",
     "text": [
      "dt=0.4\n"
     ]
    }
   ],
   "source": [
    "#load a file of tip trajectories\n",
    "df = pd.read_csv(input_dir)\n",
    "dt = np.around(df['t'].drop_duplicates().head(2).diff().values[-1],3)\n",
    "print(f\"{dt=}\")"
   ]
  },
  {
   "cell_type": "code",
   "execution_count": 167,
   "id": "3fa48b0c",
   "metadata": {
    "ExecuteTime": {
     "end_time": "2023-05-02T01:15:24.562636Z",
     "start_time": "2023-05-02T01:15:24.559056Z"
    }
   },
   "outputs": [
    {
     "name": "stdout",
     "output_type": "stream",
     "text": [
      "savgol smoothing window: 5.2 ms\n"
     ]
    }
   ],
   "source": [
    "# navg = 7\n",
    "# navg = 5\n",
    "# navg = 10 #4ms\n",
    "# navg = 25 #10ms\n",
    "navg = 15 #6ms\n",
    "navg = 13 #pretty good\n",
    "print(f\"savgol smoothing window: {dt*navg} ms\")\n",
    "kwargs_savgol=dict(window_length=navg,\n",
    "            polyorder=3,deriv=1,\n",
    "            delta=1.0,axis=-1,mode='interp')"
   ]
  },
  {
   "cell_type": "code",
   "execution_count": 168,
   "id": "b2bb1898",
   "metadata": {
    "ExecuteTime": {
     "end_time": "2023-05-02T01:15:25.346121Z",
     "start_time": "2023-05-02T01:15:25.342750Z"
    }
   },
   "outputs": [],
   "source": [
    "num_frames = df.frame.drop_duplicates().shape[0]\n",
    "# max_num_frames=10000\n",
    "max_num_frames=2500\n",
    "# max_num_frames=1000"
   ]
  },
  {
   "cell_type": "code",
   "execution_count": 170,
   "id": "f8d53800",
   "metadata": {
    "ExecuteTime": {
     "end_time": "2023-05-02T01:15:55.317328Z",
     "start_time": "2023-05-02T01:15:53.060124Z"
    }
   },
   "outputs": [],
   "source": [
    "#classify particle as left or right handed\n",
    "#WARNING: run time ~2 minutes\n",
    "# for particle,g in df.groupby('particle'):\n",
    "for particle,g in df[df['frame']>=num_frames - max_num_frames].groupby('particle'):\n",
    "    # unwrap\n",
    "    x_values,y_values = g.sort_values(by='t')[['x','y']].values.T\n",
    "    if x_values.shape[0]>=navg:\n",
    "        xv,yv = unwrap_and_center_xy_values(x_values[:navg],y_values[:navg],width,height)#,jump_thresh=None,**kwargs)\n",
    "#         xv,yv = unwrap_and_center_xy_values(x_values[-navg:],y_values[-navg:],width,height)#,jump_thresh=None,**kwargs)\n",
    "#         xv,yv = unwrap_and_center_xy_values(x_values,y_values,width,height)#,jump_thresh=None,**kwargs)\n",
    "        #compute velocities by savgol\n",
    "        vx = savgol_filter(x=xv,**kwargs_savgol)\n",
    "        vy = savgol_filter(x=yv,**kwargs_savgol)\n",
    "        #compute chirality as mean sign of the cross-product between two adjacent velocity estimates\n",
    "        cross = yv[1:]*xv[:-1] - yv[:-1]*xv[1:]\n",
    "        chirality = int(np.median(np.sign(cross)))\n",
    "#         chirality = int(np.sign(np.mean(np.sign(cross))))\n",
    "        #record\n",
    "        df.loc[df['particle']==particle,'chirality']=chirality"
   ]
  },
  {
   "cell_type": "code",
   "execution_count": 171,
   "id": "069f5dfa",
   "metadata": {
    "ExecuteTime": {
     "end_time": "2023-05-02T01:15:57.821193Z",
     "start_time": "2023-05-02T01:15:57.816900Z"
    }
   },
   "outputs": [],
   "source": [
    "# plt.plot(g['t'].values[1:],cross)"
   ]
  },
  {
   "cell_type": "code",
   "execution_count": 172,
   "id": "3925309b",
   "metadata": {
    "ExecuteTime": {
     "end_time": "2023-05-02T01:15:58.090971Z",
     "start_time": "2023-05-02T01:15:58.079813Z"
    }
   },
   "outputs": [
    {
     "data": {
      "text/plain": [
       "count    18268.000000\n",
       "mean        -0.074009\n",
       "std          0.975754\n",
       "min         -1.000000\n",
       "25%         -1.000000\n",
       "50%         -1.000000\n",
       "75%          1.000000\n",
       "max          1.000000\n",
       "Name: chirality, dtype: float64"
      ]
     },
     "execution_count": 172,
     "metadata": {},
     "output_type": "execute_result"
    }
   ],
   "source": [
    "df['chirality'].describe().T"
   ]
  },
  {
   "cell_type": "code",
   "execution_count": 173,
   "id": "13db3b9d",
   "metadata": {
    "ExecuteTime": {
     "end_time": "2023-05-02T01:15:58.502319Z",
     "start_time": "2023-05-02T01:15:58.495639Z"
    }
   },
   "outputs": [
    {
     "name": "stdout",
     "output_type": "stream",
     "text": [
      "mean_chirality=-0.0740 +/- 0.0142 (N=18268)\n"
     ]
    }
   ],
   "source": [
    "s = df['chirality']\n",
    "Delta_mean_chirality = 1.96*s.std()/np.sqrt(s.count()-1.)\n",
    "mean_chirality = s.mean()\n",
    "print(f\"{mean_chirality=:.4f} +/- {Delta_mean_chirality:.4f} (N={s.count()})\")\n",
    "# mean_chirality=0.0345 +/- 0.0055 (N=120993) # LR\n",
    "# mean_chirality=-0.1622 +/- 0.0103 (N=34457) # FK"
   ]
  },
  {
   "cell_type": "code",
   "execution_count": 174,
   "id": "3d99153a",
   "metadata": {
    "ExecuteTime": {
     "end_time": "2023-05-02T01:16:04.345855Z",
     "start_time": "2023-05-02T01:16:03.732715Z"
    }
   },
   "outputs": [
    {
     "name": "stdout",
     "output_type": "stream",
     "text": [
      "\u0007\u0007\u0007"
     ]
    },
    {
     "data": {
      "text/plain": [
       "0"
      ]
     },
     "execution_count": 174,
     "metadata": {},
     "output_type": "execute_result"
    }
   ],
   "source": [
    "beep(3)"
   ]
  },
  {
   "cell_type": "code",
   "execution_count": 175,
   "id": "3dbc0423",
   "metadata": {
    "ExecuteTime": {
     "end_time": "2023-05-02T01:16:04.657258Z",
     "start_time": "2023-05-02T01:16:04.618257Z"
    }
   },
   "outputs": [],
   "source": [
    "saving=True\n",
    "annotating=True\n",
    "# message=f'{model_name} Model'\n",
    "message=f'Spiral Tip Motion'\n",
    "inch = 6\n",
    "if saving:\n",
    "    #for snapshot output\n",
    "    save_folder=f\"{nb_dir}/Figures/mov\"\n",
    "    if os.path.exists(save_folder):\n",
    "        #cleanse the old snapshot folder\n",
    "        shutil.rmtree(save_folder)\n",
    "    os.mkdir(save_folder)"
   ]
  },
  {
   "cell_type": "code",
   "execution_count": 176,
   "id": "b564be19",
   "metadata": {
    "ExecuteTime": {
     "end_time": "2023-05-02T01:17:55.588915Z",
     "start_time": "2023-05-02T01:16:05.098891Z"
    }
   },
   "outputs": [
    {
     "name": "stdout",
     "output_type": "stream",
     "text": [
      " |████████████████████████████████████████████████████████████████████████████████████████████████████| 100.0% \r"
     ]
    }
   ],
   "source": [
    "# for frame,g in df.groupby('frame'):\n",
    "frameno=0\n",
    "for frame,g in df[df['frame']>=(num_frames - max_num_frames)].groupby('frame'):\n",
    "    t = np.around(dt*frame*1e-3,3)\n",
    "    x_values = g['x'].values\n",
    "    y_values = g['y'].values\n",
    "    pid_values = g['particle'].values\n",
    "    chirality_values = g['chirality'].values\n",
    "    #plot tips as a scatter plot that can be saved as png\n",
    "    fig=ScatterPlotSnapshot(x_values,y_values,t,width=width,height=height,\n",
    "                            annotating=annotating,message=message,inch=6)\n",
    "    ax = fig.get_axes()[0]\n",
    "    ax.scatter(x_values[chirality_values==1],\n",
    "        y_values[chirality_values==1],marker='*',c='w',s=100,alpha=1)\n",
    "    ax.scatter(x_values[chirality_values==-1],\n",
    "        y_values[chirality_values==-1],marker='*',c='k',s=100,alpha=1)\n",
    "    if not saving:\n",
    "        plt.show()\n",
    "    else:\n",
    "        os.chdir(save_folder)\n",
    "        save_fn = f\"img{frameno:07d}.png\"\n",
    "        plt.savefig(save_fn,dpi=720/inch, bbox_inches='tight',pad_inches=0,\n",
    "                    facecolor='white');\n",
    "        plt.close()\n",
    "        frameno+=1\n",
    "        printProgressBar(frameno,max_num_frames)"
   ]
  },
  {
   "cell_type": "code",
   "execution_count": 179,
   "id": "31ca3d6b",
   "metadata": {
    "ExecuteTime": {
     "end_time": "2023-05-02T01:21:40.151356Z",
     "start_time": "2023-05-02T01:21:40.148146Z"
    }
   },
   "outputs": [
    {
     "data": {
      "text/plain": [
       "'/home/timothytyree/Documents/GitHub/care/notebooks/Figures/mov'"
      ]
     },
     "execution_count": 179,
     "metadata": {},
     "output_type": "execute_result"
    }
   ],
   "source": [
    "save_folder"
   ]
  },
  {
   "cell_type": "code",
   "execution_count": 180,
   "id": "739f110c",
   "metadata": {
    "ExecuteTime": {
     "end_time": "2023-05-02T01:21:53.435351Z",
     "start_time": "2023-05-02T01:21:52.829016Z"
    }
   },
   "outputs": [
    {
     "name": "stdout",
     "output_type": "stream",
     "text": [
      "\u0007\u0007\u0007"
     ]
    },
    {
     "data": {
      "text/plain": [
       "0"
      ]
     },
     "execution_count": 180,
     "metadata": {},
     "output_type": "execute_result"
    }
   ],
   "source": [
    "# #TODO: generate a video like before,\n",
    "# #concatenate the folder of .png files\n",
    "# os.chdir(f'{nb_dir}/../vid/src')\n",
    "# os.system(f'./concat_folder_png.sh');\n",
    "beep(3)"
   ]
  },
  {
   "cell_type": "code",
   "execution_count": 149,
   "id": "a4c8d729",
   "metadata": {
    "ExecuteTime": {
     "end_time": "2023-05-02T00:58:22.172846Z",
     "start_time": "2023-05-02T00:58:22.169495Z"
    }
   },
   "outputs": [
    {
     "name": "stdout",
     "output_type": "stream",
     "text": [
      "open /home/timothytyree/Documents/GitHub/care/notebooks/../vid/src\n",
      "open /home/timothytyree/Documents/GitHub/care/notebooks/../vid/mov\n"
     ]
    }
   ],
   "source": [
    "print(f'open {nb_dir}/../vid/src')\n",
    "print(f'open {nb_dir}/../vid/mov')"
   ]
  },
  {
   "cell_type": "code",
   "execution_count": null,
   "id": "cfa41371",
   "metadata": {},
   "outputs": [],
   "source": []
  },
  {
   "cell_type": "code",
   "execution_count": 150,
   "id": "f8ecfd6d",
   "metadata": {
    "ExecuteTime": {
     "end_time": "2023-05-02T00:58:22.789696Z",
     "start_time": "2023-05-02T00:58:22.173960Z"
    }
   },
   "outputs": [
    {
     "name": "stdout",
     "output_type": "stream",
     "text": [
      "\u0007\u0007\u0007"
     ]
    },
    {
     "data": {
      "text/plain": [
       "0"
      ]
     },
     "execution_count": 150,
     "metadata": {},
     "output_type": "execute_result"
    }
   ],
   "source": [
    "beep(3)"
   ]
  },
  {
   "cell_type": "code",
   "execution_count": null,
   "id": "c54607bb",
   "metadata": {},
   "outputs": [],
   "source": []
  }
 ],
 "metadata": {
  "kernelspec": {
   "display_name": "Python 3 (ipykernel)",
   "language": "python",
   "name": "python3"
  },
  "language_info": {
   "codemirror_mode": {
    "name": "ipython",
    "version": 3
   },
   "file_extension": ".py",
   "mimetype": "text/x-python",
   "name": "python",
   "nbconvert_exporter": "python",
   "pygments_lexer": "ipython3",
   "version": "3.9.13"
  },
  "toc": {
   "base_numbering": 1,
   "nav_menu": {},
   "number_sections": true,
   "sideBar": true,
   "skip_h1_title": false,
   "title_cell": "Table of Contents",
   "title_sidebar": "Contents",
   "toc_cell": false,
   "toc_position": {},
   "toc_section_display": true,
   "toc_window_display": false
  }
 },
 "nbformat": 4,
 "nbformat_minor": 5
}
