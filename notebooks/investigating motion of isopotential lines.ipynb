{
 "cells": [
  {
   "cell_type": "markdown",
   "id": "575525ef",
   "metadata": {},
   "source": [
    "# investigating motion of isopotential lines\n",
    "Tim Tyree<br>\n",
    "3.15.2023"
   ]
  },
  {
   "cell_type": "code",
   "execution_count": 1,
   "id": "3776bfcf",
   "metadata": {
    "ExecuteTime": {
     "end_time": "2023-03-15T20:11:02.900382Z",
     "start_time": "2023-03-15T20:10:58.055397Z"
    }
   },
   "outputs": [
    {
     "name": "stderr",
     "output_type": "stream",
     "text": [
      "/Users/timothytyree/opt/miniconda3/envs/pyenv/lib/python3.9/site-packages/statsmodels/compat/pandas.py:61: FutureWarning: pandas.Int64Index is deprecated and will be removed from pandas in a future version. Use pandas.Index with the appropriate dtype instead.\n",
      "  from pandas import Int64Index as NumericIndex\n"
     ]
    }
   ],
   "source": [
    "from lib.my_initialization import *\n",
    "from lib import *\n",
    "from lib.measure.curvature import *\n",
    "from scipy import ndimage\n",
    "%load_ext autoreload\n",
    "%autoreload 2"
   ]
  },
  {
   "cell_type": "code",
   "execution_count": null,
   "id": "1841534f",
   "metadata": {},
   "outputs": [],
   "source": [
    "#reset matplotlib settings\n",
    "import matplotlib as mpl\n",
    "# sns.reset_orig()\n",
    "mpl.rc_file_defaults()"
   ]
  },
  {
   "cell_type": "markdown",
   "id": "881b06e6",
   "metadata": {},
   "source": [
    "# define module"
   ]
  },
  {
   "cell_type": "code",
   "execution_count": 404,
   "id": "abb66c7e",
   "metadata": {
    "ExecuteTime": {
     "end_time": "2023-03-16T00:07:28.492754Z",
     "start_time": "2023-03-16T00:07:28.409385Z"
    }
   },
   "outputs": [],
   "source": [
    "def unwind_contour(contour,width,height):\n",
    "    \"\"\"unwind_contour handles pbc\n",
    "    \n",
    "    Example Usage:\n",
    "xy_values = unwind_contour(contour)\n",
    "    \"\"\"\n",
    "    xy0 = contour[0]\n",
    "    return np.array(unwrap_contour(x_values = contour[:,0],\n",
    "                                y_values = contour[:,1], \n",
    "                                width=width, height=height)).T + np.array(xy0)\n",
    "\n",
    "@njit\n",
    "def pbc_robust_shift(xy1,xy2,width,height):\n",
    "    \"\"\"block unwrap one point xy1 to xy2 with 2x2 periodic boundary conditions (pbc).\n",
    "    \n",
    "    Example Usage:\n",
    "xy_shift,mindist = pbc_robust_shift(xy1,xy2,width,height) \n",
    "    \"\"\"\n",
    "    xy1=com_curr\n",
    "    xy2=com_next\n",
    "    xy_shift=np.array((0,0))\n",
    "    mindist = np.linalg.norm(xy1-xy2)\n",
    "    ##the four sides\n",
    "    tmp = np.array((width,0))\n",
    "    dist=np.linalg.norm((xy1+tmp)-xy2)\n",
    "    if dist<mindist:\n",
    "        mindist=dist\n",
    "        xy_shift = tmp\n",
    "    tmp = np.array((-width,0))\n",
    "    dist=np.linalg.norm((xy1+tmp)-xy2)\n",
    "    if dist<mindist:\n",
    "        mindist=dist\n",
    "        xy_shift = tmp\n",
    "    tmp = np.array((0,height))\n",
    "    dist=np.linalg.norm((xy1+tmp)-xy2)\n",
    "    if dist<mindist:\n",
    "        mindist=dist\n",
    "        xy_shift = tmp\n",
    "    tmp = np.array((0,-height))\n",
    "    dist=np.linalg.norm((xy1+tmp)-xy2)\n",
    "    if dist<mindist:\n",
    "        mindist=dist\n",
    "        xy_shift = tmp\n",
    "    ##the four corners\n",
    "    tmp = np.array((-width,-height))\n",
    "    dist=np.linalg.norm((xy1+tmp)-xy2)\n",
    "    if dist<mindist:\n",
    "        mindist=dist\n",
    "        xy_shift = tmp\n",
    "    tmp = np.array((-width,height))\n",
    "    dist=np.linalg.norm((xy1+tmp)-xy2)\n",
    "    if dist<mindist:\n",
    "        mindist=dist\n",
    "        xy_shift = tmp\n",
    "    tmp = np.array((width,-height))\n",
    "    dist=np.linalg.norm((xy1+tmp)-xy2)\n",
    "    if dist<mindist:\n",
    "        mindist=dist\n",
    "        xy_shift = tmp\n",
    "    tmp = np.array((width,height))\n",
    "    dist=np.linalg.norm((xy1+tmp)-xy2)\n",
    "    if dist<mindist:\n",
    "        mindist=dist\n",
    "        xy_shift = tmp\n",
    "    return xy_shift,mindist\n",
    "\n",
    "def comp_msdistance_to_spline(s,*args):\n",
    "    pt_src,tck_dst = args\n",
    "    pt_dst = splev(s, tck_dst)\n",
    "    return np.sum((pt_src-pt_dst)**2)\n",
    "#     return np.linalg.norm(pt_src-pt_dst)"
   ]
  },
  {
   "cell_type": "code",
   "execution_count": 615,
   "id": "b20f3028",
   "metadata": {
    "ExecuteTime": {
     "end_time": "2023-03-16T03:02:52.286927Z",
     "start_time": "2023-03-16T03:02:52.137787Z"
    }
   },
   "outputs": [],
   "source": [
    "#TODO: move to lib.model.ep.lr.utils\n",
    "def bilinear_interpolate_state_lr(x_values,y_values,inVc,dVcdt,vx,vy,inmhjdfx):\n",
    "    \"\"\"\n",
    "    Example Usage:\n",
    "x_values = contour[:,0]\n",
    "y_values = contour[:,1]\n",
    "d_state = bilinear_interpolate_state_lr(x_values,y_values,inVc,dVcdt,vx,vy,inmhjdfx)\n",
    "    \"\"\"\n",
    "    # bilinear_interpolate image to sites\n",
    "    width,height=inVc.shape[:2]\n",
    "    # states_txt = interpolate_img(x_values,y_values,width,height,txt)\n",
    "    states_inVc = np.array(interpolate_img(x_values,y_values,width,height,inVc))\n",
    "    states_dVcdt = np.array(interpolate_img(x_values,y_values,width,height,dVcdt))\n",
    "    states_vx = np.array(interpolate_img(x_values,y_values,width,height,vx))\n",
    "    states_vy = np.array(interpolate_img(x_values,y_values,width,height,vy))\n",
    "    states_inmhjdfx = np.array(interpolate_img(x_values,y_values,width,height,inmhjdfx))\n",
    "    d_state = pd.DataFrame(dict(X=x_values,Y=y_values,\n",
    "                                  V=states_inVc[:,0],Ca=states_inVc[:,1],\n",
    "                                  dVdt= states_dVcdt[:,0],dCadt= states_dVcdt[:,1],\n",
    "                                  vX= states_vx,vY= states_vy,\n",
    "                                  m= states_inmhjdfx[:,0],h= states_inmhjdfx[:,1],\n",
    "                                  j= states_inmhjdfx[:,2],d= states_inmhjdfx[:,3],\n",
    "                                  f= states_inmhjdfx[:,4],x= states_inmhjdfx[:,5],\n",
    "                                 ))\n",
    "    return d_state\n",
    "\n",
    "def extract_curvilinear_states_lr(df_contours, contoursa, contoursa_next, vx, vy, inVc, dVcdt, inmhjdfx,\n",
    "                                 s=1,per=1,upsampling_rate=4,**kwargs):\n",
    "    \"\"\"\n",
    "    Example Usage:\n",
    "df_state_curr,df_state_next = extract_curvilinear_states_lr(df_contours, contoursa, contoursa_next, vx, vy, inVc, dVcdt, inmhjdfx)#,s=1,per=1,**kwargs)\n",
    "    \"\"\"\n",
    "    #input: df_contours, contoursa, contoursa_next, vx, vy, inVc, dVcdt, inmhjdfx\n",
    "    #output: df_state_curr,df_state_next\n",
    "    width,height = inVc.shape[:2]\n",
    "    d_state_curr_lst=[]\n",
    "    d_state_next_lst=[]\n",
    "    #for each pair of contours\n",
    "    for ci1,row in df_contours.iterrows():\n",
    "        ci2= int(row['ci_next'])\n",
    "        D0 = row['dist_next']\n",
    "        contour1 = contoursa[ci1]\n",
    "        contour2 = contoursa_next[ci2]\n",
    "\n",
    "        #unwind_contour handles pbc\n",
    "        xy_values1 = unwind_contour(contour1,width,height)\n",
    "        xy_values2 = unwind_contour(contour2,width,height)\n",
    "        #^this might be the hard-to-njit rate-limiting step in a faster contour epoch\n",
    "        #compute cublic spline interpolant\n",
    "        tck, s_values = splprep(xy_values1.T,s=s,per=per)\n",
    "        tck_next, s_values_next = splprep(xy_values2.T,s=s,per=per)\n",
    "        s_values_interpolated = np.linspace(0,1,int(np.ceil(s_values.shape[0]*upsampling_rate)))\n",
    "        pts_curr = np.array(splev(s_values_interpolated, tck))\n",
    "#         pts_next = np.array(splev(s_values_interpolated, tck_next))\n",
    "        #compute current/next states along the contour respecting pbc\n",
    "        d_state_curr = bilinear_interpolate_state_lr(pts_curr[0]%width,pts_curr[1]%height,inVc,dVcdt,vx,vy,inmhjdfx)\n",
    "        d_state_curr['cid']=ci1\n",
    "\n",
    "\n",
    "        #compute linearly interpolated contour positions and curvature\n",
    "#         s_values_interpolated = np.linspace(0,1,int(np.ceil(s_values.shape[0]*upsampling_rate)))\n",
    "#         pts_curr = np.array(splev(s_values_interpolated, tck))\n",
    "        #measure the size and shape of either contour\n",
    "        dxds = np.array(splev(s_values_interpolated, tck, der=1))\n",
    "        dx2ds2 = np.array(splev(s_values_interpolated, tck, der=2))\n",
    "        denom = np.linalg.norm(dxds,axis=0)**3\n",
    "        wz_values = np.cross(dx2ds2,dxds,axis=0)\n",
    "        # wz_values = np.cross(dxds,dx2ds2,axis=0)\n",
    "        #Q: which of ^these has the \"right\" sign?\n",
    "        #compute curvature\n",
    "        curvature_values = wz_values / denom\n",
    "        # curvature_values = np.abs(dx2ds2 * dyds - dxds * dy2ds2) / (dxds * dxds + dyds * dyds)**1.5\n",
    "        d_state_curr['curvature'] = curvature_values\n",
    "\n",
    "\n",
    "        #measure the size and shape of either contour\n",
    "        s_values_interpolated = np.linspace(0,1,int(np.ceil(s_values_next.shape[0]*upsampling_rate)))\n",
    "        pts_next = np.array(splev(s_values_interpolated, tck_next))\n",
    "        d_state_next = bilinear_interpolate_state_lr(pts_next[0]%width,pts_next[1]%height,inVc,dVcdt,vx,vy,inmhjdfx)\n",
    "        d_state_next['cid']=ci2\n",
    "        dxds = np.array(splev(s_values_interpolated, tck_next, der=1))\n",
    "        dx2ds2 = np.array(splev(s_values_interpolated, tck_next, der=2))\n",
    "        denom = np.linalg.norm(dxds,axis=0)**3\n",
    "        wz_values = np.cross(dx2ds2,dxds,axis=0)\n",
    "        #compute curvature\n",
    "        curvature_values = wz_values / denom    \n",
    "        # curvature_values = np.abs(dx2ds2 * dyds - dxds * dy2ds2) / (dxds * dxds + dyds * dyds)**1.5\n",
    "        d_state_next['curvature'] = curvature_values\n",
    "        #record\n",
    "        d_state_curr_lst.append(d_state_curr)\n",
    "        d_state_next_lst.append(d_state_next)\n",
    "    df_state_curr = pd.concat(d_state_curr_lst)\n",
    "    df_state_next = pd.concat(d_state_next_lst)\n",
    "    return df_state_curr,df_state_next\n"
   ]
  },
  {
   "cell_type": "code",
   "execution_count": 621,
   "id": "0754475b",
   "metadata": {
    "ExecuteTime": {
     "end_time": "2023-03-16T03:05:58.420494Z",
     "start_time": "2023-03-16T03:05:58.269009Z"
    }
   },
   "outputs": [],
   "source": [
    "def extract_local_reference_frame(df_contours, contoursa, contoursa_next, width, height,\n",
    "                                 s=1,per=1,upsampling_rate=4,**kwargs):\n",
    "    \"\"\"\n",
    "    Example Usage:\n",
    "dict_contour_pairs = extract_local_reference_frame(df_contours, contoursa, contoursa_next, width, height)#,s=1,per=1,upsampling_rate=4,**kwargs)\n",
    "    \"\"\"\n",
    "    #for each pair of contours\n",
    "    dict_contour_pairs=dict()\n",
    "    for ci1,row in df_contours.iterrows():\n",
    "        ci2= int(row['ci_next'])\n",
    "        D0 = row['dist_next']\n",
    "        contour1 = contoursa[ci1]\n",
    "        contour2 = contoursa_next[ci2]\n",
    "        #unwind_contour handles pbc\n",
    "        xy_values1 = unwind_contour(contour1,width,height)\n",
    "        xy_values2 = unwind_contour(contour2,width,height)\n",
    "        #^this might be the hard-to-njit rate-limiting step in a faster contour epoch\n",
    "        #compute cublic spline interpolant\n",
    "        tck, s_values = splprep(xy_values1.T,s=s,per=per)\n",
    "        tck_next, s_values_next = splprep(xy_values2.T,s=s,per=per)\n",
    "        s_values_interpolated = np.linspace(0,1,int(np.ceil(s_values.shape[0]*upsampling_rate)))\n",
    "        pts_curr = np.array(splev(s_values_interpolated, tck))\n",
    "        s_values_interpolated = np.linspace(0,1,int(np.ceil(s_values_next.shape[0]*upsampling_rate)))\n",
    "        pts_next = np.array(splev(s_values_interpolated, tck_next))\n",
    "        #compute center of mass\n",
    "        com_curr = np.mean(pts_curr,axis=1)\n",
    "        com_next = np.mean(pts_next,axis=1)\n",
    "        #block unwrap pts_src from pts_dst\n",
    "        xy_shift_unwrap,mindist_unwrap = pbc_robust_shift(com_curr,com_next,width,height) \n",
    "        com_curr_unwrap = (com_curr + xy_shift_unwrap)\n",
    "        displacement = com_next - com_curr_unwrap\n",
    "        #center frames\n",
    "        pts_in = (pts_curr.T+xy_shift_unwrap).T\n",
    "        pts_out = pts_next\n",
    "        xy_shift = com_next - com_curr #+ xy_shift_unwrap)\n",
    "        #record contour information as a learning task\n",
    "        dict_contour_pairs[ci1]=dict(\n",
    "            pts_in=pts_in,\n",
    "            pts_out=pts_out,\n",
    "            tck_in=tck,\n",
    "            tck_out=tck_next,\n",
    "            displacement=displacement,\n",
    "            contour1=contour1,\n",
    "            contour2=contour2,\n",
    "            xy_shift=xy_shift,\n",
    "            xy_shift_unwrap=xy_shift_unwrap,\n",
    "            ci2=ci2,\n",
    "        )\n",
    "    return dict_contour_pairs"
   ]
  },
  {
   "cell_type": "code",
   "execution_count": 601,
   "id": "19988a1d",
   "metadata": {
    "ExecuteTime": {
     "end_time": "2023-03-16T02:59:23.940368Z",
     "start_time": "2023-03-16T02:59:23.845626Z"
    }
   },
   "outputs": [],
   "source": [
    "# d_state = bilinear_interpolate_state_lr(x_values,y_values,inVc,dVcdt,vx,vy,inmhjdfx)\n",
    "# inVc.shape"
   ]
  },
  {
   "cell_type": "markdown",
   "id": "230cefd9",
   "metadata": {},
   "source": [
    "# GOAL: investigate whether there are repeatable forces acting along activation fronts"
   ]
  },
  {
   "cell_type": "markdown",
   "id": "868833b2",
   "metadata": {},
   "source": [
    "# DONE: generate two sets of contours from which to dev "
   ]
  },
  {
   "cell_type": "code",
   "execution_count": null,
   "id": "faea4156",
   "metadata": {},
   "outputs": [],
   "source": []
  },
  {
   "cell_type": "code",
   "execution_count": 2,
   "id": "b4dbd2d8",
   "metadata": {
    "ExecuteTime": {
     "end_time": "2023-03-15T20:11:02.968376Z",
     "start_time": "2023-03-15T20:11:02.904441Z"
    }
   },
   "outputs": [],
   "source": [
    "#DONE: import example and compute arclen_values\n",
    "#DONE: interpolate txt to contour nodes\n",
    "#DONE: get a sample activation front identified in terms of arcVc_values\n",
    "#DONE: plot curvature versus sigma\n",
    "# - __TODO__: save an activation front curvature values versus time as .csv\n",
    "#TODO: see how ^that evolves with time\n",
    "#TODO(and then...): use ^this method to compute apparent forces from a time series of positions\n",
    "# - ...TODO: come up with some simple rules for curvature versus time\n",
    "# - ...TODO: use intersections to compute interactions between activation fronts"
   ]
  },
  {
   "cell_type": "markdown",
   "id": "723de3ea",
   "metadata": {
    "ExecuteTime": {
     "end_time": "2021-05-03T19:41:12.953774Z",
     "start_time": "2021-05-03T19:41:12.948940Z"
    }
   },
   "source": [
    "Method for smooth numerical curvature\n",
    "1. fitting a BSpline through the data points and \n",
    "1. computing the curvature as a function of derivatives of ^that BSpline fit."
   ]
  },
  {
   "cell_type": "code",
   "execution_count": 540,
   "id": "df5245df",
   "metadata": {
    "ExecuteTime": {
     "end_time": "2023-03-16T02:17:24.872782Z",
     "start_time": "2023-03-16T02:17:24.452672Z"
    }
   },
   "outputs": [],
   "source": [
    "# 1"
   ]
  },
  {
   "cell_type": "code",
   "execution_count": 510,
   "id": "3474e2ec",
   "metadata": {
    "ExecuteTime": {
     "end_time": "2023-03-16T01:13:14.657634Z",
     "start_time": "2023-03-16T01:13:13.716603Z"
    }
   },
   "outputs": [],
   "source": [
    "# #load a mesh from Luo-Rudy\n",
    "# ic_fn=search_for_file()\n",
    "try:\n",
    "    ic_fn=f\"{nb_dir}/Data/initial-conditions-suite-3-LR/ic-out/ic008.33.npz\"\n",
    "    txt=load_buffer(ic_fn)\n",
    "    t=0\n",
    "except FileNotFoundError as e:\n",
    "    ic_fn=f\"{nb_dir}/Data/initial-conditions-suite-3-LR/ic-in/ic008.33.npz\"\n",
    "    txt=load_buffer(ic_fn)\n",
    "    t=0   \n",
    "    \n",
    "save_folder=f\"{nb_dir}/Figures/mov\"    \n",
    "DX=0.025\n",
    "width=txt.shape[0]\n",
    "L = width*DX #cm\n",
    "# ds=5.\n",
    "frameno=0\n",
    "save_every_n_frames=50\n",
    "inVc,outVc,inmhjdfx,outmhjdfx,dVcdt=unstack_txt(txt)\n",
    "width,height=txt.shape[:2]\n",
    "# V_threshold=-50;\n",
    "# V_threshold=-40;\n",
    "V_threshold=-30;\n",
    "\n",
    "dt=0.01\n",
    "dt=0.1\n",
    "# dt=0.5 #unstable\n",
    "\n",
    "# DT=2. #22s\n",
    "# DT=4.  #44s?\n",
    "# DT=4.  #44s?\n",
    "DT=100.  #44s?\n",
    "nsteps_per_DT=int(DT/dt)\n",
    "\n",
    "# comp_dict_topo_full_color=get_comp_dict_topo_full_color(width=width,height=height,level1=V_threshold,level2=0.)\n",
    "# get_one_step at this dt\n",
    "__, arr39, one_step = get_one_step_explicit_synchronous_splitting(\n",
    "    nb_dir,dt=dt,width=width,height=height,ds=L,\n",
    "    diffCoef=0.001,\n",
    "    #diffCoef=0.0005,\n",
    "    Cm=1.0)\n"
   ]
  },
  {
   "cell_type": "code",
   "execution_count": 511,
   "id": "d74133dd",
   "metadata": {
    "ExecuteTime": {
     "end_time": "2023-03-16T01:14:33.858406Z",
     "start_time": "2023-03-16T01:13:15.298799Z"
    }
   },
   "outputs": [],
   "source": [
    "# comp_dict_topo_simple=get_comp_dict_topo_simple(width=width,height=height,level1=V_threshold,level2=0)\n",
    "# txt=stack_txt(inVc,outVc,inmhjdfx,outmhjdfx,dVcdt)\n",
    "img_prev=txt[...,0].copy()\n",
    "inVc,outVc,inmhjdfx,outmhjdfx,dVcdt=unstack_txt(txt)\n",
    "for n in range(nsteps_per_DT):\n",
    "    one_step(inVc,outVc,inmhjdfx,outmhjdfx,dVcdt)\n",
    "    #t+=dt\n",
    "t+=DT\n",
    "# txt=stack_txt(inVc,outVc,inmhjdfx,outmhjdfx,dVcdt)\n",
    "img=inVc[...,0]\n",
    "dimgdt=dVcdt[...,0]"
   ]
  },
  {
   "cell_type": "code",
   "execution_count": 512,
   "id": "06428eae",
   "metadata": {
    "ExecuteTime": {
     "end_time": "2023-03-16T01:14:40.233299Z",
     "start_time": "2023-03-16T01:14:40.137320Z"
    }
   },
   "outputs": [],
   "source": [
    "levela=-30\n",
    "levelb=0"
   ]
  },
  {
   "cell_type": "code",
   "execution_count": 513,
   "id": "a3a18975",
   "metadata": {
    "ExecuteTime": {
     "end_time": "2023-03-16T01:14:41.264333Z",
     "start_time": "2023-03-16T01:14:41.171658Z"
    }
   },
   "outputs": [
    {
     "name": "stdout",
     "output_type": "stream",
     "text": [
      "num_contoursa=5, num_contoursb=5\n"
     ]
    }
   ],
   "source": [
    "imga=img.copy()\n",
    "imgb=dimgdt.copy()\n",
    "#get all xy coordinates of level sets:\n",
    "#HINT: find_contours\n",
    "contoursa = find_contours(array=imga,level=levela,\n",
    "    fully_connected='low',positive_orientation='low',mode='pbc')\n",
    "contoursb = find_contours(array=imgb,level=levelb,\n",
    "    fully_connected='low',positive_orientation='low',mode='pbc')\n",
    "\n",
    "num_contoursa = len(contoursa)\n",
    "num_contoursb = len(contoursa)\n",
    "print(f\"{num_contoursa=}, {num_contoursb=}\")"
   ]
  },
  {
   "cell_type": "code",
   "execution_count": 514,
   "id": "3f0fc1b3",
   "metadata": {
    "ExecuteTime": {
     "end_time": "2023-03-16T01:14:44.204644Z",
     "start_time": "2023-03-16T01:14:43.768630Z"
    }
   },
   "outputs": [
    {
     "data": {
      "image/png": "[encoded data removed]",
      "text/plain": [
       "<Figure size 800x400 with 2 Axes>"
      ]
     },
     "metadata": {},
     "output_type": "display_data"
    }
   ],
   "source": [
    "cmap='gray'\n",
    "fontsize=12\n",
    "figsize=(12,6)\n",
    "figsize=(8,4)\n",
    "extent=(-L/2,L/2,-L/2,L/2)\n",
    "fig,axs=plt.subplots(ncols=2,figsize=figsize)\n",
    "ax=axs[0]\n",
    "ax.imshow(imga,cmap=cmap,vmin=-50,vmax=10)#,extent=extent)\n",
    "#TODO: overlay level sets for contoursa,b\n",
    "plot_contours_pbc(contoursa, ax, linewidth=3, min_num_vertices=6, linestyle='-', alpha=0.5, color='red')#'blue')\n",
    "\n",
    "ax.tick_params(top=True, right=True,direction='in',which='both')\n",
    "format_plot(ax=ax,fontsize=fontsize,xlabel='',ylabel='')\n",
    "ax=axs[1]\n",
    "ax.imshow(imgb,cmap=cmap,vmin=-30,vmax=30)#,extent=extent)\n",
    "#TODO: overlay level sets for contoursa,b\n",
    "plot_contours_pbc(contoursb, ax, linewidth=3, min_num_vertices=6, linestyle='-', alpha=0.5, color='red')#'blue')\n",
    "\n",
    "ax.tick_params(top=True, right=True,direction='in',which='both')\n",
    "format_plot(ax=ax,fontsize=fontsize,xlabel='',ylabel='')\n",
    "# plt.xticks(rotation=0)#, ha='right')\n",
    "plt.tight_layout()\n",
    "plt.show()"
   ]
  },
  {
   "cell_type": "code",
   "execution_count": 515,
   "id": "8cbd5296",
   "metadata": {
    "ExecuteTime": {
     "end_time": "2023-03-16T01:14:53.154631Z",
     "start_time": "2023-03-16T01:14:45.166585Z"
    }
   },
   "outputs": [],
   "source": [
    "# DT=2. #22s\n",
    "# DT=4.  #44s?\n",
    "# DT=4.  #44s?\n",
    "DT=10.  #44s?\n",
    "nsteps_per_DT=int(DT/dt)\n",
    "\n",
    "# comp_dict_topo_simple=get_comp_dict_topo_simple(width=width,height=height,level1=V_threshold,level2=0)\n",
    "# txt=stack_txt(inVc,outVc,inmhjdfx,outmhjdfx,dVcdt)\n",
    "img_prev=txt[...,0].copy()\n",
    "inVc,outVc,inmhjdfx,outmhjdfx,dVcdt=unstack_txt(txt)\n",
    "inVc_curr,outVc_curr,inmhjdfx_curr,outmhjdfx_curr,dVcdt_curr = inVc.copy(),outVc.copy(),inmhjdfx.copy(),outmhjdfx.copy(),dVcdt.copy()\n",
    "for n in range(nsteps_per_DT):\n",
    "    one_step(inVc,outVc,inmhjdfx,outmhjdfx,dVcdt)\n",
    "    #t+=dt\n",
    "t+=DT\n",
    "# txt=stack_txt(inVc,outVc,inmhjdfx,outmhjdfx,dVcdt)\n",
    "img=inVc[...,0]\n",
    "dimgdt=dVcdt[...,0]"
   ]
  },
  {
   "cell_type": "code",
   "execution_count": 516,
   "id": "fb276cd0",
   "metadata": {
    "ExecuteTime": {
     "end_time": "2023-03-16T01:14:53.270091Z",
     "start_time": "2023-03-16T01:14:53.157139Z"
    }
   },
   "outputs": [
    {
     "name": "stdout",
     "output_type": "stream",
     "text": [
      "num_contoursa=5, num_contoursb=5\n"
     ]
    }
   ],
   "source": [
    "imga_next=img.copy()\n",
    "imgb_next=dimgdt.copy()\n",
    "inVc_next,outVc_next,inmhjdfx_next,outmhjdfx_next,dVcdt_next = inVc.copy(),outVc.copy(),inmhjdfx.copy(),outmhjdfx.copy(),dVcdt.copy()\n",
    "#get all xy coordinates of level sets:\n",
    "#HINT: find_contours\n",
    "contoursa_next = find_contours(array=imga_next,level=levela,\n",
    "    fully_connected='low',positive_orientation='low',mode='pbc')\n",
    "contoursb_next = find_contours(array=imgb_next,level=levelb,\n",
    "    fully_connected='low',positive_orientation='low',mode='pbc')\n",
    "\n",
    "num_contoursa = len(contoursa)\n",
    "num_contoursb = len(contoursa)\n",
    "print(f\"{num_contoursa=}, {num_contoursb=}\")"
   ]
  },
  {
   "cell_type": "code",
   "execution_count": 517,
   "id": "7263d273",
   "metadata": {
    "ExecuteTime": {
     "end_time": "2023-03-16T01:14:53.348459Z",
     "start_time": "2023-03-16T01:14:53.272550Z"
    }
   },
   "outputs": [],
   "source": [
    "# HYPOTHESIS: bosonic holes can account for the attractive force between spiral tips as they annihilate"
   ]
  },
  {
   "cell_type": "code",
   "execution_count": 518,
   "id": "50429d59",
   "metadata": {
    "ExecuteTime": {
     "end_time": "2023-03-16T01:14:55.395643Z",
     "start_time": "2023-03-16T01:14:55.314503Z"
    }
   },
   "outputs": [],
   "source": [
    "compute_all_spiral_tips= get_compute_all_spiral_tips(mode='simp',width=width,height=height)"
   ]
  },
  {
   "cell_type": "code",
   "execution_count": 519,
   "id": "0cf3018b",
   "metadata": {
    "ExecuteTime": {
     "end_time": "2023-03-16T01:14:56.052139Z",
     "start_time": "2023-03-16T01:14:55.916142Z"
    }
   },
   "outputs": [
    {
     "name": "stdout",
     "output_type": "stream",
     "text": [
      "t: t=110.000, num tips: 4\n"
     ]
    }
   ],
   "source": [
    "#measure system\n",
    "inVc,outVc,inmhjdfx,outmhjdfx,dVcdt=unstack_txt(txt)\n",
    "img=inVc[...,0]#.astype(np.float32)\n",
    "dimgdt=dVcdt[...,0]#.astype(np.float32)\n",
    "# dict_out=compute_all_spiral_tips(t,img,img+dt*dimgdt,level1=V_threshold,level2=V_threshold)#,width=width,height=height)\n",
    "# # t: t=4.000, num tips: 12\n",
    "dict_out=compute_all_spiral_tips(t,img,img+dt*dimgdt,level1=V_threshold,level2=V_threshold)#,width=width,height=height)\n",
    "# t: t=4.000, num tips: 6\n",
    "dict_out['n']=len(dict_out['x'])\n",
    "n = dict_out['n']\n",
    "#print_dict(dict_out)\n",
    "print(f\"t: {t=:.3f}, num tips: {dict_out['n']}\")"
   ]
  },
  {
   "cell_type": "markdown",
   "id": "4529b53c",
   "metadata": {},
   "source": [
    "# compute smoothed splines of contour pairs"
   ]
  },
  {
   "cell_type": "code",
   "execution_count": 520,
   "id": "70d575b6",
   "metadata": {
    "ExecuteTime": {
     "end_time": "2023-03-16T01:15:02.120267Z",
     "start_time": "2023-03-16T01:15:01.658370Z"
    }
   },
   "outputs": [
    {
     "data": {
      "image/png": "[encoded data removed]",
      "text/plain": [
       "<Figure size 800x400 with 2 Axes>"
      ]
     },
     "metadata": {},
     "output_type": "display_data"
    }
   ],
   "source": [
    "cmap='gray'\n",
    "fontsize=12\n",
    "figsize=(12,6)\n",
    "figsize=(8,4)\n",
    "fig,axs=plt.subplots(ncols=2,figsize=figsize)\n",
    "ax=axs[0]\n",
    "ax.imshow(imga,cmap=cmap,vmin=-50,vmax=10)#,extent=extent)\n",
    "plot_contours_pbc(contoursa, ax, linewidth=3, min_num_vertices=6, linestyle='-', alpha=0.5, color='green')#'blue')\n",
    "ax.tick_params(top=True, right=True,direction='in',which='both')\n",
    "format_plot(ax=ax,fontsize=fontsize,xlabel='',ylabel='')\n",
    "ax=axs[1]\n",
    "ax.imshow(imga_next,cmap=cmap,vmin=-50,vmax=10)#,extent=extent)\n",
    "plot_contours_pbc(contoursa_next, ax, linewidth=3, min_num_vertices=6, linestyle='-', alpha=0.5, color='red')#'blue')\n",
    "ax.tick_params(top=True, right=True,direction='in',which='both')\n",
    "format_plot(ax=ax,fontsize=fontsize,xlabel='',ylabel='')\n",
    "plt.tight_layout()\n",
    "plt.show()"
   ]
  },
  {
   "cell_type": "code",
   "execution_count": 521,
   "id": "a1021321",
   "metadata": {
    "ExecuteTime": {
     "end_time": "2023-03-16T01:15:02.972758Z",
     "start_time": "2023-03-16T01:15:02.900246Z"
    }
   },
   "outputs": [],
   "source": [
    "#compute discrete -grad(dVdt) vector field\n",
    "# imgb=dimgdt\n",
    "# imgb_next=dimgdt\n",
    "ddVdtdx=np.gradient(imgb,axis=0)/DX #not stable in time\n",
    "ddVdtdy=-np.gradient(imgb,axis=1)/DX #not stable in time\n",
    "vx=ddVdtdx\n",
    "vy=ddVdtdy\n",
    "ddVdtdx=np.gradient(imgb_next,axis=0)/DX #not stable in time\n",
    "ddVdtdy=-np.gradient(imgb_next,axis=1)/DX #not stable in time\n",
    "vx_next=ddVdtdx\n",
    "vy_next=ddVdtdy"
   ]
  },
  {
   "cell_type": "code",
   "execution_count": 523,
   "id": "c3d00bd6",
   "metadata": {
    "ExecuteTime": {
     "end_time": "2023-03-16T01:15:13.462192Z",
     "start_time": "2023-03-16T01:15:13.393760Z"
    }
   },
   "outputs": [],
   "source": [
    "# dict2d = dict(inVc=inVc,dVcdt=dVcdt,vx=vx,vy=vy,inmhjdfx=inmhjdfx)\n",
    "dict2d_curr = dict(inVc=inVc_curr,dVcdt=dVcdt_curr,vx=vx,vy=vx,inmhjdfx=inmhjdfx_curr)\n",
    "dict2d_next = dict(inVc=inVc_next,dVcdt=dVcdt_next,vx=vx_next,vy=vy_next,inmhjdfx=inmhjdfx_next)"
   ]
  },
  {
   "cell_type": "code",
   "execution_count": 476,
   "id": "358b1e2e",
   "metadata": {
    "ExecuteTime": {
     "end_time": "2023-03-16T00:43:43.844272Z",
     "start_time": "2023-03-16T00:43:43.685288Z"
    }
   },
   "outputs": [
    {
     "data": {
      "text/plain": [
       "(683, 15)"
      ]
     },
     "execution_count": 476,
     "metadata": {},
     "output_type": "execute_result"
    }
   ],
   "source": [
    "d_state_lst=[]\n",
    "for i,contour in enumerate(contoursa):\n",
    "    #contour nodes are chosen on the edges between sites\n",
    "    x_values = contour[:,0]\n",
    "    y_values = contour[:,1]\n",
    "    # bilinear_interpolate image to sites\n",
    "    # states_txt = interpolate_img(x_values,y_values,width,height,txt)\n",
    "    states_inVc = np.array(interpolate_img(x_values,y_values,width,height,inVc))\n",
    "    states_dVcdt = np.array(interpolate_img(x_values,y_values,width,height,dVcdt))\n",
    "    states_vx = np.array(interpolate_img(x_values,y_values,width,height,vx))\n",
    "    states_vy = np.array(interpolate_img(x_values,y_values,width,height,vy))\n",
    "    states_inmhjdfx = np.array(interpolate_img(x_values,y_values,width,height,inmhjdfx))\n",
    "    d_state = pd.DataFrame(dict(X=x_values,Y=y_values,\n",
    "                                  V=states_inVc[:,0],Ca=states_inVc[:,1],\n",
    "                                  dVdt= states_dVcdt[:,0],dCadt= states_dVcdt[:,1],\n",
    "                                  vX= states_vx,vY= states_vy,\n",
    "                                  m= states_inmhjdfx[:,0],h= states_inmhjdfx[:,1],\n",
    "                                  j= states_inmhjdfx[:,2],d= states_inmhjdfx[:,3],\n",
    "                                  f= states_inmhjdfx[:,4],x= states_inmhjdfx[:,5],\n",
    "                                 ))\n",
    "    d_state['cid']=i\n",
    "    d_state_lst.append(d_state)\n",
    "df_state = pd.concat(d_state_lst)\n",
    "df_state.shape"
   ]
  },
  {
   "cell_type": "code",
   "execution_count": 477,
   "id": "2b5ace93",
   "metadata": {
    "ExecuteTime": {
     "end_time": "2023-03-16T00:43:44.887763Z",
     "start_time": "2023-03-16T00:43:44.787007Z"
    }
   },
   "outputs": [
    {
     "data": {
      "text/html": [
       "<div>\n",
       "<style scoped>\n",
       "    .dataframe tbody tr th:only-of-type {\n",
       "        vertical-align: middle;\n",
       "    }\n",
       "\n",
       "    .dataframe tbody tr th {\n",
       "        vertical-align: top;\n",
       "    }\n",
       "\n",
       "    .dataframe thead th {\n",
       "        text-align: right;\n",
       "    }\n",
       "</style>\n",
       "<table border=\"1\" class=\"dataframe\">\n",
       "  <thead>\n",
       "    <tr style=\"text-align: right;\">\n",
       "      <th></th>\n",
       "      <th>X</th>\n",
       "      <th>Y</th>\n",
       "      <th>V</th>\n",
       "      <th>Ca</th>\n",
       "      <th>dVdt</th>\n",
       "      <th>dCadt</th>\n",
       "      <th>vX</th>\n",
       "      <th>vY</th>\n",
       "      <th>m</th>\n",
       "      <th>h</th>\n",
       "      <th>j</th>\n",
       "      <th>d</th>\n",
       "      <th>f</th>\n",
       "      <th>x</th>\n",
       "      <th>cid</th>\n",
       "    </tr>\n",
       "  </thead>\n",
       "  <tbody>\n",
       "    <tr>\n",
       "      <th>0</th>\n",
       "      <td>0.0</td>\n",
       "      <td>86.422398</td>\n",
       "      <td>-42.969374</td>\n",
       "      <td>0.000003</td>\n",
       "      <td>-0.610025</td>\n",
       "      <td>-5.950258e-08</td>\n",
       "      <td>-0.121601</td>\n",
       "      <td>0.161856</td>\n",
       "      <td>0.499787</td>\n",
       "      <td>0.001184</td>\n",
       "      <td>0.000726</td>\n",
       "      <td>0.291142</td>\n",
       "      <td>0.861908</td>\n",
       "      <td>0.157383</td>\n",
       "      <td>0</td>\n",
       "    </tr>\n",
       "    <tr>\n",
       "      <th>1</th>\n",
       "      <td>1.0</td>\n",
       "      <td>86.361301</td>\n",
       "      <td>-42.141025</td>\n",
       "      <td>0.000003</td>\n",
       "      <td>-0.603120</td>\n",
       "      <td>-5.710281e-08</td>\n",
       "      <td>-0.123609</td>\n",
       "      <td>-0.240408</td>\n",
       "      <td>0.528054</td>\n",
       "      <td>0.000868</td>\n",
       "      <td>0.000546</td>\n",
       "      <td>0.298359</td>\n",
       "      <td>0.860178</td>\n",
       "      <td>0.157745</td>\n",
       "      <td>0</td>\n",
       "    </tr>\n",
       "    <tr>\n",
       "      <th>2</th>\n",
       "      <td>2.0</td>\n",
       "      <td>86.314572</td>\n",
       "      <td>-41.340880</td>\n",
       "      <td>0.000003</td>\n",
       "      <td>-0.580022</td>\n",
       "      <td>-5.467750e-08</td>\n",
       "      <td>-0.123705</td>\n",
       "      <td>-0.494770</td>\n",
       "      <td>0.555020</td>\n",
       "      <td>0.000575</td>\n",
       "      <td>0.000401</td>\n",
       "      <td>0.305587</td>\n",
       "      <td>0.858799</td>\n",
       "      <td>0.157920</td>\n",
       "      <td>0</td>\n",
       "    </tr>\n",
       "    <tr>\n",
       "      <th>3</th>\n",
       "      <td>3.0</td>\n",
       "      <td>86.282405</td>\n",
       "      <td>-40.568537</td>\n",
       "      <td>0.000003</td>\n",
       "      <td>-0.558996</td>\n",
       "      <td>-5.221674e-08</td>\n",
       "      <td>-0.125553</td>\n",
       "      <td>-0.459658</td>\n",
       "      <td>0.580630</td>\n",
       "      <td>0.000268</td>\n",
       "      <td>0.000282</td>\n",
       "      <td>0.312855</td>\n",
       "      <td>0.857722</td>\n",
       "      <td>0.157905</td>\n",
       "      <td>0</td>\n",
       "    </tr>\n",
       "    <tr>\n",
       "      <th>4</th>\n",
       "      <td>4.0</td>\n",
       "      <td>86.264864</td>\n",
       "      <td>-39.825674</td>\n",
       "      <td>0.000003</td>\n",
       "      <td>-0.540001</td>\n",
       "      <td>-4.969526e-08</td>\n",
       "      <td>-0.128116</td>\n",
       "      <td>-0.426351</td>\n",
       "      <td>0.604753</td>\n",
       "      <td>0.000022</td>\n",
       "      <td>0.000208</td>\n",
       "      <td>0.320190</td>\n",
       "      <td>0.856939</td>\n",
       "      <td>0.157722</td>\n",
       "      <td>0</td>\n",
       "    </tr>\n",
       "  </tbody>\n",
       "</table>\n",
       "</div>"
      ],
      "text/plain": [
       "     X          Y          V        Ca      dVdt         dCadt        vX  \\\n",
       "0  0.0  86.422398 -42.969374  0.000003 -0.610025 -5.950258e-08 -0.121601   \n",
       "1  1.0  86.361301 -42.141025  0.000003 -0.603120 -5.710281e-08 -0.123609   \n",
       "2  2.0  86.314572 -41.340880  0.000003 -0.580022 -5.467750e-08 -0.123705   \n",
       "3  3.0  86.282405 -40.568537  0.000003 -0.558996 -5.221674e-08 -0.125553   \n",
       "4  4.0  86.264864 -39.825674  0.000003 -0.540001 -4.969526e-08 -0.128116   \n",
       "\n",
       "         vY         m         h         j         d         f         x  cid  \n",
       "0  0.161856  0.499787  0.001184  0.000726  0.291142  0.861908  0.157383    0  \n",
       "1 -0.240408  0.528054  0.000868  0.000546  0.298359  0.860178  0.157745    0  \n",
       "2 -0.494770  0.555020  0.000575  0.000401  0.305587  0.858799  0.157920    0  \n",
       "3 -0.459658  0.580630  0.000268  0.000282  0.312855  0.857722  0.157905    0  \n",
       "4 -0.426351  0.604753  0.000022  0.000208  0.320190  0.856939  0.157722    0  "
      ]
     },
     "execution_count": 477,
     "metadata": {},
     "output_type": "execute_result"
    }
   ],
   "source": [
    "df_state.head()"
   ]
  },
  {
   "cell_type": "markdown",
   "id": "f45a4842",
   "metadata": {},
   "source": [
    "# TODO: use the Chamfer distance to find contour pairs between the two frames"
   ]
  },
  {
   "cell_type": "markdown",
   "id": "9b7c4069",
   "metadata": {},
   "source": [
    "$D_{ij}^{(Chamfer)} = \\sum_{x_i \\in x}{\\min_{y_j \\in y}{||x_i-y_j||^2}} + \\sum_{y_j \\in y}{\\min_{x_i \\in x}{||x_i-y_j||^2}}$\n",
    "\n",
    "Denote the mean curvature of contour i=x as $\\bar H(X_i)$ with mean stiffness $\\bar\\lambda_i = \\lambda(k_i(t))$.\n",
    "\n",
    "Denote the mean tension as $\\bar\\tau_i$ for the $i^{th}$ contour with arclength, $L_i=(\\Phi_{\\Delta t}(X_i))$\n",
    "\n",
    "$Loss = \\sum_{ij\\in P_{airs}} D_{ij}^{(Chamfer)} + \\sum_{i}\\bar\\lambda_i H(\\Phi_{\\Delta t}(X_i)) - \\sum_{i}\\bar\\tau_i L_i$"
   ]
  },
  {
   "cell_type": "code",
   "execution_count": 526,
   "id": "a5f59a3c",
   "metadata": {
    "ExecuteTime": {
     "end_time": "2023-03-16T01:19:41.836891Z",
     "start_time": "2023-03-16T01:19:41.715045Z"
    }
   },
   "outputs": [
    {
     "name": "stdout",
     "output_type": "stream",
     "text": [
      "num1=5, num2=3\n"
     ]
    }
   ],
   "source": [
    "num1 = len(contoursa)\n",
    "num2 = len(contoursa_next)\n",
    "maxdist=width*height\n",
    "ci2_neighbor_lst=[]\n",
    "dist_lst=[]\n",
    "for ci1 in range(num1):\n",
    "    dist=maxdist\n",
    "    for ci2 in range(num2):\n",
    "        dist_chamfer = chamfer_distance(contoursa[ci1], contoursa_next[ci2], metric='l2', direction='bi')\n",
    "        if dist_chamfer<dist:\n",
    "            dist=dist_chamfer\n",
    "            ci2_neighbor = ci2\n",
    "    #record\n",
    "    ci2_neighbor_lst.append(ci2_neighbor)\n",
    "    dist_lst.append(dist)\n",
    "df_contours = pd.DataFrame(dict(\n",
    "    ci_next=ci2_neighbor_lst,\n",
    "    dist_next=dist_lst\n",
    "))\n",
    "# df_contours\n",
    "\n",
    "#filter any contours that disappear\n",
    "df_contours = df_contours.sort_values(by='dist_next').groupby(by='ci_next').head(1)\n",
    "print(f\"{num1=}, {num2=}\")"
   ]
  },
  {
   "cell_type": "code",
   "execution_count": 527,
   "id": "17db639e",
   "metadata": {
    "ExecuteTime": {
     "end_time": "2023-03-16T01:19:42.665829Z",
     "start_time": "2023-03-16T01:19:42.383819Z"
    }
   },
   "outputs": [
    {
     "data": {
      "image/png": "[encoded data removed]",
      "text/plain": [
       "<Figure size 400x400 with 1 Axes>"
      ]
     },
     "metadata": {},
     "output_type": "display_data"
    }
   ],
   "source": [
    "#visualize the pairings\n",
    "cmap='gray'\n",
    "fontsize=12\n",
    "figsize=(12,6)\n",
    "figsize=(4,4)\n",
    "fig,ax=plt.subplots(figsize=figsize)\n",
    "# ax=axs[0]\n",
    "ax.imshow(imga,cmap=cmap,vmin=-50,vmax=10)#,extent=extent)\n",
    "# ax.imshow(imga_next,cmap=cmap,vmin=-50,vmax=10)#,extent=extent)\n",
    "plot_contours_pbc(contoursa, ax, linewidth=3, min_num_vertices=6, linestyle='-', alpha=0.5, color='green')#'blue')\n",
    "plot_contours_pbc(contoursa_next, ax, linewidth=3, min_num_vertices=6, linestyle='-', alpha=0.5, color='red')#'blue')\n",
    "ax.tick_params(top=True, right=True,direction='in',which='both')\n",
    "format_plot(ax=ax,fontsize=fontsize,xlabel='',ylabel='')\n",
    "plt.tight_layout()\n",
    "plt.show()"
   ]
  },
  {
   "cell_type": "code",
   "execution_count": 528,
   "id": "8a07790f",
   "metadata": {
    "ExecuteTime": {
     "end_time": "2023-03-16T01:19:42.945994Z",
     "start_time": "2023-03-16T01:19:42.868785Z"
    }
   },
   "outputs": [],
   "source": [
    "# # plot_contours_pbc(contoursa, plt.gca(), linewidth=3, min_num_vertices=6, linestyle='-', alpha=0.5, color='green')#'blue')\n",
    "# plot_contours_pbc([contoursa[0]], plt.gca(), linewidth=3, min_num_vertices=6, linestyle='-', alpha=0.5, color='green')#'blue')\n"
   ]
  },
  {
   "cell_type": "code",
   "execution_count": 529,
   "id": "17656498",
   "metadata": {
    "ExecuteTime": {
     "end_time": "2023-03-16T01:19:43.500621Z",
     "start_time": "2023-03-16T01:19:43.430425Z"
    }
   },
   "outputs": [
    {
     "data": {
      "text/plain": [
       "5"
      ]
     },
     "execution_count": 529,
     "metadata": {},
     "output_type": "execute_result"
    }
   ],
   "source": [
    "len(contoursa)"
   ]
  },
  {
   "cell_type": "code",
   "execution_count": 606,
   "id": "7c43754e",
   "metadata": {
    "ExecuteTime": {
     "end_time": "2023-03-16T03:00:15.439786Z",
     "start_time": "2023-03-16T03:00:15.165752Z"
    }
   },
   "outputs": [
    {
     "data": {
      "image/png": "[encoded data removed]",
      "text/plain": [
       "<Figure size 400x400 with 1 Axes>"
      ]
     },
     "metadata": {},
     "output_type": "display_data"
    }
   ],
   "source": [
    "#visualize the pairings\n",
    "cmap='gray'\n",
    "fontsize=12\n",
    "figsize=(12,6)\n",
    "figsize=(4,4)\n",
    "fig,ax=plt.subplots(figsize=figsize)\n",
    "# ax=axs[0]\n",
    "ax.imshow(imga,cmap=cmap,vmin=-50,vmax=10)#,extent=extent)\n",
    "# ax.imshow(imga_next,cmap=cmap,vmin=-50,vmax=10)#,extent=extent)\n",
    "# #for each pair of contours\n",
    "for ci1,row in df_contours.iterrows():\n",
    "    ci2= int(row['ci_next'])\n",
    "    D0 = row['dist_next']\n",
    "    contour1 = contoursa[ci1]\n",
    "    contour2 = contoursa_next[ci2]\n",
    "    plot_contours_pbc([contour1], ax=ax, linewidth=3, min_num_vertices=6, linestyle='--', alpha=0.5, color=f'C{ci1}')#'blue')\n",
    "    plot_contours_pbc([contour2], ax=ax, linewidth=3, min_num_vertices=6, linestyle='-', alpha=0.5, color=f'C{ci1}')#'blue')\n",
    "#     plot_contours_pbc([contour1[0]], ax=ax, linewidth=3, min_num_vertices=6, linestyle='-', alpha=0.5, color=f'C{ci1}')#'blue')\n",
    "#     plot_contours_pbc([contour2[0]], ax=ax, linewidth=3, min_num_vertices=6, linestyle=':', alpha=0.5, color=f'C{ci1}')#'blue')\n",
    "# ax.tick_params(top=True, right=True,direction='in',which='both')\n",
    "# format_plot(ax=ax,fontsize=fontsize,xlabel='',ylabel='')\n",
    "# plt.tight_layout()\n",
    "plt.show()"
   ]
  },
  {
   "cell_type": "code",
   "execution_count": 607,
   "id": "bdf70175",
   "metadata": {
    "ExecuteTime": {
     "end_time": "2023-03-16T03:00:16.003773Z",
     "start_time": "2023-03-16T03:00:15.934005Z"
    }
   },
   "outputs": [],
   "source": [
    "for ci1,row in df_contours.iterrows():\n",
    "    ci2= int(row['ci_next'])\n",
    "    D0 = row['dist_next']\n",
    "    "
   ]
  },
  {
   "cell_type": "code",
   "execution_count": 608,
   "id": "e4193b4d",
   "metadata": {
    "ExecuteTime": {
     "end_time": "2023-03-16T03:00:16.371519Z",
     "start_time": "2023-03-16T03:00:16.306106Z"
    }
   },
   "outputs": [],
   "source": [
    "#heretimheretim\n",
    "#TODO: verify the curves are paired correctly\n",
    "#TODO: develop a simple way to map pairs of curve onto one another\n"
   ]
  },
  {
   "cell_type": "markdown",
   "id": "0e36fe7c",
   "metadata": {},
   "source": [
    "# compute spline interpolants of either contour"
   ]
  },
  {
   "cell_type": "code",
   "execution_count": 617,
   "id": "b43dedd9",
   "metadata": {
    "ExecuteTime": {
     "end_time": "2023-03-16T03:03:02.294490Z",
     "start_time": "2023-03-16T03:03:00.488606Z"
    }
   },
   "outputs": [],
   "source": [
    "upsampling_rate=4\n",
    "per=1 #use periodic boundary conditions\n",
    "s=1 #enough smoothing to remove the subpixel wiggles\n",
    "# s=0 #no smoothing\n",
    "# s=5 #too much smoothing\n",
    "dict_contour_pairs = extract_local_reference_frame(df_contours, contoursa, contoursa_next, width, height)#,s=1,per=1,upsampling_rate=4,**kwargs)\n",
    "df_state_curr,df_state_next = extract_curvilinear_states_lr(df_contours, contoursa, contoursa_next, vx, vy, inVc, dVcdt, inmhjdfx)#,s=1,per=1,**kwargs)"
   ]
  },
  {
   "cell_type": "code",
   "execution_count": 618,
   "id": "0fd04ea7",
   "metadata": {
    "ExecuteTime": {
     "end_time": "2023-03-16T03:03:06.779385Z",
     "start_time": "2023-03-16T03:03:05.825483Z"
    }
   },
   "outputs": [
    {
     "data": {
      "text/html": [
       "<div>\n",
       "<style scoped>\n",
       "    .dataframe tbody tr th:only-of-type {\n",
       "        vertical-align: middle;\n",
       "    }\n",
       "\n",
       "    .dataframe tbody tr th {\n",
       "        vertical-align: top;\n",
       "    }\n",
       "\n",
       "    .dataframe thead th {\n",
       "        text-align: right;\n",
       "    }\n",
       "</style>\n",
       "<table border=\"1\" class=\"dataframe\">\n",
       "  <thead>\n",
       "    <tr style=\"text-align: right;\">\n",
       "      <th></th>\n",
       "      <th>ci_next</th>\n",
       "      <th>dist_next</th>\n",
       "      <th>mncurv</th>\n",
       "      <th>arclen</th>\n",
       "      <th>rhomin</th>\n",
       "      <th>rhomax</th>\n",
       "      <th>V_curr</th>\n",
       "      <th>V_next</th>\n",
       "      <th>dVdt_curr</th>\n",
       "      <th>dVdt_next</th>\n",
       "    </tr>\n",
       "  </thead>\n",
       "  <tbody>\n",
       "    <tr>\n",
       "      <th>4</th>\n",
       "      <td>2</td>\n",
       "      <td>16.930733</td>\n",
       "      <td>0.060595</td>\n",
       "      <td>134.966477</td>\n",
       "      <td>-0.036749</td>\n",
       "      <td>1.914566</td>\n",
       "      <td>-50.089583</td>\n",
       "      <td>-48.334993</td>\n",
       "      <td>-0.098031</td>\n",
       "      <td>-0.287552</td>\n",
       "    </tr>\n",
       "    <tr>\n",
       "      <th>0</th>\n",
       "      <td>1</td>\n",
       "      <td>21.091253</td>\n",
       "      <td>0.029091</td>\n",
       "      <td>134.966477</td>\n",
       "      <td>-0.014000</td>\n",
       "      <td>0.300130</td>\n",
       "      <td>-63.554045</td>\n",
       "      <td>-54.581845</td>\n",
       "      <td>-0.647319</td>\n",
       "      <td>-0.800896</td>\n",
       "    </tr>\n",
       "    <tr>\n",
       "      <th>1</th>\n",
       "      <td>0</td>\n",
       "      <td>41.462801</td>\n",
       "      <td>0.052487</td>\n",
       "      <td>134.966477</td>\n",
       "      <td>-0.067075</td>\n",
       "      <td>0.653655</td>\n",
       "      <td>-46.084489</td>\n",
       "      <td>-51.082076</td>\n",
       "      <td>0.792103</td>\n",
       "      <td>0.068916</td>\n",
       "    </tr>\n",
       "  </tbody>\n",
       "</table>\n",
       "</div>"
      ],
      "text/plain": [
       "   ci_next  dist_next    mncurv      arclen    rhomin    rhomax     V_curr  \\\n",
       "4        2  16.930733  0.060595  134.966477 -0.036749  1.914566 -50.089583   \n",
       "0        1  21.091253  0.029091  134.966477 -0.014000  0.300130 -63.554045   \n",
       "1        0  41.462801  0.052487  134.966477 -0.067075  0.653655 -46.084489   \n",
       "\n",
       "      V_next  dVdt_curr  dVdt_next  \n",
       "4 -48.334993  -0.098031  -0.287552  \n",
       "0 -54.581845  -0.647319  -0.800896  \n",
       "1 -51.082076   0.792103   0.068916  "
      ]
     },
     "execution_count": 618,
     "metadata": {},
     "output_type": "execute_result"
    }
   ],
   "source": [
    "dict_mean_states=dict()\n",
    "#for each pair of contours\n",
    "for ci1,row in df_contours.iterrows():\n",
    "    ci2= int(row['ci_next'])\n",
    "    D0 = row['dist_next'] \n",
    "    contour1 = contoursa[ci1]\n",
    "    contour2 = contoursa_next[ci2]\n",
    "    #unwind_contour handles pbc\n",
    "    xy_values1 = unwind_contour(contour1,width,height)\n",
    "    xy_values2 = unwind_contour(contour2,width,height)\n",
    "    #^this might be the hard-to-njit rate-limiting step in a faster contour epoch\n",
    "    #compute cublic spline interpolant\n",
    "    tck, s_values = splprep(xy_values1.T,s=s,per=per)\n",
    "    tck_next, s_values_next = splprep(xy_values2.T,s=s,per=per)\n",
    "    s_values_interpolated = np.linspace(0,1,int(np.ceil(s_values.shape[0]*upsampling_rate)))\n",
    "    pts_curr = np.array(splev(s_values_interpolated, tck))\n",
    "    pts_next = np.array(splev(s_values_interpolated, tck_next))\n",
    "    #compute linearly interpolated contour positions and curvature\n",
    "    #measure the size and shape of either contour\n",
    "    dxds = np.array(splev(s_values_interpolated, tck, der=1))\n",
    "    dx2ds2 = np.array(splev(s_values_interpolated, tck, der=2))\n",
    "    denom = np.linalg.norm(dxds,axis=0)**3\n",
    "    wz_values = np.cross(dx2ds2,dxds,axis=0)\n",
    "    # wz_values = np.cross(dxds,dx2ds2,axis=0)\n",
    "    #Q: which of ^these has the \"right\" sign?\n",
    "    curvature_values = wz_values / denom\n",
    "    # curvature_values = np.abs(dx2ds2 * dyds - dxds * dy2ds2) / (dxds * dxds + dyds * dyds)**1.5\n",
    "    # return curvature_values,new_points,dxds,dx2ds2\n",
    "    # new_points,curvature_values,dxds,dx2ds2 = comp_contour_curvature(contour)\n",
    "    #compute the average curvature measures\n",
    "    H0 = np.mean(curvature_values)    \n",
    "    rhomax = np.max(curvature_values)/2\n",
    "    rhomin = np.min(curvature_values)/2\n",
    "    #compute the overall length\n",
    "    arclen = np.linalg.norm(np.diff(new_points),axis=0).sum()\n",
    "    #record\n",
    "    df_contours.loc[ci1,'mncurv']=H0\n",
    "    df_contours.loc[ci1,'arclen']=arclen\n",
    "    df_contours.loc[ci1,'rhomin']=rhomin\n",
    "    df_contours.loc[ci1,'rhomax']=rhomax\n",
    "    #get the interpolated values\n",
    "    dict_mean_state_curr = df_state_curr.loc[df_state_curr['cid']==ci1].mean().to_dict()\n",
    "    dict_mean_state_next = df_state_next.loc[df_state_next['cid']==ci2].mean().to_dict()\n",
    "    #record\n",
    "    dict_mean_states[ci1] = dict(dict_mean_state_curr=dict_mean_state_curr,\n",
    "                             dict_mean_state_next=dict_mean_state_next)\n",
    "    df_contours.loc[ci1,'V_curr']=dict_mean_state_curr['V']\n",
    "    df_contours.loc[ci1,'dVdt_curr']=dict_mean_state_curr['dVdt']\n",
    "    df_contours.loc[ci1,'V_next']=dict_mean_state_next['V']\n",
    "    df_contours.loc[ci1,'dVdt_next']=dict_mean_state_next['dVdt']\n",
    "df_contours"
   ]
  },
  {
   "cell_type": "code",
   "execution_count": 619,
   "id": "f47c9999",
   "metadata": {
    "ExecuteTime": {
     "end_time": "2023-03-16T03:03:40.328873Z",
     "start_time": "2023-03-16T03:03:40.252020Z"
    }
   },
   "outputs": [
    {
     "data": {
      "text/plain": [
       "{'X': 151.04676011289752,\n",
       " 'Y': 174.26726081850143,\n",
       " 'V': -46.08448863713151,\n",
       " 'Ca': 2.0223065553296104e-06,\n",
       " 'dVdt': 0.7921033117597791,\n",
       " 'dCadt': -7.690964383458799e-08,\n",
       " 'vX': 5.769530793705951,\n",
       " 'vY': 2.493091309052609,\n",
       " 'm': 0.5139359900938061,\n",
       " 'h': 0.19708196249877924,\n",
       " 'j': 0.13211998795310745,\n",
       " 'd': 0.09559203583788968,\n",
       " 'f': 0.9014921028057569,\n",
       " 'x': 0.15470744143000706,\n",
       " 'cid': 1.0,\n",
       " 'curvature': 0.0524871273985702}"
      ]
     },
     "execution_count": 619,
     "metadata": {},
     "output_type": "execute_result"
    }
   ],
   "source": [
    "df_contours,\n",
    "df_state_curr,\n",
    "df_state_next,\n",
    "dict_contour_pairs,\n",
    "dict_mean_state_curr,\n",
    "dict_mean_state_next"
   ]
  },
  {
   "cell_type": "code",
   "execution_count": 620,
   "id": "8ee1b870",
   "metadata": {
    "ExecuteTime": {
     "end_time": "2023-03-16T03:03:41.988709Z",
     "start_time": "2023-03-16T03:03:41.793890Z"
    }
   },
   "outputs": [
    {
     "data": {
      "text/plain": [
       "{'X': 108.76094741827498,\n",
       " 'Y': 147.41015781083635,\n",
       " 'V': -51.08207582636475,\n",
       " 'Ca': 2.2021953889069606e-06,\n",
       " 'dVdt': 0.06891608439075446,\n",
       " 'dCadt': -7.70028786225039e-08,\n",
       " 'vX': -2.1852386049155403,\n",
       " 'vY': -1.2106401035134573,\n",
       " 'm': 0.36292327705975114,\n",
       " 'h': 0.14610931893873358,\n",
       " 'j': 0.10205152945388933,\n",
       " 'd': 0.11192526424637726,\n",
       " 'f': 0.9009140193510914,\n",
       " 'x': 0.15533981082392995,\n",
       " 'cid': 0.0,\n",
       " 'curvature': 0.030106728858458096}"
      ]
     },
     "execution_count": 620,
     "metadata": {},
     "output_type": "execute_result"
    }
   ],
   "source": [
    "dict_mean_state_next"
   ]
  },
  {
   "cell_type": "code",
   "execution_count": 625,
   "id": "d1d3f8d8",
   "metadata": {
    "ExecuteTime": {
     "end_time": "2023-03-16T03:16:58.991607Z",
     "start_time": "2023-03-16T03:16:58.858274Z"
    }
   },
   "outputs": [
    {
     "data": {
      "text/plain": [
       "dict_keys(['t', 'model', 'dict_tips', 'ic_fn', 'df_contours', 'dict_contour_pairs', 'df_state_curr', 'df_state_next', 'dict_mean_state_curr', 'dict_mean_state_next', 'dict1d', 'dict2d'])"
      ]
     },
     "execution_count": 625,
     "metadata": {},
     "output_type": "execute_result"
    }
   ],
   "source": [
    "# np.linalg.norm(dxds,axis=1)\n",
    "# new_points[:,0],new_points[:,-1]\n",
    "data = dict(t=t,\n",
    "            model='Luo-Rudy',\n",
    "            dict_tips=dict_out,\n",
    "            ic_fn=ic_fn,\n",
    "            df_contours=df_contours,\n",
    "            dict_contour_pairs=dict_contour_pairs,\n",
    "            df_state_curr=df_state_curr,\n",
    "            df_state_next=df_state_next,\n",
    "            dict_mean_state_curr=dict_mean_state_curr,\n",
    "            dict_mean_state_next=dict_mean_state_next,\n",
    "    dict1d = dict(contoursa=contoursa,\n",
    "                    contoursa_next=contoursa_next,\n",
    "                    contoursb=contoursb,\n",
    "                    contoursb_next=contoursb_next,\n",
    "                    levela=levela,levelb=levelb),\n",
    "    dict2d = dict(img=imga,\n",
    "            img_next=imga_next,\n",
    "            current_fields = dict2d_curr,\n",
    "            next_fields = dict2d_next),\n",
    ")\n",
    "data.keys()"
   ]
  },
  {
   "cell_type": "code",
   "execution_count": 645,
   "id": "2211834c",
   "metadata": {
    "ExecuteTime": {
     "end_time": "2023-03-16T03:23:18.205223Z",
     "start_time": "2023-03-16T03:23:18.028458Z"
    }
   },
   "outputs": [
    {
     "name": "stdout",
     "output_type": "stream",
     "text": [
      "data_dir='/Users/timothytyree/Documents/GitHub/care/notebooks/Data/initial-conditions-suite-3-LR/contour_data/ic008.33_contours_t_110.pkl'\n"
     ]
    }
   ],
   "source": [
    "#save the data\n",
    "data_folder = '/'.join(ic_fn.split('/')[:-2])+'/contour_data'\n",
    "if not os.path.exists(data_folder):\n",
    "    os.mkdir(data_folder)\n",
    "data_fn = ic_fn.split('/')[-1].replace('.npz',f'_contours_t_{int(t)}.pkl')#.replace('ic','contours')\n",
    "data_dir = os.path.join(data_folder,data_fn)\n",
    "save_to_pickle(data_dir,data)\n",
    "print(f\"{data_dir=}\")"
   ]
  },
  {
   "cell_type": "code",
   "execution_count": 647,
   "id": "f50a56a1",
   "metadata": {
    "ExecuteTime": {
     "end_time": "2023-03-16T03:25:18.032793Z",
     "start_time": "2023-03-16T03:25:17.551194Z"
    }
   },
   "outputs": [],
   "source": [
    "# !open /Users/timothytyree/Documents/GitHub/care/notebooks/Data/initial-conditions-suite-3-LR/contour_data"
   ]
  },
  {
   "cell_type": "code",
   "execution_count": 353,
   "id": "2a33b7da",
   "metadata": {
    "ExecuteTime": {
     "end_time": "2023-03-15T23:38:37.212081Z",
     "start_time": "2023-03-15T23:38:37.141019Z"
    }
   },
   "outputs": [],
   "source": [
    "#input: a learning task (xy before/after)\n",
    "#output: minimum chanfer distance contour deformation\n",
    "#HINT: i think pytorch3d has a function optimized for this"
   ]
  },
  {
   "cell_type": "code",
   "execution_count": 354,
   "id": "f708cfbd",
   "metadata": {
    "ExecuteTime": {
     "end_time": "2023-03-15T23:38:37.679234Z",
     "start_time": "2023-03-15T23:38:37.602454Z"
    }
   },
   "outputs": [],
   "source": [
    "# Q: can i reduce it to slerp interpolating two curves in 2D (embedded in 3D)?\n",
    "# A: yes AFTER I find a closest point on the target mesh.  \n",
    "#  ^ this requires preprocessing with some kind of chanfer solve"
   ]
  },
  {
   "cell_type": "code",
   "execution_count": 495,
   "id": "c175934c",
   "metadata": {
    "ExecuteTime": {
     "end_time": "2023-03-16T00:46:59.348269Z",
     "start_time": "2023-03-16T00:46:59.278388Z"
    }
   },
   "outputs": [
    {
     "name": "stdout",
     "output_type": "stream",
     "text": [
      "com_curr=array([-15.91230421, 174.26726082]),\n",
      "com_next=array([191.23985873, 182.29096457])\n"
     ]
    }
   ],
   "source": [
    "print(f\"{com_curr=},\\n{com_next=}\")"
   ]
  },
  {
   "cell_type": "code",
   "execution_count": 496,
   "id": "0af3a527",
   "metadata": {
    "ExecuteTime": {
     "end_time": "2023-03-16T00:46:59.678490Z",
     "start_time": "2023-03-16T00:46:59.595026Z"
    }
   },
   "outputs": [
    {
     "name": "stdout",
     "output_type": "stream",
     "text": [
      "com_next - (com_curr+xy_shift_unwrap) =array([7.15216294, 8.02370375])\n",
      "displacement=array([7.15216294, 8.02370375])\n"
     ]
    }
   ],
   "source": [
    "#xy_shift_unwrap is the shift from periodic bc's only!\n",
    "#block unwrap pts_src from pts_dst\n",
    "xy_shift_unwrap,mindist_unwrap = pbc_robust_shift(com_curr,com_next,width,height) \n",
    "com_curr_unwrap = (com_curr + xy_shift_unwrap)\n",
    "#compute xy_shift to center the two shapes\n",
    "# xy_shift = com_curr_unwrap - com_next\n",
    "displacement = com_next - com_curr_unwrap\n",
    "# print(f\"{com_curr=},\\n{com_curr+xy_shift=},\\n{com_next=}\")\n",
    "# print(f\"{xy_shift=},\\n{xy_shift_unwrap=}\")\n",
    "# print(f\"{com_curr+xy_shift_unwrap=},\\n{com_next=}\\n{displacement=}\")\n",
    "print(f\"{com_next - (com_curr+xy_shift_unwrap) =}\\n{displacement=}\")\n",
    "#they agree, it seems"
   ]
  },
  {
   "cell_type": "code",
   "execution_count": 498,
   "id": "b24f3677",
   "metadata": {
    "ExecuteTime": {
     "end_time": "2023-03-16T00:47:01.642863Z",
     "start_time": "2023-03-16T00:47:00.365642Z"
    }
   },
   "outputs": [
    {
     "data": {
      "image/png": "[encoded data removed]",
      "text/plain": [
       "<Figure size 400x400 with 1 Axes>"
      ]
     },
     "metadata": {},
     "output_type": "display_data"
    }
   ],
   "source": [
    "fig,ax=plt.subplots(figsize=figsize)\n",
    "# plt.quiver([com_curr_unwrap[0]],[com_curr_unwrap[1]],[displacement[0]],[displacement[1]],\n",
    "#         lw=4,color='k',alpha=0.7,units='xy')\n",
    "ax.scatter([com_curr_unwrap[0],com_curr_unwrap[0]+displacement[0]],\n",
    "            [com_curr_unwrap[1],com_curr_unwrap[1]]+displacement[1],\n",
    "        lw=4,color='k',alpha=0.7)#,units='xy')\n",
    "ax.plot([com_curr_unwrap[0],com_curr_unwrap[0]+displacement[0]],\n",
    "            [com_curr_unwrap[1],com_curr_unwrap[1]]+displacement[1],\n",
    "        lw=4,color='k',alpha=0.7)#,units='xy')\n",
    "ax.scatter(x=pts_curr[0]+xy_shift[0],y=pts_curr[1]+xy_shift[1],color='g',alpha=0.7)\n",
    "ax.scatter(x=pts_next[0],y=pts_next[1],color='r',alpha=0.7)\n",
    "format_plot(ax=ax,fontsize=fontsize,xlabel='X  (pxls)',ylabel='Y  (pxls)')\n",
    "ax.tick_params(top=True, right=True,direction='in',which='both')\n",
    "plt.show()"
   ]
  },
  {
   "cell_type": "markdown",
   "id": "055232d4",
   "metadata": {},
   "source": [
    "# TODO: caste this into a point cloud deformation problem and then try to solve it efficiently in pytorch3d"
   ]
  },
  {
   "cell_type": "code",
   "execution_count": null,
   "id": "a0016ef8",
   "metadata": {
    "ExecuteTime": {
     "end_time": "2023-03-16T01:34:16.620034Z",
     "start_time": "2023-03-16T01:34:16.531620Z"
    }
   },
   "outputs": [],
   "source": []
  },
  {
   "cell_type": "code",
   "execution_count": null,
   "id": "b09f32b2",
   "metadata": {},
   "outputs": [],
   "source": []
  },
  {
   "cell_type": "code",
   "execution_count": null,
   "id": "9aad607f",
   "metadata": {},
   "outputs": [],
   "source": []
  },
  {
   "cell_type": "code",
   "execution_count": null,
   "id": "9daf364c",
   "metadata": {},
   "outputs": [],
   "source": []
  },
  {
   "cell_type": "code",
   "execution_count": 622,
   "id": "e461f6ff",
   "metadata": {
    "ExecuteTime": {
     "end_time": "2023-03-16T03:09:53.987502Z",
     "start_time": "2023-03-16T03:09:53.903412Z"
    }
   },
   "outputs": [],
   "source": [
    "# import os\n",
    "# import torch\n",
    "# # from pytorch3d.io import load_obj, save_obj"
   ]
  },
  {
   "cell_type": "code",
   "execution_count": null,
   "id": "15da532b",
   "metadata": {},
   "outputs": [],
   "source": []
  },
  {
   "cell_type": "markdown",
   "id": "faa9fba2",
   "metadata": {
    "heading_collapsed": true
   },
   "source": [
    "# don't expect good results getting the minimal displacements with simulated annealing"
   ]
  },
  {
   "cell_type": "code",
   "execution_count": 507,
   "id": "ee7bb9dd",
   "metadata": {
    "ExecuteTime": {
     "end_time": "2023-03-16T00:52:37.679879Z",
     "start_time": "2023-03-16T00:52:37.614189Z"
    },
    "hidden": true
   },
   "outputs": [],
   "source": [
    "# seed=42\n",
    "# # scipy.optimize.minimize(mindist, )\n",
    "# #TODO: recall latest dual simulated annealing solver\n",
    "# #TODO: cp it here\n",
    "# #TOOD: modify it to find the s that minimizes the distance between pt0_src and pts_dst\n",
    "# pts_src = xy_values1 + xy_shift\n",
    "# tck_dst = tck_next\n",
    "# for pt0_src in pts_src:\n",
    "#     args = (pt0_src,tck_dst)\n",
    "#     bounds = [(-0.01,1.01),]\n",
    "# res = dual_annealing(\n",
    "#     comp_distance_to_spline,\n",
    "#     bounds=bounds,\n",
    "#     args=args,\n",
    "#     maxiter=10000,\n",
    "# #     local_search_options={},\n",
    "# #     initial_temp=5.0,\n",
    "# #     initial_temp=5230.0,\n",
    "# #     restart_temp_ratio=2e-05,\n",
    "# #     visit=2.62,\n",
    "# #     accept=-5.0,\n",
    "# #     maxfun=10000000.0,\n",
    "# #     seed=seed,\n",
    "#     no_local_search=True,\n",
    "# #     callback=None,\n",
    "# #     x0=None,\n",
    "# )"
   ]
  },
  {
   "cell_type": "code",
   "execution_count": 506,
   "id": "80193661",
   "metadata": {
    "ExecuteTime": {
     "end_time": "2023-03-16T00:52:33.266299Z",
     "start_time": "2023-03-16T00:52:33.199039Z"
    },
    "hidden": true
   },
   "outputs": [],
   "source": [
    "# print(f\"{s}: {comp_distance_to_spline(s,*args)=}\")\n",
    "# print(f\"{res.x[0]}: {comp_distance_to_spline(res.x,*args)=}\")"
   ]
  },
  {
   "cell_type": "code",
   "execution_count": 505,
   "id": "19f9b623",
   "metadata": {
    "ExecuteTime": {
     "end_time": "2023-03-16T00:52:31.087317Z",
     "start_time": "2023-03-16T00:52:31.015847Z"
    },
    "hidden": true
   },
   "outputs": [],
   "source": [
    "# xv = np.linspace(-0.1,1.1,100)\n",
    "# yv = np.array([comp_msdistance_to_spline(x,*args) for x in xv])\n",
    "# plt.plot(xv,yv)"
   ]
  },
  {
   "cell_type": "code",
   "execution_count": 504,
   "id": "590f9489",
   "metadata": {
    "ExecuteTime": {
     "end_time": "2023-03-16T00:52:27.785855Z",
     "start_time": "2023-03-16T00:52:27.715449Z"
    },
    "hidden": true
   },
   "outputs": [],
   "source": [
    "# dual_annealing?"
   ]
  },
  {
   "cell_type": "code",
   "execution_count": 499,
   "id": "6e3de8e8",
   "metadata": {
    "ExecuteTime": {
     "end_time": "2023-03-16T00:48:04.342079Z",
     "start_time": "2023-03-16T00:48:04.274256Z"
    },
    "hidden": true
   },
   "outputs": [],
   "source": [
    "# # curvature_values = np.abs(dx2ds2 * dyds - dxds * dy2ds2) / (dxds * dxds + dyds * dyds)**1.5\n",
    "# # return curvature_values\n",
    "# plt.plot(xy_values[:,0],xy_values[:,1])#,c=curvature_values,cmap='gray_r')\n",
    "# plt.plot(new_points[0],new_points[1])#,c=curvature_values,cmap='gray_r')\n",
    "# plt.scatter(x=new_points[0],y=new_points[1],c=curvature_values,cmap='gray_r')\n",
    "# # new_points.shape\n",
    "# # TODO(later): determine the maximum curvature location"
   ]
  },
  {
   "cell_type": "code",
   "execution_count": 503,
   "id": "470f9d6e",
   "metadata": {
    "ExecuteTime": {
     "end_time": "2023-03-16T00:48:26.931324Z",
     "start_time": "2023-03-16T00:48:26.853222Z"
    },
    "hidden": true
   },
   "outputs": [],
   "source": [
    "#potential first integrals:\n",
    "#mean curvature (a topological invariant here?)\n",
    "#tensile energy (requires notion of mass)"
   ]
  },
  {
   "cell_type": "code",
   "execution_count": null,
   "id": "83425ffd",
   "metadata": {
    "hidden": true
   },
   "outputs": [],
   "source": []
  },
  {
   "cell_type": "code",
   "execution_count": 35,
   "id": "76415834",
   "metadata": {
    "ExecuteTime": {
     "end_time": "2023-03-15T20:18:54.704330Z",
     "start_time": "2023-03-15T20:18:54.604910Z"
    },
    "hidden": true
   },
   "outputs": [
    {
     "data": {
      "text/plain": [
       "145.865550846833"
      ]
     },
     "execution_count": 35,
     "metadata": {},
     "output_type": "execute_result"
    }
   ],
   "source": [
    "dist_chamfer"
   ]
  },
  {
   "cell_type": "code",
   "execution_count": null,
   "id": "9d7df5ad",
   "metadata": {
    "hidden": true
   },
   "outputs": [],
   "source": []
  },
  {
   "cell_type": "code",
   "execution_count": 20,
   "id": "0d1b5f7f",
   "metadata": {
    "ExecuteTime": {
     "end_time": "2023-03-15T20:12:28.103660Z",
     "start_time": "2023-03-15T20:12:28.046578Z"
    },
    "hidden": true
   },
   "outputs": [],
   "source": [
    "#TODO: place -grad(dVdt) quiver at each node of contoursa\n"
   ]
  },
  {
   "cell_type": "code",
   "execution_count": 21,
   "id": "3837a2ca",
   "metadata": {
    "ExecuteTime": {
     "end_time": "2023-03-15T20:12:28.178754Z",
     "start_time": "2023-03-15T20:12:28.106156Z"
    },
    "hidden": true
   },
   "outputs": [],
   "source": [
    "#fastest way to do this:\n",
    "#general bilinear interpolation on the square\n",
    "#provably exact using only 3 pixels\n",
    "#HINT: search bilinear from before"
   ]
  },
  {
   "cell_type": "code",
   "execution_count": 23,
   "id": "be0edcde",
   "metadata": {
    "ExecuteTime": {
     "end_time": "2023-03-15T20:16:23.223473Z",
     "start_time": "2023-03-15T20:16:23.157367Z"
    },
    "hidden": true
   },
   "outputs": [],
   "source": [
    "# DONE: map these guys to pandas.DataFrame \n",
    "# inVc,dVcdt,inmhjdfx,vx,vy,x,y,cid"
   ]
  },
  {
   "cell_type": "code",
   "execution_count": null,
   "id": "48fc731a",
   "metadata": {
    "hidden": true
   },
   "outputs": [],
   "source": []
  },
  {
   "cell_type": "code",
   "execution_count": 25,
   "id": "83196bdb",
   "metadata": {
    "ExecuteTime": {
     "end_time": "2023-03-15T20:16:27.617287Z",
     "start_time": "2023-03-15T20:16:27.546340Z"
    },
    "hidden": true
   },
   "outputs": [],
   "source": [
    "# np.floor(contour[0])"
   ]
  },
  {
   "cell_type": "code",
   "execution_count": null,
   "id": "2e8bc459",
   "metadata": {
    "hidden": true
   },
   "outputs": [],
   "source": []
  },
  {
   "cell_type": "code",
   "execution_count": 26,
   "id": "a1bc8f79",
   "metadata": {
    "ExecuteTime": {
     "end_time": "2023-03-15T20:16:28.213193Z",
     "start_time": "2023-03-15T20:16:28.142847Z"
    },
    "hidden": true
   },
   "outputs": [],
   "source": [
    "#DONE(later): smooth dimgdt slightly and detect contours on its bumpy surface\n",
    "#DONE: overlay contoursa\n",
    "#TODO: estimate the time-like tangent space of contoursa along the curve\n",
    "#TODO: visualize the dual states with a quiver plot\n",
    "#TODO: dev function that smoothly interpolates nodes from initial dual state to final dual state \n",
    "#HINT: what function smoothly interpolates from step to step+1 that\n",
    "#  1. minimizes the distance between each node and the interpolated curve at step+1\n",
    "#  2. minimizes the change in distance between two nodes\n",
    "#HINT: as DT-->0, contoursa must move in the direction of -grad(dVdt)\n",
    "#HYPOTHESIS: the local texture properties govern the instantaneous change in curvature of activation fronts\n",
    "#CLAIM: if we can predict the time evolution of the kymograph of local properties, \n",
    "#    then we can predict the direction of -grad(dVdt)\n"
   ]
  },
  {
   "cell_type": "code",
   "execution_count": 27,
   "id": "c08b8b12",
   "metadata": {
    "ExecuteTime": {
     "end_time": "2023-03-15T20:16:28.624907Z",
     "start_time": "2023-03-15T20:16:28.550113Z"
    },
    "hidden": true
   },
   "outputs": [],
   "source": [
    "#GOAL: estimate spiral tip locations using only the local properties of contoursa"
   ]
  },
  {
   "cell_type": "code",
   "execution_count": 28,
   "id": "48286ce0",
   "metadata": {
    "ExecuteTime": {
     "end_time": "2023-03-15T20:16:28.929860Z",
     "start_time": "2023-03-15T20:16:28.849316Z"
    },
    "hidden": true
   },
   "outputs": [],
   "source": [
    "# ax.quiver(x, y, z, us, vs, ws, length=1, normalize=False, color='orange', label='spring forces')"
   ]
  },
  {
   "cell_type": "code",
   "execution_count": 34,
   "id": "d159051a",
   "metadata": {
    "ExecuteTime": {
     "end_time": "2023-03-15T20:18:05.294888Z",
     "start_time": "2023-03-15T20:18:05.223262Z"
    },
    "hidden": true
   },
   "outputs": [],
   "source": [
    "# xy_values"
   ]
  },
  {
   "cell_type": "code",
   "execution_count": 32,
   "id": "5a60b1c8",
   "metadata": {
    "ExecuteTime": {
     "end_time": "2023-03-15T20:17:51.910583Z",
     "start_time": "2023-03-15T20:17:51.825325Z"
    },
    "hidden": true
   },
   "outputs": [
    {
     "ename": "ValueError",
     "evalue": "Invalid inputs.",
     "output_type": "error",
     "traceback": [
      "\u001b[0;31m---------------------------------------------------------------------------\u001b[0m",
      "\u001b[0;31mValueError\u001b[0m                                Traceback (most recent call last)",
      "\u001b[0;32m/var/folders/0h/p4cbb7yx22jbxm0qb47vhfbh0000gn/T/ipykernel_45607/2639596738.py\u001b[0m in \u001b[0;36m<module>\u001b[0;34m\u001b[0m\n\u001b[1;32m      1\u001b[0m \u001b[0;31m#TODO: estimate the space-like tangent space of contoursa along the curve\u001b[0m\u001b[0;34m\u001b[0m\u001b[0;34m\u001b[0m\u001b[0;34m\u001b[0m\u001b[0m\n\u001b[1;32m      2\u001b[0m \u001b[0mxy_values\u001b[0m \u001b[0;34m=\u001b[0m \u001b[0mcontour\u001b[0m\u001b[0;34m\u001b[0m\u001b[0;34m\u001b[0m\u001b[0m\n\u001b[0;32m----> 3\u001b[0;31m \u001b[0mnew_points\u001b[0m\u001b[0;34m=\u001b[0m\u001b[0mcomp_interpolated_points\u001b[0m\u001b[0;34m(\u001b[0m\u001b[0mxy_values\u001b[0m\u001b[0;34m,\u001b[0m\u001b[0ms\u001b[0m\u001b[0;34m=\u001b[0m\u001b[0;36m1\u001b[0m\u001b[0;34m)\u001b[0m\u001b[0;34m\u001b[0m\u001b[0;34m\u001b[0m\u001b[0m\n\u001b[0m\u001b[1;32m      4\u001b[0m \u001b[0mcurvature_values\u001b[0m\u001b[0;34m=\u001b[0m\u001b[0mcomp_curvature\u001b[0m\u001b[0;34m(\u001b[0m\u001b[0mxy_values\u001b[0m\u001b[0;34m)\u001b[0m\u001b[0;34m/\u001b[0m\u001b[0mDX\u001b[0m\u001b[0;34m\u001b[0m\u001b[0;34m\u001b[0m\u001b[0m\n\u001b[1;32m      5\u001b[0m \u001b[0msigma_unitless_values\u001b[0m\u001b[0;34m=\u001b[0m\u001b[0mnp\u001b[0m\u001b[0;34m.\u001b[0m\u001b[0mlinspace\u001b[0m\u001b[0;34m(\u001b[0m\u001b[0;36m0\u001b[0m\u001b[0;34m,\u001b[0m\u001b[0;36m1\u001b[0m\u001b[0;34m,\u001b[0m\u001b[0mcurvature_values\u001b[0m\u001b[0;34m.\u001b[0m\u001b[0mshape\u001b[0m\u001b[0;34m[\u001b[0m\u001b[0;36m0\u001b[0m\u001b[0;34m]\u001b[0m\u001b[0;34m)\u001b[0m\u001b[0;34m\u001b[0m\u001b[0;34m\u001b[0m\u001b[0m\n",
      "\u001b[0;32m~/Documents/GitHub/care/notebooks/lib/measure/curvature.py\u001b[0m in \u001b[0;36mcomp_interpolated_points\u001b[0;34m(xy_values, s)\u001b[0m\n\u001b[1;32m    118\u001b[0m     \u001b[0mx\u001b[0m \u001b[0;34m=\u001b[0m \u001b[0mnp\u001b[0m\u001b[0;34m.\u001b[0m\u001b[0mr_\u001b[0m\u001b[0;34m[\u001b[0m\u001b[0mxp\u001b[0m\u001b[0;34m[\u001b[0m\u001b[0mokay\u001b[0m\u001b[0;34m]\u001b[0m\u001b[0;34m,\u001b[0m \u001b[0mxp\u001b[0m\u001b[0;34m[\u001b[0m\u001b[0;34m-\u001b[0m\u001b[0;36m1\u001b[0m\u001b[0;34m]\u001b[0m\u001b[0;34m,\u001b[0m \u001b[0mxp\u001b[0m\u001b[0;34m[\u001b[0m\u001b[0;36m0\u001b[0m\u001b[0;34m]\u001b[0m\u001b[0;34m]\u001b[0m\u001b[0;34m\u001b[0m\u001b[0;34m\u001b[0m\u001b[0m\n\u001b[1;32m    119\u001b[0m     \u001b[0my\u001b[0m \u001b[0;34m=\u001b[0m \u001b[0mnp\u001b[0m\u001b[0;34m.\u001b[0m\u001b[0mr_\u001b[0m\u001b[0;34m[\u001b[0m\u001b[0myp\u001b[0m\u001b[0;34m[\u001b[0m\u001b[0mokay\u001b[0m\u001b[0;34m]\u001b[0m\u001b[0;34m,\u001b[0m \u001b[0myp\u001b[0m\u001b[0;34m[\u001b[0m\u001b[0;34m-\u001b[0m\u001b[0;36m1\u001b[0m\u001b[0;34m]\u001b[0m\u001b[0;34m,\u001b[0m \u001b[0myp\u001b[0m\u001b[0;34m[\u001b[0m\u001b[0;36m0\u001b[0m\u001b[0;34m]\u001b[0m\u001b[0;34m]\u001b[0m\u001b[0;34m\u001b[0m\u001b[0;34m\u001b[0m\u001b[0m\n\u001b[0;32m--> 120\u001b[0;31m     \u001b[0mtck\u001b[0m\u001b[0;34m,\u001b[0m \u001b[0mu\u001b[0m \u001b[0;34m=\u001b[0m \u001b[0msplprep\u001b[0m\u001b[0;34m(\u001b[0m\u001b[0;34m[\u001b[0m\u001b[0mx\u001b[0m\u001b[0;34m,\u001b[0m \u001b[0my\u001b[0m\u001b[0;34m]\u001b[0m\u001b[0;34m,\u001b[0m\u001b[0ms\u001b[0m\u001b[0;34m=\u001b[0m\u001b[0ms\u001b[0m\u001b[0;34m)\u001b[0m\u001b[0;31m#,per=1)#s=0)\u001b[0m\u001b[0;34m\u001b[0m\u001b[0;34m\u001b[0m\u001b[0m\n\u001b[0m\u001b[1;32m    121\u001b[0m     \u001b[0mnew_points\u001b[0m \u001b[0;34m=\u001b[0m \u001b[0msplev\u001b[0m\u001b[0;34m(\u001b[0m\u001b[0mu\u001b[0m\u001b[0;34m,\u001b[0m \u001b[0mtck\u001b[0m\u001b[0;34m)\u001b[0m\u001b[0;34m\u001b[0m\u001b[0;34m\u001b[0m\u001b[0m\n\u001b[1;32m    122\u001b[0m     \u001b[0;32mreturn\u001b[0m \u001b[0mnew_points\u001b[0m\u001b[0;34m\u001b[0m\u001b[0;34m\u001b[0m\u001b[0m\n",
      "\u001b[0;32m~/opt/miniconda3/envs/pyenv/lib/python3.9/site-packages/scipy/interpolate/fitpack.py\u001b[0m in \u001b[0;36msplprep\u001b[0;34m(x, w, u, ub, ue, k, task, s, t, full_output, nest, per, quiet)\u001b[0m\n\u001b[1;32m    153\u001b[0m \u001b[0;34m\u001b[0m\u001b[0m\n\u001b[1;32m    154\u001b[0m     \"\"\"\n\u001b[0;32m--> 155\u001b[0;31m     res = _impl.splprep(x, w, u, ub, ue, k, task, s, t, full_output, nest, per,\n\u001b[0m\u001b[1;32m    156\u001b[0m                         quiet)\n\u001b[1;32m    157\u001b[0m     \u001b[0;32mreturn\u001b[0m \u001b[0mres\u001b[0m\u001b[0;34m\u001b[0m\u001b[0;34m\u001b[0m\u001b[0m\n",
      "\u001b[0;32m~/opt/miniconda3/envs/pyenv/lib/python3.9/site-packages/scipy/interpolate/_fitpack_impl.py\u001b[0m in \u001b[0;36msplprep\u001b[0;34m(x, w, u, ub, ue, k, task, s, t, full_output, nest, per, quiet)\u001b[0m\n\u001b[1;32m    278\u001b[0m     \u001b[0mwrk\u001b[0m \u001b[0;34m=\u001b[0m \u001b[0m_parcur_cache\u001b[0m\u001b[0;34m[\u001b[0m\u001b[0;34m'wrk'\u001b[0m\u001b[0;34m]\u001b[0m\u001b[0;34m\u001b[0m\u001b[0;34m\u001b[0m\u001b[0m\n\u001b[1;32m    279\u001b[0m     \u001b[0miwrk\u001b[0m \u001b[0;34m=\u001b[0m \u001b[0m_parcur_cache\u001b[0m\u001b[0;34m[\u001b[0m\u001b[0;34m'iwrk'\u001b[0m\u001b[0;34m]\u001b[0m\u001b[0;34m\u001b[0m\u001b[0;34m\u001b[0m\u001b[0m\n\u001b[0;32m--> 280\u001b[0;31m     t, c, o = _fitpack._parcur(ravel(transpose(x)), w, u, ub, ue, k,\n\u001b[0m\u001b[1;32m    281\u001b[0m                                task, ipar, s, t, nest, wrk, iwrk, per)\n\u001b[1;32m    282\u001b[0m     \u001b[0m_parcur_cache\u001b[0m\u001b[0;34m[\u001b[0m\u001b[0;34m'u'\u001b[0m\u001b[0;34m]\u001b[0m \u001b[0;34m=\u001b[0m \u001b[0mo\u001b[0m\u001b[0;34m[\u001b[0m\u001b[0;34m'u'\u001b[0m\u001b[0;34m]\u001b[0m\u001b[0;34m\u001b[0m\u001b[0;34m\u001b[0m\u001b[0m\n",
      "\u001b[0;31mValueError\u001b[0m: Invalid inputs."
     ]
    }
   ],
   "source": [
    "#TODO: estimate the space-like tangent space of contoursa along the curve\n",
    "xy_values = contour\n",
    "new_points=comp_interpolated_points(xy_values,s=1)\n",
    "curvature_values=comp_curvature(xy_values)/DX\n",
    "sigma_unitless_values=np.linspace(0,1,curvature_values.shape[0])\n",
    "sigma_values=arclen*sigma_unitless_values\n",
    "c_values=curvature_values"
   ]
  },
  {
   "cell_type": "code",
   "execution_count": null,
   "id": "152c2862",
   "metadata": {
    "hidden": true
   },
   "outputs": [],
   "source": [
    "# Q: does comp_curvature respect pbc?\n",
    "comp_curvature"
   ]
  },
  {
   "cell_type": "code",
   "execution_count": null,
   "id": "d17758a1",
   "metadata": {
    "hidden": true
   },
   "outputs": [],
   "source": []
  },
  {
   "cell_type": "code",
   "execution_count": null,
   "id": "f17102f3",
   "metadata": {
    "hidden": true
   },
   "outputs": [],
   "source": [
    "# TODO(later): determine the maximum curvature location\n"
   ]
  }
 ],
 "metadata": {
  "hide_input": false,
  "kernelspec": {
   "display_name": "Python 3 (ipykernel)",
   "language": "python",
   "name": "python3"
  },
  "language_info": {
   "codemirror_mode": {
    "name": "ipython",
    "version": 3
   },
   "file_extension": ".py",
   "mimetype": "text/x-python",
   "name": "python",
   "nbconvert_exporter": "python",
   "pygments_lexer": "ipython3",
   "version": "3.9.5"
  },
  "nbTranslate": {
   "displayLangs": [
    "*"
   ],
   "hotkey": "alt-t",
   "langInMainMenu": true,
   "sourceLang": "en",
   "targetLang": "fr",
   "useGoogleTranslate": true
  },
  "toc": {
   "base_numbering": 1,
   "nav_menu": {},
   "number_sections": true,
   "sideBar": true,
   "skip_h1_title": false,
   "title_cell": "Table of Contents",
   "title_sidebar": "Contents",
   "toc_cell": false,
   "toc_position": {},
   "toc_section_display": true,
   "toc_window_display": false
  }
 },
 "nbformat": 4,
 "nbformat_minor": 5
}
