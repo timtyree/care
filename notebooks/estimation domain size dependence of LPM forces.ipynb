{
 "cells": [
  {
   "cell_type": "markdown",
   "id": "830a523e",
   "metadata": {},
   "source": [
    "# estimation domain size dependence of LPM forces\n",
    "Tim Tyree<br>\n",
    "12.28.2022"
   ]
  },
  {
   "cell_type": "code",
   "execution_count": 1,
   "id": "81926c37",
   "metadata": {
    "ExecuteTime": {
     "end_time": "2023-01-14T23:08:36.001802Z",
     "start_time": "2023-01-14T23:08:34.200324Z"
    }
   },
   "outputs": [
    {
     "name": "stdout",
     "output_type": "stream",
     "text": [
      "The autoreload extension is already loaded. To reload it, use:\n",
      "  %reload_ext autoreload\n"
     ]
    }
   ],
   "source": [
    "# simplify initialization\n",
    "from scipy.optimize import minimize\n",
    "from lib.my_initialization import *\n",
    "from lib import *\n",
    "# from lib.measure.level_sets import comp_longest_level_set_and_smooth\n",
    "%load_ext autoreload\n",
    "%autoreload 2\n",
    "\n",
    "import matplotlib.pyplot as plt, numpy as np\n",
    "from mpltools import annotation\n",
    "import random,scipy\n",
    "from scipy.interpolate import LinearNDInterpolator\n",
    "from scipy.interpolate import CloughTocher2DInterpolator\n",
    "import matplotlib as mpl #for colorbar\n",
    "from scipy import stats\n",
    "\n",
    "#for particle params to MSR generating functional\n",
    "from scipy.signal import savgol_filter\n",
    "import dask.bag as db\n",
    "import seaborn as sns\n",
    "# from lib.lib_care.measure.bootstrap import bin_and_bootstrap_xy_values_parallel\n",
    "\n",
    "darkmode=False\n",
    "if darkmode:\n",
    "    # For darkmode plots\n",
    "    from jupyterthemes import jtplot\n",
    "    jtplot.style(theme='monokai', context='notebook', ticks=True, grid=False)\n",
    "\n",
    "import warnings\n",
    "warnings.simplefilter(\"ignore\", UserWarning)\n",
    "%load_ext autoreload\n",
    "%autoreload 2\n",
    "\n",
    "#optional\n",
    "# import cupy as cp\n",
    "# cp.random.seed(42)\n",
    "np.random.seed(42)"
   ]
  },
  {
   "cell_type": "code",
   "execution_count": 2,
   "id": "59580354",
   "metadata": {
    "ExecuteTime": {
     "end_time": "2023-01-14T23:08:36.050508Z",
     "start_time": "2023-01-14T23:08:36.003946Z"
    }
   },
   "outputs": [],
   "source": [
    "plt.plot([1]*4)\n",
    "plt.close()\n",
    "#reset matplotlib settings\n",
    "import matplotlib as mpl\n",
    "sns.reset_orig()\n",
    "mpl.rc_file_defaults()"
   ]
  },
  {
   "cell_type": "markdown",
   "id": "7c070b24",
   "metadata": {},
   "source": [
    "# define module"
   ]
  },
  {
   "cell_type": "code",
   "execution_count": 3,
   "id": "865beca3",
   "metadata": {
    "ExecuteTime": {
     "end_time": "2023-01-14T23:08:37.091508Z",
     "start_time": "2023-01-14T23:08:37.073445Z"
    }
   },
   "outputs": [],
   "source": [
    "def moving_average(a, n=3) :\n",
    "    ret = np.cumsum(a, dtype=float)\n",
    "    ret[n:] = ret[n:] - ret[:-n]\n",
    "    return ret[n - 1:] / n"
   ]
  },
  {
   "cell_type": "markdown",
   "id": "21b259c9",
   "metadata": {},
   "source": [
    "# scatter plot amax versus A"
   ]
  },
  {
   "cell_type": "code",
   "execution_count": 38,
   "id": "de0e5500",
   "metadata": {
    "ExecuteTime": {
     "end_time": "2023-01-17T02:05:53.019600Z",
     "start_time": "2023-01-17T02:05:52.870755Z"
    }
   },
   "outputs": [
    {
     "data": {
      "image/png": "[encoded data removed]",
      "text/plain": [
       "<Figure size 400x400 with 1 Axes>"
      ]
     },
     "metadata": {},
     "output_type": "display_data"
    },
    {
     "name": "stdout",
     "output_type": "stream",
     "text": [
      "For the FK model, increasing $A$ by 444.4444444% increased $a$ by -55.6975344%.\n",
      "For the FK model, increasing $A$ by 444% increased $a$ by -56%.\n",
      "For the LR model, increasing $A$ by 300.0000000% increased $a$ by -23.5236207%.\n",
      "For the LR model, increasing $A$ by 300% increased $a$ by -24%.\n"
     ]
    }
   ],
   "source": [
    "# scatter plot amax versus A\n",
    "#src: from_wjr\n",
    "DS=0.025 #cm/px\n",
    "#recall amax versus A values from before\n",
    "dict_amax_lst_fk=[]\n",
    "for model,\twidth,\tamax,\tamax_again, D, Delta_D in [\n",
    "    ('FK',\t150,\t1.6779,\t1.6779, #0.0, 0),#0.05, 0),\n",
    "         -0.06313856048623989,0.015406066199523744),\n",
    "    ('FK',\t200,\t1.7812,\t1.7811, #0.0, 0),##0.05, 0),\n",
    "         0.11449546281753001,0.007987364738330576),\n",
    "    ('FK',\t250,\t1.8334,\t1.8337, #0.0, 0),#0.05, 0)\n",
    "         0.20307175047033585,0.008569188343031837),\n",
    "    ('FK',\t283,\t1.8492,1.8494, #0.0, 0),#0.05, 0)\n",
    "         0.1699978601290549,0.016751440381045642),\n",
    "    ('FK',\t350,\t1.8454,1.8453, #1.447357,0.022455, #0.0, 0),#0.05, 0)\n",
    "         0.5230525259515364,0.022385509656234013),\n",
    "     ]:\n",
    "    # print(f\"{width},{D},{Delta_D},{min_tdeath},{max_tdeath}\")\n",
    "    # FK at A=76.5625:\n",
    "    # 350,0.28212721083867737,0.05638616673030058,600.0,1500.0\n",
    "    # 350,0.5230525259515364,0.022385509656234013,300.0,1000.0\n",
    "    # FK at A=50.0556:\n",
    "    # 283,0.1699978601290549,0.016751440381045642,600.0,1500.0\n",
    "    # 283,0.08835528394206124,0.009578146837089064,300.0,1000.0\n",
    "\n",
    "\n",
    "    dict_amax_lst_fk.append(\n",
    "        dict(model=model,width=width,amax=amax,amax_again=amax_again,D=D,Delta_D=Delta_D)\n",
    "    )  \n",
    "#heretim\n",
    "#src: from_wjr\n",
    "dict_amax_lst_lr=[]\n",
    "for model,\twidth,\tamax,\tamax_again, D, Delta_D in [\n",
    "    ('LR',\t200,\t10.147,\t10.147, #0.0, 0),#0.05, 0),\n",
    "         0.41579792802708637,0.1383129275716018), # as reported in Letter\n",
    "    ('LR',\t250,\t10.5917,10.5941, #0.0, 0),##0.05, 0),\n",
    "         0.884142229988156,0.08591228213410576),\n",
    "    ('LR',\t300,\t11.4431,11.442, #0.0, 0),##0.05, 0),\n",
    "         1.7371134990867834,0.21835134626786248),\n",
    "     ('LR',\t350,\t11.5883,11.5875, #0.0, 0),##0.05, 0),\n",
    "         2.152934418246597,0.24985450606055637),\n",
    "    ('LR',\t400,\t11.606,\t11.6056, #0.0, 0),##0.05, 0),\n",
    "         2.2409580980757418,0.13694044386234994),\n",
    "     ]:\n",
    "    dict_amax_lst_lr.append(\n",
    "        dict(model=model,width=width,amax=amax,amax_again=amax_again,D=D,Delta_D=Delta_D)\n",
    "    )\n",
    "df_fk = pd.DataFrame(dict_amax_lst_fk)\n",
    "df_lr = pd.DataFrame(dict_amax_lst_lr)\n",
    "#compute scatter plot xy values\n",
    "df = df_fk\n",
    "df['L']=df['width']*DS\n",
    "df['A']=df['L']**2\n",
    "df['Delta_amax'] = np.abs(df['amax'] -df['amax_again'])\n",
    "x_values_fk = df['A'].values\n",
    "y_values_fk = df['amax'].values - 2*df['D'].values\n",
    "yerr_values_fk = df['Delta_amax'].values + 2*df['Delta_D'].values\n",
    "df['a']=y_values_fk\n",
    "df['Delta_a']=yerr_values_fk\n",
    "df = df_lr\n",
    "df['L']=df['width']*DS\n",
    "df['A']=df['L']**2\n",
    "df['Delta_amax'] = np.abs(df['amax'] -df['amax_again'])\n",
    "x_values_lr = df['A'].values\n",
    "# y_values_lr = df['amax'].values \n",
    "y_values_lr = df['amax'].values  - 2*df['D'].values\n",
    "yerr_values_lr = df['Delta_amax'].values + 2*df['Delta_D'].values\n",
    "df['a']=y_values_lr\n",
    "df['Delta_a']=yerr_values_lr\n",
    "figsize=(4,4)\n",
    "#scatter plot amax versus A\n",
    "fig,ax=plt.subplots(figsize=figsize)\n",
    "fontsize=16\n",
    "alpha=0.9\n",
    "# #plot line plot traces\n",
    "ax.scatter(x_values_fk,y_values_fk,color='C0',alpha=alpha,label='Fenton-Karma',s=10)\n",
    "ax.scatter(x_values_lr,y_values_lr,color='C1',alpha=alpha,label='Luo-Rudy',s=10)\n",
    "#format_plot\n",
    "format_plot(ax=ax,xlabel=r'$A$ (cm$^2$)',ylabel=r'$a$ (cm$^2$/s)',fontsize=fontsize)\n",
    "# format_plot(ax=ax,xlabel=r'$A$ (cm$^2$)',ylabel=r'$a+2D$ (cm$^2$/s)',fontsize=fontsize)\n",
    "ax.set_ylim((0,16))\n",
    "ax.tick_params(top=True, right=True,direction='in',which='both')\n",
    "ax.legend(fontsize=fontsize-2,frameon=False,loc='upper left')\n",
    "# ax.legend(fontsize=fontsize-2,frameon=True)\n",
    "plt.show()\n",
    "#print the max percent change in a for increasing A\n",
    "a_hi = df_fk.loc[df_fk['A']==df_fk['A'].max()]['a'].values[0]\n",
    "a_lo = df_fk.loc[df_fk['A']==df_fk['A'].min()]['a'].values[0]\n",
    "percent_change_amax = 1.*(a_hi - a_lo)/a_lo\n",
    "# percent_change_amax = 1.*(df_fk['amax'].max() - df_fk['amax'].min())/df_fk['amax'].min()\n",
    "percent_change_A = 1.*(df_fk['A'].max() - df_fk['A'].min())/df_fk['A'].min()\n",
    "# percent_change_A = 1.*(df_fk['A'].max() - 25)/df_fk['A'].min()\n",
    "print(f\"For the FK model, increasing $A$ by {percent_change_A:.7%} increased $a$ by {percent_change_amax:.7%}.\")\n",
    "print(f\"For the FK model, increasing $A$ by {percent_change_A:.0%} increased $a$ by {percent_change_amax:.0%}.\")\n",
    "\n",
    "#print the max percent change in a for increasing A\n",
    "a_hi = df_lr.loc[df_lr['A']==df_lr['A'].max()]['a'].values[0]\n",
    "a_lo = df_lr.loc[df_lr['A']==df_lr['A'].min()]['a'].values[0]\n",
    "percent_change_amax = 1.*(a_hi - a_lo)/a_lo\n",
    "# percent_change_amax = 1.*(df_lr['amax'].max() - df_lr['amax'].min())/df_lr['amax'].min()\n",
    "percent_change_A = 1.*(df_lr['A'].max() - df_lr['A'].min())/df_lr['A'].min()\n",
    "# print(f\"For LR model, increasing $A$ by {percent_change_A:.7%} increased $a$ by {percent_change_amax:.7%}.\")\n",
    "print(f\"For the LR model, increasing $A$ by {percent_change_A:.7%} increased $a$ by {percent_change_amax:.7%}.\")\n",
    "print(f\"For the LR model, increasing $A$ by {percent_change_A:.0%} increased $a$ by {percent_change_amax:.0%}.\")"
   ]
  },
  {
   "cell_type": "code",
   "execution_count": null,
   "id": "5e379dcb",
   "metadata": {},
   "outputs": [],
   "source": []
  },
  {
   "cell_type": "code",
   "execution_count": 39,
   "id": "048b1902",
   "metadata": {
    "ExecuteTime": {
     "end_time": "2023-01-17T02:08:17.518483Z",
     "start_time": "2023-01-17T02:08:17.394577Z"
    }
   },
   "outputs": [
    {
     "data": {
      "image/png": "[encoded data removed]",
      "text/plain": [
       "<Figure size 400x400 with 1 Axes>"
      ]
     },
     "metadata": {},
     "output_type": "display_data"
    }
   ],
   "source": [
    "figsize=(4,4)\n",
    "#scatter plot amax versus A\n",
    "fig,ax=plt.subplots(figsize=figsize)\n",
    "fontsize=16\n",
    "alpha=1.\n",
    "# #plot line plot traces\n",
    "ax.scatter(x_values_fk,y_values_fk,color='C0',alpha=alpha,s=10)\n",
    "ax.scatter(x_values_lr,y_values_lr,color='C1',alpha=alpha,s=10)\n",
    "ax.plot(x_values_fk,y_values_fk,color='C0',alpha=alpha,label='Fenton-Karma',lw=2)\n",
    "ax.plot(x_values_lr,y_values_lr,color='C1',alpha=alpha,label='Luo-Rudy',lw=2)\n",
    "ax.errorbar(x_values_fk,y_values_fk,yerr_values_fk,color='C0',alpha=alpha,lw=1)#,label='Fenton-Karma')\n",
    "ax.errorbar(x_values_lr,y_values_lr,yerr_values_lr,color='C1',alpha=alpha,lw=1)#,label='Luo-Rudy')\n",
    "#format_plot\n",
    "format_plot(ax=ax,xlabel=r'$A$ (cm$^2$)',ylabel=r'$a$ (cm$^2$/s)',fontsize=fontsize)\n",
    "# format_plot(ax=ax,xlabel=r'$A$ (cm$^2$)',ylabel=r'$a+2D$ (cm$^2$/s)',fontsize=fontsize)\n",
    "ax.set_ylim((0,16))\n",
    "ax.tick_params(top=True, right=True,direction='in',which='both')\n",
    "ax.legend(fontsize=fontsize-2,frameon=False,loc='upper left')\n",
    "# ax.legend(fontsize=fontsize-2,frameon=True)\n",
    "plt.show()"
   ]
  },
  {
   "cell_type": "code",
   "execution_count": 40,
   "id": "43b58056",
   "metadata": {
    "ExecuteTime": {
     "end_time": "2023-01-17T02:10:27.349610Z",
     "start_time": "2023-01-17T02:10:27.332122Z"
    }
   },
   "outputs": [],
   "source": [
    "#compute scatter plot xy values\n",
    "df = df_fk\n",
    "x_values_fk = df['A'].values\n",
    "y_values_fk = df['amax'].values \n",
    "yerr_values_fk = df['Delta_amax'].values\n",
    "df = df_lr\n",
    "x_values_lr = df['A'].values\n",
    "y_values_lr = df['amax'].values \n",
    "yerr_values_lr = df['Delta_amax'].values"
   ]
  },
  {
   "cell_type": "code",
   "execution_count": 41,
   "id": "a8094f2b",
   "metadata": {
    "ExecuteTime": {
     "end_time": "2023-01-17T02:10:37.768872Z",
     "start_time": "2023-01-17T02:10:37.621384Z"
    }
   },
   "outputs": [
    {
     "data": {
      "image/png": "[encoded data removed]",
      "text/plain": [
       "<Figure size 400x400 with 1 Axes>"
      ]
     },
     "metadata": {},
     "output_type": "display_data"
    }
   ],
   "source": [
    "figsize=(4,4)\n",
    "#scatter plot amax versus A\n",
    "fig,ax=plt.subplots(figsize=figsize)\n",
    "fontsize=16\n",
    "alpha=1.\n",
    "# #plot line plot traces\n",
    "ax.scatter(x_values_fk,y_values_fk,color='C0',alpha=alpha,s=10)\n",
    "ax.scatter(x_values_lr,y_values_lr,color='C1',alpha=alpha,s=10)\n",
    "ax.plot(x_values_fk,y_values_fk,color='C0',alpha=alpha,label='Fenton-Karma',lw=2)\n",
    "ax.plot(x_values_lr,y_values_lr,color='C1',alpha=alpha,label='Luo-Rudy',lw=2)\n",
    "ax.errorbar(x_values_fk,y_values_fk,yerr_values_fk,color='C0',alpha=alpha,lw=1)#,label='Fenton-Karma')\n",
    "ax.errorbar(x_values_lr,y_values_lr,yerr_values_lr,color='C1',alpha=alpha,lw=1)#,label='Luo-Rudy')\n",
    "#format_plot\n",
    "# format_plot(ax=ax,xlabel=r'$A$ (cm$^2$)',ylabel=r'$a$ (cm$^2$/s)',fontsize=fontsize)\n",
    "format_plot(ax=ax,xlabel=r'$A$ (cm$^2$)',ylabel=r'$a+2D$ (cm$^2$/s)',fontsize=fontsize)\n",
    "ax.set_ylim((0,16))\n",
    "ax.tick_params(top=True, right=True,direction='in',which='both')\n",
    "ax.legend(fontsize=fontsize-2,frameon=False,loc='upper left')\n",
    "# ax.legend(fontsize=fontsize-2,frameon=True)\n",
    "plt.show()"
   ]
  },
  {
   "cell_type": "code",
   "execution_count": null,
   "id": "63431286",
   "metadata": {},
   "outputs": [],
   "source": []
  },
  {
   "cell_type": "markdown",
   "id": "d3cd0d3d",
   "metadata": {},
   "source": [
    "# estimate diffusion coefficients at a given domain size, as before"
   ]
  },
  {
   "cell_type": "code",
   "execution_count": 192,
   "id": "268dafda",
   "metadata": {
    "ExecuteTime": {
     "end_time": "2022-12-28T22:36:07.984976Z",
     "start_time": "2022-12-28T22:36:07.938436Z"
    }
   },
   "outputs": [],
   "source": [
    "#############################################\n",
    "# Luo-Rudy MSR for variable A\n",
    "#############################################\n",
    "msr_dir = f\"{nb_dir}/Data/from_wjr/positions_lr/200x200/tippos_per_001_annihilation_msr.csv\"\n",
    "# msr_dir = f\"{nb_dir}/Data/from_wjr/positions_lr/250x250/tippos_per_c_001_annihilation_msr.csv\"\n",
    "# msr_dir = f\"{nb_dir}/Data/from_wjr/positions_lr/300x300/tippos_per_c_001_annihilation_msr.csv\"\n",
    "# msr_dir = f\"{nb_dir}/Data/from_wjr/positions_lr/350x350/tippos_per_c_001_annihilation_msr.csv\"\n",
    "# msr_dir = f\"{nb_dir}/Data/from_wjr/positions_lr/400x400/tippos_per_c_001_annihilation_msr.csv\"\n"
   ]
  },
  {
   "cell_type": "code",
   "execution_count": 32,
   "id": "8ab79240",
   "metadata": {
    "ExecuteTime": {
     "end_time": "2023-01-17T01:50:34.925423Z",
     "start_time": "2023-01-17T01:50:34.905551Z"
    }
   },
   "outputs": [],
   "source": [
    "#######################)######################\n",
    "# Fenton-Karma MSR for variable A\n",
    "#############################################\n",
    "# msr_dir = f\"{nb_dir}/Data/from_wjr/positions_fk/200x200/tippos_per_c_001_creation_msr.csv\"\n",
    "# msr_dir = f\"{nb_dir}/Data/from_wjr/positions_fk/150x150/tippos_per_c_001_annihilation_msr.csv\"\n",
    "msr_dir = f\"{nb_dir}/Data/from_wjr/positions_fk/200x200/tippos_per_c_001_annihilation_msr.csv\"\n",
    "# msr_dir = f\"{nb_dir}/Data/from_wjr/positions_fk/250x250/tippos_per_001_annihilation_msr.csv\"\n",
    "\n",
    "\n",
    "msr_dir = f\"{nb_dir}/Data/from_wjr/positions_fk/283x283/tippos_per_1_annihilation_msr.csv\"\n",
    "# msr_dir = f\"{nb_dir}/Data/from_wjr/positions_fk/350x350/tippos_per_102_annihilation_msr.csv\"\n",
    "#TODO: measure D for ^these msr_dir_fk values\n",
    "#TODO: estimate a+2D and a for ^these msr_dir_fk values\n",
    "#HINT: i think i already have a+2D available.  maybe i compute it again in this .ipynb...\n"
   ]
  },
  {
   "cell_type": "code",
   "execution_count": 33,
   "id": "c743ead2",
   "metadata": {
    "ExecuteTime": {
     "end_time": "2023-01-17T01:50:35.434830Z",
     "start_time": "2023-01-17T01:50:35.405475Z"
    }
   },
   "outputs": [
    {
     "data": {
      "text/plain": [
       "50.055625000000006"
      ]
     },
     "execution_count": 33,
     "metadata": {},
     "output_type": "execute_result"
    }
   ],
   "source": [
    "283*283*DS*DS"
   ]
  },
  {
   "cell_type": "code",
   "execution_count": 35,
   "id": "5a5840df",
   "metadata": {
    "ExecuteTime": {
     "end_time": "2023-01-17T01:51:06.941142Z",
     "start_time": "2023-01-17T01:51:06.727435Z"
    }
   },
   "outputs": [
    {
     "name": "stdout",
     "output_type": "stream",
     "text": [
      "283,0.1699978601290549,0.016751440381045642,600.0,1500.0\n"
     ]
    },
    {
     "data": {
      "image/png": "[encoded data removed]",
      "text/plain": [
       "<Figure size 800x420 with 1 Axes>"
      ]
     },
     "metadata": {},
     "output_type": "display_data"
    }
   ],
   "source": [
    "min_tdeath=600. #ms  #FK \n",
    "# min_tdeath=100. #ms  #LR\n",
    "max_tdeath=1500. #ms  #FK \n",
    "\n",
    "# min_tdeath=300. #ms  #FK \n",
    "# max_tdeath=1000. #ms  #FK \n",
    "\n",
    "printing=True\n",
    "c='C0'\n",
    "# c='C1'\n",
    "xlim = [0,2000]\n",
    "assert os.path.exists(msr_dir)\n",
    "df_bootstrap=pd.read_csv(msr_dir)\n",
    "width = eval(msr_dir.split('/')[-2].split('x')[0])\n",
    "x_values=df_bootstrap['tdeath_avg'].values\n",
    "y_values=df_bootstrap['MSR'].values\n",
    "yerr_values=df_bootstrap['Delta_MSR'].values\n",
    "x_values.shape,y_values.shape,yerr_values.shape\n",
    "# select msr from the full models for fitting\n",
    "boo=x_values>=min_tdeath\n",
    "boo&=x_values<max_tdeath\n",
    "t_values=x_values[boo].copy()*1e-3\n",
    "msr_values=y_values[boo].copy() \n",
    "# msr_values-= np.min(msr_values)\n",
    "dict_output = compute_95CI_ols(x=t_values,y=msr_values)\n",
    "D = dict_output['m']/8\n",
    "Delta_D = dict_output['Delta_m']/8\n",
    "if printing:\n",
    "    #print(f\"D = slope/8 = {D:.4f} +/- {Delta_D:.4f} (using timepoints from {min_tdeath}-{max_tdeath} ms)\")\n",
    "    #print_dict(dict_output)\n",
    "    #print(f\"width,D,Delta_D,min_tdeath,max_tdeath\")\n",
    "    print(f\"{width},{D},{Delta_D},{min_tdeath},{max_tdeath}\")\n",
    "#plot expected\n",
    "fig,ax=plt.subplots(figsize=(8,4.2))\n",
    "#plot data\n",
    "ax.plot(x_values,y_values,lw=2,alpha=0.8,c=c)\n",
    "ax.fill_between(x_values,y_values-yerr_values,y_values+yerr_values,lw=2,alpha=0.4,color=c)\n",
    "#plot linear fit\n",
    "xv = np.arange(xlim[0],xlim[1],1)\n",
    "yv = 1e-3*dict_output['m']*xv + dict_output['b']\n",
    "ax.plot(xv,yv,'k--',lw=2,alpha=0.8)\n",
    "#mark the start/end points\n",
    "miny = 1e-3*dict_output['m']*min_tdeath + dict_output['b']\n",
    "maxy = 1e-3*dict_output['m']*max_tdeath + dict_output['b']\n",
    "ax.scatter([min_tdeath,max_tdeath],[miny,maxy],marker='.',color='k',s=100)\n",
    "#format plot\n",
    "format_plot(ax=ax,xlabel=r'$t_f-t$ (ms)',ylabel=r'MSR (cm$^2$)',fontsize=14)\n",
    "ax.set_xlim(xlim)\n",
    "# ax.set_ylim([0,8])\n",
    "ax.set_ylim([0,15])\n",
    "# ax.set_ylim([0,30])\n",
    "plt.show()"
   ]
  },
  {
   "cell_type": "markdown",
   "id": "b50f1c42",
   "metadata": {},
   "source": [
    "Hi Wouter,\n",
    "\n",
    "I reran the a vs. A analysis— this time with $D$ measured independently for each $A$.\n",
    "I didn't do this before because I got $D<0$ for the FK model on the 150x150 domain.\n",
    "The result of allowing D=D(A) resulted in $a$ decreasing with $A$, which better supports the key claim of our paper.\n",
    "\n",
    "Best,\n",
    "Tim"
   ]
  },
  {
   "cell_type": "markdown",
   "id": "b1958657",
   "metadata": {},
   "source": [
    "Diffcoeff estimates for LR:\n",
    "```\n",
    "width,D,Delta_D,min_tdeath,max_tdeath \n",
    "200,0.41579792802708637,0.1383129275716018,100.0,1500.0\n",
    "250,0.884142229988156,0.08591228213410576,100.0,1500.0\n",
    "300,1.7371134990867834,0.21835134626786248,150.0,400.0\n",
    "350,2.152934418246597,0.24985450606055637,100.0,1500.0\n",
    "400,2.2409580980757418,0.13694044386234994,100.0,1500.0\n",
    "```\n",
    "\n",
    "Diffcoeff estimates for FK:\n",
    "```\n",
    "width,D,Delta_D,min_tdeath,max_tdeath \n",
    "150,-0.06313856048623989,0.015406066199523744,600.0,1500.0\n",
    "200,0.11449546281753001,0.007987364738330576,600.0,1500.0\n",
    "250,0.20307175047033585,0.008569188343031837,600.0,1500.0\n",
    "```"
   ]
  },
  {
   "cell_type": "code",
   "execution_count": 155,
   "id": "a652005f",
   "metadata": {
    "ExecuteTime": {
     "end_time": "2022-12-28T22:02:53.536001Z",
     "start_time": "2022-12-28T22:02:53.485482Z"
    }
   },
   "outputs": [],
   "source": [
    "#DONE: find any previous '_bootstrapped_termination_times.csv' estimates that were generated in \"Generation of figure 4.ipynb\"\n",
    "#DONE: find all the data files in macintosh filesystem\n",
    "#DONE: find/copy previous D estimation procedure\n",
    "#DONE: compute D as before\n",
    "#DONE: check D corresponds to a known value reasonably well\n",
    "#DONE: compute D for each domain size. record."
   ]
  },
  {
   "cell_type": "markdown",
   "id": "57715cc0",
   "metadata": {},
   "source": [
    "# plot Fig. 2A but for a different value of $A$"
   ]
  },
  {
   "cell_type": "code",
   "execution_count": 18,
   "id": "d95c8b0c",
   "metadata": {
    "ExecuteTime": {
     "end_time": "2023-01-17T01:46:14.321728Z",
     "start_time": "2023-01-17T01:46:14.302190Z"
    }
   },
   "outputs": [],
   "source": [
    "# msr_dir_fk = f\"{nb_dir}/Data/from_wjr/positions_fk/283x283/tippos_per_1_annihilation_msr.csv\"\n",
    "# msr_dir_fk = f\"{nb_dir}/Data/from_wjr/positions_fk/350x350/tippos_per_102_annihilation_msr.csv\"\n",
    "\n",
    "# msr_dir_fk = '/home/timothytyree/Documents/GitHub/bgmc/python/data/full_results/fk_positions_283x283__boostrapped_tavg2_14.0_n_150000_a_1.4_tmax_300.csv'\n",
    "msr_dir_fk = f\"{nb_dir}/Data/from_wjr/positions_fk/250x250/tippos_per_001_annihilation_msr.csv\"\n",
    "msr_dir_lr = f\"{nb_dir}/Data/from_wjr/positions_lr/250x250/tippos_per_c_001_annihilation_msr.csv\"\n",
    "\n",
    "# msr_dir_fk = f\"{nb_dir}/Data/from_wjr/positions_fk/200x200/tippos_per_c_001_annihilation_msr.csv\"\n",
    "# msr_dir_lr = f\"{nb_dir}/Data/from_wjr/positions_lr/200x200/tippos_per_001_annihilation_msr.csv\"\n",
    "\n",
    "df_msr_fk=pd.read_csv(msr_dir_fk)\n",
    "df_msr_lr=pd.read_csv(msr_dir_lr)"
   ]
  },
  {
   "cell_type": "code",
   "execution_count": 19,
   "id": "13a16b49",
   "metadata": {
    "ExecuteTime": {
     "end_time": "2023-01-17T01:46:15.233367Z",
     "start_time": "2023-01-17T01:46:15.214952Z"
    }
   },
   "outputs": [
    {
     "name": "stdout",
     "output_type": "stream",
     "text": [
      "mean percent uncertainty in MSR for the full models:\n",
      "mpu_fk=1.3217%\n",
      "mpu_lr=4.3277%\n"
     ]
    }
   ],
   "source": [
    "mpu_fk = 100.*np.mean((yerr_values_fk/y_values_fk)[x_values_fk<300])\n",
    "mpu_lr = 100.*np.mean((yerr_values_lr/y_values_lr)[x_values_lr<100])\n",
    "print(f\"mean percent uncertainty in MSR for the full models:\")\n",
    "print(f\"{mpu_fk=:.4f}%\")\n",
    "print(f\"{mpu_lr=:.4f}%\")"
   ]
  },
  {
   "cell_type": "code",
   "execution_count": 20,
   "id": "a5a4b7b0",
   "metadata": {
    "ExecuteTime": {
     "end_time": "2023-01-17T01:46:16.830959Z",
     "start_time": "2023-01-17T01:46:16.810987Z"
    }
   },
   "outputs": [],
   "source": [
    "tscale=1e-3\n",
    "df_msr_fk['tprime']=df_msr_fk['tdeath_avg']*tscale\n",
    "df_msr_lr['tprime']=df_msr_lr['tdeath_avg']*tscale"
   ]
  },
  {
   "cell_type": "code",
   "execution_count": 21,
   "id": "54ae841e",
   "metadata": {
    "ExecuteTime": {
     "end_time": "2023-01-17T01:46:17.912372Z",
     "start_time": "2023-01-17T01:46:17.894923Z"
    }
   },
   "outputs": [],
   "source": [
    "#extract xy values from full\n",
    "x_values_fk=df_msr_fk['tdeath_avg'].values\n",
    "y_values_fk=df_msr_fk['MSR'].values\n",
    "yerr_values_fk=df_msr_fk['Delta_MSR'].values\n",
    "x_values_lr=df_msr_lr['tdeath_avg'].values\n",
    "y_values_lr=df_msr_lr['MSR'].values\n",
    "yerr_values_lr=df_msr_lr['Delta_MSR'].values\n",
    "\n",
    "# xmax=\n",
    "# x_values_fk <=xmax\n"
   ]
  },
  {
   "cell_type": "code",
   "execution_count": 22,
   "id": "f3acf2dc",
   "metadata": {
    "ExecuteTime": {
     "end_time": "2023-01-17T01:46:18.629671Z",
     "start_time": "2023-01-17T01:46:18.611495Z"
    }
   },
   "outputs": [],
   "source": [
    "# x_values_fk"
   ]
  },
  {
   "cell_type": "code",
   "execution_count": 248,
   "id": "c427de1b",
   "metadata": {
    "ExecuteTime": {
     "end_time": "2022-12-28T23:55:29.849547Z",
     "start_time": "2022-12-28T23:55:29.803306Z"
    }
   },
   "outputs": [],
   "source": [
    "# input: x_values_fk,y_values_fk,yerr_values_fk\n",
    "# input: x_values_lr,y_values_lr,yerr_values_lr\n",
    "# # xlr,ylr,yerrlr"
   ]
  },
  {
   "cell_type": "code",
   "execution_count": 23,
   "id": "19e55c18",
   "metadata": {
    "ExecuteTime": {
     "end_time": "2023-01-17T01:46:26.680789Z",
     "start_time": "2023-01-17T01:46:26.584309Z"
    }
   },
   "outputs": [
    {
     "name": "stdout",
     "output_type": "stream",
     "text": [
      "approximate time window: 0.13 seconds\n"
     ]
    },
    {
     "data": {
      "image/png": "[encoded data removed]",
      "text/plain": [
       "<Figure size 300x200 with 1 Axes>"
      ]
     },
     "metadata": {},
     "output_type": "display_data"
    }
   ],
   "source": [
    "#DONE: increase the apparent bin size for LR at large time scales\n",
    "#HINT: using moving average is valid!\n",
    "# tmaxlr=0.42 #sec\n",
    "tmaxlr=0.92 #sec\n",
    "miny_lr = np.min(y_values_lr)\n",
    "boo_lr=x_values_lr*tscale<tmaxlr\n",
    "xlr = x_values_lr[boo_lr]*tscale\n",
    "ylr = y_values_lr[boo_lr]-miny_lr\n",
    "yerrlr = yerr_values_lr[boo_lr].copy()\n",
    "\n",
    "#moving time average where t > tminlr_avg \n",
    "tminlr_avg=0.2 #sec\n",
    "navg=25\n",
    "# navg=1\n",
    "boo = xlr>tminlr_avg\n",
    "xlr = np.concatenate([xlr[~boo],moving_average(xlr[boo],navg)])\n",
    "ylr = np.concatenate([ylr[~boo],moving_average(ylr[boo],navg)])\n",
    "yerrlr = np.concatenate([yerrlr[~boo],moving_average(yerrlr[boo],navg)])\n",
    "#filter by max time\n",
    "tmaxlr=0.42 #sec\n",
    "boo_lr=xlr<tmaxlr\n",
    "xlr = xlr[boo_lr].copy()\n",
    "ylr = ylr[boo_lr].copy()\n",
    "yerrlr = yerrlr[boo_lr].copy()\n",
    "print(f\"approximate time window: {navg*(0.00692723-0.00186675):.2f} seconds\")\n",
    "#DONT: add the variances?\n",
    "#DONE: or better, average the variances. \n",
    "\n",
    "fig,ax=plt.subplots(figsize=(3,2))\n",
    "ax.plot(xlr,ylr,lw=2,alpha=0.8,c='C1')\n",
    "ax.fill_between(xlr,ylr-yerrlr,ylr+yerrlr,lw=1,alpha=alpha,color='C1')\n",
    "format_plot(ax=ax,xlabel=r\"$t'\\equiv t_f-t$ (s)\",ylabel=r'MSR (cm$^2$)',fontsize=10)\n",
    "plt.xlim([0,1.3])\n",
    "plt.ylim([0,7])\n",
    "plt.show()"
   ]
  },
  {
   "cell_type": "code",
   "execution_count": 24,
   "id": "ee91585e",
   "metadata": {
    "ExecuteTime": {
     "end_time": "2023-01-17T01:46:38.493412Z",
     "start_time": "2023-01-17T01:46:38.374736Z"
    }
   },
   "outputs": [
    {
     "data": {
      "image/png": "[encoded data removed]",
      "text/plain": [
       "<Figure size 400x400 with 1 Axes>"
      ]
     },
     "metadata": {},
     "output_type": "display_data"
    }
   ],
   "source": [
    "#plot MSR_Osc over the direct simulation results\n",
    "lw=2\n",
    "alpha=0.4\n",
    "fontsize=16\n",
    "# fontsize=18\n",
    "# # # figsize=(8,4.2)\n",
    "# # figsize=(4,4.2)\n",
    "# # figsize=(6,4)\n",
    "# figsize=(6.1,4)\n",
    "figsize=(4,4)\n",
    "# fontsize=15\n",
    "### plot expected\n",
    "# fontsize=20\n",
    "tscale=1e-3\n",
    "\n",
    "fig,ax=plt.subplots(figsize=figsize)\n",
    "\n",
    "# #plot simulated annealing fits of oscillatory particle model\n",
    "# phi_f = dict_osc_fit_fk['phase']\n",
    "# omega = dict_osc_fit_fk['omega']*1e3\n",
    "# a = dict_osc_fit_fk['a1']\n",
    "# D = dict_osc_fit_fk['a0']/2\n",
    "# # t_values=np.linspace(0,1,1000)\n",
    "# t_values=np.linspace(0,1.1,1000)\n",
    "# # MSR_values_oscillatory=4*(a*t_values+(2*D/omega)*(np.sin(omega*t_values+phi_f))+constant\n",
    "# MSR_values_oscillatory=4*(2*D*t_values+(a/omega)*(np.sin(omega*t_values+phi_f)-np.sin(phi_f)))\n",
    "# # MSR_values_oscillatory_fk = MSR_values_oscillatory.copy()\n",
    "# ax.plot(t_values,MSR_values_oscillatory,c='k',#'C2',\n",
    "#                 label=r'Osc. Particle Fit to FK')\n",
    "# #plot simulated annealing fits of oscillatory particle model\n",
    "# phi_f = dict_osc_fit_lr['phase']\n",
    "# omega = dict_osc_fit_lr['omega']*1e3\n",
    "# a = dict_osc_fit_lr['a1']\n",
    "# D = dict_osc_fit_lr['a0']/2\n",
    "# t_values=np.linspace(0,1,1000)\n",
    "# # MSR_values_oscillatory=4*(a*t_values+(2*D/omega)*(np.sin(omega*t_values+phi_f))+constant\n",
    "# MSR_values_oscillatory=4*(2*D*t_values+(a/omega)*(np.sin(omega*t_values+phi_f)-np.sin(phi_f)))\n",
    "# # MSR_values_oscillatory_lr = MSR_values_oscillatory.copy()\n",
    "# ax.plot(t_values,MSR_values_oscillatory,c='C3',\n",
    "#                 label=r'Osc. Particle Fit to LR')\n",
    "# #                 label=r'$MSR_{Osc.}(a=a_{FK},\\phi_f=-\\frac{\\pi}{2})$')\n",
    "\n",
    "# #plot the linear particle model\n",
    "# ax.plot(t_values,4*amax_fk*t_values,c='k',linestyle='dashed')\n",
    "# ax.plot(t_values,4*amax_lr*t_values,c='C3',linestyle='dashed')\n",
    "# # ax.plot(t_values,4*amax_fk*t_values,c='C0',linestyle='dashed')\n",
    "# # ax.plot(t_values,4*amax_lr*t_values,c='C1',linestyle='dashed')\n",
    "\n",
    "# # #plot the direct simulation of the oscillatory particle model under these same parameter settings\n",
    "# # stepsize=2500\n",
    "# # plt.scatter(dict_fit_fk['tdeath'][::stepsize],dict_fit_fk['MSR'][::stepsize],lw=2,alpha=.7,c='k',#'C2',\n",
    "# #             marker='x')#,label='Simulation of Osc. (FK)')\n",
    "# # stepsize=1000\n",
    "# # plt.scatter(dict_fit_lr['tdeath'][::stepsize],dict_fit_lr['MSR'][::stepsize],lw=2,alpha=.7,c='C3',\n",
    "# #             marker='x')#,label='Simulation of Osc. (LR)')\n",
    "\n",
    "# # #plot msd data from full (works worse)\n",
    "# # ax.plot(x_values_fk*tscale,y_values_fk,lw=2,alpha=0.8,c='C0')\n",
    "# # ax.fill_between(x_values_fk*tscale,y_values_fk-yerr_values_fk,y_values_fk+yerr_values_fk,lw=lw,alpha=alpha,color='C0')\n",
    "# # ax.plot(x_values_lr*tscale,y_values_lr,lw=2,alpha=0.8,c='C1')\n",
    "# # ax.fill_between(x_values_lr*tscale,y_values_lr-yerr_values_lr,y_values_lr+yerr_values_lr,lw=lw,alpha=alpha,color='C1')\n",
    "\n",
    "#plot msd data from full with minimum subtracted (works better)\n",
    "miny = np.min(y_values_fk)\n",
    "ax.plot(x_values_fk*tscale,y_values_fk-miny,lw=2,alpha=0.8,c='C0',label='Fenton-Karma')\n",
    "ax.fill_between(x_values_fk*tscale,y_values_fk-yerr_values_fk-miny,y_values_fk+yerr_values_fk-miny,lw=lw,alpha=alpha,color='C0')\n",
    "\n",
    "ax.plot(xlr,ylr,lw=2,alpha=0.8,c='C1',label='Luo-Rudy')\n",
    "ax.fill_between(xlr,ylr-yerrlr,ylr+yerrlr,lw=lw,alpha=alpha,color='C1')\n",
    "# miny_lr = np.min(y_values_lr)\n",
    "# tmaxlr=0.42 #sec\n",
    "# boo_lr=x_values_lr*tscale<tmaxlr\n",
    "# ax.plot(x_values_lr[boo_lr]*tscale,y_values_lr[boo_lr]-miny_lr,lw=2,alpha=0.8,c='C1')\n",
    "# ax.fill_between(x_values_lr[boo_lr]*tscale,y_values_lr[boo_lr]-yerr_values_lr[boo_lr]-miny_lr,\n",
    "#                 y_values_lr[boo_lr]+yerr_values_lr[boo_lr]-miny_lr,lw=lw,alpha=alpha,color='C1')\n",
    "# # ax.plot(x_values_lr*tscale,y_values_lr-miny_lr,lw=2,alpha=0.8,c='C1')\n",
    "# # ax.fill_between(x_values_lr*tscale,y_values_lr-yerr_values_lr-miny_lr,y_values_lr+yerr_values_lr-miny_lr,lw=lw,alpha=alpha,color='C1')\n",
    "\n",
    "#format_plot\n",
    "# format_plot(ax=ax,xlabel=r'$t_f-t$ (seconds)',ylabel=r'MSR (cm$^2$)',fontsize=fontsize)\n",
    "format_plot(ax=ax,xlabel=r\"$t'\\equiv t_f-t$ (s)\",ylabel=r'MSR (cm$^2$)',fontsize=fontsize)\n",
    "\n",
    "# plt.xlim([0,1])\n",
    "# plt.xlim([0,1.1])\n",
    "plt.xlim([0,1.3])\n",
    "plt.xlim([0,1.7])\n",
    "# plt.xlim([0,2])\n",
    "# plt.ylim([0,4.6])\n",
    "# plt.ylim([0,6])\n",
    "# plt.ylim([0,7])\n",
    "plt.ylim([0,8])\n",
    "\n",
    "ax.tick_params(bottom=True,left=True,top=True, right=True,direction='in',which='both')\n",
    "ax.legend(fontsize=fontsize-2,frameon=False,loc='lower right')\n",
    "xticklabels = [str(x) for x in ax.get_xticks()]\n",
    "xticklabels[0] = '0'\n",
    "# xticklabels[3] = '0.6'\n",
    "ax.set_xticklabels(xticklabels)\n",
    "plt.show()"
   ]
  },
  {
   "cell_type": "code",
   "execution_count": 221,
   "id": "924a23f1",
   "metadata": {
    "ExecuteTime": {
     "end_time": "2022-12-28T23:46:59.695027Z",
     "start_time": "2022-12-28T23:46:59.558890Z"
    }
   },
   "outputs": [
    {
     "name": "stdout",
     "output_type": "stream",
     "text": [
      "A=39.0625 cm^2\n"
     ]
    },
    {
     "data": {
      "text/plain": [
       "6.25"
      ]
     },
     "execution_count": 221,
     "metadata": {},
     "output_type": "execute_result"
    }
   ],
   "source": [
    "width=250\n",
    "A = (DS*width)**2\n",
    "print(f\"{A=} cm^2\")\n",
    "DS*width"
   ]
  },
  {
   "cell_type": "code",
   "execution_count": 222,
   "id": "d91b7b71",
   "metadata": {
    "ExecuteTime": {
     "end_time": "2022-12-28T23:47:08.936793Z",
     "start_time": "2022-12-28T23:47:08.893587Z"
    }
   },
   "outputs": [
    {
     "data": {
      "text/plain": [
       "1.5625"
      ]
     },
     "execution_count": 222,
     "metadata": {},
     "output_type": "execute_result"
    }
   ],
   "source": [
    "A/25"
   ]
  },
  {
   "cell_type": "markdown",
   "id": "bd056838",
   "metadata": {},
   "source": [
    "# compute histogram of minimum lifetimes at a given domain size"
   ]
  },
  {
   "cell_type": "code",
   "execution_count": 292,
   "id": "239cf95b",
   "metadata": {
    "ExecuteTime": {
     "end_time": "2022-12-29T00:48:42.521552Z",
     "start_time": "2022-12-29T00:48:42.465619Z"
    }
   },
   "outputs": [],
   "source": [
    "range_data_dir_fk=f'{nb_dir}/Data/from_wjr/positions_fk/200x200/tippos_per_c_001_annihilation_range_timeseries.pkl'\n",
    "range_data_dir_lr=f'{nb_dir}/Data/from_wjr/positions_lr/200x200/tippos_per_001_annihilation_range_timeseries.pkl'\n",
    "# range_data_dir_fk=f'{nb_dir}/Data/from_wjr/positions_fk/250x250/tippos_per_001_annihilation_range_timeseries.pkl'\n",
    "# range_data_dir_lr=f'{nb_dir}/Data/from_wjr/positions_lr/250x250/tippos_per_c_001_annihilation_range_timeseries.pkl'\n",
    "assert os.path.exists(range_data_dir_fk)\n",
    "assert os.path.exists(range_data_dir_lr)"
   ]
  },
  {
   "cell_type": "code",
   "execution_count": null,
   "id": "9d6fd4bc",
   "metadata": {},
   "outputs": [],
   "source": []
  },
  {
   "cell_type": "code",
   "execution_count": 293,
   "id": "ec9d06d3",
   "metadata": {
    "ExecuteTime": {
     "end_time": "2022-12-29T00:48:44.240575Z",
     "start_time": "2022-12-29T00:48:43.165452Z"
    }
   },
   "outputs": [
    {
     "name": "stdout",
     "output_type": "stream",
     "text": [
      "loaded range timeseries from 80 termination events (FK)\n",
      "df_ranges_fk.shape=(3846532, 9)\n",
      "loaded range timeseries from 595 termination events (LR)\n",
      "df_ranges_lr.shape=(524869, 9)\n"
     ]
    }
   ],
   "source": [
    "#load apparent ranges\n",
    "data_lst=load_from_pickle(range_data_dir_fk)\n",
    "num_termination_events_fk = len(data_lst)\n",
    "print(f\"loaded range timeseries from {num_termination_events_fk} termination events (FK)\")\n",
    "df_ranges_fk=pd.concat(data_lst)\n",
    "del data_lst\n",
    "print(f\"{df_ranges_fk.shape=}\")\n",
    "#load apparent ranges\n",
    "data_lst=load_from_pickle(range_data_dir_lr)\n",
    "num_termination_events_lr = len(data_lst)\n",
    "print(f\"loaded range timeseries from {num_termination_events_lr} termination events (LR)\")\n",
    "df_ranges_lr=pd.concat(data_lst)\n",
    "del data_lst\n",
    "print(f\"{df_ranges_lr.shape=}\")"
   ]
  },
  {
   "cell_type": "code",
   "execution_count": 294,
   "id": "a053e426",
   "metadata": {
    "ExecuteTime": {
     "end_time": "2022-12-29T00:48:45.534517Z",
     "start_time": "2022-12-29T00:48:44.243716Z"
    }
   },
   "outputs": [
    {
     "name": "stdout",
     "output_type": "stream",
     "text": [
      " - FK: mean lifetime: 105.3196 +/- 1.6721 ms (N=36179, p_normal: 0.7748) from 80 termination events\n",
      " - LR: mean lifetime: 33.3659 +/- 0.7282 ms (N=15273, p_normal: 0.9471) from 595 termination events\n"
     ]
    }
   ],
   "source": [
    "#compute minlifetime_values\n",
    "minlifetime_values_fk = df_ranges_fk.groupby(by=['trial_num','annihilation_index'])['tdeath'].max().values\n",
    "meanx,Delta_meanx,num_obsx,p_normalx=comp_mean_bootstrap_uncertainty(minlifetime_values_fk)\n",
    "printing=True\n",
    "if printing:\n",
    "    print(f\" - FK: mean lifetime: {meanx:.4f} +/- {Delta_meanx:.4f} ms (N={num_obsx}, p_normal: {p_normalx:.4f}) from {num_termination_events_fk} termination events\")\n",
    "    \n",
    "minlifetime_values_lr = df_ranges_lr.groupby(by=['trial_num','annihilation_index'])['tdeath'].max().values\n",
    "meanx,Delta_meanx,num_obsx,p_normalx=comp_mean_bootstrap_uncertainty(minlifetime_values_lr)\n",
    "printing=True\n",
    "if printing:\n",
    "    print(f\" - LR: mean lifetime: {meanx:.4f} +/- {Delta_meanx:.4f} ms (N={num_obsx}, p_normal: {p_normalx:.4f}) from {num_termination_events_lr} termination events\")\n",
    "    "
   ]
  },
  {
   "cell_type": "code",
   "execution_count": 295,
   "id": "048668b8",
   "metadata": {
    "ExecuteTime": {
     "end_time": "2022-12-29T00:48:47.465411Z",
     "start_time": "2022-12-29T00:48:45.536172Z"
    }
   },
   "outputs": [
    {
     "name": "stdout",
     "output_type": "stream",
     "text": [
      "time average first estimation of R_rms is much smaller than the converse:\n",
      "Fenton-Karma:\n",
      "- mean squared range: 0.4435 +/- 0.0065 cm^2 (N=36179, p_normal: 0.8722)\n",
      "- root mean squared range: 0.6659 +/- 0.0606 cm (N=36179, p_normal: 0.8722)\n",
      "Luo-Rudy:\n",
      "- mean squared range: 0.7396 +/- 0.0158 cm^2 (N=15273, p_normal: 0.9215)\n",
      "- root mean squared range: 0.8600 +/- 0.0730 cm (N=15273, p_normal: 0.9215)\n"
     ]
    }
   ],
   "source": [
    "df = df_ranges_fk.copy()\n",
    "df['SR']=df['R']**2\n",
    "print(f\"time average first estimation of R_rms is much smaller than the converse:\")\n",
    "meansqrange_values = df.groupby(by=['trial_num','annihilation_index'])['SR'].mean().values\n",
    "meanSR,Delta_meanSR,num_obsSR,p_normalSR=comp_mean_bootstrap_uncertainty(meansqrange_values)\n",
    "if printing:\n",
    "    print(f\"Fenton-Karma:\")\n",
    "    print(f\"- mean squared range: {meanSR:.4f} +/- {Delta_meanSR:.4f} cm^2 (N={num_obsSR}, p_normal: {p_normalSR:.4f})\")# from {num_termination_events} termination events\")\n",
    "    print(f\"- root mean squared range: {np.sqrt(meanSR):.4f} +/- {0.5*np.sqrt(Delta_meanSR)/np.sqrt(meanSR):.4f} cm (N={num_obsSR}, p_normal: {p_normalSR:.4f})\")# from {num_termination_events} termination events\")\n",
    "dict_SR_fk = dict(meanSR=meanSR,Delta_meanSR=Delta_meanSR,num_obsSR=num_obsSR,p_normalSR=p_normalSR)\n",
    "    \n",
    "df = df_ranges_lr.copy()\n",
    "df['SR']=df['R']**2\n",
    "meansqrange_values = df.groupby(by=['trial_num','annihilation_index'])['SR'].mean().values\n",
    "meanSR,Delta_meanSR,num_obsSR,p_normalSR=comp_mean_bootstrap_uncertainty(meansqrange_values)\n",
    "if printing:\n",
    "    print(f\"Luo-Rudy:\")\n",
    "    print(f\"- mean squared range: {meanSR:.4f} +/- {Delta_meanSR:.4f} cm^2 (N={num_obsSR}, p_normal: {p_normalSR:.4f})\")# from {num_termination_events} termination events\")\n",
    "    print(f\"- root mean squared range: {np.sqrt(meanSR):.4f} +/- {0.5*np.sqrt(Delta_meanSR)/np.sqrt(meanSR):.4f} cm (N={num_obsSR}, p_normal: {p_normalSR:.4f})\")# from {num_termination_events} termination events\")\n",
    "dict_SR_lr = dict(meanSR=meanSR,Delta_meanSR=Delta_meanSR,num_obsSR=num_obsSR,p_normalSR=p_normalSR)\n",
    "    "
   ]
  },
  {
   "cell_type": "code",
   "execution_count": 296,
   "id": "5fb4d752",
   "metadata": {
    "ExecuteTime": {
     "end_time": "2022-12-29T00:48:47.519117Z",
     "start_time": "2022-12-29T00:48:47.468098Z"
    }
   },
   "outputs": [],
   "source": [
    "# bins=np.linspace(10,2500,100)*DT\n",
    "# bins=np.logspace(-2,1,40)\n",
    "bins=np.logspace(-2,1,40)\n",
    "#DONE: compute the histograms\n",
    "barheights_fk,bins_fk = np.histogram(\n",
    "    minlifetime_values_fk*1e-3,\n",
    "    bins=bins,#10,\n",
    "    range=None,\n",
    "    normed=None,\n",
    "    weights=None,\n",
    "    density=True,\n",
    ")\n",
    "x_fk=0.5*(bins_fk[1:]+bins_fk[:-1])\n",
    "\n",
    "barheights_lr,bins_lr = np.histogram(\n",
    "    minlifetime_values_lr*1e-3,\n",
    "    bins=bins[bins<0.45],#10,\n",
    "    range=None,\n",
    "    normed=None,\n",
    "    weights=None,\n",
    "    density=True,\n",
    ")\n",
    "x_lr=0.5*(bins_lr[1:]+bins_lr[:-1])"
   ]
  },
  {
   "cell_type": "code",
   "execution_count": 297,
   "id": "c4e2ebc6",
   "metadata": {
    "ExecuteTime": {
     "end_time": "2022-12-29T00:48:48.059662Z",
     "start_time": "2022-12-29T00:48:47.521328Z"
    }
   },
   "outputs": [
    {
     "data": {
      "image/png": "[encoded data removed]",
      "text/plain": [
       "<Figure size 400x400 with 1 Axes>"
      ]
     },
     "metadata": {},
     "output_type": "display_data"
    }
   ],
   "source": [
    "#DONE: compute the minimum lifetimes of particles\n",
    "#TODO: plot the minimum lifetimes of particles\n",
    "lw=2\n",
    "alpha=0.9\n",
    "# fontsize=18\n",
    "fontsize=16\n",
    "# use_loglog=True\n",
    "use_loglog=False\n",
    "# figsize=(6,4)\n",
    "figsize=(4,4)\n",
    "#check if msd=0 at lagt=0\n",
    "fig,ax=plt.subplots(figsize=figsize)\n",
    "ax.plot(x_fk,barheights_fk,c='C0',lw=lw+1,alpha=alpha,label='Fenton-Karma')\n",
    "ax.scatter(x_fk,barheights_fk,c='C0',s=8,alpha=alpha/2,zorder=0)\n",
    "# boolr=barheights_lr>1e-5\n",
    "# ax.plot(x_lr[boolr],barheights_lr[boolr],c='C1',lw=lw,alpha=alpha,label='Luo-Rudy')\n",
    "# ax.scatter(x_lr[boolr],barheights_lr[boolr],c='C1',s=8,alpha=alpha/2,zorder=0)\n",
    "ax.plot(x_lr,barheights_lr,c='C1',lw=lw,alpha=alpha,label='Luo-Rudy')\n",
    "ax.scatter(x_lr,barheights_lr,c='C1',s=8,alpha=alpha/2,zorder=0)\n",
    "\n",
    "# xv1=np.linspace(0.01,0.5,10)\n",
    "# xv2=np.linspace(0.1,5,10)\n",
    "# ax.plot(xv1,dict_fit_lr['M']*xv1+0.,'k-',lw=2,alpha=0.7)\n",
    "# ax.plot(xv2,dict_fit_fk['M']*xv2+0.,'k-',lw=2,alpha=0.7)\n",
    "\n",
    "#format_plot\n",
    "ax.set_yscale('log')\n",
    "# ax.set_xlim([0,3.5])\n",
    "ax.set_xlim([0,2.7])\n",
    "ax.set_ylim((11*1.0178650359332904e-05, 80))\n",
    "format_plot(ax=ax,xlabel=r'Min. Lifetime (s)',ylabel=r'Probability',fontsize=fontsize,use_loglog=use_loglog)\n",
    "# format_plot(ax=ax,xlabel=r'$\\Gamma$ (s)',ylabel=r'PDF',fontsize=fontsize,use_loglog=use_loglog)\n",
    "ax.tick_params(top=True, right=True,direction='in',which='both')\n",
    "# ax.legend(fontsize=fontsize-2,frameon=False,loc='upper right')\n",
    "# ax.legend(fontsize=fontsize-2,frameon=False,loc='center right')\n",
    "ax.legend(fontsize=fontsize-2,frameon=False,loc=(0.3,0.65))\n",
    "#format_plot\n",
    "plt.show()"
   ]
  },
  {
   "cell_type": "code",
   "execution_count": null,
   "id": "f35c4080",
   "metadata": {},
   "outputs": [],
   "source": []
  },
  {
   "cell_type": "code",
   "execution_count": 277,
   "id": "f3afd807",
   "metadata": {
    "ExecuteTime": {
     "end_time": "2022-12-29T00:16:06.639555Z",
     "start_time": "2022-12-29T00:16:06.593610Z"
    }
   },
   "outputs": [
    {
     "name": "stdout",
     "output_type": "stream",
     "text": [
      "For the FK model, increasing $A$ by 56.25% decreased lifetime by -13.4012%.\n",
      "For the LR model, increasing $A$ by 56.25% decreased lifetime by 21.2747%.\n"
     ]
    }
   ],
   "source": [
    "#TODO(?): compute the effect of 200x200 --> 250x250 on gamma\n",
    "effect_on_gamma_fk = (91.2055 - 105.3196)/105.3196\n",
    "effect_on_gamma_lr = (40.4644 - 33.3659)/33.3659\n",
    "change_in_A = (39.0625 - 25)/25\n",
    "print(f\"For the FK model, increasing $A$ by {change_in_A:.2%} decreased lifetime by {effect_on_gamma_fk:.4%}.\")\n",
    "print(f\"For the LR model, increasing $A$ by {change_in_A:.2%} decreased lifetime by {effect_on_gamma_lr:.4%}.\")"
   ]
  },
  {
   "cell_type": "markdown",
   "id": "7748d401",
   "metadata": {},
   "source": [
    " - FK: mean lifetime: 105.3196 +/- 1.7241 ms (N=36179, p_normal: 0.9328) from 80 termination events\n",
    "→  - FK: mean lifetime: 91.2055 +/- 0.6729 ms (N=189141, p_normal: 0.3627) from 29 termination events\n",
    "\n",
    " - LR: mean lifetime: 33.3659 +/- 0.7169 ms (N=15273, p_normal: 0.6845) from 595 termination events\n",
    "\n",
    "→  - LR: mean lifetime: 40.4644 +/- 0.5996 ms (N=25096, p_normal: 0.6661) from 384 termination events"
   ]
  },
  {
   "cell_type": "code",
   "execution_count": 298,
   "id": "88fc429d",
   "metadata": {
    "ExecuteTime": {
     "end_time": "2022-12-29T00:59:20.025364Z",
     "start_time": "2022-12-29T00:59:19.971440Z"
    }
   },
   "outputs": [
    {
     "data": {
      "text/plain": [
       "0.025"
      ]
     },
     "execution_count": 298,
     "metadata": {},
     "output_type": "execute_result"
    }
   ],
   "source": [
    "DS"
   ]
  },
  {
   "cell_type": "code",
   "execution_count": null,
   "id": "7f28a277",
   "metadata": {},
   "outputs": [],
   "source": []
  }
 ],
 "metadata": {
  "hide_input": false,
  "kernelspec": {
   "display_name": "Python 3 (ipykernel)",
   "language": "python",
   "name": "python3"
  },
  "language_info": {
   "codemirror_mode": {
    "name": "ipython",
    "version": 3
   },
   "file_extension": ".py",
   "mimetype": "text/x-python",
   "name": "python",
   "nbconvert_exporter": "python",
   "pygments_lexer": "ipython3",
   "version": "3.9.13"
  },
  "latex_envs": {
   "LaTeX_envs_menu_present": true,
   "autoclose": true,
   "autocomplete": false,
   "bibliofile": "biblio.bib",
   "cite_by": "apalike",
   "current_citInitial": 1,
   "eqLabelWithNumbers": false,
   "eqNumInitial": 1,
   "hotkeys": {
    "equation": "Ctrl-E",
    "itemize": "Ctrl-I"
   },
   "labels_anchors": false,
   "latex_user_defs": false,
   "report_style_numbering": false,
   "user_envs_cfg": false
  },
  "nbTranslate": {
   "displayLangs": [
    "*"
   ],
   "hotkey": "alt-t",
   "langInMainMenu": true,
   "sourceLang": "en",
   "targetLang": "fr",
   "useGoogleTranslate": true
  },
  "toc": {
   "base_numbering": 1,
   "nav_menu": {},
   "number_sections": true,
   "sideBar": true,
   "skip_h1_title": false,
   "title_cell": "Table of Contents",
   "title_sidebar": "Contents",
   "toc_cell": false,
   "toc_position": {},
   "toc_section_display": true,
   "toc_window_display": false
  }
 },
 "nbformat": 4,
 "nbformat_minor": 5
}
