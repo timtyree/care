{
 "cells": [
  {
   "cell_type": "markdown",
   "metadata": {},
   "source": [
    "# dev pycuda"
   ]
  },
  {
   "cell_type": "code",
   "execution_count": null,
   "metadata": {
    "ExecuteTime": {
     "end_time": "2021-03-14T18:19:32.403426Z",
     "start_time": "2021-03-14T18:19:32.397334Z"
    }
   },
   "outputs": [],
   "source": [
    "#%pylab inline\n",
    "import numba, numpy as np, matplotlib.pyplot as plt\n",
    "from numba import cuda\n",
    "from pylab import imshow, show\n",
    "from timeit import default_timer as timer"
   ]
  },
  {
   "cell_type": "code",
   "execution_count": 16,
   "metadata": {
    "ExecuteTime": {
     "end_time": "2021-03-14T18:19:33.155971Z",
     "start_time": "2021-03-14T18:19:33.153098Z"
    }
   },
   "outputs": [],
   "source": [
    "import pycuda.driver as cuda\n",
    "import pycuda.autoinit\n",
    "from pycuda.compiler import SourceModule\n",
    "import numpy as np"
   ]
  },
  {
   "cell_type": "code",
   "execution_count": 17,
   "metadata": {
    "ExecuteTime": {
     "end_time": "2021-03-14T18:19:34.293952Z",
     "start_time": "2021-03-14T18:19:34.291732Z"
    }
   },
   "outputs": [],
   "source": [
    "from lib.model.minimal_model_cuda import *\n",
    "#get the time_step_kernel\n",
    "# width,height,chnlno=ic.shape\n",
    "# kernel_string = get_kernel_string_FK_model(width=width,height=height,DX=0.025, DT=0.1,**kwargs)\n",
    "# kernel_string = get_kernel_string_FK_model(width=width,height=height,DX=0.025, DT=0.0001,**kwargs)\n"
   ]
  },
  {
   "cell_type": "code",
   "execution_count": 18,
   "metadata": {
    "ExecuteTime": {
     "end_time": "2021-03-14T18:19:39.871260Z",
     "start_time": "2021-03-14T18:19:39.865782Z"
    }
   },
   "outputs": [
    {
     "data": {
      "text/plain": [
       "<module 'pycuda.driver' from '/home/timothytyree/anaconda3/lib/python3.7/site-packages/pycuda/driver.py'>"
      ]
     },
     "execution_count": 18,
     "metadata": {},
     "output_type": "execute_result"
    }
   ],
   "source": [
    "drv"
   ]
  },
  {
   "cell_type": "code",
   "execution_count": 5,
   "metadata": {
    "ExecuteTime": {
     "end_time": "2021-09-27T22:11:09.595617Z",
     "start_time": "2021-09-27T22:11:09.577877Z"
    }
   },
   "outputs": [],
   "source": [
    "# #make plots in darkmode\n",
    "# import seaborn as sns\n",
    "# from jupyterthemes import jtplot\n",
    "# jtplot.style(theme='monokai', context='notebook', ticks=True, grid=False)"
   ]
  },
  {
   "cell_type": "markdown",
   "metadata": {},
   "source": [
    "# (ignore) diffusion kernel with pbc on a 200x200 square grid\n",
    "keep it simple, stupid!"
   ]
  },
  {
   "cell_type": "markdown",
   "metadata": {
    "heading_collapsed": true
   },
   "source": [
    "### pycuda examples, \n",
    "- including interactive applets, multiple gpu threads, concurrent kernels, and using thrust\n",
    "    - https://wiki.tiker.net/PyCuda/Examples\n",
    "- yet more examples\n",
    "    - https://github.com/inducer/pycuda/tree/master/examples"
   ]
  },
  {
   "cell_type": "code",
   "execution_count": null,
   "metadata": {
    "ExecuteTime": {
     "end_time": "2020-08-20T19:15:37.414565Z",
     "start_time": "2020-08-20T19:15:37.335430Z"
    },
    "hidden": true
   },
   "outputs": [],
   "source": []
  },
  {
   "cell_type": "markdown",
   "metadata": {},
   "source": [
    "### abstract away the complications with pycuda.gpuarray.GPUArray\n",
    "```\n",
    "import pycuda.gpuarray as gpuarray\n",
    "import pycuda.driver as cuda\n",
    "import pycuda.autoinit\n",
    "import numpy\n",
    "\n",
    "a_gpu = gpuarray.to_gpu(numpy.random.randn(4,4).astype(numpy.float32))\n",
    "a_doubled = (2*a_gpu).get()\n",
    "print a_doubled\n",
    "print a_gpu\n",
    "```"
   ]
  },
  {
   "cell_type": "markdown",
   "metadata": {},
   "source": [
    "### avoid python overhead with func.prepared_call\n",
    "```\n",
    "grid = (1, 1)\n",
    "block = (4, 4, 1)\n",
    "func.prepare(\"P\")\n",
    "func.prepared_call(grid, block, a_gpu)\n",
    "```"
   ]
  },
  {
   "cell_type": "markdown",
   "metadata": {
    "heading_collapsed": true
   },
   "source": [
    "### shortcut for explicit memory copies\n",
    "The pycuda.driver.In, pycuda.driver.Out, and pycuda.driver.InOut argument handlers can simplify some of the memory transfers. For example, instead of creating a_gpu, if replacing a is fine, the following code can be used:\n",
    "```\n",
    "func(cuda.InOut(a), block=(4, 4, 1))\n",
    "```\n",
    "\n"
   ]
  },
  {
   "cell_type": "code",
   "execution_count": 24,
   "metadata": {
    "ExecuteTime": {
     "end_time": "2020-08-20T18:09:35.465288Z",
     "start_time": "2020-08-20T18:09:35.459273Z"
    },
    "hidden": true
   },
   "outputs": [],
   "source": [
    "mod.get_surfref?\n",
    "mod.get_texref?"
   ]
  },
  {
   "cell_type": "code",
   "execution_count": 21,
   "metadata": {
    "ExecuteTime": {
     "end_time": "2020-08-20T18:08:33.548996Z",
     "start_time": "2020-08-20T18:08:33.541813Z"
    },
    "hidden": true
   },
   "outputs": [
    {
     "name": "stdout",
     "output_type": "stream",
     "text": [
      "[[0. 0. 0. 0.]\n",
      " [0. 0. 0. 0.]\n",
      " [0. 0. 0. 0.]\n",
      " [0. 0. 0. 0.]]\n"
     ]
    }
   ],
   "source": [
    "print (a_doubled-2*a)"
   ]
  },
  {
   "cell_type": "code",
   "execution_count": 19,
   "metadata": {
    "ExecuteTime": {
     "end_time": "2020-08-20T18:08:22.251385Z",
     "start_time": "2020-08-20T18:08:22.247698Z"
    },
    "hidden": true
   },
   "outputs": [],
   "source": [
    "# If there aren’t any errors, the code is now compiled and loaded onto the device. We find a reference to our pycuda.driver.Function and call it, specifying a_gpu as the argument, and a block size of 4x4:\n",
    "func = mod.get_function(\"doublify\")\n",
    "func(a_gpu, block=(4,4,1))\n",
    "\n",
    "a_doubled = numpy.empty_like(a)\n",
    "cuda.memcpy_dtoh(a_doubled, a_gpu)"
   ]
  },
  {
   "cell_type": "code",
   "execution_count": 14,
   "metadata": {
    "ExecuteTime": {
     "end_time": "2020-08-20T18:06:38.293949Z",
     "start_time": "2020-08-20T18:06:37.433820Z"
    },
    "hidden": true
   },
   "outputs": [],
   "source": [
    "#executing a kernel\n",
    "mod = SourceModule(\"\"\"\n",
    "  __global__ void doublify(float *a)\n",
    "  {\n",
    "    int idx = threadIdx.x + threadIdx.y*4;\n",
    "    a[idx] *= 2;\n",
    "  }\n",
    "  \"\"\")"
   ]
  },
  {
   "cell_type": "code",
   "execution_count": 18,
   "metadata": {
    "ExecuteTime": {
     "end_time": "2020-08-20T18:08:19.984202Z",
     "start_time": "2020-08-20T18:08:19.948478Z"
    },
    "hidden": true
   },
   "outputs": [],
   "source": [
    "#transfer data to the gpu\n",
    "\n",
    "a = np.random.randn(4,4)\n",
    "#most nvidia gpus only support single point percision.  I think mine does double tho\n",
    "a = a.astype(np.float32)\n",
    "a_gpu = cuda.mem_alloc(a.nbytes)\n",
    "cuda.memcpy_htod(a_gpu, a)\n"
   ]
  },
  {
   "cell_type": "code",
   "execution_count": 9,
   "metadata": {
    "ExecuteTime": {
     "end_time": "2020-08-20T18:03:48.246190Z",
     "start_time": "2020-08-20T18:03:48.091652Z"
    },
    "hidden": true
   },
   "outputs": [],
   "source": [
    "import pycuda.driver as cuda\n",
    "import pycuda.autoinit\n",
    "from pycuda.compiler import SourceModule\n",
    "import numpy as np\n",
    "\n",
    "# Note that you do not have to use pycuda.autoinit– initialization, context creation, and cleanup can also be performed manually, if desired."
   ]
  },
  {
   "cell_type": "code",
   "execution_count": 2,
   "metadata": {
    "ExecuteTime": {
     "end_time": "2020-08-20T17:59:23.788421Z",
     "start_time": "2020-08-20T17:59:23.783147Z"
    },
    "hidden": true
   },
   "outputs": [],
   "source": [
    "#setup initial conditions\n",
    "def get_initial_conditions(nx, ny):\n",
    "    field = np.ones((ny, nx)).astype(np.float32)\n",
    "    field[np.random.randint(0,nx,size=10), np.random.randint(0,ny,size=10)] = 1e3\n",
    "    return field\n",
    "\n",
    "def diffuse(field, dt=0.225):\n",
    "    field[1:nx-1,1:ny-1] = field[1:nx-1,1:ny-1] + dt * (\n",
    "        field[1:nx-1,2:ny]+field[2:nx,1:ny-1]-4*field[1:nx-1,1:ny-1]+\n",
    "        field[0:nx-2,1:ny-1]+field[1:nx-1,0:ny-2] )\n",
    "    return field"
   ]
  },
  {
   "cell_type": "markdown",
   "metadata": {
    "heading_collapsed": true
   },
   "source": [
    "# (numba.cuda) mandelbrot example with numba.cuda\n"
   ]
  },
  {
   "cell_type": "code",
   "execution_count": 3,
   "metadata": {
    "ExecuteTime": {
     "end_time": "2020-08-20T17:59:25.068485Z",
     "start_time": "2020-08-20T17:59:25.058461Z"
    },
    "hidden": true
   },
   "outputs": [],
   "source": [
    "# from numba import autojit\n",
    "@numba.jit\n",
    "def mandel(x, y, max_iters):\n",
    "  \"\"\"\n",
    "    Given the real and imaginary parts of a complex number,\n",
    "    determine if it is a candidate for membership in the Mandelbrot\n",
    "    set given a fixed number of iterations.\n",
    "  \"\"\"\n",
    "  c = complex(x, y)\n",
    "  z = 0.0j\n",
    "  for i in range(max_iters):\n",
    "    z = z*z + c\n",
    "    if (z.real*z.real + z.imag*z.imag) >= 4:\n",
    "      return i\n",
    "\n",
    "  return max_iters\n",
    "\n",
    "@numba.jit\n",
    "def create_fractal(min_x, max_x, min_y, max_y, image, iters):\n",
    "  height = image.shape[0]\n",
    "  width = image.shape[1]\n",
    "\n",
    "  pixel_size_x = (max_x - min_x) / width\n",
    "  pixel_size_y = (max_y - min_y) / height\n",
    "    \n",
    "  for x in range(width):\n",
    "    real = min_x + x * pixel_size_x\n",
    "    for y in range(height):\n",
    "      imag = min_y + y * pixel_size_y\n",
    "      color = mandel(real, imag, iters)\n",
    "      image[y, x] = color"
   ]
  },
  {
   "cell_type": "code",
   "execution_count": 4,
   "metadata": {
    "ExecuteTime": {
     "end_time": "2020-08-20T17:59:25.577555Z",
     "start_time": "2020-08-20T17:59:25.575157Z"
    },
    "hidden": true
   },
   "outputs": [],
   "source": [
    "from numba import cuda\n",
    "from numba import *\n",
    "\n",
    "mandel_gpu = cuda.jit(device=True)(mandel)"
   ]
  },
  {
   "cell_type": "code",
   "execution_count": 5,
   "metadata": {
    "ExecuteTime": {
     "end_time": "2020-08-20T17:59:26.612997Z",
     "start_time": "2020-08-20T17:59:26.124485Z"
    },
    "hidden": true
   },
   "outputs": [
    {
     "name": "stdout",
     "output_type": "stream",
     "text": [
      "Mandelbrot created in 0.317611 s\n"
     ]
    },
    {
     "data": {
      "image/png": "[encoded data removed]",
      "text/plain": [
       "<Figure size 432x288 with 1 Axes>"
      ]
     },
     "metadata": {
      "needs_background": "light"
     },
     "output_type": "display_data"
    }
   ],
   "source": [
    "image = np.zeros((1024, 1536), dtype = np.uint8)\n",
    "start = timer()\n",
    "create_fractal(-2.0, 1.0, -1.0, 1.0, image, 20) \n",
    "dt = timer() - start\n",
    "\n",
    "print(\"Mandelbrot created in %f s\" % dt)\n",
    "imshow(image)\n",
    "show()"
   ]
  },
  {
   "cell_type": "code",
   "execution_count": null,
   "metadata": {
    "hidden": true
   },
   "outputs": [],
   "source": []
  },
  {
   "cell_type": "code",
   "execution_count": 6,
   "metadata": {
    "ExecuteTime": {
     "end_time": "2020-08-20T17:59:27.891083Z",
     "start_time": "2020-08-20T17:59:27.884837Z"
    },
    "hidden": true
   },
   "outputs": [],
   "source": [
    "@cuda.jit\n",
    "def mandel_kernel(min_x, max_x, min_y, max_y, image, iters):\n",
    "  height = image.shape[0]\n",
    "  width = image.shape[1]\n",
    "\n",
    "  pixel_size_x = (max_x - min_x) / width\n",
    "  pixel_size_y = (max_y - min_y) / height\n",
    "\n",
    "  startX, startY = cuda.grid(2)\n",
    "  gridX = cuda.gridDim.x * cuda.blockDim.x;\n",
    "  gridY = cuda.gridDim.y * cuda.blockDim.y;\n",
    "\n",
    "  for x in range(startX, width, gridX):\n",
    "    real = min_x + x * pixel_size_x\n",
    "    for y in range(startY, height, gridY):\n",
    "      imag = min_y + y * pixel_size_y \n",
    "      image[y, x] = mandel_gpu(real, imag, iters)"
   ]
  },
  {
   "cell_type": "code",
   "execution_count": null,
   "metadata": {
    "hidden": true
   },
   "outputs": [],
   "source": []
  },
  {
   "cell_type": "code",
   "execution_count": 8,
   "metadata": {
    "ExecuteTime": {
     "end_time": "2020-08-20T17:59:36.299317Z",
     "start_time": "2020-08-20T17:59:36.135011Z"
    },
    "hidden": true,
    "scrolled": true
   },
   "outputs": [
    {
     "name": "stdout",
     "output_type": "stream",
     "text": [
      "Mandelbrot created on GPU in 0.004728 s\n"
     ]
    },
    {
     "data": {
      "image/png": "[encoded data removed]",
      "text/plain": [
       "<Figure size 432x288 with 1 Axes>"
      ]
     },
     "metadata": {
      "needs_background": "light"
     },
     "output_type": "display_data"
    }
   ],
   "source": [
    "gimage = np.zeros((1024, 1536), dtype = np.uint8)\n",
    "blockdim = (32, 8)\n",
    "griddim = (32,16)\n",
    "\n",
    "start = timer()\n",
    "d_image = cuda.to_device(gimage)\n",
    "mandel_kernel[griddim, blockdim](-2.0, 1.0, -1.0, 1.0, d_image, 20) \n",
    "d_image.to_host()\n",
    "dt = timer() - start\n",
    "\n",
    "print(\"Mandelbrot created on GPU in %f s\" % dt)\n",
    "imshow(gimage)\n",
    "show()"
   ]
  },
  {
   "cell_type": "markdown",
   "metadata": {
    "heading_collapsed": true,
    "hidden": true
   },
   "source": [
    "## (fail at getting) time_step to be gpu accelerated without alteration"
   ]
  },
  {
   "cell_type": "code",
   "execution_count": null,
   "metadata": {
    "ExecuteTime": {
     "end_time": "2020-08-17T01:52:42.399840Z",
     "start_time": "2020-08-17T01:52:42.395509Z"
    },
    "hidden": true
   },
   "outputs": [],
   "source": [
    "from lib import *\n",
    "#load the libraries\n",
    "from lib.operari import *\n",
    "from lib.ProgressBar import *\n",
    "from lib.minimal_model import *\n",
    "from lib.TexturePlot import *\n",
    "from lib.get_tips import *\n",
    "from lib.minimal_model import *\n",
    "from lib.intersection import *"
   ]
  },
  {
   "cell_type": "code",
   "execution_count": null,
   "metadata": {
    "ExecuteTime": {
     "end_time": "2020-08-17T01:01:55.955016Z",
     "start_time": "2020-08-17T01:01:55.951516Z"
    },
    "hidden": true
   },
   "outputs": [],
   "source": [
    "from numba import cuda\n",
    "from numba import *\n",
    "\n",
    "time_step_gpu = cuda.jit(device=True)(time_step_at_pixel)"
   ]
  },
  {
   "cell_type": "code",
   "execution_count": null,
   "metadata": {
    "ExecuteTime": {
     "end_time": "2020-08-17T01:52:42.872029Z",
     "start_time": "2020-08-17T01:52:42.857620Z"
    },
    "hidden": true
   },
   "outputs": [],
   "source": [
    "#import the time step and use it on an example texture\n",
    "file = '/home/timothytyree/Documents/GitHub/care/notebooks/Data/initial-conditions-suite-2/ic-out/ic_200x200.001.13.npz'\n",
    "txt = load_buffer(file)\n",
    "txt.shape"
   ]
  },
  {
   "cell_type": "code",
   "execution_count": null,
   "metadata": {
    "ExecuteTime": {
     "end_time": "2020-08-17T01:55:13.244217Z",
     "start_time": "2020-08-17T01:55:13.229435Z"
    },
    "hidden": true
   },
   "outputs": [],
   "source": [
    "time_step_cuda(texture=txt, h=0.025, zero_txt=zero_txt.copy())"
   ]
  },
  {
   "cell_type": "code",
   "execution_count": null,
   "metadata": {
    "ExecuteTime": {
     "end_time": "2020-08-17T01:52:52.366297Z",
     "start_time": "2020-08-17T01:52:46.019517Z"
    },
    "hidden": true
   },
   "outputs": [],
   "source": [
    "zero_txt = np.zeros_like(txt)\n",
    "for j in range(500):\n",
    "    time_step(texture=txt, h=0.025, zero_txt=zero_txt.copy())"
   ]
  },
  {
   "cell_type": "code",
   "execution_count": null,
   "metadata": {
    "ExecuteTime": {
     "end_time": "2020-08-17T01:53:49.561086Z",
     "start_time": "2020-08-17T01:53:49.557938Z"
    },
    "hidden": true
   },
   "outputs": [],
   "source": [
    "time_step_cuda = cuda.jit(device=True)(time_step)"
   ]
  },
  {
   "cell_type": "code",
   "execution_count": null,
   "metadata": {
    "ExecuteTime": {
     "end_time": "2020-08-17T01:23:35.424239Z",
     "start_time": "2020-08-17T01:23:35.415831Z"
    },
    "hidden": true
   },
   "outputs": [],
   "source": [
    "@cuda.jit\n",
    "def get_time_step_kernel(texture, out):\n",
    "    height = texture.shape[0]\n",
    "    width = texture.shape[1]\n",
    "\n",
    "    startX, startY = cuda.grid(2)\n",
    "    gridX = cuda.gridDim.x * cuda.blockDim.x;\n",
    "    gridY = cuda.gridDim.y * cuda.blockDim.y;\n",
    "\n",
    "    for x in range(startX, width, gridX):\n",
    "        for y in range(startY, height, gridY):\n",
    "            out[y, x] = np.array(time_step_gpu(inVfs=texture,x=x,y=y))"
   ]
  },
  {
   "cell_type": "code",
   "execution_count": null,
   "metadata": {
    "ExecuteTime": {
     "end_time": "2020-08-17T01:23:38.026727Z",
     "start_time": "2020-08-17T01:23:38.022960Z"
    },
    "hidden": true
   },
   "outputs": [],
   "source": [
    "1024/32\n",
    "1536/32"
   ]
  },
  {
   "cell_type": "code",
   "execution_count": null,
   "metadata": {
    "ExecuteTime": {
     "end_time": "2020-08-17T02:17:49.701328Z",
     "start_time": "2020-08-17T02:17:49.698495Z"
    },
    "hidden": true
   },
   "outputs": [],
   "source": [
    "# # gimage = np.zeros((1024, 1536), dtype = np.uint8)\n",
    "# gimage = np.zeros((1024, 1536, 3), dtype = np.float32)\n",
    "# # gimage = txt.copy()\n",
    "# dtexture_dt = gimage.copy()#zero_txt.copy()\n",
    "\n",
    "# blockdim = (32, 8)\n",
    "# griddim = (32,16)\n",
    "\n",
    "# start = timer()\n",
    "# d_image = cuda.to_device(gimage)\n",
    "# d_dtexture_dt = cuda.to_device(dtexture_dt)\n",
    "# get_time_step_kernel[griddim, blockdim](txt, d_dtexture_dt)\n",
    "# d_image.to_host()\n",
    "# dt = timer() - start\n",
    "\n",
    "# print(\"Mandelbrot created on GPU in %f s\" % dt)\n",
    "# imshow(gimage)\n",
    "# show()"
   ]
  },
  {
   "cell_type": "markdown",
   "metadata": {
    "ExecuteTime": {
     "end_time": "2020-08-17T01:24:07.485142Z",
     "start_time": "2020-08-17T01:24:07.475360Z"
    },
    "heading_collapsed": true,
    "hidden": true
   },
   "source": [
    "## (not working) fast matrix multiplication \n",
    "but complicated to understand and isn't being called right"
   ]
  },
  {
   "cell_type": "code",
   "execution_count": null,
   "metadata": {
    "ExecuteTime": {
     "end_time": "2020-08-17T02:15:46.280465Z",
     "start_time": "2020-08-17T02:15:45.741482Z"
    },
    "hidden": true
   },
   "outputs": [],
   "source": [
    "from numba import cuda, float32\n",
    "\n",
    "# Controls threads per block and shared memory usage.\n",
    "# The computation will be done on blocks of TPBxTPB elements.\n",
    "TPB = 16\n",
    "\n",
    "@cuda.jit\n",
    "def fast_matmul(A, B, C):\n",
    "    # Define an array in the shared memory\n",
    "    # The size and type of the arrays must be known at compile time\n",
    "    sA = cuda.shared.array(shape=(TPB, TPB), dtype=float32)\n",
    "    sB = cuda.shared.array(shape=(TPB, TPB), dtype=float32)\n",
    "\n",
    "    x, y = cuda.grid(2)\n",
    "\n",
    "    tx = cuda.threadIdx.x\n",
    "    ty = cuda.threadIdx.y\n",
    "    bpg = cuda.gridDim.x    # blocks per grid\n",
    "\n",
    "    if x >= C.shape[0] and y >= C.shape[1]:\n",
    "        # Quit if (x, y) is outside of valid C boundary\n",
    "        return\n",
    "\n",
    "    # Each thread computes one element in the result matrix.\n",
    "    # The dot product is chunked into dot products of TPB-long vectors.\n",
    "    tmp = 0.\n",
    "    for i in range(bpg):\n",
    "        # Preload data into shared memory\n",
    "        sA[tx, ty] = A[x, ty + i * TPB]\n",
    "        sB[tx, ty] = B[tx + i * TPB, y]\n",
    "\n",
    "        # Wait until all threads finish preloading\n",
    "        cuda.syncthreads()\n",
    "\n",
    "        # Computes partial product on the shared memory\n",
    "        for j in range(TPB):\n",
    "            tmp += sA[tx, j] * sB[j, ty]\n",
    "\n",
    "        # Wait until all threads finish computing\n",
    "        cuda.syncthreads()\n",
    "\n",
    "    C[x, y] = tmp"
   ]
  },
  {
   "cell_type": "code",
   "execution_count": null,
   "metadata": {
    "ExecuteTime": {
     "end_time": "2020-08-17T02:15:47.213203Z",
     "start_time": "2020-08-17T02:15:47.208960Z"
    },
    "hidden": true
   },
   "outputs": [],
   "source": [
    "A = np.ones((200,200))\n",
    "B = 2*A.copy()\n",
    "C = np.zeros_like(A)"
   ]
  },
  {
   "cell_type": "code",
   "execution_count": null,
   "metadata": {
    "ExecuteTime": {
     "end_time": "2020-08-17T02:15:50.430740Z",
     "start_time": "2020-08-17T02:15:49.666395Z"
    },
    "hidden": true
   },
   "outputs": [],
   "source": [
    "fast_matmul(A, B, C)\n",
    "C"
   ]
  },
  {
   "cell_type": "code",
   "execution_count": null,
   "metadata": {
    "ExecuteTime": {
     "end_time": "2020-08-17T02:15:54.904656Z",
     "start_time": "2020-08-17T02:15:54.896638Z"
    },
    "hidden": true
   },
   "outputs": [],
   "source": [
    "@cuda.jit\n",
    "def matmul(A, B, C):\n",
    "    \"\"\"Perform square matrix multiplication of C = A * B\n",
    "    \"\"\"\n",
    "    i, j = cuda.grid(2)\n",
    "    if i < C.shape[0] and j < C.shape[1]:\n",
    "        tmp = 0.\n",
    "        for k in range(A.shape[1]):\n",
    "            tmp += A[i, k] * B[k, j]\n",
    "        C[i, j] = tmp"
   ]
  },
  {
   "cell_type": "code",
   "execution_count": null,
   "metadata": {
    "ExecuteTime": {
     "end_time": "2020-08-17T02:15:59.292164Z",
     "start_time": "2020-08-17T02:15:59.285908Z"
    },
    "hidden": true
   },
   "outputs": [],
   "source": [
    "matmul(A, B, C)"
   ]
  },
  {
   "cell_type": "code",
   "execution_count": null,
   "metadata": {
    "ExecuteTime": {
     "end_time": "2020-08-17T02:16:08.116816Z",
     "start_time": "2020-08-17T02:16:08.112246Z"
    },
    "hidden": true
   },
   "outputs": [],
   "source": [
    "C"
   ]
  },
  {
   "cell_type": "markdown",
   "metadata": {
    "heading_collapsed": true,
    "hidden": true
   },
   "source": [
    "## (still with numba.cuda) add two matrices the same shape as my texture with float64 percision"
   ]
  },
  {
   "cell_type": "code",
   "execution_count": null,
   "metadata": {
    "ExecuteTime": {
     "end_time": "2020-08-17T02:34:52.381144Z",
     "start_time": "2020-08-17T02:34:52.342319Z"
    },
    "hidden": true
   },
   "outputs": [],
   "source": [
    "from numba import cuda\n",
    "# from numba import *"
   ]
  },
  {
   "cell_type": "code",
   "execution_count": null,
   "metadata": {
    "ExecuteTime": {
     "end_time": "2020-08-17T02:36:24.535572Z",
     "start_time": "2020-08-17T02:36:24.532398Z"
    },
    "hidden": true
   },
   "outputs": [],
   "source": [
    "# from numba import autojit\n",
    "@numba.jit\n",
    "def add(a, b):\n",
    "    return a + b"
   ]
  },
  {
   "cell_type": "code",
   "execution_count": null,
   "metadata": {
    "ExecuteTime": {
     "end_time": "2020-08-17T02:36:25.000454Z",
     "start_time": "2020-08-17T02:36:24.996473Z"
    },
    "hidden": true
   },
   "outputs": [],
   "source": [
    "foo_gpu = cuda.jit(device=True)(add)"
   ]
  },
  {
   "cell_type": "code",
   "execution_count": null,
   "metadata": {
    "ExecuteTime": {
     "end_time": "2020-08-17T02:44:12.271986Z",
     "start_time": "2020-08-17T02:44:12.264938Z"
    },
    "hidden": true
   },
   "outputs": [],
   "source": [
    "@cuda.jit\n",
    "def foo_kernel(image1, image2, out):\n",
    "    height = image1.shape[0]\n",
    "    width  = image1.shape[1]\n",
    "\n",
    "    startX, startY = cuda.grid(2)\n",
    "    gridX = cuda.gridDim.x * cuda.blockDim.x;\n",
    "    gridY = cuda.gridDim.y * cuda.blockDim.y;\n",
    "\n",
    "    for x in range(startX, width, gridX):\n",
    "        for y in range(startY, height, gridY):\n",
    "            a = image1[y,x]\n",
    "            b = image2[y,x]\n",
    "            out[y, x] = a+b#foo_gpu(a, b)"
   ]
  },
  {
   "cell_type": "code",
   "execution_count": null,
   "metadata": {
    "hidden": true
   },
   "outputs": [],
   "source": []
  },
  {
   "cell_type": "code",
   "execution_count": null,
   "metadata": {
    "ExecuteTime": {
     "end_time": "2020-08-17T02:44:16.490917Z",
     "start_time": "2020-08-17T02:44:16.242975Z"
    },
    "hidden": true
   },
   "outputs": [],
   "source": [
    "gout    = np.zeros((1024, 1536), dtype = np.uint8)\n",
    "gimage1 = np.ones((1024, 1536), dtype = np.uint8)\n",
    "gimage2 = np.ones((1024, 1536), dtype = np.uint8)\n",
    "blockdim = (32, 8)\n",
    "griddim = (32,16)\n",
    "\n",
    "start = timer()\n",
    "d_image1 = cuda.to_device(gimage1)\n",
    "d_image2 = cuda.to_device(gimage1)\n",
    "d_out    = cuda.to_device(gout)\n",
    "foo_kernel[griddim, blockdim](d_image1, d_image2, d_out) \n",
    "d_out.to_host()\n",
    "dt = timer() - start\n",
    "\n",
    "print(\"Output created on GPU in %f s\" % dt)\n",
    "imshow(gout)\n",
    "show()"
   ]
  },
  {
   "cell_type": "code",
   "execution_count": null,
   "metadata": {
    "ExecuteTime": {
     "end_time": "2020-08-17T02:50:13.711174Z",
     "start_time": "2020-08-17T02:50:13.530230Z"
    },
    "hidden": true
   },
   "outputs": [],
   "source": [
    "gout    = np.zeros((200, 200), dtype = np.float64)\n",
    "gimage1 = 2*np.ones((200, 200), dtype = np.float64)\n",
    "gimage2 = np.ones((200, 200), dtype = np.float64)\n",
    "blockdim = (32, 8)\n",
    "griddim = (32,16)\n",
    "\n",
    "start = timer()\n",
    "d_image1 = cuda.to_device(gimage1)\n",
    "d_image2 = cuda.to_device(gimage2)\n",
    "d_out    = cuda.to_device(gout)\n",
    "foo_kernel[griddim, blockdim](d_image1, d_image2, d_out) \n",
    "d_out.to_host()\n",
    "dt = timer() - start\n",
    "\n",
    "print(\"Output created on GPU in %f s\" % dt)\n",
    "imshow(gout)\n",
    "show()"
   ]
  },
  {
   "cell_type": "code",
   "execution_count": 5,
   "metadata": {
    "ExecuteTime": {
     "end_time": "2021-02-10T02:46:53.950295Z",
     "start_time": "2021-02-10T02:46:53.928150Z"
    },
    "hidden": true
   },
   "outputs": [
    {
     "ename": "NameError",
     "evalue": "name 'gout' is not defined",
     "output_type": "error",
     "traceback": [
      "\u001b[0;31m---------------------------------------------------------------------------\u001b[0m",
      "\u001b[0;31mNameError\u001b[0m                                 Traceback (most recent call last)",
      "\u001b[0;32m<ipython-input-5-0d13ab7e47f8>\u001b[0m in \u001b[0;36m<module>\u001b[0;34m\u001b[0m\n\u001b[0;32m----> 1\u001b[0;31m \u001b[0;32massert\u001b[0m \u001b[0;34m(\u001b[0m \u001b[0;34m(\u001b[0m\u001b[0mgout\u001b[0m\u001b[0;34m==\u001b[0m\u001b[0;36m3\u001b[0m\u001b[0;34m)\u001b[0m\u001b[0;34m.\u001b[0m\u001b[0mall\u001b[0m\u001b[0;34m(\u001b[0m\u001b[0;34m)\u001b[0m \u001b[0;34m)\u001b[0m\u001b[0;34m\u001b[0m\u001b[0;34m\u001b[0m\u001b[0m\n\u001b[0m",
      "\u001b[0;31mNameError\u001b[0m: name 'gout' is not defined"
     ]
    }
   ],
   "source": [
    "assert ( (gout==3).all() ) "
   ]
  },
  {
   "cell_type": "markdown",
   "metadata": {
    "heading_collapsed": true
   },
   "source": [
    "# (numba.cuda) compute the diffusion time step with float64 percision with periodic boundary conditions using numba.cuda (it's slow)"
   ]
  },
  {
   "cell_type": "code",
   "execution_count": null,
   "metadata": {
    "ExecuteTime": {
     "end_time": "2020-08-17T05:35:32.705100Z",
     "start_time": "2020-08-17T05:35:32.699355Z"
    },
    "hidden": true
   },
   "outputs": [],
   "source": [
    "@numba.njit\n",
    "def _pbc(S,y,x,height,width):\n",
    "    '''S = numpy array with size (height,width)\n",
    "    (y, x) pixel coordinates in S, enforcing periodic boundary conditions explicitely.'''\n",
    "    if ( x < 0  ):# // Left P.B.C.\n",
    "        x = width - 1\n",
    "    elif ( x > (width - 1) ):# // Right P.B.C.\n",
    "        x = 0\n",
    "    if( y < 0 ):# //  Bottom P.B.C.\n",
    "        y = height - 1\n",
    "    elif ( y > (height - 1)):# // Top P.B.C.\n",
    "        y = 0\n",
    "    return S[y,x]"
   ]
  },
  {
   "cell_type": "code",
   "execution_count": null,
   "metadata": {
    "ExecuteTime": {
     "end_time": "2020-08-17T05:35:33.656211Z",
     "start_time": "2020-08-17T05:35:33.653969Z"
    },
    "hidden": true
   },
   "outputs": [],
   "source": [
    "# _pbc(gout,5,201,200,200)"
   ]
  },
  {
   "cell_type": "code",
   "execution_count": null,
   "metadata": {
    "ExecuteTime": {
     "end_time": "2020-08-17T05:35:34.064006Z",
     "start_time": "2020-08-17T05:35:34.057688Z"
    },
    "hidden": true
   },
   "outputs": [],
   "source": [
    "_pbc_gpu = cuda.jit(device=True)(_pbc)"
   ]
  },
  {
   "cell_type": "code",
   "execution_count": null,
   "metadata": {
    "ExecuteTime": {
     "end_time": "2020-08-17T05:35:36.373395Z",
     "start_time": "2020-08-17T05:35:36.363091Z"
    },
    "hidden": true
   },
   "outputs": [],
   "source": [
    "#model parameters\n",
    "diff_coef = 0.0005 #cm^2/ms\n",
    "h  = 0.025 #ms\n",
    "dx = 0.025 #cm\n",
    "cddx = 1/dx**2\n",
    "\n",
    "@cuda.jit\n",
    "def diffusion_kernel(Vin, Vout):\n",
    "    '''writes the simple diffusion term to Vout'''\n",
    "    height = Vin.shape[0]\n",
    "    width  = Vin.shape[1]\n",
    "    \n",
    "#     #model parameters\n",
    "#     diff_coef = 0.0005 #cm^2/ms\n",
    "#     h  = 0.025 #ms\n",
    "#     dx = 0.025 #cm\n",
    "#     cddx = 1/dx**2\n",
    "    \n",
    "    startX, startY = cuda.grid(2)\n",
    "    gridX = cuda.gridDim.x * cuda.blockDim.x;\n",
    "    gridY = cuda.gridDim.y * cuda.blockDim.y;\n",
    "\n",
    "    for x in range(startX, width, gridX):\n",
    "        for y in range(startY, height, gridY):\n",
    "            up     = _pbc_gpu(Vin,y+1,x,height,width)\n",
    "            down   = _pbc_gpu(Vin,y-1,x,height,width)\n",
    "            left   = _pbc_gpu(Vin,y,x-1,height,width)\n",
    "            right  = _pbc_gpu(Vin,y,x+1,height,width)\n",
    "            center = _pbc_gpu(Vin,y,x,height,width)\n",
    "            \n",
    "            #five point stencil\n",
    "            dVlt2dt = up + down + left + right - 4 * center\n",
    "            dVlt2dt *= diff_coef * cddx\n",
    "            Vout[y,x] = center + h*dVlt2dt"
   ]
  },
  {
   "cell_type": "code",
   "execution_count": null,
   "metadata": {
    "hidden": true
   },
   "outputs": [],
   "source": []
  },
  {
   "cell_type": "code",
   "execution_count": null,
   "metadata": {
    "ExecuteTime": {
     "end_time": "2020-08-17T05:35:39.075694Z",
     "start_time": "2020-08-17T05:35:37.704537Z"
    },
    "hidden": true
   },
   "outputs": [],
   "source": [
    "Vout   = np.zeros((200, 200), dtype = np.float64)\n",
    "Vin  = np.array([256*x*(y+1) for x in range(200) for y in range(200)]).reshape((200,200))\n",
    "gimage2 = np.ones((200, 200), dtype = np.float64)\n",
    "blockdim = (32, 8)\n",
    "griddim = (32,16)\n",
    "\n",
    "start = timer()\n",
    "d_Vin = cuda.to_device(Vin)\n",
    "d_Vout = cuda.to_device(Vout)\n",
    "diffusion_kernel[griddim, blockdim](d_Vin, d_Vout) \n",
    "d_Vout.to_host()\n",
    "dt = timer() - start\n",
    "\n",
    "print(\"Diffusion created on GPU in %f s\" % dt)\n",
    "vmax = Vin.max()\n",
    "vmin = Vin.min()\n",
    "imshow(Vin, vmax=vmax,vmin=vmin)\n",
    "show()"
   ]
  },
  {
   "cell_type": "code",
   "execution_count": null,
   "metadata": {
    "ExecuteTime": {
     "end_time": "2020-08-17T04:25:03.443921Z",
     "start_time": "2020-08-17T04:25:03.439989Z"
    },
    "hidden": true
   },
   "outputs": [],
   "source": [
    "# now make an n_forward_steps kernel\n",
    "# @numba.njit\n",
    "def take_2n_steps_forward_kernel(V1, V2, n):\n",
    "    for step in range(n):\n",
    "        diffusion_kernel[griddim, blockdim](V1, V2)\n",
    "        diffusion_kernel[griddim, blockdim](V2, V1)"
   ]
  },
  {
   "cell_type": "code",
   "execution_count": null,
   "metadata": {
    "ExecuteTime": {
     "end_time": "2020-08-17T04:25:23.445429Z",
     "start_time": "2020-08-17T04:25:22.728752Z"
    },
    "hidden": true
   },
   "outputs": [],
   "source": [
    "Vout   = np.zeros((200, 200), dtype = np.float64)\n",
    "Vin  = np.array([256*x*(y+1) for x in range(200) for y in range(200)]).reshape((200,200))\n",
    "gimage2 = np.ones((200, 200), dtype = np.float64)\n",
    "blockdim = (32, 8)\n",
    "griddim = (32,16)\n",
    "\n",
    "start = timer()\n",
    "d_Vin = cuda.to_device(Vin)\n",
    "d_Vout = cuda.to_device(Vout)\n",
    "take_2n_steps_forward_kernel(d_Vin, d_Vout, 1000) \n",
    "d_Vout.to_host()\n",
    "dt = timer() - start\n",
    "\n",
    "print(\"Diffusion created on GPU in %f s\" % dt)\n",
    "vmax = Vin.max()\n",
    "vmin = Vin.min()\n",
    "imshow(Vout, vmax=vmax,vmin=vmin)\n",
    "show()"
   ]
  },
  {
   "cell_type": "code",
   "execution_count": null,
   "metadata": {
    "ExecuteTime": {
     "end_time": "2020-08-17T04:25:27.151478Z",
     "start_time": "2020-08-17T04:25:27.147655Z"
    },
    "hidden": true
   },
   "outputs": [],
   "source": [
    "# now make an n_forward_steps kernel\n",
    "# @numba.njit\n",
    "def take_2n_steps_forward_kernel(V1, V2, n):\n",
    "    for step in range(n):\n",
    "        diffusion_kernel[griddim, blockdim, stream](V1, V2)\n",
    "        diffusion_kernel[griddim, blockdim, stream](V2, V1)"
   ]
  },
  {
   "cell_type": "code",
   "execution_count": null,
   "metadata": {
    "ExecuteTime": {
     "end_time": "2020-08-17T03:55:32.119368Z",
     "start_time": "2020-08-17T03:55:27.068307Z"
    },
    "hidden": true
   },
   "outputs": [],
   "source": [
    "# # def test_event_elapsed_stream(self):\n",
    "# N = 32\n",
    "# stream = cuda.stream()\n",
    "# dary = cuda.device_array(N, dtype=np.int)\n",
    "# evtstart = cuda.event()\n",
    "# evtend = cuda.event()\n",
    "\n",
    "# evtstart.record(stream=stream)\n",
    "# cuda.to_device(np.arange(N), to=dary, stream=stream)\n",
    "# evtend.record(stream=stream)\n",
    "# evtend.wait(stream=stream)\n",
    "# evtend.synchronize()\n",
    "# # Exercise the code path\n",
    "# take_2n_steps_forward_kernel(d_Vin, d_Vout, 10000) \n",
    "# evtstart.elapsed_time(evtend)"
   ]
  },
  {
   "cell_type": "code",
   "execution_count": null,
   "metadata": {
    "ExecuteTime": {
     "end_time": "2020-08-17T04:25:30.506344Z",
     "start_time": "2020-08-17T04:25:29.321475Z"
    },
    "hidden": true
   },
   "outputs": [],
   "source": [
    "iterations = 10**3\n",
    "Vout   = np.zeros((200, 200), dtype = np.float64)\n",
    "Vin   = np.zeros((200, 200), dtype = np.float64)\n",
    "Vin[0,150] = 1000\n",
    "# Vin[-1,-1] = 1000\n",
    "# Vin  = np.array([256*x*(y+1) for x in range(200) for y in range(200)]).reshape((200,200))\n",
    "gimage2 = np.ones((200, 200), dtype = np.float64)\n",
    "blockdim = (32, 8)\n",
    "griddim = (32,16)\n",
    "\n",
    "start = timer()\n",
    "stream = cuda.stream()\n",
    "d_Vin  = cuda.to_device(Vin, stream)\n",
    "d_Vout = cuda.to_device(Vout, stream)\n",
    "# take_2n_steps_forward_kernel(d_Vin, d_Vout, iterations) \n",
    "for step in range(iterations):\n",
    "    diffusion_kernel[griddim, blockdim, stream](d_Vin, d_Vout)\n",
    "    diffusion_kernel[griddim, blockdim, stream](d_Vout, d_Vin)\n",
    "d_Vout.to_host(stream)\n",
    "d_Vin.to_host(stream)\n",
    "stream.synchronize()\n",
    "dt = timer() - start\n",
    "\n",
    "\n",
    "print(f\"{iterations:d} diffusion time steps taken on GPU in {dt:.3f} seconds!\")\n",
    "vmax = Vin.max()\n",
    "vmin = Vin.min()\n",
    "imshow(Vin, vmax=vmax,vmin=vmin)\n",
    "show()"
   ]
  },
  {
   "cell_type": "code",
   "execution_count": null,
   "metadata": {
    "ExecuteTime": {
     "end_time": "2020-08-17T03:58:18.507044Z",
     "start_time": "2020-08-17T03:58:18.488888Z"
    },
    "hidden": true
   },
   "outputs": [],
   "source": [
    "# cuda.compiler.AutoTuner(diffusion_kernel, (griddim, blockdim, stream))"
   ]
  },
  {
   "cell_type": "code",
   "execution_count": null,
   "metadata": {
    "ExecuteTime": {
     "end_time": "2020-08-17T04:02:48.006733Z",
     "start_time": "2020-08-17T04:02:48.003835Z"
    },
    "hidden": true
   },
   "outputs": [],
   "source": [
    "cuda.close()"
   ]
  },
  {
   "cell_type": "markdown",
   "metadata": {
    "ExecuteTime": {
     "end_time": "2020-08-17T04:03:24.762965Z",
     "start_time": "2020-08-17T04:03:24.758825Z"
    },
    "heading_collapsed": true,
    "hidden": true
   },
   "source": [
    "## (not working/ difficult in numba.cuda)try to use shared memory to speed up the diffusion simulation"
   ]
  },
  {
   "cell_type": "code",
   "execution_count": null,
   "metadata": {
    "ExecuteTime": {
     "end_time": "2020-08-17T04:03:59.354920Z",
     "start_time": "2020-08-17T04:03:59.328951Z"
    },
    "hidden": true
   },
   "outputs": [],
   "source": [
    "from numba import cuda, float32\n",
    "\n",
    "# Controls threads per block and shared memory usage.\n",
    "# The computation will be done on blocks of TPBxTPB elements.\n",
    "TPB = 10\n",
    "\n",
    "@cuda.jit\n",
    "def fast_matmul(A, B, C):\n",
    "    # Define an array in the shared memory\n",
    "    # The size and type of the arrays must be known at compile time\n",
    "    sA = cuda.shared.array(shape=(TPB, TPB), dtype=float64)\n",
    "    sB = cuda.shared.array(shape=(TPB, TPB), dtype=float64)\n",
    "\n",
    "    x, y = cuda.grid(2)\n",
    "\n",
    "    tx = cuda.threadIdx.x\n",
    "    ty = cuda.threadIdx.y\n",
    "    bpg = cuda.gridDim.x    # blocks per grid\n",
    "\n",
    "    if x >= C.shape[0] and y >= C.shape[1]:\n",
    "        # Quit if (x, y) is outside of valid C boundary\n",
    "        return\n",
    "\n",
    "    # Each thread computes one element in the result matrix.\n",
    "    # The dot product is chunked into dot products of TPB-long vectors.\n",
    "    tmp = 0.\n",
    "    for i in range(bpg):\n",
    "        # Preload data into shared memory\n",
    "        sA[tx, ty] = A[x, ty + i * TPB]\n",
    "        sB[tx, ty] = B[tx + i * TPB, y]\n",
    "\n",
    "        # Wait until all threads finish preloading\n",
    "        cuda.syncthreads()\n",
    "\n",
    "        # Computes partial product on the shared memory\n",
    "        for j in range(TPB):\n",
    "            tmp += sA[tx, j] * sB[j, ty]\n",
    "\n",
    "        # Wait until all threads finish computing\n",
    "        cuda.syncthreads()\n",
    "\n",
    "    C[x, y] = tmp"
   ]
  },
  {
   "cell_type": "code",
   "execution_count": null,
   "metadata": {
    "hidden": true
   },
   "outputs": [],
   "source": [
    "#model parameters\n",
    "diff_coef = 0.0005 #cm^2/ms\n",
    "h  = 0.025 #ms\n",
    "dx = 0.025 #cm\n",
    "cddx = 1/dx**2\n",
    "\n",
    "@cuda.jit\n",
    "def diffusion_kernel(Vin, Vout):\n",
    "    '''writes the simple diffusion term to Vout'''\n",
    "    height = Vin.shape[0]\n",
    "    width  = Vin.shape[1]\n",
    "    \n",
    "    # Define an array in the shared memory\n",
    "    # The size and type of the arrays must be known at compile time\n",
    "    sA = cuda.shared.array(shape=(TPB, TPB), dtype=float64)\n",
    "    sB = cuda.shared.array(shape=(TPB, TPB), dtype=float64\n",
    "#     #model parameters\n",
    "#     diff_coef = 0.0005 #cm^2/ms\n",
    "#     h  = 0.025 #ms\n",
    "#     dx = 0.025 #cm\n",
    "#     cddx = 1/dx**2\n",
    "    \n",
    "    startX, startY = cuda.grid(2)\n",
    "    gridX = cuda.gridDim.x * cuda.blockDim.x;\n",
    "    gridY = cuda.gridDim.y * cuda.blockDim.y;\n",
    "\n",
    "    for x in range(startX, width, gridX):\n",
    "        for y in range(startY, height, gridY):\n",
    "            up     = _pbc_gpu(Vin,y+1,x,height,width)\n",
    "            down   = _pbc_gpu(Vin,y-1,x,height,width)\n",
    "            left   = _pbc_gpu(Vin,y,x-1,height,width)\n",
    "            right  = _pbc_gpu(Vin,y,x+1,height,width)\n",
    "            center = _pbc_gpu(Vin,y,x,height,width)\n",
    "            \n",
    "            #five point stencil\n",
    "            dVlt2dt = up + down + left + right - 4 * center\n",
    "            dVlt2dt *= diff_coef * cddx\n",
    "            Vout[y,x] = center + h*dVlt2dt"
   ]
  },
  {
   "cell_type": "code",
   "execution_count": null,
   "metadata": {
    "ExecuteTime": {
     "end_time": "2020-08-17T04:18:40.529507Z",
     "start_time": "2020-08-17T04:18:40.525464Z"
    },
    "hidden": true
   },
   "outputs": [],
   "source": [
    "# # now make an n_forward_steps kernel\n",
    "# # @numba.njit\n",
    "# def take_2n_steps_forward_kernel(V1, V2, n):\n",
    "#     for step in range(n):\n",
    "#         diffusion_kernel[griddim, blockdim, stream](V1, V2)\n",
    "#         diffusion_kernel[griddim, blockdim, stream](V2, V1)\n",
    "\n",
    "cuda.gpus[0]"
   ]
  },
  {
   "cell_type": "code",
   "execution_count": null,
   "metadata": {
    "ExecuteTime": {
     "end_time": "2020-08-17T04:22:04.893208Z",
     "start_time": "2020-08-17T04:22:04.874613Z"
    },
    "hidden": true
   },
   "outputs": [],
   "source": [
    "import numba.cuda\n",
    "\n",
    "@numba.cuda.jit\n",
    "def smooth_gpu(x, out):\n",
    "    i, j = cuda.grid(2)\n",
    "    n, m = x.shape\n",
    "    if 1 <= i < n - 1 and 1 <= j < m - 1:\n",
    "        out[i, j] = (x[i - 1, j - 1] + x[i - 1, j] + x[i - 1, j + 1] +\n",
    "                     x[i    , j - 1] + x[i    , j] + x[i    , j + 1] +\n",
    "                     x[i + 1, j - 1] + x[i + 1, j] + x[i + 1, j + 1]) // 9\n",
    "\n",
    "import cupy, math\n",
    "\n",
    "x_gpu = cupy.ones((10000, 10000), dtype='int8')\n",
    "out_gpu = cupy.zeros((10000, 10000), dtype='int8')\n",
    "\n",
    "# I copied the four lines below from the Numba docs\n",
    "threadsperblock = (16, 16)\n",
    "blockspergrid_x = math.ceil(x_gpu.shape[0] / threadsperblock[0])\n",
    "blockspergrid_y = math.ceil(x_gpu.shape[1] / threadsperblock[1])\n",
    "blockspergrid = (blockspergrid_x, blockspergrid_y)\n",
    "\n",
    "smooth_gpu[blockspergrid, threadsperblock](x_gpu, out_gpu)"
   ]
  },
  {
   "cell_type": "markdown",
   "metadata": {
    "heading_collapsed": true
   },
   "source": [
    "# dev pycuda"
   ]
  },
  {
   "cell_type": "markdown",
   "metadata": {
    "hidden": true
   },
   "source": [
    "- DONE: finish installation at https://docs.nvidia.com/cuda/cuda-quick-start-guide/index.html#ubuntu-x86_64-deb\n",
    "- DONE: then finish following along with pycuda howdo https://benvanwerkhoven.github.io/kernel_tuner/diffusion.html\n",
    "- TODO: then include a local term for I_ion_gpu(V,f,s)\n",
    "- TODO: test the simulation out, visualize it.  Does it look reasonable?\n",
    "- TODO: tune the simulation for faster runtime using ^that howdo\n",
    "- TODO: include an optional stimulus field for 2ms for a given stimulus field (constant)\n",
    "- TODO: have nsteps_back, nsteps_forward, and consider using implicit midpoint rule."
   ]
  },
  {
   "cell_type": "code",
   "execution_count": null,
   "metadata": {
    "ExecuteTime": {
     "end_time": "2020-08-17T05:33:22.101623Z",
     "start_time": "2020-08-17T05:33:22.099294Z"
    },
    "hidden": true
   },
   "outputs": [],
   "source": [
    "# !pip install pycuda"
   ]
  },
  {
   "cell_type": "code",
   "execution_count": 26,
   "metadata": {
    "ExecuteTime": {
     "end_time": "2021-02-10T03:03:18.928705Z",
     "start_time": "2021-02-10T03:03:18.918500Z"
    },
    "hidden": true
   },
   "outputs": [],
   "source": [
    "#do the imports we need\n",
    "import numpy as np\n",
    "from matplotlib import pyplot\n",
    "%matplotlib inline\n",
    "\n",
    "from pylab import imshow, show\n",
    "from timeit import default_timer as timer\n",
    "\n",
    "import pycuda"
   ]
  },
  {
   "cell_type": "code",
   "execution_count": 13,
   "metadata": {
    "ExecuteTime": {
     "end_time": "2021-02-10T02:51:29.698156Z",
     "start_time": "2021-02-10T02:50:45.729189Z"
    },
    "hidden": true
   },
   "outputs": [
    {
     "ename": "KeyboardInterrupt",
     "evalue": "",
     "output_type": "error",
     "traceback": [
      "\u001b[0;31m---------------------------------------------------------------------------\u001b[0m",
      "\u001b[0;31mKeyboardInterrupt\u001b[0m                         Traceback (most recent call last)",
      "\u001b[0;32m<ipython-input-13-c8edd3edeb8b>\u001b[0m in \u001b[0;36m<module>\u001b[0;34m\u001b[0m\n\u001b[1;32m     21\u001b[0m \u001b[0max1\u001b[0m\u001b[0;34m.\u001b[0m\u001b[0mimshow\u001b[0m\u001b[0;34m(\u001b[0m\u001b[0mfield\u001b[0m\u001b[0;34m)\u001b[0m\u001b[0;34m\u001b[0m\u001b[0;34m\u001b[0m\u001b[0m\n\u001b[1;32m     22\u001b[0m \u001b[0;32mfor\u001b[0m \u001b[0mi\u001b[0m \u001b[0;32min\u001b[0m \u001b[0mrange\u001b[0m\u001b[0;34m(\u001b[0m\u001b[0;36m2000\u001b[0m\u001b[0;34m)\u001b[0m\u001b[0;34m:\u001b[0m\u001b[0;34m\u001b[0m\u001b[0;34m\u001b[0m\u001b[0m\n\u001b[0;32m---> 23\u001b[0;31m     \u001b[0mfield\u001b[0m \u001b[0;34m=\u001b[0m \u001b[0mdiffuse\u001b[0m\u001b[0;34m(\u001b[0m\u001b[0mfield\u001b[0m\u001b[0;34m)\u001b[0m\u001b[0;34m\u001b[0m\u001b[0;34m\u001b[0m\u001b[0m\n\u001b[0m\u001b[1;32m     24\u001b[0m \u001b[0max2\u001b[0m\u001b[0;34m.\u001b[0m\u001b[0mimshow\u001b[0m\u001b[0;34m(\u001b[0m\u001b[0mfield\u001b[0m\u001b[0;34m)\u001b[0m\u001b[0;34m\u001b[0m\u001b[0;34m\u001b[0m\u001b[0m\n",
      "\u001b[0;32m<ipython-input-13-c8edd3edeb8b>\u001b[0m in \u001b[0;36mdiffuse\u001b[0;34m(field, dt)\u001b[0m\n\u001b[1;32m      2\u001b[0m     field[1:nx-1,1:ny-1] = field[1:nx-1,1:ny-1] + dt * (\n\u001b[1;32m      3\u001b[0m         \u001b[0mfield\u001b[0m\u001b[0;34m[\u001b[0m\u001b[0;36m1\u001b[0m\u001b[0;34m:\u001b[0m\u001b[0mnx\u001b[0m\u001b[0;34m-\u001b[0m\u001b[0;36m1\u001b[0m\u001b[0;34m,\u001b[0m\u001b[0;36m2\u001b[0m\u001b[0;34m:\u001b[0m\u001b[0mny\u001b[0m\u001b[0;34m]\u001b[0m\u001b[0;34m+\u001b[0m\u001b[0mfield\u001b[0m\u001b[0;34m[\u001b[0m\u001b[0;36m2\u001b[0m\u001b[0;34m:\u001b[0m\u001b[0mnx\u001b[0m\u001b[0;34m,\u001b[0m\u001b[0;36m1\u001b[0m\u001b[0;34m:\u001b[0m\u001b[0mny\u001b[0m\u001b[0;34m-\u001b[0m\u001b[0;36m1\u001b[0m\u001b[0;34m]\u001b[0m\u001b[0;34m-\u001b[0m\u001b[0;36m4\u001b[0m\u001b[0;34m*\u001b[0m\u001b[0mfield\u001b[0m\u001b[0;34m[\u001b[0m\u001b[0;36m1\u001b[0m\u001b[0;34m:\u001b[0m\u001b[0mnx\u001b[0m\u001b[0;34m-\u001b[0m\u001b[0;36m1\u001b[0m\u001b[0;34m,\u001b[0m\u001b[0;36m1\u001b[0m\u001b[0;34m:\u001b[0m\u001b[0mny\u001b[0m\u001b[0;34m-\u001b[0m\u001b[0;36m1\u001b[0m\u001b[0;34m]\u001b[0m\u001b[0;34m+\u001b[0m\u001b[0;34m\u001b[0m\u001b[0;34m\u001b[0m\u001b[0m\n\u001b[0;32m----> 4\u001b[0;31m         field[0:nx-2,1:ny-1]+field[1:nx-1,0:ny-2] )\n\u001b[0m\u001b[1;32m      5\u001b[0m     \u001b[0;32mreturn\u001b[0m \u001b[0mfield\u001b[0m\u001b[0;34m\u001b[0m\u001b[0;34m\u001b[0m\u001b[0m\n\u001b[1;32m      6\u001b[0m \u001b[0;34m\u001b[0m\u001b[0m\n",
      "\u001b[0;31mKeyboardInterrupt\u001b[0m: "
     ]
    },
    {
     "data": {
      "image/png": "[encoded data removed]",
      "text/plain": [
       "<Figure size 432x288 with 2 Axes>"
      ]
     },
     "metadata": {
      "needs_background": "light"
     },
     "output_type": "display_data"
    }
   ],
   "source": [
    "def diffuse(field, dt=0.225):\n",
    "    field[1:nx-1,1:ny-1] = field[1:nx-1,1:ny-1] + dt * (\n",
    "        field[1:nx-1,2:ny]+field[2:nx,1:ny-1]-4*field[1:nx-1,1:ny-1]+\n",
    "        field[0:nx-2,1:ny-1]+field[1:nx-1,0:ny-2] )\n",
    "    return field\n",
    "\n",
    "nx = 1024\n",
    "ny = 1024\n",
    "\n",
    "#setup initial conditions\n",
    "def get_initial_conditions(nx, ny):\n",
    "    field = np.ones((ny, nx)).astype(np.float32)\n",
    "    field[np.random.randint(0,nx,size=10), np.random.randint(0,ny,size=10)] = 1e3\n",
    "    return field\n",
    "field = get_initial_conditions(nx, ny)\n",
    "\n",
    "#run the diffuse function a 1000 times and another 2000 times and make plots\n",
    "fig, (ax1, ax2) = pyplot.subplots(1,2)\n",
    "for i in range(1000):\n",
    "    field = diffuse(field)\n",
    "ax1.imshow(field)\n",
    "for i in range(2000):\n",
    "    field = diffuse(field)\n",
    "ax2.imshow(field)"
   ]
  },
  {
   "cell_type": "code",
   "execution_count": null,
   "metadata": {
    "ExecuteTime": {
     "end_time": "2020-08-18T01:18:54.397477Z",
     "start_time": "2020-08-18T01:17:27.466447Z"
    },
    "hidden": true
   },
   "outputs": [],
   "source": [
    "#save the current field for later use\n",
    "field_copy = np.copy(field)\n",
    "iterations = 10**4\n",
    "\n",
    "#run another 1000 steps of the diffuse function and measure the time\n",
    "from time import time\n",
    "start = time()\n",
    "for i in range(2*iterations):\n",
    "    field = diffuse(field)\n",
    "end = time()\n",
    "print(f\"{iterations*2} steps of diffuse took\", (end-start)*1000.0, \"ms\")\n",
    "pyplot.imshow(field)"
   ]
  },
  {
   "cell_type": "code",
   "execution_count": null,
   "metadata": {
    "ExecuteTime": {
     "end_time": "2020-08-18T01:29:36.023342Z",
     "start_time": "2020-08-18T01:29:36.019577Z"
    },
    "hidden": true
   },
   "outputs": [],
   "source": [
    "def get_kernel_string(nx, ny):\n",
    "    return \"\"\"\n",
    "    #define nx %d\n",
    "    #define ny %d\n",
    "    #define dt 0.225f\n",
    "    __global__ void diffuse_kernel(float *u_new, float *u) {\n",
    "        int x = blockIdx.x * block_size_x + threadIdx.x;\n",
    "        int y = blockIdx.y * block_size_y + threadIdx.y;\n",
    "\n",
    "        if (x>0 && x<nx-1 && y>0 && y<ny-1) {\n",
    "            u_new[y*nx+x] = u[y*nx+x] + dt * (\n",
    "                u[(y+1)*nx+x]+u[y*nx+x+1]-4.0f*u[y*nx+x]+u[y*nx+x-1]+u[(y-1)*nx+x]);\n",
    "        }\n",
    "    }\n",
    "    \"\"\" % (nx, ny)\n",
    "kernel_string = get_kernel_string(nx, ny)"
   ]
  },
  {
   "cell_type": "code",
   "execution_count": 25,
   "metadata": {
    "ExecuteTime": {
     "end_time": "2021-02-10T03:03:07.488208Z",
     "start_time": "2021-02-10T03:03:07.476026Z"
    },
    "hidden": true
   },
   "outputs": [],
   "source": [
    "#do the imports we need\n",
    "import numpy as np\n",
    "from matplotlib import pyplot\n",
    "%matplotlib inline\n",
    "\n",
    "from pylab import imshow, show\n",
    "from timeit import default_timer as timer\n",
    "\n",
    "import pycuda\n",
    "\n",
    "import pycuda.driver as drv\n",
    "from pycuda.compiler import SourceModule\n",
    "\n"
   ]
  },
  {
   "cell_type": "code",
   "execution_count": null,
   "metadata": {
    "ExecuteTime": {
     "end_time": "2020-08-18T01:19:03.536365Z",
     "start_time": "2020-08-18T01:19:03.456744Z"
    },
    "hidden": true
   },
   "outputs": [],
   "source": [
    "#initialize PyCuda and get compute capability needed for compilation\n",
    "drv.init()\n",
    "context = drv.Device(0).make_context()\n",
    "devprops = { str(k): v for (k, v) in context.get_device().get_attributes().items() }\n",
    "cc = str(devprops['COMPUTE_CAPABILITY_MAJOR']) + str(devprops['COMPUTE_CAPABILITY_MINOR'])\n",
    "\n",
    "\n",
    "\n",
    "#allocate GPU memory\n",
    "u_old = drv.mem_alloc(field_copy.nbytes)\n",
    "u_new = drv.mem_alloc(field_copy.nbytes)\n",
    "\n",
    "\n",
    "\n",
    "#setup thread block dimensions and compile the kernel\n",
    "threads = (16,16,1)\n",
    "grid = (int(nx/16), int(ny/16), 1)\n",
    "block_size_string = \"#define block_size_x 16\\n#define block_size_y 16\\n\"\n",
    "\n",
    "#CRASH: the following line will not run because my gcc compiler is too new for pycuda...\n",
    "# diffuse_kernel = SourceModule(block_size_string+kernel_string,\n",
    "#                               arch='sm_'+cc).get_function(\"diffuse_kernel\")\n",
    "\n",
    "diffuse_kernel = SourceModule(block_size_string+kernel_string).get_function(\"diffuse_kernel\")\n",
    "\n",
    "\n",
    "#create events for measuring performance\n",
    "start = drv.Event()\n",
    "end = drv.Event()"
   ]
  },
  {
   "cell_type": "code",
   "execution_count": null,
   "metadata": {
    "ExecuteTime": {
     "end_time": "2020-08-18T01:19:04.635577Z",
     "start_time": "2020-08-18T01:19:03.789248Z"
    },
    "hidden": true
   },
   "outputs": [],
   "source": [
    "#move the data to the GPU\n",
    "drv.memcpy_htod(u_old, field_copy)\n",
    "drv.memcpy_htod(u_new, field_copy)\n",
    "# iterations = 10**4\n",
    "#call the GPU kernel a 1000 times and measure performance\n",
    "context.synchronize()\n",
    "start.record()\n",
    "for i in range(iterations):\n",
    "    diffuse_kernel(u_new, u_old, block=threads, grid=grid)\n",
    "    diffuse_kernel(u_old, u_new, block=threads, grid=grid)\n",
    "end.record()\n",
    "context.synchronize()\n",
    "print(f\"{iterations*2} steps of diffuse took\", end.time_since(start), \"ms.\")\n",
    "\n",
    "#copy the result from the GPU to Python for plotting\n",
    "gpu_result = numpy.zeros_like(field_copy)\n",
    "drv.memcpy_dtoh(gpu_result, u_new)\n",
    "fig, (ax1, ax2) = pyplot.subplots(1,2)\n",
    "ax1.imshow(gpu_result)\n",
    "ax1.set_title(\"GPU Result\")\n",
    "ax2.imshow(field)\n",
    "ax2.set_title(\"Python Result\")"
   ]
  },
  {
   "cell_type": "markdown",
   "metadata": {
    "ExecuteTime": {
     "end_time": "2020-08-17T04:35:29.382947Z",
     "start_time": "2020-08-17T04:35:29.374871Z"
    },
    "heading_collapsed": true
   },
   "source": [
    "# pycuda kernel autotuning is suprisingly easy"
   ]
  },
  {
   "cell_type": "code",
   "execution_count": 28,
   "metadata": {
    "ExecuteTime": {
     "end_time": "2021-02-10T03:14:08.844204Z",
     "start_time": "2021-02-10T03:14:07.194863Z"
    },
    "hidden": true
   },
   "outputs": [
    {
     "ename": "NameError",
     "evalue": "name 'width' is not defined",
     "output_type": "error",
     "traceback": [
      "\u001b[0;31m---------------------------------------------------------------------------\u001b[0m",
      "\u001b[0;31mNameError\u001b[0m                                 Traceback (most recent call last)",
      "\u001b[0;32m<ipython-input-28-9fd34b9e04bc>\u001b[0m in \u001b[0;36m<module>\u001b[0;34m\u001b[0m\n\u001b[1;32m      4\u001b[0m \u001b[0;31m# kernel_string = get_kernel_string(nx, ny)\u001b[0m\u001b[0;34m\u001b[0m\u001b[0;34m\u001b[0m\u001b[0;34m\u001b[0m\u001b[0m\n\u001b[1;32m      5\u001b[0m \u001b[0;31m# kernel_string = get_kernel_string(nx, ny, D = 0.0005, dt = 0.025, dx = 0.025)\u001b[0m\u001b[0;34m\u001b[0m\u001b[0;34m\u001b[0m\u001b[0;34m\u001b[0m\u001b[0m\n\u001b[0;32m----> 6\u001b[0;31m \u001b[0mkernel_string\u001b[0m \u001b[0;34m=\u001b[0m \u001b[0mget_kernel_string_FK_model\u001b[0m\u001b[0;34m(\u001b[0m \u001b[0mDX\u001b[0m\u001b[0;34m=\u001b[0m\u001b[0;36m0.025\u001b[0m\u001b[0;34m,\u001b[0m\u001b[0mDT\u001b[0m\u001b[0;34m=\u001b[0m\u001b[0;36m0.025\u001b[0m\u001b[0;34m,\u001b[0m\u001b[0mwidth\u001b[0m\u001b[0;34m=\u001b[0m\u001b[0mwidth\u001b[0m\u001b[0;34m,\u001b[0m\u001b[0mheight\u001b[0m\u001b[0;34m=\u001b[0m\u001b[0mheight\u001b[0m\u001b[0;34m,\u001b[0m\u001b[0;34m**\u001b[0m\u001b[0mkwargs\u001b[0m\u001b[0;34m)\u001b[0m\u001b[0;34m\u001b[0m\u001b[0;34m\u001b[0m\u001b[0m\n\u001b[0m",
      "\u001b[0;31mNameError\u001b[0m: name 'width' is not defined"
     ]
    }
   ],
   "source": [
    "nx = 4096\n",
    "ny = 4096\n",
    "field = get_initial_conditions(nx, ny)\n",
    "# kernel_string = get_kernel_string(nx, ny)\n",
    "# kernel_string = get_kernel_string(nx, ny, D = 0.0005, dt = 0.025, dx = 0.025)\n",
    "kernel_string = get_kernel_string_FK_model( DX=0.025,DT=0.025,width=width,height=height,**kwargs)\n"
   ]
  },
  {
   "cell_type": "code",
   "execution_count": 24,
   "metadata": {
    "ExecuteTime": {
     "end_time": "2021-02-10T03:03:02.231810Z",
     "start_time": "2021-02-10T03:03:02.222204Z"
    },
    "hidden": true
   },
   "outputs": [],
   "source": [
    "from collections import OrderedDict\n",
    "tune_params = OrderedDict()\n",
    "tune_params[\"block_size_x\"] = [16, 32, 48, 64, 128]\n",
    "tune_params[\"block_size_y\"] = [2, 4, 8, 16, 32,64,128]"
   ]
  },
  {
   "cell_type": "code",
   "execution_count": 19,
   "metadata": {
    "ExecuteTime": {
     "end_time": "2021-02-10T03:02:44.901570Z",
     "start_time": "2021-02-10T03:02:44.898007Z"
    },
    "hidden": true
   },
   "outputs": [],
   "source": [
    "args = [field, field]\n"
   ]
  },
  {
   "cell_type": "code",
   "execution_count": 20,
   "metadata": {
    "ExecuteTime": {
     "end_time": "2021-02-10T03:02:45.362370Z",
     "start_time": "2021-02-10T03:02:45.358911Z"
    },
    "hidden": true
   },
   "outputs": [],
   "source": [
    "problem_size = (nx, ny)"
   ]
  },
  {
   "cell_type": "code",
   "execution_count": 21,
   "metadata": {
    "ExecuteTime": {
     "end_time": "2021-02-10T03:02:49.419992Z",
     "start_time": "2021-02-10T03:02:49.371920Z"
    },
    "hidden": true
   },
   "outputs": [
    {
     "ename": "NameError",
     "evalue": "name 'kernel_string' is not defined",
     "output_type": "error",
     "traceback": [
      "\u001b[0;31m---------------------------------------------------------------------------\u001b[0m",
      "\u001b[0;31mNameError\u001b[0m                                 Traceback (most recent call last)",
      "\u001b[0;32m<ipython-input-21-c26ed15ad5d1>\u001b[0m in \u001b[0;36m<module>\u001b[0;34m\u001b[0m\n\u001b[1;32m      1\u001b[0m \u001b[0;32mfrom\u001b[0m \u001b[0mkernel_tuner\u001b[0m \u001b[0;32mimport\u001b[0m \u001b[0mtune_kernel\u001b[0m\u001b[0;34m\u001b[0m\u001b[0;34m\u001b[0m\u001b[0m\n\u001b[0;32m----> 2\u001b[0;31m \u001b[0mresult\u001b[0m \u001b[0;34m=\u001b[0m \u001b[0mtune_kernel\u001b[0m\u001b[0;34m(\u001b[0m\u001b[0;34m\"diffuse_kernel\"\u001b[0m\u001b[0;34m,\u001b[0m \u001b[0mkernel_string\u001b[0m\u001b[0;34m,\u001b[0m \u001b[0mproblem_size\u001b[0m\u001b[0;34m,\u001b[0m \u001b[0margs\u001b[0m\u001b[0;34m,\u001b[0m \u001b[0mtune_params\u001b[0m\u001b[0;34m)\u001b[0m\u001b[0;34m\u001b[0m\u001b[0;34m\u001b[0m\u001b[0m\n\u001b[0m",
      "\u001b[0;31mNameError\u001b[0m: name 'kernel_string' is not defined"
     ]
    }
   ],
   "source": [
    "from kernel_tuner import tune_kernel\n",
    "result = tune_kernel(\"diffuse_kernel\", kernel_string, problem_size, args, tune_params)"
   ]
  },
  {
   "cell_type": "markdown",
   "metadata": {
    "hidden": true
   },
   "source": [
    "best performing configuration: block_size_x=16, block_size_y=32, time=1.1265325716563634ms\n"
   ]
  },
  {
   "cell_type": "code",
   "execution_count": 47,
   "metadata": {
    "ExecuteTime": {
     "end_time": "2020-08-18T04:49:51.056550Z",
     "start_time": "2020-08-18T04:49:51.051617Z"
    },
    "hidden": true
   },
   "outputs": [
    {
     "data": {
      "text/plain": [
       "12.0"
      ]
     },
     "execution_count": 47,
     "metadata": {},
     "output_type": "execute_result"
    }
   ],
   "source": [
    "# !pip install kernel_tuner\n",
    "np.log2(4096)\n"
   ]
  },
  {
   "cell_type": "markdown",
   "metadata": {
    "heading_collapsed": true
   },
   "source": [
    "# diffusion with pbc on a pycuda kernel\n",
    "- TODO: get the sim working on a 200x200 grid.\n",
    "        - NB: note that width does not need to equal nx...\n",
    "- TODO: get the sim working with my own defined initial conditions"
   ]
  },
  {
   "cell_type": "code",
   "execution_count": 19,
   "metadata": {
    "ExecuteTime": {
     "end_time": "2020-08-18T04:38:23.026798Z",
     "start_time": "2020-08-18T04:38:22.924049Z"
    },
    "hidden": true
   },
   "outputs": [],
   "source": [
    "#do the imports we need\n",
    "import numpy as np\n",
    "from matplotlib import pyplot\n",
    "%matplotlib inline\n",
    "import matplotlib.pyplot as plt\n",
    "from pylab import imshow, show\n",
    "from timeit import default_timer as timer\n",
    "\n",
    "import pycuda\n",
    "\n",
    "import pycuda.driver as drv\n",
    "from pycuda.compiler import SourceModule\n",
    "\n",
    "#run this once.  if you run in ~30 times, you will get the following error\n",
    "# MemoryError: cuCtxCreate failed: out of memory \n",
    "#initialize PyCuda and get compute capability needed for compilation\n",
    "drv.init()\n",
    "context = drv.Device(0).make_context()\n",
    "devprops = { str(k): v for (k, v) in context.get_device().get_attributes().items() }\n",
    "cc = str(devprops['COMPUTE_CAPABILITY_MAJOR']) + str(devprops['COMPUTE_CAPABILITY_MINOR'])\n"
   ]
  },
  {
   "cell_type": "code",
   "execution_count": 20,
   "metadata": {
    "ExecuteTime": {
     "end_time": "2020-08-18T04:38:24.483298Z",
     "start_time": "2020-08-18T04:38:24.475108Z"
    },
    "hidden": true
   },
   "outputs": [],
   "source": []
  },
  {
   "cell_type": "code",
   "execution_count": 24,
   "metadata": {
    "ExecuteTime": {
     "end_time": "2020-08-18T04:39:05.384229Z",
     "start_time": "2020-08-18T04:39:04.649071Z"
    },
    "hidden": true
   },
   "outputs": [],
   "source": [
    "nx = 1024#200#1024\n",
    "ny = 1024#200#1024\n",
    "threads = (16,16,1)\n",
    "grid = (int(nx/16), int(ny/16), 1)\n",
    "block_size_string = \"#define block_size_x 16\\n#define block_size_y 16\\n\"\n",
    "\n",
    "\n",
    "# #save the ic field for later use\n",
    "# Vin  = np.array([256*x*(y+1) for x in range(nx) for y in range(ny)]).reshape((nx,ny))\n",
    "# field = Vin.copy()\n",
    "ic = get_initial_conditions(nx, ny)\n",
    "field = ic.copy()\n",
    "\n",
    "field_copy = field.copy()\n",
    "for q in range(100):\n",
    "    field_copy = diffuse(field_copy)"
   ]
  },
  {
   "cell_type": "code",
   "execution_count": 36,
   "metadata": {
    "ExecuteTime": {
     "end_time": "2020-08-18T04:43:40.295646Z",
     "start_time": "2020-08-18T04:43:40.290783Z"
    },
    "hidden": true,
    "run_control": {
     "marked": false
    }
   },
   "outputs": [],
   "source": [
    "def get_kernel_string(nx, ny, D, dt, dx):\n",
    "    return f\"\"\"\n",
    "#define nx {int(nx)}\n",
    "#define ny {int(ny)}\n",
    "#define width nx\n",
    "#define height ny\n",
    "#define dcoef {float(D*dt/dx**2)}\n",
    "\n",
    "// periodic boundary conditions\n",
    "__device__ int _pbc ( int q, int wid ) {{\n",
    "    if (q >= wid) {{\n",
    "        q = 1;\n",
    "    }}\n",
    "    if (q <= 0) {{\n",
    "        q = wid-1;\n",
    "    }}\n",
    "     return q;\n",
    "}}\n",
    "\n",
    "// main kernel/face shader\n",
    "__global__ void diffuse_kernel(float *u_new, float *u) {{\n",
    "    int x = blockIdx.x * block_size_x + threadIdx.x;\n",
    "    int y = blockIdx.y * block_size_y + threadIdx.y;\n",
    "    if (x>=0 && x<nx && y>=0 && y<ny) {{\n",
    "            int up    = _pbc(y+1,height);\n",
    "            int down  = _pbc(y-1,height);\n",
    "            int left  = _pbc(x-1, width);\n",
    "            int right = _pbc(x+1, width);\n",
    "            \n",
    "            u_new[y*nx+x] = u[y*nx+x] + dcoef * (\n",
    "            u[(up)*nx+x]+u[y*nx+right]\n",
    "            -4.0f*u[y*nx+x]\n",
    "            +u[y*nx+left]+u[(down)*nx+x]\n",
    "            );\n",
    "    }}\n",
    "}}\n",
    "    \"\"\"   \n",
    "#TODO: unallocate device memory\n",
    "#     free(a_h); free(b_h); cudaFree(a_d); cudaFree(b_d)"
   ]
  },
  {
   "cell_type": "code",
   "execution_count": 39,
   "metadata": {
    "ExecuteTime": {
     "end_time": "2020-08-18T04:45:50.891138Z",
     "start_time": "2020-08-18T04:45:42.935150Z"
    },
    "hidden": true
   },
   "outputs": [
    {
     "name": "stdout",
     "output_type": "stream",
     "text": [
      "200000 steps of diffuse took 7700 ms.\n"
     ]
    },
    {
     "data": {
      "image/png": "[encoded data removed]",
      "text/plain": [
       "<Figure size 432x288 with 2 Axes>"
      ]
     },
     "metadata": {
      "needs_background": "light"
     },
     "output_type": "display_data"
    }
   ],
   "source": [
    "kernel_string = get_kernel_string(nx, ny, D = 0.0005, dt = 0.025, dx = 0.025)\n",
    "# kernel_string = get_kernel_string(nx, ny)\n",
    "\n",
    "field = ic.copy()\n",
    "\n",
    "iterations = 10**4\n",
    "\n",
    "#allocate GPU memory\n",
    "u_old = drv.mem_alloc(field_copy.nbytes)\n",
    "u_new = drv.mem_alloc(field_copy.nbytes)\n",
    "#setup thread block dimensions and compile the kernel\n",
    "diffuse_kernel = SourceModule(block_size_string+kernel_string).get_function(\"diffuse_kernel\")\n",
    "#create events for measuring performance\n",
    "start = drv.Event()\n",
    "end = drv.Event()\n",
    "#move the data to the GPU\n",
    "drv.memcpy_htod(u_old, field_copy)\n",
    "drv.memcpy_htod(u_new, field_copy)\n",
    "#call the GPU kernel a 1000 times and measure performance\n",
    "context.synchronize()\n",
    "start.record()\n",
    "for i in range(iterations):\n",
    "    diffuse_kernel(u_new, u_old, block=threads, grid=grid)\n",
    "    diffuse_kernel(u_old, u_new, block=threads, grid=grid)\n",
    "end.record()\n",
    "context.synchronize()\n",
    "print(f\"{iterations*2} steps of diffuse took {end.time_since(start):.0f} ms.\")\n",
    "\n",
    "#copy the result from the GPU to Python for plotting\n",
    "gpu_result = np.zeros_like(field_copy)\n",
    "drv.memcpy_dtoh(gpu_result, u_new)\n",
    "fig, (ax1, ax2) = pyplot.subplots(1,2)\n",
    "\n",
    "ax1.imshow(field_copy)\n",
    "ax1.set_title(\"Initial Conditions\")\n",
    "ax2.imshow(gpu_result)\n",
    "ax2.set_title(\"GPU Result\")\n",
    "plt.show()"
   ]
  },
  {
   "cell_type": "code",
   "execution_count": null,
   "metadata": {
    "ExecuteTime": {
     "end_time": "2020-08-18T01:33:45.978216Z",
     "start_time": "2020-08-18T01:33:45.958246Z"
    },
    "hidden": true
   },
   "outputs": [],
   "source": []
  },
  {
   "cell_type": "code",
   "execution_count": 6,
   "metadata": {
    "ExecuteTime": {
     "end_time": "2020-08-18T04:35:21.161816Z",
     "start_time": "2020-08-18T04:35:21.157685Z"
    },
    "hidden": true
   },
   "outputs": [
    {
     "data": {
      "text/plain": [
       "64.0"
      ]
     },
     "execution_count": 6,
     "metadata": {},
     "output_type": "execute_result"
    }
   ],
   "source": [
    "1024/16"
   ]
  },
  {
   "cell_type": "code",
   "execution_count": 35,
   "metadata": {
    "ExecuteTime": {
     "end_time": "2020-08-18T04:42:49.274581Z",
     "start_time": "2020-08-18T04:42:49.271200Z"
    },
    "hidden": true
   },
   "outputs": [
    {
     "name": "stdout",
     "output_type": "stream",
     "text": [
      "5 seconds of simulation time simulated in 7.7 seconds of real time!\n"
     ]
    }
   ],
   "source": [
    "200000*0.025\n",
    "print('5 seconds of simulation time simulated in 7.7 seconds of real time!')"
   ]
  },
  {
   "cell_type": "markdown",
   "metadata": {
    "heading_collapsed": true
   },
   "source": [
    "# diffusion with pbc on a pycuda kernel\n",
    "- TODO: get the sim working on a 200x200 grid.\n",
    "        - NB: note that width does not need to equal nx...\n",
    "- TODO: get the sim working with my own defined initial conditions"
   ]
  },
  {
   "cell_type": "code",
   "execution_count": 10,
   "metadata": {
    "ExecuteTime": {
     "end_time": "2020-08-20T17:44:47.394579Z",
     "start_time": "2020-08-20T17:44:47.318476Z"
    },
    "hidden": true
   },
   "outputs": [
    {
     "ename": "Error",
     "evalue": "cuInit failed: unknown error",
     "output_type": "error",
     "traceback": [
      "\u001b[0;31m---------------------------------------------------------------------------\u001b[0m",
      "\u001b[0;31mError\u001b[0m                                     Traceback (most recent call last)",
      "\u001b[0;32m<ipython-input-10-3b6e00721367>\u001b[0m in \u001b[0;36m<module>\u001b[0;34m\u001b[0m\n\u001b[1;32m     14\u001b[0m \u001b[0;31m# MemoryError: cuCtxCreate failed: out of memory\u001b[0m\u001b[0;34m\u001b[0m\u001b[0;34m\u001b[0m\u001b[0;34m\u001b[0m\u001b[0m\n\u001b[1;32m     15\u001b[0m \u001b[0;31m#initialize PyCuda and get compute capability needed for compilation\u001b[0m\u001b[0;34m\u001b[0m\u001b[0;34m\u001b[0m\u001b[0;34m\u001b[0m\u001b[0m\n\u001b[0;32m---> 16\u001b[0;31m \u001b[0mdrv\u001b[0m\u001b[0;34m.\u001b[0m\u001b[0minit\u001b[0m\u001b[0;34m(\u001b[0m\u001b[0;34m)\u001b[0m\u001b[0;34m\u001b[0m\u001b[0;34m\u001b[0m\u001b[0m\n\u001b[0m\u001b[1;32m     17\u001b[0m \u001b[0mcontext\u001b[0m \u001b[0;34m=\u001b[0m \u001b[0mdrv\u001b[0m\u001b[0;34m.\u001b[0m\u001b[0mDevice\u001b[0m\u001b[0;34m(\u001b[0m\u001b[0;36m0\u001b[0m\u001b[0;34m)\u001b[0m\u001b[0;34m.\u001b[0m\u001b[0mmake_context\u001b[0m\u001b[0;34m(\u001b[0m\u001b[0;34m)\u001b[0m\u001b[0;34m\u001b[0m\u001b[0;34m\u001b[0m\u001b[0m\n\u001b[1;32m     18\u001b[0m \u001b[0mdevprops\u001b[0m \u001b[0;34m=\u001b[0m \u001b[0;34m{\u001b[0m \u001b[0mstr\u001b[0m\u001b[0;34m(\u001b[0m\u001b[0mk\u001b[0m\u001b[0;34m)\u001b[0m\u001b[0;34m:\u001b[0m \u001b[0mv\u001b[0m \u001b[0;32mfor\u001b[0m \u001b[0;34m(\u001b[0m\u001b[0mk\u001b[0m\u001b[0;34m,\u001b[0m \u001b[0mv\u001b[0m\u001b[0;34m)\u001b[0m \u001b[0;32min\u001b[0m \u001b[0mcontext\u001b[0m\u001b[0;34m.\u001b[0m\u001b[0mget_device\u001b[0m\u001b[0;34m(\u001b[0m\u001b[0;34m)\u001b[0m\u001b[0;34m.\u001b[0m\u001b[0mget_attributes\u001b[0m\u001b[0;34m(\u001b[0m\u001b[0;34m)\u001b[0m\u001b[0;34m.\u001b[0m\u001b[0mitems\u001b[0m\u001b[0;34m(\u001b[0m\u001b[0;34m)\u001b[0m \u001b[0;34m}\u001b[0m\u001b[0;34m\u001b[0m\u001b[0;34m\u001b[0m\u001b[0m\n",
      "\u001b[0;31mError\u001b[0m: cuInit failed: unknown error"
     ]
    }
   ],
   "source": [
    "#do the imports we need\n",
    "import numpy as np\n",
    "from matplotlib import pyplot\n",
    "%matplotlib inline\n",
    "import matplotlib.pyplot as plt\n",
    "from pylab import imshow, show\n",
    "from timeit import default_timer as timer\n",
    "import pycuda\n",
    "# pycuda.autoinit\n",
    "import pycuda.driver as drv\n",
    "from pycuda.compiler import SourceModule\n",
    "\n",
    "#run drv.Device(0).make_context() only once.  if you run in ~30 times, you will get the following error\n",
    "# MemoryError: cuCtxCreate failed: out of memory \n",
    "#initialize PyCuda and get compute capability needed for compilation\n",
    "drv.init()\n",
    "context = drv.Device(0).make_context()\n",
    "devprops = { str(k): v for (k, v) in context.get_device().get_attributes().items() }\n",
    "cc = str(devprops['COMPUTE_CAPABILITY_MAJOR']) + str(devprops['COMPUTE_CAPABILITY_MINOR'])\n"
   ]
  },
  {
   "cell_type": "code",
   "execution_count": 20,
   "metadata": {
    "ExecuteTime": {
     "end_time": "2020-08-18T04:38:24.483298Z",
     "start_time": "2020-08-18T04:38:24.475108Z"
    },
    "hidden": true
   },
   "outputs": [],
   "source": [
    "#setup initial conditions\n",
    "def get_initial_conditions(nx, ny):\n",
    "    field = np.ones((ny, nx)).astype(np.float32)\n",
    "    field[np.random.randint(0,nx,size=10), np.random.randint(0,ny,size=10)] = 1e3\n",
    "    return field\n",
    "\n",
    "def diffuse(field, dt=0.225):\n",
    "    field[1:nx-1,1:ny-1] = field[1:nx-1,1:ny-1] + dt * (\n",
    "        field[1:nx-1,2:ny]+field[2:nx,1:ny-1]-4*field[1:nx-1,1:ny-1]+\n",
    "        field[0:nx-2,1:ny-1]+field[1:nx-1,0:ny-2] )\n",
    "    return field"
   ]
  },
  {
   "cell_type": "code",
   "execution_count": 24,
   "metadata": {
    "ExecuteTime": {
     "end_time": "2020-08-18T04:39:05.384229Z",
     "start_time": "2020-08-18T04:39:04.649071Z"
    },
    "hidden": true
   },
   "outputs": [],
   "source": [
    "nx = 1024#200#1024\n",
    "ny = 1024#200#1024\n",
    "threads = (16,16,1)\n",
    "grid = (int(nx/16), int(ny/16), 1)\n",
    "block_size_string = \"#define block_size_x 16\\n#define block_size_y 16\\n\"\n",
    "\n",
    "\n",
    "# #save the ic field for later use\n",
    "# Vin  = np.array([256*x*(y+1) for x in range(nx) for y in range(ny)]).reshape((nx,ny))\n",
    "# field = Vin.copy()\n",
    "ic = get_initial_conditions(nx, ny)\n",
    "field = ic.copy()\n",
    "\n",
    "field_copy = field.copy()\n",
    "for q in range(100):\n",
    "    field_copy = diffuse(field_copy)"
   ]
  },
  {
   "cell_type": "code",
   "execution_count": 36,
   "metadata": {
    "ExecuteTime": {
     "end_time": "2020-08-18T04:43:40.295646Z",
     "start_time": "2020-08-18T04:43:40.290783Z"
    },
    "hidden": true,
    "run_control": {
     "marked": false
    }
   },
   "outputs": [],
   "source": [
    "def get_kernel_string(nx, ny, D, dt, dx):\n",
    "    return f\"\"\"\n",
    "#define nx {int(nx)}\n",
    "#define ny {int(ny)}\n",
    "#define width nx\n",
    "#define height ny\n",
    "#define dcoef {float(D*dt/dx**2)}\n",
    "\n",
    "// periodic boundary conditions\n",
    "__device__ int _pbc ( int q, int wid ) {{\n",
    "    if (q >= wid) {{\n",
    "        q = 1;\n",
    "    }}\n",
    "    if (q <= 0) {{\n",
    "        q = wid-1;\n",
    "    }}\n",
    "     return q;\n",
    "}}\n",
    "\n",
    "// main kernel/face shader\n",
    "__global__ void diffuse_kernel(float *u_new, float *u) {{\n",
    "    int x = blockIdx.x * block_size_x + threadIdx.x;\n",
    "    int y = blockIdx.y * block_size_y + threadIdx.y;\n",
    "    if (x>=0 && x<nx && y>=0 && y<ny) {{\n",
    "            int up    = _pbc(y+1,height);\n",
    "            int down  = _pbc(y-1,height);\n",
    "            int left  = _pbc(x-1, width);\n",
    "            int right = _pbc(x+1, width);\n",
    "            \n",
    "            u_new[y*nx+x] = u[y*nx+x] + dcoef * (\n",
    "            u[(up)*nx+x]+u[y*nx+right]\n",
    "            -4.0f*u[y*nx+x]\n",
    "            +u[y*nx+left]+u[(down)*nx+x]\n",
    "            );\n",
    "    }}\n",
    "}}\n",
    "    \"\"\"   \n",
    "#TODO: unallocate device memory\n",
    "#     free(a_h); free(b_h); cudaFree(a_d); cudaFree(b_d)"
   ]
  },
  {
   "cell_type": "code",
   "execution_count": 39,
   "metadata": {
    "ExecuteTime": {
     "end_time": "2020-08-18T04:45:50.891138Z",
     "start_time": "2020-08-18T04:45:42.935150Z"
    },
    "hidden": true
   },
   "outputs": [
    {
     "name": "stdout",
     "output_type": "stream",
     "text": [
      "200000 steps of diffuse took 7700 ms.\n"
     ]
    },
    {
     "data": {
      "image/png": "[encoded data removed]",
      "text/plain": [
       "<Figure size 432x288 with 2 Axes>"
      ]
     },
     "metadata": {
      "needs_background": "light"
     },
     "output_type": "display_data"
    }
   ],
   "source": [
    "kernel_string = get_kernel_string(nx, ny, D = 0.0005, dt = 0.025, dx = 0.025)\n",
    "# kernel_string = get_kernel_string(nx, ny)\n",
    "\n",
    "field = ic.copy()\n",
    "\n",
    "iterations = 10**4\n",
    "\n",
    "#allocate GPU memory\n",
    "u_old = drv.mem_alloc(field_copy.nbytes)\n",
    "u_new = drv.mem_alloc(field_copy.nbytes)\n",
    "#setup thread block dimensions and compile the kernel\n",
    "diffuse_kernel = SourceModule(block_size_string+kernel_string).get_function(\"diffuse_kernel\")\n",
    "#create events for measuring performance\n",
    "start = drv.Event()\n",
    "end = drv.Event()\n",
    "#move the data to the GPU\n",
    "drv.memcpy_htod(u_old, field_copy)\n",
    "drv.memcpy_htod(u_new, field_copy)\n",
    "#call the GPU kernel a 1000 times and measure performance\n",
    "context.synchronize()\n",
    "start.record()\n",
    "for i in range(iterations):\n",
    "    diffuse_kernel(u_new, u_old, block=threads, grid=grid)\n",
    "    diffuse_kernel(u_old, u_new, block=threads, grid=grid)\n",
    "end.record()\n",
    "context.synchronize()\n",
    "print(f\"{iterations*2} steps of diffuse took {end.time_since(start):.0f} ms.\")\n",
    "\n",
    "#copy the result from the GPU to Python for plotting\n",
    "gpu_result = np.zeros_like(field_copy)\n",
    "drv.memcpy_dtoh(gpu_result, u_new)\n",
    "fig, (ax1, ax2) = pyplot.subplots(1,2)\n",
    "\n",
    "ax1.imshow(field_copy)\n",
    "ax1.set_title(\"Initial Conditions\")\n",
    "ax2.imshow(gpu_result)\n",
    "ax2.set_title(\"GPU Result\")\n",
    "plt.show()"
   ]
  },
  {
   "cell_type": "code",
   "execution_count": null,
   "metadata": {
    "ExecuteTime": {
     "end_time": "2020-08-18T01:33:45.978216Z",
     "start_time": "2020-08-18T01:33:45.958246Z"
    },
    "hidden": true
   },
   "outputs": [],
   "source": []
  },
  {
   "cell_type": "code",
   "execution_count": 6,
   "metadata": {
    "ExecuteTime": {
     "end_time": "2020-08-18T04:35:21.161816Z",
     "start_time": "2020-08-18T04:35:21.157685Z"
    },
    "hidden": true
   },
   "outputs": [
    {
     "data": {
      "text/plain": [
       "64.0"
      ]
     },
     "execution_count": 6,
     "metadata": {},
     "output_type": "execute_result"
    }
   ],
   "source": [
    "1024/16"
   ]
  },
  {
   "cell_type": "code",
   "execution_count": 35,
   "metadata": {
    "ExecuteTime": {
     "end_time": "2020-08-18T04:42:49.274581Z",
     "start_time": "2020-08-18T04:42:49.271200Z"
    },
    "hidden": true
   },
   "outputs": [
    {
     "name": "stdout",
     "output_type": "stream",
     "text": [
      "5 seconds of simulation time simulated in 7.7 seconds of real time!\n"
     ]
    }
   ],
   "source": [
    "200000*0.025\n",
    "print('5 seconds of simulation time simulated in 7.7 seconds of real time!')"
   ]
  },
  {
   "cell_type": "code",
   "execution_count": null,
   "metadata": {
    "hidden": true
   },
   "outputs": [],
   "source": []
  },
  {
   "cell_type": "markdown",
   "metadata": {},
   "source": [
    "# more pycuda tutorials\n"
   ]
  },
  {
   "cell_type": "markdown",
   "metadata": {},
   "source": [
    "## use pycuda.autoinit to automate things like cleanup\n",
    "https://documen.tician.de/pycuda/tutorial.html"
   ]
  },
  {
   "cell_type": "markdown",
   "metadata": {
    "heading_collapsed": true
   },
   "source": [
    "# diffusion with pbc on a pycuda kernel with custom input\n",
    "- DONE: run this using pycuda.autoinit\n",
    "    - does it run as fast? YES\n",
    "- DONE: get the sim working on a 200x200 grid.\n",
    "- DONE: get the sim working with my own defined initial conditions"
   ]
  },
  {
   "cell_type": "code",
   "execution_count": 1,
   "metadata": {
    "ExecuteTime": {
     "end_time": "2020-08-20T20:51:05.045209Z",
     "start_time": "2020-08-20T20:51:04.546143Z"
    },
    "hidden": true
   },
   "outputs": [],
   "source": [
    "#do the imports we need\n",
    "import numpy as np\n",
    "# from matplotlib import pyplot\n",
    "\n",
    "# %matplotlib inline\n",
    "import matplotlib.pyplot as plt\n",
    "# from pylab import imshow, show\n",
    "from timeit import default_timer as timer\n",
    "\n",
    "import pycuda\n",
    "import pycuda.driver as drv\n",
    "import pycuda.autoinit\n",
    "from pycuda.compiler import SourceModule\n",
    "\n",
    "\n"
   ]
  },
  {
   "cell_type": "code",
   "execution_count": 2,
   "metadata": {
    "ExecuteTime": {
     "end_time": "2020-08-20T20:51:06.405823Z",
     "start_time": "2020-08-20T20:51:06.333350Z"
    },
    "hidden": true
   },
   "outputs": [],
   "source": [
    "#the following might be needed for the kernel_autotuner.  I think pycuda.autoinit is more idiot-proof.\n",
    "#run this once.  if you run in ~30 times, you will get the following error\n",
    "# MemoryError: cuCtxCreate failed: out of memory \n",
    "#initialize PyCuda and get compute capability needed for compilation\n",
    "# drv.init()\n",
    "context = drv.Device(0).make_context()\n",
    "devprops = { str(k): v for (k, v) in context.get_device().get_attributes().items() }\n",
    "cc = str(devprops['COMPUTE_CAPABILITY_MAJOR']) + str(devprops['COMPUTE_CAPABILITY_MINOR'])\n"
   ]
  },
  {
   "cell_type": "code",
   "execution_count": 3,
   "metadata": {
    "ExecuteTime": {
     "end_time": "2020-08-20T20:51:07.776235Z",
     "start_time": "2020-08-20T20:51:07.768676Z"
    },
    "hidden": true
   },
   "outputs": [],
   "source": [
    "#setup initial conditions\n",
    "def get_initial_conditions(nx, ny):\n",
    "    field = np.ones((ny, nx)).astype(np.float32)\n",
    "    field[np.random.randint(0,nx,size=10), np.random.randint(0,ny,size=10)] = 1e3\n",
    "    return field\n",
    "\n",
    "def diffuse(field, dt=0.225):\n",
    "    field[1:nx-1,1:ny-1] = field[1:nx-1,1:ny-1] + dt * (\n",
    "        field[1:nx-1,2:ny]+field[2:nx,1:ny-1]-4*field[1:nx-1,1:ny-1]+\n",
    "        field[0:nx-2,1:ny-1]+field[1:nx-1,0:ny-2] )\n",
    "    return field"
   ]
  },
  {
   "cell_type": "code",
   "execution_count": 12,
   "metadata": {
    "ExecuteTime": {
     "end_time": "2020-08-20T20:54:22.369728Z",
     "start_time": "2020-08-20T20:54:22.361318Z"
    },
    "hidden": true
   },
   "outputs": [
    {
     "data": {
      "text/plain": [
       "(102, 102, 1)"
      ]
     },
     "execution_count": 12,
     "metadata": {},
     "output_type": "execute_result"
    }
   ],
   "source": [
    "grid"
   ]
  },
  {
   "cell_type": "code",
   "execution_count": 14,
   "metadata": {
    "ExecuteTime": {
     "end_time": "2020-08-20T20:55:43.946892Z",
     "start_time": "2020-08-20T20:55:43.914744Z"
    },
    "hidden": true
   },
   "outputs": [
    {
     "name": "stdout",
     "output_type": "stream",
     "text": [
      "(200, 200)\n"
     ]
    }
   ],
   "source": [
    "nx = 200#1024#200#1024\n",
    "ny = 200#1024#200#1024\n",
    "width  = 200#1024#200\n",
    "height = 200#1024#200\n",
    "threads = (10,10,1)\n",
    "grid = (int(nx/10), int(ny/10), 1)\n",
    "block_size_string = \"#define block_size_x 10\\n#define block_size_y 10\\n\"\n",
    "\n",
    "\n",
    "# nx = 1024#200#1024\n",
    "# ny = 1024#200#1024\n",
    "# width  = 1024#200\n",
    "# height = 1024#200\n",
    "# threads = (16,16,1)\n",
    "# grid = (int(nx/16), int(ny/16), 1)\n",
    "# block_size_string = \"#define block_size_x 16\\n#define block_size_y 16\\n\"\n",
    "\n",
    "\n",
    "#save the ic field for later use\n",
    "Vin  = np.array([256*x*(y+1) for x in range(nx) for y in range(ny)]).reshape((nx,ny))\n",
    "field = Vin.copy()\n",
    "# ic = get_initial_conditions(nx, ny)\n",
    "# ic = get_initial_conditions(nx, ny)\n",
    "# field = ic.copy()\n",
    "\n",
    "# field_copy = field.copy()\n",
    "# for q in range(100):\n",
    "#     field_copy = diffuse(field_copy)\n",
    "    \n",
    "# field = field[:height,:width].copy()\n",
    "# field_copy = field_copy[:height,:width].copy()\n",
    "print(field.shape)"
   ]
  },
  {
   "cell_type": "code",
   "execution_count": 15,
   "metadata": {
    "ExecuteTime": {
     "end_time": "2020-08-20T20:55:46.617630Z",
     "start_time": "2020-08-20T20:55:46.612847Z"
    },
    "hidden": true,
    "run_control": {
     "marked": false
    }
   },
   "outputs": [],
   "source": [
    "def get_kernel_string(nx, ny, D, dt, dx):#width, height):\n",
    "    return f\"\"\"\n",
    "#define nx {int(nx)}\n",
    "#define ny {int(ny)}\n",
    "#define width nx\n",
    "#define height ny\n",
    "#define dcoef {float(D*dt/dx**2)}\n",
    "\n",
    "// periodic boundary conditions\n",
    "__device__ int _pbc ( int q, int wid ) {{\n",
    "    if (q >= wid) {{\n",
    "        q = 1;\n",
    "    }}\n",
    "    if (q <= 0) {{\n",
    "        q = wid-1;\n",
    "    }}\n",
    "     return q;\n",
    "}}\n",
    "\n",
    "// main kernel/face shader\n",
    "__global__ void diffuse_kernel(float *u_new, float *u) {{\n",
    "    int x = blockIdx.x * block_size_x + threadIdx.x;\n",
    "    int y = blockIdx.y * block_size_y + threadIdx.y;\n",
    "    if (x>=0 && x<nx && y>=0 && y<ny) {{\n",
    "            int up    = _pbc(y+1,height);\n",
    "            int down  = _pbc(y-1,height);\n",
    "            int left  = _pbc(x-1, width);\n",
    "            int right = _pbc(x+1, width);\n",
    "            \n",
    "            u_new[y*nx+x] = u[y*nx+x] + dcoef * (\n",
    "            u[(up)*nx+x]+u[y*nx+right]\n",
    "            -4.0f*u[y*nx+x]\n",
    "            +u[y*nx+left]+u[(down)*nx+x]\n",
    "            );\n",
    "    }}\n",
    "}}\n",
    "    \"\"\"   "
   ]
  },
  {
   "cell_type": "code",
   "execution_count": 16,
   "metadata": {
    "ExecuteTime": {
     "end_time": "2020-08-20T20:56:02.672087Z",
     "start_time": "2020-08-20T20:56:02.664579Z"
    },
    "hidden": true
   },
   "outputs": [],
   "source": [
    "#don't allocate memory many times for the same task!\n",
    "\n",
    "#allocate GPU memory\n",
    "u_old = drv.mem_alloc(field_copy.nbytes)\n",
    "u_new = drv.mem_alloc(field_copy.nbytes)"
   ]
  },
  {
   "cell_type": "code",
   "execution_count": 28,
   "metadata": {
    "ExecuteTime": {
     "end_time": "2020-08-20T20:59:07.473343Z",
     "start_time": "2020-08-20T20:59:03.698860Z"
    },
    "hidden": true
   },
   "outputs": [
    {
     "name": "stdout",
     "output_type": "stream",
     "text": [
      "200000 steps of diffuse took 3418 ms.\n"
     ]
    },
    {
     "data": {
      "image/png": "[encoded data removed]",
      "text/plain": [
       "<Figure size 432x288 with 2 Axes>"
      ]
     },
     "metadata": {
      "needs_background": "light"
     },
     "output_type": "display_data"
    }
   ],
   "source": [
    "kernel_string = get_kernel_string(nx=width, ny=height, D = 0.0005, dt = 0.025, dx = 0.025)#, width=width, height=height)\n",
    "# kernel_string = get_kernel_string(nx, ny)\n",
    "\n",
    "field_copy = Vin.copy().astype(np.float32)#ic.copy()\n",
    "\n",
    "iterations = 10**5\n",
    "\n",
    "#setup thread block dimensions and compile the kernel\n",
    "mod = SourceModule(block_size_string+kernel_string)\n",
    "diffuse_kernel = mod.get_function(\"diffuse_kernel\")\n",
    "\n",
    "#create events for measuring performance\n",
    "start = drv.Event()\n",
    "end = drv.Event()\n",
    "#move the data to the GPU\n",
    "drv.memcpy_htod(u_old, field_copy)\n",
    "drv.memcpy_htod(u_new, field_copy)\n",
    "#call the GPU kernel a 1000 times and measure performance\n",
    "context.synchronize()\n",
    "start.record()\n",
    "for i in range(iterations):\n",
    "    diffuse_kernel(u_new, u_old, block=threads, grid=grid)\n",
    "    diffuse_kernel(u_old, u_new, block=threads, grid=grid)\n",
    "end.record()\n",
    "context.synchronize()\n",
    "print(f\"{iterations*2} steps of diffuse took {end.time_since(start):.0f} ms.\")\n",
    "\n",
    "#copy the result from the GPU to Python for plotting\n",
    "gpu_result = np.zeros_like(field_copy)\n",
    "drv.memcpy_dtoh(gpu_result, u_new)\n",
    "fig, (ax1, ax2) = plt.subplots(1,2)\n",
    "\n",
    "ax1.imshow(field_copy)\n",
    "ax1.set_title(\"Initial Conditions\")\n",
    "ax2.imshow(gpu_result)\n",
    "ax2.set_title(\"GPU Result\")\n",
    "plt.show()"
   ]
  },
  {
   "cell_type": "code",
   "execution_count": null,
   "metadata": {
    "ExecuteTime": {
     "end_time": "2020-08-20T20:57:25.780949Z",
     "start_time": "2020-08-20T20:57:25.776728Z"
    },
    "hidden": true
   },
   "outputs": [],
   "source": []
  },
  {
   "cell_type": "code",
   "execution_count": null,
   "metadata": {
    "ExecuteTime": {
     "end_time": "2020-08-18T04:35:21.161816Z",
     "start_time": "2020-08-18T04:35:21.157685Z"
    },
    "hidden": true
   },
   "outputs": [],
   "source": []
  },
  {
   "cell_type": "code",
   "execution_count": 29,
   "metadata": {
    "ExecuteTime": {
     "end_time": "2020-08-20T20:59:25.149011Z",
     "start_time": "2020-08-20T20:59:25.145976Z"
    },
    "hidden": true
   },
   "outputs": [
    {
     "name": "stdout",
     "output_type": "stream",
     "text": [
      "5 seconds of simulation time simulated in 3.4 seconds of real time on the right sized grid!\n"
     ]
    }
   ],
   "source": [
    "200000*0.025\n",
    "print('5 seconds of simulation time simulated in 3.4 seconds of real time on the right sized grid!')"
   ]
  },
  {
   "cell_type": "markdown",
   "metadata": {
    "heading_collapsed": true
   },
   "source": [
    "# (don't) get a gpuarray class doing something on a 200x200 grid....\n",
    "or don't.  or do... nah...  nothing good will come of it (it might make unneccessary dtoh or htod memcopies...."
   ]
  },
  {
   "cell_type": "code",
   "execution_count": 30,
   "metadata": {
    "ExecuteTime": {
     "end_time": "2020-08-20T21:01:12.467289Z",
     "start_time": "2020-08-20T21:01:12.229522Z"
    },
    "hidden": true
   },
   "outputs": [
    {
     "name": "stdout",
     "output_type": "stream",
     "text": [
      "[[-2.2676165  -5.121178    2.4446201   2.9607556 ]\n",
      " [-4.170683   -0.20356432 -0.77014315  0.6074818 ]\n",
      " [ 2.3934546  -0.54135007  0.8031153   0.7699095 ]\n",
      " [ 0.06056655  0.22870307  0.9549367   4.4928093 ]]\n",
      "[[-1.1338083  -2.560589    1.2223101   1.4803778 ]\n",
      " [-2.0853415  -0.10178216 -0.38507158  0.3037409 ]\n",
      " [ 1.1967273  -0.27067503  0.40155765  0.38495475]\n",
      " [ 0.03028327  0.11435153  0.47746834  2.2464046 ]]\n"
     ]
    }
   ],
   "source": [
    "import pycuda.gpuarray as gpuarray\n",
    "import pycuda.driver as cuda\n",
    "import pycuda.autoinit\n",
    "import numpy\n",
    "\n",
    "a_gpu = gpuarray.to_gpu(numpy.random.randn(4,4).astype(numpy.float32))\n",
    "a_doubled = (2*a_gpu).get()\n",
    "print (a_doubled)\n",
    "print (a_gpu)"
   ]
  },
  {
   "cell_type": "code",
   "execution_count": 3,
   "metadata": {
    "ExecuteTime": {
     "end_time": "2020-08-20T21:31:36.892226Z",
     "start_time": "2020-08-20T21:31:36.887258Z"
    },
    "hidden": true
   },
   "outputs": [
    {
     "data": {
      "text/plain": [
       "6"
      ]
     },
     "execution_count": 3,
     "metadata": {},
     "output_type": "execute_result"
    }
   ],
   "source": [
    "#simple test if kwargs autopopulate a namespace\n",
    "def foo(a,b,c):#, **kwargs):\n",
    "    return a+b+c\n",
    "d = {'a':1,'b':2,'c':3}\n",
    "foo(**d)"
   ]
  },
  {
   "cell_type": "markdown",
   "metadata": {
    "heading_collapsed": true
   },
   "source": [
    "# Fenton-Karma model with pbc on a pycuda kernel with custom input\n",
    "- DONE: simple test that kwargs autopopulate a namespace\n",
    "- DONE: define parameter set 8 from a dict named kwargs\n",
    "- DONE: define all FK-parameters in kernel_string.  Everything still runs at the same speed :)\n",
    "- DONE: add trivial v and w fields to the kernel\n",
    "- DONE: shade v and w fields with the identity operation\n",
    "- DONE: get a built-in hyperbolic tangent function in the device namespace.  test that it works\n",
    "- DONE: get a step function into the device namespace.  test that it works\n",
    "- DONE: construct the local transient terms for u and w.  put this into a function pointer on the device namespace\n",
    "- DONE: construct the local current terms for I_ion.  put this into a function pointer on the device namespace\n",
    "- DONE: save/load kwargs from a .json file\n",
    "- DONE: try double precision and see if runtime changes or if it actually works..."
   ]
  },
  {
   "cell_type": "markdown",
   "metadata": {
    "heading_collapsed": true,
    "hidden": true
   },
   "source": [
    "## define parameter set 8 and json io"
   ]
  },
  {
   "cell_type": "code",
   "execution_count": 1,
   "metadata": {
    "ExecuteTime": {
     "end_time": "2020-08-20T22:35:59.237325Z",
     "start_time": "2020-08-20T22:35:59.203063Z"
    },
    "hidden": true
   },
   "outputs": [
    {
     "name": "stdout",
     "output_type": "stream",
     "text": [
      "{'DX': 0.025, 'diffCoef': 0.0005, 'C_m': 1.0, 'tau_pv': 13.03, 'tau_v1': 19.6, 'tau_v2': 1250, 'tau_pw': 800, 'tau_mw': 40, 'tau_d': 0.45, 'tau_0': 12.5, 'tau_r': 33.25, 'tau_si': 29, 'K': 10, 'V_sic': 0.85, 'V_c': 0.13, 'V_v': 0.04, 'width': 200, 'height': 200}\n"
     ]
    }
   ],
   "source": [
    "# define parameter set 8 from a dict named kwargs\n",
    "kwargs = {\n",
    "    'DX'       : 0.025, #cm/pxl\n",
    "    'diffCoef' : 0.0005, # cm^2 / ms\n",
    "    'C_m'      : 1.000,  # microFarad/cm^2 (although u channel is adimensionalized voltage.  See Fenton & Karma, (1998))\n",
    "\n",
    "    #parameter set 8 of FK model from Fenton & Cherry (2002)\n",
    "    'tau_pv'   : 13.03,\n",
    "    'tau_v1'   : 19.6,\n",
    "    'tau_v2'   : 1250,\n",
    "    'tau_pw'   : 800,\n",
    "    'tau_mw'   : 40,\n",
    "    'tau_d'    : 0.45,\n",
    "    'tau_0'    : 12.5,\n",
    "    'tau_r'    : 33.25,\n",
    "    'tau_si'   : 29,\n",
    "    'K'        : 10,\n",
    "    'V_sic'    : 0.85,\n",
    "    'V_c'      : 0.13,\n",
    "    'V_v'      : 0.04\n",
    "    }\n",
    "\n",
    "#define the field of initial conditions\n",
    "width = 200; height = 200;\n",
    "Vin  = np.array([256*x*(y+1) for x in range(width) for y in range(height)]).reshape((width,height))\n",
    "field = Vin.copy()\n",
    "\n",
    "height,width = field.shape\n",
    "kwargs.update({'width':width,'height':height})\n",
    "print(kwargs)\n"
   ]
  },
  {
   "cell_type": "code",
   "execution_count": 3,
   "metadata": {
    "ExecuteTime": {
     "end_time": "2020-08-20T23:46:47.061673Z",
     "start_time": "2020-08-20T23:46:47.056312Z"
    },
    "hidden": true
   },
   "outputs": [],
   "source": [
    "import json\n",
    "def write_parameters_to_json(param_dict, param_file_name):\n",
    "    '''Example Usage:\n",
    "    write_parameters_to_json(kwargs, 'lib/param_set_8.json')\n",
    "    '''\n",
    "    with open(param_file_name, 'w') as json_file:\n",
    "        json.dump(param_dict, json_file)\n",
    "    return True\n",
    "\n",
    "def read_parameters_from_json(param_file_name):\n",
    "    '''Example Usage:\n",
    "    kwargs = read_parameters_from_json('lib/param_set_8.json')\n",
    "    '''\n",
    "    with open(param_file_name) as json_file: \n",
    "        data = json.load(json_file) \n",
    "        return data"
   ]
  },
  {
   "cell_type": "code",
   "execution_count": 3,
   "metadata": {
    "ExecuteTime": {
     "end_time": "2020-08-20T22:36:02.996545Z",
     "start_time": "2020-08-20T22:36:02.987676Z"
    },
    "hidden": true
   },
   "outputs": [
    {
     "name": "stdout",
     "output_type": "stream",
     "text": [
      "{'DX': 0.025, 'diffCoef': 0.0005, 'C_m': 1.0, 'tau_pv': 13.03, 'tau_v1': 19.6, 'tau_v2': 1250, 'tau_pw': 800, 'tau_mw': 40, 'tau_d': 0.45, 'tau_0': 12.5, 'tau_r': 33.25, 'tau_si': 29, 'K': 10, 'V_sic': 0.85, 'V_c': 0.13, 'V_v': 0.04, 'width': 200, 'height': 200}\n"
     ]
    }
   ],
   "source": [
    "#input/output of key word arguments for model parameters\n",
    "param_file_name = 'lib/param_set_8.json'\n",
    "write_parameters_to_json(kwargs, param_file_name)\n",
    "\n",
    "kwargs = read_parameters_from_json('lib/param_set_8.json')\n",
    "print(kwargs)"
   ]
  },
  {
   "cell_type": "markdown",
   "metadata": {
    "heading_collapsed": true,
    "hidden": true
   },
   "source": [
    "## develop time_step_kernel for the Fenton-Karma model"
   ]
  },
  {
   "cell_type": "code",
   "execution_count": 1,
   "metadata": {
    "ExecuteTime": {
     "end_time": "2020-08-20T23:46:26.742653Z",
     "start_time": "2020-08-20T23:46:26.062449Z"
    },
    "hidden": true
   },
   "outputs": [],
   "source": [
    "import numpy as np\n",
    "import matplotlib.pyplot as plt\n",
    "from timeit import default_timer as timer\n",
    "import pycuda\n",
    "import pycuda.driver as drv\n",
    "import pycuda.autoinit\n",
    "from pycuda.compiler import SourceModule"
   ]
  },
  {
   "cell_type": "code",
   "execution_count": 2,
   "metadata": {
    "ExecuteTime": {
     "end_time": "2020-08-20T23:46:27.789187Z",
     "start_time": "2020-08-20T23:46:27.574512Z"
    },
    "hidden": true
   },
   "outputs": [
    {
     "ename": "NameError",
     "evalue": "name 'read_parameters_from_json' is not defined",
     "output_type": "error",
     "traceback": [
      "\u001b[0;31m---------------------------------------------------------------------------\u001b[0m",
      "\u001b[0;31mNameError\u001b[0m                                 Traceback (most recent call last)",
      "\u001b[0;32m<ipython-input-2-11cdf5e2222f>\u001b[0m in \u001b[0;36m<module>\u001b[0;34m\u001b[0m\n\u001b[1;32m      9\u001b[0m \u001b[0;34m\u001b[0m\u001b[0m\n\u001b[1;32m     10\u001b[0m \u001b[0;31m#load parameters\u001b[0m\u001b[0;34m\u001b[0m\u001b[0;34m\u001b[0m\u001b[0;34m\u001b[0m\u001b[0m\n\u001b[0;32m---> 11\u001b[0;31m \u001b[0mkwargs\u001b[0m \u001b[0;34m=\u001b[0m \u001b[0mread_parameters_from_json\u001b[0m\u001b[0;34m(\u001b[0m\u001b[0;34m'lib/param_set_8.json'\u001b[0m\u001b[0;34m)\u001b[0m\u001b[0;34m\u001b[0m\u001b[0;34m\u001b[0m\u001b[0m\n\u001b[0m",
      "\u001b[0;31mNameError\u001b[0m: name 'read_parameters_from_json' is not defined"
     ]
    }
   ],
   "source": [
    "#the following might be needed for the kernel_autotuner.  I think pycuda.autoinit is more idiot-proof.\n",
    "#run this once.  if you run in ~30 times, you will get the following error\n",
    "# MemoryError: cuCtxCreate failed: out of memory \n",
    "#initialize PyCuda and get compute capability needed for compilation\n",
    "# drv.init()\n",
    "context = drv.Device(0).make_context()\n",
    "devprops = { str(k): v for (k, v) in context.get_device().get_attributes().items() }\n",
    "cc = str(devprops['COMPUTE_CAPABILITY_MAJOR']) + str(devprops['COMPUTE_CAPABILITY_MINOR'])\n",
    "\n"
   ]
  },
  {
   "cell_type": "code",
   "execution_count": 5,
   "metadata": {
    "ExecuteTime": {
     "end_time": "2020-08-20T23:51:49.772776Z",
     "start_time": "2020-08-20T23:51:49.764919Z"
    },
    "hidden": true
   },
   "outputs": [],
   "source": [
    "from lib.utils_jsonio import *\n",
    "#load parameters\n",
    "kwargs = read_parameters_from_json('lib/param_set_8.json')"
   ]
  },
  {
   "cell_type": "code",
   "execution_count": 27,
   "metadata": {
    "ExecuteTime": {
     "end_time": "2020-08-21T00:04:10.307282Z",
     "start_time": "2020-08-21T00:04:10.268529Z"
    },
    "hidden": true
   },
   "outputs": [
    {
     "name": "stdout",
     "output_type": "stream",
     "text": [
      "(200, 200)\n"
     ]
    }
   ],
   "source": [
    "width  = kwargs['width'] \n",
    "height = kwargs['height']\n",
    "threads = (10,10,1)\n",
    "grid = (int(width/10), int(height/10), 1)\n",
    "block_size_string = \"#define block_size_x 10\\n#define block_size_y 10\\n\"\n",
    "\n",
    "#define the initial conditions\n",
    "Vin  = np.array([256*x*(y+1) for x in range(width) for y in range(height)]).reshape((width,height))\n",
    "\n",
    "field = Vin.copy()\n",
    "field_copy = field.copy()\n",
    "print(field.shape)\n",
    "\n",
    "#TODO: try double percision. does it slow down runtime?\n",
    "# u_initial = Vin.astype(np.float64)\n",
    "u_initial = Vin.astype(np.float32)"
   ]
  },
  {
   "cell_type": "code",
   "execution_count": null,
   "metadata": {
    "ExecuteTime": {
     "end_time": "2020-08-20T22:36:58.384795Z",
     "start_time": "2020-08-20T22:36:57.791154Z"
    },
    "hidden": true
   },
   "outputs": [],
   "source": []
  },
  {
   "cell_type": "code",
   "execution_count": 28,
   "metadata": {
    "ExecuteTime": {
     "end_time": "2020-08-21T00:04:17.932704Z",
     "start_time": "2020-08-21T00:04:17.925653Z"
    },
    "hidden": true
   },
   "outputs": [],
   "source": [
    "#don't allocate memory many times for the same task!\n",
    "#allocate GPU memory for voltage scalar field\n",
    "u_old = drv.mem_alloc(u_initial.nbytes)\n",
    "u_new = drv.mem_alloc(u_initial.nbytes)"
   ]
  },
  {
   "cell_type": "code",
   "execution_count": 29,
   "metadata": {
    "ExecuteTime": {
     "end_time": "2020-08-21T00:04:18.585843Z",
     "start_time": "2020-08-21T00:04:18.577168Z"
    },
    "hidden": true
   },
   "outputs": [],
   "source": [
    "#initialize auxiliary textures to zero\n",
    "v_initial = np.zeros_like(u_initial)\n",
    "w_initial = np.zeros_like(u_initial)\n",
    "\n",
    "#allocate GPU memory for v and w fields\n",
    "v_old = drv.mem_alloc(v_initial.nbytes)\n",
    "v_new = drv.mem_alloc(v_initial.nbytes)\n",
    "w_old = drv.mem_alloc(w_initial.nbytes)\n",
    "w_new = drv.mem_alloc(w_initial.nbytes)"
   ]
  },
  {
   "cell_type": "code",
   "execution_count": 30,
   "metadata": {
    "ExecuteTime": {
     "end_time": "2020-08-21T00:04:19.148054Z",
     "start_time": "2020-08-21T00:04:19.141006Z"
    },
    "hidden": true
   },
   "outputs": [],
   "source": [
    "\n",
    "def get_kernel_string_FK_model(width, height, DX, DT, diffCoef, C_m,\n",
    "                               tau_pv, tau_v1, tau_v2, tau_pw, tau_mw, tau_d, \n",
    "                               tau_0, tau_r, tau_si, K, V_sic, V_c, V_v, round_to=8):\n",
    "    return f\"\"\"\n",
    "// primary model parameters\n",
    "#define width  {int(width)}\n",
    "#define height {int(height)}\n",
    "#define h      {float(DT)}\n",
    "#define C_m    {float(C_m)}\n",
    "#define tau_pv {float(tau_pv)}\n",
    "#define tau_v1 {float(tau_v1)}\n",
    "#define tau_v2 {float(tau_v2)}\n",
    "#define tau_pw {float(tau_pw)}\n",
    "#define tau_mw {float(tau_mw)}\n",
    "#define tau_d  {float(tau_d)}\n",
    "#define tau_0  {float(tau_0)}\n",
    "#define tau_r  {float(tau_r)}\n",
    "#define tau_si {float(tau_si)}\n",
    "#define K      {float(K)}\n",
    "#define V_sic  {float(V_sic)}\n",
    "#define V_c    {float(V_c)}\n",
    "#define V_v    {float(V_v)}\n",
    "\n",
    "// auxiliary model parameters\n",
    "#define nx width\n",
    "#define ny height\n",
    "#define dcoef {float(diffCoef/DX**2):.{round_to}f}\n",
    "   \n",
    "// periodic boundary conditions\n",
    "__device__ int _pbc ( int q, int wid ) {{\n",
    "    if (q >= wid) {{\n",
    "        q = 1;\n",
    "    }}\n",
    "    if (q <= 0) {{\n",
    "        q = wid-1;\n",
    "    }}\n",
    "    return q;\n",
    "}}\n",
    "\n",
    "// heaviside step function\n",
    "__device__ float step(float thresh, float x)\n",
    "{{\n",
    "    return x >= thresh;\n",
    "}}\n",
    "\n",
    "// main computation kernel/face shader\n",
    "__global__ void time_step_kernel(float *u_new, float *u, float *v_new, float *v, float *w_new, float *w) {{\n",
    "    int x = blockIdx.x * block_size_x + threadIdx.x;\n",
    "    int y = blockIdx.y * block_size_y + threadIdx.y;\n",
    "    if (x>=0 && x<nx && y>=0 && y<ny) {{\n",
    "            float U = u[y*nx+x];\n",
    "            float V = v[y*nx+x];\n",
    "            float W = w[y*nx+x];\n",
    "            float p = step(V_c, U);\n",
    "            float q = step(V_v, U);\n",
    "            //WJ's modification of the FK model\n",
    "            float tau_mv = (1.0 - q) * tau_v2 + q * tau_v1 ;\n",
    "            ////the unmodified FK model\n",
    "            //float tau_mv = (1.0 - q) * tau_v1 + q * tau_v2 ;\n",
    "            \n",
    "            // local ion current terms\n",
    "            float tn  = tanh( K * (U - V_sic)) ;\n",
    "            float Ifi = -V * p * (U - V_c) * (1.0 - U) / tau_d ;\n",
    "            float Iso = U * (1.0 - p) / tau_0 + p / tau_r ;\n",
    "            float Isi = -W * (1.0 + tn ) / (2.0 * tau_si) ; \n",
    "            float I_sum = Ifi + Iso + Isi ; \n",
    "            float current_term = -I_sum / C_m ; \n",
    "            \n",
    "            // local transient terms for auxiliary variables\n",
    "            float dVdt = (1.0 - p) * (1.0 - V) / tau_mv - p * V / tau_pv ;\n",
    "            float dWdt = (1.0 - p) * (1.0 - W) / tau_mw - p * W / tau_pw ;\n",
    "\n",
    "            // diffusion term (5-point stencil)\n",
    "            int up    = _pbc(y+1,height);\n",
    "            int down  = _pbc(y-1,height);\n",
    "            int left  = _pbc(x-1, width);\n",
    "            int right = _pbc(x+1, width);\n",
    "            float diffusion_term =  dcoef * (\n",
    "            u[(up)*nx+x]+u[y*nx+right]\n",
    "            -4.0f*u[y*nx+x]\n",
    "            +u[y*nx+left]+u[(down)*nx+x]\n",
    "            );\n",
    "            \n",
    "            //integrate in time\n",
    "            float dUdt = diffusion_term + current_term ;\n",
    "            u_new[y*nx+x] = U + h * dUdt;\n",
    "            v_new[y*nx+x] = V + h * dVdt;\n",
    "            w_new[y*nx+x] = W + h * dWdt;\n",
    "    }}\n",
    "}}  \n",
    "    \"\"\"\n",
    "\n",
    "# print ( get_kernel_string_FK_model(**kwargs, DT=0.025) )"
   ]
  },
  {
   "cell_type": "code",
   "execution_count": 31,
   "metadata": {
    "ExecuteTime": {
     "end_time": "2020-08-21T00:04:35.195755Z",
     "start_time": "2020-08-21T00:04:19.546704Z"
    },
    "hidden": true
   },
   "outputs": [
    {
     "name": "stdout",
     "output_type": "stream",
     "text": [
      "200000 time steps took 14368 ms.\n"
     ]
    },
    {
     "data": {
      "image/png": "[encoded data removed]",
      "text/plain": [
       "<Figure size 432x720 with 6 Axes>"
      ]
     },
     "metadata": {
      "needs_background": "light"
     },
     "output_type": "display_data"
    }
   ],
   "source": [
    "kernel_string = get_kernel_string_FK_model(**kwargs, DT=0.025)\n",
    "iterations = 10**5\n",
    "\n",
    "#setup thread block dimensions and compile the kernel\n",
    "mod = SourceModule(block_size_string+kernel_string)\n",
    "time_step_kernel = mod.get_function(\"time_step_kernel\")\n",
    "\n",
    "#create events for measuring performance\n",
    "start = drv.Event()\n",
    "end = drv.Event()\n",
    "\n",
    "#move the data to the GPU\n",
    "drv.memcpy_htod(u_old, u_initial)\n",
    "drv.memcpy_htod(u_new, u_initial)\n",
    "drv.memcpy_htod(v_old, v_initial)\n",
    "drv.memcpy_htod(v_new, v_initial)\n",
    "drv.memcpy_htod(w_old, w_initial)\n",
    "drv.memcpy_htod(w_new, w_initial)\n",
    "\n",
    "#call the GPU kernel 2*iterations times and measure performance\n",
    "context.synchronize()\n",
    "start.record()\n",
    "for i in range(iterations):\n",
    "    time_step_kernel(u_new, u_old, v_new, v_old, w_new, w_old, block=threads, grid=grid)\n",
    "    time_step_kernel(u_old, u_new, v_old, v_new, w_old, w_new, block=threads, grid=grid)\n",
    "end.record()\n",
    "context.synchronize()\n",
    "runtime = end.time_since(start)\n",
    "print(f\"{iterations*2} time steps took {runtime:.0f} ms.\")\n",
    "\n",
    "#copy the result from the GPU to Python for plotting\n",
    "gpu_result_u = np.zeros_like(u_initial)\n",
    "drv.memcpy_dtoh(gpu_result_u, u_new)\n",
    "gpu_result_v = np.zeros_like(v_initial)\n",
    "drv.memcpy_dtoh(gpu_result_v, v_new)\n",
    "gpu_result_w = np.zeros_like(w_initial)\n",
    "drv.memcpy_dtoh(gpu_result_w, w_new)\n",
    "\n",
    "fig, ((ax1, ax2), (ax3, ax4), (ax5, ax6)) = plt.subplots(3,2, figsize=(6,10))\n",
    "ax1.imshow(u_initial)\n",
    "ax1.set_title(\"Initial Conditions\\n$u_0$\")\n",
    "ax2.imshow(gpu_result_u)\n",
    "ax2.set_title(\"Final Result From GPU\\n$u$\")\n",
    "\n",
    "ax3.imshow(v_initial)\n",
    "ax3.set_title(\"$v_0$\")\n",
    "ax4.imshow(gpu_result_v)\n",
    "ax4.set_title(\"$v$\")\n",
    "\n",
    "ax5.imshow(w_initial)\n",
    "ax5.set_title(\"$w_0$\")\n",
    "ax6.imshow(gpu_result_w)\n",
    "ax6.set_title(\"$w$\")\n",
    "plt.show()"
   ]
  },
  {
   "cell_type": "markdown",
   "metadata": {
    "hidden": true
   },
   "source": [
    "so, naively using np.float64 instead of np.float32 gave the wrong results!"
   ]
  },
  {
   "cell_type": "code",
   "execution_count": 26,
   "metadata": {
    "ExecuteTime": {
     "end_time": "2020-08-21T00:03:30.192895Z",
     "start_time": "2020-08-21T00:03:30.128013Z"
    },
    "hidden": true
   },
   "outputs": [
    {
     "name": "stdout",
     "output_type": "stream",
     "text": [
      "(dtype('float64'), dtype('float64'), dtype('float64'))\n",
      "(4.0820480049152e+17, 1.0362887398093386, 1.2197722687149621)\n",
      "5.0 seconds of simulation time simulated in 22.3 seconds of real time on the right sized grid!\n"
     ]
    }
   ],
   "source": [
    "print((gpu_result_u.dtype,gpu_result_v.dtype,gpu_result_w.dtype))\n",
    "\n",
    "#verify that changes are happening in the auxiliary scalar fields\n",
    "msd_u = sum(gpu_result_u.flatten()**2)\n",
    "msd_v = sum(gpu_result_v.flatten()**2)\n",
    "msd_w = sum(gpu_result_w.flatten()**2)\n",
    "print((msd_u,msd_v,msd_w))\n",
    "\n",
    "time_final = iterations*2*0.025 #milliseconds\n",
    "print(f'{time_final/10**3:.1f} seconds of simulation time simulated in {runtime/10**3:.1f} seconds of real time on the right sized grid!')"
   ]
  },
  {
   "cell_type": "code",
   "execution_count": 20,
   "metadata": {
    "ExecuteTime": {
     "end_time": "2020-08-21T00:01:36.686211Z",
     "start_time": "2020-08-21T00:01:36.532688Z"
    },
    "hidden": true
   },
   "outputs": [
    {
     "name": "stdout",
     "output_type": "stream",
     "text": [
      "(dtype('float32'), dtype('float32'), dtype('float32'))\n",
      "(2.6732465436858778e+17, 0.0, 2.9112931683450416e-10)\n",
      "5.0 seconds of simulation time simulated in 14.4 seconds of real time on the right sized grid!\n"
     ]
    }
   ],
   "source": [
    "print((gpu_result_u.dtype,gpu_result_v.dtype,gpu_result_w.dtype))\n",
    "\n",
    "#verify that changes are happening in the auxiliary scalar fields\n",
    "msd_u = sum(gpu_result_u.flatten()**2)\n",
    "msd_v = sum(gpu_result_v.flatten()**2)\n",
    "msd_w = sum(gpu_result_w.flatten()**2)\n",
    "print((msd_u,msd_v,msd_w))\n",
    "\n",
    "time_final = iterations*2*0.025 #milliseconds\n",
    "print(f'{time_final/10**3:.1f} seconds of simulation time simulated in {runtime/10**3:.1f} seconds of real time on the right sized grid!')"
   ]
  },
  {
   "cell_type": "markdown",
   "metadata": {
    "heading_collapsed": true
   },
   "source": [
    "# TODO: dev for time_step_kernel\n",
    "- TODO: put it all together test the numerical disagreement in the computational checks folder.  Write this up and report to WJ! He's gonna be so stoked!\n",
    "- TODO: the following extra stuff\n",
    "- TODO: tune the kernel for a slightly improved runtime!\n",
    "- TODO (bonus) : make a copy method that shades according to an input I_ext field, that is user defined (with a pycuda gpuaray?).  \n",
    "- TODO (bonus) : Making a flashy .mov of a heart shaped stimulus would impress WJ... I would need to dev some regular .png saving methods first.  perhaps this could be done in the device namespace thanks to my 2TB nvme ssd...\n",
    "- TODO: try if the function_prepared call reduces runtime"
   ]
  },
  {
   "cell_type": "code",
   "execution_count": 32,
   "metadata": {
    "ExecuteTime": {
     "end_time": "2020-08-21T00:41:59.602990Z",
     "start_time": "2020-08-21T00:41:59.598973Z"
    },
    "hidden": true
   },
   "outputs": [
    {
     "data": {
      "text/plain": [
       "numpy.ndarray"
      ]
     },
     "execution_count": 32,
     "metadata": {},
     "output_type": "execute_result"
    }
   ],
   "source": [
    "type(u_initial)"
   ]
  },
  {
   "cell_type": "code",
   "execution_count": 33,
   "metadata": {
    "ExecuteTime": {
     "end_time": "2020-08-21T00:42:08.520909Z",
     "start_time": "2020-08-21T00:42:08.511651Z"
    },
    "hidden": true
   },
   "outputs": [
    {
     "data": {
      "text/plain": [
       "dtype('float32')"
      ]
     },
     "execution_count": 33,
     "metadata": {},
     "output_type": "execute_result"
    }
   ],
   "source": [
    "u_initial.dtype"
   ]
  },
  {
   "cell_type": "code",
   "execution_count": 35,
   "metadata": {
    "ExecuteTime": {
     "end_time": "2020-08-21T00:42:31.845233Z",
     "start_time": "2020-08-21T00:42:31.841154Z"
    },
    "hidden": true
   },
   "outputs": [
    {
     "data": {
      "text/plain": [
       "(200, 200)"
      ]
     },
     "execution_count": 35,
     "metadata": {},
     "output_type": "execute_result"
    }
   ],
   "source": [
    "u_initial.shape"
   ]
  },
  {
   "cell_type": "markdown",
   "metadata": {},
   "source": [
    "# DONE: simplest functional routine that uses time_step_kernel to generate a tip log file from a given initial condition\n",
    "# DONE: copied/cleaned section into gener_tip_logs_cuda.py\n",
    "# TODO: work LR model into a cuda kernel.  Hint: I might have already done ^this"
   ]
  },
  {
   "cell_type": "code",
   "execution_count": 1,
   "metadata": {
    "ExecuteTime": {
     "end_time": "2021-09-27T20:55:49.624762Z",
     "start_time": "2021-09-27T20:55:48.370167Z"
    }
   },
   "outputs": [
    {
     "name": "stdout",
     "output_type": "stream",
     "text": [
      "Automatic calling is: Smart\n"
     ]
    }
   ],
   "source": [
    "#initialize\n",
    "import numpy as np, pandas as pd, matplotlib.pyplot as plt\n",
    "\n",
    "#automate the boring stuff\n",
    "# from IPython import utils\n",
    "import time, os, sys, re\n",
    "beep = lambda x: os.system(\"echo -n '\\\\a';sleep 0.2;\" * x)\n",
    "if not 'nb_dir' in globals():\n",
    "\tnb_dir = os.getcwd()\n",
    "    \n",
    "#LLVM JIT Acceleration\n",
    "from numba import njit\n",
    "\n",
    "from skimage import measure\n",
    "\n",
    "#load the libraries\n",
    "from lib import *\n",
    "from lib.utils.dist_func import *\n",
    "from lib.utils.utils_jsonio import *\n",
    "from lib.model.minimal_model_cuda import *\n",
    "#get the time_step_kernel\n",
    "# kernel_string = get_kernel_string_FK_model(**kwargs, DT=dt)\n",
    "\n",
    "from lib.measure.utils_measure_tips_cpu import fetch_txt_to_tip_dict\n",
    "from lib.utils.ProgressBar import printProgressBar\n",
    "\n",
    "#load the libraries\n",
    "from lib.utils.operari import *\n",
    "# from lib.measure.get_tips import *\n",
    "# from lib.measure.intersection import *\n",
    "# from lib.measure.tracking import link\n",
    "\n",
    "#automate the boring stuff\n",
    "# from IPython import utils\n",
    "import time, os, sys, re\n",
    "beep = lambda x: os.system(\"echo -n '\\\\a';sleep 0.2;\" * x)\n",
    "if not 'nb_dir' in globals():\n",
    "    nb_dir = os.getcwd()\n",
    "    \n",
    "%autocall 1\n",
    "%load_ext autoreload\n",
    "%autoreload 2"
   ]
  },
  {
   "cell_type": "code",
   "execution_count": 2,
   "metadata": {
    "ExecuteTime": {
     "end_time": "2021-09-27T20:55:57.391024Z",
     "start_time": "2021-09-27T20:55:57.352024Z"
    }
   },
   "outputs": [],
   "source": [
    "#load initial conditions interactively\n",
    "#find file interactively\n",
    "# print(\"please select a file from within the desired folder.\")\n",
    "# input_file_name = search_for_file()\n",
    "input_file_name='/home/timothytyree/Documents/GitHub/care/notebooks/Data/initial-conditions-suite-2/ic-in/ic_200x200.001.31.npz'\n",
    "ic = load_buffer(input_file_name)\n",
    "\n",
    "# ic=get_txt()\n",
    "# ic=get_txt(txt_id1=1, txt_id2=1, width=300, height=300, worker_dir=nb_dir)#, **kwargs)"
   ]
  },
  {
   "cell_type": "code",
   "execution_count": 4,
   "metadata": {
    "ExecuteTime": {
     "end_time": "2021-09-27T20:56:24.682969Z",
     "start_time": "2021-09-27T20:56:24.505386Z"
    }
   },
   "outputs": [
    {
     "name": "stderr",
     "output_type": "stream",
     "text": [
      "Clipping input data to the valid range for imshow with RGB data ([0..1] for floats or [0..255] for integers).\n"
     ]
    },
    {
     "data": {
      "image/png": "[encoded data removed]",
      "text/plain": [
       "<Figure size 432x288 with 1 Axes>"
      ]
     },
     "metadata": {
      "needs_background": "light"
     },
     "output_type": "display_data"
    }
   ],
   "source": [
    "tme=0\n",
    "plt.imshow(ic)\n",
    "plt.title(f\"t={tme}\")\n",
    "plt.show()"
   ]
  },
  {
   "cell_type": "code",
   "execution_count": 165,
   "metadata": {
    "ExecuteTime": {
     "end_time": "2021-02-20T01:52:57.908980Z",
     "start_time": "2021-02-20T01:52:57.873967Z"
    }
   },
   "outputs": [],
   "source": [
    "height, width, channel_no = ic.shape\n",
    "\n",
    "#map initial condition to the three initial scalar fields\n",
    "u_initial = np.array(ic.astype(np.float64)[...,0])\n",
    "v_initial = np.array(ic.astype(np.float64)[...,1])\n",
    "w_initial = np.array(ic.astype(np.float64)[...,2])"
   ]
  },
  {
   "cell_type": "code",
   "execution_count": 166,
   "metadata": {
    "ExecuteTime": {
     "end_time": "2021-02-20T01:53:02.074184Z",
     "start_time": "2021-02-20T01:53:02.037573Z"
    }
   },
   "outputs": [],
   "source": [
    "#load parameters for parameter set 8 for the Fenton-Karma Model\n",
    "param_file_name = '/home/timothytyree/Documents/GitHub/care/notebooks/lib/model/param_set_8.json'\n",
    "kwargs = read_parameters_from_json(param_file_name)\n",
    "dt=0.025\n",
    "kwargs['diffCoef']=0.001\n",
    "kernel_string = get_kernel_string_FK_model(**kwargs, DT=dt,DX=0.025,height=height,width=width)"
   ]
  },
  {
   "cell_type": "code",
   "execution_count": 167,
   "metadata": {
    "ExecuteTime": {
     "end_time": "2021-02-20T01:53:06.036924Z",
     "start_time": "2021-02-20T01:53:05.200750Z"
    }
   },
   "outputs": [],
   "source": [
    "\n",
    "#initializing cuda context\n",
    "#initialize PyCuda and get compute capability needed for compilation\n",
    "context = drv.Device(0).make_context()\n",
    "devprops = { str(k): v for (k, v) in context.get_device().get_attributes().items() }\n",
    "cc = str(devprops['COMPUTE_CAPABILITY_MAJOR']) + str(devprops['COMPUTE_CAPABILITY_MINOR'])\n",
    "\n",
    "#define how resources are used\n",
    "# width  = kwargs['width']\n",
    "# height = kwargs['height']\n",
    "threads = (10,10,1)\n",
    "grid = (int(width/10), int(height/10), 1)\n",
    "block_size_string = \"#define block_size_x 10\\n#define block_size_y 10\\n\"\n",
    "\n",
    "#don't allocate memory many times for the same task!\n",
    "#allocate GPU memory for voltage scalar field\n",
    "u_old = drv.mem_alloc(u_initial.nbytes)\n",
    "u_new = drv.mem_alloc(u_initial.nbytes)\n",
    "\n",
    "#allocate GPU memory for v and w auxiliary fields\n",
    "v_old = drv.mem_alloc(v_initial.nbytes)\n",
    "v_new = drv.mem_alloc(v_initial.nbytes)\n",
    "w_old = drv.mem_alloc(w_initial.nbytes)\n",
    "w_new = drv.mem_alloc(w_initial.nbytes)\n",
    "\n",
    "#setup thread block dimensions and compile the kernel\n",
    "mod = SourceModule(block_size_string+kernel_string)\n",
    "time_step_kernel = mod.get_function(\"time_step_kernel\")\n"
   ]
  },
  {
   "cell_type": "code",
   "execution_count": 168,
   "metadata": {
    "ExecuteTime": {
     "end_time": "2021-02-20T01:53:06.622219Z",
     "start_time": "2021-02-20T01:53:06.589796Z"
    }
   },
   "outputs": [],
   "source": [
    "#default observation parameters\n",
    "n = 50  #half the number of steps between observations of spiral tips\n",
    "nsteps = 10**6\n",
    "pad = 10\n",
    "edge_tolerance = 6\n",
    "atol = 1e-10\n",
    "printing=True\n",
    "\n",
    "width, height, channel_no = ic.shape\n",
    "zero_txt = np.zeros((width, height, channel_no), dtype=np.float64)\n",
    "nanstate = [np.nan,np.nan,np.nan]\n",
    "ycoord_mesh, xcoord_mesh = np.meshgrid(np.arange(0,width+2*(pad)),np.arange(0,width+2*pad))"
   ]
  },
  {
   "cell_type": "code",
   "execution_count": 169,
   "metadata": {
    "ExecuteTime": {
     "end_time": "2021-02-20T01:53:08.955441Z",
     "start_time": "2021-02-20T01:53:08.920490Z"
    }
   },
   "outputs": [],
   "source": [
    "# def step_forward_2n_times(time_step_kernel,drv,n,txt_in,\n",
    "#                          u_new, u_old, v_new, v_old, w_new, w_old,\n",
    "#                          threads, grid):\n",
    "#     '''compute the time step for the correct number of iterations = steps/2'''\n",
    "#     iterations = n\n",
    "\n",
    "#     #map input condition to the three input scalar fields\n",
    "#     u_in = np.array(txt_in.astype(np.float64)[...,0])\n",
    "#     v_in = np.array(txt_in.astype(np.float64)[...,1])\n",
    "#     w_in = np.array(txt_in.astype(np.float64)[...,2])\n",
    "\n",
    "#     # #create events for measuring performance\n",
    "#     # start = drv.Event()\n",
    "#     # end = drv.Event()\n",
    "\n",
    "#     #move the data to the GPU\n",
    "#     drv.memcpy_htod(u_old, u_in)\n",
    "#     drv.memcpy_htod(u_new, u_in)\n",
    "#     drv.memcpy_htod(v_old, v_in)\n",
    "#     drv.memcpy_htod(v_new, v_in)\n",
    "#     drv.memcpy_htod(w_old, w_in)\n",
    "#     drv.memcpy_htod(w_new, w_in)\n",
    "\n",
    "#     #call the GPU kernel 2*iterations times (and don't measure performance)\n",
    "#     context.synchronize()\n",
    "#     # start.record()\n",
    "#     for i in range(iterations):\n",
    "#         time_step_kernel(u_new, u_old, v_new, v_old, w_new, w_old, block=threads, grid=grid)\n",
    "#         time_step_kernel(u_old, u_new, v_old, v_new, w_old, w_new, block=threads, grid=grid)\n",
    "#     # end.record()\n",
    "#     context.synchronize()\n",
    "#     # runtime = end.time_since(start)\n",
    "#     # print(f\"{iterations*2} time steps took {runtime:.0f} ms.\")\n",
    "\n",
    "#     #copy the result from the GPU to Python\n",
    "#     gpu_result_u = np.zeros_like(u_in)\n",
    "#     drv.memcpy_dtoh(gpu_result_u, u_old)\n",
    "#     gpu_result_v = np.zeros_like(v_in)\n",
    "#     drv.memcpy_dtoh(gpu_result_v, v_old)\n",
    "#     gpu_result_w = np.zeros_like(w_in)\n",
    "#     drv.memcpy_dtoh(gpu_result_w, w_old)\n",
    "#     txt_out_gpu = np.stack((gpu_result_u,gpu_result_v,gpu_result_w),axis=2)\n",
    "#     return txt_out_gpu"
   ]
  },
  {
   "cell_type": "code",
   "execution_count": 170,
   "metadata": {
    "ExecuteTime": {
     "end_time": "2021-02-20T01:53:09.542651Z",
     "start_time": "2021-02-20T01:53:09.507446Z"
    }
   },
   "outputs": [],
   "source": [
    "#initialize simulation\n",
    "txt = ic.copy()\n",
    "tme = 0.\n",
    "tip_state_lst = []\n",
    "nsteps=1000"
   ]
  },
  {
   "cell_type": "code",
   "execution_count": 171,
   "metadata": {
    "ExecuteTime": {
     "end_time": "2021-02-20T01:53:10.121831Z",
     "start_time": "2021-02-20T01:53:10.090195Z"
    }
   },
   "outputs": [],
   "source": [
    "txt_to_tip_dict=fetch_txt_to_tip_dict(width,height,DX=0.025,DY=0.025, **kwargs)"
   ]
  },
  {
   "cell_type": "code",
   "execution_count": 172,
   "metadata": {
    "ExecuteTime": {
     "end_time": "2021-02-20T01:53:10.640371Z",
     "start_time": "2021-02-20T01:53:10.609644Z"
    }
   },
   "outputs": [],
   "source": [
    "# def get_one_step_map(time_step_kernel,drv,n,\n",
    "#                              u_new, u_old, v_new, v_old, w_new, w_old,\n",
    "#                              threads, grid):\n",
    "#     def one_step_map(txt):\n",
    "#         return step_forward_2n_times(time_step_kernel,drv,n,txt,\n",
    "#                              u_new, u_old, v_new, v_old, w_new, w_old,\n",
    "#                              threads, grid)\n",
    "#     return one_step_map\n"
   ]
  },
  {
   "cell_type": "code",
   "execution_count": 173,
   "metadata": {
    "ExecuteTime": {
     "end_time": "2021-02-20T01:53:13.037662Z",
     "start_time": "2021-02-20T01:53:11.176664Z"
    }
   },
   "outputs": [
    {
     "name": "stdout",
     "output_type": "stream",
     "text": [
      "Progress: |██████████████████████████████████████████████████| 100.5% Complete\r"
     ]
    }
   ],
   "source": [
    "#integrate forward in time\n",
    "one_step_map=get_one_step_map(time_step_kernel,drv,n,\n",
    "                             u_new, u_old, v_new, v_old, w_new, w_old,\n",
    "                             threads, grid)\n",
    "tmax = 500#nsteps*dt\n",
    "while tme <= tmax:\n",
    "    #step forward 2n times\n",
    "#     txt_in = txt.copy()\n",
    "#     txt = step_forward_2n_times(time_step_kernel,drv,n,txt_in,\n",
    "#                              u_new, u_old, v_new, v_old, w_new, w_old,\n",
    "#                              threads, grid)\n",
    "    txt=one_step_map(txt)\n",
    "    tme += 2*n*dt\n",
    "\n",
    "#     dict_out = txt_to_tip_dict(txt, nanstate, zero_txt, xcoord_mesh, ycoord_mesh, \n",
    "#                         pad=pad, edge_tolerance=edge_tolerance, atol=atol,tme=tme)\n",
    "#     tip_state_lst.append(dict_out)\n",
    "#     num_tips = dict_out['n']\n",
    "#     stop_early = (num_tips==0) & (tme>100)\n",
    "#     if stop_early:\n",
    "#         break\n",
    "    if printing:\n",
    "        printProgressBar(tme, tmax, prefix = 'Progress:', suffix = 'Complete', length = 50)"
   ]
  },
  {
   "cell_type": "code",
   "execution_count": 174,
   "metadata": {
    "ExecuteTime": {
     "end_time": "2021-02-20T01:53:13.604978Z",
     "start_time": "2021-02-20T01:53:13.577966Z"
    }
   },
   "outputs": [],
   "source": [
    "# txt_to_tip_dict(txt)"
   ]
  },
  {
   "cell_type": "code",
   "execution_count": 175,
   "metadata": {
    "ExecuteTime": {
     "end_time": "2021-02-20T01:53:13.963759Z",
     "start_time": "2021-02-20T01:53:13.932646Z"
    }
   },
   "outputs": [],
   "source": [
    "base_dir = '/'.join(os.path.dirname(input_file_name).split('/')[:-1])\n",
    "base_save_folder_name = 'ds_5_param_set_8'\n",
    "base_save_dir = os.path.join(base_dir, base_save_folder_name)\n",
    "\n",
    "#define subfolders\n",
    "subfolder_list = ('birth-death-rates', 'trajectories', 'Log')\n",
    "data_folder_bdrates = os.path.join(base_save_dir,subfolder_list[0])\n",
    "data_folder_traj    = os.path.join(base_save_dir,subfolder_list[1])\n",
    "data_folder_log     = os.path.join(base_save_dir,subfolder_list[2])\n",
    "\n",
    "data_fn_log = os.path.basename(input_file_name).replace('.npz', '_log.csv')\n"
   ]
  },
  {
   "cell_type": "code",
   "execution_count": 176,
   "metadata": {
    "ExecuteTime": {
     "end_time": "2021-02-20T01:53:15.360790Z",
     "start_time": "2021-02-20T01:53:15.074674Z"
    }
   },
   "outputs": [
    {
     "name": "stderr",
     "output_type": "stream",
     "text": [
      "Clipping input data to the valid range for imshow with RGB data ([0..1] for floats or [0..255] for integers).\n"
     ]
    },
    {
     "data": {
      "image/png": "[encoded data removed]",
      "text/plain": [
       "<Figure size 576x504 with 1 Axes>"
      ]
     },
     "metadata": {},
     "output_type": "display_data"
    }
   ],
   "source": [
    "plt.imshow(txt)\n",
    "plt.title(f\"t={tme}\")\n",
    "plt.show()"
   ]
  },
  {
   "cell_type": "code",
   "execution_count": 17,
   "metadata": {
    "ExecuteTime": {
     "end_time": "2021-02-19T22:51:04.203308Z",
     "start_time": "2021-02-19T22:51:04.171455Z"
    }
   },
   "outputs": [
    {
     "data": {
      "text/plain": [
       "[]"
      ]
     },
     "execution_count": 17,
     "metadata": {},
     "output_type": "execute_result"
    }
   ],
   "source": [
    "tip_state_lst"
   ]
  },
  {
   "cell_type": "code",
   "execution_count": 70,
   "metadata": {
    "ExecuteTime": {
     "end_time": "2021-02-10T03:58:38.396408Z",
     "start_time": "2021-02-10T03:58:38.364718Z"
    }
   },
   "outputs": [],
   "source": [
    "#save tip log.csv in the appropriate folder\n",
    "df = pd.DataFrame(tip_state_lst)\n",
    "df.to_csv(data_fn_log, index=False)"
   ]
  },
  {
   "cell_type": "code",
   "execution_count": 71,
   "metadata": {
    "ExecuteTime": {
     "end_time": "2021-02-10T03:58:38.957539Z",
     "start_time": "2021-02-10T03:58:38.913690Z"
    },
    "scrolled": false
   },
   "outputs": [],
   "source": [
    "#move the completed file to ic-out\n",
    "completed_ic_fn = input_file_name.replace('ic-in','ic-out')\n",
    "# os.rename(input_file_name,completed_fn)"
   ]
  },
  {
   "cell_type": "code",
   "execution_count": 73,
   "metadata": {
    "ExecuteTime": {
     "end_time": "2021-02-10T03:58:51.614361Z",
     "start_time": "2021-02-10T03:58:51.578521Z"
    }
   },
   "outputs": [],
   "source": [
    "# input_file_name = '/home/timothytyree/Documents/GitHub/care/notebooks/Data/initial-conditions-suite-2/ic-in/ic_200x200.005.21.npz'\n",
    "\n",
    "# from lib.tip_log_from_ic import *\n",
    "# %autocall 1\n",
    "# %load_ext autoreload\n",
    "# %autoreload 2\n",
    "\n",
    "# generate_tip_log_from_ic(input_file_name, nsteps=10**3)\n",
    "\n",
    "# # 10**4/10**2*2/60\n",
    "# np.max(txt[...,0])"
   ]
  },
  {
   "cell_type": "code",
   "execution_count": 61,
   "metadata": {
    "ExecuteTime": {
     "end_time": "2021-02-10T03:57:33.004328Z",
     "start_time": "2021-02-10T03:57:32.971293Z"
    }
   },
   "outputs": [
    {
     "data": {
      "text/plain": [
       "12.5"
      ]
     },
     "execution_count": 61,
     "metadata": {},
     "output_type": "execute_result"
    }
   ],
   "source": [
    "tme"
   ]
  },
  {
   "cell_type": "code",
   "execution_count": 1,
   "metadata": {
    "ExecuteTime": {
     "end_time": "2021-03-14T17:40:08.738667Z",
     "start_time": "2021-03-14T17:40:08.697917Z"
    }
   },
   "outputs": [
    {
     "ename": "NameError",
     "evalue": "name 'txt_to_tip_dict' is not defined",
     "output_type": "error",
     "traceback": [
      "\u001b[0;31m---------------------------------------------------------------------------\u001b[0m",
      "\u001b[0;31mNameError\u001b[0m                                 Traceback (most recent call last)",
      "\u001b[0;32m<ipython-input-1-ba592c629492>\u001b[0m in \u001b[0;36m<module>\u001b[0;34m\u001b[0m\n\u001b[0;32m----> 1\u001b[0;31m \u001b[0mtxt_to_tip_dict\u001b[0m\u001b[0;34m\u001b[0m\u001b[0;34m\u001b[0m\u001b[0m\n\u001b[0m",
      "\u001b[0;31mNameError\u001b[0m: name 'txt_to_tip_dict' is not defined"
     ]
    }
   ],
   "source": [
    "txt_to_tip_dict"
   ]
  },
  {
   "cell_type": "code",
   "execution_count": 5,
   "metadata": {
    "ExecuteTime": {
     "end_time": "2021-03-14T17:40:51.396212Z",
     "start_time": "2021-03-14T17:40:51.387520Z"
    }
   },
   "outputs": [
    {
     "ename": "NameError",
     "evalue": "name 'fetch_txt_to_tip_dict' is not defined",
     "output_type": "error",
     "traceback": [
      "\u001b[0;31m---------------------------------------------------------------------------\u001b[0m",
      "\u001b[0;31mNameError\u001b[0m                                 Traceback (most recent call last)",
      "\u001b[0;32m<ipython-input-5-c01f26118ae9>\u001b[0m in \u001b[0;36m<module>\u001b[0;34m\u001b[0m\n\u001b[0;32m----> 1\u001b[0;31m \u001b[0mtxt_to_tip_dict\u001b[0m\u001b[0;34m=\u001b[0m\u001b[0mfetch_txt_to_tip_dict\u001b[0m\u001b[0;34m(\u001b[0m\u001b[0mwidth\u001b[0m\u001b[0;34m=\u001b[0m\u001b[0;36m200\u001b[0m\u001b[0;34m,\u001b[0m\u001b[0mheight\u001b[0m\u001b[0;34m=\u001b[0m\u001b[0;36m200\u001b[0m\u001b[0;34m,\u001b[0m\u001b[0mDX\u001b[0m\u001b[0;34m=\u001b[0m\u001b[0;36m0.025\u001b[0m\u001b[0;34m,\u001b[0m\u001b[0mDY\u001b[0m\u001b[0;34m=\u001b[0m\u001b[0;36m0.025\u001b[0m\u001b[0;34m)\u001b[0m\u001b[0;31m#, **kwargs)\u001b[0m\u001b[0;34m\u001b[0m\u001b[0;34m\u001b[0m\u001b[0m\n\u001b[0m",
      "\u001b[0;31mNameError\u001b[0m: name 'fetch_txt_to_tip_dict' is not defined"
     ]
    }
   ],
   "source": [
    "txt_to_tip_dict=fetch_txt_to_tip_dict(width=200,height=200,DX=0.025,DY=0.025)#, **kwargs)\n"
   ]
  },
  {
   "cell_type": "code",
   "execution_count": 8,
   "metadata": {
    "ExecuteTime": {
     "end_time": "2021-03-14T17:41:10.437935Z",
     "start_time": "2021-03-14T17:41:10.361905Z"
    }
   },
   "outputs": [
    {
     "ename": "NameError",
     "evalue": "name 'fetch_txt_to_tip_dict' is not defined",
     "output_type": "error",
     "traceback": [
      "\u001b[0;31m---------------------------------------------------------------------------\u001b[0m",
      "\u001b[0;31mNameError\u001b[0m                                 Traceback (most recent call last)",
      "\u001b[0;32m<ipython-input-8-6a22da5091e1>\u001b[0m in \u001b[0;36m<module>\u001b[0;34m\u001b[0m\n\u001b[0;32m----> 1\u001b[0;31m \u001b[0mfetch_txt_to_tip_dict\u001b[0m\u001b[0;34m\u001b[0m\u001b[0;34m\u001b[0m\u001b[0m\n\u001b[0m",
      "\u001b[0;31mNameError\u001b[0m: name 'fetch_txt_to_tip_dict' is not defined"
     ]
    }
   ],
   "source": [
    "fetch_txt_to_tip_dict"
   ]
  },
  {
   "cell_type": "code",
   "execution_count": 1,
   "metadata": {
    "ExecuteTime": {
     "end_time": "2021-06-02T02:00:05.420720Z",
     "start_time": "2021-06-02T02:00:02.668336Z"
    }
   },
   "outputs": [],
   "source": [
    "from lib.model.minimal_model_cuda import *\n"
   ]
  },
  {
   "cell_type": "code",
   "execution_count": 12,
   "metadata": {
    "ExecuteTime": {
     "end_time": "2021-03-14T18:15:12.196119Z",
     "start_time": "2021-03-14T18:15:12.141883Z"
    }
   },
   "outputs": [],
   "source": [
    "from lib.routines.gener_tip_logs_cuda import *\n",
    "\n",
    "df,txt=routine_gener_tip_logs_cuda(ic=txt,tmax_sec= 1.,tmin_sec=0.,\n",
    "    printing=True,recording=False,\n",
    "    diffCoef=0.001,output_time_resolution=2.)\n",
    "print(df)"
   ]
  },
  {
   "cell_type": "markdown",
   "metadata": {
    "heading_collapsed": true
   },
   "source": [
    "# Example of kernel concurrency"
   ]
  },
  {
   "cell_type": "code",
   "execution_count": 16,
   "metadata": {
    "ExecuteTime": {
     "end_time": "2021-06-16T18:15:24.258513Z",
     "start_time": "2021-06-16T18:15:24.220672Z"
    },
    "hidden": true
   },
   "outputs": [
    {
     "name": "stdout",
     "output_type": "stream",
     "text": [
      "\n",
      "=== Device attributes\n",
      "Name: GeForce RTX 2080 with Max-Q Design\n",
      "Compute capability: (7, 5)\n",
      "Concurrent Kernels: True\n",
      "\n",
      "=== Printing answers\n",
      "'kernel':0:{'shape': (400,), 'min': -3193.6042, 'max': 2352.6826}\n",
      "'kernel':1:{'shape': (400,), 'min': -3665.351, 'max': 3034.6455}\n",
      "\n",
      "=== Checking answers\n",
      "Dataset 0 :\n",
      "passed.\n",
      "Dataset 1 :\n",
      "passed.\n",
      "\n",
      "=== Timing info (for last set of kernel launches)\n",
      "Dataset 0\n",
      "kernel_begin : 2.3356480598449707\n",
      "kernel_end : 2.559231996536255\n",
      "Dataset 1\n",
      "kernel_begin : 2.3433279991149902\n",
      "kernel_end : 2.566783905029297\n"
     ]
    }
   ],
   "source": [
    "\n",
    "#!python \n",
    "#! /usr/bin/env python\n",
    "# A simple program to illustrate kernel concurrency with PyCuda.\n",
    "# Reference: Chapter 3.2.6.5 in Cuda C Programming Guide Version 3.2.\n",
    "# Jesse Lu, 2011-04-04\n",
    "\n",
    "import numpy as np\n",
    "import pycuda.autoinit\n",
    "import pycuda.driver as drv\n",
    "from pycuda.compiler import SourceModule\n",
    "\n",
    "#\n",
    "# Set up test scenario.\n",
    "# \n",
    "\n",
    "# Create a simple test kernel.\n",
    "mod = SourceModule(\"\"\"\n",
    "__global__ void my_kernel(float *d) {\n",
    "    const int i = threadIdx.x;\n",
    "    for (int m=0; m<100; m++) {\n",
    "        for (int k=0; k<100 ; k++)\n",
    "            d[i] = d[i] * 2.0;\n",
    "        for (int k=0; k<100 ; k++)\n",
    "            d[i] = d[i] / 2.0;\n",
    "    }\n",
    "    d[i] = d[i] * 2.0;\n",
    "}\n",
    "\"\"\")\n",
    "my_kernel = mod.get_function(\"my_kernel\")\n",
    "\n",
    "# Create the test data on the host.\n",
    "N = 400 # Size of datasets.\n",
    "n = 2 # Number of datasets (and concurrent operations) used.\n",
    "data, data_check, d_data = [], [], []\n",
    "for k in range(n):\n",
    "    data.append(np.random.randn(N).astype(np.float32)) # Create random data.\n",
    "    data_check.append(data[k].copy()) # For checking the result afterwards. \n",
    "    d_data.append(drv.mem_alloc(data[k].nbytes)) # Allocate memory on device.\n",
    "\n",
    "#\n",
    "# Start concurrency test.\n",
    "#\n",
    "\n",
    "# Use this event as a reference point.\n",
    "ref = drv.Event()\n",
    "ref.record()\n",
    "\n",
    "# Create the streams and events needed.\n",
    "stream, event = [], []\n",
    "marker_names = ['kernel_begin', 'kernel_end']\n",
    "for k in range(n):\n",
    "    stream.append(drv.Stream())\n",
    "    event.append(dict([(marker_names[l], drv.Event()) for l in range(len(marker_names))]))\n",
    "\n",
    "# Transfer to device.\n",
    "for k in range(n):\n",
    "    drv.memcpy_htod(d_data[k], data[k]) \n",
    "\n",
    "# Run kernels many times, we will only keep data from last loop iteration.\n",
    "for j in range(10):\n",
    "    for k in range(n):\n",
    "        event[k]['kernel_begin'].record(stream[k])\n",
    "        my_kernel(d_data[k], block=(N,1,1), stream=stream[k]) \n",
    "    for k in range(n): # Commenting out this line should break concurrency.\n",
    "        event[k]['kernel_end'].record(stream[k])\n",
    "\n",
    "# Transfer data back to host.\n",
    "for k in range(n):\n",
    "    drv.memcpy_dtoh(data[k], d_data[k]) \n",
    "\n",
    "# \n",
    "# Output results.\n",
    "#\n",
    "\n",
    "print('\\n=== Device attributes')\n",
    "dev = pycuda.autoinit.device\n",
    "print('Name:', dev.name())\n",
    "print('Compute capability:', dev.compute_capability())\n",
    "print('Concurrent Kernels:', \\\n",
    "    bool(dev.get_attribute(drv.device_attribute.CONCURRENT_KERNELS)))\n",
    "\n",
    "print('\\n=== Printing answers')\n",
    "for k in range(n):\n",
    "    vals=data[k]\n",
    "    dict_out={'shape':vals.shape,\n",
    "              'min':np.min(vals),\n",
    "             'max':np.max(vals)}\n",
    "    print (f\"'kernel':{k}:\"+f'{dict_out}')\n",
    "\n",
    "print('\\n=== Checking answers')\n",
    "for k in range(n):\n",
    "    print('Dataset', k, ':',)\n",
    "    if (np.linalg.norm((data_check[k] * 2**(j+1)) - data[k]) == 0.0):\n",
    "        print('passed.')\n",
    "    else:\n",
    "        print('FAILED!')\n",
    "\n",
    "print('\\n=== Timing info (for last set of kernel launches)')\n",
    "for k in range(n):\n",
    "    print('Dataset', k) \n",
    "    for l in range(len(marker_names)):\n",
    "        print(marker_names[l], ':', ref.time_till(event[k][marker_names[l]]))\n"
   ]
  },
  {
   "cell_type": "markdown",
   "metadata": {
    "hidden": true
   },
   "source": [
    "#### (didn't work) pycuda example using shared memory"
   ]
  },
  {
   "cell_type": "code",
   "execution_count": 20,
   "metadata": {
    "ExecuteTime": {
     "end_time": "2021-06-16T18:22:13.789640Z",
     "start_time": "2021-06-16T18:22:13.784923Z"
    },
    "hidden": true
   },
   "outputs": [],
   "source": [
    "# import pycuda.driver as drv\n",
    "# import pycuda.tools\n",
    "# import pycuda.autoinit\n",
    "# import numpy\n",
    "# from pycuda.compiler import SourceModule\n",
    "\n",
    "# srcry='''\n",
    "# __global__ void reduce0(float *g_idata, float *g_odata) {\n",
    "# extern __shared__ float sdata[];\n",
    "# // each thread loads one element from global to shared mem\n",
    "# unsigned int tid = threadIdx.x;\n",
    "# unsigned int i = blockIdx.x*blockDim.x + threadIdx.x;\n",
    "\n",
    "# sdata[tid] = g_idata[i];\n",
    "# __syncthreads();\n",
    "# // do reduction in shared mem\n",
    "# for(unsigned int s=1; s < blockDim.x; s *= 2) {\n",
    "#    if (tid % (2*s) == 0) {\n",
    "#       sdata[tid] += sdata[tid + s];\n",
    "#    }\n",
    "# __syncthreads();\n",
    "# }\n",
    "# // write result for this block to global mem\n",
    "# if (tid == 0) g_odata[blockIdx.x] = sdata[0];\n",
    "# }\n",
    "# '''\n",
    "\n",
    "# mod = SourceModule(srcry)\n",
    "# reduce0=mod.get_function('reduce0')\n",
    "\n",
    "# a = numpy.random.randn(400).astype(numpy.float32)\n",
    "\n",
    "# dest = numpy.zeros_like(a)\n",
    "# # reduce0(drv.In(a),drv.Out(dest),block=(400,1,1))\n",
    "# reduce0(drv.In(a),drv.Out(dest),block=(400,1,1),shared=4*400)"
   ]
  },
  {
   "cell_type": "markdown",
   "metadata": {
    "heading_collapsed": true
   },
   "source": [
    "# keep your eye on the prize, tim."
   ]
  },
  {
   "cell_type": "markdown",
   "metadata": {
    "hidden": true
   },
   "source": [
    "ingredients:\n",
    "\n",
    "__step 1 (pycuda)__ functionally compute annihilation trajectories using gpu acceleration\n",
    "- transcribe the simplest tip detection kernel into pycuda\n",
    "- find working pycuda example that returns sparse output\n",
    "- (later?) identify list of keyframes that exhibit spiral tip annihilation\n",
    "- return sorted list of locations of annihilating spiral tips. save as numpy array.\n",
    "- load ^that annihilation event along with its first generating keyframe.\n",
    "\n",
    "__step 2 (python)__ analyze the timescale (and lengthscale) overwhich the significance of directionality arises as two spiral tips collide\n",
    "\n",
    "__step 1 (python)__ functionally compute annihilation trajectories using my preexisting python code"
   ]
  },
  {
   "cell_type": "code",
   "execution_count": null,
   "metadata": {
    "hidden": true
   },
   "outputs": [],
   "source": []
  }
 ],
 "metadata": {
  "kernelspec": {
   "display_name": "Python 3",
   "language": "python",
   "name": "python3"
  },
  "language_info": {
   "codemirror_mode": {
    "name": "ipython",
    "version": 3
   },
   "file_extension": ".py",
   "mimetype": "text/x-python",
   "name": "python",
   "nbconvert_exporter": "python",
   "pygments_lexer": "ipython3",
   "version": "3.7.6"
  },
  "toc": {
   "base_numbering": 1,
   "nav_menu": {},
   "number_sections": true,
   "sideBar": true,
   "skip_h1_title": false,
   "title_cell": "Table of Contents",
   "title_sidebar": "Contents",
   "toc_cell": false,
   "toc_position": {},
   "toc_section_display": true,
   "toc_window_display": false
  },
  "varInspector": {
   "cols": {
    "lenName": 16,
    "lenType": 16,
    "lenVar": 40
   },
   "kernels_config": {
    "python": {
     "delete_cmd_postfix": "",
     "delete_cmd_prefix": "del ",
     "library": "var_list.py",
     "varRefreshCmd": "print(var_dic_list())"
    },
    "r": {
     "delete_cmd_postfix": ") ",
     "delete_cmd_prefix": "rm(",
     "library": "var_list.r",
     "varRefreshCmd": "cat(var_dic_list()) "
    }
   },
   "types_to_exclude": [
    "module",
    "function",
    "builtin_function_or_method",
    "instance",
    "_Feature"
   ],
   "window_display": false
  }
 },
 "nbformat": 4,
 "nbformat_minor": 4
}
