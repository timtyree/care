{
 "cells": [
  {
   "cell_type": "code",
   "execution_count": 1,
   "metadata": {
    "ExecuteTime": {
     "end_time": "2020-08-19T01:36:21.997195Z",
     "start_time": "2020-08-19T01:36:20.922882Z"
    }
   },
   "outputs": [],
   "source": [
    "#%pylab inline\n",
    "import numba, numpy as np, matplotlib.pyplot as plt\n",
    "from numba import cuda\n",
    "from pylab import imshow, show\n",
    "from timeit import default_timer as timer"
   ]
  },
  {
   "cell_type": "code",
   "execution_count": 4,
   "metadata": {
    "ExecuteTime": {
     "end_time": "2020-08-19T01:38:03.714120Z",
     "start_time": "2020-08-19T01:38:03.707984Z"
    }
   },
   "outputs": [],
   "source": [
    "#setup initial conditions\n",
    "def get_initial_conditions(nx, ny):\n",
    "    field = np.ones((ny, nx)).astype(np.float32)\n",
    "    field[np.random.randint(0,nx,size=10), np.random.randint(0,ny,size=10)] = 1e3\n",
    "    return field\n",
    "\n",
    "def diffuse(field, dt=0.225):\n",
    "    field[1:nx-1,1:ny-1] = field[1:nx-1,1:ny-1] + dt * (\n",
    "        field[1:nx-1,2:ny]+field[2:nx,1:ny-1]-4*field[1:nx-1,1:ny-1]+\n",
    "        field[0:nx-2,1:ny-1]+field[1:nx-1,0:ny-2] )\n",
    "    return field"
   ]
  },
  {
   "cell_type": "markdown",
   "metadata": {
    "heading_collapsed": true
   },
   "source": [
    "# mandelbrot example"
   ]
  },
  {
   "cell_type": "code",
   "execution_count": null,
   "metadata": {
    "ExecuteTime": {
     "end_time": "2020-08-18T01:10:03.977316Z",
     "start_time": "2020-08-18T01:10:03.969028Z"
    },
    "hidden": true
   },
   "outputs": [],
   "source": [
    "# from numba import autojit\n",
    "@numba.jit\n",
    "def mandel(x, y, max_iters):\n",
    "  \"\"\"\n",
    "    Given the real and imaginary parts of a complex number,\n",
    "    determine if it is a candidate for membership in the Mandelbrot\n",
    "    set given a fixed number of iterations.\n",
    "  \"\"\"\n",
    "  c = complex(x, y)\n",
    "  z = 0.0j\n",
    "  for i in range(max_iters):\n",
    "    z = z*z + c\n",
    "    if (z.real*z.real + z.imag*z.imag) >= 4:\n",
    "      return i\n",
    "\n",
    "  return max_iters\n",
    "\n",
    "@numba.jit\n",
    "def create_fractal(min_x, max_x, min_y, max_y, image, iters):\n",
    "  height = image.shape[0]\n",
    "  width = image.shape[1]\n",
    "\n",
    "  pixel_size_x = (max_x - min_x) / width\n",
    "  pixel_size_y = (max_y - min_y) / height\n",
    "    \n",
    "  for x in range(width):\n",
    "    real = min_x + x * pixel_size_x\n",
    "    for y in range(height):\n",
    "      imag = min_y + y * pixel_size_y\n",
    "      color = mandel(real, imag, iters)\n",
    "      image[y, x] = color"
   ]
  },
  {
   "cell_type": "code",
   "execution_count": null,
   "metadata": {
    "ExecuteTime": {
     "end_time": "2020-08-18T01:10:04.697696Z",
     "start_time": "2020-08-18T01:10:04.695177Z"
    },
    "hidden": true
   },
   "outputs": [],
   "source": [
    "from numba import cuda\n",
    "from numba import *\n",
    "\n",
    "mandel_gpu = cuda.jit(device=True)(mandel)"
   ]
  },
  {
   "cell_type": "code",
   "execution_count": null,
   "metadata": {
    "ExecuteTime": {
     "end_time": "2020-08-18T01:10:05.761378Z",
     "start_time": "2020-08-18T01:10:05.177875Z"
    },
    "hidden": true
   },
   "outputs": [],
   "source": [
    "image = np.zeros((1024, 1536), dtype = np.uint8)\n",
    "start = timer()\n",
    "create_fractal(-2.0, 1.0, -1.0, 1.0, image, 20) \n",
    "dt = timer() - start\n",
    "\n",
    "print(\"Mandelbrot created in %f s\" % dt)\n",
    "imshow(image)\n",
    "show()"
   ]
  },
  {
   "cell_type": "code",
   "execution_count": null,
   "metadata": {
    "hidden": true
   },
   "outputs": [],
   "source": []
  },
  {
   "cell_type": "code",
   "execution_count": null,
   "metadata": {
    "ExecuteTime": {
     "end_time": "2020-08-18T01:10:07.042957Z",
     "start_time": "2020-08-18T01:10:07.038246Z"
    },
    "hidden": true
   },
   "outputs": [],
   "source": [
    "@cuda.jit\n",
    "def mandel_kernel(min_x, max_x, min_y, max_y, image, iters):\n",
    "  height = image.shape[0]\n",
    "  width = image.shape[1]\n",
    "\n",
    "  pixel_size_x = (max_x - min_x) / width\n",
    "  pixel_size_y = (max_y - min_y) / height\n",
    "\n",
    "  startX, startY = cuda.grid(2)\n",
    "  gridX = cuda.gridDim.x * cuda.blockDim.x;\n",
    "  gridY = cuda.gridDim.y * cuda.blockDim.y;\n",
    "\n",
    "  for x in range(startX, width, gridX):\n",
    "    real = min_x + x * pixel_size_x\n",
    "    for y in range(startY, height, gridY):\n",
    "      imag = min_y + y * pixel_size_y \n",
    "      image[y, x] = mandel_gpu(real, imag, iters)"
   ]
  },
  {
   "cell_type": "code",
   "execution_count": null,
   "metadata": {
    "hidden": true
   },
   "outputs": [],
   "source": []
  },
  {
   "cell_type": "code",
   "execution_count": null,
   "metadata": {
    "ExecuteTime": {
     "end_time": "2020-08-18T01:10:12.086773Z",
     "start_time": "2020-08-18T01:10:11.913942Z"
    },
    "hidden": true
   },
   "outputs": [],
   "source": [
    "gimage = np.zeros((1024, 1536), dtype = np.uint8)\n",
    "blockdim = (32, 8)\n",
    "griddim = (32,16)\n",
    "\n",
    "start = timer()\n",
    "d_image = cuda.to_device(gimage)\n",
    "mandel_kernel[griddim, blockdim](-2.0, 1.0, -1.0, 1.0, d_image, 20) \n",
    "d_image.to_host()\n",
    "dt = timer() - start\n",
    "\n",
    "print(\"Mandelbrot created on GPU in %f s\" % dt)\n",
    "imshow(gimage)\n",
    "show()"
   ]
  },
  {
   "cell_type": "markdown",
   "metadata": {
    "heading_collapsed": true
   },
   "source": [
    "# fail at getting time_step to be gpu accelerated without alteration"
   ]
  },
  {
   "cell_type": "code",
   "execution_count": null,
   "metadata": {
    "ExecuteTime": {
     "end_time": "2020-08-17T01:52:42.399840Z",
     "start_time": "2020-08-17T01:52:42.395509Z"
    },
    "hidden": true
   },
   "outputs": [],
   "source": [
    "from lib import *\n",
    "#load the libraries\n",
    "from lib.operari import *\n",
    "from lib.ProgressBar import *\n",
    "from lib.minimal_model import *\n",
    "from lib.TexturePlot import *\n",
    "from lib.get_tips import *\n",
    "from lib.minimal_model import *\n",
    "from lib.intersection import *"
   ]
  },
  {
   "cell_type": "code",
   "execution_count": null,
   "metadata": {
    "ExecuteTime": {
     "end_time": "2020-08-17T01:01:55.955016Z",
     "start_time": "2020-08-17T01:01:55.951516Z"
    },
    "hidden": true
   },
   "outputs": [],
   "source": [
    "from numba import cuda\n",
    "from numba import *\n",
    "\n",
    "time_step_gpu = cuda.jit(device=True)(time_step_at_pixel)"
   ]
  },
  {
   "cell_type": "code",
   "execution_count": null,
   "metadata": {
    "ExecuteTime": {
     "end_time": "2020-08-17T01:52:42.872029Z",
     "start_time": "2020-08-17T01:52:42.857620Z"
    },
    "hidden": true
   },
   "outputs": [],
   "source": [
    "#import the time step and use it on an example texture\n",
    "file = '/home/timothytyree/Documents/GitHub/care/notebooks/Data/initial-conditions-suite-2/ic-out/ic_200x200.001.13.npz'\n",
    "txt = load_buffer(file)\n",
    "txt.shape"
   ]
  },
  {
   "cell_type": "code",
   "execution_count": null,
   "metadata": {
    "ExecuteTime": {
     "end_time": "2020-08-17T01:55:13.244217Z",
     "start_time": "2020-08-17T01:55:13.229435Z"
    },
    "hidden": true
   },
   "outputs": [],
   "source": [
    "time_step_cuda(texture=txt, h=0.025, zero_txt=zero_txt.copy())"
   ]
  },
  {
   "cell_type": "code",
   "execution_count": null,
   "metadata": {
    "ExecuteTime": {
     "end_time": "2020-08-17T01:52:52.366297Z",
     "start_time": "2020-08-17T01:52:46.019517Z"
    },
    "hidden": true
   },
   "outputs": [],
   "source": [
    "zero_txt = np.zeros_like(txt)\n",
    "for j in range(500):\n",
    "    time_step(texture=txt, h=0.025, zero_txt=zero_txt.copy())"
   ]
  },
  {
   "cell_type": "code",
   "execution_count": null,
   "metadata": {
    "ExecuteTime": {
     "end_time": "2020-08-17T01:53:49.561086Z",
     "start_time": "2020-08-17T01:53:49.557938Z"
    },
    "hidden": true
   },
   "outputs": [],
   "source": [
    "time_step_cuda = cuda.jit(device=True)(time_step)"
   ]
  },
  {
   "cell_type": "code",
   "execution_count": null,
   "metadata": {
    "ExecuteTime": {
     "end_time": "2020-08-17T01:23:35.424239Z",
     "start_time": "2020-08-17T01:23:35.415831Z"
    },
    "hidden": true
   },
   "outputs": [],
   "source": [
    "@cuda.jit\n",
    "def get_time_step_kernel(texture, out):\n",
    "    height = texture.shape[0]\n",
    "    width = texture.shape[1]\n",
    "\n",
    "    startX, startY = cuda.grid(2)\n",
    "    gridX = cuda.gridDim.x * cuda.blockDim.x;\n",
    "    gridY = cuda.gridDim.y * cuda.blockDim.y;\n",
    "\n",
    "    for x in range(startX, width, gridX):\n",
    "        for y in range(startY, height, gridY):\n",
    "            out[y, x] = np.array(time_step_gpu(inVfs=texture,x=x,y=y))"
   ]
  },
  {
   "cell_type": "code",
   "execution_count": null,
   "metadata": {
    "ExecuteTime": {
     "end_time": "2020-08-17T01:23:38.026727Z",
     "start_time": "2020-08-17T01:23:38.022960Z"
    },
    "hidden": true
   },
   "outputs": [],
   "source": [
    "1024/32\n",
    "1536/32"
   ]
  },
  {
   "cell_type": "code",
   "execution_count": null,
   "metadata": {
    "ExecuteTime": {
     "end_time": "2020-08-17T02:17:49.701328Z",
     "start_time": "2020-08-17T02:17:49.698495Z"
    },
    "hidden": true
   },
   "outputs": [],
   "source": [
    "# # gimage = np.zeros((1024, 1536), dtype = np.uint8)\n",
    "# gimage = np.zeros((1024, 1536, 3), dtype = np.float32)\n",
    "# # gimage = txt.copy()\n",
    "# dtexture_dt = gimage.copy()#zero_txt.copy()\n",
    "\n",
    "# blockdim = (32, 8)\n",
    "# griddim = (32,16)\n",
    "\n",
    "# start = timer()\n",
    "# d_image = cuda.to_device(gimage)\n",
    "# d_dtexture_dt = cuda.to_device(dtexture_dt)\n",
    "# get_time_step_kernel[griddim, blockdim](txt, d_dtexture_dt)\n",
    "# d_image.to_host()\n",
    "# dt = timer() - start\n",
    "\n",
    "# print(\"Mandelbrot created on GPU in %f s\" % dt)\n",
    "# imshow(gimage)\n",
    "# show()"
   ]
  },
  {
   "cell_type": "markdown",
   "metadata": {
    "ExecuteTime": {
     "end_time": "2020-08-17T01:24:07.485142Z",
     "start_time": "2020-08-17T01:24:07.475360Z"
    },
    "heading_collapsed": true
   },
   "source": [
    "# (not working) fast matrix multiplication \n",
    "but complicated to understand and isn't being called right"
   ]
  },
  {
   "cell_type": "code",
   "execution_count": null,
   "metadata": {
    "ExecuteTime": {
     "end_time": "2020-08-17T02:15:46.280465Z",
     "start_time": "2020-08-17T02:15:45.741482Z"
    },
    "hidden": true
   },
   "outputs": [],
   "source": [
    "from numba import cuda, float32\n",
    "\n",
    "# Controls threads per block and shared memory usage.\n",
    "# The computation will be done on blocks of TPBxTPB elements.\n",
    "TPB = 16\n",
    "\n",
    "@cuda.jit\n",
    "def fast_matmul(A, B, C):\n",
    "    # Define an array in the shared memory\n",
    "    # The size and type of the arrays must be known at compile time\n",
    "    sA = cuda.shared.array(shape=(TPB, TPB), dtype=float32)\n",
    "    sB = cuda.shared.array(shape=(TPB, TPB), dtype=float32)\n",
    "\n",
    "    x, y = cuda.grid(2)\n",
    "\n",
    "    tx = cuda.threadIdx.x\n",
    "    ty = cuda.threadIdx.y\n",
    "    bpg = cuda.gridDim.x    # blocks per grid\n",
    "\n",
    "    if x >= C.shape[0] and y >= C.shape[1]:\n",
    "        # Quit if (x, y) is outside of valid C boundary\n",
    "        return\n",
    "\n",
    "    # Each thread computes one element in the result matrix.\n",
    "    # The dot product is chunked into dot products of TPB-long vectors.\n",
    "    tmp = 0.\n",
    "    for i in range(bpg):\n",
    "        # Preload data into shared memory\n",
    "        sA[tx, ty] = A[x, ty + i * TPB]\n",
    "        sB[tx, ty] = B[tx + i * TPB, y]\n",
    "\n",
    "        # Wait until all threads finish preloading\n",
    "        cuda.syncthreads()\n",
    "\n",
    "        # Computes partial product on the shared memory\n",
    "        for j in range(TPB):\n",
    "            tmp += sA[tx, j] * sB[j, ty]\n",
    "\n",
    "        # Wait until all threads finish computing\n",
    "        cuda.syncthreads()\n",
    "\n",
    "    C[x, y] = tmp"
   ]
  },
  {
   "cell_type": "code",
   "execution_count": null,
   "metadata": {
    "ExecuteTime": {
     "end_time": "2020-08-17T02:15:47.213203Z",
     "start_time": "2020-08-17T02:15:47.208960Z"
    },
    "hidden": true
   },
   "outputs": [],
   "source": [
    "A = np.ones((200,200))\n",
    "B = 2*A.copy()\n",
    "C = np.zeros_like(A)"
   ]
  },
  {
   "cell_type": "code",
   "execution_count": null,
   "metadata": {
    "ExecuteTime": {
     "end_time": "2020-08-17T02:15:50.430740Z",
     "start_time": "2020-08-17T02:15:49.666395Z"
    },
    "hidden": true
   },
   "outputs": [],
   "source": [
    "fast_matmul(A, B, C)\n",
    "C"
   ]
  },
  {
   "cell_type": "code",
   "execution_count": null,
   "metadata": {
    "ExecuteTime": {
     "end_time": "2020-08-17T02:15:54.904656Z",
     "start_time": "2020-08-17T02:15:54.896638Z"
    },
    "hidden": true
   },
   "outputs": [],
   "source": [
    "@cuda.jit\n",
    "def matmul(A, B, C):\n",
    "    \"\"\"Perform square matrix multiplication of C = A * B\n",
    "    \"\"\"\n",
    "    i, j = cuda.grid(2)\n",
    "    if i < C.shape[0] and j < C.shape[1]:\n",
    "        tmp = 0.\n",
    "        for k in range(A.shape[1]):\n",
    "            tmp += A[i, k] * B[k, j]\n",
    "        C[i, j] = tmp"
   ]
  },
  {
   "cell_type": "code",
   "execution_count": null,
   "metadata": {
    "ExecuteTime": {
     "end_time": "2020-08-17T02:15:59.292164Z",
     "start_time": "2020-08-17T02:15:59.285908Z"
    },
    "hidden": true
   },
   "outputs": [],
   "source": [
    "matmul(A, B, C)"
   ]
  },
  {
   "cell_type": "code",
   "execution_count": null,
   "metadata": {
    "ExecuteTime": {
     "end_time": "2020-08-17T02:16:08.116816Z",
     "start_time": "2020-08-17T02:16:08.112246Z"
    },
    "hidden": true
   },
   "outputs": [],
   "source": [
    "C"
   ]
  },
  {
   "cell_type": "markdown",
   "metadata": {
    "heading_collapsed": true
   },
   "source": [
    "# add two matrices the same shape as my texture with float64 percision"
   ]
  },
  {
   "cell_type": "code",
   "execution_count": null,
   "metadata": {
    "ExecuteTime": {
     "end_time": "2020-08-17T02:34:52.381144Z",
     "start_time": "2020-08-17T02:34:52.342319Z"
    },
    "hidden": true
   },
   "outputs": [],
   "source": [
    "from numba import cuda\n",
    "# from numba import *"
   ]
  },
  {
   "cell_type": "code",
   "execution_count": null,
   "metadata": {
    "ExecuteTime": {
     "end_time": "2020-08-17T02:36:24.535572Z",
     "start_time": "2020-08-17T02:36:24.532398Z"
    },
    "hidden": true
   },
   "outputs": [],
   "source": [
    "# from numba import autojit\n",
    "@numba.jit\n",
    "def add(a, b):\n",
    "    return a + b"
   ]
  },
  {
   "cell_type": "code",
   "execution_count": null,
   "metadata": {
    "ExecuteTime": {
     "end_time": "2020-08-17T02:36:25.000454Z",
     "start_time": "2020-08-17T02:36:24.996473Z"
    },
    "hidden": true
   },
   "outputs": [],
   "source": [
    "foo_gpu = cuda.jit(device=True)(add)"
   ]
  },
  {
   "cell_type": "code",
   "execution_count": null,
   "metadata": {
    "ExecuteTime": {
     "end_time": "2020-08-17T02:44:12.271986Z",
     "start_time": "2020-08-17T02:44:12.264938Z"
    },
    "hidden": true
   },
   "outputs": [],
   "source": [
    "@cuda.jit\n",
    "def foo_kernel(image1, image2, out):\n",
    "    height = image1.shape[0]\n",
    "    width  = image1.shape[1]\n",
    "\n",
    "    startX, startY = cuda.grid(2)\n",
    "    gridX = cuda.gridDim.x * cuda.blockDim.x;\n",
    "    gridY = cuda.gridDim.y * cuda.blockDim.y;\n",
    "\n",
    "    for x in range(startX, width, gridX):\n",
    "        for y in range(startY, height, gridY):\n",
    "            a = image1[y,x]\n",
    "            b = image2[y,x]\n",
    "            out[y, x] = a+b#foo_gpu(a, b)"
   ]
  },
  {
   "cell_type": "code",
   "execution_count": null,
   "metadata": {
    "hidden": true
   },
   "outputs": [],
   "source": []
  },
  {
   "cell_type": "code",
   "execution_count": null,
   "metadata": {
    "ExecuteTime": {
     "end_time": "2020-08-17T02:44:16.490917Z",
     "start_time": "2020-08-17T02:44:16.242975Z"
    },
    "hidden": true
   },
   "outputs": [],
   "source": [
    "gout    = np.zeros((1024, 1536), dtype = np.uint8)\n",
    "gimage1 = np.ones((1024, 1536), dtype = np.uint8)\n",
    "gimage2 = np.ones((1024, 1536), dtype = np.uint8)\n",
    "blockdim = (32, 8)\n",
    "griddim = (32,16)\n",
    "\n",
    "start = timer()\n",
    "d_image1 = cuda.to_device(gimage1)\n",
    "d_image2 = cuda.to_device(gimage1)\n",
    "d_out    = cuda.to_device(gout)\n",
    "foo_kernel[griddim, blockdim](d_image1, d_image2, d_out) \n",
    "d_out.to_host()\n",
    "dt = timer() - start\n",
    "\n",
    "print(\"Output created on GPU in %f s\" % dt)\n",
    "imshow(gout)\n",
    "show()"
   ]
  },
  {
   "cell_type": "code",
   "execution_count": null,
   "metadata": {
    "ExecuteTime": {
     "end_time": "2020-08-17T02:50:13.711174Z",
     "start_time": "2020-08-17T02:50:13.530230Z"
    },
    "hidden": true
   },
   "outputs": [],
   "source": [
    "gout    = np.zeros((200, 200), dtype = np.float64)\n",
    "gimage1 = 2*np.ones((200, 200), dtype = np.float64)\n",
    "gimage2 = np.ones((200, 200), dtype = np.float64)\n",
    "blockdim = (32, 8)\n",
    "griddim = (32,16)\n",
    "\n",
    "start = timer()\n",
    "d_image1 = cuda.to_device(gimage1)\n",
    "d_image2 = cuda.to_device(gimage2)\n",
    "d_out    = cuda.to_device(gout)\n",
    "foo_kernel[griddim, blockdim](d_image1, d_image2, d_out) \n",
    "d_out.to_host()\n",
    "dt = timer() - start\n",
    "\n",
    "print(\"Output created on GPU in %f s\" % dt)\n",
    "imshow(gout)\n",
    "show()"
   ]
  },
  {
   "cell_type": "code",
   "execution_count": null,
   "metadata": {
    "ExecuteTime": {
     "end_time": "2020-08-17T02:50:40.810595Z",
     "start_time": "2020-08-17T02:50:40.807446Z"
    },
    "hidden": true
   },
   "outputs": [],
   "source": [
    "assert ( (gout==3).all() ) "
   ]
  },
  {
   "cell_type": "markdown",
   "metadata": {
    "heading_collapsed": true
   },
   "source": [
    "# compute the diffusion time step with float64 percision with periodic boundary conditions using numba.cuda (it's slow)"
   ]
  },
  {
   "cell_type": "code",
   "execution_count": null,
   "metadata": {
    "ExecuteTime": {
     "end_time": "2020-08-17T05:35:32.705100Z",
     "start_time": "2020-08-17T05:35:32.699355Z"
    },
    "hidden": true
   },
   "outputs": [],
   "source": [
    "@numba.njit\n",
    "def _pbc(S,y,x,height,width):\n",
    "    '''S = numpy array with size (height,width)\n",
    "    (y, x) pixel coordinates in S, enforcing periodic boundary conditions explicitely.'''\n",
    "    if ( x < 0  ):# // Left P.B.C.\n",
    "        x = width - 1\n",
    "    elif ( x > (width - 1) ):# // Right P.B.C.\n",
    "        x = 0\n",
    "    if( y < 0 ):# //  Bottom P.B.C.\n",
    "        y = height - 1\n",
    "    elif ( y > (height - 1)):# // Top P.B.C.\n",
    "        y = 0\n",
    "    return S[y,x]"
   ]
  },
  {
   "cell_type": "code",
   "execution_count": null,
   "metadata": {
    "ExecuteTime": {
     "end_time": "2020-08-17T05:35:33.656211Z",
     "start_time": "2020-08-17T05:35:33.653969Z"
    },
    "hidden": true
   },
   "outputs": [],
   "source": [
    "# _pbc(gout,5,201,200,200)"
   ]
  },
  {
   "cell_type": "code",
   "execution_count": null,
   "metadata": {
    "ExecuteTime": {
     "end_time": "2020-08-17T05:35:34.064006Z",
     "start_time": "2020-08-17T05:35:34.057688Z"
    },
    "hidden": true
   },
   "outputs": [],
   "source": [
    "_pbc_gpu = cuda.jit(device=True)(_pbc)"
   ]
  },
  {
   "cell_type": "code",
   "execution_count": null,
   "metadata": {
    "ExecuteTime": {
     "end_time": "2020-08-17T05:35:36.373395Z",
     "start_time": "2020-08-17T05:35:36.363091Z"
    },
    "hidden": true
   },
   "outputs": [],
   "source": [
    "#model parameters\n",
    "diff_coef = 0.0005 #cm^2/ms\n",
    "h  = 0.025 #ms\n",
    "dx = 0.025 #cm\n",
    "cddx = 1/dx**2\n",
    "\n",
    "@cuda.jit\n",
    "def diffusion_kernel(Vin, Vout):\n",
    "    '''writes the simple diffusion term to Vout'''\n",
    "    height = Vin.shape[0]\n",
    "    width  = Vin.shape[1]\n",
    "    \n",
    "#     #model parameters\n",
    "#     diff_coef = 0.0005 #cm^2/ms\n",
    "#     h  = 0.025 #ms\n",
    "#     dx = 0.025 #cm\n",
    "#     cddx = 1/dx**2\n",
    "    \n",
    "    startX, startY = cuda.grid(2)\n",
    "    gridX = cuda.gridDim.x * cuda.blockDim.x;\n",
    "    gridY = cuda.gridDim.y * cuda.blockDim.y;\n",
    "\n",
    "    for x in range(startX, width, gridX):\n",
    "        for y in range(startY, height, gridY):\n",
    "            up     = _pbc_gpu(Vin,y+1,x,height,width)\n",
    "            down   = _pbc_gpu(Vin,y-1,x,height,width)\n",
    "            left   = _pbc_gpu(Vin,y,x-1,height,width)\n",
    "            right  = _pbc_gpu(Vin,y,x+1,height,width)\n",
    "            center = _pbc_gpu(Vin,y,x,height,width)\n",
    "            \n",
    "            #five point stencil\n",
    "            dVlt2dt = up + down + left + right - 4 * center\n",
    "            dVlt2dt *= diff_coef * cddx\n",
    "            Vout[y,x] = center + h*dVlt2dt"
   ]
  },
  {
   "cell_type": "code",
   "execution_count": null,
   "metadata": {
    "hidden": true
   },
   "outputs": [],
   "source": []
  },
  {
   "cell_type": "code",
   "execution_count": null,
   "metadata": {
    "ExecuteTime": {
     "end_time": "2020-08-17T05:35:39.075694Z",
     "start_time": "2020-08-17T05:35:37.704537Z"
    },
    "hidden": true
   },
   "outputs": [],
   "source": [
    "Vout   = np.zeros((200, 200), dtype = np.float64)\n",
    "Vin  = np.array([256*x*(y+1) for x in range(200) for y in range(200)]).reshape((200,200))\n",
    "gimage2 = np.ones((200, 200), dtype = np.float64)\n",
    "blockdim = (32, 8)\n",
    "griddim = (32,16)\n",
    "\n",
    "start = timer()\n",
    "d_Vin = cuda.to_device(Vin)\n",
    "d_Vout = cuda.to_device(Vout)\n",
    "diffusion_kernel[griddim, blockdim](d_Vin, d_Vout) \n",
    "d_Vout.to_host()\n",
    "dt = timer() - start\n",
    "\n",
    "print(\"Diffusion created on GPU in %f s\" % dt)\n",
    "vmax = Vin.max()\n",
    "vmin = Vin.min()\n",
    "imshow(Vin, vmax=vmax,vmin=vmin)\n",
    "show()"
   ]
  },
  {
   "cell_type": "code",
   "execution_count": null,
   "metadata": {
    "ExecuteTime": {
     "end_time": "2020-08-17T04:25:03.443921Z",
     "start_time": "2020-08-17T04:25:03.439989Z"
    },
    "hidden": true
   },
   "outputs": [],
   "source": [
    "# now make an n_forward_steps kernel\n",
    "# @numba.njit\n",
    "def take_2n_steps_forward_kernel(V1, V2, n):\n",
    "    for step in range(n):\n",
    "        diffusion_kernel[griddim, blockdim](V1, V2)\n",
    "        diffusion_kernel[griddim, blockdim](V2, V1)"
   ]
  },
  {
   "cell_type": "code",
   "execution_count": null,
   "metadata": {
    "ExecuteTime": {
     "end_time": "2020-08-17T04:25:23.445429Z",
     "start_time": "2020-08-17T04:25:22.728752Z"
    },
    "hidden": true
   },
   "outputs": [],
   "source": [
    "Vout   = np.zeros((200, 200), dtype = np.float64)\n",
    "Vin  = np.array([256*x*(y+1) for x in range(200) for y in range(200)]).reshape((200,200))\n",
    "gimage2 = np.ones((200, 200), dtype = np.float64)\n",
    "blockdim = (32, 8)\n",
    "griddim = (32,16)\n",
    "\n",
    "start = timer()\n",
    "d_Vin = cuda.to_device(Vin)\n",
    "d_Vout = cuda.to_device(Vout)\n",
    "take_2n_steps_forward_kernel(d_Vin, d_Vout, 1000) \n",
    "d_Vout.to_host()\n",
    "dt = timer() - start\n",
    "\n",
    "print(\"Diffusion created on GPU in %f s\" % dt)\n",
    "vmax = Vin.max()\n",
    "vmin = Vin.min()\n",
    "imshow(Vout, vmax=vmax,vmin=vmin)\n",
    "show()"
   ]
  },
  {
   "cell_type": "code",
   "execution_count": null,
   "metadata": {
    "ExecuteTime": {
     "end_time": "2020-08-17T04:25:27.151478Z",
     "start_time": "2020-08-17T04:25:27.147655Z"
    },
    "hidden": true
   },
   "outputs": [],
   "source": [
    "# now make an n_forward_steps kernel\n",
    "# @numba.njit\n",
    "def take_2n_steps_forward_kernel(V1, V2, n):\n",
    "    for step in range(n):\n",
    "        diffusion_kernel[griddim, blockdim, stream](V1, V2)\n",
    "        diffusion_kernel[griddim, blockdim, stream](V2, V1)"
   ]
  },
  {
   "cell_type": "code",
   "execution_count": null,
   "metadata": {
    "ExecuteTime": {
     "end_time": "2020-08-17T03:55:32.119368Z",
     "start_time": "2020-08-17T03:55:27.068307Z"
    },
    "hidden": true
   },
   "outputs": [],
   "source": [
    "# # def test_event_elapsed_stream(self):\n",
    "# N = 32\n",
    "# stream = cuda.stream()\n",
    "# dary = cuda.device_array(N, dtype=np.int)\n",
    "# evtstart = cuda.event()\n",
    "# evtend = cuda.event()\n",
    "\n",
    "# evtstart.record(stream=stream)\n",
    "# cuda.to_device(np.arange(N), to=dary, stream=stream)\n",
    "# evtend.record(stream=stream)\n",
    "# evtend.wait(stream=stream)\n",
    "# evtend.synchronize()\n",
    "# # Exercise the code path\n",
    "# take_2n_steps_forward_kernel(d_Vin, d_Vout, 10000) \n",
    "# evtstart.elapsed_time(evtend)"
   ]
  },
  {
   "cell_type": "code",
   "execution_count": null,
   "metadata": {
    "ExecuteTime": {
     "end_time": "2020-08-17T04:25:30.506344Z",
     "start_time": "2020-08-17T04:25:29.321475Z"
    },
    "hidden": true
   },
   "outputs": [],
   "source": [
    "iterations = 10**3\n",
    "Vout   = np.zeros((200, 200), dtype = np.float64)\n",
    "Vin   = np.zeros((200, 200), dtype = np.float64)\n",
    "Vin[0,150] = 1000\n",
    "# Vin[-1,-1] = 1000\n",
    "# Vin  = np.array([256*x*(y+1) for x in range(200) for y in range(200)]).reshape((200,200))\n",
    "gimage2 = np.ones((200, 200), dtype = np.float64)\n",
    "blockdim = (32, 8)\n",
    "griddim = (32,16)\n",
    "\n",
    "start = timer()\n",
    "stream = cuda.stream()\n",
    "d_Vin  = cuda.to_device(Vin, stream)\n",
    "d_Vout = cuda.to_device(Vout, stream)\n",
    "# take_2n_steps_forward_kernel(d_Vin, d_Vout, iterations) \n",
    "for step in range(iterations):\n",
    "    diffusion_kernel[griddim, blockdim, stream](d_Vin, d_Vout)\n",
    "    diffusion_kernel[griddim, blockdim, stream](d_Vout, d_Vin)\n",
    "d_Vout.to_host(stream)\n",
    "d_Vin.to_host(stream)\n",
    "stream.synchronize()\n",
    "dt = timer() - start\n",
    "\n",
    "\n",
    "print(f\"{iterations:d} diffusion time steps taken on GPU in {dt:.3f} seconds!\")\n",
    "vmax = Vin.max()\n",
    "vmin = Vin.min()\n",
    "imshow(Vin, vmax=vmax,vmin=vmin)\n",
    "show()"
   ]
  },
  {
   "cell_type": "code",
   "execution_count": null,
   "metadata": {
    "ExecuteTime": {
     "end_time": "2020-08-17T03:58:18.507044Z",
     "start_time": "2020-08-17T03:58:18.488888Z"
    },
    "hidden": true
   },
   "outputs": [],
   "source": [
    "# cuda.compiler.AutoTuner(diffusion_kernel, (griddim, blockdim, stream))"
   ]
  },
  {
   "cell_type": "code",
   "execution_count": null,
   "metadata": {
    "ExecuteTime": {
     "end_time": "2020-08-17T04:02:48.006733Z",
     "start_time": "2020-08-17T04:02:48.003835Z"
    },
    "hidden": true
   },
   "outputs": [],
   "source": [
    "cuda.close()"
   ]
  },
  {
   "cell_type": "markdown",
   "metadata": {
    "ExecuteTime": {
     "end_time": "2020-08-17T04:03:24.762965Z",
     "start_time": "2020-08-17T04:03:24.758825Z"
    },
    "heading_collapsed": true
   },
   "source": [
    "# (not working/ difficult in numba.cuda)try to use shared memory to speed up the diffusion simulation"
   ]
  },
  {
   "cell_type": "code",
   "execution_count": null,
   "metadata": {
    "ExecuteTime": {
     "end_time": "2020-08-17T04:03:59.354920Z",
     "start_time": "2020-08-17T04:03:59.328951Z"
    },
    "hidden": true
   },
   "outputs": [],
   "source": [
    "from numba import cuda, float32\n",
    "\n",
    "# Controls threads per block and shared memory usage.\n",
    "# The computation will be done on blocks of TPBxTPB elements.\n",
    "TPB = 10\n",
    "\n",
    "@cuda.jit\n",
    "def fast_matmul(A, B, C):\n",
    "    # Define an array in the shared memory\n",
    "    # The size and type of the arrays must be known at compile time\n",
    "    sA = cuda.shared.array(shape=(TPB, TPB), dtype=float64)\n",
    "    sB = cuda.shared.array(shape=(TPB, TPB), dtype=float64)\n",
    "\n",
    "    x, y = cuda.grid(2)\n",
    "\n",
    "    tx = cuda.threadIdx.x\n",
    "    ty = cuda.threadIdx.y\n",
    "    bpg = cuda.gridDim.x    # blocks per grid\n",
    "\n",
    "    if x >= C.shape[0] and y >= C.shape[1]:\n",
    "        # Quit if (x, y) is outside of valid C boundary\n",
    "        return\n",
    "\n",
    "    # Each thread computes one element in the result matrix.\n",
    "    # The dot product is chunked into dot products of TPB-long vectors.\n",
    "    tmp = 0.\n",
    "    for i in range(bpg):\n",
    "        # Preload data into shared memory\n",
    "        sA[tx, ty] = A[x, ty + i * TPB]\n",
    "        sB[tx, ty] = B[tx + i * TPB, y]\n",
    "\n",
    "        # Wait until all threads finish preloading\n",
    "        cuda.syncthreads()\n",
    "\n",
    "        # Computes partial product on the shared memory\n",
    "        for j in range(TPB):\n",
    "            tmp += sA[tx, j] * sB[j, ty]\n",
    "\n",
    "        # Wait until all threads finish computing\n",
    "        cuda.syncthreads()\n",
    "\n",
    "    C[x, y] = tmp"
   ]
  },
  {
   "cell_type": "code",
   "execution_count": null,
   "metadata": {
    "hidden": true
   },
   "outputs": [],
   "source": [
    "#model parameters\n",
    "diff_coef = 0.0005 #cm^2/ms\n",
    "h  = 0.025 #ms\n",
    "dx = 0.025 #cm\n",
    "cddx = 1/dx**2\n",
    "\n",
    "@cuda.jit\n",
    "def diffusion_kernel(Vin, Vout):\n",
    "    '''writes the simple diffusion term to Vout'''\n",
    "    height = Vin.shape[0]\n",
    "    width  = Vin.shape[1]\n",
    "    \n",
    "    # Define an array in the shared memory\n",
    "    # The size and type of the arrays must be known at compile time\n",
    "    sA = cuda.shared.array(shape=(TPB, TPB), dtype=float64)\n",
    "    sB = cuda.shared.array(shape=(TPB, TPB), dtype=float64\n",
    "#     #model parameters\n",
    "#     diff_coef = 0.0005 #cm^2/ms\n",
    "#     h  = 0.025 #ms\n",
    "#     dx = 0.025 #cm\n",
    "#     cddx = 1/dx**2\n",
    "    \n",
    "    startX, startY = cuda.grid(2)\n",
    "    gridX = cuda.gridDim.x * cuda.blockDim.x;\n",
    "    gridY = cuda.gridDim.y * cuda.blockDim.y;\n",
    "\n",
    "    for x in range(startX, width, gridX):\n",
    "        for y in range(startY, height, gridY):\n",
    "            up     = _pbc_gpu(Vin,y+1,x,height,width)\n",
    "            down   = _pbc_gpu(Vin,y-1,x,height,width)\n",
    "            left   = _pbc_gpu(Vin,y,x-1,height,width)\n",
    "            right  = _pbc_gpu(Vin,y,x+1,height,width)\n",
    "            center = _pbc_gpu(Vin,y,x,height,width)\n",
    "            \n",
    "            #five point stencil\n",
    "            dVlt2dt = up + down + left + right - 4 * center\n",
    "            dVlt2dt *= diff_coef * cddx\n",
    "            Vout[y,x] = center + h*dVlt2dt"
   ]
  },
  {
   "cell_type": "code",
   "execution_count": null,
   "metadata": {
    "ExecuteTime": {
     "end_time": "2020-08-17T04:18:40.529507Z",
     "start_time": "2020-08-17T04:18:40.525464Z"
    },
    "hidden": true
   },
   "outputs": [],
   "source": [
    "# # now make an n_forward_steps kernel\n",
    "# # @numba.njit\n",
    "# def take_2n_steps_forward_kernel(V1, V2, n):\n",
    "#     for step in range(n):\n",
    "#         diffusion_kernel[griddim, blockdim, stream](V1, V2)\n",
    "#         diffusion_kernel[griddim, blockdim, stream](V2, V1)\n",
    "\n",
    "cuda.gpus[0]"
   ]
  },
  {
   "cell_type": "code",
   "execution_count": null,
   "metadata": {
    "ExecuteTime": {
     "end_time": "2020-08-17T04:22:04.893208Z",
     "start_time": "2020-08-17T04:22:04.874613Z"
    },
    "hidden": true
   },
   "outputs": [],
   "source": [
    "import numba.cuda\n",
    "\n",
    "@numba.cuda.jit\n",
    "def smooth_gpu(x, out):\n",
    "    i, j = cuda.grid(2)\n",
    "    n, m = x.shape\n",
    "    if 1 <= i < n - 1 and 1 <= j < m - 1:\n",
    "        out[i, j] = (x[i - 1, j - 1] + x[i - 1, j] + x[i - 1, j + 1] +\n",
    "                     x[i    , j - 1] + x[i    , j] + x[i    , j + 1] +\n",
    "                     x[i + 1, j - 1] + x[i + 1, j] + x[i + 1, j + 1]) // 9\n",
    "\n",
    "import cupy, math\n",
    "\n",
    "x_gpu = cupy.ones((10000, 10000), dtype='int8')\n",
    "out_gpu = cupy.zeros((10000, 10000), dtype='int8')\n",
    "\n",
    "# I copied the four lines below from the Numba docs\n",
    "threadsperblock = (16, 16)\n",
    "blockspergrid_x = math.ceil(x_gpu.shape[0] / threadsperblock[0])\n",
    "blockspergrid_y = math.ceil(x_gpu.shape[1] / threadsperblock[1])\n",
    "blockspergrid = (blockspergrid_x, blockspergrid_y)\n",
    "\n",
    "smooth_gpu[blockspergrid, threadsperblock](x_gpu, out_gpu)"
   ]
  },
  {
   "cell_type": "markdown",
   "metadata": {
    "heading_collapsed": true
   },
   "source": [
    "# try pycuda just one more time...\n",
    "- TODO: finish installation at https://docs.nvidia.com/cuda/cuda-quick-start-guide/index.html#ubuntu-x86_64-deb\n",
    "- TODO: then finish following along with pycuda howdo https://benvanwerkhoven.github.io/kernel_tuner/diffusion.html\n",
    "- TODO: then include a local term for I_ion_gpu(V,f,s)\n",
    "- TODO: test the simulation out, visualize it.  Does it look reasonable?\n",
    "- TODO: tune the simulation for faster runtime using ^that howdo\n",
    "- TODO: include an optional stimulus field for 2ms for a given stimulus field (constant)\n",
    "- TODO: have nsteps back, nsteps forward, and consider IMR."
   ]
  },
  {
   "cell_type": "code",
   "execution_count": null,
   "metadata": {
    "ExecuteTime": {
     "end_time": "2020-08-17T05:33:22.101623Z",
     "start_time": "2020-08-17T05:33:22.099294Z"
    },
    "hidden": true
   },
   "outputs": [],
   "source": [
    "# !pip install pycuda"
   ]
  },
  {
   "cell_type": "code",
   "execution_count": null,
   "metadata": {
    "ExecuteTime": {
     "end_time": "2020-08-18T01:43:26.669193Z",
     "start_time": "2020-08-18T01:43:26.441694Z"
    },
    "hidden": true
   },
   "outputs": [],
   "source": [
    "#do the imports we need\n",
    "import numpy as np\n",
    "from matplotlib import pyplot\n",
    "%matplotlib inline\n",
    "\n",
    "from pylab import imshow, show\n",
    "from timeit import default_timer as timer\n",
    "\n",
    "import pycuda"
   ]
  },
  {
   "cell_type": "code",
   "execution_count": null,
   "metadata": {
    "ExecuteTime": {
     "end_time": "2020-08-18T01:12:13.560765Z",
     "start_time": "2020-08-18T01:12:01.772043Z"
    },
    "hidden": true
   },
   "outputs": [],
   "source": [
    "def diffuse(field, dt=0.225):\n",
    "    field[1:nx-1,1:ny-1] = field[1:nx-1,1:ny-1] + dt * (\n",
    "        field[1:nx-1,2:ny]+field[2:nx,1:ny-1]-4*field[1:nx-1,1:ny-1]+\n",
    "        field[0:nx-2,1:ny-1]+field[1:nx-1,0:ny-2] )\n",
    "    return field\n",
    "\n",
    "nx = 1024\n",
    "ny = 1024\n",
    "\n",
    "#setup initial conditions\n",
    "def get_initial_conditions(nx, ny):\n",
    "    field = numpy.ones((ny, nx)).astype(numpy.float32)\n",
    "    field[numpy.random.randint(0,nx,size=10), numpy.random.randint(0,ny,size=10)] = 1e3\n",
    "    return field\n",
    "field = get_initial_conditions(nx, ny)\n",
    "\n",
    "#run the diffuse function a 1000 times and another 2000 times and make plots\n",
    "fig, (ax1, ax2) = pyplot.subplots(1,2)\n",
    "for i in range(1000):\n",
    "    field = diffuse(field)\n",
    "ax1.imshow(field)\n",
    "for i in range(2000):\n",
    "    field = diffuse(field)\n",
    "ax2.imshow(field)"
   ]
  },
  {
   "cell_type": "code",
   "execution_count": null,
   "metadata": {
    "ExecuteTime": {
     "end_time": "2020-08-18T01:18:54.397477Z",
     "start_time": "2020-08-18T01:17:27.466447Z"
    },
    "hidden": true
   },
   "outputs": [],
   "source": [
    "#save the current field for later use\n",
    "field_copy = numpy.copy(field)\n",
    "iterations = 10**4\n",
    "\n",
    "#run another 1000 steps of the diffuse function and measure the time\n",
    "from time import time\n",
    "start = time()\n",
    "for i in range(2*iterations):\n",
    "    field = diffuse(field)\n",
    "end = time()\n",
    "print(f\"{iterations*2} steps of diffuse took\", (end-start)*1000.0, \"ms\")\n",
    "pyplot.imshow(field)"
   ]
  },
  {
   "cell_type": "code",
   "execution_count": null,
   "metadata": {
    "ExecuteTime": {
     "end_time": "2020-08-18T01:29:36.023342Z",
     "start_time": "2020-08-18T01:29:36.019577Z"
    },
    "hidden": true
   },
   "outputs": [],
   "source": [
    "def get_kernel_string(nx, ny):\n",
    "    return \"\"\"\n",
    "    #define nx %d\n",
    "    #define ny %d\n",
    "    #define dt 0.225f\n",
    "    __global__ void diffuse_kernel(float *u_new, float *u) {\n",
    "        int x = blockIdx.x * block_size_x + threadIdx.x;\n",
    "        int y = blockIdx.y * block_size_y + threadIdx.y;\n",
    "\n",
    "        if (x>0 && x<nx-1 && y>0 && y<ny-1) {\n",
    "            u_new[y*nx+x] = u[y*nx+x] + dt * (\n",
    "                u[(y+1)*nx+x]+u[y*nx+x+1]-4.0f*u[y*nx+x]+u[y*nx+x-1]+u[(y-1)*nx+x]);\n",
    "        }\n",
    "    }\n",
    "    \"\"\" % (nx, ny)\n",
    "kernel_string = get_kernel_string(nx, ny)"
   ]
  },
  {
   "cell_type": "code",
   "execution_count": null,
   "metadata": {
    "ExecuteTime": {
     "end_time": "2020-08-18T01:42:44.943210Z",
     "start_time": "2020-08-18T01:42:44.940326Z"
    },
    "hidden": true
   },
   "outputs": [],
   "source": [
    "#do the imports we need\n",
    "import numpy as np\n",
    "from matplotlib import pyplot\n",
    "%matplotlib inline\n",
    "\n",
    "from pylab import imshow, show\n",
    "from timeit import default_timer as timer\n",
    "\n",
    "import pycuda\n",
    "\n",
    "import pycuda.driver as drv\n",
    "from pycuda.compiler import SourceModule\n",
    "\n"
   ]
  },
  {
   "cell_type": "code",
   "execution_count": null,
   "metadata": {
    "ExecuteTime": {
     "end_time": "2020-08-18T01:19:03.536365Z",
     "start_time": "2020-08-18T01:19:03.456744Z"
    },
    "hidden": true
   },
   "outputs": [],
   "source": [
    "#initialize PyCuda and get compute capability needed for compilation\n",
    "drv.init()\n",
    "context = drv.Device(0).make_context()\n",
    "devprops = { str(k): v for (k, v) in context.get_device().get_attributes().items() }\n",
    "cc = str(devprops['COMPUTE_CAPABILITY_MAJOR']) + str(devprops['COMPUTE_CAPABILITY_MINOR'])\n",
    "\n",
    "\n",
    "\n",
    "#allocate GPU memory\n",
    "u_old = drv.mem_alloc(field_copy.nbytes)\n",
    "u_new = drv.mem_alloc(field_copy.nbytes)\n",
    "\n",
    "\n",
    "\n",
    "#setup thread block dimensions and compile the kernel\n",
    "threads = (16,16,1)\n",
    "grid = (int(nx/16), int(ny/16), 1)\n",
    "block_size_string = \"#define block_size_x 16\\n#define block_size_y 16\\n\"\n",
    "\n",
    "#CRASH: the following line will not run because my gcc compiler is too new for pycuda...\n",
    "# diffuse_kernel = SourceModule(block_size_string+kernel_string,\n",
    "#                               arch='sm_'+cc).get_function(\"diffuse_kernel\")\n",
    "\n",
    "diffuse_kernel = SourceModule(block_size_string+kernel_string).get_function(\"diffuse_kernel\")\n",
    "\n",
    "\n",
    "#create events for measuring performance\n",
    "start = drv.Event()\n",
    "end = drv.Event()"
   ]
  },
  {
   "cell_type": "code",
   "execution_count": null,
   "metadata": {
    "ExecuteTime": {
     "end_time": "2020-08-18T01:19:04.635577Z",
     "start_time": "2020-08-18T01:19:03.789248Z"
    },
    "hidden": true
   },
   "outputs": [],
   "source": [
    "#move the data to the GPU\n",
    "drv.memcpy_htod(u_old, field_copy)\n",
    "drv.memcpy_htod(u_new, field_copy)\n",
    "# iterations = 10**4\n",
    "#call the GPU kernel a 1000 times and measure performance\n",
    "context.synchronize()\n",
    "start.record()\n",
    "for i in range(iterations):\n",
    "    diffuse_kernel(u_new, u_old, block=threads, grid=grid)\n",
    "    diffuse_kernel(u_old, u_new, block=threads, grid=grid)\n",
    "end.record()\n",
    "context.synchronize()\n",
    "print(f\"{iterations*2} steps of diffuse took\", end.time_since(start), \"ms.\")\n",
    "\n",
    "#copy the result from the GPU to Python for plotting\n",
    "gpu_result = numpy.zeros_like(field_copy)\n",
    "drv.memcpy_dtoh(gpu_result, u_new)\n",
    "fig, (ax1, ax2) = pyplot.subplots(1,2)\n",
    "ax1.imshow(gpu_result)\n",
    "ax1.set_title(\"GPU Result\")\n",
    "ax2.imshow(field)\n",
    "ax2.set_title(\"Python Result\")"
   ]
  },
  {
   "cell_type": "markdown",
   "metadata": {
    "ExecuteTime": {
     "end_time": "2020-08-17T04:35:29.382947Z",
     "start_time": "2020-08-17T04:35:29.374871Z"
    },
    "heading_collapsed": true
   },
   "source": [
    "# pycuda kernel autotuning is suprisingly easy"
   ]
  },
  {
   "cell_type": "code",
   "execution_count": 41,
   "metadata": {
    "ExecuteTime": {
     "end_time": "2020-08-18T04:48:35.029898Z",
     "start_time": "2020-08-18T04:48:34.964442Z"
    },
    "hidden": true
   },
   "outputs": [],
   "source": [
    "nx = 4096\n",
    "ny = 4096\n",
    "field = get_initial_conditions(nx, ny)\n",
    "# kernel_string = get_kernel_string(nx, ny)\n",
    "kernel_string = get_kernel_string(nx, ny, D = 0.0005, dt = 0.025, dx = 0.025)"
   ]
  },
  {
   "cell_type": "code",
   "execution_count": 42,
   "metadata": {
    "ExecuteTime": {
     "end_time": "2020-08-18T04:48:35.888913Z",
     "start_time": "2020-08-18T04:48:35.884741Z"
    },
    "hidden": true
   },
   "outputs": [],
   "source": [
    "from collections import OrderedDict\n",
    "tune_params = OrderedDict()\n",
    "tune_params[\"block_size_x\"] = [16, 32, 48, 64, 128]\n",
    "tune_params[\"block_size_y\"] = [2, 4, 8, 16, 32]"
   ]
  },
  {
   "cell_type": "code",
   "execution_count": 43,
   "metadata": {
    "ExecuteTime": {
     "end_time": "2020-08-18T04:48:37.209767Z",
     "start_time": "2020-08-18T04:48:37.207000Z"
    },
    "hidden": true
   },
   "outputs": [],
   "source": [
    "args = [field, field]\n"
   ]
  },
  {
   "cell_type": "code",
   "execution_count": 44,
   "metadata": {
    "ExecuteTime": {
     "end_time": "2020-08-18T04:48:37.954808Z",
     "start_time": "2020-08-18T04:48:37.951496Z"
    },
    "hidden": true
   },
   "outputs": [],
   "source": [
    "problem_size = (nx, ny)"
   ]
  },
  {
   "cell_type": "code",
   "execution_count": 45,
   "metadata": {
    "ExecuteTime": {
     "end_time": "2020-08-18T04:48:48.226390Z",
     "start_time": "2020-08-18T04:48:38.961752Z"
    },
    "hidden": true,
    "scrolled": true
   },
   "outputs": [
    {
     "name": "stdout",
     "output_type": "stream",
     "text": [
      "Using: GeForce RTX 2080 with Max-Q Design\n",
      "block_size_x=16, block_size_y=2, time=1.3485851287841797ms\n",
      "block_size_x=16, block_size_y=4, time=1.1615177052361625ms\n",
      "block_size_x=16, block_size_y=8, time=1.1554742881229945ms\n",
      "block_size_x=16, block_size_y=16, time=1.1420388392039709ms\n",
      "block_size_x=16, block_size_y=32, time=1.1265325716563634ms\n",
      "block_size_x=32, block_size_y=2, time=1.1432640041623796ms\n",
      "block_size_x=32, block_size_y=4, time=1.158550841467721ms\n",
      "block_size_x=32, block_size_y=8, time=1.1303542852401733ms\n",
      "block_size_x=32, block_size_y=16, time=1.1515931401933943ms\n",
      "block_size_x=32, block_size_y=32, time=1.5903771604810442ms\n",
      "block_size_x=48, block_size_y=2, time=1.171716570854187ms\n",
      "block_size_x=48, block_size_y=4, time=1.1545142786843436ms\n",
      "block_size_x=48, block_size_y=8, time=1.2500525542667933ms\n",
      "block_size_x=48, block_size_y=16, time=1.7360457011631556ms\n",
      "block_size_x=64, block_size_y=2, time=1.161508594240461ms\n",
      "block_size_x=64, block_size_y=4, time=1.1339200053896223ms\n",
      "block_size_x=64, block_size_y=8, time=1.1436525583267212ms\n",
      "block_size_x=64, block_size_y=16, time=1.5942308391843523ms\n",
      "block_size_x=128, block_size_y=2, time=1.1359222786767142ms\n",
      "block_size_x=128, block_size_y=4, time=1.1347016947610038ms\n",
      "block_size_x=128, block_size_y=8, time=1.6000457320894514ms\n",
      "best performing configuration: block_size_x=16, block_size_y=32, time=1.1265325716563634ms\n"
     ]
    }
   ],
   "source": [
    "from kernel_tuner import tune_kernel\n",
    "result = tune_kernel(\"diffuse_kernel\", kernel_string, problem_size, args, tune_params)"
   ]
  },
  {
   "cell_type": "code",
   "execution_count": 47,
   "metadata": {
    "ExecuteTime": {
     "end_time": "2020-08-18T04:49:51.056550Z",
     "start_time": "2020-08-18T04:49:51.051617Z"
    },
    "hidden": true
   },
   "outputs": [
    {
     "data": {
      "text/plain": [
       "12.0"
      ]
     },
     "execution_count": 47,
     "metadata": {},
     "output_type": "execute_result"
    }
   ],
   "source": [
    "# !pip install kernel_tuner\n",
    "np.log2(4096)"
   ]
  },
  {
   "cell_type": "markdown",
   "metadata": {
    "heading_collapsed": true
   },
   "source": [
    "# diffusion with pbc on a pycuda kernel\n",
    "- TODO: get the sim working on a 200x200 grid.\n",
    "        - NB: note that width does not need to equal nx...\n",
    "- TODO: get the sim working with my own defined initial conditions"
   ]
  },
  {
   "cell_type": "code",
   "execution_count": 19,
   "metadata": {
    "ExecuteTime": {
     "end_time": "2020-08-18T04:38:23.026798Z",
     "start_time": "2020-08-18T04:38:22.924049Z"
    },
    "hidden": true
   },
   "outputs": [],
   "source": [
    "#do the imports we need\n",
    "import numpy as np\n",
    "from matplotlib import pyplot\n",
    "%matplotlib inline\n",
    "import matplotlib.pyplot as plt\n",
    "from pylab import imshow, show\n",
    "from timeit import default_timer as timer\n",
    "\n",
    "import pycuda\n",
    "\n",
    "import pycuda.driver as drv\n",
    "from pycuda.compiler import SourceModule\n",
    "\n",
    "#run this once.  if you run in ~30 times, you will get the following error\n",
    "# MemoryError: cuCtxCreate failed: out of memory \n",
    "#initialize PyCuda and get compute capability needed for compilation\n",
    "drv.init()\n",
    "context = drv.Device(0).make_context()\n",
    "devprops = { str(k): v for (k, v) in context.get_device().get_attributes().items() }\n",
    "cc = str(devprops['COMPUTE_CAPABILITY_MAJOR']) + str(devprops['COMPUTE_CAPABILITY_MINOR'])\n"
   ]
  },
  {
   "cell_type": "code",
   "execution_count": 20,
   "metadata": {
    "ExecuteTime": {
     "end_time": "2020-08-18T04:38:24.483298Z",
     "start_time": "2020-08-18T04:38:24.475108Z"
    },
    "hidden": true
   },
   "outputs": [],
   "source": []
  },
  {
   "cell_type": "code",
   "execution_count": 24,
   "metadata": {
    "ExecuteTime": {
     "end_time": "2020-08-18T04:39:05.384229Z",
     "start_time": "2020-08-18T04:39:04.649071Z"
    },
    "hidden": true
   },
   "outputs": [],
   "source": [
    "nx = 1024#200#1024\n",
    "ny = 1024#200#1024\n",
    "threads = (16,16,1)\n",
    "grid = (int(nx/16), int(ny/16), 1)\n",
    "block_size_string = \"#define block_size_x 16\\n#define block_size_y 16\\n\"\n",
    "\n",
    "\n",
    "# #save the ic field for later use\n",
    "# Vin  = np.array([256*x*(y+1) for x in range(nx) for y in range(ny)]).reshape((nx,ny))\n",
    "# field = Vin.copy()\n",
    "ic = get_initial_conditions(nx, ny)\n",
    "field = ic.copy()\n",
    "\n",
    "field_copy = field.copy()\n",
    "for q in range(100):\n",
    "    field_copy = diffuse(field_copy)"
   ]
  },
  {
   "cell_type": "code",
   "execution_count": 36,
   "metadata": {
    "ExecuteTime": {
     "end_time": "2020-08-18T04:43:40.295646Z",
     "start_time": "2020-08-18T04:43:40.290783Z"
    },
    "hidden": true,
    "run_control": {
     "marked": false
    }
   },
   "outputs": [],
   "source": [
    "def get_kernel_string(nx, ny, D, dt, dx):\n",
    "    return f\"\"\"\n",
    "#define nx {int(nx)}\n",
    "#define ny {int(ny)}\n",
    "#define width nx\n",
    "#define height ny\n",
    "#define dcoef {float(D*dt/dx**2)}\n",
    "\n",
    "// periodic boundary conditions\n",
    "__device__ int _pbc ( int q, int wid ) {{\n",
    "    if (q >= wid) {{\n",
    "        q = 1;\n",
    "    }}\n",
    "    if (q <= 0) {{\n",
    "        q = wid-1;\n",
    "    }}\n",
    "     return q;\n",
    "}}\n",
    "\n",
    "// main kernel/face shader\n",
    "__global__ void diffuse_kernel(float *u_new, float *u) {{\n",
    "    int x = blockIdx.x * block_size_x + threadIdx.x;\n",
    "    int y = blockIdx.y * block_size_y + threadIdx.y;\n",
    "    if (x>=0 && x<nx && y>=0 && y<ny) {{\n",
    "            int up    = _pbc(y+1,height);\n",
    "            int down  = _pbc(y-1,height);\n",
    "            int left  = _pbc(x-1, width);\n",
    "            int right = _pbc(x+1, width);\n",
    "            \n",
    "            u_new[y*nx+x] = u[y*nx+x] + dcoef * (\n",
    "            u[(up)*nx+x]+u[y*nx+right]\n",
    "            -4.0f*u[y*nx+x]\n",
    "            +u[y*nx+left]+u[(down)*nx+x]\n",
    "            );\n",
    "    }}\n",
    "}}\n",
    "    \"\"\"   \n",
    "#TODO: unallocate device memory\n",
    "#     free(a_h); free(b_h); cudaFree(a_d); cudaFree(b_d)"
   ]
  },
  {
   "cell_type": "code",
   "execution_count": 39,
   "metadata": {
    "ExecuteTime": {
     "end_time": "2020-08-18T04:45:50.891138Z",
     "start_time": "2020-08-18T04:45:42.935150Z"
    },
    "hidden": true
   },
   "outputs": [
    {
     "name": "stdout",
     "output_type": "stream",
     "text": [
      "200000 steps of diffuse took 7700 ms.\n"
     ]
    },
    {
     "data": {
      "image/png": "[encoded data removed]",
      "text/plain": [
       "<Figure size 432x288 with 2 Axes>"
      ]
     },
     "metadata": {
      "needs_background": "light"
     },
     "output_type": "display_data"
    }
   ],
   "source": [
    "kernel_string = get_kernel_string(nx, ny, D = 0.0005, dt = 0.025, dx = 0.025)\n",
    "# kernel_string = get_kernel_string(nx, ny)\n",
    "\n",
    "field = ic.copy()\n",
    "\n",
    "iterations = 10**4\n",
    "\n",
    "#allocate GPU memory\n",
    "u_old = drv.mem_alloc(field_copy.nbytes)\n",
    "u_new = drv.mem_alloc(field_copy.nbytes)\n",
    "#setup thread block dimensions and compile the kernel\n",
    "diffuse_kernel = SourceModule(block_size_string+kernel_string).get_function(\"diffuse_kernel\")\n",
    "#create events for measuring performance\n",
    "start = drv.Event()\n",
    "end = drv.Event()\n",
    "#move the data to the GPU\n",
    "drv.memcpy_htod(u_old, field_copy)\n",
    "drv.memcpy_htod(u_new, field_copy)\n",
    "#call the GPU kernel a 1000 times and measure performance\n",
    "context.synchronize()\n",
    "start.record()\n",
    "for i in range(iterations):\n",
    "    diffuse_kernel(u_new, u_old, block=threads, grid=grid)\n",
    "    diffuse_kernel(u_old, u_new, block=threads, grid=grid)\n",
    "end.record()\n",
    "context.synchronize()\n",
    "print(f\"{iterations*2} steps of diffuse took {end.time_since(start):.0f} ms.\")\n",
    "\n",
    "#copy the result from the GPU to Python for plotting\n",
    "gpu_result = np.zeros_like(field_copy)\n",
    "drv.memcpy_dtoh(gpu_result, u_new)\n",
    "fig, (ax1, ax2) = pyplot.subplots(1,2)\n",
    "\n",
    "ax1.imshow(field_copy)\n",
    "ax1.set_title(\"Initial Conditions\")\n",
    "ax2.imshow(gpu_result)\n",
    "ax2.set_title(\"GPU Result\")\n",
    "plt.show()"
   ]
  },
  {
   "cell_type": "code",
   "execution_count": 6,
   "metadata": {
    "ExecuteTime": {
     "end_time": "2020-08-18T04:35:21.161816Z",
     "start_time": "2020-08-18T04:35:21.157685Z"
    },
    "hidden": true
   },
   "outputs": [
    {
     "data": {
      "text/plain": [
       "64.0"
      ]
     },
     "execution_count": 6,
     "metadata": {},
     "output_type": "execute_result"
    }
   ],
   "source": [
    "1024/16"
   ]
  },
  {
   "cell_type": "code",
   "execution_count": 35,
   "metadata": {
    "ExecuteTime": {
     "end_time": "2020-08-18T04:42:49.274581Z",
     "start_time": "2020-08-18T04:42:49.271200Z"
    },
    "hidden": true
   },
   "outputs": [
    {
     "name": "stdout",
     "output_type": "stream",
     "text": [
      "5 seconds of simulation time simulated in 7.7 seconds of real time!\n"
     ]
    }
   ],
   "source": [
    "200000*0.025\n",
    "print('5 seconds of simulation time simulated in 7.7 seconds of real time!')"
   ]
  },
  {
   "cell_type": "markdown",
   "metadata": {},
   "source": [
    "# add local_kernel to simulation"
   ]
  },
  {
   "cell_type": "code",
   "execution_count": 6,
   "metadata": {
    "ExecuteTime": {
     "end_time": "2020-08-19T01:38:39.351789Z",
     "start_time": "2020-08-19T01:38:39.347854Z"
    },
    "run_control": {
     "marked": false
    }
   },
   "outputs": [],
   "source": [
    "def get_kernel_string(nx, ny, D, dt, dx):\n",
    "    return f\"\"\"\n",
    "#define nx {int(nx)}\n",
    "#define ny {int(ny)}\n",
    "#define width nx\n",
    "#define height ny\n",
    "#define dcoef {float(D*dt/dx**2)}\n",
    "\n",
    "// periodic boundary conditions\n",
    "__device__ int _pbc ( int q, int wid ) {{\n",
    "    if (q >= wid) {{\n",
    "        q = 1;\n",
    "    }}\n",
    "    if (q <= 0) {{\n",
    "        q = wid-1;\n",
    "    }}\n",
    "     return q;\n",
    "}}\n",
    "\n",
    "// main kernel/face shader\n",
    "__global__ void diffuse_kernel(float *u_new, float *u) {{\n",
    "    int x = blockIdx.x * block_size_x + threadIdx.x;\n",
    "    int y = blockIdx.y * block_size_y + threadIdx.y;\n",
    "    if (x>=0 && x<nx && y>=0 && y<ny) {{\n",
    "            int up    = _pbc(y+1,height);\n",
    "            int down  = _pbc(y-1,height);\n",
    "            int left  = _pbc(x-1, width);\n",
    "            int right = _pbc(x+1, width);\n",
    "            \n",
    "            u_new[y*nx+x] = u[y*nx+x] + dcoef * (\n",
    "            u[(up)*nx+x]+u[y*nx+right]\n",
    "            -4.0f*u[y*nx+x]\n",
    "            +u[y*nx+left]+u[(down)*nx+x]\n",
    "            );\n",
    "    }}\n",
    "}}\n",
    "    \"\"\"   \n",
    "#TODO: unallocate device memory\n",
    "#     free(a_h); free(b_h); cudaFree(a_d); cudaFree(b_d)"
   ]
  },
  {
   "cell_type": "code",
   "execution_count": 7,
   "metadata": {
    "ExecuteTime": {
     "end_time": "2020-08-19T01:38:41.103757Z",
     "start_time": "2020-08-19T01:38:41.014527Z"
    },
    "scrolled": true
   },
   "outputs": [],
   "source": [
    "nx = 4096\n",
    "ny = 4096\n",
    "field = get_initial_conditions(nx, ny)\n",
    "# kernel_string = get_kernel_string(nx, ny)\n",
    "kernel_string = get_kernel_string(nx, ny, D = 0.0005, dt = 0.025, dx = 0.025)"
   ]
  },
  {
   "cell_type": "code",
   "execution_count": 8,
   "metadata": {
    "ExecuteTime": {
     "end_time": "2020-08-19T01:38:42.118470Z",
     "start_time": "2020-08-19T01:38:42.114842Z"
    }
   },
   "outputs": [],
   "source": [
    "from collections import OrderedDict\n",
    "tune_params = OrderedDict()\n",
    "tune_params[\"block_size_x\"] = [16, 32, 48, 64, 128]\n",
    "tune_params[\"block_size_y\"] = [2, 4, 8, 16, 32]"
   ]
  },
  {
   "cell_type": "code",
   "execution_count": 9,
   "metadata": {
    "ExecuteTime": {
     "end_time": "2020-08-19T01:38:43.109693Z",
     "start_time": "2020-08-19T01:38:43.107215Z"
    }
   },
   "outputs": [],
   "source": [
    "args = [field, field]\n"
   ]
  },
  {
   "cell_type": "code",
   "execution_count": 10,
   "metadata": {
    "ExecuteTime": {
     "end_time": "2020-08-19T01:38:43.884901Z",
     "start_time": "2020-08-19T01:38:43.882275Z"
    }
   },
   "outputs": [],
   "source": [
    "problem_size = (nx, ny)"
   ]
  },
  {
   "cell_type": "code",
   "execution_count": 12,
   "metadata": {
    "ExecuteTime": {
     "end_time": "2020-08-19T01:39:14.640271Z",
     "start_time": "2020-08-19T01:39:14.267299Z"
    }
   },
   "outputs": [
    {
     "ename": "ImportError",
     "evalue": "Error: pycuda not installed, please install e.g. using 'pip install pycuda'.",
     "output_type": "error",
     "traceback": [
      "\u001b[0;31m---------------------------------------------------------------------------\u001b[0m",
      "\u001b[0;31mImportError\u001b[0m                               Traceback (most recent call last)",
      "\u001b[0;32m<ipython-input-12-c26ed15ad5d1>\u001b[0m in \u001b[0;36m<module>\u001b[0;34m\u001b[0m\n\u001b[1;32m      1\u001b[0m \u001b[0;32mfrom\u001b[0m \u001b[0mkernel_tuner\u001b[0m \u001b[0;32mimport\u001b[0m \u001b[0mtune_kernel\u001b[0m\u001b[0;34m\u001b[0m\u001b[0;34m\u001b[0m\u001b[0m\n\u001b[0;32m----> 2\u001b[0;31m \u001b[0mresult\u001b[0m \u001b[0;34m=\u001b[0m \u001b[0mtune_kernel\u001b[0m\u001b[0;34m(\u001b[0m\u001b[0;34m\"diffuse_kernel\"\u001b[0m\u001b[0;34m,\u001b[0m \u001b[0mkernel_string\u001b[0m\u001b[0;34m,\u001b[0m \u001b[0mproblem_size\u001b[0m\u001b[0;34m,\u001b[0m \u001b[0margs\u001b[0m\u001b[0;34m,\u001b[0m \u001b[0mtune_params\u001b[0m\u001b[0;34m)\u001b[0m\u001b[0;34m\u001b[0m\u001b[0;34m\u001b[0m\u001b[0m\n\u001b[0m",
      "\u001b[0;32m/usr/local/lib/python3.8/site-packages/kernel_tuner/interface.py\u001b[0m in \u001b[0;36mtune_kernel\u001b[0;34m(kernel_name, kernel_string, problem_size, arguments, tune_params, grid_div_x, grid_div_y, grid_div_z, restrictions, answer, atol, verify, verbose, lang, device, platform, smem_args, cmem_args, texmem_args, compiler, compiler_options, log, iterations, block_size_names, quiet, strategy, strategy_options, cache)\u001b[0m\n\u001b[1;32m    427\u001b[0m \u001b[0;34m\u001b[0m\u001b[0m\n\u001b[1;32m    428\u001b[0m \u001b[0;34m\u001b[0m\u001b[0m\n\u001b[0;32m--> 429\u001b[0;31m     \u001b[0mrunner\u001b[0m \u001b[0;34m=\u001b[0m \u001b[0mSequentialRunner\u001b[0m\u001b[0;34m(\u001b[0m\u001b[0mkernel_source\u001b[0m\u001b[0;34m,\u001b[0m \u001b[0mkernel_options\u001b[0m\u001b[0;34m,\u001b[0m \u001b[0mdevice_options\u001b[0m\u001b[0;34m,\u001b[0m \u001b[0miterations\u001b[0m\u001b[0;34m)\u001b[0m\u001b[0;34m\u001b[0m\u001b[0;34m\u001b[0m\u001b[0m\n\u001b[0m\u001b[1;32m    430\u001b[0m \u001b[0;34m\u001b[0m\u001b[0m\n\u001b[1;32m    431\u001b[0m     \u001b[0;31m#the user-specified function may or may not have an optional atol argument;\u001b[0m\u001b[0;34m\u001b[0m\u001b[0;34m\u001b[0m\u001b[0;34m\u001b[0m\u001b[0m\n",
      "\u001b[0;32m/usr/local/lib/python3.8/site-packages/kernel_tuner/runners/sequential.py\u001b[0m in \u001b[0;36m__init__\u001b[0;34m(self, kernel_source, kernel_options, device_options, iterations)\u001b[0m\n\u001b[1;32m     31\u001b[0m \u001b[0;34m\u001b[0m\u001b[0m\n\u001b[1;32m     32\u001b[0m         \u001b[0;31m#detect language and create high-level device interface\u001b[0m\u001b[0;34m\u001b[0m\u001b[0;34m\u001b[0m\u001b[0;34m\u001b[0m\u001b[0m\n\u001b[0;32m---> 33\u001b[0;31m         \u001b[0mself\u001b[0m\u001b[0;34m.\u001b[0m\u001b[0mdev\u001b[0m \u001b[0;34m=\u001b[0m \u001b[0mDeviceInterface\u001b[0m\u001b[0;34m(\u001b[0m\u001b[0mkernel_source\u001b[0m\u001b[0;34m,\u001b[0m \u001b[0miterations\u001b[0m\u001b[0;34m=\u001b[0m\u001b[0miterations\u001b[0m\u001b[0;34m,\u001b[0m \u001b[0;34m**\u001b[0m\u001b[0mdevice_options\u001b[0m\u001b[0;34m)\u001b[0m\u001b[0;34m\u001b[0m\u001b[0;34m\u001b[0m\u001b[0m\n\u001b[0m\u001b[1;32m     34\u001b[0m         \u001b[0mself\u001b[0m\u001b[0;34m.\u001b[0m\u001b[0munits\u001b[0m \u001b[0;34m=\u001b[0m \u001b[0mself\u001b[0m\u001b[0;34m.\u001b[0m\u001b[0mdev\u001b[0m\u001b[0;34m.\u001b[0m\u001b[0munits\u001b[0m\u001b[0;34m\u001b[0m\u001b[0;34m\u001b[0m\u001b[0m\n\u001b[1;32m     35\u001b[0m         \u001b[0mself\u001b[0m\u001b[0;34m.\u001b[0m\u001b[0mquiet\u001b[0m \u001b[0;34m=\u001b[0m \u001b[0mdevice_options\u001b[0m\u001b[0;34m.\u001b[0m\u001b[0mquiet\u001b[0m\u001b[0;34m\u001b[0m\u001b[0;34m\u001b[0m\u001b[0m\n",
      "\u001b[0;32m/usr/local/lib/python3.8/site-packages/kernel_tuner/core.py\u001b[0m in \u001b[0;36m__init__\u001b[0;34m(self, kernel_source, device, platform, lang, quiet, compiler, compiler_options, iterations)\u001b[0m\n\u001b[1;32m    211\u001b[0m \u001b[0;34m\u001b[0m\u001b[0m\n\u001b[1;32m    212\u001b[0m         \u001b[0;32mif\u001b[0m \u001b[0mlang\u001b[0m \u001b[0;34m==\u001b[0m \u001b[0;34m\"CUDA\"\u001b[0m\u001b[0;34m:\u001b[0m\u001b[0;34m\u001b[0m\u001b[0;34m\u001b[0m\u001b[0m\n\u001b[0;32m--> 213\u001b[0;31m             \u001b[0mdev\u001b[0m \u001b[0;34m=\u001b[0m \u001b[0mCudaFunctions\u001b[0m\u001b[0;34m(\u001b[0m\u001b[0mdevice\u001b[0m\u001b[0;34m,\u001b[0m \u001b[0mcompiler_options\u001b[0m\u001b[0;34m=\u001b[0m\u001b[0mcompiler_options\u001b[0m\u001b[0;34m,\u001b[0m \u001b[0miterations\u001b[0m\u001b[0;34m=\u001b[0m\u001b[0miterations\u001b[0m\u001b[0;34m)\u001b[0m\u001b[0;34m\u001b[0m\u001b[0;34m\u001b[0m\u001b[0m\n\u001b[0m\u001b[1;32m    214\u001b[0m         \u001b[0;32melif\u001b[0m \u001b[0mlang\u001b[0m \u001b[0;34m==\u001b[0m \u001b[0;34m\"OpenCL\"\u001b[0m\u001b[0;34m:\u001b[0m\u001b[0;34m\u001b[0m\u001b[0;34m\u001b[0m\u001b[0m\n\u001b[1;32m    215\u001b[0m             \u001b[0mdev\u001b[0m \u001b[0;34m=\u001b[0m \u001b[0mOpenCLFunctions\u001b[0m\u001b[0;34m(\u001b[0m\u001b[0mdevice\u001b[0m\u001b[0;34m,\u001b[0m \u001b[0mplatform\u001b[0m\u001b[0;34m,\u001b[0m \u001b[0mcompiler_options\u001b[0m\u001b[0;34m=\u001b[0m\u001b[0mcompiler_options\u001b[0m\u001b[0;34m,\u001b[0m \u001b[0miterations\u001b[0m\u001b[0;34m=\u001b[0m\u001b[0miterations\u001b[0m\u001b[0;34m)\u001b[0m\u001b[0;34m\u001b[0m\u001b[0;34m\u001b[0m\u001b[0m\n",
      "\u001b[0;32m/usr/local/lib/python3.8/site-packages/kernel_tuner/cuda.py\u001b[0m in \u001b[0;36m__init__\u001b[0;34m(self, device, iterations, compiler_options)\u001b[0m\n\u001b[1;32m     44\u001b[0m         \u001b[0mself\u001b[0m\u001b[0;34m.\u001b[0m\u001b[0mtexrefs\u001b[0m \u001b[0;34m=\u001b[0m \u001b[0;34m[\u001b[0m\u001b[0;34m]\u001b[0m\u001b[0;34m\u001b[0m\u001b[0;34m\u001b[0m\u001b[0m\n\u001b[1;32m     45\u001b[0m         \u001b[0;32mif\u001b[0m \u001b[0;32mnot\u001b[0m \u001b[0mdrv\u001b[0m\u001b[0;34m:\u001b[0m\u001b[0;34m\u001b[0m\u001b[0;34m\u001b[0m\u001b[0m\n\u001b[0;32m---> 46\u001b[0;31m             \u001b[0;32mraise\u001b[0m \u001b[0mImportError\u001b[0m\u001b[0;34m(\u001b[0m\u001b[0;34m\"Error: pycuda not installed, please install e.g. using 'pip install pycuda'.\"\u001b[0m\u001b[0;34m)\u001b[0m\u001b[0;34m\u001b[0m\u001b[0;34m\u001b[0m\u001b[0m\n\u001b[0m\u001b[1;32m     47\u001b[0m \u001b[0;34m\u001b[0m\u001b[0m\n\u001b[1;32m     48\u001b[0m         \u001b[0mdrv\u001b[0m\u001b[0;34m.\u001b[0m\u001b[0minit\u001b[0m\u001b[0;34m(\u001b[0m\u001b[0;34m)\u001b[0m\u001b[0;34m\u001b[0m\u001b[0;34m\u001b[0m\u001b[0m\n",
      "\u001b[0;31mImportError\u001b[0m: Error: pycuda not installed, please install e.g. using 'pip install pycuda'."
     ]
    }
   ],
   "source": [
    "from kernel_tuner import tune_kernel\n",
    "result = tune_kernel(\"diffuse_kernel\", kernel_string, problem_size, args, tune_params)"
   ]
  },
  {
   "cell_type": "code",
   "execution_count": 14,
   "metadata": {
    "ExecuteTime": {
     "end_time": "2020-08-19T01:39:45.824152Z",
     "start_time": "2020-08-19T01:39:45.821835Z"
    }
   },
   "outputs": [],
   "source": [
    "# !pip install kernel_tuner"
   ]
  },
  {
   "cell_type": "code",
   "execution_count": 19,
   "metadata": {
    "ExecuteTime": {
     "end_time": "2020-08-18T04:38:23.026798Z",
     "start_time": "2020-08-18T04:38:22.924049Z"
    }
   },
   "outputs": [],
   "source": [
    "#do the imports we need\n",
    "import numpy as np\n",
    "from matplotlib import pyplot\n",
    "%matplotlib inline\n",
    "import matplotlib.pyplot as plt\n",
    "from pylab import imshow, show\n",
    "from timeit import default_timer as timer\n",
    "\n",
    "import pycuda\n",
    "\n",
    "import pycuda.driver as drv\n",
    "from pycuda.compiler import SourceModule\n",
    "\n",
    "#run this once.  if you run in ~30 times, you will get the following error\n",
    "# MemoryError: cuCtxCreate failed: out of memory \n",
    "#initialize PyCuda and get compute capability needed for compilation\n",
    "drv.init()\n",
    "context = drv.Device(0).make_context()\n",
    "devprops = { str(k): v for (k, v) in context.get_device().get_attributes().items() }\n",
    "cc = str(devprops['COMPUTE_CAPABILITY_MAJOR']) + str(devprops['COMPUTE_CAPABILITY_MINOR'])\n"
   ]
  },
  {
   "cell_type": "code",
   "execution_count": 20,
   "metadata": {
    "ExecuteTime": {
     "end_time": "2020-08-18T04:38:24.483298Z",
     "start_time": "2020-08-18T04:38:24.475108Z"
    }
   },
   "outputs": [],
   "source": [
    "#setup initial conditions\n",
    "def get_initial_conditions(nx, ny):\n",
    "    field = np.ones((ny, nx)).astype(np.float32)\n",
    "    field[np.random.randint(0,nx,size=10), np.random.randint(0,ny,size=10)] = 1e3\n",
    "    return field\n",
    "\n",
    "def diffuse(field, dt=0.225):\n",
    "    field[1:nx-1,1:ny-1] = field[1:nx-1,1:ny-1] + dt * (\n",
    "        field[1:nx-1,2:ny]+field[2:nx,1:ny-1]-4*field[1:nx-1,1:ny-1]+\n",
    "        field[0:nx-2,1:ny-1]+field[1:nx-1,0:ny-2] )\n",
    "    return field"
   ]
  },
  {
   "cell_type": "code",
   "execution_count": 24,
   "metadata": {
    "ExecuteTime": {
     "end_time": "2020-08-18T04:39:05.384229Z",
     "start_time": "2020-08-18T04:39:04.649071Z"
    }
   },
   "outputs": [],
   "source": [
    "nx = 1024#200#1024\n",
    "ny = 1024#200#1024\n",
    "threads = (16,16,1)\n",
    "grid = (int(nx/16), int(ny/16), 1)\n",
    "block_size_string = \"#define block_size_x 16\\n#define block_size_y 16\\n\"\n",
    "\n",
    "\n",
    "# #save the ic field for later use\n",
    "# Vin  = np.array([256*x*(y+1) for x in range(nx) for y in range(ny)]).reshape((nx,ny))\n",
    "# field = Vin.copy()\n",
    "ic = get_initial_conditions(nx, ny)\n",
    "field = ic.copy()\n",
    "\n",
    "field_copy = field.copy()\n",
    "for q in range(100):\n",
    "    field_copy = diffuse(field_copy)"
   ]
  },
  {
   "cell_type": "code",
   "execution_count": 39,
   "metadata": {
    "ExecuteTime": {
     "end_time": "2020-08-18T04:45:50.891138Z",
     "start_time": "2020-08-18T04:45:42.935150Z"
    }
   },
   "outputs": [
    {
     "name": "stdout",
     "output_type": "stream",
     "text": [
      "200000 steps of diffuse took 7700 ms.\n"
     ]
    },
    {
     "data": {
      "image/png": "[encoded data removed]",
      "text/plain": [
       "<Figure size 432x288 with 2 Axes>"
      ]
     },
     "metadata": {
      "needs_background": "light"
     },
     "output_type": "display_data"
    }
   ],
   "source": [
    "kernel_string = get_kernel_string(nx, ny, D = 0.0005, dt = 0.025, dx = 0.025)\n",
    "# kernel_string = get_kernel_string(nx, ny)\n",
    "\n",
    "field = ic.copy()\n",
    "\n",
    "iterations = 10**4\n",
    "\n",
    "#allocate GPU memory\n",
    "u_old = drv.mem_alloc(field_copy.nbytes)\n",
    "u_new = drv.mem_alloc(field_copy.nbytes)\n",
    "#setup thread block dimensions and compile the kernel\n",
    "diffuse_kernel = SourceModule(block_size_string+kernel_string).get_function(\"diffuse_kernel\")\n",
    "#create events for measuring performance\n",
    "start = drv.Event()\n",
    "end = drv.Event()\n",
    "#move the data to the GPU\n",
    "drv.memcpy_htod(u_old, field_copy)\n",
    "drv.memcpy_htod(u_new, field_copy)\n",
    "#call the GPU kernel a 1000 times and measure performance\n",
    "context.synchronize()\n",
    "start.record()\n",
    "for i in range(iterations):\n",
    "    diffuse_kernel(u_new, u_old, block=threads, grid=grid)\n",
    "    diffuse_kernel(u_old, u_new, block=threads, grid=grid)\n",
    "end.record()\n",
    "context.synchronize()\n",
    "print(f\"{iterations*2} steps of diffuse took {end.time_since(start):.0f} ms.\")\n",
    "\n",
    "#copy the result from the GPU to Python for plotting\n",
    "gpu_result = np.zeros_like(field_copy)\n",
    "drv.memcpy_dtoh(gpu_result, u_new)\n",
    "fig, (ax1, ax2) = pyplot.subplots(1,2)\n",
    "\n",
    "ax1.imshow(field_copy)\n",
    "ax1.set_title(\"Initial Conditions\")\n",
    "ax2.imshow(gpu_result)\n",
    "ax2.set_title(\"GPU Result\")\n",
    "plt.show()"
   ]
  },
  {
   "cell_type": "code",
   "execution_count": null,
   "metadata": {},
   "outputs": [],
   "source": []
  }
 ],
 "metadata": {
  "kernelspec": {
   "display_name": "Python 3",
   "language": "python",
   "name": "python3"
  },
  "language_info": {
   "codemirror_mode": {
    "name": "ipython",
    "version": 3
   },
   "file_extension": ".py",
   "mimetype": "text/x-python",
   "name": "python",
   "nbconvert_exporter": "python",
   "pygments_lexer": "ipython3",
   "version": "3.8.5"
  },
  "toc": {
   "base_numbering": 1,
   "nav_menu": {},
   "number_sections": true,
   "sideBar": true,
   "skip_h1_title": false,
   "title_cell": "Table of Contents",
   "title_sidebar": "Contents",
   "toc_cell": false,
   "toc_position": {},
   "toc_section_display": true,
   "toc_window_display": false
  },
  "varInspector": {
   "cols": {
    "lenName": 16,
    "lenType": 16,
    "lenVar": 40
   },
   "kernels_config": {
    "python": {
     "delete_cmd_postfix": "",
     "delete_cmd_prefix": "del ",
     "library": "var_list.py",
     "varRefreshCmd": "print(var_dic_list())"
    },
    "r": {
     "delete_cmd_postfix": ") ",
     "delete_cmd_prefix": "rm(",
     "library": "var_list.r",
     "varRefreshCmd": "cat(var_dic_list()) "
    }
   },
   "types_to_exclude": [
    "module",
    "function",
    "builtin_function_or_method",
    "instance",
    "_Feature"
   ],
   "window_display": false
  }
 },
 "nbformat": 4,
 "nbformat_minor": 4
}
