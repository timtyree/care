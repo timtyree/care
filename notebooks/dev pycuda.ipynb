{
 "cells": [
  {
   "cell_type": "code",
   "execution_count": 1,
   "metadata": {
    "ExecuteTime": {
     "end_time": "2020-11-05T16:10:48.386001Z",
     "start_time": "2020-11-05T16:10:47.632290Z"
    }
   },
   "outputs": [],
   "source": [
    "#%pylab inline\n",
    "import numba, numpy as np, matplotlib.pyplot as plt\n",
    "from numba import cuda\n",
    "from pylab import imshow, show\n",
    "from timeit import default_timer as timer"
   ]
  },
  {
   "cell_type": "code",
   "execution_count": 2,
   "metadata": {
    "ExecuteTime": {
     "end_time": "2020-11-05T16:10:48.504651Z",
     "start_time": "2020-11-05T16:10:48.387887Z"
    }
   },
   "outputs": [
    {
     "ename": "ModuleNotFoundError",
     "evalue": "No module named 'pycuda'",
     "output_type": "error",
     "traceback": [
      "\u001b[0;31m---------------------------------------------------------------------------\u001b[0m",
      "\u001b[0;31mModuleNotFoundError\u001b[0m                       Traceback (most recent call last)",
      "\u001b[0;32m<ipython-input-2-3dc6d65a8f03>\u001b[0m in \u001b[0;36m<module>\u001b[0;34m\u001b[0m\n\u001b[0;32m----> 1\u001b[0;31m \u001b[0;32mimport\u001b[0m \u001b[0mpycuda\u001b[0m\u001b[0;34m.\u001b[0m\u001b[0mdriver\u001b[0m \u001b[0;32mas\u001b[0m \u001b[0mcuda\u001b[0m\u001b[0;34m\u001b[0m\u001b[0;34m\u001b[0m\u001b[0m\n\u001b[0m\u001b[1;32m      2\u001b[0m \u001b[0;32mimport\u001b[0m \u001b[0mpycuda\u001b[0m\u001b[0;34m.\u001b[0m\u001b[0mautoinit\u001b[0m\u001b[0;34m\u001b[0m\u001b[0;34m\u001b[0m\u001b[0m\n\u001b[1;32m      3\u001b[0m \u001b[0;32mfrom\u001b[0m \u001b[0mpycuda\u001b[0m\u001b[0;34m.\u001b[0m\u001b[0mcompiler\u001b[0m \u001b[0;32mimport\u001b[0m \u001b[0mSourceModule\u001b[0m\u001b[0;34m\u001b[0m\u001b[0;34m\u001b[0m\u001b[0m\n\u001b[1;32m      4\u001b[0m \u001b[0;32mimport\u001b[0m \u001b[0mnumpy\u001b[0m \u001b[0;32mas\u001b[0m \u001b[0mnp\u001b[0m\u001b[0;34m\u001b[0m\u001b[0;34m\u001b[0m\u001b[0m\n",
      "\u001b[0;31mModuleNotFoundError\u001b[0m: No module named 'pycuda'"
     ]
    }
   ],
   "source": [
    "import pycuda.driver as cuda\n",
    "import pycuda.autoinit\n",
    "from pycuda.compiler import SourceModule\n",
    "import numpy as np"
   ]
  },
  {
   "cell_type": "markdown",
   "metadata": {},
   "source": [
    "# TODO: diffusion kernel with pbc on a 200x200 square grid\n",
    "keep it simple, stupid!"
   ]
  },
  {
   "cell_type": "markdown",
   "metadata": {},
   "source": [
    "### pycuda examples, \n",
    "- including interactive applets, multiple gpu threads, concurrent kernels, and using thrust\n",
    "    - https://wiki.tiker.net/PyCuda/Examples\n",
    "- yet more examples\n",
    "    - https://github.com/inducer/pycuda/tree/master/examples"
   ]
  },
  {
   "cell_type": "code",
   "execution_count": null,
   "metadata": {
    "ExecuteTime": {
     "end_time": "2020-08-20T19:15:37.414565Z",
     "start_time": "2020-08-20T19:15:37.335430Z"
    }
   },
   "outputs": [],
   "source": []
  },
  {
   "cell_type": "markdown",
   "metadata": {},
   "source": [
    "### abstract away the complications with pycuda.gpuarray.GPUArray\n",
    "```\n",
    "import pycuda.gpuarray as gpuarray\n",
    "import pycuda.driver as cuda\n",
    "import pycuda.autoinit\n",
    "import numpy\n",
    "\n",
    "a_gpu = gpuarray.to_gpu(numpy.random.randn(4,4).astype(numpy.float32))\n",
    "a_doubled = (2*a_gpu).get()\n",
    "print a_doubled\n",
    "print a_gpu\n",
    "```"
   ]
  },
  {
   "cell_type": "markdown",
   "metadata": {},
   "source": [
    "### avoid python overhead with func.prepared_call\n",
    "```\n",
    "grid = (1, 1)\n",
    "block = (4, 4, 1)\n",
    "func.prepare(\"P\")\n",
    "func.prepared_call(grid, block, a_gpu)\n",
    "```"
   ]
  },
  {
   "cell_type": "markdown",
   "metadata": {
    "heading_collapsed": true
   },
   "source": [
    "### shortcut for explicit memory copies\n",
    "The pycuda.driver.In, pycuda.driver.Out, and pycuda.driver.InOut argument handlers can simplify some of the memory transfers. For example, instead of creating a_gpu, if replacing a is fine, the following code can be used:\n",
    "```\n",
    "func(cuda.InOut(a), block=(4, 4, 1))\n",
    "```\n",
    "\n"
   ]
  },
  {
   "cell_type": "code",
   "execution_count": 24,
   "metadata": {
    "ExecuteTime": {
     "end_time": "2020-08-20T18:09:35.465288Z",
     "start_time": "2020-08-20T18:09:35.459273Z"
    },
    "hidden": true
   },
   "outputs": [],
   "source": [
    "mod.get_surfref?\n",
    "mod.get_texref?"
   ]
  },
  {
   "cell_type": "code",
   "execution_count": 21,
   "metadata": {
    "ExecuteTime": {
     "end_time": "2020-08-20T18:08:33.548996Z",
     "start_time": "2020-08-20T18:08:33.541813Z"
    },
    "hidden": true
   },
   "outputs": [
    {
     "name": "stdout",
     "output_type": "stream",
     "text": [
      "[[0. 0. 0. 0.]\n",
      " [0. 0. 0. 0.]\n",
      " [0. 0. 0. 0.]\n",
      " [0. 0. 0. 0.]]\n"
     ]
    }
   ],
   "source": [
    "print (a_doubled-2*a)"
   ]
  },
  {
   "cell_type": "code",
   "execution_count": 19,
   "metadata": {
    "ExecuteTime": {
     "end_time": "2020-08-20T18:08:22.251385Z",
     "start_time": "2020-08-20T18:08:22.247698Z"
    },
    "hidden": true
   },
   "outputs": [],
   "source": [
    "# If there aren’t any errors, the code is now compiled and loaded onto the device. We find a reference to our pycuda.driver.Function and call it, specifying a_gpu as the argument, and a block size of 4x4:\n",
    "func = mod.get_function(\"doublify\")\n",
    "func(a_gpu, block=(4,4,1))\n",
    "\n",
    "a_doubled = numpy.empty_like(a)\n",
    "cuda.memcpy_dtoh(a_doubled, a_gpu)"
   ]
  },
  {
   "cell_type": "code",
   "execution_count": 14,
   "metadata": {
    "ExecuteTime": {
     "end_time": "2020-08-20T18:06:38.293949Z",
     "start_time": "2020-08-20T18:06:37.433820Z"
    },
    "hidden": true
   },
   "outputs": [],
   "source": [
    "#executing a kernel\n",
    "mod = SourceModule(\"\"\"\n",
    "  __global__ void doublify(float *a)\n",
    "  {\n",
    "    int idx = threadIdx.x + threadIdx.y*4;\n",
    "    a[idx] *= 2;\n",
    "  }\n",
    "  \"\"\")"
   ]
  },
  {
   "cell_type": "code",
   "execution_count": 18,
   "metadata": {
    "ExecuteTime": {
     "end_time": "2020-08-20T18:08:19.984202Z",
     "start_time": "2020-08-20T18:08:19.948478Z"
    },
    "hidden": true
   },
   "outputs": [],
   "source": [
    "#transfer data to the gpu\n",
    "\n",
    "a = np.random.randn(4,4)\n",
    "#most nvidia gpus only support single point percision.  I think mine does double tho\n",
    "a = a.astype(np.float32)\n",
    "a_gpu = cuda.mem_alloc(a.nbytes)\n",
    "cuda.memcpy_htod(a_gpu, a)\n"
   ]
  },
  {
   "cell_type": "code",
   "execution_count": 9,
   "metadata": {
    "ExecuteTime": {
     "end_time": "2020-08-20T18:03:48.246190Z",
     "start_time": "2020-08-20T18:03:48.091652Z"
    },
    "hidden": true
   },
   "outputs": [],
   "source": [
    "import pycuda.driver as cuda\n",
    "import pycuda.autoinit\n",
    "from pycuda.compiler import SourceModule\n",
    "import numpy as np\n",
    "\n",
    "# Note that you do not have to use pycuda.autoinit– initialization, context creation, and cleanup can also be performed manually, if desired."
   ]
  },
  {
   "cell_type": "code",
   "execution_count": 2,
   "metadata": {
    "ExecuteTime": {
     "end_time": "2020-08-20T17:59:23.788421Z",
     "start_time": "2020-08-20T17:59:23.783147Z"
    },
    "hidden": true
   },
   "outputs": [],
   "source": [
    "#setup initial conditions\n",
    "def get_initial_conditions(nx, ny):\n",
    "    field = np.ones((ny, nx)).astype(np.float32)\n",
    "    field[np.random.randint(0,nx,size=10), np.random.randint(0,ny,size=10)] = 1e3\n",
    "    return field\n",
    "\n",
    "def diffuse(field, dt=0.225):\n",
    "    field[1:nx-1,1:ny-1] = field[1:nx-1,1:ny-1] + dt * (\n",
    "        field[1:nx-1,2:ny]+field[2:nx,1:ny-1]-4*field[1:nx-1,1:ny-1]+\n",
    "        field[0:nx-2,1:ny-1]+field[1:nx-1,0:ny-2] )\n",
    "    return field"
   ]
  },
  {
   "cell_type": "markdown",
   "metadata": {
    "heading_collapsed": true
   },
   "source": [
    "# mandelbrot example with numba.cuda\n"
   ]
  },
  {
   "cell_type": "code",
   "execution_count": 3,
   "metadata": {
    "ExecuteTime": {
     "end_time": "2020-08-20T17:59:25.068485Z",
     "start_time": "2020-08-20T17:59:25.058461Z"
    },
    "hidden": true
   },
   "outputs": [],
   "source": [
    "# from numba import autojit\n",
    "@numba.jit\n",
    "def mandel(x, y, max_iters):\n",
    "  \"\"\"\n",
    "    Given the real and imaginary parts of a complex number,\n",
    "    determine if it is a candidate for membership in the Mandelbrot\n",
    "    set given a fixed number of iterations.\n",
    "  \"\"\"\n",
    "  c = complex(x, y)\n",
    "  z = 0.0j\n",
    "  for i in range(max_iters):\n",
    "    z = z*z + c\n",
    "    if (z.real*z.real + z.imag*z.imag) >= 4:\n",
    "      return i\n",
    "\n",
    "  return max_iters\n",
    "\n",
    "@numba.jit\n",
    "def create_fractal(min_x, max_x, min_y, max_y, image, iters):\n",
    "  height = image.shape[0]\n",
    "  width = image.shape[1]\n",
    "\n",
    "  pixel_size_x = (max_x - min_x) / width\n",
    "  pixel_size_y = (max_y - min_y) / height\n",
    "    \n",
    "  for x in range(width):\n",
    "    real = min_x + x * pixel_size_x\n",
    "    for y in range(height):\n",
    "      imag = min_y + y * pixel_size_y\n",
    "      color = mandel(real, imag, iters)\n",
    "      image[y, x] = color"
   ]
  },
  {
   "cell_type": "code",
   "execution_count": 4,
   "metadata": {
    "ExecuteTime": {
     "end_time": "2020-08-20T17:59:25.577555Z",
     "start_time": "2020-08-20T17:59:25.575157Z"
    },
    "hidden": true
   },
   "outputs": [],
   "source": [
    "from numba import cuda\n",
    "from numba import *\n",
    "\n",
    "mandel_gpu = cuda.jit(device=True)(mandel)"
   ]
  },
  {
   "cell_type": "code",
   "execution_count": 5,
   "metadata": {
    "ExecuteTime": {
     "end_time": "2020-08-20T17:59:26.612997Z",
     "start_time": "2020-08-20T17:59:26.124485Z"
    },
    "hidden": true
   },
   "outputs": [
    {
     "name": "stdout",
     "output_type": "stream",
     "text": [
      "Mandelbrot created in 0.317611 s\n"
     ]
    },
    {
     "data": {
      "image/png": "[encoded data removed]",
      "text/plain": [
       "<Figure size 432x288 with 1 Axes>"
      ]
     },
     "metadata": {
      "needs_background": "light"
     },
     "output_type": "display_data"
    }
   ],
   "source": [
    "image = np.zeros((1024, 1536), dtype = np.uint8)\n",
    "start = timer()\n",
    "create_fractal(-2.0, 1.0, -1.0, 1.0, image, 20) \n",
    "dt = timer() - start\n",
    "\n",
    "print(\"Mandelbrot created in %f s\" % dt)\n",
    "imshow(image)\n",
    "show()"
   ]
  },
  {
   "cell_type": "code",
   "execution_count": null,
   "metadata": {
    "hidden": true
   },
   "outputs": [],
   "source": []
  },
  {
   "cell_type": "code",
   "execution_count": 6,
   "metadata": {
    "ExecuteTime": {
     "end_time": "2020-08-20T17:59:27.891083Z",
     "start_time": "2020-08-20T17:59:27.884837Z"
    },
    "hidden": true
   },
   "outputs": [],
   "source": [
    "@cuda.jit\n",
    "def mandel_kernel(min_x, max_x, min_y, max_y, image, iters):\n",
    "  height = image.shape[0]\n",
    "  width = image.shape[1]\n",
    "\n",
    "  pixel_size_x = (max_x - min_x) / width\n",
    "  pixel_size_y = (max_y - min_y) / height\n",
    "\n",
    "  startX, startY = cuda.grid(2)\n",
    "  gridX = cuda.gridDim.x * cuda.blockDim.x;\n",
    "  gridY = cuda.gridDim.y * cuda.blockDim.y;\n",
    "\n",
    "  for x in range(startX, width, gridX):\n",
    "    real = min_x + x * pixel_size_x\n",
    "    for y in range(startY, height, gridY):\n",
    "      imag = min_y + y * pixel_size_y \n",
    "      image[y, x] = mandel_gpu(real, imag, iters)"
   ]
  },
  {
   "cell_type": "code",
   "execution_count": null,
   "metadata": {
    "hidden": true
   },
   "outputs": [],
   "source": []
  },
  {
   "cell_type": "code",
   "execution_count": 8,
   "metadata": {
    "ExecuteTime": {
     "end_time": "2020-08-20T17:59:36.299317Z",
     "start_time": "2020-08-20T17:59:36.135011Z"
    },
    "hidden": true
   },
   "outputs": [
    {
     "name": "stdout",
     "output_type": "stream",
     "text": [
      "Mandelbrot created on GPU in 0.004728 s\n"
     ]
    },
    {
     "data": {
      "image/png": "[encoded data removed]",
      "text/plain": [
       "<Figure size 432x288 with 1 Axes>"
      ]
     },
     "metadata": {
      "needs_background": "light"
     },
     "output_type": "display_data"
    }
   ],
   "source": [
    "gimage = np.zeros((1024, 1536), dtype = np.uint8)\n",
    "blockdim = (32, 8)\n",
    "griddim = (32,16)\n",
    "\n",
    "start = timer()\n",
    "d_image = cuda.to_device(gimage)\n",
    "mandel_kernel[griddim, blockdim](-2.0, 1.0, -1.0, 1.0, d_image, 20) \n",
    "d_image.to_host()\n",
    "dt = timer() - start\n",
    "\n",
    "print(\"Mandelbrot created on GPU in %f s\" % dt)\n",
    "imshow(gimage)\n",
    "show()"
   ]
  },
  {
   "cell_type": "markdown",
   "metadata": {
    "heading_collapsed": true,
    "hidden": true
   },
   "source": [
    "## (fail at getting) time_step to be gpu accelerated without alteration"
   ]
  },
  {
   "cell_type": "code",
   "execution_count": null,
   "metadata": {
    "ExecuteTime": {
     "end_time": "2020-08-17T01:52:42.399840Z",
     "start_time": "2020-08-17T01:52:42.395509Z"
    },
    "hidden": true
   },
   "outputs": [],
   "source": [
    "from lib import *\n",
    "#load the libraries\n",
    "from lib.operari import *\n",
    "from lib.ProgressBar import *\n",
    "from lib.minimal_model import *\n",
    "from lib.TexturePlot import *\n",
    "from lib.get_tips import *\n",
    "from lib.minimal_model import *\n",
    "from lib.intersection import *"
   ]
  },
  {
   "cell_type": "code",
   "execution_count": null,
   "metadata": {
    "ExecuteTime": {
     "end_time": "2020-08-17T01:01:55.955016Z",
     "start_time": "2020-08-17T01:01:55.951516Z"
    },
    "hidden": true
   },
   "outputs": [],
   "source": [
    "from numba import cuda\n",
    "from numba import *\n",
    "\n",
    "time_step_gpu = cuda.jit(device=True)(time_step_at_pixel)"
   ]
  },
  {
   "cell_type": "code",
   "execution_count": null,
   "metadata": {
    "ExecuteTime": {
     "end_time": "2020-08-17T01:52:42.872029Z",
     "start_time": "2020-08-17T01:52:42.857620Z"
    },
    "hidden": true
   },
   "outputs": [],
   "source": [
    "#import the time step and use it on an example texture\n",
    "file = '/home/timothytyree/Documents/GitHub/care/notebooks/Data/initial-conditions-suite-2/ic-out/ic_200x200.001.13.npz'\n",
    "txt = load_buffer(file)\n",
    "txt.shape"
   ]
  },
  {
   "cell_type": "code",
   "execution_count": null,
   "metadata": {
    "ExecuteTime": {
     "end_time": "2020-08-17T01:55:13.244217Z",
     "start_time": "2020-08-17T01:55:13.229435Z"
    },
    "hidden": true
   },
   "outputs": [],
   "source": [
    "time_step_cuda(texture=txt, h=0.025, zero_txt=zero_txt.copy())"
   ]
  },
  {
   "cell_type": "code",
   "execution_count": null,
   "metadata": {
    "ExecuteTime": {
     "end_time": "2020-08-17T01:52:52.366297Z",
     "start_time": "2020-08-17T01:52:46.019517Z"
    },
    "hidden": true
   },
   "outputs": [],
   "source": [
    "zero_txt = np.zeros_like(txt)\n",
    "for j in range(500):\n",
    "    time_step(texture=txt, h=0.025, zero_txt=zero_txt.copy())"
   ]
  },
  {
   "cell_type": "code",
   "execution_count": null,
   "metadata": {
    "ExecuteTime": {
     "end_time": "2020-08-17T01:53:49.561086Z",
     "start_time": "2020-08-17T01:53:49.557938Z"
    },
    "hidden": true
   },
   "outputs": [],
   "source": [
    "time_step_cuda = cuda.jit(device=True)(time_step)"
   ]
  },
  {
   "cell_type": "code",
   "execution_count": null,
   "metadata": {
    "ExecuteTime": {
     "end_time": "2020-08-17T01:23:35.424239Z",
     "start_time": "2020-08-17T01:23:35.415831Z"
    },
    "hidden": true
   },
   "outputs": [],
   "source": [
    "@cuda.jit\n",
    "def get_time_step_kernel(texture, out):\n",
    "    height = texture.shape[0]\n",
    "    width = texture.shape[1]\n",
    "\n",
    "    startX, startY = cuda.grid(2)\n",
    "    gridX = cuda.gridDim.x * cuda.blockDim.x;\n",
    "    gridY = cuda.gridDim.y * cuda.blockDim.y;\n",
    "\n",
    "    for x in range(startX, width, gridX):\n",
    "        for y in range(startY, height, gridY):\n",
    "            out[y, x] = np.array(time_step_gpu(inVfs=texture,x=x,y=y))"
   ]
  },
  {
   "cell_type": "code",
   "execution_count": null,
   "metadata": {
    "ExecuteTime": {
     "end_time": "2020-08-17T01:23:38.026727Z",
     "start_time": "2020-08-17T01:23:38.022960Z"
    },
    "hidden": true
   },
   "outputs": [],
   "source": [
    "1024/32\n",
    "1536/32"
   ]
  },
  {
   "cell_type": "code",
   "execution_count": null,
   "metadata": {
    "ExecuteTime": {
     "end_time": "2020-08-17T02:17:49.701328Z",
     "start_time": "2020-08-17T02:17:49.698495Z"
    },
    "hidden": true
   },
   "outputs": [],
   "source": [
    "# # gimage = np.zeros((1024, 1536), dtype = np.uint8)\n",
    "# gimage = np.zeros((1024, 1536, 3), dtype = np.float32)\n",
    "# # gimage = txt.copy()\n",
    "# dtexture_dt = gimage.copy()#zero_txt.copy()\n",
    "\n",
    "# blockdim = (32, 8)\n",
    "# griddim = (32,16)\n",
    "\n",
    "# start = timer()\n",
    "# d_image = cuda.to_device(gimage)\n",
    "# d_dtexture_dt = cuda.to_device(dtexture_dt)\n",
    "# get_time_step_kernel[griddim, blockdim](txt, d_dtexture_dt)\n",
    "# d_image.to_host()\n",
    "# dt = timer() - start\n",
    "\n",
    "# print(\"Mandelbrot created on GPU in %f s\" % dt)\n",
    "# imshow(gimage)\n",
    "# show()"
   ]
  },
  {
   "cell_type": "markdown",
   "metadata": {
    "ExecuteTime": {
     "end_time": "2020-08-17T01:24:07.485142Z",
     "start_time": "2020-08-17T01:24:07.475360Z"
    },
    "heading_collapsed": true,
    "hidden": true
   },
   "source": [
    "## (not working) fast matrix multiplication \n",
    "but complicated to understand and isn't being called right"
   ]
  },
  {
   "cell_type": "code",
   "execution_count": null,
   "metadata": {
    "ExecuteTime": {
     "end_time": "2020-08-17T02:15:46.280465Z",
     "start_time": "2020-08-17T02:15:45.741482Z"
    },
    "hidden": true
   },
   "outputs": [],
   "source": [
    "from numba import cuda, float32\n",
    "\n",
    "# Controls threads per block and shared memory usage.\n",
    "# The computation will be done on blocks of TPBxTPB elements.\n",
    "TPB = 16\n",
    "\n",
    "@cuda.jit\n",
    "def fast_matmul(A, B, C):\n",
    "    # Define an array in the shared memory\n",
    "    # The size and type of the arrays must be known at compile time\n",
    "    sA = cuda.shared.array(shape=(TPB, TPB), dtype=float32)\n",
    "    sB = cuda.shared.array(shape=(TPB, TPB), dtype=float32)\n",
    "\n",
    "    x, y = cuda.grid(2)\n",
    "\n",
    "    tx = cuda.threadIdx.x\n",
    "    ty = cuda.threadIdx.y\n",
    "    bpg = cuda.gridDim.x    # blocks per grid\n",
    "\n",
    "    if x >= C.shape[0] and y >= C.shape[1]:\n",
    "        # Quit if (x, y) is outside of valid C boundary\n",
    "        return\n",
    "\n",
    "    # Each thread computes one element in the result matrix.\n",
    "    # The dot product is chunked into dot products of TPB-long vectors.\n",
    "    tmp = 0.\n",
    "    for i in range(bpg):\n",
    "        # Preload data into shared memory\n",
    "        sA[tx, ty] = A[x, ty + i * TPB]\n",
    "        sB[tx, ty] = B[tx + i * TPB, y]\n",
    "\n",
    "        # Wait until all threads finish preloading\n",
    "        cuda.syncthreads()\n",
    "\n",
    "        # Computes partial product on the shared memory\n",
    "        for j in range(TPB):\n",
    "            tmp += sA[tx, j] * sB[j, ty]\n",
    "\n",
    "        # Wait until all threads finish computing\n",
    "        cuda.syncthreads()\n",
    "\n",
    "    C[x, y] = tmp"
   ]
  },
  {
   "cell_type": "code",
   "execution_count": null,
   "metadata": {
    "ExecuteTime": {
     "end_time": "2020-08-17T02:15:47.213203Z",
     "start_time": "2020-08-17T02:15:47.208960Z"
    },
    "hidden": true
   },
   "outputs": [],
   "source": [
    "A = np.ones((200,200))\n",
    "B = 2*A.copy()\n",
    "C = np.zeros_like(A)"
   ]
  },
  {
   "cell_type": "code",
   "execution_count": null,
   "metadata": {
    "ExecuteTime": {
     "end_time": "2020-08-17T02:15:50.430740Z",
     "start_time": "2020-08-17T02:15:49.666395Z"
    },
    "hidden": true
   },
   "outputs": [],
   "source": [
    "fast_matmul(A, B, C)\n",
    "C"
   ]
  },
  {
   "cell_type": "code",
   "execution_count": null,
   "metadata": {
    "ExecuteTime": {
     "end_time": "2020-08-17T02:15:54.904656Z",
     "start_time": "2020-08-17T02:15:54.896638Z"
    },
    "hidden": true
   },
   "outputs": [],
   "source": [
    "@cuda.jit\n",
    "def matmul(A, B, C):\n",
    "    \"\"\"Perform square matrix multiplication of C = A * B\n",
    "    \"\"\"\n",
    "    i, j = cuda.grid(2)\n",
    "    if i < C.shape[0] and j < C.shape[1]:\n",
    "        tmp = 0.\n",
    "        for k in range(A.shape[1]):\n",
    "            tmp += A[i, k] * B[k, j]\n",
    "        C[i, j] = tmp"
   ]
  },
  {
   "cell_type": "code",
   "execution_count": null,
   "metadata": {
    "ExecuteTime": {
     "end_time": "2020-08-17T02:15:59.292164Z",
     "start_time": "2020-08-17T02:15:59.285908Z"
    },
    "hidden": true
   },
   "outputs": [],
   "source": [
    "matmul(A, B, C)"
   ]
  },
  {
   "cell_type": "code",
   "execution_count": null,
   "metadata": {
    "ExecuteTime": {
     "end_time": "2020-08-17T02:16:08.116816Z",
     "start_time": "2020-08-17T02:16:08.112246Z"
    },
    "hidden": true
   },
   "outputs": [],
   "source": [
    "C"
   ]
  },
  {
   "cell_type": "markdown",
   "metadata": {
    "heading_collapsed": true,
    "hidden": true
   },
   "source": [
    "## (still with numba.cuda) add two matrices the same shape as my texture with float64 percision"
   ]
  },
  {
   "cell_type": "code",
   "execution_count": null,
   "metadata": {
    "ExecuteTime": {
     "end_time": "2020-08-17T02:34:52.381144Z",
     "start_time": "2020-08-17T02:34:52.342319Z"
    },
    "hidden": true
   },
   "outputs": [],
   "source": [
    "from numba import cuda\n",
    "# from numba import *"
   ]
  },
  {
   "cell_type": "code",
   "execution_count": null,
   "metadata": {
    "ExecuteTime": {
     "end_time": "2020-08-17T02:36:24.535572Z",
     "start_time": "2020-08-17T02:36:24.532398Z"
    },
    "hidden": true
   },
   "outputs": [],
   "source": [
    "# from numba import autojit\n",
    "@numba.jit\n",
    "def add(a, b):\n",
    "    return a + b"
   ]
  },
  {
   "cell_type": "code",
   "execution_count": null,
   "metadata": {
    "ExecuteTime": {
     "end_time": "2020-08-17T02:36:25.000454Z",
     "start_time": "2020-08-17T02:36:24.996473Z"
    },
    "hidden": true
   },
   "outputs": [],
   "source": [
    "foo_gpu = cuda.jit(device=True)(add)"
   ]
  },
  {
   "cell_type": "code",
   "execution_count": null,
   "metadata": {
    "ExecuteTime": {
     "end_time": "2020-08-17T02:44:12.271986Z",
     "start_time": "2020-08-17T02:44:12.264938Z"
    },
    "hidden": true
   },
   "outputs": [],
   "source": [
    "@cuda.jit\n",
    "def foo_kernel(image1, image2, out):\n",
    "    height = image1.shape[0]\n",
    "    width  = image1.shape[1]\n",
    "\n",
    "    startX, startY = cuda.grid(2)\n",
    "    gridX = cuda.gridDim.x * cuda.blockDim.x;\n",
    "    gridY = cuda.gridDim.y * cuda.blockDim.y;\n",
    "\n",
    "    for x in range(startX, width, gridX):\n",
    "        for y in range(startY, height, gridY):\n",
    "            a = image1[y,x]\n",
    "            b = image2[y,x]\n",
    "            out[y, x] = a+b#foo_gpu(a, b)"
   ]
  },
  {
   "cell_type": "code",
   "execution_count": null,
   "metadata": {
    "hidden": true
   },
   "outputs": [],
   "source": []
  },
  {
   "cell_type": "code",
   "execution_count": null,
   "metadata": {
    "ExecuteTime": {
     "end_time": "2020-08-17T02:44:16.490917Z",
     "start_time": "2020-08-17T02:44:16.242975Z"
    },
    "hidden": true
   },
   "outputs": [],
   "source": [
    "gout    = np.zeros((1024, 1536), dtype = np.uint8)\n",
    "gimage1 = np.ones((1024, 1536), dtype = np.uint8)\n",
    "gimage2 = np.ones((1024, 1536), dtype = np.uint8)\n",
    "blockdim = (32, 8)\n",
    "griddim = (32,16)\n",
    "\n",
    "start = timer()\n",
    "d_image1 = cuda.to_device(gimage1)\n",
    "d_image2 = cuda.to_device(gimage1)\n",
    "d_out    = cuda.to_device(gout)\n",
    "foo_kernel[griddim, blockdim](d_image1, d_image2, d_out) \n",
    "d_out.to_host()\n",
    "dt = timer() - start\n",
    "\n",
    "print(\"Output created on GPU in %f s\" % dt)\n",
    "imshow(gout)\n",
    "show()"
   ]
  },
  {
   "cell_type": "code",
   "execution_count": null,
   "metadata": {
    "ExecuteTime": {
     "end_time": "2020-08-17T02:50:13.711174Z",
     "start_time": "2020-08-17T02:50:13.530230Z"
    },
    "hidden": true
   },
   "outputs": [],
   "source": [
    "gout    = np.zeros((200, 200), dtype = np.float64)\n",
    "gimage1 = 2*np.ones((200, 200), dtype = np.float64)\n",
    "gimage2 = np.ones((200, 200), dtype = np.float64)\n",
    "blockdim = (32, 8)\n",
    "griddim = (32,16)\n",
    "\n",
    "start = timer()\n",
    "d_image1 = cuda.to_device(gimage1)\n",
    "d_image2 = cuda.to_device(gimage2)\n",
    "d_out    = cuda.to_device(gout)\n",
    "foo_kernel[griddim, blockdim](d_image1, d_image2, d_out) \n",
    "d_out.to_host()\n",
    "dt = timer() - start\n",
    "\n",
    "print(\"Output created on GPU in %f s\" % dt)\n",
    "imshow(gout)\n",
    "show()"
   ]
  },
  {
   "cell_type": "code",
   "execution_count": null,
   "metadata": {
    "ExecuteTime": {
     "end_time": "2020-08-17T02:50:40.810595Z",
     "start_time": "2020-08-17T02:50:40.807446Z"
    },
    "hidden": true
   },
   "outputs": [],
   "source": [
    "assert ( (gout==3).all() ) "
   ]
  },
  {
   "cell_type": "markdown",
   "metadata": {
    "heading_collapsed": true
   },
   "source": [
    "# (numba.cuda) compute the diffusion time step with float64 percision with periodic boundary conditions using numba.cuda (it's slow)"
   ]
  },
  {
   "cell_type": "code",
   "execution_count": null,
   "metadata": {
    "ExecuteTime": {
     "end_time": "2020-08-17T05:35:32.705100Z",
     "start_time": "2020-08-17T05:35:32.699355Z"
    },
    "hidden": true
   },
   "outputs": [],
   "source": [
    "@numba.njit\n",
    "def _pbc(S,y,x,height,width):\n",
    "    '''S = numpy array with size (height,width)\n",
    "    (y, x) pixel coordinates in S, enforcing periodic boundary conditions explicitely.'''\n",
    "    if ( x < 0  ):# // Left P.B.C.\n",
    "        x = width - 1\n",
    "    elif ( x > (width - 1) ):# // Right P.B.C.\n",
    "        x = 0\n",
    "    if( y < 0 ):# //  Bottom P.B.C.\n",
    "        y = height - 1\n",
    "    elif ( y > (height - 1)):# // Top P.B.C.\n",
    "        y = 0\n",
    "    return S[y,x]"
   ]
  },
  {
   "cell_type": "code",
   "execution_count": null,
   "metadata": {
    "ExecuteTime": {
     "end_time": "2020-08-17T05:35:33.656211Z",
     "start_time": "2020-08-17T05:35:33.653969Z"
    },
    "hidden": true
   },
   "outputs": [],
   "source": [
    "# _pbc(gout,5,201,200,200)"
   ]
  },
  {
   "cell_type": "code",
   "execution_count": null,
   "metadata": {
    "ExecuteTime": {
     "end_time": "2020-08-17T05:35:34.064006Z",
     "start_time": "2020-08-17T05:35:34.057688Z"
    },
    "hidden": true
   },
   "outputs": [],
   "source": [
    "_pbc_gpu = cuda.jit(device=True)(_pbc)"
   ]
  },
  {
   "cell_type": "code",
   "execution_count": null,
   "metadata": {
    "ExecuteTime": {
     "end_time": "2020-08-17T05:35:36.373395Z",
     "start_time": "2020-08-17T05:35:36.363091Z"
    },
    "hidden": true
   },
   "outputs": [],
   "source": [
    "#model parameters\n",
    "diff_coef = 0.0005 #cm^2/ms\n",
    "h  = 0.025 #ms\n",
    "dx = 0.025 #cm\n",
    "cddx = 1/dx**2\n",
    "\n",
    "@cuda.jit\n",
    "def diffusion_kernel(Vin, Vout):\n",
    "    '''writes the simple diffusion term to Vout'''\n",
    "    height = Vin.shape[0]\n",
    "    width  = Vin.shape[1]\n",
    "    \n",
    "#     #model parameters\n",
    "#     diff_coef = 0.0005 #cm^2/ms\n",
    "#     h  = 0.025 #ms\n",
    "#     dx = 0.025 #cm\n",
    "#     cddx = 1/dx**2\n",
    "    \n",
    "    startX, startY = cuda.grid(2)\n",
    "    gridX = cuda.gridDim.x * cuda.blockDim.x;\n",
    "    gridY = cuda.gridDim.y * cuda.blockDim.y;\n",
    "\n",
    "    for x in range(startX, width, gridX):\n",
    "        for y in range(startY, height, gridY):\n",
    "            up     = _pbc_gpu(Vin,y+1,x,height,width)\n",
    "            down   = _pbc_gpu(Vin,y-1,x,height,width)\n",
    "            left   = _pbc_gpu(Vin,y,x-1,height,width)\n",
    "            right  = _pbc_gpu(Vin,y,x+1,height,width)\n",
    "            center = _pbc_gpu(Vin,y,x,height,width)\n",
    "            \n",
    "            #five point stencil\n",
    "            dVlt2dt = up + down + left + right - 4 * center\n",
    "            dVlt2dt *= diff_coef * cddx\n",
    "            Vout[y,x] = center + h*dVlt2dt"
   ]
  },
  {
   "cell_type": "code",
   "execution_count": null,
   "metadata": {
    "hidden": true
   },
   "outputs": [],
   "source": []
  },
  {
   "cell_type": "code",
   "execution_count": null,
   "metadata": {
    "ExecuteTime": {
     "end_time": "2020-08-17T05:35:39.075694Z",
     "start_time": "2020-08-17T05:35:37.704537Z"
    },
    "hidden": true
   },
   "outputs": [],
   "source": [
    "Vout   = np.zeros((200, 200), dtype = np.float64)\n",
    "Vin  = np.array([256*x*(y+1) for x in range(200) for y in range(200)]).reshape((200,200))\n",
    "gimage2 = np.ones((200, 200), dtype = np.float64)\n",
    "blockdim = (32, 8)\n",
    "griddim = (32,16)\n",
    "\n",
    "start = timer()\n",
    "d_Vin = cuda.to_device(Vin)\n",
    "d_Vout = cuda.to_device(Vout)\n",
    "diffusion_kernel[griddim, blockdim](d_Vin, d_Vout) \n",
    "d_Vout.to_host()\n",
    "dt = timer() - start\n",
    "\n",
    "print(\"Diffusion created on GPU in %f s\" % dt)\n",
    "vmax = Vin.max()\n",
    "vmin = Vin.min()\n",
    "imshow(Vin, vmax=vmax,vmin=vmin)\n",
    "show()"
   ]
  },
  {
   "cell_type": "code",
   "execution_count": null,
   "metadata": {
    "ExecuteTime": {
     "end_time": "2020-08-17T04:25:03.443921Z",
     "start_time": "2020-08-17T04:25:03.439989Z"
    },
    "hidden": true
   },
   "outputs": [],
   "source": [
    "# now make an n_forward_steps kernel\n",
    "# @numba.njit\n",
    "def take_2n_steps_forward_kernel(V1, V2, n):\n",
    "    for step in range(n):\n",
    "        diffusion_kernel[griddim, blockdim](V1, V2)\n",
    "        diffusion_kernel[griddim, blockdim](V2, V1)"
   ]
  },
  {
   "cell_type": "code",
   "execution_count": null,
   "metadata": {
    "ExecuteTime": {
     "end_time": "2020-08-17T04:25:23.445429Z",
     "start_time": "2020-08-17T04:25:22.728752Z"
    },
    "hidden": true
   },
   "outputs": [],
   "source": [
    "Vout   = np.zeros((200, 200), dtype = np.float64)\n",
    "Vin  = np.array([256*x*(y+1) for x in range(200) for y in range(200)]).reshape((200,200))\n",
    "gimage2 = np.ones((200, 200), dtype = np.float64)\n",
    "blockdim = (32, 8)\n",
    "griddim = (32,16)\n",
    "\n",
    "start = timer()\n",
    "d_Vin = cuda.to_device(Vin)\n",
    "d_Vout = cuda.to_device(Vout)\n",
    "take_2n_steps_forward_kernel(d_Vin, d_Vout, 1000) \n",
    "d_Vout.to_host()\n",
    "dt = timer() - start\n",
    "\n",
    "print(\"Diffusion created on GPU in %f s\" % dt)\n",
    "vmax = Vin.max()\n",
    "vmin = Vin.min()\n",
    "imshow(Vout, vmax=vmax,vmin=vmin)\n",
    "show()"
   ]
  },
  {
   "cell_type": "code",
   "execution_count": null,
   "metadata": {
    "ExecuteTime": {
     "end_time": "2020-08-17T04:25:27.151478Z",
     "start_time": "2020-08-17T04:25:27.147655Z"
    },
    "hidden": true
   },
   "outputs": [],
   "source": [
    "# now make an n_forward_steps kernel\n",
    "# @numba.njit\n",
    "def take_2n_steps_forward_kernel(V1, V2, n):\n",
    "    for step in range(n):\n",
    "        diffusion_kernel[griddim, blockdim, stream](V1, V2)\n",
    "        diffusion_kernel[griddim, blockdim, stream](V2, V1)"
   ]
  },
  {
   "cell_type": "code",
   "execution_count": null,
   "metadata": {
    "ExecuteTime": {
     "end_time": "2020-08-17T03:55:32.119368Z",
     "start_time": "2020-08-17T03:55:27.068307Z"
    },
    "hidden": true
   },
   "outputs": [],
   "source": [
    "# # def test_event_elapsed_stream(self):\n",
    "# N = 32\n",
    "# stream = cuda.stream()\n",
    "# dary = cuda.device_array(N, dtype=np.int)\n",
    "# evtstart = cuda.event()\n",
    "# evtend = cuda.event()\n",
    "\n",
    "# evtstart.record(stream=stream)\n",
    "# cuda.to_device(np.arange(N), to=dary, stream=stream)\n",
    "# evtend.record(stream=stream)\n",
    "# evtend.wait(stream=stream)\n",
    "# evtend.synchronize()\n",
    "# # Exercise the code path\n",
    "# take_2n_steps_forward_kernel(d_Vin, d_Vout, 10000) \n",
    "# evtstart.elapsed_time(evtend)"
   ]
  },
  {
   "cell_type": "code",
   "execution_count": null,
   "metadata": {
    "ExecuteTime": {
     "end_time": "2020-08-17T04:25:30.506344Z",
     "start_time": "2020-08-17T04:25:29.321475Z"
    },
    "hidden": true
   },
   "outputs": [],
   "source": [
    "iterations = 10**3\n",
    "Vout   = np.zeros((200, 200), dtype = np.float64)\n",
    "Vin   = np.zeros((200, 200), dtype = np.float64)\n",
    "Vin[0,150] = 1000\n",
    "# Vin[-1,-1] = 1000\n",
    "# Vin  = np.array([256*x*(y+1) for x in range(200) for y in range(200)]).reshape((200,200))\n",
    "gimage2 = np.ones((200, 200), dtype = np.float64)\n",
    "blockdim = (32, 8)\n",
    "griddim = (32,16)\n",
    "\n",
    "start = timer()\n",
    "stream = cuda.stream()\n",
    "d_Vin  = cuda.to_device(Vin, stream)\n",
    "d_Vout = cuda.to_device(Vout, stream)\n",
    "# take_2n_steps_forward_kernel(d_Vin, d_Vout, iterations) \n",
    "for step in range(iterations):\n",
    "    diffusion_kernel[griddim, blockdim, stream](d_Vin, d_Vout)\n",
    "    diffusion_kernel[griddim, blockdim, stream](d_Vout, d_Vin)\n",
    "d_Vout.to_host(stream)\n",
    "d_Vin.to_host(stream)\n",
    "stream.synchronize()\n",
    "dt = timer() - start\n",
    "\n",
    "\n",
    "print(f\"{iterations:d} diffusion time steps taken on GPU in {dt:.3f} seconds!\")\n",
    "vmax = Vin.max()\n",
    "vmin = Vin.min()\n",
    "imshow(Vin, vmax=vmax,vmin=vmin)\n",
    "show()"
   ]
  },
  {
   "cell_type": "code",
   "execution_count": null,
   "metadata": {
    "ExecuteTime": {
     "end_time": "2020-08-17T03:58:18.507044Z",
     "start_time": "2020-08-17T03:58:18.488888Z"
    },
    "hidden": true
   },
   "outputs": [],
   "source": [
    "# cuda.compiler.AutoTuner(diffusion_kernel, (griddim, blockdim, stream))"
   ]
  },
  {
   "cell_type": "code",
   "execution_count": null,
   "metadata": {
    "ExecuteTime": {
     "end_time": "2020-08-17T04:02:48.006733Z",
     "start_time": "2020-08-17T04:02:48.003835Z"
    },
    "hidden": true
   },
   "outputs": [],
   "source": [
    "cuda.close()"
   ]
  },
  {
   "cell_type": "markdown",
   "metadata": {
    "ExecuteTime": {
     "end_time": "2020-08-17T04:03:24.762965Z",
     "start_time": "2020-08-17T04:03:24.758825Z"
    },
    "heading_collapsed": true,
    "hidden": true
   },
   "source": [
    "## (not working/ difficult in numba.cuda)try to use shared memory to speed up the diffusion simulation"
   ]
  },
  {
   "cell_type": "code",
   "execution_count": null,
   "metadata": {
    "ExecuteTime": {
     "end_time": "2020-08-17T04:03:59.354920Z",
     "start_time": "2020-08-17T04:03:59.328951Z"
    },
    "hidden": true
   },
   "outputs": [],
   "source": [
    "from numba import cuda, float32\n",
    "\n",
    "# Controls threads per block and shared memory usage.\n",
    "# The computation will be done on blocks of TPBxTPB elements.\n",
    "TPB = 10\n",
    "\n",
    "@cuda.jit\n",
    "def fast_matmul(A, B, C):\n",
    "    # Define an array in the shared memory\n",
    "    # The size and type of the arrays must be known at compile time\n",
    "    sA = cuda.shared.array(shape=(TPB, TPB), dtype=float64)\n",
    "    sB = cuda.shared.array(shape=(TPB, TPB), dtype=float64)\n",
    "\n",
    "    x, y = cuda.grid(2)\n",
    "\n",
    "    tx = cuda.threadIdx.x\n",
    "    ty = cuda.threadIdx.y\n",
    "    bpg = cuda.gridDim.x    # blocks per grid\n",
    "\n",
    "    if x >= C.shape[0] and y >= C.shape[1]:\n",
    "        # Quit if (x, y) is outside of valid C boundary\n",
    "        return\n",
    "\n",
    "    # Each thread computes one element in the result matrix.\n",
    "    # The dot product is chunked into dot products of TPB-long vectors.\n",
    "    tmp = 0.\n",
    "    for i in range(bpg):\n",
    "        # Preload data into shared memory\n",
    "        sA[tx, ty] = A[x, ty + i * TPB]\n",
    "        sB[tx, ty] = B[tx + i * TPB, y]\n",
    "\n",
    "        # Wait until all threads finish preloading\n",
    "        cuda.syncthreads()\n",
    "\n",
    "        # Computes partial product on the shared memory\n",
    "        for j in range(TPB):\n",
    "            tmp += sA[tx, j] * sB[j, ty]\n",
    "\n",
    "        # Wait until all threads finish computing\n",
    "        cuda.syncthreads()\n",
    "\n",
    "    C[x, y] = tmp"
   ]
  },
  {
   "cell_type": "code",
   "execution_count": null,
   "metadata": {
    "hidden": true
   },
   "outputs": [],
   "source": [
    "#model parameters\n",
    "diff_coef = 0.0005 #cm^2/ms\n",
    "h  = 0.025 #ms\n",
    "dx = 0.025 #cm\n",
    "cddx = 1/dx**2\n",
    "\n",
    "@cuda.jit\n",
    "def diffusion_kernel(Vin, Vout):\n",
    "    '''writes the simple diffusion term to Vout'''\n",
    "    height = Vin.shape[0]\n",
    "    width  = Vin.shape[1]\n",
    "    \n",
    "    # Define an array in the shared memory\n",
    "    # The size and type of the arrays must be known at compile time\n",
    "    sA = cuda.shared.array(shape=(TPB, TPB), dtype=float64)\n",
    "    sB = cuda.shared.array(shape=(TPB, TPB), dtype=float64\n",
    "#     #model parameters\n",
    "#     diff_coef = 0.0005 #cm^2/ms\n",
    "#     h  = 0.025 #ms\n",
    "#     dx = 0.025 #cm\n",
    "#     cddx = 1/dx**2\n",
    "    \n",
    "    startX, startY = cuda.grid(2)\n",
    "    gridX = cuda.gridDim.x * cuda.blockDim.x;\n",
    "    gridY = cuda.gridDim.y * cuda.blockDim.y;\n",
    "\n",
    "    for x in range(startX, width, gridX):\n",
    "        for y in range(startY, height, gridY):\n",
    "            up     = _pbc_gpu(Vin,y+1,x,height,width)\n",
    "            down   = _pbc_gpu(Vin,y-1,x,height,width)\n",
    "            left   = _pbc_gpu(Vin,y,x-1,height,width)\n",
    "            right  = _pbc_gpu(Vin,y,x+1,height,width)\n",
    "            center = _pbc_gpu(Vin,y,x,height,width)\n",
    "            \n",
    "            #five point stencil\n",
    "            dVlt2dt = up + down + left + right - 4 * center\n",
    "            dVlt2dt *= diff_coef * cddx\n",
    "            Vout[y,x] = center + h*dVlt2dt"
   ]
  },
  {
   "cell_type": "code",
   "execution_count": null,
   "metadata": {
    "ExecuteTime": {
     "end_time": "2020-08-17T04:18:40.529507Z",
     "start_time": "2020-08-17T04:18:40.525464Z"
    },
    "hidden": true
   },
   "outputs": [],
   "source": [
    "# # now make an n_forward_steps kernel\n",
    "# # @numba.njit\n",
    "# def take_2n_steps_forward_kernel(V1, V2, n):\n",
    "#     for step in range(n):\n",
    "#         diffusion_kernel[griddim, blockdim, stream](V1, V2)\n",
    "#         diffusion_kernel[griddim, blockdim, stream](V2, V1)\n",
    "\n",
    "cuda.gpus[0]"
   ]
  },
  {
   "cell_type": "code",
   "execution_count": null,
   "metadata": {
    "ExecuteTime": {
     "end_time": "2020-08-17T04:22:04.893208Z",
     "start_time": "2020-08-17T04:22:04.874613Z"
    },
    "hidden": true
   },
   "outputs": [],
   "source": [
    "import numba.cuda\n",
    "\n",
    "@numba.cuda.jit\n",
    "def smooth_gpu(x, out):\n",
    "    i, j = cuda.grid(2)\n",
    "    n, m = x.shape\n",
    "    if 1 <= i < n - 1 and 1 <= j < m - 1:\n",
    "        out[i, j] = (x[i - 1, j - 1] + x[i - 1, j] + x[i - 1, j + 1] +\n",
    "                     x[i    , j - 1] + x[i    , j] + x[i    , j + 1] +\n",
    "                     x[i + 1, j - 1] + x[i + 1, j] + x[i + 1, j + 1]) // 9\n",
    "\n",
    "import cupy, math\n",
    "\n",
    "x_gpu = cupy.ones((10000, 10000), dtype='int8')\n",
    "out_gpu = cupy.zeros((10000, 10000), dtype='int8')\n",
    "\n",
    "# I copied the four lines below from the Numba docs\n",
    "threadsperblock = (16, 16)\n",
    "blockspergrid_x = math.ceil(x_gpu.shape[0] / threadsperblock[0])\n",
    "blockspergrid_y = math.ceil(x_gpu.shape[1] / threadsperblock[1])\n",
    "blockspergrid = (blockspergrid_x, blockspergrid_y)\n",
    "\n",
    "smooth_gpu[blockspergrid, threadsperblock](x_gpu, out_gpu)"
   ]
  },
  {
   "cell_type": "markdown",
   "metadata": {
    "heading_collapsed": true
   },
   "source": [
    "# try pycuda just one more time...\n",
    "- DONE: finish installation at https://docs.nvidia.com/cuda/cuda-quick-start-guide/index.html#ubuntu-x86_64-deb\n",
    "- DONE: then finish following along with pycuda howdo https://benvanwerkhoven.github.io/kernel_tuner/diffusion.html\n",
    "- TODO: then include a local term for I_ion_gpu(V,f,s)\n",
    "- TODO: test the simulation out, visualize it.  Does it look reasonable?\n",
    "- TODO: tune the simulation for faster runtime using ^that howdo\n",
    "- TODO: include an optional stimulus field for 2ms for a given stimulus field (constant)\n",
    "- TODO: have nsteps_back, nsteps_forward, and consider using implicit midpoint rule."
   ]
  },
  {
   "cell_type": "code",
   "execution_count": null,
   "metadata": {
    "ExecuteTime": {
     "end_time": "2020-08-17T05:33:22.101623Z",
     "start_time": "2020-08-17T05:33:22.099294Z"
    },
    "hidden": true
   },
   "outputs": [],
   "source": [
    "# !pip install pycuda"
   ]
  },
  {
   "cell_type": "code",
   "execution_count": null,
   "metadata": {
    "ExecuteTime": {
     "end_time": "2020-08-18T01:43:26.669193Z",
     "start_time": "2020-08-18T01:43:26.441694Z"
    },
    "hidden": true
   },
   "outputs": [],
   "source": [
    "#do the imports we need\n",
    "import numpy as np\n",
    "from matplotlib import pyplot\n",
    "%matplotlib inline\n",
    "\n",
    "from pylab import imshow, show\n",
    "from timeit import default_timer as timer\n",
    "\n",
    "import pycuda"
   ]
  },
  {
   "cell_type": "code",
   "execution_count": null,
   "metadata": {
    "ExecuteTime": {
     "end_time": "2020-08-18T01:12:13.560765Z",
     "start_time": "2020-08-18T01:12:01.772043Z"
    },
    "hidden": true
   },
   "outputs": [],
   "source": [
    "def diffuse(field, dt=0.225):\n",
    "    field[1:nx-1,1:ny-1] = field[1:nx-1,1:ny-1] + dt * (\n",
    "        field[1:nx-1,2:ny]+field[2:nx,1:ny-1]-4*field[1:nx-1,1:ny-1]+\n",
    "        field[0:nx-2,1:ny-1]+field[1:nx-1,0:ny-2] )\n",
    "    return field\n",
    "\n",
    "nx = 1024\n",
    "ny = 1024\n",
    "\n",
    "#setup initial conditions\n",
    "def get_initial_conditions(nx, ny):\n",
    "    field = numpy.ones((ny, nx)).astype(numpy.float32)\n",
    "    field[numpy.random.randint(0,nx,size=10), numpy.random.randint(0,ny,size=10)] = 1e3\n",
    "    return field\n",
    "field = get_initial_conditions(nx, ny)\n",
    "\n",
    "#run the diffuse function a 1000 times and another 2000 times and make plots\n",
    "fig, (ax1, ax2) = pyplot.subplots(1,2)\n",
    "for i in range(1000):\n",
    "    field = diffuse(field)\n",
    "ax1.imshow(field)\n",
    "for i in range(2000):\n",
    "    field = diffuse(field)\n",
    "ax2.imshow(field)"
   ]
  },
  {
   "cell_type": "code",
   "execution_count": null,
   "metadata": {
    "ExecuteTime": {
     "end_time": "2020-08-18T01:18:54.397477Z",
     "start_time": "2020-08-18T01:17:27.466447Z"
    },
    "hidden": true
   },
   "outputs": [],
   "source": [
    "#save the current field for later use\n",
    "field_copy = numpy.copy(field)\n",
    "iterations = 10**4\n",
    "\n",
    "#run another 1000 steps of the diffuse function and measure the time\n",
    "from time import time\n",
    "start = time()\n",
    "for i in range(2*iterations):\n",
    "    field = diffuse(field)\n",
    "end = time()\n",
    "print(f\"{iterations*2} steps of diffuse took\", (end-start)*1000.0, \"ms\")\n",
    "pyplot.imshow(field)"
   ]
  },
  {
   "cell_type": "code",
   "execution_count": null,
   "metadata": {
    "ExecuteTime": {
     "end_time": "2020-08-18T01:29:36.023342Z",
     "start_time": "2020-08-18T01:29:36.019577Z"
    },
    "hidden": true
   },
   "outputs": [],
   "source": [
    "def get_kernel_string(nx, ny):\n",
    "    return \"\"\"\n",
    "    #define nx %d\n",
    "    #define ny %d\n",
    "    #define dt 0.225f\n",
    "    __global__ void diffuse_kernel(float *u_new, float *u) {\n",
    "        int x = blockIdx.x * block_size_x + threadIdx.x;\n",
    "        int y = blockIdx.y * block_size_y + threadIdx.y;\n",
    "\n",
    "        if (x>0 && x<nx-1 && y>0 && y<ny-1) {\n",
    "            u_new[y*nx+x] = u[y*nx+x] + dt * (\n",
    "                u[(y+1)*nx+x]+u[y*nx+x+1]-4.0f*u[y*nx+x]+u[y*nx+x-1]+u[(y-1)*nx+x]);\n",
    "        }\n",
    "    }\n",
    "    \"\"\" % (nx, ny)\n",
    "kernel_string = get_kernel_string(nx, ny)"
   ]
  },
  {
   "cell_type": "code",
   "execution_count": null,
   "metadata": {
    "ExecuteTime": {
     "end_time": "2020-08-18T01:42:44.943210Z",
     "start_time": "2020-08-18T01:42:44.940326Z"
    },
    "hidden": true
   },
   "outputs": [],
   "source": [
    "#do the imports we need\n",
    "import numpy as np\n",
    "from matplotlib import pyplot\n",
    "%matplotlib inline\n",
    "\n",
    "from pylab import imshow, show\n",
    "from timeit import default_timer as timer\n",
    "\n",
    "import pycuda\n",
    "\n",
    "import pycuda.driver as drv\n",
    "from pycuda.compiler import SourceModule\n",
    "\n"
   ]
  },
  {
   "cell_type": "code",
   "execution_count": null,
   "metadata": {
    "ExecuteTime": {
     "end_time": "2020-08-18T01:19:03.536365Z",
     "start_time": "2020-08-18T01:19:03.456744Z"
    },
    "hidden": true
   },
   "outputs": [],
   "source": [
    "#initialize PyCuda and get compute capability needed for compilation\n",
    "drv.init()\n",
    "context = drv.Device(0).make_context()\n",
    "devprops = { str(k): v for (k, v) in context.get_device().get_attributes().items() }\n",
    "cc = str(devprops['COMPUTE_CAPABILITY_MAJOR']) + str(devprops['COMPUTE_CAPABILITY_MINOR'])\n",
    "\n",
    "\n",
    "\n",
    "#allocate GPU memory\n",
    "u_old = drv.mem_alloc(field_copy.nbytes)\n",
    "u_new = drv.mem_alloc(field_copy.nbytes)\n",
    "\n",
    "\n",
    "\n",
    "#setup thread block dimensions and compile the kernel\n",
    "threads = (16,16,1)\n",
    "grid = (int(nx/16), int(ny/16), 1)\n",
    "block_size_string = \"#define block_size_x 16\\n#define block_size_y 16\\n\"\n",
    "\n",
    "#CRASH: the following line will not run because my gcc compiler is too new for pycuda...\n",
    "# diffuse_kernel = SourceModule(block_size_string+kernel_string,\n",
    "#                               arch='sm_'+cc).get_function(\"diffuse_kernel\")\n",
    "\n",
    "diffuse_kernel = SourceModule(block_size_string+kernel_string).get_function(\"diffuse_kernel\")\n",
    "\n",
    "\n",
    "#create events for measuring performance\n",
    "start = drv.Event()\n",
    "end = drv.Event()"
   ]
  },
  {
   "cell_type": "code",
   "execution_count": null,
   "metadata": {
    "ExecuteTime": {
     "end_time": "2020-08-18T01:19:04.635577Z",
     "start_time": "2020-08-18T01:19:03.789248Z"
    },
    "hidden": true
   },
   "outputs": [],
   "source": [
    "#move the data to the GPU\n",
    "drv.memcpy_htod(u_old, field_copy)\n",
    "drv.memcpy_htod(u_new, field_copy)\n",
    "# iterations = 10**4\n",
    "#call the GPU kernel a 1000 times and measure performance\n",
    "context.synchronize()\n",
    "start.record()\n",
    "for i in range(iterations):\n",
    "    diffuse_kernel(u_new, u_old, block=threads, grid=grid)\n",
    "    diffuse_kernel(u_old, u_new, block=threads, grid=grid)\n",
    "end.record()\n",
    "context.synchronize()\n",
    "print(f\"{iterations*2} steps of diffuse took\", end.time_since(start), \"ms.\")\n",
    "\n",
    "#copy the result from the GPU to Python for plotting\n",
    "gpu_result = numpy.zeros_like(field_copy)\n",
    "drv.memcpy_dtoh(gpu_result, u_new)\n",
    "fig, (ax1, ax2) = pyplot.subplots(1,2)\n",
    "ax1.imshow(gpu_result)\n",
    "ax1.set_title(\"GPU Result\")\n",
    "ax2.imshow(field)\n",
    "ax2.set_title(\"Python Result\")"
   ]
  },
  {
   "cell_type": "markdown",
   "metadata": {
    "ExecuteTime": {
     "end_time": "2020-08-17T04:35:29.382947Z",
     "start_time": "2020-08-17T04:35:29.374871Z"
    },
    "heading_collapsed": true
   },
   "source": [
    "# pycuda kernel autotuning is suprisingly easy"
   ]
  },
  {
   "cell_type": "code",
   "execution_count": 41,
   "metadata": {
    "ExecuteTime": {
     "end_time": "2020-08-18T04:48:35.029898Z",
     "start_time": "2020-08-18T04:48:34.964442Z"
    },
    "hidden": true
   },
   "outputs": [],
   "source": [
    "nx = 4096\n",
    "ny = 4096\n",
    "field = get_initial_conditions(nx, ny)\n",
    "# kernel_string = get_kernel_string(nx, ny)\n",
    "kernel_string = get_kernel_string(nx, ny, D = 0.0005, dt = 0.025, dx = 0.025)"
   ]
  },
  {
   "cell_type": "code",
   "execution_count": 42,
   "metadata": {
    "ExecuteTime": {
     "end_time": "2020-08-18T04:48:35.888913Z",
     "start_time": "2020-08-18T04:48:35.884741Z"
    },
    "hidden": true
   },
   "outputs": [],
   "source": [
    "from collections import OrderedDict\n",
    "tune_params = OrderedDict()\n",
    "tune_params[\"block_size_x\"] = [16, 32, 48, 64, 128]\n",
    "tune_params[\"block_size_y\"] = [2, 4, 8, 16, 32]"
   ]
  },
  {
   "cell_type": "code",
   "execution_count": 43,
   "metadata": {
    "ExecuteTime": {
     "end_time": "2020-08-18T04:48:37.209767Z",
     "start_time": "2020-08-18T04:48:37.207000Z"
    },
    "hidden": true
   },
   "outputs": [],
   "source": [
    "args = [field, field]\n"
   ]
  },
  {
   "cell_type": "code",
   "execution_count": 44,
   "metadata": {
    "ExecuteTime": {
     "end_time": "2020-08-18T04:48:37.954808Z",
     "start_time": "2020-08-18T04:48:37.951496Z"
    },
    "hidden": true
   },
   "outputs": [],
   "source": [
    "problem_size = (nx, ny)"
   ]
  },
  {
   "cell_type": "code",
   "execution_count": 45,
   "metadata": {
    "ExecuteTime": {
     "end_time": "2020-08-18T04:48:48.226390Z",
     "start_time": "2020-08-18T04:48:38.961752Z"
    },
    "hidden": true
   },
   "outputs": [
    {
     "name": "stdout",
     "output_type": "stream",
     "text": [
      "Using: GeForce RTX 2080 with Max-Q Design\n",
      "block_size_x=16, block_size_y=2, time=1.3485851287841797ms\n",
      "block_size_x=16, block_size_y=4, time=1.1615177052361625ms\n",
      "block_size_x=16, block_size_y=8, time=1.1554742881229945ms\n",
      "block_size_x=16, block_size_y=16, time=1.1420388392039709ms\n",
      "block_size_x=16, block_size_y=32, time=1.1265325716563634ms\n",
      "block_size_x=32, block_size_y=2, time=1.1432640041623796ms\n",
      "block_size_x=32, block_size_y=4, time=1.158550841467721ms\n",
      "block_size_x=32, block_size_y=8, time=1.1303542852401733ms\n",
      "block_size_x=32, block_size_y=16, time=1.1515931401933943ms\n",
      "block_size_x=32, block_size_y=32, time=1.5903771604810442ms\n",
      "block_size_x=48, block_size_y=2, time=1.171716570854187ms\n",
      "block_size_x=48, block_size_y=4, time=1.1545142786843436ms\n",
      "block_size_x=48, block_size_y=8, time=1.2500525542667933ms\n",
      "block_size_x=48, block_size_y=16, time=1.7360457011631556ms\n",
      "block_size_x=64, block_size_y=2, time=1.161508594240461ms\n",
      "block_size_x=64, block_size_y=4, time=1.1339200053896223ms\n",
      "block_size_x=64, block_size_y=8, time=1.1436525583267212ms\n",
      "block_size_x=64, block_size_y=16, time=1.5942308391843523ms\n",
      "block_size_x=128, block_size_y=2, time=1.1359222786767142ms\n",
      "block_size_x=128, block_size_y=4, time=1.1347016947610038ms\n",
      "block_size_x=128, block_size_y=8, time=1.6000457320894514ms\n",
      "best performing configuration: block_size_x=16, block_size_y=32, time=1.1265325716563634ms\n"
     ]
    }
   ],
   "source": [
    "from kernel_tuner import tune_kernel\n",
    "result = tune_kernel(\"diffuse_kernel\", kernel_string, problem_size, args, tune_params)"
   ]
  },
  {
   "cell_type": "code",
   "execution_count": 47,
   "metadata": {
    "ExecuteTime": {
     "end_time": "2020-08-18T04:49:51.056550Z",
     "start_time": "2020-08-18T04:49:51.051617Z"
    },
    "hidden": true
   },
   "outputs": [
    {
     "data": {
      "text/plain": [
       "12.0"
      ]
     },
     "execution_count": 47,
     "metadata": {},
     "output_type": "execute_result"
    }
   ],
   "source": [
    "# !pip install kernel_tuner\n",
    "np.log2(4096)"
   ]
  },
  {
   "cell_type": "markdown",
   "metadata": {
    "heading_collapsed": true
   },
   "source": [
    "# diffusion with pbc on a pycuda kernel\n",
    "- TODO: get the sim working on a 200x200 grid.\n",
    "        - NB: note that width does not need to equal nx...\n",
    "- TODO: get the sim working with my own defined initial conditions"
   ]
  },
  {
   "cell_type": "code",
   "execution_count": 19,
   "metadata": {
    "ExecuteTime": {
     "end_time": "2020-08-18T04:38:23.026798Z",
     "start_time": "2020-08-18T04:38:22.924049Z"
    },
    "hidden": true
   },
   "outputs": [],
   "source": [
    "#do the imports we need\n",
    "import numpy as np\n",
    "from matplotlib import pyplot\n",
    "%matplotlib inline\n",
    "import matplotlib.pyplot as plt\n",
    "from pylab import imshow, show\n",
    "from timeit import default_timer as timer\n",
    "\n",
    "import pycuda\n",
    "\n",
    "import pycuda.driver as drv\n",
    "from pycuda.compiler import SourceModule\n",
    "\n",
    "#run this once.  if you run in ~30 times, you will get the following error\n",
    "# MemoryError: cuCtxCreate failed: out of memory \n",
    "#initialize PyCuda and get compute capability needed for compilation\n",
    "drv.init()\n",
    "context = drv.Device(0).make_context()\n",
    "devprops = { str(k): v for (k, v) in context.get_device().get_attributes().items() }\n",
    "cc = str(devprops['COMPUTE_CAPABILITY_MAJOR']) + str(devprops['COMPUTE_CAPABILITY_MINOR'])\n"
   ]
  },
  {
   "cell_type": "code",
   "execution_count": 20,
   "metadata": {
    "ExecuteTime": {
     "end_time": "2020-08-18T04:38:24.483298Z",
     "start_time": "2020-08-18T04:38:24.475108Z"
    },
    "hidden": true
   },
   "outputs": [],
   "source": []
  },
  {
   "cell_type": "code",
   "execution_count": 24,
   "metadata": {
    "ExecuteTime": {
     "end_time": "2020-08-18T04:39:05.384229Z",
     "start_time": "2020-08-18T04:39:04.649071Z"
    },
    "hidden": true
   },
   "outputs": [],
   "source": [
    "nx = 1024#200#1024\n",
    "ny = 1024#200#1024\n",
    "threads = (16,16,1)\n",
    "grid = (int(nx/16), int(ny/16), 1)\n",
    "block_size_string = \"#define block_size_x 16\\n#define block_size_y 16\\n\"\n",
    "\n",
    "\n",
    "# #save the ic field for later use\n",
    "# Vin  = np.array([256*x*(y+1) for x in range(nx) for y in range(ny)]).reshape((nx,ny))\n",
    "# field = Vin.copy()\n",
    "ic = get_initial_conditions(nx, ny)\n",
    "field = ic.copy()\n",
    "\n",
    "field_copy = field.copy()\n",
    "for q in range(100):\n",
    "    field_copy = diffuse(field_copy)"
   ]
  },
  {
   "cell_type": "code",
   "execution_count": 36,
   "metadata": {
    "ExecuteTime": {
     "end_time": "2020-08-18T04:43:40.295646Z",
     "start_time": "2020-08-18T04:43:40.290783Z"
    },
    "hidden": true,
    "run_control": {
     "marked": false
    }
   },
   "outputs": [],
   "source": [
    "def get_kernel_string(nx, ny, D, dt, dx):\n",
    "    return f\"\"\"\n",
    "#define nx {int(nx)}\n",
    "#define ny {int(ny)}\n",
    "#define width nx\n",
    "#define height ny\n",
    "#define dcoef {float(D*dt/dx**2)}\n",
    "\n",
    "// periodic boundary conditions\n",
    "__device__ int _pbc ( int q, int wid ) {{\n",
    "    if (q >= wid) {{\n",
    "        q = 1;\n",
    "    }}\n",
    "    if (q <= 0) {{\n",
    "        q = wid-1;\n",
    "    }}\n",
    "     return q;\n",
    "}}\n",
    "\n",
    "// main kernel/face shader\n",
    "__global__ void diffuse_kernel(float *u_new, float *u) {{\n",
    "    int x = blockIdx.x * block_size_x + threadIdx.x;\n",
    "    int y = blockIdx.y * block_size_y + threadIdx.y;\n",
    "    if (x>=0 && x<nx && y>=0 && y<ny) {{\n",
    "            int up    = _pbc(y+1,height);\n",
    "            int down  = _pbc(y-1,height);\n",
    "            int left  = _pbc(x-1, width);\n",
    "            int right = _pbc(x+1, width);\n",
    "            \n",
    "            u_new[y*nx+x] = u[y*nx+x] + dcoef * (\n",
    "            u[(up)*nx+x]+u[y*nx+right]\n",
    "            -4.0f*u[y*nx+x]\n",
    "            +u[y*nx+left]+u[(down)*nx+x]\n",
    "            );\n",
    "    }}\n",
    "}}\n",
    "    \"\"\"   \n",
    "#TODO: unallocate device memory\n",
    "#     free(a_h); free(b_h); cudaFree(a_d); cudaFree(b_d)"
   ]
  },
  {
   "cell_type": "code",
   "execution_count": 39,
   "metadata": {
    "ExecuteTime": {
     "end_time": "2020-08-18T04:45:50.891138Z",
     "start_time": "2020-08-18T04:45:42.935150Z"
    },
    "hidden": true
   },
   "outputs": [
    {
     "name": "stdout",
     "output_type": "stream",
     "text": [
      "200000 steps of diffuse took 7700 ms.\n"
     ]
    },
    {
     "data": {
      "image/png": "[encoded data removed]",
      "text/plain": [
       "<Figure size 432x288 with 2 Axes>"
      ]
     },
     "metadata": {
      "needs_background": "light"
     },
     "output_type": "display_data"
    }
   ],
   "source": [
    "kernel_string = get_kernel_string(nx, ny, D = 0.0005, dt = 0.025, dx = 0.025)\n",
    "# kernel_string = get_kernel_string(nx, ny)\n",
    "\n",
    "field = ic.copy()\n",
    "\n",
    "iterations = 10**4\n",
    "\n",
    "#allocate GPU memory\n",
    "u_old = drv.mem_alloc(field_copy.nbytes)\n",
    "u_new = drv.mem_alloc(field_copy.nbytes)\n",
    "#setup thread block dimensions and compile the kernel\n",
    "diffuse_kernel = SourceModule(block_size_string+kernel_string).get_function(\"diffuse_kernel\")\n",
    "#create events for measuring performance\n",
    "start = drv.Event()\n",
    "end = drv.Event()\n",
    "#move the data to the GPU\n",
    "drv.memcpy_htod(u_old, field_copy)\n",
    "drv.memcpy_htod(u_new, field_copy)\n",
    "#call the GPU kernel a 1000 times and measure performance\n",
    "context.synchronize()\n",
    "start.record()\n",
    "for i in range(iterations):\n",
    "    diffuse_kernel(u_new, u_old, block=threads, grid=grid)\n",
    "    diffuse_kernel(u_old, u_new, block=threads, grid=grid)\n",
    "end.record()\n",
    "context.synchronize()\n",
    "print(f\"{iterations*2} steps of diffuse took {end.time_since(start):.0f} ms.\")\n",
    "\n",
    "#copy the result from the GPU to Python for plotting\n",
    "gpu_result = np.zeros_like(field_copy)\n",
    "drv.memcpy_dtoh(gpu_result, u_new)\n",
    "fig, (ax1, ax2) = pyplot.subplots(1,2)\n",
    "\n",
    "ax1.imshow(field_copy)\n",
    "ax1.set_title(\"Initial Conditions\")\n",
    "ax2.imshow(gpu_result)\n",
    "ax2.set_title(\"GPU Result\")\n",
    "plt.show()"
   ]
  },
  {
   "cell_type": "code",
   "execution_count": null,
   "metadata": {
    "ExecuteTime": {
     "end_time": "2020-08-18T01:33:45.978216Z",
     "start_time": "2020-08-18T01:33:45.958246Z"
    },
    "hidden": true
   },
   "outputs": [],
   "source": []
  },
  {
   "cell_type": "code",
   "execution_count": 6,
   "metadata": {
    "ExecuteTime": {
     "end_time": "2020-08-18T04:35:21.161816Z",
     "start_time": "2020-08-18T04:35:21.157685Z"
    },
    "hidden": true
   },
   "outputs": [
    {
     "data": {
      "text/plain": [
       "64.0"
      ]
     },
     "execution_count": 6,
     "metadata": {},
     "output_type": "execute_result"
    }
   ],
   "source": [
    "1024/16"
   ]
  },
  {
   "cell_type": "code",
   "execution_count": 35,
   "metadata": {
    "ExecuteTime": {
     "end_time": "2020-08-18T04:42:49.274581Z",
     "start_time": "2020-08-18T04:42:49.271200Z"
    },
    "hidden": true
   },
   "outputs": [
    {
     "name": "stdout",
     "output_type": "stream",
     "text": [
      "5 seconds of simulation time simulated in 7.7 seconds of real time!\n"
     ]
    }
   ],
   "source": [
    "200000*0.025\n",
    "print('5 seconds of simulation time simulated in 7.7 seconds of real time!')"
   ]
  },
  {
   "cell_type": "markdown",
   "metadata": {
    "heading_collapsed": true
   },
   "source": [
    "# diffusion with pbc on a pycuda kernel\n",
    "- TODO: get the sim working on a 200x200 grid.\n",
    "        - NB: note that width does not need to equal nx...\n",
    "- TODO: get the sim working with my own defined initial conditions"
   ]
  },
  {
   "cell_type": "code",
   "execution_count": 10,
   "metadata": {
    "ExecuteTime": {
     "end_time": "2020-08-20T17:44:47.394579Z",
     "start_time": "2020-08-20T17:44:47.318476Z"
    },
    "hidden": true
   },
   "outputs": [
    {
     "ename": "Error",
     "evalue": "cuInit failed: unknown error",
     "output_type": "error",
     "traceback": [
      "\u001b[0;31m---------------------------------------------------------------------------\u001b[0m",
      "\u001b[0;31mError\u001b[0m                                     Traceback (most recent call last)",
      "\u001b[0;32m<ipython-input-10-3b6e00721367>\u001b[0m in \u001b[0;36m<module>\u001b[0;34m\u001b[0m\n\u001b[1;32m     14\u001b[0m \u001b[0;31m# MemoryError: cuCtxCreate failed: out of memory\u001b[0m\u001b[0;34m\u001b[0m\u001b[0;34m\u001b[0m\u001b[0;34m\u001b[0m\u001b[0m\n\u001b[1;32m     15\u001b[0m \u001b[0;31m#initialize PyCuda and get compute capability needed for compilation\u001b[0m\u001b[0;34m\u001b[0m\u001b[0;34m\u001b[0m\u001b[0;34m\u001b[0m\u001b[0m\n\u001b[0;32m---> 16\u001b[0;31m \u001b[0mdrv\u001b[0m\u001b[0;34m.\u001b[0m\u001b[0minit\u001b[0m\u001b[0;34m(\u001b[0m\u001b[0;34m)\u001b[0m\u001b[0;34m\u001b[0m\u001b[0;34m\u001b[0m\u001b[0m\n\u001b[0m\u001b[1;32m     17\u001b[0m \u001b[0mcontext\u001b[0m \u001b[0;34m=\u001b[0m \u001b[0mdrv\u001b[0m\u001b[0;34m.\u001b[0m\u001b[0mDevice\u001b[0m\u001b[0;34m(\u001b[0m\u001b[0;36m0\u001b[0m\u001b[0;34m)\u001b[0m\u001b[0;34m.\u001b[0m\u001b[0mmake_context\u001b[0m\u001b[0;34m(\u001b[0m\u001b[0;34m)\u001b[0m\u001b[0;34m\u001b[0m\u001b[0;34m\u001b[0m\u001b[0m\n\u001b[1;32m     18\u001b[0m \u001b[0mdevprops\u001b[0m \u001b[0;34m=\u001b[0m \u001b[0;34m{\u001b[0m \u001b[0mstr\u001b[0m\u001b[0;34m(\u001b[0m\u001b[0mk\u001b[0m\u001b[0;34m)\u001b[0m\u001b[0;34m:\u001b[0m \u001b[0mv\u001b[0m \u001b[0;32mfor\u001b[0m \u001b[0;34m(\u001b[0m\u001b[0mk\u001b[0m\u001b[0;34m,\u001b[0m \u001b[0mv\u001b[0m\u001b[0;34m)\u001b[0m \u001b[0;32min\u001b[0m \u001b[0mcontext\u001b[0m\u001b[0;34m.\u001b[0m\u001b[0mget_device\u001b[0m\u001b[0;34m(\u001b[0m\u001b[0;34m)\u001b[0m\u001b[0;34m.\u001b[0m\u001b[0mget_attributes\u001b[0m\u001b[0;34m(\u001b[0m\u001b[0;34m)\u001b[0m\u001b[0;34m.\u001b[0m\u001b[0mitems\u001b[0m\u001b[0;34m(\u001b[0m\u001b[0;34m)\u001b[0m \u001b[0;34m}\u001b[0m\u001b[0;34m\u001b[0m\u001b[0;34m\u001b[0m\u001b[0m\n",
      "\u001b[0;31mError\u001b[0m: cuInit failed: unknown error"
     ]
    }
   ],
   "source": [
    "#do the imports we need\n",
    "import numpy as np\n",
    "from matplotlib import pyplot\n",
    "%matplotlib inline\n",
    "import matplotlib.pyplot as plt\n",
    "from pylab import imshow, show\n",
    "from timeit import default_timer as timer\n",
    "import pycuda\n",
    "# pycuda.autoinit\n",
    "import pycuda.driver as drv\n",
    "from pycuda.compiler import SourceModule\n",
    "\n",
    "#run drv.Device(0).make_context() only once.  if you run in ~30 times, you will get the following error\n",
    "# MemoryError: cuCtxCreate failed: out of memory \n",
    "#initialize PyCuda and get compute capability needed for compilation\n",
    "drv.init()\n",
    "context = drv.Device(0).make_context()\n",
    "devprops = { str(k): v for (k, v) in context.get_device().get_attributes().items() }\n",
    "cc = str(devprops['COMPUTE_CAPABILITY_MAJOR']) + str(devprops['COMPUTE_CAPABILITY_MINOR'])\n"
   ]
  },
  {
   "cell_type": "code",
   "execution_count": 20,
   "metadata": {
    "ExecuteTime": {
     "end_time": "2020-08-18T04:38:24.483298Z",
     "start_time": "2020-08-18T04:38:24.475108Z"
    },
    "hidden": true
   },
   "outputs": [],
   "source": [
    "#setup initial conditions\n",
    "def get_initial_conditions(nx, ny):\n",
    "    field = np.ones((ny, nx)).astype(np.float32)\n",
    "    field[np.random.randint(0,nx,size=10), np.random.randint(0,ny,size=10)] = 1e3\n",
    "    return field\n",
    "\n",
    "def diffuse(field, dt=0.225):\n",
    "    field[1:nx-1,1:ny-1] = field[1:nx-1,1:ny-1] + dt * (\n",
    "        field[1:nx-1,2:ny]+field[2:nx,1:ny-1]-4*field[1:nx-1,1:ny-1]+\n",
    "        field[0:nx-2,1:ny-1]+field[1:nx-1,0:ny-2] )\n",
    "    return field"
   ]
  },
  {
   "cell_type": "code",
   "execution_count": 24,
   "metadata": {
    "ExecuteTime": {
     "end_time": "2020-08-18T04:39:05.384229Z",
     "start_time": "2020-08-18T04:39:04.649071Z"
    },
    "hidden": true
   },
   "outputs": [],
   "source": [
    "nx = 1024#200#1024\n",
    "ny = 1024#200#1024\n",
    "threads = (16,16,1)\n",
    "grid = (int(nx/16), int(ny/16), 1)\n",
    "block_size_string = \"#define block_size_x 16\\n#define block_size_y 16\\n\"\n",
    "\n",
    "\n",
    "# #save the ic field for later use\n",
    "# Vin  = np.array([256*x*(y+1) for x in range(nx) for y in range(ny)]).reshape((nx,ny))\n",
    "# field = Vin.copy()\n",
    "ic = get_initial_conditions(nx, ny)\n",
    "field = ic.copy()\n",
    "\n",
    "field_copy = field.copy()\n",
    "for q in range(100):\n",
    "    field_copy = diffuse(field_copy)"
   ]
  },
  {
   "cell_type": "code",
   "execution_count": 36,
   "metadata": {
    "ExecuteTime": {
     "end_time": "2020-08-18T04:43:40.295646Z",
     "start_time": "2020-08-18T04:43:40.290783Z"
    },
    "hidden": true,
    "run_control": {
     "marked": false
    }
   },
   "outputs": [],
   "source": [
    "def get_kernel_string(nx, ny, D, dt, dx):\n",
    "    return f\"\"\"\n",
    "#define nx {int(nx)}\n",
    "#define ny {int(ny)}\n",
    "#define width nx\n",
    "#define height ny\n",
    "#define dcoef {float(D*dt/dx**2)}\n",
    "\n",
    "// periodic boundary conditions\n",
    "__device__ int _pbc ( int q, int wid ) {{\n",
    "    if (q >= wid) {{\n",
    "        q = 1;\n",
    "    }}\n",
    "    if (q <= 0) {{\n",
    "        q = wid-1;\n",
    "    }}\n",
    "     return q;\n",
    "}}\n",
    "\n",
    "// main kernel/face shader\n",
    "__global__ void diffuse_kernel(float *u_new, float *u) {{\n",
    "    int x = blockIdx.x * block_size_x + threadIdx.x;\n",
    "    int y = blockIdx.y * block_size_y + threadIdx.y;\n",
    "    if (x>=0 && x<nx && y>=0 && y<ny) {{\n",
    "            int up    = _pbc(y+1,height);\n",
    "            int down  = _pbc(y-1,height);\n",
    "            int left  = _pbc(x-1, width);\n",
    "            int right = _pbc(x+1, width);\n",
    "            \n",
    "            u_new[y*nx+x] = u[y*nx+x] + dcoef * (\n",
    "            u[(up)*nx+x]+u[y*nx+right]\n",
    "            -4.0f*u[y*nx+x]\n",
    "            +u[y*nx+left]+u[(down)*nx+x]\n",
    "            );\n",
    "    }}\n",
    "}}\n",
    "    \"\"\"   \n",
    "#TODO: unallocate device memory\n",
    "#     free(a_h); free(b_h); cudaFree(a_d); cudaFree(b_d)"
   ]
  },
  {
   "cell_type": "code",
   "execution_count": 39,
   "metadata": {
    "ExecuteTime": {
     "end_time": "2020-08-18T04:45:50.891138Z",
     "start_time": "2020-08-18T04:45:42.935150Z"
    },
    "hidden": true
   },
   "outputs": [
    {
     "name": "stdout",
     "output_type": "stream",
     "text": [
      "200000 steps of diffuse took 7700 ms.\n"
     ]
    },
    {
     "data": {
      "image/png": "[encoded data removed]",
      "text/plain": [
       "<Figure size 432x288 with 2 Axes>"
      ]
     },
     "metadata": {
      "needs_background": "light"
     },
     "output_type": "display_data"
    }
   ],
   "source": [
    "kernel_string = get_kernel_string(nx, ny, D = 0.0005, dt = 0.025, dx = 0.025)\n",
    "# kernel_string = get_kernel_string(nx, ny)\n",
    "\n",
    "field = ic.copy()\n",
    "\n",
    "iterations = 10**4\n",
    "\n",
    "#allocate GPU memory\n",
    "u_old = drv.mem_alloc(field_copy.nbytes)\n",
    "u_new = drv.mem_alloc(field_copy.nbytes)\n",
    "#setup thread block dimensions and compile the kernel\n",
    "diffuse_kernel = SourceModule(block_size_string+kernel_string).get_function(\"diffuse_kernel\")\n",
    "#create events for measuring performance\n",
    "start = drv.Event()\n",
    "end = drv.Event()\n",
    "#move the data to the GPU\n",
    "drv.memcpy_htod(u_old, field_copy)\n",
    "drv.memcpy_htod(u_new, field_copy)\n",
    "#call the GPU kernel a 1000 times and measure performance\n",
    "context.synchronize()\n",
    "start.record()\n",
    "for i in range(iterations):\n",
    "    diffuse_kernel(u_new, u_old, block=threads, grid=grid)\n",
    "    diffuse_kernel(u_old, u_new, block=threads, grid=grid)\n",
    "end.record()\n",
    "context.synchronize()\n",
    "print(f\"{iterations*2} steps of diffuse took {end.time_since(start):.0f} ms.\")\n",
    "\n",
    "#copy the result from the GPU to Python for plotting\n",
    "gpu_result = np.zeros_like(field_copy)\n",
    "drv.memcpy_dtoh(gpu_result, u_new)\n",
    "fig, (ax1, ax2) = pyplot.subplots(1,2)\n",
    "\n",
    "ax1.imshow(field_copy)\n",
    "ax1.set_title(\"Initial Conditions\")\n",
    "ax2.imshow(gpu_result)\n",
    "ax2.set_title(\"GPU Result\")\n",
    "plt.show()"
   ]
  },
  {
   "cell_type": "code",
   "execution_count": null,
   "metadata": {
    "ExecuteTime": {
     "end_time": "2020-08-18T01:33:45.978216Z",
     "start_time": "2020-08-18T01:33:45.958246Z"
    },
    "hidden": true
   },
   "outputs": [],
   "source": []
  },
  {
   "cell_type": "code",
   "execution_count": 6,
   "metadata": {
    "ExecuteTime": {
     "end_time": "2020-08-18T04:35:21.161816Z",
     "start_time": "2020-08-18T04:35:21.157685Z"
    },
    "hidden": true
   },
   "outputs": [
    {
     "data": {
      "text/plain": [
       "64.0"
      ]
     },
     "execution_count": 6,
     "metadata": {},
     "output_type": "execute_result"
    }
   ],
   "source": [
    "1024/16"
   ]
  },
  {
   "cell_type": "code",
   "execution_count": 35,
   "metadata": {
    "ExecuteTime": {
     "end_time": "2020-08-18T04:42:49.274581Z",
     "start_time": "2020-08-18T04:42:49.271200Z"
    },
    "hidden": true
   },
   "outputs": [
    {
     "name": "stdout",
     "output_type": "stream",
     "text": [
      "5 seconds of simulation time simulated in 7.7 seconds of real time!\n"
     ]
    }
   ],
   "source": [
    "200000*0.025\n",
    "print('5 seconds of simulation time simulated in 7.7 seconds of real time!')"
   ]
  },
  {
   "cell_type": "code",
   "execution_count": null,
   "metadata": {
    "hidden": true
   },
   "outputs": [],
   "source": []
  },
  {
   "cell_type": "markdown",
   "metadata": {},
   "source": [
    "# more pycuda tutorials\n"
   ]
  },
  {
   "cell_type": "markdown",
   "metadata": {},
   "source": [
    "## use pycuda.autoinit to automate things like cleanup\n",
    "https://documen.tician.de/pycuda/tutorial.html"
   ]
  },
  {
   "cell_type": "markdown",
   "metadata": {
    "heading_collapsed": true
   },
   "source": [
    "# diffusion with pbc on a pycuda kernel with custom input\n",
    "- DONE: run this using pycuda.autoinit\n",
    "    - does it run as fast? YES\n",
    "- DONE: get the sim working on a 200x200 grid.\n",
    "- DONE: get the sim working with my own defined initial conditions"
   ]
  },
  {
   "cell_type": "code",
   "execution_count": 1,
   "metadata": {
    "ExecuteTime": {
     "end_time": "2020-08-20T20:51:05.045209Z",
     "start_time": "2020-08-20T20:51:04.546143Z"
    },
    "hidden": true
   },
   "outputs": [],
   "source": [
    "#do the imports we need\n",
    "import numpy as np\n",
    "# from matplotlib import pyplot\n",
    "\n",
    "# %matplotlib inline\n",
    "import matplotlib.pyplot as plt\n",
    "# from pylab import imshow, show\n",
    "from timeit import default_timer as timer\n",
    "\n",
    "import pycuda\n",
    "import pycuda.driver as drv\n",
    "import pycuda.autoinit\n",
    "from pycuda.compiler import SourceModule\n",
    "\n",
    "\n"
   ]
  },
  {
   "cell_type": "code",
   "execution_count": 2,
   "metadata": {
    "ExecuteTime": {
     "end_time": "2020-08-20T20:51:06.405823Z",
     "start_time": "2020-08-20T20:51:06.333350Z"
    },
    "hidden": true
   },
   "outputs": [],
   "source": [
    "#the following might be needed for the kernel_autotuner.  I think pycuda.autoinit is more idiot-proof.\n",
    "#run this once.  if you run in ~30 times, you will get the following error\n",
    "# MemoryError: cuCtxCreate failed: out of memory \n",
    "#initialize PyCuda and get compute capability needed for compilation\n",
    "# drv.init()\n",
    "context = drv.Device(0).make_context()\n",
    "devprops = { str(k): v for (k, v) in context.get_device().get_attributes().items() }\n",
    "cc = str(devprops['COMPUTE_CAPABILITY_MAJOR']) + str(devprops['COMPUTE_CAPABILITY_MINOR'])\n"
   ]
  },
  {
   "cell_type": "code",
   "execution_count": 3,
   "metadata": {
    "ExecuteTime": {
     "end_time": "2020-08-20T20:51:07.776235Z",
     "start_time": "2020-08-20T20:51:07.768676Z"
    },
    "hidden": true
   },
   "outputs": [],
   "source": [
    "#setup initial conditions\n",
    "def get_initial_conditions(nx, ny):\n",
    "    field = np.ones((ny, nx)).astype(np.float32)\n",
    "    field[np.random.randint(0,nx,size=10), np.random.randint(0,ny,size=10)] = 1e3\n",
    "    return field\n",
    "\n",
    "def diffuse(field, dt=0.225):\n",
    "    field[1:nx-1,1:ny-1] = field[1:nx-1,1:ny-1] + dt * (\n",
    "        field[1:nx-1,2:ny]+field[2:nx,1:ny-1]-4*field[1:nx-1,1:ny-1]+\n",
    "        field[0:nx-2,1:ny-1]+field[1:nx-1,0:ny-2] )\n",
    "    return field"
   ]
  },
  {
   "cell_type": "code",
   "execution_count": 12,
   "metadata": {
    "ExecuteTime": {
     "end_time": "2020-08-20T20:54:22.369728Z",
     "start_time": "2020-08-20T20:54:22.361318Z"
    },
    "hidden": true
   },
   "outputs": [
    {
     "data": {
      "text/plain": [
       "(102, 102, 1)"
      ]
     },
     "execution_count": 12,
     "metadata": {},
     "output_type": "execute_result"
    }
   ],
   "source": [
    "grid"
   ]
  },
  {
   "cell_type": "code",
   "execution_count": 14,
   "metadata": {
    "ExecuteTime": {
     "end_time": "2020-08-20T20:55:43.946892Z",
     "start_time": "2020-08-20T20:55:43.914744Z"
    },
    "hidden": true
   },
   "outputs": [
    {
     "name": "stdout",
     "output_type": "stream",
     "text": [
      "(200, 200)\n"
     ]
    }
   ],
   "source": [
    "nx = 200#1024#200#1024\n",
    "ny = 200#1024#200#1024\n",
    "width  = 200#1024#200\n",
    "height = 200#1024#200\n",
    "threads = (10,10,1)\n",
    "grid = (int(nx/10), int(ny/10), 1)\n",
    "block_size_string = \"#define block_size_x 10\\n#define block_size_y 10\\n\"\n",
    "\n",
    "\n",
    "# nx = 1024#200#1024\n",
    "# ny = 1024#200#1024\n",
    "# width  = 1024#200\n",
    "# height = 1024#200\n",
    "# threads = (16,16,1)\n",
    "# grid = (int(nx/16), int(ny/16), 1)\n",
    "# block_size_string = \"#define block_size_x 16\\n#define block_size_y 16\\n\"\n",
    "\n",
    "\n",
    "#save the ic field for later use\n",
    "Vin  = np.array([256*x*(y+1) for x in range(nx) for y in range(ny)]).reshape((nx,ny))\n",
    "field = Vin.copy()\n",
    "# ic = get_initial_conditions(nx, ny)\n",
    "# ic = get_initial_conditions(nx, ny)\n",
    "# field = ic.copy()\n",
    "\n",
    "# field_copy = field.copy()\n",
    "# for q in range(100):\n",
    "#     field_copy = diffuse(field_copy)\n",
    "    \n",
    "# field = field[:height,:width].copy()\n",
    "# field_copy = field_copy[:height,:width].copy()\n",
    "print(field.shape)"
   ]
  },
  {
   "cell_type": "code",
   "execution_count": 15,
   "metadata": {
    "ExecuteTime": {
     "end_time": "2020-08-20T20:55:46.617630Z",
     "start_time": "2020-08-20T20:55:46.612847Z"
    },
    "hidden": true,
    "run_control": {
     "marked": false
    }
   },
   "outputs": [],
   "source": [
    "def get_kernel_string(nx, ny, D, dt, dx):#width, height):\n",
    "    return f\"\"\"\n",
    "#define nx {int(nx)}\n",
    "#define ny {int(ny)}\n",
    "#define width nx\n",
    "#define height ny\n",
    "#define dcoef {float(D*dt/dx**2)}\n",
    "\n",
    "// periodic boundary conditions\n",
    "__device__ int _pbc ( int q, int wid ) {{\n",
    "    if (q >= wid) {{\n",
    "        q = 1;\n",
    "    }}\n",
    "    if (q <= 0) {{\n",
    "        q = wid-1;\n",
    "    }}\n",
    "     return q;\n",
    "}}\n",
    "\n",
    "// main kernel/face shader\n",
    "__global__ void diffuse_kernel(float *u_new, float *u) {{\n",
    "    int x = blockIdx.x * block_size_x + threadIdx.x;\n",
    "    int y = blockIdx.y * block_size_y + threadIdx.y;\n",
    "    if (x>=0 && x<nx && y>=0 && y<ny) {{\n",
    "            int up    = _pbc(y+1,height);\n",
    "            int down  = _pbc(y-1,height);\n",
    "            int left  = _pbc(x-1, width);\n",
    "            int right = _pbc(x+1, width);\n",
    "            \n",
    "            u_new[y*nx+x] = u[y*nx+x] + dcoef * (\n",
    "            u[(up)*nx+x]+u[y*nx+right]\n",
    "            -4.0f*u[y*nx+x]\n",
    "            +u[y*nx+left]+u[(down)*nx+x]\n",
    "            );\n",
    "    }}\n",
    "}}\n",
    "    \"\"\"   "
   ]
  },
  {
   "cell_type": "code",
   "execution_count": 16,
   "metadata": {
    "ExecuteTime": {
     "end_time": "2020-08-20T20:56:02.672087Z",
     "start_time": "2020-08-20T20:56:02.664579Z"
    },
    "hidden": true
   },
   "outputs": [],
   "source": [
    "#don't allocate memory many times for the same task!\n",
    "\n",
    "#allocate GPU memory\n",
    "u_old = drv.mem_alloc(field_copy.nbytes)\n",
    "u_new = drv.mem_alloc(field_copy.nbytes)"
   ]
  },
  {
   "cell_type": "code",
   "execution_count": 28,
   "metadata": {
    "ExecuteTime": {
     "end_time": "2020-08-20T20:59:07.473343Z",
     "start_time": "2020-08-20T20:59:03.698860Z"
    },
    "hidden": true
   },
   "outputs": [
    {
     "name": "stdout",
     "output_type": "stream",
     "text": [
      "200000 steps of diffuse took 3418 ms.\n"
     ]
    },
    {
     "data": {
      "image/png": "[encoded data removed]",
      "text/plain": [
       "<Figure size 432x288 with 2 Axes>"
      ]
     },
     "metadata": {
      "needs_background": "light"
     },
     "output_type": "display_data"
    }
   ],
   "source": [
    "kernel_string = get_kernel_string(nx=width, ny=height, D = 0.0005, dt = 0.025, dx = 0.025)#, width=width, height=height)\n",
    "# kernel_string = get_kernel_string(nx, ny)\n",
    "\n",
    "field_copy = Vin.copy().astype(np.float32)#ic.copy()\n",
    "\n",
    "iterations = 10**5\n",
    "\n",
    "#setup thread block dimensions and compile the kernel\n",
    "mod = SourceModule(block_size_string+kernel_string)\n",
    "diffuse_kernel = mod.get_function(\"diffuse_kernel\")\n",
    "\n",
    "#create events for measuring performance\n",
    "start = drv.Event()\n",
    "end = drv.Event()\n",
    "#move the data to the GPU\n",
    "drv.memcpy_htod(u_old, field_copy)\n",
    "drv.memcpy_htod(u_new, field_copy)\n",
    "#call the GPU kernel a 1000 times and measure performance\n",
    "context.synchronize()\n",
    "start.record()\n",
    "for i in range(iterations):\n",
    "    diffuse_kernel(u_new, u_old, block=threads, grid=grid)\n",
    "    diffuse_kernel(u_old, u_new, block=threads, grid=grid)\n",
    "end.record()\n",
    "context.synchronize()\n",
    "print(f\"{iterations*2} steps of diffuse took {end.time_since(start):.0f} ms.\")\n",
    "\n",
    "#copy the result from the GPU to Python for plotting\n",
    "gpu_result = np.zeros_like(field_copy)\n",
    "drv.memcpy_dtoh(gpu_result, u_new)\n",
    "fig, (ax1, ax2) = plt.subplots(1,2)\n",
    "\n",
    "ax1.imshow(field_copy)\n",
    "ax1.set_title(\"Initial Conditions\")\n",
    "ax2.imshow(gpu_result)\n",
    "ax2.set_title(\"GPU Result\")\n",
    "plt.show()"
   ]
  },
  {
   "cell_type": "code",
   "execution_count": null,
   "metadata": {
    "ExecuteTime": {
     "end_time": "2020-08-20T20:57:25.780949Z",
     "start_time": "2020-08-20T20:57:25.776728Z"
    },
    "hidden": true
   },
   "outputs": [],
   "source": []
  },
  {
   "cell_type": "code",
   "execution_count": null,
   "metadata": {
    "ExecuteTime": {
     "end_time": "2020-08-18T04:35:21.161816Z",
     "start_time": "2020-08-18T04:35:21.157685Z"
    },
    "hidden": true
   },
   "outputs": [],
   "source": []
  },
  {
   "cell_type": "code",
   "execution_count": 29,
   "metadata": {
    "ExecuteTime": {
     "end_time": "2020-08-20T20:59:25.149011Z",
     "start_time": "2020-08-20T20:59:25.145976Z"
    },
    "hidden": true
   },
   "outputs": [
    {
     "name": "stdout",
     "output_type": "stream",
     "text": [
      "5 seconds of simulation time simulated in 3.4 seconds of real time on the right sized grid!\n"
     ]
    }
   ],
   "source": [
    "200000*0.025\n",
    "print('5 seconds of simulation time simulated in 3.4 seconds of real time on the right sized grid!')"
   ]
  },
  {
   "cell_type": "markdown",
   "metadata": {
    "heading_collapsed": true
   },
   "source": [
    "# (don't) get a gpuarray class doing something on a 200x200 grid....\n",
    "or don't.  or do... nah...  nothing good will come of it (it might make unneccessary dtoh or htod memcopies...."
   ]
  },
  {
   "cell_type": "code",
   "execution_count": 30,
   "metadata": {
    "ExecuteTime": {
     "end_time": "2020-08-20T21:01:12.467289Z",
     "start_time": "2020-08-20T21:01:12.229522Z"
    },
    "hidden": true
   },
   "outputs": [
    {
     "name": "stdout",
     "output_type": "stream",
     "text": [
      "[[-2.2676165  -5.121178    2.4446201   2.9607556 ]\n",
      " [-4.170683   -0.20356432 -0.77014315  0.6074818 ]\n",
      " [ 2.3934546  -0.54135007  0.8031153   0.7699095 ]\n",
      " [ 0.06056655  0.22870307  0.9549367   4.4928093 ]]\n",
      "[[-1.1338083  -2.560589    1.2223101   1.4803778 ]\n",
      " [-2.0853415  -0.10178216 -0.38507158  0.3037409 ]\n",
      " [ 1.1967273  -0.27067503  0.40155765  0.38495475]\n",
      " [ 0.03028327  0.11435153  0.47746834  2.2464046 ]]\n"
     ]
    }
   ],
   "source": [
    "import pycuda.gpuarray as gpuarray\n",
    "import pycuda.driver as cuda\n",
    "import pycuda.autoinit\n",
    "import numpy\n",
    "\n",
    "a_gpu = gpuarray.to_gpu(numpy.random.randn(4,4).astype(numpy.float32))\n",
    "a_doubled = (2*a_gpu).get()\n",
    "print (a_doubled)\n",
    "print (a_gpu)"
   ]
  },
  {
   "cell_type": "code",
   "execution_count": 3,
   "metadata": {
    "ExecuteTime": {
     "end_time": "2020-08-20T21:31:36.892226Z",
     "start_time": "2020-08-20T21:31:36.887258Z"
    },
    "hidden": true
   },
   "outputs": [
    {
     "data": {
      "text/plain": [
       "6"
      ]
     },
     "execution_count": 3,
     "metadata": {},
     "output_type": "execute_result"
    }
   ],
   "source": [
    "#simple test if kwargs autopopulate a namespace\n",
    "def foo(a,b,c):#, **kwargs):\n",
    "    return a+b+c\n",
    "d = {'a':1,'b':2,'c':3}\n",
    "foo(**d)"
   ]
  },
  {
   "cell_type": "markdown",
   "metadata": {
    "heading_collapsed": true
   },
   "source": [
    "# Fenton-Karma model with pbc on a pycuda kernel with custom input\n",
    "- DONE: simple test that kwargs autopopulate a namespace\n",
    "- DONE: define parameter set 8 from a dict named kwargs\n",
    "- DONE: define all FK-parameters in kernel_string.  Everything still runs at the same speed :)\n",
    "- DONE: add trivial v and w fields to the kernel\n",
    "- DONE: shade v and w fields with the identity operation\n",
    "- DONE: get a built-in hyperbolic tangent function in the device namespace.  test that it works\n",
    "- DONE: get a step function into the device namespace.  test that it works\n",
    "- DONE: construct the local transient terms for u and w.  put this into a function pointer on the device namespace\n",
    "- DONE: construct the local current terms for I_ion.  put this into a function pointer on the device namespace\n",
    "- DONE: save/load kwargs from a .json file\n",
    "- DONE: try double precision and see if runtime changes or if it actually works..."
   ]
  },
  {
   "cell_type": "markdown",
   "metadata": {
    "heading_collapsed": true,
    "hidden": true
   },
   "source": [
    "## define parameter set 8 and json io"
   ]
  },
  {
   "cell_type": "code",
   "execution_count": 1,
   "metadata": {
    "ExecuteTime": {
     "end_time": "2020-08-20T22:35:59.237325Z",
     "start_time": "2020-08-20T22:35:59.203063Z"
    },
    "hidden": true
   },
   "outputs": [
    {
     "name": "stdout",
     "output_type": "stream",
     "text": [
      "{'DX': 0.025, 'diffCoef': 0.0005, 'C_m': 1.0, 'tau_pv': 13.03, 'tau_v1': 19.6, 'tau_v2': 1250, 'tau_pw': 800, 'tau_mw': 40, 'tau_d': 0.45, 'tau_0': 12.5, 'tau_r': 33.25, 'tau_si': 29, 'K': 10, 'V_sic': 0.85, 'V_c': 0.13, 'V_v': 0.04, 'width': 200, 'height': 200}\n"
     ]
    }
   ],
   "source": [
    "# define parameter set 8 from a dict named kwargs\n",
    "kwargs = {\n",
    "    'DX'       : 0.025, #cm/pxl\n",
    "    'diffCoef' : 0.0005, # cm^2 / ms\n",
    "    'C_m'      : 1.000,  # microFarad/cm^2 (although u channel is adimensionalized voltage.  See Fenton & Karma, (1998))\n",
    "\n",
    "    #parameter set 8 of FK model from Fenton & Cherry (2002)\n",
    "    'tau_pv'   : 13.03,\n",
    "    'tau_v1'   : 19.6,\n",
    "    'tau_v2'   : 1250,\n",
    "    'tau_pw'   : 800,\n",
    "    'tau_mw'   : 40,\n",
    "    'tau_d'    : 0.45,\n",
    "    'tau_0'    : 12.5,\n",
    "    'tau_r'    : 33.25,\n",
    "    'tau_si'   : 29,\n",
    "    'K'        : 10,\n",
    "    'V_sic'    : 0.85,\n",
    "    'V_c'      : 0.13,\n",
    "    'V_v'      : 0.04\n",
    "    }\n",
    "\n",
    "#define the field of initial conditions\n",
    "width = 200; height = 200;\n",
    "Vin  = np.array([256*x*(y+1) for x in range(width) for y in range(height)]).reshape((width,height))\n",
    "field = Vin.copy()\n",
    "\n",
    "height,width = field.shape\n",
    "kwargs.update({'width':width,'height':height})\n",
    "print(kwargs)\n"
   ]
  },
  {
   "cell_type": "code",
   "execution_count": 3,
   "metadata": {
    "ExecuteTime": {
     "end_time": "2020-08-20T23:46:47.061673Z",
     "start_time": "2020-08-20T23:46:47.056312Z"
    },
    "hidden": true
   },
   "outputs": [],
   "source": [
    "import json\n",
    "def write_parameters_to_json(param_dict, param_file_name):\n",
    "    '''Example Usage:\n",
    "    write_parameters_to_json(kwargs, 'lib/param_set_8.json')\n",
    "    '''\n",
    "    with open(param_file_name, 'w') as json_file:\n",
    "        json.dump(param_dict, json_file)\n",
    "    return True\n",
    "\n",
    "def read_parameters_from_json(param_file_name):\n",
    "    '''Example Usage:\n",
    "    kwargs = read_parameters_from_json('lib/param_set_8.json')\n",
    "    '''\n",
    "    with open(param_file_name) as json_file: \n",
    "        data = json.load(json_file) \n",
    "        return data"
   ]
  },
  {
   "cell_type": "code",
   "execution_count": 3,
   "metadata": {
    "ExecuteTime": {
     "end_time": "2020-08-20T22:36:02.996545Z",
     "start_time": "2020-08-20T22:36:02.987676Z"
    },
    "hidden": true
   },
   "outputs": [
    {
     "name": "stdout",
     "output_type": "stream",
     "text": [
      "{'DX': 0.025, 'diffCoef': 0.0005, 'C_m': 1.0, 'tau_pv': 13.03, 'tau_v1': 19.6, 'tau_v2': 1250, 'tau_pw': 800, 'tau_mw': 40, 'tau_d': 0.45, 'tau_0': 12.5, 'tau_r': 33.25, 'tau_si': 29, 'K': 10, 'V_sic': 0.85, 'V_c': 0.13, 'V_v': 0.04, 'width': 200, 'height': 200}\n"
     ]
    }
   ],
   "source": [
    "#input/output of key word arguments for model parameters\n",
    "param_file_name = 'lib/param_set_8.json'\n",
    "write_parameters_to_json(kwargs, param_file_name)\n",
    "\n",
    "kwargs = read_parameters_from_json('lib/param_set_8.json')\n",
    "print(kwargs)"
   ]
  },
  {
   "cell_type": "markdown",
   "metadata": {
    "heading_collapsed": true,
    "hidden": true
   },
   "source": [
    "## develop time_step_kernel for the Fenton-Karma model"
   ]
  },
  {
   "cell_type": "code",
   "execution_count": 1,
   "metadata": {
    "ExecuteTime": {
     "end_time": "2020-08-20T23:46:26.742653Z",
     "start_time": "2020-08-20T23:46:26.062449Z"
    },
    "hidden": true
   },
   "outputs": [],
   "source": [
    "import numpy as np\n",
    "import matplotlib.pyplot as plt\n",
    "from timeit import default_timer as timer\n",
    "import pycuda\n",
    "import pycuda.driver as drv\n",
    "import pycuda.autoinit\n",
    "from pycuda.compiler import SourceModule"
   ]
  },
  {
   "cell_type": "code",
   "execution_count": 2,
   "metadata": {
    "ExecuteTime": {
     "end_time": "2020-08-20T23:46:27.789187Z",
     "start_time": "2020-08-20T23:46:27.574512Z"
    },
    "hidden": true
   },
   "outputs": [
    {
     "ename": "NameError",
     "evalue": "name 'read_parameters_from_json' is not defined",
     "output_type": "error",
     "traceback": [
      "\u001b[0;31m---------------------------------------------------------------------------\u001b[0m",
      "\u001b[0;31mNameError\u001b[0m                                 Traceback (most recent call last)",
      "\u001b[0;32m<ipython-input-2-11cdf5e2222f>\u001b[0m in \u001b[0;36m<module>\u001b[0;34m\u001b[0m\n\u001b[1;32m      9\u001b[0m \u001b[0;34m\u001b[0m\u001b[0m\n\u001b[1;32m     10\u001b[0m \u001b[0;31m#load parameters\u001b[0m\u001b[0;34m\u001b[0m\u001b[0;34m\u001b[0m\u001b[0;34m\u001b[0m\u001b[0m\n\u001b[0;32m---> 11\u001b[0;31m \u001b[0mkwargs\u001b[0m \u001b[0;34m=\u001b[0m \u001b[0mread_parameters_from_json\u001b[0m\u001b[0;34m(\u001b[0m\u001b[0;34m'lib/param_set_8.json'\u001b[0m\u001b[0;34m)\u001b[0m\u001b[0;34m\u001b[0m\u001b[0;34m\u001b[0m\u001b[0m\n\u001b[0m",
      "\u001b[0;31mNameError\u001b[0m: name 'read_parameters_from_json' is not defined"
     ]
    }
   ],
   "source": [
    "#the following might be needed for the kernel_autotuner.  I think pycuda.autoinit is more idiot-proof.\n",
    "#run this once.  if you run in ~30 times, you will get the following error\n",
    "# MemoryError: cuCtxCreate failed: out of memory \n",
    "#initialize PyCuda and get compute capability needed for compilation\n",
    "# drv.init()\n",
    "context = drv.Device(0).make_context()\n",
    "devprops = { str(k): v for (k, v) in context.get_device().get_attributes().items() }\n",
    "cc = str(devprops['COMPUTE_CAPABILITY_MAJOR']) + str(devprops['COMPUTE_CAPABILITY_MINOR'])\n",
    "\n"
   ]
  },
  {
   "cell_type": "code",
   "execution_count": 5,
   "metadata": {
    "ExecuteTime": {
     "end_time": "2020-08-20T23:51:49.772776Z",
     "start_time": "2020-08-20T23:51:49.764919Z"
    },
    "hidden": true
   },
   "outputs": [],
   "source": [
    "from lib.utils_jsonio import *\n",
    "#load parameters\n",
    "kwargs = read_parameters_from_json('lib/param_set_8.json')"
   ]
  },
  {
   "cell_type": "code",
   "execution_count": 27,
   "metadata": {
    "ExecuteTime": {
     "end_time": "2020-08-21T00:04:10.307282Z",
     "start_time": "2020-08-21T00:04:10.268529Z"
    },
    "hidden": true
   },
   "outputs": [
    {
     "name": "stdout",
     "output_type": "stream",
     "text": [
      "(200, 200)\n"
     ]
    }
   ],
   "source": [
    "width  = kwargs['width'] \n",
    "height = kwargs['height']\n",
    "threads = (10,10,1)\n",
    "grid = (int(width/10), int(height/10), 1)\n",
    "block_size_string = \"#define block_size_x 10\\n#define block_size_y 10\\n\"\n",
    "\n",
    "#define the initial conditions\n",
    "Vin  = np.array([256*x*(y+1) for x in range(width) for y in range(height)]).reshape((width,height))\n",
    "\n",
    "field = Vin.copy()\n",
    "field_copy = field.copy()\n",
    "print(field.shape)\n",
    "\n",
    "#TODO: try double percision. does it slow down runtime?\n",
    "# u_initial = Vin.astype(np.float64)\n",
    "u_initial = Vin.astype(np.float32)"
   ]
  },
  {
   "cell_type": "code",
   "execution_count": null,
   "metadata": {
    "ExecuteTime": {
     "end_time": "2020-08-20T22:36:58.384795Z",
     "start_time": "2020-08-20T22:36:57.791154Z"
    },
    "hidden": true
   },
   "outputs": [],
   "source": []
  },
  {
   "cell_type": "code",
   "execution_count": 28,
   "metadata": {
    "ExecuteTime": {
     "end_time": "2020-08-21T00:04:17.932704Z",
     "start_time": "2020-08-21T00:04:17.925653Z"
    },
    "hidden": true
   },
   "outputs": [],
   "source": [
    "#don't allocate memory many times for the same task!\n",
    "#allocate GPU memory for voltage scalar field\n",
    "u_old = drv.mem_alloc(u_initial.nbytes)\n",
    "u_new = drv.mem_alloc(u_initial.nbytes)"
   ]
  },
  {
   "cell_type": "code",
   "execution_count": 29,
   "metadata": {
    "ExecuteTime": {
     "end_time": "2020-08-21T00:04:18.585843Z",
     "start_time": "2020-08-21T00:04:18.577168Z"
    },
    "hidden": true
   },
   "outputs": [],
   "source": [
    "#initialize auxiliary textures to zero\n",
    "v_initial = np.zeros_like(u_initial)\n",
    "w_initial = np.zeros_like(u_initial)\n",
    "\n",
    "#allocate GPU memory for v and w fields\n",
    "v_old = drv.mem_alloc(v_initial.nbytes)\n",
    "v_new = drv.mem_alloc(v_initial.nbytes)\n",
    "w_old = drv.mem_alloc(w_initial.nbytes)\n",
    "w_new = drv.mem_alloc(w_initial.nbytes)"
   ]
  },
  {
   "cell_type": "code",
   "execution_count": 30,
   "metadata": {
    "ExecuteTime": {
     "end_time": "2020-08-21T00:04:19.148054Z",
     "start_time": "2020-08-21T00:04:19.141006Z"
    },
    "hidden": true
   },
   "outputs": [],
   "source": [
    "\n",
    "def get_kernel_string_FK_model(width, height, DX, DT, diffCoef, C_m,\n",
    "                               tau_pv, tau_v1, tau_v2, tau_pw, tau_mw, tau_d, \n",
    "                               tau_0, tau_r, tau_si, K, V_sic, V_c, V_v, round_to=8):\n",
    "    return f\"\"\"\n",
    "// primary model parameters\n",
    "#define width  {int(width)}\n",
    "#define height {int(height)}\n",
    "#define h      {float(DT)}\n",
    "#define C_m    {float(C_m)}\n",
    "#define tau_pv {float(tau_pv)}\n",
    "#define tau_v1 {float(tau_v1)}\n",
    "#define tau_v2 {float(tau_v2)}\n",
    "#define tau_pw {float(tau_pw)}\n",
    "#define tau_mw {float(tau_mw)}\n",
    "#define tau_d  {float(tau_d)}\n",
    "#define tau_0  {float(tau_0)}\n",
    "#define tau_r  {float(tau_r)}\n",
    "#define tau_si {float(tau_si)}\n",
    "#define K      {float(K)}\n",
    "#define V_sic  {float(V_sic)}\n",
    "#define V_c    {float(V_c)}\n",
    "#define V_v    {float(V_v)}\n",
    "\n",
    "// auxiliary model parameters\n",
    "#define nx width\n",
    "#define ny height\n",
    "#define dcoef {float(diffCoef/DX**2):.{round_to}f}\n",
    "   \n",
    "// periodic boundary conditions\n",
    "__device__ int _pbc ( int q, int wid ) {{\n",
    "    if (q >= wid) {{\n",
    "        q = 1;\n",
    "    }}\n",
    "    if (q <= 0) {{\n",
    "        q = wid-1;\n",
    "    }}\n",
    "    return q;\n",
    "}}\n",
    "\n",
    "// heaviside step function\n",
    "__device__ float step(float thresh, float x)\n",
    "{{\n",
    "    return x >= thresh;\n",
    "}}\n",
    "\n",
    "// main computation kernel/face shader\n",
    "__global__ void time_step_kernel(float *u_new, float *u, float *v_new, float *v, float *w_new, float *w) {{\n",
    "    int x = blockIdx.x * block_size_x + threadIdx.x;\n",
    "    int y = blockIdx.y * block_size_y + threadIdx.y;\n",
    "    if (x>=0 && x<nx && y>=0 && y<ny) {{\n",
    "            float U = u[y*nx+x];\n",
    "            float V = v[y*nx+x];\n",
    "            float W = w[y*nx+x];\n",
    "            float p = step(V_c, U);\n",
    "            float q = step(V_v, U);\n",
    "            //WJ's modification of the FK model\n",
    "            float tau_mv = (1.0 - q) * tau_v2 + q * tau_v1 ;\n",
    "            ////the unmodified FK model\n",
    "            //float tau_mv = (1.0 - q) * tau_v1 + q * tau_v2 ;\n",
    "            \n",
    "            // local ion current terms\n",
    "            float tn  = tanh( K * (U - V_sic)) ;\n",
    "            float Ifi = -V * p * (U - V_c) * (1.0 - U) / tau_d ;\n",
    "            float Iso = U * (1.0 - p) / tau_0 + p / tau_r ;\n",
    "            float Isi = -W * (1.0 + tn ) / (2.0 * tau_si) ; \n",
    "            float I_sum = Ifi + Iso + Isi ; \n",
    "            float current_term = -I_sum / C_m ; \n",
    "            \n",
    "            // local transient terms for auxiliary variables\n",
    "            float dVdt = (1.0 - p) * (1.0 - V) / tau_mv - p * V / tau_pv ;\n",
    "            float dWdt = (1.0 - p) * (1.0 - W) / tau_mw - p * W / tau_pw ;\n",
    "\n",
    "            // diffusion term (5-point stencil)\n",
    "            int up    = _pbc(y+1,height);\n",
    "            int down  = _pbc(y-1,height);\n",
    "            int left  = _pbc(x-1, width);\n",
    "            int right = _pbc(x+1, width);\n",
    "            float diffusion_term =  dcoef * (\n",
    "            u[(up)*nx+x]+u[y*nx+right]\n",
    "            -4.0f*u[y*nx+x]\n",
    "            +u[y*nx+left]+u[(down)*nx+x]\n",
    "            );\n",
    "            \n",
    "            //integrate in time\n",
    "            float dUdt = diffusion_term + current_term ;\n",
    "            u_new[y*nx+x] = U + h * dUdt;\n",
    "            v_new[y*nx+x] = V + h * dVdt;\n",
    "            w_new[y*nx+x] = W + h * dWdt;\n",
    "    }}\n",
    "}}  \n",
    "    \"\"\"\n",
    "\n",
    "# print ( get_kernel_string_FK_model(**kwargs, DT=0.025) )"
   ]
  },
  {
   "cell_type": "code",
   "execution_count": 31,
   "metadata": {
    "ExecuteTime": {
     "end_time": "2020-08-21T00:04:35.195755Z",
     "start_time": "2020-08-21T00:04:19.546704Z"
    },
    "hidden": true
   },
   "outputs": [
    {
     "name": "stdout",
     "output_type": "stream",
     "text": [
      "200000 time steps took 14368 ms.\n"
     ]
    },
    {
     "data": {
      "image/png": "[encoded data removed]",
      "text/plain": [
       "<Figure size 432x720 with 6 Axes>"
      ]
     },
     "metadata": {
      "needs_background": "light"
     },
     "output_type": "display_data"
    }
   ],
   "source": [
    "kernel_string = get_kernel_string_FK_model(**kwargs, DT=0.025)\n",
    "iterations = 10**5\n",
    "\n",
    "#setup thread block dimensions and compile the kernel\n",
    "mod = SourceModule(block_size_string+kernel_string)\n",
    "time_step_kernel = mod.get_function(\"time_step_kernel\")\n",
    "\n",
    "#create events for measuring performance\n",
    "start = drv.Event()\n",
    "end = drv.Event()\n",
    "\n",
    "#move the data to the GPU\n",
    "drv.memcpy_htod(u_old, u_initial)\n",
    "drv.memcpy_htod(u_new, u_initial)\n",
    "drv.memcpy_htod(v_old, v_initial)\n",
    "drv.memcpy_htod(v_new, v_initial)\n",
    "drv.memcpy_htod(w_old, w_initial)\n",
    "drv.memcpy_htod(w_new, w_initial)\n",
    "\n",
    "#call the GPU kernel 2*iterations times and measure performance\n",
    "context.synchronize()\n",
    "start.record()\n",
    "for i in range(iterations):\n",
    "    time_step_kernel(u_new, u_old, v_new, v_old, w_new, w_old, block=threads, grid=grid)\n",
    "    time_step_kernel(u_old, u_new, v_old, v_new, w_old, w_new, block=threads, grid=grid)\n",
    "end.record()\n",
    "context.synchronize()\n",
    "runtime = end.time_since(start)\n",
    "print(f\"{iterations*2} time steps took {runtime:.0f} ms.\")\n",
    "\n",
    "#copy the result from the GPU to Python for plotting\n",
    "gpu_result_u = np.zeros_like(u_initial)\n",
    "drv.memcpy_dtoh(gpu_result_u, u_new)\n",
    "gpu_result_v = np.zeros_like(v_initial)\n",
    "drv.memcpy_dtoh(gpu_result_v, v_new)\n",
    "gpu_result_w = np.zeros_like(w_initial)\n",
    "drv.memcpy_dtoh(gpu_result_w, w_new)\n",
    "\n",
    "fig, ((ax1, ax2), (ax3, ax4), (ax5, ax6)) = plt.subplots(3,2, figsize=(6,10))\n",
    "ax1.imshow(u_initial)\n",
    "ax1.set_title(\"Initial Conditions\\n$u_0$\")\n",
    "ax2.imshow(gpu_result_u)\n",
    "ax2.set_title(\"Final Result From GPU\\n$u$\")\n",
    "\n",
    "ax3.imshow(v_initial)\n",
    "ax3.set_title(\"$v_0$\")\n",
    "ax4.imshow(gpu_result_v)\n",
    "ax4.set_title(\"$v$\")\n",
    "\n",
    "ax5.imshow(w_initial)\n",
    "ax5.set_title(\"$w_0$\")\n",
    "ax6.imshow(gpu_result_w)\n",
    "ax6.set_title(\"$w$\")\n",
    "plt.show()"
   ]
  },
  {
   "cell_type": "markdown",
   "metadata": {
    "hidden": true
   },
   "source": [
    "so, naively using np.float64 instead of np.float32 gave the wrong results!"
   ]
  },
  {
   "cell_type": "code",
   "execution_count": 26,
   "metadata": {
    "ExecuteTime": {
     "end_time": "2020-08-21T00:03:30.192895Z",
     "start_time": "2020-08-21T00:03:30.128013Z"
    },
    "hidden": true
   },
   "outputs": [
    {
     "name": "stdout",
     "output_type": "stream",
     "text": [
      "(dtype('float64'), dtype('float64'), dtype('float64'))\n",
      "(4.0820480049152e+17, 1.0362887398093386, 1.2197722687149621)\n",
      "5.0 seconds of simulation time simulated in 22.3 seconds of real time on the right sized grid!\n"
     ]
    }
   ],
   "source": [
    "print((gpu_result_u.dtype,gpu_result_v.dtype,gpu_result_w.dtype))\n",
    "\n",
    "#verify that changes are happening in the auxiliary scalar fields\n",
    "msd_u = sum(gpu_result_u.flatten()**2)\n",
    "msd_v = sum(gpu_result_v.flatten()**2)\n",
    "msd_w = sum(gpu_result_w.flatten()**2)\n",
    "print((msd_u,msd_v,msd_w))\n",
    "\n",
    "time_final = iterations*2*0.025 #milliseconds\n",
    "print(f'{time_final/10**3:.1f} seconds of simulation time simulated in {runtime/10**3:.1f} seconds of real time on the right sized grid!')"
   ]
  },
  {
   "cell_type": "code",
   "execution_count": 20,
   "metadata": {
    "ExecuteTime": {
     "end_time": "2020-08-21T00:01:36.686211Z",
     "start_time": "2020-08-21T00:01:36.532688Z"
    },
    "hidden": true
   },
   "outputs": [
    {
     "name": "stdout",
     "output_type": "stream",
     "text": [
      "(dtype('float32'), dtype('float32'), dtype('float32'))\n",
      "(2.6732465436858778e+17, 0.0, 2.9112931683450416e-10)\n",
      "5.0 seconds of simulation time simulated in 14.4 seconds of real time on the right sized grid!\n"
     ]
    }
   ],
   "source": [
    "print((gpu_result_u.dtype,gpu_result_v.dtype,gpu_result_w.dtype))\n",
    "\n",
    "#verify that changes are happening in the auxiliary scalar fields\n",
    "msd_u = sum(gpu_result_u.flatten()**2)\n",
    "msd_v = sum(gpu_result_v.flatten()**2)\n",
    "msd_w = sum(gpu_result_w.flatten()**2)\n",
    "print((msd_u,msd_v,msd_w))\n",
    "\n",
    "time_final = iterations*2*0.025 #milliseconds\n",
    "print(f'{time_final/10**3:.1f} seconds of simulation time simulated in {runtime/10**3:.1f} seconds of real time on the right sized grid!')"
   ]
  },
  {
   "cell_type": "markdown",
   "metadata": {
    "heading_collapsed": true
   },
   "source": [
    "# TODO: dev for time_step_kernel\n",
    "- TODO: put it all together test the numerical disagreement in the computational checks folder.  Write this up and report to WJ! He's gonna be so stoked!\n",
    "- TODO: the following extra stuff\n",
    "- TODO: tune the kernel for a slightly improved runtime!\n",
    "- TODO (bonus) : make a copy method that shades according to an input I_ext field, that is user defined (with a pycuda gpuaray?).  \n",
    "- TODO (bonus) : Making a flashy .mov of a heart shaped stimulus would impress WJ... I would need to dev some regular .png saving methods first.  perhaps this could be done in the device namespace thanks to my 2TB nvme ssd...\n",
    "- TODO: try if the function_prepared call reduces runtime"
   ]
  },
  {
   "cell_type": "code",
   "execution_count": 32,
   "metadata": {
    "ExecuteTime": {
     "end_time": "2020-08-21T00:41:59.602990Z",
     "start_time": "2020-08-21T00:41:59.598973Z"
    },
    "hidden": true
   },
   "outputs": [
    {
     "data": {
      "text/plain": [
       "numpy.ndarray"
      ]
     },
     "execution_count": 32,
     "metadata": {},
     "output_type": "execute_result"
    }
   ],
   "source": [
    "type(u_initial)"
   ]
  },
  {
   "cell_type": "code",
   "execution_count": 33,
   "metadata": {
    "ExecuteTime": {
     "end_time": "2020-08-21T00:42:08.520909Z",
     "start_time": "2020-08-21T00:42:08.511651Z"
    },
    "hidden": true
   },
   "outputs": [
    {
     "data": {
      "text/plain": [
       "dtype('float32')"
      ]
     },
     "execution_count": 33,
     "metadata": {},
     "output_type": "execute_result"
    }
   ],
   "source": [
    "u_initial.dtype"
   ]
  },
  {
   "cell_type": "code",
   "execution_count": 35,
   "metadata": {
    "ExecuteTime": {
     "end_time": "2020-08-21T00:42:31.845233Z",
     "start_time": "2020-08-21T00:42:31.841154Z"
    },
    "hidden": true
   },
   "outputs": [
    {
     "data": {
      "text/plain": [
       "(200, 200)"
      ]
     },
     "execution_count": 35,
     "metadata": {},
     "output_type": "execute_result"
    }
   ],
   "source": [
    "u_initial.shape"
   ]
  },
  {
   "cell_type": "markdown",
   "metadata": {
    "heading_collapsed": true
   },
   "source": [
    "# DONE: simplest functional routine that uses time_step_kernel to generate a tip log file from a given initial condition"
   ]
  },
  {
   "cell_type": "code",
   "execution_count": 8,
   "metadata": {
    "ExecuteTime": {
     "end_time": "2020-08-21T04:55:13.350197Z",
     "start_time": "2020-08-21T04:55:11.505854Z"
    },
    "hidden": true
   },
   "outputs": [],
   "source": [
    "#initialize\n",
    "import numpy as np, pandas as pd, matplotlib.pyplot as plt\n",
    "\n",
    "#automate the boring stuff\n",
    "# from IPython import utils\n",
    "import time, os, sys, re\n",
    "beep = lambda x: os.system(\"echo -n '\\\\a';sleep 0.2;\" * x)\n",
    "if not 'nb_dir' in globals():\n",
    "\tnb_dir = os.getcwd()\n",
    "    \n",
    "#LLVM JIT Acceleration\n",
    "from numba import njit\n",
    "\n",
    "from skimage import measure\n",
    "\n",
    "#load the libraries\n",
    "from lib import *\n",
    "from lib.dist_func import *\n",
    "\n",
    "from lib.utils_jsonio import *\n",
    "#load parameters for parameter set 8 for the Fenton-Karma Model\n",
    "param_file_name = '/home/timothytyree/Documents/GitHub/care/notebooks/lib/param_set_8.json'\n",
    "kwargs = read_parameters_from_json(param_file_name)\n",
    "\n",
    "from lib.minimal_model_cuda import *\n",
    "#get the time_step_kernel\n",
    "dt = 0.025\n",
    "kernel_string = get_kernel_string_FK_model(**kwargs, DT=dt)"
   ]
  },
  {
   "cell_type": "code",
   "execution_count": 10,
   "metadata": {
    "ExecuteTime": {
     "end_time": "2020-08-21T04:57:04.421093Z",
     "start_time": "2020-08-21T04:57:04.054641Z"
    },
    "hidden": true
   },
   "outputs": [],
   "source": [
    "#load the libraries\n",
    "from lib.operari import *\n",
    "from lib.get_tips import *\n",
    "from lib.intersection import *\n",
    "from lib.tracking import link"
   ]
  },
  {
   "cell_type": "code",
   "execution_count": 11,
   "metadata": {
    "ExecuteTime": {
     "end_time": "2020-08-21T04:58:53.811282Z",
     "start_time": "2020-08-21T04:58:35.018801Z"
    },
    "hidden": true
   },
   "outputs": [
    {
     "name": "stdout",
     "output_type": "stream",
     "text": [
      "please select a file from within the desired folder.\n",
      "File: /home/timothytyree/Documents/GitHub/care/notebooks/Data/initial-conditions-suite-2/ic-in/ic_200x200.005.21.npz\n"
     ]
    }
   ],
   "source": [
    "#load initial conditions interactively\n",
    "#find file interactively\n",
    "print(\"please select a file from within the desired folder.\")\n",
    "input_file_name = search_for_file()"
   ]
  },
  {
   "cell_type": "code",
   "execution_count": 33,
   "metadata": {
    "ExecuteTime": {
     "end_time": "2020-08-21T05:23:53.321465Z",
     "start_time": "2020-08-21T05:23:53.307642Z"
    },
    "hidden": true
   },
   "outputs": [],
   "source": [
    "ic = load_buffer(input_file_name)\n",
    "height, width, channel_no = ic.shape"
   ]
  },
  {
   "cell_type": "code",
   "execution_count": 14,
   "metadata": {
    "ExecuteTime": {
     "end_time": "2020-08-21T05:00:06.953773Z",
     "start_time": "2020-08-21T05:00:06.948592Z"
    },
    "hidden": true
   },
   "outputs": [],
   "source": [
    "#map initial condition to the three initial scalar fields\n",
    "u_initial = np.array(ic.astype(np.float64)[...,0])\n",
    "v_initial = np.array(ic.astype(np.float64)[...,1])\n",
    "w_initial = np.array(ic.astype(np.float64)[...,2])"
   ]
  },
  {
   "cell_type": "code",
   "execution_count": 25,
   "metadata": {
    "ExecuteTime": {
     "end_time": "2020-08-21T05:17:09.771933Z",
     "start_time": "2020-08-21T05:17:09.769311Z"
    },
    "hidden": true
   },
   "outputs": [],
   "source": []
  },
  {
   "cell_type": "code",
   "execution_count": 18,
   "metadata": {
    "ExecuteTime": {
     "end_time": "2020-08-21T05:00:57.589320Z",
     "start_time": "2020-08-21T05:00:57.478042Z"
    },
    "hidden": true
   },
   "outputs": [],
   "source": [
    "#initializing cuda context\n",
    "#initialize PyCuda and get compute capability needed for compilation\n",
    "context = drv.Device(0).make_context()\n",
    "devprops = { str(k): v for (k, v) in context.get_device().get_attributes().items() }\n",
    "cc = str(devprops['COMPUTE_CAPABILITY_MAJOR']) + str(devprops['COMPUTE_CAPABILITY_MINOR'])\n",
    "\n",
    "#define how resources are used\n",
    "width  = kwargs['width']\n",
    "height = kwargs['height']\n",
    "threads = (10,10,1)\n",
    "grid = (int(width/10), int(height/10), 1)\n",
    "block_size_string = \"#define block_size_x 10\\n#define block_size_y 10\\n\"\n",
    "\n",
    "#don't allocate memory many times for the same task!\n",
    "#allocate GPU memory for voltage scalar field\n",
    "u_old = drv.mem_alloc(u_initial.nbytes)\n",
    "u_new = drv.mem_alloc(u_initial.nbytes)\n",
    "\n",
    "#allocate GPU memory for v and w auxiliary fields\n",
    "v_old = drv.mem_alloc(v_initial.nbytes)\n",
    "v_new = drv.mem_alloc(v_initial.nbytes)\n",
    "w_old = drv.mem_alloc(w_initial.nbytes)\n",
    "w_new = drv.mem_alloc(w_initial.nbytes)\n",
    "\n",
    "#setup thread block dimensions and compile the kernel\n",
    "mod = SourceModule(block_size_string+kernel_string)\n",
    "time_step_kernel = mod.get_function(\"time_step_kernel\")\n"
   ]
  },
  {
   "cell_type": "code",
   "execution_count": 61,
   "metadata": {
    "ExecuteTime": {
     "end_time": "2020-08-21T06:00:16.953820Z",
     "start_time": "2020-08-21T06:00:16.948257Z"
    },
    "hidden": true
   },
   "outputs": [],
   "source": [
    "from lib.ProgressBar import printProgressBar"
   ]
  },
  {
   "cell_type": "code",
   "execution_count": 55,
   "metadata": {
    "ExecuteTime": {
     "end_time": "2020-08-21T05:56:27.387997Z",
     "start_time": "2020-08-21T05:56:27.381752Z"
    },
    "hidden": true
   },
   "outputs": [],
   "source": [
    "#default observation parameters\n",
    "n = 50  #half the number of steps between observations of spiral tips\n",
    "nsteps = 10**6\n",
    "pad = 10\n",
    "edge_tolerance = 6\n",
    "atol = 1e-10\n",
    "printing=True\n",
    "\n",
    "width, height, channel_no = ic.shape\n",
    "zero_txt = np.zeros((width, height, channel_no), dtype=np.float64)\n",
    "nanstate = [np.nan,np.nan,np.nan]\n",
    "ycoord_mesh, xcoord_mesh = np.meshgrid(np.arange(0,width+2*(pad)),np.arange(0,width+2*pad))"
   ]
  },
  {
   "cell_type": "code",
   "execution_count": 39,
   "metadata": {
    "ExecuteTime": {
     "end_time": "2020-08-21T05:45:33.013781Z",
     "start_time": "2020-08-21T05:45:32.996146Z"
    },
    "hidden": true
   },
   "outputs": [],
   "source": [
    "def step_forward_2n_times(time_step_kernel,drv,n,txt_in,\n",
    "                         u_new, u_old, v_new, v_old, w_new, w_old,\n",
    "                         threads, grid):\n",
    "    '''compute the time step for the correct number of iterations = steps/2'''\n",
    "    iterations = n\n",
    "\n",
    "    #map input condition to the three input scalar fields\n",
    "    u_in = np.array(txt_in.astype(np.float64)[...,0])\n",
    "    v_in = np.array(txt_in.astype(np.float64)[...,1])\n",
    "    w_in = np.array(txt_in.astype(np.float64)[...,2])\n",
    "\n",
    "    # #create events for measuring performance\n",
    "    # start = drv.Event()\n",
    "    # end = drv.Event()\n",
    "\n",
    "    #move the data to the GPU\n",
    "    drv.memcpy_htod(u_old, u_in)\n",
    "    drv.memcpy_htod(u_new, u_in)\n",
    "    drv.memcpy_htod(v_old, v_in)\n",
    "    drv.memcpy_htod(v_new, v_in)\n",
    "    drv.memcpy_htod(w_old, w_in)\n",
    "    drv.memcpy_htod(w_new, w_in)\n",
    "\n",
    "    #call the GPU kernel 2*iterations times (and don't measure performance)\n",
    "    context.synchronize()\n",
    "    # start.record()\n",
    "    for i in range(iterations):\n",
    "        time_step_kernel(u_new, u_old, v_new, v_old, w_new, w_old, block=threads, grid=grid)\n",
    "        time_step_kernel(u_old, u_new, v_old, v_new, w_old, w_new, block=threads, grid=grid)\n",
    "    # end.record()\n",
    "    context.synchronize()\n",
    "    # runtime = end.time_since(start)\n",
    "    # print(f\"{iterations*2} time steps took {runtime:.0f} ms.\")\n",
    "\n",
    "    #copy the result from the GPU to Python\n",
    "    gpu_result_u = np.zeros_like(u_in)\n",
    "    drv.memcpy_dtoh(gpu_result_u, u_old)\n",
    "    gpu_result_v = np.zeros_like(v_in)\n",
    "    drv.memcpy_dtoh(gpu_result_v, v_old)\n",
    "    gpu_result_w = np.zeros_like(w_in)\n",
    "    drv.memcpy_dtoh(gpu_result_w, w_old)\n",
    "    txt_out_gpu = np.stack((gpu_result_u,gpu_result_v,gpu_result_w),axis=2)\n",
    "    return txt_out_gpu"
   ]
  },
  {
   "cell_type": "code",
   "execution_count": 68,
   "metadata": {
    "ExecuteTime": {
     "end_time": "2020-08-21T06:04:15.079620Z",
     "start_time": "2020-08-21T06:04:15.040426Z"
    },
    "hidden": true
   },
   "outputs": [],
   "source": [
    "def txt_to_tip(txt, nanstate, zero_txt, x_coord_mesh, y_coord_mesh, \n",
    "                    pad, edge_tolerance, atol):\n",
    "    '''instantaneous method of tip detection'''\n",
    "    #calculate discrete flow map\n",
    "    dtexture_dt = zero_txt.copy()\n",
    "    get_time_step(txt, dtexture_dt)\n",
    "\n",
    "    #calculate contours and tips after enforcing pbcs\n",
    "    img_nxt_unpadded = txt[...,0].copy()\n",
    "    img_inc_unpadded = dtexture_dt[..., 0].copy()\n",
    "    img_nxt, img_inc = matrices_to_padded_matrices(img_nxt_unpadded, img_inc_unpadded,pad=pad)\n",
    "    contours_raw = measure.find_contours(img_nxt, level=0.5,fully_connected='low',positive_orientation='low')\n",
    "    contours_inc = measure.find_contours(img_inc, level=0.)\n",
    "    tips  = get_tips(contours_raw, contours_inc)\n",
    "    tips_mapped = map_pbc_tips_back(tips=tips, pad=pad, width=width, height=height,\n",
    "                      edge_tolerance=edge_tolerance, atol = atol)\n",
    "\n",
    "    n = count_tips(tips_mapped[2])\n",
    "    #record spiral tip locations\n",
    "    s1_lst, s2_lst, x_lst, y_lst = tips_mapped\n",
    "    dict_out = {\n",
    "                't': float(tme),\n",
    "                'n': int(n),\n",
    "                'x': tuple(x_lst),\n",
    "                'y': tuple(y_lst),\n",
    "                's1': tuple(s1_lst),\n",
    "                's2': tuple(s2_lst),\n",
    "    }\n",
    "    return dict_out\n",
    "\n",
    "def txt_to_tip_dict_with_EP_state(txt, nanstate, zero_txt, x_coord_mesh, y_coord_mesh, \n",
    "                    pad, edge_tolerance, atol):\n",
    "    '''instantaneous method of tip detection. with one of three routines for interpolating EP state in use'''\n",
    "    #calculate discrete flow map\n",
    "    dtexture_dt = zero_txt.copy()\n",
    "    get_time_step(txt, dtexture_dt)\n",
    "\n",
    "    #calculate contours and tips after enforcing pbcs\n",
    "    img_nxt_unpadded = txt[...,0].copy()\n",
    "    img_inc_unpadded = dtexture_dt[..., 0].copy()\n",
    "    img_nxt, img_inc = matrices_to_padded_matrices(img_nxt_unpadded, img_inc_unpadded,pad=pad)\n",
    "    contours_raw = measure.find_contours(img_nxt, level=0.5,fully_connected='low',positive_orientation='low')\n",
    "    contours_inc = measure.find_contours(img_inc, level=0.)\n",
    "    tips  = get_tips(contours_raw, contours_inc)\n",
    "    tips_mapped = map_pbc_tips_back(tips=tips, pad=pad, width=width, height=height,\n",
    "                      edge_tolerance=edge_tolerance, atol = atol)\n",
    "\n",
    "    #extract local EP field values for each tip\n",
    "    states_EP = get_states(tips_mapped, txt, pad, nanstate, xcoord_mesh, ycoord_mesh, channel_no = channel_no)\n",
    "    tips_mapped = add_states(tips_mapped, states_EP)\n",
    "    n = count_tips(tips_mapped[2])\n",
    "    #record spiral tip locations\n",
    "    s1_lst, s2_lst, x_lst, y_lst, states_nearest, states_interpolated_linear, states_interpolated_cubic = tips_mapped\n",
    "    dict_out = {\n",
    "                't': float(tme),\n",
    "                'n': int(n),\n",
    "                'x': tuple(x_lst),\n",
    "                'y': tuple(y_lst),\n",
    "                's1': tuple(s1_lst),\n",
    "                's2': tuple(s2_lst),\n",
    "        'states_interpolated_linear': tuple(states_interpolated_linear)\n",
    "    }\n",
    "    return dict_out\n"
   ]
  },
  {
   "cell_type": "code",
   "execution_count": 69,
   "metadata": {
    "ExecuteTime": {
     "end_time": "2020-08-21T06:04:23.873039Z",
     "start_time": "2020-08-21T06:04:23.869975Z"
    },
    "hidden": true
   },
   "outputs": [],
   "source": [
    "#initialize simulation\n",
    "txt = ic.copy()\n",
    "tme = 0.\n",
    "tip_state_lst = []"
   ]
  },
  {
   "cell_type": "code",
   "execution_count": 70,
   "metadata": {
    "ExecuteTime": {
     "end_time": "2020-08-21T06:06:09.905012Z",
     "start_time": "2020-08-21T06:04:29.493585Z"
    },
    "hidden": true
   },
   "outputs": [
    {
     "name": "stdout",
     "output_type": "stream",
     "text": [
      "Progress: |--------------------------------------------------| 1.9% Complete\r"
     ]
    },
    {
     "ename": "KeyboardInterrupt",
     "evalue": "",
     "output_type": "error",
     "traceback": [
      "\u001b[0;31m---------------------------------------------------------------------------\u001b[0m",
      "\u001b[0;31mKeyboardInterrupt\u001b[0m                         Traceback (most recent call last)",
      "\u001b[0;32m<ipython-input-70-9c911d8c4e56>\u001b[0m in \u001b[0;36m<module>\u001b[0;34m\u001b[0m\n\u001b[1;32m     10\u001b[0m \u001b[0;34m\u001b[0m\u001b[0m\n\u001b[1;32m     11\u001b[0m     dict_out = txt_to_tip_dict(txt, nanstate, zero_txt, xcoord_mesh, ycoord_mesh, \n\u001b[0;32m---> 12\u001b[0;31m                         pad=pad, edge_tolerance=edge_tolerance, atol=atol)\n\u001b[0m\u001b[1;32m     13\u001b[0m     \u001b[0mtip_state_lst\u001b[0m\u001b[0;34m.\u001b[0m\u001b[0mappend\u001b[0m\u001b[0;34m(\u001b[0m\u001b[0mdict_out\u001b[0m\u001b[0;34m)\u001b[0m\u001b[0;34m\u001b[0m\u001b[0;34m\u001b[0m\u001b[0m\n\u001b[1;32m     14\u001b[0m     \u001b[0mnum_tips\u001b[0m \u001b[0;34m=\u001b[0m \u001b[0mdict_out\u001b[0m\u001b[0;34m[\u001b[0m\u001b[0;34m'n'\u001b[0m\u001b[0;34m]\u001b[0m\u001b[0;34m\u001b[0m\u001b[0;34m\u001b[0m\u001b[0m\n",
      "\u001b[0;32m<ipython-input-44-26ef0c458e43>\u001b[0m in \u001b[0;36mtxt_to_tip_dict\u001b[0;34m(txt, nanstate, zero_txt, x_coord_mesh, y_coord_mesh, pad, edge_tolerance, atol)\u001b[0m\n\u001b[1;32m     12\u001b[0m     \u001b[0mcontours_raw\u001b[0m \u001b[0;34m=\u001b[0m \u001b[0mmeasure\u001b[0m\u001b[0;34m.\u001b[0m\u001b[0mfind_contours\u001b[0m\u001b[0;34m(\u001b[0m\u001b[0mimg_nxt\u001b[0m\u001b[0;34m,\u001b[0m \u001b[0mlevel\u001b[0m\u001b[0;34m=\u001b[0m\u001b[0;36m0.5\u001b[0m\u001b[0;34m,\u001b[0m\u001b[0mfully_connected\u001b[0m\u001b[0;34m=\u001b[0m\u001b[0;34m'low'\u001b[0m\u001b[0;34m,\u001b[0m\u001b[0mpositive_orientation\u001b[0m\u001b[0;34m=\u001b[0m\u001b[0;34m'low'\u001b[0m\u001b[0;34m)\u001b[0m\u001b[0;34m\u001b[0m\u001b[0;34m\u001b[0m\u001b[0m\n\u001b[1;32m     13\u001b[0m     \u001b[0mcontours_inc\u001b[0m \u001b[0;34m=\u001b[0m \u001b[0mmeasure\u001b[0m\u001b[0;34m.\u001b[0m\u001b[0mfind_contours\u001b[0m\u001b[0;34m(\u001b[0m\u001b[0mimg_inc\u001b[0m\u001b[0;34m,\u001b[0m \u001b[0mlevel\u001b[0m\u001b[0;34m=\u001b[0m\u001b[0;36m0.\u001b[0m\u001b[0;34m)\u001b[0m\u001b[0;34m\u001b[0m\u001b[0;34m\u001b[0m\u001b[0m\n\u001b[0;32m---> 14\u001b[0;31m     \u001b[0mtips\u001b[0m  \u001b[0;34m=\u001b[0m \u001b[0mget_tips\u001b[0m\u001b[0;34m(\u001b[0m\u001b[0mcontours_raw\u001b[0m\u001b[0;34m,\u001b[0m \u001b[0mcontours_inc\u001b[0m\u001b[0;34m)\u001b[0m\u001b[0;34m\u001b[0m\u001b[0;34m\u001b[0m\u001b[0m\n\u001b[0m\u001b[1;32m     15\u001b[0m     tips_mapped = map_pbc_tips_back(tips=tips, pad=pad, width=width, height=height,\n\u001b[1;32m     16\u001b[0m                       edge_tolerance=edge_tolerance, atol = atol)\n",
      "\u001b[0;32m~/Documents/GitHub/care/notebooks/lib/get_tips.py\u001b[0m in \u001b[0;36mget_tips\u001b[0;34m(contours_raw, contours_inc)\u001b[0m\n\u001b[1;32m     15\u001b[0m             \u001b[0mx1\u001b[0m\u001b[0;34m,\u001b[0m \u001b[0my1\u001b[0m \u001b[0;34m=\u001b[0m \u001b[0;34m(\u001b[0m\u001b[0mc1\u001b[0m\u001b[0;34m[\u001b[0m\u001b[0;34m:\u001b[0m\u001b[0;34m,\u001b[0m \u001b[0;36m0\u001b[0m\u001b[0;34m]\u001b[0m\u001b[0;34m,\u001b[0m \u001b[0mc1\u001b[0m\u001b[0;34m[\u001b[0m\u001b[0;34m:\u001b[0m\u001b[0;34m,\u001b[0m \u001b[0;36m1\u001b[0m\u001b[0;34m]\u001b[0m\u001b[0;34m)\u001b[0m\u001b[0;34m\u001b[0m\u001b[0;34m\u001b[0m\u001b[0m\n\u001b[1;32m     16\u001b[0m             \u001b[0mx2\u001b[0m\u001b[0;34m,\u001b[0m \u001b[0my2\u001b[0m \u001b[0;34m=\u001b[0m \u001b[0;34m(\u001b[0m\u001b[0mc2\u001b[0m\u001b[0;34m[\u001b[0m\u001b[0;34m:\u001b[0m\u001b[0;34m,\u001b[0m \u001b[0;36m0\u001b[0m\u001b[0;34m]\u001b[0m\u001b[0;34m,\u001b[0m \u001b[0mc2\u001b[0m\u001b[0;34m[\u001b[0m\u001b[0;34m:\u001b[0m\u001b[0;34m,\u001b[0m \u001b[0;36m1\u001b[0m\u001b[0;34m]\u001b[0m\u001b[0;34m)\u001b[0m\u001b[0;34m\u001b[0m\u001b[0;34m\u001b[0m\u001b[0m\n\u001b[0;32m---> 17\u001b[0;31m             \u001b[0mx\u001b[0m\u001b[0;34m,\u001b[0m \u001b[0my\u001b[0m \u001b[0;34m=\u001b[0m \u001b[0mintersection\u001b[0m\u001b[0;34m(\u001b[0m\u001b[0mx1\u001b[0m\u001b[0;34m,\u001b[0m \u001b[0my1\u001b[0m\u001b[0;34m,\u001b[0m \u001b[0mx2\u001b[0m\u001b[0;34m,\u001b[0m \u001b[0my2\u001b[0m\u001b[0;34m)\u001b[0m\u001b[0;34m\u001b[0m\u001b[0;34m\u001b[0m\u001b[0m\n\u001b[0m\u001b[1;32m     18\u001b[0m             \u001b[0;32mif\u001b[0m \u001b[0mlen\u001b[0m\u001b[0;34m(\u001b[0m\u001b[0mx\u001b[0m\u001b[0;34m)\u001b[0m\u001b[0;34m>\u001b[0m\u001b[0;36m0\u001b[0m\u001b[0;34m:\u001b[0m\u001b[0;34m\u001b[0m\u001b[0;34m\u001b[0m\u001b[0m\n\u001b[1;32m     19\u001b[0m                 \u001b[0ms\u001b[0m \u001b[0;34m=\u001b[0m \u001b[0;34m(\u001b[0m\u001b[0mn1\u001b[0m\u001b[0;34m,\u001b[0m\u001b[0mn2\u001b[0m\u001b[0;34m)\u001b[0m\u001b[0;34m\u001b[0m\u001b[0;34m\u001b[0m\u001b[0m\n",
      "\u001b[0;31mKeyboardInterrupt\u001b[0m: "
     ]
    }
   ],
   "source": [
    "#integrate forward in time\n",
    "tmax = nsteps*dt\n",
    "while tme <= tmax:\n",
    "    #step forward 2n times\n",
    "    txt_in = txt.copy()\n",
    "    txt = step_forward_2n_times(time_step_kernel,drv,n,txt_in,\n",
    "                             u_new, u_old, v_new, v_old, w_new, w_old,\n",
    "                             threads, grid)\n",
    "    tme += 2*n*dt\n",
    "\n",
    "    dict_out = txt_to_tip_dict(txt, nanstate, zero_txt, xcoord_mesh, ycoord_mesh, \n",
    "                        pad=pad, edge_tolerance=edge_tolerance, atol=atol)\n",
    "    tip_state_lst.append(dict_out)\n",
    "    num_tips = dict_out['n']\n",
    "    stop_early = (num_tips==0) & (tme>100)\n",
    "    if stop_early:\n",
    "        break\n",
    "    if printing:\n",
    "        printProgressBar(tme, tmax, prefix = 'Progress:', suffix = 'Complete', length = 50)"
   ]
  },
  {
   "cell_type": "code",
   "execution_count": 13,
   "metadata": {
    "ExecuteTime": {
     "end_time": "2020-08-21T07:00:26.517245Z",
     "start_time": "2020-08-21T07:00:26.471497Z"
    },
    "hidden": true
   },
   "outputs": [],
   "source": [
    "base_dir = '/'.join(os.path.dirname(input_file_name).split('/')[:-1])\n",
    "base_save_folder_name = 'ds_5_param_set_8'\n",
    "base_save_dir = os.path.join(base_dir, base_save_folder_name)\n",
    "\n",
    "#define subfolders\n",
    "subfolder_list = ('birth-death-rates', 'trajectories', 'Log')\n",
    "data_folder_bdrates = os.path.join(base_save_dir,subfolder_list[0])\n",
    "data_folder_traj    = os.path.join(base_save_dir,subfolder_list[1])\n",
    "data_folder_log     = os.path.join(base_save_dir,subfolder_list[2])\n",
    "\n",
    "data_fn_log = os.path.basename(input_file_name).replace('.npz', '_log.csv')\n"
   ]
  },
  {
   "cell_type": "code",
   "execution_count": 14,
   "metadata": {
    "ExecuteTime": {
     "end_time": "2020-08-21T07:00:34.462576Z",
     "start_time": "2020-08-21T07:00:34.416731Z"
    },
    "hidden": true
   },
   "outputs": [
    {
     "data": {
      "text/plain": [
       "'ic_200x200.005.21_log.csv'"
      ]
     },
     "execution_count": 14,
     "metadata": {},
     "output_type": "execute_result"
    }
   ],
   "source": [
    "data_fn_log"
   ]
  },
  {
   "cell_type": "code",
   "execution_count": null,
   "metadata": {
    "hidden": true
   },
   "outputs": [],
   "source": [
    "#save tip log.csv in the appropriate folder\n",
    "df = pd.DataFrame(tip_state_lst)\n",
    "df.to_csv(data_fn_log, index=False)"
   ]
  },
  {
   "cell_type": "code",
   "execution_count": 83,
   "metadata": {
    "ExecuteTime": {
     "end_time": "2020-08-21T06:15:25.767687Z",
     "start_time": "2020-08-21T06:15:25.734564Z"
    },
    "hidden": true,
    "scrolled": false
   },
   "outputs": [
    {
     "ename": "TypeError",
     "evalue": "expected str, bytes or os.PathLike object, not numpy.ndarray",
     "output_type": "error",
     "traceback": [
      "\u001b[0;31m---------------------------------------------------------------------------\u001b[0m",
      "\u001b[0;31mTypeError\u001b[0m                                 Traceback (most recent call last)",
      "\u001b[0;32m<ipython-input-83-a78b3985b160>\u001b[0m in \u001b[0;36m<module>\u001b[0;34m\u001b[0m\n\u001b[1;32m      2\u001b[0m \u001b[0;34m\u001b[0m\u001b[0m\n\u001b[1;32m      3\u001b[0m \u001b[0;31m#move the completed file to ic-out\u001b[0m\u001b[0;34m\u001b[0m\u001b[0;34m\u001b[0m\u001b[0;34m\u001b[0m\u001b[0m\n\u001b[0;32m----> 4\u001b[0;31m \u001b[0mcompleted_ic_fn\u001b[0m \u001b[0;34m=\u001b[0m \u001b[0mos\u001b[0m\u001b[0;34m.\u001b[0m\u001b[0mpath\u001b[0m\u001b[0;34m.\u001b[0m\u001b[0mjoin\u001b[0m\u001b[0;34m(\u001b[0m\u001b[0;34m*\u001b[0m\u001b[0;34m(\u001b[0m\u001b[0mbase_dir\u001b[0m\u001b[0;34m,\u001b[0m\u001b[0;34m'ic-out'\u001b[0m\u001b[0;34m,\u001b[0m\u001b[0mos\u001b[0m\u001b[0;34m.\u001b[0m\u001b[0mpath\u001b[0m\u001b[0;34m.\u001b[0m\u001b[0mbasename\u001b[0m\u001b[0;34m(\u001b[0m\u001b[0mic\u001b[0m\u001b[0;34m)\u001b[0m\u001b[0;34m)\u001b[0m\u001b[0;34m)\u001b[0m\u001b[0;34m\u001b[0m\u001b[0;34m\u001b[0m\u001b[0m\n\u001b[0m\u001b[1;32m      5\u001b[0m \u001b[0;31m# os.rename(,completed_ic_fn)\u001b[0m\u001b[0;34m\u001b[0m\u001b[0;34m\u001b[0m\u001b[0;34m\u001b[0m\u001b[0m\n",
      "\u001b[0;32m~/anaconda3/lib/python3.7/posixpath.py\u001b[0m in \u001b[0;36mbasename\u001b[0;34m(p)\u001b[0m\n\u001b[1;32m    144\u001b[0m \u001b[0;32mdef\u001b[0m \u001b[0mbasename\u001b[0m\u001b[0;34m(\u001b[0m\u001b[0mp\u001b[0m\u001b[0;34m)\u001b[0m\u001b[0;34m:\u001b[0m\u001b[0;34m\u001b[0m\u001b[0;34m\u001b[0m\u001b[0m\n\u001b[1;32m    145\u001b[0m     \u001b[0;34m\"\"\"Returns the final component of a pathname\"\"\"\u001b[0m\u001b[0;34m\u001b[0m\u001b[0;34m\u001b[0m\u001b[0m\n\u001b[0;32m--> 146\u001b[0;31m     \u001b[0mp\u001b[0m \u001b[0;34m=\u001b[0m \u001b[0mos\u001b[0m\u001b[0;34m.\u001b[0m\u001b[0mfspath\u001b[0m\u001b[0;34m(\u001b[0m\u001b[0mp\u001b[0m\u001b[0;34m)\u001b[0m\u001b[0;34m\u001b[0m\u001b[0;34m\u001b[0m\u001b[0m\n\u001b[0m\u001b[1;32m    147\u001b[0m     \u001b[0msep\u001b[0m \u001b[0;34m=\u001b[0m \u001b[0m_get_sep\u001b[0m\u001b[0;34m(\u001b[0m\u001b[0mp\u001b[0m\u001b[0;34m)\u001b[0m\u001b[0;34m\u001b[0m\u001b[0;34m\u001b[0m\u001b[0m\n\u001b[1;32m    148\u001b[0m     \u001b[0mi\u001b[0m \u001b[0;34m=\u001b[0m \u001b[0mp\u001b[0m\u001b[0;34m.\u001b[0m\u001b[0mrfind\u001b[0m\u001b[0;34m(\u001b[0m\u001b[0msep\u001b[0m\u001b[0;34m)\u001b[0m \u001b[0;34m+\u001b[0m \u001b[0;36m1\u001b[0m\u001b[0;34m\u001b[0m\u001b[0;34m\u001b[0m\u001b[0m\n",
      "\u001b[0;31mTypeError\u001b[0m: expected str, bytes or os.PathLike object, not numpy.ndarray"
     ]
    }
   ],
   "source": [
    "#move the completed file to ic-out\n",
    "completed_ic_fn = input_file_name.replace('ic-in','ic-out')\n",
    "# os.rename(input_file_name,completed_fn)"
   ]
  },
  {
   "cell_type": "code",
   "execution_count": 1,
   "metadata": {
    "ExecuteTime": {
     "end_time": "2020-08-21T06:48:37.832427Z",
     "start_time": "2020-08-21T06:48:37.829578Z"
    },
    "hidden": true
   },
   "outputs": [],
   "source": [
    "input_file_name = '/home/timothytyree/Documents/GitHub/care/notebooks/Data/initial-conditions-suite-2/ic-in/ic_200x200.005.21.npz'"
   ]
  },
  {
   "cell_type": "code",
   "execution_count": 2,
   "metadata": {
    "ExecuteTime": {
     "end_time": "2020-08-21T06:48:42.267440Z",
     "start_time": "2020-08-21T06:48:39.090983Z"
    },
    "hidden": true
   },
   "outputs": [
    {
     "name": "stdout",
     "output_type": "stream",
     "text": [
      "100000\n",
      "Automatic calling is: Smart\n"
     ]
    }
   ],
   "source": [
    "from lib.tip_log_from_ic import *\n",
    "%autocall 1\n",
    "%load_ext autoreload\n",
    "%autoreload 2"
   ]
  },
  {
   "cell_type": "code",
   "execution_count": 16,
   "metadata": {
    "ExecuteTime": {
     "end_time": "2020-08-21T07:03:47.894096Z",
     "start_time": "2020-08-21T07:03:39.953899Z"
    },
    "hidden": true
   },
   "outputs": [
    {
     "data": {
      "text/plain": [
       "'ic_200x200.005.21_log.csv'"
      ]
     },
     "execution_count": 16,
     "metadata": {},
     "output_type": "execute_result"
    }
   ],
   "source": [
    "generate_tip_log_from_ic(input_file_name, nsteps=10**3)"
   ]
  },
  {
   "cell_type": "code",
   "execution_count": 10,
   "metadata": {
    "ExecuteTime": {
     "end_time": "2020-08-21T06:58:00.992613Z",
     "start_time": "2020-08-21T06:58:00.968092Z"
    },
    "hidden": true
   },
   "outputs": [
    {
     "data": {
      "text/plain": [
       "3.3333333333333335"
      ]
     },
     "execution_count": 10,
     "metadata": {},
     "output_type": "execute_result"
    }
   ],
   "source": [
    "10**4/10**2*2/60"
   ]
  },
  {
   "cell_type": "code",
   "execution_count": null,
   "metadata": {
    "hidden": true
   },
   "outputs": [],
   "source": []
  }
 ],
 "metadata": {
  "kernelspec": {
   "display_name": "Python 3",
   "language": "python",
   "name": "python3"
  },
  "language_info": {
   "codemirror_mode": {
    "name": "ipython",
    "version": 3
   },
   "file_extension": ".py",
   "mimetype": "text/x-python",
   "name": "python",
   "nbconvert_exporter": "python",
   "pygments_lexer": "ipython3",
   "version": "3.8.5"
  },
  "toc": {
   "base_numbering": 1,
   "nav_menu": {},
   "number_sections": true,
   "sideBar": true,
   "skip_h1_title": false,
   "title_cell": "Table of Contents",
   "title_sidebar": "Contents",
   "toc_cell": false,
   "toc_position": {},
   "toc_section_display": true,
   "toc_window_display": false
  },
  "varInspector": {
   "cols": {
    "lenName": 16,
    "lenType": 16,
    "lenVar": 40
   },
   "kernels_config": {
    "python": {
     "delete_cmd_postfix": "",
     "delete_cmd_prefix": "del ",
     "library": "var_list.py",
     "varRefreshCmd": "print(var_dic_list())"
    },
    "r": {
     "delete_cmd_postfix": ") ",
     "delete_cmd_prefix": "rm(",
     "library": "var_list.r",
     "varRefreshCmd": "cat(var_dic_list()) "
    }
   },
   "types_to_exclude": [
    "module",
    "function",
    "builtin_function_or_method",
    "instance",
    "_Feature"
   ],
   "window_display": false
  }
 },
 "nbformat": 4,
 "nbformat_minor": 4
}
