{
 "cells": [
  {
   "cell_type": "markdown",
   "metadata": {},
   "source": [
    "# dev fast tip detection\n",
    "Tim Tyree<br>\n",
    "10.5.2020"
   ]
  },
  {
   "cell_type": "code",
   "execution_count": 1,
   "metadata": {
    "ExecuteTime": {
     "end_time": "2020-11-05T21:25:33.162688Z",
     "start_time": "2020-11-05T21:25:30.031171Z"
    }
   },
   "outputs": [
    {
     "name": "stdout",
     "output_type": "stream",
     "text": [
      "100000\n",
      "Automatic calling is: Smart\n"
     ]
    }
   ],
   "source": [
    "#pylab\n",
    "%matplotlib inline\n",
    "import numpy as np, pandas as pd, matplotlib.pyplot as plt\n",
    "\n",
    "import skimage as sk\n",
    "from skimage import measure, filters\n",
    "\n",
    "from numba import njit, jit, vectorize\n",
    "from PIL import Image\n",
    "import imageio\n",
    "# import cv2 as cv\n",
    "\n",
    "#automate the boring stuff\n",
    "from IPython import utils\n",
    "import time, os, sys, re\n",
    "beep = lambda x: os.system(\"echo -n '\\\\a';sleep 0.2;\" * x)\n",
    "if not 'nb_dir' in globals():\n",
    "    nb_dir = os.getcwd()\n",
    "# width = 512\n",
    "# height = 512\n",
    "# channel_no = 3\n",
    "\n",
    "# #load the libraries\n",
    "from lib import *\n",
    "# from lib.measure._find_tips_pbc_cy import lookup_segments\n",
    "# from lib.measure._find_tips_kernel import *\n",
    "# from lib.measure._find_tips_kernel_cy import find_intersections\n",
    "#use cuda via numba\n",
    "from numba import jit, njit, vectorize, cuda, uint32, f8, uint8\n",
    "from numba.typed import List\n",
    "# from lib.contours_to_tips import *\n",
    "\n",
    "%autocall 1\n",
    "%load_ext autoreload\n",
    "%autoreload 2"
   ]
  },
  {
   "cell_type": "markdown",
   "metadata": {
    "ExecuteTime": {
     "end_time": "2020-11-05T18:11:51.498570Z",
     "start_time": "2020-11-05T18:09:21.895Z"
    },
    "heading_collapsed": true
   },
   "source": [
    "# dev cythonic acceleration"
   ]
  },
  {
   "cell_type": "markdown",
   "metadata": {
    "heading_collapsed": true,
    "hidden": true
   },
   "source": [
    "## return an example block of 2x2 pixels"
   ]
  },
  {
   "cell_type": "code",
   "execution_count": null,
   "metadata": {
    "hidden": true
   },
   "outputs": [],
   "source": []
  },
  {
   "cell_type": "code",
   "execution_count": 2,
   "metadata": {
    "ExecuteTime": {
     "end_time": "2020-11-05T14:20:05.920677Z",
     "start_time": "2020-11-05T14:20:05.006763Z"
    },
    "hidden": true
   },
   "outputs": [],
   "source": [
    "#load ^that loaded initial after 20000 steps = 500 ms at time_steps of size 0.025\n",
    "file = '/Users/timothytyree/Documents/GitHub/care/notebooks/Data/test_txt.npz'\n",
    "txt  = load_buffer(file)\n",
    "t   = 500 #ms\n",
    "\n",
    "zero_txt = txt.copy()*0.\n",
    "width, height = txt.shape[:2]\n",
    "\n",
    "#compute as discrete flow map dtexture_dt\n",
    "dtexture_dt = zero_txt.copy()\n",
    "get_time_step(txt, dtexture_dt)\n",
    "\n",
    "#compute the images to find isosurfaces of\n",
    "img    = txt[...,0]\n",
    "dimgdt = dtexture_dt[...,0]"
   ]
  },
  {
   "cell_type": "code",
   "execution_count": 3,
   "metadata": {
    "ExecuteTime": {
     "end_time": "2020-11-05T14:20:07.771413Z",
     "start_time": "2020-11-05T14:20:07.749225Z"
    },
    "hidden": true
   },
   "outputs": [],
   "source": [
    "h    = 0.025 #ms\n",
    "tmax = 3500#3025.600-2*h# 886.6-h#6000#600#510#600#505.225# #ms\n",
    "\n",
    "V_threshold = 0.8\n",
    "# jump_threshold = 2 \n",
    "# size_threshold = 0\n",
    "# pad=2\n",
    "# decimals=10\n",
    "\n",
    "\n",
    "array1 = img\n",
    "array2 = dimgdt\n",
    "\n",
    "level1 = 0.4\n",
    "level2 = 0.0"
   ]
  },
  {
   "cell_type": "code",
   "execution_count": 4,
   "metadata": {
    "ExecuteTime": {
     "end_time": "2020-11-05T14:20:09.686263Z",
     "start_time": "2020-11-05T14:20:09.661326Z"
    },
    "hidden": true
   },
   "outputs": [],
   "source": [
    "#for each window\n",
    "r0 = 5\n",
    "c0 = 10\n",
    "# if r1>r0 and c1>c0:\n",
    "win = array1[r0:r0+2,c0:c0+2]\n",
    "#else handle the edge case"
   ]
  },
  {
   "cell_type": "code",
   "execution_count": 5,
   "metadata": {
    "ExecuteTime": {
     "end_time": "2020-11-05T14:20:11.613823Z",
     "start_time": "2020-11-05T14:20:11.589557Z"
    },
    "hidden": true
   },
   "outputs": [],
   "source": [
    "assert (win.shape == (2, 2))"
   ]
  },
  {
   "cell_type": "markdown",
   "metadata": {
    "heading_collapsed": true,
    "hidden": true
   },
   "source": [
    "## dev of helper functions"
   ]
  },
  {
   "cell_type": "code",
   "execution_count": 206,
   "metadata": {
    "ExecuteTime": {
     "end_time": "2020-11-05T05:58:24.834364Z",
     "start_time": "2020-11-05T05:58:24.799831Z"
    },
    "hidden": true
   },
   "outputs": [],
   "source": [
    "# #test based dev of needed functions\n",
    "# def compute_theta(u,v):\n",
    "#     return np.arccos(np.dot(u,v) / (np.linalg.norm(u) * (np.linalg.norm(u))))\n",
    "# def compute_intersect(u,v):\n",
    "#     #NOTE: don't call this if theta = 0.\n",
    "#     pass\n",
    "#     #how is a segment structured?\n",
    "# def _box(u,v):\n",
    "#     pass\n",
    "# #     originx = np.min(u[0])\n",
    "#     #how is a segment structured?\n",
    "# def _is_point_in_box(pt,box):\n",
    "#     x,y = pt\n",
    "#     minx, maxx, miny, maxy = box\n",
    "#     return is_in_box(x,y,minx, maxx, miny, maxy)\n",
    "\n",
    "# theta = compute_theta(u[1]-u[0],v[1]-v[0])\n",
    "# assert (np.isreal(theta))"
   ]
  },
  {
   "cell_type": "code",
   "execution_count": null,
   "metadata": {
    "ExecuteTime": {
     "end_time": "2020-11-05T05:57:39.243143Z",
     "start_time": "2020-11-05T05:57:39.214787Z"
    },
    "hidden": true
   },
   "outputs": [],
   "source": []
  },
  {
   "cell_type": "code",
   "execution_count": 182,
   "metadata": {
    "ExecuteTime": {
     "end_time": "2020-11-05T05:39:35.686673Z",
     "start_time": "2020-11-05T05:39:35.646783Z"
    },
    "hidden": true
   },
   "outputs": [],
   "source": [
    "# def _get_box(u,v):\n",
    "#     minx = np.min((np.min(u[0,:]),np.min(v[0,:])))\n",
    "#     maxx = np.max((np.max(u[0,:]),np.max(v[0,:])))\n",
    "#     miny = np.min((np.min(u[1,:]),np.min(v[1,:])))\n",
    "#     maxy = np.max((np.max(u[1,:]),np.max(v[1,:])))\n",
    "#     return minx, maxx, miny, maxy\n",
    "\n",
    "# def is_in_box(x,y,minx, maxx, miny, maxy):\n",
    "#     return ((x>=minx) & (maxx>=x)) & ((y>=miny) & (maxy>=y))\n",
    "\n",
    "# def intersection_2d_implicit(x1,y1,c1,x2,y2,c2):\n",
    "#     return _intersect_two_lines(x1,y1,c1,x2,y2,c2)\n",
    "# def _intersect_two_lines(a1,b1,c1,a2,b2,c2):\n",
    "#     '''asserts a*x + b*y + c = 0 for <-> collocate both lines.  note this is an involution.'''\n",
    "#     x = (b1*c2 - b2*c1)/(a1*b2 - a2*b1)\n",
    "#     y = (a2*c1 - a1*c2)/(a1*b2 - a2*b1)\n",
    "#     return x,y"
   ]
  },
  {
   "cell_type": "code",
   "execution_count": 219,
   "metadata": {
    "ExecuteTime": {
     "end_time": "2020-11-05T06:06:10.058221Z",
     "start_time": "2020-11-05T06:06:10.014904Z"
    },
    "hidden": true
   },
   "outputs": [],
   "source": [
    "# def find_tips_for_linear_segment_pairs(segments1, segments2):\n",
    "#     '''lst_x,lst_y,lst_grad_ux,lst_grad_uy, lst_theta = find_tips_for_linear_segment_pairs(segments1, segments2)'''\n",
    "#     lst_x = []\n",
    "#     lst_y = []\n",
    "#     lst_grad_ux = []\n",
    "#     lst_grad_uy = []\n",
    "#     lst_theta = []\n",
    "#     #for each segment pair,\n",
    "#     for segment1 in segments1:\n",
    "#         for segment2 in segments2:\n",
    "#             u = np.array(segment1)\n",
    "#             v = np.array(segment2)\n",
    "\n",
    "#             theta = compute_theta(u[1]-u[0],v[1]-v[0])\n",
    "#             if np.abs(theta)>=theta_threshold:\n",
    "#                 continue\n",
    "\n",
    "\n",
    "#             #compute line for segment u\n",
    "#             x1=u[0][0];y1=u[0][1];x2=u[1][0];y2=u[1][1];\n",
    "#             c1 = - x1 - y1 #wlog\n",
    "#             a1,b1 = _intersect_two_lines(x1,y1,c1,x2,y2,c1)\n",
    "#             grad_ux = a1\n",
    "#             grad_uy = b1\n",
    "\n",
    "#             #compute line for segment v\n",
    "#             x1=v[0][0];y1=v[0][1];x2=v[1][0];y2= v[1][1];\n",
    "#             c2 = - x1 - y1 #wlog\n",
    "#             a2,b2 = _intersect_two_lines(x1,y1,c2,x2,y2,c2)\n",
    "#             grad_vx = a2\n",
    "#             grad_vy = b2\n",
    "\n",
    "#             #compute point of intersect\n",
    "#             x,y = _intersect_two_lines(a1,b1,c1,a2,b2,c2)\n",
    "\n",
    "#             #determing if the tip is in the right range\n",
    "#             minx ,maxx, miny, maxy = _get_box(u,v)\n",
    "#             isin = is_in_box(x,y,minx, maxx, miny, maxy)\n",
    "#             if isin:\n",
    "#                 #record all of the data\n",
    "#                 lst_x.append(x)\n",
    "#                 lst_y.append(y)\n",
    "#                 lst_grad_ux.append(grad_ux)\n",
    "#                 lst_grad_uy.append(grad_uy)\n",
    "#                 lst_theta.append(theta)\n",
    "#     return lst_x,lst_y,lst_grad_ux,lst_grad_uy, lst_theta"
   ]
  },
  {
   "cell_type": "code",
   "execution_count": null,
   "metadata": {
    "hidden": true
   },
   "outputs": [],
   "source": []
  },
  {
   "cell_type": "markdown",
   "metadata": {
    "heading_collapsed": true,
    "hidden": true
   },
   "source": [
    "## basic runtime tests of helper functions"
   ]
  },
  {
   "cell_type": "code",
   "execution_count": 6,
   "metadata": {
    "ExecuteTime": {
     "end_time": "2020-11-05T11:16:07.689108Z",
     "start_time": "2020-11-05T11:16:07.662334Z"
    },
    "hidden": true
   },
   "outputs": [],
   "source": [
    "# from lib.measure._find_tips_pbc_cy import lookup_segments\n",
    "# from lib.measure._find_tips_kernel import *"
   ]
  },
  {
   "cell_type": "code",
   "execution_count": 7,
   "metadata": {
    "ExecuteTime": {
     "end_time": "2020-11-05T11:16:09.059457Z",
     "start_time": "2020-11-05T11:16:09.033571Z"
    },
    "hidden": true
   },
   "outputs": [
    {
     "name": "stdout",
     "output_type": "stream",
     "text": [
      "square cases are (0, 0).\n"
     ]
    }
   ],
   "source": [
    "c1 = c0+1\n",
    "r1 = r0+1\n",
    "# theta_threshold = 0.\n",
    "\n",
    "#find any segments for array1\n",
    "#if none are found, continue\n",
    "ul1 = array1[r0, c0]\n",
    "ur1 = array1[r0, c1]\n",
    "ll1 = array1[r1, c0]\n",
    "lr1 = array1[r1, c1]\n",
    "\n",
    "square_case1 = 0\n",
    "if (ul1 > level1): square_case1 += 1\n",
    "if (ur1 > level1): square_case1 += 2\n",
    "if (ll1 > level1): square_case1 += 4\n",
    "if (lr1 > level1): square_case1 += 8\n",
    "\n",
    "#find any segments for array2\n",
    "ul2 = array2[r0, c0]\n",
    "ur2 = array2[r0, c1]\n",
    "ll2 = array2[r1, c0]\n",
    "lr2 = array2[r1, c1]\n",
    "\n",
    "square_case2 = 0\n",
    "if (ul2 > level2): square_case2 += 1\n",
    "if (ur2 > level2): square_case2 += 2\n",
    "if (ll2 > level2): square_case2 += 4\n",
    "if (lr2 > level2): square_case2 += 8\n",
    "    \n",
    "    \n",
    "print(f\"square cases are {square_case1,square_case2}.\")"
   ]
  },
  {
   "cell_type": "code",
   "execution_count": 9,
   "metadata": {
    "ExecuteTime": {
     "end_time": "2020-11-05T11:16:39.145091Z",
     "start_time": "2020-11-05T11:16:39.111482Z"
    },
    "hidden": true
   },
   "outputs": [
    {
     "name": "stdout",
     "output_type": "stream",
     "text": [
      "square_cast_test\n",
      "11\n",
      "\n",
      "segments\n",
      "[((6, 69.33376017224546), (-317.63167595276815, 10))]\n",
      "[((6, 2.3278207963801227), (64.59618779161626, 10))]\n",
      "\n",
      "lst_x,lst_y,lst_grad_ux,lst_grad_uy, lst_theta\n",
      "[] [] [] [] []\n"
     ]
    }
   ],
   "source": [
    "#suppose some nontrivial square_cast_test\n",
    "square_cast_test = 11\n",
    "square_case1 = square_cast_test\n",
    "square_case2 = square_cast_test\n",
    "\n",
    "print(\"square_cast_test\")\n",
    "print(square_cast_test)\n",
    "\n",
    "\n",
    "segments1 = lookup_segments(ul1,ll1,ur1,lr1,r0,r1,c0,c1,level1,square_case1)\n",
    "segments2 = lookup_segments(ul2,ll2,ur2,lr2,r0,r1,c0,c1,level2,square_case2)\n",
    "\n",
    "print(\"\\nsegments\")\n",
    "print (segments1)\n",
    "print (segments2)\n",
    "\n",
    "#TODO: test this find_tips for a few nontrivial use cases\n",
    "lst_x,lst_y,lst_grad_ux,lst_grad_uy, lst_theta = find_tips_for_linear_segment_pairs(segments1, segments2)\n",
    "\n",
    "print(\"\\nlst_x,lst_y,lst_grad_ux,lst_grad_uy, lst_theta\")\n",
    "print(lst_x,lst_y,lst_grad_ux,lst_grad_uy, lst_theta)"
   ]
  },
  {
   "cell_type": "code",
   "execution_count": 10,
   "metadata": {
    "ExecuteTime": {
     "end_time": "2020-11-05T11:16:42.696856Z",
     "start_time": "2020-11-05T11:16:42.657362Z"
    },
    "hidden": true
   },
   "outputs": [
    {
     "name": "stdout",
     "output_type": "stream",
     "text": [
      "square_cast_test\n",
      "1\n",
      "\n",
      "segments\n",
      "[((5, 67.40636330363434), (-317.63167595276815, 10))]\n",
      "[((5, 2.4133811315340115), (64.59618779161626, 10))]\n",
      "\n",
      "lst_x,lst_y,lst_grad_ux,lst_grad_uy, lst_theta\n",
      "[] [] [] [] []\n"
     ]
    }
   ],
   "source": [
    "#suppose some nontrivial square_cast_test\n",
    "square_cast_test = 1\n",
    "square_case1 = square_cast_test\n",
    "square_case2 = square_cast_test\n",
    "\n",
    "print(\"square_cast_test\")\n",
    "print(square_cast_test)\n",
    "\n",
    "#TODO: read for errors in lookup_segments\n",
    "segments1 = lookup_segments(ul1,ll1,ur1,lr1,r0,r1,c0,c1,level1,square_case1)\n",
    "segments2 = lookup_segments(ul2,ll2,ur2,lr2,r0,r1,c0,c1,level2,square_case2)\n",
    "\n",
    "print(\"\\nsegments\")\n",
    "print (segments1)\n",
    "print (segments2)\n",
    "\n",
    "#TODO: test this find_tips for a few nontrivial use cases\n",
    "lst_x,lst_y,lst_grad_ux,lst_grad_uy, lst_theta = find_tips_for_linear_segment_pairs(segments1, segments2)\n",
    "\n",
    "print(\"\\nlst_x,lst_y,lst_grad_ux,lst_grad_uy, lst_theta\")\n",
    "print(lst_x,lst_y,lst_grad_ux,lst_grad_uy, lst_theta)"
   ]
  },
  {
   "cell_type": "code",
   "execution_count": 11,
   "metadata": {
    "ExecuteTime": {
     "end_time": "2020-11-05T11:16:44.045928Z",
     "start_time": "2020-11-05T11:16:44.018770Z"
    },
    "hidden": true
   },
   "outputs": [],
   "source": [
    "#test theta is real\n",
    "# theta = compute_theta(u[1]-u[0],v[1]-v[0])\n",
    "# assert (np.isreal(theta))\n"
   ]
  },
  {
   "cell_type": "code",
   "execution_count": 12,
   "metadata": {
    "ExecuteTime": {
     "end_time": "2020-11-05T11:16:45.384503Z",
     "start_time": "2020-11-05T11:16:45.363318Z"
    },
    "hidden": true
   },
   "outputs": [],
   "source": [
    "#TODO: test this find_tips for a few edge use cases\n"
   ]
  },
  {
   "cell_type": "code",
   "execution_count": 13,
   "metadata": {
    "ExecuteTime": {
     "end_time": "2020-11-05T11:16:46.806311Z",
     "start_time": "2020-11-05T11:16:46.784079Z"
    },
    "hidden": true
   },
   "outputs": [],
   "source": [
    "#TODO: put all this functionality into a .py file\n",
    "\n",
    "#TODO: find all tips in a canvas.  Do they make sense?"
   ]
  },
  {
   "cell_type": "markdown",
   "metadata": {
    "heading_collapsed": true,
    "hidden": true
   },
   "source": [
    "## scratchwerk"
   ]
  },
  {
   "cell_type": "code",
   "execution_count": 195,
   "metadata": {
    "ExecuteTime": {
     "end_time": "2020-11-05T05:49:03.782055Z",
     "start_time": "2020-11-05T05:49:03.755480Z"
    },
    "hidden": true
   },
   "outputs": [],
   "source": [
    "\n",
    "# # minx,maxx, miny, maxx\n",
    "# if is_in_box(x,y,minx, maxx, miny, maxy):\n",
    "#     pass\n",
    "#     #TODO record/return values for this spiral tip"
   ]
  },
  {
   "cell_type": "code",
   "execution_count": 184,
   "metadata": {
    "ExecuteTime": {
     "end_time": "2020-11-05T05:39:50.112295Z",
     "start_time": "2020-11-05T05:39:50.085340Z"
    },
    "hidden": true
   },
   "outputs": [],
   "source": [
    "#if any Vx or Vy is zero\n",
    "#we are guarenteed for Vx or Vy not 0\n",
    "\n",
    "# intersection_2d_implicit(x1=u[1][1],y1=u[0][1],c1=0.,x2=u[1][0],y2=u[1][1],c2=0.)"
   ]
  },
  {
   "cell_type": "code",
   "execution_count": 216,
   "metadata": {
    "ExecuteTime": {
     "end_time": "2020-11-05T06:05:07.577831Z",
     "start_time": "2020-11-05T06:05:07.549572Z"
    },
    "hidden": true
   },
   "outputs": [],
   "source": [
    "# px, py, dx, dy = solve_ray_implicitly(x1,y1,x2,y2)\n",
    "\n",
    "# boox = (d1x == 0) or (d2x == 0)\n",
    "# if boox:\n",
    "#     x = p1x\n",
    "#     y = _intersect_1d(p1y,v1y,p2y,v2y)\n",
    "# else:\n",
    "#     booy = (d1y == 0) or (d2y == 0)\n",
    "#     if booy:\n",
    "#         y = p1y\n",
    "#         x = _intersect_1d(p1x,v1x,p2x,v2x)\n",
    "#     else:\n",
    "#         print('fuck')\n",
    "#         pass\n",
    "#         # the Y matrix is not degenerate,\n"
   ]
  },
  {
   "cell_type": "code",
   "execution_count": 167,
   "metadata": {
    "ExecuteTime": {
     "end_time": "2020-11-05T05:34:13.515670Z",
     "start_time": "2020-11-05T05:34:13.475161Z"
    },
    "hidden": true
   },
   "outputs": [],
   "source": [
    "# def _intersect_1d(px1,vx1,px2,vx2):\n",
    "#     t = vx1/px1\n",
    "#     x = px2 + vx2*t\n",
    "#     return x\n",
    "\n",
    "# def _get_bounding_box(x1,x2,y1,y2):\n",
    "#     minx = np.min((x1,x2))\n",
    "#     maxx = np.max((x1,x2))\n",
    "#     miny = np.min((y1,y2))\n",
    "#     maxy = np.max((y1,y2))\n",
    "#     return minx,maxx, miny, maxx"
   ]
  },
  {
   "cell_type": "code",
   "execution_count": 220,
   "metadata": {
    "ExecuteTime": {
     "end_time": "2020-11-05T06:06:24.976189Z",
     "start_time": "2020-11-05T06:06:24.949820Z"
    },
    "hidden": true
   },
   "outputs": [],
   "source": [
    "# def _intersect_1d():\n",
    "#     #compute the time\n",
    "#     pass"
   ]
  },
  {
   "cell_type": "code",
   "execution_count": 221,
   "metadata": {
    "ExecuteTime": {
     "end_time": "2020-11-05T06:06:25.433219Z",
     "start_time": "2020-11-05T06:06:25.409586Z"
    },
    "hidden": true
   },
   "outputs": [],
   "source": [
    "# def compute_intersect(u,v):\n",
    "#DONE: refer to old implementation -- it doesn't make obvious sense\n",
    "#DONE: refer to recent linear algebra solution (handwritten)\n"
   ]
  },
  {
   "cell_type": "code",
   "execution_count": 132,
   "metadata": {
    "ExecuteTime": {
     "end_time": "2020-11-05T05:05:32.945219Z",
     "start_time": "2020-11-05T05:05:32.916845Z"
    },
    "hidden": true
   },
   "outputs": [],
   "source": [
    "# #all double arguments\n",
    "# def solve_line_explicitly(x1,y1,x2,y2):\n",
    "#     dx = x2-x1\n",
    "    \n",
    "#     #\n",
    "#     if np.isclose(dx,0):\n",
    "#         #TODO: reverse\n",
    "#         m,b  = solve_line_explicitly(x1,y1,x2,y2)\n",
    "#         return 1/m,b #we cannot have infinites here\n",
    "#         #TODO: reverse\n",
    "#     else:\n",
    "#         m = (y2 - y1 ) / dx\n",
    "#         b = m*x1 + y1\n",
    "#         return m, b\n",
    "#     if np.isclose(dx,0):\n",
    "#         #TODO: reverse\n",
    "#         m,b  = solve_line_explicitly(x1,y1,x2,y2)\n",
    "#         return 1/m,b #we cannot have infinites here\n",
    "#         #TODO: reverse\n",
    "#     else:\n",
    "#         m = (y2 - y1 ) / dx\n",
    "#         b = m*x1 + y1\n",
    "#         return m, b\n",
    "    \n",
    "# #all double arguments\n",
    "# def solve_ray_implicitly(x1,y1,x2,y2):\n",
    "#     '''solves p + d * t = 0 for p and d\n",
    "#     maps position1 to position2 in \"time\" t=1\n",
    "#     px, py, dx, dy = solve_ray_implicitly(x1,y1,x2,y2)\n",
    "#     '''\n",
    "#     px = x1\n",
    "#     py = x2\n",
    "#     dx = x2-x1\n",
    "#     dy = x2-x1\n",
    "#     return px, py, dx, dy\n",
    "\n"
   ]
  },
  {
   "cell_type": "code",
   "execution_count": 135,
   "metadata": {
    "ExecuteTime": {
     "end_time": "2020-11-05T05:14:10.240439Z",
     "start_time": "2020-11-05T05:14:10.206111Z"
    },
    "hidden": true
   },
   "outputs": [],
   "source": [
    "# def intersect_of_two_lines_explicitly(m1,b1,m2,b2):\n",
    "#     dm = m2 - m1\n",
    "#     x = (b1-b2)/dm\n",
    "#     y = m1*x + b1\n",
    "#     if np.isclose(dm,0):\n",
    "#         #TODO: reverse\n",
    "# #  intersect_of_two_lines_explicitly(m1,b1,m2,b2)\n",
    "#         #TODO: reverse\n",
    "#         pass\n",
    "#     mx = (y2 - y1 ) / dx\n",
    "#     b = m*x1 + y1\n",
    "#     return m, b\n",
    "\n",
    "# def get_time_on_line(p,d,x):\n",
    "#     assert(dx!=0)\n",
    "#     return px/dx\n",
    "\n",
    "# def intersect_of_two_lines_implicitly(px1, py1, dx1, dy1, px2, py2, dx2, dy2):\n",
    "#     a,b,c = _compute_line(px1, py1, dx1, dy1)\n",
    "#     a,b,c = _compute_line(px2, py2, dx2, dy2)\n",
    "\n",
    "    "
   ]
  },
  {
   "cell_type": "code",
   "execution_count": 83,
   "metadata": {
    "ExecuteTime": {
     "end_time": "2020-11-05T02:58:12.657572Z",
     "start_time": "2020-11-05T02:58:12.629335Z"
    },
    "hidden": true
   },
   "outputs": [],
   "source": [
    "\n",
    "# p1x, p1y, d1x, d1y = solve_line_implicitly(x1=u[0][0],y1=u[0][1],x2=u[1][0],y2=u[1][1])\n",
    "# p2x, p2y, d2x, d2y = solve_line_implicitly(x1=v[0][0],y1=v[0][1],x2=v[1][0],y2=v[1][1])"
   ]
  },
  {
   "cell_type": "code",
   "execution_count": 120,
   "metadata": {
    "ExecuteTime": {
     "end_time": "2020-11-05T05:03:41.072903Z",
     "start_time": "2020-11-05T05:03:41.043778Z"
    },
    "hidden": true
   },
   "outputs": [],
   "source": [
    "#DONE: is_in_box\n",
    "#DONE: minx,maxx, miny, maxy = _box(u,v)\n",
    "# def _box(u,v):\n",
    "#     return minx,maxx, miny, maxx"
   ]
  },
  {
   "cell_type": "markdown",
   "metadata": {
    "ExecuteTime": {
     "end_time": "2020-11-05T04:01:46.504161Z",
     "start_time": "2020-11-05T04:01:46.459449Z"
    },
    "heading_collapsed": true,
    "hidden": true
   },
   "source": [
    "## DONE: test cases for fast tip detection kernel\n",
    "11.5.2020"
   ]
  },
  {
   "cell_type": "markdown",
   "metadata": {
    "heading_collapsed": true,
    "hidden": true
   },
   "source": [
    "## simple test cases"
   ]
  },
  {
   "cell_type": "markdown",
   "metadata": {
    "ExecuteTime": {
     "end_time": "2020-11-05T12:12:51.181336Z",
     "start_time": "2020-11-05T12:12:51.154978Z"
    },
    "heading_collapsed": true,
    "hidden": true
   },
   "source": [
    "### DONE: simple test case #1"
   ]
  },
  {
   "cell_type": "code",
   "execution_count": 6,
   "metadata": {
    "ExecuteTime": {
     "end_time": "2020-11-05T14:20:16.207095Z",
     "start_time": "2020-11-05T14:20:16.180075Z"
    },
    "hidden": true
   },
   "outputs": [],
   "source": [
    "#test case #1 - single intersection\n",
    "c0 = 0\n",
    "r0 = 0\n",
    "array1 = np.array([[0.,0.],[1.,1.]])\n",
    "array2 = np.array([[0.,0.5],[0.,1.]])\n",
    "\n",
    "theta_threshold = 0.\n",
    "level1 = 0.5\n",
    "level2 = 0.5"
   ]
  },
  {
   "cell_type": "code",
   "execution_count": 7,
   "metadata": {
    "ExecuteTime": {
     "end_time": "2020-11-05T14:20:18.181127Z",
     "start_time": "2020-11-05T14:20:18.149595Z"
    },
    "hidden": true
   },
   "outputs": [
    {
     "name": "stdout",
     "output_type": "stream",
     "text": [
      "square cases are (12, 8).\n",
      "There may be multiple intersections if either segments are case 6 or 9.\n"
     ]
    }
   ],
   "source": [
    "c1 = c0+1\n",
    "r1 = r0+1\n",
    "\n",
    "#find any segments for array1\n",
    "#if none are found, continue\n",
    "ul1 = array1[r0, c0]\n",
    "ur1 = array1[r0, c1]\n",
    "ll1 = array1[r1, c0]\n",
    "lr1 = array1[r1, c1]\n",
    "\n",
    "square_case1 = 0\n",
    "if (ul1 > level1): square_case1 += 1\n",
    "if (ur1 > level1): square_case1 += 2\n",
    "if (ll1 > level1): square_case1 += 4\n",
    "if (lr1 > level1): square_case1 += 8\n",
    "\n",
    "#find any segments for array2\n",
    "ul2 = array2[r0, c0]\n",
    "ur2 = array2[r0, c1]\n",
    "ll2 = array2[r1, c0]\n",
    "lr2 = array2[r1, c1]\n",
    "\n",
    "square_case2 = 0\n",
    "if (ul2 > level2): square_case2 += 1\n",
    "if (ur2 > level2): square_case2 += 2\n",
    "if (ll2 > level2): square_case2 += 4\n",
    "if (lr2 > level2): square_case2 += 8\n",
    "    \n",
    "print(f\"square cases are {square_case1,square_case2}.\")\n",
    "print(f\"There may be multiple intersections if either segments are case 6 or 9.\")"
   ]
  },
  {
   "cell_type": "code",
   "execution_count": 8,
   "metadata": {
    "ExecuteTime": {
     "end_time": "2020-11-05T14:20:20.484095Z",
     "start_time": "2020-11-05T14:20:20.443965Z"
    },
    "hidden": true
   },
   "outputs": [
    {
     "name": "stdout",
     "output_type": "stream",
     "text": [
      "array1\n",
      "[[0. 0.]\n",
      " [1. 1.]]\n",
      "\n",
      "segments1\n",
      "[((0.5, 0), (0.5, 1))]\n",
      "\n",
      "array2\n",
      "[[0.  0.5]\n",
      " [0.  1. ]]\n",
      "\n",
      "segments2\n",
      "[((1, 0.5), (0.0, 1))]\n",
      "\n",
      "lst_x,lst_y,lst_theta, lst_grad_ux, lst_grad_uy, lst_grad_vx, lst_grad_vy\n",
      "[0.75] [0.5] [1.0471975511965976] [-0.0] [1.0] [1.5] [0.75]\n"
     ]
    }
   ],
   "source": [
    "#TODO: read for errors in lookup_segments\n",
    "segments1 = lookup_segments(ul1,ll1,ur1,lr1,r0,r1,c0,c1,level1,square_case1)\n",
    "segments2 = lookup_segments(ul2,ll2,ur2,lr2,r0,r1,c0,c1,level2,square_case2)\n",
    "\n",
    "print(\"array1\")\n",
    "print(array1)\n",
    "print(\"\\nsegments1\")\n",
    "print (segments1)\n",
    "\n",
    "print(\"\\narray2\")\n",
    "print(array2)\n",
    "print(\"\\nsegments2\")\n",
    "print (segments2)\n",
    "\n",
    "#TODO: test this find_tips for a few nontrivial use cases\n",
    "lst_x,lst_y,lst_theta, lst_grad_ux, lst_grad_uy, lst_grad_vx, lst_grad_vy = find_tips_for_linear_segment_pairs(segments1, segments2, r0, c0)\n",
    "\n",
    "print(\"\\nlst_x,lst_y,lst_theta, lst_grad_ux, lst_grad_uy, lst_grad_vx, lst_grad_vy\")\n",
    "print(lst_x,lst_y,lst_theta, lst_grad_ux, lst_grad_uy, lst_grad_vx, lst_grad_vy)"
   ]
  },
  {
   "cell_type": "code",
   "execution_count": 9,
   "metadata": {
    "ExecuteTime": {
     "end_time": "2020-11-05T14:20:23.607409Z",
     "start_time": "2020-11-05T14:20:23.580343Z"
    },
    "hidden": true
   },
   "outputs": [],
   "source": [
    "#test case #1 for fast tip detection kernel\n",
    "assert ( lst_x == [0.75] ) \n",
    "assert ( lst_y == [0.5] ) \n",
    "assert ( lst_theta == [1.0471975511965976]  ) \n",
    "assert ( lst_grad_ux == [0.] )\n",
    "assert ( lst_grad_uy[0] > 0. )\n",
    "assert ( lst_grad_vx[0]/lst_grad_vy[0] == 2. )"
   ]
  },
  {
   "cell_type": "markdown",
   "metadata": {
    "heading_collapsed": true,
    "hidden": true
   },
   "source": [
    "### TODO: simple test case #2"
   ]
  },
  {
   "cell_type": "code",
   "execution_count": 10,
   "metadata": {
    "ExecuteTime": {
     "end_time": "2020-11-05T14:20:26.809229Z",
     "start_time": "2020-11-05T14:20:26.782670Z"
    },
    "hidden": true
   },
   "outputs": [],
   "source": [
    "#TODO: test case #2' - double intersection\n",
    "c0 = 0\n",
    "c1 = 0\n",
    "\n",
    "array1 = np.array([[0.,1.],[1.,0.]])\n",
    "array2 = np.array([[1.,1.],[0.,1.]])\n",
    "\n",
    "# #yields 2 intersections\n",
    "# array1 = np.array([[0.,1.],[1.,0.]])\n",
    "# array2 = np.array([[0.,0.],[1.,1.]])\n",
    "\n",
    "# array1 = np.array([[0.,1.1],[1.1,0.]])\n",
    "# array2 = np.array([[0.,0.],[1.,1.]])\n",
    "\n",
    "\n",
    "# array1 = np.array([[0.,0.9],[0.9,0.]])\n",
    "# array2 = np.array([[0.,0.],[1.,1.]])\n",
    "\n",
    "# array1 = np.array([[0.,.5],[.5,0.]])\n",
    "# array2 = np.array([[0.,0.],[1.,1.]])\n",
    "\n",
    "theta_threshold = 0.\n",
    "level1 = 0.5\n",
    "level2 = 0.5"
   ]
  },
  {
   "cell_type": "code",
   "execution_count": 11,
   "metadata": {
    "ExecuteTime": {
     "end_time": "2020-11-05T14:20:33.032873Z",
     "start_time": "2020-11-05T14:20:32.995929Z"
    },
    "hidden": true
   },
   "outputs": [
    {
     "name": "stdout",
     "output_type": "stream",
     "text": [
      "square cases are (6, 11).\n",
      "There may be multiple intersections if either segments are case 6 or 9.\n"
     ]
    }
   ],
   "source": [
    "c1 = c0+1\n",
    "r1 = r0+1\n",
    "\n",
    "#find any segments for array1\n",
    "#if none are found, continue\n",
    "ul1 = array1[r0, c0]\n",
    "ur1 = array1[r0, c1]\n",
    "ll1 = array1[r1, c0]\n",
    "lr1 = array1[r1, c1]\n",
    "\n",
    "square_case1 = 0\n",
    "if (ul1 > level1): square_case1 += 1\n",
    "if (ur1 > level1): square_case1 += 2\n",
    "if (ll1 > level1): square_case1 += 4\n",
    "if (lr1 > level1): square_case1 += 8\n",
    "\n",
    "#find any segments for array2\n",
    "ul2 = array2[r0, c0]\n",
    "ur2 = array2[r0, c1]\n",
    "ll2 = array2[r1, c0]\n",
    "lr2 = array2[r1, c1]\n",
    "\n",
    "square_case2 = 0\n",
    "if (ul2 > level2): square_case2 += 1\n",
    "if (ur2 > level2): square_case2 += 2\n",
    "if (ll2 > level2): square_case2 += 4\n",
    "if (lr2 > level2): square_case2 += 8\n",
    "    \n",
    "print(f\"square cases are {square_case1,square_case2}.\")\n",
    "print(f\"There may be multiple intersections if either segments are case 6 or 9.\")"
   ]
  },
  {
   "cell_type": "code",
   "execution_count": 12,
   "metadata": {
    "ExecuteTime": {
     "end_time": "2020-11-05T14:20:37.779946Z",
     "start_time": "2020-11-05T14:20:37.742372Z"
    },
    "hidden": true
   },
   "outputs": [
    {
     "name": "stdout",
     "output_type": "stream",
     "text": [
      "array1\n",
      "[[0. 1.]\n",
      " [1. 0.]]\n",
      "\n",
      "segments1\n",
      "[((0.5, 1), (0, 0.5)), ((0.5, 0), (1, 0.5))]\n",
      "\n",
      "array2\n",
      "[[1. 1.]\n",
      " [0. 1.]]\n",
      "\n",
      "segments2\n",
      "[((1, 0.5), (0.5, 0))]\n",
      "\n",
      "lst_x,lst_y,lst_theta, lst_grad_ux, lst_grad_uy, lst_grad_vx, lst_grad_vy\n",
      "[] [] [] [] [] [] []\n"
     ]
    }
   ],
   "source": [
    "#TODO: read for errors in lookup_segments\n",
    "segments1 = lookup_segments(ul1,ll1,ur1,lr1,r0,r1,c0,c1,level1,square_case1)\n",
    "segments2 = lookup_segments(ul2,ll2,ur2,lr2,r0,r1,c0,c1,level2,square_case2)\n",
    "\n",
    "print(\"array1\")\n",
    "print(array1)\n",
    "print(\"\\nsegments1\")\n",
    "print (segments1)\n",
    "\n",
    "print(\"\\narray2\")\n",
    "print(array2)\n",
    "print(\"\\nsegments2\")\n",
    "print (segments2)\n",
    "\n",
    "#TODO: test this find_tips for a few nontrivial use cases\n",
    "lst_x,lst_y,lst_theta, lst_grad_ux, lst_grad_uy, lst_grad_vx, lst_grad_vy = find_tips_for_linear_segment_pairs(segments1, segments2, r0, c0)\n",
    "\n",
    "print(\"\\nlst_x,lst_y,lst_theta, lst_grad_ux, lst_grad_uy, lst_grad_vx, lst_grad_vy\")\n",
    "print(lst_x,lst_y,lst_theta, lst_grad_ux, lst_grad_uy, lst_grad_vx, lst_grad_vy)"
   ]
  },
  {
   "cell_type": "code",
   "execution_count": 31,
   "metadata": {
    "ExecuteTime": {
     "end_time": "2020-11-05T12:19:39.955697Z",
     "start_time": "2020-11-05T12:19:39.927153Z"
    },
    "hidden": true
   },
   "outputs": [
    {
     "data": {
      "text/plain": [
       "array([[0.44444444, 1.        ],\n",
       "       [0.        , 0.55555556]])"
      ]
     },
     "execution_count": 31,
     "metadata": {},
     "output_type": "execute_result"
    }
   ],
   "source": [
    "np.array(segments1[0])#[0,:]"
   ]
  },
  {
   "cell_type": "code",
   "execution_count": null,
   "metadata": {
    "ExecuteTime": {
     "end_time": "2020-11-05T12:23:31.098092Z",
     "start_time": "2020-11-05T12:23:31.068773Z"
    },
    "hidden": true
   },
   "outputs": [],
   "source": []
  },
  {
   "cell_type": "code",
   "execution_count": null,
   "metadata": {
    "hidden": true
   },
   "outputs": [],
   "source": [
    "#^this isn't working the way it aughta.\n",
    "#The nested for loop should be right"
   ]
  },
  {
   "cell_type": "markdown",
   "metadata": {
    "heading_collapsed": true,
    "hidden": true
   },
   "source": [
    "## practical test case for fast tip detection kernel"
   ]
  },
  {
   "cell_type": "code",
   "execution_count": 18,
   "metadata": {
    "ExecuteTime": {
     "end_time": "2020-11-05T21:35:20.138941Z",
     "start_time": "2020-11-05T21:35:20.094043Z"
    },
    "hidden": true
   },
   "outputs": [],
   "source": [
    "#load ^that loaded initial after 20000 steps = 500 ms at time_steps of size 0.025\n",
    "file = '/Users/timothytyree/Documents/GitHub/care/notebooks/Data/test_txt.npz'\n",
    "txt  = load_buffer(file)\n",
    "t   = 500 #ms\n",
    "\n",
    "zero_txt = txt.copy()*0.\n",
    "width, height = txt.shape[:2]\n",
    "\n",
    "#compute as discrete flow map dtxt_dt\n",
    "dtxt_dt = zero_txt.copy()\n",
    "get_time_step(txt, dtxt_dt)\n",
    "\n",
    "#compute the images to find isosurfaces of\n",
    "img    = txt[...,0]\n",
    "dimgdt = dtxt_dt[...,0]\n",
    "\n",
    "#def find_tips_kernel(array1,array2,level1,level2,theta_threshold=0.):\n",
    "array1 = img\n",
    "array2 = dimgdt\n",
    "level1 = 0.4\n",
    "level2 = 0.0\n",
    "theta_threshold = 0.#1.3\n",
    "\n"
   ]
  },
  {
   "cell_type": "code",
   "execution_count": 19,
   "metadata": {
    "ExecuteTime": {
     "end_time": "2020-11-05T21:35:29.414409Z",
     "start_time": "2020-11-05T21:35:29.277493Z"
    },
    "hidden": true
   },
   "outputs": [
    {
     "name": "stdout",
     "output_type": "stream",
     "text": [
      "10\n"
     ]
    }
   ],
   "source": [
    "lst_values_x = []\n",
    "lst_values_y = []\n",
    "lst_values_theta = []\n",
    "lst_values_grad_ux = []\n",
    "lst_values_grad_uy = []\n",
    "lst_values_grad_vx = []\n",
    "lst_values_grad_vy = []\n",
    "for c0 in range(height):\n",
    "    for r0 in range(width):\n",
    "        c1 = c0+1\n",
    "        r1 = r0+1\n",
    "\n",
    "        r1loc = r1\n",
    "        if r1loc >= height:\n",
    "                r1loc = 0\n",
    "        c1loc = c1\n",
    "        if c1loc >= height:\n",
    "                c1loc = 0\n",
    "    \n",
    "        #find any segments for array1\n",
    "        #if none are found, continue\n",
    "        ul1 = array1[r0, c0]\n",
    "        ur1 = array1[r0, c1loc]\n",
    "        ll1 = array1[r1loc, c0]\n",
    "        lr1 = array1[r1loc, c1loc]\n",
    "\n",
    "        square_case1 = 0\n",
    "        if (ul1 > level1): square_case1 += 1\n",
    "        if (ur1 > level1): square_case1 += 2\n",
    "        if (ll1 > level1): square_case1 += 4\n",
    "        if (lr1 > level1): square_case1 += 8\n",
    "\n",
    "        if square_case1 in [0, 15]:\n",
    "            # only do anything if there's a line passing through the\n",
    "            # square. Cases 0 and 15 are entirely below/above the contour.\n",
    "            continue    \n",
    "\n",
    "        #find any segments for array2\n",
    "        ul2 = array2[r0, c0]\n",
    "        ur2 = array2[r0, c1loc]\n",
    "        ll2 = array2[r1loc, c0]\n",
    "        lr2 = array2[r1loc, c1loc]\n",
    "\n",
    "        square_case2 = 0\n",
    "        if (ul2 > level2): square_case2 += 1\n",
    "        if (ur2 > level2): square_case2 += 2\n",
    "        if (ll2 > level2): square_case2 += 4\n",
    "        if (lr2 > level2): square_case2 += 8\n",
    "\n",
    "        if square_case2 in [0, 15]:\n",
    "            # only do anything if there's a line passing through the\n",
    "            # square. Cases 0 and 15 are entirely below/above the contour.\n",
    "            continue\n",
    "\n",
    "        segments1 = lookup_segments(ul1,ll1,ur1,lr1,r0,r1,c0,c1,level1,square_case1)\n",
    "        segments2 = lookup_segments(ul2,ll2,ur2,lr2,r0,r1,c0,c1,level2,square_case2)\n",
    "\n",
    "        lst_x,lst_y,lst_theta, lst_grad_ux, lst_grad_uy, lst_grad_vx, lst_grad_vy = find_tips_for_linear_segment_pairs(segments1, segments2, r0, c0)\n",
    "\n",
    "        lst_values_x.extend(lst_x)\n",
    "        lst_values_y.extend(lst_y)\n",
    "        lst_values_theta.extend(lst_theta)\n",
    "        lst_values_grad_ux.extend(lst_grad_ux)\n",
    "        lst_values_grad_uy.extend(lst_grad_uy)\n",
    "        lst_values_grad_vx.extend(lst_grad_vx)\n",
    "        lst_values_grad_vy.extend(lst_grad_vy)\n",
    "\n",
    "dict_out = {'x':lst_values_x,'y':lst_values_y,\n",
    "            'theta':lst_values_theta,\n",
    "            'grad_ux':lst_values_grad_ux,'grad_uy':lst_values_grad_uy,\n",
    "            'grad_vx':lst_values_grad_vx,'grad_vy':lst_values_grad_vy\n",
    "           }        \n",
    "# print(dict_out)     \n",
    "# print(*lst_values_x)     \n",
    "print(len(lst_values_x))"
   ]
  },
  {
   "cell_type": "code",
   "execution_count": 20,
   "metadata": {
    "ExecuteTime": {
     "end_time": "2020-11-05T21:35:33.049046Z",
     "start_time": "2020-11-05T21:35:31.032089Z"
    },
    "hidden": true
   },
   "outputs": [
    {
     "name": "stdout",
     "output_type": "stream",
     "text": [
      "10\n"
     ]
    }
   ],
   "source": [
    "#compare to incombent method\n",
    "V_threshold = 0.4\n",
    "jump_threshold = 2 \n",
    "size_threshold = 0\n",
    "pad=2\n",
    "decimals=9\n",
    "\n",
    "#compute as discrete flow map dtxt_dt\n",
    "dtxt_dt = zero_txt.copy()\n",
    "get_time_step(txt, dtxt_dt)\n",
    "\n",
    "#compute the images to find isosurfaces of\n",
    "img    = txt[...,0]\n",
    "dimgdt = dtxt_dt[...,0]\n",
    "\n",
    "#compute both families of contours\n",
    "#appears to work     contours1 = find_contours(img,    level = 0.5)\n",
    "contours1 = find_contours(img,    level = V_threshold)\n",
    "contours2 = find_contours(dimgdt, level = 0.0)\n",
    "\n",
    "#find_tips and measure tip topological/EP state\n",
    "s1_list, s2_list, x_lst, y_lst, v_lst, f_lst, s_lst = measure_system(contours1, contours2, width, height, txt, \n",
    "                                                                 jump_threshold = jump_threshold, \n",
    "                                                                 size_threshold = size_threshold, \n",
    "                                                                 pad=pad, decimals=decimals)\n",
    "n_tips = x_lst.size\n",
    "dict_out = {\n",
    "'t': float(t),\n",
    "'n': int(n_tips),\n",
    "'x': tuple(x_lst),\n",
    "'y': tuple(y_lst),\n",
    "'n1': tuple(s1_list),\n",
    "'n2': tuple(s2_list),\n",
    "'v':v_lst,\n",
    "'f':f_lst,\n",
    "'s':s_lst,\n",
    "}\n",
    "\n",
    "x_values = dict_out['x']\n",
    "y_values = dict_out['y']\n",
    "# print(x_values)\n",
    "# print(y_values)\n",
    "print(len(x_values))"
   ]
  },
  {
   "cell_type": "code",
   "execution_count": 24,
   "metadata": {
    "ExecuteTime": {
     "end_time": "2020-11-05T21:36:01.373223Z",
     "start_time": "2020-11-05T21:36:00.877560Z"
    },
    "hidden": true
   },
   "outputs": [
    {
     "name": "stdout",
     "output_type": "stream",
     "text": [
      "figure saved in example_ic_200x200.120.32_t_500.000_V_0.4.png.\n"
     ]
    },
    {
     "data": {
      "image/png": "[encoded data removed]",
      "text/plain": [
       "<Figure size 432x432 with 1 Axes>"
      ]
     },
     "metadata": {
      "needs_background": "light"
     },
     "output_type": "display_data"
    }
   ],
   "source": [
    "#TODO: plot these tips with their u's and v's\n",
    "# Display the image and plot all pbc contours found properly!\n",
    "save = True\n",
    "fig, ax = plt.subplots(figsize=(6,6))\n",
    "# fig, axs = plt.subplots(ncols = 2, figsize=(8,4))\n",
    "# ax = axs[0]\n",
    "ax.imshow(img, cmap=plt.cm.gray)\n",
    "plot_contours_pbc(contours1, ax, linewidth=2, min_num_vertices=6, linestyle='-')\n",
    "plot_contours_pbc(contours2, ax, linewidth=2, min_num_vertices=0, linestyle='--')\n",
    "\n",
    "#incumbent method yields more?\n",
    "ax.scatter(x=x_values, y=y_values, s=270, c='yellow', marker='*', zorder=3, alpha=1.)\n",
    "\n",
    "#new method\n",
    "ax.scatter(x=lst_values_x, y=lst_values_y, s=45, c='blue', marker='*', zorder=3, alpha=1.)\n",
    "\n",
    "\n",
    "\n",
    "ax.set_title(f\"Number of Tips = {n_tips}\")\n",
    "ax.axis('image')\n",
    "# ax.set_xticks([])\n",
    "# ax.set_yticks([])\n",
    "\n",
    "if not save:\n",
    "    plt.show()\n",
    "else:\n",
    "    os.chdir(nb_dir)\n",
    "    os.chdir('Figures/methods')\n",
    "    save_fn = f\"example_ic_200x200.120.32_t_{t:.3f}_V_{V_threshold}.png\"\n",
    "    plt.savefig(save_fn)\n",
    "    print(f'figure saved in {save_fn}.')\n",
    "    #     plt.savefig('example_parameterless_tip_detection_t_600.png')"
   ]
  },
  {
   "cell_type": "code",
   "execution_count": 22,
   "metadata": {
    "ExecuteTime": {
     "end_time": "2020-11-05T21:35:43.282198Z",
     "start_time": "2020-11-05T21:35:43.256945Z"
    },
    "hidden": true
   },
   "outputs": [
    {
     "name": "stdout",
     "output_type": "stream",
     "text": [
      "(172.40847769894, 5.612068937153572, 1.797430675055318, 40.85177973798898, 77.8977747564051, 54.87973798736076, 91.03015567511366, 93.58652991105076, 35.27888244762639, 143.92638574550725)\n",
      "[1.7974306750553348, 5.612068937153593, 35.2788824476267, 40.851779737989, 54.87973798736017, 77.89777475640547, 91.03015567511196, 93.58652991105065, 143.9263857455088, 172.40847769894089]\n"
     ]
    }
   ],
   "source": [
    "print(x_values)\n",
    "print(lst_values_x)"
   ]
  },
  {
   "cell_type": "code",
   "execution_count": 16,
   "metadata": {
    "ExecuteTime": {
     "end_time": "2020-11-05T21:34:56.326085Z",
     "start_time": "2020-11-05T21:34:56.299754Z"
    },
    "hidden": true
   },
   "outputs": [
    {
     "data": {
      "text/plain": [
       "<function lib.measure._find_tips_kernel_cy.find_intersections>"
      ]
     },
     "execution_count": 16,
     "metadata": {},
     "output_type": "execute_result"
    }
   ],
   "source": [
    "find_intersections"
   ]
  },
  {
   "cell_type": "markdown",
   "metadata": {
    "hidden": true
   },
   "source": [
    "__Note__ \n",
    "- tip coordinates agree to a precision of 1e-12 sig figs.  not bad.\n",
    "- DONE: before continuing debug the windows at the missed tips\n",
    "- DONE: compute Mean Squared Disagreement between all x-coordinates in this frame \n",
    "    - (ignore y-coordinate MSD by symmetry of implementation)"
   ]
  },
  {
   "cell_type": "code",
   "execution_count": 12,
   "metadata": {
    "ExecuteTime": {
     "end_time": "2020-11-05T14:40:55.397665Z",
     "start_time": "2020-11-05T14:40:55.373761Z"
    },
    "hidden": true
   },
   "outputs": [],
   "source": [
    "# # lst_values_x = []\n",
    "# # x_values = (40.85177973798898,  143.92638574550725)\n",
    "# dx_values = []\n",
    "# dx_values.append(172.40847769894 - 172.40847769894089)\n",
    "# dx_values.append(1.7974306750553348-1.797430675055318)\n",
    "# dx_values.append(5.539959215728676-5.612068937153572)\n",
    "# dx_values.append(91.03015567511196-91.03015567511366)\n",
    "# dx_values.append(93.58652991105065- 93.58652991105076)\n",
    "# dx_values.append(54.87973798736076-54.87973798736017)\n",
    "# dx_values.append(77.9004753793581-77.8977747564051)\n",
    "# dx_values.append(35.21631953517762-35.27888244762639)\n",
    "# # dx_values.append(40.85177973798898-40.851779737989)\n",
    "# # dx_values.append(-)\n",
    "# msd = np.mean(np.array([dx**2 for dx in dx_values]))\n",
    "\n",
    "# print(np.around(dx_values,decimals=3))\n",
    "\n",
    "# print(msd)"
   ]
  },
  {
   "cell_type": "code",
   "execution_count": 23,
   "metadata": {
    "ExecuteTime": {
     "end_time": "2020-11-05T21:35:47.684817Z",
     "start_time": "2020-11-05T21:35:47.655855Z"
    },
    "hidden": true
   },
   "outputs": [
    {
     "name": "stdout",
     "output_type": "stream",
     "text": [
      "[ 0. -0.  0.  0.  0. -0.  0.  0. -0.  0.]\n",
      "8.200042023121408e-13\n"
     ]
    }
   ],
   "source": [
    "# lst_values_x = [, , , , , , , , , ]\n",
    "# x_values = (, , , , , , , , , )\n",
    "\n",
    "\n",
    "dx_values = []\n",
    "dx_values.append(1.7974306750553348-1.797430675055318)\n",
    "dx_values.append(172.40847769894-172.40847769894089)\n",
    "dx_values.append(5.612068937153593-5.612068937153572)\n",
    "dx_values.append(35.2788824476267-35.27888244762639)\n",
    "dx_values.append(40.851779737989-40.85177973798898)\n",
    "dx_values.append(54.87973798736017-54.87973798736076)\n",
    "dx_values.append(91.03015567511366-91.03015567511196)\n",
    "dx_values.append(77.89777475640547-77.8977747564051)\n",
    "dx_values.append(93.58652991105065-93.58652991105076)\n",
    "dx_values.append(143.9263857455088-143.92638574550725)\n",
    "# dx_values.append(40.85177973798898-40.851779737989)\n",
    "# dx_values.append(-)\n",
    "msd = np.mean(np.array([dx**2 for dx in dx_values]))\n",
    "\n",
    "print(np.around(dx_values,decimals=3))\n",
    "\n",
    "print(np.sqrt(msd))"
   ]
  },
  {
   "cell_type": "code",
   "execution_count": null,
   "metadata": {
    "hidden": true
   },
   "outputs": [],
   "source": [
    "# # BOOYA old & new methods produce consistent tip locations to machine precision (rmse<1e-12)\n",
    "# def find_intersections(array1,array2,level1,level2,theta_threshold = 0.):\n",
    "#     lst_values_x = []\n",
    "#     lst_values_y = []\n",
    "#     lst_values_theta = []\n",
    "#     lst_values_grad_ux = []\n",
    "#     lst_values_grad_uy = []\n",
    "#     lst_values_grad_vx = []\n",
    "#     lst_values_grad_vy = []\n",
    "#     for c0 in range(height):\n",
    "#         for r0 in range(width):\n",
    "#             c1 = c0+1\n",
    "#             r1 = r0+1\n",
    "\n",
    "#             r1loc = r1\n",
    "#             if r1loc >= height:\n",
    "#                     r1loc = 0\n",
    "#             c1loc = c1\n",
    "#             if c1loc >= height:\n",
    "#                     c1loc = 0\n",
    "\n",
    "#             #find any segments for array1\n",
    "#             #if none are found, continue\n",
    "#             ul1 = array1[r0, c0]\n",
    "#             ur1 = array1[r0, c1loc]\n",
    "#             ll1 = array1[r1loc, c0]\n",
    "#             lr1 = array1[r1loc, c1loc]\n",
    "\n",
    "#             square_case1 = 0\n",
    "#             if (ul1 > level1): square_case1 += 1\n",
    "#             if (ur1 > level1): square_case1 += 2\n",
    "#             if (ll1 > level1): square_case1 += 4\n",
    "#             if (lr1 > level1): square_case1 += 8\n",
    "\n",
    "#             if square_case1 in [0, 15]:\n",
    "#                 # only do anything if there's a line passing through the\n",
    "#                 # square. Cases 0 and 15 are entirely below/above the contour.\n",
    "#                 continue    \n",
    "\n",
    "#             #find any segments for array2\n",
    "#             ul2 = array2[r0, c0]\n",
    "#             ur2 = array2[r0, c1loc]\n",
    "#             ll2 = array2[r1loc, c0]\n",
    "#             lr2 = array2[r1loc, c1loc]\n",
    "\n",
    "#             square_case2 = 0\n",
    "#             if (ul2 > level2): square_case2 += 1\n",
    "#             if (ur2 > level2): square_case2 += 2\n",
    "#             if (ll2 > level2): square_case2 += 4\n",
    "#             if (lr2 > level2): square_case2 += 8\n",
    "\n",
    "#             if square_case2 in [0, 15]:\n",
    "#                 # only do anything if there's a line passing through the\n",
    "#                 # square. Cases 0 and 15 are entirely below/above the contour.\n",
    "#                 continue\n",
    "\n",
    "#             segments1 = lookup_segments(ul1,ll1,ur1,lr1,r0,r1,c0,c1,level1,square_case1)\n",
    "#             segments2 = lookup_segments(ul2,ll2,ur2,lr2,r0,r1,c0,c1,level2,square_case2)\n",
    "\n",
    "#             lst_x,lst_y,lst_theta, lst_grad_ux, lst_grad_uy, lst_grad_vx, lst_grad_vy = find_tips_for_linear_segment_pairs(segments1, segments2, r0, c0)\n",
    "\n",
    "#             lst_values_x.extend(lst_x)\n",
    "#             lst_values_y.extend(lst_y)\n",
    "#             lst_values_theta.extend(lst_theta)\n",
    "#             lst_values_grad_ux.extend(lst_grad_ux)\n",
    "#             lst_values_grad_uy.extend(lst_grad_uy)\n",
    "#             lst_values_grad_vx.extend(lst_grad_vx)\n",
    "#             lst_values_grad_vy.extend(lst_grad_vy)\n",
    "#     return lst_values_x,lst_values_y,lst_values_theta, lst_values_grad_ux, lst_values_grad_uy, lst_values_grad_vx, lst_values_grad_vy\n"
   ]
  },
  {
   "cell_type": "markdown",
   "metadata": {
    "ExecuteTime": {
     "end_time": "2020-11-05T13:06:39.764366Z",
     "start_time": "2020-11-05T13:06:39.737368Z"
    },
    "heading_collapsed": true,
    "hidden": true
   },
   "source": [
    "### DONE: before continuing debug the windows at the missed tips"
   ]
  },
  {
   "cell_type": "code",
   "execution_count": 135,
   "metadata": {
    "ExecuteTime": {
     "end_time": "2020-11-05T13:13:38.987027Z",
     "start_time": "2020-11-05T13:13:38.955819Z"
    },
    "hidden": true
   },
   "outputs": [],
   "source": [
    "#TODO: determine the missing tip locations"
   ]
  },
  {
   "cell_type": "code",
   "execution_count": 160,
   "metadata": {
    "ExecuteTime": {
     "end_time": "2020-11-05T13:23:37.729011Z",
     "start_time": "2020-11-05T13:23:37.701061Z"
    },
    "hidden": true
   },
   "outputs": [],
   "source": [
    "# x_values_missing = (40.85177973798898,  143.92638574550725)\n",
    "id_missing_A = int(np.argwhere([x==40.85177973798898 for x in x_values]))\n",
    "id_missing_B = int(np.argwhere([x==143.92638574550725 for x in x_values]))"
   ]
  },
  {
   "cell_type": "markdown",
   "metadata": {
    "heading_collapsed": true,
    "hidden": true
   },
   "source": [
    "#### DONE: id_missing_A debugged"
   ]
  },
  {
   "cell_type": "code",
   "execution_count": 163,
   "metadata": {
    "ExecuteTime": {
     "end_time": "2020-11-05T13:24:22.552861Z",
     "start_time": "2020-11-05T13:24:22.526447Z"
    },
    "hidden": true
   },
   "outputs": [],
   "source": [
    "x = x_values[id_missing_A]\n",
    "y = y_values[id_missing_A]\n",
    "# x = x_values[id_missing_B]\n",
    "# y = y_values[id_missing_B]"
   ]
  },
  {
   "cell_type": "code",
   "execution_count": 167,
   "metadata": {
    "ExecuteTime": {
     "end_time": "2020-11-05T13:25:09.597770Z",
     "start_time": "2020-11-05T13:25:09.572931Z"
    },
    "hidden": true
   },
   "outputs": [],
   "source": [
    "c0 = int(np.floor(x))\n",
    "r0 = int(np.floor(y))"
   ]
  },
  {
   "cell_type": "code",
   "execution_count": 169,
   "metadata": {
    "ExecuteTime": {
     "end_time": "2020-11-05T13:25:45.790633Z",
     "start_time": "2020-11-05T13:25:45.748189Z"
    },
    "hidden": true
   },
   "outputs": [],
   "source": [
    "c1 = c0+1\n",
    "r1 = r0+1\n",
    "\n",
    "r1loc = r1\n",
    "if r1loc >= height:\n",
    "        r1loc = 0\n",
    "c1loc = c1\n",
    "if c1loc >= height:\n",
    "        c1loc = 0\n",
    "\n",
    "#find any segments for array1\n",
    "#if none are found, continue\n",
    "ul1 = array1[r0, c0]\n",
    "ur1 = array1[r0, c1loc]\n",
    "ll1 = array1[r1loc, c0]\n",
    "lr1 = array1[r1loc, c1loc]\n",
    "\n",
    "square_case1 = 0\n",
    "if (ul1 > level1): square_case1 += 1\n",
    "if (ur1 > level1): square_case1 += 2\n",
    "if (ll1 > level1): square_case1 += 4\n",
    "if (lr1 > level1): square_case1 += 8\n",
    "\n",
    "# if square_case1 in [0, 15]:\n",
    "#     # only do anything if there's a line passing through the\n",
    "#     # square. Cases 0 and 15 are entirely below/above the contour.\n",
    "#     continue    \n",
    "\n",
    "#find any segments for array2\n",
    "ul2 = array2[r0, c0]\n",
    "ur2 = array2[r0, c1loc]\n",
    "ll2 = array2[r1loc, c0]\n",
    "lr2 = array2[r1loc, c1loc]\n",
    "\n",
    "square_case2 = 0\n",
    "if (ul2 > level2): square_case2 += 1\n",
    "if (ur2 > level2): square_case2 += 2\n",
    "if (ll2 > level2): square_case2 += 4\n",
    "if (lr2 > level2): square_case2 += 8\n",
    "\n",
    "# if square_case2 in [0, 15]:\n",
    "#     # only do anything if there's a line passing through the\n",
    "#     # square. Cases 0 and 15 are entirely below/above the contour.\n",
    "#     continue\n",
    "\n",
    "segments1 = lookup_segments(ul1,ll1,ur1,lr1,r0,r1,c0,c1,level1,square_case1)\n",
    "segments2 = lookup_segments(ul2,ll2,ur2,lr2,r0,r1,c0,c1,level2,square_case2)\n",
    "\n",
    "lst_x,lst_y,lst_theta, lst_grad_ux, lst_grad_uy, lst_grad_vx, lst_grad_vy = find_tips_for_linear_segment_pairs(segments1, segments2, r0, c0)\n"
   ]
  },
  {
   "cell_type": "code",
   "execution_count": 205,
   "metadata": {
    "ExecuteTime": {
     "end_time": "2020-11-05T13:36:02.227786Z",
     "start_time": "2020-11-05T13:36:02.199649Z"
    },
    "hidden": true
   },
   "outputs": [
    {
     "name": "stdout",
     "output_type": "stream",
     "text": [
      "(3, 10)\n",
      "3 10\n"
     ]
    }
   ],
   "source": [
    "print(f\"{(square_case1,square_case2)}\")\n",
    "print(*(square_case1,square_case2))"
   ]
  },
  {
   "cell_type": "code",
   "execution_count": 239,
   "metadata": {
    "ExecuteTime": {
     "end_time": "2020-11-05T13:46:18.563842Z",
     "start_time": "2020-11-05T13:46:18.537974Z"
    },
    "hidden": true
   },
   "outputs": [],
   "source": [
    "u = np.array(segments1[0])\n",
    "v = np.array(segments2[0])"
   ]
  },
  {
   "cell_type": "code",
   "execution_count": 240,
   "metadata": {
    "ExecuteTime": {
     "end_time": "2020-11-05T13:46:20.989158Z",
     "start_time": "2020-11-05T13:46:20.961675Z"
    },
    "hidden": true
   },
   "outputs": [],
   "source": [
    "arr1 = np.array(u)\n",
    "Y1 = arr1[0][0]\n",
    "X1 = arr1[0][1]\n",
    "V1 = arr1[1][0] - Y1\n",
    "U1 = arr1[1][1] - X1\n",
    "\n",
    "arr2 = np.array(v)\n",
    "Y2 = arr2[0][0]\n",
    "X2 = arr2[0][1]\n",
    "V2 = arr2[1][0] - Y2\n",
    "U2 = arr2[1][1] - X2"
   ]
  },
  {
   "cell_type": "code",
   "execution_count": 241,
   "metadata": {
    "ExecuteTime": {
     "end_time": "2020-11-05T13:46:23.550170Z",
     "start_time": "2020-11-05T13:46:23.358461Z"
    },
    "hidden": true
   },
   "outputs": [
    {
     "data": {
      "text/plain": [
       "<matplotlib.quiver.Quiver at 0x13a6e2730>"
      ]
     },
     "execution_count": 241,
     "metadata": {},
     "output_type": "execute_result"
    },
    {
     "data": {
      "image/png": "[encoded data removed]",
      "text/plain": [
       "<Figure size 432x288 with 1 Axes>"
      ]
     },
     "metadata": {
      "needs_background": "light"
     },
     "output_type": "display_data"
    }
   ],
   "source": [
    "\n",
    "\n",
    "plt.plot([41,40],[110.34969003658456,110.85579775483941])\n",
    "plt.plot([40.95499272563316,40.77558378011936],[111,110])\n",
    "\n",
    "plt.quiver(X1, Y1, U1, V1)#, units='width')\n",
    "plt.quiver(X2, Y2, U2, V2)\n",
    "plt.show()"
   ]
  },
  {
   "cell_type": "code",
   "execution_count": 279,
   "metadata": {
    "ExecuteTime": {
     "end_time": "2020-11-05T13:54:34.868448Z",
     "start_time": "2020-11-05T13:54:34.840433Z"
    },
    "hidden": true
   },
   "outputs": [
    {
     "name": "stdout",
     "output_type": "stream",
     "text": [
      "input segments u,v\n",
      "[[110.34969004  41.        ]\n",
      " [110.85579775  40.        ]]\n",
      "[[111.          40.95499273]\n",
      " [110.          40.77558378]]\n",
      "\n",
      "point of intersect\n",
      "(40.851779737989, 110.42470545518971)\n",
      "\n",
      "box and isin\n",
      "[[ 40  41]\n",
      " [110 111]]\n",
      "True\n"
     ]
    }
   ],
   "source": [
    "print(\"input segments u,v\")\n",
    "print(u)\n",
    "print(v)\n",
    "\n",
    "print(\"\\npoint of intersect\")\n",
    "print((x,y))\n",
    "\n",
    "print('\\nbox and isin')\n",
    "print(np.array(((minx, maxx), (miny, maxy))))\n",
    "print(is_in_box(x,y, minx, maxx, miny, maxy))"
   ]
  },
  {
   "cell_type": "code",
   "execution_count": 297,
   "metadata": {
    "ExecuteTime": {
     "end_time": "2020-11-05T14:02:07.139852Z",
     "start_time": "2020-11-05T14:02:07.109450Z"
    },
    "hidden": true
   },
   "outputs": [],
   "source": [
    "# def _get_box(u,v):\n",
    "#     '''minx, maxx, miny, maxy = _get_box(np.array(u),np.array(v))'''\n",
    "#     minx = np.min((np.min(u[0,:]),np.min(v[0,:])))\n",
    "#     maxx = np.max((np.max(u[0,:]),np.max(v[0,:])))\n",
    "#     miny = np.min((np.min(u[1,:]),np.min(v[1,:])))\n",
    "#     maxy = np.max((np.max(u[1,:]),np.max(v[1,:])))\n",
    "#     return minx, maxx, miny, maxy\n",
    "def _get_box(u,v):\n",
    "    '''minx, maxx, miny, maxy = _get_box(np.array(u),np.array(v))'''\n",
    "    c0 = int(np.min(np.hstack((u[:,0],v[:,0]))))\n",
    "    r0 = int(np.min(np.hstack((u[:,1],v[:,1]))))\n",
    "    minx,maxx,miny,maxy = r0,r0+1,c0,c0+1\n",
    "#     minx = np.min((np.min(u[:,0]),np.min(v[0,:])))\n",
    "#     maxx = np.max((np.max(u[0,:]),np.max(v[0,:])))\n",
    "#     miny = np.min((np.min(u[1,:]),np.min(v[1,:])))\n",
    "#     maxy = np.max((np.max(u[1,:]),np.max(v[1,:])))\n",
    "    return minx, maxx, miny, maxy\n",
    "\n",
    "def _get_box_from_main(r0,c0):\n",
    "    minx,maxx,miny,maxy = r0,r0+1,c0,c0+1\n",
    "    return minx,maxx,miny,maxy\n",
    "\n",
    "def is_in_box(x,y,minx, maxx, miny, maxy):\n",
    "    return ((x>=minx) & (maxx>=x)) & ((y>=miny) & (maxy>=y))"
   ]
  },
  {
   "cell_type": "code",
   "execution_count": 298,
   "metadata": {
    "ExecuteTime": {
     "end_time": "2020-11-05T14:02:09.619368Z",
     "start_time": "2020-11-05T14:02:09.592943Z"
    },
    "hidden": true
   },
   "outputs": [],
   "source": [
    "# # minx ,maxx, miny, maxy = _get_box(u,v)\n",
    "# minx,maxx,miny,maxy = c0,c0+1,r0,r0+1\n",
    "# isin = is_in_box(x,y,minx, maxx, miny, maxy)"
   ]
  },
  {
   "cell_type": "code",
   "execution_count": 299,
   "metadata": {
    "ExecuteTime": {
     "end_time": "2020-11-05T14:02:45.696172Z",
     "start_time": "2020-11-05T14:02:45.669301Z"
    },
    "hidden": true
   },
   "outputs": [],
   "source": [
    "# # #determing if the tip is in the right range\n",
    "# c0 = int(np.min(np.hstack((u[:,0],v[:,0]))))\n",
    "# r0 = int(np.min(np.hstack((u[:,1],v[:,1]))))\n",
    "# minx,maxx,miny,maxy = r0,r0+1,c0,c0+1\n",
    "# isin = is_in_box(x,y,minx, maxx, miny, maxy)\n",
    "# print(isin)\n",
    "\n",
    "# def is_in_box(x,y,minx, maxx, miny, maxy):\n",
    "#     return \n",
    "# ((x>=minx) & (maxx>=x)\n",
    "# & ((y>=miny) & (maxy>=y))"
   ]
  },
  {
   "cell_type": "code",
   "execution_count": 258,
   "metadata": {
    "ExecuteTime": {
     "end_time": "2020-11-05T13:49:34.735952Z",
     "start_time": "2020-11-05T13:49:34.698290Z"
    },
    "hidden": true
   },
   "outputs": [
    {
     "name": "stdout",
     "output_type": "stream",
     "text": [
      "point of intersect\n",
      "(40.851779737989, 110.42470545518971)\n"
     ]
    }
   ],
   "source": [
    "#compute line for segment u\n",
    "x1=u[0][1];y1=u[0][0];x2=u[1][1];y2=u[1][0];\n",
    "c1 = - x1 - y1 #wlog\n",
    "a1,b1 = intersection_2d_implicit(x1,y1,c1,x2,y2,c1)\n",
    "grad_ux = a1\n",
    "grad_uy = b1\n",
    "\n",
    "#compute line for segment v\n",
    "x1=v[0][1];y1=v[0][0];x2=v[1][1];y2= v[1][0];\n",
    "c2 = - x1 - y1 #wlog\n",
    "a2,b2 = intersection_2d_implicit(x1,y1,c2,x2,y2,c2)\n",
    "grad_vx = a2\n",
    "grad_vy = b2\n",
    "\n",
    "#compute point of intersect\n",
    "x,y = intersection_2d_implicit(a1,b1,c1,a2,b2,c2)\n",
    "\n"
   ]
  },
  {
   "cell_type": "markdown",
   "metadata": {
    "heading_collapsed": true,
    "hidden": true
   },
   "source": [
    "#### DONE: id_missing_B debugged"
   ]
  },
  {
   "cell_type": "code",
   "execution_count": 357,
   "metadata": {
    "ExecuteTime": {
     "end_time": "2020-11-05T14:15:55.000796Z",
     "start_time": "2020-11-05T14:15:54.974607Z"
    },
    "hidden": true
   },
   "outputs": [],
   "source": [
    "# x = x_values[id_missing_A]\n",
    "# y = y_values[id_missing_A]\n",
    "x = x_values[id_missing_B]\n",
    "y = y_values[id_missing_B]"
   ]
  },
  {
   "cell_type": "code",
   "execution_count": 358,
   "metadata": {
    "ExecuteTime": {
     "end_time": "2020-11-05T14:15:57.468506Z",
     "start_time": "2020-11-05T14:15:57.436646Z"
    },
    "hidden": true
   },
   "outputs": [],
   "source": [
    "c0 = int(np.floor(x))\n",
    "r0 = int(np.floor(y))"
   ]
  },
  {
   "cell_type": "code",
   "execution_count": 364,
   "metadata": {
    "ExecuteTime": {
     "end_time": "2020-11-05T14:16:50.280596Z",
     "start_time": "2020-11-05T14:16:50.241741Z"
    },
    "hidden": true
   },
   "outputs": [
    {
     "data": {
      "text/plain": [
       "[143.9263857455088]"
      ]
     },
     "execution_count": 364,
     "metadata": {},
     "output_type": "execute_result"
    }
   ],
   "source": [
    "c1 = c0+1\n",
    "r1 = r0+1\n",
    "\n",
    "r1loc = r1\n",
    "if r1loc >= height:\n",
    "        r1loc = 0\n",
    "c1loc = c1\n",
    "if c1loc >= height:\n",
    "        c1loc = 0\n",
    "\n",
    "#find any segments for array1\n",
    "#if none are found, continue\n",
    "ul1 = array1[r0, c0]\n",
    "ur1 = array1[r0, c1loc]\n",
    "ll1 = array1[r1loc, c0]\n",
    "lr1 = array1[r1loc, c1loc]\n",
    "\n",
    "square_case1 = 0\n",
    "if (ul1 > level1): square_case1 += 1\n",
    "if (ur1 > level1): square_case1 += 2\n",
    "if (ll1 > level1): square_case1 += 4\n",
    "if (lr1 > level1): square_case1 += 8\n",
    "\n",
    "# if square_case1 in [0, 15]:\n",
    "#     # only do anything if there's a line passing through the\n",
    "#     # square. Cases 0 and 15 are entirely below/above the contour.\n",
    "#     continue    \n",
    "\n",
    "#find any segments for array2\n",
    "ul2 = array2[r0, c0]\n",
    "ur2 = array2[r0, c1loc]\n",
    "ll2 = array2[r1loc, c0]\n",
    "lr2 = array2[r1loc, c1loc]\n",
    "\n",
    "square_case2 = 0\n",
    "if (ul2 > level2): square_case2 += 1\n",
    "if (ur2 > level2): square_case2 += 2\n",
    "if (ll2 > level2): square_case2 += 4\n",
    "if (lr2 > level2): square_case2 += 8\n",
    "\n",
    "# if square_case2 in [0, 15]:\n",
    "#     # only do anything if there's a line passing through the\n",
    "#     # square. Cases 0 and 15 are entirely below/above the contour.\n",
    "#     continue\n",
    "\n",
    "segments1 = lookup_segments(ul1,ll1,ur1,lr1,r0,r1,c0,c1,level1,square_case1)\n",
    "segments2 = lookup_segments(ul2,ll2,ur2,lr2,r0,r1,c0,c1,level2,square_case2)\n",
    "\n",
    "lst_x,lst_y,lst_theta, lst_grad_ux, lst_grad_uy, lst_grad_vx, lst_grad_vy = find_tips_for_linear_segment_pairs(segments1, segments2, r0 c0)\n",
    "# print(len(lst_x))\n",
    "lst_x"
   ]
  },
  {
   "cell_type": "code",
   "execution_count": 367,
   "metadata": {
    "ExecuteTime": {
     "end_time": "2020-11-05T14:17:03.892045Z",
     "start_time": "2020-11-05T14:17:03.868040Z"
    },
    "hidden": true
   },
   "outputs": [
    {
     "name": "stdout",
     "output_type": "stream",
     "text": [
      "(10, 12)\n",
      "10 12\n"
     ]
    },
    {
     "data": {
      "text/plain": [
       "143.9263857455088"
      ]
     },
     "execution_count": 367,
     "metadata": {},
     "output_type": "execute_result"
    }
   ],
   "source": [
    "print(f\"{(square_case1,square_case2)}\")\n",
    "print(*(square_case1,square_case2))\n",
    "x"
   ]
  },
  {
   "cell_type": "code",
   "execution_count": 348,
   "metadata": {
    "ExecuteTime": {
     "end_time": "2020-11-05T14:15:07.394697Z",
     "start_time": "2020-11-05T14:15:07.371784Z"
    },
    "hidden": true
   },
   "outputs": [],
   "source": [
    "u = np.array(segments1[0])\n",
    "v = np.array(segments2[0])"
   ]
  },
  {
   "cell_type": "code",
   "execution_count": 365,
   "metadata": {
    "ExecuteTime": {
     "end_time": "2020-11-05T14:16:53.174032Z",
     "start_time": "2020-11-05T14:16:53.139249Z"
    },
    "hidden": true
   },
   "outputs": [],
   "source": [
    "#compute line for segment u\n",
    "x1=u[0][1];y1=u[0][0];x2=u[1][1];y2=u[1][0];\n",
    "c1 = - x1 - y1 #wlog\n",
    "a1,b1 = intersection_2d_implicit(x1,y1,c1,x2,y2,c1)\n",
    "grad_ux = a1\n",
    "grad_uy = b1\n",
    "\n",
    "#compute line for segment v\n",
    "x1=v[0][1];y1=v[0][0];x2=v[1][1];y2= v[1][0];\n",
    "c2 = - x1 - y1 #wlog\n",
    "a2,b2 = intersection_2d_implicit(x1,y1,c2,x2,y2,c2)\n",
    "grad_vx = a2\n",
    "grad_vy = b2\n",
    "\n",
    "#compute point of intersect\n",
    "x,y = intersection_2d_implicit(a1,b1,c1,a2,b2,c2)\n",
    "\n"
   ]
  },
  {
   "cell_type": "code",
   "execution_count": 349,
   "metadata": {
    "ExecuteTime": {
     "end_time": "2020-11-05T14:15:09.740695Z",
     "start_time": "2020-11-05T14:15:09.713300Z"
    },
    "hidden": true
   },
   "outputs": [],
   "source": [
    "arr1 = np.array(u)\n",
    "Y1 = arr1[0][0]\n",
    "X1 = arr1[0][1]\n",
    "V1 = arr1[1][0] - Y1\n",
    "U1 = arr1[1][1] - X1\n",
    "\n",
    "arr2 = np.array(v)\n",
    "Y2 = arr2[0][0]\n",
    "X2 = arr2[0][1]\n",
    "V2 = arr2[1][0] - Y2\n",
    "U2 = arr2[1][1] - X2"
   ]
  },
  {
   "cell_type": "code",
   "execution_count": 350,
   "metadata": {
    "ExecuteTime": {
     "end_time": "2020-11-05T14:15:12.256208Z",
     "start_time": "2020-11-05T14:15:12.232783Z"
    },
    "hidden": true
   },
   "outputs": [
    {
     "name": "stdout",
     "output_type": "stream",
     "text": [
      "[((144.51517536627344, 143), (144.3684338752041, 144))]\n"
     ]
    }
   ],
   "source": [
    "# print(segments1)\n",
    "print(segments2)"
   ]
  },
  {
   "cell_type": "code",
   "execution_count": 369,
   "metadata": {
    "ExecuteTime": {
     "end_time": "2020-11-05T14:17:32.481329Z",
     "start_time": "2020-11-05T14:17:32.298887Z"
    },
    "hidden": true
   },
   "outputs": [
    {
     "data": {
      "image/png": "[encoded data removed]",
      "text/plain": [
       "<Figure size 432x288 with 1 Axes>"
      ]
     },
     "metadata": {
      "needs_background": "light"
     },
     "output_type": "display_data"
    }
   ],
   "source": [
    "plt.scatter([x],[y])\n",
    "plt.plot(u[:,1],u[:,0])\n",
    "plt.plot(v[:,1],v[:,0])\n",
    "\n",
    "\n",
    "# plt.plot([143.81914018127722,143.99190404730862],[145,144])\n",
    "# plt.plot([144.51517536627344,144.3684338752041],[143,144])\n",
    "\n",
    "\n",
    "plt.quiver(X1, Y1, U1, V1)#, units='width')\n",
    "plt.quiver(X2, Y2, U2, V2)\n",
    "\n",
    "# # minx,maxx,miny,maxy = r0,r0+1,c0,c0+1\n",
    "plt.axis((c0,c0+1,r0,r0+1))\n",
    "plt.show()"
   ]
  },
  {
   "cell_type": "code",
   "execution_count": 352,
   "metadata": {
    "ExecuteTime": {
     "end_time": "2020-11-05T14:15:17.128555Z",
     "start_time": "2020-11-05T14:15:17.099175Z"
    },
    "hidden": true
   },
   "outputs": [
    {
     "name": "stdout",
     "output_type": "stream",
     "text": [
      "input segments u,v\n",
      "[[145.         143.81914018]\n",
      " [144.         143.99190405]]\n",
      "[[144.51517537 143.        ]\n",
      " [144.36843388 144.        ]]\n",
      "\n",
      "point of intersect\n",
      "(143.92638574550725, 144.3792361406723)\n",
      "\n",
      "box and isin\n",
      "[[144 145]\n",
      " [143 144]]\n",
      "False\n"
     ]
    }
   ],
   "source": [
    "print(\"input segments u,v\")\n",
    "print(u)\n",
    "print(v)\n",
    "\n",
    "print(\"\\npoint of intersect\")\n",
    "print((x,y))\n",
    "\n",
    "print('\\nbox and isin')\n",
    "minx, maxx, miny, maxy = r0,r0+1,c0,c0+1\n",
    "print(np.array(((minx, maxx), (miny, maxy))))\n",
    "print(is_in_box(x,y, minx, maxx, miny, maxy))"
   ]
  },
  {
   "cell_type": "code",
   "execution_count": null,
   "metadata": {
    "hidden": true
   },
   "outputs": [],
   "source": []
  },
  {
   "cell_type": "code",
   "execution_count": 353,
   "metadata": {
    "ExecuteTime": {
     "end_time": "2020-11-05T14:15:19.640080Z",
     "start_time": "2020-11-05T14:15:19.605363Z"
    },
    "hidden": true
   },
   "outputs": [],
   "source": [
    "# # def _get_box(u,v):\n",
    "# #     '''minx, maxx, miny, maxy = _get_box(np.array(u),np.array(v))'''\n",
    "# #     minx = np.min((np.min(u[0,:]),np.min(v[0,:])))\n",
    "# #     maxx = np.max((np.max(u[0,:]),np.max(v[0,:])))\n",
    "# #     miny = np.min((np.min(u[1,:]),np.min(v[1,:])))\n",
    "# #     maxy = np.max((np.max(u[1,:]),np.max(v[1,:])))\n",
    "# #     return minx, maxx, miny, maxy\n",
    "# def _get_box(u,v):\n",
    "#     '''minx, maxx, miny, maxy = _get_box(np.array(u),np.array(v))'''\n",
    "#     c0 = int(np.min(np.hstack((u[:,0],v[:,0]))))\n",
    "#     r0 = int(np.min(np.hstack((u[:,1],v[:,1]))))\n",
    "#     minx,maxx,miny,maxy = r0,r0+1,c0,c0+1\n",
    "# #     minx = np.min((np.min(u[:,0]),np.min(v[0,:])))\n",
    "# #     maxx = np.max((np.max(u[0,:]),np.max(v[0,:])))\n",
    "# #     miny = np.min((np.min(u[1,:]),np.min(v[1,:])))\n",
    "# #     maxy = np.max((np.max(u[1,:]),np.max(v[1,:])))\n",
    "#     return minx, maxx, miny, maxy\n",
    "\n",
    "# def _get_box_from_main(r0,c0):\n",
    "#     minx,maxx,miny,maxy = r0,r0+1,c0,c0+1\n",
    "#     return minx,maxx,miny,maxy\n",
    "\n",
    "# def is_in_box(x,y,minx, maxx, miny, maxy):\n",
    "#     return ((x>=minx) & (maxx>=x)) & ((y>=miny) & (maxy>=y))"
   ]
  },
  {
   "cell_type": "code",
   "execution_count": 354,
   "metadata": {
    "ExecuteTime": {
     "end_time": "2020-11-05T14:15:22.056522Z",
     "start_time": "2020-11-05T14:15:22.031683Z"
    },
    "hidden": true
   },
   "outputs": [],
   "source": [
    "# # minx ,maxx, miny, maxy = _get_box(u,v)\n",
    "# minx,maxx,miny,maxy = c0,c0+1,r0,r0+1\n",
    "# isin = is_in_box(x,y,minx, maxx, miny, maxy)"
   ]
  },
  {
   "cell_type": "code",
   "execution_count": 355,
   "metadata": {
    "ExecuteTime": {
     "end_time": "2020-11-05T14:15:24.415416Z",
     "start_time": "2020-11-05T14:15:24.391270Z"
    },
    "hidden": true
   },
   "outputs": [],
   "source": [
    "# # #determing if the tip is in the right range\n",
    "# c0 = int(np.min(np.hstack((u[:,0],v[:,0]))))\n",
    "# r0 = int(np.min(np.hstack((u[:,1],v[:,1]))))\n",
    "# minx,maxx,miny,maxy = r0,r0+1,c0,c0+1\n",
    "# isin = is_in_box(x,y,minx, maxx, miny, maxy)\n",
    "# print(isin)\n",
    "\n",
    "# def is_in_box(x,y,minx, maxx, miny, maxy):\n",
    "#     return \n",
    "# ((x>=minx) & (maxx>=x)\n",
    "# & ((y>=miny) & (maxy>=y))"
   ]
  },
  {
   "cell_type": "markdown",
   "metadata": {
    "ExecuteTime": {
     "end_time": "2020-11-05T13:52:44.016597Z",
     "start_time": "2020-11-05T13:52:43.991195Z"
    },
    "hidden": true
   },
   "source": [
    "## DONE: CPU accelerate with cython and run a the test initial condition"
   ]
  },
  {
   "cell_type": "code",
   "execution_count": 25,
   "metadata": {
    "ExecuteTime": {
     "end_time": "2020-11-05T16:36:14.912438Z",
     "start_time": "2020-11-05T16:36:14.882611Z"
    },
    "hidden": true
   },
   "outputs": [],
   "source": [
    "## practical test case for fast tip detection kernel\n",
    "file = '/Users/timothytyree/Documents/GitHub/care/notebooks/Data/initial-conditions-suite-1/ic-out/ic_200x200.120.32.npz'\n",
    "txt = load_buffer(file)\n",
    "t   = 0. #ms\n",
    "\n",
    "\n",
    "# #load ^that loaded initial after 20000 steps = 500 ms at time_steps of size 0.025\n",
    "# file = '/Users/timothytyree/Documents/GitHub/care/notebooks/Data/test_txt.npz'\n",
    "# txt  = load_buffer(file)\n",
    "# t   = 500 #ms\n",
    "\n",
    "V_threshold = 0.4\n",
    "theta_threshold = 0.\n",
    "level1 = V_threshold\n",
    "level2 = 0.0\n",
    "\n",
    "zero_txt = txt.copy()*0.\n",
    "width, height = txt.shape[:2]"
   ]
  },
  {
   "cell_type": "code",
   "execution_count": 62,
   "metadata": {
    "ExecuteTime": {
     "end_time": "2020-11-05T22:11:27.127324Z",
     "start_time": "2020-11-05T22:11:27.040076Z"
    },
    "hidden": true
   },
   "outputs": [],
   "source": [
    "\n",
    "#measure system with cython\n",
    "#compute as discrete flow map dtexture_dt\n",
    "dtxt_dt = zero_txt.copy()\n",
    "get_time_step(txt, dtxt_dt)\n",
    "\n",
    "#compute the images to find isosurfaces of\n",
    "img    = txt[...,0]\n",
    "dimgdt = dtxt_dt[...,0]\n",
    "\n",
    "# find_intersections\n",
    "lst_values_x,lst_values_y,lst_values_theta, lst_values_grad_ux, lst_values_grad_uy, lst_values_grad_vx, lst_values_grad_vy = find_intersections(img,dimgdt,level1,level2)\n",
    "x_values = np.array(lst_values_x)\n",
    "y_values = np.array(lst_values_y)\n",
    "# EP states given by bilinear interpolation with periodic boundary conditions\n",
    "v_lst, f_lst, s_lst = interpolate_states(x_values,y_values,width,height,txt)\n",
    "dvdt_lst, dfdt_lst, dsdt_lst = interpolate_states(x_values,y_values,width,height,dtxt_dt)\n",
    "\n",
    "n_tips = x_values.size\n",
    "dict_out = {\n",
    "    't': float(t),\n",
    "    'n': int(n_tips),\n",
    "    'x': tuple(lst_values_x),\n",
    "    'y': tuple(lst_values_y),\n",
    "    'theta': tuple(lst_values_theta),\n",
    "    'grad_ux': tuple(lst_values_grad_ux),\n",
    "    'grad_uy': tuple(lst_values_grad_uy),\n",
    "    'grad_vx': tuple(lst_values_grad_vx),\n",
    "    'grad_vy': tuple(lst_values_grad_vy),\n",
    "    'v':v_lst,\n",
    "    'f':f_lst,\n",
    "    's':s_lst,\n",
    "    'dvdt':dvdt_lst,\n",
    "    'dfdt':dfdt_lst,\n",
    "    'dsdt':dsdt_lst,\n",
    "}"
   ]
  },
  {
   "cell_type": "code",
   "execution_count": 64,
   "metadata": {
    "ExecuteTime": {
     "end_time": "2020-11-05T22:12:13.156442Z",
     "start_time": "2020-11-05T22:12:11.155631Z"
    },
    "hidden": true
   },
   "outputs": [
    {
     "name": "stdout",
     "output_type": "stream",
     "text": [
      "10\n"
     ]
    }
   ],
   "source": [
    "#compare to slow, incombent method that also calculates topological numbers\n",
    "jump_threshold = 2 \n",
    "size_threshold = 0\n",
    "pad=2\n",
    "decimals=9\n",
    "\n",
    "#compute as discrete flow map dtexture_dt\n",
    "dtexture_dt = zero_txt.copy()\n",
    "get_time_step(txt, dtexture_dt)\n",
    "\n",
    "#compute the images to find isosurfaces of\n",
    "img    = txt[...,0]\n",
    "dimgdt = dtexture_dt[...,0]\n",
    "\n",
    "#compute both families of contours\n",
    "#appears to work     contours1 = find_contours(img,    level = 0.5)\n",
    "contours1 = find_contours(img,    level = V_threshold)\n",
    "contours2 = find_contours(dimgdt, level = 0.0)\n",
    "\n",
    "#find_tips and measure tip topological/EP state\n",
    "s1_list, s2_list, x_lst, y_lst, v_lst, f_lst, s_lst = measure_system(contours1, contours2, width, height, txt, \n",
    "                                                                 jump_threshold = jump_threshold, \n",
    "                                                                 size_threshold = size_threshold, \n",
    "                                                                 pad=pad, decimals=decimals)\n",
    "n_tips = x_lst.size\n",
    "dict_out = {\n",
    "'t': float(t),\n",
    "'n': int(n_tips),\n",
    "'x': tuple(x_lst),\n",
    "'y': tuple(y_lst),\n",
    "'n1': tuple(s1_list),\n",
    "'n2': tuple(s2_list),\n",
    "'v':v_lst,\n",
    "'f':f_lst,\n",
    "'s':s_lst,\n",
    "}\n",
    "\n",
    "x_values = tuple(x_lst)\n",
    "y_values = tuple(y_lst)\n",
    "# x_values = dict_out['x']\n",
    "# y_values = dict_out['y']\n",
    "# print(x_values)\n",
    "# print(y_values)\n",
    "print(len(x_values))"
   ]
  },
  {
   "cell_type": "code",
   "execution_count": null,
   "metadata": {
    "ExecuteTime": {
     "end_time": "2020-11-05T16:07:05.187774Z",
     "start_time": "2020-11-05T16:07:05.162062Z"
    },
    "hidden": true
   },
   "outputs": [],
   "source": []
  },
  {
   "cell_type": "code",
   "execution_count": null,
   "metadata": {
    "ExecuteTime": {
     "end_time": "2020-11-05T16:07:08.825919Z",
     "start_time": "2020-11-05T16:07:08.762748Z"
    },
    "hidden": true
   },
   "outputs": [],
   "source": []
  },
  {
   "cell_type": "code",
   "execution_count": 65,
   "metadata": {
    "ExecuteTime": {
     "end_time": "2020-11-05T22:12:23.984756Z",
     "start_time": "2020-11-05T22:12:23.958743Z"
    },
    "hidden": true
   },
   "outputs": [
    {
     "name": "stdout",
     "output_type": "stream",
     "text": [
      "10\n"
     ]
    }
   ],
   "source": [
    "dict_out = {'x':lst_values_x,'y':lst_values_y,\n",
    "            'theta':lst_values_theta,\n",
    "            'grad_ux':lst_values_grad_ux,'grad_uy':lst_values_grad_uy,\n",
    "            'grad_vx':lst_values_grad_vx,'grad_vy':lst_values_grad_vy} \n",
    "\n",
    "# print(dict_out)     \n",
    "# print(*lst_values_x)     \n",
    "print(len(lst_values_x))"
   ]
  },
  {
   "cell_type": "code",
   "execution_count": null,
   "metadata": {
    "ExecuteTime": {
     "end_time": "2020-11-05T15:54:18.014862Z",
     "start_time": "2020-11-05T15:54:17.984476Z"
    },
    "hidden": true
   },
   "outputs": [],
   "source": []
  },
  {
   "cell_type": "code",
   "execution_count": 68,
   "metadata": {
    "ExecuteTime": {
     "end_time": "2020-11-05T22:12:54.295509Z",
     "start_time": "2020-11-05T22:12:53.624526Z"
    },
    "hidden": true
   },
   "outputs": [
    {
     "name": "stdout",
     "output_type": "stream",
     "text": [
      "figure saved in comparing_tip_location_methods_ic_200x200.120.32_t_500.000_V_0.4.png.\n",
      "\n",
      "comparing the two methods, the x coord of final tips has the following residuals:\n",
      "(-1.687538997430238e-14, -2.042810365310288e-14, -3.126388037344441e-13, -2.1316282072803006e-14, 5.897504706808832e-13, -3.694822225952521e-13, 1.7053025658242404e-12, 1.1368683772161603e-13, -1.5631940186722204e-12, -8.810729923425242e-13)\n",
      "[1.7974306750553348, 5.612068937153593, 35.2788824476267, 40.851779737989, 54.87973798736017, 77.89777475640547, 91.03015567511196, 93.58652991105065, 143.9263857455088, 172.40847769894089]\n"
     ]
    },
    {
     "data": {
      "image/png": "[encoded data removed]",
      "text/plain": [
       "<Figure size 432x432 with 1 Axes>"
      ]
     },
     "metadata": {
      "needs_background": "light"
     },
     "output_type": "display_data"
    }
   ],
   "source": [
    "#TODO: plot these tips with their u's and v's\n",
    "# Display the image and plot all pbc contours found properly!\n",
    "save = True\n",
    "fig, ax = plt.subplots(figsize=(6,6))\n",
    "# fig, axs = plt.subplots(ncols = 2, figsize=(8,4))\n",
    "# ax = axs[0]\n",
    "ax.imshow(img, cmap=plt.cm.gray)\n",
    "contours1 = find_contours(img,    level = V_threshold)\n",
    "contours2 = find_contours(dimgdt, level = 0.0)\n",
    "\n",
    "plot_contours_pbc(contours1, ax, linewidth=2, min_num_vertices=1, linestyle='-')\n",
    "plot_contours_pbc(contours2, ax, linewidth=2, min_num_vertices=1, linestyle='--')\n",
    "\n",
    "#incumbent method yields more?\n",
    "x_values = tuple(x_lst)\n",
    "y_values = tuple(y_lst)\n",
    "ax.scatter(x=x_values, y=y_values, s=270, c='yellow', marker='*', zorder=3, alpha=1.)\n",
    "\n",
    "#new method\n",
    "ax.scatter(x=lst_values_x, y=lst_values_y, s=45, c='blue', marker='*', zorder=3, alpha=1.)\n",
    "\n",
    "ax.set_title(f\"Number of Tips = {n_tips}\")\n",
    "ax.axis('image')\n",
    "# ax.set_xticks([])\n",
    "# ax.set_yticks([])\n",
    "\n",
    "if not save:\n",
    "    plt.show()\n",
    "else:\n",
    "    os.chdir(nb_dir)\n",
    "    os.chdir('Figures/methods')\n",
    "    save_fn = f\"comparing_tip_location_methods_ic_200x200.120.32_t_{t:.3f}_V_{V_threshold}.png\"\n",
    "    plt.savefig(save_fn)\n",
    "    print(f'figure saved in {save_fn}.')\n",
    "if printing:\n",
    "    residuals_x = np.array(sorted(x_values))-np.array(sorted(lst_values_x))\n",
    "    print('\\ncomparing the two methods, the x coord of final tips has the following residuals:')\n",
    "    print(f\"{ *residuals_x, }\")\n",
    "    print(sorted(lst_values_x))"
   ]
  },
  {
   "cell_type": "code",
   "execution_count": 69,
   "metadata": {
    "ExecuteTime": {
     "end_time": "2020-11-05T22:13:06.530182Z",
     "start_time": "2020-11-05T22:13:06.508800Z"
    },
    "hidden": true
   },
   "outputs": [
    {
     "name": "stdout",
     "output_type": "stream",
     "text": [
      "The root mean squared error in tip locations is 7.5e-13.\n"
     ]
    }
   ],
   "source": [
    "e = np.array(sorted(lst_values_x))-np.array(sorted(x_values))\n",
    "e = np.concatenate([e,np.array(sorted(lst_values_y))-np.array(sorted(y_values))])\n",
    "rmse = np.sqrt(np.mean(e**2))\n",
    "print(f\"The root mean squared error in tip locations is {rmse:.1e}.\")"
   ]
  },
  {
   "cell_type": "code",
   "execution_count": 70,
   "metadata": {
    "ExecuteTime": {
     "end_time": "2020-11-05T22:13:08.010806Z",
     "start_time": "2020-11-05T22:13:07.989835Z"
    },
    "hidden": true
   },
   "outputs": [
    {
     "name": "stdout",
     "output_type": "stream",
     "text": [
      "[ True  True  True  True  True  True  True  True  True  True]\n"
     ]
    }
   ],
   "source": [
    "boo_theta = np.array(lst_values_theta)>1/np.sqrt(2)\n",
    "print(boo_theta)"
   ]
  },
  {
   "cell_type": "code",
   "execution_count": 71,
   "metadata": {
    "ExecuteTime": {
     "end_time": "2020-11-05T22:13:08.959127Z",
     "start_time": "2020-11-05T22:13:08.940351Z"
    },
    "hidden": true
   },
   "outputs": [],
   "source": [
    "# from numpy.distutils.misc_util import Configuration, get_numpy_include_dirs\n",
    "# parent_package = ''\n",
    "# top_path=None\n",
    "# config = Configuration('measure', parent_package, top_path)\n"
   ]
  },
  {
   "cell_type": "code",
   "execution_count": 64,
   "metadata": {
    "ExecuteTime": {
     "end_time": "2020-11-05T16:10:20.705569Z",
     "start_time": "2020-11-05T16:10:20.684052Z"
    },
    "hidden": true
   },
   "outputs": [],
   "source": [
    "# config.add_extension?"
   ]
  },
  {
   "cell_type": "markdown",
   "metadata": {
    "heading_collapsed": true
   },
   "source": [
    "# TODO(later on ultrabook): try numba.cuda.njit on pythonic wrappers for functions with a cythonic implementation.\n",
    "- TODO: see `dev pycuda.ipynb` for boilerplate implementation with numba.cuda.njit"
   ]
  },
  {
   "cell_type": "markdown",
   "metadata": {},
   "source": [
    "# DONE: practical test case for fast tip detection kernel"
   ]
  },
  {
   "cell_type": "code",
   "execution_count": 36,
   "metadata": {
    "ExecuteTime": {
     "end_time": "2020-11-05T21:55:03.004674Z",
     "start_time": "2020-11-05T21:55:02.885803Z"
    }
   },
   "outputs": [],
   "source": [
    "# ## practical test case for fast tip detection kernel\n",
    "# file = '/Users/timothytyree/Documents/GitHub/care/notebooks/Data/initial-conditions-suite-1/ic-out/ic_200x200.120.32.npz'\n",
    "# txt = load_buffer(file)\n",
    "# t   = 0. #ms\n",
    "\n",
    "\n",
    "#load ^that loaded initial after 20000 steps = 500 ms at time_steps of size 0.025\n",
    "file = '/Users/timothytyree/Documents/GitHub/care/notebooks/Data/test_txt.npz'\n",
    "txt  = load_buffer(file)\n",
    "t   = 500 #ms\n",
    "\n",
    "#define tip detection routine parameters\n",
    "V_threshold = 0.4\n",
    "decimals=10\n",
    "theta_threshold = 0.\n",
    "level1 = V_threshold\n",
    "level2 = 0.0\n",
    "h    = 0.025 #ms\n",
    "\n",
    "\n",
    "zero_txt = txt.copy()*0.\n",
    "width, height = txt.shape[:2]\n",
    "\n",
    "t_list = []\n",
    "n_list = []   \n",
    "dict_lst = []"
   ]
  },
  {
   "cell_type": "code",
   "execution_count": 93,
   "metadata": {
    "ExecuteTime": {
     "end_time": "2020-11-06T01:38:55.727550Z",
     "start_time": "2020-11-06T01:38:55.707571Z"
    }
   },
   "outputs": [
    {
     "data": {
      "text/plain": [
       "6000.024999982992"
      ]
     },
     "execution_count": 93,
     "metadata": {},
     "output_type": "execute_result"
    }
   ],
   "source": [
    "tmax = 30000#6000#3025.600-2*h# 886.6-h#6000#600#510#600#505.225# #ms\n",
    "t"
   ]
  },
  {
   "cell_type": "code",
   "execution_count": 94,
   "metadata": {
    "ExecuteTime": {
     "end_time": "2020-11-06T12:26:13.922123Z",
     "start_time": "2020-11-06T01:40:23.049939Z"
    }
   },
   "outputs": [
    {
     "name": "stdout",
     "output_type": "stream",
     "text": [
      "Progress: |██████████████████████████████████████████████████| 100.0% Complete\n",
      "the current tip number is 0.\n"
     ]
    }
   ],
   "source": [
    "num_steps = int(np.around((tmax-t)/h))\n",
    "step_count = 0\n",
    "while t<tmax:\n",
    "    #TODO: insert functionality for saving every n frames\n",
    "\n",
    "    #measure system with cython\n",
    "    #compute as discrete flow map dtxt_dt\n",
    "    dtxt_dt = zero_txt.copy()\n",
    "    get_time_step(txt, dtxt_dt)\n",
    "\n",
    "    #compute the images to find isosurfaces of\n",
    "    img    = txt[...,0]\n",
    "    dimgdt = dtxt_dt[...,0]\n",
    "\n",
    "    # find_intersections\n",
    "    retval = find_intersections(img,dimgdt,level1,level2,theta_threshold=theta_threshold)\n",
    "    lst_values_x,lst_values_y,lst_values_theta, lst_values_grad_ux, lst_values_grad_uy, lst_values_grad_vx, lst_values_grad_vy = retval\n",
    "    x_values = np.array(lst_values_x)\n",
    "    y_values = np.array(lst_values_y)\n",
    "    # EP states given by bilinear interpolation with periodic boundary conditions\n",
    "    v_lst, f_lst, s_lst = interpolate_states(x_values,y_values,width,height,txt)\n",
    "    dvdt_lst, dfdt_lst, dsdt_lst = interpolate_states(x_values,y_values,width,height,dtxt_dt)\n",
    "\n",
    "    n_tips = x_values.size\n",
    "    dict_out = {\n",
    "        't': float(t),\n",
    "        'n': int(n_tips),\n",
    "        'x': tuple(lst_values_x),\n",
    "        'y': tuple(lst_values_y),\n",
    "        'theta': tuple(lst_values_theta),\n",
    "        'grad_ux': tuple(lst_values_grad_ux),\n",
    "        'grad_uy': tuple(lst_values_grad_uy),\n",
    "        'grad_vx': tuple(lst_values_grad_vx),\n",
    "        'grad_vy': tuple(lst_values_grad_vy),\n",
    "        'v':v_lst,\n",
    "        'f':f_lst,\n",
    "        's':s_lst,\n",
    "        'dvdt':dvdt_lst,\n",
    "        'dfdt':dfdt_lst,\n",
    "        'dsdt':dsdt_lst,\n",
    "    }\n",
    "    dict_lst.append(dict_out)\n",
    "    \n",
    "    #record data for current time\n",
    "    t_list.append(t)\n",
    "    n_list.append(n_tips)\n",
    "\n",
    "    #forward Euler integration in time\n",
    "    txt += h*dtxt_dt\n",
    "    t   += h\n",
    "    step_count += 1\n",
    "    \n",
    "    #progress bar that updates after each measurement\n",
    "    printProgressBar(step_count, num_steps, prefix = 'Progress:', suffix = 'Complete', length = 50)\n",
    "beep(3)\n",
    "print(f\"\\nthe current tip number is {n_tips}.\")"
   ]
  },
  {
   "cell_type": "code",
   "execution_count": 95,
   "metadata": {
    "ExecuteTime": {
     "end_time": "2020-11-11T00:11:12.776283Z",
     "start_time": "2020-11-11T00:11:12.163668Z"
    }
   },
   "outputs": [
    {
     "name": "stdout",
     "output_type": "stream",
     "text": [
      "the current tip number is 0.\n"
     ]
    }
   ],
   "source": [
    "print(f\"the current tip number is {n_tips}.\")"
   ]
  },
  {
   "cell_type": "code",
   "execution_count": 96,
   "metadata": {
    "ExecuteTime": {
     "end_time": "2020-11-11T00:17:20.931699Z",
     "start_time": "2020-11-11T00:17:20.902567Z"
    }
   },
   "outputs": [
    {
     "name": "stdout",
     "output_type": "stream",
     "text": [
      "the time per timestep+observsation is approximately 45.0 ms before accelerating on the GPU.\n"
     ]
    }
   ],
   "source": [
    "# # find_intersections\n",
    "# lst_values_x,lst_values_y,lst_values_theta, lst_values_grad_ux, lst_values_grad_uy, lst_values_grad_vx, lst_values_grad_vy = find_intersections(img,dimgdt,level1,level2)\n",
    "# x_values = np.array(lst_values_x)\n",
    "# y_values = np.array(lst_values_y)\n",
    "print(f'the time per timestep+observsation is approximately {15/(500*40)*60000} ms before accelerating on the GPU.')"
   ]
  },
  {
   "cell_type": "code",
   "execution_count": 83,
   "metadata": {
    "ExecuteTime": {
     "end_time": "2020-11-05T23:26:39.341325Z",
     "start_time": "2020-11-05T23:26:39.272519Z"
    }
   },
   "outputs": [],
   "source": [
    "# lst_values_x,lst_values_y,lst_values_theta, lst_values_grad_ux, lst_values_grad_uy, lst_values_grad_vx, lst_values_grad_vy = find_intersections(img,dimgdt,level1,level2)\n",
    "\n",
    "\n",
    "#measure system with cython\n",
    "#compute as discrete flow map dtexture_dt\n",
    "dtxt_dt = zero_txt.copy()\n",
    "get_time_step(txt, dtxt_dt)\n",
    "\n",
    "#compute the images to find isosurfaces of\n",
    "img    = txt[...,0]\n",
    "dimgdt = dtxt_dt[...,0]\n",
    "\n",
    "# find_intersections\n",
    "lst_values_x,lst_values_y,lst_values_theta, lst_values_grad_ux, lst_values_grad_uy, lst_values_grad_vx, lst_values_grad_vy = find_intersections(img,dimgdt,level1,level2)\n",
    "x_values = np.array(lst_values_x)\n",
    "y_values = np.array(lst_values_y)\n",
    "# EP states given by bilinear interpolation with periodic boundary conditions\n",
    "v_lst, f_lst, s_lst = interpolate_states(x_values,y_values,width,height,txt)\n",
    "dvdt_lst, dfdt_lst, dsdt_lst = interpolate_states(x_values,y_values,width,height,dtxt_dt)\n",
    "\n",
    "n_tips = x_values.size\n",
    "dict_out = {\n",
    "    't': float(t),\n",
    "    'n': int(n_tips),\n",
    "    'x': tuple(lst_values_x),\n",
    "    'y': tuple(lst_values_y),\n",
    "    'theta': tuple(lst_values_theta),\n",
    "    'grad_ux': tuple(lst_values_grad_ux),\n",
    "    'grad_uy': tuple(lst_values_grad_uy),\n",
    "    'grad_vx': tuple(lst_values_grad_vx),\n",
    "    'grad_vy': tuple(lst_values_grad_vy),\n",
    "    'v':v_lst,\n",
    "    'f':f_lst,\n",
    "    's':s_lst,\n",
    "    'dvdt':dvdt_lst,\n",
    "    'dfdt':dfdt_lst,\n",
    "    'dsdt':dsdt_lst,\n",
    "}\n"
   ]
  },
  {
   "cell_type": "code",
   "execution_count": 84,
   "metadata": {
    "ExecuteTime": {
     "end_time": "2020-11-05T23:27:20.148766Z",
     "start_time": "2020-11-05T23:27:18.848027Z"
    }
   },
   "outputs": [
    {
     "name": "stdout",
     "output_type": "stream",
     "text": [
      "10\n"
     ]
    }
   ],
   "source": [
    "#compare to slow, incombent method that also calculates topological numbers\n",
    "jump_threshold = 2 \n",
    "size_threshold = 0\n",
    "pad=2\n",
    "decimals=9\n",
    "\n",
    "#compute as discrete flow map dtexture_dt\n",
    "dtexture_dt = zero_txt.copy()\n",
    "get_time_step(txt, dtexture_dt)\n",
    "\n",
    "#compute the images to find isosurfaces of\n",
    "img    = txt[...,0]\n",
    "dimgdt = dtexture_dt[...,0]\n",
    "\n",
    "#compute both families of contours\n",
    "#appears to work     contours1 = find_contours(img,    level = 0.5)\n",
    "contours1 = find_contours(img,    level = V_threshold)\n",
    "contours2 = find_contours(dimgdt, level = 0.0)\n",
    "\n",
    "#find_tips and measure tip topological/EP state\n",
    "s1_list, s2_list, x_lst, y_lst, v_lst, f_lst, s_lst = measure_system(contours1, contours2, width, height, txt, \n",
    "                                                                 jump_threshold = jump_threshold, \n",
    "                                                                 size_threshold = size_threshold, \n",
    "                                                                 pad=pad, decimals=decimals)\n",
    "n_tips = x_lst.size\n",
    "dict_out = {\n",
    "'t': float(t),\n",
    "'n': int(n_tips),\n",
    "'x': tuple(x_lst),\n",
    "'y': tuple(y_lst),\n",
    "'n1': tuple(s1_list),\n",
    "'n2': tuple(s2_list),\n",
    "'v':v_lst,\n",
    "'f':f_lst,\n",
    "'s':s_lst,\n",
    "}\n",
    "\n",
    "x_values = tuple(x_lst)\n",
    "y_values = tuple(y_lst)\n",
    "# x_values = dict_out['x']\n",
    "# y_values = dict_out['y']\n",
    "# print(x_values)\n",
    "# print(y_values)\n",
    "print(len(x_values))"
   ]
  },
  {
   "cell_type": "code",
   "execution_count": 97,
   "metadata": {
    "ExecuteTime": {
     "end_time": "2020-11-11T00:22:34.422764Z",
     "start_time": "2020-11-11T00:22:33.258241Z"
    }
   },
   "outputs": [
    {
     "name": "stdout",
     "output_type": "stream",
     "text": [
      "figure saved in example_ic_200x200.120.32_t_30000.000_V_0.4.png.\n",
      "[]\n",
      "[]\n"
     ]
    },
    {
     "data": {
      "image/png": "[encoded data removed]",
      "text/plain": [
       "<Figure size 432x432 with 1 Axes>"
      ]
     },
     "metadata": {
      "needs_background": "light"
     },
     "output_type": "display_data"
    }
   ],
   "source": [
    "#TODO: plot these tips with their u's and v's\n",
    "# Display the image and plot all pbc contours found properly!\n",
    "save = True\n",
    "fig, ax = plt.subplots(figsize=(6,6))\n",
    "# fig, axs = plt.subplots(ncols = 2, figsize=(8,4))\n",
    "# ax = axs[0]\n",
    "ax.imshow(img, cmap=plt.cm.gray)\n",
    "plot_contours_pbc(contours1, ax, linewidth=2, min_num_vertices=6, linestyle='-')\n",
    "plot_contours_pbc(contours2, ax, linewidth=2, min_num_vertices=0, linestyle='--')\n",
    "\n",
    "#incumbent method yields more?\n",
    "ax.scatter(y=x_values, x=y_values, s=270, c='yellow', marker='*', zorder=3, alpha=1.)\n",
    "\n",
    "#new method\n",
    "ax.scatter(y=lst_values_x, x=lst_values_y, s=45, c='blue', marker='*', zorder=3, alpha=1.)\n",
    "\n",
    "ax.set_title(f\"Number of Tips = {n_tips}\")\n",
    "ax.axis('image')\n",
    "# ax.set_xticks([])\n",
    "# ax.set_yticks([])\n",
    "\n",
    "if not save:\n",
    "    plt.show()\n",
    "else:\n",
    "    os.chdir(nb_dir)\n",
    "    os.chdir('Figures/methods')\n",
    "    save_fn = f\"example_ic_200x200.120.32_t_{t:.3f}_V_{V_threshold}.png\"\n",
    "    plt.savefig(save_fn)\n",
    "    print(f'figure saved in {save_fn}.')\n",
    "    #     plt.savefig('example_parameterless_tip_detection_t_600.png')\n",
    "    \n",
    "print(sorted(x_values))\n",
    "print(sorted(lst_values_x))"
   ]
  },
  {
   "cell_type": "code",
   "execution_count": 98,
   "metadata": {
    "ExecuteTime": {
     "end_time": "2020-11-11T00:28:07.073165Z",
     "start_time": "2020-11-11T00:28:06.238516Z"
    },
    "scrolled": true
   },
   "outputs": [
    {
     "name": "stdout",
     "output_type": "stream",
     "text": [
      "1180000\n"
     ]
    },
    {
     "data": {
      "image/png": "[encoded data removed]",
      "text/plain": [
       "<Figure size 432x288 with 1 Axes>"
      ]
     },
     "metadata": {
      "needs_background": "light"
     },
     "output_type": "display_data"
    }
   ],
   "source": [
    "#plot tip number versus time\n",
    "x_values = t_list\n",
    "y_values = n_list\n",
    "\n",
    "num_observations = len(x_values)\n",
    "print(num_observations)\n",
    "\n",
    "save = True\n",
    "plt.plot(x_values,y_values)\n",
    "plt.title(f\"recording every 25 µs\")\n",
    "plt.xlabel(f\"time (ms)\")\n",
    "plt.ylabel(f\"number of spiral tips\")\n",
    "# ax.set_xticks([])\n",
    "# plt.yticks([2,4,6,8,10,12,14,16,18,20,22])\n",
    "if not save:\n",
    "    plt.show()\n",
    "else:\n",
    "    os.chdir(nb_dir)\n",
    "    os.chdir('Figures/methods')\n",
    "    plt.savefig(f\"n_vs_t_200x200.120.32_num_tips_t_0_{t}_V_{V_threshold}.png\")\n",
    "    #     plt.savefig('example_no_high_frequency_birth_deaths_t_500_600.png')"
   ]
  },
  {
   "cell_type": "code",
   "execution_count": 99,
   "metadata": {
    "ExecuteTime": {
     "end_time": "2020-11-11T01:01:12.443663Z",
     "start_time": "2020-11-11T00:33:33.916318Z"
    }
   },
   "outputs": [
    {
     "ename": "NameError",
     "evalue": "name 'save_every_n_frames' is not defined",
     "output_type": "error",
     "traceback": [
      "\u001b[0;31m---------------------------------------------------------------------------\u001b[0m",
      "\u001b[0;31mNameError\u001b[0m                                 Traceback (most recent call last)",
      "\u001b[0;32m<ipython-input-99-4f0a0e206a71>\u001b[0m in \u001b[0;36m<module>\u001b[0;34m\u001b[0m\n\u001b[1;32m     14\u001b[0m     \u001b[0;32mif\u001b[0m \u001b[0mn_tips\u001b[0m\u001b[0;34m==\u001b[0m\u001b[0;36m0\u001b[0m\u001b[0;34m:\u001b[0m\u001b[0;34m\u001b[0m\u001b[0;34m\u001b[0m\u001b[0m\n\u001b[1;32m     15\u001b[0m         \u001b[0mnext_id\u001b[0m \u001b[0;34m=\u001b[0m \u001b[0mdf\u001b[0m\u001b[0;34m.\u001b[0m\u001b[0mindex\u001b[0m\u001b[0;34m.\u001b[0m\u001b[0mvalues\u001b[0m\u001b[0;34m[\u001b[0m\u001b[0;34m-\u001b[0m\u001b[0;36m1\u001b[0m\u001b[0;34m]\u001b[0m\u001b[0;34m+\u001b[0m\u001b[0;36m1\u001b[0m\u001b[0;34m\u001b[0m\u001b[0;34m\u001b[0m\u001b[0m\n\u001b[0;32m---> 16\u001b[0;31m         \u001b[0mdf\u001b[0m \u001b[0;34m=\u001b[0m \u001b[0mpd\u001b[0m\u001b[0;34m.\u001b[0m\u001b[0mconcat\u001b[0m\u001b[0;34m(\u001b[0m\u001b[0;34m[\u001b[0m\u001b[0mdf\u001b[0m\u001b[0;34m,\u001b[0m\u001b[0mpd\u001b[0m\u001b[0;34m.\u001b[0m\u001b[0mDataFrame\u001b[0m\u001b[0;34m(\u001b[0m\u001b[0;34m{\u001b[0m\u001b[0;34m't'\u001b[0m\u001b[0;34m:\u001b[0m \u001b[0mfloat\u001b[0m\u001b[0;34m(\u001b[0m\u001b[0msave_every_n_frames\u001b[0m\u001b[0;34m*\u001b[0m\u001b[0mh\u001b[0m\u001b[0;34m+\u001b[0m\u001b[0mt\u001b[0m\u001b[0;34m)\u001b[0m\u001b[0;34m,\u001b[0m\u001b[0;34m'n'\u001b[0m\u001b[0;34m:\u001b[0m \u001b[0mint\u001b[0m\u001b[0;34m(\u001b[0m\u001b[0mn_tips\u001b[0m\u001b[0;34m)\u001b[0m\u001b[0;34m}\u001b[0m\u001b[0;34m,\u001b[0m \u001b[0mindex\u001b[0m \u001b[0;34m=\u001b[0m \u001b[0;34m[\u001b[0m\u001b[0mnext_id\u001b[0m\u001b[0;34m]\u001b[0m\u001b[0;34m)\u001b[0m\u001b[0;34m]\u001b[0m\u001b[0;34m)\u001b[0m\u001b[0;34m\u001b[0m\u001b[0;34m\u001b[0m\u001b[0m\n\u001b[0m\u001b[1;32m     17\u001b[0m     \u001b[0;31m#save the recorded data\u001b[0m\u001b[0;34m\u001b[0m\u001b[0;34m\u001b[0m\u001b[0;34m\u001b[0m\u001b[0m\n\u001b[1;32m     18\u001b[0m     \u001b[0mround_output_decimals\u001b[0m \u001b[0;34m=\u001b[0m \u001b[0;36m6\u001b[0m\u001b[0;34m\u001b[0m\u001b[0;34m\u001b[0m\u001b[0m\n",
      "\u001b[0;31mNameError\u001b[0m: name 'save_every_n_frames' is not defined"
     ]
    }
   ],
   "source": [
    "data_dir_log = f\"tip_log_ic_200x200.120.32_V_{V_threshold}__t_{t:.1}.csv\"\n",
    "\n",
    "# #save tip number timeseries\n",
    "# df = pd.DataFrame({'t':t_list,'n':n_list})\n",
    "# df.to_csv(data_dir_log, index=False)\n",
    "\n",
    "#save tip dict timeseries\n",
    "saving = True\n",
    "printing = True\n",
    "if saving:\n",
    "    df = pd.concat([pd.DataFrame(dict_out) for dict_out in dict_lst])\n",
    "    df.reset_index(inplace=True, drop=True)\n",
    "    #if the end of AF was indeed reachded, append a row recording this\n",
    "    if n_tips==0:\n",
    "        next_id = df.index.values[-1]+1\n",
    "        df = pd.concat([df,pd.DataFrame({'t': float(save_every_n_frames*h+t),'n': int(n_tips)}, index = [next_id])])\n",
    "    #save the recorded data\n",
    "    round_output_decimals = 6\n",
    "    df.round(round_output_decimals).to_csv(data_dir_log, index=False)\n",
    "    if printing:\n",
    "        print('saved to:')\n",
    "        print(data_dir_log)"
   ]
  },
  {
   "cell_type": "code",
   "execution_count": null,
   "metadata": {
    "ExecuteTime": {
     "end_time": "2020-11-11T01:01:12.465974Z",
     "start_time": "2020-11-11T00:11:58.200Z"
    }
   },
   "outputs": [],
   "source": [
    "print(data_dir_log)\n",
    "!pwd"
   ]
  },
  {
   "cell_type": "code",
   "execution_count": 101,
   "metadata": {
    "ExecuteTime": {
     "end_time": "2020-11-12T21:05:15.232866Z",
     "start_time": "2020-11-12T21:05:15.205040Z"
    }
   },
   "outputs": [
    {
     "data": {
      "text/plain": [
       "0"
      ]
     },
     "execution_count": 101,
     "metadata": {},
     "output_type": "execute_result"
    }
   ],
   "source": [
    "n_tips\n"
   ]
  },
  {
   "cell_type": "code",
   "execution_count": null,
   "metadata": {
    "ExecuteTime": {
     "end_time": "2020-11-11T01:01:12.471178Z",
     "start_time": "2020-11-11T00:12:09.904Z"
    }
   },
   "outputs": [],
   "source": [
    "round_output_decimals = 6\n",
    "printing = True\n",
    "df.round(round_output_decimals).to_csv(data_dir_log, index=False)\n",
    "if printing:\n",
    "    print('saved to:')\n",
    "    print(data_dir_log)"
   ]
  },
  {
   "cell_type": "code",
   "execution_count": null,
   "metadata": {
    "ExecuteTime": {
     "end_time": "2020-11-11T01:01:12.477178Z",
     "start_time": "2020-11-11T00:12:24.439Z"
    }
   },
   "outputs": [],
   "source": [
    "beep(1)\n",
    "df.columns"
   ]
  },
  {
   "cell_type": "markdown",
   "metadata": {},
   "source": [
    "- TODO: check that no odd tips occurred"
   ]
  },
  {
   "cell_type": "code",
   "execution_count": 33,
   "metadata": {
    "ExecuteTime": {
     "end_time": "2020-11-05T21:53:53.254838Z",
     "start_time": "2020-11-05T21:53:53.169675Z"
    }
   },
   "outputs": [],
   "source": [
    "#TODO: save txt and then reproduce the high tip number using a \n",
    "np.savez_compressed('tip_log_ic_200x200.120.32_V_0.4__t_1e+03.npz',txt)"
   ]
  },
  {
   "cell_type": "code",
   "execution_count": 34,
   "metadata": {
    "ExecuteTime": {
     "end_time": "2020-11-05T21:54:03.334886Z",
     "start_time": "2020-11-05T21:54:03.280758Z"
    }
   },
   "outputs": [
    {
     "name": "stdout",
     "output_type": "stream",
     "text": [
      "odd births occured at\n",
      "[]\n",
      "odd deaths occured at\n",
      "[]\n"
     ]
    }
   ],
   "source": [
    "boo = df.n.diff().values==1\n",
    "print('odd births occured at')\n",
    "print(df[boo].t.values)\n",
    "\n",
    "boo = df.n.diff().values==-1\n",
    "print('odd deaths occured at')\n",
    "print(df[boo].t.values)"
   ]
  },
  {
   "cell_type": "markdown",
   "metadata": {},
   "source": [
    "Lots of bad tips are occuring, but there are never an odd number of them.\n",
    "- DONE: reproduce the problem\n",
    "- DONE: debug bad tips"
   ]
  },
  {
   "cell_type": "code",
   "execution_count": 35,
   "metadata": {
    "ExecuteTime": {
     "end_time": "2020-11-05T21:54:13.270681Z",
     "start_time": "2020-11-05T21:54:13.018127Z"
    }
   },
   "outputs": [
    {
     "data": {
      "text/plain": [
       "0"
      ]
     },
     "execution_count": 35,
     "metadata": {},
     "output_type": "execute_result"
    }
   ],
   "source": [
    "beep(1)"
   ]
  },
  {
   "cell_type": "markdown",
   "metadata": {},
   "source": [
    "- TODO: double check that 1 ms is a reasonable sampling frequency"
   ]
  },
  {
   "cell_type": "code",
   "execution_count": null,
   "metadata": {},
   "outputs": [],
   "source": [
    "print('sampling frequency must be lower than the following to resolve high freq. bdrates (ms):')\n",
    "print(526.975-525.125)\n",
    "print(593.425-592.)"
   ]
  },
  {
   "cell_type": "markdown",
   "metadata": {},
   "source": [
    "__Then,__\n",
    "- DONE: use old tip_detection routine to make a new tip_detection_..._kernel.py routine\n",
    "- DONE: update github\n",
    "- DONE(on UB): start daskbag working on initial-condition-suite-2\n",
    "- TODO(on Mac): preliminary data analysis for tip filtering.  \n",
    "    - DONE - Is there clear evidence for using theta to identify bad tips? T\n",
    "    - Filter by theta > theta_threshold = 1/np.sqrt(2). \n",
    "    - Recompute tip number.\n",
    "    - How do bdrates look now? Are they reasonable?\n",
    "    - For ^that, how do the trajectories look?"
   ]
  },
  {
   "cell_type": "markdown",
   "metadata": {
    "heading_collapsed": true
   },
   "source": [
    "#  DONE: debug the late times with >200 spiral tips"
   ]
  },
  {
   "cell_type": "code",
   "execution_count": 2,
   "metadata": {
    "ExecuteTime": {
     "end_time": "2020-11-05T21:25:33.621647Z",
     "start_time": "2020-11-05T21:25:33.590240Z"
    },
    "hidden": true
   },
   "outputs": [],
   "source": [
    "os.chdir(nb_dir)\n",
    "os.chdir('Figures/methods')\n",
    "txt = load_buffer('tip_log_ic_200x200.120.32_V_0.4__t_2e+03.npz')"
   ]
  },
  {
   "cell_type": "code",
   "execution_count": 6,
   "metadata": {
    "ExecuteTime": {
     "end_time": "2020-11-05T21:27:24.963441Z",
     "start_time": "2020-11-05T21:27:24.774675Z"
    },
    "hidden": true
   },
   "outputs": [
    {
     "data": {
      "text/plain": [
       "<matplotlib.image.AxesImage at 0x1381e2430>"
      ]
     },
     "execution_count": 6,
     "metadata": {},
     "output_type": "execute_result"
    },
    {
     "data": {
      "image/png": "[encoded data removed]",
      "text/plain": [
       "<Figure size 432x288 with 1 Axes>"
      ]
     },
     "metadata": {
      "needs_background": "light"
     },
     "output_type": "display_data"
    }
   ],
   "source": [
    "plt.imshow(txt[...,0],cmap='gray')"
   ]
  },
  {
   "cell_type": "code",
   "execution_count": 10,
   "metadata": {
    "ExecuteTime": {
     "end_time": "2020-11-05T21:31:40.782671Z",
     "start_time": "2020-11-05T21:31:40.598718Z"
    },
    "hidden": true
   },
   "outputs": [
    {
     "data": {
      "text/plain": [
       "<matplotlib.image.AxesImage at 0x138d56130>"
      ]
     },
     "execution_count": 10,
     "metadata": {},
     "output_type": "execute_result"
    },
    {
     "data": {
      "image/png": "[encoded data removed]",
      "text/plain": [
       "<Figure size 432x288 with 1 Axes>"
      ]
     },
     "metadata": {
      "needs_background": "light"
     },
     "output_type": "display_data"
    }
   ],
   "source": [
    "plt.imshow(dtxt_dt[...,0],cmap='gray')"
   ]
  },
  {
   "cell_type": "code",
   "execution_count": 8,
   "metadata": {
    "ExecuteTime": {
     "end_time": "2020-11-05T21:31:11.722931Z",
     "start_time": "2020-11-05T21:31:09.902033Z"
    },
    "hidden": true
   },
   "outputs": [],
   "source": [
    "#measure system with cython\n",
    "#compute as discrete flow map dtxt_dt\n",
    "dtxt_dt = zero_txt.copy()\n",
    "get_time_step(txt, dtxt_dt)\n",
    "\n",
    "#compute the images to find isosurfaces of\n",
    "img    = txt[...,0]\n",
    "dimgdt = dtxt_dt[...,0]\n",
    "\n",
    "# find_intersections\n",
    "retval = find_intersections(img,dimgdt,level1,level2,theta_threshold=theta_threshold)\n",
    "lst_values_x,lst_values_y,lst_values_theta, lst_values_grad_ux, lst_values_grad_uy, lst_values_grad_vx, lst_values_grad_vy = retval\n",
    "x_values = np.array(lst_values_x)\n",
    "y_values = np.array(lst_values_y)\n",
    "# EP states given by bilinear interpolation with periodic boundary conditions\n",
    "v_lst, f_lst, s_lst = interpolate_states(x_values,y_values,width,height,txt)\n",
    "dvdt_lst, dfdt_lst, dsdt_lst = interpolate_states(x_values,y_values,width,height,dtxt_dt)\n",
    "\n",
    "n_tips = x_values.size\n",
    "dict_out = {\n",
    "    't': float(t),\n",
    "    'n': int(n_tips),\n",
    "    'x': tuple(lst_values_x),\n",
    "    'y': tuple(lst_values_y),\n",
    "    'theta': tuple(lst_values_theta),\n",
    "    'grad_ux': tuple(lst_values_grad_ux),\n",
    "    'grad_uy': tuple(lst_values_grad_uy),\n",
    "    'grad_vx': tuple(lst_values_grad_vx),\n",
    "    'grad_vy': tuple(lst_values_grad_vy),\n",
    "    'v':v_lst,\n",
    "    'f':f_lst,\n",
    "    's':s_lst,\n",
    "    'dvdt':dvdt_lst,\n",
    "    'dfdt':dfdt_lst,\n",
    "    'dsdt':dsdt_lst,\n",
    "}\n",
    "dict_lst.append(dict_out)\n",
    "\n",
    "#record data for current time\n",
    "t_list.append(t)\n",
    "n_list.append(n_tips)"
   ]
  },
  {
   "cell_type": "markdown",
   "metadata": {
    "ExecuteTime": {
     "end_time": "2020-11-05T21:31:15.378973Z",
     "start_time": "2020-11-05T21:31:15.350963Z"
    }
   },
   "source": [
    "# DONE: Test the full routine for generating tip logs"
   ]
  },
  {
   "cell_type": "code",
   "execution_count": 202,
   "metadata": {
    "ExecuteTime": {
     "end_time": "2020-11-05T23:32:10.005100Z",
     "start_time": "2020-11-05T23:32:09.978163Z"
    }
   },
   "outputs": [],
   "source": [
    "from lib.routines.kwargs_cy import get_kwargs\n",
    "from lib.routines.generate_tip_logs_cy import generate_tip_logs_from_ic\n",
    "def run_routine(ic):\n",
    "    kwargs = get_kwargs(ic)\n",
    "    kwargs = generate_tip_logs_from_ic(ic, **kwargs)\n",
    "    return True"
   ]
  },
  {
   "cell_type": "code",
   "execution_count": 203,
   "metadata": {
    "ExecuteTime": {
     "end_time": "2020-11-05T23:32:13.651359Z",
     "start_time": "2020-11-05T23:32:13.625512Z"
    }
   },
   "outputs": [
    {
     "data": {
      "text/plain": [
       "<function lib.routines.kwargs_cy.get_kwargs(ic)>"
      ]
     },
     "execution_count": 203,
     "metadata": {},
     "output_type": "execute_result"
    }
   ],
   "source": [
    "get_kwargs"
   ]
  },
  {
   "cell_type": "code",
   "execution_count": 204,
   "metadata": {
    "ExecuteTime": {
     "end_time": "2020-11-05T23:32:14.519371Z",
     "start_time": "2020-11-05T23:32:14.493600Z"
    }
   },
   "outputs": [
    {
     "data": {
      "text/plain": [
       "<function lib.routines.generate_tip_logs_cy.generate_tip_logs_from_ic(initial_condition_dir, h, tmax, V_threshold, theta_threshold, tmin_early_stopping, save_every_n_frames, round_output_decimals, timing, printing, logging, asserting, beeping, saving, data_dir_log, completed_ic_dir, print_log_dir, **kwargs)>"
      ]
     },
     "execution_count": 204,
     "metadata": {},
     "output_type": "execute_result"
    }
   ],
   "source": [
    "generate_tip_logs_from_ic"
   ]
  },
  {
   "cell_type": "code",
   "execution_count": 206,
   "metadata": {
    "ExecuteTime": {
     "end_time": "2020-11-05T23:32:26.047093Z",
     "start_time": "2020-11-05T23:32:26.023511Z"
    }
   },
   "outputs": [],
   "source": [
    "# ic = search_for_file()\n",
    "ic = '/Users/timothytyree/Documents/GitHub/care/notebooks/Data/initial-conditions-suite-1/ic-in/ic_200x200.121.32.npz'\n",
    "kwargs = get_kwargs(ic)"
   ]
  },
  {
   "cell_type": "code",
   "execution_count": 207,
   "metadata": {
    "ExecuteTime": {
     "end_time": "2020-11-05T23:32:27.192358Z",
     "start_time": "2020-11-05T23:32:27.167983Z"
    }
   },
   "outputs": [],
   "source": [
    "kwargs['tmax'] = 100"
   ]
  },
  {
   "cell_type": "code",
   "execution_count": 208,
   "metadata": {
    "ExecuteTime": {
     "end_time": "2020-11-05T23:33:05.129646Z",
     "start_time": "2020-11-05T23:32:27.892462Z"
    }
   },
   "outputs": [],
   "source": [
    "kwargs = generate_tip_logs_from_ic(ic, **kwargs)"
   ]
  },
  {
   "cell_type": "code",
   "execution_count": 209,
   "metadata": {
    "ExecuteTime": {
     "end_time": "2020-11-05T23:33:06.261235Z",
     "start_time": "2020-11-05T23:33:05.566083Z"
    }
   },
   "outputs": [
    {
     "data": {
      "text/plain": [
       "0"
      ]
     },
     "execution_count": 209,
     "metadata": {},
     "output_type": "execute_result"
    }
   ],
   "source": [
    "beep(3)"
   ]
  },
  {
   "cell_type": "markdown",
   "metadata": {},
   "source": [
    "# dev method that combines this fast method with the full color method\n",
    "6.9.2021"
   ]
  },
  {
   "cell_type": "code",
   "execution_count": null,
   "metadata": {},
   "outputs": [],
   "source": []
  }
 ],
 "metadata": {
  "kernelspec": {
   "display_name": "Python 3",
   "language": "python",
   "name": "python3"
  },
  "language_info": {
   "codemirror_mode": {
    "name": "ipython",
    "version": 3
   },
   "file_extension": ".py",
   "mimetype": "text/x-python",
   "name": "python",
   "nbconvert_exporter": "python",
   "pygments_lexer": "ipython3",
   "version": "3.7.6"
  },
  "toc": {
   "base_numbering": 1,
   "nav_menu": {},
   "number_sections": true,
   "sideBar": true,
   "skip_h1_title": false,
   "title_cell": "Table of Contents",
   "title_sidebar": "Contents",
   "toc_cell": false,
   "toc_position": {},
   "toc_section_display": true,
   "toc_window_display": false
  },
  "varInspector": {
   "cols": {
    "lenName": 16,
    "lenType": 16,
    "lenVar": 40
   },
   "kernels_config": {
    "python": {
     "delete_cmd_postfix": "",
     "delete_cmd_prefix": "del ",
     "library": "var_list.py",
     "varRefreshCmd": "print(var_dic_list())"
    },
    "r": {
     "delete_cmd_postfix": ") ",
     "delete_cmd_prefix": "rm(",
     "library": "var_list.r",
     "varRefreshCmd": "cat(var_dic_list()) "
    }
   },
   "types_to_exclude": [
    "module",
    "function",
    "builtin_function_or_method",
    "instance",
    "_Feature"
   ],
   "window_display": false
  }
 },
 "nbformat": 4,
 "nbformat_minor": 4
}
