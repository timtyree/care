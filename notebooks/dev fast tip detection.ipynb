{
 "cells": [
  {
   "cell_type": "markdown",
   "metadata": {},
   "source": [
    "# dev fast tip detection\n",
    "Tim Tyree<br>\n",
    "10.5.2020"
   ]
  },
  {
   "cell_type": "code",
   "execution_count": 1,
   "metadata": {
    "ExecuteTime": {
     "end_time": "2020-11-04T19:07:46.172528Z",
     "start_time": "2020-11-04T19:07:43.173977Z"
    }
   },
   "outputs": [
    {
     "name": "stdout",
     "output_type": "stream",
     "text": [
      "100000\n",
      "Automatic calling is: Smart\n"
     ]
    }
   ],
   "source": [
    "#pylab\n",
    "%matplotlib inline\n",
    "import numpy as np, pandas as pd, matplotlib.pyplot as plt\n",
    "\n",
    "import skimage as sk\n",
    "from skimage import measure, filters\n",
    "\n",
    "from numba import njit, jit, vectorize\n",
    "from PIL import Image\n",
    "import imageio\n",
    "# import cv2 as cv\n",
    "\n",
    "#automate the boring stuff\n",
    "from IPython import utils\n",
    "import time, os, sys, re\n",
    "beep = lambda x: os.system(\"echo -n '\\\\a';sleep 0.2;\" * x)\n",
    "if not 'nb_dir' in globals():\n",
    "    nb_dir = os.getcwd()\n",
    "width = 512\n",
    "height = 512\n",
    "channel_no = 3\n",
    "\n",
    "# #load the libraries\n",
    "from lib import *\n",
    "\n",
    "#use cuda via numba\n",
    "from numba import jit, njit, vectorize, cuda, uint32, f8, uint8\n",
    "from numba.typed import List\n",
    "# from lib.contours_to_tips import *\n",
    "\n",
    "%autocall 1\n",
    "%load_ext autoreload\n",
    "%autoreload 2"
   ]
  },
  {
   "cell_type": "markdown",
   "metadata": {},
   "source": [
    "# return an example block of 2x2 pixels with pbc"
   ]
  },
  {
   "cell_type": "code",
   "execution_count": 14,
   "metadata": {
    "ExecuteTime": {
     "end_time": "2020-11-04T22:43:36.550888Z",
     "start_time": "2020-11-04T22:43:35.482109Z"
    }
   },
   "outputs": [],
   "source": [
    "#load ^that loaded initial after 20000 steps = 500 ms at time_steps of size 0.025\n",
    "file = '/Users/timothytyree/Documents/GitHub/care/notebooks/Data/test_txt.npz'\n",
    "txt  = load_buffer(file)\n",
    "t   = 500 #ms\n",
    "\n",
    "zero_txt = txt.copy()*0.\n",
    "width, height = txt.shape[:2]\n",
    "\n",
    "#compute as discrete flow map dtexture_dt\n",
    "dtexture_dt = zero_txt.copy()\n",
    "get_time_step(txt, dtexture_dt)\n",
    "\n",
    "#compute the images to find isosurfaces of\n",
    "img    = txt[...,0]\n",
    "dimgdt = dtexture_dt[...,0]"
   ]
  },
  {
   "cell_type": "code",
   "execution_count": 26,
   "metadata": {
    "ExecuteTime": {
     "end_time": "2020-11-05T00:20:43.433844Z",
     "start_time": "2020-11-05T00:20:43.351765Z"
    }
   },
   "outputs": [],
   "source": [
    "h    = 0.025 #ms\n",
    "tmax = 3500#3025.600-2*h# 886.6-h#6000#600#510#600#505.225# #ms\n",
    "\n",
    "V_threshold = 0.8\n",
    "# jump_threshold = 2 \n",
    "# size_threshold = 0\n",
    "# pad=2\n",
    "# decimals=10\n",
    "\n",
    "\n",
    "array1 = img\n",
    "array2 = dimgdt\n",
    "\n",
    "level1 = 0.4\n",
    "level2 = 0.0"
   ]
  },
  {
   "cell_type": "code",
   "execution_count": 18,
   "metadata": {
    "ExecuteTime": {
     "end_time": "2020-11-04T22:44:27.330830Z",
     "start_time": "2020-11-04T22:44:27.295600Z"
    }
   },
   "outputs": [],
   "source": [
    "#for each window\n",
    "r0 = 5\n",
    "c0 = 10\n",
    "# if r1>r0 and c1>c0:\n",
    "win = array1[r0:r0+2,c0:c0+2]\n",
    "#else handle the edge case"
   ]
  },
  {
   "cell_type": "code",
   "execution_count": 23,
   "metadata": {
    "ExecuteTime": {
     "end_time": "2020-11-04T22:45:00.183620Z",
     "start_time": "2020-11-04T22:45:00.153842Z"
    }
   },
   "outputs": [],
   "source": [
    "assert (win.shape == (2, 2))"
   ]
  },
  {
   "cell_type": "code",
   "execution_count": 24,
   "metadata": {
    "ExecuteTime": {
     "end_time": "2020-11-04T22:48:56.214161Z",
     "start_time": "2020-11-04T22:48:56.185909Z"
    }
   },
   "outputs": [
    {
     "ename": "SyntaxError",
     "evalue": "unexpected EOF while parsing (<ipython-input-24-d568b4cadeac>, line 7)",
     "output_type": "error",
     "traceback": [
      "\u001b[0;36m  File \u001b[0;32m\"<ipython-input-24-d568b4cadeac>\"\u001b[0;36m, line \u001b[0;32m7\u001b[0m\n\u001b[0;31m    \u001b[0m\n\u001b[0m    ^\u001b[0m\n\u001b[0;31mSyntaxError\u001b[0m\u001b[0;31m:\u001b[0m unexpected EOF while parsing\n"
     ]
    }
   ],
   "source": [
    "#test based dev of needed functions\n",
    "# def compute_segments_in_window(win):\n",
    "#     pass\n",
    "def compute_segments_in_window(ul,ll,ur,ul):\n",
    "    pass\n",
    "    #TODO:     make a cythonic solution  in sublime\n",
    "    #TODO: break ^this up into smaller functions\n",
    "    \n",
    "def compute_theta(u,v):\n",
    "    pass\n",
    "    #how is a segment structured?\n",
    "\n",
    "def compute_intersect(u,v):\n",
    "    pass\n",
    "    #how is a segment structured?\n",
    "def _box(u,v):\n",
    "    originx = np.min(u[0])\n",
    "    #how is a segment structured?\n",
    "def _is_point_in_box(pt,box):\n",
    "    pt[0] >= box\n",
    "    #how is a box structured?\n",
    "\n"
   ]
  },
  {
   "cell_type": "code",
   "execution_count": 25,
   "metadata": {
    "ExecuteTime": {
     "end_time": "2020-11-04T23:17:10.317510Z",
     "start_time": "2020-11-04T23:17:10.275717Z"
    }
   },
   "outputs": [
    {
     "ename": "NameError",
     "evalue": "name 'compute_segments_in_window' is not defined",
     "output_type": "error",
     "traceback": [
      "\u001b[0;31m---------------------------------------------------------------------------\u001b[0m",
      "\u001b[0;31mNameError\u001b[0m                                 Traceback (most recent call last)",
      "\u001b[0;32m<ipython-input-25-ec22f6571022>\u001b[0m in \u001b[0;36m<module>\u001b[0;34m\u001b[0m\n\u001b[0;32m----> 1\u001b[0;31m \u001b[0msegments\u001b[0m \u001b[0;34m=\u001b[0m \u001b[0mcompute_segments_in_window\u001b[0m\u001b[0;34m(\u001b[0m\u001b[0mul\u001b[0m\u001b[0;34m,\u001b[0m\u001b[0mll\u001b[0m\u001b[0;34m,\u001b[0m\u001b[0mur\u001b[0m\u001b[0;34m,\u001b[0m\u001b[0mul\u001b[0m\u001b[0;34m,\u001b[0m\u001b[0mlevel\u001b[0m\u001b[0;34m)\u001b[0m\u001b[0;34m\u001b[0m\u001b[0;34m\u001b[0m\u001b[0m\n\u001b[0m",
      "\u001b[0;31mNameError\u001b[0m: name 'compute_segments_in_window' is not defined"
     ]
    }
   ],
   "source": [
    "segments = compute_segments_in_window(ul,ll,ur,ul,level)"
   ]
  },
  {
   "cell_type": "code",
   "execution_count": null,
   "metadata": {},
   "outputs": [],
   "source": []
  }
 ],
 "metadata": {
  "kernelspec": {
   "display_name": "Python 3",
   "language": "python",
   "name": "python3"
  },
  "language_info": {
   "codemirror_mode": {
    "name": "ipython",
    "version": 3
   },
   "file_extension": ".py",
   "mimetype": "text/x-python",
   "name": "python",
   "nbconvert_exporter": "python",
   "pygments_lexer": "ipython3",
   "version": "3.8.5"
  },
  "varInspector": {
   "cols": {
    "lenName": 16,
    "lenType": 16,
    "lenVar": 40
   },
   "kernels_config": {
    "python": {
     "delete_cmd_postfix": "",
     "delete_cmd_prefix": "del ",
     "library": "var_list.py",
     "varRefreshCmd": "print(var_dic_list())"
    },
    "r": {
     "delete_cmd_postfix": ") ",
     "delete_cmd_prefix": "rm(",
     "library": "var_list.r",
     "varRefreshCmd": "cat(var_dic_list()) "
    }
   },
   "types_to_exclude": [
    "module",
    "function",
    "builtin_function_or_method",
    "instance",
    "_Feature"
   ],
   "window_display": false
  }
 },
 "nbformat": 4,
 "nbformat_minor": 4
}
