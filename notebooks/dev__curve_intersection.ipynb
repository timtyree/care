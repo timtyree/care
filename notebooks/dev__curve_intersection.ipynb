{
 "cells": [
  {
   "cell_type": "markdown",
   "metadata": {},
   "source": [
    "# dev for Getting intersections of curves in numpy"
   ]
  },
  {
   "cell_type": "code",
   "execution_count": 2,
   "metadata": {
    "ExecuteTime": {
     "end_time": "2020-06-08T09:02:07.786097Z",
     "start_time": "2020-06-08T09:02:07.741681Z"
    }
   },
   "outputs": [
    {
     "name": "stdout",
     "output_type": "stream",
     "text": [
      "Automatic calling is: Smart\n",
      "The autoreload extension is already loaded. To reload it, use:\n",
      "  %reload_ext autoreload\n"
     ]
    }
   ],
   "source": [
    "#pylab\n",
    "%matplotlib inline\n",
    "import numpy as np, pandas as pd, matplotlib.pyplot as plt\n",
    "from pylab import imshow, show\n",
    "\n",
    "import skimage as sk\n",
    "from skimage import measure, filters\n",
    "\n",
    "import matplotlib.pyplot as plt, numpy as np, os\n",
    "from numba import njit, jit, vectorize\n",
    "from PIL import Image\n",
    "import imageio\n",
    "# import cv2 as cv\n",
    "\n",
    "#automate the boring stuff\n",
    "from IPython import utils\n",
    "import time, os, sys, re\n",
    "beep = lambda x: os.system(\"echo -n '\\\\a';sleep 0.2;\" * x)\n",
    "if not 'nb_dir' in globals():\n",
    "    nb_dir = os.getcwd()\n",
    "width = 512\n",
    "height = 512\n",
    "channel_no = 3\n",
    "\n",
    "#load the libraries\n",
    "from lib.operari import *\n",
    "from lib.ProgressBar import *\n",
    "from lib.minimal_model import *\n",
    "from lib.TexturePlot import *\n",
    "from lib.get_tips import *\n",
    "from lib.minimal_model import *\n",
    "from lib.intersection import *\n",
    "#TODO: use cuda via numba\n",
    "from numba import jit, njit, vectorize, cuda, uint32, f8, uint8\n",
    "# from lib.contours_to_tips import *\n",
    "\n",
    "%autocall 1\n",
    "%load_ext autoreload\n",
    "%autoreload 2"
   ]
  },
  {
   "cell_type": "markdown",
   "metadata": {},
   "source": [
    "### runtime speedtest results"
   ]
  },
  {
   "cell_type": "code",
   "execution_count": null,
   "metadata": {},
   "outputs": [],
   "source": [
    "a, b = 1, 2\n",
    "phi = np.linspace(3, 10, 100)\n",
    "x1 = a*phi - b*np.sin(phi)\n",
    "y1 = a - b*np.cos(phi)\n",
    "\n",
    "x2=phi\n",
    "y2=np.sin(phi)+2\n",
    "tips = intersection(x1,y1,x2,y2)\n",
    "x,y = tips\n",
    "\n",
    "plt.plot(x1,y1,c='r')\n",
    "plt.plot(x2,y2,c='g')\n",
    "plt.plot(x,y,'*k')\n",
    "plt.show()"
   ]
  },
  {
   "cell_type": "markdown",
   "metadata": {},
   "source": [
    "- without numba = 3.34 seconds"
   ]
  },
  {
   "cell_type": "code",
   "execution_count": null,
   "metadata": {},
   "outputs": [],
   "source": [
    "%time\n",
    "tips = intersection(x1,y1,x2,y2)"
   ]
  },
  {
   "cell_type": "markdown",
   "metadata": {
    "heading_collapsed": true
   },
   "source": [
    "# define hidden helper functions"
   ]
  },
  {
   "cell_type": "code",
   "execution_count": null,
   "metadata": {
    "hidden": true
   },
   "outputs": [],
   "source": [
    "def _rect_inter_inner(x1, x2):\n",
    "    assert(type(x1)==np.ndarray)\n",
    "    assert(type(x2)==np.ndarray)\n",
    "    n1 = x1.shape[0]-1\n",
    "    n2 = x2.shape[0]-1\n",
    "    X1 = np.c_[x1[:-1], x1[1:]]\n",
    "    X2 = np.c_[x2[:-1], x2[1:]]\n",
    "    S1 = np.tile(X1.min(axis=1), (n2, 1)).T\n",
    "    S2 = np.tile(X2.max(axis=1), (n1, 1))\n",
    "    S3 = np.tile(X1.max(axis=1), (n2, 1)).T\n",
    "    S4 = np.tile(X2.min(axis=1), (n1, 1))\n",
    "    return S1, S2, S3, S4\n",
    "\n",
    "def _rectangle_intersection_(x1, y1, x2, y2):\n",
    "    S1, S2, S3, S4 = _rect_inter_inner(x1, x2)\n",
    "    S5, S6, S7, S8 = _rect_inter_inner(y1, y2)\n",
    "\n",
    "    C1 = np.less_equal(S1, S2)\n",
    "    C2 = np.greater_equal(S3, S4)\n",
    "    C3 = np.less_equal(S5, S6)\n",
    "    C4 = np.greater_equal(S7, S8)\n",
    "\n",
    "    ii, jj = np.nonzero(C1 & C2 & C3 & C4)\n",
    "    return ii, jj"
   ]
  },
  {
   "cell_type": "code",
   "execution_count": null,
   "metadata": {
    "hidden": true
   },
   "outputs": [],
   "source": []
  },
  {
   "cell_type": "code",
   "execution_count": null,
   "metadata": {
    "hidden": true
   },
   "outputs": [],
   "source": []
  },
  {
   "cell_type": "markdown",
   "metadata": {
    "heading_collapsed": true
   },
   "source": [
    "# create visualization for fast, parallelizeable, curve intersection\n",
    "- written completely in numpy\n",
    "- TODO: make input types work with numba.njit or numba.cuda.jit"
   ]
  },
  {
   "cell_type": "code",
   "execution_count": null,
   "metadata": {
    "hidden": true
   },
   "outputs": [],
   "source": [
    "S1, S2, S3, S4 = _rect_inter_inner(x1, x2)\n",
    "S5, S6, S7, S8 = _rect_inter_inner(y1, y2)"
   ]
  },
  {
   "cell_type": "code",
   "execution_count": null,
   "metadata": {
    "hidden": true
   },
   "outputs": [],
   "source": [
    "fig, axs = plt.subplots(2,4)#,figsize=(8,4))\n",
    "a = list(axs[0])\n",
    "a.extend(list(axs[1]))\n",
    "S_lst = (S1,S2,S3,S4,S5,S6,S7,S8)\n",
    "for n,ax,S in list(zip(range(len(S_lst)), a, S_lst)):\n",
    "#     print(ax)\n",
    "    ax.imshow(S)\n",
    "    ax.axis('off')\n",
    "    ax.set_title(f'$S{n+1}$')\n",
    "fig.savefig('Figures/fast_intersection_coordinates.svg')"
   ]
  },
  {
   "cell_type": "code",
   "execution_count": null,
   "metadata": {
    "hidden": true
   },
   "outputs": [],
   "source": [
    "C1 = np.less_equal(S1, S2)\n",
    "C2 = np.greater_equal(S3, S4)\n",
    "C3 = np.less_equal(S5, S6)\n",
    "C4 = np.greater_equal(S7, S8)\n",
    "\n",
    "fig, axs = plt.subplots(1,4)#,figsize=(8,4))\n",
    "# a = list(axs[0])\n",
    "# a.extend(list(axs[1]))\n",
    "a = axs\n",
    "S_lst = (C1,C2,C3,C4)\n",
    "for n,ax,S in list(zip(range(len(S_lst)), a, S_lst)):\n",
    "#     print(ax)\n",
    "    ax.imshow(S)\n",
    "    ax.axis('off')\n",
    "    ax.set_title(f'$C{n+1}$')\n",
    "fig.savefig('Figures/fast_intersection_booleans.pdf')"
   ]
  },
  {
   "cell_type": "code",
   "execution_count": null,
   "metadata": {
    "hidden": true
   },
   "outputs": [],
   "source": [
    "a, b = 1, 2\n",
    "phi = np.linspace(3, 10, 100)\n",
    "x1 = a*phi - b*np.sin(phi)\n",
    "y1 = a - b*np.cos(phi)\n",
    "\n",
    "x2=phi\n",
    "y2=np.sin(phi)+2\n",
    "tips = intersection(x1,y1,x2,y2)\n",
    "x,y = tips\n",
    "plt.figure(figsize=(4,4))\n",
    "plt.plot(y1,x1,c='r')\n",
    "plt.plot(y2,x2,c='g')\n",
    "plt.plot(y,x,'*b')\n",
    "plt.axis('off')\n",
    "# plt.show()\n",
    "plt.savefig('Figures/fast_intersection_example.svg')"
   ]
  },
  {
   "cell_type": "markdown",
   "metadata": {},
   "source": [
    "# TODO(later): make/test rotate function for exception handling in intersect()\n",
    "_application: retry funny intersection calls with a 45º rotation_<br>\n",
    "if intersections(x) fails:\n",
    "    return $R^{-1}\\text{intersections}(X)R$ for rotation by pi/4 in out-of-plane axis<br>\n",
    "`scipy.ndimage.rotate(input, angle, axes=(1, 0), reshape=True, output=None, order=3, mode='constant', cval=0.0, prefilter=True)`"
   ]
  },
  {
   "cell_type": "markdown",
   "metadata": {},
   "source": [
    "# make intersection enforce pbc!!!\n",
    "- DONE: Make a naive padded texture that enforces periodic boundary conditions\n",
    "- DONE: get tips = intersection(padded_texture)\n",
    "- DONE: map tips to original xy coordinates.  do they agree?\n",
    "- TODO: remove duplicate tips\n",
    "- TODO: ^put all that into a function and test it"
   ]
  },
  {
   "cell_type": "code",
   "execution_count": null,
   "metadata": {
    "ExecuteTime": {
     "end_time": "2020-06-08T07:14:19.065404Z",
     "start_time": "2020-06-08T07:14:19.052085Z"
    }
   },
   "outputs": [],
   "source": []
  },
  {
   "cell_type": "code",
   "execution_count": 3,
   "metadata": {
    "ExecuteTime": {
     "end_time": "2020-06-08T09:02:20.665035Z",
     "start_time": "2020-06-08T09:02:19.769448Z"
    }
   },
   "outputs": [],
   "source": [
    "#Make a naive padded texture that enforces periodic boundary conditions\n",
    "txt = np.load(f'Data/buffer_chaos_circle6_sigma_5_threshold_0.6_wrapping_true_at_time_5400.0.npy')\n",
    "\n",
    "edge_tolerance = int(512/4)#  large pad allows knots to be recorded right :) # 32    #pixels\n",
    "pad = edge_tolerance*2\n",
    "width, height = txt.shape[:2]\n",
    "# padded_width = 512 + pad #pixels\n",
    "padded_txt = np.pad(array = txt[...,0], pad_width = pad, mode = 'wrap')\n",
    "\n",
    "pt = edge_tolerance\n",
    "pw, ph = padded_txt.shape\n",
    "dtexture_dt = 0.*txt.copy()\n",
    "get_time_step(txt, dtexture_dt)#, width = pw, height = ph)\n",
    "dpadded_txt_dt = np.pad(array = dtexture_dt[...,0], pad_width = edge_tolerance*2, mode = 'wrap')\n",
    "\n"
   ]
  },
  {
   "cell_type": "code",
   "execution_count": 4,
   "metadata": {
    "ExecuteTime": {
     "end_time": "2020-06-08T09:02:21.714538Z",
     "start_time": "2020-06-08T09:02:21.443849Z"
    }
   },
   "outputs": [
    {
     "data": {
      "text/plain": [
       "<matplotlib.image.AxesImage at 0x1303e0610>"
      ]
     },
     "execution_count": 4,
     "metadata": {},
     "output_type": "execute_result"
    },
    {
     "data": {
      "image/png": "[encoded data removed]",
      "text/plain": [
       "<Figure size 432x288 with 1 Axes>"
      ]
     },
     "metadata": {
      "needs_background": "light"
     },
     "output_type": "display_data"
    }
   ],
   "source": [
    "plt.imshow(dpadded_txt_dt)"
   ]
  },
  {
   "cell_type": "code",
   "execution_count": 5,
   "metadata": {
    "ExecuteTime": {
     "end_time": "2020-06-08T09:02:22.452812Z",
     "start_time": "2020-06-08T09:02:22.429159Z"
    }
   },
   "outputs": [
    {
     "name": "stdout",
     "output_type": "stream",
     "text": [
      "(1024, 1024)\n",
      "(512, 512, 3)\n"
     ]
    }
   ],
   "source": [
    "\n",
    "\n",
    "\n",
    "\n",
    "\n",
    "print(padded_txt.shape)\n",
    "print(dtexture_dt.shape)"
   ]
  },
  {
   "cell_type": "code",
   "execution_count": 6,
   "metadata": {
    "ExecuteTime": {
     "end_time": "2020-06-08T09:02:23.367264Z",
     "start_time": "2020-06-08T09:02:23.340938Z"
    }
   },
   "outputs": [],
   "source": [
    "sigma = .1\n",
    "threshold = 0.95"
   ]
  },
  {
   "cell_type": "code",
   "execution_count": 7,
   "metadata": {
    "ExecuteTime": {
     "end_time": "2020-06-08T09:03:27.161150Z",
     "start_time": "2020-06-08T09:02:24.009080Z"
    }
   },
   "outputs": [],
   "source": [
    "#compute contours. type 1 = contours_raw, type 2 = contours_inc\n",
    "img_nxt = padded_txt.copy()\n",
    "img_inc = ifilter(dpadded_txt_dt)  #mask of instantaneously increasing voltages \n",
    "img_inc = filters.gaussian(img_inc,sigma=sigma, mode='wrap')\n",
    "\n",
    "contours_raw = measure.find_contours(img_nxt, level=0.5,fully_connected='low',positive_orientation='low')\n",
    "contours_inc = measure.find_contours(img_inc, level=threshold)#,fully_connected='low',positive_orientation='low')\n",
    "tips = get_tips(contours_raw, contours_inc)\n",
    "beep(2)"
   ]
  },
  {
   "cell_type": "code",
   "execution_count": 39,
   "metadata": {
    "ExecuteTime": {
     "end_time": "2020-06-08T17:35:18.544925Z",
     "start_time": "2020-06-08T17:35:18.510576Z"
    }
   },
   "outputs": [
    {
     "data": {
      "text/plain": [
       "0.10800000000000001"
      ]
     },
     "execution_count": 39,
     "metadata": {},
     "output_type": "execute_result"
    }
   ],
   "source": [
    "# tips\n",
    "0.03*18/5"
   ]
  },
  {
   "cell_type": "code",
   "execution_count": 11,
   "metadata": {
    "ExecuteTime": {
     "end_time": "2020-06-08T08:43:35.230477Z",
     "start_time": "2020-06-08T08:42:52.645416Z"
    }
   },
   "outputs": [
    {
     "name": "stdout",
     "output_type": "stream",
     "text": [
      "sigma = 0.1 and threshold = 0.95.\n"
     ]
    },
    {
     "data": {
      "image/png": "[encoded data removed]",
      "text/plain": [
       "<Figure size 360x360 with 1 Axes>"
      ]
     },
     "metadata": {
      "needs_background": "light"
     },
     "output_type": "display_data"
    },
    {
     "data": {
      "text/plain": [
       "0"
      ]
     },
     "execution_count": 11,
     "metadata": {},
     "output_type": "execute_result"
    }
   ],
   "source": [
    "n_lst, x_lst, y_lst = get_tips(contours_raw, contours_inc)\n",
    "tip_states = {'n': n_lst, 'x': x_lst, 'y': y_lst}\n",
    "print(f\"sigma = {sigma} and threshold = {threshold}.\")\n",
    "fig = plot_buffer(img_nxt, img_inc, contours_raw, contours_inc, tips, \n",
    "                  figsize=(5,5),max_marker_size=200, lw=1);\n",
    "plt.grid('on')\n",
    "plt.show()\n",
    "beep(2)"
   ]
  },
  {
   "cell_type": "code",
   "execution_count": 57,
   "metadata": {
    "ExecuteTime": {
     "end_time": "2020-06-08T20:51:44.926679Z",
     "start_time": "2020-06-08T20:51:44.851840Z"
    }
   },
   "outputs": [
    {
     "data": {
      "text/plain": [
       "190"
      ]
     },
     "execution_count": 57,
     "metadata": {},
     "output_type": "execute_result"
    }
   ],
   "source": [
    "# import pandas as pd\n",
    "\n",
    "@njit\n",
    "def my_unpad(X, pad, width):\n",
    "    P  = pad/2\n",
    "    X -= pad\n",
    "    if X < -pad/2:\n",
    "        X = -9999 # throw out X later\n",
    "    elif X < 0:\n",
    "        X += width\n",
    "    if X > width+pad/2:\n",
    "        X = -9999 # throw out X later\n",
    "    elif X >= width:\n",
    "        X -= width\n",
    "    return X"
   ]
  },
  {
   "cell_type": "code",
   "execution_count": 58,
   "metadata": {
    "ExecuteTime": {
     "end_time": "2020-06-08T20:51:52.646845Z",
     "start_time": "2020-06-08T20:51:52.626830Z"
    }
   },
   "outputs": [
    {
     "data": {
      "text/plain": [
       "-9999"
      ]
     },
     "execution_count": 58,
     "metadata": {},
     "output_type": "execute_result"
    }
   ],
   "source": [
    "#padded spiral tips are produced with at pixel percision of about 13 digits.\n",
    "# note that this is not the same as accuracy, which will depend on sigma, threshold, and V_threshold\n",
    "\n",
    "    \n",
    "# test functions for my_unpad\n",
    "# my_unpad(200, 10, 512)\n",
    "\n",
    "# assert(my_unpad(200, 10, 512)==190)\n",
    "# assert(\n",
    "my_unpad(0, 10, 512)\n",
    "#        ==190)"
   ]
  },
  {
   "cell_type": "code",
   "execution_count": 8,
   "metadata": {
    "ExecuteTime": {
     "end_time": "2020-06-08T09:07:59.161147Z",
     "start_time": "2020-06-08T09:07:59.132286Z"
    }
   },
   "outputs": [],
   "source": [
    "def map_pbc_tips_back(tips, pad, width = 512, height = 512):\n",
    "    s_tips, x_tips, y_tips = tips\n",
    "    s1_mapped_lst = []; s2_mapped_lst = [];\n",
    "    x_mapped_lst = []; y_mapped_lst = []; \n",
    "    for n, x in enumerate(x_tips):\n",
    "    # x = x_tips[0]; y = y_tips[0]; s = s_tips[0]\n",
    "        S1, S2 = s_tips[n]\n",
    "        y = y_tips[n]\n",
    "#         x2 = [qx - pad for qx in x]\n",
    "#         y2 = [qy - pad for qy in y]\n",
    "        X_lst = []; Y_lst = []; S1_lst = []; S2_lst = []\n",
    "        for X, Y in zip(x, y):\n",
    "            X = my_unpad(X, pad, width )\n",
    "            Y = my_unpad(Y, pad, height)\n",
    "            S1_lst.append(S1)\n",
    "            S2_lst.append(S1)\n",
    "            X_lst.append(X)\n",
    "            Y_lst.append(Y)\n",
    "            \n",
    "            #TODOTODO\n",
    "            #Define XY lst\n",
    "            #TAKE THE DIFFERENCES OF XY with all members of XY_lst\n",
    "            #IF no difference is found less than tol, then add XY to lst and add S = (S1,S2) to lst\n",
    "            #ELSE extend the tuple list element, S_lst[n] by S where n is the index of the nearly matching tip\n",
    "        s1_mapped_lst.extend(S1_lst)\n",
    "        s2_mapped_lst.extend(S2_lst)\n",
    "        x_mapped_lst.extend(X_lst)\n",
    "        y_mapped_lst.extend(Y_lst)\n",
    "    tips_mapped = (list(zip(s1_mapped_lst, s2_mapped_lst)), x_mapped_lst, y_mapped_lst)\n",
    "    #TODO: drop duplicates\n",
    "    #TODO: make knots match maybe?\n",
    "    return tips_mapped\n",
    "#         s_mapped_lst.append(S_lst)\n",
    "#         x_mapped_lst.append(X_lst)\n",
    "#         y_mapped_lst.append(Y_lst)"
   ]
  },
  {
   "cell_type": "code",
   "execution_count": 8,
   "metadata": {
    "ExecuteTime": {
     "end_time": "2020-06-08T08:55:46.025625Z",
     "start_time": "2020-06-08T08:55:46.001038Z"
    }
   },
   "outputs": [
    {
     "ename": "SyntaxError",
     "evalue": "invalid syntax (<ipython-input-8-dd6842f469ec>, line 2)",
     "output_type": "error",
     "traceback": [
      "\u001b[0;36m  File \u001b[0;32m\"<ipython-input-8-dd6842f469ec>\"\u001b[0;36m, line \u001b[0;32m2\u001b[0m\n\u001b[0;31m    def drop duplicates(tips_mapped):\u001b[0m\n\u001b[0m                      ^\u001b[0m\n\u001b[0;31mSyntaxError\u001b[0m\u001b[0;31m:\u001b[0m invalid syntax\n"
     ]
    }
   ],
   "source": [
    "len(tips_mapped[2])\n",
    "def drop duplicates(tips_mapped):\n",
    "    '''TODO: improve this sans pandas'''\n",
    "    series = pd.Series(x_mapped_lst)\n",
    "    tol = 1.e-12 #greater than to 5.e-14\n",
    "error_array = np.diff(np.sort(series[series.duplicated()]))"
   ]
  },
  {
   "cell_type": "code",
   "execution_count": 9,
   "metadata": {
    "ExecuteTime": {
     "end_time": "2020-06-08T09:08:06.899426Z",
     "start_time": "2020-06-08T09:08:06.880914Z"
    }
   },
   "outputs": [],
   "source": [
    "tips_mapped = map_pbc_tips_back(tips, pad = pad)"
   ]
  },
  {
   "cell_type": "code",
   "execution_count": 12,
   "metadata": {
    "ExecuteTime": {
     "end_time": "2020-06-08T09:09:30.324468Z",
     "start_time": "2020-06-08T09:09:30.302962Z"
    }
   },
   "outputs": [],
   "source": [
    "s_mapped_lst, x_mapped_lst, y_mapped_lst = tips_mapped"
   ]
  },
  {
   "cell_type": "code",
   "execution_count": 19,
   "metadata": {
    "ExecuteTime": {
     "end_time": "2020-06-08T09:14:22.929237Z",
     "start_time": "2020-06-08T09:14:22.908564Z"
    }
   },
   "outputs": [],
   "source": [
    "s_lst = []; xy_lst = []\n",
    "for n, x in enumerate(x_mapped_lst):\n",
    "    y = y_mapped_lst[n]\n",
    "    xy = (x,y)\n",
    "    s  = s_mapped_lst[n]\n",
    "    used = False\n",
    "    mxxy = len(xy_lst)\n",
    "    if mxxy==0:\n",
    "        xy_lst.append(xy)\n",
    "    while mxxy<=0:\n",
    "    for m, xy_old in enumerate(xy_lst):\n",
    "        if \n",
    "    if not xy in xy_lst: # TODO: make this more exact\n",
    "        xy_lst.append(xy)\n",
    "        s_lst.append(s)\n",
    "    else:\n",
    "        #find xy in xy_lst and append s there"
   ]
  },
  {
   "cell_type": "code",
   "execution_count": 25,
   "metadata": {
    "ExecuteTime": {
     "end_time": "2020-06-08T09:15:19.445995Z",
     "start_time": "2020-06-08T09:15:19.425900Z"
    }
   },
   "outputs": [
    {
     "data": {
      "text/plain": [
       "(2, 121)"
      ]
     },
     "execution_count": 25,
     "metadata": {},
     "output_type": "execute_result"
    }
   ],
   "source": [
    "x_lst, y_lst = np.array(xy_lst).T.shape\n"
   ]
  },
  {
   "cell_type": "code",
   "execution_count": 33,
   "metadata": {
    "ExecuteTime": {
     "end_time": "2020-06-08T09:22:33.344081Z",
     "start_time": "2020-06-08T09:22:33.321412Z"
    }
   },
   "outputs": [
    {
     "data": {
      "text/plain": [
       "(668.5683541658234, -155.95)"
      ]
     },
     "execution_count": 33,
     "metadata": {},
     "output_type": "execute_result"
    }
   ],
   "source": [
    "# np.argwhere(xy_lst,xy)\n",
    "xy"
   ]
  },
  {
   "cell_type": "code",
   "execution_count": null,
   "metadata": {
    "ExecuteTime": {
     "start_time": "2020-06-08T08:56:40.530Z"
    }
   },
   "outputs": [],
   "source": [
    "# {'x':tips_mapped[1], 'y': tips_mapped[2]}\n",
    "# tips_mapped[1:]#'s':list(tips_mapped[0])\n",
    "print(tips_mapped[2])\n",
    "# df = pd.DataFrame(tips_mapped[1:])#, columns=['s','x','y'])"
   ]
  },
  {
   "cell_type": "code",
   "execution_count": 254,
   "metadata": {
    "ExecuteTime": {
     "end_time": "2020-06-08T08:34:12.168144Z",
     "start_time": "2020-06-08T08:34:12.142085Z"
    }
   },
   "outputs": [
    {
     "name": "stdout",
     "output_type": "stream",
     "text": [
      "[0.00000000e+00 0.00000000e+00 5.68434189e-14 3.41060513e-13\n",
      " 0.00000000e+00 0.00000000e+00 5.68434189e-14 5.68434189e-14\n",
      " 1.13686838e-13 5.68434189e-14 5.68434189e-14 0.00000000e+00]\n"
     ]
    }
   ],
   "source": [
    "series = pd.Series(x_mapped_lst)\n",
    "tol = 1.e-12 #greater than to 5.e-14\n",
    "error_array = np.diff(np.sort(series[series.duplicated()]))\n",
    "print(error_array[error_array<tol])"
   ]
  },
  {
   "cell_type": "code",
   "execution_count": 255,
   "metadata": {
    "ExecuteTime": {
     "end_time": "2020-06-08T08:34:14.525808Z",
     "start_time": "2020-06-08T08:34:14.503337Z"
    }
   },
   "outputs": [
    {
     "name": "stdout",
     "output_type": "stream",
     "text": [
      "[0.00000000e+00 0.00000000e+00 5.68434189e-14 5.68434189e-14\n",
      " 0.00000000e+00 0.00000000e+00]\n"
     ]
    }
   ],
   "source": [
    "series = pd.Series(y_mapped_lst)\n",
    "tol = 1.e-12 #greater than to 5.e-14\n",
    "error_array = np.diff(np.sort(series[series.duplicated()]))\n",
    "print(error_array[error_array<tol])"
   ]
  },
  {
   "cell_type": "code",
   "execution_count": 195,
   "metadata": {
    "ExecuteTime": {
     "end_time": "2020-06-08T08:16:03.831967Z",
     "start_time": "2020-06-08T08:16:03.808899Z"
    }
   },
   "outputs": [],
   "source": [
    "#now remove duplicates\n",
    "xy_zipped = [xy for xy in zip(x_mapped_lst, y_mapped_lst)]"
   ]
  },
  {
   "cell_type": "code",
   "execution_count": 209,
   "metadata": {
    "ExecuteTime": {
     "end_time": "2020-06-08T08:21:54.418518Z",
     "start_time": "2020-06-08T08:21:54.393377Z"
    }
   },
   "outputs": [],
   "source": []
  },
  {
   "cell_type": "code",
   "execution_count": 214,
   "metadata": {
    "ExecuteTime": {
     "end_time": "2020-06-08T08:24:30.104728Z",
     "start_time": "2020-06-08T08:24:30.077646Z"
    }
   },
   "outputs": [
    {
     "data": {
      "text/plain": [
       "60"
      ]
     },
     "execution_count": 214,
     "metadata": {},
     "output_type": "execute_result"
    }
   ],
   "source": [
    "# xy_df.drop_duplicates(subset=['x','y'])\n",
    "len(s_mapped_lst)"
   ]
  },
  {
   "cell_type": "code",
   "execution_count": 217,
   "metadata": {
    "ExecuteTime": {
     "end_time": "2020-06-08T08:25:53.388342Z",
     "start_time": "2020-06-08T08:25:53.364366Z"
    }
   },
   "outputs": [
    {
     "data": {
      "text/plain": [
       "60"
      ]
     },
     "execution_count": 217,
     "metadata": {},
     "output_type": "execute_result"
    }
   ],
   "source": [
    "len(x_mapped_lst)"
   ]
  },
  {
   "cell_type": "code",
   "execution_count": 227,
   "metadata": {
    "ExecuteTime": {
     "end_time": "2020-06-08T08:29:54.441541Z",
     "start_time": "2020-06-08T08:29:54.406500Z"
    }
   },
   "outputs": [
    {
     "data": {
      "text/plain": [
       "(0, 0)"
      ]
     },
     "execution_count": 227,
     "metadata": {},
     "output_type": "execute_result"
    }
   ],
   "source": [
    "s_tips[0]"
   ]
  },
  {
   "cell_type": "code",
   "execution_count": 262,
   "metadata": {
    "ExecuteTime": {
     "end_time": "2020-06-08T08:38:51.076865Z",
     "start_time": "2020-06-08T08:38:51.054565Z"
    }
   },
   "outputs": [
    {
     "data": {
      "text/plain": [
       "60"
      ]
     },
     "execution_count": 262,
     "metadata": {},
     "output_type": "execute_result"
    }
   ],
   "source": [
    "len(tips_mapped[0])"
   ]
  },
  {
   "cell_type": "markdown",
   "metadata": {},
   "source": [
    "# Optimize the marching squares algorithm with numba with this!\n"
   ]
  },
  {
   "cell_type": "code",
   "execution_count": 60,
   "metadata": {
    "ExecuteTime": {
     "end_time": "2020-06-09T01:05:49.153249Z",
     "start_time": "2020-06-09T01:05:49.128801Z"
    }
   },
   "outputs": [],
   "source": []
  },
  {
   "cell_type": "code",
   "execution_count": 65,
   "metadata": {
    "ExecuteTime": {
     "end_time": "2020-06-09T01:06:59.221963Z",
     "start_time": "2020-06-09T01:06:59.194324Z"
    }
   },
   "outputs": [],
   "source": [
    "# import inspect, skimage.measure as measure\n",
    "# ss = inspect.getsource(\n",
    "measure.find_contours_\n",
    "# )\n",
    "# [print(l) for l in ss.splitlines()]"
   ]
  },
  {
   "cell_type": "code",
   "execution_count": null,
   "metadata": {
    "ExecuteTime": {
     "end_time": "2020-06-09T01:08:23.799359Z",
     "start_time": "2020-06-09T01:08:23.774416Z"
    }
   },
   "outputs": [],
   "source": []
  },
  {
   "cell_type": "code",
   "execution_count": 75,
   "metadata": {
    "ExecuteTime": {
     "end_time": "2020-06-09T01:09:25.542780Z",
     "start_time": "2020-06-09T01:09:25.512245Z"
    }
   },
   "outputs": [
    {
     "name": "stdout",
     "output_type": "stream",
     "text": [
      "def find_contours(array, level,\n",
      "                  fully_connected='low', positive_orientation='low'):\n",
      "    \"\"\"Find iso-valued contours in a 2D array for a given level value.\n",
      "\n",
      "    Uses the \"marching squares\" method to compute a the iso-valued contours of\n",
      "    the input 2D array for a particular level value. Array values are linearly\n",
      "    interpolated to provide better precision for the output contours.\n",
      "\n",
      "    Parameters\n",
      "    ----------\n",
      "    array : 2D ndarray of double\n",
      "        Input data in which to find contours.\n",
      "    level : float\n",
      "        Value along which to find contours in the array.\n",
      "    fully_connected : str, {'low', 'high'}\n",
      "         Indicates whether array elements below the given level value are to be\n",
      "         considered fully-connected (and hence elements above the value will\n",
      "         only be face connected), or vice-versa. (See notes below for details.)\n",
      "    positive_orientation : either 'low' or 'high'\n",
      "         Indicates whether the output contours will produce positively-oriented\n",
      "         polygons around islands of low- or high-valued elements. If 'low' then\n",
      "         contours will wind counter- clockwise around elements below the\n",
      "         iso-value. Alternately, this means that low-valued elements are always\n",
      "         on the left of the contour. (See below for details.)\n",
      "\n",
      "    Returns\n",
      "    -------\n",
      "    contours : list of (n,2)-ndarrays\n",
      "        Each contour is an ndarray of shape ``(n, 2)``,\n",
      "        consisting of n ``(row, column)`` coordinates along the contour.\n",
      "\n",
      "    Notes\n",
      "    -----\n",
      "    The marching squares algorithm is a special case of the marching cubes\n",
      "    algorithm [1]_.  A simple explanation is available here::\n",
      "\n",
      "      http://www.essi.fr/~lingrand/MarchingCubes/algo.html\n",
      "\n",
      "    There is a single ambiguous case in the marching squares algorithm: when\n",
      "    a given ``2 x 2``-element square has two high-valued and two low-valued\n",
      "    elements, each pair diagonally adjacent. (Where high- and low-valued is\n",
      "    with respect to the contour value sought.) In this case, either the\n",
      "    high-valued elements can be 'connected together' via a thin isthmus that\n",
      "    separates the low-valued elements, or vice-versa. When elements are\n",
      "    connected together across a diagonal, they are considered 'fully\n",
      "    connected' (also known as 'face+vertex-connected' or '8-connected'). Only\n",
      "    high-valued or low-valued elements can be fully-connected, the other set\n",
      "    will be considered as 'face-connected' or '4-connected'. By default,\n",
      "    low-valued elements are considered fully-connected; this can be altered\n",
      "    with the 'fully_connected' parameter.\n",
      "\n",
      "    Output contours are not guaranteed to be closed: contours which intersect\n",
      "    the array edge will be left open. All other contours will be closed. (The\n",
      "    closed-ness of a contours can be tested by checking whether the beginning\n",
      "    point is the same as the end point.)\n",
      "\n",
      "    Contours are oriented. By default, array values lower than the contour\n",
      "    value are to the left of the contour and values greater than the contour\n",
      "    value are to the right. This means that contours will wind\n",
      "    counter-clockwise (i.e. in 'positive orientation') around islands of\n",
      "    low-valued pixels. This behavior can be altered with the\n",
      "    'positive_orientation' parameter.\n",
      "\n",
      "    The order of the contours in the output list is determined by the position\n",
      "    of the smallest ``x,y`` (in lexicographical order) coordinate in the\n",
      "    contour.  This is a side-effect of how the input array is traversed, but\n",
      "    can be relied upon.\n",
      "\n",
      "    .. warning::\n",
      "\n",
      "       Array coordinates/values are assumed to refer to the *center* of the\n",
      "       array element. Take a simple example input: ``[0, 1]``. The interpolated\n",
      "       position of 0.5 in this array is midway between the 0-element (at\n",
      "       ``x=0``) and the 1-element (at ``x=1``), and thus would fall at\n",
      "       ``x=0.5``.\n",
      "\n",
      "    This means that to find reasonable contours, it is best to find contours\n",
      "    midway between the expected \"light\" and \"dark\" values. In particular,\n",
      "    given a binarized array, *do not* choose to find contours at the low or\n",
      "    high value of the array. This will often yield degenerate contours,\n",
      "    especially around structures that are a single array element wide. Instead\n",
      "    choose a middle value, as above.\n",
      "\n",
      "    References\n",
      "    ----------\n",
      "    .. [1] Lorensen, William and Harvey E. Cline. Marching Cubes: A High\n",
      "           Resolution 3D Surface Construction Algorithm. Computer Graphics\n",
      "           (SIGGRAPH 87 Proceedings) 21(4) July 1987, p. 163-170).\n",
      "\n",
      "    Examples\n",
      "    --------\n",
      "    >>> a = np.zeros((3, 3))\n",
      "    >>> a[0, 0] = 1\n",
      "    >>> a\n",
      "    array([[ 1.,  0.,  0.],\n",
      "           [ 0.,  0.,  0.],\n",
      "           [ 0.,  0.,  0.]])\n",
      "    >>> find_contours(a, 0.5)\n",
      "    [array([[ 0. ,  0.5],\n",
      "           [ 0.5,  0. ]])]\n",
      "    \"\"\"\n",
      "    array = np.asarray(array, dtype=np.double)\n",
      "    if array.ndim != 2:\n",
      "        raise ValueError('Only 2D arrays are supported.')\n",
      "    level = float(level)\n",
      "    if (fully_connected not in _param_options or\n",
      "       positive_orientation not in _param_options):\n",
      "        raise ValueError('Parameters \"fully_connected\" and'\n",
      "        ' \"positive_orientation\" must be either \"high\" or \"low\".')\n",
      "    point_list = _find_contours_cy.iterate_and_store(array, level,\n",
      "                                                     fully_connected == 'high')\n",
      "    contours = _assemble_contours(_take_2(point_list))\n",
      "    if positive_orientation == 'high':\n",
      "        contours = [c[::-1] for c in contours]\n",
      "    return contours\n"
     ]
    },
    {
     "data": {
      "text/plain": [
       "[None,\n",
       " None,\n",
       " None,\n",
       " None,\n",
       " None,\n",
       " None,\n",
       " None,\n",
       " None,\n",
       " None,\n",
       " None,\n",
       " None,\n",
       " None,\n",
       " None,\n",
       " None,\n",
       " None,\n",
       " None,\n",
       " None,\n",
       " None,\n",
       " None,\n",
       " None,\n",
       " None,\n",
       " None,\n",
       " None,\n",
       " None,\n",
       " None,\n",
       " None,\n",
       " None,\n",
       " None,\n",
       " None,\n",
       " None,\n",
       " None,\n",
       " None,\n",
       " None,\n",
       " None,\n",
       " None,\n",
       " None,\n",
       " None,\n",
       " None,\n",
       " None,\n",
       " None,\n",
       " None,\n",
       " None,\n",
       " None,\n",
       " None,\n",
       " None,\n",
       " None,\n",
       " None,\n",
       " None,\n",
       " None,\n",
       " None,\n",
       " None,\n",
       " None,\n",
       " None,\n",
       " None,\n",
       " None,\n",
       " None,\n",
       " None,\n",
       " None,\n",
       " None,\n",
       " None,\n",
       " None,\n",
       " None,\n",
       " None,\n",
       " None,\n",
       " None,\n",
       " None,\n",
       " None,\n",
       " None,\n",
       " None,\n",
       " None,\n",
       " None,\n",
       " None,\n",
       " None,\n",
       " None,\n",
       " None,\n",
       " None,\n",
       " None,\n",
       " None,\n",
       " None,\n",
       " None,\n",
       " None,\n",
       " None,\n",
       " None,\n",
       " None,\n",
       " None,\n",
       " None,\n",
       " None,\n",
       " None,\n",
       " None,\n",
       " None,\n",
       " None,\n",
       " None,\n",
       " None,\n",
       " None,\n",
       " None,\n",
       " None,\n",
       " None,\n",
       " None,\n",
       " None,\n",
       " None,\n",
       " None,\n",
       " None,\n",
       " None,\n",
       " None,\n",
       " None,\n",
       " None,\n",
       " None,\n",
       " None,\n",
       " None,\n",
       " None,\n",
       " None,\n",
       " None,\n",
       " None,\n",
       " None,\n",
       " None]"
      ]
     },
     "execution_count": 75,
     "metadata": {},
     "output_type": "execute_result"
    }
   ],
   "source": []
  },
  {
   "cell_type": "code",
   "execution_count": null,
   "metadata": {},
   "outputs": [],
   "source": []
  }
 ],
 "metadata": {
  "kernelspec": {
   "display_name": "Python 3",
   "language": "python",
   "name": "python3"
  },
  "varInspector": {
   "cols": {
    "lenName": 16,
    "lenType": 16,
    "lenVar": 40
   },
   "kernels_config": {
    "python": {
     "delete_cmd_postfix": "",
     "delete_cmd_prefix": "del ",
     "library": "var_list.py",
     "varRefreshCmd": "print(var_dic_list())"
    },
    "r": {
     "delete_cmd_postfix": ") ",
     "delete_cmd_prefix": "rm(",
     "library": "var_list.r",
     "varRefreshCmd": "cat(var_dic_list()) "
    }
   },
   "types_to_exclude": [
    "module",
    "function",
    "builtin_function_or_method",
    "instance",
    "_Feature"
   ],
   "window_display": false
  }
 },
 "nbformat": 4,
 "nbformat_minor": 4
}
