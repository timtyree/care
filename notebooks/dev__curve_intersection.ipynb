{
 "cells": [
  {
   "cell_type": "markdown",
   "metadata": {},
   "source": [
    "# dev for Getting intersections of curves in numpy"
   ]
  },
  {
   "cell_type": "code",
   "execution_count": 1,
   "metadata": {
    "ExecuteTime": {
     "end_time": "2020-06-23T00:28:27.972230Z",
     "start_time": "2020-06-23T00:28:25.825310Z"
    }
   },
   "outputs": [
    {
     "name": "stdout",
     "output_type": "stream",
     "text": [
      "100000\n",
      "Automatic calling is: Smart\n"
     ]
    }
   ],
   "source": [
    "#pylab\n",
    "%matplotlib inline\n",
    "import numpy as np, pandas as pd, matplotlib.pyplot as plt\n",
    "from pylab import imshow, show\n",
    "\n",
    "import skimage as sk\n",
    "from skimage import measure, filters\n",
    "\n",
    "import matplotlib.pyplot as plt, numpy as np, os\n",
    "from numba import njit, jit, vectorize\n",
    "from PIL import Image\n",
    "import imageio\n",
    "# import cv2 as cv\n",
    "\n",
    "#automate the boring stuff\n",
    "from IPython import utils\n",
    "import time, os, sys, re\n",
    "beep = lambda x: os.system(\"echo -n '\\\\a';sleep 0.2;\" * x)\n",
    "if not 'nb_dir' in globals():\n",
    "    nb_dir = os.getcwd()\n",
    "width = 512\n",
    "height = 512\n",
    "channel_no = 3\n",
    "\n",
    "#load the libraries\n",
    "from lib.operari import *\n",
    "from lib.ProgressBar import *\n",
    "from lib.minimal_model import *\n",
    "from lib.TexturePlot import *\n",
    "from lib.get_tips import *\n",
    "from lib.minimal_model import *\n",
    "from lib.intersection import *\n",
    "#TODO: use cuda via numba\n",
    "from numba import jit, njit, vectorize, cuda, uint32, f8, uint8\n",
    "from numba.typed import List\n",
    "# from lib.contours_to_tips import *\n",
    "\n",
    "%autocall 1\n",
    "%load_ext autoreload\n",
    "%autoreload 2"
   ]
  },
  {
   "cell_type": "markdown",
   "metadata": {
    "heading_collapsed": true
   },
   "source": [
    "### runtime speedtest results"
   ]
  },
  {
   "cell_type": "code",
   "execution_count": 6,
   "metadata": {
    "ExecuteTime": {
     "end_time": "2020-06-23T00:11:00.552398Z",
     "start_time": "2020-06-23T00:11:00.366939Z"
    },
    "hidden": true
   },
   "outputs": [
    {
     "data": {
      "image/png": "[encoded data removed]",
      "text/plain": [
       "<Figure size 432x288 with 1 Axes>"
      ]
     },
     "metadata": {
      "needs_background": "light"
     },
     "output_type": "display_data"
    }
   ],
   "source": [
    "a, b = 1, 2\n",
    "phi = np.linspace(3, 10, 100)\n",
    "x1 = a*phi - b*np.sin(phi)\n",
    "y1 = a - b*np.cos(phi)\n",
    "\n",
    "x2=phi\n",
    "y2=np.sin(phi)+2\n",
    "tips = intersection(x1,y1,x2,y2)\n",
    "x,y = tips\n",
    "\n",
    "plt.plot(x1,y1,c='r')\n",
    "plt.plot(x2,y2,c='g')\n",
    "plt.plot(x,y,'*k')\n",
    "plt.show()"
   ]
  },
  {
   "cell_type": "markdown",
   "metadata": {
    "hidden": true
   },
   "source": [
    "- without numba = 3.34 seconds"
   ]
  },
  {
   "cell_type": "code",
   "execution_count": null,
   "metadata": {
    "hidden": true
   },
   "outputs": [],
   "source": [
    "%time\n",
    "tips = intersection(x1,y1,x2,y2)"
   ]
  },
  {
   "cell_type": "code",
   "execution_count": null,
   "metadata": {
    "hidden": true
   },
   "outputs": [],
   "source": []
  },
  {
   "cell_type": "code",
   "execution_count": null,
   "metadata": {
    "hidden": true
   },
   "outputs": [],
   "source": []
  },
  {
   "cell_type": "markdown",
   "metadata": {
    "heading_collapsed": true
   },
   "source": [
    "# create figures for intersection algorithm\n",
    "- written completely in numpy\n",
    "- input types work with numba.njit or numba.cuda.jit when using tuple(contours_a or b)"
   ]
  },
  {
   "cell_type": "code",
   "execution_count": null,
   "metadata": {
    "hidden": true
   },
   "outputs": [],
   "source": [
    "S1, S2, S3, S4 = _rect_inter_inner(x1, x2)\n",
    "S5, S6, S7, S8 = _rect_inter_inner(y1, y2)"
   ]
  },
  {
   "cell_type": "code",
   "execution_count": null,
   "metadata": {
    "hidden": true
   },
   "outputs": [],
   "source": [
    "fig, axs = plt.subplots(2,4)#,figsize=(8,4))\n",
    "a = list(axs[0])\n",
    "a.extend(list(axs[1]))\n",
    "S_lst = (S1,S2,S3,S4,S5,S6,S7,S8)\n",
    "for n,ax,S in list(zip(range(len(S_lst)), a, S_lst)):\n",
    "#     print(ax)\n",
    "    ax.imshow(S)\n",
    "    ax.axis('off')\n",
    "    ax.set_title(f'$S{n+1}$')\n",
    "fig.savefig('Figures/fast_intersection_coordinates.svg')"
   ]
  },
  {
   "cell_type": "code",
   "execution_count": null,
   "metadata": {
    "hidden": true
   },
   "outputs": [],
   "source": [
    "C1 = np.less_equal(S1, S2)\n",
    "C2 = np.greater_equal(S3, S4)\n",
    "C3 = np.less_equal(S5, S6)\n",
    "C4 = np.greater_equal(S7, S8)\n",
    "\n",
    "fig, axs = plt.subplots(1,4)#,figsize=(8,4))\n",
    "# a = list(axs[0])\n",
    "# a.extend(list(axs[1]))\n",
    "a = axs\n",
    "S_lst = (C1,C2,C3,C4)\n",
    "for n,ax,S in list(zip(range(len(S_lst)), a, S_lst)):\n",
    "#     print(ax)\n",
    "    ax.imshow(S)\n",
    "    ax.axis('off')\n",
    "    ax.set_title(f'$C{n+1}$')\n",
    "fig.savefig('Figures/fast_intersection_booleans.pdf')"
   ]
  },
  {
   "cell_type": "code",
   "execution_count": null,
   "metadata": {
    "hidden": true
   },
   "outputs": [],
   "source": [
    "a, b = 1, 2\n",
    "phi = np.linspace(3, 10, 100)\n",
    "x1 = a*phi - b*np.sin(phi)\n",
    "y1 = a - b*np.cos(phi)\n",
    "\n",
    "x2=phi\n",
    "y2=np.sin(phi)+2\n",
    "tips = intersection(x1,y1,x2,y2)\n",
    "x,y = tips\n",
    "plt.figure(figsize=(4,4))\n",
    "plt.plot(y1,x1,c='r')\n",
    "plt.plot(y2,x2,c='g')\n",
    "plt.plot(y,x,'*b')\n",
    "plt.axis('off')\n",
    "# plt.show()\n",
    "plt.savefig('Figures/fast_intersection_example.svg')"
   ]
  },
  {
   "cell_type": "markdown",
   "metadata": {
    "heading_collapsed": true
   },
   "source": [
    "# Don't spend time on this: make/test rotate function for exception handling in intersect()\n",
    "_application: retry funny intersection calls with a 45º rotation_<br>\n",
    "if intersections(x) fails:\n",
    "    return $R^{-1}\\text{intersections}(X)R$ for rotation by pi/4 in out-of-plane axis<br>\n",
    "`scipy.ndimage.rotate(input, angle, axes=(1, 0), reshape=True, output=None, order=3, mode='constant', cval=0.0, prefilter=True)`"
   ]
  },
  {
   "cell_type": "code",
   "execution_count": 293,
   "metadata": {
    "ExecuteTime": {
     "end_time": "2020-06-21T00:03:59.032415Z",
     "start_time": "2020-06-21T00:03:59.003603Z"
    },
    "hidden": true
   },
   "outputs": [
    {
     "name": "stdout",
     "output_type": "stream",
     "text": [
      "(1024, 1024)\n",
      "(512, 512, 3)\n"
     ]
    }
   ],
   "source": [
    "print(padded_txt.shape)\n",
    "print(dtexture_dt.shape)"
   ]
  },
  {
   "cell_type": "markdown",
   "metadata": {
    "heading_collapsed": true
   },
   "source": [
    "# make intersection enforce pbc!!\n",
    "- DONE: Make a naive padded texture that enforces periodic boundary conditions\n",
    "- DONE: get tips = intersection(padded_texture)\n",
    "- DONE: map tips to original xy coordinates.  do they agree?\n",
    "- DONE: remove duplicate tips\n",
    "- DONE: ^put all that into a function and test it"
   ]
  },
  {
   "cell_type": "code",
   "execution_count": 9,
   "metadata": {
    "ExecuteTime": {
     "end_time": "2020-06-23T00:11:41.853768Z",
     "start_time": "2020-06-23T00:11:41.177555Z"
    },
    "hidden": true
   },
   "outputs": [],
   "source": [
    "#Make a naive padded texture that enforces periodic boundary conditions\n",
    "txt = np.load(f'Data/buffer_chaos_circle6_sigma_5_threshold_0.6_wrapping_true_at_time_5400.0.npy')\n",
    "dtexture_dt = 0.*txt.copy()\n",
    "get_time_step(txt,dtexture_dt)\n",
    "\n",
    "edge_tolerance = 0\n",
    "pad = 0\n",
    "sigma = 1\n",
    "threshold = 0.95\n",
    "\n",
    "padded_txt, dpadded_txt_dt = textures_to_padded_textures(txt, dtexture_dt,pad=pad)\n",
    "\n",
    "print(padded_txt.shape)\n",
    "print(dpadded_txt_dt.shape)\n",
    "\n",
    "#compute contours. type 1 = contours_raw, type 2 = contours_incimg_nxt = padded_txt.copy()\n",
    "# img_inc = ifilter(dtexture_dt[...,0])  #mask of instantaneously increasing voltages \n",
    "# img_nxt = txt[...,0].copy()\n",
    "\n",
    "img_nxt = padded_txt.copy()\n",
    "img_inc = ifilter(dpadded_txt_dt)  #mask of instantaneously increasing voltages \n",
    "\n",
    "img_inc = filters.gaussian(img_inc,sigma=sigma)\n",
    "contours_raw = measure.find_contours(img_nxt, level=0.5,fully_connected='low',positive_orientation='low')\n",
    "contours_inc = measure.find_contours(img_inc, level=threshold)#,fully_connected='low',positive_orientation='low')\n"
   ]
  },
  {
   "cell_type": "code",
   "execution_count": 81,
   "metadata": {
    "ExecuteTime": {
     "end_time": "2020-06-21T01:33:30.789056Z",
     "start_time": "2020-06-21T01:33:29.269331Z"
    },
    "hidden": true
   },
   "outputs": [],
   "source": [
    "#very slow\n",
    "tips = get_tips(contours_raw, contours_inc)\n"
   ]
  },
  {
   "cell_type": "code",
   "execution_count": 82,
   "metadata": {
    "ExecuteTime": {
     "end_time": "2020-06-21T01:33:31.452498Z",
     "start_time": "2020-06-21T01:33:31.429215Z"
    },
    "hidden": true
   },
   "outputs": [],
   "source": [
    "tips_mapped = map_pbc_tips_back(tips=tips, pad=pad, width=width, height=height, \n",
    "                  edge_tolerance=edge_tolerance, atol = 1e-11)"
   ]
  },
  {
   "cell_type": "code",
   "execution_count": 83,
   "metadata": {
    "ExecuteTime": {
     "end_time": "2020-06-21T01:33:32.061413Z",
     "start_time": "2020-06-21T01:33:32.039613Z"
    },
    "hidden": true
   },
   "outputs": [
    {
     "name": "stdout",
     "output_type": "stream",
     "text": [
      "[0.51681319 0.49312792 0.46235195 0.42440005 0.38164578 0.33705901]\n",
      "[0.58550024 0.57815575 0.56990235 0.56036974 0.5489939  0.53489344]\n"
     ]
    }
   ],
   "source": [
    "# tips\n",
    "# tuple(zip(tips_mapped[0],tips_mapped[1]))\n",
    "# print (tips[1]) \n",
    "print(padded_txt[0,:6])\n",
    "print(padded_txt[0,-6:])"
   ]
  },
  {
   "cell_type": "markdown",
   "metadata": {
    "hidden": true
   },
   "source": [
    "The x_list detected by get_tips on the unpadded textures are (34 tips) <br>\n",
    "\n",
    "[[97.09100036936267], [6.147513107552889, 72.9712105344682], [64.41088440865616, 48.041481491625134], [15.321762048943697], [90.23568160583304], [148.81825606463659], [139.53699886287677, 157.87528232611476], [147.05, 138.17267758272294], [221.78214291697648, 270.10350930274546], [257.6795760796632, 226.16001885811693], [295.5212744425695, 261.13572707114207], [292.4127169493853, 308.7858943227497], [372.22666780365154, 323.43091702925756], [363.1027731905096, 340.0836437030766], [312.1554280372389, 292.1349729032081], [368.40060866420106, 412.47552567350823], [485.320695779018, 462.0097089747627], [468.76870711104664, 461.19162917845125], [502.8042469061117], [510.71235915950126]]\n",
    "\n",
    "The x_list detected by tips_mapped on the padded textures are (46 tips) <br>\n",
    "\n",
    "[102.03178111879681,\n",
    " 6.178445577096028,\n",
    " 72.7063691838318,\n",
    " 12.95,\n",
    " 509.1984411398587,\n",
    " 63.70516270841419,\n",
    " 52.45438698581663,\n",
    " 87.39300706936189,\n",
    " 146.95,\n",
    " 145.1615729239311,\n",
    " 148.32046251012093,\n",
    " 138.21855444000835,\n",
    " 155.95,\n",
    " 153.278359121454,\n",
    " 154.227517039747,\n",
    " 142.05,\n",
    " 140.88082255684958,\n",
    " 219.20890476452686,\n",
    " 271.44901484526616,\n",
    " 256.96459429798955,\n",
    " 230.3249528346799,\n",
    " 291.2810586859305,\n",
    " 268.0121830319035,\n",
    " 290.3843458648987,\n",
    " 306.95,\n",
    " 360.7651425654818,\n",
    " 326.7193879129269,\n",
    " 363.2081572055908,\n",
    " 360.2682219642845,\n",
    " 359.73210151834667,\n",
    " 357.3931498365929,\n",
    " 351.4570694001409,\n",
    " 349.6537914133702,\n",
    " 310.95,\n",
    " 291.2836458239073,\n",
    " 356.95,\n",
    " 360.35394286793223,\n",
    " 367.04881462801967,\n",
    " 410.95,\n",
    " 481.86158760515406,\n",
    " 465.5514456331589,\n",
    " 468.76870711104664,\n",
    " 462.53551529392786,\n",
    " 505.04999999999995,\n",
    " 504.606425482708,\n",
    " 504.04999999999995]"
   ]
  },
  {
   "cell_type": "markdown",
   "metadata": {
    "hidden": true
   },
   "source": [
    "__Good Check__: tips_mapped has an x location that is very stable as I vary pad and rejection_distance? __Yes__\n",
    "\n",
    "* pad =100 and rejection_distance = 30 yielded\n",
    "4.757124477254536,\n",
    "314.11883924529235,\n",
    "\n",
    "* pad =100 and rejection_distance = 60 yielded\n",
    "4.757124477254536,\n",
    "314.11883924529235,\n",
    "\n",
    "* pad =10 and rejection_distance = 6 yielded\n",
    "4.757124477254536,\n",
    "314.11883924529235,\n",
    " \n",
    "* pad =0 and rejection_distance = 0 yielded\n",
    "4.757124477254592,\n",
    "314.11883924529235,<br>\n",
    "#^that small difference came from the gaussian filter without b.c.'s I'd bet"
   ]
  },
  {
   "cell_type": "code",
   "execution_count": 84,
   "metadata": {
    "ExecuteTime": {
     "end_time": "2020-06-21T01:33:32.916182Z",
     "start_time": "2020-06-21T01:33:32.888090Z"
    },
    "hidden": true
   },
   "outputs": [
    {
     "name": "stdout",
     "output_type": "stream",
     "text": [
      "34\n"
     ]
    },
    {
     "data": {
      "text/plain": [
       "[94.40598356654313,\n",
       " 4.757124477254592,\n",
       " 70.59466606577625,\n",
       " 63.46909489276186,\n",
       " 50.09620885066247,\n",
       " 15.45556769905707,\n",
       " 93.92799490929426,\n",
       " 148.6264747980347,\n",
       " 142.27515946218438,\n",
       " 158.27770971960348,\n",
       " 145.05953489102177,\n",
       " 139.0844938765144,\n",
       " 223.9352840239717,\n",
       " 266.9757498435436,\n",
       " 257.0868653172777,\n",
       " 228.23974488425034,\n",
       " 297.9859671764745,\n",
       " 262.56554019044415,\n",
       " 296.08708631528293,\n",
       " 310.0086162886364,\n",
       " 369.4868153147052,\n",
       " 326.20033903241574,\n",
       " 360.8296343352165,\n",
       " 340.38624515466046,\n",
       " 314.11883924529235,\n",
       " 293.78258592717316,\n",
       " 370.075292022259,\n",
       " 412.1725760338893,\n",
       " 487.1431335079494,\n",
       " 464.2220087946094,\n",
       " 468.8446973234902,\n",
       " 458.14358634237806,\n",
       " 505.41412966736465,\n",
       " 508.1188092991977]"
      ]
     },
     "execution_count": 84,
     "metadata": {},
     "output_type": "execute_result"
    }
   ],
   "source": [
    "print(count_tips(tips_mapped[2]))\n",
    "tips_mapped[2]"
   ]
  },
  {
   "cell_type": "markdown",
   "metadata": {
    "hidden": true
   },
   "source": [
    "__Good Check__: Does map_pbc_tips_back produce positions consistent with get_tips? __Yes__\n",
    "* pad =0 and rejection_distance = 0 yielded from get_tips\n",
    "4.757124477254592\n",
    "314.11883924529235,\n",
    "\n",
    "* pad =0 and rejection_distance = 0 yielded from map_pbc_tips_back\n",
    "4.757124477254592,\n",
    "314.11883924529235,<br>\n",
    "#^that small difference came from the gaussian filter without b.c.'s I'd bet"
   ]
  },
  {
   "cell_type": "code",
   "execution_count": 86,
   "metadata": {
    "ExecuteTime": {
     "end_time": "2020-06-21T01:36:19.788849Z",
     "start_time": "2020-06-21T01:36:19.758555Z"
    },
    "hidden": true
   },
   "outputs": [
    {
     "name": "stdout",
     "output_type": "stream",
     "text": [
      "34\n"
     ]
    },
    {
     "data": {
      "text/plain": [
       "[[94.40598356654313],\n",
       " [4.757124477254592, 70.59466606577625],\n",
       " [63.46909489276186, 50.09620885066247],\n",
       " [15.45556769905707],\n",
       " [93.92799490929426],\n",
       " [148.6264747980347],\n",
       " [142.27515946218438, 158.27770971960348],\n",
       " [145.05953489102177, 139.0844938765144],\n",
       " [223.9352840239717, 266.9757498435436],\n",
       " [257.0868653172777, 228.23974488425034],\n",
       " [297.9859671764745, 262.56554019044415],\n",
       " [296.08708631528293, 310.0086162886364],\n",
       " [369.4868153147052, 326.20033903241574],\n",
       " [360.8296343352165, 340.38624515466046],\n",
       " [314.11883924529235, 293.78258592717316],\n",
       " [370.075292022259, 412.1725760338893],\n",
       " [487.1431335079494, 464.2220087946094],\n",
       " [468.8446973234902, 458.14358634237806],\n",
       " [505.41412966736465],\n",
       " [508.1188092991977]]"
      ]
     },
     "execution_count": 86,
     "metadata": {},
     "output_type": "execute_result"
    }
   ],
   "source": [
    "print(count_tips(tips[1]))\n",
    "tips[1]"
   ]
  },
  {
   "cell_type": "code",
   "execution_count": 480,
   "metadata": {
    "ExecuteTime": {
     "end_time": "2020-06-21T00:54:24.424953Z",
     "start_time": "2020-06-21T00:54:24.393987Z"
    },
    "hidden": true
   },
   "outputs": [
    {
     "name": "stdout",
     "output_type": "stream",
     "text": [
      "36\n"
     ]
    },
    {
     "data": {
      "text/plain": [
       "[[100.41175720986475],\n",
       " [7.281759284472582, 74.03625776607166],\n",
       " [64.95, 50.809320893227735],\n",
       " [14.95],\n",
       " [89.39645976171033],\n",
       " [148.95, 146.11218723209987, 146.80580926370595],\n",
       " [139.65806825274547, 157.95],\n",
       " [146.05, 140.17623719718864],\n",
       " [221.32255973192264, 272.27239924634904],\n",
       " [258.2020080698836, 228.70568684253377],\n",
       " [294.3217182123119, 263.603777887945],\n",
       " [292.1946101968355, 308.95],\n",
       " [371.4803618267939, 326.402129735965],\n",
       " [364.1027731905096, 341.455422716949],\n",
       " [312.95, 292.53822341213527],\n",
       " [368.6302264195384, 412.95],\n",
       " [483.9784470005337, 464.6164473125706],\n",
       " [469.76870711104664, 463.1320310072285],\n",
       " [506.33764147270784],\n",
       " [509.05]]"
      ]
     },
     "execution_count": 480,
     "metadata": {},
     "output_type": "execute_result"
    }
   ],
   "source": [
    "print(count_tips(tips[1]))\n",
    "tips[1]"
   ]
  },
  {
   "cell_type": "code",
   "execution_count": 509,
   "metadata": {
    "ExecuteTime": {
     "end_time": "2020-06-21T01:11:19.995264Z",
     "start_time": "2020-06-21T01:11:19.972053Z"
    },
    "hidden": true
   },
   "outputs": [
    {
     "data": {
      "text/plain": [
       "-3.620023908932069"
      ]
     },
     "execution_count": 509,
     "metadata": {},
     "output_type": "execute_result"
    }
   ],
   "source": [
    "pad\n",
    "100.41175720986475 - 104.03178111879681"
   ]
  },
  {
   "cell_type": "code",
   "execution_count": 487,
   "metadata": {
    "ExecuteTime": {
     "end_time": "2020-06-21T00:56:09.856151Z",
     "start_time": "2020-06-21T00:56:09.827842Z"
    },
    "hidden": true
   },
   "outputs": [
    {
     "data": {
      "text/plain": [
       "1.1342461769196923"
      ]
     },
     "execution_count": 487,
     "metadata": {},
     "output_type": "execute_result"
    }
   ],
   "source": [
    "7.281759284472582 - 6.147513107552889"
   ]
  },
  {
   "cell_type": "code",
   "execution_count": 488,
   "metadata": {
    "ExecuteTime": {
     "end_time": "2020-06-21T00:56:32.339308Z",
     "start_time": "2020-06-21T00:56:32.309432Z"
    },
    "hidden": true
   },
   "outputs": [
    {
     "data": {
      "text/plain": [
       "-0.5391155913438439"
      ]
     },
     "execution_count": 488,
     "metadata": {},
     "output_type": "execute_result"
    }
   ],
   "source": [
    "64.41088440865616 - 64.95"
   ]
  },
  {
   "cell_type": "code",
   "execution_count": 444,
   "metadata": {
    "ExecuteTime": {
     "end_time": "2020-06-21T00:48:38.395840Z",
     "start_time": "2020-06-21T00:48:38.369149Z"
    },
    "hidden": true
   },
   "outputs": [],
   "source": [
    "def nested_list_to_tuple(numba_lst):\n",
    "    normal_list = []\n",
    "    for lst in numba_lst:\n",
    "        normal_list.append(list(lst))\n",
    "    return normal_list"
   ]
  },
  {
   "cell_type": "code",
   "execution_count": null,
   "metadata": {
    "ExecuteTime": {
     "end_time": "2020-06-21T00:09:25.754978Z",
     "start_time": "2020-06-21T00:09:25.723180Z"
    },
    "hidden": true
   },
   "outputs": [],
   "source": [
    "#make file for logging results\n",
    "output_dir = nb_dir+'/Data/Log'\n",
    "if not os.path.exists(output_dir):\n",
    "    os.mkdir(output_dir)\n",
    "    \n",
    "output_fn = 'test-pbc-tips-1.csv'\n",
    "output_file = get_incremented_output_filename(output_dir, output_fn)\n",
    "# with open(output_file, 'w') as opened_file:\n",
    "#     opened_file.write('s1,s2,t,x,y\\n')\n",
    "# with open(output_file, 'a') as opened_file:\n",
    "#     s1_lst, s2_lst, x_lst, y_lst = map_pbc_tips_back(tips=tips, pad=pad, width=width, height=height, \n",
    "#                   edge_tolerance=edge_tolerance, atol = 1e-11)\n",
    "#     stdout = str((str(tuple(s1_lst)),str(tuple(s2_lst)),float(np.around(tme, 2)),str(tuple(x_lst)),str(tuple(y_lst))))[1:-1]+'\\n'\n",
    "#     stdout.replace(\"\\'\",'''\\\"''')\n",
    "    #     stdout = str((float(np.around(tme, 2)),tuple(s1_lst),tuple(s2_lst),tuple(x_lst),tuple(y_lst)))[1:-1]+'\\n'\n",
    "    opened_file.write(stdout.replace(\"\\'\",'''\\\"'''))\n",
    "    \n",
    "#     printProgressBar(step + 1, nsteps, prefix = 'Progress:', suffix = 'Complete', length = 50)"
   ]
  },
  {
   "cell_type": "code",
   "execution_count": 655,
   "metadata": {
    "ExecuteTime": {
     "end_time": "2020-06-22T21:16:03.050682Z",
     "start_time": "2020-06-22T21:16:03.026417Z"
    },
    "hidden": true
   },
   "outputs": [],
   "source": [
    "# tips"
   ]
  },
  {
   "cell_type": "code",
   "execution_count": 501,
   "metadata": {
    "ExecuteTime": {
     "end_time": "2020-06-21T01:03:39.963347Z",
     "start_time": "2020-06-21T01:03:37.478567Z"
    },
    "hidden": true
   },
   "outputs": [
    {
     "name": "stdout",
     "output_type": "stream",
     "text": [
      "sigma = 0.1 and threshold = 0.95.\n"
     ]
    },
    {
     "data": {
      "image/png": "[encoded data removed]",
      "text/plain": [
       "<Figure size 360x360 with 1 Axes>"
      ]
     },
     "metadata": {
      "needs_background": "light"
     },
     "output_type": "display_data"
    },
    {
     "data": {
      "text/plain": [
       "0"
      ]
     },
     "execution_count": 501,
     "metadata": {},
     "output_type": "execute_result"
    }
   ],
   "source": [
    "n_lst, x_lst, y_lst = get_tips(contours_raw, contours_inc)\n",
    "tip_states = {'n': n_lst, 'x': x_lst, 'y': y_lst}\n",
    "print(f\"sigma = {sigma} and threshold = {threshold}.\")\n",
    "fig = plot_buffer(img_nxt, img_inc, contours_raw, contours_inc, tips, \n",
    "                  figsize=(5,5),max_marker_size=200, lw=1);\n",
    "plt.grid('on')\n",
    "plt.show()\n",
    "beep(2)"
   ]
  },
  {
   "cell_type": "code",
   "execution_count": 26,
   "metadata": {
    "ExecuteTime": {
     "end_time": "2020-06-20T21:45:37.546483Z",
     "start_time": "2020-06-20T21:45:37.522080Z"
    },
    "hidden": true
   },
   "outputs": [],
   "source": [
    "# import pandas as pd\n",
    "\n",
    "# @njit\n",
    "# def unpad(X, pad, width, rejection_distance):\n",
    "#     '''unpads 1 coordinate x or y for the padding: \n",
    "#     [0... pad | pad ... width + pad | width + pad ... width + 2 * pad]\n",
    "#     return -9999 if X is within rejection_distance of the edge,\n",
    "#     return X if X is in [pad ... width + pad], which is if X is in the unpadded frame, which has width = width\n",
    "#     else return X reflected onto the unpadded frame'''\n",
    "#     P  = rejection_distance\n",
    "#     X -= pad\n",
    "#     if X < -P:\n",
    "#         X = -9999 # throw out X later\n",
    "#     elif X < 0:\n",
    "#         X += width\n",
    "#     if X > width+P:\n",
    "#         X = -9999 # throw out X later\n",
    "#     elif X >= width:\n",
    "#         X -= width\n",
    "#     return X"
   ]
  },
  {
   "cell_type": "code",
   "execution_count": 47,
   "metadata": {
    "ExecuteTime": {
     "end_time": "2020-06-20T21:55:17.467878Z",
     "start_time": "2020-06-20T21:55:17.437123Z"
    },
    "hidden": true
   },
   "outputs": [],
   "source": [
    "#padded spiral tips are produced with at pixel percision of about 13 digits.\n",
    "# note that this is not the same as accuracy, which will depend on sigma, threshold, and V_threshold\n",
    "\n",
    "# test functions for unpad\n",
    "assert(0==unpad(X=20, pad=20, width=500, rejection_distance=10))\n",
    "assert(unpad(X=19, pad=20, width=500, rejection_distance=10)==499)\n",
    "assert(280==unpad(X=300, pad=20, width=500, rejection_distance=10))\n",
    "assert(499==unpad(X=519, pad=20, width=500, rejection_distance=10))\n",
    "assert(10==unpad(X=530, pad=20, width=500, rejection_distance=10))\n",
    "assert(-9999==unpad(X=531, pad=20, width=500, rejection_distance=10))\n",
    "assert(490==unpad(X=10, pad=20, width=500, rejection_distance=10))\n",
    "assert(-9999==unpad(X=9, pad=20, width=500, rejection_distance=10))"
   ]
  },
  {
   "cell_type": "code",
   "execution_count": 50,
   "metadata": {
    "ExecuteTime": {
     "end_time": "2020-06-20T22:00:13.637178Z",
     "start_time": "2020-06-20T22:00:13.608772Z"
    },
    "hidden": true
   },
   "outputs": [],
   "source": [
    "# @njit\n",
    "# def unpad_xy_position (position, pad_x, width, rejection_distance_x, \n",
    "#                        pad_y, height, rejection_distance_y):\n",
    "#     x = unpad(X=position[0], pad=pad_x, width=width, rejection_distance=rejection_distance_x)\n",
    "#     y = unpad(X=position[1], pad=pad_y, width=height, rejection_distance=rejection_distance_y)\n",
    "#     return x,y    "
   ]
  },
  {
   "cell_type": "code",
   "execution_count": null,
   "metadata": {
    "ExecuteTime": {
     "end_time": "2020-06-20T21:59:16.550559Z",
     "start_time": "2020-06-20T21:59:16.510622Z"
    },
    "hidden": true
   },
   "outputs": [],
   "source": []
  },
  {
   "cell_type": "code",
   "execution_count": 16,
   "metadata": {
    "ExecuteTime": {
     "end_time": "2020-06-21T01:16:26.977565Z",
     "start_time": "2020-06-21T01:16:26.941457Z"
    },
    "hidden": true
   },
   "outputs": [],
   "source": []
  },
  {
   "cell_type": "code",
   "execution_count": 165,
   "metadata": {
    "ExecuteTime": {
     "end_time": "2020-06-20T23:11:27.559144Z",
     "start_time": "2020-06-20T23:11:27.522273Z"
    },
    "hidden": true
   },
   "outputs": [],
   "source": [
    "# def my_numba_list_to_python_list(numba_lst):\n",
    "#     normal_list = []\n",
    "#     for lst in numba_lst:\n",
    "#         normal_list.append(list(lst))\n",
    "#     return normal_list"
   ]
  },
  {
   "cell_type": "code",
   "execution_count": 365,
   "metadata": {
    "ExecuteTime": {
     "end_time": "2020-06-21T00:25:33.944083Z",
     "start_time": "2020-06-21T00:25:33.921517Z"
    },
    "hidden": true
   },
   "outputs": [
    {
     "data": {
      "text/plain": [
       "499"
      ]
     },
     "execution_count": 365,
     "metadata": {},
     "output_type": "execute_result"
    }
   ],
   "source": [
    "unpad(X=499, pad=0, width=500, rejection_distance=0)"
   ]
  },
  {
   "cell_type": "code",
   "execution_count": 170,
   "metadata": {
    "ExecuteTime": {
     "end_time": "2020-06-20T23:16:38.144833Z",
     "start_time": "2020-06-20T23:16:38.119037Z"
    },
    "hidden": true
   },
   "outputs": [],
   "source": [
    "# tme = 0.038838388\n"
   ]
  },
  {
   "cell_type": "code",
   "execution_count": 177,
   "metadata": {
    "ExecuteTime": {
     "end_time": "2020-06-20T23:19:33.243804Z",
     "start_time": "2020-06-20T23:19:33.212470Z"
    },
    "hidden": true
   },
   "outputs": [],
   "source": [
    "# y_lst\n",
    "#                     's': tuple(n_lst)})\n"
   ]
  },
  {
   "cell_type": "markdown",
   "metadata": {
    "ExecuteTime": {
     "end_time": "2020-06-20T23:19:43.086121Z",
     "start_time": "2020-06-20T23:19:43.057884Z"
    },
    "heading_collapsed": true
   },
   "source": [
    "# (unsuccessful) using a context manager to log tips (slows down sim significantly and doesn't make files that pandas imports easily.\n"
   ]
  },
  {
   "cell_type": "code",
   "execution_count": 255,
   "metadata": {
    "ExecuteTime": {
     "end_time": "2020-06-20T23:49:52.589676Z",
     "start_time": "2020-06-20T23:49:52.561315Z"
    },
    "hidden": true
   },
   "outputs": [],
   "source": [
    "# #make file for logging results\n",
    "# output_dir = nb_dir+'/Data/Log'\n",
    "# if not os.path.exists(output_dir):\n",
    "#     os.mkdir(output_dir)\n",
    "    \n",
    "# output_fn = 'test-pbc-tips-1.csv'\n",
    "# output_file = get_incremented_output_filename(output_dir, output_fn)\n",
    "# with open(output_file, 'w') as opened_file:\n",
    "#     opened_file.write('s1,s2,t,x,y\\n')\n",
    "\n",
    "\n",
    "# with open(output_file, 'a') as opened_file:\n",
    "# #     s1_lst, s2_lst, x_lst, y_lst = map_pbc_tips_back(tips=tips, pad=pad, width=width, height=height, \n",
    "# #                   edge_tolerance=edge_tolerance, atol = 1e-11)\n",
    "# #     stdout = str((str(tuple(s1_lst)),str(tuple(s2_lst)),float(np.around(tme, 2)),str(tuple(x_lst)),str(tuple(y_lst))))[1:-1]+'\\n'\n",
    "# #     stdout.replace(\"\\'\",'''\\\"''')\n",
    "#     #     stdout = str((float(np.around(tme, 2)),tuple(s1_lst),tuple(s2_lst),tuple(x_lst),tuple(y_lst)))[1:-1]+'\\n'\n",
    "#     opened_file.write(stdout.replace(\"\\'\",'''\\\"'''))\n",
    "    \n",
    "# #     printProgressBar(step + 1, nsteps, prefix = 'Progress:', suffix = 'Complete', length = 50)\n",
    "# beep(3)"
   ]
  },
  {
   "cell_type": "code",
   "execution_count": 257,
   "metadata": {
    "ExecuteTime": {
     "end_time": "2020-06-20T23:49:56.206029Z",
     "start_time": "2020-06-20T23:49:56.184436Z"
    },
    "hidden": true
   },
   "outputs": [],
   "source": [
    "# s_mapped_lst, x_mapped_lst, y_mapped_lst = tips_mapped\n",
    "\n"
   ]
  },
  {
   "cell_type": "code",
   "execution_count": 248,
   "metadata": {
    "ExecuteTime": {
     "end_time": "2020-06-20T23:48:05.802585Z",
     "start_time": "2020-06-20T23:48:05.774547Z"
    },
    "hidden": true
   },
   "outputs": [
    {
     "data": {
      "text/plain": [
       "'/Users/timothytyree/Documents/GitHub/care/notebooks/Data/Log/test-pbc-tips-9.csv'"
      ]
     },
     "execution_count": 248,
     "metadata": {},
     "output_type": "execute_result"
    }
   ],
   "source": [
    "# float(np.around(tme, 2))\n",
    "# str(tuple(s1_lst)),str(tuple(s2_lst)),str(tuple(x_lst)),str(tuple(y_lst))\n"
   ]
  },
  {
   "cell_type": "code",
   "execution_count": 88,
   "metadata": {
    "ExecuteTime": {
     "end_time": "2020-06-21T01:58:19.122259Z",
     "start_time": "2020-06-21T01:58:18.727705Z"
    },
    "hidden": true
   },
   "outputs": [
    {
     "name": "stdout",
     "output_type": "stream",
     "text": [
      "100000\n"
     ]
    }
   ],
   "source": [
    "test_fn = 'Data/tip_log_from_ic_600x600.101_at_time_308.5.csv'\n",
    "# pd.read_csv(test_fn)"
   ]
  },
  {
   "cell_type": "code",
   "execution_count": 87,
   "metadata": {
    "ExecuteTime": {
     "end_time": "2020-06-21T01:38:53.241915Z",
     "start_time": "2020-06-21T01:38:53.217341Z"
    },
    "hidden": true
   },
   "outputs": [],
   "source": [
    "# np.argwhere(xy_lst,xy)\n",
    "# pd.read_csv(output_file)#, tupleize_cols=True)"
   ]
  },
  {
   "cell_type": "code",
   "execution_count": null,
   "metadata": {
    "ExecuteTime": {
     "start_time": "2020-06-08T08:56:40.530Z"
    },
    "hidden": true
   },
   "outputs": [],
   "source": [
    "# {'x':tips_mapped[1], 'y': tips_mapped[2]}\n",
    "# tips_mapped[1:]#'s':list(tips_mapped[0])\n",
    "print(tips_mapped[2])\n",
    "# df = pd.DataFrame(tips_mapped[1:])#, columns=['s','x','y'])"
   ]
  },
  {
   "cell_type": "code",
   "execution_count": 254,
   "metadata": {
    "ExecuteTime": {
     "end_time": "2020-06-08T08:34:12.168144Z",
     "start_time": "2020-06-08T08:34:12.142085Z"
    },
    "hidden": true
   },
   "outputs": [
    {
     "name": "stdout",
     "output_type": "stream",
     "text": [
      "[0.00000000e+00 0.00000000e+00 5.68434189e-14 3.41060513e-13\n",
      " 0.00000000e+00 0.00000000e+00 5.68434189e-14 5.68434189e-14\n",
      " 1.13686838e-13 5.68434189e-14 5.68434189e-14 0.00000000e+00]\n"
     ]
    }
   ],
   "source": [
    "series = pd.Series(x_mapped_lst)\n",
    "tol = 1.e-12 #greater than to 5.e-14\n",
    "error_array = np.diff(np.sort(series[series.duplicated()]))\n",
    "print(error_array[error_array<tol])"
   ]
  },
  {
   "cell_type": "code",
   "execution_count": 255,
   "metadata": {
    "ExecuteTime": {
     "end_time": "2020-06-08T08:34:14.525808Z",
     "start_time": "2020-06-08T08:34:14.503337Z"
    },
    "hidden": true
   },
   "outputs": [
    {
     "name": "stdout",
     "output_type": "stream",
     "text": [
      "[0.00000000e+00 0.00000000e+00 5.68434189e-14 5.68434189e-14\n",
      " 0.00000000e+00 0.00000000e+00]\n"
     ]
    }
   ],
   "source": [
    "series = pd.Series(y_mapped_lst)\n",
    "tol = 1.e-12 #greater than to 5.e-14\n",
    "error_array = np.diff(np.sort(series[series.duplicated()]))\n",
    "print(error_array[error_array<tol])"
   ]
  },
  {
   "cell_type": "code",
   "execution_count": 195,
   "metadata": {
    "ExecuteTime": {
     "end_time": "2020-06-08T08:16:03.831967Z",
     "start_time": "2020-06-08T08:16:03.808899Z"
    },
    "hidden": true
   },
   "outputs": [],
   "source": [
    "#now remove duplicates\n",
    "xy_zipped = [xy for xy in zip(x_mapped_lst, y_mapped_lst)]"
   ]
  },
  {
   "cell_type": "code",
   "execution_count": 209,
   "metadata": {
    "ExecuteTime": {
     "end_time": "2020-06-08T08:21:54.418518Z",
     "start_time": "2020-06-08T08:21:54.393377Z"
    },
    "hidden": true
   },
   "outputs": [],
   "source": []
  },
  {
   "cell_type": "code",
   "execution_count": 214,
   "metadata": {
    "ExecuteTime": {
     "end_time": "2020-06-08T08:24:30.104728Z",
     "start_time": "2020-06-08T08:24:30.077646Z"
    },
    "hidden": true
   },
   "outputs": [
    {
     "data": {
      "text/plain": [
       "60"
      ]
     },
     "execution_count": 214,
     "metadata": {},
     "output_type": "execute_result"
    }
   ],
   "source": [
    "# xy_df.drop_duplicates(subset=['x','y'])\n",
    "len(s_mapped_lst)"
   ]
  },
  {
   "cell_type": "code",
   "execution_count": 217,
   "metadata": {
    "ExecuteTime": {
     "end_time": "2020-06-08T08:25:53.388342Z",
     "start_time": "2020-06-08T08:25:53.364366Z"
    },
    "hidden": true
   },
   "outputs": [
    {
     "data": {
      "text/plain": [
       "60"
      ]
     },
     "execution_count": 217,
     "metadata": {},
     "output_type": "execute_result"
    }
   ],
   "source": [
    "len(x_mapped_lst)"
   ]
  },
  {
   "cell_type": "code",
   "execution_count": 227,
   "metadata": {
    "ExecuteTime": {
     "end_time": "2020-06-08T08:29:54.441541Z",
     "start_time": "2020-06-08T08:29:54.406500Z"
    },
    "hidden": true
   },
   "outputs": [
    {
     "data": {
      "text/plain": [
       "(0, 0)"
      ]
     },
     "execution_count": 227,
     "metadata": {},
     "output_type": "execute_result"
    }
   ],
   "source": [
    "s_tips[0]"
   ]
  },
  {
   "cell_type": "code",
   "execution_count": 262,
   "metadata": {
    "ExecuteTime": {
     "end_time": "2020-06-08T08:38:51.076865Z",
     "start_time": "2020-06-08T08:38:51.054565Z"
    },
    "hidden": true
   },
   "outputs": [
    {
     "data": {
      "text/plain": [
       "60"
      ]
     },
     "execution_count": 262,
     "metadata": {},
     "output_type": "execute_result"
    }
   ],
   "source": [
    "len(tips_mapped[0])"
   ]
  },
  {
   "cell_type": "markdown",
   "metadata": {
    "hidden": true
   },
   "source": [
    "## helper functions for intersect"
   ]
  },
  {
   "cell_type": "code",
   "execution_count": 867,
   "metadata": {
    "ExecuteTime": {
     "end_time": "2020-06-22T21:51:30.582705Z",
     "start_time": "2020-06-22T21:51:30.559428Z"
    },
    "hidden": true
   },
   "outputs": [],
   "source": [
    "# def _rectangle_intersection_(x1, y1, x2, y2):\n",
    "#     S1, S2, S3, S4 = _rect_inter_inner(x1, x2)\n",
    "#     S5, S6, S7, S8 = _rect_inter_inner(y1, y2)\n",
    "\n",
    "#     C1 = np.less_equal(S1, S2)\n",
    "#     C2 = np.greater_equal(S3, S4)\n",
    "#     C3 = np.less_equal(S5, S6)\n",
    "#     C4 = np.greater_equal(S7, S8)\n",
    "\n",
    "#     ii, jj = np.nonzero(C1 & C2 & C3 & C4)\n",
    "#     return ii, jj\n",
    "import inspect"
   ]
  },
  {
   "cell_type": "code",
   "execution_count": 870,
   "metadata": {
    "ExecuteTime": {
     "end_time": "2020-06-22T21:52:34.756889Z",
     "start_time": "2020-06-22T21:52:34.729043Z"
    },
    "hidden": true
   },
   "outputs": [
    {
     "name": "stdout",
     "output_type": "stream",
     "text": [
      "def _rect_inter_inner(x1, x2):\n",
      "    n1 = x1.shape[0]-1\n",
      "    n2 = x2.shape[0]-1\n",
      "    \n",
      "    minx1 = _min_within(x1,n1)\n",
      "    maxx1 = _max_within(x1,n1)\n",
      "    minx2 = _min_within(x2,n2)\n",
      "    maxx2 = _max_within(x2,n2)\n",
      "    \n",
      "    S1 = np.zeros((n2,n1))\n",
      "    S3 = S1.copy()\n",
      "    for j in range(n2):\n",
      "        S1[j] = minx1\n",
      "        S3[j] = maxx1\n",
      "    S2 = np.zeros((n1,n2))\n",
      "    S4 = S2.copy()\n",
      "    for j in range(n1):\n",
      "        S2[j] = maxx2\n",
      "        S4[j] = minx2\n",
      "    return S1.T, S2, S3.T, S4\n",
      "\n"
     ]
    }
   ],
   "source": [
    "print(inspect.getsource(intersection))"
   ]
  },
  {
   "cell_type": "markdown",
   "metadata": {
    "heading_collapsed": true
   },
   "source": [
    "# DONE: optimize intersection.py"
   ]
  },
  {
   "cell_type": "code",
   "execution_count": 1077,
   "metadata": {
    "ExecuteTime": {
     "end_time": "2020-06-22T22:31:26.806933Z",
     "start_time": "2020-06-22T22:31:26.748639Z"
    },
    "hidden": true
   },
   "outputs": [],
   "source": [
    "# np.diff(np.column_stack((x1, y1)),axis=0)\n",
    "from lib.intersection import *"
   ]
  },
  {
   "cell_type": "code",
   "execution_count": null,
   "metadata": {
    "ExecuteTime": {
     "end_time": "2020-06-22T18:07:05.554147Z",
     "start_time": "2020-06-22T18:07:05.342414Z"
    },
    "hidden": true
   },
   "outputs": [],
   "source": []
  },
  {
   "cell_type": "code",
   "execution_count": null,
   "metadata": {
    "ExecuteTime": {
     "end_time": "2020-06-22T18:05:29.325250Z",
     "start_time": "2020-06-22T18:05:29.299950Z"
    },
    "hidden": true
   },
   "outputs": [],
   "source": []
  },
  {
   "cell_type": "code",
   "execution_count": 643,
   "metadata": {
    "ExecuteTime": {
     "end_time": "2020-06-22T21:12:21.238304Z",
     "start_time": "2020-06-22T21:12:21.213435Z"
    },
    "hidden": true
   },
   "outputs": [],
   "source": [
    "# (sum(X1-X2)==0).all()"
   ]
  },
  {
   "cell_type": "code",
   "execution_count": 1041,
   "metadata": {
    "ExecuteTime": {
     "end_time": "2020-06-22T22:24:09.165012Z",
     "start_time": "2020-06-22T22:24:09.143962Z"
    },
    "hidden": true
   },
   "outputs": [
    {
     "data": {
      "text/plain": [
       "array([], dtype=float64)"
      ]
     },
     "execution_count": 1041,
     "metadata": {},
     "output_type": "execute_result"
    }
   ],
   "source": [
    "# sum(sum(S1-S1b))==0\n",
    "\n",
    "# sum(sum(S2-S2b))==0\n",
    "\n",
    "# sum(sum(S3-S3b))==0\n",
    "\n",
    "# sum(sum(S4-S4b))==0"
   ]
  },
  {
   "cell_type": "code",
   "execution_count": 1078,
   "metadata": {
    "ExecuteTime": {
     "end_time": "2020-06-22T22:31:28.570238Z",
     "start_time": "2020-06-22T22:31:28.542024Z"
    },
    "hidden": true
   },
   "outputs": [
    {
     "data": {
      "text/plain": [
       "(array([], dtype=int64), array([], dtype=int64))"
      ]
     },
     "execution_count": 1078,
     "metadata": {},
     "output_type": "execute_result"
    }
   ],
   "source": [
    "_rectangle_intersection_(x1,y1,x2,y2)"
   ]
  },
  {
   "cell_type": "code",
   "execution_count": 1080,
   "metadata": {
    "ExecuteTime": {
     "end_time": "2020-06-22T22:31:37.016911Z",
     "start_time": "2020-06-22T22:31:36.825652Z"
    },
    "hidden": true
   },
   "outputs": [
    {
     "data": {
      "image/png": "[encoded data removed]",
      "text/plain": [
       "<Figure size 432x288 with 1 Axes>"
      ]
     },
     "metadata": {
      "needs_background": "light"
     },
     "output_type": "display_data"
    }
   ],
   "source": [
    "a, b = 1, 2\n",
    "phi = np.linspace(3, 10, 100)\n",
    "x1 = a*phi - b*np.sin(phi)\n",
    "y1 = a - b*np.cos(phi)\n",
    "\n",
    "x2=phi\n",
    "y2=np.sin(phi)+2\n",
    "x,y=intersection(x1,y1,x2,y2)\n",
    "\n",
    "plt.plot(x1,y1,c='r')\n",
    "plt.plot(x2,y2,c='g')\n",
    "plt.plot(x,y,'*k')\n",
    "plt.show()"
   ]
  },
  {
   "cell_type": "code",
   "execution_count": 1081,
   "metadata": {
    "ExecuteTime": {
     "end_time": "2020-06-22T22:31:38.672059Z",
     "start_time": "2020-06-22T22:31:38.467234Z"
    },
    "hidden": true
   },
   "outputs": [
    {
     "data": {
      "image/png": "[encoded data removed]",
      "text/plain": [
       "<Figure size 432x288 with 1 Axes>"
      ]
     },
     "metadata": {
      "needs_background": "light"
     },
     "output_type": "display_data"
    }
   ],
   "source": [
    "#test that it works for vertical segments\n",
    "a, b = 1, 2\n",
    "phi = np.linspace(3, 10, 100)\n",
    "x1 = a*phi - b*np.sin(phi)\n",
    "y1 = a - b*np.cos(phi)\n",
    "\n",
    "x2=phi\n",
    "y2=0.*np.sin(phi)+2\n",
    "x,y=intersection(x1,y1,x2,y2)\n",
    "\n",
    "plt.plot(x1,y1,c='r')\n",
    "plt.plot(x2,y2,c='g')\n",
    "plt.plot(x,y,'*k')\n",
    "plt.show()"
   ]
  },
  {
   "cell_type": "code",
   "execution_count": 1082,
   "metadata": {
    "ExecuteTime": {
     "end_time": "2020-06-22T22:31:40.569739Z",
     "start_time": "2020-06-22T22:31:40.380907Z"
    },
    "hidden": true
   },
   "outputs": [
    {
     "data": {
      "image/png": "[encoded data removed]",
      "text/plain": [
       "<Figure size 432x288 with 1 Axes>"
      ]
     },
     "metadata": {
      "needs_background": "light"
     },
     "output_type": "display_data"
    }
   ],
   "source": [
    "#test that it works for vertical segments\n",
    "a, b = 1, 2\n",
    "phi = np.linspace(3, 10, 100)\n",
    "x1 = 6.+ 0*phi#a*phi - b*np.sin(phi)\n",
    "y1 = phi-4#a - b*np.cos(phi)\n",
    "\n",
    "x2=phi\n",
    "y2=0.*np.sin(phi)+2\n",
    "x,y=intersection(x1,y1,x2,y2)\n",
    "\n",
    "plt.plot(x1,y1,c='r')\n",
    "plt.plot(x2,y2,c='g')\n",
    "plt.plot(x,y,'*k')\n",
    "plt.show()"
   ]
  },
  {
   "cell_type": "code",
   "execution_count": 1083,
   "metadata": {
    "ExecuteTime": {
     "end_time": "2020-06-22T22:31:42.054486Z",
     "start_time": "2020-06-22T22:31:41.879944Z"
    },
    "hidden": true
   },
   "outputs": [
    {
     "data": {
      "image/png": "[encoded data removed]",
      "text/plain": [
       "<Figure size 432x288 with 1 Axes>"
      ]
     },
     "metadata": {
      "needs_background": "light"
     },
     "output_type": "display_data"
    }
   ],
   "source": [
    "#test that it works for vertical segments\n",
    "a, b = 1, 2\n",
    "phi = np.linspace(3, 10, 100)\n",
    "x1 = 6.+ 0*phi#a*phi - b*np.sin(phi)\n",
    "y1 = phi-4#a - b*np.cos(phi)\n",
    "\n",
    "x2=x1+1.#phi\n",
    "y2=y1#0.*np.sin(phi)+2\n",
    "x,y=intersection(x1,y1,x2,y2)\n",
    "\n",
    "plt.plot(x1,y1,c='r')\n",
    "plt.plot(x2,y2,c='g')\n",
    "plt.plot(x,y,'*k')\n",
    "plt.show()"
   ]
  },
  {
   "cell_type": "markdown",
   "metadata": {},
   "source": [
    "# optimize get_tips\n",
    "\n",
    "it looks like the fastest improvement I'm getting is down to about 2 seconds for my use case.  This is because the relatively complicated intersection function needs to get called NxM times for N=num of contour a and M = num of contour b.  This can be improved by quickly checking if an intersection exists.  how might I do this?\n",
    "\n",
    "#the lowest level function determines if there exists an intersection, and it takes the longest. :(\n",
    "#pulling it out doesn't speed things up appreciably\n",
    "\n",
    "I think I can get this (maybe?) O(n^2) intersection algorithm beat with what I was using in the horrible Javascript implementation, which is __O(n)__."
   ]
  },
  {
   "cell_type": "code",
   "execution_count": null,
   "metadata": {
    "ExecuteTime": {
     "start_time": "2020-06-23T00:25:35.104Z"
    }
   },
   "outputs": [],
   "source": [
    "# from lib.get_tips import *\n",
    "# from numba import prange\n",
    "\n",
    "# from lib.intersection import *\n",
    "# from lib.get_tips import *"
   ]
  },
  {
   "cell_type": "code",
   "execution_count": 2,
   "metadata": {
    "ExecuteTime": {
     "end_time": "2020-06-23T00:28:51.988056Z",
     "start_time": "2020-06-23T00:28:51.165509Z"
    }
   },
   "outputs": [
    {
     "name": "stdout",
     "output_type": "stream",
     "text": [
      "(512, 512)\n",
      "(512, 512)\n"
     ]
    }
   ],
   "source": [
    "#Make a naive padded texture that enforces periodic boundary conditions\n",
    "txt = np.load(f'Data/buffer_chaos_circle6_sigma_5_threshold_0.6_wrapping_true_at_time_5400.0.npy')\n",
    "dtexture_dt = 0.*txt.copy()\n",
    "get_time_step(txt,dtexture_dt)\n",
    "\n",
    "edge_tolerance = 0\n",
    "pad = 0\n",
    "sigma = 1\n",
    "threshold = 0.95\n",
    "\n",
    "padded_txt, dpadded_txt_dt = textures_to_padded_textures(txt, dtexture_dt,pad=pad)\n",
    "\n",
    "print(padded_txt.shape)\n",
    "print(dpadded_txt_dt.shape)\n",
    "\n",
    "#compute contours. type 1 = contours_raw, type 2 = contours_incimg_nxt = padded_txt.copy()\n",
    "# img_inc = ifilter(dtexture_dt[...,0])  #mask of instantaneously increasing voltages \n",
    "# img_nxt = txt[...,0].copy()\n",
    "\n",
    "img_nxt = padded_txt.copy()\n",
    "img_inc = ifilter(dpadded_txt_dt)  #mask of instantaneously increasing voltages \n",
    "\n",
    "img_inc = filters.gaussian(img_inc,sigma=sigma)\n",
    "contours_raw = measure.find_contours(img_nxt, level=0.5,fully_connected='low',positive_orientation='low')\n",
    "contours_inc = measure.find_contours(img_inc, level=threshold)#,fully_connected='low',positive_orientation='low')\n"
   ]
  },
  {
   "cell_type": "code",
   "execution_count": 8,
   "metadata": {
    "ExecuteTime": {
     "end_time": "2020-06-23T00:29:25.909688Z",
     "start_time": "2020-06-23T00:29:23.559417Z"
    }
   },
   "outputs": [],
   "source": [
    "retval = get_tips(tuple(contours_raw),tuple(contours_inc));"
   ]
  },
  {
   "cell_type": "code",
   "execution_count": 19,
   "metadata": {
    "ExecuteTime": {
     "end_time": "2020-06-23T00:24:16.633277Z",
     "start_time": "2020-06-23T00:24:16.608980Z"
    }
   },
   "outputs": [],
   "source": [
    "# # #original code reference # @njit\n",
    "# def get_tips(contours_raw, contours_inc):\n",
    "#     '''returns tips with indices of parent contours'''\n",
    "#     n_list = []; x_lst = []; y_lst = []\n",
    "#     for n1, c1 in enumerate(contours_raw):\n",
    "#         for n2, c2 in enumerate(contours_inc):\n",
    "#             x1, y1 = (c1[:, 0], c1[:, 1])\n",
    "#             x2, y2 = (c2[:, 0], c2[:, 1])\n",
    "#             x, y = intersection(x1, y1, x2, y2)\n",
    "#             if len(x)>0:\n",
    "#                 s = (n1,n2)\n",
    "#                 x = list(x)\n",
    "#                 y = list(y)\n",
    "#                 n_list.append(s)\n",
    "#                 x_lst.append(x)\n",
    "#                 y_lst.append(y)\n",
    "#     return n_list, x_lst, y_lst"
   ]
  },
  {
   "cell_type": "code",
   "execution_count": 12,
   "metadata": {
    "ExecuteTime": {
     "end_time": "2020-06-23T00:23:43.383771Z",
     "start_time": "2020-06-23T00:23:43.357534Z"
    }
   },
   "outputs": [],
   "source": [
    "# # @njit(cache=True)\n",
    "# def get_tips(contours_a,contours_b):\n",
    "#     '''returns tips with indices of parent contours returned as the nested list, n_list.\n",
    "#     contours_a,contours_b are each tuples of m-by-2 np.ndarrays.\n",
    "#     each member is a 1D line.  \n",
    "    \n",
    "#     get_tips returns all intersections of \n",
    "#     contours_a with contours_b.  \n",
    "#     will throw a TypingError exception if either input tuple is empty.\n",
    "    \n",
    "#     if you get a nonsingular matrix error, make sure that you`re not comparing a contour to itself.'''\n",
    "#     n_list = List(); x_list = List(); y_list = List();\n",
    "#     ncr = len(contours_a); nci = len(contours_b)\n",
    "#     for n1 in prange(ncr):\n",
    "#         for n2 in prange(nci):\n",
    "# #     for n1, c1 in enumerate(contours_a):\n",
    "# #         for n2, c2 in enumerate(contours_b):\n",
    "#             c1 = contours_a[n1]\n",
    "#             c2 = contours_b[n2]\n",
    "#             x1 = c1[:, 0]\n",
    "#             y1 = c1[:, 1]\n",
    "#             x2 = c2[:, 0]\n",
    "#             y2 = c2[:, 1]\n",
    "#             x,y = intersection(x1, y1, x2, y2)\n",
    "#             if len(x)>0:\n",
    "#                 s = (n1,n2)\n",
    "#                 xl = list(x)\n",
    "#                 yl = list(y)\n",
    "#                 n_list.append(s)\n",
    "#                 x_list.append(xl)\n",
    "#                 y_list.append(yl)\n",
    "#     return n_list, x_list, y_list"
   ]
  },
  {
   "cell_type": "code",
   "execution_count": 1355,
   "metadata": {
    "ExecuteTime": {
     "end_time": "2020-06-22T23:32:51.621339Z",
     "start_time": "2020-06-22T23:32:51.599646Z"
    }
   },
   "outputs": [
    {
     "data": {
      "text/plain": [
       "[[94.40598356654313],\n",
       " [4.757124477254592, 70.59466606577625],\n",
       " [63.46909489276186, 50.09620885066247],\n",
       " [15.45556769905707],\n",
       " [93.92799490929426],\n",
       " [148.6264747980347],\n",
       " [142.27515946218438, 158.27770971960348],\n",
       " [145.05953489102177, 139.0844938765144],\n",
       " [223.9352840239717, 266.9757498435436],\n",
       " [257.0868653172777, 228.23974488425034],\n",
       " [297.9859671764745, 262.56554019044415],\n",
       " [296.08708631528293, 310.0086162886364],\n",
       " [369.4868153147052, 326.20033903241574],\n",
       " [360.8296343352165, 340.38624515466046],\n",
       " [314.11883924529235, 293.78258592717316],\n",
       " [370.075292022259, 412.1725760338893],\n",
       " [487.1431335079494, 464.2220087946094],\n",
       " [468.8446973234902, 458.14358634237806],\n",
       " [505.41412966736465],\n",
       " [508.1188092991977]]"
      ]
     },
     "execution_count": 1355,
     "metadata": {},
     "output_type": "execute_result"
    }
   ],
   "source": [
    "list(retval[1])"
   ]
  },
  {
   "cell_type": "code",
   "execution_count": 1382,
   "metadata": {
    "ExecuteTime": {
     "end_time": "2020-06-22T23:47:54.154289Z",
     "start_time": "2020-06-22T23:47:54.123498Z"
    }
   },
   "outputs": [],
   "source": [
    "import numba"
   ]
  },
  {
   "cell_type": "code",
   "execution_count": 1377,
   "metadata": {
    "ExecuteTime": {
     "end_time": "2020-06-22T23:41:36.951850Z",
     "start_time": "2020-06-22T23:41:36.931572Z"
    }
   },
   "outputs": [],
   "source": [
    "# #maybe a structured dict will be more parallelizable by the compiler\n",
    "# #nope\n",
    "# @njit(parallel=True)\n",
    "# def get_tips(contours_a,contours_b):\n",
    "#     '''returns tips with indices of parent contours returned as the nested list, n_list.\n",
    "#     contours_a,contours_b are each tuples of m-by-2 np.ndarrays.\n",
    "#     each member is a 1D line.  \n",
    "    \n",
    "#     get_tips returns all intersections of \n",
    "#     contours_a with contours_b.  \n",
    "#     will throw a TypingError exception if either input tuple is empty.\n",
    "    \n",
    "#     if you get a nonsingular matrix error, make sure that you`re not comparing a contour to itself.'''\n",
    "#     out = Dict()\n",
    "# #     n_list = List(); x_list = List(); y_list = List();\n",
    "#     ncr = len(contours_a); nci = len(contours_b)\n",
    "#     for n1 in prange(ncr):\n",
    "#         for n2 in prange(nci):\n",
    "# #     for n1, c1 in enumerate(contours_a):\n",
    "# #         for n2, c2 in enumerate(contours_b):\n",
    "#             c1 = contours_a[n1]\n",
    "#             c2 = contours_b[n2]\n",
    "#             x1 = c1[:, 0]\n",
    "#             y1 = c1[:, 1]\n",
    "#             x2 = c2[:, 0]\n",
    "#             y2 = c2[:, 1]\n",
    "#             x,y = intersection(x1, y1, x2, y2)\n",
    "#             if len(x)>0:\n",
    "#                 s = (n1,n2)\n",
    "#                 xl = list(x)\n",
    "#                 yl = list(y)\n",
    "#                 out[s]=(xl,yl)\n",
    "#     return out\n",
    "# #                 n_list.append(s)\n",
    "# #                 x_list.append(xl)\n",
    "# #                 y_list.append(yl)\n",
    "# #     return n_list, x_list, y_list"
   ]
  },
  {
   "cell_type": "code",
   "execution_count": 996,
   "metadata": {
    "ExecuteTime": {
     "end_time": "2020-06-22T22:10:56.579420Z",
     "start_time": "2020-06-22T22:10:56.552881Z"
    }
   },
   "outputs": [
    {
     "data": {
      "text/plain": [
       "(array([], dtype=float64), array([], dtype=float64))"
      ]
     },
     "execution_count": 996,
     "metadata": {},
     "output_type": "execute_result"
    }
   ],
   "source": [
    "x1, y1, x2, y2 = retval\n",
    "test(x1,y1,x2,y2)\n",
    "# print(intersection(x1, y1, x2, y2))\n",
    "# print((x1, y1, x2, y2))\n",
    "# type(x2)"
   ]
  },
  {
   "cell_type": "code",
   "execution_count": 1398,
   "metadata": {
    "ExecuteTime": {
     "end_time": "2020-06-23T00:00:29.230603Z",
     "start_time": "2020-06-23T00:00:29.201344Z"
    }
   },
   "outputs": [
    {
     "data": {
      "text/plain": [
       "tuple(array(float64, 2d, C) x 24)"
      ]
     },
     "execution_count": 1398,
     "metadata": {},
     "output_type": "execute_result"
    }
   ],
   "source": [
    "numba.typeof(tuple(contours_raw))\n",
    "numba.typeof(tuple(contours_inc))"
   ]
  },
  {
   "cell_type": "code",
   "execution_count": 1364,
   "metadata": {
    "ExecuteTime": {
     "end_time": "2020-06-22T23:35:38.363879Z",
     "start_time": "2020-06-22T23:35:38.329342Z"
    }
   },
   "outputs": [],
   "source": [
    "# n_list, x_lst, y_lst = get_tips(tuple(contours_raw), tuple(contours_inc))\n",
    "d.update?"
   ]
  },
  {
   "cell_type": "code",
   "execution_count": 1122,
   "metadata": {
    "ExecuteTime": {
     "end_time": "2020-06-22T22:41:44.125487Z",
     "start_time": "2020-06-22T22:41:44.103008Z"
    }
   },
   "outputs": [],
   "source": [
    "a = List()\n",
    "a.append(1.2)"
   ]
  },
  {
   "cell_type": "code",
   "execution_count": 1125,
   "metadata": {
    "ExecuteTime": {
     "end_time": "2020-06-22T22:41:59.072437Z",
     "start_time": "2020-06-22T22:41:59.046529Z"
    }
   },
   "outputs": [
    {
     "name": "stdout",
     "output_type": "stream",
     "text": [
      "[1.2]\n"
     ]
    }
   ],
   "source": [
    "print(a)"
   ]
  },
  {
   "cell_type": "code",
   "execution_count": 773,
   "metadata": {
    "ExecuteTime": {
     "end_time": "2020-06-22T21:36:01.003871Z",
     "start_time": "2020-06-22T21:36:00.967173Z"
    }
   },
   "outputs": [
    {
     "name": "stdout",
     "output_type": "stream",
     "text": [
      "146\n",
      "413\n",
      "727\n",
      "56\n",
      "243\n",
      "226\n",
      "2248\n",
      "1400\n",
      "123\n",
      "766\n",
      "614\n",
      "48\n",
      "30\n"
     ]
    }
   ],
   "source": [
    "len(contours_raw)\n",
    "for c in contours_raw:\n",
    "    print(c.shape[0])"
   ]
  },
  {
   "cell_type": "code",
   "execution_count": 1222,
   "metadata": {
    "ExecuteTime": {
     "end_time": "2020-06-22T23:06:41.816362Z",
     "start_time": "2020-06-22T23:06:41.776619Z"
    }
   },
   "outputs": [],
   "source": [
    "#the lowest level function determines if there exists an intersection, and it takes the longest. :(\n",
    "#pulling it out doesn't speed things up appreciably\n",
    "# @njit\n",
    "# def get_tips_2(contours_a,contours_b):\n",
    "#     '''returns tips with indices of parent contours returned as the nested list, n_list.\n",
    "#     contours_a,contours_b are each tuples of m-by-2 np.ndarrays.\n",
    "#     each member is a 1D line.  \n",
    "    \n",
    "#     get_tips returns all intersections of \n",
    "#     contours_a with contours_b.  \n",
    "#     will throw a TypingError exception if either input tuple is empty.\n",
    "    \n",
    "#     if you get a nonsingular matrix error, make sure that you`re not comparing a contour to itself.'''\n",
    "#     n_list = List(); x_list = List(); y_list = List();\n",
    "#     ncr = len(contours_a); nci = len(contours_b)\n",
    "#     for n1, c1 in enumerate(contours_a):\n",
    "#         for n2, c2 in enumerate(contours_b):\n",
    "#             x1 = c1[:, 0]\n",
    "#             y1 = c1[:, 1]\n",
    "#             x2 = c2[:, 0]\n",
    "#             y2 = c2[:, 1]\n",
    "#             ii,jj = _rectangle_intersection_(x1, y1, x2, y2)\n",
    "#             if len(ii)>0:\n",
    "#                 x,y = _intersection_after_r_i_(x1, y1, x2, y2,ii,jj)\n",
    "#                 s = (n1,n2)\n",
    "#                 xl = list(x)\n",
    "#                 yl = list(y)\n",
    "#                 n_list.append(s)\n",
    "#                 x_list.append(xl)\n",
    "#                 y_list.append(yl)\n",
    "#     return n_list, x_list, y_list"
   ]
  },
  {
   "cell_type": "code",
   "execution_count": 1274,
   "metadata": {
    "ExecuteTime": {
     "end_time": "2020-06-22T23:19:05.458974Z",
     "start_time": "2020-06-22T23:19:05.437893Z"
    }
   },
   "outputs": [],
   "source": [
    "@njit(parallel=True)\n",
    "def _min_within(x,n):\n",
    "    '''compare every two entries and return the min of the two.\n",
    "    n = int(x.shape[0] - 1)'''\n",
    "    out = np.zeros(n, dtype=np.float64)\n",
    "    for j in prange(n):\n",
    "        out[j] = min((x[j], x[j+1]))\n",
    "    return out"
   ]
  },
  {
   "cell_type": "code",
   "execution_count": 1262,
   "metadata": {
    "ExecuteTime": {
     "end_time": "2020-06-22T23:16:06.942497Z",
     "start_time": "2020-06-22T23:16:06.916471Z"
    }
   },
   "outputs": [],
   "source": [
    "x = np.array([1,2,3,4])"
   ]
  },
  {
   "cell_type": "code",
   "execution_count": 1428,
   "metadata": {
    "ExecuteTime": {
     "end_time": "2020-06-23T00:03:32.835765Z",
     "start_time": "2020-06-23T00:03:32.808353Z"
    }
   },
   "outputs": [
    {
     "data": {
      "text/plain": [
       "array([1., 2., 3.])"
      ]
     },
     "execution_count": 1428,
     "metadata": {},
     "output_type": "execute_result"
    }
   ],
   "source": [
    "_min_within(x,3)"
   ]
  },
  {
   "cell_type": "code",
   "execution_count": 1429,
   "metadata": {
    "ExecuteTime": {
     "end_time": "2020-06-23T00:03:39.033371Z",
     "start_time": "2020-06-23T00:03:39.007601Z"
    }
   },
   "outputs": [],
   "source": [
    "# _min_within.parallel_diagnostics(level=4)"
   ]
  },
  {
   "cell_type": "code",
   "execution_count": null,
   "metadata": {},
   "outputs": [],
   "source": []
  }
 ],
 "metadata": {
  "kernelspec": {
   "display_name": "Python 3",
   "language": "python",
   "name": "python3"
  },
  "language_info": {
   "codemirror_mode": {
    "name": "ipython",
    "version": 3
   },
   "file_extension": ".py",
   "mimetype": "text/x-python",
   "name": "python",
   "nbconvert_exporter": "python",
   "pygments_lexer": "ipython3",
   "version": "3.7.7"
  },
  "varInspector": {
   "cols": {
    "lenName": 16,
    "lenType": 16,
    "lenVar": 40
   },
   "kernels_config": {
    "python": {
     "delete_cmd_postfix": "",
     "delete_cmd_prefix": "del ",
     "library": "var_list.py",
     "varRefreshCmd": "print(var_dic_list())"
    },
    "r": {
     "delete_cmd_postfix": ") ",
     "delete_cmd_prefix": "rm(",
     "library": "var_list.r",
     "varRefreshCmd": "cat(var_dic_list()) "
    }
   },
   "types_to_exclude": [
    "module",
    "function",
    "builtin_function_or_method",
    "instance",
    "_Feature"
   ],
   "window_display": false
  }
 },
 "nbformat": 4,
 "nbformat_minor": 4
}
