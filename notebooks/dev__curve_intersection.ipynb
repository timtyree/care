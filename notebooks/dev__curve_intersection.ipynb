{
 "cells": [
  {
   "cell_type": "markdown",
   "metadata": {
    "heading_collapsed": true
   },
   "source": [
    "# dev for Getting intersections of curves in numpy"
   ]
  },
  {
   "cell_type": "code",
   "execution_count": 1,
   "metadata": {
    "hidden": true
   },
   "outputs": [],
   "source": [
    "from lib.intersection import *\n",
    "import numpy as np\n",
    "from numba import jit, njit\n",
    "import matplotlib.pyplot as plt\n",
    "%load_ext autoreload\n",
    "%autoreload 2"
   ]
  },
  {
   "cell_type": "code",
   "execution_count": 2,
   "metadata": {
    "hidden": true
   },
   "outputs": [
    {
     "data": {
      "image/png": "[encoded data removed]",
      "text/plain": [
       "<Figure size 432x288 with 1 Axes>"
      ]
     },
     "metadata": {
      "needs_background": "light"
     },
     "output_type": "display_data"
    }
   ],
   "source": [
    "a, b = 1, 2\n",
    "phi = np.linspace(3, 10, 100)\n",
    "x1 = a*phi - b*np.sin(phi)\n",
    "y1 = a - b*np.cos(phi)\n",
    "\n",
    "x2=phi\n",
    "y2=np.sin(phi)+2\n",
    "tips = intersection(x1,y1,x2,y2)\n",
    "x,y = tips\n",
    "\n",
    "plt.plot(x1,y1,c='r')\n",
    "plt.plot(x2,y2,c='g')\n",
    "plt.plot(x,y,'*k')\n",
    "plt.show()"
   ]
  },
  {
   "cell_type": "markdown",
   "metadata": {
    "hidden": true
   },
   "source": [
    "### runtime speedtest results"
   ]
  },
  {
   "cell_type": "markdown",
   "metadata": {
    "hidden": true
   },
   "source": [
    "- without numba = 3.34 seconds"
   ]
  },
  {
   "cell_type": "code",
   "execution_count": 7,
   "metadata": {
    "hidden": true
   },
   "outputs": [
    {
     "name": "stdout",
     "output_type": "stream",
     "text": [
      "CPU times: user 2 µs, sys: 1 µs, total: 3 µs\n",
      "Wall time: 5.25 µs\n"
     ]
    }
   ],
   "source": [
    "%time\n",
    "tips = intersection(x1,y1,x2,y2)"
   ]
  },
  {
   "cell_type": "markdown",
   "metadata": {
    "heading_collapsed": true
   },
   "source": [
    "# define hidden helper functions"
   ]
  },
  {
   "cell_type": "code",
   "execution_count": 36,
   "metadata": {
    "hidden": true
   },
   "outputs": [],
   "source": [
    "def _rect_inter_inner(x1, x2):\n",
    "    assert(type(x1)==np.ndarray)\n",
    "    assert(type(x2)==np.ndarray)\n",
    "    n1 = x1.shape[0]-1\n",
    "    n2 = x2.shape[0]-1\n",
    "    X1 = np.c_[x1[:-1], x1[1:]]\n",
    "    X2 = np.c_[x2[:-1], x2[1:]]\n",
    "    S1 = np.tile(X1.min(axis=1), (n2, 1)).T\n",
    "    S2 = np.tile(X2.max(axis=1), (n1, 1))\n",
    "    S3 = np.tile(X1.max(axis=1), (n2, 1)).T\n",
    "    S4 = np.tile(X2.min(axis=1), (n1, 1))\n",
    "    return S1, S2, S3, S4\n",
    "\n",
    "def _rectangle_intersection_(x1, y1, x2, y2):\n",
    "    S1, S2, S3, S4 = _rect_inter_inner(x1, x2)\n",
    "    S5, S6, S7, S8 = _rect_inter_inner(y1, y2)\n",
    "\n",
    "    C1 = np.less_equal(S1, S2)\n",
    "    C2 = np.greater_equal(S3, S4)\n",
    "    C3 = np.less_equal(S5, S6)\n",
    "    C4 = np.greater_equal(S7, S8)\n",
    "\n",
    "    ii, jj = np.nonzero(C1 & C2 & C3 & C4)\n",
    "    return ii, jj"
   ]
  },
  {
   "cell_type": "code",
   "execution_count": null,
   "metadata": {
    "hidden": true
   },
   "outputs": [],
   "source": []
  },
  {
   "cell_type": "code",
   "execution_count": null,
   "metadata": {
    "hidden": true
   },
   "outputs": [],
   "source": []
  },
  {
   "cell_type": "markdown",
   "metadata": {
    "heading_collapsed": true
   },
   "source": [
    "# create visualization for fast, parallelizeable, curve intersection\n",
    "- written completely in numpy\n",
    "- TODO: make input types work with numba.njit or numba.cuda.jit"
   ]
  },
  {
   "cell_type": "code",
   "execution_count": 37,
   "metadata": {
    "hidden": true
   },
   "outputs": [],
   "source": [
    "S1, S2, S3, S4 = _rect_inter_inner(x1, x2)\n",
    "S5, S6, S7, S8 = _rect_inter_inner(y1, y2)"
   ]
  },
  {
   "cell_type": "code",
   "execution_count": 78,
   "metadata": {
    "hidden": true
   },
   "outputs": [
    {
     "data": {
      "image/png": "[encoded data removed]",
      "text/plain": [
       "<Figure size 432x288 with 8 Axes>"
      ]
     },
     "metadata": {
      "needs_background": "light"
     },
     "output_type": "display_data"
    }
   ],
   "source": [
    "fig, axs = plt.subplots(2,4)#,figsize=(8,4))\n",
    "a = list(axs[0])\n",
    "a.extend(list(axs[1]))\n",
    "S_lst = (S1,S2,S3,S4,S5,S6,S7,S8)\n",
    "for n,ax,S in list(zip(range(len(S_lst)), a, S_lst)):\n",
    "#     print(ax)\n",
    "    ax.imshow(S)\n",
    "    ax.axis('off')\n",
    "    ax.set_title(f'$S{n+1}$')\n",
    "fig.savefig('Figures/fast_intersection_coordinates.svg')"
   ]
  },
  {
   "cell_type": "code",
   "execution_count": 85,
   "metadata": {
    "hidden": true
   },
   "outputs": [
    {
     "data": {
      "image/png": "[encoded data removed]",
      "text/plain": [
       "<Figure size 432x288 with 4 Axes>"
      ]
     },
     "metadata": {
      "needs_background": "light"
     },
     "output_type": "display_data"
    }
   ],
   "source": [
    "C1 = np.less_equal(S1, S2)\n",
    "C2 = np.greater_equal(S3, S4)\n",
    "C3 = np.less_equal(S5, S6)\n",
    "C4 = np.greater_equal(S7, S8)\n",
    "\n",
    "fig, axs = plt.subplots(1,4)#,figsize=(8,4))\n",
    "# a = list(axs[0])\n",
    "# a.extend(list(axs[1]))\n",
    "a = axs\n",
    "S_lst = (C1,C2,C3,C4)\n",
    "for n,ax,S in list(zip(range(len(S_lst)), a, S_lst)):\n",
    "#     print(ax)\n",
    "    ax.imshow(S)\n",
    "    ax.axis('off')\n",
    "    ax.set_title(f'$C{n+1}$')\n",
    "fig.savefig('Figures/fast_intersection_booleans.pdf')"
   ]
  },
  {
   "cell_type": "code",
   "execution_count": 99,
   "metadata": {
    "hidden": true
   },
   "outputs": [
    {
     "data": {
      "image/png": "[encoded data removed]",
      "text/plain": [
       "<Figure size 288x288 with 1 Axes>"
      ]
     },
     "metadata": {
      "needs_background": "light"
     },
     "output_type": "display_data"
    }
   ],
   "source": [
    "a, b = 1, 2\n",
    "phi = np.linspace(3, 10, 100)\n",
    "x1 = a*phi - b*np.sin(phi)\n",
    "y1 = a - b*np.cos(phi)\n",
    "\n",
    "x2=phi\n",
    "y2=np.sin(phi)+2\n",
    "tips = intersection(x1,y1,x2,y2)\n",
    "x,y = tips\n",
    "plt.figure(figsize=(4,4))\n",
    "plt.plot(y1,x1,c='r')\n",
    "plt.plot(y2,x2,c='g')\n",
    "plt.plot(y,x,'*b')\n",
    "plt.axis('off')\n",
    "# plt.show()\n",
    "plt.savefig('Figures/fast_intersection_example.svg')"
   ]
  },
  {
   "cell_type": "markdown",
   "metadata": {},
   "source": [
    "# TODO: make/test rotate function for exception handling in intersect()\n",
    "_application: retry funny intersection calls with a 45º rotation_<br>\n",
    "if intersections(x) fails:\n",
    "    return $R^{-1}\\text{intersections}(X)R$ for rotation by pi/4 in out-of-plane axis<br>\n",
    "`scipy.ndimage.rotate(input, angle, axes=(1, 0), reshape=True, output=None, order=3, mode='constant', cval=0.0, prefilter=True)`"
   ]
  },
  {
   "cell_type": "code",
   "execution_count": null,
   "metadata": {},
   "outputs": [],
   "source": []
  },
  {
   "cell_type": "code",
   "execution_count": null,
   "metadata": {},
   "outputs": [],
   "source": []
  },
  {
   "cell_type": "code",
   "execution_count": null,
   "metadata": {},
   "outputs": [],
   "source": []
  }
 ],
 "metadata": {
  "kernelspec": {
   "display_name": "Python 3",
   "language": "python",
   "name": "python3"
  },
  "language_info": {
   "codemirror_mode": {
    "name": "ipython",
    "version": 3
   },
   "file_extension": ".py",
   "mimetype": "text/x-python",
   "name": "python",
   "nbconvert_exporter": "python",
   "pygments_lexer": "ipython3",
   "version": "3.7.7"
  },
  "varInspector": {
   "cols": {
    "lenName": 16,
    "lenType": 16,
    "lenVar": 40
   },
   "kernels_config": {
    "python": {
     "delete_cmd_postfix": "",
     "delete_cmd_prefix": "del ",
     "library": "var_list.py",
     "varRefreshCmd": "print(var_dic_list())"
    },
    "r": {
     "delete_cmd_postfix": ") ",
     "delete_cmd_prefix": "rm(",
     "library": "var_list.r",
     "varRefreshCmd": "cat(var_dic_list()) "
    }
   },
   "types_to_exclude": [
    "module",
    "function",
    "builtin_function_or_method",
    "instance",
    "_Feature"
   ],
   "window_display": false
  }
 },
 "nbformat": 4,
 "nbformat_minor": 4
}
