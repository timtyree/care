{
 "cells": [
  {
   "cell_type": "markdown",
   "metadata": {},
   "source": [
    "# Finite Volume Method on an example patient's right atrium\n",
    "\n",
    "Timothy Tyree\n",
    "\n",
    "10.12.2019"
   ]
  },
  {
   "cell_type": "code",
   "execution_count": 2,
   "metadata": {},
   "outputs": [
    {
     "name": "stdout",
     "output_type": "stream",
     "text": [
      "********************************************************************************\n",
      "WARNING: Imported VTK version (8.1) does not match the one used\n",
      "         to build the TVTK classes (8.2). This may cause problems.\n",
      "         Please rebuild TVTK.\n",
      "********************************************************************************\n",
      "\n",
      "Notebook initialized with ipy backend.\n"
     ]
    }
   ],
   "source": [
    "#launched by conda run ipython3 notebook\n",
    "from fipy import CellVariable, Variable, Gmsh2DIn3DSpace, GaussianNoiseVariable, Viewer, TransientTerm, DiffusionTerm, DefaultSolver, MayaviClient\n",
    "from fipy.tools import numerix\n",
    "import numpy as np\n",
    "import pandas as pd\n",
    "# import 2to3\n",
    "import mayavi.mlab as mlab\n",
    "mlab.init_notebook()\n",
    "from numpy import pi, sin, cos, mgrid"
   ]
  },
  {
   "cell_type": "markdown",
   "metadata": {},
   "source": [
    "#  mlab does work in 3D"
   ]
  },
  {
   "cell_type": "code",
   "execution_count": 14,
   "metadata": {},
   "outputs": [],
   "source": [
    "# Create the data.\n",
    "dphi, dtheta = pi/250.0, pi/250.0\n",
    "[phi,theta] = mgrid[0:pi+dphi*1.5:dphi,0:2*pi+dtheta*1.5:dtheta]\n",
    "m0 = 4; m1 = 3; m2 = 2; m3 = 3; m4 = 6; m5 = 2; m6 = 6; m7 = 4;\n",
    "r = sin(m0*phi)**m1 + cos(m2*phi)**m3 + sin(m4*theta)**m5 + cos(m6*theta)**m7\n",
    "x = r*sin(phi)*cos(theta)\n",
    "y = r*cos(phi)\n",
    "z = r*sin(phi)*sin(theta)\n",
    "\n",
    "mlab.clf()\n",
    "s = mlab.mesh(x, y, z)\n",
    "# mlab.plot3D()\n"
   ]
  },
  {
   "cell_type": "code",
   "execution_count": 15,
   "metadata": {},
   "outputs": [],
   "source": [
    "x, y, z, value = np.random.random((4, 40))\n",
    "# mlab.points3d(x, y, z, value)\n",
    "# mlab.test_plot3d()"
   ]
  },
  {
   "cell_type": "code",
   "execution_count": 16,
   "metadata": {},
   "outputs": [],
   "source": [
    "mlab.clf()  # Clear the figure\n",
    "# t = np.linspace(0, 20, 200)\n",
    "# mlab.plot3d(np.sin(t), np.cos(t), 0.1*t, t)"
   ]
  },
  {
   "cell_type": "code",
   "execution_count": 66,
   "metadata": {},
   "outputs": [],
   "source": []
  },
  {
   "cell_type": "code",
   "execution_count": null,
   "metadata": {},
   "outputs": [],
   "source": []
  },
  {
   "cell_type": "markdown",
   "metadata": {},
   "source": [
    "# fipy viewer doesn't work in 3D"
   ]
  },
  {
   "cell_type": "code",
   "execution_count": 2,
   "metadata": {},
   "outputs": [],
   "source": [
    "#import the .geo file for patient 85's right atrium\n",
    "geodir = '../geo/pt85_RA.geo'\n",
    "mesh = Gmsh2DIn3DSpace(geodir)\n",
    "phi = CellVariable(name=r\"$\\phi$\", mesh=mesh)\n",
    "phi.setValue(GaussianNoiseVariable(mesh=mesh, mean=0.5, variance=0.01))"
   ]
  },
  {
   "cell_type": "code",
   "execution_count": 3,
   "metadata": {},
   "outputs": [
    {
     "name": "stdout",
     "output_type": "stream",
     "text": [
      "{'min': [10.949102, -123.754646, 200.740952], 'max': [48.448502, -81.859642, 253.674362]}\n"
     ]
    }
   ],
   "source": [
    "# viewer = Viewer(vars=phi, datamin=0., datamax=1., xmin=-2.5, zmax=2.5)\n",
    "dims = mesh.extents\n",
    "print(dims)\n"
   ]
  },
  {
   "cell_type": "code",
   "execution_count": 41,
   "metadata": {},
   "outputs": [
    {
     "ename": "TypeError",
     "evalue": "test_plot3d() takes 0 positional arguments but 1 was given",
     "output_type": "error",
     "traceback": [
      "\u001b[0;31m---------------------------------------------------------------------------\u001b[0m",
      "\u001b[0;31mTypeError\u001b[0m                                 Traceback (most recent call last)",
      "\u001b[0;32m<ipython-input-41-2deffb813d9f>\u001b[0m in \u001b[0;36m<module>\u001b[0;34m\u001b[0m\n\u001b[1;32m      1\u001b[0m \u001b[0;31m# viewer = MayaviClient(vars=phi,datamin=0., datamax=1.,daemon_file=geodir)\u001b[0m\u001b[0;34m\u001b[0m\u001b[0;34m\u001b[0m\u001b[0;34m\u001b[0m\u001b[0m\n\u001b[0;32m----> 2\u001b[0;31m \u001b[0ms\u001b[0m \u001b[0;34m=\u001b[0m \u001b[0mmlab\u001b[0m\u001b[0;34m.\u001b[0m\u001b[0mtest_plot3d\u001b[0m\u001b[0;34m(\u001b[0m\u001b[0mmesh\u001b[0m\u001b[0;34m)\u001b[0m\u001b[0;34m\u001b[0m\u001b[0;34m\u001b[0m\u001b[0m\n\u001b[0m",
      "\u001b[0;31mTypeError\u001b[0m: test_plot3d() takes 0 positional arguments but 1 was given"
     ]
    }
   ],
   "source": [
    "# viewer = MayaviClient(vars=phi,datamin=0., datamax=1.,daemon_file=geodir)"
   ]
  },
  {
   "cell_type": "code",
   "execution_count": 44,
   "metadata": {},
   "outputs": [],
   "source": [
    "# viewer = MayaviClient(vars=phi, datamin=0., datamax=1.)\n",
    "#TODO: carefully go through the sphere diffusion example and see how to make a daemon file"
   ]
  },
  {
   "cell_type": "code",
   "execution_count": 45,
   "metadata": {},
   "outputs": [],
   "source": [
    "# x, y, z = mesh.cellCenters\n",
    "# xyzVar = CellVariable(mesh=mesh, name=r\"x y z\", value=x * y * z)\n",
    "# k = 1.*Variable(name=\"k\", value=0.)\n",
    "# viewer = MayaviClient(vars=numerix.sin(k * xyzVar), fps=1.0, daeman_file='../tmp/vwr.png',\n",
    "#                      limits={'ymin': 0.1, 'ymax': 0.9},\n",
    "#                      datamin=-0.9, datamax=2.0,\n",
    "#                       title=\"MayaviClient test\")\n",
    "# viewer = Viewer(vars=phi, datamin=0., datamax=1., xmin=-2.5, zmax=2.5, FIPY_VIEWER='mayavi')"
   ]
  },
  {
   "cell_type": "code",
   "execution_count": 30,
   "metadata": {},
   "outputs": [],
   "source": []
  },
  {
   "cell_type": "code",
   "execution_count": 50,
   "metadata": {},
   "outputs": [],
   "source": [
    "# viewer = Viewer(vars=phi, datamin=0., datamax=1.,xmin=-11., ymin=-124., zmax=254.)#, file=geodir)"
   ]
  },
  {
   "cell_type": "code",
   "execution_count": 52,
   "metadata": {},
   "outputs": [],
   "source": [
    "# MayaviClient(vars=numerix.sin(k * xyzVar), limits={'ymin': 0.1, 'ymax': 0.9}, datamin=-0.9, datamax=2.0, title=\"MayaviClient test\")"
   ]
  },
  {
   "cell_type": "markdown",
   "metadata": {},
   "source": [
    "# plot a patient atrium mesh in mayavi"
   ]
  },
  {
   "cell_type": "code",
   "execution_count": 3,
   "metadata": {},
   "outputs": [],
   "source": [
    "#import example patient geometry .txts with np.loadtxt\n",
    "patstr= 'pt85_RA'\n",
    "vtdir = '../patients/'+patstr+'_vert'\n",
    "fcdir = '../patients/'+patstr+'_faces'\n",
    "vt = np.loadtxt(vtdir, delimiter=None, usecols=(0,1,2), dtype='float')\n",
    "fc = np.loadtxt(fcdir, delimiter=None, usecols=(0,1,2), dtype='int')\n",
    "fc = fc - 1 #fix the 1 indexing of input"
   ]
  },
  {
   "cell_type": "code",
   "execution_count": 20,
   "metadata": {},
   "outputs": [],
   "source": [
    "mlab.clf()\n",
    "s = mlab.triangular_mesh(vt[:,0], vt[:,1], vt[:,2], fc)"
   ]
  },
  {
   "cell_type": "code",
   "execution_count": 21,
   "metadata": {},
   "outputs": [
    {
     "data": {
      "application/vnd.jupyter.widget-view+json": {
       "model_id": "5211652909114bc3ae3c085cc86da2bf",
       "version_major": 2,
       "version_minor": 0
      },
      "text/plain": [
       "Image(value=b'\\x89PNG\\r\\n\\x1a\\n\\x00\\x00\\x00\\rIHDR\\x00\\x00\\x01\\x90\\x00\\x00\\x01^\\x08\\x02\\x00\\x00\\x00$?\\xde_\\x00\\…"
      ]
     },
     "metadata": {},
     "output_type": "display_data"
    }
   ],
   "source": [
    "s"
   ]
  },
  {
   "cell_type": "code",
   "execution_count": null,
   "metadata": {},
   "outputs": [],
   "source": []
  }
 ],
 "metadata": {
  "kernelspec": {
   "display_name": "Python 3",
   "language": "python",
   "name": "python3"
  },
  "language_info": {
   "codemirror_mode": {
    "name": "ipython",
    "version": 3
   },
   "file_extension": ".py",
   "mimetype": "text/x-python",
   "name": "python",
   "nbconvert_exporter": "python",
   "pygments_lexer": "ipython3",
   "version": "3.7.4"
  },
  "latex_envs": {
   "LaTeX_envs_menu_present": true,
   "autoclose": false,
   "autocomplete": true,
   "bibliofile": "biblio.bib",
   "cite_by": "apalike",
   "current_citInitial": 1,
   "eqLabelWithNumbers": true,
   "eqNumInitial": 1,
   "hotkeys": {
    "equation": "Ctrl-E",
    "itemize": "Ctrl-I"
   },
   "labels_anchors": false,
   "latex_user_defs": false,
   "report_style_numbering": false,
   "user_envs_cfg": false
  }
 },
 "nbformat": 4,
 "nbformat_minor": 2
}
