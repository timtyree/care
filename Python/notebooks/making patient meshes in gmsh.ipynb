{
 "cells": [
  {
   "cell_type": "markdown",
   "metadata": {},
   "source": [
    "## Converting .txt files of patient atrium geometries to gmsh meshes .geo\n",
    "\n",
    "Timothy Tyree\n",
    "\n",
    "10.12.2019\n",
    "\n",
    "In fipy, Gmsh2DIn3DSpace takes .geo files as arguments.  I have access to a (large registry of) patient atrium geometry in the form of tab delimated .txt files.  In order to simulate a model for atrial fibrillation on an atrium geometry using fipy, having a script to make those .geo files, then, is necessary.\n",
    "\n",
    "It would be good to also take a given mesh and return the Delaunay triangulation of it, which could see slightly improved performance if the provided meshes have a lot of small angles, which is known to cause issues in fipy.\n",
    "\n",
    "From wikipedia:\n",
    "\"In mathematics and computational geometry, a Delaunay triangulation (also known as a Delone triangulation) for a given set P of discrete points in a plane is a triangulation DT(P) such that no point in P is inside the circumcircle of any triangle in DT(P). Delaunay triangulations maximize the minimum angle of all the angles of the triangles in the triangulation; they tend to avoid sliver triangles. The triangulation is named after Boris Delaunay for his work on this topic from 1934.\"\n",
    "\n",
    "pygmsh reccomends using the 'openCASCADE' kernel for more complicated meshes.  This will become necessary for higher spatial resolution atrium geometries."
   ]
  },
  {
   "cell_type": "code",
   "execution_count": 1,
   "metadata": {},
   "outputs": [
    {
     "ename": "ModuleNotFoundError",
     "evalue": "No module named 'pygmsh'",
     "output_type": "error",
     "traceback": [
      "\u001b[0;31m---------------------------------------------------------------------------\u001b[0m",
      "\u001b[0;31mModuleNotFoundError\u001b[0m                       Traceback (most recent call last)",
      "\u001b[0;32m<ipython-input-1-8624ad20758c>\u001b[0m in \u001b[0;36m<module>\u001b[0;34m\u001b[0m\n\u001b[0;32m----> 1\u001b[0;31m \u001b[0;32mimport\u001b[0m \u001b[0mpygmsh\u001b[0m \u001b[0;32mas\u001b[0m \u001b[0mgm\u001b[0m\u001b[0;34m\u001b[0m\u001b[0;34m\u001b[0m\u001b[0m\n\u001b[0m\u001b[1;32m      2\u001b[0m \u001b[0;32mimport\u001b[0m \u001b[0mnumpy\u001b[0m \u001b[0;32mas\u001b[0m \u001b[0mnp\u001b[0m\u001b[0;34m\u001b[0m\u001b[0;34m\u001b[0m\u001b[0m\n",
      "\u001b[0;31mModuleNotFoundError\u001b[0m: No module named 'pygmsh'"
     ]
    }
   ],
   "source": [
    "import pygmsh as gm\n",
    "import numpy as np"
   ]
  },
  {
   "cell_type": "code",
   "execution_count": 2,
   "metadata": {},
   "outputs": [
    {
     "ename": "NameError",
     "evalue": "name 'np' is not defined",
     "output_type": "error",
     "traceback": [
      "\u001b[0;31m---------------------------------------------------------------------------\u001b[0m",
      "\u001b[0;31mNameError\u001b[0m                                 Traceback (most recent call last)",
      "\u001b[0;32m<ipython-input-2-3657f5d36434>\u001b[0m in \u001b[0;36m<module>\u001b[0;34m\u001b[0m\n\u001b[1;32m      3\u001b[0m \u001b[0mvtdir\u001b[0m \u001b[0;34m=\u001b[0m \u001b[0;34m'../patients/'\u001b[0m\u001b[0;34m+\u001b[0m\u001b[0mpatstr\u001b[0m\u001b[0;34m+\u001b[0m\u001b[0;34m'_vert'\u001b[0m\u001b[0;34m\u001b[0m\u001b[0;34m\u001b[0m\u001b[0m\n\u001b[1;32m      4\u001b[0m \u001b[0mfcdir\u001b[0m \u001b[0;34m=\u001b[0m \u001b[0;34m'../patients/'\u001b[0m\u001b[0;34m+\u001b[0m\u001b[0mpatstr\u001b[0m\u001b[0;34m+\u001b[0m\u001b[0;34m'_faces'\u001b[0m\u001b[0;34m\u001b[0m\u001b[0;34m\u001b[0m\u001b[0m\n\u001b[0;32m----> 5\u001b[0;31m \u001b[0mvt\u001b[0m \u001b[0;34m=\u001b[0m \u001b[0mnp\u001b[0m\u001b[0;34m.\u001b[0m\u001b[0mloadtxt\u001b[0m\u001b[0;34m(\u001b[0m\u001b[0mvtdir\u001b[0m\u001b[0;34m,\u001b[0m \u001b[0mdelimiter\u001b[0m\u001b[0;34m=\u001b[0m\u001b[0;32mNone\u001b[0m\u001b[0;34m,\u001b[0m \u001b[0musecols\u001b[0m\u001b[0;34m=\u001b[0m\u001b[0;34m(\u001b[0m\u001b[0;36m0\u001b[0m\u001b[0;34m,\u001b[0m\u001b[0;36m1\u001b[0m\u001b[0;34m,\u001b[0m\u001b[0;36m2\u001b[0m\u001b[0;34m)\u001b[0m\u001b[0;34m,\u001b[0m \u001b[0mdtype\u001b[0m\u001b[0;34m=\u001b[0m\u001b[0;34m'float'\u001b[0m\u001b[0;34m)\u001b[0m\u001b[0;34m\u001b[0m\u001b[0;34m\u001b[0m\u001b[0m\n\u001b[0m\u001b[1;32m      6\u001b[0m \u001b[0mfc\u001b[0m \u001b[0;34m=\u001b[0m \u001b[0mnp\u001b[0m\u001b[0;34m.\u001b[0m\u001b[0mloadtxt\u001b[0m\u001b[0;34m(\u001b[0m\u001b[0mfcdir\u001b[0m\u001b[0;34m,\u001b[0m \u001b[0mdelimiter\u001b[0m\u001b[0;34m=\u001b[0m\u001b[0;32mNone\u001b[0m\u001b[0;34m,\u001b[0m \u001b[0musecols\u001b[0m\u001b[0;34m=\u001b[0m\u001b[0;34m(\u001b[0m\u001b[0;36m0\u001b[0m\u001b[0;34m,\u001b[0m\u001b[0;36m1\u001b[0m\u001b[0;34m,\u001b[0m\u001b[0;36m2\u001b[0m\u001b[0;34m)\u001b[0m\u001b[0;34m,\u001b[0m \u001b[0mdtype\u001b[0m\u001b[0;34m=\u001b[0m\u001b[0;34m'int'\u001b[0m\u001b[0;34m)\u001b[0m\u001b[0;34m\u001b[0m\u001b[0;34m\u001b[0m\u001b[0m\n\u001b[1;32m      7\u001b[0m \u001b[0mfc\u001b[0m \u001b[0;34m=\u001b[0m \u001b[0mfc\u001b[0m \u001b[0;34m-\u001b[0m \u001b[0;36m1\u001b[0m \u001b[0;31m#fix the 1 indexing of input\u001b[0m\u001b[0;34m\u001b[0m\u001b[0;34m\u001b[0m\u001b[0m\n",
      "\u001b[0;31mNameError\u001b[0m: name 'np' is not defined"
     ]
    }
   ],
   "source": [
    "#import example patient geometry .txts with np.loadtxt\n",
    "patstr= 'pt85_RA'\n",
    "vtdir = '../patients/'+patstr+'_vert'\n",
    "fcdir = '../patients/'+patstr+'_faces'\n",
    "vt = np.loadtxt(vtdir, delimiter=None, usecols=(0,1,2), dtype='float')\n",
    "fc = np.loadtxt(fcdir, delimiter=None, usecols=(0,1,2), dtype='int')\n",
    "fc = fc - 1 #fix the 1 indexing of input\n",
    "#   TODO: make this interactive so I can manually reuse this easily\n",
    "#   TODO: use 'openCASCADE' kernel for more complicated meshes\n",
    "#   TODO: make this ipynb into a .py script that i can call over a database"
   ]
  },
  {
   "cell_type": "code",
   "execution_count": 88,
   "metadata": {},
   "outputs": [
    {
     "name": "stdout",
     "output_type": "stream",
     "text": [
      "raw bounding cube: (48.448502, -81.859642, 253.674362, 10.949102, -123.754646, 200.740952)\n"
     ]
    }
   ],
   "source": [
    "#check that dimensions aggree\n",
    "assert vt.shape[1] is fc.shape[1]\n",
    "assert fc.flatten().max() <= vt.shape[0]\n",
    "assert fc.flatten().min() >= 0\n",
    "#calculate max pixel dimensions\n",
    "dims = (np.max(vt[:,0]), np.max(vt[:,1]), np.max(vt[:,2]),\n",
    "       np.min(vt[:,0]), np.min(vt[:,1]), np.min(vt[:,2]))\n",
    "print('raw bounding cube: ' + str(dims))"
   ]
  },
  {
   "cell_type": "code",
   "execution_count": 89,
   "metadata": {},
   "outputs": [],
   "source": [
    "#initiate a gmsh object\n",
    "geom = gm.built_in.Geometry()\n",
    "#for each face in fc\n",
    "for face in fc:\n",
    "    #add the face to a gmsh object, assuming triangles are consistently oriented\n",
    "    geom.add_polygon(vt[face-1], make_surface=True)"
   ]
  },
  {
   "cell_type": "code",
   "execution_count": 90,
   "metadata": {},
   "outputs": [
    {
     "name": "stdout",
     "output_type": "stream",
     "text": [
      "\n",
      "geo file: ../geo/pt85_RA.geo\n"
     ]
    }
   ],
   "source": [
    "# generate and export .geo mesh\n",
    "geodir= '../geo/'+patstr+'.geo'\n",
    "mesh = gm.generate_mesh(geom, verbose=False, geo_filename=geodir)"
   ]
  },
  {
   "cell_type": "code",
   "execution_count": 91,
   "metadata": {},
   "outputs": [],
   "source": [
    "# once the mesh is create, it would be good to visualize it.\n",
    "# TODO: make a file like this for .stl files regarding Eshom's project"
   ]
  }
 ],
 "metadata": {
  "kernelspec": {
   "display_name": "Python 3",
   "language": "python",
   "name": "python3"
  },
  "language_info": {
   "codemirror_mode": {
    "name": "ipython",
    "version": 3
   },
   "file_extension": ".py",
   "mimetype": "text/x-python",
   "name": "python",
   "nbconvert_exporter": "python",
   "pygments_lexer": "ipython3",
   "version": "3.7.3"
  }
 },
 "nbformat": 4,
 "nbformat_minor": 2
}
