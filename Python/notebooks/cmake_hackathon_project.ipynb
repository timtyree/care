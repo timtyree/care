{
 "cells": [
  {
   "cell_type": "markdown",
   "metadata": {},
   "source": [
    "# Outline of GPU Hackathon Project\n",
    "Timothy Tyree<br>\n",
    "3.8.2020<br>"
   ]
  },
  {
   "cell_type": "code",
   "execution_count": 4,
   "metadata": {},
   "outputs": [],
   "source": [
    "import cmake, os, sys, shutil, time, click"
   ]
  },
  {
   "cell_type": "code",
   "execution_count": 18,
   "metadata": {},
   "outputs": [],
   "source": [
    "#cmake appears to contain all the functionality for the automatic generation of a cmake file.\n",
    "#with a cmake file, my C/C++ coding team can efficiently implement the sudocode I provide in commentted out pseudocode."
   ]
  },
  {
   "cell_type": "markdown",
   "metadata": {},
   "source": [
    "# outline of a simplicial_geometry interface for AF project\n",
    "#####LE GRANDE TODO: figure out the minimal effort way to get diffusion finite volume working supported by cuda acceleration\n"
   ]
  },
  {
   "cell_type": "code",
   "execution_count": 13,
   "metadata": {},
   "outputs": [],
   "source": [
    "##### abstract classes\n",
    "#class simplex_boundary:\n",
    "\n",
    "#class simplex extends simplex_boundary:\n",
    "\n",
    "#class abstract_mesh:\n",
    "# container class for collections of simplices embeddable in n real dimensions.  For AF, we take n=3.\n",
    "# supports abstract simplicial geometry functionality\n",
    "# self.rendering == False"
   ]
  },
  {
   "cell_type": "code",
   "execution_count": 17,
   "metadata": {},
   "outputs": [],
   "source": [
    "##### datatype classes\n",
    "#class triangle extends simplex:\n",
    "#     each triangle possesses three edges\n",
    "\n",
    "#class edge extends simplex:\n",
    "#     each edge posseses two vertices\n",
    "#     each edge may belong to up to two triangles\n",
    "\n",
    "#class vertex extends simplex_boundary:\n",
    "\n",
    "#class environment extends abstract_mesh:\n",
    "#     contains functionality supporting finite volume simulation of atrial fibrillation\n",
    "#     LE GRANDE TODO: figure out the minimal effort way to get diffusion finite volume working supported by cuda acceleration"
   ]
  },
  {
   "cell_type": "code",
   "execution_count": 16,
   "metadata": {},
   "outputs": [],
   "source": [
    "##### spiral tip selection functionality --> check cuda_by_example for solutions\n",
    "#TODO: outline a marching triangle algorithm for identifying oriented contours\n",
    "#TODO: translate contour intersection algorithm from python into parallelizeable a pseudocode\n",
    "#TODO: figure out how stream points from a cuda kernel\n",
    "\n",
    "\n"
   ]
  },
  {
   "cell_type": "code",
   "execution_count": null,
   "metadata": {},
   "outputs": [],
   "source": [
    "##### two step synchronous updating implementation of finite volume simulation\n",
    "#STEP 1: update triangles according to edges on boundary\n",
    "#      TODO: how do?\n",
    "#STEP 2: update edges according to adjacent triangles\n",
    "#      TODO: how do?\n",
    "#TODO: implement ^these two steps in the functions for a simple example\n",
    "#TODO: test the simple example is working numerically\n",
    "#TODO: extend the simple example to do what I want, \n",
    "\n",
    "# @triangle\n",
    "# def time_step(self, dt):\n",
    "#     #STEP 1: update triangles according to edges on boundary\n",
    "#     return self\n",
    "    \n",
    "# @edge\n",
    "# def time_step(self, dt):\n",
    "#     #STEP 2: update edges according to adjacent triangles\n",
    "#     return self\n",
    "\n",
    "# @environment\n",
    "# def render(self):\n",
    "#     #is this the best method, check cuda by example\n",
    "#     dt = self.dt\n",
    "#     while self.rendering==True:\n",
    "#         for triangle in self.triangles:\n",
    "#             triangle.time_step(dt)\n",
    "#         for edge in self.edges:\n",
    "#             edge.time_step(dt)\n",
    "#         yield self.get_spiral_tips()\n",
    "    "
   ]
  },
  {
   "cell_type": "code",
   "execution_count": 14,
   "metadata": {},
   "outputs": [],
   "source": []
  },
  {
   "cell_type": "code",
   "execution_count": null,
   "metadata": {},
   "outputs": [],
   "source": []
  }
 ],
 "metadata": {
  "kernelspec": {
   "display_name": "Python 3",
   "language": "python",
   "name": "python3"
  },
  "language_info": {
   "codemirror_mode": {
    "name": "ipython",
    "version": 3
   },
   "file_extension": ".py",
   "mimetype": "text/x-python",
   "name": "python",
   "nbconvert_exporter": "python",
   "pygments_lexer": "ipython3",
   "version": "3.7.4"
  }
 },
 "nbformat": 4,
 "nbformat_minor": 2
}
